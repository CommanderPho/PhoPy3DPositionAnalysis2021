{
 "cells": [
  {
   "cell_type": "code",
   "execution_count": 1,
   "id": "initial_id",
   "metadata": {
    "ExecuteTime": {
     "end_time": "2023-11-16T23:21:20.608442900Z",
     "start_time": "2023-11-16T23:21:20.217442100Z"
    },
    "collapsed": true,
    "notebookRunGroups": {
     "groupValue": "1"
    }
   },
   "outputs": [
    {
     "name": "stdout",
     "output_type": "stream",
     "text": [
      "Exception reporting mode: Context\n",
      "Automatic pdb calling has been turned OFF\n",
      "build_module_logger(module_name=\"Spike3D.pipeline\"):\n",
      "\t Module logger com.PhoHale.Spike3D.pipeline has file logging enabled and will log to EXTERNAL\\TESTING\\Logging\\debug_com.PhoHale.Spike3D.pipeline.log\n",
      "DAY_DATE_STR: 2024-01-02, DAY_DATE_TO_USE: 2024-01-02\n",
      "global_data_root_parent_path changed to W:\\Data\n"
     ]
    },
    {
     "data": {
      "application/vnd.jupyter.widget-view+json": {
       "model_id": "c100c56881694c1daf982c362899f9ee",
       "version_major": 2,
       "version_minor": 0
      },
      "text/plain": [
       "ToggleButtons(description='Data Root:', layout=Layout(width='auto'), options=(WindowsPath('W:/Data'),), style=…"
      ]
     },
     "execution_count": 1,
     "metadata": {},
     "output_type": "execute_result"
    }
   ],
   "source": [
    "%config IPCompleter.use_jedi = False\n",
    "# %xmode Verbose\n",
    "%xmode context\n",
    "%pdb off\n",
    "%load_ext viztracer\n",
    "from viztracer import VizTracer\n",
    "%load_ext autoreload\n",
    "%autoreload 3\n",
    "import sys\n",
    "from typing import Dict, List, Tuple, Optional\n",
    "from pathlib import Path\n",
    "\n",
    "# required to enable non-blocking interaction:\n",
    "%gui qt5\n",
    "\n",
    "from copy import deepcopy\n",
    "from numba import jit\n",
    "import numpy as np\n",
    "import pandas as pd\n",
    "pd.options.mode.chained_assignment = None  # default='warn'\n",
    "# pd.options.mode.dtype_backend = 'pyarrow' # use new pyarrow backend instead of numpy\n",
    "from attrs import define, field, fields, Factory\n",
    "import tables as tb\n",
    "from datetime import datetime, timedelta\n",
    "\n",
    "# Pho's Formatting Preferences\n",
    "from pyphocorehelpers.preferences_helpers import set_pho_preferences, set_pho_preferences_concise, set_pho_preferences_verbose\n",
    "set_pho_preferences_concise()\n",
    "# Jupyter-lab enable printing for any line on its own (instead of just the last one in the cell)\n",
    "from IPython.core.interactiveshell import InteractiveShell\n",
    "InteractiveShell.ast_node_interactivity = \"all\"\n",
    "\n",
    "from pyphocorehelpers.print_helpers import get_now_time_str, get_now_day_str\n",
    "\n",
    "## Pho's Custom Libraries:\n",
    "from pyphocorehelpers.Filesystem.path_helpers import find_first_extant_path\n",
    "from pyphocorehelpers.Filesystem.open_in_system_file_manager import reveal_in_system_file_manager\n",
    "\n",
    "# NeuroPy (Diba Lab Python Repo) Loading\n",
    "# from neuropy import core\n",
    "from neuropy.analyses.placefields import PlacefieldComputationParameters\n",
    "from neuropy.core.epoch import NamedTimerange, Epoch\n",
    "from neuropy.core.ratemap import Ratemap\n",
    "from neuropy.core.session.Formats.BaseDataSessionFormats import DataSessionFormatRegistryHolder\n",
    "from neuropy.core.session.Formats.Specific.KDibaOldDataSessionFormat import KDibaOldDataSessionFormatRegisteredClass\n",
    "from neuropy.utils.matplotlib_helpers import matplotlib_file_only, matplotlib_configuration, matplotlib_configuration_update\n",
    "from neuropy.core.neuron_identities import NeuronIdentityTable, neuronTypesList, neuronTypesEnum\n",
    "from neuropy.utils.mixins.AttrsClassHelpers import AttrsBasedClassHelperMixin, serialized_field, serialized_attribute_field, non_serialized_field, custom_define\n",
    "from neuropy.utils.mixins.HDF5_representable import HDF_DeserializationMixin, post_deserialize, HDF_SerializationMixin, HDFMixin, HDF_Converter\n",
    "\n",
    "## For computation parameters:\n",
    "from neuropy.analyses.placefields import PlacefieldComputationParameters\n",
    "from neuropy.utils.dynamic_container import DynamicContainer\n",
    "from neuropy.utils.result_context import IdentifyingContext\n",
    "from neuropy.core.session.Formats.BaseDataSessionFormats import find_local_session_paths\n",
    "from neuropy.core.neurons import NeuronType\n",
    "from neuropy.core.user_annotations import UserAnnotationsManager\n",
    "from neuropy.core.position import Position\n",
    "from neuropy.core.session.dataSession import DataSession\n",
    "from neuropy.analyses.time_dependent_placefields import PfND_TimeDependent, PlacefieldSnapshot\n",
    "from neuropy.utils.debug_helpers import debug_print_placefield, debug_print_subsession_neuron_differences, debug_print_ratemap, debug_print_spike_counts, debug_plot_2d_binning, print_aligned_columns\n",
    "from neuropy.utils.debug_helpers import parameter_sweeps, _plot_parameter_sweep, compare_placefields_info\n",
    "from neuropy.utils.indexing_helpers import union_of_arrays, intersection_of_arrays, find_desired_sort_indicies, paired_incremental_sorting\n",
    "\n",
    "from pyphocorehelpers.print_helpers import print_object_memory_usage, print_dataframe_memory_usage, print_value_overview_only, DocumentationFilePrinter, print_keys_if_possible, generate_html_string, CapturedException, document_active_variables\n",
    "\n",
    "## Pho Programming Helpers:\n",
    "import inspect\n",
    "from pyphocorehelpers.general_helpers import inspect_callable_arguments, get_arguments_as_optional_dict, GeneratedClassDefinitionType, CodeConversion\n",
    "from pyphocorehelpers.print_helpers import DocumentationFilePrinter, TypePrintMode, print_keys_if_possible, debug_dump_object_member_shapes, print_value_overview_only, document_active_variables, CapturedException\n",
    "from pyphocorehelpers.programming_helpers import IPythonHelpers, PythonDictionaryDefinitionFormat, MemoryManagement\n",
    "from pyphocorehelpers.gui.Qt.TopLevelWindowHelper import TopLevelWindowHelper, print_widget_hierarchy\n",
    "\n",
    "# pyPhoPlaceCellAnalysis:\n",
    "from pyphoplacecellanalysis.General.Pipeline.NeuropyPipeline import NeuropyPipeline # get_neuron_identities\n",
    "from pyphoplacecellanalysis.General.Mixins.ExportHelpers import export_pyqtgraph_plot\n",
    "from pyphoplacecellanalysis.General.Batch.NonInteractiveProcessing import batch_load_session, batch_extended_computations, batch_extended_programmatic_figures\n",
    "from pyphoplacecellanalysis.General.Pipeline.NeuropyPipeline import PipelineSavingScheme\n",
    "\n",
    "import pyphoplacecellanalysis.External.pyqtgraph as pg\n",
    "\n",
    "from pyphoplacecellanalysis.General.Batch.NonInteractiveProcessing import batch_perform_all_plots\n",
    "from pyphoplacecellanalysis.General.Pipeline.Stages.ComputationFunctions.MultiContextComputationFunctions.LongShortTrackComputations import JonathanFiringRateAnalysisResult\n",
    "from pyphoplacecellanalysis.General.Mixins.CrossComputationComparisonHelpers import _find_any_context_neurons\n",
    "from pyphoplacecellanalysis.General.Batch.runBatch import BatchSessionCompletionHandler # for `post_compute_validate(...)`\n",
    "from pyphoplacecellanalysis.Analysis.Decoder.reconstruction import BasePositionDecoder\n",
    "from pyphoplacecellanalysis.SpecificResults.AcrossSessionResults import AcrossSessionsResults\n",
    "from pyphoplacecellanalysis.General.Pipeline.Stages.ComputationFunctions.SpikeAnalysis import SpikeRateTrends # for `_perform_long_short_instantaneous_spike_rate_groups_analysis`\n",
    "from pyphoplacecellanalysis.General.Pipeline.Stages.ComputationFunctions.MultiContextComputationFunctions.LongShortTrackComputations import SingleBarResult, InstantaneousSpikeRateGroupsComputation, TruncationCheckingResults # for `BatchSessionCompletionHandler`, `AcrossSessionsAggregator`\n",
    "from pyphoplacecellanalysis.General.Mixins.CrossComputationComparisonHelpers import SplitPartitionMembership\n",
    "from pyphoplacecellanalysis.General.Pipeline.Stages.ComputationFunctions.MultiContextComputationFunctions.DirectionalPlacefieldGlobalComputationFunctions import DirectionalPlacefieldGlobalComputationFunctions, DirectionalLapsResult, TrackTemplates\n",
    "from pyphoplacecellanalysis.General.Pipeline.Stages.ComputationFunctions.MultiContextComputationFunctions.RankOrderComputations import RankOrderGlobalComputationFunctions\n",
    "from pyphoplacecellanalysis.General.Pipeline.Stages.ComputationFunctions.MultiContextComputationFunctions.DirectionalPlacefieldGlobalComputationFunctions import TrackTemplates\n",
    "from pyphoplacecellanalysis.General.Pipeline.Stages.ComputationFunctions.MultiContextComputationFunctions.RankOrderComputations import RankOrderComputationsContainer, RankOrderResult\n",
    "\n",
    "\n",
    "# Plotting\n",
    "# import pylustrator # customization of figures\n",
    "import matplotlib\n",
    "import matplotlib as mpl\n",
    "import matplotlib.pyplot as plt\n",
    "_bak_rcParams = mpl.rcParams.copy()\n",
    "\n",
    "matplotlib.use('Qt5Agg')\n",
    "# %matplotlib inline\n",
    "# %matplotlib auto\n",
    "\n",
    "# _restore_previous_matplotlib_settings_callback = matplotlib_configuration_update(is_interactive=True, backend='Qt5Agg')\n",
    "_restore_previous_matplotlib_settings_callback = matplotlib_configuration_update(is_interactive=True, backend='Qt5Agg')\n",
    "\n",
    "\n",
    "# import pylustrator # call `pylustrator.start()` before creating your first figure in code.\n",
    "from pyphoplacecellanalysis.Pho2D.matplotlib.visualize_heatmap import visualize_heatmap\n",
    "from pyphoplacecellanalysis.Pho2D.matplotlib.visualize_heatmap import visualize_heatmap_pyqtgraph # used in `plot_kourosh_activity_style_figure`\n",
    "from pyphoplacecellanalysis.General.Pipeline.Stages.DisplayFunctions.SpikeRasters import plot_multiple_raster_plot, plot_raster_plot\n",
    "from pyphoplacecellanalysis.General.Mixins.DataSeriesColorHelpers import UnitColoringMode, DataSeriesColorHelpers\n",
    "from pyphoplacecellanalysis.General.Pipeline.Stages.DisplayFunctions.SpikeRasters import _build_default_tick, build_scatter_plot_kwargs\n",
    "from pyphoplacecellanalysis.GUI.PyQtPlot.Widgets.Mixins.Render2DScrollWindowPlot import Render2DScrollWindowPlotMixin, ScatterItemData\n",
    "from pyphoplacecellanalysis.General.Batch.NonInteractiveProcessing import batch_extended_programmatic_figures, batch_programmatic_figures\n",
    "from pyphoplacecellanalysis.General.Pipeline.Stages.ComputationFunctions.SpikeAnalysis import SpikeRateTrends\n",
    "from pyphoplacecellanalysis.General.Mixins.SpikesRenderingBaseMixin import SpikeEmphasisState\n",
    "\n",
    "from pyphoplacecellanalysis.SpecificResults.PhoDiba2023Paper import PAPER_FIGURE_figure_1_add_replay_epoch_rasters, PAPER_FIGURE_figure_1_full, PAPER_FIGURE_figure_3, main_complete_figure_generations\n",
    "from pyphoplacecellanalysis.SpecificResults.fourthYearPresentation import *\n",
    "\n",
    "# Jupyter Widget Interactive\n",
    "import ipywidgets as widgets\n",
    "from IPython.display import display, HTML\n",
    "from pyphocorehelpers.Filesystem.open_in_system_file_manager import reveal_in_system_file_manager\n",
    "from pyphoplacecellanalysis.GUI.IPyWidgets.pipeline_ipywidgets import interactive_pipeline_widget, interactive_pipeline_files\n",
    "from pyphocorehelpers.gui.Jupyter.simple_widgets import fullwidth_path_widget, render_colors\n",
    "\n",
    "from datetime import datetime, date, timedelta\n",
    "\n",
    "DAY_DATE_STR: str = date.today().strftime(\"%Y-%m-%d\")\n",
    "DAY_DATE_TO_USE = f'{DAY_DATE_STR}' # used for filenames throught the notebook\n",
    "print(f'DAY_DATE_STR: {DAY_DATE_STR}, DAY_DATE_TO_USE: {DAY_DATE_TO_USE}')\n",
    "\n",
    "\n",
    "from pyphocorehelpers.gui.Jupyter.simple_widgets import build_global_data_root_parent_path_selection_widget\n",
    "\n",
    "all_paths = [Path(r'/media/MAX/Data'), Path(r'W:\\Data'), Path(r'/home/halechr/cloud/turbo/Data'), Path(r'/Volumes/MoverNew/data'), Path(r'/home/halechr/FastData'), Path(r'/home/halechr/turbo/Data')]\n",
    "global_data_root_parent_path = None\n",
    "def on_user_update_path_selection(new_path: Path):\n",
    "\tglobal global_data_root_parent_path\n",
    "\tnew_global_data_root_parent_path = new_path.resolve()\n",
    "\tglobal_data_root_parent_path = new_global_data_root_parent_path\n",
    "\tprint(f'global_data_root_parent_path changed to {global_data_root_parent_path}')\n",
    "\tassert global_data_root_parent_path.exists(), f\"global_data_root_parent_path: {global_data_root_parent_path} does not exist! Is the right computer's config commented out above?\"\n",
    "\t\t\t\n",
    "global_data_root_parent_path_widget = build_global_data_root_parent_path_selection_widget(all_paths, on_user_update_path_selection)\n",
    "global_data_root_parent_path_widget"
   ]
  },
  {
   "cell_type": "markdown",
   "id": "30db844b",
   "metadata": {},
   "source": [
    "# Load Pipeline"
   ]
  },
  {
   "cell_type": "code",
   "execution_count": 2,
   "id": "7f07773d",
   "metadata": {
    "notebookRunGroups": {
     "groupValue": "1"
    }
   },
   "outputs": [
    {
     "name": "stdout",
     "output_type": "stream",
     "text": [
      "basedir: W:\\Data\\KDIBA\\gor01\\one\\2006-6-09_1-22-43\n",
      "Loading loaded session pickle file results : W:\\Data\\KDIBA\\gor01\\one\\2006-6-09_1-22-43\\loadedSessPickle.pkl... "
     ]
    },
    {
     "name": "stderr",
     "output_type": "stream",
     "text": [
      "INFO:com.PhoHale.Spike3D.pipeline:NeuropyPipeline.__setstate__(state=\"{'pipeline_name': 'kdiba_pipeline', 'session_data_type': 'kdiba', '_stage': <pyphoplacecellanalysis.General.Pipeline.Stages.Display.DisplayPipelineStage object at 0x000002425C40BDF0>}\")\n",
      "INFO:com.PhoHale.Spike3D.pipeline:select_filters(...) with: []\n",
      "INFO:com.PhoHale.Spike3D.pipeline:Performing perform_action_for_all_contexts with action EvaluationActions.EVALUATE_COMPUTATIONS on filtered_session with filter named \"maze1_odd\"...\n",
      "INFO:com.PhoHale.Spike3D.pipeline:WARNING: skipping computation because overwrite_extant_results=False and active_computation_results[maze1_odd] already exists and is non-None\n",
      "INFO:com.PhoHale.Spike3D.pipeline:\t TODO: this will prevent recomputation even when the excludelist/includelist or computation function definitions change. Rework so that this is smarter.\n",
      "INFO:com.PhoHale.Spike3D.pipeline:Performing perform_action_for_all_contexts with action EvaluationActions.EVALUATE_COMPUTATIONS on filtered_session with filter named \"maze2_odd\"...\n",
      "INFO:com.PhoHale.Spike3D.pipeline:WARNING: skipping computation because overwrite_extant_results=False and active_computation_results[maze2_odd] already exists and is non-None\n",
      "INFO:com.PhoHale.Spike3D.pipeline:\t TODO: this will prevent recomputation even when the excludelist/includelist or computation function definitions change. Rework so that this is smarter.\n",
      "INFO:com.PhoHale.Spike3D.pipeline:Performing perform_action_for_all_contexts with action EvaluationActions.EVALUATE_COMPUTATIONS on filtered_session with filter named \"maze_odd\"...\n",
      "INFO:com.PhoHale.Spike3D.pipeline:WARNING: skipping computation because overwrite_extant_results=False and active_computation_results[maze_odd] already exists and is non-None\n",
      "INFO:com.PhoHale.Spike3D.pipeline:\t TODO: this will prevent recomputation even when the excludelist/includelist or computation function definitions change. Rework so that this is smarter.\n",
      "INFO:com.PhoHale.Spike3D.pipeline:Performing perform_action_for_all_contexts with action EvaluationActions.EVALUATE_COMPUTATIONS on filtered_session with filter named \"maze1_even\"...\n",
      "INFO:com.PhoHale.Spike3D.pipeline:WARNING: skipping computation because overwrite_extant_results=False and active_computation_results[maze1_even] already exists and is non-None\n",
      "INFO:com.PhoHale.Spike3D.pipeline:\t TODO: this will prevent recomputation even when the excludelist/includelist or computation function definitions change. Rework so that this is smarter.\n",
      "INFO:com.PhoHale.Spike3D.pipeline:Performing perform_action_for_all_contexts with action EvaluationActions.EVALUATE_COMPUTATIONS on filtered_session with filter named \"maze2_even\"...\n",
      "INFO:com.PhoHale.Spike3D.pipeline:WARNING: skipping computation because overwrite_extant_results=False and active_computation_results[maze2_even] already exists and is non-None\n",
      "INFO:com.PhoHale.Spike3D.pipeline:\t TODO: this will prevent recomputation even when the excludelist/includelist or computation function definitions change. Rework so that this is smarter.\n",
      "INFO:com.PhoHale.Spike3D.pipeline:Performing perform_action_for_all_contexts with action EvaluationActions.EVALUATE_COMPUTATIONS on filtered_session with filter named \"maze_even\"...\n",
      "INFO:com.PhoHale.Spike3D.pipeline:WARNING: skipping computation because overwrite_extant_results=False and active_computation_results[maze_even] already exists and is non-None\n",
      "INFO:com.PhoHale.Spike3D.pipeline:\t TODO: this will prevent recomputation even when the excludelist/includelist or computation function definitions change. Rework so that this is smarter.\n",
      "INFO:com.PhoHale.Spike3D.pipeline:Performing perform_action_for_all_contexts with action EvaluationActions.EVALUATE_COMPUTATIONS on filtered_session with filter named \"maze1_any\"...\n",
      "INFO:com.PhoHale.Spike3D.pipeline:WARNING: skipping computation because overwrite_extant_results=False and active_computation_results[maze1_any] already exists and is non-None\n",
      "INFO:com.PhoHale.Spike3D.pipeline:\t TODO: this will prevent recomputation even when the excludelist/includelist or computation function definitions change. Rework so that this is smarter.\n",
      "INFO:com.PhoHale.Spike3D.pipeline:Performing perform_action_for_all_contexts with action EvaluationActions.EVALUATE_COMPUTATIONS on filtered_session with filter named \"maze2_any\"...\n",
      "INFO:com.PhoHale.Spike3D.pipeline:WARNING: skipping computation because overwrite_extant_results=False and active_computation_results[maze2_any] already exists and is non-None\n",
      "INFO:com.PhoHale.Spike3D.pipeline:\t TODO: this will prevent recomputation even when the excludelist/includelist or computation function definitions change. Rework so that this is smarter.\n",
      "INFO:com.PhoHale.Spike3D.pipeline:Performing perform_action_for_all_contexts with action EvaluationActions.EVALUATE_COMPUTATIONS on filtered_session with filter named \"maze_any\"...\n",
      "INFO:com.PhoHale.Spike3D.pipeline:WARNING: skipping computation because overwrite_extant_results=False and active_computation_results[maze_any] already exists and is non-None\n",
      "INFO:com.PhoHale.Spike3D.pipeline:\t TODO: this will prevent recomputation even when the excludelist/includelist or computation function definitions change. Rework so that this is smarter.\n",
      "INFO:com.PhoHale.Spike3D.pipeline:Performing global computations...\n",
      "INFO:com.PhoHale.Spike3D.pipeline:select_filters(...) with: []\n",
      "INFO:com.PhoHale.Spike3D.pipeline:Performing perform_action_for_all_contexts with action EvaluationActions.EVALUATE_COMPUTATIONS on filtered_session with filter named \"maze1_odd\"...\n",
      "INFO:com.PhoHale.Spike3D.pipeline:WARNING: skipping computation because overwrite_extant_results=False and active_computation_results[maze1_odd] already exists and is non-None\n",
      "INFO:com.PhoHale.Spike3D.pipeline:\t TODO: this will prevent recomputation even when the excludelist/includelist or computation function definitions change. Rework so that this is smarter.\n",
      "INFO:com.PhoHale.Spike3D.pipeline:Performing perform_action_for_all_contexts with action EvaluationActions.EVALUATE_COMPUTATIONS on filtered_session with filter named \"maze2_odd\"...\n",
      "INFO:com.PhoHale.Spike3D.pipeline:WARNING: skipping computation because overwrite_extant_results=False and active_computation_results[maze2_odd] already exists and is non-None\n",
      "INFO:com.PhoHale.Spike3D.pipeline:\t TODO: this will prevent recomputation even when the excludelist/includelist or computation function definitions change. Rework so that this is smarter.\n",
      "INFO:com.PhoHale.Spike3D.pipeline:Performing perform_action_for_all_contexts with action EvaluationActions.EVALUATE_COMPUTATIONS on filtered_session with filter named \"maze_odd\"...\n",
      "INFO:com.PhoHale.Spike3D.pipeline:WARNING: skipping computation because overwrite_extant_results=False and active_computation_results[maze_odd] already exists and is non-None\n",
      "INFO:com.PhoHale.Spike3D.pipeline:\t TODO: this will prevent recomputation even when the excludelist/includelist or computation function definitions change. Rework so that this is smarter.\n",
      "INFO:com.PhoHale.Spike3D.pipeline:Performing perform_action_for_all_contexts with action EvaluationActions.EVALUATE_COMPUTATIONS on filtered_session with filter named \"maze1_even\"...\n",
      "INFO:com.PhoHale.Spike3D.pipeline:WARNING: skipping computation because overwrite_extant_results=False and active_computation_results[maze1_even] already exists and is non-None\n",
      "INFO:com.PhoHale.Spike3D.pipeline:\t TODO: this will prevent recomputation even when the excludelist/includelist or computation function definitions change. Rework so that this is smarter.\n",
      "INFO:com.PhoHale.Spike3D.pipeline:Performing perform_action_for_all_contexts with action EvaluationActions.EVALUATE_COMPUTATIONS on filtered_session with filter named \"maze2_even\"...\n",
      "INFO:com.PhoHale.Spike3D.pipeline:WARNING: skipping computation because overwrite_extant_results=False and active_computation_results[maze2_even] already exists and is non-None\n",
      "INFO:com.PhoHale.Spike3D.pipeline:\t TODO: this will prevent recomputation even when the excludelist/includelist or computation function definitions change. Rework so that this is smarter.\n",
      "INFO:com.PhoHale.Spike3D.pipeline:Performing perform_action_for_all_contexts with action EvaluationActions.EVALUATE_COMPUTATIONS on filtered_session with filter named \"maze_even\"...\n",
      "INFO:com.PhoHale.Spike3D.pipeline:WARNING: skipping computation because overwrite_extant_results=False and active_computation_results[maze_even] already exists and is non-None\n",
      "INFO:com.PhoHale.Spike3D.pipeline:\t TODO: this will prevent recomputation even when the excludelist/includelist or computation function definitions change. Rework so that this is smarter.\n",
      "INFO:com.PhoHale.Spike3D.pipeline:Performing perform_action_for_all_contexts with action EvaluationActions.EVALUATE_COMPUTATIONS on filtered_session with filter named \"maze1_any\"...\n",
      "INFO:com.PhoHale.Spike3D.pipeline:WARNING: skipping computation because overwrite_extant_results=False and active_computation_results[maze1_any] already exists and is non-None\n",
      "INFO:com.PhoHale.Spike3D.pipeline:\t TODO: this will prevent recomputation even when the excludelist/includelist or computation function definitions change. Rework so that this is smarter.\n",
      "INFO:com.PhoHale.Spike3D.pipeline:Performing perform_action_for_all_contexts with action EvaluationActions.EVALUATE_COMPUTATIONS on filtered_session with filter named \"maze2_any\"...\n",
      "INFO:com.PhoHale.Spike3D.pipeline:WARNING: skipping computation because overwrite_extant_results=False and active_computation_results[maze2_any] already exists and is non-None\n",
      "INFO:com.PhoHale.Spike3D.pipeline:\t TODO: this will prevent recomputation even when the excludelist/includelist or computation function definitions change. Rework so that this is smarter.\n",
      "INFO:com.PhoHale.Spike3D.pipeline:Performing perform_action_for_all_contexts with action EvaluationActions.EVALUATE_COMPUTATIONS on filtered_session with filter named \"maze_any\"...\n",
      "INFO:com.PhoHale.Spike3D.pipeline:WARNING: skipping computation because overwrite_extant_results=False and active_computation_results[maze_any] already exists and is non-None\n",
      "INFO:com.PhoHale.Spike3D.pipeline:\t TODO: this will prevent recomputation even when the excludelist/includelist or computation function definitions change. Rework so that this is smarter.\n",
      "INFO:com.PhoHale.Spike3D.pipeline:Performing global computations...\n",
      "INFO:com.PhoHale.Spike3D.pipeline:select_filters(...) with: []\n",
      "INFO:com.PhoHale.Spike3D.pipeline:Performing perform_action_for_all_contexts with action EvaluationActions.EVALUATE_COMPUTATIONS on filtered_session with filter named \"maze1_odd\"...\n",
      "INFO:com.PhoHale.Spike3D.pipeline:WARNING: skipping computation because overwrite_extant_results=False and active_computation_results[maze1_odd] already exists and is non-None\n",
      "INFO:com.PhoHale.Spike3D.pipeline:\t TODO: this will prevent recomputation even when the excludelist/includelist or computation function definitions change. Rework so that this is smarter.\n",
      "INFO:com.PhoHale.Spike3D.pipeline:Performing perform_action_for_all_contexts with action EvaluationActions.EVALUATE_COMPUTATIONS on filtered_session with filter named \"maze2_odd\"...\n"
     ]
    },
    {
     "name": "stdout",
     "output_type": "stream",
     "text": [
      "done.\n",
      "Loading pickled pipeline success: W:\\Data\\KDIBA\\gor01\\one\\2006-6-09_1-22-43\\loadedSessPickle.pkl.\n",
      "properties already present in pickled version. No need to save.\n",
      "pipeline load success!\n",
      "using provided computation_functions_name_includelist: ['pf_computation', 'firing_rate_trends', 'position_decoding']\n",
      "WARNING: skipping computation because overwrite_extant_results=False and active_computation_results[maze1_odd] already exists and is non-None\n",
      "\t TODO: this will prevent recomputation even when the excludelist/includelist or computation function definitions change. Rework so that this is smarter.\n",
      "WARNING: skipping computation because overwrite_extant_results=False and active_computation_results[maze2_odd] already exists and is non-None\n",
      "\t TODO: this will prevent recomputation even when the excludelist/includelist or computation function definitions change. Rework so that this is smarter.\n",
      "WARNING: skipping computation because overwrite_extant_results=False and active_computation_results[maze_odd] already exists and is non-None\n",
      "\t TODO: this will prevent recomputation even when the excludelist/includelist or computation function definitions change. Rework so that this is smarter.\n",
      "WARNING: skipping computation because overwrite_extant_results=False and active_computation_results[maze1_even] already exists and is non-None\n",
      "\t TODO: this will prevent recomputation even when the excludelist/includelist or computation function definitions change. Rework so that this is smarter.\n",
      "WARNING: skipping computation because overwrite_extant_results=False and active_computation_results[maze2_even] already exists and is non-None\n",
      "\t TODO: this will prevent recomputation even when the excludelist/includelist or computation function definitions change. Rework so that this is smarter.\n",
      "WARNING: skipping computation because overwrite_extant_results=False and active_computation_results[maze_even] already exists and is non-None\n",
      "\t TODO: this will prevent recomputation even when the excludelist/includelist or computation function definitions change. Rework so that this is smarter.\n",
      "WARNING: skipping computation because overwrite_extant_results=False and active_computation_results[maze1_any] already exists and is non-None\n",
      "\t TODO: this will prevent recomputation even when the excludelist/includelist or computation function definitions change. Rework so that this is smarter.\n",
      "WARNING: skipping computation because overwrite_extant_results=False and active_computation_results[maze2_any] already exists and is non-None\n",
      "\t TODO: this will prevent recomputation even when the excludelist/includelist or computation function definitions change. Rework so that this is smarter.\n",
      "WARNING: skipping computation because overwrite_extant_results=False and active_computation_results[maze_any] already exists and is non-None\n",
      "\t TODO: this will prevent recomputation even when the excludelist/includelist or computation function definitions change. Rework so that this is smarter.\n",
      "WARNING: skipping computation because overwrite_extant_results=False and active_computation_results[maze1_odd] already exists and is non-None\n",
      "\t TODO: this will prevent recomputation even when the excludelist/includelist or computation function definitions change. Rework so that this is smarter.\n",
      "WARNING: skipping computation because overwrite_extant_results=False and active_computation_results[maze2_odd] already exists and is non-None\n",
      "\t TODO: this will prevent recomputation even when the excludelist/includelist or computation function definitions change. Rework so that this is smarter.\n",
      "WARNING: skipping computation because overwrite_extant_results=False and active_computation_results[maze_odd] already exists and is non-None\n",
      "\t TODO: this will prevent recomputation even when the excludelist/includelist or computation function definitions change. Rework so that this is smarter.\n",
      "WARNING: skipping computation because overwrite_extant_results=False and active_computation_results[maze1_even] already exists and is non-None\n",
      "\t TODO: this will prevent recomputation even when the excludelist/includelist or computation function definitions change. Rework so that this is smarter.\n",
      "WARNING: skipping computation because overwrite_extant_results=False and active_computation_results[maze2_even] already exists and is non-None\n",
      "\t TODO: this will prevent recomputation even when the excludelist/includelist or computation function definitions change. Rework so that this is smarter.\n",
      "WARNING: skipping computation because overwrite_extant_results=False and active_computation_results[maze_even] already exists and is non-None\n",
      "\t TODO: this will prevent recomputation even when the excludelist/includelist or computation function definitions change. Rework so that this is smarter.\n",
      "WARNING: skipping computation because overwrite_extant_results=False and active_computation_results[maze1_any] already exists and is non-None\n",
      "\t TODO: this will prevent recomputation even when the excludelist/includelist or computation function definitions change. Rework so that this is smarter.\n",
      "WARNING: skipping computation because overwrite_extant_results=False and active_computation_results[maze2_any] already exists and is non-None\n",
      "\t TODO: this will prevent recomputation even when the excludelist/includelist or computation function definitions change. Rework so that this is smarter.\n",
      "WARNING: skipping computation because overwrite_extant_results=False and active_computation_results[maze_any] already exists and is non-None\n",
      "\t TODO: this will prevent recomputation even when the excludelist/includelist or computation function definitions change. Rework so that this is smarter.\n",
      "WARNING: skipping computation because overwrite_extant_results=False and active_computation_results[maze1_odd] already exists and is non-None\n",
      "\t TODO: this will prevent recomputation even when the excludelist/includelist or computation function definitions change. Rework so that this is smarter.\n"
     ]
    },
    {
     "name": "stderr",
     "output_type": "stream",
     "text": [
      "INFO:com.PhoHale.Spike3D.pipeline:WARNING: skipping computation because overwrite_extant_results=False and active_computation_results[maze2_odd] already exists and is non-None\n",
      "INFO:com.PhoHale.Spike3D.pipeline:\t TODO: this will prevent recomputation even when the excludelist/includelist or computation function definitions change. Rework so that this is smarter.\n",
      "INFO:com.PhoHale.Spike3D.pipeline:Performing perform_action_for_all_contexts with action EvaluationActions.EVALUATE_COMPUTATIONS on filtered_session with filter named \"maze_odd\"...\n",
      "INFO:com.PhoHale.Spike3D.pipeline:WARNING: skipping computation because overwrite_extant_results=False and active_computation_results[maze_odd] already exists and is non-None\n",
      "INFO:com.PhoHale.Spike3D.pipeline:\t TODO: this will prevent recomputation even when the excludelist/includelist or computation function definitions change. Rework so that this is smarter.\n",
      "INFO:com.PhoHale.Spike3D.pipeline:Performing perform_action_for_all_contexts with action EvaluationActions.EVALUATE_COMPUTATIONS on filtered_session with filter named \"maze1_even\"...\n",
      "INFO:com.PhoHale.Spike3D.pipeline:WARNING: skipping computation because overwrite_extant_results=False and active_computation_results[maze1_even] already exists and is non-None\n",
      "INFO:com.PhoHale.Spike3D.pipeline:\t TODO: this will prevent recomputation even when the excludelist/includelist or computation function definitions change. Rework so that this is smarter.\n",
      "INFO:com.PhoHale.Spike3D.pipeline:Performing perform_action_for_all_contexts with action EvaluationActions.EVALUATE_COMPUTATIONS on filtered_session with filter named \"maze2_even\"...\n",
      "INFO:com.PhoHale.Spike3D.pipeline:WARNING: skipping computation because overwrite_extant_results=False and active_computation_results[maze2_even] already exists and is non-None\n",
      "INFO:com.PhoHale.Spike3D.pipeline:\t TODO: this will prevent recomputation even when the excludelist/includelist or computation function definitions change. Rework so that this is smarter.\n",
      "INFO:com.PhoHale.Spike3D.pipeline:Performing perform_action_for_all_contexts with action EvaluationActions.EVALUATE_COMPUTATIONS on filtered_session with filter named \"maze_even\"...\n",
      "INFO:com.PhoHale.Spike3D.pipeline:WARNING: skipping computation because overwrite_extant_results=False and active_computation_results[maze_even] already exists and is non-None\n",
      "INFO:com.PhoHale.Spike3D.pipeline:\t TODO: this will prevent recomputation even when the excludelist/includelist or computation function definitions change. Rework so that this is smarter.\n",
      "INFO:com.PhoHale.Spike3D.pipeline:Performing perform_action_for_all_contexts with action EvaluationActions.EVALUATE_COMPUTATIONS on filtered_session with filter named \"maze1_any\"...\n",
      "INFO:com.PhoHale.Spike3D.pipeline:WARNING: skipping computation because overwrite_extant_results=False and active_computation_results[maze1_any] already exists and is non-None\n",
      "INFO:com.PhoHale.Spike3D.pipeline:\t TODO: this will prevent recomputation even when the excludelist/includelist or computation function definitions change. Rework so that this is smarter.\n",
      "INFO:com.PhoHale.Spike3D.pipeline:Performing perform_action_for_all_contexts with action EvaluationActions.EVALUATE_COMPUTATIONS on filtered_session with filter named \"maze2_any\"...\n",
      "INFO:com.PhoHale.Spike3D.pipeline:WARNING: skipping computation because overwrite_extant_results=False and active_computation_results[maze2_any] already exists and is non-None\n",
      "INFO:com.PhoHale.Spike3D.pipeline:\t TODO: this will prevent recomputation even when the excludelist/includelist or computation function definitions change. Rework so that this is smarter.\n",
      "INFO:com.PhoHale.Spike3D.pipeline:Performing perform_action_for_all_contexts with action EvaluationActions.EVALUATE_COMPUTATIONS on filtered_session with filter named \"maze_any\"...\n",
      "INFO:com.PhoHale.Spike3D.pipeline:WARNING: skipping computation because overwrite_extant_results=False and active_computation_results[maze_any] already exists and is non-None\n",
      "INFO:com.PhoHale.Spike3D.pipeline:\t TODO: this will prevent recomputation even when the excludelist/includelist or computation function definitions change. Rework so that this is smarter.\n",
      "INFO:com.PhoHale.Spike3D.pipeline:Performing global computations...\n",
      "INFO:com.PhoHale.Spike3D.pipeline:NeuropyPipeline.on_stage_changed(new_stage=\"PipelineStage.Displayed\")\n",
      "WARNING:com.PhoHale.Spike3D.pipeline:WARNING: saving_mode is SKIP_SAVING so pipeline will not be saved despite calling .save_pipeline(...).\n"
     ]
    },
    {
     "name": "stdout",
     "output_type": "stream",
     "text": [
      "WARNING: skipping computation because overwrite_extant_results=False and active_computation_results[maze2_odd] already exists and is non-None\n",
      "\t TODO: this will prevent recomputation even when the excludelist/includelist or computation function definitions change. Rework so that this is smarter.\n",
      "WARNING: skipping computation because overwrite_extant_results=False and active_computation_results[maze_odd] already exists and is non-None\n",
      "\t TODO: this will prevent recomputation even when the excludelist/includelist or computation function definitions change. Rework so that this is smarter.\n",
      "WARNING: skipping computation because overwrite_extant_results=False and active_computation_results[maze1_even] already exists and is non-None\n",
      "\t TODO: this will prevent recomputation even when the excludelist/includelist or computation function definitions change. Rework so that this is smarter.\n",
      "WARNING: skipping computation because overwrite_extant_results=False and active_computation_results[maze2_even] already exists and is non-None\n",
      "\t TODO: this will prevent recomputation even when the excludelist/includelist or computation function definitions change. Rework so that this is smarter.\n",
      "WARNING: skipping computation because overwrite_extant_results=False and active_computation_results[maze_even] already exists and is non-None\n",
      "\t TODO: this will prevent recomputation even when the excludelist/includelist or computation function definitions change. Rework so that this is smarter.\n",
      "WARNING: skipping computation because overwrite_extant_results=False and active_computation_results[maze1_any] already exists and is non-None\n",
      "\t TODO: this will prevent recomputation even when the excludelist/includelist or computation function definitions change. Rework so that this is smarter.\n",
      "WARNING: skipping computation because overwrite_extant_results=False and active_computation_results[maze2_any] already exists and is non-None\n",
      "\t TODO: this will prevent recomputation even when the excludelist/includelist or computation function definitions change. Rework so that this is smarter.\n",
      "WARNING: skipping computation because overwrite_extant_results=False and active_computation_results[maze_any] already exists and is non-None\n",
      "\t TODO: this will prevent recomputation even when the excludelist/includelist or computation function definitions change. Rework so that this is smarter.\n",
      "WARNING: saving_mode is SKIP_SAVING so pipeline will not be saved despite calling .save_pipeline(...).\n",
      "saving_mode.shouldSave == False, so not saving at the end of batch_load_session\n",
      "DEPRICATION WARNING: workaround to allow subscripting ComputationResult objects. Will be depricated. key: computed_data\n",
      "DEPRICATION WARNING: workaround to allow subscripting ComputationResult objects. Will be depricated. key: computed_data\n",
      "DEPRICATION WARNING: workaround to allow subscripting ComputationResult objects. Will be depricated. key: computed_data\n",
      "DEPRICATION WARNING: workaround to allow subscripting ComputationResult objects. Will be depricated. key: computed_data\n",
      "DEPRICATION WARNING: workaround to allow subscripting ComputationResult objects. Will be depricated. key: computed_data\n",
      "DEPRICATION WARNING: workaround to allow subscripting ComputationResult objects. Will be depricated. key: computed_data\n",
      "were pipeline preprocessing parameters missing and updated?: False\n"
     ]
    }
   ],
   "source": [
    "# ==================================================================================================================== #\n",
    "# Load Data                                                                                                            #\n",
    "# ==================================================================================================================== #\n",
    "\n",
    "active_data_mode_name = 'kdiba'\n",
    "local_session_root_parent_context = IdentifyingContext(format_name=active_data_mode_name) # , animal_name='', configuration_name='one', session_name=a_sess.session_name\n",
    "local_session_root_parent_path = global_data_root_parent_path.joinpath('KDIBA')\n",
    "\n",
    "# [*] - indicates bad or session with a problem\n",
    "# 0, 1, 2, 3, 4, 5, 6, 7, [8], [9], 10, 11, [12], 13, 14, [15], [16], 17, \n",
    "# curr_context: IdentifyingContext = good_contexts_list[1] # select the session from all of the good sessions here.\n",
    "# curr_context = IdentifyingContext(format_name='kdiba',animal='gor01',exper_name='one',session_name='2006-6-08_14-26-15') # DONE. Very good. Many good Pfs, many good replays.\n",
    "curr_context = IdentifyingContext(format_name='kdiba',animal='gor01',exper_name='one',session_name='2006-6-09_1-22-43') # DONE, might be the BEST SESSION, good example session with lots of place cells, clean replays, and clear bar graphs.\n",
    "# curr_context = IdentifyingContext(format_name='kdiba',animal='gor01',exper_name='one',session_name='2006-6-12_15-55-31') # DONE, Good Pfs but no good replays\n",
    "# curr_context = IdentifyingContext(format_name='kdiba',animal='gor01',exper_name='one',session_name='2006-6-13_14-42-6') # BAD, 2023-07-14, unsure why still.\n",
    "# curr_context = IdentifyingContext(format_name='kdiba',animal='gor01',exper_name='two',session_name='2006-6-07_16-40-19') # DONE, GREAT, both good Pfs and replays!\n",
    "# curr_context = IdentifyingContext(format_name='kdiba',animal='gor01',exper_name='two',session_name='2006-6-08_21-16-25') # DONE, Added replay selections. Very \"jumpy\" between the starts and ends of the track.\n",
    "# curr_context = IdentifyingContext(format_name='kdiba',animal='gor01',exper_name='two',session_name='2006-6-09_22-24-40') # DONE, Added replay selections. A TON of putative replays in general, most bad, but some good.\n",
    "# curr_context = IdentifyingContext(format_name='kdiba',animal='gor01',exper_name='twolong_LR_pf1Dsession_name='2006-4-12_15-25-59') # BAD, No Epochs\n",
    "# curr_context = IdentifyingContext(format_name='kdiba',animal='vvp01',exper_name='two',session_name='2006-4-16_18-47-52')\n",
    "# curr_context = IdentifyingContext(format_name='kdiba',animal='vvp01',exper_name='two',session_name='2006-4-17_12-52-15')\n",
    "# curr_context = IdentifyingContext(format_name='kdiba',animal='vvp01',exper_name='two',session_name='2006-4-25_13-20-55')\n",
    "# curr_context = IdentifyingContext(format_name='kdiba',animal='vvp01',exper_name='two',session_name='2006-4-28_12-38-13')\n",
    "# curr_context = IdentifyingContext(format_name='kdiba',animal='pin01',exper_name='one',session_name='11-02_17-46-44') # DONE, good. Many good pfs, many good replays. Noticed very strange jumping off the track in the 3D behavior/spikes viewer. Is there something wrong with this session?\n",
    "# curr_context = IdentifyingContext(format_name='kdiba',animal='pin01',exper_name='one',session_name='11-02_19-28-0') # DONE, good?, replays selected, few\n",
    "# curr_context = IdentifyingContext(format_name='kdiba',animal='pin01',exper_name='one',session_name='11-03_12-3-25') # DONE, very few replays\n",
    "# curr_context = IdentifyingContext(format_name='kdiba',animal='pin01',exper_name='one',session_name='11-09_12-15-3')\n",
    "# curr_context = IdentifyingContext(format_name='kdiba',animal='pin01',exper_name='one',session_name='11-09_22-4-5')\n",
    "# curr_context = IdentifyingContext(format_name='kdiba',animal='pin01',exper_name='one',session_name='fet11-01_12-58-54') # DONE, replays selected, quite a few replays but few are very good.\n",
    "\n",
    "# curr_context = IdentifyingContext(format_name='kdiba',animal='gor01',exper_name='two',session_name='2006-6-08_21-16-25')\n",
    "\n",
    "local_session_parent_path: Path = local_session_root_parent_path.joinpath(curr_context.animal, curr_context.exper_name) # 'gor01', 'one' - probably not needed anymore\n",
    "basedir: Path = local_session_parent_path.joinpath(curr_context.session_name).resolve()\n",
    "print(f'basedir: {str(basedir)}')\n",
    "\n",
    "# Read if possible:\n",
    "saving_mode = PipelineSavingScheme.SKIP_SAVING\n",
    "force_reload = False\n",
    "# \n",
    "# # Force write:\n",
    "# saving_mode = PipelineSavingScheme.TEMP_THEN_OVERWRITE\n",
    "# saving_mode = PipelineSavingScheme.OVERWRITE_IN_PLACE\n",
    "# force_reload = True\n",
    "\n",
    "## TODO: if loading is not possible, we need to change the `saving_mode` so that the new results are properly saved.\n",
    "\n",
    "# ==================================================================================================================== #\n",
    "# Load Pipeline                                                                                                        #\n",
    "# ==================================================================================================================== #\n",
    "# with VizTracer(output_file=f\"viztracer_{get_now_time_str()}-full_session_LOO_decoding_analysis.json\", min_duration=200, tracer_entries=3000000, ignore_frozen=True) as tracer:\n",
    "# epoch_name_includelist = ['maze']\n",
    "epoch_name_includelist = None\n",
    "active_computation_functions_name_includelist=['pf_computation',\n",
    "                                            #    'pfdt_computation',\n",
    "                                                'firing_rate_trends',\n",
    "                                                # 'pf_dt_sequential_surprise', \n",
    "                                            #    'ratemap_peaks_prominence2d',\n",
    "                                                'position_decoding', \n",
    "                                                # 'position_decoding_two_step', \n",
    "                                            #    'long_short_decoding_analyses', 'jonathan_firing_rate_analysis', 'long_short_fr_indicies_analyses', 'short_long_pf_overlap_analyses', 'long_short_post_decoding', 'long_short_rate_remapping',\n",
    "                                            #     'long_short_inst_spike_rate_groups',\n",
    "                                            #     'long_short_endcap_analysis',\n",
    "                                            # 'split_to_directional_laps',\n",
    "]\n",
    "\n",
    "curr_active_pipeline: NeuropyPipeline = batch_load_session(global_data_root_parent_path, active_data_mode_name, basedir, epoch_name_includelist=epoch_name_includelist,\n",
    "                                        computation_functions_name_includelist=active_computation_functions_name_includelist,\n",
    "                                        saving_mode=saving_mode, force_reload=force_reload,\n",
    "                                        skip_extended_batch_computations=True, debug_print=False, fail_on_exception=True) # , active_pickle_filename = 'loadedSessPickle_withParameters.pkl'\n",
    "\n",
    "\n",
    "\n",
    "## Post Compute Validate 2023-05-16:\n",
    "was_updated = BatchSessionCompletionHandler.post_compute_validate(curr_active_pipeline) ## TODO: need to potentially re-save if was_updated. This will fail because constained versions not ran yet.\n",
    "if was_updated:\n",
    "    print(f'was_updated: {was_updated}')\n",
    "    try:\n",
    "        curr_active_pipeline.save_pipeline(saving_mode=saving_mode)\n",
    "    except Exception as e:\n",
    "        ## TODO: catch/log saving error and indicate that it isn't saved.\n",
    "        exception_info = sys.exc_info()\n",
    "        e = CapturedException(e, exception_info)\n",
    "        print(f'ERROR RE-SAVING PIPELINE after update. error: {e}')\n"
   ]
  },
  {
   "cell_type": "code",
   "execution_count": 3,
   "id": "acba46b6",
   "metadata": {
    "ExecuteTime": {
     "end_time": "2023-11-16T23:21:40.574268400Z",
     "start_time": "2023-11-16T23:21:35.966373700Z"
    },
    "notebookRunGroups": {
     "groupValue": "1"
    }
   },
   "outputs": [
    {
     "name": "stdout",
     "output_type": "stream",
     "text": [
      "Loading loaded session pickle file results : W:\\Data\\KDIBA\\gor01\\one\\2006-6-09_1-22-43\\output\\global_computation_results.pkl... done.\n",
      "included includelist is specified: ['pf_computation', 'firing_rate_trends', 'split_to_directional_laps', 'rank_order_shuffle_analysis'], so only performing these extended computations.\n",
      "Running batch_extended_computations(...) with global_epoch_name: \"maze_any\"\n",
      "pf_computation, maze_any already computed.\n",
      "firing_rate_trends, maze_any already computed.\n",
      "split_to_directional_laps, maze_any already computed.\n",
      "\tforce_recompute is true so recomputing anyway\n",
      "split_to_directional_laps missing.\n",
      "\t Recomputing split_to_directional_laps...\n",
      "WARN: _split_to_directional_laps(...): include_includelist: ['maze1_odd', 'maze2_odd', 'maze_odd', 'maze1_even', 'maze2_even', 'maze_even', 'maze1_any', 'maze2_any', 'maze_any'] is specified but include_includelist is currently ignored! Continuing with defaults.\n",
      "build_global_directional_result_from_natural_epochs(...): was_modified: False\n",
      "\t done.\n",
      "rank_order_shuffle_analysis, maze_any already computed.\n",
      "\tforce_recompute is true so recomputing anyway\n",
      "rank_order_shuffle_analysis missing.\n",
      "\t Recomputing rank_order_shuffle_analysis...\n",
      "WARN: perform_rank_order_shuffle_analysis(...): include_includelist: ['maze1_odd', 'maze2_odd', 'maze_odd', 'maze1_even', 'maze2_even', 'maze_even', 'maze1_any', 'maze2_any', 'maze_any'] is specified but include_includelist is currently ignored! Continuing with defaults.\n",
      "perform_rank_order_shuffle_analysis(..., num_shuffles=300)\n",
      "\tcomputing Laps rank-order shuffles:\n",
      "\t\tnum_shuffles: 300, minimum_inclusion_fr_Hz: 5.0 Hz\n",
      "ERROR! BUG?! 2023-12-21 - Need to update the previous 'DirectionalLaps' object with the qclu-restricted one right? on filter\n",
      "WARN: .trim_overlapping_laps(...): need to recompute  ['start_position_index', 'end_position_index', 'start_spike_index', 'end_spike_index', 'num_spikes'] for the laps after calling self.trim_overlapping_laps()!\n",
      "laps_paired_tests: [TtestResult(statistic=15.000262968784684, pvalue=2.3650166932199515e-25, df=83), TtestResult(statistic=13.577827774993517, pvalue=8.648704107255371e-23, df=83)]\n",
      "\tdone. building global result.\n",
      "n_valid_shuffles: 300\n",
      "combined_variable_names: ['long_RL_spearman', 'short_LR_spearman', 'short_LR_pearson', 'long_LR_pearson', 'short_RL_pearson', 'long_LR_spearman', 'short_RL_spearman', 'long_RL_pearson']\n",
      "combined_variable_z_score_column_names: ['long_RL_spearman_Z', 'short_LR_spearman_Z', 'short_LR_pearson_Z', 'long_LR_pearson_Z', 'short_RL_pearson_Z', 'long_LR_spearman_Z', 'short_RL_spearman_Z', 'long_RL_pearson_Z']\n",
      "done!\n",
      "\tcomputing Ripple rank-order shuffles:\n",
      "ERROR! BUG?! 2023-12-21 - Need to update the previous 'DirectionalLaps' object with the qclu-restricted one right? on filter\n"
     ]
    },
    {
     "name": "stderr",
     "output_type": "stream",
     "text": [
      "c:\\Users\\pho\\repos\\Spike3DWorkEnv\\Spike3D\\.venv\\lib\\site-packages\\neuropy\\utils\\efficient_interval_search.py:650: RuntimeWarning: divide by zero encountered in double_scalars\n",
      "  epoch_split_spike_dfs_aclu_firingrates_Hz = [{an_aclu:(float(a_count)/trimmed_epoch_duration) for an_aclu, a_count in a_spike_count_dict.items()} for trimmed_epoch_duration, a_spike_count_dict in zip(spike_trimmed_active_epochs.durations, epoch_split_spike_dfs_aclu_spikecounts)] # just the non-zero aclus values: e.g. {108: 16.582832394938322, 36: 16.582832394938322, 34: 16.582832394938322, 66: 16.582832394938322, 58: 12.437124296203741, 74: 12.437124296203741, 51: 12.437124296203741, 23: 8.291416197469161, 57: 8.291416197469161, 32: 8.291416197469161, 63: 8.291416197469161, 11: 8.291416197469161, 73: 8.291416197469161, 88: 8.291416197469161, 16: 8.291416197469161, 31: 8.291416197469161, 13: 4.1457080987345805, 27: 4.1457080987345805, 10: 4.1457080987345805, 19: 4.1457080987345805, 25: 4.1457080987345805, 62: 4.1457080987345805, 59: 4.1457080987345805, 21: 4.1457080987345805, 98: 4.1457080987345805, 14: 4.1457080987345805}\n",
      "c:\\Users\\pho\\repos\\Spike3DWorkEnv\\Spike3D\\.venv\\lib\\site-packages\\neuropy\\utils\\efficient_interval_search.py:650: RuntimeWarning: divide by zero encountered in double_scalars\n",
      "  epoch_split_spike_dfs_aclu_firingrates_Hz = [{an_aclu:(float(a_count)/trimmed_epoch_duration) for an_aclu, a_count in a_spike_count_dict.items()} for trimmed_epoch_duration, a_spike_count_dict in zip(spike_trimmed_active_epochs.durations, epoch_split_spike_dfs_aclu_spikecounts)] # just the non-zero aclus values: e.g. {108: 16.582832394938322, 36: 16.582832394938322, 34: 16.582832394938322, 66: 16.582832394938322, 58: 12.437124296203741, 74: 12.437124296203741, 51: 12.437124296203741, 23: 8.291416197469161, 57: 8.291416197469161, 32: 8.291416197469161, 63: 8.291416197469161, 11: 8.291416197469161, 73: 8.291416197469161, 88: 8.291416197469161, 16: 8.291416197469161, 31: 8.291416197469161, 13: 4.1457080987345805, 27: 4.1457080987345805, 10: 4.1457080987345805, 19: 4.1457080987345805, 25: 4.1457080987345805, 62: 4.1457080987345805, 59: 4.1457080987345805, 21: 4.1457080987345805, 98: 4.1457080987345805, 14: 4.1457080987345805}\n"
     ]
    },
    {
     "name": "stdout",
     "output_type": "stream",
     "text": [
      "ripple_evts_paired_tests: [TtestResult(statistic=2.739782249810141, pvalue=0.006598310367159079, df=246), TtestResult(statistic=3.4658923757436844, pvalue=0.0006234533228219896, df=246)]\n",
      "\tdone. building global result.\n",
      "n_valid_shuffles: 300\n",
      "combined_variable_names: ['long_RL_spearman', 'short_LR_spearman', 'short_LR_pearson', 'long_LR_pearson', 'short_RL_pearson', 'long_LR_spearman', 'short_RL_spearman', 'long_RL_pearson']\n",
      "combined_variable_z_score_column_names: ['long_RL_spearman_Z', 'short_LR_spearman_Z', 'short_LR_pearson_Z', 'long_LR_pearson_Z', 'short_RL_pearson_Z', 'long_LR_spearman_Z', 'short_RL_spearman_Z', 'long_RL_pearson_Z']\n",
      "done!\n",
      "\tdone. building global result.\n",
      "\t done.\n",
      "done with all batch_extended_computations(...).\n",
      "newly_computed_values: [('split_to_directional_laps', 'maze_any'), ('rank_order_shuffle_analysis', 'maze_any')].\n",
      "\n",
      "\n",
      "!!WARNING!!: changes to global results have been made but they will not be saved since saving_mode.value == \"skip_saving\"\n",
      "\tthe global results are currently unsaved! proceed with caution and save as soon as you can!\n",
      "\n",
      "\n",
      "\n"
     ]
    }
   ],
   "source": [
    "### GLOBAL COMPUTATIONS:\n",
    "if not force_reload: # not just force_reload, needs to recompute whenever the computation fails.\n",
    "    try:\n",
    "        curr_active_pipeline.load_pickled_global_computation_results()\n",
    "    except Exception as e:\n",
    "        exception_info = sys.exc_info()\n",
    "        e = CapturedException(e, exception_info)\n",
    "        print(f'cannot load global results: {e}')\n",
    "        raise\n",
    "\n",
    "curr_active_pipeline.reload_default_computation_functions()\n",
    "\n",
    "extended_computations_include_includelist=['pf_computation', 'firing_rate_trends', # 'pfdt_computation',\n",
    "    # 'pf_dt_sequential_surprise',\n",
    "    #  'ratemap_peaks_prominence2d',\n",
    "    # 'long_short_decoding_analyses', 'jonathan_firing_rate_analysis', 'long_short_fr_indicies_analyses', 'short_long_pf_overlap_analyses', 'long_short_post_decoding',\n",
    "    # 'long_short_rate_remapping',\n",
    "    # 'long_short_inst_spike_rate_groups',\n",
    "    # 'long_short_endcap_analysis',\n",
    "    # 'spike_burst_detection',\n",
    "    'split_to_directional_laps',\n",
    "    'rank_order_shuffle_analysis'\n",
    "] # do only specified\n",
    "\n",
    "force_recompute_global = force_reload\n",
    "# force_recompute_global = True\n",
    "newly_computed_values = batch_extended_computations(curr_active_pipeline, include_includelist=extended_computations_include_includelist, include_global_functions=True, fail_on_exception=True, progress_print=True, force_recompute=force_recompute_global, debug_print=False)\n",
    "if (len(newly_computed_values) > 0):\n",
    "    print(f'newly_computed_values: {newly_computed_values}.')\n",
    "    if (saving_mode.value != 'skip_saving'):\n",
    "        print(f'Saving global results...')\n",
    "        try:\n",
    "            # curr_active_pipeline.global_computation_results.persist_time = datetime.now()\n",
    "            # Try to write out the global computation function results:\n",
    "            curr_active_pipeline.save_global_computation_results()\n",
    "        except Exception as e:\n",
    "            exception_info = sys.exc_info()\n",
    "            e = CapturedException(e, exception_info)\n",
    "            print(f'\\n\\n!!WARNING!!: saving the global results threw the exception: {e}')\n",
    "            print(f'\\tthe global results are currently unsaved! proceed with caution and save as soon as you can!\\n\\n\\n')\n",
    "    else:\n",
    "        print(f'\\n\\n!!WARNING!!: changes to global results have been made but they will not be saved since saving_mode.value == \"skip_saving\"')\n",
    "        print(f'\\tthe global results are currently unsaved! proceed with caution and save as soon as you can!\\n\\n\\n')\n",
    "else:\n",
    "    print(f'no changes in global results.')\n",
    "\n",
    "# except Exception as e:\n",
    "#     exception_info = sys.exc_info()\n",
    "#     e = CapturedException(e, exception_info)\n",
    "#     print(f'second half threw: {e}')\n",
    "\n",
    "# 4m 5.2s for inst fr computations\n"
   ]
  },
  {
   "cell_type": "code",
   "execution_count": null,
   "id": "ee3d4f61",
   "metadata": {},
   "outputs": [],
   "source": [
    "curr_active_pipeline.save_global_computation_results()"
   ]
  },
  {
   "cell_type": "code",
   "execution_count": null,
   "id": "e5cbb6cf",
   "metadata": {},
   "outputs": [],
   "source": [
    "curr_active_pipeline.export_pipeline_to_h5()"
   ]
  },
  {
   "cell_type": "code",
   "execution_count": null,
   "id": "e3f06d1f",
   "metadata": {},
   "outputs": [],
   "source": [
    "curr_active_pipeline.clear_display_outputs()\n",
    "curr_active_pipeline.clear_registered_output_files()"
   ]
  },
  {
   "cell_type": "code",
   "execution_count": null,
   "id": "837f39f2",
   "metadata": {},
   "outputs": [],
   "source": [
    "curr_active_pipeline.save_pipeline(saving_mode=PipelineSavingScheme.TEMP_THEN_OVERWRITE)"
   ]
  },
  {
   "cell_type": "markdown",
   "metadata": {},
   "source": [
    "# Pho Interactive Pipeline Jupyter Widget"
   ]
  },
  {
   "cell_type": "code",
   "execution_count": 4,
   "id": "e275e3bb",
   "metadata": {
    "notebookRunGroups": {
     "groupValue": "1"
    }
   },
   "outputs": [
    {
     "data": {
      "application/vnd.jupyter.widget-view+json": {
       "model_id": "7f1c0f7ca2574b3abe9438bc37346d14",
       "version_major": 2,
       "version_minor": 0
      },
      "text/plain": [
       "VBox(children=(Box(children=(Label(value='session path:', layout=Layout(width='auto')), Label(value='W:\\\\Data\\…"
      ]
     },
     "execution_count": 4,
     "metadata": {},
     "output_type": "execute_result"
    }
   ],
   "source": [
    "import ipywidgets as widgets\n",
    "from IPython.display import display\n",
    "from pyphocorehelpers.Filesystem.open_in_system_file_manager import reveal_in_system_file_manager\n",
    "from pyphoplacecellanalysis.GUI.IPyWidgets.pipeline_ipywidgets import interactive_pipeline_widget, interactive_pipeline_files\n",
    "\n",
    "_pipeline_jupyter_widget = interactive_pipeline_widget(curr_active_pipeline=curr_active_pipeline)\n",
    "# display(_pipeline_jupyter_widget)\n",
    "_pipeline_jupyter_widget"
   ]
  },
  {
   "cell_type": "markdown",
   "id": "1fe54599",
   "metadata": {},
   "source": [
    "# End Run"
   ]
  },
  {
   "cell_type": "code",
   "execution_count": 5,
   "id": "1a533ba8",
   "metadata": {
    "ExecuteTime": {
     "end_time": "2023-11-16T23:21:40.700275900Z",
     "start_time": "2023-11-16T23:21:40.584273Z"
    },
    "notebookRunGroups": {
     "groupValue": "1"
    }
   },
   "outputs": [],
   "source": [
    "# (long_one_step_decoder_1D, short_one_step_decoder_1D), (long_one_step_decoder_2D, short_one_step_decoder_2D) = compute_short_long_constrained_decoders(curr_active_pipeline, recalculate_anyway=True)\n",
    "long_epoch_name, short_epoch_name, global_epoch_name = curr_active_pipeline.find_LongShortGlobal_epoch_names()\n",
    "long_epoch_context, short_epoch_context, global_epoch_context = [curr_active_pipeline.filtered_contexts[a_name] for a_name in (long_epoch_name, short_epoch_name, global_epoch_name)]\n",
    "long_epoch_obj, short_epoch_obj = [Epoch(curr_active_pipeline.sess.epochs.to_dataframe().epochs.label_slice(an_epoch_name.removesuffix('_any'))) for an_epoch_name in [long_epoch_name, short_epoch_name]] #TODO 2023-11-10 20:41: - [ ] Issue with getting actual Epochs from sess.epochs for directional laps: emerges because long_epoch_name: 'maze1_any' and the actual epoch label in curr_active_pipeline.sess.epochs is 'maze1' without the '_any' part.\n",
    "long_session, short_session, global_session = [curr_active_pipeline.filtered_sessions[an_epoch_name] for an_epoch_name in [long_epoch_name, short_epoch_name, global_epoch_name]]\n",
    "long_results, short_results, global_results = [curr_active_pipeline.computation_results[an_epoch_name].computed_data for an_epoch_name in [long_epoch_name, short_epoch_name, global_epoch_name]]\n",
    "long_computation_config, short_computation_config, global_computation_config = [curr_active_pipeline.computation_results[an_epoch_name].computation_config for an_epoch_name in [long_epoch_name, short_epoch_name, global_epoch_name]]\n",
    "long_pf1D, short_pf1D, global_pf1D = long_results.pf1D, short_results.pf1D, global_results.pf1D\n",
    "long_pf2D, short_pf2D, global_pf2D = long_results.pf2D, short_results.pf2D, global_results.pf2D\n",
    "\n",
    "assert short_epoch_obj.n_epochs > 0, f'long_epoch_obj: {long_epoch_obj}, short_epoch_obj: {short_epoch_obj}'\n",
    "assert long_epoch_obj.n_epochs > 0, f'long_epoch_obj: {long_epoch_obj}, short_epoch_obj: {short_epoch_obj}'"
   ]
  },
  {
   "cell_type": "code",
   "execution_count": 6,
   "id": "9071e94f",
   "metadata": {
    "ExecuteTime": {
     "end_time": "2023-11-16T23:21:43.601382Z",
     "start_time": "2023-11-16T23:21:40.702275600Z"
    },
    "notebookRunGroups": {
     "groupValue": "1"
    }
   },
   "outputs": [
    {
     "name": "stdout",
     "output_type": "stream",
     "text": [
      "WARN: 2023-09-28 16:15: - [ ] fix the combination properties. Would work if we directly used the computed _is_L_only and _is_S_only above\n",
      "WARNING: PAPER_FIGURE_figure_1_add_replay_epoch_rasters(...): no user-assigned manually labeled replay epochs. Reeturning all epochs.\n",
      "WARN: 2023-09-28 16:15: - [ ] fix the combination properties. Would work if we directly used the computed _is_L_only and _is_S_only above\n"
     ]
    }
   ],
   "source": [
    "## long_short_decoding_analyses:\n",
    "curr_long_short_decoding_analyses = curr_active_pipeline.global_computation_results.computed_data['long_short_leave_one_out_decoding_analysis']\n",
    "long_one_step_decoder_1D, short_one_step_decoder_1D, long_replays, short_replays, global_replays, long_shared_aclus_only_decoder, short_shared_aclus_only_decoder, shared_aclus, long_short_pf_neurons_diff, n_neurons, long_results_obj, short_results_obj, is_global = curr_long_short_decoding_analyses.long_decoder, curr_long_short_decoding_analyses.short_decoder, curr_long_short_decoding_analyses.long_replays, curr_long_short_decoding_analyses.short_replays, curr_long_short_decoding_analyses.global_replays, curr_long_short_decoding_analyses.long_shared_aclus_only_decoder, curr_long_short_decoding_analyses.short_shared_aclus_only_decoder, curr_long_short_decoding_analyses.shared_aclus, curr_long_short_decoding_analyses.long_short_pf_neurons_diff, curr_long_short_decoding_analyses.n_neurons, curr_long_short_decoding_analyses.long_results_obj, curr_long_short_decoding_analyses.short_results_obj, curr_long_short_decoding_analyses.is_global \n",
    "decoding_time_bin_size = long_one_step_decoder_1D.time_bin_size # 1.0/30.0 # 0.03333333333333333\n",
    "\n",
    "## Get global `long_short_fr_indicies_analysis`:\n",
    "long_short_fr_indicies_analysis_results = curr_active_pipeline.global_computation_results.computed_data['long_short_fr_indicies_analysis']\n",
    "long_laps, long_replays, short_laps, short_replays, global_laps, global_replays = [long_short_fr_indicies_analysis_results[k] for k in ['long_laps', 'long_replays', 'short_laps', 'short_replays', 'global_laps', 'global_replays']]\n",
    "long_short_fr_indicies_df = long_short_fr_indicies_analysis_results['long_short_fr_indicies_df']\n",
    "\n",
    "## Get global 'long_short_post_decoding' results:\n",
    "curr_long_short_post_decoding = curr_active_pipeline.global_computation_results.computed_data['long_short_post_decoding']\n",
    "expected_v_observed_result, curr_long_short_rr = curr_long_short_post_decoding.expected_v_observed_result, curr_long_short_post_decoding.rate_remapping\n",
    "rate_remapping_df, high_remapping_cells_only = curr_long_short_rr.rr_df, curr_long_short_rr.high_only_rr_df\n",
    "Flat_epoch_time_bins_mean, Flat_decoder_time_bin_centers, num_neurons, num_timebins_in_epoch, num_total_flat_timebins, is_short_track_epoch, is_long_track_epoch, short_short_diff, long_long_diff = expected_v_observed_result.Flat_epoch_time_bins_mean, expected_v_observed_result.Flat_decoder_time_bin_centers, expected_v_observed_result.num_neurons, expected_v_observed_result.num_timebins_in_epoch, expected_v_observed_result.num_total_flat_timebins, expected_v_observed_result.is_short_track_epoch, expected_v_observed_result.is_long_track_epoch, expected_v_observed_result.short_short_diff, expected_v_observed_result.long_long_diff\n",
    "\n",
    "jonathan_firing_rate_analysis_result: JonathanFiringRateAnalysisResult = curr_active_pipeline.global_computation_results.computed_data.jonathan_firing_rate_analysis\n",
    "(epochs_df_L, epochs_df_S), (filter_epoch_spikes_df_L, filter_epoch_spikes_df_S), (good_example_epoch_indicies_L, good_example_epoch_indicies_S), (short_exclusive, long_exclusive, BOTH_subset, EITHER_subset, XOR_subset, NEITHER_subset), new_all_aclus_sort_indicies, assigning_epochs_obj = PAPER_FIGURE_figure_1_add_replay_epoch_rasters(curr_active_pipeline)\n",
    "neuron_replay_stats_df, short_exclusive, long_exclusive, BOTH_subset, EITHER_subset, XOR_subset, NEITHER_subset = jonathan_firing_rate_analysis_result.get_cell_track_partitions(frs_index_inclusion_magnitude=0.05)\n",
    "\n",
    "## Update long_exclusive/short_exclusive properties with `long_short_fr_indicies_df`\n",
    "# long_exclusive.refine_exclusivity_by_inst_frs_index(long_short_fr_indicies_df, frs_index_inclusion_magnitude=0.5)\n",
    "# short_exclusive.refine_exclusivity_by_inst_frs_index(long_short_fr_indicies_df, frs_index_inclusion_magnitude=0.5)\n",
    "\n",
    "\n"
   ]
  },
  {
   "cell_type": "code",
   "execution_count": null,
   "id": "b83acf39",
   "metadata": {},
   "outputs": [],
   "source": [
    "expected_v_observed_result.observed_from_expected_diff_ptp_LONG"
   ]
  },
  {
   "cell_type": "code",
   "execution_count": 7,
   "id": "c49f5d4f",
   "metadata": {
    "notebookRunGroups": {
     "groupValue": "1"
    }
   },
   "outputs": [],
   "source": [
    "# Unpack all directional variables:\n",
    "## {\"even\": \"RL\", \"odd\": \"LR\"}\n",
    "long_LR_name, short_LR_name, global_LR_name, long_RL_name, short_RL_name, global_RL_name, long_any_name, short_any_name, global_any_name = ['maze1_odd', 'maze2_odd', 'maze_odd', 'maze1_even', 'maze2_even', 'maze_even', 'maze1_any', 'maze2_any', 'maze_any']\n",
    "\n",
    "# Most popular\n",
    "# long_LR_name, short_LR_name, long_RL_name, short_RL_name, global_any_name\n",
    "\n",
    "# Unpacking for `(long_LR_name, long_RL_name, short_LR_name, short_RL_name)`\n",
    "(long_LR_context, long_RL_context, short_LR_context, short_RL_context) = [curr_active_pipeline.filtered_contexts[a_name] for a_name in (long_LR_name, long_RL_name, short_LR_name, short_RL_name)]\n",
    "long_LR_epochs_obj, long_RL_epochs_obj, short_LR_epochs_obj, short_RL_epochs_obj, global_any_laps_epochs_obj = [curr_active_pipeline.computation_results[an_epoch_name].computation_config.pf_params.computation_epochs for an_epoch_name in (long_LR_name, long_RL_name, short_LR_name, short_RL_name, global_any_name)] # note has global also\n",
    "(long_LR_session, long_RL_session, short_LR_session, short_RL_session) = [curr_active_pipeline.filtered_sessions[an_epoch_name] for an_epoch_name in (long_LR_name, long_RL_name, short_LR_name, short_RL_name)] # sessions are correct at least, seems like just the computation parameters are messed up\n",
    "(long_LR_results, long_RL_results, short_LR_results, short_RL_results) = [curr_active_pipeline.computation_results[an_epoch_name].computed_data for an_epoch_name in (long_LR_name, long_RL_name, short_LR_name, short_RL_name)]\n",
    "(long_LR_computation_config, long_RL_computation_config, short_LR_computation_config, short_RL_computation_config) = [curr_active_pipeline.computation_results[an_epoch_name].computation_config for an_epoch_name in (long_LR_name, long_RL_name, short_LR_name, short_RL_name)]\n",
    "(long_LR_pf1D, long_RL_pf1D, short_LR_pf1D, short_RL_pf1D) = (long_LR_results.pf1D, long_RL_results.pf1D, short_LR_results.pf1D, short_RL_results.pf1D)\n",
    "(long_LR_pf2D, long_RL_pf2D, short_LR_pf2D, short_RL_pf2D) = (long_LR_results.pf2D, long_RL_results.pf2D, short_LR_results.pf2D, short_RL_results.pf2D)\n",
    "(long_LR_pf1D_Decoder, long_RL_pf1D_Decoder, short_LR_pf1D_Decoder, short_RL_pf1D_Decoder) = (long_LR_results.pf1D_Decoder, long_RL_results.pf1D_Decoder, short_LR_results.pf1D_Decoder, short_RL_results.pf1D_Decoder)\n"
   ]
  },
  {
   "cell_type": "code",
   "execution_count": 8,
   "id": "7104fc37",
   "metadata": {
    "notebookRunGroups": {
     "groupValue": "1"
    }
   },
   "outputs": [
    {
     "name": "stdout",
     "output_type": "stream",
     "text": [
      "minimum_inclusion_fr_Hz: 5.0\n",
      "included_qclu_values: [1, 2]\n"
     ]
    }
   ],
   "source": [
    "directional_laps_results = curr_active_pipeline.global_computation_results.computed_data['DirectionalLaps']\n",
    "rank_order_results: RankOrderComputationsContainer = curr_active_pipeline.global_computation_results.computed_data['RankOrder']\n",
    "minimum_inclusion_fr_Hz: float = rank_order_results.minimum_inclusion_fr_Hz\n",
    "included_qclu_values: float = rank_order_results.included_qclu_values\n",
    "print(f'minimum_inclusion_fr_Hz: {minimum_inclusion_fr_Hz}')\n",
    "print(f'included_qclu_values: {included_qclu_values}')"
   ]
  },
  {
   "cell_type": "code",
   "execution_count": 9,
   "id": "fa2dc5fe",
   "metadata": {
    "notebookRunGroups": {
     "groupValue": "1"
    }
   },
   "outputs": [],
   "source": [
    "# NEW 2023-11-22 method: Get the templates (which can be filtered by frate first) and the from those get the decoders):        \n",
    "# track_templates: TrackTemplates = directional_laps_results.get_shared_aclus_only_templates(minimum_inclusion_fr_Hz=minimum_inclusion_fr_Hz) # shared-only\n",
    "track_templates: TrackTemplates = directional_laps_results.get_templates(minimum_inclusion_fr_Hz=minimum_inclusion_fr_Hz) # non-shared-only\n",
    "long_LR_decoder, long_RL_decoder, short_LR_decoder, short_RL_decoder = track_templates.get_decoders()\n",
    "\n",
    "# Unpack all directional variables:\n",
    "## {\"even\": \"RL\", \"odd\": \"LR\"}\n",
    "long_LR_name, short_LR_name, global_LR_name, long_RL_name, short_RL_name, global_RL_name, long_any_name, short_any_name, global_any_name = ['maze1_odd', 'maze2_odd', 'maze_odd', 'maze1_even', 'maze2_even', 'maze_even', 'maze1_any', 'maze2_any', 'maze_any']\n",
    "# Unpacking for `(long_LR_name, long_RL_name, short_LR_name, short_RL_name)`\n",
    "(long_LR_context, long_RL_context, short_LR_context, short_RL_context) = [curr_active_pipeline.filtered_contexts[a_name] for a_name in (long_LR_name, long_RL_name, short_LR_name, short_RL_name)]\n",
    "long_LR_epochs_obj, long_RL_epochs_obj, short_LR_epochs_obj, short_RL_epochs_obj, global_any_laps_epochs_obj = [curr_active_pipeline.computation_results[an_epoch_name].computation_config.pf_params.computation_epochs for an_epoch_name in (long_LR_name, long_RL_name, short_LR_name, short_RL_name, global_any_name)] # note has global also\n",
    "(long_LR_session, long_RL_session, short_LR_session, short_RL_session) = [curr_active_pipeline.filtered_sessions[an_epoch_name] for an_epoch_name in (long_LR_name, long_RL_name, short_LR_name, short_RL_name)] # sessions are correct at least, seems like just the computation parameters are messed up\n",
    "(long_LR_results, long_RL_results, short_LR_results, short_RL_results) = [curr_active_pipeline.computation_results[an_epoch_name].computed_data for an_epoch_name in (long_LR_name, long_RL_name, short_LR_name, short_RL_name)]\n",
    "(long_LR_computation_config, long_RL_computation_config, short_LR_computation_config, short_RL_computation_config) = [curr_active_pipeline.computation_results[an_epoch_name].computation_config for an_epoch_name in (long_LR_name, long_RL_name, short_LR_name, short_RL_name)]\n",
    "(long_LR_pf1D, long_RL_pf1D, short_LR_pf1D, short_RL_pf1D) = (long_LR_results.pf1D, long_RL_results.pf1D, short_LR_results.pf1D, short_RL_results.pf1D)\n",
    "(long_LR_pf2D, long_RL_pf2D, short_LR_pf2D, short_RL_pf2D) = (long_LR_results.pf2D, long_RL_results.pf2D, short_LR_results.pf2D, short_RL_results.pf2D)\n",
    "(long_LR_pf1D_Decoder, long_RL_pf1D_Decoder, short_LR_pf1D_Decoder, short_RL_pf1D_Decoder) = (long_LR_results.pf1D_Decoder, long_RL_results.pf1D_Decoder, short_LR_results.pf1D_Decoder, short_RL_results.pf1D_Decoder)\n",
    "\n",
    "LR_results_real_values = np.array([(long_stats_z_scorer.real_value, short_stats_z_scorer.real_value) for epoch_id, (long_stats_z_scorer, short_stats_z_scorer, long_short_z_diff, long_short_naive_z_diff, is_forward_replay) in rank_order_results.LR_ripple.ranked_aclus_stats_dict.items()])\n",
    "RL_results_real_values = np.array([(long_stats_z_scorer.real_value, short_stats_z_scorer.real_value) for epoch_id, (long_stats_z_scorer, short_stats_z_scorer, long_short_z_diff, long_short_naive_z_diff, is_forward_replay) in rank_order_results.RL_ripple.ranked_aclus_stats_dict.items()])\n",
    "\n",
    "LR_results_long_short_z_diffs = np.array([long_short_z_diff for epoch_id, (long_stats_z_scorer, short_stats_z_scorer, long_short_z_diff, long_short_naive_z_diff, is_forward_replay) in rank_order_results.LR_ripple.ranked_aclus_stats_dict.items()])\n",
    "RL_results_long_short_z_diff = np.array([long_short_z_diff for epoch_id, (long_stats_z_scorer, short_stats_z_scorer, long_short_z_diff, long_short_naive_z_diff, is_forward_replay) in rank_order_results.RL_ripple.ranked_aclus_stats_dict.items()])"
   ]
  },
  {
   "cell_type": "code",
   "execution_count": null,
   "id": "c260739a4f36c662",
   "metadata": {},
   "outputs": [],
   "source": [
    "active_burst_intervals = curr_active_pipeline.computation_results[global_epoch_name].computed_data['burst_detection']['burst_intervals']\n",
    "# active_burst_intervals"
   ]
  },
  {
   "cell_type": "code",
   "execution_count": null,
   "id": "769a1c6006aba5b7",
   "metadata": {},
   "outputs": [],
   "source": [
    "# Relative Entropy/Surprise Results:\n",
    "active_extended_stats = global_results['extended_stats']\n",
    "active_relative_entropy_results = active_extended_stats['pf_dt_sequential_surprise'] # DynamicParameters\n",
    "historical_snapshots = active_relative_entropy_results['historical_snapshots']\n",
    "post_update_times: np.ndarray = active_relative_entropy_results['post_update_times'] # (4152,) = (n_post_update_times,)\n",
    "snapshot_differences_result_dict = active_relative_entropy_results['snapshot_differences_result_dict']\n",
    "time_intervals: np.ndarray = active_relative_entropy_results['time_intervals']\n",
    "surprise_time_bin_duration = (post_update_times[2]-post_update_times[1])\n",
    "long_short_rel_entr_curves_frames: np.ndarray = active_relative_entropy_results['long_short_rel_entr_curves_frames'] # (4152, 108, 63) = (n_post_update_times, n_neurons, n_xbins)\n",
    "short_long_rel_entr_curves_frames: np.ndarray = active_relative_entropy_results['short_long_rel_entr_curves_frames'] # (4152, 108, 63) = (n_post_update_times, n_neurons, n_xbins)\n",
    "flat_relative_entropy_results: np.ndarray = active_relative_entropy_results['flat_relative_entropy_results'] # (149, 63) - (nSnapshots, nXbins)\n",
    "flat_jensen_shannon_distance_results: np.ndarray = active_relative_entropy_results['flat_jensen_shannon_distance_results'] # (149, 63) - (nSnapshots, nXbins)\n",
    "flat_jensen_shannon_distance_across_all_positions: np.ndarray = np.sum(np.abs(flat_jensen_shannon_distance_results), axis=1) # sum across all position bins # (4152,) - (nSnapshots)\n",
    "flat_surprise_across_all_positions: np.ndarray = np.sum(np.abs(flat_relative_entropy_results), axis=1) # sum across all position bins # (4152,) - (nSnapshots)\n",
    "\n",
    "## Get the placefield dt matrix:\n",
    "if 'snapshot_occupancy_weighted_tuning_maps' not in active_relative_entropy_results:\n",
    "\t## Compute it if missing:\n",
    "\toccupancy_weighted_tuning_maps_over_time = np.stack([placefield_snapshot.occupancy_weighted_tuning_maps_matrix for placefield_snapshot in historical_snapshots.values()])\n",
    "\tactive_relative_entropy_results['snapshot_occupancy_weighted_tuning_maps'] = occupancy_weighted_tuning_maps_over_time\n",
    "else:\n",
    "\toccupancy_weighted_tuning_maps_over_time = active_relative_entropy_results['snapshot_occupancy_weighted_tuning_maps'] # (n_post_update_times, n_neurons, n_xbins)\n"
   ]
  },
  {
   "cell_type": "code",
   "execution_count": null,
   "id": "9554d3bf5955d9d3",
   "metadata": {},
   "outputs": [],
   "source": [
    "# Time-dependent\n",
    "long_pf1D_dt, short_pf1D_dt, global_pf1D_dt = long_results.pf1D_dt, short_results.pf1D_dt, global_results.pf1D_dt\n",
    "long_pf2D_dt, short_pf2D_dt, global_pf2D_dt = long_results.pf2D_dt, short_results.pf2D_dt, global_results.pf2D_dt\n",
    "global_pf1D_dt: PfND_TimeDependent = global_results.pf1D_dt\n",
    "global_pf2D_dt: PfND_TimeDependent = global_results.pf2D_dt"
   ]
  },
  {
   "cell_type": "code",
   "execution_count": null,
   "id": "8624c62d5c18c556",
   "metadata": {},
   "outputs": [],
   "source": [
    "## long_short_endcap_analysis: checks for cells localized to the endcaps that have their placefields truncated after shortening the track\n",
    "truncation_checking_result: TruncationCheckingResults = curr_active_pipeline.global_computation_results.computed_data.long_short_endcap\n",
    "disappearing_endcap_aclus = truncation_checking_result.disappearing_endcap_aclus\n",
    "# disappearing_endcap_aclus\n",
    "trivially_remapping_endcap_aclus = truncation_checking_result.minor_remapping_endcap_aclus\n",
    "# trivially_remapping_endcap_aclus\n",
    "significant_distant_remapping_endcap_aclus = truncation_checking_result.significant_distant_remapping_endcap_aclus\n",
    "# significant_distant_remapping_endcap_aclus\n",
    "appearing_aclus = jonathan_firing_rate_analysis_result.neuron_replay_stats_df[jonathan_firing_rate_analysis_result.neuron_replay_stats_df['track_membership'] == SplitPartitionMembership.RIGHT_ONLY].index\n",
    "# appearing_aclus"
   ]
  },
  {
   "cell_type": "code",
   "execution_count": null,
   "id": "cbf30c04",
   "metadata": {},
   "outputs": [],
   "source": [
    "curr_active_pipeline.prepare_for_display()\n",
    "curr_active_pipeline.display('_display_1d_placefields', 'maze1_odd') # , 'maze1_odd'\n"
   ]
  },
  {
   "cell_type": "code",
   "execution_count": null,
   "id": "bcc832fb",
   "metadata": {},
   "outputs": [],
   "source": [
    "from pyphoplacecellanalysis.General.Mixins.ExportHelpers import programmatic_render_to_file\n",
    "\n",
    "programmatic_render_to_file(curr_active_pipeline, curr_display_function_name='_display_1d_placefields', write_vector_format=True, write_png=True, debug_print=True)"
   ]
  },
  {
   "cell_type": "code",
   "execution_count": null,
   "id": "6314950a",
   "metadata": {},
   "outputs": [],
   "source": [
    "curr_active_pipeline.reload_default_display_functions()\n",
    "curr_active_pipeline.prepare_for_display()"
   ]
  },
  {
   "cell_type": "code",
   "execution_count": null,
   "id": "b0ccab8b",
   "metadata": {},
   "outputs": [],
   "source": [
    "\n",
    "_out = curr_active_pipeline.display('_display_1d_placefields', 'maze_any')\n"
   ]
  },
  {
   "cell_type": "code",
   "execution_count": null,
   "id": "606e9164",
   "metadata": {},
   "outputs": [],
   "source": [
    "_out"
   ]
  },
  {
   "cell_type": "code",
   "execution_count": null,
   "id": "357f844b",
   "metadata": {},
   "outputs": [],
   "source": [
    "curr_active_pipeline.display('_display_1d_placefields', 'maze_any')"
   ]
  },
  {
   "cell_type": "code",
   "execution_count": null,
   "id": "546f7639",
   "metadata": {},
   "outputs": [],
   "source": [
    "curr_active_pipeline.display('_display_placemaps_pyqtplot_2D', 'maze2_odd')"
   ]
  },
  {
   "cell_type": "code",
   "execution_count": null,
   "id": "0aaf32b0",
   "metadata": {},
   "outputs": [],
   "source": [
    "curr_active_pipeline.display('_display_1d_placefields', 'maze2_odd')"
   ]
  },
  {
   "cell_type": "code",
   "execution_count": null,
   "id": "45a6994d",
   "metadata": {},
   "outputs": [],
   "source": [
    "curr_active_pipeline.display('_display_3d_interactive_spike_and_behavior_browser', 'maze1_odd')"
   ]
  },
  {
   "cell_type": "code",
   "execution_count": null,
   "id": "cfbb1191",
   "metadata": {},
   "outputs": [],
   "source": [
    "\n",
    "# Adjust layout to make space for the footer\n",
    "# plt.subplots_adjust(bottom=0.35)\n",
    "\n",
    "plt.tight_layout(pad=2.0)"
   ]
  },
  {
   "cell_type": "code",
   "execution_count": null,
   "id": "885ecb1d",
   "metadata": {},
   "outputs": [],
   "source": [
    "_display_placemaps_pyqtplot_2D"
   ]
  },
  {
   "cell_type": "code",
   "execution_count": null,
   "id": "44a1db23",
   "metadata": {},
   "outputs": [],
   "source": [
    "curr_active_pipeline.registered_display_function_docs_dict"
   ]
  },
  {
   "cell_type": "code",
   "execution_count": null,
   "id": "b558758b",
   "metadata": {},
   "outputs": [],
   "source": [
    "from mpl_multitab import MplMultiTab, MplMultiTab2D\n",
    "from pyphoplacecellanalysis.General.Mixins.ExportHelpers import programmatic_display_to_PDF, programmatic_render_to_file\n",
    "from pyphoplacecellanalysis.PhoPositionalData.plotting.placefield import plot_single_cell_1D_placecell_validation\n",
    "from pyphoplacecellanalysis.PhoPositionalData.plotting.placefield import plot_1d_placecell_validations\n",
    "\n",
    "\n",
    "# matplotlib_configuration_update(is_interactive=True)\n",
    "\n",
    "# curr_active_pipeline.display('_display_grid_bin_bounds_validation')\n",
    "_out = curr_active_pipeline.display('_display_1d_placefield_validations', 'maze1_odd')\n",
    "_out.ui.show()"
   ]
  },
  {
   "cell_type": "code",
   "execution_count": null,
   "id": "7f301b08",
   "metadata": {},
   "outputs": [],
   "source": [
    "\n",
    "programmatic_display_to_PDF(curr_active_pipeline, curr_display_function_name='_display_1d_placefield_validations', filter_name='maze1_odd', debug_print=True)\n",
    "\n",
    "# plt.show()"
   ]
  },
  {
   "cell_type": "code",
   "execution_count": null,
   "id": "3f824cf2",
   "metadata": {},
   "outputs": [],
   "source": [
    "placefield_cell_index = 0\n",
    "active_epoch_placefields1D = deepcopy(long_pf1D)\n",
    "curr_cell_normalized_tuning_curve = active_epoch_placefields1D.ratemap.normalized_tuning_curves[placefield_cell_index, :].squeeze()\n",
    "{'xbin_centers': active_epoch_placefields1D.ratemap.xbin_centers, 'curr_cell_normalized_tuning_curve': curr_cell_normalized_tuning_curve}\n",
    "\n",
    "{'xbin_centers': np.array([31.0565, 34.8495, 38.6426, 42.4356, 46.2286, 50.0216, 53.8147, 57.6077, 61.4007, 65.1937, 68.9867, 72.7798, 76.5728, 80.3658, 84.1588, 87.9519, 91.7449, 95.5379, 99.3309, 103.124, 106.917, 110.71, 114.503, 118.296, 122.089, 125.882, 129.675, 133.468, 137.261, 141.054, 144.847, 148.64, 152.433, 156.226, 160.019, 163.812, 167.605, 171.398, 175.191, 178.984, 182.777, 186.57, 190.363, 194.157, 197.95, 201.743, 205.536, 209.329, 213.122, 216.915, 220.708, 224.501, 228.294, 232.087, 235.88, 239.673, 243.466, 247.259, 251.052, 254.845, 258.638, 262.431]),\n",
    " 'curr_cell_normalized_tuning_curve': np.array([5.92979e-05, 0.000150933, 0.00036895, 0.000736517, 0.00121915, 0.00173714, 0.0022042, 0.00252859, 0.0026496, 0.0027108, 0.00312627, 0.00423033, 0.00579314, 0.00709557, 0.00766535, 0.00789647, 0.00884807, 0.0115452, 0.0165549, 0.0238423, 0.0323681, 0.039895, 0.0442459, 0.0452642, 0.0449909, 0.0457691, 0.0485138, 0.0525281, 0.0562324, 0.0581433, 0.0575758, 0.0544383, 0.0486438, 0.0404683, 0.0315115, 0.0243731, 0.0207242, 0.0199181, 0.0197507, 0.0183449, 0.0153819, 0.0119837, 0.00951012, 0.00827676, 0.00740415, 0.00596512, 0.00396809, 0.00210018, 0.000875453, 0.000302685, 0.000153468, 0.00027615, 0.000667689, 0.00135676, 0.00224608, 0.00305331, 0.0034339, 0.0031979, 0.0024518, 0.00153458, 0.00079294, 0.000405152])}\n"
   ]
  },
  {
   "cell_type": "code",
   "execution_count": null,
   "id": "ff5d7994",
   "metadata": {},
   "outputs": [],
   "source": [
    "# batch_extended_programmatic_figures\n"
   ]
  },
  {
   "cell_type": "code",
   "execution_count": null,
   "id": "40083faa",
   "metadata": {},
   "outputs": [],
   "source": [
    "curr_active_pipeline.display('_display_1d_placefields', 'maze1_odd')"
   ]
  },
  {
   "cell_type": "code",
   "execution_count": null,
   "id": "77344ed3",
   "metadata": {},
   "outputs": [],
   "source": [
    "curr_active_pipeline.display('_display_1d_placefields', 'maze2_even')"
   ]
  },
  {
   "cell_type": "code",
   "execution_count": null,
   "id": "a66fdc07",
   "metadata": {},
   "outputs": [],
   "source": [
    "\n",
    "#TODO 2023-11-29 09:18: - [ ] Not good, the self.filtered_contexts are not unique!\n",
    "list(curr_active_pipeline.filtered_contexts.values())\n",
    "# [IdentifyingContext<(... 'maze2')>, IdentifyingContext<(... 'maze2')>, IdentifyingContext<(..., 'maze')>, IdentifyingContext<(... 'maze2')>, IdentifyingContext<(... 'maze2')>, IdentifyingContext<(..., 'maze')>, IdentifyingContext<(...ze1_any')>, IdentifyingContext<(... 'maze2')>, IdentifyingContext<(..., 'maze')>]\n",
    "[(v == curr_active_pipeline.filtered_contexts['maze1_even']) for v in list(curr_active_pipeline.filtered_contexts.values())]\n",
    "# [True, True, False, True, True, False, False, True, False]\n",
    "# meaning `curr_active_pipeline.display('_display_1d_placefields', curr_active_pipeline.filtered_contexts['maze1_even'])` doesn't work\n",
    "curr_active_pipeline.filtered_contexts.index(curr_active_pipeline.filtered_contexts['maze1_even'])"
   ]
  },
  {
   "cell_type": "code",
   "execution_count": null,
   "id": "8c4e9d82",
   "metadata": {},
   "outputs": [],
   "source": [
    "curr_active_pipeline.display('_display_1d_placefields', 'maze2_odd')\n"
   ]
  },
  {
   "cell_type": "code",
   "execution_count": null,
   "id": "497d3385",
   "metadata": {},
   "outputs": [],
   "source": [
    "write_vector_format = False\n",
    "write_png = True\n",
    "debug_print = True\n",
    "from neuropy.plotting.ratemaps import BackgroundRenderingOptions\n",
    "\n",
    "programmatic_render_to_file(curr_active_pipeline, curr_display_function_name='_display_2d_placefield_result_plot_ratemaps_2D', write_vector_format=write_vector_format, write_png=write_png, debug_print=debug_print, bg_rendering_mode=BackgroundRenderingOptions.EMPTY) #  🟢✅ Now seems to be working and saving to PDF!! Still using matplotlib.use('Qt5Agg') mode and plots still appear.\n"
   ]
  },
  {
   "cell_type": "code",
   "execution_count": null,
   "id": "ce7e9185",
   "metadata": {},
   "outputs": [],
   "source": [
    "_out = curr_active_pipeline.display('_display_2d_placefield_occupancy', 'maze2_any')"
   ]
  },
  {
   "cell_type": "code",
   "execution_count": null,
   "id": "90e90109",
   "metadata": {},
   "outputs": [],
   "source": [
    "_out = curr_active_pipeline.display('_display_2d_placefield_occupancy', 'maze1_any')\n",
    "occupancy_ax = _out.axes #.get_aspect()\n",
    "pf = long_pf2D\n",
    "# pf.xbin\n",
    "# pf.ybin\n",
    "# pf.xbin_centers\n",
    "# pf.ybin_centers\n",
    "\n",
    "# aspect_ratio = np.ptp(pf.xbin) / np.ptp(pf.ybin)  # ptp: peak to peak (range)\n",
    "# aspect_ratio = 0.102803738317757\n",
    "# print(f'aspect_ratio: {aspect_ratio}')\n",
    "# occupancy_ax.set_aspect(aspect_ratio, adjustable='box') # If 'box', change the physical dimensions of the Axes. If 'datalim', change the x or y data limits.\n",
    "\n",
    "\n",
    "## See \n",
    "# https://matplotlib.org/stable/api/_as_gen/matplotlib.axes.Axes.set_anchor.html#\n",
    "\n",
    "\n",
    "occupancy_ax.set_aspect('equal', adjustable=None)\n"
   ]
  },
  {
   "cell_type": "code",
   "execution_count": null,
   "id": "ce50ea4d",
   "metadata": {},
   "outputs": [],
   "source": [
    "occupancy_ax.set_aspect('equal', adjustable='datalim')"
   ]
  },
  {
   "cell_type": "code",
   "execution_count": null,
   "id": "800ecc2e",
   "metadata": {},
   "outputs": [],
   "source": [
    "occupancy_ax.set_aspect('equal', adjustable='box')"
   ]
  },
  {
   "cell_type": "code",
   "execution_count": null,
   "id": "cea7d05b",
   "metadata": {},
   "outputs": [],
   "source": [
    "curr_active_pipeline.reload_default_display_functions()"
   ]
  },
  {
   "cell_type": "code",
   "execution_count": null,
   "id": "f42513c8",
   "metadata": {},
   "outputs": [],
   "source": [
    "programmatic_render_to_file(curr_active_pipeline, curr_display_function_name='_display_2d_placefield_occupancy', write_vector_format=write_vector_format, write_png=write_png, debug_print=debug_print)"
   ]
  },
  {
   "cell_type": "markdown",
   "id": "5a572825",
   "metadata": {},
   "source": [
    "# EVEN: \"RL\", ODD: \"LR\"\n",
    "Starts with Even (idx=0)\n",
    "- EVEN: \"RL\"\n",
    "shared_RL_aclus_only_neuron_IDs\n",
    "`is_even = (an_epoch.lap_dir == 0)`\n",
    "- ODD: \"LR\"\n",
    "shared_LR_aclus_only_neuron_IDs\n",
    "`is_odd = (an_epoch.lap_dir == 1)`"
   ]
  },
  {
   "cell_type": "markdown",
   "id": "9ac0ef2b",
   "metadata": {},
   "source": [
    "# 🟢 2023-10-20 - Z-Score Comparisons with Neuron_ID Shuffled templates\n",
    "1. Take the intersection of the long and short templates to get only the common cells\n",
    "2. Determine the long and short \"tempaltes\": this is done by ranking the aclus for each by their placefields' center of mass. `compute_placefield_center_of_masses`\n",
    "\t2a. `long_pf_peak_ranks`, `short_pf_peak_ranks` - there are one of each of these for each shared aclu.\n",
    "3. Generate the unit_id shuffled (`shuffled_aclus`, `shuffle_IDXs`) ahead of time to use to shuffle the two templates during the epochs.\n",
    "4. For each replay event, take each shuffled template\n",
    "\t4a. Iterate through each shuffle and obtain the shuffled templates like `long_pf_peak_ranks[epoch_specific_shuffled_indicies]`, `short_pf_peak_ranks[epoch_specific_shuffled_indicies]`\n",
    "\t4b. compute the spearman rank-order of the event and each shuffled template, and accumulate the results in `long_spearmanr_rank_stats_results`, `short_spearmanr_rank_stats_results`\n",
    "\n",
    "5. After we're done with the shuffle loop, accumulate the results and convert to the right output format.\n",
    "\n",
    "6. When all epochs are done, loop through the results (the epochs again) and compute the z-scores for each epoch so they can be compared to each other. Keep track of the means and std_dev for comparisons later, and subtract the two sets of z-scores (long/short) to get the delta_Z for each template.\n",
    "\n",
    "7. TODO: Next figure out what to do with the array of z-scores and delta_Z. We have:\n",
    "\tn_epochs sets of results\n",
    "\t\tn_shuffles scores of delta_Z\n",
    "\n"
   ]
  },
  {
   "cell_type": "markdown",
   "id": "87fd9d61",
   "metadata": {},
   "source": [
    "## Convo with Kamran 2023-10-23:\n",
    "- Use directional templates **\n",
    "- No need to worry about re-ranking\n",
    "[X] Plot the long and short separately in addition to the difference, so we show significant reqplay on each as a sanity check\n",
    "[X] Absolute value difference?\n",
    "[X] Fisher transform the correlation values (check if there is a difference) because correlation coefficients aren't going to be normally distributed.\n",
    "\t[ ] Then Z-score releative to fisher.\n",
    "\n",
    "- T-test to compare to mean of zero (if looking at the difference)"
   ]
  },
  {
   "cell_type": "code",
   "execution_count": null,
   "id": "419ffd4a",
   "metadata": {},
   "outputs": [],
   "source": [
    "## Concerns:\n",
    "# 1. Permutation recommended over shuffling for small numbers of ids\n",
    "# 2.\n",
    "\n",
    "# 5Hz thresholding of templates\n"
   ]
  },
  {
   "cell_type": "code",
   "execution_count": 10,
   "id": "fd86cb20",
   "metadata": {
    "ExecuteTime": {
     "end_time": "2023-11-16T23:22:34.093953500Z",
     "start_time": "2023-11-16T23:22:33.960957900Z"
    },
    "notebookRunGroups": {
     "groupValue": "1"
    },
    "slideshow": {
     "slide_type": "fragment"
    }
   },
   "outputs": [],
   "source": [
    "from nptyping import NDArray\n",
    "from attrs import define, field, Factory, astuple\n",
    "import scipy.stats\n",
    "from scipy import ndimage\n",
    "from neuropy.utils.misc import build_shuffled_ids # used in _SHELL_analyze_leave_one_out_decoding_results\n",
    "from pyphoplacecellanalysis.SpecificResults.PhoDiba2023Paper import pho_stats_paired_t_test\n",
    "\n",
    "# minimum_inclusion_fr_Hz: float = 2.0\n",
    "rank_order_results: RankOrderComputationsContainer = curr_active_pipeline.global_computation_results.computed_data['RankOrder']\n",
    "minimum_inclusion_fr_Hz: float = rank_order_results.minimum_inclusion_fr_Hz\n",
    "\n",
    "# Recover from the saved global result:\n",
    "directional_laps_results = curr_active_pipeline.global_computation_results.computed_data['DirectionalLaps']\n",
    "# NEW 2023-11-22 method: Get the templates (which can be filtered by frate first) and the from those get the decoders):        \n",
    "# track_templates: TrackTemplates = directional_laps_results.get_shared_aclus_only_templates(minimum_inclusion_fr_Hz=minimum_inclusion_fr_Hz) # shared-only\n",
    "track_templates: TrackTemplates = directional_laps_results.get_templates(minimum_inclusion_fr_Hz=minimum_inclusion_fr_Hz) # non-shared-only\n",
    "long_LR_decoder, long_RL_decoder, short_LR_decoder, short_RL_decoder = track_templates.get_decoders()\n",
    "\n",
    "## Pre 2023-11-22 method: building a TrackTemplates object after getting the raw decoders:\n",
    "# long_LR_one_step_decoder_1D, long_RL_one_step_decoder_1D, short_LR_one_step_decoder_1D, short_RL_one_step_decoder_1D = directional_laps_results.get_decoders()\n",
    "# long_LR_decoder, long_RL_decoder, short_LR_decoder, short_RL_decoder = directional_laps_results.get_shared_aclus_only_decoders()\n",
    "# track_templates: TrackTemplates = TrackTemplates.init_from_paired_decoders(LR_decoder_pair=(long_LR_decoder, short_LR_decoder), RL_decoder_pair=(long_RL_decoder, short_RL_decoder))\n",
    "# # track_templates: TrackTemplates = TrackTemplates.init_from_paired_decoders(LR_decoder_pair=(long_LR_one_step_decoder_1D, short_LR_one_step_decoder_1D), RL_decoder_pair=(long_RL_one_step_decoder_1D, short_RL_one_step_decoder_1D)) # NOTE: now use the un-constrained versions\n",
    "\n",
    "# Unpack all directional variables:\n",
    "## {\"even\": \"RL\", \"odd\": \"LR\"}\n",
    "long_LR_name, short_LR_name, global_LR_name, long_RL_name, short_RL_name, global_RL_name, long_any_name, short_any_name, global_any_name = ['maze1_odd', 'maze2_odd', 'maze_odd', 'maze1_even', 'maze2_even', 'maze_even', 'maze1_any', 'maze2_any', 'maze_any']\n",
    "# Unpacking for `(long_LR_name, long_RL_name, short_LR_name, short_RL_name)`\n",
    "(long_LR_context, long_RL_context, short_LR_context, short_RL_context) = [curr_active_pipeline.filtered_contexts[a_name] for a_name in (long_LR_name, long_RL_name, short_LR_name, short_RL_name)]\n",
    "long_LR_epochs_obj, long_RL_epochs_obj, short_LR_epochs_obj, short_RL_epochs_obj, global_any_laps_epochs_obj = [curr_active_pipeline.computation_results[an_epoch_name].computation_config.pf_params.computation_epochs for an_epoch_name in (long_LR_name, long_RL_name, short_LR_name, short_RL_name, global_any_name)] # note has global also\n",
    "(long_LR_session, long_RL_session, short_LR_session, short_RL_session) = [curr_active_pipeline.filtered_sessions[an_epoch_name] for an_epoch_name in (long_LR_name, long_RL_name, short_LR_name, short_RL_name)] # sessions are correct at least, seems like just the computation parameters are messed up\n",
    "(long_LR_results, long_RL_results, short_LR_results, short_RL_results) = [curr_active_pipeline.computation_results[an_epoch_name].computed_data for an_epoch_name in (long_LR_name, long_RL_name, short_LR_name, short_RL_name)]\n",
    "(long_LR_computation_config, long_RL_computation_config, short_LR_computation_config, short_RL_computation_config) = [curr_active_pipeline.computation_results[an_epoch_name].computation_config for an_epoch_name in (long_LR_name, long_RL_name, short_LR_name, short_RL_name)]\n",
    "(long_LR_pf1D, long_RL_pf1D, short_LR_pf1D, short_RL_pf1D) = (long_LR_results.pf1D, long_RL_results.pf1D, short_LR_results.pf1D, short_RL_results.pf1D)\n",
    "(long_LR_pf2D, long_RL_pf2D, short_LR_pf2D, short_RL_pf2D) = (long_LR_results.pf2D, long_RL_results.pf2D, short_LR_results.pf2D, short_RL_results.pf2D)\n",
    "(long_LR_pf1D_Decoder, long_RL_pf1D_Decoder, short_LR_pf1D_Decoder, short_RL_pf1D_Decoder) = (long_LR_results.pf1D_Decoder, long_RL_results.pf1D_Decoder, short_LR_results.pf1D_Decoder, short_RL_results.pf1D_Decoder)\n",
    "\n",
    "LR_results_real_values = np.array([(long_stats_z_scorer.real_value, short_stats_z_scorer.real_value) for epoch_id, (long_stats_z_scorer, short_stats_z_scorer, long_short_z_diff, long_short_naive_z_diff, is_forward_replay) in rank_order_results.LR_ripple.ranked_aclus_stats_dict.items()])\n",
    "RL_results_real_values = np.array([(long_stats_z_scorer.real_value, short_stats_z_scorer.real_value) for epoch_id, (long_stats_z_scorer, short_stats_z_scorer, long_short_z_diff, long_short_naive_z_diff, is_forward_replay) in rank_order_results.RL_ripple.ranked_aclus_stats_dict.items()])\n",
    "\n",
    "LR_results_long_short_z_diffs = np.array([long_short_z_diff for epoch_id, (long_stats_z_scorer, short_stats_z_scorer, long_short_z_diff, long_short_naive_z_diff, is_forward_replay) in rank_order_results.LR_ripple.ranked_aclus_stats_dict.items()])\n",
    "RL_results_long_short_z_diff = np.array([long_short_z_diff for epoch_id, (long_stats_z_scorer, short_stats_z_scorer, long_short_z_diff, long_short_naive_z_diff, is_forward_replay) in rank_order_results.RL_ripple.ranked_aclus_stats_dict.items()])\n",
    "\n",
    "\n",
    "# LR_results_real_values"
   ]
  },
  {
   "cell_type": "code",
   "execution_count": null,
   "id": "3ebb454c",
   "metadata": {
    "tags": [
     "histogram"
    ]
   },
   "outputs": [],
   "source": [
    "from pyphoplacecellanalysis.General.Pipeline.Stages.ComputationFunctions.MultiContextComputationFunctions.RankOrderComputations import plot_rank_order_histograms\n",
    "\n",
    "# Plot histograms:\n",
    "post_title_info: str = f'{minimum_inclusion_fr_Hz} Hz\\n{curr_active_pipeline.get_session_context().get_description()}'\n",
    "_out_z_score, _out_real, _out_most_likely_z = plot_rank_order_histograms(rank_order_results, post_title_info=post_title_info)\n"
   ]
  },
  {
   "cell_type": "markdown",
   "id": "b641e1f6",
   "metadata": {},
   "source": [
    "#TODO 2023-12-10 19:56: - [ ] Histogram Display Helpers\n",
    "\n",
    "#TODO 2023-12-10 19:56: - [ ] Pf1D Helpers\n",
    "\n",
    "#TODO 2023-12-10 19:57: - [ ] Variant Saving\n",
    " "
   ]
  },
  {
   "cell_type": "code",
   "execution_count": null,
   "id": "c33ed6d2",
   "metadata": {},
   "outputs": [],
   "source": [
    "track_templates: TrackTemplates = directional_laps_results.get_templates(minimum_inclusion_fr_Hz=0.0) # non-shared-only\n",
    "long_LR_decoder, long_RL_decoder, short_LR_decoder, short_RL_decoder = track_templates.get_decoders()\n",
    "\n",
    "# filtered_decoder_list = [filtered_by_frate(a_decoder, minimum_inclusion_fr_Hz=minimum_inclusion_fr_Hz, debug_print=True) for a_decoder in (long_LR_one_step_decoder_1D, long_RL_one_step_decoder_1D, short_LR_one_step_decoder_1D, short_RL_one_step_decoder_1D)]\n",
    "original_neuron_ids_list = [a_decoder.pf.ratemap.neuron_ids for a_decoder in (long_LR_decoder, long_RL_decoder, short_LR_decoder, short_RL_decoder)]\n",
    "is_aclu_included_list = [a_decoder.pf.ratemap.tuning_curve_unsmoothed_peak_firing_rates >= minimum_inclusion_fr_Hz for a_decoder in (long_LR_decoder, long_RL_decoder, short_LR_decoder, short_RL_decoder)]\n",
    "filtered_aclus_list = [np.array(a_decoder.pf.ratemap.neuron_ids)[a_decoder.pf.ratemap.tuning_curve_unsmoothed_peak_firing_rates >= minimum_inclusion_fr_Hz] for a_decoder in (long_LR_decoder, long_RL_decoder, short_LR_decoder, short_RL_decoder)]\n",
    "\n",
    "## For a given run direction (LR/RL) let's require inclusion in either (OR) long v. short to be included.\n",
    "filtered_included_LR_aclus = np.union1d(filtered_aclus_list[0], filtered_aclus_list[2])\n",
    "filtered_included_RL_aclus = np.union1d(filtered_aclus_list[1], filtered_aclus_list[3])\n",
    "# build the final shared aclus:\n",
    "filtered_direction_shared_aclus_list = [filtered_included_LR_aclus, filtered_included_RL_aclus, filtered_included_LR_aclus, filtered_included_RL_aclus] # contains the shared aclus for that direction\n",
    "# rebuild the is_aclu_included_list from the shared aclus\n",
    "is_aclu_included_list = [np.isin(an_original_neuron_ids, a_filtered_neuron_ids) for an_original_neuron_ids, a_filtered_neuron_ids in zip(original_neuron_ids_list, filtered_direction_shared_aclus_list)]\n",
    "\n",
    "# is_aclu_included_list[0]\n",
    "filtered_direction_shared_aclus_list"
   ]
  },
  {
   "cell_type": "code",
   "execution_count": null,
   "id": "017813cc",
   "metadata": {},
   "outputs": [],
   "source": [
    "# # for 5Hz:\n",
    "# [array([  5,   7,  31,  39,  41,  45,  46,  48,  50,  55,  61,  62,  64,  69,  72,  75,  76,  78,  79,  83,  84,  86,  88,  90,  91,  92,  95,  99, 100, 108]),\n",
    "#  array([  5,   7,   9,  31,  32,  39,  41,  45,  46,  48,  50,  55,  61,  62,  64,  69,  72,  75,  76,  78,  79,  83,  84,  86,  88,  90,  91,  92,  93,  95,  99, 101, 108]),\n",
    "#  array([  5,   7,  31,  39,  41,  45,  46,  48,  50,  55,  61,  62,  64,  69,  72,  75,  76,  78,  79,  83,  84,  86,  88,  90,  91,  92,  95,  99, 100, 108]),\n",
    "#  array([  5,   7,   9,  31,  32,  39,  41,  45,  46,  48,  50,  55,  61,  62,  64,  69,  72,  75,  76,  78,  79,  83,  84,  86,  88,  90,  91,  92,  93,  95,  99, 101, 108])]\n",
    "\n",
    "# # for 20Hz:\n",
    "# [array([  5,  41,  46,  48,  69,  78,  79,  83,  86,  88,  90, 108]),\n",
    "#  array([ 62,  64,  75,  78,  83,  91, 101]),\n",
    "#  array([  5,  41,  46,  48,  69,  78,  79,  83,  86,  88,  90, 108]),\n",
    "#  array([ 62,  64,  75,  78,  83,  91, 101])]"
   ]
  },
  {
   "cell_type": "markdown",
   "id": "f6ccfe1f",
   "metadata": {},
   "source": [
    "# 2023-11-22 - RECOMPUTE"
   ]
  },
  {
   "cell_type": "code",
   "execution_count": null,
   "id": "c22e7090",
   "metadata": {},
   "outputs": [],
   "source": [
    "from pyphoplacecellanalysis.General.Pipeline.Stages.ComputationFunctions.MultiContextComputationFunctions.DirectionalPlacefieldGlobalComputationFunctions import DirectionalLapsHelpers\n",
    "from pyphoplacecellanalysis.General.Pipeline.Stages.ComputationFunctions.MultiContextComputationFunctions.RankOrderComputations import RankOrderGlobalComputationFunctions\n",
    "\n",
    "curr_active_pipeline.reload_default_computation_functions()\n",
    "\n",
    "## clear the old values to prepare for the new ones:\n",
    "curr_active_pipeline.global_computation_results.computed_data['DirectionalLaps'] = None\n",
    "curr_active_pipeline.global_computation_results.computed_data['RankOrder'] = None\n",
    "del curr_active_pipeline.global_computation_results.computed_data['DirectionalLaps']\n",
    "del curr_active_pipeline.global_computation_results.computed_data['RankOrder']\n"
   ]
  },
  {
   "cell_type": "code",
   "execution_count": null,
   "id": "7f64b8a0",
   "metadata": {},
   "outputs": [],
   "source": [
    "curr_active_pipeline.global_computation_results.computed_data['DirectionalLaps'] = DirectionalLapsHelpers.build_global_directional_result_from_natural_epochs(curr_active_pipeline, progress_print=True) # repalce the directional laps object\n",
    "directional_laps_results: DirectionalLapsResult = curr_active_pipeline.global_computation_results.computed_data['DirectionalLaps']\n",
    "\n",
    "minimum_inclusion_fr_Hz = 5.0\n",
    "included_qclu_values = [1,2]\n",
    "\n",
    "# minimum_inclusion_fr_Hz = 1.0\n",
    "# included_qclu_values = [1,2,4,9]\n",
    "\n",
    "# perform_rank_order_shuffle_analysis\n",
    "# with VizTracer(output_file=f\"viztracer_{get_now_time_str()}-perform_rank_order_shuffle_analysis_{curr_active_pipeline.session_name}.json\", min_duration=200, tracer_entries=3000000, ignore_frozen=True) as tracer:\n",
    "\n",
    "## DO ALL:\n",
    "RankOrderGlobalComputationFunctions.perform_rank_order_shuffle_analysis(curr_active_pipeline, curr_active_pipeline.global_computation_results, None, None, include_includelist=None, debug_print=True,\n",
    "                                                                        num_shuffles=250, minimum_inclusion_fr_Hz=minimum_inclusion_fr_Hz, included_qclu_values=included_qclu_values, skip_laps=False)\n"
   ]
  },
  {
   "cell_type": "code",
   "execution_count": null,
   "id": "0b4a4744",
   "metadata": {},
   "outputs": [],
   "source": [
    "from pyphoplacecellanalysis.General.Pipeline.Stages.ComputationFunctions.MultiContextComputationFunctions.RankOrderComputations import RankOrderAnalyses\n",
    "\n",
    "RankOrderAnalyses.percentiles_computations(rank_order_results=rank_order_results)\n",
    "laps_merged_complete_epoch_stats_df: pd.DataFrame = rank_order_results.laps_merged_complete_epoch_stats_df ## New method\n",
    "ripple_merged_complete_epoch_stats_df: pd.DataFrame = rank_order_results.ripple_merged_complete_epoch_stats_df ## New method"
   ]
  },
  {
   "cell_type": "code",
   "execution_count": null,
   "id": "b48c2f08",
   "metadata": {},
   "outputs": [],
   "source": [
    "from pyphoplacecellanalysis.General.Pipeline.Stages.ComputationFunctions.MultiContextComputationFunctions.DirectionalPlacefieldGlobalComputationFunctions import DirectionalLapsHelpers\n",
    "from pyphoplacecellanalysis.General.Pipeline.Stages.ComputationFunctions.MultiContextComputationFunctions.RankOrderComputations import RankOrderGlobalComputationFunctions\n",
    "\n",
    "curr_active_pipeline.reload_default_computation_functions()\n",
    "\n",
    "## DO just Pandas-based method and post-processing for best directions:\n",
    "RankOrderGlobalComputationFunctions.perform_pandas_based_rank_order_shuffle_analysis(curr_active_pipeline, curr_active_pipeline.global_computation_results, None, None, include_includelist=None, debug_print=True,\n",
    "                                                                        num_shuffles=1000, minimum_inclusion_fr_Hz=minimum_inclusion_fr_Hz, included_qclu_values=included_qclu_values, skip_laps=False)"
   ]
  },
  {
   "cell_type": "code",
   "execution_count": null,
   "id": "22c50e7e",
   "metadata": {},
   "outputs": [],
   "source": [
    "from pyphoplacecellanalysis.General.Pipeline.Stages.ComputationFunctions.MultiContextComputationFunctions.RankOrderComputations import RankOrderAnalyses\n",
    "\n",
    "directional_laps_results: DirectionalLapsResult = curr_active_pipeline.global_computation_results.computed_data['DirectionalLaps']\n",
    "selected_spikes_df = deepcopy(curr_active_pipeline.global_computation_results.computed_data['RankOrder'].LR_ripple.selected_spikes_df)\n",
    "# active_epochs = global_computation_results.computed_data['RankOrder'].ripple_most_likely_result_tuple.active_epochs\n",
    "active_epochs = deepcopy(curr_active_pipeline.global_computation_results.computed_data['RankOrder'].LR_ripple.epochs_df)\n",
    "track_templates = directional_laps_results.get_templates(minimum_inclusion_fr_Hz=minimum_inclusion_fr_Hz)\n",
    "\n",
    "with VizTracer(output_file=f\"viztracer_{get_now_time_str()}-pandas_df_based_correlation_computations.json\", min_duration=200, tracer_entries=3000000, ignore_frozen=True) as tracer:\n",
    "\tripple_combined_epoch_stats_df, ripple_new_output_tuple = RankOrderAnalyses.pandas_df_based_correlation_computations(selected_spikes_df=selected_spikes_df, active_epochs_df=active_epochs, track_templates=track_templates, num_shuffles=100)\n",
    "\n",
    "ripple_combined_epoch_stats_df\n",
    "\n",
    "# n_shuffles: [5, 50]\n",
    "# time: [\"10.4s\", \"1m 15.9s\"]"
   ]
  },
  {
   "cell_type": "code",
   "execution_count": null,
   "id": "21d6d5a1",
   "metadata": {},
   "outputs": [],
   "source": [
    "print(list(ripple_combined_epoch_stats_df.columns)) # ['long_RL_spearman', 'long_LR_pearson', 'short_RL_spearman', 'short_RL_pearson', 'long_LR_spearman', 'short_LR_pearson', 'short_LR_spearman', 'long_RL_pearson', 'long_RL_spearman_Z', 'long_LR_pearson_Z', 'short_RL_spearman_Z', 'short_RL_pearson_Z', 'long_LR_spearman_Z', 'short_LR_pearson_Z', 'short_LR_spearman_Z', 'long_RL_pearson_Z', 'label']\n",
    "\n",
    "['LR_Long_spearman_Z', 'LR_Long_spearman_Z', 'LR_Long_spearman_Z', 'LR_Long_spearman_Z']\n",
    "\n",
    "{'long_LR':'LR_Long'}\n",
    "\n",
    "decoder_name_to_column_name_prefix_map: Dict[str, str] = dict(zip(['long_LR', 'long_RL', 'short_LR', 'short_RL'], ['LR_Long', 'RL_Long', 'LR_Short', 'RL_Short']))\n",
    "\n",
    "rename_fn = lambda a_name: a_name.replace(\n",
    "\n",
    "[a_name.replace( for a_name in list(ripple_combined_epoch_stats_df.columns)]\n",
    "\n",
    "\n",
    "['long_RL_spearman', 'long_LR_pearson', 'short_RL_spearman', 'short_RL_pearson', 'long_LR_spearman', 'short_LR_pearson', 'short_LR_spearman', 'long_RL_pearson', 'long_RL_spearman_Z', 'long_LR_pearson_Z', 'short_RL_spearman_Z', 'short_RL_pearson_Z', 'long_LR_spearman_Z', 'short_LR_pearson_Z', 'short_LR_spearman_Z', 'long_RL_pearson_Z', 'label']\n",
    "\n"
   ]
  },
  {
   "cell_type": "code",
   "execution_count": null,
   "id": "ef655eec",
   "metadata": {},
   "outputs": [],
   "source": [
    "def build_column_rename_dict(column_names: List[str], decoder_name_to_column_name_prefix_map:Optional[Dict[str,str]]=None) -> Dict[str,str]:\n",
    "  \"\"\" \n",
    "  \n",
    "  column_names = ['long_RL_spearman', 'long_LR_pearson', 'short_RL_spearman', 'short_RL_pearson', 'long_LR_spearman', 'short_LR_pearson', 'short_LR_spearman', 'long_RL_pearson', 'long_RL_spearman_Z', 'long_LR_pearson_Z', 'short_RL_spearman_Z', 'short_RL_pearson_Z', 'long_LR_spearman_Z', 'short_LR_pearson_Z', 'short_LR_spearman_Z', 'long_RL_pearson_Z']\n",
    "  decoder_name_to_column_name_prefix_map = dict(zip(['long_LR', 'long_RL', 'short_LR', 'short_RL'], ['LR_Long', 'RL_Long', 'LR_Short', 'RL_Short']))\n",
    "\n",
    "  old_to_new_names = build_column_rename_dict(column_names, decoder_name_to_column_name_prefix_map.copy())\n",
    "  print(old_to_new_names)\n",
    "\n",
    "  {'long_RL_spearman': 'RL_Long_spearman', 'long_LR_pearson': 'LR_Long_pearson', 'short_RL_spearman': 'RL_Short_spearman', 'short_RL_pearson': 'RL_Short_pearson', 'long_LR_spearman': 'LR_Long_spearman', 'short_LR_pearson': 'LR_Short_pearson', 'short_LR_spearman': 'LR_Short_spearman', 'long_RL_pearson': 'RL_Long_pearson', 'long_RL_spearman_Z': 'RL_Long_spearman_Z', 'long_LR_pearson_Z': 'LR_Long_pearson_Z', 'short_RL_spearman_Z': 'RL_Short_spearman_Z', 'short_RL_pearson_Z': 'RL_Short_pearson_Z', 'long_LR_spearman_Z': 'LR_Long_spearman_Z', 'short_LR_pearson_Z': 'LR_Short_pearson_Z', 'short_LR_spearman_Z': 'LR_Short_spearman_Z', 'long_RL_pearson_Z': 'RL_Long_pearson_Z'}\n",
    "  \"\"\"\n",
    "  if decoder_name_to_column_name_prefix_map is None:\n",
    "    decoder_name_to_column_name_prefix_map = dict(zip(['long_LR', 'long_RL', 'short_LR', 'short_RL'], ['LR_Long', 'RL_Long', 'LR_Short', 'RL_Short']))\n",
    "  \n",
    "  old_to_new_names = {}\n",
    "  for col in column_names:\n",
    "    for decoder_name, prefix in decoder_name_to_column_name_prefix_map.items():\n",
    "      if decoder_name in col:\n",
    "        new_col = prefix + col.split(decoder_name)[-1]\n",
    "        old_to_new_names[col] = new_col\n",
    "  return old_to_new_names\n",
    "  \n",
    "column_names = ['long_RL_spearman', 'long_LR_pearson', 'short_RL_spearman', 'short_RL_pearson', 'long_LR_spearman', 'short_LR_pearson', 'short_LR_spearman', 'long_RL_pearson', 'long_RL_spearman_Z', 'long_LR_pearson_Z', 'short_RL_spearman_Z', 'short_RL_pearson_Z', 'long_LR_spearman_Z', 'short_LR_pearson_Z', 'short_LR_spearman_Z', 'long_RL_pearson_Z']\n",
    "old_to_new_names = build_column_rename_dict(column_names)\n",
    "print(old_to_new_names)\n",
    "ripple_combined_epoch_stats_df = ripple_combined_epoch_stats_df.rename(columns=old_to_new_names, inplace=False)\n",
    "ripple_combined_epoch_stats_df"
   ]
  },
  {
   "cell_type": "code",
   "execution_count": null,
   "id": "d7aac86f",
   "metadata": {},
   "outputs": [],
   "source": [
    "ripple_combined_epoch_stats_df.LR_Long_spearman_Z"
   ]
  },
  {
   "cell_type": "code",
   "execution_count": null,
   "id": "d2c4c11c",
   "metadata": {},
   "outputs": [],
   "source": [
    "curr_active_pipeline.global_computation_results.computed_data['RankOrder'].ripple_combined_epoch_stats_df, curr_active_pipeline.global_computation_results.computed_data['RankOrder'].ripple_new_output_tuple = ripple_combined_epoch_stats_df, ripple_new_output_tuple"
   ]
  },
  {
   "cell_type": "code",
   "execution_count": null,
   "id": "9513b9b5",
   "metadata": {},
   "outputs": [],
   "source": [
    "from pyphoplacecellanalysis.General.Pipeline.Stages.ComputationFunctions.MultiContextComputationFunctions.RankOrderComputations import RankOrderAnalyses\n",
    "\n",
    "decoder_aclu_peak_map_dict = track_templates.get_decoder_aclu_peak_map_dict()\n",
    "override_decoder_aclu_peak_map_dict = deepcopy(decoder_aclu_peak_map_dict)\n",
    "active_selected_spikes_df = RankOrderAnalyses._subfn_build_all_pf_peak_x_columns(track_templates, selected_spikes_df=selected_spikes_df, override_decoder_aclu_peak_map_dict=override_decoder_aclu_peak_map_dict)\n",
    "epoch_id_grouped_selected_spikes_df =  active_selected_spikes_df.groupby('Probe_Epoch_id') # I can even compute this outside the loop?"
   ]
  },
  {
   "cell_type": "code",
   "execution_count": null,
   "id": "83a9133f",
   "metadata": {},
   "outputs": [],
   "source": [
    "\n",
    "active_selected_spikes_df = deepcopy(epoch_id_grouped_selected_spikes_df)\n",
    "active_selected_spikes_df = RankOrderAnalyses._subfn_build_all_pf_peak_x_columns(track_templates, selected_spikes_df=active_selected_spikes_df, override_decoder_aclu_peak_map_dict=override_decoder_aclu_peak_map_dict)\n",
    "active_selected_spikes_df"
   ]
  },
  {
   "cell_type": "code",
   "execution_count": null,
   "id": "499ff169",
   "metadata": {},
   "outputs": [],
   "source": [
    "\n",
    "\n",
    "#TODO 2023-12-18 13:20: - [ ] This assumes that `'Probe_Epoch_id'` is correct and consistent for both directions, yeah?\n",
    "\n",
    "## Compute real values here:\n",
    "decoder_names = track_templates.get_decoder_names()\n",
    "\n",
    "epoch_id_grouped_selected_spikes_df =  active_selected_spikes_df.groupby('Probe_Epoch_id') # I can even compute this outside the loop?\n",
    "spearman_correlations = epoch_id_grouped_selected_spikes_df.apply(lambda group: RankOrderAnalyses._subfn_calculate_correlations(group, method='spearman', decoder_names=decoder_names)).reset_index() # Reset index to make 'Probe_Epoch_id' a column\n",
    "pearson_correlations = epoch_id_grouped_selected_spikes_df.apply(lambda group: RankOrderAnalyses._subfn_calculate_correlations(group, method='pearson', decoder_names=decoder_names)).reset_index() # Reset index to make 'Probe_Epoch_id' a column\n",
    "\n",
    "real_stats_df = pd.concat((spearman_correlations, pearson_correlations), axis='columns')\n",
    "real_stats_df = real_stats_df.loc[:, ~real_stats_df.columns.duplicated()] # drop duplicated 'Probe_Epoch_id' column\n",
    "# Change column type to uint64 for column: 'Probe_Epoch_id'\n",
    "real_stats_df = real_stats_df.astype({'Probe_Epoch_id': 'uint64'})\n",
    "# Rename column 'Probe_Epoch_id' to 'label'\n",
    "real_stats_df = real_stats_df.rename(columns={'Probe_Epoch_id': 'label'})\n",
    "real_stats_df"
   ]
  },
  {
   "cell_type": "code",
   "execution_count": null,
   "id": "f86d5ac8",
   "metadata": {},
   "outputs": [],
   "source": [
    "rank_order_results: RankOrderComputationsContainer = curr_active_pipeline.global_computation_results.computed_data['RankOrder']\n",
    "minimum_inclusion_fr_Hz: float = rank_order_results.minimum_inclusion_fr_Hz\n",
    "included_qclu_values: List[int] = rank_order_results.included_qclu_values\n",
    "ripple_result_tuple, laps_result_tuple = rank_order_results.ripple_most_likely_result_tuple, rank_order_results.laps_most_likely_result_tuple\n",
    "directional_laps_results: DirectionalLapsResult = curr_active_pipeline.global_computation_results.computed_data['DirectionalLaps']\n",
    "track_templates: TrackTemplates = directional_laps_results.get_templates(minimum_inclusion_fr_Hz=minimum_inclusion_fr_Hz) # non-shared-only -- !! Is minimum_inclusion_fr_Hz=None the issue/difference?\n",
    "print(f'minimum_inclusion_fr_Hz: {minimum_inclusion_fr_Hz}')\n",
    "print(f'included_qclu_values: {included_qclu_values}')\n",
    "\n",
    "# 10m 29.5s for 1000 shuffles.  c:\\Users\\pho\\repos\\Spike3DWorkEnv\\Spike3D\\viztracer_2023-11-22_16-11-perform_rank_order_shuffle_analysis.json\n",
    "\n",
    "# 3m 33.9s - 500\n",
    "# 3m 26.4s - 1000"
   ]
  },
  {
   "cell_type": "code",
   "execution_count": null,
   "id": "d6d74122",
   "metadata": {},
   "outputs": [],
   "source": [
    "_ripples_outputs = RankOrderAnalyses.main_ripples_analysis(curr_active_pipeline, num_shuffles=500, rank_alignment='median', minimum_inclusion_fr_Hz=minimum_inclusion_fr_Hz, included_qclu_values=included_qclu_values)\n",
    "(LR_ripple_outputs, RL_ripple_outputs, ripple_evts_paired_tests) = _ripples_outputs\n"
   ]
  },
  {
   "cell_type": "code",
   "execution_count": null,
   "id": "76178217",
   "metadata": {},
   "outputs": [],
   "source": [
    "# LR_ripple_outputs.epochs_df\n",
    "LR_ripple_outputs.spikes_df"
   ]
  },
  {
   "cell_type": "code",
   "execution_count": null,
   "id": "1d42afeb",
   "metadata": {},
   "outputs": [],
   "source": [
    "RL_ripple_outputs.spikes_df"
   ]
  },
  {
   "cell_type": "code",
   "execution_count": null,
   "id": "5383aae5",
   "metadata": {},
   "outputs": [],
   "source": [
    "LR_ripple_outputs.selected_spikes_df"
   ]
  },
  {
   "cell_type": "code",
   "execution_count": null,
   "id": "f4b664cb",
   "metadata": {},
   "outputs": [],
   "source": [
    "RL_ripple_outputs.\n",
    "\n"
   ]
  },
  {
   "cell_type": "code",
   "execution_count": null,
   "id": "3fc41020",
   "metadata": {},
   "outputs": [],
   "source": [
    "## Ensure equivalence of the two LR_ripple_outputs and RL_ripple_outputs for the fields that matter:\n",
    "assert LR_ripple_outputs.spikes_df.equals(RL_ripple_outputs.spikes_df), f\"spikes_df are not equal\"\n",
    "assert LR_ripple_outputs.selected_spikes_df.equals(RL_ripple_outputs.selected_spikes_df), f\"selected_spikes_df are not equal\"\n",
    "assert LR_ripple_outputs.epochs_df.equals(RL_ripple_outputs.epochs_df), f\"epochs_df are not equal\""
   ]
  },
  {
   "cell_type": "code",
   "execution_count": null,
   "id": "9defd355",
   "metadata": {},
   "outputs": [],
   "source": [
    "_new_rank_order_event_raster_debugger = RankOrderRastersDebugger.init_rank_order_debugger(deepcopy(LR_ripple_outputs.selected_spikes_df), deepcopy(LR_ripple_outputs.epochs_df), track_templates, rank_order_results, None, None)\n",
    "\n"
   ]
  },
  {
   "cell_type": "code",
   "execution_count": null,
   "id": "dfe68671",
   "metadata": {},
   "outputs": [],
   "source": [
    "# TypeError: <lambda>() missing 1 required positional argument\n"
   ]
  },
  {
   "cell_type": "code",
   "execution_count": null,
   "id": "28f1c551",
   "metadata": {},
   "outputs": [],
   "source": [
    "## Recompute just the `most_likely_directional_rank_order_shuffling` part:\n",
    "# from pyphoplacecellanalysis.General.Pipeline.Stages.ComputationFunctions.MultiContextComputationFunctions.RankOrderComputations import RankOrderComputationsContainer\n",
    "# from pyphoplacecellanalysis.General.Pipeline.Stages.ComputationFunctions.MultiContextComputationFunctions.RankOrderComputations import DirectionalRankOrderLikelihoods\n",
    "# from pyphoplacecellanalysis.General.Pipeline.Stages.ComputationFunctions.MultiContextComputationFunctions.RankOrderComputations import RankOrderAnalyses\n",
    "## Main\n",
    "ripple_result_tuple, laps_result_tuple = RankOrderAnalyses.most_likely_directional_rank_order_shuffling(curr_active_pipeline, decoding_time_bin_size=0.003)\n",
    "ripple_result_tuple"
   ]
  },
  {
   "cell_type": "code",
   "execution_count": null,
   "id": "cc170273",
   "metadata": {},
   "outputs": [],
   "source": [
    "rank_order_results.ripple_most_likely_result_tuple, rank_order_results.laps_most_likely_result_tuple = ripple_result_tuple, laps_result_tuple"
   ]
  },
  {
   "cell_type": "code",
   "execution_count": null,
   "id": "8d4b9c0f",
   "metadata": {},
   "outputs": [],
   "source": [
    "directional_likelihoods_tuple: DirectionalRankOrderLikelihoods = deepcopy(ripple_result_tuple.directional_likelihoods_tuple)\n",
    "directional_likelihoods_tuple.long_best_direction_indices\n",
    "directional_likelihoods_tuple.short_best_direction_indices\n",
    "# directional_likelihoods_tuple.long_relative_direction_likelihoods"
   ]
  },
  {
   "cell_type": "markdown",
   "id": "426c292d",
   "metadata": {},
   "source": [
    "\n",
    "\n",
    "\n",
    "\n",
    "# Saving/Loading `DirectionalLaps_2Hz`"
   ]
  },
  {
   "cell_type": "code",
   "execution_count": null,
   "id": "5ed6c50e",
   "metadata": {
    "tags": [
     "save"
    ]
   },
   "outputs": [],
   "source": [
    "from pyphoplacecellanalysis.General.Pipeline.Stages.ComputationFunctions.MultiContextComputationFunctions.RankOrderComputations import save_rank_order_results, SaveStringGenerator\n",
    "from pyphoplacecellanalysis.General.Pipeline.Stages.Loading import saveData\n",
    "\n",
    "save_rank_order_results(curr_active_pipeline, day_date=f\"{DAY_DATE_TO_USE}_1151am\")"
   ]
  },
  {
   "cell_type": "code",
   "execution_count": null,
   "id": "df0837fc",
   "metadata": {},
   "outputs": [],
   "source": [
    "rank_order_output_path = Path(r'W:\\Data\\KDIBA\\gor01\\one\\2006-6-08_14-26-15\\output\\2023-12-22_807pm-minimum_inclusion_fr-5-included_qclu_values-[1, 2]RankOrder.pkl').resolve()\n",
    "\n",
    "\n",
    "from pyphocorehelpers.Filesystem.pickling_helpers import custom_dump, custom_dumps\n",
    "import dill.detect\n",
    "dill.detect.trace(True)\n",
    "\n",
    "# dill.detect.badobjects(curr_active_pipeline.global_computation_results.computed_data['RankOrder'].__dict__)\n",
    "\n",
    "test_obj = curr_active_pipeline.global_computation_results.computed_data['RankOrder'] # pyphoplacecellanalysis.General.Pipeline.Stages.ComputationFunctions.MultiContextComputationFunctions.RankOrderComputations.RankOrderComputationsContainer\n",
    "dill.detect.badtypes(test_obj)\n",
    "\n",
    "# dill.detect.errors(test_obj)\n",
    "\n",
    "# with dill.detect.trace(True):\n",
    "# saveData(rank_order_output_path, (curr_active_pipeline.global_computation_results.computed_data['RankOrder'].__dict__,))\n",
    "# custom_dumps(curr_active_pipeline.global_computation_results.computed_data['RankOrder'].__dict__)\n",
    "#  with open(pkl_path, file_mode) as dbfile: \n",
    "# \t# source, destination\n",
    "# \t# pickle.dump(db, dbfile)\n",
    "# \tcustom_dump(db, dbfile) # ModuleExcludesPickler\n",
    "# \tdbfile.close()\n",
    "\t\n",
    "# # dumps(squared)\n",
    "# custom_dump(db, dbfile) # ModuleExcludesPickler\n",
    "# saveData(rank_order_output_path, (curr_active_pipeline.global_computation_results.computed_data['RankOrder'].__dict__,))\n"
   ]
  },
  {
   "cell_type": "code",
   "execution_count": null,
   "id": "d2230163",
   "metadata": {
    "tags": [
     "load"
    ]
   },
   "outputs": [],
   "source": [
    "from pyphoplacecellanalysis.General.Pipeline.Stages.ComputationFunctions.MultiContextComputationFunctions.RankOrderComputations import SaveStringGenerator\n",
    "from pyphoplacecellanalysis.General.Pipeline.Stages.Loading import loadData\n",
    "\n",
    "# Load the data from a file into the pipeline:\n",
    "# out_filename_str: str = '2023-12-11-minimum_inclusion_fr_Hz_2_included_qclu_values_1-2_' # specific\n",
    "\n",
    "minimum_inclusion_fr_Hz: float = 5.0\n",
    "included_qclu_values: List[int] = [1,2]\n",
    "out_filename_str = SaveStringGenerator.generate_save_suffix(minimum_inclusion_fr_Hz=minimum_inclusion_fr_Hz, included_qclu_values=included_qclu_values, day_date='2023-12-22_312pm') # '2023-12-21_349am'\n",
    "# out_filename_str = SaveStringGenerator.generate_save_suffix(minimum_inclusion_fr_Hz=minimum_inclusion_fr_Hz, included_qclu_values=included_qclu_values, day_date='2023-12-22_312pm') # '2023-12-21_349am'\n",
    "print(f'out_filename_str: \"{out_filename_str}\"')\n",
    "# day_date_str: str = '2023-12-11_with_tuple_newer_'\n",
    "# day_date_str: str = ''\n",
    "directional_laps_output_path = curr_active_pipeline.get_output_path().joinpath(f'{out_filename_str}DirectionalLaps.pkl').resolve()\n",
    "assert directional_laps_output_path.exists()\n",
    "# loaded_directional_laps, loaded_rank_order = loadData(directional_laps_output_path)\n",
    "loaded_directional_laps = loadData(directional_laps_output_path)\n",
    "assert (loaded_directional_laps is not None)\n",
    "# assert (loaded_rank_order is not None)\n",
    "\n",
    "rank_order_output_path = curr_active_pipeline.get_output_path().joinpath(f'{out_filename_str}RankOrder.pkl').resolve()\n",
    "loaded_rank_order = loadData(rank_order_output_path)"
   ]
  },
  {
   "cell_type": "code",
   "execution_count": null,
   "id": "475a82b8",
   "metadata": {},
   "outputs": [],
   "source": [
    "# Apply the loaded data to the pipeline:\n",
    "curr_active_pipeline.global_computation_results.computed_data['DirectionalLaps'], curr_active_pipeline.global_computation_results.computed_data['RankOrder'] = loaded_directional_laps, loaded_rank_order\n",
    "curr_active_pipeline.global_computation_results.computed_data['RankOrder']"
   ]
  },
  {
   "cell_type": "code",
   "execution_count": null,
   "id": "eb54cd39",
   "metadata": {},
   "outputs": [],
   "source": [
    "curr_active_pipeline.global_computation_results.computed_data['RankOrder']\n",
    "\n",
    "import dill as pickle\n",
    "\n",
    "def diagnose_pickling_issues(object_to_pickle):\n",
    "   \"\"\"Intellegently diagnoses which property on an object is causing pickling via Dill to fail.\"\"\"\n",
    "\n",
    "   try:\n",
    "       # Attempt to pickle the object directly\n",
    "       pickle.dumps(object_to_pickle)\n",
    "   except pickle.PicklingError as e:\n",
    "       # If pickling fails, initiate a diagnostic process\n",
    "       print(f\"Pickling error encountered: {e}\")\n",
    "\n",
    "       # Gather information about the object's attributes\n",
    "       object_attributes = [attr for attr in dir(object_to_pickle) if not attr.startswith(\"__\")]\n",
    "\n",
    "       # Isolate problematic attributes through iterative testing\n",
    "       problematic_attribute = None\n",
    "       for attribute in object_attributes:\n",
    "           try:\n",
    "               pickle.dumps(getattr(object_to_pickle, attribute))\n",
    "           except pickle.PicklingError:\n",
    "               problematic_attribute = attribute\n",
    "               break\n",
    "\n",
    "       # Provide informative output\n",
    "       if problematic_attribute:\n",
    "           print(f\"Identified problematic attribute: {problematic_attribute}\")\n",
    "           print(\"Potential causes:\")\n",
    "           print(\"- Attribute contains unpicklable data types (e.g., lambda functions, file objects).\")\n",
    "           print(\"- Attribute refers to external resources (e.g., database connections).\")\n",
    "           print(\"- Attribute has circular references within the object's structure.\")\n",
    "       else:\n",
    "           print(\"Unable to isolate the specific attribute causing the pickling error.\")\n",
    "           print(\"Consider:\")\n",
    "           print(\"- Examining the object's structure and dependencies for potential conflicts.\")\n",
    "           print(\"- Providing a minimal reproducible example for further analysis.\")\n",
    "\n",
    "   else:\n",
    "       # If pickling succeeds, indicate no issues found\n",
    "       print(\"No pickling issues detected.\")\n",
    "\n",
    "\n",
    "diagnose_pickling_issues(curr_active_pipeline.global_computation_results.computed_data['RankOrder'])\n",
    "\n",
    "# make a copy of an object"
   ]
  },
  {
   "cell_type": "code",
   "execution_count": null,
   "id": "cd521ff3",
   "metadata": {},
   "outputs": [],
   "source": [
    "rank_order_results.RL_ripple.selected_spikes_df"
   ]
  },
  {
   "cell_type": "code",
   "execution_count": null,
   "id": "7c0a14f8",
   "metadata": {},
   "outputs": [],
   "source": [
    "rank_order_results.LR_ripple.selected_spikes_df"
   ]
  },
  {
   "cell_type": "markdown",
   "id": "f4ec24467335a760",
   "metadata": {},
   "source": [
    "# POST-Compute:"
   ]
  },
  {
   "cell_type": "code",
   "execution_count": 26,
   "id": "728c46e6",
   "metadata": {
    "notebookRunGroups": {
     "groupValue": "21"
    }
   },
   "outputs": [
    {
     "name": "stdout",
     "output_type": "stream",
     "text": [
      "minimum_inclusion_fr_Hz: 5.0\n",
      "included_qclu_values: [1, 2]\n"
     ]
    }
   ],
   "source": [
    "from pyphoplacecellanalysis.General.Pipeline.Stages.ComputationFunctions.MultiContextComputationFunctions.DirectionalPlacefieldGlobalComputationFunctions import DirectionalPlacefieldGlobalDisplayFunctions\n",
    "from pyphoplacecellanalysis.General.Pipeline.Stages.DisplayFunctions.SpikeRasters import plot_multi_sort_raster_browser\n",
    "from pyphoplacecellanalysis.GUI.PyQtPlot.Widgets.ContainerBased.RankOrderRastersDebugger import RankOrderRastersDebugger\n",
    "\n",
    "from pyphoplacecellanalysis.General.Pipeline.Stages.DisplayFunctions.SpikeRasters import paired_separately_sort_neurons, paired_incremental_sort_neurons # _display_directional_template_debugger\n",
    "from neuropy.utils.indexing_helpers import paired_incremental_sorting, union_of_arrays, intersection_of_arrays, find_desired_sort_indicies\n",
    "from pyphoplacecellanalysis.GUI.Qt.Widgets.ScrollBarWithSpinBox.ScrollBarWithSpinBox import ScrollBarWithSpinBox\n",
    "\n",
    "from neuropy.utils.mixins.HDF5_representable import HDF_SerializationMixin\n",
    "from pyphoplacecellanalysis.General.Model.ComputationResults import ComputedResult\n",
    "from pyphoplacecellanalysis.General.Pipeline.Stages.ComputationFunctions.MultiContextComputationFunctions.DirectionalPlacefieldGlobalComputationFunctions import TrackTemplates\n",
    "from pyphoplacecellanalysis.General.Pipeline.Stages.ComputationFunctions.MultiContextComputationFunctions.RankOrderComputations import RankOrderAnalyses, RankOrderResult, ShuffleHelper, Zscorer, LongShortStatsTuple, DirectionalRankOrderLikelihoods, DirectionalRankOrderResult, RankOrderComputationsContainer\n",
    "from pyphoplacecellanalysis.General.Pipeline.Stages.ComputationFunctions.MultiContextComputationFunctions.RankOrderComputations import TimeColumnAliasesProtocol\n",
    "from pyphoplacecellanalysis.General.Pipeline.Stages.ComputationFunctions.MultiContextComputationFunctions.RankOrderComputations import RankOrderComputationsContainer\n",
    "\n",
    "## Display Testing\n",
    "# from pyphoplacecellanalysis.External.pyqtgraph import QtGui\n",
    "from pyphoplacecellanalysis.Pho2D.PyQtPlots.Extensions.pyqtgraph_helpers import pyqtplot_build_image_bounds_extent, pyqtplot_plot_image\n",
    "\n",
    "\n",
    "spikes_df = curr_active_pipeline.sess.spikes_df\n",
    "rank_order_results: RankOrderComputationsContainer = curr_active_pipeline.global_computation_results.computed_data['RankOrder']\n",
    "minimum_inclusion_fr_Hz: float = rank_order_results.minimum_inclusion_fr_Hz\n",
    "included_qclu_values: List[int] = rank_order_results.included_qclu_values\n",
    "ripple_result_tuple, laps_result_tuple = rank_order_results.ripple_most_likely_result_tuple, rank_order_results.laps_most_likely_result_tuple\n",
    "directional_laps_results: DirectionalLapsResult = curr_active_pipeline.global_computation_results.computed_data['DirectionalLaps']\n",
    "track_templates: TrackTemplates = directional_laps_results.get_templates(minimum_inclusion_fr_Hz=minimum_inclusion_fr_Hz) # non-shared-only -- !! Is minimum_inclusion_fr_Hz=None the issue/difference?\n",
    "print(f'minimum_inclusion_fr_Hz: {minimum_inclusion_fr_Hz}')\n",
    "print(f'included_qclu_values: {included_qclu_values}')\n",
    "# ripple_result_tuple\n",
    "\n",
    "## Unpacks `rank_order_results`: \n",
    "# global_replays = Epoch(deepcopy(curr_active_pipeline.filtered_sessions[global_epoch_name].replay))\n",
    "# global_replays = TimeColumnAliasesProtocol.renaming_synonym_columns_if_needed(deepcopy(curr_active_pipeline.filtered_sessions[global_epoch_name].replay))\n",
    "# active_replay_epochs, active_epochs_df, active_selected_spikes_df = combine_rank_order_results(rank_order_results, global_replays, track_templates=track_templates)\n",
    "# active_epochs_df\n",
    "\n",
    "# ripple_result_tuple.directional_likelihoods_tuple.long_best_direction_indices\n",
    "dir_index_to_direction_name_map: Dict[int, str] = {0:'LR', 1:\"RL\"}\n",
    "\n",
    "\n",
    "## All three DataFrames are the same number of rows, each with one row corresponding to an Epoch:\n",
    "active_replay_epochs_df = deepcopy(rank_order_results.LR_ripple.epochs_df)\n",
    "# active_replay_epochs_df\n",
    "\n",
    "# Change column type to int8 for columns: 'long_best_direction_indices', 'short_best_direction_indices'\n",
    "# directional_likelihoods_df = pd.DataFrame.from_dict(ripple_result_tuple.directional_likelihoods_tuple._asdict()).astype({'long_best_direction_indices': 'int8', 'short_best_direction_indices': 'int8'})\n",
    "directional_likelihoods_df = ripple_result_tuple.directional_likelihoods_df\n",
    "# directional_likelihoods_df\n",
    "\n",
    "# 2023-12-15 - Newest method:\n",
    "# laps_combined_epoch_stats_df = rank_order_results.laps_combined_epoch_stats_df\n",
    "\n",
    "# ripple_combined_epoch_stats_df: pd.DataFrame  = rank_order_results.ripple_combined_epoch_stats_df\n",
    "# ripple_combined_epoch_stats_df\n",
    "\n",
    "\n",
    "# # Concatenate the three DataFrames along the columns axis:\n",
    "# # Assert that all DataFrames have the same number of rows:\n",
    "# assert len(active_replay_epochs_df) == len(directional_likelihoods_df) == len(ripple_combined_epoch_stats_df), \"DataFrames have different numbers of rows.\"\n",
    "# # Assert that all DataFrames have at least one row:\n",
    "# assert len(active_replay_epochs_df) > 0, \"active_replay_epochs_df is empty.\"\n",
    "# assert len(directional_likelihoods_df) > 0, \"directional_likelihoods_df is empty.\"\n",
    "# assert len(ripple_combined_epoch_stats_df) > 0, \"ripple_combined_epoch_stats_df is empty.\"\n",
    "# merged_complete_epoch_stats_df: pd.DataFrame = pd.concat([active_replay_epochs_df.reset_index(drop=True, inplace=False), directional_likelihoods_df.reset_index(drop=True, inplace=False), ripple_combined_epoch_stats_df.reset_index(drop=True, inplace=False)], axis=1)\n",
    "# merged_complete_epoch_stats_df = merged_complete_epoch_stats_df.set_index(active_replay_epochs_df.index, inplace=False)\n",
    "\n",
    "# merged_complete_epoch_stats_df: pd.DataFrame = rank_order_results.ripple_merged_complete_epoch_stats_df ## New method\n",
    "# merged_complete_epoch_stats_df.to_csv('output/2023-12-21_merged_complete_epoch_stats_df.csv')\n",
    "# merged_complete_epoch_stats_df\n",
    "\n",
    "laps_merged_complete_epoch_stats_df: pd.DataFrame = rank_order_results.laps_merged_complete_epoch_stats_df ## New method\n",
    "ripple_merged_complete_epoch_stats_df: pd.DataFrame = rank_order_results.ripple_merged_complete_epoch_stats_df ## New method\n",
    "\n"
   ]
  },
  {
   "cell_type": "code",
   "execution_count": 32,
   "id": "dc8bba1b",
   "metadata": {},
   "outputs": [],
   "source": [
    "import dill\n",
    "import dill.source\n",
    "import dill.settings"
   ]
  },
  {
   "cell_type": "code",
   "execution_count": 31,
   "id": "3f0d7f9f",
   "metadata": {},
   "outputs": [
    {
     "ename": "TypeError",
     "evalue": "'module' object is not callable",
     "output_type": "error",
     "traceback": [
      "\u001b[1;31m---------------------------------------------------------------------------\u001b[0m",
      "\u001b[1;31mTypeError\u001b[0m                                 Traceback (most recent call last)",
      "\u001b[1;32mc:\\Users\\pho\\repos\\Spike3DWorkEnv\\Spike3D\\ReviewOfWork_2024-01-02.ipynb Cell 94\u001b[0m line \u001b[0;36m1\n\u001b[1;32m----> <a href='vscode-notebook-cell:/c%3A/Users/pho/repos/Spike3DWorkEnv/Spike3D/ReviewOfWork_2024-01-02.ipynb#Z1134sZmlsZQ%3D%3D?line=0'>1</a>\u001b[0m dill\u001b[39m.\u001b[39;49mobjtypes(ripple_result_tuple)\n",
      "\u001b[1;31mTypeError\u001b[0m: 'module' object is not callable"
     ]
    }
   ],
   "source": [
    "\n",
    "(ripple_result_tuple)"
   ]
  },
  {
   "cell_type": "code",
   "execution_count": 37,
   "id": "49dce29c",
   "metadata": {},
   "outputs": [],
   "source": [
    "from pyphoplacecellanalysis.General.Pipeline.Stages.ComputationFunctions.MultiContextComputationFunctions.RankOrderComputations import DirectionalRankOrderResult"
   ]
  },
  {
   "cell_type": "code",
   "execution_count": 38,
   "id": "8cdabd71",
   "metadata": {},
   "outputs": [
    {
     "data": {
      "text/plain": [
       "pyphoplacecellanalysis.General.Pipeline.Stages.ComputationFunctions.MultiContextComputationFunctions.RankOrderComputations.DirectionalRankOrderResult"
      ]
     },
     "execution_count": 38,
     "metadata": {},
     "output_type": "execute_result"
    }
   ],
   "source": [
    "type(ripple_result_tuple) # pyphoplacecellanalysis.General.Pipeline.Stages.ComputationFunctions.MultiContextComputationFunctions.RankOrderComputations.DirectionalRankOrderResult\n"
   ]
  },
  {
   "cell_type": "code",
   "execution_count": 40,
   "id": "8fca534c",
   "metadata": {},
   "outputs": [
    {
     "data": {
      "text/plain": [
       "True"
      ]
     },
     "execution_count": 40,
     "metadata": {},
     "output_type": "execute_result"
    },
    {
     "ename": "TypeError",
     "evalue": "plot_histograms() got an unexpected keyword argument 'num'",
     "output_type": "error",
     "traceback": [
      "\u001b[1;31m---------------------------------------------------------------------------\u001b[0m",
      "\u001b[1;31mTypeError\u001b[0m                                 Traceback (most recent call last)",
      "\u001b[1;32mc:\\Users\\pho\\repos\\Spike3DWorkEnv\\Spike3D\\ReviewOfWork_2024-01-02.ipynb Cell 97\u001b[0m line \u001b[0;36m3\n\u001b[0;32m      <a href='vscode-notebook-cell:/c%3A/Users/pho/repos/Spike3DWorkEnv/Spike3D/ReviewOfWork_2024-01-02.ipynb#Z1140sZmlsZQ%3D%3D?line=0'>1</a>\u001b[0m \u001b[39misinstance\u001b[39m(ripple_result_tuple, DirectionalRankOrderResult) \n\u001b[1;32m----> <a href='vscode-notebook-cell:/c%3A/Users/pho/repos/Spike3DWorkEnv/Spike3D/ReviewOfWork_2024-01-02.ipynb#Z1140sZmlsZQ%3D%3D?line=2'>3</a>\u001b[0m ripple_result_tuple\u001b[39m.\u001b[39;49mplot_histograms(num\u001b[39m=\u001b[39;49m\u001b[39m'\u001b[39;49m\u001b[39mtest\u001b[39;49m\u001b[39m'\u001b[39;49m)\n",
      "\u001b[1;31mTypeError\u001b[0m: plot_histograms() got an unexpected keyword argument 'num'"
     ]
    }
   ],
   "source": [
    "assert isinstance(ripple_result_tuple, DirectionalRankOrderResult) \n",
    "\n",
    "ripple_result_tuple.plot_histograms(num='test')"
   ]
  },
  {
   "cell_type": "code",
   "execution_count": 43,
   "id": "084f3f69",
   "metadata": {},
   "outputs": [],
   "source": [
    "from functools import wraps, partial\n",
    "import pandas as pd\n",
    "import matplotlib.pyplot as plt\n",
    "\n",
    "def register_type_display(func_to_register, type_to_register):\n",
    "\t\"\"\" adds the display function (`func_to_register`) it decorates to the class (`type_to_register) as a method\n",
    "\n",
    "\n",
    "\t\"\"\"\n",
    "\t@wraps(func_to_register)\n",
    "\tdef wrapper(*args, **kwargs):\n",
    "\t\treturn func_to_register(*args, **kwargs)\n",
    "\n",
    "\tfunction_name: str = func_to_register.__name__ # get the name of the function to be added as the property\n",
    "\tsetattr(type_to_register, function_name, wrapper) # set the function as a method with the same name as the decorated function on objects of the class.\t\n",
    "\treturn wrapper\n",
    "\n"
   ]
  },
  {
   "cell_type": "code",
   "execution_count": 45,
   "id": "15629dae",
   "metadata": {},
   "outputs": [
    {
     "data": {
      "text/plain": [
       "<function __main__.plot_histograms(self: pyphoplacecellanalysis.General.Pipeline.Stages.ComputationFunctions.MultiContextComputationFunctions.RankOrderComputations.DirectionalRankOrderResult, **kwargs) -> 'MatplotlibRenderPlots'>"
      ]
     },
     "execution_count": 45,
     "metadata": {},
     "output_type": "execute_result"
    },
    {
     "name": "stdout",
     "output_type": "stream",
     "text": [
      ".plot_histograms(..., kwargs: {'num': 'test'})\n"
     ]
    },
    {
     "data": {
      "text/plain": [
       "MatplotlibRenderPlots({'name': 'plot_histogram_figure', 'context': None, 'figures': [<Figure size 640x480 with 3 Axes>], 'axes': {'long_short_best_z_score_diff': <Axes: label='long_short_best_z_score_diff', title={'center': 'long_short_best_z_score_diff'}>, 'long_best_z_scores': <Axes: label='long_best_z_scores', title={'center': 'long_best_z_scores'}>, 'short_best_z_scores': <Axes: label='short_best_z_scores', title={'center': 'short_best_z_scores'}>}})"
      ]
     },
     "execution_count": 45,
     "metadata": {},
     "output_type": "execute_result"
    }
   ],
   "source": [
    "from pyphoplacecellanalysis.General.Pipeline.Stages.ComputationFunctions.MultiContextComputationFunctions.RankOrderComputations import DirectionalRankOrderResult\n",
    "from pyphocorehelpers.DataStructure.RenderPlots.MatplotLibRenderPlots import MatplotlibRenderPlots \n",
    "\n",
    "# @register_type_display(DirectionalRankOrderResult)\n",
    "def plot_histograms(self: DirectionalRankOrderResult, **kwargs) -> \"MatplotlibRenderPlots\":\n",
    "\t\"\"\" \n",
    "\tnum='RipplesRankOrderZscore'\n",
    "\t\"\"\"\n",
    "\tprint(f'.plot_histograms(..., kwargs: {kwargs})')\n",
    "\tfig = plt.figure(layout=\"constrained\", **kwargs)\n",
    "\tax_dict = fig.subplot_mosaic(\n",
    "\t\t[\n",
    "\t\t\t[\"long_short_best_z_score_diff\", \"long_short_best_z_score_diff\"],\n",
    "\t\t\t[\"long_best_z_scores\", \"short_best_z_scores\"],\n",
    "\t\t],\n",
    "\t)\n",
    "\tplots = (pd.DataFrame({'long_best_z_scores': self.long_best_dir_z_score_values}).hist(ax=ax_dict['long_best_z_scores'], bins=21, alpha=0.8),\n",
    "\t\tpd.DataFrame({'short_best_z_scores': self.short_best_dir_z_score_values}).hist(ax=ax_dict['short_best_z_scores'], bins=21, alpha=0.8),\n",
    "\t\tpd.DataFrame({'long_short_best_z_score_diff': self.long_short_best_dir_z_score_diff_values}).hist(ax=ax_dict['long_short_best_z_score_diff'], bins=21, alpha=0.8),\n",
    "\t)\n",
    "\treturn MatplotlibRenderPlots(name='plot_histogram_figure', figures=[fig], axes=ax_dict)\n",
    "\n",
    "\n",
    "register_type_display(plot_histograms, DirectionalRankOrderResult)\n",
    "## Call the newly added `plot_histograms` function on the `ripple_result_tuple` object which is of type `DirectionalRankOrderResult`:\n",
    "assert isinstance(ripple_result_tuple, DirectionalRankOrderResult) \n",
    "ripple_result_tuple.plot_histograms(num='test')"
   ]
  },
  {
   "cell_type": "code",
   "execution_count": 66,
   "id": "e34a15a8",
   "metadata": {},
   "outputs": [
    {
     "ename": "AssertionError",
     "evalue": "target_dict must be a dictionary but is of type: <class 'pyphoplacecellanalysis.General.Pipeline.Stages.ComputationFunctions.MultiContextComputationFunctions.RankOrderComputations.DirectionalRankOrderResult'>, target_dict: DirectionalRankOrderResult(active_epochs=           start         stop  label  duration                      LR_Long_ActuallyIncludedAclus  LR_Long_rel_num_cells                      RL_Long_ActuallyIncludedAclus  RL_Long_rel_num_cells                     LR_Short_ActuallyIncludedAclus  LR_Short_rel_num_cells                     RL_Short_ActuallyIncludedAclus  RL_Short_rel_num_cells  Long_LR_evidence  Long_RL_evidence  Long_LR_product_evidence  Long_RL_product_evidence  Short_LR_evidence  Short_RL_evidence  Short_LR_product_evidence  Short_RL_product_evidence  Long_normed_LR_evidence  Long_normed_RL_evidence  Long_normed_product_LR_evidence  Long_normed_product_RL_evidence  Long_best_direction_indicies  Short_normed_LR_evidence  Short_normed_RL_evidence  Short_normed_product_LR_evidence  Short_normed_product_RL_evidence  Short_best_direction_indicies  combined_best_direction_indicies\n1      55.735790    55.897899      1  0.162109                   [11, 44, 48, 79, 82, 84, 92, 93]                      8               [11, 12, 44, 48, 79, 82, 84, 92, 93]                      9                   [11, 44, 48, 79, 82, 84, 92, 93]                       8               [11, 12, 44, 48, 79, 82, 84, 92, 93]                       9          3.189541          5.810459                       0.0                  0.007093           3.513642           5.486358                        0.0                   0.004531                 0.354393                 0.645607                              0.0                              1.0                             1                  0.390405                  0.609595                               0.0                               1.0                              1                                 1\n2      73.691866    73.909210      2  0.217344                                    [9, 31, 39, 61]                      4                        [9, 28, 31, 39, 57, 61, 67]                      7                                    [9, 31, 39, 61]                       4                        [9, 28, 31, 39, 57, 61, 67]                       7          2.219805          4.780195                       0.0                  0.021561           2.518361           4.481639                        0.0                   0.005523                 0.317115                 0.682885                              0.0                              1.0                             1                  0.359766                  0.640234                               0.0                               1.0                              1                                 1\n3      92.642502    92.760068      3  0.117565                          [43, 58, 61, 72, 92, 104]                      6                              [12, 61, 72, 92, 104]                      5                          [43, 58, 61, 72, 92, 104]                       6                              [12, 61, 72, 92, 104]                       5          4.450943          2.549057                       0.0                  0.000000           4.266066           2.733934                        0.0                   0.000000                 0.635849                 0.364151                              NaN                              NaN                             0                  0.609438                  0.390562                               NaN                               NaN                              0                                 0\n4      93.044443    93.453141      4  0.408699                [6, 11, 39, 61, 82, 84, 89, 92, 98]                      9  [4, 11, 18, 38, 39, 57, 61, 82, 84, 89, 91, 92...                     13                [6, 11, 39, 61, 82, 84, 89, 92, 98]                       9  [4, 11, 18, 38, 39, 57, 61, 82, 84, 89, 91, 92...                      13          4.975187          9.024813                       0.0                  0.000000           5.557692           8.442308                        0.0                   0.000000                 0.355371                 0.644629                              NaN                              NaN                             1                  0.396978                  0.603022                               NaN                               NaN                              1                                 1\n5      93.925000    94.029571      5  0.104571                                    [5, 29, 31, 35]                      4                                   [12, 31, 38, 57]                      4                                    [5, 29, 31, 35]                       4                                   [12, 31, 38, 57]                       4          3.794094          3.205906                       0.0                  0.000000           3.903846           3.096154                        0.0                   0.000000                 0.542013                 0.457987                              NaN                              NaN                             0                  0.557692                  0.442308                               NaN                               NaN                              0                                 0\n6     102.927307   103.187813      6  0.260505                                [2, 58, 72, 92, 93]                      5                               [18, 57, 72, 92, 93]                      5                                [2, 58, 72, 92, 93]                       5                               [18, 57, 72, 92, 93]                       5          3.944247          3.055753                       0.0                  0.000000           4.024482           2.975518                        0.0                   0.000000                 0.563464                 0.436536                              NaN                              NaN                             0                  0.574926                  0.425074                               NaN                               NaN                              0                                 0\n..           ...          ...    ...       ...                                                ...                    ...                                                ...                    ...                                                ...                     ...                                                ...                     ...               ...               ...                       ...                       ...                ...                ...                        ...                        ...                      ...                      ...                              ...                              ...                           ...                       ...                       ...                               ...                               ...                            ...                               ...\n396  1714.307771  1714.651681    398  0.343910      [24, 35, 43, 58, 72, 80, 81, 82, 84, 93, 104]                     11  [4, 12, 18, 20, 24, 72, 80, 81, 82, 84, 90, 93...                     13      [24, 35, 43, 58, 72, 80, 81, 82, 84, 93, 104]                      11  [4, 12, 18, 20, 24, 72, 80, 81, 82, 84, 90, 93...                      13          7.528459          8.471541                       0.0                  0.000000           7.563032           8.436968                        0.0                   0.000000                 0.470529                 0.529471                              NaN                              NaN                             1                  0.472689                  0.527311                               NaN                               NaN                              1                                 1\n399  1721.291806  1721.362155    401  0.070349                   [11, 24, 48, 61, 79, 81, 82, 89]                      8               [11, 18, 24, 48, 61, 79, 81, 82, 89]                      9                   [11, 24, 48, 61, 79, 81, 82, 89]                       8               [11, 18, 24, 48, 61, 79, 81, 82, 89]                       9          3.161855          5.838145                       0.0                  0.009532           3.488002           5.511998                        0.0                   0.007318                 0.351317                 0.648683                              0.0                              1.0                             1                  0.387556                  0.612444                               0.0                               1.0                              1                                 1\n401  1725.280888  1725.574786    403  0.293898  [2, 9, 31, 35, 43, 44, 58, 72, 79, 80, 81, 82,...                     16  [4, 9, 31, 44, 59, 67, 72, 79, 80, 81, 82, 84,...                     16  [2, 9, 31, 35, 43, 44, 58, 72, 79, 80, 81, 82,...                      16  [4, 9, 31, 44, 59, 67, 72, 79, 80, 81, 82, 84,...                      16         11.098528          8.901472                       0.0                  0.000000          11.191562           8.808438                        0.0                   0.000000                 0.554926                 0.445074                              NaN                              NaN                             0                  0.559578                  0.440422                               NaN                               NaN                              0                                 0\n404  1729.689083  1730.227666    406  0.538583  [2, 5, 9, 16, 24, 29, 31, 39, 43, 58, 61, 72, ...                     17  [4, 9, 16, 20, 24, 28, 31, 39, 57, 59, 61, 62,...                     18  [2, 5, 9, 16, 24, 29, 31, 39, 43, 58, 61, 72, ...                      17  [4, 9, 16, 20, 24, 28, 31, 39, 57, 59, 61, 62,...                      18         11.849669         12.150331                       0.0                  0.000000          12.496836          11.503164                        0.0                   0.000000                 0.493736                 0.506264                              NaN                              NaN                             1                  0.520701                  0.479299                               NaN                               NaN                              0                                 0\n405  1731.142015  1731.287905    407  0.145889  [2, 9, 24, 31, 35, 58, 61, 72, 79, 80, 81, 82,...                     17  [4, 9, 24, 31, 61, 72, 79, 80, 81, 82, 89, 93,...                     14  [2, 9, 24, 31, 35, 58, 61, 72, 79, 80, 81, 82,...                      17  [4, 9, 24, 31, 61, 72, 79, 80, 81, 82, 89, 93,...                      14         11.721338          6.278662                       0.0                  0.000000          11.848465           6.151535                        0.0                   0.000000                 0.651185                 0.348815                              NaN                              NaN                             0                  0.658248                  0.341752                               NaN                               NaN                              0                                 0\n407  1733.736195  1733.857078    409  0.120883                                   [39, 80, 84, 93]                      4                       [28, 39, 57, 62, 80, 84, 93]                      7                                   [39, 80, 84, 93]                       4                       [28, 39, 57, 62, 80, 84, 93]                       7          1.916888          5.083112                       0.0                  0.034178           2.059077           4.940923                        0.0                   0.032820                 0.273841                 0.726159                              0.0                              1.0                             1                  0.294154                  0.705846                               0.0                               1.0                              1                                 1\n\n[247 rows x 31 columns], long_best_dir_z_score_values=array([-0.17843, -2.05784, 1.86035, 0.650724, 2.12569, 0.00295771, 1.45153, 2.32746, -1.13422, 1.03766, -1.19108, -1.13422, -0.886375, -1.28397, -0.510091, -0.848712, -0.0845177, -0.281337, -0.376102, 0.340666, 0.478752, -1.49294, 1.32967, -0.478823, 1.47988, 1.91664, 1.84839, 1.29176, -0.527726, 1.32967, -0.0594757, 1.75626, 1.39284, -1.05841, -1.28397, -0.847714, -1.28397, -0.252132, 0.485398, 0.0190391, 1.59501, 1.20349, 2.04988, 2.39104, -0.674247, -0.109612, 0.666313, -0.553084, 0.521745, 0.097955, 1.4246, -1.71447, 2.35313, 1.70873, 0.816555, -1.28397, -0.470867, 0.226935, 1.86035, 0.856506, 0.887431, 0.521745, 0.382018, 1.03766, -0.48664, 1.9958, -1.81547, 0.0977227, 0.950608, -2.57376, -1.02998, -1.02601, 2.27732, -0.793068, 1.72555, 0.927109, 1.32268, -1.58909, 1.59501, -1.67091, 1.81154, -2.65046, 0.00295771, 0.312921, -1.24712, -0.186572, -0.913678, 2.0695, -1.58909, 1.7569, 0.126152, 0.521745, -1.58909, 0.521745, 0.804271, 1.29176, -0.890826, -0.702147, -2.46093, -1.05841, 0.146532, -0.478823, 1.72555, 2.43801, -0.76805, -1.79989, -0.76805, -1.54193, 1.11137, -0.262384, 0.742852, 1.1471, 1.735, -1.36995, 1.14014, -1.74072, 1.40203, -1.54193, 0.474843, -0.302588, -1.42024, 0.353588, -1.49893, -2.42636, -1.84288, -1.41295, 1.32967, 0.529717, 2.58542, -2.05784, 1.33426, -2.11978, -2.04397, -1.32375, 1.70873, -1.60805, -0.447556, -1.13422, 0.2683, 0.568646, -0.915534, -1.62791, -1.81945, -1.24097, -0.218161, -1.83674, -2.26193, -0.628809, -2.21309, 0.220793, 1.55358, 2.28679, 2.0695, 0.427941, 0.129311, 1.01924, 0.0839962, -1.13422, 0.798984, 0.37434, 0.0787697, 0.0471814, -1.95092, 1.11137, -0.527726, 1.70099, 1.32967, -0.470867, -2.05784, -0.431238, -0.791501, 0.780031, -0.362686, 2.0695, -1.62791, 0.592825, -0.345935, 1.08328, 0.896958, 0.340666, 1.30183, -2.00682, -0.76805, -0.0699384, -2.05218, -0.527726, 0.4294, -0.510091, 1.47988, -0.281337, -1.49503, 1.06433, 1.96983, 0.469316, 0.357589, 1.30555, -0.731199, -1.28397, 0.04882, -1.61322, -2.42636, -0.546942, -1.79989, 1.89826, -0.635162, 0.382018, 1.14014, -1.66193, -0.262384, -1.74072, -0.697698, -0.510091, -0.768946, 0.445194, -1.52477, -1.89234, -1.09971, 1.39284, -0.897029, -0.270188, -2.42636, 0.255664, -1.46822, 0.230394, -0.915455, 1.12365, 0.771887, 0.732802, -0.755162, -0.38018, 2.12478, 1.11137, 1.61396, -0.21414, 1.72331, 0.27229, -1.64327, -0.470867, -0.715737, -1.29814, -1.98711, 0.545196, -1.03829, -1.7842, 0.525975, -0.597707, 1.03766]), short_best_dir_z_score_values=array([0.061604, -1.54683, 2.11283, 0.773736, 2.11283, 0.254045, 1.30359, 2.06294, -1.71855, -1.03115, -1.29495, -1.30127, -0.405432, -2.32036, -0.257628, -0.42287, -0.434612, -1.52888, -0.390842, 0.358652, 0.429948, -0.811361, 1.88523, -0.484215, 1.56568, 1.38863, 0.460644, 1.12654, 2.11283, 1.31621, 0.105654, 2.21028, 1.75878, -1.60474, -2.5782, -0.296809, -1.80467, -0.257628, -0.0857741, 1.03458, 0.254045, 1.74985, 1.73349, 1.84729, -0.0935471, 0.519586, 1.0317, -1.20304, -0.515469, -0.0918728, 1.47142, -1.71929, 1.43001, 0.683969, 0.810571, 0.515895, -0.390842, 1.10525, 1.84729, -0.252898, -0.706962, 0.773736, 0.367848, 2.06294, -0.304508, 0.22122, -1.57132, 0.462684, 0.683969, -1.28899, -1.03573, -2.06252, 2.0749, -2.40137, -0.429522, 1.01316, 0.469015, -0.239104, 0.671324, -1.1171, 1.54726, -2.40137, -0.0114968, 0.429948, 0.810571, -1.71855, -0.808121, 2.06294, -1.60474, 1.96192, -0.134784, 1.03158, -0.694317, 0.515895, 1.35081, 1.58175, -1.14154, -1.38563, -2.00306, -2.40137, -0.234188, -0.577976, 0.000213312, 1.84194, 0.258054, -0.257628, -0.77331, -1.28899, -0.0918728, -0.277038, 0.429948, 0.078347, 1.24692, -1.07412, 2.26457, -1.34919, 0.616146, 0.515895, -0.0466669, -0.0275902, -0.832261, 0.690291, -0.687363, -1.3995, -1.67575, -0.472495, 0.367848, 0.842608, 2.06294, -0.77331, 0.895725, -1.07366, -2.2117, -2.13583, 1.0317, -0.770186, 0.172107, -0.137945, 0.254045, 0.422135, -0.930678, -1.50386, -1.35379, 0.258054, -0.188524, -2.28352, -1.87977, -1.5921, -1.39756, -1.07412, 0.000213312, 1.88523, 2.06294, 1.10971, -0.833411, 1.84194, 0.265868, -1.81338, 0.785127, -0.220793, 0.0643722, -0.409809, -1.84615, 1.10525, -0.277038, 2.13661, 2.64392, -0.201169, -1.54683, -1.12194, 0.765923, 0.718742, 0.810571, 1.54726, -1.46089, 0.403499, -0.210748, 0.993767, 1.51601, 0.205764, 0.991247, -1.38816, 0.773736, 0.0176836, -1.94351, -2.51517, 0.358364, -0.515469, 0.460644, 0.842029, -1.94531, -0.0114968, 1.88257, 0.197718, -0.351388, 1.34035, 0.307167, -1.84765, -0.0857337, -0.904681, -1.54683, -0.122568, 0.258054, 1.27828, -0.234188, 0.21611, 0.462684, -1.43032, -0.277038, -2.20002, -0.396465, -0.77331, -1.53232, 0.304624, -0.864448, -0.959859, -1.78012, 1.06331, -0.429522, -0.69097, -1.54683, -1.3392, -1.2276, 0.21611, -1.10482, 1.8051, 1.39099, 0.984697, -0.339113, -0.63042, 1.84194, 1.84194, 1.88523, 0.0367835, 1.72182, -0.436133, -1.53762, 1.50588, 0.306738, -1.44483, -2.00306, 1.38318, -0.982038, -1.55007, -0.0964481, -1.10284, 1.03158]), long_short_best_dir_z_score_diff_values=array([-0.240034, -0.511012, -0.252482, -0.123012, 0.0128599, -0.251087, 0.147945, 0.264516, 0.584326, 2.06881, 0.103865, 0.167047, -0.480944, 1.03639, -0.252463, -0.425843, 0.350094, 1.24754, 0.0147392, -0.017986, 0.0488032, -0.681583, -0.555559, 0.005392, -0.0857988, 0.528006, 1.38775, 0.165224, -2.64056, 0.0134579, -0.16513, -0.454017, -0.365934, 0.546335, 1.29423, -0.550904, 0.520706, 0.00549562, 0.571172, -1.01554, 1.34097, -0.546356, 0.316393, 0.543743, -0.5807, -0.629198, -0.365389, 0.649961, 1.03721, 0.189828, -0.0468229, 0.0048272, 0.923117, 1.02476, 0.00598411, -1.79986, -0.0800258, -0.878312, 0.0130592, 1.1094, 1.59439, -0.251992, 0.0141697, -1.02528, -0.182132, 1.77458, -0.24415, -0.364962, 0.266639, -1.28477, 0.00574681, 1.03651, 0.202418, 1.6083, 2.15507, -0.0860514, 0.853665, -1.34999, 0.923686, -0.553808, 0.26428, -0.249094, 0.0144545, -0.117028, -2.05769, 1.53198, -0.105558, 0.00655682, 0.0156504, -0.205028, 0.260936, -0.509833, -0.894777, 0.00584936, -0.546538, -0.28999, 0.250719, 0.68348, -0.457876, 1.34296, 0.380719, 0.0991524, 1.72534, 0.596076, -1.0261, -1.54226, 0.0052598, -0.252935, 1.20324, 0.0146538, 0.312904, 1.06875, 0.488085, -0.29583, -1.12443, -0.391532, 0.785887, -2.05782, 0.52151, -0.274997, -0.587979, -0.336703, -0.811571, -1.02686, -0.167126, -0.940452, 0.96182, -0.312891, 0.522475, -1.28453, 0.438537, -1.04612, 0.16773, 0.812075, 0.677027, -0.837861, -0.619663, -0.996277, 0.0142552, 0.146511, 0.0151445, -0.124054, -0.465653, -1.49903, -0.0296363, 0.446785, -0.382156, 0.963291, -0.815521, 1.29492, 1.55337, 0.401567, 0.00655682, -0.68177, 0.962722, -0.822698, -0.181871, 0.679162, 0.0138565, 0.595133, 0.0143975, 0.45699, -0.104778, 0.00611887, -0.250688, -0.435625, -1.31425, -0.269698, -0.511012, 0.690704, -1.55742, 0.0612889, -1.17326, 0.522239, -0.167027, 0.189326, -0.135188, 0.0895119, -0.619048, 0.134901, 0.310588, -0.618658, -1.54179, -0.087622, -0.108664, 1.98745, 0.0710359, 0.00537771, 1.01923, -1.12337, 0.450289, 1.07582, 0.0872543, 0.271599, 0.708977, -0.0348043, -1.03837, 0.56368, 0.134554, -0.708535, -0.879525, -0.424374, -2.05794, 0.619982, -0.400974, 0.165908, 0.677454, -0.231613, 0.0146538, 0.459306, -0.301232, 0.263219, 0.763378, 0.140571, -0.660321, -0.932484, 0.680406, 0.329531, -0.467508, 0.420782, -0.879525, 1.59487, -0.240623, 0.0142836, 0.189365, -0.681452, -0.619105, -0.251895, -0.41605, 0.25024, 0.28284, -0.73057, -0.271264, -0.250924, 0.00149001, 0.708423, -0.105644, -1.97675, -1.02247, 0.146688, 0.0159494, -0.837983, -0.0562545, -0.234124, 0.622423, 0.505136, 0.00608518]), directional_likelihoods_tuple=DirectionalRankOrderLikelihoods(long_relative_direction_likelihoods=array([0.354393, 0.317115, 0.635849, 0.355371, 0.542013, 0.563464, 0.324083, 0.358761, 0.491252, 0.26331, 0.706051, 0.690406, 0.541244, 0.373607, 0.37209, 0.417931, 0.5791, 0.547087, 0.631071, 0.612277, 0.476277, 0.4781, 0.609497, 0.44878, 0.339116, 0.706352, 0.277095, 0.579473, 0.670678, 0.670227, 0.494276, 0.429531, 0.681893, 0.668642, 0.144749, 0.398743, 0.285182, 0.195609, 0.506575, 0.739128, 0.653314, 0.472147, 0.57472, 0.787615, 0.435556, 0.552674, 0.683388, 0.269484, 0.136811, 0.282333, 0.366831, 0.476366, 0.68881, 0.691844, 0.495407, 0.399557, 0.513352, 0.48115, 0.635072, 0.603538, 0.829936, 0.408753, 0.515096, 0.336223, 0.447648, 0.479924, 0.667313, 0.496584, 0.488055, 0.161236, 0.619788, 0.326338, 0.619543, 0.635849, 0.277491, 0.388548, 0.397078, 0.587343, 0.689456, 0.419648, 0.24313, 0.632899, 0.698541, 0.315778, 0.484976, 0.736441, 0.502216, 0.415096, 0.620206, 0.47372, 0.496135, 0.50045, 0.523774, 0.423636, 0.369676, 0.552259, 0.503949, 0.508575, 0.659521, 0.526194, 0.470068, 0.377058, 0.467249, 0.382936, 0.470778, 0.505755, 0.249215, 0.407307, 0.278926, 0.63661, 0.421083, 0.475071, 0.414731, 0.295583, 0.663506, 0.500088, 0.67928, 0.280175, 0.440022, 0.565195, 0.594066, 0.559351, 0.372009, 0.472401, 0.336725, 0.364286, 0.494966, 0.474939, 0.410628, 0.289404, 0.360928, 0.687939, 0.643989, 0.539032, 0.525052, 0.704233, 0.320615, 0.584321, 0.739139, 0.419248, 0.718366, 0.416905, 0.652204, 0.474655, 0.613314, 0.451529, 0.600239, 0.546104, 0.532263, 0.467921, 0.37064, 0.542295, 0.159581, 0.446738, 0.736018, 0.423939, 0.459869, 0.643523, 0.481008, 0.365281, 0.681436, 0.658115, 0.564817, 0.31314, 0.648211, 0.21498, 0.896028, 0.599852, 0.321507, 0.526787, 0.449128, 0.584773, 0.33451, 0.30774, 0.428035, 0.416282, 0.342096, 0.600666, 0.453126, 0.498193, 0.497759, 0.386859, 0.347628, 0.664861, 0.401568, 0.608929, 0.667487, 0.28945, 0.256312, 0.677345, 0.244199, 0.65901, 0.603758, 0.718297, 0.282846, 0.64588, 0.48813, 0.41429, 0.435425, 0.538427, 0.442356, 0.448793, 0.467896, 0.625752, 0.435706, 0.547852, 0.526958, 0.685267, 0.471734, 0.637745, 0.334411, 0.322407, 0.640001, 0.471816, 0.616496, 0.586226, 0.320929, 0.575613, 0.419648, 0.486652, 0.503149, 0.542013, 0.376543, 0.620365, 0.475161, 0.34863, 0.433977, 0.445323, 0.585631, 0.479113, 0.372459, 0.375943, 0.596434, 0.615372, 0.563356, 0.478482, 0.360548, 0.503661, 0.472946, 0.450906, 0.521367, 0.470529, 0.351317, 0.554926, 0.493736, 0.651185, 0.273841]), short_relative_direction_likelihoods=array([0.609595, 0.640234, 0.390562, 0.603022, 0.442308, 0.425074, 0.654967, 0.616233, 0.471684, 0.71854, 0.297144, 0.328296, 0.457526, 0.646764, 0.589063, 0.54843, 0.368457, 0.448273, 0.390075, 0.369749, 0.48784, 0.501513, 0.32019, 0.535154, 0.632125, 0.283968, 0.666487, 0.423924, 0.308504, 0.358451, 0.466723, 0.580915, 0.328846, 0.290765, 0.848053, 0.570318, 0.741026, 0.81788, 0.49999, 0.250369, 0.362727, 0.533068, 0.336599, 0.226978, 0.555856, 0.413429, 0.25534, 0.695453, 0.847049, 0.691615, 0.619097, 0.487809, 0.327094, 0.288513, 0.530659, 0.571719, 0.473054, 0.536169, 0.417375, 0.405845, 0.151839, 0.585437, 0.48858, 0.651814, 0.492353, 0.537902, 0.32464, 0.473322, 0.480668, 0.787259, 0.372402, 0.59802, 0.406441, 0.390562, 0.681096, 0.597858, 0.575963, 0.417933, 0.333971, 0.57669, 0.723033, 0.350101, 0.339743, 0.662581, 0.569056, 0.228154, 0.462628, 0.564441, 0.355166, 0.486844, 0.482026, 0.537129, 0.494576, 0.586596, 0.612921, 0.438436, 0.472468, 0.483788, 0.289201, 0.489954, 0.539654, 0.589011, 0.469308, 0.619912, 0.541095, 0.517833, 0.717002, 0.615548, 0.694177, 0.365108, 0.547032, 0.488027, 0.565413, 0.666903, 0.362479, 0.47521, 0.320369, 0.702094, 0.53023, 0.461328, 0.38181, 0.42184, 0.56641, 0.514004, 0.632084, 0.564509, 0.483121, 0.511978, 0.579382, 0.680383, 0.611742, 0.283505, 0.374499, 0.495527, 0.480024, 0.288386, 0.649499, 0.376599, 0.263449, 0.567356, 0.23749, 0.559097, 0.324138, 0.495425, 0.370553, 0.526666, 0.390859, 0.450431, 0.462361, 0.482429, 0.615641, 0.432271, 0.821902, 0.548521, 0.265417, 0.570304, 0.518798, 0.308093, 0.462288, 0.642382, 0.335523, 0.305202, 0.406436, 0.654589, 0.364725, 0.773126, 0.0954011, 0.398848, 0.644061, 0.428882, 0.530425, 0.385793, 0.613676, 0.685175, 0.491585, 0.575734, 0.601465, 0.35532, 0.528591, 0.481557, 0.47779, 0.624342, 0.612313, 0.319059, 0.576891, 0.426383, 0.318441, 0.703403, 0.708868, 0.314603, 0.741042, 0.359644, 0.374221, 0.259965, 0.700334, 0.322317, 0.503156, 0.5378, 0.551037, 0.46059, 0.508637, 0.553004, 0.528449, 0.374698, 0.567069, 0.439173, 0.420469, 0.293332, 0.460979, 0.33949, 0.626915, 0.625799, 0.316995, 0.42777, 0.36951, 0.406135, 0.634447, 0.407415, 0.57669, 0.485911, 0.512959, 0.479236, 0.569798, 0.41334, 0.50641, 0.606132, 0.58209, 0.523011, 0.401372, 0.491704, 0.605221, 0.560377, 0.363707, 0.390099, 0.413655, 0.502913, 0.610536, 0.498513, 0.532966, 0.495666, 0.488445, 0.527311, 0.612444, 0.440422, 0.479299, 0.341752, 0.705846]), long_best_direction_indices=1      1\n2      1\n3      0\n4      1\n5      0\n6      0\n      ..\n396    1\n399    1\n401    0\n404    0\n405    0\n407    1\nName: combined_best_direction_indicies, Length: 247, dtype: int8, short_best_direction_indices=1      1\n2      1\n3      0\n4      1\n5      0\n6      0\n      ..\n396    1\n399    1\n401    0\n404    0\n405    0\n407    1\nName: combined_best_direction_indicies, Length: 247, dtype: int8), masked_z_score_values_list=[masked_array(data=[--, --, 2.143201017038139, --, 0.8215646752043256, -0.5100910592097588, --, --, -0.17842954967877175, --, -0.39283699018365226, 1.786971988282634, -1.3548357586989397, --, --, --, -0.6011353951594416, 0.1900832386889918, 1.258770324955506, 0.09963009972599529, --, --, 1.2096352865064706, --, --, 0.6719845773237594, --, 1.1113652096084008, -0.17842954967877175, 2.0694984593645858, 0.8403999240438685, --, 0.6780835069214544, -0.197413541806808, --, --, --, --, 1.7646378798967088, 0.6869069975188652, 1.848390786343928, --, -0.11701075161747784, 1.4798779979761643, --, 1.3587584101909556, 0.08399622385584773, --, --, --, --, --, 2.4932881659875146, 2.2414710939362084, --, --, -1.7753182992724137, --, 1.602715594098752, 0.36016606408949803, 1.3850141543579642, --, 2.0694984593645858, --, --, --, -2.0302063112267827, 0.22693451752576818, 0.9885276134858129, --, -1.7581571645199934, --, -0.9154551264142989, -1.247116635945286, --, --, --, -1.3945217512923913, 1.2956216037922823, --, --, -1.9288652944256488, -0.6390705351384761, --, --, -1.323052604457431, 1.3425232314027251, --, -1.652480703149826, --, -1.1138850893815562, --, -0.9154551264142989, --, --, 1.3570404018535767, 0.09963009972599528, 0.5650385583219262, -1.529643107027238, 2.0694984593645858, --, --, --, --, --, --, --, --, --, 0.8165549789141897, --, --, --, --, 0.6200148251180493, -1.6822203316847681, 1.0611134657400692, --, --, 0.17779947907673296, -0.9141666201612647, 1.1638469070230044, --, --, --, --, -0.29512526599523015, --, --, --, --, -0.27055774677071265, -2.0824122895788832, -0.5100910592097588, -0.03716631413779571, 0.9907610243244053, --, 1.0268218098984778, 1.3386147624351883, --, 0.6926826204763112, --, -1.648145258580793, --, 0.5469994707794481, --, -1.8656400611272577, 1.0192370125164598, -0.33691581880197075, --, --, 1.4627557600441223, --, --, -0.07234253484562768, --, --, -1.2225491167207685, 0.37433963287287364, --, 0.4357584309341676, 0.49047699647968385, -1.9640415151334802, --, -1.8367370973337074, --, -2.266668683762765, 1.4798779979761643, --, 0.7718867621423395, --, 1.1514680718719512, --, --, --, --, --, 0.713949457447087, --, 1.6473838108706018, 0.08399622385584773, --, --, -1.6380292212530507, --, 0.07952940217866274, 1.0050661796044567, --, --, 0.8226968587203191, --, 2.1247753776197507, 0.7244267818222487, 1.485032022988301, --, 1.2531008974421558, --, --, --, 1.5535805556497169, --, --, --, 1.7562625892519872, --, 1.5720061950681052, 0.927108815424519, -1.2234036391285774, 1.1113652096084006, -0.9128690717590864, --, --, -1.9604336976249852, -1.0997115205981807, 0.6011167334068819, -1.4129473907107792, --, 1.848390786343928, --, -0.2521321073523244, --, 0.3067789550054502, --, 0.927108815424519, --, --, --, --, 0.7704436351389414, --, --, --, 2.0940659785891036, 0.6292662481523877, 1.6597989475910133, --, --, -1.9841422126808128, --, --, -0.5984258527666014, --, --, -0.9577257109623658, 0.35988815097609855, -0.47468492856266004, --],\n             mask=[ True,  True, False,  True, False, False,  True,  True, False,  True, False, False, False,  True,  True,  True, False, False, False, False,  True,  True, False,  True,  True, False,  True, False, False, False, False,  True, False, False,  True,  True,  True,  True, False, False, False,  True, False, False,  True, False, False,  True,  True,  True,  True,  True, False, False,  True,  True, False,  True, False, False, False,  True, False,  True,  True,  True, False, False, False,  True, False,  True, False, False,  True,  True,  True, False, False,  True,  True, False, False,  True,  True, False, False,  True, False,  True, False,  True, False,  True,  True, False, False, False, False, False,  True,  True,  True,  True,  True,  True,  True,  True,  True, False,  True,  True,  True,  True, False, False, False,  True,  True, False, False, False,  True,  True,  True,  True, False,  True,  True,  True,  True, False, False, False, False, False,  True, False, False,  True, False,  True, False,  True, False,  True, False, False, False,  True,  True, False,  True,  True, False,  True,  True, False, False,  True, False, False, False,  True, False,  True, False, False,  True, False,  True, False,  True,  True,  True,  True,  True, False,  True, False, False,  True,  True, False,  True, False, False,  True,  True, False,  True, False, False, False,  True, False,  True,  True,  True, False,  True,  True,  True, False,  True, False, False, False, False, False,  True,  True, False, False, False, False,  True, False,  True, False,  True, False,  True, False,  True,  True,  True,  True, False,  True,  True,  True, False, False, False,  True,  True, False,  True,  True, False,  True,  True, False, False, False,  True],\n       fill_value=1e+20), masked_array(data=[-0.8372920641797379, 1.7087279427615885, --, 1.1692963322052086, --, --, 1.9266874718918006, 1.3296678921003484, --, -0.4392790109854365, --, --, --, 0.6852658059762412, -1.5890944979911965, -1.293826669055073, --, --, --, --, -0.4794823496919315, -2.130184138935084, --, -0.961922414169873, 1.1401378667697288, --, 1.6139629300962783, --, --, --, --, 1.5950099275632161, --, --, 1.5191979174309684, -0.7448243851547993, 0.0029577147860098316, -0.8493530657916863, --, --, --, 2.353130028885696, --, --, -1.2800147643751087, --, --, -1.437470477726701, -0.21816064809971328, -0.8413123980503875, 1.435092746231622, 1.5950099275632164, --, --, -1.6080475005242587, -0.37610233587522984, --, -0.8309743966687173, --, --, --, -0.3990756722789412, --, -1.228987449863019, 0.4986516271891693, -0.691985711426263, --, --, --, -1.5132824878589488, --, -0.5277263561397256, --, --, 2.2382633468671376, 0.6852658059762412, 1.7657194888400263, --, --, -2.1640022414940767, 0.4894181131346007, --, --, 0.7080624244076166, -0.9446924118670893, --, --, 1.234902879435039, --, 1.0402038534135838, --, 0.0029577147860098316, --, -1.8923425385201886, -0.3495946400247935, --, --, --, --, --, 1.5628472565980198, -0.672458375483108, 1.5823745925411752, 0.12931106500642306, -1.228987449863019, -0.6793503764042216, 0.6347244658880759, -0.28133732320991994, -1.4112278588347686, --, 0.5014791147465492, 1.9809619791455697, 1.3580973958999412, -2.023290556021344, --, --, --, 0.23039374518275366, 1.7233071754793279, --, --, --, -1.0361439625510946, -1.418517475193639, -1.4607972500750848, -1.3237524625283288, --, 0.38651878773649495, 1.5950099275632161, 0.5715477907778693, -0.7392577690262078, --, --, --, --, --, -1.0525787339783652, --, --, 0.6783738050551278, --, -0.3495946400247935, --, -1.6396358380793619, --, -2.2714025891814282, --, --, --, -1.2353051173740395, 1.5191979174309684, --, -0.6288090363160562, 0.0400684889766207, --, 1.7466339478277124, 0.6301297986073334, --, --, 1.9614346432024146, --, --, --, -0.07126383359521192, --, 1.6455512676513815, --, --, -0.22447831561073395, --, -1.207118600786409, --, 0.0029577147860098316, 2.277318018753448, -0.7488447190254487, 0.9663534127742679, -1.3806114701275145, --, 0.522508553454562, --, --, -2.2123333759204917, 1.1401378667697288, --, -2.2680579416755933, --, --, -0.5277263561397256, -0.09618106769462206, --, -1.9871075511854979, --, --, --, 1.8993728505941527, --, -1.3237524625283288, 0.5095197824878482, 0.0029577147860098316, --, -0.8499273992017795, 0.2120150760597844, 1.5950099275632161, --, -0.4052608013107097, --, --, --, --, --, -1.6590748150363483, -0.8499273992017795, --, --, --, --, -1.4684844818717113, --, -2.3851206043797997, --, -0.5277263561397256, --, -0.3347503303485491, --, -0.8815157367568828, -0.28650632390075503, -0.11950784004300603, 0.4853977792639513, --, 0.09660784494937491, 1.530684585632824, 0.224076077671733, --, --, --, -1.183277267283281, -1.5332330168411192, --, -1.910721207643157, -2.11235641407881, --, 0.8485532124149291, -1.1026340996426056, --, --, --, -1.418517475193639],\n             mask=[False, False,  True, False,  True,  True, False, False,  True, False,  True,  True,  True, False, False, False,  True,  True,  True,  True, False, False,  True, False, False,  True, False,  True,  True,  True,  True, False,  True,  True, False, False, False, False,  True,  True,  True, False,  True,  True, False,  True,  True, False, False, False, False, False,  True,  True, False, False,  True, False,  True,  True,  True, False,  True, False, False, False,  True,  True,  True, False,  True, False,  True,  True, False, False, False,  True,  True, False, False,  True,  True, False, False,  True,  True, False,  True, False,  True, False,  True, False, False,  True,  True,  True,  True,  True, False, False, False, False, False, False, False, False, False,  True, False, False, False, False,  True,  True,  True, False, False,  True,  True,  True, False, False, False, False,  True, False, False, False, False,  True,  True,  True,  True,  True, False,  True,  True, False,  True, False,  True, False,  True, False,  True,  True,  True, False, False,  True, False, False,  True, False, False,  True,  True, False,  True,  True,  True, False,  True, False,  True,  True, False,  True, False,  True, False, False, False, False, False,  True, False,  True,  True, False, False,  True, False,  True,  True, False, False,  True, False,  True,  True,  True, False,  True, False, False, False,  True, False, False, False,  True, False,  True,  True,  True,  True,  True, False, False,  True,  True,  True,  True, False,  True, False,  True, False,  True, False,  True, False, False, False, False,  True, False, False, False,  True,  True,  True, False, False,  True, False, False,  True, False, False,  True,  True,  True, False],\n       fill_value=1e+20), masked_array(data=[--, --, 2.431285978023522, --, 0.815578274029049, -1.5468329292751266, --, --, -1.7494223180727435, --, -0.04666687669112459, 1.4121999616476335, -1.5156653309985701, --, --, --, -0.3220879879077188, -0.9206475457188581, 0.9579086049499485, 0.6799760550292515, --, --, 1.7191535810379615, --, --, 1.8136008485426773, --, 1.4735906855256993, 1.3815045997086008, 1.5472595541793777, 1.039161033612094, --, 2.016061445611878, 0.23461425816837575, --, --, --, --, 1.8519807836105033, 1.679443105822043, 1.9340211146111912, --, -0.7364753740846613, 1.2894185138915026, --, 1.3705573027932816, 1.2034715004622103, --, --, --, --, --, 0.6448159131718139, 0.9221903656027101, --, --, -1.4731640606214482, --, 1.5349814094037648, -0.3681310308162679, -0.03382512930537284, --, 2.0629416347551284, --, --, --, -1.4823726692031578, -0.5154687681236253, 1.166637066135371, --, -1.3585078557315318, --, 0.1843854840863222, -1.8415084038898415, --, --, --, 0.3685576557205189, -0.36813103081626797, --, --, -0.09187277336497286, -1.104819717353055, --, --, -0.4529618492659585, 1.5238194596077528, --, -0.2760449449991696, --, -0.3256297604391456, --, -0.5523032024504647, --, --, -0.49091247857239917, 0.013607652207339789, 0.8476628854262612, -0.42952175469433357, 1.5472595541793777, --, --, --, --, --, --, --, --, --, 1.8419350287940923, --, --, --, --, -0.30674030693820237, -0.9316332542023015, -0.4451484844087502, --, --, -0.3592014709794583, -0.6669278407402793, 0.70535134832712, --, --, --, --, -0.4724952614089794, --, --, --, --, 0.2764715699034206, -0.8592568218407927, 0.7737364333157516, 1.031577473603627, 0.35962809588370925, --, 1.2013660602000371, 1.3323920206061484, --, -0.08705895256096925, --, -1.1752384888602476, --, -0.05387921348239383, --, -1.750325122835656, 0.5527298273547157, -1.7307475174524924, --, --, 1.2754417559906013, --, --, 0.6409092307432096, --, --, -2.087071299402104, -0.36813103081626797, --, 1.2280277900134369, -0.26544109269295824, -1.8749942532778772, --, -0.5154687681236253, --, -0.8592568218407927, 1.4735906855256993, --, 0.1408538798818757, --, 1.3425034339507709, --, --, --, --, --, 1.314697047253059, --, 1.516006094750544, 0.8596834467450432, --, --, -2.249576156726395, --, -0.0734555562015532, 1.0222685049388127, --, --, 1.1604979937475646, --, 2.210279372062486, 0.8842397362962695, 2.4163461375273214, --, 1.8419350287940923, --, --, --, 1.4534991758928775, --, --, --, 1.4735906855256993, --, 1.4735906855256993, 2.0261072004282896, -1.6051274253402117, -0.6628065054309827, -0.9361567812248955, --, --, -1.1357297321727802, -1.2276011651091858, -0.25221847524229796, 0.5158953930278761, --, 1.8419350287940928, --, -0.1471244248552318, --, -0.7303363016968547, --, 1.7498489429769943, --, --, --, --, 0.35193493663968883, --, --, --, 0.2457762079643878, 0.948491797516266, 1.6230951542640466, --, --, -0.81014424273834, --, --, -1.811716177950661, --, --, -1.1297371288094462, 0.33515387949274794, -1.0298869220312983, --],\n             mask=[ True,  True, False,  True, False, False,  True,  True, False,  True, False, False, False,  True,  True,  True, False, False, False, False,  True,  True, False,  True,  True, False,  True, False, False, False, False,  True, False, False,  True,  True,  True,  True, False, False, False,  True, False, False,  True, False, False,  True,  True,  True,  True,  True, False, False,  True,  True, False,  True, False, False, False,  True, False,  True,  True,  True, False, False, False,  True, False,  True, False, False,  True,  True,  True, False, False,  True,  True, False, False,  True,  True, False, False,  True, False,  True, False,  True, False,  True,  True, False, False, False, False, False,  True,  True,  True,  True,  True,  True,  True,  True,  True, False,  True,  True,  True,  True, False, False, False,  True,  True, False, False, False,  True,  True,  True,  True, False,  True,  True,  True,  True, False, False, False, False, False,  True, False, False,  True, False,  True, False,  True, False,  True, False, False, False,  True,  True, False,  True,  True, False,  True,  True, False, False,  True, False, False, False,  True, False,  True, False, False,  True, False,  True, False,  True,  True,  True,  True,  True, False,  True, False, False,  True,  True, False,  True, False, False,  True,  True, False,  True, False, False, False,  True, False,  True,  True,  True, False,  True,  True,  True, False,  True, False, False, False, False, False,  True,  True, False, False, False, False,  True, False,  True, False,  True, False,  True, False,  True,  True,  True,  True, False,  True,  True,  True, False, False, False,  True,  True, False,  True,  True, False,  True,  True, False, False, False,  True],\n       fill_value=1e+20), masked_array(data=[0.25404458716312045, 1.7903910294751468, --, 0.645061535443864, --, --, 1.6102022492039825, -0.011496773236488938, --, -0.3276174403788811, --, --, --, 0.6713238677910781, -1.8702862960337545, -1.5927656261424337, --, --, --, --, -0.9771017201441596, -2.2048163432038512, --, -1.2185029568710772, 1.3162100287615583, --, 1.5058824290469937, --, --, --, --, -0.6943174142640561, --, --, 1.5058824290469937, -0.9460644182792701, 0.84202902804797, -0.8000741465444199, --, --, --, 0.06437218687768519, --, --, -1.7914992989921121, --, --, -1.1962197657885925, -0.409808813835903, -0.34945850465417366, 1.2079656145635747, 1.5817513891611679, --, --, -1.149531174949101, -1.718548375805407, --, -0.08736573335066306, --, --, --, -0.961008304362365, --, -1.8133845759481244, -0.011496773236488938, -0.8334105078067087, --, --, --, -1.339203575234536, --, -0.2391036535790113, --, --, 2.2254880204329477, 0.21611010710603346, 1.3254946917125934, --, --, 0.47532905416279503, 0.6966135211624694, --, --, 1.3812026694188055, -0.1063329733792066, --, --, 1.126537628476123, --, 0.7851273079623393, --, -2.135827656433364, --, -1.908220776090842, -0.30860598766961833, --, --, --, --, --, 2.1933011888693588, -0.6632801123991665, 1.0633134950476444, 1.379434162190037, -1.0546949748063834, -1.6047449356341452, 1.1897617619046013, 0.27301182719166406, -1.8060894836294537, --, 0.680520105380675, 1.9921334915969275, 1.192922968576025, -2.015127038069905, --, --, --, 0.9747997082477746, 1.5642431675963582, --, --, --, 0.04421120446972283, -0.865022574520948, -1.8148435944118584, -0.4983226006357729, --, 0.3696106507627939, 0.7851273079623392, 0.27301182719166406, -1.1813643050669362, --, --, --, --, --, -0.705989561973929, --, --, 1.1713692867254077, --, -0.21575935815926542, --, -0.3276174403788811, --, -2.287565576661713, --, --, --, -1.2949466818346012, 1.6007186291897113, --, -0.5172898406643165, 0.2856124411966405, --, 1.278275548704471, 1.6139382207247563, --, --, 1.379434162190037, --, --, --, 0.17419648578421698, --, 1.695554829332429, --, --, -0.39084157380735957, --, -1.4851054216079473, --, 0.03276012016344596, 2.264572030188735, -0.7638639610353823, 0.8872586004237275, -1.41507253534871, --, -0.2528980099634066, --, --, -1.6694175476612947, 0.84202902804797, --, -1.8312360959749887, --, --, -0.5425794940357078, -1.0328096978503714, --, -2.040991456290646, --, --, --, 1.8707228695960365, --, -1.908220776090842, 1.026528544689257, -0.3828832912779008, --, 0.46268422747709936, 0.6161464422534968, 1.5817513891611674, --, -0.9598587746636654, --, --, --, --, --, -1.7097942650230018, 0.17817562704894638, --, --, --, --, -1.5323245646160704, --, 0.47532905416279503, --, 0.5195859475627299, --, 0.01264335043620283, --, -0.5172898406643165, -0.614999865053783, -0.23910365357901125, 0.17419648578421698, --, -0.4566690539064224, 1.0023884210165652, 0.43107216076286015, --, --, --, -1.0658521748231735, -1.4392268946833053, --, -1.701305430324912, -1.812721385737336, --, 0.6304713508065228, -0.5425794940357077, --, --, --, -1.0546949748063834],\n             mask=[False, False,  True, False,  True,  True, False, False,  True, False,  True,  True,  True, False, False, False,  True,  True,  True,  True, False, False,  True, False, False,  True, False,  True,  True,  True,  True, False,  True,  True, False, False, False, False,  True,  True,  True, False,  True,  True, False,  True,  True, False, False, False, False, False,  True,  True, False, False,  True, False,  True,  True,  True, False,  True, False, False, False,  True,  True,  True, False,  True, False,  True,  True, False, False, False,  True,  True, False, False,  True,  True, False, False,  True,  True, False,  True, False,  True, False,  True, False, False,  True,  True,  True,  True,  True, False, False, False, False, False, False, False, False, False,  True, False, False, False, False,  True,  True,  True, False, False,  True,  True,  True, False, False, False, False,  True, False, False, False, False,  True,  True,  True,  True,  True, False,  True,  True, False,  True, False,  True, False,  True, False,  True,  True,  True, False, False,  True, False, False,  True, False, False,  True,  True, False,  True,  True,  True, False,  True, False,  True,  True, False,  True, False,  True, False, False, False, False, False,  True, False,  True,  True, False, False,  True, False,  True,  True, False, False,  True, False,  True,  True,  True, False,  True, False, False, False,  True, False, False, False,  True, False,  True,  True,  True,  True,  True, False, False,  True,  True,  True,  True, False,  True, False,  True, False,  True, False,  True, False, False, False, False,  True, False, False, False,  True,  True,  True, False, False,  True, False, False,  True, False, False,  True,  True,  True, False],\n       fill_value=1e+20)], rank_order_z_score_df=None)",
     "output_type": "error",
     "traceback": [
      "\u001b[1;31m---------------------------------------------------------------------------\u001b[0m",
      "\u001b[1;31mAssertionError\u001b[0m                            Traceback (most recent call last)",
      "\u001b[1;32mc:\\Users\\pho\\repos\\Spike3DWorkEnv\\Spike3D\\ReviewOfWork_2024-01-02.ipynb Cell 100\u001b[0m line \u001b[0;36m3\n\u001b[0;32m      <a href='vscode-notebook-cell:/c%3A/Users/pho/repos/Spike3DWorkEnv/Spike3D/ReviewOfWork_2024-01-02.ipynb#Z1152sZmlsZQ%3D%3D?line=0'>1</a>\u001b[0m \u001b[39mfrom\u001b[39;00m \u001b[39mpyphocorehelpers\u001b[39;00m\u001b[39m.\u001b[39;00m\u001b[39mgeneral_helpers\u001b[39;00m \u001b[39mimport\u001b[39;00m GeneratedClassDefinitionType, CodeConversion\n\u001b[1;32m----> <a href='vscode-notebook-cell:/c%3A/Users/pho/repos/Spike3DWorkEnv/Spike3D/ReviewOfWork_2024-01-02.ipynb#Z1152sZmlsZQ%3D%3D?line=2'>3</a>\u001b[0m CodeConversion\u001b[39m.\u001b[39;49mconvert_dictionary_to_class_defn(ripple_result_tuple, class_name\u001b[39m=\u001b[39;49m\u001b[39m'\u001b[39;49m\u001b[39mDirectionalRankOrderResult\u001b[39;49m\u001b[39m'\u001b[39;49m, class_definition_mode\u001b[39m=\u001b[39;49mGeneratedClassDefinitionType\u001b[39m.\u001b[39;49mATTRS_CLASS)\n",
      "File \u001b[1;32mc:\\Users\\pho\\repos\\Spike3DWorkEnv\\Spike3D\\.venv\\lib\\site-packages\\pyphocorehelpers\\general_helpers.py:479\u001b[0m, in \u001b[0;36mCodeConversion.convert_dictionary_to_class_defn\u001b[1;34m(cls, target_dict, class_name, class_definition_mode, copy_to_clipboard, output_variable_prefix, class_decorators, include_init_fcn, include_initializer_default_values, include_properties_defns, include_types, use_relative_types, indent_character, pre_class_spacing, post_class_spacing)\u001b[0m\n\u001b[0;32m    446\u001b[0m \u001b[39m\u001b[39m\u001b[39m\"\"\" Builds a class definition from a target_dict\u001b[39;00m\n\u001b[0;32m    447\u001b[0m \u001b[39m    target_dict: either a dictionary object or a string of code that defines a dictionary object (such as \"{'firing_rate':curr_ax_firing_rate, 'lap_spikes': curr_ax_lap_spikes, 'placefield': curr_ax_placefield}\")\u001b[39;00m\n\u001b[0;32m    448\u001b[0m \u001b[39m    multiline_assignment_code: if True, generates a separate line for each assignment, otherwise assignment is done inline\u001b[39;00m\n\u001b[1;32m   (...)\u001b[0m\n\u001b[0;32m    476\u001b[0m \n\u001b[0;32m    477\u001b[0m \u001b[39m\"\"\"\u001b[39;00m\n\u001b[0;32m    478\u001b[0m needed_import_statements \u001b[39m=\u001b[39m []\n\u001b[1;32m--> 479\u001b[0m target_dict \u001b[39m=\u001b[39m \u001b[39mcls\u001b[39;49m\u001b[39m.\u001b[39;49m_try_parse_to_dictionary_if_needed(target_dict\u001b[39m=\u001b[39;49mtarget_dict) \u001b[39m# Ensure a valid dictionary is provided or can be built\u001b[39;00m\n\u001b[0;32m    481\u001b[0m \u001b[39mif\u001b[39;00m class_definition_mode \u001b[39mis\u001b[39;00m \u001b[39mNone\u001b[39;00m:\n\u001b[0;32m    482\u001b[0m     class_definition_mode \u001b[39m=\u001b[39m  GeneratedClassDefinitionType\u001b[39m.\u001b[39mATTRS_CLASS \u001b[39m# Default to an ATTRS_CLASS as of 2023-05-10\u001b[39;00m\n",
      "File \u001b[1;32mc:\\Users\\pho\\repos\\Spike3DWorkEnv\\Spike3D\\.venv\\lib\\site-packages\\pyphocorehelpers\\general_helpers.py:331\u001b[0m, in \u001b[0;36mCodeConversion._try_parse_to_dictionary_if_needed\u001b[1;34m(cls, target_dict)\u001b[0m\n\u001b[0;32m    328\u001b[0m         \u001b[39mprint\u001b[39m(\u001b[39mf\u001b[39m\u001b[39m'\u001b[39m\u001b[39mERROR: Could not convert code string: \u001b[39m\u001b[39m{\u001b[39;00mtarget_dict\u001b[39m}\u001b[39;00m\u001b[39m to a proper dictionary! Exception: \u001b[39m\u001b[39m{\u001b[39;00me\u001b[39m}\u001b[39;00m\u001b[39m'\u001b[39m)\n\u001b[0;32m    329\u001b[0m         \u001b[39mraise\u001b[39;00m e\n\u001b[1;32m--> 331\u001b[0m \u001b[39massert\u001b[39;00m \u001b[39misinstance\u001b[39m(target_dict, \u001b[39mdict\u001b[39m), \u001b[39mf\u001b[39m\u001b[39m\"\u001b[39m\u001b[39mtarget_dict must be a dictionary but is of type: \u001b[39m\u001b[39m{\u001b[39;00m\u001b[39mtype\u001b[39m(target_dict)\u001b[39m}\u001b[39;00m\u001b[39m, target_dict: \u001b[39m\u001b[39m{\u001b[39;00mtarget_dict\u001b[39m}\u001b[39;00m\u001b[39m\"\u001b[39m\n\u001b[0;32m    332\u001b[0m \u001b[39mreturn\u001b[39;00m target_dict\n",
      "\u001b[1;31mAssertionError\u001b[0m: target_dict must be a dictionary but is of type: <class 'pyphoplacecellanalysis.General.Pipeline.Stages.ComputationFunctions.MultiContextComputationFunctions.RankOrderComputations.DirectionalRankOrderResult'>, target_dict: DirectionalRankOrderResult(active_epochs=           start         stop  label  duration                      LR_Long_ActuallyIncludedAclus  LR_Long_rel_num_cells                      RL_Long_ActuallyIncludedAclus  RL_Long_rel_num_cells                     LR_Short_ActuallyIncludedAclus  LR_Short_rel_num_cells                     RL_Short_ActuallyIncludedAclus  RL_Short_rel_num_cells  Long_LR_evidence  Long_RL_evidence  Long_LR_product_evidence  Long_RL_product_evidence  Short_LR_evidence  Short_RL_evidence  Short_LR_product_evidence  Short_RL_product_evidence  Long_normed_LR_evidence  Long_normed_RL_evidence  Long_normed_product_LR_evidence  Long_normed_product_RL_evidence  Long_best_direction_indicies  Short_normed_LR_evidence  Short_normed_RL_evidence  Short_normed_product_LR_evidence  Short_normed_product_RL_evidence  Short_best_direction_indicies  combined_best_direction_indicies\n1      55.735790    55.897899      1  0.162109                   [11, 44, 48, 79, 82, 84, 92, 93]                      8               [11, 12, 44, 48, 79, 82, 84, 92, 93]                      9                   [11, 44, 48, 79, 82, 84, 92, 93]                       8               [11, 12, 44, 48, 79, 82, 84, 92, 93]                       9          3.189541          5.810459                       0.0                  0.007093           3.513642           5.486358                        0.0                   0.004531                 0.354393                 0.645607                              0.0                              1.0                             1                  0.390405                  0.609595                               0.0                               1.0                              1                                 1\n2      73.691866    73.909210      2  0.217344                                    [9, 31, 39, 61]                      4                        [9, 28, 31, 39, 57, 61, 67]                      7                                    [9, 31, 39, 61]                       4                        [9, 28, 31, 39, 57, 61, 67]                       7          2.219805          4.780195                       0.0                  0.021561           2.518361           4.481639                        0.0                   0.005523                 0.317115                 0.682885                              0.0                              1.0                             1                  0.359766                  0.640234                               0.0                               1.0                              1                                 1\n3      92.642502    92.760068      3  0.117565                          [43, 58, 61, 72, 92, 104]                      6                              [12, 61, 72, 92, 104]                      5                          [43, 58, 61, 72, 92, 104]                       6                              [12, 61, 72, 92, 104]                       5          4.450943          2.549057                       0.0                  0.000000           4.266066           2.733934                        0.0                   0.000000                 0.635849                 0.364151                              NaN                              NaN                             0                  0.609438                  0.390562                               NaN                               NaN                              0                                 0\n4      93.044443    93.453141      4  0.408699                [6, 11, 39, 61, 82, 84, 89, 92, 98]                      9  [4, 11, 18, 38, 39, 57, 61, 82, 84, 89, 91, 92...                     13                [6, 11, 39, 61, 82, 84, 89, 92, 98]                       9  [4, 11, 18, 38, 39, 57, 61, 82, 84, 89, 91, 92...                      13          4.975187          9.024813                       0.0                  0.000000           5.557692           8.442308                        0.0                   0.000000                 0.355371                 0.644629                              NaN                              NaN                             1                  0.396978                  0.603022                               NaN                               NaN                              1                                 1\n5      93.925000    94.029571      5  0.104571                                    [5, 29, 31, 35]                      4                                   [12, 31, 38, 57]                      4                                    [5, 29, 31, 35]                       4                                   [12, 31, 38, 57]                       4          3.794094          3.205906                       0.0                  0.000000           3.903846           3.096154                        0.0                   0.000000                 0.542013                 0.457987                              NaN                              NaN                             0                  0.557692                  0.442308                               NaN                               NaN                              0                                 0\n6     102.927307   103.187813      6  0.260505                                [2, 58, 72, 92, 93]                      5                               [18, 57, 72, 92, 93]                      5                                [2, 58, 72, 92, 93]                       5                               [18, 57, 72, 92, 93]                       5          3.944247          3.055753                       0.0                  0.000000           4.024482           2.975518                        0.0                   0.000000                 0.563464                 0.436536                              NaN                              NaN                             0                  0.574926                  0.425074                               NaN                               NaN                              0                                 0\n..           ...          ...    ...       ...                                                ...                    ...                                                ...                    ...                                                ...                     ...                                                ...                     ...               ...               ...                       ...                       ...                ...                ...                        ...                        ...                      ...                      ...                              ...                              ...                           ...                       ...                       ...                               ...                               ...                            ...                               ...\n396  1714.307771  1714.651681    398  0.343910      [24, 35, 43, 58, 72, 80, 81, 82, 84, 93, 104]                     11  [4, 12, 18, 20, 24, 72, 80, 81, 82, 84, 90, 93...                     13      [24, 35, 43, 58, 72, 80, 81, 82, 84, 93, 104]                      11  [4, 12, 18, 20, 24, 72, 80, 81, 82, 84, 90, 93...                      13          7.528459          8.471541                       0.0                  0.000000           7.563032           8.436968                        0.0                   0.000000                 0.470529                 0.529471                              NaN                              NaN                             1                  0.472689                  0.527311                               NaN                               NaN                              1                                 1\n399  1721.291806  1721.362155    401  0.070349                   [11, 24, 48, 61, 79, 81, 82, 89]                      8               [11, 18, 24, 48, 61, 79, 81, 82, 89]                      9                   [11, 24, 48, 61, 79, 81, 82, 89]                       8               [11, 18, 24, 48, 61, 79, 81, 82, 89]                       9          3.161855          5.838145                       0.0                  0.009532           3.488002           5.511998                        0.0                   0.007318                 0.351317                 0.648683                              0.0                              1.0                             1                  0.387556                  0.612444                               0.0                               1.0                              1                                 1\n401  1725.280888  1725.574786    403  0.293898  [2, 9, 31, 35, 43, 44, 58, 72, 79, 80, 81, 82,...                     16  [4, 9, 31, 44, 59, 67, 72, 79, 80, 81, 82, 84,...                     16  [2, 9, 31, 35, 43, 44, 58, 72, 79, 80, 81, 82,...                      16  [4, 9, 31, 44, 59, 67, 72, 79, 80, 81, 82, 84,...                      16         11.098528          8.901472                       0.0                  0.000000          11.191562           8.808438                        0.0                   0.000000                 0.554926                 0.445074                              NaN                              NaN                             0                  0.559578                  0.440422                               NaN                               NaN                              0                                 0\n404  1729.689083  1730.227666    406  0.538583  [2, 5, 9, 16, 24, 29, 31, 39, 43, 58, 61, 72, ...                     17  [4, 9, 16, 20, 24, 28, 31, 39, 57, 59, 61, 62,...                     18  [2, 5, 9, 16, 24, 29, 31, 39, 43, 58, 61, 72, ...                      17  [4, 9, 16, 20, 24, 28, 31, 39, 57, 59, 61, 62,...                      18         11.849669         12.150331                       0.0                  0.000000          12.496836          11.503164                        0.0                   0.000000                 0.493736                 0.506264                              NaN                              NaN                             1                  0.520701                  0.479299                               NaN                               NaN                              0                                 0\n405  1731.142015  1731.287905    407  0.145889  [2, 9, 24, 31, 35, 58, 61, 72, 79, 80, 81, 82,...                     17  [4, 9, 24, 31, 61, 72, 79, 80, 81, 82, 89, 93,...                     14  [2, 9, 24, 31, 35, 58, 61, 72, 79, 80, 81, 82,...                      17  [4, 9, 24, 31, 61, 72, 79, 80, 81, 82, 89, 93,...                      14         11.721338          6.278662                       0.0                  0.000000          11.848465           6.151535                        0.0                   0.000000                 0.651185                 0.348815                              NaN                              NaN                             0                  0.658248                  0.341752                               NaN                               NaN                              0                                 0\n407  1733.736195  1733.857078    409  0.120883                                   [39, 80, 84, 93]                      4                       [28, 39, 57, 62, 80, 84, 93]                      7                                   [39, 80, 84, 93]                       4                       [28, 39, 57, 62, 80, 84, 93]                       7          1.916888          5.083112                       0.0                  0.034178           2.059077           4.940923                        0.0                   0.032820                 0.273841                 0.726159                              0.0                              1.0                             1                  0.294154                  0.705846                               0.0                               1.0                              1                                 1\n\n[247 rows x 31 columns], long_best_dir_z_score_values=array([-0.17843, -2.05784, 1.86035, 0.650724, 2.12569, 0.00295771, 1.45153, 2.32746, -1.13422, 1.03766, -1.19108, -1.13422, -0.886375, -1.28397, -0.510091, -0.848712, -0.0845177, -0.281337, -0.376102, 0.340666, 0.478752, -1.49294, 1.32967, -0.478823, 1.47988, 1.91664, 1.84839, 1.29176, -0.527726, 1.32967, -0.0594757, 1.75626, 1.39284, -1.05841, -1.28397, -0.847714, -1.28397, -0.252132, 0.485398, 0.0190391, 1.59501, 1.20349, 2.04988, 2.39104, -0.674247, -0.109612, 0.666313, -0.553084, 0.521745, 0.097955, 1.4246, -1.71447, 2.35313, 1.70873, 0.816555, -1.28397, -0.470867, 0.226935, 1.86035, 0.856506, 0.887431, 0.521745, 0.382018, 1.03766, -0.48664, 1.9958, -1.81547, 0.0977227, 0.950608, -2.57376, -1.02998, -1.02601, 2.27732, -0.793068, 1.72555, 0.927109, 1.32268, -1.58909, 1.59501, -1.67091, 1.81154, -2.65046, 0.00295771, 0.312921, -1.24712, -0.186572, -0.913678, 2.0695, -1.58909, 1.7569, 0.126152, 0.521745, -1.58909, 0.521745, 0.804271, 1.29176, -0.890826, -0.702147, -2.46093, -1.05841, 0.146532, -0.478823, 1.72555, 2.43801, -0.76805, -1.79989, -0.76805, -1.54193, 1.11137, -0.262384, 0.742852, 1.1471, 1.735, -1.36995, 1.14014, -1.74072, 1.40203, -1.54193, 0.474843, -0.302588, -1.42024, 0.353588, -1.49893, -2.42636, -1.84288, -1.41295, 1.32967, 0.529717, 2.58542, -2.05784, 1.33426, -2.11978, -2.04397, -1.32375, 1.70873, -1.60805, -0.447556, -1.13422, 0.2683, 0.568646, -0.915534, -1.62791, -1.81945, -1.24097, -0.218161, -1.83674, -2.26193, -0.628809, -2.21309, 0.220793, 1.55358, 2.28679, 2.0695, 0.427941, 0.129311, 1.01924, 0.0839962, -1.13422, 0.798984, 0.37434, 0.0787697, 0.0471814, -1.95092, 1.11137, -0.527726, 1.70099, 1.32967, -0.470867, -2.05784, -0.431238, -0.791501, 0.780031, -0.362686, 2.0695, -1.62791, 0.592825, -0.345935, 1.08328, 0.896958, 0.340666, 1.30183, -2.00682, -0.76805, -0.0699384, -2.05218, -0.527726, 0.4294, -0.510091, 1.47988, -0.281337, -1.49503, 1.06433, 1.96983, 0.469316, 0.357589, 1.30555, -0.731199, -1.28397, 0.04882, -1.61322, -2.42636, -0.546942, -1.79989, 1.89826, -0.635162, 0.382018, 1.14014, -1.66193, -0.262384, -1.74072, -0.697698, -0.510091, -0.768946, 0.445194, -1.52477, -1.89234, -1.09971, 1.39284, -0.897029, -0.270188, -2.42636, 0.255664, -1.46822, 0.230394, -0.915455, 1.12365, 0.771887, 0.732802, -0.755162, -0.38018, 2.12478, 1.11137, 1.61396, -0.21414, 1.72331, 0.27229, -1.64327, -0.470867, -0.715737, -1.29814, -1.98711, 0.545196, -1.03829, -1.7842, 0.525975, -0.597707, 1.03766]), short_best_dir_z_score_values=array([0.061604, -1.54683, 2.11283, 0.773736, 2.11283, 0.254045, 1.30359, 2.06294, -1.71855, -1.03115, -1.29495, -1.30127, -0.405432, -2.32036, -0.257628, -0.42287, -0.434612, -1.52888, -0.390842, 0.358652, 0.429948, -0.811361, 1.88523, -0.484215, 1.56568, 1.38863, 0.460644, 1.12654, 2.11283, 1.31621, 0.105654, 2.21028, 1.75878, -1.60474, -2.5782, -0.296809, -1.80467, -0.257628, -0.0857741, 1.03458, 0.254045, 1.74985, 1.73349, 1.84729, -0.0935471, 0.519586, 1.0317, -1.20304, -0.515469, -0.0918728, 1.47142, -1.71929, 1.43001, 0.683969, 0.810571, 0.515895, -0.390842, 1.10525, 1.84729, -0.252898, -0.706962, 0.773736, 0.367848, 2.06294, -0.304508, 0.22122, -1.57132, 0.462684, 0.683969, -1.28899, -1.03573, -2.06252, 2.0749, -2.40137, -0.429522, 1.01316, 0.469015, -0.239104, 0.671324, -1.1171, 1.54726, -2.40137, -0.0114968, 0.429948, 0.810571, -1.71855, -0.808121, 2.06294, -1.60474, 1.96192, -0.134784, 1.03158, -0.694317, 0.515895, 1.35081, 1.58175, -1.14154, -1.38563, -2.00306, -2.40137, -0.234188, -0.577976, 0.000213312, 1.84194, 0.258054, -0.257628, -0.77331, -1.28899, -0.0918728, -0.277038, 0.429948, 0.078347, 1.24692, -1.07412, 2.26457, -1.34919, 0.616146, 0.515895, -0.0466669, -0.0275902, -0.832261, 0.690291, -0.687363, -1.3995, -1.67575, -0.472495, 0.367848, 0.842608, 2.06294, -0.77331, 0.895725, -1.07366, -2.2117, -2.13583, 1.0317, -0.770186, 0.172107, -0.137945, 0.254045, 0.422135, -0.930678, -1.50386, -1.35379, 0.258054, -0.188524, -2.28352, -1.87977, -1.5921, -1.39756, -1.07412, 0.000213312, 1.88523, 2.06294, 1.10971, -0.833411, 1.84194, 0.265868, -1.81338, 0.785127, -0.220793, 0.0643722, -0.409809, -1.84615, 1.10525, -0.277038, 2.13661, 2.64392, -0.201169, -1.54683, -1.12194, 0.765923, 0.718742, 0.810571, 1.54726, -1.46089, 0.403499, -0.210748, 0.993767, 1.51601, 0.205764, 0.991247, -1.38816, 0.773736, 0.0176836, -1.94351, -2.51517, 0.358364, -0.515469, 0.460644, 0.842029, -1.94531, -0.0114968, 1.88257, 0.197718, -0.351388, 1.34035, 0.307167, -1.84765, -0.0857337, -0.904681, -1.54683, -0.122568, 0.258054, 1.27828, -0.234188, 0.21611, 0.462684, -1.43032, -0.277038, -2.20002, -0.396465, -0.77331, -1.53232, 0.304624, -0.864448, -0.959859, -1.78012, 1.06331, -0.429522, -0.69097, -1.54683, -1.3392, -1.2276, 0.21611, -1.10482, 1.8051, 1.39099, 0.984697, -0.339113, -0.63042, 1.84194, 1.84194, 1.88523, 0.0367835, 1.72182, -0.436133, -1.53762, 1.50588, 0.306738, -1.44483, -2.00306, 1.38318, -0.982038, -1.55007, -0.0964481, -1.10284, 1.03158]), long_short_best_dir_z_score_diff_values=array([-0.240034, -0.511012, -0.252482, -0.123012, 0.0128599, -0.251087, 0.147945, 0.264516, 0.584326, 2.06881, 0.103865, 0.167047, -0.480944, 1.03639, -0.252463, -0.425843, 0.350094, 1.24754, 0.0147392, -0.017986, 0.0488032, -0.681583, -0.555559, 0.005392, -0.0857988, 0.528006, 1.38775, 0.165224, -2.64056, 0.0134579, -0.16513, -0.454017, -0.365934, 0.546335, 1.29423, -0.550904, 0.520706, 0.00549562, 0.571172, -1.01554, 1.34097, -0.546356, 0.316393, 0.543743, -0.5807, -0.629198, -0.365389, 0.649961, 1.03721, 0.189828, -0.0468229, 0.0048272, 0.923117, 1.02476, 0.00598411, -1.79986, -0.0800258, -0.878312, 0.0130592, 1.1094, 1.59439, -0.251992, 0.0141697, -1.02528, -0.182132, 1.77458, -0.24415, -0.364962, 0.266639, -1.28477, 0.00574681, 1.03651, 0.202418, 1.6083, 2.15507, -0.0860514, 0.853665, -1.34999, 0.923686, -0.553808, 0.26428, -0.249094, 0.0144545, -0.117028, -2.05769, 1.53198, -0.105558, 0.00655682, 0.0156504, -0.205028, 0.260936, -0.509833, -0.894777, 0.00584936, -0.546538, -0.28999, 0.250719, 0.68348, -0.457876, 1.34296, 0.380719, 0.0991524, 1.72534, 0.596076, -1.0261, -1.54226, 0.0052598, -0.252935, 1.20324, 0.0146538, 0.312904, 1.06875, 0.488085, -0.29583, -1.12443, -0.391532, 0.785887, -2.05782, 0.52151, -0.274997, -0.587979, -0.336703, -0.811571, -1.02686, -0.167126, -0.940452, 0.96182, -0.312891, 0.522475, -1.28453, 0.438537, -1.04612, 0.16773, 0.812075, 0.677027, -0.837861, -0.619663, -0.996277, 0.0142552, 0.146511, 0.0151445, -0.124054, -0.465653, -1.49903, -0.0296363, 0.446785, -0.382156, 0.963291, -0.815521, 1.29492, 1.55337, 0.401567, 0.00655682, -0.68177, 0.962722, -0.822698, -0.181871, 0.679162, 0.0138565, 0.595133, 0.0143975, 0.45699, -0.104778, 0.00611887, -0.250688, -0.435625, -1.31425, -0.269698, -0.511012, 0.690704, -1.55742, 0.0612889, -1.17326, 0.522239, -0.167027, 0.189326, -0.135188, 0.0895119, -0.619048, 0.134901, 0.310588, -0.618658, -1.54179, -0.087622, -0.108664, 1.98745, 0.0710359, 0.00537771, 1.01923, -1.12337, 0.450289, 1.07582, 0.0872543, 0.271599, 0.708977, -0.0348043, -1.03837, 0.56368, 0.134554, -0.708535, -0.879525, -0.424374, -2.05794, 0.619982, -0.400974, 0.165908, 0.677454, -0.231613, 0.0146538, 0.459306, -0.301232, 0.263219, 0.763378, 0.140571, -0.660321, -0.932484, 0.680406, 0.329531, -0.467508, 0.420782, -0.879525, 1.59487, -0.240623, 0.0142836, 0.189365, -0.681452, -0.619105, -0.251895, -0.41605, 0.25024, 0.28284, -0.73057, -0.271264, -0.250924, 0.00149001, 0.708423, -0.105644, -1.97675, -1.02247, 0.146688, 0.0159494, -0.837983, -0.0562545, -0.234124, 0.622423, 0.505136, 0.00608518]), directional_likelihoods_tuple=DirectionalRankOrderLikelihoods(long_relative_direction_likelihoods=array([0.354393, 0.317115, 0.635849, 0.355371, 0.542013, 0.563464, 0.324083, 0.358761, 0.491252, 0.26331, 0.706051, 0.690406, 0.541244, 0.373607, 0.37209, 0.417931, 0.5791, 0.547087, 0.631071, 0.612277, 0.476277, 0.4781, 0.609497, 0.44878, 0.339116, 0.706352, 0.277095, 0.579473, 0.670678, 0.670227, 0.494276, 0.429531, 0.681893, 0.668642, 0.144749, 0.398743, 0.285182, 0.195609, 0.506575, 0.739128, 0.653314, 0.472147, 0.57472, 0.787615, 0.435556, 0.552674, 0.683388, 0.269484, 0.136811, 0.282333, 0.366831, 0.476366, 0.68881, 0.691844, 0.495407, 0.399557, 0.513352, 0.48115, 0.635072, 0.603538, 0.829936, 0.408753, 0.515096, 0.336223, 0.447648, 0.479924, 0.667313, 0.496584, 0.488055, 0.161236, 0.619788, 0.326338, 0.619543, 0.635849, 0.277491, 0.388548, 0.397078, 0.587343, 0.689456, 0.419648, 0.24313, 0.632899, 0.698541, 0.315778, 0.484976, 0.736441, 0.502216, 0.415096, 0.620206, 0.47372, 0.496135, 0.50045, 0.523774, 0.423636, 0.369676, 0.552259, 0.503949, 0.508575, 0.659521, 0.526194, 0.470068, 0.377058, 0.467249, 0.382936, 0.470778, 0.505755, 0.249215, 0.407307, 0.278926, 0.63661, 0.421083, 0.475071, 0.414731, 0.295583, 0.663506, 0.500088, 0.67928, 0.280175, 0.440022, 0.565195, 0.594066, 0.559351, 0.372009, 0.472401, 0.336725, 0.364286, 0.494966, 0.474939, 0.410628, 0.289404, 0.360928, 0.687939, 0.643989, 0.539032, 0.525052, 0.704233, 0.320615, 0.584321, 0.739139, 0.419248, 0.718366, 0.416905, 0.652204, 0.474655, 0.613314, 0.451529, 0.600239, 0.546104, 0.532263, 0.467921, 0.37064, 0.542295, 0.159581, 0.446738, 0.736018, 0.423939, 0.459869, 0.643523, 0.481008, 0.365281, 0.681436, 0.658115, 0.564817, 0.31314, 0.648211, 0.21498, 0.896028, 0.599852, 0.321507, 0.526787, 0.449128, 0.584773, 0.33451, 0.30774, 0.428035, 0.416282, 0.342096, 0.600666, 0.453126, 0.498193, 0.497759, 0.386859, 0.347628, 0.664861, 0.401568, 0.608929, 0.667487, 0.28945, 0.256312, 0.677345, 0.244199, 0.65901, 0.603758, 0.718297, 0.282846, 0.64588, 0.48813, 0.41429, 0.435425, 0.538427, 0.442356, 0.448793, 0.467896, 0.625752, 0.435706, 0.547852, 0.526958, 0.685267, 0.471734, 0.637745, 0.334411, 0.322407, 0.640001, 0.471816, 0.616496, 0.586226, 0.320929, 0.575613, 0.419648, 0.486652, 0.503149, 0.542013, 0.376543, 0.620365, 0.475161, 0.34863, 0.433977, 0.445323, 0.585631, 0.479113, 0.372459, 0.375943, 0.596434, 0.615372, 0.563356, 0.478482, 0.360548, 0.503661, 0.472946, 0.450906, 0.521367, 0.470529, 0.351317, 0.554926, 0.493736, 0.651185, 0.273841]), short_relative_direction_likelihoods=array([0.609595, 0.640234, 0.390562, 0.603022, 0.442308, 0.425074, 0.654967, 0.616233, 0.471684, 0.71854, 0.297144, 0.328296, 0.457526, 0.646764, 0.589063, 0.54843, 0.368457, 0.448273, 0.390075, 0.369749, 0.48784, 0.501513, 0.32019, 0.535154, 0.632125, 0.283968, 0.666487, 0.423924, 0.308504, 0.358451, 0.466723, 0.580915, 0.328846, 0.290765, 0.848053, 0.570318, 0.741026, 0.81788, 0.49999, 0.250369, 0.362727, 0.533068, 0.336599, 0.226978, 0.555856, 0.413429, 0.25534, 0.695453, 0.847049, 0.691615, 0.619097, 0.487809, 0.327094, 0.288513, 0.530659, 0.571719, 0.473054, 0.536169, 0.417375, 0.405845, 0.151839, 0.585437, 0.48858, 0.651814, 0.492353, 0.537902, 0.32464, 0.473322, 0.480668, 0.787259, 0.372402, 0.59802, 0.406441, 0.390562, 0.681096, 0.597858, 0.575963, 0.417933, 0.333971, 0.57669, 0.723033, 0.350101, 0.339743, 0.662581, 0.569056, 0.228154, 0.462628, 0.564441, 0.355166, 0.486844, 0.482026, 0.537129, 0.494576, 0.586596, 0.612921, 0.438436, 0.472468, 0.483788, 0.289201, 0.489954, 0.539654, 0.589011, 0.469308, 0.619912, 0.541095, 0.517833, 0.717002, 0.615548, 0.694177, 0.365108, 0.547032, 0.488027, 0.565413, 0.666903, 0.362479, 0.47521, 0.320369, 0.702094, 0.53023, 0.461328, 0.38181, 0.42184, 0.56641, 0.514004, 0.632084, 0.564509, 0.483121, 0.511978, 0.579382, 0.680383, 0.611742, 0.283505, 0.374499, 0.495527, 0.480024, 0.288386, 0.649499, 0.376599, 0.263449, 0.567356, 0.23749, 0.559097, 0.324138, 0.495425, 0.370553, 0.526666, 0.390859, 0.450431, 0.462361, 0.482429, 0.615641, 0.432271, 0.821902, 0.548521, 0.265417, 0.570304, 0.518798, 0.308093, 0.462288, 0.642382, 0.335523, 0.305202, 0.406436, 0.654589, 0.364725, 0.773126, 0.0954011, 0.398848, 0.644061, 0.428882, 0.530425, 0.385793, 0.613676, 0.685175, 0.491585, 0.575734, 0.601465, 0.35532, 0.528591, 0.481557, 0.47779, 0.624342, 0.612313, 0.319059, 0.576891, 0.426383, 0.318441, 0.703403, 0.708868, 0.314603, 0.741042, 0.359644, 0.374221, 0.259965, 0.700334, 0.322317, 0.503156, 0.5378, 0.551037, 0.46059, 0.508637, 0.553004, 0.528449, 0.374698, 0.567069, 0.439173, 0.420469, 0.293332, 0.460979, 0.33949, 0.626915, 0.625799, 0.316995, 0.42777, 0.36951, 0.406135, 0.634447, 0.407415, 0.57669, 0.485911, 0.512959, 0.479236, 0.569798, 0.41334, 0.50641, 0.606132, 0.58209, 0.523011, 0.401372, 0.491704, 0.605221, 0.560377, 0.363707, 0.390099, 0.413655, 0.502913, 0.610536, 0.498513, 0.532966, 0.495666, 0.488445, 0.527311, 0.612444, 0.440422, 0.479299, 0.341752, 0.705846]), long_best_direction_indices=1      1\n2      1\n3      0\n4      1\n5      0\n6      0\n      ..\n396    1\n399    1\n401    0\n404    0\n405    0\n407    1\nName: combined_best_direction_indicies, Length: 247, dtype: int8, short_best_direction_indices=1      1\n2      1\n3      0\n4      1\n5      0\n6      0\n      ..\n396    1\n399    1\n401    0\n404    0\n405    0\n407    1\nName: combined_best_direction_indicies, Length: 247, dtype: int8), masked_z_score_values_list=[masked_array(data=[--, --, 2.143201017038139, --, 0.8215646752043256, -0.5100910592097588, --, --, -0.17842954967877175, --, -0.39283699018365226, 1.786971988282634, -1.3548357586989397, --, --, --, -0.6011353951594416, 0.1900832386889918, 1.258770324955506, 0.09963009972599529, --, --, 1.2096352865064706, --, --, 0.6719845773237594, --, 1.1113652096084008, -0.17842954967877175, 2.0694984593645858, 0.8403999240438685, --, 0.6780835069214544, -0.197413541806808, --, --, --, --, 1.7646378798967088, 0.6869069975188652, 1.848390786343928, --, -0.11701075161747784, 1.4798779979761643, --, 1.3587584101909556, 0.08399622385584773, --, --, --, --, --, 2.4932881659875146, 2.2414710939362084, --, --, -1.7753182992724137, --, 1.602715594098752, 0.36016606408949803, 1.3850141543579642, --, 2.0694984593645858, --, --, --, -2.0302063112267827, 0.22693451752576818, 0.9885276134858129, --, -1.7581571645199934, --, -0.9154551264142989, -1.247116635945286, --, --, --, -1.3945217512923913, 1.2956216037922823, --, --, -1.9288652944256488, -0.6390705351384761, --, --, -1.323052604457431, 1.3425232314027251, --, -1.652480703149826, --, -1.1138850893815562, --, -0.9154551264142989, --, --, 1.3570404018535767, 0.09963009972599528, 0.5650385583219262, -1.529643107027238, 2.0694984593645858, --, --, --, --, --, --, --, --, --, 0.8165549789141897, --, --, --, --, 0.6200148251180493, -1.6822203316847681, 1.0611134657400692, --, --, 0.17779947907673296, -0.9141666201612647, 1.1638469070230044, --, --, --, --, -0.29512526599523015, --, --, --, --, -0.27055774677071265, -2.0824122895788832, -0.5100910592097588, -0.03716631413779571, 0.9907610243244053, --, 1.0268218098984778, 1.3386147624351883, --, 0.6926826204763112, --, -1.648145258580793, --, 0.5469994707794481, --, -1.8656400611272577, 1.0192370125164598, -0.33691581880197075, --, --, 1.4627557600441223, --, --, -0.07234253484562768, --, --, -1.2225491167207685, 0.37433963287287364, --, 0.4357584309341676, 0.49047699647968385, -1.9640415151334802, --, -1.8367370973337074, --, -2.266668683762765, 1.4798779979761643, --, 0.7718867621423395, --, 1.1514680718719512, --, --, --, --, --, 0.713949457447087, --, 1.6473838108706018, 0.08399622385584773, --, --, -1.6380292212530507, --, 0.07952940217866274, 1.0050661796044567, --, --, 0.8226968587203191, --, 2.1247753776197507, 0.7244267818222487, 1.485032022988301, --, 1.2531008974421558, --, --, --, 1.5535805556497169, --, --, --, 1.7562625892519872, --, 1.5720061950681052, 0.927108815424519, -1.2234036391285774, 1.1113652096084006, -0.9128690717590864, --, --, -1.9604336976249852, -1.0997115205981807, 0.6011167334068819, -1.4129473907107792, --, 1.848390786343928, --, -0.2521321073523244, --, 0.3067789550054502, --, 0.927108815424519, --, --, --, --, 0.7704436351389414, --, --, --, 2.0940659785891036, 0.6292662481523877, 1.6597989475910133, --, --, -1.9841422126808128, --, --, -0.5984258527666014, --, --, -0.9577257109623658, 0.35988815097609855, -0.47468492856266004, --],\n             mask=[ True,  True, False,  True, False, False,  True,  True, False,  True, False, False, False,  True,  True,  True, False, False, False, False,  True,  True, False,  True,  True, False,  True, False, False, False, False,  True, False, False,  True,  True,  True,  True, False, False, False,  True, False, False,  True, False, False,  True,  True,  True,  True,  True, False, False,  True,  True, False,  True, False, False, False,  True, False,  True,  True,  True, False, False, False,  True, False,  True, False, False,  True,  True,  True, False, False,  True,  True, False, False,  True,  True, False, False,  True, False,  True, False,  True, False,  True,  True, False, False, False, False, False,  True,  True,  True,  True,  True,  True,  True,  True,  True, False,  True,  True,  True,  True, False, False, False,  True,  True, False, False, False,  True,  True,  True,  True, False,  True,  True,  True,  True, False, False, False, False, False,  True, False, False,  True, False,  True, False,  True, False,  True, False, False, False,  True,  True, False,  True,  True, False,  True,  True, False, False,  True, False, False, False,  True, False,  True, False, False,  True, False,  True, False,  True,  True,  True,  True,  True, False,  True, False, False,  True,  True, False,  True, False, False,  True,  True, False,  True, False, False, False,  True, False,  True,  True,  True, False,  True,  True,  True, False,  True, False, False, False, False, False,  True,  True, False, False, False, False,  True, False,  True, False,  True, False,  True, False,  True,  True,  True,  True, False,  True,  True,  True, False, False, False,  True,  True, False,  True,  True, False,  True,  True, False, False, False,  True],\n       fill_value=1e+20), masked_array(data=[-0.8372920641797379, 1.7087279427615885, --, 1.1692963322052086, --, --, 1.9266874718918006, 1.3296678921003484, --, -0.4392790109854365, --, --, --, 0.6852658059762412, -1.5890944979911965, -1.293826669055073, --, --, --, --, -0.4794823496919315, -2.130184138935084, --, -0.961922414169873, 1.1401378667697288, --, 1.6139629300962783, --, --, --, --, 1.5950099275632161, --, --, 1.5191979174309684, -0.7448243851547993, 0.0029577147860098316, -0.8493530657916863, --, --, --, 2.353130028885696, --, --, -1.2800147643751087, --, --, -1.437470477726701, -0.21816064809971328, -0.8413123980503875, 1.435092746231622, 1.5950099275632164, --, --, -1.6080475005242587, -0.37610233587522984, --, -0.8309743966687173, --, --, --, -0.3990756722789412, --, -1.228987449863019, 0.4986516271891693, -0.691985711426263, --, --, --, -1.5132824878589488, --, -0.5277263561397256, --, --, 2.2382633468671376, 0.6852658059762412, 1.7657194888400263, --, --, -2.1640022414940767, 0.4894181131346007, --, --, 0.7080624244076166, -0.9446924118670893, --, --, 1.234902879435039, --, 1.0402038534135838, --, 0.0029577147860098316, --, -1.8923425385201886, -0.3495946400247935, --, --, --, --, --, 1.5628472565980198, -0.672458375483108, 1.5823745925411752, 0.12931106500642306, -1.228987449863019, -0.6793503764042216, 0.6347244658880759, -0.28133732320991994, -1.4112278588347686, --, 0.5014791147465492, 1.9809619791455697, 1.3580973958999412, -2.023290556021344, --, --, --, 0.23039374518275366, 1.7233071754793279, --, --, --, -1.0361439625510946, -1.418517475193639, -1.4607972500750848, -1.3237524625283288, --, 0.38651878773649495, 1.5950099275632161, 0.5715477907778693, -0.7392577690262078, --, --, --, --, --, -1.0525787339783652, --, --, 0.6783738050551278, --, -0.3495946400247935, --, -1.6396358380793619, --, -2.2714025891814282, --, --, --, -1.2353051173740395, 1.5191979174309684, --, -0.6288090363160562, 0.0400684889766207, --, 1.7466339478277124, 0.6301297986073334, --, --, 1.9614346432024146, --, --, --, -0.07126383359521192, --, 1.6455512676513815, --, --, -0.22447831561073395, --, -1.207118600786409, --, 0.0029577147860098316, 2.277318018753448, -0.7488447190254487, 0.9663534127742679, -1.3806114701275145, --, 0.522508553454562, --, --, -2.2123333759204917, 1.1401378667697288, --, -2.2680579416755933, --, --, -0.5277263561397256, -0.09618106769462206, --, -1.9871075511854979, --, --, --, 1.8993728505941527, --, -1.3237524625283288, 0.5095197824878482, 0.0029577147860098316, --, -0.8499273992017795, 0.2120150760597844, 1.5950099275632161, --, -0.4052608013107097, --, --, --, --, --, -1.6590748150363483, -0.8499273992017795, --, --, --, --, -1.4684844818717113, --, -2.3851206043797997, --, -0.5277263561397256, --, -0.3347503303485491, --, -0.8815157367568828, -0.28650632390075503, -0.11950784004300603, 0.4853977792639513, --, 0.09660784494937491, 1.530684585632824, 0.224076077671733, --, --, --, -1.183277267283281, -1.5332330168411192, --, -1.910721207643157, -2.11235641407881, --, 0.8485532124149291, -1.1026340996426056, --, --, --, -1.418517475193639],\n             mask=[False, False,  True, False,  True,  True, False, False,  True, False,  True,  True,  True, False, False, False,  True,  True,  True,  True, False, False,  True, False, False,  True, False,  True,  True,  True,  True, False,  True,  True, False, False, False, False,  True,  True,  True, False,  True,  True, False,  True,  True, False, False, False, False, False,  True,  True, False, False,  True, False,  True,  True,  True, False,  True, False, False, False,  True,  True,  True, False,  True, False,  True,  True, False, False, False,  True,  True, False, False,  True,  True, False, False,  True,  True, False,  True, False,  True, False,  True, False, False,  True,  True,  True,  True,  True, False, False, False, False, False, False, False, False, False,  True, False, False, False, False,  True,  True,  True, False, False,  True,  True,  True, False, False, False, False,  True, False, False, False, False,  True,  True,  True,  True,  True, False,  True,  True, False,  True, False,  True, False,  True, False,  True,  True,  True, False, False,  True, False, False,  True, False, False,  True,  True, False,  True,  True,  True, False,  True, False,  True,  True, False,  True, False,  True, False, False, False, False, False,  True, False,  True,  True, False, False,  True, False,  True,  True, False, False,  True, False,  True,  True,  True, False,  True, False, False, False,  True, False, False, False,  True, False,  True,  True,  True,  True,  True, False, False,  True,  True,  True,  True, False,  True, False,  True, False,  True, False,  True, False, False, False, False,  True, False, False, False,  True,  True,  True, False, False,  True, False, False,  True, False, False,  True,  True,  True, False],\n       fill_value=1e+20), masked_array(data=[--, --, 2.431285978023522, --, 0.815578274029049, -1.5468329292751266, --, --, -1.7494223180727435, --, -0.04666687669112459, 1.4121999616476335, -1.5156653309985701, --, --, --, -0.3220879879077188, -0.9206475457188581, 0.9579086049499485, 0.6799760550292515, --, --, 1.7191535810379615, --, --, 1.8136008485426773, --, 1.4735906855256993, 1.3815045997086008, 1.5472595541793777, 1.039161033612094, --, 2.016061445611878, 0.23461425816837575, --, --, --, --, 1.8519807836105033, 1.679443105822043, 1.9340211146111912, --, -0.7364753740846613, 1.2894185138915026, --, 1.3705573027932816, 1.2034715004622103, --, --, --, --, --, 0.6448159131718139, 0.9221903656027101, --, --, -1.4731640606214482, --, 1.5349814094037648, -0.3681310308162679, -0.03382512930537284, --, 2.0629416347551284, --, --, --, -1.4823726692031578, -0.5154687681236253, 1.166637066135371, --, -1.3585078557315318, --, 0.1843854840863222, -1.8415084038898415, --, --, --, 0.3685576557205189, -0.36813103081626797, --, --, -0.09187277336497286, -1.104819717353055, --, --, -0.4529618492659585, 1.5238194596077528, --, -0.2760449449991696, --, -0.3256297604391456, --, -0.5523032024504647, --, --, -0.49091247857239917, 0.013607652207339789, 0.8476628854262612, -0.42952175469433357, 1.5472595541793777, --, --, --, --, --, --, --, --, --, 1.8419350287940923, --, --, --, --, -0.30674030693820237, -0.9316332542023015, -0.4451484844087502, --, --, -0.3592014709794583, -0.6669278407402793, 0.70535134832712, --, --, --, --, -0.4724952614089794, --, --, --, --, 0.2764715699034206, -0.8592568218407927, 0.7737364333157516, 1.031577473603627, 0.35962809588370925, --, 1.2013660602000371, 1.3323920206061484, --, -0.08705895256096925, --, -1.1752384888602476, --, -0.05387921348239383, --, -1.750325122835656, 0.5527298273547157, -1.7307475174524924, --, --, 1.2754417559906013, --, --, 0.6409092307432096, --, --, -2.087071299402104, -0.36813103081626797, --, 1.2280277900134369, -0.26544109269295824, -1.8749942532778772, --, -0.5154687681236253, --, -0.8592568218407927, 1.4735906855256993, --, 0.1408538798818757, --, 1.3425034339507709, --, --, --, --, --, 1.314697047253059, --, 1.516006094750544, 0.8596834467450432, --, --, -2.249576156726395, --, -0.0734555562015532, 1.0222685049388127, --, --, 1.1604979937475646, --, 2.210279372062486, 0.8842397362962695, 2.4163461375273214, --, 1.8419350287940923, --, --, --, 1.4534991758928775, --, --, --, 1.4735906855256993, --, 1.4735906855256993, 2.0261072004282896, -1.6051274253402117, -0.6628065054309827, -0.9361567812248955, --, --, -1.1357297321727802, -1.2276011651091858, -0.25221847524229796, 0.5158953930278761, --, 1.8419350287940928, --, -0.1471244248552318, --, -0.7303363016968547, --, 1.7498489429769943, --, --, --, --, 0.35193493663968883, --, --, --, 0.2457762079643878, 0.948491797516266, 1.6230951542640466, --, --, -0.81014424273834, --, --, -1.811716177950661, --, --, -1.1297371288094462, 0.33515387949274794, -1.0298869220312983, --],\n             mask=[ True,  True, False,  True, False, False,  True,  True, False,  True, False, False, False,  True,  True,  True, False, False, False, False,  True,  True, False,  True,  True, False,  True, False, False, False, False,  True, False, False,  True,  True,  True,  True, False, False, False,  True, False, False,  True, False, False,  True,  True,  True,  True,  True, False, False,  True,  True, False,  True, False, False, False,  True, False,  True,  True,  True, False, False, False,  True, False,  True, False, False,  True,  True,  True, False, False,  True,  True, False, False,  True,  True, False, False,  True, False,  True, False,  True, False,  True,  True, False, False, False, False, False,  True,  True,  True,  True,  True,  True,  True,  True,  True, False,  True,  True,  True,  True, False, False, False,  True,  True, False, False, False,  True,  True,  True,  True, False,  True,  True,  True,  True, False, False, False, False, False,  True, False, False,  True, False,  True, False,  True, False,  True, False, False, False,  True,  True, False,  True,  True, False,  True,  True, False, False,  True, False, False, False,  True, False,  True, False, False,  True, False,  True, False,  True,  True,  True,  True,  True, False,  True, False, False,  True,  True, False,  True, False, False,  True,  True, False,  True, False, False, False,  True, False,  True,  True,  True, False,  True,  True,  True, False,  True, False, False, False, False, False,  True,  True, False, False, False, False,  True, False,  True, False,  True, False,  True, False,  True,  True,  True,  True, False,  True,  True,  True, False, False, False,  True,  True, False,  True,  True, False,  True,  True, False, False, False,  True],\n       fill_value=1e+20), masked_array(data=[0.25404458716312045, 1.7903910294751468, --, 0.645061535443864, --, --, 1.6102022492039825, -0.011496773236488938, --, -0.3276174403788811, --, --, --, 0.6713238677910781, -1.8702862960337545, -1.5927656261424337, --, --, --, --, -0.9771017201441596, -2.2048163432038512, --, -1.2185029568710772, 1.3162100287615583, --, 1.5058824290469937, --, --, --, --, -0.6943174142640561, --, --, 1.5058824290469937, -0.9460644182792701, 0.84202902804797, -0.8000741465444199, --, --, --, 0.06437218687768519, --, --, -1.7914992989921121, --, --, -1.1962197657885925, -0.409808813835903, -0.34945850465417366, 1.2079656145635747, 1.5817513891611679, --, --, -1.149531174949101, -1.718548375805407, --, -0.08736573335066306, --, --, --, -0.961008304362365, --, -1.8133845759481244, -0.011496773236488938, -0.8334105078067087, --, --, --, -1.339203575234536, --, -0.2391036535790113, --, --, 2.2254880204329477, 0.21611010710603346, 1.3254946917125934, --, --, 0.47532905416279503, 0.6966135211624694, --, --, 1.3812026694188055, -0.1063329733792066, --, --, 1.126537628476123, --, 0.7851273079623393, --, -2.135827656433364, --, -1.908220776090842, -0.30860598766961833, --, --, --, --, --, 2.1933011888693588, -0.6632801123991665, 1.0633134950476444, 1.379434162190037, -1.0546949748063834, -1.6047449356341452, 1.1897617619046013, 0.27301182719166406, -1.8060894836294537, --, 0.680520105380675, 1.9921334915969275, 1.192922968576025, -2.015127038069905, --, --, --, 0.9747997082477746, 1.5642431675963582, --, --, --, 0.04421120446972283, -0.865022574520948, -1.8148435944118584, -0.4983226006357729, --, 0.3696106507627939, 0.7851273079623392, 0.27301182719166406, -1.1813643050669362, --, --, --, --, --, -0.705989561973929, --, --, 1.1713692867254077, --, -0.21575935815926542, --, -0.3276174403788811, --, -2.287565576661713, --, --, --, -1.2949466818346012, 1.6007186291897113, --, -0.5172898406643165, 0.2856124411966405, --, 1.278275548704471, 1.6139382207247563, --, --, 1.379434162190037, --, --, --, 0.17419648578421698, --, 1.695554829332429, --, --, -0.39084157380735957, --, -1.4851054216079473, --, 0.03276012016344596, 2.264572030188735, -0.7638639610353823, 0.8872586004237275, -1.41507253534871, --, -0.2528980099634066, --, --, -1.6694175476612947, 0.84202902804797, --, -1.8312360959749887, --, --, -0.5425794940357078, -1.0328096978503714, --, -2.040991456290646, --, --, --, 1.8707228695960365, --, -1.908220776090842, 1.026528544689257, -0.3828832912779008, --, 0.46268422747709936, 0.6161464422534968, 1.5817513891611674, --, -0.9598587746636654, --, --, --, --, --, -1.7097942650230018, 0.17817562704894638, --, --, --, --, -1.5323245646160704, --, 0.47532905416279503, --, 0.5195859475627299, --, 0.01264335043620283, --, -0.5172898406643165, -0.614999865053783, -0.23910365357901125, 0.17419648578421698, --, -0.4566690539064224, 1.0023884210165652, 0.43107216076286015, --, --, --, -1.0658521748231735, -1.4392268946833053, --, -1.701305430324912, -1.812721385737336, --, 0.6304713508065228, -0.5425794940357077, --, --, --, -1.0546949748063834],\n             mask=[False, False,  True, False,  True,  True, False, False,  True, False,  True,  True,  True, False, False, False,  True,  True,  True,  True, False, False,  True, False, False,  True, False,  True,  True,  True,  True, False,  True,  True, False, False, False, False,  True,  True,  True, False,  True,  True, False,  True,  True, False, False, False, False, False,  True,  True, False, False,  True, False,  True,  True,  True, False,  True, False, False, False,  True,  True,  True, False,  True, False,  True,  True, False, False, False,  True,  True, False, False,  True,  True, False, False,  True,  True, False,  True, False,  True, False,  True, False, False,  True,  True,  True,  True,  True, False, False, False, False, False, False, False, False, False,  True, False, False, False, False,  True,  True,  True, False, False,  True,  True,  True, False, False, False, False,  True, False, False, False, False,  True,  True,  True,  True,  True, False,  True,  True, False,  True, False,  True, False,  True, False,  True,  True,  True, False, False,  True, False, False,  True, False, False,  True,  True, False,  True,  True,  True, False,  True, False,  True,  True, False,  True, False,  True, False, False, False, False, False,  True, False,  True,  True, False, False,  True, False,  True,  True, False, False,  True, False,  True,  True,  True, False,  True, False, False, False,  True, False, False, False,  True, False,  True,  True,  True,  True,  True, False, False,  True,  True,  True,  True, False,  True, False,  True, False,  True, False,  True, False, False, False, False,  True, False, False, False,  True,  True,  True, False, False,  True, False, False,  True, False, False,  True,  True,  True, False],\n       fill_value=1e+20)], rank_order_z_score_df=None)"
     ]
    }
   ],
   "source": [
    "from pyphocorehelpers.general_helpers import GeneratedClassDefinitionType, CodeConversion\n",
    "\n",
    "CodeConversion.convert_dictionary_to_class_defn(ripple_result_tuple, class_name='DirectionalRankOrderResult', class_definition_mode=GeneratedClassDefinitionType.ATTRS_CLASS)"
   ]
  },
  {
   "cell_type": "code",
   "execution_count": 68,
   "id": "b101f684",
   "metadata": {},
   "outputs": [
    {
     "ename": "AttributeError",
     "evalue": "type object 'CodeConversion' has no attribute '_isinstance_namedtuple'",
     "output_type": "error",
     "traceback": [
      "\u001b[1;31m---------------------------------------------------------------------------\u001b[0m",
      "\u001b[1;31mAttributeError\u001b[0m                            Traceback (most recent call last)",
      "\u001b[1;32mc:\\Users\\pho\\repos\\Spike3DWorkEnv\\Spike3D\\ReviewOfWork_2024-01-02.ipynb Cell 101\u001b[0m line \u001b[0;36m3\n\u001b[0;32m      <a href='vscode-notebook-cell:/c%3A/Users/pho/repos/Spike3DWorkEnv/Spike3D/ReviewOfWork_2024-01-02.ipynb#Z1155sZmlsZQ%3D%3D?line=0'>1</a>\u001b[0m \u001b[39mfrom\u001b[39;00m \u001b[39mpyphocorehelpers\u001b[39;00m\u001b[39m.\u001b[39;00m\u001b[39mgeneral_helpers\u001b[39;00m \u001b[39mimport\u001b[39;00m CodeConversion\n\u001b[1;32m----> <a href='vscode-notebook-cell:/c%3A/Users/pho/repos/Spike3DWorkEnv/Spike3D/ReviewOfWork_2024-01-02.ipynb#Z1155sZmlsZQ%3D%3D?line=2'>3</a>\u001b[0m CodeConversion\u001b[39m.\u001b[39;49m_isinstance_namedtuple(ripple_result_tuple)\n",
      "\u001b[1;31mAttributeError\u001b[0m: type object 'CodeConversion' has no attribute '_isinstance_namedtuple'"
     ]
    }
   ],
   "source": [
    "from pyphocorehelpers.general_helpers import CodeConversion\n",
    "\n",
    "CodeConversion._isinstance_namedtuple(ripple_result_tuple)"
   ]
  },
  {
   "cell_type": "code",
   "execution_count": null,
   "id": "09d28aa2",
   "metadata": {},
   "outputs": [],
   "source": [
    "from attrs import define, field, Factory, astuple, asdict\n",
    "from pyphoplacecellanalysis.General.Pipeline.Stages.ComputationFunctions.MultiContextComputationFunctions.RankOrderComputations import DirectionalRankOrderLikelihoods\n",
    "import list\n",
    "import type\n",
    "\n",
    "@define(slots=False)\n",
    "class DirectionalRankOrderResult(object):\n",
    "    # Docstring for DirectionalRankOrderResult. \n",
    "\n",
    "    active_epochs: pd.DataFrame\n",
    "    long_best_dir_z_score_values: np.ndarray\n",
    "    short_best_dir_z_score_values: np.ndarray\n",
    "    long_short_best_dir_z_score_diff_values: np.ndarray\n",
    "    directional_likelihoods_tuple: DirectionalRankOrderLikelihoods\n",
    "    masked_z_score_values_list: list\n",
    "    rank_order_z_score_df: type"
   ]
  },
  {
   "cell_type": "code",
   "execution_count": 56,
   "id": "788190b4",
   "metadata": {},
   "outputs": [
    {
     "data": {
      "text/plain": [
       "{}"
      ]
     },
     "execution_count": 56,
     "metadata": {},
     "output_type": "execute_result"
    }
   ],
   "source": [
    "ripple_result_tuple.__dict__"
   ]
  },
  {
   "cell_type": "code",
   "execution_count": 62,
   "id": "387b495b",
   "metadata": {},
   "outputs": [
    {
     "data": {
      "text/plain": [
       "True"
      ]
     },
     "execution_count": 62,
     "metadata": {},
     "output_type": "execute_result"
    }
   ],
   "source": [
    "from collections import namedtuple\n",
    "\n",
    "def convert_to_parsable_type(an_obj_instance):\n",
    "\tif isinstance(an_obj_instance, (namedtuple, )):\n",
    "\t\t# use namedtuple's built-in `._asdict()` property:\n",
    "\t\treturn an_obj_instance._asdict()\n",
    "\t\n",
    "\n"
   ]
  },
  {
   "cell_type": "code",
   "execution_count": 54,
   "id": "17abf222",
   "metadata": {},
   "outputs": [
    {
     "name": "stdout",
     "output_type": "stream",
     "text": [
      "\t\t\t│   ├── DirectionalRankOrderResultBase: dict\n",
      "\t\t\t\t│   ├── active_epochs: pandas.core.frame.DataFrame (children omitted) - (247, 31)\n",
      "\t\t\t\t│   ├── long_best_dir_z_score_values: numpy.ndarray - (247,)\n",
      "\t\t\t\t│   ├── short_best_dir_z_score_values: numpy.ndarray - (247,)\n",
      "\t\t\t\t│   ├── long_short_best_dir_z_score_diff_values: numpy.ndarray - (247,)\n",
      "\t\t\t\t│   ├── directional_likelihoods_tuple: pyphoplacecellanalysis.General.Pipeline.Stages.ComputationFunctions.MultiContextComputationFunctions.RankOrderComputations.DirectionalRankOrderLikelihoods - (4, 247)\n",
      "\t\t\t\t│   ├── masked_z_score_values_list: list - (4, 247)\n",
      "\t\t\t\t│   ├── rank_order_z_score_df: NoneType\n"
     ]
    }
   ],
   "source": [
    "print_keys_if_possible('DirectionalRankOrderResultBase', ripple_result_tuple._asdict(), depth=3)"
   ]
  },
  {
   "cell_type": "code",
   "execution_count": null,
   "id": "f9aca5dd",
   "metadata": {},
   "outputs": [],
   "source": []
  },
  {
   "cell_type": "code",
   "execution_count": null,
   "id": "ef52e805",
   "metadata": {},
   "outputs": [],
   "source": []
  },
  {
   "cell_type": "code",
   "execution_count": 53,
   "id": "c7d47bc6",
   "metadata": {},
   "outputs": [
    {
     "data": {
      "text/plain": [
       "{'active_epochs':            start         stop  label  duration                      LR_Long_ActuallyIncludedAclus  LR_Long_rel_num_cells                      RL_Long_ActuallyIncludedAclus  RL_Long_rel_num_cells                     LR_Short_ActuallyIncludedAclus  LR_Short_rel_num_cells                     RL_Short_ActuallyIncludedAclus  RL_Short_rel_num_cells  Long_LR_evidence  Long_RL_evidence  Long_LR_product_evidence  Long_RL_product_evidence  Short_LR_evidence  Short_RL_evidence  Short_LR_product_evidence  Short_RL_product_evidence  Long_normed_LR_evidence  Long_normed_RL_evidence  Long_normed_product_LR_evidence  Long_normed_product_RL_evidence  Long_best_direction_indicies  Short_normed_LR_evidence  Short_normed_RL_evidence  Short_normed_product_LR_evidence  Short_normed_product_RL_evidence  Short_best_direction_indicies  combined_best_direction_indicies\n",
       " 1      55.735790    55.897899      1  0.162109                   [11, 44, 48, 79, 82, 84, 92, 93]                      8               [11, 12, 44, 48, 79, 82, 84, 92, 93]                      9                   [11, 44, 48, 79, 82, 84, 92, 93]                       8               [11, 12, 44, 48, 79, 82, 84, 92, 93]                       9          3.189541          5.810459                       0.0                  0.007093           3.513642           5.486358                        0.0                   0.004531                 0.354393                 0.645607                              0.0                              1.0                             1                  0.390405                  0.609595                               0.0                               1.0                              1                                 1\n",
       " 2      73.691866    73.909210      2  0.217344                                    [9, 31, 39, 61]                      4                        [9, 28, 31, 39, 57, 61, 67]                      7                                    [9, 31, 39, 61]                       4                        [9, 28, 31, 39, 57, 61, 67]                       7          2.219805          4.780195                       0.0                  0.021561           2.518361           4.481639                        0.0                   0.005523                 0.317115                 0.682885                              0.0                              1.0                             1                  0.359766                  0.640234                               0.0                               1.0                              1                                 1\n",
       " 3      92.642502    92.760068      3  0.117565                          [43, 58, 61, 72, 92, 104]                      6                              [12, 61, 72, 92, 104]                      5                          [43, 58, 61, 72, 92, 104]                       6                              [12, 61, 72, 92, 104]                       5          4.450943          2.549057                       0.0                  0.000000           4.266066           2.733934                        0.0                   0.000000                 0.635849                 0.364151                              NaN                              NaN                             0                  0.609438                  0.390562                               NaN                               NaN                              0                                 0\n",
       " 4      93.044443    93.453141      4  0.408699                [6, 11, 39, 61, 82, 84, 89, 92, 98]                      9  [4, 11, 18, 38, 39, 57, 61, 82, 84, 89, 91, 92...                     13                [6, 11, 39, 61, 82, 84, 89, 92, 98]                       9  [4, 11, 18, 38, 39, 57, 61, 82, 84, 89, 91, 92...                      13          4.975187          9.024813                       0.0                  0.000000           5.557692           8.442308                        0.0                   0.000000                 0.355371                 0.644629                              NaN                              NaN                             1                  0.396978                  0.603022                               NaN                               NaN                              1                                 1\n",
       " 5      93.925000    94.029571      5  0.104571                                    [5, 29, 31, 35]                      4                                   [12, 31, 38, 57]                      4                                    [5, 29, 31, 35]                       4                                   [12, 31, 38, 57]                       4          3.794094          3.205906                       0.0                  0.000000           3.903846           3.096154                        0.0                   0.000000                 0.542013                 0.457987                              NaN                              NaN                             0                  0.557692                  0.442308                               NaN                               NaN                              0                                 0\n",
       " 6     102.927307   103.187813      6  0.260505                                [2, 58, 72, 92, 93]                      5                               [18, 57, 72, 92, 93]                      5                                [2, 58, 72, 92, 93]                       5                               [18, 57, 72, 92, 93]                       5          3.944247          3.055753                       0.0                  0.000000           4.024482           2.975518                        0.0                   0.000000                 0.563464                 0.436536                              NaN                              NaN                             0                  0.574926                  0.425074                               NaN                               NaN                              0                                 0\n",
       " ..           ...          ...    ...       ...                                                ...                    ...                                                ...                    ...                                                ...                     ...                                                ...                     ...               ...               ...                       ...                       ...                ...                ...                        ...                        ...                      ...                      ...                              ...                              ...                           ...                       ...                       ...                               ...                               ...                            ...                               ...\n",
       " 396  1714.307771  1714.651681    398  0.343910      [24, 35, 43, 58, 72, 80, 81, 82, 84, 93, 104]                     11  [4, 12, 18, 20, 24, 72, 80, 81, 82, 84, 90, 93...                     13      [24, 35, 43, 58, 72, 80, 81, 82, 84, 93, 104]                      11  [4, 12, 18, 20, 24, 72, 80, 81, 82, 84, 90, 93...                      13          7.528459          8.471541                       0.0                  0.000000           7.563032           8.436968                        0.0                   0.000000                 0.470529                 0.529471                              NaN                              NaN                             1                  0.472689                  0.527311                               NaN                               NaN                              1                                 1\n",
       " 399  1721.291806  1721.362155    401  0.070349                   [11, 24, 48, 61, 79, 81, 82, 89]                      8               [11, 18, 24, 48, 61, 79, 81, 82, 89]                      9                   [11, 24, 48, 61, 79, 81, 82, 89]                       8               [11, 18, 24, 48, 61, 79, 81, 82, 89]                       9          3.161855          5.838145                       0.0                  0.009532           3.488002           5.511998                        0.0                   0.007318                 0.351317                 0.648683                              0.0                              1.0                             1                  0.387556                  0.612444                               0.0                               1.0                              1                                 1\n",
       " 401  1725.280888  1725.574786    403  0.293898  [2, 9, 31, 35, 43, 44, 58, 72, 79, 80, 81, 82,...                     16  [4, 9, 31, 44, 59, 67, 72, 79, 80, 81, 82, 84,...                     16  [2, 9, 31, 35, 43, 44, 58, 72, 79, 80, 81, 82,...                      16  [4, 9, 31, 44, 59, 67, 72, 79, 80, 81, 82, 84,...                      16         11.098528          8.901472                       0.0                  0.000000          11.191562           8.808438                        0.0                   0.000000                 0.554926                 0.445074                              NaN                              NaN                             0                  0.559578                  0.440422                               NaN                               NaN                              0                                 0\n",
       " 404  1729.689083  1730.227666    406  0.538583  [2, 5, 9, 16, 24, 29, 31, 39, 43, 58, 61, 72, ...                     17  [4, 9, 16, 20, 24, 28, 31, 39, 57, 59, 61, 62,...                     18  [2, 5, 9, 16, 24, 29, 31, 39, 43, 58, 61, 72, ...                      17  [4, 9, 16, 20, 24, 28, 31, 39, 57, 59, 61, 62,...                      18         11.849669         12.150331                       0.0                  0.000000          12.496836          11.503164                        0.0                   0.000000                 0.493736                 0.506264                              NaN                              NaN                             1                  0.520701                  0.479299                               NaN                               NaN                              0                                 0\n",
       " 405  1731.142015  1731.287905    407  0.145889  [2, 9, 24, 31, 35, 58, 61, 72, 79, 80, 81, 82,...                     17  [4, 9, 24, 31, 61, 72, 79, 80, 81, 82, 89, 93,...                     14  [2, 9, 24, 31, 35, 58, 61, 72, 79, 80, 81, 82,...                      17  [4, 9, 24, 31, 61, 72, 79, 80, 81, 82, 89, 93,...                      14         11.721338          6.278662                       0.0                  0.000000          11.848465           6.151535                        0.0                   0.000000                 0.651185                 0.348815                              NaN                              NaN                             0                  0.658248                  0.341752                               NaN                               NaN                              0                                 0\n",
       " 407  1733.736195  1733.857078    409  0.120883                                   [39, 80, 84, 93]                      4                       [28, 39, 57, 62, 80, 84, 93]                      7                                   [39, 80, 84, 93]                       4                       [28, 39, 57, 62, 80, 84, 93]                       7          1.916888          5.083112                       0.0                  0.034178           2.059077           4.940923                        0.0                   0.032820                 0.273841                 0.726159                              0.0                              1.0                             1                  0.294154                  0.705846                               0.0                               1.0                              1                                 1\n",
       " \n",
       " [247 rows x 31 columns],\n",
       " 'long_best_dir_z_score_values': array([-0.17843, -2.05784, 1.86035, 0.650724, 2.12569, 0.00295771, 1.45153, 2.32746, -1.13422, 1.03766, -1.19108, -1.13422, -0.886375, -1.28397, -0.510091, -0.848712, -0.0845177, -0.281337, -0.376102, 0.340666, 0.478752, -1.49294, 1.32967, -0.478823, 1.47988, 1.91664, 1.84839, 1.29176, -0.527726, 1.32967, -0.0594757, 1.75626, 1.39284, -1.05841, -1.28397, -0.847714, -1.28397, -0.252132, 0.485398, 0.0190391, 1.59501, 1.20349, 2.04988, 2.39104, -0.674247, -0.109612, 0.666313, -0.553084, 0.521745, 0.097955, 1.4246, -1.71447, 2.35313, 1.70873, 0.816555, -1.28397, -0.470867, 0.226935, 1.86035, 0.856506, 0.887431, 0.521745, 0.382018, 1.03766, -0.48664, 1.9958, -1.81547, 0.0977227, 0.950608, -2.57376, -1.02998, -1.02601, 2.27732, -0.793068, 1.72555, 0.927109, 1.32268, -1.58909, 1.59501, -1.67091, 1.81154, -2.65046, 0.00295771, 0.312921, -1.24712, -0.186572, -0.913678, 2.0695, -1.58909, 1.7569, 0.126152, 0.521745, -1.58909, 0.521745, 0.804271, 1.29176, -0.890826, -0.702147, -2.46093, -1.05841, 0.146532, -0.478823, 1.72555, 2.43801, -0.76805, -1.79989, -0.76805, -1.54193, 1.11137, -0.262384, 0.742852, 1.1471, 1.735, -1.36995, 1.14014, -1.74072, 1.40203, -1.54193, 0.474843, -0.302588, -1.42024, 0.353588, -1.49893, -2.42636, -1.84288, -1.41295, 1.32967, 0.529717, 2.58542, -2.05784, 1.33426, -2.11978, -2.04397, -1.32375, 1.70873, -1.60805, -0.447556, -1.13422, 0.2683, 0.568646, -0.915534, -1.62791, -1.81945, -1.24097, -0.218161, -1.83674, -2.26193, -0.628809, -2.21309, 0.220793, 1.55358, 2.28679, 2.0695, 0.427941, 0.129311, 1.01924, 0.0839962, -1.13422, 0.798984, 0.37434, 0.0787697, 0.0471814, -1.95092, 1.11137, -0.527726, 1.70099, 1.32967, -0.470867, -2.05784, -0.431238, -0.791501, 0.780031, -0.362686, 2.0695, -1.62791, 0.592825, -0.345935, 1.08328, 0.896958, 0.340666, 1.30183, -2.00682, -0.76805, -0.0699384, -2.05218, -0.527726, 0.4294, -0.510091, 1.47988, -0.281337, -1.49503, 1.06433, 1.96983, 0.469316, 0.357589, 1.30555, -0.731199, -1.28397, 0.04882, -1.61322, -2.42636, -0.546942, -1.79989, 1.89826, -0.635162, 0.382018, 1.14014, -1.66193, -0.262384, -1.74072, -0.697698, -0.510091, -0.768946, 0.445194, -1.52477, -1.89234, -1.09971, 1.39284, -0.897029, -0.270188, -2.42636, 0.255664, -1.46822, 0.230394, -0.915455, 1.12365, 0.771887, 0.732802, -0.755162, -0.38018, 2.12478, 1.11137, 1.61396, -0.21414, 1.72331, 0.27229, -1.64327, -0.470867, -0.715737, -1.29814, -1.98711, 0.545196, -1.03829, -1.7842, 0.525975, -0.597707, 1.03766]),\n",
       " 'short_best_dir_z_score_values': array([0.061604, -1.54683, 2.11283, 0.773736, 2.11283, 0.254045, 1.30359, 2.06294, -1.71855, -1.03115, -1.29495, -1.30127, -0.405432, -2.32036, -0.257628, -0.42287, -0.434612, -1.52888, -0.390842, 0.358652, 0.429948, -0.811361, 1.88523, -0.484215, 1.56568, 1.38863, 0.460644, 1.12654, 2.11283, 1.31621, 0.105654, 2.21028, 1.75878, -1.60474, -2.5782, -0.296809, -1.80467, -0.257628, -0.0857741, 1.03458, 0.254045, 1.74985, 1.73349, 1.84729, -0.0935471, 0.519586, 1.0317, -1.20304, -0.515469, -0.0918728, 1.47142, -1.71929, 1.43001, 0.683969, 0.810571, 0.515895, -0.390842, 1.10525, 1.84729, -0.252898, -0.706962, 0.773736, 0.367848, 2.06294, -0.304508, 0.22122, -1.57132, 0.462684, 0.683969, -1.28899, -1.03573, -2.06252, 2.0749, -2.40137, -0.429522, 1.01316, 0.469015, -0.239104, 0.671324, -1.1171, 1.54726, -2.40137, -0.0114968, 0.429948, 0.810571, -1.71855, -0.808121, 2.06294, -1.60474, 1.96192, -0.134784, 1.03158, -0.694317, 0.515895, 1.35081, 1.58175, -1.14154, -1.38563, -2.00306, -2.40137, -0.234188, -0.577976, 0.000213312, 1.84194, 0.258054, -0.257628, -0.77331, -1.28899, -0.0918728, -0.277038, 0.429948, 0.078347, 1.24692, -1.07412, 2.26457, -1.34919, 0.616146, 0.515895, -0.0466669, -0.0275902, -0.832261, 0.690291, -0.687363, -1.3995, -1.67575, -0.472495, 0.367848, 0.842608, 2.06294, -0.77331, 0.895725, -1.07366, -2.2117, -2.13583, 1.0317, -0.770186, 0.172107, -0.137945, 0.254045, 0.422135, -0.930678, -1.50386, -1.35379, 0.258054, -0.188524, -2.28352, -1.87977, -1.5921, -1.39756, -1.07412, 0.000213312, 1.88523, 2.06294, 1.10971, -0.833411, 1.84194, 0.265868, -1.81338, 0.785127, -0.220793, 0.0643722, -0.409809, -1.84615, 1.10525, -0.277038, 2.13661, 2.64392, -0.201169, -1.54683, -1.12194, 0.765923, 0.718742, 0.810571, 1.54726, -1.46089, 0.403499, -0.210748, 0.993767, 1.51601, 0.205764, 0.991247, -1.38816, 0.773736, 0.0176836, -1.94351, -2.51517, 0.358364, -0.515469, 0.460644, 0.842029, -1.94531, -0.0114968, 1.88257, 0.197718, -0.351388, 1.34035, 0.307167, -1.84765, -0.0857337, -0.904681, -1.54683, -0.122568, 0.258054, 1.27828, -0.234188, 0.21611, 0.462684, -1.43032, -0.277038, -2.20002, -0.396465, -0.77331, -1.53232, 0.304624, -0.864448, -0.959859, -1.78012, 1.06331, -0.429522, -0.69097, -1.54683, -1.3392, -1.2276, 0.21611, -1.10482, 1.8051, 1.39099, 0.984697, -0.339113, -0.63042, 1.84194, 1.84194, 1.88523, 0.0367835, 1.72182, -0.436133, -1.53762, 1.50588, 0.306738, -1.44483, -2.00306, 1.38318, -0.982038, -1.55007, -0.0964481, -1.10284, 1.03158]),\n",
       " 'long_short_best_dir_z_score_diff_values': array([-0.240034, -0.511012, -0.252482, -0.123012, 0.0128599, -0.251087, 0.147945, 0.264516, 0.584326, 2.06881, 0.103865, 0.167047, -0.480944, 1.03639, -0.252463, -0.425843, 0.350094, 1.24754, 0.0147392, -0.017986, 0.0488032, -0.681583, -0.555559, 0.005392, -0.0857988, 0.528006, 1.38775, 0.165224, -2.64056, 0.0134579, -0.16513, -0.454017, -0.365934, 0.546335, 1.29423, -0.550904, 0.520706, 0.00549562, 0.571172, -1.01554, 1.34097, -0.546356, 0.316393, 0.543743, -0.5807, -0.629198, -0.365389, 0.649961, 1.03721, 0.189828, -0.0468229, 0.0048272, 0.923117, 1.02476, 0.00598411, -1.79986, -0.0800258, -0.878312, 0.0130592, 1.1094, 1.59439, -0.251992, 0.0141697, -1.02528, -0.182132, 1.77458, -0.24415, -0.364962, 0.266639, -1.28477, 0.00574681, 1.03651, 0.202418, 1.6083, 2.15507, -0.0860514, 0.853665, -1.34999, 0.923686, -0.553808, 0.26428, -0.249094, 0.0144545, -0.117028, -2.05769, 1.53198, -0.105558, 0.00655682, 0.0156504, -0.205028, 0.260936, -0.509833, -0.894777, 0.00584936, -0.546538, -0.28999, 0.250719, 0.68348, -0.457876, 1.34296, 0.380719, 0.0991524, 1.72534, 0.596076, -1.0261, -1.54226, 0.0052598, -0.252935, 1.20324, 0.0146538, 0.312904, 1.06875, 0.488085, -0.29583, -1.12443, -0.391532, 0.785887, -2.05782, 0.52151, -0.274997, -0.587979, -0.336703, -0.811571, -1.02686, -0.167126, -0.940452, 0.96182, -0.312891, 0.522475, -1.28453, 0.438537, -1.04612, 0.16773, 0.812075, 0.677027, -0.837861, -0.619663, -0.996277, 0.0142552, 0.146511, 0.0151445, -0.124054, -0.465653, -1.49903, -0.0296363, 0.446785, -0.382156, 0.963291, -0.815521, 1.29492, 1.55337, 0.401567, 0.00655682, -0.68177, 0.962722, -0.822698, -0.181871, 0.679162, 0.0138565, 0.595133, 0.0143975, 0.45699, -0.104778, 0.00611887, -0.250688, -0.435625, -1.31425, -0.269698, -0.511012, 0.690704, -1.55742, 0.0612889, -1.17326, 0.522239, -0.167027, 0.189326, -0.135188, 0.0895119, -0.619048, 0.134901, 0.310588, -0.618658, -1.54179, -0.087622, -0.108664, 1.98745, 0.0710359, 0.00537771, 1.01923, -1.12337, 0.450289, 1.07582, 0.0872543, 0.271599, 0.708977, -0.0348043, -1.03837, 0.56368, 0.134554, -0.708535, -0.879525, -0.424374, -2.05794, 0.619982, -0.400974, 0.165908, 0.677454, -0.231613, 0.0146538, 0.459306, -0.301232, 0.263219, 0.763378, 0.140571, -0.660321, -0.932484, 0.680406, 0.329531, -0.467508, 0.420782, -0.879525, 1.59487, -0.240623, 0.0142836, 0.189365, -0.681452, -0.619105, -0.251895, -0.41605, 0.25024, 0.28284, -0.73057, -0.271264, -0.250924, 0.00149001, 0.708423, -0.105644, -1.97675, -1.02247, 0.146688, 0.0159494, -0.837983, -0.0562545, -0.234124, 0.622423, 0.505136, 0.00608518]),\n",
       " 'directional_likelihoods_tuple': DirectionalRankOrderLikelihoods(long_relative_direction_likelihoods=array([0.354393, 0.317115, 0.635849, 0.355371, 0.542013, 0.563464, 0.324083, 0.358761, 0.491252, 0.26331, 0.706051, 0.690406, 0.541244, 0.373607, 0.37209, 0.417931, 0.5791, 0.547087, 0.631071, 0.612277, 0.476277, 0.4781, 0.609497, 0.44878, 0.339116, 0.706352, 0.277095, 0.579473, 0.670678, 0.670227, 0.494276, 0.429531, 0.681893, 0.668642, 0.144749, 0.398743, 0.285182, 0.195609, 0.506575, 0.739128, 0.653314, 0.472147, 0.57472, 0.787615, 0.435556, 0.552674, 0.683388, 0.269484, 0.136811, 0.282333, 0.366831, 0.476366, 0.68881, 0.691844, 0.495407, 0.399557, 0.513352, 0.48115, 0.635072, 0.603538, 0.829936, 0.408753, 0.515096, 0.336223, 0.447648, 0.479924, 0.667313, 0.496584, 0.488055, 0.161236, 0.619788, 0.326338, 0.619543, 0.635849, 0.277491, 0.388548, 0.397078, 0.587343, 0.689456, 0.419648, 0.24313, 0.632899, 0.698541, 0.315778, 0.484976, 0.736441, 0.502216, 0.415096, 0.620206, 0.47372, 0.496135, 0.50045, 0.523774, 0.423636, 0.369676, 0.552259, 0.503949, 0.508575, 0.659521, 0.526194, 0.470068, 0.377058, 0.467249, 0.382936, 0.470778, 0.505755, 0.249215, 0.407307, 0.278926, 0.63661, 0.421083, 0.475071, 0.414731, 0.295583, 0.663506, 0.500088, 0.67928, 0.280175, 0.440022, 0.565195, 0.594066, 0.559351, 0.372009, 0.472401, 0.336725, 0.364286, 0.494966, 0.474939, 0.410628, 0.289404, 0.360928, 0.687939, 0.643989, 0.539032, 0.525052, 0.704233, 0.320615, 0.584321, 0.739139, 0.419248, 0.718366, 0.416905, 0.652204, 0.474655, 0.613314, 0.451529, 0.600239, 0.546104, 0.532263, 0.467921, 0.37064, 0.542295, 0.159581, 0.446738, 0.736018, 0.423939, 0.459869, 0.643523, 0.481008, 0.365281, 0.681436, 0.658115, 0.564817, 0.31314, 0.648211, 0.21498, 0.896028, 0.599852, 0.321507, 0.526787, 0.449128, 0.584773, 0.33451, 0.30774, 0.428035, 0.416282, 0.342096, 0.600666, 0.453126, 0.498193, 0.497759, 0.386859, 0.347628, 0.664861, 0.401568, 0.608929, 0.667487, 0.28945, 0.256312, 0.677345, 0.244199, 0.65901, 0.603758, 0.718297, 0.282846, 0.64588, 0.48813, 0.41429, 0.435425, 0.538427, 0.442356, 0.448793, 0.467896, 0.625752, 0.435706, 0.547852, 0.526958, 0.685267, 0.471734, 0.637745, 0.334411, 0.322407, 0.640001, 0.471816, 0.616496, 0.586226, 0.320929, 0.575613, 0.419648, 0.486652, 0.503149, 0.542013, 0.376543, 0.620365, 0.475161, 0.34863, 0.433977, 0.445323, 0.585631, 0.479113, 0.372459, 0.375943, 0.596434, 0.615372, 0.563356, 0.478482, 0.360548, 0.503661, 0.472946, 0.450906, 0.521367, 0.470529, 0.351317, 0.554926, 0.493736, 0.651185, 0.273841]), short_relative_direction_likelihoods=array([0.609595, 0.640234, 0.390562, 0.603022, 0.442308, 0.425074, 0.654967, 0.616233, 0.471684, 0.71854, 0.297144, 0.328296, 0.457526, 0.646764, 0.589063, 0.54843, 0.368457, 0.448273, 0.390075, 0.369749, 0.48784, 0.501513, 0.32019, 0.535154, 0.632125, 0.283968, 0.666487, 0.423924, 0.308504, 0.358451, 0.466723, 0.580915, 0.328846, 0.290765, 0.848053, 0.570318, 0.741026, 0.81788, 0.49999, 0.250369, 0.362727, 0.533068, 0.336599, 0.226978, 0.555856, 0.413429, 0.25534, 0.695453, 0.847049, 0.691615, 0.619097, 0.487809, 0.327094, 0.288513, 0.530659, 0.571719, 0.473054, 0.536169, 0.417375, 0.405845, 0.151839, 0.585437, 0.48858, 0.651814, 0.492353, 0.537902, 0.32464, 0.473322, 0.480668, 0.787259, 0.372402, 0.59802, 0.406441, 0.390562, 0.681096, 0.597858, 0.575963, 0.417933, 0.333971, 0.57669, 0.723033, 0.350101, 0.339743, 0.662581, 0.569056, 0.228154, 0.462628, 0.564441, 0.355166, 0.486844, 0.482026, 0.537129, 0.494576, 0.586596, 0.612921, 0.438436, 0.472468, 0.483788, 0.289201, 0.489954, 0.539654, 0.589011, 0.469308, 0.619912, 0.541095, 0.517833, 0.717002, 0.615548, 0.694177, 0.365108, 0.547032, 0.488027, 0.565413, 0.666903, 0.362479, 0.47521, 0.320369, 0.702094, 0.53023, 0.461328, 0.38181, 0.42184, 0.56641, 0.514004, 0.632084, 0.564509, 0.483121, 0.511978, 0.579382, 0.680383, 0.611742, 0.283505, 0.374499, 0.495527, 0.480024, 0.288386, 0.649499, 0.376599, 0.263449, 0.567356, 0.23749, 0.559097, 0.324138, 0.495425, 0.370553, 0.526666, 0.390859, 0.450431, 0.462361, 0.482429, 0.615641, 0.432271, 0.821902, 0.548521, 0.265417, 0.570304, 0.518798, 0.308093, 0.462288, 0.642382, 0.335523, 0.305202, 0.406436, 0.654589, 0.364725, 0.773126, 0.0954011, 0.398848, 0.644061, 0.428882, 0.530425, 0.385793, 0.613676, 0.685175, 0.491585, 0.575734, 0.601465, 0.35532, 0.528591, 0.481557, 0.47779, 0.624342, 0.612313, 0.319059, 0.576891, 0.426383, 0.318441, 0.703403, 0.708868, 0.314603, 0.741042, 0.359644, 0.374221, 0.259965, 0.700334, 0.322317, 0.503156, 0.5378, 0.551037, 0.46059, 0.508637, 0.553004, 0.528449, 0.374698, 0.567069, 0.439173, 0.420469, 0.293332, 0.460979, 0.33949, 0.626915, 0.625799, 0.316995, 0.42777, 0.36951, 0.406135, 0.634447, 0.407415, 0.57669, 0.485911, 0.512959, 0.479236, 0.569798, 0.41334, 0.50641, 0.606132, 0.58209, 0.523011, 0.401372, 0.491704, 0.605221, 0.560377, 0.363707, 0.390099, 0.413655, 0.502913, 0.610536, 0.498513, 0.532966, 0.495666, 0.488445, 0.527311, 0.612444, 0.440422, 0.479299, 0.341752, 0.705846]), long_best_direction_indices=1      1\n",
       " 2      1\n",
       " 3      0\n",
       " 4      1\n",
       " 5      0\n",
       " 6      0\n",
       "       ..\n",
       " 396    1\n",
       " 399    1\n",
       " 401    0\n",
       " 404    0\n",
       " 405    0\n",
       " 407    1\n",
       " Name: combined_best_direction_indicies, Length: 247, dtype: int8, short_best_direction_indices=1      1\n",
       " 2      1\n",
       " 3      0\n",
       " 4      1\n",
       " 5      0\n",
       " 6      0\n",
       "       ..\n",
       " 396    1\n",
       " 399    1\n",
       " 401    0\n",
       " 404    0\n",
       " 405    0\n",
       " 407    1\n",
       " Name: combined_best_direction_indicies, Length: 247, dtype: int8),\n",
       " 'masked_z_score_values_list': [masked_array(data=[--, --, 2.143201017038139, --, 0.8215646752043256, -0.5100910592097588, --, --, -0.17842954967877175, --, -0.39283699018365226, 1.786971988282634, -1.3548357586989397, --, --, --, -0.6011353951594416, 0.1900832386889918, 1.258770324955506, 0.09963009972599529, --, --, 1.2096352865064706, --, --, 0.6719845773237594, --, 1.1113652096084008, -0.17842954967877175, 2.0694984593645858, 0.8403999240438685, --, 0.6780835069214544, -0.197413541806808, --, --, --, --, 1.7646378798967088, 0.6869069975188652, 1.848390786343928, --, -0.11701075161747784, 1.4798779979761643, --, 1.3587584101909556, 0.08399622385584773, --, --, --, --, --, 2.4932881659875146, 2.2414710939362084, --, --, -1.7753182992724137, --, 1.602715594098752, 0.36016606408949803, 1.3850141543579642, --, 2.0694984593645858, --, --, --, -2.0302063112267827, 0.22693451752576818, 0.9885276134858129, --, -1.7581571645199934, --, -0.9154551264142989, -1.247116635945286, --, --, --, -1.3945217512923913, 1.2956216037922823, --, --, -1.9288652944256488, -0.6390705351384761, --, --, -1.323052604457431, 1.3425232314027251, --, -1.652480703149826, --, -1.1138850893815562, --, -0.9154551264142989, --, --, 1.3570404018535767, 0.09963009972599528, 0.5650385583219262, -1.529643107027238, 2.0694984593645858, --, --, --, --, --, --, --, --, --, 0.8165549789141897, --, --, --, --, 0.6200148251180493, -1.6822203316847681, 1.0611134657400692, --, --, 0.17779947907673296, -0.9141666201612647, 1.1638469070230044, --, --, --, --, -0.29512526599523015, --, --, --, --, -0.27055774677071265, -2.0824122895788832, -0.5100910592097588, -0.03716631413779571, 0.9907610243244053, --, 1.0268218098984778, 1.3386147624351883, --, 0.6926826204763112, --, -1.648145258580793, --, 0.5469994707794481, --, -1.8656400611272577, 1.0192370125164598, -0.33691581880197075, --, --, 1.4627557600441223, --, --, -0.07234253484562768, --, --, -1.2225491167207685, 0.37433963287287364, --, 0.4357584309341676, 0.49047699647968385, -1.9640415151334802, --, -1.8367370973337074, --, -2.266668683762765, 1.4798779979761643, --, 0.7718867621423395, --, 1.1514680718719512, --, --, --, --, --, 0.713949457447087, --, 1.6473838108706018, 0.08399622385584773, --, --, -1.6380292212530507, --, 0.07952940217866274, 1.0050661796044567, --, --, 0.8226968587203191, --, 2.1247753776197507, 0.7244267818222487, 1.485032022988301, --, 1.2531008974421558, --, --, --, 1.5535805556497169, --, --, --, 1.7562625892519872, --, 1.5720061950681052, 0.927108815424519, -1.2234036391285774, 1.1113652096084006, -0.9128690717590864, --, --, -1.9604336976249852, -1.0997115205981807, 0.6011167334068819, -1.4129473907107792, --, 1.848390786343928, --, -0.2521321073523244, --, 0.3067789550054502, --, 0.927108815424519, --, --, --, --, 0.7704436351389414, --, --, --, 2.0940659785891036, 0.6292662481523877, 1.6597989475910133, --, --, -1.9841422126808128, --, --, -0.5984258527666014, --, --, -0.9577257109623658, 0.35988815097609855, -0.47468492856266004, --],\n",
       "               mask=[ True,  True, False,  True, False, False,  True,  True, False,  True, False, False, False,  True,  True,  True, False, False, False, False,  True,  True, False,  True,  True, False,  True, False, False, False, False,  True, False, False,  True,  True,  True,  True, False, False, False,  True, False, False,  True, False, False,  True,  True,  True,  True,  True, False, False,  True,  True, False,  True, False, False, False,  True, False,  True,  True,  True, False, False, False,  True, False,  True, False, False,  True,  True,  True, False, False,  True,  True, False, False,  True,  True, False, False,  True, False,  True, False,  True, False,  True,  True, False, False, False, False, False,  True,  True,  True,  True,  True,  True,  True,  True,  True, False,  True,  True,  True,  True, False, False, False,  True,  True, False, False, False,  True,  True,  True,  True, False,  True,  True,  True,  True, False, False, False, False, False,  True, False, False,  True, False,  True, False,  True, False,  True, False, False, False,  True,  True, False,  True,  True, False,  True,  True, False, False,  True, False, False, False,  True, False,  True, False, False,  True, False,  True, False,  True,  True,  True,  True,  True, False,  True, False, False,  True,  True, False,  True, False, False,  True,  True, False,  True, False, False, False,  True, False,  True,  True,  True, False,  True,  True,  True, False,  True, False, False, False, False, False,  True,  True, False, False, False, False,  True, False,  True, False,  True, False,  True, False,  True,  True,  True,  True, False,  True,  True,  True, False, False, False,  True,  True, False,  True,  True, False,  True,  True, False, False, False,  True],\n",
       "         fill_value=1e+20),\n",
       "  masked_array(data=[-0.8372920641797379, 1.7087279427615885, --, 1.1692963322052086, --, --, 1.9266874718918006, 1.3296678921003484, --, -0.4392790109854365, --, --, --, 0.6852658059762412, -1.5890944979911965, -1.293826669055073, --, --, --, --, -0.4794823496919315, -2.130184138935084, --, -0.961922414169873, 1.1401378667697288, --, 1.6139629300962783, --, --, --, --, 1.5950099275632161, --, --, 1.5191979174309684, -0.7448243851547993, 0.0029577147860098316, -0.8493530657916863, --, --, --, 2.353130028885696, --, --, -1.2800147643751087, --, --, -1.437470477726701, -0.21816064809971328, -0.8413123980503875, 1.435092746231622, 1.5950099275632164, --, --, -1.6080475005242587, -0.37610233587522984, --, -0.8309743966687173, --, --, --, -0.3990756722789412, --, -1.228987449863019, 0.4986516271891693, -0.691985711426263, --, --, --, -1.5132824878589488, --, -0.5277263561397256, --, --, 2.2382633468671376, 0.6852658059762412, 1.7657194888400263, --, --, -2.1640022414940767, 0.4894181131346007, --, --, 0.7080624244076166, -0.9446924118670893, --, --, 1.234902879435039, --, 1.0402038534135838, --, 0.0029577147860098316, --, -1.8923425385201886, -0.3495946400247935, --, --, --, --, --, 1.5628472565980198, -0.672458375483108, 1.5823745925411752, 0.12931106500642306, -1.228987449863019, -0.6793503764042216, 0.6347244658880759, -0.28133732320991994, -1.4112278588347686, --, 0.5014791147465492, 1.9809619791455697, 1.3580973958999412, -2.023290556021344, --, --, --, 0.23039374518275366, 1.7233071754793279, --, --, --, -1.0361439625510946, -1.418517475193639, -1.4607972500750848, -1.3237524625283288, --, 0.38651878773649495, 1.5950099275632161, 0.5715477907778693, -0.7392577690262078, --, --, --, --, --, -1.0525787339783652, --, --, 0.6783738050551278, --, -0.3495946400247935, --, -1.6396358380793619, --, -2.2714025891814282, --, --, --, -1.2353051173740395, 1.5191979174309684, --, -0.6288090363160562, 0.0400684889766207, --, 1.7466339478277124, 0.6301297986073334, --, --, 1.9614346432024146, --, --, --, -0.07126383359521192, --, 1.6455512676513815, --, --, -0.22447831561073395, --, -1.207118600786409, --, 0.0029577147860098316, 2.277318018753448, -0.7488447190254487, 0.9663534127742679, -1.3806114701275145, --, 0.522508553454562, --, --, -2.2123333759204917, 1.1401378667697288, --, -2.2680579416755933, --, --, -0.5277263561397256, -0.09618106769462206, --, -1.9871075511854979, --, --, --, 1.8993728505941527, --, -1.3237524625283288, 0.5095197824878482, 0.0029577147860098316, --, -0.8499273992017795, 0.2120150760597844, 1.5950099275632161, --, -0.4052608013107097, --, --, --, --, --, -1.6590748150363483, -0.8499273992017795, --, --, --, --, -1.4684844818717113, --, -2.3851206043797997, --, -0.5277263561397256, --, -0.3347503303485491, --, -0.8815157367568828, -0.28650632390075503, -0.11950784004300603, 0.4853977792639513, --, 0.09660784494937491, 1.530684585632824, 0.224076077671733, --, --, --, -1.183277267283281, -1.5332330168411192, --, -1.910721207643157, -2.11235641407881, --, 0.8485532124149291, -1.1026340996426056, --, --, --, -1.418517475193639],\n",
       "               mask=[False, False,  True, False,  True,  True, False, False,  True, False,  True,  True,  True, False, False, False,  True,  True,  True,  True, False, False,  True, False, False,  True, False,  True,  True,  True,  True, False,  True,  True, False, False, False, False,  True,  True,  True, False,  True,  True, False,  True,  True, False, False, False, False, False,  True,  True, False, False,  True, False,  True,  True,  True, False,  True, False, False, False,  True,  True,  True, False,  True, False,  True,  True, False, False, False,  True,  True, False, False,  True,  True, False, False,  True,  True, False,  True, False,  True, False,  True, False, False,  True,  True,  True,  True,  True, False, False, False, False, False, False, False, False, False,  True, False, False, False, False,  True,  True,  True, False, False,  True,  True,  True, False, False, False, False,  True, False, False, False, False,  True,  True,  True,  True,  True, False,  True,  True, False,  True, False,  True, False,  True, False,  True,  True,  True, False, False,  True, False, False,  True, False, False,  True,  True, False,  True,  True,  True, False,  True, False,  True,  True, False,  True, False,  True, False, False, False, False, False,  True, False,  True,  True, False, False,  True, False,  True,  True, False, False,  True, False,  True,  True,  True, False,  True, False, False, False,  True, False, False, False,  True, False,  True,  True,  True,  True,  True, False, False,  True,  True,  True,  True, False,  True, False,  True, False,  True, False,  True, False, False, False, False,  True, False, False, False,  True,  True,  True, False, False,  True, False, False,  True, False, False,  True,  True,  True, False],\n",
       "         fill_value=1e+20),\n",
       "  masked_array(data=[--, --, 2.431285978023522, --, 0.815578274029049, -1.5468329292751266, --, --, -1.7494223180727435, --, -0.04666687669112459, 1.4121999616476335, -1.5156653309985701, --, --, --, -0.3220879879077188, -0.9206475457188581, 0.9579086049499485, 0.6799760550292515, --, --, 1.7191535810379615, --, --, 1.8136008485426773, --, 1.4735906855256993, 1.3815045997086008, 1.5472595541793777, 1.039161033612094, --, 2.016061445611878, 0.23461425816837575, --, --, --, --, 1.8519807836105033, 1.679443105822043, 1.9340211146111912, --, -0.7364753740846613, 1.2894185138915026, --, 1.3705573027932816, 1.2034715004622103, --, --, --, --, --, 0.6448159131718139, 0.9221903656027101, --, --, -1.4731640606214482, --, 1.5349814094037648, -0.3681310308162679, -0.03382512930537284, --, 2.0629416347551284, --, --, --, -1.4823726692031578, -0.5154687681236253, 1.166637066135371, --, -1.3585078557315318, --, 0.1843854840863222, -1.8415084038898415, --, --, --, 0.3685576557205189, -0.36813103081626797, --, --, -0.09187277336497286, -1.104819717353055, --, --, -0.4529618492659585, 1.5238194596077528, --, -0.2760449449991696, --, -0.3256297604391456, --, -0.5523032024504647, --, --, -0.49091247857239917, 0.013607652207339789, 0.8476628854262612, -0.42952175469433357, 1.5472595541793777, --, --, --, --, --, --, --, --, --, 1.8419350287940923, --, --, --, --, -0.30674030693820237, -0.9316332542023015, -0.4451484844087502, --, --, -0.3592014709794583, -0.6669278407402793, 0.70535134832712, --, --, --, --, -0.4724952614089794, --, --, --, --, 0.2764715699034206, -0.8592568218407927, 0.7737364333157516, 1.031577473603627, 0.35962809588370925, --, 1.2013660602000371, 1.3323920206061484, --, -0.08705895256096925, --, -1.1752384888602476, --, -0.05387921348239383, --, -1.750325122835656, 0.5527298273547157, -1.7307475174524924, --, --, 1.2754417559906013, --, --, 0.6409092307432096, --, --, -2.087071299402104, -0.36813103081626797, --, 1.2280277900134369, -0.26544109269295824, -1.8749942532778772, --, -0.5154687681236253, --, -0.8592568218407927, 1.4735906855256993, --, 0.1408538798818757, --, 1.3425034339507709, --, --, --, --, --, 1.314697047253059, --, 1.516006094750544, 0.8596834467450432, --, --, -2.249576156726395, --, -0.0734555562015532, 1.0222685049388127, --, --, 1.1604979937475646, --, 2.210279372062486, 0.8842397362962695, 2.4163461375273214, --, 1.8419350287940923, --, --, --, 1.4534991758928775, --, --, --, 1.4735906855256993, --, 1.4735906855256993, 2.0261072004282896, -1.6051274253402117, -0.6628065054309827, -0.9361567812248955, --, --, -1.1357297321727802, -1.2276011651091858, -0.25221847524229796, 0.5158953930278761, --, 1.8419350287940928, --, -0.1471244248552318, --, -0.7303363016968547, --, 1.7498489429769943, --, --, --, --, 0.35193493663968883, --, --, --, 0.2457762079643878, 0.948491797516266, 1.6230951542640466, --, --, -0.81014424273834, --, --, -1.811716177950661, --, --, -1.1297371288094462, 0.33515387949274794, -1.0298869220312983, --],\n",
       "               mask=[ True,  True, False,  True, False, False,  True,  True, False,  True, False, False, False,  True,  True,  True, False, False, False, False,  True,  True, False,  True,  True, False,  True, False, False, False, False,  True, False, False,  True,  True,  True,  True, False, False, False,  True, False, False,  True, False, False,  True,  True,  True,  True,  True, False, False,  True,  True, False,  True, False, False, False,  True, False,  True,  True,  True, False, False, False,  True, False,  True, False, False,  True,  True,  True, False, False,  True,  True, False, False,  True,  True, False, False,  True, False,  True, False,  True, False,  True,  True, False, False, False, False, False,  True,  True,  True,  True,  True,  True,  True,  True,  True, False,  True,  True,  True,  True, False, False, False,  True,  True, False, False, False,  True,  True,  True,  True, False,  True,  True,  True,  True, False, False, False, False, False,  True, False, False,  True, False,  True, False,  True, False,  True, False, False, False,  True,  True, False,  True,  True, False,  True,  True, False, False,  True, False, False, False,  True, False,  True, False, False,  True, False,  True, False,  True,  True,  True,  True,  True, False,  True, False, False,  True,  True, False,  True, False, False,  True,  True, False,  True, False, False, False,  True, False,  True,  True,  True, False,  True,  True,  True, False,  True, False, False, False, False, False,  True,  True, False, False, False, False,  True, False,  True, False,  True, False,  True, False,  True,  True,  True,  True, False,  True,  True,  True, False, False, False,  True,  True, False,  True,  True, False,  True,  True, False, False, False,  True],\n",
       "         fill_value=1e+20),\n",
       "  masked_array(data=[0.25404458716312045, 1.7903910294751468, --, 0.645061535443864, --, --, 1.6102022492039825, -0.011496773236488938, --, -0.3276174403788811, --, --, --, 0.6713238677910781, -1.8702862960337545, -1.5927656261424337, --, --, --, --, -0.9771017201441596, -2.2048163432038512, --, -1.2185029568710772, 1.3162100287615583, --, 1.5058824290469937, --, --, --, --, -0.6943174142640561, --, --, 1.5058824290469937, -0.9460644182792701, 0.84202902804797, -0.8000741465444199, --, --, --, 0.06437218687768519, --, --, -1.7914992989921121, --, --, -1.1962197657885925, -0.409808813835903, -0.34945850465417366, 1.2079656145635747, 1.5817513891611679, --, --, -1.149531174949101, -1.718548375805407, --, -0.08736573335066306, --, --, --, -0.961008304362365, --, -1.8133845759481244, -0.011496773236488938, -0.8334105078067087, --, --, --, -1.339203575234536, --, -0.2391036535790113, --, --, 2.2254880204329477, 0.21611010710603346, 1.3254946917125934, --, --, 0.47532905416279503, 0.6966135211624694, --, --, 1.3812026694188055, -0.1063329733792066, --, --, 1.126537628476123, --, 0.7851273079623393, --, -2.135827656433364, --, -1.908220776090842, -0.30860598766961833, --, --, --, --, --, 2.1933011888693588, -0.6632801123991665, 1.0633134950476444, 1.379434162190037, -1.0546949748063834, -1.6047449356341452, 1.1897617619046013, 0.27301182719166406, -1.8060894836294537, --, 0.680520105380675, 1.9921334915969275, 1.192922968576025, -2.015127038069905, --, --, --, 0.9747997082477746, 1.5642431675963582, --, --, --, 0.04421120446972283, -0.865022574520948, -1.8148435944118584, -0.4983226006357729, --, 0.3696106507627939, 0.7851273079623392, 0.27301182719166406, -1.1813643050669362, --, --, --, --, --, -0.705989561973929, --, --, 1.1713692867254077, --, -0.21575935815926542, --, -0.3276174403788811, --, -2.287565576661713, --, --, --, -1.2949466818346012, 1.6007186291897113, --, -0.5172898406643165, 0.2856124411966405, --, 1.278275548704471, 1.6139382207247563, --, --, 1.379434162190037, --, --, --, 0.17419648578421698, --, 1.695554829332429, --, --, -0.39084157380735957, --, -1.4851054216079473, --, 0.03276012016344596, 2.264572030188735, -0.7638639610353823, 0.8872586004237275, -1.41507253534871, --, -0.2528980099634066, --, --, -1.6694175476612947, 0.84202902804797, --, -1.8312360959749887, --, --, -0.5425794940357078, -1.0328096978503714, --, -2.040991456290646, --, --, --, 1.8707228695960365, --, -1.908220776090842, 1.026528544689257, -0.3828832912779008, --, 0.46268422747709936, 0.6161464422534968, 1.5817513891611674, --, -0.9598587746636654, --, --, --, --, --, -1.7097942650230018, 0.17817562704894638, --, --, --, --, -1.5323245646160704, --, 0.47532905416279503, --, 0.5195859475627299, --, 0.01264335043620283, --, -0.5172898406643165, -0.614999865053783, -0.23910365357901125, 0.17419648578421698, --, -0.4566690539064224, 1.0023884210165652, 0.43107216076286015, --, --, --, -1.0658521748231735, -1.4392268946833053, --, -1.701305430324912, -1.812721385737336, --, 0.6304713508065228, -0.5425794940357077, --, --, --, -1.0546949748063834],\n",
       "               mask=[False, False,  True, False,  True,  True, False, False,  True, False,  True,  True,  True, False, False, False,  True,  True,  True,  True, False, False,  True, False, False,  True, False,  True,  True,  True,  True, False,  True,  True, False, False, False, False,  True,  True,  True, False,  True,  True, False,  True,  True, False, False, False, False, False,  True,  True, False, False,  True, False,  True,  True,  True, False,  True, False, False, False,  True,  True,  True, False,  True, False,  True,  True, False, False, False,  True,  True, False, False,  True,  True, False, False,  True,  True, False,  True, False,  True, False,  True, False, False,  True,  True,  True,  True,  True, False, False, False, False, False, False, False, False, False,  True, False, False, False, False,  True,  True,  True, False, False,  True,  True,  True, False, False, False, False,  True, False, False, False, False,  True,  True,  True,  True,  True, False,  True,  True, False,  True, False,  True, False,  True, False,  True,  True,  True, False, False,  True, False, False,  True, False, False,  True,  True, False,  True,  True,  True, False,  True, False,  True,  True, False,  True, False,  True, False, False, False, False, False,  True, False,  True,  True, False, False,  True, False,  True,  True, False, False,  True, False,  True,  True,  True, False,  True, False, False, False,  True, False, False, False,  True, False,  True,  True,  True,  True,  True, False, False,  True,  True,  True,  True, False,  True, False,  True, False,  True, False,  True, False, False, False, False,  True, False, False, False,  True,  True,  True, False, False,  True, False, False,  True, False, False,  True,  True,  True, False],\n",
       "         fill_value=1e+20)],\n",
       " 'rank_order_z_score_df': None}"
      ]
     },
     "execution_count": 53,
     "metadata": {},
     "output_type": "execute_result"
    }
   ],
   "source": [
    "ripple_result_tuple._asdict()"
   ]
  },
  {
   "cell_type": "code",
   "execution_count": 47,
   "id": "9a8d802e",
   "metadata": {},
   "outputs": [
    {
     "data": {
      "text/plain": [
       "DirectionalRankOrderResult(active_epochs=           start         stop  label  duration                      LR_Long_ActuallyIncludedAclus  LR_Long_rel_num_cells                      RL_Long_ActuallyIncludedAclus  RL_Long_rel_num_cells                     LR_Short_ActuallyIncludedAclus  LR_Short_rel_num_cells                     RL_Short_ActuallyIncludedAclus  RL_Short_rel_num_cells  Long_LR_evidence  Long_RL_evidence  Long_LR_product_evidence  Long_RL_product_evidence  Short_LR_evidence  Short_RL_evidence  Short_LR_product_evidence  Short_RL_product_evidence  Long_normed_LR_evidence  Long_normed_RL_evidence  Long_normed_product_LR_evidence  Long_normed_product_RL_evidence  Long_best_direction_indicies  Short_normed_LR_evidence  Short_normed_RL_evidence  Short_normed_product_LR_evidence  Short_normed_product_RL_evidence  Short_best_direction_indicies  combined_best_direction_indicies\n",
       "1      55.735790    55.897899      1  0.162109                   [11, 44, 48, 79, 82, 84, 92, 93]                      8               [11, 12, 44, 48, 79, 82, 84, 92, 93]                      9                   [11, 44, 48, 79, 82, 84, 92, 93]                       8               [11, 12, 44, 48, 79, 82, 84, 92, 93]                       9          3.189541          5.810459                       0.0                  0.007093           3.513642           5.486358                        0.0                   0.004531                 0.354393                 0.645607                              0.0                              1.0                             1                  0.390405                  0.609595                               0.0                               1.0                              1                                 1\n",
       "2      73.691866    73.909210      2  0.217344                                    [9, 31, 39, 61]                      4                        [9, 28, 31, 39, 57, 61, 67]                      7                                    [9, 31, 39, 61]                       4                        [9, 28, 31, 39, 57, 61, 67]                       7          2.219805          4.780195                       0.0                  0.021561           2.518361           4.481639                        0.0                   0.005523                 0.317115                 0.682885                              0.0                              1.0                             1                  0.359766                  0.640234                               0.0                               1.0                              1                                 1\n",
       "3      92.642502    92.760068      3  0.117565                          [43, 58, 61, 72, 92, 104]                      6                              [12, 61, 72, 92, 104]                      5                          [43, 58, 61, 72, 92, 104]                       6                              [12, 61, 72, 92, 104]                       5          4.450943          2.549057                       0.0                  0.000000           4.266066           2.733934                        0.0                   0.000000                 0.635849                 0.364151                              NaN                              NaN                             0                  0.609438                  0.390562                               NaN                               NaN                              0                                 0\n",
       "4      93.044443    93.453141      4  0.408699                [6, 11, 39, 61, 82, 84, 89, 92, 98]                      9  [4, 11, 18, 38, 39, 57, 61, 82, 84, 89, 91, 92...                     13                [6, 11, 39, 61, 82, 84, 89, 92, 98]                       9  [4, 11, 18, 38, 39, 57, 61, 82, 84, 89, 91, 92...                      13          4.975187          9.024813                       0.0                  0.000000           5.557692           8.442308                        0.0                   0.000000                 0.355371                 0.644629                              NaN                              NaN                             1                  0.396978                  0.603022                               NaN                               NaN                              1                                 1\n",
       "5      93.925000    94.029571      5  0.104571                                    [5, 29, 31, 35]                      4                                   [12, 31, 38, 57]                      4                                    [5, 29, 31, 35]                       4                                   [12, 31, 38, 57]                       4          3.794094          3.205906                       0.0                  0.000000           3.903846           3.096154                        0.0                   0.000000                 0.542013                 0.457987                              NaN                              NaN                             0                  0.557692                  0.442308                               NaN                               NaN                              0                                 0\n",
       "6     102.927307   103.187813      6  0.260505                                [2, 58, 72, 92, 93]                      5                               [18, 57, 72, 92, 93]                      5                                [2, 58, 72, 92, 93]                       5                               [18, 57, 72, 92, 93]                       5          3.944247          3.055753                       0.0                  0.000000           4.024482           2.975518                        0.0                   0.000000                 0.563464                 0.436536                              NaN                              NaN                             0                  0.574926                  0.425074                               NaN                               NaN                              0                                 0\n",
       "..           ...          ...    ...       ...                                                ...                    ...                                                ...                    ...                                                ...                     ...                                                ...                     ...               ...               ...                       ...                       ...                ...                ...                        ...                        ...                      ...                      ...                              ...                              ...                           ...                       ...                       ...                               ...                               ...                            ...                               ...\n",
       "396  1714.307771  1714.651681    398  0.343910      [24, 35, 43, 58, 72, 80, 81, 82, 84, 93, 104]                     11  [4, 12, 18, 20, 24, 72, 80, 81, 82, 84, 90, 93...                     13      [24, 35, 43, 58, 72, 80, 81, 82, 84, 93, 104]                      11  [4, 12, 18, 20, 24, 72, 80, 81, 82, 84, 90, 93...                      13          7.528459          8.471541                       0.0                  0.000000           7.563032           8.436968                        0.0                   0.000000                 0.470529                 0.529471                              NaN                              NaN                             1                  0.472689                  0.527311                               NaN                               NaN                              1                                 1\n",
       "399  1721.291806  1721.362155    401  0.070349                   [11, 24, 48, 61, 79, 81, 82, 89]                      8               [11, 18, 24, 48, 61, 79, 81, 82, 89]                      9                   [11, 24, 48, 61, 79, 81, 82, 89]                       8               [11, 18, 24, 48, 61, 79, 81, 82, 89]                       9          3.161855          5.838145                       0.0                  0.009532           3.488002           5.511998                        0.0                   0.007318                 0.351317                 0.648683                              0.0                              1.0                             1                  0.387556                  0.612444                               0.0                               1.0                              1                                 1\n",
       "401  1725.280888  1725.574786    403  0.293898  [2, 9, 31, 35, 43, 44, 58, 72, 79, 80, 81, 82,...                     16  [4, 9, 31, 44, 59, 67, 72, 79, 80, 81, 82, 84,...                     16  [2, 9, 31, 35, 43, 44, 58, 72, 79, 80, 81, 82,...                      16  [4, 9, 31, 44, 59, 67, 72, 79, 80, 81, 82, 84,...                      16         11.098528          8.901472                       0.0                  0.000000          11.191562           8.808438                        0.0                   0.000000                 0.554926                 0.445074                              NaN                              NaN                             0                  0.559578                  0.440422                               NaN                               NaN                              0                                 0\n",
       "404  1729.689083  1730.227666    406  0.538583  [2, 5, 9, 16, 24, 29, 31, 39, 43, 58, 61, 72, ...                     17  [4, 9, 16, 20, 24, 28, 31, 39, 57, 59, 61, 62,...                     18  [2, 5, 9, 16, 24, 29, 31, 39, 43, 58, 61, 72, ...                      17  [4, 9, 16, 20, 24, 28, 31, 39, 57, 59, 61, 62,...                      18         11.849669         12.150331                       0.0                  0.000000          12.496836          11.503164                        0.0                   0.000000                 0.493736                 0.506264                              NaN                              NaN                             1                  0.520701                  0.479299                               NaN                               NaN                              0                                 0\n",
       "405  1731.142015  1731.287905    407  0.145889  [2, 9, 24, 31, 35, 58, 61, 72, 79, 80, 81, 82,...                     17  [4, 9, 24, 31, 61, 72, 79, 80, 81, 82, 89, 93,...                     14  [2, 9, 24, 31, 35, 58, 61, 72, 79, 80, 81, 82,...                      17  [4, 9, 24, 31, 61, 72, 79, 80, 81, 82, 89, 93,...                      14         11.721338          6.278662                       0.0                  0.000000          11.848465           6.151535                        0.0                   0.000000                 0.651185                 0.348815                              NaN                              NaN                             0                  0.658248                  0.341752                               NaN                               NaN                              0                                 0\n",
       "407  1733.736195  1733.857078    409  0.120883                                   [39, 80, 84, 93]                      4                       [28, 39, 57, 62, 80, 84, 93]                      7                                   [39, 80, 84, 93]                       4                       [28, 39, 57, 62, 80, 84, 93]                       7          1.916888          5.083112                       0.0                  0.034178           2.059077           4.940923                        0.0                   0.032820                 0.273841                 0.726159                              0.0                              1.0                             1                  0.294154                  0.705846                               0.0                               1.0                              1                                 1\n",
       "\n",
       "[247 rows x 31 columns], long_best_dir_z_score_values=array([-0.17843, -2.05784, 1.86035, 0.650724, 2.12569, 0.00295771, 1.45153, 2.32746, -1.13422, 1.03766, -1.19108, -1.13422, -0.886375, -1.28397, -0.510091, -0.848712, -0.0845177, -0.281337, -0.376102, 0.340666, 0.478752, -1.49294, 1.32967, -0.478823, 1.47988, 1.91664, 1.84839, 1.29176, -0.527726, 1.32967, -0.0594757, 1.75626, 1.39284, -1.05841, -1.28397, -0.847714, -1.28397, -0.252132, 0.485398, 0.0190391, 1.59501, 1.20349, 2.04988, 2.39104, -0.674247, -0.109612, 0.666313, -0.553084, 0.521745, 0.097955, 1.4246, -1.71447, 2.35313, 1.70873, 0.816555, -1.28397, -0.470867, 0.226935, 1.86035, 0.856506, 0.887431, 0.521745, 0.382018, 1.03766, -0.48664, 1.9958, -1.81547, 0.0977227, 0.950608, -2.57376, -1.02998, -1.02601, 2.27732, -0.793068, 1.72555, 0.927109, 1.32268, -1.58909, 1.59501, -1.67091, 1.81154, -2.65046, 0.00295771, 0.312921, -1.24712, -0.186572, -0.913678, 2.0695, -1.58909, 1.7569, 0.126152, 0.521745, -1.58909, 0.521745, 0.804271, 1.29176, -0.890826, -0.702147, -2.46093, -1.05841, 0.146532, -0.478823, 1.72555, 2.43801, -0.76805, -1.79989, -0.76805, -1.54193, 1.11137, -0.262384, 0.742852, 1.1471, 1.735, -1.36995, 1.14014, -1.74072, 1.40203, -1.54193, 0.474843, -0.302588, -1.42024, 0.353588, -1.49893, -2.42636, -1.84288, -1.41295, 1.32967, 0.529717, 2.58542, -2.05784, 1.33426, -2.11978, -2.04397, -1.32375, 1.70873, -1.60805, -0.447556, -1.13422, 0.2683, 0.568646, -0.915534, -1.62791, -1.81945, -1.24097, -0.218161, -1.83674, -2.26193, -0.628809, -2.21309, 0.220793, 1.55358, 2.28679, 2.0695, 0.427941, 0.129311, 1.01924, 0.0839962, -1.13422, 0.798984, 0.37434, 0.0787697, 0.0471814, -1.95092, 1.11137, -0.527726, 1.70099, 1.32967, -0.470867, -2.05784, -0.431238, -0.791501, 0.780031, -0.362686, 2.0695, -1.62791, 0.592825, -0.345935, 1.08328, 0.896958, 0.340666, 1.30183, -2.00682, -0.76805, -0.0699384, -2.05218, -0.527726, 0.4294, -0.510091, 1.47988, -0.281337, -1.49503, 1.06433, 1.96983, 0.469316, 0.357589, 1.30555, -0.731199, -1.28397, 0.04882, -1.61322, -2.42636, -0.546942, -1.79989, 1.89826, -0.635162, 0.382018, 1.14014, -1.66193, -0.262384, -1.74072, -0.697698, -0.510091, -0.768946, 0.445194, -1.52477, -1.89234, -1.09971, 1.39284, -0.897029, -0.270188, -2.42636, 0.255664, -1.46822, 0.230394, -0.915455, 1.12365, 0.771887, 0.732802, -0.755162, -0.38018, 2.12478, 1.11137, 1.61396, -0.21414, 1.72331, 0.27229, -1.64327, -0.470867, -0.715737, -1.29814, -1.98711, 0.545196, -1.03829, -1.7842, 0.525975, -0.597707, 1.03766]), short_best_dir_z_score_values=array([0.061604, -1.54683, 2.11283, 0.773736, 2.11283, 0.254045, 1.30359, 2.06294, -1.71855, -1.03115, -1.29495, -1.30127, -0.405432, -2.32036, -0.257628, -0.42287, -0.434612, -1.52888, -0.390842, 0.358652, 0.429948, -0.811361, 1.88523, -0.484215, 1.56568, 1.38863, 0.460644, 1.12654, 2.11283, 1.31621, 0.105654, 2.21028, 1.75878, -1.60474, -2.5782, -0.296809, -1.80467, -0.257628, -0.0857741, 1.03458, 0.254045, 1.74985, 1.73349, 1.84729, -0.0935471, 0.519586, 1.0317, -1.20304, -0.515469, -0.0918728, 1.47142, -1.71929, 1.43001, 0.683969, 0.810571, 0.515895, -0.390842, 1.10525, 1.84729, -0.252898, -0.706962, 0.773736, 0.367848, 2.06294, -0.304508, 0.22122, -1.57132, 0.462684, 0.683969, -1.28899, -1.03573, -2.06252, 2.0749, -2.40137, -0.429522, 1.01316, 0.469015, -0.239104, 0.671324, -1.1171, 1.54726, -2.40137, -0.0114968, 0.429948, 0.810571, -1.71855, -0.808121, 2.06294, -1.60474, 1.96192, -0.134784, 1.03158, -0.694317, 0.515895, 1.35081, 1.58175, -1.14154, -1.38563, -2.00306, -2.40137, -0.234188, -0.577976, 0.000213312, 1.84194, 0.258054, -0.257628, -0.77331, -1.28899, -0.0918728, -0.277038, 0.429948, 0.078347, 1.24692, -1.07412, 2.26457, -1.34919, 0.616146, 0.515895, -0.0466669, -0.0275902, -0.832261, 0.690291, -0.687363, -1.3995, -1.67575, -0.472495, 0.367848, 0.842608, 2.06294, -0.77331, 0.895725, -1.07366, -2.2117, -2.13583, 1.0317, -0.770186, 0.172107, -0.137945, 0.254045, 0.422135, -0.930678, -1.50386, -1.35379, 0.258054, -0.188524, -2.28352, -1.87977, -1.5921, -1.39756, -1.07412, 0.000213312, 1.88523, 2.06294, 1.10971, -0.833411, 1.84194, 0.265868, -1.81338, 0.785127, -0.220793, 0.0643722, -0.409809, -1.84615, 1.10525, -0.277038, 2.13661, 2.64392, -0.201169, -1.54683, -1.12194, 0.765923, 0.718742, 0.810571, 1.54726, -1.46089, 0.403499, -0.210748, 0.993767, 1.51601, 0.205764, 0.991247, -1.38816, 0.773736, 0.0176836, -1.94351, -2.51517, 0.358364, -0.515469, 0.460644, 0.842029, -1.94531, -0.0114968, 1.88257, 0.197718, -0.351388, 1.34035, 0.307167, -1.84765, -0.0857337, -0.904681, -1.54683, -0.122568, 0.258054, 1.27828, -0.234188, 0.21611, 0.462684, -1.43032, -0.277038, -2.20002, -0.396465, -0.77331, -1.53232, 0.304624, -0.864448, -0.959859, -1.78012, 1.06331, -0.429522, -0.69097, -1.54683, -1.3392, -1.2276, 0.21611, -1.10482, 1.8051, 1.39099, 0.984697, -0.339113, -0.63042, 1.84194, 1.84194, 1.88523, 0.0367835, 1.72182, -0.436133, -1.53762, 1.50588, 0.306738, -1.44483, -2.00306, 1.38318, -0.982038, -1.55007, -0.0964481, -1.10284, 1.03158]), long_short_best_dir_z_score_diff_values=array([-0.240034, -0.511012, -0.252482, -0.123012, 0.0128599, -0.251087, 0.147945, 0.264516, 0.584326, 2.06881, 0.103865, 0.167047, -0.480944, 1.03639, -0.252463, -0.425843, 0.350094, 1.24754, 0.0147392, -0.017986, 0.0488032, -0.681583, -0.555559, 0.005392, -0.0857988, 0.528006, 1.38775, 0.165224, -2.64056, 0.0134579, -0.16513, -0.454017, -0.365934, 0.546335, 1.29423, -0.550904, 0.520706, 0.00549562, 0.571172, -1.01554, 1.34097, -0.546356, 0.316393, 0.543743, -0.5807, -0.629198, -0.365389, 0.649961, 1.03721, 0.189828, -0.0468229, 0.0048272, 0.923117, 1.02476, 0.00598411, -1.79986, -0.0800258, -0.878312, 0.0130592, 1.1094, 1.59439, -0.251992, 0.0141697, -1.02528, -0.182132, 1.77458, -0.24415, -0.364962, 0.266639, -1.28477, 0.00574681, 1.03651, 0.202418, 1.6083, 2.15507, -0.0860514, 0.853665, -1.34999, 0.923686, -0.553808, 0.26428, -0.249094, 0.0144545, -0.117028, -2.05769, 1.53198, -0.105558, 0.00655682, 0.0156504, -0.205028, 0.260936, -0.509833, -0.894777, 0.00584936, -0.546538, -0.28999, 0.250719, 0.68348, -0.457876, 1.34296, 0.380719, 0.0991524, 1.72534, 0.596076, -1.0261, -1.54226, 0.0052598, -0.252935, 1.20324, 0.0146538, 0.312904, 1.06875, 0.488085, -0.29583, -1.12443, -0.391532, 0.785887, -2.05782, 0.52151, -0.274997, -0.587979, -0.336703, -0.811571, -1.02686, -0.167126, -0.940452, 0.96182, -0.312891, 0.522475, -1.28453, 0.438537, -1.04612, 0.16773, 0.812075, 0.677027, -0.837861, -0.619663, -0.996277, 0.0142552, 0.146511, 0.0151445, -0.124054, -0.465653, -1.49903, -0.0296363, 0.446785, -0.382156, 0.963291, -0.815521, 1.29492, 1.55337, 0.401567, 0.00655682, -0.68177, 0.962722, -0.822698, -0.181871, 0.679162, 0.0138565, 0.595133, 0.0143975, 0.45699, -0.104778, 0.00611887, -0.250688, -0.435625, -1.31425, -0.269698, -0.511012, 0.690704, -1.55742, 0.0612889, -1.17326, 0.522239, -0.167027, 0.189326, -0.135188, 0.0895119, -0.619048, 0.134901, 0.310588, -0.618658, -1.54179, -0.087622, -0.108664, 1.98745, 0.0710359, 0.00537771, 1.01923, -1.12337, 0.450289, 1.07582, 0.0872543, 0.271599, 0.708977, -0.0348043, -1.03837, 0.56368, 0.134554, -0.708535, -0.879525, -0.424374, -2.05794, 0.619982, -0.400974, 0.165908, 0.677454, -0.231613, 0.0146538, 0.459306, -0.301232, 0.263219, 0.763378, 0.140571, -0.660321, -0.932484, 0.680406, 0.329531, -0.467508, 0.420782, -0.879525, 1.59487, -0.240623, 0.0142836, 0.189365, -0.681452, -0.619105, -0.251895, -0.41605, 0.25024, 0.28284, -0.73057, -0.271264, -0.250924, 0.00149001, 0.708423, -0.105644, -1.97675, -1.02247, 0.146688, 0.0159494, -0.837983, -0.0562545, -0.234124, 0.622423, 0.505136, 0.00608518]), directional_likelihoods_tuple=DirectionalRankOrderLikelihoods(long_relative_direction_likelihoods=array([0.354393, 0.317115, 0.635849, 0.355371, 0.542013, 0.563464, 0.324083, 0.358761, 0.491252, 0.26331, 0.706051, 0.690406, 0.541244, 0.373607, 0.37209, 0.417931, 0.5791, 0.547087, 0.631071, 0.612277, 0.476277, 0.4781, 0.609497, 0.44878, 0.339116, 0.706352, 0.277095, 0.579473, 0.670678, 0.670227, 0.494276, 0.429531, 0.681893, 0.668642, 0.144749, 0.398743, 0.285182, 0.195609, 0.506575, 0.739128, 0.653314, 0.472147, 0.57472, 0.787615, 0.435556, 0.552674, 0.683388, 0.269484, 0.136811, 0.282333, 0.366831, 0.476366, 0.68881, 0.691844, 0.495407, 0.399557, 0.513352, 0.48115, 0.635072, 0.603538, 0.829936, 0.408753, 0.515096, 0.336223, 0.447648, 0.479924, 0.667313, 0.496584, 0.488055, 0.161236, 0.619788, 0.326338, 0.619543, 0.635849, 0.277491, 0.388548, 0.397078, 0.587343, 0.689456, 0.419648, 0.24313, 0.632899, 0.698541, 0.315778, 0.484976, 0.736441, 0.502216, 0.415096, 0.620206, 0.47372, 0.496135, 0.50045, 0.523774, 0.423636, 0.369676, 0.552259, 0.503949, 0.508575, 0.659521, 0.526194, 0.470068, 0.377058, 0.467249, 0.382936, 0.470778, 0.505755, 0.249215, 0.407307, 0.278926, 0.63661, 0.421083, 0.475071, 0.414731, 0.295583, 0.663506, 0.500088, 0.67928, 0.280175, 0.440022, 0.565195, 0.594066, 0.559351, 0.372009, 0.472401, 0.336725, 0.364286, 0.494966, 0.474939, 0.410628, 0.289404, 0.360928, 0.687939, 0.643989, 0.539032, 0.525052, 0.704233, 0.320615, 0.584321, 0.739139, 0.419248, 0.718366, 0.416905, 0.652204, 0.474655, 0.613314, 0.451529, 0.600239, 0.546104, 0.532263, 0.467921, 0.37064, 0.542295, 0.159581, 0.446738, 0.736018, 0.423939, 0.459869, 0.643523, 0.481008, 0.365281, 0.681436, 0.658115, 0.564817, 0.31314, 0.648211, 0.21498, 0.896028, 0.599852, 0.321507, 0.526787, 0.449128, 0.584773, 0.33451, 0.30774, 0.428035, 0.416282, 0.342096, 0.600666, 0.453126, 0.498193, 0.497759, 0.386859, 0.347628, 0.664861, 0.401568, 0.608929, 0.667487, 0.28945, 0.256312, 0.677345, 0.244199, 0.65901, 0.603758, 0.718297, 0.282846, 0.64588, 0.48813, 0.41429, 0.435425, 0.538427, 0.442356, 0.448793, 0.467896, 0.625752, 0.435706, 0.547852, 0.526958, 0.685267, 0.471734, 0.637745, 0.334411, 0.322407, 0.640001, 0.471816, 0.616496, 0.586226, 0.320929, 0.575613, 0.419648, 0.486652, 0.503149, 0.542013, 0.376543, 0.620365, 0.475161, 0.34863, 0.433977, 0.445323, 0.585631, 0.479113, 0.372459, 0.375943, 0.596434, 0.615372, 0.563356, 0.478482, 0.360548, 0.503661, 0.472946, 0.450906, 0.521367, 0.470529, 0.351317, 0.554926, 0.493736, 0.651185, 0.273841]), short_relative_direction_likelihoods=array([0.609595, 0.640234, 0.390562, 0.603022, 0.442308, 0.425074, 0.654967, 0.616233, 0.471684, 0.71854, 0.297144, 0.328296, 0.457526, 0.646764, 0.589063, 0.54843, 0.368457, 0.448273, 0.390075, 0.369749, 0.48784, 0.501513, 0.32019, 0.535154, 0.632125, 0.283968, 0.666487, 0.423924, 0.308504, 0.358451, 0.466723, 0.580915, 0.328846, 0.290765, 0.848053, 0.570318, 0.741026, 0.81788, 0.49999, 0.250369, 0.362727, 0.533068, 0.336599, 0.226978, 0.555856, 0.413429, 0.25534, 0.695453, 0.847049, 0.691615, 0.619097, 0.487809, 0.327094, 0.288513, 0.530659, 0.571719, 0.473054, 0.536169, 0.417375, 0.405845, 0.151839, 0.585437, 0.48858, 0.651814, 0.492353, 0.537902, 0.32464, 0.473322, 0.480668, 0.787259, 0.372402, 0.59802, 0.406441, 0.390562, 0.681096, 0.597858, 0.575963, 0.417933, 0.333971, 0.57669, 0.723033, 0.350101, 0.339743, 0.662581, 0.569056, 0.228154, 0.462628, 0.564441, 0.355166, 0.486844, 0.482026, 0.537129, 0.494576, 0.586596, 0.612921, 0.438436, 0.472468, 0.483788, 0.289201, 0.489954, 0.539654, 0.589011, 0.469308, 0.619912, 0.541095, 0.517833, 0.717002, 0.615548, 0.694177, 0.365108, 0.547032, 0.488027, 0.565413, 0.666903, 0.362479, 0.47521, 0.320369, 0.702094, 0.53023, 0.461328, 0.38181, 0.42184, 0.56641, 0.514004, 0.632084, 0.564509, 0.483121, 0.511978, 0.579382, 0.680383, 0.611742, 0.283505, 0.374499, 0.495527, 0.480024, 0.288386, 0.649499, 0.376599, 0.263449, 0.567356, 0.23749, 0.559097, 0.324138, 0.495425, 0.370553, 0.526666, 0.390859, 0.450431, 0.462361, 0.482429, 0.615641, 0.432271, 0.821902, 0.548521, 0.265417, 0.570304, 0.518798, 0.308093, 0.462288, 0.642382, 0.335523, 0.305202, 0.406436, 0.654589, 0.364725, 0.773126, 0.0954011, 0.398848, 0.644061, 0.428882, 0.530425, 0.385793, 0.613676, 0.685175, 0.491585, 0.575734, 0.601465, 0.35532, 0.528591, 0.481557, 0.47779, 0.624342, 0.612313, 0.319059, 0.576891, 0.426383, 0.318441, 0.703403, 0.708868, 0.314603, 0.741042, 0.359644, 0.374221, 0.259965, 0.700334, 0.322317, 0.503156, 0.5378, 0.551037, 0.46059, 0.508637, 0.553004, 0.528449, 0.374698, 0.567069, 0.439173, 0.420469, 0.293332, 0.460979, 0.33949, 0.626915, 0.625799, 0.316995, 0.42777, 0.36951, 0.406135, 0.634447, 0.407415, 0.57669, 0.485911, 0.512959, 0.479236, 0.569798, 0.41334, 0.50641, 0.606132, 0.58209, 0.523011, 0.401372, 0.491704, 0.605221, 0.560377, 0.363707, 0.390099, 0.413655, 0.502913, 0.610536, 0.498513, 0.532966, 0.495666, 0.488445, 0.527311, 0.612444, 0.440422, 0.479299, 0.341752, 0.705846]), long_best_direction_indices=1      1\n",
       "2      1\n",
       "3      0\n",
       "4      1\n",
       "5      0\n",
       "6      0\n",
       "      ..\n",
       "396    1\n",
       "399    1\n",
       "401    0\n",
       "404    0\n",
       "405    0\n",
       "407    1\n",
       "Name: combined_best_direction_indicies, Length: 247, dtype: int8, short_best_direction_indices=1      1\n",
       "2      1\n",
       "3      0\n",
       "4      1\n",
       "5      0\n",
       "6      0\n",
       "      ..\n",
       "396    1\n",
       "399    1\n",
       "401    0\n",
       "404    0\n",
       "405    0\n",
       "407    1\n",
       "Name: combined_best_direction_indicies, Length: 247, dtype: int8), masked_z_score_values_list=[masked_array(data=[--, --, 2.143201017038139, --, 0.8215646752043256, -0.5100910592097588, --, --, -0.17842954967877175, --, -0.39283699018365226, 1.786971988282634, -1.3548357586989397, --, --, --, -0.6011353951594416, 0.1900832386889918, 1.258770324955506, 0.09963009972599529, --, --, 1.2096352865064706, --, --, 0.6719845773237594, --, 1.1113652096084008, -0.17842954967877175, 2.0694984593645858, 0.8403999240438685, --, 0.6780835069214544, -0.197413541806808, --, --, --, --, 1.7646378798967088, 0.6869069975188652, 1.848390786343928, --, -0.11701075161747784, 1.4798779979761643, --, 1.3587584101909556, 0.08399622385584773, --, --, --, --, --, 2.4932881659875146, 2.2414710939362084, --, --, -1.7753182992724137, --, 1.602715594098752, 0.36016606408949803, 1.3850141543579642, --, 2.0694984593645858, --, --, --, -2.0302063112267827, 0.22693451752576818, 0.9885276134858129, --, -1.7581571645199934, --, -0.9154551264142989, -1.247116635945286, --, --, --, -1.3945217512923913, 1.2956216037922823, --, --, -1.9288652944256488, -0.6390705351384761, --, --, -1.323052604457431, 1.3425232314027251, --, -1.652480703149826, --, -1.1138850893815562, --, -0.9154551264142989, --, --, 1.3570404018535767, 0.09963009972599528, 0.5650385583219262, -1.529643107027238, 2.0694984593645858, --, --, --, --, --, --, --, --, --, 0.8165549789141897, --, --, --, --, 0.6200148251180493, -1.6822203316847681, 1.0611134657400692, --, --, 0.17779947907673296, -0.9141666201612647, 1.1638469070230044, --, --, --, --, -0.29512526599523015, --, --, --, --, -0.27055774677071265, -2.0824122895788832, -0.5100910592097588, -0.03716631413779571, 0.9907610243244053, --, 1.0268218098984778, 1.3386147624351883, --, 0.6926826204763112, --, -1.648145258580793, --, 0.5469994707794481, --, -1.8656400611272577, 1.0192370125164598, -0.33691581880197075, --, --, 1.4627557600441223, --, --, -0.07234253484562768, --, --, -1.2225491167207685, 0.37433963287287364, --, 0.4357584309341676, 0.49047699647968385, -1.9640415151334802, --, -1.8367370973337074, --, -2.266668683762765, 1.4798779979761643, --, 0.7718867621423395, --, 1.1514680718719512, --, --, --, --, --, 0.713949457447087, --, 1.6473838108706018, 0.08399622385584773, --, --, -1.6380292212530507, --, 0.07952940217866274, 1.0050661796044567, --, --, 0.8226968587203191, --, 2.1247753776197507, 0.7244267818222487, 1.485032022988301, --, 1.2531008974421558, --, --, --, 1.5535805556497169, --, --, --, 1.7562625892519872, --, 1.5720061950681052, 0.927108815424519, -1.2234036391285774, 1.1113652096084006, -0.9128690717590864, --, --, -1.9604336976249852, -1.0997115205981807, 0.6011167334068819, -1.4129473907107792, --, 1.848390786343928, --, -0.2521321073523244, --, 0.3067789550054502, --, 0.927108815424519, --, --, --, --, 0.7704436351389414, --, --, --, 2.0940659785891036, 0.6292662481523877, 1.6597989475910133, --, --, -1.9841422126808128, --, --, -0.5984258527666014, --, --, -0.9577257109623658, 0.35988815097609855, -0.47468492856266004, --],\n",
       "             mask=[ True,  True, False,  True, False, False,  True,  True, False,  True, False, False, False,  True,  True,  True, False, False, False, False,  True,  True, False,  True,  True, False,  True, False, False, False, False,  True, False, False,  True,  True,  True,  True, False, False, False,  True, False, False,  True, False, False,  True,  True,  True,  True,  True, False, False,  True,  True, False,  True, False, False, False,  True, False,  True,  True,  True, False, False, False,  True, False,  True, False, False,  True,  True,  True, False, False,  True,  True, False, False,  True,  True, False, False,  True, False,  True, False,  True, False,  True,  True, False, False, False, False, False,  True,  True,  True,  True,  True,  True,  True,  True,  True, False,  True,  True,  True,  True, False, False, False,  True,  True, False, False, False,  True,  True,  True,  True, False,  True,  True,  True,  True, False, False, False, False, False,  True, False, False,  True, False,  True, False,  True, False,  True, False, False, False,  True,  True, False,  True,  True, False,  True,  True, False, False,  True, False, False, False,  True, False,  True, False, False,  True, False,  True, False,  True,  True,  True,  True,  True, False,  True, False, False,  True,  True, False,  True, False, False,  True,  True, False,  True, False, False, False,  True, False,  True,  True,  True, False,  True,  True,  True, False,  True, False, False, False, False, False,  True,  True, False, False, False, False,  True, False,  True, False,  True, False,  True, False,  True,  True,  True,  True, False,  True,  True,  True, False, False, False,  True,  True, False,  True,  True, False,  True,  True, False, False, False,  True],\n",
       "       fill_value=1e+20), masked_array(data=[-0.8372920641797379, 1.7087279427615885, --, 1.1692963322052086, --, --, 1.9266874718918006, 1.3296678921003484, --, -0.4392790109854365, --, --, --, 0.6852658059762412, -1.5890944979911965, -1.293826669055073, --, --, --, --, -0.4794823496919315, -2.130184138935084, --, -0.961922414169873, 1.1401378667697288, --, 1.6139629300962783, --, --, --, --, 1.5950099275632161, --, --, 1.5191979174309684, -0.7448243851547993, 0.0029577147860098316, -0.8493530657916863, --, --, --, 2.353130028885696, --, --, -1.2800147643751087, --, --, -1.437470477726701, -0.21816064809971328, -0.8413123980503875, 1.435092746231622, 1.5950099275632164, --, --, -1.6080475005242587, -0.37610233587522984, --, -0.8309743966687173, --, --, --, -0.3990756722789412, --, -1.228987449863019, 0.4986516271891693, -0.691985711426263, --, --, --, -1.5132824878589488, --, -0.5277263561397256, --, --, 2.2382633468671376, 0.6852658059762412, 1.7657194888400263, --, --, -2.1640022414940767, 0.4894181131346007, --, --, 0.7080624244076166, -0.9446924118670893, --, --, 1.234902879435039, --, 1.0402038534135838, --, 0.0029577147860098316, --, -1.8923425385201886, -0.3495946400247935, --, --, --, --, --, 1.5628472565980198, -0.672458375483108, 1.5823745925411752, 0.12931106500642306, -1.228987449863019, -0.6793503764042216, 0.6347244658880759, -0.28133732320991994, -1.4112278588347686, --, 0.5014791147465492, 1.9809619791455697, 1.3580973958999412, -2.023290556021344, --, --, --, 0.23039374518275366, 1.7233071754793279, --, --, --, -1.0361439625510946, -1.418517475193639, -1.4607972500750848, -1.3237524625283288, --, 0.38651878773649495, 1.5950099275632161, 0.5715477907778693, -0.7392577690262078, --, --, --, --, --, -1.0525787339783652, --, --, 0.6783738050551278, --, -0.3495946400247935, --, -1.6396358380793619, --, -2.2714025891814282, --, --, --, -1.2353051173740395, 1.5191979174309684, --, -0.6288090363160562, 0.0400684889766207, --, 1.7466339478277124, 0.6301297986073334, --, --, 1.9614346432024146, --, --, --, -0.07126383359521192, --, 1.6455512676513815, --, --, -0.22447831561073395, --, -1.207118600786409, --, 0.0029577147860098316, 2.277318018753448, -0.7488447190254487, 0.9663534127742679, -1.3806114701275145, --, 0.522508553454562, --, --, -2.2123333759204917, 1.1401378667697288, --, -2.2680579416755933, --, --, -0.5277263561397256, -0.09618106769462206, --, -1.9871075511854979, --, --, --, 1.8993728505941527, --, -1.3237524625283288, 0.5095197824878482, 0.0029577147860098316, --, -0.8499273992017795, 0.2120150760597844, 1.5950099275632161, --, -0.4052608013107097, --, --, --, --, --, -1.6590748150363483, -0.8499273992017795, --, --, --, --, -1.4684844818717113, --, -2.3851206043797997, --, -0.5277263561397256, --, -0.3347503303485491, --, -0.8815157367568828, -0.28650632390075503, -0.11950784004300603, 0.4853977792639513, --, 0.09660784494937491, 1.530684585632824, 0.224076077671733, --, --, --, -1.183277267283281, -1.5332330168411192, --, -1.910721207643157, -2.11235641407881, --, 0.8485532124149291, -1.1026340996426056, --, --, --, -1.418517475193639],\n",
       "             mask=[False, False,  True, False,  True,  True, False, False,  True, False,  True,  True,  True, False, False, False,  True,  True,  True,  True, False, False,  True, False, False,  True, False,  True,  True,  True,  True, False,  True,  True, False, False, False, False,  True,  True,  True, False,  True,  True, False,  True,  True, False, False, False, False, False,  True,  True, False, False,  True, False,  True,  True,  True, False,  True, False, False, False,  True,  True,  True, False,  True, False,  True,  True, False, False, False,  True,  True, False, False,  True,  True, False, False,  True,  True, False,  True, False,  True, False,  True, False, False,  True,  True,  True,  True,  True, False, False, False, False, False, False, False, False, False,  True, False, False, False, False,  True,  True,  True, False, False,  True,  True,  True, False, False, False, False,  True, False, False, False, False,  True,  True,  True,  True,  True, False,  True,  True, False,  True, False,  True, False,  True, False,  True,  True,  True, False, False,  True, False, False,  True, False, False,  True,  True, False,  True,  True,  True, False,  True, False,  True,  True, False,  True, False,  True, False, False, False, False, False,  True, False,  True,  True, False, False,  True, False,  True,  True, False, False,  True, False,  True,  True,  True, False,  True, False, False, False,  True, False, False, False,  True, False,  True,  True,  True,  True,  True, False, False,  True,  True,  True,  True, False,  True, False,  True, False,  True, False,  True, False, False, False, False,  True, False, False, False,  True,  True,  True, False, False,  True, False, False,  True, False, False,  True,  True,  True, False],\n",
       "       fill_value=1e+20), masked_array(data=[--, --, 2.431285978023522, --, 0.815578274029049, -1.5468329292751266, --, --, -1.7494223180727435, --, -0.04666687669112459, 1.4121999616476335, -1.5156653309985701, --, --, --, -0.3220879879077188, -0.9206475457188581, 0.9579086049499485, 0.6799760550292515, --, --, 1.7191535810379615, --, --, 1.8136008485426773, --, 1.4735906855256993, 1.3815045997086008, 1.5472595541793777, 1.039161033612094, --, 2.016061445611878, 0.23461425816837575, --, --, --, --, 1.8519807836105033, 1.679443105822043, 1.9340211146111912, --, -0.7364753740846613, 1.2894185138915026, --, 1.3705573027932816, 1.2034715004622103, --, --, --, --, --, 0.6448159131718139, 0.9221903656027101, --, --, -1.4731640606214482, --, 1.5349814094037648, -0.3681310308162679, -0.03382512930537284, --, 2.0629416347551284, --, --, --, -1.4823726692031578, -0.5154687681236253, 1.166637066135371, --, -1.3585078557315318, --, 0.1843854840863222, -1.8415084038898415, --, --, --, 0.3685576557205189, -0.36813103081626797, --, --, -0.09187277336497286, -1.104819717353055, --, --, -0.4529618492659585, 1.5238194596077528, --, -0.2760449449991696, --, -0.3256297604391456, --, -0.5523032024504647, --, --, -0.49091247857239917, 0.013607652207339789, 0.8476628854262612, -0.42952175469433357, 1.5472595541793777, --, --, --, --, --, --, --, --, --, 1.8419350287940923, --, --, --, --, -0.30674030693820237, -0.9316332542023015, -0.4451484844087502, --, --, -0.3592014709794583, -0.6669278407402793, 0.70535134832712, --, --, --, --, -0.4724952614089794, --, --, --, --, 0.2764715699034206, -0.8592568218407927, 0.7737364333157516, 1.031577473603627, 0.35962809588370925, --, 1.2013660602000371, 1.3323920206061484, --, -0.08705895256096925, --, -1.1752384888602476, --, -0.05387921348239383, --, -1.750325122835656, 0.5527298273547157, -1.7307475174524924, --, --, 1.2754417559906013, --, --, 0.6409092307432096, --, --, -2.087071299402104, -0.36813103081626797, --, 1.2280277900134369, -0.26544109269295824, -1.8749942532778772, --, -0.5154687681236253, --, -0.8592568218407927, 1.4735906855256993, --, 0.1408538798818757, --, 1.3425034339507709, --, --, --, --, --, 1.314697047253059, --, 1.516006094750544, 0.8596834467450432, --, --, -2.249576156726395, --, -0.0734555562015532, 1.0222685049388127, --, --, 1.1604979937475646, --, 2.210279372062486, 0.8842397362962695, 2.4163461375273214, --, 1.8419350287940923, --, --, --, 1.4534991758928775, --, --, --, 1.4735906855256993, --, 1.4735906855256993, 2.0261072004282896, -1.6051274253402117, -0.6628065054309827, -0.9361567812248955, --, --, -1.1357297321727802, -1.2276011651091858, -0.25221847524229796, 0.5158953930278761, --, 1.8419350287940928, --, -0.1471244248552318, --, -0.7303363016968547, --, 1.7498489429769943, --, --, --, --, 0.35193493663968883, --, --, --, 0.2457762079643878, 0.948491797516266, 1.6230951542640466, --, --, -0.81014424273834, --, --, -1.811716177950661, --, --, -1.1297371288094462, 0.33515387949274794, -1.0298869220312983, --],\n",
       "             mask=[ True,  True, False,  True, False, False,  True,  True, False,  True, False, False, False,  True,  True,  True, False, False, False, False,  True,  True, False,  True,  True, False,  True, False, False, False, False,  True, False, False,  True,  True,  True,  True, False, False, False,  True, False, False,  True, False, False,  True,  True,  True,  True,  True, False, False,  True,  True, False,  True, False, False, False,  True, False,  True,  True,  True, False, False, False,  True, False,  True, False, False,  True,  True,  True, False, False,  True,  True, False, False,  True,  True, False, False,  True, False,  True, False,  True, False,  True,  True, False, False, False, False, False,  True,  True,  True,  True,  True,  True,  True,  True,  True, False,  True,  True,  True,  True, False, False, False,  True,  True, False, False, False,  True,  True,  True,  True, False,  True,  True,  True,  True, False, False, False, False, False,  True, False, False,  True, False,  True, False,  True, False,  True, False, False, False,  True,  True, False,  True,  True, False,  True,  True, False, False,  True, False, False, False,  True, False,  True, False, False,  True, False,  True, False,  True,  True,  True,  True,  True, False,  True, False, False,  True,  True, False,  True, False, False,  True,  True, False,  True, False, False, False,  True, False,  True,  True,  True, False,  True,  True,  True, False,  True, False, False, False, False, False,  True,  True, False, False, False, False,  True, False,  True, False,  True, False,  True, False,  True,  True,  True,  True, False,  True,  True,  True, False, False, False,  True,  True, False,  True,  True, False,  True,  True, False, False, False,  True],\n",
       "       fill_value=1e+20), masked_array(data=[0.25404458716312045, 1.7903910294751468, --, 0.645061535443864, --, --, 1.6102022492039825, -0.011496773236488938, --, -0.3276174403788811, --, --, --, 0.6713238677910781, -1.8702862960337545, -1.5927656261424337, --, --, --, --, -0.9771017201441596, -2.2048163432038512, --, -1.2185029568710772, 1.3162100287615583, --, 1.5058824290469937, --, --, --, --, -0.6943174142640561, --, --, 1.5058824290469937, -0.9460644182792701, 0.84202902804797, -0.8000741465444199, --, --, --, 0.06437218687768519, --, --, -1.7914992989921121, --, --, -1.1962197657885925, -0.409808813835903, -0.34945850465417366, 1.2079656145635747, 1.5817513891611679, --, --, -1.149531174949101, -1.718548375805407, --, -0.08736573335066306, --, --, --, -0.961008304362365, --, -1.8133845759481244, -0.011496773236488938, -0.8334105078067087, --, --, --, -1.339203575234536, --, -0.2391036535790113, --, --, 2.2254880204329477, 0.21611010710603346, 1.3254946917125934, --, --, 0.47532905416279503, 0.6966135211624694, --, --, 1.3812026694188055, -0.1063329733792066, --, --, 1.126537628476123, --, 0.7851273079623393, --, -2.135827656433364, --, -1.908220776090842, -0.30860598766961833, --, --, --, --, --, 2.1933011888693588, -0.6632801123991665, 1.0633134950476444, 1.379434162190037, -1.0546949748063834, -1.6047449356341452, 1.1897617619046013, 0.27301182719166406, -1.8060894836294537, --, 0.680520105380675, 1.9921334915969275, 1.192922968576025, -2.015127038069905, --, --, --, 0.9747997082477746, 1.5642431675963582, --, --, --, 0.04421120446972283, -0.865022574520948, -1.8148435944118584, -0.4983226006357729, --, 0.3696106507627939, 0.7851273079623392, 0.27301182719166406, -1.1813643050669362, --, --, --, --, --, -0.705989561973929, --, --, 1.1713692867254077, --, -0.21575935815926542, --, -0.3276174403788811, --, -2.287565576661713, --, --, --, -1.2949466818346012, 1.6007186291897113, --, -0.5172898406643165, 0.2856124411966405, --, 1.278275548704471, 1.6139382207247563, --, --, 1.379434162190037, --, --, --, 0.17419648578421698, --, 1.695554829332429, --, --, -0.39084157380735957, --, -1.4851054216079473, --, 0.03276012016344596, 2.264572030188735, -0.7638639610353823, 0.8872586004237275, -1.41507253534871, --, -0.2528980099634066, --, --, -1.6694175476612947, 0.84202902804797, --, -1.8312360959749887, --, --, -0.5425794940357078, -1.0328096978503714, --, -2.040991456290646, --, --, --, 1.8707228695960365, --, -1.908220776090842, 1.026528544689257, -0.3828832912779008, --, 0.46268422747709936, 0.6161464422534968, 1.5817513891611674, --, -0.9598587746636654, --, --, --, --, --, -1.7097942650230018, 0.17817562704894638, --, --, --, --, -1.5323245646160704, --, 0.47532905416279503, --, 0.5195859475627299, --, 0.01264335043620283, --, -0.5172898406643165, -0.614999865053783, -0.23910365357901125, 0.17419648578421698, --, -0.4566690539064224, 1.0023884210165652, 0.43107216076286015, --, --, --, -1.0658521748231735, -1.4392268946833053, --, -1.701305430324912, -1.812721385737336, --, 0.6304713508065228, -0.5425794940357077, --, --, --, -1.0546949748063834],\n",
       "             mask=[False, False,  True, False,  True,  True, False, False,  True, False,  True,  True,  True, False, False, False,  True,  True,  True,  True, False, False,  True, False, False,  True, False,  True,  True,  True,  True, False,  True,  True, False, False, False, False,  True,  True,  True, False,  True,  True, False,  True,  True, False, False, False, False, False,  True,  True, False, False,  True, False,  True,  True,  True, False,  True, False, False, False,  True,  True,  True, False,  True, False,  True,  True, False, False, False,  True,  True, False, False,  True,  True, False, False,  True,  True, False,  True, False,  True, False,  True, False, False,  True,  True,  True,  True,  True, False, False, False, False, False, False, False, False, False,  True, False, False, False, False,  True,  True,  True, False, False,  True,  True,  True, False, False, False, False,  True, False, False, False, False,  True,  True,  True,  True,  True, False,  True,  True, False,  True, False,  True, False,  True, False,  True,  True,  True, False, False,  True, False, False,  True, False, False,  True,  True, False,  True,  True,  True, False,  True, False,  True,  True, False,  True, False,  True, False, False, False, False, False,  True, False,  True,  True, False, False,  True, False,  True,  True, False, False,  True, False,  True,  True,  True, False,  True, False, False, False,  True, False, False, False,  True, False,  True,  True,  True,  True,  True, False, False,  True,  True,  True,  True, False,  True, False,  True, False,  True, False,  True, False, False, False, False,  True, False, False, False,  True,  True,  True, False, False,  True, False, False,  True, False, False,  True,  True,  True, False],\n",
       "       fill_value=1e+20)], rank_order_z_score_df=None)"
      ]
     },
     "execution_count": 47,
     "metadata": {},
     "output_type": "execute_result"
    }
   ],
   "source": [
    "ripple_result_tuple"
   ]
  },
  {
   "cell_type": "code",
   "execution_count": 36,
   "id": "fd1bdb95",
   "metadata": {},
   "outputs": [
    {
     "data": {
      "text/html": [
       "<div>\n",
       "<style scoped>\n",
       "    .dataframe tbody tr th:only-of-type {\n",
       "        vertical-align: middle;\n",
       "    }\n",
       "\n",
       "    .dataframe tbody tr th {\n",
       "        vertical-align: top;\n",
       "    }\n",
       "\n",
       "    .dataframe thead th {\n",
       "        text-align: right;\n",
       "    }\n",
       "</style>\n",
       "<table border=\"1\" class=\"dataframe\">\n",
       "  <thead>\n",
       "    <tr style=\"text-align: right;\">\n",
       "      <th></th>\n",
       "      <th>long_relative_direction_likelihoods</th>\n",
       "      <th>short_relative_direction_likelihoods</th>\n",
       "      <th>long_best_direction_indices</th>\n",
       "      <th>short_best_direction_indices</th>\n",
       "    </tr>\n",
       "  </thead>\n",
       "  <tbody>\n",
       "    <tr>\n",
       "      <th>1</th>\n",
       "      <td>0.354393</td>\n",
       "      <td>0.609595</td>\n",
       "      <td>1</td>\n",
       "      <td>1</td>\n",
       "    </tr>\n",
       "    <tr>\n",
       "      <th>2</th>\n",
       "      <td>0.317115</td>\n",
       "      <td>0.640234</td>\n",
       "      <td>1</td>\n",
       "      <td>1</td>\n",
       "    </tr>\n",
       "    <tr>\n",
       "      <th>3</th>\n",
       "      <td>0.635849</td>\n",
       "      <td>0.390562</td>\n",
       "      <td>0</td>\n",
       "      <td>0</td>\n",
       "    </tr>\n",
       "    <tr>\n",
       "      <th>4</th>\n",
       "      <td>0.355371</td>\n",
       "      <td>0.603022</td>\n",
       "      <td>1</td>\n",
       "      <td>1</td>\n",
       "    </tr>\n",
       "    <tr>\n",
       "      <th>5</th>\n",
       "      <td>0.542013</td>\n",
       "      <td>0.442308</td>\n",
       "      <td>0</td>\n",
       "      <td>0</td>\n",
       "    </tr>\n",
       "    <tr>\n",
       "      <th>6</th>\n",
       "      <td>0.563464</td>\n",
       "      <td>0.425074</td>\n",
       "      <td>0</td>\n",
       "      <td>0</td>\n",
       "    </tr>\n",
       "    <tr>\n",
       "      <th>...</th>\n",
       "      <td>...</td>\n",
       "      <td>...</td>\n",
       "      <td>...</td>\n",
       "      <td>...</td>\n",
       "    </tr>\n",
       "    <tr>\n",
       "      <th>396</th>\n",
       "      <td>0.470529</td>\n",
       "      <td>0.527311</td>\n",
       "      <td>1</td>\n",
       "      <td>1</td>\n",
       "    </tr>\n",
       "    <tr>\n",
       "      <th>399</th>\n",
       "      <td>0.351317</td>\n",
       "      <td>0.612444</td>\n",
       "      <td>1</td>\n",
       "      <td>1</td>\n",
       "    </tr>\n",
       "    <tr>\n",
       "      <th>401</th>\n",
       "      <td>0.554926</td>\n",
       "      <td>0.440422</td>\n",
       "      <td>0</td>\n",
       "      <td>0</td>\n",
       "    </tr>\n",
       "    <tr>\n",
       "      <th>404</th>\n",
       "      <td>0.493736</td>\n",
       "      <td>0.479299</td>\n",
       "      <td>0</td>\n",
       "      <td>0</td>\n",
       "    </tr>\n",
       "    <tr>\n",
       "      <th>405</th>\n",
       "      <td>0.651185</td>\n",
       "      <td>0.341752</td>\n",
       "      <td>0</td>\n",
       "      <td>0</td>\n",
       "    </tr>\n",
       "    <tr>\n",
       "      <th>407</th>\n",
       "      <td>0.273841</td>\n",
       "      <td>0.705846</td>\n",
       "      <td>1</td>\n",
       "      <td>1</td>\n",
       "    </tr>\n",
       "  </tbody>\n",
       "</table>\n",
       "<p>247 rows × 4 columns</p>\n",
       "</div>"
      ],
      "text/plain": [
       "     long_relative_direction_likelihoods  short_relative_direction_likelihoods  long_best_direction_indices  short_best_direction_indices\n",
       "1                               0.354393                              0.609595                            1                             1\n",
       "2                               0.317115                              0.640234                            1                             1\n",
       "3                               0.635849                              0.390562                            0                             0\n",
       "4                               0.355371                              0.603022                            1                             1\n",
       "5                               0.542013                              0.442308                            0                             0\n",
       "6                               0.563464                              0.425074                            0                             0\n",
       "..                                   ...                                   ...                          ...                           ...\n",
       "396                             0.470529                              0.527311                            1                             1\n",
       "399                             0.351317                              0.612444                            1                             1\n",
       "401                             0.554926                              0.440422                            0                             0\n",
       "404                             0.493736                              0.479299                            0                             0\n",
       "405                             0.651185                              0.341752                            0                             0\n",
       "407                             0.273841                              0.705846                            1                             1\n",
       "\n",
       "[247 rows x 4 columns]"
      ]
     },
     "execution_count": 36,
     "metadata": {},
     "output_type": "execute_result"
    }
   ],
   "source": [
    "ripple_result_tuple.directional_likelihoods_df"
   ]
  },
  {
   "cell_type": "code",
   "execution_count": 35,
   "id": "1c291690",
   "metadata": {},
   "outputs": [
    {
     "data": {
      "text/plain": [
       "MatplotlibRenderPlots({'name': 'plot_histogram_figure', 'context': None, 'figures': [<Figure size 640x480 with 9 Axes>], 'axes': {'long_short_best_z_score_diff': <Axes: label='long_short_best_z_score_diff', title={'center': 'long_short_best_z_score_diff'}>, 'long_best_z_scores': <Axes: label='long_best_z_scores', title={'center': 'long_best_z_scores'}>, 'short_best_z_scores': <Axes: label='short_best_z_scores', title={'center': 'short_best_z_scores'}>}})"
      ]
     },
     "execution_count": 35,
     "metadata": {},
     "output_type": "execute_result"
    }
   ],
   "source": [
    "ripple_result_tuple.plot_histograms()"
   ]
  },
  {
   "cell_type": "code",
   "execution_count": 22,
   "id": "33b30bcb",
   "metadata": {},
   "outputs": [
    {
     "name": "stdout",
     "output_type": "stream",
     "text": [
      "\t try saving to CSV...\n",
      "\t saving to CSV: W:\\Data\\KDIBA\\gor01\\one\\2006-6-09_1-22-43\\output\\2024-01-02_1247pm_merged_complete_epoch_stats_df.csv done.\n"
     ]
    }
   ],
   "source": [
    "print(f'\\t try saving to CSV...')\n",
    "merged_complete_epoch_stats_df = rank_order_results.ripple_merged_complete_epoch_stats_df ## New method\n",
    "\n",
    "merged_complete_ripple_epoch_stats_df_output_path = curr_active_pipeline.get_output_path().joinpath(f'{DAY_DATE_TO_USE}_1247pm_merged_complete_epoch_stats_df.csv').resolve()\n",
    "merged_complete_epoch_stats_df.to_csv(merged_complete_ripple_epoch_stats_df_output_path)\n",
    "print(f'\\t saving to CSV: {merged_complete_ripple_epoch_stats_df_output_path} done.')"
   ]
  },
  {
   "cell_type": "code",
   "execution_count": null,
   "id": "ee47f176",
   "metadata": {},
   "outputs": [],
   "source": [
    "from pyphocorehelpers.indexing_helpers import reorder_columns\n",
    "\n",
    "dict(zip(['Long_LR_evidence', 'Long_RL_evidence', 'Short_LR_evidence', 'Short_RL_evidence'], np.arange(4)+4))\n",
    "reorder_columns(merged_complete_epoch_stats_df, column_name_desired_index_dict=dict(zip(['Long_LR_evidence', 'Long_RL_evidence', 'Short_LR_evidence', 'Short_RL_evidence'], np.arange(4)+4)))\n"
   ]
  },
  {
   "cell_type": "code",
   "execution_count": null,
   "id": "7aa63058",
   "metadata": {},
   "outputs": [],
   "source": [
    "merged_complete_epoch_stats_df.columns\n",
    "\n",
    "all_column_names = ['start', 'stop', 'label', 'duration',\n",
    "'LR_Long_ActuallyIncludedAclus', 'LR_Long_rel_num_cells', 'RL_Long_ActuallyIncludedAclus', 'RL_Long_rel_num_cells', 'LR_Short_ActuallyIncludedAclus', 'LR_Short_rel_num_cells', 'RL_Short_ActuallyIncludedAclus', 'RL_Short_rel_num_cells',\n",
    "'Long_LR_evidence', 'Long_RL_evidence', 'Short_LR_evidence', 'Short_RL_evidence', 'Long_LR_product_evidence', 'Long_RL_product_evidence', 'Short_LR_product_evidence', 'Short_RL_product_evidence', 'Long_normed_LR_evidence', 'Long_normed_RL_evidence', 'Long_normed_product_LR_evidence', 'Long_normed_product_RL_evidence', 'Long_best_direction_indicies', 'Short_normed_LR_evidence', 'Short_normed_RL_evidence', 'Short_normed_product_LR_evidence', 'Short_normed_product_RL_evidence',\n",
    "'Short_best_direction_indicies', 'combined_best_direction_indicies', 'long_relative_direction_likelihoods', 'short_relative_direction_likelihoods', 'long_best_direction_indices', 'short_best_direction_indices',\n",
    "'RL_Short_pearson',\n",
    "'RL_Long_spearman', 'RL_Short_spearman', 'LR_Short_spearman', 'LR_Short_pearson', 'LR_Long_pearson', 'RL_Long_pearson', 'LR_Long_spearman', \n",
    "'RL_Short_pearson_Z', 'RL_Long_spearman_Z', 'RL_Short_spearman_Z', 'LR_Short_spearman_Z', 'LR_Short_pearson_Z', 'LR_Long_pearson_Z', 'RL_Long_pearson_Z', 'LR_Long_spearman_Z',\n",
    "'label',\n",
    "'Long_BestDir_spearman', 'Short_BestDir_spearman',\n",
    "'LR_Long_rank_percentile', 'LR_Short_rank_percentile', 'RL_Long_rank_percentile', 'RL_Short_rank_percentile', 'Long_BestDir_quantile', 'Short_BestDir_quantile', 'LongShort_BestDir_quantile_diff'\n",
    "]\n"
   ]
  },
  {
   "cell_type": "code",
   "execution_count": null,
   "id": "d0d9495a",
   "metadata": {},
   "outputs": [],
   "source": [
    "column_names_sets = {\n",
    "\t'spearman' = [col for col in all_column_names if col.endswith(\"_spearman\")],\n",
    "\t'spearman_Z' = [col for col in all_column_names if col.endswith(\"_spearman_Z\")],\n",
    "\t'pearson' = [col for col in all_column_names if col.endswith(\"_pearson\")],\n",
    "\t'pearson_Z' = [col for col in all_column_names if col.endswith(\"_pearson_Z\")],\n",
    "}"
   ]
  },
  {
   "cell_type": "markdown",
   "metadata": {},
   "source": [
    "## 2023-12-21 - Computing Spearman Percentiles as an alternative to the Z-score from shuffling, which does not seem to work for small numbers of active cells in an event:"
   ]
  },
  {
   "cell_type": "code",
   "execution_count": null,
   "id": "b45aa7e2",
   "metadata": {},
   "outputs": [],
   "source": [
    "output_active_epoch_computed_values, shuffled_results_output_dict, combined_variable_names, valid_stacked_arrays, real_stacked_arrays, n_valid_shuffles = rank_order_results.ripple_new_output_tuple\n",
    "# shuffled_results_output_dict['short_LR_pearson_Z']\n",
    "print(list(shuffled_results_output_dict.keys())) # ['short_LR_pearson_Z', 'short_LR_spearman_Z', 'short_RL_pearson_Z', 'short_RL_spearman_Z', 'long_LR_pearson_Z', 'long_RL_pearson_Z', 'long_RL_spearman_Z', 'long_LR_spearman_Z']\n",
    "\n",
    "['long_LR_pearson_Z', 'long_RL_pearson_Z', 'short_LR_pearson_Z', 'short_RL_pearson_Z']\n",
    "\n",
    "\n"
   ]
  },
  {
   "cell_type": "code",
   "execution_count": null,
   "id": "46b40bfe",
   "metadata": {},
   "outputs": [],
   "source": [
    "## 2023-12-22 - Add the LR-LR, RL-RL differences\n",
    "merged_complete_epoch_stats_df['LongShort_LR_quantile_diff'] = merged_complete_epoch_stats_df['LR_Long_rank_percentile'] - merged_complete_epoch_stats_df['LR_Short_rank_percentile']\n",
    "merged_complete_epoch_stats_df['LongShort_RL_quantile_diff'] = merged_complete_epoch_stats_df['RL_Long_rank_percentile'] - merged_complete_epoch_stats_df['RL_Short_rank_percentile']\n"
   ]
  },
  {
   "cell_type": "code",
   "execution_count": null,
   "id": "e73865dd",
   "metadata": {},
   "outputs": [],
   "source": [
    "ripple_combined_epoch_stats_df = deepcopy(merged_complete_epoch_stats_df)\n",
    "\n",
    "# Filter rows based on columns: 'Long_BestDir_quantile', 'Short_BestDir_quantile'\n",
    "quantile_significance_threshold: float = 0.95\n",
    "significant_BestDir_quantile_stats_df = ripple_combined_epoch_stats_df[(ripple_combined_epoch_stats_df['Long_BestDir_quantile'] > quantile_significance_threshold) | (ripple_combined_epoch_stats_df['Short_BestDir_quantile'] > quantile_significance_threshold)]\n",
    "LR_likely_active_df = ripple_combined_epoch_stats_df[(ripple_combined_epoch_stats_df['combined_best_direction_indicies']==0) & ((ripple_combined_epoch_stats_df['LR_Long_rank_percentile'] > quantile_significance_threshold) | (ripple_combined_epoch_stats_df['LR_Short_rank_percentile'] > quantile_significance_threshold))]\n",
    "RL_likely_active_df = ripple_combined_epoch_stats_df[(ripple_combined_epoch_stats_df['combined_best_direction_indicies']==1) & ((ripple_combined_epoch_stats_df['RL_Long_rank_percentile'] > quantile_significance_threshold) | (ripple_combined_epoch_stats_df['RL_Short_rank_percentile'] > quantile_significance_threshold))]\n",
    "\n",
    "# significant_ripple_combined_epoch_stats_df = ripple_combined_epoch_stats_df[(ripple_combined_epoch_stats_df['LR_Long_rank_percentile'] > quantile_significance_threshold) | (ripple_combined_epoch_stats_df['LR_Short_rank_percentile'] > quantile_significance_threshold) | (ripple_combined_epoch_stats_df['RL_Long_rank_percentile'] > quantile_significance_threshold) | (ripple_combined_epoch_stats_df['RL_Short_rank_percentile'] > quantile_significance_threshold)]\n",
    "# significant_ripple_combined_epoch_stats_df\n",
    "is_epoch_significant = np.isin(ripple_combined_epoch_stats_df.index, significant_BestDir_quantile_stats_df.index)\n",
    "active_replay_epochs_df = rank_order_results.LR_ripple.epochs_df\n",
    "significant_ripple_epochs: Epoch = Epoch(deepcopy(active_replay_epochs_df).epochs.get_valid_df()).boolean_indicies_slice(is_epoch_significant)\n",
    "epoch_identifiers = significant_ripple_epochs._df.label.astype({'label': RankOrderAnalyses._label_column_type}).values #.labels\n",
    "x_values = significant_ripple_epochs.midtimes\n",
    "x_axis_name_suffix = 'Mid-time (Sec)'\n",
    "\n",
    "# significant_ripple_epochs_df = significant_ripple_epochs.to_dataframe()\n",
    "# significant_ripple_epochs_df\n",
    "\n",
    "significant_BestDir_quantile_stats_df['midtimes'] = significant_ripple_epochs.midtimes\n",
    "significant_BestDir_quantile_stats_df"
   ]
  },
  {
   "cell_type": "code",
   "execution_count": null,
   "id": "bb18612f",
   "metadata": {},
   "outputs": [],
   "source": [
    "from pyphoplacecellanalysis.General.Pipeline.Stages.ComputationFunctions.MultiContextComputationFunctions.RankOrderComputations import _plot_significant_event_quantile_fig\n",
    "\n",
    "# active_replay_epochs_df = rank_order_results.LR_ripple.epochs_df\n",
    "# if isinstance(global_events, pd.DataFrame):\n",
    "#     active_replay_epochs = Epoch(deepcopy(active_replay_epochs_df).epochs.get_valid_df())\n",
    "\n",
    "\n",
    "# _out = _plot_significant_event_quantile_fig(curr_active_pipeline, significant_ripple_combined_epoch_stats_df=significant_ripple_combined_epoch_stats_df)\n",
    "# _out\n",
    "\n",
    "marker_style = dict(linestyle='None', color='#ff7f0eff', markersize=6, markerfacecolor='#ff7f0eb4', markeredgecolor='#ff7f0eff')\n",
    "\n",
    "    # dict(facecolor='#ff7f0eb4', size=8.0)\n",
    "    # fignum='best_quantiles'\n",
    "\n",
    "# ripple_combined_epoch_stats_df['combined_best_direction_indicies']\n",
    "\n",
    "_out = significant_BestDir_quantile_stats_df[['midtimes', 'LongShort_BestDir_quantile_diff']].plot(x='midtimes', y='LongShort_BestDir_quantile_diff', title='Sig. (>0.95) Best Quantile Diff', **marker_style, marker='o')\n",
    "\n",
    "\n"
   ]
  },
  {
   "cell_type": "code",
   "execution_count": null,
   "id": "d096dba4",
   "metadata": {},
   "outputs": [],
   "source": [
    "from pyphoplacecellanalysis.General.Model.Configs.LongShortDisplayConfig import PlottingHelpers\n",
    "    \n",
    "PlottingHelpers.helper_pyqtgraph_add_long_short_session_indicator_regions(\n",
    "    "
   ]
  },
  {
   "cell_type": "code",
   "execution_count": null,
   "id": "a618ac40",
   "metadata": {},
   "outputs": [],
   "source": [
    "import seaborn as sns\n",
    "from pyphoplacecellanalysis.General.Pipeline.Stages.ComputationFunctions.MultiContextComputationFunctions.RankOrderComputations import plot_quantile_diffs\n",
    "\n",
    "_restore_previous_matplotlib_settings_callback = matplotlib_configuration_update(is_interactive=True, backend='Qt5Agg')\n",
    "global_epoch = curr_active_pipeline.filtered_epochs[global_epoch_name]\n",
    "short_epoch = curr_active_pipeline.filtered_epochs[short_epoch_name]\n",
    "split_time_t: float = short_epoch.t_start\n",
    "active_context = curr_active_pipeline.sess.get_context()\n",
    "\n",
    "collector = plot_quantile_diffs(ripple_merged_complete_epoch_stats_df, t_split=split_time_t, active_context=active_context)\n"
   ]
  },
  {
   "cell_type": "code",
   "execution_count": null,
   "id": "19dc2302",
   "metadata": {},
   "outputs": [],
   "source": [
    "collector.axes\n",
    "collector.figures\n"
   ]
  },
  {
   "cell_type": "code",
   "execution_count": null,
   "id": "0dd89199",
   "metadata": {},
   "outputs": [],
   "source": [
    "\n",
    "from flexitext import flexitext ## flexitext for formatted matplotlib text\n",
    "from neuropy.utils.matplotlib_helpers import perform_update_title_subtitle\n",
    "perform_update_title_subtitle(fig=fig_long_pf_1D, ax=ax_long_pf_1D, title_string=title_string, subtitle_string=subtitle_string, active_context=active_context, use_flexitext_titles=True)\n"
   ]
  },
  {
   "cell_type": "code",
   "execution_count": null,
   "id": "1e46ba5f",
   "metadata": {},
   "outputs": [],
   "source": [
    "\n",
    "from neuropy.utils.matplotlib_helpers import draw_epoch_regions\n",
    "epochs_collection, epoch_labels = draw_epoch_regions(curr_active_pipeline.sess.epochs, ax, defer_render=False, debug_print=False)"
   ]
  },
  {
   "cell_type": "code",
   "execution_count": null,
   "id": "24ecb4c7",
   "metadata": {},
   "outputs": [],
   "source": [
    "print(list(significant_BestDir_quantile_stats_df.columns))\n",
    "['LR_Long_rank_percentile', 'LR_Short_rank_percentile', 'RL_Long_rank_percentile', 'RL_Short_rank_percentile', 'Long_BestDir_quantile', 'Short_BestDir_quantile', 'LongShort_BestDir_quantile_diff']\n",
    "\n",
    "for a_name in ['LR_Long_rank_percentile', 'LR_Short_rank_percentile', 'RL_Long_rank_percentile', 'RL_Short_rank_percentile', 'Long_BestDir_quantile', 'Short_BestDir_quantile', 'LongShort_BestDir_quantile_diff']:\n",
    "\t_out = significant_BestDir_quantile_stats_df[['midtimes', 'LongShort_BestDir_quantile_diff']].plot(x='midtimes', y=a_name, title=f'Sig. (>0.95) {a_name}', **marker_style, marker='o')"
   ]
  },
  {
   "cell_type": "code",
   "execution_count": null,
   "id": "f883fba9",
   "metadata": {},
   "outputs": [],
   "source": [
    "# quantile_results_df[['LR_Long_rank_percentile', 'RL_Long_rank_percentile', 'LR_Short_rank_percentile', 'RL_Short_rank_percentile']].plot.hist(bins=21)\n",
    "# quantile_results_df[['LR_Long_rank_percentile', 'RL_Long_rank_percentile', 'LR_Short_rank_percentile', 'RL_Short_rank_percentile']].plot.hist(bins=21)\n",
    "\n",
    "df = quantile_results_df[['LR_Long_rank_percentile', 'RL_Long_rank_percentile', 'LR_Short_rank_percentile', 'RL_Short_rank_percentile']].copy()\n",
    "# Create the subplots and loop through columns\n",
    "fig, axes = plt.subplots(4, 1, figsize=(10, 10))\n",
    "for i, col in enumerate(df.columns):\n",
    "    df[col].plot.hist(ax=axes[i], bins=21)\n",
    "    axes[i].set_title(col)\n",
    "\n",
    "# Adjust layout and display plot\n",
    "plt.tight_layout()\n",
    "plt.show()\n",
    "\n"
   ]
  },
  {
   "cell_type": "code",
   "execution_count": null,
   "id": "9fd61a13",
   "metadata": {},
   "outputs": [],
   "source": [
    "win = pg.GraphicsLayoutWidget(show=True)\n",
    "win.resize(800,350)\n",
    "win.setWindowTitle('Z-Scorer: Histogram')\n",
    "plt1 = win.addPlot()\n",
    "vals = quantile_results_df.LR_Long_rank_percentile\n",
    "fisher_z_transformed_vals = np.arctanh(vals)\n",
    "\n",
    "## compute standard histogram\n",
    "y, x = np.histogram(vals) # , bins=np.linspace(-3, 8, 40)\n",
    "# fisher_z_transformed_y, x = np.histogram(fisher_z_transformed_vals, bins=x)\n",
    "\n",
    "## Using stepMode=\"center\" causes the plot to draw two lines for each sample.\n",
    "## notice that len(x) == len(y)+1\n",
    "plt1.plot(x, y, stepMode=\"center\", fillLevel=0, fillOutline=True, brush=(0,0,255,50), name='original_values')\n",
    "plt1.plot(x, y, stepMode=\"center\", fillLevel=0, fillOutline=True, brush=(0,0,255,50), name='original_values')\n",
    "# plt1.plot(x, fisher_z_transformed_y, stepMode=\"center\", fillLevel=0, fillOutline=True, brush=(0,255,100,50), name='fisher_z_values')\n",
    "\n",
    "# ## Now draw all points as a nicely-spaced scatter plot\n",
    "y = pg.pseudoScatter(vals, spacing=0.15)\n",
    "# #plt2.plot(vals, y, pen=None, symbol='o', symbolSize=5)\n",
    "plt2.plot(vals, y, pen=None, symbol='o', symbolSize=5, symbolPen=(255,255,255,200), symbolBrush=(0,0,255,150))\n"
   ]
  },
  {
   "cell_type": "code",
   "execution_count": null,
   "id": "d30cb791",
   "metadata": {},
   "outputs": [],
   "source": [
    "\n",
    "pd.concat((ripple_combined_epoch_stats_df, ripple_p_values_epoch_stats_df), axis='columns')"
   ]
  },
  {
   "cell_type": "code",
   "execution_count": null,
   "id": "d300a225",
   "metadata": {},
   "outputs": [],
   "source": [
    "ripple_result_tuple.directional_likelihoods_tuple"
   ]
  },
  {
   "cell_type": "code",
   "execution_count": null,
   "id": "43327521",
   "metadata": {},
   "outputs": [],
   "source": [
    "np.logical_not(np.isnan(rank_order_results.ripple_combined_epoch_stats_df.index).any())\n",
    "# ripple_combined_epoch_stats_df.label.isna()"
   ]
  },
  {
   "cell_type": "code",
   "execution_count": null,
   "id": "bb3c142b",
   "metadata": {},
   "outputs": [],
   "source": [
    "ripple_combined_epoch_stats_df"
   ]
  },
  {
   "cell_type": "code",
   "execution_count": null,
   "id": "4f3cedf8",
   "metadata": {},
   "outputs": [],
   "source": [
    "np.isnan(ripple_combined_epoch_stats_df.label).any()"
   ]
  },
  {
   "cell_type": "code",
   "execution_count": null,
   "id": "31224e10",
   "metadata": {},
   "outputs": [],
   "source": [
    "np.isnan(ripple_combined_epoch_stats_df.index).any()"
   ]
  },
  {
   "cell_type": "code",
   "execution_count": null,
   "id": "60749347",
   "metadata": {},
   "outputs": [],
   "source": [
    "print(f'\\tdone. building global result.')\n",
    "directional_laps_results: DirectionalLapsResult = curr_active_pipeline.global_computation_results.computed_data['DirectionalLaps']\n",
    "selected_spikes_df = deepcopy(curr_active_pipeline.global_computation_results.computed_data['RankOrder'].LR_ripple.selected_spikes_df)\n",
    "# active_epochs = global_computation_results.computed_data['RankOrder'].ripple_most_likely_result_tuple.active_epochs\n",
    "active_epochs = deepcopy(curr_active_pipeline.global_computation_results.computed_data['RankOrder'].LR_ripple.epochs_df)\n",
    "track_templates = directional_laps_results.get_templates(minimum_inclusion_fr_Hz=minimum_inclusion_fr_Hz)\n",
    "ripple_combined_epoch_stats_df, ripple_new_output_tuple = RankOrderAnalyses.pandas_df_based_correlation_computations(selected_spikes_df=selected_spikes_df, active_epochs_df=active_epochs, track_templates=track_templates, num_shuffles=150)\n",
    "# new_output_tuple (output_active_epoch_computed_values, valid_stacked_arrays, real_stacked_arrays, n_valid_shuffles) = ripple_new_output_tuple\n",
    "curr_active_pipeline.global_computation_results.computed_data['RankOrder'].ripple_combined_epoch_stats_df, curr_active_pipeline.global_computation_results.computed_data['RankOrder'].ripple_new_output_tuple = ripple_combined_epoch_stats_df, ripple_new_output_tuple\n",
    "print(f'done!')"
   ]
  },
  {
   "cell_type": "code",
   "execution_count": null,
   "id": "35e95d52",
   "metadata": {},
   "outputs": [],
   "source": [
    "laps_combined_epoch_stats_df"
   ]
  },
  {
   "cell_type": "code",
   "execution_count": null,
   "id": "4d641689",
   "metadata": {},
   "outputs": [],
   "source": [
    "print_object_memory_usage(output_active_epoch_computed_values) # 0.946189 MB\n"
   ]
  },
  {
   "cell_type": "code",
   "execution_count": null,
   "id": "3e3d1caf",
   "metadata": {},
   "outputs": [],
   "source": [
    "## #TODO 2023-12-13 02:07: - [ ] Figure out how 'Probe_Epoch_id' maps to `ripple_result_tuple.active_epochs`\n",
    "ripple_result_tuple.active_epochs\n",
    "rank_order_results.LR_ripple.ranked_aclus_stats_dict\n"
   ]
  },
  {
   "cell_type": "code",
   "execution_count": null,
   "id": "50f1bbbf",
   "metadata": {},
   "outputs": [],
   "source": [
    "## Add the pf_x information for each aclu:\n",
    "## 2023-10-11 - Get the long/short peak locations\n",
    "# decoder_peak_coms_list = [a_decoder.pf.ratemap.peak_tuning_curve_center_of_masses[is_good_aclus] for a_decoder in decoder_args]\n",
    "decoder_aclu_peak_location_dict_list = [dict(zip(neuron_IDs, peak_locations)) for neuron_IDs, peak_locations in zip(track_templates.decoder_neuron_IDs_list, track_templates.decoder_peak_location_list)]\n",
    "decoder_aclu_peak_location_dict_list\n"
   ]
  },
  {
   "cell_type": "code",
   "execution_count": null,
   "id": "de234ecb",
   "metadata": {},
   "outputs": [],
   "source": [
    "track_templates.long_LR_decoder.peak_locations"
   ]
  },
  {
   "cell_type": "code",
   "execution_count": null,
   "id": "4cc4b6e5",
   "metadata": {},
   "outputs": [],
   "source": [
    "track_templates.long_LR_decoder.peak_tuning_curve_center_of_masses"
   ]
  },
  {
   "cell_type": "code",
   "execution_count": null,
   "id": "bc1305ed",
   "metadata": {},
   "outputs": [],
   "source": [
    "track_templates.decoder_LR_pf_peak_ranks_list"
   ]
  },
  {
   "cell_type": "code",
   "execution_count": null,
   "id": "f7b179f8",
   "metadata": {},
   "outputs": [],
   "source": [
    "## Replays:\n",
    "global_replays = TimeColumnAliasesProtocol.renaming_synonym_columns_if_needed(deepcopy(curr_active_pipeline.filtered_sessions[global_epoch_name].replay))\n",
    "if isinstance(global_replays, pd.DataFrame):\n",
    "\tglobal_replays = Epoch(global_replays.epochs.get_valid_df())\n",
    "\n",
    "# get the aligned epochs and the z-scores aligned to them:\n",
    "active_replay_epochs, (active_LR_ripple_long_z_score, active_RL_ripple_long_z_score, active_LR_ripple_short_z_score, active_RL_ripple_short_z_score) = rank_order_results.get_aligned_events(global_replays.to_dataframe().copy(), is_laps=False)\n",
    "active_replay_epochs"
   ]
  },
  {
   "cell_type": "code",
   "execution_count": null,
   "id": "b6384a30",
   "metadata": {},
   "outputs": [],
   "source": [
    "## Laps:\n",
    "long_epoch_name, short_epoch_name, global_epoch_name = curr_active_pipeline.find_LongShortGlobal_epoch_names()\n",
    "global_laps = deepcopy(curr_active_pipeline.filtered_sessions[global_epoch_name].laps).trimmed_to_non_overlapping()\n",
    "active_laps_epochs, (active_LR_ripple_long_z_score, active_RL_ripple_long_z_score, active_LR_ripple_short_z_score, active_RL_ripple_short_z_score) = rank_order_results.get_aligned_events(global_laps.to_dataframe(), is_laps=True)"
   ]
  },
  {
   "cell_type": "code",
   "execution_count": null,
   "id": "91e8ff66",
   "metadata": {},
   "outputs": [],
   "source": [
    "ripple_result_tuple.plot_histogram()"
   ]
  },
  {
   "cell_type": "code",
   "execution_count": null,
   "id": "7dfbe341",
   "metadata": {},
   "outputs": [],
   "source": [
    "# Find only the significant events (|z| > 1.96):\n",
    "from pyphoplacecellanalysis.General.Pipeline.Stages.ComputationFunctions.MultiContextComputationFunctions.RankOrderComputations import RankOrderAnalyses\n",
    "\n",
    "filtered_z_score_df, (n_events, n_significant_events, percent_significant_events) = RankOrderAnalyses.find_only_significant_events(rank_order_results, high_z_criteria=1.96)\n",
    "filtered_z_score_df"
   ]
  },
  {
   "cell_type": "code",
   "execution_count": null,
   "id": "19d6bcd9",
   "metadata": {},
   "outputs": [],
   "source": [
    "print(filtered_z_score_df.index.to_numpy())\n"
   ]
  },
  {
   "cell_type": "code",
   "execution_count": null,
   "id": "86532662",
   "metadata": {},
   "outputs": [],
   "source": [
    "# 2023-11-20 - Finding high-significance periods for Kamran:\n",
    "z_threshold = 1.96\n",
    "is_greater_than_z_threshold_long = (np.abs(ripple_result_tuple.long_best_dir_z_score_values) > z_threshold)\n",
    "is_greater_than_z_threshold_short = (np.abs(ripple_result_tuple.short_best_dir_z_score_values) > z_threshold)\n",
    "is_significant_either = np.logical_or(is_greater_than_z_threshold_long, is_greater_than_z_threshold_short)\n",
    "is_significant_either\n",
    "\n",
    "# is_greater_than_3std_long = (np.abs(ripple_result_tuple.long_best_dir_z_score_values) >= 3.0)\n",
    "# is_greater_than_3std_short = (np.abs(ripple_result_tuple.short_best_dir_z_score_values) >= 3.0)\n",
    "# is_significant_either = np.logical_or(is_greater_than_3std_long, is_greater_than_3std_short)\n"
   ]
  },
  {
   "cell_type": "code",
   "execution_count": null,
   "id": "5f925cde",
   "metadata": {},
   "outputs": [],
   "source": [
    "significant_ripple_epochs = deepcopy(Epoch(ripple_result_tuple.active_epochs)).boolean_indicies_slice(is_significant_either)\n",
    "# significant_ripple_epochs = deepcopy(global_replays).boolean_indicies_slice(is_significant_either)\n",
    "significant_ripple_epochs.to_dataframe()\n",
    "\n",
    "# significant_ripple_epochs.filename = Path(f'output/2023-11-27_SignificantReplayRipples').resolve()\n",
    "# significant_ripple_epochs.to_neuroscope()\n"
   ]
  },
  {
   "cell_type": "code",
   "execution_count": null,
   "id": "6a8beece",
   "metadata": {},
   "outputs": [],
   "source": [
    "# active_epochs = ripple_result_tuple.active_epochs\n",
    "active_epochs: Epoch = rank_order_results.RL_ripple.epochs_df # Epoch(rank_order_results.RL_ripple.epochs_df)\n",
    "# type(active_epochs)\n",
    "active_epochs.n_epochs\n",
    "# rank_order_results.RL_ripple.spikes_df"
   ]
  },
  {
   "cell_type": "code",
   "execution_count": null,
   "id": "c93ffe0d",
   "metadata": {},
   "outputs": [],
   "source": [
    "rank_order_results.LR_ripple.epochs_df\n",
    "rank_order_results.LR_ripple.spikes_df\n",
    "\n"
   ]
  },
  {
   "cell_type": "code",
   "execution_count": null,
   "id": "39525572",
   "metadata": {},
   "outputs": [],
   "source": [
    "combined_variable_names: ['LR_Long_spearman', 'RL_Long_spearman', 'LR_Short_spearman', 'RL_Short_spearman', 'LR_Long_pearson', 'RL_Long_pearson', 'LR_Short_pearson', 'RL_Short_pearson']\n",
    "combined_variable_z_score_column_names: ['LR_Long_spearman_Z', 'RL_Long_spearman_Z', 'LR_Short_spearman_Z', 'RL_Short_spearman_Z', 'LR_Long_pearson_Z', 'RL_Long_pearson_Z', 'LR_Short_pearson_Z', 'RL_Short_pearson_Z']\n",
    "\n",
    "        \n"
   ]
  },
  {
   "cell_type": "code",
   "execution_count": null,
   "id": "17f47973",
   "metadata": {},
   "outputs": [],
   "source": [
    "curr_active_pipeline.build_display_context_for_filtered_session(filtered_session_name='maze_any', display_fn_name='test')"
   ]
  },
  {
   "cell_type": "code",
   "execution_count": null,
   "id": "6b319650",
   "metadata": {},
   "outputs": [],
   "source": [
    "rank_order_results.LR_ripple.selected_spikes_df"
   ]
  },
  {
   "cell_type": "code",
   "execution_count": null,
   "id": "fef5436c",
   "metadata": {},
   "outputs": [],
   "source": [
    "rank_order_results.RL_ripple.selected_spikes_df"
   ]
  },
  {
   "cell_type": "markdown",
   "id": "5ca979a6",
   "metadata": {},
   "source": [
    "# `RankOrderRastersDebugger`"
   ]
  },
  {
   "cell_type": "code",
   "execution_count": null,
   "id": "6616af69",
   "metadata": {
    "notebookRunGroups": {
     "groupValue": "2"
    },
    "tags": [
     "figure",
     "RankOrderRastersDebugger"
    ]
   },
   "outputs": [],
   "source": [
    "from pyphoplacecellanalysis.GUI.PyQtPlot.Widgets.ContainerBased.TemplateDebugger import TemplateDebugger\n",
    "from pyphoplacecellanalysis.GUI.PyQtPlot.Widgets.ContainerBased.RankOrderRastersDebugger import RankOrderRastersDebugger\n",
    "from pyphocorehelpers.gui.Qt.color_helpers import build_adjusted_color\n",
    "from pyphoplacecellanalysis.General.Mixins.SpikesRenderingBaseMixin import SpikeEmphasisState\n",
    "\n",
    "# from pyphoplacecellanalysis.GUI.PyQtPlot.Widgets.ContainerBased.RankOrderRastersDebugger import a_debug_callback_fn, debug_update_long_short_info_titles, debug_update_plot_titles\n",
    "\n",
    "curr_active_pipeline.reload_default_display_functions()\n",
    "\n",
    "## RankOrderRastersDebugger: \n",
    "# _out_rank_order_event_raster_debugger = RankOrderRastersDebugger.init_rank_order_debugger(spikes_df, ripple_result_tuple.active_epochs, track_templates, rank_order_results.RL_ripple.selected_spikes_fragile_linear_neuron_IDX_dict, rank_order_results.LR_ripple.selected_spikes_fragile_linear_neuron_IDX_dict)\n",
    "\n",
    "## Required prereqs:\n",
    "# active_epochs_df = deepcopy(rank_order_results.LR_ripple.epochs_df)\n",
    "# active_selected_spikes_df, active_epochs_df = RankOrderAnalyses.new_compute_correlations(selected_spikes_df=selected_spikes_df, active_epochs=active_epochs, track_templates=track_templates)\n",
    "## 2023-12-13 11am - uses `active_epochs_df` passed in that has been augmented with all the old results:\n",
    "# _out_rank_order_event_raster_debugger = RankOrderRastersDebugger.init_rank_order_debugger(spikes_df, active_epochs_df, track_templates, rank_order_results, rank_order_results.RL_ripple.selected_spikes_fragile_linear_neuron_IDX_dict, rank_order_results.LR_ripple.selected_spikes_fragile_linear_neuron_IDX_dict)\n",
    "# _out_rank_order_event_raster_debugger = RankOrderRastersDebugger.init_rank_order_debugger(spikes_df, active_epochs_df, track_templates, rank_order_results, rank_order_results.RL_ripple.selected_spikes_df, rank_order_results.LR_ripple.selected_spikes_df)\n",
    "# _out_rank_order_event_raster_debugger.params.enable_show_Z_values = False\n",
    "\n",
    "_out_rank_order_selected_spikes_only_event_raster_debugger = RankOrderRastersDebugger.init_rank_order_debugger(deepcopy(rank_order_results.LR_ripple.selected_spikes_df), deepcopy(rank_order_results.LR_ripple.epochs_df),\n",
    "                                                                                                                track_templates, rank_order_results, None, None, debug_print=True, debug_draw=True) # rank_order_results.RL_ripple.selected_spikes_fragile_linear_neuron_IDX_dict, rank_order_results.LR_ripple.selected_spikes_fragile_linear_neuron_IDX_dict)\n",
    "_out_directional_template_pfs_debugger, debug_update_paired_directional_template_pfs_debugger = _out_rank_order_selected_spikes_only_event_raster_debugger.plot_attached_directional_templates_pf_debugger(curr_active_pipeline)\n",
    "active_plotter = _out_rank_order_selected_spikes_only_event_raster_debugger\n",
    "active_plotter.on_update_epoch_IDX(17)\n"
   ]
  },
  {
   "cell_type": "code",
   "execution_count": null,
   "id": "78f5f236",
   "metadata": {},
   "outputs": [],
   "source": [
    "from pyphoplacecellanalysis.GUI.PyQtPlot.Widgets.ContainerBased.TemplateDebugger import TemplateDebugger\n",
    "\n",
    "_out_directional_template_pfs_debugger, debug_update_paired_directional_template_pfs_debugger = _out_rank_order_selected_spikes_only_event_raster_debugger.plot_attached_directional_templates_pf_debugger(curr_active_pipeline)"
   ]
  },
  {
   "cell_type": "code",
   "execution_count": null,
   "id": "8e7bd171",
   "metadata": {},
   "outputs": [],
   "source": [
    "a_directional_template_pfs_debugger: TemplateDebugger = _out_directional_template_pfs_debugger['obj']\n",
    "a_directional_template_pfs_debugger.plots_data"
   ]
  },
  {
   "cell_type": "code",
   "execution_count": null,
   "id": "b4b433ac",
   "metadata": {},
   "outputs": [],
   "source": [
    "a_directional_template_pfs_debugger.plots_data.sorted_pf_peak_location_list"
   ]
  },
  {
   "cell_type": "markdown",
   "id": "f7f3a2d3",
   "metadata": {},
   "source": [
    "### Exporting `rank_order_event_raster_debugge`"
   ]
  },
  {
   "cell_type": "code",
   "execution_count": null,
   "id": "a858f9bc",
   "metadata": {},
   "outputs": [],
   "source": [
    "from pyphoplacecellanalysis.General.Mixins.ExportHelpers import export_pyqtgraph_plot, ExportFiletype\n",
    "\n",
    "export_path = Path(r'C:\\Users\\pho\\Desktop\\2023-12-19 Exports').resolve()\n",
    "\n",
    "_out_rank_order_event_raster_debugger.save_figure(export_path=export_path)\n"
   ]
  },
  {
   "cell_type": "markdown",
   "id": "619ebf52",
   "metadata": {},
   "source": [
    "#### Iterates through the epochs (via the slider) and saves out the images:\n"
   ]
  },
  {
   "cell_type": "code",
   "execution_count": null,
   "id": "53f73ed6",
   "metadata": {},
   "outputs": [],
   "source": [
    "export_path = Path(r'C:\\Users\\pho\\Desktop\\2023-12-19 Exports').resolve()\n",
    "all_save_paths = _out_rank_order_event_raster_debugger.export_figure_all_slider_values(export_path=export_path)"
   ]
  },
  {
   "cell_type": "code",
   "execution_count": null,
   "id": "9a46e840",
   "metadata": {},
   "outputs": [],
   "source": [
    "_out_rank_order_event_raster_debugger.active_epoch_IDX"
   ]
  },
  {
   "cell_type": "code",
   "execution_count": null,
   "id": "33d7d125",
   "metadata": {},
   "outputs": [],
   "source": [
    "_out_rank_order_event_raster_debugger.active_epoch_result_df"
   ]
  },
  {
   "cell_type": "code",
   "execution_count": null,
   "id": "41d5bd28",
   "metadata": {},
   "outputs": [],
   "source": [
    "aclu_y_values_dict = {_active_plot_identifier:{int(aclu):new_sorted_raster.neuron_y_pos[aclu] for aclu in new_sorted_raster.neuron_IDs} for _active_plot_identifier, new_sorted_raster in _out_rank_order_event_raster_debugger.plots_data.seperate_new_sorted_rasters_dict.items()}\n",
    "aclu_max_y_values_dict = {_active_plot_identifier:np.max(list({int(aclu):new_sorted_raster.neuron_y_pos[aclu] for aclu in new_sorted_raster.neuron_IDs}.values())) for _active_plot_identifier, new_sorted_raster in _out_rank_order_event_raster_debugger.plots_data.seperate_new_sorted_rasters_dict.items()} # {'long_LR': 51.48039215686274, 'long_RL': 53.5, 'short_LR': 51.48039215686274, 'short_RL': 53.5}\n",
    "global_max_y_value = np.max(list(aclu_max_y_values_dict.values()))\n",
    "global_max_y_value"
   ]
  },
  {
   "cell_type": "code",
   "execution_count": null,
   "id": "01518ab5",
   "metadata": {},
   "outputs": [],
   "source": [
    "max_n_neurons = np.max([len(v) for v in _out_rank_order_event_raster_debugger.plots_data.unsorted_original_neuron_IDs_lists])\n",
    "max_n_neurons"
   ]
  },
  {
   "cell_type": "code",
   "execution_count": null,
   "id": "277c056e",
   "metadata": {},
   "outputs": [],
   "source": [
    "_out_rank_order_event_raster_debugger.plots.all_separate_plots['long_LR']['root_plot']\n",
    "\n",
    "\n",
    "root_plots_dict"
   ]
  },
  {
   "cell_type": "code",
   "execution_count": null,
   "id": "d56dbf69",
   "metadata": {},
   "outputs": [],
   "source": [
    "max_n_neurons"
   ]
  },
  {
   "cell_type": "code",
   "execution_count": null,
   "id": "33b090c1",
   "metadata": {},
   "outputs": [],
   "source": [
    "\n",
    "\n",
    "all_separate_root_plots = {a_decoder_name:a_raster_setup_tuple.plots.root_plot for a_decoder_name, a_raster_setup_tuple in rasters_display_outputs.items()}\n"
   ]
  },
  {
   "cell_type": "code",
   "execution_count": null,
   "id": "39cb28ee",
   "metadata": {},
   "outputs": [],
   "source": []
  },
  {
   "cell_type": "code",
   "execution_count": null,
   "id": "9dd35f5f",
   "metadata": {},
   "outputs": [],
   "source": [
    "_out_rank_order_selected_spikes_only_event_raster_debugger.ui.tableView"
   ]
  },
  {
   "cell_type": "code",
   "execution_count": null,
   "id": "5446230b",
   "metadata": {},
   "outputs": [],
   "source": [
    "from pyphoplacecellanalysis.GUI.PyQtPlot.Widgets.ContainerBased.RankOrderRastersDebugger import a_debug_callback_fn, debug_update_long_short_info_titles, debug_update_plot_titles\n",
    "\n",
    "_out_LAPS_rank_order_event_raster_debugger = RankOrderRastersDebugger.init_rank_order_debugger(spikes_df, deepcopy(rank_order_results.LR_laps.epochs_df), track_templates, rank_order_results, None, None)\n",
    "_out_LAPS_rank_order_event_raster_debugger.params.is_laps = True\n",
    "_out_LAPS_rank_order_event_raster_debugger.on_idx_changed_callback_function_dict['debug_update_plot_titles_callback'] = debug_update_plot_titles"
   ]
  },
  {
   "cell_type": "code",
   "execution_count": null,
   "id": "b15491f4",
   "metadata": {},
   "outputs": [],
   "source": [
    "rank_order_results.RL_ripple.selected_spikes_df"
   ]
  },
  {
   "cell_type": "code",
   "execution_count": null,
   "id": "9bc00fc6",
   "metadata": {},
   "outputs": [],
   "source": [
    "# Scroll to the specified row\n",
    "tableView.scrollTo(tableView.model().index(row_index, 0))\n",
    "\n",
    "# Select the entire row\n",
    "tableView.selectRow(row_index)"
   ]
  },
  {
   "cell_type": "code",
   "execution_count": null,
   "id": "bc3b8d31",
   "metadata": {},
   "outputs": [],
   "source": [
    "_out_rank_order_event_raster_debugger.plots_data.LR_selected_spike_df #.LR_active_epochs_selected_spikes_fragile_linear_neuron_IDX_dict\n",
    "# _out_rank_order_event_raster_debugger.plots_data.LR_neuron_id_to_new_IDX_map"
   ]
  },
  {
   "cell_type": "code",
   "execution_count": null,
   "id": "05a79c3f",
   "metadata": {},
   "outputs": [],
   "source": [
    "list(_out_rank_order_event_raster_debugger.plots_data.keys())\n"
   ]
  },
  {
   "cell_type": "code",
   "execution_count": null,
   "id": "60c62746",
   "metadata": {},
   "outputs": [],
   "source": [
    "_out_rank_order_event_raster_debugger.plots_data['all_selected_spots_dict']\n"
   ]
  },
  {
   "cell_type": "code",
   "execution_count": null,
   "id": "28b093b8",
   "metadata": {},
   "outputs": [],
   "source": [
    "_out_rank_order_event_raster_debugger.plots_data['seperate_all_spots_dict']"
   ]
  },
  {
   "cell_type": "code",
   "execution_count": null,
   "id": "48888cc6",
   "metadata": {},
   "outputs": [],
   "source": [
    "_active_plot_identifier = 'long_LR'\n",
    "new_sorted_raster = _out_rank_order_event_raster_debugger.plots_data['seperate_new_sorted_rasters_dict'][_active_plot_identifier]\n",
    "# selected_spikes_df = new_sorted_raster.update_spikes_df_visualization_columns(spikes_df=selected_spikes_df)\n",
    "# selected_spikes_df\n",
    "new_sorted_raster.spikes_df"
   ]
  },
  {
   "cell_type": "code",
   "execution_count": null,
   "id": "00a57b9a",
   "metadata": {},
   "outputs": [],
   "source": [
    "## Add the source data (spikes_df) to the plot_data\n",
    "plots_data.spikes_df = deepcopy(spikes_df)    \n",
    "# Update the dataframe\n",
    "plots_data.spikes_df = new_sorted_raster.update_spikes_df_visualization_columns(spikes_df=plots_data.spikes_df)\n",
    "## Build the spots for the raster plot:\n",
    "_out_rank_order_event_raster_debugger.plots_data['all_selected_spots_dict'][_active_plot_identifier], _out_rank_order_event_raster_debugger.plots_data.all_selected_scatterplot_tooltips_kwargs_dict[_active_plot_identifier] = new_sorted_raster.build_spikes_all_spots_from_df(spikes_df=plots_data.spikes_df, should_return_data_tooltips_kwargs=True, generate_debug_tuples=False)\n"
   ]
  },
  {
   "cell_type": "code",
   "execution_count": null,
   "id": "875a0b1b",
   "metadata": {},
   "outputs": [],
   "source": [
    "_out_rank_order_event_raster_debugger.plots_data.spikes_df"
   ]
  },
  {
   "cell_type": "code",
   "execution_count": null,
   "id": "86793de4",
   "metadata": {},
   "outputs": [],
   "source": [
    "_out_rank_order_event_raster_debugger.global_spikes_df"
   ]
  },
  {
   "cell_type": "code",
   "execution_count": null,
   "id": "4ce652a5",
   "metadata": {},
   "outputs": [],
   "source": [
    "add_selected_spikes_df_points_to_scatter_plot"
   ]
  },
  {
   "cell_type": "markdown",
   "id": "44d0cb69",
   "metadata": {},
   "source": [
    "## Connects TemplatesDebugger to RasterDebugger"
   ]
  },
  {
   "cell_type": "code",
   "execution_count": null,
   "id": "df7136b6",
   "metadata": {},
   "outputs": [],
   "source": [
    "from pyphoplacecellanalysis.GUI.PyQtPlot.Widgets.ContainerBased.RankOrderRastersDebugger import a_debug_callback_fn, debug_update_long_short_info_titles, debug_update_plot_titles\n",
    "\n",
    "\n",
    "# active_plotter = _out_rank_order_event_raster_debugger\n",
    "active_plotter = _out_rank_order_selected_spikes_only_event_raster_debugger\n",
    "# _out_directional_template_pfs_debugger = None\n"
   ]
  },
  {
   "cell_type": "code",
   "execution_count": null,
   "id": "3e9dfc21",
   "metadata": {},
   "outputs": [],
   "source": [
    "\n",
    "\n",
    "# def plot_attached_directional_templates_pf_debugger(curr_active_pipeline, rank_order_raster_debugger: RankOrderRastersDebugger):\n",
    "#     \"\"\" builds a _display_directional_template_debugger, attaches it to the provided rank_order_event_raster_debugger so it's updated on its callback, and then returns what it created. \n",
    "    \n",
    "#     \"\"\"\n",
    "#     curr_active_pipeline.reload_default_display_functions()\n",
    "#     # epoch_active_aclus = np.array([9,  26,  31,  39,  40,  43,  47,  52,  53,  54,  60,  61,  65,  68,  72,  75,  77,  78,  81,  82,  84,  85,  90,  92,  93,  98, 102]) # some test indicies\n",
    "#     epoch_active_aclus = None\n",
    "#     _out_directional_template_pfs_debugger = curr_active_pipeline.display(DirectionalPlacefieldGlobalDisplayFunctions._display_directional_template_debugger, included_any_context_neuron_ids=epoch_active_aclus, figure_name=f'<Controlled by RankOrderRastersDebugger>')\n",
    "\n",
    "#     def debug_update_paired_directional_template_pfs_debugger(a_plotter, an_idx: int):\n",
    "#         \"\"\" captures: _out_directional_template_pfs_debugger, \"\"\"\n",
    "#         epoch_active_aclus = deepcopy(a_plotter.get_epoch_active_aclus())\n",
    "#         # update the displayed cells:\n",
    "#         directional_template_pfs_debugger_on_update_callback = _out_directional_template_pfs_debugger.get('ui').on_update_callback\n",
    "#         directional_template_pfs_debugger_on_update_callback(epoch_active_aclus)\n",
    "    \n",
    "#     rank_order_raster_debugger.on_idx_changed_callback_function_dict['debug_update_paired_directional_template_pfs_debugger'] = debug_update_paired_directional_template_pfs_debugger\n",
    "    \n",
    "#     return _out_directional_template_pfs_debugger, debug_update_paired_directional_template_pfs_debugger\n",
    "\n",
    "\n",
    "# _out_directional_template_pfs_debugger, debug_update_paired_directional_template_pfs_debugger = plot_attached_directional_templates_pf_debugger(curr_active_pipeline, active_plotter)\n",
    "\n",
    "# _out_directional_template_pfs_debugger, debug_update_paired_directional_template_pfs_debugger = active_plotter.plot_attached_directional_templates_pf_debugger(curr_active_pipeline)\n",
    "\n",
    "active_plotter.on_idx_changed_callback_function_dict['a_debug_callback'] = a_debug_callback_fn\n",
    "active_plotter.on_idx_changed_callback_function_dict['debug_update_plot_titles_callback'] = debug_update_plot_titles\n",
    "# active_plotter.on_idx_changed_callback_function_dict['debug_update_paired_directional_template_pfs_debugger'] = debug_update_paired_directional_template_pfs_debugger\n",
    "# active_plotter.on_idx_changed_callback_function_dict['debug_update_long_short_info_titles'] = debug_update_long_short_info_titles\n",
    "# active_plotter.on_idx_changed_callback_function_dict['debug_plot_epoch_label_row'] = debug_plot_epoch_label_row\n",
    "\n",
    "# active_plotter.on_update_epoch_IDX(11)"
   ]
  },
  {
   "cell_type": "code",
   "execution_count": null,
   "id": "aeaafb1a",
   "metadata": {},
   "outputs": [],
   "source": [
    "epoch_active_aclus = deepcopy(active_plotter.get_epoch_active_aclus())\n",
    "epoch_active_aclus"
   ]
  },
  {
   "cell_type": "code",
   "execution_count": null,
   "id": "a68aeeb8",
   "metadata": {},
   "outputs": [],
   "source": [
    "from pyphoplacecellanalysis.GUI.PyQtPlot.Widgets.ContainerBased.RankOrderRastersDebugger import a_debug_callback_fn, debug_update_long_short_info_titles, debug_update_plot_titles\n",
    "\n",
    "# active_plotter = _out_rank_order_event_raster_debugger\n",
    "active_plotter = _out_rank_order_selected_spikes_only_event_raster_debugger\n",
    "\n",
    "# _out_directional_template_pfs_debugger = None\n",
    "_out_directional_template_pfs_debugger, debug_update_paired_directional_template_pfs_debugger = active_plotter.plot_attached_directional_templates_pf_debugger(curr_active_pipeline)\n",
    "\n",
    "active_plotter.on_idx_changed_callback_function_dict['a_debug_callback'] = a_debug_callback_fn\n",
    "active_plotter.on_idx_changed_callback_function_dict['debug_update_plot_titles_callback'] = debug_update_plot_titles\n",
    "active_plotter.on_idx_changed_callback_function_dict['debug_update_paired_directional_template_pfs_debugger'] = debug_update_paired_directional_template_pfs_debugger"
   ]
  },
  {
   "cell_type": "markdown",
   "id": "3a278553",
   "metadata": {},
   "source": [
    "# 2023-12-20 - Spearman Investigations"
   ]
  },
  {
   "cell_type": "code",
   "execution_count": null,
   "id": "9d242421",
   "metadata": {},
   "outputs": [],
   "source": [
    "from PendingNotebookCode import CurrTesting\n",
    "\n",
    "active_plotter.active_epoch_df"
   ]
  },
  {
   "cell_type": "code",
   "execution_count": null,
   "id": "30a933b9",
   "metadata": {},
   "outputs": [],
   "source": [
    "active_plotter.active_epoch_result_df"
   ]
  },
  {
   "cell_type": "code",
   "execution_count": null,
   "id": "49d6cd03",
   "metadata": {},
   "outputs": [],
   "source": [
    "active_plotter.active_epoch_df.RL_Long_rel_num_cells"
   ]
  },
  {
   "cell_type": "code",
   "execution_count": null,
   "id": "33545624",
   "metadata": {},
   "outputs": [],
   "source": [
    "# rank_order_results.laps_combined_epoch_stats_df\n",
    "\n",
    "rank_order_results.ripple_combined_epoch_stats_df"
   ]
  },
  {
   "cell_type": "code",
   "execution_count": null,
   "id": "d7ff60c8",
   "metadata": {},
   "outputs": [],
   "source": [
    "# Get the best direction for the current epoch:\n",
    "curr_best_dir_index: int = directional_likelihoods_df.long_best_direction_indices.iloc[active_plotter.active_epoch_IDX]\n",
    "print(f'curr_best_dir_index: {curr_best_dir_index}')\n",
    "curr_best_dir_name: str = dir_index_to_direction_name_map[curr_best_dir_index]\n",
    "print(f'curr_best_dir_name: {curr_best_dir_name}')"
   ]
  },
  {
   "cell_type": "code",
   "execution_count": null,
   "id": "813fe519",
   "metadata": {},
   "outputs": [],
   "source": [
    "active_plotter.rank_order_results.ripple_combined_epoch_stats_df\n",
    "\n"
   ]
  },
  {
   "cell_type": "code",
   "execution_count": null,
   "id": "308f9719",
   "metadata": {},
   "outputs": [],
   "source": [
    "active_plotter.active_epoch_label"
   ]
  },
  {
   "cell_type": "code",
   "execution_count": null,
   "id": "d369cb22",
   "metadata": {},
   "outputs": [],
   "source": [
    "active_plotter.global_spikes_df"
   ]
  },
  {
   "cell_type": "code",
   "execution_count": null,
   "id": "39bf6459",
   "metadata": {},
   "outputs": [],
   "source": [
    "curr_epoch_spikes_df = deepcopy(active_plotter.get_active_epoch_spikes_df())[['t_rel_seconds', 'aclu', 'shank', 'cluster', 'qclu', 'maze_id', 'flat_spike_idx', 'Probe_Epoch_id']]\n",
    "curr_epoch_spikes_df[\"spike_rank\"] = curr_epoch_spikes_df[\"t_rel_seconds\"].rank(method=\"average\")\n",
    "# Sort by column: 'aclu' (ascending)\n",
    "# curr_epoch_spikes_df = curr_epoch_spikes_df.sort_values(['aclu'])\n",
    "curr_epoch_spikes_df"
   ]
  },
  {
   "cell_type": "code",
   "execution_count": null,
   "id": "7221720e",
   "metadata": {},
   "outputs": [],
   "source": [
    "n_spikes = np.shape(curr_epoch_spikes_df)[0]\n",
    "curr_epoch_spikes_aclus = deepcopy(curr_epoch_spikes_df.aclu.to_numpy())\n",
    "curr_epoch_spikes_aclu_ranks = deepcopy(curr_epoch_spikes_df.spike_rank.to_numpy())\n",
    "curr_epoch_spikes_aclu_rank_map = dict(zip(curr_epoch_spikes_aclus, curr_epoch_spikes_aclu_ranks))\n",
    "n_unique_aclus = np.shape(curr_epoch_spikes_df.aclu.unique())[0]\n",
    "assert n_spikes == n_unique_aclus, f\"there is more than one spike in curr_epoch_spikes_df for an aclu! n_spikes: {n_spikes}, n_unique_aclus: {n_unique_aclus}\"\n",
    "n_spikes\n",
    "n_unique_aclus\n",
    "# curr_epoch_spikes_aclu_rank_map\n",
    "# is_unique"
   ]
  },
  {
   "cell_type": "code",
   "execution_count": null,
   "id": "9916fa94",
   "metadata": {},
   "outputs": [],
   "source": [
    "rank_order_results.ripple_combined_epoch_stats_df[rank_order_results.ripple_combined_epoch_stats_df.label == active_plotter.active_epoch_label]"
   ]
  },
  {
   "cell_type": "code",
   "execution_count": null,
   "id": "6efd8b89",
   "metadata": {},
   "outputs": [],
   "source": [
    "rank_order_results.ripple_combined_epoch_stats_df[['LR_Long_spearman', 'RL_Long_spearman', 'LR_Short_spearman', 'RL_Short_spearman', 'LR_Long_spearman_Z', 'RL_Long_spearman_Z', 'LR_Short_spearman_Z', 'RL_Short_spearman_Z']].iloc[[active_plotter.active_epoch_IDX]]\n",
    "\n",
    "# ['long_RL_spearman', 'long_LR_spearman', 'short_RL_spearman', 'short_LR_spearman', 'long_RL_spearman_Z', 'long_LR_spearman_Z', 'short_RL_spearman_Z', 'short_LR_spearman_Z']\n",
    "# ['long_RL_spearman', 'long_LR_spearman', 'short_RL_spearman', 'short_LR_spearman', 'long_RL_spearman_Z', 'long_LR_spearman_Z', 'short_RL_spearman_Z', 'short_LR_spearman_Z']\n"
   ]
  },
  {
   "cell_type": "code",
   "execution_count": null,
   "id": "3b872dea",
   "metadata": {},
   "outputs": [],
   "source": [
    "from pyphoplacecellanalysis.General.Pipeline.Stages.ComputationFunctions.MultiContextComputationFunctions.DirectionalPlacefieldGlobalComputationFunctions import TrackTemplates\n",
    "\n",
    "# curr_epoch_spikes_df = deepcopy(active_plotter.get_active_epoch_spikes_df())[['t_rel_seconds', 'aclu', 'shank', 'cluster', 'qclu', 'maze_id', 'flat_spike_idx', 'Probe_Epoch_id']]\n",
    "\n",
    "\n",
    "# curr_epoch_spikes_df\n",
    "\n",
    "# curr_epoch_spikes_df[\"spike_rank\"] = curr_epoch_spikes_df[\"t_rel_seconds\"].rank(method=\"average\")\n",
    "# curr_epoch_spikes_df = curr_epoch_spikes_df.sort_values(['aclu']) # Sort by column: 'aclu' (ascending)\n",
    "template_spearman_real_results = CurrTesting.pho_compute_rank_order(track_templates, curr_epoch_spikes_df, rank_method=\"average\", stats_nan_policy='omit')\n",
    "template_spearman_real_results\n",
    "# {'long_LR': (-0.2922074234830293, 4),\n",
    "#  'long_RL': (-0.4582233402727546, 2),\n",
    "#  'short_LR': (-0.12496330329017007, 4),\n",
    "#  'short_RL': (-0.582141093511449, 2)}\n",
    "\n",
    "# {'long_LR': (-0.3312693498452012, 0.17932214439926802, 4),\n",
    "#  'long_RL': (-0.48872180451127817, 0.028772030054996085, 2),\n",
    "#  'short_LR': (-0.16408668730650156, 0.5152947310342115, 4),\n",
    "#  'short_RL': (-0.5954887218045113, 0.005601441030074217, 2)}"
   ]
  },
  {
   "cell_type": "code",
   "execution_count": null,
   "id": "78bbd0a3",
   "metadata": {},
   "outputs": [],
   "source": [
    "CurrTesting.pho_compute_rank_order(track_templates, curr_epoch_spikes_df, rank_method=\"average\", stats_nan_policy='omit')"
   ]
  },
  {
   "cell_type": "code",
   "execution_count": null,
   "id": "891225b0",
   "metadata": {},
   "outputs": [],
   "source": [
    "# selected_spikes_df = deepcopy(rank_order_results.LR_ripple.selected_spikes_df)\n",
    "selected_spikes_df = deepcopy(curr_epoch_spikes_df)\n",
    "real_stats_df = RankOrderAnalyses._compute_single_rank_order_shuffle(track_templates, selected_spikes_df=selected_spikes_df)\n",
    "real_stats_df\n",
    "\n",
    "\n"
   ]
  },
  {
   "cell_type": "code",
   "execution_count": null,
   "id": "1e42b789",
   "metadata": {},
   "outputs": [],
   "source": [
    "combined_variable_names = list(set(real_stats_df.columns) - set(['label'])) # ['RL_Short_spearman', 'RL_Long_pearson', 'RL_Short_pearson', 'LR_Long_spearman', 'LR_Short_pearson', 'LR_Long_pearson', 'LR_Short_spearman', 'RL_Long_spearman']\n",
    "real_stacked_arrays = real_stats_df[combined_variable_names].to_numpy() # for compatibility\n",
    "real_stacked_arrays.shape"
   ]
  },
  {
   "cell_type": "code",
   "execution_count": null,
   "id": "44c078b8",
   "metadata": {},
   "outputs": [],
   "source": [
    "decoder_aclu_peak_map_dict = track_templates.get_decoder_aclu_peak_map_dict()\n",
    "\n",
    "list(decoder_aclu_peak_map_dict.keys())"
   ]
  },
  {
   "cell_type": "code",
   "execution_count": null,
   "id": "45778248",
   "metadata": {},
   "outputs": [],
   "source": [
    "## USES selected_spikes_df\n",
    "all_decoder_aclus_map_keys_list = [np.array(list(a_map.keys())) for a_map in (long_LR_aclu_peak_map, long_RL_aclu_peak_map, short_LR_aclu_peak_map, short_RL_aclu_peak_map)] # list of four elements\n",
    "all_shuffled_decoder_aclus_map_keys_list = [build_shuffled_ids(a_map_keys, num_shuffles=num_shuffles, seed=None)[0] for a_map_keys in all_decoder_aclus_map_keys_list] # [0] only gets the shuffled_aclus themselves, which are of shape .shape: ((num_shuffles, n_neurons[i]) where i is the decoder_index\n",
    "\n",
    "long_LR_epoch_specific_shuffled_aclus, long_RL_epoch_specific_shuffled_aclus, short_LR_epoch_specific_shuffled_aclus, short_RL_epoch_specific_shuffled_aclus = all_shuffled_decoder_aclus_map_keys_list\n"
   ]
  },
  {
   "cell_type": "code",
   "execution_count": null,
   "id": "c9b07a73",
   "metadata": {},
   "outputs": [],
   "source": [
    "decoder_aclu_peak_map_dict = track_templates.get_decoder_aclu_peak_map_dict()\n",
    "# _NaN_Type = np.nan\n",
    "_NaN_Type = pd.NA\n",
    "\n",
    "# long_LR_aclu_peak_map, long_RL_aclu_peak_map, short_LR_aclu_peak_map, short_RL_aclu_peak_map = track_templates.get_decoder_aclu_peak_maps()\n",
    "## Restrict to only the relevant columns, and Initialize the dataframe columns to np.nan:\n",
    "active_selected_spikes_df: pd.DataFrame = deepcopy(selected_spikes_df[['t_rel_seconds', 'aclu', 'Probe_Epoch_id']]).sort_values(['Probe_Epoch_id', 't_rel_seconds', 'aclu']).astype({'Probe_Epoch_id': 'int'}) # Sort by columns: 'Probe_Epoch_id' (ascending), 't_rel_seconds' (ascending), 'aclu' (ascending)\n",
    "# _pf_peak_x_column_names = ['LR_Long_pf_peak_x', 'RL_Long_pf_peak_x', 'LR_Short_pf_peak_x', 'RL_Short_pf_peak_x']\n",
    "_pf_peak_x_column_names = [f'{a_decoder_name}_pf_peak_x' for a_decoder_name in track_templates.get_decoder_names()]\n",
    "active_selected_spikes_df[_pf_peak_x_column_names] = pd.DataFrame([[_NaN_Type, _NaN_Type, _NaN_Type, _NaN_Type]], index=active_selected_spikes_df.index)\n",
    "\n",
    "## Normal:\n",
    "# active_selected_spikes_df['LR_Long_pf_peak_x'] = active_selected_spikes_df.aclu.map(long_LR_aclu_peak_map)\n",
    "# active_selected_spikes_df['RL_Long_pf_peak_x'] = active_selected_spikes_df.aclu.map(long_RL_aclu_peak_map)\n",
    "# active_selected_spikes_df['LR_Short_pf_peak_x'] = active_selected_spikes_df.aclu.map(short_LR_aclu_peak_map)\n",
    "# active_selected_spikes_df['RL_Short_pf_peak_x'] = active_selected_spikes_df.aclu.map(short_RL_aclu_peak_map)\n",
    "\n",
    "for a_decoder_name, a_aclu_peak_map in decoder_aclu_peak_map_dict.items():\n",
    "\tactive_selected_spikes_df[f'{a_decoder_name}_pf_peak_x'] = active_selected_spikes_df.aclu.map(a_aclu_peak_map)\n",
    "\n",
    "active_selected_spikes_df\n",
    "\n"
   ]
  },
  {
   "cell_type": "code",
   "execution_count": null,
   "id": "8be11f75",
   "metadata": {},
   "outputs": [],
   "source": [
    "\n",
    "num_shuffles:int = 10\n",
    "\n",
    "decoder_aclu_peak_map_dict = track_templates.get_decoder_aclu_peak_map_dict()\n",
    "all_decoder_aclus_map_keys_dict = {a_decoder_name:np.array(list(a_map.keys())) for a_decoder_name, a_map in decoder_aclu_peak_map_dict.items()} # list of four elements\n",
    "all_decoder_aclus_map_values_dict = {a_decoder_name:np.array(list(a_map.values())) for a_decoder_name, a_map in decoder_aclu_peak_map_dict.items()} # list of four elements\n",
    "all_shuffled_decoder_aclus_map_keys_dict = {a_decoder_name:build_shuffled_ids(a_map_keys, num_shuffles=num_shuffles, seed=None)[0] for a_decoder_name, a_map_keys in all_decoder_aclus_map_keys_dict.items()} # [0] only gets the shuffled_aclus themselves, which are of shape .shape: ((num_shuffles, n_neurons[i]) where i is the decoder_index\n",
    "\n",
    "# all_shuffled_override_decoder_aclu_peak_map_dict: one for each shuffle.\n",
    "all_shuffled_override_decoder_aclu_peak_map_dict = [{a_decoder_name:dict(zip(a_decoder_specific_shuffled_aclus_arr[shuffle_IDX], all_decoder_aclus_map_values_dict[a_decoder_name])) for a_decoder_name, a_decoder_specific_shuffled_aclus_arr in all_shuffled_decoder_aclus_map_keys_dict.items()} for shuffle_IDX in np.arange(num_shuffles)]"
   ]
  },
  {
   "cell_type": "code",
   "execution_count": null,
   "id": "a1642789",
   "metadata": {},
   "outputs": [],
   "source": [
    "# print_dataframe_memory_usage(all_shuffled_override_decoder_aclu_peak_map_dict)\n",
    "print_object_memory_usage(all_shuffled_override_decoder_aclu_peak_map_dict) # 0.21150970458984375\n",
    "\n",
    "single_shuffle_result_mem_usage_MB = print_object_memory_usage(all_shuffled_override_decoder_aclu_peak_map_dict)/float(10.0)\n",
    "print(f'single_shuffle_result_mem_usage_MB: {single_shuffle_result_mem_usage_MB}')\n",
    "\n",
    "single_shuffle_result_mem_usage_MB * 1000.0 # 21MB for 1000 shuffles\n"
   ]
  },
  {
   "cell_type": "code",
   "execution_count": null,
   "id": "6db7c4cd",
   "metadata": {},
   "outputs": [],
   "source": [
    "from pyphoplacecellanalysis.General.Pipeline.Stages.ComputationFunctions.MultiContextComputationFunctions.RankOrderComputations import RankOrderAnalyses\n",
    "\n",
    "# long_LR_epoch_specific_shuffled_aclus, long_RL_epoch_specific_shuffled_aclus, short_LR_epoch_specific_shuffled_aclus, short_RL_epoch_specific_shuffled_aclus = all_shuffled_decoder_aclus_map_keys_list\n",
    "\n",
    "output_active_epoch_computed_values = []\n",
    "\n",
    "for shuffle_IDX in np.arange(num_shuffles):\n",
    "\tshuffle_real_stats_df = RankOrderAnalyses._compute_single_rank_order_shuffle(track_templates, selected_spikes_df=selected_spikes_df, override_decoder_aclu_peak_map_dict=all_shuffled_override_decoder_aclu_peak_map_dict[shuffle_IDX])\n",
    "\toutput_active_epoch_computed_values.append(shuffle_real_stats_df)\n",
    "\n"
   ]
  },
  {
   "cell_type": "code",
   "execution_count": null,
   "id": "9f4742c2",
   "metadata": {},
   "outputs": [],
   "source": [
    "stacked_dfs = pd.concat(output_active_epoch_computed_values, axis='index')\n",
    "print_dataframe_memory_usage(stacked_dfs)\n",
    "stacked_dfs"
   ]
  },
  {
   "cell_type": "code",
   "execution_count": null,
   "id": "f2dc4a28",
   "metadata": {},
   "outputs": [],
   "source": [
    "# ## Compute real values here:\n",
    "# epoch_id_grouped_selected_spikes_df =  active_selected_spikes_df.groupby('Probe_Epoch_id') # I can even compute this outside the loop?\n",
    "# spearman_correlations = epoch_id_grouped_selected_spikes_df.apply(lambda group: RankOrderAnalyses._subfn_calculate_correlations(group, method='spearman', enable_shuffle=False)).reset_index() # Reset index to make 'Probe_Epoch_id' a column\n",
    "# pearson_correlations = epoch_id_grouped_selected_spikes_df.apply(lambda group: RankOrderAnalyses._subfn_calculate_correlations(group, method='pearson', enable_shuffle=False)).reset_index() # Reset index to make 'Probe_Epoch_id' a column\n",
    "\n",
    "\n",
    "group = \n",
    "method='spearman'\n",
    "enable_shuffle: bool=False\n",
    "\n",
    "if enable_shuffle:\n",
    "\trng = np.random.default_rng()\n",
    "\tshuffle_fn = lambda x: pd.Series(rng.permuted(x.values), index=x.index)  # x.values\n",
    "else:\n",
    "\tshuffle_fn = lambda x: x # no-op\n",
    "\n",
    "# correlations = {\n",
    "#     f'LR_Long_{method}': shuffle_fn(group['t_rel_seconds']).corr(group['LR_Long_pf_peak_x'], method=method),\n",
    "#     f'RL_Long_{method}': shuffle_fn(group['t_rel_seconds']).corr(group['RL_Long_pf_peak_x'], method=method),\n",
    "#     f'LR_Short_{method}': shuffle_fn(group['t_rel_seconds']).corr(group['LR_Short_pf_peak_x'], method=method),\n",
    "#     f'RL_Short_{method}': shuffle_fn(group['t_rel_seconds']).corr(group['RL_Short_pf_peak_x'], method=method)\n",
    "# }\n",
    "\n",
    "_decoder_names = track_templates.get_decoder_names()\n",
    "_pf_peak_x_column_names = [f'{a_decoder_name}_pf_peak_x' for a_decoder_name in _decoder_names]\n",
    "_output_column_names = [f'{a_decoder_name}_{method}' for a_decoder_name in _decoder_names]\n",
    "# correlations = {f'{a_decoder_name}_{method}': shuffle_fn(group['t_rel_seconds']).rank(method=\"dense\").corr(group[f'{a_decoder_name}_pf_peak_x'], method=method) for a_decoder_name in _decoder_names}\n",
    "correlations = {an_output_col_name: shuffle_fn(group['t_rel_seconds']).rank(method=\"dense\").corr(group[a_pf_peak_x_column_name], method=method) for a_decoder_name, a_pf_peak_x_column_name, an_output_col_name in zip(_decoder_names, _pf_peak_x_column_names, _output_column_names)}\n",
    "\n",
    "\n",
    "pd.Series(correlations)"
   ]
  },
  {
   "cell_type": "code",
   "execution_count": null,
   "id": "883b0a14",
   "metadata": {},
   "outputs": [],
   "source": [
    "real_stats_df.columns # Index(['Probe_Epoch_id', 'LR_Long_spearman', 'RL_Long_spearman', 'LR_Short_spearman', 'RL_Short_spearman', 'Probe_Epoch_id', 'LR_Long_pearson', 'RL_Long_pearson', 'LR_Short_pearson', 'RL_Short_pearson'], dtype='object')"
   ]
  },
  {
   "cell_type": "code",
   "execution_count": null,
   "id": "df2bc463",
   "metadata": {},
   "outputs": [],
   "source": [
    "real_stats_df[real_stats_df.label == active_plotter.active_epoch_label]"
   ]
  },
  {
   "cell_type": "code",
   "execution_count": null,
   "id": "d26da2de",
   "metadata": {},
   "outputs": [],
   "source": [
    "\n",
    "LR_only_aclus, RL_only_aclus = bidirectional_setdiff1d(track_templates.shared_LR_aclus_only_neuron_IDs, track_templates.shared_RL_aclus_only_neuron_IDs)\n",
    "# (array([ 2,  5,  6,  8, 19, 29, 30, 33, 34, 35, 43, 58, 83, 85, 86]),\n",
    "#  array([  4,  12,  14,  18,  20,  27,  28,  32,  38,  57,  59,  62,  63,  67,  70,  71,  90,  91,  95, 101]))\n",
    "len(LR_only_aclus)\n",
    "len(RL_only_aclus)\n"
   ]
  },
  {
   "cell_type": "code",
   "execution_count": null,
   "id": "c5c4dbf0",
   "metadata": {},
   "outputs": [],
   "source": [
    "\n",
    "curr_epoch_spikes_df = deepcopy(active_plotter.get_active_epoch_spikes_df())[['t_rel_seconds', 'aclu', 'shank', 'cluster', 'qclu', 'maze_id', 'flat_spike_idx', 'Probe_Epoch_id']]\n",
    "# curr_epoch_spikes_df[\"spike_rank\"] = curr_epoch_spikes_df[\"t_rel_seconds\"].rank(method=\"average\")\n",
    "# curr_epoch_spikes_df = curr_epoch_spikes_df.sort_values(['aclu']) # Sort by column: 'aclu' (ascending)\n",
    "template_df: pd.DataFrame = pd.DataFrame(track_templates.decoder_aclu_peak_rank_dict_dict)\n",
    "template_df = template_df.add_prefix('rank_').reset_index(names='aclu')\n",
    "spearman_rho_df = CurrTesting.compute_spearman_rank_order(spike_df=curr_epoch_spikes_df, template_df=template_df)\n",
    "print(spearman_rho_df)\n",
    "\n",
    "# template_df.columns # ['aclu', 'rank_long_LR', 'rank_long_RL', 'rank_short_LR', 'rank_short_RL']\n",
    "# template_df.reset_index(names='aclu')\n",
    "# template_df"
   ]
  },
  {
   "cell_type": "code",
   "execution_count": null,
   "id": "77043562",
   "metadata": {},
   "outputs": [],
   "source": [
    "merged_df = curr_epoch_spikes_df.merge(template_df, on=\"aclu\")\n",
    "merged_df[\"spike_rank\"] = merged_df[\"t_rel_seconds\"].rank(method=\"dense\")\n",
    "merged_df\n",
    "\n",
    "# list(track_templates.decoder_aclu_peak_rank_dict_dict.keys()) # ['long_LR', 'long_RL', 'short_LR', 'short_RL']\n",
    "\n",
    "# curr_rank_column_name: str = 'rank_long_LR' # \"rank\"\n",
    "# spearman_rho_df = merged_df.apply(lambda x: pd.Series({\"spearman_rho\": x[\"spike_rank\"]}, name=x.name), axis='index')\n",
    "\n",
    "spearman_rho_dict = {}\n",
    "for curr_rank_column_name in ['rank_long_LR', 'rank_long_RL', 'rank_short_LR', 'rank_short_RL']:\n",
    "\tspearman_rho_dict[curr_rank_column_name] = [merged_df[\"spike_rank\"].corr(merged_df[curr_rank_column_name], method=\"spearman\"), ]\n",
    "\n",
    "spearman_rho_dict\n",
    "spearman_rho_df = pd.DataFrame(spearman_rho_dict) # \n",
    "spearman_rho_df.columns = ['long_LR', 'long_RL', 'short_LR', 'short_RL']\n",
    "spearman_rho_df = spearman_rho_df.add_suffix('_spearman')\n",
    "# spearman_rho_df = merged_df.apply(\n",
    "# \tlambda x: pd.DataFrame(\n",
    "# \t\t{\"spearman_rho\": x[\"spike_rank\"]}, #.corr(x[curr_rank_column_name], method=\"spearman\")},\n",
    "# \t\tcolumns=[x.name],\n",
    "# \t),\n",
    "#     axis='index',\n",
    "# )\n",
    "spearman_rho_df\n"
   ]
  },
  {
   "cell_type": "code",
   "execution_count": null,
   "id": "eda6111c",
   "metadata": {},
   "outputs": [],
   "source": [
    "# Example usage\n",
    "\n",
    "spike_df = pd.DataFrame(\n",
    "    {\n",
    "        \"t_rel_seconds\": [10, 20, 30, 40, 50, 60],\n",
    "        \"aclu\": [1, 2, 1, 3, 2, 1],\n",
    "    }\n",
    ")\n",
    "template_df = pd.DataFrame(\n",
    "    {\n",
    "        \"aclu\": [1, 2, 3],\n",
    "        \"rank\": [3, 1, 2],\n",
    "    }\n",
    ")\n",
    "\n",
    "spearman_rho_df = CurrTesting.compute_spearman_rank_order(spike_df, template_df)\n",
    "\n",
    "print(spearman_rho_df)"
   ]
  },
  {
   "cell_type": "code",
   "execution_count": null,
   "id": "2f066a36",
   "metadata": {},
   "outputs": [],
   "source": [
    "real_long_rank_stats = scipy.stats.spearmanr(curr_epoch_spikes_aclus, template_corresponding_aclu_rank_list, nan_policy='omit')\n",
    "real_long_rank_stats"
   ]
  },
  {
   "cell_type": "code",
   "execution_count": null,
   "id": "1a9fb882",
   "metadata": {},
   "outputs": [],
   "source": []
  },
  {
   "cell_type": "code",
   "execution_count": null,
   "id": "2ab9f829",
   "metadata": {},
   "outputs": [],
   "source": [
    "## Get the ranks for the active aclus in the epoch:\n",
    "short_LR_peak_x_map = deepcopy(active_plotter.track_templates.get_decoder_aclu_peak_maps().short_LR)\n",
    "# np.unique(np.array(list(short_LR_peak_x_map.values())))\n",
    "\n",
    "assert CurrTesting.debug_detect_repeated_values(np.array(list(short_LR_peak_x_map.values()))) == {}, f\"No repeats allowed!\""
   ]
  },
  {
   "cell_type": "code",
   "execution_count": null,
   "id": "5faf59ae",
   "metadata": {},
   "outputs": [],
   "source": [
    "from neuropy.utils.mixins.peak_location_representing import compute_placefield_center_of_mass_positions\n",
    "\n",
    "compute_placefield_center_of_mass_positions"
   ]
  },
  {
   "cell_type": "code",
   "execution_count": null,
   "id": "23636d80",
   "metadata": {},
   "outputs": [],
   "source": [
    "ratemap: Ratemap = deepcopy(track_templates.long_LR_decoder.pf.ratemap)\n",
    "ratemap"
   ]
  },
  {
   "cell_type": "code",
   "execution_count": null,
   "id": "0b3fe1be",
   "metadata": {},
   "outputs": [],
   "source": [
    "from scipy.interpolate import interp1d\n",
    "\n",
    "def map_CoM_to_position_interp_array(xbin, tuning_curve_CoM_coordinates, xbin_edge_labels) -> NDArray:\n",
    "  \"\"\"\n",
    "  Maps center-of-mass coordinates back to actual positions as a flat numpy array.\n",
    "\n",
    "  Args:\n",
    "      xbin: np.array, the bin centers (not edges).\n",
    "      tuning_curve_CoM_coordinates: np.array, the center-of-mass coordinates for each tuning curve.\n",
    "      xbin_edge_labels: np.array, the bin edge labels (not center).\n",
    "\n",
    "  Returns:\n",
    "      positions: np.array, the estimated positions corresponding to the input center-of-mass values.\n",
    "  \"\"\"\n",
    "  positions = np.full_like(tuning_curve_CoM_coordinates, np.nan)\n",
    "  for i, CoM in enumerate(tuning_curve_CoM_coordinates):\n",
    "    # Find the bin containing the center-of-mass\n",
    "    bin_idx = (xbin_edge_labels <= CoM).sum() - 1\n",
    "    \n",
    "    # Check if CoM falls within the valid range\n",
    "    if bin_idx == 0 or bin_idx == len(xbin) - 1:\n",
    "      continue  # Skip invalid values and leave them as NaN\n",
    "\n",
    "    # Interpolate between bin edges\n",
    "    interpolator = interp1d(xbin_edge_labels[bin_idx:bin_idx+2], xbin[bin_idx:bin_idx+2], kind=\"linear\")\n",
    "    positions[i] = interpolator(CoM)\n",
    "  return positions\n",
    "\n",
    "def map_CoM_to_position_weighted_average(xbin, tuning_curve_CoM_coordinates, xbin_edge_labels):\n",
    "  \"\"\"\n",
    "  Maps center-of-mass coordinates back to actual positions using inverse weighted average.\n",
    "\n",
    "  Args:\n",
    "      xbin: np.array, the bin centers (not edges).\n",
    "      tuning_curve_CoM_coordinates: np.array, the center-of-mass coordinates for each tuning curve.\n",
    "      xbin_edge_labels: np.array, the bin edge labels (not center).\n",
    "\n",
    "  Returns:\n",
    "      positions: np.array, the estimated positions corresponding to the input center-of-mass values.\n",
    "  \"\"\"\n",
    "  positions = np.full_like(tuning_curve_CoM_coordinates, np.nan)\n",
    "  for i, CoM in enumerate(tuning_curve_CoM_coordinates):\n",
    "    # Find contributing bins\n",
    "    bin_idx1 = (xbin_edge_labels < CoM).sum() - 1\n",
    "    bin_idx2 = (xbin_edge_labels >= CoM).sum() - 1\n",
    "    \n",
    "    # Calculate weighted average if valid range\n",
    "    if bin_idx1 != -1 and bin_idx2 != len(xbin):\n",
    "      weights = tuning_curve_CoM_coordinates[bin_idx1:bin_idx2+1] - CoM\n",
    "      positions[i] = (weights * xbin[bin_idx1:bin_idx2+1]).sum() / weights.sum()\n",
    "\n",
    "  return positions\n",
    "\n",
    "from scipy.ndimage import gaussian_filter1d\n",
    "from scipy.interpolate import interp1d\n",
    "\n",
    "def map_CoM_to_position_smooth_interp(xbin, tuning_curve_CoM_coordinates, xbin_edge_labels, sigma=1):\n",
    "  \"\"\"\n",
    "  Maps center-of-mass coordinates back to actual positions using Gaussian smoothing and interpolation.\n",
    "\n",
    "  Args:\n",
    "      xbin: np.array, the bin centers (not edges).\n",
    "      tuning_curve_CoM_coordinates: np.array, the center-of-mass coordinates for each tuning curve.\n",
    "      xbin_edge_labels: np.array, the bin edge labels (not center).\n",
    "      sigma: float, the sigma parameter for Gaussian smoothing.\n",
    "\n",
    "  Returns:\n",
    "      positions: np.array, the estimated positions corresponding to the input center-of-mass values.\n",
    "  \"\"\"\n",
    "  smoothed_CoM = gaussian_filter1d(tuning_curve_CoM_coordinates, sigma)\n",
    "  positions = np.full_like(tuning_curve_CoM_coordinates, np.nan)\n",
    "  for i, CoM in enumerate(smoothed_CoM):\n",
    "    # Find interpolation bin and check validity\n",
    "    bin_idx = (xbin_edge_labels <= CoM).sum() - 1\n",
    "    if bin_idx < len(xbin) - 1:\n",
    "      # Perform linear interpolation between neighbors\n",
    "      interpolator = interp1d(xbin_edge_labels[bin_idx:bin_idx+2], xbin[bin_idx:bin_idx+2], kind=\"linear\")\n",
    "      positions[i] = interpolator(CoM)\n",
    "\n",
    "  return positions\n",
    "\n",
    "\n",
    "xbin_edge_labels = np.arange(len(ratemap.xbin)) # the index range spanning all x-bins\n",
    "xbin = deepcopy(ratemap.xbin)\n",
    "\n",
    "tuning_curve_CoM_coordinates = deepcopy(ratemap.peak_tuning_curve_center_of_masses)\n",
    "\n",
    "assert np.all(np.diff(xbin) > 0)\n",
    "\n",
    "\n",
    "# map_CoM_to_position_interp_array(xbin, tuning_curve_CoM_coordinates, xbin_edge_labels)\n",
    "\n",
    "test_CoM_df = pd.DataFrame({'simple_interp': np.interp(tuning_curve_CoM_coordinates, xp=xbin_edge_labels, fp=xbin),\n",
    "\t\t\t\t\t\t\t'interp': map_CoM_to_position_interp_array(xbin, tuning_curve_CoM_coordinates, xbin_edge_labels),\n",
    "                        #    'inv_weighted_avg': map_CoM_to_position_weighted_average(xbin, tuning_curve_CoM_coordinates, xbin_edge_labels),\n",
    "                           'smooth_interp': map_CoM_to_position_smooth_interp(xbin, tuning_curve_CoM_coordinates, xbin_edge_labels, sigma=0.1)})\n",
    "test_CoM_df\n",
    "# xbin: np.array([36.5862, 40.3916, 44.197, 48.0025, 51.8079, 55.6133, 59.4187, 63.2241, 67.0295, 70.835, 74.6404, 78.4458, 82.2512, 86.0566, 89.862, 93.6675, 97.4729, 101.278, 105.084, 108.889, 112.695, 116.5, 120.305, 124.111, 127.916, 131.722, 135.527, 139.332, 143.138, 146.943, 150.749, 154.554, 158.36, 162.165, 165.97, 169.776, 173.581, 177.387, 181.192, 184.997, 188.803, 192.608, 196.414, 200.219, 204.025, 207.83, 211.635, 215.441, 219.246, 223.052, 226.857, 230.662, 234.468, 238.273, 242.079, 245.884, 249.69])\n",
    "# tuning_curve_CoM_coordinates: np.array([22.3504, 33.5163, 36.219, 32.3855, 23.8594, 24.6407, 10.0726, 37.7695, 5.75679, 32.0758, 9.31427, 51.8735, 34.7201, 18.7215, 24.9917, 4.85872, 5.76916, 21.6332, 39.7348, 39.1924, 16.6196, 12.1798, 21.817, 15.8822, 7.94376, 46.0885, 24.9744, 18.708, 32.783, 46.3567, 40.9617, 30.5369, 47.7288, 19.5929, 37.7068, 50.7682, 18.0797, 30.9646, 18.4351, 26.3567, 46.3524, 9.01655, 42.9213, 33.1472, 7.45477, 11.561, 14.1151, 26.0069, 20.4058, 47.9163, 28.6427])\n",
    "# xbin_edge_labels: np.array([ 0,  1,  2,  3,  4,  5,  6,  7,  8,  9, 10, 11, 12, 13, 14, 15, 16, 17, 18, 19, 20, 21, 22, 23, 24, 25, 26, 27, 28, 29, 30, 31, 32, 33, 34, 35, 36, 37, 38, 39, 40, 41, 42, 43, 44, 45, 46, 47, 48, 49, 50, 51, 52, 53, 54, 55, 56])"
   ]
  },
  {
   "cell_type": "code",
   "execution_count": null,
   "id": "793e45e4",
   "metadata": {},
   "outputs": [],
   "source": []
  },
  {
   "cell_type": "code",
   "execution_count": null,
   "id": "3628f029",
   "metadata": {},
   "outputs": [],
   "source": [
    "ratemap.peak_tuning_curve_center_of_masses"
   ]
  },
  {
   "cell_type": "code",
   "execution_count": null,
   "id": "04ff314e",
   "metadata": {},
   "outputs": [],
   "source": [
    "curr_epoch_spikes_df.aclu.map(short_LR_peak_x_map) # 2023-12-20 - The core issue seems to involve missing values. For example, when an aclu is missing from this template, a NaN is returned.\n",
    "\n",
    "## ERROR HERE: \n",
    "# 280: aclu=79, result=122.208089\n",
    "# 281: aclu=48, result=122.208089\n",
    "# WHY WOULD THEY BE THE SAME?\n",
    "short_LR_peak_x_map[79]"
   ]
  },
  {
   "cell_type": "code",
   "execution_count": null,
   "id": "12ed94f1",
   "metadata": {},
   "outputs": [],
   "source": [
    "short_LR_peak_x_map[48]"
   ]
  },
  {
   "cell_type": "code",
   "execution_count": null,
   "id": "c8a2b11f",
   "metadata": {},
   "outputs": [],
   "source": [
    "\n"
   ]
  },
  {
   "cell_type": "code",
   "execution_count": null,
   "id": "6303391c",
   "metadata": {},
   "outputs": [],
   "source": [
    "# corrwith\n",
    "scipy.stats.spearmanr(active_epoch_aclu_short_ranks, actually_included_epoch_ranks) # Both arrays need to have the same length in the axis dimension."
   ]
  },
  {
   "cell_type": "code",
   "execution_count": null,
   "id": "8710deb2",
   "metadata": {},
   "outputs": [],
   "source": []
  },
  {
   "cell_type": "code",
   "execution_count": null,
   "id": "f48ac600",
   "metadata": {},
   "outputs": [],
   "source": []
  },
  {
   "cell_type": "code",
   "execution_count": null,
   "id": "98109834",
   "metadata": {},
   "outputs": [],
   "source": [
    "active_epochs_df = deepcopy(ripple_result_tuple.active_epochs)\n",
    "active_epochs_df"
   ]
  },
  {
   "cell_type": "code",
   "execution_count": null,
   "id": "c43543ad",
   "metadata": {},
   "outputs": [],
   "source": [
    "active_epochs_df = deepcopy(rank_order_results.LR_ripple.epochs_df)\n",
    "active_epochs_df"
   ]
  },
  {
   "cell_type": "code",
   "execution_count": null,
   "id": "b1963fa0",
   "metadata": {},
   "outputs": [],
   "source": []
  },
  {
   "cell_type": "code",
   "execution_count": null,
   "id": "51d8efe7",
   "metadata": {},
   "outputs": [],
   "source": [
    "print(list(rank_order_raster_debugger.global_spikes_df.columns)) # ['start', 'stop', 'label', 'duration', 'end', 'LR_Long_spearman', 'RL_Long_spearman', 'LR_Short_spearman', 'RL_Short_spearman', 'LR_Long_pearson', 'RL_Long_pearson', 'LR_Short_pearson', 'RL_Short_pearson', 'LR_Long_Old_Spearman', 'RL_Long_Old_Spearman', 'LR_Short_Old_Spearman', 'RL_Short_Old_Spearman', 'LR_Long_ActuallyIncludedAclus', 'LR_Long_rel_num_cells', 'RL_Long_ActuallyIncludedAclus', 'RL_Long_rel_num_cells', 'LR_Long_Z', 'RL_Long_Z', 'LR_Short_Z', 'RL_Short_Z']\n",
    "\n"
   ]
  },
  {
   "cell_type": "code",
   "execution_count": null,
   "id": "537629d3",
   "metadata": {},
   "outputs": [],
   "source": [
    "print(list(active_selected_spikes_df.columns)) # ['start', 'stop', 'label', 'duration', 'end', 'LR_Long_spearman', 'RL_Long_spearman', 'LR_Short_spearman', 'RL_Short_spearman', 'LR_Long_pearson', 'RL_Long_pearson', 'LR_Short_pearson', 'RL_Short_pearson', 'LR_Long_Old_Spearman', 'RL_Long_Old_Spearman', 'LR_Short_Old_Spearman', 'RL_Short_Old_Spearman', 'LR_Long_ActuallyIncludedAclus', 'LR_Long_rel_num_cells', 'RL_Long_ActuallyIncludedAclus', 'RL_Long_rel_num_cells', 'LR_Long_Z', 'RL_Long_Z', 'LR_Short_Z', 'RL_Short_Z']\n",
    "\n"
   ]
  },
  {
   "cell_type": "code",
   "execution_count": null,
   "id": "24b5b2f0",
   "metadata": {},
   "outputs": [],
   "source": [
    "print(list(active_epochs_df.columns)) # ['start', 'stop', 'label', 'duration', 'end', 'LR_Long_spearman', 'RL_Long_spearman', 'LR_Short_spearman', 'RL_Short_spearman', 'LR_Long_pearson', 'RL_Long_pearson', 'LR_Short_pearson', 'RL_Short_pearson', 'LR_Long_Old_Spearman', 'RL_Long_Old_Spearman', 'LR_Short_Old_Spearman', 'RL_Short_Old_Spearman', 'LR_Long_ActuallyIncludedAclus', 'LR_Long_rel_num_cells', 'RL_Long_ActuallyIncludedAclus', 'RL_Long_rel_num_cells', 'LR_Long_Z', 'RL_Long_Z', 'LR_Short_Z', 'RL_Short_Z']\n",
    "\n",
    "\n",
    "a_row, a_label = get_epoch_label_row(188)\n",
    "a_row\n",
    "\n"
   ]
  },
  {
   "cell_type": "code",
   "execution_count": null,
   "id": "2e08152a",
   "metadata": {},
   "outputs": [],
   "source": [
    "a_row = list(a_row.itertuples())[0]"
   ]
  },
  {
   "cell_type": "code",
   "execution_count": null,
   "id": "2cd51cc0",
   "metadata": {},
   "outputs": [],
   "source": [
    "list(rank_order_raster_debugger.plots_data.keys())\n"
   ]
  },
  {
   "cell_type": "code",
   "execution_count": null,
   "id": "04c4165f",
   "metadata": {},
   "outputs": [],
   "source": [
    "debug_update_plot_titles(rank_order_raster_debugger, an_idx=20)"
   ]
  },
  {
   "cell_type": "code",
   "execution_count": null,
   "id": "aa84ac7f",
   "metadata": {},
   "outputs": [],
   "source": [
    "a_debug_callback_fn(rank_order_raster_debugger, an_idx=20)"
   ]
  },
  {
   "cell_type": "code",
   "execution_count": null,
   "id": "7953c047",
   "metadata": {},
   "outputs": [],
   "source": [
    "list(rank_order_raster_debugger.plots.root_plots.keys())\n"
   ]
  },
  {
   "cell_type": "code",
   "execution_count": null,
   "id": "f84a6dce",
   "metadata": {},
   "outputs": [],
   "source": [
    "directional_likelihoods_tuple: DirectionalRankOrderLikelihoods = ripple_result_tuple.directional_likelihoods_tuple\n",
    "directional_likelihoods_tuple.long_best_direction_indices\n",
    "ripple_result_tuple.rank_order_z_score_df"
   ]
  },
  {
   "cell_type": "code",
   "execution_count": null,
   "id": "9782963d",
   "metadata": {},
   "outputs": [],
   "source": [
    "ripple_result_tuple.rank_order_z_score_df.label"
   ]
  },
  {
   "cell_type": "markdown",
   "id": "1e4b438c",
   "metadata": {
    "notebookRunGroups": {
     "groupValue": "21"
    }
   },
   "source": [
    "### Independent DirectionalTemplatePFsDebugger for testing"
   ]
  },
  {
   "cell_type": "code",
   "execution_count": null,
   "id": "a5f7ac4e",
   "metadata": {
    "notebookRunGroups": {
     "groupValue": "3"
    },
    "tags": [
     "figure"
    ]
   },
   "outputs": [],
   "source": [
    "\n",
    "\n",
    "from pyphoplacecellanalysis.GUI.PyQtPlot.Widgets.ContainerBased.TemplateDebugger import TemplateDebugger\n",
    "\n",
    "# _display_directional_laps_overview:\n",
    "curr_active_pipeline.prepare_for_display()\n",
    "curr_active_pipeline.reload_default_display_functions()\n",
    "session_description: str = curr_active_pipeline.get_session_context().get_description()\n",
    "print(f'session_description: {session_description}')\n",
    "pg.setConfigOptions(imageAxisOrder='row-major')\n",
    "# _out = curr_active_pipeline.display(DirectionalPlacefieldGlobalDisplayFunctions._display_directional_laps_overview)\n",
    "_out_all_cells_directional_template_pfs_debugger = curr_active_pipeline.display(DirectionalPlacefieldGlobalDisplayFunctions._display_directional_template_debugger, included_any_context_neuron_ids=None, figure_name='All Cells (Independent)', \n",
    "                                                                                debug_print=True, debug_draw=True)\n",
    "all_cells_directional_template_pfs_debugger: TemplateDebugger = _out_all_cells_directional_template_pfs_debugger['obj']\n",
    "plots = all_cells_directional_template_pfs_debugger.plots\n"
   ]
  },
  {
   "cell_type": "code",
   "execution_count": null,
   "id": "ca5816a1",
   "metadata": {},
   "outputs": [],
   "source": [
    "plots_data = all_cells_directional_template_pfs_debugger.plots_data\n",
    "plots_data.all_attributes"
   ]
  },
  {
   "cell_type": "code",
   "execution_count": null,
   "id": "3068edde",
   "metadata": {},
   "outputs": [],
   "source": [
    "# extent=(0, 200, 0, 100)\n",
    "a_decoder_name = 'long_LR'\n",
    "a_decoder =  all_cells_directional_template_pfs_debugger.decoders_dict[a_decoder_name]\n",
    "a_decoder.pf.ratemap.xbin\n"
   ]
  },
  {
   "cell_type": "code",
   "execution_count": null,
   "id": "83656a91",
   "metadata": {},
   "outputs": [],
   "source": [
    "def convert_extents(xmin, xmax, ymin, ymax):\n",
    "    # (x, y, w, h)\n",
    "    return (xmin, ymin, (xmax-xmin), (ymax-xmin))\n",
    "\n"
   ]
  },
  {
   "cell_type": "code",
   "execution_count": null,
   "id": "c85c35f4",
   "metadata": {},
   "outputs": [],
   "source": [
    "[len(v) for v in plots_data.sorted_neuron_IDs_lists]\n",
    "\n",
    "# img_extents_dict = {a_decoder_name:[a_decoder.pf.ratemap.xbin[0], a_decoder.pf.ratemap.xbin[-1], 0, float(len(plots_data.sorted_neuron_IDs_lists[i]))] for i, (a_decoder_name, a_decoder) in enumerate(all_cells_directional_template_pfs_debugger.decoders_dict.items()) } # these extents are  (xmin, xmax, ymin, ymax) \n",
    "img_extents_dict = {a_decoder_name:[a_decoder.pf.ratemap.xbin[0], 0, (a_decoder.pf.ratemap.xbin[-1]-a_decoder.pf.ratemap.xbin[0]), (float(len(plots_data.sorted_neuron_IDs_lists[i]))-0.0)] for i, (a_decoder_name, a_decoder) in enumerate(all_cells_directional_template_pfs_debugger.decoders_dict.items()) } # these extents are  (x, y, w, h)\n",
    "\n",
    "for a_decoder_name, (curr_win, curr_img) in plots.pf1D_heatmaps.items():\n",
    "    print(f'a_decoder_name: {a_decoder_name}, img_extents_dict[a_decoder_name]: {img_extents_dict[a_decoder_name]}')\n",
    "    curr_win.showAxes(True)\n",
    "    # Set the extent to map pixels to x-locations\n",
    "    curr_img.setRect(img_extents_dict[a_decoder_name])\n"
   ]
  },
  {
   "cell_type": "code",
   "execution_count": null,
   "id": "97f5b182",
   "metadata": {},
   "outputs": [],
   "source": [
    "a_ratemap: Ratemap = a_decoder.pf.ratemap\n",
    "active_n_cells = 3\n",
    "y_max = float(active_n_cells) + 0.5\n",
    "img_extents = [a_ratemap.xbin[0], a_ratemap.xbin[-1], 0, y_max] # (xmin, xmax, ymin, ymax)\n",
    "img_extents\n"
   ]
  },
  {
   "cell_type": "code",
   "execution_count": null,
   "id": "6eccad6e",
   "metadata": {},
   "outputs": [],
   "source": [
    "\n",
    "curr_win, curr_img = plots.pf1D_heatmaps[a_decoder_name] # win, img\n",
    "curr_win.showAxes(True)\n",
    "# curr_img.ImageItem\n",
    "# all_cells_directional_template_pfs_debugger.plots.\n",
    "# a_view_box = an_image_item.getViewBox()\n",
    "# a_plot_widget\n",
    "\n",
    "# Set the extent to map pixels to x-locations\n",
    "img_item.setAttr(extent=(0, 200, 0, 100))\n",
    "\n",
    "plots_data"
   ]
  },
  {
   "cell_type": "code",
   "execution_count": null,
   "id": "8b547db3",
   "metadata": {},
   "outputs": [],
   "source": [
    "\n",
    "all_cells_directional_template_pfs_debugger.plots_data.sorted_pf_peak_location_list\n",
    "\n",
    "\n"
   ]
  },
  {
   "cell_type": "code",
   "execution_count": null,
   "id": "780c30ec",
   "metadata": {},
   "outputs": [],
   "source": [
    "from PendingNotebookCode import PyQtGraphCrosshairs\n",
    "\n",
    "\n",
    "\n"
   ]
  },
  {
   "cell_type": "code",
   "execution_count": null,
   "id": "4720cdac",
   "metadata": {},
   "outputs": [],
   "source": [
    ".data.sorted_pf_peak_location_list"
   ]
  },
  {
   "cell_type": "code",
   "execution_count": null,
   "id": "463fdeb9",
   "metadata": {},
   "outputs": [],
   "source": [
    "## Just compute line point locations... EZ.\n"
   ]
  },
  {
   "cell_type": "code",
   "execution_count": null,
   "id": "dd514e35",
   "metadata": {},
   "outputs": [],
   "source": [
    "curr_active_pipeline.registered_display_function_docs_dict"
   ]
  },
  {
   "cell_type": "code",
   "execution_count": null,
   "id": "d589de5a",
   "metadata": {},
   "outputs": [],
   "source": [
    "curr_active_pipeline.display('_display_1d_placefield_occupancy', long_LR_context)"
   ]
  },
  {
   "cell_type": "code",
   "execution_count": null,
   "id": "fe0d6049",
   "metadata": {},
   "outputs": [],
   "source": [
    "rois = []\n",
    "rois.append(pg.RectROI([20, 20], [20, 20], pen=(0,9)))\n"
   ]
  },
  {
   "cell_type": "code",
   "execution_count": null,
   "id": "abc6b65a",
   "metadata": {},
   "outputs": [],
   "source": [
    "\n",
    "# Function to handle hover event\n",
    "def hoverEvent(pos):\n",
    "    print(f'hoverEvent')\n",
    "    index = int(pos.x())\n",
    "    region.setRegion([index, index + 1])  # Highlight the entire row\n",
    "\n",
    "# Add LinearRegionItem for highlighting\n",
    "region = pg.LinearRegionItem(brush='#FFFFFF', hoverBrush='#FFFFFF', movable=False, clipItem=an_image_item)\n",
    "region.setZValue(10)\n",
    "\n",
    "a_plot_widget.addItem(region, ignoreBounds=True)\n",
    "\n",
    "# Connect hover event\n",
    "a_plot_widget.scene().sigMouseMoved.connect(hoverEvent)\n",
    "\n",
    "region.setRegion([0.0, 10.0 + 1])"
   ]
  },
  {
   "cell_type": "code",
   "execution_count": null,
   "id": "4f48594d",
   "metadata": {},
   "outputs": [],
   "source": [
    "from pyphoplacecellanalysis.General.Pipeline.Stages.ComputationFunctions.MultiContextComputationFunctions.RankOrderComputations import RankOrderAnalyses\n",
    "\n",
    "## Main\n",
    "ripple_result_tuple, laps_result_tuple = RankOrderAnalyses.most_likely_directional_rank_order_shuffling(curr_active_pipeline, decoding_time_bin_size=0.003)\n",
    "ripple_result_tuple"
   ]
  },
  {
   "cell_type": "code",
   "execution_count": null,
   "id": "296afed9",
   "metadata": {},
   "outputs": [],
   "source": [
    "laps_result_tuple"
   ]
  },
  {
   "cell_type": "code",
   "execution_count": null,
   "id": "886bed92",
   "metadata": {},
   "outputs": [],
   "source": [
    "curr_active_pipeline.global_computation_results.computed_data['RankOrder'].ripple_most_likely_result_tuple, curr_active_pipeline.global_computation_results.computed_data['RankOrder'].laps_most_likely_result_tuple = RankOrderAnalyses.most_likely_directional_rank_order_shuffling(curr_active_pipeline, decoding_time_bin_size=0.006) # 6ms bins"
   ]
  },
  {
   "cell_type": "markdown",
   "id": "220c19f9",
   "metadata": {
    "notebookRunGroups": {
     "groupValue": "2"
    }
   },
   "source": [
    "# Plot the z-scores differences and their raw-values"
   ]
  },
  {
   "cell_type": "code",
   "execution_count": null,
   "id": "8a1cad5d",
   "metadata": {},
   "outputs": [],
   "source": [
    "from pyphoplacecellanalysis.General.Pipeline.Stages.ComputationFunctions.MultiContextComputationFunctions.RankOrderComputations import plot_rank_order_epoch_inst_fr_result_tuples\n",
    "\n",
    "ripple_outputs = plot_rank_order_epoch_inst_fr_result_tuples(curr_active_pipeline, ripple_result_tuple, 'Ripple')"
   ]
  },
  {
   "cell_type": "code",
   "execution_count": null,
   "id": "a156df8d",
   "metadata": {},
   "outputs": [],
   "source": [
    "# Usage of the function for Lap\n",
    "lap_outputs = plot_rank_order_epoch_inst_fr_result_tuples(curr_active_pipeline, laps_result_tuple, 'Lap')"
   ]
  },
  {
   "cell_type": "code",
   "execution_count": null,
   "id": "b0ba64ce",
   "metadata": {
    "notebookRunGroups": {
     "groupValue": "2"
    }
   },
   "outputs": [],
   "source": [
    "# result_tuple.plot_histograms()\n",
    "from pyphoplacecellanalysis.General.Pipeline.Stages.ComputationFunctions.MultiContextComputationFunctions.RankOrderComputations import plot_rank_order_histograms\n",
    "\n",
    "# Plot histograms:\n",
    "post_title_info: str = f'{minimum_inclusion_fr_Hz} Hz\\n{curr_active_pipeline.get_session_context().get_description()}'\n",
    "_out_z_score, _out_real, _out_most_likely_z, _out_most_likely_raw = plot_rank_order_histograms(rank_order_results, post_title_info=post_title_info)\n"
   ]
  },
  {
   "cell_type": "code",
   "execution_count": null,
   "id": "e0a7ded7",
   "metadata": {},
   "outputs": [],
   "source": [
    "## Get the raw spearman_rho values for the best-direction for both Long/Short:\n",
    "# Adds ['Long_BestDir_spearman', 'Short_BestDir_spearman']\n",
    "\n",
    "## Ripples:\n",
    "long_best_direction_indicies = deepcopy(rank_order_results.ripple_most_likely_result_tuple.directional_likelihoods_tuple.long_best_direction_indices)\n",
    "short_best_direction_indicies = deepcopy(rank_order_results.ripple_most_likely_result_tuple.directional_likelihoods_tuple.short_best_direction_indices)\n",
    "assert np.shape(long_best_direction_indicies) == np.shape(short_best_direction_indicies)\n",
    "\n",
    "ripple_evts_long_best_dir_raw_stats_values = np.where(long_best_direction_indicies, rank_order_results.ripple_combined_epoch_stats_df['LR_Long_spearman'].to_numpy(), rank_order_results.ripple_combined_epoch_stats_df['RL_Long_spearman'].to_numpy())\n",
    "ripple_evts_short_best_dir_raw_stats_values = np.where(short_best_direction_indicies, rank_order_results.ripple_combined_epoch_stats_df['LR_Short_spearman'].to_numpy(), rank_order_results.ripple_combined_epoch_stats_df['RL_Short_spearman'].to_numpy())\n",
    "assert np.shape(ripple_evts_long_best_dir_raw_stats_values) == np.shape(ripple_evts_short_best_dir_raw_stats_values)\n",
    "rank_order_results.ripple_combined_epoch_stats_df['Long_BestDir_spearman'] = ripple_evts_long_best_dir_raw_stats_values\n",
    "rank_order_results.ripple_combined_epoch_stats_df['Short_BestDir_spearman'] = ripple_evts_short_best_dir_raw_stats_values\n",
    "\n",
    "## Laps\n",
    "long_best_direction_indicies = deepcopy(laps_result_tuple.directional_likelihoods_tuple.long_best_direction_indices)\n",
    "short_best_direction_indicies = deepcopy(laps_result_tuple.directional_likelihoods_tuple.short_best_direction_indices)\n",
    "assert np.shape(long_best_direction_indicies) == np.shape(short_best_direction_indicies)\n",
    "\n",
    "laps_evts_long_best_dir_raw_stats_values = np.where(long_best_direction_indicies, rank_order_results.laps_combined_epoch_stats_df['LR_Long_spearman'].to_numpy(), rank_order_results.laps_combined_epoch_stats_df['RL_Long_spearman'].to_numpy())\n",
    "laps_evts_short_best_dir_raw_stats_values = np.where(short_best_direction_indicies, rank_order_results.laps_combined_epoch_stats_df['LR_Short_spearman'].to_numpy(), rank_order_results.laps_combined_epoch_stats_df['RL_Short_spearman'].to_numpy())\n",
    "assert np.shape(laps_evts_long_best_dir_raw_stats_values) == np.shape(laps_evts_short_best_dir_raw_stats_values)\n",
    "rank_order_results.laps_combined_epoch_stats_df['Long_BestDir_spearman'] = laps_evts_long_best_dir_raw_stats_values\n",
    "rank_order_results.laps_combined_epoch_stats_df['Short_BestDir_spearman'] = laps_evts_short_best_dir_raw_stats_values\n",
    "\n",
    "rank_order_results.ripple_combined_epoch_stats_df"
   ]
  },
  {
   "cell_type": "code",
   "execution_count": null,
   "id": "143279df",
   "metadata": {},
   "outputs": [],
   "source": [
    "\n",
    "active_LR_ripple_long_z_score"
   ]
  },
  {
   "cell_type": "code",
   "execution_count": null,
   "id": "759d5a40",
   "metadata": {},
   "outputs": [],
   "source": [
    "[len(x) for x in track_templates.decoder_neuron_IDs_list]\n"
   ]
  },
  {
   "cell_type": "code",
   "execution_count": null,
   "id": "44ad1409",
   "metadata": {},
   "outputs": [],
   "source": [
    "directional_likelihoods_df.plot.bar(y=['long_relative_direction_likelihoods', 'short_relative_direction_likelihoods'])"
   ]
  },
  {
   "cell_type": "code",
   "execution_count": null,
   "id": "76430f39",
   "metadata": {},
   "outputs": [],
   "source": [
    "an_idx: int = 154\n",
    "# a_label = lookup_label_from_index(an_idx)\n",
    "# a_label"
   ]
  },
  {
   "cell_type": "code",
   "execution_count": null,
   "id": "3d02079d",
   "metadata": {},
   "outputs": [],
   "source": [
    "active_selected_spikes_df[active_selected_spikes_df['Probe_Epoch_id'] == an_idx]['aclu'].count()"
   ]
  },
  {
   "cell_type": "code",
   "execution_count": null,
   "id": "6b7eeab7",
   "metadata": {},
   "outputs": [],
   "source": [
    "active_selected_spikes_df[active_selected_spikes_df['Probe_Epoch_id'] == an_idx].plot.scatter(x='t_rel_seconds', y='LR_Long_pf_peak_x')"
   ]
  },
  {
   "cell_type": "code",
   "execution_count": null,
   "id": "c36856cb",
   "metadata": {},
   "outputs": [],
   "source": [
    "## filter events by (|z| > 1.0)\n",
    "ripple_result_tuple.active_epochs\n",
    "ripple_result_tuple.long_best_dir_z_score_values"
   ]
  },
  {
   "cell_type": "code",
   "execution_count": null,
   "id": "de5402b9",
   "metadata": {},
   "outputs": [],
   "source": [
    "# ripple_result_tuple.directional_likelihoods_tuple\n",
    "ripple_result_tuple.directional_likelihoods_tuple.long_best_direction_indices[105] # 1, "
   ]
  },
  {
   "cell_type": "code",
   "execution_count": null,
   "id": "23ac85b9",
   "metadata": {},
   "outputs": [],
   "source": [
    "ripple_result_tuple.directional_likelihoods_tuple.short_best_direction_indices[105]"
   ]
  },
  {
   "cell_type": "code",
   "execution_count": null,
   "id": "751e2ba3",
   "metadata": {},
   "outputs": [],
   "source": [
    "ripple_result_tuple.long_best_dir_z_score_values[105]"
   ]
  },
  {
   "cell_type": "code",
   "execution_count": null,
   "id": "9372e0f2",
   "metadata": {},
   "outputs": [],
   "source": [
    "ripple_result_tuple.short_best_dir_z_score_values[105]"
   ]
  },
  {
   "cell_type": "code",
   "execution_count": null,
   "id": "e57c1873",
   "metadata": {},
   "outputs": [],
   "source": [
    "ripple_result_tuple.active_epochs"
   ]
  },
  {
   "cell_type": "code",
   "execution_count": null,
   "id": "905e6b71",
   "metadata": {},
   "outputs": [],
   "source": [
    "np.shape(ripple_result_tuple.long_best_dir_z_score_values)"
   ]
  },
  {
   "cell_type": "code",
   "execution_count": null,
   "id": "ff13302a",
   "metadata": {},
   "outputs": [],
   "source": [
    "np.shape(ripple_result_tuple.short_best_dir_z_score_values)"
   ]
  },
  {
   "cell_type": "code",
   "execution_count": null,
   "id": "c18e3936",
   "metadata": {},
   "outputs": [],
   "source": [
    "global_replays.n_epochs"
   ]
  },
  {
   "cell_type": "code",
   "execution_count": null,
   "id": "9e99e913",
   "metadata": {},
   "outputs": [],
   "source": [
    "global_replays"
   ]
  },
  {
   "cell_type": "code",
   "execution_count": null,
   "id": "4d468a50",
   "metadata": {},
   "outputs": [],
   "source": [
    "ratemap = long_pf1D.ratemap\n",
    "ratemap.tuning_curve_unsmoothed_peak_firing_rates"
   ]
  },
  {
   "cell_type": "code",
   "execution_count": null,
   "id": "77bebb16",
   "metadata": {},
   "outputs": [],
   "source": [
    "type(rank_order_results)"
   ]
  },
  {
   "cell_type": "code",
   "execution_count": null,
   "id": "628ae69d",
   "metadata": {},
   "outputs": [],
   "source": [
    "ripple_result_tuple.directional_likelihoods_tuple.long_relative_direction_likelihoods.shape"
   ]
  },
  {
   "cell_type": "code",
   "execution_count": null,
   "id": "be485e17",
   "metadata": {},
   "outputs": [],
   "source": [
    "ripple_result_tuple.directional_likelihoods_tuple.short_relative_direction_likelihoods.shape"
   ]
  },
  {
   "cell_type": "code",
   "execution_count": null,
   "id": "dcd965be",
   "metadata": {},
   "outputs": [],
   "source": [
    "ripple_result_tuple.directional_likelihoods_tuple.long_best_direction_indices"
   ]
  },
  {
   "cell_type": "code",
   "execution_count": null,
   "id": "0750edae",
   "metadata": {},
   "outputs": [],
   "source": [
    "ripple_result_tuple.short_best_dir_z_score_values"
   ]
  },
  {
   "cell_type": "code",
   "execution_count": null,
   "id": "3213cd164073dbb3",
   "metadata": {
    "ExecuteTime": {
     "end_time": "2023-11-16T23:24:06.810860500Z",
     "start_time": "2023-11-16T23:24:06.644858700Z"
    }
   },
   "outputs": [],
   "source": [
    "# 2023-11-16_LapsRankOrderHistogram Figure:\n",
    "pd.DataFrame({'long_z_scores': laps_result_tuple.long_best_dir_z_score_values, 'short_z_scores': laps_result_tuple.short_best_dir_z_score_values}).hist()"
   ]
  },
  {
   "cell_type": "markdown",
   "id": "f1f2a9a6",
   "metadata": {},
   "source": [
    "# Create a new `SpikeRaster2D` instance using `_display_spike_raster_pyqtplot_2D` and capture its outputs:\n"
   ]
  },
  {
   "cell_type": "code",
   "execution_count": null,
   "id": "7cc87fb8",
   "metadata": {},
   "outputs": [],
   "source": [
    "curr_active_pipeline.prepare_for_display()"
   ]
  },
  {
   "cell_type": "code",
   "execution_count": null,
   "id": "82cc7400",
   "metadata": {},
   "outputs": [],
   "source": [
    "# Create a new `SpikeRaster2D` instance using `_display_spike_raster_pyqtplot_2D` and capture its outputs:\n",
    "# active_2d_plot, active_3d_plot, spike_raster_window = curr_active_pipeline.plot._display_spike_rasters_pyqtplot_2D()\n",
    "\n",
    "active_2d_plot, active_3d_plot, spike_raster_window = curr_active_pipeline.display('_display_spike_rasters_pyqtplot_2D', 'maze_any') # 'maze_any'\n"
   ]
  },
  {
   "cell_type": "code",
   "execution_count": null,
   "id": "39840338",
   "metadata": {},
   "outputs": [],
   "source": [
    "active_2d_plot, active_3d_plot, spike_raster_window = curr_active_pipeline.plot._display_spike_rasters_pyqtplot_2D()\n"
   ]
  },
  {
   "cell_type": "code",
   "execution_count": null,
   "id": "e75eb376",
   "metadata": {},
   "outputs": [],
   "source": [
    "spike_raster_window"
   ]
  },
  {
   "cell_type": "code",
   "execution_count": null,
   "id": "10b7afeb",
   "metadata": {},
   "outputs": [],
   "source": [
    "spikes_window = spike_raster_window.spikes_window # SpikesDataframeWindow\n",
    "\n",
    "bottomPlaybackControlBarWidget = spike_raster_window.ui.bottomPlaybackControlBarWidget # Spike3DRasterBottomPlaybackControlBar \n",
    "\n",
    "doubleSpinBox_ActiveWindowStartTime = bottomPlaybackControlBarWidget.ui.doubleSpinBox_ActiveWindowStartTime\n",
    "doubleSpinBox_ActiveWindowEndTime = bottomPlaybackControlBarWidget.ui.doubleSpinBox_ActiveWindowEndTime\n",
    "\n",
    "\n",
    "# spikes_window.timeWindow.start\n",
    "# spikes_window.active_window_start_time\n",
    "# spikes_window.update_window_start_end(451.8908457518555, 451.9895490613999) ## Works but does not trigger refresh/update of the window. The changes are reflected as soon as you try to scroll at all though.\n",
    "# spikes_window.active_window_end_time\n",
    "\n",
    "print(f'spikes_window.active_window_start_time: {spikes_window.active_window_start_time}, spikes_window.active_window_end_time: {spikes_window.active_window_end_time}')\n",
    "# need to block signals:\n",
    "# doubleSpinBox_ActiveWindowStartTime.blockSignals(True)\n",
    "# doubleSpinBox_ActiveWindowEndTime.blockSignals(True)\n",
    "doubleSpinBox_ActiveWindowStartTime.setValue(spikes_window.active_window_start_time)\n",
    "doubleSpinBox_ActiveWindowEndTime.setValue(spikes_window.active_window_end_time)\n",
    "# doubleSpinBox_ActiveWindowStartTime.blockSignals(False) # unblock the signals when done\n",
    "# doubleSpinBox_ActiveWindowEndTime.blockSignals(False)\n",
    "\n",
    "\n",
    "# @pyqtExceptionPrintingSlot(float, float)\n",
    "def on_active_window_changed(start_t, end_t, _obj):\n",
    "\t# need to block signals:\n",
    "\t# doubleSpinBox_ActiveWindowStartTime.blockSignals(True)\n",
    "\t# doubleSpinBox_ActiveWindowEndTime.blockSignals(True)\n",
    "\tif start_t is not None:\n",
    "\t\tdoubleSpinBox_ActiveWindowStartTime.setValue(start_t)\n",
    "\tif end_t is not None:\n",
    "\t\tdoubleSpinBox_ActiveWindowEndTime.setValue(end_t)\n",
    "\t# doubleSpinBox_ActiveWindowStartTime.blockSignals(False) # unblock the signals when done\n",
    "\t# doubleSpinBox_ActiveWindowEndTime.blockSignals(False)\n",
    "\n",
    "curr_window_ctrls_connection = spikes_window.windowed_data_window_updated_signal.connect(on_active_window_changed)\n"
   ]
  },
  {
   "cell_type": "code",
   "execution_count": null,
   "id": "113a3acd",
   "metadata": {},
   "outputs": [],
   "source": [
    "doubleSpinBox_ActiveWindowStartTime.setReadOnly(True)\n",
    "doubleSpinBox_ActiveWindowEndTime.setReadOnly(True)\n",
    "\n",
    "spikes_window.on_window_changed.connect("
   ]
  },
  {
   "cell_type": "code",
   "execution_count": null,
   "id": "8319e362",
   "metadata": {},
   "outputs": [],
   "source": [
    "doubleSpinBox_ActiveWindowStartTime.setVisible(False)\n",
    "bottomPlaybackControlBarWidget.setVisible(False)"
   ]
  },
  {
   "cell_type": "code",
   "execution_count": null,
   "id": "01d043d6",
   "metadata": {},
   "outputs": [],
   "source": [
    "# global_epoch_context\n",
    "curr_active_pipeline.reload_default_display_functions()\n",
    "# curr_active_pipeline.prepare_for_display()\n",
    "curr_active_pipeline.clear_display_outputs()\n"
   ]
  },
  {
   "cell_type": "code",
   "execution_count": null,
   "id": "2441e547",
   "metadata": {},
   "outputs": [],
   "source": [
    "# Gets the existing SpikeRasterWindow or creates a new one if one doesn't already exist:\n",
    "from pyphocorehelpers.gui.Qt.TopLevelWindowHelper import TopLevelWindowHelper\n",
    "import pyphoplacecellanalysis.External.pyqtgraph as pg # Used to get the app for TopLevelWindowHelper.top_level_windows\n",
    "## For searching with `TopLevelWindowHelper.all_widgets(...)`:\n",
    "from pyphoplacecellanalysis.GUI.PyQtPlot.Widgets.SpikeRasterWidgets.Spike2DRaster import Spike2DRaster\n",
    "from pyphoplacecellanalysis.GUI.PyQtPlot.Widgets.SpikeRasterWidgets.Spike3DRaster import Spike3DRaster\n",
    "from pyphoplacecellanalysis.GUI.Qt.SpikeRasterWindows.Spike3DRasterWindowWidget import Spike3DRasterWindowWidget\n",
    "\n",
    "found_spike_raster_windows = TopLevelWindowHelper.all_widgets(pg.mkQApp(), searchType=Spike3DRasterWindowWidget)\n",
    "\n",
    "if len(found_spike_raster_windows) < 1:\n",
    "\t# no existing spike_raster_windows. Make a new one\n",
    "\tprint(f'no existing SpikeRasterWindow. Creating a new one.')\n",
    "\t# Create a new `SpikeRaster2D` instance using `_display_spike_raster_pyqtplot_2D` and capture its outputs:\n",
    "\t# active_2d_plot, active_3d_plot, spike_raster_window = curr_active_pipeline.plot._display_spike_rasters_pyqtplot_2D()\n",
    "\n",
    "\tactive_2d_plot, active_3d_plot, spike_raster_window = curr_active_pipeline.plot._display_spike_rasters_pyqtplot_2D()\n",
    "\n",
    "else:\n",
    "\tprint(f'found {len(found_spike_raster_windows)} existing Spike3DRasterWindowWidget windows using TopLevelWindowHelper.all_widgets(...). Will use the most recent.')\n",
    "\t# assert len(found_spike_raster_windows) == 1, f\"found {len(found_spike_raster_windows)} Spike3DRasterWindowWidget windows using TopLevelWindowHelper.all_widgets(...) but require exactly one.\"\n",
    "\t# Get the most recent existing one and reuse that:\n",
    "\tspike_raster_window = found_spike_raster_windows[0]\n",
    "\n",
    "\n",
    "# Extras:\n",
    "active_2d_plot = spike_raster_window.spike_raster_plt_2d # <pyphoplacecellanalysis.GUI.PyQtPlot.Widgets.SpikeRasterWidgets.Spike2DRaster.Spike2DRaster at 0x196c7244280>\n",
    "active_3d_plot = spike_raster_window.spike_raster_plt_3d # <pyphoplacecellanalysis.GUI.PyQtPlot.Widgets.SpikeRasterWidgets.Spike2DRaster.Spike2DRaster at 0x196c7244280>\n",
    "main_graphics_layout_widget = active_2d_plot.ui.main_graphics_layout_widget # GraphicsLayoutWidget\n",
    "main_plot_widget = active_2d_plot.plots.main_plot_widget # PlotItem\n",
    "background_static_scroll_plot_widget = active_2d_plot.plots.background_static_scroll_window_plot # PlotItem"
   ]
  },
  {
   "cell_type": "code",
   "execution_count": null,
   "id": "7c6338da",
   "metadata": {},
   "outputs": [],
   "source": [
    "spike_raster_window.isVisible() # False\n",
    "# spike_raster_window.show()\n",
    "spike_raster_window.close()"
   ]
  },
  {
   "cell_type": "code",
   "execution_count": null,
   "id": "0bafe4df",
   "metadata": {},
   "outputs": [],
   "source": [
    "spike_raster_window.connection_man.active_connections"
   ]
  },
  {
   "cell_type": "code",
   "execution_count": null,
   "id": "0a801d59",
   "metadata": {},
   "outputs": [],
   "source": [
    "found_any_window = TopLevelWindowHelper.top_level_windows(pg.mkQApp())\n",
    "found_any_window"
   ]
  },
  {
   "cell_type": "code",
   "execution_count": null,
   "id": "17d815bb",
   "metadata": {},
   "outputs": [],
   "source": [
    "# print windows:\n",
    "[print_widget_hierarchy(v) for k, v in found_any_window.items()]"
   ]
  },
  {
   "cell_type": "code",
   "execution_count": null,
   "id": "5c00e166",
   "metadata": {},
   "outputs": [],
   "source": [
    "_display_out = curr_active_pipeline.last_added_display_output\n"
   ]
  },
  {
   "cell_type": "code",
   "execution_count": null,
   "id": "b06ea13e",
   "metadata": {},
   "outputs": [],
   "source": [
    "ipspikesDataExplorer = _display_out['ipspikesDataExplorer']\n",
    "pActiveSpikesBehaviorPlotter = _display_out['plotter']\n"
   ]
  },
  {
   "cell_type": "code",
   "execution_count": null,
   "id": "2c92cd2f",
   "metadata": {},
   "outputs": [],
   "source": [
    " = curr_active_pipeline.last_added_display_output\n",
    "_display_out\n"
   ]
  },
  {
   "cell_type": "code",
   "execution_count": null,
   "id": "e02ac639",
   "metadata": {},
   "outputs": [],
   "source": [
    "ipspikesDataExplorer = self._display_output['ipspikesDataExplorer']"
   ]
  },
  {
   "cell_type": "code",
   "execution_count": null,
   "id": "bd461fb3",
   "metadata": {},
   "outputs": [],
   "source": [
    "### Adjusting Spike Emphasis:\n",
    "#### Usage Examples:\n",
    "from pyphoplacecellanalysis.General.Mixins.SpikesRenderingBaseMixin import SpikeEmphasisState\n",
    "from neuropy.core.neuron_identities import NeuronType\n"
   ]
  },
  {
   "cell_type": "code",
   "execution_count": null,
   "id": "b1dd5449",
   "metadata": {},
   "outputs": [],
   "source": [
    "\n",
    "## Example 1: De-emphasize spikes excluded from the placefield calculations:\n",
    "is_spike_included_in_pf = np.isin(spike_raster_window.spike_raster_plt_2d.spikes_df.index, active_pf_2D.filtered_spikes_df.index)\n",
    "spike_raster_window.spike_raster_plt_2d.update_spike_emphasis(np.logical_not(is_spike_included_in_pf), SpikeEmphasisState.Deemphasized)\n",
    "\n",
    "## Example 2: De-emphasize spikes that don't have their 'aclu' from a given set of indicies:\n",
    "is_spike_included = spike_raster_window.spike_raster_plt_2d.spikes_df.aclu.to_numpy() == 2\n",
    "spike_raster_window.spike_raster_plt_2d.update_spike_emphasis(np.logical_not(is_spike_included), SpikeEmphasisState.Deemphasized)\n",
    "\n",
    "## Example 3: De-emphasize all spikes \n",
    "active_2d_plot.update_spike_emphasis(new_emphasis_state=SpikeEmphasisState.Deemphasized)\n",
    "\n",
    "## Example 4: Hide all spikes entirely\n",
    "active_2d_plot.update_spike_emphasis(new_emphasis_state=SpikeEmphasisState.Hidden)\n"
   ]
  },
  {
   "cell_type": "code",
   "execution_count": null,
   "id": "98b9a61d",
   "metadata": {},
   "outputs": [],
   "source": [
    "## Setup: Hide all non-pyramidal spikes entirely\n",
    "spikes_df = spike_raster_window.spikes_df\n",
    "spike_raster_window.spike_raster_plt_2d.update_spike_emphasis(np.logical_not((spikes_df.neuron_type == NeuronType.from_string('pyr'))), SpikeEmphasisState.Hidden)"
   ]
  },
  {
   "cell_type": "code",
   "execution_count": null,
   "id": "f3feb699",
   "metadata": {},
   "outputs": [],
   "source": [
    "spikes_window = spike_raster_window.spikes_window # SpikesDataframeWindow\n",
    "# spikes_window.update_window_start_end(451.8908457518555, 451.9895490613999) ## Works but does not trigger refresh/update of the window. The changes are reflected as soon as you try to scroll at all though.\n"
   ]
  },
  {
   "cell_type": "code",
   "execution_count": null,
   "id": "1ae85b4a",
   "metadata": {},
   "outputs": [],
   "source": [
    "# 20*60.0 + 50.0 +  0.218 = 1250.218\n",
    "\n",
    "spikes_window.update_window_start_end(1250.218, (1250.218 + 3.0))\n",
    "\n"
   ]
  },
  {
   "cell_type": "code",
   "execution_count": null,
   "id": "325548b0",
   "metadata": {},
   "outputs": [],
   "source": [
    "spikes_window.window_duration # Prints the current window's duration. The win. dur. label control in the left bar is not updated.\n",
    "\n",
    "desired_window_fraction: float = 0.1 # 10% of the window is the default jump size\n",
    "relevant_jump_duration: float = spikes_window.window_duration * desired_window_fraction\n",
    "relevant_jump_duration\n"
   ]
  },
  {
   "cell_type": "code",
   "execution_count": null,
   "id": "7bc81002",
   "metadata": {},
   "outputs": [],
   "source": [
    "from pyphoplacecellanalysis.PhoPositionalData.plotting.mixins.spikes_mixins import SpikeRenderingPyVistaMixin\n",
    "from pyphoplacecellanalysis.GUI.PyVista.InteractivePlotter.InteractivePlaceCellTuningCurvesDataExplorer import InteractivePlaceCellTuningCurvesDataExplorer\n",
    "# from pyphoplacecellanalysis.GUI.PyVista.InteractivePlotter.InteractivePlaceCellTuningCurvesDataExplorer import InteractivePlaceCellTuningCurvesDataExplorer\n",
    "from pyphoplacecellanalysis.GUI.PyVista.InteractivePlotter.InteractivePlaceCellDataExplorer import InteractivePlaceCellDataExplorer\n",
    "\n",
    "found_windows_of_type = TopLevelWindowHelper.all_widgets(pg.mkQApp(), searchType=InteractivePlaceCellDataExplorer)\n",
    "found_windows_of_type\n",
    "TopLevelWindowHelper.top_level_windows(pg.mkQApp(), only_visible=True)"
   ]
  },
  {
   "cell_type": "code",
   "execution_count": null,
   "id": "e2abd93f",
   "metadata": {},
   "outputs": [],
   "source": [
    "(451.8908457518555, 451.9895490613999)"
   ]
  },
  {
   "cell_type": "code",
   "execution_count": null,
   "id": "6c418968",
   "metadata": {},
   "outputs": [],
   "source": [
    "from pyphoplacecellanalysis.SpecificResults.PhoDiba2023Paper import BatchPhoJonathanFiguresHelper\n",
    "\n",
    "fig_1c_figures_out_dict = BatchPhoJonathanFiguresHelper.run(curr_active_pipeline, neuron_replay_stats_df, included_unit_neuron_IDs=XOR_subset.track_exclusive_aclus, n_max_page_rows=20, write_vector_format=False, write_png=True, disable_top_row=True) # active_out_figures_dict: {IdentifyingContext<('kdiba', 'gor01', 'two', '2006-6-07_16-40-19', 'BatchPhoJonathanReplayFRC', 'long_only', '(12,21,48)')>: <Figure size 1920x660 with 12 Axes>, IdentifyingContext<('kdiba', 'gor01', 'two', '2006-6-07_16-40-19', 'BatchPhoJonathanReplayFRC', 'short_only', '(18,19,65)')>: <Figure size 1920x660 with 12 Axes>}"
   ]
  },
  {
   "cell_type": "markdown",
   "id": "2ea2f309",
   "metadata": {},
   "source": [
    "# PhoKamran2023Paper Results"
   ]
  },
  {
   "cell_type": "code",
   "execution_count": null,
   "id": "85a7dd8b",
   "metadata": {},
   "outputs": [],
   "source": [
    "pg.setConfigOptions(background='white', foreground='black') # black on white background (more traditional) color scheme"
   ]
  },
  {
   "cell_type": "markdown",
   "id": "162d813d",
   "metadata": {},
   "source": [
    "## Figure 1) pf1D Ratemaps, Active set, etc"
   ]
  },
  {
   "cell_type": "code",
   "execution_count": null,
   "id": "273696fc",
   "metadata": {},
   "outputs": [],
   "source": [
    "from pyphoplacecellanalysis.General.Pipeline.Stages.DisplayFunctions.SpikeRasters import plot_multiple_raster_plot, plot_raster_plot\n",
    "from pyphoplacecellanalysis.Pho2D.matplotlib.visualize_heatmap import visualize_heatmap_pyqtgraph # used in `plot_kourosh_activity_style_figure`\n",
    "from pyphoplacecellanalysis.SpecificResults.PhoDiba2023Paper import PAPER_FIGURE_figure_1_full, PAPER_FIGURE_figure_1_add_replay_epoch_rasters\n",
    "\n",
    "curr_active_pipeline.prepare_for_display()\n",
    "pf1d_compare_graphics, (example_epoch_rasters_L, example_epoch_rasters_S), example_stacked_epoch_graphics, fig_1c_figures_out_dict = PAPER_FIGURE_figure_1_full(curr_active_pipeline) # did not display the pf1"
   ]
  },
  {
   "cell_type": "code",
   "execution_count": null,
   "id": "84fa9acc",
   "metadata": {},
   "outputs": [],
   "source": [
    "# rdf = jonathan_firing_rate_analysis_result.rdf.rdf\n",
    "# rdf\n",
    "# ==================================================================================================================== #\n",
    "# Fig 1c) 2023-07-14 - LxC and SxC PhoJonathanSession plots                                                            #\n",
    "# ==================================================================================================================== #\n",
    "from pyphoplacecellanalysis.General.Batch.NonInteractiveProcessing import BatchPhoJonathanFiguresHelper\n",
    "\n",
    "## Get global 'jonathan_firing_rate_analysis' results:\n",
    "curr_jonathan_firing_rate_analysis = curr_active_pipeline.global_computation_results.computed_data['jonathan_firing_rate_analysis']\n",
    "neuron_replay_stats_df, rdf, aclu_to_idx, irdf = curr_jonathan_firing_rate_analysis.neuron_replay_stats_df, curr_jonathan_firing_rate_analysis.rdf.rdf, curr_jonathan_firing_rate_analysis.rdf.aclu_to_idx, curr_jonathan_firing_rate_analysis.irdf.irdf\n",
    "\n",
    "fig_1c_figures_out_dict = BatchPhoJonathanFiguresHelper.run(curr_active_pipeline, neuron_replay_stats_df, included_unit_neuron_IDs=XOR_subset.track_exclusive_aclus, n_max_page_rows=20, write_vector_format=False, write_png=True, disable_top_row=True) # active_out_figures_dict: {IdentifyingContext<('kdiba', 'gor01', 'two', '2006-6-07_16-40-19', 'BatchPhoJonathanReplayFRC', 'long_only', '(12,21,48)')>: <Figure size 1920x660 with 12 Axes>, IdentifyingContext<('kdiba', 'gor01', 'two', '2006-6-07_16-40-19', 'BatchPhoJonathanReplayFRC', 'short_only', '(18,19,65)')>: <Figure size 1920x660 with 12 Axes>}\n"
   ]
  },
  {
   "cell_type": "markdown",
   "id": "5cba3c7a",
   "metadata": {},
   "source": [
    "## Figure 2) `PaperFigureTwo`: LxC/SxC Analyses\n",
    "Note: this fails when SxC or LxC are empty for this session (as it's not meaningful to produce a comparison bar plot). In this case, aggregate across multiple sessions."
   ]
  },
  {
   "cell_type": "code",
   "execution_count": null,
   "id": "97d3e1ff",
   "metadata": {},
   "outputs": [],
   "source": [
    "from pyphoplacecellanalysis.SpecificResults.PhoDiba2023Paper import PaperFigureTwo\n",
    "\n",
    "_out_fig_2 = PaperFigureTwo(instantaneous_time_bin_size_seconds=0.01) # 10ms\n",
    "_out_fig_2.compute(curr_active_pipeline=curr_active_pipeline)\n",
    "_out_fig_2.display()"
   ]
  },
  {
   "cell_type": "markdown",
   "id": "14a52142",
   "metadata": {},
   "source": [
    "## Figure 3) `PAPER_FIGURE_figure_3`: Firing Rate Index and Long/Short Firing Rate Replays v. Laps"
   ]
  },
  {
   "cell_type": "code",
   "execution_count": null,
   "id": "5f765ed6",
   "metadata": {},
   "outputs": [],
   "source": [
    "from neuropy.utils.matplotlib_helpers import FormattedFigureText\n",
    "from pyphoplacecellanalysis.General.Pipeline.Stages.DisplayFunctions.MultiContextComparingDisplayFunctions.LongShortTrackComparingDisplayFunctions import _plot_long_short_firing_rate_indicies\n",
    "# curr_active_pipeline.reload_default_display_functions()\n",
    "\n",
    "_out, _out2 = PAPER_FIGURE_figure_3(curr_active_pipeline, defer_render=False, save_figure=True)"
   ]
  },
  {
   "cell_type": "markdown",
   "id": "a909c676",
   "metadata": {},
   "source": [
    "##  All Programmatic Plots"
   ]
  },
  {
   "cell_type": "code",
   "execution_count": null,
   "id": "d6bcb738",
   "metadata": {},
   "outputs": [],
   "source": [
    "from pyphoplacecellanalysis.General.Batch.NonInteractiveProcessing import batch_perform_all_plots\n",
    "\n",
    "\n",
    "batch_perform_all_plots(curr_active_pipeline, enable_neptune=False, neptuner=None)"
   ]
  },
  {
   "cell_type": "markdown",
   "id": "5a87521d",
   "metadata": {},
   "source": [
    "# 2023-12-22 - Validating Direction Detection Via Laps"
   ]
  },
  {
   "cell_type": "code",
   "execution_count": null,
   "id": "ac454d51",
   "metadata": {},
   "outputs": [],
   "source": [
    "from pyphoplacecellanalysis.General.Pipeline.Stages.ComputationFunctions.MultiContextComputationFunctions.RankOrderComputations import RankOrderAnalyses\n",
    "\n",
    "## Main\n",
    "curr_active_pipeline.global_computation_results.computed_data['RankOrder'].ripple_most_likely_result_tuple, curr_active_pipeline.global_computation_results.computed_data['RankOrder'].laps_most_likely_result_tuple = RankOrderAnalyses.most_likely_directional_rank_order_shuffling(curr_active_pipeline, decoding_time_bin_size=0.003)\n",
    "\n",
    "\n",
    "# laps_result_tuple"
   ]
  },
  {
   "cell_type": "markdown",
   "metadata": {},
   "source": [
    "# 2023-12-22 - Final Things to do\n",
    "- [ ] Use `pearson_r` values instead of `spearman_rho` values in the quantile calculation\n",
    "- [ ] Throw out bad events\n",
    "- [ ] Shuffle only amongst the cells that are active in a given epoch.\n",
    "\n"
   ]
  },
  {
   "cell_type": "code",
   "execution_count": null,
   "id": "8de5f067",
   "metadata": {},
   "outputs": [],
   "source": [
    "# laps_result_tuple.directional_likelihoods_df\n",
    "# laps_result_tuple.active_epochs\n",
    "\n",
    "\n",
    "# rank_order_results.LR_ripple.ranked_aclus_stats_dict\n",
    "# output_active_epoch_computed_values, valid_stacked_arrays, real_stacked_arrays, n_valid_shuffles = rank_order_results.laps_new_output_tuple\n",
    "\n",
    "\n",
    "assert len(rank_order_results.laps_new_output_tuple) == 5\n",
    "\n",
    "# laps_merged_complete_epoch_stats_df\n",
    "\n",
    "laps_merged_complete_epoch_stats_df[['Long_best_direction_indicies', 'Short_best_direction_indicies', 'combined_best_direction_indicies', 'long_best_direction_indices', 'short_best_direction_indices']]"
   ]
  },
  {
   "cell_type": "code",
   "execution_count": null,
   "id": "8a003e38",
   "metadata": {},
   "outputs": [],
   "source": [
    "len(rank_order_results.laps_new_output_tuple)"
   ]
  },
  {
   "cell_type": "code",
   "execution_count": null,
   "id": "1a11f2f4",
   "metadata": {},
   "outputs": [],
   "source": [
    "# Need: valid_stacked_arrays, real_stacked_arrays, combined_variable_names\n",
    "combined_epoch_stats_df: pd.DataFrame = pd.DataFrame(real_stacked_arrays, columns=combined_variable_names)\n",
    "combined_variable_z_score_column_names = [f\"{a_name}_Z\" for a_name in combined_variable_names] # combined_variable_z_score_column_names: ['LR_Long_spearman_Z', 'RL_Long_spearman_Z', 'LR_Short_spearman_Z', 'RL_Short_spearman_Z', 'LR_Long_pearson_Z', 'RL_Long_pearson_Z', 'LR_Short_pearson_Z', 'RL_Short_pearson_Z']\n",
    "\n",
    "combined_variable_z_score_column_names = ['LR_Long_pearson_Z', 'RL_Long_pearson_Z', 'LR_Short_pearson_Z', 'RL_Short_pearson_Z']\n",
    "combined_variable_names = ['LR_Long_pearson', 'RL_Long_pearson', 'LR_Short_pearson', 'RL_Short_pearson'] # list(set(real_stats_df.columns) - set(['label'])) # ['RL_Short_spearman', 'RL_Long_pearson', 'RL_Short_pearson', 'LR_Long_spearman', 'LR_Short_pearson', 'LR_Long_pearson', 'LR_Short_spearman', 'RL_Long_spearman']\n",
    "\n",
    "\n",
    "## Extract the stats values for each shuffle from `valid_stacked_arrays`:\n",
    "n_epochs = np.shape(real_stacked_arrays)[0]\n",
    "n_variables = np.shape(real_stacked_arrays)[1]\n",
    "\n",
    "assert n_epochs == np.shape(valid_stacked_arrays)[-2]\n",
    "assert n_variables == np.shape(valid_stacked_arrays)[-1]\n",
    "\n",
    "for variable_IDX, a_column_name in enumerate(combined_variable_z_score_column_names):\n",
    "\tstats_corr_values = np.squeeze(valid_stacked_arrays[:, :, variable_IDX])\n",
    "\tz_scorer_list = [Zscorer.init_from_values(stats_corr_values=stats_corr_values, real_value=real_stacked_arrays[epoch_IDX, variable_IDX]) for epoch_IDX in np.arange(n_epochs)]\n",
    "\tz_score_values = np.array([a_zscorer.z_score_value for a_zscorer in z_scorer_list])\n",
    "\tcombined_epoch_stats_df[a_column_name] = z_score_values"
   ]
  },
  {
   "cell_type": "code",
   "execution_count": null,
   "id": "9be33928",
   "metadata": {},
   "outputs": [],
   "source": [
    "\n",
    "laps_merged_complete_epoch_stats_df[['Long_LR_evidence', 'Long_RL_evidence', 'Short_LR_evidence', 'Short_RL_evidence', 'Long_LR_product_evidence', 'Long_RL_product_evidence', 'Short_LR_product_evidence', 'Short_RL_product_evidence', 'Long_normed_LR_evidence', 'Long_normed_RL_evidence', 'Long_normed_product_LR_evidence', 'Long_normed_product_RL_evidence', 'Long_best_direction_indicies', 'Short_normed_LR_evidence', 'Short_normed_RL_evidence', 'Short_normed_product_LR_evidence', 'Short_normed_product_RL_evidence']]\n"
   ]
  },
  {
   "cell_type": "code",
   "execution_count": null,
   "id": "1328f18a",
   "metadata": {},
   "outputs": [],
   "source": [
    "['Long_LR_evidence', 'Long_RL_evidence', 'Short_LR_evidence', 'Short_RL_evidence', 'Long_LR_product_evidence', 'Long_RL_product_evidence', 'Short_LR_product_evidence', 'Short_RL_product_evidence', 'Long_normed_LR_evidence', 'Long_normed_RL_evidence', 'Long_normed_product_LR_evidence', 'Long_normed_product_RL_evidence', 'Long_best_direction_indicies', 'Short_normed_LR_evidence', 'Short_normed_RL_evidence', 'Short_normed_product_LR_evidence', 'Short_normed_product_RL_evidence',\n",
    "'Short_best_direction_indicies', 'combined_best_direction_indicies', 'long_relative_direction_likelihoods', 'short_relative_direction_likelihoods', 'long_best_direction_indices', 'short_best_direction_indices',]"
   ]
  },
  {
   "cell_type": "code",
   "execution_count": null,
   "id": "809003ae",
   "metadata": {},
   "outputs": [],
   "source": [
    "from pyphoplacecellanalysis.General.Pipeline.Stages.ComputationFunctions.MultiContextComputationFunctions.RankOrderComputations import _validate_estimated_lap_dirs\n",
    "\n",
    "['long_best_direction_indices']\n",
    "\n",
    "rank_order_results.laps_merged_complete_epoch_stats_df\n",
    "\n",
    "_validate_estimated_lap_dirs(rank_order_results, global_any_laps_epochs_obj)\n",
    "# LR_laps_epochs_df"
   ]
  },
  {
   "cell_type": "code",
   "execution_count": null,
   "id": "8a1a7c70",
   "metadata": {},
   "outputs": [],
   "source": [
    "# ['combined_best_direction_indicies', 'Short_best_direction_indicies', 'Long_best_direction_indicies', 'short_best_direction_indices', 'long_best_direction_indices'\n",
    "np.all(rank_order_results.laps_merged_complete_epoch_stats_df['Long_best_direction_indicies'] == rank_order_results.laps_merged_complete_epoch_stats_df['long_best_direction_indices'])\n",
    "np.all(rank_order_results.laps_merged_complete_epoch_stats_df['Short_best_direction_indicies'] == rank_order_results.laps_merged_complete_epoch_stats_df['short_best_direction_indices'])\n",
    "(rank_order_results.laps_merged_complete_epoch_stats_df['Long_best_direction_indicies'].values == rank_order_results.laps_merged_complete_epoch_stats_df['Long_best_direction_indicies'].values)"
   ]
  },
  {
   "cell_type": "code",
   "execution_count": null,
   "id": "e89f20f0",
   "metadata": {},
   "outputs": [],
   "source": [
    "rank_order_results.laps_most_likely_result_tuple.directional_likelihoods_tuple.short_best_direction_indices\n"
   ]
  },
  {
   "cell_type": "code",
   "execution_count": null,
   "id": "a9e67f11",
   "metadata": {},
   "outputs": [],
   "source": [
    "\n",
    "\n",
    "long_best_direction_indicies = np.argmax(np.vstack([np.abs(active_LR_long_z_score), np.abs(active_RL_long_z_score)]), axis=0).astype(int)\n",
    "short_best_direction_indicies = np.argmax(np.vstack([np.abs(active_LR_short_z_score), np.abs(active_RL_short_z_score)]), axis=0).astype(int)"
   ]
  },
  {
   "cell_type": "code",
   "execution_count": null,
   "id": "24712591",
   "metadata": {},
   "outputs": [],
   "source": [
    "recovered_lap_epochs = rank_order_results.laps_most_likely_result_tuple.active_epochs\n",
    "estimated_directions = deepcopy(rank_order_results.laps_most_likely_result_tuple.directional_likelihoods_tuple.long_best_direction_indices)\n",
    "assert len(recovered_lap_epochs) == len(estimated_directions), f\"recovered_lap_epochs should be same length as estimated_directions\"\n",
    "estimated_directions"
   ]
  },
  {
   "cell_type": "code",
   "execution_count": null,
   "id": "46a374f2",
   "metadata": {},
   "outputs": [],
   "source": [
    "recovered_lap_epochs['estimated_direction_index'] = estimated_directions\n",
    "recovered_lap_epochs"
   ]
  },
  {
   "cell_type": "code",
   "execution_count": null,
   "id": "7837b6e8",
   "metadata": {},
   "outputs": [],
   "source": [
    "recovered_lap_epochs"
   ]
  },
  {
   "cell_type": "code",
   "execution_count": null,
   "id": "1a7807cd",
   "metadata": {},
   "outputs": [],
   "source": [
    "rank_order_results.LR_laps.epochs_df"
   ]
  },
  {
   "cell_type": "code",
   "execution_count": null,
   "id": "ea53d1d2",
   "metadata": {},
   "outputs": [],
   "source": [
    "rank_order_results.laps_most_likely_result_tuple.plot_histograms()\n"
   ]
  },
  {
   "cell_type": "code",
   "execution_count": null,
   "id": "9075d3f1",
   "metadata": {},
   "outputs": [],
   "source": [
    "rank_order_results.laps_most_likely_result_tuple.directional_likelihoods_tuple"
   ]
  },
  {
   "cell_type": "code",
   "execution_count": null,
   "id": "4eeab6d5",
   "metadata": {},
   "outputs": [],
   "source": [
    "rank_order_results.laps_most_likely_result_tuple.directional_likelihoods_tuple\n",
    ", \n"
   ]
  },
  {
   "cell_type": "code",
   "execution_count": null,
   "id": "98c12d97",
   "metadata": {},
   "outputs": [],
   "source": [
    "RL_laps_epochs_df"
   ]
  },
  {
   "cell_type": "code",
   "execution_count": null,
   "id": "852508a5",
   "metadata": {},
   "outputs": [],
   "source": [
    "rank_order_results.LR_ripple.epochs_df"
   ]
  },
  {
   "cell_type": "code",
   "execution_count": null,
   "id": "f45a9e13",
   "metadata": {},
   "outputs": [],
   "source": [
    "epochs_df_L.plot.scatter(x='start', y='normed_LR_evidence') # 'normed_product_LR_evidence'\n",
    "epochs_df_L.plot.scatter(x='start', y='normed_product_LR_evidence') # 'normed_product_LR_evidence'"
   ]
  },
  {
   "cell_type": "code",
   "execution_count": null,
   "id": "fbeeb826",
   "metadata": {},
   "outputs": [],
   "source": [
    "rank_order_results.LR_laps.epochs_df"
   ]
  },
  {
   "cell_type": "code",
   "execution_count": null,
   "id": "dade730c",
   "metadata": {},
   "outputs": [],
   "source": [
    "rank_order_results.RL_laps.epochs_df"
   ]
  },
  {
   "cell_type": "code",
   "execution_count": null,
   "id": "97b51573",
   "metadata": {},
   "outputs": [],
   "source": [
    "ActuallyIncludedAclusColumnNames = ['LR_Long_ActuallyIncludedAclus', 'RL_Long_ActuallyIncludedAclus', 'LR_Short_ActuallyIncludedAclus', 'RL_Short_ActuallyIncludedAclus']\n",
    "LR_laps_epochs_df[ActuallyIncludedAclusColumnNames]\n",
    "\n",
    "## find uniques in each one:\n",
    "\n",
    "def uniques(*aclus_lists):\n",
    "    "
   ]
  },
  {
   "cell_type": "code",
   "execution_count": null,
   "id": "5e603ce2",
   "metadata": {},
   "outputs": [],
   "source": [
    "an_aclus_lists = LR_laps_epochs_df.loc[0, ActuallyIncludedAclusColumnNames].to_dict()\n",
    "# {'LR_Long_ActuallyIncludedAclus': array([  5,  17,  25,  31,  32,  34,  36,  41,  45,  48,  50,  53,  54,  55,  57,  58,  59,  61,  62,  63,  64,  66,  68,  69,  74,  75,  76,  78,  81,  82,  83,  84,  86,  87,  88,  89,  90,  92,  93,  96,  98, 100, 102, 108]),\n",
    "#  'RL_Long_ActuallyIncludedAclus': array([  3,   5,  10,  11,  14,  15,  16,  21,  31,  32,  33,  35,  36,  37,  41,  45,  48,  49,  50,  53,  55,  57,  59,  60,  61,  62,  63,  64,  69,  70,  71,  73,  75,  76,  78,  81,  83,  84,  86,  88,  89,  90,  92,  93,  98, 100, 102, 107, 108]),\n",
    "#  'LR_Short_ActuallyIncludedAclus': array([  5,  17,  25,  31,  32,  34,  36,  41,  45,  48,  50,  53,  54,  55,  57,  58,  59,  61,  62,  63,  64,  66,  68,  69,  74,  75,  76,  78,  81,  82,  83,  84,  86,  87,  88,  89,  90,  92,  93,  96,  98, 100, 102, 108]),\n",
    "#  'RL_Short_ActuallyIncludedAclus': array([  3,   5,  10,  11,  14,  15,  16,  21,  31,  32,  33,  35,  36,  37,  41,  45,  48,  49,  50,  53,  55,  57,  59,  60,  61,  62,  63,  64,  69,  70,  71,  73,  75,  76,  78,  81,  83,  84,  86,  88,  89,  90,  92,  93,  98, 100, 102, 107, 108])}\n",
    "# an_aclus_lists['LR_Long_ActuallyIncludedAclus']\n",
    "\n",
    "\n",
    "\n",
    "\n",
    "LR_only, RL_only = bidirectional_setdiff1d(an_aclus_lists['LR_Long_ActuallyIncludedAclus'], an_aclus_lists['RL_Long_ActuallyIncludedAclus'])\n",
    "\n",
    "\n"
   ]
  },
  {
   "cell_type": "code",
   "execution_count": null,
   "id": "5ddf883b",
   "metadata": {},
   "outputs": [],
   "source": [
    "[bidirectional_setdiff1d(a_LR_aclus, a_RL_aclus) for a_LR_aclus, a_RL_aclus in zip(LR_laps_epochs_df['LR_Long_ActuallyIncludedAclus'].to_list(), LR_laps_epochs_df['RL_Long_ActuallyIncludedAclus'].to_list())]\n"
   ]
  },
  {
   "cell_type": "code",
   "execution_count": null,
   "id": "480fcaac",
   "metadata": {},
   "outputs": [],
   "source": [
    "RL_laps_epochs_df"
   ]
  },
  {
   "cell_type": "code",
   "execution_count": null,
   "id": "e44e227a",
   "metadata": {},
   "outputs": [],
   "source": [
    "# epochs_df_L.plot(x='start', y=['LR_evidence', 'LR_product_evidence'])"
   ]
  },
  {
   "cell_type": "code",
   "execution_count": null,
   "id": "19e10b38",
   "metadata": {},
   "outputs": [],
   "source": [
    "epochs_df_L.plot(x='start', y=['normed_LR_evidence', 'normed_product_LR_evidence'])"
   ]
  },
  {
   "cell_type": "code",
   "execution_count": null,
   "id": "c48afb06",
   "metadata": {},
   "outputs": [],
   "source": [
    "rank_order_results.LR_laps.epochs_df"
   ]
  },
  {
   "cell_type": "code",
   "execution_count": null,
   "id": "77a1b2bc",
   "metadata": {},
   "outputs": [],
   "source": [
    "from pyphoplacecellanalysis.General.Pipeline.Stages.ComputationFunctions.MultiContextComputationFunctions.RankOrderComputations import RankOrderAnalyses\n",
    "\n",
    "decoders_dict = track_templates.get_decoders_dict()\n",
    "active_epochs_df = deepcopy(rank_order_results.LR_ripple.epochs_df)\n",
    "epoch_accumulated_evidence, epoch_rate_dfs, epochs_df_L = RankOrderAnalyses.epoch_directionality_active_set_evidence(decoders_dict, active_epochs_df)\n",
    "epochs_df_L\n"
   ]
  },
  {
   "cell_type": "code",
   "execution_count": null,
   "id": "8224fb01",
   "metadata": {},
   "outputs": [],
   "source": [
    "long_best_direction_indicies = np.argmax(np.vstack([np.abs(epochs_df_L['Long_normed_LR_evidence'].to_numpy()), np.abs(epochs_df_L['Long_normed_RL_evidence'].to_numpy())]), axis=0).astype(int)\n",
    "short_best_direction_indicies = np.argmax(np.vstack([np.abs(epochs_df_L['Short_normed_LR_evidence'].to_numpy()), np.abs(epochs_df_L['Short_normed_RL_evidence'].to_numpy())]), axis=0).astype(int)\n",
    "long_best_direction_indicies"
   ]
  },
  {
   "cell_type": "code",
   "execution_count": null,
   "id": "662d66fa",
   "metadata": {},
   "outputs": [],
   "source": [
    "print(list(epochs_df_L.columns))"
   ]
  },
  {
   "cell_type": "code",
   "execution_count": null,
   "id": "f8e70134",
   "metadata": {},
   "outputs": [],
   "source": [
    "# 'LR_Long_ActuallyIncludedAclus', 'LR_Long_rel_num_cells', 'RL_Long_ActuallyIncludedAclus', 'RL_Long_rel_num_cells', 'LR_Short_ActuallyIncludedAclus', 'LR_Short_rel_num_cells', 'RL_Short_ActuallyIncludedAclus', 'RL_Short_rel_num_cells'\n",
    "# \n",
    "# epoch_rate_dfs\n",
    "\n",
    "['normed_LR_evidence','normed_RL_evidence','normed_product_LR_evidence','normed_product_RL_evidence']"
   ]
  },
  {
   "cell_type": "code",
   "execution_count": null,
   "id": "2bedea44",
   "metadata": {},
   "outputs": [],
   "source": [
    "long_laps.to_dataframe()"
   ]
  },
  {
   "cell_type": "code",
   "execution_count": null,
   "id": "06db228d",
   "metadata": {},
   "outputs": [],
   "source": [
    "epoch_rate_df = epoch_rate_dfs[410]\n",
    "epoch_rate_df"
   ]
  },
  {
   "cell_type": "code",
   "execution_count": null,
   "id": "7c314a89",
   "metadata": {},
   "outputs": [],
   "source": [
    "epoch_accumulated_evidence"
   ]
  },
  {
   "cell_type": "code",
   "execution_count": null,
   "id": "1e7bc582",
   "metadata": {},
   "outputs": [],
   "source": [
    "epochs_df_L['normed_LR_evidence'].hist()\n",
    "\n",
    "# epochs_df_L[['LR_evidence', 'RL_evidence']]/epochs_df_L[['LR_evidence', 'RL_evidence']].sum(axis=1)\n"
   ]
  },
  {
   "cell_type": "code",
   "execution_count": null,
   "id": "7dfa926a",
   "metadata": {},
   "outputs": [],
   "source": [
    "epochs_df_L['normed_product_LR_evidence'].hist()\n",
    "epochs_df_L['normed_product_RL_evidence'].hist()\n"
   ]
  },
  {
   "cell_type": "code",
   "execution_count": null,
   "id": "28f5ce80",
   "metadata": {},
   "outputs": [],
   "source": [
    "epoch_rate_dfs[188]"
   ]
  },
  {
   "cell_type": "code",
   "execution_count": null,
   "id": "1729b43a",
   "metadata": {},
   "outputs": [],
   "source": [
    "epochs_df_L.plot(x='start', y='normed_LR_evidence')"
   ]
  },
  {
   "cell_type": "code",
   "execution_count": null,
   "id": "a1120474",
   "metadata": {},
   "outputs": [],
   "source": [
    "# Determine which cells are active in the given epoch:\n",
    "\n",
    "# Get these cells' firing rates, using 0.0 if it isn't included in the map for one of the directions\n",
    "\n",
    "\n"
   ]
  },
  {
   "cell_type": "code",
   "execution_count": null,
   "id": "835130b8",
   "metadata": {},
   "outputs": [],
   "source": []
  },
  {
   "cell_type": "code",
   "execution_count": null,
   "id": "e201caf3",
   "metadata": {},
   "outputs": [],
   "source": [
    "ripple_combined_epoch_stats_df"
   ]
  },
  {
   "cell_type": "code",
   "execution_count": null,
   "id": "bfe1301d",
   "metadata": {},
   "outputs": [],
   "source": [
    "rank_order_results.ripple_combined_epoch_stats_df"
   ]
  },
  {
   "cell_type": "code",
   "execution_count": null,
   "id": "7f467b71",
   "metadata": {},
   "outputs": [],
   "source": [
    "np.isnan(ripple_combined_epoch_stats_df.index).any()"
   ]
  },
  {
   "cell_type": "code",
   "execution_count": null,
   "id": "ae3fe07f",
   "metadata": {},
   "outputs": [],
   "source": [
    "np.isnan(rank_order_results.ripple_combined_epoch_stats_df.index)"
   ]
  },
  {
   "cell_type": "code",
   "execution_count": null,
   "id": "7a69155e",
   "metadata": {},
   "outputs": [],
   "source": [
    "np.isnan(rank_order_results.ripple_combined_epoch_stats_df.label.to_numpy()).all()"
   ]
  },
  {
   "cell_type": "code",
   "execution_count": null,
   "id": "d0961819",
   "metadata": {},
   "outputs": [],
   "source": [
    "rank_order_results.ripple_combined_epoch_stats_df"
   ]
  },
  {
   "cell_type": "markdown",
   "id": "9df97f15",
   "metadata": {},
   "source": [
    "# 2023-12-18 - Simpily detect bimodal cells:"
   ]
  },
  {
   "cell_type": "code",
   "execution_count": null,
   "id": "be63bb2e",
   "metadata": {},
   "outputs": [],
   "source": [
    "\n",
    "_restore_previous_matplotlib_settings_callback = matplotlib_configuration_update(is_interactive=True, backend='Qt5Agg')\n",
    "curr_active_pipeline.display('_display_1d_placefields', 'maze1_any')\n"
   ]
  },
  {
   "cell_type": "code",
   "execution_count": null,
   "id": "8f9795e4",
   "metadata": {},
   "outputs": [],
   "source": [
    "# active_ratemap = deepcopy(long_pf1D.ratemap)\n",
    "active_ratemap = deepcopy(long_LR_pf1D.ratemap)\n",
    "peaks_dict, aclu_n_peaks_dict, unimodal_peaks_dict = active_ratemap.compute_tuning_curve_modes()\n",
    "print(aclu_n_peaks_dict) # {2: 4, 5: 4, 7: 2, 8: 2, 9: 2, 10: 5, 17: 2, 24: 2, 25: 3, 26: 1, 31: 3, 32: 5, 34: 2, 35: 1, 36: 2, 37: 2, 41: 4, 45: 3, 48: 4, 49: 4, 50: 4, 51: 3, 53: 5, 54: 3, 55: 5, 56: 4, 57: 4, 58: 5, 59: 3, 61: 4, 62: 3, 63: 4, 64: 4, 66: 3, 67: 4, 68: 2, 69: 2, 71: 3, 73: 3, 74: 3, 75: 5, 76: 5, 78: 3, 81: 3, 82: 1, 83: 4, 84: 4, 86: 3, 87: 3, 88: 4, 89: 3, 90: 3, 92: 4, 93: 4, 96: 2, 97: 4, 98: 5, 100: 4, 102: 7, 107: 1, 108: 5, 109: 2}\n"
   ]
  },
  {
   "cell_type": "code",
   "execution_count": null,
   "id": "bf27c021",
   "metadata": {},
   "outputs": [],
   "source": [
    "aclu_n_peaks_dict"
   ]
  },
  {
   "cell_type": "code",
   "execution_count": null,
   "id": "1d106dbc",
   "metadata": {},
   "outputs": [],
   "source": [
    "unimodal_only_aclus = np.array(list(unimodal_peaks_dict.keys()))\n",
    "unimodal_only_aclus"
   ]
  },
  {
   "cell_type": "code",
   "execution_count": null,
   "id": "97cc4383",
   "metadata": {},
   "outputs": [],
   "source": [
    "curr_active_pipeline.display('_display_1d_placefields', 'maze1_any', included_unit_neuron_IDs=unimodal_only_aclus, sortby=[0, 1])"
   ]
  },
  {
   "cell_type": "markdown",
   "id": "0be99ada",
   "metadata": {},
   "source": [
    "## 2023-12-19\n",
    "\n",
    "5 epochs where we have a higher Z for short than we do for long"
   ]
  },
  {
   "cell_type": "code",
   "execution_count": null,
   "id": "f4773eff",
   "metadata": {},
   "outputs": [],
   "source": [
    "rank_order_results.ripple_combined_epoch_stats_df[rank_order_results.ripple_combined_epoch_stats_df.label == 148]"
   ]
  },
  {
   "cell_type": "code",
   "execution_count": null,
   "id": "d31a4527",
   "metadata": {},
   "outputs": [],
   "source": [
    "rank_order_results.LR_ripple.epochs_df[rank_order_results.LR_ripple.epochs_df.label == 148]\n",
    "# rank_order_results.ripple_combined_epoch_stats_df[rank_order_results.ripple_combined_epoch_stats_df.label == 148]"
   ]
  },
  {
   "cell_type": "code",
   "execution_count": null,
   "id": "592bdbf9",
   "metadata": {},
   "outputs": [],
   "source": [
    "rank_order_results.ripple_combined_epoch_stats_df[rank_order_results.ripple_combined_epoch_stats_df['LR_Short_spearman'].abs() > rank_order_results.ripple_combined_epoch_stats_df['LR_Long_spearman'].abs()]"
   ]
  },
  {
   "cell_type": "code",
   "execution_count": null,
   "id": "25c25c11",
   "metadata": {},
   "outputs": [],
   "source": [
    "rank_order_results.ripple_combined_epoch_stats_df[(rank_order_results.ripple_combined_epoch_stats_df['LR_Short_spearman_Z'].abs() > rank_order_results.ripple_combined_epoch_stats_df['LR_Long_spearman_Z'].abs()) & (rank_order_results.ripple_combined_epoch_stats_df['LR_Short_spearman_Z'].abs() > 1.98)]"
   ]
  },
  {
   "cell_type": "code",
   "execution_count": null,
   "id": "29413126",
   "metadata": {},
   "outputs": [],
   "source": [
    "## Get old LR_ripple/RL_ripple results\n",
    "LR_active_result: RankOrderResult = rank_order_results.LR_ripple\n",
    "LR_active_result_epochs = LR_active_result.epochs_df\n",
    "LR_active_result_epoch_labels = LR_active_result.epochs_df.label.to_numpy()\n",
    "LR_active_result_n_epochs = np.shape(LR_active_result.epochs_df)[0]\n",
    "LR_z_variable_shapes = [np.shape(x) for x in (LR_active_result.long_z_score, LR_active_result.short_z_score, LR_active_result.long_short_z_score_diff)]\n",
    "assert np.all([LR_active_result_n_epochs == s[0] for s in LR_z_variable_shapes]), f\"z-variable shapes should match the number of epochs\"\n",
    "\n",
    "\n",
    "RL_active_result: RankOrderResult = rank_order_results.RL_ripple\n",
    "RL_active_result_epochs = RL_active_result.epochs_df\n",
    "RL_active_result_epoch_labels = RL_active_result.epochs_df.label.to_numpy()\n",
    "print(f'active_result_epoch_labels: {RL_active_result_epoch_labels}')\n",
    "RL_active_result_n_epochs = np.shape(RL_active_result.epochs_df)[0]\n",
    "RL_z_variable_shapes = [np.shape(x) for x in (RL_active_result.long_z_score, RL_active_result.short_z_score, RL_active_result.long_short_z_score_diff)]\n",
    "print(f'RL_z_variable_shapes: {RL_z_variable_shapes}')\n",
    "assert np.all([RL_active_result_n_epochs == s[0] for s in RL_z_variable_shapes]), f\"z-variable shapes should match the number of epochs\"\n",
    "\n",
    "## LR and RL epoch labels must be equal to each other!\n",
    "assert (np.array_equal(rank_order_results.LR_ripple.epochs_df.label.to_numpy(), rank_order_results.RL_ripple.epochs_df.label.to_numpy())), f\"Epoch labels must be equal\"\n",
    "new_result_epochs_df = deepcopy(rank_order_results.LR_ripple.epochs_df)\n",
    "new_result_epochs_df.reset_index(drop=True)\n",
    "new_result_df = pd.DataFrame({\n",
    "'label': deepcopy(RL_active_result.epochs_df.label.to_numpy()),\n",
    "'LR_Long_Z': rank_order_results.LR_ripple.long_z_score, \n",
    "'LR_Short_Z': rank_order_results.LR_ripple.short_z_score,\n",
    "'LR_LongShort_Zdiff': rank_order_results.LR_ripple.long_short_z_score_diff,\n",
    "'RL_Long_Z': rank_order_results.RL_ripple.long_z_score, \n",
    "'RL_Short_Z': rank_order_results.RL_ripple.short_z_score,\n",
    "'RL_LongShort_Zdiff': rank_order_results.RL_ripple.long_short_z_score_diff,\n",
    " }, index=new_result_epochs_df.index).reset_index(drop=True)\n",
    "\n",
    "# new_result_epochs_df.update(new_result_df, errors='raise')\n",
    "# assert np.shape(new_result_epochs_df)[0] == np.shape(rank_order_results.LR_ripple.epochs_df)[0], f\"number of rows must not have changed\"\n",
    "# new_result_epochs_df\n",
    "new_result_df"
   ]
  },
  {
   "cell_type": "code",
   "execution_count": null,
   "id": "74529ce8",
   "metadata": {},
   "outputs": [],
   "source": [
    "interesting_labels = [4, 148]"
   ]
  },
  {
   "cell_type": "code",
   "execution_count": null,
   "id": "c2c61e59",
   "metadata": {},
   "outputs": [],
   "source": [
    "new_result_df[new_result_df.label == 4]"
   ]
  },
  {
   "cell_type": "code",
   "execution_count": null,
   "id": "81ca92bb",
   "metadata": {},
   "outputs": [],
   "source": [
    "new_result_df[new_result_df['LR_Long_Z'].abs() > 1.97]\n"
   ]
  },
  {
   "cell_type": "code",
   "execution_count": null,
   "id": "9686bdd9",
   "metadata": {},
   "outputs": [],
   "source": [
    "rank_order_results.ripple_combined_epoch_stats_df[rank_order_results.ripple_combined_epoch_stats_df.label == 4]"
   ]
  },
  {
   "cell_type": "markdown",
   "metadata": {},
   "source": [
    "# 2023-12-19 - Transition Matricies Version"
   ]
  },
  {
   "cell_type": "code",
   "execution_count": null,
   "id": "9b25dbf2",
   "metadata": {},
   "outputs": [],
   "source": [
    "from PendingNotebookCode import TransitionMatrixComputations"
   ]
  },
  {
   "cell_type": "code",
   "execution_count": null,
   "id": "d769f017",
   "metadata": {},
   "outputs": [],
   "source": [
    "# pf1D = deepcopy(global_pf1D)\n",
    "# pf1D = deepcopy(short_pf1D)\n",
    "# pf1D = deepcopy(long_pf1D)\n",
    "\n",
    "\n",
    "decoders_dict = track_templates.get_decoders_dict()\n",
    "binned_x_transition_matrix_higher_order_list_dict = {}\n",
    "\n",
    "for a_decoder_name, a_decoder in decoders_dict.items():\n",
    "\ta_pf1D = deepcopy(a_decoder.pf)\n",
    "\tbinned_x_transition_matrix_higher_order_list_dict[a_decoder_name] = TransitionMatrixComputations._compute_position_transition_matrix(a_pf1D.xbin_labels, a_pf1D.filtered_pos_df['binned_x'].to_numpy())\n",
    "\n",
    "binned_x_transition_matrix_higher_order_list_dict"
   ]
  },
  {
   "cell_type": "code",
   "execution_count": null,
   "id": "afc8a8c4",
   "metadata": {},
   "outputs": [],
   "source": [
    "# a_decoder.dec\n",
    "\n",
    "long_LR_pf1D_Decoder.active_time_window_centers"
   ]
  },
  {
   "cell_type": "code",
   "execution_count": null,
   "id": "a54e7a68",
   "metadata": {},
   "outputs": [],
   "source": [
    "# Visualization ______________________________________________________________________________________________________ #\n",
    "from pyphoplacecellanalysis.GUI.PyQtPlot.BinnedImageRenderingWindow import BasicBinnedImageRenderingWindow, LayoutScrollability\n",
    "out = BasicBinnedImageRenderingWindow(binned_x_transition_matrix_higher_order_list[2], a_pf1D.xbin_labels, a_pf1D.xbin_labels, name='binned_x_transition_matrix', title=\"Transition Matrix for binned x (from, to)\", variable_label='Transition Matrix', scrollability_mode=LayoutScrollability.NON_SCROLLABLE)\n",
    "\n"
   ]
  },
  {
   "cell_type": "code",
   "execution_count": null,
   "id": "b34b39f9",
   "metadata": {},
   "outputs": [],
   "source": [
    "from scipy.sparse import csr_matrix\n",
    "\n",
    "rank_order_results.LR_laps.spikes_df"
   ]
  },
  {
   "cell_type": "code",
   "execution_count": null,
   "id": "8dd0aefd",
   "metadata": {},
   "outputs": [],
   "source": [
    "def _time_transition_matrix(df, bin_size=0.25): # \"0.25S\"\n",
    "\t# df[\"bin\"] = pd.cut(df[\"t_rel_seconds\"], bins=pd.timedelta_range(df[\"t_rel_seconds\"].min(), df[\"t_rel_seconds\"].max(), freq=bin_size))\n",
    "\t# df[\"bin\"] = pd.cut(\n",
    "\t# \tpd.to_timedelta(df[\"t_rel_seconds\"], unit=\"s\"),\n",
    "\t# \tbins=pd.timedelta_range(df[\"t_rel_seconds\"].min(), df[\"t_rel_seconds\"].max(), freq=bin_size),\n",
    "\t# )\n",
    "\tdef get_bin(seconds):\n",
    "\t\tbin_number = int(seconds // bin_size)\n",
    "\t\treturn bin_number\n",
    "\n",
    "\tdf[\"bin\"] = df[\"t_rel_seconds\"].apply(get_bin)\n",
    "\n",
    "\ttransition_matrix = csr_matrix((\n",
    "\t\tcounts, (i, j)\n",
    "\t) for i, (bin, group) in df.groupby([\"bin\", \"aclu\"]).agg(counts=(\"aclu\", \"count\")).iterrows()\n",
    "\t\tfor j, counts in group.iteritems()\n",
    "\t)\n",
    "\ttransition_matrix /= transition_matrix.sum(axis=1, keepdims=True)\n",
    "\n",
    "\treturn transition_matrix\n",
    "\n",
    "\n",
    "test_spikes_df = deepcopy(rank_order_results.LR_laps.spikes_df)\n",
    "\n",
    "test_spikes_df = test_spikes_df.spikes.add_binned_time_column()\n",
    "\n",
    "# [['t_rel_seconds', 'aclu', 'flat_spike_idx', 'Probe_Epoch_id']]]\n",
    "\n",
    "\n",
    "test_spikes_df\n"
   ]
  },
  {
   "cell_type": "code",
   "execution_count": null,
   "id": "018e0286",
   "metadata": {},
   "outputs": [],
   "source": [
    "transition_matrix = _time_transition_matrix(df=test_spikes_df) #  bin_size=\"0.25S\"\n",
    "transition_matrix"
   ]
  },
  {
   "cell_type": "code",
   "execution_count": null,
   "id": "63242f8a",
   "metadata": {},
   "outputs": [],
   "source": [
    "long_LR_pf1D_Decoder.time_window_centers\n",
    "# long_LR_pf1D_Decoder.decode_specific_epochs\n",
    "long_LR_pf1D_Decoder.p_x_given_n\n",
    "\n",
    "# time_bin_size = 0.25\n",
    "time_bin_size = 0.1\n",
    "manual_time_bin_start_t = curr_active_pipeline.sess.t_start\n",
    "manual_time_bin_end_t = curr_active_pipeline.sess.t_stop\n",
    "\n",
    "print(f'time_bin_size: {time_bin_size}, manual_time_bins: (start_t: {manual_time_bin_start_t}, end_t: {manual_time_bin_end_t})')\n",
    "manual_time_window_edges, manual_time_window_edges_binning_info = compute_spanning_bins(None, bin_size=time_bin_size, variable_start_value=manual_time_bin_start_t, variable_end_value=manual_time_bin_end_t) # np.shape(out_digitized_variable_bins)[0] == np.shape(spikes_df)[0]\n",
    "# debug_print_1D_bin_infos(manual_time_window_edges, 'manual_time_window_edges')\n",
    "\n",
    "## Build the new decoder with custom params:\n",
    "new_decoder_pf_params = deepcopy(active_computation_config.pf_params) # should be a PlacefieldComputationParameters\n",
    "# override some settings before computation:\n",
    "new_decoder_pf_params.time_bin_size = time_bin_size\n",
    "\n",
    "## 1D Decoder\n",
    "new_decoder_pf1D = active_pf_1D\n",
    "new_1D_decoder_spikes_df = new_decoder_pf1D.filtered_spikes_df.copy()\n",
    "new_1D_decoder_spikes_df = new_1D_decoder_spikes_df.spikes.add_binned_time_column(manual_time_window_edges, manual_time_window_edges_binning_info, debug_print=False)\n",
    "new_1D_decoder = BayesianPlacemapPositionDecoder(new_decoder_pf_params.time_bin_size, new_decoder_pf1D, new_1D_decoder_spikes_df, manual_time_window_edges=manual_time_window_edges, manual_time_window_edges_binning_info=manual_time_window_edges_binning_info, debug_print=False)\n",
    "new_1D_decoder.compute_all() #  --> n = self.\n"
   ]
  },
  {
   "cell_type": "code",
   "execution_count": null,
   "id": "71d17566",
   "metadata": {},
   "outputs": [],
   "source": [
    "long_LR_pf1D_Decoder.unit_specific_time_binned_spike_counts.shape"
   ]
  },
  {
   "cell_type": "markdown",
   "id": "05936088",
   "metadata": {},
   "source": [
    "# 2023-12-21 - Inversion Count Concept"
   ]
  },
  {
   "cell_type": "code",
   "execution_count": null,
   "id": "aa459b0e",
   "metadata": {},
   "outputs": [],
   "source": [
    "from PendingNotebookCode import InversionCount\n",
    "\n",
    "# Example usage\n",
    "# list1 = [3, 1, 5, 2, 4]\n",
    "list1 = [1, 2, 4, 3, 5] # 1\n",
    "list1 = [1, 3, 4, 5, 2] # 3\n",
    "num_swaps = InversionCount.count_swaps_to_sort(list1)\n",
    "print(\"Number of swaps required:\", num_swaps)\n"
   ]
  },
  {
   "cell_type": "code",
   "execution_count": null,
   "id": "73ea2127",
   "metadata": {},
   "outputs": [],
   "source": [
    "shuffled_results_output_dict"
   ]
  },
  {
   "cell_type": "markdown",
   "metadata": {},
   "source": [
    "# ❇️🆕 READY/NEXT: 2023-11-10 - All directional pf1D works for merging all four 1D templates!!"
   ]
  },
  {
   "cell_type": "code",
   "execution_count": null,
   "id": "76086ac5",
   "metadata": {},
   "outputs": [],
   "source": [
    "from neuropy.analyses.placefields import PfND\n",
    "from pyphoplacecellanalysis.Analysis.Decoder.reconstruction import BasePositionDecoder\n",
    "from neuropy.utils.mixins.time_slicing import TimeColumnAliasesProtocol\n",
    "from pyphoplacecellanalysis.Analysis.Decoder.reconstruction import DecodedFilterEpochsResult\n",
    "\n",
    "# Use the four epochs to make to a pseudo-y:\n",
    "all_directional_decoder_names = ['long_LR', 'long_RL', 'short_LR', 'short_RL']\n",
    "all_directional_pf1D = PfND.build_merged_directional_placefields(deepcopy(long_LR_pf1D), deepcopy(long_RL_pf1D), deepcopy(short_LR_pf1D), deepcopy(short_RL_pf1D), debug_print=False)\n",
    "all_directional_pf1D_Decoder = BasePositionDecoder(all_directional_pf1D, setup_on_init=True, post_load_on_init=True, debug_print=False)\n"
   ]
  },
  {
   "cell_type": "code",
   "execution_count": null,
   "id": "8fa8c8ac",
   "metadata": {},
   "outputs": [],
   "source": [
    "\n",
    "## Combine the non-directional PDFs and renormalize to get the directional PDF:\n",
    "# Inputs: long_LR_pf1D, long_RL_pf1D\n",
    "long_directional_decoder_names = ['long_LR', 'long_RL']\n",
    "long_directional_pf1D = PfND.build_merged_directional_placefields(deepcopy(long_LR_pf1D), deepcopy(long_RL_pf1D), debug_print=False)\n",
    "long_directional_pf1D_Decoder = BasePositionDecoder(long_directional_pf1D, setup_on_init=True, post_load_on_init=True, debug_print=False)\n",
    "\n",
    "# Inputs: short_LR_pf1D, short_RL_pf1D\n",
    "short_directional_decoder_names = ['short_LR', 'short_RL']\n",
    "short_directional_pf1D = PfND.build_merged_directional_placefields(deepcopy(short_LR_pf1D), deepcopy(short_RL_pf1D), debug_print=False)\n",
    "short_directional_pf1D_Decoder = BasePositionDecoder(short_directional_pf1D, setup_on_init=True, post_load_on_init=True, debug_print=False)\n",
    "# takes 6.3 seconds"
   ]
  },
  {
   "cell_type": "code",
   "execution_count": null,
   "id": "4deb7637",
   "metadata": {},
   "outputs": [],
   "source": []
  },
  {
   "cell_type": "code",
   "execution_count": null,
   "id": "6891d3e6",
   "metadata": {},
   "outputs": [],
   "source": [
    "all_directional_pf1D_Decoder.ratemap.dims_coord_tuple \n",
    "all_directional_pf1D_Decoder.ratemap.ndim\n",
    "# all_directional_pf1D_Decoder.ratemap.plot(subplots=(10, 2))\n",
    "\n"
   ]
  },
  {
   "cell_type": "code",
   "execution_count": null,
   "id": "678ff61e",
   "metadata": {},
   "outputs": [],
   "source": [
    "## Post 2022-10-22 display_all_pf_2D_pyqtgraph_binned_image_rendering-based method:\n",
    "\n",
    "# Visualization:\n",
    "from pyphoplacecellanalysis.Pho2D.matplotlib.visualize_heatmap import visualize_heatmap, visualize_heatmap_pyqtgraph\n",
    "from pyphoplacecellanalysis.Pho2D.PyQtPlots.plot_placefields import pyqtplot_plot_image_array, display_all_pf_2D_pyqtgraph_binned_image_rendering\n",
    "from pyphoplacecellanalysis.GUI.PyQtPlot.BinnedImageRenderingWindow import BasicBinnedImageRenderingWindow, LayoutScrollability\n",
    "\n",
    "active_context = curr_active_pipeline.build_display_context_for_session(track_config='All-Directions', display_fn_name='display_all_pf_2D_pyqtgraph_binned_image_rendering')\n",
    "assert active_context is not None\n",
    "# active_pf_2D = long_directional_pf1D_Decoder.pf # computation_result.computed_data['pf2D']\n",
    "active_pf_2D = all_directional_pf1D_Decoder.pf # computation_result.computed_data['pf2D']\n",
    "\n",
    "\n",
    "# figure_format_config = {} # empty dict for config\n",
    "figure_format_config = {} # kwargs # kwargs as default figure_format_config\n",
    "out_all_pf_2D_pyqtgraph_binned_image_fig = display_all_pf_2D_pyqtgraph_binned_image_rendering(active_pf_2D, figure_format_config) # output is BasicBinnedImageRenderingWindow\n",
    "\n",
    "# Set the window title from the context\n",
    "out_all_pf_2D_pyqtgraph_binned_image_fig.setWindowTitle(f'{active_context.get_description()}')\n",
    "\n",
    "out_all_pf_2D_pyqtgraph_binned_image_fig.show()"
   ]
  },
  {
   "cell_type": "code",
   "execution_count": null,
   "id": "43305707",
   "metadata": {},
   "outputs": [],
   "source": [
    "long_directional_pf1D_Decoder.ratemap.plot()"
   ]
  },
  {
   "cell_type": "markdown",
   "id": "b319bd93",
   "metadata": {},
   "source": [
    "# 🔶 2023-12-23 - All Plots - Final"
   ]
  },
  {
   "cell_type": "code",
   "execution_count": 23,
   "id": "6121e192",
   "metadata": {},
   "outputs": [],
   "source": [
    "from typing import Iterable\n",
    "from pyphoplacecellanalysis.General.Pipeline.Stages.ComputationFunctions.MultiContextComputationFunctions.RankOrderComputations import DirectionalRankOrderResult\n",
    "\n",
    "\n",
    "def perform_write_to_file_callback(final_context, fig):\n",
    "\treturn curr_active_pipeline.output_figure(final_context, fig)\n",
    "\n",
    "def setup_common_after_creation(fig, axes, sub_context, title=f'<size:22> Sig. (>0.95) <weight:bold>Best</> <weight:bold>Quantile Diff</></>'):\n",
    "\t\"\"\" Captures:\n",
    "\t\tperform_write_to_file_callback\n",
    "\t\"\"\"\n",
    "\t\n",
    "\t# `flexitext` version:\n",
    "\ttext_formatter = FormattedFigureText()\n",
    "\tfig.suptitle('')\n",
    "\ttext_formatter.setup_margins(fig)\n",
    "\ttitle_text_obj = flexitext(text_formatter.left_margin, text_formatter.top_margin, title, va=\"bottom\", xycoords=\"figure fraction\")\n",
    "\tfooter_text_obj = flexitext((text_formatter.left_margin * 0.1), (text_formatter.bottom_margin * 0.25),\n",
    "\t\t\t\t\t\t\t\ttext_formatter._build_footer_string(active_context=sub_context),\n",
    "\t\t\t\t\t\t\t\tva=\"top\", xycoords=\"figure fraction\")\n",
    "\n",
    "\tif ((perform_write_to_file_callback is not None) and (sub_context is not None)):\n",
    "\t\tperform_write_to_file_callback(sub_context, fig)\n",
    "\n",
    "\n",
    "active_context = curr_active_pipeline.sess.get_context()\n",
    "display_context = active_context.adding_context('display_fn', display_fn_name='plot_histograms')\n",
    "\n"
   ]
  },
  {
   "cell_type": "code",
   "execution_count": 25,
   "id": "d0f240aa",
   "metadata": {},
   "outputs": [
    {
     "ename": "TypeError",
     "evalue": "plot_histograms() got an unexpected keyword argument 'num'",
     "output_type": "error",
     "traceback": [
      "\u001b[1;31m---------------------------------------------------------------------------\u001b[0m",
      "\u001b[1;31mTypeError\u001b[0m                                 Traceback (most recent call last)",
      "\u001b[1;32mc:\\Users\\pho\\repos\\Spike3DWorkEnv\\Spike3D\\ReviewOfWork_2024-01-02.ipynb Cell 403\u001b[0m line \u001b[0;36m1\n\u001b[1;32m----> <a href='vscode-notebook-cell:/c%3A/Users/pho/repos/Spike3DWorkEnv/Spike3D/ReviewOfWork_2024-01-02.ipynb#Z1113sZmlsZQ%3D%3D?line=0'>1</a>\u001b[0m _out_ripple_result_tuple_histograms \u001b[39m=\u001b[39m ripple_result_tuple\u001b[39m.\u001b[39;49mplot_histograms(num\u001b[39m=\u001b[39;49m\u001b[39m'\u001b[39;49m\u001b[39mripple_result_tuple\u001b[39;49m\u001b[39m'\u001b[39;49m, clear\u001b[39m=\u001b[39;49m\u001b[39mTrue\u001b[39;49;00m) \u001b[39m# MatplotlibRenderPlots\u001b[39;00m\n\u001b[0;32m      <a href='vscode-notebook-cell:/c%3A/Users/pho/repos/Spike3DWorkEnv/Spike3D/ReviewOfWork_2024-01-02.ipynb#Z1113sZmlsZQ%3D%3D?line=1'>2</a>\u001b[0m _out_ripple_result_tuple_histograms\u001b[39m.\u001b[39mcontext \u001b[39m=\u001b[39m display_context\u001b[39m.\u001b[39madding_context(\u001b[39m'\u001b[39m\u001b[39msubplot\u001b[39m\u001b[39m'\u001b[39m, subplot_name\u001b[39m=\u001b[39m\u001b[39m'\u001b[39m\u001b[39mripple_result_tuple\u001b[39m\u001b[39m'\u001b[39m)\n\u001b[0;32m      <a href='vscode-notebook-cell:/c%3A/Users/pho/repos/Spike3DWorkEnv/Spike3D/ReviewOfWork_2024-01-02.ipynb#Z1113sZmlsZQ%3D%3D?line=2'>3</a>\u001b[0m setup_common_after_creation(fig\u001b[39m=\u001b[39m_out_ripple_result_tuple_histograms\u001b[39m.\u001b[39mfigures[\u001b[39m0\u001b[39m], axes\u001b[39m=\u001b[39m_out_ripple_result_tuple_histograms\u001b[39m.\u001b[39maxes, sub_context\u001b[39m=\u001b[39m_out_ripple_result_tuple_histograms\u001b[39m.\u001b[39mcontext,\n\u001b[0;32m      <a href='vscode-notebook-cell:/c%3A/Users/pho/repos/Spike3DWorkEnv/Spike3D/ReviewOfWork_2024-01-02.ipynb#Z1113sZmlsZQ%3D%3D?line=3'>4</a>\u001b[0m                              title\u001b[39m=\u001b[39m\u001b[39mf\u001b[39m\u001b[39m'\u001b[39m\u001b[39m<size:22> Histogram: <weight:bold>ripple_result_tuple</></>\u001b[39m\u001b[39m'\u001b[39m)\n",
      "\u001b[1;31mTypeError\u001b[0m: plot_histograms() got an unexpected keyword argument 'num'"
     ]
    }
   ],
   "source": [
    "_out_ripple_result_tuple_histograms = ripple_result_tuple.plot_histograms(num='ripple_result_tuple', clear=True) # MatplotlibRenderPlots\n",
    "_out_ripple_result_tuple_histograms.context = display_context.adding_context('subplot', subplot_name='ripple_result_tuple')\n",
    "setup_common_after_creation(fig=_out_ripple_result_tuple_histograms.figures[0], axes=_out_ripple_result_tuple_histograms.axes, sub_context=_out_ripple_result_tuple_histograms.context,\n",
    "                             title=f'<size:22> Histogram: <weight:bold>ripple_result_tuple</></>')"
   ]
  },
  {
   "cell_type": "code",
   "execution_count": null,
   "id": "2c4d3cfc",
   "metadata": {},
   "outputs": [],
   "source": [
    "_out_laps_result_tuple_histograms = laps_result_tuple.plot_histograms(num='laps_result_tuple', clear=True)\n",
    "_out_laps_result_tuple_histograms.context = display_context.adding_context('subplot', subplot_name='laps_result_tuple')\n",
    "setup_common_after_creation(fig=_out_laps_result_tuple_histograms.figures[0], axes=_out_laps_result_tuple_histograms.axes, sub_context=_out_laps_result_tuple_histograms.context,\n",
    "                             title=f'<size:22> Histogram: <weight:bold>laps_result_tuple</></>')"
   ]
  },
  {
   "cell_type": "markdown",
   "metadata": {},
   "source": [
    "### Plot the z-scores differences and their raw-values"
   ]
  },
  {
   "cell_type": "code",
   "execution_count": 16,
   "id": "09e7c645",
   "metadata": {},
   "outputs": [],
   "source": [
    "from pyphoplacecellanalysis.General.Pipeline.Stages.ComputationFunctions.MultiContextComputationFunctions.RankOrderComputations import plot_rank_order_epoch_inst_fr_result_tuples\n",
    "\n",
    "ripple_outputs = plot_rank_order_epoch_inst_fr_result_tuples(curr_active_pipeline, ripple_result_tuple, 'Ripple')"
   ]
  },
  {
   "cell_type": "code",
   "execution_count": 17,
   "id": "ee0ecf3f",
   "metadata": {},
   "outputs": [],
   "source": [
    "# Usage of the function for Lap\n",
    "lap_outputs = plot_rank_order_epoch_inst_fr_result_tuples(curr_active_pipeline, laps_result_tuple, 'Lap')"
   ]
  },
  {
   "cell_type": "code",
   "execution_count": null,
   "id": "f0ccf0c3",
   "metadata": {},
   "outputs": [],
   "source": [
    "from pyphoplacecellanalysis.General.Pipeline.Stages.ComputationFunctions.MultiContextComputationFunctions.RankOrderComputations import RankOrderGlobalDisplayFunctions\n",
    "\n",
    "curr_active_pipeline.reload_default_display_functions()\n",
    "curr_active_pipeline.display('_display_rank_order_z_stats_results')\n"
   ]
  },
  {
   "cell_type": "code",
   "execution_count": null,
   "id": "4b08f262",
   "metadata": {},
   "outputs": [],
   "source": [
    "# result_tuple.plot_histograms()\n",
    "from pyphoplacecellanalysis.General.Pipeline.Stages.ComputationFunctions.MultiContextComputationFunctions.RankOrderComputations import plot_rank_order_histograms\n",
    "\n",
    "# Plot histograms:\n",
    "active_context = curr_active_pipeline.sess.get_context()\n",
    "\n",
    "def _perform_write_to_file_callback(final_context, fig):\n",
    "\treturn curr_active_pipeline.output_figure(final_context, fig)\n",
    "\n",
    "post_title_info: str = f'{minimum_inclusion_fr_Hz} Hz'\n",
    "collector_histograms = plot_rank_order_histograms(rank_order_results, post_title_info=post_title_info, active_context=active_context, perform_write_to_file_callback=_perform_write_to_file_callback)"
   ]
  },
  {
   "cell_type": "markdown",
   "metadata": {},
   "source": [
    "## 2023-12-23 - Good for lap direction debugging:\n"
   ]
  },
  {
   "cell_type": "code",
   "execution_count": null,
   "id": "b9fe63b0",
   "metadata": {},
   "outputs": [],
   "source": [
    "rank_order_results.laps_most_likely_result_tuple.directional_likelihoods_df.plot.bar(y=['long_relative_direction_likelihoods', 'short_relative_direction_likelihoods'])\n"
   ]
  },
  {
   "cell_type": "code",
   "execution_count": 18,
   "id": "45831aec",
   "metadata": {},
   "outputs": [
    {
     "data": {
      "text/plain": [
       "<Axes: ylabel='long_relative_direction_likelihoods'>"
      ]
     },
     "execution_count": 18,
     "metadata": {},
     "output_type": "execute_result"
    }
   ],
   "source": [
    "import seaborn as sns\n",
    "\n",
    "# directional_likelihoods_df = pd.DataFrame({\n",
    "#   \"long_relative_direction_likelihoods\": [0.41, 0.48, 0.27, 0.33, 0.69, 0.50],\n",
    "#   \"short_relative_direction_likelihoods\": [0.58, 0.51, 0.72, 0.66, 0.30, 0.49],\n",
    "#   \"long_best_direction_indices\": [0, 1, 1, 1, 0, 0]\n",
    "# })\n",
    "\n",
    "\n",
    "fig = plt.figure(num='directional_likelihoods_df figure')\n",
    "sns.scatterplot(x=directional_likelihoods_df.index, y=directional_likelihoods_df[\"long_relative_direction_likelihoods\"], hue=directional_likelihoods_df[\"long_best_direction_indices\"], palette=\"hls\")\n",
    "plt.show()"
   ]
  },
  {
   "cell_type": "code",
   "execution_count": 19,
   "id": "359244bd",
   "metadata": {},
   "outputs": [
    {
     "ename": "TypeError",
     "evalue": "plot_quantile_diffs() got an unexpected keyword argument 't_split'",
     "output_type": "error",
     "traceback": [
      "\u001b[1;31m---------------------------------------------------------------------------\u001b[0m",
      "\u001b[1;31mTypeError\u001b[0m                                 Traceback (most recent call last)",
      "\u001b[1;32mc:\\Users\\pho\\repos\\Spike3DWorkEnv\\Spike3D\\ReviewOfWork_2024-01-02.ipynb Cell 413\u001b[0m line \u001b[0;36m1\n\u001b[0;32m     <a href='vscode-notebook-cell:/c%3A/Users/pho/repos/Spike3DWorkEnv/Spike3D/ReviewOfWork_2024-01-02.ipynb#Z1126sZmlsZQ%3D%3D?line=9'>10</a>\u001b[0m \u001b[39mdef\u001b[39;00m \u001b[39m_perform_write_to_file_callback\u001b[39m(final_context, fig):\n\u001b[0;32m     <a href='vscode-notebook-cell:/c%3A/Users/pho/repos/Spike3DWorkEnv/Spike3D/ReviewOfWork_2024-01-02.ipynb#Z1126sZmlsZQ%3D%3D?line=10'>11</a>\u001b[0m \t\u001b[39mreturn\u001b[39;00m curr_active_pipeline\u001b[39m.\u001b[39moutput_figure(final_context, fig)\n\u001b[1;32m---> <a href='vscode-notebook-cell:/c%3A/Users/pho/repos/Spike3DWorkEnv/Spike3D/ReviewOfWork_2024-01-02.ipynb#Z1126sZmlsZQ%3D%3D?line=12'>13</a>\u001b[0m collector \u001b[39m=\u001b[39m plot_quantile_diffs(ripple_merged_complete_epoch_stats_df, t_split\u001b[39m=\u001b[39;49msplit_time_t, active_context\u001b[39m=\u001b[39;49mactive_context, perform_write_to_file_callback\u001b[39m=\u001b[39;49m_perform_write_to_file_callback)\n",
      "\u001b[1;31mTypeError\u001b[0m: plot_quantile_diffs() got an unexpected keyword argument 't_split'"
     ]
    }
   ],
   "source": [
    "import seaborn as sns\n",
    "from pyphoplacecellanalysis.General.Pipeline.Stages.ComputationFunctions.MultiContextComputationFunctions.RankOrderComputations import plot_quantile_diffs\n",
    "\n",
    "_restore_previous_matplotlib_settings_callback = matplotlib_configuration_update(is_interactive=True, backend='Qt5Agg')\n",
    "global_epoch = curr_active_pipeline.filtered_epochs[global_epoch_name]\n",
    "short_epoch = curr_active_pipeline.filtered_epochs[short_epoch_name]\n",
    "split_time_t: float = short_epoch.t_start\n",
    "active_context = curr_active_pipeline.sess.get_context()\n",
    "\n",
    "def _perform_write_to_file_callback(final_context, fig):\n",
    "\treturn curr_active_pipeline.output_figure(final_context, fig)\n",
    "\n",
    "collector = plot_quantile_diffs(ripple_merged_complete_epoch_stats_df, t_split=split_time_t, active_context=active_context, perform_write_to_file_callback=_perform_write_to_file_callback)"
   ]
  },
  {
   "cell_type": "code",
   "execution_count": null,
   "id": "a7828e68",
   "metadata": {},
   "outputs": [],
   "source": [
    "from pyphocorehelpers.DataStructure.RenderPlots.MatplotLibRenderPlots import FigureCollector\n",
    "\n",
    "\n",
    "class ContextCollectingFigureCollector(FigureCollector):\n",
    "    \"\"\" \n",
    "    from pyphocorehelpers.DataStructure.RenderPlots.MatplotLibRenderPlots import FigureCollector\n",
    "    \n",
    "    \n",
    "    \"\"\"\n",
    "    def __init__(self, name='ContextCollectingFigureCollector', figures=None, axes=None, context=None, context_list=None):\n",
    "        ## TODO: store specific properties:\n",
    "        self.context_list = context_list or []\n",
    "        super().__init__(name=name, figures=figures, axes=axes, context=context)\n",
    "        \n",
    "\n",
    "    def create_figure(self, *args, **kwargs):\n",
    "        fig = plt.figure(*args, **kwargs)\n",
    "        self.figures.append(fig)\n",
    "        return fig\n",
    "    \n",
    "    def subplots(self, *args, **kwargs):\n",
    "        sub_name = kwargs.pop('name', None) # 'name' is not a valid argument to plt.subplots anyway.\n",
    "        if sub_name is None:\n",
    "            # try to get subname from one of the other parameters:\n",
    "            num_name = kwargs.get('num', None)\n",
    "            sub_name = num_name or \"\"\n",
    "               \n",
    "        if sub_name is not None:\n",
    "            if self.context is not None:\n",
    "                # self.context.\n",
    "                sub_context = self.context.\n",
    "            else:\n",
    "                sub_context = IdentifyingContext(sub_name=sub_name)\n",
    "                sub_context.adding_context_if_missing(sub_name=sub_name)\n",
    "                                \n",
    "        fig, axes = plt.subplots(*args, **kwargs) # tuple[Figure, np.ndarray] or tuple[Figure, Axes]\n",
    "        self.figures.append(fig)\n",
    "        if isinstance(axes, Axes):\n",
    "            self.axes.append(axes) # single scalar axis\n",
    "        else:\n",
    "            for ax in axes:\n",
    "                self.axes.append(ax)\n",
    "        return fig, axes\n",
    "    \n",
    "\n",
    "\n"
   ]
  }
 ],
 "metadata": {
  "kernelspec": {
   "display_name": ".venv",
   "language": "python",
   "name": "python3"
  },
  "language_info": {
   "codemirror_mode": {
    "name": "ipython",
    "version": 3
   },
   "file_extension": ".py",
   "mimetype": "text/x-python",
   "name": "python",
   "nbconvert_exporter": "python",
   "pygments_lexer": "ipython3",
   "version": "3.9.13"
  }
 },
 "nbformat": 4,
 "nbformat_minor": 5
}
