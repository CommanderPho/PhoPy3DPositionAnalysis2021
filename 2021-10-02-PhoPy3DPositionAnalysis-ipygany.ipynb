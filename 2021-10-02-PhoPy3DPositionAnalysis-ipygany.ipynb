{
 "cells": [
  {
   "cell_type": "code",
   "execution_count": 1,
   "id": "f6088dc9",
   "metadata": {
    "tags": []
   },
   "outputs": [],
   "source": [
    "#!/usr/bin/env python3\n",
    "# -*- coding: utf-8 -*-\n",
    "\"\"\"\n",
    "@author: pho\n",
    "\"\"\"\n",
    "import sys\n",
    "from threading import Thread\n",
    "from ipygany import PolyMesh, Scene, IsoColor, WarpByScalar\n",
    "import pyvista as pv\n",
    "import pyvistaqt as pvqt\n",
    "\n",
    "# pv.set_jupyter_backend('pythreejs')\n",
    "# pv.set_jupyter_backend('ipygany') # ipygany fails \" Failed to use notebook backend: \"\n",
    "# pv.set_jupyter_backend('panel') # Doesn't work either, produces no output\n",
    "import numpy as np\n",
    "import h5py\n",
    "import hdf5storage # conda install hdf5storage\n",
    "from pathlib import Path\n",
    "import bqplot.scales\n",
    "import seaborn as sns\n",
    "from mpl_toolkits import mplot3d\n",
    "import matplotlib.pyplot as plt\n",
    "import matplotlib.cm as cm\n",
    "from matplotlib.colors import Normalize\n",
    "# import mplcursors\n",
    "import math # For color map generation\n",
    "from matplotlib.colors import ListedColormap\n",
    "from matplotlib.cm import hsv\n",
    "\n",
    "import ipywidgets as widgets\n",
    "# Imports PIL module\n",
    "# import PIL # For applying the binary mask as a image texture to a mesh\n",
    "# import opencv\n",
    "# from IPython.display import display # For manual display customization\n",
    "# from icecream import ic # For debugging\n",
    "# def icecream_debugPrint(obj):\n",
    "#     if isinstance(obj, list):\n",
    "#          return '<list ({})>: {}'.format(len(obj), obj)\n",
    "#     elif isinstance(obj, np.ndarray):\n",
    "#         return '<np.array ({})>: {}'.format(np.shape(obj), obj)\n",
    "#     return repr(obj)\n",
    "\n",
    "# ic.configureOutput(argToStringFunction=icecream_debugPrint)\n",
    "# from PyQt5 import QtWidgets, uic\n",
    "from pyvistaqt import QtInteractor, MainWindow"
   ]
  },
  {
   "cell_type": "code",
   "execution_count": 5,
   "id": "502a4f6e",
   "metadata": {},
   "outputs": [],
   "source": [
    "# import PhoPositionalData as pdp\n",
    "# from PhoPositionalData import load_exported, process_data\n",
    "from PhoPositionalData.load_exported import *\n",
    "# from PhoPositionalData.process_data import process_positionalAnalysis_data, gen_2d_histrogram, get_heatmap_color_vectors, process_chunk_equal_poritions_data, extract_spike_timeseries\n",
    "from PhoPositionalData.process_data import *\n",
    "from PhoPositionalData.plot_data import *\n",
    "from PhoPositionalData.import_data import *"
   ]
  },
  {
   "cell_type": "code",
   "execution_count": 6,
   "id": "2d2f0cd7",
   "metadata": {
    "pycharm": {
     "is_executing": true
    },
    "tags": []
   },
   "outputs": [
    {
     "name": "stdout",
     "output_type": "stream",
     "text": [
      "Loading matlab import file: C:\\Share\\data\\RoyMaze1\\ExportedData\\positionAnalysis.mat...\n",
      "done.\n",
      "shapes - t: (324574,), x: (324574,), y: (324574,)\n",
      "Loading matlab import file: C:\\Share\\data\\RoyMaze1\\ExportedData\\spikesAnalysis.mat...\n",
      "done.\n",
      "(2, 9297)\n"
     ]
    }
   ],
   "source": [
    "# RoyMaze1:\n",
    "mat_import_parent_path = Path(r'C:\\Share\\data\\RoyMaze1')\n",
    "# mat_import_file = r'C:\\Share\\data\\RoyMaze1\\ExportedData.mat'\n",
    "# Import the positions\n",
    "t,x,y,speeds,dt,dx,dy = perform_import_positions(mat_import_parent_path=mat_import_parent_path)\n",
    "# Import the spikes\n",
    "spike_matrix, spike_cells, num_cells, spike_list, spike_positions_list = perform_import_spikes(t, x, y, mat_import_parent_path=mat_import_parent_path)\n"
   ]
  },
  {
   "cell_type": "code",
   "execution_count": null,
   "id": "c803ad26-fad0-4574-9ef4-4cbf6d83f68c",
   "metadata": {},
   "outputs": [],
   "source": []
  },
  {
   "cell_type": "code",
   "execution_count": 23,
   "id": "785f1dbd-2312-44e2-9ded-1380d500713f",
   "metadata": {},
   "outputs": [
    {
     "name": "stdout",
     "output_type": "stream",
     "text": [
      "Loading matlab import file: C:\\Share\\data\\RoyMaze1\\ExportedData\\RippleManualExport.h5...\n",
      "done.\n",
      "Loading matlab import file: C:\\Share\\data\\RoyMaze1\\ExportedData\\extrasAnalysis.mat...\n",
      "done.\n",
      "num_periods: 668\n"
     ]
    }
   ],
   "source": [
    "# Load required behavioral data:\n",
    "# all_results_mat_import_file = mat_import_parent_path.joinpath('PhoResults_Expt1_RoyMaze1.mat') # All data, very slow to load\n",
    "# all_results_data = import_mat_file(mat_import_file=all_results_mat_import_file)\n",
    "# behavioral_periods = all_results_data['active_processing/behavioral_periods_table']\n",
    "# ripple_data = all_results_data['active_processing/source_data/ripple/RoyMaze1']\n",
    "# ripple_times = ripple_data['time']\n",
    "# ripple_peak_times = ripple_data['peakTime']\n",
    "# ripple_peak_values = ripple_data['peakVale']\n",
    "\n",
    "ripple_times, ripple_peak_times, ripple_peak_values, behavioral_periods, behavioral_epochs = perform_import_extras(mat_import_parent_path=mat_import_parent_path)\n",
    "\n",
    "# behavioral_periods = all_results_data['active_processing/behavioral_periods_table']\n",
    "# print('spike_matrix: {}, spike_cells: {}'.format(np.shape(spike_matrix), np.shape(spike_cells)))\n",
    "num_periods = np.shape(behavioral_periods)[0]\n",
    "num_ripples = np.shape(ripple_times)[0]\n",
    "print('num_periods: {}'.format(num_periods))"
   ]
  },
  {
   "cell_type": "code",
   "execution_count": 14,
   "id": "bc305bd6-76cb-4e39-a0e2-b08c55a11253",
   "metadata": {},
   "outputs": [
    {
     "name": "stdout",
     "output_type": "stream",
     "text": [
      "     period_index  epoch_start_seconds  epoch_end_seconds    duration  type  \\\n",
      "0             0.0             0.000000         569.708299  569.708299   1.0   \n",
      "1             1.0           569.708299        1564.322789  994.614489   1.0   \n",
      "2             2.0          1564.322789        2374.934598  810.611809   1.0   \n",
      "3             3.0          2374.934598        2387.434780   12.500182   1.0   \n",
      "4             4.0          2387.434780        2563.337343  175.902563   1.0   \n",
      "..            ...                  ...                ...         ...   ...   \n",
      "663         663.0         34386.749642       34418.149958   31.400316   3.0   \n",
      "664         664.0         34418.149958       34450.650284   32.500327   3.0   \n",
      "665         665.0         34450.650284       34469.350472   18.700188   3.0   \n",
      "666         666.0         34469.350472       34609.651882  140.301410   3.0   \n",
      "667         667.0         34609.651882       35351.059333  741.407451   3.0   \n",
      "\n",
      "     behavioral_epoch  \n",
      "0                 1.0  \n",
      "1                 3.0  \n",
      "2                 1.0  \n",
      "3                 2.0  \n",
      "4                 1.0  \n",
      "..                ...  \n",
      "663               1.0  \n",
      "664               2.0  \n",
      "665               1.0  \n",
      "666               2.0  \n",
      "667               1.0  \n",
      "\n",
      "[668 rows x 6 columns]\n"
     ]
    },
    {
     "data": {
      "text/plain": [
       "(668, 6)"
      ]
     },
     "execution_count": 14,
     "metadata": {},
     "output_type": "execute_result"
    }
   ],
   "source": [
    "print(behavioral_periods)\n",
    "np.shape(behavioral_periods)"
   ]
  },
  {
   "cell_type": "code",
   "execution_count": 15,
   "id": "d8b365d3-0284-4ec9-982a-9ea6ee56ad45",
   "metadata": {},
   "outputs": [
    {
     "name": "stdout",
     "output_type": "stream",
     "text": [
      "[[6.83688262e+10 6.83689246e+10]\n",
      " [6.83718062e+10 6.83719534e+10]\n",
      " [6.83721694e+10 6.83722326e+10]\n",
      " ...\n",
      " [1.03712123e+11 1.03712295e+11]\n",
      " [1.03714000e+11 1.03714073e+11]\n",
      " [1.03714990e+11 1.03715098e+11]]\n"
     ]
    }
   ],
   "source": [
    "print(ripple_times)"
   ]
  },
  {
   "cell_type": "code",
   "execution_count": 28,
   "id": "84b1dc06-6dc9-4269-b28f-dd383a949ad3",
   "metadata": {},
   "outputs": [
    {
     "name": "stdout",
     "output_type": "stream",
     "text": [
      "[(array([], dtype=int64), array([], dtype=int64)), (array([], dtype=int64), array([], dtype=int64)), (array([], dtype=int64), array([], dtype=int64)), (array([], dtype=int64), array([], dtype=int64)), (array([], dtype=int64), array([], dtype=int64)), (array([], dtype=int64), array([], dtype=int64)), (array([], dtype=int64), array([], dtype=int64)), (array([], dtype=int64), array([], dtype=int64)), (array([], dtype=int64), array([], dtype=int64)), (array([], dtype=int64), array([], dtype=int64)), (array([], dtype=int64), array([], dtype=int64)), (array([], dtype=int64), array([], dtype=int64)), (array([], dtype=int64), array([], dtype=int64)), (array([], dtype=int64), array([], dtype=int64)), (array([], dtype=int64), array([], dtype=int64)), (array([], dtype=int64), array([], dtype=int64)), (array([], dtype=int64), array([], dtype=int64)), (array([], dtype=int64), array([], dtype=int64)), (array([], dtype=int64), array([], dtype=int64)), (array([], dtype=int64), array([], dtype=int64)), (array([], dtype=int64), array([], dtype=int64)), (array([], dtype=int64), array([], dtype=int64)), (array([], dtype=int64), array([], dtype=int64)), (array([], dtype=int64), array([], dtype=int64)), (array([], dtype=int64), array([], dtype=int64)), (array([], dtype=int64), array([], dtype=int64)), (array([], dtype=int64), array([], dtype=int64)), (array([], dtype=int64), array([], dtype=int64)), (array([], dtype=int64), array([], dtype=int64)), (array([], dtype=int64), array([], dtype=int64)), (array([], dtype=int64), array([], dtype=int64)), (array([], dtype=int64), array([], dtype=int64)), (array([], dtype=int64), array([], dtype=int64)), (array([], dtype=int64), array([], dtype=int64)), (array([], dtype=int64), array([], dtype=int64)), (array([], dtype=int64), array([], dtype=int64)), (array([], dtype=int64), array([], dtype=int64)), (array([], dtype=int64), array([], dtype=int64)), (array([], dtype=int64), array([], dtype=int64)), (array([], dtype=int64), array([], dtype=int64)), (array([], dtype=int64), array([], dtype=int64)), (array([], dtype=int64), array([], dtype=int64)), (array([], dtype=int64), array([], dtype=int64)), (array([], dtype=int64), array([], dtype=int64)), (array([], dtype=int64), array([], dtype=int64)), (array([], dtype=int64), array([], dtype=int64)), (array([], dtype=int64), array([], dtype=int64)), (array([], dtype=int64), array([], dtype=int64)), (array([], dtype=int64), array([], dtype=int64)), (array([], dtype=int64), array([], dtype=int64)), (array([], dtype=int64), array([], dtype=int64)), (array([], dtype=int64), array([], dtype=int64)), (array([], dtype=int64), array([], dtype=int64)), (array([], dtype=int64), array([], dtype=int64)), (array([], dtype=int64), array([], dtype=int64)), (array([], dtype=int64), array([], dtype=int64)), (array([], dtype=int64), array([], dtype=int64)), (array([], dtype=int64), array([], dtype=int64)), (array([], dtype=int64), array([], dtype=int64)), (array([], dtype=int64), array([], dtype=int64)), (array([], dtype=int64), array([], dtype=int64)), (array([], dtype=int64), array([], dtype=int64)), (array([], dtype=int64), array([], dtype=int64)), (array([], dtype=int64), array([], dtype=int64)), (array([], dtype=int64), array([], dtype=int64)), (array([], dtype=int64), array([], dtype=int64)), (array([], dtype=int64), array([], dtype=int64)), (array([], dtype=int64), array([], dtype=int64)), (array([], dtype=int64), array([], dtype=int64)), (array([], dtype=int64), array([], dtype=int64)), (array([], dtype=int64), array([], dtype=int64)), (array([], dtype=int64), array([], dtype=int64)), (array([], dtype=int64), array([], dtype=int64)), (array([], dtype=int64), array([], dtype=int64)), (array([], dtype=int64), array([], dtype=int64)), (array([], dtype=int64), array([], dtype=int64)), (array([], dtype=int64), array([], dtype=int64)), (array([], dtype=int64), array([], dtype=int64)), (array([], dtype=int64), array([], dtype=int64)), (array([], dtype=int64), array([], dtype=int64)), (array([], dtype=int64), array([], dtype=int64)), (array([], dtype=int64), array([], dtype=int64)), (array([], dtype=int64), array([], dtype=int64)), (array([], dtype=int64), array([], dtype=int64)), (array([], dtype=int64), array([], dtype=int64)), (array([], dtype=int64), array([], dtype=int64)), (array([], dtype=int64), array([], dtype=int64)), (array([], dtype=int64), array([], dtype=int64)), (array([], dtype=int64), array([], dtype=int64)), (array([], dtype=int64), array([], dtype=int64)), (array([], dtype=int64), array([], dtype=int64)), (array([], dtype=int64), array([], dtype=int64))]\n"
     ]
    }
   ],
   "source": [
    "# Filter the spikes by ripple_times\n",
    "# ripple_times[0]\n",
    "# [for i in num_ripples]\n",
    "\n",
    "\n",
    "# for i in np.arange(num_cells)\n",
    "# i = 0\n",
    "\n",
    "# np.true_like(spike_cells[i])\n",
    "# for j in np.arange(num_ripples):\n",
    "j = 99 # For a specific ripple:\n",
    "foundItems = [] # Empty list\n",
    "for i in np.arange(num_cells):\n",
    "    foundItems.append(np.where(np.logical_and(spike_cells[i]>=ripple_times[j,0], spike_cells[i]<=ripple_times[j,1])))\n",
    "    # foundItems = np.where(np.logical_and(spike_cells[i]>=ripple_times[j,0], spike_cells[i]<=ripple_times[j,1]))\n",
    "\n",
    "print(foundItems)\n",
    "        \n",
    "# print(foundItems)"
   ]
  },
  {
   "cell_type": "code",
   "execution_count": null,
   "id": "834c9cdd",
   "metadata": {
    "scrolled": true,
    "tags": []
   },
   "outputs": [],
   "source": [
    "should_show_2d_plots = False\n",
    "\n",
    "# Create a representation of the general maze layout by binning the data and then building a mask from all the points the animal ever traversed in the maze\n",
    "# Output: negligably_traversed_maze_regions - an 80x80 binary mask that specifies which maze regions are never traversed.\n",
    "\n",
    "# For the 1.6m track, we want bins of ~2cm -> 80 bins\n",
    "num_position_bins = 80\n",
    "# position_bins = np.linspace(0.0, 1.6, num_position_bins)\n",
    "# digitized_x = np.digitize(x, position_bins)\n",
    "# digitized_y = np.digitize(y, position_bins)\n",
    "\n",
    "# smoothing_sigma = 2\n",
    "smoothing_sigma = 4\n",
    "img, extent, xedges, yedges = gen_2d_histrogram(x, y, smoothing_sigma)\n",
    "\n",
    "xmidpoints = bin_edges_to_midpoints(xedges)\n",
    "ymidpoints = bin_edges_to_midpoints(yedges)\n",
    "\n",
    "## Get the histogram x that corresponds to each x, etc.\n",
    "digitized_x = np.digitize(x, xedges)-1\n",
    "digitized_y = np.digitize(y, yedges)-1\n",
    "\n",
    "get_point_heatmap_value = lambda i, : img.T[(digitized_x[i]-1), (digitized_y[i]-1)]\n",
    "point_heatmap_value = np.array(list(map(get_point_heatmap_value, range(0, len(digitized_x)))))\n",
    "\n",
    "cmap,norm,point_colors = get_heatmap_color_vectors(point_heatmap_value)\n",
    "print('point_heatmap_value: {}'.format(point_heatmap_value))\n",
    "\n",
    "# print('img: {}'.format(np.shape(img)))\n",
    "# img_mask = np.nonzero(img)\n",
    "negligably_traversed_maze_regions = np.where(img < 25)\n",
    "# print('negligably_traversed_maze_regions: {}'.format(np.shape(negligably_traversed_maze_regions)))\n",
    "img_mask = img\n",
    "img_mask[negligably_traversed_maze_regions] = np.nan\n",
    "\n",
    "boosted_img = pow(img, 2)\n",
    "# print('np.shape(img): {}, img: {}'.format(np.shape(img), img))\n",
    "\n",
    "if should_show_2d_plots:\n",
    "    fig, ax = plt.subplots(figsize=(15,6))\n",
    "    plt.imshow(img, extent=extent, origin='lower', cmap=cm.jet)\n",
    "    plt.colorbar()\n",
    "    plt.title('Non-negligably Traversed Maze Regions')\n",
    "    # xx, yy = np.meshgrid(position_bins, position_bins)\n",
    "    # # xx, yy = np.meshgrid(digitized_x, digitized_y)\n",
    "    # plt.imshow(z_values, cmap='hot', interpolation='nearest')\n",
    "    # plt.hexbin(x, y, C=z_values, gridsize=gridsize, cmap=CM.jet, bins=None)\n",
    "    # ax = sns.heatmap(z_values, linewidth=0.5)\n",
    "    sns.jointplot(x=x, y=y, kind='hex')\n",
    "    plt.show()"
   ]
  },
  {
   "cell_type": "code",
   "execution_count": null,
   "id": "aea064e1",
   "metadata": {},
   "outputs": [],
   "source": [
    "# plt.imshow(img_mask)\n",
    "print('xedges: {}, yedges: {}, extent: {}, img: {}\\n'.format(np.shape(xedges), np.shape(yedges), np.shape(extent), np.shape(img)))\n",
    "# print('xedges: {}, yedges: {}, extent: {}\\n'.format(xedges, yedges, extent))\n",
    "# plt.imshow(point_heatmap_value)\n",
    "hist_grid_xx, hist_grid_yy = np.meshgrid(xmidpoints, ymidpoints)\n",
    "hist_grid_zz = img\n",
    "\n",
    "# Create and plot structured grid\n",
    "occupancy_heatmap_grid = pv.StructuredGrid(hist_grid_xx, hist_grid_yy, hist_grid_zz)\n",
    "occupancy_heatmap_grid.point_data['values'] = hist_grid_zz.flatten(order='F')\n",
    "occupancy_heatmap_surface = occupancy_heatmap_grid.warp_by_scalar('values')\n",
    "occupancy_heatmap_surface = occupancy_heatmap_surface.extract_surface()\n",
    "occupancy_heatmap_surface.point_data['values'] = hist_grid_zz.flatten(order='F')\n",
    "# mesh.plot()\n",
    "\n",
    "origin = occupancy_heatmap_grid.center\n",
    "origin[-1] -= occupancy_heatmap_grid.length / 3.0\n",
    "occupancy_heatmap_floor_surface = occupancy_heatmap_surface.project_points_to_plane(origin=origin)\n",
    "# occupancy_heatmap_floor_surface.plot(show_edges=True, show_grid=True, notebook=False)\n",
    "\n",
    "# occupancy_heatmap_surface = pv.PolyData(occupancy_heatmap_grid)\n",
    "\n",
    "# Apply an Elevation filter\n",
    "# occupancy_heatmap_surface = occupancy_heatmap_grid.elevation()\n",
    "# occupancy_heatmap_surface.plot(show_edges=True, show_grid=True, notebook=False)\n",
    "\n",
    "\n",
    "\n",
    "\n",
    "# # occupancy_heatmap_grid.points = img\n",
    "# p = pv.Plotter()\n",
    "p = pvqt.BackgroundPlotter()\n",
    "# p.background_color = 'black'\n",
    "# origin = occupancy_heatmap_grid.center\n",
    "# origin[-1] -= occupancy_heatmap_grid.length / 3.0\n",
    "# projected = occupancy_heatmap_surface.project_points_to_plane(origin=origin)\n",
    "\n",
    "# p.add_mesh(occupancy_heatmap_grid, show_edges=True)\n",
    "p.add_mesh(occupancy_heatmap_surface)\n",
    "# p.add_mesh(occupancy_heatmap_floor_surface)\n",
    "\n",
    "# p.add_points(pdata)\n",
    "# p.add_bounding_box()\n",
    "# p.show_grid()\n",
    "p.show()\n"
   ]
  },
  {
   "cell_type": "code",
   "execution_count": null,
   "id": "aade7ac8",
   "metadata": {
    "tags": []
   },
   "outputs": [],
   "source": [
    "\n",
    "\n",
    "\n",
    "# point_cloud = np.random.random((100, 3))\n",
    "# z = point_heatmap_value\n",
    "z = np.zeros_like(x)\n",
    "ic(x, y, z)\n",
    "point_cloud = np.vstack((x, y, z)).T\n",
    "ic(point_cloud)\n",
    "pdata = pv.PolyData(point_cloud)\n",
    "pdata['occupancy heatmap'] = np.arange(np.shape(point_cloud)[0])\n",
    "\n",
    "# create many spheres from the point cloud\n",
    "sphere = pv.Sphere(radius=0.2, phi_resolution=3, theta_resolution=3)\n",
    "pc = pdata.glyph(scale=False, geom=sphere)\n",
    "\n",
    "# p = pv.Plotter()\n",
    "# p.add_points(pc)\n",
    "# p.show()"
   ]
  },
  {
   "cell_type": "code",
   "execution_count": null,
   "id": "9be75721-3edc-4170-af13-857fc5a8e027",
   "metadata": {},
   "outputs": [],
   "source": [
    "# # # Save active output for debug:\n",
    "# matcontent = {}\n",
    "# # matcontent[u'some_numbers'] = [10, 50, 20] # each key must be a unicode string\n",
    "# matcontent[u'spike_list'] = spike_list\n",
    "# matcontent[u'spike_positions_list'] = spike_positions_list\n",
    "# hdf5storage.write(matcontent, '.', 'output/all_spike_list_testing.mat', store_python_metadata=False, matlab_compatible=True)"
   ]
  },
  {
   "cell_type": "code",
   "execution_count": null,
   "id": "c72d1f06-63fb-4502-a6ba-353fcc8298ca",
   "metadata": {},
   "outputs": [],
   "source": [
    "p = pvqt.BackgroundPlotter() # Use just like you would a pv.Plotter() instance\n",
    "p.add_bounding_box()\n",
    "p.show_grid()\n",
    "p.add_axes(line_width=5, labels_off=False)"
   ]
  },
  {
   "cell_type": "code",
   "execution_count": null,
   "id": "855850e7-d42d-4bdd-b179-b073ea0a601b",
   "metadata": {
    "collapsed": false,
    "jupyter": {
     "outputs_hidden": false
    },
    "pycharm": {
     "name": "#%%\n"
    }
   },
   "outputs": [],
   "source": [
    "# Plot the spikes on the track:\n",
    "min_timestep = 0\n",
    "max_timestep = 40\n",
    "active_spike_indices, active_spike_list, active_spike_positions_list = get_filtered_window(spike_list, spike_positions_list, min_timestep=0, max_timestep=max_timestep)\n",
    "# ic(active_spike_list, active_spike_positions_list)\n",
    "\n",
    "def build_cell_plot_data(cell_index):\n",
    "    spike_series = active_spike_positions_list[cell_index]\n",
    "    spike_series_times = active_spike_list[cell_index]\n",
    "    spike_series_positions = active_spike_positions_list[cell_index]\n",
    "    # ic(spike_series_positions)\n",
    "    # ic(type(spike_series_positions))\n",
    "    # ic(spike_series_positions[0,:])\n",
    "    # print('spike_series_positions: {}'.format(spike_series_positions))\n",
    "    # print('cell_id: {}'.format(cell_id))\n",
    "    # print(np.shape(spike_series_times))\n",
    "\n",
    "    # # Plot the spike series along the time axis:\n",
    "    # cloud = pv.wrap(spike_series_times)\n",
    "    # # p = pv.plot(cloud, scalars=points[:, 2], render_points_as_spheres=True, point_size=50,\n",
    "    # #         opacity=spike_series_times[:, 0], cpos='xz')\n",
    "    # p = pv.plot(cloud, render_points_as_spheres=True, point_size=50,\n",
    "    #         opacity=0.6, cpos='xz')\n",
    "    # z = point_heatmap_value\n",
    "    z = np.zeros_like(spike_series_positions[0,:])\n",
    "    point_cloud = np.vstack((spike_series_positions[0,:], spike_series_positions[1,:], z)).T\n",
    "    # ic(point_cloud)\n",
    "    pdata = pv.PolyData(point_cloud)\n",
    "    # pdata['occupancy heatmap'] = np.arange(np.shape(point_cloud)[0])\n",
    "    pdata['occupancy heatmap'] = spike_series_times\n",
    "    # create many spheres from the point cloud\n",
    "    # spike_geom = pv.Sphere(radius=0.2, phi_resolution=3, theta_resolution=3)\n",
    "    spike_geom = pv.Arrow(direction=(0.0, 0.0, 1.0), shaft_resolution=8, scale=2)\n",
    "    # spike_geom = pv.Arrow()\n",
    "    pc = pdata.glyph(scale=False, geom=spike_geom)\n",
    "    # # create many spheres from the point cloud\n",
    "    # # sphere = pv.Sphere(radius=2.0, phi_resolution=3, theta_resolution=3)\n",
    "    # spike_geom = pv.Arrow()\n",
    "    # pc = pdata.glyph(scale=False, factor=0.0003, geom=spike_geom)\n",
    "    return pdata, pc\n",
    "\n",
    "\n",
    "p = pvqt.BackgroundPlotter() # Use just like you would a pv.Plotter() instance\n",
    "# p.clear()\n",
    "\n",
    "cell_index = 0\n",
    "pdata, pc = build_cell_plot_data(cell_index)\n",
    "# p.add_points(pc)\n",
    "p.add_mesh(pc)\n",
    "\n",
    "# cell_index = 1\n",
    "# pdata, pc = build_cell_plot_data(cell_index)\n",
    "# p.add_mesh(pc)\n",
    "\n",
    "# cell_index = 52\n",
    "# pdata, pc = build_cell_plot_data(cell_index)\n",
    "# p.add_mesh(pc)\n",
    "\n",
    "p.add_bounding_box()\n",
    "p.show_grid()\n",
    "p.add_axes(line_width=5, labels_off=False)\n",
    "p.show()"
   ]
  },
  {
   "cell_type": "code",
   "execution_count": null,
   "id": "dc2606dd",
   "metadata": {},
   "outputs": [],
   "source": []
  },
  {
   "cell_type": "code",
   "execution_count": null,
   "id": "4d7c7db1",
   "metadata": {
    "tags": []
   },
   "outputs": [],
   "source": [
    "# pc.plot(cmap='Reds', notebook=True, jupyter_backend='ipygany') # ipygany fails \" Failed to use notebook backend: \""
   ]
  },
  {
   "cell_type": "code",
   "execution_count": null,
   "id": "577bf9d8",
   "metadata": {
    "tags": []
   },
   "outputs": [],
   "source": [
    "pc.plot(cmap='Reds', notebook=True, jupyter_backend='panel')"
   ]
  },
  {
   "cell_type": "code",
   "execution_count": null,
   "id": "77c0e4be",
   "metadata": {},
   "outputs": [],
   "source": []
  },
  {
   "cell_type": "code",
   "execution_count": null,
   "id": "75e5e09a",
   "metadata": {},
   "outputs": [],
   "source": [
    "# Projected Maze 2D Outline:\n",
    "maze_outline_x = x\n",
    "maze_outline_y = y\n"
   ]
  },
  {
   "cell_type": "code",
   "execution_count": null,
   "id": "e64b3d1c",
   "metadata": {},
   "outputs": [],
   "source": [
    "# Split the position data into equal sized chunks to be displayed at a single time. These will look like portions of the trajectory and be used to animate. # Chunk the data to create the animation.\n",
    "# curr_view_window_length = 150 # View 5 seconds at a time (30fps)\n",
    "curr_view_window_length = 30 # View 5 seconds at a time (30fps)\n",
    "# The original length 324574 / 30 = 10819\n",
    "t_fixedSegements,x_fixedSegements,y_fixedSegements,speeds_fixedSegements,dt_fixedSegements,dx_fixedSegements,dy_fixedSegements = process_chunk_equal_poritions_data(t, x, y, speeds, dt, dx, dy, curr_view_window_length)\n",
    "print('shapes - t_fixedSegements: {}, x_fixedSegements: {}, y_fixedSegements: {}'.format(np.shape(t_fixedSegements), np.shape(x_fixedSegements), np.shape(y_fixedSegements)))\n",
    "z_fixedSegements = np.zeros_like(x_fixedSegements)\n"
   ]
  },
  {
   "cell_type": "code",
   "execution_count": null,
   "id": "3cdf5c19-b430-4f88-87eb-a83ca81fe1d2",
   "metadata": {
    "pycharm": {
     "name": "#%%\n"
    }
   },
   "outputs": [],
   "source": [
    "num_time_points = np.shape(x_fixedSegements)[0]\n",
    "print('num_time_points: {}\\n'.format(num_time_points))\n",
    "animal_location_sphere = pv.Sphere(radius=2.3)\n",
    "animal_location_direction_cone = pv.Cone()\n",
    "\n",
    "#     animal_direction_arrow = pv.Arrow()\n",
    "last_only_opacity_values = np.zeros([curr_view_window_length,])\n",
    "last_only_opacity_values[-1] = 1.0\n",
    "\n",
    "# last_only_opacity_values = np.zeros([1,curr_view_window_length])\n",
    "# last_only_opacity_values[-1] = 1.0\n",
    "gradually_fading_opacity_values = np.arange(curr_view_window_length)\n",
    "\n",
    "# active_trail_opacity_values = last_only_opacity_values.copy()\n",
    "active_trail_opacity_values = gradually_fading_opacity_values.copy()\n",
    "# print('active_trail_opacity_values: {}\\n'.format(np.shape(active_trail_opacity_values)))\n",
    "    \n",
    "## Slider with Callback Function Example:\n",
    "\n",
    "# p = pvqt.BackgroundPlotter() # Use just like you would a pv.Plotter() instance\n",
    "\n",
    "def on_slider_update_mesh(value):\n",
    "    curr_i = int(value)\n",
    "    # point_cloud_fixedSegements = np.vstack((x_fixedSegements, y_fixedSegements, z_fixedSegements)).T\n",
    "    point_cloud_fixedSegements = np.column_stack((x_fixedSegements[curr_i,:], y_fixedSegements[curr_i,:], z_fixedSegements[curr_i,:]))\n",
    "#     print('point_cloud_fixedSegements: {}\\n'.format(np.shape(point_cloud_fixedSegements)))\n",
    "    curr_animal_point = point_cloud_fixedSegements[-1,:] # Get the last point\n",
    "#     actor = p.add_mesh(pyvista.Cube(), show_edges=True)\n",
    "#     mesh = pv.PolyData(point_cloud_fixedSegements)\n",
    "#     mesh.plot(point_size=10, style='points')\n",
    "    pdata = pv.PolyData(point_cloud_fixedSegements) # a mesh\n",
    "#     pdata['orig_sphere'] = np.arange(np.shape(point_cloud)[0])\n",
    "    \n",
    "#     print(last_only_opacity_values)\n",
    "    \n",
    "#     pdata.point_data['pho_fade_values'] = np.arange(np.shape(point_cloud_fixedSegements)[0])\n",
    "    pdata.point_data['pho_fade_values'] = active_trail_opacity_values\n",
    "\n",
    "    # create many spheres from the point cloud\n",
    "    pc = pdata.glyph(scale=False, geom=animal_location_sphere)\n",
    "    # pc.point_data['pho_fade_values'] = active_trail_opacity_values\n",
    "        \n",
    "    # plines = p.add_lines(point_cloud_fixedSegements, name='animal_trajectory_lines', color='orange')\n",
    "    # plines.point_data['pho_fade_values'] = active_trail_opacity_values\n",
    "    #     p.add_mesh(pc, name='animal_location', color=\"red\", opacity='linear', scalars='pho_fade_values', nan_opacity=0.0)\n",
    "    # p.add_mesh(pc, name='animal_location', color='red', ambient=0.6, opacity=0.8, nan_opacity=0.0)\n",
    "    # p.add_mesh(pc, name='animal_location', color='red', ambient=0.6, opacity=\"pho_fade_values\", nan_opacity=0.0)\n",
    "\n",
    "    p.add_mesh(pc, name='animal_location', color='red', ambient=0.6, opacity=0.8, nan_opacity=0.0, render_lines_as_tubes=True)\n",
    "#     p.add_mesh(animal_location_sphere, color=\"grey\", ambient=0.6, opacity=0.5, show_edges=False)\n",
    "    \n",
    "#     # Create spline with 1000 interpolation points\n",
    "#     spline = pv.Spline(point_cloud_fixedSegements)\n",
    "# #     # add scalars to spline and plot it\n",
    "#     spline[\"scalars\"] = np.arange(spline.n_points)\n",
    "#     tube = spline.tube(radius=0.1)\n",
    "# #     tube.plot(smooth_shading=True)\n",
    "#     p.add_mesh(tube, name='tube')\n",
    "\n",
    "#     sphere = pv.Sphere(phi_resolution=res, theta_resolution=res)\n",
    "#     p.add_mesh(sphere, name='sphere', show_edges=True)\n",
    "    return\n",
    "\n",
    "\n",
    "        \n",
    "p = pvqt.BackgroundPlotter() # Use just like you would a pv.Plotter() instance\n",
    "# p = pv.Plotter() # Use just like you would a pv.Plotter() instance\n",
    "# p.background_color = 'black'\n",
    "p.add_points(pdata)\n",
    "# p.add_slider_widget(on_slider_update_mesh, [0, (num_time_points-1)], title='Trajectory Timestep', event_type='always', style='modern')\n",
    "# active_frame_range = np.arange(num_time_points) # All frames\n",
    "active_frame_range = np.arange(num_time_points) # All frames\n",
    "# active_frame_range = np.arange(100) # Only 100 frames\n",
    "# active_frame_range = range(100) # Only 100 frames                  \n",
    "# make_mp4_from_plotter(p, active_frame_range, on_slider_update_mesh, filename='complete_plotting.mp4')\n",
    "# p.add_bounding_box()\n",
    "# p.show_grid()\n",
    "# p.add_axes(line_width=5, labels_off=True)\n",
    "# p.hide_axes()\n",
    "# p.show()\n",
    "                  \n",
    "print('all done!')"
   ]
  },
  {
   "cell_type": "code",
   "execution_count": null,
   "id": "d1ccff44-9a9b-4786-8853-54ad8af65bf6",
   "metadata": {
    "pycharm": {
     "name": "#%%\n"
    }
   },
   "outputs": [],
   "source": [
    "## Qt-based GUI - Plots a window with a controllable slider with two handles at the bottom\n",
    "class PyvistaQtGuiMainWindow(MainWindow):\n",
    "\n",
    "    def __init__(self, parent=None, show=True):\n",
    "        QtWidgets.QMainWindow.__init__(self, parent)\n",
    "\n",
    "        # create the frame\n",
    "        self.frame = QtWidgets.QFrame()\n",
    "        vlayout = QtWidgets.QVBoxLayout()\n",
    "\n",
    "        # add the pyvista interactor object\n",
    "        self.plotter = QtInteractor(self.frame)\n",
    "        vlayout.addWidget(self.plotter.interactor)\n",
    "        self.signal_close.connect(self.plotter.close)\n",
    "\n",
    "        self.rs = QRangeSlider()\n",
    "        self.rs.show()\n",
    "        self.rs.setRange(15, 35)\n",
    "        self.rs.setBackgroundStyle('background: qlineargradient(x1:0, y1:0, x2:0, y2:1, stop:0 #222, stop:1 #333);')\n",
    "        self.rs.handle.setStyleSheet('background: qlineargradient(x1:0, y1:0, x2:0, y2:1, stop:0 #282, stop:1 #393);')\n",
    "        vlayout.addWidget(self.rs)\n",
    "    \n",
    "        self.frame.setLayout(vlayout)\n",
    "        self.setCentralWidget(self.frame)\n",
    "\n",
    "        # simple menu to demo functions\n",
    "        mainMenu = self.menuBar()\n",
    "        fileMenu = mainMenu.addMenu('File')\n",
    "        exitButton = QtWidgets.QAction('Exit', self)\n",
    "        exitButton.setShortcut('Ctrl+Q')\n",
    "        exitButton.triggered.connect(self.close)\n",
    "        fileMenu.addAction(exitButton)\n",
    "\n",
    "        # allow adding a sphere\n",
    "        meshMenu = mainMenu.addMenu('Mesh')\n",
    "        self.add_sphere_action = QtWidgets.QAction('Add Sphere', self)\n",
    "        self.add_sphere_action.triggered.connect(self.add_sphere)\n",
    "        meshMenu.addAction(self.add_sphere_action)\n",
    "\n",
    "        if show:\n",
    "            self.show()\n",
    "\n",
    "    def add_sphere(self):\n",
    "        \"\"\" add a sphere to the pyqt frame \"\"\"\n",
    "        sphere = pv.Sphere()\n",
    "        self.plotter.add_mesh(sphere, show_edges=True)\n",
    "        self.plotter.reset_camera()\n",
    "\n",
    "\n",
    "# Actually show the window:\n",
    "if __name__ == '__main__':\n",
    "    app = QtWidgets.QApplication(sys.argv)\n",
    "    window = PyvistaQtGuiMainWindow()\n",
    "    app.exec_()\n",
    "    \n"
   ]
  },
  {
   "cell_type": "code",
   "execution_count": null,
   "id": "fdbe3ee8-98d3-434b-a379-1386d53c5018",
   "metadata": {},
   "outputs": [],
   "source": []
  }
 ],
 "metadata": {
  "celltoolbar": "Tags",
  "interpreter": {
   "hash": "fde6e68fa8f5f4f0920a88ee99edd8d4121f14a57a7800ceb19ed197f25c05dc"
  },
  "kernelspec": {
   "display_name": "Python 3",
   "language": "python",
   "name": "python3"
  },
  "language_info": {
   "codemirror_mode": {
    "name": "ipython",
    "version": 3
   },
   "file_extension": ".py",
   "mimetype": "text/x-python",
   "name": "python",
   "nbconvert_exporter": "python",
   "pygments_lexer": "ipython3",
   "version": "3.6.13"
  }
 },
 "nbformat": 4,
 "nbformat_minor": 5
}
