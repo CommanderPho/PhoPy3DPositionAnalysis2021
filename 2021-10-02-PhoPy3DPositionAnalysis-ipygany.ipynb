{
 "cells": [
  {
   "cell_type": "code",
   "execution_count": 1,
   "id": "6fed6c0b-a0c5-4be7-a3aa-367492f0d0e3",
   "metadata": {
    "tags": []
   },
   "outputs": [],
   "source": [
    "#!/usr/bin/env python3\n",
    "# -*- coding: utf-8 -*-\n",
    "\"\"\"\n",
    "@author: pho\n",
    "\"\"\"\n",
    "import sys\n",
    "from ipygany import PolyMesh, Scene, IsoColor, WarpByScalar\n",
    "import pyvista as pv\n",
    "# pv.set_jupyter_backend('pythreejs')\n",
    "# pv.set_jupyter_backend('ipygany') # ipygany fails \" Failed to use notebook backend: \"\n",
    "# pv.set_jupyter_backend('panel') # Doesn't work either, produces no output\n",
    "import numpy as np\n",
    "import h5py\n",
    "import hdf5storage # conda install hdf5storage\n",
    "from pathlib import Path\n",
    "import bqplot.scales\n",
    "import seaborn as sns\n",
    "from mpl_toolkits import mplot3d\n",
    "import matplotlib.pyplot as plt\n",
    "import matplotlib.cm as cm\n",
    "from matplotlib.colors import Normalize\n",
    "# import mplcursors\n",
    "from scipy.ndimage.filters import gaussian_filter\n",
    "import ipywidgets as widgets\n",
    "# Imports PIL module\n",
    "import PIL # For applying the binary mask as a image texture to a mesh\n",
    "# import opencv\n",
    "from IPython.display import display # For manual display customization"
   ]
  },
  {
   "cell_type": "code",
   "execution_count": 2,
   "id": "6e44906c-e962-4fd2-9477-0ae2c14353b5",
   "metadata": {
    "tags": []
   },
   "outputs": [
    {
     "name": "stdout",
     "output_type": "stream",
     "text": [
      "Loading matlab import file: /Users/pho/repo/Python Projects/PhoNeuronGillespie2021CodeRepo/PhoMatlabDataScripting/ExportedData/RoyMaze1/positionAnalysis.mat...\n",
      "done.\n"
     ]
    }
   ],
   "source": [
    "mat_import_file = '/Users/pho/repo/Python Projects/PhoNeuronGillespie2021CodeRepo/PhoMatlabDataScripting/ExportedData/RoyMaze1/positionAnalysis.mat'\n",
    "print('Loading matlab import file: {}...'.format(mat_import_file))\n",
    "data = hdf5storage.loadmat(mat_import_file, appendmat=False)\n",
    "# np.shape(data)\n",
    "print('done.')"
   ]
  },
  {
   "cell_type": "code",
   "execution_count": 3,
   "id": "a2be168e-f3b5-48ed-a7a5-05a76f2bd9a0",
   "metadata": {
    "tags": []
   },
   "outputs": [
    {
     "name": "stdout",
     "output_type": "stream",
     "text": [
      "shapes - t: (324574,), x: (324574,), y: (324574,)\n",
      "for x: extrema_min: 74.29166666666666, extrema_max: 649.3020833333334\n",
      "for y: extrema_min: 160.54166666666666, extrema_max: 263.0\n"
     ]
    }
   ],
   "source": [
    "# data.keys()\n",
    "t = np.squeeze(data['positionalAnalysis']['track_position']['t'])\n",
    "x = np.squeeze(data['positionalAnalysis']['track_position']['x'])\n",
    "y = np.squeeze(data['positionalAnalysis']['track_position']['y'])\n",
    "speeds = np.squeeze(data['positionalAnalysis']['track_position']['speeds'])\n",
    "dt = np.squeeze(data['positionalAnalysis']['displacement']['dt'])\n",
    "dx = np.squeeze(data['positionalAnalysis']['displacement']['dx'])\n",
    "dy = np.squeeze(data['positionalAnalysis']['displacement']['dy'])\n",
    "\n",
    "print('shapes - t: {}, x: {}, y: {}'.format(np.shape(t), np.shape(x), np.shape(y))) \n",
    "\n",
    "extrema_min, extrema_max = np.nanmin(x), np.nanmax(x)\n",
    "print('for x: extrema_min: {}, extrema_max: {}'.format(extrema_min, extrema_max))\n",
    "extrema_min, extrema_max = np.nanmin(y), np.nanmax(y)\n",
    "print('for y: extrema_min: {}, extrema_max: {}'.format(extrema_min, extrema_max))\n",
    " "
   ]
  },
  {
   "cell_type": "code",
   "execution_count": 4,
   "id": "628730ff-d5ff-42c5-9d36-f6212ec61dfe",
   "metadata": {
    "scrolled": true,
    "tags": []
   },
   "outputs": [
    {
     "name": "stdout",
     "output_type": "stream",
     "text": [
      "point_heatmap_value: [207.19981836 207.19981836 207.19981836 ... 181.29856709 181.29856709\n",
      " 181.29856709]\n"
     ]
    }
   ],
   "source": [
    "should_show_2d_plots = False\n",
    "\n",
    "# Create a representation of the general maze layout by binning the data and then building a mask from all the points the animal ever traversed in the maze\n",
    "# Output: negligably_traversed_maze_regions - an 80x80 binary mask that specifies which maze regions are never traversed.\n",
    "def gen_2d_histrogram(x, y, sigma, bins=80):\n",
    "    heatmap, xedges, yedges = np.histogram2d(x, y, bins=bins, density=False)\n",
    "    heatmap = gaussian_filter(heatmap, sigma=sigma)\n",
    "    extent = [xedges[0], xedges[-1], yedges[0], yedges[-1]]\n",
    "    return heatmap.T, extent, xedges, yedges\n",
    " \n",
    "# For the 1.6m track, we want bins of ~2cm -> 80 bins\n",
    "num_position_bins = 80\n",
    "# position_bins = np.linspace(0.0, 1.6, num_position_bins)\n",
    "# digitized_x = np.digitize(x, position_bins)\n",
    "# digitized_y = np.digitize(y, position_bins)\n",
    "\n",
    "smoothing_sigma = 2\n",
    "img, extent, xedges, yedges = gen_2d_histrogram(x, y, smoothing_sigma)\n",
    "\n",
    "## Get the histogram x that corresponds to each x, etc.\n",
    "digitized_x = np.digitize(x, xedges)-1\n",
    "digitized_y = np.digitize(y, yedges)-1\n",
    "\n",
    "get_point_heatmap_value = lambda i, : img.T[(digitized_x[i]-1), (digitized_y[i]-1)]\n",
    "point_heatmap_value = np.array(list(map(get_point_heatmap_value, range(0, len(digitized_x)))))\n",
    "\n",
    "\n",
    "# Convert the values into a actual color vectors\n",
    "cmap = cm.jet\n",
    "norm = Normalize(vmin=np.min(point_heatmap_value), vmax=np.max(point_heatmap_value))\n",
    "point_colors = cmap(norm(point_heatmap_value))\n",
    "print('point_heatmap_value: {}'.format(point_heatmap_value))\n",
    "\n",
    "# print('img: {}'.format(np.shape(img)))\n",
    "# img_mask = np.nonzero(img)\n",
    "negligably_traversed_maze_regions = np.where(img < 25)\n",
    "# print('negligably_traversed_maze_regions: {}'.format(np.shape(negligably_traversed_maze_regions)))\n",
    "img_mask = img\n",
    "img_mask[negligably_traversed_maze_regions] = np.nan\n",
    "boosted_img = pow(img, 2)\n",
    "# print('np.shape(img): {}, img: {}'.format(np.shape(img), img))\n",
    "\n",
    "if should_show_2d_plots:\n",
    "    fig, ax = plt.subplots(figsize=(15,6))\n",
    "    plt.imshow(img, extent=extent, origin='lower', cmap=cm.jet)\n",
    "    plt.colorbar()\n",
    "    plt.title('Non-negligably Traversed Maze Regions')\n",
    "    # xx, yy = np.meshgrid(position_bins, position_bins)\n",
    "    # # xx, yy = np.meshgrid(digitized_x, digitized_y)\n",
    "    # plt.imshow(z_values, cmap='hot', interpolation='nearest')\n",
    "    # plt.hexbin(x, y, C=z_values, gridsize=gridsize, cmap=CM.jet, bins=None)\n",
    "    # ax = sns.heatmap(z_values, linewidth=0.5)\n",
    "    sns.jointplot(x=x, y=y, kind='hex')\n",
    "    plt.show()"
   ]
  },
  {
   "cell_type": "code",
   "execution_count": 5,
   "id": "e6374a9e-74d4-4445-9198-d08f2529c3fc",
   "metadata": {
    "tags": []
   },
   "outputs": [],
   "source": [
    "# point_cloud = np.random.random((100, 3))\n",
    "# z = point_heatmap_value\n",
    "z = np.zeros_like(x)\n",
    "point_cloud = np.vstack((x, y, z)).T\n",
    "pdata = pv.PolyData(point_cloud)\n",
    "pdata['orig_sphere'] = np.arange(np.shape(point_cloud)[0])\n",
    "\n",
    "# create many spheres from the point cloud\n",
    "sphere = pv.Sphere(radius=0.02, phi_resolution=10, theta_resolution=10)\n",
    "pc = pdata.glyph(scale=False, geom=sphere)"
   ]
  },
  {
   "cell_type": "code",
   "execution_count": 6,
   "id": "925c167c-9a23-488b-a284-e4e1d850b9d6",
   "metadata": {
    "tags": []
   },
   "outputs": [
    {
     "data": {
      "application/vnd.jupyter.widget-view+json": {
       "model_id": "1621a02c40e9475b8c32a112e6844325",
       "version_major": 2,
       "version_minor": 0
      },
      "text/plain": [
       "ViewInteractiveWidget(height=768, layout=Layout(height='auto', width='100%'), width=1024)"
      ]
     },
     "metadata": {},
     "output_type": "display_data"
    }
   ],
   "source": [
    "# pc.plot(cmap='Reds')\n",
    "pc.plot()\n",
    "\n",
    "# plotter = pv.Plotter()\n",
    "# plotter.add_points(pdata)\n",
    "# # plotter.add_floor()\n",
    "# plotter.show()"
   ]
  },
  {
   "cell_type": "code",
   "execution_count": null,
   "id": "ee7de702-9c2b-452f-9d1d-3885422144c7",
   "metadata": {
    "tags": []
   },
   "outputs": [],
   "source": [
    "# pc.plot(cmap='Reds', notebook=True, jupyter_backend='ipygany') # ipygany fails \" Failed to use notebook backend: \""
   ]
  },
  {
   "cell_type": "code",
   "execution_count": null,
   "id": "861c809b-3a7c-42c1-9802-7ce1084f58ca",
   "metadata": {
    "tags": []
   },
   "outputs": [],
   "source": [
    "pc.plot(cmap='Reds', notebook=True, jupyter_backend='panel')"
   ]
  },
  {
   "cell_type": "code",
   "execution_count": null,
   "id": "d98ea5dc-2af5-45de-837c-3e58c9874d7b",
   "metadata": {},
   "outputs": [],
   "source": [
    "## Plot the raw position points\n",
    "\n",
    "# pvmesh = examples.download_topo_global()\n",
    "pvmesh = examples.download_st_helens()\n",
    "\n",
    "ugrid = pvmesh.cast_to_unstructured_grid()\n",
    "\n",
    "# Turn the PyVista mesh into a PolyMesh\n",
    "mesh = PolyMesh.from_vtk(ugrid)\n",
    "\n",
    "colored_mesh = IsoColor(mesh, min=-10421.0, max=6527.0)\n",
    "warped_mesh = WarpByScalar(colored_mesh, input='altitude', factor=0.5e-5)\n",
    "\n",
    "Scene([warped_mesh])"
   ]
  },
  {
   "cell_type": "code",
   "execution_count": null,
   "id": "1ec511db-6d68-4c13-a2b8-719f773c459f",
   "metadata": {},
   "outputs": [],
   "source": [
    "# Projected Maze 2D Outline:\n",
    "maze_outline_x = x\n",
    "maze_outline_y = y\n"
   ]
  },
  {
   "cell_type": "code",
   "execution_count": null,
   "id": "4dfad602-8c2e-40f6-bef7-6ad737463d48",
   "metadata": {},
   "outputs": [],
   "source": [
    "# Split the position data into equal sized chunks to be displayed at a single time. These will look like portions of the trajectory and be used to animate. # Chunk the data to create the animation.\n",
    "# curr_view_window_length = 150 # View 5 seconds at a time (30fps)\n",
    "curr_view_window_length = 30 # View 5 seconds at a time (30fps)\n",
    "# The original length 324574 / 30 = 10819\n",
    "\n",
    "trimmed_elements = np.remainder(np.size(x), curr_view_window_length) # Compute the number of elements that need to be droppped to be able to evently divide the original arrays into evenly sized chunks of length `curr_view_window_length`\n",
    "# e.g. np.remainder(324574, 150) = 124\n",
    "\n",
    "# drop 124 extra elements that make it no wrap evenly\n",
    "trimmed_length = np.size(x) - trimmed_elements\n",
    "# e.g. trimmed_length = 324574 - 124 # 324574 - 124\n",
    "other_reshaped_dimension = np.floor_divide(np.size(x), curr_view_window_length) # e.g. 2163\n",
    "\n",
    "t_fixedSegements = t[0:trimmed_length].reshape(other_reshaped_dimension, curr_view_window_length)\n",
    "x_fixedSegements = x[0:trimmed_length].reshape(other_reshaped_dimension, curr_view_window_length)\n",
    "y_fixedSegements = y[0:trimmed_length].reshape(other_reshaped_dimension, curr_view_window_length)\n",
    "\n",
    "speeds_fixedSegements = speeds[0:trimmed_length].reshape(other_reshaped_dimension, curr_view_window_length)\n",
    "dt_fixedSegements = dt[0:trimmed_length].reshape(other_reshaped_dimension, curr_view_window_length)\n",
    "dx_fixedSegements = dx[0:trimmed_length].reshape(other_reshaped_dimension, curr_view_window_length)\n",
    "dy_fixedSegements = dy[0:trimmed_length].reshape(other_reshaped_dimension, curr_view_window_length)\n",
    "\n",
    "print('shapes - t_fixedSegements: {}, x_fixedSegements: {}, y_fixedSegements: {}'.format(np.shape(t_fixedSegements), np.shape(x_fixedSegements), np.shape(y_fixedSegements)))\n"
   ]
  },
  {
   "cell_type": "code",
   "execution_count": null,
   "id": "0bbc6283-a393-4b69-ac92-3a92fe17ddda",
   "metadata": {},
   "outputs": [],
   "source": []
  },
  {
   "cell_type": "code",
   "execution_count": null,
   "id": "359f6cbf",
   "metadata": {},
   "outputs": [],
   "source": [
    "# scales = {\n",
    "#     'x': bqplot.scales.LinearScale(min=10**-3, max=10**3),\n",
    "#     'y': bqplot.scales.LinearScale(min=-3, max=3),\n",
    "#     'z': bqplot.scales.LinearScale(min=-3, max=3),\n",
    "# }\n",
    "# color_scale = bqplot.scales.ColorScale(min=0, max=3, colors=[\"#f00\", \"#0f0\", \"#00f\"])"
   ]
  },
  {
   "cell_type": "code",
   "execution_count": null,
   "id": "175f75fc-a224-4b61-bec8-570538d9c894",
   "metadata": {},
   "outputs": [],
   "source": []
  },
  {
   "cell_type": "code",
   "execution_count": null,
   "id": "d9e43018-2965-488c-b5ec-4ee1719d878f",
   "metadata": {},
   "outputs": [],
   "source": [
    "# Plot basic data:\n",
    "fig = ipv.figure()\n",
    "# fig = ipv.figure(scales=scales)\n",
    "\n",
    "# Plot the 2D entire path history on the floor to give a rough outline of where the active trajectory segement is in the maze\n",
    "z = np.zeros_like(x)\n",
    "scatter = ipv.scatter(x, z, y, color=point_colors, marker='diamond', size=0.2)\n",
    "scatter.connected = False  # draw connecting lines\n",
    "scatter.material.transparent = True\n",
    "scatter.material.opacity = 0.1\n",
    "scatter.line_material.transparent = True\n",
    "scatter.line_material.opacity = 0.1\n",
    "\n",
    "# scatter.draw_lines = False\n",
    "# scatter.draw_cats = True\n",
    "print(scatter.material)\n",
    "\n",
    "# u = np.array([X/5 +np.sin(k/1*np.pi)*4. for k in range(len(X))])\n",
    "# u = np.linspace(-1.0, 1.0, len(X))\n",
    "# v = np.linspace(-1.0, 1.0, len(X))\n",
    "# v = np.array([-Y/5*(1-k/7.) + Z*(k/7.) for k in range(len(X))])\n",
    "# u = np.array([0.0, 1.0, 1.0, 0.0])\n",
    "# v = np.array([0.0, 0.0, 1.0, 1.0])\n",
    "# mesh = ipv.plot_mesh(X, Z, Y, u=u, v=v, texture=im, wireframe=False)\n",
    "# ipv.plot_surface(X, Z, Y, color=\"black\")\n",
    "# ipv.plot_wireframe(X, Z, Y, color=\"grey\")\n",
    "\n",
    "# ipv.pylab.plot_surface()\n",
    "\n",
    "\n",
    "# colors = np.zeros([\n",
    "# s = ipv.scatter(maze_outline_x, (0.0 * maze_outline_x), maze_outline_y, marker='sphere', size=1, color='black')\n",
    "# ipv.animation_control(s, interval=200) # shows controls for animation controls\n",
    "\n",
    "# z_fixedSegments = t_fixedSegements # Use time as the z-axis\n",
    "z_fixedSegments = np.zeros_like(x_fixedSegements) # Use a constant zero z-axis offsets (so it's on the plane)\n",
    "motion_plot = ipv.scatter(x_fixedSegements, z_fixedSegments, y_fixedSegements, marker='sphere', size=1)\n",
    "# motion_plot = ipv.quiver(x_fixedSegements, z_fixedSegments, y_fixedSegements, dx_fixedSegements, dt_fixedSegements, dy_fixedSegements, size=2.0, size_selected=2, color_selected=\"blue\")\n",
    "ipv.animation_control(motion_plot, interval=200) # shows controls for animation controls\n",
    "\n",
    "ipv.show()"
   ]
  },
  {
   "cell_type": "code",
   "execution_count": null,
   "id": "f1830ada-995d-4882-86df-2bdef7c4a16b",
   "metadata": {},
   "outputs": [],
   "source": []
  },
  {
   "cell_type": "code",
   "execution_count": null,
   "id": "18775a14-358b-4760-851f-0c415a5a42cb",
   "metadata": {},
   "outputs": [],
   "source": []
  },
  {
   "cell_type": "code",
   "execution_count": null,
   "id": "11f24c00-0c09-41de-a6c8-cd5c058a3df5",
   "metadata": {},
   "outputs": [],
   "source": []
  },
  {
   "cell_type": "code",
   "execution_count": null,
   "id": "39668079-0575-4123-834c-7f18cedfc252",
   "metadata": {},
   "outputs": [],
   "source": [
    "x, y, z, u, v, w = np.random.random((6, 1000))*2-1\n",
    "selected = np.random.randint(0, 1000, 100)\n",
    "ipv.figure()\n",
    "quiver = ipv.quiver(x, y, z, u, v, w, size=5, size_selected=8, selected=selected)\n",
    "\n",
    "from ipywidgets import FloatSlider, ColorPicker, VBox, jslink\n",
    "size = FloatSlider(min=0, max=30, step=0.1)\n",
    "size_selected = FloatSlider(min=0, max=30, step=0.1)\n",
    "color = ColorPicker()\n",
    "color_selected = ColorPicker()\n",
    "jslink((quiver, 'size'), (size, 'value'))\n",
    "jslink((quiver, 'size_selected'), (size_selected, 'value'))\n",
    "jslink((quiver, 'color'), (color, 'value'))\n",
    "jslink((quiver, 'color_selected'), (color_selected, 'value'))\n",
    "VBox([ipv.gcc(), size, size_selected, color, color_selected])"
   ]
  },
  {
   "cell_type": "code",
   "execution_count": null,
   "id": "60015f88-fd3b-4938-8153-6ee88d993c0e",
   "metadata": {},
   "outputs": [],
   "source": []
  },
  {
   "cell_type": "code",
   "execution_count": null,
   "id": "25b45662-fcb2-4064-852b-1751a1aadbe9",
   "metadata": {},
   "outputs": [],
   "source": []
  }
 ],
 "metadata": {
  "celltoolbar": "Tags",
  "kernelspec": {
   "display_name": "Python 3 (ipykernel)",
   "language": "python",
   "name": "python3"
  },
  "language_info": {
   "codemirror_mode": {
    "name": "ipython",
    "version": 3
   },
   "file_extension": ".py",
   "mimetype": "text/x-python",
   "name": "python",
   "nbconvert_exporter": "python",
   "pygments_lexer": "ipython3",
   "version": "3.9.7"
  }
 },
 "nbformat": 4,
 "nbformat_minor": 5
}
