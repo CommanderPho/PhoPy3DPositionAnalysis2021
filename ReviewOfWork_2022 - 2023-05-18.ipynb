{
 "cells": [
  {
   "cell_type": "code",
   "execution_count": 1,
   "id": "0056bc66-7629-4ef7-8c87-f28f8fcd9dc8",
   "metadata": {
    "autorun": true,
    "tags": [
     "imports",
     "REQUIRED",
     "ACTIVE"
    ]
   },
   "outputs": [
    {
     "name": "stdout",
     "output_type": "stream",
     "text": [
      "Automatic pdb calling has been turned OFF\n",
      "build_module_logger(module_name=\"Spike3D.pipeline\"):\n",
      "\t Module logger com.PhoHale.Spike3D.pipeline has file logging enabled and will log to EXTERNAL\\TESTING\\Logging\\debug_com.PhoHale.Spike3D.pipeline.log\n"
     ]
    }
   ],
   "source": [
    "%config IPCompleter.use_jedi = False\n",
    "%pdb off\n",
    "# %load_ext viztracer\n",
    "# from viztracer import VizTracer\n",
    "%load_ext autoreload\n",
    "%autoreload 3\n",
    "import sys\n",
    "from pathlib import Path\n",
    "\n",
    "# required to enable non-blocking interaction:\n",
    "%gui qt5\n",
    "\n",
    "from copy import deepcopy\n",
    "from numba import jit\n",
    "import numpy as np\n",
    "import pandas as pd\n",
    "\n",
    "# Pho's Formatting Preferences\n",
    "# from pyphocorehelpers.preferences_helpers import set_pho_preferences, set_pho_preferences_concise, set_pho_preferences_verbose\n",
    "# set_pho_preferences_concise()\n",
    "\n",
    "## Pho's Custom Libraries:\n",
    "from pyphocorehelpers.general_helpers import CodeConversion\n",
    "from pyphocorehelpers.function_helpers import function_attributes\n",
    "from pyphocorehelpers.print_helpers import print_keys_if_possible, print_value_overview_only, document_active_variables, objsize, print_object_memory_usage, debug_dump_object_member_shapes, TypePrintMode\n",
    "from pyphocorehelpers.print_helpers import get_now_day_str, get_now_time_str, get_now_time_precise_str\n",
    "from pyphocorehelpers.programming_helpers import IPythonHelpers\n",
    "from pyphocorehelpers.Filesystem.path_helpers import find_first_extant_path\n",
    "\n",
    "# NeuroPy (Diba Lab Python Repo) Loading\n",
    "# from neuropy import core\n",
    "from neuropy.analyses.placefields import PlacefieldComputationParameters\n",
    "from neuropy.core.epoch import NamedTimerange, Epoch\n",
    "from neuropy.core.ratemap import Ratemap\n",
    "from neuropy.core.session.Formats.BaseDataSessionFormats import DataSessionFormatRegistryHolder\n",
    "from neuropy.core.session.Formats.Specific.BapunDataSessionFormat import BapunDataSessionFormatRegisteredClass\n",
    "from neuropy.core.session.Formats.Specific.KDibaOldDataSessionFormat import KDibaOldDataSessionFormatRegisteredClass\n",
    "from neuropy.core.session.Formats.Specific.RachelDataSessionFormat import RachelDataSessionFormat\n",
    "from neuropy.core.session.Formats.Specific.HiroDataSessionFormat import HiroDataSessionFormatRegisteredClass\n",
    "\n",
    "## For computation parameters:\n",
    "from neuropy.analyses.placefields import PlacefieldComputationParameters\n",
    "from neuropy.utils.dynamic_container import DynamicContainer\n",
    "from neuropy.utils.result_context import IdentifyingContext\n",
    "from neuropy.core.session.Formats.BaseDataSessionFormats import find_local_session_paths\n",
    "from neuropy.core.neurons import NeuronType\n",
    "\n",
    "# pyPhoPlaceCellAnalysis:\n",
    "from pyphoplacecellanalysis.General.Pipeline.NeuropyPipeline import NeuropyPipeline # get_neuron_identities\n",
    "from pyphoplacecellanalysis.General.Mixins.ExportHelpers import export_pyqtgraph_plot\n",
    "from pyphoplacecellanalysis.General.Batch.NonInteractiveWrapper import batch_load_session, batch_extended_computations, SessionBatchProgress, batch_programmatic_figures, batch_extended_programmatic_figures\n",
    "from pyphoplacecellanalysis.General.Pipeline.NeuropyPipeline import PipelineSavingScheme\n",
    "from pyphoplacecellanalysis.Pho2D.matplotlib.visualize_heatmap import visualize_heatmap\n",
    "\n",
    "# from PendingNotebookCode import _perform_batch_plot, _build_batch_plot_kwargs\n",
    "\n",
    "session_batch_status = {}\n",
    "session_batch_errors = {}\n",
    "enable_saving_to_disk = False\n",
    "\n",
    "global_data_root_parent_path = find_first_extant_path([Path(r'W:\\Data'), Path(r'/media/MAX/Data'), Path(r'/Volumes/MoverNew/data'), Path(r'/home/halechr/turbo/Data')])\n",
    "assert global_data_root_parent_path.exists(), f\"global_data_root_parent_path: {global_data_root_parent_path} does not exist! Is the right computer's config commented out above?\""
   ]
  },
  {
   "attachments": {},
   "cell_type": "markdown",
   "id": "a1538e2a-4e39-4d11-90b5-a9fef9258058",
   "metadata": {
    "tags": [
     "REQUIRED",
     "ACTIVE"
    ]
   },
   "source": [
    "# Load Pipeline"
   ]
  },
  {
   "cell_type": "code",
   "execution_count": 2,
   "id": "f917bad9-8fe7-4882-b83b-71cf878fffd2",
   "metadata": {
    "tags": [
     "load",
     "REQUIRED"
    ]
   },
   "outputs": [],
   "source": [
    "# ==================================================================================================================== #\n",
    "# Load Data                                                                                                            #\n",
    "# ==================================================================================================================== #\n",
    "\n",
    "active_data_mode_name = 'kdiba'\n",
    "\n",
    "## Data must be pre-processed using the MATLAB script located here: \n",
    "#     neuropy/data_session_pre_processing_scripts/KDIBA/IIDataMat_Export_ToPython_2022_08_01.m\n",
    "# From pre-computed .mat files:\n",
    "\n",
    "local_session_root_parent_context = IdentifyingContext(format_name=active_data_mode_name) # , animal_name='', configuration_name='one', session_name=self.session_name\n",
    "local_session_root_parent_path = global_data_root_parent_path.joinpath('KDIBA')\n",
    "\n",
    "good_contexts_list = [IdentifyingContext(format_name='kdiba',animal='gor01',exper_name='one',session_name='2006-6-08_14-26-15'),\n",
    "    IdentifyingContext(format_name='kdiba',animal='gor01',exper_name='one',session_name='2006-6-09_1-22-43'),\n",
    "    IdentifyingContext(format_name='kdiba',animal='gor01',exper_name='one',session_name='2006-6-12_15-55-31'),\n",
    "    IdentifyingContext(format_name='kdiba',animal='gor01',exper_name='one',session_name='2006-6-13_14-42-6'),\n",
    "    IdentifyingContext(format_name='kdiba',animal='gor01',exper_name='two',session_name='2006-6-07_16-40-19'),\n",
    "    IdentifyingContext(format_name='kdiba',animal='gor01',exper_name='two',session_name='2006-6-12_16-53-46'),\n",
    "    IdentifyingContext(format_name='kdiba',animal='vvp01',exper_name='one',session_name='2006-4-09_17-29-30')]\n"
   ]
  },
  {
   "cell_type": "code",
   "execution_count": 3,
   "id": "d13e68b4-03e0-4388-a35c-87a352a6e6b3",
   "metadata": {
    "tags": [
     "load",
     "single_session",
     "REQUIRED"
    ]
   },
   "outputs": [
    {
     "name": "stdout",
     "output_type": "stream",
     "text": [
      "Automatic pdb calling has been turned OFF\n",
      "basedir: W:\\Data\\KDIBA\\gor01\\one\\2006-6-09_1-22-43\n",
      "Loading loaded session pickle file results : W:\\Data\\KDIBA\\gor01\\one\\2006-6-09_1-22-43\\loadedSessPickle.pkl... done.\n",
      "Loading pickled pipeline success: W:\\Data\\KDIBA\\gor01\\one\\2006-6-09_1-22-43\\loadedSessPickle.pkl.\n",
      "property already present in pickled version. No need to save.\n",
      "using provided computation_functions_name_whitelist: ['_perform_baseline_placefield_computation', '_perform_extended_statistics_computation', '_perform_position_decoding_computation', '_perform_firing_rate_trends_computation', '_perform_pf_find_ratemap_peaks_computation']\n",
      "WARNING: skipping computation because overwrite_extant_results=False and active_computation_results[maze1] already exists and is non-None\n",
      "\t TODO: this will prevent recomputation even when the blacklist/whitelist or computation function definitions change. Rework so that this is smarter.\n",
      "updating computation_results...\n",
      "done.\n",
      "WARNING: skipping computation because overwrite_extant_results=False and active_computation_results[maze2] already exists and is non-None\n",
      "\t TODO: this will prevent recomputation even when the blacklist/whitelist or computation function definitions change. Rework so that this is smarter.\n",
      "updating computation_results...\n",
      "done.\n",
      "WARNING: skipping computation because overwrite_extant_results=False and active_computation_results[maze] already exists and is non-None\n",
      "\t TODO: this will prevent recomputation even when the blacklist/whitelist or computation function definitions change. Rework so that this is smarter.\n",
      "updating computation_results...\n",
      "done.\n",
      "WARNING: saving_mode is SKIP_SAVING so pipeline will not be saved despite calling .save_pipeline(...).\n",
      "saving_mode.shouldSave == False, so not saving at the end of batch_load_session\n"
     ]
    }
   ],
   "source": [
    "%pdb off\n",
    "# %%viztracer\n",
    "\n",
    "curr_context = good_contexts_list[1] # select the session from all of the good sessions here.\n",
    "local_session_parent_path = local_session_root_parent_path.joinpath(curr_context.animal, curr_context.exper_name) # 'gor01', 'one' - probably not needed anymore\n",
    "basedir = local_session_parent_path.joinpath(curr_context.session_name).resolve()\n",
    "print(f'basedir: {str(basedir)}')\n",
    "\n",
    "# Read if possible:\n",
    "saving_mode = PipelineSavingScheme.SKIP_SAVING\n",
    "force_reload = False\n",
    "\n",
    "# # Force write:\n",
    "# saving_mode = PipelineSavingScheme.OVERWRITE_IN_PLACE # PipelineSavingScheme.OVERWRITE_IN_PLACE\n",
    "# force_reload = True\n",
    "\n",
    "# ==================================================================================================================== #\n",
    "# Load Pipeline                                                                                                        #\n",
    "# ==================================================================================================================== #\n",
    "# epoch_name_whitelist = ['maze']\n",
    "epoch_name_whitelist = None\n",
    "active_computation_functions_name_whitelist=['_perform_baseline_placefield_computation',\n",
    "                                        # '_perform_time_dependent_placefield_computation',\n",
    "                                        '_perform_extended_statistics_computation',\n",
    "                                        '_perform_position_decoding_computation', \n",
    "                                        '_perform_firing_rate_trends_computation',\n",
    "                                        '_perform_pf_find_ratemap_peaks_computation',\n",
    "                                        # '_perform_time_dependent_pf_sequential_surprise_computation'\n",
    "                                        # '_perform_two_step_position_decoding_computation',\n",
    "                                        # '_perform_recursive_latent_placefield_decoding'\n",
    "                                    ]\n",
    "# active_computation_functions_name_whitelist=['_perform_baseline_placefield_computation']\n",
    "\n",
    "curr_active_pipeline = batch_load_session(global_data_root_parent_path, active_data_mode_name, basedir, epoch_name_whitelist=epoch_name_whitelist,\n",
    "                                          computation_functions_name_whitelist=active_computation_functions_name_whitelist,\n",
    "                                          saving_mode=saving_mode, force_reload=force_reload,\n",
    "                                          skip_extended_batch_computations=True, debug_print=False, fail_on_exception=True)\n",
    "\n",
    "# 6m 1.1s\n"
   ]
  },
  {
   "cell_type": "code",
   "execution_count": 4,
   "id": "37914352",
   "metadata": {},
   "outputs": [],
   "source": [
    "## Post Compute Validate 2023-05-16:\n",
    "from pyphoplacecellanalysis.General.Pipeline.Stages.ComputationFunctions.MultiContextComputationFunctions.LongShortTrackComputations import LongShortPipelineTests\n",
    "\n",
    "def post_compute_validate(curr_active_pipeline):\n",
    "\t\"\"\" 2023-05-16 - Ensures that the laps are used for the placefield computation epochs, the number of bins are the same between the long and short tracks. \"\"\"\n",
    "\tLongShortPipelineTests(curr_active_pipeline=curr_active_pipeline).validate()\n",
    "\n",
    "post_compute_validate(curr_active_pipeline)"
   ]
  },
  {
   "attachments": {},
   "cell_type": "markdown",
   "id": "ab85df83",
   "metadata": {},
   "source": [
    "#FIXME - 2023-05-15 - Encountering issue with filename when computation_epochs is non-None:\n",
    "OSError: [WinError 123] The filename, directory name, or volume label syntax is incorrect: 'W:\\\\Data\\\\Output\\\\2023-05-16\\\\2006-6-09_1-22-43\\\\maze1\\\\speedThresh_10.00-gridBin_2.00-smooth_2.00-frateThresh_0.20-grid_bin_bounds_((20.53900014070859, 260.280278480539), (61.816449919569116, 153.02205346375848))-time_bin_size_0.03-computation_epochs_73 epochs\\narray([[  44.896359,   50.9366  ],\\n       [  65.752027,   72.22304 ],\\n       [  85.037013,   91.077625],\\n       [ 107.525992,  112.999672],\\n       [ 243.896552,  250.671356],\\n       [ 308.597037,  313.935416],\\n       [ 357.880004,  365.118263],\\n       [ 370.324909,  376.029526],\\n       [ 399.653633,  407.028106],\\n       [ 414.869675,  422.177084],\\n       [ 428.31709 ,  435.323109],\\n       [ 441.164025,  445.900371],\\n       [ 465.220882,  470.159576],\\n       [ 481.137138,  489.745788],\\n       [ 491.279748,  497.085583],\\n       [ 502.158718,  509.832585],\\n       [ 513.935332,  520.209472],\\n       [ 528.385018,  533.089502],\\n       [ 536.057874,  541.863418],\\n       [ 546.237209,  551.240198],\\n       [ 555.411799,  563.486007],\\n       [ 565.588176,  580.235417],\\n       [ 584.308064,  592.34833 ],\\n       [ 644.200928,  652.142435],\\n       [ 684.407087,  688.612978],\\n       [ 841.131996,  847.672283],\\n       [ 850.609338,  858.417118],\\n       [ 871.463652,  878.203365],\\n       [ 890.014902,  895.421112],\\n       [ 905.497709,  910.768346],\\n       [ 918.143971,  930.555844],\\n       [ 936.163197,  940.765431],\\n       [ 944.403188,  949.909238],\\n       [ 957.917913,  962.622227],\\n       [ 964.69027 ,  973.031819],\\n       [ 981.273402,  992.618731],\\n       [ 995.820826, 1001.56043 ],\\n       [1014.007346, 1018.24432 ],\\n       [1039.9994  , 1054.346563],\\n       [1064.025317, 1068.195704],\\n       [1070.097266, 1075.00177 ],\\n       [1087.580074, 1091.451329],\\n       [1095.756297, 1100.694529],\\n       [1108.768642, 1115.643296],\\n       [1119.74629 , 1124.418004],\\n       [1151.478668, 1157.518099],\\n       [1172.901873, 1177.471785],\\n       [1179.942302, 1186.647663],\\n       [1201.563105, 1204.933206],\\n       [1334.764114, 1339.935019],\\n       [1354.216458, 1358.054292],\\n       [1380.810921, 1384.946942],\\n       [1391.020092, 1394.122904],\\n       [1395.859173, 1400.464334],\\n       [1404.934027, 1410.77208 ],\\n       [1472.702713, 1476.773676],\\n       [1478.17487 , 1482.678522],\\n       [1487.885222, 1498.728003],\\n       [1500.496809, 1504.468514],\\n       [1509.306957, 1512.409748],\\n       [1513.509661, 1520.784321],\\n       [1522.118272, 1526.590745],\\n       [1527.058366, 1532.729683],\\n       [1535.432942, 1539.603214],\\n       [1540.003485, 1547.310854],\\n       [1557.655181, 1567.297301],\\n       [1579.609553, 1599.063984],\\n       [1604.66852 , 1607.804303],\\n       [1609.072514, 1614.1452  ],\\n       [1620.150913, 1625.623997],\\n       [1628.226544, 1632.596083],\\n       [1648.046393, 1652.650709],\\n       [1654.086016, 1658.121657]])\\n'\n"
   ]
  },
  {
   "cell_type": "code",
   "execution_count": null,
   "id": "326d35c9",
   "metadata": {},
   "outputs": [],
   "source": [
    "long_epoch_name, short_epoch_name, global_epoch_name = curr_active_pipeline.find_LongShortGlobal_epoch_names()\n",
    "long_session, short_session, global_session = [curr_active_pipeline.filtered_sessions[an_epoch_name] for an_epoch_name in [long_epoch_name, short_epoch_name, global_epoch_name]]\n",
    "long_results, short_results, global_results = [curr_active_pipeline.computation_results[an_epoch_name]['computed_data'] for an_epoch_name in [long_epoch_name, short_epoch_name, global_epoch_name]]\n",
    "long_pf1D, short_pf1D, global_pf1D = long_results.pf1D, short_results.pf1D, global_results.pf1D\n",
    "long_pf2D, short_pf2D, global_pf2D = long_results.pf2D, short_results.pf2D, global_results.pf2D\n",
    "\n",
    "# Get existing laps from session:\n",
    "long_laps, short_laps, global_laps = [curr_active_pipeline.filtered_sessions[an_epoch_name].laps.as_epoch_obj() for an_epoch_name in [long_epoch_name, short_epoch_name, global_epoch_name]]\n",
    "long_replays, short_replays, global_replays = [Epoch(curr_active_pipeline.filtered_sessions[an_epoch_name].replay.epochs.get_valid_df()) for an_epoch_name in [long_epoch_name, short_epoch_name, global_epoch_name]]\n",
    "# short_laps.n_epochs: 40, long_laps.n_epochs: 40\n",
    "# short_replays.n_epochs: 6, long_replays.n_epochs: 8\n",
    "\n",
    "print(f'short_laps.n_epochs: {short_laps.n_epochs}, long_laps.n_epochs: {long_laps.n_epochs}')\n",
    "print(f'short_replays.n_epochs: {short_replays.n_epochs}, long_replays.n_epochs: {long_replays.n_epochs}')"
   ]
  },
  {
   "cell_type": "code",
   "execution_count": null,
   "id": "05e78382",
   "metadata": {},
   "outputs": [],
   "source": [
    "# , '_perform_position_decoding_computation'\n",
    "curr_active_pipeline.perform_specific_computation(computation_functions_name_whitelist=['_perform_extended_statistics_computation', '_perform_firing_rate_trends_computation', '_perform_pf_find_ratemap_peaks_computation'],\n",
    "                                                  fail_on_exception=True, debug_print=False) # fail_on_exception MUST be True or error handling is all messed up"
   ]
  },
  {
   "cell_type": "code",
   "execution_count": null,
   "id": "c8eaa7af",
   "metadata": {},
   "outputs": [],
   "source": [
    "from pyphoplacecellanalysis.General.Mixins.ExportHelpers import create_daily_programmatic_display_function_testing_folder_if_needed, session_context_to_relative_path\n",
    "# 2023-01-* - Call extended computations to build `_display_short_long_firing_rate_index_comparison` figures:\n",
    "extended_computations_include_whitelist=['long_short_fr_indicies_analyses', 'jonathan_firing_rate_analysis', 'long_short_decoding_analyses'] # do only specifiedl\n",
    "# extended_computations_include_whitelist=['long_short_fr_indicies_analyses', 'jonathan_firing_rate_analysis'] # do only specifiedl\n",
    "newly_computed_values = batch_extended_computations(curr_active_pipeline, include_whitelist=extended_computations_include_whitelist, include_global_functions=True, fail_on_exception=True, progress_print=True, force_recompute=True, debug_print=False)\n",
    "newly_computed_values"
   ]
  },
  {
   "cell_type": "code",
   "execution_count": null,
   "id": "64c6d71b",
   "metadata": {},
   "outputs": [],
   "source": [
    "## TODO 2025-05-16 - These computation_kwargs_lists don't get passed in?\n",
    "# time_bin_size=0.025\n",
    "decoding_time_bin_size=0.02\n",
    "curr_active_pipeline.perform_specific_computation(computation_functions_name_whitelist=['_perform_long_short_decoding_analyses'], computation_kwargs_list=[dict(decoding_time_bin_size=decoding_time_bin_size, perform_cache_load=False)], fail_on_exception=True, debug_print=False) # fail_on_exception MUST be True or error handling is all messed up \n",
    "\n",
    "# , decoding_time_bin_size = 0.02"
   ]
  },
  {
   "cell_type": "code",
   "execution_count": null,
   "id": "dda48261",
   "metadata": {},
   "outputs": [],
   "source": [
    "## long_short_decoding_analyses:\n",
    "curr_long_short_decoding_analyses = curr_active_pipeline.global_computation_results.computed_data['long_short_leave_one_out_decoding_analysis']\n",
    "## Extract variables from results object:\n",
    "long_one_step_decoder_1D, short_one_step_decoder_1D, long_replays, short_replays, global_replays, long_shared_aclus_only_decoder, short_shared_aclus_only_decoder, shared_aclus, long_short_pf_neurons_diff, n_neurons, long_results_obj, short_results_obj, is_global = curr_long_short_decoding_analyses.long_decoder, curr_long_short_decoding_analyses.short_decoder, curr_long_short_decoding_analyses.long_replays, curr_long_short_decoding_analyses.short_replays, curr_long_short_decoding_analyses.global_replays, curr_long_short_decoding_analyses.long_shared_aclus_only_decoder, curr_long_short_decoding_analyses.short_shared_aclus_only_decoder, curr_long_short_decoding_analyses.shared_aclus, curr_long_short_decoding_analyses.long_short_pf_neurons_diff, curr_long_short_decoding_analyses.n_neurons, curr_long_short_decoding_analyses.long_results_obj, curr_long_short_decoding_analyses.short_results_obj, curr_long_short_decoding_analyses.is_global\n"
   ]
  },
  {
   "cell_type": "code",
   "execution_count": null,
   "id": "be3571fd",
   "metadata": {},
   "outputs": [],
   "source": [
    "# (long_one_step_decoder_1D, short_one_step_decoder_1D), (long_one_step_decoder_2D, short_one_step_decoder_2D) = compute_short_long_constrained_decoders(curr_active_pipeline, recalculate_anyway=True)\n",
    "long_epoch_name, short_epoch_name, global_epoch_name = curr_active_pipeline.find_LongShortGlobal_epoch_names()\n",
    "long_epoch_context, short_epoch_context, global_epoch_context = [curr_active_pipeline.filtered_contexts[a_name] for a_name in (long_epoch_name, short_epoch_name, global_epoch_name)]\n",
    "long_session, short_session, global_session = [curr_active_pipeline.filtered_sessions[an_epoch_name] for an_epoch_name in [long_epoch_name, short_epoch_name, global_epoch_name]]\n",
    "long_results, short_results, global_results = [curr_active_pipeline.computation_results[an_epoch_name]['computed_data'] for an_epoch_name in [long_epoch_name, short_epoch_name, global_epoch_name]]\n",
    "long_pf1D, short_pf1D, global_pf1D = long_results.pf1D, short_results.pf1D, global_results.pf1D\n",
    "long_pf2D, short_pf2D, global_pf2D = long_results.pf2D, short_results.pf2D, global_results.pf2D\n",
    "decoding_time_bin_size = long_one_step_decoder_1D.time_bin_size # 1.0/30.0 # 0.03333333333333333"
   ]
  },
  {
   "cell_type": "code",
   "execution_count": null,
   "id": "f2eaef73",
   "metadata": {},
   "outputs": [],
   "source": [
    "global_session.get_output_path()"
   ]
  },
  {
   "cell_type": "code",
   "execution_count": null,
   "id": "074889cb",
   "metadata": {},
   "outputs": [],
   "source": [
    "long_results_obj.active_filter_epochs"
   ]
  },
  {
   "cell_type": "code",
   "execution_count": null,
   "id": "1f004af7",
   "metadata": {},
   "outputs": [],
   "source": [
    "curr_active_pipeline.global_computation_results.computed_data['long_short_fr_indicies_analysis'].long_mean_replays_frs\n",
    "curr_active_pipeline.global_computation_results.computed_data['long_short_fr_indicies_analysis'].short_mean_replays_frs\n",
    "\n",
    "# curr_active_pipeline.global_computation_results.computed_data.long_short_fr_indicies_analysis\n"
   ]
  },
  {
   "cell_type": "code",
   "execution_count": null,
   "id": "5af84b0f",
   "metadata": {},
   "outputs": [],
   "source": [
    "from neuropy.core.neurons import NeuronType\n",
    "\n",
    "# rate_remapping_df.to_clipboard(index=False)\n",
    "# rate_remapping_df.to_csv(f'C:/Users/pho/repos/Spike3DWorkEnv/Spike3D/data/rate_remapping_df.csv', index=False)\n",
    "\n",
    "# rate_remapping_df = pd.read_csv(f'C:/Users/pho/repos/Spike3DWorkEnv/Spike3D/data/rate_remapping_df.csv')\n",
    "# rate_remapping_df\n",
    "\n",
    "from pyphoplacecellanalysis.General.Pipeline.Stages.ComputationFunctions.MultiContextComputationFunctions.LongShortTrackComputations import compute_rate_remapping_stats\n",
    "rate_remapping_df = compute_rate_remapping_stats(curr_active_pipeline.global_computation_results.computed_data.long_short_fr_indicies_analysis, global_session.neurons.aclu_to_neuron_type_map, considerable_remapping_threshold=0.7)\n",
    "\n",
    "high_remapping_cells_only = rate_remapping_df[rate_remapping_df['has_considerable_remapping']] \n",
    "high_remapping_cells_only"
   ]
  },
  {
   "cell_type": "code",
   "execution_count": null,
   "id": "4fa8168b",
   "metadata": {},
   "outputs": [],
   "source": [
    "# rate_remapping_df.to_clipboard()\n",
    "rate_remapping_df"
   ]
  },
  {
   "cell_type": "code",
   "execution_count": null,
   "id": "40c6762f",
   "metadata": {},
   "outputs": [],
   "source": [
    "from pyphoplacecellanalysis.General.Pipeline.Stages.DisplayFunctions.MultiContextComparingDisplayFunctions.LongShortTrackComparingDisplayFunctions import plot_rr_aclu\n",
    "\n",
    "rr_aclus = np.array(list(curr_active_pipeline.global_computation_results.computed_data.long_short_fr_indicies_analysis.y_frs_index.keys()))\n",
    "rr_neuron_type = [global_session.neurons.aclu_to_neuron_type_map[aclu] for aclu in rr_aclus]\n",
    "rr_laps = np.array(list(curr_active_pipeline.global_computation_results.computed_data.long_short_fr_indicies_analysis.y_frs_index.values()))\n",
    "rr_replays = np.array(list(curr_active_pipeline.global_computation_results.computed_data.long_short_fr_indicies_analysis.x_frs_index.values()))\n",
    "rr_skew = rr_laps / rr_replays\n",
    "\n",
    "n_debug_limit = 100\n",
    "fig, ax = plot_rr_aclu([str(aclu) for aclu in rr_aclus[:n_debug_limit]], rr_laps=rr_laps[:n_debug_limit], rr_replays=rr_replays[:n_debug_limit])\n",
    "\n",
    "fig, axs, sort_indicies = plot_rr_aclu([str(aclu) for aclu in curr_page_rr_aclus], rr_laps=curr_page_rr_laps, rr_replays=curr_page_rr_replays, rr_neuron_types=curr_page_rr_neuron_type, fig=self.plots.fig, axs=self.plots.axs)"
   ]
  },
  {
   "cell_type": "code",
   "execution_count": null,
   "id": "b9003439",
   "metadata": {},
   "outputs": [],
   "source": [
    "# Extract rr_* variables from rate_remapping_df\n",
    "rr_aclus = rate_remapping_df.index.values\n",
    "rr_laps, rr_replays, rr_skew, rr_neuron_type = [rate_remapping_df[n].values for n in ['laps', 'replays', 'skew', 'neuron_type']]\n"
   ]
  },
  {
   "cell_type": "code",
   "execution_count": null,
   "id": "79483e2d",
   "metadata": {},
   "outputs": [],
   "source": [
    "# Plot using Paginator:\n",
    "import matplotlib.pyplot as plt\n",
    "%matplotlib qt\n",
    "\n",
    "from pyphoplacecellanalysis.General.Pipeline.Stages.DisplayFunctions.MultiContextComparingDisplayFunctions.LongShortTrackComparingDisplayFunctions import RateRemappingPaginatedFigureController\n",
    "\n",
    "## Paginated multi-plot\n",
    "active_identifying_session_ctx = curr_active_pipeline.sess.get_context()\n",
    "_out_rr_pagination_controller = RateRemappingPaginatedFigureController.init_from_rr_data(rr_aclus, rr_laps, rr_replays, rr_neuron_type, max_subplots_per_page=20, a_name='TestRateRemappingPaginatedFigureController', active_context=active_identifying_session_ctx)\n",
    "a_paginator = _out_rr_pagination_controller.plots_data.paginator"
   ]
  },
  {
   "cell_type": "code",
   "execution_count": null,
   "id": "e164482f",
   "metadata": {},
   "outputs": [],
   "source": [
    "\n",
    "# Set window icon to make it distinguishable in task bar:\n",
    "from silx.gui.icons import getQIcon\n",
    "_out_rr_pagination_controller.ui.mw.setWindowIcon(getQIcon('plot-window')) # QtGui.QIcon('icon.png')\n"
   ]
  },
  {
   "cell_type": "code",
   "execution_count": null,
   "id": "183508e7",
   "metadata": {
    "tags": [
     "save"
    ]
   },
   "outputs": [],
   "source": [
    "curr_active_pipeline.save_pipeline(saving_mode=PipelineSavingScheme.TEMP_THEN_OVERWRITE) # AttributeError: 'PfND_TimeDependent' object has no attribute '_included_thresh_neurons_indx'\n",
    "# TypeError: cannot pickle 'MplMultiTab' object"
   ]
  },
  {
   "cell_type": "code",
   "execution_count": null,
   "id": "b17e4b90",
   "metadata": {
    "tags": [
     "save"
    ]
   },
   "outputs": [],
   "source": [
    "curr_active_pipeline.save_pipeline(saving_mode=PipelineSavingScheme.OVERWRITE_IN_PLACE)"
   ]
  },
  {
   "cell_type": "code",
   "execution_count": null,
   "id": "7693b294",
   "metadata": {},
   "outputs": [],
   "source": [
    "from pyphoplacecellanalysis.General.Pipeline.Stages.Loading import loadData, saveData\n",
    "\n",
    "# Save out the `global_computation_results` which are not currently saved with the pipeline\n",
    "\n",
    "### Build a folder to store the outputs:\n",
    "output_data_folder = curr_active_pipeline.sess.get_output_path()\n",
    "global_computation_results_pickle_path = output_data_folder.joinpath(f'global_computation_results.pkl').resolve()\n",
    "print(f'global_computation_results_pickle_path: {global_computation_results_pickle_path}')\n",
    "saveData(global_computation_results_pickle_path, (curr_active_pipeline.global_computation_results.to_dict())) \n",
    "\n",
    "# 30.4s"
   ]
  },
  {
   "cell_type": "code",
   "execution_count": null,
   "id": "2918ae3e",
   "metadata": {},
   "outputs": [],
   "source": [
    "from pyphocorehelpers.DataStructure.dynamic_parameters import DynamicParameters\n",
    "loaded_global_computation_results = DynamicParameters(**loadData(global_computation_results_pickle_path))\n",
    "loaded_global_computation_results\n"
   ]
  },
  {
   "cell_type": "code",
   "execution_count": null,
   "id": "802ce5cc",
   "metadata": {},
   "outputs": [],
   "source": [
    "curr_active_pipeline.save_global_computation_results()"
   ]
  },
  {
   "cell_type": "code",
   "execution_count": 5,
   "id": "d379bd41",
   "metadata": {},
   "outputs": [
    {
     "name": "stdout",
     "output_type": "stream",
     "text": [
      "Loading loaded session pickle file results : W:\\Data\\KDIBA\\gor01\\one\\2006-6-09_1-22-43\\output\\global_computation_results.pkl... done.\n"
     ]
    }
   ],
   "source": [
    "curr_active_pipeline.load_pickled_global_computation_results()"
   ]
  },
  {
   "cell_type": "code",
   "execution_count": 6,
   "id": "230c905a",
   "metadata": {},
   "outputs": [
    {
     "data": {
      "text/plain": [
       "DynamicParameters({'sess': DataSession(2006-6-09_1-22-43.xml), 'computation_config': None, 'computed_data': DynamicParameters({'jonathan_firing_rate_analysis': DynamicParameters({'rdf': DynamicParameters({'rdf':           start          end  short_track  \\\n",
       "0     80.115937    80.581191        False   \n",
       "1     93.170825    93.355974        False   \n",
       "2    125.651586   125.806569        False   \n",
       "3    136.242424   136.338854        False   \n",
       "4    142.867158   142.967397        False   \n",
       "5    144.264671   144.398426        False   \n",
       "6    149.959357   150.254392        False   \n",
       "7    154.498757   154.852959        False   \n",
       "8    162.720500   162.827498        False   \n",
       "9    169.956316   170.159836        False   \n",
       "10   301.956740   302.369279        False   \n",
       "11   421.943008   422.108405        False   \n",
       "12   562.590401   562.681701        False   \n",
       "13   564.148980   564.439836        False   \n",
       "14   590.799426   590.913889        False   \n",
       "15   610.442706   610.637747        False   \n",
       "16   637.924066   638.182145        False   \n",
       "17   706.924223   707.041819        False   \n",
       "18   721.985187   722.092185        False   \n",
       "19   722.678445   722.836223        False   \n",
       "20   723.807803   723.960021        False   \n",
       "21   742.308023   742.505245        False   \n",
       "22   743.250205   743.383561        False   \n",
       "23   753.716811   754.034947        False   \n",
       "24   764.152451   764.266699        False   \n",
       "25   767.825148   768.001849        False   \n",
       "26   772.334688   772.470808        False   \n",
       "27   805.705223   805.842726        False   \n",
       "28   808.137294   808.220637        False   \n",
       "29   811.401722   811.565705        False   \n",
       "30   823.614974   823.887000        False   \n",
       "31   826.546060   826.823062        False   \n",
       "32  1080.334479  1080.476866         True   \n",
       "33  1085.079611  1085.183014         True   \n",
       "34  1115.846996  1116.021823         True   \n",
       "35  1161.001134  1161.267906         True   \n",
       "36  1172.390476  1172.570618         True   \n",
       "37  1191.712148  1191.864427         True   \n",
       "38  1214.680620  1214.746760         True   \n",
       "39  1224.448100  1225.198958         True   \n",
       "40  1252.561801  1252.735860         True   \n",
       "41  1267.917707  1268.012294         True   \n",
       "42  1273.424049  1273.585053         True   \n",
       "43  1302.650520  1302.801448         True   \n",
       "44  1671.716940  1672.087116         True   \n",
       "45  1696.829851  1697.281558         True   \n",
       "46  1706.089776  1706.457955         True   \n",
       "\n",
       "                                         firing_rates  duration  \\\n",
       "0   [0.0, 0.0, 0.0, 0.0, 0.0, 53.7340706427261, 0....  0.465254   \n",
       "1   [0.0, 0.0, 5.401045296337036, 0.0, 10.80209059...  0.185149   \n",
       "2   [0.0, 0.0, 0.0, 0.0, 0.0, 187.11811712903028, ...  0.154982   \n",
       "3   [0.0, 0.0, 0.0, 0.0, 0.0, 248.88512258970138, ...  0.096430   \n",
       "4   [0.0, 0.0, 0.0, 0.0, 0.0, 199.52252507187436, ...  0.100239   \n",
       "5   [0.0, 0.0, 7.4763665549365514, 0.0, 0.0, 104.6...  0.133755   \n",
       "6   [0.0, 3.3894314868565383, 0.0, 0.0, 0.0, 172.8...  0.295035   \n",
       "7   [0.0, 0.0, 2.823252384699566, 2.82325238469956...  0.354201   \n",
       "8   [0.0, 0.0, 0.0, 0.0, 0.0, 84.1139535167086, 0....  0.106998   \n",
       "9   [0.0, 4.9135245285095115, 0.0, 0.0, 0.0, 226.0...  0.203520   \n",
       "10  [2.4240151906575185, 2.4240151906575185, 2.424...  0.412539   \n",
       "11  [0.0, 0.0, 0.0, 0.0, 0.0, 169.29026740265783, ...  0.165396   \n",
       "12  [0.0, 0.0, 0.0, 0.0, 0.0, 262.87025582708714, ...  0.091300   \n",
       "13  [6.87623574096647, 6.87623574096647, 3.4381178...  0.290857   \n",
       "14  [8.736473426489022, 0.0, 0.0, 0.0, 0.0, 183.46...  0.114463   \n",
       "15  [20.508489539861607, 0.0, 0.0, 0.0, 0.0, 158.9...  0.195041   \n",
       "16  [3.8747887162328882, 0.0, 0.0, 11.624366148698...  0.258079   \n",
       "17  [0.0, 0.0, 0.0, 0.0, 0.0, 153.06630086122695, ...  0.117596   \n",
       "18  [0.0, 0.0, 0.0, 0.0, 0.0, 158.88191219822738, ...  0.106998   \n",
       "19  [0.0, 6.33802570068922, 6.33802570068922, 0.0,...  0.157778   \n",
       "20  [0.0, 0.0, 0.0, 0.0, 0.0, 183.94728547045472, ...  0.152218   \n",
       "21  [0.0, 0.0, 5.070420559803141, 0.0, 0.0, 157.18...  0.197222   \n",
       "22  [0.0, 0.0, 0.0, 0.0, 0.0, 142.47636486535316, ...  0.133355   \n",
       "23  [3.143308227070968, 0.0, 3.143308227070968, 0....  0.318136   \n",
       "24  [0.0, 0.0, 0.0, 0.0, 0.0, 218.8229362779619, 0...  0.114248   \n",
       "25  [0.0, 0.0, 0.0, 22.63706538007289, 0.0, 220.71...  0.176701   \n",
       "26  [0.0, 7.346445496241278, 0.0, 0.0, 7.346445496...  0.136120   \n",
       "27  [0.0, 0.0, 0.0, 0.0, 0.0, 138.17915552862314, ...  0.137503   \n",
       "28  [0.0, 0.0, 0.0, 0.0, 0.0, 107.98706222172927, ...  0.083343   \n",
       "29  [0.0, 6.098182841618163, 0.0, 0.0, 0.0, 182.94...  0.163983   \n",
       "30  [11.028379451213338, 3.676126483737779, 0.0, 0...  0.272025   \n",
       "31  [7.2201619168941225, 10.830242875341185, 3.610...  0.277002   \n",
       "32  [7.023106799061125, 0.0, 7.023106799061125, 7....  0.142387   \n",
       "33  [9.67085561071947, 9.67085561071947, 0.0, 9.67...  0.103403   \n",
       "34  [0.0, 0.0, 0.0, 5.719926202242021, 0.0, 125.83...  0.174827   \n",
       "35  [3.7485145075916773, 0.0, 3.7485145075916773, ...  0.266772   \n",
       "36  [0.0, 0.0, 11.102353343820221, 0.0, 0.0, 61.06...  0.180142   \n",
       "37  [0.0, 0.0, 6.566895302601564, 0.0, 0.0, 105.07...  0.152279   \n",
       "38  [0.0, 15.119414754575056, 0.0, 0.0, 0.0, 120.9...  0.066140   \n",
       "39  [1.3318099992140446, 3.9954299976421344, 6.659...  0.750858   \n",
       "40  [17.235492415407293, 0.0, 17.235492415407293, ...  0.174059   \n",
       "41  [0.0, 0.0, 10.572296206103479, 0.0, 0.0, 105.7...  0.094587   \n",
       "42  [0.0, 6.2110475135253225, 12.422095027050645, ...  0.161003   \n",
       "43  [0.0, 0.0, 0.0, 0.0, 0.0, 99.38560958861521, 0...  0.150927   \n",
       "44  [0.0, 0.0, 5.4028381733865105, 0.0, 0.0, 94.54...  0.370176   \n",
       "45  [0.0, 4.427652341016609, 4.427652341016609, 0....  0.451707   \n",
       "46  [2.716070087494836, 0.0, 2.716070087494836, 10...  0.368179   \n",
       "\n",
       "    num_neuron_participating  \\\n",
       "0                         34   \n",
       "1                         39   \n",
       "2                         28   \n",
       "3                         24   \n",
       "4                         25   \n",
       "5                         37   \n",
       "6                         49   \n",
       "7                         49   \n",
       "8                         32   \n",
       "9                         43   \n",
       "10                        58   \n",
       "11                        35   \n",
       "12                        25   \n",
       "13                        56   \n",
       "14                        26   \n",
       "15                        31   \n",
       "16                        57   \n",
       "17                        32   \n",
       "18                        30   \n",
       "19                        42   \n",
       "20                        30   \n",
       "21                        42   \n",
       "22                        38   \n",
       "23                        39   \n",
       "24                        35   \n",
       "25                        34   \n",
       "26                        31   \n",
       "27                        35   \n",
       "28                        30   \n",
       "29                        32   \n",
       "30                        54   \n",
       "31                        49   \n",
       "32                        46   \n",
       "33                        42   \n",
       "34                        44   \n",
       "35                        57   \n",
       "36                        54   \n",
       "37                        36   \n",
       "38                        26   \n",
       "39                        67   \n",
       "40                        48   \n",
       "41                        29   \n",
       "42                        41   \n",
       "43                        45   \n",
       "44                        44   \n",
       "45                        50   \n",
       "46                        56   \n",
       "\n",
       "                                     is_neuron_active  \\\n",
       "0   [False, False, False, False, False, True, Fals...   \n",
       "1   [False, False, True, False, True, True, False,...   \n",
       "2   [False, False, False, False, False, True, Fals...   \n",
       "3   [False, False, False, False, False, True, Fals...   \n",
       "4   [False, False, False, False, False, True, Fals...   \n",
       "5   [False, False, True, False, False, True, False...   \n",
       "6   [False, True, False, False, False, True, False...   \n",
       "7   [False, False, True, True, True, True, False, ...   \n",
       "8   [False, False, False, False, False, True, Fals...   \n",
       "9   [False, True, False, False, False, True, False...   \n",
       "10  [True, True, True, True, False, True, False, F...   \n",
       "11  [False, False, False, False, False, True, Fals...   \n",
       "12  [False, False, False, False, False, True, Fals...   \n",
       "13  [True, True, True, True, True, True, False, Fa...   \n",
       "14  [True, False, False, False, False, True, False...   \n",
       "15  [True, False, False, False, False, True, False...   \n",
       "16  [True, False, False, True, False, True, False,...   \n",
       "17  [False, False, False, False, False, True, Fals...   \n",
       "18  [False, False, False, False, False, True, Fals...   \n",
       "19  [False, True, True, False, False, True, False,...   \n",
       "20  [False, False, False, False, False, True, Fals...   \n",
       "21  [False, False, True, False, False, True, False...   \n",
       "22  [False, False, False, False, False, True, Fals...   \n",
       "23  [True, False, True, False, True, True, False, ...   \n",
       "24  [False, False, False, False, False, True, Fals...   \n",
       "25  [False, False, False, True, False, True, False...   \n",
       "26  [False, True, False, False, True, True, False,...   \n",
       "27  [False, False, False, False, False, True, Fals...   \n",
       "28  [False, False, False, False, False, True, Fals...   \n",
       "29  [False, True, False, False, False, True, False...   \n",
       "30  [True, True, False, False, False, True, False,...   \n",
       "31  [True, True, True, False, False, True, False, ...   \n",
       "32  [True, False, True, True, False, True, False, ...   \n",
       "33  [True, True, False, True, False, True, False, ...   \n",
       "34  [False, False, False, True, False, True, False...   \n",
       "35  [True, False, True, False, False, True, False,...   \n",
       "36  [False, False, True, False, False, True, False...   \n",
       "37  [False, False, True, False, False, True, False...   \n",
       "38  [False, True, False, False, False, True, False...   \n",
       "39  [True, True, True, True, False, True, True, Fa...   \n",
       "40  [True, False, True, False, False, True, False,...   \n",
       "41  [False, False, True, False, False, True, False...   \n",
       "42  [False, True, True, False, True, True, False, ...   \n",
       "43  [False, False, False, False, False, True, Fals...   \n",
       "44  [False, False, True, False, False, True, False...   \n",
       "45  [False, True, True, False, False, True, False,...   \n",
       "46  [True, False, True, True, False, True, False, ...   \n",
       "\n",
       "                                         active_aclus  \\\n",
       "0   [7, 13, 17, 21, 22, 26, 28, 30, 36, 37, 40, 41...   \n",
       "1   [4, 6, 7, 10, 11, 18, 19, 21, 22, 36, 37, 39, ...   \n",
       "2   [7, 10, 13, 14, 18, 21, 22, 35, 36, 37, 41, 43...   \n",
       "3   [7, 14, 18, 21, 22, 24, 36, 41, 42, 47, 50, 51...   \n",
       "4   [7, 18, 21, 22, 36, 39, 41, 42, 49, 50, 51, 53...   \n",
       "5   [4, 7, 17, 21, 22, 26, 36, 37, 39, 40, 41, 42,...   \n",
       "6   [3, 7, 9, 11, 12, 21, 22, 24, 31, 36, 38, 39, ...   \n",
       "7   [4, 5, 6, 7, 9, 10, 11, 14, 15, 19, 21, 22, 24...   \n",
       "8   [7, 10, 17, 21, 22, 26, 36, 37, 40, 41, 42, 49...   \n",
       "9   [3, 7, 10, 11, 14, 21, 22, 26, 27, 36, 37, 41,...   \n",
       "10  [2, 3, 4, 5, 7, 10, 11, 14, 15, 16, 20, 21, 22...   \n",
       "11  [7, 9, 10, 14, 17, 18, 19, 21, 22, 26, 31, 36,...   \n",
       "12  [7, 18, 20, 21, 22, 24, 26, 35, 36, 41, 47, 49...   \n",
       "13  [2, 3, 4, 5, 6, 7, 10, 11, 15, 20, 21, 22, 23,...   \n",
       "14  [2, 7, 14, 21, 22, 36, 41, 42, 43, 46, 53, 56,...   \n",
       "15  [2, 7, 14, 21, 22, 26, 36, 37, 41, 42, 43, 54,...   \n",
       "16  [2, 5, 7, 9, 10, 15, 17, 21, 22, 23, 26, 29, 3...   \n",
       "17  [7, 10, 11, 21, 22, 36, 41, 42, 43, 46, 47, 49...   \n",
       "18  [7, 9, 10, 12, 16, 18, 21, 22, 24, 36, 41, 43,...   \n",
       "19  [3, 4, 7, 14, 21, 22, 24, 28, 31, 36, 39, 41, ...   \n",
       "20  [7, 14, 20, 21, 22, 26, 36, 41, 43, 51, 52, 53...   \n",
       "21  [4, 7, 10, 14, 16, 19, 20, 21, 22, 27, 31, 34,...   \n",
       "22  [7, 10, 11, 14, 15, 17, 19, 21, 22, 34, 36, 37...   \n",
       "23  [2, 4, 6, 7, 10, 11, 15, 18, 20, 21, 22, 36, 4...   \n",
       "24  [7, 14, 21, 22, 23, 24, 26, 36, 37, 41, 43, 46...   \n",
       "25  [5, 7, 10, 11, 14, 19, 21, 22, 24, 27, 29, 35,...   \n",
       "26  [3, 6, 7, 12, 14, 17, 21, 22, 26, 27, 36, 37, ...   \n",
       "27  [7, 11, 14, 15, 21, 22, 24, 25, 36, 41, 42, 43...   \n",
       "28  [7, 21, 22, 26, 36, 37, 40, 41, 42, 49, 52, 54...   \n",
       "29  [3, 7, 10, 14, 21, 22, 36, 41, 43, 46, 49, 50,...   \n",
       "30  [2, 3, 7, 9, 10, 11, 14, 15, 18, 19, 21, 22, 3...   \n",
       "31  [2, 3, 4, 7, 9, 10, 11, 12, 19, 21, 22, 24, 31...   \n",
       "32  [2, 4, 5, 7, 10, 17, 21, 22, 24, 26, 29, 36, 3...   \n",
       "33  [2, 3, 5, 7, 9, 21, 22, 23, 26, 29, 31, 36, 37...   \n",
       "34  [5, 7, 10, 11, 14, 17, 20, 21, 22, 24, 29, 36,...   \n",
       "35  [2, 4, 7, 9, 10, 11, 14, 15, 17, 21, 22, 24, 2...   \n",
       "36  [4, 7, 11, 14, 15, 17, 21, 22, 24, 25, 27, 36,...   \n",
       "37  [4, 7, 13, 21, 22, 24, 26, 31, 36, 39, 40, 41,...   \n",
       "38  [3, 7, 9, 21, 22, 31, 35, 36, 40, 41, 44, 51, ...   \n",
       "39  [2, 3, 4, 5, 7, 8, 10, 11, 14, 15, 17, 18, 19,...   \n",
       "40  [2, 4, 7, 9, 21, 22, 26, 31, 36, 39, 40, 41, 4...   \n",
       "41  [4, 7, 21, 22, 24, 26, 36, 37, 40, 41, 42, 46,...   \n",
       "42  [3, 4, 6, 7, 10, 11, 14, 15, 21, 22, 27, 36, 4...   \n",
       "43  [7, 12, 15, 17, 19, 21, 22, 24, 25, 36, 40, 41...   \n",
       "44  [4, 7, 16, 19, 21, 22, 31, 36, 37, 39, 41, 42,...   \n",
       "45  [3, 4, 7, 9, 10, 14, 16, 19, 21, 22, 24, 31, 3...   \n",
       "46  [2, 4, 5, 7, 10, 17, 19, 20, 21, 22, 24, 26, 2...   \n",
       "\n",
       "    num_long_only_neuron_participating  num_shared_neuron_participating  \\\n",
       "0                                    1                               32   \n",
       "1                                    0                               38   \n",
       "2                                    0                               28   \n",
       "3                                    0                               24   \n",
       "4                                    1                               24   \n",
       "5                                    1                               36   \n",
       "6                                    1                               47   \n",
       "7                                    1                               47   \n",
       "8                                    1                               31   \n",
       "9                                    2                               41   \n",
       "10                                   1                               57   \n",
       "11                                   1                               34   \n",
       "12                                   1                               24   \n",
       "13                                   2                               52   \n",
       "14                                   0                               26   \n",
       "15                                   2                               29   \n",
       "16                                   1                               56   \n",
       "17                                   1                               31   \n",
       "18                                   0                               30   \n",
       "19                                   1                               41   \n",
       "20                                   2                               28   \n",
       "21                                   0                               42   \n",
       "22                                   0                               38   \n",
       "23                                   1                               37   \n",
       "24                                   1                               34   \n",
       "25                                   1                               33   \n",
       "26                                   1                               29   \n",
       "27                                   0                               35   \n",
       "28                                   1                               29   \n",
       "29                                   0                               32   \n",
       "30                                   0                               53   \n",
       "31                                   0                               49   \n",
       "32                                   1                               45   \n",
       "33                                   1                               41   \n",
       "34                                   1                               43   \n",
       "35                                   1                               56   \n",
       "36                                   0                               54   \n",
       "37                                   1                               34   \n",
       "38                                   0                               26   \n",
       "39                                   2                               65   \n",
       "40                                   2                               46   \n",
       "41                                   1                               28   \n",
       "42                                   1                               39   \n",
       "43                                   0                               44   \n",
       "44                                   1                               43   \n",
       "45                                   1                               49   \n",
       "46                                   2                               54   \n",
       "\n",
       "    num_short_only_neuron_participating  \n",
       "0                                     1  \n",
       "1                                     1  \n",
       "2                                     0  \n",
       "3                                     0  \n",
       "4                                     0  \n",
       "5                                     0  \n",
       "6                                     1  \n",
       "7                                     1  \n",
       "8                                     0  \n",
       "9                                     0  \n",
       "10                                    0  \n",
       "11                                    0  \n",
       "12                                    0  \n",
       "13                                    2  \n",
       "14                                    0  \n",
       "15                                    0  \n",
       "16                                    0  \n",
       "17                                    0  \n",
       "18                                    0  \n",
       "19                                    0  \n",
       "20                                    0  \n",
       "21                                    0  \n",
       "22                                    0  \n",
       "23                                    1  \n",
       "24                                    0  \n",
       "25                                    0  \n",
       "26                                    1  \n",
       "27                                    0  \n",
       "28                                    0  \n",
       "29                                    0  \n",
       "30                                    1  \n",
       "31                                    0  \n",
       "32                                    0  \n",
       "33                                    0  \n",
       "34                                    0  \n",
       "35                                    0  \n",
       "36                                    0  \n",
       "37                                    1  \n",
       "38                                    0  \n",
       "39                                    0  \n",
       "40                                    0  \n",
       "41                                    0  \n",
       "42                                    1  \n",
       "43                                    1  \n",
       "44                                    0  \n",
       "45                                    0  \n",
       "46                                    0  , 'aclu_to_idx': {2: 0, 3: 1, 4: 2, 5: 3, 6: 4, 7: 5, 8: 6, 9: 7, 10: 8, 11: 9, 12: 10, 13: 11, 14: 12, 15: 13, 16: 14, 17: 15, 18: 16, 19: 17, 20: 18, 21: 19, 22: 20, 23: 21, 24: 22, 25: 23, 26: 24, 27: 25, 28: 26, 29: 27, 30: 28, 31: 29, 32: 30, 33: 31, 34: 32, 35: 33, 36: 34, 37: 35, 38: 36, 39: 37, 40: 38, 41: 39, 42: 40, 43: 41, 44: 42, 45: 43, 46: 44, 47: 45, 48: 46, 49: 47, 50: 48, 51: 49, 52: 50, 53: 51, 54: 52, 55: 53, 56: 54, 57: 55, 58: 56, 59: 57, 60: 58, 61: 59, 62: 60, 63: 61, 64: 62, 65: 63, 66: 64, 67: 65, 68: 66, 69: 67, 70: 68, 71: 69, 72: 70, 73: 71, 74: 72, 75: 73, 76: 74, 77: 75, 78: 76, 79: 77, 80: 78, 81: 79, 82: 80, 83: 81, 84: 82, 85: 83, 86: 84, 87: 85, 88: 86, 89: 87, 90: 88, 91: 89, 92: 90, 93: 91, 94: 92, 95: 93, 96: 94, 97: 95, 98: 96, 99: 97, 100: 98, 101: 99, 102: 100, 103: 101, 104: 102}}), 'irdf': DynamicParameters({'irdf':           start          end  short_track  \\\n",
       "0      0.000000    80.115937        False   \n",
       "1     80.581191    93.170825        False   \n",
       "2     93.355974   125.651586        False   \n",
       "3    125.806569   136.242424        False   \n",
       "4    136.338854   142.867158        False   \n",
       "5    142.967397   144.264671        False   \n",
       "6    144.398426   149.959357        False   \n",
       "7    150.254392   154.498757        False   \n",
       "8    154.852959   162.720500        False   \n",
       "9    162.827498   169.956316        False   \n",
       "10   170.159836   301.956740        False   \n",
       "11   302.369279   421.943008        False   \n",
       "12   422.108405   562.590401        False   \n",
       "13   562.681701   564.148980        False   \n",
       "14   564.439836   590.799426        False   \n",
       "15   590.913889   610.442706        False   \n",
       "16   610.637747   637.924066        False   \n",
       "17   638.182145   706.924223        False   \n",
       "18   707.041819   721.985187        False   \n",
       "19   722.092185   722.678445        False   \n",
       "20   722.836223   723.807803        False   \n",
       "21   723.960021   742.308023        False   \n",
       "22   742.505245   743.250205        False   \n",
       "23   743.383561   753.716811        False   \n",
       "24   754.034947   764.152451        False   \n",
       "25   764.266699   767.825148        False   \n",
       "26   768.001849   772.334688        False   \n",
       "27   772.470808   805.705223        False   \n",
       "28   805.842726   808.137294        False   \n",
       "29   808.220637   811.401722        False   \n",
       "30   811.565705   823.614974        False   \n",
       "31   823.887000   826.546060        False   \n",
       "32   826.823062  1080.334479        False   \n",
       "33  1080.476866  1085.079611         True   \n",
       "34  1085.183014  1115.846996         True   \n",
       "35  1116.021823  1161.001134         True   \n",
       "36  1161.267906  1172.390476         True   \n",
       "37  1172.570618  1191.712148         True   \n",
       "38  1191.864427  1214.680620         True   \n",
       "39  1214.746760  1224.448100         True   \n",
       "40  1225.198958  1252.561801         True   \n",
       "41  1252.735860  1267.917707         True   \n",
       "42  1268.012294  1273.424049         True   \n",
       "43  1273.585053  1302.650520         True   \n",
       "44  1302.801448  1671.716940         True   \n",
       "45  1672.087116  1696.829851         True   \n",
       "46  1697.281558  1706.089776         True   \n",
       "47  1706.457955  1737.196831         True   \n",
       "\n",
       "                                         firing_rates    duration  \n",
       "0   [0.6740231953021775, 0.6365774622298342, 0.124...   80.115937  \n",
       "1   [2.2240520815133595, 2.0651912185481196, 0.397...   12.589633  \n",
       "2   [1.6101258453894074, 1.1147025083465127, 0.061...   32.295612  \n",
       "3   [0.0, 0.47911742108719985, 0.0, 0.0, 0.5749409...   10.435855  \n",
       "4   [0.0, 0.30635828902004686, 0.0, 0.0, 1.2254331...    6.528304  \n",
       "5   [0.0, 0.0, 0.7708470483457575, 0.0, 0.0, 32.37...    1.297274  \n",
       "6   [0.3596519721590311, 0.0, 0.0, 0.3596519721590...    5.560932  \n",
       "7   [0.7068194813354041, 0.23560649377846804, 0.0,...    4.244365  \n",
       "8   [0.254209015836222, 0.254209015836222, 0.12710...    7.867542  \n",
       "9   [0.0, 0.1402757069343105, 0.0, 0.1402757069343...    7.128818  \n",
       "10  [1.4036748537264887, 0.7435683008929508, 0.144...  131.796904  \n",
       "11  [1.246093106113652, 0.669043278450283, 0.09199...  119.573729  \n",
       "12  [2.2209251552154043, 1.1674093764593791, 0.206...  140.481997  \n",
       "13  [2.044601469827013, 0.0, 0.0, 0.0, 0.0, 22.490...    1.467279  \n",
       "14  [2.5797063142480017, 0.5690528634370592, 0.189...   26.359590  \n",
       "15  [0.2560318953475912, 0.20482551627807294, 0.30...   19.528817  \n",
       "16  [0.14659360726393408, 0.14659360726393408, 0.0...   27.286319  \n",
       "17  [0.9310163699410413, 0.9601106315016988, 0.116...   68.742078  \n",
       "18  [0.066919319625772, 0.066919319625772, 0.0, 0....   14.943368  \n",
       "19  [0.0, 0.0, 0.0, 0.0, 1.7057273107262167, 28.99...    0.586260  \n",
       "20  [0.0, 0.0, 0.0, 0.0, 0.0, 32.936010372239245, ...    0.971581  \n",
       "21  [0.05450184674859058, 0.05450184674859058, 0.0...   18.348002  \n",
       "22  [0.0, 0.0, 0.0, 0.0, 0.0, 17.45061031006719, 0...    0.744960  \n",
       "23  [0.48387485172804484, 0.09677497034560896, 0.0...   10.333250  \n",
       "24  [0.2965158222642754, 0.19767721484285028, 0.09...   10.117504  \n",
       "25  [0.0, 0.0, 0.28102128026565315, 0.0, 0.5620425...    3.558449  \n",
       "26  [0.0, 0.2307955729807448, 0.0, 0.0, 1.38477343...    4.332839  \n",
       "27  [0.0, 0.39116078938823073, 0.06017858298280473...   33.234415  \n",
       "28  [0.0, 0.4358119234870741, 0.0, 0.0, 1.30743577...    2.294568  \n",
       "29  [0.31435814236140647, 0.0, 0.0, 0.0, 0.3143581...    3.181085  \n",
       "30  [0.08299258851252865, 0.0, 0.08299258851252865...   12.049269  \n",
       "31  [0.0, 0.0, 0.0, 0.0, 1.1282180734214977, 31.21...    2.659060  \n",
       "32  [1.8855166583881422, 0.49701903547469856, 0.53...  253.511417  \n",
       "33  [0.0, 3.0416634963587676, 0.6517850349340216, ...    4.602745  \n",
       "34  [0.3913386102854196, 0.3913386102854196, 0.684...   30.663982  \n",
       "35  [1.0671573197406226, 0.24455688577389267, 0.71...   44.979310  \n",
       "36  [4.495364066494011, 0.17981456265976042, 0.809...   11.122570  \n",
       "37  [0.9926061271324186, 0.1567272832314345, 0.470...   19.141530  \n",
       "38  [0.7889133786176309, 0.3506281682745026, 0.876...   22.816193  \n",
       "39  [0.3092356213945446, 0.1030785404648482, 1.340...    9.701340  \n",
       "40  [0.2923672812265525, 0.14618364061327624, 0.65...   27.362843  \n",
       "41  [0.0, 0.0, 0.19760441601632453, 0.065868138672...   15.181847  \n",
       "42  [0.36956585908407064, 0.0, 0.0, 0.0, 1.4782634...    5.411755  \n",
       "43  [0.06881017859878023, 0.13762035719756047, 0.7...   29.065467  \n",
       "44  [0.8890925069868091, 0.15721757745498455, 0.93...  368.915492  \n",
       "45  [0.3637431278773981, 0.4041590309748868, 0.687...   24.742735  \n",
       "46  [0.22706067813755534, 0.0, 0.5676516953438884,...    8.808218  \n",
       "47  [0.3578530338401416, 0.03253209398546742, 0.81...   30.738876  , 'aclu_to_idx': {2: 0, 3: 1, 4: 2, 5: 3, 6: 4, 7: 5, 8: 6, 9: 7, 10: 8, 11: 9, 12: 10, 13: 11, 14: 12, 15: 13, 16: 14, 17: 15, 18: 16, 19: 17, 20: 18, 21: 19, 22: 20, 23: 21, 24: 22, 25: 23, 26: 24, 27: 25, 28: 26, 29: 27, 30: 28, 31: 29, 32: 30, 33: 31, 34: 32, 35: 33, 36: 34, 37: 35, 38: 36, 39: 37, 40: 38, 41: 39, 42: 40, 43: 41, 44: 42, 45: 43, 46: 44, 47: 45, 48: 46, 49: 47, 50: 48, 51: 49, 52: 50, 53: 51, 54: 52, 55: 53, 56: 54, 57: 55, 58: 56, 59: 57, 60: 58, 61: 59, 62: 60, 63: 61, 64: 62, 65: 63, 66: 64, 67: 65, 68: 66, 69: 67, 70: 68, 71: 69, 72: 70, 73: 71, 74: 72, 75: 73, 76: 74, 77: 75, 78: 76, 79: 77, 80: 78, 81: 79, 82: 80, 83: 81, 84: 82, 85: 83, 86: 84, 87: 85, 88: 86, 89: 87, 90: 88, 91: 89, 92: 90, 93: 91, 94: 92, 95: 93, 96: 94, 97: 95, 98: 96, 99: 97, 100: 98, 101: 99, 102: 100, 103: 101, 104: 102}}), 'time_binned_unit_specific_spike_rate': DynamicParameters({'time_bins': array([2.52119679e-01, 7.52119679e-01, 1.25211968e+00, ...,\n",
       "       1.73625212e+03, 1.73675212e+03, 1.73725212e+03]), 'time_binned_unit_specific_binned_spike_rate':       2    3    4    5    6     7    8    9     10   11   ...  95    96   97   \\\n",
       "1     2.0  0.0  0.0  0.0  0.0  76.0  0.0  0.0   2.0  0.0  ...  0.0  10.0  0.0   \n",
       "2     4.0  0.0  0.0  0.0  0.0  38.0  0.0  0.0   6.0  0.0  ...  0.0  14.0  0.0   \n",
       "3     2.0  2.0  0.0  0.0  0.0  40.0  0.0  0.0  14.0  0.0  ...  0.0   6.0  0.0   \n",
       "4     4.0  2.0  0.0  0.0  0.0  64.0  0.0  2.0   0.0  0.0  ...  0.0  36.0  0.0   \n",
       "5     0.0  0.0  0.0  0.0  0.0  44.0  0.0  0.0   4.0  0.0  ...  0.0  24.0  0.0   \n",
       "...   ...  ...  ...  ...  ...   ...  ...  ...   ...  ...  ...  ...   ...  ...   \n",
       "3471  0.0  0.0  2.0  0.0  2.0  36.0  0.0  0.0   0.0  0.0  ...  2.0  24.0  0.0   \n",
       "3472  0.0  0.0  0.0  0.0  0.0  24.0  0.0  0.0   2.0  0.0  ...  2.0  30.0  0.0   \n",
       "3473  0.0  0.0  4.0  0.0  0.0  18.0  0.0  0.0   2.0  0.0  ...  0.0  28.0  0.0   \n",
       "3474  0.0  0.0  0.0  0.0  0.0  24.0  0.0  0.0   0.0  0.0  ...  0.0  24.0  0.0   \n",
       "3475  0.0  0.0  0.0  0.0  0.0   8.0  0.0  0.0   2.0  0.0  ...  0.0   6.0  2.0   \n",
       "\n",
       "       98    99   100  101  102  103  104  \n",
       "1     48.0  10.0  0.0  0.0  0.0  0.0  0.0  \n",
       "2     56.0  12.0  0.0  0.0  0.0  0.0  0.0  \n",
       "3     42.0  10.0  2.0  0.0  0.0  0.0  0.0  \n",
       "4     52.0  22.0  0.0  0.0  0.0  0.0  0.0  \n",
       "5     34.0  10.0  2.0  4.0  0.0  0.0  0.0  \n",
       "...    ...   ...  ...  ...  ...  ...  ...  \n",
       "3471   0.0  10.0  0.0  0.0  4.0  0.0  0.0  \n",
       "3472   0.0  14.0  0.0  0.0  0.0  0.0  0.0  \n",
       "3473   0.0  12.0  0.0  4.0  2.0  0.0  0.0  \n",
       "3474   0.0   8.0  0.0  4.0  6.0  0.0  0.0  \n",
       "3475   0.0   4.0  0.0  2.0  0.0  0.0  0.0  \n",
       "\n",
       "[3475 rows x 103 columns]}), 'time_binned_instantaneous_unit_specific_spike_rate': DynamicParameters({'time_bins': array([0.0000e+00, 5.0000e-01, 1.0000e+00, ..., 1.7355e+03, 1.7360e+03,\n",
       "       1.7365e+03]), 'instantaneous_unit_specific_spike_rate_values':            2         3         4             5             6          7    \\\n",
       "0     2.170002  0.000007  0.000000  0.000000e+00  0.000000e+00  77.464370   \n",
       "1     4.164721  0.087649  0.000000  5.052748e-16  5.684342e-16  42.982962   \n",
       "2     2.345285  2.082353  0.000000  1.657933e-16  5.052748e-16  44.364391   \n",
       "3     4.077079  2.082360  0.000000  0.000000e+00  0.000000e+00  67.512176   \n",
       "4     0.175290  0.175290  0.000000  0.000000e+00  6.315935e-17  50.544769   \n",
       "...        ...       ...       ...           ...           ...        ...   \n",
       "3469  0.000000  0.000000  2.082360  0.000000e+00  8.764150e-02  36.364286   \n",
       "3470  0.000000  0.000000  2.082368  0.000000e+00  1.994711e+00  38.446550   \n",
       "3471  0.000000  0.000000  0.262932  0.000000e+00  8.764150e-02  26.303073   \n",
       "3472  0.000000  0.000000  3.989430  0.000000e+00  7.433598e-06  20.055932   \n",
       "3473  0.000000  0.000000  0.175283  0.000000e+00  6.700813e-16  24.725400   \n",
       "\n",
       "               8             9          10            11   ...           95   \\\n",
       "0     0.000000e+00  1.136868e-15   0.350618  7.579123e-16  ...  0.000000e+00   \n",
       "1     0.000000e+00  7.433598e-06   8.592336  0.000000e+00  ...  0.000000e+00   \n",
       "2     0.000000e+00  8.764150e-02  14.313561  0.000000e+00  ...  1.263187e-16   \n",
       "3     0.000000e+00  1.994711e+00   0.788803  0.000000e+00  ...  9.473903e-16   \n",
       "4     7.433598e-06  8.764150e-02   3.989475  1.010550e-15  ...  1.784252e-15   \n",
       "...            ...           ...        ...           ...  ...           ...   \n",
       "3469  2.526374e-16  0.000000e+00   0.087649  0.000000e+00  ...  8.767124e-02   \n",
       "3470  0.000000e+00  0.000000e+00   0.087656  2.021099e-15  ...  2.082353e+00   \n",
       "3471  0.000000e+00  0.000000e+00   2.082353  5.052748e-16  ...  2.082353e+00   \n",
       "3472  0.000000e+00  0.000000e+00   2.082353  0.000000e+00  ...  8.764894e-02   \n",
       "3473  0.000000e+00  6.976528e-17   0.087649  0.000000e+00  ...  7.433598e-06   \n",
       "\n",
       "            96            97            98         99            100  \\\n",
       "0     10.587070  0.000000e+00  5.032719e+01  10.499443  7.433598e-06   \n",
       "1     14.664246  0.000000e+00  5.979598e+01  12.844765  8.764150e-02   \n",
       "2      8.175298  0.000000e+00  4.662189e+01  11.463537  1.994719e+00   \n",
       "3     37.219569  8.526513e-16  5.519320e+01  22.818374  1.753053e-01   \n",
       "4     26.565893  1.263187e-16  3.759131e+01  11.989438  2.257643e+00   \n",
       "...         ...           ...           ...        ...           ...   \n",
       "3469  20.143641  0.000000e+00  0.000000e+00  18.565997  1.470357e-15   \n",
       "3470  26.040134  0.000000e+00  8.084397e-15  11.375881  6.347220e-16   \n",
       "3471  32.199506  2.187624e-16  1.768462e-15  14.927133  2.512537e-16   \n",
       "3472  30.292369  3.059410e-17  1.105289e-15  12.932362  0.000000e+00   \n",
       "3473  25.163629  0.000000e+00  5.196682e-16   8.504747  0.000000e+00   \n",
       "\n",
       "               101           102           103           104  \n",
       "0     6.000139e-16  0.000000e+00  0.000000e+00  0.000000e+00  \n",
       "1     0.000000e+00  3.536924e-15  5.052748e-16  0.000000e+00  \n",
       "2     1.486720e-05  0.000000e+00  0.000000e+00  1.010550e-15  \n",
       "3     1.752830e-01  1.515825e-15  1.010550e-15  0.000000e+00  \n",
       "4     3.989423e+00  2.526374e-16  0.000000e+00  7.433598e-06  \n",
       "...            ...           ...           ...           ...  \n",
       "3469  3.989438e+00  1.752830e-01  0.000000e+00  0.000000e+00  \n",
       "3470  1.752979e-01  3.989430e+00  0.000000e+00  5.052748e-16  \n",
       "3471  1.753127e-01  2.629468e-01  7.894919e-17  0.000000e+00  \n",
       "3472  4.164706e+00  2.257651e+00  0.000000e+00  5.052748e-16  \n",
       "3473  4.164706e+00  6.071776e+00  0.000000e+00  6.947529e-16  \n",
       "\n",
       "[3474 rows x 103 columns]}), 'neuron_replay_stats_df':      long_pf_peak_x  has_long_pf  short_pf_peak_x  has_short_pf  has_na  \\\n",
       "2            45.539         True           21.539          True   False   \n",
       "3            21.539         True           53.539          True   False   \n",
       "4            21.539         True           25.539          True   False   \n",
       "5            21.539         True           25.539          True   False   \n",
       "6               NaN        False           67.539          True    True   \n",
       "..              ...          ...              ...           ...     ...   \n",
       "100          31.539         True              NaN         False    True   \n",
       "101          99.539         True           45.539          True   False   \n",
       "102             NaN        False              NaN         False    True   \n",
       "103          91.539         True           75.539          True   False   \n",
       "104          21.539         True           73.539          True   False   \n",
       "\n",
       "                        track_membership  long_non_replay_mean  \\\n",
       "2        SplitPartitionMembership.SHARED              0.944867   \n",
       "3        SplitPartitionMembership.SHARED              0.507100   \n",
       "4        SplitPartitionMembership.SHARED              0.201148   \n",
       "5        SplitPartitionMembership.SHARED              0.277127   \n",
       "6    SplitPartitionMembership.RIGHT_ONLY              0.823679   \n",
       "..                                   ...                   ...   \n",
       "100   SplitPartitionMembership.LEFT_ONLY              0.376681   \n",
       "101      SplitPartitionMembership.SHARED              2.291240   \n",
       "102      SplitPartitionMembership.SHARED              1.520441   \n",
       "103      SplitPartitionMembership.SHARED              0.468011   \n",
       "104      SplitPartitionMembership.SHARED              1.794372   \n",
       "\n",
       "     short_non_replay_mean  non_replay_diff  long_replay_mean  \\\n",
       "2                 0.816393        -0.128474          7.976482   \n",
       "3                 0.445460        -0.061640          5.765803   \n",
       "4                 0.723031         0.521883          4.413848   \n",
       "5                 0.196722        -0.080405          9.276987   \n",
       "6                 0.775147        -0.048532          5.510643   \n",
       "..                     ...              ...               ...   \n",
       "100               0.315670        -0.061011         10.011583   \n",
       "101               1.333838        -0.957402         12.078048   \n",
       "102               2.314164         0.793723         15.294428   \n",
       "103               0.222313        -0.245698          9.516792   \n",
       "104               1.585386        -0.208986         12.188186   \n",
       "\n",
       "     short_replay_mean  replay_diff  long_mean  short_mean  mean_diff  \\\n",
       "2             6.954308    -1.022173   4.460674    3.885351  -0.575324   \n",
       "3             7.884880     2.119077   3.136452    4.165170   1.028718   \n",
       "4             7.988760     3.574912   2.307498    4.355896   2.048398   \n",
       "5             7.721082    -1.555905   4.777057    3.958902  -0.818155   \n",
       "6             6.211048     0.700405   3.167161    3.493097   0.325936   \n",
       "..                 ...          ...        ...         ...        ...   \n",
       "100           5.142819    -4.868764   5.194132    2.729245  -2.464887   \n",
       "101                NaN          NaN   7.184644         NaN        NaN   \n",
       "102          16.641333     1.346905   8.407434    9.477748   1.070314   \n",
       "103           7.031271    -2.485521   4.992402    3.626792  -1.365610   \n",
       "104          11.137495    -1.050691   6.991279    6.361441  -0.629839   \n",
       "\n",
       "     neuron_IDX  num_replays  long_num_replays  short_num_replays  \\\n",
       "2             0           14                 8                  6   \n",
       "3             1           14                 9                  5   \n",
       "4             2           20                 9                 11   \n",
       "5             3           10                 5                  5   \n",
       "6             4            6                 5                  1   \n",
       "..          ...          ...               ...                ...   \n",
       "100          98           19                12                  7   \n",
       "101          99           13                13                  0   \n",
       "102         100           25                14                 11   \n",
       "103         101           18                12                  6   \n",
       "104         102           32                22                 10   \n",
       "\n",
       "                 neuron_type  \n",
       "2       NeuronType.PYRAMIDAL  \n",
       "3       NeuronType.PYRAMIDAL  \n",
       "4       NeuronType.PYRAMIDAL  \n",
       "5       NeuronType.PYRAMIDAL  \n",
       "6       NeuronType.PYRAMIDAL  \n",
       "..                       ...  \n",
       "100     NeuronType.PYRAMIDAL  \n",
       "101     NeuronType.PYRAMIDAL  \n",
       "102  NeuronType.INTERNEURONS  \n",
       "103     NeuronType.PYRAMIDAL  \n",
       "104     NeuronType.PYRAMIDAL  \n",
       "\n",
       "[103 rows x 20 columns]}), 'long_short_fr_indicies_analysis': DynamicParameters({'long_laps': 38 epochs\n",
       "array([[  44.90800901,   50.90700754],\n",
       "       [  65.77649368,   72.21441935],\n",
       "       [  85.04824574,   91.07698121],\n",
       "       [ 107.60043131,  112.98791783],\n",
       "       [ 243.90116152,  250.66060254],\n",
       "       [ 308.59855432,  313.92546103],\n",
       "       [ 357.89826156,  365.10301947],\n",
       "       [ 370.32891887,  376.02766027],\n",
       "       [ 399.69181712,  406.82152611],\n",
       "       [ 414.95878914,  422.10840468],\n",
       "       [ 428.32007766,  435.32110064],\n",
       "       [ 441.20176578,  445.84284885],\n",
       "       [ 465.23769588,  470.1561804 ],\n",
       "       [ 481.14877381,  489.66920721],\n",
       "       [ 491.29490878,  497.08095637],\n",
       "       [ 502.15970705,  509.78201099],\n",
       "       [ 513.9409439 ,  520.1870847 ],\n",
       "       [ 528.38670931,  533.08637538],\n",
       "       [ 536.05942474,  541.86049441],\n",
       "       [ 546.23861441,  551.23128769],\n",
       "       [ 555.49380839,  563.48416846],\n",
       "       [ 565.59546082,  580.22096885],\n",
       "       [ 584.35461921,  592.32771465],\n",
       "       [ 644.21484328,  652.13313427],\n",
       "       [ 684.4117891 ,  688.60497479],\n",
       "       [ 841.1369159 ,  847.64847736],\n",
       "       [ 850.61771744,  858.41248337],\n",
       "       [ 871.50807475,  878.20026972],\n",
       "       [ 890.02648063,  895.41565675],\n",
       "       [ 905.50422246,  910.74978266],\n",
       "       [ 918.15022687,  930.55372772],\n",
       "       [ 936.1657466 ,  940.76369881],\n",
       "       [ 944.4595894 ,  949.88495366],\n",
       "       [ 957.98676583,  962.62164346],\n",
       "       [ 964.69825295,  973.02183269],\n",
       "       [ 981.2914067 ,  992.61344122],\n",
       "       [ 995.83467733, 1001.54831793],\n",
       "       [1014.0211845 , 1018.22930011]])\n",
       ", 'long_replays': 32 epochs\n",
       "array([[ 80.11593722,  80.58119138],\n",
       "       [ 93.17082462,  93.35597396],\n",
       "       [125.65158623, 125.80656855],\n",
       "       [136.24242368, 136.33885371],\n",
       "       [142.86715757, 142.96739688],\n",
       "       [144.2646711 , 144.39842591],\n",
       "       [149.95935746, 150.25439219],\n",
       "       [154.49875738, 154.8529588 ],\n",
       "       [162.72050037, 162.82749807],\n",
       "       [169.95631618, 170.15983608],\n",
       "       [301.95674012, 302.36927879],\n",
       "       [421.94300829, 422.10840468],\n",
       "       [562.59040123, 562.68170103],\n",
       "       [564.14897964, 564.43983645],\n",
       "       [590.79942615, 590.91388881],\n",
       "       [610.44270569, 610.63774687],\n",
       "       [637.92406634, 638.18214493],\n",
       "       [706.92422301, 707.04181911],\n",
       "       [721.98518682, 722.09218453],\n",
       "       [722.67844471, 722.83622255],\n",
       "       [723.80780349, 723.96002101],\n",
       "       [742.30802314, 742.50524544],\n",
       "       [743.25020506, 743.38356051],\n",
       "       [753.7168109 , 754.03494705],\n",
       "       [764.15245099, 764.26669862],\n",
       "       [767.82514799, 768.00184934],\n",
       "       [772.33468808, 772.47080833],\n",
       "       [805.70522332, 805.84272597],\n",
       "       [808.13729375, 808.22063707],\n",
       "       [811.40172216, 811.56570544],\n",
       "       [823.61497415, 823.88699961],\n",
       "       [826.54606001, 826.82306211]])\n",
       ", 'short_laps': 35 epochs\n",
       "array([[1040.00297984, 1054.33290018],\n",
       "       [1064.12080941, 1068.12758624],\n",
       "       [1070.1169817 , 1074.99251968],\n",
       "       [1087.5876518 , 1091.44844726],\n",
       "       [1095.86472148, 1100.65310687],\n",
       "       [1109.01167667, 1115.61478369],\n",
       "       [1119.75786508, 1124.40629022],\n",
       "       [1151.58217135, 1157.51708799],\n",
       "       [1172.94712169, 1177.45970306],\n",
       "       [1179.9512781 , 1186.61164717],\n",
       "       [1201.57439919, 1204.92899076],\n",
       "       [1334.81136394, 1339.92366084],\n",
       "       [1354.21862184, 1358.00587366],\n",
       "       [1380.81865686, 1384.94324483],\n",
       "       [1391.04752074, 1394.11752237],\n",
       "       [1395.97817038, 1400.46150632],\n",
       "       [1404.93538051, 1410.76938201],\n",
       "       [1472.70366582, 1476.76457126],\n",
       "       [1478.18853469, 1482.63915385],\n",
       "       [1487.90756971, 1498.72315457],\n",
       "       [1500.51099622, 1504.43424541],\n",
       "       [1509.31494435, 1512.33373577],\n",
       "       [1513.52290636, 1520.75392985],\n",
       "       [1522.11909523, 1526.58507439],\n",
       "       [1527.05929879, 1532.70655349],\n",
       "       [1535.4329521 , 1539.52430104],\n",
       "       [1540.02605055, 1547.29894538],\n",
       "       [1557.71237493, 1567.29578122],\n",
       "       [1579.613389  , 1599.05625136],\n",
       "       [1604.68977424, 1607.75163507],\n",
       "       [1609.07311663, 1614.14326572],\n",
       "       [1620.21144565, 1625.54861284],\n",
       "       [1628.26856025, 1632.44368259],\n",
       "       [1648.04829796, 1652.61546874],\n",
       "       [1654.09202478, 1658.07527011]])\n",
       ", 'short_replays': 14 epochs\n",
       "array([[1080.33447919, 1080.47686632],\n",
       "       [1085.07961084, 1085.18301431],\n",
       "       [1115.84699605, 1116.02182348],\n",
       "       [1161.00113357, 1161.26790591],\n",
       "       [1172.39047558, 1172.57061756],\n",
       "       [1191.7121476 , 1191.86442657],\n",
       "       [1214.68061968, 1214.74675981],\n",
       "       [1252.56180093, 1252.73586036],\n",
       "       [1267.91770731, 1268.01229414],\n",
       "       [1273.42404945, 1273.58505288],\n",
       "       [1302.65052024, 1302.80144753],\n",
       "       [1671.71693992, 1672.08711573],\n",
       "       [1696.82985122, 1697.28155787],\n",
       "       [1706.08977608, 1706.45795509]])\n",
       ", 'global_laps': 73 epochs\n",
       "array([[  44.90800901,   50.90700754],\n",
       "       [  65.77649368,   72.21441935],\n",
       "       [  85.04824574,   91.07698121],\n",
       "       [ 107.60043131,  112.98791783],\n",
       "       [ 243.90116152,  250.66060254],\n",
       "       [ 308.59855432,  313.92546103],\n",
       "       [ 357.89826156,  365.10301947],\n",
       "       [ 370.32891887,  376.02766027],\n",
       "       [ 399.69181712,  406.82152611],\n",
       "       [ 414.95878914,  422.10840468],\n",
       "       [ 428.32007766,  435.32110064],\n",
       "       [ 441.20176578,  445.84284885],\n",
       "       [ 465.23769588,  470.1561804 ],\n",
       "       [ 481.14877381,  489.66920721],\n",
       "       [ 491.29490878,  497.08095637],\n",
       "       [ 502.15970705,  509.78201099],\n",
       "       [ 513.9409439 ,  520.1870847 ],\n",
       "       [ 528.38670931,  533.08637538],\n",
       "       [ 536.05942474,  541.86049441],\n",
       "       [ 546.23861441,  551.23128769],\n",
       "       [ 555.49380839,  563.48416846],\n",
       "       [ 565.59546082,  580.22096885],\n",
       "       [ 584.35461921,  592.32771465],\n",
       "       [ 644.21484328,  652.13313427],\n",
       "       [ 684.4117891 ,  688.60497479],\n",
       "       [ 841.1369159 ,  847.64847736],\n",
       "       [ 850.61771744,  858.41248337],\n",
       "       [ 871.50807475,  878.20026972],\n",
       "       [ 890.02648063,  895.41565675],\n",
       "       [ 905.50422246,  910.74978266],\n",
       "       [ 918.15022687,  930.55372772],\n",
       "       [ 936.1657466 ,  940.76369881],\n",
       "       [ 944.4595894 ,  949.88495366],\n",
       "       [ 957.98676583,  962.62164346],\n",
       "       [ 964.69825295,  973.02183269],\n",
       "       [ 981.2914067 ,  992.61344122],\n",
       "       [ 995.83467733, 1001.54831793],\n",
       "       [1014.0211845 , 1018.22930011],\n",
       "       [1040.00297984, 1054.33290018],\n",
       "       [1064.12080941, 1068.12758624],\n",
       "       [1070.1169817 , 1074.99251968],\n",
       "       [1087.5876518 , 1091.44844726],\n",
       "       [1095.86472148, 1100.65310687],\n",
       "       [1109.01167667, 1115.61478369],\n",
       "       [1119.75786508, 1124.40629022],\n",
       "       [1151.58217135, 1157.51708799],\n",
       "       [1172.94712169, 1177.45970306],\n",
       "       [1179.9512781 , 1186.61164717],\n",
       "       [1201.57439919, 1204.92899076],\n",
       "       [1334.81136394, 1339.92366084],\n",
       "       [1354.21862184, 1358.00587366],\n",
       "       [1380.81865686, 1384.94324483],\n",
       "       [1391.04752074, 1394.11752237],\n",
       "       [1395.97817038, 1400.46150632],\n",
       "       [1404.93538051, 1410.76938201],\n",
       "       [1472.70366582, 1476.76457126],\n",
       "       [1478.18853469, 1482.63915385],\n",
       "       [1487.90756971, 1498.72315457],\n",
       "       [1500.51099622, 1504.43424541],\n",
       "       [1509.31494435, 1512.33373577],\n",
       "       [1513.52290636, 1520.75392985],\n",
       "       [1522.11909523, 1526.58507439],\n",
       "       [1527.05929879, 1532.70655349],\n",
       "       [1535.4329521 , 1539.52430104],\n",
       "       [1540.02605055, 1547.29894538],\n",
       "       [1557.71237493, 1567.29578122],\n",
       "       [1579.613389  , 1599.05625136],\n",
       "       [1604.68977424, 1607.75163507],\n",
       "       [1609.07311663, 1614.14326572],\n",
       "       [1620.21144565, 1625.54861284],\n",
       "       [1628.26856025, 1632.44368259],\n",
       "       [1648.04829796, 1652.61546874],\n",
       "       [1654.09202478, 1658.07527011]])\n",
       ", 'global_replays': 46 epochs\n",
       "array([[  80.11593722,   80.58119138],\n",
       "       [  93.17082462,   93.35597396],\n",
       "       [ 125.65158623,  125.80656855],\n",
       "       [ 136.24242368,  136.33885371],\n",
       "       [ 142.86715757,  142.96739688],\n",
       "       [ 144.2646711 ,  144.39842591],\n",
       "       [ 149.95935746,  150.25439219],\n",
       "       [ 154.49875738,  154.8529588 ],\n",
       "       [ 162.72050037,  162.82749807],\n",
       "       [ 169.95631618,  170.15983608],\n",
       "       [ 301.95674012,  302.36927879],\n",
       "       [ 421.94300829,  422.10840468],\n",
       "       [ 562.59040123,  562.68170103],\n",
       "       [ 564.14897964,  564.43983645],\n",
       "       [ 590.79942615,  590.91388881],\n",
       "       [ 610.44270569,  610.63774687],\n",
       "       [ 637.92406634,  638.18214493],\n",
       "       [ 706.92422301,  707.04181911],\n",
       "       [ 721.98518682,  722.09218453],\n",
       "       [ 722.67844471,  722.83622255],\n",
       "       [ 723.80780349,  723.96002101],\n",
       "       [ 742.30802314,  742.50524544],\n",
       "       [ 743.25020506,  743.38356051],\n",
       "       [ 753.7168109 ,  754.03494705],\n",
       "       [ 764.15245099,  764.26669862],\n",
       "       [ 767.82514799,  768.00184934],\n",
       "       [ 772.33468808,  772.47080833],\n",
       "       [ 805.70522332,  805.84272597],\n",
       "       [ 808.13729375,  808.22063707],\n",
       "       [ 811.40172216,  811.56570544],\n",
       "       [ 823.61497415,  823.88699961],\n",
       "       [ 826.54606001,  826.82306211],\n",
       "       [1080.33447919, 1080.47686632],\n",
       "       [1085.07961084, 1085.18301431],\n",
       "       [1115.84699605, 1116.02182348],\n",
       "       [1161.00113357, 1161.26790591],\n",
       "       [1172.39047558, 1172.57061756],\n",
       "       [1191.7121476 , 1191.86442657],\n",
       "       [1214.68061968, 1214.74675981],\n",
       "       [1252.56180093, 1252.73586036],\n",
       "       [1267.91770731, 1268.01229414],\n",
       "       [1273.42404945, 1273.58505288],\n",
       "       [1302.65052024, 1302.80144753],\n",
       "       [1671.71693992, 1672.08711573],\n",
       "       [1696.82985122, 1697.28155787],\n",
       "       [1706.08977608, 1706.45795509]])\n",
       ", 'long_mean_laps_frs': {2: 1.3710720551103042, 3: 1.310376733670223, 4: 0.4588018139074573, 5: 0.7410654720883251, 6: 0.3998444934505908, 7: 44.71717483146348, 8: 0.7155650226246495, 9: 1.9478977048976298, 10: 3.0560991926818764, 11: 2.1289950666625046, 12: 0.946326800695257, 13: 0.41152475130111954, 14: 0.5386055244703583, 15: 3.5758570339858498, 16: 0.08340814947923927, 17: 27.75399173070989, 18: 0.7449193585679413, 19: 1.524176271443374, 20: 0.3129251930250227, 21: 20.881299586523586, 22: 30.334439382877015, 23: 0.33141717033614926, 24: 1.8398317598050544, 25: 2.5754560755301816, 26: 5.124257318476044, 27: 1.5794876926300219, 28: 0.335806799062222, 29: 1.0289710836963246, 30: 3.2241265594152426, 31: 1.9657901241957194, 32: 0.2856543446350578, 33: 0.16997637617031655, 34: 0.8195526549465327, 35: 0.12625958389325584, 36: 10.536540918873111, 37: 54.21380399784765, 38: 0.31972720297766577, 39: 2.252957015694695, 40: 5.841283172824574, 41: 34.72950183013407, 42: 9.977870602251432, 43: 1.2259930509633743, 44: 1.3260624549885431, 45: 0.14663071642928335, 46: 10.553235179580987, 47: 0.5584449923535149, 48: 1.17084019304304, 49: 54.636236777994995, 50: 13.764393580212069, 51: 2.0616437984927543, 52: 3.658748522249028, 53: 2.2968115580970077, 54: 3.5300093415325664, 55: 0.0, 56: 1.6533861829610579, 57: 2.232535714562169, 58: 0.2769283437603996, 59: 1.4067242866016063, 60: 2.2155466873628256, 61: 1.2721535782413882, 62: 0.23019844111362914, 63: 0.4886713322068971, 64: 43.81516920217519, 65: 3.118579311130547, 66: 0.4896210142871846, 67: 0.6765103984335384, 68: 3.4686330960605836, 69: 0.08659620265212765, 70: 0.6266174336418451, 71: 2.135781532487111, 72: 3.7242573209597816, 73: 24.378343616710847, 74: 2.0914516541267636, 75: 2.0700030534963796, 76: 51.23595187020528, 77: 2.7348268971569274, 78: 0.8686709918110995, 79: 3.904323985327976, 80: 1.7586749058061517, 81: 4.6110810929753825, 82: 5.090591631064336, 83: 0.8735354341336394, 84: 1.6606341055938707, 85: 2.7372084080519765, 86: 3.352751337745702, 87: 0.9672098619948258, 88: 27.9515957496089, 89: 1.294853998195094, 90: 0.4823542252549372, 91: 1.7301014291068373, 92: 3.3838063800768863, 93: 1.8570507728013843, 94: 15.476423599047791, 95: 1.1292046839220256, 96: 33.98543103799349, 97: 0.34396474075965217, 98: 4.116785226437652, 99: 29.506010102135317, 100: 0.24924289066090827, 101: 1.301668825973076, 102: 4.045410746735814, 103: 1.4543758719483355, 104: 5.946361959284161}, 'long_mean_replays_frs': {2: 1.9941203815433104, 3: 1.9639111772108218, 4: 1.2413947732226343, 5: 1.4495292139092222, 6: 0.8610379553490349, 7: 161.0468703107382, 8: 0.48100236918300615, 9: 1.7063247166027855, 10: 5.241226259281168, 11: 3.5630506201546988, 12: 1.1383555968369097, 13: 1.7502859778236957, 14: 10.254714297948745, 15: 2.7970679316338423, 16: 0.6847140982954265, 17: 3.8753988605034113, 18: 3.44071402933942, 19: 2.4037424249546615, 20: 1.4785898818486698, 21: 63.171379937652276, 22: 82.85248320970172, 23: 0.5020570011823312, 24: 4.05758216623333, 25: 0.4557966787437985, 26: 8.22434770209909, 27: 0.9016184372097783, 28: 0.33239847975335335, 29: 1.3484276153354502, 30: 0.4180126409192966, 31: 1.9776433997210292, 32: 0.0, 33: 0.1148789526168056, 34: 1.6830874765852866, 35: 0.7207669543020356, 36: 31.06893642367456, 37: 7.958398441114797, 38: 0.43361713082093967, 39: 3.336926073341914, 40: 8.329114141926425, 41: 103.04040781773307, 42: 7.376606504805407, 43: 8.177453069865171, 44: 1.9373008360595718, 45: 1.6478448510280366, 46: 3.654225044781929, 47: 3.2925406745919537, 48: 1.2477436569477582, 49: 13.845585712466917, 50: 4.512786372288374, 51: 7.09475311736509, 52: 6.25346409881145, 53: 9.808283539871901, 54: 9.112751154946189, 55: 0.0, 56: 2.834634956443078, 57: 0.7117891758641095, 58: 2.0076108628962577, 59: 2.7856606793593524, 60: 3.061229197705929, 61: 3.5442995042328156, 62: 0.17685207328181946, 63: 1.136812075458448, 64: 69.0219597006413, 65: 13.923279359554762, 66: 0.2891113921249154, 67: 0.0, 68: 4.327308198998727, 69: 0.32465449788000433, 70: 0.2735286703474524, 71: 3.694687498733763, 72: 3.431285981323957, 73: 8.671268168540866, 74: 1.8973373374187565, 75: 6.135205668957212, 76: 72.14303578558638, 77: 4.096199496678135, 78: 0.8436466834907415, 79: 3.706991914754333, 80: 2.677011083369602, 81: 2.4488479230627718, 82: 4.203882395071334, 83: 2.896228043831828, 84: 4.183591653133, 85: 3.849548820364955, 86: 2.1603144847441924, 87: 2.9968566300665542, 88: 69.07543813816706, 89: 2.617255666348774, 90: 4.875706971833743, 91: 1.1344133107265941, 92: 3.412380741098495, 93: 5.543395481089624, 94: 6.115134392946024, 95: 1.0525250327947135, 96: 69.65551234860308, 97: 6.8855467247705295, 98: 3.2315219812612215, 99: 63.54185933481588, 100: 3.7543436060330198, 101: 5.340720399465784, 102: 6.691312118678425, 103: 3.568797131458502, 104: 9.768275546412927}, 'short_mean_laps_frs': {2: 0.925492155161197, 3: 0.1505249751780055, 4: 1.3528415909647822, 5: 0.18218384477306523, 6: 0.7049382343126218, 7: 37.458071956863286, 8: 0.9237166427363269, 9: 1.1908089878129617, 10: 1.1380934256772897, 11: 1.5950271199562158, 12: 1.01405467045201, 13: 0.3340548987827073, 14: 0.4343540563143431, 15: 1.5071980338679782, 16: 0.5217654196400301, 17: 29.872387354398597, 18: 0.7106046130162553, 19: 0.5915169967123158, 20: 0.42765715879943295, 21: 21.228433971348387, 22: 32.14779469339821, 23: 0.21352774073640704, 24: 3.844408918350465, 25: 2.949670730002623, 26: 2.0521971902827048, 27: 0.48378081633316977, 28: 0.6162554901189458, 29: 0.17678883201443257, 30: 2.1339637951721477, 31: 3.2437901973222445, 32: 0.47667977556660557, 33: 0.6574043878779736, 34: 0.7543808563952958, 35: 2.2781476123619346, 36: 11.646861415921322, 37: 48.322098999119554, 38: 0.13435653560293126, 39: 2.1567454550531906, 40: 3.232598935571049, 41: 29.744399407619078, 42: 6.91325318862496, 43: 0.9970841656131565, 44: 1.1459179613520698, 45: 0.07256516427106852, 46: 9.63614038072228, 47: 3.3107872269182206, 48: 1.8022442696415102, 49: 51.66343375080272, 50: 10.596880358420915, 51: 1.697947015311924, 52: 4.458460273106068, 53: 1.2928126915182052, 54: 2.7689052496020077, 55: 1.1886720160037048, 56: 1.2554500135943103, 57: 2.9460864904149413, 58: 2.3739359664164086, 59: 0.41343613452622147, 60: 2.65994786793347, 61: 1.8876198049198036, 62: 1.301549528116685, 63: 0.18228125951765203, 64: 40.2700907444612, 65: 3.4465291361314465, 66: 0.8203465533282109, 67: 0.48995867817813316, 68: 2.2660957183675356, 69: 0.5035734082291823, 70: 0.34664604234865504, 71: 2.684637787758483, 72: 3.2417425270548503, 73: 25.20878102629665, 74: 2.648095799342149, 75: 4.972992675824969, 76: 47.392765013584196, 77: 1.1667151699568816, 78: 5.187679203113259, 79: 4.478571550233954, 80: 1.34817572856215, 81: 5.093672464307429, 82: 7.362387613192657, 83: 0.6347810592037706, 84: 2.1845592828551257, 85: 1.0645368320484934, 86: 0.9497907689353827, 87: 1.4752404523155738, 88: 22.468347440771684, 89: 1.4877090227920111, 90: 0.5807474173980857, 91: 2.4555298486358095, 92: 3.6345204275917746, 93: 1.8387659295389227, 94: 17.14530056668107, 95: 1.8288470485588053, 96: 31.44859020219675, 97: 0.12120335493316209, 98: 4.073696884539301, 99: 22.59790184663721, 100: 0.2849950437300839, 101: 0.7630068795430804, 102: 5.518999402184228, 103: 0.1599760349746591, 104: 4.41288195415777}, 'short_mean_replays_frs': {2: 3.2938546873226016, 3: 3.6105989267436795, 4: 5.959367169574448, 5: 2.377012068714426, 6: 0.44364625096609445, 7: 93.48317555865863, 8: 0.0, 9: 4.255441446101147, 10: 2.790881691779095, 11: 1.7842271002043435, 12: 1.419794422694503, 13: 0.938127900371652, 14: 5.650931788370774, 15: 4.123982676953243, 16: 1.8947569964819717, 17: 3.49653139379387, 18: 0.6907754007656763, 19: 1.59723427933456, 20: 1.1845861823015262, 21: 57.710542358496106, 22: 86.16416555330707, 23: 0.6907754007656763, 24: 10.114774767864422, 25: 1.5340410826656843, 26: 6.813455516172693, 27: 1.8924325385662066, 28: 0.0, 29: 2.6447631049709743, 30: 0.0, 31: 5.153781047681707, 32: 0.0, 33: 0.0, 34: 0.0, 35: 1.4903270637888681, 36: 39.19679495670333, 37: 13.519804234335226, 38: 0.6956554918968544, 39: 3.330092316485898, 40: 20.563552507537548, 41: 86.21312651435586, 42: 10.211249094151855, 43: 6.355491527685935, 44: 6.726371324846604, 45: 0.9884881759373834, 46: 4.777249173644164, 47: 1.732539516114611, 48: 3.6652327925828305, 49: 20.531989158107802, 50: 2.7724478286268774, 51: 8.82869892756996, 52: 10.029188689350962, 53: 12.32589525022688, 54: 7.028361158216289, 55: 0.0, 56: 4.859550088604464, 57: 0.9423287577506603, 58: 9.116652601115034, 59: 1.7450093868273098, 60: 10.561360746340103, 61: 2.2293959122393594, 62: 2.259014468838099, 63: 1.2947885196722306, 64: 60.674667095200974, 65: 18.414930883218318, 66: 0.47326480756483436, 67: 0.0, 68: 4.836068538183025, 69: 2.35180911462975, 70: 0.9753881379992768, 71: 4.08890258329015, 72: 3.841928947641833, 73: 13.806443749126915, 74: 3.3807979205313976, 75: 11.355843333409984, 76: 75.74885282736452, 77: 2.595891788302879, 78: 7.917495068297227, 79: 6.053031076295093, 80: 3.081055292584774, 81: 7.339533935015907, 82: 14.01272246947383, 83: 8.639188544425258, 84: 3.8731004777951172, 85: 6.667694852480335, 86: 3.6635198610353226, 87: 1.0759159857471565, 88: 67.07996064227946, 89: 3.9770457135898343, 90: 7.094335360782673, 91: 0.8697774269869851, 92: 8.251614761559598, 93: 10.12675299295624, 94: 6.943371876127806, 95: 0.0, 96: 67.41869014627508, 97: 3.7115237814543205, 98: 5.052996210115498, 99: 66.0398962872883, 100: 2.755797749409255, 101: 0.0, 102: 12.78994514874469, 103: 2.9182727032753095, 104: 7.558703754668389}, 'long_mean_laps_all_frs': {2: [0.8334724498064106, 0.31065907008729504, 1.9904671640353675, 0.18561531355799046, 2.367059636202139, 0.9386310423203919, 0.9715801816256346, 2.4566828027628556, 2.1038726856589256, 1.5385442670689913, 0.42850880657442547, 2.3701364204879845, 0.8132586332981504, 1.525743984316272, 1.7282954955754521, 1.7055210743217204, 0.8004942825435445, 1.0639053757501828, 0.517146004212028, 1.2017609923761534, 1.7521112790108284, 1.230726478745899, 2.2575924420505498, 1.262898776750134, 0.4769643288829599, 0.7678649777143411, 3.2072804017130667, 1.0459946292288984, 1.298899839819571, 0.5719122245937309, 1.4512031900169673, 3.0448337375771866, 0.36863884217648807, 1.2945325600780369, 0.6007030817454255, 4.504490769378835, 0.8750987951020539, 0.237636057024671], 3: [4.000667759070771, 1.8639544205237704, 4.146806591740349, 0.7424612542319619, 3.402648227040575, 1.8772620846407837, 2.6371462072695797, 0.8773867152724484, 1.8233563275710687, 0.8392059638558135, 1.1426901508651346, 1.9392025258538053, 3.0497198748680643, 0.4694596874819298, 1.555465946017907, 0.13119392879397848, 2.081285134613216, 1.7022486012002924, 1.8962020154441028, 1.4020544911055122, 1.2515080564363061, 0.8204843191639326, 0.12542180233614164, 1.262898776750134, 0.23848216444147996, 0.9214379732572094, 1.154620944616704, 0.7471390208777845, 0.18555711997422444, 0.38127481639582067, 0.48373439667232243, 0.43497624822531233, 0.36863884217648807, 0.6472662800390184, 0.7208436980945105, 0.7065867873535427, 1.0501185541224647, 0.7129081710740129], 4: [0.8334724498064106, 0.15532953504364752, 0.8293613183480698, 0.0, 0.2958824545252674, 0.0, 0.27759433760732416, 0.0, 0.5610327161757135, 0.2797353212852712, 0.28567253771628365, 0.0, 1.6265172665963008, 0.2347298437409649, 0.34565909911509046, 0.13119392879397848, 0.16009885650870892, 0.21278107515003655, 0.3447640028080187, 0.2002934987293589, 0.1251508056436306, 0.20512107979098315, 0.12542180233614164, 0.5051595107000536, 0.23848216444147996, 0.614291982171473, 0.769747296411136, 0.8965668250533414, 0.3711142399484489, 0.9531870409895516, 0.8868463938992578, 0.21748812411265617, 1.2902359476177083, 0.0, 0.8409843144435957, 0.7949101357727356, 0.8750987951020539, 0.950544228098684], 5: [0.0, 0.15532953504364752, 0.0, 0.3712306271159809, 0.0, 0.7509048338563135, 0.0, 1.9302507735993866, 0.0, 0.8392059638558135, 0.0, 0.6464008419512685, 0.0, 0.5868246093524123, 0.0, 1.574327145527742, 0.0, 2.340591826650402, 0.0, 1.8026414885642301, 0.0, 0.8204843191639326, 1.1287962210252749, 0.2525797553500268, 3.338750302180719, 0.3071459910857365, 1.154620944616704, 0.1494278041755569, 2.226685439690693, 0.0, 0.7256015950084836, 1.9573931170139056, 0.0, 1.7260434134373825, 0.0, 1.2365268778687, 0.0, 2.138724513222039], 6: [0.1666944899612821, 1.2426362803491802, 0.0, 1.6705378220219143, 0.2958824545252674, 1.3140834592485486, 0.27759433760732416, 0.5264320291634691, 0.28051635808785674, 0.1398676606426356, 0.0, 0.0, 0.0, 1.056284296834342, 0.34565909911509046, 0.5247757151759139, 0.8004942825435445, 0.4255621503000731, 0.17238200140400936, 0.8011739949174356, 0.2503016112872612, 0.06837369326366105, 0.5016872093445666, 0.2525797553500268, 0.4769643288829599, 0.7678649777143411, 0.384873648205568, 0.1494278041755569, 0.0, 0.38127481639582067, 0.40311199722693536, 0.21748812411265617, 0.18431942108824403, 0.43151085335934564, 0.1201406163490851, 0.08832334841919284, 0.0, 0.475272114049342], 7: [52.1753753578813, 43.02628120709036, 47.77121193684882, 39.53606178785197, 46.60148658772961, 41.86294448748948, 48.57900908128173, 41.939084990023034, 43.76055186170565, 40.98122456829223, 43.85073453944954, 38.7840505170761, 49.608776631187176, 45.53758968574719, 43.89870558761648, 36.99668791990194, 43.70698782687753, 42.76899610515735, 46.71552238048653, 40.258993244601136, 43.92793278091434, 43.280547835897444, 42.01630378260745, 47.35870412813003, 42.21134310614195, 52.06124548903233, 46.954585081079294, 49.61003098628489, 47.31706559342723, 46.32489019209221, 45.95476768387063, 42.627672326080614, 46.26417469314925, 42.50381905589555, 46.133996678048675, 48.66616497897526, 45.85517686334762, 41.82394603634209], 8: [1.0001669397676927, 4.504556516265779, 0.6634890546784559, 2.9698450169278474, 0.7397061363131684, 3.003619335425254, 0.0, 3.5095468610897935, 0.9818072533074986, 0.979073624498449, 0.14283626885814182, 0.6464008419512685, 0.2033146583245376, 1.1736492187048246, 0.34565909911509046, 0.5247757151759139, 0.16009885650870892, 0.4255621503000731, 0.0, 0.6008804961880767, 0.2503016112872612, 0.20512107979098315, 0.7525308140168498, 0.1262898776750134, 0.23848216444147996, 0.0, 0.5131648642740907, 0.1494278041755569, 0.5566713599226732, 0.0, 0.0, 0.8699524964506247, 0.18431942108824403, 0.0, 0.2402812326981702, 0.5299400905151571, 0.0, 0.0], 9: [1.3335559196902569, 2.3299430256547127, 0.9952335820176837, 2.9698450169278474, 1.331471045363703, 2.4404407100330188, 1.2491745192329589, 2.8076374888718347, 1.8233563275710687, 2.0980149096395335, 0.5713450754325673, 2.801070315122163, 1.4232026082717633, 2.816758124891579, 0.17282954955754523, 2.4926846470855915, 0.9605931390522534, 2.7661539769504753, 1.2066740098280655, 3.2046959796697423, 0.6257540282181531, 1.9144634113825094, 1.755905232705983, 0.8840291437250938, 5.008125453271079, 0.9214379732572094, 2.5658243213704535, 0.5977112167022276, 4.6389279993556105, 0.5719122245937309, 1.37058079057158, 3.0448337375771866, 0.5529582632647321, 4.5308639602731295, 0.6007030817454255, 2.914670497833364, 0.8750987951020539, 2.8516326842960518], 10: [2.0003338795353853, 3.572579306003893, 0.6634890546784559, 5.011613466065743, 1.6273534998889705, 6.194964879314586, 1.804363194447607, 4.7378882624712215, 1.9636145066149973, 4.75550046184961, 1.8568714951558436, 4.309338946341789, 2.4397758998944514, 3.168852890503026, 3.6294205407084497, 3.935817863819355, 2.241383991121925, 5.1067458036008775, 3.1028760252721685, 5.207630966963331, 2.628166918516243, 3.0084425036010862, 4.5151848841010995, 2.3995076758252547, 3.1002681377392394, 1.996448942057287, 3.2072804017130667, 1.3448502375800122, 4.267813759407162, 1.715736673781193, 2.8217839805885476, 2.609857489351874, 1.6588747897941962, 2.373309693476401, 1.8021092452362764, 2.5613771041565925, 2.27525686726534, 4.515085083468748], 11: [7.001168578373849, 1.5532953504364753, 5.307912437427647, 0.5568459406739714, 4.5861780451416445, 0.18772620846407836, 4.163915064109863, 0.35095468610897934, 3.3661962970542807, 1.3986766064263558, 3.9994155280279706, 0.8618677892683579, 6.506069066385203, 0.4694596874819298, 3.6294205407084497, 1.0495514303518279, 2.241383991121925, 0.0, 2.7581120224641498, 0.2002934987293589, 2.5030161128726123, 1.5042212518005431, 0.2508436046722833, 1.894348165125201, 0.4769643288829599, 3.992897884114574, 1.539494592822272, 2.3908448668089104, 0.9277855998711222, 4.3846603885519375, 1.4512031900169673, 0.43497624822531233, 3.1334301585001487, 0.21575542667967282, 2.282671710632617, 0.5299400905151571, 2.8003161443265725, 0.0], 12: [2.3337228594579495, 0.7766476752182376, 2.6539562187138235, 0.7424612542319619, 1.923235954414238, 0.18772620846407836, 0.9715801816256346, 0.35095468610897934, 2.244130864702854, 0.0, 1.8568714951558436, 0.21546694731708949, 2.033146583245376, 0.0, 1.3826363964603618, 0.26238785758795696, 1.9211862781045068, 0.21278107515003655, 2.2409660182521214, 0.0, 1.5018096677235673, 1.0939790922185768, 0.0, 1.262898776750134, 0.0, 1.8428759465144189, 0.0, 1.494278041755569, 0.0, 1.1438244491874618, 0.48373439667232243, 0.0, 2.027513631970684, 0.0, 0.9611249307926808, 0.08832334841919284, 1.7501975902041078, 0.0], 13: [0.0, 0.4659886051309426, 0.4976167910088419, 0.7424612542319619, 3.254706999777941, 0.18772620846407836, 0.41639150641098627, 0.7019093722179587, 0.0, 0.41960298192790674, 0.14283626885814182, 0.0, 0.0, 1.056284296834342, 0.6913181982301809, 0.6559696439698924, 0.32019771301741784, 0.21278107515003655, 0.0, 0.2002934987293589, 0.2503016112872612, 0.5469895461092884, 0.3762654070084249, 0.7577392660500805, 0.4769643288829599, 0.4607189866286047, 0.0, 0.2988556083511138, 0.3711142399484489, 0.19063740819791034, 0.8062239944538707, 0.0, 0.36863884217648807, 0.6472662800390184, 0.1201406163490851, 0.0, 0.0, 0.0], 14: [0.8334724498064106, 0.31065907008729504, 0.33174452733922793, 0.0, 0.5917649090505348, 0.37545241692815673, 1.1103773504292966, 0.17547734305448967, 0.7012908952196418, 0.41960298192790674, 0.5713450754325673, 0.0, 1.4232026082717633, 0.11736492187048245, 1.555465946017907, 0.13119392879397848, 0.32019771301741784, 0.6383432254501097, 0.6895280056160374, 0.0, 0.6257540282181531, 0.20512107979098315, 1.0033744186891331, 0.5051595107000536, 0.0, 1.6893029509715505, 0.5131648642740907, 0.4482834125266707, 0.0, 0.5719122245937309, 0.40311199722693536, 0.6524643723379685, 1.1059165265294642, 0.0, 0.7208436980945105, 0.08832334841919284, 1.4001580721632862, 0.237636057024671], 15: [3.8339732691094888, 0.0, 6.469018283114944, 0.0, 4.438236817879011, 0.37545241692815673, 6.523466933772118, 0.7019093722179587, 5.750585340801063, 2.2378825702821694, 6.427632098616382, 1.292801683902537, 9.555788941253267, 0.11736492187048245, 7.086011531859354, 0.5247757151759139, 6.564053116857065, 0.4255621503000731, 7.240044058968393, 1.4020544911055122, 5.131183031388855, 3.4186846631830523, 1.2542180233614164, 5.683044495375603, 0.0, 6.603638808343334, 1.539494592822272, 6.574823383724504, 0.0, 8.006771144312234, 3.9504975728239664, 2.609857489351874, 6.635499159176785, 0.0, 4.925765270312489, 0.7065867873535427, 7.875889155918485, 0.0], 16: [0.0, 0.0, 0.0, 0.0, 0.0, 0.0, 0.0, 0.0, 0.0, 0.0, 0.42850880657442547, 0.0, 0.0, 0.11736492187048245, 0.0, 0.26238785758795696, 0.0, 0.21278107515003655, 0.0, 0.0, 0.0, 0.0, 0.2508436046722833, 0.0, 0.0, 0.0, 0.0, 0.0, 0.0, 0.0, 0.0, 0.0, 0.0, 0.0, 0.1201406163490851, 0.1766466968383857, 0.17501975902041078, 1.4258163421480259], 17: [35.67262085171437, 34.017168174558805, 32.842708206583566, 31.183372677742398, 34.17442349766838, 28.158931269611756, 23.179127190211567, 23.16300928319264, 16.830981485271405, 24.197105291175955, 26.71038227647252, 23.270430310245665, 26.227590923865353, 28.871770780138682, 26.615750631861964, 31.224155052966882, 26.096113610919552, 31.066036971905337, 25.512536207793385, 26.839328829734093, 19.773827291693635, 19.62324996667072, 18.18616133874054, 26.142004678727776, 29.094824061860557, 32.55747505508806, 28.8655236154176, 24.65558768896689, 30.98803903569548, 26.879874555905356, 22.977383841935314, 27.403503638194678, 25.62039953126592, 36.894177962224056, 28.95388854012951, 35.7709561097731, 28.528220720326956, 35.88304461072532], 18: [1.500250409651539, 0.4659886051309426, 1.1611058456872978, 0.5568459406739714, 0.8876473635758021, 0.18772620846407836, 0.41639150641098627, 0.17547734305448967, 1.4025817904392837, 1.2588089457837202, 2.5710528394465526, 0.21546694731708949, 0.4066293166490752, 0.7041895312228947, 1.2098068469028165, 0.3935817863819355, 0.8004942825435445, 0.8511243006001462, 1.3790560112320749, 0.6008804961880767, 0.7509048338617836, 0.8888580124275937, 0.8779526163529915, 0.631449388375067, 0.23848216444147996, 0.614291982171473, 1.4112033767537493, 0.2988556083511138, 0.5566713599226732, 0.38127481639582067, 0.24186719833616122, 0.43497624822531233, 0.7372776843529761, 0.21575542667967282, 1.441687396189021, 0.26497004525757856, 0.7000790360816431, 0.475272114049342], 19: [0.5000834698838463, 1.8639544205237704, 0.16587226366961397, 3.155460330485838, 0.7397061363131684, 2.4404407100330188, 0.8327830128219725, 3.860501547198773, 0.5610327161757135, 4.475765140564339, 0.8570176131488509, 2.585603367805074, 0.6099439749736129, 0.11736492187048245, 1.2098068469028165, 3.148654291055484, 0.32019771301741784, 2.7661539769504753, 1.2066740098280655, 4.206163473316536, 0.7509048338617836, 1.1623527854822377, 3.0101232560673994, 0.1262898776750134, 0.23848216444147996, 1.228583964342946, 5.003357426672384, 0.1494278041755569, 2.7833567996133666, 1.1438244491874618, 0.3224895977815483, 3.9147862340278112, 0.18431942108824403, 0.0, 0.6007030817454255, 1.5014969231262785, 0.17501975902041078, 0.0], 20: [0.3333889799225642, 0.31065907008729504, 0.16587226366961397, 0.0, 0.2958824545252674, 0.18772620846407836, 0.0, 0.17547734305448967, 0.5610327161757135, 0.0, 0.0, 0.6464008419512685, 2.033146583245376, 0.0, 0.34565909911509046, 0.13119392879397848, 0.0, 0.0, 0.517146004212028, 0.0, 0.2503016112872612, 0.1367473865273221, 0.0, 0.37886963302504023, 0.23848216444147996, 0.614291982171473, 0.12829121606852267, 0.7471390208777845, 0.18555711997422444, 1.1438244491874618, 1.37058079057158, 0.0, 0.18431942108824403, 0.0, 0.7208436980945105, 0.08832334841919284, 0.0, 0.0], 21: [18.00300491581847, 22.056793976197948, 18.41182126732715, 20.417684491378953, 16.86529990794024, 22.151692598761247, 21.79115550217495, 22.81205459708366, 24.82569769077532, 24.61670827310386, 21.425440328721272, 20.68482694244059, 18.70494856585746, 25.702917889635657, 21.258034595578064, 20.072671105478708, 20.81285134613216, 19.15029676350329, 24.47824419936933, 19.82905637420653, 22.65229582149714, 21.811208151107873, 20.318331978454946, 21.342989327077266, 21.463394799733198, 23.49666831805884, 17.447605385319083, 20.919892584577966, 18.926826237370893, 15.441630064030736, 23.622363037498413, 17.18156180489984, 19.353539214265624, 19.8494992545299, 18.741936150457274, 22.2574838016366, 20.827351323428882, 23.7636057024671], 22: [41.173539020436685, 41.628315391697534, 37.81887611667198, 33.225141126880295, 33.43471736135521, 32.476634064285555, 29.14740544876904, 33.516172523407526, 23.423115900336036, 28.952605753025566, 32.99517810623076, 31.027240413660884, 30.903828065329716, 27.580756639563376, 29.035364325667597, 25.320428257237847, 27.69710217600664, 31.917161272505485, 28.270648230257535, 28.041089822110244, 25.655915156944275, 25.161519121027265, 21.94881540882479, 29.29925162060311, 27.663931075211675, 36.55037293920264, 31.559639152856576, 27.793571576653584, 30.616924795747032, 31.264534944457292, 34.50638696262567, 29.795873003433897, 29.122468531942555, 29.12698260175583, 26.551076213147805, 25.172154299469963, 32.203635659755584, 31.1303234702319], 23: [0.3333889799225642, 0.15532953504364752, 0.16587226366961397, 0.0, 0.44382368178790105, 0.7509048338563135, 0.41639150641098627, 0.17547734305448967, 0.14025817904392837, 0.1398676606426356, 0.14283626885814182, 0.0, 0.0, 0.35209476561144737, 0.0, 0.787163572763871, 0.0, 1.2766864509002194, 0.17238200140400936, 1.2017609923761534, 0.2503016112872612, 0.34186846631830525, 0.7525308140168498, 0.0, 0.4769643288829599, 0.15357299554286824, 0.8980385124796587, 0.1494278041755569, 0.9277855998711222, 0.0, 0.16124479889077414, 0.0, 0.18431942108824403, 0.43151085335934564, 0.1201406163490851, 0.44161674209596424, 0.17501975902041078, 0.475272114049342], 24: [0.8334724498064106, 0.6213181401745901, 0.9952335820176837, 0.18561531355799046, 1.1835298181010696, 0.18772620846407836, 1.9431603632512693, 0.8773867152724484, 2.664905401834639, 0.41960298192790674, 3.14239791487912, 0.43093389463417897, 4.2696078248152896, 0.9389193749638596, 3.4565909911509043, 0.26238785758795696, 4.48276798224385, 0.21278107515003655, 3.2752580266761777, 0.6008804961880767, 3.0036193354471346, 2.1195844911734927, 0.3762654070084249, 2.3995076758252547, 1.1924108222073997, 4.146470879657442, 0.6414560803426134, 3.137983887686695, 0.7422284798968978, 4.575297796749847, 2.0155599861346767, 0.0, 2.9491107374119045, 1.9417988401170554, 2.522952943330787, 2.826347149414171, 3.150355662367394, 1.188180285123355], 25: [0.1666944899612821, 0.15532953504364752, 0.8293613183480698, 0.0, 1.7752947271516042, 0.0, 3.33113205128789, 0.7019093722179587, 7.994716205503917, 0.41960298192790674, 3.856579259169829, 1.292801683902537, 5.896125091411591, 0.11736492187048245, 7.258841081416899, 0.0, 3.041878273665469, 0.21278107515003655, 5.17146004212028, 1.6023479898348711, 8.009651561192358, 3.145189890128408, 1.1287962210252749, 4.925305229325523, 0.0, 4.914335857371784, 2.437533105301931, 4.632261929442264, 0.0, 5.528484837739399, 2.4992943828069993, 0.8699524964506247, 5.713902053735565, 0.0, 3.2437966414252974, 2.0314370136414355, 4.725533493551091, 0.237636057024671], 26: [0.1666944899612821, 9.4751016376625, 0.4976167910088419, 12.06499538126938, 0.5917649090505348, 14.267191843269956, 1.9431603632512693, 8.422912466615506, 0.5610327161757135, 9.51100092369922, 5.284941947751247, 9.265078734634848, 0.0, 12.44068171827114, 0.8641477477877261, 7.7404417988447305, 0.6403954260348357, 6.383432254501097, 3.9647860322922153, 7.2105659542569205, 0.3754524169308918, 7.247611485948071, 12.667602035950306, 1.3891886544251475, 17.170715839786556, 0.15357299554286824, 3.592154049918635, 0.0, 2.968913919587591, 0.38127481639582067, 6.691659153967127, 6.742131847492342, 0.5529582632647321, 9.061727920546259, 3.2437966414252974, 3.532933936767714, 0.5250592770612323, 7.129081710740129], 27: [2.3337228594579495, 0.15532953504364752, 4.312678855409962, 0.3712306271159809, 3.6985306815658423, 0.0, 2.3595518696622553, 0.35095468610897934, 2.8051635808785673, 0.1398676606426356, 2.1425440328721272, 0.21546694731708949, 4.2696078248152896, 0.11736492187048245, 4.147909189381085, 0.0, 2.241383991121925, 0.21278107515003655, 3.9647860322922153, 0.0, 1.7521112790108284, 1.2991001720095599, 0.0, 3.2835368195503487, 0.0, 3.0714599108573646, 0.12829121606852267, 2.988556083511138, 0.18555711997422444, 3.2408359393644757, 1.7736927877985156, 0.0, 2.7647913163236604, 0.0, 2.042390477934447, 0.08832334841919284, 3.325375421387805, 0.237636057024671], 28: [0.3333889799225642, 0.0, 0.0, 0.0, 1.923235954414238, 0.0, 0.9715801816256346, 0.17547734305448967, 0.0, 0.1398676606426356, 0.28567253771628365, 0.0, 0.0, 0.0, 1.0369772973452713, 0.0, 1.1206919955609624, 0.0, 0.517146004212028, 0.0, 0.6257540282181531, 0.5469895461092884, 0.12542180233614164, 1.0103190214001072, 0.0, 0.4607189866286047, 0.0, 0.5977112167022276, 0.18555711997422444, 0.5719122245937309, 0.5643567961177095, 0.0, 0.7372776843529761, 0.0, 0.4805624653963404, 0.0, 0.35003951804082156, 0.0], 29: [0.0, 1.2426362803491802, 0.0, 1.6705378220219143, 0.0, 2.064988293104862, 0.0, 2.632160145817345, 0.0, 0.979073624498449, 0.0, 0.6464008419512685, 0.0, 2.112568593668684, 0.0, 2.2302967894976344, 0.16009885650870892, 2.7661539769504753, 0.0, 2.6038154834816654, 0.1251508056436306, 1.0939790922185768, 1.755905232705983, 0.2525797553500268, 4.531161124388119, 0.614291982171473, 1.154620944616704, 0.1494278041755569, 2.226685439690693, 0.0, 0.7256015950084836, 1.9573931170139056, 0.0, 1.9417988401170554, 0.0, 1.3248502262878927, 0.0, 2.138724513222039], 30: [0.0, 6.679170006876843, 0.16587226366961397, 7.610227855877609, 0.0, 9.19858421473984, 0.6939858440183104, 6.668139036070608, 0.0, 4.895368122492245, 0.0, 8.834144840000668, 0.6099439749736129, 4.811961796689781, 0.0, 6.03492072452301, 0.16009885650870892, 9.575148381751646, 0.0, 6.8099789567982025, 0.0, 2.666574037282781, 5.142293895781807, 0.0, 7.392947097685878, 0.15357299554286824, 3.592154049918635, 0.1494278041755569, 6.680056319072079, 0.38127481639582067, 2.9024063800339346, 5.654691226929061, 0.18431942108824403, 5.393885666991821, 0.6007030817454255, 3.7095806336061, 0.17501975902041078, 4.990357197518091], 31: [0.3333889799225642, 1.5532953504364753, 0.8293613183480698, 1.2993071949059332, 3.254706999777941, 0.9386310423203919, 1.2491745192329589, 2.9831148319263248, 0.28051635808785674, 2.6574855522100758, 0.7141813442907091, 4.524805893658879, 1.6265172665963008, 0.8215544530933772, 1.2098068469028165, 1.1807453591458064, 1.1206919955609624, 4.893964728450841, 1.2066740098280655, 4.005869974587178, 1.1263572507926756, 2.803321423810103, 2.383014244386691, 0.631449388375067, 5.246607617712559, 1.228583964342946, 3.2072804017130667, 0.2988556083511138, 4.082256639432938, 1.1438244491874618, 1.9349375866892897, 3.2623218616898426, 0.9215971054412202, 3.667842253554438, 0.4805624653963404, 0.7949101357727356, 0.5250592770612323, 4.277449026444078], 32: [0.0, 0.6213181401745901, 0.0, 0.0, 0.0, 0.0, 1.1103773504292966, 0.0, 0.0, 0.0, 0.28567253771628365, 0.0, 0.0, 0.0, 0.5184886486726357, 0.0, 1.1206919955609624, 0.0, 0.0, 0.0, 0.8760556395054142, 0.4102421595819663, 0.12542180233614164, 1.262898776750134, 0.0, 0.0, 0.12829121606852267, 0.0, 0.0, 0.19063740819791034, 0.9674687933446449, 0.0, 1.1059165265294642, 0.0, 1.0812655471417658, 0.0, 1.0501185541224647, 0.0], 33: [0.0, 0.0, 0.0, 0.0, 0.0, 0.0, 0.0, 0.0, 0.0, 3.356823855423254, 0.0, 0.0, 0.0, 0.0, 0.0, 2.3614907182916127, 0.0, 0.0, 0.0, 0.0, 0.0, 0.0, 0.0, 0.0, 0.0, 0.0, 0.0, 0.0, 0.0, 0.0, 0.0, 0.6524643723379685, 0.0, 0.0, 0.0, 0.08832334841919284, 0.0, 0.0], 34: [0.0, 0.0, 0.0, 0.0, 1.331471045363703, 0.18772620846407836, 0.0, 0.5264320291634691, 0.5610327161757135, 5.175103443777516, 0.28567253771628365, 0.43093389463417897, 1.6265172665963008, 0.2347298437409649, 0.8641477477877261, 3.411042148643441, 0.4802965695261267, 0.8511243006001462, 1.2066740098280655, 0.6008804961880767, 0.6257540282181531, 0.47861585284562735, 1.2542180233614164, 0.37886963302504023, 0.23848216444147996, 0.9214379732572094, 1.6677858088907946, 0.4482834125266707, 0.5566713599226732, 1.3344618573853724, 0.48373439667232243, 2.609857489351874, 0.0, 0.0, 0.9611249307926808, 1.0598801810303142, 0.35003951804082156, 0.0], 35: [0.1666944899612821, 0.15532953504364752, 0.0, 0.0, 0.0, 0.0, 0.13879716880366208, 0.0, 0.0, 0.0, 0.14283626885814182, 0.0, 0.0, 0.5868246093524123, 0.0, 0.13119392879397848, 0.0, 0.0, 0.0, 0.0, 0.1251508056436306, 0.2734947730546442, 0.0, 0.0, 0.4769643288829599, 0.0, 0.0, 0.0, 0.0, 0.0, 0.48373439667232243, 0.0, 0.0, 0.21575542667967282, 0.0, 0.0, 0.0, 1.901088456197368], 36: [14.335726136670262, 8.387794892356967, 11.27931392953375, 7.238997228761628, 11.98323940827333, 7.696774547027213, 11.797759348311278, 8.773867152724485, 9.257039816899272, 9.231265602413949, 11.85541031522577, 9.911479576586116, 14.232026082717633, 8.332909452804254, 13.653534415046073, 8.527605371608601, 11.68721652513575, 8.298461930851426, 11.204830091260607, 9.814381437738586, 10.26236606277771, 9.914185523230852, 8.528682558857632, 11.49237886842622, 9.539286577659198, 15.510872549829692, 10.648170933687382, 12.253079942395667, 10.391198718556568, 12.200794124666261, 10.96464632457264, 9.351989336844216, 12.34940121291235, 9.493238773905604, 10.211952389672232, 8.832334841919286, 11.20126457730629, 9.743078338011511], 37: [65.51093455478387, 72.22823379529609, 49.9275513645538, 77.958431694356, 49.856193587507555, 69.08324471478085, 44.13749967956454, 55.45084040521874, 29.31395942018103, 56.64640256026741, 51.99240186436362, 62.26994777463886, 44.11928085642466, 53.63576929481048, 42.51606919115613, 56.019807595028816, 48.02965695261267, 67.66438189771162, 48.266960393122616, 64.09391959339484, 40.79916263982358, 45.67362710012558, 47.033175876053114, 52.789168868155606, 68.9213455235877, 52.06124548903233, 52.34281615595725, 39.8972237148737, 59.00716415180337, 41.36831757894654, 45.47103328719831, 58.0693291380792, 39.62867553397247, 77.45619817800254, 54.90426167153189, 56.085326246187456, 51.45580915200077, 68.43918442310525], 38: [1.1668614297289748, 0.31065907008729504, 0.8293613183480698, 0.0, 0.44382368178790105, 0.18772620846407836, 0.13879716880366208, 0.0, 0.7012908952196418, 0.41960298192790674, 0.14283626885814182, 0.0, 0.6099439749736129, 1.056284296834342, 0.34565909911509046, 0.0, 0.16009885650870892, 0.0, 0.3447640028080187, 0.0, 0.3754524169308918, 0.20512107979098315, 0.12542180233614164, 0.37886963302504023, 0.4769643288829599, 0.614291982171473, 0.0, 0.4482834125266707, 0.0, 0.5719122245937309, 0.24186719833616122, 0.0, 0.5529582632647321, 0.0, 0.6007030817454255, 0.0, 0.7000790360816431, 0.0], 39: [1.8336393895741034, 1.5532953504364753, 1.6587226366961396, 1.4849225084639237, 2.662942090727406, 0.5631786253922352, 6.939858440183104, 0.5264320291634691, 2.244130864702854, 0.6993383032131779, 3.285234183737262, 0.21546694731708949, 2.8464052165435265, 1.6431089061867543, 4.147909189381085, 0.5247757151759139, 7.364547399400609, 0.4255621503000731, 3.6200220294841965, 0.4005869974587178, 3.6293733636652874, 2.734947730546442, 1.3796398256975582, 3.788696330250402, 2.3848216444147994, 2.1500219376001555, 0.12829121606852267, 1.9425614542822398, 0.7422284798968978, 2.2876488983749237, 3.708630374487805, 1.087440620563281, 3.3177495795883925, 3.2363314001950925, 4.084780955868894, 0.61826343893435, 2.8003161443265725, 0.950544228098684], 40: [0.1666944899612821, 9.31977210261885, 0.16587226366961397, 11.508149440595409, 0.44382368178790105, 12.389929758629172, 2.0819575320549313, 10.002208554105913, 0.4207745371317851, 8.2521919779155, 1.2855264197232763, 12.49708294439119, 1.2198879499472257, 7.980814687192807, 0.34565909911509046, 8.921187157990538, 1.761087421595798, 12.97964558415223, 1.3790560112320749, 10.81584893138538, 1.1263572507926756, 4.649411141928951, 8.40326075652149, 2.3995076758252547, 14.308929866488798, 1.228583964342946, 6.5428520194946564, 1.3448502375800122, 11.690098558376139, 2.859561122968655, 5.48232316228632, 11.091894329745465, 1.2902359476177083, 14.024102734178733, 1.6819686288871913, 5.387724253570764, 1.9252173492245186, 12.594711022307562], 41: [34.83914840190796, 43.18161074213401, 44.785511190795766, 41.206599609873884, 36.24560067934525, 30.411645771180698, 33.033726175271575, 36.674764698388344, 28.051635808785672, 35.52638580322944, 32.85234183737262, 35.33657936000267, 28.667366823759803, 40.256168201575484, 30.936489370800594, 30.043409693821076, 28.177398745532766, 38.93893675245669, 27.40873822323749, 32.44754679415614, 33.29011430120574, 33.36636231266659, 31.230028781699268, 32.58278844015346, 35.295360337339034, 43.000438752003106, 38.35907360448828, 32.72468911444696, 38.78143807461291, 31.645809760853115, 35.71572295430647, 37.407957347376865, 29.67542679520729, 35.383889975466346, 29.194169772827678, 42.57185393805096, 34.82893204506174, 35.64540855370065], 42: [15.669282056360519, 13.668999083840982, 11.776930720542591, 13.178687262617323, 11.24353327196016, 10.137215257060232, 10.826179166685643, 10.704117926323871, 8.134974384547846, 10.210339226912398, 9.42719374463736, 10.557880418537385, 12.198879499472257, 10.562842968343421, 8.987136576992352, 11.020290018694194, 9.926129103539953, 10.000710532051718, 11.377212092664617, 11.617022926302816, 9.261159617628666, 10.392801376076479, 8.654104361193774, 7.703682538175817, 7.631429262127359, 9.6750987192007, 8.852093908728063, 10.16109068393787, 10.205641598582345, 6.862946695124772, 7.578505547866385, 9.569477460956872, 8.478693370059226, 9.92474962726495, 7.929280679039616, 9.00898153875767, 6.300711324734788, 9.743078338011511], 43: [0.3333889799225642, 1.5532953504364753, 0.6634890546784559, 0.7424612542319619, 1.4794122726263368, 0.37545241692815673, 1.9431603632512693, 0.5264320291634691, 1.2623236113953553, 1.1189412851410847, 1.2855264197232763, 1.0773347365854473, 0.8132586332981504, 1.1736492187048246, 1.3826363964603618, 1.574327145527742, 1.2807908520696714, 1.2766864509002194, 1.7238200140400934, 2.203228486022948, 1.2515080564363061, 1.6409686383278652, 1.755905232705983, 1.262898776750134, 0.0, 0.7678649777143411, 1.7960770249593174, 1.0459946292288984, 1.6700140797680199, 1.5250992655832827, 0.8868463938992578, 2.609857489351874, 1.2902359476177083, 1.0787771333983642, 0.9611249307926808, 1.85479031680305, 1.4001580721632862, 0.0], 44: [1.666944899612821, 1.0873067453055327, 2.3222116913745956, 0.5568459406739714, 1.7752947271516042, 0.37545241692815673, 1.665566025643945, 0.5264320291634691, 1.8233563275710687, 0.8392059638558135, 1.57119895743956, 1.0773347365854473, 2.033146583245376, 0.2347298437409649, 1.9011250451329975, 0.6559696439698924, 2.5615817041393427, 1.0639053757501828, 1.7238200140400934, 1.2017609923761534, 1.5018096677235673, 1.6409686383278652, 0.3762654070084249, 1.262898776750134, 0.0, 1.5357299554286823, 1.2829121606852267, 2.3908448668089104, 0.9277855998711222, 1.5250992655832827, 1.5318255894623543, 0.8699524964506247, 2.2118330530589283, 0.21575542667967282, 2.643093559679872, 1.0598801810303142, 2.27525686726534, 0.475272114049342], 45: [0.0, 0.15532953504364752, 0.16587226366961397, 0.18561531355799046, 0.44382368178790105, 0.18772620846407836, 0.13879716880366208, 0.17547734305448967, 0.0, 0.8392059638558135, 0.0, 0.0, 0.2033146583245376, 0.0, 0.0, 0.13119392879397848, 0.0, 0.21278107515003655, 0.0, 0.4005869974587178, 0.0, 0.06837369326366105, 0.12542180233614164, 0.2525797553500268, 0.0, 0.15357299554286824, 0.12829121606852267, 0.2988556083511138, 0.18555711997422444, 0.5719122245937309, 0.24186719833616122, 0.21748812411265617, 0.0, 0.0, 0.0, 0.08832334841919284, 0.0, 0.0], 46: [9.50158592779308, 8.077135822269671, 10.947569402194521, 12.621841321943352, 13.906475362687567, 12.014477341701015, 10.964976335489304, 10.353163240214892, 8.55574892167963, 7.692721335344957, 8.855848669204793, 11.419748207805743, 11.385620866174106, 8.215544530933771, 10.715432072567804, 8.396411442814623, 8.645338251470282, 8.085680855701389, 11.032448089856599, 11.817316425032175, 9.136008811985034, 10.050932909758174, 8.277838954185349, 11.49237886842622, 12.162590386515477, 10.289390701372172, 11.674500662235562, 11.655368725693439, 12.061212798324588, 13.344618573853722, 10.72277912623648, 13.266775570872026, 9.768929317676934, 11.003526760663314, 12.25434286760668, 9.362274932434442, 11.551304095347112, 9.743078338011511], 47: [0.5000834698838463, 0.15532953504364752, 0.6634890546784559, 0.18561531355799046, 0.8876473635758021, 0.0, 0.8327830128219725, 0.35095468610897934, 0.7012908952196418, 0.5594706425705424, 0.5713450754325673, 0.43093389463417897, 0.6099439749736129, 0.5868246093524123, 0.6913181982301809, 0.26238785758795696, 0.6403954260348357, 0.0, 0.8619100070200467, 0.0, 1.6269604733671978, 1.1623527854822377, 0.12542180233614164, 1.1366088990751206, 0.23848216444147996, 1.0750109688000777, 0.384873648205568, 0.0, 0.0, 1.3344618573853724, 0.9674687933446449, 0.0, 0.5529582632647321, 0.0, 0.7208436980945105, 0.3532933936767714, 1.575177831183697, 0.475272114049342], 48: [1.8336393895741034, 0.4659886051309426, 2.6539562187138235, 0.3712306271159809, 2.662942090727406, 0.18772620846407836, 1.9431603632512693, 0.17547734305448967, 2.244130864702854, 0.0, 1.8568714951558436, 0.21546694731708949, 2.6430905582189888, 0.2347298437409649, 1.9011250451329975, 0.13119392879397848, 2.5615817041393427, 0.4255621503000731, 2.58573002106014, 0.2002934987293589, 1.1263572507926756, 0.9572317056912547, 0.12542180233614164, 1.515478532100161, 0.23848216444147996, 2.61074092422876, 0.384873648205568, 2.091989258457797, 0.0, 2.2876488983749237, 1.2899583911261931, 0.21748812411265617, 2.3961524741471725, 0.0, 1.441687396189021, 0.1766466968383857, 2.1002371082449294, 0.237636057024671], 49: [63.67729516520977, 57.471927966149586, 60.21163171206987, 60.324976906346905, 59.76825581410401, 59.69693429157692, 54.269693002231875, 54.92440837605527, 43.19951914552994, 53.988917008057335, 58.27719769412186, 53.00486904000401, 55.50490172259877, 50.58428132617794, 57.89789910177765, 53.6583168767372, 60.51736776029197, 52.9824877123591, 55.67938645349502, 50.6742551785278, 46.55609969943058, 44.64802170117066, 43.019678201296585, 58.34592348585619, 55.80482647930631, 62.65778218149024, 57.47446479869816, 46.77090270694931, 56.9660358320869, 53.75974911181071, 46.357879681097565, 53.28459040760076, 53.821270957767254, 53.07583496319951, 56.58623030041908, 55.73203285251069, 59.15667854889884, 55.84447340079768], 50: [20.33672777527642, 21.28014630097971, 17.58245994897908, 18.190300728683066, 17.752947271516042, 17.646263595623367, 12.769339529936913, 11.05507261243285, 15.568657873876049, 13.707030742978286, 12.283919121800196, 13.358950733659547, 15.045284716015782, 14.083790624457894, 11.061091171682895, 14.562526096131613, 10.886722242592207, 15.745799561102706, 14.135324115128768, 13.419664414867047, 12.38992975871943, 11.828648934613362, 12.542180233614165, 14.52333593262654, 20.986430470850237, 15.510872549829692, 12.05937431044113, 10.459946292288983, 10.94787007847924, 10.675694859082979, 10.96464632457264, 10.439429957407496, 10.874845844206398, 11.650793040702332, 12.49462410030485, 11.393711946075877, 11.901343613387933, 10.931258623134866], 51: [3.000500819303078, 0.6213181401745901, 3.3174452733922792, 0.3712306271159809, 4.142354363353744, 0.37545241692815673, 2.3595518696622553, 1.0528640583269382, 3.085679938966424, 0.8392059638558135, 2.285380301730269, 1.0773347365854473, 3.659663849841677, 0.2347298437409649, 3.802250090265995, 0.9183575015578495, 3.201977130174178, 0.8511243006001462, 2.413348019656131, 1.4020544911055122, 2.252714501585351, 2.734947730546442, 1.3796398256975582, 3.030957064200322, 0.0, 3.6857518930288378, 1.4112033767537493, 3.8851229085644796, 0.5566713599226732, 4.575297796749847, 2.338049583916225, 0.8699524964506247, 3.1334301585001487, 0.21575542667967282, 2.282671710632617, 1.5898202715454712, 4.200474216489859, 1.188180285123355], 52: [0.0, 5.59186326157131, 0.33174452733922793, 7.053381915203638, 0.44382368178790105, 8.447679380883526, 2.2207547008585933, 6.8436163791250975, 0.28051635808785674, 6.713647710846508, 0.8570176131488509, 8.618677892683579, 0.6099439749736129, 6.455070702876535, 0.17282954955754523, 6.03492072452301, 1.1206919955609624, 8.085680855701389, 0.8619100070200467, 5.608217964422049, 0.6257540282181531, 3.6238057429740356, 6.271090116807082, 1.1366088990751206, 8.823840084334758, 0.614291982171473, 3.2072804017130667, 0.7471390208777845, 5.381156479252509, 1.9063740819791033, 4.514854368941676, 5.872179351041717, 0.36863884217648807, 8.41446164050724, 0.4805624653963404, 2.7380238009949784, 0.35003951804082156, 7.604353824789472], 53: [1.3335559196902569, 3.1065907008729505, 2.3222116913745956, 2.9698450169278474, 1.1835298181010696, 3.566797960817489, 1.804363194447607, 2.9831148319263248, 1.122065432351427, 2.6574855522100758, 1.4283626885814182, 3.8784050517076105, 1.4232026082717633, 1.4083790624457895, 1.555465946017907, 3.017460362261505, 1.600988565087089, 3.1917161272505483, 1.034292008424056, 4.606750470775254, 1.3766588620799367, 1.9828371046461704, 3.386388663075824, 1.7680582874501876, 4.769643288829599, 1.8428759465144189, 2.9506979695760216, 1.643705845931126, 2.7833567996133666, 1.715736673781193, 1.8543151872439025, 3.0448337375771866, 1.6588747897941962, 3.2363314001950925, 0.7208436980945105, 2.384730407318207, 0.8750987951020539, 3.0892687413207227], 54: [2.6671118393805138, 4.504556516265779, 1.9904671640353675, 5.568459406739714, 2.367059636202139, 4.129976586209724, 1.804363194447607, 5.9662296638526495, 2.664905401834639, 4.75550046184961, 3.4280704525954038, 6.033074524878505, 2.6430905582189888, 4.107772265466886, 2.9381023424782686, 4.985369294171183, 1.600988565087089, 4.681183653300804, 4.137168033696224, 4.807043969504614, 1.6269604733671978, 4.375916368874307, 6.020246512134799, 1.6417684097751744, 6.677500604361438, 1.8428759465144189, 3.4638628338501123, 1.7931336501066828, 4.082256639432938, 0.9531870409895516, 4.031119972269353, 4.784738730478436, 1.2902359476177083, 4.5308639602731295, 1.9222498615853616, 3.532933936767714, 1.7501975902041078, 4.0398129694194065], 55: [0.0, 0.0, 0.0, 0.0, 0.0, 0.0, 0.0, 0.0, 0.0, 0.0, 0.0, 0.0, 0.0, 0.0, 0.0, 0.0, 0.0, 0.0, 0.0, 0.0, 0.0, 0.0, 0.0, 0.0, 0.0, 0.0, 0.0, 0.0, 0.0, 0.0, 0.0, 0.0, 0.0, 0.0, 0.0, 0.0, 0.0, 0.0], 56: [3.000500819303078, 1.0873067453055327, 2.3222116913745956, 0.5568459406739714, 2.81088331799004, 0.37545241692815673, 2.3595518696622553, 1.2283414013814278, 5.049294445581421, 1.1189412851410847, 2.7138891083046945, 1.0773347365854473, 3.4563491915171394, 0.5868246093524123, 2.7652727929207237, 1.3119392879397849, 1.600988565087089, 0.6383432254501097, 2.2409660182521214, 0.6008804961880767, 2.878468529803504, 1.230726478745899, 0.6271090116807082, 1.894348165125201, 0.4769643288829599, 2.61074092422876, 1.7960770249593174, 2.3908448668089104, 0.3711142399484489, 2.2876488983749237, 1.209335991680806, 0.6524643723379685, 1.8431942108824404, 1.0787771333983642, 1.6819686288871913, 0.9715568326111214, 1.9252173492245186, 0.0], 57: [0.1666944899612821, 0.4659886051309426, 5.639656964766875, 0.7424612542319619, 5.62176663598008, 0.18772620846407836, 4.025117895306201, 0.35095468610897934, 1.2623236113953553, 0.2797353212852712, 5.570614485467531, 0.0, 1.2198879499472257, 1.1736492187048246, 5.357716036283902, 0.13119392879397848, 3.8423725562090136, 0.0, 3.7924040308882057, 0.0, 4.755730614457963, 2.0512107979098313, 0.3762654070084249, 6.061914128400644, 0.7154464933244399, 6.603638808343334, 0.0, 6.27596777537339, 0.5566713599226732, 3.2408359393644757, 2.0155599861346767, 0.21748812411265617, 4.239346685029613, 1.0787771333983642, 2.282671710632617, 0.9715568326111214, 3.325375421387805, 0.237636057024671], 58: [0.0, 0.4659886051309426, 0.4976167910088419, 0.5568459406739714, 0.1479412272626337, 0.0, 0.13879716880366208, 0.17547734305448967, 0.0, 0.1398676606426356, 1.57119895743956, 0.21546694731708949, 0.0, 0.11736492187048245, 0.0, 0.26238785758795696, 0.32019771301741784, 0.0, 0.17238200140400936, 0.0, 0.1251508056436306, 0.0, 0.12542180233614164, 0.0, 0.0, 0.15357299554286824, 0.0, 0.0, 0.0, 0.38127481639582067, 0.3224895977815483, 0.0, 0.0, 0.0, 0.1201406163490851, 1.3248502262878927, 1.0501185541224647, 2.138724513222039], 59: [0.5000834698838463, 1.5532953504364753, 0.33174452733922793, 2.9698450169278474, 0.2958824545252674, 3.003619335425254, 2.3595518696622553, 1.9302507735993866, 0.0, 1.958147248996898, 1.4283626885814182, 2.585603367805074, 0.0, 1.8778387499277192, 1.0369772973452713, 1.0495514303518279, 0.8004942825435445, 2.340591826650402, 1.5514380126360843, 2.002934987293589, 1.5018096677235673, 1.367473865273221, 1.5050616280336997, 1.0103190214001072, 3.338750302180719, 0.7678649777143411, 1.154620944616704, 0.1494278041755569, 1.298899839819571, 0.5719122245937309, 1.2899583911261931, 1.9573931170139056, 0.9215971054412202, 1.7260434134373825, 1.321546779839936, 0.8832334841919285, 1.9252173492245186, 1.188180285123355], 60: [0.0, 2.640602095742008, 0.33174452733922793, 4.08353689827579, 0.0, 3.7545241692815674, 0.41639150641098627, 2.9831148319263248, 0.14025817904392837, 3.7764268373511607, 0.42850880657442547, 5.817607577561416, 0.4066293166490752, 1.9952036717982018, 0.17282954955754523, 2.6238785758795697, 0.16009885650870892, 4.042840427850694, 0.3447640028080187, 4.807043969504614, 0.2503016112872612, 2.1195844911734927, 2.8847014537312576, 0.5051595107000536, 6.200536275478479, 0.15357299554286824, 3.592154049918635, 0.4482834125266707, 5.381156479252509, 0.38127481639582067, 2.338049583916225, 4.784738730478436, 0.18431942108824403, 7.335684507108876, 0.36042184904725527, 1.766466968383857, 0.8750987951020539, 5.7032653685921035], 61: [0.1666944899612821, 2.951261165829303, 0.16587226366961397, 2.412999076253876, 0.44382368178790105, 2.4404407100330188, 0.13879716880366208, 0.7019093722179587, 0.28051635808785674, 0.8392059638558135, 1.7140352262977019, 1.7237355785367159, 0.4066293166490752, 2.2299335155391664, 1.0369772973452713, 3.017460362261505, 0.16009885650870892, 1.0639053757501828, 1.8962020154441028, 0.6008804961880767, 0.3754524169308918, 2.3247055709644755, 2.508436046722833, 0.7577392660500805, 1.9078573155318397, 0.9214379732572094, 0.6414560803426134, 0.4482834125266707, 0.3711142399484489, 0.0, 1.9349375866892897, 0.6524643723379685, 0.9215971054412202, 1.5102879867577097, 1.8021092452362764, 2.296407058899014, 3.150355662367394, 1.4258163421480259], 62: [0.1666944899612821, 0.15532953504364752, 0.0, 0.0, 0.1479412272626337, 0.0, 0.0, 0.0, 0.14025817904392837, 0.0, 0.7141813442907091, 0.21546694731708949, 0.0, 0.11736492187048245, 0.0, 0.13119392879397848, 0.0, 0.0, 0.0, 0.2002934987293589, 0.1251508056436306, 0.06837369326366105, 0.2508436046722833, 0.2525797553500268, 0.4769643288829599, 0.3071459910857365, 0.25658243213704535, 0.1494278041755569, 0.0, 0.19063740819791034, 0.7256015950084836, 0.21748812411265617, 0.5529582632647321, 1.0787771333983642, 0.8409843144435957, 0.26497004525757856, 0.5250592770612323, 0.475272114049342], 63: [1.666944899612821, 0.0, 1.8245949003657536, 0.0, 2.071177181676872, 0.0, 0.9715801816256346, 0.0, 1.122065432351427, 0.0, 0.7141813442907091, 0.21546694731708949, 1.016573291622688, 0.2347298437409649, 0.8641477477877261, 0.0, 0.4802965695261267, 0.0, 0.517146004212028, 0.0, 0.5006032225745224, 0.5469895461092884, 0.12542180233614164, 0.8840291437250938, 0.0, 1.382156959885814, 0.0, 0.4482834125266707, 0.0, 0.7625496327916413, 0.40311199722693536, 0.0, 0.9215971054412202, 0.0, 0.7208436980945105, 0.0, 0.17501975902041078, 0.0], 64: [64.67746210497747, 50.63742842422909, 51.75214626491955, 45.66136713526566, 47.63707517856805, 45.05429003137881, 44.69268835477919, 41.939084990023034, 36.32686837237745, 42.24003351407595, 43.85073453944954, 37.27578188585648, 48.18557402291541, 41.66454726402127, 42.51606919115613, 40.93250578372129, 45.14787753545591, 43.6201204057575, 43.785028356618376, 40.85987374078921, 37.795543304376444, 38.084147147859206, 33.863886630758245, 43.06484828717957, 40.30348579061011, 48.68263958708923, 49.13553575424418, 41.54092956080482, 44.90482303376231, 44.03724129371729, 39.424353328794275, 41.97520795374264, 41.10323090267842, 37.54144424226307, 49.85835578487031, 52.552392309419744, 44.630038550204745, 38.02176912394736], 65: [2.833806329341796, 3.7279088410475407, 3.483317537061893, 2.9698450169278474, 3.402648227040575, 2.4404407100330188, 4.025117895306201, 3.1585921749808143, 2.5246472227907106, 6.294044728918601, 3.4280704525954038, 2.3701364204879845, 2.033146583245376, 2.4646633592801317, 2.5924432433631783, 2.6238785758795697, 2.081285134613216, 3.404497202400585, 3.447640028080187, 2.203228486022948, 1.8772620846544592, 2.871695117073764, 3.386388663075824, 3.4098266972253617, 3.8157146310636794, 3.2250329064002328, 3.977027698124203, 1.643705845931126, 2.968913919587591, 3.0501985311665654, 2.8217839805885476, 3.0448337375771866, 3.5020690006766366, 2.8048205468357468, 4.805624653963404, 2.914670497833364, 4.025454457469448, 2.8516326842960518], 66: [1.1668614297289748, 0.6213181401745901, 2.156339427704981, 0.0, 0.5917649090505348, 0.18772620846407836, 0.6939858440183104, 0.0, 0.8415490742635702, 0.0, 0.8570176131488509, 0.0, 0.8132586332981504, 0.0, 0.8641477477877261, 0.3935817863819355, 0.9605931390522534, 0.0, 0.8619100070200467, 0.0, 0.5006032225745224, 0.47861585284562735, 0.0, 0.7577392660500805, 0.0, 1.228583964342946, 0.0, 2.6897004751600244, 0.0, 0.7625496327916413, 0.40311199722693536, 0.0, 0.18431942108824403, 0.0, 0.2402812326981702, 0.0, 0.35003951804082156, 0.0], 67: [0.0, 0.0, 0.4976167910088419, 0.0, 1.1835298181010696, 0.18772620846407836, 1.804363194447607, 0.0, 0.0, 0.0, 0.9998538820069927, 0.0, 0.0, 0.5868246093524123, 2.5924432433631783, 0.0, 1.44088970857838, 0.0, 1.5514380126360843, 0.0, 2.3778653072289817, 1.1623527854822377, 0.5016872093445666, 2.146927920475228, 0.23848216444147996, 0.7678649777143411, 0.25658243213704535, 0.0, 0.0, 0.5719122245937309, 1.209335991680806, 0.0, 2.7647913163236604, 0.0, 1.201406163490851, 0.08832334841919284, 1.575177831183697, 0.0], 68: [0.0, 5.436533726527664, 0.33174452733922793, 8.909535050783543, 0.7397061363131684, 6.758143504706822, 0.5551886752146483, 3.5095468610897935, 0.7012908952196418, 5.454838765062788, 0.9998538820069927, 5.602140630244326, 0.4066293166490752, 7.62871992158136, 0.34565909911509046, 6.03492072452301, 0.16009885650870892, 4.255621503000731, 3.7924040308882057, 6.008804961880767, 0.1251508056436306, 5.2647743813019, 9.532056977546764, 0.8840291437250938, 12.639554715398438, 0.614291982171473, 2.8224067535074986, 0.1494278041755569, 1.6700140797680199, 0.0, 4.998588765613999, 6.524643723379685, 0.0, 6.256907373710512, 3.3639372577743827, 3.002993846252557, 1.575177831183697, 4.75272114049342], 69: [0.0, 0.0, 0.0, 0.0, 0.0, 0.18772620846407836, 0.0, 0.0, 0.4207745371317851, 0.0, 0.14283626885814182, 0.0, 0.4066293166490752, 0.11736492187048245, 0.17282954955754523, 0.0, 0.0, 0.21278107515003655, 0.17238200140400936, 0.0, 0.1251508056436306, 0.0, 0.0, 0.2525797553500268, 0.23848216444147996, 0.0, 0.0, 0.0, 0.0, 0.0, 0.08062239944538707, 0.0, 0.18431942108824403, 0.21575542667967282, 0.36042184904725527, 0.0, 0.0, 0.0], 70: [0.3333889799225642, 0.0, 0.16587226366961397, 0.0, 0.1479412272626337, 0.0, 0.13879716880366208, 0.17547734305448967, 0.4207745371317851, 0.1398676606426356, 0.0, 0.0, 1.2198879499472257, 0.0, 1.2098068469028165, 0.0, 0.4802965695261267, 0.6383432254501097, 1.5514380126360843, 0.0, 3.0036193354471346, 1.2991001720095599, 1.1287962210252749, 1.515478532100161, 0.0, 0.15357299554286824, 1.154620944616704, 0.5977112167022276, 0.0, 1.1438244491874618, 0.3224895977815483, 0.0, 0.9215971054412202, 0.0, 0.2402812326981702, 2.2080837104798214, 3.5003951804082156, 0.0], 71: [6.834474088412567, 0.31065907008729504, 4.644423382749191, 0.0, 4.438236817879011, 0.18772620846407836, 3.469929220091552, 0.17547734305448967, 3.9272290132299945, 0.1398676606426356, 3.5709067214535453, 0.21546694731708949, 5.489495774762515, 0.11736492187048245, 3.802250090265995, 0.0, 4.002471412717723, 0.0, 4.826696039312262, 0.8011739949174356, 3.128770141090765, 2.1195844911734927, 0.2508436046722833, 3.2835368195503487, 0.0, 3.0714599108573646, 0.12829121606852267, 3.5862673002133656, 0.0, 4.3846603885519375, 2.0155599861346767, 0.6524643723379685, 3.5020690006766366, 0.0, 3.0035154087271274, 0.3532933936767714, 4.725533493551091, 0.0], 72: [0.1666944899612821, 11.649715128273565, 0.6634890546784559, 9.651996305015505, 1.6273534998889705, 8.07222696395537, 1.1103773504292966, 6.8436163791250975, 0.9818072533074986, 5.594706425705423, 0.5713450754325673, 7.541343156098132, 0.8132586332981504, 4.34250210920785, 1.3826363964603618, 5.2477571517591395, 0.9605931390522534, 7.234556555101244, 1.2066740098280655, 5.40792446569269, 0.8760556395054142, 3.7605531295013574, 5.393137500454091, 1.6417684097751744, 5.485089782154039, 0.9214379732572094, 4.746774994535339, 0.2988556083511138, 5.195599359278284, 1.9063740819791033, 3.30551837726087, 7.177108095717654, 1.4745553687059523, 6.472662800390185, 1.321546779839936, 3.532933936767714, 0.5250592770612323, 6.416173539666117], 73: [35.17253738183053, 31.065907008729504, 28.861773878512828, 32.66829518620632, 19.380300771405015, 29.097562311932148, 20.68077815174565, 18.600598363775905, 9.818072533074986, 24.61670827310386, 25.710528394465527, 20.68482694244059, 15.655228690989397, 30.16278492071399, 23.331989190268605, 29.912215765027096, 25.455718184884716, 21.06532643985362, 25.512536207793385, 22.833458855146915, 19.273224069119113, 24.956398041236284, 23.70472064153077, 32.9616580731785, 25.756073759679836, 23.189522326973105, 28.224067535074987, 15.689919438433474, 21.710183036984258, 15.822904880426558, 18.623774271884415, 23.488717404166866, 20.459455740795086, 31.50029229523223, 31.476841483460294, 33.47454905087409, 24.152726744816686, 21.62488118924506], 74: [10.335058377599491, 0.15532953504364752, 5.805529228436488, 0.3712306271159809, 8.136767499444852, 0.0, 4.163915064109863, 0.0, 3.506454476098209, 0.1398676606426356, 4.142251796886113, 0.0, 5.896125091411591, 0.9389193749638596, 3.4565909911509043, 0.0, 2.7216805606480516, 0.0, 2.58573002106014, 0.0, 2.3778653072289817, 1.367473865273221, 0.0, 2.525797553500268, 0.0, 3.6857518930288378, 0.0, 3.287411691862252, 0.0, 3.431473347562386, 1.2899583911261931, 0.0, 2.3961524741471725, 0.0, 3.6042184904725527, 0.3532933936767714, 2.8003161443265725, 0.0], 75: [1.3335559196902569, 4.193897446178483, 1.3269781093569117, 4.825998152507752, 1.1835298181010696, 2.2527145015689407, 1.5267688568402829, 4.211456233307753, 0.7012908952196418, 2.5176178915674403, 1.2855264197232763, 1.7237355785367159, 1.2198879499472257, 3.051487968632544, 0.8641477477877261, 1.9679089319096774, 0.6403954260348357, 2.7661539769504753, 1.034292008424056, 1.8026414885642301, 0.8760556395054142, 1.0939790922185768, 1.8813270350421247, 0.631449388375067, 2.3848216444147994, 0.7678649777143411, 1.7960770249593174, 0.7471390208777845, 4.6389279993556105, 0.9531870409895516, 1.209335991680806, 1.7399049929012493, 0.36863884217648807, 4.099353106913783, 0.8409843144435957, 4.9461075114748, 0.7000790360816431, 8.554898052888156], 76: [52.50876433780387, 63.99576843798278, 58.05529228436488, 63.48043723683274, 57.697078632427136, 61.38647016775363, 49.82818360051469, 54.92440837605527, 34.643770223850304, 45.736725030141834, 50.42120290692406, 54.08220377658946, 50.62534992280987, 50.70164624804842, 50.98471711947584, 49.46011115532989, 47.709459239595255, 58.94035781656013, 48.611724395930636, 52.07630966963331, 39.92310700031816, 40.88746857166931, 38.50449331719548, 47.86386363883008, 59.14357678148703, 59.12560328400427, 40.41173306158464, 44.23063003596484, 52.69822207267974, 51.28146280523788, 47.00285887666066, 49.58729229768561, 49.3976048516494, 55.66490008335559, 50.819480715663, 51.13921873471266, 54.95620433240898, 58.458470028069065], 77: [0.0, 3.1065907008729505, 0.16587226366961397, 5.011613466065743, 0.8876473635758021, 7.884500755491292, 0.27759433760732416, 3.6850242041442836, 0.4207745371317851, 4.615632801206974, 4.142251796886113, 5.171206735610148, 0.2033146583245376, 6.337705781006052, 1.0369772973452713, 3.804623935025376, 0.32019771301741784, 4.255621503000731, 5.5162240449282995, 2.403521984752307, 0.3754524169308918, 4.444290062137968, 6.020246512134799, 0.7577392660500805, 6.200536275478479, 0.15357299554286824, 2.437533105301931, 0.0, 1.1133427198453465, 0.0, 5.562945561731708, 2.609857489351874, 1.4745553687059523, 4.099353106913783, 3.3639372577743827, 1.2365268778687, 2.450276626285751, 2.37636057024671], 78: [0.6667779598451284, 0.15532953504364752, 0.6634890546784559, 0.0, 0.2958824545252674, 0.18772620846407836, 1.3879716880366209, 1.4038187444359174, 0.5610327161757135, 1.2588089457837202, 1.2855264197232763, 0.6464008419512685, 1.6265172665963008, 1.291014140575307, 0.34565909911509046, 0.26238785758795696, 0.16009885650870892, 0.4255621503000731, 0.3447640028080187, 1.2017609923761534, 0.0, 0.2734947730546442, 0.12542180233614164, 0.8840291437250938, 0.4769643288829599, 0.614291982171473, 0.0, 0.5977112167022276, 0.18555711997422444, 0.5719122245937309, 0.24186719833616122, 0.6524643723379685, 0.5529582632647321, 1.0787771333983642, 1.0812655471417658, 6.712574479858657, 1.2251383131428755, 3.5645408553700646], 79: [8.834807967947953, 1.2426362803491802, 7.795996392471856, 0.5568459406739714, 8.136767499444852, 1.501809667712627, 5.690683920950145, 1.5792960874904072, 6.03110169888892, 1.3986766064263558, 4.856433141176821, 1.7237355785367159, 8.742530307955118, 1.8778387499277192, 4.147909189381085, 0.6559696439698924, 6.083756547330938, 1.0639053757501828, 5.5162240449282995, 1.0014674936467944, 4.25512739188344, 3.5554320497103746, 0.8779526163529915, 5.4304647400255766, 2.1463394799733195, 6.296492817257597, 1.154620944616704, 6.1265399711978334, 2.597799679639142, 10.103782634489248, 3.7892527739331925, 0.43497624822531233, 6.451179738088541, 0.8630217067186913, 5.6466089684069996, 2.1197603620606285, 6.65075084277561, 1.4258163421480259], 80: [2.833806329341796, 2.4852725606983603, 3.649189800731507, 0.7424612542319619, 3.254706999777941, 0.9386310423203919, 1.665566025643945, 0.8773867152724484, 2.244130864702854, 0.5594706425705424, 2.285380301730269, 0.6464008419512685, 3.4563491915171394, 0.8215544530933772, 4.839227387611266, 0.9183575015578495, 2.88177941715676, 1.0639053757501828, 2.930494023868159, 1.0014674936467944, 2.12756369594172, 1.6409686383278652, 0.5016872093445666, 1.0103190214001072, 1.4308929866488798, 3.0714599108573646, 0.12829121606852267, 1.9425614542822398, 0.3711142399484489, 1.5250992655832827, 1.37058079057158, 0.21748812411265617, 1.8431942108824404, 1.0787771333983642, 3.724359106821638, 1.2365268778687, 2.8003161443265725, 0.7129081710740129], 81: [5.834307148644874, 4.970545121396721, 4.976167910088419, 7.795843169435599, 5.62176663598008, 6.570417296242743, 4.8579009081281725, 5.088842948580201, 4.067487192273923, 4.895368122492245, 3.5709067214535453, 6.679475366829774, 6.302754408060666, 2.816758124891579, 5.184886486726357, 3.017460362261505, 3.6822736997003047, 6.383432254501097, 3.9647860322922153, 5.808511463151408, 2.252714501585351, 3.8973005160286798, 3.7626540700842495, 2.778377308850295, 4.292678959946639, 4.7607628618289155, 3.84873648205568, 2.5402726709844674, 5.566713599226733, 4.765935204947758, 4.031119972269353, 6.959619971604997, 4.055027263941368, 4.315108533593457, 4.084780955868894, 4.504490769378835, 3.150355662367394, 3.5645408553700646], 82: [4.000667759070771, 4.504556516265779, 3.1515730097226653, 4.454767525391771, 4.142354363353744, 5.81951246238643, 3.192334882484228, 4.386933576362242, 3.2259381180103524, 2.5176178915674403, 3.14239791487912, 5.3866736829272375, 4.676237141464365, 3.5209476561144735, 5.357716036283902, 4.067011792613333, 5.283262264787394, 7.234556555101244, 5.5162240449282995, 5.007337468233972, 3.7545241693089184, 4.375916368874307, 3.386388663075824, 4.167565963275442, 5.962054111036999, 7.217930790514807, 4.618483778466816, 6.574823383724504, 4.267813759407162, 9.341233001697606, 6.207924757294805, 4.784738730478436, 10.874845844206398, 4.315108533593457, 6.607733899199681, 4.592814117798028, 8.575968192000127, 5.227993254542762], 83: [0.0, 0.7766476752182376, 0.0, 1.4849225084639237, 0.0, 1.501809667712627, 0.8327830128219725, 1.2283414013814278, 0.5610327161757135, 1.5385442670689913, 0.8570176131488509, 1.9392025258538053, 0.6099439749736129, 1.525743984316272, 0.0, 1.0495514303518279, 0.16009885650870892, 1.9150296763503292, 0.8619100070200467, 1.8026414885642301, 0.0, 0.6153632393729495, 1.6304834303698414, 0.7577392660500805, 2.3848216444147994, 0.0, 1.0263297285481814, 0.0, 1.8555711997422444, 0.5719122245937309, 0.6449791955630966, 1.087440620563281, 0.18431942108824403, 1.5102879867577097, 0.1201406163490851, 0.9715568326111214, 0.0, 1.188180285123355], 84: [0.8334724498064106, 0.4659886051309426, 0.6634890546784559, 0.9280765677899523, 0.7397061363131684, 1.1263572507844704, 1.2491745192329589, 1.4038187444359174, 0.8415490742635702, 2.2378825702821694, 0.7141813442907091, 2.585603367805074, 1.016573291622688, 0.11736492187048245, 0.8641477477877261, 0.9183575015578495, 1.1206919955609624, 2.340591826650402, 1.3790560112320749, 2.403521984752307, 0.5006032225745224, 1.0939790922185768, 2.383014244386691, 0.631449388375067, 0.23848216444147996, 1.996448942057287, 5.77310472308352, 2.2414170626333534, 3.154471039561815, 3.2408359393644757, 1.37058079057158, 5.002226854591092, 1.6588747897941962, 0.0, 2.042390477934447, 4.151197375702064, 3.6754149394286264, 0.0], 85: [0.0, 5.125874656440368, 0.0, 5.568459406739714, 0.0, 6.194964879314586, 0.5551886752146483, 4.386933576362242, 0.28051635808785674, 3.916294497993796, 0.14283626885814182, 5.817607577561416, 0.6099439749736129, 3.638312577984956, 0.0, 4.198205721407311, 0.4802965695261267, 8.298461930851426, 0.3447640028080187, 5.40792446569269, 0.2503016112872612, 2.5298266507554588, 4.5151848841010995, 0.37886963302504023, 7.154464933244399, 0.0, 3.84873648205568, 0.1494278041755569, 6.494499199097855, 0.38127481639582067, 2.74116158114316, 6.307155599267029, 0.18431942108824403, 6.472662800390185, 0.2402812326981702, 2.296407058899014, 0.35003951804082156, 4.75272114049342], 86: [0.6667779598451284, 6.213181401745901, 1.9904671640353675, 9.651996305015505, 1.035588590838436, 7.696774547027213, 0.27759433760732416, 7.370048408288567, 0.5610327161757135, 5.454838765062788, 0.14283626885814182, 7.972277050732311, 0.8132586332981504, 4.929326718560263, 0.0, 5.7725328669350535, 0.32019771301741784, 7.660118705401317, 0.17238200140400936, 6.209098460610126, 0.0, 2.5982003440191197, 4.264341279428816, 0.37886963302504023, 9.300804413217719, 0.4607189866286047, 4.361901346329771, 0.4482834125266707, 5.752270719200958, 0.19063740819791034, 2.4992943828069993, 5.654691226929061, 0.18431942108824403, 6.688418227069858, 0.0, 3.532933936767714, 0.0, 6.178537482641445], 87: [3.1671953092643603, 0.0, 0.8293613183480698, 0.0, 1.923235954414238, 0.37545241692815673, 0.9715801816256346, 1.9302507735993866, 0.4207745371317851, 4.75550046184961, 0.28567253771628365, 0.8618677892683579, 0.4066293166490752, 0.2347298437409649, 0.17282954955754523, 2.7550725046735485, 0.16009885650870892, 0.6383432254501097, 0.17238200140400936, 1.4020544911055122, 0.2503016112872612, 0.7521106259002716, 0.8779526163529915, 0.2525797553500268, 0.4769643288829599, 0.614291982171473, 4.233610130261248, 0.5977112167022276, 0.9277855998711222, 0.7625496327916413, 0.40311199722693536, 1.304928744675937, 0.36863884217648807, 0.21575542667967282, 0.9611249307926808, 1.766466968383857, 0.5250592770612323, 0.0], 88: [36.00600983163694, 27.803986772812905, 38.15062064401121, 25.429297957444692, 36.98530681565842, 22.714871224153484, 30.396579968001998, 25.093260056792026, 29.454217599224958, 25.31604657631704, 34.423540794812176, 25.20963283609947, 34.36017725684685, 22.88615976474408, 30.76365982124305, 24.27087682688602, 28.977893028076313, 29.363788370705045, 29.82208624289362, 26.63903533100473, 24.404407100507967, 23.247055709644755, 19.94206657144652, 25.636845168027723, 22.894287786382076, 33.171767037259535, 26.171408077978626, 30.931555464340278, 25.792439676417196, 32.21772198544684, 26.12165742030541, 25.01113427295546, 30.22838505847202, 22.00705352132663, 30.515716552667616, 23.670657376343684, 33.07873445485764, 23.050697531393087], 89: [0.0, 0.0, 0.16587226366961397, 0.3712306271159809, 0.44382368178790105, 0.37545241692815673, 1.5267688568402829, 1.2283414013814278, 2.8051635808785673, 2.377750230924805, 1.8568714951558436, 2.1546694731708946, 2.8464052165435265, 0.5868246093524123, 2.246784144248088, 3.017460362261505, 0.9605931390522534, 1.7022486012002924, 1.2066740098280655, 2.203228486022948, 0.6257540282181531, 1.367473865273221, 2.132170639714408, 0.8840291437250938, 0.0, 1.5357299554286823, 3.977027698124203, 0.5977112167022276, 1.8555711997422444, 1.3344618573853724, 0.40311199722693536, 2.392369365239218, 0.5529582632647321, 0.0, 0.1201406163490851, 2.6497004525757855, 0.7000790360816431, 0.0], 90: [2.3337228594579495, 1.0873067453055327, 0.16587226366961397, 0.18561531355799046, 0.44382368178790105, 0.37545241692815673, 0.13879716880366208, 0.7019093722179587, 0.14025817904392837, 0.1398676606426356, 0.14283626885814182, 1.0773347365854473, 0.0, 0.9389193749638596, 0.34565909911509046, 0.3935817863819355, 0.4802965695261267, 0.8511243006001462, 0.517146004212028, 1.0014674936467944, 0.0, 0.20512107979098315, 0.3762654070084249, 0.37886963302504023, 0.7154464933244399, 0.614291982171473, 0.5131648642740907, 0.1494278041755569, 1.4844569597937955, 0.38127481639582067, 0.24186719833616122, 0.43497624822531233, 0.18431942108824403, 0.0, 0.36042184904725527, 0.3532933936767714, 0.0, 0.475272114049342], 91: [4.167362249032053, 0.15532953504364752, 3.3174452733922792, 0.18561531355799046, 3.9944131360911097, 0.18772620846407836, 3.0535377136805657, 0.17547734305448967, 3.2259381180103524, 0.1398676606426356, 3.285234183737262, 0.0, 4.472922483139827, 0.0, 3.6294205407084497, 0.0, 3.201977130174178, 0.0, 2.930494023868159, 0.0, 2.5030161128726123, 1.435847558536882, 0.0, 2.6520874311752816, 0.7154464933244399, 3.839324888571706, 0.12829121606852267, 2.6897004751600244, 0.0, 4.194022980354027, 2.0155599861346767, 0.0, 2.9491107374119045, 0.43151085335934564, 3.0035154087271274, 0.08832334841919284, 2.9753359033469833, 0.0], 92: [6.167696128567439, 0.4659886051309426, 7.1325073377934, 0.0, 6.213531545030615, 1.1263572507844704, 5.551886752146483, 2.632160145817345, 4.909036266537493, 1.678411927711627, 4.2850880657442545, 2.801070315122163, 7.522642358007891, 0.2347298437409649, 5.357716036283902, 1.4431332167337634, 5.123163408278685, 2.1278107515003657, 5.688606046332309, 2.403521984752307, 5.0060322257452246, 2.871695117073764, 1.8813270350421247, 4.672725473975496, 0.0, 4.146470879657442, 4.875066210603862, 4.183978516915594, 0.7422284798968978, 4.765935204947758, 2.418671983361612, 3.0448337375771866, 5.529582632647321, 0.0, 3.1236560250762127, 2.0314370136414355, 5.950671806693967, 0.475272114049342], 93: [0.1666944899612821, 3.883238376091188, 0.0, 3.712306271159809, 0.5917649090505348, 4.693155211601959, 0.5551886752146483, 3.1585921749808143, 0.14025817904392837, 2.5176178915674403, 0.28567253771628365, 3.0165372624392526, 0.6099439749736129, 4.459867031078333, 0.34565909911509046, 3.542236077437419, 0.4802965695261267, 3.617278277550622, 0.17238200140400936, 2.8041089822110243, 0.6257540282181531, 1.367473865273221, 1.6304834303698414, 0.7577392660500805, 5.008125453271079, 1.0750109688000777, 2.437533105301931, 0.1494278041755569, 3.3400281595360397, 0.38127481639582067, 1.8543151872439025, 2.392369365239218, 0.36863884217648807, 2.8048205468357468, 0.1201406163490851, 2.6497004525757855, 1.0501185541224647, 3.802176912394736], 94: [22.503756144773085, 20.814157695848767, 17.084843157970237, 20.046453864262972, 13.462651680899665, 16.895358761767053, 13.046933867544237, 11.05507261243285, 8.275232563591773, 14.126633724906194, 13.855118079239755, 10.988814313171563, 10.97899154952503, 15.25743984316272, 15.20900036106398, 15.74327145527742, 20.49265363311474, 13.61798880960234, 17.238200140400934, 17.225240890724866, 12.13962814743217, 17.435291782233566, 13.420132849967155, 19.574931039627078, 15.501340688696198, 15.050153563201087, 17.960770249593175, 11.505940921517881, 16.143469437757524, 12.963343757457903, 12.738339112371158, 14.136728067322652, 15.482831371412498, 12.29805932074135, 19.462779848551786, 22.787423892151754, 17.326956143020666, 14.258163421480258], 95: [0.1666944899612821, 0.0, 2.156339427704981, 0.0, 0.7397061363131684, 0.0, 1.9431603632512693, 0.0, 0.5610327161757135, 0.1398676606426356, 0.9998538820069927, 0.0, 0.4066293166490752, 0.35209476561144737, 2.0739545946905427, 0.0, 3.362075986682887, 0.0, 2.413348019656131, 0.0, 2.5030161128726123, 1.230726478745899, 0.2508436046722833, 3.536116574900375, 0.23848216444147996, 3.2250329064002328, 0.0, 3.4368394960378086, 0.0, 2.6689237147707447, 1.128713592235419, 0.0, 2.7647913163236604, 0.21575542667967282, 3.2437966414252974, 0.1766466968383857, 2.9753359033469833, 0.0], 96: [47.67462412892669, 41.628315391697534, 42.13155497208194, 34.153217694670246, 42.755014678901134, 33.790717523534106, 37.19764123938144, 28.778284260936307, 31.558090284883882, 30.910753002022464, 37.565938709691295, 32.32004209756342, 39.64635837328483, 32.04062367064171, 35.60288720885431, 30.043409693821076, 33.300562153811455, 31.917161272505485, 33.614490273781826, 30.84519880432127, 28.65953449239141, 28.10158793136469, 25.96231308358132, 33.34052770620354, 29.810270555184996, 36.55037293920264, 35.280084418843735, 34.06953935202697, 30.060253435824357, 38.50875645597789, 31.60398058259173, 31.7532661204478, 31.702940427177975, 33.65784656202896, 35.56162243932919, 32.41466886984377, 36.75414939428626, 30.179779242133215], 97: [0.3333889799225642, 0.6213181401745901, 0.8293613183480698, 0.3712306271159809, 0.7397061363131684, 0.9386310423203919, 0.41639150641098627, 0.17547734305448967, 0.28051635808785674, 0.41960298192790674, 0.42850880657442547, 0.43093389463417897, 1.016573291622688, 0.11736492187048245, 0.34565909911509046, 0.13119392879397848, 0.32019771301741784, 0.0, 0.3447640028080187, 0.0, 0.3754524169308918, 0.1367473865273221, 0.2508436046722833, 0.2525797553500268, 0.0, 0.0, 0.769747296411136, 0.0, 0.3711142399484489, 0.5719122245937309, 0.08062239944538707, 1.087440620563281, 0.5529582632647321, 0.0, 0.36042184904725527, 0.0, 0.0, 0.0], 98: [0.0, 7.9218062872260235, 0.16587226366961397, 8.352689110109571, 0.0, 7.321322130099056, 1.5267688568402829, 8.071957780506525, 0.4207745371317851, 8.112324317272863, 0.14283626885814182, 7.756810103415221, 0.4066293166490752, 7.863449765322325, 0.0, 6.428502510904946, 0.32019771301741784, 10.851834832651864, 0.17238200140400936, 9.814381437738586, 0.0, 3.8973005160286798, 4.0134976747565325, 0.2525797553500268, 14.785894195371757, 1.6893029509715505, 6.157978371289088, 0.4482834125266707, 6.680056319072079, 0.7625496327916413, 3.8698751733785794, 6.089667475154373, 0.36863884217648807, 7.551439933788549, 0.0, 4.239520724121257, 0.0, 9.980714395036182], 99: [39.83998310074643, 31.3765660788168, 37.32125932566314, 27.65668172014058, 42.1632497698506, 23.09032364108164, 36.36485822655946, 23.864918655410598, 31.137315747752098, 23.77750230924805, 39.851319011421566, 24.77869894146529, 36.39332384009223, 27.81548648330434, 37.15835315487222, 25.320428257237847, 33.78085872333758, 27.661539769504753, 32.924962268165785, 26.038154834816655, 26.406819990806056, 24.88802434797262, 18.18616133874054, 27.657483210827934, 26.471520253004275, 33.63248602388814, 21.296341867374764, 23.60959305973799, 25.050211196520298, 34.31473347562386, 27.653483009767765, 23.488717404166866, 33.546134638060416, 28.048205468357466, 32.918528879649315, 22.787423892151754, 36.57912963526585, 26.37760232973848], 100: [0.1666944899612821, 0.0, 0.33174452733922793, 0.0, 0.2958824545252674, 0.18772620846407836, 0.41639150641098627, 0.17547734305448967, 0.14025817904392837, 2.6574855522100758, 0.0, 0.0, 0.0, 0.11736492187048245, 0.0, 2.4926846470855915, 0.32019771301741784, 0.6383432254501097, 0.0, 0.0, 0.1251508056436306, 0.1367473865273221, 0.0, 0.0, 0.23848216444147996, 0.4607189866286047, 0.12829121606852267, 0.0, 0.0, 0.0, 0.08062239944538707, 0.0, 0.18431942108824403, 0.0, 0.0, 0.1766466968383857, 0.0, 0.0], 101: [0.8334724498064106, 1.7086248854801227, 1.1611058456872978, 0.3712306271159809, 1.331471045363703, 0.9386310423203919, 0.27759433760732416, 1.0528640583269382, 0.0, 0.6993383032131779, 0.28567253771628365, 0.8618677892683579, 0.0, 0.8215544530933772, 2.246784144248088, 0.9183575015578495, 6.403954260348356, 1.2766864509002194, 2.7581120224641498, 0.6008804961880767, 4.004825780596179, 1.8460897181188483, 0.3762654070084249, 2.3995076758252547, 0.7154464933244399, 1.8428759465144189, 0.25658243213704535, 1.7931336501066828, 0.9277855998711222, 1.715736673781193, 1.37058079057158, 0.43497624822531233, 1.8431942108824404, 0.6472662800390184, 0.9611249307926808, 0.44161674209596424, 2.6252963853061617, 0.7129081710740129], 102: [0.0, 9.785760707749795, 0.0, 7.610227855877609, 0.0, 8.635405589347606, 0.9715801816256346, 6.317184349961629, 0.5610327161757135, 5.454838765062788, 1.2855264197232763, 7.756810103415221, 0.2033146583245376, 6.102975937265088, 0.34565909911509046, 6.03492072452301, 0.6403954260348357, 9.575148381751646, 0.517146004212028, 8.212033447903714, 0.0, 3.3503109699193914, 5.016872093445666, 1.262898776750134, 10.731697399866599, 1.0750109688000777, 4.618483778466816, 0.1494278041755569, 9.463413118685446, 1.1438244491874618, 4.11174237171474, 7.8295724680556225, 0.0, 12.94532560078037, 0.7208436980945105, 3.1796405430909425, 1.2251383131428755, 6.891445653715459], 103: [2.500417349419232, 0.31065907008729504, 2.6539562187138235, 0.0, 2.5150008634647727, 1.3140834592485486, 1.5267688568402829, 0.7019093722179587, 1.6830981485271403, 0.2797353212852712, 1.9997077640139853, 0.0, 3.8629785081662145, 0.0, 2.0739545946905427, 0.0, 2.241383991121925, 0.4255621503000731, 2.413348019656131, 0.8011739949174356, 2.252714501585351, 1.0939790922185768, 0.0, 1.894348165125201, 0.0, 2.9178869153144964, 1.0263297285481814, 2.839128279335581, 0.7422284798968978, 3.431473347562386, 1.9349375866892897, 0.21748812411265617, 3.1334301585001487, 0.0, 2.883374792378042, 0.7949101357727356, 2.8003161443265725, 0.0], 104: [4.667445718915899, 6.368510936789549, 6.303146019445331, 5.568459406739714, 5.030001726929545, 4.693155211601959, 5.413089583342821, 6.668139036070608, 4.067487192273923, 7.692721335344957, 5.999123292041956, 7.110409261463953, 6.302754408060666, 5.398786406042193, 5.703375135398992, 7.346860012462796, 4.802965695261268, 11.490178058101975, 4.481932036504243, 7.811446450444997, 3.879674974952549, 4.58103744866529, 5.393137500454091, 2.778377308850295, 9.062322248776239, 6.296492817257597, 10.135006069413292, 5.080545341968935, 5.752270719200958, 5.147210021343579, 5.159833564504773, 6.959619971604997, 3.5020690006766366, 4.746619386952802, 4.805624653963404, 7.507484615631392, 5.600632288653145, 6.653809596690787]}, 'long_mean_replays_all_frs': {2: [0.0, 0.0, 0.0, 0.0, 0.0, 0.0, 0.0, 0.0, 0.0, 0.0, 2.4240151906575185, 0.0, 0.0, 6.87623574096647, 8.736473426489022, 20.508489539861607, 3.8747887162328882, 0.0, 0.0, 0.0, 0.0, 0.0, 0.0, 3.143308227070968, 0.0, 0.0, 0.0, 0.0, 0.0, 0.0, 11.028379451213338, 7.2201619168941225], 3: [0.0, 0.0, 0.0, 0.0, 0.0, 0.0, 3.3894314868565383, 0.0, 0.0, 4.9135245285095115, 2.4240151906575185, 0.0, 10.95292732612863, 6.87623574096647, 0.0, 0.0, 0.0, 0.0, 0.0, 6.33802570068922, 0.0, 0.0, 0.0, 0.0, 0.0, 0.0, 7.346445496241278, 0.0, 0.0, 6.098182841618163, 3.676126483737779, 10.830242875341185], 4: [0.0, 5.401045296337036, 0.0, 0.0, 0.0, 7.4763665549365514, 0.0, 2.823252384699566, 0.0, 0.0, 2.4240151906575185, 0.0, 0.0, 3.438117870483235, 0.0, 0.0, 0.0, 0.0, 0.0, 6.33802570068922, 0.0, 5.070420559803141, 0.0, 3.143308227070968, 0.0, 0.0, 0.0, 0.0, 0.0, 0.0, 0.0, 3.6100809584470612], 5: [0.0, 0.0, 0.0, 0.0, 0.0, 0.0, 0.0, 2.823252384699566, 0.0, 0.0, 2.4240151906575185, 0.0, 0.0, 6.87623574096647, 0.0, 0.0, 11.624366148698664, 0.0, 0.0, 0.0, 0.0, 0.0, 0.0, 0.0, 0.0, 22.63706538007289, 0.0, 0.0, 0.0, 0.0, 0.0, 0.0], 6: [0.0, 10.802090592674071, 0.0, 0.0, 0.0, 0.0, 0.0, 2.823252384699566, 0.0, 0.0, 0.0, 0.0, 0.0, 3.438117870483235, 0.0, 0.0, 0.0, 0.0, 0.0, 0.0, 0.0, 0.0, 0.0, 3.143308227070968, 0.0, 0.0, 7.346445496241278, 0.0, 0.0, 0.0, 0.0, 0.0], 7: [53.7340706427261, 162.03135889011108, 187.11811712903028, 248.88512258970138, 199.52252507187436, 104.66913176911171, 172.86100582968345, 175.04164785137309, 84.1139535167086, 226.0221283114375, 155.13697220208118, 169.29026740265783, 262.87025582708714, 161.59153991271205, 183.46594195626946, 158.94079393392747, 112.36887277075375, 153.06630086122695, 158.88191219822738, 158.4506425172305, 183.94728547045472, 157.1830373538974, 142.47636486535316, 147.7354866723355, 218.8229362779619, 220.71138745571068, 146.92890992482555, 138.17915552862314, 107.98706222172927, 182.94548524854488, 106.6076680283956, 111.9125097118589], 8: [0.0, 0.0, 0.0, 0.0, 0.0, 0.0, 0.0, 0.0, 0.0, 0.0, 0.0, 6.046080978666351, 0.0, 0.0, 0.0, 0.0, 0.0, 0.0, 9.345994835189845, 0.0, 0.0, 0.0, 0.0, 0.0, 0.0, 0.0, 0.0, 0.0, 0.0, 0.0, 0.0, 0.0], 9: [0.0, 0.0, 0.0, 0.0, 0.0, 0.0, 6.778862973713077, 2.823252384699566, 0.0, 0.0, 0.0, 6.046080978666351, 0.0, 0.0, 0.0, 0.0, 7.7495774324657765, 0.0, 9.345994835189845, 0.0, 0.0, 0.0, 0.0, 0.0, 0.0, 0.0, 0.0, 0.0, 0.0, 0.0, 11.028379451213338, 10.830242875341185], 10: [0.0, 5.401045296337036, 19.357046599554856, 0.0, 0.0, 0.0, 0.0, 2.823252384699566, 9.345994835189845, 4.9135245285095115, 7.272045571972556, 12.092161957332703, 0.0, 6.87623574096647, 0.0, 0.0, 11.624366148698664, 34.0147335247171, 9.345994835189845, 0.0, 0.0, 5.070420559803141, 7.498756045544903, 9.429924681212903, 0.0, 5.659266345018223, 0.0, 0.0, 0.0, 6.098182841618163, 3.676126483737779, 7.2201619168941225], 11: [0.0, 10.802090592674071, 0.0, 0.0, 0.0, 0.0, 3.3894314868565383, 2.823252384699566, 0.0, 4.9135245285095115, 2.4240151906575185, 0.0, 0.0, 3.438117870483235, 0.0, 0.0, 0.0, 17.00736676235855, 0.0, 0.0, 0.0, 0.0, 7.498756045544903, 3.143308227070968, 0.0, 11.318532690036445, 0.0, 36.36293566542714, 0.0, 0.0, 3.676126483737779, 7.2201619168941225], 12: [0.0, 0.0, 0.0, 0.0, 0.0, 0.0, 6.778862973713077, 0.0, 0.0, 0.0, 0.0, 0.0, 0.0, 0.0, 0.0, 0.0, 0.0, 0.0, 18.69198967037969, 0.0, 0.0, 0.0, 0.0, 0.0, 0.0, 0.0, 7.346445496241278, 0.0, 0.0, 0.0, 0.0, 3.6100809584470612], 13: [42.98725651418088, 0.0, 6.452348866518285, 0.0, 0.0, 0.0, 0.0, 0.0, 0.0, 0.0, 0.0, 0.0, 0.0, 0.0, 0.0, 0.0, 0.0, 0.0, 0.0, 0.0, 6.569545909659097, 0.0, 0.0, 0.0, 0.0, 0.0, 0.0, 0.0, 0.0, 0.0, 0.0, 0.0], 14: [0.0, 0.0, 12.90469773303657, 41.48085376495023, 0.0, 0.0, 0.0, 16.939514308197396, 0.0, 34.39467169956658, 4.848030381315037, 6.046080978666351, 0.0, 0.0, 52.41884055893413, 10.254244769930803, 0.0, 0.0, 0.0, 6.33802570068922, 19.70863772897729, 5.070420559803141, 7.498756045544903, 0.0, 35.011669804473904, 5.659266345018223, 22.039336488723833, 7.272587133085428, 0.0, 36.589097049708975, 3.676126483737779, 0.0], 15: [0.0, 0.0, 0.0, 0.0, 0.0, 0.0, 0.0, 2.823252384699566, 0.0, 0.0, 2.4240151906575185, 0.0, 0.0, 6.87623574096647, 0.0, 0.0, 11.624366148698664, 0.0, 0.0, 0.0, 0.0, 0.0, 22.49626813663471, 3.143308227070968, 0.0, 0.0, 0.0, 29.09034853234171, 0.0, 0.0, 11.028379451213338, 0.0], 16: [0.0, 0.0, 0.0, 0.0, 0.0, 0.0, 0.0, 0.0, 0.0, 0.0, 2.4240151906575185, 0.0, 0.0, 0.0, 0.0, 0.0, 0.0, 0.0, 9.345994835189845, 0.0, 0.0, 10.140841119606282, 0.0, 0.0, 0.0, 0.0, 0.0, 0.0, 0.0, 0.0, 0.0, 0.0], 17: [73.0783360741075, 0.0, 0.0, 0.0, 0.0, 7.4763665549365514, 0.0, 0.0, 18.69198967037969, 0.0, 0.0, 6.046080978666351, 0.0, 0.0, 0.0, 0.0, 3.8747887162328882, 0.0, 0.0, 0.0, 0.0, 0.0, 7.498756045544903, 0.0, 0.0, 0.0, 7.346445496241278, 0.0, 0.0, 0.0, 0.0, 0.0], 18: [0.0, 16.203135889011108, 12.90469773303657, 10.370213441237558, 9.976126253593717, 0.0, 0.0, 0.0, 0.0, 0.0, 0.0, 24.184323914665406, 10.95292732612863, 0.0, 0.0, 0.0, 0.0, 0.0, 18.69198967037969, 0.0, 0.0, 0.0, 0.0, 3.143308227070968, 0.0, 0.0, 0.0, 0.0, 0.0, 0.0, 3.676126483737779, 0.0], 19: [0.0, 5.401045296337036, 0.0, 0.0, 0.0, 0.0, 0.0, 2.823252384699566, 0.0, 0.0, 0.0, 6.046080978666351, 0.0, 0.0, 0.0, 0.0, 0.0, 0.0, 0.0, 0.0, 0.0, 5.070420559803141, 29.995024182179613, 0.0, 0.0, 5.659266345018223, 0.0, 0.0, 0.0, 0.0, 14.704505934951117, 7.2201619168941225], 20: [0.0, 0.0, 0.0, 0.0, 0.0, 0.0, 0.0, 0.0, 0.0, 0.0, 2.4240151906575185, 0.0, 10.95292732612863, 3.438117870483235, 0.0, 0.0, 0.0, 0.0, 0.0, 0.0, 6.569545909659097, 5.070420559803141, 0.0, 18.859849362425805, 0.0, 0.0, 0.0, 0.0, 0.0, 0.0, 0.0, 0.0], 21: [30.091079559926616, 54.010452963370355, 70.97583753170115, 82.96170752990047, 69.83288377515602, 37.381832774682756, 71.17806122398731, 59.28830007869089, 37.38397934075938, 44.2217207565856, 67.87242533841052, 60.46080978666351, 54.76463663064315, 75.63859315063117, 78.62826083840119, 66.65259100455023, 50.37225331102755, 68.0294670494342, 74.76795868151876, 57.042231306202986, 118.25182637386375, 81.12672895685026, 52.491292318814324, 56.57954808727742, 96.28209196230324, 33.95559807010934, 58.77156396993023, 79.99845846393971, 71.99137481448618, 73.17819409941795, 36.761264837377794, 50.54113341825886], 22: [38.68853086276279, 91.8177700377296, 109.68993073081086, 93.33192097113802, 109.7373887895309, 59.81093243949241, 91.51465014512654, 112.93009538798265, 102.8059431870883, 113.01106415571876, 82.41651648235563, 60.46080978666351, 109.5292732612863, 58.44800379821499, 43.68236713244511, 112.79669246923885, 58.12183074349332, 136.0589340988684, 102.8059431870883, 88.73235980964908, 78.83455091590916, 96.33799063625969, 44.99253627326942, 94.29924681212904, 78.77625706006629, 90.54826152029156, 88.15734595489533, 43.63552279851257, 71.99137481448618, 85.37455978265429, 47.78964428859113, 54.15121437670592], 23: [0.0, 0.0, 0.0, 0.0, 0.0, 0.0, 0.0, 0.0, 0.0, 0.0, 0.0, 0.0, 0.0, 3.438117870483235, 0.0, 0.0, 3.8747887162328882, 0.0, 0.0, 0.0, 0.0, 0.0, 0.0, 0.0, 8.752917451118476, 0.0, 0.0, 0.0, 0.0, 0.0, 0.0, 0.0], 24: [0.0, 0.0, 0.0, 10.370213441237558, 0.0, 0.0, 10.168294460569616, 5.646504769399132, 0.0, 0.0, 0.0, 0.0, 10.95292732612863, 6.87623574096647, 0.0, 0.0, 0.0, 0.0, 18.69198967037969, 25.35210280275688, 0.0, 0.0, 0.0, 0.0, 8.752917451118476, 11.318532690036445, 0.0, 7.272587133085428, 0.0, 0.0, 0.0, 14.440323833788245], 25: [0.0, 0.0, 0.0, 0.0, 0.0, 0.0, 0.0, 0.0, 0.0, 0.0, 0.0, 0.0, 0.0, 3.438117870483235, 0.0, 0.0, 3.8747887162328882, 0.0, 0.0, 0.0, 0.0, 0.0, 0.0, 0.0, 0.0, 0.0, 0.0, 7.272587133085428, 0.0, 0.0, 0.0, 0.0], 26: [2.149362825709044, 0.0, 0.0, 0.0, 0.0, 37.381832774682756, 0.0, 0.0, 56.07596901113907, 4.9135245285095115, 0.0, 12.092161957332703, 10.95292732612863, 3.438117870483235, 0.0, 5.127122384965402, 23.24873229739733, 0.0, 0.0, 0.0, 19.70863772897729, 0.0, 0.0, 0.0, 8.752917451118476, 0.0, 7.346445496241278, 0.0, 71.99137481448618, 0.0, 0.0, 0.0], 27: [0.0, 0.0, 0.0, 0.0, 0.0, 0.0, 0.0, 0.0, 0.0, 4.9135245285095115, 2.4240151906575185, 0.0, 0.0, 3.438117870483235, 0.0, 0.0, 0.0, 0.0, 0.0, 0.0, 0.0, 5.070420559803141, 0.0, 0.0, 0.0, 5.659266345018223, 7.346445496241278, 0.0, 0.0, 0.0, 0.0, 0.0], 28: [4.298725651418088, 0.0, 0.0, 0.0, 0.0, 0.0, 0.0, 0.0, 0.0, 0.0, 0.0, 0.0, 0.0, 0.0, 0.0, 0.0, 0.0, 0.0, 0.0, 6.33802570068922, 0.0, 0.0, 0.0, 0.0, 0.0, 0.0, 0.0, 0.0, 0.0, 0.0, 0.0, 0.0], 29: [0.0, 0.0, 0.0, 0.0, 0.0, 0.0, 0.0, 2.823252384699566, 0.0, 0.0, 4.848030381315037, 0.0, 0.0, 6.87623574096647, 0.0, 0.0, 11.624366148698664, 0.0, 0.0, 0.0, 0.0, 0.0, 0.0, 0.0, 0.0, 16.97779903505467, 0.0, 0.0, 0.0, 0.0, 0.0, 0.0], 30: [2.149362825709044, 0.0, 0.0, 0.0, 0.0, 0.0, 0.0, 0.0, 0.0, 0.0, 0.0, 0.0, 0.0, 0.0, 0.0, 0.0, 3.8747887162328882, 0.0, 0.0, 0.0, 0.0, 0.0, 0.0, 0.0, 0.0, 0.0, 0.0, 0.0, 0.0, 0.0, 7.352252967475558, 0.0], 31: [0.0, 0.0, 0.0, 0.0, 0.0, 0.0, 6.778862973713077, 8.469757154098698, 0.0, 0.0, 4.848030381315037, 6.046080978666351, 0.0, 0.0, 0.0, 0.0, 3.8747887162328882, 0.0, 0.0, 6.33802570068922, 0.0, 5.070420559803141, 0.0, 0.0, 0.0, 0.0, 0.0, 0.0, 0.0, 0.0, 11.028379451213338, 10.830242875341185], 32: [0.0, 0.0, 0.0, 0.0, 0.0, 0.0, 0.0, 0.0, 0.0, 0.0, 0.0, 0.0, 0.0, 0.0, 0.0, 0.0, 0.0, 0.0, 0.0, 0.0, 0.0, 0.0, 0.0, 0.0, 0.0, 0.0, 0.0, 0.0, 0.0, 0.0, 0.0, 0.0], 33: [0.0, 0.0, 0.0, 0.0, 0.0, 0.0, 0.0, 0.0, 0.0, 0.0, 0.0, 0.0, 0.0, 0.0, 0.0, 0.0, 0.0, 0.0, 0.0, 0.0, 0.0, 0.0, 0.0, 0.0, 0.0, 0.0, 0.0, 0.0, 0.0, 0.0, 3.676126483737779, 0.0], 34: [0.0, 0.0, 0.0, 0.0, 0.0, 0.0, 0.0, 0.0, 0.0, 0.0, 0.0, 0.0, 0.0, 6.87623574096647, 0.0, 0.0, 0.0, 0.0, 0.0, 0.0, 0.0, 10.140841119606282, 7.498756045544903, 0.0, 0.0, 0.0, 0.0, 0.0, 0.0, 0.0, 25.732885386164455, 3.6100809584470612], 35: [0.0, 0.0, 6.452348866518285, 0.0, 0.0, 0.0, 0.0, 0.0, 0.0, 0.0, 0.0, 0.0, 10.95292732612863, 0.0, 0.0, 0.0, 0.0, 0.0, 0.0, 0.0, 0.0, 0.0, 0.0, 0.0, 0.0, 5.659266345018223, 0.0, 0.0, 0.0, 0.0, 0.0, 0.0], 36: [4.298725651418088, 32.406271778022216, 19.357046599554856, 51.851067206187786, 79.80901002874974, 22.429099664809655, 16.947157434282694, 28.23252384699566, 9.345994835189845, 34.39467169956658, 38.784243050520296, 54.414728807997164, 21.90585465225726, 24.066825093382644, 26.209420279467064, 15.381367154896207, 34.873098446095995, 25.511050143537823, 18.69198967037969, 44.36617990482454, 26.27818363863639, 15.211261679409423, 29.995024182179613, 31.43308227070968, 35.011669804473904, 45.27413076014578, 51.42511847368895, 43.63552279851257, 23.99712493816206, 12.196365683236326, 36.761264837377794, 39.710890542917674], 37: [81.67578737694367, 10.802090592674071, 6.452348866518285, 0.0, 0.0, 14.952733109873103, 0.0, 0.0, 28.037984505569536, 4.9135245285095115, 2.4240151906575185, 6.046080978666351, 0.0, 0.0, 0.0, 5.127122384965402, 19.37394358116444, 0.0, 0.0, 0.0, 0.0, 5.070420559803141, 14.997512091089806, 0.0, 8.752917451118476, 0.0, 14.692890992482557, 0.0, 23.99712493816206, 0.0, 7.352252967475558, 0.0], 38: [0.0, 0.0, 0.0, 0.0, 0.0, 0.0, 3.3894314868565383, 0.0, 0.0, 0.0, 0.0, 0.0, 0.0, 6.87623574096647, 0.0, 0.0, 0.0, 0.0, 0.0, 0.0, 0.0, 0.0, 0.0, 0.0, 0.0, 0.0, 0.0, 0.0, 0.0, 0.0, 0.0, 3.6100809584470612], 39: [0.0, 5.401045296337036, 0.0, 0.0, 19.952252507187435, 22.429099664809655, 3.3894314868565383, 2.823252384699566, 0.0, 0.0, 0.0, 18.138242935999052, 0.0, 6.87623574096647, 0.0, 0.0, 7.7495774324657765, 0.0, 0.0, 12.67605140137844, 0.0, 0.0, 0.0, 0.0, 0.0, 0.0, 7.346445496241278, 0.0, 0.0, 0.0, 0.0, 0.0], 40: [4.298725651418088, 0.0, 0.0, 0.0, 0.0, 44.85819932961931, 16.947157434282694, 0.0, 74.76795868151876, 0.0, 0.0, 6.046080978666351, 0.0, 3.438117870483235, 0.0, 0.0, 27.123521013630217, 0.0, 0.0, 0.0, 0.0, 0.0, 0.0, 0.0, 0.0, 0.0, 0.0, 0.0, 71.99137481448618, 6.098182841618163, 7.352252967475558, 3.6100809584470612], 41: [66.63024759698037, 135.0261324084259, 129.0469773303657, 124.44256129485069, 159.61802005749948, 59.81093243949241, 88.12521865827, 115.7533477726822, 46.72997417594923, 147.40573585528534, 72.72045571972555, 102.78337663732798, 142.3880552396722, 103.14353611449705, 122.3106279708463, 117.92381485420425, 61.99661945972621, 127.55525071768912, 121.49793285746799, 126.76051401378442, 111.68228046420465, 116.61967287547225, 104.98258463762865, 97.4425550392, 87.52917451118476, 113.18532690036446, 51.42511847368895, 87.27104559702514, 83.98993728356722, 121.96365683236326, 84.55090912596891, 64.98145725204711], 42: [12.896176954254264, 0.0, 0.0, 10.370213441237558, 19.952252507187435, 14.952733109873103, 0.0, 5.646504769399132, 18.69198967037969, 0.0, 2.4240151906575185, 12.092161957332703, 0.0, 6.87623574096647, 8.736473426489022, 5.127122384965402, 19.37394358116444, 8.503683381179275, 0.0, 6.33802570068922, 0.0, 0.0, 7.498756045544903, 9.429924681212903, 0.0, 11.318532690036445, 14.692890992482557, 7.272587133085428, 11.99856246908103, 0.0, 11.028379451213338, 10.830242875341185], 43: [0.0, 0.0, 12.90469773303657, 0.0, 0.0, 14.952733109873103, 6.778862973713077, 2.823252384699566, 0.0, 9.827049057019023, 16.96810633460263, 0.0, 0.0, 0.0, 8.736473426489022, 5.127122384965402, 0.0, 17.00736676235855, 9.345994835189845, 0.0, 13.139091819318194, 10.140841119606282, 37.493780227724514, 18.859849362425805, 35.011669804473904, 0.0, 0.0, 7.272587133085428, 0.0, 24.392731366472653, 3.676126483737779, 7.2201619168941225], 44: [0.0, 0.0, 0.0, 0.0, 0.0, 0.0, 10.168294460569616, 0.0, 0.0, 0.0, 0.0, 0.0, 0.0, 3.438117870483235, 0.0, 0.0, 11.624366148698664, 0.0, 0.0, 0.0, 0.0, 0.0, 14.997512091089806, 0.0, 0.0, 0.0, 0.0, 14.545174266170855, 0.0, 0.0, 0.0, 7.2201619168941225], 45: [0.0, 0.0, 0.0, 0.0, 0.0, 0.0, 0.0, 0.0, 0.0, 0.0, 2.4240151906575185, 0.0, 0.0, 13.75247148193294, 0.0, 0.0, 0.0, 0.0, 9.345994835189845, 6.33802570068922, 0.0, 15.211261679409423, 0.0, 0.0, 0.0, 5.659266345018223, 0.0, 0.0, 0.0, 0.0, 0.0, 0.0], 46: [17.19490260567235, 0.0, 0.0, 0.0, 0.0, 0.0, 0.0, 0.0, 0.0, 4.9135245285095115, 4.848030381315037, 6.046080978666351, 0.0, 0.0, 8.736473426489022, 0.0, 0.0, 8.503683381179275, 9.345994835189845, 6.33802570068922, 0.0, 0.0, 7.498756045544903, 3.143308227070968, 8.752917451118476, 0.0, 7.346445496241278, 7.272587133085428, 0.0, 6.098182841618163, 3.676126483737779, 7.2201619168941225], 47: [2.149362825709044, 5.401045296337036, 0.0, 10.370213441237558, 0.0, 0.0, 0.0, 5.646504769399132, 0.0, 4.9135245285095115, 2.4240151906575185, 0.0, 10.95292732612863, 0.0, 0.0, 0.0, 0.0, 8.503683381179275, 28.037984505569536, 0.0, 0.0, 5.070420559803141, 0.0, 0.0, 0.0, 0.0, 7.346445496241278, 14.545174266170855, 0.0, 0.0, 0.0, 0.0], 48: [0.0, 0.0, 0.0, 0.0, 0.0, 7.4763665549365514, 6.778862973713077, 2.823252384699566, 0.0, 0.0, 0.0, 0.0, 0.0, 6.87623574096647, 0.0, 0.0, 0.0, 0.0, 0.0, 0.0, 0.0, 0.0, 0.0, 0.0, 8.752917451118476, 0.0, 0.0, 0.0, 0.0, 0.0, 0.0, 7.2201619168941225], 49: [58.03279629414419, 10.802090592674071, 12.90469773303657, 0.0, 9.976126253593717, 14.952733109873103, 6.778862973713077, 8.469757154098698, 18.69198967037969, 19.654098114038046, 4.848030381315037, 18.138242935999052, 54.76463663064315, 0.0, 0.0, 0.0, 19.37394358116444, 25.511050143537823, 0.0, 0.0, 0.0, 5.070420559803141, 14.997512091089806, 15.71654113535484, 0.0, 16.97779903505467, 0.0, 29.09034853234171, 47.99424987632412, 12.196365683236326, 3.676126483737779, 14.440323833788245], 50: [17.19490260567235, 0.0, 6.452348866518285, 10.370213441237558, 19.952252507187435, 0.0, 0.0, 8.469757154098698, 0.0, 4.9135245285095115, 2.4240151906575185, 12.092161957332703, 0.0, 0.0, 0.0, 0.0, 3.8747887162328882, 8.503683381179275, 0.0, 6.33802570068922, 0.0, 0.0, 0.0, 0.0, 0.0, 0.0, 7.346445496241278, 0.0, 0.0, 18.294548524854488, 7.352252967475558, 10.830242875341185], 51: [4.298725651418088, 5.401045296337036, 0.0, 20.740426882475116, 9.976126253593717, 0.0, 0.0, 8.469757154098698, 0.0, 4.9135245285095115, 4.848030381315037, 0.0, 10.95292732612863, 3.438117870483235, 0.0, 0.0, 15.499154864931553, 17.00736676235855, 0.0, 25.35210280275688, 19.70863772897729, 10.140841119606282, 22.49626813663471, 0.0, 0.0, 0.0, 7.346445496241278, 29.09034853234171, 0.0, 0.0, 7.352252967475558, 0.0], 52: [6.448088477127132, 0.0, 0.0, 0.0, 0.0, 29.905466219746206, 13.557725947426153, 0.0, 37.38397934075938, 0.0, 2.4240151906575185, 0.0, 0.0, 0.0, 0.0, 0.0, 11.624366148698664, 0.0, 37.38397934075938, 0.0, 6.569545909659097, 0.0, 0.0, 3.143308227070968, 0.0, 0.0, 0.0, 0.0, 47.99424987632412, 0.0, 3.676126483737779, 0.0], 53: [0.0, 10.802090592674071, 12.90469773303657, 0.0, 39.90450501437487, 22.429099664809655, 6.778862973713077, 14.11626192349783, 18.69198967037969, 29.481147171057067, 9.696060762630074, 6.046080978666351, 10.95292732612863, 3.438117870483235, 8.736473426489022, 0.0, 15.499154864931553, 8.503683381179275, 0.0, 19.014077102067663, 13.139091819318194, 15.211261679409423, 7.498756045544903, 0.0, 17.505834902236952, 11.318532690036445, 0.0, 0.0, 0.0, 12.196365683236326, 0.0, 0.0], 54: [0.0, 5.401045296337036, 12.90469773303657, 10.370213441237558, 9.976126253593717, 14.952733109873103, 6.778862973713077, 5.646504769399132, 28.037984505569536, 0.0, 2.4240151906575185, 6.046080978666351, 0.0, 10.314353611449704, 0.0, 15.381367154896207, 7.7495774324657765, 8.503683381179275, 0.0, 12.67605140137844, 0.0, 10.140841119606282, 29.995024182179613, 0.0, 0.0, 16.97779903505467, 7.346445496241278, 0.0, 35.99568740724309, 12.196365683236326, 7.352252967475558, 14.440323833788245], 55: [0.0, 0.0, 0.0, 0.0, 0.0, 0.0, 0.0, 0.0, 0.0, 0.0, 0.0, 0.0, 0.0, 0.0, 0.0, 0.0, 0.0, 0.0, 0.0, 0.0, 0.0, 0.0, 0.0, 0.0, 0.0, 0.0, 0.0, 0.0, 0.0, 0.0, 0.0, 0.0], 56: [0.0, 10.802090592674071, 6.452348866518285, 0.0, 0.0, 7.4763665549365514, 0.0, 2.823252384699566, 0.0, 4.9135245285095115, 2.4240151906575185, 0.0, 0.0, 0.0, 8.736473426489022, 0.0, 7.7495774324657765, 0.0, 0.0, 6.33802570068922, 0.0, 0.0, 7.498756045544903, 0.0, 0.0, 0.0, 0.0, 21.817761399256284, 0.0, 0.0, 3.676126483737779, 0.0], 57: [8.597451302836175, 0.0, 0.0, 0.0, 0.0, 0.0, 3.3894314868565383, 0.0, 0.0, 0.0, 0.0, 0.0, 0.0, 3.438117870483235, 0.0, 0.0, 0.0, 0.0, 0.0, 0.0, 0.0, 0.0, 0.0, 0.0, 0.0, 0.0, 0.0, 0.0, 0.0, 0.0, 7.352252967475558, 0.0], 58: [0.0, 0.0, 0.0, 10.370213441237558, 0.0, 0.0, 0.0, 5.646504769399132, 0.0, 9.827049057019023, 7.272045571972556, 0.0, 10.95292732612863, 0.0, 0.0, 0.0, 0.0, 0.0, 0.0, 12.67605140137844, 0.0, 0.0, 7.498756045544903, 0.0, 0.0, 0.0, 0.0, 0.0, 0.0, 0.0, 0.0, 0.0], 59: [2.149362825709044, 0.0, 0.0, 0.0, 0.0, 7.4763665549365514, 0.0, 0.0, 28.037984505569536, 4.9135245285095115, 0.0, 0.0, 0.0, 0.0, 0.0, 0.0, 3.8747887162328882, 0.0, 18.69198967037969, 0.0, 0.0, 0.0, 0.0, 0.0, 0.0, 0.0, 0.0, 0.0, 23.99712493816206, 0.0, 0.0, 0.0], 60: [2.149362825709044, 0.0, 0.0, 10.370213441237558, 0.0, 14.952733109873103, 3.3894314868565383, 0.0, 28.037984505569536, 0.0, 0.0, 0.0, 0.0, 3.438117870483235, 0.0, 0.0, 11.624366148698664, 0.0, 0.0, 0.0, 0.0, 0.0, 0.0, 0.0, 0.0, 0.0, 0.0, 0.0, 23.99712493816206, 0.0, 0.0, 0.0], 61: [0.0, 0.0, 0.0, 0.0, 0.0, 7.4763665549365514, 0.0, 0.0, 18.69198967037969, 4.9135245285095115, 0.0, 6.046080978666351, 21.90585465225726, 0.0, 0.0, 0.0, 7.7495774324657765, 0.0, 0.0, 0.0, 0.0, 0.0, 0.0, 0.0, 0.0, 22.63706538007289, 0.0, 0.0, 23.99712493816206, 0.0, 0.0, 0.0], 62: [0.0, 0.0, 0.0, 0.0, 0.0, 0.0, 0.0, 0.0, 0.0, 0.0, 0.0, 0.0, 0.0, 0.0, 0.0, 0.0, 0.0, 0.0, 0.0, 0.0, 0.0, 0.0, 0.0, 0.0, 0.0, 5.659266345018223, 0.0, 0.0, 0.0, 0.0, 0.0, 0.0], 63: [8.597451302836175, 0.0, 0.0, 0.0, 0.0, 0.0, 0.0, 0.0, 0.0, 0.0, 7.272045571972556, 0.0, 0.0, 0.0, 0.0, 20.508489539861607, 0.0, 0.0, 0.0, 0.0, 0.0, 0.0, 0.0, 0.0, 0.0, 0.0, 0.0, 0.0, 0.0, 0.0, 0.0, 0.0], 64: [62.33152194556227, 81.01567944505554, 70.97583753170115, 82.96170752990047, 59.85675752156231, 37.381832774682756, 50.841472302848075, 70.58130961748915, 37.38397934075938, 73.70286792764267, 53.328334194465405, 60.46080978666351, 120.48220058741494, 75.63859315063117, 113.57415454435727, 97.41532531434264, 42.62267587856177, 110.54788395533058, 65.42196384632892, 50.70420560551376, 65.69545909659097, 70.98588783724398, 82.48631650099394, 72.29608922263226, 78.77625706006629, 73.57046248523689, 80.81090045865406, 79.99845846393971, 23.99712493816206, 60.98182841618163, 44.11351780485335, 57.76129533515298], 65: [0.0, 21.604181185348143, 6.452348866518285, 0.0, 29.928378760781154, 29.905466219746206, 10.168294460569616, 19.762766692896964, 28.037984505569536, 34.39467169956658, 24.240151906575186, 6.046080978666351, 0.0, 10.314353611449704, 26.209420279467064, 5.127122384965402, 15.499154864931553, 8.503683381179275, 0.0, 12.67605140137844, 0.0, 0.0, 7.498756045544903, 3.143308227070968, 35.011669804473904, 22.63706538007289, 0.0, 14.545174266170855, 35.99568740724309, 30.490914208090814, 7.352252967475558, 0.0], 66: [0.0, 0.0, 0.0, 0.0, 0.0, 0.0, 3.3894314868565383, 0.0, 0.0, 0.0, 2.4240151906575185, 0.0, 0.0, 3.438117870483235, 0.0, 0.0, 0.0, 0.0, 0.0, 0.0, 0.0, 0.0, 0.0, 0.0, 0.0, 0.0, 0.0, 0.0, 0.0, 0.0, 0.0, 0.0], 67: [0.0, 0.0, 0.0, 0.0, 0.0, 0.0, 0.0, 0.0, 0.0, 0.0, 0.0, 0.0, 0.0, 0.0, 0.0, 0.0, 0.0, 0.0, 0.0, 0.0, 0.0, 0.0, 0.0, 0.0, 0.0, 0.0, 0.0, 0.0, 0.0, 0.0, 0.0, 0.0], 68: [0.0, 0.0, 0.0, 0.0, 0.0, 14.952733109873103, 6.778862973713077, 0.0, 28.037984505569536, 4.9135245285095115, 2.4240151906575185, 0.0, 0.0, 10.314353611449704, 0.0, 5.127122384965402, 15.499154864931553, 0.0, 0.0, 0.0, 6.569545909659097, 0.0, 0.0, 12.573232908283872, 0.0, 0.0, 0.0, 0.0, 23.99712493816206, 0.0, 3.676126483737779, 3.6100809584470612], 69: [0.0, 0.0, 0.0, 0.0, 0.0, 0.0, 6.778862973713077, 0.0, 0.0, 0.0, 0.0, 0.0, 0.0, 0.0, 0.0, 0.0, 0.0, 0.0, 0.0, 0.0, 0.0, 0.0, 0.0, 0.0, 0.0, 0.0, 0.0, 0.0, 0.0, 0.0, 0.0, 3.6100809584470612], 70: [0.0, 0.0, 0.0, 0.0, 0.0, 0.0, 0.0, 0.0, 0.0, 0.0, 0.0, 0.0, 0.0, 0.0, 0.0, 0.0, 0.0, 0.0, 0.0, 0.0, 0.0, 0.0, 0.0, 0.0, 8.752917451118476, 0.0, 0.0, 0.0, 0.0, 0.0, 0.0, 0.0], 71: [0.0, 5.401045296337036, 0.0, 0.0, 0.0, 0.0, 0.0, 0.0, 0.0, 0.0, 2.4240151906575185, 0.0, 0.0, 6.87623574096647, 8.736473426489022, 10.254244769930803, 15.499154864931553, 0.0, 0.0, 0.0, 6.569545909659097, 0.0, 22.49626813663471, 0.0, 0.0, 0.0, 0.0, 36.36293566542714, 0.0, 0.0, 0.0, 3.6100809584470612], 72: [0.0, 0.0, 0.0, 0.0, 0.0, 0.0, 10.168294460569616, 0.0, 0.0, 9.827049057019023, 0.0, 0.0, 0.0, 0.0, 0.0, 0.0, 3.8747887162328882, 0.0, 18.69198967037969, 38.028154204135326, 0.0, 0.0, 0.0, 0.0, 0.0, 0.0, 0.0, 0.0, 0.0, 0.0, 18.380632418688897, 10.830242875341185], 73: [70.92897324839845, 5.401045296337036, 0.0, 20.740426882475116, 0.0, 29.905466219746206, 3.3894314868565383, 5.646504769399132, 18.69198967037969, 9.827049057019023, 0.0, 0.0, 0.0, 3.438117870483235, 0.0, 0.0, 19.37394358116444, 0.0, 0.0, 0.0, 6.569545909659097, 5.070420559803141, 0.0, 0.0, 0.0, 0.0, 0.0, 14.545174266170855, 35.99568740724309, 6.098182841618163, 11.028379451213338, 10.830242875341185], 74: [0.0, 0.0, 0.0, 0.0, 0.0, 0.0, 0.0, 0.0, 0.0, 0.0, 0.0, 6.046080978666351, 0.0, 10.314353611449704, 0.0, 5.127122384965402, 0.0, 8.503683381179275, 9.345994835189845, 6.33802570068922, 0.0, 0.0, 0.0, 6.286616454141936, 8.752917451118476, 0.0, 0.0, 0.0, 0.0, 0.0, 0.0, 0.0], 75: [0.0, 5.401045296337036, 0.0, 0.0, 0.0, 0.0, 0.0, 14.11626192349783, 0.0, 14.740573585528534, 7.272045571972556, 6.046080978666351, 10.95292732612863, 3.438117870483235, 8.736473426489022, 5.127122384965402, 3.8747887162328882, 0.0, 28.037984505569536, 0.0, 19.70863772897729, 0.0, 7.498756045544903, 18.859849362425805, 17.505834902236952, 5.659266345018223, 0.0, 0.0, 11.99856246908103, 0.0, 7.352252967475558, 0.0], 76: [58.03279629414419, 75.6146341487185, 109.68993073081086, 82.96170752990047, 109.7373887895309, 67.28729899442897, 71.17806122398731, 56.46504769399132, 65.42196384632892, 83.5299169846617, 58.17636457578045, 54.414728807997164, 65.71756395677178, 92.82918250304733, 87.36473426489022, 51.27122384965402, 69.74619689219199, 102.04420057415129, 102.8059431870883, 82.39433410895987, 59.125913186931875, 55.774626157834554, 37.493780227724514, 40.86300695192258, 105.03500941342172, 79.22972883025511, 66.1180094661715, 36.36293566542714, 35.99568740724309, 121.96365683236326, 66.17027670728002, 57.76129533515298], 77: [0.0, 5.401045296337036, 0.0, 0.0, 0.0, 7.4763665549365514, 0.0, 0.0, 37.38397934075938, 0.0, 2.4240151906575185, 6.046080978666351, 0.0, 0.0, 8.736473426489022, 0.0, 3.8747887162328882, 0.0, 9.345994835189845, 0.0, 0.0, 10.140841119606282, 7.498756045544903, 0.0, 8.752917451118476, 0.0, 0.0, 0.0, 23.99712493816206, 0.0, 0.0, 0.0], 78: [0.0, 0.0, 0.0, 0.0, 0.0, 0.0, 0.0, 5.646504769399132, 0.0, 0.0, 2.4240151906575185, 0.0, 0.0, 0.0, 0.0, 0.0, 0.0, 0.0, 0.0, 0.0, 6.569545909659097, 5.070420559803141, 0.0, 0.0, 0.0, 0.0, 0.0, 0.0, 0.0, 0.0, 3.676126483737779, 3.6100809584470612], 79: [0.0, 0.0, 0.0, 0.0, 0.0, 0.0, 10.168294460569616, 8.469757154098698, 0.0, 0.0, 0.0, 0.0, 0.0, 10.314353611449704, 8.736473426489022, 0.0, 0.0, 0.0, 9.345994835189845, 0.0, 0.0, 5.070420559803141, 7.498756045544903, 6.286616454141936, 8.752917451118476, 11.318532690036445, 0.0, 14.545174266170855, 0.0, 0.0, 3.676126483737779, 14.440323833788245], 80: [0.0, 0.0, 0.0, 0.0, 0.0, 0.0, 6.778862973713077, 0.0, 0.0, 0.0, 7.272045571972556, 0.0, 10.95292732612863, 3.438117870483235, 17.472946852978044, 0.0, 0.0, 8.503683381179275, 0.0, 6.33802570068922, 0.0, 0.0, 0.0, 3.143308227070968, 8.752917451118476, 5.659266345018223, 0.0, 0.0, 0.0, 0.0, 7.352252967475558, 0.0], 81: [0.0, 0.0, 0.0, 0.0, 0.0, 0.0, 0.0, 5.646504769399132, 0.0, 0.0, 0.0, 0.0, 0.0, 0.0, 0.0, 0.0, 3.8747887162328882, 0.0, 0.0, 0.0, 0.0, 5.070420559803141, 0.0, 0.0, 17.505834902236952, 0.0, 7.346445496241278, 0.0, 0.0, 6.098182841618163, 18.380632418688897, 14.440323833788245], 82: [0.0, 5.401045296337036, 0.0, 0.0, 9.976126253593717, 0.0, 10.168294460569616, 2.823252384699566, 0.0, 0.0, 7.272045571972556, 0.0, 0.0, 6.87623574096647, 0.0, 5.127122384965402, 11.624366148698664, 8.503683381179275, 0.0, 0.0, 0.0, 5.070420559803141, 0.0, 6.286616454141936, 0.0, 5.659266345018223, 0.0, 7.272587133085428, 0.0, 6.098182841618163, 14.704505934951117, 21.66048575068237], 83: [0.0, 0.0, 0.0, 0.0, 0.0, 22.429099664809655, 0.0, 0.0, 9.345994835189845, 0.0, 0.0, 0.0, 0.0, 0.0, 0.0, 0.0, 11.624366148698664, 0.0, 0.0, 0.0, 0.0, 10.140841119606282, 0.0, 3.143308227070968, 0.0, 0.0, 0.0, 0.0, 35.99568740724309, 0.0, 0.0, 0.0], 84: [0.0, 5.401045296337036, 0.0, 0.0, 0.0, 0.0, 0.0, 0.0, 0.0, 4.9135245285095115, 2.4240151906575185, 0.0, 0.0, 0.0, 8.736473426489022, 0.0, 3.8747887162328882, 17.00736676235855, 0.0, 12.67605140137844, 0.0, 0.0, 14.997512091089806, 0.0, 26.25875235335543, 0.0, 0.0, 7.272587133085428, 0.0, 12.196365683236326, 3.676126483737779, 14.440323833788245], 85: [2.149362825709044, 0.0, 6.452348866518285, 0.0, 9.976126253593717, 22.429099664809655, 6.778862973713077, 0.0, 18.69198967037969, 0.0, 0.0, 0.0, 0.0, 0.0, 0.0, 0.0, 7.7495774324657765, 0.0, 0.0, 0.0, 0.0, 0.0, 0.0, 3.143308227070968, 0.0, 0.0, 0.0, 21.817761399256284, 23.99712493816206, 0.0, 0.0, 0.0], 86: [0.0, 0.0, 0.0, 0.0, 0.0, 0.0, 10.168294460569616, 11.293009538798264, 0.0, 4.9135245285095115, 2.4240151906575185, 0.0, 0.0, 0.0, 0.0, 0.0, 11.624366148698664, 0.0, 0.0, 0.0, 6.569545909659097, 0.0, 0.0, 0.0, 8.752917451118476, 0.0, 0.0, 0.0, 0.0, 6.098182841618163, 3.676126483737779, 3.6100809584470612], 87: [0.0, 5.401045296337036, 0.0, 10.370213441237558, 0.0, 0.0, 0.0, 0.0, 0.0, 4.9135245285095115, 0.0, 0.0, 10.95292732612863, 0.0, 0.0, 0.0, 3.8747887162328882, 0.0, 0.0, 12.67605140137844, 0.0, 0.0, 0.0, 0.0, 8.752917451118476, 0.0, 0.0, 14.545174266170855, 0.0, 6.098182841618163, 14.704505934951117, 3.6100809584470612], 88: [36.53916803705375, 81.01567944505554, 103.23758186429257, 62.221280647425345, 79.80901002874974, 52.33456588455586, 88.12521865827, 107.28359061858352, 65.42196384632892, 88.4434415131712, 58.17636457578045, 48.36864782933081, 54.76463663064315, 75.63859315063117, 61.15531398542315, 76.90683577448104, 42.62267587856177, 119.05156733650985, 37.38397934075938, 31.690128503446104, 98.54318864488646, 60.84504671763769, 104.98258463762865, 59.72285631434839, 78.77625706006629, 79.22972883025511, 66.1180094661715, 50.908109931598, 59.99281234540515, 60.98182841618163, 55.141897256066684, 64.98145725204711], 89: [0.0, 5.401045296337036, 6.452348866518285, 0.0, 0.0, 0.0, 0.0, 0.0, 0.0, 0.0, 0.0, 6.046080978666351, 0.0, 0.0, 0.0, 0.0, 0.0, 0.0, 0.0, 6.33802570068922, 0.0, 10.140841119606282, 0.0, 3.143308227070968, 0.0, 0.0, 0.0, 21.817761399256284, 0.0, 6.098182841618163, 14.704505934951117, 3.6100809584470612], 90: [0.0, 0.0, 0.0, 0.0, 9.976126253593717, 0.0, 13.557725947426153, 5.646504769399132, 0.0, 0.0, 7.272045571972556, 0.0, 0.0, 6.87623574096647, 0.0, 5.127122384965402, 7.7495774324657765, 0.0, 9.345994835189845, 19.014077102067663, 19.70863772897729, 20.281682239212564, 0.0, 0.0, 8.752917451118476, 5.659266345018223, 7.346445496241278, 0.0, 0.0, 6.098182841618163, 0.0, 3.6100809584470612], 91: [0.0, 5.401045296337036, 0.0, 0.0, 0.0, 0.0, 0.0, 0.0, 0.0, 0.0, 4.848030381315037, 0.0, 0.0, 0.0, 0.0, 0.0, 0.0, 0.0, 0.0, 0.0, 6.569545909659097, 5.070420559803141, 0.0, 0.0, 8.752917451118476, 5.659266345018223, 0.0, 0.0, 0.0, 0.0, 0.0, 0.0], 92: [0.0, 0.0, 0.0, 20.740426882475116, 0.0, 0.0, 3.3894314868565383, 0.0, 0.0, 4.9135245285095115, 7.272045571972556, 0.0, 0.0, 6.87623574096647, 0.0, 5.127122384965402, 0.0, 0.0, 0.0, 0.0, 0.0, 0.0, 22.49626813663471, 0.0, 0.0, 5.659266345018223, 7.346445496241278, 14.545174266170855, 0.0, 0.0, 0.0, 10.830242875341185], 93: [2.149362825709044, 0.0, 6.452348866518285, 31.110640323712673, 0.0, 0.0, 13.557725947426153, 2.823252384699566, 0.0, 14.740573585528534, 0.0, 0.0, 0.0, 6.87623574096647, 0.0, 0.0, 7.7495774324657765, 8.503683381179275, 0.0, 19.014077102067663, 6.569545909659097, 0.0, 0.0, 6.286616454141936, 17.505834902236952, 0.0, 7.346445496241278, 0.0, 0.0, 12.196365683236326, 3.676126483737779, 10.830242875341185], 94: [25.792353908508527, 0.0, 0.0, 0.0, 0.0, 22.429099664809655, 0.0, 5.646504769399132, 18.69198967037969, 9.827049057019023, 0.0, 0.0, 0.0, 6.87623574096647, 8.736473426489022, 5.127122384965402, 19.37394358116444, 8.503683381179275, 0.0, 0.0, 0.0, 5.070420559803141, 22.49626813663471, 3.143308227070968, 0.0, 0.0, 7.346445496241278, 7.272587133085428, 11.99856246908103, 0.0, 7.352252967475558, 0.0], 95: [0.0, 0.0, 0.0, 0.0, 0.0, 0.0, 0.0, 2.823252384699566, 0.0, 0.0, 4.848030381315037, 0.0, 0.0, 0.0, 0.0, 0.0, 0.0, 8.503683381179275, 0.0, 0.0, 0.0, 0.0, 0.0, 0.0, 17.505834902236952, 0.0, 0.0, 0.0, 0.0, 0.0, 0.0, 0.0], 96: [66.63024759698037, 91.8177700377296, 51.61879093214628, 93.33192097113802, 59.85675752156231, 22.429099664809655, 57.62033527656116, 73.40456200218871, 18.69198967037969, 73.70286792764267, 89.68856205432819, 72.55297174399621, 54.76463663064315, 96.26730037353057, 104.83768111786826, 97.41532531434264, 34.873098446095995, 68.0294670494342, 102.8059431870883, 31.690128503446104, 65.69545909659097, 106.47883175586597, 74.98756045544903, 72.29608922263226, 70.02333960894781, 84.88899517527334, 95.50379145113662, 72.72587133085428, 35.99568740724309, 97.57092546589061, 29.409011869902233, 61.37137629360004], 97: [0.0, 16.203135889011108, 25.80939546607314, 0.0, 9.976126253593717, 7.4763665549365514, 3.3894314868565383, 8.469757154098698, 0.0, 4.9135245285095115, 2.4240151906575185, 6.046080978666351, 0.0, 6.87623574096647, 8.736473426489022, 5.127122384965402, 0.0, 8.503683381179275, 0.0, 6.33802570068922, 6.569545909659097, 15.211261679409423, 7.498756045544903, 12.573232908283872, 0.0, 5.659266345018223, 14.692890992482557, 0.0, 0.0, 30.490914208090814, 7.352252967475558, 0.0], 98: [0.0, 10.802090592674071, 0.0, 0.0, 0.0, 0.0, 10.168294460569616, 5.646504769399132, 0.0, 4.9135245285095115, 7.272045571972556, 0.0, 0.0, 0.0, 0.0, 0.0, 15.499154864931553, 0.0, 0.0, 12.67605140137844, 0.0, 0.0, 0.0, 0.0, 0.0, 0.0, 0.0, 0.0, 0.0, 0.0, 18.380632418688897, 18.050404792235305], 99: [38.68853086276279, 91.8177700377296, 77.42818639821942, 62.221280647425345, 29.928378760781154, 37.381832774682756, 77.95692419770039, 93.16732869508569, 37.38397934075938, 73.70286792764267, 82.41651648235563, 42.32256685066446, 76.67049128290041, 68.7623574096647, 104.83768111786826, 97.41532531434264, 46.49746459479466, 119.05156733650985, 46.72997417594923, 57.042231306202986, 32.84772954829548, 76.05630839704712, 67.48880440990413, 69.15278099556129, 43.76458725559238, 67.91119614021868, 51.42511847368895, 65.45328419776885, 35.99568740724309, 48.785462732945305, 62.49415022354225, 50.54113341825886], 100: [0.0, 0.0, 0.0, 0.0, 9.976126253593717, 0.0, 3.3894314868565383, 5.646504769399132, 0.0, 9.827049057019023, 9.696060762630074, 0.0, 0.0, 27.50494296386588, 0.0, 15.381367154896207, 0.0, 17.00736676235855, 0.0, 6.33802570068922, 6.569545909659097, 0.0, 0.0, 3.143308227070968, 0.0, 5.659266345018223, 0.0, 0.0, 0.0, 0.0, 0.0, 0.0], 101: [2.149362825709044, 21.604181185348143, 6.452348866518285, 31.110640323712673, 19.952252507187435, 7.4763665549365514, 3.3894314868565383, 0.0, 9.345994835189845, 0.0, 0.0, 6.046080978666351, 10.95292732612863, 0.0, 0.0, 0.0, 3.8747887162328882, 8.503683381179275, 0.0, 25.35210280275688, 0.0, 0.0, 0.0, 0.0, 0.0, 0.0, 14.692890992482557, 0.0, 0.0, 0.0, 0.0, 0.0], 102: [8.597451302836175, 5.401045296337036, 0.0, 0.0, 0.0, 29.905466219746206, 16.947157434282694, 0.0, 56.07596901113907, 4.9135245285095115, 4.848030381315037, 0.0, 0.0, 0.0, 0.0, 0.0, 11.624366148698664, 0.0, 18.69198967037969, 6.33802570068922, 6.569545909659097, 5.070420559803141, 0.0, 3.143308227070968, 0.0, 0.0, 0.0, 0.0, 35.99568740724309, 0.0, 0.0, 0.0], 103: [0.0, 5.401045296337036, 0.0, 0.0, 0.0, 0.0, 3.3894314868565383, 0.0, 0.0, 0.0, 4.848030381315037, 0.0, 0.0, 13.75247148193294, 0.0, 5.127122384965402, 0.0, 0.0, 0.0, 6.33802570068922, 0.0, 5.070420559803141, 0.0, 18.859849362425805, 17.505834902236952, 0.0, 0.0, 7.272587133085428, 0.0, 12.196365683236326, 0.0, 14.440323833788245], 104: [2.149362825709044, 0.0, 6.452348866518285, 0.0, 0.0, 7.4763665549365514, 13.557725947426153, 0.0, 0.0, 9.827049057019023, 2.4240151906575185, 0.0, 32.85878197838589, 17.190589352416175, 8.736473426489022, 20.508489539861607, 15.499154864931553, 8.503683381179275, 9.345994835189845, 19.014077102067663, 19.70863772897729, 5.070420559803141, 7.498756045544903, 6.286616454141936, 35.011669804473904, 0.0, 7.346445496241278, 0.0, 23.99712493816206, 12.196365683236326, 14.704505934951117, 7.2201619168941225]}, 'short_mean_laps_all_frs': {2: [2.86114639985944, 0.24957716459354837, 1.4357389940080887, 0.7770419408624943, 0.8353546499729934, 0.15144385773100252, 3.6571525813953185, 0.16849436318206812, 1.10801326125133, 0.0, 0.5961977673646086, 0.7824271704535712, 0.528087408648338, 0.48489691950026637, 0.9771981787873547, 0.4460963944521925, 3.942405573150353, 0.49250100232213634, 2.0221905478611064, 0.5547550203049852, 0.25489076814168926, 1.6562919770043714, 0.6914650466323671, 0.8956602488492116, 0.17707719088392504, 2.688599810828711, 0.1374968320726769, 0.20869406333885201, 0.5143275620701954, 0.6531975519337032, 0.0, 0.0, 0.7185418184081108, 0.21895393183333867, 1.5063094329435447], 3: [0.41870435119894245, 0.49915432918709673, 0.20510557057258408, 0.2590139802874981, 1.25303197495949, 0.0, 0.21512662243501873, 0.0, 0.221602652250266, 0.1501418299054378, 0.2980988836823043, 0.0, 0.0, 0.48489691950026637, 0.3257327262624516, 0.0, 0.17140893796305884, 0.0, 0.0, 0.0, 0.0, 0.0, 0.13829300932647343, 0.0, 0.0, 0.0, 0.1374968320726769, 0.0, 0.0, 0.0, 0.0, 0.0, 0.23951393946937025, 0.0, 0.25105157215725743], 4: [1.046760877997356, 0.7487314937806451, 1.6408445645806726, 0.5180279605749962, 1.6707092999459867, 0.30288771546200505, 1.505886357045131, 0.6739774527282725, 1.3296159135015961, 0.3002836598108756, 2.6828899531407386, 0.0, 2.376393338917521, 0.9697938390005327, 4.23452544141187, 0.4460963944521925, 2.2283161935197646, 0.9850020046442727, 2.2468783865123405, 1.0170508705591397, 1.2744538407084463, 3.643842349409617, 0.6914650466323671, 2.015235559910726, 0.17707719088392504, 1.4665089877247515, 1.374968320726769, 0.9391232850248341, 1.3886844175895274, 0.6531975519337032, 1.775095732045884, 0.9368265644442444, 2.3951393946937025, 0.43790786366667733, 1.2552578607862872], 5: [0.2791362341326283, 0.0, 0.6153167117177523, 0.2590139802874981, 0.0, 0.15144385773100252, 0.21512662243501873, 0.0, 0.886410609001064, 0.0, 0.5961977673646086, 0.0, 0.0, 0.0, 0.0, 0.0, 0.17140893796305884, 0.0, 0.4493756773024681, 0.18491834010166175, 0.0, 0.6625167908017485, 0.4148790279794203, 0.2239150622123029, 0.0, 0.2444181646207919, 0.0, 0.41738812667770403, 0.10286551241403907, 0.0, 0.0, 0.0, 0.0, 0.0, 0.5021031443145149], 6: [0.41870435119894245, 1.2478858229677419, 0.6153167117177523, 0.0, 0.626515987479745, 0.6057754309240101, 1.7210129794801499, 0.33698872636413624, 1.772821218002128, 0.9008509794326269, 1.1923955347292172, 0.5868203778401785, 0.792131112972507, 0.9697938390005327, 1.628663631312258, 0.0, 0.5142268138891765, 0.49250100232213634, 0.8987513546049362, 0.3698366802033235, 0.25489076814168926, 0.33125839540087426, 1.2446370839382608, 0.8956602488492116, 0.7083087635357002, 0.2444181646207919, 1.2374714886540923, 0.9391232850248341, 1.0800878803474103, 0.3265987759668516, 0.19723285911620933, 0.3747306257776977, 0.23951393946937025, 0.656861795500016, 0.25105157215725743], 7: [45.08050181241947, 46.17177544980645, 44.918119955395916, 38.593083062837216, 32.78767001143999, 38.01240829048164, 39.798425150478465, 38.922197895057735, 35.45642436004256, 34.98304636796701, 36.06996492555882, 40.49060607097231, 35.381856379438645, 42.67092891602344, 35.83059988886968, 38.14124172566246, 35.653059096316234, 40.87758319273732, 38.421620409361026, 38.9253105913998, 37.72383368497001, 38.09471547110054, 36.23276844353604, 32.46768402078392, 33.64466626794576, 34.70737937615245, 36.43666049925938, 36.83450217930738, 37.443046518710226, 37.232260460221084, 33.924051767988004, 44.21821384176833, 32.57389576783436, 32.186227979500785, 30.126188658870895], 8: [0.8374087023978849, 1.996617316748387, 0.0, 1.0360559211499925, 0.0, 0.6057754309240101, 0.6453798673050561, 0.0, 0.0, 0.45042548971631347, 0.0, 0.9780339630669641, 0.264043704324169, 2.424484597501332, 0.0, 1.78438557780877, 1.3712715037044707, 2.462505011610682, 0.22468783865123404, 1.1095100406099705, 2.039126145133514, 0.0, 2.212688149223575, 0.0, 1.5936947179553254, 0.4888363292415838, 1.2374714886540923, 0.7304292216859821, 0.6171930744842344, 2.9393889837016642, 0.591698577348628, 1.68628781599964, 0.0, 1.7516314546667093, 0.25105157215725743], 9: [0.907192760931042, 0.9983086583741935, 1.4357389940080887, 0.7770419408624943, 1.6707092999459867, 0.0, 1.505886357045131, 0.33698872636413624, 1.3296159135015961, 0.45042548971631347, 2.3847910694584344, 1.173640755680357, 2.376393338917521, 0.24244845975013318, 2.6058618100996127, 0.4460963944521925, 1.5426804416675295, 0.9850020046442727, 1.7975027092098723, 1.5718058908641248, 0.25489076814168926, 1.9875503724052457, 0.4148790279794203, 1.3434903732738175, 0.5312315726517751, 2.444181646207919, 0.1374968320726769, 0.9391232850248341, 1.0286551241403907, 0.6531975519337032, 2.564027168510721, 0.0, 2.3951393946937025, 0.43790786366667733, 2.0084125772580594], 10: [2.1633058145278694, 1.4974629875612901, 2.8714779880161774, 0.5180279605749962, 2.7149026124122284, 1.0601070041170177, 1.7210129794801499, 1.347954905456545, 1.772821218002128, 1.651560128959816, 1.1923955347292172, 0.1956067926133928, 0.792131112972507, 1.212242298750666, 0.3257327262624516, 0.892192788904385, 0.6856357518522354, 0.49250100232213634, 0.8987513546049362, 0.8321325304574778, 1.019563072566757, 1.325033581603497, 0.8297580559588406, 0.0, 1.5936947179553254, 0.7332544938623757, 1.512465152799446, 0.8347762533554081, 0.8229240993123126, 0.3265987759668516, 1.3806300138134653, 1.1241918773330932, 1.6765975762855918, 1.313723591000032, 0.5021031443145149], 11: [1.953953638928398, 3.244503139716129, 1.2306334234355045, 2.849153783162479, 0.0, 1.5144385773100253, 0.8605064897400749, 2.0219323581848174, 0.0, 1.0509928093380647, 0.5961977673646086, 3.5209222670410707, 0.0, 2.424484597501332, 0.0, 2.0074337750348663, 0.6856357518522354, 2.70875551277175, 0.8987513546049362, 1.2019692106608013, 1.5293446088501357, 0.33125839540087426, 1.2446370839382608, 0.8956602488492116, 1.5936947179553254, 0.7332544938623757, 2.1999493131628305, 1.04347031669426, 1.2858189051754885, 3.5925865356353675, 2.1695614502783025, 5.995690012443164, 0.7185418184081108, 3.7222168411667576, 0.0], 12: [0.4884884097320995, 1.996617316748387, 0.20510557057258408, 1.2950699014374907, 0.0, 0.9086631463860152, 0.0, 1.1794605422744768, 0.0, 1.2011346392435025, 0.0, 3.325315474427678, 0.528087408648338, 2.666933057251465, 0.0, 2.2304819722609626, 0.17140893796305884, 1.9700040092885454, 0.22468783865123404, 1.0170508705591397, 2.039126145133514, 0.33125839540087426, 1.6595161119176811, 0.0, 1.5936947179553254, 0.0, 1.2374714886540923, 1.5652054750413902, 0.5143275620701954, 1.632993879834258, 0.39446571823241866, 2.2483837546661865, 0.23951393946937025, 2.627447182000064, 0.0], 13: [0.41870435119894245, 0.0, 0.0, 0.0, 0.0, 0.15144385773100252, 0.0, 0.33698872636413624, 0.0, 0.3002836598108756, 0.0, 0.0, 0.0, 0.7273453792503995, 0.0, 1.1152409861304813, 0.0, 0.49250100232213634, 0.0, 0.0, 0.0, 0.33125839540087426, 0.8297580559588406, 0.0, 0.3541543817678501, 0.0, 0.1374968320726769, 0.20869406333885201, 1.800146467245684, 0.0, 0.0, 3.37257563199928, 0.23951393946937025, 0.8758157273333547, 0.0], 14: [0.6978405853315708, 0.7487314937806451, 0.20510557057258408, 0.7770419408624943, 0.0, 1.2115508618480202, 0.0, 1.0109661790924087, 0.443205304500532, 0.45042548971631347, 0.0, 1.7604611335205353, 0.264043704324169, 0.9697938390005327, 0.0, 0.892192788904385, 0.6856357518522354, 0.7387515034832045, 0.0, 0.18491834010166175, 0.7646723044250678, 0.0, 0.5531720373058937, 0.2239150622123029, 0.3541543817678501, 0.2444181646207919, 0.41249049621803074, 0.20869406333885201, 0.3085965372421172, 0.6531975519337032, 0.0, 0.18736531288884886, 0.0, 0.0, 0.25105157215725743], 15: [1.953953638928398, 3.4940803043096773, 1.6408445645806726, 4.921265625462464, 0.626515987479745, 3.4832087278130586, 1.0756331121750937, 1.6849436318206812, 0.221602652250266, 1.3512764691489403, 0.0, 1.9560679261339282, 0.264043704324169, 2.666933057251465, 0.0, 1.78438557780877, 0.6856357518522354, 2.70875551277175, 0.6740635159537022, 2.12656091116911, 1.7842353769918249, 0.0, 1.7978091212441545, 0.6717451866369087, 1.9478490997231754, 0.4888363292415838, 2.3374461452355075, 0.7304292216859821, 0.9772223679333712, 2.612790207734813, 0.7889314364648373, 1.68628781599964, 0.4790278789387405, 2.627447182000064, 0.5021031443145149], 16: [0.6978405853315708, 0.0, 0.8204222822903363, 0.0, 0.4176773249864967, 0.7572192886550126, 0.43025324487003747, 0.0, 1.10801326125133, 0.1501418299054378, 1.7885933020938258, 0.0, 0.264043704324169, 0.48489691950026637, 1.9543963575747094, 0.22304819722609626, 0.6856357518522354, 0.0, 0.8987513546049362, 0.18491834010166175, 0.0, 0.0, 0.6914650466323671, 0.0, 0.7083087635357002, 0.9776726584831676, 0.8249809924360615, 0.41738812667770403, 0.7200585868982735, 0.0, 0.591698577348628, 0.0, 0.958055757877481, 0.0, 1.5063094329435447], 17: [32.658939393517514, 33.69291722012903, 33.842419144476374, 21.498160363862343, 40.72353918618343, 28.925776826621483, 38.93791866073839, 23.589210845489536, 37.89405353479549, 28.37680585212775, 36.66616269292343, 28.754198514168746, 38.550380831328674, 27.639124411515184, 33.22473807877006, 26.988831864357646, 28.796701577793883, 28.31880763352284, 34.37723931363881, 24.501680063470182, 27.52820295930244, 36.76968188949704, 22.126881492235746, 27.09372252768865, 20.363876951651378, 29.085761589874238, 22.136989963700984, 29.00847480410043, 28.956641744552, 25.474704525414424, 30.176627444780028, 35.03731351021474, 28.9811866757938, 24.96074822900061, 29.875137086713636], 18: [0.06978405853315707, 0.7487314937806451, 0.20510557057258408, 0.2590139802874981, 0.626515987479745, 1.0601070041170177, 0.21512662243501873, 0.33698872636413624, 1.10801326125133, 1.2011346392435025, 1.7885933020938258, 0.0, 0.792131112972507, 0.7273453792503995, 3.257327262624516, 0.0, 0.5142268138891765, 0.24625050116106817, 0.4493756773024681, 0.18491834010166175, 0.7646723044250678, 0.9937751862026228, 0.9680510652853139, 1.5674054354861202, 0.3541543817678501, 1.2220908231039596, 0.8249809924360615, 0.8347762533554081, 1.337251661382508, 0.0, 0.0, 0.0, 0.958055757877481, 0.0, 1.2552578607862872], 19: [0.976976819464199, 0.0, 1.0255278528629204, 1.0360559211499925, 2.2972252874257317, 0.30288771546200505, 0.8605064897400749, 0.5054830895462044, 1.3296159135015961, 0.0, 0.0, 0.0, 0.528087408648338, 0.48489691950026637, 0.0, 0.0, 0.8570446898152941, 0.0, 1.1234391932561703, 1.0170508705591397, 0.0, 0.0, 0.0, 1.7913204976984232, 0.17707719088392504, 0.0, 0.5499873282907076, 0.10434703166942601, 0.668625830691254, 0.6531975519337032, 1.183397154697256, 0.18736531288884886, 1.916111515754962, 0.8758157273333547, 0.25105157215725743], 20: [0.5582724682652566, 0.0, 0.20510557057258408, 0.2590139802874981, 2.2972252874257317, 0.0, 0.21512662243501873, 0.0, 0.221602652250266, 0.1501418299054378, 0.8942966510469129, 0.0, 0.528087408648338, 0.0, 0.3257327262624516, 0.0, 1.3712715037044707, 0.0, 0.4493756773024681, 0.9245917005083087, 0.25489076814168926, 0.0, 0.5531720373058937, 0.6717451866369087, 0.0, 0.4888363292415838, 0.2749936641453538, 0.20869406333885201, 0.6171930744842344, 0.0, 0.591698577348628, 1.68628781599964, 0.7185418184081108, 0.0, 0.5021031443145149], 21: [24.424420486604976, 24.208984965574192, 22.56161276298425, 21.498160363862343, 20.675027586831586, 22.110803228726372, 20.867282376196815, 23.589210845489536, 21.052251963775273, 20.419288867139542, 19.972625206714387, 22.88599473576696, 14.258360033505127, 23.275052136012786, 21.824092659584256, 18.28995217253989, 20.397663617604, 20.931292598690796, 18.649090608052425, 22.837415002555225, 26.508639886735683, 16.894178165444586, 22.541760520215167, 22.167591159017988, 22.311726051374556, 16.62043519421385, 18.837065993956738, 20.765059302215775, 23.041874780744752, 22.53531554171276, 23.86517595306133, 24.73222130132805, 20.35868485489647, 21.019577456000512, 16.067300618064476], 22: [30.146713286323855, 29.450105422038707, 34.66284142676671, 30.30463569363728, 38.4263138987577, 27.41133824931146, 37.21690568125824, 30.160491009590192, 31.467576619537777, 26.72524572316793, 40.24334929711108, 25.62448983235446, 36.96611860538366, 34.91257820401918, 38.43646169896929, 34.79551876727101, 29.139519453720002, 33.49006815790527, 36.39942986149992, 27.830210185300093, 32.37112755399453, 34.7821315170918, 26.552257790682898, 34.70683464290695, 29.748968068499405, 32.507615894565326, 23.786951948573105, 29.00847480410043, 29.830998600071332, 34.292871476519416, 32.34618889505833, 29.416354123549272, 32.33438182836498, 35.03262909333419, 34.64511695770153], 23: [0.3489202926657854, 0.0, 0.0, 0.5180279605749962, 0.4176773249864967, 0.6057754309240101, 0.6453798673050561, 0.16849436318206812, 0.0, 0.45042548971631347, 0.0, 0.3912135852267856, 0.0, 0.0, 0.3257327262624516, 0.0, 0.17140893796305884, 0.0, 0.4493756773024681, 0.18491834010166175, 0.25489076814168926, 0.0, 0.5531720373058937, 0.2239150622123029, 0.17707719088392504, 0.7332544938623757, 0.0, 0.20869406333885201, 0.05143275620701954, 0.0, 0.0, 0.3747306257776977, 0.0, 0.21895393183333867, 0.0], 24: [3.768339160790482, 6.988160608619355, 2.8714779880161774, 8.28844736919994, 1.4618706374527384, 5.451978878316091, 1.9361396019151684, 6.065797074554452, 1.10801326125133, 5.555247706501199, 1.4904944184115216, 7.041844534082141, 1.056174817296676, 7.031005332753862, 0.9771981787873547, 6.468397719556791, 1.028453627778353, 5.663761526704568, 1.3481270319074043, 3.1436117817282496, 5.862487667258853, 1.6562919770043714, 4.840255326426569, 1.3434903732738175, 4.958161344749901, 0.9776726584831676, 5.087382786689045, 3.2347579817522063, 2.3659067855228986, 6.20537674337018, 2.7612600276269306, 6.55778595110971, 1.916111515754962, 6.787571886833499, 1.2552578607862872], 25: [6.629485560649922, 4.9915432918709675, 6.153167117177523, 8.029433388912441, 0.0, 5.754866593778097, 1.505886357045131, 3.875370353187567, 0.0, 3.1529784280141944, 0.0, 5.281383400561606, 0.0, 2.666933057251465, 0.3257327262624516, 4.237915747295829, 1.5426804416675295, 4.186258519738159, 2.920941902466043, 3.5134484619315733, 2.5489076814168925, 0.33125839540087426, 3.042446205182415, 0.0, 2.8332350541428006, 4.399526963174254, 3.4374208018169226, 2.2956346967273724, 2.6230705665579963, 3.919185311602219, 1.183397154697256, 4.496767509332373, 0.0, 4.598032568500113, 2.761567293729832], 26: [1.7446014633289268, 0.49915432918709673, 3.4867946997339296, 0.0, 3.5502572623852218, 0.15144385773100252, 2.5815194692202246, 0.0, 5.0968610017561184, 1.2011346392435025, 6.558175441010695, 0.0, 5.0168303821592115, 0.0, 5.537456346461677, 0.22304819722609626, 1.885498317593647, 0.0, 2.2468783865123405, 0.9245917005083087, 1.5293446088501357, 3.9751007448104914, 0.8297580559588406, 3.1348108709722404, 3.7186210085624256, 1.7109271523455434, 1.649961984872123, 3.443452045091058, 2.314474029315879, 0.0, 2.95849288674314, 0.18736531288884886, 2.155625455224332, 0.0, 3.5147220102016044], 27: [0.3489202926657854, 0.9983086583741935, 0.0, 1.0360559211499925, 0.626515987479745, 0.9086631463860152, 0.0, 1.0109661790924087, 0.0, 1.3512764691489403, 0.0, 0.5868203778401785, 0.0, 1.9395876780010655, 0.0, 1.5613373805826738, 0.3428178759261177, 1.231252505805341, 0.0, 0.09245917005083087, 0.7646723044250678, 0.0, 0.13829300932647343, 0.0, 0.5312315726517751, 0.0, 0.8249809924360615, 0.31304109500827804, 0.1542982686210586, 0.3265987759668516, 0.0, 0.7494612515553954, 0.0, 1.0947696591666933, 0.0], 28: [0.6280565267984136, 0.24957716459354837, 0.20510557057258408, 0.0, 0.20883866249324834, 0.9086631463860152, 0.0, 1.1794605422744768, 0.0, 1.651560128959816, 0.2980988836823043, 0.1956067926133928, 0.0, 1.9395876780010655, 0.0, 2.2304819722609626, 0.17140893796305884, 1.477503006966409, 0.0, 0.09245917005083087, 1.019563072566757, 0.0, 1.7978091212441545, 0.0, 1.4166175270714003, 0.0, 1.374968320726769, 1.1478173483636862, 1.6458481986246252, 0.0, 0.19723285911620933, 0.0, 0.0, 1.5326775228333707, 0.0], 29: [0.2791362341326283, 0.0, 0.20510557057258408, 0.2590139802874981, 0.0, 0.15144385773100252, 0.21512662243501873, 0.0, 0.886410609001064, 0.0, 0.5961977673646086, 0.0, 0.0, 0.0, 0.3257327262624516, 0.0, 0.17140893796305884, 0.0, 0.4493756773024681, 0.18491834010166175, 0.0, 0.6625167908017485, 0.4148790279794203, 0.2239150622123029, 0.0, 0.2444181646207919, 0.0, 0.31304109500827804, 0.10286551241403907, 0.0, 0.0, 0.0, 0.0, 0.0, 0.5021031443145149], 30: [1.2561130535968272, 0.24957716459354837, 2.666372417443593, 0.0, 3.9679345873717184, 0.0, 3.6571525813953185, 0.16849436318206812, 3.545642436004256, 0.0, 5.0676810225991735, 0.1956067926133928, 5.544917790807549, 0.0, 4.885990893936774, 0.0, 3.085360883335059, 0.0, 4.493756773024681, 1.5718058908641248, 0.25489076814168926, 7.618943094220108, 0.0, 4.254386182033755, 0.17707719088392504, 5.13278145703663, 0.0, 1.4608584433719642, 1.8515792234527033, 0.0, 3.7474243232079774, 0.0, 4.311250910448664, 0.0, 5.523134587459664], 31: [2.721578282793126, 1.2478858229677419, 6.153167117177523, 1.2950699014374907, 5.429805224824457, 0.6057754309240101, 4.517659071135394, 0.8424718159103406, 4.653655697255586, 1.2011346392435025, 8.942966510469128, 0.7824271704535712, 7.657267425400901, 1.6971392182509324, 7.491852704036386, 0.892192788904385, 2.913951945372, 0.49250100232213634, 4.044381095722213, 2.5888567614232643, 0.25489076814168926, 6.956426303418359, 0.13829300932647343, 4.702216306458361, 0.17707719088392504, 5.621617786278214, 0.6874841603633846, 2.3999817283967984, 3.600292934491368, 0.6531975519337032, 4.9308214779052335, 0.7494612515553954, 7.424932123550478, 1.5326775228333707, 7.531547164717724], 32: [0.06978405853315707, 0.0, 0.0, 0.0, 0.0, 0.0, 0.0, 0.5054830895462044, 0.221602652250266, 1.651560128959816, 0.0, 0.0, 0.0, 2.909381517001598, 0.3257327262624516, 1.3382891833565775, 0.0, 0.9850020046442727, 0.0, 0.09245917005083087, 1.5293446088501357, 0.0, 0.27658601865294685, 0.0, 2.1249262906071005, 0.0, 1.374968320726769, 1.773899538380242, 1.2858189051754885, 0.0, 0.0, 0.0, 0.0, 0.21895393183333867, 0.0], 33: [0.0, 0.0, 0.0, 0.0, 0.20883866249324834, 0.0, 0.0, 0.0, 0.0, 0.0, 0.0, 0.1956067926133928, 0.528087408648338, 1.212242298750666, 0.0, 0.22304819722609626, 0.8570446898152941, 0.49250100232213634, 1.1234391932561703, 3.605907631982404, 0.5097815362833785, 0.0, 0.5531720373058937, 4.030471119821452, 0.0, 0.4888363292415838, 0.5499873282907076, 0.6260821900165561, 0.7200585868982735, 0.0, 2.7612600276269306, 0.0, 4.071736970979295, 0.0, 0.25105157215725743], 34: [1.6050333462626127, 0.7487314937806451, 1.4357389940080887, 1.2950699014374907, 5.220966562331209, 0.4543315731930076, 0.8605064897400749, 0.5054830895462044, 1.3296159135015961, 0.0, 0.2980988836823043, 0.1956067926133928, 0.0, 0.0, 0.0, 0.0, 0.0, 0.24625050116106817, 0.22468783865123404, 0.09245917005083087, 0.5097815362833785, 0.0, 0.0, 0.8956602488492116, 0.0, 0.4888363292415838, 0.0, 0.10434703166942601, 1.0286551241403907, 0.9797963279005547, 2.7612600276269306, 0.3747306257776977, 1.6765975762855918, 1.313723591000032, 1.7573610051008022], 35: [1.1863289950636702, 0.0, 3.2816891291613453, 0.0, 5.01212789983796, 0.0, 3.4420259589602997, 0.0, 5.0968610017561184, 0.0, 2.6828899531407386, 0.1956067926133928, 5.808961495131718, 0.0, 7.491852704036386, 0.0, 3.4281787592611765, 0.0, 4.269068934373447, 1.6642650609149556, 0.0, 6.293909512616611, 0.0, 4.478301244246058, 0.0, 4.399526963174254, 0.0, 1.1478173483636862, 2.1087430044878013, 0.0, 4.536355759672815, 0.0, 7.185418184081108, 0.0, 6.025237731774179], 36: [12.770482711567745, 14.225898381832257, 11.691017522637292, 14.504782896099895, 10.02425579967592, 13.478503338059225, 10.541204499315917, 14.153526507293723, 12.631351178265163, 10.810211753191522, 12.818251998339084, 13.496868690324105, 10.033660764318423, 14.546907585007991, 10.749179966660902, 12.713747241887486, 9.598900525931294, 11.820024055731272, 11.459079771212936, 11.187559576150536, 12.234756870801085, 10.931527048228851, 11.201733755444346, 9.628347675129024, 9.208013925964101, 10.998817407935636, 10.724752901668799, 13.356420053686529, 11.572370146579397, 10.451160830939251, 9.269944378461838, 8.618804392887048, 11.257155155060403, 14.88886736466703, 10.042062886290298], 37: [45.70855833921788, 44.42473529765161, 57.01934861917837, 29.527593752774784, 59.72785747306902, 48.15914675845881, 56.793428322844946, 43.30305133779151, 58.50310019407023, 59.30602281264794, 61.70646892223699, 45.18516909369374, 55.713221612399664, 38.30685664052104, 48.859908939367735, 48.84755519251508, 42.68082555280165, 38.41507818112663, 50.105388019225195, 36.98366802033235, 45.62544749736238, 58.632735985954746, 41.902781825921444, 51.05263418440506, 44.092220530097336, 45.706196784088085, 46.061438744346766, 53.11263911973784, 45.87801853666143, 39.845050667955896, 56.605830566352076, 57.1464204310989, 51.01646910697586, 31.09145832033409, 54.22713958596761], 38: [0.4884884097320995, 0.49915432918709673, 0.41021114114516816, 0.0, 0.0, 0.15144385773100252, 0.0, 0.33698872636413624, 0.0, 0.0, 0.2980988836823043, 0.1956067926133928, 0.0, 0.24244845975013318, 0.0, 0.0, 0.17140893796305884, 0.24625050116106817, 0.0, 0.3698366802033235, 0.0, 0.0, 0.5531720373058937, 0.0, 0.0, 0.0, 0.2749936641453538, 0.10434703166942601, 0.36002929344913676, 0.0, 0.0, 0.0, 0.0, 0.0, 0.0], 39: [0.976976819464199, 1.996617316748387, 0.8204222822903363, 2.072111842299985, 1.25303197495949, 2.574545581427043, 1.0756331121750937, 4.3808534427337715, 1.5512185657518622, 5.555247706501199, 2.9809888368230433, 1.7604611335205353, 1.320218521620845, 2.909381517001598, 1.3029309050498064, 2.676578366713155, 0.5142268138891765, 2.462505011610682, 1.5728148705586384, 1.1095100406099705, 3.0586892177002714, 1.6562919770043714, 1.7978091212441545, 2.686980746547635, 2.8332350541428006, 1.7109271523455434, 4.949885954616369, 2.3999817283967984, 1.2858189051754885, 1.9595926558011094, 1.775095732045884, 3.37257563199928, 1.4370836368162216, 2.1895393183333867, 1.5063094329435447], 40: [3.3496348095915396, 1.4974629875612901, 6.5633782583226905, 1.2950699014374907, 5.8474825498109535, 0.9086631463860152, 6.453798673050562, 0.8424718159103406, 5.983271610757183, 2.1019856186761294, 6.856274324692999, 0.9780339630669641, 6.073005199455888, 1.6971392182509324, 4.885990893936774, 2.2304819722609626, 3.942405573150353, 1.231252505805341, 4.493756773024681, 2.5888567614232643, 2.039126145133514, 7.950201489620983, 3.042446205182415, 3.5826409953968463, 2.4790806723749506, 2.199763481587127, 1.374968320726769, 3.3391050134216322, 2.931667103800114, 0.3265987759668516, 3.7474243232079774, 1.1241918773330932, 4.071736970979295, 1.0947696591666933, 4.016825154516119], 41: [47.522943861079966, 46.42135261439999, 45.738542237686254, 30.04562171334978, 37.38212058629146, 40.73839772963968, 52.49089587414457, 39.76466971096808, 43.655722493302406, 30.32864964089844, 36.964261576605736, 19.951892846566068, 21.12349634593352, 22.06280983726212, 24.75568719594632, 20.07433775034866, 22.625979811123766, 19.453789591724387, 22.019408187820936, 21.17314994164027, 22.430387596468655, 23.850604468862947, 21.988588482909275, 18.58495016362114, 17.707719088392505, 24.1973982974584, 21.999493131628306, 23.895470252298555, 29.522402062829215, 27.760895957182385, 30.373860303896237, 37.28569726488092, 36.88514667828302, 30.653550456667414, 29.62408551455638], 42: [8.025166731313064, 10.981395242116129, 9.0246451051937, 5.957321546612457, 9.188901149702927, 10.14673846797717, 7.529431785225656, 7.582246343193066, 11.080132612513301, 7.657233325177328, 7.452472092057608, 4.694563022721428, 7.129180016752564, 6.3036599535034625, 5.537456346461677, 6.022301325104599, 7.541993270374588, 4.925010023221364, 6.291259482234554, 6.102305223354837, 5.607596899117164, 6.6251679080174855, 4.42537629844715, 7.837027177430602, 4.781084153865976, 8.310217597106925, 5.912363779125107, 5.530392678479578, 6.480527282084462, 5.552179191436477, 4.9308214779052335, 5.246228760887768, 7.424932123550478, 8.101295477833531, 6.025237731774179], 43: [1.1863289950636702, 1.2478858229677419, 2.256161276298425, 1.5540838817249887, 1.4618706374527384, 1.5144385773100253, 0.8605064897400749, 0.8424718159103406, 1.10801326125133, 0.7507091495271891, 0.5961977673646086, 0.5868203778401785, 0.528087408648338, 0.9697938390005327, 0.0, 1.1152409861304813, 1.3712715037044707, 0.9850020046442727, 1.1234391932561703, 1.0170508705591397, 0.25489076814168926, 0.33125839540087426, 1.3829300932647342, 1.7913204976984232, 0.5312315726517751, 0.2444181646207919, 2.612439809380861, 1.2521643800331121, 1.13152063655443, 0.9797963279005547, 0.9861642955810467, 0.0, 1.1975696973468513, 0.8758157273333547, 0.25105157215725743], 44: [2.0237376974615553, 3.7436574689032254, 0.6153167117177523, 3.3671817437374756, 0.4176773249864967, 1.8173262927720304, 0.6453798673050561, 2.0219323581848174, 0.443205304500532, 1.651560128959816, 0.0, 1.9560679261339282, 0.0, 2.1820361377511985, 0.9771981787873547, 1.5613373805826738, 0.17140893796305884, 2.462505011610682, 0.0, 1.3868875507624632, 0.7646723044250678, 0.0, 1.6595161119176811, 0.2239150622123029, 1.4166175270714003, 0.4888363292415838, 0.9624778245087383, 1.04347031669426, 0.7200585868982735, 1.3063951038674064, 0.19723285911620933, 0.9368265644442444, 0.0, 2.1895393183333867, 0.7531547164717723], 45: [0.0, 0.0, 0.20510557057258408, 0.2590139802874981, 0.0, 0.0, 0.0, 0.0, 0.443205304500532, 0.0, 0.0, 0.0, 0.0, 0.0, 0.0, 0.0, 0.0, 0.0, 0.0, 0.18491834010166175, 0.0, 0.0, 0.6914650466323671, 0.2239150622123029, 0.0, 0.0, 0.2749936641453538, 0.0, 0.2571637810350977, 0.0, 0.0, 0.0, 0.0, 0.0, 0.0], 46: [9.351063843443049, 8.984777925367741, 11.691017522637292, 8.029433388912441, 9.188901149702927, 8.632299890667145, 9.465571387140823, 7.919235069557201, 8.86410609001064, 8.85836796442083, 11.327757579927564, 8.606698874989284, 11.089835581615098, 11.152629148506128, 10.749179966660902, 10.483265269626523, 11.827216719451059, 8.865018041798454, 11.459079771212936, 8.41378447462561, 11.724975334517707, 13.912852606836719, 9.26563162487372, 9.404432612916722, 7.437242017124851, 11.976490066418803, 8.524803588505968, 10.956438325289731, 9.463627142091594, 5.8787779674033285, 10.256108674042885, 7.307247202665106, 9.34104363930544, 8.32024940966687, 8.535753453346754], 47: [3.0704985754589114, 1.4974629875612901, 1.8459501351532568, 4.403237664887468, 0.626515987479745, 2.8774332968890484, 0.8605064897400749, 8.256223795921338, 0.443205304500532, 2.8526947682033184, 1.1923955347292172, 7.6286649119223195, 0.528087408648338, 4.606520735252531, 0.0, 5.799253127878503, 0.3428178759261177, 6.64876353134884, 3.145629741117277, 4.900336012694036, 5.862487667258853, 0.33125839540087426, 5.946599401038357, 3.5826409953968463, 3.7186210085624256, 1.2220908231039596, 4.124904962180307, 2.2956346967273724, 3.7031584469054066, 6.8585742953038835, 3.3529586049755586, 4.684132822221222, 1.4370836368162216, 5.473848295833467, 1.7573610051008022], 48: [0.976976819464199, 3.4940803043096773, 0.6153167117177523, 4.14422368459997, 0.20883866249324834, 2.271657865965038, 0.6453798673050561, 2.527415447731022, 0.221602652250266, 2.402269278487005, 0.5961977673646086, 2.934101889200892, 0.528087408648338, 2.666933057251465, 0.9771981787873547, 3.345722958391444, 0.8570446898152941, 4.925010023221364, 0.8987513546049362, 1.3868875507624632, 4.078252290267028, 0.9937751862026228, 2.212688149223575, 0.4478301244246058, 2.1249262906071005, 0.2444181646207919, 1.512465152799446, 1.1478173483636862, 1.0286551241403907, 3.265987759668516, 0.7889314364648373, 2.997845006221582, 0.4790278789387405, 4.379078636666773, 0.7531547164717723], 49: [54.2919975387962, 55.655707704361284, 58.044876472041295, 40.924208885424704, 64.53114671041374, 49.52214147803783, 56.36317507797491, 48.86336532279976, 51.63341797431198, 58.55531366312075, 53.95589794649708, 54.18308155390981, 57.56152754266884, 51.39907346702824, 51.1400380232049, 54.64680832039358, 51.422681388917646, 52.20510624614645, 53.475705598993706, 46.04466668531377, 53.27217054161306, 48.69498412392852, 47.71108821763333, 47.69390825122052, 46.217146820704436, 43.26201513788017, 43.861489431183934, 50.81700442301047, 49.735475252187896, 45.07063108342552, 55.42243341165482, 62.58001450487552, 47.66327395440468, 48.82672679883453, 52.971881725181326], 50: [12.212210243302488, 11.230972406709677, 10.05017295805662, 12.43267105379991, 7.727030512250189, 13.327059480328224, 9.680698009575842, 14.995998323204063, 15.290583005268356, 13.212481031678529, 12.818251998339084, 13.301261897710711, 10.82579187729093, 12.12242298750666, 9.771981787873548, 8.25278329736556, 5.656494952780942, 12.558775559214476, 8.762825707398127, 8.691161984778102, 9.176067653100814, 9.606493466625354, 9.127338615547245, 7.613112115218298, 10.093399880383727, 8.554635761727717, 8.662300420578646, 12.104255673653418, 10.13225297278285, 13.390549814640915, 8.875478660229419, 11.42928408621978, 9.10152969983607, 13.575143773666998, 6.527340876088694], 51: [1.814385521862084, 2.4957716459354837, 2.0510557057258407, 2.5901398028749814, 4.176773249864967, 1.968770150503033, 2.5815194692202246, 1.347954905456545, 1.5512185657518622, 1.2011346392435025, 1.4904944184115216, 2.151674718747321, 2.112349634593352, 1.6971392182509324, 0.9771981787873547, 0.4460963944521925, 0.8570446898152941, 1.231252505805341, 2.6962540638148087, 2.12656091116911, 1.019563072566757, 0.6625167908017485, 1.3829300932647342, 2.015235559910726, 1.0624631453035502, 2.199763481587127, 1.2374714886540923, 1.1478173483636862, 1.2858189051754885, 2.286191431767961, 2.1695614502783025, 0.3747306257776977, 1.916111515754962, 1.0947696591666933, 2.0084125772580594], 52: [2.651794224259969, 0.0, 6.153167117177523, 0.2590139802874981, 5.8474825498109535, 0.4543315731930076, 9.680698009575842, 1.347954905456545, 9.52891404676144, 1.651560128959816, 9.837263161516042, 0.3912135852267856, 8.185354834049239, 0.9697938390005327, 9.120516335348645, 0.6691445916782888, 4.9708592009287065, 0.7387515034832045, 8.762825707398127, 3.605907631982404, 1.019563072566757, 9.937751862026229, 2.0743951398971014, 8.060942239642904, 2.1249262906071005, 8.554635761727717, 1.7874588169447998, 5.1130045518018745, 4.731813571045797, 1.3063951038674064, 6.705917209951117, 0.5620959386665466, 10.299099397182921, 0.656861795500016, 8.284701881189497], 53: [1.3258971121299845, 1.2478858229677419, 1.4357389940080887, 0.5180279605749962, 0.4176773249864967, 1.2115508618480202, 1.2907597346101123, 1.1794605422744768, 1.3296159135015961, 1.2011346392435025, 2.6828899531407386, 0.9780339630669641, 1.056174817296676, 1.6971392182509324, 1.3029309050498064, 0.6691445916782888, 0.5142268138891765, 0.7387515034832045, 1.5728148705586384, 0.739673360406647, 3.0586892177002714, 3.3125839540087427, 1.6595161119176811, 1.7913204976984232, 1.5936947179553254, 1.4665089877247515, 1.0999746565814152, 1.773899538380242, 1.2343861489684689, 0.9797963279005547, 0.7889314364648373, 0.5620959386665466, 0.7185418184081108, 1.0947696591666933, 1.0042062886290297], 54: [2.1633058145278694, 1.7470401521548387, 3.8970058408790975, 2.5901398028749814, 3.9679345873717184, 1.8173262927720304, 3.011772714090262, 1.516449268638613, 5.3184636540063845, 1.0509928093380647, 5.9619776736460866, 2.347281511360714, 2.904480747565859, 1.6971392182509324, 4.885990893936774, 1.1152409861304813, 2.056907255556706, 0.7387515034832045, 4.718444611675915, 2.958693441626588, 3.3135799858419603, 3.3125839540087427, 2.7658601865294683, 5.821791617519875, 2.8332350541428006, 3.4218543046910868, 2.1999493131628305, 2.5043287600662243, 2.9830998600071332, 1.3063951038674064, 2.7612600276269306, 0.7494612515553954, 1.6765975762855918, 1.5326775228333707, 3.263670438044347], 55: [0.5582724682652566, 0.0, 1.4357389940080887, 0.0, 2.0883866249324834, 0.0, 3.4420259589602997, 0.0, 2.437629174752926, 0.0, 3.2790877205053475, 0.0, 4.224699269186704, 0.24244845975013318, 3.5830599888869674, 0.0, 1.5426804416675295, 0.0, 2.4715662251635746, 0.9245917005083087, 0.0, 3.3125839540087427, 0.0, 1.5674054354861202, 0.0, 2.444181646207919, 0.0, 0.9391232850248341, 1.0286551241403907, 0.0, 1.3806300138134653, 0.0, 1.4370836368162216, 0.0, 3.263670438044347], 56: [2.093521755994712, 1.4974629875612901, 2.0510557057258407, 2.5901398028749814, 0.8353546499729934, 1.3629947195790229, 2.366392846785206, 2.0219323581848174, 0.443205304500532, 0.7507091495271891, 0.5961977673646086, 1.3692475482937496, 0.528087408648338, 1.212242298750666, 0.6514654525249032, 1.5613373805826738, 0.8570446898152941, 1.231252505805341, 1.3481270319074043, 1.8491834010166175, 1.5293446088501357, 0.9937751862026228, 1.2446370839382608, 1.5674054354861202, 1.0624631453035502, 0.9776726584831676, 1.374968320726769, 0.52173515834713, 1.0286551241403907, 1.632993879834258, 1.3806300138134653, 0.9368265644442444, 0.0, 1.9705853865000482, 0.5021031443145149], 57: [2.791362341326283, 4.9915432918709675, 0.41021114114516816, 1.813097862012487, 0.0, 4.846203447392081, 0.0, 5.897302711372384, 0.6648079567507981, 6.606240515839264, 1.1923955347292172, 3.5209222670410707, 0.264043704324169, 9.94038684975546, 0.3257327262624516, 6.914494114008984, 0.5142268138891765, 10.096270547603796, 0.6740635159537022, 2.311479251270772, 6.117378435400543, 1.325033581603497, 7.191236484976618, 0.2239150622123029, 4.604006962982051, 0.2444181646207919, 3.162427137671569, 3.6521461084299105, 3.4974274220773287, 0.0, 0.0, 0.5620959386665466, 0.0, 8.758157273333547, 0.0], 58: [1.884169580395241, 1.7470401521548387, 3.8970058408790975, 2.072111842299985, 4.5944505748514635, 0.9086631463860152, 3.6571525813953185, 1.6849436318206812, 2.6592318270031923, 1.3512764691489403, 3.875285487869956, 0.7824271704535712, 4.224699269186704, 0.9697938390005327, 3.5830599888869674, 1.3382891833565775, 2.3997251314828234, 1.231252505805341, 2.920941902466043, 2.12656091116911, 1.019563072566757, 4.968875931013114, 0.13829300932647343, 4.030471119821452, 0.8853859544196252, 3.9106906339326706, 0.5499873282907076, 1.6695525067108161, 1.800146467245684, 0.3265987759668516, 3.3529586049755586, 1.311557190221942, 4.790278789387405, 2.4084932501667256, 4.016825154516119], 59: [0.41870435119894245, 0.49915432918709673, 0.20510557057258408, 0.0, 0.0, 0.30288771546200505, 0.21512662243501873, 0.33698872636413624, 0.0, 0.9008509794326269, 0.0, 0.0, 0.528087408648338, 1.212242298750666, 0.6514654525249032, 0.22304819722609626, 0.17140893796305884, 1.231252505805341, 0.22468783865123404, 0.18491834010166175, 0.5097815362833785, 0.9937751862026228, 1.1063440746117874, 0.4478301244246058, 1.5936947179553254, 0.2444181646207919, 0.41249049621803074, 0.20869406333885201, 0.7714913431052931, 0.0, 0.0, 0.0, 0.0, 0.8758157273333547, 0.0], 60: [1.953953638928398, 0.49915432918709673, 5.1276392643146025, 0.0, 4.5944505748514635, 0.7572192886550126, 4.087405826265356, 0.8424718159103406, 5.0968610017561184, 1.0509928093380647, 5.9619776736460866, 0.0, 3.960655564862535, 0.7273453792503995, 4.560258167674323, 1.5613373805826738, 4.113814511113412, 0.0, 4.493756773024681, 1.9416425710674483, 0.7646723044250678, 6.293909512616611, 0.5531720373058937, 5.150046430882966, 0.3541543817678501, 5.866035950899006, 2.0624524810901534, 2.5043287600662243, 2.4173395417299184, 0.0, 5.128054337021442, 0.0, 5.748334547264887, 0.656861795500016, 4.267876726673377], 61: [1.4654652291962986, 2.9949259751225803, 2.8714779880161774, 1.2950699014374907, 1.0441933124662417, 0.9086631463860152, 1.2907597346101123, 2.1904267213668858, 0.886410609001064, 2.8526947682033184, 3.2790877205053475, 1.7604611335205353, 1.056174817296676, 1.9395876780010655, 1.628663631312258, 0.892192788904385, 2.3997251314828234, 2.70875551277175, 2.0221905478611064, 1.5718058908641248, 1.2744538407084463, 2.3188087678061198, 1.7978091212441545, 1.7913204976984232, 1.7707719088392504, 2.933017975449503, 1.2374714886540923, 2.08694063338852, 1.3886844175895274, 0.6531975519337032, 1.775095732045884, 2.4357490675550353, 2.155625455224332, 2.627447182000064, 2.761567293729832], 62: [0.2791362341326283, 1.7470401521548387, 0.41021114114516816, 1.813097862012487, 0.8353546499729934, 0.6057754309240101, 0.43025324487003747, 1.1794605422744768, 0.886410609001064, 2.1019856186761294, 0.5961977673646086, 0.7824271704535712, 1.584262225945014, 1.9395876780010655, 1.628663631312258, 2.0074337750348663, 0.6856357518522354, 2.462505011610682, 1.7975027092098723, 0.739673360406647, 2.5489076814168925, 0.9937751862026228, 1.2446370839382608, 0.8956602488492116, 4.604006962982051, 0.9776726584831676, 1.512465152799446, 1.8782465700496682, 1.3886844175895274, 0.3265987759668516, 0.39446571823241866, 0.7494612515553954, 0.958055757877481, 1.313723591000032, 1.2552578607862872], 63: [0.8374087023978849, 0.0, 0.0, 0.0, 0.0, 0.30288771546200505, 0.0, 0.0, 0.0, 0.1501418299054378, 0.5961977673646086, 0.0, 0.0, 0.24244845975013318, 0.0, 0.6691445916782888, 0.17140893796305884, 0.49250100232213634, 0.0, 0.0, 0.0, 0.0, 0.27658601865294685, 0.0, 0.0, 0.0, 0.5499873282907076, 0.10434703166942601, 0.20573102482807815, 0.0, 0.0, 1.1241918773330932, 0.0, 0.656861795500016, 0.0], 64: [48.84884097320995, 48.16839276655484, 44.71301438482333, 43.514348688299684, 44.482635111061896, 42.70716788014271, 45.82197057865899, 40.775635890060485, 40.77488801404895, 37.83574113617033, 38.15665711133495, 46.55441664198749, 35.381856379438645, 42.67092891602344, 31.596074447457802, 37.47209713398417, 37.19573953798377, 41.370084195059455, 37.29818121610485, 37.26104553048484, 35.42981677169481, 38.75723226190229, 36.78594048084193, 36.722070202817676, 32.582203122642206, 36.41830652849799, 36.02417000304135, 40.590995319406716, 40.837608428373514, 42.45784087569071, 40.827201837055334, 53.21174886043308, 36.88514667828302, 41.16333918466767, 38.159838967903134], 65: [3.4194188681246964, 4.4923889626838704, 4.51232255259685, 2.5901398028749814, 1.879547962439235, 2.7259894391580457, 3.011772714090262, 4.043864716369635, 1.9944238702523942, 3.0028365981087566, 4.471483255234564, 4.107742644881249, 1.848305930269183, 2.909381517001598, 4.23452544141187, 3.7918193528436364, 4.113814511113412, 3.6937575174160227, 4.044381095722213, 3.1436117817282496, 4.588033826550407, 3.643842349409617, 2.7658601865294683, 3.806556057609149, 4.604006962982051, 1.9553453169663353, 3.162427137671569, 3.8608401717687624, 3.188830884835211, 3.265987759668516, 2.366794309394512, 2.810479693332733, 3.1136812131018132, 3.9411707730000964, 5.523134587459664], 66: [1.1165449365305131, 2.7453488105290322, 0.20510557057258408, 2.331125822587483, 0.0, 0.9086631463860152, 0.0, 1.347954905456545, 0.221602652250266, 0.45042548971631347, 0.0, 0.5868203778401785, 0.528087408648338, 0.48489691950026637, 0.3257327262624516, 0.892192788904385, 0.5142268138891765, 1.477503006966409, 0.0, 0.2773775101524926, 0.5097815362833785, 0.0, 0.5531720373058937, 0.0, 0.5312315726517751, 0.0, 0.1374968320726769, 0.41738812667770403, 0.1542982686210586, 6.20537674337018, 0.39446571823241866, 3.1852103191104306, 0.23951393946937025, 1.9705853865000482, 0.0], 67: [0.6978405853315708, 0.0, 0.41021114114516816, 0.0, 0.20883866249324834, 1.8173262927720304, 0.0, 3.5383816268234307, 0.0, 2.402269278487005, 0.0, 0.0, 0.528087408648338, 0.9697938390005327, 0.0, 0.892192788904385, 0.0, 0.24625050116106817, 0.0, 0.2773775101524926, 0.7646723044250678, 0.0, 0.0, 0.0, 0.7083087635357002, 0.0, 1.9249556490174766, 0.9391232850248341, 0.8229240993123126, 0.0, 0.0, 0.0, 0.0, 0.0, 0.0], 68: [1.6050333462626127, 1.2478858229677419, 4.1021114114516815, 0.2590139802874981, 2.9237412749054768, 2.1202140082340355, 3.011772714090262, 0.5054830895462044, 3.9888477405047884, 0.9008509794326269, 6.26007655732839, 0.3912135852267856, 4.752786677835042, 1.212242298750666, 5.863189072724128, 0.4460963944521925, 1.1998625657414117, 0.9850020046442727, 2.4715662251635746, 1.5718058908641248, 0.5097815362833785, 4.306359140211366, 0.9680510652853139, 3.1348108709722404, 3.1873894359106507, 3.4218543046910868, 1.9249556490174766, 2.713022823405076, 2.1601757606948206, 0.9797963279005547, 2.1695614502783025, 1.498922503110791, 1.916111515754962, 2.846401113833403, 1.7573610051008022], 69: [0.2791362341326283, 0.49915432918709673, 0.20510557057258408, 0.7770419408624943, 0.0, 0.30288771546200505, 1.0756331121750937, 1.0109661790924087, 0.221602652250266, 0.45042548971631347, 0.0, 1.173640755680357, 0.264043704324169, 1.212242298750666, 0.0, 0.22304819722609626, 0.5142268138891765, 1.7237535081274773, 0.0, 0.5547550203049852, 1.2744538407084463, 0.33125839540087426, 0.4148790279794203, 0.0, 0.5312315726517751, 0.7332544938623757, 0.2749936641453538, 0.52173515834713, 0.3085965372421172, 0.6531975519337032, 0.591698577348628, 0.5620959386665466, 0.0, 0.43790786366667733, 0.5021031443145149], 70: [2.2330898730610262, 0.24957716459354837, 0.8204222822903363, 0.7770419408624943, 0.0, 0.6057754309240101, 0.21512662243501873, 0.8424718159103406, 0.221602652250266, 0.0, 0.0, 0.3912135852267856, 0.0, 0.24244845975013318, 0.0, 0.22304819722609626, 1.028453627778353, 0.0, 0.6740635159537022, 0.5547550203049852, 0.0, 0.0, 0.13829300932647343, 0.0, 0.17707719088392504, 1.4665089877247515, 0.2749936641453538, 0.0, 0.20573102482807815, 0.0, 0.19723285911620933, 0.3747306257776977, 0.0, 0.21895393183333867, 0.0], 71: [1.884169580395241, 4.9915432918709675, 0.20510557057258408, 6.734363487474951, 0.20883866249324834, 6.966417455626117, 0.8605064897400749, 3.5383816268234307, 0.221602652250266, 2.552411108392443, 0.0, 5.4769901931749985, 0.0, 6.78855687300373, 0.0, 4.014867550069733, 0.6856357518522354, 5.4175110255435, 0.22468783865123404, 3.4209892918807423, 4.333143058408718, 0.0, 3.1807392145088884, 0.4478301244246058, 3.3644666267945755, 0.2444181646207919, 3.299923969744246, 2.3999817283967984, 1.5944154424176056, 9.144765727071844, 0.7889314364648373, 5.246228760887768, 0.0, 5.473848295833467, 0.25105157215725743], 72: [2.5122261071936545, 1.2478858229677419, 5.742955976032355, 1.0360559211499925, 4.803289237344712, 0.7572192886550126, 4.302532448700375, 0.8424718159103406, 5.3184636540063845, 0.7507091495271891, 7.154373208375303, 1.173640755680357, 5.544917790807549, 1.212242298750666, 8.143318156561289, 2.8996265639392513, 4.628041325002588, 1.231252505805341, 5.392508127629617, 1.9416425710674483, 2.2940169132752035, 6.956426303418359, 0.4148790279794203, 6.94136692858139, 1.9478490997231754, 5.13278145703663, 0.8249809924360615, 3.0260639184133544, 2.7259360789720355, 0.9797963279005547, 4.339122900556605, 0.18736531288884886, 5.029792728856775, 0.0, 6.025237731774179], 73: [33.56613215444855, 31.69629990338064, 22.56161276298425, 19.685062501849856, 26.731348799135787, 30.743103119393513, 29.472347273597567, 37.57424298960119, 21.052251963775273, 33.481628068912634, 17.587834137255953, 30.123446062462495, 23.23584598052687, 25.69953673351412, 14.657972681810321, 22.52786791983572, 23.48302450093906, 27.0875551277175, 25.165037928938215, 19.13904820052199, 25.234186046027236, 16.562919770043713, 28.488359921253526, 21.271930910168777, 24.25957515109773, 17.84252601731781, 27.911856910753414, 23.373735093951428, 25.870676372130827, 23.841710645580164, 28.401531712734144, 41.4077341484356, 21.556254552243324, 19.92480779683382, 21.088332061209627], 74: [3.2100666925252255, 4.741966127277419, 0.0, 6.475349507187453, 0.0, 3.4832087278130586, 0.0, 4.549347805915839, 0.221602652250266, 3.6034039177305077, 0.0, 5.4769901931749985, 0.0, 4.848969195002664, 0.0, 4.237915747295829, 0.3428178759261177, 6.64876353134884, 0.22468783865123404, 2.219020081219941, 5.097815362833785, 0.0, 2.9041531958559417, 0.0, 3.7186210085624256, 0.0, 2.612439809380861, 2.713022823405076, 0.9772223679333712, 6.531975519337032, 0.591698577348628, 8.806169705775897, 0.7185418184081108, 7.225479750500177, 0.5021031443145149], 75: [4.4661797461220525, 2.2461944813419352, 6.358272687750107, 0.7770419408624943, 7.51819184975694, 3.634652585544061, 7.744558407660674, 4.549347805915839, 7.977695481009577, 7.807375155082767, 7.452472092057608, 1.3692475482937496, 8.713442242697578, 4.364072275502397, 8.143318156561289, 4.014867550069733, 6.170721766670118, 2.955006013932818, 6.515947320885787, 3.1436117817282496, 2.039126145133514, 10.269010257427102, 4.563669307773623, 6.4935368041567845, 2.3020034814910253, 6.110454115519798, 3.7124144659622766, 3.8608401717687624, 3.6517256906983873, 1.3063951038674064, 6.114218632602489, 0.9368265644442444, 7.424932123550478, 1.313723591000032, 8.033650309032238], 76: [49.68624967560784, 51.41289590627096, 46.35385894940401, 44.55040460944968, 44.064957786075404, 49.37069762030683, 46.25222382352903, 49.874331501892165, 48.30937819055799, 52.3994986369978, 53.657799062814775, 51.05337287209552, 45.41551714375707, 54.0660065242797, 52.44296892825471, 56.43119389820235, 35.481650158353176, 53.68260925311286, 48.30788531001532, 41.05187150256891, 54.29173361417981, 52.67008486873901, 46.46645113369507, 36.722070202817676, 43.38391176656163, 33.72970671766928, 43.723992599111256, 43.40836517448122, 43.56354450734555, 46.70362496325978, 40.03827040059049, 58.645342934209694, 38.32223031509924, 58.02279193583475, 45.18928298830634], 77: [0.7676246438647278, 0.24957716459354837, 1.6408445645806726, 0.0, 1.25303197495949, 0.0, 0.8605064897400749, 0.33698872636413624, 1.9944238702523942, 0.7507091495271891, 2.0866921857761302, 0.0, 1.848305930269183, 0.0, 3.257327262624516, 0.6691445916782888, 0.5142268138891765, 0.24625050116106817, 1.5728148705586384, 0.5547550203049852, 2.039126145133514, 1.9875503724052457, 0.27658601865294685, 1.7913204976984232, 4.604006962982051, 0.7332544938623757, 1.0999746565814152, 3.1304109500827804, 2.7259360789720355, 0.0, 1.183397154697256, 0.0, 1.4370836368162216, 0.21895393183333867, 1.0042062886290297], 78: [1.884169580395241, 1.996617316748387, 4.717428123169434, 1.0360559211499925, 5.8474825498109535, 0.4543315731930076, 3.226899336525281, 0.33698872636413624, 3.545642436004256, 0.1501418299054378, 6.558175441010695, 0.1956067926133928, 7.393223721076732, 0.24244845975013318, 16.61236903938503, 0.6691445916782888, 8.741855836116, 0.0, 12.80720680312034, 5.640009373100683, 2.803798449558582, 16.562919770043713, 1.5212231025912075, 10.300092861765933, 4.072775390330276, 10.754399243314843, 2.3374461452355075, 6.78255705851269, 5.914766963807247, 0.0, 10.256108674042885, 0.9368265644442444, 12.933752731345994, 1.5326775228333707, 12.80363018002013], 79: [4.9546681558541525, 10.981395242116129, 2.8714779880161774, 11.655629112937415, 1.0441933124662417, 7.420749028819125, 2.7966460916552434, 7.750740706375134, 3.1024371315037245, 4.80453855697401, 0.8942966510469129, 9.193519252829462, 1.056174817296676, 8.728144551004794, 0.6514654525249032, 7.3605905084611765, 1.885498317593647, 9.35751904412059, 2.6962540638148087, 4.160662652287389, 6.117378435400543, 2.3188087678061198, 3.3190322238353622, 0.8956602488492116, 4.426929772098126, 1.4665089877247515, 4.399898626325661, 4.382575330115892, 1.8515792234527033, 7.511771847237586, 0.7889314364648373, 7.1198818897762575, 0.23951393946937025, 6.787571886833499, 1.7573610051008022], 80: [1.1165449365305131, 5.989851950245161, 1.0255278528629204, 3.3671817437374756, 0.20883866249324834, 2.7259894391580457, 1.0756331121750937, 1.516449268638613, 0.6648079567507981, 2.252127448581567, 0.5961977673646086, 2.934101889200892, 0.528087408648338, 2.424484597501332, 0.9771981787873547, 2.453530169487059, 0.5142268138891765, 1.7237535081274773, 0.22468783865123404, 0.8321325304574778, 1.7842353769918249, 0.0, 1.1063440746117874, 0.0, 1.2395403361874753, 0.7332544938623757, 0.8249809924360615, 1.2521643800331121, 0.9772223679333712, 0.9797963279005547, 0.19723285911620933, 2.2483837546661865, 0.0, 2.1895393183333867, 0.5021031443145149], 81: [3.4892029266578537, 6.988160608619355, 5.53785040545977, 6.216335526899955, 5.220966562331209, 3.4832087278130586, 5.163038938440449, 4.717842169097907, 4.210450392755054, 3.6034039177305077, 4.769582138916869, 5.085776607948214, 6.073005199455888, 5.33386611450293, 6.514654525249032, 4.460963944521925, 4.628041325002588, 5.663761526704568, 6.515947320885787, 4.345580992389051, 6.88205073982561, 8.612718280422731, 2.350981158550048, 5.821791617519875, 2.4790806723749506, 5.866035950899006, 2.8874334735262153, 4.486922361785318, 3.240263641042231, 2.9393889837016642, 4.536355759672815, 11.42928408621978, 4.790278789387405, 4.160124704833435, 5.774186159616922], 82: [4.047475394923111, 7.986469266993548, 6.973589399467859, 8.029433388912441, 5.638643887317706, 3.937540301006066, 6.023545428180524, 5.7288083481903165, 4.875258349505852, 5.254964046690324, 6.856274324692999, 8.606698874989284, 7.129180016752564, 9.213041470505061, 7.491852704036386, 9.144976086269946, 2.3997251314828234, 7.141264533670977, 5.6171959662808515, 6.194764393405668, 9.685849189384193, 8.612718280422731, 6.08489241036483, 6.269621741944481, 8.145550780660551, 6.110454115519798, 8.387306756433292, 10.017315040264897, 5.863334207600228, 17.962932678176838, 5.128054337021442, 11.241918773330932, 5.748334547264887, 13.35618984183366, 6.778392448245952], 83: [0.7676246438647278, 1.2478858229677419, 1.4357389940080887, 0.0, 1.6707092999459867, 0.4543315731930076, 1.2907597346101123, 0.16849436318206812, 0.886410609001064, 0.6005673196217512, 2.0866921857761302, 0.0, 1.320218521620845, 0.0, 0.6514654525249032, 0.0, 0.6856357518522354, 0.24625050116106817, 0.8987513546049362, 0.2773775101524926, 0.0, 0.9937751862026228, 0.13829300932647343, 0.4478301244246058, 0.0, 0.9776726584831676, 0.2749936641453538, 0.8347762533554081, 0.46289480586317583, 0.0, 0.591698577348628, 0.18736531288884886, 0.958055757877481, 0.656861795500016, 1.0042062886290297], 84: [3.0704985754589114, 0.49915432918709673, 6.358272687750107, 1.813097862012487, 4.385611912358216, 0.9086631463860152, 3.872279203830337, 0.8424718159103406, 5.761668958506917, 1.0509928093380647, 1.4904944184115216, 1.173640755680357, 1.584262225945014, 1.212242298750666, 1.3029309050498064, 0.6691445916782888, 4.113814511113412, 1.231252505805341, 6.06657164358332, 2.12656091116911, 0.25489076814168926, 2.650067163206994, 0.8297580559588406, 4.030471119821452, 0.7083087635357002, 4.643945127795046, 1.374968320726769, 2.08694063338852, 1.903011979659723, 0.0, 1.9723285911620934, 0.5620959386665466, 0.958055757877481, 2.1895393183333867, 2.761567293729832], 85: [1.5352492877294557, 0.0, 3.4867946997339296, 0.0, 2.0883866249324834, 0.7572192886550126, 2.7966460916552434, 0.0, 2.21602652250266, 0.45042548971631347, 2.3847910694584344, 0.1956067926133928, 2.64043704324169, 0.24244845975013318, 1.3029309050498064, 0.22304819722609626, 1.028453627778353, 0.24625050116106817, 1.7975027092098723, 0.5547550203049852, 0.5097815362833785, 2.650067163206994, 0.8297580559588406, 0.8956602488492116, 0.7083087635357002, 0.7332544938623757, 0.6874841603633846, 0.7304292216859821, 0.5143275620701954, 0.0, 0.19723285911620933, 0.0, 1.4370836368162216, 0.656861795500016, 2.761567293729832], 86: [1.1165449365305131, 0.0, 2.461266846871009, 0.5180279605749962, 2.0883866249324834, 0.0, 1.9361396019151684, 0.0, 2.6592318270031923, 0.0, 2.3847910694584344, 0.0, 2.376393338917521, 0.0, 2.931594536362064, 0.0, 1.1998625657414117, 0.0, 2.0221905478611064, 0.9245917005083087, 0.0, 3.9751007448104914, 0.0, 0.6717451866369087, 0.0, 1.7109271523455434, 0.0, 0.9391232850248341, 0.46289480586317583, 0.0, 1.3806300138134653, 0.0, 0.4790278789387405, 0.0, 1.0042062886290297], 87: [2.791362341326283, 0.9983086583741935, 2.256161276298425, 1.0360559211499925, 3.132579937398725, 1.5144385773100253, 1.9361396019151684, 0.6739774527282725, 1.3296159135015961, 0.7507091495271891, 0.0, 2.151674718747321, 0.0, 1.9395876780010655, 0.0, 0.4460963944521925, 2.7425430074089414, 0.9850020046442727, 2.6962540638148087, 2.219020081219941, 1.019563072566757, 0.0, 0.4148790279794203, 2.463065684335332, 0.7083087635357002, 1.2220908231039596, 1.512465152799446, 1.5652054750413902, 1.440117173796547, 1.632993879834258, 3.7474243232079774, 1.311557190221942, 2.3951393946937025, 1.0947696591666933, 1.5063094329435447], 88: [24.84312483780392, 24.957716459354838, 27.48414645672627, 24.088300166737326, 25.0606394991898, 23.7766856637674, 27.966460916552435, 20.050829218666106, 26.592318270031924, 20.71957252695042, 25.04030622931356, 22.103567565313387, 23.49988968485104, 21.577912917761854, 24.429954469683867, 20.74348234202695, 20.74048149353012, 19.453789591724387, 26.063789283543148, 20.618394921335284, 18.861916842485005, 23.850604468862947, 19.08443528705333, 19.928440536894957, 17.707719088392505, 21.997634815871272, 19.11205965810209, 20.13897711219922, 23.45333683040091, 17.309735126243133, 22.287313080131653, 21.73437629510647, 21.795768491712693, 23.2091167743339, 26.109363504354775], 89: [1.814385521862084, 1.996617316748387, 2.461266846871009, 1.2950699014374907, 2.7149026124122284, 1.665882435041028, 1.9361396019151684, 0.8424718159103406, 0.886410609001064, 0.7507091495271891, 0.5961977673646086, 0.7824271704535712, 0.264043704324169, 0.48489691950026637, 0.6514654525249032, 0.892192788904385, 2.913951945372, 0.49250100232213634, 2.920941902466043, 1.9416425710674483, 0.7646723044250678, 0.0, 0.4148790279794203, 2.239150622123029, 0.5312315726517751, 2.444181646207919, 0.41249049621803074, 0.41738812667770403, 1.440117173796547, 1.3063951038674064, 4.339122900556605, 1.311557190221942, 4.790278789387405, 1.0947696591666933, 2.259464149415317], 90: [0.4884884097320995, 0.49915432918709673, 0.41021114114516816, 1.0360559211499925, 0.20883866249324834, 0.6057754309240101, 0.8605064897400749, 0.33698872636413624, 0.6648079567507981, 0.1501418299054378, 0.2980988836823043, 1.3692475482937496, 0.0, 1.212242298750666, 0.3257327262624516, 0.892192788904385, 0.8570446898152941, 1.7237535081274773, 0.0, 0.5547550203049852, 0.25489076814168926, 0.0, 1.2446370839382608, 0.0, 0.8853859544196252, 0.2444181646207919, 0.9624778245087383, 0.41738812667770403, 0.3085965372421172, 0.3265987759668516, 0.39446571823241866, 0.7494612515553954, 0.4790278789387405, 1.313723591000032, 0.25105157215725743], 91: [1.7446014633289268, 6.489006279432258, 0.20510557057258408, 7.252391448049948, 0.0, 3.634652585544061, 0.21512662243501873, 5.2233252586441115, 0.0, 4.504254897163134, 0.0, 5.4769901931749985, 0.0, 6.3036599535034625, 0.0, 6.245349522330695, 0.17140893796305884, 7.880016037154181, 0.0, 2.4039384213216026, 5.862487667258853, 0.6625167908017485, 3.042446205182415, 0.0, 3.895698199446351, 0.0, 3.162427137671569, 2.08694063338852, 1.337251661382508, 1.3063951038674064, 0.0, 1.1241918773330932, 0.23951393946937025, 5.473848295833467, 0.0], 92: [5.094236272920466, 5.989851950245161, 1.0255278528629204, 7.770419408624943, 0.8353546499729934, 7.269305171088122, 2.366392846785206, 5.39181962182618, 1.9944238702523942, 3.7535457476359455, 0.2980988836823043, 8.411092082375891, 0.0, 6.06121149375333, 0.0, 4.237915747295829, 3.770996635187294, 7.633765535993113, 3.145629741117277, 3.8832851421348966, 4.588033826550407, 0.9937751862026228, 3.7339112518147823, 1.3434903732738175, 4.072775390330276, 1.9553453169663353, 3.5749176338895996, 2.713022823405076, 2.931667103800114, 8.491568175138141, 2.366794309394512, 4.871498135110071, 0.0, 4.379078636666773, 2.259464149415317], 93: [1.3258971121299845, 0.49915432918709673, 2.8714779880161774, 0.5180279605749962, 3.132579937398725, 0.7572192886550126, 2.366392846785206, 0.5054830895462044, 0.886410609001064, 0.9008509794326269, 2.3847910694584344, 1.5648543409071425, 4.224699269186704, 0.48489691950026637, 3.257327262624516, 1.3382891833565775, 2.3997251314828234, 0.24625050116106817, 3.145629741117277, 1.0170508705591397, 0.5097815362833785, 3.9751007448104914, 0.6914650466323671, 4.030471119821452, 0.17707719088392504, 2.933017975449503, 0.1374968320726769, 1.356511411702538, 1.903011979659723, 2.286191431767961, 1.9723285911620934, 3.9346715706658264, 3.1136812131018132, 1.7516314546667093, 1.7573610051008022], 94: [18.074071160087684, 15.4737842048, 17.433973498669648, 15.799852797537385, 21.092704911818082, 15.901605061755266, 19.146269396716665, 18.702874313209563, 16.841801571020216, 19.068012397990604, 13.414449765703694, 23.277208320993743, 20.331365232961012, 16.971392182509323, 14.657972681810321, 19.851289553122566, 17.483711672232, 18.71503808824118, 15.952836544237618, 14.978385548234602, 16.058118392926424, 13.250335816034971, 16.871747137829757, 12.315328421676659, 17.353564706624653, 14.176253548005931, 17.049607177011936, 17.00856616211644, 14.915499300035666, 16.983136350276283, 18.737121616039886, 29.228988810660425, 15.328892126039696, 11.823512319000288, 15.81624904590722], 95: [2.093521755994712, 3.244503139716129, 0.20510557057258408, 0.2590139802874981, 0.0, 5.603422736047094, 0.0, 4.212359079551703, 0.0, 7.206807835461015, 1.1923955347292172, 0.7824271704535712, 0.0, 3.636726896251998, 0.0, 4.907060338974118, 0.3428178759261177, 3.6937575174160227, 0.0, 1.1095100406099705, 3.5684707539836498, 0.0, 4.978548335753043, 0.0, 2.6561578632588754, 0.2444181646207919, 2.612439809380861, 1.773899538380242, 1.6972809548316448, 0.0, 0.0, 4.684132822221222, 0.23951393946937025, 3.0653550456667413, 0.0], 96: [34.96181332511169, 29.450105422038707, 31.58625786817795, 35.74392927967474, 30.07276739902776, 32.86331712762755, 32.484119987687826, 34.54134445232396, 27.92193418353352, 30.779075130614753, 31.89658055400656, 37.75211097438481, 27.988632658361915, 35.15502666376931, 30.9446089949329, 38.36428992288855, 28.625292639830825, 39.646330686931975, 35.05130282959251, 29.49447524621505, 32.11623678585285, 34.11961472629005, 31.392513117109466, 27.09372252768865, 30.103122450267257, 28.10808893139107, 29.011831567334827, 29.843251057455838, 30.08816238110643, 26.78109962928183, 30.373860303896237, 29.97845006221582, 26.346533341630728, 32.405181911334125, 27.61567293729832], 97: [0.2791362341326283, 0.0, 0.20510557057258408, 0.2590139802874981, 0.0, 0.0, 0.43025324487003747, 0.0, 0.221602652250266, 0.3002836598108756, 0.2980988836823043, 0.5868203778401785, 0.0, 0.0, 0.0, 0.0, 0.3428178759261177, 0.0, 0.0, 0.0, 0.25489076814168926, 0.0, 0.0, 0.2239150622123029, 0.0, 0.2444181646207919, 0.1374968320726769, 0.10434703166942601, 0.10286551241403907, 0.0, 0.0, 0.0, 0.0, 0.0, 0.25105157215725743], 98: [4.047475394923111, 0.49915432918709673, 7.383800540613027, 1.5540838817249887, 6.682837199783947, 0.0, 7.314305162790637, 0.0, 8.420900785510108, 0.3002836598108756, 9.539164277833738, 1.173640755680357, 11.617922990263436, 0.0, 8.143318156561289, 0.4460963944521925, 6.856357518522353, 0.0, 8.088762191444426, 2.7737751015249263, 0.5097815362833785, 11.925302234431474, 0.0, 6.4935368041567845, 0.0, 6.110454115519798, 0.1374968320726769, 2.9217168867439285, 3.908889471733485, 0.0, 7.100382928183536, 0.0, 9.34104363930544, 0.0, 9.288908169818527], 99: [28.1229755888623, 26.704756611509676, 30.15051887416986, 24.088300166737326, 27.566703449108783, 27.259894391580456, 30.763107008207676, 19.88233485548404, 29.02994744478485, 16.215317629787286, 28.31939394981891, 20.14749963917946, 23.23584598052687, 20.123222159261054, 30.9446089949329, 19.182144961444276, 18.683574237973414, 19.453789591724387, 22.468783865123406, 18.95412986042033, 19.626589146910074, 27.825705213673437, 16.18028209119739, 22.615421283442593, 17.530641897508577, 22.97530747435444, 16.774613512866583, 21.70418258724061, 24.070529904885145, 12.41075348674036, 20.51221734808577, 19.298627227551435, 22.514310310120806, 21.238531387833852, 24.352002499253974], 100: [0.06978405853315707, 1.4974629875612901, 0.20510557057258408, 0.0, 0.0, 0.6057754309240101, 0.0, 0.0, 0.0, 0.1501418299054378, 0.0, 0.3912135852267856, 0.0, 0.48489691950026637, 0.0, 0.22304819722609626, 0.0, 0.0, 0.0, 0.5547550203049852, 0.7646723044250678, 0.0, 1.7978091212441545, 0.2239150622123029, 0.17707719088392504, 0.0, 0.5499873282907076, 0.0, 0.3085965372421172, 0.0, 0.0, 0.0, 0.0, 1.9705853865000482, 0.0], 101: [1.6748174047957698, 0.7487314937806451, 0.6153167117177523, 0.0, 0.0, 1.3629947195790229, 0.43025324487003747, 1.347954905456545, 0.443205304500532, 2.252127448581567, 1.1923955347292172, 0.0, 1.056174817296676, 0.24244845975013318, 0.6514654525249032, 1.5613373805826738, 0.3428178759261177, 0.49250100232213634, 0.22468783865123404, 0.2773775101524926, 2.2940169132752035, 0.9937751862026228, 1.3829300932647342, 0.2239150622123029, 1.0624631453035502, 0.0, 1.0999746565814152, 0.6260821900165561, 1.1829533927614493, 0.0, 1.775095732045884, 0.0, 0.23951393946937025, 0.656861795500016, 0.25105157215725743], 102: [3.140282633992068, 0.49915432918709673, 8.819539534621116, 0.0, 6.891675862277196, 1.0601070041170177, 8.174811652530712, 0.8424718159103406, 9.085708742260907, 1.9518437887706916, 9.539164277833738, 0.1956067926133928, 8.185354834049239, 0.7273453792503995, 8.46905088282374, 1.5613373805826738, 4.2852234490764705, 1.231252505805341, 6.740635159537021, 2.958693441626588, 3.0586892177002714, 12.919077420634096, 4.840255326426569, 11.867498297252054, 5.135238535633826, 12.465326395660387, 4.399898626325661, 10.121662071934322, 9.155030604849477, 0.0, 10.650574392275304, 0.0, 11.736183033999142, 0.656861795500016, 11.7994238913911], 103: [0.41870435119894245, 0.24957716459354837, 0.20510557057258408, 0.0, 0.0, 0.4543315731930076, 0.21512662243501873, 0.16849436318206812, 0.221602652250266, 0.1501418299054378, 0.0, 0.1956067926133928, 0.0, 0.24244845975013318, 0.0, 0.0, 0.6856357518522354, 0.0, 0.8987513546049362, 0.4622958502541544, 0.0, 0.0, 0.0, 0.0, 0.0, 0.0, 0.0, 0.0, 0.10286551241403907, 0.0, 0.0, 0.0, 0.23951393946937025, 0.43790786366667733, 0.25105157215725743], 104: [3.2798507510583823, 7.237737773212903, 4.51232255259685, 4.662251645174966, 5.638643887317706, 2.574545581427043, 3.011772714090262, 3.2013929004592945, 5.983271610757183, 2.7025529382978806, 1.4904944184115216, 8.802305667602676, 4.224699269186704, 5.33386611450293, 0.6514654525249032, 4.237915747295829, 9.084673712042118, 5.171260524382432, 6.740635159537021, 4.807876842643205, 4.078252290267028, 1.325033581603497, 3.3190322238353622, 3.1348108709722404, 2.3020034814910253, 5.13278145703663, 3.4374208018169226, 3.3391050134216322, 3.4974274220773287, 6.531975519337032, 2.564027168510721, 7.307247202665106, 2.634653334163073, 7.225479750500177, 5.272083015302407]}, 'short_mean_replays_all_frs': {2: [7.023106799061125, 9.67085561071947, 5.719926202242021, 3.7485145075916773, 0.0, 0.0, 0.0, 17.235492415407293, 0.0, 0.0, 0.0, 0.0, 0.0, 2.716070087494836], 3: [0.0, 9.67085561071947, 0.0, 0.0, 0.0, 0.0, 30.23882950915011, 0.0, 0.0, 6.2110475135253225, 0.0, 0.0, 4.427652341016609, 0.0], 4: [7.023106799061125, 0.0, 0.0, 3.7485145075916773, 11.102353343820221, 6.566895302601564, 0.0, 17.235492415407293, 10.572296206103479, 12.422095027050645, 0.0, 5.4028381733865105, 6.641478511524913, 2.716070087494836], 5: [7.023106799061125, 9.67085561071947, 5.719926202242021, 0.0, 0.0, 0.0, 0.0, 0.0, 0.0, 0.0, 0.0, 0.0, 0.0, 10.864280349979344], 6: [0.0, 0.0, 0.0, 0.0, 0.0, 0.0, 0.0, 0.0, 0.0, 6.2110475135253225, 0.0, 0.0, 0.0, 0.0], 7: [91.30038838779463, 77.36684488575575, 125.83837644932447, 78.71880465942522, 61.06294339101122, 105.07032484162502, 120.95531803660045, 74.68713380009828, 105.72296206103479, 130.43199778403178, 99.38560958861521, 94.54966803426395, 73.05626362677405, 70.61782227486573], 8: [0.0, 0.0, 0.0, 0.0, 0.0, 0.0, 0.0, 0.0, 0.0, 0.0, 0.0, 0.0, 0.0, 0.0], 9: [0.0, 9.67085561071947, 0.0, 3.7485145075916773, 0.0, 0.0, 30.23882950915011, 11.490328276938197, 0.0, 0.0, 0.0, 0.0, 4.427652341016609, 0.0], 10: [7.023106799061125, 0.0, 17.159778606726064, 3.7485145075916773, 0.0, 0.0, 0.0, 0.0, 0.0, 6.2110475135253225, 0.0, 0.0, 2.2138261705083044, 2.716070087494836], 11: [0.0, 0.0, 5.719926202242021, 7.4970290151833545, 5.5511766719101105, 0.0, 0.0, 0.0, 0.0, 6.2110475135253225, 0.0, 0.0, 0.0, 0.0], 12: [0.0, 0.0, 0.0, 0.0, 0.0, 0.0, 0.0, 0.0, 0.0, 0.0, 19.87712191772304, 0.0, 0.0, 0.0], 13: [0.0, 0.0, 0.0, 0.0, 0.0, 13.133790605203128, 0.0, 0.0, 0.0, 0.0, 0.0, 0.0, 0.0, 0.0], 14: [7.023106799061125, 0.0, 22.879704808968086, 3.7485145075916773, 5.5511766719101105, 0.0, 0.0, 0.0, 0.0, 31.055237567626612, 0.0, 0.0, 8.855304682033218, 0.0], 15: [0.0, 0.0, 0.0, 14.994058030366709, 16.653530015730333, 0.0, 0.0, 0.0, 0.0, 6.2110475135253225, 19.87712191772304, 0.0, 0.0, 0.0], 16: [0.0, 0.0, 0.0, 0.0, 0.0, 0.0, 0.0, 0.0, 0.0, 0.0, 0.0, 24.3127717802393, 2.2138261705083044, 0.0], 17: [7.023106799061125, 0.0, 5.719926202242021, 7.4970290151833545, 16.653530015730333, 0.0, 0.0, 0.0, 0.0, 0.0, 6.625707305907681, 0.0, 0.0, 5.432140174989672], 18: [0.0, 9.67085561071947, 0.0, 0.0, 0.0, 0.0, 0.0, 0.0, 0.0, 0.0, 0.0, 0.0, 0.0, 0.0], 19: [0.0, 0.0, 0.0, 0.0, 0.0, 0.0, 0.0, 0.0, 0.0, 0.0, 6.625707305907681, 10.805676346773021, 2.2138261705083044, 2.716070087494836], 20: [0.0, 0.0, 5.719926202242021, 0.0, 0.0, 0.0, 0.0, 0.0, 0.0, 0.0, 0.0, 0.0, 0.0, 10.864280349979344], 21: [56.184854392489, 38.68342244287788, 51.47933582017819, 44.98217409110013, 55.511766719101104, 45.968267118210946, 105.8359032820254, 74.68713380009828, 63.43377723662088, 43.47733259467726, 72.88278036498448, 40.521286300398835, 70.84243745626574, 43.457121399917376], 22: [70.23106799061125, 67.69598927503628, 97.23874543811436, 63.724746629058515, 33.307060031460665, 72.23584832861721, 120.95531803660045, 86.17746207703648, 84.57836964882783, 136.64304529755708, 86.13419497679985, 83.74399168749092, 84.12539447931557, 119.50708384977278], 23: [0.0, 9.67085561071947, 0.0, 0.0, 0.0, 0.0, 0.0, 0.0, 0.0, 0.0, 0.0, 0.0, 0.0, 0.0], 24: [7.023106799061125, 0.0, 11.439852404484043, 18.742572537958385, 22.204706687640442, 13.133790605203128, 0.0, 0.0, 21.144592412206958, 0.0, 33.1285365295384, 0.0, 6.641478511524913, 8.148210262484508], 25: [0.0, 0.0, 0.0, 3.7485145075916773, 11.102353343820221, 0.0, 0.0, 0.0, 0.0, 0.0, 6.625707305907681, 0.0, 0.0, 0.0], 26: [14.04621359812225, 29.012566832158406, 0.0, 3.7485145075916773, 0.0, 6.566895302601564, 0.0, 28.72582069234549, 10.572296206103479, 0.0, 0.0, 0.0, 0.0, 2.716070087494836], 27: [0.0, 0.0, 0.0, 3.7485145075916773, 11.102353343820221, 0.0, 0.0, 0.0, 0.0, 6.2110475135253225, 0.0, 0.0, 0.0, 5.432140174989672], 28: [0.0, 0.0, 0.0, 0.0, 0.0, 0.0, 0.0, 0.0, 0.0, 0.0, 0.0, 0.0, 0.0, 0.0], 29: [7.023106799061125, 9.67085561071947, 5.719926202242021, 3.7485145075916773, 0.0, 0.0, 0.0, 0.0, 0.0, 0.0, 0.0, 0.0, 0.0, 10.864280349979344], 30: [0.0, 0.0, 0.0, 0.0, 0.0, 0.0, 0.0, 0.0, 0.0, 0.0, 0.0, 0.0, 0.0, 0.0], 31: [0.0, 9.67085561071947, 0.0, 7.4970290151833545, 0.0, 6.566895302601564, 15.119414754575056, 22.980656553876393, 0.0, 0.0, 0.0, 8.104257260079766, 2.2138261705083044, 0.0], 32: [0.0, 0.0, 0.0, 0.0, 0.0, 0.0, 0.0, 0.0, 0.0, 0.0, 0.0, 0.0, 0.0, 0.0], 33: [0.0, 0.0, 0.0, 0.0, 0.0, 0.0, 0.0, 0.0, 0.0, 0.0, 0.0, 0.0, 0.0, 0.0], 34: [0.0, 0.0, 0.0, 0.0, 0.0, 0.0, 0.0, 0.0, 0.0, 0.0, 0.0, 0.0, 0.0, 0.0], 35: [0.0, 0.0, 0.0, 0.0, 0.0, 0.0, 15.119414754575056, 5.745164138469098, 0.0, 0.0, 0.0, 0.0, 0.0, 0.0], 36: [42.13864079436675, 38.68342244287788, 45.75940961793617, 37.48514507591677, 38.85823670337078, 45.968267118210946, 45.35824426372517, 22.980656553876393, 42.289184824413915, 31.055237567626612, 39.75424383544608, 35.11844812701232, 39.84887106914948, 43.457121399917376], 37: [49.161747593427876, 19.34171122143894, 40.03948341569415, 18.742572537958385, 38.85823670337078, 0.0, 0.0, 0.0, 10.572296206103479, 0.0, 0.0, 2.7014190866932553, 4.427652341016609, 5.432140174989672], 38: [7.023106799061125, 0.0, 0.0, 0.0, 0.0, 0.0, 0.0, 0.0, 0.0, 0.0, 0.0, 0.0, 0.0, 2.716070087494836], 39: [7.023106799061125, 0.0, 0.0, 0.0, 5.5511766719101105, 6.566895302601564, 0.0, 11.490328276938197, 10.572296206103479, 0.0, 0.0, 2.7014190866932553, 0.0, 2.716070087494836], 40: [42.13864079436675, 58.02513366431681, 11.439852404484043, 11.245543522775032, 0.0, 32.83447651300782, 30.23882950915011, 22.980656553876393, 63.43377723662088, 6.2110475135253225, 6.625707305907681, 0.0, 0.0, 2.716070087494836], 41: [91.30038838779463, 145.06283416079205, 125.83837644932447, 78.71880465942522, 61.06294339101122, 98.50342953902346, 90.71648852745034, 63.19680552316008, 74.00607344272436, 99.37676021640516, 46.379951141353764, 89.14682986087743, 73.05626362677405, 70.61782227486573], 42: [21.069320397183375, 29.012566832158406, 0.0, 11.245543522775032, 11.102353343820221, 0.0, 0.0, 22.980656553876393, 21.144592412206958, 6.2110475135253225, 6.625707305907681, 2.7014190866932553, 0.0, 10.864280349979344], 43: [0.0, 0.0, 5.719926202242021, 3.7485145075916773, 5.5511766719101105, 19.70068590780469, 0.0, 5.745164138469098, 0.0, 6.2110475135253225, 6.625707305907681, 8.104257260079766, 22.138261705083046, 5.432140174989672], 44: [0.0, 0.0, 0.0, 18.742572537958385, 5.5511766719101105, 13.133790605203128, 30.23882950915011, 0.0, 0.0, 0.0, 26.502829223630723, 0.0, 0.0, 0.0], 45: [0.0, 0.0, 5.719926202242021, 0.0, 0.0, 0.0, 0.0, 0.0, 0.0, 0.0, 0.0, 5.4028381733865105, 0.0, 2.716070087494836], 46: [21.069320397183375, 0.0, 5.719926202242021, 0.0, 5.5511766719101105, 13.133790605203128, 0.0, 0.0, 10.572296206103479, 0.0, 0.0, 5.4028381733865105, 0.0, 5.432140174989672], 47: [0.0, 9.67085561071947, 0.0, 0.0, 0.0, 0.0, 0.0, 5.745164138469098, 0.0, 0.0, 6.625707305907681, 0.0, 2.2138261705083044, 0.0], 48: [0.0, 0.0, 0.0, 7.4970290151833545, 11.102353343820221, 0.0, 0.0, 0.0, 0.0, 6.2110475135253225, 26.502829223630723, 0.0, 0.0, 0.0], 49: [42.13864079436675, 19.34171122143894, 22.879704808968086, 26.23960155314174, 72.16529673483144, 26.267581210406256, 0.0, 17.235492415407293, 0.0, 6.2110475135253225, 6.625707305907681, 8.104257260079766, 2.2138261705083044, 38.0249812249277], 50: [7.023106799061125, 0.0, 0.0, 7.4970290151833545, 5.5511766719101105, 0.0, 0.0, 0.0, 0.0, 6.2110475135253225, 0.0, 8.104257260079766, 4.427652341016609, 0.0], 51: [0.0, 0.0, 0.0, 7.4970290151833545, 16.653530015730333, 6.566895302601564, 45.35824426372517, 0.0, 0.0, 31.055237567626612, 6.625707305907681, 2.7014190866932553, 4.427652341016609, 2.716070087494836], 52: [14.04621359812225, 29.012566832158406, 0.0, 7.4970290151833545, 5.5511766719101105, 13.133790605203128, 0.0, 17.235492415407293, 42.289184824413915, 6.2110475135253225, 0.0, 0.0, 0.0, 5.432140174989672], 53: [14.04621359812225, 29.012566832158406, 11.439852404484043, 11.245543522775032, 0.0, 13.133790605203128, 0.0, 5.745164138469098, 42.289184824413915, 6.2110475135253225, 0.0, 0.0, 17.710609364066435, 21.728560699958688], 54: [14.04621359812225, 29.012566832158406, 5.719926202242021, 3.7485145075916773, 5.5511766719101105, 0.0, 0.0, 11.490328276938197, 0.0, 0.0, 0.0, 8.104257260079766, 4.427652341016609, 16.296420524969015], 55: [0.0, 0.0, 0.0, 0.0, 0.0, 0.0, 0.0, 0.0, 0.0, 0.0, 0.0, 0.0, 0.0, 0.0], 56: [7.023106799061125, 0.0, 0.0, 0.0, 16.653530015730333, 0.0, 0.0, 0.0, 0.0, 12.422095027050645, 26.502829223630723, 0.0, 0.0, 5.432140174989672], 57: [0.0, 0.0, 0.0, 0.0, 0.0, 6.566895302601564, 0.0, 0.0, 0.0, 0.0, 6.625707305907681, 0.0, 0.0, 0.0], 58: [21.069320397183375, 29.012566832158406, 17.159778606726064, 14.994058030366709, 0.0, 19.70068590780469, 0.0, 22.980656553876393, 0.0, 0.0, 0.0, 0.0, 0.0, 2.716070087494836], 59: [0.0, 0.0, 0.0, 0.0, 5.5511766719101105, 13.133790605203128, 0.0, 5.745164138469098, 0.0, 0.0, 0.0, 0.0, 0.0, 0.0], 60: [21.069320397183375, 38.68342244287788, 0.0, 7.4970290151833545, 0.0, 19.70068590780469, 0.0, 22.980656553876393, 31.71688861831044, 6.2110475135253225, 0.0, 0.0, 0.0, 0.0], 61: [0.0, 0.0, 0.0, 0.0, 5.5511766719101105, 0.0, 0.0, 17.235492415407293, 0.0, 6.2110475135253225, 0.0, 0.0, 2.2138261705083044, 0.0], 62: [0.0, 0.0, 0.0, 0.0, 5.5511766719101105, 0.0, 0.0, 17.235492415407293, 0.0, 0.0, 6.625707305907681, 0.0, 2.2138261705083044, 0.0], 63: [0.0, 0.0, 0.0, 0.0, 5.5511766719101105, 0.0, 0.0, 0.0, 0.0, 0.0, 0.0, 0.0, 4.427652341016609, 8.148210262484508], 64: [56.184854392489, 48.35427805359735, 62.919188224662236, 48.730688598691806, 61.06294339101122, 45.968267118210946, 75.59707377287528, 34.47098483081459, 42.289184824413915, 86.95466518935451, 59.63136575316913, 54.02838173386511, 86.33922064982387, 86.91424279983475], 65: [7.023106799061125, 29.012566832158406, 22.879704808968086, 7.4970290151833545, 11.102353343820221, 19.70068590780469, 15.119414754575056, 22.980656553876393, 42.289184824413915, 31.055237567626612, 19.87712191772304, 18.90993360685279, 2.2138261705083044, 8.148210262484508], 66: [0.0, 0.0, 0.0, 0.0, 0.0, 0.0, 0.0, 0.0, 0.0, 0.0, 6.625707305907681, 0.0, 0.0, 0.0], 67: [0.0, 0.0, 0.0, 0.0, 0.0, 0.0, 0.0, 0.0, 0.0, 0.0, 0.0, 0.0, 0.0, 0.0], 68: [14.04621359812225, 19.34171122143894, 5.719926202242021, 0.0, 5.5511766719101105, 0.0, 0.0, 11.490328276938197, 0.0, 0.0, 6.625707305907681, 0.0, 2.2138261705083044, 2.716070087494836], 69: [0.0, 0.0, 0.0, 7.4970290151833545, 5.5511766719101105, 0.0, 0.0, 0.0, 0.0, 0.0, 19.87712191772304, 0.0, 0.0, 0.0], 70: [0.0, 0.0, 0.0, 0.0, 5.5511766719101105, 0.0, 0.0, 0.0, 0.0, 0.0, 0.0, 8.104257260079766, 0.0, 0.0], 71: [0.0, 0.0, 5.719926202242021, 14.994058030366709, 16.653530015730333, 0.0, 0.0, 0.0, 0.0, 0.0, 19.87712191772304, 0.0, 0.0, 0.0], 72: [0.0, 0.0, 0.0, 0.0, 0.0, 0.0, 30.23882950915011, 11.490328276938197, 0.0, 0.0, 6.625707305907681, 0.0, 0.0, 5.432140174989672], 73: [42.13864079436675, 9.67085561071947, 17.159778606726064, 26.23960155314174, 49.960590047191, 13.133790605203128, 0.0, 0.0, 21.144592412206958, 6.2110475135253225, 0.0, 2.7014190866932553, 2.2138261705083044, 2.716070087494836], 74: [0.0, 0.0, 5.719926202242021, 7.4970290151833545, 16.653530015730333, 0.0, 0.0, 0.0, 0.0, 0.0, 6.625707305907681, 5.4028381733865105, 0.0, 5.432140174989672], 75: [21.069320397183375, 38.68342244287788, 5.719926202242021, 7.4970290151833545, 0.0, 19.70068590780469, 0.0, 11.490328276938197, 42.289184824413915, 0.0, 0.0, 8.104257260079766, 4.427652341016609, 0.0], 76: [77.25417478967238, 87.03770049647522, 45.75940961793617, 78.71880465942522, 49.960590047191, 65.66895302601564, 75.59707377287528, 86.17746207703648, 126.86755447324175, 93.16571270287983, 72.88278036498448, 59.431219907251624, 68.62861128575744, 73.33389236236057], 77: [0.0, 0.0, 0.0, 0.0, 0.0, 0.0, 0.0, 28.72582069234549, 0.0, 0.0, 0.0, 5.4028381733865105, 2.2138261705083044, 0.0], 78: [21.069320397183375, 29.012566832158406, 5.719926202242021, 11.245543522775032, 0.0, 0.0, 0.0, 17.235492415407293, 21.144592412206958, 0.0, 0.0, 2.7014190866932553, 0.0, 2.716070087494836], 79: [0.0, 0.0, 0.0, 18.742572537958385, 5.5511766719101105, 0.0, 30.23882950915011, 0.0, 0.0, 0.0, 19.87712191772304, 5.4028381733865105, 2.2138261705083044, 2.716070087494836], 80: [0.0, 0.0, 5.719926202242021, 3.7485145075916773, 5.5511766719101105, 0.0, 0.0, 0.0, 0.0, 6.2110475135253225, 0.0, 5.4028381733865105, 11.069130852541523, 5.432140174989672], 81: [0.0, 0.0, 0.0, 0.0, 16.653530015730333, 0.0, 60.47765901830022, 5.745164138469098, 0.0, 0.0, 19.87712191772304, 0.0, 0.0, 0.0], 82: [14.04621359812225, 19.34171122143894, 5.719926202242021, 14.994058030366709, 16.653530015730333, 13.133790605203128, 45.35824426372517, 22.980656553876393, 0.0, 0.0, 26.502829223630723, 10.805676346773021, 6.641478511524913, 0.0], 83: [14.04621359812225, 29.012566832158406, 0.0, 7.4970290151833545, 0.0, 26.267581210406256, 0.0, 22.980656553876393, 21.144592412206958, 0.0, 0.0, 0.0, 0.0, 0.0], 84: [0.0, 0.0, 0.0, 7.4970290151833545, 0.0, 0.0, 0.0, 5.745164138469098, 0.0, 12.422095027050645, 6.625707305907681, 0.0, 11.069130852541523, 10.864280349979344], 85: [14.04621359812225, 9.67085561071947, 11.439852404484043, 0.0, 0.0, 13.133790605203128, 0.0, 11.490328276938197, 21.144592412206958, 12.422095027050645, 0.0, 0.0, 0.0, 0.0], 86: [7.023106799061125, 19.34171122143894, 5.719926202242021, 11.245543522775032, 0.0, 0.0, 0.0, 5.745164138469098, 0.0, 0.0, 0.0, 0.0, 2.2138261705083044, 0.0], 87: [0.0, 0.0, 5.719926202242021, 0.0, 0.0, 0.0, 0.0, 0.0, 0.0, 0.0, 0.0, 2.7014190866932553, 6.641478511524913, 0.0], 88: [28.0924271962445, 67.69598927503628, 45.75940961793617, 59.976232121466836, 49.960590047191, 85.36963893382033, 75.59707377287528, 68.94196966162917, 52.861481030517396, 93.16571270287983, 59.63136575316913, 83.74399168749092, 84.12539447931557, 84.19817271233991], 89: [0.0, 0.0, 5.719926202242021, 0.0, 5.5511766719101105, 13.133790605203128, 0.0, 0.0, 0.0, 6.2110475135253225, 6.625707305907681, 13.507095433466278, 2.2138261705083044, 2.716070087494836], 90: [0.0, 19.34171122143894, 11.439852404484043, 0.0, 5.5511766719101105, 0.0, 15.119414754575056, 5.745164138469098, 0.0, 6.2110475135253225, 6.625707305907681, 16.208514520159532, 2.2138261705083044, 10.864280349979344], 91: [0.0, 0.0, 0.0, 0.0, 5.5511766719101105, 0.0, 0.0, 0.0, 0.0, 0.0, 6.625707305907681, 0.0, 0.0, 0.0], 92: [0.0, 0.0, 11.439852404484043, 3.7485145075916773, 16.653530015730333, 19.70068590780469, 30.23882950915011, 5.745164138469098, 0.0, 0.0, 19.87712191772304, 5.4028381733865105, 0.0, 2.716070087494836], 93: [14.04621359812225, 29.012566832158406, 0.0, 3.7485145075916773, 5.5511766719101105, 0.0, 30.23882950915011, 17.235492415407293, 0.0, 12.422095027050645, 6.625707305907681, 8.104257260079766, 6.641478511524913, 8.148210262484508], 94: [7.023106799061125, 9.67085561071947, 5.719926202242021, 18.742572537958385, 11.102353343820221, 0.0, 0.0, 5.745164138469098, 10.572296206103479, 6.2110475135253225, 6.625707305907681, 0.0, 2.2138261705083044, 13.580350437474179], 95: [0.0, 0.0, 0.0, 0.0, 0.0, 0.0, 0.0, 0.0, 0.0, 0.0, 0.0, 0.0, 0.0, 0.0], 96: [28.0924271962445, 67.69598927503628, 62.919188224662236, 59.976232121466836, 49.960590047191, 78.80274363121876, 75.59707377287528, 68.94196966162917, 74.00607344272436, 68.32152264877854, 92.75990228270753, 78.3411535141044, 84.12539447931557, 54.321401749896715], 97: [0.0, 0.0, 11.439852404484043, 0.0, 0.0, 0.0, 0.0, 0.0, 0.0, 18.633142540575967, 6.625707305907681, 5.4028381733865105, 4.427652341016609, 5.432140174989672], 98: [0.0, 0.0, 0.0, 0.0, 0.0, 0.0, 45.35824426372517, 17.235492415407293, 0.0, 0.0, 0.0, 0.0, 0.0, 8.148210262484508], 99: [14.04621359812225, 58.02513366431681, 62.919188224662236, 37.48514507591677, 49.960590047191, 72.23584832861721, 120.95531803660045, 57.45164138469098, 63.43377723662088, 68.32152264877854, 66.2570730590768, 86.44541077418417, 101.836003843382, 65.18568209987606], 100: [0.0, 0.0, 5.719926202242021, 0.0, 0.0, 0.0, 0.0, 5.745164138469098, 10.572296206103479, 6.2110475135253225, 0.0, 5.4028381733865105, 2.2138261705083044, 2.716070087494836], 101: [0.0, 0.0, 0.0, 0.0, 0.0, 0.0, 0.0, 0.0, 0.0, 0.0, 0.0, 0.0, 0.0, 0.0], 102: [28.0924271962445, 38.68342244287788, 5.719926202242021, 11.245543522775032, 0.0, 19.70068590780469, 0.0, 22.980656553876393, 42.289184824413915, 0.0, 0.0, 2.7014190866932553, 2.2138261705083044, 5.432140174989672], 103: [7.023106799061125, 0.0, 0.0, 7.4970290151833545, 11.102353343820221, 0.0, 0.0, 0.0, 0.0, 0.0, 0.0, 10.805676346773021, 4.427652341016609, 0.0], 104: [7.023106799061125, 29.012566832158406, 0.0, 11.245543522775032, 11.102353343820221, 0.0, 0.0, 0.0, 10.572296206103479, 0.0, 19.87712191772304, 2.7014190866932553, 8.855304682033218, 5.432140174989672]}, 'x_frs_index': {2: -0.24579055098647418, 3: -0.29539595746085634, 4: -0.6552046066557163, 5: -0.24238151016870252, 6: 0.3199178026089518, 7: 0.2654448692738912, 8: 1.0, 9: -0.42757744264532194, 10: 0.30506867965819856, 11: 0.33265964720286056, 12: -0.110016544654854, 13: 0.30209562747727714, 14: 0.2894432885400169, 15: -0.19172157817673965, 16: -0.469105042749459, 17: 0.05139325165056873, 18: 0.6656046627000062, 19: 0.20157781592566876, 20: 0.11039589289826333, 21: 0.045174973026799445, 22: -0.019593823258494014, 23: -0.15821032298850218, 24: -0.42739486662644566, 25: -0.5418755362035755, 26: 0.09382302490912253, 27: -0.35461561365438293, 28: 1.0, 29: -0.3246365076036357, 30: 1.0, 31: -0.44537212325336023, 32: nan, 33: 1.0, 34: 1.0, 35: -0.3480449511374843, 36: -0.11567315067182976, 37: -0.258932550235091, 38: -0.23204171942579563, 39: 0.001025009450467774, 40: -0.4234444163304013, 41: 0.08891396064418995, 42: -0.1611704493135881, 43: 0.12536767961575032, 44: -0.5527760515220281, 45: 0.2501037116124942, 46: -0.1331942789326195, 47: 0.3104430375782709, 48: -0.4920620240029955, 49: -0.19449898577238128, 50: 0.23888573732370275, 51: -0.10889258216822433, 52: -0.23188632955954736, 53: -0.11374317223285352, 54: 0.12913546206045273, 55: nan, 56: -0.26317473784501033, 57: -0.1393731227995026, 58: -0.6390572968015027, 59: 0.22969037191620745, 60: -0.5505657572782058, 61: 0.22774038066540137, 62: -0.8547932982174743, 63: -0.06496808913854235, 64: 0.06436013650979489, 65: -0.13889610742039588, 66: -0.24155189460906637, 67: nan, 68: -0.05552105449511073, 69: -0.7574004022602262, 70: -0.5619745550393549, 71: -0.050646948310757216, 72: -0.05645962209675368, 73: -0.22845633040388474, 74: -0.2810577051579322, 75: -0.29847481781945856, 76: -0.024381438871302487, 77: 0.22419116005521028, 78: -0.8074117033162782, 79: -0.2403722986812869, 80: -0.07017012011227519, 81: -0.4996419308996091, 82: -0.5384559937122732, 83: -0.4978546250717719, 84: 0.03853829466139905, 85: -0.2679548101934365, 86: -0.2581126603266954, 87: 0.4716542821125818, 88: 0.014655882276877972, 89: -0.20620683964761702, 90: -0.1853484162627837, 91: 0.1320412667117257, 92: -0.41488647859631766, 93: -0.2924897309976312, 94: -0.06342513194968391, 95: 1.0, 96: 0.016318330959551486, 97: 0.29951890396989894, 98: -0.21986483544091104, 99: -0.019277690292739794, 100: 0.15338312981315094, 101: 1.0, 102: -0.31305130599884334, 103: 0.10028016419679654, 104: 0.1275220425528324}, 'y_frs_index': {2: 0.19402022288609577, 3: 0.7939286753293223, 4: -0.49349655382118335, 5: 0.6053420426187719, 6: -0.2761572327255116, 7: 0.08833685517609387, 8: -0.12697733678723333, 9: 0.2412104064527435, 10: 0.4573003534956725, 11: 0.14338473831465345, 12: -0.034548311516695164, 13: 0.10390553512250797, 14: 0.10714881708851187, 15: 0.40697158942865874, 16: -0.7243496618643603, 17: -0.03676086641779189, 18: 0.023575527591165497, 19: 0.4408291545702576, 20: -0.15492127984384618, 21: -0.008243566403661291, 22: -0.029021934591960032, 23: 0.21633274704357394, 24: -0.35265522205085037, 25: -0.06772960470295572, 26: 0.42807491142651827, 27: 0.5310539425852301, 28: -0.29456968755471546, 29: 0.7067594805385097, 30: 0.20346106394225688, 31: -0.2453172797524201, 32: -0.2505796682444373, 33: -0.5891217597599456, 34: 0.04140695784263202, 35: -0.8949765380091175, 36: -0.050051857703842136, 37: 0.057459922100674916, 38: 0.4082301382431742, 39: 0.021818152421786204, 40: 0.2874937326813885, 41: 0.07731969567239293, 42: 0.18143360095920918, 43: 0.1029693811997814, 44: 0.07287456342520285, 45: 0.33789664259003543, 46: 0.04542462425940091, 47: -0.7113406687910684, 48: -0.21237340698634002, 49: 0.02796624874191791, 50: 0.13002247870001568, 51: 0.09673839553107423, 52: -0.09852053470826798, 53: 0.2796946969272412, 54: 0.12083099094592852, 55: -1.0, 56: 0.1368025362988751, 57: -0.1377877643144131, 58: -0.7910656213543206, 59: 0.5457146197366015, 60: -0.09114996961444395, 61: -0.1947817618688442, 62: -0.6994303948980573, 63: 0.45664936162140884, 64: 0.04216052206966867, 65: -0.04995345128497798, 66: -0.2524684940429967, 67: 0.15992856047011186, 68: 0.2096938524220291, 69: -0.7065379136590509, 70: 0.28766248626381496, 71: -0.11386068696683598, 72: 0.06926712667707738, 73: -0.01674703696905937, 74: -0.11744668677343302, 75: -0.41218108513723556, 76: 0.03896620556413974, 77: 0.4019210097509128, 78: -0.7131371324798536, 79: -0.06850229284975631, 80: 0.13212710411727474, 81: -0.049727318523188214, 82: -0.18242991797934757, 83: 0.158291960596137, 84: -0.13625457144369696, 85: 0.43997466173174693, 86: 0.5584978622472858, 87: -0.20800037869518959, 88: 0.10875157649688393, 89: -0.06930841211585659, 90: -0.09255294902715357, 91: -0.17331398094870007, 92: -0.035722766178534544, 93: 0.0049474432135346615, 94: -0.05115845377009643, 95: -0.23652134171771577, 96: 0.038769447264821136, 97: 0.4788836291420904, 98: 0.005260782126683749, 99: 0.13258329359780152, 100: -0.06692177916929748, 101: 0.2608942145204025, 102: -0.1540699983066706, 103: 0.8018077294193204, 104: 0.14803010894806523}, 'active_context': IdentifyingContext<('kdiba', 'gor01', 'one', '2006-6-09_1-22-43', 'long_short_firing_rate_indicies')>}), 'long_short_leave_one_out_decoding_analysis': <pyphoplacecellanalysis.General.Pipeline.Stages.ComputationFunctions.MultiContextComputationFunctions.LongShortTrackComputations.LeaveOneOutDecodingAnalysis object at 0x000001D918128FA0>}), 'accumulated_errors': None})"
      ]
     },
     "execution_count": 6,
     "metadata": {},
     "output_type": "execute_result"
    }
   ],
   "source": [
    "curr_active_pipeline.global_computation_results"
   ]
  },
  {
   "cell_type": "code",
   "execution_count": null,
   "id": "25d4dbe2",
   "metadata": {},
   "outputs": [],
   "source": [
    "from pyphocorehelpers.print_helpers import print_object_memory_usage, print_dataframe_memory_usage, print_filesystem_file_size\n",
    "# print_object_memory_usage(loaded_global_computation_results)\n",
    "print_filesystem_file_size(global_computation_results_pickle_path)"
   ]
  },
  {
   "cell_type": "code",
   "execution_count": null,
   "id": "f610667c",
   "metadata": {},
   "outputs": [],
   "source": [
    "curr_active_pipeline.pickle_path"
   ]
  },
  {
   "cell_type": "code",
   "execution_count": null,
   "id": "a16a3469",
   "metadata": {},
   "outputs": [],
   "source": [
    "_plot_obj = curr_active_pipeline.plot\n",
    "# _plot_obj._display_spike_rasters_window()\n",
    "_plot_obj"
   ]
  },
  {
   "cell_type": "code",
   "execution_count": null,
   "id": "f98203a4",
   "metadata": {},
   "outputs": [],
   "source": [
    "curr_active_pipeline.reload_default_display_functions()\n",
    "curr_active_pipeline.plot._display_jonathan_interactive_replay_firing_rate_comparison\n"
   ]
  },
  {
   "cell_type": "code",
   "execution_count": null,
   "id": "636806ee",
   "metadata": {},
   "outputs": [],
   "source": [
    "curr_active_pipeline.plot._display_batch_pho_jonathan_replay_firing_rate_comparison()\n"
   ]
  },
  {
   "cell_type": "code",
   "execution_count": null,
   "id": "fd820a45",
   "metadata": {},
   "outputs": [],
   "source": [
    "curr_active_pipeline.plot._display_short_long_firing_rate_index_comparison()\n"
   ]
  },
  {
   "cell_type": "code",
   "execution_count": null,
   "id": "fafcd248",
   "metadata": {},
   "outputs": [],
   "source": [
    "active_identifying_session_ctx, active_session_figures_out_path, active_out_figures_list = batch_programmatic_figures(curr_active_pipeline)"
   ]
  },
  {
   "cell_type": "code",
   "execution_count": null,
   "id": "e60597ba",
   "metadata": {},
   "outputs": [],
   "source": [
    "# Fixed but requires 'pyflakes' for code editor, which I removed. ModuleNotFoundError: No module named 'pyflakes'\n",
    "active_identifying_session_ctx = curr_active_pipeline.sess.get_context() # 'bapun_RatN_Day4_2019-10-15_11-30-06'\n",
    "display_output = curr_active_pipeline.display('_display_context_nested_docks', active_identifying_session_ctx, enable_gui=True, debug_print=False) # returns {'master_dock_win': master_dock_win, 'app': app, 'out_items': out_items}\n",
    "master_dock_win = display_output['master_dock_win']\n",
    "app = display_output['app']\n",
    "out_items = display_output['out_items']\n",
    "\n",
    "# _display_short_long_firing_rate_index_comparison"
   ]
  },
  {
   "cell_type": "code",
   "execution_count": null,
   "id": "bc5cdbc9",
   "metadata": {},
   "outputs": [],
   "source": [
    "from pyphocorehelpers.programming_helpers import IPythonHelpers\n",
    "\n",
    "long_short_fr_indicies_analysis_results = curr_active_pipeline.global_computation_results.computed_data['long_short_fr_indicies_analysis']\n",
    "x_frs_index, y_frs_index = long_short_fr_indicies_analysis_results['x_frs_index'], long_short_fr_indicies_analysis_results['y_frs_index'] # use the all_results_dict as the computed data value\n",
    "active_context = long_short_fr_indicies_analysis_results['active_context']\n",
    "# IPythonHelpers.cell_vars(lambda: globals())"
   ]
  },
  {
   "cell_type": "code",
   "execution_count": null,
   "id": "39f99839",
   "metadata": {},
   "outputs": [],
   "source": [
    "long_short_fr_indicies_df = pd.DataFrame({'aclu': list(x_frs_index.keys()), 'replay_fr_idx': list(x_frs_index.values()), 'laps_fr_idx': list(y_frs_index.values())}) # , columns=['aclu','replay_frs']\n",
    "long_short_fr_indicies_df.set_index('aclu', inplace=True)\n",
    "# long_short_fr_indicies_df\n",
    "# long_short_fr_indicies_df.to_clipboard()\n",
    "long_short_fr_indicies_df"
   ]
  },
  {
   "cell_type": "code",
   "execution_count": null,
   "id": "58696b73",
   "metadata": {},
   "outputs": [],
   "source": [
    "long_short_fr_indicies_analysis_results"
   ]
  },
  {
   "cell_type": "code",
   "execution_count": null,
   "id": "26804fbe",
   "metadata": {},
   "outputs": [],
   "source": [
    "from pyphoplacecellanalysis.General.Mixins.CrossComputationComparisonHelpers import build_neurons_color_map # for plot_short_v_long_pf1D_comparison\n",
    "\n",
    "# Get existing long/short decoders from the cell under \"# 2023-02-24 Decoders\"\n",
    "long_decoder, short_decoder = deepcopy(long_one_step_decoder_1D), deepcopy(short_one_step_decoder_1D)\n",
    "assert np.all(long_decoder.xbin == short_decoder.xbin)"
   ]
  },
  {
   "attachments": {},
   "cell_type": "markdown",
   "id": "a7742482",
   "metadata": {},
   "source": [
    "## 2023-05-01 - Test my interneuron hypothesis by looking at interneurons across the long/short divide\n",
    "\n",
    " 1. Interneuron identity should be best determinant of active environment.\n",
    "\n",
    " 2. Do people know anything about interneurons that activate in a given environment? For example, to interneurons activate alongside pyramidal cells when replaying a given environment?\n",
    "\n",
    " 3. \n"
   ]
  },
  {
   "cell_type": "code",
   "execution_count": null,
   "id": "0fe17e34",
   "metadata": {},
   "outputs": [],
   "source": [
    "# global_results.pf1D_dt.reset()\n",
    "# global_results.pf2D_dt.reset()\n",
    "# global_results.all_attributes\n",
    "\n",
    "list(curr_active_pipeline.global_computation_results.computed_data.jonathan_firing_rate_analysis.keys())\n",
    "\n",
    "curr_active_pipeline.global_computation_results.computed_data.long_short"
   ]
  },
  {
   "cell_type": "code",
   "execution_count": null,
   "id": "32b7df38",
   "metadata": {},
   "outputs": [],
   "source": [
    "\n",
    "\n",
    "# 1. Interneuron identity should be best determinant of active environment.\n",
    "\n",
    "# 2. Do people know anything about interneurons that activate in a given environment? For example, to interneurons activate alongside pyramidal cells when replaying a given environment?\n",
    "\n",
    "# 3. \n",
    "# global_results.pf1D_dt.reset()\n",
    "# global_results.pf2D_dt.reset()\n",
    "# global_results.all_attributes\n",
    "\n",
    "list(curr_active_pipeline.global_computation_results.computed_data.jonathan_firing_rate_analysis.keys())\n",
    "\n",
    "curr_active_pipeline.global_computation_results.computed_data.long_short"
   ]
  },
  {
   "cell_type": "code",
   "execution_count": null,
   "id": "4a2d06a7",
   "metadata": {},
   "outputs": [],
   "source": [
    "from pyphoplacecellanalysis.General.Pipeline.Stages.ComputationFunctions.MultiContextComputationFunctions.LongShortTrackComputations import JonathanFiringRateAnalysisResult\n",
    "\n",
    "jonathan_firing_rate_analysis_result = JonathanFiringRateAnalysisResult(**curr_active_pipeline.global_computation_results.computed_data.jonathan_firing_rate_analysis.to_dict())\n",
    "\n",
    "# jonathan_firing_rate_analysis_result.neuron_replay_stats_df.to_clipboard()"
   ]
  },
  {
   "cell_type": "code",
   "execution_count": null,
   "id": "33ac6c8d",
   "metadata": {},
   "outputs": [],
   "source": [
    "jonathan_firing_rate_analysis_result.rdf.rdf"
   ]
  },
  {
   "cell_type": "code",
   "execution_count": null,
   "id": "bdc9c2e5",
   "metadata": {},
   "outputs": [],
   "source": [
    "jonathan_firing_rate_analysis_result.time_binned_instantaneous_unit_specific_spike_rate.time_bins #.shape"
   ]
  },
  {
   "cell_type": "code",
   "execution_count": null,
   "id": "785ca961",
   "metadata": {},
   "outputs": [],
   "source": [
    "%matplotlib qt\n",
    "instantaneous_fr_df = deepcopy(jonathan_firing_rate_analysis_result.time_binned_instantaneous_unit_specific_spike_rate.instantaneous_unit_specific_spike_rate_values)\n",
    "instantaneous_fr_df['t'] = jonathan_firing_rate_analysis_result.time_binned_instantaneous_unit_specific_spike_rate.time_bins\n",
    "instantaneous_fr_df #.plot()\n",
    "\n",
    "\n",
    "instantaneous_fr_df.plot(x='t')"
   ]
  },
  {
   "cell_type": "code",
   "execution_count": null,
   "id": "345b3cca",
   "metadata": {},
   "outputs": [],
   "source": [
    "instantaneous_fr_df.set_index('t').to_clipboard()"
   ]
  },
  {
   "cell_type": "code",
   "execution_count": null,
   "id": "a8016a88",
   "metadata": {},
   "outputs": [],
   "source": [
    "neuron_replay_stats_df = jonathan_firing_rate_analysis_result.neuron_replay_stats_df.copy()\n",
    "neuron_replay_stats_df"
   ]
  },
  {
   "cell_type": "code",
   "execution_count": null,
   "id": "c7ff9bb5",
   "metadata": {},
   "outputs": [],
   "source": [
    "## Require placefield presence on either the long or the short\n",
    "jonathan_firing_rate_analysis_result.neuron_replay_stats_df = jonathan_firing_rate_analysis_result.neuron_replay_stats_df[np.logical_or(jonathan_firing_rate_analysis_result.neuron_replay_stats_df['has_long_pf'], jonathan_firing_rate_analysis_result.neuron_replay_stats_df['has_short_pf'])]"
   ]
  },
  {
   "cell_type": "code",
   "execution_count": null,
   "id": "87851fff",
   "metadata": {},
   "outputs": [],
   "source": [
    "jonathan_firing_rate_analysis_result.neuron_replay_stats_df[np.logical_or(jonathan_firing_rate_analysis_result.neuron_replay_stats_df['has_long_pf'], jonathan_firing_rate_analysis_result.neuron_replay_stats_df['has_short_pf'])].index.to_numpy()"
   ]
  },
  {
   "attachments": {},
   "cell_type": "markdown",
   "id": "8de2e3da",
   "metadata": {},
   "source": [
    "# 2023-05-19 - Testing S-only emergence, L-only replays in S, peak position remappings "
   ]
  },
  {
   "cell_type": "code",
   "execution_count": null,
   "id": "d23e5131",
   "metadata": {},
   "outputs": [],
   "source": [
    "\n",
    "from pyphoplacecellanalysis.General.Mixins.CrossComputationComparisonHelpers import SplitPartitionMembership, SetPartition\n",
    "## 2023-05-19 - Get S-only pfs\n",
    "is_S_pf_only = np.logical_and(np.logical_not(neuron_replay_stats_df['has_long_pf']), neuron_replay_stats_df['has_short_pf'])\n",
    "is_S_only = neuron_replay_stats_df.track_membership == SplitPartitionMembership.RIGHT_ONLY\n",
    "assert (is_S_pf_only == is_S_only).all()\n",
    "neuron_replay_stats_df[is_S_pf_only]\n"
   ]
  },
  {
   "cell_type": "code",
   "execution_count": null,
   "id": "3bc5b2a5",
   "metadata": {},
   "outputs": [],
   "source": [
    "\n",
    "## Show L-only pfs stop replaying on S\n",
    "is_L_pf_only = np.logical_and(np.logical_not(neuron_replay_stats_df['has_short_pf']), neuron_replay_stats_df['has_long_pf'])\n",
    "is_L_only = neuron_replay_stats_df.track_membership == SplitPartitionMembership.LEFT_ONLY\n",
    "assert (is_L_pf_only == is_L_only).all()\n",
    "neuron_replay_stats_df[is_L_only]\n",
    "\n",
    "## For ('kdiba', 'gor01', 'one', '2006-6-09_1-22-43') - Have L-only cells [24, 98] that have ['short_num_replays'] = [8, 7]. We were hoping that there would be few to no replays on the S-track that involved L-only cells."
   ]
  },
  {
   "cell_type": "code",
   "execution_count": null,
   "id": "5b3bdd19",
   "metadata": {},
   "outputs": [],
   "source": [
    "curr_context"
   ]
  },
  {
   "cell_type": "code",
   "execution_count": null,
   "id": "4d8566f2",
   "metadata": {},
   "outputs": [],
   "source": [
    "jonathan_firing_rate_analysis_result.neuron_replay_stats_df.to_clipboard()"
   ]
  },
  {
   "cell_type": "code",
   "execution_count": null,
   "id": "10cdb9f2",
   "metadata": {},
   "outputs": [],
   "source": [
    "from pyphoplacecellanalysis.General.Pipeline.Stages.ComputationFunctions.MultiContextComputationFunctions.LongShortTrackComputations import compute_evening_morning_parition\n",
    "\n",
    "difference_sorted_aclus, evening_sorted_aclus, morning_sorted_aclus = compute_evening_morning_parition(neuron_replay_stats_df, debug_print=True)\n",
    "sorted_neuron_replay_stats_df = neuron_replay_stats_df.reindex(difference_sorted_aclus).copy() # This seems to work to re-sort the dataframe by the sort indicies\n",
    "sorted_neuron_replay_stats_df"
   ]
  },
  {
   "cell_type": "code",
   "execution_count": null,
   "id": "0504f8e4",
   "metadata": {},
   "outputs": [],
   "source": [
    "from pyphocorehelpers.indexing_helpers import partition\n",
    "\n",
    "# Split the replay stats based on the neuron types:\n",
    "unique_included_neuron_types, (pyr_neuron_replay_stats_df, contaminated_neuron_replay_stats_df, interneuron_neuron_replay_stats_df) = partition(jonathan_firing_rate_analysis_result.neuron_replay_stats_df, 'neuron_type')\n",
    "pyr_neuron_replay_stats_df"
   ]
  },
  {
   "cell_type": "code",
   "execution_count": null,
   "id": "7524856f",
   "metadata": {},
   "outputs": [],
   "source": [
    "from neuropy.core.neurons import NeuronType\n",
    "\n",
    "%matplotlib qt\n",
    "# Look at replays during ripples vs. those not during ripples. Also potentially PBEs vs. not PBEs.\n",
    "\n",
    "# NeuronType.from_any_string_series(['pyr','intr'])\n",
    "'pyr','cont','intr'\n",
    "\n",
    "active_identifying_session_ctx = curr_active_pipeline.sess.get_context() # 'bapun_RatN_Day4_2019-10-15_11-30-06'\n",
    "curr_active_pipeline.display('_display_jonathan_interactive_replay_firing_rate_comparison', active_identifying_session_ctx, included_neuron_types=NeuronType.from_any_string_series(['pyr'])) # only the pyramidal neurons"
   ]
  },
  {
   "cell_type": "code",
   "execution_count": null,
   "id": "bc7ebf69",
   "metadata": {},
   "outputs": [],
   "source": [
    "curr_active_pipeline.reload_default_display_functions()"
   ]
  },
  {
   "cell_type": "code",
   "execution_count": null,
   "id": "68f61971",
   "metadata": {},
   "outputs": [],
   "source": [
    "curr_active_pipeline.display('_display_jonathan_interactive_replay_firing_rate_comparison', active_identifying_session_ctx, included_neuron_types=NeuronType.from_any_string_series(['intr']), require_placefield=False) # only the pyramidal neurons"
   ]
  },
  {
   "cell_type": "code",
   "execution_count": null,
   "id": "0859e13d",
   "metadata": {},
   "outputs": [],
   "source": [
    "from pyphoplacecellanalysis.General.Mixins.CrossComputationComparisonHelpers import build_replays_custom_scatter_markers, CustomScatterMarkerMode\n",
    "\n",
    "_curr_included_aclus = jonathan_firing_rate_analysis_result.neuron_replay_stats_df[np.logical_or(jonathan_firing_rate_analysis_result.neuron_replay_stats_df['has_long_pf'], jonathan_firing_rate_analysis_result.neuron_replay_stats_df['has_short_pf'])].index.to_numpy()\n",
    "_curr_output = curr_active_pipeline.display('_display_batch_pho_jonathan_replay_firing_rate_comparison', active_identifying_session_ctx, included_unit_neuron_IDs=_curr_included_aclus, marker_split_mode=CustomScatterMarkerMode.NoSplit)"
   ]
  },
  {
   "attachments": {},
   "cell_type": "markdown",
   "id": "d69eed8a",
   "metadata": {},
   "source": [
    "## 2023-04-13 - Shuffled Surprise\n",
    "\"\"\" \n",
    "Relevant Functions:\n",
    "`perform_full_session_leave_one_out_decoding_analysis`:\n",
    "\t`perform_leave_one_aclu_out_decoding_analysis`:\tfrom pyphoplacecellanalysis.Analysis.Decoder.decoder_result import perform_leave_one_aclu_out_decoding_analysis\n",
    "\t`_analyze_leave_one_out_decoding_results`: from pyphoplacecellanalysis.General.Pipeline.Stages.ComputationFunctions.DefaultComputationFunctions import _analyze_leave_one_out_decoding_results\n",
    "\"\"\"\n"
   ]
  },
  {
   "cell_type": "code",
   "execution_count": null,
   "id": "0aac42d4",
   "metadata": {},
   "outputs": [],
   "source": [
    "# 2023-04-18 - Refactored into decoder_result\n",
    "result, result_df, result_df_grouped = long_results_obj.result, long_results_obj.result_df, long_results_obj.result_df_grouped"
   ]
  },
  {
   "cell_type": "code",
   "execution_count": null,
   "id": "9bfe57a8",
   "metadata": {},
   "outputs": [],
   "source": [
    "curr_active_pipeline.global_computation_results"
   ]
  },
  {
   "cell_type": "code",
   "execution_count": null,
   "id": "c107570f",
   "metadata": {},
   "outputs": [],
   "source": [
    "from pyphoplacecellanalysis.Analysis.Decoder.decoder_result import DiagnosticDistanceMetricFigure\n",
    "\n",
    "## Render the internactive slider that allows selecting the timebin index to debug\n",
    "n_timebins = np.sum(long_results_obj.all_epochs_num_epoch_time_bins)\n",
    "timebinned_neuron_info = long_results_obj.timebinned_neuron_info\n",
    "result = long_results_obj.new_result\n",
    "active_fig_obj, update_function = DiagnosticDistanceMetricFigure.build_interactive_diagnostic_distance_metric_figure(long_results_obj, timebinned_neuron_info, result)\n",
    "active_fig_obj.integer_slider(n_timebins=n_timebins, update_func=update_function)"
   ]
  },
  {
   "cell_type": "code",
   "execution_count": null,
   "id": "7670bfae",
   "metadata": {},
   "outputs": [],
   "source": [
    "\n",
    "# 1. Get set of cells active in a given time bin, for each compute the surprise of its placefield with the leave-one-out decoded posterior.\n",
    "\n",
    "# 2. From the remainder of cells (those not active), randomly choose one to grab the placefield of and compute the surprise with that and the same posterior.\n",
    "\n",
    "# Expectation: The cells that are included in the time bin are expected to have a lower surprise (be less correlated with) the posterior."
   ]
  },
  {
   "cell_type": "code",
   "execution_count": null,
   "id": "e8ff50bc",
   "metadata": {
    "notebookRunGroups": {
     "groupValue": ""
    }
   },
   "outputs": [],
   "source": [
    "from pyphoplacecellanalysis.Pho2D.PyQtPlots.Extensions.pyqtgraph_helpers import build_pyqtgraph_epoch_indicator_regions # Add session indicators to pyqtgraph plot\n",
    "from pyphoplacecellanalysis.General.Pipeline.Stages.DisplayFunctions.MultiContextComparingDisplayFunctions.LongShortTrackComparingDisplayFunctions import _helper_add_long_short_session_indicator_regions\n",
    "\n",
    "from pyphocorehelpers.print_helpers import generate_html_string\n",
    "# Long Short\n",
    "# TODO 2023-04-18 - Can Refactor in terms of `plot_long_short_any_values`?\n",
    "\n",
    "import pyphoplacecellanalysis.External.pyqtgraph as pg\n",
    "# 'time_bin_indices': valid_time_bin_indicies, 'posterior_to_pf_mean_surprise': one_left_out_posterior_to_pf_surprises_mean, 'posterior_to_scrambled_pf_mean_surprise': one_left_out_posterior_to_scrambled_pf_surprises_mean}\n",
    "from pyphoplacecellanalysis.General.Pipeline.Stages.DisplayFunctions.MultiContextComparingDisplayFunctions.LongShortTrackComparingDisplayFunctions import plot_long_short_expected_vs_observed_firing_rates\n",
    "from pyphoplacecellanalysis.General.Pipeline.Stages.DisplayFunctions.MultiContextComparingDisplayFunctions.LongShortTrackComparingDisplayFunctions import plot_long_short_surprise_difference_plot"
   ]
  },
  {
   "cell_type": "code",
   "execution_count": null,
   "id": "c1692fd1",
   "metadata": {},
   "outputs": [],
   "source": [
    "win, plots = plot_long_short_surprise_difference_plot(curr_active_pipeline, long_results_obj, short_results_obj, long_epoch_name, short_epoch_name)\n"
   ]
  },
  {
   "cell_type": "code",
   "execution_count": null,
   "id": "118c3089",
   "metadata": {},
   "outputs": [],
   "source": []
  },
  {
   "cell_type": "code",
   "execution_count": null,
   "id": "893964b2",
   "metadata": {},
   "outputs": [],
   "source": [
    "long_results_obj\n",
    "short_results_obj"
   ]
  },
  {
   "cell_type": "code",
   "execution_count": null,
   "id": "bae2e695",
   "metadata": {},
   "outputs": [],
   "source": [
    "\n",
    "\n",
    "win, plots_tuple, legend = plot_long_short_expected_vs_observed_firing_rates(long_results_obj, short_results_obj)\n",
    "long_epoch_indicator_region_items, short_epoch_indicator_region_items = _helper_add_long_short_session_indicator_regions(win, long_epoch=curr_active_pipeline.filtered_epochs[long_epoch_name], short_epoch=curr_active_pipeline.filtered_epochs[short_epoch_name])"
   ]
  },
  {
   "cell_type": "code",
   "execution_count": null,
   "id": "df4efa5c",
   "metadata": {},
   "outputs": [],
   "source": [
    "long_results_obj\n"
   ]
  },
  {
   "cell_type": "code",
   "execution_count": null,
   "id": "e2a84888",
   "metadata": {},
   "outputs": [],
   "source": [
    "a_plot = self.plots['difference__long']  # PlotDataItem \n",
    "a_curve = a_plot.curve # PlotCurveItem "
   ]
  },
  {
   "cell_type": "code",
   "execution_count": null,
   "id": "3a8e78da",
   "metadata": {},
   "outputs": [],
   "source": [
    "a_plot.sigPointsClicked\n",
    "# a_plot.sigPointsHovered"
   ]
  },
  {
   "cell_type": "code",
   "execution_count": null,
   "id": "fe350d0a",
   "metadata": {},
   "outputs": [],
   "source": [
    "curve.curve.setClickable(True)"
   ]
  },
  {
   "cell_type": "code",
   "execution_count": null,
   "id": "2377c753",
   "metadata": {},
   "outputs": [],
   "source": [
    "# Will make all plots clickable\n",
    "clickedPen = pg.mkPen('#DDD', width=2)\n",
    "lastClicked = []\n",
    "def _test_scatter_plot_clicked(plot, points):\n",
    "\tglobal lastClicked\n",
    "\tfor p in lastClicked:\n",
    "\t\tp.resetPen()\n",
    "\tprint(\"clicked points\", points)\n",
    "\tfor p in points:\n",
    "\t\tp.setPen(clickedPen)\n",
    "\tlastClicked = points\n",
    "\n",
    "main_scatter_clicked_connection = a_plot.sigClicked.connect(_test_scatter_plot_clicked)"
   ]
  },
  {
   "cell_type": "code",
   "execution_count": null,
   "id": "8e83d358",
   "metadata": {},
   "outputs": [],
   "source": [
    "lastClicked, clickedPen, (main_scatter_hovered_connection, main_scatter_clicked_connection) = _helper_make_scatterplot_clickable(a_plot)"
   ]
  },
  {
   "cell_type": "code",
   "execution_count": null,
   "id": "a9d54370",
   "metadata": {},
   "outputs": [],
   "source": [
    "# Need to map from time_bin_indicies to times\n",
    "a_plot = self.plots['difference'] # PlotDataItem \n",
    "# a_plot.setLa\n",
    "# win.graphicsItem().setLabel(axis='left', text='Normal v. Random - Surprise (Custom)')\n",
    "\n",
    "# # Set the plot title with a LaTeX formula\n",
    "# title = pg.LabelItem(justify='center')\n",
    "# title.setText(r'<font size=\"4\">JSD Surprise Diff: $\\fn{JSD}{\\matr{pf}_{i}, \\Pr{\\vec{x}_{t}|\\vec{n}_{t}}} - \\fn{JSD}{\\matr{pf}_{j}, \\Pr{\\vec{x}_{t}|\\vec{n}_{t}}}$</font>')\n",
    "# win.addItem(title)\n",
    "\n",
    "# win.graphicsItem().setLabel(axis='top', text=r'$\\fn{JSD}{\\matr{pf}_{i}, \\Pr{\\vec{x}_{t}|\\vec{n}_{t}}} - \\fn{JSD}{\\matr{pf}_{j}, \\Pr{\\vec{x}_{t}|\\vec{n}_{t}}}$')"
   ]
  },
  {
   "cell_type": "code",
   "execution_count": null,
   "id": "0f55bb1b",
   "metadata": {},
   "outputs": [],
   "source": [
    "from pyphoplacecellanalysis.General.Mixins.ExportHelpers import export_pyqtgraph_plot # works pretty well seemingly\n",
    "\n",
    "export_pyqtgraph_plot(win)\n",
    "# pg.setConfigOption('leftTitle', 'MathText')\n",
    "# win.setTitle(r'JSD(p_x_given_n, pf[<font size=\"4\"><b><span style=\"color:red;\">i</span></b></font>]) - JSD(p_x_given_n, pf[<font size=\"4\"><b>j</b></font>]) where <font size=\"4\"><b>j</b></font> non-firing')\n",
    "\n",
    "# win.setTitle(generate_html_string(f'JSD(p_x_given_n, pf[{i_str}]) - JSD(p_x_given_n, pf[{j_str}]) where {j_str} non-firing', font_size=8))\n",
    "\n",
    "# r'$\\fn{JSD}{\\matr{pf}_{i}, \\Pr{\\vec{x}_{t}|\\vec{n}_{t}}} - \\fn{JSD}{\\matr{pf}_{j}, \\Pr{\\vec{x}_{t}|\\vec{n}_{t}}}$'\n",
    "# title_str"
   ]
  },
  {
   "cell_type": "code",
   "execution_count": null,
   "id": "b315f1e7",
   "metadata": {},
   "outputs": [],
   "source": [
    "from pyqtgraph.GraphicsScene import exportDialog\n",
    "\n",
    "# active_item = active_fig_obj.win\n",
    "active_item = active_fig_obj.plot_dict['curr_cell_pf_curve']['plot_item']\n",
    "exportDialog = exportDialog.ExportDialog(active_item.scene())\n",
    "exportDialog.show(active_item)"
   ]
  },
  {
   "cell_type": "code",
   "execution_count": null,
   "id": "1ea2e239",
   "metadata": {},
   "outputs": [],
   "source": [
    "active_fig_obj.plot_dict['curr_cell_pf_curve']['plot_item']"
   ]
  },
  {
   "cell_type": "code",
   "execution_count": null,
   "id": "e586e32d",
   "metadata": {},
   "outputs": [],
   "source": [
    "curr_active_pipeline.filtered_epochs[short_epoch_name].t_stop"
   ]
  },
  {
   "cell_type": "code",
   "execution_count": null,
   "id": "0e7c5219",
   "metadata": {},
   "outputs": [],
   "source": [
    "curr_active_pipeline.filtered_epochs[long_epoch_name].start_end_times"
   ]
  },
  {
   "attachments": {},
   "cell_type": "markdown",
   "id": "1f996fd9",
   "metadata": {},
   "source": [
    "## Pre 2023-04-13"
   ]
  },
  {
   "cell_type": "code",
   "execution_count": null,
   "id": "33b6ac25",
   "metadata": {},
   "outputs": [],
   "source": [
    "import matplotlib\n",
    "import matplotlib.pyplot as plt\n",
    "%matplotlib qt\n",
    "\n",
    "from pyphoplacecellanalysis.Analysis.Decoder.decoder_result import plot_kourosh_activity_style_figure\n",
    "\n",
    "from neuropy.core.neurons import NeuronType\n",
    "# # Include only pyramidal aclus:\n",
    "# print(f'all shared_aclus: {len(shared_aclus)}\\nshared_aclus: {shared_aclus}')\n",
    "# shared_aclu_neuron_type = long_session.neurons.neuron_type[np.isin(long_session.neurons.neuron_ids, shared_aclus)]\n",
    "# assert len(shared_aclu_neuron_type) == len(shared_aclus)\n",
    "# # Find only the aclus that are pyramidal:\n",
    "# is_shared_aclu_pyramidal = (shared_aclu_neuron_type == NeuronType.PYRAMIDAL)\n",
    "# pyramidal_only_shared_aclus = shared_aclus[is_shared_aclu_pyramidal]\n",
    "# print(f'num pyramidal_only_shared_aclus: {len(pyramidal_only_shared_aclus)}\\npyramidal_only_shared_aclus: {pyramidal_only_shared_aclus}')\n",
    "\n",
    "\n",
    "## Drop Pyramidal but don't use only shared aclus:\n",
    "all_aclus = deepcopy(long_session.neurons.neuron_ids)\n",
    "neuron_type = long_session.neurons.neuron_type\n",
    "assert len(neuron_type) == len(all_aclus)\n",
    "# Find only the aclus that are pyramidal:\n",
    "is_aclu_pyramidal = (neuron_type == NeuronType.PYRAMIDAL)\n",
    "pyramidal_only_all_aclus = all_aclus[is_aclu_pyramidal]\n",
    "print(f'num pyramidal_only_all_aclus: {len(pyramidal_only_all_aclus)}\\npyramidal_only_all_aclus: {pyramidal_only_all_aclus}')\n",
    "\n",
    "is_aclu_interneuron = (neuron_type == NeuronType.INTERNEURONS)\n",
    "interneuron_only_all_aclus = all_aclus[is_aclu_interneuron]\n",
    "print(f'num interneuron_only_all_aclus: {len(interneuron_only_all_aclus)}\\ninterneurons: {interneuron_only_all_aclus}')\n",
    "\n",
    "# app, win, plots, plots_data = plot_kourosh_activity_style_figure(long_results_obj, long_session, shared_aclus, epoch_idx=5, callout_epoch_IDXs=[0,1,2,3], skip_rendering_callouts=True)\n",
    "# app, win, plots, plots_data = plot_kourosh_activity_style_figure(long_results_obj, long_session, pyramidal_only_shared_aclus, epoch_idx=2, callout_epoch_IDXs=[0,4], skip_rendering_callouts=False)\n",
    "app, win, plots, plots_data = plot_kourosh_activity_style_figure(long_results_obj, long_session, pyramidal_only_all_aclus, epoch_idx=6, callout_epoch_IDXs=[2,4,6], skip_rendering_callouts=False)"
   ]
  },
  {
   "cell_type": "code",
   "execution_count": null,
   "id": "985977d8",
   "metadata": {},
   "outputs": [],
   "source": [
    "\n",
    "# Use the Jupyter Index Thing\n",
    "from pyphoplacecellanalysis.Analysis.Decoder.decoder_result import DiagnosticDistanceMetricFigure\n",
    "\n",
    "## Render the internactive slider that allows selecting the timebin index to debug\n",
    "n_timebins = np.sum(long_results_obj.all_epochs_num_epoch_time_bins)\n",
    "timebinned_neuron_info = long_results_obj.timebinned_neuron_info\n",
    "result = long_results_obj.new_result\n",
    "active_fig_obj, update_function = DiagnosticDistanceMetricFigure.build_interactive_diagnostic_distance_metric_figure(long_results_obj, timebinned_neuron_info, result)\n",
    "active_fig_obj.integer_slider(n_timebins=n_timebins, update_func=update_function)"
   ]
  },
  {
   "cell_type": "code",
   "execution_count": null,
   "id": "3e1aa692",
   "metadata": {},
   "outputs": [],
   "source": [
    "active_fig_obj.export()"
   ]
  },
  {
   "cell_type": "code",
   "execution_count": null,
   "id": "5ea983fe",
   "metadata": {},
   "outputs": [],
   "source": [
    "app, win, self.plots, self.plots_data = plot_kourosh_activity_style_figure(long_results_obj, long_session, pyramidal_only_all_aclus, epoch_idx=11, callout_epoch_IDXs=[0,1,2, 3, 4, 5], skip_rendering_callouts=False)"
   ]
  },
  {
   "attachments": {},
   "cell_type": "markdown",
   "id": "f519e392",
   "metadata": {},
   "source": [
    "# 2023-04-13 Show Surprise "
   ]
  },
  {
   "cell_type": "code",
   "execution_count": null,
   "id": "b417bb4e",
   "metadata": {},
   "outputs": [],
   "source": [
    "import pyphoplacecellanalysis.External.pyqtgraph as pg\n",
    "from pyphoplacecellanalysis.General.Pipeline.Stages.DisplayFunctions.MultiContextComparingDisplayFunctions.MultiContextComparingDisplayFunctions import plot_long_short, plot_long_short_any_values, plot_long_short_expected_vs_observed_firing_rates, _helper_add_long_short_session_indicator_regions\n",
    "# plot_long_short(long_results_obj, short_results_obj)"
   ]
  },
  {
   "cell_type": "code",
   "execution_count": null,
   "id": "feefc5f9",
   "metadata": {},
   "outputs": [],
   "source": [
    "plot_long_short_any_values(long_results_obj=long_results_obj, short_results_obj=short_results_obj)"
   ]
  },
  {
   "cell_type": "code",
   "execution_count": null,
   "id": "f6b8a7ec",
   "metadata": {},
   "outputs": [],
   "source": [
    "plot_long_short_expected_vs_observed_firing_rates(long_results_obj=long_results_obj, short_results_obj=short_results_obj, limit_aclus=[89]) # 4, 89, 28, 97"
   ]
  },
  {
   "cell_type": "code",
   "execution_count": null,
   "id": "1bdf68bc",
   "metadata": {},
   "outputs": [],
   "source": [
    "x_fn = lambda a_results_obj: a_results_obj.all_epochs_decoded_epoch_time_bins_mean[:,0]\n",
    "# y_fn = lambda a_results_obj: a_results_obj.all_epochs_all_cells_one_left_out_posterior_to_scrambled_pf_surprises_mean\n",
    "y_fn = lambda a_results_obj: a_results_obj.all_epochs_all_cells_one_left_out_posterior_to_pf_surprises_mean\n",
    "# y_fn = lambda a_results_obj: a_results_obj.all_epochs_computed_one_left_out_posterior_to_pf_surprises\n",
    "\n",
    "# (time_bins, neurons), (epochs, neurons), (epochs)\n",
    "# all_epochs_computed_one_left_out_posterior_to_pf_surprises, all_epochs_computed_cell_one_left_out_posterior_to_pf_surprises_mean, all_epochs_all_cells_one_left_out_posterior_to_pf_surprises_mean\n",
    "win, plots_tuple, legend = plot_long_short_any_values(long_results_obj, short_results_obj, x=x_fn, y=y_fn, limit_aclus=[20])"
   ]
  },
  {
   "attachments": {},
   "cell_type": "markdown",
   "id": "2fe80559",
   "metadata": {},
   "source": [
    "# 2023-04-13 - Find Good looking epochs:"
   ]
  },
  {
   "cell_type": "code",
   "execution_count": null,
   "id": "5fa9a519",
   "metadata": {},
   "outputs": [],
   "source": [
    "import matplotlib.pyplot as plt\n",
    "%matplotlib qt\n",
    "\n",
    "from pyphocorehelpers.plotting.figure_management import PhoActiveFigureManager2D\n",
    "from pyphoplacecellanalysis.GUI.Qt.Mixins.PaginationMixins import PaginatedFigureController\n",
    "from pyphoplacecellanalysis.Pho2D.stacked_epoch_slices import DecodedEpochSlicesPaginatedFigureController\n",
    "\n",
    "active_identifying_session_ctx = curr_active_pipeline.sess.get_context()\n",
    "_out_pagination_controller = DecodedEpochSlicesPaginatedFigureController.init_from_decoder_data(long_results_obj.active_filter_epochs, long_results_obj.all_included_filter_epochs_decoder_result, \n",
    "\txbin=long_results_obj.original_1D_decoder.xbin, global_pos_df=global_session.position.df, a_name='TestDecodedEpochSlicesPaginationController', active_context=active_identifying_session_ctx,  max_subplots_per_page=10)\n",
    "# _out_pagination_controller"
   ]
  },
  {
   "cell_type": "code",
   "execution_count": null,
   "id": "9d526f51",
   "metadata": {},
   "outputs": [],
   "source": [
    "# .\n",
    "\n",
    "current_page_idx = _out_pagination_controller.ui.mw.ui.paginator_controller_widget.current_page_idx\n",
    "curr_page_data_indicies, curr_page_data_items =  _out_pagination_controller.plots_data.paginator.get_page_data(page_idx=current_page_idx)\n",
    "curr_page_data_indicies"
   ]
  },
  {
   "cell_type": "code",
   "execution_count": null,
   "id": "4a1ace00",
   "metadata": {},
   "outputs": [],
   "source": [
    "from pyphocorehelpers.indexing_helpers import safe_find_index_in_list\n",
    "\n",
    "def _get_current_page_data_indicies():\n",
    "\t\"\"\" captures `ui.mw.ui.paginator_controller_widget.current_page_idx`, `plots_data.paginator` \"\"\"\n",
    "\tcurrent_page_idx = _out_pagination_controller.ui.mw.ui.paginator_controller_widget.current_page_idx\n",
    "\tcurr_page_data_indicies, curr_page_data_items =  _out_pagination_controller.plots_data.paginator.get_page_data(page_idx=current_page_idx)\n",
    "\treturn current_page_idx, curr_page_data_indicies"
   ]
  },
  {
   "cell_type": "code",
   "execution_count": null,
   "id": "e810bced",
   "metadata": {},
   "outputs": [],
   "source": [
    "posterior_containers = filter_epochs_decoder_result.marginal_x_list.copy()\n",
    "\n",
    "[a_marginal_x_list.p_x_given_n for a_marginal_x_list in filter_epochs_decoder_result.marginal_x_list]\n",
    "[a_marginal_x_list.most_likely_positions_1D for a_marginal_x_list in filter_epochs_decoder_result.marginal_x_list]\n",
    "\n",
    "posterior_containers\n",
    "# posterior_containers = np.array(filter_epochs_decoder_result.marginal_x_list.copy())"
   ]
  },
  {
   "cell_type": "code",
   "execution_count": null,
   "id": "079f7a60",
   "metadata": {},
   "outputs": [],
   "source": [
    "included_page_data_indicies, (curr_page_active_filter_epochs, curr_page_epoch_labels, curr_page_time_bin_containers, curr_page_posterior_containers) = epoch_slices_paginator.get_page_data(page_idx=1)\n",
    "# included_page_data_indicies, (curr_page_active_filter_epochs, curr_page_epoch_labels, curr_page_time_bin_containers) = epoch_slices_paginator.get_page_data(page_idx=1)\n",
    "included_page_data_indicies\n",
    "curr_page_posterior_containers[0].p_x_given_n\n"
   ]
  },
  {
   "cell_type": "code",
   "execution_count": null,
   "id": "559ffa23",
   "metadata": {},
   "outputs": [],
   "source": [
    "from pyphoplacecellanalysis.Analysis.Decoder.reconstruction import DecodedFilterEpochsResult\n",
    "from pyphocorehelpers.indexing_helpers import safe_len\n",
    "\n",
    "# {k:safe_len(v) for k,v in filter_epochs_decoder_result.__dict__.items() if (safe_len(v) or 0) > 0}\n",
    "\n",
    "## Only get the items that are num_filter_epochs long:\n",
    "epoch_splittable_items = {k:v for k,v in filter_epochs_decoder_result.__dict__.items() if (safe_len(v) or 0) == filter_epochs_decoder_result.num_filter_epochs}\n",
    "# epoch_splittable_items\n",
    "epoch_splittable_item_names = list(epoch_splittable_items.keys())\n",
    "# print(epoch_splittable_item_names)\n",
    "# ('most_likely_positions_list', 'p_x_given_n_list', 'marginal_x_list', 'marginal_y_list', 'most_likely_position_indicies_list', 'spkcount', 'nbins', 'time_bin_containers', 'time_bin_edges')\n",
    "# epoch_splittable_item_values = [epoch_splittable_items[k] for k in ('most_likely_positions_list', 'p_x_given_n_list', 'marginal_x_list', 'marginal_y_list', 'most_likely_position_indicies_list', 'nbins', 'time_bin_containers', 'time_bin_edges')]\n",
    "epoch_splittable_item_values = [epoch_splittable_items[k] for k in ('epoch_description_list','time_bin_containers','marginal_x_list')]\n",
    "# epoch_splittable_item_values"
   ]
  },
  {
   "cell_type": "code",
   "execution_count": null,
   "id": "4ed0656a",
   "metadata": {},
   "outputs": [],
   "source": [
    "# [23, 27, 29, ]\n",
    "[16, 17, 18, 20, 21, 22, 23, 25, 26, 29]\n"
   ]
  },
  {
   "attachments": {},
   "cell_type": "markdown",
   "id": "7e6526e9",
   "metadata": {},
   "source": [
    "# 2023-03-28 - Playing around with older computations/visualizations from the `_display_short_long_firing_rate_index_comparison` era:"
   ]
  },
  {
   "attachments": {},
   "cell_type": "markdown",
   "id": "5d2e9eb6",
   "metadata": {},
   "source": [
    "\n",
    "2023-04-20 - Encountered issue with the replays in session '2006-6-08_14-26-15' where they are duplicated exactly twice, like the first half of the rows are legitimate entries and the second half are directly repeated versions of the first with the only difference appearing to be the 'epoch_id' column changes from 1 to 2. 'rel_id' column seems incorrect but different for some reason. It must be how the MATLAB script exports the values.\n",
    "\n",
    "Also when I'm looking at only the `short_session.replay` there are many non-2 'epoch_id' values, which is strange. \n",
    "\n",
    "TODO: It could have something to do with Jonathan's code maybe? Because the 'replay_r' and 'replay_p' columns he added are different. SEEMS FALSE. It's this way even without running Jonathan's code, although the values might have been saved later?\n",
    "\tAlso flat_replay_idx jumps from 689 to 1087 at the transition from epoch_id 1 to 2\n",
    "\n",
    "UPDATE: the 'replay_r' and 'replay_p' columns aren't from Joanthan, they're in the original .replay_info.mat that's imported!\n"
   ]
  },
  {
   "attachments": {},
   "cell_type": "markdown",
   "id": "1a13cccd",
   "metadata": {},
   "source": [
    "# Plot long|short firing rate index using 'long_short_fr_indicies_analyses':"
   ]
  },
  {
   "cell_type": "code",
   "execution_count": null,
   "id": "caab469b",
   "metadata": {},
   "outputs": [],
   "source": [
    "# fig_save_parent_path = Path(r'E:\\Dropbox (Personal)\\Active\\Kamran Diba Lab\\Results from 2023-01-20 - LongShort Firing Rate Indicies')\n",
    "## Get the output path (active_session_figures_out_path) for this session (and all of its filtered_contexts as well):\n",
    "active_identifying_session_ctx = curr_active_pipeline.sess.get_context() # 'bapun_RatN_Day4_2019-10-15_11-30-06'\n",
    "figures_parent_out_path = create_daily_programmatic_display_function_testing_folder_if_needed()\n",
    "active_session_figures_out_path = session_context_to_relative_path(figures_parent_out_path, active_identifying_session_ctx)\n",
    "print(f'curr_session_parent_out_path: {active_session_figures_out_path}')\n",
    "active_session_figures_out_path.mkdir(parents=True, exist_ok=True) # make folder if needed\n",
    "curr_active_pipeline.display('_display_short_long_firing_rate_index_comparison', curr_active_pipeline.sess.get_context(), fig_save_parent_path=active_session_figures_out_path)\n",
    "# plt.close() # closes the current figure"
   ]
  },
  {
   "cell_type": "code",
   "execution_count": null,
   "id": "a71511c3",
   "metadata": {},
   "outputs": [],
   "source": [
    "curr_active_pipeline.display('_display_short_long_firing_rate_index_comparison', long_short_fr_indicies_analysis_results['active_context'], fig_save_parent_path=None)\n"
   ]
  },
  {
   "cell_type": "code",
   "execution_count": null,
   "id": "53e5e3dc",
   "metadata": {},
   "outputs": [],
   "source": [
    "import matplotlib\n",
    "# configure backend here\n",
    "# matplotlib.use('Qt5Agg')\n",
    "# backend_qt5agg\n",
    "matplotlib.use('Qt5Agg') # non-interactive backend ## 2022-08-16 - Surprisingly this works to make the matplotlib figures render only to .png file, not appear on the screen!\n",
    "from pyphoplacecellanalysis.General.Pipeline.Stages.DisplayFunctions.MultiContextComparingDisplayFunctions.LongShortTrackComparingDisplayFunctions import _plot_long_short_firing_rate_indicies\n",
    "\n",
    "\n",
    "# Plot long|short firing rate index:\n",
    "long_short_fr_indicies_analysis_results = curr_active_pipeline.global_computation_results.computed_data['long_short_fr_indicies_analysis']\n",
    "x_frs_index, y_frs_index = long_short_fr_indicies_analysis_results['x_frs_index'], long_short_fr_indicies_analysis_results['y_frs_index'] # use the all_results_dict as the computed data value\n",
    "active_context = long_short_fr_indicies_analysis_results['active_context']\n",
    "fig, _temp_full_fig_save_path = _plot_long_short_firing_rate_indicies(x_frs_index, y_frs_index, active_context, fig_save_parent_path=None, debug_print=False)\n",
    "fig.show()"
   ]
  },
  {
   "cell_type": "code",
   "execution_count": null,
   "id": "e8fcb225",
   "metadata": {},
   "outputs": [],
   "source": [
    "ax = plt.gca()\n"
   ]
  },
  {
   "cell_type": "code",
   "execution_count": null,
   "id": "4f7a776e",
   "metadata": {},
   "outputs": [],
   "source": [
    "ax.spines[['top', 'right']].set_visible(True)"
   ]
  },
  {
   "cell_type": "code",
   "execution_count": null,
   "id": "0165676b",
   "metadata": {},
   "outputs": [],
   "source": [
    "# curr_active_pipeline.perform_specific_computation(computation_functions_name_whitelist=['_perform_long_short_firing_rate_analyses'], fail_on_exception=True, debug_print=False) # fail_on_exception MUST be True or error handling is all messed up \n",
    "long_short_fr_indicies_analysis_results = curr_active_pipeline.global_computation_results.computed_data['long_short_fr_indicies_analysis']\n",
    "x_frs_index, y_frs_index = long_short_fr_indicies_analysis_results['x_frs_index'], long_short_fr_indicies_analysis_results['y_frs_index'] # use the all_results_dict as the computed data value\n",
    "active_context = long_short_fr_indicies_analysis_results['active_context']\n",
    "long_short_fr_indicies_analysis_results"
   ]
  },
  {
   "attachments": {},
   "cell_type": "markdown",
   "id": "e0409e08",
   "metadata": {},
   "source": [
    "# Other Programmatic Figures"
   ]
  },
  {
   "cell_type": "code",
   "execution_count": null,
   "id": "3ecc42a2",
   "metadata": {},
   "outputs": [],
   "source": [
    "batch_extended_programmatic_figures(curr_active_pipeline=curr_active_pipeline)"
   ]
  },
  {
   "cell_type": "code",
   "execution_count": null,
   "id": "4289a4c9",
   "metadata": {},
   "outputs": [],
   "source": [
    "batch_programmatic_figures(curr_active_pipeline=curr_active_pipeline)"
   ]
  },
  {
   "cell_type": "code",
   "execution_count": null,
   "id": "5977e9df",
   "metadata": {},
   "outputs": [],
   "source": [
    "# Output the 2D placefields for my presentation\n",
    "from neuropy.core.neuron_identities import PlotStringBrevityModeEnum\n",
    "from neuropy.plotting.ratemaps import BackgroundRenderingOptions"
   ]
  },
  {
   "cell_type": "code",
   "execution_count": null,
   "id": "64cbba87",
   "metadata": {},
   "outputs": [],
   "source": [
    "\n",
    "# '_display_2d_placefield_result_plot_ratemaps_2D'\n",
    "# %matplotlib inline\n",
    "%matplotlib qt\n",
    "# curr_active_pipeline.display('_display_2d_placefield_result_plot_ratemaps_2D', long_epoch_context) # MatplotlibRenderPlots\n"
   ]
  },
  {
   "cell_type": "code",
   "execution_count": null,
   "id": "48029c22",
   "metadata": {},
   "outputs": [],
   "source": [
    "\n",
    "# long_pf2D.plot_occupancy()\n",
    "_out = short_one_step_decoder_2D.pf.plot_ratemaps_2D(included_unit_neuron_IDs=[2,4,5], bg_rendering_mode=BackgroundRenderingOptions.EMPTY, use_special_overlayed_title=False, missing_aclu_string_formatter=None, debug_print=False, brev_mode=PlotStringBrevityModeEnum.NONE)\n",
    "\n",
    "## Single column output: subplots=(None, 9)\n"
   ]
  },
  {
   "cell_type": "code",
   "execution_count": null,
   "id": "14977e80",
   "metadata": {},
   "outputs": [],
   "source": [
    "# %%capture\n",
    "active_display_to_pdf_fn(curr_active_pipeline, curr_display_function_name='_display_1d_placefields', debug_print=False) # 🟢✅ Now seems to be working and saving to PDF!! Still using matplotlib.use('Qt5Agg') mode and plots still appear."
   ]
  },
  {
   "cell_type": "code",
   "execution_count": null,
   "id": "c2686e3f",
   "metadata": {},
   "outputs": [],
   "source": [
    "long_shared_aclus_only_decoder.pf.plot_occupancy()"
   ]
  },
  {
   "cell_type": "code",
   "execution_count": null,
   "id": "37ae6c7f",
   "metadata": {},
   "outputs": [],
   "source": [
    "%matplotlib qt\n",
    "long_one_step_decoder_2D.pf.plot_occupancy()"
   ]
  },
  {
   "cell_type": "code",
   "execution_count": null,
   "id": "a8006610",
   "metadata": {},
   "outputs": [],
   "source": [
    "long_one_step_decoder_2D.pf.plot_ratemaps_2D()"
   ]
  },
  {
   "cell_type": "code",
   "execution_count": null,
   "id": "d49dcc7e",
   "metadata": {},
   "outputs": [],
   "source": [
    "# curr_active_pipeline.display('_display_short_long_pf1D_comparison', active_session_configuration_context=global_epoch_context, single_figure=False)\n",
    "\n",
    "short_one_step_decoder_1D"
   ]
  },
  {
   "cell_type": "code",
   "execution_count": null,
   "id": "402834bd",
   "metadata": {},
   "outputs": [],
   "source": [
    "%matplotlib inline\n",
    "active_identifying_session_ctx = curr_active_pipeline.sess.get_context() # 'bapun_RatN_Day4_2019-10-15_11-30-06'\n",
    "\n",
    "long_single_cell_pfmap_processing_fn = None\n",
    "short_single_cell_pfmap_processing_fn = None\n",
    "\n",
    "# long_single_cell_pfmap_processing_fn = lambda i, aclu, pfmap: 0.5 * pfmap # flip over the y-axis\n",
    "# short_single_cell_pfmap_processing_fn = lambda i, aclu, pfmap: -0.5 * pfmap # flip over the y-axis\n",
    "\n",
    "# pad = 1\n",
    "# long_single_cell_pfmap_processing_fn = lambda i, aclu, pfmap: (0.5 * pfmap) + (0.5*pad) # shift the baseline up by half\n",
    "# short_single_cell_pfmap_processing_fn = lambda i, aclu, pfmap: (-0.5 * pfmap * pad) + (0.5*pad) # flip over the y-axis, shift the baseline down by half\n",
    "\n",
    "# pad = 1\n",
    "# long_single_cell_pfmap_processing_fn = lambda i, aclu, pfmap: (0.5 * pfmap * pad) + (0.5*pad) # shift the baseline up by half\n",
    "# short_single_cell_pfmap_processing_fn = lambda i, aclu, pfmap: (0.5 * pfmap * pad) + (0.5*pad) # flip over the y-axis, shift the baseline down by half\n",
    "# long_single_cell_pfmap_processing_fn = lambda i, aclu, pfmap: (0.5 * pfmap * pad) # shift the baseline up by half\n",
    "# short_single_cell_pfmap_processing_fn = lambda i, aclu, pfmap: (0.5 * pfmap * pad) # flip over the y-axis, shift the baseline down by half\n",
    "\n",
    "\n",
    "# long_single_cell_pfmap_processing_fn = lambda i, aclu, pfmap: (1.0 * pfmap * pad) # shift the baseline up by half\n",
    "# short_single_cell_pfmap_processing_fn = lambda i, aclu, pfmap: (-1.0 * pfmap * pad) + (1.0*pad) # this does not work and results in short being fully filled. I think this is because the fill_between gets reversed since everything is below baseline\n",
    "\n",
    "sort_idx = None\n",
    "\n",
    "out = curr_active_pipeline.display('_display_short_long_pf1D_comparison', active_identifying_session_ctx, single_figure=False, debug_print=False, fignum='Short v Long pf1D Comparison',\n",
    "                                   long_kwargs={'sortby': sort_idx, 'single_cell_pfmap_processing_fn': long_single_cell_pfmap_processing_fn},\n",
    "                                   short_kwargs={'sortby': sort_idx, 'single_cell_pfmap_processing_fn': short_single_cell_pfmap_processing_fn, 'curve_hatch_style': {'hatch':'///', 'edgecolor':'k'}},\n",
    "                                  )\n",
    "\n",
    "# ax = out.axes[0]"
   ]
  },
  {
   "cell_type": "code",
   "execution_count": null,
   "id": "d0cfbb30",
   "metadata": {},
   "outputs": [],
   "source": [
    "sort_idx = np.argsort(product_overlap_scalars_df.prod_overlap.to_numpy())[::-1] # the `[::-1]` term reverses the array, which by defaul is returned in ascending order and we want descending\n",
    "sort_idx"
   ]
  },
  {
   "cell_type": "code",
   "execution_count": null,
   "id": "fe831b56",
   "metadata": {},
   "outputs": [],
   "source": [
    "\n",
    "\n",
    "curr_ratemap = long_one_step_decoder_1D.pf.ratemap\n",
    "curr_ratemap.get_sort_indicies()\n",
    "# .pf1D.ratemap"
   ]
  },
  {
   "cell_type": "code",
   "execution_count": null,
   "id": "23228854",
   "metadata": {},
   "outputs": [],
   "source": [
    "# Create `master_dock_win` - centralized plot output window to collect individual figures/controls in (2022-08-18)\n",
    "\n",
    "active_identifying_session_ctx = curr_active_pipeline.filtered_contexts['maze']\n",
    "display_output = curr_active_pipeline.display('_display_context_nested_docks', active_identifying_session_ctx, enable_gui=False, debug_print=True) # returns {'master_dock_win': master_dock_win, 'app': app, 'out_items': out_items}\n",
    "master_dock_win = display_output['master_dock_win']\n",
    "app = display_output['app']\n",
    "out_items = display_output['out_items']\n",
    "\n",
    "# def _get_curr_figure_format_config():\n",
    "# \t\"\"\" Aims to fetch the current figure_format_config and context from the figure_format_config widget:    \n",
    "# \tImplicitly captures: `out_items`, `active_config_name`, `active_identifying_filtered_session_ctx` \n",
    "# \t\"\"\"\n",
    "# \t## Get the figure_format_config from the figure_format_config widget:\n",
    "# \t# Fetch the context from the GUI:\n",
    "# \t_curr_gui_session_ctx, _curr_gui_out_display_items = out_items[active_config_name]\n",
    "# \t_curr_gui_figure_format_config_widget = _curr_gui_out_display_items[active_identifying_filtered_session_ctx.adding_context('display_fn', display_fn_name='figure_format_config_widget')] # [0] is seemingly not needed to unpack the tuple\n",
    "# \tif _curr_gui_figure_format_config_widget is not None:\n",
    "# \t\t# has GUI for config\n",
    "# \t\tfigure_format_config = _curr_gui_figure_format_config_widget.figure_format_config\n",
    "# \telse:\n",
    "# \t\t# has non-GUI provider of figure_format_config\n",
    "# \t\tfigure_format_config = _curr_gui_figure_format_config_widget.figure_format_config\n",
    "\n",
    "# \tif debug_print:\n",
    "# \t\tprint(f'recovered gui figure_format_config: {figure_format_config}')\n",
    "\n",
    "# \treturn figure_format_config\n",
    "\n",
    "# figure_format_config = _get_curr_figure_format_config()"
   ]
  },
  {
   "attachments": {},
   "cell_type": "markdown",
   "id": "b1e8629a",
   "metadata": {},
   "source": [
    "# 2023-04-27 - Idea: Candidate Replay \"Quality\" Metric\n",
    "Observed that I visually distinguish \"good\" replays from bad ones based on their mostly-monotonically increasing nature.\n",
    "\n",
    "#### They don't have to:\n",
    "\tSpan the whole track\n",
    "\tStart or end at an end-cap\n",
    "\tIncrease linearly\n",
    "\n",
    "#### The algorithm must:\n",
    "\ttolerate ocasional jumps in an otherwise linear sequence\n",
    "\tallow sequences to \"start\" only halfway through. They should extract out the coherent sequence\n",
    "\n",
    "#### Ideas:\n",
    "\t- just a linear fit\n",
    "\t- a monotonicity check using some sort of cumulative sum over the differences in position.\n",
    "\t- \"radon transform\"?"
   ]
  },
  {
   "attachments": {},
   "cell_type": "markdown",
   "id": "de511aa5",
   "metadata": {},
   "source": [
    "# 2023-05-02 - Session Validation Check Info\n",
    "Generate info about the number of laps detected, the duration, the number of cells, the number of replays, etc for the active session so that it can be ensured that there wasn't an error that is messing up the analysis."
   ]
  },
  {
   "cell_type": "code",
   "execution_count": null,
   "id": "15697281",
   "metadata": {},
   "outputs": [],
   "source": [
    "curr_active_pipeline.active_sess_config"
   ]
  },
  {
   "attachments": {},
   "cell_type": "markdown",
   "id": "d5045805",
   "metadata": {},
   "source": [
    "# Pipeline Comprehensive:\n"
   ]
  },
  {
   "cell_type": "code",
   "execution_count": null,
   "id": "8c49561b",
   "metadata": {},
   "outputs": [],
   "source": [
    "## Top level objects:\n",
    "curr_active_pipeline.active_sess_config\n",
    "curr_active_pipeline.sess\n",
    "\n",
    "\n",
    "\n",
    "# Function of config names or contexts:\n",
    "curr_active_pipeline.filtered_contexts\n",
    "\n",
    "curr_active_pipeline.filtered_sessions\n",
    "curr_active_pipeline.active_configs # each is a `InteractivePlaceCellConfig` type object\n",
    "\tcurr_active_pipeline._stage.active_configs['maze1']\n",
    "\n",
    "\n",
    "\n",
    "curr_active_pipeline.computation_results\n",
    "\n",
    "\n",
    "curr_active_pipeline.global_computation_results\n",
    "\n"
   ]
  },
  {
   "cell_type": "code",
   "execution_count": null,
   "id": "05560f86",
   "metadata": {},
   "outputs": [],
   "source": [
    "from neuropy.core.epoch import EpochsAccessor, Epoch\n",
    "\n",
    "sess = curr_active_pipeline.sess\n",
    "# sess.replay.epochs.debug_print_info('replays')\n",
    "\n",
    "\n",
    "def debug_print_session_epochs_info(sess, session_name:str):\n",
    "\t\"\"\" \n",
    "\n",
    "\tExample:\n",
    "\t\tdebug_print_session_epochs_info(curr_active_pipeline.sess, 'sess')\n",
    "\t\tdebug_print_session_epochs_info(long_session, 'long_session')\n",
    "\t\tdebug_print_session_epochs_info(short_session, 'short_session')\n",
    "\t\tdebug_print_session_epochs_info(global_session, 'global_session')\n",
    "\n",
    "\tsess:\n",
    "\t\tnum replays: 1729\n",
    "\t\tnum laps: 80\n",
    "\tlong_session:\n",
    "\t\tnum replays: 661\n",
    "\t\tnum laps: 40\n",
    "\tshort_session:\n",
    "\t\tnum replays: 1068\n",
    "\t\tnum laps: 40\n",
    "\tglobal_session:\n",
    "\t\tnum replays: 1729\n",
    "\t\tnum laps: 80\n",
    "\t\t\n",
    "\t\n",
    "\t\"\"\"\t\n",
    "\n",
    "\treplays_df = sess.replay\n",
    "\tlaps_df = sess.laps.as_epoch_obj().to_dataframe()\n",
    "\tprint(f'{session_name}:')\n",
    "\tprint(f'\\tnum replays: {replays_df.epochs.n_epochs}')\n",
    "\tprint(f'\\tnum laps: {laps_df.epochs.n_epochs}')\n",
    "\n",
    "# (long_one_step_decoder_1D, short_one_step_decoder_1D), (long_one_step_decoder_2D, short_one_step_decoder_2D) = compute_short_long_constrained_decoders(curr_active_pipeline, recalculate_anyway=True)\n",
    "long_epoch_name, short_epoch_name, global_epoch_name = curr_active_pipeline.find_LongShortGlobal_epoch_names()\n",
    "long_epoch_context, short_epoch_context, global_epoch_context = [curr_active_pipeline.filtered_contexts[a_name] for a_name in (long_epoch_name, short_epoch_name, global_epoch_name)]\n",
    "long_session, short_session, global_session = [curr_active_pipeline.filtered_sessions[an_epoch_name] for an_epoch_name in [long_epoch_name, short_epoch_name, global_epoch_name]]\n",
    "# long_results, short_results, global_results = [curr_active_pipeline.computation_results[an_epoch_name]['computed_data'] for an_epoch_name in [long_epoch_name, short_epoch_name, global_epoch_name]]\n",
    "# long_pf1D, short_pf1D, global_pf1D = long_results.pf1D, short_results.pf1D, global_results.pf1D\n",
    "# long_pf2D, short_pf2D, global_pf2D = long_results.pf2D, short_results.pf2D, global_results.pf2D\n",
    "# decoding_time_bin_size = long_one_step_decoder_1D.time_bin_size # 1.0/30.0 # 0.03333333333333333\n",
    "\n",
    "\n",
    "\n",
    "debug_print_session_epochs_info(curr_active_pipeline.sess, 'sess')\n",
    "debug_print_session_epochs_info(long_session, 'long_session')\n",
    "debug_print_session_epochs_info(short_session, 'short_session')\n",
    "debug_print_session_epochs_info(global_session, 'global_session')\n",
    "\n",
    "\n",
    "# epoch_df = sess.laps.to_dataframe()\n",
    "\n",
    "# epoch_df.epochs.n_epochs\n",
    "\n",
    "\n",
    "# epoch_name = 'laps'\n",
    "# num_epochs = epoch_df.epochs.n_epochs # np.shape(epoch_df)[0]\n",
    "# print(f'num {epoch_name}: {num_epochs}')\n",
    "\n",
    "# sess.replay.to_dataframe()\n",
    "\n",
    "# def debug_print_session_epochs_info(num_updated_total_items: int, num_original_total_items: int, item_label=None, subsession_name=None):\n",
    "#     print('{}/{} total {} remain in subsession {}'.format(num_updated_total_items, num_original_total_items, (item_label or \"items\"), (subsession_name or \"\")))\n",
    "\n",
    "# debug_print_subsession_epochs_differences(num_updated_total_items=len(long_session.replay), num_original_total_items=len(long_session.replay_backup), item_label='replays', subsession_name='\"long\"')\n",
    "# debug_print_subsession_epochs_differences(num_updated_total_items=len(short_session.replay), num_original_total_items=len(short_session.replay_backup), item_label='replays', subsession_name='\"short\"')\n",
    "\n"
   ]
  },
  {
   "cell_type": "code",
   "execution_count": null,
   "id": "ed69eafd",
   "metadata": {},
   "outputs": [],
   "source": [
    "\n",
    "def debug_print_subsession_epochs_differences(num_updated_total_items: int, num_original_total_items: int, item_label=None, subsession_name=None):\n",
    "    print('{}/{} total {} remain in subsession {}'.format(num_updated_total_items, num_original_total_items, (item_label or \"items\"), (subsession_name or \"\")))\n",
    "\n",
    "debug_print_subsession_epochs_differences(num_updated_total_items=len(long_session.replay), num_original_total_items=len(long_session.replay_backup), item_label='replays', subsession_name='\"long\"')\n",
    "debug_print_subsession_epochs_differences(num_updated_total_items=len(short_session.replay), num_original_total_items=len(short_session.replay_backup), item_label='replays', subsession_name='\"short\"')\n"
   ]
  },
  {
   "cell_type": "code",
   "execution_count": null,
   "id": "c5e67e5a",
   "metadata": {},
   "outputs": [],
   "source": [
    "debug_print_subsession_epochs_differences(num_updated_total_items=len(long_session.laps), num_original_total_items=len(long_session.replay_backup), item_label='laps', subsession_name='\"long\"')\n",
    "debug_print_subsession_epochs_differences(num_updated_total_items=len(short_session.laps), num_original_total_items=len(short_session.replay_backup), item_label='laps', subsession_name='\"short\"')\n"
   ]
  },
  {
   "cell_type": "code",
   "execution_count": null,
   "id": "56308516",
   "metadata": {},
   "outputs": [],
   "source": [
    "# Session Comprehensive:\n",
    "sess = curr_active_pipeline.sess\n",
    "\n",
    "sess.\n",
    "# sess.panel_dataframes_overview()\n",
    "\n",
    "## Visual:\n",
    "# SyntaxError('invalid syntax', ('<string>', 1, 1, '<bound method DataSession.panel_dataframes_overview of DataSession(2006-6-07_16-40-19.xml)>'))\n",
    "# pn.extension(comms='ipywidgets')"
   ]
  },
  {
   "cell_type": "code",
   "execution_count": null,
   "id": "f714aa79",
   "metadata": {},
   "outputs": [],
   "source": [
    "before_num_rows = self.n_epochs        \n",
    "filtered_epochs = convert_PortionInterval_to_epochs_df(_convert_start_end_tuples_list_to_PortionInterval(zip(self.starts, self.stops)))\n",
    "after_num_rows = np.shape(filtered_epochs)[0]\n",
    "changed_num_rows = after_num_rows - before_num_rows\n",
    "print(f'Dataframe Changed from {before_num_rows} -> {after_num_rows} ({changed_num_rows = })')"
   ]
  },
  {
   "cell_type": "code",
   "execution_count": null,
   "id": "c8caf529",
   "metadata": {},
   "outputs": [],
   "source": [
    "from neuropy.utils.debug_helpers import debug_print_placefield, debug_print_spike_counts, debug_print_subsession_neuron_differences, print_aligned_columns\n",
    "from neuropy.utils.misc import print_seconds_human_readable\n",
    "\n",
    "debug_print_spike_counts(global_session)"
   ]
  },
  {
   "cell_type": "code",
   "execution_count": null,
   "id": "80205471",
   "metadata": {},
   "outputs": [],
   "source": [
    "from pyphoplacecellanalysis.General.Mixins.CrossComputationComparisonHelpers import _compare_computation_results\n",
    "# curr_active_pipeline.computation_results\n",
    "# pf_neurons_diff = _compare_computation_results(curr_active_pipeline.computation_results.maze1_PYR, curr_active_pipeline.computation_results.maze2_PYR)\n",
    "pf_neurons_diff = _compare_computation_results(long_results, short_results)\n",
    "pf_neurons_diff"
   ]
  },
  {
   "cell_type": "code",
   "execution_count": null,
   "id": "0000ecb5",
   "metadata": {},
   "outputs": [],
   "source": [
    "print(pf_neurons_diff)"
   ]
  },
  {
   "cell_type": "code",
   "execution_count": null,
   "id": "8693c951",
   "metadata": {},
   "outputs": [],
   "source": [
    "\n",
    "from neuropy.analyses.laps import estimate_session_laps\n",
    "\n",
    "curr_laps = global_session.laps\n",
    "curr_laps.to_dataframe()"
   ]
  },
  {
   "attachments": {},
   "cell_type": "markdown",
   "id": "7125b9f7",
   "metadata": {},
   "source": [
    "### Plotting Validations"
   ]
  },
  {
   "cell_type": "code",
   "execution_count": null,
   "id": "0b942014",
   "metadata": {},
   "outputs": [],
   "source": [
    "%matplotlib qt\n",
    "short_one_step_decoder_1D.pf.plot_ratemaps_1D()"
   ]
  },
  {
   "cell_type": "code",
   "execution_count": null,
   "id": "8bfe7eb9",
   "metadata": {},
   "outputs": [],
   "source": [
    "short_results.pf1D_Decoder.pf.plot_ratemaps_1D()"
   ]
  },
  {
   "cell_type": "code",
   "execution_count": null,
   "id": "2bed5960",
   "metadata": {},
   "outputs": [],
   "source": [
    "short_results.pf2D_Decoder.pf.plot_ratemaps_2D()\n",
    "short_one_step_decoder_2D.pf.plot_ratemaps_2D()"
   ]
  },
  {
   "cell_type": "code",
   "execution_count": null,
   "id": "a7ea99e3",
   "metadata": {},
   "outputs": [],
   "source": [
    "%matplotlib qt\n",
    "long_session.plot_laps_2d()"
   ]
  },
  {
   "cell_type": "code",
   "execution_count": null,
   "id": "a0d18bc8",
   "metadata": {},
   "outputs": [],
   "source": [
    "from pyphoplacecellanalysis.PhoPositionalData.plotting.laps import plot_laps_2d\n",
    "\n",
    "%matplotlib qt\n",
    "fig, out_axes_list = plot_laps_2d(global_session, legacy_plotting_mode=False)\n",
    "out_axes_list[0].set_title('New Pho Position Thresholding Estimated Laps')\n",
    "fig.canvas.manager.set_window_title('New Pho Position Thresholding Estimated Laps')"
   ]
  },
  {
   "cell_type": "code",
   "execution_count": null,
   "id": "cae2e3a2",
   "metadata": {},
   "outputs": [],
   "source": [
    "## Laps \n",
    "from pyphoplacecellanalysis.GUI.PyVista.InteractivePlotter.Mixins.LapsVisualizationMixin import LapsVisualizationMixin\n",
    "\n",
    "curr_position_df, lap_specific_position_dfs = LapsVisualizationMixin._compute_laps_specific_position_dfs(curr_active_pipeline.sess)\n",
    "lap_specific_position_dfs = [curr_position_df.groupby('lap').get_group(i)[['t','x','y','lin_pos']] for i in curr_active_pipeline.sess.laps.lap_id] # dataframes split for each ID:\n",
    "laps_position_times_list = [np.squeeze(lap_pos_df[['t']].to_numpy()) for lap_pos_df in lap_specific_position_dfs]\n",
    "laps_position_traces_list = [lap_pos_df[['x','y']].to_numpy().T for lap_pos_df in lap_specific_position_dfs]\n",
    "## Build Epochs:\n",
    "epochs = curr_active_pipeline.sess.laps.to_dataframe()\n",
    "epoch_slices = epochs[['start', 'stop']].to_numpy()\n",
    "epoch_description_list = [f'lap {epoch_tuple.lap_id} (maze: {epoch_tuple.maze_id}, direction: {epoch_tuple.lap_dir})' for epoch_tuple in epochs[['lap_id','maze_id','lap_dir']].itertuples()]\n",
    "# print(f'epoch_description_list: {epoch_description_list}') # epoch_descriptions: ['lap 41 (maze: 2, direction: 1)', 'lap 42 (maze: 2, direction: 0)', 'lap 43 (maze: 2, direction: 1)', 'lap 44 (maze: 2, direction: 0)', 'lap 45 (maze: 2, direction: 1)', 'lap 46 (maze: 2, direction: 0)', 'lap 47 (maze: 2, direction: 1)', 'lap 48 (maze: 2, direction: 0)', 'lap 49 (maze: 2, direction: 1)', 'lap 50 (maze: 2, direction: 0)', 'lap 51 (maze: 2, direction: 1)', 'lap 52 (maze: 2, direction: 0)', 'lap 53 (maze: 2, direction: 1)', 'lap 54 (maze: 2, direction: 0)', 'lap 55 (maze: 2, direction: 1)', 'lap 56 (maze: 2, direction: 0)', 'lap 57 (maze: 2, direction: 1)', 'lap 58 (maze: 2, direction: 0)', 'lap 59 (maze: 2, direction: 1)', 'lap 60 (maze: 2, direction: 0)', 'lap 61 (maze: 2, direction: 1)', 'lap 62 (maze: 2, direction: 0)', 'lap 63 (maze: 2, direction: 1)', 'lap 64 (maze: 2, direction: 0)', 'lap 65 (maze: 2, direction: 1)', 'lap 66 (maze: 2, direction: 0)', 'lap 67 (maze: 2, direction: 1)', 'lap 68 (maze: 2, direction: 0)', 'lap 69 (maze: 2, direction: 1)', 'lap 70 (maze: 2, direction: 0)', 'lap 71 (maze: 2, direction: 1)', 'lap 72 (maze: 2, direction: 0)', 'lap 73 (maze: 2, direction: 1)', 'lap 74 (maze: 2, direction: 0)', 'lap 75 (maze: 2, direction: 1)', 'lap 76 (maze: 2, direction: 0)', 'lap 77 (maze: 2, direction: 1)', 'lap 78 (maze: 2, direction: 0)', 'lap 79 (maze: 2, direction: 1)']\n",
    "# -"
   ]
  }
 ],
 "metadata": {
  "kernelspec": {
   "display_name": "spike3d-poetry",
   "language": "python",
   "name": "spike3d-poetry"
  },
  "language_info": {
   "codemirror_mode": {
    "name": "ipython",
    "version": 3
   },
   "file_extension": ".py",
   "mimetype": "text/x-python",
   "name": "python",
   "nbconvert_exporter": "python",
   "pygments_lexer": "ipython3",
   "version": "3.9.13"
  },
  "toc-showmarkdowntxt": false,
  "toc-showtags": false
 },
 "nbformat": 4,
 "nbformat_minor": 5
}
