{
 "cells": [
  {
   "cell_type": "code",
   "execution_count": 1,
   "id": "initial_id",
   "metadata": {
    "ExecuteTime": {
     "end_time": "2023-11-16T23:21:20.608442900Z",
     "start_time": "2023-11-16T23:21:20.217442100Z"
    },
    "collapsed": true,
    "notebookRunGroups": {
     "groupValue": "1"
    }
   },
   "outputs": [
    {
     "name": "stdout",
     "output_type": "stream",
     "text": [
      "Exception reporting mode: Verbose\n",
      "Automatic pdb calling has been turned OFF\n",
      "build_module_logger(module_name=\"Spike3D.pipeline\"):\n",
      "\t Module logger com.PhoHale.Spike3D.pipeline has file logging enabled and will log to EXTERNAL\\TESTING\\Logging\\debug_com.PhoHale.Spike3D.pipeline.log\n"
     ]
    }
   ],
   "source": [
    "%config IPCompleter.use_jedi = False\n",
    "%xmode Verbose\n",
    "%pdb off\n",
    "%load_ext viztracer\n",
    "from viztracer import VizTracer\n",
    "%load_ext autoreload\n",
    "%autoreload 3\n",
    "import sys\n",
    "from typing import Dict, List, Tuple, Optional\n",
    "from pathlib import Path\n",
    "\n",
    "# required to enable non-blocking interaction:\n",
    "%gui qt5\n",
    "\n",
    "from copy import deepcopy\n",
    "from numba import jit\n",
    "import numpy as np\n",
    "import pandas as pd\n",
    "pd.options.mode.chained_assignment = None  # default='warn'\n",
    "# pd.options.mode.dtype_backend = 'pyarrow' # use new pyarrow backend instead of numpy\n",
    "from attrs import define, field, fields, Factory\n",
    "import tables as tb\n",
    "from datetime import datetime, timedelta\n",
    "\n",
    "# Pho's Formatting Preferences\n",
    "from pyphocorehelpers.preferences_helpers import set_pho_preferences, set_pho_preferences_concise, set_pho_preferences_verbose\n",
    "set_pho_preferences_concise()\n",
    "from pyphocorehelpers.print_helpers import get_now_time_str, get_now_day_str\n",
    "\n",
    "## Pho's Custom Libraries:\n",
    "from pyphocorehelpers.Filesystem.path_helpers import find_first_extant_path\n",
    "from pyphocorehelpers.Filesystem.open_in_system_file_manager import reveal_in_system_file_manager\n",
    "\n",
    "# NeuroPy (Diba Lab Python Repo) Loading\n",
    "# from neuropy import core\n",
    "from neuropy.analyses.placefields import PlacefieldComputationParameters\n",
    "from neuropy.core.epoch import NamedTimerange, Epoch\n",
    "from neuropy.core.ratemap import Ratemap\n",
    "from neuropy.core.session.Formats.BaseDataSessionFormats import DataSessionFormatRegistryHolder\n",
    "from neuropy.core.session.Formats.Specific.KDibaOldDataSessionFormat import KDibaOldDataSessionFormatRegisteredClass\n",
    "from neuropy.utils.matplotlib_helpers import matplotlib_file_only, matplotlib_configuration, matplotlib_configuration_update\n",
    "from neuropy.core.neuron_identities import NeuronIdentityTable, neuronTypesList, neuronTypesEnum\n",
    "from neuropy.utils.mixins.AttrsClassHelpers import AttrsBasedClassHelperMixin, serialized_field, serialized_attribute_field, non_serialized_field, custom_define\n",
    "from neuropy.utils.mixins.HDF5_representable import HDF_DeserializationMixin, post_deserialize, HDF_SerializationMixin, HDFMixin, HDF_Converter\n",
    "\n",
    "## For computation parameters:\n",
    "from neuropy.analyses.placefields import PlacefieldComputationParameters\n",
    "from neuropy.utils.dynamic_container import DynamicContainer\n",
    "from neuropy.utils.result_context import IdentifyingContext\n",
    "from neuropy.core.session.Formats.BaseDataSessionFormats import find_local_session_paths\n",
    "from neuropy.core.neurons import NeuronType\n",
    "from neuropy.core.user_annotations import UserAnnotationsManager\n",
    "from neuropy.core.position import Position\n",
    "from neuropy.core.session.dataSession import DataSession\n",
    "from neuropy.analyses.time_dependent_placefields import PfND_TimeDependent, PlacefieldSnapshot\n",
    "from neuropy.utils.debug_helpers import debug_print_placefield, debug_print_subsession_neuron_differences, debug_print_ratemap, debug_print_spike_counts, debug_plot_2d_binning, print_aligned_columns\n",
    "from neuropy.utils.debug_helpers import parameter_sweeps, _plot_parameter_sweep, compare_placefields_info\n",
    "from neuropy.utils.indexing_helpers import union_of_arrays, intersection_of_arrays, find_desired_sort_indicies, paired_incremental_sorting\n",
    "\n",
    "from pyphocorehelpers.print_helpers import print_object_memory_usage, print_dataframe_memory_usage, print_value_overview_only, DocumentationFilePrinter, print_keys_if_possible, generate_html_string, CapturedException, document_active_variables\n",
    "from pyphocorehelpers.general_helpers import GeneratedClassDefinitionType, CodeConversion, inspect_callable_arguments\n",
    "\n",
    "## Pho Programming Helpers:\n",
    "import inspect\n",
    "from pyphocorehelpers.general_helpers import inspect_callable_arguments, get_arguments_as_optional_dict, GeneratedClassDefinitionType, CodeConversion\n",
    "from pyphocorehelpers.print_helpers import DocumentationFilePrinter, TypePrintMode, print_keys_if_possible, debug_dump_object_member_shapes, print_value_overview_only, document_active_variables, CapturedException\n",
    "from pyphocorehelpers.programming_helpers import IPythonHelpers, PythonDictionaryDefinitionFormat, MemoryManagement\n",
    "from pyphocorehelpers.gui.Qt.TopLevelWindowHelper import TopLevelWindowHelper, print_widget_hierarchy\n",
    "\n",
    "# pyPhoPlaceCellAnalysis:\n",
    "from pyphoplacecellanalysis.General.Pipeline.NeuropyPipeline import NeuropyPipeline # get_neuron_identities\n",
    "from pyphoplacecellanalysis.General.Mixins.ExportHelpers import export_pyqtgraph_plot\n",
    "from pyphoplacecellanalysis.General.Batch.NonInteractiveProcessing import batch_load_session, batch_extended_computations, batch_extended_programmatic_figures\n",
    "from pyphoplacecellanalysis.General.Pipeline.NeuropyPipeline import PipelineSavingScheme\n",
    "\n",
    "import pyphoplacecellanalysis.External.pyqtgraph as pg\n",
    "\n",
    "from pyphoplacecellanalysis.General.Batch.NonInteractiveProcessing import batch_perform_all_plots\n",
    "from pyphoplacecellanalysis.General.Pipeline.Stages.ComputationFunctions.MultiContextComputationFunctions.LongShortTrackComputations import JonathanFiringRateAnalysisResult\n",
    "from pyphoplacecellanalysis.General.Mixins.CrossComputationComparisonHelpers import _find_any_context_neurons\n",
    "from pyphoplacecellanalysis.General.Batch.runBatch import BatchSessionCompletionHandler # for `post_compute_validate(...)`\n",
    "from pyphoplacecellanalysis.Analysis.Decoder.reconstruction import BasePositionDecoder\n",
    "from pyphoplacecellanalysis.SpecificResults.AcrossSessionResults import AcrossSessionsResults\n",
    "from pyphoplacecellanalysis.General.Pipeline.Stages.ComputationFunctions.SpikeAnalysis import SpikeRateTrends # for `_perform_long_short_instantaneous_spike_rate_groups_analysis`\n",
    "from pyphoplacecellanalysis.General.Pipeline.Stages.ComputationFunctions.MultiContextComputationFunctions.LongShortTrackComputations import SingleBarResult, InstantaneousSpikeRateGroupsComputation, TruncationCheckingResults # for `BatchSessionCompletionHandler`, `AcrossSessionsAggregator`\n",
    "from pyphoplacecellanalysis.General.Mixins.CrossComputationComparisonHelpers import SplitPartitionMembership\n",
    "from pyphoplacecellanalysis.General.Pipeline.Stages.ComputationFunctions.MultiContextComputationFunctions.DirectionalPlacefieldGlobalComputationFunctions import DirectionalPlacefieldGlobalComputationFunctions, DirectionalLapsResult, TrackTemplates\n",
    "from pyphoplacecellanalysis.General.Pipeline.Stages.ComputationFunctions.MultiContextComputationFunctions.RankOrderComputations import RankOrderGlobalComputationFunctions\n",
    "from pyphoplacecellanalysis.General.Pipeline.Stages.ComputationFunctions.MultiContextComputationFunctions.DirectionalPlacefieldGlobalComputationFunctions import TrackTemplates\n",
    "from pyphoplacecellanalysis.General.Pipeline.Stages.ComputationFunctions.MultiContextComputationFunctions.RankOrderComputations import RankOrderComputationsContainer, RankOrderResult\n",
    "\n",
    "\n",
    "# Plotting\n",
    "# import pylustrator # customization of figures\n",
    "import matplotlib\n",
    "import matplotlib as mpl\n",
    "import matplotlib.pyplot as plt\n",
    "_bak_rcParams = mpl.rcParams.copy()\n",
    "\n",
    "matplotlib.use('Qt5Agg')\n",
    "# %matplotlib inline\n",
    "\n",
    "# _restore_previous_matplotlib_settings_callback = matplotlib_configuration_update(is_interactive=True, backend='Qt5Agg')\n",
    "_restore_previous_matplotlib_settings_callback = matplotlib_configuration_update(is_interactive=True, backend='Qt5Agg')\n",
    "\n",
    "\n",
    "# import pylustrator # call `pylustrator.start()` before creating your first figure in code.\n",
    "from pyphoplacecellanalysis.Pho2D.matplotlib.visualize_heatmap import visualize_heatmap\n",
    "from pyphoplacecellanalysis.Pho2D.matplotlib.visualize_heatmap import visualize_heatmap_pyqtgraph # used in `plot_kourosh_activity_style_figure`\n",
    "from pyphoplacecellanalysis.General.Pipeline.Stages.DisplayFunctions.SpikeRasters import plot_multiple_raster_plot, plot_raster_plot\n",
    "from pyphoplacecellanalysis.General.Mixins.DataSeriesColorHelpers import UnitColoringMode, DataSeriesColorHelpers\n",
    "from pyphoplacecellanalysis.General.Pipeline.Stages.DisplayFunctions.SpikeRasters import _build_default_tick, build_scatter_plot_kwargs\n",
    "from pyphoplacecellanalysis.GUI.PyQtPlot.Widgets.Mixins.Render2DScrollWindowPlot import Render2DScrollWindowPlotMixin, ScatterItemData\n",
    "from pyphoplacecellanalysis.General.Batch.NonInteractiveProcessing import batch_extended_programmatic_figures, batch_programmatic_figures\n",
    "from pyphoplacecellanalysis.General.Pipeline.Stages.ComputationFunctions.SpikeAnalysis import SpikeRateTrends\n",
    "from pyphoplacecellanalysis.General.Mixins.SpikesRenderingBaseMixin import SpikeEmphasisState\n",
    "\n",
    "from pyphoplacecellanalysis.SpecificResults.PhoDiba2023Paper import PAPER_FIGURE_figure_1_add_replay_epoch_rasters, PAPER_FIGURE_figure_1_full, PAPER_FIGURE_figure_3, main_complete_figure_generations\n",
    "from pyphoplacecellanalysis.SpecificResults.fourthYearPresentation import *\n",
    "\n",
    "# Jupyter Widget Interactive\n",
    "import ipywidgets as widgets\n",
    "from IPython.display import display, HTML\n",
    "from pyphocorehelpers.Filesystem.open_in_system_file_manager import reveal_in_system_file_manager\n",
    "from pyphoplacecellanalysis.GUI.IPyWidgets.pipeline_ipywidgets import interactive_pipeline_widget, interactive_pipeline_files\n",
    "from pyphocorehelpers.gui.Jupyter.simple_widgets import fullwidth_path_widget, render_colors\n",
    "\n",
    "global_data_root_parent_path = find_first_extant_path([Path(r'W:\\Data'), Path(r'/media/MAX/Data'), Path(r'/home/halechr/FastData'), Path(r'/Volumes/MoverNew/data'), Path(r'/home/halechr/turbo/Data'), Path(r'/home/halechr/cloud/turbo/Data')])\n",
    "assert global_data_root_parent_path.exists(), f\"global_data_root_parent_path: {global_data_root_parent_path} does not exist! Is the right computer's config commented out above?\""
   ]
  },
  {
   "cell_type": "markdown",
   "id": "30db844b",
   "metadata": {},
   "source": [
    "# Load Pipeline"
   ]
  },
  {
   "cell_type": "code",
   "execution_count": 2,
   "id": "233d2b8a",
   "metadata": {
    "ExecuteTime": {
     "end_time": "2023-11-16T23:21:36.073368600Z",
     "start_time": "2023-11-16T23:21:27.575793Z"
    },
    "notebookRunGroups": {
     "groupValue": "1"
    }
   },
   "outputs": [
    {
     "name": "stdout",
     "output_type": "stream",
     "text": [
      "basedir: W:\\Data\\KDIBA\\gor01\\one\\2006-6-09_1-22-43\n",
      "Loading loaded session pickle file results : W:\\Data\\KDIBA\\gor01\\one\\2006-6-09_1-22-43\\loadedSessPickle.pkl... "
     ]
    },
    {
     "name": "stderr",
     "output_type": "stream",
     "text": [
      "INFO:com.PhoHale.Spike3D.pipeline:NeuropyPipeline.__setstate__(state=\"{'pipeline_name': 'kdiba_pipeline', 'session_data_type': 'kdiba', '_stage': <pyphoplacecellanalysis.General.Pipeline.Stages.Display.DisplayPipelineStage object at 0x0000020766A9A3A0>}\")\n",
      "INFO:com.PhoHale.Spike3D.pipeline:select_filters(...) with: []\n",
      "INFO:com.PhoHale.Spike3D.pipeline:Performing perform_action_for_all_contexts with action EvaluationActions.EVALUATE_COMPUTATIONS on filtered_session with filter named \"maze1_odd\"...\n",
      "INFO:com.PhoHale.Spike3D.pipeline:WARNING: skipping computation because overwrite_extant_results=False and active_computation_results[maze1_odd] already exists and is non-None\n",
      "INFO:com.PhoHale.Spike3D.pipeline:\t TODO: this will prevent recomputation even when the excludelist/includelist or computation function definitions change. Rework so that this is smarter.\n",
      "INFO:com.PhoHale.Spike3D.pipeline:Performing perform_action_for_all_contexts with action EvaluationActions.EVALUATE_COMPUTATIONS on filtered_session with filter named \"maze2_odd\"...\n",
      "INFO:com.PhoHale.Spike3D.pipeline:WARNING: skipping computation because overwrite_extant_results=False and active_computation_results[maze2_odd] already exists and is non-None\n",
      "INFO:com.PhoHale.Spike3D.pipeline:\t TODO: this will prevent recomputation even when the excludelist/includelist or computation function definitions change. Rework so that this is smarter.\n",
      "INFO:com.PhoHale.Spike3D.pipeline:Performing perform_action_for_all_contexts with action EvaluationActions.EVALUATE_COMPUTATIONS on filtered_session with filter named \"maze_odd\"...\n",
      "INFO:com.PhoHale.Spike3D.pipeline:WARNING: skipping computation because overwrite_extant_results=False and active_computation_results[maze_odd] already exists and is non-None\n",
      "INFO:com.PhoHale.Spike3D.pipeline:\t TODO: this will prevent recomputation even when the excludelist/includelist or computation function definitions change. Rework so that this is smarter.\n",
      "INFO:com.PhoHale.Spike3D.pipeline:Performing perform_action_for_all_contexts with action EvaluationActions.EVALUATE_COMPUTATIONS on filtered_session with filter named \"maze1_even\"...\n",
      "INFO:com.PhoHale.Spike3D.pipeline:WARNING: skipping computation because overwrite_extant_results=False and active_computation_results[maze1_even] already exists and is non-None\n",
      "INFO:com.PhoHale.Spike3D.pipeline:\t TODO: this will prevent recomputation even when the excludelist/includelist or computation function definitions change. Rework so that this is smarter.\n",
      "INFO:com.PhoHale.Spike3D.pipeline:Performing perform_action_for_all_contexts with action EvaluationActions.EVALUATE_COMPUTATIONS on filtered_session with filter named \"maze2_even\"...\n",
      "INFO:com.PhoHale.Spike3D.pipeline:WARNING: skipping computation because overwrite_extant_results=False and active_computation_results[maze2_even] already exists and is non-None\n",
      "INFO:com.PhoHale.Spike3D.pipeline:\t TODO: this will prevent recomputation even when the excludelist/includelist or computation function definitions change. Rework so that this is smarter.\n",
      "INFO:com.PhoHale.Spike3D.pipeline:Performing perform_action_for_all_contexts with action EvaluationActions.EVALUATE_COMPUTATIONS on filtered_session with filter named \"maze_even\"...\n",
      "INFO:com.PhoHale.Spike3D.pipeline:WARNING: skipping computation because overwrite_extant_results=False and active_computation_results[maze_even] already exists and is non-None\n",
      "INFO:com.PhoHale.Spike3D.pipeline:\t TODO: this will prevent recomputation even when the excludelist/includelist or computation function definitions change. Rework so that this is smarter.\n",
      "INFO:com.PhoHale.Spike3D.pipeline:Performing perform_action_for_all_contexts with action EvaluationActions.EVALUATE_COMPUTATIONS on filtered_session with filter named \"maze1_any\"...\n",
      "INFO:com.PhoHale.Spike3D.pipeline:WARNING: skipping computation because overwrite_extant_results=False and active_computation_results[maze1_any] already exists and is non-None\n",
      "INFO:com.PhoHale.Spike3D.pipeline:\t TODO: this will prevent recomputation even when the excludelist/includelist or computation function definitions change. Rework so that this is smarter.\n",
      "INFO:com.PhoHale.Spike3D.pipeline:Performing perform_action_for_all_contexts with action EvaluationActions.EVALUATE_COMPUTATIONS on filtered_session with filter named \"maze2_any\"...\n",
      "INFO:com.PhoHale.Spike3D.pipeline:WARNING: skipping computation because overwrite_extant_results=False and active_computation_results[maze2_any] already exists and is non-None\n",
      "INFO:com.PhoHale.Spike3D.pipeline:\t TODO: this will prevent recomputation even when the excludelist/includelist or computation function definitions change. Rework so that this is smarter.\n",
      "INFO:com.PhoHale.Spike3D.pipeline:Performing perform_action_for_all_contexts with action EvaluationActions.EVALUATE_COMPUTATIONS on filtered_session with filter named \"maze_any\"...\n",
      "INFO:com.PhoHale.Spike3D.pipeline:WARNING: skipping computation because overwrite_extant_results=False and active_computation_results[maze_any] already exists and is non-None\n",
      "INFO:com.PhoHale.Spike3D.pipeline:\t TODO: this will prevent recomputation even when the excludelist/includelist or computation function definitions change. Rework so that this is smarter.\n",
      "INFO:com.PhoHale.Spike3D.pipeline:Performing global computations...\n",
      "INFO:com.PhoHale.Spike3D.pipeline:select_filters(...) with: []\n",
      "INFO:com.PhoHale.Spike3D.pipeline:Performing perform_action_for_all_contexts with action EvaluationActions.EVALUATE_COMPUTATIONS on filtered_session with filter named \"maze1_odd\"...\n",
      "INFO:com.PhoHale.Spike3D.pipeline:WARNING: skipping computation because overwrite_extant_results=False and active_computation_results[maze1_odd] already exists and is non-None\n",
      "INFO:com.PhoHale.Spike3D.pipeline:\t TODO: this will prevent recomputation even when the excludelist/includelist or computation function definitions change. Rework so that this is smarter.\n",
      "INFO:com.PhoHale.Spike3D.pipeline:Performing perform_action_for_all_contexts with action EvaluationActions.EVALUATE_COMPUTATIONS on filtered_session with filter named \"maze2_odd\"...\n",
      "INFO:com.PhoHale.Spike3D.pipeline:WARNING: skipping computation because overwrite_extant_results=False and active_computation_results[maze2_odd] already exists and is non-None\n",
      "INFO:com.PhoHale.Spike3D.pipeline:\t TODO: this will prevent recomputation even when the excludelist/includelist or computation function definitions change. Rework so that this is smarter.\n",
      "INFO:com.PhoHale.Spike3D.pipeline:Performing perform_action_for_all_contexts with action EvaluationActions.EVALUATE_COMPUTATIONS on filtered_session with filter named \"maze_odd\"...\n",
      "INFO:com.PhoHale.Spike3D.pipeline:WARNING: skipping computation because overwrite_extant_results=False and active_computation_results[maze_odd] already exists and is non-None\n",
      "INFO:com.PhoHale.Spike3D.pipeline:\t TODO: this will prevent recomputation even when the excludelist/includelist or computation function definitions change. Rework so that this is smarter.\n",
      "INFO:com.PhoHale.Spike3D.pipeline:Performing perform_action_for_all_contexts with action EvaluationActions.EVALUATE_COMPUTATIONS on filtered_session with filter named \"maze1_even\"...\n",
      "INFO:com.PhoHale.Spike3D.pipeline:WARNING: skipping computation because overwrite_extant_results=False and active_computation_results[maze1_even] already exists and is non-None\n",
      "INFO:com.PhoHale.Spike3D.pipeline:\t TODO: this will prevent recomputation even when the excludelist/includelist or computation function definitions change. Rework so that this is smarter.\n",
      "INFO:com.PhoHale.Spike3D.pipeline:Performing perform_action_for_all_contexts with action EvaluationActions.EVALUATE_COMPUTATIONS on filtered_session with filter named \"maze2_even\"...\n",
      "INFO:com.PhoHale.Spike3D.pipeline:WARNING: skipping computation because overwrite_extant_results=False and active_computation_results[maze2_even] already exists and is non-None\n",
      "INFO:com.PhoHale.Spike3D.pipeline:\t TODO: this will prevent recomputation even when the excludelist/includelist or computation function definitions change. Rework so that this is smarter.\n",
      "INFO:com.PhoHale.Spike3D.pipeline:Performing perform_action_for_all_contexts with action EvaluationActions.EVALUATE_COMPUTATIONS on filtered_session with filter named \"maze_even\"...\n",
      "INFO:com.PhoHale.Spike3D.pipeline:WARNING: skipping computation because overwrite_extant_results=False and active_computation_results[maze_even] already exists and is non-None\n",
      "INFO:com.PhoHale.Spike3D.pipeline:\t TODO: this will prevent recomputation even when the excludelist/includelist or computation function definitions change. Rework so that this is smarter.\n",
      "INFO:com.PhoHale.Spike3D.pipeline:Performing perform_action_for_all_contexts with action EvaluationActions.EVALUATE_COMPUTATIONS on filtered_session with filter named \"maze1_any\"...\n",
      "INFO:com.PhoHale.Spike3D.pipeline:WARNING: skipping computation because overwrite_extant_results=False and active_computation_results[maze1_any] already exists and is non-None\n",
      "INFO:com.PhoHale.Spike3D.pipeline:\t TODO: this will prevent recomputation even when the excludelist/includelist or computation function definitions change. Rework so that this is smarter.\n",
      "INFO:com.PhoHale.Spike3D.pipeline:Performing perform_action_for_all_contexts with action EvaluationActions.EVALUATE_COMPUTATIONS on filtered_session with filter named \"maze2_any\"...\n",
      "INFO:com.PhoHale.Spike3D.pipeline:WARNING: skipping computation because overwrite_extant_results=False and active_computation_results[maze2_any] already exists and is non-None\n",
      "INFO:com.PhoHale.Spike3D.pipeline:\t TODO: this will prevent recomputation even when the excludelist/includelist or computation function definitions change. Rework so that this is smarter.\n",
      "INFO:com.PhoHale.Spike3D.pipeline:Performing perform_action_for_all_contexts with action EvaluationActions.EVALUATE_COMPUTATIONS on filtered_session with filter named \"maze_any\"...\n",
      "INFO:com.PhoHale.Spike3D.pipeline:WARNING: skipping computation because overwrite_extant_results=False and active_computation_results[maze_any] already exists and is non-None\n",
      "INFO:com.PhoHale.Spike3D.pipeline:\t TODO: this will prevent recomputation even when the excludelist/includelist or computation function definitions change. Rework so that this is smarter.\n",
      "INFO:com.PhoHale.Spike3D.pipeline:Performing global computations...\n",
      "INFO:com.PhoHale.Spike3D.pipeline:select_filters(...) with: []\n",
      "INFO:com.PhoHale.Spike3D.pipeline:Performing perform_action_for_all_contexts with action EvaluationActions.EVALUATE_COMPUTATIONS on filtered_session with filter named \"maze1_odd\"...\n",
      "INFO:com.PhoHale.Spike3D.pipeline:WARNING: skipping computation because overwrite_extant_results=False and active_computation_results[maze1_odd] already exists and is non-None\n",
      "INFO:com.PhoHale.Spike3D.pipeline:\t TODO: this will prevent recomputation even when the excludelist/includelist or computation function definitions change. Rework so that this is smarter.\n",
      "INFO:com.PhoHale.Spike3D.pipeline:Performing perform_action_for_all_contexts with action EvaluationActions.EVALUATE_COMPUTATIONS on filtered_session with filter named \"maze2_odd\"...\n",
      "INFO:com.PhoHale.Spike3D.pipeline:WARNING: skipping computation because overwrite_extant_results=False and active_computation_results[maze2_odd] already exists and is non-None\n",
      "INFO:com.PhoHale.Spike3D.pipeline:\t TODO: this will prevent recomputation even when the excludelist/includelist or computation function definitions change. Rework so that this is smarter.\n",
      "INFO:com.PhoHale.Spike3D.pipeline:Performing perform_action_for_all_contexts with action EvaluationActions.EVALUATE_COMPUTATIONS on filtered_session with filter named \"maze_odd\"...\n",
      "INFO:com.PhoHale.Spike3D.pipeline:WARNING: skipping computation because overwrite_extant_results=False and active_computation_results[maze_odd] already exists and is non-None\n",
      "INFO:com.PhoHale.Spike3D.pipeline:\t TODO: this will prevent recomputation even when the excludelist/includelist or computation function definitions change. Rework so that this is smarter.\n",
      "INFO:com.PhoHale.Spike3D.pipeline:Performing perform_action_for_all_contexts with action EvaluationActions.EVALUATE_COMPUTATIONS on filtered_session with filter named \"maze1_even\"...\n",
      "INFO:com.PhoHale.Spike3D.pipeline:WARNING: skipping computation because overwrite_extant_results=False and active_computation_results[maze1_even] already exists and is non-None\n",
      "INFO:com.PhoHale.Spike3D.pipeline:\t TODO: this will prevent recomputation even when the excludelist/includelist or computation function definitions change. Rework so that this is smarter.\n",
      "INFO:com.PhoHale.Spike3D.pipeline:Performing perform_action_for_all_contexts with action EvaluationActions.EVALUATE_COMPUTATIONS on filtered_session with filter named \"maze2_even\"...\n",
      "INFO:com.PhoHale.Spike3D.pipeline:WARNING: skipping computation because overwrite_extant_results=False and active_computation_results[maze2_even] already exists and is non-None\n",
      "INFO:com.PhoHale.Spike3D.pipeline:\t TODO: this will prevent recomputation even when the excludelist/includelist or computation function definitions change. Rework so that this is smarter.\n",
      "INFO:com.PhoHale.Spike3D.pipeline:Performing perform_action_for_all_contexts with action EvaluationActions.EVALUATE_COMPUTATIONS on filtered_session with filter named \"maze_even\"...\n",
      "INFO:com.PhoHale.Spike3D.pipeline:WARNING: skipping computation because overwrite_extant_results=False and active_computation_results[maze_even] already exists and is non-None\n"
     ]
    },
    {
     "name": "stdout",
     "output_type": "stream",
     "text": [
      "done.\n",
      "Loading pickled pipeline success: W:\\Data\\KDIBA\\gor01\\one\\2006-6-09_1-22-43\\loadedSessPickle.pkl.\n",
      "properties already present in pickled version. No need to save.\n",
      "pipeline load success!\n",
      "using provided computation_functions_name_includelist: ['pf_computation', 'firing_rate_trends', 'position_decoding']\n",
      "WARNING: skipping computation because overwrite_extant_results=False and active_computation_results[maze1_odd] already exists and is non-None\n",
      "\t TODO: this will prevent recomputation even when the excludelist/includelist or computation function definitions change. Rework so that this is smarter.\n",
      "WARNING: skipping computation because overwrite_extant_results=False and active_computation_results[maze2_odd] already exists and is non-None\n",
      "\t TODO: this will prevent recomputation even when the excludelist/includelist or computation function definitions change. Rework so that this is smarter.\n",
      "WARNING: skipping computation because overwrite_extant_results=False and active_computation_results[maze_odd] already exists and is non-None\n",
      "\t TODO: this will prevent recomputation even when the excludelist/includelist or computation function definitions change. Rework so that this is smarter.\n",
      "WARNING: skipping computation because overwrite_extant_results=False and active_computation_results[maze1_even] already exists and is non-None\n",
      "\t TODO: this will prevent recomputation even when the excludelist/includelist or computation function definitions change. Rework so that this is smarter.\n",
      "WARNING: skipping computation because overwrite_extant_results=False and active_computation_results[maze2_even] already exists and is non-None\n",
      "\t TODO: this will prevent recomputation even when the excludelist/includelist or computation function definitions change. Rework so that this is smarter.\n",
      "WARNING: skipping computation because overwrite_extant_results=False and active_computation_results[maze_even] already exists and is non-None\n",
      "\t TODO: this will prevent recomputation even when the excludelist/includelist or computation function definitions change. Rework so that this is smarter.\n",
      "WARNING: skipping computation because overwrite_extant_results=False and active_computation_results[maze1_any] already exists and is non-None\n",
      "\t TODO: this will prevent recomputation even when the excludelist/includelist or computation function definitions change. Rework so that this is smarter.\n",
      "WARNING: skipping computation because overwrite_extant_results=False and active_computation_results[maze2_any] already exists and is non-None\n",
      "\t TODO: this will prevent recomputation even when the excludelist/includelist or computation function definitions change. Rework so that this is smarter.\n",
      "WARNING: skipping computation because overwrite_extant_results=False and active_computation_results[maze_any] already exists and is non-None\n",
      "\t TODO: this will prevent recomputation even when the excludelist/includelist or computation function definitions change. Rework so that this is smarter.\n",
      "WARNING: skipping computation because overwrite_extant_results=False and active_computation_results[maze1_odd] already exists and is non-None\n",
      "\t TODO: this will prevent recomputation even when the excludelist/includelist or computation function definitions change. Rework so that this is smarter.\n",
      "WARNING: skipping computation because overwrite_extant_results=False and active_computation_results[maze2_odd] already exists and is non-None\n",
      "\t TODO: this will prevent recomputation even when the excludelist/includelist or computation function definitions change. Rework so that this is smarter.\n",
      "WARNING: skipping computation because overwrite_extant_results=False and active_computation_results[maze_odd] already exists and is non-None\n",
      "\t TODO: this will prevent recomputation even when the excludelist/includelist or computation function definitions change. Rework so that this is smarter.\n",
      "WARNING: skipping computation because overwrite_extant_results=False and active_computation_results[maze1_even] already exists and is non-None\n",
      "\t TODO: this will prevent recomputation even when the excludelist/includelist or computation function definitions change. Rework so that this is smarter.\n",
      "WARNING: skipping computation because overwrite_extant_results=False and active_computation_results[maze2_even] already exists and is non-None\n",
      "\t TODO: this will prevent recomputation even when the excludelist/includelist or computation function definitions change. Rework so that this is smarter.\n",
      "WARNING: skipping computation because overwrite_extant_results=False and active_computation_results[maze_even] already exists and is non-None\n",
      "\t TODO: this will prevent recomputation even when the excludelist/includelist or computation function definitions change. Rework so that this is smarter.\n",
      "WARNING: skipping computation because overwrite_extant_results=False and active_computation_results[maze1_any] already exists and is non-None\n",
      "\t TODO: this will prevent recomputation even when the excludelist/includelist or computation function definitions change. Rework so that this is smarter.\n",
      "WARNING: skipping computation because overwrite_extant_results=False and active_computation_results[maze2_any] already exists and is non-None\n",
      "\t TODO: this will prevent recomputation even when the excludelist/includelist or computation function definitions change. Rework so that this is smarter.\n",
      "WARNING: skipping computation because overwrite_extant_results=False and active_computation_results[maze_any] already exists and is non-None\n",
      "\t TODO: this will prevent recomputation even when the excludelist/includelist or computation function definitions change. Rework so that this is smarter.\n",
      "WARNING: skipping computation because overwrite_extant_results=False and active_computation_results[maze1_odd] already exists and is non-None\n",
      "\t TODO: this will prevent recomputation even when the excludelist/includelist or computation function definitions change. Rework so that this is smarter.\n",
      "WARNING: skipping computation because overwrite_extant_results=False and active_computation_results[maze2_odd] already exists and is non-None\n",
      "\t TODO: this will prevent recomputation even when the excludelist/includelist or computation function definitions change. Rework so that this is smarter.\n",
      "WARNING: skipping computation because overwrite_extant_results=False and active_computation_results[maze_odd] already exists and is non-None\n",
      "\t TODO: this will prevent recomputation even when the excludelist/includelist or computation function definitions change. Rework so that this is smarter.\n",
      "WARNING: skipping computation because overwrite_extant_results=False and active_computation_results[maze1_even] already exists and is non-None\n",
      "\t TODO: this will prevent recomputation even when the excludelist/includelist or computation function definitions change. Rework so that this is smarter.\n",
      "WARNING: skipping computation because overwrite_extant_results=False and active_computation_results[maze2_even] already exists and is non-None\n",
      "\t TODO: this will prevent recomputation even when the excludelist/includelist or computation function definitions change. Rework so that this is smarter.\n"
     ]
    },
    {
     "name": "stderr",
     "output_type": "stream",
     "text": [
      "INFO:com.PhoHale.Spike3D.pipeline:\t TODO: this will prevent recomputation even when the excludelist/includelist or computation function definitions change. Rework so that this is smarter.\n",
      "INFO:com.PhoHale.Spike3D.pipeline:Performing perform_action_for_all_contexts with action EvaluationActions.EVALUATE_COMPUTATIONS on filtered_session with filter named \"maze1_any\"...\n",
      "INFO:com.PhoHale.Spike3D.pipeline:WARNING: skipping computation because overwrite_extant_results=False and active_computation_results[maze1_any] already exists and is non-None\n",
      "INFO:com.PhoHale.Spike3D.pipeline:\t TODO: this will prevent recomputation even when the excludelist/includelist or computation function definitions change. Rework so that this is smarter.\n",
      "INFO:com.PhoHale.Spike3D.pipeline:Performing perform_action_for_all_contexts with action EvaluationActions.EVALUATE_COMPUTATIONS on filtered_session with filter named \"maze2_any\"...\n",
      "INFO:com.PhoHale.Spike3D.pipeline:WARNING: skipping computation because overwrite_extant_results=False and active_computation_results[maze2_any] already exists and is non-None\n",
      "INFO:com.PhoHale.Spike3D.pipeline:\t TODO: this will prevent recomputation even when the excludelist/includelist or computation function definitions change. Rework so that this is smarter.\n",
      "INFO:com.PhoHale.Spike3D.pipeline:Performing perform_action_for_all_contexts with action EvaluationActions.EVALUATE_COMPUTATIONS on filtered_session with filter named \"maze_any\"...\n",
      "INFO:com.PhoHale.Spike3D.pipeline:WARNING: skipping computation because overwrite_extant_results=False and active_computation_results[maze_any] already exists and is non-None\n",
      "INFO:com.PhoHale.Spike3D.pipeline:\t TODO: this will prevent recomputation even when the excludelist/includelist or computation function definitions change. Rework so that this is smarter.\n",
      "INFO:com.PhoHale.Spike3D.pipeline:Performing global computations...\n",
      "INFO:com.PhoHale.Spike3D.pipeline:NeuropyPipeline.on_stage_changed(new_stage=\"PipelineStage.Displayed\")\n",
      "WARNING:com.PhoHale.Spike3D.pipeline:WARNING: saving_mode is SKIP_SAVING so pipeline will not be saved despite calling .save_pipeline(...).\n"
     ]
    },
    {
     "name": "stdout",
     "output_type": "stream",
     "text": [
      "WARNING: skipping computation because overwrite_extant_results=False and active_computation_results[maze_even] already exists and is non-None\n",
      "\t TODO: this will prevent recomputation even when the excludelist/includelist or computation function definitions change. Rework so that this is smarter.\n",
      "WARNING: skipping computation because overwrite_extant_results=False and active_computation_results[maze1_any] already exists and is non-None\n",
      "\t TODO: this will prevent recomputation even when the excludelist/includelist or computation function definitions change. Rework so that this is smarter.\n",
      "WARNING: skipping computation because overwrite_extant_results=False and active_computation_results[maze2_any] already exists and is non-None\n",
      "\t TODO: this will prevent recomputation even when the excludelist/includelist or computation function definitions change. Rework so that this is smarter.\n",
      "WARNING: skipping computation because overwrite_extant_results=False and active_computation_results[maze_any] already exists and is non-None\n",
      "\t TODO: this will prevent recomputation even when the excludelist/includelist or computation function definitions change. Rework so that this is smarter.\n",
      "WARNING: saving_mode is SKIP_SAVING so pipeline will not be saved despite calling .save_pipeline(...).\n",
      "saving_mode.shouldSave == False, so not saving at the end of batch_load_session\n",
      "DEPRICATION WARNING: workaround to allow subscripting ComputationResult objects. Will be depricated. key: computed_data\n",
      "DEPRICATION WARNING: workaround to allow subscripting ComputationResult objects. Will be depricated. key: computed_data\n",
      "DEPRICATION WARNING: workaround to allow subscripting ComputationResult objects. Will be depricated. key: computed_data\n",
      "DEPRICATION WARNING: workaround to allow subscripting ComputationResult objects. Will be depricated. key: computed_data\n",
      "DEPRICATION WARNING: workaround to allow subscripting ComputationResult objects. Will be depricated. key: computed_data\n",
      "DEPRICATION WARNING: workaround to allow subscripting ComputationResult objects. Will be depricated. key: computed_data\n",
      "were pipeline preprocessing parameters missing and updated?: False\n"
     ]
    }
   ],
   "source": [
    "# ==================================================================================================================== #\n",
    "# Load Data                                                                                                            #\n",
    "# ==================================================================================================================== #\n",
    "\n",
    "active_data_mode_name = 'kdiba'\n",
    "local_session_root_parent_context = IdentifyingContext(format_name=active_data_mode_name) # , animal_name='', configuration_name='one', session_name=a_sess.session_name\n",
    "local_session_root_parent_path = global_data_root_parent_path.joinpath('KDIBA')\n",
    "\n",
    "# [*] - indicates bad or session with a problem\n",
    "# 0, 1, 2, 3, 4, 5, 6, 7, [8], [9], 10, 11, [12], 13, 14, [15], [16], 17, \n",
    "# curr_context: IdentifyingContext = good_contexts_list[1] # select the session from all of the good sessions here.\n",
    "# curr_context = IdentifyingContext(format_name='kdiba',animal='gor01',exper_name='one',session_name='2006-6-08_14-26-15') # DONE. Very good. Many good Pfs, many good replays.\n",
    "curr_context = IdentifyingContext(format_name='kdiba',animal='gor01',exper_name='one',session_name='2006-6-09_1-22-43') # DONE, might be the BEST SESSION, good example session with lots of place cells, clean replays, and clear bar graphs.\n",
    "# curr_context = IdentifyingContext(format_name='kdiba',animal='gor01',exper_name='one',session_name='2006-6-12_15-55-31') # DONE, Good Pfs but no good replays\n",
    "# curr_context = IdentifyingContext(format_name='kdiba',animal='gor01',exper_name='one',session_name='2006-6-13_14-42-6') # BAD, 2023-07-14, unsure why still.\n",
    "# curr_context = IdentifyingContext(format_name='kdiba',animal='gor01',exper_name='two',session_name='2006-6-07_16-40-19') # DONE, GREAT, both good Pfs and replays!\n",
    "# curr_context = IdentifyingContext(format_name='kdiba',animal='gor01',exper_name='two',session_name='2006-6-08_21-16-25') # DONE, Added replay selections. Very \"jumpy\" between the starts and ends of the track.\n",
    "# curr_context = IdentifyingContext(format_name='kdiba',animal='gor01',exper_name='two',session_name='2006-6-09_22-24-40') # DONE, Added replay selections. A TON of putative replays in general, most bad, but some good.\n",
    "# curr_context = IdentifyingContext(format_name='kdiba',animal='gor01',exper_name='two',session_name='2006-6-12_16-53-46') # DONE, added replay selections. Very few (like 12) replays each.\n",
    "# curr_context = IdentifyingContext(format_name='kdiba',animal='gor01',exper_name='two',session_name='2006-6-13_15-22-3') # DONE, Good Pfs, no good epochs.\n",
    "# curr_context = IdentifyingContext(format_name='kdiba',animal='vvp01',exper_name='one',session_name='2006-4-09_17-29-30') # DONE, okay replays (selected)\n",
    "# curr_context = IdentifyingContext(format_name='kdiba',animal='vvp01',exper_name='one',session_name='2006-4-10_12-25-50') # DONE, very few replays (selected)\n",
    "# curr_context = IdentifyingContext(format_name='kdiba',animal='vvp01',exper_name='one',session_name='2006-4-19_13-34-40') # BAD\n",
    "# curr_context = IdentifyingContext(format_name='kdiba',animal='vvp01',exper_name='two',session_name='2006-4-09_16-40-54') # DONE, one replay each (selected)\n",
    "# curr_context = IdentifyingContext(format_name='kdiba',animal='vvp01',exper_name='two',session_name='2006-4-10_12-58-3') # BAD, Good Pfs strangely despite horrible map, no good epochs\n",
    "# curr_context = IdentifyingContext(format_name='kdiba',animal='vvp01',exper_name='two',session_name='2006-4-12_15-25-59') # BAD, No Epochs\n",
    "# curr_context = IdentifyingContext(format_name='kdiba',animal='vvp01',exper_name='two',session_name='2006-4-16_18-47-52')\n",
    "# curr_context = IdentifyingContext(format_name='kdiba',animal='vvp01',exper_name='two',session_name='2006-4-17_12-52-15')\n",
    "# curr_context = IdentifyingContext(format_name='kdiba',animal='vvp01',exper_name='two',session_name='2006-4-25_13-20-55')\n",
    "# curr_context = IdentifyingContext(format_name='kdiba',animal='vvp01',exper_name='two',session_name='2006-4-28_12-38-13')\n",
    "# curr_context = IdentifyingContext(format_name='kdiba',animal='pin01',exper_name='one',session_name='11-02_17-46-44') # DONE, good. Many good pfs, many good replays. Noticed very strange jumping off the track in the 3D behavior/spikes viewer. Is there something wrong with this session?\n",
    "# curr_context = IdentifyingContext(format_name='kdiba',animal='pin01',exper_name='one',session_name='11-02_19-28-0') # DONE, good?, replays selected, few\n",
    "# curr_context = IdentifyingContext(format_name='kdiba',animal='pin01',exper_name='one',session_name='11-03_12-3-25') # DONE, very few replays\n",
    "# curr_context = IdentifyingContext(format_name='kdiba',animal='pin01',exper_name='one',session_name='11-09_12-15-3')\n",
    "# curr_context = IdentifyingContext(format_name='kdiba',animal='pin01',exper_name='one',session_name='11-09_22-4-5')\n",
    "# curr_context = IdentifyingContext(format_name='kdiba',animal='pin01',exper_name='one',session_name='fet11-01_12-58-54') # DONE, replays selected, quite a few replays but few are very good.\n",
    "\n",
    "# curr_context = IdentifyingContext(format_name='kdiba',animal='gor01',exper_name='two',session_name='2006-6-08_21-16-25')\n",
    "\n",
    "local_session_parent_path: Path = local_session_root_parent_path.joinpath(curr_context.animal, curr_context.exper_name) # 'gor01', 'one' - probably not needed anymore\n",
    "basedir: Path = local_session_parent_path.joinpath(curr_context.session_name).resolve()\n",
    "print(f'basedir: {str(basedir)}')\n",
    "\n",
    "# Read if possible:\n",
    "saving_mode = PipelineSavingScheme.SKIP_SAVING\n",
    "force_reload = False\n",
    "\n",
    "# # Force write:\n",
    "# saving_mode = PipelineSavingScheme.TEMP_THEN_OVERWRITE\n",
    "# saving_mode = PipelineSavingScheme.OVERWRITE_IN_PLACE\n",
    "# force_reload = True\n",
    "\n",
    "## TODO: if loading is not possible, we need to change the `saving_mode` so that the new results are properly saved.\n",
    "\n",
    "# ==================================================================================================================== #\n",
    "# Load Pipeline                                                                                                        #\n",
    "# ==================================================================================================================== #\n",
    "# with VizTracer(output_file=f\"viztracer_{get_now_time_str()}-full_session_LOO_decoding_analysis.json\", min_duration=200, tracer_entries=3000000, ignore_frozen=True) as tracer:\n",
    "# epoch_name_includelist = ['maze']\n",
    "epoch_name_includelist = None\n",
    "active_computation_functions_name_includelist=['pf_computation',\n",
    "                                            #    'pfdt_computation',\n",
    "                                                'firing_rate_trends',\n",
    "                                                # 'pf_dt_sequential_surprise', \n",
    "                                            #    'ratemap_peaks_prominence2d',\n",
    "                                                'position_decoding', \n",
    "                                                # 'position_decoding_two_step', \n",
    "                                            #    'long_short_decoding_analyses', 'jonathan_firing_rate_analysis', 'long_short_fr_indicies_analyses', 'short_long_pf_overlap_analyses', 'long_short_post_decoding', 'long_short_rate_remapping',\n",
    "                                            #     'long_short_inst_spike_rate_groups',\n",
    "                                            #     'long_short_endcap_analysis',\n",
    "                                            # 'split_to_directional_laps',\n",
    "]\n",
    "\n",
    "curr_active_pipeline: NeuropyPipeline = batch_load_session(global_data_root_parent_path, active_data_mode_name, basedir, epoch_name_includelist=epoch_name_includelist,\n",
    "                                        computation_functions_name_includelist=active_computation_functions_name_includelist,\n",
    "                                        saving_mode=saving_mode, force_reload=force_reload,\n",
    "                                        skip_extended_batch_computations=True, debug_print=False, fail_on_exception=True) # , active_pickle_filename = 'loadedSessPickle_withParameters.pkl'\n",
    "\n",
    "\n",
    "\n",
    "## Post Compute Validate 2023-05-16:\n",
    "was_updated = BatchSessionCompletionHandler.post_compute_validate(curr_active_pipeline) ## TODO: need to potentially re-save if was_updated. This will fail because constained versions not ran yet.\n",
    "if was_updated:\n",
    "    print(f'was_updated: {was_updated}')\n",
    "    try:\n",
    "        curr_active_pipeline.save_pipeline(saving_mode=saving_mode)\n",
    "    except Exception as e:\n",
    "        ## TODO: catch/log saving error and indicate that it isn't saved.\n",
    "        exception_info = sys.exc_info()\n",
    "        e = CapturedException(e, exception_info)\n",
    "        print(f'ERROR RE-SAVING PIPELINE after update. error: {e}')\n"
   ]
  },
  {
   "cell_type": "code",
   "execution_count": 3,
   "id": "acba46b6",
   "metadata": {
    "ExecuteTime": {
     "end_time": "2023-11-16T23:21:40.574268400Z",
     "start_time": "2023-11-16T23:21:35.966373700Z"
    },
    "notebookRunGroups": {
     "groupValue": "1"
    }
   },
   "outputs": [
    {
     "name": "stdout",
     "output_type": "stream",
     "text": [
      "Loading loaded session pickle file results : W:\\Data\\KDIBA\\gor01\\one\\2006-6-09_1-22-43\\output\\global_computation_results.pkl... done.\n",
      "included includelist is specified: ['pf_computation', 'firing_rate_trends', 'long_short_decoding_analyses', 'jonathan_firing_rate_analysis', 'long_short_fr_indicies_analyses', 'short_long_pf_overlap_analyses', 'long_short_post_decoding', 'long_short_endcap_analysis', 'split_to_directional_laps', 'rank_order_shuffle_analysis'], so only performing these extended computations.\n",
      "Running batch_extended_computations(...) with global_epoch_name: \"maze_any\"\n",
      "pf_computation, maze_any already computed.\n",
      "firing_rate_trends, maze_any already computed.\n",
      "split_to_directional_laps, maze_any already computed.\n",
      "rank_order_shuffle_analysis, maze_any already computed.\n",
      "long_short_decoding_analyses, maze_any already computed.\n",
      "short_long_pf_overlap_analyses, maze_any already computed.\n",
      "long_short_fr_indicies_analyses, maze_any already computed.\n",
      "jonathan_firing_rate_analysis, maze_any already computed.\n",
      "long_short_post_decoding, maze_any already computed.\n",
      "long_short_endcap_analysis, maze_any already computed.\n",
      "done with all batch_extended_computations(...).\n",
      "no changes in global results.\n"
     ]
    },
    {
     "data": {
      "application/vnd.jupyter.widget-view+json": {
       "model_id": "780d2d2666044e3c94fb690b5db0dcbd",
       "version_major": 2,
       "version_minor": 0
      },
      "text/plain": [
       "VBox(children=(Box(children=(Label(value='session path:', layout=Layout(width='auto')), Label(value='W:\\\\Data\\…"
      ]
     },
     "execution_count": 3,
     "metadata": {},
     "output_type": "execute_result"
    }
   ],
   "source": [
    "### GLOBAL COMPUTATIONS:\n",
    "if not force_reload: # not just force_reload, needs to recompute whenever the computation fails.\n",
    "    try:\n",
    "        curr_active_pipeline.load_pickled_global_computation_results()\n",
    "    except Exception as e:\n",
    "        exception_info = sys.exc_info()\n",
    "        e = CapturedException(e, exception_info)\n",
    "        print(f'cannot load global results: {e}')\n",
    "        raise\n",
    "\n",
    "curr_active_pipeline.reload_default_computation_functions()\n",
    "\n",
    "extended_computations_include_includelist=['pf_computation', 'firing_rate_trends', # 'pfdt_computation',\n",
    "    # 'pf_dt_sequential_surprise',\n",
    "    #  'ratemap_peaks_prominence2d',\n",
    "    'long_short_decoding_analyses', 'jonathan_firing_rate_analysis', 'long_short_fr_indicies_analyses', 'short_long_pf_overlap_analyses', 'long_short_post_decoding',\n",
    "    # 'long_short_rate_remapping',\n",
    "    # 'long_short_inst_spike_rate_groups',\n",
    "    'long_short_endcap_analysis',\n",
    "    # 'spike_burst_detection',\n",
    "    'split_to_directional_laps',\n",
    "    'rank_order_shuffle_analysis'\n",
    "] # do only specified\n",
    "\n",
    "force_recompute_global = force_reload\n",
    "# force_recompute_global = True\n",
    "newly_computed_values = batch_extended_computations(curr_active_pipeline, include_includelist=extended_computations_include_includelist, include_global_functions=True, fail_on_exception=False, progress_print=True, force_recompute=force_recompute_global, debug_print=False)\n",
    "if (len(newly_computed_values) > 0):\n",
    "    print(f'newly_computed_values: {newly_computed_values}.')\n",
    "    if (saving_mode.value != 'skip_saving'):\n",
    "        print(f'Saving global results...')\n",
    "        try:\n",
    "            # curr_active_pipeline.global_computation_results.persist_time = datetime.now()\n",
    "            # Try to write out the global computation function results:\n",
    "            curr_active_pipeline.save_global_computation_results()\n",
    "        except Exception as e:\n",
    "            exception_info = sys.exc_info()\n",
    "            e = CapturedException(e, exception_info)\n",
    "            print(f'\\n\\n!!WARNING!!: saving the global results threw the exception: {e}')\n",
    "            print(f'\\tthe global results are currently unsaved! proceed with caution and save as soon as you can!\\n\\n\\n')\n",
    "    else:\n",
    "        print(f'\\n\\n!!WARNING!!: changes to global results have been made but they will not be saved since saving_mode.value == \"skip_saving\"')\n",
    "        print(f'\\tthe global results are currently unsaved! proceed with caution and save as soon as you can!\\n\\n\\n')\n",
    "else:\n",
    "    print(f'no changes in global results.')\n",
    "\n",
    "# except Exception as e:\n",
    "#     exception_info = sys.exc_info()\n",
    "#     e = CapturedException(e, exception_info)\n",
    "#     print(f'second half threw: {e}')\n",
    "\n",
    "\n",
    "# 4m 5.2s for inst fr computations\n",
    "# Jupyter Widget Interactive\n",
    "import ipywidgets as widgets\n",
    "from IPython.display import display\n",
    "from pyphocorehelpers.Filesystem.open_in_system_file_manager import reveal_in_system_file_manager\n",
    "from pyphoplacecellanalysis.GUI.IPyWidgets.pipeline_ipywidgets import interactive_pipeline_widget, interactive_pipeline_files\n",
    "\n",
    "_pipeline_jupyter_widget = interactive_pipeline_widget(curr_active_pipeline=curr_active_pipeline)\n",
    "# display(_pipeline_jupyter_widget)\n",
    "_pipeline_jupyter_widget"
   ]
  },
  {
   "cell_type": "code",
   "execution_count": null,
   "id": "ee3d4f61",
   "metadata": {},
   "outputs": [],
   "source": [
    "curr_active_pipeline.save_global_computation_results()"
   ]
  },
  {
   "cell_type": "code",
   "execution_count": null,
   "id": "e5cbb6cf",
   "metadata": {},
   "outputs": [],
   "source": [
    "curr_active_pipeline.export_pipeline_to_h5()"
   ]
  },
  {
   "cell_type": "code",
   "execution_count": null,
   "id": "e3f06d1f",
   "metadata": {},
   "outputs": [],
   "source": [
    "curr_active_pipeline.clear_display_outputs()\n",
    "curr_active_pipeline.clear_registered_output_files()"
   ]
  },
  {
   "cell_type": "code",
   "execution_count": null,
   "id": "837f39f2",
   "metadata": {},
   "outputs": [],
   "source": [
    "curr_active_pipeline.save_pipeline(saving_mode=PipelineSavingScheme.TEMP_THEN_OVERWRITE)"
   ]
  },
  {
   "cell_type": "markdown",
   "id": "1fe54599",
   "metadata": {},
   "source": [
    "# End Run"
   ]
  },
  {
   "cell_type": "code",
   "execution_count": 4,
   "id": "1a533ba8",
   "metadata": {
    "ExecuteTime": {
     "end_time": "2023-11-16T23:21:40.700275900Z",
     "start_time": "2023-11-16T23:21:40.584273Z"
    },
    "notebookRunGroups": {
     "groupValue": "1"
    }
   },
   "outputs": [],
   "source": [
    "# (long_one_step_decoder_1D, short_one_step_decoder_1D), (long_one_step_decoder_2D, short_one_step_decoder_2D) = compute_short_long_constrained_decoders(curr_active_pipeline, recalculate_anyway=True)\n",
    "long_epoch_name, short_epoch_name, global_epoch_name = curr_active_pipeline.find_LongShortGlobal_epoch_names()\n",
    "long_epoch_context, short_epoch_context, global_epoch_context = [curr_active_pipeline.filtered_contexts[a_name] for a_name in (long_epoch_name, short_epoch_name, global_epoch_name)]\n",
    "long_epoch_obj, short_epoch_obj = [Epoch(curr_active_pipeline.sess.epochs.to_dataframe().epochs.label_slice(an_epoch_name.removesuffix('_any'))) for an_epoch_name in [long_epoch_name, short_epoch_name]] #TODO 2023-11-10 20:41: - [ ] Issue with getting actual Epochs from sess.epochs for directional laps: emerges because long_epoch_name: 'maze1_any' and the actual epoch label in curr_active_pipeline.sess.epochs is 'maze1' without the '_any' part.\n",
    "long_session, short_session, global_session = [curr_active_pipeline.filtered_sessions[an_epoch_name] for an_epoch_name in [long_epoch_name, short_epoch_name, global_epoch_name]]\n",
    "long_results, short_results, global_results = [curr_active_pipeline.computation_results[an_epoch_name].computed_data for an_epoch_name in [long_epoch_name, short_epoch_name, global_epoch_name]]\n",
    "long_computation_config, short_computation_config, global_computation_config = [curr_active_pipeline.computation_results[an_epoch_name].computation_config for an_epoch_name in [long_epoch_name, short_epoch_name, global_epoch_name]]\n",
    "long_pf1D, short_pf1D, global_pf1D = long_results.pf1D, short_results.pf1D, global_results.pf1D\n",
    "long_pf2D, short_pf2D, global_pf2D = long_results.pf2D, short_results.pf2D, global_results.pf2D\n",
    "\n",
    "assert short_epoch_obj.n_epochs > 0, f'long_epoch_obj: {long_epoch_obj}, short_epoch_obj: {short_epoch_obj}'\n",
    "assert long_epoch_obj.n_epochs > 0, f'long_epoch_obj: {long_epoch_obj}, short_epoch_obj: {short_epoch_obj}'"
   ]
  },
  {
   "cell_type": "code",
   "execution_count": 5,
   "id": "9071e94f",
   "metadata": {
    "ExecuteTime": {
     "end_time": "2023-11-16T23:21:43.601382Z",
     "start_time": "2023-11-16T23:21:40.702275600Z"
    },
    "notebookRunGroups": {
     "groupValue": "1"
    }
   },
   "outputs": [
    {
     "name": "stdout",
     "output_type": "stream",
     "text": [
      "WARN: 2023-09-28 16:15: - [ ] fix the combination properties. Would work if we directly used the computed _is_L_only and _is_S_only above\n",
      "WARNING: PAPER_FIGURE_figure_1_add_replay_epoch_rasters(...): no user-assigned manually labeled replay epochs. Reeturning all epochs.\n",
      "WARN: 2023-09-28 16:15: - [ ] fix the combination properties. Would work if we directly used the computed _is_L_only and _is_S_only above\n"
     ]
    }
   ],
   "source": [
    "## long_short_decoding_analyses:\n",
    "curr_long_short_decoding_analyses = curr_active_pipeline.global_computation_results.computed_data['long_short_leave_one_out_decoding_analysis']\n",
    "long_one_step_decoder_1D, short_one_step_decoder_1D, long_replays, short_replays, global_replays, long_shared_aclus_only_decoder, short_shared_aclus_only_decoder, shared_aclus, long_short_pf_neurons_diff, n_neurons, long_results_obj, short_results_obj, is_global = curr_long_short_decoding_analyses.long_decoder, curr_long_short_decoding_analyses.short_decoder, curr_long_short_decoding_analyses.long_replays, curr_long_short_decoding_analyses.short_replays, curr_long_short_decoding_analyses.global_replays, curr_long_short_decoding_analyses.long_shared_aclus_only_decoder, curr_long_short_decoding_analyses.short_shared_aclus_only_decoder, curr_long_short_decoding_analyses.shared_aclus, curr_long_short_decoding_analyses.long_short_pf_neurons_diff, curr_long_short_decoding_analyses.n_neurons, curr_long_short_decoding_analyses.long_results_obj, curr_long_short_decoding_analyses.short_results_obj, curr_long_short_decoding_analyses.is_global \n",
    "decoding_time_bin_size = long_one_step_decoder_1D.time_bin_size # 1.0/30.0 # 0.03333333333333333\n",
    "\n",
    "## Get global `long_short_fr_indicies_analysis`:\n",
    "long_short_fr_indicies_analysis_results = curr_active_pipeline.global_computation_results.computed_data['long_short_fr_indicies_analysis']\n",
    "long_laps, long_replays, short_laps, short_replays, global_laps, global_replays = [long_short_fr_indicies_analysis_results[k] for k in ['long_laps', 'long_replays', 'short_laps', 'short_replays', 'global_laps', 'global_replays']]\n",
    "long_short_fr_indicies_df = long_short_fr_indicies_analysis_results['long_short_fr_indicies_df']\n",
    "\n",
    "## Get global 'long_short_post_decoding' results:\n",
    "curr_long_short_post_decoding = curr_active_pipeline.global_computation_results.computed_data['long_short_post_decoding']\n",
    "expected_v_observed_result, curr_long_short_rr = curr_long_short_post_decoding.expected_v_observed_result, curr_long_short_post_decoding.rate_remapping\n",
    "rate_remapping_df, high_remapping_cells_only = curr_long_short_rr.rr_df, curr_long_short_rr.high_only_rr_df\n",
    "Flat_epoch_time_bins_mean, Flat_decoder_time_bin_centers, num_neurons, num_timebins_in_epoch, num_total_flat_timebins, is_short_track_epoch, is_long_track_epoch, short_short_diff, long_long_diff = expected_v_observed_result.Flat_epoch_time_bins_mean, expected_v_observed_result.Flat_decoder_time_bin_centers, expected_v_observed_result.num_neurons, expected_v_observed_result.num_timebins_in_epoch, expected_v_observed_result.num_total_flat_timebins, expected_v_observed_result.is_short_track_epoch, expected_v_observed_result.is_long_track_epoch, expected_v_observed_result.short_short_diff, expected_v_observed_result.long_long_diff\n",
    "\n",
    "jonathan_firing_rate_analysis_result: JonathanFiringRateAnalysisResult = curr_active_pipeline.global_computation_results.computed_data.jonathan_firing_rate_analysis\n",
    "(epochs_df_L, epochs_df_S), (filter_epoch_spikes_df_L, filter_epoch_spikes_df_S), (good_example_epoch_indicies_L, good_example_epoch_indicies_S), (short_exclusive, long_exclusive, BOTH_subset, EITHER_subset, XOR_subset, NEITHER_subset), new_all_aclus_sort_indicies, assigning_epochs_obj = PAPER_FIGURE_figure_1_add_replay_epoch_rasters(curr_active_pipeline)\n",
    "neuron_replay_stats_df, short_exclusive, long_exclusive, BOTH_subset, EITHER_subset, XOR_subset, NEITHER_subset = jonathan_firing_rate_analysis_result.get_cell_track_partitions(frs_index_inclusion_magnitude=0.05)\n",
    "\n",
    "## Update long_exclusive/short_exclusive properties with `long_short_fr_indicies_df`\n",
    "# long_exclusive.refine_exclusivity_by_inst_frs_index(long_short_fr_indicies_df, frs_index_inclusion_magnitude=0.5)\n",
    "# short_exclusive.refine_exclusivity_by_inst_frs_index(long_short_fr_indicies_df, frs_index_inclusion_magnitude=0.5)\n"
   ]
  },
  {
   "cell_type": "code",
   "execution_count": 6,
   "id": "c49f5d4f",
   "metadata": {
    "notebookRunGroups": {
     "groupValue": "1"
    }
   },
   "outputs": [],
   "source": [
    "# Unpack all directional variables:\n",
    "## {\"even\": \"RL\", \"odd\": \"LR\"}\n",
    "long_LR_name, short_LR_name, global_LR_name, long_RL_name, short_RL_name, global_RL_name, long_any_name, short_any_name, global_any_name = ['maze1_odd', 'maze2_odd', 'maze_odd', 'maze1_even', 'maze2_even', 'maze_even', 'maze1_any', 'maze2_any', 'maze_any']\n",
    "\n",
    "# Most popular\n",
    "# long_LR_name, short_LR_name, long_RL_name, short_RL_name, global_any_name\n",
    "\n",
    "# Unpacking for `(long_LR_name, long_RL_name, short_LR_name, short_RL_name)`\n",
    "(long_LR_context, long_RL_context, short_LR_context, short_RL_context) = [curr_active_pipeline.filtered_contexts[a_name] for a_name in (long_LR_name, long_RL_name, short_LR_name, short_RL_name)]\n",
    "long_LR_epochs_obj, long_RL_epochs_obj, short_LR_epochs_obj, short_RL_epochs_obj, global_any_laps_epochs_obj = [curr_active_pipeline.computation_results[an_epoch_name].computation_config.pf_params.computation_epochs for an_epoch_name in (long_LR_name, long_RL_name, short_LR_name, short_RL_name, global_any_name)] # note has global also\n",
    "(long_LR_session, long_RL_session, short_LR_session, short_RL_session) = [curr_active_pipeline.filtered_sessions[an_epoch_name] for an_epoch_name in (long_LR_name, long_RL_name, short_LR_name, short_RL_name)] # sessions are correct at least, seems like just the computation parameters are messed up\n",
    "(long_LR_results, long_RL_results, short_LR_results, short_RL_results) = [curr_active_pipeline.computation_results[an_epoch_name].computed_data for an_epoch_name in (long_LR_name, long_RL_name, short_LR_name, short_RL_name)]\n",
    "(long_LR_computation_config, long_RL_computation_config, short_LR_computation_config, short_RL_computation_config) = [curr_active_pipeline.computation_results[an_epoch_name].computation_config for an_epoch_name in (long_LR_name, long_RL_name, short_LR_name, short_RL_name)]\n",
    "(long_LR_pf1D, long_RL_pf1D, short_LR_pf1D, short_RL_pf1D) = (long_LR_results.pf1D, long_RL_results.pf1D, short_LR_results.pf1D, short_RL_results.pf1D)\n",
    "(long_LR_pf2D, long_RL_pf2D, short_LR_pf2D, short_RL_pf2D) = (long_LR_results.pf2D, long_RL_results.pf2D, short_LR_results.pf2D, short_RL_results.pf2D)\n",
    "(long_LR_pf1D_Decoder, long_RL_pf1D_Decoder, short_LR_pf1D_Decoder, short_RL_pf1D_Decoder) = (long_LR_results.pf1D_Decoder, long_RL_results.pf1D_Decoder, short_LR_results.pf1D_Decoder, short_RL_results.pf1D_Decoder)\n"
   ]
  },
  {
   "cell_type": "code",
   "execution_count": 7,
   "id": "7104fc37",
   "metadata": {
    "notebookRunGroups": {
     "groupValue": "1"
    }
   },
   "outputs": [],
   "source": [
    "directional_laps_results = curr_active_pipeline.global_computation_results.computed_data['DirectionalLaps']"
   ]
  },
  {
   "cell_type": "code",
   "execution_count": 8,
   "id": "706fd8da",
   "metadata": {
    "notebookRunGroups": {
     "groupValue": "1"
    }
   },
   "outputs": [
    {
     "name": "stdout",
     "output_type": "stream",
     "text": [
      "minimum_inclusion_fr_Hz: 2.0\n",
      "included_qclu_values: [1, 2, 4, 9]\n"
     ]
    }
   ],
   "source": [
    "rank_order_results: RankOrderComputationsContainer = curr_active_pipeline.global_computation_results.computed_data['RankOrder']\n",
    "minimum_inclusion_fr_Hz: float = rank_order_results.minimum_inclusion_fr_Hz\n",
    "included_qclu_values: float = rank_order_results.included_qclu_values\n",
    "print(f'minimum_inclusion_fr_Hz: {minimum_inclusion_fr_Hz}')\n",
    "print(f'included_qclu_values: {included_qclu_values}')"
   ]
  },
  {
   "cell_type": "code",
   "execution_count": 9,
   "id": "fa2dc5fe",
   "metadata": {
    "notebookRunGroups": {
     "groupValue": "1"
    }
   },
   "outputs": [],
   "source": [
    "# NEW 2023-11-22 method: Get the templates (which can be filtered by frate first) and the from those get the decoders):        \n",
    "# track_templates: TrackTemplates = directional_laps_results.get_shared_aclus_only_templates(minimum_inclusion_fr_Hz=minimum_inclusion_fr_Hz) # shared-only\n",
    "track_templates: TrackTemplates = directional_laps_results.get_templates(minimum_inclusion_fr_Hz=minimum_inclusion_fr_Hz) # non-shared-only\n",
    "long_LR_decoder, long_RL_decoder, short_LR_decoder, short_RL_decoder = track_templates.get_decoders()\n",
    "\n",
    "# Unpack all directional variables:\n",
    "## {\"even\": \"RL\", \"odd\": \"LR\"}\n",
    "long_LR_name, short_LR_name, global_LR_name, long_RL_name, short_RL_name, global_RL_name, long_any_name, short_any_name, global_any_name = ['maze1_odd', 'maze2_odd', 'maze_odd', 'maze1_even', 'maze2_even', 'maze_even', 'maze1_any', 'maze2_any', 'maze_any']\n",
    "# Unpacking for `(long_LR_name, long_RL_name, short_LR_name, short_RL_name)`\n",
    "(long_LR_context, long_RL_context, short_LR_context, short_RL_context) = [curr_active_pipeline.filtered_contexts[a_name] for a_name in (long_LR_name, long_RL_name, short_LR_name, short_RL_name)]\n",
    "long_LR_epochs_obj, long_RL_epochs_obj, short_LR_epochs_obj, short_RL_epochs_obj, global_any_laps_epochs_obj = [curr_active_pipeline.computation_results[an_epoch_name].computation_config.pf_params.computation_epochs for an_epoch_name in (long_LR_name, long_RL_name, short_LR_name, short_RL_name, global_any_name)] # note has global also\n",
    "(long_LR_session, long_RL_session, short_LR_session, short_RL_session) = [curr_active_pipeline.filtered_sessions[an_epoch_name] for an_epoch_name in (long_LR_name, long_RL_name, short_LR_name, short_RL_name)] # sessions are correct at least, seems like just the computation parameters are messed up\n",
    "(long_LR_results, long_RL_results, short_LR_results, short_RL_results) = [curr_active_pipeline.computation_results[an_epoch_name].computed_data for an_epoch_name in (long_LR_name, long_RL_name, short_LR_name, short_RL_name)]\n",
    "(long_LR_computation_config, long_RL_computation_config, short_LR_computation_config, short_RL_computation_config) = [curr_active_pipeline.computation_results[an_epoch_name].computation_config for an_epoch_name in (long_LR_name, long_RL_name, short_LR_name, short_RL_name)]\n",
    "(long_LR_pf1D, long_RL_pf1D, short_LR_pf1D, short_RL_pf1D) = (long_LR_results.pf1D, long_RL_results.pf1D, short_LR_results.pf1D, short_RL_results.pf1D)\n",
    "(long_LR_pf2D, long_RL_pf2D, short_LR_pf2D, short_RL_pf2D) = (long_LR_results.pf2D, long_RL_results.pf2D, short_LR_results.pf2D, short_RL_results.pf2D)\n",
    "(long_LR_pf1D_Decoder, long_RL_pf1D_Decoder, short_LR_pf1D_Decoder, short_RL_pf1D_Decoder) = (long_LR_results.pf1D_Decoder, long_RL_results.pf1D_Decoder, short_LR_results.pf1D_Decoder, short_RL_results.pf1D_Decoder)\n",
    "\n",
    "LR_results_real_values = np.array([(long_stats_z_scorer.real_value, short_stats_z_scorer.real_value) for epoch_id, (long_stats_z_scorer, short_stats_z_scorer, long_short_z_diff, long_short_naive_z_diff, is_forward_replay) in rank_order_results.LR_ripple.ranked_aclus_stats_dict.items()])\n",
    "RL_results_real_values = np.array([(long_stats_z_scorer.real_value, short_stats_z_scorer.real_value) for epoch_id, (long_stats_z_scorer, short_stats_z_scorer, long_short_z_diff, long_short_naive_z_diff, is_forward_replay) in rank_order_results.RL_ripple.ranked_aclus_stats_dict.items()])\n",
    "\n",
    "LR_results_long_short_z_diffs = np.array([long_short_z_diff for epoch_id, (long_stats_z_scorer, short_stats_z_scorer, long_short_z_diff, long_short_naive_z_diff, is_forward_replay) in rank_order_results.LR_ripple.ranked_aclus_stats_dict.items()])\n",
    "RL_results_long_short_z_diff = np.array([long_short_z_diff for epoch_id, (long_stats_z_scorer, short_stats_z_scorer, long_short_z_diff, long_short_naive_z_diff, is_forward_replay) in rank_order_results.RL_ripple.ranked_aclus_stats_dict.items()])"
   ]
  },
  {
   "cell_type": "code",
   "execution_count": null,
   "id": "c260739a4f36c662",
   "metadata": {},
   "outputs": [],
   "source": [
    "active_burst_intervals = curr_active_pipeline.computation_results[global_epoch_name].computed_data['burst_detection']['burst_intervals']\n",
    "# active_burst_intervals"
   ]
  },
  {
   "cell_type": "code",
   "execution_count": null,
   "id": "769a1c6006aba5b7",
   "metadata": {},
   "outputs": [],
   "source": [
    "# Relative Entropy/Surprise Results:\n",
    "active_extended_stats = global_results['extended_stats']\n",
    "active_relative_entropy_results = active_extended_stats['pf_dt_sequential_surprise'] # DynamicParameters\n",
    "historical_snapshots = active_relative_entropy_results['historical_snapshots']\n",
    "post_update_times: np.ndarray = active_relative_entropy_results['post_update_times'] # (4152,) = (n_post_update_times,)\n",
    "snapshot_differences_result_dict = active_relative_entropy_results['snapshot_differences_result_dict']\n",
    "time_intervals: np.ndarray = active_relative_entropy_results['time_intervals']\n",
    "surprise_time_bin_duration = (post_update_times[2]-post_update_times[1])\n",
    "long_short_rel_entr_curves_frames: np.ndarray = active_relative_entropy_results['long_short_rel_entr_curves_frames'] # (4152, 108, 63) = (n_post_update_times, n_neurons, n_xbins)\n",
    "short_long_rel_entr_curves_frames: np.ndarray = active_relative_entropy_results['short_long_rel_entr_curves_frames'] # (4152, 108, 63) = (n_post_update_times, n_neurons, n_xbins)\n",
    "flat_relative_entropy_results: np.ndarray = active_relative_entropy_results['flat_relative_entropy_results'] # (149, 63) - (nSnapshots, nXbins)\n",
    "flat_jensen_shannon_distance_results: np.ndarray = active_relative_entropy_results['flat_jensen_shannon_distance_results'] # (149, 63) - (nSnapshots, nXbins)\n",
    "flat_jensen_shannon_distance_across_all_positions: np.ndarray = np.sum(np.abs(flat_jensen_shannon_distance_results), axis=1) # sum across all position bins # (4152,) - (nSnapshots)\n",
    "flat_surprise_across_all_positions: np.ndarray = np.sum(np.abs(flat_relative_entropy_results), axis=1) # sum across all position bins # (4152,) - (nSnapshots)\n",
    "\n",
    "## Get the placefield dt matrix:\n",
    "if 'snapshot_occupancy_weighted_tuning_maps' not in active_relative_entropy_results:\n",
    "\t## Compute it if missing:\n",
    "\toccupancy_weighted_tuning_maps_over_time = np.stack([placefield_snapshot.occupancy_weighted_tuning_maps_matrix for placefield_snapshot in historical_snapshots.values()])\n",
    "\tactive_relative_entropy_results['snapshot_occupancy_weighted_tuning_maps'] = occupancy_weighted_tuning_maps_over_time\n",
    "else:\n",
    "\toccupancy_weighted_tuning_maps_over_time = active_relative_entropy_results['snapshot_occupancy_weighted_tuning_maps'] # (n_post_update_times, n_neurons, n_xbins)\n"
   ]
  },
  {
   "cell_type": "code",
   "execution_count": null,
   "id": "9554d3bf5955d9d3",
   "metadata": {},
   "outputs": [],
   "source": [
    "# Time-dependent\n",
    "long_pf1D_dt, short_pf1D_dt, global_pf1D_dt = long_results.pf1D_dt, short_results.pf1D_dt, global_results.pf1D_dt\n",
    "long_pf2D_dt, short_pf2D_dt, global_pf2D_dt = long_results.pf2D_dt, short_results.pf2D_dt, global_results.pf2D_dt\n",
    "global_pf1D_dt: PfND_TimeDependent = global_results.pf1D_dt\n",
    "global_pf2D_dt: PfND_TimeDependent = global_results.pf2D_dt"
   ]
  },
  {
   "cell_type": "code",
   "execution_count": null,
   "id": "8624c62d5c18c556",
   "metadata": {},
   "outputs": [],
   "source": [
    "## long_short_endcap_analysis: checks for cells localized to the endcaps that have their placefields truncated after shortening the track\n",
    "truncation_checking_result: TruncationCheckingResults = curr_active_pipeline.global_computation_results.computed_data.long_short_endcap\n",
    "disappearing_endcap_aclus = truncation_checking_result.disappearing_endcap_aclus\n",
    "# disappearing_endcap_aclus\n",
    "trivially_remapping_endcap_aclus = truncation_checking_result.minor_remapping_endcap_aclus\n",
    "# trivially_remapping_endcap_aclus\n",
    "significant_distant_remapping_endcap_aclus = truncation_checking_result.significant_distant_remapping_endcap_aclus\n",
    "# significant_distant_remapping_endcap_aclus\n",
    "appearing_aclus = jonathan_firing_rate_analysis_result.neuron_replay_stats_df[jonathan_firing_rate_analysis_result.neuron_replay_stats_df['track_membership'] == SplitPartitionMembership.RIGHT_ONLY].index\n",
    "# appearing_aclus"
   ]
  },
  {
   "cell_type": "code",
   "execution_count": null,
   "id": "aabbbaf1",
   "metadata": {},
   "outputs": [],
   "source": [
    "epoch_active_aclus = np.array([9,  26,  31,  39,  40,  43,  47,  52,  53,  54,  60,  61,  65,  68,  72,  75,  77,  78,  81,  82,  84,  85,  90,  92,  93,  98, 102])\n",
    "\n",
    "\n",
    "curr_active_pipeline.filtered_contexts['maze1_odd']\n",
    "curr_active_pipeline.computation_results['maze1_odd']"
   ]
  },
  {
   "cell_type": "code",
   "execution_count": null,
   "id": "cbf30c04",
   "metadata": {},
   "outputs": [],
   "source": [
    "curr_active_pipeline.prepare_for_display()\n",
    "curr_active_pipeline.display('_display_1d_placefields') # , 'maze1_odd'\n"
   ]
  },
  {
   "cell_type": "code",
   "execution_count": null,
   "id": "bcc832fb",
   "metadata": {},
   "outputs": [],
   "source": [
    "from pyphoplacecellanalysis.General.Mixins.ExportHelpers import programmatic_render_to_file\n",
    "\n",
    "programmatic_render_to_file(curr_active_pipeline, curr_display_function_name='_display_1d_placefields', write_vector_format=True, write_png=True, debug_print=True)"
   ]
  },
  {
   "cell_type": "code",
   "execution_count": null,
   "id": "e2d4cb17",
   "metadata": {},
   "outputs": [],
   "source": []
  },
  {
   "cell_type": "code",
   "execution_count": null,
   "id": "6314950a",
   "metadata": {},
   "outputs": [],
   "source": [
    "curr_active_pipeline.reload_default_display_functions()\n",
    "curr_active_pipeline.prepare_for_display()"
   ]
  },
  {
   "cell_type": "code",
   "execution_count": null,
   "id": "b0ccab8b",
   "metadata": {},
   "outputs": [],
   "source": [
    "\n",
    "_out = curr_active_pipeline.display('_display_1d_placefields', 'maze_any')\n"
   ]
  },
  {
   "cell_type": "code",
   "execution_count": null,
   "id": "606e9164",
   "metadata": {},
   "outputs": [],
   "source": [
    "_out"
   ]
  },
  {
   "cell_type": "code",
   "execution_count": null,
   "id": "357f844b",
   "metadata": {},
   "outputs": [],
   "source": [
    "curr_active_pipeline.display('_display_1d_placefields', 'maze_any')"
   ]
  },
  {
   "cell_type": "code",
   "execution_count": null,
   "id": "546f7639",
   "metadata": {},
   "outputs": [],
   "source": [
    "curr_active_pipeline.display('_display_placemaps_pyqtplot_2D', 'maze2_odd')"
   ]
  },
  {
   "cell_type": "code",
   "execution_count": null,
   "id": "0aaf32b0",
   "metadata": {},
   "outputs": [],
   "source": [
    "curr_active_pipeline.display('_display_1d_placefields', 'maze2_odd')"
   ]
  },
  {
   "cell_type": "code",
   "execution_count": null,
   "id": "45a6994d",
   "metadata": {},
   "outputs": [],
   "source": [
    "curr_active_pipeline.display('_display_3d_interactive_spike_and_behavior_browser', 'maze1_odd')"
   ]
  },
  {
   "cell_type": "code",
   "execution_count": null,
   "id": "971436c7",
   "metadata": {},
   "outputs": [],
   "source": [
    "# Add a custom footer\n",
    "footer_text = \"Custom Footer: Data Analysis Plot\"\n",
    "plt.figtext(0.5, 0.01, footer_text, ha=\"center\", fontsize=12, color=\"blue\")\n"
   ]
  },
  {
   "cell_type": "code",
   "execution_count": null,
   "id": "cfbb1191",
   "metadata": {},
   "outputs": [],
   "source": [
    "\n",
    "# Adjust layout to make space for the footer\n",
    "# plt.subplots_adjust(bottom=0.35)\n",
    "\n",
    "plt.tight_layout(pad=2.0)"
   ]
  },
  {
   "cell_type": "code",
   "execution_count": null,
   "id": "40a624e8",
   "metadata": {},
   "outputs": [],
   "source": []
  },
  {
   "cell_type": "code",
   "execution_count": null,
   "id": "885ecb1d",
   "metadata": {},
   "outputs": [],
   "source": [
    "_display_placemaps_pyqtplot_2D"
   ]
  },
  {
   "cell_type": "code",
   "execution_count": null,
   "id": "44a1db23",
   "metadata": {},
   "outputs": [],
   "source": [
    "curr_active_pipeline.registered_display_function_docs_dict"
   ]
  },
  {
   "cell_type": "markdown",
   "id": "37bc7dfe",
   "metadata": {},
   "source": [
    "## Set matplotlib rcparams"
   ]
  },
  {
   "cell_type": "code",
   "execution_count": null,
   "id": "40a1bcfa",
   "metadata": {},
   "outputs": [],
   "source": [
    "# plt.style.use('ggplot')\n",
    "matplotlib_configuration_update(is_interactive=True)\n",
    "from pyphoplacecellanalysis.General.Mixins.ExportHelpers import programmatic_display_to_PDF, programmatic_render_to_file\n",
    "\n",
    "\n",
    "# plt.style.use(['Solarize_Light2']) # , 'presentation'\n",
    "plt.style.use('bmh')\n",
    "\n",
    "# size=(8.5, 11)\n",
    "# fontsize=8\n",
    "# axis_color=\"#545454\"\n",
    "# axis_lw=1.2\n",
    "# tick_size=3.5\n",
    "# constrained_layout=True\n",
    "# fontname=\"Arial\"\n",
    "\n",
    "# # --- plot settings --------\n",
    "# mpl.rcParams[\"font.family\"] = fontname\n",
    "# mpl.rcParams[\"font.sans-serif\"] = \"Arial\"\n",
    "mpl.rcParams[\"pdf.fonttype\"] = 42\n",
    "mpl.rcParams[\"ps.fonttype\"] = 42\n",
    "mpl.rcParams[\"svg.fonttype\"] = \"none\"\n",
    "# mpl.rcParams[\"axes.linewidth\"] = axis_lw\n",
    "# mpl.rcParams[\"axes.labelsize\"] = fontsize\n",
    "# mpl.rcParams[\"axes.titlesize\"] = fontsize\n",
    "# mpl.rcParams[\"axes.edgecolor\"] = axis_color\n",
    "# mpl.rcParams[\"xtick.labelsize\"] = fontsize\n",
    "# mpl.rcParams[\"xtick.major.pad\"] = 2\n",
    "# mpl.rcParams[\"ytick.labelsize\"] = fontsize\n",
    "# mpl.rcParams[\"axes.spines.top\"] = False\n",
    "# mpl.rcParams[\"axes.spines.right\"] = False\n",
    "# mpl.rcParams[\"xtick.major.width\"] = axis_lw\n",
    "# # mpl.rcParams[\"axes.autolimit_mode\"] = \"round_numbers\"\n",
    "# mpl.rcParams[\"axes.ymargin\"] = 0\n",
    "# mpl.rcParams[\"xtick.major.size\"] = tick_size\n",
    "# mpl.rcParams[\"ytick.major.size\"] = tick_size\n",
    "# mpl.rcParams[\"xtick.color\"] = axis_color\n",
    "# mpl.rcParams[\"xtick.labelcolor\"] = \"k\"\n",
    "# mpl.rcParams[\"ytick.major.width\"] = axis_lw\n",
    "# mpl.rcParams[\"ytick.color\"] = axis_color\n",
    "# mpl.rcParams[\"ytick.labelcolor\"] = \"k\"\n",
    "# mpl.rcParams[\"figure.constrained_layout.use\"] = constrained_layout\n",
    "# mpl.rcParams[\"axes.prop_cycle\"] = cycler(\n",
    "# \t\"color\",\n",
    "# \t[\n",
    "# \t\t\"#5cc0eb\",\n",
    "# \t\t\"#faa49d\",\n",
    "# \t\t\"#05d69e\",\n",
    "# \t\t\"#253237\",\n",
    "# \t\t\"#ef6e4e\",\n",
    "# \t\t\"#f0a8e6\",\n",
    "# \t\t\"#aaa8f0\",\n",
    "# \t\t\"#f0a8af\",\n",
    "# \t\t\"#dfe36b\",\n",
    "# \t\t\"#825265\",\n",
    "# \t\t\"#e8594f\",\n",
    "# \t],\n",
    "# )\n",
    "# figure.titlesize\n",
    "# axes.titlesize\n",
    "# axes.labelsize\n",
    "\n",
    "mpl.rcParams[\"figure.titlesize\"] = 12\n",
    "mpl.rcParams[\"axes.titlesize\"] = 10\n",
    "mpl.rcParams[\"axes.labelsize\"] = 8\n",
    "\n",
    "# def set_pub():\n",
    "#     rcParams.update({\n",
    "#         \"font.weight\": \"bold\",  # bold fonts\n",
    "#         \"tick.labelsize\": 15,   # large tick labels\n",
    "#         \"lines.linewidth\": 1,   # thick lines\n",
    "#         \"lines.color\": \"k\",     # black lines\n",
    "#         \"grid.color\": \"0.5\",    # gray gridlines\n",
    "#         \"grid.linestyle\": \"-\",  # solid gridlines\n",
    "#         \"grid.linewidth\": 0.5,  # thin gridlines\n",
    "#         \"savefig.dpi\": 300,     # higher resolution output.\n",
    "#     })\n",
    "    \n",
    "# restore_rc()\n",
    "\n",
    "# data = np.random.randn(50)\n",
    "\n",
    "# fig = plt.plot(data)\n",
    "# plt.show()\n"
   ]
  },
  {
   "cell_type": "code",
   "execution_count": null,
   "id": "b558758b",
   "metadata": {},
   "outputs": [],
   "source": [
    "from mpl_multitab import MplMultiTab, MplMultiTab2D\n",
    "from pyphoplacecellanalysis.General.Mixins.ExportHelpers import programmatic_display_to_PDF, programmatic_render_to_file\n",
    "from pyphoplacecellanalysis.PhoPositionalData.plotting.placefield import plot_single_cell_1D_placecell_validation\n",
    "from pyphoplacecellanalysis.PhoPositionalData.plotting.placefield import plot_1d_placecell_validations\n",
    "\n",
    "\n",
    "# matplotlib_configuration_update(is_interactive=True)\n",
    "\n",
    "# curr_active_pipeline.display('_display_grid_bin_bounds_validation')\n",
    "_out = curr_active_pipeline.display('_display_1d_placefield_validations', 'maze1_odd')\n",
    "_out.ui.show()"
   ]
  },
  {
   "cell_type": "code",
   "execution_count": null,
   "id": "7f301b08",
   "metadata": {},
   "outputs": [],
   "source": [
    "\n",
    "programmatic_display_to_PDF(curr_active_pipeline, curr_display_function_name='_display_1d_placefield_validations', filter_name='maze1_odd', debug_print=True)\n",
    "\n",
    "# plt.show()"
   ]
  },
  {
   "cell_type": "code",
   "execution_count": null,
   "id": "3f824cf2",
   "metadata": {},
   "outputs": [],
   "source": [
    "placefield_cell_index = 0\n",
    "active_epoch_placefields1D = deepcopy(long_pf1D)\n",
    "curr_cell_normalized_tuning_curve = active_epoch_placefields1D.ratemap.normalized_tuning_curves[placefield_cell_index, :].squeeze()\n",
    "{'xbin_centers': active_epoch_placefields1D.ratemap.xbin_centers, 'curr_cell_normalized_tuning_curve': curr_cell_normalized_tuning_curve}\n",
    "\n",
    "{'xbin_centers': np.array([31.0565, 34.8495, 38.6426, 42.4356, 46.2286, 50.0216, 53.8147, 57.6077, 61.4007, 65.1937, 68.9867, 72.7798, 76.5728, 80.3658, 84.1588, 87.9519, 91.7449, 95.5379, 99.3309, 103.124, 106.917, 110.71, 114.503, 118.296, 122.089, 125.882, 129.675, 133.468, 137.261, 141.054, 144.847, 148.64, 152.433, 156.226, 160.019, 163.812, 167.605, 171.398, 175.191, 178.984, 182.777, 186.57, 190.363, 194.157, 197.95, 201.743, 205.536, 209.329, 213.122, 216.915, 220.708, 224.501, 228.294, 232.087, 235.88, 239.673, 243.466, 247.259, 251.052, 254.845, 258.638, 262.431]),\n",
    " 'curr_cell_normalized_tuning_curve': np.array([5.92979e-05, 0.000150933, 0.00036895, 0.000736517, 0.00121915, 0.00173714, 0.0022042, 0.00252859, 0.0026496, 0.0027108, 0.00312627, 0.00423033, 0.00579314, 0.00709557, 0.00766535, 0.00789647, 0.00884807, 0.0115452, 0.0165549, 0.0238423, 0.0323681, 0.039895, 0.0442459, 0.0452642, 0.0449909, 0.0457691, 0.0485138, 0.0525281, 0.0562324, 0.0581433, 0.0575758, 0.0544383, 0.0486438, 0.0404683, 0.0315115, 0.0243731, 0.0207242, 0.0199181, 0.0197507, 0.0183449, 0.0153819, 0.0119837, 0.00951012, 0.00827676, 0.00740415, 0.00596512, 0.00396809, 0.00210018, 0.000875453, 0.000302685, 0.000153468, 0.00027615, 0.000667689, 0.00135676, 0.00224608, 0.00305331, 0.0034339, 0.0031979, 0.0024518, 0.00153458, 0.00079294, 0.000405152])}\n"
   ]
  },
  {
   "cell_type": "code",
   "execution_count": null,
   "id": "ff5d7994",
   "metadata": {},
   "outputs": [],
   "source": [
    "# batch_extended_programmatic_figures\n"
   ]
  },
  {
   "cell_type": "code",
   "execution_count": null,
   "id": "40083faa",
   "metadata": {},
   "outputs": [],
   "source": [
    "curr_active_pipeline.display('_display_1d_placefields', 'maze1_odd')"
   ]
  },
  {
   "cell_type": "code",
   "execution_count": null,
   "id": "77344ed3",
   "metadata": {},
   "outputs": [],
   "source": [
    "curr_active_pipeline.display('_display_1d_placefields', 'maze2_even')"
   ]
  },
  {
   "cell_type": "code",
   "execution_count": null,
   "id": "a66fdc07",
   "metadata": {},
   "outputs": [],
   "source": [
    "\n",
    "#TODO 2023-11-29 09:18: - [ ] Not good, the self.filtered_contexts are not unique!\n",
    "list(curr_active_pipeline.filtered_contexts.values())\n",
    "# [IdentifyingContext<(... 'maze2')>, IdentifyingContext<(... 'maze2')>, IdentifyingContext<(..., 'maze')>, IdentifyingContext<(... 'maze2')>, IdentifyingContext<(... 'maze2')>, IdentifyingContext<(..., 'maze')>, IdentifyingContext<(...ze1_any')>, IdentifyingContext<(... 'maze2')>, IdentifyingContext<(..., 'maze')>]\n",
    "[(v == curr_active_pipeline.filtered_contexts['maze1_even']) for v in list(curr_active_pipeline.filtered_contexts.values())]\n",
    "# [True, True, False, True, True, False, False, True, False]\n",
    "# meaning `curr_active_pipeline.display('_display_1d_placefields', curr_active_pipeline.filtered_contexts['maze1_even'])` doesn't work\n",
    "curr_active_pipeline.filtered_contexts.index(curr_active_pipeline.filtered_contexts['maze1_even'])"
   ]
  },
  {
   "cell_type": "code",
   "execution_count": null,
   "id": "8c4e9d82",
   "metadata": {},
   "outputs": [],
   "source": [
    "curr_active_pipeline.display('_display_1d_placefields', 'maze2_odd')\n"
   ]
  },
  {
   "cell_type": "code",
   "execution_count": null,
   "id": "497d3385",
   "metadata": {},
   "outputs": [],
   "source": [
    "write_vector_format = False\n",
    "write_png = True\n",
    "debug_print = True\n",
    "from neuropy.plotting.ratemaps import BackgroundRenderingOptions\n",
    "\n",
    "programmatic_render_to_file(curr_active_pipeline, curr_display_function_name='_display_2d_placefield_result_plot_ratemaps_2D', write_vector_format=write_vector_format, write_png=write_png, debug_print=debug_print, bg_rendering_mode=BackgroundRenderingOptions.EMPTY) #  🟢✅ Now seems to be working and saving to PDF!! Still using matplotlib.use('Qt5Agg') mode and plots still appear.\n"
   ]
  },
  {
   "cell_type": "code",
   "execution_count": null,
   "id": "ce7e9185",
   "metadata": {},
   "outputs": [],
   "source": [
    "_out = curr_active_pipeline.display('_display_2d_placefield_occupancy', 'maze2_any')"
   ]
  },
  {
   "cell_type": "code",
   "execution_count": null,
   "id": "90e90109",
   "metadata": {},
   "outputs": [],
   "source": [
    "_out = curr_active_pipeline.display('_display_2d_placefield_occupancy', 'maze1_any')\n",
    "occupancy_ax = _out.axes #.get_aspect()\n",
    "pf = long_pf2D\n",
    "# pf.xbin\n",
    "# pf.ybin\n",
    "# pf.xbin_centers\n",
    "# pf.ybin_centers\n",
    "\n",
    "# aspect_ratio = np.ptp(pf.xbin) / np.ptp(pf.ybin)  # ptp: peak to peak (range)\n",
    "# aspect_ratio = 0.102803738317757\n",
    "# print(f'aspect_ratio: {aspect_ratio}')\n",
    "# occupancy_ax.set_aspect(aspect_ratio, adjustable='box') # If 'box', change the physical dimensions of the Axes. If 'datalim', change the x or y data limits.\n",
    "\n",
    "\n",
    "## See \n",
    "# https://matplotlib.org/stable/api/_as_gen/matplotlib.axes.Axes.set_anchor.html#\n",
    "\n",
    "\n",
    "occupancy_ax.set_aspect('equal', adjustable=None)\n"
   ]
  },
  {
   "cell_type": "code",
   "execution_count": null,
   "id": "ce50ea4d",
   "metadata": {},
   "outputs": [],
   "source": [
    "occupancy_ax.set_aspect('equal', adjustable='datalim')"
   ]
  },
  {
   "cell_type": "code",
   "execution_count": null,
   "id": "800ecc2e",
   "metadata": {},
   "outputs": [],
   "source": [
    "occupancy_ax.set_aspect('equal', adjustable='box')"
   ]
  },
  {
   "cell_type": "code",
   "execution_count": null,
   "id": "cea7d05b",
   "metadata": {},
   "outputs": [],
   "source": [
    "curr_active_pipeline.reload_default_display_functions()"
   ]
  },
  {
   "cell_type": "code",
   "execution_count": null,
   "id": "f42513c8",
   "metadata": {},
   "outputs": [],
   "source": [
    "programmatic_render_to_file(curr_active_pipeline, curr_display_function_name='_display_2d_placefield_occupancy', write_vector_format=write_vector_format, write_png=write_png, debug_print=debug_print)"
   ]
  },
  {
   "cell_type": "markdown",
   "id": "1fcd14e5",
   "metadata": {},
   "source": [
    "# TODO 2023-11-27 18:20: - [ ] Generalized ordered sort"
   ]
  },
  {
   "cell_type": "code",
   "execution_count": null,
   "id": "ac58b0ca",
   "metadata": {},
   "outputs": [],
   "source": [
    "from pyphoplacecellanalysis.General.Pipeline.Stages.ComputationFunctions.MultiContextComputationFunctions.DirectionalPlacefieldGlobalComputationFunctions import DirectionalPlacefieldGlobalDisplayFunctions\n",
    "\n",
    "curr_active_pipeline.reload_default_display_functions()\n",
    "curr_active_pipeline.prepare_for_display()\n",
    "_out = curr_active_pipeline.display(DirectionalPlacefieldGlobalDisplayFunctions._display_directional_laps_overview)\n"
   ]
  },
  {
   "cell_type": "code",
   "execution_count": null,
   "id": "b38faf55",
   "metadata": {},
   "outputs": [],
   "source": [
    "\n",
    "# recieves lists of identities (such as cell aclus) and a function that returns a sortable value for each identity:\n",
    "directional_laps_results = curr_active_pipeline.global_computation_results.computed_data['DirectionalLaps']\n",
    "track_templates: TrackTemplates = directional_laps_results.get_templates(minimum_inclusion_fr_Hz=None) # non-shared-only\n",
    "decoders_dict = track_templates.get_decoders_dict() # decoders_dict = {'long_LR': track_templates.long_LR_decoder, 'long_RL': track_templates.long_RL_decoder, 'short_LR': track_templates.short_LR_decoder, 'short_RL': track_templates.short_RL_decoder, }\n",
    "\n",
    "neuron_IDs_lists = [a_decoder.neuron_IDs for a_decoder in decoders_dict.values()] # [A, B, C, D, ...]\n",
    "neuron_ID_sets = [set(a_list) for a_list in neuron_IDs_lists]\n",
    "individual_List_sort_indicies = [a_decoder.pf.ratemap.get_sort_indicies() for a_decoder in decoders_dict.values()] # [a_s, b_s, c_s, d_s, ...] individual sort indicies that can be applied to A, B, C, D, ..\n",
    "individual_sorted_neuron_IDs_lists = [a_list[a_sort] for a_list, a_sort in zip(neuron_IDs_lists, individual_List_sort_indicies)] # [A[a_s], B[b_s], C[c_s], D[d_s], ...]\n",
    "sortable_values_lists = [np.argmax(a_decoder.pf.ratemap.normalized_tuning_curves, axis=1) for a_decoder in decoders_dict.values()]\n",
    "# decoders_dict"
   ]
  },
  {
   "cell_type": "code",
   "execution_count": null,
   "id": "28d3acbe",
   "metadata": {},
   "outputs": [],
   "source": [
    "from neuropy.utils.indexing_helpers import paired_incremental_sorting\n",
    "\n",
    "# epoch_active_aclus = np.array([9,  26,  31,  39,  40,  43,  47,  52,  53,  54,  60,  61,  65,  68,  72,  75,  77,  78,  81,  82,  84,  85,  90,  92,  93,  98, 102])\n",
    "\n",
    "neuron_IDs_lists = [a_decoder.neuron_IDs for a_decoder in decoders_dict.values()] # [A, B, C, D, ...]\n",
    "sort_helper_original_neuron_id_to_IDX_dicts = [dict(zip(neuron_ids, np.arange(len(neuron_ids)))) for neuron_ids in neuron_IDs_lists] # just maps each neuron_id in the list to a fragile_linear_IDX \n",
    "sortable_values_lists = [np.argmax(a_decoder.pf.ratemap.normalized_tuning_curves, axis=1) for a_decoder in decoders_dict.values()]\n",
    "sorted_neuron_IDs_lists = paired_incremental_sorting(neuron_IDs_lists, sortable_values_lists)\n",
    "# `sort_helper_neuron_id_to_sort_IDX_dicts` dictionaries in the appropriate order (sorted order) with appropriate indexes. Its .values() can be used to index into things originally indexed with aclus.\n",
    "sort_helper_neuron_id_to_sort_IDX_dicts = [{aclu:a_sort_helper_neuron_id_to_IDX_map[aclu] for aclu in sorted_neuron_ids} for a_sort_helper_neuron_id_to_IDX_map, sorted_neuron_ids in zip(sort_helper_original_neuron_id_to_IDX_dicts, sorted_neuron_IDs_lists)]\n",
    "\n",
    "print(sorted_neuron_IDs_lists)\n"
   ]
  },
  {
   "cell_type": "code",
   "execution_count": null,
   "id": "01b05dff",
   "metadata": {},
   "outputs": [],
   "source": [
    "# If you have a set of values that can be larger than the entries in each list:\n",
    "any_list_neuron_IDs = np.sort(union_of_arrays(*neuron_IDs_lists)) # neuron_IDs as they appear in any list\n",
    "## build color values from these:\n",
    "n_neurons = len(any_list_neuron_IDs)\n",
    "_neuron_qcolors_list, neuron_colors_ndarray = DataSeriesColorHelpers.build_cell_colors(n_neurons, colormap_name='PAL-relaxed_bright', colormap_source=None)\n",
    "unit_colors_map: Dict = dict(zip(any_list_neuron_IDs, neuron_colors_ndarray.copy().T)) # Int:NDArray[(4,)] - {5: array([255, 157, 0.278431, 1]), 7: array([252.817, 175.545, 0.202502, 1]), ...}\n",
    "\n",
    "# `unit_colors_map` is main output\n",
    "# So unlike other attempts, these colors are sorted along with the aclus for each decoder, and we don't try to keep them separate. Since they're actually in a dict (where conceptually the order doesn't really matter) this should be indistinguishable performance-wise from other implementation.\n",
    "sort_helper_neuron_id_to_sort_IDX_dicts = [{aclu:unit_colors_map[aclu] for aclu in sorted_neuron_ids} for sorted_neuron_ids in sorted_neuron_IDs_lists] # [{72: array([11.2724, 145.455, 0.815335, 1]), 84: array([165, 77, 1, 1]), ...}, {72: array([11.2724, 145.455, 0.815335, 1]), 84: array([165, 77, 1, 1]), ...}, ...]\n",
    "sort_helper_neuron_id_to_sort_IDX_dicts\n",
    "# `sort_helper_neuron_id_to_sort_IDX_dicts` is main output here:\n"
   ]
  },
  {
   "cell_type": "code",
   "execution_count": null,
   "id": "604c2b18",
   "metadata": {},
   "outputs": [],
   "source": [
    "\n",
    "\n",
    "# sorted_pf_tuning_curves = [a_decoder.pf.ratemap.pdf_normalized_tuning_curves[a_sort_list, :] for a_decoder, a_sort_list in zip(decoders_dict.values(), sorted_neuron_IDs_lists)]\n",
    "\n",
    "sorted_pf_tuning_curves = [a_decoder.pf.ratemap.pdf_normalized_tuning_curves[np.array(list(a_sort_helper_neuron_id_to_IDX_dict.values())), :] for a_decoder, a_sort_helper_neuron_id_to_IDX_dict in zip(decoders_dict.values(), sort_helper_neuron_id_to_sort_IDX_dicts)]\n",
    "sorted_pf_tuning_curves"
   ]
  },
  {
   "cell_type": "code",
   "execution_count": null,
   "id": "f0fbdb06",
   "metadata": {},
   "outputs": [],
   "source": [
    "# shared_sort_IDX = _get_decoder_sorted_pfs(track_templates.long_LR_decoder)\n",
    "# track_templates.long_LR_decoder"
   ]
  },
  {
   "cell_type": "markdown",
   "id": "5a572825",
   "metadata": {},
   "source": [
    "# EVEN: \"RL\", ODD: \"LR\"\n",
    "Starts with Even (idx=0)\n",
    "- EVEN: \"RL\"\n",
    "shared_RL_aclus_only_neuron_IDs\n",
    "`is_even = (an_epoch.lap_dir == 0)`\n",
    "- ODD: \"LR\"\n",
    "shared_LR_aclus_only_neuron_IDs\n",
    "`is_odd = (an_epoch.lap_dir == 1)`"
   ]
  },
  {
   "cell_type": "markdown",
   "id": "9ac0ef2b",
   "metadata": {},
   "source": [
    "# 🟢 2023-10-20 - Z-Score Comparisons with Neuron_ID Shuffled templates\n",
    "1. Take the intersection of the long and short templates to get only the common cells\n",
    "2. Determine the long and short \"tempaltes\": this is done by ranking the aclus for each by their placefields' center of mass. `compute_placefield_center_of_masses`\n",
    "\t2a. `long_pf_peak_ranks`, `short_pf_peak_ranks` - there are one of each of these for each shared aclu.\n",
    "3. Generate the unit_id shuffled (`shuffled_aclus`, `shuffle_IDXs`) ahead of time to use to shuffle the two templates during the epochs.\n",
    "4. For each replay event, take each shuffled template\n",
    "\t4a. Iterate through each shuffle and obtain the shuffled templates like `long_pf_peak_ranks[epoch_specific_shuffled_indicies]`, `short_pf_peak_ranks[epoch_specific_shuffled_indicies]`\n",
    "\t4b. compute the spearman rank-order of the event and each shuffled template, and accumulate the results in `long_spearmanr_rank_stats_results`, `short_spearmanr_rank_stats_results`\n",
    "\n",
    "5. After we're done with the shuffle loop, accumulate the results and convert to the right output format.\n",
    "\n",
    "6. When all epochs are done, loop through the results (the epochs again) and compute the z-scores for each epoch so they can be compared to each other. Keep track of the means and std_dev for comparisons later, and subtract the two sets of z-scores (long/short) to get the delta_Z for each template.\n",
    "\n",
    "7. TODO: Next figure out what to do with the array of z-scores and delta_Z. We have:\n",
    "\tn_epochs sets of results\n",
    "\t\tn_shuffles scores of delta_Z\n",
    "\n"
   ]
  },
  {
   "cell_type": "markdown",
   "id": "87fd9d61",
   "metadata": {},
   "source": [
    "## Convo with Kamran 2023-10-23:\n",
    "- Use directional templates **\n",
    "- No need to worry about re-ranking\n",
    "[X] Plot the long and short separately in addition to the difference, so we show significant reqplay on each as a sanity check\n",
    "[X] Absolute value difference?\n",
    "[X] Fisher transform the correlation values (check if there is a difference) because correlation coefficients aren't going to be normally distributed.\n",
    "\t[ ] Then Z-score releative to fisher.\n",
    "\n",
    "- T-test to compare to mean of zero (if looking at the difference)"
   ]
  },
  {
   "cell_type": "code",
   "execution_count": null,
   "id": "419ffd4a",
   "metadata": {},
   "outputs": [],
   "source": [
    "## Concerns:\n",
    "# 1. Permutation recommended over shuffling for small numbers of ids\n",
    "# 2.\n",
    "\n",
    "# 5Hz thresholding of templates\n"
   ]
  },
  {
   "cell_type": "markdown",
   "id": "ec58689d",
   "metadata": {},
   "source": [
    "## Resume"
   ]
  },
  {
   "cell_type": "code",
   "execution_count": 10,
   "id": "fd86cb20",
   "metadata": {
    "ExecuteTime": {
     "end_time": "2023-11-16T23:22:34.093953500Z",
     "start_time": "2023-11-16T23:22:33.960957900Z"
    },
    "notebookRunGroups": {
     "groupValue": "1"
    },
    "slideshow": {
     "slide_type": "fragment"
    }
   },
   "outputs": [],
   "source": [
    "from nptyping import NDArray\n",
    "from attrs import define, field, Factory, astuple\n",
    "import scipy.stats\n",
    "from scipy import ndimage\n",
    "from neuropy.utils.misc import build_shuffled_ids # used in _SHELL_analyze_leave_one_out_decoding_results\n",
    "from pyphoplacecellanalysis.SpecificResults.PhoDiba2023Paper import pho_stats_paired_t_test\n",
    "\n",
    "\n",
    "# minimum_inclusion_fr_Hz: float = 2.0\n",
    "rank_order_results: RankOrderComputationsContainer = curr_active_pipeline.global_computation_results.computed_data['RankOrder']\n",
    "minimum_inclusion_fr_Hz: float = rank_order_results.minimum_inclusion_fr_Hz\n",
    "\n",
    "# Recover from the saved global result:\n",
    "directional_laps_results = curr_active_pipeline.global_computation_results.computed_data['DirectionalLaps']\n",
    "# NEW 2023-11-22 method: Get the templates (which can be filtered by frate first) and the from those get the decoders):        \n",
    "# track_templates: TrackTemplates = directional_laps_results.get_shared_aclus_only_templates(minimum_inclusion_fr_Hz=minimum_inclusion_fr_Hz) # shared-only\n",
    "track_templates: TrackTemplates = directional_laps_results.get_templates(minimum_inclusion_fr_Hz=minimum_inclusion_fr_Hz) # non-shared-only\n",
    "long_LR_decoder, long_RL_decoder, short_LR_decoder, short_RL_decoder = track_templates.get_decoders()\n",
    "\n",
    "## Pre 2023-11-22 method: building a TrackTemplates object after getting the raw decoders:\n",
    "# long_LR_one_step_decoder_1D, long_RL_one_step_decoder_1D, short_LR_one_step_decoder_1D, short_RL_one_step_decoder_1D = directional_laps_results.get_decoders()\n",
    "# long_LR_decoder, long_RL_decoder, short_LR_decoder, short_RL_decoder = directional_laps_results.get_shared_aclus_only_decoders()\n",
    "# track_templates: TrackTemplates = TrackTemplates.init_from_paired_decoders(LR_decoder_pair=(long_LR_decoder, short_LR_decoder), RL_decoder_pair=(long_RL_decoder, short_RL_decoder))\n",
    "# # track_templates: TrackTemplates = TrackTemplates.init_from_paired_decoders(LR_decoder_pair=(long_LR_one_step_decoder_1D, short_LR_one_step_decoder_1D), RL_decoder_pair=(long_RL_one_step_decoder_1D, short_RL_one_step_decoder_1D)) # NOTE: now use the un-constrained versions\n",
    "\n",
    "# Unpack all directional variables:\n",
    "## {\"even\": \"RL\", \"odd\": \"LR\"}\n",
    "long_LR_name, short_LR_name, global_LR_name, long_RL_name, short_RL_name, global_RL_name, long_any_name, short_any_name, global_any_name = ['maze1_odd', 'maze2_odd', 'maze_odd', 'maze1_even', 'maze2_even', 'maze_even', 'maze1_any', 'maze2_any', 'maze_any']\n",
    "# Unpacking for `(long_LR_name, long_RL_name, short_LR_name, short_RL_name)`\n",
    "(long_LR_context, long_RL_context, short_LR_context, short_RL_context) = [curr_active_pipeline.filtered_contexts[a_name] for a_name in (long_LR_name, long_RL_name, short_LR_name, short_RL_name)]\n",
    "long_LR_epochs_obj, long_RL_epochs_obj, short_LR_epochs_obj, short_RL_epochs_obj, global_any_laps_epochs_obj = [curr_active_pipeline.computation_results[an_epoch_name].computation_config.pf_params.computation_epochs for an_epoch_name in (long_LR_name, long_RL_name, short_LR_name, short_RL_name, global_any_name)] # note has global also\n",
    "(long_LR_session, long_RL_session, short_LR_session, short_RL_session) = [curr_active_pipeline.filtered_sessions[an_epoch_name] for an_epoch_name in (long_LR_name, long_RL_name, short_LR_name, short_RL_name)] # sessions are correct at least, seems like just the computation parameters are messed up\n",
    "(long_LR_results, long_RL_results, short_LR_results, short_RL_results) = [curr_active_pipeline.computation_results[an_epoch_name].computed_data for an_epoch_name in (long_LR_name, long_RL_name, short_LR_name, short_RL_name)]\n",
    "(long_LR_computation_config, long_RL_computation_config, short_LR_computation_config, short_RL_computation_config) = [curr_active_pipeline.computation_results[an_epoch_name].computation_config for an_epoch_name in (long_LR_name, long_RL_name, short_LR_name, short_RL_name)]\n",
    "(long_LR_pf1D, long_RL_pf1D, short_LR_pf1D, short_RL_pf1D) = (long_LR_results.pf1D, long_RL_results.pf1D, short_LR_results.pf1D, short_RL_results.pf1D)\n",
    "(long_LR_pf2D, long_RL_pf2D, short_LR_pf2D, short_RL_pf2D) = (long_LR_results.pf2D, long_RL_results.pf2D, short_LR_results.pf2D, short_RL_results.pf2D)\n",
    "(long_LR_pf1D_Decoder, long_RL_pf1D_Decoder, short_LR_pf1D_Decoder, short_RL_pf1D_Decoder) = (long_LR_results.pf1D_Decoder, long_RL_results.pf1D_Decoder, short_LR_results.pf1D_Decoder, short_RL_results.pf1D_Decoder)\n",
    "\n",
    "LR_results_real_values = np.array([(long_stats_z_scorer.real_value, short_stats_z_scorer.real_value) for epoch_id, (long_stats_z_scorer, short_stats_z_scorer, long_short_z_diff, long_short_naive_z_diff, is_forward_replay) in rank_order_results.LR_ripple.ranked_aclus_stats_dict.items()])\n",
    "RL_results_real_values = np.array([(long_stats_z_scorer.real_value, short_stats_z_scorer.real_value) for epoch_id, (long_stats_z_scorer, short_stats_z_scorer, long_short_z_diff, long_short_naive_z_diff, is_forward_replay) in rank_order_results.RL_ripple.ranked_aclus_stats_dict.items()])\n",
    "\n",
    "LR_results_long_short_z_diffs = np.array([long_short_z_diff for epoch_id, (long_stats_z_scorer, short_stats_z_scorer, long_short_z_diff, long_short_naive_z_diff, is_forward_replay) in rank_order_results.LR_ripple.ranked_aclus_stats_dict.items()])\n",
    "RL_results_long_short_z_diff = np.array([long_short_z_diff for epoch_id, (long_stats_z_scorer, short_stats_z_scorer, long_short_z_diff, long_short_naive_z_diff, is_forward_replay) in rank_order_results.RL_ripple.ranked_aclus_stats_dict.items()])\n",
    "\n",
    "\n",
    "# LR_results_real_values"
   ]
  },
  {
   "cell_type": "code",
   "execution_count": null,
   "id": "a383a58b",
   "metadata": {},
   "outputs": [],
   "source": [
    "rank_order_results.LR_laps.spikes_df\n",
    "\n",
    "track_templates.filtered_by_frate(minimum_inclusion_fr_Hz=10.0)\n"
   ]
  },
  {
   "cell_type": "code",
   "execution_count": null,
   "id": "213d82a6",
   "metadata": {},
   "outputs": [],
   "source": [
    "included_aclus = curr_active_pipeline.determine_good_aclus_by_qclu(included_qclu_values=[1,2]) # array([  2,   5,   8,  10,  14,  15,  23,  24,  25,  26,  31,  32,  33,  41,  49,  50,  51,  55,  58,  64,  69,  70,  73,  74,  75,  76,  78,  81,  82,  83,  85,  86,  90,  92,  93,  96, 105, 109])\n",
    "included_aclus"
   ]
  },
  {
   "cell_type": "code",
   "execution_count": null,
   "id": "af7c59b8",
   "metadata": {},
   "outputs": [],
   "source": [
    "\n",
    "\n",
    "track_templates.shared_LR_aclus_only_neuron_IDs\n",
    "track_templates.shared_RL_aclus_only_neuron_IDs"
   ]
  },
  {
   "cell_type": "code",
   "execution_count": null,
   "id": "eaee5744",
   "metadata": {},
   "outputs": [],
   "source": [
    "track_templates.long_LR_decoder.neuron_IDs\n",
    "ratemap = track_templates.long_LR_decoder.ratemap\n",
    "# ratemap.neuron_extended_ids\n",
    "\n",
    "track_templates.long_LR_decoder.spikes_df"
   ]
  },
  {
   "cell_type": "code",
   "execution_count": null,
   "id": "659d5e5e",
   "metadata": {},
   "outputs": [],
   "source": [
    "track_templates.shared_LR_aclus_only_neuron_IDs"
   ]
  },
  {
   "cell_type": "code",
   "execution_count": null,
   "id": "64c66001",
   "metadata": {},
   "outputs": [],
   "source": [
    "LR_results_long_short_z_diffs"
   ]
  },
  {
   "cell_type": "code",
   "execution_count": null,
   "id": "3ebb454c",
   "metadata": {
    "tags": [
     "histogram"
    ]
   },
   "outputs": [],
   "source": [
    "from pyphoplacecellanalysis.General.Pipeline.Stages.ComputationFunctions.MultiContextComputationFunctions.RankOrderComputations import plot_rank_order_histograms\n",
    "\n",
    "# Plot histograms:\n",
    "post_title_info: str = f'{minimum_inclusion_fr_Hz} Hz\\n{curr_active_pipeline.get_session_context().get_description()}'\n",
    "_out_z_score, _out_real, _out_most_likely_z = plot_rank_order_histograms(rank_order_results, post_title_info=post_title_info)\n"
   ]
  },
  {
   "cell_type": "markdown",
   "id": "b641e1f6",
   "metadata": {},
   "source": [
    "#TODO 2023-12-10 19:56: - [ ] Histogram Display Helpers\n",
    "\n",
    "#TODO 2023-12-10 19:56: - [ ] Pf1D Helpers\n",
    "\n",
    "#TODO 2023-12-10 19:57: - [ ] Variant Saving\n",
    " "
   ]
  },
  {
   "cell_type": "code",
   "execution_count": null,
   "id": "d9036d3a",
   "metadata": {},
   "outputs": [],
   "source": [
    "\n",
    "curr_active_pipeline.get_session_context().get_description()\n"
   ]
  },
  {
   "cell_type": "code",
   "execution_count": null,
   "id": "c33ed6d2",
   "metadata": {},
   "outputs": [],
   "source": [
    "track_templates: TrackTemplates = directional_laps_results.get_templates(minimum_inclusion_fr_Hz=0.0) # non-shared-only\n",
    "long_LR_decoder, long_RL_decoder, short_LR_decoder, short_RL_decoder = track_templates.get_decoders()\n",
    "\n",
    "# filtered_decoder_list = [filtered_by_frate(a_decoder, minimum_inclusion_fr_Hz=minimum_inclusion_fr_Hz, debug_print=True) for a_decoder in (long_LR_one_step_decoder_1D, long_RL_one_step_decoder_1D, short_LR_one_step_decoder_1D, short_RL_one_step_decoder_1D)]\n",
    "original_neuron_ids_list = [a_decoder.pf.ratemap.neuron_ids for a_decoder in (long_LR_decoder, long_RL_decoder, short_LR_decoder, short_RL_decoder)]\n",
    "is_aclu_included_list = [a_decoder.pf.ratemap.tuning_curve_unsmoothed_peak_firing_rates >= minimum_inclusion_fr_Hz for a_decoder in (long_LR_decoder, long_RL_decoder, short_LR_decoder, short_RL_decoder)]\n",
    "filtered_aclus_list = [np.array(a_decoder.pf.ratemap.neuron_ids)[a_decoder.pf.ratemap.tuning_curve_unsmoothed_peak_firing_rates >= minimum_inclusion_fr_Hz] for a_decoder in (long_LR_decoder, long_RL_decoder, short_LR_decoder, short_RL_decoder)]\n",
    "\n",
    "## For a given run direction (LR/RL) let's require inclusion in either (OR) long v. short to be included.\n",
    "filtered_included_LR_aclus = np.union1d(filtered_aclus_list[0], filtered_aclus_list[2])\n",
    "filtered_included_RL_aclus = np.union1d(filtered_aclus_list[1], filtered_aclus_list[3])\n",
    "# build the final shared aclus:\n",
    "filtered_direction_shared_aclus_list = [filtered_included_LR_aclus, filtered_included_RL_aclus, filtered_included_LR_aclus, filtered_included_RL_aclus] # contains the shared aclus for that direction\n",
    "# rebuild the is_aclu_included_list from the shared aclus\n",
    "is_aclu_included_list = [np.isin(an_original_neuron_ids, a_filtered_neuron_ids) for an_original_neuron_ids, a_filtered_neuron_ids in zip(original_neuron_ids_list, filtered_direction_shared_aclus_list)]\n",
    "\n",
    "# is_aclu_included_list[0]\n",
    "filtered_direction_shared_aclus_list"
   ]
  },
  {
   "cell_type": "code",
   "execution_count": null,
   "id": "017813cc",
   "metadata": {},
   "outputs": [],
   "source": [
    "# # for 5Hz:\n",
    "# [array([  5,   7,  31,  39,  41,  45,  46,  48,  50,  55,  61,  62,  64,  69,  72,  75,  76,  78,  79,  83,  84,  86,  88,  90,  91,  92,  95,  99, 100, 108]),\n",
    "#  array([  5,   7,   9,  31,  32,  39,  41,  45,  46,  48,  50,  55,  61,  62,  64,  69,  72,  75,  76,  78,  79,  83,  84,  86,  88,  90,  91,  92,  93,  95,  99, 101, 108]),\n",
    "#  array([  5,   7,  31,  39,  41,  45,  46,  48,  50,  55,  61,  62,  64,  69,  72,  75,  76,  78,  79,  83,  84,  86,  88,  90,  91,  92,  95,  99, 100, 108]),\n",
    "#  array([  5,   7,   9,  31,  32,  39,  41,  45,  46,  48,  50,  55,  61,  62,  64,  69,  72,  75,  76,  78,  79,  83,  84,  86,  88,  90,  91,  92,  93,  95,  99, 101, 108])]\n",
    "\n",
    "# # for 20Hz:\n",
    "# [array([  5,  41,  46,  48,  69,  78,  79,  83,  86,  88,  90, 108]),\n",
    "#  array([ 62,  64,  75,  78,  83,  91, 101]),\n",
    "#  array([  5,  41,  46,  48,  69,  78,  79,  83,  86,  88,  90, 108]),\n",
    "#  array([ 62,  64,  75,  78,  83,  91, 101])]"
   ]
  },
  {
   "cell_type": "markdown",
   "id": "f6ccfe1f",
   "metadata": {},
   "source": [
    "# 2023-11-22 - RECOMPUTE"
   ]
  },
  {
   "cell_type": "code",
   "execution_count": null,
   "id": "c22e7090",
   "metadata": {},
   "outputs": [],
   "source": [
    "from pyphoplacecellanalysis.General.Pipeline.Stages.ComputationFunctions.MultiContextComputationFunctions.DirectionalPlacefieldGlobalComputationFunctions import DirectionalLapsHelpers\n",
    "from pyphoplacecellanalysis.General.Pipeline.Stages.ComputationFunctions.MultiContextComputationFunctions.RankOrderComputations import RankOrderGlobalComputationFunctions\n",
    "\n",
    "curr_active_pipeline.reload_default_computation_functions()\n",
    "\n",
    "## clear the old values to prepare for the new ones:\n",
    "curr_active_pipeline.global_computation_results.computed_data['DirectionalLaps'] = None\n",
    "curr_active_pipeline.global_computation_results.computed_data['RankOrder'] = None\n",
    "del curr_active_pipeline.global_computation_results.computed_data['DirectionalLaps']\n",
    "del curr_active_pipeline.global_computation_results.computed_data['RankOrder']\n",
    "\n",
    "curr_active_pipeline.global_computation_results.computed_data['DirectionalLaps'] = DirectionalLapsHelpers.build_global_directional_result_from_natural_epochs(curr_active_pipeline, progress_print=True) # repalce the directional laps object\n",
    "directional_laps_results: DirectionalLapsResult = curr_active_pipeline.global_computation_results.computed_data['DirectionalLaps']\n",
    "\n",
    "# minimum_inclusion_fr_Hz = 1.0\n",
    "# included_qclu_values = [1,2]\n",
    "\n",
    "minimum_inclusion_fr_Hz = 2.0\n",
    "included_qclu_values = [1,2,4,9]\n",
    "\n",
    "# perform_rank_order_shuffle_analysis\n",
    "# with VizTracer(output_file=f\"viztracer_{get_now_time_str()}-perform_rank_order_shuffle_analysis_{curr_active_pipeline.session_name}.json\", min_duration=200, tracer_entries=3000000, ignore_frozen=True) as tracer:\n",
    "RankOrderGlobalComputationFunctions.perform_rank_order_shuffle_analysis(curr_active_pipeline, curr_active_pipeline.global_computation_results, None, None, include_includelist=None, debug_print=False,\n",
    "                                                                        num_shuffles=100, minimum_inclusion_fr_Hz=minimum_inclusion_fr_Hz, included_qclu_values=included_qclu_values, skip_laps=False)\n"
   ]
  },
  {
   "cell_type": "code",
   "execution_count": null,
   "id": "f86d5ac8",
   "metadata": {},
   "outputs": [],
   "source": [
    "rank_order_results: RankOrderComputationsContainer = curr_active_pipeline.global_computation_results.computed_data['RankOrder']\n",
    "minimum_inclusion_fr_Hz: float = rank_order_results.minimum_inclusion_fr_Hz\n",
    "included_qclu_values: List[int] = rank_order_results.included_qclu_values\n",
    "ripple_result_tuple, laps_result_tuple = rank_order_results.ripple_most_likely_result_tuple, rank_order_results.laps_most_likely_result_tuple\n",
    "directional_laps_results: DirectionalLapsResult = curr_active_pipeline.global_computation_results.computed_data['DirectionalLaps']\n",
    "track_templates: TrackTemplates = directional_laps_results.get_templates(minimum_inclusion_fr_Hz=minimum_inclusion_fr_Hz) # non-shared-only -- !! Is minimum_inclusion_fr_Hz=None the issue/difference?\n",
    "print(f'minimum_inclusion_fr_Hz: {minimum_inclusion_fr_Hz}')\n",
    "print(f'included_qclu_values: {included_qclu_values}')\n",
    "\n",
    "# 10m 29.5s for 1000 shuffles.  c:\\Users\\pho\\repos\\Spike3DWorkEnv\\Spike3D\\viztracer_2023-11-22_16-11-perform_rank_order_shuffle_analysis.json\n",
    "\n",
    "# 3m 33.9s - 500\n",
    "# 3m 26.4s - 1000"
   ]
  },
  {
   "cell_type": "code",
   "execution_count": null,
   "id": "dfe68671",
   "metadata": {},
   "outputs": [],
   "source": [
    "# TypeError: <lambda>() missing 1 required positional argument\n"
   ]
  },
  {
   "cell_type": "code",
   "execution_count": null,
   "id": "8a4aa497",
   "metadata": {},
   "outputs": [],
   "source": [
    "from neuropy.utils.debug_helpers import parameter_sweeps\n",
    "\n",
    "\n",
    "\n",
    "def _compute_parameter_sweep(spikes_df, active_pos, all_param_sweep_options: dict) -> dict:\n",
    "    \"\"\" Computes the PfNDs for all the swept parameters (combinations of grid_bin, smooth, etc)\n",
    "    \n",
    "    Usage:\n",
    "        from PendingNotebookCode import _compute_parameter_sweep\n",
    "\n",
    "        minimum_inclusion_fr_Hz = [0.0, 1.0, 2.0, 5.0, 10.0, 15.0]\n",
    "        included_qclu_values = [[1,2,4,9], [1,2]]\n",
    "        all_param_sweep_options = cartesian_product(smooth_options, grid_bin_options)\n",
    "        param_sweep_option_n_values = dict(smooth=len(smooth_options), grid_bin=len(grid_bin_options)) \n",
    "        output_pfs = _compute_parameter_sweep(spikes_df, active_pos, all_param_sweep_options)\n",
    "\n",
    "    \"\"\"\n",
    "    output_pfs = {} # empty dict\n",
    "\n",
    "    for a_sweep_dict in all_param_sweep_options:\n",
    "        a_sweep_tuple = frozenset(a_sweep_dict.items())\n",
    "        output_pfs[a_sweep_tuple] = PfND(deepcopy(spikes_df).spikes.sliced_by_neuron_type('pyramidal'), deepcopy(active_pos.linear_pos_obj), **a_sweep_dict) # grid_bin=, etc\n",
    "        \n",
    "    return output_pfs\n",
    "\n",
    "\n",
    "all_param_sweep_options, param_sweep_option_n_values = parameter_sweeps(minimum_inclusion_fr_Hz = [0.0, 1.0, 2.0, 5.0, 10.0, 15.0], included_qclu_values = [[1,2,4,9], [1,2]])\n",
    "output_results = _compute_parameter_sweep(spikes_df, active_pos, all_param_sweep_options)\n",
    "\n"
   ]
  },
  {
   "cell_type": "code",
   "execution_count": null,
   "id": "28f1c551",
   "metadata": {},
   "outputs": [],
   "source": [
    "## Recompute just the `most_likely_directional_rank_order_shuffling` part:\n",
    "# from pyphoplacecellanalysis.General.Pipeline.Stages.ComputationFunctions.MultiContextComputationFunctions.RankOrderComputations import RankOrderComputationsContainer\n",
    "# from pyphoplacecellanalysis.General.Pipeline.Stages.ComputationFunctions.MultiContextComputationFunctions.RankOrderComputations import DirectionalRankOrderLikelihoods\n",
    "# from pyphoplacecellanalysis.General.Pipeline.Stages.ComputationFunctions.MultiContextComputationFunctions.RankOrderComputations import RankOrderAnalyses\n",
    "## Main\n",
    "ripple_result_tuple, laps_result_tuple = RankOrderAnalyses.most_likely_directional_rank_order_shuffling(curr_active_pipeline, decoding_time_bin_size=0.003)\n",
    "rank_order_results.ripple_most_likely_result_tuple, rank_order_results.laps_most_likely_result_tuple = ripple_result_tuple, laps_result_tuple"
   ]
  },
  {
   "cell_type": "code",
   "execution_count": null,
   "id": "8d4b9c0f",
   "metadata": {},
   "outputs": [],
   "source": [
    "directional_likelihoods_tuple: DirectionalRankOrderLikelihoods = deepcopy(ripple_result_tuple.directional_likelihoods_tuple)\n",
    "directional_likelihoods_tuple.long_best_direction_indices\n",
    "directional_likelihoods_tuple.short_best_direction_indices\n",
    "# directional_likelihoods_tuple.long_relative_direction_likelihoods"
   ]
  },
  {
   "cell_type": "markdown",
   "id": "426c292d",
   "metadata": {},
   "source": [
    "\n",
    "\n",
    "\n",
    "\n",
    "# Saving/Loading `DirectionalLaps_2Hz`"
   ]
  },
  {
   "cell_type": "code",
   "execution_count": null,
   "id": "ca5d105e",
   "metadata": {},
   "outputs": [],
   "source": [
    "# 2023-11-27 - I'd like to be able to save/load single results a time, (meaning specific to their parameters):\n",
    "# day_date_str: str = '2023-12-11-minimum_inclusion_fr_Hz_2_included_qclu_values_1-2_'\n",
    "class SaveStringGenerator:\n",
    "\t_minimal_decimals_float_formatter = lambda x: f\"{x:.1f}\".rstrip('0').rstrip('.')\n",
    "\t\n",
    "def generate_save_suffix(minimum_inclusion_fr_Hz: float, included_qclu_values: List[int], day_date: str='2023-12-11') -> str:\n",
    "\t# day_date_str: str = '2023-12-11-minimum_inclusion_fr_Hz_2_included_qclu_values_1-2_'\n",
    "\tprint(f'minimum_inclusion_fr_Hz: {minimum_inclusion_fr_Hz}')\n",
    "\tprint(f'included_qclu_values: {included_qclu_values}')\n",
    "\tout_filename_str: str = '-'.join([day_date, f'minimum_inclusion_fr', SaveStringGenerator._minimal_decimals_float_formatter(minimum_inclusion_fr_Hz), f'included_qclu_values', f'{included_qclu_values}'])\n",
    "\treturn out_filename_str\n",
    "\n",
    "# list = ['2Hz', '12Hz']"
   ]
  },
  {
   "cell_type": "code",
   "execution_count": null,
   "id": "5ed6c50e",
   "metadata": {},
   "outputs": [],
   "source": [
    "from pyphoplacecellanalysis.General.Pipeline.Stages.Loading import saveData\n",
    "from attrs import asdict\n",
    "## Uses `generate_save_suffix` and the current rank_order_result's parameters to build a reasonable save name:\n",
    "minimum_inclusion_fr_Hz: float = rank_order_results.minimum_inclusion_fr_Hz\n",
    "included_qclu_values: List[int] = rank_order_results.included_qclu_values\n",
    "out_filename_str = generate_save_suffix(minimum_inclusion_fr_Hz=minimum_inclusion_fr_Hz, included_qclu_values=included_qclu_values, day_date='2023-12-12')\n",
    "print(f'out_filename_str: \"{out_filename_str}\"')\n",
    "directional_laps_output_path = curr_active_pipeline.get_output_path().joinpath(f'{out_filename_str}DirectionalLaps.pkl').resolve()\n",
    "saveData(directional_laps_output_path, (curr_active_pipeline.global_computation_results.computed_data['DirectionalLaps']))\n",
    "rank_order_output_path = curr_active_pipeline.get_output_path().joinpath(f'{out_filename_str}RankOrder.pkl').resolve()\n",
    "saveData(rank_order_output_path, (curr_active_pipeline.global_computation_results.computed_data['RankOrder']))\n",
    "# saveData(rank_order_output_path, (asdict(curr_active_pipeline.global_computation_results.computed_data['RankOrder'], recurse=True)))\n",
    "\n",
    "# saveData(directional_laps_output_path, (curr_active_pipeline.global_computation_results.computed_data['DirectionalLaps'], asdict(curr_active_pipeline.global_computation_results.computed_data['RankOrder'], recurse=False))) \n",
    "# saveData(directional_laps_output_path, (curr_active_pipeline.global_computation_results.computed_data['DirectionalLaps']))"
   ]
  },
  {
   "cell_type": "code",
   "execution_count": null,
   "id": "aeeed70d",
   "metadata": {},
   "outputs": [],
   "source": [
    "asdict(curr_active_pipeline.global_computation_results.computed_data['RankOrder'], recurse=False) # TypeError: <lambda>() missing 4 required positional arguments: 'short_stats_z_scorer', 'long_short_z_diff', 'long_short_naive_z_diff', and 'is_forward_replay'"
   ]
  },
  {
   "cell_type": "code",
   "execution_count": null,
   "id": "d2230163",
   "metadata": {},
   "outputs": [],
   "source": [
    "from pyphoplacecellanalysis.General.Pipeline.Stages.Loading import loadData\n",
    "\n",
    "# Load the data from a file into the pipeline:\n",
    "# out_filename_str: str = '2023-12-11-minimum_inclusion_fr_Hz_2_included_qclu_values_1-2_' # specific\n",
    "\n",
    "minimum_inclusion_fr_Hz: float = 2.0\n",
    "included_qclu_values: List[int] = [1,2,4,9]\n",
    "out_filename_str = generate_save_suffix(minimum_inclusion_fr_Hz=minimum_inclusion_fr_Hz, included_qclu_values=included_qclu_values, day_date='2023-12-12')\n",
    "print(f'out_filename_str: \"{out_filename_str}\"')\n",
    "# day_date_str: str = '2023-12-11_with_tuple_newer_'\n",
    "# day_date_str: str = ''\n",
    "directional_laps_output_path = curr_active_pipeline.get_output_path().joinpath(f'{out_filename_str}DirectionalLaps.pkl').resolve()\n",
    "assert directional_laps_output_path.exists()\n",
    "# loaded_directional_laps, loaded_rank_order = loadData(directional_laps_output_path)\n",
    "loaded_directional_laps = loadData(directional_laps_output_path)\n",
    "assert (loaded_directional_laps is not None)\n",
    "# assert (loaded_rank_order is not None)\n",
    "# Apply the loaded data to the pipeline:\n",
    "# curr_active_pipeline.global_computation_results.computed_data['DirectionalLaps'], curr_active_pipeline.global_computation_results.computed_data['RankOrder'] = loaded_directional_laps, loaded_rank_order\n",
    "# curr_active_pipeline.global_computation_results.computed_data['RankOrder']\n"
   ]
  },
  {
   "cell_type": "code",
   "execution_count": null,
   "id": "a4423bc5",
   "metadata": {},
   "outputs": [],
   "source": [
    "rank_order_output_path = curr_active_pipeline.get_output_path().joinpath(f'{out_filename_str}RankOrder.pkl').resolve()\n",
    "loaded_rank_order = loadData(rank_order_output_path)\n",
    "loaded_rank_order\n",
    "# asdict(loaded_directional_laps, recurse=True) == asdict(curr_active_pipeline.global_computation_results.computed_data['DirectionalLaps'], recurse=True)"
   ]
  },
  {
   "cell_type": "code",
   "execution_count": null,
   "id": "d4c3b46b",
   "metadata": {},
   "outputs": [],
   "source": [
    "from pathlib import Path\n",
    "from pyphocorehelpers.print_helpers import DocumentationFilePrinter, print_keys_if_possible\n",
    "\n",
    "doc_printer = DocumentationFilePrinter(doc_output_parent_folder=Path(r'C:\\Users\\pho\\repos\\Spike3DWorkEnv\\Spike3D\\EXTERNAL\\DEVELOPER_NOTES'), doc_name='RankOrder')\n",
    "doc_printer.save_documentation('RankOrder', curr_active_pipeline.global_computation_results.computed_data['RankOrder'], non_expanded_item_keys=['stage','_reverse_cellID_index_map', 'pf_listed_colormap', 'computation_results', 'active_configs', 'logger', 'plot', '_plot_object'],\n",
    "                               additional_excluded_item_classes=[\"<class 'pyphoplacecellanalysis.General.Pipeline.Stages.Display.Plot'>\"], max_depth=16) # 'Logger'\n",
    "\n",
    "doc_printer.display_widget()"
   ]
  },
  {
   "cell_type": "code",
   "execution_count": null,
   "id": "a22f4f37",
   "metadata": {},
   "outputs": [],
   "source": [
    "# base ipywidgets\n",
    "from pyphocorehelpers.gui.Jupyter.JupyterButtonRowWidget import JupyterButtonRowWidget, JupyterButtonContainerWidget, JupyterButtonColumnWidget, build_fn_bound_buttons\n",
    "from pyphoplacecellanalysis.GUI.IPyWidgets.pipeline_ipywidgets import saveFile, openDialogAtHome, try_save_pickle_as, PipelineJupyterHelpers, interactive_pipeline_files, interactive_pipeline_widget\n",
    "from pyphocorehelpers.gui.Jupyter.simple_widgets import fullwidth_path_widget\n",
    "\n",
    "fullwidth_path_widget(str(doc_printer.output_html_file.resolve()), file_name_label='documentation: ')\n"
   ]
  },
  {
   "cell_type": "markdown",
   "id": "f4ec24467335a760",
   "metadata": {},
   "source": [
    "# POST-Compute:"
   ]
  },
  {
   "cell_type": "code",
   "execution_count": 52,
   "id": "728c46e6",
   "metadata": {
    "notebookRunGroups": {
     "groupValue": "21"
    }
   },
   "outputs": [
    {
     "name": "stdout",
     "output_type": "stream",
     "text": [
      "minimum_inclusion_fr_Hz: 2.0\n",
      "included_qclu_values: [1, 2, 4, 9]\n"
     ]
    }
   ],
   "source": [
    "from pyphoplacecellanalysis.General.Pipeline.Stages.ComputationFunctions.MultiContextComputationFunctions.DirectionalPlacefieldGlobalComputationFunctions import DirectionalPlacefieldGlobalDisplayFunctions\n",
    "from pyphoplacecellanalysis.General.Pipeline.Stages.DisplayFunctions.SpikeRasters import plot_multi_sort_raster_browser\n",
    "from pyphoplacecellanalysis.GUI.PyQtPlot.Widgets.ContainerBased.RankOrderRastersDebugger import RankOrderRastersDebugger\n",
    "\n",
    "from pyphoplacecellanalysis.General.Pipeline.Stages.DisplayFunctions.SpikeRasters import paired_separately_sort_neurons, paired_incremental_sort_neurons # _display_directional_template_debugger\n",
    "from neuropy.utils.indexing_helpers import paired_incremental_sorting, union_of_arrays, intersection_of_arrays, find_desired_sort_indicies\n",
    "from pyphoplacecellanalysis.GUI.Qt.Widgets.ScrollBarWithSpinBox.ScrollBarWithSpinBox import ScrollBarWithSpinBox\n",
    "\n",
    "from neuropy.utils.mixins.HDF5_representable import HDF_SerializationMixin\n",
    "from pyphoplacecellanalysis.General.Model.ComputationResults import ComputedResult\n",
    "from pyphoplacecellanalysis.General.Pipeline.Stages.ComputationFunctions.MultiContextComputationFunctions.DirectionalPlacefieldGlobalComputationFunctions import TrackTemplates\n",
    "from pyphoplacecellanalysis.General.Pipeline.Stages.ComputationFunctions.MultiContextComputationFunctions.RankOrderComputations import RankOrderResult, ShuffleHelper, Zscorer, LongShortStatsTuple, DirectionalRankOrderLikelihoods, DirectionalRankOrderResult, RankOrderComputationsContainer\n",
    "from pyphoplacecellanalysis.General.Pipeline.Stages.ComputationFunctions.MultiContextComputationFunctions.RankOrderComputations import TimeColumnAliasesProtocol\n",
    "from pyphoplacecellanalysis.General.Pipeline.Stages.ComputationFunctions.MultiContextComputationFunctions.RankOrderComputations import RankOrderComputationsContainer\n",
    "\n",
    "## Display Testing\n",
    "# from pyphoplacecellanalysis.External.pyqtgraph import QtGui\n",
    "from pyphoplacecellanalysis.Pho2D.PyQtPlots.Extensions.pyqtgraph_helpers import pyqtplot_build_image_bounds_extent, pyqtplot_plot_image\n",
    "\n",
    "# pg.setConfigOption('background', 'w')\n",
    "# pg.setConfigOption('foreground', 'k')\n",
    "\n",
    "spikes_df = curr_active_pipeline.sess.spikes_df\n",
    "rank_order_results: RankOrderComputationsContainer = curr_active_pipeline.global_computation_results.computed_data['RankOrder']\n",
    "minimum_inclusion_fr_Hz: float = rank_order_results.minimum_inclusion_fr_Hz\n",
    "included_qclu_values: List[int] = rank_order_results.included_qclu_values\n",
    "ripple_result_tuple, laps_result_tuple = rank_order_results.ripple_most_likely_result_tuple, rank_order_results.laps_most_likely_result_tuple\n",
    "directional_laps_results: DirectionalLapsResult = curr_active_pipeline.global_computation_results.computed_data['DirectionalLaps']\n",
    "track_templates: TrackTemplates = directional_laps_results.get_templates(minimum_inclusion_fr_Hz=minimum_inclusion_fr_Hz) # non-shared-only -- !! Is minimum_inclusion_fr_Hz=None the issue/difference?\n",
    "print(f'minimum_inclusion_fr_Hz: {minimum_inclusion_fr_Hz}')\n",
    "print(f'included_qclu_values: {included_qclu_values}')\n",
    "# ripple_result_tuple\n",
    "\n",
    "## Unpacks `rank_order_results`: \n",
    "spikes_df = curr_active_pipeline.sess.spikes_df\n",
    "global_replays = Epoch(deepcopy(curr_active_pipeline.filtered_sessions[global_epoch_name].replay))\n",
    "# global_replays.filename = Path('output/2023-11-16_phoEvents.mew.evt').resolve()\n",
    "# global_replays.to_neuroscope()\n",
    "\n",
    "rank_order_results: RankOrderComputationsContainer = curr_active_pipeline.global_computation_results.computed_data['RankOrder']\n",
    "ripple_result_tuple, laps_result_tuple = rank_order_results.ripple_most_likely_result_tuple, rank_order_results.laps_most_likely_result_tuple\n",
    "\n",
    "# Extract the real spearman-values/p-values:\n",
    "LR_long_relative_real_p_values = np.array([x[0].real_p_value for x in rank_order_results.LR_ripple.ranked_aclus_stats_dict.values()])\n",
    "LR_long_relative_real_values = np.array([x[0].real_value for x in rank_order_results.LR_ripple.ranked_aclus_stats_dict.values()])\n",
    "\n",
    "LR_short_relative_real_p_values = np.array([x[1].real_p_value for x in rank_order_results.LR_ripple.ranked_aclus_stats_dict.values()])\n",
    "LR_short_relative_real_values = np.array([x[1].real_value for x in rank_order_results.LR_ripple.ranked_aclus_stats_dict.values()])\n",
    "\n",
    "LR_template_epoch_actually_included_aclus = [v[1] for v in rank_order_results.LR_ripple.extra_info_dict.values()] # (template_epoch_neuron_IDXs, template_epoch_actually_included_aclus, epoch_neuron_IDX_ranks)\n",
    "LR_relative_num_cells = np.array([len(v[1]) for v in rank_order_results.LR_ripple.extra_info_dict.values()])\n",
    "\n",
    "RL_long_relative_real_p_values = np.array([x[0].real_p_value for x in rank_order_results.RL_ripple.ranked_aclus_stats_dict.values()])\n",
    "RL_long_relative_real_values = np.array([x[0].real_value for x in rank_order_results.RL_ripple.ranked_aclus_stats_dict.values()])\n",
    "\n",
    "RL_short_relative_real_p_values = np.array([x[1].real_p_value for x in rank_order_results.RL_ripple.ranked_aclus_stats_dict.values()])\n",
    "RL_short_relative_real_values = np.array([x[1].real_value for x in rank_order_results.RL_ripple.ranked_aclus_stats_dict.values()])\n",
    "\n",
    "RL_template_epoch_actually_included_aclus = [v[1] for v in rank_order_results.RL_ripple.extra_info_dict.values()] # (template_epoch_neuron_IDXs, template_epoch_actually_included_aclus, epoch_neuron_IDX_ranks)\n",
    "RL_relative_num_cells = np.array([len(v[1]) for v in rank_order_results.RL_ripple.extra_info_dict.values()])\n",
    "\n",
    "# LR_relative_num_cells = np.array([len(x) for x in rank_order_results.LR_ripple.selected_spikes_fragile_linear_neuron_IDX_dict.values()])\n",
    "# RL_relative_num_cells = np.array([len(x) for x in rank_order_results.RL_ripple.selected_spikes_fragile_linear_neuron_IDX_dict.values()])\n",
    "\n",
    "\n",
    "\n",
    "\n",
    "\n",
    "\n",
    "\n",
    "rank_order_results_debug_values = dict(zip(('long_LR', 'long_RL', 'short_LR', 'short_RL'), ([LR_long_relative_real_values, LR_long_relative_real_p_values], [RL_long_relative_real_values, RL_long_relative_real_p_values], [LR_short_relative_real_values, LR_short_relative_real_p_values], [RL_short_relative_real_values, RL_short_relative_real_p_values])))\n"
   ]
  },
  {
   "cell_type": "code",
   "execution_count": 59,
   "id": "825f9cbf",
   "metadata": {},
   "outputs": [
    {
     "data": {
      "text/plain": [
       "[['long_LR_relative_real_values', 'long_LR_relative_p_values'],\n",
       " ['long_RL_relative_real_values', 'long_RL_relative_p_values'],\n",
       " ['short_LR_relative_real_values', 'short_LR_relative_p_values'],\n",
       " ['short_RL_relative_real_values', 'short_RL_relative_p_values']]"
      ]
     },
     "execution_count": 59,
     "metadata": {},
     "output_type": "execute_result"
    }
   ],
   "source": [
    "[[f'{a_col_name}_relative_real_values', f'{a_col_name}_relative_p_values'] for a_col_name in ('long_LR', 'long_RL', 'short_LR', 'short_RL')]\n"
   ]
  },
  {
   "cell_type": "code",
   "execution_count": 68,
   "id": "3a3af536",
   "metadata": {},
   "outputs": [
    {
     "name": "stderr",
     "output_type": "stream",
     "text": [
      "k:\\FastSwap\\Environments\\pypoetry\\pypoetry\\Cache\\virtualenvs\\spike3d-UP7QTzFM-py3.9\\lib\\site-packages\\scipy\\stats\\_stats_py.py:5445: ConstantInputWarning: An input array is constant; the correlation coefficient is not defined.\n",
      "  warnings.warn(stats.ConstantInputWarning(warn_msg))\n"
     ]
    },
    {
     "data": {
      "text/html": [
       "<div>\n",
       "<style scoped>\n",
       "    .dataframe tbody tr th:only-of-type {\n",
       "        vertical-align: middle;\n",
       "    }\n",
       "\n",
       "    .dataframe tbody tr th {\n",
       "        vertical-align: top;\n",
       "    }\n",
       "\n",
       "    .dataframe thead th {\n",
       "        text-align: right;\n",
       "    }\n",
       "</style>\n",
       "<table border=\"1\" class=\"dataframe\">\n",
       "  <thead>\n",
       "    <tr style=\"text-align: right;\">\n",
       "      <th></th>\n",
       "      <th>start</th>\n",
       "      <th>stop</th>\n",
       "      <th>label</th>\n",
       "      <th>duration</th>\n",
       "      <th>end</th>\n",
       "      <th>LR_Long_spearman</th>\n",
       "      <th>RL_Long_spearman</th>\n",
       "      <th>LR_Short_spearman</th>\n",
       "      <th>RL_Short_spearman</th>\n",
       "      <th>LR_Long_pearson</th>\n",
       "      <th>RL_Long_pearson</th>\n",
       "      <th>LR_Short_pearson</th>\n",
       "      <th>RL_Short_pearson</th>\n",
       "    </tr>\n",
       "  </thead>\n",
       "  <tbody>\n",
       "    <tr>\n",
       "      <th>0</th>\n",
       "      <td>42.658077</td>\n",
       "      <td>42.690456</td>\n",
       "      <td>0</td>\n",
       "      <td>0.032379</td>\n",
       "      <td>42.690456</td>\n",
       "      <td>-0.252262</td>\n",
       "      <td>0.600000</td>\n",
       "      <td>-0.285714</td>\n",
       "      <td>0.100000</td>\n",
       "      <td>-0.273626</td>\n",
       "      <td>0.270147</td>\n",
       "      <td>-0.061982</td>\n",
       "      <td>0.159591</td>\n",
       "    </tr>\n",
       "    <tr>\n",
       "      <th>1</th>\n",
       "      <td>55.723809</td>\n",
       "      <td>55.897899</td>\n",
       "      <td>1</td>\n",
       "      <td>0.174090</td>\n",
       "      <td>55.897899</td>\n",
       "      <td>0.118451</td>\n",
       "      <td>0.070407</td>\n",
       "      <td>-0.441408</td>\n",
       "      <td>0.505524</td>\n",
       "      <td>-0.084903</td>\n",
       "      <td>-0.017755</td>\n",
       "      <td>-0.507242</td>\n",
       "      <td>0.476200</td>\n",
       "    </tr>\n",
       "    <tr>\n",
       "      <th>2</th>\n",
       "      <td>73.681176</td>\n",
       "      <td>73.909210</td>\n",
       "      <td>2</td>\n",
       "      <td>0.228034</td>\n",
       "      <td>73.909210</td>\n",
       "      <td>-0.490990</td>\n",
       "      <td>-0.370838</td>\n",
       "      <td>-0.455098</td>\n",
       "      <td>0.301756</td>\n",
       "      <td>-0.410076</td>\n",
       "      <td>-0.190947</td>\n",
       "      <td>-0.336831</td>\n",
       "      <td>0.305938</td>\n",
       "    </tr>\n",
       "    <tr>\n",
       "      <th>3</th>\n",
       "      <td>92.642502</td>\n",
       "      <td>92.770758</td>\n",
       "      <td>3</td>\n",
       "      <td>0.128256</td>\n",
       "      <td>92.770758</td>\n",
       "      <td>0.761500</td>\n",
       "      <td>0.754658</td>\n",
       "      <td>0.835625</td>\n",
       "      <td>0.600000</td>\n",
       "      <td>0.851866</td>\n",
       "      <td>0.888870</td>\n",
       "      <td>0.959532</td>\n",
       "      <td>0.453690</td>\n",
       "    </tr>\n",
       "    <tr>\n",
       "      <th>4</th>\n",
       "      <td>93.027055</td>\n",
       "      <td>93.465245</td>\n",
       "      <td>4</td>\n",
       "      <td>0.438190</td>\n",
       "      <td>93.465245</td>\n",
       "      <td>0.362155</td>\n",
       "      <td>0.256088</td>\n",
       "      <td>0.153926</td>\n",
       "      <td>0.136286</td>\n",
       "      <td>0.375739</td>\n",
       "      <td>0.299714</td>\n",
       "      <td>0.190975</td>\n",
       "      <td>0.125461</td>\n",
       "    </tr>\n",
       "    <tr>\n",
       "      <th>5</th>\n",
       "      <td>93.925000</td>\n",
       "      <td>94.061274</td>\n",
       "      <td>5</td>\n",
       "      <td>0.136274</td>\n",
       "      <td>94.061274</td>\n",
       "      <td>0.486506</td>\n",
       "      <td>0.509175</td>\n",
       "      <td>0.560968</td>\n",
       "      <td>0.991031</td>\n",
       "      <td>0.695946</td>\n",
       "      <td>0.731244</td>\n",
       "      <td>0.747303</td>\n",
       "      <td>0.915170</td>\n",
       "    </tr>\n",
       "    <tr>\n",
       "      <th>...</th>\n",
       "      <td>...</td>\n",
       "      <td>...</td>\n",
       "      <td>...</td>\n",
       "      <td>...</td>\n",
       "      <td>...</td>\n",
       "      <td>...</td>\n",
       "      <td>...</td>\n",
       "      <td>...</td>\n",
       "      <td>...</td>\n",
       "      <td>...</td>\n",
       "      <td>...</td>\n",
       "      <td>...</td>\n",
       "      <td>...</td>\n",
       "    </tr>\n",
       "    <tr>\n",
       "      <th>395</th>\n",
       "      <td>1707.712068</td>\n",
       "      <td>1707.918998</td>\n",
       "      <td>406</td>\n",
       "      <td>0.206930</td>\n",
       "      <td>1707.918998</td>\n",
       "      <td>0.127281</td>\n",
       "      <td>0.360082</td>\n",
       "      <td>0.341785</td>\n",
       "      <td>0.277077</td>\n",
       "      <td>0.111745</td>\n",
       "      <td>0.284002</td>\n",
       "      <td>0.316394</td>\n",
       "      <td>0.244043</td>\n",
       "    </tr>\n",
       "    <tr>\n",
       "      <th>396</th>\n",
       "      <td>1712.414099</td>\n",
       "      <td>1712.479195</td>\n",
       "      <td>407</td>\n",
       "      <td>0.065096</td>\n",
       "      <td>1712.479195</td>\n",
       "      <td>-0.031579</td>\n",
       "      <td>0.020923</td>\n",
       "      <td>-0.268133</td>\n",
       "      <td>-0.040666</td>\n",
       "      <td>0.115731</td>\n",
       "      <td>0.226752</td>\n",
       "      <td>-0.202102</td>\n",
       "      <td>0.001116</td>\n",
       "    </tr>\n",
       "    <tr>\n",
       "      <th>397</th>\n",
       "      <td>1712.756351</td>\n",
       "      <td>1712.953389</td>\n",
       "      <td>408</td>\n",
       "      <td>0.197038</td>\n",
       "      <td>1712.953389</td>\n",
       "      <td>0.017669</td>\n",
       "      <td>-0.124768</td>\n",
       "      <td>-0.312283</td>\n",
       "      <td>0.010897</td>\n",
       "      <td>0.302880</td>\n",
       "      <td>-0.188852</td>\n",
       "      <td>-0.248001</td>\n",
       "      <td>-0.125109</td>\n",
       "    </tr>\n",
       "    <tr>\n",
       "      <th>398</th>\n",
       "      <td>1714.307771</td>\n",
       "      <td>1714.651681</td>\n",
       "      <td>409</td>\n",
       "      <td>0.343910</td>\n",
       "      <td>1714.651681</td>\n",
       "      <td>0.526956</td>\n",
       "      <td>-0.050011</td>\n",
       "      <td>0.460682</td>\n",
       "      <td>-0.203510</td>\n",
       "      <td>0.483629</td>\n",
       "      <td>-0.003226</td>\n",
       "      <td>0.471860</td>\n",
       "      <td>-0.134449</td>\n",
       "    </tr>\n",
       "    <tr>\n",
       "      <th>399</th>\n",
       "      <td>1716.015833</td>\n",
       "      <td>1716.168358</td>\n",
       "      <td>410</td>\n",
       "      <td>0.152525</td>\n",
       "      <td>1716.168358</td>\n",
       "      <td>0.042405</td>\n",
       "      <td>0.545250</td>\n",
       "      <td>0.150878</td>\n",
       "      <td>0.468996</td>\n",
       "      <td>0.156910</td>\n",
       "      <td>0.454722</td>\n",
       "      <td>0.319342</td>\n",
       "      <td>0.357783</td>\n",
       "    </tr>\n",
       "    <tr>\n",
       "      <th>400</th>\n",
       "      <td>1717.686539</td>\n",
       "      <td>1717.726875</td>\n",
       "      <td>411</td>\n",
       "      <td>0.040335</td>\n",
       "      <td>1717.726875</td>\n",
       "      <td>0.411943</td>\n",
       "      <td>0.612372</td>\n",
       "      <td>0.463817</td>\n",
       "      <td>-0.205832</td>\n",
       "      <td>0.566125</td>\n",
       "      <td>0.842605</td>\n",
       "      <td>0.324971</td>\n",
       "      <td>-0.428404</td>\n",
       "    </tr>\n",
       "  </tbody>\n",
       "</table>\n",
       "<p>401 rows × 13 columns</p>\n",
       "</div>"
      ],
      "text/plain": [
       "           start         stop  label  duration          end  LR_Long_spearman  RL_Long_spearman  LR_Short_spearman  RL_Short_spearman  LR_Long_pearson  RL_Long_pearson  LR_Short_pearson  RL_Short_pearson\n",
       "0      42.658077    42.690456      0  0.032379    42.690456         -0.252262          0.600000          -0.285714           0.100000        -0.273626         0.270147         -0.061982          0.159591\n",
       "1      55.723809    55.897899      1  0.174090    55.897899          0.118451          0.070407          -0.441408           0.505524        -0.084903        -0.017755         -0.507242          0.476200\n",
       "2      73.681176    73.909210      2  0.228034    73.909210         -0.490990         -0.370838          -0.455098           0.301756        -0.410076        -0.190947         -0.336831          0.305938\n",
       "3      92.642502    92.770758      3  0.128256    92.770758          0.761500          0.754658           0.835625           0.600000         0.851866         0.888870          0.959532          0.453690\n",
       "4      93.027055    93.465245      4  0.438190    93.465245          0.362155          0.256088           0.153926           0.136286         0.375739         0.299714          0.190975          0.125461\n",
       "5      93.925000    94.061274      5  0.136274    94.061274          0.486506          0.509175           0.560968           0.991031         0.695946         0.731244          0.747303          0.915170\n",
       "..           ...          ...    ...       ...          ...               ...               ...                ...                ...              ...              ...               ...               ...\n",
       "395  1707.712068  1707.918998    406  0.206930  1707.918998          0.127281          0.360082           0.341785           0.277077         0.111745         0.284002          0.316394          0.244043\n",
       "396  1712.414099  1712.479195    407  0.065096  1712.479195         -0.031579          0.020923          -0.268133          -0.040666         0.115731         0.226752         -0.202102          0.001116\n",
       "397  1712.756351  1712.953389    408  0.197038  1712.953389          0.017669         -0.124768          -0.312283           0.010897         0.302880        -0.188852         -0.248001         -0.125109\n",
       "398  1714.307771  1714.651681    409  0.343910  1714.651681          0.526956         -0.050011           0.460682          -0.203510         0.483629        -0.003226          0.471860         -0.134449\n",
       "399  1716.015833  1716.168358    410  0.152525  1716.168358          0.042405          0.545250           0.150878           0.468996         0.156910         0.454722          0.319342          0.357783\n",
       "400  1717.686539  1717.726875    411  0.040335  1717.726875          0.411943          0.612372           0.463817          -0.205832         0.566125         0.842605          0.324971         -0.428404\n",
       "\n",
       "[401 rows x 13 columns]"
      ]
     },
     "execution_count": 68,
     "metadata": {},
     "output_type": "execute_result"
    }
   ],
   "source": [
    "def calculate_correlations(group, method='spearman'):\n",
    "    \"\"\" computes the pearson correlations between the spiketimes during a specific epoch (identified by each 'Probe_Epoch_id' group) and that spike's pf_peak_x location in the template.\n",
    "    \n",
    "    correlations = active_selected_spikes_df.groupby('Probe_Epoch_id').apply(lambda group: calculate_correlations(group, method='spearman'))\n",
    "    correlations = active_selected_spikes_df.groupby('Probe_Epoch_id').apply(lambda group: calculate_correlations(group, method='pearson'))\n",
    "    \n",
    "    \"\"\"\n",
    "    correlations = {\n",
    "        f'LR_Long_{method}': group['t_rel_seconds'].corr(group['LR_Long_pf_peak_x'], method=method),\n",
    "        f'RL_Long_{method}': group['t_rel_seconds'].corr(group['RL_Long_pf_peak_x'], method=method),\n",
    "        f'LR_Short_{method}': group['t_rel_seconds'].corr(group['LR_Short_pf_peak_x'], method=method),\n",
    "        f'RL_Short_{method}': group['t_rel_seconds'].corr(group['RL_Short_pf_peak_x'], method=method)\n",
    "    }\n",
    "    return pd.Series(correlations)\n",
    "\n",
    "desired_df_label_column_data_type: str = 'uint64'\n",
    "# desired_df_label_column_data_type: str = 'string'\n",
    "\n",
    "selected_spikes_df: pd.DataFrame = deepcopy(rank_order_results.LR_ripple.selected_spikes_df) #TODO 2023-12-13 01:32: - [ ] WARN: this is just the LR_ripple's selected_spikes_df, I might need to merge with RL_ripple's selected_spikes_df?? `ripple_result_tuple.active_epochs.label`\n",
    "## Adding the pf_peak_x locations for all four templates:\n",
    "_pf_peak_x_column_names = ['LR_Long_pf_peak_x', 'RL_Long_pf_peak_x', 'LR_Short_pf_peak_x', 'RL_Short_pf_peak_x']\n",
    "selected_spikes_df[_pf_peak_x_column_names] = pd.DataFrame([[np.nan, np.nan, np.nan, np.nan]], index=selected_spikes_df.index)\n",
    "selected_spikes_df['LR_Long_pf_peak_x'] = selected_spikes_df.aclu.map(deepcopy(dict(zip(track_templates.long_LR_decoder.neuron_IDs, track_templates.long_LR_decoder.peak_locations))))\n",
    "selected_spikes_df['RL_Long_pf_peak_x'] = selected_spikes_df.aclu.map(deepcopy(dict(zip(track_templates.long_RL_decoder.neuron_IDs, track_templates.long_RL_decoder.peak_locations))))\n",
    "selected_spikes_df['LR_Short_pf_peak_x'] = selected_spikes_df.aclu.map(deepcopy(dict(zip(track_templates.short_LR_decoder.neuron_IDs, track_templates.short_LR_decoder.peak_locations))))\n",
    "selected_spikes_df['RL_Short_pf_peak_x'] = selected_spikes_df.aclu.map(deepcopy(dict(zip(track_templates.short_RL_decoder.neuron_IDs, track_templates.short_RL_decoder.peak_locations))))\n",
    "\n",
    "## Restrict to only the relevant columns: \n",
    "active_selected_spikes_df = deepcopy(selected_spikes_df[['t_rel_seconds', 'aclu', 'Probe_Epoch_id', *_pf_peak_x_column_names]]).sort_values(['Probe_Epoch_id', 't_rel_seconds', 'aclu']) # Sort by columns: 'Probe_Epoch_id' (ascending), 't_rel_seconds' (ascending), 'aclu' (ascending)\n",
    "# active_selected_spikes_df = active_selected_spikes_df.groupby(['Probe_Epoch_id']).agg(aclu_count=('aclu', 'count'), aclu_nunique=('aclu', 'nunique'), LR_Long_pf_peak_x_var=('LR_Long_pf_peak_x', 'var')).reset_index()\n",
    "\n",
    "# # Performed 1 aggregation grouped on columns: 'Probe_Epoch_id', 'aclu'\n",
    "# active_selected_spikes_df = active_selected_spikes_df.groupby(['Probe_Epoch_id', 'aclu']).agg(LR_Long_pf_peak_x_mean=('LR_Long_pf_peak_x', 'mean')).reset_index()\n",
    "\n",
    "# # Reset index on selected_spikes to make 'Probe_Epoch_id' and 'aclu' as columns\n",
    "# _selected_spikes_reset = deepcopy(active_selected_spikes_df).reset_index()\n",
    "# # Merge with original DataFrame to filter only the selected spikes\n",
    "# selected_spikes_only_df: pd.DataFrame = pd.merge(active_spikes_df, _selected_spikes_reset, on=['Probe_Epoch_id', 'aclu', time_variable_name_override])\n",
    "\n",
    "spearman_correlations = active_selected_spikes_df.groupby('Probe_Epoch_id').apply(lambda group: calculate_correlations(group, method='spearman'))\n",
    "pearson_correlations = active_selected_spikes_df.groupby('Probe_Epoch_id').apply(lambda group: calculate_correlations(group, method='pearson'))\n",
    "# correlations = active_selected_spikes_df.groupby('Probe_Epoch_id').apply(lambda x: x['t_rel_seconds'].corr(x['LR_Long_pf_peak_x']))\n",
    "\n",
    "# Reset index to make 'Probe_Epoch_id' a column\n",
    "spearman_correlations_reset = spearman_correlations.reset_index().astype({'Probe_Epoch_id': desired_df_label_column_data_type})\n",
    "pearson_correlations_reset = pearson_correlations.reset_index().astype({'Probe_Epoch_id': desired_df_label_column_data_type})\n",
    "# active_epochs_merged_correlations_df = spearman_correlations_reset.merge(pearson_correlations_reset, on='Probe_Epoch_id', how='left')\n",
    "\n",
    "# Merge with the active_epochs DataFrame\n",
    "active_epochs_df: pd.DataFrame = deepcopy(ripple_result_tuple.active_epochs)\n",
    "# Change column type to uint64 for column: 'label'\n",
    "active_epochs_df = active_epochs_df.astype({'label': desired_df_label_column_data_type})\n",
    "active_epochs_df = active_epochs_df.merge(spearman_correlations_reset, left_on='label', right_on='Probe_Epoch_id', how='left', suffixes=('', '_spearman'))\n",
    "active_epochs_df = active_epochs_df.merge(pearson_correlations_reset, left_on='label', right_on='Probe_Epoch_id', how='left', suffixes=('', '_pearson'))\n",
    "active_epochs_df.drop(['Probe_Epoch_id', 'Probe_Epoch_id_pearson'], axis=1, inplace=True) # Drop the extra 'Probe_Epoch_id' columns\n",
    "active_epochs_df"
   ]
  },
  {
   "cell_type": "code",
   "execution_count": 78,
   "id": "4777b265",
   "metadata": {},
   "outputs": [
    {
     "name": "stdout",
     "output_type": "stream",
     "text": [
      "LR_long_relative_real_values.shape: (401,)\n",
      "real_value.shape: (401,)\n"
     ]
    },
    {
     "data": {
      "text/plain": [
       "0     -0.071429\n",
       "1      0.209091\n",
       "2     -0.452381\n",
       "3      0.790909\n",
       "4      0.318974\n",
       "5      0.630656\n",
       "         ...   \n",
       "395    0.306513\n",
       "396   -0.156140\n",
       "397   -0.062937\n",
       "398    0.571429\n",
       "399    0.496503\n",
       "400   -0.257143\n",
       "Name: label, Length: 401, dtype: float64"
      ]
     },
     "execution_count": 78,
     "metadata": {},
     "output_type": "execute_result"
    }
   ],
   "source": [
    "## Get the filtered ones instead:\n",
    "# desired_df_label_column_data_type\n",
    "valid_active_epoch_labels = deepcopy(active_epochs_df.label).astype('uint64').to_numpy()\n",
    "valid_active_epoch_labels\n",
    "LR_long_relative_real_p_values = np.array([x[0].real_p_value for epoch_id, x in rank_order_results.LR_ripple.ranked_aclus_stats_dict.items() if epoch_id in valid_active_epoch_labels])\n",
    "LR_long_relative_real_values = np.array([x[0].real_value for epoch_id, x in rank_order_results.LR_ripple.ranked_aclus_stats_dict.items() if epoch_id in valid_active_epoch_labels])\n",
    "print(f'LR_long_relative_real_values.shape: {np.shape(LR_long_relative_real_values)}')\n",
    "\n",
    "real_p_value = active_epochs_df.label.map(lambda x: rank_order_results.LR_ripple.ranked_aclus_stats_dict[x][0].real_p_value)\n",
    "real_value = active_epochs_df.label.map(lambda x: rank_order_results.LR_ripple.ranked_aclus_stats_dict[x][0].real_value)\n",
    "print(f'real_value.shape: {np.shape(real_value)}')\n",
    "real_value"
   ]
  },
  {
   "cell_type": "code",
   "execution_count": 81,
   "id": "bb3c369b",
   "metadata": {},
   "outputs": [
    {
     "data": {
      "text/plain": [
       "array([0.180834, 0.0906396, 0.0386093, 0.0294092, 0.0431802, 0.14415, 0.380903, 0.203891, 0.127604, 0.132698, 0.228372, 0.100241, 0.171429, 0.331024, 0.173318, 0.0398405, 0.420994, 0.072525, 0.339319, 0.0555299, 0.163105, 0.146103, 0.409399, 0.311587, 0, 0.292715, 0.177542, 0.17808, 0.200329, 0.207675, 0.552578, 0.00168339, 0.31547, 0.00678383, 0.106496, 0.216281, 0.367478, 0.0527864, 0.270624, 0.730355, 0.202847, 0.193947, 0.273788, 0.114286, 0.0565876, 0.00462734, 0.0844515, 0.214286, 0.0487268, 0.607143, 0.238602, 0.382174, 0.283333, 0.35748, 0.0574978, 0.0419165, 0.742857, 0.0565097, 0, 0.00129289, 0.0113873, 0.0666667, 0.228571, 0.0577456, 0.613772, 0.11592, 0.104926, 0.118991, 0.103487, 0.0473767, 0.133324, 0.00719461, 0.10303, 0.0405712, 0.0495081, 0.652563, 0.313465, 0.346881, 0.0369578, 0.0124576, 0.119584, 0.0601356, 0.0251295, 0.0530409, 0.129423, 0.0720209, 0.302604, 0.455167, 0.231891, 0.0535626, 0.137017, 0.235916, 0.152049, 0.0789069, 0.146811, 0.077746, 0.13233, 0.115342, 0.175924, 0.0713605, 0.431145, 0.134984, 0.125206, 0.077349, 0.0160393, 0.0289504, 0.0665968, 0.0995951, 0.0958394, 0.00459728, 0.00629575, 0.0434046, 0.621074, 0.0295201, 0.0267481, 0.149968, 0.281126, 0.0303122, 0.102618, 0.0175373, 0.325276, 0.0145536, 0.018886, 0.648036, 0.00801995, 0.16211, 0.2663, 0.325885, 0.0236349, 0.0421095, 0.228155, 0.0982303, 0.0978548, 0.0118439, 0.110032, 0.0220779, 0.206169, 0, 0.0562019, 0.919821, 0.633591, 0.0664503, 0.157852, 0.236736, 0.000844643, 0.190546, 0.157576, 0.251315, 0.046649, 0.404672, 0.0502322, 0.0415313, 0.0179364, 0, 0.0799739, 0.151545, 0.109739, 0.0835266, 0.0387834, 0.0397639, 0.190225, 0.0556822, 0, 0.049057, 0.0446582, 0.443666, 0.396898, 0.0511397, 0.154261, 0.0929289, 0.217095, 0.164285, 0.00530801, 0.571429, 0.0208544, 0.0665734, 0.222896, 0.0322319, 0.024721, 0, 0.00605072, 0.115866, 0.13896, 0.120937, 0.369113, 0.206389, 0.239296, 0.0363636, 0.200258, 0.078271, 0.112093, 0.00784916, 0.0919491, 0.0222608, 0.00190194, 0.00389363, 0.081358, 0.494319, 0.0736098, 0.154442, 0.199519, 0.000943842, 0.236187, 0.0501815, 0.379088, 0.335286, 0.00406314, 0.0295698, 0.0966832, 0.0111557, 0.0671342, 0.293114, 0.344763, 0.0600513, 0.0432149, 0, 0.118355, 0.0195483, 0.0978888, 0.073274, 0.00042107, 0.0922004, 0.4, 0.0230426, 0.347222, 0.00453869, 0.281722, 0.0867469, 0.100232, 0.0467385, 0.00255276, 0.283866, 0.0714286, 0.0569008, 0.3, 0.221709, 0.366667, 0.213723, 0.409244, 0, 0.174743, 0.0909091, 0.158051, 0.0324283, 0.0205445, 0.0357992, 0.0195144, 0.0216121, 0.1, 0.150109, 0.0105855, 0.323568, 0.277148, 0.400417, 0.0441887, 0.0585746, 0.127273, 0.309207, 0.0531994, 0, 0.0148639, 0.0363421, 0.0446632, 0.201617, 0.102412, 0.0476546, 0.0840224, 0.0163628, 0.108349, 0.104734, 0.0131868, 0.312312, 0.081092, 0.101464, 0.905196, 0.591064, 0.214286, 0.228571, 0.131122, 0.0907198, 0.0254646, 0.047619, 0.581818, 0.556642, 0.0116007, 0.3, 0.00715456, 0.0104267, 0.128879, 0.176637, 0.0976673, 0.0826218, 0.198231, 0.0144196, 0.0975639, 0.268535, 0.0462848, 0.0384558, 0.144062, 0.0534125, 0.179256, 0.16967, 0.226715, 0.215626, 0.18536, 0.0995142, 0.0866439, 0.103419, 0.113083, 0.0454339, 0.0666667, 0.109632, 0.102903, 0.180434, 0.12595, 0.0909091, 0.0474649, 0.0222708, 0.109323, 0.048866, 0.0765167, 0.113556, 0.189538, 0.332602, 0.457707, 0.0255669, 0.0140623, 0.0938232, 0.219635, 0.0202436, 0.325237, 0.541801, 0.544941, 0.482261, 0.24597, 0.0937352, 0.0878189, 0.19281, 0.12215, 0.203212, 0.0132321, 0.0311937, 0.252325, 0.112846, 0.0787973, 0.163524, 0.123594, 0.116778, 0.218182, 0.406687, 0.151126, 0.11156, 0.169964, 0.0571429, 0.200039, 0.127741, 0.16081, 0.0696655, 0.102819, 0.0382424, 0.218715, 0.0167063, 0.0632303, 0.0454545, 0.497768, 0.240638, 0.220197, 0.0704642, 0.278402, 0.0550777, 0.0733377, 0.177498, 0.141703, 0.0985749, 0.0361743, 0.142857, 0.123567, 0.15, 0, 0.24518, 0.056445, 0.51855, 0.0576915, 0.0650864, 0.0543174, 0.222299, 0.206495, 0.242112, 0.222102, 0.155196, 0.12755, 0.15459, 0.0369369, 0.252973, 0.0765175, 0.179233, 0.124561, 0.0806059, 0.044473, 0.454098, 0.669086])"
      ]
     },
     "execution_count": 81,
     "metadata": {},
     "output_type": "execute_result"
    }
   ],
   "source": [
    "active_epochs_df.LR_Long_spearman - LR_long_relative_real_values\n",
    "\n",
    "# np.array([active_epochs_df.LR_Long_spearman, LR_long_relative_real_values])\n",
    "np.ptp(np.array([active_epochs_df.LR_Long_spearman, LR_long_relative_real_values]), axis=0)"
   ]
  },
  {
   "cell_type": "code",
   "execution_count": null,
   "id": "fb2b4a12",
   "metadata": {},
   "outputs": [],
   "source": [
    "LR_long_relative_real_values"
   ]
  },
  {
   "cell_type": "code",
   "execution_count": null,
   "id": "43bb8a6f",
   "metadata": {},
   "outputs": [],
   "source": [
    "\n",
    "# # Merge with the original DataFrame\n",
    "# active_selected_spikes_df = active_selected_spikes_df.merge(spearman_correlations_reset, on='Probe_Epoch_id', how='left')\n",
    "# active_selected_spikes_df = active_selected_spikes_df.merge(pearson_correlations_reset, on='Probe_Epoch_id', how='left', suffixes=('_spearman', '_pearson'))\n",
    "# active_selected_spikes_df"
   ]
  },
  {
   "cell_type": "code",
   "execution_count": 49,
   "id": "3e3d1caf",
   "metadata": {},
   "outputs": [
    {
     "data": {
      "text/plain": [
       "{0: LongShortStatsTuple(long_stats_z_scorer=<pyphoplacecellanalysis.General.Pipeline.Stages.ComputationFunctions.MultiContextComputationFunctions.RankOrderComputations.Zscorer object at 0x0000020B89CC0FA0>, short_stats_z_scorer=<pyphoplacecellanalysis.General.Pipeline.Stages.ComputationFunctions.MultiContextComputationFunctions.RankOrderComputations.Zscorer object at 0x0000020B89CC9130>, long_short_z_diff=0.12246748817000597, long_short_naive_z_diff=-0.12246748817000597, is_forward_replay=False),\n",
       " 1: LongShortStatsTuple(long_stats_z_scorer=<pyphoplacecellanalysis.General.Pipeline.Stages.ComputationFunctions.MultiContextComputationFunctions.RankOrderComputations.Zscorer object at 0x0000020B89CC9310>, short_stats_z_scorer=<pyphoplacecellanalysis.General.Pipeline.Stages.ComputationFunctions.MultiContextComputationFunctions.RankOrderComputations.Zscorer object at 0x0000020B89CC9460>, long_short_z_diff=0.33534385337218847, long_short_naive_z_diff=0.9272930999034645, is_forward_replay=True),\n",
       " 2: LongShortStatsTuple(long_stats_z_scorer=<pyphoplacecellanalysis.General.Pipeline.Stages.ComputationFunctions.MultiContextComputationFunctions.RankOrderComputations.Zscorer object at 0x0000020B89CC9640>, short_stats_z_scorer=<pyphoplacecellanalysis.General.Pipeline.Stages.ComputationFunctions.MultiContextComputationFunctions.RankOrderComputations.Zscorer object at 0x0000020B89CC9790>, long_short_z_diff=0.2904606908478854, long_short_naive_z_diff=-0.2904606908478854, is_forward_replay=False),\n",
       " 3: LongShortStatsTuple(long_stats_z_scorer=<pyphoplacecellanalysis.General.Pipeline.Stages.ComputationFunctions.MultiContextComputationFunctions.RankOrderComputations.Zscorer object at 0x0000020B89CC9940>, short_stats_z_scorer=<pyphoplacecellanalysis.General.Pipeline.Stages.ComputationFunctions.MultiContextComputationFunctions.RankOrderComputations.Zscorer object at 0x0000020B89CC9A90>, long_short_z_diff=-0.0616515115487104, long_short_naive_z_diff=-0.0616515115487104, is_forward_replay=True),\n",
       " 4: LongShortStatsTuple(long_stats_z_scorer=<pyphoplacecellanalysis.General.Pipeline.Stages.ComputationFunctions.MultiContextComputationFunctions.RankOrderComputations.Zscorer object at 0x0000020B89CC9C40>, short_stats_z_scorer=<pyphoplacecellanalysis.General.Pipeline.Stages.ComputationFunctions.MultiContextComputationFunctions.RankOrderComputations.Zscorer object at 0x0000020B89CC9D90>, long_short_z_diff=0.2822559314174411, long_short_naive_z_diff=0.2822559314174411, is_forward_replay=True),\n",
       " 5: LongShortStatsTuple(long_stats_z_scorer=<pyphoplacecellanalysis.General.Pipeline.Stages.ComputationFunctions.MultiContextComputationFunctions.RankOrderComputations.Zscorer object at 0x0000020B89CC9F40>, short_stats_z_scorer=<pyphoplacecellanalysis.General.Pipeline.Stages.ComputationFunctions.MultiContextComputationFunctions.RankOrderComputations.Zscorer object at 0x0000020B89CCE0D0>, long_short_z_diff=0.0, long_short_naive_z_diff=0.0, is_forward_replay=True),\n",
       " 6: LongShortStatsTuple(long_stats_z_scorer=<pyphoplacecellanalysis.General.Pipeline.Stages.ComputationFunctions.MultiContextComputationFunctions.RankOrderComputations.Zscorer object at 0x0000020B89CCE250>, short_stats_z_scorer=<pyphoplacecellanalysis.General.Pipeline.Stages.ComputationFunctions.MultiContextComputationFunctions.RankOrderComputations.Zscorer object at 0x0000020B89CCE3A0>, long_short_z_diff=0.6611658435029524, long_short_naive_z_diff=0.6611658435029524, is_forward_replay=True),\n",
       " 7: LongShortStatsTuple(long_stats_z_scorer=<pyphoplacecellanalysis.General.Pipeline.Stages.ComputationFunctions.MultiContextComputationFunctions.RankOrderComputations.Zscorer object at 0x0000020B89CCE550>, short_stats_z_scorer=<pyphoplacecellanalysis.General.Pipeline.Stages.ComputationFunctions.MultiContextComputationFunctions.RankOrderComputations.Zscorer object at 0x0000020B89CCE6A0>, long_short_z_diff=-0.5692722229154232, long_short_naive_z_diff=-0.5692722229154232, is_forward_replay=True),\n",
       " 8: LongShortStatsTuple(long_stats_z_scorer=<pyphoplacecellanalysis.General.Pipeline.Stages.ComputationFunctions.MultiContextComputationFunctions.RankOrderComputations.Zscorer object at 0x0000020B89CCE850>, short_stats_z_scorer=<pyphoplacecellanalysis.General.Pipeline.Stages.ComputationFunctions.MultiContextComputationFunctions.RankOrderComputations.Zscorer object at 0x0000020B89CCE9A0>, long_short_z_diff=0.33765792401689687, long_short_naive_z_diff=0.33765792401689687, is_forward_replay=True),\n",
       " 9: LongShortStatsTuple(long_stats_z_scorer=<pyphoplacecellanalysis.General.Pipeline.Stages.ComputationFunctions.MultiContextComputationFunctions.RankOrderComputations.Zscorer object at 0x0000020B89CCEB50>, short_stats_z_scorer=<pyphoplacecellanalysis.General.Pipeline.Stages.ComputationFunctions.MultiContextComputationFunctions.RankOrderComputations.Zscorer object at 0x0000020B89CCECA0>, long_short_z_diff=0.09392691126391872, long_short_naive_z_diff=1.4592147361678447, is_forward_replay=True),\n",
       " 10: LongShortStatsTuple(long_stats_z_scorer=<pyphoplacecellanalysis.General.Pipeline.Stages.ComputationFunctions.MultiContextComputationFunctions.RankOrderComputations.Zscorer object at 0x0000020B89CCEE50>, short_stats_z_scorer=<pyphoplacecellanalysis.General.Pipeline.Stages.ComputationFunctions.MultiContextComputationFunctions.RankOrderComputations.Zscorer object at 0x0000020B89CCEFA0>, long_short_z_diff=0.587324892020232, long_short_naive_z_diff=0.587324892020232, is_forward_replay=True),\n",
       " 11: LongShortStatsTuple(long_stats_z_scorer=<pyphoplacecellanalysis.General.Pipeline.Stages.ComputationFunctions.MultiContextComputationFunctions.RankOrderComputations.Zscorer object at 0x0000020B89CD2190>, short_stats_z_scorer=<pyphoplacecellanalysis.General.Pipeline.Stages.ComputationFunctions.MultiContextComputationFunctions.RankOrderComputations.Zscorer object at 0x0000020B89CD22E0>, long_short_z_diff=-0.8758093151854891, long_short_naive_z_diff=0.8758093151854891, is_forward_replay=False),\n",
       " 12: LongShortStatsTuple(long_stats_z_scorer=<pyphoplacecellanalysis.General.Pipeline.Stages.ComputationFunctions.MultiContextComputationFunctions.RankOrderComputations.Zscorer object at 0x0000020B89CD2490>, short_stats_z_scorer=<pyphoplacecellanalysis.General.Pipeline.Stages.ComputationFunctions.MultiContextComputationFunctions.RankOrderComputations.Zscorer object at 0x0000020B89CD25E0>, long_short_z_diff=-1.4442937817156147, long_short_naive_z_diff=1.600124591389336, is_forward_replay=False),\n",
       " 13: LongShortStatsTuple(long_stats_z_scorer=<pyphoplacecellanalysis.General.Pipeline.Stages.ComputationFunctions.MultiContextComputationFunctions.RankOrderComputations.Zscorer object at 0x0000020B89CD2790>, short_stats_z_scorer=<pyphoplacecellanalysis.General.Pipeline.Stages.ComputationFunctions.MultiContextComputationFunctions.RankOrderComputations.Zscorer object at 0x0000020B89CD28E0>, long_short_z_diff=0.10937858404659373, long_short_naive_z_diff=-0.10937858404659373, is_forward_replay=False),\n",
       " 14: LongShortStatsTuple(long_stats_z_scorer=<pyphoplacecellanalysis.General.Pipeline.Stages.ComputationFunctions.MultiContextComputationFunctions.RankOrderComputations.Zscorer object at 0x0000020B89CD2A90>, short_stats_z_scorer=<pyphoplacecellanalysis.General.Pipeline.Stages.ComputationFunctions.MultiContextComputationFunctions.RankOrderComputations.Zscorer object at 0x0000020B89CD2BE0>, long_short_z_diff=0.1474007006679181, long_short_naive_z_diff=-0.1474007006679181, is_forward_replay=False),\n",
       " 15: LongShortStatsTuple(long_stats_z_scorer=<pyphoplacecellanalysis.General.Pipeline.Stages.ComputationFunctions.MultiContextComputationFunctions.RankOrderComputations.Zscorer object at 0x0000020B89CD2D90>, short_stats_z_scorer=<pyphoplacecellanalysis.General.Pipeline.Stages.ComputationFunctions.MultiContextComputationFunctions.RankOrderComputations.Zscorer object at 0x0000020B89CD2EE0>, long_short_z_diff=-0.5851904690379939, long_short_naive_z_diff=-0.5851904690379939, is_forward_replay=True),\n",
       " 16: LongShortStatsTuple(long_stats_z_scorer=<pyphoplacecellanalysis.General.Pipeline.Stages.ComputationFunctions.MultiContextComputationFunctions.RankOrderComputations.Zscorer object at 0x0000020B89CD70D0>, short_stats_z_scorer=<pyphoplacecellanalysis.General.Pipeline.Stages.ComputationFunctions.MultiContextComputationFunctions.RankOrderComputations.Zscorer object at 0x0000020B89CD7220>, long_short_z_diff=0.1702944282764105, long_short_naive_z_diff=0.1702944282764105, is_forward_replay=True),\n",
       " 17: LongShortStatsTuple(long_stats_z_scorer=<pyphoplacecellanalysis.General.Pipeline.Stages.ComputationFunctions.MultiContextComputationFunctions.RankOrderComputations.Zscorer object at 0x0000020B89CD73D0>, short_stats_z_scorer=<pyphoplacecellanalysis.General.Pipeline.Stages.ComputationFunctions.MultiContextComputationFunctions.RankOrderComputations.Zscorer object at 0x0000020B89CD7520>, long_short_z_diff=0.07946658028240394, long_short_naive_z_diff=-0.07946658028240394, is_forward_replay=False),\n",
       " 18: LongShortStatsTuple(long_stats_z_scorer=<pyphoplacecellanalysis.General.Pipeline.Stages.ComputationFunctions.MultiContextComputationFunctions.RankOrderComputations.Zscorer object at 0x0000020B89CD76D0>, short_stats_z_scorer=<pyphoplacecellanalysis.General.Pipeline.Stages.ComputationFunctions.MultiContextComputationFunctions.RankOrderComputations.Zscorer object at 0x0000020B89CD7820>, long_short_z_diff=0.6992142039558975, long_short_naive_z_diff=0.6992142039558975, is_forward_replay=True),\n",
       " 19: LongShortStatsTuple(long_stats_z_scorer=<pyphoplacecellanalysis.General.Pipeline.Stages.ComputationFunctions.MultiContextComputationFunctions.RankOrderComputations.Zscorer object at 0x0000020B89CD79D0>, short_stats_z_scorer=<pyphoplacecellanalysis.General.Pipeline.Stages.ComputationFunctions.MultiContextComputationFunctions.RankOrderComputations.Zscorer object at 0x0000020B89CD7B20>, long_short_z_diff=0.17863294321025314, long_short_naive_z_diff=-0.17863294321025314, is_forward_replay=False),\n",
       " 20: LongShortStatsTuple(long_stats_z_scorer=<pyphoplacecellanalysis.General.Pipeline.Stages.ComputationFunctions.MultiContextComputationFunctions.RankOrderComputations.Zscorer object at 0x0000020B89CD7CD0>, short_stats_z_scorer=<pyphoplacecellanalysis.General.Pipeline.Stages.ComputationFunctions.MultiContextComputationFunctions.RankOrderComputations.Zscorer object at 0x0000020B89CD7E20>, long_short_z_diff=-0.13255645635876867, long_short_naive_z_diff=0.13255645635876867, is_forward_replay=False),\n",
       " 21: LongShortStatsTuple(long_stats_z_scorer=<pyphoplacecellanalysis.General.Pipeline.Stages.ComputationFunctions.MultiContextComputationFunctions.RankOrderComputations.Zscorer object at 0x0000020B89CD7FD0>, short_stats_z_scorer=<pyphoplacecellanalysis.General.Pipeline.Stages.ComputationFunctions.MultiContextComputationFunctions.RankOrderComputations.Zscorer object at 0x0000020B89CDD160>, long_short_z_diff=0.2273991726321587, long_short_naive_z_diff=0.2273991726321587, is_forward_replay=True),\n",
       " 22: LongShortStatsTuple(long_stats_z_scorer=<pyphoplacecellanalysis.General.Pipeline.Stages.ComputationFunctions.MultiContextComputationFunctions.RankOrderComputations.Zscorer object at 0x0000020B89CDD310>, short_stats_z_scorer=<pyphoplacecellanalysis.General.Pipeline.Stages.ComputationFunctions.MultiContextComputationFunctions.RankOrderComputations.Zscorer object at 0x0000020B89CDD460>, long_short_z_diff=0.9119608600540334, long_short_naive_z_diff=0.9119608600540334, is_forward_replay=True),\n",
       " 23: LongShortStatsTuple(long_stats_z_scorer=<pyphoplacecellanalysis.General.Pipeline.Stages.ComputationFunctions.MultiContextComputationFunctions.RankOrderComputations.Zscorer object at 0x0000020B89CDD610>, short_stats_z_scorer=<pyphoplacecellanalysis.General.Pipeline.Stages.ComputationFunctions.MultiContextComputationFunctions.RankOrderComputations.Zscorer object at 0x0000020B89CDD760>, long_short_z_diff=0.1539541592059981, long_short_naive_z_diff=-0.1539541592059981, is_forward_replay=False),\n",
       " 24: LongShortStatsTuple(long_stats_z_scorer=<pyphoplacecellanalysis.General.Pipeline.Stages.ComputationFunctions.MultiContextComputationFunctions.RankOrderComputations.Zscorer object at 0x0000020B89CDD910>, short_stats_z_scorer=<pyphoplacecellanalysis.General.Pipeline.Stages.ComputationFunctions.MultiContextComputationFunctions.RankOrderComputations.Zscorer object at 0x0000020B89CDDA60>, long_short_z_diff=0.0, long_short_naive_z_diff=0.0, is_forward_replay=False),\n",
       " 25: LongShortStatsTuple(long_stats_z_scorer=<pyphoplacecellanalysis.General.Pipeline.Stages.ComputationFunctions.MultiContextComputationFunctions.RankOrderComputations.Zscorer object at 0x0000020B89CDDBE0>, short_stats_z_scorer=<pyphoplacecellanalysis.General.Pipeline.Stages.ComputationFunctions.MultiContextComputationFunctions.RankOrderComputations.Zscorer object at 0x0000020B89CDDD30>, long_short_z_diff=0.5939728071012718, long_short_naive_z_diff=-0.5939728071012718, is_forward_replay=False),\n",
       " 26: LongShortStatsTuple(long_stats_z_scorer=<pyphoplacecellanalysis.General.Pipeline.Stages.ComputationFunctions.MultiContextComputationFunctions.RankOrderComputations.Zscorer object at 0x0000020B89CDDEE0>, short_stats_z_scorer=<pyphoplacecellanalysis.General.Pipeline.Stages.ComputationFunctions.MultiContextComputationFunctions.RankOrderComputations.Zscorer object at 0x0000020B89CE2070>, long_short_z_diff=0.4146796979266719, long_short_naive_z_diff=-0.4146796979266719, is_forward_replay=False),\n",
       " 27: LongShortStatsTuple(long_stats_z_scorer=<pyphoplacecellanalysis.General.Pipeline.Stages.ComputationFunctions.MultiContextComputationFunctions.RankOrderComputations.Zscorer object at 0x0000020B89CE2220>, short_stats_z_scorer=<pyphoplacecellanalysis.General.Pipeline.Stages.ComputationFunctions.MultiContextComputationFunctions.RankOrderComputations.Zscorer object at 0x0000020B89CE2370>, long_short_z_diff=-0.4479819347532987, long_short_naive_z_diff=0.4479819347532987, is_forward_replay=False),\n",
       " 28: LongShortStatsTuple(long_stats_z_scorer=<pyphoplacecellanalysis.General.Pipeline.Stages.ComputationFunctions.MultiContextComputationFunctions.RankOrderComputations.Zscorer object at 0x0000020B89CE2520>, short_stats_z_scorer=<pyphoplacecellanalysis.General.Pipeline.Stages.ComputationFunctions.MultiContextComputationFunctions.RankOrderComputations.Zscorer object at 0x0000020B89CE2670>, long_short_z_diff=0.4090695854009383, long_short_naive_z_diff=-0.4090695854009383, is_forward_replay=False),\n",
       " 29: LongShortStatsTuple(long_stats_z_scorer=<pyphoplacecellanalysis.General.Pipeline.Stages.ComputationFunctions.MultiContextComputationFunctions.RankOrderComputations.Zscorer object at 0x0000020B89CE2820>, short_stats_z_scorer=<pyphoplacecellanalysis.General.Pipeline.Stages.ComputationFunctions.MultiContextComputationFunctions.RankOrderComputations.Zscorer object at 0x0000020B89CE2970>, long_short_z_diff=0.34644087275881924, long_short_naive_z_diff=-0.34644087275881924, is_forward_replay=False),\n",
       " 30: LongShortStatsTuple(long_stats_z_scorer=<pyphoplacecellanalysis.General.Pipeline.Stages.ComputationFunctions.MultiContextComputationFunctions.RankOrderComputations.Zscorer object at 0x0000020B89CE2B20>, short_stats_z_scorer=<pyphoplacecellanalysis.General.Pipeline.Stages.ComputationFunctions.MultiContextComputationFunctions.RankOrderComputations.Zscorer object at 0x0000020B89CE2C70>, long_short_z_diff=-0.18776026034022408, long_short_naive_z_diff=-0.18776026034022408, is_forward_replay=True),\n",
       " 31: LongShortStatsTuple(long_stats_z_scorer=<pyphoplacecellanalysis.General.Pipeline.Stages.ComputationFunctions.MultiContextComputationFunctions.RankOrderComputations.Zscorer object at 0x0000020B89CE2E20>, short_stats_z_scorer=<pyphoplacecellanalysis.General.Pipeline.Stages.ComputationFunctions.MultiContextComputationFunctions.RankOrderComputations.Zscorer object at 0x0000020B89CE2F70>, long_short_z_diff=-0.22518891145705378, long_short_naive_z_diff=0.22518891145705378, is_forward_replay=False),\n",
       " 32: LongShortStatsTuple(long_stats_z_scorer=<pyphoplacecellanalysis.General.Pipeline.Stages.ComputationFunctions.MultiContextComputationFunctions.RankOrderComputations.Zscorer object at 0x0000020B89CE6160>, short_stats_z_scorer=<pyphoplacecellanalysis.General.Pipeline.Stages.ComputationFunctions.MultiContextComputationFunctions.RankOrderComputations.Zscorer object at 0x0000020B89CE62B0>, long_short_z_diff=-0.0633945099127377, long_short_naive_z_diff=0.888214977043813, is_forward_replay=False),\n",
       " 33: LongShortStatsTuple(long_stats_z_scorer=<pyphoplacecellanalysis.General.Pipeline.Stages.ComputationFunctions.MultiContextComputationFunctions.RankOrderComputations.Zscorer object at 0x0000020B89CE6460>, short_stats_z_scorer=<pyphoplacecellanalysis.General.Pipeline.Stages.ComputationFunctions.MultiContextComputationFunctions.RankOrderComputations.Zscorer object at 0x0000020B89CE65B0>, long_short_z_diff=0.6510721394184453, long_short_naive_z_diff=-0.6510721394184453, is_forward_replay=False),\n",
       " 34: LongShortStatsTuple(long_stats_z_scorer=<pyphoplacecellanalysis.General.Pipeline.Stages.ComputationFunctions.MultiContextComputationFunctions.RankOrderComputations.Zscorer object at 0x0000020B89CE6760>, short_stats_z_scorer=<pyphoplacecellanalysis.General.Pipeline.Stages.ComputationFunctions.MultiContextComputationFunctions.RankOrderComputations.Zscorer object at 0x0000020B89CE68B0>, long_short_z_diff=-0.3477814634767172, long_short_naive_z_diff=-0.3477814634767172, is_forward_replay=True),\n",
       " 35: LongShortStatsTuple(long_stats_z_scorer=<pyphoplacecellanalysis.General.Pipeline.Stages.ComputationFunctions.MultiContextComputationFunctions.RankOrderComputations.Zscorer object at 0x0000020B89CE6A60>, short_stats_z_scorer=<pyphoplacecellanalysis.General.Pipeline.Stages.ComputationFunctions.MultiContextComputationFunctions.RankOrderComputations.Zscorer object at 0x0000020B89CE6BB0>, long_short_z_diff=0.9867010495349704, long_short_naive_z_diff=0.9867010495349704, is_forward_replay=True),\n",
       " 36: LongShortStatsTuple(long_stats_z_scorer=<pyphoplacecellanalysis.General.Pipeline.Stages.ComputationFunctions.MultiContextComputationFunctions.RankOrderComputations.Zscorer object at 0x0000020B89CE6D60>, short_stats_z_scorer=<pyphoplacecellanalysis.General.Pipeline.Stages.ComputationFunctions.MultiContextComputationFunctions.RankOrderComputations.Zscorer object at 0x0000020B89CE6EB0>, long_short_z_diff=0.21078794181518368, long_short_naive_z_diff=-0.21078794181518368, is_forward_replay=False),\n",
       " 37: LongShortStatsTuple(long_stats_z_scorer=<pyphoplacecellanalysis.General.Pipeline.Stages.ComputationFunctions.MultiContextComputationFunctions.RankOrderComputations.Zscorer object at 0x0000020B89CED0A0>, short_stats_z_scorer=<pyphoplacecellanalysis.General.Pipeline.Stages.ComputationFunctions.MultiContextComputationFunctions.RankOrderComputations.Zscorer object at 0x0000020B89CED1F0>, long_short_z_diff=0.6307243433349693, long_short_naive_z_diff=-0.6307243433349693, is_forward_replay=False),\n",
       " 38: LongShortStatsTuple(long_stats_z_scorer=<pyphoplacecellanalysis.General.Pipeline.Stages.ComputationFunctions.MultiContextComputationFunctions.RankOrderComputations.Zscorer object at 0x0000020B89CED3A0>, short_stats_z_scorer=<pyphoplacecellanalysis.General.Pipeline.Stages.ComputationFunctions.MultiContextComputationFunctions.RankOrderComputations.Zscorer object at 0x0000020B89CED4F0>, long_short_z_diff=0.1919315505206045, long_short_naive_z_diff=-0.6715937911728241, is_forward_replay=False),\n",
       " 39: LongShortStatsTuple(long_stats_z_scorer=<pyphoplacecellanalysis.General.Pipeline.Stages.ComputationFunctions.MultiContextComputationFunctions.RankOrderComputations.Zscorer object at 0x0000020B89CED6A0>, short_stats_z_scorer=<pyphoplacecellanalysis.General.Pipeline.Stages.ComputationFunctions.MultiContextComputationFunctions.RankOrderComputations.Zscorer object at 0x0000020B89CED7F0>, long_short_z_diff=-0.5636156516038112, long_short_naive_z_diff=0.5636156516038112, is_forward_replay=False),\n",
       " 40: LongShortStatsTuple(long_stats_z_scorer=<pyphoplacecellanalysis.General.Pipeline.Stages.ComputationFunctions.MultiContextComputationFunctions.RankOrderComputations.Zscorer object at 0x0000020B89CED9A0>, short_stats_z_scorer=<pyphoplacecellanalysis.General.Pipeline.Stages.ComputationFunctions.MultiContextComputationFunctions.RankOrderComputations.Zscorer object at 0x0000020B89CEDAF0>, long_short_z_diff=-0.020487963850594593, long_short_naive_z_diff=0.25968704583247415, is_forward_replay=False),\n",
       " 41: LongShortStatsTuple(long_stats_z_scorer=<pyphoplacecellanalysis.General.Pipeline.Stages.ComputationFunctions.MultiContextComputationFunctions.RankOrderComputations.Zscorer object at 0x0000020B89CEDCA0>, short_stats_z_scorer=<pyphoplacecellanalysis.General.Pipeline.Stages.ComputationFunctions.MultiContextComputationFunctions.RankOrderComputations.Zscorer object at 0x0000020B89CEDDF0>, long_short_z_diff=-1.122548743184027, long_short_naive_z_diff=-1.2030972392033374, is_forward_replay=True),\n",
       " 42: LongShortStatsTuple(long_stats_z_scorer=<pyphoplacecellanalysis.General.Pipeline.Stages.ComputationFunctions.MultiContextComputationFunctions.RankOrderComputations.Zscorer object at 0x0000020B89CEDFA0>, short_stats_z_scorer=<pyphoplacecellanalysis.General.Pipeline.Stages.ComputationFunctions.MultiContextComputationFunctions.RankOrderComputations.Zscorer object at 0x0000020B89CF1130>, long_short_z_diff=0.22348510056620088, long_short_naive_z_diff=0.6477234808805903, is_forward_replay=True),\n",
       " 43: LongShortStatsTuple(long_stats_z_scorer=<pyphoplacecellanalysis.General.Pipeline.Stages.ComputationFunctions.MultiContextComputationFunctions.RankOrderComputations.Zscorer object at 0x0000020B89CF12E0>, short_stats_z_scorer=<pyphoplacecellanalysis.General.Pipeline.Stages.ComputationFunctions.MultiContextComputationFunctions.RankOrderComputations.Zscorer object at 0x0000020B89CF1430>, long_short_z_diff=0.9022347943697696, long_short_naive_z_diff=-0.9022347943697696, is_forward_replay=False),\n",
       " 44: LongShortStatsTuple(long_stats_z_scorer=<pyphoplacecellanalysis.General.Pipeline.Stages.ComputationFunctions.MultiContextComputationFunctions.RankOrderComputations.Zscorer object at 0x0000020B89CF15E0>, short_stats_z_scorer=<pyphoplacecellanalysis.General.Pipeline.Stages.ComputationFunctions.MultiContextComputationFunctions.RankOrderComputations.Zscorer object at 0x0000020B89CF1730>, long_short_z_diff=0.3046348254528273, long_short_naive_z_diff=-0.3046348254528273, is_forward_replay=False),\n",
       " 45: LongShortStatsTuple(long_stats_z_scorer=<pyphoplacecellanalysis.General.Pipeline.Stages.ComputationFunctions.MultiContextComputationFunctions.RankOrderComputations.Zscorer object at 0x0000020B89CF18E0>, short_stats_z_scorer=<pyphoplacecellanalysis.General.Pipeline.Stages.ComputationFunctions.MultiContextComputationFunctions.RankOrderComputations.Zscorer object at 0x0000020B89CF1A30>, long_short_z_diff=-0.3333461012440385, long_short_naive_z_diff=0.3333461012440385, is_forward_replay=False),\n",
       " 46: LongShortStatsTuple(long_stats_z_scorer=<pyphoplacecellanalysis.General.Pipeline.Stages.ComputationFunctions.MultiContextComputationFunctions.RankOrderComputations.Zscorer object at 0x0000020B89CF1BE0>, short_stats_z_scorer=<pyphoplacecellanalysis.General.Pipeline.Stages.ComputationFunctions.MultiContextComputationFunctions.RankOrderComputations.Zscorer object at 0x0000020B89CF1D30>, long_short_z_diff=-0.11160553562895448, long_short_naive_z_diff=0.11160553562895448, is_forward_replay=False),\n",
       " 47: LongShortStatsTuple(long_stats_z_scorer=<pyphoplacecellanalysis.General.Pipeline.Stages.ComputationFunctions.MultiContextComputationFunctions.RankOrderComputations.Zscorer object at 0x0000020B89CF1EE0>, short_stats_z_scorer=<pyphoplacecellanalysis.General.Pipeline.Stages.ComputationFunctions.MultiContextComputationFunctions.RankOrderComputations.Zscorer object at 0x0000020B89CF7070>, long_short_z_diff=0.5299411786931323, long_short_naive_z_diff=-0.5299411786931323, is_forward_replay=False),\n",
       " 48: LongShortStatsTuple(long_stats_z_scorer=<pyphoplacecellanalysis.General.Pipeline.Stages.ComputationFunctions.MultiContextComputationFunctions.RankOrderComputations.Zscorer object at 0x0000020B89CF7220>, short_stats_z_scorer=<pyphoplacecellanalysis.General.Pipeline.Stages.ComputationFunctions.MultiContextComputationFunctions.RankOrderComputations.Zscorer object at 0x0000020B89CF7370>, long_short_z_diff=0.2755279875018779, long_short_naive_z_diff=-0.2755279875018779, is_forward_replay=False),\n",
       " 49: LongShortStatsTuple(long_stats_z_scorer=<pyphoplacecellanalysis.General.Pipeline.Stages.ComputationFunctions.MultiContextComputationFunctions.RankOrderComputations.Zscorer object at 0x0000020B89CF7520>, short_stats_z_scorer=<pyphoplacecellanalysis.General.Pipeline.Stages.ComputationFunctions.MultiContextComputationFunctions.RankOrderComputations.Zscorer object at 0x0000020B89CF7670>, long_short_z_diff=0.13999012179751302, long_short_naive_z_diff=0.13999012179751302, is_forward_replay=True),\n",
       " 50: LongShortStatsTuple(long_stats_z_scorer=<pyphoplacecellanalysis.General.Pipeline.Stages.ComputationFunctions.MultiContextComputationFunctions.RankOrderComputations.Zscorer object at 0x0000020B89CF7820>, short_stats_z_scorer=<pyphoplacecellanalysis.General.Pipeline.Stages.ComputationFunctions.MultiContextComputationFunctions.RankOrderComputations.Zscorer object at 0x0000020B89CF7970>, long_short_z_diff=0.4223346128615947, long_short_naive_z_diff=1.6004816619305156, is_forward_replay=True),\n",
       " 51: LongShortStatsTuple(long_stats_z_scorer=<pyphoplacecellanalysis.General.Pipeline.Stages.ComputationFunctions.MultiContextComputationFunctions.RankOrderComputations.Zscorer object at 0x0000020B89CF7B20>, short_stats_z_scorer=<pyphoplacecellanalysis.General.Pipeline.Stages.ComputationFunctions.MultiContextComputationFunctions.RankOrderComputations.Zscorer object at 0x0000020B89CF7C70>, long_short_z_diff=-0.34625954650174084, long_short_naive_z_diff=0.34625954650174084, is_forward_replay=False),\n",
       " 52: LongShortStatsTuple(long_stats_z_scorer=<pyphoplacecellanalysis.General.Pipeline.Stages.ComputationFunctions.MultiContextComputationFunctions.RankOrderComputations.Zscorer object at 0x0000020B89CF7E20>, short_stats_z_scorer=<pyphoplacecellanalysis.General.Pipeline.Stages.ComputationFunctions.MultiContextComputationFunctions.RankOrderComputations.Zscorer object at 0x0000020B89CF7F70>, long_short_z_diff=-0.8147395385063472, long_short_naive_z_diff=-0.8147395385063472, is_forward_replay=True),\n",
       " 53: LongShortStatsTuple(long_stats_z_scorer=<pyphoplacecellanalysis.General.Pipeline.Stages.ComputationFunctions.MultiContextComputationFunctions.RankOrderComputations.Zscorer object at 0x0000020B89CFC160>, short_stats_z_scorer=<pyphoplacecellanalysis.General.Pipeline.Stages.ComputationFunctions.MultiContextComputationFunctions.RankOrderComputations.Zscorer object at 0x0000020B89CFC2B0>, long_short_z_diff=-0.11583805484780985, long_short_naive_z_diff=-0.11583805484780985, is_forward_replay=True),\n",
       " 54: LongShortStatsTuple(long_stats_z_scorer=<pyphoplacecellanalysis.General.Pipeline.Stages.ComputationFunctions.MultiContextComputationFunctions.RankOrderComputations.Zscorer object at 0x0000020B89CFC460>, short_stats_z_scorer=<pyphoplacecellanalysis.General.Pipeline.Stages.ComputationFunctions.MultiContextComputationFunctions.RankOrderComputations.Zscorer object at 0x0000020B89CFC5B0>, long_short_z_diff=-0.6807654220446484, long_short_naive_z_diff=0.8043824661531855, is_forward_replay=False),\n",
       " 55: LongShortStatsTuple(long_stats_z_scorer=<pyphoplacecellanalysis.General.Pipeline.Stages.ComputationFunctions.MultiContextComputationFunctions.RankOrderComputations.Zscorer object at 0x0000020B89CFC760>, short_stats_z_scorer=<pyphoplacecellanalysis.General.Pipeline.Stages.ComputationFunctions.MultiContextComputationFunctions.RankOrderComputations.Zscorer object at 0x0000020B89CFC8B0>, long_short_z_diff=0.4417784543243628, long_short_naive_z_diff=0.4417784543243628, is_forward_replay=True),\n",
       " 56: LongShortStatsTuple(long_stats_z_scorer=<pyphoplacecellanalysis.General.Pipeline.Stages.ComputationFunctions.MultiContextComputationFunctions.RankOrderComputations.Zscorer object at 0x0000020B89CFCA60>, short_stats_z_scorer=<pyphoplacecellanalysis.General.Pipeline.Stages.ComputationFunctions.MultiContextComputationFunctions.RankOrderComputations.Zscorer object at 0x0000020B89CFCBB0>, long_short_z_diff=0.6058511053719934, long_short_naive_z_diff=0.6058511053719934, is_forward_replay=True),\n",
       " 57: LongShortStatsTuple(long_stats_z_scorer=<pyphoplacecellanalysis.General.Pipeline.Stages.ComputationFunctions.MultiContextComputationFunctions.RankOrderComputations.Zscorer object at 0x0000020B89CFCD60>, short_stats_z_scorer=<pyphoplacecellanalysis.General.Pipeline.Stages.ComputationFunctions.MultiContextComputationFunctions.RankOrderComputations.Zscorer object at 0x0000020B89CFCEB0>, long_short_z_diff=-0.4353480407172895, long_short_naive_z_diff=-0.4353480407172895, is_forward_replay=True),\n",
       " 58: LongShortStatsTuple(long_stats_z_scorer=<pyphoplacecellanalysis.General.Pipeline.Stages.ComputationFunctions.MultiContextComputationFunctions.RankOrderComputations.Zscorer object at 0x0000020B89D000A0>, short_stats_z_scorer=<pyphoplacecellanalysis.General.Pipeline.Stages.ComputationFunctions.MultiContextComputationFunctions.RankOrderComputations.Zscorer object at 0x0000020B89D001F0>, long_short_z_diff=0.4352437506654274, long_short_naive_z_diff=-0.4352437506654274, is_forward_replay=False),\n",
       " 59: LongShortStatsTuple(long_stats_z_scorer=<pyphoplacecellanalysis.General.Pipeline.Stages.ComputationFunctions.MultiContextComputationFunctions.RankOrderComputations.Zscorer object at 0x0000020B89D003A0>, short_stats_z_scorer=<pyphoplacecellanalysis.General.Pipeline.Stages.ComputationFunctions.MultiContextComputationFunctions.RankOrderComputations.Zscorer object at 0x0000020B89D004F0>, long_short_z_diff=0.0, long_short_naive_z_diff=0.0, is_forward_replay=True),\n",
       " 60: LongShortStatsTuple(long_stats_z_scorer=<pyphoplacecellanalysis.General.Pipeline.Stages.ComputationFunctions.MultiContextComputationFunctions.RankOrderComputations.Zscorer object at 0x0000020B89D00670>, short_stats_z_scorer=<pyphoplacecellanalysis.General.Pipeline.Stages.ComputationFunctions.MultiContextComputationFunctions.RankOrderComputations.Zscorer object at 0x0000020B89D007C0>, long_short_z_diff=-0.6311421082200241, long_short_naive_z_diff=0.6311421082200241, is_forward_replay=False),\n",
       " 61: LongShortStatsTuple(long_stats_z_scorer=<pyphoplacecellanalysis.General.Pipeline.Stages.ComputationFunctions.MultiContextComputationFunctions.RankOrderComputations.Zscorer object at 0x0000020B89D00970>, short_stats_z_scorer=<pyphoplacecellanalysis.General.Pipeline.Stages.ComputationFunctions.MultiContextComputationFunctions.RankOrderComputations.Zscorer object at 0x0000020B89D00AC0>, long_short_z_diff=-0.7746937154203666, long_short_naive_z_diff=-0.7746937154203666, is_forward_replay=True),\n",
       " 62: LongShortStatsTuple(long_stats_z_scorer=<pyphoplacecellanalysis.General.Pipeline.Stages.ComputationFunctions.MultiContextComputationFunctions.RankOrderComputations.Zscorer object at 0x0000020B89D00C70>, short_stats_z_scorer=<pyphoplacecellanalysis.General.Pipeline.Stages.ComputationFunctions.MultiContextComputationFunctions.RankOrderComputations.Zscorer object at 0x0000020B89D00DC0>, long_short_z_diff=2.0249911722212484, long_short_naive_z_diff=2.0249911722212484, is_forward_replay=True),\n",
       " 63: LongShortStatsTuple(long_stats_z_scorer=<pyphoplacecellanalysis.General.Pipeline.Stages.ComputationFunctions.MultiContextComputationFunctions.RankOrderComputations.Zscorer object at 0x0000020B89D00F70>, short_stats_z_scorer=<pyphoplacecellanalysis.General.Pipeline.Stages.ComputationFunctions.MultiContextComputationFunctions.RankOrderComputations.Zscorer object at 0x0000020B89D06100>, long_short_z_diff=0.20954296767553804, long_short_naive_z_diff=1.6109050273518186, is_forward_replay=True),\n",
       " 64: LongShortStatsTuple(long_stats_z_scorer=<pyphoplacecellanalysis.General.Pipeline.Stages.ComputationFunctions.MultiContextComputationFunctions.RankOrderComputations.Zscorer object at 0x0000020B89D062B0>, short_stats_z_scorer=<pyphoplacecellanalysis.General.Pipeline.Stages.ComputationFunctions.MultiContextComputationFunctions.RankOrderComputations.Zscorer object at 0x0000020B89D06400>, long_short_z_diff=-0.5506348326831874, long_short_naive_z_diff=-0.5506348326831874, is_forward_replay=True),\n",
       " 65: LongShortStatsTuple(long_stats_z_scorer=<pyphoplacecellanalysis.General.Pipeline.Stages.ComputationFunctions.MultiContextComputationFunctions.RankOrderComputations.Zscorer object at 0x0000020B89D065B0>, short_stats_z_scorer=<pyphoplacecellanalysis.General.Pipeline.Stages.ComputationFunctions.MultiContextComputationFunctions.RankOrderComputations.Zscorer object at 0x0000020B89D06700>, long_short_z_diff=-1.0774582193582647, long_short_naive_z_diff=-1.6075320705108436, is_forward_replay=True),\n",
       " 66: LongShortStatsTuple(long_stats_z_scorer=<pyphoplacecellanalysis.General.Pipeline.Stages.ComputationFunctions.MultiContextComputationFunctions.RankOrderComputations.Zscorer object at 0x0000020B89D068B0>, short_stats_z_scorer=<pyphoplacecellanalysis.General.Pipeline.Stages.ComputationFunctions.MultiContextComputationFunctions.RankOrderComputations.Zscorer object at 0x0000020B89D06A00>, long_short_z_diff=0.6153767365289418, long_short_naive_z_diff=0.6153767365289418, is_forward_replay=True),\n",
       " 67: LongShortStatsTuple(long_stats_z_scorer=<pyphoplacecellanalysis.General.Pipeline.Stages.ComputationFunctions.MultiContextComputationFunctions.RankOrderComputations.Zscorer object at 0x0000020B89D06BB0>, short_stats_z_scorer=<pyphoplacecellanalysis.General.Pipeline.Stages.ComputationFunctions.MultiContextComputationFunctions.RankOrderComputations.Zscorer object at 0x0000020B89D06D00>, long_short_z_diff=1.1145647299355788, long_short_naive_z_diff=1.1145647299355788, is_forward_replay=True),\n",
       " 68: LongShortStatsTuple(long_stats_z_scorer=<pyphoplacecellanalysis.General.Pipeline.Stages.ComputationFunctions.MultiContextComputationFunctions.RankOrderComputations.Zscorer object at 0x0000020B89D06EB0>, short_stats_z_scorer=<pyphoplacecellanalysis.General.Pipeline.Stages.ComputationFunctions.MultiContextComputationFunctions.RankOrderComputations.Zscorer object at 0x0000020B89D0C040>, long_short_z_diff=-0.06111734368533406, long_short_naive_z_diff=-0.06111734368533406, is_forward_replay=True),\n",
       " 69: LongShortStatsTuple(long_stats_z_scorer=<pyphoplacecellanalysis.General.Pipeline.Stages.ComputationFunctions.MultiContextComputationFunctions.RankOrderComputations.Zscorer object at 0x0000020B89D0C1F0>, short_stats_z_scorer=<pyphoplacecellanalysis.General.Pipeline.Stages.ComputationFunctions.MultiContextComputationFunctions.RankOrderComputations.Zscorer object at 0x0000020B89D0C340>, long_short_z_diff=-0.21722218957635153, long_short_naive_z_diff=-0.21722218957635153, is_forward_replay=True),\n",
       " 70: LongShortStatsTuple(long_stats_z_scorer=<pyphoplacecellanalysis.General.Pipeline.Stages.ComputationFunctions.MultiContextComputationFunctions.RankOrderComputations.Zscorer object at 0x0000020B89D0C4F0>, short_stats_z_scorer=<pyphoplacecellanalysis.General.Pipeline.Stages.ComputationFunctions.MultiContextComputationFunctions.RankOrderComputations.Zscorer object at 0x0000020B89D0C640>, long_short_z_diff=-1.15235826184462, long_short_naive_z_diff=-1.15235826184462, is_forward_replay=True),\n",
       " 71: LongShortStatsTuple(long_stats_z_scorer=<pyphoplacecellanalysis.General.Pipeline.Stages.ComputationFunctions.MultiContextComputationFunctions.RankOrderComputations.Zscorer object at 0x0000020B89D0C7F0>, short_stats_z_scorer=<pyphoplacecellanalysis.General.Pipeline.Stages.ComputationFunctions.MultiContextComputationFunctions.RankOrderComputations.Zscorer object at 0x0000020B89D0C940>, long_short_z_diff=0.4444768499050238, long_short_naive_z_diff=-0.4444768499050238, is_forward_replay=False),\n",
       " 72: LongShortStatsTuple(long_stats_z_scorer=<pyphoplacecellanalysis.General.Pipeline.Stages.ComputationFunctions.MultiContextComputationFunctions.RankOrderComputations.Zscorer object at 0x0000020B89D0CAF0>, short_stats_z_scorer=<pyphoplacecellanalysis.General.Pipeline.Stages.ComputationFunctions.MultiContextComputationFunctions.RankOrderComputations.Zscorer object at 0x0000020B89D0CC40>, long_short_z_diff=-0.48321191422034404, long_short_naive_z_diff=0.48321191422034404, is_forward_replay=False),\n",
       " 73: LongShortStatsTuple(long_stats_z_scorer=<pyphoplacecellanalysis.General.Pipeline.Stages.ComputationFunctions.MultiContextComputationFunctions.RankOrderComputations.Zscorer object at 0x0000020B89D0CDF0>, short_stats_z_scorer=<pyphoplacecellanalysis.General.Pipeline.Stages.ComputationFunctions.MultiContextComputationFunctions.RankOrderComputations.Zscorer object at 0x0000020B89D0CF40>, long_short_z_diff=-0.4142672730711237, long_short_naive_z_diff=1.0558073608893592, is_forward_replay=False),\n",
       " 74: LongShortStatsTuple(long_stats_z_scorer=<pyphoplacecellanalysis.General.Pipeline.Stages.ComputationFunctions.MultiContextComputationFunctions.RankOrderComputations.Zscorer object at 0x0000020B89D0F130>, short_stats_z_scorer=<pyphoplacecellanalysis.General.Pipeline.Stages.ComputationFunctions.MultiContextComputationFunctions.RankOrderComputations.Zscorer object at 0x0000020B89D0F280>, long_short_z_diff=-0.1234590561936102, long_short_naive_z_diff=0.1234590561936102, is_forward_replay=False),\n",
       " 75: LongShortStatsTuple(long_stats_z_scorer=<pyphoplacecellanalysis.General.Pipeline.Stages.ComputationFunctions.MultiContextComputationFunctions.RankOrderComputations.Zscorer object at 0x0000020B89D0F430>, short_stats_z_scorer=<pyphoplacecellanalysis.General.Pipeline.Stages.ComputationFunctions.MultiContextComputationFunctions.RankOrderComputations.Zscorer object at 0x0000020B89D0F580>, long_short_z_diff=-0.8389633597493353, long_short_naive_z_diff=-0.8389633597493353, is_forward_replay=True),\n",
       " 76: LongShortStatsTuple(long_stats_z_scorer=<pyphoplacecellanalysis.General.Pipeline.Stages.ComputationFunctions.MultiContextComputationFunctions.RankOrderComputations.Zscorer object at 0x0000020B89D0F730>, short_stats_z_scorer=<pyphoplacecellanalysis.General.Pipeline.Stages.ComputationFunctions.MultiContextComputationFunctions.RankOrderComputations.Zscorer object at 0x0000020B89D0F880>, long_short_z_diff=-0.9349984022806113, long_short_naive_z_diff=-0.9349984022806113, is_forward_replay=True),\n",
       " 77: LongShortStatsTuple(long_stats_z_scorer=<pyphoplacecellanalysis.General.Pipeline.Stages.ComputationFunctions.MultiContextComputationFunctions.RankOrderComputations.Zscorer object at 0x0000020B89D0FA30>, short_stats_z_scorer=<pyphoplacecellanalysis.General.Pipeline.Stages.ComputationFunctions.MultiContextComputationFunctions.RankOrderComputations.Zscorer object at 0x0000020B89D0FB80>, long_short_z_diff=0.047855151156469766, long_short_naive_z_diff=-0.047855151156469766, is_forward_replay=False),\n",
       " 78: LongShortStatsTuple(long_stats_z_scorer=<pyphoplacecellanalysis.General.Pipeline.Stages.ComputationFunctions.MultiContextComputationFunctions.RankOrderComputations.Zscorer object at 0x0000020B89D0FD30>, short_stats_z_scorer=<pyphoplacecellanalysis.General.Pipeline.Stages.ComputationFunctions.MultiContextComputationFunctions.RankOrderComputations.Zscorer object at 0x0000020B89D0FE80>, long_short_z_diff=0.22721234303116766, long_short_naive_z_diff=-0.22721234303116766, is_forward_replay=False),\n",
       " 79: LongShortStatsTuple(long_stats_z_scorer=<pyphoplacecellanalysis.General.Pipeline.Stages.ComputationFunctions.MultiContextComputationFunctions.RankOrderComputations.Zscorer object at 0x0000020B89D16070>, short_stats_z_scorer=<pyphoplacecellanalysis.General.Pipeline.Stages.ComputationFunctions.MultiContextComputationFunctions.RankOrderComputations.Zscorer object at 0x0000020B89D161C0>, long_short_z_diff=0.5265081541362762, long_short_naive_z_diff=-0.5265081541362762, is_forward_replay=False),\n",
       " 80: LongShortStatsTuple(long_stats_z_scorer=<pyphoplacecellanalysis.General.Pipeline.Stages.ComputationFunctions.MultiContextComputationFunctions.RankOrderComputations.Zscorer object at 0x0000020B89D16370>, short_stats_z_scorer=<pyphoplacecellanalysis.General.Pipeline.Stages.ComputationFunctions.MultiContextComputationFunctions.RankOrderComputations.Zscorer object at 0x0000020B89D164C0>, long_short_z_diff=-0.10523160219503147, long_short_naive_z_diff=0.10523160219503147, is_forward_replay=False),\n",
       " 81: LongShortStatsTuple(long_stats_z_scorer=<pyphoplacecellanalysis.General.Pipeline.Stages.ComputationFunctions.MultiContextComputationFunctions.RankOrderComputations.Zscorer object at 0x0000020B89D16670>, short_stats_z_scorer=<pyphoplacecellanalysis.General.Pipeline.Stages.ComputationFunctions.MultiContextComputationFunctions.RankOrderComputations.Zscorer object at 0x0000020B89D167C0>, long_short_z_diff=0.2130840475239757, long_short_naive_z_diff=-0.2130840475239757, is_forward_replay=False),\n",
       " 82: LongShortStatsTuple(long_stats_z_scorer=<pyphoplacecellanalysis.General.Pipeline.Stages.ComputationFunctions.MultiContextComputationFunctions.RankOrderComputations.Zscorer object at 0x0000020B89D16970>, short_stats_z_scorer=<pyphoplacecellanalysis.General.Pipeline.Stages.ComputationFunctions.MultiContextComputationFunctions.RankOrderComputations.Zscorer object at 0x0000020B89D16AC0>, long_short_z_diff=0.4095027973289402, long_short_naive_z_diff=-0.5238643872922458, is_forward_replay=False),\n",
       " 83: LongShortStatsTuple(long_stats_z_scorer=<pyphoplacecellanalysis.General.Pipeline.Stages.ComputationFunctions.MultiContextComputationFunctions.RankOrderComputations.Zscorer object at 0x0000020B89D16C70>, short_stats_z_scorer=<pyphoplacecellanalysis.General.Pipeline.Stages.ComputationFunctions.MultiContextComputationFunctions.RankOrderComputations.Zscorer object at 0x0000020B89D16DC0>, long_short_z_diff=-0.42248357438171036, long_short_naive_z_diff=-0.42248357438171036, is_forward_replay=True),\n",
       " 84: LongShortStatsTuple(long_stats_z_scorer=<pyphoplacecellanalysis.General.Pipeline.Stages.ComputationFunctions.MultiContextComputationFunctions.RankOrderComputations.Zscorer object at 0x0000020B89D16F70>, short_stats_z_scorer=<pyphoplacecellanalysis.General.Pipeline.Stages.ComputationFunctions.MultiContextComputationFunctions.RankOrderComputations.Zscorer object at 0x0000020B89D1A100>, long_short_z_diff=-0.015806893243304643, long_short_naive_z_diff=-0.015806893243304643, is_forward_replay=True),\n",
       " 85: LongShortStatsTuple(long_stats_z_scorer=<pyphoplacecellanalysis.General.Pipeline.Stages.ComputationFunctions.MultiContextComputationFunctions.RankOrderComputations.Zscorer object at 0x0000020B89D1A2B0>, short_stats_z_scorer=<pyphoplacecellanalysis.General.Pipeline.Stages.ComputationFunctions.MultiContextComputationFunctions.RankOrderComputations.Zscorer object at 0x0000020B89D1A400>, long_short_z_diff=-0.11956715520207006, long_short_naive_z_diff=-0.11956715520207006, is_forward_replay=True),\n",
       " 86: LongShortStatsTuple(long_stats_z_scorer=<pyphoplacecellanalysis.General.Pipeline.Stages.ComputationFunctions.MultiContextComputationFunctions.RankOrderComputations.Zscorer object at 0x0000020B89D1A5B0>, short_stats_z_scorer=<pyphoplacecellanalysis.General.Pipeline.Stages.ComputationFunctions.MultiContextComputationFunctions.RankOrderComputations.Zscorer object at 0x0000020B89D1A700>, long_short_z_diff=-1.1218327780656523, long_short_naive_z_diff=-1.1218327780656523, is_forward_replay=True),\n",
       " 87: LongShortStatsTuple(long_stats_z_scorer=<pyphoplacecellanalysis.General.Pipeline.Stages.ComputationFunctions.MultiContextComputationFunctions.RankOrderComputations.Zscorer object at 0x0000020B89D1A8B0>, short_stats_z_scorer=<pyphoplacecellanalysis.General.Pipeline.Stages.ComputationFunctions.MultiContextComputationFunctions.RankOrderComputations.Zscorer object at 0x0000020B89D1AA00>, long_short_z_diff=0.11871485588116504, long_short_naive_z_diff=0.11871485588116504, is_forward_replay=True),\n",
       " 88: LongShortStatsTuple(long_stats_z_scorer=<pyphoplacecellanalysis.General.Pipeline.Stages.ComputationFunctions.MultiContextComputationFunctions.RankOrderComputations.Zscorer object at 0x0000020B89D1ABB0>, short_stats_z_scorer=<pyphoplacecellanalysis.General.Pipeline.Stages.ComputationFunctions.MultiContextComputationFunctions.RankOrderComputations.Zscorer object at 0x0000020B89D1AD00>, long_short_z_diff=-0.2676645728173985, long_short_naive_z_diff=-0.2676645728173985, is_forward_replay=True),\n",
       " 89: LongShortStatsTuple(long_stats_z_scorer=<pyphoplacecellanalysis.General.Pipeline.Stages.ComputationFunctions.MultiContextComputationFunctions.RankOrderComputations.Zscorer object at 0x0000020B89D1AEB0>, short_stats_z_scorer=<pyphoplacecellanalysis.General.Pipeline.Stages.ComputationFunctions.MultiContextComputationFunctions.RankOrderComputations.Zscorer object at 0x0000020B89D20040>, long_short_z_diff=0.21612135982038544, long_short_naive_z_diff=-1.053877626757448, is_forward_replay=False),\n",
       " 90: LongShortStatsTuple(long_stats_z_scorer=<pyphoplacecellanalysis.General.Pipeline.Stages.ComputationFunctions.MultiContextComputationFunctions.RankOrderComputations.Zscorer object at 0x0000020B89D201F0>, short_stats_z_scorer=<pyphoplacecellanalysis.General.Pipeline.Stages.ComputationFunctions.MultiContextComputationFunctions.RankOrderComputations.Zscorer object at 0x0000020B89D20340>, long_short_z_diff=0.03057626666738411, long_short_naive_z_diff=0.03057626666738411, is_forward_replay=True),\n",
       " 91: LongShortStatsTuple(long_stats_z_scorer=<pyphoplacecellanalysis.General.Pipeline.Stages.ComputationFunctions.MultiContextComputationFunctions.RankOrderComputations.Zscorer object at 0x0000020B89D204F0>, short_stats_z_scorer=<pyphoplacecellanalysis.General.Pipeline.Stages.ComputationFunctions.MultiContextComputationFunctions.RankOrderComputations.Zscorer object at 0x0000020B89D20640>, long_short_z_diff=-0.6617891165747509, long_short_naive_z_diff=0.6617891165747509, is_forward_replay=False),\n",
       " 92: LongShortStatsTuple(long_stats_z_scorer=<pyphoplacecellanalysis.General.Pipeline.Stages.ComputationFunctions.MultiContextComputationFunctions.RankOrderComputations.Zscorer object at 0x0000020B89D207F0>, short_stats_z_scorer=<pyphoplacecellanalysis.General.Pipeline.Stages.ComputationFunctions.MultiContextComputationFunctions.RankOrderComputations.Zscorer object at 0x0000020B89D20940>, long_short_z_diff=-0.5420916027430971, long_short_naive_z_diff=-0.5420916027430971, is_forward_replay=True),\n",
       " 93: LongShortStatsTuple(long_stats_z_scorer=<pyphoplacecellanalysis.General.Pipeline.Stages.ComputationFunctions.MultiContextComputationFunctions.RankOrderComputations.Zscorer object at 0x0000020B89D20AF0>, short_stats_z_scorer=<pyphoplacecellanalysis.General.Pipeline.Stages.ComputationFunctions.MultiContextComputationFunctions.RankOrderComputations.Zscorer object at 0x0000020B89D20C40>, long_short_z_diff=0.09154709168974429, long_short_naive_z_diff=-0.09154709168974429, is_forward_replay=False),\n",
       " 94: LongShortStatsTuple(long_stats_z_scorer=<pyphoplacecellanalysis.General.Pipeline.Stages.ComputationFunctions.MultiContextComputationFunctions.RankOrderComputations.Zscorer object at 0x0000020B89D20DF0>, short_stats_z_scorer=<pyphoplacecellanalysis.General.Pipeline.Stages.ComputationFunctions.MultiContextComputationFunctions.RankOrderComputations.Zscorer object at 0x0000020B89D20F40>, long_short_z_diff=0.28473333207040813, long_short_naive_z_diff=0.28473333207040813, is_forward_replay=True),\n",
       " 95: LongShortStatsTuple(long_stats_z_scorer=<pyphoplacecellanalysis.General.Pipeline.Stages.ComputationFunctions.MultiContextComputationFunctions.RankOrderComputations.Zscorer object at 0x0000020B89D25130>, short_stats_z_scorer=<pyphoplacecellanalysis.General.Pipeline.Stages.ComputationFunctions.MultiContextComputationFunctions.RankOrderComputations.Zscorer object at 0x0000020B89D25280>, long_short_z_diff=-0.404791992749853, long_short_naive_z_diff=-0.404791992749853, is_forward_replay=True),\n",
       " 96: LongShortStatsTuple(long_stats_z_scorer=<pyphoplacecellanalysis.General.Pipeline.Stages.ComputationFunctions.MultiContextComputationFunctions.RankOrderComputations.Zscorer object at 0x0000020B89D25430>, short_stats_z_scorer=<pyphoplacecellanalysis.General.Pipeline.Stages.ComputationFunctions.MultiContextComputationFunctions.RankOrderComputations.Zscorer object at 0x0000020B89D25580>, long_short_z_diff=-0.8124899935363422, long_short_naive_z_diff=0.8124899935363422, is_forward_replay=False),\n",
       " 97: LongShortStatsTuple(long_stats_z_scorer=<pyphoplacecellanalysis.General.Pipeline.Stages.ComputationFunctions.MultiContextComputationFunctions.RankOrderComputations.Zscorer object at 0x0000020B89D25730>, short_stats_z_scorer=<pyphoplacecellanalysis.General.Pipeline.Stages.ComputationFunctions.MultiContextComputationFunctions.RankOrderComputations.Zscorer object at 0x0000020B89D25880>, long_short_z_diff=0.9876479207694961, long_short_naive_z_diff=0.9876479207694961, is_forward_replay=True),\n",
       " 98: LongShortStatsTuple(long_stats_z_scorer=<pyphoplacecellanalysis.General.Pipeline.Stages.ComputationFunctions.MultiContextComputationFunctions.RankOrderComputations.Zscorer object at 0x0000020B89D25A30>, short_stats_z_scorer=<pyphoplacecellanalysis.General.Pipeline.Stages.ComputationFunctions.MultiContextComputationFunctions.RankOrderComputations.Zscorer object at 0x0000020B89D25B80>, long_short_z_diff=-0.5607475956469415, long_short_naive_z_diff=0.5607475956469415, is_forward_replay=False),\n",
       " 99: LongShortStatsTuple(long_stats_z_scorer=<pyphoplacecellanalysis.General.Pipeline.Stages.ComputationFunctions.MultiContextComputationFunctions.RankOrderComputations.Zscorer object at 0x0000020B89D25D30>, short_stats_z_scorer=<pyphoplacecellanalysis.General.Pipeline.Stages.ComputationFunctions.MultiContextComputationFunctions.RankOrderComputations.Zscorer object at 0x0000020B89D25E80>, long_short_z_diff=0.6665712628348957, long_short_naive_z_diff=-0.892729721746256, is_forward_replay=False),\n",
       " 100: LongShortStatsTuple(long_stats_z_scorer=<pyphoplacecellanalysis.General.Pipeline.Stages.ComputationFunctions.MultiContextComputationFunctions.RankOrderComputations.Zscorer object at 0x0000020B89D2A070>, short_stats_z_scorer=<pyphoplacecellanalysis.General.Pipeline.Stages.ComputationFunctions.MultiContextComputationFunctions.RankOrderComputations.Zscorer object at 0x0000020B89D2A1C0>, long_short_z_diff=0.17777684554647832, long_short_naive_z_diff=0.17777684554647832, is_forward_replay=True),\n",
       " 101: LongShortStatsTuple(long_stats_z_scorer=<pyphoplacecellanalysis.General.Pipeline.Stages.ComputationFunctions.MultiContextComputationFunctions.RankOrderComputations.Zscorer object at 0x0000020B89D2A370>, short_stats_z_scorer=<pyphoplacecellanalysis.General.Pipeline.Stages.ComputationFunctions.MultiContextComputationFunctions.RankOrderComputations.Zscorer object at 0x0000020B89D2A4C0>, long_short_z_diff=-0.5822553330603726, long_short_naive_z_diff=-1.0164264971840942, is_forward_replay=True),\n",
       " 102: LongShortStatsTuple(long_stats_z_scorer=<pyphoplacecellanalysis.General.Pipeline.Stages.ComputationFunctions.MultiContextComputationFunctions.RankOrderComputations.Zscorer object at 0x0000020B89D2A670>, short_stats_z_scorer=<pyphoplacecellanalysis.General.Pipeline.Stages.ComputationFunctions.MultiContextComputationFunctions.RankOrderComputations.Zscorer object at 0x0000020B89D2A7C0>, long_short_z_diff=0.3842352758170253, long_short_naive_z_diff=-0.3842352758170253, is_forward_replay=False),\n",
       " 103: LongShortStatsTuple(long_stats_z_scorer=<pyphoplacecellanalysis.General.Pipeline.Stages.ComputationFunctions.MultiContextComputationFunctions.RankOrderComputations.Zscorer object at 0x0000020B89D2A970>, short_stats_z_scorer=<pyphoplacecellanalysis.General.Pipeline.Stages.ComputationFunctions.MultiContextComputationFunctions.RankOrderComputations.Zscorer object at 0x0000020B89D2AAC0>, long_short_z_diff=1.1213970506189102, long_short_naive_z_diff=1.1213970506189102, is_forward_replay=True),\n",
       " 104: LongShortStatsTuple(long_stats_z_scorer=<pyphoplacecellanalysis.General.Pipeline.Stages.ComputationFunctions.MultiContextComputationFunctions.RankOrderComputations.Zscorer object at 0x0000020B89D2AC70>, short_stats_z_scorer=<pyphoplacecellanalysis.General.Pipeline.Stages.ComputationFunctions.MultiContextComputationFunctions.RankOrderComputations.Zscorer object at 0x0000020B89D2ADC0>, long_short_z_diff=-0.14912619892602708, long_short_naive_z_diff=-0.14912619892602708, is_forward_replay=True),\n",
       " 105: LongShortStatsTuple(long_stats_z_scorer=<pyphoplacecellanalysis.General.Pipeline.Stages.ComputationFunctions.MultiContextComputationFunctions.RankOrderComputations.Zscorer object at 0x0000020B89D2AF70>, short_stats_z_scorer=<pyphoplacecellanalysis.General.Pipeline.Stages.ComputationFunctions.MultiContextComputationFunctions.RankOrderComputations.Zscorer object at 0x0000020B89D2F100>, long_short_z_diff=0.554522006294957, long_short_naive_z_diff=0.554522006294957, is_forward_replay=True),\n",
       " 106: LongShortStatsTuple(long_stats_z_scorer=<pyphoplacecellanalysis.General.Pipeline.Stages.ComputationFunctions.MultiContextComputationFunctions.RankOrderComputations.Zscorer object at 0x0000020B89D2F2B0>, short_stats_z_scorer=<pyphoplacecellanalysis.General.Pipeline.Stages.ComputationFunctions.MultiContextComputationFunctions.RankOrderComputations.Zscorer object at 0x0000020B89D2F400>, long_short_z_diff=0.5691110868598372, long_short_naive_z_diff=-0.5691110868598372, is_forward_replay=False),\n",
       " 107: LongShortStatsTuple(long_stats_z_scorer=<pyphoplacecellanalysis.General.Pipeline.Stages.ComputationFunctions.MultiContextComputationFunctions.RankOrderComputations.Zscorer object at 0x0000020B89D2F5B0>, short_stats_z_scorer=<pyphoplacecellanalysis.General.Pipeline.Stages.ComputationFunctions.MultiContextComputationFunctions.RankOrderComputations.Zscorer object at 0x0000020B89D2F700>, long_short_z_diff=-0.1477506813092188, long_short_naive_z_diff=0.1477506813092188, is_forward_replay=False),\n",
       " 108: LongShortStatsTuple(long_stats_z_scorer=<pyphoplacecellanalysis.General.Pipeline.Stages.ComputationFunctions.MultiContextComputationFunctions.RankOrderComputations.Zscorer object at 0x0000020B89D2F8B0>, short_stats_z_scorer=<pyphoplacecellanalysis.General.Pipeline.Stages.ComputationFunctions.MultiContextComputationFunctions.RankOrderComputations.Zscorer object at 0x0000020B89D2FA00>, long_short_z_diff=0.12058399468547121, long_short_naive_z_diff=-0.12058399468547121, is_forward_replay=False),\n",
       " 109: LongShortStatsTuple(long_stats_z_scorer=<pyphoplacecellanalysis.General.Pipeline.Stages.ComputationFunctions.MultiContextComputationFunctions.RankOrderComputations.Zscorer object at 0x0000020B89D2FBB0>, short_stats_z_scorer=<pyphoplacecellanalysis.General.Pipeline.Stages.ComputationFunctions.MultiContextComputationFunctions.RankOrderComputations.Zscorer object at 0x0000020B89D2FD00>, long_short_z_diff=0.6480599078554916, long_short_naive_z_diff=-0.6480599078554916, is_forward_replay=False),\n",
       " 110: LongShortStatsTuple(long_stats_z_scorer=<pyphoplacecellanalysis.General.Pipeline.Stages.ComputationFunctions.MultiContextComputationFunctions.RankOrderComputations.Zscorer object at 0x0000020B89D2FEB0>, short_stats_z_scorer=<pyphoplacecellanalysis.General.Pipeline.Stages.ComputationFunctions.MultiContextComputationFunctions.RankOrderComputations.Zscorer object at 0x0000020B89D35040>, long_short_z_diff=-0.6568207873452585, long_short_naive_z_diff=0.6568207873452585, is_forward_replay=False),\n",
       " 111: LongShortStatsTuple(long_stats_z_scorer=<pyphoplacecellanalysis.General.Pipeline.Stages.ComputationFunctions.MultiContextComputationFunctions.RankOrderComputations.Zscorer object at 0x0000020B89D351F0>, short_stats_z_scorer=<pyphoplacecellanalysis.General.Pipeline.Stages.ComputationFunctions.MultiContextComputationFunctions.RankOrderComputations.Zscorer object at 0x0000020B89D35340>, long_short_z_diff=-0.0932355677043112, long_short_naive_z_diff=-0.32391491006361894, is_forward_replay=True),\n",
       " 112: LongShortStatsTuple(long_stats_z_scorer=<pyphoplacecellanalysis.General.Pipeline.Stages.ComputationFunctions.MultiContextComputationFunctions.RankOrderComputations.Zscorer object at 0x0000020B89D354F0>, short_stats_z_scorer=<pyphoplacecellanalysis.General.Pipeline.Stages.ComputationFunctions.MultiContextComputationFunctions.RankOrderComputations.Zscorer object at 0x0000020B89D35640>, long_short_z_diff=0.3849035849555529, long_short_naive_z_diff=0.3849035849555529, is_forward_replay=True),\n",
       " 113: LongShortStatsTuple(long_stats_z_scorer=<pyphoplacecellanalysis.General.Pipeline.Stages.ComputationFunctions.MultiContextComputationFunctions.RankOrderComputations.Zscorer object at 0x0000020B89D357F0>, short_stats_z_scorer=<pyphoplacecellanalysis.General.Pipeline.Stages.ComputationFunctions.MultiContextComputationFunctions.RankOrderComputations.Zscorer object at 0x0000020B89D35940>, long_short_z_diff=0.09297332681188153, long_short_naive_z_diff=0.09297332681188153, is_forward_replay=True),\n",
       " 114: LongShortStatsTuple(long_stats_z_scorer=<pyphoplacecellanalysis.General.Pipeline.Stages.ComputationFunctions.MultiContextComputationFunctions.RankOrderComputations.Zscorer object at 0x0000020B89D35AF0>, short_stats_z_scorer=<pyphoplacecellanalysis.General.Pipeline.Stages.ComputationFunctions.MultiContextComputationFunctions.RankOrderComputations.Zscorer object at 0x0000020B89D35C40>, long_short_z_diff=0.35839614898049654, long_short_naive_z_diff=-0.6421694878769477, is_forward_replay=False),\n",
       " 115: LongShortStatsTuple(long_stats_z_scorer=<pyphoplacecellanalysis.General.Pipeline.Stages.ComputationFunctions.MultiContextComputationFunctions.RankOrderComputations.Zscorer object at 0x0000020B89D35DF0>, short_stats_z_scorer=<pyphoplacecellanalysis.General.Pipeline.Stages.ComputationFunctions.MultiContextComputationFunctions.RankOrderComputations.Zscorer object at 0x0000020B89D35F40>, long_short_z_diff=-0.9800097881776313, long_short_naive_z_diff=1.6939008477489297, is_forward_replay=False),\n",
       " 116: LongShortStatsTuple(long_stats_z_scorer=<pyphoplacecellanalysis.General.Pipeline.Stages.ComputationFunctions.MultiContextComputationFunctions.RankOrderComputations.Zscorer object at 0x0000020B89D38130>, short_stats_z_scorer=<pyphoplacecellanalysis.General.Pipeline.Stages.ComputationFunctions.MultiContextComputationFunctions.RankOrderComputations.Zscorer object at 0x0000020B89D38280>, long_short_z_diff=-0.6053321333333305, long_short_naive_z_diff=0.6053321333333305, is_forward_replay=False),\n",
       " 117: LongShortStatsTuple(long_stats_z_scorer=<pyphoplacecellanalysis.General.Pipeline.Stages.ComputationFunctions.MultiContextComputationFunctions.RankOrderComputations.Zscorer object at 0x0000020B89D38430>, short_stats_z_scorer=<pyphoplacecellanalysis.General.Pipeline.Stages.ComputationFunctions.MultiContextComputationFunctions.RankOrderComputations.Zscorer object at 0x0000020B89D38580>, long_short_z_diff=-0.16542443016918895, long_short_naive_z_diff=-0.16542443016918895, is_forward_replay=True),\n",
       " 118: LongShortStatsTuple(long_stats_z_scorer=<pyphoplacecellanalysis.General.Pipeline.Stages.ComputationFunctions.MultiContextComputationFunctions.RankOrderComputations.Zscorer object at 0x0000020B89D38730>, short_stats_z_scorer=<pyphoplacecellanalysis.General.Pipeline.Stages.ComputationFunctions.MultiContextComputationFunctions.RankOrderComputations.Zscorer object at 0x0000020B89D38880>, long_short_z_diff=0.8891282460625303, long_short_naive_z_diff=-0.8891282460625303, is_forward_replay=False),\n",
       " 119: LongShortStatsTuple(long_stats_z_scorer=<pyphoplacecellanalysis.General.Pipeline.Stages.ComputationFunctions.MultiContextComputationFunctions.RankOrderComputations.Zscorer object at 0x0000020B89D38A30>, short_stats_z_scorer=<pyphoplacecellanalysis.General.Pipeline.Stages.ComputationFunctions.MultiContextComputationFunctions.RankOrderComputations.Zscorer object at 0x0000020B89D38B80>, long_short_z_diff=0.11556026245266326, long_short_naive_z_diff=-0.11556026245266326, is_forward_replay=False),\n",
       " 120: LongShortStatsTuple(long_stats_z_scorer=<pyphoplacecellanalysis.General.Pipeline.Stages.ComputationFunctions.MultiContextComputationFunctions.RankOrderComputations.Zscorer object at 0x0000020B89D38D30>, short_stats_z_scorer=<pyphoplacecellanalysis.General.Pipeline.Stages.ComputationFunctions.MultiContextComputationFunctions.RankOrderComputations.Zscorer object at 0x0000020B89D38E80>, long_short_z_diff=-0.01753711012486492, long_short_naive_z_diff=0.01753711012486492, is_forward_replay=False),\n",
       " 121: LongShortStatsTuple(long_stats_z_scorer=<pyphoplacecellanalysis.General.Pipeline.Stages.ComputationFunctions.MultiContextComputationFunctions.RankOrderComputations.Zscorer object at 0x0000020B89D3F070>, short_stats_z_scorer=<pyphoplacecellanalysis.General.Pipeline.Stages.ComputationFunctions.MultiContextComputationFunctions.RankOrderComputations.Zscorer object at 0x0000020B89D3F1C0>, long_short_z_diff=0.2829577860953385, long_short_naive_z_diff=0.2829577860953385, is_forward_replay=True),\n",
       " 122: LongShortStatsTuple(long_stats_z_scorer=<pyphoplacecellanalysis.General.Pipeline.Stages.ComputationFunctions.MultiContextComputationFunctions.RankOrderComputations.Zscorer object at 0x0000020B89D3F370>, short_stats_z_scorer=<pyphoplacecellanalysis.General.Pipeline.Stages.ComputationFunctions.MultiContextComputationFunctions.RankOrderComputations.Zscorer object at 0x0000020B89D3F4C0>, long_short_z_diff=-0.34574198914917514, long_short_naive_z_diff=0.4772838810398679, is_forward_replay=False),\n",
       " 123: LongShortStatsTuple(long_stats_z_scorer=<pyphoplacecellanalysis.General.Pipeline.Stages.ComputationFunctions.MultiContextComputationFunctions.RankOrderComputations.Zscorer object at 0x0000020B89D3F670>, short_stats_z_scorer=<pyphoplacecellanalysis.General.Pipeline.Stages.ComputationFunctions.MultiContextComputationFunctions.RankOrderComputations.Zscorer object at 0x0000020B89D3F7C0>, long_short_z_diff=-0.0673715234347616, long_short_naive_z_diff=0.0673715234347616, is_forward_replay=False),\n",
       " 124: LongShortStatsTuple(long_stats_z_scorer=<pyphoplacecellanalysis.General.Pipeline.Stages.ComputationFunctions.MultiContextComputationFunctions.RankOrderComputations.Zscorer object at 0x0000020B89D3F970>, short_stats_z_scorer=<pyphoplacecellanalysis.General.Pipeline.Stages.ComputationFunctions.MultiContextComputationFunctions.RankOrderComputations.Zscorer object at 0x0000020B89D3FAC0>, long_short_z_diff=1.1533914208402174, long_short_naive_z_diff=1.1533914208402174, is_forward_replay=True),\n",
       " 125: LongShortStatsTuple(long_stats_z_scorer=<pyphoplacecellanalysis.General.Pipeline.Stages.ComputationFunctions.MultiContextComputationFunctions.RankOrderComputations.Zscorer object at 0x0000020B89D3FC70>, short_stats_z_scorer=<pyphoplacecellanalysis.General.Pipeline.Stages.ComputationFunctions.MultiContextComputationFunctions.RankOrderComputations.Zscorer object at 0x0000020B89D3FDC0>, long_short_z_diff=-0.22348832313038458, long_short_naive_z_diff=0.22348832313038458, is_forward_replay=False),\n",
       " 126: LongShortStatsTuple(long_stats_z_scorer=<pyphoplacecellanalysis.General.Pipeline.Stages.ComputationFunctions.MultiContextComputationFunctions.RankOrderComputations.Zscorer object at 0x0000020B89D3FF70>, short_stats_z_scorer=<pyphoplacecellanalysis.General.Pipeline.Stages.ComputationFunctions.MultiContextComputationFunctions.RankOrderComputations.Zscorer object at 0x0000020B89D43100>, long_short_z_diff=0.4873188763072167, long_short_naive_z_diff=-0.4873188763072167, is_forward_replay=False),\n",
       " 127: LongShortStatsTuple(long_stats_z_scorer=<pyphoplacecellanalysis.General.Pipeline.Stages.ComputationFunctions.MultiContextComputationFunctions.RankOrderComputations.Zscorer object at 0x0000020B89D432B0>, short_stats_z_scorer=<pyphoplacecellanalysis.General.Pipeline.Stages.ComputationFunctions.MultiContextComputationFunctions.RankOrderComputations.Zscorer object at 0x0000020B89D43400>, long_short_z_diff=0.40042560923655457, long_short_naive_z_diff=-0.9829976839288783, is_forward_replay=False),\n",
       " 128: LongShortStatsTuple(long_stats_z_scorer=<pyphoplacecellanalysis.General.Pipeline.Stages.ComputationFunctions.MultiContextComputationFunctions.RankOrderComputations.Zscorer object at 0x0000020B89D435B0>, short_stats_z_scorer=<pyphoplacecellanalysis.General.Pipeline.Stages.ComputationFunctions.MultiContextComputationFunctions.RankOrderComputations.Zscorer object at 0x0000020B89D43700>, long_short_z_diff=-0.4417592242267471, long_short_naive_z_diff=0.4417592242267471, is_forward_replay=False),\n",
       " 129: LongShortStatsTuple(long_stats_z_scorer=<pyphoplacecellanalysis.General.Pipeline.Stages.ComputationFunctions.MultiContextComputationFunctions.RankOrderComputations.Zscorer object at 0x0000020B89D438B0>, short_stats_z_scorer=<pyphoplacecellanalysis.General.Pipeline.Stages.ComputationFunctions.MultiContextComputationFunctions.RankOrderComputations.Zscorer object at 0x0000020B89D43A00>, long_short_z_diff=-0.4663129891024099, long_short_naive_z_diff=0.5753497783819072, is_forward_replay=False),\n",
       " 130: LongShortStatsTuple(long_stats_z_scorer=<pyphoplacecellanalysis.General.Pipeline.Stages.ComputationFunctions.MultiContextComputationFunctions.RankOrderComputations.Zscorer object at 0x0000020B89D43BB0>, short_stats_z_scorer=<pyphoplacecellanalysis.General.Pipeline.Stages.ComputationFunctions.MultiContextComputationFunctions.RankOrderComputations.Zscorer object at 0x0000020B89D43D00>, long_short_z_diff=-0.17213290885216104, long_short_naive_z_diff=0.17213290885216104, is_forward_replay=False),\n",
       " 131: LongShortStatsTuple(long_stats_z_scorer=<pyphoplacecellanalysis.General.Pipeline.Stages.ComputationFunctions.MultiContextComputationFunctions.RankOrderComputations.Zscorer object at 0x0000020B89D43EB0>, short_stats_z_scorer=<pyphoplacecellanalysis.General.Pipeline.Stages.ComputationFunctions.MultiContextComputationFunctions.RankOrderComputations.Zscorer object at 0x0000020B89D49040>, long_short_z_diff=-0.3929041604589973, long_short_naive_z_diff=-0.3929041604589973, is_forward_replay=True),\n",
       " 132: LongShortStatsTuple(long_stats_z_scorer=<pyphoplacecellanalysis.General.Pipeline.Stages.ComputationFunctions.MultiContextComputationFunctions.RankOrderComputations.Zscorer object at 0x0000020B89D491F0>, short_stats_z_scorer=<pyphoplacecellanalysis.General.Pipeline.Stages.ComputationFunctions.MultiContextComputationFunctions.RankOrderComputations.Zscorer object at 0x0000020B89D49340>, long_short_z_diff=0.3493125556946146, long_short_naive_z_diff=-0.3493125556946146, is_forward_replay=False),\n",
       " 133: LongShortStatsTuple(long_stats_z_scorer=<pyphoplacecellanalysis.General.Pipeline.Stages.ComputationFunctions.MultiContextComputationFunctions.RankOrderComputations.Zscorer object at 0x0000020B89D494F0>, short_stats_z_scorer=<pyphoplacecellanalysis.General.Pipeline.Stages.ComputationFunctions.MultiContextComputationFunctions.RankOrderComputations.Zscorer object at 0x0000020B89D49640>, long_short_z_diff=0.0635779180405065, long_short_naive_z_diff=-0.0635779180405065, is_forward_replay=False),\n",
       " 134: LongShortStatsTuple(long_stats_z_scorer=<pyphoplacecellanalysis.General.Pipeline.Stages.ComputationFunctions.MultiContextComputationFunctions.RankOrderComputations.Zscorer object at 0x0000020B89D497F0>, short_stats_z_scorer=<pyphoplacecellanalysis.General.Pipeline.Stages.ComputationFunctions.MultiContextComputationFunctions.RankOrderComputations.Zscorer object at 0x0000020B89D49940>, long_short_z_diff=0.2591977486092345, long_short_naive_z_diff=-0.2591977486092345, is_forward_replay=False),\n",
       " 135: LongShortStatsTuple(long_stats_z_scorer=<pyphoplacecellanalysis.General.Pipeline.Stages.ComputationFunctions.MultiContextComputationFunctions.RankOrderComputations.Zscorer object at 0x0000020B89D49AF0>, short_stats_z_scorer=<pyphoplacecellanalysis.General.Pipeline.Stages.ComputationFunctions.MultiContextComputationFunctions.RankOrderComputations.Zscorer object at 0x0000020B89D49C40>, long_short_z_diff=0.1262980222726715, long_short_naive_z_diff=-0.1262980222726715, is_forward_replay=False),\n",
       " 136: LongShortStatsTuple(long_stats_z_scorer=<pyphoplacecellanalysis.General.Pipeline.Stages.ComputationFunctions.MultiContextComputationFunctions.RankOrderComputations.Zscorer object at 0x0000020B89D49DF0>, short_stats_z_scorer=<pyphoplacecellanalysis.General.Pipeline.Stages.ComputationFunctions.MultiContextComputationFunctions.RankOrderComputations.Zscorer object at 0x0000020B89D49F40>, long_short_z_diff=-0.09756566602429784, long_short_naive_z_diff=-0.09756566602429784, is_forward_replay=True),\n",
       " 137: LongShortStatsTuple(long_stats_z_scorer=<pyphoplacecellanalysis.General.Pipeline.Stages.ComputationFunctions.MultiContextComputationFunctions.RankOrderComputations.Zscorer object at 0x0000020B89D4E130>, short_stats_z_scorer=<pyphoplacecellanalysis.General.Pipeline.Stages.ComputationFunctions.MultiContextComputationFunctions.RankOrderComputations.Zscorer object at 0x0000020B89D4E280>, long_short_z_diff=-0.686416408948037, long_short_naive_z_diff=0.686416408948037, is_forward_replay=False),\n",
       " 138: LongShortStatsTuple(long_stats_z_scorer=<pyphoplacecellanalysis.General.Pipeline.Stages.ComputationFunctions.MultiContextComputationFunctions.RankOrderComputations.Zscorer object at 0x0000020B89D4E430>, short_stats_z_scorer=<pyphoplacecellanalysis.General.Pipeline.Stages.ComputationFunctions.MultiContextComputationFunctions.RankOrderComputations.Zscorer object at 0x0000020B89D4E580>, long_short_z_diff=0.5609247687401506, long_short_naive_z_diff=-0.5609247687401506, is_forward_replay=False),\n",
       " 139: LongShortStatsTuple(long_stats_z_scorer=<pyphoplacecellanalysis.General.Pipeline.Stages.ComputationFunctions.MultiContextComputationFunctions.RankOrderComputations.Zscorer object at 0x0000020B89D4E730>, short_stats_z_scorer=<pyphoplacecellanalysis.General.Pipeline.Stages.ComputationFunctions.MultiContextComputationFunctions.RankOrderComputations.Zscorer object at 0x0000020B89D4E880>, long_short_z_diff=-1.2024683656606312, long_short_naive_z_diff=-1.2024683656606312, is_forward_replay=True),\n",
       " 140: LongShortStatsTuple(long_stats_z_scorer=<pyphoplacecellanalysis.General.Pipeline.Stages.ComputationFunctions.MultiContextComputationFunctions.RankOrderComputations.Zscorer object at 0x0000020B89D4EA30>, short_stats_z_scorer=<pyphoplacecellanalysis.General.Pipeline.Stages.ComputationFunctions.MultiContextComputationFunctions.RankOrderComputations.Zscorer object at 0x0000020B89D4EB80>, long_short_z_diff=0.09856700957441089, long_short_naive_z_diff=-0.09856700957441089, is_forward_replay=False),\n",
       " 141: LongShortStatsTuple(long_stats_z_scorer=<pyphoplacecellanalysis.General.Pipeline.Stages.ComputationFunctions.MultiContextComputationFunctions.RankOrderComputations.Zscorer object at 0x0000020B89D4ED30>, short_stats_z_scorer=<pyphoplacecellanalysis.General.Pipeline.Stages.ComputationFunctions.MultiContextComputationFunctions.RankOrderComputations.Zscorer object at 0x0000020B89D4EE80>, long_short_z_diff=-0.835860172128345, long_short_naive_z_diff=-1.4872165972747264, is_forward_replay=True),\n",
       " 142: LongShortStatsTuple(long_stats_z_scorer=<pyphoplacecellanalysis.General.Pipeline.Stages.ComputationFunctions.MultiContextComputationFunctions.RankOrderComputations.Zscorer object at 0x0000020B89D53070>, short_stats_z_scorer=<pyphoplacecellanalysis.General.Pipeline.Stages.ComputationFunctions.MultiContextComputationFunctions.RankOrderComputations.Zscorer object at 0x0000020B89D531C0>, long_short_z_diff=0.5536447370327031, long_short_naive_z_diff=-0.7767161606275579, is_forward_replay=False),\n",
       " 143: LongShortStatsTuple(long_stats_z_scorer=<pyphoplacecellanalysis.General.Pipeline.Stages.ComputationFunctions.MultiContextComputationFunctions.RankOrderComputations.Zscorer object at 0x0000020B89D53370>, short_stats_z_scorer=<pyphoplacecellanalysis.General.Pipeline.Stages.ComputationFunctions.MultiContextComputationFunctions.RankOrderComputations.Zscorer object at 0x0000020B89D534C0>, long_short_z_diff=1.0517875842075117, long_short_naive_z_diff=1.0517875842075117, is_forward_replay=True),\n",
       " 144: LongShortStatsTuple(long_stats_z_scorer=<pyphoplacecellanalysis.General.Pipeline.Stages.ComputationFunctions.MultiContextComputationFunctions.RankOrderComputations.Zscorer object at 0x0000020B89D53670>, short_stats_z_scorer=<pyphoplacecellanalysis.General.Pipeline.Stages.ComputationFunctions.MultiContextComputationFunctions.RankOrderComputations.Zscorer object at 0x0000020B89D537C0>, long_short_z_diff=-1.8494106068557785, long_short_naive_z_diff=1.8494106068557785, is_forward_replay=False),\n",
       " 145: LongShortStatsTuple(long_stats_z_scorer=<pyphoplacecellanalysis.General.Pipeline.Stages.ComputationFunctions.MultiContextComputationFunctions.RankOrderComputations.Zscorer object at 0x0000020B89D53970>, short_stats_z_scorer=<pyphoplacecellanalysis.General.Pipeline.Stages.ComputationFunctions.MultiContextComputationFunctions.RankOrderComputations.Zscorer object at 0x0000020B89D53AC0>, long_short_z_diff=-0.061527071391257016, long_short_naive_z_diff=-0.061527071391257016, is_forward_replay=True),\n",
       " 146: LongShortStatsTuple(long_stats_z_scorer=<pyphoplacecellanalysis.General.Pipeline.Stages.ComputationFunctions.MultiContextComputationFunctions.RankOrderComputations.Zscorer object at 0x0000020B89D53C70>, short_stats_z_scorer=<pyphoplacecellanalysis.General.Pipeline.Stages.ComputationFunctions.MultiContextComputationFunctions.RankOrderComputations.Zscorer object at 0x0000020B89D53DC0>, long_short_z_diff=0.6713882313678212, long_short_naive_z_diff=0.6713882313678212, is_forward_replay=True),\n",
       " 147: LongShortStatsTuple(long_stats_z_scorer=<pyphoplacecellanalysis.General.Pipeline.Stages.ComputationFunctions.MultiContextComputationFunctions.RankOrderComputations.Zscorer object at 0x0000020B89D53F70>, short_stats_z_scorer=<pyphoplacecellanalysis.General.Pipeline.Stages.ComputationFunctions.MultiContextComputationFunctions.RankOrderComputations.Zscorer object at 0x0000020B89D58100>, long_short_z_diff=-0.9649295101717996, long_short_naive_z_diff=-0.9649295101717996, is_forward_replay=True),\n",
       " 148: LongShortStatsTuple(long_stats_z_scorer=<pyphoplacecellanalysis.General.Pipeline.Stages.ComputationFunctions.MultiContextComputationFunctions.RankOrderComputations.Zscorer object at 0x0000020B89D582B0>, short_stats_z_scorer=<pyphoplacecellanalysis.General.Pipeline.Stages.ComputationFunctions.MultiContextComputationFunctions.RankOrderComputations.Zscorer object at 0x0000020B89D58400>, long_short_z_diff=0.745073510190438, long_short_naive_z_diff=0.745073510190438, is_forward_replay=True),\n",
       " 149: LongShortStatsTuple(long_stats_z_scorer=<pyphoplacecellanalysis.General.Pipeline.Stages.ComputationFunctions.MultiContextComputationFunctions.RankOrderComputations.Zscorer object at 0x0000020B89D585B0>, short_stats_z_scorer=<pyphoplacecellanalysis.General.Pipeline.Stages.ComputationFunctions.MultiContextComputationFunctions.RankOrderComputations.Zscorer object at 0x0000020B89D58700>, long_short_z_diff=-0.641885017299953, long_short_naive_z_diff=-0.641885017299953, is_forward_replay=True),\n",
       " 150: LongShortStatsTuple(long_stats_z_scorer=<pyphoplacecellanalysis.General.Pipeline.Stages.ComputationFunctions.MultiContextComputationFunctions.RankOrderComputations.Zscorer object at 0x0000020B89D588B0>, short_stats_z_scorer=<pyphoplacecellanalysis.General.Pipeline.Stages.ComputationFunctions.MultiContextComputationFunctions.RankOrderComputations.Zscorer object at 0x0000020B89D58A00>, long_short_z_diff=-0.589275722161142, long_short_naive_z_diff=-0.589275722161142, is_forward_replay=True),\n",
       " 151: LongShortStatsTuple(long_stats_z_scorer=<pyphoplacecellanalysis.General.Pipeline.Stages.ComputationFunctions.MultiContextComputationFunctions.RankOrderComputations.Zscorer object at 0x0000020B89D58BB0>, short_stats_z_scorer=<pyphoplacecellanalysis.General.Pipeline.Stages.ComputationFunctions.MultiContextComputationFunctions.RankOrderComputations.Zscorer object at 0x0000020B89D58D00>, long_short_z_diff=0.1468080359836741, long_short_naive_z_diff=0.1468080359836741, is_forward_replay=True),\n",
       " 152: LongShortStatsTuple(long_stats_z_scorer=<pyphoplacecellanalysis.General.Pipeline.Stages.ComputationFunctions.MultiContextComputationFunctions.RankOrderComputations.Zscorer object at 0x0000020B89D58EB0>, short_stats_z_scorer=<pyphoplacecellanalysis.General.Pipeline.Stages.ComputationFunctions.MultiContextComputationFunctions.RankOrderComputations.Zscorer object at 0x0000020B89D5D040>, long_short_z_diff=-0.2927078451286782, long_short_naive_z_diff=0.2927078451286782, is_forward_replay=False),\n",
       " 153: LongShortStatsTuple(long_stats_z_scorer=<pyphoplacecellanalysis.General.Pipeline.Stages.ComputationFunctions.MultiContextComputationFunctions.RankOrderComputations.Zscorer object at 0x0000020B89D5D1F0>, short_stats_z_scorer=<pyphoplacecellanalysis.General.Pipeline.Stages.ComputationFunctions.MultiContextComputationFunctions.RankOrderComputations.Zscorer object at 0x0000020B89D5D340>, long_short_z_diff=0.14940725757502538, long_short_naive_z_diff=-0.14940725757502538, is_forward_replay=False),\n",
       " 154: LongShortStatsTuple(long_stats_z_scorer=<pyphoplacecellanalysis.General.Pipeline.Stages.ComputationFunctions.MultiContextComputationFunctions.RankOrderComputations.Zscorer object at 0x0000020B89D5D4F0>, short_stats_z_scorer=<pyphoplacecellanalysis.General.Pipeline.Stages.ComputationFunctions.MultiContextComputationFunctions.RankOrderComputations.Zscorer object at 0x0000020B89D5D640>, long_short_z_diff=-0.4875964566582156, long_short_naive_z_diff=-0.4875964566582156, is_forward_replay=True),\n",
       " 155: LongShortStatsTuple(long_stats_z_scorer=<pyphoplacecellanalysis.General.Pipeline.Stages.ComputationFunctions.MultiContextComputationFunctions.RankOrderComputations.Zscorer object at 0x0000020B89D5D7F0>, short_stats_z_scorer=<pyphoplacecellanalysis.General.Pipeline.Stages.ComputationFunctions.MultiContextComputationFunctions.RankOrderComputations.Zscorer object at 0x0000020B89D5D940>, long_short_z_diff=-0.7598038842886108, long_short_naive_z_diff=-2.4509747094442895, is_forward_replay=True),\n",
       " 156: LongShortStatsTuple(long_stats_z_scorer=<pyphoplacecellanalysis.General.Pipeline.Stages.ComputationFunctions.MultiContextComputationFunctions.RankOrderComputations.Zscorer object at 0x0000020B89D5DAF0>, short_stats_z_scorer=<pyphoplacecellanalysis.General.Pipeline.Stages.ComputationFunctions.MultiContextComputationFunctions.RankOrderComputations.Zscorer object at 0x0000020B89D5DC40>, long_short_z_diff=0.6943866232010101, long_short_naive_z_diff=-0.6943866232010101, is_forward_replay=False),\n",
       " 157: LongShortStatsTuple(long_stats_z_scorer=<pyphoplacecellanalysis.General.Pipeline.Stages.ComputationFunctions.MultiContextComputationFunctions.RankOrderComputations.Zscorer object at 0x0000020B89D5DDF0>, short_stats_z_scorer=<pyphoplacecellanalysis.General.Pipeline.Stages.ComputationFunctions.MultiContextComputationFunctions.RankOrderComputations.Zscorer object at 0x0000020B89D5DF40>, long_short_z_diff=1.1551500611245198, long_short_naive_z_diff=-1.1551500611245198, is_forward_replay=False),\n",
       " 158: LongShortStatsTuple(long_stats_z_scorer=<pyphoplacecellanalysis.General.Pipeline.Stages.ComputationFunctions.MultiContextComputationFunctions.RankOrderComputations.Zscorer object at 0x0000020B89D62130>, short_stats_z_scorer=<pyphoplacecellanalysis.General.Pipeline.Stages.ComputationFunctions.MultiContextComputationFunctions.RankOrderComputations.Zscorer object at 0x0000020B89D62280>, long_short_z_diff=-0.04811216903380178, long_short_naive_z_diff=0.04811216903380178, is_forward_replay=False),\n",
       " 159: LongShortStatsTuple(long_stats_z_scorer=<pyphoplacecellanalysis.General.Pipeline.Stages.ComputationFunctions.MultiContextComputationFunctions.RankOrderComputations.Zscorer object at 0x0000020B89D62430>, short_stats_z_scorer=<pyphoplacecellanalysis.General.Pipeline.Stages.ComputationFunctions.MultiContextComputationFunctions.RankOrderComputations.Zscorer object at 0x0000020B89D62580>, long_short_z_diff=-0.813836076695085, long_short_naive_z_diff=-0.813836076695085, is_forward_replay=True),\n",
       " 160: LongShortStatsTuple(long_stats_z_scorer=<pyphoplacecellanalysis.General.Pipeline.Stages.ComputationFunctions.MultiContextComputationFunctions.RankOrderComputations.Zscorer object at 0x0000020B89D62730>, short_stats_z_scorer=<pyphoplacecellanalysis.General.Pipeline.Stages.ComputationFunctions.MultiContextComputationFunctions.RankOrderComputations.Zscorer object at 0x0000020B89D62880>, long_short_z_diff=0.3704804627991489, long_short_naive_z_diff=0.3704804627991489, is_forward_replay=True),\n",
       " 161: LongShortStatsTuple(long_stats_z_scorer=<pyphoplacecellanalysis.General.Pipeline.Stages.ComputationFunctions.MultiContextComputationFunctions.RankOrderComputations.Zscorer object at 0x0000020B89D62A30>, short_stats_z_scorer=<pyphoplacecellanalysis.General.Pipeline.Stages.ComputationFunctions.MultiContextComputationFunctions.RankOrderComputations.Zscorer object at 0x0000020B89D62B80>, long_short_z_diff=0.5819917938732484, long_short_naive_z_diff=-0.5819917938732484, is_forward_replay=False),\n",
       " 162: LongShortStatsTuple(long_stats_z_scorer=<pyphoplacecellanalysis.General.Pipeline.Stages.ComputationFunctions.MultiContextComputationFunctions.RankOrderComputations.Zscorer object at 0x0000020B89D62D30>, short_stats_z_scorer=<pyphoplacecellanalysis.General.Pipeline.Stages.ComputationFunctions.MultiContextComputationFunctions.RankOrderComputations.Zscorer object at 0x0000020B89D62E80>, long_short_z_diff=0.16972700559594056, long_short_naive_z_diff=0.16972700559594056, is_forward_replay=True),\n",
       " 163: LongShortStatsTuple(long_stats_z_scorer=<pyphoplacecellanalysis.General.Pipeline.Stages.ComputationFunctions.MultiContextComputationFunctions.RankOrderComputations.Zscorer object at 0x0000020B89D68070>, short_stats_z_scorer=<pyphoplacecellanalysis.General.Pipeline.Stages.ComputationFunctions.MultiContextComputationFunctions.RankOrderComputations.Zscorer object at 0x0000020B89D681C0>, long_short_z_diff=0.7203864134522302, long_short_naive_z_diff=-0.8197949096676711, is_forward_replay=False),\n",
       " 164: LongShortStatsTuple(long_stats_z_scorer=<pyphoplacecellanalysis.General.Pipeline.Stages.ComputationFunctions.MultiContextComputationFunctions.RankOrderComputations.Zscorer object at 0x0000020B89D68370>, short_stats_z_scorer=<pyphoplacecellanalysis.General.Pipeline.Stages.ComputationFunctions.MultiContextComputationFunctions.RankOrderComputations.Zscorer object at 0x0000020B89D684C0>, long_short_z_diff=-0.20337572122559577, long_short_naive_z_diff=-0.20337572122559577, is_forward_replay=True),\n",
       " 165: LongShortStatsTuple(long_stats_z_scorer=<pyphoplacecellanalysis.General.Pipeline.Stages.ComputationFunctions.MultiContextComputationFunctions.RankOrderComputations.Zscorer object at 0x0000020B89D68670>, short_stats_z_scorer=<pyphoplacecellanalysis.General.Pipeline.Stages.ComputationFunctions.MultiContextComputationFunctions.RankOrderComputations.Zscorer object at 0x0000020B89D687C0>, long_short_z_diff=-0.40253703261298374, long_short_naive_z_diff=-0.40253703261298374, is_forward_replay=True),\n",
       " 166: LongShortStatsTuple(long_stats_z_scorer=<pyphoplacecellanalysis.General.Pipeline.Stages.ComputationFunctions.MultiContextComputationFunctions.RankOrderComputations.Zscorer object at 0x0000020B89D68970>, short_stats_z_scorer=<pyphoplacecellanalysis.General.Pipeline.Stages.ComputationFunctions.MultiContextComputationFunctions.RankOrderComputations.Zscorer object at 0x0000020B89D68AC0>, long_short_z_diff=0.31545003786730796, long_short_naive_z_diff=-0.31545003786730796, is_forward_replay=False),\n",
       " 167: LongShortStatsTuple(long_stats_z_scorer=<pyphoplacecellanalysis.General.Pipeline.Stages.ComputationFunctions.MultiContextComputationFunctions.RankOrderComputations.Zscorer object at 0x0000020B89D68C70>, short_stats_z_scorer=<pyphoplacecellanalysis.General.Pipeline.Stages.ComputationFunctions.MultiContextComputationFunctions.RankOrderComputations.Zscorer object at 0x0000020B89D68DC0>, long_short_z_diff=-0.24428321750954773, long_short_naive_z_diff=0.24428321750954773, is_forward_replay=False),\n",
       " 168: LongShortStatsTuple(long_stats_z_scorer=<pyphoplacecellanalysis.General.Pipeline.Stages.ComputationFunctions.MultiContextComputationFunctions.RankOrderComputations.Zscorer object at 0x0000020B89D68F70>, short_stats_z_scorer=<pyphoplacecellanalysis.General.Pipeline.Stages.ComputationFunctions.MultiContextComputationFunctions.RankOrderComputations.Zscorer object at 0x0000020B89D6C100>, long_short_z_diff=0.015557519972921874, long_short_naive_z_diff=-0.015557519972921874, is_forward_replay=False),\n",
       " 169: LongShortStatsTuple(long_stats_z_scorer=<pyphoplacecellanalysis.General.Pipeline.Stages.ComputationFunctions.MultiContextComputationFunctions.RankOrderComputations.Zscorer object at 0x0000020B89D6C2B0>, short_stats_z_scorer=<pyphoplacecellanalysis.General.Pipeline.Stages.ComputationFunctions.MultiContextComputationFunctions.RankOrderComputations.Zscorer object at 0x0000020B89D6C400>, long_short_z_diff=0.30438107714534945, long_short_naive_z_diff=-0.30438107714534945, is_forward_replay=False),\n",
       " 170: LongShortStatsTuple(long_stats_z_scorer=<pyphoplacecellanalysis.General.Pipeline.Stages.ComputationFunctions.MultiContextComputationFunctions.RankOrderComputations.Zscorer object at 0x0000020B89D6C5B0>, short_stats_z_scorer=<pyphoplacecellanalysis.General.Pipeline.Stages.ComputationFunctions.MultiContextComputationFunctions.RankOrderComputations.Zscorer object at 0x0000020B89D6C700>, long_short_z_diff=-0.3330616054054203, long_short_naive_z_diff=-0.4518144632617922, is_forward_replay=True),\n",
       " 171: LongShortStatsTuple(long_stats_z_scorer=<pyphoplacecellanalysis.General.Pipeline.Stages.ComputationFunctions.MultiContextComputationFunctions.RankOrderComputations.Zscorer object at 0x0000020B89D6C8B0>, short_stats_z_scorer=<pyphoplacecellanalysis.General.Pipeline.Stages.ComputationFunctions.MultiContextComputationFunctions.RankOrderComputations.Zscorer object at 0x0000020B89D6CA00>, long_short_z_diff=0.18932668384873158, long_short_naive_z_diff=-0.18932668384873158, is_forward_replay=False),\n",
       " 172: LongShortStatsTuple(long_stats_z_scorer=<pyphoplacecellanalysis.General.Pipeline.Stages.ComputationFunctions.MultiContextComputationFunctions.RankOrderComputations.Zscorer object at 0x0000020B89D6CBB0>, short_stats_z_scorer=<pyphoplacecellanalysis.General.Pipeline.Stages.ComputationFunctions.MultiContextComputationFunctions.RankOrderComputations.Zscorer object at 0x0000020B89D6CD00>, long_short_z_diff=0.5084869549711712, long_short_naive_z_diff=-0.5681307494848313, is_forward_replay=False),\n",
       " 173: LongShortStatsTuple(long_stats_z_scorer=<pyphoplacecellanalysis.General.Pipeline.Stages.ComputationFunctions.MultiContextComputationFunctions.RankOrderComputations.Zscorer object at 0x0000020B89D6CEB0>, short_stats_z_scorer=<pyphoplacecellanalysis.General.Pipeline.Stages.ComputationFunctions.MultiContextComputationFunctions.RankOrderComputations.Zscorer object at 0x0000020B89D73040>, long_short_z_diff=0.8561192403580046, long_short_naive_z_diff=0.8561192403580046, is_forward_replay=True),\n",
       " 174: LongShortStatsTuple(long_stats_z_scorer=<pyphoplacecellanalysis.General.Pipeline.Stages.ComputationFunctions.MultiContextComputationFunctions.RankOrderComputations.Zscorer object at 0x0000020B89D731F0>, short_stats_z_scorer=<pyphoplacecellanalysis.General.Pipeline.Stages.ComputationFunctions.MultiContextComputationFunctions.RankOrderComputations.Zscorer object at 0x0000020B89D73340>, long_short_z_diff=0.3009019564572031, long_short_naive_z_diff=-0.3009019564572031, is_forward_replay=False),\n",
       " 175: LongShortStatsTuple(long_stats_z_scorer=<pyphoplacecellanalysis.General.Pipeline.Stages.ComputationFunctions.MultiContextComputationFunctions.RankOrderComputations.Zscorer object at 0x0000020B89D734F0>, short_stats_z_scorer=<pyphoplacecellanalysis.General.Pipeline.Stages.ComputationFunctions.MultiContextComputationFunctions.RankOrderComputations.Zscorer object at 0x0000020B89D73640>, long_short_z_diff=-0.25409416520528394, long_short_naive_z_diff=0.25409416520528394, is_forward_replay=False),\n",
       " 176: LongShortStatsTuple(long_stats_z_scorer=<pyphoplacecellanalysis.General.Pipeline.Stages.ComputationFunctions.MultiContextComputationFunctions.RankOrderComputations.Zscorer object at 0x0000020B89D737F0>, short_stats_z_scorer=<pyphoplacecellanalysis.General.Pipeline.Stages.ComputationFunctions.MultiContextComputationFunctions.RankOrderComputations.Zscorer object at 0x0000020B89D73940>, long_short_z_diff=0.09706814739746647, long_short_naive_z_diff=0.09706814739746647, is_forward_replay=True),\n",
       " 177: LongShortStatsTuple(long_stats_z_scorer=<pyphoplacecellanalysis.General.Pipeline.Stages.ComputationFunctions.MultiContextComputationFunctions.RankOrderComputations.Zscorer object at 0x0000020B89D73AF0>, short_stats_z_scorer=<pyphoplacecellanalysis.General.Pipeline.Stages.ComputationFunctions.MultiContextComputationFunctions.RankOrderComputations.Zscorer object at 0x0000020B89D73C40>, long_short_z_diff=0.21757727124134946, long_short_naive_z_diff=0.21757727124134946, is_forward_replay=True),\n",
       " 178: LongShortStatsTuple(long_stats_z_scorer=<pyphoplacecellanalysis.General.Pipeline.Stages.ComputationFunctions.MultiContextComputationFunctions.RankOrderComputations.Zscorer object at 0x0000020B89D73DF0>, short_stats_z_scorer=<pyphoplacecellanalysis.General.Pipeline.Stages.ComputationFunctions.MultiContextComputationFunctions.RankOrderComputations.Zscorer object at 0x0000020B89D73F40>, long_short_z_diff=-0.08555782540400458, long_short_naive_z_diff=0.08555782540400458, is_forward_replay=False),\n",
       " 179: LongShortStatsTuple(long_stats_z_scorer=<pyphoplacecellanalysis.General.Pipeline.Stages.ComputationFunctions.MultiContextComputationFunctions.RankOrderComputations.Zscorer object at 0x0000020B89D77130>, short_stats_z_scorer=<pyphoplacecellanalysis.General.Pipeline.Stages.ComputationFunctions.MultiContextComputationFunctions.RankOrderComputations.Zscorer object at 0x0000020B89D77280>, long_short_z_diff=0.5374854166587455, long_short_naive_z_diff=0.5374854166587455, is_forward_replay=True),\n",
       " 180: LongShortStatsTuple(long_stats_z_scorer=<pyphoplacecellanalysis.General.Pipeline.Stages.ComputationFunctions.MultiContextComputationFunctions.RankOrderComputations.Zscorer object at 0x0000020B89D77430>, short_stats_z_scorer=<pyphoplacecellanalysis.General.Pipeline.Stages.ComputationFunctions.MultiContextComputationFunctions.RankOrderComputations.Zscorer object at 0x0000020B89D77580>, long_short_z_diff=-0.11345134174145888, long_short_naive_z_diff=-0.11345134174145888, is_forward_replay=True),\n",
       " 181: LongShortStatsTuple(long_stats_z_scorer=<pyphoplacecellanalysis.General.Pipeline.Stages.ComputationFunctions.MultiContextComputationFunctions.RankOrderComputations.Zscorer object at 0x0000020B89D77730>, short_stats_z_scorer=<pyphoplacecellanalysis.General.Pipeline.Stages.ComputationFunctions.MultiContextComputationFunctions.RankOrderComputations.Zscorer object at 0x0000020B89D77880>, long_short_z_diff=-0.24018587416119308, long_short_naive_z_diff=0.24018587416119308, is_forward_replay=False),\n",
       " 182: LongShortStatsTuple(long_stats_z_scorer=<pyphoplacecellanalysis.General.Pipeline.Stages.ComputationFunctions.MultiContextComputationFunctions.RankOrderComputations.Zscorer object at 0x0000020B89D77A30>, short_stats_z_scorer=<pyphoplacecellanalysis.General.Pipeline.Stages.ComputationFunctions.MultiContextComputationFunctions.RankOrderComputations.Zscorer object at 0x0000020B89D77B80>, long_short_z_diff=-0.1909038670420611, long_short_naive_z_diff=-0.1909038670420611, is_forward_replay=True),\n",
       " 183: LongShortStatsTuple(long_stats_z_scorer=<pyphoplacecellanalysis.General.Pipeline.Stages.ComputationFunctions.MultiContextComputationFunctions.RankOrderComputations.Zscorer object at 0x0000020B89D77D30>, short_stats_z_scorer=<pyphoplacecellanalysis.General.Pipeline.Stages.ComputationFunctions.MultiContextComputationFunctions.RankOrderComputations.Zscorer object at 0x0000020B89D77E80>, long_short_z_diff=0.0760099892677465, long_short_naive_z_diff=0.3219939935437327, is_forward_replay=True),\n",
       " 184: LongShortStatsTuple(long_stats_z_scorer=<pyphoplacecellanalysis.General.Pipeline.Stages.ComputationFunctions.MultiContextComputationFunctions.RankOrderComputations.Zscorer object at 0x0000020B89D7C070>, short_stats_z_scorer=<pyphoplacecellanalysis.General.Pipeline.Stages.ComputationFunctions.MultiContextComputationFunctions.RankOrderComputations.Zscorer object at 0x0000020B89D7C1C0>, long_short_z_diff=0.22177329306953109, long_short_naive_z_diff=-0.644878874714552, is_forward_replay=False),\n",
       " 185: LongShortStatsTuple(long_stats_z_scorer=<pyphoplacecellanalysis.General.Pipeline.Stages.ComputationFunctions.MultiContextComputationFunctions.RankOrderComputations.Zscorer object at 0x0000020B89D7C370>, short_stats_z_scorer=<pyphoplacecellanalysis.General.Pipeline.Stages.ComputationFunctions.MultiContextComputationFunctions.RankOrderComputations.Zscorer object at 0x0000020B89D7C4C0>, long_short_z_diff=0.06370754387296018, long_short_naive_z_diff=-0.06370754387296018, is_forward_replay=False),\n",
       " 186: LongShortStatsTuple(long_stats_z_scorer=<pyphoplacecellanalysis.General.Pipeline.Stages.ComputationFunctions.MultiContextComputationFunctions.RankOrderComputations.Zscorer object at 0x0000020B89D7C670>, short_stats_z_scorer=<pyphoplacecellanalysis.General.Pipeline.Stages.ComputationFunctions.MultiContextComputationFunctions.RankOrderComputations.Zscorer object at 0x0000020B89D7C7C0>, long_short_z_diff=1.0400291857761252, long_short_naive_z_diff=2.078993423863818, is_forward_replay=True),\n",
       " 187: LongShortStatsTuple(long_stats_z_scorer=<pyphoplacecellanalysis.General.Pipeline.Stages.ComputationFunctions.MultiContextComputationFunctions.RankOrderComputations.Zscorer object at 0x0000020B89D7C970>, short_stats_z_scorer=<pyphoplacecellanalysis.General.Pipeline.Stages.ComputationFunctions.MultiContextComputationFunctions.RankOrderComputations.Zscorer object at 0x0000020B89D7CAC0>, long_short_z_diff=0.2637342144441963, long_short_naive_z_diff=-0.2637342144441963, is_forward_replay=False),\n",
       " 188: LongShortStatsTuple(long_stats_z_scorer=<pyphoplacecellanalysis.General.Pipeline.Stages.ComputationFunctions.MultiContextComputationFunctions.RankOrderComputations.Zscorer object at 0x0000020B89D7CC70>, short_stats_z_scorer=<pyphoplacecellanalysis.General.Pipeline.Stages.ComputationFunctions.MultiContextComputationFunctions.RankOrderComputations.Zscorer object at 0x0000020B89D7CDC0>, long_short_z_diff=-0.1164387835489834, long_short_naive_z_diff=-0.1164387835489834, is_forward_replay=True),\n",
       " 189: LongShortStatsTuple(long_stats_z_scorer=<pyphoplacecellanalysis.General.Pipeline.Stages.ComputationFunctions.MultiContextComputationFunctions.RankOrderComputations.Zscorer object at 0x0000020B89D7CF70>, short_stats_z_scorer=<pyphoplacecellanalysis.General.Pipeline.Stages.ComputationFunctions.MultiContextComputationFunctions.RankOrderComputations.Zscorer object at 0x0000020B89D82100>, long_short_z_diff=-0.26568702211326567, long_short_naive_z_diff=-0.26568702211326567, is_forward_replay=True),\n",
       " 190: LongShortStatsTuple(long_stats_z_scorer=<pyphoplacecellanalysis.General.Pipeline.Stages.ComputationFunctions.MultiContextComputationFunctions.RankOrderComputations.Zscorer object at 0x0000020B89D822B0>, short_stats_z_scorer=<pyphoplacecellanalysis.General.Pipeline.Stages.ComputationFunctions.MultiContextComputationFunctions.RankOrderComputations.Zscorer object at 0x0000020B89D82400>, long_short_z_diff=-0.3820413385665234, long_short_naive_z_diff=0.3820413385665234, is_forward_replay=False),\n",
       " 191: LongShortStatsTuple(long_stats_z_scorer=<pyphoplacecellanalysis.General.Pipeline.Stages.ComputationFunctions.MultiContextComputationFunctions.RankOrderComputations.Zscorer object at 0x0000020B89D825B0>, short_stats_z_scorer=<pyphoplacecellanalysis.General.Pipeline.Stages.ComputationFunctions.MultiContextComputationFunctions.RankOrderComputations.Zscorer object at 0x0000020B89D82700>, long_short_z_diff=0.22632666272450863, long_short_naive_z_diff=0.6377974207138234, is_forward_replay=True),\n",
       " 192: LongShortStatsTuple(long_stats_z_scorer=<pyphoplacecellanalysis.General.Pipeline.Stages.ComputationFunctions.MultiContextComputationFunctions.RankOrderComputations.Zscorer object at 0x0000020B89D828B0>, short_stats_z_scorer=<pyphoplacecellanalysis.General.Pipeline.Stages.ComputationFunctions.MultiContextComputationFunctions.RankOrderComputations.Zscorer object at 0x0000020B89D82A00>, long_short_z_diff=0.16139372837055865, long_short_naive_z_diff=-0.16139372837055865, is_forward_replay=False),\n",
       " 193: LongShortStatsTuple(long_stats_z_scorer=<pyphoplacecellanalysis.General.Pipeline.Stages.ComputationFunctions.MultiContextComputationFunctions.RankOrderComputations.Zscorer object at 0x0000020B89D82BB0>, short_stats_z_scorer=<pyphoplacecellanalysis.General.Pipeline.Stages.ComputationFunctions.MultiContextComputationFunctions.RankOrderComputations.Zscorer object at 0x0000020B89D82D00>, long_short_z_diff=0.18252895590424467, long_short_naive_z_diff=-0.18252895590424467, is_forward_replay=False),\n",
       " 194: LongShortStatsTuple(long_stats_z_scorer=<pyphoplacecellanalysis.General.Pipeline.Stages.ComputationFunctions.MultiContextComputationFunctions.RankOrderComputations.Zscorer object at 0x0000020B89D82EB0>, short_stats_z_scorer=<pyphoplacecellanalysis.General.Pipeline.Stages.ComputationFunctions.MultiContextComputationFunctions.RankOrderComputations.Zscorer object at 0x0000020B89D86040>, long_short_z_diff=0.9023605966778963, long_short_naive_z_diff=-0.9023605966778963, is_forward_replay=False),\n",
       " 195: LongShortStatsTuple(long_stats_z_scorer=<pyphoplacecellanalysis.General.Pipeline.Stages.ComputationFunctions.MultiContextComputationFunctions.RankOrderComputations.Zscorer object at 0x0000020B89D861F0>, short_stats_z_scorer=<pyphoplacecellanalysis.General.Pipeline.Stages.ComputationFunctions.MultiContextComputationFunctions.RankOrderComputations.Zscorer object at 0x0000020B89D86340>, long_short_z_diff=-0.15412127562689681, long_short_naive_z_diff=0.15412127562689681, is_forward_replay=False),\n",
       " 196: LongShortStatsTuple(long_stats_z_scorer=<pyphoplacecellanalysis.General.Pipeline.Stages.ComputationFunctions.MultiContextComputationFunctions.RankOrderComputations.Zscorer object at 0x0000020B89D864F0>, short_stats_z_scorer=<pyphoplacecellanalysis.General.Pipeline.Stages.ComputationFunctions.MultiContextComputationFunctions.RankOrderComputations.Zscorer object at 0x0000020B89D86640>, long_short_z_diff=0.6876680689587858, long_short_naive_z_diff=0.9718177373331099, is_forward_replay=True),\n",
       " 197: LongShortStatsTuple(long_stats_z_scorer=<pyphoplacecellanalysis.General.Pipeline.Stages.ComputationFunctions.MultiContextComputationFunctions.RankOrderComputations.Zscorer object at 0x0000020B89D867F0>, short_stats_z_scorer=<pyphoplacecellanalysis.General.Pipeline.Stages.ComputationFunctions.MultiContextComputationFunctions.RankOrderComputations.Zscorer object at 0x0000020B89D86940>, long_short_z_diff=-0.05682796964130299, long_short_naive_z_diff=0.05682796964130299, is_forward_replay=False),\n",
       " 198: LongShortStatsTuple(long_stats_z_scorer=<pyphoplacecellanalysis.General.Pipeline.Stages.ComputationFunctions.MultiContextComputationFunctions.RankOrderComputations.Zscorer object at 0x0000020B89D86AF0>, short_stats_z_scorer=<pyphoplacecellanalysis.General.Pipeline.Stages.ComputationFunctions.MultiContextComputationFunctions.RankOrderComputations.Zscorer object at 0x0000020B89D86C40>, long_short_z_diff=0.2762536086076366, long_short_naive_z_diff=0.2762536086076366, is_forward_replay=True),\n",
       " 199: LongShortStatsTuple(long_stats_z_scorer=<pyphoplacecellanalysis.General.Pipeline.Stages.ComputationFunctions.MultiContextComputationFunctions.RankOrderComputations.Zscorer object at 0x0000020B89D86DF0>, short_stats_z_scorer=<pyphoplacecellanalysis.General.Pipeline.Stages.ComputationFunctions.MultiContextComputationFunctions.RankOrderComputations.Zscorer object at 0x0000020B89D86F40>, long_short_z_diff=0.5120114278459066, long_short_naive_z_diff=0.5120114278459066, is_forward_replay=True),\n",
       " 200: LongShortStatsTuple(long_stats_z_scorer=<pyphoplacecellanalysis.General.Pipeline.Stages.ComputationFunctions.MultiContextComputationFunctions.RankOrderComputations.Zscorer object at 0x0000020B89D8B130>, short_stats_z_scorer=<pyphoplacecellanalysis.General.Pipeline.Stages.ComputationFunctions.MultiContextComputationFunctions.RankOrderComputations.Zscorer object at 0x0000020B89D8B280>, long_short_z_diff=0.46026439737595026, long_short_naive_z_diff=0.46026439737595026, is_forward_replay=True),\n",
       " 201: LongShortStatsTuple(long_stats_z_scorer=<pyphoplacecellanalysis.General.Pipeline.Stages.ComputationFunctions.MultiContextComputationFunctions.RankOrderComputations.Zscorer object at 0x0000020B89D8B430>, short_stats_z_scorer=<pyphoplacecellanalysis.General.Pipeline.Stages.ComputationFunctions.MultiContextComputationFunctions.RankOrderComputations.Zscorer object at 0x0000020B89D8B580>, long_short_z_diff=-0.9299347073248116, long_short_naive_z_diff=0.9299347073248116, is_forward_replay=False),\n",
       " 202: LongShortStatsTuple(long_stats_z_scorer=<pyphoplacecellanalysis.General.Pipeline.Stages.ComputationFunctions.MultiContextComputationFunctions.RankOrderComputations.Zscorer object at 0x0000020B89D8B730>, short_stats_z_scorer=<pyphoplacecellanalysis.General.Pipeline.Stages.ComputationFunctions.MultiContextComputationFunctions.RankOrderComputations.Zscorer object at 0x0000020B89D8B880>, long_short_z_diff=1.0111655098882086, long_short_naive_z_diff=1.0111655098882086, is_forward_replay=True),\n",
       " 203: LongShortStatsTuple(long_stats_z_scorer=<pyphoplacecellanalysis.General.Pipeline.Stages.ComputationFunctions.MultiContextComputationFunctions.RankOrderComputations.Zscorer object at 0x0000020B89D8BA30>, short_stats_z_scorer=<pyphoplacecellanalysis.General.Pipeline.Stages.ComputationFunctions.MultiContextComputationFunctions.RankOrderComputations.Zscorer object at 0x0000020B89D8BB80>, long_short_z_diff=0.5838847025440994, long_short_naive_z_diff=-0.5838847025440994, is_forward_replay=False),\n",
       " 204: LongShortStatsTuple(long_stats_z_scorer=<pyphoplacecellanalysis.General.Pipeline.Stages.ComputationFunctions.MultiContextComputationFunctions.RankOrderComputations.Zscorer object at 0x0000020B89D8BD30>, short_stats_z_scorer=<pyphoplacecellanalysis.General.Pipeline.Stages.ComputationFunctions.MultiContextComputationFunctions.RankOrderComputations.Zscorer object at 0x0000020B89D8BE80>, long_short_z_diff=0.5143061455778761, long_short_naive_z_diff=0.5143061455778761, is_forward_replay=True),\n",
       " 205: LongShortStatsTuple(long_stats_z_scorer=<pyphoplacecellanalysis.General.Pipeline.Stages.ComputationFunctions.MultiContextComputationFunctions.RankOrderComputations.Zscorer object at 0x0000020B89D92070>, short_stats_z_scorer=<pyphoplacecellanalysis.General.Pipeline.Stages.ComputationFunctions.MultiContextComputationFunctions.RankOrderComputations.Zscorer object at 0x0000020B89D921C0>, long_short_z_diff=0.7868183974666967, long_short_naive_z_diff=0.7868183974666967, is_forward_replay=True),\n",
       " 206: LongShortStatsTuple(long_stats_z_scorer=<pyphoplacecellanalysis.General.Pipeline.Stages.ComputationFunctions.MultiContextComputationFunctions.RankOrderComputations.Zscorer object at 0x0000020B89D92370>, short_stats_z_scorer=<pyphoplacecellanalysis.General.Pipeline.Stages.ComputationFunctions.MultiContextComputationFunctions.RankOrderComputations.Zscorer object at 0x0000020B89D924C0>, long_short_z_diff=0.30310588608988165, long_short_naive_z_diff=-0.30310588608988165, is_forward_replay=False),\n",
       " 207: LongShortStatsTuple(long_stats_z_scorer=<pyphoplacecellanalysis.General.Pipeline.Stages.ComputationFunctions.MultiContextComputationFunctions.RankOrderComputations.Zscorer object at 0x0000020B89D92670>, short_stats_z_scorer=<pyphoplacecellanalysis.General.Pipeline.Stages.ComputationFunctions.MultiContextComputationFunctions.RankOrderComputations.Zscorer object at 0x0000020B89D927C0>, long_short_z_diff=-0.5191879951138749, long_short_naive_z_diff=-0.5191879951138749, is_forward_replay=True),\n",
       " 208: LongShortStatsTuple(long_stats_z_scorer=<pyphoplacecellanalysis.General.Pipeline.Stages.ComputationFunctions.MultiContextComputationFunctions.RankOrderComputations.Zscorer object at 0x0000020B89D92970>, short_stats_z_scorer=<pyphoplacecellanalysis.General.Pipeline.Stages.ComputationFunctions.MultiContextComputationFunctions.RankOrderComputations.Zscorer object at 0x0000020B89D92AC0>, long_short_z_diff=-0.043867283789220446, long_short_naive_z_diff=0.043867283789220446, is_forward_replay=False),\n",
       " 209: LongShortStatsTuple(long_stats_z_scorer=<pyphoplacecellanalysis.General.Pipeline.Stages.ComputationFunctions.MultiContextComputationFunctions.RankOrderComputations.Zscorer object at 0x0000020B89D92C70>, short_stats_z_scorer=<pyphoplacecellanalysis.General.Pipeline.Stages.ComputationFunctions.MultiContextComputationFunctions.RankOrderComputations.Zscorer object at 0x0000020B89D92DC0>, long_short_z_diff=0.6186453367074278, long_short_naive_z_diff=-0.6186453367074278, is_forward_replay=False),\n",
       " 210: LongShortStatsTuple(long_stats_z_scorer=<pyphoplacecellanalysis.General.Pipeline.Stages.ComputationFunctions.MultiContextComputationFunctions.RankOrderComputations.Zscorer object at 0x0000020B89D92F70>, short_stats_z_scorer=<pyphoplacecellanalysis.General.Pipeline.Stages.ComputationFunctions.MultiContextComputationFunctions.RankOrderComputations.Zscorer object at 0x0000020B89D95100>, long_short_z_diff=0.7091872852402553, long_short_naive_z_diff=0.8557981122114627, is_forward_replay=True),\n",
       " 211: LongShortStatsTuple(long_stats_z_scorer=<pyphoplacecellanalysis.General.Pipeline.Stages.ComputationFunctions.MultiContextComputationFunctions.RankOrderComputations.Zscorer object at 0x0000020B89D952B0>, short_stats_z_scorer=<pyphoplacecellanalysis.General.Pipeline.Stages.ComputationFunctions.MultiContextComputationFunctions.RankOrderComputations.Zscorer object at 0x0000020B89D95400>, long_short_z_diff=1.0045265597040804, long_short_naive_z_diff=-1.0045265597040804, is_forward_replay=False),\n",
       " 212: LongShortStatsTuple(long_stats_z_scorer=<pyphoplacecellanalysis.General.Pipeline.Stages.ComputationFunctions.MultiContextComputationFunctions.RankOrderComputations.Zscorer object at 0x0000020B89D955B0>, short_stats_z_scorer=<pyphoplacecellanalysis.General.Pipeline.Stages.ComputationFunctions.MultiContextComputationFunctions.RankOrderComputations.Zscorer object at 0x0000020B89D95700>, long_short_z_diff=0.1669454159083904, long_short_naive_z_diff=-0.31745140376577474, is_forward_replay=False),\n",
       " 213: LongShortStatsTuple(long_stats_z_scorer=<pyphoplacecellanalysis.General.Pipeline.Stages.ComputationFunctions.MultiContextComputationFunctions.RankOrderComputations.Zscorer object at 0x0000020B89D958B0>, short_stats_z_scorer=<pyphoplacecellanalysis.General.Pipeline.Stages.ComputationFunctions.MultiContextComputationFunctions.RankOrderComputations.Zscorer object at 0x0000020B89D95A00>, long_short_z_diff=0.24794546928194472, long_short_naive_z_diff=0.24794546928194472, is_forward_replay=True),\n",
       " 214: LongShortStatsTuple(long_stats_z_scorer=<pyphoplacecellanalysis.General.Pipeline.Stages.ComputationFunctions.MultiContextComputationFunctions.RankOrderComputations.Zscorer object at 0x0000020B89D95BB0>, short_stats_z_scorer=<pyphoplacecellanalysis.General.Pipeline.Stages.ComputationFunctions.MultiContextComputationFunctions.RankOrderComputations.Zscorer object at 0x0000020B89D95D00>, long_short_z_diff=-0.7051629540307843, long_short_naive_z_diff=-0.7787638138778522, is_forward_replay=True),\n",
       " 215: LongShortStatsTuple(long_stats_z_scorer=<pyphoplacecellanalysis.General.Pipeline.Stages.ComputationFunctions.MultiContextComputationFunctions.RankOrderComputations.Zscorer object at 0x0000020B89D95EB0>, short_stats_z_scorer=<pyphoplacecellanalysis.General.Pipeline.Stages.ComputationFunctions.MultiContextComputationFunctions.RankOrderComputations.Zscorer object at 0x0000020B89D9B040>, long_short_z_diff=0.41996091039052874, long_short_naive_z_diff=0.41996091039052874, is_forward_replay=True),\n",
       " 216: LongShortStatsTuple(long_stats_z_scorer=<pyphoplacecellanalysis.General.Pipeline.Stages.ComputationFunctions.MultiContextComputationFunctions.RankOrderComputations.Zscorer object at 0x0000020B89D9B1F0>, short_stats_z_scorer=<pyphoplacecellanalysis.General.Pipeline.Stages.ComputationFunctions.MultiContextComputationFunctions.RankOrderComputations.Zscorer object at 0x0000020B89D9B340>, long_short_z_diff=-0.5268757144851747, long_short_naive_z_diff=0.5268757144851747, is_forward_replay=False),\n",
       " 217: LongShortStatsTuple(long_stats_z_scorer=<pyphoplacecellanalysis.General.Pipeline.Stages.ComputationFunctions.MultiContextComputationFunctions.RankOrderComputations.Zscorer object at 0x0000020B89D9B4F0>, short_stats_z_scorer=<pyphoplacecellanalysis.General.Pipeline.Stages.ComputationFunctions.MultiContextComputationFunctions.RankOrderComputations.Zscorer object at 0x0000020B89D9B640>, long_short_z_diff=-0.24414530928145695, long_short_naive_z_diff=0.24414530928145695, is_forward_replay=False),\n",
       " 218: LongShortStatsTuple(long_stats_z_scorer=<pyphoplacecellanalysis.General.Pipeline.Stages.ComputationFunctions.MultiContextComputationFunctions.RankOrderComputations.Zscorer object at 0x0000020B89D9B7F0>, short_stats_z_scorer=<pyphoplacecellanalysis.General.Pipeline.Stages.ComputationFunctions.MultiContextComputationFunctions.RankOrderComputations.Zscorer object at 0x0000020B89D9B940>, long_short_z_diff=0.12494048513253703, long_short_naive_z_diff=0.12494048513253703, is_forward_replay=True),\n",
       " 219: LongShortStatsTuple(long_stats_z_scorer=<pyphoplacecellanalysis.General.Pipeline.Stages.ComputationFunctions.MultiContextComputationFunctions.RankOrderComputations.Zscorer object at 0x0000020B89D9BAF0>, short_stats_z_scorer=<pyphoplacecellanalysis.General.Pipeline.Stages.ComputationFunctions.MultiContextComputationFunctions.RankOrderComputations.Zscorer object at 0x0000020B89D9BC40>, long_short_z_diff=-0.03077387748714666, long_short_naive_z_diff=-0.03077387748714666, is_forward_replay=True),\n",
       " 220: LongShortStatsTuple(long_stats_z_scorer=<pyphoplacecellanalysis.General.Pipeline.Stages.ComputationFunctions.MultiContextComputationFunctions.RankOrderComputations.Zscorer object at 0x0000020B89D9BDF0>, short_stats_z_scorer=<pyphoplacecellanalysis.General.Pipeline.Stages.ComputationFunctions.MultiContextComputationFunctions.RankOrderComputations.Zscorer object at 0x0000020B89D9BF40>, long_short_z_diff=1.0459148042862068, long_short_naive_z_diff=1.0459148042862068, is_forward_replay=True),\n",
       " 221: LongShortStatsTuple(long_stats_z_scorer=<pyphoplacecellanalysis.General.Pipeline.Stages.ComputationFunctions.MultiContextComputationFunctions.RankOrderComputations.Zscorer object at 0x0000020B89DA0130>, short_stats_z_scorer=<pyphoplacecellanalysis.General.Pipeline.Stages.ComputationFunctions.MultiContextComputationFunctions.RankOrderComputations.Zscorer object at 0x0000020B89DA0280>, long_short_z_diff=0.4618608101647874, long_short_naive_z_diff=-0.4618608101647874, is_forward_replay=False),\n",
       " 222: LongShortStatsTuple(long_stats_z_scorer=<pyphoplacecellanalysis.General.Pipeline.Stages.ComputationFunctions.MultiContextComputationFunctions.RankOrderComputations.Zscorer object at 0x0000020B89DA0430>, short_stats_z_scorer=<pyphoplacecellanalysis.General.Pipeline.Stages.ComputationFunctions.MultiContextComputationFunctions.RankOrderComputations.Zscorer object at 0x0000020B89DA0580>, long_short_z_diff=-0.7385507707406793, long_short_naive_z_diff=0.7385507707406793, is_forward_replay=False),\n",
       " 223: LongShortStatsTuple(long_stats_z_scorer=<pyphoplacecellanalysis.General.Pipeline.Stages.ComputationFunctions.MultiContextComputationFunctions.RankOrderComputations.Zscorer object at 0x0000020B89DA0730>, short_stats_z_scorer=<pyphoplacecellanalysis.General.Pipeline.Stages.ComputationFunctions.MultiContextComputationFunctions.RankOrderComputations.Zscorer object at 0x0000020B89DA0880>, long_short_z_diff=-0.4367638527437805, long_short_naive_z_diff=0.4367638527437805, is_forward_replay=False),\n",
       " 224: LongShortStatsTuple(long_stats_z_scorer=<pyphoplacecellanalysis.General.Pipeline.Stages.ComputationFunctions.MultiContextComputationFunctions.RankOrderComputations.Zscorer object at 0x0000020B89DA0A30>, short_stats_z_scorer=<pyphoplacecellanalysis.General.Pipeline.Stages.ComputationFunctions.MultiContextComputationFunctions.RankOrderComputations.Zscorer object at 0x0000020B89DA0B80>, long_short_z_diff=-0.3552596632250493, long_short_naive_z_diff=0.3552596632250493, is_forward_replay=False),\n",
       " 225: LongShortStatsTuple(long_stats_z_scorer=<pyphoplacecellanalysis.General.Pipeline.Stages.ComputationFunctions.MultiContextComputationFunctions.RankOrderComputations.Zscorer object at 0x0000020B89DA0D30>, short_stats_z_scorer=<pyphoplacecellanalysis.General.Pipeline.Stages.ComputationFunctions.MultiContextComputationFunctions.RankOrderComputations.Zscorer object at 0x0000020B89DA0E80>, long_short_z_diff=-1.4236359200923268, long_short_naive_z_diff=1.7177370973632637, is_forward_replay=False),\n",
       " 226: LongShortStatsTuple(long_stats_z_scorer=<pyphoplacecellanalysis.General.Pipeline.Stages.ComputationFunctions.MultiContextComputationFunctions.RankOrderComputations.Zscorer object at 0x0000020B89DA5070>, short_stats_z_scorer=<pyphoplacecellanalysis.General.Pipeline.Stages.ComputationFunctions.MultiContextComputationFunctions.RankOrderComputations.Zscorer object at 0x0000020B89DA51C0>, long_short_z_diff=0.21017400420460347, long_short_naive_z_diff=-1.0399654164137933, is_forward_replay=False),\n",
       " 227: LongShortStatsTuple(long_stats_z_scorer=<pyphoplacecellanalysis.General.Pipeline.Stages.ComputationFunctions.MultiContextComputationFunctions.RankOrderComputations.Zscorer object at 0x0000020B89DA5370>, short_stats_z_scorer=<pyphoplacecellanalysis.General.Pipeline.Stages.ComputationFunctions.MultiContextComputationFunctions.RankOrderComputations.Zscorer object at 0x0000020B89DA54C0>, long_short_z_diff=-0.0024975473102856194, long_short_naive_z_diff=0.0024975473102856194, is_forward_replay=False),\n",
       " 228: LongShortStatsTuple(long_stats_z_scorer=<pyphoplacecellanalysis.General.Pipeline.Stages.ComputationFunctions.MultiContextComputationFunctions.RankOrderComputations.Zscorer object at 0x0000020B89DA5670>, short_stats_z_scorer=<pyphoplacecellanalysis.General.Pipeline.Stages.ComputationFunctions.MultiContextComputationFunctions.RankOrderComputations.Zscorer object at 0x0000020B89DA57C0>, long_short_z_diff=-0.9889388604647213, long_short_naive_z_diff=-0.9889388604647213, is_forward_replay=True),\n",
       " 229: LongShortStatsTuple(long_stats_z_scorer=<pyphoplacecellanalysis.General.Pipeline.Stages.ComputationFunctions.MultiContextComputationFunctions.RankOrderComputations.Zscorer object at 0x0000020B89DA5970>, short_stats_z_scorer=<pyphoplacecellanalysis.General.Pipeline.Stages.ComputationFunctions.MultiContextComputationFunctions.RankOrderComputations.Zscorer object at 0x0000020B89DA5AC0>, long_short_z_diff=-0.472235686182616, long_short_naive_z_diff=0.472235686182616, is_forward_replay=False),\n",
       " 230: LongShortStatsTuple(long_stats_z_scorer=<pyphoplacecellanalysis.General.Pipeline.Stages.ComputationFunctions.MultiContextComputationFunctions.RankOrderComputations.Zscorer object at 0x0000020B89DA5C70>, short_stats_z_scorer=<pyphoplacecellanalysis.General.Pipeline.Stages.ComputationFunctions.MultiContextComputationFunctions.RankOrderComputations.Zscorer object at 0x0000020B89DA5DC0>, long_short_z_diff=-0.12208622387787704, long_short_naive_z_diff=-0.12208622387787704, is_forward_replay=True),\n",
       " 231: LongShortStatsTuple(long_stats_z_scorer=<pyphoplacecellanalysis.General.Pipeline.Stages.ComputationFunctions.MultiContextComputationFunctions.RankOrderComputations.Zscorer object at 0x0000020B89DA5F70>, short_stats_z_scorer=<pyphoplacecellanalysis.General.Pipeline.Stages.ComputationFunctions.MultiContextComputationFunctions.RankOrderComputations.Zscorer object at 0x0000020B89DAA100>, long_short_z_diff=0.7386895506505242, long_short_naive_z_diff=-0.7386895506505242, is_forward_replay=False),\n",
       " 232: LongShortStatsTuple(long_stats_z_scorer=<pyphoplacecellanalysis.General.Pipeline.Stages.ComputationFunctions.MultiContextComputationFunctions.RankOrderComputations.Zscorer object at 0x0000020B89DAA2B0>, short_stats_z_scorer=<pyphoplacecellanalysis.General.Pipeline.Stages.ComputationFunctions.MultiContextComputationFunctions.RankOrderComputations.Zscorer object at 0x0000020B89DAA400>, long_short_z_diff=0.23823097551121775, long_short_naive_z_diff=0.23823097551121775, is_forward_replay=True),\n",
       " 233: LongShortStatsTuple(long_stats_z_scorer=<pyphoplacecellanalysis.General.Pipeline.Stages.ComputationFunctions.MultiContextComputationFunctions.RankOrderComputations.Zscorer object at 0x0000020B89DAA5B0>, short_stats_z_scorer=<pyphoplacecellanalysis.General.Pipeline.Stages.ComputationFunctions.MultiContextComputationFunctions.RankOrderComputations.Zscorer object at 0x0000020B89DAA700>, long_short_z_diff=-0.38928394979789305, long_short_naive_z_diff=-0.38928394979789305, is_forward_replay=True),\n",
       " 234: LongShortStatsTuple(long_stats_z_scorer=<pyphoplacecellanalysis.General.Pipeline.Stages.ComputationFunctions.MultiContextComputationFunctions.RankOrderComputations.Zscorer object at 0x0000020B89DAA8B0>, short_stats_z_scorer=<pyphoplacecellanalysis.General.Pipeline.Stages.ComputationFunctions.MultiContextComputationFunctions.RankOrderComputations.Zscorer object at 0x0000020B89DAAA00>, long_short_z_diff=1.045223671596538, long_short_naive_z_diff=-2.39924533028199, is_forward_replay=False),\n",
       " 235: LongShortStatsTuple(long_stats_z_scorer=<pyphoplacecellanalysis.General.Pipeline.Stages.ComputationFunctions.MultiContextComputationFunctions.RankOrderComputations.Zscorer object at 0x0000020B89DAABB0>, short_stats_z_scorer=<pyphoplacecellanalysis.General.Pipeline.Stages.ComputationFunctions.MultiContextComputationFunctions.RankOrderComputations.Zscorer object at 0x0000020B89DAAD00>, long_short_z_diff=1.2048337508644904, long_short_naive_z_diff=-1.2048337508644904, is_forward_replay=False),\n",
       " 236: LongShortStatsTuple(long_stats_z_scorer=<pyphoplacecellanalysis.General.Pipeline.Stages.ComputationFunctions.MultiContextComputationFunctions.RankOrderComputations.Zscorer object at 0x0000020B89DAAEB0>, short_stats_z_scorer=<pyphoplacecellanalysis.General.Pipeline.Stages.ComputationFunctions.MultiContextComputationFunctions.RankOrderComputations.Zscorer object at 0x0000020B89DB0040>, long_short_z_diff=0.3893902422522395, long_short_naive_z_diff=-0.3893902422522395, is_forward_replay=False),\n",
       " 237: LongShortStatsTuple(long_stats_z_scorer=<pyphoplacecellanalysis.General.Pipeline.Stages.ComputationFunctions.MultiContextComputationFunctions.RankOrderComputations.Zscorer object at 0x0000020B89DB01F0>, short_stats_z_scorer=<pyphoplacecellanalysis.General.Pipeline.Stages.ComputationFunctions.MultiContextComputationFunctions.RankOrderComputations.Zscorer object at 0x0000020B89DB0340>, long_short_z_diff=0.13549167866267423, long_short_naive_z_diff=0.13549167866267423, is_forward_replay=True),\n",
       " 238: LongShortStatsTuple(long_stats_z_scorer=<pyphoplacecellanalysis.General.Pipeline.Stages.ComputationFunctions.MultiContextComputationFunctions.RankOrderComputations.Zscorer object at 0x0000020B89DB04F0>, short_stats_z_scorer=<pyphoplacecellanalysis.General.Pipeline.Stages.ComputationFunctions.MultiContextComputationFunctions.RankOrderComputations.Zscorer object at 0x0000020B89DB0640>, long_short_z_diff=-1.3955049184651558, long_short_naive_z_diff=-1.3955049184651558, is_forward_replay=True),\n",
       " 239: LongShortStatsTuple(long_stats_z_scorer=<pyphoplacecellanalysis.General.Pipeline.Stages.ComputationFunctions.MultiContextComputationFunctions.RankOrderComputations.Zscorer object at 0x0000020B89DB07F0>, short_stats_z_scorer=<pyphoplacecellanalysis.General.Pipeline.Stages.ComputationFunctions.MultiContextComputationFunctions.RankOrderComputations.Zscorer object at 0x0000020B89DB0940>, long_short_z_diff=-0.381425717591388, long_short_naive_z_diff=-1.8698088053675985, is_forward_replay=True),\n",
       " 240: LongShortStatsTuple(long_stats_z_scorer=<pyphoplacecellanalysis.General.Pipeline.Stages.ComputationFunctions.MultiContextComputationFunctions.RankOrderComputations.Zscorer object at 0x0000020B89DB0AF0>, short_stats_z_scorer=<pyphoplacecellanalysis.General.Pipeline.Stages.ComputationFunctions.MultiContextComputationFunctions.RankOrderComputations.Zscorer object at 0x0000020B89DB0C40>, long_short_z_diff=0.42892715266363046, long_short_naive_z_diff=0.42892715266363046, is_forward_replay=True),\n",
       " 241: LongShortStatsTuple(long_stats_z_scorer=<pyphoplacecellanalysis.General.Pipeline.Stages.ComputationFunctions.MultiContextComputationFunctions.RankOrderComputations.Zscorer object at 0x0000020B89DB0DF0>, short_stats_z_scorer=<pyphoplacecellanalysis.General.Pipeline.Stages.ComputationFunctions.MultiContextComputationFunctions.RankOrderComputations.Zscorer object at 0x0000020B89DB0F40>, long_short_z_diff=0.6665965231498316, long_short_naive_z_diff=0.6665965231498316, is_forward_replay=True),\n",
       " 242: LongShortStatsTuple(long_stats_z_scorer=<pyphoplacecellanalysis.General.Pipeline.Stages.ComputationFunctions.MultiContextComputationFunctions.RankOrderComputations.Zscorer object at 0x0000020B89DB4130>, short_stats_z_scorer=<pyphoplacecellanalysis.General.Pipeline.Stages.ComputationFunctions.MultiContextComputationFunctions.RankOrderComputations.Zscorer object at 0x0000020B89DB4280>, long_short_z_diff=0.4262106947529032, long_short_naive_z_diff=0.4262106947529032, is_forward_replay=True),\n",
       " 243: LongShortStatsTuple(long_stats_z_scorer=<pyphoplacecellanalysis.General.Pipeline.Stages.ComputationFunctions.MultiContextComputationFunctions.RankOrderComputations.Zscorer object at 0x0000020B89DB4430>, short_stats_z_scorer=<pyphoplacecellanalysis.General.Pipeline.Stages.ComputationFunctions.MultiContextComputationFunctions.RankOrderComputations.Zscorer object at 0x0000020B89DB4580>, long_short_z_diff=0.45579244425616916, long_short_naive_z_diff=0.45579244425616916, is_forward_replay=True),\n",
       " 244: LongShortStatsTuple(long_stats_z_scorer=<pyphoplacecellanalysis.General.Pipeline.Stages.ComputationFunctions.MultiContextComputationFunctions.RankOrderComputations.Zscorer object at 0x0000020B89DB4730>, short_stats_z_scorer=<pyphoplacecellanalysis.General.Pipeline.Stages.ComputationFunctions.MultiContextComputationFunctions.RankOrderComputations.Zscorer object at 0x0000020B89DB4880>, long_short_z_diff=0.1871128198628509, long_short_naive_z_diff=0.1871128198628509, is_forward_replay=True),\n",
       " 245: LongShortStatsTuple(long_stats_z_scorer=<pyphoplacecellanalysis.General.Pipeline.Stages.ComputationFunctions.MultiContextComputationFunctions.RankOrderComputations.Zscorer object at 0x0000020B89DB4A30>, short_stats_z_scorer=<pyphoplacecellanalysis.General.Pipeline.Stages.ComputationFunctions.MultiContextComputationFunctions.RankOrderComputations.Zscorer object at 0x0000020B89DB4B80>, long_short_z_diff=0.7601431210678491, long_short_naive_z_diff=0.7601431210678491, is_forward_replay=True),\n",
       " 246: LongShortStatsTuple(long_stats_z_scorer=<pyphoplacecellanalysis.General.Pipeline.Stages.ComputationFunctions.MultiContextComputationFunctions.RankOrderComputations.Zscorer object at 0x0000020B89DB4D30>, short_stats_z_scorer=<pyphoplacecellanalysis.General.Pipeline.Stages.ComputationFunctions.MultiContextComputationFunctions.RankOrderComputations.Zscorer object at 0x0000020B89DB4E80>, long_short_z_diff=0.43321359959617356, long_short_naive_z_diff=0.485266595486898, is_forward_replay=True),\n",
       " 247: LongShortStatsTuple(long_stats_z_scorer=<pyphoplacecellanalysis.General.Pipeline.Stages.ComputationFunctions.MultiContextComputationFunctions.RankOrderComputations.Zscorer object at 0x0000020B89DBA070>, short_stats_z_scorer=<pyphoplacecellanalysis.General.Pipeline.Stages.ComputationFunctions.MultiContextComputationFunctions.RankOrderComputations.Zscorer object at 0x0000020B89DBA1C0>, long_short_z_diff=0.07987663191134042, long_short_naive_z_diff=0.07987663191134042, is_forward_replay=True),\n",
       " 248: LongShortStatsTuple(long_stats_z_scorer=<pyphoplacecellanalysis.General.Pipeline.Stages.ComputationFunctions.MultiContextComputationFunctions.RankOrderComputations.Zscorer object at 0x0000020B89DBA370>, short_stats_z_scorer=<pyphoplacecellanalysis.General.Pipeline.Stages.ComputationFunctions.MultiContextComputationFunctions.RankOrderComputations.Zscorer object at 0x0000020B89DBA4C0>, long_short_z_diff=0.03953270177722379, long_short_naive_z_diff=0.03953270177722379, is_forward_replay=True),\n",
       " 249: LongShortStatsTuple(long_stats_z_scorer=<pyphoplacecellanalysis.General.Pipeline.Stages.ComputationFunctions.MultiContextComputationFunctions.RankOrderComputations.Zscorer object at 0x0000020B89DBA670>, short_stats_z_scorer=<pyphoplacecellanalysis.General.Pipeline.Stages.ComputationFunctions.MultiContextComputationFunctions.RankOrderComputations.Zscorer object at 0x0000020B89DBA7C0>, long_short_z_diff=-0.047083322932431115, long_short_naive_z_diff=0.047083322932431115, is_forward_replay=False),\n",
       " 250: LongShortStatsTuple(long_stats_z_scorer=<pyphoplacecellanalysis.General.Pipeline.Stages.ComputationFunctions.MultiContextComputationFunctions.RankOrderComputations.Zscorer object at 0x0000020B89DBA970>, short_stats_z_scorer=<pyphoplacecellanalysis.General.Pipeline.Stages.ComputationFunctions.MultiContextComputationFunctions.RankOrderComputations.Zscorer object at 0x0000020B89DBAAC0>, long_short_z_diff=0.16098951526775995, long_short_naive_z_diff=-1.151268666910164, is_forward_replay=False),\n",
       " 251: LongShortStatsTuple(long_stats_z_scorer=<pyphoplacecellanalysis.General.Pipeline.Stages.ComputationFunctions.MultiContextComputationFunctions.RankOrderComputations.Zscorer object at 0x0000020B89DBAC70>, short_stats_z_scorer=<pyphoplacecellanalysis.General.Pipeline.Stages.ComputationFunctions.MultiContextComputationFunctions.RankOrderComputations.Zscorer object at 0x0000020B89DBADC0>, long_short_z_diff=0.603031515841105, long_short_naive_z_diff=0.603031515841105, is_forward_replay=True),\n",
       " 252: LongShortStatsTuple(long_stats_z_scorer=<pyphoplacecellanalysis.General.Pipeline.Stages.ComputationFunctions.MultiContextComputationFunctions.RankOrderComputations.Zscorer object at 0x0000020B89DBAF70>, short_stats_z_scorer=<pyphoplacecellanalysis.General.Pipeline.Stages.ComputationFunctions.MultiContextComputationFunctions.RankOrderComputations.Zscorer object at 0x0000020B89DBF100>, long_short_z_diff=-0.08829782925843976, long_short_naive_z_diff=0.08829782925843976, is_forward_replay=False),\n",
       " 253: LongShortStatsTuple(long_stats_z_scorer=<pyphoplacecellanalysis.General.Pipeline.Stages.ComputationFunctions.MultiContextComputationFunctions.RankOrderComputations.Zscorer object at 0x0000020B89DBF2B0>, short_stats_z_scorer=<pyphoplacecellanalysis.General.Pipeline.Stages.ComputationFunctions.MultiContextComputationFunctions.RankOrderComputations.Zscorer object at 0x0000020B89DBF400>, long_short_z_diff=-0.1824398867482877, long_short_naive_z_diff=-0.1824398867482877, is_forward_replay=True),\n",
       " 254: LongShortStatsTuple(long_stats_z_scorer=<pyphoplacecellanalysis.General.Pipeline.Stages.ComputationFunctions.MultiContextComputationFunctions.RankOrderComputations.Zscorer object at 0x0000020B89DBF5B0>, short_stats_z_scorer=<pyphoplacecellanalysis.General.Pipeline.Stages.ComputationFunctions.MultiContextComputationFunctions.RankOrderComputations.Zscorer object at 0x0000020B89DBF700>, long_short_z_diff=0.4543450321751483, long_short_naive_z_diff=-0.4543450321751483, is_forward_replay=False),\n",
       " 255: LongShortStatsTuple(long_stats_z_scorer=<pyphoplacecellanalysis.General.Pipeline.Stages.ComputationFunctions.MultiContextComputationFunctions.RankOrderComputations.Zscorer object at 0x0000020B89DBF8B0>, short_stats_z_scorer=<pyphoplacecellanalysis.General.Pipeline.Stages.ComputationFunctions.MultiContextComputationFunctions.RankOrderComputations.Zscorer object at 0x0000020B89DBFA00>, long_short_z_diff=0.5209232966647885, long_short_naive_z_diff=-0.5209232966647885, is_forward_replay=False),\n",
       " 256: LongShortStatsTuple(long_stats_z_scorer=<pyphoplacecellanalysis.General.Pipeline.Stages.ComputationFunctions.MultiContextComputationFunctions.RankOrderComputations.Zscorer object at 0x0000020B89DBFBB0>, short_stats_z_scorer=<pyphoplacecellanalysis.General.Pipeline.Stages.ComputationFunctions.MultiContextComputationFunctions.RankOrderComputations.Zscorer object at 0x0000020B89DBFD00>, long_short_z_diff=-0.020052708134532693, long_short_naive_z_diff=0.8077301567951247, is_forward_replay=False),\n",
       " 257: LongShortStatsTuple(long_stats_z_scorer=<pyphoplacecellanalysis.General.Pipeline.Stages.ComputationFunctions.MultiContextComputationFunctions.RankOrderComputations.Zscorer object at 0x0000020B89DBFEB0>, short_stats_z_scorer=<pyphoplacecellanalysis.General.Pipeline.Stages.ComputationFunctions.MultiContextComputationFunctions.RankOrderComputations.Zscorer object at 0x0000020B89DC5040>, long_short_z_diff=0.5140493518478625, long_short_naive_z_diff=-0.5140493518478625, is_forward_replay=False),\n",
       " 258: LongShortStatsTuple(long_stats_z_scorer=<pyphoplacecellanalysis.General.Pipeline.Stages.ComputationFunctions.MultiContextComputationFunctions.RankOrderComputations.Zscorer object at 0x0000020B89DC51F0>, short_stats_z_scorer=<pyphoplacecellanalysis.General.Pipeline.Stages.ComputationFunctions.MultiContextComputationFunctions.RankOrderComputations.Zscorer object at 0x0000020B89DC5340>, long_short_z_diff=0.10972301266949569, long_short_naive_z_diff=0.10972301266949569, is_forward_replay=True),\n",
       " 259: LongShortStatsTuple(long_stats_z_scorer=<pyphoplacecellanalysis.General.Pipeline.Stages.ComputationFunctions.MultiContextComputationFunctions.RankOrderComputations.Zscorer object at 0x0000020B89DC54F0>, short_stats_z_scorer=<pyphoplacecellanalysis.General.Pipeline.Stages.ComputationFunctions.MultiContextComputationFunctions.RankOrderComputations.Zscorer object at 0x0000020B89DC5640>, long_short_z_diff=0.18750929271487005, long_short_naive_z_diff=0.18750929271487005, is_forward_replay=True),\n",
       " 260: LongShortStatsTuple(long_stats_z_scorer=<pyphoplacecellanalysis.General.Pipeline.Stages.ComputationFunctions.MultiContextComputationFunctions.RankOrderComputations.Zscorer object at 0x0000020B89DC57F0>, short_stats_z_scorer=<pyphoplacecellanalysis.General.Pipeline.Stages.ComputationFunctions.MultiContextComputationFunctions.RankOrderComputations.Zscorer object at 0x0000020B89DC5940>, long_short_z_diff=1.0196552024366945, long_short_naive_z_diff=1.0196552024366945, is_forward_replay=True),\n",
       " 261: LongShortStatsTuple(long_stats_z_scorer=<pyphoplacecellanalysis.General.Pipeline.Stages.ComputationFunctions.MultiContextComputationFunctions.RankOrderComputations.Zscorer object at 0x0000020B89DC5AF0>, short_stats_z_scorer=<pyphoplacecellanalysis.General.Pipeline.Stages.ComputationFunctions.MultiContextComputationFunctions.RankOrderComputations.Zscorer object at 0x0000020B89DC5C40>, long_short_z_diff=-0.6057540741673682, long_short_naive_z_diff=1.1549020235756422, is_forward_replay=False),\n",
       " 262: LongShortStatsTuple(long_stats_z_scorer=<pyphoplacecellanalysis.General.Pipeline.Stages.ComputationFunctions.MultiContextComputationFunctions.RankOrderComputations.Zscorer object at 0x0000020B89DC5DF0>, short_stats_z_scorer=<pyphoplacecellanalysis.General.Pipeline.Stages.ComputationFunctions.MultiContextComputationFunctions.RankOrderComputations.Zscorer object at 0x0000020B89DC5F40>, long_short_z_diff=0.43714673916611435, long_short_naive_z_diff=0.43714673916611435, is_forward_replay=True),\n",
       " 263: LongShortStatsTuple(long_stats_z_scorer=<pyphoplacecellanalysis.General.Pipeline.Stages.ComputationFunctions.MultiContextComputationFunctions.RankOrderComputations.Zscorer object at 0x0000020B89DC8130>, short_stats_z_scorer=<pyphoplacecellanalysis.General.Pipeline.Stages.ComputationFunctions.MultiContextComputationFunctions.RankOrderComputations.Zscorer object at 0x0000020B89DC8280>, long_short_z_diff=-0.21055582254831853, long_short_naive_z_diff=-0.21055582254831853, is_forward_replay=True),\n",
       " 264: LongShortStatsTuple(long_stats_z_scorer=<pyphoplacecellanalysis.General.Pipeline.Stages.ComputationFunctions.MultiContextComputationFunctions.RankOrderComputations.Zscorer object at 0x0000020B89DC8430>, short_stats_z_scorer=<pyphoplacecellanalysis.General.Pipeline.Stages.ComputationFunctions.MultiContextComputationFunctions.RankOrderComputations.Zscorer object at 0x0000020B89DC8580>, long_short_z_diff=-0.013275955145812035, long_short_naive_z_diff=-0.013275955145812035, is_forward_replay=True),\n",
       " 265: LongShortStatsTuple(long_stats_z_scorer=<pyphoplacecellanalysis.General.Pipeline.Stages.ComputationFunctions.MultiContextComputationFunctions.RankOrderComputations.Zscorer object at 0x0000020B89DC8730>, short_stats_z_scorer=<pyphoplacecellanalysis.General.Pipeline.Stages.ComputationFunctions.MultiContextComputationFunctions.RankOrderComputations.Zscorer object at 0x0000020B89DC8880>, long_short_z_diff=0.8676508729407268, long_short_naive_z_diff=-0.8676508729407268, is_forward_replay=False),\n",
       " 266: LongShortStatsTuple(long_stats_z_scorer=<pyphoplacecellanalysis.General.Pipeline.Stages.ComputationFunctions.MultiContextComputationFunctions.RankOrderComputations.Zscorer object at 0x0000020B89DC8A30>, short_stats_z_scorer=<pyphoplacecellanalysis.General.Pipeline.Stages.ComputationFunctions.MultiContextComputationFunctions.RankOrderComputations.Zscorer object at 0x0000020B89DC8B80>, long_short_z_diff=0.5714720970104148, long_short_naive_z_diff=0.5714720970104148, is_forward_replay=True),\n",
       " 267: LongShortStatsTuple(long_stats_z_scorer=<pyphoplacecellanalysis.General.Pipeline.Stages.ComputationFunctions.MultiContextComputationFunctions.RankOrderComputations.Zscorer object at 0x0000020B89DC8D30>, short_stats_z_scorer=<pyphoplacecellanalysis.General.Pipeline.Stages.ComputationFunctions.MultiContextComputationFunctions.RankOrderComputations.Zscorer object at 0x0000020B89DC8E80>, long_short_z_diff=0.1625701092857208, long_short_naive_z_diff=0.1625701092857208, is_forward_replay=True),\n",
       " 268: LongShortStatsTuple(long_stats_z_scorer=<pyphoplacecellanalysis.General.Pipeline.Stages.ComputationFunctions.MultiContextComputationFunctions.RankOrderComputations.Zscorer object at 0x0000020B89DCF070>, short_stats_z_scorer=<pyphoplacecellanalysis.General.Pipeline.Stages.ComputationFunctions.MultiContextComputationFunctions.RankOrderComputations.Zscorer object at 0x0000020B89DCF1C0>, long_short_z_diff=-0.741274828780704, long_short_naive_z_diff=-0.741274828780704, is_forward_replay=True),\n",
       " 269: LongShortStatsTuple(long_stats_z_scorer=<pyphoplacecellanalysis.General.Pipeline.Stages.ComputationFunctions.MultiContextComputationFunctions.RankOrderComputations.Zscorer object at 0x0000020B89DCF370>, short_stats_z_scorer=<pyphoplacecellanalysis.General.Pipeline.Stages.ComputationFunctions.MultiContextComputationFunctions.RankOrderComputations.Zscorer object at 0x0000020B89DCF4C0>, long_short_z_diff=-0.47949246209962215, long_short_naive_z_diff=0.47949246209962215, is_forward_replay=False),\n",
       " 270: LongShortStatsTuple(long_stats_z_scorer=<pyphoplacecellanalysis.General.Pipeline.Stages.ComputationFunctions.MultiContextComputationFunctions.RankOrderComputations.Zscorer object at 0x0000020B89DCF670>, short_stats_z_scorer=<pyphoplacecellanalysis.General.Pipeline.Stages.ComputationFunctions.MultiContextComputationFunctions.RankOrderComputations.Zscorer object at 0x0000020B89DCF7C0>, long_short_z_diff=0.5783880852811564, long_short_naive_z_diff=0.5783880852811564, is_forward_replay=True),\n",
       " 271: LongShortStatsTuple(long_stats_z_scorer=<pyphoplacecellanalysis.General.Pipeline.Stages.ComputationFunctions.MultiContextComputationFunctions.RankOrderComputations.Zscorer object at 0x0000020B89DCF970>, short_stats_z_scorer=<pyphoplacecellanalysis.General.Pipeline.Stages.ComputationFunctions.MultiContextComputationFunctions.RankOrderComputations.Zscorer object at 0x0000020B89DCFAC0>, long_short_z_diff=-0.16947277549613468, long_short_naive_z_diff=0.16947277549613468, is_forward_replay=False),\n",
       " 272: LongShortStatsTuple(long_stats_z_scorer=<pyphoplacecellanalysis.General.Pipeline.Stages.ComputationFunctions.MultiContextComputationFunctions.RankOrderComputations.Zscorer object at 0x0000020B89DCFC70>, short_stats_z_scorer=<pyphoplacecellanalysis.General.Pipeline.Stages.ComputationFunctions.MultiContextComputationFunctions.RankOrderComputations.Zscorer object at 0x0000020B89DCFDC0>, long_short_z_diff=0.5296423852858858, long_short_naive_z_diff=0.5296423852858858, is_forward_replay=True),\n",
       " 273: LongShortStatsTuple(long_stats_z_scorer=<pyphoplacecellanalysis.General.Pipeline.Stages.ComputationFunctions.MultiContextComputationFunctions.RankOrderComputations.Zscorer object at 0x0000020B89DCFF70>, short_stats_z_scorer=<pyphoplacecellanalysis.General.Pipeline.Stages.ComputationFunctions.MultiContextComputationFunctions.RankOrderComputations.Zscorer object at 0x0000020B89DD4100>, long_short_z_diff=0.34412911528768036, long_short_naive_z_diff=-0.7648791133758261, is_forward_replay=False),\n",
       " 274: LongShortStatsTuple(long_stats_z_scorer=<pyphoplacecellanalysis.General.Pipeline.Stages.ComputationFunctions.MultiContextComputationFunctions.RankOrderComputations.Zscorer object at 0x0000020B89DD42B0>, short_stats_z_scorer=<pyphoplacecellanalysis.General.Pipeline.Stages.ComputationFunctions.MultiContextComputationFunctions.RankOrderComputations.Zscorer object at 0x0000020B89DD4400>, long_short_z_diff=-0.09867247928871503, long_short_naive_z_diff=0.09867247928871503, is_forward_replay=False),\n",
       " 275: LongShortStatsTuple(long_stats_z_scorer=<pyphoplacecellanalysis.General.Pipeline.Stages.ComputationFunctions.MultiContextComputationFunctions.RankOrderComputations.Zscorer object at 0x0000020B89DD45B0>, short_stats_z_scorer=<pyphoplacecellanalysis.General.Pipeline.Stages.ComputationFunctions.MultiContextComputationFunctions.RankOrderComputations.Zscorer object at 0x0000020B89DD4700>, long_short_z_diff=0.6008913193924774, long_short_naive_z_diff=-0.6008913193924774, is_forward_replay=False),\n",
       " 276: LongShortStatsTuple(long_stats_z_scorer=<pyphoplacecellanalysis.General.Pipeline.Stages.ComputationFunctions.MultiContextComputationFunctions.RankOrderComputations.Zscorer object at 0x0000020B89DD48B0>, short_stats_z_scorer=<pyphoplacecellanalysis.General.Pipeline.Stages.ComputationFunctions.MultiContextComputationFunctions.RankOrderComputations.Zscorer object at 0x0000020B89DD4A00>, long_short_z_diff=-0.014588170654701653, long_short_naive_z_diff=0.014588170654701653, is_forward_replay=False),\n",
       " 277: LongShortStatsTuple(long_stats_z_scorer=<pyphoplacecellanalysis.General.Pipeline.Stages.ComputationFunctions.MultiContextComputationFunctions.RankOrderComputations.Zscorer object at 0x0000020B89DD4BB0>, short_stats_z_scorer=<pyphoplacecellanalysis.General.Pipeline.Stages.ComputationFunctions.MultiContextComputationFunctions.RankOrderComputations.Zscorer object at 0x0000020B89DD4D00>, long_short_z_diff=0.4209137572766388, long_short_naive_z_diff=0.4209137572766388, is_forward_replay=True),\n",
       " 278: LongShortStatsTuple(long_stats_z_scorer=<pyphoplacecellanalysis.General.Pipeline.Stages.ComputationFunctions.MultiContextComputationFunctions.RankOrderComputations.Zscorer object at 0x0000020B89DD4EB0>, short_stats_z_scorer=<pyphoplacecellanalysis.General.Pipeline.Stages.ComputationFunctions.MultiContextComputationFunctions.RankOrderComputations.Zscorer object at 0x0000020B89DD8040>, long_short_z_diff=0.06935882104933722, long_short_naive_z_diff=0.06935882104933722, is_forward_replay=True),\n",
       " 279: LongShortStatsTuple(long_stats_z_scorer=<pyphoplacecellanalysis.General.Pipeline.Stages.ComputationFunctions.MultiContextComputationFunctions.RankOrderComputations.Zscorer object at 0x0000020B89DD81F0>, short_stats_z_scorer=<pyphoplacecellanalysis.General.Pipeline.Stages.ComputationFunctions.MultiContextComputationFunctions.RankOrderComputations.Zscorer object at 0x0000020B89DD8340>, long_short_z_diff=0.6456187016823399, long_short_naive_z_diff=-0.6456187016823399, is_forward_replay=False),\n",
       " 280: LongShortStatsTuple(long_stats_z_scorer=<pyphoplacecellanalysis.General.Pipeline.Stages.ComputationFunctions.MultiContextComputationFunctions.RankOrderComputations.Zscorer object at 0x0000020B89DD84F0>, short_stats_z_scorer=<pyphoplacecellanalysis.General.Pipeline.Stages.ComputationFunctions.MultiContextComputationFunctions.RankOrderComputations.Zscorer object at 0x0000020B89DD8640>, long_short_z_diff=0.7132035342509238, long_short_naive_z_diff=0.9619339309196047, is_forward_replay=True),\n",
       " 281: LongShortStatsTuple(long_stats_z_scorer=<pyphoplacecellanalysis.General.Pipeline.Stages.ComputationFunctions.MultiContextComputationFunctions.RankOrderComputations.Zscorer object at 0x0000020B89DD87F0>, short_stats_z_scorer=<pyphoplacecellanalysis.General.Pipeline.Stages.ComputationFunctions.MultiContextComputationFunctions.RankOrderComputations.Zscorer object at 0x0000020B89DD8940>, long_short_z_diff=0.7046262930793386, long_short_naive_z_diff=-0.7046262930793386, is_forward_replay=False),\n",
       " 282: LongShortStatsTuple(long_stats_z_scorer=<pyphoplacecellanalysis.General.Pipeline.Stages.ComputationFunctions.MultiContextComputationFunctions.RankOrderComputations.Zscorer object at 0x0000020B89DD8AF0>, short_stats_z_scorer=<pyphoplacecellanalysis.General.Pipeline.Stages.ComputationFunctions.MultiContextComputationFunctions.RankOrderComputations.Zscorer object at 0x0000020B89DD8C40>, long_short_z_diff=0.028142129150810824, long_short_naive_z_diff=-0.028142129150810824, is_forward_replay=False),\n",
       " 283: LongShortStatsTuple(long_stats_z_scorer=<pyphoplacecellanalysis.General.Pipeline.Stages.ComputationFunctions.MultiContextComputationFunctions.RankOrderComputations.Zscorer object at 0x0000020B89DD8DF0>, short_stats_z_scorer=<pyphoplacecellanalysis.General.Pipeline.Stages.ComputationFunctions.MultiContextComputationFunctions.RankOrderComputations.Zscorer object at 0x0000020B89DD8F40>, long_short_z_diff=0.05382150024393145, long_short_naive_z_diff=0.05382150024393145, is_forward_replay=True),\n",
       " 284: LongShortStatsTuple(long_stats_z_scorer=<pyphoplacecellanalysis.General.Pipeline.Stages.ComputationFunctions.MultiContextComputationFunctions.RankOrderComputations.Zscorer object at 0x0000020B89DDE130>, short_stats_z_scorer=<pyphoplacecellanalysis.General.Pipeline.Stages.ComputationFunctions.MultiContextComputationFunctions.RankOrderComputations.Zscorer object at 0x0000020B89DDE280>, long_short_z_diff=-0.6755960653625863, long_short_naive_z_diff=-0.6755960653625863, is_forward_replay=True),\n",
       " 285: LongShortStatsTuple(long_stats_z_scorer=<pyphoplacecellanalysis.General.Pipeline.Stages.ComputationFunctions.MultiContextComputationFunctions.RankOrderComputations.Zscorer object at 0x0000020B89DDE430>, short_stats_z_scorer=<pyphoplacecellanalysis.General.Pipeline.Stages.ComputationFunctions.MultiContextComputationFunctions.RankOrderComputations.Zscorer object at 0x0000020B89DDE580>, long_short_z_diff=0.5363598735697785, long_short_naive_z_diff=0.5363598735697785, is_forward_replay=True),\n",
       " 286: LongShortStatsTuple(long_stats_z_scorer=<pyphoplacecellanalysis.General.Pipeline.Stages.ComputationFunctions.MultiContextComputationFunctions.RankOrderComputations.Zscorer object at 0x0000020B89DDE730>, short_stats_z_scorer=<pyphoplacecellanalysis.General.Pipeline.Stages.ComputationFunctions.MultiContextComputationFunctions.RankOrderComputations.Zscorer object at 0x0000020B89DDE880>, long_short_z_diff=-0.29035292138956814, long_short_naive_z_diff=-0.29035292138956814, is_forward_replay=True),\n",
       " 287: LongShortStatsTuple(long_stats_z_scorer=<pyphoplacecellanalysis.General.Pipeline.Stages.ComputationFunctions.MultiContextComputationFunctions.RankOrderComputations.Zscorer object at 0x0000020B89DDEA30>, short_stats_z_scorer=<pyphoplacecellanalysis.General.Pipeline.Stages.ComputationFunctions.MultiContextComputationFunctions.RankOrderComputations.Zscorer object at 0x0000020B89DDEB80>, long_short_z_diff=-0.11890521556937728, long_short_naive_z_diff=0.11890521556937728, is_forward_replay=False),\n",
       " 288: LongShortStatsTuple(long_stats_z_scorer=<pyphoplacecellanalysis.General.Pipeline.Stages.ComputationFunctions.MultiContextComputationFunctions.RankOrderComputations.Zscorer object at 0x0000020B89DDED30>, short_stats_z_scorer=<pyphoplacecellanalysis.General.Pipeline.Stages.ComputationFunctions.MultiContextComputationFunctions.RankOrderComputations.Zscorer object at 0x0000020B89DDEE80>, long_short_z_diff=0.12630959421383503, long_short_naive_z_diff=0.12630959421383503, is_forward_replay=True),\n",
       " 289: LongShortStatsTuple(long_stats_z_scorer=<pyphoplacecellanalysis.General.Pipeline.Stages.ComputationFunctions.MultiContextComputationFunctions.RankOrderComputations.Zscorer object at 0x0000020B89DE4070>, short_stats_z_scorer=<pyphoplacecellanalysis.General.Pipeline.Stages.ComputationFunctions.MultiContextComputationFunctions.RankOrderComputations.Zscorer object at 0x0000020B89DE41C0>, long_short_z_diff=0.07870889686319377, long_short_naive_z_diff=-0.07870889686319377, is_forward_replay=False),\n",
       " 290: LongShortStatsTuple(long_stats_z_scorer=<pyphoplacecellanalysis.General.Pipeline.Stages.ComputationFunctions.MultiContextComputationFunctions.RankOrderComputations.Zscorer object at 0x0000020B89DE4370>, short_stats_z_scorer=<pyphoplacecellanalysis.General.Pipeline.Stages.ComputationFunctions.MultiContextComputationFunctions.RankOrderComputations.Zscorer object at 0x0000020B89DE44C0>, long_short_z_diff=0.37924709015929126, long_short_naive_z_diff=0.37924709015929126, is_forward_replay=True),\n",
       " 291: LongShortStatsTuple(long_stats_z_scorer=<pyphoplacecellanalysis.General.Pipeline.Stages.ComputationFunctions.MultiContextComputationFunctions.RankOrderComputations.Zscorer object at 0x0000020B89DE4670>, short_stats_z_scorer=<pyphoplacecellanalysis.General.Pipeline.Stages.ComputationFunctions.MultiContextComputationFunctions.RankOrderComputations.Zscorer object at 0x0000020B89DE47C0>, long_short_z_diff=-0.929865930843855, long_short_naive_z_diff=1.5750340627133028, is_forward_replay=False),\n",
       " 292: LongShortStatsTuple(long_stats_z_scorer=<pyphoplacecellanalysis.General.Pipeline.Stages.ComputationFunctions.MultiContextComputationFunctions.RankOrderComputations.Zscorer object at 0x0000020B89DE4970>, short_stats_z_scorer=<pyphoplacecellanalysis.General.Pipeline.Stages.ComputationFunctions.MultiContextComputationFunctions.RankOrderComputations.Zscorer object at 0x0000020B89DE4AC0>, long_short_z_diff=0.3521884506960289, long_short_naive_z_diff=0.3521884506960289, is_forward_replay=True),\n",
       " 293: LongShortStatsTuple(long_stats_z_scorer=<pyphoplacecellanalysis.General.Pipeline.Stages.ComputationFunctions.MultiContextComputationFunctions.RankOrderComputations.Zscorer object at 0x0000020B89DE4C70>, short_stats_z_scorer=<pyphoplacecellanalysis.General.Pipeline.Stages.ComputationFunctions.MultiContextComputationFunctions.RankOrderComputations.Zscorer object at 0x0000020B89DE4DC0>, long_short_z_diff=-0.4691937635687964, long_short_naive_z_diff=0.4691937635687964, is_forward_replay=False),\n",
       " 294: LongShortStatsTuple(long_stats_z_scorer=<pyphoplacecellanalysis.General.Pipeline.Stages.ComputationFunctions.MultiContextComputationFunctions.RankOrderComputations.Zscorer object at 0x0000020B89DE4F70>, short_stats_z_scorer=<pyphoplacecellanalysis.General.Pipeline.Stages.ComputationFunctions.MultiContextComputationFunctions.RankOrderComputations.Zscorer object at 0x0000020B89DE7100>, long_short_z_diff=-0.17982473420833678, long_short_naive_z_diff=0.17982473420833678, is_forward_replay=False),\n",
       " 295: LongShortStatsTuple(long_stats_z_scorer=<pyphoplacecellanalysis.General.Pipeline.Stages.ComputationFunctions.MultiContextComputationFunctions.RankOrderComputations.Zscorer object at 0x0000020B89DE72B0>, short_stats_z_scorer=<pyphoplacecellanalysis.General.Pipeline.Stages.ComputationFunctions.MultiContextComputationFunctions.RankOrderComputations.Zscorer object at 0x0000020B89DE7400>, long_short_z_diff=0.46939702118397797, long_short_naive_z_diff=-0.46939702118397797, is_forward_replay=False),\n",
       " 296: LongShortStatsTuple(long_stats_z_scorer=<pyphoplacecellanalysis.General.Pipeline.Stages.ComputationFunctions.MultiContextComputationFunctions.RankOrderComputations.Zscorer object at 0x0000020B89DE75B0>, short_stats_z_scorer=<pyphoplacecellanalysis.General.Pipeline.Stages.ComputationFunctions.MultiContextComputationFunctions.RankOrderComputations.Zscorer object at 0x0000020B89DE7700>, long_short_z_diff=0.5235350161720342, long_short_naive_z_diff=0.5235350161720342, is_forward_replay=True),\n",
       " 297: LongShortStatsTuple(long_stats_z_scorer=<pyphoplacecellanalysis.General.Pipeline.Stages.ComputationFunctions.MultiContextComputationFunctions.RankOrderComputations.Zscorer object at 0x0000020B89DE78B0>, short_stats_z_scorer=<pyphoplacecellanalysis.General.Pipeline.Stages.ComputationFunctions.MultiContextComputationFunctions.RankOrderComputations.Zscorer object at 0x0000020B89DE7A00>, long_short_z_diff=0.21067111656430348, long_short_naive_z_diff=-0.21067111656430348, is_forward_replay=False),\n",
       " 298: LongShortStatsTuple(long_stats_z_scorer=<pyphoplacecellanalysis.General.Pipeline.Stages.ComputationFunctions.MultiContextComputationFunctions.RankOrderComputations.Zscorer object at 0x0000020B89DE7BB0>, short_stats_z_scorer=<pyphoplacecellanalysis.General.Pipeline.Stages.ComputationFunctions.MultiContextComputationFunctions.RankOrderComputations.Zscorer object at 0x0000020B89DE7D00>, long_short_z_diff=0.6274230190508541, long_short_naive_z_diff=0.6274230190508541, is_forward_replay=True),\n",
       " 299: LongShortStatsTuple(long_stats_z_scorer=<pyphoplacecellanalysis.General.Pipeline.Stages.ComputationFunctions.MultiContextComputationFunctions.RankOrderComputations.Zscorer object at 0x0000020B89DE7EB0>, short_stats_z_scorer=<pyphoplacecellanalysis.General.Pipeline.Stages.ComputationFunctions.MultiContextComputationFunctions.RankOrderComputations.Zscorer object at 0x0000020B89DEF040>, long_short_z_diff=0.4672565293361879, long_short_naive_z_diff=-0.4672565293361879, is_forward_replay=False),\n",
       " 300: LongShortStatsTuple(long_stats_z_scorer=<pyphoplacecellanalysis.General.Pipeline.Stages.ComputationFunctions.MultiContextComputationFunctions.RankOrderComputations.Zscorer object at 0x0000020B89DEF1F0>, short_stats_z_scorer=<pyphoplacecellanalysis.General.Pipeline.Stages.ComputationFunctions.MultiContextComputationFunctions.RankOrderComputations.Zscorer object at 0x0000020B89DEF340>, long_short_z_diff=0.2585627668662278, long_short_naive_z_diff=0.2585627668662278, is_forward_replay=True),\n",
       " 301: LongShortStatsTuple(long_stats_z_scorer=<pyphoplacecellanalysis.General.Pipeline.Stages.ComputationFunctions.MultiContextComputationFunctions.RankOrderComputations.Zscorer object at 0x0000020B89DEF4F0>, short_stats_z_scorer=<pyphoplacecellanalysis.General.Pipeline.Stages.ComputationFunctions.MultiContextComputationFunctions.RankOrderComputations.Zscorer object at 0x0000020B89DEF640>, long_short_z_diff=-0.7292322798131239, long_short_naive_z_diff=0.7292322798131239, is_forward_replay=False),\n",
       " 302: LongShortStatsTuple(long_stats_z_scorer=<pyphoplacecellanalysis.General.Pipeline.Stages.ComputationFunctions.MultiContextComputationFunctions.RankOrderComputations.Zscorer object at 0x0000020B89DEF7F0>, short_stats_z_scorer=<pyphoplacecellanalysis.General.Pipeline.Stages.ComputationFunctions.MultiContextComputationFunctions.RankOrderComputations.Zscorer object at 0x0000020B89DEF940>, long_short_z_diff=0.38863471758187607, long_short_naive_z_diff=-0.38863471758187607, is_forward_replay=False),\n",
       " 303: LongShortStatsTuple(long_stats_z_scorer=<pyphoplacecellanalysis.General.Pipeline.Stages.ComputationFunctions.MultiContextComputationFunctions.RankOrderComputations.Zscorer object at 0x0000020B89DEFAF0>, short_stats_z_scorer=<pyphoplacecellanalysis.General.Pipeline.Stages.ComputationFunctions.MultiContextComputationFunctions.RankOrderComputations.Zscorer object at 0x0000020B89DEFC40>, long_short_z_diff=0.22550380544370696, long_short_naive_z_diff=0.22550380544370696, is_forward_replay=True),\n",
       " 304: LongShortStatsTuple(long_stats_z_scorer=<pyphoplacecellanalysis.General.Pipeline.Stages.ComputationFunctions.MultiContextComputationFunctions.RankOrderComputations.Zscorer object at 0x0000020B89DEFDF0>, short_stats_z_scorer=<pyphoplacecellanalysis.General.Pipeline.Stages.ComputationFunctions.MultiContextComputationFunctions.RankOrderComputations.Zscorer object at 0x0000020B89DEFF40>, long_short_z_diff=-0.665598028520315, long_short_naive_z_diff=-0.665598028520315, is_forward_replay=True),\n",
       " 305: LongShortStatsTuple(long_stats_z_scorer=<pyphoplacecellanalysis.General.Pipeline.Stages.ComputationFunctions.MultiContextComputationFunctions.RankOrderComputations.Zscorer object at 0x0000020B89DF2130>, short_stats_z_scorer=<pyphoplacecellanalysis.General.Pipeline.Stages.ComputationFunctions.MultiContextComputationFunctions.RankOrderComputations.Zscorer object at 0x0000020B89DF2280>, long_short_z_diff=0.15577539553492326, long_short_naive_z_diff=0.15577539553492326, is_forward_replay=True),\n",
       " 306: LongShortStatsTuple(long_stats_z_scorer=<pyphoplacecellanalysis.General.Pipeline.Stages.ComputationFunctions.MultiContextComputationFunctions.RankOrderComputations.Zscorer object at 0x0000020B89DF2430>, short_stats_z_scorer=<pyphoplacecellanalysis.General.Pipeline.Stages.ComputationFunctions.MultiContextComputationFunctions.RankOrderComputations.Zscorer object at 0x0000020B89DF2580>, long_short_z_diff=0.33449167554523296, long_short_naive_z_diff=-0.33449167554523296, is_forward_replay=False),\n",
       " 307: LongShortStatsTuple(long_stats_z_scorer=<pyphoplacecellanalysis.General.Pipeline.Stages.ComputationFunctions.MultiContextComputationFunctions.RankOrderComputations.Zscorer object at 0x0000020B89DF2730>, short_stats_z_scorer=<pyphoplacecellanalysis.General.Pipeline.Stages.ComputationFunctions.MultiContextComputationFunctions.RankOrderComputations.Zscorer object at 0x0000020B89DF2880>, long_short_z_diff=0.7287828006276834, long_short_naive_z_diff=-0.969841792433516, is_forward_replay=False),\n",
       " 308: LongShortStatsTuple(long_stats_z_scorer=<pyphoplacecellanalysis.General.Pipeline.Stages.ComputationFunctions.MultiContextComputationFunctions.RankOrderComputations.Zscorer object at 0x0000020B89DF2A30>, short_stats_z_scorer=<pyphoplacecellanalysis.General.Pipeline.Stages.ComputationFunctions.MultiContextComputationFunctions.RankOrderComputations.Zscorer object at 0x0000020B89DF2B80>, long_short_z_diff=-0.04568902656092845, long_short_naive_z_diff=0.04568902656092845, is_forward_replay=False),\n",
       " 309: LongShortStatsTuple(long_stats_z_scorer=<pyphoplacecellanalysis.General.Pipeline.Stages.ComputationFunctions.MultiContextComputationFunctions.RankOrderComputations.Zscorer object at 0x0000020B89DF2D30>, short_stats_z_scorer=<pyphoplacecellanalysis.General.Pipeline.Stages.ComputationFunctions.MultiContextComputationFunctions.RankOrderComputations.Zscorer object at 0x0000020B89DF2E80>, long_short_z_diff=0.012927245170322177, long_short_naive_z_diff=0.012927245170322177, is_forward_replay=True),\n",
       " 310: LongShortStatsTuple(long_stats_z_scorer=<pyphoplacecellanalysis.General.Pipeline.Stages.ComputationFunctions.MultiContextComputationFunctions.RankOrderComputations.Zscorer object at 0x0000020B89DF7070>, short_stats_z_scorer=<pyphoplacecellanalysis.General.Pipeline.Stages.ComputationFunctions.MultiContextComputationFunctions.RankOrderComputations.Zscorer object at 0x0000020B89DF71C0>, long_short_z_diff=-0.01857412980516726, long_short_naive_z_diff=-1.0273950763746407, is_forward_replay=True),\n",
       " 311: LongShortStatsTuple(long_stats_z_scorer=<pyphoplacecellanalysis.General.Pipeline.Stages.ComputationFunctions.MultiContextComputationFunctions.RankOrderComputations.Zscorer object at 0x0000020B89DF7370>, short_stats_z_scorer=<pyphoplacecellanalysis.General.Pipeline.Stages.ComputationFunctions.MultiContextComputationFunctions.RankOrderComputations.Zscorer object at 0x0000020B89DF74C0>, long_short_z_diff=0.9080561095005524, long_short_naive_z_diff=-0.9080561095005524, is_forward_replay=False),\n",
       " 312: LongShortStatsTuple(long_stats_z_scorer=<pyphoplacecellanalysis.General.Pipeline.Stages.ComputationFunctions.MultiContextComputationFunctions.RankOrderComputations.Zscorer object at 0x0000020B89DF7670>, short_stats_z_scorer=<pyphoplacecellanalysis.General.Pipeline.Stages.ComputationFunctions.MultiContextComputationFunctions.RankOrderComputations.Zscorer object at 0x0000020B89DF77C0>, long_short_z_diff=0.639072352679964, long_short_naive_z_diff=-0.639072352679964, is_forward_replay=False),\n",
       " 313: LongShortStatsTuple(long_stats_z_scorer=<pyphoplacecellanalysis.General.Pipeline.Stages.ComputationFunctions.MultiContextComputationFunctions.RankOrderComputations.Zscorer object at 0x0000020B89DF7970>, short_stats_z_scorer=<pyphoplacecellanalysis.General.Pipeline.Stages.ComputationFunctions.MultiContextComputationFunctions.RankOrderComputations.Zscorer object at 0x0000020B89DF7AC0>, long_short_z_diff=-0.5468623207805534, long_short_naive_z_diff=-0.8784918269305297, is_forward_replay=True),\n",
       " 314: LongShortStatsTuple(long_stats_z_scorer=<pyphoplacecellanalysis.General.Pipeline.Stages.ComputationFunctions.MultiContextComputationFunctions.RankOrderComputations.Zscorer object at 0x0000020B89DF7C70>, short_stats_z_scorer=<pyphoplacecellanalysis.General.Pipeline.Stages.ComputationFunctions.MultiContextComputationFunctions.RankOrderComputations.Zscorer object at 0x0000020B89DF7DC0>, long_short_z_diff=-0.4572340428754975, long_short_naive_z_diff=0.4572340428754975, is_forward_replay=False),\n",
       " 315: LongShortStatsTuple(long_stats_z_scorer=<pyphoplacecellanalysis.General.Pipeline.Stages.ComputationFunctions.MultiContextComputationFunctions.RankOrderComputations.Zscorer object at 0x0000020B89DF7F70>, short_stats_z_scorer=<pyphoplacecellanalysis.General.Pipeline.Stages.ComputationFunctions.MultiContextComputationFunctions.RankOrderComputations.Zscorer object at 0x0000020B89DFE100>, long_short_z_diff=-0.10523984621101956, long_short_naive_z_diff=0.10523984621101956, is_forward_replay=False),\n",
       " 316: LongShortStatsTuple(long_stats_z_scorer=<pyphoplacecellanalysis.General.Pipeline.Stages.ComputationFunctions.MultiContextComputationFunctions.RankOrderComputations.Zscorer object at 0x0000020B89DFE2B0>, short_stats_z_scorer=<pyphoplacecellanalysis.General.Pipeline.Stages.ComputationFunctions.MultiContextComputationFunctions.RankOrderComputations.Zscorer object at 0x0000020B89DFE400>, long_short_z_diff=-0.013278363869264398, long_short_naive_z_diff=0.013278363869264398, is_forward_replay=False),\n",
       " 317: LongShortStatsTuple(long_stats_z_scorer=<pyphoplacecellanalysis.General.Pipeline.Stages.ComputationFunctions.MultiContextComputationFunctions.RankOrderComputations.Zscorer object at 0x0000020B89DFE5B0>, short_stats_z_scorer=<pyphoplacecellanalysis.General.Pipeline.Stages.ComputationFunctions.MultiContextComputationFunctions.RankOrderComputations.Zscorer object at 0x0000020B89DFE700>, long_short_z_diff=0.03797522398733011, long_short_naive_z_diff=0.03797522398733011, is_forward_replay=True),\n",
       " 318: LongShortStatsTuple(long_stats_z_scorer=<pyphoplacecellanalysis.General.Pipeline.Stages.ComputationFunctions.MultiContextComputationFunctions.RankOrderComputations.Zscorer object at 0x0000020B89DFE8B0>, short_stats_z_scorer=<pyphoplacecellanalysis.General.Pipeline.Stages.ComputationFunctions.MultiContextComputationFunctions.RankOrderComputations.Zscorer object at 0x0000020B89DFEA00>, long_short_z_diff=0.5702401804141539, long_short_naive_z_diff=-0.5702401804141539, is_forward_replay=False),\n",
       " 319: LongShortStatsTuple(long_stats_z_scorer=<pyphoplacecellanalysis.General.Pipeline.Stages.ComputationFunctions.MultiContextComputationFunctions.RankOrderComputations.Zscorer object at 0x0000020B89DFEBB0>, short_stats_z_scorer=<pyphoplacecellanalysis.General.Pipeline.Stages.ComputationFunctions.MultiContextComputationFunctions.RankOrderComputations.Zscorer object at 0x0000020B89DFED00>, long_short_z_diff=1.281974667680097, long_short_naive_z_diff=1.281974667680097, is_forward_replay=True),\n",
       " 320: LongShortStatsTuple(long_stats_z_scorer=<pyphoplacecellanalysis.General.Pipeline.Stages.ComputationFunctions.MultiContextComputationFunctions.RankOrderComputations.Zscorer object at 0x0000020B89DFEEB0>, short_stats_z_scorer=<pyphoplacecellanalysis.General.Pipeline.Stages.ComputationFunctions.MultiContextComputationFunctions.RankOrderComputations.Zscorer object at 0x0000020B89E02040>, long_short_z_diff=-0.8133528466471591, long_short_naive_z_diff=-0.8133528466471591, is_forward_replay=True),\n",
       " 321: LongShortStatsTuple(long_stats_z_scorer=<pyphoplacecellanalysis.General.Pipeline.Stages.ComputationFunctions.MultiContextComputationFunctions.RankOrderComputations.Zscorer object at 0x0000020B89E021F0>, short_stats_z_scorer=<pyphoplacecellanalysis.General.Pipeline.Stages.ComputationFunctions.MultiContextComputationFunctions.RankOrderComputations.Zscorer object at 0x0000020B89E02340>, long_short_z_diff=-0.7438651959568456, long_short_naive_z_diff=0.7438651959568456, is_forward_replay=False),\n",
       " 322: LongShortStatsTuple(long_stats_z_scorer=<pyphoplacecellanalysis.General.Pipeline.Stages.ComputationFunctions.MultiContextComputationFunctions.RankOrderComputations.Zscorer object at 0x0000020B89E024F0>, short_stats_z_scorer=<pyphoplacecellanalysis.General.Pipeline.Stages.ComputationFunctions.MultiContextComputationFunctions.RankOrderComputations.Zscorer object at 0x0000020B89E02640>, long_short_z_diff=-0.5773039504995152, long_short_naive_z_diff=-0.5773039504995152, is_forward_replay=True),\n",
       " 323: LongShortStatsTuple(long_stats_z_scorer=<pyphoplacecellanalysis.General.Pipeline.Stages.ComputationFunctions.MultiContextComputationFunctions.RankOrderComputations.Zscorer object at 0x0000020B89E027F0>, short_stats_z_scorer=<pyphoplacecellanalysis.General.Pipeline.Stages.ComputationFunctions.MultiContextComputationFunctions.RankOrderComputations.Zscorer object at 0x0000020B89E02940>, long_short_z_diff=0.14120530727086522, long_short_naive_z_diff=0.14120530727086522, is_forward_replay=True),\n",
       " 324: LongShortStatsTuple(long_stats_z_scorer=<pyphoplacecellanalysis.General.Pipeline.Stages.ComputationFunctions.MultiContextComputationFunctions.RankOrderComputations.Zscorer object at 0x0000020B89E02AF0>, short_stats_z_scorer=<pyphoplacecellanalysis.General.Pipeline.Stages.ComputationFunctions.MultiContextComputationFunctions.RankOrderComputations.Zscorer object at 0x0000020B89E02C40>, long_short_z_diff=-0.7090499087851048, long_short_naive_z_diff=-0.7090499087851048, is_forward_replay=True),\n",
       " 325: LongShortStatsTuple(long_stats_z_scorer=<pyphoplacecellanalysis.General.Pipeline.Stages.ComputationFunctions.MultiContextComputationFunctions.RankOrderComputations.Zscorer object at 0x0000020B89E02DF0>, short_stats_z_scorer=<pyphoplacecellanalysis.General.Pipeline.Stages.ComputationFunctions.MultiContextComputationFunctions.RankOrderComputations.Zscorer object at 0x0000020B89E02F40>, long_short_z_diff=0.36011438008195107, long_short_naive_z_diff=0.36011438008195107, is_forward_replay=True),\n",
       " 326: LongShortStatsTuple(long_stats_z_scorer=<pyphoplacecellanalysis.General.Pipeline.Stages.ComputationFunctions.MultiContextComputationFunctions.RankOrderComputations.Zscorer object at 0x0000020B89E07130>, short_stats_z_scorer=<pyphoplacecellanalysis.General.Pipeline.Stages.ComputationFunctions.MultiContextComputationFunctions.RankOrderComputations.Zscorer object at 0x0000020B89E07280>, long_short_z_diff=-0.6732795068312774, long_short_naive_z_diff=-0.6732795068312774, is_forward_replay=True),\n",
       " 327: LongShortStatsTuple(long_stats_z_scorer=<pyphoplacecellanalysis.General.Pipeline.Stages.ComputationFunctions.MultiContextComputationFunctions.RankOrderComputations.Zscorer object at 0x0000020B89E07430>, short_stats_z_scorer=<pyphoplacecellanalysis.General.Pipeline.Stages.ComputationFunctions.MultiContextComputationFunctions.RankOrderComputations.Zscorer object at 0x0000020B89E07580>, long_short_z_diff=0.3981744774682827, long_short_naive_z_diff=-0.3981744774682827, is_forward_replay=False),\n",
       " 328: LongShortStatsTuple(long_stats_z_scorer=<pyphoplacecellanalysis.General.Pipeline.Stages.ComputationFunctions.MultiContextComputationFunctions.RankOrderComputations.Zscorer object at 0x0000020B89E07730>, short_stats_z_scorer=<pyphoplacecellanalysis.General.Pipeline.Stages.ComputationFunctions.MultiContextComputationFunctions.RankOrderComputations.Zscorer object at 0x0000020B89E07880>, long_short_z_diff=0.12155256698392325, long_short_naive_z_diff=-0.12155256698392325, is_forward_replay=False),\n",
       " 329: LongShortStatsTuple(long_stats_z_scorer=<pyphoplacecellanalysis.General.Pipeline.Stages.ComputationFunctions.MultiContextComputationFunctions.RankOrderComputations.Zscorer object at 0x0000020B89E07A30>, short_stats_z_scorer=<pyphoplacecellanalysis.General.Pipeline.Stages.ComputationFunctions.MultiContextComputationFunctions.RankOrderComputations.Zscorer object at 0x0000020B89E07B80>, long_short_z_diff=0.1615562521520466, long_short_naive_z_diff=-0.1615562521520466, is_forward_replay=False),\n",
       " 330: LongShortStatsTuple(long_stats_z_scorer=<pyphoplacecellanalysis.General.Pipeline.Stages.ComputationFunctions.MultiContextComputationFunctions.RankOrderComputations.Zscorer object at 0x0000020B89E07D30>, short_stats_z_scorer=<pyphoplacecellanalysis.General.Pipeline.Stages.ComputationFunctions.MultiContextComputationFunctions.RankOrderComputations.Zscorer object at 0x0000020B89E07E80>, long_short_z_diff=0.26554996783682305, long_short_naive_z_diff=-0.26554996783682305, is_forward_replay=False),\n",
       " 331: LongShortStatsTuple(long_stats_z_scorer=<pyphoplacecellanalysis.General.Pipeline.Stages.ComputationFunctions.MultiContextComputationFunctions.RankOrderComputations.Zscorer object at 0x0000020B89E0C070>, short_stats_z_scorer=<pyphoplacecellanalysis.General.Pipeline.Stages.ComputationFunctions.MultiContextComputationFunctions.RankOrderComputations.Zscorer object at 0x0000020B89E0C1C0>, long_short_z_diff=-0.2516374698168202, long_short_naive_z_diff=-0.2516374698168202, is_forward_replay=True),\n",
       " 332: LongShortStatsTuple(long_stats_z_scorer=<pyphoplacecellanalysis.General.Pipeline.Stages.ComputationFunctions.MultiContextComputationFunctions.RankOrderComputations.Zscorer object at 0x0000020B89E0C370>, short_stats_z_scorer=<pyphoplacecellanalysis.General.Pipeline.Stages.ComputationFunctions.MultiContextComputationFunctions.RankOrderComputations.Zscorer object at 0x0000020B89E0C4C0>, long_short_z_diff=-0.276358514962428, long_short_naive_z_diff=0.276358514962428, is_forward_replay=False),\n",
       " 333: LongShortStatsTuple(long_stats_z_scorer=<pyphoplacecellanalysis.General.Pipeline.Stages.ComputationFunctions.MultiContextComputationFunctions.RankOrderComputations.Zscorer object at 0x0000020B89E0C670>, short_stats_z_scorer=<pyphoplacecellanalysis.General.Pipeline.Stages.ComputationFunctions.MultiContextComputationFunctions.RankOrderComputations.Zscorer object at 0x0000020B89E0C7C0>, long_short_z_diff=0.36330186778636797, long_short_naive_z_diff=-0.36330186778636797, is_forward_replay=False),\n",
       " 334: LongShortStatsTuple(long_stats_z_scorer=<pyphoplacecellanalysis.General.Pipeline.Stages.ComputationFunctions.MultiContextComputationFunctions.RankOrderComputations.Zscorer object at 0x0000020B89E0C970>, short_stats_z_scorer=<pyphoplacecellanalysis.General.Pipeline.Stages.ComputationFunctions.MultiContextComputationFunctions.RankOrderComputations.Zscorer object at 0x0000020B89E0CAC0>, long_short_z_diff=0.9549298077940456, long_short_naive_z_diff=-0.9549298077940456, is_forward_replay=False),\n",
       " 335: LongShortStatsTuple(long_stats_z_scorer=<pyphoplacecellanalysis.General.Pipeline.Stages.ComputationFunctions.MultiContextComputationFunctions.RankOrderComputations.Zscorer object at 0x0000020B89E0CC70>, short_stats_z_scorer=<pyphoplacecellanalysis.General.Pipeline.Stages.ComputationFunctions.MultiContextComputationFunctions.RankOrderComputations.Zscorer object at 0x0000020B89E0CDC0>, long_short_z_diff=0.4127786714328747, long_short_naive_z_diff=-0.4127786714328747, is_forward_replay=False),\n",
       " 336: LongShortStatsTuple(long_stats_z_scorer=<pyphoplacecellanalysis.General.Pipeline.Stages.ComputationFunctions.MultiContextComputationFunctions.RankOrderComputations.Zscorer object at 0x0000020B89E0CF70>, short_stats_z_scorer=<pyphoplacecellanalysis.General.Pipeline.Stages.ComputationFunctions.MultiContextComputationFunctions.RankOrderComputations.Zscorer object at 0x0000020B89E12100>, long_short_z_diff=0.46811662574607293, long_short_naive_z_diff=0.46811662574607293, is_forward_replay=True),\n",
       " 337: LongShortStatsTuple(long_stats_z_scorer=<pyphoplacecellanalysis.General.Pipeline.Stages.ComputationFunctions.MultiContextComputationFunctions.RankOrderComputations.Zscorer object at 0x0000020B89E122B0>, short_stats_z_scorer=<pyphoplacecellanalysis.General.Pipeline.Stages.ComputationFunctions.MultiContextComputationFunctions.RankOrderComputations.Zscorer object at 0x0000020B89E12400>, long_short_z_diff=0.0, long_short_naive_z_diff=0.0, is_forward_replay=False),\n",
       " 338: LongShortStatsTuple(long_stats_z_scorer=<pyphoplacecellanalysis.General.Pipeline.Stages.ComputationFunctions.MultiContextComputationFunctions.RankOrderComputations.Zscorer object at 0x0000020B89E12580>, short_stats_z_scorer=<pyphoplacecellanalysis.General.Pipeline.Stages.ComputationFunctions.MultiContextComputationFunctions.RankOrderComputations.Zscorer object at 0x0000020B89E126D0>, long_short_z_diff=1.0032752449585522, long_short_naive_z_diff=-1.0032752449585522, is_forward_replay=False),\n",
       " 339: LongShortStatsTuple(long_stats_z_scorer=<pyphoplacecellanalysis.General.Pipeline.Stages.ComputationFunctions.MultiContextComputationFunctions.RankOrderComputations.Zscorer object at 0x0000020B89E12880>, short_stats_z_scorer=<pyphoplacecellanalysis.General.Pipeline.Stages.ComputationFunctions.MultiContextComputationFunctions.RankOrderComputations.Zscorer object at 0x0000020B89E129D0>, long_short_z_diff=-0.6012473463313465, long_short_naive_z_diff=-1.7487404999621945, is_forward_replay=True),\n",
       " 340: LongShortStatsTuple(long_stats_z_scorer=<pyphoplacecellanalysis.General.Pipeline.Stages.ComputationFunctions.MultiContextComputationFunctions.RankOrderComputations.Zscorer object at 0x0000020B89E12B80>, short_stats_z_scorer=<pyphoplacecellanalysis.General.Pipeline.Stages.ComputationFunctions.MultiContextComputationFunctions.RankOrderComputations.Zscorer object at 0x0000020B89E12CD0>, long_short_z_diff=0.8212188812649319, long_short_naive_z_diff=-0.8994250306554379, is_forward_replay=False),\n",
       " 341: LongShortStatsTuple(long_stats_z_scorer=<pyphoplacecellanalysis.General.Pipeline.Stages.ComputationFunctions.MultiContextComputationFunctions.RankOrderComputations.Zscorer object at 0x0000020B89E12E80>, short_stats_z_scorer=<pyphoplacecellanalysis.General.Pipeline.Stages.ComputationFunctions.MultiContextComputationFunctions.RankOrderComputations.Zscorer object at 0x0000020B89E12FD0>, long_short_z_diff=0.27339853591747687, long_short_naive_z_diff=0.27339853591747687, is_forward_replay=True),\n",
       " 342: LongShortStatsTuple(long_stats_z_scorer=<pyphoplacecellanalysis.General.Pipeline.Stages.ComputationFunctions.MultiContextComputationFunctions.RankOrderComputations.Zscorer object at 0x0000020B89E171C0>, short_stats_z_scorer=<pyphoplacecellanalysis.General.Pipeline.Stages.ComputationFunctions.MultiContextComputationFunctions.RankOrderComputations.Zscorer object at 0x0000020B89E17310>, long_short_z_diff=0.5933009946469985, long_short_naive_z_diff=-0.5933009946469985, is_forward_replay=False),\n",
       " 343: LongShortStatsTuple(long_stats_z_scorer=<pyphoplacecellanalysis.General.Pipeline.Stages.ComputationFunctions.MultiContextComputationFunctions.RankOrderComputations.Zscorer object at 0x0000020B89E174C0>, short_stats_z_scorer=<pyphoplacecellanalysis.General.Pipeline.Stages.ComputationFunctions.MultiContextComputationFunctions.RankOrderComputations.Zscorer object at 0x0000020B89E17610>, long_short_z_diff=0.2838711598435737, long_short_naive_z_diff=-0.2838711598435737, is_forward_replay=False),\n",
       " 344: LongShortStatsTuple(long_stats_z_scorer=<pyphoplacecellanalysis.General.Pipeline.Stages.ComputationFunctions.MultiContextComputationFunctions.RankOrderComputations.Zscorer object at 0x0000020B89E177C0>, short_stats_z_scorer=<pyphoplacecellanalysis.General.Pipeline.Stages.ComputationFunctions.MultiContextComputationFunctions.RankOrderComputations.Zscorer object at 0x0000020B89E17910>, long_short_z_diff=-0.28178894731738025, long_short_naive_z_diff=0.28178894731738025, is_forward_replay=False),\n",
       " 345: LongShortStatsTuple(long_stats_z_scorer=<pyphoplacecellanalysis.General.Pipeline.Stages.ComputationFunctions.MultiContextComputationFunctions.RankOrderComputations.Zscorer object at 0x0000020B89E17AC0>, short_stats_z_scorer=<pyphoplacecellanalysis.General.Pipeline.Stages.ComputationFunctions.MultiContextComputationFunctions.RankOrderComputations.Zscorer object at 0x0000020B89E17C10>, long_short_z_diff=0.49232772237460054, long_short_naive_z_diff=0.49232772237460054, is_forward_replay=True),\n",
       " 346: LongShortStatsTuple(long_stats_z_scorer=<pyphoplacecellanalysis.General.Pipeline.Stages.ComputationFunctions.MultiContextComputationFunctions.RankOrderComputations.Zscorer object at 0x0000020B89E17DC0>, short_stats_z_scorer=<pyphoplacecellanalysis.General.Pipeline.Stages.ComputationFunctions.MultiContextComputationFunctions.RankOrderComputations.Zscorer object at 0x0000020B89E17F10>, long_short_z_diff=-0.6312923207513319, long_short_naive_z_diff=-0.6312923207513319, is_forward_replay=True),\n",
       " 347: LongShortStatsTuple(long_stats_z_scorer=<pyphoplacecellanalysis.General.Pipeline.Stages.ComputationFunctions.MultiContextComputationFunctions.RankOrderComputations.Zscorer object at 0x0000020B89E1C100>, short_stats_z_scorer=<pyphoplacecellanalysis.General.Pipeline.Stages.ComputationFunctions.MultiContextComputationFunctions.RankOrderComputations.Zscorer object at 0x0000020B89E1C250>, long_short_z_diff=0.058997425352596444, long_short_naive_z_diff=-0.058997425352596444, is_forward_replay=False),\n",
       " 348: LongShortStatsTuple(long_stats_z_scorer=<pyphoplacecellanalysis.General.Pipeline.Stages.ComputationFunctions.MultiContextComputationFunctions.RankOrderComputations.Zscorer object at 0x0000020B89E1C400>, short_stats_z_scorer=<pyphoplacecellanalysis.General.Pipeline.Stages.ComputationFunctions.MultiContextComputationFunctions.RankOrderComputations.Zscorer object at 0x0000020B89E1C550>, long_short_z_diff=0.9458044574722878, long_short_naive_z_diff=-0.9458044574722878, is_forward_replay=False),\n",
       " 349: LongShortStatsTuple(long_stats_z_scorer=<pyphoplacecellanalysis.General.Pipeline.Stages.ComputationFunctions.MultiContextComputationFunctions.RankOrderComputations.Zscorer object at 0x0000020B89E1C700>, short_stats_z_scorer=<pyphoplacecellanalysis.General.Pipeline.Stages.ComputationFunctions.MultiContextComputationFunctions.RankOrderComputations.Zscorer object at 0x0000020B89E1C850>, long_short_z_diff=0.8352048170011932, long_short_naive_z_diff=0.8352048170011932, is_forward_replay=True),\n",
       " 350: LongShortStatsTuple(long_stats_z_scorer=<pyphoplacecellanalysis.General.Pipeline.Stages.ComputationFunctions.MultiContextComputationFunctions.RankOrderComputations.Zscorer object at 0x0000020B89E1CA00>, short_stats_z_scorer=<pyphoplacecellanalysis.General.Pipeline.Stages.ComputationFunctions.MultiContextComputationFunctions.RankOrderComputations.Zscorer object at 0x0000020B89E1CB50>, long_short_z_diff=1.2219318926360028, long_short_naive_z_diff=1.2219318926360028, is_forward_replay=True),\n",
       " 351: LongShortStatsTuple(long_stats_z_scorer=<pyphoplacecellanalysis.General.Pipeline.Stages.ComputationFunctions.MultiContextComputationFunctions.RankOrderComputations.Zscorer object at 0x0000020B89E1CD00>, short_stats_z_scorer=<pyphoplacecellanalysis.General.Pipeline.Stages.ComputationFunctions.MultiContextComputationFunctions.RankOrderComputations.Zscorer object at 0x0000020B89E1CE50>, long_short_z_diff=0.12170820145840788, long_short_naive_z_diff=-0.12170820145840788, is_forward_replay=False),\n",
       " 352: LongShortStatsTuple(long_stats_z_scorer=<pyphoplacecellanalysis.General.Pipeline.Stages.ComputationFunctions.MultiContextComputationFunctions.RankOrderComputations.Zscorer object at 0x0000020B89E21040>, short_stats_z_scorer=<pyphoplacecellanalysis.General.Pipeline.Stages.ComputationFunctions.MultiContextComputationFunctions.RankOrderComputations.Zscorer object at 0x0000020B89E21190>, long_short_z_diff=-1.030205845877602, long_short_naive_z_diff=1.030205845877602, is_forward_replay=False),\n",
       " 353: LongShortStatsTuple(long_stats_z_scorer=<pyphoplacecellanalysis.General.Pipeline.Stages.ComputationFunctions.MultiContextComputationFunctions.RankOrderComputations.Zscorer object at 0x0000020B89E21340>, short_stats_z_scorer=<pyphoplacecellanalysis.General.Pipeline.Stages.ComputationFunctions.MultiContextComputationFunctions.RankOrderComputations.Zscorer object at 0x0000020B89E21490>, long_short_z_diff=-0.008752779809627853, long_short_naive_z_diff=0.008752779809627853, is_forward_replay=False),\n",
       " 354: LongShortStatsTuple(long_stats_z_scorer=<pyphoplacecellanalysis.General.Pipeline.Stages.ComputationFunctions.MultiContextComputationFunctions.RankOrderComputations.Zscorer object at 0x0000020B89E21640>, short_stats_z_scorer=<pyphoplacecellanalysis.General.Pipeline.Stages.ComputationFunctions.MultiContextComputationFunctions.RankOrderComputations.Zscorer object at 0x0000020B89E21790>, long_short_z_diff=-0.400836384464641, long_short_naive_z_diff=0.400836384464641, is_forward_replay=False),\n",
       " 355: LongShortStatsTuple(long_stats_z_scorer=<pyphoplacecellanalysis.General.Pipeline.Stages.ComputationFunctions.MultiContextComputationFunctions.RankOrderComputations.Zscorer object at 0x0000020B89E21940>, short_stats_z_scorer=<pyphoplacecellanalysis.General.Pipeline.Stages.ComputationFunctions.MultiContextComputationFunctions.RankOrderComputations.Zscorer object at 0x0000020B89E21A90>, long_short_z_diff=0.1404827707724916, long_short_naive_z_diff=-0.1404827707724916, is_forward_replay=False),\n",
       " 356: LongShortStatsTuple(long_stats_z_scorer=<pyphoplacecellanalysis.General.Pipeline.Stages.ComputationFunctions.MultiContextComputationFunctions.RankOrderComputations.Zscorer object at 0x0000020B89E21C40>, short_stats_z_scorer=<pyphoplacecellanalysis.General.Pipeline.Stages.ComputationFunctions.MultiContextComputationFunctions.RankOrderComputations.Zscorer object at 0x0000020B89E21D90>, long_short_z_diff=1.2860555563050342, long_short_naive_z_diff=-1.2860555563050342, is_forward_replay=False),\n",
       " 357: LongShortStatsTuple(long_stats_z_scorer=<pyphoplacecellanalysis.General.Pipeline.Stages.ComputationFunctions.MultiContextComputationFunctions.RankOrderComputations.Zscorer object at 0x0000020B89E21F40>, short_stats_z_scorer=<pyphoplacecellanalysis.General.Pipeline.Stages.ComputationFunctions.MultiContextComputationFunctions.RankOrderComputations.Zscorer object at 0x0000020B89E260D0>, long_short_z_diff=0.6523001420026453, long_short_naive_z_diff=-0.6523001420026453, is_forward_replay=False),\n",
       " 358: LongShortStatsTuple(long_stats_z_scorer=<pyphoplacecellanalysis.General.Pipeline.Stages.ComputationFunctions.MultiContextComputationFunctions.RankOrderComputations.Zscorer object at 0x0000020B89E26280>, short_stats_z_scorer=<pyphoplacecellanalysis.General.Pipeline.Stages.ComputationFunctions.MultiContextComputationFunctions.RankOrderComputations.Zscorer object at 0x0000020B89E263D0>, long_short_z_diff=0.4371211705809408, long_short_naive_z_diff=-0.4371211705809408, is_forward_replay=False),\n",
       " 359: LongShortStatsTuple(long_stats_z_scorer=<pyphoplacecellanalysis.General.Pipeline.Stages.ComputationFunctions.MultiContextComputationFunctions.RankOrderComputations.Zscorer object at 0x0000020B89E26580>, short_stats_z_scorer=<pyphoplacecellanalysis.General.Pipeline.Stages.ComputationFunctions.MultiContextComputationFunctions.RankOrderComputations.Zscorer object at 0x0000020B89E266D0>, long_short_z_diff=-0.3197139613335094, long_short_naive_z_diff=-0.3197139613335094, is_forward_replay=True),\n",
       " 360: LongShortStatsTuple(long_stats_z_scorer=<pyphoplacecellanalysis.General.Pipeline.Stages.ComputationFunctions.MultiContextComputationFunctions.RankOrderComputations.Zscorer object at 0x0000020B89E26880>, short_stats_z_scorer=<pyphoplacecellanalysis.General.Pipeline.Stages.ComputationFunctions.MultiContextComputationFunctions.RankOrderComputations.Zscorer object at 0x0000020B89E269D0>, long_short_z_diff=-0.4337915161650486, long_short_naive_z_diff=0.4337915161650486, is_forward_replay=False),\n",
       " 361: LongShortStatsTuple(long_stats_z_scorer=<pyphoplacecellanalysis.General.Pipeline.Stages.ComputationFunctions.MultiContextComputationFunctions.RankOrderComputations.Zscorer object at 0x0000020B89E26B80>, short_stats_z_scorer=<pyphoplacecellanalysis.General.Pipeline.Stages.ComputationFunctions.MultiContextComputationFunctions.RankOrderComputations.Zscorer object at 0x0000020B89E26CD0>, long_short_z_diff=-0.8154906303704825, long_short_naive_z_diff=-1.6521713128694242, is_forward_replay=True),\n",
       " 362: LongShortStatsTuple(long_stats_z_scorer=<pyphoplacecellanalysis.General.Pipeline.Stages.ComputationFunctions.MultiContextComputationFunctions.RankOrderComputations.Zscorer object at 0x0000020B89E26E80>, short_stats_z_scorer=<pyphoplacecellanalysis.General.Pipeline.Stages.ComputationFunctions.MultiContextComputationFunctions.RankOrderComputations.Zscorer object at 0x0000020B89E26FD0>, long_short_z_diff=-0.04340907119218418, long_short_naive_z_diff=0.04340907119218418, is_forward_replay=False),\n",
       " 363: LongShortStatsTuple(long_stats_z_scorer=<pyphoplacecellanalysis.General.Pipeline.Stages.ComputationFunctions.MultiContextComputationFunctions.RankOrderComputations.Zscorer object at 0x0000020B89E2B1C0>, short_stats_z_scorer=<pyphoplacecellanalysis.General.Pipeline.Stages.ComputationFunctions.MultiContextComputationFunctions.RankOrderComputations.Zscorer object at 0x0000020B89E2B310>, long_short_z_diff=-0.3918619188603696, long_short_naive_z_diff=-0.3918619188603696, is_forward_replay=True),\n",
       " 364: LongShortStatsTuple(long_stats_z_scorer=<pyphoplacecellanalysis.General.Pipeline.Stages.ComputationFunctions.MultiContextComputationFunctions.RankOrderComputations.Zscorer object at 0x0000020B89E2B4C0>, short_stats_z_scorer=<pyphoplacecellanalysis.General.Pipeline.Stages.ComputationFunctions.MultiContextComputationFunctions.RankOrderComputations.Zscorer object at 0x0000020B89E2B610>, long_short_z_diff=0.3730309483495813, long_short_naive_z_diff=-0.3730309483495813, is_forward_replay=False),\n",
       " 365: LongShortStatsTuple(long_stats_z_scorer=<pyphoplacecellanalysis.General.Pipeline.Stages.ComputationFunctions.MultiContextComputationFunctions.RankOrderComputations.Zscorer object at 0x0000020B89E2B7C0>, short_stats_z_scorer=<pyphoplacecellanalysis.General.Pipeline.Stages.ComputationFunctions.MultiContextComputationFunctions.RankOrderComputations.Zscorer object at 0x0000020B89E2B910>, long_short_z_diff=-0.05396457512435188, long_short_naive_z_diff=-0.05396457512435188, is_forward_replay=True),\n",
       " 366: LongShortStatsTuple(long_stats_z_scorer=<pyphoplacecellanalysis.General.Pipeline.Stages.ComputationFunctions.MultiContextComputationFunctions.RankOrderComputations.Zscorer object at 0x0000020B89E2BAC0>, short_stats_z_scorer=<pyphoplacecellanalysis.General.Pipeline.Stages.ComputationFunctions.MultiContextComputationFunctions.RankOrderComputations.Zscorer object at 0x0000020B89E2BC10>, long_short_z_diff=-0.4519533240632251, long_short_naive_z_diff=0.4519533240632251, is_forward_replay=False),\n",
       " 367: LongShortStatsTuple(long_stats_z_scorer=<pyphoplacecellanalysis.General.Pipeline.Stages.ComputationFunctions.MultiContextComputationFunctions.RankOrderComputations.Zscorer object at 0x0000020B89E2BDC0>, short_stats_z_scorer=<pyphoplacecellanalysis.General.Pipeline.Stages.ComputationFunctions.MultiContextComputationFunctions.RankOrderComputations.Zscorer object at 0x0000020B89E2BF10>, long_short_z_diff=0.44934675166043525, long_short_naive_z_diff=-0.44934675166043525, is_forward_replay=False),\n",
       " 368: LongShortStatsTuple(long_stats_z_scorer=<pyphoplacecellanalysis.General.Pipeline.Stages.ComputationFunctions.MultiContextComputationFunctions.RankOrderComputations.Zscorer object at 0x0000020B89E31100>, short_stats_z_scorer=<pyphoplacecellanalysis.General.Pipeline.Stages.ComputationFunctions.MultiContextComputationFunctions.RankOrderComputations.Zscorer object at 0x0000020B89E31250>, long_short_z_diff=-0.16726908459169698, long_short_naive_z_diff=0.16726908459169698, is_forward_replay=False),\n",
       " 369: LongShortStatsTuple(long_stats_z_scorer=<pyphoplacecellanalysis.General.Pipeline.Stages.ComputationFunctions.MultiContextComputationFunctions.RankOrderComputations.Zscorer object at 0x0000020B89E31400>, short_stats_z_scorer=<pyphoplacecellanalysis.General.Pipeline.Stages.ComputationFunctions.MultiContextComputationFunctions.RankOrderComputations.Zscorer object at 0x0000020B89E31550>, long_short_z_diff=0.24357618312034335, long_short_naive_z_diff=-0.24357618312034335, is_forward_replay=False),\n",
       " 370: LongShortStatsTuple(long_stats_z_scorer=<pyphoplacecellanalysis.General.Pipeline.Stages.ComputationFunctions.MultiContextComputationFunctions.RankOrderComputations.Zscorer object at 0x0000020B89E31700>, short_stats_z_scorer=<pyphoplacecellanalysis.General.Pipeline.Stages.ComputationFunctions.MultiContextComputationFunctions.RankOrderComputations.Zscorer object at 0x0000020B89E31850>, long_short_z_diff=-0.6182945515045437, long_short_naive_z_diff=-0.6182945515045437, is_forward_replay=True),\n",
       " 371: LongShortStatsTuple(long_stats_z_scorer=<pyphoplacecellanalysis.General.Pipeline.Stages.ComputationFunctions.MultiContextComputationFunctions.RankOrderComputations.Zscorer object at 0x0000020B89E31A00>, short_stats_z_scorer=<pyphoplacecellanalysis.General.Pipeline.Stages.ComputationFunctions.MultiContextComputationFunctions.RankOrderComputations.Zscorer object at 0x0000020B89E31B50>, long_short_z_diff=-0.6143843951252772, long_short_naive_z_diff=-0.6143843951252772, is_forward_replay=True),\n",
       " 372: LongShortStatsTuple(long_stats_z_scorer=<pyphoplacecellanalysis.General.Pipeline.Stages.ComputationFunctions.MultiContextComputationFunctions.RankOrderComputations.Zscorer object at 0x0000020B89E31D00>, short_stats_z_scorer=<pyphoplacecellanalysis.General.Pipeline.Stages.ComputationFunctions.MultiContextComputationFunctions.RankOrderComputations.Zscorer object at 0x0000020B89E31E50>, long_short_z_diff=-0.3284687980443257, long_short_naive_z_diff=0.3284687980443257, is_forward_replay=False),\n",
       " 373: LongShortStatsTuple(long_stats_z_scorer=<pyphoplacecellanalysis.General.Pipeline.Stages.ComputationFunctions.MultiContextComputationFunctions.RankOrderComputations.Zscorer object at 0x0000020B89E36040>, short_stats_z_scorer=<pyphoplacecellanalysis.General.Pipeline.Stages.ComputationFunctions.MultiContextComputationFunctions.RankOrderComputations.Zscorer object at 0x0000020B89E36190>, long_short_z_diff=0.8030133824220549, long_short_naive_z_diff=0.8030133824220549, is_forward_replay=True),\n",
       " 374: LongShortStatsTuple(long_stats_z_scorer=<pyphoplacecellanalysis.General.Pipeline.Stages.ComputationFunctions.MultiContextComputationFunctions.RankOrderComputations.Zscorer object at 0x0000020B89E36340>, short_stats_z_scorer=<pyphoplacecellanalysis.General.Pipeline.Stages.ComputationFunctions.MultiContextComputationFunctions.RankOrderComputations.Zscorer object at 0x0000020B89E36490>, long_short_z_diff=0.8585254971364902, long_short_naive_z_diff=-1.3143133867979835, is_forward_replay=False),\n",
       " 375: LongShortStatsTuple(long_stats_z_scorer=<pyphoplacecellanalysis.General.Pipeline.Stages.ComputationFunctions.MultiContextComputationFunctions.RankOrderComputations.Zscorer object at 0x0000020B89E36640>, short_stats_z_scorer=<pyphoplacecellanalysis.General.Pipeline.Stages.ComputationFunctions.MultiContextComputationFunctions.RankOrderComputations.Zscorer object at 0x0000020B89E36790>, long_short_z_diff=-0.06191827146981144, long_short_naive_z_diff=-0.06191827146981144, is_forward_replay=True),\n",
       " 376: LongShortStatsTuple(long_stats_z_scorer=<pyphoplacecellanalysis.General.Pipeline.Stages.ComputationFunctions.MultiContextComputationFunctions.RankOrderComputations.Zscorer object at 0x0000020B89E36940>, short_stats_z_scorer=<pyphoplacecellanalysis.General.Pipeline.Stages.ComputationFunctions.MultiContextComputationFunctions.RankOrderComputations.Zscorer object at 0x0000020B89E36A90>, long_short_z_diff=-0.30656649295932703, long_short_naive_z_diff=-0.30656649295932703, is_forward_replay=True),\n",
       " 377: LongShortStatsTuple(long_stats_z_scorer=<pyphoplacecellanalysis.General.Pipeline.Stages.ComputationFunctions.MultiContextComputationFunctions.RankOrderComputations.Zscorer object at 0x0000020B89E36C40>, short_stats_z_scorer=<pyphoplacecellanalysis.General.Pipeline.Stages.ComputationFunctions.MultiContextComputationFunctions.RankOrderComputations.Zscorer object at 0x0000020B89E36D90>, long_short_z_diff=-0.6221712400174412, long_short_naive_z_diff=-0.6221712400174412, is_forward_replay=True),\n",
       " 378: LongShortStatsTuple(long_stats_z_scorer=<pyphoplacecellanalysis.General.Pipeline.Stages.ComputationFunctions.MultiContextComputationFunctions.RankOrderComputations.Zscorer object at 0x0000020B89E36F40>, short_stats_z_scorer=<pyphoplacecellanalysis.General.Pipeline.Stages.ComputationFunctions.MultiContextComputationFunctions.RankOrderComputations.Zscorer object at 0x0000020B89E3B0D0>, long_short_z_diff=-0.001168297985705724, long_short_naive_z_diff=0.001168297985705724, is_forward_replay=False),\n",
       " 379: LongShortStatsTuple(long_stats_z_scorer=<pyphoplacecellanalysis.General.Pipeline.Stages.ComputationFunctions.MultiContextComputationFunctions.RankOrderComputations.Zscorer object at 0x0000020B89E3B280>, short_stats_z_scorer=<pyphoplacecellanalysis.General.Pipeline.Stages.ComputationFunctions.MultiContextComputationFunctions.RankOrderComputations.Zscorer object at 0x0000020B89E3B3D0>, long_short_z_diff=0.14792460373354688, long_short_naive_z_diff=0.14792460373354688, is_forward_replay=True),\n",
       " 380: LongShortStatsTuple(long_stats_z_scorer=<pyphoplacecellanalysis.General.Pipeline.Stages.ComputationFunctions.MultiContextComputationFunctions.RankOrderComputations.Zscorer object at 0x0000020B89E3B580>, short_stats_z_scorer=<pyphoplacecellanalysis.General.Pipeline.Stages.ComputationFunctions.MultiContextComputationFunctions.RankOrderComputations.Zscorer object at 0x0000020B89E3B6D0>, long_short_z_diff=-0.6945871090395848, long_short_naive_z_diff=0.6945871090395848, is_forward_replay=False),\n",
       " 381: LongShortStatsTuple(long_stats_z_scorer=<pyphoplacecellanalysis.General.Pipeline.Stages.ComputationFunctions.MultiContextComputationFunctions.RankOrderComputations.Zscorer object at 0x0000020B89E3B880>, short_stats_z_scorer=<pyphoplacecellanalysis.General.Pipeline.Stages.ComputationFunctions.MultiContextComputationFunctions.RankOrderComputations.Zscorer object at 0x0000020B89E3B9D0>, long_short_z_diff=0.08783346490661897, long_short_naive_z_diff=-0.48213533467644715, is_forward_replay=False),\n",
       " 382: LongShortStatsTuple(long_stats_z_scorer=<pyphoplacecellanalysis.General.Pipeline.Stages.ComputationFunctions.MultiContextComputationFunctions.RankOrderComputations.Zscorer object at 0x0000020B89E3BB80>, short_stats_z_scorer=<pyphoplacecellanalysis.General.Pipeline.Stages.ComputationFunctions.MultiContextComputationFunctions.RankOrderComputations.Zscorer object at 0x0000020B89E3BCD0>, long_short_z_diff=0.7797899739763632, long_short_naive_z_diff=0.7797899739763632, is_forward_replay=True),\n",
       " 383: LongShortStatsTuple(long_stats_z_scorer=<pyphoplacecellanalysis.General.Pipeline.Stages.ComputationFunctions.MultiContextComputationFunctions.RankOrderComputations.Zscorer object at 0x0000020B89E3BE80>, short_stats_z_scorer=<pyphoplacecellanalysis.General.Pipeline.Stages.ComputationFunctions.MultiContextComputationFunctions.RankOrderComputations.Zscorer object at 0x0000020B89E3BFD0>, long_short_z_diff=0.06871243544351555, long_short_naive_z_diff=0.5215669186217337, is_forward_replay=True),\n",
       " 384: LongShortStatsTuple(long_stats_z_scorer=<pyphoplacecellanalysis.General.Pipeline.Stages.ComputationFunctions.MultiContextComputationFunctions.RankOrderComputations.Zscorer object at 0x0000020B89E421C0>, short_stats_z_scorer=<pyphoplacecellanalysis.General.Pipeline.Stages.ComputationFunctions.MultiContextComputationFunctions.RankOrderComputations.Zscorer object at 0x0000020B89E42310>, long_short_z_diff=0.29696497663725197, long_short_naive_z_diff=-0.29696497663725197, is_forward_replay=False),\n",
       " 385: LongShortStatsTuple(long_stats_z_scorer=<pyphoplacecellanalysis.General.Pipeline.Stages.ComputationFunctions.MultiContextComputationFunctions.RankOrderComputations.Zscorer object at 0x0000020B89E424C0>, short_stats_z_scorer=<pyphoplacecellanalysis.General.Pipeline.Stages.ComputationFunctions.MultiContextComputationFunctions.RankOrderComputations.Zscorer object at 0x0000020B89E42610>, long_short_z_diff=-0.7129767199740438, long_short_naive_z_diff=-0.7129767199740438, is_forward_replay=True),\n",
       " 386: LongShortStatsTuple(long_stats_z_scorer=<pyphoplacecellanalysis.General.Pipeline.Stages.ComputationFunctions.MultiContextComputationFunctions.RankOrderComputations.Zscorer object at 0x0000020B89E427C0>, short_stats_z_scorer=<pyphoplacecellanalysis.General.Pipeline.Stages.ComputationFunctions.MultiContextComputationFunctions.RankOrderComputations.Zscorer object at 0x0000020B89E42910>, long_short_z_diff=2.2595617156419636, long_short_naive_z_diff=2.397741391236949, is_forward_replay=True),\n",
       " 387: LongShortStatsTuple(long_stats_z_scorer=<pyphoplacecellanalysis.General.Pipeline.Stages.ComputationFunctions.MultiContextComputationFunctions.RankOrderComputations.Zscorer object at 0x0000020B89E42AC0>, short_stats_z_scorer=<pyphoplacecellanalysis.General.Pipeline.Stages.ComputationFunctions.MultiContextComputationFunctions.RankOrderComputations.Zscorer object at 0x0000020B89E42C10>, long_short_z_diff=0.0, long_short_naive_z_diff=0.0, is_forward_replay=False),\n",
       " 388: LongShortStatsTuple(long_stats_z_scorer=<pyphoplacecellanalysis.General.Pipeline.Stages.ComputationFunctions.MultiContextComputationFunctions.RankOrderComputations.Zscorer object at 0x0000020B89E42D90>, short_stats_z_scorer=<pyphoplacecellanalysis.General.Pipeline.Stages.ComputationFunctions.MultiContextComputationFunctions.RankOrderComputations.Zscorer object at 0x0000020B89E42EE0>, long_short_z_diff=-0.4016961732543577, long_short_naive_z_diff=-0.4016961732543577, is_forward_replay=True),\n",
       " 389: LongShortStatsTuple(long_stats_z_scorer=<pyphoplacecellanalysis.General.Pipeline.Stages.ComputationFunctions.MultiContextComputationFunctions.RankOrderComputations.Zscorer object at 0x0000020B89E450D0>, short_stats_z_scorer=<pyphoplacecellanalysis.General.Pipeline.Stages.ComputationFunctions.MultiContextComputationFunctions.RankOrderComputations.Zscorer object at 0x0000020B89E45220>, long_short_z_diff=-0.1565110492247872, long_short_naive_z_diff=-0.1565110492247872, is_forward_replay=True),\n",
       " 390: LongShortStatsTuple(long_stats_z_scorer=<pyphoplacecellanalysis.General.Pipeline.Stages.ComputationFunctions.MultiContextComputationFunctions.RankOrderComputations.Zscorer object at 0x0000020B89E453D0>, short_stats_z_scorer=<pyphoplacecellanalysis.General.Pipeline.Stages.ComputationFunctions.MultiContextComputationFunctions.RankOrderComputations.Zscorer object at 0x0000020B89E45520>, long_short_z_diff=-0.6276051550828713, long_short_naive_z_diff=0.7200354069468441, is_forward_replay=False),\n",
       " 391: LongShortStatsTuple(long_stats_z_scorer=<pyphoplacecellanalysis.General.Pipeline.Stages.ComputationFunctions.MultiContextComputationFunctions.RankOrderComputations.Zscorer object at 0x0000020B89E456D0>, short_stats_z_scorer=<pyphoplacecellanalysis.General.Pipeline.Stages.ComputationFunctions.MultiContextComputationFunctions.RankOrderComputations.Zscorer object at 0x0000020B89E45820>, long_short_z_diff=0.2675667561909425, long_short_naive_z_diff=0.9385694753250811, is_forward_replay=True),\n",
       " 392: LongShortStatsTuple(long_stats_z_scorer=<pyphoplacecellanalysis.General.Pipeline.Stages.ComputationFunctions.MultiContextComputationFunctions.RankOrderComputations.Zscorer object at 0x0000020B89E459D0>, short_stats_z_scorer=<pyphoplacecellanalysis.General.Pipeline.Stages.ComputationFunctions.MultiContextComputationFunctions.RankOrderComputations.Zscorer object at 0x0000020B89E45B20>, long_short_z_diff=-0.40095192832815263, long_short_naive_z_diff=0.40095192832815263, is_forward_replay=False),\n",
       " 393: LongShortStatsTuple(long_stats_z_scorer=<pyphoplacecellanalysis.General.Pipeline.Stages.ComputationFunctions.MultiContextComputationFunctions.RankOrderComputations.Zscorer object at 0x0000020B89E45CD0>, short_stats_z_scorer=<pyphoplacecellanalysis.General.Pipeline.Stages.ComputationFunctions.MultiContextComputationFunctions.RankOrderComputations.Zscorer object at 0x0000020B89E45E20>, long_short_z_diff=0.35167166212317125, long_short_naive_z_diff=-0.6990690072989718, is_forward_replay=False),\n",
       " 394: LongShortStatsTuple(long_stats_z_scorer=<pyphoplacecellanalysis.General.Pipeline.Stages.ComputationFunctions.MultiContextComputationFunctions.RankOrderComputations.Zscorer object at 0x0000020B89E45FD0>, short_stats_z_scorer=<pyphoplacecellanalysis.General.Pipeline.Stages.ComputationFunctions.MultiContextComputationFunctions.RankOrderComputations.Zscorer object at 0x0000020B89E4B160>, long_short_z_diff=0.31564010087696337, long_short_naive_z_diff=-0.31564010087696337, is_forward_replay=False),\n",
       " 395: LongShortStatsTuple(long_stats_z_scorer=<pyphoplacecellanalysis.General.Pipeline.Stages.ComputationFunctions.MultiContextComputationFunctions.RankOrderComputations.Zscorer object at 0x0000020B89E4B310>, short_stats_z_scorer=<pyphoplacecellanalysis.General.Pipeline.Stages.ComputationFunctions.MultiContextComputationFunctions.RankOrderComputations.Zscorer object at 0x0000020B89E4B460>, long_short_z_diff=0.04697238591490205, long_short_naive_z_diff=-0.04697238591490205, is_forward_replay=False),\n",
       " 396: LongShortStatsTuple(long_stats_z_scorer=<pyphoplacecellanalysis.General.Pipeline.Stages.ComputationFunctions.MultiContextComputationFunctions.RankOrderComputations.Zscorer object at 0x0000020B89E4B610>, short_stats_z_scorer=<pyphoplacecellanalysis.General.Pipeline.Stages.ComputationFunctions.MultiContextComputationFunctions.RankOrderComputations.Zscorer object at 0x0000020B89E4B760>, long_short_z_diff=-0.011235241079656011, long_short_naive_z_diff=-0.011235241079656011, is_forward_replay=True),\n",
       " 397: LongShortStatsTuple(long_stats_z_scorer=<pyphoplacecellanalysis.General.Pipeline.Stages.ComputationFunctions.MultiContextComputationFunctions.RankOrderComputations.Zscorer object at 0x0000020B89E4B910>, short_stats_z_scorer=<pyphoplacecellanalysis.General.Pipeline.Stages.ComputationFunctions.MultiContextComputationFunctions.RankOrderComputations.Zscorer object at 0x0000020B89E4BA60>, long_short_z_diff=-0.7695525888049488, long_short_naive_z_diff=0.7695525888049488, is_forward_replay=False),\n",
       " 398: LongShortStatsTuple(long_stats_z_scorer=<pyphoplacecellanalysis.General.Pipeline.Stages.ComputationFunctions.MultiContextComputationFunctions.RankOrderComputations.Zscorer object at 0x0000020B89E4BC10>, short_stats_z_scorer=<pyphoplacecellanalysis.General.Pipeline.Stages.ComputationFunctions.MultiContextComputationFunctions.RankOrderComputations.Zscorer object at 0x0000020B89E4BD60>, long_short_z_diff=-1.5549651523409422, long_short_naive_z_diff=-1.5549651523409422, is_forward_replay=True),\n",
       " 399: LongShortStatsTuple(long_stats_z_scorer=<pyphoplacecellanalysis.General.Pipeline.Stages.ComputationFunctions.MultiContextComputationFunctions.RankOrderComputations.Zscorer object at 0x0000020B89E4BF10>, short_stats_z_scorer=<pyphoplacecellanalysis.General.Pipeline.Stages.ComputationFunctions.MultiContextComputationFunctions.RankOrderComputations.Zscorer object at 0x0000020B89E500A0>, long_short_z_diff=0.7598758810793105, long_short_naive_z_diff=0.7598758810793105, is_forward_replay=True),\n",
       " 400: LongShortStatsTuple(long_stats_z_scorer=<pyphoplacecellanalysis.General.Pipeline.Stages.ComputationFunctions.MultiContextComputationFunctions.RankOrderComputations.Zscorer object at 0x0000020B89E50250>, short_stats_z_scorer=<pyphoplacecellanalysis.General.Pipeline.Stages.ComputationFunctions.MultiContextComputationFunctions.RankOrderComputations.Zscorer object at 0x0000020B89E503A0>, long_short_z_diff=1.2013255813232269, long_short_naive_z_diff=-1.2013255813232269, is_forward_replay=False),\n",
       " 401: LongShortStatsTuple(long_stats_z_scorer=<pyphoplacecellanalysis.General.Pipeline.Stages.ComputationFunctions.MultiContextComputationFunctions.RankOrderComputations.Zscorer object at 0x0000020B89E50550>, short_stats_z_scorer=<pyphoplacecellanalysis.General.Pipeline.Stages.ComputationFunctions.MultiContextComputationFunctions.RankOrderComputations.Zscorer object at 0x0000020B89E506A0>, long_short_z_diff=-0.2971996983873122, long_short_naive_z_diff=0.2971996983873122, is_forward_replay=False),\n",
       " 402: LongShortStatsTuple(long_stats_z_scorer=<pyphoplacecellanalysis.General.Pipeline.Stages.ComputationFunctions.MultiContextComputationFunctions.RankOrderComputations.Zscorer object at 0x0000020B89E50850>, short_stats_z_scorer=<pyphoplacecellanalysis.General.Pipeline.Stages.ComputationFunctions.MultiContextComputationFunctions.RankOrderComputations.Zscorer object at 0x0000020B89E509A0>, long_short_z_diff=0.17841573056225926, long_short_naive_z_diff=-0.17841573056225926, is_forward_replay=False),\n",
       " 403: LongShortStatsTuple(long_stats_z_scorer=<pyphoplacecellanalysis.General.Pipeline.Stages.ComputationFunctions.MultiContextComputationFunctions.RankOrderComputations.Zscorer object at 0x0000020B89E50B50>, short_stats_z_scorer=<pyphoplacecellanalysis.General.Pipeline.Stages.ComputationFunctions.MultiContextComputationFunctions.RankOrderComputations.Zscorer object at 0x0000020B89E50CA0>, long_short_z_diff=-1.1367334312830382, long_short_naive_z_diff=1.1367334312830382, is_forward_replay=False),\n",
       " 404: LongShortStatsTuple(long_stats_z_scorer=<pyphoplacecellanalysis.General.Pipeline.Stages.ComputationFunctions.MultiContextComputationFunctions.RankOrderComputations.Zscorer object at 0x0000020B89E50E50>, short_stats_z_scorer=<pyphoplacecellanalysis.General.Pipeline.Stages.ComputationFunctions.MultiContextComputationFunctions.RankOrderComputations.Zscorer object at 0x0000020B89E50FA0>, long_short_z_diff=-0.5333421298834907, long_short_naive_z_diff=0.5333421298834907, is_forward_replay=False),\n",
       " 405: LongShortStatsTuple(long_stats_z_scorer=<pyphoplacecellanalysis.General.Pipeline.Stages.ComputationFunctions.MultiContextComputationFunctions.RankOrderComputations.Zscorer object at 0x0000020B89E55190>, short_stats_z_scorer=<pyphoplacecellanalysis.General.Pipeline.Stages.ComputationFunctions.MultiContextComputationFunctions.RankOrderComputations.Zscorer object at 0x0000020B89E552E0>, long_short_z_diff=-0.7965223981095744, long_short_naive_z_diff=1.548217955369448, is_forward_replay=False),\n",
       " 406: LongShortStatsTuple(long_stats_z_scorer=<pyphoplacecellanalysis.General.Pipeline.Stages.ComputationFunctions.MultiContextComputationFunctions.RankOrderComputations.Zscorer object at 0x0000020B89E55490>, short_stats_z_scorer=<pyphoplacecellanalysis.General.Pipeline.Stages.ComputationFunctions.MultiContextComputationFunctions.RankOrderComputations.Zscorer object at 0x0000020B89E555E0>, long_short_z_diff=-0.05209372329810047, long_short_naive_z_diff=-0.05209372329810047, is_forward_replay=True),\n",
       " 407: LongShortStatsTuple(long_stats_z_scorer=<pyphoplacecellanalysis.General.Pipeline.Stages.ComputationFunctions.MultiContextComputationFunctions.RankOrderComputations.Zscorer object at 0x0000020B89E55790>, short_stats_z_scorer=<pyphoplacecellanalysis.General.Pipeline.Stages.ComputationFunctions.MultiContextComputationFunctions.RankOrderComputations.Zscorer object at 0x0000020B89E558E0>, long_short_z_diff=-0.6450635902838752, long_short_naive_z_diff=0.6450635902838752, is_forward_replay=False),\n",
       " 408: LongShortStatsTuple(long_stats_z_scorer=<pyphoplacecellanalysis.General.Pipeline.Stages.ComputationFunctions.MultiContextComputationFunctions.RankOrderComputations.Zscorer object at 0x0000020B89E55A90>, short_stats_z_scorer=<pyphoplacecellanalysis.General.Pipeline.Stages.ComputationFunctions.MultiContextComputationFunctions.RankOrderComputations.Zscorer object at 0x0000020B89E55BE0>, long_short_z_diff=0.06881510872605218, long_short_naive_z_diff=-0.24215556865218374, is_forward_replay=False),\n",
       " 409: LongShortStatsTuple(long_stats_z_scorer=<pyphoplacecellanalysis.General.Pipeline.Stages.ComputationFunctions.MultiContextComputationFunctions.RankOrderComputations.Zscorer object at 0x0000020B89E55D90>, short_stats_z_scorer=<pyphoplacecellanalysis.General.Pipeline.Stages.ComputationFunctions.MultiContextComputationFunctions.RankOrderComputations.Zscorer object at 0x0000020B89E55EE0>, long_short_z_diff=0.47736048232711026, long_short_naive_z_diff=0.47736048232711026, is_forward_replay=True),\n",
       " 410: LongShortStatsTuple(long_stats_z_scorer=<pyphoplacecellanalysis.General.Pipeline.Stages.ComputationFunctions.MultiContextComputationFunctions.RankOrderComputations.Zscorer object at 0x0000020B89E5A0D0>, short_stats_z_scorer=<pyphoplacecellanalysis.General.Pipeline.Stages.ComputationFunctions.MultiContextComputationFunctions.RankOrderComputations.Zscorer object at 0x0000020B89E5A220>, long_short_z_diff=-0.002287503985604067, long_short_naive_z_diff=-0.002287503985604067, is_forward_replay=True),\n",
       " 411: LongShortStatsTuple(long_stats_z_scorer=<pyphoplacecellanalysis.General.Pipeline.Stages.ComputationFunctions.MultiContextComputationFunctions.RankOrderComputations.Zscorer object at 0x0000020B89E5A3D0>, short_stats_z_scorer=<pyphoplacecellanalysis.General.Pipeline.Stages.ComputationFunctions.MultiContextComputationFunctions.RankOrderComputations.Zscorer object at 0x0000020B89E5A520>, long_short_z_diff=0.3032745346447159, long_short_naive_z_diff=-0.7806312654518839, is_forward_replay=False)}"
      ]
     },
     "execution_count": 49,
     "metadata": {},
     "output_type": "execute_result"
    }
   ],
   "source": [
    "## #TODO 2023-12-13 02:07: - [ ] Figure out how 'Probe_Epoch_id' maps to `ripple_result_tuple.active_epochs`\n",
    "ripple_result_tuple.active_epochs\n",
    "rank_order_results.LR_ripple.ranked_aclus_stats_dict\n"
   ]
  },
  {
   "cell_type": "code",
   "execution_count": 16,
   "id": "50f1bbbf",
   "metadata": {},
   "outputs": [
    {
     "data": {
      "text/plain": [
       "[{2: 22.35044229208984,\n",
       "  5: 33.51628354323356,\n",
       "  6: 36.21895025514987,\n",
       "  8: 32.38545331531964,\n",
       "  9: 23.859440264669004,\n",
       "  11: 24.640680514371468,\n",
       "  15: 10.0726316921164,\n",
       "  16: 37.76953500129873,\n",
       "  18: 26.327581527196333,\n",
       "  19: 5.756789176768812,\n",
       "  24: 32.075843156056465,\n",
       "  25: 9.314271296449313,\n",
       "  26: 51.873480607659246,\n",
       "  29: 34.72006398201712,\n",
       "  30: 18.721481254855764,\n",
       "  31: 24.99167026997305,\n",
       "  33: 4.858721982601754,\n",
       "  34: 5.7691640448675345,\n",
       "  35: 21.63322004843155,\n",
       "  39: 39.734817417225436,\n",
       "  40: 39.19239196684295,\n",
       "  43: 16.61960579121227,\n",
       "  44: 12.179840824343275,\n",
       "  47: 21.81704943451693,\n",
       "  48: 15.882183290203649,\n",
       "  51: 7.943755882555015,\n",
       "  52: 46.08854066307143,\n",
       "  53: 24.974381966459468,\n",
       "  56: 18.70803593684019,\n",
       "  58: 32.782989696909766,\n",
       "  60: 46.35666383559427,\n",
       "  61: 40.961745869145304,\n",
       "  66: 30.536933507879116,\n",
       "  68: 47.72881676249123,\n",
       "  70: 1.7410087168927553,\n",
       "  72: 19.592902106427694,\n",
       "  75: 37.70677892863971,\n",
       "  77: 50.76824493257387,\n",
       "  79: 18.079707432863366,\n",
       "  80: 30.964641477814745,\n",
       "  81: 18.435065958263632,\n",
       "  82: 26.356694200378946,\n",
       "  83: 46.352365979719224,\n",
       "  84: 9.016550668469945,\n",
       "  85: 42.921330677625264,\n",
       "  86: 33.14716622493325,\n",
       "  87: 7.454774214499418,\n",
       "  89: 11.56101034854132,\n",
       "  90: 29.559267699422644,\n",
       "  92: 14.115108389489306,\n",
       "  93: 26.006879402653386,\n",
       "  98: 20.405847521395984,\n",
       "  101: 33.45068758283983,\n",
       "  102: 47.916255916008566,\n",
       "  104: 28.642703924345533},\n",
       " {4: 32.59399294597484,\n",
       "  9: 34.769356933537146,\n",
       "  11: 30.08889285795235,\n",
       "  12: 21.03377473491902,\n",
       "  13: 50.04144493083124,\n",
       "  14: 17.296339999771632,\n",
       "  15: 6.79890834246013,\n",
       "  16: 50.023764850519,\n",
       "  18: 39.1445128947828,\n",
       "  20: 30.205549927228223,\n",
       "  24: 26.656552684861335,\n",
       "  25: 6.530379184063692,\n",
       "  26: 50.526377084269825,\n",
       "  27: 32.60159979295666,\n",
       "  28: 50.037948720738015,\n",
       "  31: 33.32371431571568,\n",
       "  32: 52.31192231671865,\n",
       "  38: 18.564618117177364,\n",
       "  39: 29.26875345857985,\n",
       "  40: 35.84586143348414,\n",
       "  43: 19.553659860701565,\n",
       "  44: 23.659915991278734,\n",
       "  47: 20.191510316107102,\n",
       "  48: 24.01783275048967,\n",
       "  51: 11.759102756865676,\n",
       "  52: 33.89351390401929,\n",
       "  53: 30.128454518945077,\n",
       "  56: 11.947274618744917,\n",
       "  57: 48.24321258028007,\n",
       "  59: 48.421643322284645,\n",
       "  60: 43.71675948823966,\n",
       "  61: 39.24663575998833,\n",
       "  62: 42.012342108272115,\n",
       "  63: 38.572388072906264,\n",
       "  66: 33.06482792409966,\n",
       "  67: 51.68227332907896,\n",
       "  68: 36.713695066253415,\n",
       "  70: 3.836087032171241,\n",
       "  71: 7.706565445890165,\n",
       "  72: 28.674878967970287,\n",
       "  75: 32.30551437697951,\n",
       "  77: 52.381691553473445,\n",
       "  79: 22.688597258879216,\n",
       "  80: 26.50889644303175,\n",
       "  81: 34.10429702662252,\n",
       "  82: 26.098220133128443,\n",
       "  84: 13.699076276450095,\n",
       "  85: 42.4274684900104,\n",
       "  87: 8.471757545506575,\n",
       "  89: 11.913390185612844,\n",
       "  90: 30.356536556842784,\n",
       "  91: 40.922266066017855,\n",
       "  92: 17.02684722466743,\n",
       "  93: 31.018306809445896,\n",
       "  95: 47.56209713255037,\n",
       "  98: 28.534707775403252,\n",
       "  101: 47.366920765184496,\n",
       "  102: 48.267978301706634,\n",
       "  104: 30.4955364593429},\n",
       " {2: 23.588351937502296,\n",
       "  5: 29.22611671890274,\n",
       "  6: 40.49040218026199,\n",
       "  8: 17.376344694208466,\n",
       "  9: 25.14137018795713,\n",
       "  11: 15.562429894806467,\n",
       "  15: 13.987862969002588,\n",
       "  16: 34.239709642261985,\n",
       "  18: 37.04340439074185,\n",
       "  19: 14.538896427278665,\n",
       "  24: 25.915133400827422,\n",
       "  25: 13.419914180002435,\n",
       "  26: 44.68128357878364,\n",
       "  29: 29.554228018138733,\n",
       "  30: 22.312174738206487,\n",
       "  31: 28.40359753716066,\n",
       "  33: 13.936428958422967,\n",
       "  34: 14.225663547666317,\n",
       "  35: 21.109456638638992,\n",
       "  39: 35.21565514674669,\n",
       "  40: 35.49391547579575,\n",
       "  43: 19.948183523204705,\n",
       "  44: 18.50457882542312,\n",
       "  47: 16.16740426793866,\n",
       "  48: 21.187420753035006,\n",
       "  51: 27.511856086081814,\n",
       "  52: 41.462930218285656,\n",
       "  53: 34.175520948731986,\n",
       "  56: 23.143174147804,\n",
       "  58: 31.44111367060541,\n",
       "  60: 38.29972624153292,\n",
       "  61: 33.90238819649734,\n",
       "  66: 31.18525430464242,\n",
       "  68: 40.596660341277705,\n",
       "  70: 12.624636462512852,\n",
       "  72: 24.926965232485273,\n",
       "  75: 36.68031470078543,\n",
       "  77: 44.25509250049709,\n",
       "  79: 23.321778172668623,\n",
       "  80: 31.45803538356451,\n",
       "  81: 22.306384614622377,\n",
       "  82: 31.045210574600606,\n",
       "  83: 36.034132293709156,\n",
       "  84: 23.3493945028077,\n",
       "  85: 39.414364813252014,\n",
       "  86: 31.021894267513527,\n",
       "  87: 11.58377900283133,\n",
       "  89: 15.563976328922934,\n",
       "  90: 30.236620900925516,\n",
       "  92: 16.473578782707254,\n",
       "  93: 27.197444832107664,\n",
       "  98: 26.987679009633446,\n",
       "  101: 30.564893398117228,\n",
       "  102: 41.14124475938049,\n",
       "  104: 20.057359332527497},\n",
       " {4: 32.03406228159032,\n",
       "  9: 30.788380195425173,\n",
       "  11: 28.25723186766008,\n",
       "  12: 21.910632752346977,\n",
       "  13: 33.005097554582825,\n",
       "  14: 20.49860637279819,\n",
       "  15: 14.497922298702267,\n",
       "  16: 44.793143607803756,\n",
       "  18: 41.60454784945955,\n",
       "  20: 27.143828961051426,\n",
       "  24: 26.09439411242836,\n",
       "  25: 15.617696490401915,\n",
       "  26: 43.317654679007205,\n",
       "  27: 30.956784336939595,\n",
       "  28: 40.825596058978945,\n",
       "  31: 33.64739096279583,\n",
       "  32: 43.80267466318966,\n",
       "  38: 19.720150978904314,\n",
       "  39: 28.84524759973901,\n",
       "  40: 37.86794793126908,\n",
       "  43: 33.602302617361524,\n",
       "  44: 24.30746494362051,\n",
       "  47: 18.955833965718234,\n",
       "  48: 25.438973153603335,\n",
       "  51: 20.203124106376254,\n",
       "  52: 34.86953078022248,\n",
       "  53: 31.03961540830148,\n",
       "  56: 20.067012697059486,\n",
       "  57: 36.219799031736365,\n",
       "  59: 39.261806288500274,\n",
       "  60: 43.38250454148844,\n",
       "  61: 34.32408852996467,\n",
       "  62: 34.36559960829455,\n",
       "  63: 35.06202774047261,\n",
       "  66: 29.259060880904535,\n",
       "  67: 42.36991127606395,\n",
       "  68: 24.84371354383341,\n",
       "  70: 10.811072977158771,\n",
       "  71: 14.390517157396651,\n",
       "  72: 35.29286750029286,\n",
       "  75: 38.85542536969765,\n",
       "  77: 43.88270789442799,\n",
       "  79: 22.31624266165628,\n",
       "  80: 25.599562867460637,\n",
       "  81: 30.245259938777476,\n",
       "  82: 27.29307718418763,\n",
       "  84: 28.10590033897791,\n",
       "  85: 42.51506312915797,\n",
       "  87: 15.272135756219416,\n",
       "  89: 27.650499511637847,\n",
       "  90: 31.760353793697373,\n",
       "  91: 32.95468933708197,\n",
       "  92: 19.195538869617437,\n",
       "  93: 28.213106084206384,\n",
       "  95: 36.65656947968902,\n",
       "  98: 27.23471552581548,\n",
       "  101: 41.316191677553874,\n",
       "  102: 44.39571132344482,\n",
       "  104: 29.48269467956437}]"
      ]
     },
     "execution_count": 16,
     "metadata": {},
     "output_type": "execute_result"
    }
   ],
   "source": [
    "## Add the pf_x information for each aclu:\n",
    "## 2023-10-11 - Get the long/short peak locations\n",
    "# decoder_peak_coms_list = [a_decoder.pf.ratemap.peak_tuning_curve_center_of_masses[is_good_aclus] for a_decoder in decoder_args]\n",
    "decoder_aclu_peak_location_dict_list = [dict(zip(neuron_IDs, peak_locations)) for neuron_IDs, peak_locations in zip(track_templates.decoder_neuron_IDs_list, track_templates.decoder_peak_location_list)]\n",
    "decoder_aclu_peak_location_dict_list\n"
   ]
  },
  {
   "cell_type": "code",
   "execution_count": null,
   "id": "30301bd4",
   "metadata": {},
   "outputs": [],
   "source": [
    "\n"
   ]
  },
  {
   "cell_type": "code",
   "execution_count": 17,
   "id": "de234ecb",
   "metadata": {},
   "outputs": [
    {
     "data": {
      "text/plain": [
       "array([141.235, 160.262, 183.095, 164.068, 126.014, 148.846, 42.2943, 194.511, 247.787, 57.516, 205.927, 38.4889, 247.787, 183.095, 106.986, 145.041, 57.516, 61.3214, 122.208, 247.787, 228.76, 49.9052, 84.1539, 38.4889, 87.9593, 61.3214, 232.565, 61.3214, 38.4889, 164.068, 228.76, 247.787, 152.651, 247.787, 38.4889, 114.597, 209.733, 247.787, 103.181, 202.122, 106.986, 137.43, 221.149, 53.7106, 228.76, 156.457, 53.7106, 38.4889, 183.095, 38.4889, 133.624, 118.403, 38.4889, 232.565, 194.511])"
      ]
     },
     "execution_count": 17,
     "metadata": {},
     "output_type": "execute_result"
    }
   ],
   "source": [
    "track_templates.long_LR_decoder.peak_locations"
   ]
  },
  {
   "cell_type": "code",
   "execution_count": 18,
   "id": "bc1305ed",
   "metadata": {},
   "outputs": [
    {
     "data": {
      "text/plain": [
       "[array([23, 40, 42, 36, 24, 25,  9, 44, 29,  3, 35,  8, 55, 41, 18, 27,  2,  4, 21, 46, 45, 14, 11, 22, 13,  6, 49, 26, 17, 37, 51, 47, 33, 52,  1, 19, 43, 54, 15, 34, 16, 30, 50,  7, 48, 38,  5, 10, 32, 12, 28, 20, 39, 53, 31]),\n",
       " array([23, 31, 50, 12, 25,  8,  5, 42, 47,  7, 26,  3, 55, 32, 19, 30,  4,  6, 16, 43, 44, 14, 13, 10, 17, 29, 53, 41, 20, 38, 48, 40, 37, 51,  2, 24, 46, 54, 21, 39, 18, 36, 45, 22, 49, 35,  1,  9, 33, 11, 28, 27, 34, 52, 15])]"
      ]
     },
     "execution_count": 18,
     "metadata": {},
     "output_type": "execute_result"
    }
   ],
   "source": [
    "track_templates.decoder_LR_pf_peak_ranks_list"
   ]
  },
  {
   "cell_type": "code",
   "execution_count": null,
   "id": "1a989d92",
   "metadata": {},
   "outputs": [],
   "source": [
    "\n",
    "rank_order_results.get_aligned_events("
   ]
  },
  {
   "cell_type": "markdown",
   "id": "91887b75",
   "metadata": {},
   "source": [
    "## iPyWidgets Testing"
   ]
  },
  {
   "cell_type": "code",
   "execution_count": null,
   "id": "95862f18",
   "metadata": {},
   "outputs": [],
   "source": [
    "from pyphocorehelpers.gui.Jupyter.PhoObjectBrowser_JupyterWidget import ObjectBrowser\n",
    "from attrs import asdict, astuple\n",
    "# browser = ObjectBrowser(object_to_browse=asdict(directional_laps_results, recurse=True))\n",
    "browser = ObjectBrowser(object_to_browse=curr_active_pipeline.global_computation_results.computed_data)\n",
    "browser.show()"
   ]
  },
  {
   "cell_type": "code",
   "execution_count": null,
   "id": "a6897258",
   "metadata": {},
   "outputs": [],
   "source": [
    "from pyphocorehelpers.gui.Jupyter.TreeWidget import JupyterTreeWidget\n",
    "jupyter_tree_widget = JupyterTreeWidget()"
   ]
  },
  {
   "cell_type": "code",
   "execution_count": null,
   "id": "7d4237db",
   "metadata": {},
   "outputs": [],
   "source": [
    "from pyphocorehelpers.print_helpers import truncating_list_repr\n",
    "\n",
    "short_list = [1, 2, 3]\n",
    "medium_list = [1, 2, 3, 4, 5, 6]\n",
    "long_list = [1, 2, 3, 4, 5, 6, 7, 8, 9, 10]\n",
    "print(truncating_list_repr(short_list, max_full_display_n_items = 5, truncated_num_edge_items = 3)) # '[1, 2, 3]'\n",
    "print(truncating_list_repr(medium_list, max_full_display_n_items = 5, truncated_num_edge_items = 3)) # [1, 2, 3, ..., 4, 5, 6]\n",
    "truncating_list_repr(long_list, max_full_display_n_items = 5, truncated_num_edge_items = 3) # '[ 1,  2,  3, ...,  8,  9, 10]'"
   ]
  },
  {
   "cell_type": "code",
   "execution_count": null,
   "id": "b1b0be53",
   "metadata": {},
   "outputs": [],
   "source": [
    "truncating_list_repr(rank_order_results.LR_ripple.ranked_aclus_stats_dict, max_full_display_n_items=5, truncated_num_edge_items=3)"
   ]
  },
  {
   "cell_type": "code",
   "execution_count": null,
   "id": "f7b179f8",
   "metadata": {},
   "outputs": [],
   "source": [
    "## Replays:\n",
    "global_replays = TimeColumnAliasesProtocol.renaming_synonym_columns_if_needed(deepcopy(curr_active_pipeline.filtered_sessions[global_epoch_name].replay))\n",
    "if isinstance(global_replays, pd.DataFrame):\n",
    "\tglobal_replays = Epoch(global_replays.epochs.get_valid_df())\n",
    "\n",
    "# get the aligned epochs and the z-scores aligned to them:\n",
    "active_replay_epochs, (active_LR_ripple_long_z_score, active_RL_ripple_long_z_score, active_LR_ripple_short_z_score, active_RL_ripple_short_z_score) = rank_order_results.get_aligned_events(global_replays.to_dataframe().copy(), is_laps=False)\n",
    "active_replay_epochs"
   ]
  },
  {
   "cell_type": "code",
   "execution_count": null,
   "id": "b6384a30",
   "metadata": {},
   "outputs": [],
   "source": [
    "## Laps:\n",
    "long_epoch_name, short_epoch_name, global_epoch_name = curr_active_pipeline.find_LongShortGlobal_epoch_names()\n",
    "global_laps = deepcopy(curr_active_pipeline.filtered_sessions[global_epoch_name].laps).trimmed_to_non_overlapping()\n",
    "active_laps_epochs, (active_LR_ripple_long_z_score, active_RL_ripple_long_z_score, active_LR_ripple_short_z_score, active_RL_ripple_short_z_score) = rank_order_results.get_aligned_events(global_laps.to_dataframe(), is_laps=True)"
   ]
  },
  {
   "cell_type": "code",
   "execution_count": null,
   "id": "9d383a7a",
   "metadata": {},
   "outputs": [],
   "source": [
    "rank_order_results.included_qclu_values"
   ]
  },
  {
   "cell_type": "code",
   "execution_count": null,
   "id": "91e8ff66",
   "metadata": {},
   "outputs": [],
   "source": [
    "ripple_result_tuple.plot_histogram()"
   ]
  },
  {
   "cell_type": "markdown",
   "id": "e22866f3",
   "metadata": {},
   "source": [
    "### HDF5 export for rank-order results:"
   ]
  },
  {
   "cell_type": "code",
   "execution_count": null,
   "id": "21f3ad05",
   "metadata": {},
   "outputs": [],
   "source": [
    "curr_active_pipeline.export_pipeline_to_h5()"
   ]
  },
  {
   "cell_type": "code",
   "execution_count": null,
   "id": "e3e66b45",
   "metadata": {},
   "outputs": [],
   "source": [
    "\n",
    "# rank_order_results.to_hdf(curr_active_pipeline.get_output_path().joinpath(f'{curr_active_pipeline.session_name}_rank_order_results.h5').resolve())"
   ]
  },
  {
   "cell_type": "code",
   "execution_count": null,
   "id": "1fead2b5",
   "metadata": {},
   "outputs": [],
   "source": [
    "out_path = Path('output').resolve().joinpath(f'{curr_active_pipeline.session_name}_RankOrderResult_LR_ripple.h5').resolve()\n",
    "LR_ripple: RankOrderResult = rank_order_results.LR_ripple\n",
    "# type(LR_ripple.selected_spikes_fragile_linear_neuron_IDX_dict)\n"
   ]
  },
  {
   "cell_type": "code",
   "execution_count": null,
   "id": "f9ee7a93",
   "metadata": {},
   "outputs": [],
   "source": [
    "LR_ripple.to_hdf(out_path, 'rank_order_results/LR_ripple', debug_print=True)"
   ]
  },
  {
   "cell_type": "code",
   "execution_count": null,
   "id": "5fa5619a",
   "metadata": {},
   "outputs": [],
   "source": [
    "out_path = Path('output').resolve().joinpath(f'{curr_active_pipeline.session_name}_rank_order_results.h5').resolve()\n",
    "out_path.unlink()"
   ]
  },
  {
   "cell_type": "code",
   "execution_count": null,
   "id": "c6742caa",
   "metadata": {},
   "outputs": [],
   "source": [
    "rank_order_results.to_hdf(out_path, 'rank_order_results', debug_print=True, enable_hdf_testing_mode=True)\n",
    "# LR_ripple.to_hdf(out_path, 'rank_order_results/LR_ripple', debug_print=True)\n"
   ]
  },
  {
   "cell_type": "code",
   "execution_count": null,
   "id": "83d0fa5d",
   "metadata": {},
   "outputs": [],
   "source": [
    "rank_order_results.to_dict()"
   ]
  },
  {
   "cell_type": "markdown",
   "id": "98cd6083",
   "metadata": {},
   "source": [
    "### TemplateDebugger adding lines:"
   ]
  },
  {
   "cell_type": "code",
   "execution_count": null,
   "id": "f1d9537d",
   "metadata": {},
   "outputs": [],
   "source": [
    "aclu_to_idx: Dict = self.rdf.aclu_to_idx\n",
    "aclu_to_idx_df: pd.DataFrame = pd.DataFrame({'aclu': list(aclu_to_idx.keys()), 'fragile_linear_idx': list(aclu_to_idx.values())})\n",
    "aclu_to_idx_df.to_hdf(file_path, key=f'{key}/rdf/aclu_to_idx_df', format='table', data_columns=True)"
   ]
  },
  {
   "cell_type": "code",
   "execution_count": null,
   "id": "439d3981",
   "metadata": {},
   "outputs": [],
   "source": [
    "roi = pg.LineSegmentROI([[10, 64], [120,64]], pen='r')\n",
    "imv1.addItem(roi)"
   ]
  },
  {
   "cell_type": "code",
   "execution_count": null,
   "id": "b031d378",
   "metadata": {},
   "outputs": [],
   "source": [
    "directional_laps_results"
   ]
  },
  {
   "cell_type": "code",
   "execution_count": null,
   "id": "b1e3394a",
   "metadata": {},
   "outputs": [],
   "source": [
    "## 2023-10-11 - Get the long/short peak locations\n",
    "decoder_peak_coms_list = [a_decoder.pf.ratemap.peak_tuning_curve_center_of_masses[is_good_aclus] for a_decoder in decoder_args]\n"
   ]
  },
  {
   "cell_type": "code",
   "execution_count": null,
   "id": "514a9d1f",
   "metadata": {},
   "outputs": [],
   "source": [
    "# decoders_list = [directional_laps_results.long_LR_one_step_decoder_1D, directional_laps_results.long_RL_one_step_decoder_1D, directional_laps_results.short_LR_one_step_decoder_1D, directional_laps_results.short_RL_one_step_decoder_1D]\n",
    "decoders_list = [directional_laps_results.long_LR_shared_aclus_only_one_step_decoder_1D, directional_laps_results.long_RL_shared_aclus_only_one_step_decoder_1D, directional_laps_results.short_LR_shared_aclus_only_one_step_decoder_1D, directional_laps_results.short_RL_shared_aclus_only_one_step_decoder_1D]\n"
   ]
  },
  {
   "cell_type": "code",
   "execution_count": null,
   "id": "73c6ef32",
   "metadata": {},
   "outputs": [],
   "source": [
    "# directional_laps_results.long_LR_one_step_decoder_1D, directional_laps_results.long_RL_one_step_decoder_1D, directional_laps_results.short_LR_one_step_decoder_1D, directional_laps_results.short_RL_one_step_decoder_1D = modified_decoders_list\n",
    "directional_laps_results.long_LR_shared_aclus_only_one_step_decoder_1D, directional_laps_results.long_RL_shared_aclus_only_one_step_decoder_1D, directional_laps_results.short_LR_shared_aclus_only_one_step_decoder_1D, directional_laps_results.short_RL_shared_aclus_only_one_step_decoder_1D = modified_decoders_list"
   ]
  },
  {
   "cell_type": "code",
   "execution_count": null,
   "id": "46a722e2",
   "metadata": {},
   "outputs": [],
   "source": [
    "rank_order_results.LR_laps.long_z_score"
   ]
  },
  {
   "cell_type": "markdown",
   "id": "59b9d594",
   "metadata": {},
   "source": [
    "### Finding only significant rank-order events:"
   ]
  },
  {
   "cell_type": "code",
   "execution_count": null,
   "id": "7dfbe341",
   "metadata": {},
   "outputs": [],
   "source": [
    "# Find only the significant events (|z| > 1.96):\n",
    "from pyphoplacecellanalysis.General.Pipeline.Stages.ComputationFunctions.MultiContextComputationFunctions.RankOrderComputations import RankOrderAnalyses\n",
    "\n",
    "filtered_z_score_df, (n_events, n_significant_events, percent_significant_events) = RankOrderAnalyses.find_only_significant_events(rank_order_results, high_z_criteria=1.96)\n",
    "filtered_z_score_df"
   ]
  },
  {
   "cell_type": "code",
   "execution_count": null,
   "id": "86532662",
   "metadata": {},
   "outputs": [],
   "source": [
    "# 2023-11-20 - Finding high-significance periods for Kamran:\n",
    "z_threshold = 1.96\n",
    "is_greater_than_z_threshold_long = (np.abs(ripple_result_tuple.long_best_dir_z_score_values) > z_threshold)\n",
    "is_greater_than_z_threshold_short = (np.abs(ripple_result_tuple.short_best_dir_z_score_values) > z_threshold)\n",
    "is_significant_either = np.logical_or(is_greater_than_z_threshold_long, is_greater_than_z_threshold_short)\n",
    "is_significant_either\n",
    "\n",
    "# is_greater_than_3std_long = (np.abs(ripple_result_tuple.long_best_dir_z_score_values) >= 3.0)\n",
    "# is_greater_than_3std_short = (np.abs(ripple_result_tuple.short_best_dir_z_score_values) >= 3.0)\n",
    "# is_significant_either = np.logical_or(is_greater_than_3std_long, is_greater_than_3std_short)\n"
   ]
  },
  {
   "cell_type": "code",
   "execution_count": null,
   "id": "5f925cde",
   "metadata": {},
   "outputs": [],
   "source": [
    "significant_ripple_epochs = deepcopy(Epoch(ripple_result_tuple.active_epochs)).boolean_indicies_slice(is_significant_either)\n",
    "# significant_ripple_epochs = deepcopy(global_replays).boolean_indicies_slice(is_significant_either)\n",
    "significant_ripple_epochs.to_dataframe()\n",
    "\n",
    "# significant_ripple_epochs.filename = Path(f'output/2023-11-27_SignificantReplayRipples').resolve()\n",
    "# significant_ripple_epochs.to_neuroscope()\n"
   ]
  },
  {
   "cell_type": "code",
   "execution_count": null,
   "id": "6a8beece",
   "metadata": {},
   "outputs": [],
   "source": [
    "# active_epochs = ripple_result_tuple.active_epochs\n",
    "active_epochs: Epoch = rank_order_results.RL_ripple.epochs_df # Epoch(rank_order_results.RL_ripple.epochs_df)\n",
    "# type(active_epochs)\n",
    "active_epochs.n_epochs\n",
    "# rank_order_results.RL_ripple.spikes_df"
   ]
  },
  {
   "cell_type": "code",
   "execution_count": null,
   "id": "c93ffe0d",
   "metadata": {},
   "outputs": [],
   "source": [
    "rank_order_results.LR_ripple.epochs_df\n",
    "rank_order_results.LR_ripple.spikes_df\n",
    "\n"
   ]
  },
  {
   "cell_type": "code",
   "execution_count": null,
   "id": "590a4219",
   "metadata": {},
   "outputs": [],
   "source": [
    "np.where(directional_likelihoods_tuple.long_best_direction_indices < 1)"
   ]
  },
  {
   "cell_type": "code",
   "execution_count": null,
   "id": "d068d86c",
   "metadata": {},
   "outputs": [],
   "source": [
    "# directional_likelihoods_tuple.long_relative_direction_likelihoods\n",
    "\n",
    "np.where(ripple_result_tuple.directional_likelihoods_tuple.long_best_direction_indices)"
   ]
  },
  {
   "cell_type": "code",
   "execution_count": null,
   "id": "33c30df9",
   "metadata": {},
   "outputs": [],
   "source": []
  },
  {
   "cell_type": "markdown",
   "id": "d8cbfd5e",
   "metadata": {},
   "source": [
    "# Joint-Concatenated PfND Validation\n",
    "Validation of the joint concatenated decoder (build from stacking the two 1D decoders for each direction in a virtual y-axis, and then marginalizing over x to get the likelihood of each"
   ]
  },
  {
   "cell_type": "code",
   "execution_count": null,
   "id": "7cb21e05",
   "metadata": {},
   "outputs": [],
   "source": [
    "from neuropy.analyses.placefields import PfND\n",
    "from pyphoplacecellanalysis.Analysis.Decoder.reconstruction import BasePositionDecoder\n",
    "\n",
    "\n",
    "## Combine the non-directional PDFs and renormalize to get the directional PDF:\n",
    "# Inputs: long_LR_pf1D, long_RL_pf1D\n",
    "long_directional_decoder_names = ['long_LR', 'long_RL']\n",
    "long_directional_pf1D: PfND = PfND.build_merged_directional_placefields(deepcopy(long_LR_pf1D), deepcopy(long_RL_pf1D), debug_print=False) # long_LR: y=1.0, long_RL: y=2.0\n",
    "long_directional_pf1D_Decoder = BasePositionDecoder(long_directional_pf1D, setup_on_init=True, post_load_on_init=True, debug_print=False)\n",
    "\n",
    "# Inputs: short_LR_pf1D, short_RL_pf1D\n",
    "short_directional_decoder_names = ['short_LR', 'short_RL']\n",
    "short_directional_pf1D = PfND.build_merged_directional_placefields(deepcopy(short_LR_pf1D), deepcopy(short_RL_pf1D), debug_print=False) # [LR, RL], {'LR': 0, 'RL': 1}\n",
    "short_directional_pf1D_Decoder = BasePositionDecoder(short_directional_pf1D, setup_on_init=True, post_load_on_init=True, debug_print=False)\n",
    "# takes 6.3 seconds\n",
    "\n",
    "## validation of PfNDs:\n",
    "# short_directional_pf1D.plot_ratemaps_2D()"
   ]
  },
  {
   "cell_type": "code",
   "execution_count": null,
   "id": "1b5b8002",
   "metadata": {},
   "outputs": [],
   "source": [
    "from pyphoplacecellanalysis.PhoPositionalData.plotting.placefield import plot_placefields2D\n",
    "\n",
    "\n",
    "short_directional_pf1D_Decoder\n",
    "\n",
    "plot_placefields2D(short_directional_pf1D)\n"
   ]
  },
  {
   "cell_type": "code",
   "execution_count": null,
   "id": "5a7234e3",
   "metadata": {},
   "outputs": [],
   "source": [
    "ripple_result_tuple.long_best_dir_z_score_values"
   ]
  },
  {
   "cell_type": "code",
   "execution_count": null,
   "id": "2ceb4aeb",
   "metadata": {},
   "outputs": [],
   "source": [
    "ripple_result_tuple.short_best_dir_z_score_values"
   ]
  },
  {
   "cell_type": "code",
   "execution_count": null,
   "id": "6616af69",
   "metadata": {
    "notebookRunGroups": {
     "groupValue": "2"
    },
    "tags": [
     "figure",
     "RankOrderRastersDebugger"
    ]
   },
   "outputs": [],
   "source": [
    "from pyphoplacecellanalysis.GUI.PyQtPlot.Widgets.ContainerBased.RankOrderRastersDebugger import RankOrderRastersDebugger\n",
    "\n",
    "curr_active_pipeline.reload_default_display_functions()\n",
    "\n",
    "## RankOrderRastersDebugger: \n",
    "_out_rank_order_event_raster_debugger = RankOrderRastersDebugger.init_rank_order_debugger(spikes_df, ripple_result_tuple.active_epochs, track_templates, rank_order_results.RL_ripple.selected_spikes_fragile_linear_neuron_IDX_dict, rank_order_results.LR_ripple.selected_spikes_fragile_linear_neuron_IDX_dict)\n",
    "# _out_rank_order_event_raster_debugger = RankOrderRastersDebugger.init_rank_order_debugger(spikes_df, active_epochs.to_dataframe(), track_templates, rank_order_results.RL_ripple.selected_spikes_fragile_linear_neuron_IDX_dict, rank_order_results.LR_ripple.selected_spikes_fragile_linear_neuron_IDX_dict)"
   ]
  },
  {
   "cell_type": "markdown",
   "id": "aac746d8",
   "metadata": {},
   "source": [
    "## Connects TemplatesDebugger to RasterDebugger"
   ]
  },
  {
   "cell_type": "code",
   "execution_count": 50,
   "id": "bdc4e5be",
   "metadata": {
    "notebookRunGroups": {
     "groupValue": "32"
    },
    "tags": [
     "figure",
     "callback"
    ]
   },
   "outputs": [
    {
     "name": "stdout",
     "output_type": "stream",
     "text": [
      "PhoDockAreaContainingWindow.GlobalConnectionManagerAccessingMixin_on_setup()\n",
      "PhoDockAreaContainingWindow.try_register_any_control_widgets()\n",
      "\tflat_widgets_list contains 0 items\n",
      "using overriden dock location.\n"
     ]
    },
    {
     "ename": "NameError",
     "evalue": "name '_out_rank_order_event_raster_debugger' is not defined",
     "output_type": "error",
     "traceback": [
      "\u001b[1;31m---------------------------------------------------------------------------\u001b[0m",
      "\u001b[1;31mNameError\u001b[0m                                 Traceback (most recent call last)",
      "\u001b[1;32mc:\\Users\\pho\\repos\\Spike3DWorkEnv\\Spike3D\\ReviewOfWork_2023-12-13.ipynb Cell 143\u001b[0m line \u001b[0;36m1\n\u001b[0;32m    <a href='vscode-notebook-cell:/c%3A/Users/pho/repos/Spike3DWorkEnv/Spike3D/ReviewOfWork_2023-12-13.ipynb#Y251sZmlsZQ%3D%3D?line=122'>123</a>\u001b[0m \ta_plotter\u001b[39m.\u001b[39mwrite_to_log(\u001b[39mstr\u001b[39m(out\u001b[39m.\u001b[39mgetvalue()))\n\u001b[0;32m    <a href='vscode-notebook-cell:/c%3A/Users/pho/repos/Spike3DWorkEnv/Spike3D/ReviewOfWork_2023-12-13.ipynb#Y251sZmlsZQ%3D%3D?line=123'>124</a>\u001b[0m \t\u001b[39m# # update the displayed cells:\u001b[39;00m\n\u001b[0;32m    <a href='vscode-notebook-cell:/c%3A/Users/pho/repos/Spike3DWorkEnv/Spike3D/ReviewOfWork_2023-12-13.ipynb#Y251sZmlsZQ%3D%3D?line=124'>125</a>\u001b[0m \t\u001b[39m# directional_template_pfs_debugger_on_update_callback = _out_directional_template_pfs_debugger.get('ui').on_update_callback\u001b[39;00m\n\u001b[0;32m    <a href='vscode-notebook-cell:/c%3A/Users/pho/repos/Spike3DWorkEnv/Spike3D/ReviewOfWork_2023-12-13.ipynb#Y251sZmlsZQ%3D%3D?line=125'>126</a>\u001b[0m \t\u001b[39m# directional_template_pfs_debugger_on_update_callback(epoch_active_aclus)\u001b[39;00m\n\u001b[1;32m   (...)\u001b[0m\n\u001b[0;32m    <a href='vscode-notebook-cell:/c%3A/Users/pho/repos/Spike3DWorkEnv/Spike3D/ReviewOfWork_2023-12-13.ipynb#Y251sZmlsZQ%3D%3D?line=129'>130</a>\u001b[0m \t\u001b[39m# display(LR_template_epoch_actually_included_aclus[an_idx])\u001b[39;00m\n\u001b[0;32m    <a href='vscode-notebook-cell:/c%3A/Users/pho/repos/Spike3DWorkEnv/Spike3D/ReviewOfWork_2023-12-13.ipynb#Y251sZmlsZQ%3D%3D?line=130'>131</a>\u001b[0m \t\u001b[39m# display(RL_template_epoch_actually_included_aclus[an_idx])\u001b[39;00m\n\u001b[1;32m--> <a href='vscode-notebook-cell:/c%3A/Users/pho/repos/Spike3DWorkEnv/Spike3D/ReviewOfWork_2023-12-13.ipynb#Y251sZmlsZQ%3D%3D?line=133'>134</a>\u001b[0m _out_rank_order_event_raster_debugger\u001b[39m.\u001b[39mon_idx_changed_callback_function_dict[\u001b[39m'\u001b[39m\u001b[39ma_debug_callback\u001b[39m\u001b[39m'\u001b[39m] \u001b[39m=\u001b[39m a_debug_callback_fn\n\u001b[0;32m    <a href='vscode-notebook-cell:/c%3A/Users/pho/repos/Spike3DWorkEnv/Spike3D/ReviewOfWork_2023-12-13.ipynb#Y251sZmlsZQ%3D%3D?line=134'>135</a>\u001b[0m _out_rank_order_event_raster_debugger\u001b[39m.\u001b[39mon_idx_changed_callback_function_dict[\u001b[39m'\u001b[39m\u001b[39mdebug_update_plot_titles_callback\u001b[39m\u001b[39m'\u001b[39m] \u001b[39m=\u001b[39m debug_update_plot_titles\n\u001b[0;32m    <a href='vscode-notebook-cell:/c%3A/Users/pho/repos/Spike3DWorkEnv/Spike3D/ReviewOfWork_2023-12-13.ipynb#Y251sZmlsZQ%3D%3D?line=135'>136</a>\u001b[0m _out_rank_order_event_raster_debugger\u001b[39m.\u001b[39mon_idx_changed_callback_function_dict[\u001b[39m'\u001b[39m\u001b[39mdebug_update_paired_directional_template_pfs_debugger\u001b[39m\u001b[39m'\u001b[39m] \u001b[39m=\u001b[39m debug_update_paired_directional_template_pfs_debugger\n",
      "\u001b[1;31mNameError\u001b[0m: name '_out_rank_order_event_raster_debugger' is not defined"
     ]
    }
   ],
   "source": [
    "from pyphocorehelpers.print_helpers import generate_html_string\n",
    "\n",
    "\n",
    "def debug_update_plot_titles(a_plotter, an_idx: int):\n",
    "\t\"\"\" Updates the titles of each of the four rasters with the appropriate spearman rho value.\n",
    "\tcaptures: rank_order_results_debug_values, \n",
    "\t\"\"\"\n",
    "\tfor a_decoder_name, a_root_plot in a_plotter.plots.root_plots.items():\n",
    "\t\ta_real_value = rank_order_results_debug_values[a_decoder_name][0][an_idx]\n",
    "\t\tprint(f'a_decoder_name: {a_decoder_name}, a_real_value: {a_real_value:0.3f}')\n",
    "\t\treal_value_str = generate_html_string(f'{a_real_value:0.3f}', color='white', bold=True)\n",
    "\t\t# j_str = generate_html_string('j', color='red', bold=True)\n",
    "\t\ttitle_str = generate_html_string(f'{a_decoder_name}: spearman: {real_value_str}')\n",
    "\t\ta_root_plot.setTitle(title=title_str)\n",
    "\n",
    "\n",
    "def debug_update_long_short_info_titles(a_plotter, an_idx: int):\n",
    "\t\"\"\" Updates the titles of each of the four rasters with the appropriate spearman rho value.\n",
    "\tcaptures: ripple_result_tuple, \n",
    "\t\"\"\"\n",
    "\thas_long_short_info_labels = (hasattr(a_plotter.ui, 'long_info_label') and hasattr(a_plotter.ui, 'short_info_label'))\n",
    "\tif has_long_short_info_labels:\n",
    "\t\tdirectional_likelihoods_tuple: DirectionalRankOrderLikelihoods = ripple_result_tuple.directional_likelihoods_tuple\n",
    "\t\tdirectional_likelihoods_tuple.long_best_direction_indices\n",
    "\t\tdirectional_likelihoods_tuple.short_best_direction_indices\n",
    "\t\tdirectional_likelihoods_tuple.long_relative_direction_likelihoods\n",
    "\n",
    "\t\t_long_LR_likelihood = directional_likelihoods_tuple.long_relative_direction_likelihoods[an_idx, 0]\n",
    "\t\t_long_RL_likelihood = directional_likelihoods_tuple.long_relative_direction_likelihoods[an_idx, 1]\n",
    "\t\t_long_best_dir_IDX = directional_likelihoods_tuple.long_best_direction_indices[an_idx]\n",
    "\n",
    "\n",
    "\t\t_long_LR_likelihood_str = generate_html_string(f'{float(_long_LR_likelihood):0.3f}', color='black', bold=True)\n",
    "\t\t_long_RL_likelihood_str = generate_html_string(f'{float(_long_RL_likelihood):0.3f}', color='black', bold=True)\n",
    "\t\t_long_best_dir_IDX_str = generate_html_string(f'{float(_long_best_dir_IDX):0.1f}', color='black', bold=True)\n",
    "\t\t\n",
    "\t\t# original:\n",
    "\t\tlong_best_dir_z_score_value_str = generate_html_string(f'{float(ripple_result_tuple.long_best_dir_z_score_values[an_idx]):0.3f}', color='black', bold=True)\n",
    "\t\tshort_best_dir_z_score_value_str = generate_html_string(f'{float(ripple_result_tuple.short_best_dir_z_score_values[an_idx]):0.3f}', color='black', bold=True)\n",
    "\t\t# j_str = generate_html_string('j', color='red', bold=True)\n",
    "\t\ta_plotter.ui.long_info_label.setText('\\n'.join([generate_html_string(f'LONG best_dir_z_score_value: {long_best_dir_z_score_value_str}'), \n",
    "\t\t\t\t\t\t  generate_html_string(f'LONG LR likelihood: {_long_LR_likelihood_str}'), \n",
    "\t\t\t\t\t\t  generate_html_string(f'LONG RL likelihood: {_long_RL_likelihood_str}'),\n",
    "\t\t\t\t\t\t  generate_html_string(f'LONG best dir IDX: {_long_best_dir_IDX_str}'), \n",
    "\t\t\t\t\t\t  ]))\n",
    "\t\ta_plotter.ui.short_info_label.setText(generate_html_string(f'SHORT best_dir_z_score_value: {short_best_dir_z_score_value_str}'))\n",
    "\telse:\n",
    "\t\tprint(f'WARN: debug_update_long_short_info_titles(...) but plotter does not have the `a_plotter.ui.long_info_label`')\n",
    "\t\t\n",
    "\n",
    "\n",
    "curr_active_pipeline.reload_default_display_functions()\n",
    "# epoch_active_aclus = np.array([9,  26,  31,  39,  40,  43,  47,  52,  53,  54,  60,  61,  65,  68,  72,  75,  77,  78,  81,  82,  84,  85,  90,  92,  93,  98, 102]) # some test indicies\n",
    "epoch_active_aclus = None\n",
    "_out_directional_template_pfs_debugger = curr_active_pipeline.display(DirectionalPlacefieldGlobalDisplayFunctions._display_directional_template_debugger, included_any_context_neuron_ids=epoch_active_aclus, figure_name=f'<Controlled by RankOrderRastersDebugger>')\n",
    "\n",
    "\n",
    "def debug_update_paired_directional_template_pfs_debugger(a_plotter, an_idx: int):\n",
    "\t\"\"\" captures: _out_directional_template_pfs_debugger, \"\"\"\n",
    "\tepoch_active_aclus = deepcopy(a_plotter.get_epoch_active_aclus())\n",
    "\t# update the displayed cells:\n",
    "\tdirectional_template_pfs_debugger_on_update_callback = _out_directional_template_pfs_debugger.get('ui').on_update_callback\n",
    "\tdirectional_template_pfs_debugger_on_update_callback(epoch_active_aclus)\n",
    "\n",
    "\n",
    "\n",
    "\n",
    "import io\n",
    "from contextlib import redirect_stdout # used by DocumentationFilePrinter to capture print output\n",
    "\n",
    "def a_debug_callback_fn(a_plotter, an_idx: int):\n",
    "\tglobal epoch_active_aclus, _out_directional_template_pfs_debugger\n",
    "\tout = io.StringIO()\n",
    "\t# _out.on_update_epoch_IDX(an_idx)\n",
    "\twith redirect_stdout(out):\n",
    "\t\tprint(f'active_epoch_IDX: {an_idx}')\n",
    "\t\tprint(f'')\n",
    "\t\tprint(f'LR_long_relative_real_values[an_idx]: {LR_long_relative_real_values[an_idx]}, LR_long_relative_real_p_values[an_idx]: {LR_long_relative_real_p_values[an_idx]}')\n",
    "\t\tprint(f'LR_short_relative_real_values[an_idx]: {LR_short_relative_real_values[an_idx]}, LR_short_relative_real_p_values[an_idx]: {LR_short_relative_real_p_values[an_idx]}')\n",
    "\t\tprint(f'LR_ripple.long_z_score[an_idx]: {rank_order_results.LR_ripple.long_z_score[an_idx]}, LR_ripple.short_z_score[an_idx]: {rank_order_results.LR_ripple.short_z_score[an_idx]}')\n",
    "\t\tprint(f'RL_long_relative_real_values[an_idx]: {RL_long_relative_real_values[an_idx]}, RL_long_relative_real_p_values[an_idx]: {RL_long_relative_real_p_values[an_idx]}')\n",
    "\t\tprint(f'RL_short_relative_real_values[an_idx]: {RL_short_relative_real_values[an_idx]}, RL_short_relative_real_p_values[an_idx]: {RL_short_relative_real_p_values[an_idx]}')\n",
    "\t\tprint(f'RL_ripple.long_z_score[an_idx]: {rank_order_results.RL_ripple.long_z_score[an_idx]}, RL_ripple.short_z_score[an_idx]: {rank_order_results.RL_ripple.short_z_score[an_idx]}')\n",
    "\t\tprint(f'LR_relative_num_cells[an_idx]: {LR_relative_num_cells[an_idx]}, RL_relative_num_cells[an_idx]: {RL_relative_num_cells[an_idx]}')\n",
    "\t\tprint(f'LR_template_epoch_actually_included_aclus[an_idx]: {LR_template_epoch_actually_included_aclus[an_idx]}, RL_template_epoch_actually_included_aclus[an_idx]: {RL_template_epoch_actually_included_aclus[an_idx]}')\n",
    "\t\t# display(LR_template_epoch_actually_included_aclus[an_idx])\n",
    "\t\t# display(RL_template_epoch_actually_included_aclus[an_idx])\n",
    "\t\tepoch_active_aclus = np.sort(union_of_arrays(LR_template_epoch_actually_included_aclus[an_idx], RL_template_epoch_actually_included_aclus[an_idx]))\n",
    "\t\tprint(f'epoch_active_aclus: {epoch_active_aclus}')\n",
    "\t\t\n",
    "\ta_plotter.write_to_log(str(out.getvalue()))\n",
    "\t# # update the displayed cells:\n",
    "\t# directional_template_pfs_debugger_on_update_callback = _out_directional_template_pfs_debugger.get('ui').on_update_callback\n",
    "\t# directional_template_pfs_debugger_on_update_callback(epoch_active_aclus)\n",
    "\t# _out_directional_template_pfs_debugger = curr_active_pipeline.display(DirectionalPlacefieldGlobalDisplayFunctions._display_directional_template_debugger, included_any_context_neuron_ids=epoch_active_aclus)\n",
    "\t\n",
    "\t# rank_order_results.ripple_most_likely_result_tuple.long_short_best_dir_z_score_diff_values[an_idx]\n",
    "\t# display(LR_template_epoch_actually_included_aclus[an_idx])\n",
    "\t# display(RL_template_epoch_actually_included_aclus[an_idx])\n",
    "\n",
    "\n",
    "_out_rank_order_event_raster_debugger.on_idx_changed_callback_function_dict['a_debug_callback'] = a_debug_callback_fn\n",
    "_out_rank_order_event_raster_debugger.on_idx_changed_callback_function_dict['debug_update_plot_titles_callback'] = debug_update_plot_titles\n",
    "_out_rank_order_event_raster_debugger.on_idx_changed_callback_function_dict['debug_update_paired_directional_template_pfs_debugger'] = debug_update_paired_directional_template_pfs_debugger\n",
    "_out_rank_order_event_raster_debugger.on_idx_changed_callback_function_dict['debug_update_long_short_info_titles'] = debug_update_long_short_info_titles\n"
   ]
  },
  {
   "cell_type": "code",
   "execution_count": null,
   "id": "6c2c9ff4",
   "metadata": {},
   "outputs": [],
   "source": [
    "matplotlib.matplotlib_fname() # '/home/halechr/repos/Spike3D/.venv/lib/python3.9/site-packages/matplotlib/mpl-data/matplotlibrc'"
   ]
  },
  {
   "cell_type": "code",
   "execution_count": null,
   "id": "bcba29ed",
   "metadata": {},
   "outputs": [],
   "source": []
  },
  {
   "cell_type": "code",
   "execution_count": null,
   "id": "828a2ccf",
   "metadata": {},
   "outputs": [],
   "source": []
  },
  {
   "cell_type": "code",
   "execution_count": null,
   "id": "36883563",
   "metadata": {},
   "outputs": [],
   "source": []
  },
  {
   "cell_type": "code",
   "execution_count": null,
   "id": "32db858d",
   "metadata": {
    "notebookRunGroups": {
     "groupValue": ""
    }
   },
   "outputs": [],
   "source": [
    "_out_rank_order_event_raster_debugger.on_update_epoch_IDX(298)"
   ]
  },
  {
   "cell_type": "code",
   "execution_count": null,
   "id": "0787873b",
   "metadata": {},
   "outputs": [],
   "source": [
    "ripple_result_tuple.directional_likelihoods_tuple[0][248]"
   ]
  },
  {
   "cell_type": "code",
   "execution_count": null,
   "id": "32cef07a",
   "metadata": {},
   "outputs": [],
   "source": [
    "from pyphoplacecellanalysis.GUI.PyQtPlot.DockingWidgets.DynamicDockDisplayAreaContent import CustomDockDisplayConfig\n",
    "\n",
    "root_dockAreaWindow = _out_rank_order_event_raster_debugger.ui.root_dockAreaWindow"
   ]
  },
  {
   "cell_type": "code",
   "execution_count": null,
   "id": "3e9ab10c",
   "metadata": {},
   "outputs": [],
   "source": [
    "long_LR_dock = root_dockAreaWindow.find_display_dock('long_LR')\n",
    "short_LR_dock = root_dockAreaWindow.find_display_dock('short_LR')\n",
    "\n",
    "\n",
    "long_short_info_layout = pg.LayoutWidget()\n",
    "\n",
    "long_info_label = long_short_info_layout.addLabel(text='LONG', row=0, col=0)\n",
    "short_info_label = long_short_info_layout.addLabel(text='SHORT', row=0, col=1)\n",
    "\n",
    "# ['left', long_LR_dock]\n",
    "# \n",
    "_out_rank_order_event_raster_debugger.plots.dock_widgets['left_Long_best_result_dock'] = root_dockAreaWindow.add_display_dock(identifier='left_Long_best_result_dock', widget=long_short_info_layout, dockSize=(600,60), dockAddLocationOpts=['top'], display_config=CustomDockDisplayConfig(showCloseButton=False, corner_radius='0px'))\n",
    "_out_rank_order_event_raster_debugger.plots.dock_widgets['left_Long_best_result_dock'][1].hideTitleBar() # hide the dock title bar\n",
    "\n",
    "# Add the widgets to the .ui:\n",
    "_out_rank_order_event_raster_debugger.ui.long_short_info_layout = long_short_info_layout\n",
    "_out_rank_order_event_raster_debugger.ui.long_info_label = long_info_label\n",
    "_out_rank_order_event_raster_debugger.ui.short_info_label = short_info_label"
   ]
  },
  {
   "cell_type": "code",
   "execution_count": null,
   "id": "a839f9e3",
   "metadata": {},
   "outputs": [],
   "source": [
    "_out_rank_order_event_raster_debugger.ui.ctrls_widget.setValue(298)"
   ]
  },
  {
   "cell_type": "code",
   "execution_count": null,
   "id": "2a91522b",
   "metadata": {},
   "outputs": [],
   "source": [
    "\n",
    "unit_sort_orders_dict = dict(zip(['long_LR', 'long_RL', 'short_LR', 'short_RL'], (long_LR, long_RL, short_LR, short_RL)))\n",
    "display('unit_sort_orders_dict')\n",
    "display(unit_sort_orders_dict)\n",
    "unit_unordered_neuron_IDs_dict = dict(zip(['long_LR', 'long_RL', 'short_LR', 'short_RL'], (track_templates.long_LR_decoder.neuron_IDs, track_templates.long_RL_decoder.neuron_IDs, track_templates.short_LR_decoder.neuron_IDs, track_templates.short_RL_decoder.neuron_IDs)))\n",
    "unit_ordered_neuron_IDs_dict = {a_decoder_name:neuron_IDs[unit_sort_orders_dict[a_decoder_name]] for a_decoder_name, neuron_IDs in unit_unordered_neuron_IDs_dict.items()}\n",
    "unit_ordered_neuron_IDs_dict\n",
    "\n",
    "display(f'unit_unordered_neuron_IDs_dict')\n",
    "display(unit_unordered_neuron_IDs_dict)\n",
    "# unit_unordered_neuron_IDs_dict:\n",
    "# {'long_RL': array([  9,  10,  11,  15,  16,  18,  24,  25,  26,  31,  39,  40,  43,  44,  47,  48,  51,  52,  53,  54,  56,  60,  61,  65,  66,  68,  70,  72,  75,  77,  78,  79,  80,  81,  82,  84,  85,  87,  89,  90,  92,  93,  98, 101, 102, 104]),\n",
    "#  'long_LR': array([  9,  10,  11,  15,  16,  18,  24,  25,  26,  31,  39,  40,  43,  44,  47,  48,  51,  52,  53,  54,  56,  60,  61,  65,  66,  68,  70,  72,  75,  77,  78,  79,  80,  81,  82,  84,  85,  87,  89,  90,  92,  93,  98, 101, 102, 104]),\n",
    "#  'short_RL': array([  9,  10,  11,  15,  16,  18,  24,  25,  26,  31,  39,  40,  43,  44,  47,  48,  51,  52,  53,  54,  56,  60,  61,  65,  66,  68,  70,  72,  75,  77,  78,  79,  80,  81,  82,  84,  85,  87,  89,  90,  92,  93,  98, 101, 102, 104]),\n",
    "#  'short_LR': array([  9,  10,  11,  15,  16,  18,  24,  25,  26,  31,  39,  40,  43,  44,  47,  48,  51,  52,  53,  54,  56,  60,  61,  65,  66,  68,  70,  72,  75,  77,  78,  79,  80,  81,  82,  84,  85,  87,  89,  90,  92,  93,  98, 101, 102, 104])}\n",
    "\n",
    "# unit_ordered_neuron_IDs_dict:\n",
    "# {'long_RL': np.array([ 81,  70,  60,  11, 101,  85,  52,  10, 102,  77,  56,  82,  31,  44,  39,  47,  16,  78,  61,  43,  24,  92,  87,  80,  75,  84,   9,  54,  72, 104,  89,  40,  51,  79,  48,  25,  90,  15,  18,  65,  26,  68,  53,  93,  98,  66]),\n",
    "#  'long_LR': np.array([ 53,  52,  54,  18,  84,  65,  79,  16, 104,  60,  87,  85,  39,  25,  51,  31,  11,  92,  56,  75,  44,  93,  89,  68,  77,  98,   9,  47,  82, 102,  80,  40,  78,  43,  66,  15,  90,  10,  24,  72,  26,  61,  48,  81, 101,  70]),\n",
    "#  'short_RL': np.array([ 68,  75,  54,  10, 104,  90,  44,  15,  93,  79,  56,  84,  78,  31,  16,  40,  25,  81,  70,  66,  24,  98,  80,  77,  60,  39,   9,  82,  85, 101,  87,  26,  43,  65,  48,  52,  92,  11,  51,  72,  18,  53,  47,  89, 102,  61]),\n",
    "#  'short_LR': np.array([ 53,  51,  16,  15,  81,  87,  54,  11, 104,  65,  82,  84,  31,  26,  24,  40,  61, 101,  80,  77,  44,  90,  79,  70,  75,  93,  10,  52,  85, 102,  89,  47,  78,  43,  72,  48,  92,   9,  18,  66,  25,  60,  56,  68,  98,  39])}\n",
    "\n",
    "## TemplateDebugger way of getting neuron_ids:\n",
    "rank_order_results: RankOrderComputationsContainer = curr_active_pipeline.global_computation_results.computed_data['RankOrder']\n",
    "minimum_inclusion_fr_Hz: float = rank_order_results.minimum_inclusion_fr_Hz\n",
    "track_templates: TrackTemplates = directional_laps_results.get_templates(minimum_inclusion_fr_Hz=minimum_inclusion_fr_Hz) # non-shared-only -- !! Is minimum_inclusion_fr_Hz=None the issue/difference?\n",
    "decoders_dict = track_templates.get_decoders_dict() # decoders_dict = {'long_LR': track_templates.long_LR_decoder, 'long_RL': track_templates.long_RL_decoder, 'short_LR': track_templates.short_LR_decoder, 'short_RL': track_templates.short_RL_decoder, }\n",
    "\n",
    "# INDIVIDUAL SORTING:\n",
    "sorted_neuron_IDs_lists, sort_helper_neuron_id_to_neuron_colors_dicts, sort_helper_neuron_id_to_sort_IDX_dicts = paired_separately_sort_neurons(decoders_dict, None)\n",
    "\n",
    "display(sorted_neuron_IDs_lists)\n",
    "\n",
    "# [array([ 25,  47,  56,  70,  89,  92, 101,  15,  43,  84,  87,  10,  51,  53,  44,  48,  79,  81,  72,  98,   9,  93,  82,  31,  11,  66,  90,  78,  16, 104,  80,  24,  75,  40,  60,  85,  52, 102,  65,  18,  26,  39,  54,  61,  68,  77]),\n",
    "#  array([ 25,  56,  70,  89,  47,  15,  87,  54,  84,  43,  51,  92,  44,  72,  79,  48,  24,  39,  53,  80,  98,  31,  75,  11,  66,  81,  82,  90, 104,   9,  93,  10,  78, 101,  16,  18,  26,  40,  52,  60,  61,  65,  68,  77,  85, 102]),\n",
    "#  array([ 11,  47,  87,  25,  56,  70,  92,  15,  89,  43, 104,  10,  84,  81,  24,  44,  48,  79,   9,  72,  93,  31,  98,  66,  90,  82,  16,  51,  61,  75,  53,  80,  65,  78,  40,  60,  85, 102,  39,  52, 101,  26,  68,  18,  54,  77]),\n",
    "#  array([ 70,  25,  47,  51,  56,  87,  15,  92,  68,  44,  48,  79,  24,  80,  53,  39,  89,   9,  93,  98,  66,  11,  81,  82, 104,  90,  61,  65,  84,  31,  75,  10,  72, 101,  40,  43,  60,  16,  26,  52,  54,  77,  78,  85, 102,  18])]\n",
    "\n",
    "required_sort_indicies = [find_desired_sort_indicies(neuron_ids, sorted_neuron_IDs)[0] for neuron_ids, sorted_neuron_IDs in zip(list(unit_unordered_neuron_IDs_dict.values()), sorted_neuron_IDs_lists)]   \n",
    "display(required_sort_indicies)\n",
    "# [array([ 7, 14, 20, 26, 38, 40, 43,  3, 12, 35, 37,  1, 16, 18, 13, 15, 31, 33, 27, 42,  0, 41, 34,  9,  2, 24, 39, 30,  4, 45, 32,  6, 28, 11, 21, 36, 17, 44, 23,  5,  8, 10, 19, 22, 25, 29]),\n",
    "#  array([ 7, 20, 26, 38, 14,  3, 37, 19, 35, 12, 16, 40, 13, 27, 31, 15,  6, 10, 18, 32, 42,  9, 28,  2, 24, 33, 34, 39, 45,  0, 41,  1, 30, 43,  4,  5,  8, 11, 17, 21, 22, 23, 25, 29, 36, 44]),\n",
    "#  array([ 2, 14, 37,  7, 20, 26, 40,  3, 38, 12, 45,  1, 35, 33,  6, 13, 15, 31,  0, 27, 41,  9, 42, 24, 39, 34,  4, 16, 22, 28, 18, 32, 23, 30, 11, 21, 36, 44, 10, 17, 43,  8, 25,  5, 19, 29]),\n",
    "#  array([26,  7, 14, 16, 20, 37,  3, 40, 25, 13, 15, 31,  6, 32, 18, 10, 38,  0, 41, 42, 24,  2, 33, 34, 45, 39, 22, 23, 35,  9, 28,  1, 27, 43, 11, 12, 21,  4,  8, 17, 19, 29, 30, 36, 44,  5])]\n"
   ]
  },
  {
   "cell_type": "code",
   "execution_count": null,
   "id": "7e66edd1",
   "metadata": {},
   "outputs": [],
   "source": [
    "# a_sorted_neuron_ids, unit_sort_orders_dict=an_unit_sort_orders, unit_colors_list=a_decoder_color_list\n",
    "\n",
    "\n",
    "# Get only the spikes for the shared_aclus:\n",
    "a_spikes_df = deepcopy(spikes_df).spikes.sliced_by_neuron_id(LR_neuron_ids)\n",
    "a_spikes_df, neuron_id_to_new_IDX_map = a_spikes_df.spikes.rebuild_fragile_linear_neuron_IDXs() # rebuild the fragile indicies afterwards\n",
    "\n",
    "rasters_display_outputs = plot_raster_plot(a_spikes_df, LR_neuron_ids, unit_sort_order=np.arange(len(LR_neuron_ids)), scatter_app_name=f'pho_directional_laps_rasters', defer_show=False, active_context=None)\n"
   ]
  },
  {
   "cell_type": "code",
   "execution_count": null,
   "id": "fec97c43",
   "metadata": {},
   "outputs": [],
   "source": [
    "# Passing no colors at all, passing a different `unit_sort_order` produces a different location for the color rows (the color stays with the spikes), as desired but perhaps not expected.\n",
    "rasters_display_outputs2 = plot_raster_plot(a_spikes_df, LR_neuron_ids, unit_sort_order=np.array(list(reversed(np.arange(len(LR_neuron_ids))))), scatter_app_name=f'pho_directional_laps_rasters2', defer_show=False, active_context=None)\n"
   ]
  },
  {
   "cell_type": "code",
   "execution_count": null,
   "id": "c04326fe",
   "metadata": {},
   "outputs": [],
   "source": [
    "# if index > 0 and index < len(data1):\n",
    "debug_footer_label.setText(\"test\")\n",
    "# <span style='font-size: 12pt'>x=%0.1f,   <span style='color: red'>y1=%0.1f</span>,   <span style='color: green'>y2=%0.1f</span>\" % (mousePoint.x(), data1[index], data2[index]))\n",
    "            \n"
   ]
  },
  {
   "cell_type": "code",
   "execution_count": null,
   "id": "e9c42f1c",
   "metadata": {},
   "outputs": [],
   "source": [
    "rasters_display_outputs_unsorted.plots_data.raster_plot_manager.unit_sort_manager.y_fragile_linear_neuron_IDX_map\n",
    "# rasters_display_outputs_unsorted.plots_data.raster_plot_manager.unit_sort_manager.params.config_items\n",
    "# rasters_display_outputs_unsorted.plots_data.raster_plot_manager.config_fragile_linear_neuron_IDX_map"
   ]
  },
  {
   "cell_type": "code",
   "execution_count": null,
   "id": "7700bdb9",
   "metadata": {},
   "outputs": [],
   "source": [
    "rasters_display_outputs3.plots_data.raster_plot_manager.unit_sort_manager.y_fragile_linear_neuron_IDX_map\n",
    "# rasters_display_outputs3.plots_data.raster_plot_manager.unit_sort_manager.params.config_items\n",
    "# rasters_display_outputs3.plots_data.raster_plot_manager.config_fragile_linear_neuron_IDX_map"
   ]
  },
  {
   "cell_type": "code",
   "execution_count": null,
   "id": "15364325",
   "metadata": {},
   "outputs": [],
   "source": [
    "from pyphoplacecellanalysis.GUI.PyQtPlot.Widgets.GraphicsObjects.CustomLinearRegionItem import CustomLinearRegionItem\n",
    "\n",
    "kwargs = {}\n",
    "\n",
    "neuron_label = f\"{9}\"\n",
    "epoch_linear_region:CustomLinearRegionItem = CustomLinearRegionItem(**(dict(pen=pg.mkPen('#fff'), brush=pg.mkBrush('#f004'), hoverBrush=pg.mkBrush('#fff4'), hoverPen=pg.mkPen('#f00'))|kwargs), movable=False) #, clipItem=plots['difference']  bound the LinearRegionItem to the plotted data\n",
    "epoch_linear_region.setObjectName(f'neuron_region[{neuron_label}]')\n",
    "epoch_linear_region.setZValue(-3) # put it in the back\n",
    "epoch_region_label:pg.InfLineLabel = pg.InfLineLabel(epoch_linear_region.lines[0], f\"{neuron_label}\", position=0.95, rotateAxis=(1,0), anchor=(1, 1)) # add the label for the short epoch\n",
    "# Add the LinearRegionItem to the ViewBox, but tell the ViewBox to exclude this item when doing auto-range calculations.\n",
    "a_main_plot.addItem(epoch_linear_region, ignoreBounds=True)\n",
    "# Set the position:\n",
    "\n"
   ]
  },
  {
   "cell_type": "code",
   "execution_count": null,
   "id": "380ce211",
   "metadata": {},
   "outputs": [],
   "source": [
    "\n",
    "lower_uppder_y_pairs = [(lower_y, upper_y) for lower_y, upper_y in zip(a_raster_plot_manager.unit_sort_manager._series_identity_lower_y_values, a_raster_plot_manager.unit_sort_manager._series_identity_upper_y_values)]\n",
    "lower_uppder_y_pairs\n"
   ]
  },
  {
   "cell_type": "code",
   "execution_count": null,
   "id": "02de5ef6",
   "metadata": {},
   "outputs": [],
   "source": [
    "\n",
    "epoch_linear_region.setRegion([t_start, t_stop]) # adjust scroll control"
   ]
  },
  {
   "cell_type": "code",
   "execution_count": null,
   "id": "347ab55b",
   "metadata": {},
   "outputs": [],
   "source": [
    "## One issue seems to be just ascending vs. descending expectation order!\n",
    "sorted_neuron_ids"
   ]
  },
  {
   "cell_type": "code",
   "execution_count": null,
   "id": "6347c1cc",
   "metadata": {},
   "outputs": [],
   "source": [
    "curr_neuron_ids_list = a_raster_plot_manager.unit_sort_manager.find_cell_ids_from_neuron_IDXs(a_raster_plot_manager.unit_sort_manager.fragile_linear_neuron_IDXs)\n",
    "curr_neuron_ids_list"
   ]
  },
  {
   "cell_type": "code",
   "execution_count": null,
   "id": "55b48f2a",
   "metadata": {},
   "outputs": [],
   "source": [
    "sorted_neuron_ids = a_raster_plot_manager.unit_sort_manager.neuron_ids[a_raster_plot_manager.unit_sort_manager.unit_sort_order] ## This finally matches the order of the labels\n",
    "sorted_neuron_ids\n"
   ]
  },
  {
   "cell_type": "code",
   "execution_count": null,
   "id": "d9416c94",
   "metadata": {},
   "outputs": [],
   "source": [
    "# `y_fragile_linear_neuron_IDX_map` gives map for fragile_linear_neuron_IDXs, not neuron_IDs\n",
    "sorted_y_fragile_linear_neuron_IDX_map = dict(sorted(deepcopy(a_raster_plot_manager.unit_sort_manager.y_fragile_linear_neuron_IDX_map).items(), key=lambda item: item[1]))\n",
    "print(sorted_y_fragile_linear_neuron_IDX_map) # {26: 0.5, 37: 1.5, 16: 2.5, 35: 3.5, 7: 4.5, 3: 5.5, 38: 6.5, 13: 7.5, 40: 8.5, 15: 9.5, 12: 10.5, 31: 11.5, 33: 12.5, 20: 13.5, 27: 14.5, 42: 15.5, 14: 16.5, 1: 17.5, 0: 18.5, 2: 19.5, 18: 20.5, 9: 21.5, 41: 22.5, 5: 23.5, 34: 24.5, 23: 25.5, 45: 26.5, 39: 27.5, 19: 28.5, 24: 29.5, 32: 30.5, 6: 31.5, 30: 32.5, 43: 33.5, 28: 34.5, 4: 35.5, 11: 36.5, 10: 37.5, 22: 38.5, 36: 39.5, 17: 40.5, 21: 41.5, 25: 42.5, 44: 43.5, 29: 44.5, 8: 45.5}\n"
   ]
  },
  {
   "cell_type": "code",
   "execution_count": null,
   "id": "699ceaa8",
   "metadata": {},
   "outputs": [],
   "source": [
    "win = rasters_display_outputs_list[0].win # GraphicsLayoutWidget \n",
    "saved_window_geometry = []\n",
    "\n",
    "\n",
    "saved_pos0 = win.saveGeometry() # QByteArray\n",
    "saved_pos0"
   ]
  },
  {
   "cell_type": "code",
   "execution_count": null,
   "id": "9f357d8c",
   "metadata": {},
   "outputs": [],
   "source": [
    "saved_window_geometry = [deepcopy(a_rasters_display_output.win.saveGeometry()) for a_rasters_display_output in rasters_display_outputs_list] # QByteArray\n"
   ]
  },
  {
   "cell_type": "code",
   "execution_count": null,
   "id": "74b0aa29",
   "metadata": {},
   "outputs": [],
   "source": [
    "win.restoreGeometry(saved_pos0)"
   ]
  },
  {
   "cell_type": "code",
   "execution_count": null,
   "id": "51b1dd08",
   "metadata": {},
   "outputs": [],
   "source": [
    "custom_font = pg.QtGui.QFont()\n",
    "custom_font.setPixelSize(30)\n",
    "\n",
    "a_main_plot.getAxis(\"bottom\").tickFont = custom_font\n",
    "a_main_plot.getAxis(\"bottom\").setStyle(tickTextOffset = 30)"
   ]
  },
  {
   "cell_type": "markdown",
   "id": "999baa18",
   "metadata": {},
   "source": []
  },
  {
   "cell_type": "code",
   "execution_count": null,
   "id": "aeb0f7ea",
   "metadata": {},
   "outputs": [],
   "source": [
    "# ay.tickSpacing() # tickSpacing() missing 3 required positional arguments: 'minVal', 'maxVal', and 'size'\n",
    "# ay.tickValues() # tickValues() missing 3 required positional arguments: 'minVal', 'maxVal', and 'size'\n",
    "\n"
   ]
  },
  {
   "cell_type": "code",
   "execution_count": null,
   "id": "87fd2831",
   "metadata": {},
   "outputs": [],
   "source": [
    "\n",
    "unsorted_neuron_ids = np.array([  9,  10,  11,  15,  16,  18,  24,  25,  26,  31,  39,  40,  43,  44,  47,  48,  51,  52,  53,  54,  56,  60,  61,  65,  66,  68,  70,  72,  75,  77,  78,  79,  80,  81,  82,  84,  85,  87,  89,  90,  92,  93,  98, 101, 102, 104])\n",
    "\n",
    "sort_list = np.array([ 7, 14, 20, 26, 38, 40, 43,  3, 12, 35, 37,  1, 16, 18, 13, 15, 31, 33, 27, 42,  0, 41, 34,  9,  2, 24, 39, 30,  4, 45, 32,  6, 28, 11, 21, 36, 17, 44, 23,  5,  8, 10, 19, 22, 25, 29])\n",
    "\n",
    "\n",
    "# np.all(\n",
    "\n"
   ]
  },
  {
   "cell_type": "code",
   "execution_count": null,
   "id": "90f22dc7",
   "metadata": {},
   "outputs": [],
   "source": [
    "_out_rank_order_event_raster_debugger.get_epoch_active_aclus()"
   ]
  },
  {
   "cell_type": "code",
   "execution_count": null,
   "id": "93f02e24",
   "metadata": {},
   "outputs": [],
   "source": [
    "_out_rank_order_event_raster_debugger.active_epoch_tuple"
   ]
  },
  {
   "cell_type": "code",
   "execution_count": null,
   "id": "a7931c5b",
   "metadata": {},
   "outputs": [],
   "source": [
    "debug_update_plot_titles(_out_rank_order_event_raster_debugger, an_idx=309)"
   ]
  },
  {
   "cell_type": "code",
   "execution_count": null,
   "id": "2868e774",
   "metadata": {},
   "outputs": [],
   "source": []
  },
  {
   "cell_type": "code",
   "execution_count": null,
   "id": "0536617f",
   "metadata": {
    "tags": [
     "figure",
     "debugger",
     "active"
    ]
   },
   "outputs": [],
   "source": [
    "from pyphoplacecellanalysis.General.Pipeline.Stages.ComputationFunctions.MultiContextComputationFunctions.DirectionalPlacefieldGlobalComputationFunctions import DirectionalPlacefieldGlobalDisplayFunctions\n",
    "\n",
    "curr_active_pipeline.reload_default_display_functions()\n",
    "epoch_active_aclus = None\n",
    "_out_directional_template_pfs_debugger = curr_active_pipeline.display(DirectionalPlacefieldGlobalDisplayFunctions._display_directional_template_debugger, included_any_context_neuron_ids=epoch_active_aclus)\n",
    "directional_template_pfs_debugger_on_update_callback = _out_directional_template_pfs_debugger.get('ui').on_update_callback\n",
    "template_debugger = _out_directional_template_pfs_debugger['obj']\n",
    "template_debugger"
   ]
  },
  {
   "cell_type": "code",
   "execution_count": null,
   "id": "43249ad1",
   "metadata": {},
   "outputs": [],
   "source": [
    "\n",
    "pf1D_heatmaps_dicts = template_debugger.plots.pf1D_heatmaps\n",
    "pf1D_heatmaps_dicts"
   ]
  },
  {
   "cell_type": "code",
   "execution_count": null,
   "id": "29d23ef1",
   "metadata": {},
   "outputs": [],
   "source": [
    "a_decoder_name = 'long_LR'\n",
    "pf1D_heatmaps = pf1D_heatmaps_dicts[a_decoder_name]\n",
    "curr_plot_widget, curr_img_item = pf1D_heatmaps\n",
    "curr_img_item"
   ]
  },
  {
   "cell_type": "code",
   "execution_count": null,
   "id": "855cec95",
   "metadata": {},
   "outputs": [],
   "source": [
    "curr_img_item.setBorder(pg.mkPen(color='#ffffff', width=2))"
   ]
  },
  {
   "cell_type": "code",
   "execution_count": null,
   "id": "5d7d3736",
   "metadata": {},
   "outputs": [],
   "source": [
    "curr_plot_widget.setViewportMargins(0, 0, 0, 0)\n",
    "curr_plot_widget.setBackgroundBrush(pg.mkBrush(color='grey'))\n",
    "# curr_plot_widget.setForegroundBrush(pg.mkBrush(color='green'))"
   ]
  },
  {
   "cell_type": "code",
   "execution_count": null,
   "id": "27c9d31d",
   "metadata": {},
   "outputs": [],
   "source": [
    "roi0 = pg.LineSegmentROI([[10, 64], [120,64]], pen='r')\n",
    "curr_plot_widget.addItem(roi0)"
   ]
  },
  {
   "cell_type": "code",
   "execution_count": null,
   "id": "d5e75dbd",
   "metadata": {},
   "outputs": [],
   "source": [
    "setBorder"
   ]
  },
  {
   "cell_type": "code",
   "execution_count": null,
   "id": "e59a6e4e",
   "metadata": {},
   "outputs": [],
   "source": [
    "template_debugger."
   ]
  },
  {
   "cell_type": "code",
   "execution_count": null,
   "id": "368f7bd9",
   "metadata": {},
   "outputs": [],
   "source": [
    "template_debugger = _out_directional_template_pfs_debugger['obj']\n",
    "template_debugger"
   ]
  },
  {
   "cell_type": "code",
   "execution_count": null,
   "id": "d8789ab6",
   "metadata": {},
   "outputs": [],
   "source": [
    "plots = _out_directional_template_pfs_debugger['plots']\n"
   ]
  },
  {
   "cell_type": "code",
   "execution_count": null,
   "id": "9ff77e3f",
   "metadata": {},
   "outputs": [],
   "source": [
    "\n",
    "# image_bounds_extent, x_range, y_range = pyqtplot_build_image_bounds_extent(xbin_edges, ybin_edges, margin=2.0, debug_print=debug_print)\n",
    "\n",
    "decoders_dict = track_templates.get_decoders_dict()\n",
    "# sorted_pf_image_bounds_list = [pyqtplot_build_image_bounds_extent(a_decoder.pf.ratemap.xbin, None, margin=0.0, debug_print=False) for a_decoder in decoders_dict.values()]\n",
    "pf_xbins_list = [a_decoder.pf.ratemap.xbin for a_decoder in decoders_dict.values()]\n",
    "pf_xbins_list"
   ]
  },
  {
   "cell_type": "code",
   "execution_count": null,
   "id": "3daeb371",
   "metadata": {},
   "outputs": [],
   "source": [
    "_out_directional_template_pfs_debugger['data'].sorted_neuron_IDs_lists\n",
    "\n",
    "sort_helper_neuron_id_to_sort_IDX_dicts = deepcopy(_out_directional_template_pfs_debugger['data'].sort_helper_neuron_id_to_sort_IDX_dicts)\n",
    "sort_helper_neuron_id_to_sort_IDX_dicts"
   ]
  },
  {
   "cell_type": "code",
   "execution_count": null,
   "id": "af51883d",
   "metadata": {},
   "outputs": [],
   "source": [
    "zip(track_templates.decoder_neuron_IDs_list"
   ]
  },
  {
   "cell_type": "code",
   "execution_count": null,
   "id": "417171ea",
   "metadata": {},
   "outputs": [],
   "source": [
    "decoder_aclu_peak_location_dict_list = [dict(zip(neuron_IDs, peak_locations)) for neuron_IDs, peak_locations in zip(track_templates.decoder_neuron_IDs_list, track_templates.decoder_peak_location_list)]\n",
    "decoder_aclu_peak_location_dict_list"
   ]
  },
  {
   "cell_type": "code",
   "execution_count": null,
   "id": "fdb387d7",
   "metadata": {},
   "outputs": [],
   "source": [
    "sorted_pf_peak_locations_list = [peak_locations[np.array(list(a_sort_helper_neuron_id_to_IDX_dict.values())), :] for peak_locations, a_sort_helper_neuron_id_to_IDX_dict in zip(track_templates.decoder_peak_location_list, sort_helper_neuron_id_to_sort_IDX_dicts)]\n",
    "sorted_pf_peak_locations_list"
   ]
  },
  {
   "cell_type": "code",
   "execution_count": null,
   "id": "cdfe11f0",
   "metadata": {},
   "outputs": [],
   "source": [
    "sorted_peak_locations_list = []\n",
    "for decoder_i, a_sorted_neuron_IDs in enumerate(_out_directional_template_pfs_debugger['data'].sorted_neuron_IDs_lists):\n",
    "    aclu_peak_location_dict = decoder_aclu_peak_location_dict_list[decoder_i]\n",
    "    sorted_peak_locations = np.array([aclu_peak_location_dict[neuron_ID] for neuron_ID in a_sorted_neuron_IDs])\n",
    "    sorted_peak_locations_list.append(sorted_peak_locations)\n",
    "    \n",
    "sorted_peak_locations_list\n",
    "\n",
    "# [np.array([6.15043, 25.4731, 12.031, 8.85626, 5.3637, 11.8197, 5.80955, 10.2986, 6.78427, 8.45758, 14.3063, 27.0524, 17.0529, 24.5788, 32.8509, 21.2446, 18.0745, 20.5756, 25.4799, 20.3333, 27.6385, 28.6967, 25.9941, 22.8992, 28.8015, 28.6053, 25.139, 25.3587, 29.5125, 27.5566, 35.2175, 38.4216, 29.2687, 30.6621, 42.6311, 40.3638, 33.9969, 36.6177, 49.2207, 51.3955, 47.9022, 47.6136, 51.998, 49.4926, 41.4377, 47.1999, 43.742, 53.5459, 32.7693, 48.7967, 44.8252]),\n",
    "#  np.array([28.7208, 26, 21.0486, 8.5512, 22.3205, 9.01325, 25.4725, 10.3416, 13.241, 17.2689, 22.3106, 24.7762, 24.8903, 25.2447, 25.1163, 25.4448, 36.6959, 28.793, 29.1403, 39.5391, 30.1373, 36.4428, 40.6361, 36.5509, 33.8929, 40.8034, 32.6057, 42.5752, 45.119, 38.1757, 45.2654, 37.3632, 44.1078, 37.7745, 43.5109, 47.3541, 35.8774, 53.5795, 52.7453, 47.9529, 55.259, 41.9756, 45.9458, 55.1127, 56.0535, 48.7536, 41.2493, 50.7538, 44.8973, 51.8794, 57.9122, 50.1228, 45.4056, 41.0653]),\n",
    "#  np.array([18.887, 18.6719, 20.2275, 16.9419, 26.551, 21.3169, 18.7296, 27.3849, 17.7236, 19.4693, 19.4895, 25.2936, 25.3081, 24.7003, 23.4874, 27.0547, 25.0572, 27.1248, 27.5105, 29.5623, 27.4452, 31.6411, 32.4, 30.1349, 34.4215, 24.6706, 29.7229, 28.5193, 31.1721, 27.8298, 36.1066, 36.4134, 34.1849, 29.2532, 34.0552, 39.1483, 41.3989, 40.4394, 29.7926, 43.4337, 42.9244, 42.5242, 44.9386, 40.9853, 40.7456, 37.0691, 43.3325, 44.68, 42.5656, 47.5149, 48.4888]),\n",
    "#  np.array([18.8597, 23.9972, 16.0965, 21.4327, 16.403, 17.2006, 22.7309, 25.8778, 24.2465, 30.5554, 25.8354, 25.2319, 28.6533, 33.201, 27.7538, 32.6444, 28.6205, 31.1965, 29.0589, 32.9983, 31.4812, 32.4093, 33.1557, 38.4577, 33.835, 35.9688, 38.2109, 33.9283, 36.4222, 36.8922, 34.6809, 39.246, 39.7856, 41.6362, 33.9085, 35.2723, 39.4946, 40.6438, 39.6151, 44.702, 45.3956, 45.1393, 43.329, 45.8816, 41.4404, 43.5352, 43.4762, 34.4696, 43.5987, 47.8442, 32.1814, 41.0134, 49.8063, 49.2903])]\n",
    "\n"
   ]
  },
  {
   "cell_type": "code",
   "execution_count": null,
   "id": "80d7353d",
   "metadata": {},
   "outputs": [],
   "source": [
    "a_widget = plots.pf1D_heatmaps['long_LR'][0] # PlotWidget \n",
    "# a_widget.addItem("
   ]
  },
  {
   "cell_type": "code",
   "execution_count": null,
   "id": "bd973981",
   "metadata": {},
   "outputs": [],
   "source": [
    "# directional_template_pfs_debugger_on_update_callback(np.array([77, 18, 25]))\n",
    "\n",
    "directional_template_pfs_debugger_on_update_callback(np.array([9,  26,  31,  39,  40,  43,  47,  52,  53,  54,  60,  61,  65,  68,  72,  75,  77,  78,  81,  82,  84,  85,  90,  92,  93,  98, 102]))\n",
    "\n"
   ]
  },
  {
   "cell_type": "code",
   "execution_count": null,
   "id": "04124521",
   "metadata": {},
   "outputs": [],
   "source": [
    "# _out_directional_template_pfs_debugger\n",
    "\n",
    "win = _out_directional_template_pfs_debugger.get('win')\n",
    "app = _out_directional_template_pfs_debugger.get('app')\n",
    "ui = _out_directional_template_pfs_debugger.get('ui')\n",
    "plots = _out_directional_template_pfs_debugger.get('plots')\n",
    "data = _out_directional_template_pfs_debugger.get('data')\n"
   ]
  },
  {
   "cell_type": "code",
   "execution_count": null,
   "id": "6ce86d90",
   "metadata": {},
   "outputs": [],
   "source": [
    "data.unsorted_included_any_context_neuron_ids"
   ]
  },
  {
   "cell_type": "code",
   "execution_count": null,
   "id": "1220d352",
   "metadata": {},
   "outputs": [],
   "source": [
    "a_decoder_name = 'short_RL'\n",
    "curr_win, curr_img = plots.pf1D_heatmaps[a_decoder_name] # pyphoplacecellanalysis.External.pyqtgraph.widgets.PlotWidget.PlotWidget\n",
    "\n",
    "# a_text_item = ui.text_items_dict[a_decoder_name][31] # pyqtgraph.graphicsItems.TextItem.TextItem\n",
    "\n",
    "unused_text_items_dict = {aclu:a_text_item for aclu, a_text_item in ui.text_items_dict[a_decoder_name].items() if aclu not in data.unsorted_included_any_context_neuron_ids}\n",
    "\n",
    "for aclu, a_text_item in unused_text_items_dict.items():\n",
    "\ta_text_item.hide()\n"
   ]
  },
  {
   "cell_type": "code",
   "execution_count": null,
   "id": "ee16d641",
   "metadata": {},
   "outputs": [],
   "source": [
    "\n",
    "for aclu, a_text_item in ui.text_items_dict[a_decoder_name].items():\n",
    "\tcurr_win.removeItem(a_text_item)\n",
    "\ta_text_item.deleteLater()\n",
    "\n",
    "# curr_win.addItem(text)\n",
    "# curr_win.add"
   ]
  },
  {
   "cell_type": "code",
   "execution_count": null,
   "id": "a6027b20",
   "metadata": {},
   "outputs": [],
   "source": [
    "# data #'sorted_neuron_IDs_lists'\n",
    "curr_active_pipeline.display('_display_1d_placefield_occupancy', 'maze_any')"
   ]
  },
  {
   "cell_type": "code",
   "execution_count": null,
   "id": "c1e9a8ce",
   "metadata": {},
   "outputs": [],
   "source": [
    "curr_active_pipeline.display('_display_2d_placefield_occupancy', 'maze_any')"
   ]
  },
  {
   "cell_type": "code",
   "execution_count": null,
   "id": "b1f353f3",
   "metadata": {},
   "outputs": [],
   "source": [
    "curr_active_pipeline.registered_display_function_docs_dict\n",
    "\n",
    "_display_1d_placefield_occupancy\n",
    "_display_2d_placefield_occupancy"
   ]
  },
  {
   "cell_type": "markdown",
   "id": "1e4b438c",
   "metadata": {
    "notebookRunGroups": {
     "groupValue": "21"
    }
   },
   "source": [
    "### Independent DirectionalTemplatePFsDebugger for testing"
   ]
  },
  {
   "cell_type": "code",
   "execution_count": null,
   "id": "a5f7ac4e",
   "metadata": {
    "notebookRunGroups": {
     "groupValue": "3"
    },
    "tags": [
     "figure"
    ]
   },
   "outputs": [],
   "source": [
    "# _display_directional_laps_overview:\n",
    "curr_active_pipeline.prepare_for_display()\n",
    "curr_active_pipeline.reload_default_display_functions()\n",
    "session_description: str = curr_active_pipeline.get_session_context().get_description()\n",
    "print(f'session_description: {session_description}')\n",
    "# _out = curr_active_pipeline.display(DirectionalPlacefieldGlobalDisplayFunctions._display_directional_laps_overview)\n",
    "_out_all_cells_directional_template_pfs_debugger = curr_active_pipeline.display(DirectionalPlacefieldGlobalDisplayFunctions._display_directional_template_debugger, included_any_context_neuron_ids=None, figure_name='All Cells (Independent)')"
   ]
  },
  {
   "cell_type": "code",
   "execution_count": null,
   "id": "984662f6",
   "metadata": {},
   "outputs": [],
   "source": [
    "_out_all_cells_directional_template_pfs_debugger.__repr__()"
   ]
  },
  {
   "cell_type": "code",
   "execution_count": null,
   "id": "6b612abf",
   "metadata": {},
   "outputs": [],
   "source": [
    "_out_rank_order_event_raster_debugger.on_update_epoch_IDX(298)"
   ]
  },
  {
   "cell_type": "code",
   "execution_count": null,
   "id": "aeb7f089",
   "metadata": {},
   "outputs": [],
   "source": [
    "def convert_to_seconds(minutes: int, seconds: float) -> float:\n",
    "\t\"\"\" returns fractional seconds \"\"\"\n",
    "\treturn (60.0 * float(minutes)) + seconds\n",
    "\n",
    "convert_to_seconds(18, 37.5) # 1117.5"
   ]
  },
  {
   "cell_type": "code",
   "execution_count": null,
   "id": "01b8607b",
   "metadata": {},
   "outputs": [],
   "source": [
    "# Set spike emphasis on debug rasters?\n",
    "\n",
    "# Get debug rasters to match the colors in template viewer?\n"
   ]
  },
  {
   "cell_type": "markdown",
   "id": "220c19f9",
   "metadata": {
    "notebookRunGroups": {
     "groupValue": "2"
    }
   },
   "source": [
    "# Plot the z-scores differences and their raw-values"
   ]
  },
  {
   "cell_type": "code",
   "execution_count": 12,
   "id": "8a1cad5d",
   "metadata": {},
   "outputs": [],
   "source": [
    "from pyphoplacecellanalysis.General.Pipeline.Stages.ComputationFunctions.MultiContextComputationFunctions.RankOrderComputations import plot_rank_order_epoch_inst_fr_result_tuples\n",
    "\n",
    "ripple_outputs = plot_rank_order_epoch_inst_fr_result_tuples(curr_active_pipeline, ripple_result_tuple, 'Ripple')\n"
   ]
  },
  {
   "cell_type": "code",
   "execution_count": null,
   "id": "a156df8d",
   "metadata": {},
   "outputs": [],
   "source": [
    "\n",
    "# Usage of the function for Lap\n",
    "lap_outputs = plot_rank_order_epoch_inst_fr_result_tuples(curr_active_pipeline, laps_result_tuple, 'Lap')"
   ]
  },
  {
   "cell_type": "code",
   "execution_count": null,
   "id": "c36856cb",
   "metadata": {},
   "outputs": [],
   "source": [
    "## filter events by (|z| > 1.0)\n",
    "ripple_result_tuple.active_epochs\n",
    "ripple_result_tuple.long_best_dir_z_score_values"
   ]
  },
  {
   "cell_type": "code",
   "execution_count": null,
   "id": "de5402b9",
   "metadata": {},
   "outputs": [],
   "source": [
    "# ripple_result_tuple.directional_likelihoods_tuple\n",
    "ripple_result_tuple.directional_likelihoods_tuple.long_best_direction_indices[105] # 1, "
   ]
  },
  {
   "cell_type": "code",
   "execution_count": null,
   "id": "23ac85b9",
   "metadata": {},
   "outputs": [],
   "source": [
    "ripple_result_tuple.directional_likelihoods_tuple.short_best_direction_indices[105]"
   ]
  },
  {
   "cell_type": "code",
   "execution_count": null,
   "id": "751e2ba3",
   "metadata": {},
   "outputs": [],
   "source": [
    "ripple_result_tuple.long_best_dir_z_score_values[105]"
   ]
  },
  {
   "cell_type": "code",
   "execution_count": null,
   "id": "9372e0f2",
   "metadata": {},
   "outputs": [],
   "source": [
    "ripple_result_tuple.short_best_dir_z_score_values[105]"
   ]
  },
  {
   "cell_type": "code",
   "execution_count": null,
   "id": "e57c1873",
   "metadata": {},
   "outputs": [],
   "source": [
    "ripple_result_tuple.active_epochs"
   ]
  },
  {
   "cell_type": "code",
   "execution_count": null,
   "id": "905e6b71",
   "metadata": {},
   "outputs": [],
   "source": [
    "np.shape(ripple_result_tuple.long_best_dir_z_score_values)"
   ]
  },
  {
   "cell_type": "code",
   "execution_count": null,
   "id": "ff13302a",
   "metadata": {},
   "outputs": [],
   "source": [
    "np.shape(ripple_result_tuple.short_best_dir_z_score_values)"
   ]
  },
  {
   "cell_type": "code",
   "execution_count": null,
   "id": "c18e3936",
   "metadata": {},
   "outputs": [],
   "source": [
    "global_replays.n_epochs"
   ]
  },
  {
   "cell_type": "code",
   "execution_count": null,
   "id": "9e99e913",
   "metadata": {},
   "outputs": [],
   "source": [
    "global_replays"
   ]
  },
  {
   "cell_type": "code",
   "execution_count": null,
   "id": "4d468a50",
   "metadata": {},
   "outputs": [],
   "source": [
    "ratemap = long_pf1D.ratemap\n",
    "ratemap.tuning_curve_unsmoothed_peak_firing_rates"
   ]
  },
  {
   "cell_type": "code",
   "execution_count": null,
   "id": "77bebb16",
   "metadata": {},
   "outputs": [],
   "source": [
    "type(rank_order_results)"
   ]
  },
  {
   "cell_type": "code",
   "execution_count": null,
   "id": "c6b025f2",
   "metadata": {},
   "outputs": [],
   "source": [
    "from pyphoplacecellanalysis.General.Pipeline.Stages.ComputationFunctions.MultiContextComputationFunctions.RankOrderComputations import DirectionalRankOrderResult\n",
    "\n",
    "# type(ripple_result_tuple)\n",
    "ripple_result_tuple.plot_histograms()"
   ]
  },
  {
   "cell_type": "code",
   "execution_count": null,
   "id": "b786bb6c",
   "metadata": {},
   "outputs": [],
   "source": [
    "# ripple_result_tuple.long_short_best_dir_z_score_diff_values\n",
    "\n"
   ]
  },
  {
   "cell_type": "code",
   "execution_count": null,
   "id": "628ae69d",
   "metadata": {},
   "outputs": [],
   "source": [
    "ripple_result_tuple.directional_likelihoods_tuple.long_relative_direction_likelihoods.shape"
   ]
  },
  {
   "cell_type": "code",
   "execution_count": null,
   "id": "be485e17",
   "metadata": {},
   "outputs": [],
   "source": [
    "ripple_result_tuple.directional_likelihoods_tuple.short_relative_direction_likelihoods.shape"
   ]
  },
  {
   "cell_type": "code",
   "execution_count": null,
   "id": "dcd965be",
   "metadata": {},
   "outputs": [],
   "source": [
    "ripple_result_tuple.directional_likelihoods_tuple.long_best_direction_indices\n",
    "\n"
   ]
  },
  {
   "cell_type": "code",
   "execution_count": null,
   "id": "0750edae",
   "metadata": {},
   "outputs": [],
   "source": [
    "ripple_result_tuple.short_best_dir_z_score_values"
   ]
  },
  {
   "cell_type": "code",
   "execution_count": null,
   "id": "3213cd164073dbb3",
   "metadata": {
    "ExecuteTime": {
     "end_time": "2023-11-16T23:24:06.810860500Z",
     "start_time": "2023-11-16T23:24:06.644858700Z"
    }
   },
   "outputs": [],
   "source": [
    "# 2023-11-16_LapsRankOrderHistogram Figure:\n",
    "pd.DataFrame({'long_z_scores': laps_result_tuple.long_best_dir_z_score_values, 'short_z_scores': laps_result_tuple.short_best_dir_z_score_values}).hist()"
   ]
  },
  {
   "cell_type": "markdown",
   "id": "f1f2a9a6",
   "metadata": {},
   "source": [
    "# Create a new `SpikeRaster2D` instance using `_display_spike_raster_pyqtplot_2D` and capture its outputs:\n"
   ]
  },
  {
   "cell_type": "code",
   "execution_count": null,
   "id": "7cc87fb8",
   "metadata": {},
   "outputs": [],
   "source": [
    "curr_active_pipeline.prepare_for_display()"
   ]
  },
  {
   "cell_type": "code",
   "execution_count": null,
   "id": "82cc7400",
   "metadata": {},
   "outputs": [],
   "source": [
    "# Create a new `SpikeRaster2D` instance using `_display_spike_raster_pyqtplot_2D` and capture its outputs:\n",
    "# active_2d_plot, active_3d_plot, spike_raster_window = curr_active_pipeline.plot._display_spike_rasters_pyqtplot_2D()\n",
    "\n",
    "active_2d_plot, active_3d_plot, spike_raster_window = curr_active_pipeline.display('_display_spike_rasters_pyqtplot_2D', 'maze_any') # 'maze_any'\n"
   ]
  },
  {
   "cell_type": "code",
   "execution_count": null,
   "id": "39840338",
   "metadata": {},
   "outputs": [],
   "source": [
    "active_2d_plot, active_3d_plot, spike_raster_window = curr_active_pipeline.plot._display_spike_rasters_pyqtplot_2D()\n"
   ]
  },
  {
   "cell_type": "code",
   "execution_count": null,
   "id": "e75eb376",
   "metadata": {},
   "outputs": [],
   "source": [
    "spike_raster_window"
   ]
  },
  {
   "cell_type": "code",
   "execution_count": null,
   "id": "10b7afeb",
   "metadata": {},
   "outputs": [],
   "source": [
    "spikes_window = spike_raster_window.spikes_window # SpikesDataframeWindow\n",
    "\n",
    "bottomPlaybackControlBarWidget = spike_raster_window.ui.bottomPlaybackControlBarWidget # Spike3DRasterBottomPlaybackControlBar \n",
    "\n",
    "doubleSpinBox_ActiveWindowStartTime = bottomPlaybackControlBarWidget.ui.doubleSpinBox_ActiveWindowStartTime\n",
    "doubleSpinBox_ActiveWindowEndTime = bottomPlaybackControlBarWidget.ui.doubleSpinBox_ActiveWindowEndTime\n",
    "\n",
    "\n",
    "# spikes_window.timeWindow.start\n",
    "# spikes_window.active_window_start_time\n",
    "# spikes_window.update_window_start_end(451.8908457518555, 451.9895490613999) ## Works but does not trigger refresh/update of the window. The changes are reflected as soon as you try to scroll at all though.\n",
    "# spikes_window.active_window_end_time\n",
    "\n",
    "print(f'spikes_window.active_window_start_time: {spikes_window.active_window_start_time}, spikes_window.active_window_end_time: {spikes_window.active_window_end_time}')\n",
    "# need to block signals:\n",
    "# doubleSpinBox_ActiveWindowStartTime.blockSignals(True)\n",
    "# doubleSpinBox_ActiveWindowEndTime.blockSignals(True)\n",
    "doubleSpinBox_ActiveWindowStartTime.setValue(spikes_window.active_window_start_time)\n",
    "doubleSpinBox_ActiveWindowEndTime.setValue(spikes_window.active_window_end_time)\n",
    "# doubleSpinBox_ActiveWindowStartTime.blockSignals(False) # unblock the signals when done\n",
    "# doubleSpinBox_ActiveWindowEndTime.blockSignals(False)\n",
    "\n",
    "\n",
    "# @pyqtExceptionPrintingSlot(float, float)\n",
    "def on_active_window_changed(start_t, end_t, _obj):\n",
    "\t# need to block signals:\n",
    "\t# doubleSpinBox_ActiveWindowStartTime.blockSignals(True)\n",
    "\t# doubleSpinBox_ActiveWindowEndTime.blockSignals(True)\n",
    "\tif start_t is not None:\n",
    "\t\tdoubleSpinBox_ActiveWindowStartTime.setValue(start_t)\n",
    "\tif end_t is not None:\n",
    "\t\tdoubleSpinBox_ActiveWindowEndTime.setValue(end_t)\n",
    "\t# doubleSpinBox_ActiveWindowStartTime.blockSignals(False) # unblock the signals when done\n",
    "\t# doubleSpinBox_ActiveWindowEndTime.blockSignals(False)\n",
    "\n",
    "curr_window_ctrls_connection = spikes_window.windowed_data_window_updated_signal.connect(on_active_window_changed)\n"
   ]
  },
  {
   "cell_type": "code",
   "execution_count": null,
   "id": "113a3acd",
   "metadata": {},
   "outputs": [],
   "source": [
    "doubleSpinBox_ActiveWindowStartTime.setReadOnly(True)\n",
    "doubleSpinBox_ActiveWindowEndTime.setReadOnly(True)\n",
    "\n",
    "spikes_window.on_window_changed.connect("
   ]
  },
  {
   "cell_type": "code",
   "execution_count": null,
   "id": "8319e362",
   "metadata": {},
   "outputs": [],
   "source": [
    "doubleSpinBox_ActiveWindowStartTime.setVisible(False)\n",
    "bottomPlaybackControlBarWidget.setVisible(False)"
   ]
  },
  {
   "cell_type": "code",
   "execution_count": null,
   "id": "01d043d6",
   "metadata": {},
   "outputs": [],
   "source": [
    "# global_epoch_context\n",
    "curr_active_pipeline.reload_default_display_functions()\n",
    "# curr_active_pipeline.prepare_for_display()\n",
    "curr_active_pipeline.clear_display_outputs()\n"
   ]
  },
  {
   "cell_type": "code",
   "execution_count": null,
   "id": "baddcf94",
   "metadata": {},
   "outputs": [],
   "source": []
  },
  {
   "cell_type": "code",
   "execution_count": null,
   "id": "2441e547",
   "metadata": {},
   "outputs": [],
   "source": [
    "# Gets the existing SpikeRasterWindow or creates a new one if one doesn't already exist:\n",
    "from pyphocorehelpers.gui.Qt.TopLevelWindowHelper import TopLevelWindowHelper\n",
    "import pyphoplacecellanalysis.External.pyqtgraph as pg # Used to get the app for TopLevelWindowHelper.top_level_windows\n",
    "## For searching with `TopLevelWindowHelper.all_widgets(...)`:\n",
    "from pyphoplacecellanalysis.GUI.PyQtPlot.Widgets.SpikeRasterWidgets.Spike2DRaster import Spike2DRaster\n",
    "from pyphoplacecellanalysis.GUI.PyQtPlot.Widgets.SpikeRasterWidgets.Spike3DRaster import Spike3DRaster\n",
    "from pyphoplacecellanalysis.GUI.Qt.SpikeRasterWindows.Spike3DRasterWindowWidget import Spike3DRasterWindowWidget\n",
    "\n",
    "found_spike_raster_windows = TopLevelWindowHelper.all_widgets(pg.mkQApp(), searchType=Spike3DRasterWindowWidget)\n",
    "\n",
    "if len(found_spike_raster_windows) < 1:\n",
    "\t# no existing spike_raster_windows. Make a new one\n",
    "\tprint(f'no existing SpikeRasterWindow. Creating a new one.')\n",
    "\t# Create a new `SpikeRaster2D` instance using `_display_spike_raster_pyqtplot_2D` and capture its outputs:\n",
    "\t# active_2d_plot, active_3d_plot, spike_raster_window = curr_active_pipeline.plot._display_spike_rasters_pyqtplot_2D()\n",
    "\n",
    "\tactive_2d_plot, active_3d_plot, spike_raster_window = curr_active_pipeline.plot._display_spike_rasters_pyqtplot_2D()\n",
    "\n",
    "else:\n",
    "\tprint(f'found {len(found_spike_raster_windows)} existing Spike3DRasterWindowWidget windows using TopLevelWindowHelper.all_widgets(...). Will use the most recent.')\n",
    "\t# assert len(found_spike_raster_windows) == 1, f\"found {len(found_spike_raster_windows)} Spike3DRasterWindowWidget windows using TopLevelWindowHelper.all_widgets(...) but require exactly one.\"\n",
    "\t# Get the most recent existing one and reuse that:\n",
    "\tspike_raster_window = found_spike_raster_windows[0]\n",
    "\n",
    "\n",
    "# Extras:\n",
    "active_2d_plot = spike_raster_window.spike_raster_plt_2d # <pyphoplacecellanalysis.GUI.PyQtPlot.Widgets.SpikeRasterWidgets.Spike2DRaster.Spike2DRaster at 0x196c7244280>\n",
    "active_3d_plot = spike_raster_window.spike_raster_plt_3d # <pyphoplacecellanalysis.GUI.PyQtPlot.Widgets.SpikeRasterWidgets.Spike2DRaster.Spike2DRaster at 0x196c7244280>\n",
    "main_graphics_layout_widget = active_2d_plot.ui.main_graphics_layout_widget # GraphicsLayoutWidget\n",
    "main_plot_widget = active_2d_plot.plots.main_plot_widget # PlotItem\n",
    "background_static_scroll_plot_widget = active_2d_plot.plots.background_static_scroll_window_plot # PlotItem"
   ]
  },
  {
   "cell_type": "code",
   "execution_count": null,
   "id": "7c6338da",
   "metadata": {},
   "outputs": [],
   "source": [
    "spike_raster_window.isVisible() # False\n",
    "# spike_raster_window.show()\n",
    "spike_raster_window.close()"
   ]
  },
  {
   "cell_type": "code",
   "execution_count": null,
   "id": "0bafe4df",
   "metadata": {},
   "outputs": [],
   "source": [
    "spike_raster_window.connection_man.active_connections"
   ]
  },
  {
   "cell_type": "code",
   "execution_count": null,
   "id": "0a801d59",
   "metadata": {},
   "outputs": [],
   "source": [
    "found_any_window = TopLevelWindowHelper.top_level_windows(pg.mkQApp())\n",
    "found_any_window"
   ]
  },
  {
   "cell_type": "code",
   "execution_count": null,
   "id": "17d815bb",
   "metadata": {},
   "outputs": [],
   "source": [
    "# print windows:\n",
    "[print_widget_hierarchy(v) for k, v in found_any_window.items()]"
   ]
  },
  {
   "cell_type": "code",
   "execution_count": null,
   "id": "5c00e166",
   "metadata": {},
   "outputs": [],
   "source": [
    "_display_out = curr_active_pipeline.last_added_display_output\n"
   ]
  },
  {
   "cell_type": "code",
   "execution_count": null,
   "id": "b06ea13e",
   "metadata": {},
   "outputs": [],
   "source": [
    "ipspikesDataExplorer = _display_out['ipspikesDataExplorer']\n",
    "pActiveSpikesBehaviorPlotter = _display_out['plotter']\n"
   ]
  },
  {
   "cell_type": "code",
   "execution_count": null,
   "id": "0d0cd1f5",
   "metadata": {},
   "outputs": [],
   "source": [
    "ipspikesDataExplorer\n",
    "\n"
   ]
  },
  {
   "cell_type": "code",
   "execution_count": null,
   "id": "2c92cd2f",
   "metadata": {},
   "outputs": [],
   "source": [
    " = curr_active_pipeline.last_added_display_output\n",
    "_display_out\n"
   ]
  },
  {
   "cell_type": "code",
   "execution_count": null,
   "id": "e02ac639",
   "metadata": {},
   "outputs": [],
   "source": [
    "\n",
    "\n",
    "ipspikesDataExplorer = self._display_output['ipspikesDataExplorer']"
   ]
  },
  {
   "cell_type": "code",
   "execution_count": null,
   "id": "bd461fb3",
   "metadata": {},
   "outputs": [],
   "source": [
    "### Adjusting Spike Emphasis:\n",
    "#### Usage Examples:\n",
    "from pyphoplacecellanalysis.General.Mixins.SpikesRenderingBaseMixin import SpikeEmphasisState\n",
    "from neuropy.core.neuron_identities import NeuronType\n"
   ]
  },
  {
   "cell_type": "code",
   "execution_count": null,
   "id": "b1dd5449",
   "metadata": {},
   "outputs": [],
   "source": [
    "\n",
    "## Example 1: De-emphasize spikes excluded from the placefield calculations:\n",
    "is_spike_included_in_pf = np.isin(spike_raster_window.spike_raster_plt_2d.spikes_df.index, active_pf_2D.filtered_spikes_df.index)\n",
    "spike_raster_window.spike_raster_plt_2d.update_spike_emphasis(np.logical_not(is_spike_included_in_pf), SpikeEmphasisState.Deemphasized)\n",
    "\n",
    "## Example 2: De-emphasize spikes that don't have their 'aclu' from a given set of indicies:\n",
    "is_spike_included = spike_raster_window.spike_raster_plt_2d.spikes_df.aclu.to_numpy() == 2\n",
    "spike_raster_window.spike_raster_plt_2d.update_spike_emphasis(np.logical_not(is_spike_included), SpikeEmphasisState.Deemphasized)\n",
    "\n",
    "## Example 3: De-emphasize all spikes \n",
    "active_2d_plot.update_spike_emphasis(new_emphasis_state=SpikeEmphasisState.Deemphasized)\n",
    "\n",
    "## Example 4: Hide all spikes entirely\n",
    "active_2d_plot.update_spike_emphasis(new_emphasis_state=SpikeEmphasisState.Hidden)\n"
   ]
  },
  {
   "cell_type": "code",
   "execution_count": null,
   "id": "98b9a61d",
   "metadata": {},
   "outputs": [],
   "source": [
    "## Setup: Hide all non-pyramidal spikes entirely\n",
    "spikes_df = spike_raster_window.spikes_df\n",
    "spike_raster_window.spike_raster_plt_2d.update_spike_emphasis(np.logical_not((spikes_df.neuron_type == NeuronType.from_string('pyr'))), SpikeEmphasisState.Hidden)"
   ]
  },
  {
   "cell_type": "code",
   "execution_count": null,
   "id": "f3feb699",
   "metadata": {},
   "outputs": [],
   "source": [
    "spikes_window = spike_raster_window.spikes_window # SpikesDataframeWindow\n",
    "# spikes_window.update_window_start_end(451.8908457518555, 451.9895490613999) ## Works but does not trigger refresh/update of the window. The changes are reflected as soon as you try to scroll at all though.\n"
   ]
  },
  {
   "cell_type": "code",
   "execution_count": null,
   "id": "1ae85b4a",
   "metadata": {},
   "outputs": [],
   "source": [
    "# 20*60.0 + 50.0 +  0.218 = 1250.218\n",
    "\n",
    "spikes_window.update_window_start_end(1250.218, (1250.218 + 3.0))\n",
    "\n"
   ]
  },
  {
   "cell_type": "code",
   "execution_count": null,
   "id": "325548b0",
   "metadata": {},
   "outputs": [],
   "source": [
    "spikes_window.window_duration # Prints the current window's duration. The win. dur. label control in the left bar is not updated.\n",
    "\n",
    "desired_window_fraction: float = 0.1 # 10% of the window is the default jump size\n",
    "relevant_jump_duration: float = spikes_window.window_duration * desired_window_fraction\n",
    "relevant_jump_duration\n"
   ]
  },
  {
   "cell_type": "code",
   "execution_count": null,
   "id": "7bc81002",
   "metadata": {},
   "outputs": [],
   "source": [
    "from pyphoplacecellanalysis.PhoPositionalData.plotting.mixins.spikes_mixins import SpikeRenderingPyVistaMixin\n",
    "from pyphoplacecellanalysis.GUI.PyVista.InteractivePlotter.InteractivePlaceCellTuningCurvesDataExplorer import InteractivePlaceCellTuningCurvesDataExplorer\n",
    "# from pyphoplacecellanalysis.GUI.PyVista.InteractivePlotter.InteractivePlaceCellTuningCurvesDataExplorer import InteractivePlaceCellTuningCurvesDataExplorer\n",
    "from pyphoplacecellanalysis.GUI.PyVista.InteractivePlotter.InteractivePlaceCellDataExplorer import InteractivePlaceCellDataExplorer\n",
    "\n",
    "found_windows_of_type = TopLevelWindowHelper.all_widgets(pg.mkQApp(), searchType=InteractivePlaceCellDataExplorer)\n",
    "found_windows_of_type\n",
    "TopLevelWindowHelper.top_level_windows(pg.mkQApp(), only_visible=True)"
   ]
  },
  {
   "cell_type": "code",
   "execution_count": null,
   "id": "e2abd93f",
   "metadata": {},
   "outputs": [],
   "source": [
    "(451.8908457518555, 451.9895490613999)"
   ]
  },
  {
   "cell_type": "code",
   "execution_count": null,
   "id": "6c418968",
   "metadata": {},
   "outputs": [],
   "source": [
    "from pyphoplacecellanalysis.SpecificResults.PhoDiba2023Paper import BatchPhoJonathanFiguresHelper\n",
    "\n",
    "fig_1c_figures_out_dict = BatchPhoJonathanFiguresHelper.run(curr_active_pipeline, neuron_replay_stats_df, included_unit_neuron_IDs=XOR_subset.track_exclusive_aclus, n_max_page_rows=20, write_vector_format=False, write_png=True, disable_top_row=True) # active_out_figures_dict: {IdentifyingContext<('kdiba', 'gor01', 'two', '2006-6-07_16-40-19', 'BatchPhoJonathanReplayFRC', 'long_only', '(12,21,48)')>: <Figure size 1920x660 with 12 Axes>, IdentifyingContext<('kdiba', 'gor01', 'two', '2006-6-07_16-40-19', 'BatchPhoJonathanReplayFRC', 'short_only', '(18,19,65)')>: <Figure size 1920x660 with 12 Axes>}"
   ]
  },
  {
   "cell_type": "markdown",
   "id": "2ea2f309",
   "metadata": {},
   "source": [
    "# PhoKamran2023Paper Results"
   ]
  },
  {
   "cell_type": "code",
   "execution_count": null,
   "id": "85a7dd8b",
   "metadata": {},
   "outputs": [],
   "source": [
    "pg.setConfigOptions(background='white', foreground='black') # black on white background (more traditional) color scheme"
   ]
  },
  {
   "cell_type": "markdown",
   "id": "162d813d",
   "metadata": {},
   "source": [
    "## Figure 1) pf1D Ratemaps, Active set, etc"
   ]
  },
  {
   "cell_type": "code",
   "execution_count": null,
   "id": "273696fc",
   "metadata": {},
   "outputs": [],
   "source": [
    "from pyphoplacecellanalysis.General.Pipeline.Stages.DisplayFunctions.SpikeRasters import plot_multiple_raster_plot, plot_raster_plot\n",
    "from pyphoplacecellanalysis.Pho2D.matplotlib.visualize_heatmap import visualize_heatmap_pyqtgraph # used in `plot_kourosh_activity_style_figure`\n",
    "from pyphoplacecellanalysis.SpecificResults.PhoDiba2023Paper import PAPER_FIGURE_figure_1_full, PAPER_FIGURE_figure_1_add_replay_epoch_rasters\n",
    "\n",
    "curr_active_pipeline.prepare_for_display()\n",
    "pf1d_compare_graphics, (example_epoch_rasters_L, example_epoch_rasters_S), example_stacked_epoch_graphics, fig_1c_figures_out_dict = PAPER_FIGURE_figure_1_full(curr_active_pipeline) # did not display the pf1"
   ]
  },
  {
   "cell_type": "code",
   "execution_count": null,
   "id": "84fa9acc",
   "metadata": {},
   "outputs": [],
   "source": [
    "# rdf = jonathan_firing_rate_analysis_result.rdf.rdf\n",
    "# rdf\n",
    "# ==================================================================================================================== #\n",
    "# Fig 1c) 2023-07-14 - LxC and SxC PhoJonathanSession plots                                                            #\n",
    "# ==================================================================================================================== #\n",
    "from pyphoplacecellanalysis.General.Batch.NonInteractiveProcessing import BatchPhoJonathanFiguresHelper\n",
    "\n",
    "## Get global 'jonathan_firing_rate_analysis' results:\n",
    "curr_jonathan_firing_rate_analysis = curr_active_pipeline.global_computation_results.computed_data['jonathan_firing_rate_analysis']\n",
    "neuron_replay_stats_df, rdf, aclu_to_idx, irdf = curr_jonathan_firing_rate_analysis.neuron_replay_stats_df, curr_jonathan_firing_rate_analysis.rdf.rdf, curr_jonathan_firing_rate_analysis.rdf.aclu_to_idx, curr_jonathan_firing_rate_analysis.irdf.irdf\n",
    "\n",
    "fig_1c_figures_out_dict = BatchPhoJonathanFiguresHelper.run(curr_active_pipeline, neuron_replay_stats_df, included_unit_neuron_IDs=XOR_subset.track_exclusive_aclus, n_max_page_rows=20, write_vector_format=False, write_png=True, disable_top_row=True) # active_out_figures_dict: {IdentifyingContext<('kdiba', 'gor01', 'two', '2006-6-07_16-40-19', 'BatchPhoJonathanReplayFRC', 'long_only', '(12,21,48)')>: <Figure size 1920x660 with 12 Axes>, IdentifyingContext<('kdiba', 'gor01', 'two', '2006-6-07_16-40-19', 'BatchPhoJonathanReplayFRC', 'short_only', '(18,19,65)')>: <Figure size 1920x660 with 12 Axes>}\n"
   ]
  },
  {
   "cell_type": "markdown",
   "id": "5cba3c7a",
   "metadata": {},
   "source": [
    "## Figure 2) `PaperFigureTwo`: LxC/SxC Analyses\n",
    "Note: this fails when SxC or LxC are empty for this session (as it's not meaningful to produce a comparison bar plot). In this case, aggregate across multiple sessions."
   ]
  },
  {
   "cell_type": "code",
   "execution_count": null,
   "id": "97d3e1ff",
   "metadata": {},
   "outputs": [],
   "source": [
    "from pyphoplacecellanalysis.SpecificResults.PhoDiba2023Paper import PaperFigureTwo\n",
    "\n",
    "_out_fig_2 = PaperFigureTwo(instantaneous_time_bin_size_seconds=0.01) # 10ms\n",
    "_out_fig_2.compute(curr_active_pipeline=curr_active_pipeline)\n",
    "_out_fig_2.display()"
   ]
  },
  {
   "cell_type": "markdown",
   "id": "14a52142",
   "metadata": {},
   "source": [
    "## Figure 3) `PAPER_FIGURE_figure_3`: Firing Rate Index and Long/Short Firing Rate Replays v. Laps"
   ]
  },
  {
   "cell_type": "code",
   "execution_count": null,
   "id": "5f765ed6",
   "metadata": {},
   "outputs": [],
   "source": [
    "from neuropy.utils.matplotlib_helpers import FormattedFigureText\n",
    "from pyphoplacecellanalysis.General.Pipeline.Stages.DisplayFunctions.MultiContextComparingDisplayFunctions.LongShortTrackComparingDisplayFunctions import _plot_long_short_firing_rate_indicies\n",
    "# curr_active_pipeline.reload_default_display_functions()\n",
    "\n",
    "_out, _out2 = PAPER_FIGURE_figure_3(curr_active_pipeline, defer_render=False, save_figure=True)"
   ]
  }
 ],
 "metadata": {
  "kernelspec": {
   "display_name": "spike3d-poetry",
   "language": "python",
   "name": "spike3d-poetry"
  },
  "language_info": {
   "codemirror_mode": {
    "name": "ipython",
    "version": 3
   },
   "file_extension": ".py",
   "mimetype": "text/x-python",
   "name": "python",
   "nbconvert_exporter": "python",
   "pygments_lexer": "ipython3",
   "version": "3.9.13"
  }
 },
 "nbformat": 4,
 "nbformat_minor": 5
}
