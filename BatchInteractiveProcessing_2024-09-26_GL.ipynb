{
 "cells": [
  {
   "cell_type": "code",
   "execution_count": 1,
   "id": "0056bc66-7629-4ef7-8c87-f28f8fcd9dc8",
   "metadata": {
    "autorun": true,
    "notebookRunGroups": {
     "groupValue": "1"
    },
    "tags": [
     "imports",
     "REQUIRED",
     "ACTIVE"
    ]
   },
   "outputs": [
    {
     "name": "stdout",
     "output_type": "stream",
     "text": [
      "Automatic pdb calling has been turned OFF\n",
      "scripts_output_path: /nfs/turbo/umms-kdiba/Data/Output/gen_scripts\n",
      "collected_outputs_path: /nfs/turbo/umms-kdiba/Data/Output/collected_outputs\n"
     ]
    }
   ],
   "source": [
    "# Renaming to `BatchInteractiveProcessing_*.ipynb` from `BatchGenerateOutputs_*.ipynb` because it makes more sense\n",
    "%config IPCompleter.use_jedi = False\n",
    "%pdb off\n",
    "%load_ext autoreload\n",
    "%autoreload 3\n",
    "import sys\n",
    "from copy import deepcopy\n",
    "from typing import List, Dict, Optional, Union, Callable\n",
    "from pathlib import Path\n",
    "import pathlib\n",
    "import numpy as np\n",
    "import pandas as pd\n",
    "import tables as tb\n",
    "from datetime import datetime, timedelta\n",
    "from attrs import define, field, Factory\n",
    "\n",
    "# required to enable non-blocking interaction:\n",
    "# %gui qt5\n",
    "\n",
    "## Pho's Custom Libraries:\n",
    "from pyphocorehelpers.Filesystem.path_helpers import find_first_extant_path\n",
    "from pyphocorehelpers.function_helpers import function_attributes\n",
    "from pyphocorehelpers.exception_helpers import CapturedException\n",
    "\n",
    "# Jupyter interactivity:\n",
    "import ipywidgets as widgets\n",
    "from IPython.display import display\n",
    "from pyphocorehelpers.gui.Jupyter.JupyterButtonRowWidget import JupyterButtonRowWidget\n",
    "\n",
    "# pyPhoPlaceCellAnalysis:\n",
    "# NeuroPy (Diba Lab Python Repo) Loading\n",
    "from neuropy.core.session.Formats.BaseDataSessionFormats import DataSessionFormatRegistryHolder\n",
    "from neuropy.core.session.Formats.Specific.BapunDataSessionFormat import BapunDataSessionFormatRegisteredClass\n",
    "from neuropy.core.session.Formats.Specific.KDibaOldDataSessionFormat import KDibaOldDataSessionFormatRegisteredClass\n",
    "from neuropy.core.session.Formats.Specific.RachelDataSessionFormat import RachelDataSessionFormat\n",
    "from neuropy.core.session.Formats.Specific.HiroDataSessionFormat import HiroDataSessionFormatRegisteredClass\n",
    "from neuropy.utils.matplotlib_helpers import matplotlib_configuration_update\n",
    "\n",
    "## For computation parameters:\n",
    "from neuropy.utils.result_context import IdentifyingContext\n",
    "from neuropy.core.session.Formats.BaseDataSessionFormats import find_local_session_paths\n",
    "from neuropy.core import Epoch\n",
    "\n",
    "from pyphoplacecellanalysis.General.Pipeline.Stages.Loading import saveData, loadData\n",
    "import pyphoplacecellanalysis.General.Batch.runBatch\n",
    "from pyphoplacecellanalysis.General.Batch.runBatch import BatchRun, BatchResultDataframeAccessor, run_diba_batch, BatchComputationProcessOptions, BatchSessionCompletionHandler, SavingOptions\n",
    "from pyphoplacecellanalysis.General.Pipeline.NeuropyPipeline import PipelineSavingScheme\n",
    "\n",
    "from neuropy.core.user_annotations import UserAnnotationsManager\n",
    "from pyphoplacecellanalysis.General.Batch.runBatch import SessionBatchProgress\n",
    "from pyphoplacecellanalysis.SpecificResults.AcrossSessionResults import AcrossSessionsResults, AcrossSessionTables, AcrossSessionsVisualizations\n",
    "\n",
    "from pyphocorehelpers.Filesystem.path_helpers import set_posix_windows\n",
    "\n",
    "from pyphocorehelpers.exception_helpers import CapturedException\n",
    "from pyphoplacecellanalysis.SpecificResults.AcrossSessionResults import InstantaneousFiringRatesDataframeAccessor\n",
    "from pyphoplacecellanalysis.General.Batch.runBatch import PipelineCompletionResult, BatchSessionCompletionHandler\n",
    "\n",
    "from pyphocorehelpers.Filesystem.metadata_helpers import FilesystemMetadata, get_file_metadata\n",
    "from pyphocorehelpers.Filesystem.path_helpers import discover_data_files, generate_copydict, copy_movedict, copy_file, save_copydict_to_text_file, read_copydict_from_text_file, invert_filedict\n",
    "from pyphoplacecellanalysis.General.Batch.runBatch import get_file_str_if_file_exists\n",
    "from pyphoplacecellanalysis.SpecificResults.AcrossSessionResults import check_output_h5_files, copy_files_in_filelist_to_dest\n",
    "from pyphoplacecellanalysis.General.Batch.runBatch import ConcreteSessionFolder, BackupMethods\n",
    "\n",
    "from pyphoplacecellanalysis.General.Batch.NonInteractiveProcessing import batch_perform_all_plots, BatchPhoJonathanFiguresHelper\n",
    "from pyphoplacecellanalysis.SpecificResults.PhoDiba2023Paper import PAPER_FIGURE_figure_1_add_replay_epoch_rasters, PAPER_FIGURE_figure_1_full, PAPER_FIGURE_figure_3, main_complete_figure_generations\n",
    "\n",
    "from neuropy.core.neuron_identities import NeuronIdentityDataframeAccessor\n",
    "from pyphoplacecellanalysis.General.Pipeline.Stages.ComputationFunctions.MultiContextComputationFunctions.LongShortTrackComputations import build_merged_neuron_firing_rate_indicies\n",
    "from pyphoplacecellanalysis.General.Pipeline.Stages.ComputationFunctions.MultiContextComputationFunctions.DirectionalPlacefieldGlobalComputationFunctions import DirectionalPlacefieldGlobalComputationFunctions, DirectionalLapsHelpers\n",
    "\n",
    "from pyphoplacecellanalysis.General.Pipeline.Stages.ComputationFunctions.MultiContextComputationFunctions.DirectionalPlacefieldGlobalComputationFunctions import DirectionalLapsHelpers\n",
    "from pyphoplacecellanalysis.General.Pipeline.Stages.ComputationFunctions.MultiContextComputationFunctions.RankOrderComputations import RankOrderGlobalComputationFunctions\n",
    "\n",
    "from pyphoplacecellanalysis.General.Pipeline.Stages.ComputationFunctions.MultiContextComputationFunctions.DirectionalPlacefieldGlobalComputationFunctions import TrackTemplates\n",
    "from pyphoplacecellanalysis.General.Pipeline.Stages.ComputationFunctions.MultiContextComputationFunctions.RankOrderComputations import RankOrderAnalyses, RankOrderResult, ShuffleHelper, Zscorer, LongShortStatsTuple, DirectionalRankOrderLikelihoods, DirectionalRankOrderResult, RankOrderComputationsContainer\n",
    "\n",
    "# from pyphoplacecellanalysis.General.Pipeline.Stages.ComputationFunctions.MultiContextComputationFunctions.DirectionalPlacefieldGlobalComputationFunctions import DirectionalMergedDecodersResult\n",
    "\n",
    "# BATCH_DATE_TO_USE = '2023-09-25' # used for filenames throught the notebook\n",
    "# BATCH_DATE_TO_USE = '2023-09-25_Apogee' # used for filenames throught the notebook\n",
    "BATCH_DATE_TO_USE = '2024-09-26_GL' # used for filenames throught the notebook\n",
    "\n",
    "# collected_outputs_path = Path('/nfs/turbo/umms-kdiba/Data/Output/collected_outputs').resolve() # Linux\n",
    "# collected_outputs_path: Path = Path('/home/halechr/cloud/turbo/Data/Output/collected_outputs').resolve() # GreatLakes\n",
    "# collected_outputs_path = Path(r'C:\\Users\\pho\\repos\\Spike3DWorkEnv\\Spike3D\\output\\collected_outputs').resolve() # Apogee\n",
    "\n",
    "known_scripts_output_paths = [Path(v).resolve() for v in ['/home/halechr/cloud/turbo/Data/Output/gen_scripts/', '/home/halechr/FastData/gen_scripts/', 'output/gen_scripts/']]\n",
    "scripts_output_path = find_first_extant_path(known_scripts_output_paths)\n",
    "assert scripts_output_path.exists(), f\"scripts_output_path: {scripts_output_path} does not exist! Is the right computer's config commented out above?\"\n",
    "# fullwidth_path_widget(scripts_output_path, file_name_label='Scripts Output Path:')\n",
    "print(f'scripts_output_path: {scripts_output_path}')\n",
    "\n",
    "collected_outputs_path = scripts_output_path.joinpath('../collected_outputs').resolve()\n",
    "collected_outputs_path.mkdir(exist_ok=True)\n",
    "assert collected_outputs_path.exists()\n",
    "print(f'collected_outputs_path: {collected_outputs_path}')\n",
    "\n",
    "# OUTPUTS: BATCH_DATE_TO_USE, collected_outputs_path"
   ]
  },
  {
   "cell_type": "code",
   "execution_count": 2,
   "id": "8ef5938c",
   "metadata": {
    "notebookRunGroups": {
     "groupValue": "1"
    },
    "tags": []
   },
   "outputs": [
    {
     "name": "stdout",
     "output_type": "stream",
     "text": [
      "finalized_loaded_global_batch_result_pickle_path: /nfs/turbo/umms-kdiba/Data/global_batch_result_2024-09-26_GL.pkl\n",
      "Computing loaded session pickle file results : \"/nfs/turbo/umms-kdiba/Data/global_batch_result_2024-09-26_GL.pkl\"... encountered exception 'BatchRun' object is not iterable while printing. Turning into a warning and continuing.\n",
      "done.\n",
      "no difference between provided and internal paths.\n"
     ]
    },
    {
     "data": {
      "text/html": [
       "<div>\n",
       "<style scoped>\n",
       "    .dataframe tbody tr th:only-of-type {\n",
       "        vertical-align: middle;\n",
       "    }\n",
       "\n",
       "    .dataframe tbody tr th {\n",
       "        vertical-align: top;\n",
       "    }\n",
       "\n",
       "    .dataframe thead th {\n",
       "        text-align: right;\n",
       "    }\n",
       "</style>\n",
       "<table border=\"1\" class=\"dataframe\">\n",
       "  <thead>\n",
       "    <tr style=\"text-align: right;\">\n",
       "      <th></th>\n",
       "      <th>format_name</th>\n",
       "      <th>animal</th>\n",
       "      <th>exper_name</th>\n",
       "      <th>session_name</th>\n",
       "      <th>context</th>\n",
       "      <th>basedirs</th>\n",
       "      <th>status</th>\n",
       "      <th>errors</th>\n",
       "      <th>session_datetime</th>\n",
       "      <th>n_long_laps</th>\n",
       "      <th>n_long_replays</th>\n",
       "      <th>n_short_laps</th>\n",
       "      <th>n_short_replays</th>\n",
       "      <th>is_ready</th>\n",
       "      <th>global_computation_result_file</th>\n",
       "      <th>loaded_session_pickle_file</th>\n",
       "      <th>ripple_result_file</th>\n",
       "      <th>has_user_replay_annotations</th>\n",
       "      <th>has_user_grid_bin_bounds_annotations</th>\n",
       "    </tr>\n",
       "  </thead>\n",
       "  <tbody>\n",
       "    <tr>\n",
       "      <th>0</th>\n",
       "      <td>kdiba</td>\n",
       "      <td>gor01</td>\n",
       "      <td>one</td>\n",
       "      <td>2006-6-07_11-26-53</td>\n",
       "      <td>kdiba_gor01_one_2006-6-07_11-26-53</td>\n",
       "      <td>/nfs/turbo/umms-kdiba/Data/KDIBA/gor01/one/200...</td>\n",
       "      <td>SessionBatchProgress.NOT_STARTED</td>\n",
       "      <td>None</td>\n",
       "      <td>2006-06-07 11:26:53</td>\n",
       "      <td>0</td>\n",
       "      <td>0</td>\n",
       "      <td>0</td>\n",
       "      <td>0</td>\n",
       "      <td>False</td>\n",
       "      <td>/nfs/turbo/umms-kdiba/Data/KDIBA/gor01/one/200...</td>\n",
       "      <td>/nfs/turbo/umms-kdiba/Data/KDIBA/gor01/one/200...</td>\n",
       "      <td>/nfs/turbo/umms-kdiba/Data/KDIBA/gor01/one/200...</td>\n",
       "      <td>False</td>\n",
       "      <td>True</td>\n",
       "    </tr>\n",
       "    <tr>\n",
       "      <th>1</th>\n",
       "      <td>kdiba</td>\n",
       "      <td>gor01</td>\n",
       "      <td>one</td>\n",
       "      <td>2006-6-08_14-26-15</td>\n",
       "      <td>kdiba_gor01_one_2006-6-08_14-26-15</td>\n",
       "      <td>/nfs/turbo/umms-kdiba/Data/KDIBA/gor01/one/200...</td>\n",
       "      <td>SessionBatchProgress.NOT_STARTED</td>\n",
       "      <td>None</td>\n",
       "      <td>2006-06-08 14:26:15</td>\n",
       "      <td>0</td>\n",
       "      <td>0</td>\n",
       "      <td>0</td>\n",
       "      <td>0</td>\n",
       "      <td>False</td>\n",
       "      <td>/nfs/turbo/umms-kdiba/Data/KDIBA/gor01/one/200...</td>\n",
       "      <td>/nfs/turbo/umms-kdiba/Data/KDIBA/gor01/one/200...</td>\n",
       "      <td>/nfs/turbo/umms-kdiba/Data/KDIBA/gor01/one/200...</td>\n",
       "      <td>True</td>\n",
       "      <td>True</td>\n",
       "    </tr>\n",
       "    <tr>\n",
       "      <th>2</th>\n",
       "      <td>kdiba</td>\n",
       "      <td>gor01</td>\n",
       "      <td>one</td>\n",
       "      <td>2006-6-09_1-22-43</td>\n",
       "      <td>kdiba_gor01_one_2006-6-09_1-22-43</td>\n",
       "      <td>/nfs/turbo/umms-kdiba/Data/KDIBA/gor01/one/200...</td>\n",
       "      <td>SessionBatchProgress.NOT_STARTED</td>\n",
       "      <td>None</td>\n",
       "      <td>2006-06-09 01:22:43</td>\n",
       "      <td>0</td>\n",
       "      <td>0</td>\n",
       "      <td>0</td>\n",
       "      <td>0</td>\n",
       "      <td>False</td>\n",
       "      <td>/nfs/turbo/umms-kdiba/Data/KDIBA/gor01/one/200...</td>\n",
       "      <td>/nfs/turbo/umms-kdiba/Data/KDIBA/gor01/one/200...</td>\n",
       "      <td>/nfs/turbo/umms-kdiba/Data/KDIBA/gor01/one/200...</td>\n",
       "      <td>True</td>\n",
       "      <td>True</td>\n",
       "    </tr>\n",
       "    <tr>\n",
       "      <th>3</th>\n",
       "      <td>kdiba</td>\n",
       "      <td>gor01</td>\n",
       "      <td>one</td>\n",
       "      <td>2006-6-09_3-23-37</td>\n",
       "      <td>kdiba_gor01_one_2006-6-09_3-23-37</td>\n",
       "      <td>/nfs/turbo/umms-kdiba/Data/KDIBA/gor01/one/200...</td>\n",
       "      <td>SessionBatchProgress.NOT_STARTED</td>\n",
       "      <td>None</td>\n",
       "      <td>2006-06-09 03:23:37</td>\n",
       "      <td>0</td>\n",
       "      <td>0</td>\n",
       "      <td>0</td>\n",
       "      <td>0</td>\n",
       "      <td>False</td>\n",
       "      <td></td>\n",
       "      <td></td>\n",
       "      <td>/nfs/turbo/umms-kdiba/Data/KDIBA/gor01/one/200...</td>\n",
       "      <td>False</td>\n",
       "      <td>True</td>\n",
       "    </tr>\n",
       "    <tr>\n",
       "      <th>4</th>\n",
       "      <td>kdiba</td>\n",
       "      <td>gor01</td>\n",
       "      <td>one</td>\n",
       "      <td>2006-6-12_15-55-31</td>\n",
       "      <td>kdiba_gor01_one_2006-6-12_15-55-31</td>\n",
       "      <td>/nfs/turbo/umms-kdiba/Data/KDIBA/gor01/one/200...</td>\n",
       "      <td>SessionBatchProgress.NOT_STARTED</td>\n",
       "      <td>None</td>\n",
       "      <td>2006-06-12 15:55:31</td>\n",
       "      <td>0</td>\n",
       "      <td>0</td>\n",
       "      <td>0</td>\n",
       "      <td>0</td>\n",
       "      <td>False</td>\n",
       "      <td>/nfs/turbo/umms-kdiba/Data/KDIBA/gor01/one/200...</td>\n",
       "      <td>/nfs/turbo/umms-kdiba/Data/KDIBA/gor01/one/200...</td>\n",
       "      <td>/nfs/turbo/umms-kdiba/Data/KDIBA/gor01/one/200...</td>\n",
       "      <td>True</td>\n",
       "      <td>True</td>\n",
       "    </tr>\n",
       "    <tr>\n",
       "      <th>...</th>\n",
       "      <td>...</td>\n",
       "      <td>...</td>\n",
       "      <td>...</td>\n",
       "      <td>...</td>\n",
       "      <td>...</td>\n",
       "      <td>...</td>\n",
       "      <td>...</td>\n",
       "      <td>...</td>\n",
       "      <td>...</td>\n",
       "      <td>...</td>\n",
       "      <td>...</td>\n",
       "      <td>...</td>\n",
       "      <td>...</td>\n",
       "      <td>...</td>\n",
       "      <td>...</td>\n",
       "      <td>...</td>\n",
       "      <td>...</td>\n",
       "      <td>...</td>\n",
       "      <td>...</td>\n",
       "    </tr>\n",
       "    <tr>\n",
       "      <th>63</th>\n",
       "      <td>kdiba</td>\n",
       "      <td>pin01</td>\n",
       "      <td>one</td>\n",
       "      <td>11-19_13-55-7</td>\n",
       "      <td>kdiba_pin01_one_11-19_13-55-7</td>\n",
       "      <td>/nfs/turbo/umms-kdiba/Data/KDIBA/pin01/one/11-...</td>\n",
       "      <td>SessionBatchProgress.NOT_STARTED</td>\n",
       "      <td>None</td>\n",
       "      <td>2009-11-19 13:55:07</td>\n",
       "      <td>0</td>\n",
       "      <td>0</td>\n",
       "      <td>0</td>\n",
       "      <td>0</td>\n",
       "      <td>False</td>\n",
       "      <td></td>\n",
       "      <td></td>\n",
       "      <td></td>\n",
       "      <td>False</td>\n",
       "      <td>False</td>\n",
       "    </tr>\n",
       "    <tr>\n",
       "      <th>64</th>\n",
       "      <td>kdiba</td>\n",
       "      <td>pin01</td>\n",
       "      <td>one</td>\n",
       "      <td>fet11-01_12-58-54</td>\n",
       "      <td>kdiba_pin01_one_fet11-01_12-58-54</td>\n",
       "      <td>/nfs/turbo/umms-kdiba/Data/KDIBA/pin01/one/fet...</td>\n",
       "      <td>SessionBatchProgress.NOT_STARTED</td>\n",
       "      <td>None</td>\n",
       "      <td>2009-11-01 12:58:54</td>\n",
       "      <td>0</td>\n",
       "      <td>0</td>\n",
       "      <td>0</td>\n",
       "      <td>0</td>\n",
       "      <td>False</td>\n",
       "      <td>/nfs/turbo/umms-kdiba/Data/KDIBA/pin01/one/fet...</td>\n",
       "      <td>/nfs/turbo/umms-kdiba/Data/KDIBA/pin01/one/fet...</td>\n",
       "      <td>/nfs/turbo/umms-kdiba/Data/KDIBA/pin01/one/fet...</td>\n",
       "      <td>True</td>\n",
       "      <td>True</td>\n",
       "    </tr>\n",
       "    <tr>\n",
       "      <th>65</th>\n",
       "      <td>kdiba</td>\n",
       "      <td>pin01</td>\n",
       "      <td>one</td>\n",
       "      <td>fet11-03_11-0-53</td>\n",
       "      <td>kdiba_pin01_one_fet11-03_11-0-53</td>\n",
       "      <td>/nfs/turbo/umms-kdiba/Data/KDIBA/pin01/one/fet...</td>\n",
       "      <td>SessionBatchProgress.NOT_STARTED</td>\n",
       "      <td>None</td>\n",
       "      <td>2009-11-03 11:00:53</td>\n",
       "      <td>0</td>\n",
       "      <td>0</td>\n",
       "      <td>0</td>\n",
       "      <td>0</td>\n",
       "      <td>False</td>\n",
       "      <td></td>\n",
       "      <td></td>\n",
       "      <td></td>\n",
       "      <td>False</td>\n",
       "      <td>False</td>\n",
       "    </tr>\n",
       "    <tr>\n",
       "      <th>66</th>\n",
       "      <td>kdiba</td>\n",
       "      <td>pin01</td>\n",
       "      <td>one</td>\n",
       "      <td>fet11-03_20-28-3</td>\n",
       "      <td>kdiba_pin01_one_fet11-03_20-28-3</td>\n",
       "      <td>/nfs/turbo/umms-kdiba/Data/KDIBA/pin01/one/fet...</td>\n",
       "      <td>SessionBatchProgress.NOT_STARTED</td>\n",
       "      <td>None</td>\n",
       "      <td>2009-11-03 20:28:03</td>\n",
       "      <td>0</td>\n",
       "      <td>0</td>\n",
       "      <td>0</td>\n",
       "      <td>0</td>\n",
       "      <td>False</td>\n",
       "      <td>/nfs/turbo/umms-kdiba/Data/KDIBA/pin01/one/fet...</td>\n",
       "      <td>/nfs/turbo/umms-kdiba/Data/KDIBA/pin01/one/fet...</td>\n",
       "      <td>/nfs/turbo/umms-kdiba/Data/KDIBA/pin01/one/fet...</td>\n",
       "      <td>False</td>\n",
       "      <td>True</td>\n",
       "    </tr>\n",
       "    <tr>\n",
       "      <th>67</th>\n",
       "      <td>kdiba</td>\n",
       "      <td>pin01</td>\n",
       "      <td>one</td>\n",
       "      <td>fet11-04_21-20-3</td>\n",
       "      <td>kdiba_pin01_one_fet11-04_21-20-3</td>\n",
       "      <td>/nfs/turbo/umms-kdiba/Data/KDIBA/pin01/one/fet...</td>\n",
       "      <td>SessionBatchProgress.NOT_STARTED</td>\n",
       "      <td>None</td>\n",
       "      <td>2009-11-04 21:20:03</td>\n",
       "      <td>0</td>\n",
       "      <td>0</td>\n",
       "      <td>0</td>\n",
       "      <td>0</td>\n",
       "      <td>False</td>\n",
       "      <td>/nfs/turbo/umms-kdiba/Data/KDIBA/pin01/one/fet...</td>\n",
       "      <td>/nfs/turbo/umms-kdiba/Data/KDIBA/pin01/one/fet...</td>\n",
       "      <td>/nfs/turbo/umms-kdiba/Data/KDIBA/pin01/one/fet...</td>\n",
       "      <td>False</td>\n",
       "      <td>True</td>\n",
       "    </tr>\n",
       "  </tbody>\n",
       "</table>\n",
       "<p>68 rows × 19 columns</p>\n",
       "</div>"
      ],
      "text/plain": [
       "   format_name animal exper_name        session_name  \\\n",
       "0        kdiba  gor01        one  2006-6-07_11-26-53   \n",
       "1        kdiba  gor01        one  2006-6-08_14-26-15   \n",
       "2        kdiba  gor01        one   2006-6-09_1-22-43   \n",
       "3        kdiba  gor01        one   2006-6-09_3-23-37   \n",
       "4        kdiba  gor01        one  2006-6-12_15-55-31   \n",
       "..         ...    ...        ...                 ...   \n",
       "63       kdiba  pin01        one       11-19_13-55-7   \n",
       "64       kdiba  pin01        one   fet11-01_12-58-54   \n",
       "65       kdiba  pin01        one    fet11-03_11-0-53   \n",
       "66       kdiba  pin01        one    fet11-03_20-28-3   \n",
       "67       kdiba  pin01        one    fet11-04_21-20-3   \n",
       "\n",
       "                               context  \\\n",
       "0   kdiba_gor01_one_2006-6-07_11-26-53   \n",
       "1   kdiba_gor01_one_2006-6-08_14-26-15   \n",
       "2    kdiba_gor01_one_2006-6-09_1-22-43   \n",
       "3    kdiba_gor01_one_2006-6-09_3-23-37   \n",
       "4   kdiba_gor01_one_2006-6-12_15-55-31   \n",
       "..                                 ...   \n",
       "63       kdiba_pin01_one_11-19_13-55-7   \n",
       "64   kdiba_pin01_one_fet11-01_12-58-54   \n",
       "65    kdiba_pin01_one_fet11-03_11-0-53   \n",
       "66    kdiba_pin01_one_fet11-03_20-28-3   \n",
       "67    kdiba_pin01_one_fet11-04_21-20-3   \n",
       "\n",
       "                                             basedirs  \\\n",
       "0   /nfs/turbo/umms-kdiba/Data/KDIBA/gor01/one/200...   \n",
       "1   /nfs/turbo/umms-kdiba/Data/KDIBA/gor01/one/200...   \n",
       "2   /nfs/turbo/umms-kdiba/Data/KDIBA/gor01/one/200...   \n",
       "3   /nfs/turbo/umms-kdiba/Data/KDIBA/gor01/one/200...   \n",
       "4   /nfs/turbo/umms-kdiba/Data/KDIBA/gor01/one/200...   \n",
       "..                                                ...   \n",
       "63  /nfs/turbo/umms-kdiba/Data/KDIBA/pin01/one/11-...   \n",
       "64  /nfs/turbo/umms-kdiba/Data/KDIBA/pin01/one/fet...   \n",
       "65  /nfs/turbo/umms-kdiba/Data/KDIBA/pin01/one/fet...   \n",
       "66  /nfs/turbo/umms-kdiba/Data/KDIBA/pin01/one/fet...   \n",
       "67  /nfs/turbo/umms-kdiba/Data/KDIBA/pin01/one/fet...   \n",
       "\n",
       "                              status errors    session_datetime  n_long_laps  \\\n",
       "0   SessionBatchProgress.NOT_STARTED   None 2006-06-07 11:26:53            0   \n",
       "1   SessionBatchProgress.NOT_STARTED   None 2006-06-08 14:26:15            0   \n",
       "2   SessionBatchProgress.NOT_STARTED   None 2006-06-09 01:22:43            0   \n",
       "3   SessionBatchProgress.NOT_STARTED   None 2006-06-09 03:23:37            0   \n",
       "4   SessionBatchProgress.NOT_STARTED   None 2006-06-12 15:55:31            0   \n",
       "..                               ...    ...                 ...          ...   \n",
       "63  SessionBatchProgress.NOT_STARTED   None 2009-11-19 13:55:07            0   \n",
       "64  SessionBatchProgress.NOT_STARTED   None 2009-11-01 12:58:54            0   \n",
       "65  SessionBatchProgress.NOT_STARTED   None 2009-11-03 11:00:53            0   \n",
       "66  SessionBatchProgress.NOT_STARTED   None 2009-11-03 20:28:03            0   \n",
       "67  SessionBatchProgress.NOT_STARTED   None 2009-11-04 21:20:03            0   \n",
       "\n",
       "    n_long_replays  n_short_laps  n_short_replays  is_ready  \\\n",
       "0                0             0                0     False   \n",
       "1                0             0                0     False   \n",
       "2                0             0                0     False   \n",
       "3                0             0                0     False   \n",
       "4                0             0                0     False   \n",
       "..             ...           ...              ...       ...   \n",
       "63               0             0                0     False   \n",
       "64               0             0                0     False   \n",
       "65               0             0                0     False   \n",
       "66               0             0                0     False   \n",
       "67               0             0                0     False   \n",
       "\n",
       "                       global_computation_result_file  \\\n",
       "0   /nfs/turbo/umms-kdiba/Data/KDIBA/gor01/one/200...   \n",
       "1   /nfs/turbo/umms-kdiba/Data/KDIBA/gor01/one/200...   \n",
       "2   /nfs/turbo/umms-kdiba/Data/KDIBA/gor01/one/200...   \n",
       "3                                                       \n",
       "4   /nfs/turbo/umms-kdiba/Data/KDIBA/gor01/one/200...   \n",
       "..                                                ...   \n",
       "63                                                      \n",
       "64  /nfs/turbo/umms-kdiba/Data/KDIBA/pin01/one/fet...   \n",
       "65                                                      \n",
       "66  /nfs/turbo/umms-kdiba/Data/KDIBA/pin01/one/fet...   \n",
       "67  /nfs/turbo/umms-kdiba/Data/KDIBA/pin01/one/fet...   \n",
       "\n",
       "                           loaded_session_pickle_file  \\\n",
       "0   /nfs/turbo/umms-kdiba/Data/KDIBA/gor01/one/200...   \n",
       "1   /nfs/turbo/umms-kdiba/Data/KDIBA/gor01/one/200...   \n",
       "2   /nfs/turbo/umms-kdiba/Data/KDIBA/gor01/one/200...   \n",
       "3                                                       \n",
       "4   /nfs/turbo/umms-kdiba/Data/KDIBA/gor01/one/200...   \n",
       "..                                                ...   \n",
       "63                                                      \n",
       "64  /nfs/turbo/umms-kdiba/Data/KDIBA/pin01/one/fet...   \n",
       "65                                                      \n",
       "66  /nfs/turbo/umms-kdiba/Data/KDIBA/pin01/one/fet...   \n",
       "67  /nfs/turbo/umms-kdiba/Data/KDIBA/pin01/one/fet...   \n",
       "\n",
       "                                   ripple_result_file  \\\n",
       "0   /nfs/turbo/umms-kdiba/Data/KDIBA/gor01/one/200...   \n",
       "1   /nfs/turbo/umms-kdiba/Data/KDIBA/gor01/one/200...   \n",
       "2   /nfs/turbo/umms-kdiba/Data/KDIBA/gor01/one/200...   \n",
       "3   /nfs/turbo/umms-kdiba/Data/KDIBA/gor01/one/200...   \n",
       "4   /nfs/turbo/umms-kdiba/Data/KDIBA/gor01/one/200...   \n",
       "..                                                ...   \n",
       "63                                                      \n",
       "64  /nfs/turbo/umms-kdiba/Data/KDIBA/pin01/one/fet...   \n",
       "65                                                      \n",
       "66  /nfs/turbo/umms-kdiba/Data/KDIBA/pin01/one/fet...   \n",
       "67  /nfs/turbo/umms-kdiba/Data/KDIBA/pin01/one/fet...   \n",
       "\n",
       "    has_user_replay_annotations  has_user_grid_bin_bounds_annotations  \n",
       "0                         False                                  True  \n",
       "1                          True                                  True  \n",
       "2                          True                                  True  \n",
       "3                         False                                  True  \n",
       "4                          True                                  True  \n",
       "..                          ...                                   ...  \n",
       "63                        False                                 False  \n",
       "64                         True                                  True  \n",
       "65                        False                                 False  \n",
       "66                        False                                  True  \n",
       "67                        False                                  True  \n",
       "\n",
       "[68 rows x 19 columns]"
      ]
     },
     "metadata": {},
     "output_type": "display_data"
    }
   ],
   "source": [
    "active_global_batch_result_filename=f'global_batch_result_{BATCH_DATE_TO_USE}.pkl'\n",
    "\n",
    "debug_print = True\n",
    "known_global_data_root_parent_paths = [Path(r'W:\\Data'), Path(r'/nfs/turbo/umms-kdiba/Data'), Path(r'/media/MAX/Data'), Path(r'/home/halechr/cloud/turbo/Data'), Path(r'/home/halechr/FastData')] # , Path(r'/Volumes/MoverNew/data', Path(r'/home/halechr/FastData'), Path(r'/home/halechr/turbo/Data'), Path(r'W:\\Data')\n",
    "global_data_root_parent_path = find_first_extant_path(known_global_data_root_parent_paths)\n",
    "assert global_data_root_parent_path.exists(), f\"global_data_root_parent_path: {global_data_root_parent_path} does not exist! Is the right computer's config commented out above?\"\n",
    "## Build Pickle Path:\n",
    "global_batch_result_file_path = Path(global_data_root_parent_path).joinpath(active_global_batch_result_filename).resolve() # Use Default\n",
    "\n",
    "# try to load an existing batch result:\n",
    "global_batch_run = BatchRun.try_init_from_file(global_data_root_parent_path, active_global_batch_result_filename=active_global_batch_result_filename,\n",
    "\t\t\t\t\t\tskip_root_path_conversion=False, debug_print=debug_print) # on_needs_create_callback_fn=run_diba_batch\n",
    "\n",
    "batch_progress_df = global_batch_run.to_dataframe(expand_context=True, good_only=False) # all\n",
    "good_only_batch_progress_df = global_batch_run.to_dataframe(expand_context=True, good_only=True)\n",
    "batch_progress_df.batch_results.build_all_columns()\n",
    "good_only_batch_progress_df.batch_results.build_all_columns()\n",
    "batch_progress_df\n",
    "with pd.option_context('display.max_rows', 10, 'display.max_columns', None):  # more options can be specified also\n",
    "    # display(batch_progress_df)\n",
    "    # display(good_only_batch_progress_df)\n",
    "    display(batch_progress_df)\n",
    "    "
   ]
  },
  {
   "cell_type": "markdown",
   "id": "ab824348",
   "metadata": {
    "tags": []
   },
   "source": [
    "# Run Batch Executions/Computations"
   ]
  },
  {
   "cell_type": "code",
   "execution_count": 3,
   "id": "019afbbd-70d2-4e75-9548-b6f22d2e31ca",
   "metadata": {
    "notebookRunGroups": {
     "groupValue": "12"
    },
    "scrolled": true,
    "tags": []
   },
   "outputs": [
    {
     "data": {
      "text/html": [
       "<div>\n",
       "<style scoped>\n",
       "    .dataframe tbody tr th:only-of-type {\n",
       "        vertical-align: middle;\n",
       "    }\n",
       "\n",
       "    .dataframe tbody tr th {\n",
       "        vertical-align: top;\n",
       "    }\n",
       "\n",
       "    .dataframe thead th {\n",
       "        text-align: right;\n",
       "    }\n",
       "</style>\n",
       "<table border=\"1\" class=\"dataframe\">\n",
       "  <thead>\n",
       "    <tr style=\"text-align: right;\">\n",
       "      <th></th>\n",
       "      <th>format_name</th>\n",
       "      <th>animal</th>\n",
       "      <th>exper_name</th>\n",
       "      <th>session_name</th>\n",
       "      <th>context</th>\n",
       "      <th>basedirs</th>\n",
       "      <th>status</th>\n",
       "      <th>errors</th>\n",
       "      <th>session_datetime</th>\n",
       "      <th>n_long_laps</th>\n",
       "      <th>n_long_replays</th>\n",
       "      <th>n_short_laps</th>\n",
       "      <th>n_short_replays</th>\n",
       "      <th>is_ready</th>\n",
       "      <th>global_computation_result_file</th>\n",
       "      <th>loaded_session_pickle_file</th>\n",
       "      <th>ripple_result_file</th>\n",
       "      <th>has_user_replay_annotations</th>\n",
       "      <th>has_user_grid_bin_bounds_annotations</th>\n",
       "    </tr>\n",
       "  </thead>\n",
       "  <tbody>\n",
       "    <tr>\n",
       "      <th>0</th>\n",
       "      <td>kdiba</td>\n",
       "      <td>gor01</td>\n",
       "      <td>one</td>\n",
       "      <td>2006-6-07_11-26-53</td>\n",
       "      <td>kdiba_gor01_one_2006-6-07_11-26-53</td>\n",
       "      <td>/nfs/turbo/umms-kdiba/Data/KDIBA/gor01/one/200...</td>\n",
       "      <td>SessionBatchProgress.NOT_STARTED</td>\n",
       "      <td>None</td>\n",
       "      <td>2006-06-07 11:26:53</td>\n",
       "      <td>0</td>\n",
       "      <td>0</td>\n",
       "      <td>0</td>\n",
       "      <td>0</td>\n",
       "      <td>False</td>\n",
       "      <td>/nfs/turbo/umms-kdiba/Data/KDIBA/gor01/one/200...</td>\n",
       "      <td>/nfs/turbo/umms-kdiba/Data/KDIBA/gor01/one/200...</td>\n",
       "      <td>/nfs/turbo/umms-kdiba/Data/KDIBA/gor01/one/200...</td>\n",
       "      <td>False</td>\n",
       "      <td>True</td>\n",
       "    </tr>\n",
       "    <tr>\n",
       "      <th>1</th>\n",
       "      <td>kdiba</td>\n",
       "      <td>gor01</td>\n",
       "      <td>one</td>\n",
       "      <td>2006-6-08_14-26-15</td>\n",
       "      <td>kdiba_gor01_one_2006-6-08_14-26-15</td>\n",
       "      <td>/nfs/turbo/umms-kdiba/Data/KDIBA/gor01/one/200...</td>\n",
       "      <td>SessionBatchProgress.NOT_STARTED</td>\n",
       "      <td>None</td>\n",
       "      <td>2006-06-08 14:26:15</td>\n",
       "      <td>0</td>\n",
       "      <td>0</td>\n",
       "      <td>0</td>\n",
       "      <td>0</td>\n",
       "      <td>False</td>\n",
       "      <td>/nfs/turbo/umms-kdiba/Data/KDIBA/gor01/one/200...</td>\n",
       "      <td>/nfs/turbo/umms-kdiba/Data/KDIBA/gor01/one/200...</td>\n",
       "      <td>/nfs/turbo/umms-kdiba/Data/KDIBA/gor01/one/200...</td>\n",
       "      <td>True</td>\n",
       "      <td>True</td>\n",
       "    </tr>\n",
       "    <tr>\n",
       "      <th>2</th>\n",
       "      <td>kdiba</td>\n",
       "      <td>gor01</td>\n",
       "      <td>one</td>\n",
       "      <td>2006-6-09_1-22-43</td>\n",
       "      <td>kdiba_gor01_one_2006-6-09_1-22-43</td>\n",
       "      <td>/nfs/turbo/umms-kdiba/Data/KDIBA/gor01/one/200...</td>\n",
       "      <td>SessionBatchProgress.NOT_STARTED</td>\n",
       "      <td>None</td>\n",
       "      <td>2006-06-09 01:22:43</td>\n",
       "      <td>0</td>\n",
       "      <td>0</td>\n",
       "      <td>0</td>\n",
       "      <td>0</td>\n",
       "      <td>False</td>\n",
       "      <td>/nfs/turbo/umms-kdiba/Data/KDIBA/gor01/one/200...</td>\n",
       "      <td>/nfs/turbo/umms-kdiba/Data/KDIBA/gor01/one/200...</td>\n",
       "      <td>/nfs/turbo/umms-kdiba/Data/KDIBA/gor01/one/200...</td>\n",
       "      <td>True</td>\n",
       "      <td>True</td>\n",
       "    </tr>\n",
       "    <tr>\n",
       "      <th>4</th>\n",
       "      <td>kdiba</td>\n",
       "      <td>gor01</td>\n",
       "      <td>one</td>\n",
       "      <td>2006-6-12_15-55-31</td>\n",
       "      <td>kdiba_gor01_one_2006-6-12_15-55-31</td>\n",
       "      <td>/nfs/turbo/umms-kdiba/Data/KDIBA/gor01/one/200...</td>\n",
       "      <td>SessionBatchProgress.NOT_STARTED</td>\n",
       "      <td>None</td>\n",
       "      <td>2006-06-12 15:55:31</td>\n",
       "      <td>0</td>\n",
       "      <td>0</td>\n",
       "      <td>0</td>\n",
       "      <td>0</td>\n",
       "      <td>False</td>\n",
       "      <td>/nfs/turbo/umms-kdiba/Data/KDIBA/gor01/one/200...</td>\n",
       "      <td>/nfs/turbo/umms-kdiba/Data/KDIBA/gor01/one/200...</td>\n",
       "      <td>/nfs/turbo/umms-kdiba/Data/KDIBA/gor01/one/200...</td>\n",
       "      <td>True</td>\n",
       "      <td>True</td>\n",
       "    </tr>\n",
       "    <tr>\n",
       "      <th>6</th>\n",
       "      <td>kdiba</td>\n",
       "      <td>gor01</td>\n",
       "      <td>two</td>\n",
       "      <td>2006-6-07_16-40-19</td>\n",
       "      <td>kdiba_gor01_two_2006-6-07_16-40-19</td>\n",
       "      <td>/nfs/turbo/umms-kdiba/Data/KDIBA/gor01/two/200...</td>\n",
       "      <td>SessionBatchProgress.NOT_STARTED</td>\n",
       "      <td>None</td>\n",
       "      <td>2006-06-07 16:40:19</td>\n",
       "      <td>0</td>\n",
       "      <td>0</td>\n",
       "      <td>0</td>\n",
       "      <td>0</td>\n",
       "      <td>False</td>\n",
       "      <td>/nfs/turbo/umms-kdiba/Data/KDIBA/gor01/two/200...</td>\n",
       "      <td>/nfs/turbo/umms-kdiba/Data/KDIBA/gor01/two/200...</td>\n",
       "      <td>/nfs/turbo/umms-kdiba/Data/KDIBA/gor01/two/200...</td>\n",
       "      <td>True</td>\n",
       "      <td>True</td>\n",
       "    </tr>\n",
       "    <tr>\n",
       "      <th>...</th>\n",
       "      <td>...</td>\n",
       "      <td>...</td>\n",
       "      <td>...</td>\n",
       "      <td>...</td>\n",
       "      <td>...</td>\n",
       "      <td>...</td>\n",
       "      <td>...</td>\n",
       "      <td>...</td>\n",
       "      <td>...</td>\n",
       "      <td>...</td>\n",
       "      <td>...</td>\n",
       "      <td>...</td>\n",
       "      <td>...</td>\n",
       "      <td>...</td>\n",
       "      <td>...</td>\n",
       "      <td>...</td>\n",
       "      <td>...</td>\n",
       "      <td>...</td>\n",
       "      <td>...</td>\n",
       "    </tr>\n",
       "    <tr>\n",
       "      <th>32</th>\n",
       "      <td>kdiba</td>\n",
       "      <td>vvp01</td>\n",
       "      <td>two</td>\n",
       "      <td>2006-4-10_12-58-3</td>\n",
       "      <td>kdiba_vvp01_two_2006-4-10_12-58-3</td>\n",
       "      <td>/nfs/turbo/umms-kdiba/Data/KDIBA/vvp01/two/200...</td>\n",
       "      <td>SessionBatchProgress.NOT_STARTED</td>\n",
       "      <td>None</td>\n",
       "      <td>2006-04-10 12:58:03</td>\n",
       "      <td>0</td>\n",
       "      <td>0</td>\n",
       "      <td>0</td>\n",
       "      <td>0</td>\n",
       "      <td>False</td>\n",
       "      <td>/nfs/turbo/umms-kdiba/Data/KDIBA/vvp01/two/200...</td>\n",
       "      <td>/nfs/turbo/umms-kdiba/Data/KDIBA/vvp01/two/200...</td>\n",
       "      <td>/nfs/turbo/umms-kdiba/Data/KDIBA/vvp01/two/200...</td>\n",
       "      <td>True</td>\n",
       "      <td>True</td>\n",
       "    </tr>\n",
       "    <tr>\n",
       "      <th>52</th>\n",
       "      <td>kdiba</td>\n",
       "      <td>pin01</td>\n",
       "      <td>one</td>\n",
       "      <td>11-02_17-46-44</td>\n",
       "      <td>kdiba_pin01_one_11-02_17-46-44</td>\n",
       "      <td>/nfs/turbo/umms-kdiba/Data/KDIBA/pin01/one/11-...</td>\n",
       "      <td>SessionBatchProgress.NOT_STARTED</td>\n",
       "      <td>None</td>\n",
       "      <td>2009-11-02 17:46:44</td>\n",
       "      <td>0</td>\n",
       "      <td>0</td>\n",
       "      <td>0</td>\n",
       "      <td>0</td>\n",
       "      <td>False</td>\n",
       "      <td>/nfs/turbo/umms-kdiba/Data/KDIBA/pin01/one/11-...</td>\n",
       "      <td>/nfs/turbo/umms-kdiba/Data/KDIBA/pin01/one/11-...</td>\n",
       "      <td>/nfs/turbo/umms-kdiba/Data/KDIBA/pin01/one/11-...</td>\n",
       "      <td>True</td>\n",
       "      <td>True</td>\n",
       "    </tr>\n",
       "    <tr>\n",
       "      <th>53</th>\n",
       "      <td>kdiba</td>\n",
       "      <td>pin01</td>\n",
       "      <td>one</td>\n",
       "      <td>11-02_19-28-0</td>\n",
       "      <td>kdiba_pin01_one_11-02_19-28-0</td>\n",
       "      <td>/nfs/turbo/umms-kdiba/Data/KDIBA/pin01/one/11-...</td>\n",
       "      <td>SessionBatchProgress.NOT_STARTED</td>\n",
       "      <td>None</td>\n",
       "      <td>2009-11-02 19:28:00</td>\n",
       "      <td>0</td>\n",
       "      <td>0</td>\n",
       "      <td>0</td>\n",
       "      <td>0</td>\n",
       "      <td>False</td>\n",
       "      <td>/nfs/turbo/umms-kdiba/Data/KDIBA/pin01/one/11-...</td>\n",
       "      <td>/nfs/turbo/umms-kdiba/Data/KDIBA/pin01/one/11-...</td>\n",
       "      <td>/nfs/turbo/umms-kdiba/Data/KDIBA/pin01/one/11-...</td>\n",
       "      <td>True</td>\n",
       "      <td>True</td>\n",
       "    </tr>\n",
       "    <tr>\n",
       "      <th>54</th>\n",
       "      <td>kdiba</td>\n",
       "      <td>pin01</td>\n",
       "      <td>one</td>\n",
       "      <td>11-03_12-3-25</td>\n",
       "      <td>kdiba_pin01_one_11-03_12-3-25</td>\n",
       "      <td>/nfs/turbo/umms-kdiba/Data/KDIBA/pin01/one/11-...</td>\n",
       "      <td>SessionBatchProgress.NOT_STARTED</td>\n",
       "      <td>None</td>\n",
       "      <td>2009-11-03 12:03:25</td>\n",
       "      <td>0</td>\n",
       "      <td>0</td>\n",
       "      <td>0</td>\n",
       "      <td>0</td>\n",
       "      <td>False</td>\n",
       "      <td>/nfs/turbo/umms-kdiba/Data/KDIBA/pin01/one/11-...</td>\n",
       "      <td>/nfs/turbo/umms-kdiba/Data/KDIBA/pin01/one/11-...</td>\n",
       "      <td>/nfs/turbo/umms-kdiba/Data/KDIBA/pin01/one/11-...</td>\n",
       "      <td>True</td>\n",
       "      <td>True</td>\n",
       "    </tr>\n",
       "    <tr>\n",
       "      <th>64</th>\n",
       "      <td>kdiba</td>\n",
       "      <td>pin01</td>\n",
       "      <td>one</td>\n",
       "      <td>fet11-01_12-58-54</td>\n",
       "      <td>kdiba_pin01_one_fet11-01_12-58-54</td>\n",
       "      <td>/nfs/turbo/umms-kdiba/Data/KDIBA/pin01/one/fet...</td>\n",
       "      <td>SessionBatchProgress.NOT_STARTED</td>\n",
       "      <td>None</td>\n",
       "      <td>2009-11-01 12:58:54</td>\n",
       "      <td>0</td>\n",
       "      <td>0</td>\n",
       "      <td>0</td>\n",
       "      <td>0</td>\n",
       "      <td>False</td>\n",
       "      <td>/nfs/turbo/umms-kdiba/Data/KDIBA/pin01/one/fet...</td>\n",
       "      <td>/nfs/turbo/umms-kdiba/Data/KDIBA/pin01/one/fet...</td>\n",
       "      <td>/nfs/turbo/umms-kdiba/Data/KDIBA/pin01/one/fet...</td>\n",
       "      <td>True</td>\n",
       "      <td>True</td>\n",
       "    </tr>\n",
       "  </tbody>\n",
       "</table>\n",
       "<p>16 rows × 19 columns</p>\n",
       "</div>"
      ],
      "text/plain": [
       "   format_name animal exper_name        session_name  \\\n",
       "0        kdiba  gor01        one  2006-6-07_11-26-53   \n",
       "1        kdiba  gor01        one  2006-6-08_14-26-15   \n",
       "2        kdiba  gor01        one   2006-6-09_1-22-43   \n",
       "4        kdiba  gor01        one  2006-6-12_15-55-31   \n",
       "6        kdiba  gor01        two  2006-6-07_16-40-19   \n",
       "..         ...    ...        ...                 ...   \n",
       "32       kdiba  vvp01        two   2006-4-10_12-58-3   \n",
       "52       kdiba  pin01        one      11-02_17-46-44   \n",
       "53       kdiba  pin01        one       11-02_19-28-0   \n",
       "54       kdiba  pin01        one       11-03_12-3-25   \n",
       "64       kdiba  pin01        one   fet11-01_12-58-54   \n",
       "\n",
       "                               context  \\\n",
       "0   kdiba_gor01_one_2006-6-07_11-26-53   \n",
       "1   kdiba_gor01_one_2006-6-08_14-26-15   \n",
       "2    kdiba_gor01_one_2006-6-09_1-22-43   \n",
       "4   kdiba_gor01_one_2006-6-12_15-55-31   \n",
       "6   kdiba_gor01_two_2006-6-07_16-40-19   \n",
       "..                                 ...   \n",
       "32   kdiba_vvp01_two_2006-4-10_12-58-3   \n",
       "52      kdiba_pin01_one_11-02_17-46-44   \n",
       "53       kdiba_pin01_one_11-02_19-28-0   \n",
       "54       kdiba_pin01_one_11-03_12-3-25   \n",
       "64   kdiba_pin01_one_fet11-01_12-58-54   \n",
       "\n",
       "                                             basedirs  \\\n",
       "0   /nfs/turbo/umms-kdiba/Data/KDIBA/gor01/one/200...   \n",
       "1   /nfs/turbo/umms-kdiba/Data/KDIBA/gor01/one/200...   \n",
       "2   /nfs/turbo/umms-kdiba/Data/KDIBA/gor01/one/200...   \n",
       "4   /nfs/turbo/umms-kdiba/Data/KDIBA/gor01/one/200...   \n",
       "6   /nfs/turbo/umms-kdiba/Data/KDIBA/gor01/two/200...   \n",
       "..                                                ...   \n",
       "32  /nfs/turbo/umms-kdiba/Data/KDIBA/vvp01/two/200...   \n",
       "52  /nfs/turbo/umms-kdiba/Data/KDIBA/pin01/one/11-...   \n",
       "53  /nfs/turbo/umms-kdiba/Data/KDIBA/pin01/one/11-...   \n",
       "54  /nfs/turbo/umms-kdiba/Data/KDIBA/pin01/one/11-...   \n",
       "64  /nfs/turbo/umms-kdiba/Data/KDIBA/pin01/one/fet...   \n",
       "\n",
       "                              status errors    session_datetime  n_long_laps  \\\n",
       "0   SessionBatchProgress.NOT_STARTED   None 2006-06-07 11:26:53            0   \n",
       "1   SessionBatchProgress.NOT_STARTED   None 2006-06-08 14:26:15            0   \n",
       "2   SessionBatchProgress.NOT_STARTED   None 2006-06-09 01:22:43            0   \n",
       "4   SessionBatchProgress.NOT_STARTED   None 2006-06-12 15:55:31            0   \n",
       "6   SessionBatchProgress.NOT_STARTED   None 2006-06-07 16:40:19            0   \n",
       "..                               ...    ...                 ...          ...   \n",
       "32  SessionBatchProgress.NOT_STARTED   None 2006-04-10 12:58:03            0   \n",
       "52  SessionBatchProgress.NOT_STARTED   None 2009-11-02 17:46:44            0   \n",
       "53  SessionBatchProgress.NOT_STARTED   None 2009-11-02 19:28:00            0   \n",
       "54  SessionBatchProgress.NOT_STARTED   None 2009-11-03 12:03:25            0   \n",
       "64  SessionBatchProgress.NOT_STARTED   None 2009-11-01 12:58:54            0   \n",
       "\n",
       "    n_long_replays  n_short_laps  n_short_replays  is_ready  \\\n",
       "0                0             0                0     False   \n",
       "1                0             0                0     False   \n",
       "2                0             0                0     False   \n",
       "4                0             0                0     False   \n",
       "6                0             0                0     False   \n",
       "..             ...           ...              ...       ...   \n",
       "32               0             0                0     False   \n",
       "52               0             0                0     False   \n",
       "53               0             0                0     False   \n",
       "54               0             0                0     False   \n",
       "64               0             0                0     False   \n",
       "\n",
       "                       global_computation_result_file  \\\n",
       "0   /nfs/turbo/umms-kdiba/Data/KDIBA/gor01/one/200...   \n",
       "1   /nfs/turbo/umms-kdiba/Data/KDIBA/gor01/one/200...   \n",
       "2   /nfs/turbo/umms-kdiba/Data/KDIBA/gor01/one/200...   \n",
       "4   /nfs/turbo/umms-kdiba/Data/KDIBA/gor01/one/200...   \n",
       "6   /nfs/turbo/umms-kdiba/Data/KDIBA/gor01/two/200...   \n",
       "..                                                ...   \n",
       "32  /nfs/turbo/umms-kdiba/Data/KDIBA/vvp01/two/200...   \n",
       "52  /nfs/turbo/umms-kdiba/Data/KDIBA/pin01/one/11-...   \n",
       "53  /nfs/turbo/umms-kdiba/Data/KDIBA/pin01/one/11-...   \n",
       "54  /nfs/turbo/umms-kdiba/Data/KDIBA/pin01/one/11-...   \n",
       "64  /nfs/turbo/umms-kdiba/Data/KDIBA/pin01/one/fet...   \n",
       "\n",
       "                           loaded_session_pickle_file  \\\n",
       "0   /nfs/turbo/umms-kdiba/Data/KDIBA/gor01/one/200...   \n",
       "1   /nfs/turbo/umms-kdiba/Data/KDIBA/gor01/one/200...   \n",
       "2   /nfs/turbo/umms-kdiba/Data/KDIBA/gor01/one/200...   \n",
       "4   /nfs/turbo/umms-kdiba/Data/KDIBA/gor01/one/200...   \n",
       "6   /nfs/turbo/umms-kdiba/Data/KDIBA/gor01/two/200...   \n",
       "..                                                ...   \n",
       "32  /nfs/turbo/umms-kdiba/Data/KDIBA/vvp01/two/200...   \n",
       "52  /nfs/turbo/umms-kdiba/Data/KDIBA/pin01/one/11-...   \n",
       "53  /nfs/turbo/umms-kdiba/Data/KDIBA/pin01/one/11-...   \n",
       "54  /nfs/turbo/umms-kdiba/Data/KDIBA/pin01/one/11-...   \n",
       "64  /nfs/turbo/umms-kdiba/Data/KDIBA/pin01/one/fet...   \n",
       "\n",
       "                                   ripple_result_file  \\\n",
       "0   /nfs/turbo/umms-kdiba/Data/KDIBA/gor01/one/200...   \n",
       "1   /nfs/turbo/umms-kdiba/Data/KDIBA/gor01/one/200...   \n",
       "2   /nfs/turbo/umms-kdiba/Data/KDIBA/gor01/one/200...   \n",
       "4   /nfs/turbo/umms-kdiba/Data/KDIBA/gor01/one/200...   \n",
       "6   /nfs/turbo/umms-kdiba/Data/KDIBA/gor01/two/200...   \n",
       "..                                                ...   \n",
       "32  /nfs/turbo/umms-kdiba/Data/KDIBA/vvp01/two/200...   \n",
       "52  /nfs/turbo/umms-kdiba/Data/KDIBA/pin01/one/11-...   \n",
       "53  /nfs/turbo/umms-kdiba/Data/KDIBA/pin01/one/11-...   \n",
       "54  /nfs/turbo/umms-kdiba/Data/KDIBA/pin01/one/11-...   \n",
       "64  /nfs/turbo/umms-kdiba/Data/KDIBA/pin01/one/fet...   \n",
       "\n",
       "    has_user_replay_annotations  has_user_grid_bin_bounds_annotations  \n",
       "0                         False                                  True  \n",
       "1                          True                                  True  \n",
       "2                          True                                  True  \n",
       "4                          True                                  True  \n",
       "6                          True                                  True  \n",
       "..                          ...                                   ...  \n",
       "32                         True                                  True  \n",
       "52                         True                                  True  \n",
       "53                         True                                  True  \n",
       "54                         True                                  True  \n",
       "64                         True                                  True  \n",
       "\n",
       "[16 rows x 19 columns]"
      ]
     },
     "metadata": {},
     "output_type": "display_data"
    }
   ],
   "source": [
    "# Hardcoded included_session_contexts:\n",
    "included_session_contexts = [\n",
    "    IdentifyingContext(format_name='kdiba',animal='gor01',exper_name='one',session_name='2006-6-08_14-26-15'), \n",
    "    IdentifyingContext(format_name='kdiba',animal='gor01',exper_name='one',session_name='2006-6-09_1-22-43'), \n",
    "    IdentifyingContext(format_name='kdiba',animal='gor01',exper_name='one',session_name='2006-6-12_15-55-31'), # \n",
    "    IdentifyingContext(format_name='kdiba',animal='gor01',exper_name='two',session_name='2006-6-07_16-40-19'), \n",
    "    IdentifyingContext(format_name='kdiba',animal='gor01',exper_name='two',session_name='2006-6-08_21-16-25'),\n",
    "    IdentifyingContext(format_name='kdiba',animal='gor01',exper_name='two',session_name='2006-6-09_22-24-40'),\n",
    "    IdentifyingContext(format_name='kdiba',animal='gor01',exper_name='two',session_name='2006-6-12_16-53-46'),\n",
    "    IdentifyingContext(format_name='kdiba',animal='vvp01',exper_name='one',session_name='2006-4-09_17-29-30'),\n",
    "    IdentifyingContext(format_name='kdiba',animal='vvp01',exper_name='one',session_name='2006-4-10_12-25-50'),\n",
    "    IdentifyingContext(format_name='kdiba',animal='vvp01',exper_name='two',session_name='2006-4-09_16-40-54'),\n",
    "    IdentifyingContext(format_name='kdiba',animal='vvp01',exper_name='two',session_name='2006-4-10_12-58-3'),\n",
    "    IdentifyingContext(format_name='kdiba',animal='pin01',exper_name='one',session_name='11-02_17-46-44'), #\n",
    "    IdentifyingContext(format_name='kdiba',animal='pin01',exper_name='one',session_name='11-02_19-28-0'),\n",
    "    IdentifyingContext(format_name='kdiba',animal='pin01',exper_name='one',session_name='11-03_12-3-25'),\n",
    "    IdentifyingContext(format_name='kdiba',animal='pin01',exper_name='one',session_name='fet11-01_12-58-54'), # OK\n",
    "    IdentifyingContext(format_name='kdiba',animal='gor01',exper_name='one',session_name='2006-6-07_11-26-53'), # OK\n",
    "]\n",
    "\n",
    "good_session_concrete_folders = ConcreteSessionFolder.build_concrete_session_folders(global_data_root_parent_path, included_session_contexts)\n",
    "good_session_concrete_folders\n",
    "\n",
    "included_session_batch_progress_df = batch_progress_df[np.isin(batch_progress_df['context'].values, included_session_contexts)]\n",
    "with pd.option_context('display.max_rows', 10, 'display.max_columns', None):  # more options can be specified also\n",
    "    display(included_session_batch_progress_df)"
   ]
  },
  {
   "cell_type": "markdown",
   "id": "71584edc",
   "metadata": {},
   "source": [
    "# Execute Batch"
   ]
  },
  {
   "cell_type": "code",
   "execution_count": 4,
   "id": "ab6ae279",
   "metadata": {
    "notebookRunGroups": {
     "groupValue": "1"
    },
    "scrolled": true,
    "tags": []
   },
   "outputs": [
    {
     "name": "stdout",
     "output_type": "stream",
     "text": [
      "len(included_session_contexts): 16\n",
      "Beginning processing with len(included_session_contexts): 16\n",
      "build_logger(full_logger_string=\"2024-09-26_16-09-19.gl3151.arc-ts.umich.edu.com.PhoHale.PhoPy3DPositionAnalyis.Batch.runBatch.run_specific_batch.kdiba.gor01.one.2006-6-08_14-26-15\", file_logging_dir: None):\n",
      "========================== runBatch STARTING ==========================\n",
      "\tglobal_data_root_parent_path: /nfs/turbo/umms-kdiba/Data\n",
      "\tsession_context: kdiba_gor01_one_2006-6-08_14-26-15\n",
      "\tsession_basedir: \"/nfs/turbo/umms-kdiba/Data/KDIBA/gor01/one/2006-6-08_14-26-15\"\n",
      "__________________________________________________________________\n",
      "basedir: /nfs/turbo/umms-kdiba/Data/KDIBA/gor01/one/2006-6-08_14-26-15\n",
      "active_data_mode_name: kdiba\n",
      "Computing loaded session pickle file results : \"/nfs/turbo/umms-kdiba/Data/KDIBA/gor01/one/2006-6-08_14-26-15/loadedSessPickle.pkl\"... build_logger(full_logger_string=\"2024-09-26_16-09-37.gl3151.arc-ts.umich.edu.kdiba.gor01.one.2006-6-08_14-26-15\", file_logging_dir: None):\n",
      "done.\n",
      "Loading pickled pipeline success: /nfs/turbo/umms-kdiba/Data/KDIBA/gor01/one/2006-6-08_14-26-15/loadedSessPickle.pkl.\n",
      "properties already present in pickled version. No need to save.\n",
      "pipeline load success!\n",
      "using provided computation_functions_name_includelist: ['pf_computation', 'pfdt_computation', 'firing_rate_trends', 'position_decoding']\n",
      "WARNING: skipping computation because overwrite_extant_results=False and `active_computation_results[maze1_odd]` already exists and is non-None\n",
      "\t TODO: this will prevent recomputation even when the excludelist/includelist or computation function definitions change. Rework so that this is smarter.\n",
      "WARNING: skipping computation because overwrite_extant_results=False and `active_computation_results[maze2_odd]` already exists and is non-None\n",
      "\t TODO: this will prevent recomputation even when the excludelist/includelist or computation function definitions change. Rework so that this is smarter.\n",
      "WARNING: skipping computation because overwrite_extant_results=False and `active_computation_results[maze_odd]` already exists and is non-None\n",
      "\t TODO: this will prevent recomputation even when the excludelist/includelist or computation function definitions change. Rework so that this is smarter.\n",
      "WARNING: skipping computation because overwrite_extant_results=False and `active_computation_results[maze1_even]` already exists and is non-None\n",
      "\t TODO: this will prevent recomputation even when the excludelist/includelist or computation function definitions change. Rework so that this is smarter.\n",
      "WARNING: skipping computation because overwrite_extant_results=False and `active_computation_results[maze2_even]` already exists and is non-None\n",
      "\t TODO: this will prevent recomputation even when the excludelist/includelist or computation function definitions change. Rework so that this is smarter.\n",
      "WARNING: skipping computation because overwrite_extant_results=False and `active_computation_results[maze_even]` already exists and is non-None\n",
      "\t TODO: this will prevent recomputation even when the excludelist/includelist or computation function definitions change. Rework so that this is smarter.\n",
      "WARNING: skipping computation because overwrite_extant_results=False and `active_computation_results[maze1_any]` already exists and is non-None\n",
      "\t TODO: this will prevent recomputation even when the excludelist/includelist or computation function definitions change. Rework so that this is smarter.\n",
      "WARNING: skipping computation because overwrite_extant_results=False and `active_computation_results[maze2_any]` already exists and is non-None\n",
      "\t TODO: this will prevent recomputation even when the excludelist/includelist or computation function definitions change. Rework so that this is smarter.\n",
      "WARNING: skipping computation because overwrite_extant_results=False and `active_computation_results[maze_any]` already exists and is non-None\n",
      "\t TODO: this will prevent recomputation even when the excludelist/includelist or computation function definitions change. Rework so that this is smarter.\n",
      "WARNING: skipping computation because overwrite_extant_results=False and `active_computation_results[maze1_odd]` already exists and is non-None\n",
      "\t TODO: this will prevent recomputation even when the excludelist/includelist or computation function definitions change. Rework so that this is smarter.\n",
      "WARNING: skipping computation because overwrite_extant_results=False and `active_computation_results[maze2_odd]` already exists and is non-None\n",
      "\t TODO: this will prevent recomputation even when the excludelist/includelist or computation function definitions change. Rework so that this is smarter.\n",
      "WARNING: skipping computation because overwrite_extant_results=False and `active_computation_results[maze_odd]` already exists and is non-None\n",
      "\t TODO: this will prevent recomputation even when the excludelist/includelist or computation function definitions change. Rework so that this is smarter.\n",
      "WARNING: skipping computation because overwrite_extant_results=False and `active_computation_results[maze1_even]` already exists and is non-None\n",
      "\t TODO: this will prevent recomputation even when the excludelist/includelist or computation function definitions change. Rework so that this is smarter.\n",
      "WARNING: skipping computation because overwrite_extant_results=False and `active_computation_results[maze2_even]` already exists and is non-None\n",
      "\t TODO: this will prevent recomputation even when the excludelist/includelist or computation function definitions change. Rework so that this is smarter.\n",
      "WARNING: skipping computation because overwrite_extant_results=False and `active_computation_results[maze_even]` already exists and is non-None\n",
      "\t TODO: this will prevent recomputation even when the excludelist/includelist or computation function definitions change. Rework so that this is smarter.\n",
      "WARNING: skipping computation because overwrite_extant_results=False and `active_computation_results[maze1_any]` already exists and is non-None\n",
      "\t TODO: this will prevent recomputation even when the excludelist/includelist or computation function definitions change. Rework so that this is smarter.\n",
      "WARNING: skipping computation because overwrite_extant_results=False and `active_computation_results[maze2_any]` already exists and is non-None\n",
      "\t TODO: this will prevent recomputation even when the excludelist/includelist or computation function definitions change. Rework so that this is smarter.\n",
      "WARNING: skipping computation because overwrite_extant_results=False and `active_computation_results[maze_any]` already exists and is non-None\n",
      "\t TODO: this will prevent recomputation even when the excludelist/includelist or computation function definitions change. Rework so that this is smarter.\n"
     ]
    },
    {
     "name": "stderr",
     "output_type": "stream",
     "text": [
      "WARNING: saving_mode is SKIP_SAVING so pipeline will not be saved despite calling .save_pipeline(...).\n",
      "WARNING: saving_mode is SKIP_SAVING so pipeline will not be saved despite calling .save_pipeline(...).\n"
     ]
    },
    {
     "name": "stdout",
     "output_type": "stream",
     "text": [
      "WARNING: skipping computation because overwrite_extant_results=False and `active_computation_results[maze1_odd]` already exists and is non-None\n",
      "\t TODO: this will prevent recomputation even when the excludelist/includelist or computation function definitions change. Rework so that this is smarter.\n",
      "WARNING: skipping computation because overwrite_extant_results=False and `active_computation_results[maze2_odd]` already exists and is non-None\n",
      "\t TODO: this will prevent recomputation even when the excludelist/includelist or computation function definitions change. Rework so that this is smarter.\n",
      "WARNING: skipping computation because overwrite_extant_results=False and `active_computation_results[maze_odd]` already exists and is non-None\n",
      "\t TODO: this will prevent recomputation even when the excludelist/includelist or computation function definitions change. Rework so that this is smarter.\n",
      "WARNING: skipping computation because overwrite_extant_results=False and `active_computation_results[maze1_even]` already exists and is non-None\n",
      "\t TODO: this will prevent recomputation even when the excludelist/includelist or computation function definitions change. Rework so that this is smarter.\n",
      "WARNING: skipping computation because overwrite_extant_results=False and `active_computation_results[maze2_even]` already exists and is non-None\n",
      "\t TODO: this will prevent recomputation even when the excludelist/includelist or computation function definitions change. Rework so that this is smarter.\n",
      "WARNING: skipping computation because overwrite_extant_results=False and `active_computation_results[maze_even]` already exists and is non-None\n",
      "\t TODO: this will prevent recomputation even when the excludelist/includelist or computation function definitions change. Rework so that this is smarter.\n",
      "WARNING: skipping computation because overwrite_extant_results=False and `active_computation_results[maze1_any]` already exists and is non-None\n",
      "\t TODO: this will prevent recomputation even when the excludelist/includelist or computation function definitions change. Rework so that this is smarter.\n",
      "WARNING: skipping computation because overwrite_extant_results=False and `active_computation_results[maze2_any]` already exists and is non-None\n",
      "\t TODO: this will prevent recomputation even when the excludelist/includelist or computation function definitions change. Rework so that this is smarter.\n",
      "WARNING: skipping computation because overwrite_extant_results=False and `active_computation_results[maze_any]` already exists and is non-None\n",
      "\t TODO: this will prevent recomputation even when the excludelist/includelist or computation function definitions change. Rework so that this is smarter.\n",
      "WARNING: saving_mode is SKIP_SAVING so pipeline will not be saved despite calling .save_pipeline(...).\n",
      "saving_mode.shouldSave == False, so not saving at the end of batch_load_session\n",
      "on_complete_success_execution_session(curr_session_context: kdiba_gor01_one_2006-6-08_14-26-15, curr_session_basedir: /nfs/turbo/umms-kdiba/Data/KDIBA/gor01/one/2006-6-08_14-26-15, ...)\n",
      "DEPRICATION WARNING: workaround to allow subscripting ComputationResult objects. Will be depricated. key: computed_data\n",
      "DEPRICATION WARNING: workaround to allow subscripting ComputationResult objects. Will be depricated. key: computed_data\n",
      "DEPRICATION WARNING: workaround to allow subscripting ComputationResult objects. Will be depricated. key: computed_data\n",
      "DEPRICATION WARNING: workaround to allow subscripting ComputationResult objects. Will be depricated. key: computed_data\n",
      "DEPRICATION WARNING: workaround to allow subscripting ComputationResult objects. Will be depricated. key: computed_data\n",
      "DEPRICATION WARNING: workaround to allow subscripting ComputationResult objects. Will be depricated. key: computed_data\n",
      "were pipeline preprocessing parameters missing and updated?: False\n",
      "WARNING: saving_mode is SKIP_SAVING so pipeline will not be saved despite calling .save_pipeline(...).\n",
      "Computing loaded session pickle file results : \"/nfs/turbo/umms-kdiba/Data/KDIBA/gor01/one/2006-6-08_14-26-15/output/global_computation_results.pkl\"... done.\n",
      "_perform_long_short_instantaneous_spike_rate_groups_analysis is lacking a required computation config parameter! creating a new curr_active_pipeline.global_computation_results.computation_config\n",
      "no changes in global results.\n",
      "[neptune] [info   ] Neptune initialized. Open in the app: https://app.neptune.ai/commander.pho/PhoDibaLongShortUpdated/\n"
     ]
    },
    {
     "name": "stderr",
     "output_type": "stream",
     "text": [
      "[neptune] [warning] NeptuneWarning: The following monitoring options are disabled by default in interactive sessions: 'capture_stdout', 'capture_stderr', 'capture_traceback', and 'capture_hardware_metrics'. To enable them, set each parameter to 'True' when initializing the run. The monitoring will continue until you call run.stop() or the kernel stops. Also note: Your source files can only be tracked if you pass the path(s) to the 'source_code' argument. For help, see the Neptune docs: https://docs.neptune.ai/logging/source_code/\n"
     ]
    },
    {
     "name": "stdout",
     "output_type": "stream",
     "text": [
      "[neptune] [info   ] Neptune initialized. Open in the app: https://app.neptune.ai/commander.pho/PhoDibaLongShortUpdated/e/LS2023-1367\n",
      "include_includelist: ['maze1_odd', 'maze2_odd', 'maze_odd', 'maze1_even', 'maze2_even', 'maze_even', 'maze1_any', 'maze2_any', 'maze_any']\n",
      "long_epoch_name: maze1_odd, short_epoch_name: maze2_odd, global_epoch_name: maze_any\n"
     ]
    },
    {
     "name": "stderr",
     "output_type": "stream",
     "text": [
      "/home/halechr/repos/pyPhoPlaceCellAnalysis/src/pyphoplacecellanalysis/General/Pipeline/Stages/DisplayFunctions/MultiContextComparingDisplayFunctions/LongShortTrackComparingDisplayFunctions.py:1290: SettingWithCopyWarning: \n",
      "A value is trying to be set on a copy of a slice from a DataFrame.\n",
      "Try using .loc[row_indexer,col_indexer] = value instead\n",
      "\n",
      "See the caveats in the documentation: https://pandas.pydata.org/pandas-docs/stable/user_guide/indexing.html#returning-a-view-versus-a-copy\n",
      "  cell_df.loc[:, 'x'] = spk_x\n",
      "/home/halechr/repos/pyPhoPlaceCellAnalysis/src/pyphoplacecellanalysis/General/Mixins/CrossComputationComparisonHelpers.py:245: RuntimeWarning: invalid value encountered in divide\n",
      "  _long_to_short_balances = (rdf.num_short_only_neuron_participating.values - rdf.num_long_only_neuron_participating.values) / (rdf.num_short_only_neuron_participating.values + rdf.num_long_only_neuron_participating.values) ## Working but (0, 1, 1) would clip to 0.5 despite (1, 13, 0) going all the way down to -1.0\n",
      "/home/halechr/repos/pyPhoPlaceCellAnalysis/src/pyphoplacecellanalysis/General/Mixins/CrossComputationComparisonHelpers.py:275: RuntimeWarning: invalid value encountered in divide\n",
      "  _long_to_short_balances = (rdf.num_short_only_neuron_participating.values - rdf.num_long_only_neuron_participating.values) / (rdf.num_short_only_neuron_participating.values + rdf.num_long_only_neuron_participating.values) ## Working but (0, 1, 1) would clip to 0.5 despite (1, 13, 0) going all the way down to -1.0\n"
     ]
    },
    {
     "name": "stdout",
     "output_type": "stream",
     "text": [
      "DEPRICATION WARNING: workaround to allow subscripting ComputationResult objects. Will be depricated. key: computed_data\n",
      "DEPRICATION WARNING: workaround to allow subscripting ComputationResult objects. Will be depricated. key: computed_data\n",
      "DEPRICATION WARNING: workaround to allow subscripting ComputationResult objects. Will be depricated. key: computed_data\n",
      "WARNING: aclu 8 is not present in the `pf1d_short` ratemaps. Which contain aclus: [3, 4, 5, 7, 9, 10, 11, 13, 14, 15, 16, 19, 21, 25, 31, 32, 33, 34, 35, 36, 37, 41, 45, 48, 49, 50, 51, 52, 53, 55, 56, 57, 58, 59, 60, 61, 62, 63, 64, 66, 67, 69, 70, 71, 73, 75, 76, 78, 81, 83, 84, 85, 86, 88, 89, 90, 92, 93, 98, 100, 102, 107, 108]\n",
      "WARNING: aclu 8 is not present in the `pf1d_long` ratemaps. Which contain aclus: [2, 3, 5, 7, 9, 10, 11, 14, 15, 16, 17, 19, 21, 28, 31, 32, 33, 35, 36, 37, 41, 45, 48, 49, 50, 51, 53, 54, 55, 57, 59, 60, 61, 62, 63, 64, 68, 69, 70, 71, 73, 74, 75, 76, 78, 81, 83, 84, 85, 86, 88, 90, 92, 93, 97, 98, 100, 102, 105, 107, 108]\n",
      "WARNING: aclu 28 is not present in the `pf1d_short` ratemaps. Which contain aclus: [3, 4, 5, 7, 9, 10, 11, 13, 14, 15, 16, 19, 21, 25, 31, 32, 33, 34, 35, 36, 37, 41, 45, 48, 49, 50, 51, 52, 53, 55, 56, 57, 58, 59, 60, 61, 62, 63, 64, 66, 67, 69, 70, 71, 73, 75, 76, 78, 81, 83, 84, 85, 86, 88, 89, 90, 92, 93, 98, 100, 102, 107, 108]\n",
      "WARNING: aclu 74 is not present in the `pf1d_short` ratemaps. Which contain aclus: [3, 4, 5, 7, 9, 10, 11, 13, 14, 15, 16, 19, 21, 25, 31, 32, 33, 34, 35, 36, 37, 41, 45, 48, 49, 50, 51, 52, 53, 55, 56, 57, 58, 59, 60, 61, 62, 63, 64, 66, 67, 69, 70, 71, 73, 75, 76, 78, 81, 83, 84, 85, 86, 88, 89, 90, 92, 93, 98, 100, 102, 107, 108]\n",
      "WARNING: aclu 97 is not present in the `pf1d_short` ratemaps. Which contain aclus: [3, 4, 5, 7, 9, 10, 11, 13, 14, 15, 16, 19, 21, 25, 31, 32, 33, 34, 35, 36, 37, 41, 45, 48, 49, 50, 51, 52, 53, 55, 56, 57, 58, 59, 60, 61, 62, 63, 64, 66, 67, 69, 70, 71, 73, 75, 76, 78, 81, 83, 84, 85, 86, 88, 89, 90, 92, 93, 98, 100, 102, 107, 108]\n",
      "WARNING: aclu 109 is not present in the `pf1d_short` ratemaps. Which contain aclus: [3, 4, 5, 7, 9, 10, 11, 13, 14, 15, 16, 19, 21, 25, 31, 32, 33, 34, 35, 36, 37, 41, 45, 48, 49, 50, 51, 52, 53, 55, 56, 57, 58, 59, 60, 61, 62, 63, 64, 66, 67, 69, 70, 71, 73, 75, 76, 78, 81, 83, 84, 85, 86, 88, 89, 90, 92, 93, 98, 100, 102, 107, 108]\n",
      "WARNING: aclu 109 is not present in the `pf1d_long` ratemaps. Which contain aclus: [2, 3, 5, 7, 9, 10, 11, 14, 15, 16, 17, 19, 21, 28, 31, 32, 33, 35, 36, 37, 41, 45, 48, 49, 50, 51, 53, 54, 55, 57, 59, 60, 61, 62, 63, 64, 68, 69, 70, 71, 73, 74, 75, 76, 78, 81, 83, 84, 85, 86, 88, 90, 92, 93, 97, 98, 100, 102, 105, 107, 108]\n",
      "\t saved /home/halechr/repos/Spike3D/EXTERNAL/Screenshots/ProgrammaticDisplayFunctionTesting/2024-09-26/kdiba/gor01/one/2006-6-08_14-26-15/BatchPhoJonathanReplayFRC_long_only_(8,16,28,37,74,97,109).png\n",
      "include_includelist: ['maze1_odd', 'maze2_odd', 'maze_odd', 'maze1_even', 'maze2_even', 'maze_even', 'maze1_any', 'maze2_any', 'maze_any']\n",
      "long_epoch_name: maze1_odd, short_epoch_name: maze2_odd, global_epoch_name: maze_any\n"
     ]
    },
    {
     "name": "stderr",
     "output_type": "stream",
     "text": [
      "/home/halechr/repos/pyPhoPlaceCellAnalysis/src/pyphoplacecellanalysis/General/Pipeline/Stages/DisplayFunctions/MultiContextComparingDisplayFunctions/LongShortTrackComparingDisplayFunctions.py:1290: SettingWithCopyWarning: \n",
      "A value is trying to be set on a copy of a slice from a DataFrame.\n",
      "Try using .loc[row_indexer,col_indexer] = value instead\n",
      "\n",
      "See the caveats in the documentation: https://pandas.pydata.org/pandas-docs/stable/user_guide/indexing.html#returning-a-view-versus-a-copy\n",
      "  cell_df.loc[:, 'x'] = spk_x\n",
      "/home/halechr/repos/pyPhoPlaceCellAnalysis/src/pyphoplacecellanalysis/General/Mixins/CrossComputationComparisonHelpers.py:245: RuntimeWarning: invalid value encountered in divide\n",
      "  _long_to_short_balances = (rdf.num_short_only_neuron_participating.values - rdf.num_long_only_neuron_participating.values) / (rdf.num_short_only_neuron_participating.values + rdf.num_long_only_neuron_participating.values) ## Working but (0, 1, 1) would clip to 0.5 despite (1, 13, 0) going all the way down to -1.0\n",
      "/home/halechr/repos/pyPhoPlaceCellAnalysis/src/pyphoplacecellanalysis/General/Mixins/CrossComputationComparisonHelpers.py:275: RuntimeWarning: invalid value encountered in divide\n",
      "  _long_to_short_balances = (rdf.num_short_only_neuron_participating.values - rdf.num_long_only_neuron_participating.values) / (rdf.num_short_only_neuron_participating.values + rdf.num_long_only_neuron_participating.values) ## Working but (0, 1, 1) would clip to 0.5 despite (1, 13, 0) going all the way down to -1.0\n"
     ]
    },
    {
     "name": "stdout",
     "output_type": "stream",
     "text": [
      "DEPRICATION WARNING: workaround to allow subscripting ComputationResult objects. Will be depricated. key: computed_data\n",
      "DEPRICATION WARNING: workaround to allow subscripting ComputationResult objects. Will be depricated. key: computed_data\n",
      "DEPRICATION WARNING: workaround to allow subscripting ComputationResult objects. Will be depricated. key: computed_data\n",
      "WARNING: aclu 4 is not present in the `pf1d_long` ratemaps. Which contain aclus: [2, 3, 5, 7, 9, 10, 11, 14, 15, 16, 17, 19, 21, 28, 31, 32, 33, 35, 36, 37, 41, 45, 48, 49, 50, 51, 53, 54, 55, 57, 59, 60, 61, 62, 63, 64, 68, 69, 70, 71, 73, 74, 75, 76, 78, 81, 83, 84, 85, 86, 88, 90, 92, 93, 97, 98, 100, 102, 105, 107, 108]\n",
      "WARNING: aclu 13 is not present in the `pf1d_long` ratemaps. Which contain aclus: [2, 3, 5, 7, 9, 10, 11, 14, 15, 16, 17, 19, 21, 28, 31, 32, 33, 35, 36, 37, 41, 45, 48, 49, 50, 51, 53, 54, 55, 57, 59, 60, 61, 62, 63, 64, 68, 69, 70, 71, 73, 74, 75, 76, 78, 81, 83, 84, 85, 86, 88, 90, 92, 93, 97, 98, 100, 102, 105, 107, 108]\n",
      "WARNING: aclu 23 is not present in the `pf1d_short` ratemaps. Which contain aclus: [3, 4, 5, 7, 9, 10, 11, 13, 14, 15, 16, 19, 21, 25, 31, 32, 33, 34, 35, 36, 37, 41, 45, 48, 49, 50, 51, 52, 53, 55, 56, 57, 58, 59, 60, 61, 62, 63, 64, 66, 67, 69, 70, 71, 73, 75, 76, 78, 81, 83, 84, 85, 86, 88, 89, 90, 92, 93, 98, 100, 102, 107, 108]\n",
      "WARNING: aclu 23 is not present in the `pf1d_long` ratemaps. Which contain aclus: [2, 3, 5, 7, 9, 10, 11, 14, 15, 16, 17, 19, 21, 28, 31, 32, 33, 35, 36, 37, 41, 45, 48, 49, 50, 51, 53, 54, 55, 57, 59, 60, 61, 62, 63, 64, 68, 69, 70, 71, 73, 74, 75, 76, 78, 81, 83, 84, 85, 86, 88, 90, 92, 93, 97, 98, 100, 102, 105, 107, 108]\n",
      "WARNING: aclu 52 is not present in the `pf1d_long` ratemaps. Which contain aclus: [2, 3, 5, 7, 9, 10, 11, 14, 15, 16, 17, 19, 21, 28, 31, 32, 33, 35, 36, 37, 41, 45, 48, 49, 50, 51, 53, 54, 55, 57, 59, 60, 61, 62, 63, 64, 68, 69, 70, 71, 73, 74, 75, 76, 78, 81, 83, 84, 85, 86, 88, 90, 92, 93, 97, 98, 100, 102, 105, 107, 108]\n",
      "WARNING: aclu 58 is not present in the `pf1d_long` ratemaps. Which contain aclus: [2, 3, 5, 7, 9, 10, 11, 14, 15, 16, 17, 19, 21, 28, 31, 32, 33, 35, 36, 37, 41, 45, 48, 49, 50, 51, 53, 54, 55, 57, 59, 60, 61, 62, 63, 64, 68, 69, 70, 71, 73, 74, 75, 76, 78, 81, 83, 84, 85, 86, 88, 90, 92, 93, 97, 98, 100, 102, 105, 107, 108]\n",
      "WARNING: aclu 87 is not present in the `pf1d_short` ratemaps. Which contain aclus: [3, 4, 5, 7, 9, 10, 11, 13, 14, 15, 16, 19, 21, 25, 31, 32, 33, 34, 35, 36, 37, 41, 45, 48, 49, 50, 51, 52, 53, 55, 56, 57, 58, 59, 60, 61, 62, 63, 64, 66, 67, 69, 70, 71, 73, 75, 76, 78, 81, 83, 84, 85, 86, 88, 89, 90, 92, 93, 98, 100, 102, 107, 108]\n",
      "WARNING: aclu 87 is not present in the `pf1d_long` ratemaps. Which contain aclus: [2, 3, 5, 7, 9, 10, 11, 14, 15, 16, 17, 19, 21, 28, 31, 32, 33, 35, 36, 37, 41, 45, 48, 49, 50, 51, 53, 54, 55, 57, 59, 60, 61, 62, 63, 64, 68, 69, 70, 71, 73, 74, 75, 76, 78, 81, 83, 84, 85, 86, 88, 90, 92, 93, 97, 98, 100, 102, 105, 107, 108]\n",
      "\t saved /home/halechr/repos/Spike3D/EXTERNAL/Screenshots/ProgrammaticDisplayFunctionTesting/2024-09-26/kdiba/gor01/one/2006-6-08_14-26-15/BatchPhoJonathanReplayFRC_short_only_(4,11,13,23,52,58,87).png\n",
      "include_includelist: ['maze1_odd', 'maze2_odd', 'maze_odd', 'maze1_even', 'maze2_even', 'maze_even', 'maze1_any', 'maze2_any', 'maze_any']\n",
      "long_epoch_name: maze1_odd, short_epoch_name: maze2_odd, global_epoch_name: maze_any\n"
     ]
    },
    {
     "name": "stderr",
     "output_type": "stream",
     "text": [
      "/home/halechr/repos/pyPhoPlaceCellAnalysis/src/pyphoplacecellanalysis/General/Pipeline/Stages/DisplayFunctions/MultiContextComparingDisplayFunctions/LongShortTrackComparingDisplayFunctions.py:1290: SettingWithCopyWarning: \n",
      "A value is trying to be set on a copy of a slice from a DataFrame.\n",
      "Try using .loc[row_indexer,col_indexer] = value instead\n",
      "\n",
      "See the caveats in the documentation: https://pandas.pydata.org/pandas-docs/stable/user_guide/indexing.html#returning-a-view-versus-a-copy\n",
      "  cell_df.loc[:, 'x'] = spk_x\n",
      "/home/halechr/repos/pyPhoPlaceCellAnalysis/src/pyphoplacecellanalysis/General/Mixins/CrossComputationComparisonHelpers.py:245: RuntimeWarning: invalid value encountered in divide\n",
      "  _long_to_short_balances = (rdf.num_short_only_neuron_participating.values - rdf.num_long_only_neuron_participating.values) / (rdf.num_short_only_neuron_participating.values + rdf.num_long_only_neuron_participating.values) ## Working but (0, 1, 1) would clip to 0.5 despite (1, 13, 0) going all the way down to -1.0\n",
      "/home/halechr/repos/pyPhoPlaceCellAnalysis/src/pyphoplacecellanalysis/General/Mixins/CrossComputationComparisonHelpers.py:275: RuntimeWarning: invalid value encountered in divide\n",
      "  _long_to_short_balances = (rdf.num_short_only_neuron_participating.values - rdf.num_long_only_neuron_participating.values) / (rdf.num_short_only_neuron_participating.values + rdf.num_long_only_neuron_participating.values) ## Working but (0, 1, 1) would clip to 0.5 despite (1, 13, 0) going all the way down to -1.0\n"
     ]
    },
    {
     "name": "stdout",
     "output_type": "stream",
     "text": [
      "DEPRICATION WARNING: workaround to allow subscripting ComputationResult objects. Will be depricated. key: computed_data\n",
      "DEPRICATION WARNING: workaround to allow subscripting ComputationResult objects. Will be depricated. key: computed_data\n",
      "DEPRICATION WARNING: workaround to allow subscripting ComputationResult objects. Will be depricated. key: computed_data\n",
      "WARNING: aclu 2 is not present in the `pf1d_short` ratemaps. Which contain aclus: [3, 4, 5, 7, 9, 10, 11, 13, 14, 15, 16, 19, 21, 25, 31, 32, 33, 34, 35, 36, 37, 41, 45, 48, 49, 50, 51, 52, 53, 55, 56, 57, 58, 59, 60, 61, 62, 63, 64, 66, 67, 69, 70, 71, 73, 75, 76, 78, 81, 83, 84, 85, 86, 88, 89, 90, 92, 93, 98, 100, 102, 107, 108]\n",
      "WARNING: aclu 6 is not present in the `pf1d_short` ratemaps. Which contain aclus: [3, 4, 5, 7, 9, 10, 11, 13, 14, 15, 16, 19, 21, 25, 31, 32, 33, 34, 35, 36, 37, 41, 45, 48, 49, 50, 51, 52, 53, 55, 56, 57, 58, 59, 60, 61, 62, 63, 64, 66, 67, 69, 70, 71, 73, 75, 76, 78, 81, 83, 84, 85, 86, 88, 89, 90, 92, 93, 98, 100, 102, 107, 108]\n",
      "WARNING: aclu 6 is not present in the `pf1d_long` ratemaps. Which contain aclus: [2, 3, 5, 7, 9, 10, 11, 14, 15, 16, 17, 19, 21, 28, 31, 32, 33, 35, 36, 37, 41, 45, 48, 49, 50, 51, 53, 54, 55, 57, 59, 60, 61, 62, 63, 64, 68, 69, 70, 71, 73, 74, 75, 76, 78, 81, 83, 84, 85, 86, 88, 90, 92, 93, 97, 98, 100, 102, 105, 107, 108]\n",
      "WARNING: aclu 12 is not present in the `pf1d_short` ratemaps. Which contain aclus: [3, 4, 5, 7, 9, 10, 11, 13, 14, 15, 16, 19, 21, 25, 31, 32, 33, 34, 35, 36, 37, 41, 45, 48, 49, 50, 51, 52, 53, 55, 56, 57, 58, 59, 60, 61, 62, 63, 64, 66, 67, 69, 70, 71, 73, 75, 76, 78, 81, 83, 84, 85, 86, 88, 89, 90, 92, 93, 98, 100, 102, 107, 108]\n",
      "WARNING: aclu 12 is not present in the `pf1d_long` ratemaps. Which contain aclus: [2, 3, 5, 7, 9, 10, 11, 14, 15, 16, 17, 19, 21, 28, 31, 32, 33, 35, 36, 37, 41, 45, 48, 49, 50, 51, 53, 54, 55, 57, 59, 60, 61, 62, 63, 64, 68, 69, 70, 71, 73, 74, 75, 76, 78, 81, 83, 84, 85, 86, 88, 90, 92, 93, 97, 98, 100, 102, 105, 107, 108]\n",
      "\t saved /home/halechr/repos/Spike3D/EXTERNAL/Screenshots/ProgrammaticDisplayFunctionTesting/2024-09-26/kdiba/gor01/one/2006-6-08_14-26-15/BatchPhoJonathanReplayFRC_shared_1of10_(2,3,5,6,7,9,10,12,14,15).png\n",
      "include_includelist: ['maze1_odd', 'maze2_odd', 'maze_odd', 'maze1_even', 'maze2_even', 'maze_even', 'maze1_any', 'maze2_any', 'maze_any']\n",
      "long_epoch_name: maze1_odd, short_epoch_name: maze2_odd, global_epoch_name: maze_any\n"
     ]
    },
    {
     "name": "stderr",
     "output_type": "stream",
     "text": [
      "/home/halechr/repos/pyPhoPlaceCellAnalysis/src/pyphoplacecellanalysis/General/Pipeline/Stages/DisplayFunctions/MultiContextComparingDisplayFunctions/LongShortTrackComparingDisplayFunctions.py:1290: SettingWithCopyWarning: \n",
      "A value is trying to be set on a copy of a slice from a DataFrame.\n",
      "Try using .loc[row_indexer,col_indexer] = value instead\n",
      "\n",
      "See the caveats in the documentation: https://pandas.pydata.org/pandas-docs/stable/user_guide/indexing.html#returning-a-view-versus-a-copy\n",
      "  cell_df.loc[:, 'x'] = spk_x\n",
      "/home/halechr/repos/pyPhoPlaceCellAnalysis/src/pyphoplacecellanalysis/General/Mixins/CrossComputationComparisonHelpers.py:245: RuntimeWarning: invalid value encountered in divide\n",
      "  _long_to_short_balances = (rdf.num_short_only_neuron_participating.values - rdf.num_long_only_neuron_participating.values) / (rdf.num_short_only_neuron_participating.values + rdf.num_long_only_neuron_participating.values) ## Working but (0, 1, 1) would clip to 0.5 despite (1, 13, 0) going all the way down to -1.0\n",
      "/home/halechr/repos/pyPhoPlaceCellAnalysis/src/pyphoplacecellanalysis/General/Mixins/CrossComputationComparisonHelpers.py:275: RuntimeWarning: invalid value encountered in divide\n",
      "  _long_to_short_balances = (rdf.num_short_only_neuron_participating.values - rdf.num_long_only_neuron_participating.values) / (rdf.num_short_only_neuron_participating.values + rdf.num_long_only_neuron_participating.values) ## Working but (0, 1, 1) would clip to 0.5 despite (1, 13, 0) going all the way down to -1.0\n"
     ]
    },
    {
     "name": "stdout",
     "output_type": "stream",
     "text": [
      "DEPRICATION WARNING: workaround to allow subscripting ComputationResult objects. Will be depricated. key: computed_data\n",
      "DEPRICATION WARNING: workaround to allow subscripting ComputationResult objects. Will be depricated. key: computed_data\n",
      "DEPRICATION WARNING: workaround to allow subscripting ComputationResult objects. Will be depricated. key: computed_data\n",
      "WARNING: aclu 17 is not present in the `pf1d_short` ratemaps. Which contain aclus: [3, 4, 5, 7, 9, 10, 11, 13, 14, 15, 16, 19, 21, 25, 31, 32, 33, 34, 35, 36, 37, 41, 45, 48, 49, 50, 51, 52, 53, 55, 56, 57, 58, 59, 60, 61, 62, 63, 64, 66, 67, 69, 70, 71, 73, 75, 76, 78, 81, 83, 84, 85, 86, 88, 89, 90, 92, 93, 98, 100, 102, 107, 108]\n",
      "WARNING: aclu 18 is not present in the `pf1d_short` ratemaps. Which contain aclus: [3, 4, 5, 7, 9, 10, 11, 13, 14, 15, 16, 19, 21, 25, 31, 32, 33, 34, 35, 36, 37, 41, 45, 48, 49, 50, 51, 52, 53, 55, 56, 57, 58, 59, 60, 61, 62, 63, 64, 66, 67, 69, 70, 71, 73, 75, 76, 78, 81, 83, 84, 85, 86, 88, 89, 90, 92, 93, 98, 100, 102, 107, 108]\n",
      "WARNING: aclu 18 is not present in the `pf1d_long` ratemaps. Which contain aclus: [2, 3, 5, 7, 9, 10, 11, 14, 15, 16, 17, 19, 21, 28, 31, 32, 33, 35, 36, 37, 41, 45, 48, 49, 50, 51, 53, 54, 55, 57, 59, 60, 61, 62, 63, 64, 68, 69, 70, 71, 73, 74, 75, 76, 78, 81, 83, 84, 85, 86, 88, 90, 92, 93, 97, 98, 100, 102, 105, 107, 108]\n",
      "WARNING: aclu 20 is not present in the `pf1d_short` ratemaps. Which contain aclus: [3, 4, 5, 7, 9, 10, 11, 13, 14, 15, 16, 19, 21, 25, 31, 32, 33, 34, 35, 36, 37, 41, 45, 48, 49, 50, 51, 52, 53, 55, 56, 57, 58, 59, 60, 61, 62, 63, 64, 66, 67, 69, 70, 71, 73, 75, 76, 78, 81, 83, 84, 85, 86, 88, 89, 90, 92, 93, 98, 100, 102, 107, 108]\n",
      "WARNING: aclu 20 is not present in the `pf1d_long` ratemaps. Which contain aclus: [2, 3, 5, 7, 9, 10, 11, 14, 15, 16, 17, 19, 21, 28, 31, 32, 33, 35, 36, 37, 41, 45, 48, 49, 50, 51, 53, 54, 55, 57, 59, 60, 61, 62, 63, 64, 68, 69, 70, 71, 73, 74, 75, 76, 78, 81, 83, 84, 85, 86, 88, 90, 92, 93, 97, 98, 100, 102, 105, 107, 108]\n",
      "WARNING: aclu 22 is not present in the `pf1d_short` ratemaps. Which contain aclus: [3, 4, 5, 7, 9, 10, 11, 13, 14, 15, 16, 19, 21, 25, 31, 32, 33, 34, 35, 36, 37, 41, 45, 48, 49, 50, 51, 52, 53, 55, 56, 57, 58, 59, 60, 61, 62, 63, 64, 66, 67, 69, 70, 71, 73, 75, 76, 78, 81, 83, 84, 85, 86, 88, 89, 90, 92, 93, 98, 100, 102, 107, 108]\n",
      "WARNING: aclu 22 is not present in the `pf1d_long` ratemaps. Which contain aclus: [2, 3, 5, 7, 9, 10, 11, 14, 15, 16, 17, 19, 21, 28, 31, 32, 33, 35, 36, 37, 41, 45, 48, 49, 50, 51, 53, 54, 55, 57, 59, 60, 61, 62, 63, 64, 68, 69, 70, 71, 73, 74, 75, 76, 78, 81, 83, 84, 85, 86, 88, 90, 92, 93, 97, 98, 100, 102, 105, 107, 108]\n",
      "WARNING: aclu 24 is not present in the `pf1d_short` ratemaps. Which contain aclus: [3, 4, 5, 7, 9, 10, 11, 13, 14, 15, 16, 19, 21, 25, 31, 32, 33, 34, 35, 36, 37, 41, 45, 48, 49, 50, 51, 52, 53, 55, 56, 57, 58, 59, 60, 61, 62, 63, 64, 66, 67, 69, 70, 71, 73, 75, 76, 78, 81, 83, 84, 85, 86, 88, 89, 90, 92, 93, 98, 100, 102, 107, 108]\n",
      "WARNING: aclu 24 is not present in the `pf1d_long` ratemaps. Which contain aclus: [2, 3, 5, 7, 9, 10, 11, 14, 15, 16, 17, 19, 21, 28, 31, 32, 33, 35, 36, 37, 41, 45, 48, 49, 50, 51, 53, 54, 55, 57, 59, 60, 61, 62, 63, 64, 68, 69, 70, 71, 73, 74, 75, 76, 78, 81, 83, 84, 85, 86, 88, 90, 92, 93, 97, 98, 100, 102, 105, 107, 108]\n",
      "WARNING: aclu 25 is not present in the `pf1d_long` ratemaps. Which contain aclus: [2, 3, 5, 7, 9, 10, 11, 14, 15, 16, 17, 19, 21, 28, 31, 32, 33, 35, 36, 37, 41, 45, 48, 49, 50, 51, 53, 54, 55, 57, 59, 60, 61, 62, 63, 64, 68, 69, 70, 71, 73, 74, 75, 76, 78, 81, 83, 84, 85, 86, 88, 90, 92, 93, 97, 98, 100, 102, 105, 107, 108]\n",
      "WARNING: aclu 26 is not present in the `pf1d_short` ratemaps. Which contain aclus: [3, 4, 5, 7, 9, 10, 11, 13, 14, 15, 16, 19, 21, 25, 31, 32, 33, 34, 35, 36, 37, 41, 45, 48, 49, 50, 51, 52, 53, 55, 56, 57, 58, 59, 60, 61, 62, 63, 64, 66, 67, 69, 70, 71, 73, 75, 76, 78, 81, 83, 84, 85, 86, 88, 89, 90, 92, 93, 98, 100, 102, 107, 108]\n",
      "WARNING: aclu 26 is not present in the `pf1d_long` ratemaps. Which contain aclus: [2, 3, 5, 7, 9, 10, 11, 14, 15, 16, 17, 19, 21, 28, 31, 32, 33, 35, 36, 37, 41, 45, 48, 49, 50, 51, 53, 54, 55, 57, 59, 60, 61, 62, 63, 64, 68, 69, 70, 71, 73, 74, 75, 76, 78, 81, 83, 84, 85, 86, 88, 90, 92, 93, 97, 98, 100, 102, 105, 107, 108]\n",
      "WARNING: aclu 27 is not present in the `pf1d_short` ratemaps. Which contain aclus: [3, 4, 5, 7, 9, 10, 11, 13, 14, 15, 16, 19, 21, 25, 31, 32, 33, 34, 35, 36, 37, 41, 45, 48, 49, 50, 51, 52, 53, 55, 56, 57, 58, 59, 60, 61, 62, 63, 64, 66, 67, 69, 70, 71, 73, 75, 76, 78, 81, 83, 84, 85, 86, 88, 89, 90, 92, 93, 98, 100, 102, 107, 108]\n",
      "WARNING: aclu 27 is not present in the `pf1d_long` ratemaps. Which contain aclus: [2, 3, 5, 7, 9, 10, 11, 14, 15, 16, 17, 19, 21, 28, 31, 32, 33, 35, 36, 37, 41, 45, 48, 49, 50, 51, 53, 54, 55, 57, 59, 60, 61, 62, 63, 64, 68, 69, 70, 71, 73, 74, 75, 76, 78, 81, 83, 84, 85, 86, 88, 90, 92, 93, 97, 98, 100, 102, 105, 107, 108]\n",
      "\t saved /home/halechr/repos/Spike3D/EXTERNAL/Screenshots/ProgrammaticDisplayFunctionTesting/2024-09-26/kdiba/gor01/one/2006-6-08_14-26-15/BatchPhoJonathanReplayFRC_shared_2of10_(17,18,19,20,21,22,24,25,26,27).png\n",
      "include_includelist: ['maze1_odd', 'maze2_odd', 'maze_odd', 'maze1_even', 'maze2_even', 'maze_even', 'maze1_any', 'maze2_any', 'maze_any']\n",
      "long_epoch_name: maze1_odd, short_epoch_name: maze2_odd, global_epoch_name: maze_any\n"
     ]
    },
    {
     "name": "stderr",
     "output_type": "stream",
     "text": [
      "/home/halechr/repos/pyPhoPlaceCellAnalysis/src/pyphoplacecellanalysis/General/Pipeline/Stages/DisplayFunctions/MultiContextComparingDisplayFunctions/LongShortTrackComparingDisplayFunctions.py:1290: SettingWithCopyWarning: \n",
      "A value is trying to be set on a copy of a slice from a DataFrame.\n",
      "Try using .loc[row_indexer,col_indexer] = value instead\n",
      "\n",
      "See the caveats in the documentation: https://pandas.pydata.org/pandas-docs/stable/user_guide/indexing.html#returning-a-view-versus-a-copy\n",
      "  cell_df.loc[:, 'x'] = spk_x\n",
      "/home/halechr/repos/pyPhoPlaceCellAnalysis/src/pyphoplacecellanalysis/General/Mixins/CrossComputationComparisonHelpers.py:245: RuntimeWarning: invalid value encountered in divide\n",
      "  _long_to_short_balances = (rdf.num_short_only_neuron_participating.values - rdf.num_long_only_neuron_participating.values) / (rdf.num_short_only_neuron_participating.values + rdf.num_long_only_neuron_participating.values) ## Working but (0, 1, 1) would clip to 0.5 despite (1, 13, 0) going all the way down to -1.0\n",
      "/home/halechr/repos/pyPhoPlaceCellAnalysis/src/pyphoplacecellanalysis/General/Mixins/CrossComputationComparisonHelpers.py:275: RuntimeWarning: invalid value encountered in divide\n",
      "  _long_to_short_balances = (rdf.num_short_only_neuron_participating.values - rdf.num_long_only_neuron_participating.values) / (rdf.num_short_only_neuron_participating.values + rdf.num_long_only_neuron_participating.values) ## Working but (0, 1, 1) would clip to 0.5 despite (1, 13, 0) going all the way down to -1.0\n"
     ]
    },
    {
     "name": "stdout",
     "output_type": "stream",
     "text": [
      "DEPRICATION WARNING: workaround to allow subscripting ComputationResult objects. Will be depricated. key: computed_data\n",
      "DEPRICATION WARNING: workaround to allow subscripting ComputationResult objects. Will be depricated. key: computed_data\n",
      "DEPRICATION WARNING: workaround to allow subscripting ComputationResult objects. Will be depricated. key: computed_data\n",
      "WARNING: aclu 29 is not present in the `pf1d_short` ratemaps. Which contain aclus: [3, 4, 5, 7, 9, 10, 11, 13, 14, 15, 16, 19, 21, 25, 31, 32, 33, 34, 35, 36, 37, 41, 45, 48, 49, 50, 51, 52, 53, 55, 56, 57, 58, 59, 60, 61, 62, 63, 64, 66, 67, 69, 70, 71, 73, 75, 76, 78, 81, 83, 84, 85, 86, 88, 89, 90, 92, 93, 98, 100, 102, 107, 108]\n",
      "WARNING: aclu 29 is not present in the `pf1d_long` ratemaps. Which contain aclus: [2, 3, 5, 7, 9, 10, 11, 14, 15, 16, 17, 19, 21, 28, 31, 32, 33, 35, 36, 37, 41, 45, 48, 49, 50, 51, 53, 54, 55, 57, 59, 60, 61, 62, 63, 64, 68, 69, 70, 71, 73, 74, 75, 76, 78, 81, 83, 84, 85, 86, 88, 90, 92, 93, 97, 98, 100, 102, 105, 107, 108]\n",
      "WARNING: aclu 30 is not present in the `pf1d_short` ratemaps. Which contain aclus: [3, 4, 5, 7, 9, 10, 11, 13, 14, 15, 16, 19, 21, 25, 31, 32, 33, 34, 35, 36, 37, 41, 45, 48, 49, 50, 51, 52, 53, 55, 56, 57, 58, 59, 60, 61, 62, 63, 64, 66, 67, 69, 70, 71, 73, 75, 76, 78, 81, 83, 84, 85, 86, 88, 89, 90, 92, 93, 98, 100, 102, 107, 108]\n",
      "WARNING: aclu 30 is not present in the `pf1d_long` ratemaps. Which contain aclus: [2, 3, 5, 7, 9, 10, 11, 14, 15, 16, 17, 19, 21, 28, 31, 32, 33, 35, 36, 37, 41, 45, 48, 49, 50, 51, 53, 54, 55, 57, 59, 60, 61, 62, 63, 64, 68, 69, 70, 71, 73, 74, 75, 76, 78, 81, 83, 84, 85, 86, 88, 90, 92, 93, 97, 98, 100, 102, 105, 107, 108]\n",
      "WARNING: aclu 34 is not present in the `pf1d_long` ratemaps. Which contain aclus: [2, 3, 5, 7, 9, 10, 11, 14, 15, 16, 17, 19, 21, 28, 31, 32, 33, 35, 36, 37, 41, 45, 48, 49, 50, 51, 53, 54, 55, 57, 59, 60, 61, 62, 63, 64, 68, 69, 70, 71, 73, 74, 75, 76, 78, 81, 83, 84, 85, 86, 88, 90, 92, 93, 97, 98, 100, 102, 105, 107, 108]\n",
      "WARNING: aclu 38 is not present in the `pf1d_short` ratemaps. Which contain aclus: [3, 4, 5, 7, 9, 10, 11, 13, 14, 15, 16, 19, 21, 25, 31, 32, 33, 34, 35, 36, 37, 41, 45, 48, 49, 50, 51, 52, 53, 55, 56, 57, 58, 59, 60, 61, 62, 63, 64, 66, 67, 69, 70, 71, 73, 75, 76, 78, 81, 83, 84, 85, 86, 88, 89, 90, 92, 93, 98, 100, 102, 107, 108]\n",
      "WARNING: aclu 38 is not present in the `pf1d_long` ratemaps. Which contain aclus: [2, 3, 5, 7, 9, 10, 11, 14, 15, 16, 17, 19, 21, 28, 31, 32, 33, 35, 36, 37, 41, 45, 48, 49, 50, 51, 53, 54, 55, 57, 59, 60, 61, 62, 63, 64, 68, 69, 70, 71, 73, 74, 75, 76, 78, 81, 83, 84, 85, 86, 88, 90, 92, 93, 97, 98, 100, 102, 105, 107, 108]\n",
      "WARNING: aclu 39 is not present in the `pf1d_short` ratemaps. Which contain aclus: [3, 4, 5, 7, 9, 10, 11, 13, 14, 15, 16, 19, 21, 25, 31, 32, 33, 34, 35, 36, 37, 41, 45, 48, 49, 50, 51, 52, 53, 55, 56, 57, 58, 59, 60, 61, 62, 63, 64, 66, 67, 69, 70, 71, 73, 75, 76, 78, 81, 83, 84, 85, 86, 88, 89, 90, 92, 93, 98, 100, 102, 107, 108]\n",
      "WARNING: aclu 39 is not present in the `pf1d_long` ratemaps. Which contain aclus: [2, 3, 5, 7, 9, 10, 11, 14, 15, 16, 17, 19, 21, 28, 31, 32, 33, 35, 36, 37, 41, 45, 48, 49, 50, 51, 53, 54, 55, 57, 59, 60, 61, 62, 63, 64, 68, 69, 70, 71, 73, 74, 75, 76, 78, 81, 83, 84, 85, 86, 88, 90, 92, 93, 97, 98, 100, 102, 105, 107, 108]\n",
      "\t saved /home/halechr/repos/Spike3D/EXTERNAL/Screenshots/ProgrammaticDisplayFunctionTesting/2024-09-26/kdiba/gor01/one/2006-6-08_14-26-15/BatchPhoJonathanReplayFRC_shared_3of10_(29,30,31,32,33,34,35,36,38,39).png\n",
      "include_includelist: ['maze1_odd', 'maze2_odd', 'maze_odd', 'maze1_even', 'maze2_even', 'maze_even', 'maze1_any', 'maze2_any', 'maze_any']\n",
      "long_epoch_name: maze1_odd, short_epoch_name: maze2_odd, global_epoch_name: maze_any\n"
     ]
    },
    {
     "name": "stderr",
     "output_type": "stream",
     "text": [
      "/home/halechr/repos/pyPhoPlaceCellAnalysis/src/pyphoplacecellanalysis/General/Pipeline/Stages/DisplayFunctions/MultiContextComparingDisplayFunctions/LongShortTrackComparingDisplayFunctions.py:1290: SettingWithCopyWarning: \n",
      "A value is trying to be set on a copy of a slice from a DataFrame.\n",
      "Try using .loc[row_indexer,col_indexer] = value instead\n",
      "\n",
      "See the caveats in the documentation: https://pandas.pydata.org/pandas-docs/stable/user_guide/indexing.html#returning-a-view-versus-a-copy\n",
      "  cell_df.loc[:, 'x'] = spk_x\n",
      "/home/halechr/repos/pyPhoPlaceCellAnalysis/src/pyphoplacecellanalysis/General/Mixins/CrossComputationComparisonHelpers.py:245: RuntimeWarning: invalid value encountered in divide\n",
      "  _long_to_short_balances = (rdf.num_short_only_neuron_participating.values - rdf.num_long_only_neuron_participating.values) / (rdf.num_short_only_neuron_participating.values + rdf.num_long_only_neuron_participating.values) ## Working but (0, 1, 1) would clip to 0.5 despite (1, 13, 0) going all the way down to -1.0\n",
      "/home/halechr/repos/pyPhoPlaceCellAnalysis/src/pyphoplacecellanalysis/General/Mixins/CrossComputationComparisonHelpers.py:275: RuntimeWarning: invalid value encountered in divide\n",
      "  _long_to_short_balances = (rdf.num_short_only_neuron_participating.values - rdf.num_long_only_neuron_participating.values) / (rdf.num_short_only_neuron_participating.values + rdf.num_long_only_neuron_participating.values) ## Working but (0, 1, 1) would clip to 0.5 despite (1, 13, 0) going all the way down to -1.0\n"
     ]
    },
    {
     "name": "stdout",
     "output_type": "stream",
     "text": [
      "DEPRICATION WARNING: workaround to allow subscripting ComputationResult objects. Will be depricated. key: computed_data\n",
      "DEPRICATION WARNING: workaround to allow subscripting ComputationResult objects. Will be depricated. key: computed_data\n",
      "DEPRICATION WARNING: workaround to allow subscripting ComputationResult objects. Will be depricated. key: computed_data\n",
      "WARNING: aclu 40 is not present in the `pf1d_short` ratemaps. Which contain aclus: [3, 4, 5, 7, 9, 10, 11, 13, 14, 15, 16, 19, 21, 25, 31, 32, 33, 34, 35, 36, 37, 41, 45, 48, 49, 50, 51, 52, 53, 55, 56, 57, 58, 59, 60, 61, 62, 63, 64, 66, 67, 69, 70, 71, 73, 75, 76, 78, 81, 83, 84, 85, 86, 88, 89, 90, 92, 93, 98, 100, 102, 107, 108]\n",
      "WARNING: aclu 40 is not present in the `pf1d_long` ratemaps. Which contain aclus: [2, 3, 5, 7, 9, 10, 11, 14, 15, 16, 17, 19, 21, 28, 31, 32, 33, 35, 36, 37, 41, 45, 48, 49, 50, 51, 53, 54, 55, 57, 59, 60, 61, 62, 63, 64, 68, 69, 70, 71, 73, 74, 75, 76, 78, 81, 83, 84, 85, 86, 88, 90, 92, 93, 97, 98, 100, 102, 105, 107, 108]\n",
      "WARNING: aclu 42 is not present in the `pf1d_short` ratemaps. Which contain aclus: [3, 4, 5, 7, 9, 10, 11, 13, 14, 15, 16, 19, 21, 25, 31, 32, 33, 34, 35, 36, 37, 41, 45, 48, 49, 50, 51, 52, 53, 55, 56, 57, 58, 59, 60, 61, 62, 63, 64, 66, 67, 69, 70, 71, 73, 75, 76, 78, 81, 83, 84, 85, 86, 88, 89, 90, 92, 93, 98, 100, 102, 107, 108]\n",
      "WARNING: aclu 42 is not present in the `pf1d_long` ratemaps. Which contain aclus: [2, 3, 5, 7, 9, 10, 11, 14, 15, 16, 17, 19, 21, 28, 31, 32, 33, 35, 36, 37, 41, 45, 48, 49, 50, 51, 53, 54, 55, 57, 59, 60, 61, 62, 63, 64, 68, 69, 70, 71, 73, 74, 75, 76, 78, 81, 83, 84, 85, 86, 88, 90, 92, 93, 97, 98, 100, 102, 105, 107, 108]\n",
      "WARNING: aclu 43 is not present in the `pf1d_short` ratemaps. Which contain aclus: [3, 4, 5, 7, 9, 10, 11, 13, 14, 15, 16, 19, 21, 25, 31, 32, 33, 34, 35, 36, 37, 41, 45, 48, 49, 50, 51, 52, 53, 55, 56, 57, 58, 59, 60, 61, 62, 63, 64, 66, 67, 69, 70, 71, 73, 75, 76, 78, 81, 83, 84, 85, 86, 88, 89, 90, 92, 93, 98, 100, 102, 107, 108]\n",
      "WARNING: aclu 43 is not present in the `pf1d_long` ratemaps. Which contain aclus: [2, 3, 5, 7, 9, 10, 11, 14, 15, 16, 17, 19, 21, 28, 31, 32, 33, 35, 36, 37, 41, 45, 48, 49, 50, 51, 53, 54, 55, 57, 59, 60, 61, 62, 63, 64, 68, 69, 70, 71, 73, 74, 75, 76, 78, 81, 83, 84, 85, 86, 88, 90, 92, 93, 97, 98, 100, 102, 105, 107, 108]\n",
      "WARNING: aclu 44 is not present in the `pf1d_short` ratemaps. Which contain aclus: [3, 4, 5, 7, 9, 10, 11, 13, 14, 15, 16, 19, 21, 25, 31, 32, 33, 34, 35, 36, 37, 41, 45, 48, 49, 50, 51, 52, 53, 55, 56, 57, 58, 59, 60, 61, 62, 63, 64, 66, 67, 69, 70, 71, 73, 75, 76, 78, 81, 83, 84, 85, 86, 88, 89, 90, 92, 93, 98, 100, 102, 107, 108]\n",
      "WARNING: aclu 44 is not present in the `pf1d_long` ratemaps. Which contain aclus: [2, 3, 5, 7, 9, 10, 11, 14, 15, 16, 17, 19, 21, 28, 31, 32, 33, 35, 36, 37, 41, 45, 48, 49, 50, 51, 53, 54, 55, 57, 59, 60, 61, 62, 63, 64, 68, 69, 70, 71, 73, 74, 75, 76, 78, 81, 83, 84, 85, 86, 88, 90, 92, 93, 97, 98, 100, 102, 105, 107, 108]\n",
      "WARNING: aclu 46 is not present in the `pf1d_short` ratemaps. Which contain aclus: [3, 4, 5, 7, 9, 10, 11, 13, 14, 15, 16, 19, 21, 25, 31, 32, 33, 34, 35, 36, 37, 41, 45, 48, 49, 50, 51, 52, 53, 55, 56, 57, 58, 59, 60, 61, 62, 63, 64, 66, 67, 69, 70, 71, 73, 75, 76, 78, 81, 83, 84, 85, 86, 88, 89, 90, 92, 93, 98, 100, 102, 107, 108]\n",
      "WARNING: aclu 46 is not present in the `pf1d_long` ratemaps. Which contain aclus: [2, 3, 5, 7, 9, 10, 11, 14, 15, 16, 17, 19, 21, 28, 31, 32, 33, 35, 36, 37, 41, 45, 48, 49, 50, 51, 53, 54, 55, 57, 59, 60, 61, 62, 63, 64, 68, 69, 70, 71, 73, 74, 75, 76, 78, 81, 83, 84, 85, 86, 88, 90, 92, 93, 97, 98, 100, 102, 105, 107, 108]\n",
      "WARNING: aclu 47 is not present in the `pf1d_short` ratemaps. Which contain aclus: [3, 4, 5, 7, 9, 10, 11, 13, 14, 15, 16, 19, 21, 25, 31, 32, 33, 34, 35, 36, 37, 41, 45, 48, 49, 50, 51, 52, 53, 55, 56, 57, 58, 59, 60, 61, 62, 63, 64, 66, 67, 69, 70, 71, 73, 75, 76, 78, 81, 83, 84, 85, 86, 88, 89, 90, 92, 93, 98, 100, 102, 107, 108]\n",
      "WARNING: aclu 47 is not present in the `pf1d_long` ratemaps. Which contain aclus: [2, 3, 5, 7, 9, 10, 11, 14, 15, 16, 17, 19, 21, 28, 31, 32, 33, 35, 36, 37, 41, 45, 48, 49, 50, 51, 53, 54, 55, 57, 59, 60, 61, 62, 63, 64, 68, 69, 70, 71, 73, 74, 75, 76, 78, 81, 83, 84, 85, 86, 88, 90, 92, 93, 97, 98, 100, 102, 105, 107, 108]\n",
      "\t saved /home/halechr/repos/Spike3D/EXTERNAL/Screenshots/ProgrammaticDisplayFunctionTesting/2024-09-26/kdiba/gor01/one/2006-6-08_14-26-15/BatchPhoJonathanReplayFRC_shared_4of10_(40,41,42,43,44,45,46,47,48,49).png\n",
      "include_includelist: ['maze1_odd', 'maze2_odd', 'maze_odd', 'maze1_even', 'maze2_even', 'maze_even', 'maze1_any', 'maze2_any', 'maze_any']\n",
      "long_epoch_name: maze1_odd, short_epoch_name: maze2_odd, global_epoch_name: maze_any\n"
     ]
    },
    {
     "name": "stderr",
     "output_type": "stream",
     "text": [
      "/home/halechr/repos/pyPhoPlaceCellAnalysis/src/pyphoplacecellanalysis/General/Pipeline/Stages/DisplayFunctions/MultiContextComparingDisplayFunctions/LongShortTrackComparingDisplayFunctions.py:1290: SettingWithCopyWarning: \n",
      "A value is trying to be set on a copy of a slice from a DataFrame.\n",
      "Try using .loc[row_indexer,col_indexer] = value instead\n",
      "\n",
      "See the caveats in the documentation: https://pandas.pydata.org/pandas-docs/stable/user_guide/indexing.html#returning-a-view-versus-a-copy\n",
      "  cell_df.loc[:, 'x'] = spk_x\n",
      "/home/halechr/repos/pyPhoPlaceCellAnalysis/src/pyphoplacecellanalysis/General/Mixins/CrossComputationComparisonHelpers.py:245: RuntimeWarning: invalid value encountered in divide\n",
      "  _long_to_short_balances = (rdf.num_short_only_neuron_participating.values - rdf.num_long_only_neuron_participating.values) / (rdf.num_short_only_neuron_participating.values + rdf.num_long_only_neuron_participating.values) ## Working but (0, 1, 1) would clip to 0.5 despite (1, 13, 0) going all the way down to -1.0\n",
      "/home/halechr/repos/pyPhoPlaceCellAnalysis/src/pyphoplacecellanalysis/General/Mixins/CrossComputationComparisonHelpers.py:275: RuntimeWarning: invalid value encountered in divide\n",
      "  _long_to_short_balances = (rdf.num_short_only_neuron_participating.values - rdf.num_long_only_neuron_participating.values) / (rdf.num_short_only_neuron_participating.values + rdf.num_long_only_neuron_participating.values) ## Working but (0, 1, 1) would clip to 0.5 despite (1, 13, 0) going all the way down to -1.0\n"
     ]
    },
    {
     "name": "stdout",
     "output_type": "stream",
     "text": [
      "DEPRICATION WARNING: workaround to allow subscripting ComputationResult objects. Will be depricated. key: computed_data\n",
      "DEPRICATION WARNING: workaround to allow subscripting ComputationResult objects. Will be depricated. key: computed_data\n",
      "DEPRICATION WARNING: workaround to allow subscripting ComputationResult objects. Will be depricated. key: computed_data\n",
      "WARNING: aclu 54 is not present in the `pf1d_short` ratemaps. Which contain aclus: [3, 4, 5, 7, 9, 10, 11, 13, 14, 15, 16, 19, 21, 25, 31, 32, 33, 34, 35, 36, 37, 41, 45, 48, 49, 50, 51, 52, 53, 55, 56, 57, 58, 59, 60, 61, 62, 63, 64, 66, 67, 69, 70, 71, 73, 75, 76, 78, 81, 83, 84, 85, 86, 88, 89, 90, 92, 93, 98, 100, 102, 107, 108]\n",
      "WARNING: aclu 56 is not present in the `pf1d_long` ratemaps. Which contain aclus: [2, 3, 5, 7, 9, 10, 11, 14, 15, 16, 17, 19, 21, 28, 31, 32, 33, 35, 36, 37, 41, 45, 48, 49, 50, 51, 53, 54, 55, 57, 59, 60, 61, 62, 63, 64, 68, 69, 70, 71, 73, 74, 75, 76, 78, 81, 83, 84, 85, 86, 88, 90, 92, 93, 97, 98, 100, 102, 105, 107, 108]\n",
      "\t saved /home/halechr/repos/Spike3D/EXTERNAL/Screenshots/ProgrammaticDisplayFunctionTesting/2024-09-26/kdiba/gor01/one/2006-6-08_14-26-15/BatchPhoJonathanReplayFRC_shared_5of10_(50,51,53,54,55,56,57,59,60,61).png\n",
      "include_includelist: ['maze1_odd', 'maze2_odd', 'maze_odd', 'maze1_even', 'maze2_even', 'maze_even', 'maze1_any', 'maze2_any', 'maze_any']\n",
      "long_epoch_name: maze1_odd, short_epoch_name: maze2_odd, global_epoch_name: maze_any\n"
     ]
    },
    {
     "name": "stderr",
     "output_type": "stream",
     "text": [
      "/home/halechr/repos/pyPhoPlaceCellAnalysis/src/pyphoplacecellanalysis/General/Pipeline/Stages/DisplayFunctions/MultiContextComparingDisplayFunctions/LongShortTrackComparingDisplayFunctions.py:1290: SettingWithCopyWarning: \n",
      "A value is trying to be set on a copy of a slice from a DataFrame.\n",
      "Try using .loc[row_indexer,col_indexer] = value instead\n",
      "\n",
      "See the caveats in the documentation: https://pandas.pydata.org/pandas-docs/stable/user_guide/indexing.html#returning-a-view-versus-a-copy\n",
      "  cell_df.loc[:, 'x'] = spk_x\n",
      "/home/halechr/repos/pyPhoPlaceCellAnalysis/src/pyphoplacecellanalysis/General/Mixins/CrossComputationComparisonHelpers.py:245: RuntimeWarning: invalid value encountered in divide\n",
      "  _long_to_short_balances = (rdf.num_short_only_neuron_participating.values - rdf.num_long_only_neuron_participating.values) / (rdf.num_short_only_neuron_participating.values + rdf.num_long_only_neuron_participating.values) ## Working but (0, 1, 1) would clip to 0.5 despite (1, 13, 0) going all the way down to -1.0\n",
      "/home/halechr/repos/pyPhoPlaceCellAnalysis/src/pyphoplacecellanalysis/General/Mixins/CrossComputationComparisonHelpers.py:275: RuntimeWarning: invalid value encountered in divide\n",
      "  _long_to_short_balances = (rdf.num_short_only_neuron_participating.values - rdf.num_long_only_neuron_participating.values) / (rdf.num_short_only_neuron_participating.values + rdf.num_long_only_neuron_participating.values) ## Working but (0, 1, 1) would clip to 0.5 despite (1, 13, 0) going all the way down to -1.0\n"
     ]
    },
    {
     "name": "stdout",
     "output_type": "stream",
     "text": [
      "DEPRICATION WARNING: workaround to allow subscripting ComputationResult objects. Will be depricated. key: computed_data\n",
      "DEPRICATION WARNING: workaround to allow subscripting ComputationResult objects. Will be depricated. key: computed_data\n",
      "DEPRICATION WARNING: workaround to allow subscripting ComputationResult objects. Will be depricated. key: computed_data\n",
      "WARNING: aclu 65 is not present in the `pf1d_short` ratemaps. Which contain aclus: [3, 4, 5, 7, 9, 10, 11, 13, 14, 15, 16, 19, 21, 25, 31, 32, 33, 34, 35, 36, 37, 41, 45, 48, 49, 50, 51, 52, 53, 55, 56, 57, 58, 59, 60, 61, 62, 63, 64, 66, 67, 69, 70, 71, 73, 75, 76, 78, 81, 83, 84, 85, 86, 88, 89, 90, 92, 93, 98, 100, 102, 107, 108]\n",
      "WARNING: aclu 65 is not present in the `pf1d_long` ratemaps. Which contain aclus: [2, 3, 5, 7, 9, 10, 11, 14, 15, 16, 17, 19, 21, 28, 31, 32, 33, 35, 36, 37, 41, 45, 48, 49, 50, 51, 53, 54, 55, 57, 59, 60, 61, 62, 63, 64, 68, 69, 70, 71, 73, 74, 75, 76, 78, 81, 83, 84, 85, 86, 88, 90, 92, 93, 97, 98, 100, 102, 105, 107, 108]\n",
      "WARNING: aclu 66 is not present in the `pf1d_long` ratemaps. Which contain aclus: [2, 3, 5, 7, 9, 10, 11, 14, 15, 16, 17, 19, 21, 28, 31, 32, 33, 35, 36, 37, 41, 45, 48, 49, 50, 51, 53, 54, 55, 57, 59, 60, 61, 62, 63, 64, 68, 69, 70, 71, 73, 74, 75, 76, 78, 81, 83, 84, 85, 86, 88, 90, 92, 93, 97, 98, 100, 102, 105, 107, 108]\n",
      "WARNING: aclu 67 is not present in the `pf1d_long` ratemaps. Which contain aclus: [2, 3, 5, 7, 9, 10, 11, 14, 15, 16, 17, 19, 21, 28, 31, 32, 33, 35, 36, 37, 41, 45, 48, 49, 50, 51, 53, 54, 55, 57, 59, 60, 61, 62, 63, 64, 68, 69, 70, 71, 73, 74, 75, 76, 78, 81, 83, 84, 85, 86, 88, 90, 92, 93, 97, 98, 100, 102, 105, 107, 108]\n",
      "WARNING: aclu 68 is not present in the `pf1d_short` ratemaps. Which contain aclus: [3, 4, 5, 7, 9, 10, 11, 13, 14, 15, 16, 19, 21, 25, 31, 32, 33, 34, 35, 36, 37, 41, 45, 48, 49, 50, 51, 52, 53, 55, 56, 57, 58, 59, 60, 61, 62, 63, 64, 66, 67, 69, 70, 71, 73, 75, 76, 78, 81, 83, 84, 85, 86, 88, 89, 90, 92, 93, 98, 100, 102, 107, 108]\n",
      "\t saved /home/halechr/repos/Spike3D/EXTERNAL/Screenshots/ProgrammaticDisplayFunctionTesting/2024-09-26/kdiba/gor01/one/2006-6-08_14-26-15/BatchPhoJonathanReplayFRC_shared_6of10_(62,63,64,65,66,67,68,69,70,71).png\n",
      "include_includelist: ['maze1_odd', 'maze2_odd', 'maze_odd', 'maze1_even', 'maze2_even', 'maze_even', 'maze1_any', 'maze2_any', 'maze_any']\n",
      "long_epoch_name: maze1_odd, short_epoch_name: maze2_odd, global_epoch_name: maze_any\n"
     ]
    },
    {
     "name": "stderr",
     "output_type": "stream",
     "text": [
      "/home/halechr/repos/pyPhoPlaceCellAnalysis/src/pyphoplacecellanalysis/General/Pipeline/Stages/DisplayFunctions/MultiContextComparingDisplayFunctions/LongShortTrackComparingDisplayFunctions.py:1290: SettingWithCopyWarning: \n",
      "A value is trying to be set on a copy of a slice from a DataFrame.\n",
      "Try using .loc[row_indexer,col_indexer] = value instead\n",
      "\n",
      "See the caveats in the documentation: https://pandas.pydata.org/pandas-docs/stable/user_guide/indexing.html#returning-a-view-versus-a-copy\n",
      "  cell_df.loc[:, 'x'] = spk_x\n",
      "/home/halechr/repos/pyPhoPlaceCellAnalysis/src/pyphoplacecellanalysis/General/Mixins/CrossComputationComparisonHelpers.py:245: RuntimeWarning: invalid value encountered in divide\n",
      "  _long_to_short_balances = (rdf.num_short_only_neuron_participating.values - rdf.num_long_only_neuron_participating.values) / (rdf.num_short_only_neuron_participating.values + rdf.num_long_only_neuron_participating.values) ## Working but (0, 1, 1) would clip to 0.5 despite (1, 13, 0) going all the way down to -1.0\n",
      "/home/halechr/repos/pyPhoPlaceCellAnalysis/src/pyphoplacecellanalysis/General/Mixins/CrossComputationComparisonHelpers.py:275: RuntimeWarning: invalid value encountered in divide\n",
      "  _long_to_short_balances = (rdf.num_short_only_neuron_participating.values - rdf.num_long_only_neuron_participating.values) / (rdf.num_short_only_neuron_participating.values + rdf.num_long_only_neuron_participating.values) ## Working but (0, 1, 1) would clip to 0.5 despite (1, 13, 0) going all the way down to -1.0\n"
     ]
    },
    {
     "name": "stdout",
     "output_type": "stream",
     "text": [
      "DEPRICATION WARNING: workaround to allow subscripting ComputationResult objects. Will be depricated. key: computed_data\n",
      "DEPRICATION WARNING: workaround to allow subscripting ComputationResult objects. Will be depricated. key: computed_data\n",
      "DEPRICATION WARNING: workaround to allow subscripting ComputationResult objects. Will be depricated. key: computed_data\n",
      "WARNING: aclu 72 is not present in the `pf1d_short` ratemaps. Which contain aclus: [3, 4, 5, 7, 9, 10, 11, 13, 14, 15, 16, 19, 21, 25, 31, 32, 33, 34, 35, 36, 37, 41, 45, 48, 49, 50, 51, 52, 53, 55, 56, 57, 58, 59, 60, 61, 62, 63, 64, 66, 67, 69, 70, 71, 73, 75, 76, 78, 81, 83, 84, 85, 86, 88, 89, 90, 92, 93, 98, 100, 102, 107, 108]\n",
      "WARNING: aclu 72 is not present in the `pf1d_long` ratemaps. Which contain aclus: [2, 3, 5, 7, 9, 10, 11, 14, 15, 16, 17, 19, 21, 28, 31, 32, 33, 35, 36, 37, 41, 45, 48, 49, 50, 51, 53, 54, 55, 57, 59, 60, 61, 62, 63, 64, 68, 69, 70, 71, 73, 74, 75, 76, 78, 81, 83, 84, 85, 86, 88, 90, 92, 93, 97, 98, 100, 102, 105, 107, 108]\n",
      "WARNING: aclu 77 is not present in the `pf1d_short` ratemaps. Which contain aclus: [3, 4, 5, 7, 9, 10, 11, 13, 14, 15, 16, 19, 21, 25, 31, 32, 33, 34, 35, 36, 37, 41, 45, 48, 49, 50, 51, 52, 53, 55, 56, 57, 58, 59, 60, 61, 62, 63, 64, 66, 67, 69, 70, 71, 73, 75, 76, 78, 81, 83, 84, 85, 86, 88, 89, 90, 92, 93, 98, 100, 102, 107, 108]\n",
      "WARNING: aclu 77 is not present in the `pf1d_long` ratemaps. Which contain aclus: [2, 3, 5, 7, 9, 10, 11, 14, 15, 16, 17, 19, 21, 28, 31, 32, 33, 35, 36, 37, 41, 45, 48, 49, 50, 51, 53, 54, 55, 57, 59, 60, 61, 62, 63, 64, 68, 69, 70, 71, 73, 74, 75, 76, 78, 81, 83, 84, 85, 86, 88, 90, 92, 93, 97, 98, 100, 102, 105, 107, 108]\n",
      "WARNING: aclu 79 is not present in the `pf1d_short` ratemaps. Which contain aclus: [3, 4, 5, 7, 9, 10, 11, 13, 14, 15, 16, 19, 21, 25, 31, 32, 33, 34, 35, 36, 37, 41, 45, 48, 49, 50, 51, 52, 53, 55, 56, 57, 58, 59, 60, 61, 62, 63, 64, 66, 67, 69, 70, 71, 73, 75, 76, 78, 81, 83, 84, 85, 86, 88, 89, 90, 92, 93, 98, 100, 102, 107, 108]\n",
      "WARNING: aclu 79 is not present in the `pf1d_long` ratemaps. Which contain aclus: [2, 3, 5, 7, 9, 10, 11, 14, 15, 16, 17, 19, 21, 28, 31, 32, 33, 35, 36, 37, 41, 45, 48, 49, 50, 51, 53, 54, 55, 57, 59, 60, 61, 62, 63, 64, 68, 69, 70, 71, 73, 74, 75, 76, 78, 81, 83, 84, 85, 86, 88, 90, 92, 93, 97, 98, 100, 102, 105, 107, 108]\n",
      "WARNING: aclu 80 is not present in the `pf1d_short` ratemaps. Which contain aclus: [3, 4, 5, 7, 9, 10, 11, 13, 14, 15, 16, 19, 21, 25, 31, 32, 33, 34, 35, 36, 37, 41, 45, 48, 49, 50, 51, 52, 53, 55, 56, 57, 58, 59, 60, 61, 62, 63, 64, 66, 67, 69, 70, 71, 73, 75, 76, 78, 81, 83, 84, 85, 86, 88, 89, 90, 92, 93, 98, 100, 102, 107, 108]\n",
      "WARNING: aclu 80 is not present in the `pf1d_long` ratemaps. Which contain aclus: [2, 3, 5, 7, 9, 10, 11, 14, 15, 16, 17, 19, 21, 28, 31, 32, 33, 35, 36, 37, 41, 45, 48, 49, 50, 51, 53, 54, 55, 57, 59, 60, 61, 62, 63, 64, 68, 69, 70, 71, 73, 74, 75, 76, 78, 81, 83, 84, 85, 86, 88, 90, 92, 93, 97, 98, 100, 102, 105, 107, 108]\n",
      "WARNING: aclu 82 is not present in the `pf1d_short` ratemaps. Which contain aclus: [3, 4, 5, 7, 9, 10, 11, 13, 14, 15, 16, 19, 21, 25, 31, 32, 33, 34, 35, 36, 37, 41, 45, 48, 49, 50, 51, 52, 53, 55, 56, 57, 58, 59, 60, 61, 62, 63, 64, 66, 67, 69, 70, 71, 73, 75, 76, 78, 81, 83, 84, 85, 86, 88, 89, 90, 92, 93, 98, 100, 102, 107, 108]\n",
      "WARNING: aclu 82 is not present in the `pf1d_long` ratemaps. Which contain aclus: [2, 3, 5, 7, 9, 10, 11, 14, 15, 16, 17, 19, 21, 28, 31, 32, 33, 35, 36, 37, 41, 45, 48, 49, 50, 51, 53, 54, 55, 57, 59, 60, 61, 62, 63, 64, 68, 69, 70, 71, 73, 74, 75, 76, 78, 81, 83, 84, 85, 86, 88, 90, 92, 93, 97, 98, 100, 102, 105, 107, 108]\n",
      "\t saved /home/halechr/repos/Spike3D/EXTERNAL/Screenshots/ProgrammaticDisplayFunctionTesting/2024-09-26/kdiba/gor01/one/2006-6-08_14-26-15/BatchPhoJonathanReplayFRC_shared_7of10_(72,73,75,76,77,78,79,80,81,82).png\n",
      "include_includelist: ['maze1_odd', 'maze2_odd', 'maze_odd', 'maze1_even', 'maze2_even', 'maze_even', 'maze1_any', 'maze2_any', 'maze_any']\n",
      "long_epoch_name: maze1_odd, short_epoch_name: maze2_odd, global_epoch_name: maze_any\n"
     ]
    },
    {
     "name": "stderr",
     "output_type": "stream",
     "text": [
      "/home/halechr/repos/pyPhoPlaceCellAnalysis/src/pyphoplacecellanalysis/General/Pipeline/Stages/DisplayFunctions/MultiContextComparingDisplayFunctions/LongShortTrackComparingDisplayFunctions.py:1290: SettingWithCopyWarning: \n",
      "A value is trying to be set on a copy of a slice from a DataFrame.\n",
      "Try using .loc[row_indexer,col_indexer] = value instead\n",
      "\n",
      "See the caveats in the documentation: https://pandas.pydata.org/pandas-docs/stable/user_guide/indexing.html#returning-a-view-versus-a-copy\n",
      "  cell_df.loc[:, 'x'] = spk_x\n",
      "/home/halechr/repos/pyPhoPlaceCellAnalysis/src/pyphoplacecellanalysis/General/Mixins/CrossComputationComparisonHelpers.py:245: RuntimeWarning: invalid value encountered in divide\n",
      "  _long_to_short_balances = (rdf.num_short_only_neuron_participating.values - rdf.num_long_only_neuron_participating.values) / (rdf.num_short_only_neuron_participating.values + rdf.num_long_only_neuron_participating.values) ## Working but (0, 1, 1) would clip to 0.5 despite (1, 13, 0) going all the way down to -1.0\n",
      "/home/halechr/repos/pyPhoPlaceCellAnalysis/src/pyphoplacecellanalysis/General/Mixins/CrossComputationComparisonHelpers.py:275: RuntimeWarning: invalid value encountered in divide\n",
      "  _long_to_short_balances = (rdf.num_short_only_neuron_participating.values - rdf.num_long_only_neuron_participating.values) / (rdf.num_short_only_neuron_participating.values + rdf.num_long_only_neuron_participating.values) ## Working but (0, 1, 1) would clip to 0.5 despite (1, 13, 0) going all the way down to -1.0\n"
     ]
    },
    {
     "name": "stdout",
     "output_type": "stream",
     "text": [
      "DEPRICATION WARNING: workaround to allow subscripting ComputationResult objects. Will be depricated. key: computed_data\n",
      "DEPRICATION WARNING: workaround to allow subscripting ComputationResult objects. Will be depricated. key: computed_data\n",
      "DEPRICATION WARNING: workaround to allow subscripting ComputationResult objects. Will be depricated. key: computed_data\n",
      "WARNING: aclu 89 is not present in the `pf1d_long` ratemaps. Which contain aclus: [2, 3, 5, 7, 9, 10, 11, 14, 15, 16, 17, 19, 21, 28, 31, 32, 33, 35, 36, 37, 41, 45, 48, 49, 50, 51, 53, 54, 55, 57, 59, 60, 61, 62, 63, 64, 68, 69, 70, 71, 73, 74, 75, 76, 78, 81, 83, 84, 85, 86, 88, 90, 92, 93, 97, 98, 100, 102, 105, 107, 108]\n",
      "WARNING: aclu 91 is not present in the `pf1d_short` ratemaps. Which contain aclus: [3, 4, 5, 7, 9, 10, 11, 13, 14, 15, 16, 19, 21, 25, 31, 32, 33, 34, 35, 36, 37, 41, 45, 48, 49, 50, 51, 52, 53, 55, 56, 57, 58, 59, 60, 61, 62, 63, 64, 66, 67, 69, 70, 71, 73, 75, 76, 78, 81, 83, 84, 85, 86, 88, 89, 90, 92, 93, 98, 100, 102, 107, 108]\n",
      "WARNING: aclu 91 is not present in the `pf1d_long` ratemaps. Which contain aclus: [2, 3, 5, 7, 9, 10, 11, 14, 15, 16, 17, 19, 21, 28, 31, 32, 33, 35, 36, 37, 41, 45, 48, 49, 50, 51, 53, 54, 55, 57, 59, 60, 61, 62, 63, 64, 68, 69, 70, 71, 73, 74, 75, 76, 78, 81, 83, 84, 85, 86, 88, 90, 92, 93, 97, 98, 100, 102, 105, 107, 108]\n",
      "\t saved /home/halechr/repos/Spike3D/EXTERNAL/Screenshots/ProgrammaticDisplayFunctionTesting/2024-09-26/kdiba/gor01/one/2006-6-08_14-26-15/BatchPhoJonathanReplayFRC_shared_8of10_(83,84,85,86,88,89,90,91,92,93).png\n",
      "include_includelist: ['maze1_odd', 'maze2_odd', 'maze_odd', 'maze1_even', 'maze2_even', 'maze_even', 'maze1_any', 'maze2_any', 'maze_any']\n",
      "long_epoch_name: maze1_odd, short_epoch_name: maze2_odd, global_epoch_name: maze_any\n",
      "[neptune] [warning] Experiencing connection interruptions. Will try to reestablish communication with Neptune. Internal exception was: HTTPServiceUnavailable\n"
     ]
    },
    {
     "name": "stderr",
     "output_type": "stream",
     "text": [
      "/home/halechr/repos/pyPhoPlaceCellAnalysis/src/pyphoplacecellanalysis/General/Pipeline/Stages/DisplayFunctions/MultiContextComparingDisplayFunctions/LongShortTrackComparingDisplayFunctions.py:1290: SettingWithCopyWarning: \n",
      "A value is trying to be set on a copy of a slice from a DataFrame.\n",
      "Try using .loc[row_indexer,col_indexer] = value instead\n",
      "\n",
      "See the caveats in the documentation: https://pandas.pydata.org/pandas-docs/stable/user_guide/indexing.html#returning-a-view-versus-a-copy\n",
      "  cell_df.loc[:, 'x'] = spk_x\n",
      "/home/halechr/repos/pyPhoPlaceCellAnalysis/src/pyphoplacecellanalysis/General/Mixins/CrossComputationComparisonHelpers.py:245: RuntimeWarning: invalid value encountered in divide\n",
      "  _long_to_short_balances = (rdf.num_short_only_neuron_participating.values - rdf.num_long_only_neuron_participating.values) / (rdf.num_short_only_neuron_participating.values + rdf.num_long_only_neuron_participating.values) ## Working but (0, 1, 1) would clip to 0.5 despite (1, 13, 0) going all the way down to -1.0\n",
      "/home/halechr/repos/pyPhoPlaceCellAnalysis/src/pyphoplacecellanalysis/General/Mixins/CrossComputationComparisonHelpers.py:275: RuntimeWarning: invalid value encountered in divide\n",
      "  _long_to_short_balances = (rdf.num_short_only_neuron_participating.values - rdf.num_long_only_neuron_participating.values) / (rdf.num_short_only_neuron_participating.values + rdf.num_long_only_neuron_participating.values) ## Working but (0, 1, 1) would clip to 0.5 despite (1, 13, 0) going all the way down to -1.0\n"
     ]
    },
    {
     "name": "stdout",
     "output_type": "stream",
     "text": [
      "DEPRICATION WARNING: workaround to allow subscripting ComputationResult objects. Will be depricated. key: computed_data\n",
      "DEPRICATION WARNING: workaround to allow subscripting ComputationResult objects. Will be depricated. key: computed_data\n",
      "DEPRICATION WARNING: workaround to allow subscripting ComputationResult objects. Will be depricated. key: computed_data\n",
      "WARNING: aclu 94 is not present in the `pf1d_short` ratemaps. Which contain aclus: [3, 4, 5, 7, 9, 10, 11, 13, 14, 15, 16, 19, 21, 25, 31, 32, 33, 34, 35, 36, 37, 41, 45, 48, 49, 50, 51, 52, 53, 55, 56, 57, 58, 59, 60, 61, 62, 63, 64, 66, 67, 69, 70, 71, 73, 75, 76, 78, 81, 83, 84, 85, 86, 88, 89, 90, 92, 93, 98, 100, 102, 107, 108]\n",
      "WARNING: aclu 94 is not present in the `pf1d_long` ratemaps. Which contain aclus: [2, 3, 5, 7, 9, 10, 11, 14, 15, 16, 17, 19, 21, 28, 31, 32, 33, 35, 36, 37, 41, 45, 48, 49, 50, 51, 53, 54, 55, 57, 59, 60, 61, 62, 63, 64, 68, 69, 70, 71, 73, 74, 75, 76, 78, 81, 83, 84, 85, 86, 88, 90, 92, 93, 97, 98, 100, 102, 105, 107, 108]\n",
      "WARNING: aclu 95 is not present in the `pf1d_short` ratemaps. Which contain aclus: [3, 4, 5, 7, 9, 10, 11, 13, 14, 15, 16, 19, 21, 25, 31, 32, 33, 34, 35, 36, 37, 41, 45, 48, 49, 50, 51, 52, 53, 55, 56, 57, 58, 59, 60, 61, 62, 63, 64, 66, 67, 69, 70, 71, 73, 75, 76, 78, 81, 83, 84, 85, 86, 88, 89, 90, 92, 93, 98, 100, 102, 107, 108]\n",
      "WARNING: aclu 95 is not present in the `pf1d_long` ratemaps. Which contain aclus: [2, 3, 5, 7, 9, 10, 11, 14, 15, 16, 17, 19, 21, 28, 31, 32, 33, 35, 36, 37, 41, 45, 48, 49, 50, 51, 53, 54, 55, 57, 59, 60, 61, 62, 63, 64, 68, 69, 70, 71, 73, 74, 75, 76, 78, 81, 83, 84, 85, 86, 88, 90, 92, 93, 97, 98, 100, 102, 105, 107, 108]\n",
      "WARNING: aclu 96 is not present in the `pf1d_short` ratemaps. Which contain aclus: [3, 4, 5, 7, 9, 10, 11, 13, 14, 15, 16, 19, 21, 25, 31, 32, 33, 34, 35, 36, 37, 41, 45, 48, 49, 50, 51, 52, 53, 55, 56, 57, 58, 59, 60, 61, 62, 63, 64, 66, 67, 69, 70, 71, 73, 75, 76, 78, 81, 83, 84, 85, 86, 88, 89, 90, 92, 93, 98, 100, 102, 107, 108]\n",
      "WARNING: aclu 96 is not present in the `pf1d_long` ratemaps. Which contain aclus: [2, 3, 5, 7, 9, 10, 11, 14, 15, 16, 17, 19, 21, 28, 31, 32, 33, 35, 36, 37, 41, 45, 48, 49, 50, 51, 53, 54, 55, 57, 59, 60, 61, 62, 63, 64, 68, 69, 70, 71, 73, 74, 75, 76, 78, 81, 83, 84, 85, 86, 88, 90, 92, 93, 97, 98, 100, 102, 105, 107, 108]\n",
      "WARNING: aclu 99 is not present in the `pf1d_short` ratemaps. Which contain aclus: [3, 4, 5, 7, 9, 10, 11, 13, 14, 15, 16, 19, 21, 25, 31, 32, 33, 34, 35, 36, 37, 41, 45, 48, 49, 50, 51, 52, 53, 55, 56, 57, 58, 59, 60, 61, 62, 63, 64, 66, 67, 69, 70, 71, 73, 75, 76, 78, 81, 83, 84, 85, 86, 88, 89, 90, 92, 93, 98, 100, 102, 107, 108]\n",
      "WARNING: aclu 99 is not present in the `pf1d_long` ratemaps. Which contain aclus: [2, 3, 5, 7, 9, 10, 11, 14, 15, 16, 17, 19, 21, 28, 31, 32, 33, 35, 36, 37, 41, 45, 48, 49, 50, 51, 53, 54, 55, 57, 59, 60, 61, 62, 63, 64, 68, 69, 70, 71, 73, 74, 75, 76, 78, 81, 83, 84, 85, 86, 88, 90, 92, 93, 97, 98, 100, 102, 105, 107, 108]\n",
      "WARNING: aclu 101 is not present in the `pf1d_short` ratemaps. Which contain aclus: [3, 4, 5, 7, 9, 10, 11, 13, 14, 15, 16, 19, 21, 25, 31, 32, 33, 34, 35, 36, 37, 41, 45, 48, 49, 50, 51, 52, 53, 55, 56, 57, 58, 59, 60, 61, 62, 63, 64, 66, 67, 69, 70, 71, 73, 75, 76, 78, 81, 83, 84, 85, 86, 88, 89, 90, 92, 93, 98, 100, 102, 107, 108]\n",
      "WARNING: aclu 101 is not present in the `pf1d_long` ratemaps. Which contain aclus: [2, 3, 5, 7, 9, 10, 11, 14, 15, 16, 17, 19, 21, 28, 31, 32, 33, 35, 36, 37, 41, 45, 48, 49, 50, 51, 53, 54, 55, 57, 59, 60, 61, 62, 63, 64, 68, 69, 70, 71, 73, 74, 75, 76, 78, 81, 83, 84, 85, 86, 88, 90, 92, 93, 97, 98, 100, 102, 105, 107, 108]\n",
      "WARNING: aclu 103 is not present in the `pf1d_short` ratemaps. Which contain aclus: [3, 4, 5, 7, 9, 10, 11, 13, 14, 15, 16, 19, 21, 25, 31, 32, 33, 34, 35, 36, 37, 41, 45, 48, 49, 50, 51, 52, 53, 55, 56, 57, 58, 59, 60, 61, 62, 63, 64, 66, 67, 69, 70, 71, 73, 75, 76, 78, 81, 83, 84, 85, 86, 88, 89, 90, 92, 93, 98, 100, 102, 107, 108]\n",
      "WARNING: aclu 103 is not present in the `pf1d_long` ratemaps. Which contain aclus: [2, 3, 5, 7, 9, 10, 11, 14, 15, 16, 17, 19, 21, 28, 31, 32, 33, 35, 36, 37, 41, 45, 48, 49, 50, 51, 53, 54, 55, 57, 59, 60, 61, 62, 63, 64, 68, 69, 70, 71, 73, 74, 75, 76, 78, 81, 83, 84, 85, 86, 88, 90, 92, 93, 97, 98, 100, 102, 105, 107, 108]\n",
      "WARNING: aclu 104 is not present in the `pf1d_short` ratemaps. Which contain aclus: [3, 4, 5, 7, 9, 10, 11, 13, 14, 15, 16, 19, 21, 25, 31, 32, 33, 34, 35, 36, 37, 41, 45, 48, 49, 50, 51, 52, 53, 55, 56, 57, 58, 59, 60, 61, 62, 63, 64, 66, 67, 69, 70, 71, 73, 75, 76, 78, 81, 83, 84, 85, 86, 88, 89, 90, 92, 93, 98, 100, 102, 107, 108]\n",
      "WARNING: aclu 104 is not present in the `pf1d_long` ratemaps. Which contain aclus: [2, 3, 5, 7, 9, 10, 11, 14, 15, 16, 17, 19, 21, 28, 31, 32, 33, 35, 36, 37, 41, 45, 48, 49, 50, 51, 53, 54, 55, 57, 59, 60, 61, 62, 63, 64, 68, 69, 70, 71, 73, 74, 75, 76, 78, 81, 83, 84, 85, 86, 88, 90, 92, 93, 97, 98, 100, 102, 105, 107, 108]\n",
      "[neptune] [info   ] Communication with Neptune restored!\n",
      "\t saved /home/halechr/repos/Spike3D/EXTERNAL/Screenshots/ProgrammaticDisplayFunctionTesting/2024-09-26/kdiba/gor01/one/2006-6-08_14-26-15/BatchPhoJonathanReplayFRC_shared_9of10_(94,95,96,98,99,100,101,102,103,104).png\n",
      "include_includelist: ['maze1_odd', 'maze2_odd', 'maze_odd', 'maze1_even', 'maze2_even', 'maze_even', 'maze1_any', 'maze2_any', 'maze_any']\n",
      "long_epoch_name: maze1_odd, short_epoch_name: maze2_odd, global_epoch_name: maze_any\n"
     ]
    },
    {
     "name": "stderr",
     "output_type": "stream",
     "text": [
      "/home/halechr/repos/pyPhoPlaceCellAnalysis/src/pyphoplacecellanalysis/General/Pipeline/Stages/DisplayFunctions/MultiContextComparingDisplayFunctions/LongShortTrackComparingDisplayFunctions.py:1290: SettingWithCopyWarning: \n",
      "A value is trying to be set on a copy of a slice from a DataFrame.\n",
      "Try using .loc[row_indexer,col_indexer] = value instead\n",
      "\n",
      "See the caveats in the documentation: https://pandas.pydata.org/pandas-docs/stable/user_guide/indexing.html#returning-a-view-versus-a-copy\n",
      "  cell_df.loc[:, 'x'] = spk_x\n",
      "/home/halechr/repos/pyPhoPlaceCellAnalysis/src/pyphoplacecellanalysis/General/Mixins/CrossComputationComparisonHelpers.py:245: RuntimeWarning: invalid value encountered in divide\n",
      "  _long_to_short_balances = (rdf.num_short_only_neuron_participating.values - rdf.num_long_only_neuron_participating.values) / (rdf.num_short_only_neuron_participating.values + rdf.num_long_only_neuron_participating.values) ## Working but (0, 1, 1) would clip to 0.5 despite (1, 13, 0) going all the way down to -1.0\n",
      "/home/halechr/repos/pyPhoPlaceCellAnalysis/src/pyphoplacecellanalysis/General/Mixins/CrossComputationComparisonHelpers.py:275: RuntimeWarning: invalid value encountered in divide\n",
      "  _long_to_short_balances = (rdf.num_short_only_neuron_participating.values - rdf.num_long_only_neuron_participating.values) / (rdf.num_short_only_neuron_participating.values + rdf.num_long_only_neuron_participating.values) ## Working but (0, 1, 1) would clip to 0.5 despite (1, 13, 0) going all the way down to -1.0\n"
     ]
    },
    {
     "name": "stdout",
     "output_type": "stream",
     "text": [
      "DEPRICATION WARNING: workaround to allow subscripting ComputationResult objects. Will be depricated. key: computed_data\n",
      "DEPRICATION WARNING: workaround to allow subscripting ComputationResult objects. Will be depricated. key: computed_data\n",
      "DEPRICATION WARNING: workaround to allow subscripting ComputationResult objects. Will be depricated. key: computed_data\n",
      "WARNING: aclu 105 is not present in the `pf1d_short` ratemaps. Which contain aclus: [3, 4, 5, 7, 9, 10, 11, 13, 14, 15, 16, 19, 21, 25, 31, 32, 33, 34, 35, 36, 37, 41, 45, 48, 49, 50, 51, 52, 53, 55, 56, 57, 58, 59, 60, 61, 62, 63, 64, 66, 67, 69, 70, 71, 73, 75, 76, 78, 81, 83, 84, 85, 86, 88, 89, 90, 92, 93, 98, 100, 102, 107, 108]\n",
      "WARNING: aclu 106 is not present in the `pf1d_short` ratemaps. Which contain aclus: [3, 4, 5, 7, 9, 10, 11, 13, 14, 15, 16, 19, 21, 25, 31, 32, 33, 34, 35, 36, 37, 41, 45, 48, 49, 50, 51, 52, 53, 55, 56, 57, 58, 59, 60, 61, 62, 63, 64, 66, 67, 69, 70, 71, 73, 75, 76, 78, 81, 83, 84, 85, 86, 88, 89, 90, 92, 93, 98, 100, 102, 107, 108]\n",
      "WARNING: aclu 106 is not present in the `pf1d_long` ratemaps. Which contain aclus: [2, 3, 5, 7, 9, 10, 11, 14, 15, 16, 17, 19, 21, 28, 31, 32, 33, 35, 36, 37, 41, 45, 48, 49, 50, 51, 53, 54, 55, 57, 59, 60, 61, 62, 63, 64, 68, 69, 70, 71, 73, 74, 75, 76, 78, 81, 83, 84, 85, 86, 88, 90, 92, 93, 97, 98, 100, 102, 105, 107, 108]\n"
     ]
    },
    {
     "name": "stderr",
     "output_type": "stream",
     "text": [
      "WARNING: when normalize_tuning_curve=True pad will be set to 1, the current value of pad=2 will be overriden.\n"
     ]
    },
    {
     "name": "stdout",
     "output_type": "stream",
     "text": [
      "\t saved /home/halechr/repos/Spike3D/EXTERNAL/Screenshots/ProgrammaticDisplayFunctionTesting/2024-09-26/kdiba/gor01/one/2006-6-08_14-26-15/BatchPhoJonathanReplayFRC_shared_10of10_(105,106,107,108).png\n"
     ]
    },
    {
     "name": "stderr",
     "output_type": "stream",
     "text": [
      "/home/halechr/repos/pyPhoPlaceCellAnalysis/src/pyphoplacecellanalysis/General/Pipeline/Stages/DisplayFunctions/Ratemaps.py:63: UserWarning: FigureCanvasAgg is non-interactive, and thus cannot be shown\n",
      "  active_figure.show()\n",
      "WARNING: when normalize_tuning_curve=True pad will be set to 1, the current value of pad=2 will be overriden.\n"
     ]
    },
    {
     "name": "stdout",
     "output_type": "stream",
     "text": [
      "\t saved \"file:///home/halechr/repos/Spike3D/EXTERNAL/Screenshots/ProgrammaticDisplayFunctionTesting/2024-09-26/kdiba/gor01/one/2006-6-08_14-26-15/maze1_odd_odd_1d_placefields.png\"\n"
     ]
    },
    {
     "name": "stderr",
     "output_type": "stream",
     "text": [
      "/home/halechr/repos/pyPhoPlaceCellAnalysis/src/pyphoplacecellanalysis/General/Pipeline/Stages/DisplayFunctions/Ratemaps.py:63: UserWarning: FigureCanvasAgg is non-interactive, and thus cannot be shown\n",
      "  active_figure.show()\n",
      "WARNING: when normalize_tuning_curve=True pad will be set to 1, the current value of pad=2 will be overriden.\n"
     ]
    },
    {
     "name": "stdout",
     "output_type": "stream",
     "text": [
      "\t saved \"file:///home/halechr/repos/Spike3D/EXTERNAL/Screenshots/ProgrammaticDisplayFunctionTesting/2024-09-26/kdiba/gor01/one/2006-6-08_14-26-15/maze2_odd_odd_1d_placefields.png\"\n"
     ]
    },
    {
     "name": "stderr",
     "output_type": "stream",
     "text": [
      "/home/halechr/repos/pyPhoPlaceCellAnalysis/src/pyphoplacecellanalysis/General/Pipeline/Stages/DisplayFunctions/Ratemaps.py:63: UserWarning: FigureCanvasAgg is non-interactive, and thus cannot be shown\n",
      "  active_figure.show()\n",
      "WARNING: when normalize_tuning_curve=True pad will be set to 1, the current value of pad=2 will be overriden.\n"
     ]
    },
    {
     "name": "stdout",
     "output_type": "stream",
     "text": [
      "\t saved \"file:///home/halechr/repos/Spike3D/EXTERNAL/Screenshots/ProgrammaticDisplayFunctionTesting/2024-09-26/kdiba/gor01/one/2006-6-08_14-26-15/maze_odd_odd_1d_placefields.png\"\n"
     ]
    },
    {
     "name": "stderr",
     "output_type": "stream",
     "text": [
      "/home/halechr/repos/pyPhoPlaceCellAnalysis/src/pyphoplacecellanalysis/General/Pipeline/Stages/DisplayFunctions/Ratemaps.py:63: UserWarning: FigureCanvasAgg is non-interactive, and thus cannot be shown\n",
      "  active_figure.show()\n",
      "WARNING: when normalize_tuning_curve=True pad will be set to 1, the current value of pad=2 will be overriden.\n"
     ]
    },
    {
     "name": "stdout",
     "output_type": "stream",
     "text": [
      "\t saved \"file:///home/halechr/repos/Spike3D/EXTERNAL/Screenshots/ProgrammaticDisplayFunctionTesting/2024-09-26/kdiba/gor01/one/2006-6-08_14-26-15/maze1_even_even_1d_placefields.png\"\n"
     ]
    },
    {
     "name": "stderr",
     "output_type": "stream",
     "text": [
      "/home/halechr/repos/pyPhoPlaceCellAnalysis/src/pyphoplacecellanalysis/General/Pipeline/Stages/DisplayFunctions/Ratemaps.py:63: UserWarning: FigureCanvasAgg is non-interactive, and thus cannot be shown\n",
      "  active_figure.show()\n",
      "WARNING: when normalize_tuning_curve=True pad will be set to 1, the current value of pad=2 will be overriden.\n"
     ]
    },
    {
     "name": "stdout",
     "output_type": "stream",
     "text": [
      "\t saved \"file:///home/halechr/repos/Spike3D/EXTERNAL/Screenshots/ProgrammaticDisplayFunctionTesting/2024-09-26/kdiba/gor01/one/2006-6-08_14-26-15/maze2_even_even_1d_placefields.png\"\n"
     ]
    },
    {
     "name": "stderr",
     "output_type": "stream",
     "text": [
      "/home/halechr/repos/pyPhoPlaceCellAnalysis/src/pyphoplacecellanalysis/General/Pipeline/Stages/DisplayFunctions/Ratemaps.py:63: UserWarning: FigureCanvasAgg is non-interactive, and thus cannot be shown\n",
      "  active_figure.show()\n",
      "WARNING: when normalize_tuning_curve=True pad will be set to 1, the current value of pad=2 will be overriden.\n"
     ]
    },
    {
     "name": "stdout",
     "output_type": "stream",
     "text": [
      "\t saved \"file:///home/halechr/repos/Spike3D/EXTERNAL/Screenshots/ProgrammaticDisplayFunctionTesting/2024-09-26/kdiba/gor01/one/2006-6-08_14-26-15/maze_even_even_1d_placefields.png\"\n"
     ]
    },
    {
     "name": "stderr",
     "output_type": "stream",
     "text": [
      "/home/halechr/repos/pyPhoPlaceCellAnalysis/src/pyphoplacecellanalysis/General/Pipeline/Stages/DisplayFunctions/Ratemaps.py:63: UserWarning: FigureCanvasAgg is non-interactive, and thus cannot be shown\n",
      "  active_figure.show()\n",
      "WARNING: when normalize_tuning_curve=True pad will be set to 1, the current value of pad=2 will be overriden.\n"
     ]
    },
    {
     "name": "stdout",
     "output_type": "stream",
     "text": [
      "\t saved \"file:///home/halechr/repos/Spike3D/EXTERNAL/Screenshots/ProgrammaticDisplayFunctionTesting/2024-09-26/kdiba/gor01/one/2006-6-08_14-26-15/maze1_any_any_1d_placefields.png\"\n"
     ]
    },
    {
     "name": "stderr",
     "output_type": "stream",
     "text": [
      "/home/halechr/repos/pyPhoPlaceCellAnalysis/src/pyphoplacecellanalysis/General/Pipeline/Stages/DisplayFunctions/Ratemaps.py:63: UserWarning: FigureCanvasAgg is non-interactive, and thus cannot be shown\n",
      "  active_figure.show()\n",
      "WARNING: when normalize_tuning_curve=True pad will be set to 1, the current value of pad=2 will be overriden.\n"
     ]
    },
    {
     "name": "stdout",
     "output_type": "stream",
     "text": [
      "\t saved \"file:///home/halechr/repos/Spike3D/EXTERNAL/Screenshots/ProgrammaticDisplayFunctionTesting/2024-09-26/kdiba/gor01/one/2006-6-08_14-26-15/maze2_any_any_1d_placefields.png\"\n"
     ]
    },
    {
     "name": "stderr",
     "output_type": "stream",
     "text": [
      "/home/halechr/repos/NeuroPy/neuropy/utils/matplotlib_helpers.py:729: RuntimeWarning: More than 20 figures have been opened. Figures created through the pyplot interface (`matplotlib.pyplot.figure`) are retained until explicitly closed and may consume too much memory. (To control this warning, see the rcParam `figure.max_open_warning`). Consider using `matplotlib.pyplot.close()`.\n",
      "  fig = plt.figure(active_fig_id, **({'dpi': None, 'clear': True} | kwargs)) # , 'tight_layout': False - had to remove 'tight_layout': False because it can't coexist with 'constrained_layout'\n",
      "/home/halechr/repos/pyPhoPlaceCellAnalysis/src/pyphoplacecellanalysis/General/Pipeline/Stages/DisplayFunctions/Ratemaps.py:63: UserWarning: FigureCanvasAgg is non-interactive, and thus cannot be shown\n",
      "  active_figure.show()\n"
     ]
    },
    {
     "name": "stdout",
     "output_type": "stream",
     "text": [
      "\t saved \"file:///home/halechr/repos/Spike3D/EXTERNAL/Screenshots/ProgrammaticDisplayFunctionTesting/2024-09-26/kdiba/gor01/one/2006-6-08_14-26-15/maze_any_any_1d_placefields.png\"\n"
     ]
    },
    {
     "name": "stderr",
     "output_type": "stream",
     "text": [
      "/home/halechr/repos/pyPhoPlaceCellAnalysis/src/pyphoplacecellanalysis/General/Mixins/ExportHelpers.py:714: UserWarning: This figure includes Axes that are not compatible with tight_layout, so results might be incorrect.\n",
      "  a_fig.savefig(fig_png_out_path)\n"
     ]
    },
    {
     "name": "stdout",
     "output_type": "stream",
     "text": [
      "\t saved \"file:///home/halechr/repos/Spike3D/EXTERNAL/Screenshots/ProgrammaticDisplayFunctionTesting/2024-09-26/kdiba/gor01/one/2006-6-08_14-26-15/maze1_odd_odd__display_2d_placefield_result_plot_ratemaps_2D.png\"\n",
      "\t saved \"file:///home/halechr/repos/Spike3D/EXTERNAL/Screenshots/ProgrammaticDisplayFunctionTesting/2024-09-26/kdiba/gor01/one/2006-6-08_14-26-15/maze2_odd_odd__display_2d_placefield_result_plot_ratemaps_2D.png\"\n",
      "\t saved \"file:///home/halechr/repos/Spike3D/EXTERNAL/Screenshots/ProgrammaticDisplayFunctionTesting/2024-09-26/kdiba/gor01/one/2006-6-08_14-26-15/maze_odd_odd__display_2d_placefield_result_plot_ratemaps_2D.png\"\n",
      "\t saved \"file:///home/halechr/repos/Spike3D/EXTERNAL/Screenshots/ProgrammaticDisplayFunctionTesting/2024-09-26/kdiba/gor01/one/2006-6-08_14-26-15/maze1_even_even__display_2d_placefield_result_plot_ratemaps_2D.png\"\n",
      "\t saved \"file:///home/halechr/repos/Spike3D/EXTERNAL/Screenshots/ProgrammaticDisplayFunctionTesting/2024-09-26/kdiba/gor01/one/2006-6-08_14-26-15/maze2_even_even__display_2d_placefield_result_plot_ratemaps_2D.png\"\n",
      "\t saved \"file:///home/halechr/repos/Spike3D/EXTERNAL/Screenshots/ProgrammaticDisplayFunctionTesting/2024-09-26/kdiba/gor01/one/2006-6-08_14-26-15/maze_even_even__display_2d_placefield_result_plot_ratemaps_2D.png\"\n",
      "\t saved \"file:///home/halechr/repos/Spike3D/EXTERNAL/Screenshots/ProgrammaticDisplayFunctionTesting/2024-09-26/kdiba/gor01/one/2006-6-08_14-26-15/maze1_any_any__display_2d_placefield_result_plot_ratemaps_2D.png\"\n",
      "\t saved \"file:///home/halechr/repos/Spike3D/EXTERNAL/Screenshots/ProgrammaticDisplayFunctionTesting/2024-09-26/kdiba/gor01/one/2006-6-08_14-26-15/maze2_any_any__display_2d_placefield_result_plot_ratemaps_2D.png\"\n",
      "\t saved \"file:///home/halechr/repos/Spike3D/EXTERNAL/Screenshots/ProgrammaticDisplayFunctionTesting/2024-09-26/kdiba/gor01/one/2006-6-08_14-26-15/maze_any_any__display_2d_placefield_result_plot_ratemaps_2D.png\"\n",
      "\t saved \"file:///home/halechr/repos/Spike3D/EXTERNAL/Screenshots/ProgrammaticDisplayFunctionTesting/2024-09-26/kdiba/gor01/one/2006-6-08_14-26-15/maze1_odd_odd_plot_occupancy_OCCUPANCY.png\"\n",
      "\t saved \"file:///home/halechr/repos/Spike3D/EXTERNAL/Screenshots/ProgrammaticDisplayFunctionTesting/2024-09-26/kdiba/gor01/one/2006-6-08_14-26-15/maze2_odd_odd_plot_occupancy_OCCUPANCY.png\"\n",
      "\t saved \"file:///home/halechr/repos/Spike3D/EXTERNAL/Screenshots/ProgrammaticDisplayFunctionTesting/2024-09-26/kdiba/gor01/one/2006-6-08_14-26-15/maze_odd_odd_plot_occupancy_OCCUPANCY.png\"\n",
      "\t saved \"file:///home/halechr/repos/Spike3D/EXTERNAL/Screenshots/ProgrammaticDisplayFunctionTesting/2024-09-26/kdiba/gor01/one/2006-6-08_14-26-15/maze1_even_even_plot_occupancy_OCCUPANCY.png\"\n",
      "\t saved \"file:///home/halechr/repos/Spike3D/EXTERNAL/Screenshots/ProgrammaticDisplayFunctionTesting/2024-09-26/kdiba/gor01/one/2006-6-08_14-26-15/maze2_even_even_plot_occupancy_OCCUPANCY.png\"\n",
      "\t saved \"file:///home/halechr/repos/Spike3D/EXTERNAL/Screenshots/ProgrammaticDisplayFunctionTesting/2024-09-26/kdiba/gor01/one/2006-6-08_14-26-15/maze_even_even_plot_occupancy_OCCUPANCY.png\"\n",
      "\t saved \"file:///home/halechr/repos/Spike3D/EXTERNAL/Screenshots/ProgrammaticDisplayFunctionTesting/2024-09-26/kdiba/gor01/one/2006-6-08_14-26-15/maze1_any_any_plot_occupancy_OCCUPANCY.png\"\n",
      "\t saved \"file:///home/halechr/repos/Spike3D/EXTERNAL/Screenshots/ProgrammaticDisplayFunctionTesting/2024-09-26/kdiba/gor01/one/2006-6-08_14-26-15/maze2_any_any_plot_occupancy_OCCUPANCY.png\"\n",
      "\t saved \"file:///home/halechr/repos/Spike3D/EXTERNAL/Screenshots/ProgrammaticDisplayFunctionTesting/2024-09-26/kdiba/gor01/one/2006-6-08_14-26-15/maze_any_any_plot_occupancy_OCCUPANCY.png\"\n",
      "\t saved \"file:///home/halechr/repos/Spike3D/EXTERNAL/Screenshots/ProgrammaticDisplayFunctionTesting/2024-09-26/kdiba/gor01/one/2006-6-08_14-26-15/long_short_firing_rate_indicies_display_long_short_laps.png\"\n",
      "global_y_min_SHORT: 0.0, global_y_max_SHORT: 6.0\n",
      "global_y_min_LONG: 0.0, global_y_max_LONG: 6.0\n",
      "global_y_min: 0.0, global_y_max: 6.0\n",
      "\t saved \"file:///home/halechr/repos/Spike3D/EXTERNAL/Screenshots/ProgrammaticDisplayFunctionTesting/2024-09-26/kdiba/gor01/one/2006-6-08_14-26-15/plot_expected_vs_observed_epoch_idx_obs_exp_diff_ptp.png\"\n"
     ]
    },
    {
     "name": "stderr",
     "output_type": "stream",
     "text": [
      "/home/halechr/repos/Spike3D/.venv/lib/python3.9/site-packages/pandas/plotting/_matplotlib/core.py:512: RuntimeWarning: More than 20 figures have been opened. Figures created through the pyplot interface (`matplotlib.pyplot.figure`) are retained until explicitly closed and may consume too much memory. (To control this warning, see the rcParam `figure.max_open_warning`). Consider using `matplotlib.pyplot.close()`.\n",
      "  fig = self.plt.figure(figsize=self.figsize)\n"
     ]
    },
    {
     "name": "stdout",
     "output_type": "stream",
     "text": [
      "\t saved \"file:///home/halechr/repos/Spike3D/EXTERNAL/Screenshots/ProgrammaticDisplayFunctionTesting/2024-09-26/kdiba/gor01/one/2006-6-08_14-26-15/_display_grid_bin_bounds_validation.png\"\n",
      "\t saved \"file:///home/halechr/repos/Spike3D/EXTERNAL/Screenshots/ProgrammaticDisplayFunctionTesting/2024-09-26/kdiba/gor01/one/2006-6-08_14-26-15/running_and_replay_speeds_over_time.png\"\n",
      "\t saved \"file:///home/halechr/repos/Spike3D/EXTERNAL/Screenshots/ProgrammaticDisplayFunctionTesting/2024-09-26/kdiba/gor01/one/2006-6-08_14-26-15/display_long_short_laps.png\"\n",
      "\t saved \"file:///home/halechr/repos/Spike3D/EXTERNAL/Screenshots/ProgrammaticDisplayFunctionTesting/2024-09-26/kdiba/gor01/one/2006-6-08_14-26-15/maze1_any_any_plot_single_track_firing_rate_compare.png\"\n",
      "\t saved \"file:///home/halechr/repos/Spike3D/EXTERNAL/Screenshots/ProgrammaticDisplayFunctionTesting/2024-09-26/kdiba/gor01/one/2006-6-08_14-26-15/maze2_any_any_plot_single_track_firing_rate_compare.png\"\n",
      "WARNING: fignum will be ignored but it was specified as fignum=\"Short v Long pf1D Comparison\"!\n",
      "DEPRICATION WARNING: workaround to allow subscripting ComputationResult objects. Will be depricated. key: computed_data\n",
      "DEPRICATION WARNING: workaround to allow subscripting ComputationResult objects. Will be depricated. key: computed_data\n",
      "DEBUG: new_all_aclus_sort_indicies: [32 67 39 54 45 47 56  4 25 20 48 64 12 50 29 62  3 55 63 27 46 10 17  9\n",
      " 18 33 19  1 28 52 15  6 61 53 42 51 57 49 24 58 66 69 31 40 11 21 59 60\n",
      " 34 38 65 37 70 41 35 26 23 43 44 13 22  5 16 36  2  7 30  8  0 14 68]\n",
      "active_context: kdiba_gor01_one_2006-6-08_14-26-15\n",
      "\t saved \"file:///home/halechr/repos/Spike3D/EXTERNAL/Screenshots/ProgrammaticDisplayFunctionTesting/2024-09-26/kdiba/gor01/one/2006-6-08_14-26-15/display_short_long_pf1D_comparison_long.png\"\n",
      "\t saved \"file:///home/halechr/repos/Spike3D/EXTERNAL/Screenshots/ProgrammaticDisplayFunctionTesting/2024-09-26/kdiba/gor01/one/2006-6-08_14-26-15/display_short_long_pf1D_comparison_short.png\"\n"
     ]
    },
    {
     "name": "stderr",
     "output_type": "stream",
     "text": [
      "/home/halechr/repos/pyPhoPlaceCellAnalysis/src/pyphoplacecellanalysis/Pho2D/matplotlib/CustomMatplotlibWidget.py:236: UserWarning: constrained_layout not applied because axes sizes collapsed to zero.  Try making figure larger or axes decorations smaller.\n",
      "  self.ui.canvas.draw()\n"
     ]
    },
    {
     "name": "stdout",
     "output_type": "stream",
     "text": [
      "batch_extended_programmatic_figures(...): _prepare_plot_long_and_short_epochs failed with error: 'LeaveOneOutDecodingAnalysisResult' object has no attribute 'num_filter_epochs'\n",
      " skipping.\n",
      "DEPRICATION WARNING: workaround to allow subscripting ComputationResult objects. Will be depricated. key: computed_data\n",
      "DEPRICATION WARNING: workaround to allow subscripting ComputationResult objects. Will be depricated. key: computed_data\n",
      "DEPRICATION WARNING: workaround to allow subscripting ComputationResult objects. Will be depricated. key: computed_data\n",
      "batch_extended_programmatic_figures(...): export_active_relative_entropy_results_videos failed with error: 'extended_stats'\n",
      " skipping.\n",
      "DEPRICATION WARNING: workaround to allow subscripting ComputationResult objects. Will be depricated. key: computed_data\n",
      "DEPRICATION WARNING: workaround to allow subscripting ComputationResult objects. Will be depricated. key: computed_data\n",
      "DEPRICATION WARNING: workaround to allow subscripting ComputationResult objects. Will be depricated. key: computed_data\n",
      "WARN: 2023-09-28 16:15: - [ ] fix the combination properties. Would work if we directly used the computed _is_L_only and _is_S_only above\n",
      "include_includelist: ['maze1_odd', 'maze2_odd', 'maze_odd', 'maze1_even', 'maze2_even', 'maze_even', 'maze1_any', 'maze2_any', 'maze_any']\n",
      "long_epoch_name: maze1_odd, short_epoch_name: maze2_odd, global_epoch_name: maze_any\n"
     ]
    },
    {
     "name": "stderr",
     "output_type": "stream",
     "text": [
      "/home/halechr/repos/pyPhoPlaceCellAnalysis/src/pyphoplacecellanalysis/General/Pipeline/Stages/DisplayFunctions/MultiContextComparingDisplayFunctions/LongShortTrackComparingDisplayFunctions.py:1290: SettingWithCopyWarning: \n",
      "A value is trying to be set on a copy of a slice from a DataFrame.\n",
      "Try using .loc[row_indexer,col_indexer] = value instead\n",
      "\n",
      "See the caveats in the documentation: https://pandas.pydata.org/pandas-docs/stable/user_guide/indexing.html#returning-a-view-versus-a-copy\n",
      "  cell_df.loc[:, 'x'] = spk_x\n",
      "/home/halechr/repos/pyPhoPlaceCellAnalysis/src/pyphoplacecellanalysis/General/Mixins/CrossComputationComparisonHelpers.py:245: RuntimeWarning: invalid value encountered in divide\n",
      "  _long_to_short_balances = (rdf.num_short_only_neuron_participating.values - rdf.num_long_only_neuron_participating.values) / (rdf.num_short_only_neuron_participating.values + rdf.num_long_only_neuron_participating.values) ## Working but (0, 1, 1) would clip to 0.5 despite (1, 13, 0) going all the way down to -1.0\n",
      "/home/halechr/repos/pyPhoPlaceCellAnalysis/src/pyphoplacecellanalysis/General/Mixins/CrossComputationComparisonHelpers.py:275: RuntimeWarning: invalid value encountered in divide\n",
      "  _long_to_short_balances = (rdf.num_short_only_neuron_participating.values - rdf.num_long_only_neuron_participating.values) / (rdf.num_short_only_neuron_participating.values + rdf.num_long_only_neuron_participating.values) ## Working but (0, 1, 1) would clip to 0.5 despite (1, 13, 0) going all the way down to -1.0\n"
     ]
    },
    {
     "name": "stdout",
     "output_type": "stream",
     "text": [
      "DEPRICATION WARNING: workaround to allow subscripting ComputationResult objects. Will be depricated. key: computed_data\n",
      "DEPRICATION WARNING: workaround to allow subscripting ComputationResult objects. Will be depricated. key: computed_data\n",
      "DEPRICATION WARNING: workaround to allow subscripting ComputationResult objects. Will be depricated. key: computed_data\n",
      "WARNING: aclu 97 is not present in the `pf1d_short` ratemaps. Which contain aclus: [3, 4, 5, 7, 9, 10, 11, 13, 14, 15, 16, 19, 21, 25, 31, 32, 33, 34, 35, 36, 37, 41, 45, 48, 49, 50, 51, 52, 53, 55, 56, 57, 58, 59, 60, 61, 62, 63, 64, 66, 67, 69, 70, 71, 73, 75, 76, 78, 81, 83, 84, 85, 86, 88, 89, 90, 92, 93, 98, 100, 102, 107, 108]\n",
      "WARNING: aclu 74 is not present in the `pf1d_short` ratemaps. Which contain aclus: [3, 4, 5, 7, 9, 10, 11, 13, 14, 15, 16, 19, 21, 25, 31, 32, 33, 34, 35, 36, 37, 41, 45, 48, 49, 50, 51, 52, 53, 55, 56, 57, 58, 59, 60, 61, 62, 63, 64, 66, 67, 69, 70, 71, 73, 75, 76, 78, 81, 83, 84, 85, 86, 88, 89, 90, 92, 93, 98, 100, 102, 107, 108]\n",
      "WARNING: aclu 109 is not present in the `pf1d_short` ratemaps. Which contain aclus: [3, 4, 5, 7, 9, 10, 11, 13, 14, 15, 16, 19, 21, 25, 31, 32, 33, 34, 35, 36, 37, 41, 45, 48, 49, 50, 51, 52, 53, 55, 56, 57, 58, 59, 60, 61, 62, 63, 64, 66, 67, 69, 70, 71, 73, 75, 76, 78, 81, 83, 84, 85, 86, 88, 89, 90, 92, 93, 98, 100, 102, 107, 108]\n",
      "WARNING: aclu 109 is not present in the `pf1d_long` ratemaps. Which contain aclus: [2, 3, 5, 7, 9, 10, 11, 14, 15, 16, 17, 19, 21, 28, 31, 32, 33, 35, 36, 37, 41, 45, 48, 49, 50, 51, 53, 54, 55, 57, 59, 60, 61, 62, 63, 64, 68, 69, 70, 71, 73, 74, 75, 76, 78, 81, 83, 84, 85, 86, 88, 90, 92, 93, 97, 98, 100, 102, 105, 107, 108]\n",
      "WARNING: aclu 8 is not present in the `pf1d_short` ratemaps. Which contain aclus: [3, 4, 5, 7, 9, 10, 11, 13, 14, 15, 16, 19, 21, 25, 31, 32, 33, 34, 35, 36, 37, 41, 45, 48, 49, 50, 51, 52, 53, 55, 56, 57, 58, 59, 60, 61, 62, 63, 64, 66, 67, 69, 70, 71, 73, 75, 76, 78, 81, 83, 84, 85, 86, 88, 89, 90, 92, 93, 98, 100, 102, 107, 108]\n",
      "WARNING: aclu 8 is not present in the `pf1d_long` ratemaps. Which contain aclus: [2, 3, 5, 7, 9, 10, 11, 14, 15, 16, 17, 19, 21, 28, 31, 32, 33, 35, 36, 37, 41, 45, 48, 49, 50, 51, 53, 54, 55, 57, 59, 60, 61, 62, 63, 64, 68, 69, 70, 71, 73, 74, 75, 76, 78, 81, 83, 84, 85, 86, 88, 90, 92, 93, 97, 98, 100, 102, 105, 107, 108]\n",
      "WARNING: aclu 28 is not present in the `pf1d_short` ratemaps. Which contain aclus: [3, 4, 5, 7, 9, 10, 11, 13, 14, 15, 16, 19, 21, 25, 31, 32, 33, 34, 35, 36, 37, 41, 45, 48, 49, 50, 51, 52, 53, 55, 56, 57, 58, 59, 60, 61, 62, 63, 64, 66, 67, 69, 70, 71, 73, 75, 76, 78, 81, 83, 84, 85, 86, 88, 89, 90, 92, 93, 98, 100, 102, 107, 108]\n"
     ]
    },
    {
     "name": "stderr",
     "output_type": "stream",
     "text": [
      "/home/halechr/repos/pyPhoPlaceCellAnalysis/src/pyphoplacecellanalysis/General/Batch/NonInteractiveProcessing.py:909: UserWarning: constrained_layout not applied because axes sizes collapsed to zero.  Try making figure larger or axes decorations smaller.\n",
      "  a_fig.savefig(fig_png_out_path)\n"
     ]
    },
    {
     "name": "stdout",
     "output_type": "stream",
     "text": [
      "\t saved /home/halechr/repos/Spike3D/EXTERNAL/Screenshots/ProgrammaticDisplayFunctionTesting/2024-09-26/kdiba/gor01/one/2006-6-08_14-26-15/BatchPhoJonathanReplayFRC_long_only_(97,74,109,8,16,37,28).png\n",
      "include_includelist: ['maze1_odd', 'maze2_odd', 'maze_odd', 'maze1_even', 'maze2_even', 'maze_even', 'maze1_any', 'maze2_any', 'maze_any']\n",
      "long_epoch_name: maze1_odd, short_epoch_name: maze2_odd, global_epoch_name: maze_any\n"
     ]
    },
    {
     "name": "stderr",
     "output_type": "stream",
     "text": [
      "/home/halechr/repos/pyPhoPlaceCellAnalysis/src/pyphoplacecellanalysis/General/Pipeline/Stages/DisplayFunctions/MultiContextComparingDisplayFunctions/LongShortTrackComparingDisplayFunctions.py:1290: SettingWithCopyWarning: \n",
      "A value is trying to be set on a copy of a slice from a DataFrame.\n",
      "Try using .loc[row_indexer,col_indexer] = value instead\n",
      "\n",
      "See the caveats in the documentation: https://pandas.pydata.org/pandas-docs/stable/user_guide/indexing.html#returning-a-view-versus-a-copy\n",
      "  cell_df.loc[:, 'x'] = spk_x\n",
      "/home/halechr/repos/pyPhoPlaceCellAnalysis/src/pyphoplacecellanalysis/General/Mixins/CrossComputationComparisonHelpers.py:245: RuntimeWarning: invalid value encountered in divide\n",
      "  _long_to_short_balances = (rdf.num_short_only_neuron_participating.values - rdf.num_long_only_neuron_participating.values) / (rdf.num_short_only_neuron_participating.values + rdf.num_long_only_neuron_participating.values) ## Working but (0, 1, 1) would clip to 0.5 despite (1, 13, 0) going all the way down to -1.0\n",
      "/home/halechr/repos/pyPhoPlaceCellAnalysis/src/pyphoplacecellanalysis/General/Mixins/CrossComputationComparisonHelpers.py:275: RuntimeWarning: invalid value encountered in divide\n",
      "  _long_to_short_balances = (rdf.num_short_only_neuron_participating.values - rdf.num_long_only_neuron_participating.values) / (rdf.num_short_only_neuron_participating.values + rdf.num_long_only_neuron_participating.values) ## Working but (0, 1, 1) would clip to 0.5 despite (1, 13, 0) going all the way down to -1.0\n"
     ]
    },
    {
     "name": "stdout",
     "output_type": "stream",
     "text": [
      "DEPRICATION WARNING: workaround to allow subscripting ComputationResult objects. Will be depricated. key: computed_data\n",
      "DEPRICATION WARNING: workaround to allow subscripting ComputationResult objects. Will be depricated. key: computed_data\n",
      "DEPRICATION WARNING: workaround to allow subscripting ComputationResult objects. Will be depricated. key: computed_data\n",
      "WARNING: aclu 4 is not present in the `pf1d_long` ratemaps. Which contain aclus: [2, 3, 5, 7, 9, 10, 11, 14, 15, 16, 17, 19, 21, 28, 31, 32, 33, 35, 36, 37, 41, 45, 48, 49, 50, 51, 53, 54, 55, 57, 59, 60, 61, 62, 63, 64, 68, 69, 70, 71, 73, 74, 75, 76, 78, 81, 83, 84, 85, 86, 88, 90, 92, 93, 97, 98, 100, 102, 105, 107, 108]\n",
      "WARNING: aclu 13 is not present in the `pf1d_long` ratemaps. Which contain aclus: [2, 3, 5, 7, 9, 10, 11, 14, 15, 16, 17, 19, 21, 28, 31, 32, 33, 35, 36, 37, 41, 45, 48, 49, 50, 51, 53, 54, 55, 57, 59, 60, 61, 62, 63, 64, 68, 69, 70, 71, 73, 74, 75, 76, 78, 81, 83, 84, 85, 86, 88, 90, 92, 93, 97, 98, 100, 102, 105, 107, 108]\n",
      "WARNING: aclu 23 is not present in the `pf1d_short` ratemaps. Which contain aclus: [3, 4, 5, 7, 9, 10, 11, 13, 14, 15, 16, 19, 21, 25, 31, 32, 33, 34, 35, 36, 37, 41, 45, 48, 49, 50, 51, 52, 53, 55, 56, 57, 58, 59, 60, 61, 62, 63, 64, 66, 67, 69, 70, 71, 73, 75, 76, 78, 81, 83, 84, 85, 86, 88, 89, 90, 92, 93, 98, 100, 102, 107, 108]\n",
      "WARNING: aclu 23 is not present in the `pf1d_long` ratemaps. Which contain aclus: [2, 3, 5, 7, 9, 10, 11, 14, 15, 16, 17, 19, 21, 28, 31, 32, 33, 35, 36, 37, 41, 45, 48, 49, 50, 51, 53, 54, 55, 57, 59, 60, 61, 62, 63, 64, 68, 69, 70, 71, 73, 74, 75, 76, 78, 81, 83, 84, 85, 86, 88, 90, 92, 93, 97, 98, 100, 102, 105, 107, 108]\n",
      "WARNING: aclu 52 is not present in the `pf1d_long` ratemaps. Which contain aclus: [2, 3, 5, 7, 9, 10, 11, 14, 15, 16, 17, 19, 21, 28, 31, 32, 33, 35, 36, 37, 41, 45, 48, 49, 50, 51, 53, 54, 55, 57, 59, 60, 61, 62, 63, 64, 68, 69, 70, 71, 73, 74, 75, 76, 78, 81, 83, 84, 85, 86, 88, 90, 92, 93, 97, 98, 100, 102, 105, 107, 108]\n",
      "WARNING: aclu 58 is not present in the `pf1d_long` ratemaps. Which contain aclus: [2, 3, 5, 7, 9, 10, 11, 14, 15, 16, 17, 19, 21, 28, 31, 32, 33, 35, 36, 37, 41, 45, 48, 49, 50, 51, 53, 54, 55, 57, 59, 60, 61, 62, 63, 64, 68, 69, 70, 71, 73, 74, 75, 76, 78, 81, 83, 84, 85, 86, 88, 90, 92, 93, 97, 98, 100, 102, 105, 107, 108]\n",
      "WARNING: aclu 87 is not present in the `pf1d_short` ratemaps. Which contain aclus: [3, 4, 5, 7, 9, 10, 11, 13, 14, 15, 16, 19, 21, 25, 31, 32, 33, 34, 35, 36, 37, 41, 45, 48, 49, 50, 51, 52, 53, 55, 56, 57, 58, 59, 60, 61, 62, 63, 64, 66, 67, 69, 70, 71, 73, 75, 76, 78, 81, 83, 84, 85, 86, 88, 89, 90, 92, 93, 98, 100, 102, 107, 108]\n",
      "WARNING: aclu 87 is not present in the `pf1d_long` ratemaps. Which contain aclus: [2, 3, 5, 7, 9, 10, 11, 14, 15, 16, 17, 19, 21, 28, 31, 32, 33, 35, 36, 37, 41, 45, 48, 49, 50, 51, 53, 54, 55, 57, 59, 60, 61, 62, 63, 64, 68, 69, 70, 71, 73, 74, 75, 76, 78, 81, 83, 84, 85, 86, 88, 90, 92, 93, 97, 98, 100, 102, 105, 107, 108]\n"
     ]
    },
    {
     "name": "stderr",
     "output_type": "stream",
     "text": [
      "/home/halechr/repos/pyPhoPlaceCellAnalysis/src/pyphoplacecellanalysis/General/Batch/NonInteractiveProcessing.py:909: UserWarning: constrained_layout not applied because axes sizes collapsed to zero.  Try making figure larger or axes decorations smaller.\n",
      "  a_fig.savefig(fig_png_out_path)\n"
     ]
    },
    {
     "name": "stdout",
     "output_type": "stream",
     "text": [
      "\t saved /home/halechr/repos/Spike3D/EXTERNAL/Screenshots/ProgrammaticDisplayFunctionTesting/2024-09-26/kdiba/gor01/one/2006-6-08_14-26-15/BatchPhoJonathanReplayFRC_short_only_(4,11,13,23,52,58,87).png\n",
      "include_includelist: ['maze1_odd', 'maze2_odd', 'maze_odd', 'maze1_even', 'maze2_even', 'maze_even', 'maze1_any', 'maze2_any', 'maze_any']\n",
      "long_epoch_name: maze1_odd, short_epoch_name: maze2_odd, global_epoch_name: maze_any\n"
     ]
    },
    {
     "name": "stderr",
     "output_type": "stream",
     "text": [
      "/home/halechr/repos/pyPhoPlaceCellAnalysis/src/pyphoplacecellanalysis/General/Pipeline/Stages/DisplayFunctions/MultiContextComparingDisplayFunctions/LongShortTrackComparingDisplayFunctions.py:1290: SettingWithCopyWarning: \n",
      "A value is trying to be set on a copy of a slice from a DataFrame.\n",
      "Try using .loc[row_indexer,col_indexer] = value instead\n",
      "\n",
      "See the caveats in the documentation: https://pandas.pydata.org/pandas-docs/stable/user_guide/indexing.html#returning-a-view-versus-a-copy\n",
      "  cell_df.loc[:, 'x'] = spk_x\n",
      "/home/halechr/repos/pyPhoPlaceCellAnalysis/src/pyphoplacecellanalysis/General/Mixins/CrossComputationComparisonHelpers.py:245: RuntimeWarning: invalid value encountered in divide\n",
      "  _long_to_short_balances = (rdf.num_short_only_neuron_participating.values - rdf.num_long_only_neuron_participating.values) / (rdf.num_short_only_neuron_participating.values + rdf.num_long_only_neuron_participating.values) ## Working but (0, 1, 1) would clip to 0.5 despite (1, 13, 0) going all the way down to -1.0\n",
      "/home/halechr/repos/pyPhoPlaceCellAnalysis/src/pyphoplacecellanalysis/General/Mixins/CrossComputationComparisonHelpers.py:275: RuntimeWarning: invalid value encountered in divide\n",
      "  _long_to_short_balances = (rdf.num_short_only_neuron_participating.values - rdf.num_long_only_neuron_participating.values) / (rdf.num_short_only_neuron_participating.values + rdf.num_long_only_neuron_participating.values) ## Working but (0, 1, 1) would clip to 0.5 despite (1, 13, 0) going all the way down to -1.0\n"
     ]
    },
    {
     "name": "stdout",
     "output_type": "stream",
     "text": [
      "DEPRICATION WARNING: workaround to allow subscripting ComputationResult objects. Will be depricated. key: computed_data\n",
      "DEPRICATION WARNING: workaround to allow subscripting ComputationResult objects. Will be depricated. key: computed_data\n",
      "DEPRICATION WARNING: workaround to allow subscripting ComputationResult objects. Will be depricated. key: computed_data\n",
      "WARNING: aclu 54 is not present in the `pf1d_short` ratemaps. Which contain aclus: [3, 4, 5, 7, 9, 10, 11, 13, 14, 15, 16, 19, 21, 25, 31, 32, 33, 34, 35, 36, 37, 41, 45, 48, 49, 50, 51, 52, 53, 55, 56, 57, 58, 59, 60, 61, 62, 63, 64, 66, 67, 69, 70, 71, 73, 75, 76, 78, 81, 83, 84, 85, 86, 88, 89, 90, 92, 93, 98, 100, 102, 107, 108]\n",
      "WARNING: aclu 68 is not present in the `pf1d_short` ratemaps. Which contain aclus: [3, 4, 5, 7, 9, 10, 11, 13, 14, 15, 16, 19, 21, 25, 31, 32, 33, 34, 35, 36, 37, 41, 45, 48, 49, 50, 51, 52, 53, 55, 56, 57, 58, 59, 60, 61, 62, 63, 64, 66, 67, 69, 70, 71, 73, 75, 76, 78, 81, 83, 84, 85, 86, 88, 89, 90, 92, 93, 98, 100, 102, 107, 108]\n",
      "WARNING: aclu 34 is not present in the `pf1d_long` ratemaps. Which contain aclus: [2, 3, 5, 7, 9, 10, 11, 14, 15, 16, 17, 19, 21, 28, 31, 32, 33, 35, 36, 37, 41, 45, 48, 49, 50, 51, 53, 54, 55, 57, 59, 60, 61, 62, 63, 64, 68, 69, 70, 71, 73, 74, 75, 76, 78, 81, 83, 84, 85, 86, 88, 90, 92, 93, 97, 98, 100, 102, 105, 107, 108]\n",
      "WARNING: aclu 17 is not present in the `pf1d_short` ratemaps. Which contain aclus: [3, 4, 5, 7, 9, 10, 11, 13, 14, 15, 16, 19, 21, 25, 31, 32, 33, 34, 35, 36, 37, 41, 45, 48, 49, 50, 51, 52, 53, 55, 56, 57, 58, 59, 60, 61, 62, 63, 64, 66, 67, 69, 70, 71, 73, 75, 76, 78, 81, 83, 84, 85, 86, 88, 89, 90, 92, 93, 98, 100, 102, 107, 108]\n",
      "WARNING: aclu 96 is not present in the `pf1d_short` ratemaps. Which contain aclus: [3, 4, 5, 7, 9, 10, 11, 13, 14, 15, 16, 19, 21, 25, 31, 32, 33, 34, 35, 36, 37, 41, 45, 48, 49, 50, 51, 52, 53, 55, 56, 57, 58, 59, 60, 61, 62, 63, 64, 66, 67, 69, 70, 71, 73, 75, 76, 78, 81, 83, 84, 85, 86, 88, 89, 90, 92, 93, 98, 100, 102, 107, 108]\n",
      "WARNING: aclu 96 is not present in the `pf1d_long` ratemaps. Which contain aclus: [2, 3, 5, 7, 9, 10, 11, 14, 15, 16, 17, 19, 21, 28, 31, 32, 33, 35, 36, 37, 41, 45, 48, 49, 50, 51, 53, 54, 55, 57, 59, 60, 61, 62, 63, 64, 68, 69, 70, 71, 73, 74, 75, 76, 78, 81, 83, 84, 85, 86, 88, 90, 92, 93, 97, 98, 100, 102, 105, 107, 108]\n"
     ]
    },
    {
     "name": "stderr",
     "output_type": "stream",
     "text": [
      "/home/halechr/repos/pyPhoPlaceCellAnalysis/src/pyphoplacecellanalysis/General/Batch/NonInteractiveProcessing.py:909: UserWarning: constrained_layout not applied because axes sizes collapsed to zero.  Try making figure larger or axes decorations smaller.\n",
      "  a_fig.savefig(fig_png_out_path)\n"
     ]
    },
    {
     "name": "stdout",
     "output_type": "stream",
     "text": [
      "\t saved /home/halechr/repos/Spike3D/EXTERNAL/Screenshots/ProgrammaticDisplayFunctionTesting/2024-09-26/kdiba/gor01/one/2006-6-08_14-26-15/BatchPhoJonathanReplayFRC_shared_1of5_(54,61,102,81,68,70,84,7,45,71,34,17,51,92,5,83,93,49,69,96).png\n",
      "include_includelist: ['maze1_odd', 'maze2_odd', 'maze_odd', 'maze1_even', 'maze2_even', 'maze_even', 'maze1_any', 'maze2_any', 'maze_any']\n",
      "long_epoch_name: maze1_odd, short_epoch_name: maze2_odd, global_epoch_name: maze_any\n"
     ]
    },
    {
     "name": "stderr",
     "output_type": "stream",
     "text": [
      "/home/halechr/repos/pyPhoPlaceCellAnalysis/src/pyphoplacecellanalysis/General/Pipeline/Stages/DisplayFunctions/MultiContextComparingDisplayFunctions/LongShortTrackComparingDisplayFunctions.py:1290: SettingWithCopyWarning: \n",
      "A value is trying to be set on a copy of a slice from a DataFrame.\n",
      "Try using .loc[row_indexer,col_indexer] = value instead\n",
      "\n",
      "See the caveats in the documentation: https://pandas.pydata.org/pandas-docs/stable/user_guide/indexing.html#returning-a-view-versus-a-copy\n",
      "  cell_df.loc[:, 'x'] = spk_x\n",
      "/home/halechr/repos/pyPhoPlaceCellAnalysis/src/pyphoplacecellanalysis/General/Mixins/CrossComputationComparisonHelpers.py:245: RuntimeWarning: invalid value encountered in divide\n",
      "  _long_to_short_balances = (rdf.num_short_only_neuron_participating.values - rdf.num_long_only_neuron_participating.values) / (rdf.num_short_only_neuron_participating.values + rdf.num_long_only_neuron_participating.values) ## Working but (0, 1, 1) would clip to 0.5 despite (1, 13, 0) going all the way down to -1.0\n",
      "/home/halechr/repos/pyPhoPlaceCellAnalysis/src/pyphoplacecellanalysis/General/Mixins/CrossComputationComparisonHelpers.py:275: RuntimeWarning: invalid value encountered in divide\n",
      "  _long_to_short_balances = (rdf.num_short_only_neuron_participating.values - rdf.num_long_only_neuron_participating.values) / (rdf.num_short_only_neuron_participating.values + rdf.num_long_only_neuron_participating.values) ## Working but (0, 1, 1) would clip to 0.5 despite (1, 13, 0) going all the way down to -1.0\n"
     ]
    },
    {
     "name": "stdout",
     "output_type": "stream",
     "text": [
      "DEPRICATION WARNING: workaround to allow subscripting ComputationResult objects. Will be depricated. key: computed_data\n",
      "DEPRICATION WARNING: workaround to allow subscripting ComputationResult objects. Will be depricated. key: computed_data\n",
      "DEPRICATION WARNING: workaround to allow subscripting ComputationResult objects. Will be depricated. key: computed_data\n",
      "WARNING: aclu 26 is not present in the `pf1d_short` ratemaps. Which contain aclus: [3, 4, 5, 7, 9, 10, 11, 13, 14, 15, 16, 19, 21, 25, 31, 32, 33, 34, 35, 36, 37, 41, 45, 48, 49, 50, 51, 52, 53, 55, 56, 57, 58, 59, 60, 61, 62, 63, 64, 66, 67, 69, 70, 71, 73, 75, 76, 78, 81, 83, 84, 85, 86, 88, 89, 90, 92, 93, 98, 100, 102, 107, 108]\n",
      "WARNING: aclu 26 is not present in the `pf1d_long` ratemaps. Which contain aclus: [2, 3, 5, 7, 9, 10, 11, 14, 15, 16, 17, 19, 21, 28, 31, 32, 33, 35, 36, 37, 41, 45, 48, 49, 50, 51, 53, 54, 55, 57, 59, 60, 61, 62, 63, 64, 68, 69, 70, 71, 73, 74, 75, 76, 78, 81, 83, 84, 85, 86, 88, 90, 92, 93, 97, 98, 100, 102, 105, 107, 108]\n",
      "WARNING: aclu 25 is not present in the `pf1d_long` ratemaps. Which contain aclus: [2, 3, 5, 7, 9, 10, 11, 14, 15, 16, 17, 19, 21, 28, 31, 32, 33, 35, 36, 37, 41, 45, 48, 49, 50, 51, 53, 54, 55, 57, 59, 60, 61, 62, 63, 64, 68, 69, 70, 71, 73, 74, 75, 76, 78, 81, 83, 84, 85, 86, 88, 90, 92, 93, 97, 98, 100, 102, 105, 107, 108]\n",
      "WARNING: aclu 24 is not present in the `pf1d_short` ratemaps. Which contain aclus: [3, 4, 5, 7, 9, 10, 11, 13, 14, 15, 16, 19, 21, 25, 31, 32, 33, 34, 35, 36, 37, 41, 45, 48, 49, 50, 51, 52, 53, 55, 56, 57, 58, 59, 60, 61, 62, 63, 64, 66, 67, 69, 70, 71, 73, 75, 76, 78, 81, 83, 84, 85, 86, 88, 89, 90, 92, 93, 98, 100, 102, 107, 108]\n",
      "WARNING: aclu 24 is not present in the `pf1d_long` ratemaps. Which contain aclus: [2, 3, 5, 7, 9, 10, 11, 14, 15, 16, 17, 19, 21, 28, 31, 32, 33, 35, 36, 37, 41, 45, 48, 49, 50, 51, 53, 54, 55, 57, 59, 60, 61, 62, 63, 64, 68, 69, 70, 71, 73, 74, 75, 76, 78, 81, 83, 84, 85, 86, 88, 90, 92, 93, 97, 98, 100, 102, 105, 107, 108]\n",
      "WARNING: aclu 82 is not present in the `pf1d_short` ratemaps. Which contain aclus: [3, 4, 5, 7, 9, 10, 11, 13, 14, 15, 16, 19, 21, 25, 31, 32, 33, 34, 35, 36, 37, 41, 45, 48, 49, 50, 51, 52, 53, 55, 56, 57, 58, 59, 60, 61, 62, 63, 64, 66, 67, 69, 70, 71, 73, 75, 76, 78, 81, 83, 84, 85, 86, 88, 89, 90, 92, 93, 98, 100, 102, 107, 108]\n",
      "WARNING: aclu 82 is not present in the `pf1d_long` ratemaps. Which contain aclus: [2, 3, 5, 7, 9, 10, 11, 14, 15, 16, 17, 19, 21, 28, 31, 32, 33, 35, 36, 37, 41, 45, 48, 49, 50, 51, 53, 54, 55, 57, 59, 60, 61, 62, 63, 64, 68, 69, 70, 71, 73, 74, 75, 76, 78, 81, 83, 84, 85, 86, 88, 90, 92, 93, 97, 98, 100, 102, 105, 107, 108]\n"
     ]
    },
    {
     "name": "stderr",
     "output_type": "stream",
     "text": [
      "/home/halechr/repos/pyPhoPlaceCellAnalysis/src/pyphoplacecellanalysis/General/Batch/NonInteractiveProcessing.py:909: UserWarning: constrained_layout not applied because axes sizes collapsed to zero.  Try making figure larger or axes decorations smaller.\n",
      "  a_fig.savefig(fig_png_out_path)\n"
     ]
    },
    {
     "name": "stdout",
     "output_type": "stream",
     "text": [
      "\t saved /home/halechr/repos/Spike3D/EXTERNAL/Screenshots/ProgrammaticDisplayFunctionTesting/2024-09-26/kdiba/gor01/one/2006-6-08_14-26-15/BatchPhoJonathanReplayFRC_shared_2of5_(26,15,14,31,32,55,3,33,50,76,25,24,82,10,90,78,64,75,85,73).png\n",
      "include_includelist: ['maze1_odd', 'maze2_odd', 'maze_odd', 'maze1_even', 'maze2_even', 'maze_even', 'maze1_any', 'maze2_any', 'maze_any']\n",
      "long_epoch_name: maze1_odd, short_epoch_name: maze2_odd, global_epoch_name: maze_any\n"
     ]
    },
    {
     "name": "stderr",
     "output_type": "stream",
     "text": [
      "/home/halechr/repos/pyPhoPlaceCellAnalysis/src/pyphoplacecellanalysis/General/Pipeline/Stages/DisplayFunctions/MultiContextComparingDisplayFunctions/LongShortTrackComparingDisplayFunctions.py:1290: SettingWithCopyWarning: \n",
      "A value is trying to be set on a copy of a slice from a DataFrame.\n",
      "Try using .loc[row_indexer,col_indexer] = value instead\n",
      "\n",
      "See the caveats in the documentation: https://pandas.pydata.org/pandas-docs/stable/user_guide/indexing.html#returning-a-view-versus-a-copy\n",
      "  cell_df.loc[:, 'x'] = spk_x\n",
      "/home/halechr/repos/pyPhoPlaceCellAnalysis/src/pyphoplacecellanalysis/General/Mixins/CrossComputationComparisonHelpers.py:245: RuntimeWarning: invalid value encountered in divide\n",
      "  _long_to_short_balances = (rdf.num_short_only_neuron_participating.values - rdf.num_long_only_neuron_participating.values) / (rdf.num_short_only_neuron_participating.values + rdf.num_long_only_neuron_participating.values) ## Working but (0, 1, 1) would clip to 0.5 despite (1, 13, 0) going all the way down to -1.0\n",
      "/home/halechr/repos/pyPhoPlaceCellAnalysis/src/pyphoplacecellanalysis/General/Mixins/CrossComputationComparisonHelpers.py:275: RuntimeWarning: invalid value encountered in divide\n",
      "  _long_to_short_balances = (rdf.num_short_only_neuron_participating.values - rdf.num_long_only_neuron_participating.values) / (rdf.num_short_only_neuron_participating.values + rdf.num_long_only_neuron_participating.values) ## Working but (0, 1, 1) would clip to 0.5 despite (1, 13, 0) going all the way down to -1.0\n"
     ]
    },
    {
     "name": "stdout",
     "output_type": "stream",
     "text": [
      "DEPRICATION WARNING: workaround to allow subscripting ComputationResult objects. Will be depricated. key: computed_data\n",
      "DEPRICATION WARNING: workaround to allow subscripting ComputationResult objects. Will be depricated. key: computed_data\n",
      "DEPRICATION WARNING: workaround to allow subscripting ComputationResult objects. Will be depricated. key: computed_data\n",
      "WARNING: aclu 89 is not present in the `pf1d_long` ratemaps. Which contain aclus: [2, 3, 5, 7, 9, 10, 11, 14, 15, 16, 17, 19, 21, 28, 31, 32, 33, 35, 36, 37, 41, 45, 48, 49, 50, 51, 53, 54, 55, 57, 59, 60, 61, 62, 63, 64, 68, 69, 70, 71, 73, 74, 75, 76, 78, 81, 83, 84, 85, 86, 88, 90, 92, 93, 97, 98, 100, 102, 105, 107, 108]\n",
      "WARNING: aclu 56 is not present in the `pf1d_long` ratemaps. Which contain aclus: [2, 3, 5, 7, 9, 10, 11, 14, 15, 16, 17, 19, 21, 28, 31, 32, 33, 35, 36, 37, 41, 45, 48, 49, 50, 51, 53, 54, 55, 57, 59, 60, 61, 62, 63, 64, 68, 69, 70, 71, 73, 74, 75, 76, 78, 81, 83, 84, 85, 86, 88, 90, 92, 93, 97, 98, 100, 102, 105, 107, 108]\n",
      "WARNING: aclu 67 is not present in the `pf1d_long` ratemaps. Which contain aclus: [2, 3, 5, 7, 9, 10, 11, 14, 15, 16, 17, 19, 21, 28, 31, 32, 33, 35, 36, 37, 41, 45, 48, 49, 50, 51, 53, 54, 55, 57, 59, 60, 61, 62, 63, 64, 68, 69, 70, 71, 73, 74, 75, 76, 78, 81, 83, 84, 85, 86, 88, 90, 92, 93, 97, 98, 100, 102, 105, 107, 108]\n",
      "WARNING: aclu 66 is not present in the `pf1d_long` ratemaps. Which contain aclus: [2, 3, 5, 7, 9, 10, 11, 14, 15, 16, 17, 19, 21, 28, 31, 32, 33, 35, 36, 37, 41, 45, 48, 49, 50, 51, 53, 54, 55, 57, 59, 60, 61, 62, 63, 64, 68, 69, 70, 71, 73, 74, 75, 76, 78, 81, 83, 84, 85, 86, 88, 90, 92, 93, 97, 98, 100, 102, 105, 107, 108]\n"
     ]
    },
    {
     "name": "stderr",
     "output_type": "stream",
     "text": [
      "/home/halechr/repos/pyPhoPlaceCellAnalysis/src/pyphoplacecellanalysis/General/Batch/NonInteractiveProcessing.py:909: UserWarning: constrained_layout not applied because axes sizes collapsed to zero.  Try making figure larger or axes decorations smaller.\n",
      "  a_fig.savefig(fig_png_out_path)\n"
     ]
    },
    {
     "name": "stdout",
     "output_type": "stream",
     "text": [
      "\t saved /home/halechr/repos/Spike3D/EXTERNAL/Screenshots/ProgrammaticDisplayFunctionTesting/2024-09-26/kdiba/gor01/one/2006-6-08_14-26-15/BatchPhoJonathanReplayFRC_shared_3of5_(41,86,107,100,53,62,88,35,89,98,56,59,60,108,57,48,63,67,66,19).png\n",
      "include_includelist: ['maze1_odd', 'maze2_odd', 'maze_odd', 'maze1_even', 'maze2_even', 'maze_even', 'maze1_any', 'maze2_any', 'maze_any']\n",
      "long_epoch_name: maze1_odd, short_epoch_name: maze2_odd, global_epoch_name: maze_any\n"
     ]
    },
    {
     "name": "stderr",
     "output_type": "stream",
     "text": [
      "/home/halechr/repos/pyPhoPlaceCellAnalysis/src/pyphoplacecellanalysis/General/Pipeline/Stages/DisplayFunctions/MultiContextComparingDisplayFunctions/LongShortTrackComparingDisplayFunctions.py:1290: SettingWithCopyWarning: \n",
      "A value is trying to be set on a copy of a slice from a DataFrame.\n",
      "Try using .loc[row_indexer,col_indexer] = value instead\n",
      "\n",
      "See the caveats in the documentation: https://pandas.pydata.org/pandas-docs/stable/user_guide/indexing.html#returning-a-view-versus-a-copy\n",
      "  cell_df.loc[:, 'x'] = spk_x\n",
      "/home/halechr/repos/pyPhoPlaceCellAnalysis/src/pyphoplacecellanalysis/General/Mixins/CrossComputationComparisonHelpers.py:245: RuntimeWarning: invalid value encountered in divide\n",
      "  _long_to_short_balances = (rdf.num_short_only_neuron_participating.values - rdf.num_long_only_neuron_participating.values) / (rdf.num_short_only_neuron_participating.values + rdf.num_long_only_neuron_participating.values) ## Working but (0, 1, 1) would clip to 0.5 despite (1, 13, 0) going all the way down to -1.0\n",
      "/home/halechr/repos/pyPhoPlaceCellAnalysis/src/pyphoplacecellanalysis/General/Mixins/CrossComputationComparisonHelpers.py:275: RuntimeWarning: invalid value encountered in divide\n",
      "  _long_to_short_balances = (rdf.num_short_only_neuron_participating.values - rdf.num_long_only_neuron_participating.values) / (rdf.num_short_only_neuron_participating.values + rdf.num_long_only_neuron_participating.values) ## Working but (0, 1, 1) would clip to 0.5 despite (1, 13, 0) going all the way down to -1.0\n"
     ]
    },
    {
     "name": "stdout",
     "output_type": "stream",
     "text": [
      "DEPRICATION WARNING: workaround to allow subscripting ComputationResult objects. Will be depricated. key: computed_data\n",
      "DEPRICATION WARNING: workaround to allow subscripting ComputationResult objects. Will be depricated. key: computed_data\n",
      "DEPRICATION WARNING: workaround to allow subscripting ComputationResult objects. Will be depricated. key: computed_data\n",
      "WARNING: aclu 2 is not present in the `pf1d_short` ratemaps. Which contain aclus: [3, 4, 5, 7, 9, 10, 11, 13, 14, 15, 16, 19, 21, 25, 31, 32, 33, 34, 35, 36, 37, 41, 45, 48, 49, 50, 51, 52, 53, 55, 56, 57, 58, 59, 60, 61, 62, 63, 64, 66, 67, 69, 70, 71, 73, 75, 76, 78, 81, 83, 84, 85, 86, 88, 89, 90, 92, 93, 98, 100, 102, 107, 108]\n",
      "WARNING: aclu 6 is not present in the `pf1d_short` ratemaps. Which contain aclus: [3, 4, 5, 7, 9, 10, 11, 13, 14, 15, 16, 19, 21, 25, 31, 32, 33, 34, 35, 36, 37, 41, 45, 48, 49, 50, 51, 52, 53, 55, 56, 57, 58, 59, 60, 61, 62, 63, 64, 66, 67, 69, 70, 71, 73, 75, 76, 78, 81, 83, 84, 85, 86, 88, 89, 90, 92, 93, 98, 100, 102, 107, 108]\n",
      "WARNING: aclu 6 is not present in the `pf1d_long` ratemaps. Which contain aclus: [2, 3, 5, 7, 9, 10, 11, 14, 15, 16, 17, 19, 21, 28, 31, 32, 33, 35, 36, 37, 41, 45, 48, 49, 50, 51, 53, 54, 55, 57, 59, 60, 61, 62, 63, 64, 68, 69, 70, 71, 73, 74, 75, 76, 78, 81, 83, 84, 85, 86, 88, 90, 92, 93, 97, 98, 100, 102, 105, 107, 108]\n",
      "WARNING: aclu 12 is not present in the `pf1d_short` ratemaps. Which contain aclus: [3, 4, 5, 7, 9, 10, 11, 13, 14, 15, 16, 19, 21, 25, 31, 32, 33, 34, 35, 36, 37, 41, 45, 48, 49, 50, 51, 52, 53, 55, 56, 57, 58, 59, 60, 61, 62, 63, 64, 66, 67, 69, 70, 71, 73, 75, 76, 78, 81, 83, 84, 85, 86, 88, 89, 90, 92, 93, 98, 100, 102, 107, 108]\n",
      "WARNING: aclu 12 is not present in the `pf1d_long` ratemaps. Which contain aclus: [2, 3, 5, 7, 9, 10, 11, 14, 15, 16, 17, 19, 21, 28, 31, 32, 33, 35, 36, 37, 41, 45, 48, 49, 50, 51, 53, 54, 55, 57, 59, 60, 61, 62, 63, 64, 68, 69, 70, 71, 73, 74, 75, 76, 78, 81, 83, 84, 85, 86, 88, 90, 92, 93, 97, 98, 100, 102, 105, 107, 108]\n",
      "WARNING: aclu 18 is not present in the `pf1d_short` ratemaps. Which contain aclus: [3, 4, 5, 7, 9, 10, 11, 13, 14, 15, 16, 19, 21, 25, 31, 32, 33, 34, 35, 36, 37, 41, 45, 48, 49, 50, 51, 52, 53, 55, 56, 57, 58, 59, 60, 61, 62, 63, 64, 66, 67, 69, 70, 71, 73, 75, 76, 78, 81, 83, 84, 85, 86, 88, 89, 90, 92, 93, 98, 100, 102, 107, 108]\n",
      "WARNING: aclu 18 is not present in the `pf1d_long` ratemaps. Which contain aclus: [2, 3, 5, 7, 9, 10, 11, 14, 15, 16, 17, 19, 21, 28, 31, 32, 33, 35, 36, 37, 41, 45, 48, 49, 50, 51, 53, 54, 55, 57, 59, 60, 61, 62, 63, 64, 68, 69, 70, 71, 73, 74, 75, 76, 78, 81, 83, 84, 85, 86, 88, 90, 92, 93, 97, 98, 100, 102, 105, 107, 108]\n",
      "WARNING: aclu 20 is not present in the `pf1d_short` ratemaps. Which contain aclus: [3, 4, 5, 7, 9, 10, 11, 13, 14, 15, 16, 19, 21, 25, 31, 32, 33, 34, 35, 36, 37, 41, 45, 48, 49, 50, 51, 52, 53, 55, 56, 57, 58, 59, 60, 61, 62, 63, 64, 66, 67, 69, 70, 71, 73, 75, 76, 78, 81, 83, 84, 85, 86, 88, 89, 90, 92, 93, 98, 100, 102, 107, 108]\n",
      "WARNING: aclu 20 is not present in the `pf1d_long` ratemaps. Which contain aclus: [2, 3, 5, 7, 9, 10, 11, 14, 15, 16, 17, 19, 21, 28, 31, 32, 33, 35, 36, 37, 41, 45, 48, 49, 50, 51, 53, 54, 55, 57, 59, 60, 61, 62, 63, 64, 68, 69, 70, 71, 73, 74, 75, 76, 78, 81, 83, 84, 85, 86, 88, 90, 92, 93, 97, 98, 100, 102, 105, 107, 108]\n",
      "WARNING: aclu 22 is not present in the `pf1d_short` ratemaps. Which contain aclus: [3, 4, 5, 7, 9, 10, 11, 13, 14, 15, 16, 19, 21, 25, 31, 32, 33, 34, 35, 36, 37, 41, 45, 48, 49, 50, 51, 52, 53, 55, 56, 57, 58, 59, 60, 61, 62, 63, 64, 66, 67, 69, 70, 71, 73, 75, 76, 78, 81, 83, 84, 85, 86, 88, 89, 90, 92, 93, 98, 100, 102, 107, 108]\n",
      "WARNING: aclu 22 is not present in the `pf1d_long` ratemaps. Which contain aclus: [2, 3, 5, 7, 9, 10, 11, 14, 15, 16, 17, 19, 21, 28, 31, 32, 33, 35, 36, 37, 41, 45, 48, 49, 50, 51, 53, 54, 55, 57, 59, 60, 61, 62, 63, 64, 68, 69, 70, 71, 73, 74, 75, 76, 78, 81, 83, 84, 85, 86, 88, 90, 92, 93, 97, 98, 100, 102, 105, 107, 108]\n",
      "WARNING: aclu 27 is not present in the `pf1d_short` ratemaps. Which contain aclus: [3, 4, 5, 7, 9, 10, 11, 13, 14, 15, 16, 19, 21, 25, 31, 32, 33, 34, 35, 36, 37, 41, 45, 48, 49, 50, 51, 52, 53, 55, 56, 57, 58, 59, 60, 61, 62, 63, 64, 66, 67, 69, 70, 71, 73, 75, 76, 78, 81, 83, 84, 85, 86, 88, 89, 90, 92, 93, 98, 100, 102, 107, 108]\n",
      "WARNING: aclu 27 is not present in the `pf1d_long` ratemaps. Which contain aclus: [2, 3, 5, 7, 9, 10, 11, 14, 15, 16, 17, 19, 21, 28, 31, 32, 33, 35, 36, 37, 41, 45, 48, 49, 50, 51, 53, 54, 55, 57, 59, 60, 61, 62, 63, 64, 68, 69, 70, 71, 73, 74, 75, 76, 78, 81, 83, 84, 85, 86, 88, 90, 92, 93, 97, 98, 100, 102, 105, 107, 108]\n",
      "WARNING: aclu 29 is not present in the `pf1d_short` ratemaps. Which contain aclus: [3, 4, 5, 7, 9, 10, 11, 13, 14, 15, 16, 19, 21, 25, 31, 32, 33, 34, 35, 36, 37, 41, 45, 48, 49, 50, 51, 52, 53, 55, 56, 57, 58, 59, 60, 61, 62, 63, 64, 66, 67, 69, 70, 71, 73, 75, 76, 78, 81, 83, 84, 85, 86, 88, 89, 90, 92, 93, 98, 100, 102, 107, 108]\n",
      "WARNING: aclu 29 is not present in the `pf1d_long` ratemaps. Which contain aclus: [2, 3, 5, 7, 9, 10, 11, 14, 15, 16, 17, 19, 21, 28, 31, 32, 33, 35, 36, 37, 41, 45, 48, 49, 50, 51, 53, 54, 55, 57, 59, 60, 61, 62, 63, 64, 68, 69, 70, 71, 73, 74, 75, 76, 78, 81, 83, 84, 85, 86, 88, 90, 92, 93, 97, 98, 100, 102, 105, 107, 108]\n",
      "WARNING: aclu 30 is not present in the `pf1d_short` ratemaps. Which contain aclus: [3, 4, 5, 7, 9, 10, 11, 13, 14, 15, 16, 19, 21, 25, 31, 32, 33, 34, 35, 36, 37, 41, 45, 48, 49, 50, 51, 52, 53, 55, 56, 57, 58, 59, 60, 61, 62, 63, 64, 66, 67, 69, 70, 71, 73, 75, 76, 78, 81, 83, 84, 85, 86, 88, 89, 90, 92, 93, 98, 100, 102, 107, 108]\n",
      "WARNING: aclu 30 is not present in the `pf1d_long` ratemaps. Which contain aclus: [2, 3, 5, 7, 9, 10, 11, 14, 15, 16, 17, 19, 21, 28, 31, 32, 33, 35, 36, 37, 41, 45, 48, 49, 50, 51, 53, 54, 55, 57, 59, 60, 61, 62, 63, 64, 68, 69, 70, 71, 73, 74, 75, 76, 78, 81, 83, 84, 85, 86, 88, 90, 92, 93, 97, 98, 100, 102, 105, 107, 108]\n",
      "WARNING: aclu 38 is not present in the `pf1d_short` ratemaps. Which contain aclus: [3, 4, 5, 7, 9, 10, 11, 13, 14, 15, 16, 19, 21, 25, 31, 32, 33, 34, 35, 36, 37, 41, 45, 48, 49, 50, 51, 52, 53, 55, 56, 57, 58, 59, 60, 61, 62, 63, 64, 66, 67, 69, 70, 71, 73, 75, 76, 78, 81, 83, 84, 85, 86, 88, 89, 90, 92, 93, 98, 100, 102, 107, 108]\n",
      "WARNING: aclu 38 is not present in the `pf1d_long` ratemaps. Which contain aclus: [2, 3, 5, 7, 9, 10, 11, 14, 15, 16, 17, 19, 21, 28, 31, 32, 33, 35, 36, 37, 41, 45, 48, 49, 50, 51, 53, 54, 55, 57, 59, 60, 61, 62, 63, 64, 68, 69, 70, 71, 73, 74, 75, 76, 78, 81, 83, 84, 85, 86, 88, 90, 92, 93, 97, 98, 100, 102, 105, 107, 108]\n",
      "WARNING: aclu 39 is not present in the `pf1d_short` ratemaps. Which contain aclus: [3, 4, 5, 7, 9, 10, 11, 13, 14, 15, 16, 19, 21, 25, 31, 32, 33, 34, 35, 36, 37, 41, 45, 48, 49, 50, 51, 52, 53, 55, 56, 57, 58, 59, 60, 61, 62, 63, 64, 66, 67, 69, 70, 71, 73, 75, 76, 78, 81, 83, 84, 85, 86, 88, 89, 90, 92, 93, 98, 100, 102, 107, 108]\n",
      "WARNING: aclu 39 is not present in the `pf1d_long` ratemaps. Which contain aclus: [2, 3, 5, 7, 9, 10, 11, 14, 15, 16, 17, 19, 21, 28, 31, 32, 33, 35, 36, 37, 41, 45, 48, 49, 50, 51, 53, 54, 55, 57, 59, 60, 61, 62, 63, 64, 68, 69, 70, 71, 73, 74, 75, 76, 78, 81, 83, 84, 85, 86, 88, 90, 92, 93, 97, 98, 100, 102, 105, 107, 108]\n",
      "WARNING: aclu 40 is not present in the `pf1d_short` ratemaps. Which contain aclus: [3, 4, 5, 7, 9, 10, 11, 13, 14, 15, 16, 19, 21, 25, 31, 32, 33, 34, 35, 36, 37, 41, 45, 48, 49, 50, 51, 52, 53, 55, 56, 57, 58, 59, 60, 61, 62, 63, 64, 66, 67, 69, 70, 71, 73, 75, 76, 78, 81, 83, 84, 85, 86, 88, 89, 90, 92, 93, 98, 100, 102, 107, 108]\n",
      "WARNING: aclu 40 is not present in the `pf1d_long` ratemaps. Which contain aclus: [2, 3, 5, 7, 9, 10, 11, 14, 15, 16, 17, 19, 21, 28, 31, 32, 33, 35, 36, 37, 41, 45, 48, 49, 50, 51, 53, 54, 55, 57, 59, 60, 61, 62, 63, 64, 68, 69, 70, 71, 73, 74, 75, 76, 78, 81, 83, 84, 85, 86, 88, 90, 92, 93, 97, 98, 100, 102, 105, 107, 108]\n",
      "WARNING: aclu 42 is not present in the `pf1d_short` ratemaps. Which contain aclus: [3, 4, 5, 7, 9, 10, 11, 13, 14, 15, 16, 19, 21, 25, 31, 32, 33, 34, 35, 36, 37, 41, 45, 48, 49, 50, 51, 52, 53, 55, 56, 57, 58, 59, 60, 61, 62, 63, 64, 66, 67, 69, 70, 71, 73, 75, 76, 78, 81, 83, 84, 85, 86, 88, 89, 90, 92, 93, 98, 100, 102, 107, 108]\n",
      "WARNING: aclu 42 is not present in the `pf1d_long` ratemaps. Which contain aclus: [2, 3, 5, 7, 9, 10, 11, 14, 15, 16, 17, 19, 21, 28, 31, 32, 33, 35, 36, 37, 41, 45, 48, 49, 50, 51, 53, 54, 55, 57, 59, 60, 61, 62, 63, 64, 68, 69, 70, 71, 73, 74, 75, 76, 78, 81, 83, 84, 85, 86, 88, 90, 92, 93, 97, 98, 100, 102, 105, 107, 108]\n",
      "WARNING: aclu 43 is not present in the `pf1d_short` ratemaps. Which contain aclus: [3, 4, 5, 7, 9, 10, 11, 13, 14, 15, 16, 19, 21, 25, 31, 32, 33, 34, 35, 36, 37, 41, 45, 48, 49, 50, 51, 52, 53, 55, 56, 57, 58, 59, 60, 61, 62, 63, 64, 66, 67, 69, 70, 71, 73, 75, 76, 78, 81, 83, 84, 85, 86, 88, 89, 90, 92, 93, 98, 100, 102, 107, 108]\n",
      "WARNING: aclu 43 is not present in the `pf1d_long` ratemaps. Which contain aclus: [2, 3, 5, 7, 9, 10, 11, 14, 15, 16, 17, 19, 21, 28, 31, 32, 33, 35, 36, 37, 41, 45, 48, 49, 50, 51, 53, 54, 55, 57, 59, 60, 61, 62, 63, 64, 68, 69, 70, 71, 73, 74, 75, 76, 78, 81, 83, 84, 85, 86, 88, 90, 92, 93, 97, 98, 100, 102, 105, 107, 108]\n",
      "WARNING: aclu 44 is not present in the `pf1d_short` ratemaps. Which contain aclus: [3, 4, 5, 7, 9, 10, 11, 13, 14, 15, 16, 19, 21, 25, 31, 32, 33, 34, 35, 36, 37, 41, 45, 48, 49, 50, 51, 52, 53, 55, 56, 57, 58, 59, 60, 61, 62, 63, 64, 66, 67, 69, 70, 71, 73, 75, 76, 78, 81, 83, 84, 85, 86, 88, 89, 90, 92, 93, 98, 100, 102, 107, 108]\n",
      "WARNING: aclu 44 is not present in the `pf1d_long` ratemaps. Which contain aclus: [2, 3, 5, 7, 9, 10, 11, 14, 15, 16, 17, 19, 21, 28, 31, 32, 33, 35, 36, 37, 41, 45, 48, 49, 50, 51, 53, 54, 55, 57, 59, 60, 61, 62, 63, 64, 68, 69, 70, 71, 73, 74, 75, 76, 78, 81, 83, 84, 85, 86, 88, 90, 92, 93, 97, 98, 100, 102, 105, 107, 108]\n",
      "WARNING: aclu 46 is not present in the `pf1d_short` ratemaps. Which contain aclus: [3, 4, 5, 7, 9, 10, 11, 13, 14, 15, 16, 19, 21, 25, 31, 32, 33, 34, 35, 36, 37, 41, 45, 48, 49, 50, 51, 52, 53, 55, 56, 57, 58, 59, 60, 61, 62, 63, 64, 66, 67, 69, 70, 71, 73, 75, 76, 78, 81, 83, 84, 85, 86, 88, 89, 90, 92, 93, 98, 100, 102, 107, 108]\n",
      "WARNING: aclu 46 is not present in the `pf1d_long` ratemaps. Which contain aclus: [2, 3, 5, 7, 9, 10, 11, 14, 15, 16, 17, 19, 21, 28, 31, 32, 33, 35, 36, 37, 41, 45, 48, 49, 50, 51, 53, 54, 55, 57, 59, 60, 61, 62, 63, 64, 68, 69, 70, 71, 73, 74, 75, 76, 78, 81, 83, 84, 85, 86, 88, 90, 92, 93, 97, 98, 100, 102, 105, 107, 108]\n",
      "WARNING: aclu 47 is not present in the `pf1d_short` ratemaps. Which contain aclus: [3, 4, 5, 7, 9, 10, 11, 13, 14, 15, 16, 19, 21, 25, 31, 32, 33, 34, 35, 36, 37, 41, 45, 48, 49, 50, 51, 52, 53, 55, 56, 57, 58, 59, 60, 61, 62, 63, 64, 66, 67, 69, 70, 71, 73, 75, 76, 78, 81, 83, 84, 85, 86, 88, 89, 90, 92, 93, 98, 100, 102, 107, 108]\n",
      "WARNING: aclu 47 is not present in the `pf1d_long` ratemaps. Which contain aclus: [2, 3, 5, 7, 9, 10, 11, 14, 15, 16, 17, 19, 21, 28, 31, 32, 33, 35, 36, 37, 41, 45, 48, 49, 50, 51, 53, 54, 55, 57, 59, 60, 61, 62, 63, 64, 68, 69, 70, 71, 73, 74, 75, 76, 78, 81, 83, 84, 85, 86, 88, 90, 92, 93, 97, 98, 100, 102, 105, 107, 108]\n"
     ]
    },
    {
     "name": "stderr",
     "output_type": "stream",
     "text": [
      "/home/halechr/repos/pyPhoPlaceCellAnalysis/src/pyphoplacecellanalysis/General/Batch/NonInteractiveProcessing.py:909: UserWarning: constrained_layout not applied because axes sizes collapsed to zero.  Try making figure larger or axes decorations smaller.\n",
      "  a_fig.savefig(fig_png_out_path)\n"
     ]
    },
    {
     "name": "stdout",
     "output_type": "stream",
     "text": [
      "\t saved /home/halechr/repos/Spike3D/EXTERNAL/Screenshots/ProgrammaticDisplayFunctionTesting/2024-09-26/kdiba/gor01/one/2006-6-08_14-26-15/BatchPhoJonathanReplayFRC_shared_4of5_(9,36,2,6,12,18,20,21,22,27,29,30,38,39,40,42,43,44,46,47).png\n",
      "include_includelist: ['maze1_odd', 'maze2_odd', 'maze_odd', 'maze1_even', 'maze2_even', 'maze_even', 'maze1_any', 'maze2_any', 'maze_any']\n",
      "long_epoch_name: maze1_odd, short_epoch_name: maze2_odd, global_epoch_name: maze_any\n"
     ]
    },
    {
     "name": "stderr",
     "output_type": "stream",
     "text": [
      "/home/halechr/repos/pyPhoPlaceCellAnalysis/src/pyphoplacecellanalysis/General/Pipeline/Stages/DisplayFunctions/MultiContextComparingDisplayFunctions/LongShortTrackComparingDisplayFunctions.py:1290: SettingWithCopyWarning: \n",
      "A value is trying to be set on a copy of a slice from a DataFrame.\n",
      "Try using .loc[row_indexer,col_indexer] = value instead\n",
      "\n",
      "See the caveats in the documentation: https://pandas.pydata.org/pandas-docs/stable/user_guide/indexing.html#returning-a-view-versus-a-copy\n",
      "  cell_df.loc[:, 'x'] = spk_x\n",
      "/home/halechr/repos/pyPhoPlaceCellAnalysis/src/pyphoplacecellanalysis/General/Mixins/CrossComputationComparisonHelpers.py:245: RuntimeWarning: invalid value encountered in divide\n",
      "  _long_to_short_balances = (rdf.num_short_only_neuron_participating.values - rdf.num_long_only_neuron_participating.values) / (rdf.num_short_only_neuron_participating.values + rdf.num_long_only_neuron_participating.values) ## Working but (0, 1, 1) would clip to 0.5 despite (1, 13, 0) going all the way down to -1.0\n",
      "/home/halechr/repos/pyPhoPlaceCellAnalysis/src/pyphoplacecellanalysis/General/Mixins/CrossComputationComparisonHelpers.py:275: RuntimeWarning: invalid value encountered in divide\n",
      "  _long_to_short_balances = (rdf.num_short_only_neuron_participating.values - rdf.num_long_only_neuron_participating.values) / (rdf.num_short_only_neuron_participating.values + rdf.num_long_only_neuron_participating.values) ## Working but (0, 1, 1) would clip to 0.5 despite (1, 13, 0) going all the way down to -1.0\n"
     ]
    },
    {
     "name": "stdout",
     "output_type": "stream",
     "text": [
      "DEPRICATION WARNING: workaround to allow subscripting ComputationResult objects. Will be depricated. key: computed_data\n",
      "DEPRICATION WARNING: workaround to allow subscripting ComputationResult objects. Will be depricated. key: computed_data\n",
      "DEPRICATION WARNING: workaround to allow subscripting ComputationResult objects. Will be depricated. key: computed_data\n",
      "WARNING: aclu 65 is not present in the `pf1d_short` ratemaps. Which contain aclus: [3, 4, 5, 7, 9, 10, 11, 13, 14, 15, 16, 19, 21, 25, 31, 32, 33, 34, 35, 36, 37, 41, 45, 48, 49, 50, 51, 52, 53, 55, 56, 57, 58, 59, 60, 61, 62, 63, 64, 66, 67, 69, 70, 71, 73, 75, 76, 78, 81, 83, 84, 85, 86, 88, 89, 90, 92, 93, 98, 100, 102, 107, 108]\n",
      "WARNING: aclu 65 is not present in the `pf1d_long` ratemaps. Which contain aclus: [2, 3, 5, 7, 9, 10, 11, 14, 15, 16, 17, 19, 21, 28, 31, 32, 33, 35, 36, 37, 41, 45, 48, 49, 50, 51, 53, 54, 55, 57, 59, 60, 61, 62, 63, 64, 68, 69, 70, 71, 73, 74, 75, 76, 78, 81, 83, 84, 85, 86, 88, 90, 92, 93, 97, 98, 100, 102, 105, 107, 108]\n",
      "WARNING: aclu 72 is not present in the `pf1d_short` ratemaps. Which contain aclus: [3, 4, 5, 7, 9, 10, 11, 13, 14, 15, 16, 19, 21, 25, 31, 32, 33, 34, 35, 36, 37, 41, 45, 48, 49, 50, 51, 52, 53, 55, 56, 57, 58, 59, 60, 61, 62, 63, 64, 66, 67, 69, 70, 71, 73, 75, 76, 78, 81, 83, 84, 85, 86, 88, 89, 90, 92, 93, 98, 100, 102, 107, 108]\n",
      "WARNING: aclu 72 is not present in the `pf1d_long` ratemaps. Which contain aclus: [2, 3, 5, 7, 9, 10, 11, 14, 15, 16, 17, 19, 21, 28, 31, 32, 33, 35, 36, 37, 41, 45, 48, 49, 50, 51, 53, 54, 55, 57, 59, 60, 61, 62, 63, 64, 68, 69, 70, 71, 73, 74, 75, 76, 78, 81, 83, 84, 85, 86, 88, 90, 92, 93, 97, 98, 100, 102, 105, 107, 108]\n",
      "WARNING: aclu 77 is not present in the `pf1d_short` ratemaps. Which contain aclus: [3, 4, 5, 7, 9, 10, 11, 13, 14, 15, 16, 19, 21, 25, 31, 32, 33, 34, 35, 36, 37, 41, 45, 48, 49, 50, 51, 52, 53, 55, 56, 57, 58, 59, 60, 61, 62, 63, 64, 66, 67, 69, 70, 71, 73, 75, 76, 78, 81, 83, 84, 85, 86, 88, 89, 90, 92, 93, 98, 100, 102, 107, 108]\n",
      "WARNING: aclu 77 is not present in the `pf1d_long` ratemaps. Which contain aclus: [2, 3, 5, 7, 9, 10, 11, 14, 15, 16, 17, 19, 21, 28, 31, 32, 33, 35, 36, 37, 41, 45, 48, 49, 50, 51, 53, 54, 55, 57, 59, 60, 61, 62, 63, 64, 68, 69, 70, 71, 73, 74, 75, 76, 78, 81, 83, 84, 85, 86, 88, 90, 92, 93, 97, 98, 100, 102, 105, 107, 108]\n",
      "WARNING: aclu 79 is not present in the `pf1d_short` ratemaps. Which contain aclus: [3, 4, 5, 7, 9, 10, 11, 13, 14, 15, 16, 19, 21, 25, 31, 32, 33, 34, 35, 36, 37, 41, 45, 48, 49, 50, 51, 52, 53, 55, 56, 57, 58, 59, 60, 61, 62, 63, 64, 66, 67, 69, 70, 71, 73, 75, 76, 78, 81, 83, 84, 85, 86, 88, 89, 90, 92, 93, 98, 100, 102, 107, 108]\n",
      "WARNING: aclu 79 is not present in the `pf1d_long` ratemaps. Which contain aclus: [2, 3, 5, 7, 9, 10, 11, 14, 15, 16, 17, 19, 21, 28, 31, 32, 33, 35, 36, 37, 41, 45, 48, 49, 50, 51, 53, 54, 55, 57, 59, 60, 61, 62, 63, 64, 68, 69, 70, 71, 73, 74, 75, 76, 78, 81, 83, 84, 85, 86, 88, 90, 92, 93, 97, 98, 100, 102, 105, 107, 108]\n",
      "WARNING: aclu 80 is not present in the `pf1d_short` ratemaps. Which contain aclus: [3, 4, 5, 7, 9, 10, 11, 13, 14, 15, 16, 19, 21, 25, 31, 32, 33, 34, 35, 36, 37, 41, 45, 48, 49, 50, 51, 52, 53, 55, 56, 57, 58, 59, 60, 61, 62, 63, 64, 66, 67, 69, 70, 71, 73, 75, 76, 78, 81, 83, 84, 85, 86, 88, 89, 90, 92, 93, 98, 100, 102, 107, 108]\n",
      "WARNING: aclu 80 is not present in the `pf1d_long` ratemaps. Which contain aclus: [2, 3, 5, 7, 9, 10, 11, 14, 15, 16, 17, 19, 21, 28, 31, 32, 33, 35, 36, 37, 41, 45, 48, 49, 50, 51, 53, 54, 55, 57, 59, 60, 61, 62, 63, 64, 68, 69, 70, 71, 73, 74, 75, 76, 78, 81, 83, 84, 85, 86, 88, 90, 92, 93, 97, 98, 100, 102, 105, 107, 108]\n",
      "WARNING: aclu 91 is not present in the `pf1d_short` ratemaps. Which contain aclus: [3, 4, 5, 7, 9, 10, 11, 13, 14, 15, 16, 19, 21, 25, 31, 32, 33, 34, 35, 36, 37, 41, 45, 48, 49, 50, 51, 52, 53, 55, 56, 57, 58, 59, 60, 61, 62, 63, 64, 66, 67, 69, 70, 71, 73, 75, 76, 78, 81, 83, 84, 85, 86, 88, 89, 90, 92, 93, 98, 100, 102, 107, 108]\n",
      "WARNING: aclu 91 is not present in the `pf1d_long` ratemaps. Which contain aclus: [2, 3, 5, 7, 9, 10, 11, 14, 15, 16, 17, 19, 21, 28, 31, 32, 33, 35, 36, 37, 41, 45, 48, 49, 50, 51, 53, 54, 55, 57, 59, 60, 61, 62, 63, 64, 68, 69, 70, 71, 73, 74, 75, 76, 78, 81, 83, 84, 85, 86, 88, 90, 92, 93, 97, 98, 100, 102, 105, 107, 108]\n",
      "WARNING: aclu 94 is not present in the `pf1d_short` ratemaps. Which contain aclus: [3, 4, 5, 7, 9, 10, 11, 13, 14, 15, 16, 19, 21, 25, 31, 32, 33, 34, 35, 36, 37, 41, 45, 48, 49, 50, 51, 52, 53, 55, 56, 57, 58, 59, 60, 61, 62, 63, 64, 66, 67, 69, 70, 71, 73, 75, 76, 78, 81, 83, 84, 85, 86, 88, 89, 90, 92, 93, 98, 100, 102, 107, 108]\n",
      "WARNING: aclu 94 is not present in the `pf1d_long` ratemaps. Which contain aclus: [2, 3, 5, 7, 9, 10, 11, 14, 15, 16, 17, 19, 21, 28, 31, 32, 33, 35, 36, 37, 41, 45, 48, 49, 50, 51, 53, 54, 55, 57, 59, 60, 61, 62, 63, 64, 68, 69, 70, 71, 73, 74, 75, 76, 78, 81, 83, 84, 85, 86, 88, 90, 92, 93, 97, 98, 100, 102, 105, 107, 108]\n",
      "WARNING: aclu 95 is not present in the `pf1d_short` ratemaps. Which contain aclus: [3, 4, 5, 7, 9, 10, 11, 13, 14, 15, 16, 19, 21, 25, 31, 32, 33, 34, 35, 36, 37, 41, 45, 48, 49, 50, 51, 52, 53, 55, 56, 57, 58, 59, 60, 61, 62, 63, 64, 66, 67, 69, 70, 71, 73, 75, 76, 78, 81, 83, 84, 85, 86, 88, 89, 90, 92, 93, 98, 100, 102, 107, 108]\n",
      "WARNING: aclu 95 is not present in the `pf1d_long` ratemaps. Which contain aclus: [2, 3, 5, 7, 9, 10, 11, 14, 15, 16, 17, 19, 21, 28, 31, 32, 33, 35, 36, 37, 41, 45, 48, 49, 50, 51, 53, 54, 55, 57, 59, 60, 61, 62, 63, 64, 68, 69, 70, 71, 73, 74, 75, 76, 78, 81, 83, 84, 85, 86, 88, 90, 92, 93, 97, 98, 100, 102, 105, 107, 108]\n",
      "WARNING: aclu 99 is not present in the `pf1d_short` ratemaps. Which contain aclus: [3, 4, 5, 7, 9, 10, 11, 13, 14, 15, 16, 19, 21, 25, 31, 32, 33, 34, 35, 36, 37, 41, 45, 48, 49, 50, 51, 52, 53, 55, 56, 57, 58, 59, 60, 61, 62, 63, 64, 66, 67, 69, 70, 71, 73, 75, 76, 78, 81, 83, 84, 85, 86, 88, 89, 90, 92, 93, 98, 100, 102, 107, 108]\n",
      "WARNING: aclu 99 is not present in the `pf1d_long` ratemaps. Which contain aclus: [2, 3, 5, 7, 9, 10, 11, 14, 15, 16, 17, 19, 21, 28, 31, 32, 33, 35, 36, 37, 41, 45, 48, 49, 50, 51, 53, 54, 55, 57, 59, 60, 61, 62, 63, 64, 68, 69, 70, 71, 73, 74, 75, 76, 78, 81, 83, 84, 85, 86, 88, 90, 92, 93, 97, 98, 100, 102, 105, 107, 108]\n",
      "WARNING: aclu 101 is not present in the `pf1d_short` ratemaps. Which contain aclus: [3, 4, 5, 7, 9, 10, 11, 13, 14, 15, 16, 19, 21, 25, 31, 32, 33, 34, 35, 36, 37, 41, 45, 48, 49, 50, 51, 52, 53, 55, 56, 57, 58, 59, 60, 61, 62, 63, 64, 66, 67, 69, 70, 71, 73, 75, 76, 78, 81, 83, 84, 85, 86, 88, 89, 90, 92, 93, 98, 100, 102, 107, 108]\n",
      "WARNING: aclu 101 is not present in the `pf1d_long` ratemaps. Which contain aclus: [2, 3, 5, 7, 9, 10, 11, 14, 15, 16, 17, 19, 21, 28, 31, 32, 33, 35, 36, 37, 41, 45, 48, 49, 50, 51, 53, 54, 55, 57, 59, 60, 61, 62, 63, 64, 68, 69, 70, 71, 73, 74, 75, 76, 78, 81, 83, 84, 85, 86, 88, 90, 92, 93, 97, 98, 100, 102, 105, 107, 108]\n",
      "WARNING: aclu 103 is not present in the `pf1d_short` ratemaps. Which contain aclus: [3, 4, 5, 7, 9, 10, 11, 13, 14, 15, 16, 19, 21, 25, 31, 32, 33, 34, 35, 36, 37, 41, 45, 48, 49, 50, 51, 52, 53, 55, 56, 57, 58, 59, 60, 61, 62, 63, 64, 66, 67, 69, 70, 71, 73, 75, 76, 78, 81, 83, 84, 85, 86, 88, 89, 90, 92, 93, 98, 100, 102, 107, 108]\n",
      "WARNING: aclu 103 is not present in the `pf1d_long` ratemaps. Which contain aclus: [2, 3, 5, 7, 9, 10, 11, 14, 15, 16, 17, 19, 21, 28, 31, 32, 33, 35, 36, 37, 41, 45, 48, 49, 50, 51, 53, 54, 55, 57, 59, 60, 61, 62, 63, 64, 68, 69, 70, 71, 73, 74, 75, 76, 78, 81, 83, 84, 85, 86, 88, 90, 92, 93, 97, 98, 100, 102, 105, 107, 108]\n",
      "WARNING: aclu 104 is not present in the `pf1d_short` ratemaps. Which contain aclus: [3, 4, 5, 7, 9, 10, 11, 13, 14, 15, 16, 19, 21, 25, 31, 32, 33, 34, 35, 36, 37, 41, 45, 48, 49, 50, 51, 52, 53, 55, 56, 57, 58, 59, 60, 61, 62, 63, 64, 66, 67, 69, 70, 71, 73, 75, 76, 78, 81, 83, 84, 85, 86, 88, 89, 90, 92, 93, 98, 100, 102, 107, 108]\n",
      "WARNING: aclu 104 is not present in the `pf1d_long` ratemaps. Which contain aclus: [2, 3, 5, 7, 9, 10, 11, 14, 15, 16, 17, 19, 21, 28, 31, 32, 33, 35, 36, 37, 41, 45, 48, 49, 50, 51, 53, 54, 55, 57, 59, 60, 61, 62, 63, 64, 68, 69, 70, 71, 73, 74, 75, 76, 78, 81, 83, 84, 85, 86, 88, 90, 92, 93, 97, 98, 100, 102, 105, 107, 108]\n",
      "WARNING: aclu 105 is not present in the `pf1d_short` ratemaps. Which contain aclus: [3, 4, 5, 7, 9, 10, 11, 13, 14, 15, 16, 19, 21, 25, 31, 32, 33, 34, 35, 36, 37, 41, 45, 48, 49, 50, 51, 52, 53, 55, 56, 57, 58, 59, 60, 61, 62, 63, 64, 66, 67, 69, 70, 71, 73, 75, 76, 78, 81, 83, 84, 85, 86, 88, 89, 90, 92, 93, 98, 100, 102, 107, 108]\n",
      "WARNING: aclu 106 is not present in the `pf1d_short` ratemaps. Which contain aclus: [3, 4, 5, 7, 9, 10, 11, 13, 14, 15, 16, 19, 21, 25, 31, 32, 33, 34, 35, 36, 37, 41, 45, 48, 49, 50, 51, 52, 53, 55, 56, 57, 58, 59, 60, 61, 62, 63, 64, 66, 67, 69, 70, 71, 73, 75, 76, 78, 81, 83, 84, 85, 86, 88, 89, 90, 92, 93, 98, 100, 102, 107, 108]\n",
      "WARNING: aclu 106 is not present in the `pf1d_long` ratemaps. Which contain aclus: [2, 3, 5, 7, 9, 10, 11, 14, 15, 16, 17, 19, 21, 28, 31, 32, 33, 35, 36, 37, 41, 45, 48, 49, 50, 51, 53, 54, 55, 57, 59, 60, 61, 62, 63, 64, 68, 69, 70, 71, 73, 74, 75, 76, 78, 81, 83, 84, 85, 86, 88, 90, 92, 93, 97, 98, 100, 102, 105, 107, 108]\n"
     ]
    },
    {
     "name": "stderr",
     "output_type": "stream",
     "text": [
      "/home/halechr/repos/pyPhoPlaceCellAnalysis/src/pyphoplacecellanalysis/General/Batch/NonInteractiveProcessing.py:909: UserWarning: constrained_layout not applied because axes sizes collapsed to zero.  Try making figure larger or axes decorations smaller.\n",
      "  a_fig.savefig(fig_png_out_path)\n"
     ]
    },
    {
     "name": "stdout",
     "output_type": "stream",
     "text": [
      "\t saved /home/halechr/repos/Spike3D/EXTERNAL/Screenshots/ProgrammaticDisplayFunctionTesting/2024-09-26/kdiba/gor01/one/2006-6-08_14-26-15/BatchPhoJonathanReplayFRC_shared_5of5_(65,72,77,79,80,91,94,95,99,101,103,104,105,106).png\n",
      "\t saved \"file:///home/halechr/repos/Spike3D/EXTERNAL/Screenshots/ProgrammaticDisplayFunctionTesting/2024-09-26/kdiba/gor01/one/2006-6-08_14-26-15/plot_all_epoch_bins_marginal_predictions_Laps%20all_epoch_binned%20Marginals.png\"\n",
      "\t saved \"file:///home/halechr/repos/Spike3D/EXTERNAL/Screenshots/ProgrammaticDisplayFunctionTesting/2024-09-26/kdiba/gor01/one/2006-6-08_14-26-15/plot_all_epoch_bins_marginal_predictions_Ripple%20all_epoch_binned%20Marginals.png\"\n",
      "\t saved \"file:///home/halechr/repos/Spike3D/EXTERNAL/Screenshots/ProgrammaticDisplayFunctionTesting/2024-09-26/kdiba/gor01/one/2006-6-08_14-26-15/plot_quantile_diffs_BestDir.png\"\n",
      "result fixedup.\n"
     ]
    },
    {
     "name": "stderr",
     "output_type": "stream",
     "text": [
      "/home/halechr/repos/pyPhoPlaceCellAnalysis/src/pyphoplacecellanalysis/General/Pipeline/Stages/ComputationFunctions/MultiContextComputationFunctions/RankOrderComputations.py:2825: UserWarning: To output multiple subplots, the figure containing the passed axes is being cleared.\n",
      "  _out_z_score = pd.DataFrame({'LR_long_z_scores': rank_order_results.LR_ripple.long_z_score, 'LR_short_z_scores': rank_order_results.LR_ripple.short_z_score,\n"
     ]
    },
    {
     "name": "stdout",
     "output_type": "stream",
     "text": [
      "\t saved \"file:///home/halechr/repos/Spike3D/EXTERNAL/Screenshots/ProgrammaticDisplayFunctionTesting/2024-09-26/kdiba/gor01/one/2006-6-08_14-26-15/plot_rank_order_histograms_Ripple%20Z-scores.png\"\n"
     ]
    },
    {
     "name": "stderr",
     "output_type": "stream",
     "text": [
      "/home/halechr/repos/pyPhoPlaceCellAnalysis/src/pyphoplacecellanalysis/General/Pipeline/Stages/ComputationFunctions/MultiContextComputationFunctions/RankOrderComputations.py:2833: UserWarning: To output multiple subplots, the figure containing the passed axes is being cleared.\n",
      "  _out_real = pd.DataFrame({'LR_long_real_corr': np.squeeze(LR_results_real_values[:,0]), 'LR_short_real_corr': np.squeeze(LR_results_real_values[:,1]),\n"
     ]
    },
    {
     "name": "stdout",
     "output_type": "stream",
     "text": [
      "\t saved \"file:///home/halechr/repos/Spike3D/EXTERNAL/Screenshots/ProgrammaticDisplayFunctionTesting/2024-09-26/kdiba/gor01/one/2006-6-08_14-26-15/plot_rank_order_histograms_Ripple%20real%20correlations.png\"\n"
     ]
    },
    {
     "name": "stderr",
     "output_type": "stream",
     "text": [
      "/home/halechr/repos/pyPhoPlaceCellAnalysis/src/pyphoplacecellanalysis/General/Pipeline/Stages/ComputationFunctions/MultiContextComputationFunctions/RankOrderComputations.py:2842: UserWarning: To output multiple subplots, the figure containing the passed axes is being cleared.\n",
      "  _out_most_likely_z = pd.DataFrame({'most_likely_long_z_scores': rank_order_results.ripple_most_likely_result_tuple.long_best_dir_z_score_values, 'most_likely_short_z_scores': rank_order_results.ripple_most_likely_result_tuple.short_best_dir_z_score_values}).hist(bins=number_of_bins, ax=ax3, sharex=True, sharey=True)\n"
     ]
    },
    {
     "name": "stdout",
     "output_type": "stream",
     "text": [
      "\t saved \"file:///home/halechr/repos/Spike3D/EXTERNAL/Screenshots/ProgrammaticDisplayFunctionTesting/2024-09-26/kdiba/gor01/one/2006-6-08_14-26-15/plot_rank_order_histograms_Ripple%20Most-likely%20Z-scores.png\"\n"
     ]
    },
    {
     "name": "stderr",
     "output_type": "stream",
     "text": [
      "/home/halechr/repos/pyPhoPlaceCellAnalysis/src/pyphoplacecellanalysis/General/Pipeline/Stages/ComputationFunctions/MultiContextComputationFunctions/RankOrderComputations.py:2849: UserWarning: To output multiple subplots, the figure containing the passed axes is being cleared.\n",
      "  _out_most_likely_raw = pd.DataFrame({'most_likely_long_raw_rho': rank_order_results.ripple_combined_epoch_stats_df['Long_BestDir_spearman'].to_numpy(),\n"
     ]
    },
    {
     "name": "stdout",
     "output_type": "stream",
     "text": [
      "\t saved \"file:///home/halechr/repos/Spike3D/EXTERNAL/Screenshots/ProgrammaticDisplayFunctionTesting/2024-09-26/kdiba/gor01/one/2006-6-08_14-26-15/plot_rank_order_histograms_Ripple%20Most-likely%20Spearman%20Rho.png\"\n",
      ".plot_histograms(..., kwargs: {})\n",
      "\t saved \"file:///home/halechr/repos/Spike3D/EXTERNAL/Screenshots/ProgrammaticDisplayFunctionTesting/2024-09-26/kdiba/gor01/one/2006-6-08_14-26-15/plot_histograms_ripple_result_tuple.png\"\n",
      ".plot_histograms(..., kwargs: {})\n",
      "\t saved \"file:///home/halechr/repos/Spike3D/EXTERNAL/Screenshots/ProgrammaticDisplayFunctionTesting/2024-09-26/kdiba/gor01/one/2006-6-08_14-26-15/plot_histograms_laps_result_tuple.png\"\n",
      "WARNING: namespace collision in resolve_key! attr with name \"subplot_name\" already exists and the value differs: existing_value: Ripple new_value: z_score_diff. Using collision_prefix to add new name: \"subplotsubplot_name\"!\n",
      "WARNING: namespace collision in resolve_key! attr with name \"subplot_name\" already exists and the value differs: existing_value: Ripple new_value: raw. Using collision_prefix to add new name: \"subplotsubplot_name\"!\n",
      "WARNING: namespace collision in resolve_key! attr with name \"subplot_name\" already exists and the value differs: existing_value: Ripple new_value: raw. Using collision_prefix to add new name: \"subplotsubplot_name\"!\n",
      "exported plot to \"/home/halechr/repos/Spike3D/EXTERNAL/Screenshots/ProgrammaticDisplayFunctionTesting/2024-09-26/kdiba/gor01/one/2006-6-08_14-26-15/plot_rank_order_epoch_inst_fr_result_tuples_Ripple_z_score_diff.png\"\n",
      "\t saved \"file:///home/halechr/repos/Spike3D/EXTERNAL/Screenshots/ProgrammaticDisplayFunctionTesting/2024-09-26/kdiba/gor01/one/2006-6-08_14-26-15/plot_rank_order_epoch_inst_fr_result_tuples_Ripple_z_score_diff.png\"\n",
      "exported plot to \"/home/halechr/repos/Spike3D/EXTERNAL/Screenshots/ProgrammaticDisplayFunctionTesting/2024-09-26/kdiba/gor01/one/2006-6-08_14-26-15/plot_rank_order_epoch_inst_fr_result_tuples_Ripple_raw.png\"\n",
      "\t saved \"file:///home/halechr/repos/Spike3D/EXTERNAL/Screenshots/ProgrammaticDisplayFunctionTesting/2024-09-26/kdiba/gor01/one/2006-6-08_14-26-15/plot_rank_order_epoch_inst_fr_result_tuples_Ripple_raw.png\"\n",
      "WARNING: namespace collision in resolve_key! attr with name \"subplot_name\" already exists and the value differs: existing_value: Lap new_value: z_score_diff. Using collision_prefix to add new name: \"subplotsubplot_name\"!\n",
      "WARNING: namespace collision in resolve_key! attr with name \"subplot_name\" already exists and the value differs: existing_value: Lap new_value: raw. Using collision_prefix to add new name: \"subplotsubplot_name\"!\n",
      "WARNING: namespace collision in resolve_key! attr with name \"subplot_name\" already exists and the value differs: existing_value: Lap new_value: raw. Using collision_prefix to add new name: \"subplotsubplot_name\"!\n",
      "exported plot to \"/home/halechr/repos/Spike3D/EXTERNAL/Screenshots/ProgrammaticDisplayFunctionTesting/2024-09-26/kdiba/gor01/one/2006-6-08_14-26-15/plot_rank_order_epoch_inst_fr_result_tuples_Lap_z_score_diff.png\"\n",
      "\t saved \"file:///home/halechr/repos/Spike3D/EXTERNAL/Screenshots/ProgrammaticDisplayFunctionTesting/2024-09-26/kdiba/gor01/one/2006-6-08_14-26-15/plot_rank_order_epoch_inst_fr_result_tuples_Lap_z_score_diff.png\"\n",
      "exported plot to \"/home/halechr/repos/Spike3D/EXTERNAL/Screenshots/ProgrammaticDisplayFunctionTesting/2024-09-26/kdiba/gor01/one/2006-6-08_14-26-15/plot_rank_order_epoch_inst_fr_result_tuples_Lap_raw.png\"\n",
      "\t saved \"file:///home/halechr/repos/Spike3D/EXTERNAL/Screenshots/ProgrammaticDisplayFunctionTesting/2024-09-26/kdiba/gor01/one/2006-6-08_14-26-15/plot_rank_order_epoch_inst_fr_result_tuples_Lap_raw.png\"\n",
      "\t saved \"file:///home/halechr/repos/Spike3D/EXTERNAL/Screenshots/ProgrammaticDisplayFunctionTesting/2024-09-26/kdiba/gor01/one/2006-6-08_14-26-15/bidir_track_remap_Track%20Remapping.png\"\n",
      "batch_extended_programmatic_figures(...): \"_display_trial_to_trial_reliability\" failed with error: 'pf2D_dt'\n",
      " skipping.\n",
      "title: Directional_Marginal_LAPS_t-bin_0.25\n"
     ]
    },
    {
     "name": "stderr",
     "output_type": "stream",
     "text": [
      "/home/halechr/repos/pyPhoPlaceCellAnalysis/src/pyphoplacecellanalysis/General/Mixins/ExportHelpers.py:714: UserWarning: constrained_layout not applied because axes sizes collapsed to zero.  Try making figure larger or axes decorations smaller.\n",
      "  a_fig.savefig(fig_png_out_path)\n"
     ]
    },
    {
     "name": "stdout",
     "output_type": "stream",
     "text": [
      "\t saved \"file:///home/halechr/repos/Spike3D/EXTERNAL/Screenshots/ProgrammaticDisplayFunctionTesting/2024-09-26/kdiba/gor01/one/2006-6-08_14-26-15/directional_merged_pf_decoded_epochs_Laps_Direction_0%E2%80%A225.png\"\n"
     ]
    },
    {
     "name": "stderr",
     "output_type": "stream",
     "text": [
      "/home/halechr/repos/Spike3D/.venv/lib/python3.9/site-packages/numpy/lib/nanfunctions.py:1215: RuntimeWarning: Mean of empty slice\n",
      "  return np.nanmean(a, axis, out=out, keepdims=keepdims)\n"
     ]
    },
    {
     "name": "stdout",
     "output_type": "stream",
     "text": [
      "WARN: active_extent (xmin, xmax, ymin, ymax): (nan, nan, 37.0773897438341, 253.27970536207107) contains NaN or Inf.\n",
      "\terr: Axis limits cannot be NaN or Inf\n",
      "WARN: active_extent (xmin, xmax, ymin, ymax): (nan, nan, 37.0773897438341, 253.27970536207107) contains NaN or Inf.\n",
      "\terr: Axis limits cannot be NaN or Inf\n",
      "WARN: active_extent (xmin, xmax, ymin, ymax): (nan, nan, 37.0773897438341, 253.27970536207107) contains NaN or Inf.\n",
      "\terr: Axis limits cannot be NaN or Inf\n",
      "WARN: active_extent (xmin, xmax, ymin, ymax): (nan, nan, 37.0773897438341, 253.27970536207107) contains NaN or Inf.\n",
      "\terr: Axis limits cannot be NaN or Inf\n",
      "WARN: active_extent (xmin, xmax, ymin, ymax): (nan, nan, 37.0773897438341, 253.27970536207107) contains NaN or Inf.\n",
      "\terr: Axis limits cannot be NaN or Inf\n",
      "WARN: active_extent (xmin, xmax, ymin, ymax): (nan, nan, 37.0773897438341, 253.27970536207107) contains NaN or Inf.\n",
      "\terr: Axis limits cannot be NaN or Inf\n",
      "WARN: active_extent (xmin, xmax, ymin, ymax): (nan, nan, 37.0773897438341, 253.27970536207107) contains NaN or Inf.\n",
      "\terr: Axis limits cannot be NaN or Inf\n",
      "WARN: active_extent (xmin, xmax, ymin, ymax): (nan, nan, 37.0773897438341, 253.27970536207107) contains NaN or Inf.\n",
      "\terr: Axis limits cannot be NaN or Inf\n",
      "WARN: active_extent (xmin, xmax, ymin, ymax): (nan, nan, 37.0773897438341, 253.27970536207107) contains NaN or Inf.\n",
      "\terr: Axis limits cannot be NaN or Inf\n",
      "WARN: active_extent (xmin, xmax, ymin, ymax): (nan, nan, 37.0773897438341, 253.27970536207107) contains NaN or Inf.\n",
      "\terr: Axis limits cannot be NaN or Inf\n",
      "WARN: active_extent (xmin, xmax, ymin, ymax): (nan, nan, 37.0773897438341, 253.27970536207107) contains NaN or Inf.\n",
      "\terr: Axis limits cannot be NaN or Inf\n",
      "WARN: active_extent (xmin, xmax, ymin, ymax): (nan, nan, 37.0773897438341, 253.27970536207107) contains NaN or Inf.\n",
      "\terr: Axis limits cannot be NaN or Inf\n",
      "WARN: active_extent (xmin, xmax, ymin, ymax): (nan, nan, 37.0773897438341, 253.27970536207107) contains NaN or Inf.\n",
      "\terr: Axis limits cannot be NaN or Inf\n",
      "WARN: active_extent (xmin, xmax, ymin, ymax): (nan, nan, 37.0773897438341, 253.27970536207107) contains NaN or Inf.\n",
      "\terr: Axis limits cannot be NaN or Inf\n",
      "WARN: active_extent (xmin, xmax, ymin, ymax): (nan, nan, 37.0773897438341, 253.27970536207107) contains NaN or Inf.\n",
      "\terr: Axis limits cannot be NaN or Inf\n",
      "WARN: active_extent (xmin, xmax, ymin, ymax): (nan, nan, 37.0773897438341, 253.27970536207107) contains NaN or Inf.\n",
      "\terr: Axis limits cannot be NaN or Inf\n",
      "WARN: active_extent (xmin, xmax, ymin, ymax): (nan, nan, 37.0773897438341, 253.27970536207107) contains NaN or Inf.\n",
      "\terr: Axis limits cannot be NaN or Inf\n",
      "WARN: active_extent (xmin, xmax, ymin, ymax): (nan, nan, 37.0773897438341, 253.27970536207107) contains NaN or Inf.\n",
      "\terr: Axis limits cannot be NaN or Inf\n",
      "WARN: active_extent (xmin, xmax, ymin, ymax): (nan, nan, 37.0773897438341, 253.27970536207107) contains NaN or Inf.\n",
      "\terr: Axis limits cannot be NaN or Inf\n",
      "WARN: active_extent (xmin, xmax, ymin, ymax): (nan, nan, 37.0773897438341, 253.27970536207107) contains NaN or Inf.\n",
      "\terr: Axis limits cannot be NaN or Inf\n",
      "title: Directional_Marginal_Ripples_t-bin_0.025\n"
     ]
    },
    {
     "name": "stderr",
     "output_type": "stream",
     "text": [
      "/home/halechr/repos/pyPhoPlaceCellAnalysis/src/pyphoplacecellanalysis/General/Mixins/ExportHelpers.py:714: UserWarning: constrained_layout not applied because axes sizes collapsed to zero.  Try making figure larger or axes decorations smaller.\n",
      "  a_fig.savefig(fig_png_out_path)\n"
     ]
    },
    {
     "name": "stdout",
     "output_type": "stream",
     "text": [
      "\t saved \"file:///home/halechr/repos/Spike3D/EXTERNAL/Screenshots/ProgrammaticDisplayFunctionTesting/2024-09-26/kdiba/gor01/one/2006-6-08_14-26-15/directional_merged_pf_decoded_epochs_Ripple_Direction_0%E2%80%A2025.png\"\n",
      "title: TrackIdentity_Marginal_LAPS_t-bin_0.25\n"
     ]
    },
    {
     "name": "stderr",
     "output_type": "stream",
     "text": [
      "/home/halechr/repos/pyPhoPlaceCellAnalysis/src/pyphoplacecellanalysis/General/Mixins/ExportHelpers.py:714: UserWarning: constrained_layout not applied because axes sizes collapsed to zero.  Try making figure larger or axes decorations smaller.\n",
      "  a_fig.savefig(fig_png_out_path)\n"
     ]
    },
    {
     "name": "stdout",
     "output_type": "stream",
     "text": [
      "\t saved \"file:///home/halechr/repos/Spike3D/EXTERNAL/Screenshots/ProgrammaticDisplayFunctionTesting/2024-09-26/kdiba/gor01/one/2006-6-08_14-26-15/directional_merged_pf_decoded_epochs_Laps_TrackID_0%E2%80%A225.png\"\n"
     ]
    },
    {
     "name": "stderr",
     "output_type": "stream",
     "text": [
      "/home/halechr/repos/Spike3D/.venv/lib/python3.9/site-packages/numpy/lib/nanfunctions.py:1215: RuntimeWarning: Mean of empty slice\n",
      "  return np.nanmean(a, axis, out=out, keepdims=keepdims)\n"
     ]
    },
    {
     "name": "stdout",
     "output_type": "stream",
     "text": [
      "WARN: active_extent (xmin, xmax, ymin, ymax): (nan, nan, 37.0773897438341, 253.27970536207107) contains NaN or Inf.\n",
      "\terr: Axis limits cannot be NaN or Inf\n",
      "WARN: active_extent (xmin, xmax, ymin, ymax): (nan, nan, 37.0773897438341, 253.27970536207107) contains NaN or Inf.\n",
      "\terr: Axis limits cannot be NaN or Inf\n",
      "WARN: active_extent (xmin, xmax, ymin, ymax): (nan, nan, 37.0773897438341, 253.27970536207107) contains NaN or Inf.\n",
      "\terr: Axis limits cannot be NaN or Inf\n",
      "WARN: active_extent (xmin, xmax, ymin, ymax): (nan, nan, 37.0773897438341, 253.27970536207107) contains NaN or Inf.\n",
      "\terr: Axis limits cannot be NaN or Inf\n",
      "WARN: active_extent (xmin, xmax, ymin, ymax): (nan, nan, 37.0773897438341, 253.27970536207107) contains NaN or Inf.\n",
      "\terr: Axis limits cannot be NaN or Inf\n",
      "WARN: active_extent (xmin, xmax, ymin, ymax): (nan, nan, 37.0773897438341, 253.27970536207107) contains NaN or Inf.\n",
      "\terr: Axis limits cannot be NaN or Inf\n",
      "WARN: active_extent (xmin, xmax, ymin, ymax): (nan, nan, 37.0773897438341, 253.27970536207107) contains NaN or Inf.\n",
      "\terr: Axis limits cannot be NaN or Inf\n",
      "WARN: active_extent (xmin, xmax, ymin, ymax): (nan, nan, 37.0773897438341, 253.27970536207107) contains NaN or Inf.\n",
      "\terr: Axis limits cannot be NaN or Inf\n",
      "WARN: active_extent (xmin, xmax, ymin, ymax): (nan, nan, 37.0773897438341, 253.27970536207107) contains NaN or Inf.\n",
      "\terr: Axis limits cannot be NaN or Inf\n",
      "WARN: active_extent (xmin, xmax, ymin, ymax): (nan, nan, 37.0773897438341, 253.27970536207107) contains NaN or Inf.\n",
      "\terr: Axis limits cannot be NaN or Inf\n",
      "WARN: active_extent (xmin, xmax, ymin, ymax): (nan, nan, 37.0773897438341, 253.27970536207107) contains NaN or Inf.\n",
      "\terr: Axis limits cannot be NaN or Inf\n",
      "WARN: active_extent (xmin, xmax, ymin, ymax): (nan, nan, 37.0773897438341, 253.27970536207107) contains NaN or Inf.\n",
      "\terr: Axis limits cannot be NaN or Inf\n",
      "WARN: active_extent (xmin, xmax, ymin, ymax): (nan, nan, 37.0773897438341, 253.27970536207107) contains NaN or Inf.\n",
      "\terr: Axis limits cannot be NaN or Inf\n",
      "WARN: active_extent (xmin, xmax, ymin, ymax): (nan, nan, 37.0773897438341, 253.27970536207107) contains NaN or Inf.\n",
      "\terr: Axis limits cannot be NaN or Inf\n",
      "WARN: active_extent (xmin, xmax, ymin, ymax): (nan, nan, 37.0773897438341, 253.27970536207107) contains NaN or Inf.\n",
      "\terr: Axis limits cannot be NaN or Inf\n",
      "WARN: active_extent (xmin, xmax, ymin, ymax): (nan, nan, 37.0773897438341, 253.27970536207107) contains NaN or Inf.\n",
      "\terr: Axis limits cannot be NaN or Inf\n",
      "WARN: active_extent (xmin, xmax, ymin, ymax): (nan, nan, 37.0773897438341, 253.27970536207107) contains NaN or Inf.\n",
      "\terr: Axis limits cannot be NaN or Inf\n",
      "WARN: active_extent (xmin, xmax, ymin, ymax): (nan, nan, 37.0773897438341, 253.27970536207107) contains NaN or Inf.\n",
      "\terr: Axis limits cannot be NaN or Inf\n",
      "WARN: active_extent (xmin, xmax, ymin, ymax): (nan, nan, 37.0773897438341, 253.27970536207107) contains NaN or Inf.\n",
      "\terr: Axis limits cannot be NaN or Inf\n",
      "WARN: active_extent (xmin, xmax, ymin, ymax): (nan, nan, 37.0773897438341, 253.27970536207107) contains NaN or Inf.\n",
      "\terr: Axis limits cannot be NaN or Inf\n",
      "title: TrackIdentity_Marginal_Ripples_t-bin_0.025\n"
     ]
    },
    {
     "name": "stderr",
     "output_type": "stream",
     "text": [
      "/home/halechr/repos/pyPhoPlaceCellAnalysis/src/pyphoplacecellanalysis/General/Mixins/ExportHelpers.py:714: UserWarning: constrained_layout not applied because axes sizes collapsed to zero.  Try making figure larger or axes decorations smaller.\n",
      "  a_fig.savefig(fig_png_out_path)\n"
     ]
    },
    {
     "name": "stdout",
     "output_type": "stream",
     "text": [
      "\t saved \"file:///home/halechr/repos/Spike3D/EXTERNAL/Screenshots/ProgrammaticDisplayFunctionTesting/2024-09-26/kdiba/gor01/one/2006-6-08_14-26-15/directional_merged_pf_decoded_epochs_Ripple_TrackID_0%E2%80%A2025.png\"\n",
      "Neptuner.stop() called!\n",
      "[neptune] [info   ] Shutting down background jobs, please wait a moment...\n",
      "[neptune] [info   ] Done!\n",
      "[neptune] [info   ] Waiting for the remaining 81 operations to synchronize with Neptune. Do not kill this process.\n",
      "[neptune] [info   ] All 81 operations synced, thanks for waiting!\n",
      "[neptune] [info   ] Explore the metadata in the Neptune app: https://app.neptune.ai/commander.pho/PhoDibaLongShortUpdated/e/LS2023-1367/metadata\n",
      "[neptune] [info   ] Shutting down background jobs, please wait a moment...\n",
      "[neptune] [info   ] Done!\n",
      "[neptune] [info   ] All 0 operations synced, thanks for waiting!\n",
      "[neptune] [info   ] Explore the metadata in the Neptune app: https://app.neptune.ai/commander.pho/PhoDibaLongShortUpdated/metadata\n",
      "Neptuner stoppped.\n",
      "Neptuner.stop() called!\n",
      "Neptuner stoppped.\n",
      "DEPRICATION WARNING: workaround to allow subscripting ComputationResult objects. Will be depricated. key: computed_data\n",
      "DEPRICATION WARNING: workaround to allow subscripting ComputationResult objects. Will be depricated. key: computed_data\n",
      "DEPRICATION WARNING: workaround to allow subscripting ComputationResult objects. Will be depricated. key: computed_data\n",
      "DEPRICATION WARNING: workaround to allow subscripting ComputationResult objects. Will be depricated. key: computation_config\n",
      "DEPRICATION WARNING: workaround to allow subscripting ComputationResult objects. Will be depricated. key: computation_config\n",
      "DEPRICATION WARNING: workaround to allow subscripting ComputationResult objects. Will be depricated. key: computation_config\n",
      "WARN: 2023-09-28 16:15: - [ ] fix the combination properties. Would work if we directly used the computed _is_L_only and _is_S_only above\n"
     ]
    },
    {
     "name": "stderr",
     "output_type": "stream",
     "text": [
      "/home/halechr/repos/NeuroPy/neuropy/core/flattened_spiketrains.py:263: SettingWithCopyWarning: \n",
      "A value is trying to be set on a copy of a slice from a DataFrame.\n",
      "Try using .loc[row_indexer,col_indexer] = value instead\n",
      "\n",
      "See the caveats in the documentation: https://pandas.pydata.org/pandas-docs/stable/user_guide/indexing.html#returning-a-view-versus-a-copy\n",
      "  self._obj['fragile_linear_neuron_IDX'] = included_cell_INDEXES.copy()\n",
      "/home/halechr/repos/NeuroPy/neuropy/core/flattened_spiketrains.py:266: SettingWithCopyWarning: \n",
      "A value is trying to be set on a copy of a slice from a DataFrame.\n",
      "Try using .loc[row_indexer,col_indexer] = value instead\n",
      "\n",
      "See the caveats in the documentation: https://pandas.pydata.org/pandas-docs/stable/user_guide/indexing.html#returning-a-view-versus-a-copy\n",
      "  self._obj['neuron_IDX'] = self._obj['fragile_linear_neuron_IDX'].copy()\n"
     ]
    },
    {
     "name": "stdout",
     "output_type": "stream",
     "text": [
      "An exception occurred: Version mismatch: this is the 'cffi' package version 1.17.1, located in '/sw/pkgs/arc/globus-cli/3.30.1/lib/python3.12/site-packages/cffi/api.py'.  When we import the top-level '_cffi_backend' extension module, we get version 1.16.0, located in '/home/halechr/repos/Spike3D/.venv/lib/python3.9/site-packages/_cffi_backend.cpython-39-x86_64-linux-gnu.so'.  The two versions should be equal; check your installation.\n",
      "An exception occurred: Version mismatch: this is the 'cffi' package version 1.17.1, located in '/sw/pkgs/arc/globus-cli/3.30.1/lib/python3.12/site-packages/cffi/api.py'.  When we import the top-level '_cffi_backend' extension module, we get version 1.16.0, located in '/home/halechr/repos/Spike3D/.venv/lib/python3.9/site-packages/_cffi_backend.cpython-39-x86_64-linux-gnu.so'.  The two versions should be equal; check your installation.\n",
      "An exception occurred: Version mismatch: this is the 'cffi' package version 1.17.1, located in '/sw/pkgs/arc/globus-cli/3.30.1/lib/python3.12/site-packages/cffi/api.py'.  When we import the top-level '_cffi_backend' extension module, we get version 1.16.0, located in '/home/halechr/repos/Spike3D/.venv/lib/python3.9/site-packages/_cffi_backend.cpython-39-x86_64-linux-gnu.so'.  The two versions should be equal; check your installation.\n",
      "main_complete_figure_generations failed with exception: !! Version mismatch: this is the 'cffi' package version 1.17.1, located in '/sw/pkgs/arc/globus-cli/3.30.1/lib/python3.12/site-packages/cffi/api.py'.  When we import the top-level '_cffi_backend' extension module, we get version 1.16.0, located in '/home/halechr/repos/Spike3D/.venv/lib/python3.9/site-packages/_cffi_backend.cpython-39-x86_64-linux-gnu.so'.  The two versions should be equal; check your installation. ::::: (<class 'Exception'>, Exception(\"Version mismatch: this is the 'cffi' package version 1.17.1, located in '/sw/pkgs/arc/globus-cli/3.30.1/lib/python3.12/site-packages/cffi/api.py'.  When we import the top-level '_cffi_backend' extension module, we get version 1.16.0, located in '/home/halechr/repos/Spike3D/.venv/lib/python3.9/site-packages/_cffi_backend.cpython-39-x86_64-linux-gnu.so'.  The two versions should be equal; check your installation.\"), <traceback object at 0x1531509f2bc0>)\n",
      "\t time since last computation: 29 days, 4:36:24.831911\n",
      "\t doing specific instantaneous firing rate computation for context: kdiba_gor01_one_2006-6-08_14-26-15...\n",
      "setting LxC_aclus/SxC_aclus from user annotation.\n",
      "DropShorterMode:\n",
      "\tminimum_event_duration present (minimum_event_duration=0.003).\n",
      "\tdropping 0 that are shorter than our minimum_event_duration of 0.003.\t296 remain.\n",
      "WARN: on_complete_success_execution_session: encountered exception !! Version mismatch: this is the 'cffi' package version 1.17.1, located in '/sw/pkgs/arc/globus-cli/3.30.1/lib/python3.12/site-packages/cffi/api.py'.  When we import the top-level '_cffi_backend' extension module, we get version 1.16.0, located in '/home/halechr/repos/Spike3D/.venv/lib/python3.9/site-packages/_cffi_backend.cpython-39-x86_64-linux-gnu.so'.  The two versions should be equal; check your installation. ::::: (<class 'Exception'>, Exception(\"Version mismatch: this is the 'cffi' package version 1.17.1, located in '/sw/pkgs/arc/globus-cli/3.30.1/lib/python3.12/site-packages/cffi/api.py'.  When we import the top-level '_cffi_backend' extension module, we get version 1.16.0, located in '/home/halechr/repos/Spike3D/.venv/lib/python3.9/site-packages/_cffi_backend.cpython-39-x86_64-linux-gnu.so'.  The two versions should be equal; check your installation.\"), <traceback object at 0x15314bfe0c40>) while trying to compute the instantaneous firing rates and set self.across_sessions_instantaneous_fr_dict[kdiba_gor01_one_2006-6-08_14-26-15]\n",
      "\"========================== END BATCH ==========================\n",
      "\n",
      "\n",
      "build_logger(full_logger_string=\"2024-09-26_18-09-40.gl3151.arc-ts.umich.edu.com.PhoHale.PhoPy3DPositionAnalyis.Batch.runBatch.run_specific_batch.kdiba.gor01.one.2006-6-09_1-22-43\", file_logging_dir: None):\n",
      "========================== runBatch STARTING ==========================\n",
      "\tglobal_data_root_parent_path: /nfs/turbo/umms-kdiba/Data\n",
      "\tsession_context: kdiba_gor01_one_2006-6-09_1-22-43\n",
      "\tsession_basedir: \"/nfs/turbo/umms-kdiba/Data/KDIBA/gor01/one/2006-6-09_1-22-43\"\n",
      "__________________________________________________________________\n",
      "basedir: /nfs/turbo/umms-kdiba/Data/KDIBA/gor01/one/2006-6-09_1-22-43\n",
      "active_data_mode_name: kdiba\n",
      "Computing loaded session pickle file results : \"/nfs/turbo/umms-kdiba/Data/KDIBA/gor01/one/2006-6-09_1-22-43/loadedSessPickle.pkl\"... build_logger(full_logger_string=\"2024-09-26_18-09-52.gl3151.arc-ts.umich.edu.kdiba.gor01.one.2006-6-09_1-22-43\", file_logging_dir: None):\n",
      "done.\n",
      "Loading pickled pipeline success: /nfs/turbo/umms-kdiba/Data/KDIBA/gor01/one/2006-6-09_1-22-43/loadedSessPickle.pkl.\n",
      "properties already present in pickled version. No need to save.\n",
      "pipeline load success!\n"
     ]
    },
    {
     "name": "stderr",
     "output_type": "stream",
     "text": [
      "WARNING: saving_mode is SKIP_SAVING so pipeline will not be saved despite calling .save_pipeline(...).\n",
      "WARNING: saving_mode is SKIP_SAVING so pipeline will not be saved despite calling .save_pipeline(...).\n"
     ]
    },
    {
     "name": "stdout",
     "output_type": "stream",
     "text": [
      "using provided computation_functions_name_includelist: ['pf_computation', 'pfdt_computation', 'firing_rate_trends', 'position_decoding']\n",
      "WARNING: skipping computation because overwrite_extant_results=False and `active_computation_results[maze1_odd]` already exists and is non-None\n",
      "\t TODO: this will prevent recomputation even when the excludelist/includelist or computation function definitions change. Rework so that this is smarter.\n",
      "WARNING: skipping computation because overwrite_extant_results=False and `active_computation_results[maze2_odd]` already exists and is non-None\n",
      "\t TODO: this will prevent recomputation even when the excludelist/includelist or computation function definitions change. Rework so that this is smarter.\n",
      "WARNING: skipping computation because overwrite_extant_results=False and `active_computation_results[maze_odd]` already exists and is non-None\n",
      "\t TODO: this will prevent recomputation even when the excludelist/includelist or computation function definitions change. Rework so that this is smarter.\n",
      "WARNING: skipping computation because overwrite_extant_results=False and `active_computation_results[maze1_even]` already exists and is non-None\n",
      "\t TODO: this will prevent recomputation even when the excludelist/includelist or computation function definitions change. Rework so that this is smarter.\n",
      "WARNING: skipping computation because overwrite_extant_results=False and `active_computation_results[maze2_even]` already exists and is non-None\n",
      "\t TODO: this will prevent recomputation even when the excludelist/includelist or computation function definitions change. Rework so that this is smarter.\n",
      "WARNING: skipping computation because overwrite_extant_results=False and `active_computation_results[maze_even]` already exists and is non-None\n",
      "\t TODO: this will prevent recomputation even when the excludelist/includelist or computation function definitions change. Rework so that this is smarter.\n",
      "WARNING: skipping computation because overwrite_extant_results=False and `active_computation_results[maze1_any]` already exists and is non-None\n",
      "\t TODO: this will prevent recomputation even when the excludelist/includelist or computation function definitions change. Rework so that this is smarter.\n",
      "WARNING: skipping computation because overwrite_extant_results=False and `active_computation_results[maze2_any]` already exists and is non-None\n",
      "\t TODO: this will prevent recomputation even when the excludelist/includelist or computation function definitions change. Rework so that this is smarter.\n",
      "WARNING: skipping computation because overwrite_extant_results=False and `active_computation_results[maze_any]` already exists and is non-None\n",
      "\t TODO: this will prevent recomputation even when the excludelist/includelist or computation function definitions change. Rework so that this is smarter.\n",
      "WARNING: skipping computation because overwrite_extant_results=False and `active_computation_results[maze1_odd]` already exists and is non-None\n",
      "\t TODO: this will prevent recomputation even when the excludelist/includelist or computation function definitions change. Rework so that this is smarter.\n",
      "WARNING: skipping computation because overwrite_extant_results=False and `active_computation_results[maze2_odd]` already exists and is non-None\n",
      "\t TODO: this will prevent recomputation even when the excludelist/includelist or computation function definitions change. Rework so that this is smarter.\n",
      "WARNING: skipping computation because overwrite_extant_results=False and `active_computation_results[maze_odd]` already exists and is non-None\n",
      "\t TODO: this will prevent recomputation even when the excludelist/includelist or computation function definitions change. Rework so that this is smarter.\n",
      "WARNING: skipping computation because overwrite_extant_results=False and `active_computation_results[maze1_even]` already exists and is non-None\n",
      "\t TODO: this will prevent recomputation even when the excludelist/includelist or computation function definitions change. Rework so that this is smarter.\n",
      "WARNING: skipping computation because overwrite_extant_results=False and `active_computation_results[maze2_even]` already exists and is non-None\n",
      "\t TODO: this will prevent recomputation even when the excludelist/includelist or computation function definitions change. Rework so that this is smarter.\n",
      "WARNING: skipping computation because overwrite_extant_results=False and `active_computation_results[maze_even]` already exists and is non-None\n",
      "\t TODO: this will prevent recomputation even when the excludelist/includelist or computation function definitions change. Rework so that this is smarter.\n",
      "WARNING: skipping computation because overwrite_extant_results=False and `active_computation_results[maze1_any]` already exists and is non-None\n",
      "\t TODO: this will prevent recomputation even when the excludelist/includelist or computation function definitions change. Rework so that this is smarter.\n",
      "WARNING: skipping computation because overwrite_extant_results=False and `active_computation_results[maze2_any]` already exists and is non-None\n",
      "\t TODO: this will prevent recomputation even when the excludelist/includelist or computation function definitions change. Rework so that this is smarter.\n",
      "WARNING: skipping computation because overwrite_extant_results=False and `active_computation_results[maze_any]` already exists and is non-None\n",
      "\t TODO: this will prevent recomputation even when the excludelist/includelist or computation function definitions change. Rework so that this is smarter.\n",
      "WARNING: skipping computation because overwrite_extant_results=False and `active_computation_results[maze1_odd]` already exists and is non-None\n",
      "\t TODO: this will prevent recomputation even when the excludelist/includelist or computation function definitions change. Rework so that this is smarter.\n",
      "WARNING: skipping computation because overwrite_extant_results=False and `active_computation_results[maze2_odd]` already exists and is non-None\n",
      "\t TODO: this will prevent recomputation even when the excludelist/includelist or computation function definitions change. Rework so that this is smarter.\n",
      "WARNING: skipping computation because overwrite_extant_results=False and `active_computation_results[maze_odd]` already exists and is non-None\n",
      "\t TODO: this will prevent recomputation even when the excludelist/includelist or computation function definitions change. Rework so that this is smarter.\n",
      "WARNING: skipping computation because overwrite_extant_results=False and `active_computation_results[maze1_even]` already exists and is non-None\n",
      "\t TODO: this will prevent recomputation even when the excludelist/includelist or computation function definitions change. Rework so that this is smarter.\n",
      "WARNING: skipping computation because overwrite_extant_results=False and `active_computation_results[maze2_even]` already exists and is non-None\n",
      "\t TODO: this will prevent recomputation even when the excludelist/includelist or computation function definitions change. Rework so that this is smarter.\n",
      "WARNING: skipping computation because overwrite_extant_results=False and `active_computation_results[maze_even]` already exists and is non-None\n",
      "\t TODO: this will prevent recomputation even when the excludelist/includelist or computation function definitions change. Rework so that this is smarter.\n",
      "WARNING: skipping computation because overwrite_extant_results=False and `active_computation_results[maze1_any]` already exists and is non-None\n",
      "\t TODO: this will prevent recomputation even when the excludelist/includelist or computation function definitions change. Rework so that this is smarter.\n",
      "WARNING: skipping computation because overwrite_extant_results=False and `active_computation_results[maze2_any]` already exists and is non-None\n",
      "\t TODO: this will prevent recomputation even when the excludelist/includelist or computation function definitions change. Rework so that this is smarter.\n",
      "WARNING: skipping computation because overwrite_extant_results=False and `active_computation_results[maze_any]` already exists and is non-None\n",
      "\t TODO: this will prevent recomputation even when the excludelist/includelist or computation function definitions change. Rework so that this is smarter.\n",
      "WARNING: saving_mode is SKIP_SAVING so pipeline will not be saved despite calling .save_pipeline(...).\n",
      "saving_mode.shouldSave == False, so not saving at the end of batch_load_session\n",
      "on_complete_success_execution_session(curr_session_context: kdiba_gor01_one_2006-6-09_1-22-43, curr_session_basedir: /nfs/turbo/umms-kdiba/Data/KDIBA/gor01/one/2006-6-09_1-22-43, ...)\n",
      "DEPRICATION WARNING: workaround to allow subscripting ComputationResult objects. Will be depricated. key: computed_data\n",
      "DEPRICATION WARNING: workaround to allow subscripting ComputationResult objects. Will be depricated. key: computed_data\n",
      "DEPRICATION WARNING: workaround to allow subscripting ComputationResult objects. Will be depricated. key: computed_data\n",
      "DEPRICATION WARNING: workaround to allow subscripting ComputationResult objects. Will be depricated. key: computed_data\n",
      "DEPRICATION WARNING: workaround to allow subscripting ComputationResult objects. Will be depricated. key: computed_data\n",
      "DEPRICATION WARNING: workaround to allow subscripting ComputationResult objects. Will be depricated. key: computed_data\n",
      "were pipeline preprocessing parameters missing and updated?: False\n",
      "WARNING: saving_mode is SKIP_SAVING so pipeline will not be saved despite calling .save_pipeline(...).\n",
      "Computing loaded session pickle file results : \"/nfs/turbo/umms-kdiba/Data/KDIBA/gor01/one/2006-6-09_1-22-43/output/global_computation_results.pkl\"... done.\n",
      "_perform_long_short_instantaneous_spike_rate_groups_analysis is lacking a required computation config parameter! creating a new curr_active_pipeline.global_computation_results.computation_config\n",
      "no changes in global results.\n",
      "[neptune] [info   ] Neptune initialized. Open in the app: https://app.neptune.ai/commander.pho/PhoDibaLongShortUpdated/\n",
      "[neptune] [info   ] Neptune initialized. Open in the app: https://app.neptune.ai/commander.pho/PhoDibaLongShortUpdated/e/LS2023-1368\n",
      "include_includelist: ['maze1_odd', 'maze2_odd', 'maze_odd', 'maze1_even', 'maze2_even', 'maze_even', 'maze1_any', 'maze2_any', 'maze_any']\n",
      "long_epoch_name: maze1_odd, short_epoch_name: maze2_odd, global_epoch_name: maze_any\n"
     ]
    },
    {
     "name": "stderr",
     "output_type": "stream",
     "text": [
      "/home/halechr/repos/pyPhoPlaceCellAnalysis/src/pyphoplacecellanalysis/General/Pipeline/Stages/DisplayFunctions/MultiContextComparingDisplayFunctions/LongShortTrackComparingDisplayFunctions.py:1290: SettingWithCopyWarning: \n",
      "A value is trying to be set on a copy of a slice from a DataFrame.\n",
      "Try using .loc[row_indexer,col_indexer] = value instead\n",
      "\n",
      "See the caveats in the documentation: https://pandas.pydata.org/pandas-docs/stable/user_guide/indexing.html#returning-a-view-versus-a-copy\n",
      "  cell_df.loc[:, 'x'] = spk_x\n",
      "/home/halechr/repos/pyPhoPlaceCellAnalysis/src/pyphoplacecellanalysis/General/Mixins/CrossComputationComparisonHelpers.py:245: RuntimeWarning: invalid value encountered in divide\n",
      "  _long_to_short_balances = (rdf.num_short_only_neuron_participating.values - rdf.num_long_only_neuron_participating.values) / (rdf.num_short_only_neuron_participating.values + rdf.num_long_only_neuron_participating.values) ## Working but (0, 1, 1) would clip to 0.5 despite (1, 13, 0) going all the way down to -1.0\n",
      "/home/halechr/repos/pyPhoPlaceCellAnalysis/src/pyphoplacecellanalysis/General/Mixins/CrossComputationComparisonHelpers.py:275: RuntimeWarning: invalid value encountered in divide\n",
      "  _long_to_short_balances = (rdf.num_short_only_neuron_participating.values - rdf.num_long_only_neuron_participating.values) / (rdf.num_short_only_neuron_participating.values + rdf.num_long_only_neuron_participating.values) ## Working but (0, 1, 1) would clip to 0.5 despite (1, 13, 0) going all the way down to -1.0\n"
     ]
    },
    {
     "name": "stdout",
     "output_type": "stream",
     "text": [
      "DEPRICATION WARNING: workaround to allow subscripting ComputationResult objects. Will be depricated. key: computed_data\n",
      "DEPRICATION WARNING: workaround to allow subscripting ComputationResult objects. Will be depricated. key: computed_data\n",
      "DEPRICATION WARNING: workaround to allow subscripting ComputationResult objects. Will be depricated. key: computed_data\n",
      "WARNING: aclu 3 is not present in the `pf1d_short` ratemaps. Which contain aclus: [4, 6, 8, 9, 11, 12, 13, 14, 15, 16, 18, 20, 24, 25, 26, 27, 28, 31, 32, 38, 39, 40, 43, 44, 47, 48, 51, 52, 53, 56, 57, 58, 59, 60, 61, 62, 63, 66, 67, 68, 69, 70, 71, 72, 75, 77, 79, 80, 81, 82, 84, 85, 87, 89, 90, 91, 92, 93, 95, 98, 100, 101, 102, 104]\n",
      "WARNING: aclu 5 is not present in the `pf1d_short` ratemaps. Which contain aclus: [4, 6, 8, 9, 11, 12, 13, 14, 15, 16, 18, 20, 24, 25, 26, 27, 28, 31, 32, 38, 39, 40, 43, 44, 47, 48, 51, 52, 53, 56, 57, 58, 59, 60, 61, 62, 63, 66, 67, 68, 69, 70, 71, 72, 75, 77, 79, 80, 81, 82, 84, 85, 87, 89, 90, 91, 92, 93, 95, 98, 100, 101, 102, 104]\n",
      "WARNING: aclu 5 is not present in the `pf1d_long` ratemaps. Which contain aclus: [2, 3, 4, 9, 11, 12, 13, 14, 15, 16, 18, 19, 20, 24, 25, 26, 27, 28, 30, 31, 32, 34, 38, 39, 40, 43, 44, 47, 48, 51, 52, 53, 56, 57, 58, 59, 60, 61, 62, 63, 66, 67, 68, 70, 71, 72, 75, 77, 79, 80, 81, 82, 83, 84, 85, 86, 87, 89, 90, 91, 92, 93, 95, 97, 98, 101, 102, 103, 104]\n",
      "WARNING: aclu 23 is not present in the `pf1d_short` ratemaps. Which contain aclus: [4, 6, 8, 9, 11, 12, 13, 14, 15, 16, 18, 20, 24, 25, 26, 27, 28, 31, 32, 38, 39, 40, 43, 44, 47, 48, 51, 52, 53, 56, 57, 58, 59, 60, 61, 62, 63, 66, 67, 68, 69, 70, 71, 72, 75, 77, 79, 80, 81, 82, 84, 85, 87, 89, 90, 91, 92, 93, 95, 98, 100, 101, 102, 104]\n",
      "WARNING: aclu 23 is not present in the `pf1d_long` ratemaps. Which contain aclus: [2, 3, 4, 9, 11, 12, 13, 14, 15, 16, 18, 19, 20, 24, 25, 26, 27, 28, 30, 31, 32, 34, 38, 39, 40, 43, 44, 47, 48, 51, 52, 53, 56, 57, 58, 59, 60, 61, 62, 63, 66, 67, 68, 70, 71, 72, 75, 77, 79, 80, 81, 82, 83, 84, 85, 86, 87, 89, 90, 91, 92, 93, 95, 97, 98, 101, 102, 103, 104]\n",
      "WARNING: aclu 29 is not present in the `pf1d_short` ratemaps. Which contain aclus: [4, 6, 8, 9, 11, 12, 13, 14, 15, 16, 18, 20, 24, 25, 26, 27, 28, 31, 32, 38, 39, 40, 43, 44, 47, 48, 51, 52, 53, 56, 57, 58, 59, 60, 61, 62, 63, 66, 67, 68, 69, 70, 71, 72, 75, 77, 79, 80, 81, 82, 84, 85, 87, 89, 90, 91, 92, 93, 95, 98, 100, 101, 102, 104]\n",
      "WARNING: aclu 29 is not present in the `pf1d_long` ratemaps. Which contain aclus: [2, 3, 4, 9, 11, 12, 13, 14, 15, 16, 18, 19, 20, 24, 25, 26, 27, 28, 30, 31, 32, 34, 38, 39, 40, 43, 44, 47, 48, 51, 52, 53, 56, 57, 58, 59, 60, 61, 62, 63, 66, 67, 68, 70, 71, 72, 75, 77, 79, 80, 81, 82, 83, 84, 85, 86, 87, 89, 90, 91, 92, 93, 95, 97, 98, 101, 102, 103, 104]\n",
      "WARNING: aclu 103 is not present in the `pf1d_short` ratemaps. Which contain aclus: [4, 6, 8, 9, 11, 12, 13, 14, 15, 16, 18, 20, 24, 25, 26, 27, 28, 31, 32, 38, 39, 40, 43, 44, 47, 48, 51, 52, 53, 56, 57, 58, 59, 60, 61, 62, 63, 66, 67, 68, 69, 70, 71, 72, 75, 77, 79, 80, 81, 82, 84, 85, 87, 89, 90, 91, 92, 93, 95, 98, 100, 101, 102, 104]\n",
      "\t saved /home/halechr/repos/Spike3D/EXTERNAL/Screenshots/ProgrammaticDisplayFunctionTesting/2024-09-26/kdiba/gor01/one/2006-6-09_1-22-43/BatchPhoJonathanReplayFRC_long_only_(3,5,23,29,38,63,103).png\n",
      "include_includelist: ['maze1_odd', 'maze2_odd', 'maze_odd', 'maze1_even', 'maze2_even', 'maze_even', 'maze1_any', 'maze2_any', 'maze_any']\n",
      "long_epoch_name: maze1_odd, short_epoch_name: maze2_odd, global_epoch_name: maze_any\n"
     ]
    },
    {
     "name": "stderr",
     "output_type": "stream",
     "text": [
      "/home/halechr/repos/pyPhoPlaceCellAnalysis/src/pyphoplacecellanalysis/General/Pipeline/Stages/DisplayFunctions/MultiContextComparingDisplayFunctions/LongShortTrackComparingDisplayFunctions.py:1290: SettingWithCopyWarning: \n",
      "A value is trying to be set on a copy of a slice from a DataFrame.\n",
      "Try using .loc[row_indexer,col_indexer] = value instead\n",
      "\n",
      "See the caveats in the documentation: https://pandas.pydata.org/pandas-docs/stable/user_guide/indexing.html#returning-a-view-versus-a-copy\n",
      "  cell_df.loc[:, 'x'] = spk_x\n",
      "/home/halechr/repos/pyPhoPlaceCellAnalysis/src/pyphoplacecellanalysis/General/Mixins/CrossComputationComparisonHelpers.py:245: RuntimeWarning: invalid value encountered in divide\n",
      "  _long_to_short_balances = (rdf.num_short_only_neuron_participating.values - rdf.num_long_only_neuron_participating.values) / (rdf.num_short_only_neuron_participating.values + rdf.num_long_only_neuron_participating.values) ## Working but (0, 1, 1) would clip to 0.5 despite (1, 13, 0) going all the way down to -1.0\n",
      "/home/halechr/repos/pyPhoPlaceCellAnalysis/src/pyphoplacecellanalysis/General/Mixins/CrossComputationComparisonHelpers.py:275: RuntimeWarning: invalid value encountered in divide\n",
      "  _long_to_short_balances = (rdf.num_short_only_neuron_participating.values - rdf.num_long_only_neuron_participating.values) / (rdf.num_short_only_neuron_participating.values + rdf.num_long_only_neuron_participating.values) ## Working but (0, 1, 1) would clip to 0.5 despite (1, 13, 0) going all the way down to -1.0\n"
     ]
    },
    {
     "name": "stdout",
     "output_type": "stream",
     "text": [
      "DEPRICATION WARNING: workaround to allow subscripting ComputationResult objects. Will be depricated. key: computed_data\n",
      "DEPRICATION WARNING: workaround to allow subscripting ComputationResult objects. Will be depricated. key: computed_data\n",
      "DEPRICATION WARNING: workaround to allow subscripting ComputationResult objects. Will be depricated. key: computed_data\n",
      "WARNING: aclu 55 is not present in the `pf1d_short` ratemaps. Which contain aclus: [4, 6, 8, 9, 11, 12, 13, 14, 15, 16, 18, 20, 24, 25, 26, 27, 28, 31, 32, 38, 39, 40, 43, 44, 47, 48, 51, 52, 53, 56, 57, 58, 59, 60, 61, 62, 63, 66, 67, 68, 69, 70, 71, 72, 75, 77, 79, 80, 81, 82, 84, 85, 87, 89, 90, 91, 92, 93, 95, 98, 100, 101, 102, 104]\n",
      "WARNING: aclu 55 is not present in the `pf1d_long` ratemaps. Which contain aclus: [2, 3, 4, 9, 11, 12, 13, 14, 15, 16, 18, 19, 20, 24, 25, 26, 27, 28, 30, 31, 32, 34, 38, 39, 40, 43, 44, 47, 48, 51, 52, 53, 56, 57, 58, 59, 60, 61, 62, 63, 66, 67, 68, 70, 71, 72, 75, 77, 79, 80, 81, 82, 83, 84, 85, 86, 87, 89, 90, 91, 92, 93, 95, 97, 98, 101, 102, 103, 104]\n",
      "WARNING: aclu 69 is not present in the `pf1d_long` ratemaps. Which contain aclus: [2, 3, 4, 9, 11, 12, 13, 14, 15, 16, 18, 19, 20, 24, 25, 26, 27, 28, 30, 31, 32, 34, 38, 39, 40, 43, 44, 47, 48, 51, 52, 53, 56, 57, 58, 59, 60, 61, 62, 63, 66, 67, 68, 70, 71, 72, 75, 77, 79, 80, 81, 82, 83, 84, 85, 86, 87, 89, 90, 91, 92, 93, 95, 97, 98, 101, 102, 103, 104]\n",
      "WARNING: aclu 100 is not present in the `pf1d_long` ratemaps. Which contain aclus: [2, 3, 4, 9, 11, 12, 13, 14, 15, 16, 18, 19, 20, 24, 25, 26, 27, 28, 30, 31, 32, 34, 38, 39, 40, 43, 44, 47, 48, 51, 52, 53, 56, 57, 58, 59, 60, 61, 62, 63, 66, 67, 68, 70, 71, 72, 75, 77, 79, 80, 81, 82, 83, 84, 85, 86, 87, 89, 90, 91, 92, 93, 95, 97, 98, 101, 102, 103, 104]\n",
      "\t saved /home/halechr/repos/Spike3D/EXTERNAL/Screenshots/ProgrammaticDisplayFunctionTesting/2024-09-26/kdiba/gor01/one/2006-6-09_1-22-43/BatchPhoJonathanReplayFRC_short_only_(16,55,62,69,100).png\n",
      "include_includelist: ['maze1_odd', 'maze2_odd', 'maze_odd', 'maze1_even', 'maze2_even', 'maze_even', 'maze1_any', 'maze2_any', 'maze_any']\n",
      "long_epoch_name: maze1_odd, short_epoch_name: maze2_odd, global_epoch_name: maze_any\n"
     ]
    },
    {
     "name": "stderr",
     "output_type": "stream",
     "text": [
      "/home/halechr/repos/pyPhoPlaceCellAnalysis/src/pyphoplacecellanalysis/General/Pipeline/Stages/DisplayFunctions/MultiContextComparingDisplayFunctions/LongShortTrackComparingDisplayFunctions.py:1290: SettingWithCopyWarning: \n",
      "A value is trying to be set on a copy of a slice from a DataFrame.\n",
      "Try using .loc[row_indexer,col_indexer] = value instead\n",
      "\n",
      "See the caveats in the documentation: https://pandas.pydata.org/pandas-docs/stable/user_guide/indexing.html#returning-a-view-versus-a-copy\n",
      "  cell_df.loc[:, 'x'] = spk_x\n",
      "/home/halechr/repos/pyPhoPlaceCellAnalysis/src/pyphoplacecellanalysis/General/Mixins/CrossComputationComparisonHelpers.py:245: RuntimeWarning: invalid value encountered in divide\n",
      "  _long_to_short_balances = (rdf.num_short_only_neuron_participating.values - rdf.num_long_only_neuron_participating.values) / (rdf.num_short_only_neuron_participating.values + rdf.num_long_only_neuron_participating.values) ## Working but (0, 1, 1) would clip to 0.5 despite (1, 13, 0) going all the way down to -1.0\n",
      "/home/halechr/repos/pyPhoPlaceCellAnalysis/src/pyphoplacecellanalysis/General/Mixins/CrossComputationComparisonHelpers.py:275: RuntimeWarning: invalid value encountered in divide\n",
      "  _long_to_short_balances = (rdf.num_short_only_neuron_participating.values - rdf.num_long_only_neuron_participating.values) / (rdf.num_short_only_neuron_participating.values + rdf.num_long_only_neuron_participating.values) ## Working but (0, 1, 1) would clip to 0.5 despite (1, 13, 0) going all the way down to -1.0\n"
     ]
    },
    {
     "name": "stdout",
     "output_type": "stream",
     "text": [
      "DEPRICATION WARNING: workaround to allow subscripting ComputationResult objects. Will be depricated. key: computed_data\n",
      "DEPRICATION WARNING: workaround to allow subscripting ComputationResult objects. Will be depricated. key: computed_data\n",
      "DEPRICATION WARNING: workaround to allow subscripting ComputationResult objects. Will be depricated. key: computed_data\n",
      "WARNING: aclu 2 is not present in the `pf1d_short` ratemaps. Which contain aclus: [4, 6, 8, 9, 11, 12, 13, 14, 15, 16, 18, 20, 24, 25, 26, 27, 28, 31, 32, 38, 39, 40, 43, 44, 47, 48, 51, 52, 53, 56, 57, 58, 59, 60, 61, 62, 63, 66, 67, 68, 69, 70, 71, 72, 75, 77, 79, 80, 81, 82, 84, 85, 87, 89, 90, 91, 92, 93, 95, 98, 100, 101, 102, 104]\n",
      "WARNING: aclu 6 is not present in the `pf1d_long` ratemaps. Which contain aclus: [2, 3, 4, 9, 11, 12, 13, 14, 15, 16, 18, 19, 20, 24, 25, 26, 27, 28, 30, 31, 32, 34, 38, 39, 40, 43, 44, 47, 48, 51, 52, 53, 56, 57, 58, 59, 60, 61, 62, 63, 66, 67, 68, 70, 71, 72, 75, 77, 79, 80, 81, 82, 83, 84, 85, 86, 87, 89, 90, 91, 92, 93, 95, 97, 98, 101, 102, 103, 104]\n",
      "WARNING: aclu 7 is not present in the `pf1d_short` ratemaps. Which contain aclus: [4, 6, 8, 9, 11, 12, 13, 14, 15, 16, 18, 20, 24, 25, 26, 27, 28, 31, 32, 38, 39, 40, 43, 44, 47, 48, 51, 52, 53, 56, 57, 58, 59, 60, 61, 62, 63, 66, 67, 68, 69, 70, 71, 72, 75, 77, 79, 80, 81, 82, 84, 85, 87, 89, 90, 91, 92, 93, 95, 98, 100, 101, 102, 104]\n",
      "WARNING: aclu 7 is not present in the `pf1d_long` ratemaps. Which contain aclus: [2, 3, 4, 9, 11, 12, 13, 14, 15, 16, 18, 19, 20, 24, 25, 26, 27, 28, 30, 31, 32, 34, 38, 39, 40, 43, 44, 47, 48, 51, 52, 53, 56, 57, 58, 59, 60, 61, 62, 63, 66, 67, 68, 70, 71, 72, 75, 77, 79, 80, 81, 82, 83, 84, 85, 86, 87, 89, 90, 91, 92, 93, 95, 97, 98, 101, 102, 103, 104]\n",
      "WARNING: aclu 8 is not present in the `pf1d_long` ratemaps. Which contain aclus: [2, 3, 4, 9, 11, 12, 13, 14, 15, 16, 18, 19, 20, 24, 25, 26, 27, 28, 30, 31, 32, 34, 38, 39, 40, 43, 44, 47, 48, 51, 52, 53, 56, 57, 58, 59, 60, 61, 62, 63, 66, 67, 68, 70, 71, 72, 75, 77, 79, 80, 81, 82, 83, 84, 85, 86, 87, 89, 90, 91, 92, 93, 95, 97, 98, 101, 102, 103, 104]\n",
      "WARNING: aclu 10 is not present in the `pf1d_short` ratemaps. Which contain aclus: [4, 6, 8, 9, 11, 12, 13, 14, 15, 16, 18, 20, 24, 25, 26, 27, 28, 31, 32, 38, 39, 40, 43, 44, 47, 48, 51, 52, 53, 56, 57, 58, 59, 60, 61, 62, 63, 66, 67, 68, 69, 70, 71, 72, 75, 77, 79, 80, 81, 82, 84, 85, 87, 89, 90, 91, 92, 93, 95, 98, 100, 101, 102, 104]\n",
      "WARNING: aclu 10 is not present in the `pf1d_long` ratemaps. Which contain aclus: [2, 3, 4, 9, 11, 12, 13, 14, 15, 16, 18, 19, 20, 24, 25, 26, 27, 28, 30, 31, 32, 34, 38, 39, 40, 43, 44, 47, 48, 51, 52, 53, 56, 57, 58, 59, 60, 61, 62, 63, 66, 67, 68, 70, 71, 72, 75, 77, 79, 80, 81, 82, 83, 84, 85, 86, 87, 89, 90, 91, 92, 93, 95, 97, 98, 101, 102, 103, 104]\n",
      "\t saved /home/halechr/repos/Spike3D/EXTERNAL/Screenshots/ProgrammaticDisplayFunctionTesting/2024-09-26/kdiba/gor01/one/2006-6-09_1-22-43/BatchPhoJonathanReplayFRC_shared_1of10_(2,4,6,7,8,9,10,11,12,13).png\n",
      "include_includelist: ['maze1_odd', 'maze2_odd', 'maze_odd', 'maze1_even', 'maze2_even', 'maze_even', 'maze1_any', 'maze2_any', 'maze_any']\n",
      "long_epoch_name: maze1_odd, short_epoch_name: maze2_odd, global_epoch_name: maze_any\n"
     ]
    },
    {
     "name": "stderr",
     "output_type": "stream",
     "text": [
      "/home/halechr/repos/pyPhoPlaceCellAnalysis/src/pyphoplacecellanalysis/General/Pipeline/Stages/DisplayFunctions/MultiContextComparingDisplayFunctions/LongShortTrackComparingDisplayFunctions.py:1290: SettingWithCopyWarning: \n",
      "A value is trying to be set on a copy of a slice from a DataFrame.\n",
      "Try using .loc[row_indexer,col_indexer] = value instead\n",
      "\n",
      "See the caveats in the documentation: https://pandas.pydata.org/pandas-docs/stable/user_guide/indexing.html#returning-a-view-versus-a-copy\n",
      "  cell_df.loc[:, 'x'] = spk_x\n",
      "/home/halechr/repos/pyPhoPlaceCellAnalysis/src/pyphoplacecellanalysis/General/Mixins/CrossComputationComparisonHelpers.py:245: RuntimeWarning: invalid value encountered in divide\n",
      "  _long_to_short_balances = (rdf.num_short_only_neuron_participating.values - rdf.num_long_only_neuron_participating.values) / (rdf.num_short_only_neuron_participating.values + rdf.num_long_only_neuron_participating.values) ## Working but (0, 1, 1) would clip to 0.5 despite (1, 13, 0) going all the way down to -1.0\n",
      "/home/halechr/repos/pyPhoPlaceCellAnalysis/src/pyphoplacecellanalysis/General/Mixins/CrossComputationComparisonHelpers.py:275: RuntimeWarning: invalid value encountered in divide\n",
      "  _long_to_short_balances = (rdf.num_short_only_neuron_participating.values - rdf.num_long_only_neuron_participating.values) / (rdf.num_short_only_neuron_participating.values + rdf.num_long_only_neuron_participating.values) ## Working but (0, 1, 1) would clip to 0.5 despite (1, 13, 0) going all the way down to -1.0\n"
     ]
    },
    {
     "name": "stdout",
     "output_type": "stream",
     "text": [
      "DEPRICATION WARNING: workaround to allow subscripting ComputationResult objects. Will be depricated. key: computed_data\n",
      "DEPRICATION WARNING: workaround to allow subscripting ComputationResult objects. Will be depricated. key: computed_data\n",
      "DEPRICATION WARNING: workaround to allow subscripting ComputationResult objects. Will be depricated. key: computed_data\n",
      "WARNING: aclu 17 is not present in the `pf1d_short` ratemaps. Which contain aclus: [4, 6, 8, 9, 11, 12, 13, 14, 15, 16, 18, 20, 24, 25, 26, 27, 28, 31, 32, 38, 39, 40, 43, 44, 47, 48, 51, 52, 53, 56, 57, 58, 59, 60, 61, 62, 63, 66, 67, 68, 69, 70, 71, 72, 75, 77, 79, 80, 81, 82, 84, 85, 87, 89, 90, 91, 92, 93, 95, 98, 100, 101, 102, 104]\n",
      "WARNING: aclu 17 is not present in the `pf1d_long` ratemaps. Which contain aclus: [2, 3, 4, 9, 11, 12, 13, 14, 15, 16, 18, 19, 20, 24, 25, 26, 27, 28, 30, 31, 32, 34, 38, 39, 40, 43, 44, 47, 48, 51, 52, 53, 56, 57, 58, 59, 60, 61, 62, 63, 66, 67, 68, 70, 71, 72, 75, 77, 79, 80, 81, 82, 83, 84, 85, 86, 87, 89, 90, 91, 92, 93, 95, 97, 98, 101, 102, 103, 104]\n",
      "WARNING: aclu 19 is not present in the `pf1d_short` ratemaps. Which contain aclus: [4, 6, 8, 9, 11, 12, 13, 14, 15, 16, 18, 20, 24, 25, 26, 27, 28, 31, 32, 38, 39, 40, 43, 44, 47, 48, 51, 52, 53, 56, 57, 58, 59, 60, 61, 62, 63, 66, 67, 68, 69, 70, 71, 72, 75, 77, 79, 80, 81, 82, 84, 85, 87, 89, 90, 91, 92, 93, 95, 98, 100, 101, 102, 104]\n",
      "WARNING: aclu 21 is not present in the `pf1d_short` ratemaps. Which contain aclus: [4, 6, 8, 9, 11, 12, 13, 14, 15, 16, 18, 20, 24, 25, 26, 27, 28, 31, 32, 38, 39, 40, 43, 44, 47, 48, 51, 52, 53, 56, 57, 58, 59, 60, 61, 62, 63, 66, 67, 68, 69, 70, 71, 72, 75, 77, 79, 80, 81, 82, 84, 85, 87, 89, 90, 91, 92, 93, 95, 98, 100, 101, 102, 104]\n",
      "WARNING: aclu 21 is not present in the `pf1d_long` ratemaps. Which contain aclus: [2, 3, 4, 9, 11, 12, 13, 14, 15, 16, 18, 19, 20, 24, 25, 26, 27, 28, 30, 31, 32, 34, 38, 39, 40, 43, 44, 47, 48, 51, 52, 53, 56, 57, 58, 59, 60, 61, 62, 63, 66, 67, 68, 70, 71, 72, 75, 77, 79, 80, 81, 82, 83, 84, 85, 86, 87, 89, 90, 91, 92, 93, 95, 97, 98, 101, 102, 103, 104]\n",
      "WARNING: aclu 22 is not present in the `pf1d_short` ratemaps. Which contain aclus: [4, 6, 8, 9, 11, 12, 13, 14, 15, 16, 18, 20, 24, 25, 26, 27, 28, 31, 32, 38, 39, 40, 43, 44, 47, 48, 51, 52, 53, 56, 57, 58, 59, 60, 61, 62, 63, 66, 67, 68, 69, 70, 71, 72, 75, 77, 79, 80, 81, 82, 84, 85, 87, 89, 90, 91, 92, 93, 95, 98, 100, 101, 102, 104]\n",
      "WARNING: aclu 22 is not present in the `pf1d_long` ratemaps. Which contain aclus: [2, 3, 4, 9, 11, 12, 13, 14, 15, 16, 18, 19, 20, 24, 25, 26, 27, 28, 30, 31, 32, 34, 38, 39, 40, 43, 44, 47, 48, 51, 52, 53, 56, 57, 58, 59, 60, 61, 62, 63, 66, 67, 68, 70, 71, 72, 75, 77, 79, 80, 81, 82, 83, 84, 85, 86, 87, 89, 90, 91, 92, 93, 95, 97, 98, 101, 102, 103, 104]\n",
      "\t saved /home/halechr/repos/Spike3D/EXTERNAL/Screenshots/ProgrammaticDisplayFunctionTesting/2024-09-26/kdiba/gor01/one/2006-6-09_1-22-43/BatchPhoJonathanReplayFRC_shared_2of10_(14,15,17,18,19,20,21,22,24,25).png\n",
      "include_includelist: ['maze1_odd', 'maze2_odd', 'maze_odd', 'maze1_even', 'maze2_even', 'maze_even', 'maze1_any', 'maze2_any', 'maze_any']\n",
      "long_epoch_name: maze1_odd, short_epoch_name: maze2_odd, global_epoch_name: maze_any\n"
     ]
    },
    {
     "name": "stderr",
     "output_type": "stream",
     "text": [
      "/home/halechr/repos/pyPhoPlaceCellAnalysis/src/pyphoplacecellanalysis/General/Pipeline/Stages/DisplayFunctions/MultiContextComparingDisplayFunctions/LongShortTrackComparingDisplayFunctions.py:1290: SettingWithCopyWarning: \n",
      "A value is trying to be set on a copy of a slice from a DataFrame.\n",
      "Try using .loc[row_indexer,col_indexer] = value instead\n",
      "\n",
      "See the caveats in the documentation: https://pandas.pydata.org/pandas-docs/stable/user_guide/indexing.html#returning-a-view-versus-a-copy\n",
      "  cell_df.loc[:, 'x'] = spk_x\n",
      "/home/halechr/repos/pyPhoPlaceCellAnalysis/src/pyphoplacecellanalysis/General/Mixins/CrossComputationComparisonHelpers.py:245: RuntimeWarning: invalid value encountered in divide\n",
      "  _long_to_short_balances = (rdf.num_short_only_neuron_participating.values - rdf.num_long_only_neuron_participating.values) / (rdf.num_short_only_neuron_participating.values + rdf.num_long_only_neuron_participating.values) ## Working but (0, 1, 1) would clip to 0.5 despite (1, 13, 0) going all the way down to -1.0\n",
      "/home/halechr/repos/pyPhoPlaceCellAnalysis/src/pyphoplacecellanalysis/General/Mixins/CrossComputationComparisonHelpers.py:275: RuntimeWarning: invalid value encountered in divide\n",
      "  _long_to_short_balances = (rdf.num_short_only_neuron_participating.values - rdf.num_long_only_neuron_participating.values) / (rdf.num_short_only_neuron_participating.values + rdf.num_long_only_neuron_participating.values) ## Working but (0, 1, 1) would clip to 0.5 despite (1, 13, 0) going all the way down to -1.0\n"
     ]
    },
    {
     "name": "stdout",
     "output_type": "stream",
     "text": [
      "DEPRICATION WARNING: workaround to allow subscripting ComputationResult objects. Will be depricated. key: computed_data\n",
      "DEPRICATION WARNING: workaround to allow subscripting ComputationResult objects. Will be depricated. key: computed_data\n",
      "DEPRICATION WARNING: workaround to allow subscripting ComputationResult objects. Will be depricated. key: computed_data\n",
      "WARNING: aclu 30 is not present in the `pf1d_short` ratemaps. Which contain aclus: [4, 6, 8, 9, 11, 12, 13, 14, 15, 16, 18, 20, 24, 25, 26, 27, 28, 31, 32, 38, 39, 40, 43, 44, 47, 48, 51, 52, 53, 56, 57, 58, 59, 60, 61, 62, 63, 66, 67, 68, 69, 70, 71, 72, 75, 77, 79, 80, 81, 82, 84, 85, 87, 89, 90, 91, 92, 93, 95, 98, 100, 101, 102, 104]\n",
      "WARNING: aclu 33 is not present in the `pf1d_short` ratemaps. Which contain aclus: [4, 6, 8, 9, 11, 12, 13, 14, 15, 16, 18, 20, 24, 25, 26, 27, 28, 31, 32, 38, 39, 40, 43, 44, 47, 48, 51, 52, 53, 56, 57, 58, 59, 60, 61, 62, 63, 66, 67, 68, 69, 70, 71, 72, 75, 77, 79, 80, 81, 82, 84, 85, 87, 89, 90, 91, 92, 93, 95, 98, 100, 101, 102, 104]\n",
      "WARNING: aclu 33 is not present in the `pf1d_long` ratemaps. Which contain aclus: [2, 3, 4, 9, 11, 12, 13, 14, 15, 16, 18, 19, 20, 24, 25, 26, 27, 28, 30, 31, 32, 34, 38, 39, 40, 43, 44, 47, 48, 51, 52, 53, 56, 57, 58, 59, 60, 61, 62, 63, 66, 67, 68, 70, 71, 72, 75, 77, 79, 80, 81, 82, 83, 84, 85, 86, 87, 89, 90, 91, 92, 93, 95, 97, 98, 101, 102, 103, 104]\n",
      "WARNING: aclu 34 is not present in the `pf1d_short` ratemaps. Which contain aclus: [4, 6, 8, 9, 11, 12, 13, 14, 15, 16, 18, 20, 24, 25, 26, 27, 28, 31, 32, 38, 39, 40, 43, 44, 47, 48, 51, 52, 53, 56, 57, 58, 59, 60, 61, 62, 63, 66, 67, 68, 69, 70, 71, 72, 75, 77, 79, 80, 81, 82, 84, 85, 87, 89, 90, 91, 92, 93, 95, 98, 100, 101, 102, 104]\n",
      "WARNING: aclu 35 is not present in the `pf1d_short` ratemaps. Which contain aclus: [4, 6, 8, 9, 11, 12, 13, 14, 15, 16, 18, 20, 24, 25, 26, 27, 28, 31, 32, 38, 39, 40, 43, 44, 47, 48, 51, 52, 53, 56, 57, 58, 59, 60, 61, 62, 63, 66, 67, 68, 69, 70, 71, 72, 75, 77, 79, 80, 81, 82, 84, 85, 87, 89, 90, 91, 92, 93, 95, 98, 100, 101, 102, 104]\n",
      "WARNING: aclu 35 is not present in the `pf1d_long` ratemaps. Which contain aclus: [2, 3, 4, 9, 11, 12, 13, 14, 15, 16, 18, 19, 20, 24, 25, 26, 27, 28, 30, 31, 32, 34, 38, 39, 40, 43, 44, 47, 48, 51, 52, 53, 56, 57, 58, 59, 60, 61, 62, 63, 66, 67, 68, 70, 71, 72, 75, 77, 79, 80, 81, 82, 83, 84, 85, 86, 87, 89, 90, 91, 92, 93, 95, 97, 98, 101, 102, 103, 104]\n",
      "WARNING: aclu 36 is not present in the `pf1d_short` ratemaps. Which contain aclus: [4, 6, 8, 9, 11, 12, 13, 14, 15, 16, 18, 20, 24, 25, 26, 27, 28, 31, 32, 38, 39, 40, 43, 44, 47, 48, 51, 52, 53, 56, 57, 58, 59, 60, 61, 62, 63, 66, 67, 68, 69, 70, 71, 72, 75, 77, 79, 80, 81, 82, 84, 85, 87, 89, 90, 91, 92, 93, 95, 98, 100, 101, 102, 104]\n",
      "WARNING: aclu 36 is not present in the `pf1d_long` ratemaps. Which contain aclus: [2, 3, 4, 9, 11, 12, 13, 14, 15, 16, 18, 19, 20, 24, 25, 26, 27, 28, 30, 31, 32, 34, 38, 39, 40, 43, 44, 47, 48, 51, 52, 53, 56, 57, 58, 59, 60, 61, 62, 63, 66, 67, 68, 70, 71, 72, 75, 77, 79, 80, 81, 82, 83, 84, 85, 86, 87, 89, 90, 91, 92, 93, 95, 97, 98, 101, 102, 103, 104]\n",
      "\t saved /home/halechr/repos/Spike3D/EXTERNAL/Screenshots/ProgrammaticDisplayFunctionTesting/2024-09-26/kdiba/gor01/one/2006-6-09_1-22-43/BatchPhoJonathanReplayFRC_shared_3of10_(26,27,28,30,31,32,33,34,35,36).png\n",
      "include_includelist: ['maze1_odd', 'maze2_odd', 'maze_odd', 'maze1_even', 'maze2_even', 'maze_even', 'maze1_any', 'maze2_any', 'maze_any']\n",
      "long_epoch_name: maze1_odd, short_epoch_name: maze2_odd, global_epoch_name: maze_any\n"
     ]
    },
    {
     "name": "stderr",
     "output_type": "stream",
     "text": [
      "/home/halechr/repos/pyPhoPlaceCellAnalysis/src/pyphoplacecellanalysis/General/Pipeline/Stages/DisplayFunctions/MultiContextComparingDisplayFunctions/LongShortTrackComparingDisplayFunctions.py:1290: SettingWithCopyWarning: \n",
      "A value is trying to be set on a copy of a slice from a DataFrame.\n",
      "Try using .loc[row_indexer,col_indexer] = value instead\n",
      "\n",
      "See the caveats in the documentation: https://pandas.pydata.org/pandas-docs/stable/user_guide/indexing.html#returning-a-view-versus-a-copy\n",
      "  cell_df.loc[:, 'x'] = spk_x\n",
      "/home/halechr/repos/pyPhoPlaceCellAnalysis/src/pyphoplacecellanalysis/General/Mixins/CrossComputationComparisonHelpers.py:245: RuntimeWarning: invalid value encountered in divide\n",
      "  _long_to_short_balances = (rdf.num_short_only_neuron_participating.values - rdf.num_long_only_neuron_participating.values) / (rdf.num_short_only_neuron_participating.values + rdf.num_long_only_neuron_participating.values) ## Working but (0, 1, 1) would clip to 0.5 despite (1, 13, 0) going all the way down to -1.0\n",
      "/home/halechr/repos/pyPhoPlaceCellAnalysis/src/pyphoplacecellanalysis/General/Mixins/CrossComputationComparisonHelpers.py:275: RuntimeWarning: invalid value encountered in divide\n",
      "  _long_to_short_balances = (rdf.num_short_only_neuron_participating.values - rdf.num_long_only_neuron_participating.values) / (rdf.num_short_only_neuron_participating.values + rdf.num_long_only_neuron_participating.values) ## Working but (0, 1, 1) would clip to 0.5 despite (1, 13, 0) going all the way down to -1.0\n"
     ]
    },
    {
     "name": "stdout",
     "output_type": "stream",
     "text": [
      "DEPRICATION WARNING: workaround to allow subscripting ComputationResult objects. Will be depricated. key: computed_data\n",
      "DEPRICATION WARNING: workaround to allow subscripting ComputationResult objects. Will be depricated. key: computed_data\n",
      "DEPRICATION WARNING: workaround to allow subscripting ComputationResult objects. Will be depricated. key: computed_data\n",
      "WARNING: aclu 37 is not present in the `pf1d_short` ratemaps. Which contain aclus: [4, 6, 8, 9, 11, 12, 13, 14, 15, 16, 18, 20, 24, 25, 26, 27, 28, 31, 32, 38, 39, 40, 43, 44, 47, 48, 51, 52, 53, 56, 57, 58, 59, 60, 61, 62, 63, 66, 67, 68, 69, 70, 71, 72, 75, 77, 79, 80, 81, 82, 84, 85, 87, 89, 90, 91, 92, 93, 95, 98, 100, 101, 102, 104]\n",
      "WARNING: aclu 37 is not present in the `pf1d_long` ratemaps. Which contain aclus: [2, 3, 4, 9, 11, 12, 13, 14, 15, 16, 18, 19, 20, 24, 25, 26, 27, 28, 30, 31, 32, 34, 38, 39, 40, 43, 44, 47, 48, 51, 52, 53, 56, 57, 58, 59, 60, 61, 62, 63, 66, 67, 68, 70, 71, 72, 75, 77, 79, 80, 81, 82, 83, 84, 85, 86, 87, 89, 90, 91, 92, 93, 95, 97, 98, 101, 102, 103, 104]\n",
      "WARNING: aclu 41 is not present in the `pf1d_short` ratemaps. Which contain aclus: [4, 6, 8, 9, 11, 12, 13, 14, 15, 16, 18, 20, 24, 25, 26, 27, 28, 31, 32, 38, 39, 40, 43, 44, 47, 48, 51, 52, 53, 56, 57, 58, 59, 60, 61, 62, 63, 66, 67, 68, 69, 70, 71, 72, 75, 77, 79, 80, 81, 82, 84, 85, 87, 89, 90, 91, 92, 93, 95, 98, 100, 101, 102, 104]\n",
      "WARNING: aclu 41 is not present in the `pf1d_long` ratemaps. Which contain aclus: [2, 3, 4, 9, 11, 12, 13, 14, 15, 16, 18, 19, 20, 24, 25, 26, 27, 28, 30, 31, 32, 34, 38, 39, 40, 43, 44, 47, 48, 51, 52, 53, 56, 57, 58, 59, 60, 61, 62, 63, 66, 67, 68, 70, 71, 72, 75, 77, 79, 80, 81, 82, 83, 84, 85, 86, 87, 89, 90, 91, 92, 93, 95, 97, 98, 101, 102, 103, 104]\n",
      "WARNING: aclu 42 is not present in the `pf1d_short` ratemaps. Which contain aclus: [4, 6, 8, 9, 11, 12, 13, 14, 15, 16, 18, 20, 24, 25, 26, 27, 28, 31, 32, 38, 39, 40, 43, 44, 47, 48, 51, 52, 53, 56, 57, 58, 59, 60, 61, 62, 63, 66, 67, 68, 69, 70, 71, 72, 75, 77, 79, 80, 81, 82, 84, 85, 87, 89, 90, 91, 92, 93, 95, 98, 100, 101, 102, 104]\n",
      "WARNING: aclu 42 is not present in the `pf1d_long` ratemaps. Which contain aclus: [2, 3, 4, 9, 11, 12, 13, 14, 15, 16, 18, 19, 20, 24, 25, 26, 27, 28, 30, 31, 32, 34, 38, 39, 40, 43, 44, 47, 48, 51, 52, 53, 56, 57, 58, 59, 60, 61, 62, 63, 66, 67, 68, 70, 71, 72, 75, 77, 79, 80, 81, 82, 83, 84, 85, 86, 87, 89, 90, 91, 92, 93, 95, 97, 98, 101, 102, 103, 104]\n",
      "WARNING: aclu 45 is not present in the `pf1d_short` ratemaps. Which contain aclus: [4, 6, 8, 9, 11, 12, 13, 14, 15, 16, 18, 20, 24, 25, 26, 27, 28, 31, 32, 38, 39, 40, 43, 44, 47, 48, 51, 52, 53, 56, 57, 58, 59, 60, 61, 62, 63, 66, 67, 68, 69, 70, 71, 72, 75, 77, 79, 80, 81, 82, 84, 85, 87, 89, 90, 91, 92, 93, 95, 98, 100, 101, 102, 104]\n",
      "WARNING: aclu 45 is not present in the `pf1d_long` ratemaps. Which contain aclus: [2, 3, 4, 9, 11, 12, 13, 14, 15, 16, 18, 19, 20, 24, 25, 26, 27, 28, 30, 31, 32, 34, 38, 39, 40, 43, 44, 47, 48, 51, 52, 53, 56, 57, 58, 59, 60, 61, 62, 63, 66, 67, 68, 70, 71, 72, 75, 77, 79, 80, 81, 82, 83, 84, 85, 86, 87, 89, 90, 91, 92, 93, 95, 97, 98, 101, 102, 103, 104]\n",
      "WARNING: aclu 46 is not present in the `pf1d_short` ratemaps. Which contain aclus: [4, 6, 8, 9, 11, 12, 13, 14, 15, 16, 18, 20, 24, 25, 26, 27, 28, 31, 32, 38, 39, 40, 43, 44, 47, 48, 51, 52, 53, 56, 57, 58, 59, 60, 61, 62, 63, 66, 67, 68, 69, 70, 71, 72, 75, 77, 79, 80, 81, 82, 84, 85, 87, 89, 90, 91, 92, 93, 95, 98, 100, 101, 102, 104]\n",
      "WARNING: aclu 46 is not present in the `pf1d_long` ratemaps. Which contain aclus: [2, 3, 4, 9, 11, 12, 13, 14, 15, 16, 18, 19, 20, 24, 25, 26, 27, 28, 30, 31, 32, 34, 38, 39, 40, 43, 44, 47, 48, 51, 52, 53, 56, 57, 58, 59, 60, 61, 62, 63, 66, 67, 68, 70, 71, 72, 75, 77, 79, 80, 81, 82, 83, 84, 85, 86, 87, 89, 90, 91, 92, 93, 95, 97, 98, 101, 102, 103, 104]\n",
      "\t saved /home/halechr/repos/Spike3D/EXTERNAL/Screenshots/ProgrammaticDisplayFunctionTesting/2024-09-26/kdiba/gor01/one/2006-6-09_1-22-43/BatchPhoJonathanReplayFRC_shared_4of10_(37,39,40,41,42,43,44,45,46,47).png\n",
      "include_includelist: ['maze1_odd', 'maze2_odd', 'maze_odd', 'maze1_even', 'maze2_even', 'maze_even', 'maze1_any', 'maze2_any', 'maze_any']\n",
      "long_epoch_name: maze1_odd, short_epoch_name: maze2_odd, global_epoch_name: maze_any\n"
     ]
    },
    {
     "name": "stderr",
     "output_type": "stream",
     "text": [
      "/home/halechr/repos/pyPhoPlaceCellAnalysis/src/pyphoplacecellanalysis/General/Pipeline/Stages/DisplayFunctions/MultiContextComparingDisplayFunctions/LongShortTrackComparingDisplayFunctions.py:1290: SettingWithCopyWarning: \n",
      "A value is trying to be set on a copy of a slice from a DataFrame.\n",
      "Try using .loc[row_indexer,col_indexer] = value instead\n",
      "\n",
      "See the caveats in the documentation: https://pandas.pydata.org/pandas-docs/stable/user_guide/indexing.html#returning-a-view-versus-a-copy\n",
      "  cell_df.loc[:, 'x'] = spk_x\n",
      "/home/halechr/repos/pyPhoPlaceCellAnalysis/src/pyphoplacecellanalysis/General/Mixins/CrossComputationComparisonHelpers.py:245: RuntimeWarning: invalid value encountered in divide\n",
      "  _long_to_short_balances = (rdf.num_short_only_neuron_participating.values - rdf.num_long_only_neuron_participating.values) / (rdf.num_short_only_neuron_participating.values + rdf.num_long_only_neuron_participating.values) ## Working but (0, 1, 1) would clip to 0.5 despite (1, 13, 0) going all the way down to -1.0\n",
      "/home/halechr/repos/pyPhoPlaceCellAnalysis/src/pyphoplacecellanalysis/General/Mixins/CrossComputationComparisonHelpers.py:275: RuntimeWarning: invalid value encountered in divide\n",
      "  _long_to_short_balances = (rdf.num_short_only_neuron_participating.values - rdf.num_long_only_neuron_participating.values) / (rdf.num_short_only_neuron_participating.values + rdf.num_long_only_neuron_participating.values) ## Working but (0, 1, 1) would clip to 0.5 despite (1, 13, 0) going all the way down to -1.0\n"
     ]
    },
    {
     "name": "stdout",
     "output_type": "stream",
     "text": [
      "DEPRICATION WARNING: workaround to allow subscripting ComputationResult objects. Will be depricated. key: computed_data\n",
      "DEPRICATION WARNING: workaround to allow subscripting ComputationResult objects. Will be depricated. key: computed_data\n",
      "DEPRICATION WARNING: workaround to allow subscripting ComputationResult objects. Will be depricated. key: computed_data\n",
      "WARNING: aclu 49 is not present in the `pf1d_short` ratemaps. Which contain aclus: [4, 6, 8, 9, 11, 12, 13, 14, 15, 16, 18, 20, 24, 25, 26, 27, 28, 31, 32, 38, 39, 40, 43, 44, 47, 48, 51, 52, 53, 56, 57, 58, 59, 60, 61, 62, 63, 66, 67, 68, 69, 70, 71, 72, 75, 77, 79, 80, 81, 82, 84, 85, 87, 89, 90, 91, 92, 93, 95, 98, 100, 101, 102, 104]\n",
      "WARNING: aclu 49 is not present in the `pf1d_long` ratemaps. Which contain aclus: [2, 3, 4, 9, 11, 12, 13, 14, 15, 16, 18, 19, 20, 24, 25, 26, 27, 28, 30, 31, 32, 34, 38, 39, 40, 43, 44, 47, 48, 51, 52, 53, 56, 57, 58, 59, 60, 61, 62, 63, 66, 67, 68, 70, 71, 72, 75, 77, 79, 80, 81, 82, 83, 84, 85, 86, 87, 89, 90, 91, 92, 93, 95, 97, 98, 101, 102, 103, 104]\n",
      "WARNING: aclu 50 is not present in the `pf1d_short` ratemaps. Which contain aclus: [4, 6, 8, 9, 11, 12, 13, 14, 15, 16, 18, 20, 24, 25, 26, 27, 28, 31, 32, 38, 39, 40, 43, 44, 47, 48, 51, 52, 53, 56, 57, 58, 59, 60, 61, 62, 63, 66, 67, 68, 69, 70, 71, 72, 75, 77, 79, 80, 81, 82, 84, 85, 87, 89, 90, 91, 92, 93, 95, 98, 100, 101, 102, 104]\n",
      "WARNING: aclu 50 is not present in the `pf1d_long` ratemaps. Which contain aclus: [2, 3, 4, 9, 11, 12, 13, 14, 15, 16, 18, 19, 20, 24, 25, 26, 27, 28, 30, 31, 32, 34, 38, 39, 40, 43, 44, 47, 48, 51, 52, 53, 56, 57, 58, 59, 60, 61, 62, 63, 66, 67, 68, 70, 71, 72, 75, 77, 79, 80, 81, 82, 83, 84, 85, 86, 87, 89, 90, 91, 92, 93, 95, 97, 98, 101, 102, 103, 104]\n",
      "WARNING: aclu 54 is not present in the `pf1d_short` ratemaps. Which contain aclus: [4, 6, 8, 9, 11, 12, 13, 14, 15, 16, 18, 20, 24, 25, 26, 27, 28, 31, 32, 38, 39, 40, 43, 44, 47, 48, 51, 52, 53, 56, 57, 58, 59, 60, 61, 62, 63, 66, 67, 68, 69, 70, 71, 72, 75, 77, 79, 80, 81, 82, 84, 85, 87, 89, 90, 91, 92, 93, 95, 98, 100, 101, 102, 104]\n",
      "WARNING: aclu 54 is not present in the `pf1d_long` ratemaps. Which contain aclus: [2, 3, 4, 9, 11, 12, 13, 14, 15, 16, 18, 19, 20, 24, 25, 26, 27, 28, 30, 31, 32, 34, 38, 39, 40, 43, 44, 47, 48, 51, 52, 53, 56, 57, 58, 59, 60, 61, 62, 63, 66, 67, 68, 70, 71, 72, 75, 77, 79, 80, 81, 82, 83, 84, 85, 86, 87, 89, 90, 91, 92, 93, 95, 97, 98, 101, 102, 103, 104]\n",
      "\t saved /home/halechr/repos/Spike3D/EXTERNAL/Screenshots/ProgrammaticDisplayFunctionTesting/2024-09-26/kdiba/gor01/one/2006-6-09_1-22-43/BatchPhoJonathanReplayFRC_shared_5of10_(48,49,50,51,52,53,54,56,57,58).png\n",
      "include_includelist: ['maze1_odd', 'maze2_odd', 'maze_odd', 'maze1_even', 'maze2_even', 'maze_even', 'maze1_any', 'maze2_any', 'maze_any']\n",
      "long_epoch_name: maze1_odd, short_epoch_name: maze2_odd, global_epoch_name: maze_any\n"
     ]
    },
    {
     "name": "stderr",
     "output_type": "stream",
     "text": [
      "/home/halechr/repos/pyPhoPlaceCellAnalysis/src/pyphoplacecellanalysis/General/Pipeline/Stages/DisplayFunctions/MultiContextComparingDisplayFunctions/LongShortTrackComparingDisplayFunctions.py:1290: SettingWithCopyWarning: \n",
      "A value is trying to be set on a copy of a slice from a DataFrame.\n",
      "Try using .loc[row_indexer,col_indexer] = value instead\n",
      "\n",
      "See the caveats in the documentation: https://pandas.pydata.org/pandas-docs/stable/user_guide/indexing.html#returning-a-view-versus-a-copy\n",
      "  cell_df.loc[:, 'x'] = spk_x\n",
      "/home/halechr/repos/pyPhoPlaceCellAnalysis/src/pyphoplacecellanalysis/General/Mixins/CrossComputationComparisonHelpers.py:245: RuntimeWarning: invalid value encountered in divide\n",
      "  _long_to_short_balances = (rdf.num_short_only_neuron_participating.values - rdf.num_long_only_neuron_participating.values) / (rdf.num_short_only_neuron_participating.values + rdf.num_long_only_neuron_participating.values) ## Working but (0, 1, 1) would clip to 0.5 despite (1, 13, 0) going all the way down to -1.0\n",
      "/home/halechr/repos/pyPhoPlaceCellAnalysis/src/pyphoplacecellanalysis/General/Mixins/CrossComputationComparisonHelpers.py:275: RuntimeWarning: invalid value encountered in divide\n",
      "  _long_to_short_balances = (rdf.num_short_only_neuron_participating.values - rdf.num_long_only_neuron_participating.values) / (rdf.num_short_only_neuron_participating.values + rdf.num_long_only_neuron_participating.values) ## Working but (0, 1, 1) would clip to 0.5 despite (1, 13, 0) going all the way down to -1.0\n"
     ]
    },
    {
     "name": "stdout",
     "output_type": "stream",
     "text": [
      "DEPRICATION WARNING: workaround to allow subscripting ComputationResult objects. Will be depricated. key: computed_data\n",
      "DEPRICATION WARNING: workaround to allow subscripting ComputationResult objects. Will be depricated. key: computed_data\n",
      "DEPRICATION WARNING: workaround to allow subscripting ComputationResult objects. Will be depricated. key: computed_data\n",
      "WARNING: aclu 64 is not present in the `pf1d_short` ratemaps. Which contain aclus: [4, 6, 8, 9, 11, 12, 13, 14, 15, 16, 18, 20, 24, 25, 26, 27, 28, 31, 32, 38, 39, 40, 43, 44, 47, 48, 51, 52, 53, 56, 57, 58, 59, 60, 61, 62, 63, 66, 67, 68, 69, 70, 71, 72, 75, 77, 79, 80, 81, 82, 84, 85, 87, 89, 90, 91, 92, 93, 95, 98, 100, 101, 102, 104]\n",
      "WARNING: aclu 64 is not present in the `pf1d_long` ratemaps. Which contain aclus: [2, 3, 4, 9, 11, 12, 13, 14, 15, 16, 18, 19, 20, 24, 25, 26, 27, 28, 30, 31, 32, 34, 38, 39, 40, 43, 44, 47, 48, 51, 52, 53, 56, 57, 58, 59, 60, 61, 62, 63, 66, 67, 68, 70, 71, 72, 75, 77, 79, 80, 81, 82, 83, 84, 85, 86, 87, 89, 90, 91, 92, 93, 95, 97, 98, 101, 102, 103, 104]\n",
      "WARNING: aclu 65 is not present in the `pf1d_short` ratemaps. Which contain aclus: [4, 6, 8, 9, 11, 12, 13, 14, 15, 16, 18, 20, 24, 25, 26, 27, 28, 31, 32, 38, 39, 40, 43, 44, 47, 48, 51, 52, 53, 56, 57, 58, 59, 60, 61, 62, 63, 66, 67, 68, 69, 70, 71, 72, 75, 77, 79, 80, 81, 82, 84, 85, 87, 89, 90, 91, 92, 93, 95, 98, 100, 101, 102, 104]\n",
      "WARNING: aclu 65 is not present in the `pf1d_long` ratemaps. Which contain aclus: [2, 3, 4, 9, 11, 12, 13, 14, 15, 16, 18, 19, 20, 24, 25, 26, 27, 28, 30, 31, 32, 34, 38, 39, 40, 43, 44, 47, 48, 51, 52, 53, 56, 57, 58, 59, 60, 61, 62, 63, 66, 67, 68, 70, 71, 72, 75, 77, 79, 80, 81, 82, 83, 84, 85, 86, 87, 89, 90, 91, 92, 93, 95, 97, 98, 101, 102, 103, 104]\n",
      "\t saved /home/halechr/repos/Spike3D/EXTERNAL/Screenshots/ProgrammaticDisplayFunctionTesting/2024-09-26/kdiba/gor01/one/2006-6-09_1-22-43/BatchPhoJonathanReplayFRC_shared_6of10_(59,60,61,64,65,66,67,68,70,71).png\n",
      "include_includelist: ['maze1_odd', 'maze2_odd', 'maze_odd', 'maze1_even', 'maze2_even', 'maze_even', 'maze1_any', 'maze2_any', 'maze_any']\n",
      "long_epoch_name: maze1_odd, short_epoch_name: maze2_odd, global_epoch_name: maze_any\n"
     ]
    },
    {
     "name": "stderr",
     "output_type": "stream",
     "text": [
      "/home/halechr/repos/pyPhoPlaceCellAnalysis/src/pyphoplacecellanalysis/General/Pipeline/Stages/DisplayFunctions/MultiContextComparingDisplayFunctions/LongShortTrackComparingDisplayFunctions.py:1290: SettingWithCopyWarning: \n",
      "A value is trying to be set on a copy of a slice from a DataFrame.\n",
      "Try using .loc[row_indexer,col_indexer] = value instead\n",
      "\n",
      "See the caveats in the documentation: https://pandas.pydata.org/pandas-docs/stable/user_guide/indexing.html#returning-a-view-versus-a-copy\n",
      "  cell_df.loc[:, 'x'] = spk_x\n",
      "/home/halechr/repos/pyPhoPlaceCellAnalysis/src/pyphoplacecellanalysis/General/Mixins/CrossComputationComparisonHelpers.py:245: RuntimeWarning: invalid value encountered in divide\n",
      "  _long_to_short_balances = (rdf.num_short_only_neuron_participating.values - rdf.num_long_only_neuron_participating.values) / (rdf.num_short_only_neuron_participating.values + rdf.num_long_only_neuron_participating.values) ## Working but (0, 1, 1) would clip to 0.5 despite (1, 13, 0) going all the way down to -1.0\n",
      "/home/halechr/repos/pyPhoPlaceCellAnalysis/src/pyphoplacecellanalysis/General/Mixins/CrossComputationComparisonHelpers.py:275: RuntimeWarning: invalid value encountered in divide\n",
      "  _long_to_short_balances = (rdf.num_short_only_neuron_participating.values - rdf.num_long_only_neuron_participating.values) / (rdf.num_short_only_neuron_participating.values + rdf.num_long_only_neuron_participating.values) ## Working but (0, 1, 1) would clip to 0.5 despite (1, 13, 0) going all the way down to -1.0\n"
     ]
    },
    {
     "name": "stdout",
     "output_type": "stream",
     "text": [
      "DEPRICATION WARNING: workaround to allow subscripting ComputationResult objects. Will be depricated. key: computed_data\n",
      "DEPRICATION WARNING: workaround to allow subscripting ComputationResult objects. Will be depricated. key: computed_data\n",
      "DEPRICATION WARNING: workaround to allow subscripting ComputationResult objects. Will be depricated. key: computed_data\n",
      "WARNING: aclu 73 is not present in the `pf1d_short` ratemaps. Which contain aclus: [4, 6, 8, 9, 11, 12, 13, 14, 15, 16, 18, 20, 24, 25, 26, 27, 28, 31, 32, 38, 39, 40, 43, 44, 47, 48, 51, 52, 53, 56, 57, 58, 59, 60, 61, 62, 63, 66, 67, 68, 69, 70, 71, 72, 75, 77, 79, 80, 81, 82, 84, 85, 87, 89, 90, 91, 92, 93, 95, 98, 100, 101, 102, 104]\n",
      "WARNING: aclu 73 is not present in the `pf1d_long` ratemaps. Which contain aclus: [2, 3, 4, 9, 11, 12, 13, 14, 15, 16, 18, 19, 20, 24, 25, 26, 27, 28, 30, 31, 32, 34, 38, 39, 40, 43, 44, 47, 48, 51, 52, 53, 56, 57, 58, 59, 60, 61, 62, 63, 66, 67, 68, 70, 71, 72, 75, 77, 79, 80, 81, 82, 83, 84, 85, 86, 87, 89, 90, 91, 92, 93, 95, 97, 98, 101, 102, 103, 104]\n",
      "WARNING: aclu 74 is not present in the `pf1d_short` ratemaps. Which contain aclus: [4, 6, 8, 9, 11, 12, 13, 14, 15, 16, 18, 20, 24, 25, 26, 27, 28, 31, 32, 38, 39, 40, 43, 44, 47, 48, 51, 52, 53, 56, 57, 58, 59, 60, 61, 62, 63, 66, 67, 68, 69, 70, 71, 72, 75, 77, 79, 80, 81, 82, 84, 85, 87, 89, 90, 91, 92, 93, 95, 98, 100, 101, 102, 104]\n",
      "WARNING: aclu 74 is not present in the `pf1d_long` ratemaps. Which contain aclus: [2, 3, 4, 9, 11, 12, 13, 14, 15, 16, 18, 19, 20, 24, 25, 26, 27, 28, 30, 31, 32, 34, 38, 39, 40, 43, 44, 47, 48, 51, 52, 53, 56, 57, 58, 59, 60, 61, 62, 63, 66, 67, 68, 70, 71, 72, 75, 77, 79, 80, 81, 82, 83, 84, 85, 86, 87, 89, 90, 91, 92, 93, 95, 97, 98, 101, 102, 103, 104]\n",
      "WARNING: aclu 76 is not present in the `pf1d_short` ratemaps. Which contain aclus: [4, 6, 8, 9, 11, 12, 13, 14, 15, 16, 18, 20, 24, 25, 26, 27, 28, 31, 32, 38, 39, 40, 43, 44, 47, 48, 51, 52, 53, 56, 57, 58, 59, 60, 61, 62, 63, 66, 67, 68, 69, 70, 71, 72, 75, 77, 79, 80, 81, 82, 84, 85, 87, 89, 90, 91, 92, 93, 95, 98, 100, 101, 102, 104]\n",
      "WARNING: aclu 76 is not present in the `pf1d_long` ratemaps. Which contain aclus: [2, 3, 4, 9, 11, 12, 13, 14, 15, 16, 18, 19, 20, 24, 25, 26, 27, 28, 30, 31, 32, 34, 38, 39, 40, 43, 44, 47, 48, 51, 52, 53, 56, 57, 58, 59, 60, 61, 62, 63, 66, 67, 68, 70, 71, 72, 75, 77, 79, 80, 81, 82, 83, 84, 85, 86, 87, 89, 90, 91, 92, 93, 95, 97, 98, 101, 102, 103, 104]\n",
      "WARNING: aclu 78 is not present in the `pf1d_short` ratemaps. Which contain aclus: [4, 6, 8, 9, 11, 12, 13, 14, 15, 16, 18, 20, 24, 25, 26, 27, 28, 31, 32, 38, 39, 40, 43, 44, 47, 48, 51, 52, 53, 56, 57, 58, 59, 60, 61, 62, 63, 66, 67, 68, 69, 70, 71, 72, 75, 77, 79, 80, 81, 82, 84, 85, 87, 89, 90, 91, 92, 93, 95, 98, 100, 101, 102, 104]\n",
      "WARNING: aclu 78 is not present in the `pf1d_long` ratemaps. Which contain aclus: [2, 3, 4, 9, 11, 12, 13, 14, 15, 16, 18, 19, 20, 24, 25, 26, 27, 28, 30, 31, 32, 34, 38, 39, 40, 43, 44, 47, 48, 51, 52, 53, 56, 57, 58, 59, 60, 61, 62, 63, 66, 67, 68, 70, 71, 72, 75, 77, 79, 80, 81, 82, 83, 84, 85, 86, 87, 89, 90, 91, 92, 93, 95, 97, 98, 101, 102, 103, 104]\n",
      "\t saved /home/halechr/repos/Spike3D/EXTERNAL/Screenshots/ProgrammaticDisplayFunctionTesting/2024-09-26/kdiba/gor01/one/2006-6-09_1-22-43/BatchPhoJonathanReplayFRC_shared_7of10_(72,73,74,75,76,77,78,79,80,81).png\n",
      "include_includelist: ['maze1_odd', 'maze2_odd', 'maze_odd', 'maze1_even', 'maze2_even', 'maze_even', 'maze1_any', 'maze2_any', 'maze_any']\n",
      "long_epoch_name: maze1_odd, short_epoch_name: maze2_odd, global_epoch_name: maze_any\n"
     ]
    },
    {
     "name": "stderr",
     "output_type": "stream",
     "text": [
      "/home/halechr/repos/pyPhoPlaceCellAnalysis/src/pyphoplacecellanalysis/General/Pipeline/Stages/DisplayFunctions/MultiContextComparingDisplayFunctions/LongShortTrackComparingDisplayFunctions.py:1290: SettingWithCopyWarning: \n",
      "A value is trying to be set on a copy of a slice from a DataFrame.\n",
      "Try using .loc[row_indexer,col_indexer] = value instead\n",
      "\n",
      "See the caveats in the documentation: https://pandas.pydata.org/pandas-docs/stable/user_guide/indexing.html#returning-a-view-versus-a-copy\n",
      "  cell_df.loc[:, 'x'] = spk_x\n",
      "/home/halechr/repos/pyPhoPlaceCellAnalysis/src/pyphoplacecellanalysis/General/Mixins/CrossComputationComparisonHelpers.py:245: RuntimeWarning: invalid value encountered in divide\n",
      "  _long_to_short_balances = (rdf.num_short_only_neuron_participating.values - rdf.num_long_only_neuron_participating.values) / (rdf.num_short_only_neuron_participating.values + rdf.num_long_only_neuron_participating.values) ## Working but (0, 1, 1) would clip to 0.5 despite (1, 13, 0) going all the way down to -1.0\n",
      "/home/halechr/repos/pyPhoPlaceCellAnalysis/src/pyphoplacecellanalysis/General/Mixins/CrossComputationComparisonHelpers.py:275: RuntimeWarning: invalid value encountered in divide\n",
      "  _long_to_short_balances = (rdf.num_short_only_neuron_participating.values - rdf.num_long_only_neuron_participating.values) / (rdf.num_short_only_neuron_participating.values + rdf.num_long_only_neuron_participating.values) ## Working but (0, 1, 1) would clip to 0.5 despite (1, 13, 0) going all the way down to -1.0\n"
     ]
    },
    {
     "name": "stdout",
     "output_type": "stream",
     "text": [
      "DEPRICATION WARNING: workaround to allow subscripting ComputationResult objects. Will be depricated. key: computed_data\n",
      "DEPRICATION WARNING: workaround to allow subscripting ComputationResult objects. Will be depricated. key: computed_data\n",
      "DEPRICATION WARNING: workaround to allow subscripting ComputationResult objects. Will be depricated. key: computed_data\n",
      "WARNING: aclu 83 is not present in the `pf1d_short` ratemaps. Which contain aclus: [4, 6, 8, 9, 11, 12, 13, 14, 15, 16, 18, 20, 24, 25, 26, 27, 28, 31, 32, 38, 39, 40, 43, 44, 47, 48, 51, 52, 53, 56, 57, 58, 59, 60, 61, 62, 63, 66, 67, 68, 69, 70, 71, 72, 75, 77, 79, 80, 81, 82, 84, 85, 87, 89, 90, 91, 92, 93, 95, 98, 100, 101, 102, 104]\n",
      "WARNING: aclu 86 is not present in the `pf1d_short` ratemaps. Which contain aclus: [4, 6, 8, 9, 11, 12, 13, 14, 15, 16, 18, 20, 24, 25, 26, 27, 28, 31, 32, 38, 39, 40, 43, 44, 47, 48, 51, 52, 53, 56, 57, 58, 59, 60, 61, 62, 63, 66, 67, 68, 69, 70, 71, 72, 75, 77, 79, 80, 81, 82, 84, 85, 87, 89, 90, 91, 92, 93, 95, 98, 100, 101, 102, 104]\n",
      "WARNING: aclu 88 is not present in the `pf1d_short` ratemaps. Which contain aclus: [4, 6, 8, 9, 11, 12, 13, 14, 15, 16, 18, 20, 24, 25, 26, 27, 28, 31, 32, 38, 39, 40, 43, 44, 47, 48, 51, 52, 53, 56, 57, 58, 59, 60, 61, 62, 63, 66, 67, 68, 69, 70, 71, 72, 75, 77, 79, 80, 81, 82, 84, 85, 87, 89, 90, 91, 92, 93, 95, 98, 100, 101, 102, 104]\n",
      "WARNING: aclu 88 is not present in the `pf1d_long` ratemaps. Which contain aclus: [2, 3, 4, 9, 11, 12, 13, 14, 15, 16, 18, 19, 20, 24, 25, 26, 27, 28, 30, 31, 32, 34, 38, 39, 40, 43, 44, 47, 48, 51, 52, 53, 56, 57, 58, 59, 60, 61, 62, 63, 66, 67, 68, 70, 71, 72, 75, 77, 79, 80, 81, 82, 83, 84, 85, 86, 87, 89, 90, 91, 92, 93, 95, 97, 98, 101, 102, 103, 104]\n",
      "\t saved /home/halechr/repos/Spike3D/EXTERNAL/Screenshots/ProgrammaticDisplayFunctionTesting/2024-09-26/kdiba/gor01/one/2006-6-09_1-22-43/BatchPhoJonathanReplayFRC_shared_8of10_(82,83,84,85,86,87,88,89,90,91).png\n",
      "include_includelist: ['maze1_odd', 'maze2_odd', 'maze_odd', 'maze1_even', 'maze2_even', 'maze_even', 'maze1_any', 'maze2_any', 'maze_any']\n",
      "long_epoch_name: maze1_odd, short_epoch_name: maze2_odd, global_epoch_name: maze_any\n"
     ]
    },
    {
     "name": "stderr",
     "output_type": "stream",
     "text": [
      "/home/halechr/repos/pyPhoPlaceCellAnalysis/src/pyphoplacecellanalysis/General/Pipeline/Stages/DisplayFunctions/MultiContextComparingDisplayFunctions/LongShortTrackComparingDisplayFunctions.py:1290: SettingWithCopyWarning: \n",
      "A value is trying to be set on a copy of a slice from a DataFrame.\n",
      "Try using .loc[row_indexer,col_indexer] = value instead\n",
      "\n",
      "See the caveats in the documentation: https://pandas.pydata.org/pandas-docs/stable/user_guide/indexing.html#returning-a-view-versus-a-copy\n",
      "  cell_df.loc[:, 'x'] = spk_x\n",
      "/home/halechr/repos/pyPhoPlaceCellAnalysis/src/pyphoplacecellanalysis/General/Mixins/CrossComputationComparisonHelpers.py:245: RuntimeWarning: invalid value encountered in divide\n",
      "  _long_to_short_balances = (rdf.num_short_only_neuron_participating.values - rdf.num_long_only_neuron_participating.values) / (rdf.num_short_only_neuron_participating.values + rdf.num_long_only_neuron_participating.values) ## Working but (0, 1, 1) would clip to 0.5 despite (1, 13, 0) going all the way down to -1.0\n",
      "/home/halechr/repos/pyPhoPlaceCellAnalysis/src/pyphoplacecellanalysis/General/Mixins/CrossComputationComparisonHelpers.py:275: RuntimeWarning: invalid value encountered in divide\n",
      "  _long_to_short_balances = (rdf.num_short_only_neuron_participating.values - rdf.num_long_only_neuron_participating.values) / (rdf.num_short_only_neuron_participating.values + rdf.num_long_only_neuron_participating.values) ## Working but (0, 1, 1) would clip to 0.5 despite (1, 13, 0) going all the way down to -1.0\n"
     ]
    },
    {
     "name": "stdout",
     "output_type": "stream",
     "text": [
      "DEPRICATION WARNING: workaround to allow subscripting ComputationResult objects. Will be depricated. key: computed_data\n",
      "DEPRICATION WARNING: workaround to allow subscripting ComputationResult objects. Will be depricated. key: computed_data\n",
      "DEPRICATION WARNING: workaround to allow subscripting ComputationResult objects. Will be depricated. key: computed_data\n",
      "WARNING: aclu 94 is not present in the `pf1d_short` ratemaps. Which contain aclus: [4, 6, 8, 9, 11, 12, 13, 14, 15, 16, 18, 20, 24, 25, 26, 27, 28, 31, 32, 38, 39, 40, 43, 44, 47, 48, 51, 52, 53, 56, 57, 58, 59, 60, 61, 62, 63, 66, 67, 68, 69, 70, 71, 72, 75, 77, 79, 80, 81, 82, 84, 85, 87, 89, 90, 91, 92, 93, 95, 98, 100, 101, 102, 104]\n",
      "WARNING: aclu 94 is not present in the `pf1d_long` ratemaps. Which contain aclus: [2, 3, 4, 9, 11, 12, 13, 14, 15, 16, 18, 19, 20, 24, 25, 26, 27, 28, 30, 31, 32, 34, 38, 39, 40, 43, 44, 47, 48, 51, 52, 53, 56, 57, 58, 59, 60, 61, 62, 63, 66, 67, 68, 70, 71, 72, 75, 77, 79, 80, 81, 82, 83, 84, 85, 86, 87, 89, 90, 91, 92, 93, 95, 97, 98, 101, 102, 103, 104]\n",
      "WARNING: aclu 96 is not present in the `pf1d_short` ratemaps. Which contain aclus: [4, 6, 8, 9, 11, 12, 13, 14, 15, 16, 18, 20, 24, 25, 26, 27, 28, 31, 32, 38, 39, 40, 43, 44, 47, 48, 51, 52, 53, 56, 57, 58, 59, 60, 61, 62, 63, 66, 67, 68, 69, 70, 71, 72, 75, 77, 79, 80, 81, 82, 84, 85, 87, 89, 90, 91, 92, 93, 95, 98, 100, 101, 102, 104]\n",
      "WARNING: aclu 96 is not present in the `pf1d_long` ratemaps. Which contain aclus: [2, 3, 4, 9, 11, 12, 13, 14, 15, 16, 18, 19, 20, 24, 25, 26, 27, 28, 30, 31, 32, 34, 38, 39, 40, 43, 44, 47, 48, 51, 52, 53, 56, 57, 58, 59, 60, 61, 62, 63, 66, 67, 68, 70, 71, 72, 75, 77, 79, 80, 81, 82, 83, 84, 85, 86, 87, 89, 90, 91, 92, 93, 95, 97, 98, 101, 102, 103, 104]\n",
      "WARNING: aclu 97 is not present in the `pf1d_short` ratemaps. Which contain aclus: [4, 6, 8, 9, 11, 12, 13, 14, 15, 16, 18, 20, 24, 25, 26, 27, 28, 31, 32, 38, 39, 40, 43, 44, 47, 48, 51, 52, 53, 56, 57, 58, 59, 60, 61, 62, 63, 66, 67, 68, 69, 70, 71, 72, 75, 77, 79, 80, 81, 82, 84, 85, 87, 89, 90, 91, 92, 93, 95, 98, 100, 101, 102, 104]\n",
      "WARNING: aclu 99 is not present in the `pf1d_short` ratemaps. Which contain aclus: [4, 6, 8, 9, 11, 12, 13, 14, 15, 16, 18, 20, 24, 25, 26, 27, 28, 31, 32, 38, 39, 40, 43, 44, 47, 48, 51, 52, 53, 56, 57, 58, 59, 60, 61, 62, 63, 66, 67, 68, 69, 70, 71, 72, 75, 77, 79, 80, 81, 82, 84, 85, 87, 89, 90, 91, 92, 93, 95, 98, 100, 101, 102, 104]\n",
      "WARNING: aclu 99 is not present in the `pf1d_long` ratemaps. Which contain aclus: [2, 3, 4, 9, 11, 12, 13, 14, 15, 16, 18, 19, 20, 24, 25, 26, 27, 28, 30, 31, 32, 34, 38, 39, 40, 43, 44, 47, 48, 51, 52, 53, 56, 57, 58, 59, 60, 61, 62, 63, 66, 67, 68, 70, 71, 72, 75, 77, 79, 80, 81, 82, 83, 84, 85, 86, 87, 89, 90, 91, 92, 93, 95, 97, 98, 101, 102, 103, 104]\n",
      "\t saved /home/halechr/repos/Spike3D/EXTERNAL/Screenshots/ProgrammaticDisplayFunctionTesting/2024-09-26/kdiba/gor01/one/2006-6-09_1-22-43/BatchPhoJonathanReplayFRC_shared_9of10_(92,93,94,95,96,97,98,99,101,102).png\n",
      "include_includelist: ['maze1_odd', 'maze2_odd', 'maze_odd', 'maze1_even', 'maze2_even', 'maze_even', 'maze1_any', 'maze2_any', 'maze_any']\n",
      "long_epoch_name: maze1_odd, short_epoch_name: maze2_odd, global_epoch_name: maze_any\n"
     ]
    },
    {
     "name": "stderr",
     "output_type": "stream",
     "text": [
      "/home/halechr/repos/pyPhoPlaceCellAnalysis/src/pyphoplacecellanalysis/General/Pipeline/Stages/DisplayFunctions/MultiContextComparingDisplayFunctions/LongShortTrackComparingDisplayFunctions.py:1290: SettingWithCopyWarning: \n",
      "A value is trying to be set on a copy of a slice from a DataFrame.\n",
      "Try using .loc[row_indexer,col_indexer] = value instead\n",
      "\n",
      "See the caveats in the documentation: https://pandas.pydata.org/pandas-docs/stable/user_guide/indexing.html#returning-a-view-versus-a-copy\n",
      "  cell_df.loc[:, 'x'] = spk_x\n",
      "/home/halechr/repos/pyPhoPlaceCellAnalysis/src/pyphoplacecellanalysis/General/Mixins/CrossComputationComparisonHelpers.py:245: RuntimeWarning: invalid value encountered in divide\n",
      "  _long_to_short_balances = (rdf.num_short_only_neuron_participating.values - rdf.num_long_only_neuron_participating.values) / (rdf.num_short_only_neuron_participating.values + rdf.num_long_only_neuron_participating.values) ## Working but (0, 1, 1) would clip to 0.5 despite (1, 13, 0) going all the way down to -1.0\n",
      "/home/halechr/repos/pyPhoPlaceCellAnalysis/src/pyphoplacecellanalysis/General/Mixins/CrossComputationComparisonHelpers.py:275: RuntimeWarning: invalid value encountered in divide\n",
      "  _long_to_short_balances = (rdf.num_short_only_neuron_participating.values - rdf.num_long_only_neuron_participating.values) / (rdf.num_short_only_neuron_participating.values + rdf.num_long_only_neuron_participating.values) ## Working but (0, 1, 1) would clip to 0.5 despite (1, 13, 0) going all the way down to -1.0\n"
     ]
    },
    {
     "name": "stdout",
     "output_type": "stream",
     "text": [
      "DEPRICATION WARNING: workaround to allow subscripting ComputationResult objects. Will be depricated. key: computed_data\n",
      "DEPRICATION WARNING: workaround to allow subscripting ComputationResult objects. Will be depricated. key: computed_data\n",
      "DEPRICATION WARNING: workaround to allow subscripting ComputationResult objects. Will be depricated. key: computed_data\n"
     ]
    },
    {
     "name": "stderr",
     "output_type": "stream",
     "text": [
      "WARNING: when normalize_tuning_curve=True pad will be set to 1, the current value of pad=2 will be overriden.\n"
     ]
    },
    {
     "name": "stdout",
     "output_type": "stream",
     "text": [
      "\t saved /home/halechr/repos/Spike3D/EXTERNAL/Screenshots/ProgrammaticDisplayFunctionTesting/2024-09-26/kdiba/gor01/one/2006-6-09_1-22-43/BatchPhoJonathanReplayFRC_shared_10of10_(104).png\n"
     ]
    },
    {
     "name": "stderr",
     "output_type": "stream",
     "text": [
      "/home/halechr/repos/pyPhoPlaceCellAnalysis/src/pyphoplacecellanalysis/General/Pipeline/Stages/DisplayFunctions/Ratemaps.py:63: UserWarning: FigureCanvasAgg is non-interactive, and thus cannot be shown\n",
      "  active_figure.show()\n",
      "WARNING: when normalize_tuning_curve=True pad will be set to 1, the current value of pad=2 will be overriden.\n"
     ]
    },
    {
     "name": "stdout",
     "output_type": "stream",
     "text": [
      "\t saved \"file:///home/halechr/repos/Spike3D/EXTERNAL/Screenshots/ProgrammaticDisplayFunctionTesting/2024-09-26/kdiba/gor01/one/2006-6-09_1-22-43/maze1_odd_odd_1d_placefields.png\"\n"
     ]
    },
    {
     "name": "stderr",
     "output_type": "stream",
     "text": [
      "/home/halechr/repos/pyPhoPlaceCellAnalysis/src/pyphoplacecellanalysis/General/Pipeline/Stages/DisplayFunctions/Ratemaps.py:63: UserWarning: FigureCanvasAgg is non-interactive, and thus cannot be shown\n",
      "  active_figure.show()\n",
      "WARNING: when normalize_tuning_curve=True pad will be set to 1, the current value of pad=2 will be overriden.\n"
     ]
    },
    {
     "name": "stdout",
     "output_type": "stream",
     "text": [
      "\t saved \"file:///home/halechr/repos/Spike3D/EXTERNAL/Screenshots/ProgrammaticDisplayFunctionTesting/2024-09-26/kdiba/gor01/one/2006-6-09_1-22-43/maze2_odd_odd_1d_placefields.png\"\n"
     ]
    },
    {
     "name": "stderr",
     "output_type": "stream",
     "text": [
      "/home/halechr/repos/pyPhoPlaceCellAnalysis/src/pyphoplacecellanalysis/General/Pipeline/Stages/DisplayFunctions/Ratemaps.py:63: UserWarning: FigureCanvasAgg is non-interactive, and thus cannot be shown\n",
      "  active_figure.show()\n",
      "WARNING: when normalize_tuning_curve=True pad will be set to 1, the current value of pad=2 will be overriden.\n"
     ]
    },
    {
     "name": "stdout",
     "output_type": "stream",
     "text": [
      "\t saved \"file:///home/halechr/repos/Spike3D/EXTERNAL/Screenshots/ProgrammaticDisplayFunctionTesting/2024-09-26/kdiba/gor01/one/2006-6-09_1-22-43/maze_odd_odd_1d_placefields.png\"\n"
     ]
    },
    {
     "name": "stderr",
     "output_type": "stream",
     "text": [
      "/home/halechr/repos/pyPhoPlaceCellAnalysis/src/pyphoplacecellanalysis/General/Pipeline/Stages/DisplayFunctions/Ratemaps.py:63: UserWarning: FigureCanvasAgg is non-interactive, and thus cannot be shown\n",
      "  active_figure.show()\n",
      "WARNING: when normalize_tuning_curve=True pad will be set to 1, the current value of pad=2 will be overriden.\n"
     ]
    },
    {
     "name": "stdout",
     "output_type": "stream",
     "text": [
      "\t saved \"file:///home/halechr/repos/Spike3D/EXTERNAL/Screenshots/ProgrammaticDisplayFunctionTesting/2024-09-26/kdiba/gor01/one/2006-6-09_1-22-43/maze1_even_even_1d_placefields.png\"\n"
     ]
    },
    {
     "name": "stderr",
     "output_type": "stream",
     "text": [
      "/home/halechr/repos/pyPhoPlaceCellAnalysis/src/pyphoplacecellanalysis/General/Pipeline/Stages/DisplayFunctions/Ratemaps.py:63: UserWarning: FigureCanvasAgg is non-interactive, and thus cannot be shown\n",
      "  active_figure.show()\n",
      "WARNING: when normalize_tuning_curve=True pad will be set to 1, the current value of pad=2 will be overriden.\n"
     ]
    },
    {
     "name": "stdout",
     "output_type": "stream",
     "text": [
      "\t saved \"file:///home/halechr/repos/Spike3D/EXTERNAL/Screenshots/ProgrammaticDisplayFunctionTesting/2024-09-26/kdiba/gor01/one/2006-6-09_1-22-43/maze2_even_even_1d_placefields.png\"\n"
     ]
    },
    {
     "name": "stderr",
     "output_type": "stream",
     "text": [
      "/home/halechr/repos/pyPhoPlaceCellAnalysis/src/pyphoplacecellanalysis/General/Pipeline/Stages/DisplayFunctions/Ratemaps.py:63: UserWarning: FigureCanvasAgg is non-interactive, and thus cannot be shown\n",
      "  active_figure.show()\n",
      "WARNING: when normalize_tuning_curve=True pad will be set to 1, the current value of pad=2 will be overriden.\n"
     ]
    },
    {
     "name": "stdout",
     "output_type": "stream",
     "text": [
      "\t saved \"file:///home/halechr/repos/Spike3D/EXTERNAL/Screenshots/ProgrammaticDisplayFunctionTesting/2024-09-26/kdiba/gor01/one/2006-6-09_1-22-43/maze_even_even_1d_placefields.png\"\n"
     ]
    },
    {
     "name": "stderr",
     "output_type": "stream",
     "text": [
      "/home/halechr/repos/pyPhoPlaceCellAnalysis/src/pyphoplacecellanalysis/General/Pipeline/Stages/DisplayFunctions/Ratemaps.py:63: UserWarning: FigureCanvasAgg is non-interactive, and thus cannot be shown\n",
      "  active_figure.show()\n",
      "WARNING: when normalize_tuning_curve=True pad will be set to 1, the current value of pad=2 will be overriden.\n"
     ]
    },
    {
     "name": "stdout",
     "output_type": "stream",
     "text": [
      "\t saved \"file:///home/halechr/repos/Spike3D/EXTERNAL/Screenshots/ProgrammaticDisplayFunctionTesting/2024-09-26/kdiba/gor01/one/2006-6-09_1-22-43/maze1_any_any_1d_placefields.png\"\n"
     ]
    },
    {
     "name": "stderr",
     "output_type": "stream",
     "text": [
      "/home/halechr/repos/pyPhoPlaceCellAnalysis/src/pyphoplacecellanalysis/General/Pipeline/Stages/DisplayFunctions/Ratemaps.py:63: UserWarning: FigureCanvasAgg is non-interactive, and thus cannot be shown\n",
      "  active_figure.show()\n",
      "WARNING: when normalize_tuning_curve=True pad will be set to 1, the current value of pad=2 will be overriden.\n"
     ]
    },
    {
     "name": "stdout",
     "output_type": "stream",
     "text": [
      "\t saved \"file:///home/halechr/repos/Spike3D/EXTERNAL/Screenshots/ProgrammaticDisplayFunctionTesting/2024-09-26/kdiba/gor01/one/2006-6-09_1-22-43/maze2_any_any_1d_placefields.png\"\n"
     ]
    },
    {
     "name": "stderr",
     "output_type": "stream",
     "text": [
      "/home/halechr/repos/NeuroPy/neuropy/utils/matplotlib_helpers.py:729: RuntimeWarning: More than 20 figures have been opened. Figures created through the pyplot interface (`matplotlib.pyplot.figure`) are retained until explicitly closed and may consume too much memory. (To control this warning, see the rcParam `figure.max_open_warning`). Consider using `matplotlib.pyplot.close()`.\n",
      "  fig = plt.figure(active_fig_id, **({'dpi': None, 'clear': True} | kwargs)) # , 'tight_layout': False - had to remove 'tight_layout': False because it can't coexist with 'constrained_layout'\n",
      "/home/halechr/repos/pyPhoPlaceCellAnalysis/src/pyphoplacecellanalysis/General/Pipeline/Stages/DisplayFunctions/Ratemaps.py:63: UserWarning: FigureCanvasAgg is non-interactive, and thus cannot be shown\n",
      "  active_figure.show()\n"
     ]
    },
    {
     "name": "stdout",
     "output_type": "stream",
     "text": [
      "\t saved \"file:///home/halechr/repos/Spike3D/EXTERNAL/Screenshots/ProgrammaticDisplayFunctionTesting/2024-09-26/kdiba/gor01/one/2006-6-09_1-22-43/maze_any_any_1d_placefields.png\"\n"
     ]
    },
    {
     "name": "stderr",
     "output_type": "stream",
     "text": [
      "/home/halechr/repos/pyPhoPlaceCellAnalysis/src/pyphoplacecellanalysis/General/Mixins/ExportHelpers.py:714: UserWarning: This figure includes Axes that are not compatible with tight_layout, so results might be incorrect.\n",
      "  a_fig.savefig(fig_png_out_path)\n"
     ]
    },
    {
     "name": "stdout",
     "output_type": "stream",
     "text": [
      "\t saved \"file:///home/halechr/repos/Spike3D/EXTERNAL/Screenshots/ProgrammaticDisplayFunctionTesting/2024-09-26/kdiba/gor01/one/2006-6-09_1-22-43/maze1_odd_odd__display_2d_placefield_result_plot_ratemaps_2D.png\"\n",
      "\t saved \"file:///home/halechr/repos/Spike3D/EXTERNAL/Screenshots/ProgrammaticDisplayFunctionTesting/2024-09-26/kdiba/gor01/one/2006-6-09_1-22-43/maze2_odd_odd__display_2d_placefield_result_plot_ratemaps_2D.png\"\n",
      "\t saved \"file:///home/halechr/repos/Spike3D/EXTERNAL/Screenshots/ProgrammaticDisplayFunctionTesting/2024-09-26/kdiba/gor01/one/2006-6-09_1-22-43/maze_odd_odd__display_2d_placefield_result_plot_ratemaps_2D.png\"\n",
      "\t saved \"file:///home/halechr/repos/Spike3D/EXTERNAL/Screenshots/ProgrammaticDisplayFunctionTesting/2024-09-26/kdiba/gor01/one/2006-6-09_1-22-43/maze1_even_even__display_2d_placefield_result_plot_ratemaps_2D.png\"\n",
      "\t saved \"file:///home/halechr/repos/Spike3D/EXTERNAL/Screenshots/ProgrammaticDisplayFunctionTesting/2024-09-26/kdiba/gor01/one/2006-6-09_1-22-43/maze2_even_even__display_2d_placefield_result_plot_ratemaps_2D.png\"\n",
      "\t saved \"file:///home/halechr/repos/Spike3D/EXTERNAL/Screenshots/ProgrammaticDisplayFunctionTesting/2024-09-26/kdiba/gor01/one/2006-6-09_1-22-43/maze_even_even__display_2d_placefield_result_plot_ratemaps_2D.png\"\n",
      "\t saved \"file:///home/halechr/repos/Spike3D/EXTERNAL/Screenshots/ProgrammaticDisplayFunctionTesting/2024-09-26/kdiba/gor01/one/2006-6-09_1-22-43/maze1_any_any__display_2d_placefield_result_plot_ratemaps_2D.png\"\n",
      "\t saved \"file:///home/halechr/repos/Spike3D/EXTERNAL/Screenshots/ProgrammaticDisplayFunctionTesting/2024-09-26/kdiba/gor01/one/2006-6-09_1-22-43/maze2_any_any__display_2d_placefield_result_plot_ratemaps_2D.png\"\n",
      "\t saved \"file:///home/halechr/repos/Spike3D/EXTERNAL/Screenshots/ProgrammaticDisplayFunctionTesting/2024-09-26/kdiba/gor01/one/2006-6-09_1-22-43/maze_any_any__display_2d_placefield_result_plot_ratemaps_2D.png\"\n",
      "\t saved \"file:///home/halechr/repos/Spike3D/EXTERNAL/Screenshots/ProgrammaticDisplayFunctionTesting/2024-09-26/kdiba/gor01/one/2006-6-09_1-22-43/maze1_odd_odd_plot_occupancy_OCCUPANCY.png\"\n",
      "\t saved \"file:///home/halechr/repos/Spike3D/EXTERNAL/Screenshots/ProgrammaticDisplayFunctionTesting/2024-09-26/kdiba/gor01/one/2006-6-09_1-22-43/maze2_odd_odd_plot_occupancy_OCCUPANCY.png\"\n",
      "\t saved \"file:///home/halechr/repos/Spike3D/EXTERNAL/Screenshots/ProgrammaticDisplayFunctionTesting/2024-09-26/kdiba/gor01/one/2006-6-09_1-22-43/maze_odd_odd_plot_occupancy_OCCUPANCY.png\"\n",
      "\t saved \"file:///home/halechr/repos/Spike3D/EXTERNAL/Screenshots/ProgrammaticDisplayFunctionTesting/2024-09-26/kdiba/gor01/one/2006-6-09_1-22-43/maze1_even_even_plot_occupancy_OCCUPANCY.png\"\n",
      "\t saved \"file:///home/halechr/repos/Spike3D/EXTERNAL/Screenshots/ProgrammaticDisplayFunctionTesting/2024-09-26/kdiba/gor01/one/2006-6-09_1-22-43/maze2_even_even_plot_occupancy_OCCUPANCY.png\"\n",
      "\t saved \"file:///home/halechr/repos/Spike3D/EXTERNAL/Screenshots/ProgrammaticDisplayFunctionTesting/2024-09-26/kdiba/gor01/one/2006-6-09_1-22-43/maze_even_even_plot_occupancy_OCCUPANCY.png\"\n",
      "\t saved \"file:///home/halechr/repos/Spike3D/EXTERNAL/Screenshots/ProgrammaticDisplayFunctionTesting/2024-09-26/kdiba/gor01/one/2006-6-09_1-22-43/maze1_any_any_plot_occupancy_OCCUPANCY.png\"\n",
      "\t saved \"file:///home/halechr/repos/Spike3D/EXTERNAL/Screenshots/ProgrammaticDisplayFunctionTesting/2024-09-26/kdiba/gor01/one/2006-6-09_1-22-43/maze2_any_any_plot_occupancy_OCCUPANCY.png\"\n",
      "\t saved \"file:///home/halechr/repos/Spike3D/EXTERNAL/Screenshots/ProgrammaticDisplayFunctionTesting/2024-09-26/kdiba/gor01/one/2006-6-09_1-22-43/maze_any_any_plot_occupancy_OCCUPANCY.png\"\n",
      "\t saved \"file:///home/halechr/repos/Spike3D/EXTERNAL/Screenshots/ProgrammaticDisplayFunctionTesting/2024-09-26/kdiba/gor01/one/2006-6-09_1-22-43/long_short_firing_rate_indicies_display_long_short_laps.png\"\n",
      "global_y_min_SHORT: 0.0, global_y_max_SHORT: 5.998508902422359\n",
      "global_y_min_LONG: 0.0, global_y_max_LONG: 6.0\n",
      "global_y_min: 0.0, global_y_max: 6.0\n",
      "\t saved \"file:///home/halechr/repos/Spike3D/EXTERNAL/Screenshots/ProgrammaticDisplayFunctionTesting/2024-09-26/kdiba/gor01/one/2006-6-09_1-22-43/plot_expected_vs_observed_epoch_idx_obs_exp_diff_ptp.png\"\n",
      "\t saved \"file:///home/halechr/repos/Spike3D/EXTERNAL/Screenshots/ProgrammaticDisplayFunctionTesting/2024-09-26/kdiba/gor01/one/2006-6-09_1-22-43/_display_grid_bin_bounds_validation.png\"\n",
      "\t saved \"file:///home/halechr/repos/Spike3D/EXTERNAL/Screenshots/ProgrammaticDisplayFunctionTesting/2024-09-26/kdiba/gor01/one/2006-6-09_1-22-43/running_and_replay_speeds_over_time.png\"\n",
      "\t saved \"file:///home/halechr/repos/Spike3D/EXTERNAL/Screenshots/ProgrammaticDisplayFunctionTesting/2024-09-26/kdiba/gor01/one/2006-6-09_1-22-43/display_long_short_laps.png\"\n",
      "\t saved \"file:///home/halechr/repos/Spike3D/EXTERNAL/Screenshots/ProgrammaticDisplayFunctionTesting/2024-09-26/kdiba/gor01/one/2006-6-09_1-22-43/maze1_any_any_plot_single_track_firing_rate_compare.png\"\n"
     ]
    },
    {
     "name": "stderr",
     "output_type": "stream",
     "text": [
      "/home/halechr/repos/pyPhoPlaceCellAnalysis/src/pyphoplacecellanalysis/General/Pipeline/Stages/DisplayFunctions/MultiContextComparingDisplayFunctions/LongShortTrackComparingDisplayFunctions.py:2901: UserWarning: FigureCanvasAgg is non-interactive, and thus cannot be shown\n",
      "  fig.show()\n",
      "/home/halechr/repos/pyPhoPlaceCellAnalysis/src/pyphoplacecellanalysis/General/Pipeline/Stages/DisplayFunctions/MultiContextComparingDisplayFunctions/LongShortTrackComparingDisplayFunctions.py:2901: UserWarning: FigureCanvasAgg is non-interactive, and thus cannot be shown\n",
      "  fig.show()\n"
     ]
    },
    {
     "name": "stdout",
     "output_type": "stream",
     "text": [
      "\t saved \"file:///home/halechr/repos/Spike3D/EXTERNAL/Screenshots/ProgrammaticDisplayFunctionTesting/2024-09-26/kdiba/gor01/one/2006-6-09_1-22-43/maze2_any_any_plot_single_track_firing_rate_compare.png\"\n",
      "WARNING: fignum will be ignored but it was specified as fignum=\"Short v Long pf1D Comparison\"!\n",
      "DEPRICATION WARNING: workaround to allow subscripting ComputationResult objects. Will be depricated. key: computed_data\n",
      "DEPRICATION WARNING: workaround to allow subscripting ComputationResult objects. Will be depricated. key: computed_data\n",
      "DEBUG: new_all_aclus_sort_indicies: [46 16  9 59 10 23 13 63 34 27 60 47 56 51 31 33 71 24  7 20 53 28 48 30\n",
      " 67 15 64 25  0 21 52 14 42  6 18 54  2  5 58  4 72 61  1  3 41 62 49  8\n",
      " 55 35 65 38 26 57 19 69 70 43 37 32 22 44 17 29 36 39 50 12 45 11 40 68\n",
      " 66]\n",
      "active_context: kdiba_gor01_one_2006-6-09_1-22-43\n",
      "\t saved \"file:///home/halechr/repos/Spike3D/EXTERNAL/Screenshots/ProgrammaticDisplayFunctionTesting/2024-09-26/kdiba/gor01/one/2006-6-09_1-22-43/display_short_long_pf1D_comparison_long.png\"\n",
      "\t saved \"file:///home/halechr/repos/Spike3D/EXTERNAL/Screenshots/ProgrammaticDisplayFunctionTesting/2024-09-26/kdiba/gor01/one/2006-6-09_1-22-43/display_short_long_pf1D_comparison_short.png\"\n"
     ]
    },
    {
     "name": "stderr",
     "output_type": "stream",
     "text": [
      "/home/halechr/repos/pyPhoPlaceCellAnalysis/src/pyphoplacecellanalysis/Pho2D/matplotlib/CustomMatplotlibWidget.py:236: UserWarning: constrained_layout not applied because axes sizes collapsed to zero.  Try making figure larger or axes decorations smaller.\n",
      "  self.ui.canvas.draw()\n"
     ]
    },
    {
     "name": "stdout",
     "output_type": "stream",
     "text": [
      "batch_extended_programmatic_figures(...): _prepare_plot_long_and_short_epochs failed with error: 'LeaveOneOutDecodingAnalysisResult' object has no attribute 'num_filter_epochs'\n",
      " skipping.\n",
      "DEPRICATION WARNING: workaround to allow subscripting ComputationResult objects. Will be depricated. key: computed_data\n",
      "DEPRICATION WARNING: workaround to allow subscripting ComputationResult objects. Will be depricated. key: computed_data\n",
      "DEPRICATION WARNING: workaround to allow subscripting ComputationResult objects. Will be depricated. key: computed_data\n",
      "batch_extended_programmatic_figures(...): export_active_relative_entropy_results_videos failed with error: 'extended_stats'\n",
      " skipping.\n",
      "DEPRICATION WARNING: workaround to allow subscripting ComputationResult objects. Will be depricated. key: computed_data\n",
      "DEPRICATION WARNING: workaround to allow subscripting ComputationResult objects. Will be depricated. key: computed_data\n",
      "DEPRICATION WARNING: workaround to allow subscripting ComputationResult objects. Will be depricated. key: computed_data\n",
      "WARN: 2023-09-28 16:15: - [ ] fix the combination properties. Would work if we directly used the computed _is_L_only and _is_S_only above\n",
      "include_includelist: ['maze1_odd', 'maze2_odd', 'maze_odd', 'maze1_even', 'maze2_even', 'maze_even', 'maze1_any', 'maze2_any', 'maze_any']\n",
      "long_epoch_name: maze1_odd, short_epoch_name: maze2_odd, global_epoch_name: maze_any\n"
     ]
    },
    {
     "name": "stderr",
     "output_type": "stream",
     "text": [
      "/home/halechr/repos/pyPhoPlaceCellAnalysis/src/pyphoplacecellanalysis/General/Pipeline/Stages/DisplayFunctions/MultiContextComparingDisplayFunctions/LongShortTrackComparingDisplayFunctions.py:1290: SettingWithCopyWarning: \n",
      "A value is trying to be set on a copy of a slice from a DataFrame.\n",
      "Try using .loc[row_indexer,col_indexer] = value instead\n",
      "\n",
      "See the caveats in the documentation: https://pandas.pydata.org/pandas-docs/stable/user_guide/indexing.html#returning-a-view-versus-a-copy\n",
      "  cell_df.loc[:, 'x'] = spk_x\n"
     ]
    },
    {
     "name": "stdout",
     "output_type": "stream",
     "text": [
      "DEPRICATION WARNING: workaround to allow subscripting ComputationResult objects. Will be depricated. key: computed_data\n",
      "DEPRICATION WARNING: workaround to allow subscripting ComputationResult objects. Will be depricated. key: computed_data\n",
      "DEPRICATION WARNING: workaround to allow subscripting ComputationResult objects. Will be depricated. key: computed_data\n"
     ]
    },
    {
     "name": "stderr",
     "output_type": "stream",
     "text": [
      "/home/halechr/repos/pyPhoPlaceCellAnalysis/src/pyphoplacecellanalysis/General/Mixins/CrossComputationComparisonHelpers.py:245: RuntimeWarning: invalid value encountered in divide\n",
      "  _long_to_short_balances = (rdf.num_short_only_neuron_participating.values - rdf.num_long_only_neuron_participating.values) / (rdf.num_short_only_neuron_participating.values + rdf.num_long_only_neuron_participating.values) ## Working but (0, 1, 1) would clip to 0.5 despite (1, 13, 0) going all the way down to -1.0\n",
      "/home/halechr/repos/pyPhoPlaceCellAnalysis/src/pyphoplacecellanalysis/General/Mixins/CrossComputationComparisonHelpers.py:275: RuntimeWarning: invalid value encountered in divide\n",
      "  _long_to_short_balances = (rdf.num_short_only_neuron_participating.values - rdf.num_long_only_neuron_participating.values) / (rdf.num_short_only_neuron_participating.values + rdf.num_long_only_neuron_participating.values) ## Working but (0, 1, 1) would clip to 0.5 despite (1, 13, 0) going all the way down to -1.0\n"
     ]
    },
    {
     "name": "stdout",
     "output_type": "stream",
     "text": [
      "WARNING: aclu 103 is not present in the `pf1d_short` ratemaps. Which contain aclus: [4, 6, 8, 9, 11, 12, 13, 14, 15, 16, 18, 20, 24, 25, 26, 27, 28, 31, 32, 38, 39, 40, 43, 44, 47, 48, 51, 52, 53, 56, 57, 58, 59, 60, 61, 62, 63, 66, 67, 68, 69, 70, 71, 72, 75, 77, 79, 80, 81, 82, 84, 85, 87, 89, 90, 91, 92, 93, 95, 98, 100, 101, 102, 104]\n",
      "WARNING: aclu 5 is not present in the `pf1d_short` ratemaps. Which contain aclus: [4, 6, 8, 9, 11, 12, 13, 14, 15, 16, 18, 20, 24, 25, 26, 27, 28, 31, 32, 38, 39, 40, 43, 44, 47, 48, 51, 52, 53, 56, 57, 58, 59, 60, 61, 62, 63, 66, 67, 68, 69, 70, 71, 72, 75, 77, 79, 80, 81, 82, 84, 85, 87, 89, 90, 91, 92, 93, 95, 98, 100, 101, 102, 104]\n",
      "WARNING: aclu 5 is not present in the `pf1d_long` ratemaps. Which contain aclus: [2, 3, 4, 9, 11, 12, 13, 14, 15, 16, 18, 19, 20, 24, 25, 26, 27, 28, 30, 31, 32, 34, 38, 39, 40, 43, 44, 47, 48, 51, 52, 53, 56, 57, 58, 59, 60, 61, 62, 63, 66, 67, 68, 70, 71, 72, 75, 77, 79, 80, 81, 82, 83, 84, 85, 86, 87, 89, 90, 91, 92, 93, 95, 97, 98, 101, 102, 103, 104]\n",
      "WARNING: aclu 23 is not present in the `pf1d_short` ratemaps. Which contain aclus: [4, 6, 8, 9, 11, 12, 13, 14, 15, 16, 18, 20, 24, 25, 26, 27, 28, 31, 32, 38, 39, 40, 43, 44, 47, 48, 51, 52, 53, 56, 57, 58, 59, 60, 61, 62, 63, 66, 67, 68, 69, 70, 71, 72, 75, 77, 79, 80, 81, 82, 84, 85, 87, 89, 90, 91, 92, 93, 95, 98, 100, 101, 102, 104]\n",
      "WARNING: aclu 23 is not present in the `pf1d_long` ratemaps. Which contain aclus: [2, 3, 4, 9, 11, 12, 13, 14, 15, 16, 18, 19, 20, 24, 25, 26, 27, 28, 30, 31, 32, 34, 38, 39, 40, 43, 44, 47, 48, 51, 52, 53, 56, 57, 58, 59, 60, 61, 62, 63, 66, 67, 68, 70, 71, 72, 75, 77, 79, 80, 81, 82, 83, 84, 85, 86, 87, 89, 90, 91, 92, 93, 95, 97, 98, 101, 102, 103, 104]\n",
      "WARNING: aclu 29 is not present in the `pf1d_short` ratemaps. Which contain aclus: [4, 6, 8, 9, 11, 12, 13, 14, 15, 16, 18, 20, 24, 25, 26, 27, 28, 31, 32, 38, 39, 40, 43, 44, 47, 48, 51, 52, 53, 56, 57, 58, 59, 60, 61, 62, 63, 66, 67, 68, 69, 70, 71, 72, 75, 77, 79, 80, 81, 82, 84, 85, 87, 89, 90, 91, 92, 93, 95, 98, 100, 101, 102, 104]\n",
      "WARNING: aclu 29 is not present in the `pf1d_long` ratemaps. Which contain aclus: [2, 3, 4, 9, 11, 12, 13, 14, 15, 16, 18, 19, 20, 24, 25, 26, 27, 28, 30, 31, 32, 34, 38, 39, 40, 43, 44, 47, 48, 51, 52, 53, 56, 57, 58, 59, 60, 61, 62, 63, 66, 67, 68, 70, 71, 72, 75, 77, 79, 80, 81, 82, 83, 84, 85, 86, 87, 89, 90, 91, 92, 93, 95, 97, 98, 101, 102, 103, 104]\n",
      "WARNING: aclu 3 is not present in the `pf1d_short` ratemaps. Which contain aclus: [4, 6, 8, 9, 11, 12, 13, 14, 15, 16, 18, 20, 24, 25, 26, 27, 28, 31, 32, 38, 39, 40, 43, 44, 47, 48, 51, 52, 53, 56, 57, 58, 59, 60, 61, 62, 63, 66, 67, 68, 69, 70, 71, 72, 75, 77, 79, 80, 81, 82, 84, 85, 87, 89, 90, 91, 92, 93, 95, 98, 100, 101, 102, 104]\n"
     ]
    },
    {
     "name": "stderr",
     "output_type": "stream",
     "text": [
      "/home/halechr/repos/pyPhoPlaceCellAnalysis/src/pyphoplacecellanalysis/General/Batch/NonInteractiveProcessing.py:909: UserWarning: constrained_layout not applied because axes sizes collapsed to zero.  Try making figure larger or axes decorations smaller.\n",
      "  a_fig.savefig(fig_png_out_path)\n"
     ]
    },
    {
     "name": "stdout",
     "output_type": "stream",
     "text": [
      "\t saved /home/halechr/repos/Spike3D/EXTERNAL/Screenshots/ProgrammaticDisplayFunctionTesting/2024-09-26/kdiba/gor01/one/2006-6-09_1-22-43/BatchPhoJonathanReplayFRC_long_only_(103,38,5,23,29,3,63).png\n",
      "include_includelist: ['maze1_odd', 'maze2_odd', 'maze_odd', 'maze1_even', 'maze2_even', 'maze_even', 'maze1_any', 'maze2_any', 'maze_any']\n",
      "long_epoch_name: maze1_odd, short_epoch_name: maze2_odd, global_epoch_name: maze_any\n"
     ]
    },
    {
     "name": "stderr",
     "output_type": "stream",
     "text": [
      "/home/halechr/repos/pyPhoPlaceCellAnalysis/src/pyphoplacecellanalysis/General/Pipeline/Stages/DisplayFunctions/MultiContextComparingDisplayFunctions/LongShortTrackComparingDisplayFunctions.py:1290: SettingWithCopyWarning: \n",
      "A value is trying to be set on a copy of a slice from a DataFrame.\n",
      "Try using .loc[row_indexer,col_indexer] = value instead\n",
      "\n",
      "See the caveats in the documentation: https://pandas.pydata.org/pandas-docs/stable/user_guide/indexing.html#returning-a-view-versus-a-copy\n",
      "  cell_df.loc[:, 'x'] = spk_x\n"
     ]
    },
    {
     "name": "stdout",
     "output_type": "stream",
     "text": [
      "DEPRICATION WARNING: workaround to allow subscripting ComputationResult objects. Will be depricated. key: computed_data\n",
      "DEPRICATION WARNING: workaround to allow subscripting ComputationResult objects. Will be depricated. key: computed_data\n",
      "DEPRICATION WARNING: workaround to allow subscripting ComputationResult objects. Will be depricated. key: computed_data\n"
     ]
    },
    {
     "name": "stderr",
     "output_type": "stream",
     "text": [
      "/home/halechr/repos/pyPhoPlaceCellAnalysis/src/pyphoplacecellanalysis/General/Mixins/CrossComputationComparisonHelpers.py:245: RuntimeWarning: invalid value encountered in divide\n",
      "  _long_to_short_balances = (rdf.num_short_only_neuron_participating.values - rdf.num_long_only_neuron_participating.values) / (rdf.num_short_only_neuron_participating.values + rdf.num_long_only_neuron_participating.values) ## Working but (0, 1, 1) would clip to 0.5 despite (1, 13, 0) going all the way down to -1.0\n",
      "/home/halechr/repos/pyPhoPlaceCellAnalysis/src/pyphoplacecellanalysis/General/Mixins/CrossComputationComparisonHelpers.py:275: RuntimeWarning: invalid value encountered in divide\n",
      "  _long_to_short_balances = (rdf.num_short_only_neuron_participating.values - rdf.num_long_only_neuron_participating.values) / (rdf.num_short_only_neuron_participating.values + rdf.num_long_only_neuron_participating.values) ## Working but (0, 1, 1) would clip to 0.5 despite (1, 13, 0) going all the way down to -1.0\n"
     ]
    },
    {
     "name": "stdout",
     "output_type": "stream",
     "text": [
      "WARNING: aclu 55 is not present in the `pf1d_short` ratemaps. Which contain aclus: [4, 6, 8, 9, 11, 12, 13, 14, 15, 16, 18, 20, 24, 25, 26, 27, 28, 31, 32, 38, 39, 40, 43, 44, 47, 48, 51, 52, 53, 56, 57, 58, 59, 60, 61, 62, 63, 66, 67, 68, 69, 70, 71, 72, 75, 77, 79, 80, 81, 82, 84, 85, 87, 89, 90, 91, 92, 93, 95, 98, 100, 101, 102, 104]\n",
      "WARNING: aclu 55 is not present in the `pf1d_long` ratemaps. Which contain aclus: [2, 3, 4, 9, 11, 12, 13, 14, 15, 16, 18, 19, 20, 24, 25, 26, 27, 28, 30, 31, 32, 34, 38, 39, 40, 43, 44, 47, 48, 51, 52, 53, 56, 57, 58, 59, 60, 61, 62, 63, 66, 67, 68, 70, 71, 72, 75, 77, 79, 80, 81, 82, 83, 84, 85, 86, 87, 89, 90, 91, 92, 93, 95, 97, 98, 101, 102, 103, 104]\n",
      "WARNING: aclu 69 is not present in the `pf1d_long` ratemaps. Which contain aclus: [2, 3, 4, 9, 11, 12, 13, 14, 15, 16, 18, 19, 20, 24, 25, 26, 27, 28, 30, 31, 32, 34, 38, 39, 40, 43, 44, 47, 48, 51, 52, 53, 56, 57, 58, 59, 60, 61, 62, 63, 66, 67, 68, 70, 71, 72, 75, 77, 79, 80, 81, 82, 83, 84, 85, 86, 87, 89, 90, 91, 92, 93, 95, 97, 98, 101, 102, 103, 104]\n",
      "WARNING: aclu 100 is not present in the `pf1d_long` ratemaps. Which contain aclus: [2, 3, 4, 9, 11, 12, 13, 14, 15, 16, 18, 19, 20, 24, 25, 26, 27, 28, 30, 31, 32, 34, 38, 39, 40, 43, 44, 47, 48, 51, 52, 53, 56, 57, 58, 59, 60, 61, 62, 63, 66, 67, 68, 70, 71, 72, 75, 77, 79, 80, 81, 82, 83, 84, 85, 86, 87, 89, 90, 91, 92, 93, 95, 97, 98, 101, 102, 103, 104]\n"
     ]
    },
    {
     "name": "stderr",
     "output_type": "stream",
     "text": [
      "/home/halechr/repos/pyPhoPlaceCellAnalysis/src/pyphoplacecellanalysis/General/Batch/NonInteractiveProcessing.py:909: UserWarning: constrained_layout not applied because axes sizes collapsed to zero.  Try making figure larger or axes decorations smaller.\n",
      "  a_fig.savefig(fig_png_out_path)\n"
     ]
    },
    {
     "name": "stdout",
     "output_type": "stream",
     "text": [
      "\t saved /home/halechr/repos/Spike3D/EXTERNAL/Screenshots/ProgrammaticDisplayFunctionTesting/2024-09-26/kdiba/gor01/one/2006-6-09_1-22-43/BatchPhoJonathanReplayFRC_short_only_(16,55,62,69,100).png\n",
      "include_includelist: ['maze1_odd', 'maze2_odd', 'maze_odd', 'maze1_even', 'maze2_even', 'maze_even', 'maze1_any', 'maze2_any', 'maze_any']\n",
      "long_epoch_name: maze1_odd, short_epoch_name: maze2_odd, global_epoch_name: maze_any\n"
     ]
    },
    {
     "name": "stderr",
     "output_type": "stream",
     "text": [
      "/home/halechr/repos/pyPhoPlaceCellAnalysis/src/pyphoplacecellanalysis/General/Pipeline/Stages/DisplayFunctions/MultiContextComparingDisplayFunctions/LongShortTrackComparingDisplayFunctions.py:1290: SettingWithCopyWarning: \n",
      "A value is trying to be set on a copy of a slice from a DataFrame.\n",
      "Try using .loc[row_indexer,col_indexer] = value instead\n",
      "\n",
      "See the caveats in the documentation: https://pandas.pydata.org/pandas-docs/stable/user_guide/indexing.html#returning-a-view-versus-a-copy\n",
      "  cell_df.loc[:, 'x'] = spk_x\n"
     ]
    },
    {
     "name": "stdout",
     "output_type": "stream",
     "text": [
      "DEPRICATION WARNING: workaround to allow subscripting ComputationResult objects. Will be depricated. key: computed_data\n",
      "DEPRICATION WARNING: workaround to allow subscripting ComputationResult objects. Will be depricated. key: computed_data\n",
      "DEPRICATION WARNING: workaround to allow subscripting ComputationResult objects. Will be depricated. key: computed_data\n"
     ]
    },
    {
     "name": "stderr",
     "output_type": "stream",
     "text": [
      "/home/halechr/repos/pyPhoPlaceCellAnalysis/src/pyphoplacecellanalysis/General/Mixins/CrossComputationComparisonHelpers.py:245: RuntimeWarning: invalid value encountered in divide\n",
      "  _long_to_short_balances = (rdf.num_short_only_neuron_participating.values - rdf.num_long_only_neuron_participating.values) / (rdf.num_short_only_neuron_participating.values + rdf.num_long_only_neuron_participating.values) ## Working but (0, 1, 1) would clip to 0.5 despite (1, 13, 0) going all the way down to -1.0\n",
      "/home/halechr/repos/pyPhoPlaceCellAnalysis/src/pyphoplacecellanalysis/General/Mixins/CrossComputationComparisonHelpers.py:275: RuntimeWarning: invalid value encountered in divide\n",
      "  _long_to_short_balances = (rdf.num_short_only_neuron_participating.values - rdf.num_long_only_neuron_participating.values) / (rdf.num_short_only_neuron_participating.values + rdf.num_long_only_neuron_participating.values) ## Working but (0, 1, 1) would clip to 0.5 despite (1, 13, 0) going all the way down to -1.0\n"
     ]
    },
    {
     "name": "stdout",
     "output_type": "stream",
     "text": [
      "WARNING: aclu 33 is not present in the `pf1d_short` ratemaps. Which contain aclus: [4, 6, 8, 9, 11, 12, 13, 14, 15, 16, 18, 20, 24, 25, 26, 27, 28, 31, 32, 38, 39, 40, 43, 44, 47, 48, 51, 52, 53, 56, 57, 58, 59, 60, 61, 62, 63, 66, 67, 68, 69, 70, 71, 72, 75, 77, 79, 80, 81, 82, 84, 85, 87, 89, 90, 91, 92, 93, 95, 98, 100, 101, 102, 104]\n",
      "WARNING: aclu 33 is not present in the `pf1d_long` ratemaps. Which contain aclus: [2, 3, 4, 9, 11, 12, 13, 14, 15, 16, 18, 19, 20, 24, 25, 26, 27, 28, 30, 31, 32, 34, 38, 39, 40, 43, 44, 47, 48, 51, 52, 53, 56, 57, 58, 59, 60, 61, 62, 63, 66, 67, 68, 70, 71, 72, 75, 77, 79, 80, 81, 82, 83, 84, 85, 86, 87, 89, 90, 91, 92, 93, 95, 97, 98, 101, 102, 103, 104]\n",
      "WARNING: aclu 19 is not present in the `pf1d_short` ratemaps. Which contain aclus: [4, 6, 8, 9, 11, 12, 13, 14, 15, 16, 18, 20, 24, 25, 26, 27, 28, 31, 32, 38, 39, 40, 43, 44, 47, 48, 51, 52, 53, 56, 57, 58, 59, 60, 61, 62, 63, 66, 67, 68, 69, 70, 71, 72, 75, 77, 79, 80, 81, 82, 84, 85, 87, 89, 90, 91, 92, 93, 95, 98, 100, 101, 102, 104]\n",
      "WARNING: aclu 34 is not present in the `pf1d_short` ratemaps. Which contain aclus: [4, 6, 8, 9, 11, 12, 13, 14, 15, 16, 18, 20, 24, 25, 26, 27, 28, 31, 32, 38, 39, 40, 43, 44, 47, 48, 51, 52, 53, 56, 57, 58, 59, 60, 61, 62, 63, 66, 67, 68, 69, 70, 71, 72, 75, 77, 79, 80, 81, 82, 84, 85, 87, 89, 90, 91, 92, 93, 95, 98, 100, 101, 102, 104]\n",
      "WARNING: aclu 30 is not present in the `pf1d_short` ratemaps. Which contain aclus: [4, 6, 8, 9, 11, 12, 13, 14, 15, 16, 18, 20, 24, 25, 26, 27, 28, 31, 32, 38, 39, 40, 43, 44, 47, 48, 51, 52, 53, 56, 57, 58, 59, 60, 61, 62, 63, 66, 67, 68, 69, 70, 71, 72, 75, 77, 79, 80, 81, 82, 84, 85, 87, 89, 90, 91, 92, 93, 95, 98, 100, 101, 102, 104]\n"
     ]
    },
    {
     "name": "stderr",
     "output_type": "stream",
     "text": [
      "/home/halechr/repos/pyPhoPlaceCellAnalysis/src/pyphoplacecellanalysis/General/Batch/NonInteractiveProcessing.py:909: UserWarning: constrained_layout not applied because axes sizes collapsed to zero.  Try making figure larger or axes decorations smaller.\n",
      "  a_fig.savefig(fig_png_out_path)\n"
     ]
    },
    {
     "name": "stdout",
     "output_type": "stream",
     "text": [
      "\t saved /home/halechr/repos/Spike3D/EXTERNAL/Screenshots/ProgrammaticDisplayFunctionTesting/2024-09-26/kdiba/gor01/one/2006-6-09_1-22-43/BatchPhoJonathanReplayFRC_shared_1of5_(70,25,14,87,33,19,15,34,92,71,84,51,53,79,89,56,43,30,81,12).png\n",
      "include_includelist: ['maze1_odd', 'maze2_odd', 'maze_odd', 'maze1_even', 'maze2_even', 'maze_even', 'maze1_any', 'maze2_any', 'maze_any']\n",
      "long_epoch_name: maze1_odd, short_epoch_name: maze2_odd, global_epoch_name: maze_any\n"
     ]
    },
    {
     "name": "stderr",
     "output_type": "stream",
     "text": [
      "/home/halechr/repos/pyPhoPlaceCellAnalysis/src/pyphoplacecellanalysis/General/Pipeline/Stages/DisplayFunctions/MultiContextComparingDisplayFunctions/LongShortTrackComparingDisplayFunctions.py:1290: SettingWithCopyWarning: \n",
      "A value is trying to be set on a copy of a slice from a DataFrame.\n",
      "Try using .loc[row_indexer,col_indexer] = value instead\n",
      "\n",
      "See the caveats in the documentation: https://pandas.pydata.org/pandas-docs/stable/user_guide/indexing.html#returning-a-view-versus-a-copy\n",
      "  cell_df.loc[:, 'x'] = spk_x\n"
     ]
    },
    {
     "name": "stdout",
     "output_type": "stream",
     "text": [
      "DEPRICATION WARNING: workaround to allow subscripting ComputationResult objects. Will be depricated. key: computed_data\n",
      "DEPRICATION WARNING: workaround to allow subscripting ComputationResult objects. Will be depricated. key: computed_data\n",
      "DEPRICATION WARNING: workaround to allow subscripting ComputationResult objects. Will be depricated. key: computed_data\n"
     ]
    },
    {
     "name": "stderr",
     "output_type": "stream",
     "text": [
      "/home/halechr/repos/pyPhoPlaceCellAnalysis/src/pyphoplacecellanalysis/General/Mixins/CrossComputationComparisonHelpers.py:245: RuntimeWarning: invalid value encountered in divide\n",
      "  _long_to_short_balances = (rdf.num_short_only_neuron_participating.values - rdf.num_long_only_neuron_participating.values) / (rdf.num_short_only_neuron_participating.values + rdf.num_long_only_neuron_participating.values) ## Working but (0, 1, 1) would clip to 0.5 despite (1, 13, 0) going all the way down to -1.0\n",
      "/home/halechr/repos/pyPhoPlaceCellAnalysis/src/pyphoplacecellanalysis/General/Mixins/CrossComputationComparisonHelpers.py:275: RuntimeWarning: invalid value encountered in divide\n",
      "  _long_to_short_balances = (rdf.num_short_only_neuron_participating.values - rdf.num_long_only_neuron_participating.values) / (rdf.num_short_only_neuron_participating.values + rdf.num_long_only_neuron_participating.values) ## Working but (0, 1, 1) would clip to 0.5 despite (1, 13, 0) going all the way down to -1.0\n"
     ]
    },
    {
     "name": "stdout",
     "output_type": "stream",
     "text": [
      "WARNING: aclu 35 is not present in the `pf1d_short` ratemaps. Which contain aclus: [4, 6, 8, 9, 11, 12, 13, 14, 15, 16, 18, 20, 24, 25, 26, 27, 28, 31, 32, 38, 39, 40, 43, 44, 47, 48, 51, 52, 53, 56, 57, 58, 59, 60, 61, 62, 63, 66, 67, 68, 69, 70, 71, 72, 75, 77, 79, 80, 81, 82, 84, 85, 87, 89, 90, 91, 92, 93, 95, 98, 100, 101, 102, 104]\n",
      "WARNING: aclu 35 is not present in the `pf1d_long` ratemaps. Which contain aclus: [2, 3, 4, 9, 11, 12, 13, 14, 15, 16, 18, 19, 20, 24, 25, 26, 27, 28, 30, 31, 32, 34, 38, 39, 40, 43, 44, 47, 48, 51, 52, 53, 56, 57, 58, 59, 60, 61, 62, 63, 66, 67, 68, 70, 71, 72, 75, 77, 79, 80, 81, 82, 83, 84, 85, 86, 87, 89, 90, 91, 92, 93, 95, 97, 98, 101, 102, 103, 104]\n",
      "WARNING: aclu 2 is not present in the `pf1d_short` ratemaps. Which contain aclus: [4, 6, 8, 9, 11, 12, 13, 14, 15, 16, 18, 20, 24, 25, 26, 27, 28, 31, 32, 38, 39, 40, 43, 44, 47, 48, 51, 52, 53, 56, 57, 58, 59, 60, 61, 62, 63, 66, 67, 68, 69, 70, 71, 72, 75, 77, 79, 80, 81, 82, 84, 85, 87, 89, 90, 91, 92, 93, 95, 98, 100, 101, 102, 104]\n",
      "WARNING: aclu 86 is not present in the `pf1d_short` ratemaps. Which contain aclus: [4, 6, 8, 9, 11, 12, 13, 14, 15, 16, 18, 20, 24, 25, 26, 27, 28, 31, 32, 38, 39, 40, 43, 44, 47, 48, 51, 52, 53, 56, 57, 58, 59, 60, 61, 62, 63, 66, 67, 68, 69, 70, 71, 72, 75, 77, 79, 80, 81, 82, 84, 85, 87, 89, 90, 91, 92, 93, 95, 98, 100, 101, 102, 104]\n"
     ]
    },
    {
     "name": "stderr",
     "output_type": "stream",
     "text": [
      "/home/halechr/repos/pyPhoPlaceCellAnalysis/src/pyphoplacecellanalysis/General/Batch/NonInteractiveProcessing.py:909: UserWarning: constrained_layout not applied because axes sizes collapsed to zero.  Try making figure larger or axes decorations smaller.\n",
      "  a_fig.savefig(fig_png_out_path)\n"
     ]
    },
    {
     "name": "stdout",
     "output_type": "stream",
     "text": [
      "\t saved /home/halechr/repos/Spike3D/EXTERNAL/Screenshots/ProgrammaticDisplayFunctionTesting/2024-09-26/kdiba/gor01/one/2006-6-09_1-22-43/BatchPhoJonathanReplayFRC_shared_2of5_(72,44,48,98,35,24,93,39,2,31,80,20,82,11,4,27,66,86,9,90).png\n",
      "include_includelist: ['maze1_odd', 'maze2_odd', 'maze_odd', 'maze1_even', 'maze2_even', 'maze_even', 'maze1_any', 'maze2_any', 'maze_any']\n",
      "long_epoch_name: maze1_odd, short_epoch_name: maze2_odd, global_epoch_name: maze_any\n"
     ]
    },
    {
     "name": "stderr",
     "output_type": "stream",
     "text": [
      "/home/halechr/repos/pyPhoPlaceCellAnalysis/src/pyphoplacecellanalysis/General/Pipeline/Stages/DisplayFunctions/MultiContextComparingDisplayFunctions/LongShortTrackComparingDisplayFunctions.py:1290: SettingWithCopyWarning: \n",
      "A value is trying to be set on a copy of a slice from a DataFrame.\n",
      "Try using .loc[row_indexer,col_indexer] = value instead\n",
      "\n",
      "See the caveats in the documentation: https://pandas.pydata.org/pandas-docs/stable/user_guide/indexing.html#returning-a-view-versus-a-copy\n",
      "  cell_df.loc[:, 'x'] = spk_x\n"
     ]
    },
    {
     "name": "stdout",
     "output_type": "stream",
     "text": [
      "DEPRICATION WARNING: workaround to allow subscripting ComputationResult objects. Will be depricated. key: computed_data\n",
      "DEPRICATION WARNING: workaround to allow subscripting ComputationResult objects. Will be depricated. key: computed_data\n",
      "DEPRICATION WARNING: workaround to allow subscripting ComputationResult objects. Will be depricated. key: computed_data\n"
     ]
    },
    {
     "name": "stderr",
     "output_type": "stream",
     "text": [
      "/home/halechr/repos/pyPhoPlaceCellAnalysis/src/pyphoplacecellanalysis/General/Mixins/CrossComputationComparisonHelpers.py:245: RuntimeWarning: invalid value encountered in divide\n",
      "  _long_to_short_balances = (rdf.num_short_only_neuron_participating.values - rdf.num_long_only_neuron_participating.values) / (rdf.num_short_only_neuron_participating.values + rdf.num_long_only_neuron_participating.values) ## Working but (0, 1, 1) would clip to 0.5 despite (1, 13, 0) going all the way down to -1.0\n",
      "/home/halechr/repos/pyPhoPlaceCellAnalysis/src/pyphoplacecellanalysis/General/Mixins/CrossComputationComparisonHelpers.py:275: RuntimeWarning: invalid value encountered in divide\n",
      "  _long_to_short_balances = (rdf.num_short_only_neuron_participating.values - rdf.num_long_only_neuron_participating.values) / (rdf.num_short_only_neuron_participating.values + rdf.num_long_only_neuron_participating.values) ## Working but (0, 1, 1) would clip to 0.5 despite (1, 13, 0) going all the way down to -1.0\n"
     ]
    },
    {
     "name": "stdout",
     "output_type": "stream",
     "text": [
      "WARNING: aclu 8 is not present in the `pf1d_long` ratemaps. Which contain aclus: [2, 3, 4, 9, 11, 12, 13, 14, 15, 16, 18, 19, 20, 24, 25, 26, 27, 28, 30, 31, 32, 34, 38, 39, 40, 43, 44, 47, 48, 51, 52, 53, 56, 57, 58, 59, 60, 61, 62, 63, 66, 67, 68, 70, 71, 72, 75, 77, 79, 80, 81, 82, 83, 84, 85, 86, 87, 89, 90, 91, 92, 93, 95, 97, 98, 101, 102, 103, 104]\n",
      "WARNING: aclu 6 is not present in the `pf1d_long` ratemaps. Which contain aclus: [2, 3, 4, 9, 11, 12, 13, 14, 15, 16, 18, 19, 20, 24, 25, 26, 27, 28, 30, 31, 32, 34, 38, 39, 40, 43, 44, 47, 48, 51, 52, 53, 56, 57, 58, 59, 60, 61, 62, 63, 66, 67, 68, 70, 71, 72, 75, 77, 79, 80, 81, 82, 83, 84, 85, 86, 87, 89, 90, 91, 92, 93, 95, 97, 98, 101, 102, 103, 104]\n",
      "WARNING: aclu 83 is not present in the `pf1d_short` ratemaps. Which contain aclus: [4, 6, 8, 9, 11, 12, 13, 14, 15, 16, 18, 20, 24, 25, 26, 27, 28, 31, 32, 38, 39, 40, 43, 44, 47, 48, 51, 52, 53, 56, 57, 58, 59, 60, 61, 62, 63, 66, 67, 68, 69, 70, 71, 72, 75, 77, 79, 80, 81, 82, 84, 85, 87, 89, 90, 91, 92, 93, 95, 98, 100, 101, 102, 104]\n"
     ]
    },
    {
     "name": "stderr",
     "output_type": "stream",
     "text": [
      "/home/halechr/repos/pyPhoPlaceCellAnalysis/src/pyphoplacecellanalysis/General/Batch/NonInteractiveProcessing.py:909: UserWarning: constrained_layout not applied because axes sizes collapsed to zero.  Try making figure larger or axes decorations smaller.\n",
      "  a_fig.savefig(fig_png_out_path)\n"
     ]
    },
    {
     "name": "stdout",
     "output_type": "stream",
     "text": [
      "\t saved /home/halechr/repos/Spike3D/EXTERNAL/Screenshots/ProgrammaticDisplayFunctionTesting/2024-09-26/kdiba/gor01/one/2006-6-09_1-22-43/BatchPhoJonathanReplayFRC_shared_3of5_(104,8,6,91,75,13,83,95,57,85,40,60,102,101,28,59,67,52,32,68).png\n",
      "include_includelist: ['maze1_odd', 'maze2_odd', 'maze_odd', 'maze1_even', 'maze2_even', 'maze_even', 'maze1_any', 'maze2_any', 'maze_any']\n",
      "long_epoch_name: maze1_odd, short_epoch_name: maze2_odd, global_epoch_name: maze_any\n"
     ]
    },
    {
     "name": "stderr",
     "output_type": "stream",
     "text": [
      "/home/halechr/repos/pyPhoPlaceCellAnalysis/src/pyphoplacecellanalysis/General/Pipeline/Stages/DisplayFunctions/MultiContextComparingDisplayFunctions/LongShortTrackComparingDisplayFunctions.py:1290: SettingWithCopyWarning: \n",
      "A value is trying to be set on a copy of a slice from a DataFrame.\n",
      "Try using .loc[row_indexer,col_indexer] = value instead\n",
      "\n",
      "See the caveats in the documentation: https://pandas.pydata.org/pandas-docs/stable/user_guide/indexing.html#returning-a-view-versus-a-copy\n",
      "  cell_df.loc[:, 'x'] = spk_x\n"
     ]
    },
    {
     "name": "stdout",
     "output_type": "stream",
     "text": [
      "DEPRICATION WARNING: workaround to allow subscripting ComputationResult objects. Will be depricated. key: computed_data\n",
      "DEPRICATION WARNING: workaround to allow subscripting ComputationResult objects. Will be depricated. key: computed_data\n",
      "DEPRICATION WARNING: workaround to allow subscripting ComputationResult objects. Will be depricated. key: computed_data\n"
     ]
    },
    {
     "name": "stderr",
     "output_type": "stream",
     "text": [
      "/home/halechr/repos/pyPhoPlaceCellAnalysis/src/pyphoplacecellanalysis/General/Mixins/CrossComputationComparisonHelpers.py:245: RuntimeWarning: invalid value encountered in divide\n",
      "  _long_to_short_balances = (rdf.num_short_only_neuron_participating.values - rdf.num_long_only_neuron_participating.values) / (rdf.num_short_only_neuron_participating.values + rdf.num_long_only_neuron_participating.values) ## Working but (0, 1, 1) would clip to 0.5 despite (1, 13, 0) going all the way down to -1.0\n",
      "/home/halechr/repos/pyPhoPlaceCellAnalysis/src/pyphoplacecellanalysis/General/Mixins/CrossComputationComparisonHelpers.py:275: RuntimeWarning: invalid value encountered in divide\n",
      "  _long_to_short_balances = (rdf.num_short_only_neuron_participating.values - rdf.num_long_only_neuron_participating.values) / (rdf.num_short_only_neuron_participating.values + rdf.num_long_only_neuron_participating.values) ## Working but (0, 1, 1) would clip to 0.5 despite (1, 13, 0) going all the way down to -1.0\n"
     ]
    },
    {
     "name": "stdout",
     "output_type": "stream",
     "text": [
      "WARNING: aclu 7 is not present in the `pf1d_short` ratemaps. Which contain aclus: [4, 6, 8, 9, 11, 12, 13, 14, 15, 16, 18, 20, 24, 25, 26, 27, 28, 31, 32, 38, 39, 40, 43, 44, 47, 48, 51, 52, 53, 56, 57, 58, 59, 60, 61, 62, 63, 66, 67, 68, 69, 70, 71, 72, 75, 77, 79, 80, 81, 82, 84, 85, 87, 89, 90, 91, 92, 93, 95, 98, 100, 101, 102, 104]\n",
      "WARNING: aclu 7 is not present in the `pf1d_long` ratemaps. Which contain aclus: [2, 3, 4, 9, 11, 12, 13, 14, 15, 16, 18, 19, 20, 24, 25, 26, 27, 28, 30, 31, 32, 34, 38, 39, 40, 43, 44, 47, 48, 51, 52, 53, 56, 57, 58, 59, 60, 61, 62, 63, 66, 67, 68, 70, 71, 72, 75, 77, 79, 80, 81, 82, 83, 84, 85, 86, 87, 89, 90, 91, 92, 93, 95, 97, 98, 101, 102, 103, 104]\n",
      "WARNING: aclu 10 is not present in the `pf1d_short` ratemaps. Which contain aclus: [4, 6, 8, 9, 11, 12, 13, 14, 15, 16, 18, 20, 24, 25, 26, 27, 28, 31, 32, 38, 39, 40, 43, 44, 47, 48, 51, 52, 53, 56, 57, 58, 59, 60, 61, 62, 63, 66, 67, 68, 69, 70, 71, 72, 75, 77, 79, 80, 81, 82, 84, 85, 87, 89, 90, 91, 92, 93, 95, 98, 100, 101, 102, 104]\n",
      "WARNING: aclu 10 is not present in the `pf1d_long` ratemaps. Which contain aclus: [2, 3, 4, 9, 11, 12, 13, 14, 15, 16, 18, 19, 20, 24, 25, 26, 27, 28, 30, 31, 32, 34, 38, 39, 40, 43, 44, 47, 48, 51, 52, 53, 56, 57, 58, 59, 60, 61, 62, 63, 66, 67, 68, 70, 71, 72, 75, 77, 79, 80, 81, 82, 83, 84, 85, 86, 87, 89, 90, 91, 92, 93, 95, 97, 98, 101, 102, 103, 104]\n",
      "WARNING: aclu 17 is not present in the `pf1d_short` ratemaps. Which contain aclus: [4, 6, 8, 9, 11, 12, 13, 14, 15, 16, 18, 20, 24, 25, 26, 27, 28, 31, 32, 38, 39, 40, 43, 44, 47, 48, 51, 52, 53, 56, 57, 58, 59, 60, 61, 62, 63, 66, 67, 68, 69, 70, 71, 72, 75, 77, 79, 80, 81, 82, 84, 85, 87, 89, 90, 91, 92, 93, 95, 98, 100, 101, 102, 104]\n",
      "WARNING: aclu 17 is not present in the `pf1d_long` ratemaps. Which contain aclus: [2, 3, 4, 9, 11, 12, 13, 14, 15, 16, 18, 19, 20, 24, 25, 26, 27, 28, 30, 31, 32, 34, 38, 39, 40, 43, 44, 47, 48, 51, 52, 53, 56, 57, 58, 59, 60, 61, 62, 63, 66, 67, 68, 70, 71, 72, 75, 77, 79, 80, 81, 82, 83, 84, 85, 86, 87, 89, 90, 91, 92, 93, 95, 97, 98, 101, 102, 103, 104]\n",
      "WARNING: aclu 21 is not present in the `pf1d_short` ratemaps. Which contain aclus: [4, 6, 8, 9, 11, 12, 13, 14, 15, 16, 18, 20, 24, 25, 26, 27, 28, 31, 32, 38, 39, 40, 43, 44, 47, 48, 51, 52, 53, 56, 57, 58, 59, 60, 61, 62, 63, 66, 67, 68, 69, 70, 71, 72, 75, 77, 79, 80, 81, 82, 84, 85, 87, 89, 90, 91, 92, 93, 95, 98, 100, 101, 102, 104]\n",
      "WARNING: aclu 21 is not present in the `pf1d_long` ratemaps. Which contain aclus: [2, 3, 4, 9, 11, 12, 13, 14, 15, 16, 18, 19, 20, 24, 25, 26, 27, 28, 30, 31, 32, 34, 38, 39, 40, 43, 44, 47, 48, 51, 52, 53, 56, 57, 58, 59, 60, 61, 62, 63, 66, 67, 68, 70, 71, 72, 75, 77, 79, 80, 81, 82, 83, 84, 85, 86, 87, 89, 90, 91, 92, 93, 95, 97, 98, 101, 102, 103, 104]\n",
      "WARNING: aclu 22 is not present in the `pf1d_short` ratemaps. Which contain aclus: [4, 6, 8, 9, 11, 12, 13, 14, 15, 16, 18, 20, 24, 25, 26, 27, 28, 31, 32, 38, 39, 40, 43, 44, 47, 48, 51, 52, 53, 56, 57, 58, 59, 60, 61, 62, 63, 66, 67, 68, 69, 70, 71, 72, 75, 77, 79, 80, 81, 82, 84, 85, 87, 89, 90, 91, 92, 93, 95, 98, 100, 101, 102, 104]\n",
      "WARNING: aclu 22 is not present in the `pf1d_long` ratemaps. Which contain aclus: [2, 3, 4, 9, 11, 12, 13, 14, 15, 16, 18, 19, 20, 24, 25, 26, 27, 28, 30, 31, 32, 34, 38, 39, 40, 43, 44, 47, 48, 51, 52, 53, 56, 57, 58, 59, 60, 61, 62, 63, 66, 67, 68, 70, 71, 72, 75, 77, 79, 80, 81, 82, 83, 84, 85, 86, 87, 89, 90, 91, 92, 93, 95, 97, 98, 101, 102, 103, 104]\n",
      "WARNING: aclu 36 is not present in the `pf1d_short` ratemaps. Which contain aclus: [4, 6, 8, 9, 11, 12, 13, 14, 15, 16, 18, 20, 24, 25, 26, 27, 28, 31, 32, 38, 39, 40, 43, 44, 47, 48, 51, 52, 53, 56, 57, 58, 59, 60, 61, 62, 63, 66, 67, 68, 69, 70, 71, 72, 75, 77, 79, 80, 81, 82, 84, 85, 87, 89, 90, 91, 92, 93, 95, 98, 100, 101, 102, 104]\n",
      "WARNING: aclu 36 is not present in the `pf1d_long` ratemaps. Which contain aclus: [2, 3, 4, 9, 11, 12, 13, 14, 15, 16, 18, 19, 20, 24, 25, 26, 27, 28, 30, 31, 32, 34, 38, 39, 40, 43, 44, 47, 48, 51, 52, 53, 56, 57, 58, 59, 60, 61, 62, 63, 66, 67, 68, 70, 71, 72, 75, 77, 79, 80, 81, 82, 83, 84, 85, 86, 87, 89, 90, 91, 92, 93, 95, 97, 98, 101, 102, 103, 104]\n",
      "WARNING: aclu 37 is not present in the `pf1d_short` ratemaps. Which contain aclus: [4, 6, 8, 9, 11, 12, 13, 14, 15, 16, 18, 20, 24, 25, 26, 27, 28, 31, 32, 38, 39, 40, 43, 44, 47, 48, 51, 52, 53, 56, 57, 58, 59, 60, 61, 62, 63, 66, 67, 68, 69, 70, 71, 72, 75, 77, 79, 80, 81, 82, 84, 85, 87, 89, 90, 91, 92, 93, 95, 98, 100, 101, 102, 104]\n",
      "WARNING: aclu 37 is not present in the `pf1d_long` ratemaps. Which contain aclus: [2, 3, 4, 9, 11, 12, 13, 14, 15, 16, 18, 19, 20, 24, 25, 26, 27, 28, 30, 31, 32, 34, 38, 39, 40, 43, 44, 47, 48, 51, 52, 53, 56, 57, 58, 59, 60, 61, 62, 63, 66, 67, 68, 70, 71, 72, 75, 77, 79, 80, 81, 82, 83, 84, 85, 86, 87, 89, 90, 91, 92, 93, 95, 97, 98, 101, 102, 103, 104]\n",
      "WARNING: aclu 41 is not present in the `pf1d_short` ratemaps. Which contain aclus: [4, 6, 8, 9, 11, 12, 13, 14, 15, 16, 18, 20, 24, 25, 26, 27, 28, 31, 32, 38, 39, 40, 43, 44, 47, 48, 51, 52, 53, 56, 57, 58, 59, 60, 61, 62, 63, 66, 67, 68, 69, 70, 71, 72, 75, 77, 79, 80, 81, 82, 84, 85, 87, 89, 90, 91, 92, 93, 95, 98, 100, 101, 102, 104]\n",
      "WARNING: aclu 41 is not present in the `pf1d_long` ratemaps. Which contain aclus: [2, 3, 4, 9, 11, 12, 13, 14, 15, 16, 18, 19, 20, 24, 25, 26, 27, 28, 30, 31, 32, 34, 38, 39, 40, 43, 44, 47, 48, 51, 52, 53, 56, 57, 58, 59, 60, 61, 62, 63, 66, 67, 68, 70, 71, 72, 75, 77, 79, 80, 81, 82, 83, 84, 85, 86, 87, 89, 90, 91, 92, 93, 95, 97, 98, 101, 102, 103, 104]\n",
      "WARNING: aclu 42 is not present in the `pf1d_short` ratemaps. Which contain aclus: [4, 6, 8, 9, 11, 12, 13, 14, 15, 16, 18, 20, 24, 25, 26, 27, 28, 31, 32, 38, 39, 40, 43, 44, 47, 48, 51, 52, 53, 56, 57, 58, 59, 60, 61, 62, 63, 66, 67, 68, 69, 70, 71, 72, 75, 77, 79, 80, 81, 82, 84, 85, 87, 89, 90, 91, 92, 93, 95, 98, 100, 101, 102, 104]\n",
      "WARNING: aclu 42 is not present in the `pf1d_long` ratemaps. Which contain aclus: [2, 3, 4, 9, 11, 12, 13, 14, 15, 16, 18, 19, 20, 24, 25, 26, 27, 28, 30, 31, 32, 34, 38, 39, 40, 43, 44, 47, 48, 51, 52, 53, 56, 57, 58, 59, 60, 61, 62, 63, 66, 67, 68, 70, 71, 72, 75, 77, 79, 80, 81, 82, 83, 84, 85, 86, 87, 89, 90, 91, 92, 93, 95, 97, 98, 101, 102, 103, 104]\n",
      "WARNING: aclu 45 is not present in the `pf1d_short` ratemaps. Which contain aclus: [4, 6, 8, 9, 11, 12, 13, 14, 15, 16, 18, 20, 24, 25, 26, 27, 28, 31, 32, 38, 39, 40, 43, 44, 47, 48, 51, 52, 53, 56, 57, 58, 59, 60, 61, 62, 63, 66, 67, 68, 69, 70, 71, 72, 75, 77, 79, 80, 81, 82, 84, 85, 87, 89, 90, 91, 92, 93, 95, 98, 100, 101, 102, 104]\n",
      "WARNING: aclu 45 is not present in the `pf1d_long` ratemaps. Which contain aclus: [2, 3, 4, 9, 11, 12, 13, 14, 15, 16, 18, 19, 20, 24, 25, 26, 27, 28, 30, 31, 32, 34, 38, 39, 40, 43, 44, 47, 48, 51, 52, 53, 56, 57, 58, 59, 60, 61, 62, 63, 66, 67, 68, 70, 71, 72, 75, 77, 79, 80, 81, 82, 83, 84, 85, 86, 87, 89, 90, 91, 92, 93, 95, 97, 98, 101, 102, 103, 104]\n",
      "WARNING: aclu 46 is not present in the `pf1d_short` ratemaps. Which contain aclus: [4, 6, 8, 9, 11, 12, 13, 14, 15, 16, 18, 20, 24, 25, 26, 27, 28, 31, 32, 38, 39, 40, 43, 44, 47, 48, 51, 52, 53, 56, 57, 58, 59, 60, 61, 62, 63, 66, 67, 68, 69, 70, 71, 72, 75, 77, 79, 80, 81, 82, 84, 85, 87, 89, 90, 91, 92, 93, 95, 98, 100, 101, 102, 104]\n",
      "WARNING: aclu 46 is not present in the `pf1d_long` ratemaps. Which contain aclus: [2, 3, 4, 9, 11, 12, 13, 14, 15, 16, 18, 19, 20, 24, 25, 26, 27, 28, 30, 31, 32, 34, 38, 39, 40, 43, 44, 47, 48, 51, 52, 53, 56, 57, 58, 59, 60, 61, 62, 63, 66, 67, 68, 70, 71, 72, 75, 77, 79, 80, 81, 82, 83, 84, 85, 86, 87, 89, 90, 91, 92, 93, 95, 97, 98, 101, 102, 103, 104]\n",
      "WARNING: aclu 49 is not present in the `pf1d_short` ratemaps. Which contain aclus: [4, 6, 8, 9, 11, 12, 13, 14, 15, 16, 18, 20, 24, 25, 26, 27, 28, 31, 32, 38, 39, 40, 43, 44, 47, 48, 51, 52, 53, 56, 57, 58, 59, 60, 61, 62, 63, 66, 67, 68, 69, 70, 71, 72, 75, 77, 79, 80, 81, 82, 84, 85, 87, 89, 90, 91, 92, 93, 95, 98, 100, 101, 102, 104]\n",
      "WARNING: aclu 49 is not present in the `pf1d_long` ratemaps. Which contain aclus: [2, 3, 4, 9, 11, 12, 13, 14, 15, 16, 18, 19, 20, 24, 25, 26, 27, 28, 30, 31, 32, 34, 38, 39, 40, 43, 44, 47, 48, 51, 52, 53, 56, 57, 58, 59, 60, 61, 62, 63, 66, 67, 68, 70, 71, 72, 75, 77, 79, 80, 81, 82, 83, 84, 85, 86, 87, 89, 90, 91, 92, 93, 95, 97, 98, 101, 102, 103, 104]\n",
      "WARNING: aclu 50 is not present in the `pf1d_short` ratemaps. Which contain aclus: [4, 6, 8, 9, 11, 12, 13, 14, 15, 16, 18, 20, 24, 25, 26, 27, 28, 31, 32, 38, 39, 40, 43, 44, 47, 48, 51, 52, 53, 56, 57, 58, 59, 60, 61, 62, 63, 66, 67, 68, 69, 70, 71, 72, 75, 77, 79, 80, 81, 82, 84, 85, 87, 89, 90, 91, 92, 93, 95, 98, 100, 101, 102, 104]\n",
      "WARNING: aclu 50 is not present in the `pf1d_long` ratemaps. Which contain aclus: [2, 3, 4, 9, 11, 12, 13, 14, 15, 16, 18, 19, 20, 24, 25, 26, 27, 28, 30, 31, 32, 34, 38, 39, 40, 43, 44, 47, 48, 51, 52, 53, 56, 57, 58, 59, 60, 61, 62, 63, 66, 67, 68, 70, 71, 72, 75, 77, 79, 80, 81, 82, 83, 84, 85, 86, 87, 89, 90, 91, 92, 93, 95, 97, 98, 101, 102, 103, 104]\n",
      "WARNING: aclu 54 is not present in the `pf1d_short` ratemaps. Which contain aclus: [4, 6, 8, 9, 11, 12, 13, 14, 15, 16, 18, 20, 24, 25, 26, 27, 28, 31, 32, 38, 39, 40, 43, 44, 47, 48, 51, 52, 53, 56, 57, 58, 59, 60, 61, 62, 63, 66, 67, 68, 69, 70, 71, 72, 75, 77, 79, 80, 81, 82, 84, 85, 87, 89, 90, 91, 92, 93, 95, 98, 100, 101, 102, 104]\n",
      "WARNING: aclu 54 is not present in the `pf1d_long` ratemaps. Which contain aclus: [2, 3, 4, 9, 11, 12, 13, 14, 15, 16, 18, 19, 20, 24, 25, 26, 27, 28, 30, 31, 32, 34, 38, 39, 40, 43, 44, 47, 48, 51, 52, 53, 56, 57, 58, 59, 60, 61, 62, 63, 66, 67, 68, 70, 71, 72, 75, 77, 79, 80, 81, 82, 83, 84, 85, 86, 87, 89, 90, 91, 92, 93, 95, 97, 98, 101, 102, 103, 104]\n"
     ]
    },
    {
     "name": "stderr",
     "output_type": "stream",
     "text": [
      "/home/halechr/repos/pyPhoPlaceCellAnalysis/src/pyphoplacecellanalysis/General/Batch/NonInteractiveProcessing.py:909: UserWarning: constrained_layout not applied because axes sizes collapsed to zero.  Try making figure larger or axes decorations smaller.\n",
      "  a_fig.savefig(fig_png_out_path)\n"
     ]
    },
    {
     "name": "stdout",
     "output_type": "stream",
     "text": [
      "\t saved /home/halechr/repos/Spike3D/EXTERNAL/Screenshots/ProgrammaticDisplayFunctionTesting/2024-09-26/kdiba/gor01/one/2006-6-09_1-22-43/BatchPhoJonathanReplayFRC_shared_4of5_(26,18,61,47,77,58,7,10,17,21,22,36,37,41,42,45,46,49,50,54).png\n",
      "include_includelist: ['maze1_odd', 'maze2_odd', 'maze_odd', 'maze1_even', 'maze2_even', 'maze_even', 'maze1_any', 'maze2_any', 'maze_any']\n",
      "long_epoch_name: maze1_odd, short_epoch_name: maze2_odd, global_epoch_name: maze_any\n"
     ]
    },
    {
     "name": "stderr",
     "output_type": "stream",
     "text": [
      "/home/halechr/repos/pyPhoPlaceCellAnalysis/src/pyphoplacecellanalysis/General/Pipeline/Stages/DisplayFunctions/MultiContextComparingDisplayFunctions/LongShortTrackComparingDisplayFunctions.py:1290: SettingWithCopyWarning: \n",
      "A value is trying to be set on a copy of a slice from a DataFrame.\n",
      "Try using .loc[row_indexer,col_indexer] = value instead\n",
      "\n",
      "See the caveats in the documentation: https://pandas.pydata.org/pandas-docs/stable/user_guide/indexing.html#returning-a-view-versus-a-copy\n",
      "  cell_df.loc[:, 'x'] = spk_x\n"
     ]
    },
    {
     "name": "stdout",
     "output_type": "stream",
     "text": [
      "DEPRICATION WARNING: workaround to allow subscripting ComputationResult objects. Will be depricated. key: computed_data\n",
      "DEPRICATION WARNING: workaround to allow subscripting ComputationResult objects. Will be depricated. key: computed_data\n",
      "DEPRICATION WARNING: workaround to allow subscripting ComputationResult objects. Will be depricated. key: computed_data\n"
     ]
    },
    {
     "name": "stderr",
     "output_type": "stream",
     "text": [
      "/home/halechr/repos/pyPhoPlaceCellAnalysis/src/pyphoplacecellanalysis/General/Mixins/CrossComputationComparisonHelpers.py:245: RuntimeWarning: invalid value encountered in divide\n",
      "  _long_to_short_balances = (rdf.num_short_only_neuron_participating.values - rdf.num_long_only_neuron_participating.values) / (rdf.num_short_only_neuron_participating.values + rdf.num_long_only_neuron_participating.values) ## Working but (0, 1, 1) would clip to 0.5 despite (1, 13, 0) going all the way down to -1.0\n",
      "/home/halechr/repos/pyPhoPlaceCellAnalysis/src/pyphoplacecellanalysis/General/Mixins/CrossComputationComparisonHelpers.py:275: RuntimeWarning: invalid value encountered in divide\n",
      "  _long_to_short_balances = (rdf.num_short_only_neuron_participating.values - rdf.num_long_only_neuron_participating.values) / (rdf.num_short_only_neuron_participating.values + rdf.num_long_only_neuron_participating.values) ## Working but (0, 1, 1) would clip to 0.5 despite (1, 13, 0) going all the way down to -1.0\n"
     ]
    },
    {
     "name": "stdout",
     "output_type": "stream",
     "text": [
      "WARNING: aclu 64 is not present in the `pf1d_short` ratemaps. Which contain aclus: [4, 6, 8, 9, 11, 12, 13, 14, 15, 16, 18, 20, 24, 25, 26, 27, 28, 31, 32, 38, 39, 40, 43, 44, 47, 48, 51, 52, 53, 56, 57, 58, 59, 60, 61, 62, 63, 66, 67, 68, 69, 70, 71, 72, 75, 77, 79, 80, 81, 82, 84, 85, 87, 89, 90, 91, 92, 93, 95, 98, 100, 101, 102, 104]\n",
      "WARNING: aclu 64 is not present in the `pf1d_long` ratemaps. Which contain aclus: [2, 3, 4, 9, 11, 12, 13, 14, 15, 16, 18, 19, 20, 24, 25, 26, 27, 28, 30, 31, 32, 34, 38, 39, 40, 43, 44, 47, 48, 51, 52, 53, 56, 57, 58, 59, 60, 61, 62, 63, 66, 67, 68, 70, 71, 72, 75, 77, 79, 80, 81, 82, 83, 84, 85, 86, 87, 89, 90, 91, 92, 93, 95, 97, 98, 101, 102, 103, 104]\n",
      "WARNING: aclu 65 is not present in the `pf1d_short` ratemaps. Which contain aclus: [4, 6, 8, 9, 11, 12, 13, 14, 15, 16, 18, 20, 24, 25, 26, 27, 28, 31, 32, 38, 39, 40, 43, 44, 47, 48, 51, 52, 53, 56, 57, 58, 59, 60, 61, 62, 63, 66, 67, 68, 69, 70, 71, 72, 75, 77, 79, 80, 81, 82, 84, 85, 87, 89, 90, 91, 92, 93, 95, 98, 100, 101, 102, 104]\n",
      "WARNING: aclu 65 is not present in the `pf1d_long` ratemaps. Which contain aclus: [2, 3, 4, 9, 11, 12, 13, 14, 15, 16, 18, 19, 20, 24, 25, 26, 27, 28, 30, 31, 32, 34, 38, 39, 40, 43, 44, 47, 48, 51, 52, 53, 56, 57, 58, 59, 60, 61, 62, 63, 66, 67, 68, 70, 71, 72, 75, 77, 79, 80, 81, 82, 83, 84, 85, 86, 87, 89, 90, 91, 92, 93, 95, 97, 98, 101, 102, 103, 104]\n",
      "WARNING: aclu 73 is not present in the `pf1d_short` ratemaps. Which contain aclus: [4, 6, 8, 9, 11, 12, 13, 14, 15, 16, 18, 20, 24, 25, 26, 27, 28, 31, 32, 38, 39, 40, 43, 44, 47, 48, 51, 52, 53, 56, 57, 58, 59, 60, 61, 62, 63, 66, 67, 68, 69, 70, 71, 72, 75, 77, 79, 80, 81, 82, 84, 85, 87, 89, 90, 91, 92, 93, 95, 98, 100, 101, 102, 104]\n",
      "WARNING: aclu 73 is not present in the `pf1d_long` ratemaps. Which contain aclus: [2, 3, 4, 9, 11, 12, 13, 14, 15, 16, 18, 19, 20, 24, 25, 26, 27, 28, 30, 31, 32, 34, 38, 39, 40, 43, 44, 47, 48, 51, 52, 53, 56, 57, 58, 59, 60, 61, 62, 63, 66, 67, 68, 70, 71, 72, 75, 77, 79, 80, 81, 82, 83, 84, 85, 86, 87, 89, 90, 91, 92, 93, 95, 97, 98, 101, 102, 103, 104]\n",
      "WARNING: aclu 74 is not present in the `pf1d_short` ratemaps. Which contain aclus: [4, 6, 8, 9, 11, 12, 13, 14, 15, 16, 18, 20, 24, 25, 26, 27, 28, 31, 32, 38, 39, 40, 43, 44, 47, 48, 51, 52, 53, 56, 57, 58, 59, 60, 61, 62, 63, 66, 67, 68, 69, 70, 71, 72, 75, 77, 79, 80, 81, 82, 84, 85, 87, 89, 90, 91, 92, 93, 95, 98, 100, 101, 102, 104]\n",
      "WARNING: aclu 74 is not present in the `pf1d_long` ratemaps. Which contain aclus: [2, 3, 4, 9, 11, 12, 13, 14, 15, 16, 18, 19, 20, 24, 25, 26, 27, 28, 30, 31, 32, 34, 38, 39, 40, 43, 44, 47, 48, 51, 52, 53, 56, 57, 58, 59, 60, 61, 62, 63, 66, 67, 68, 70, 71, 72, 75, 77, 79, 80, 81, 82, 83, 84, 85, 86, 87, 89, 90, 91, 92, 93, 95, 97, 98, 101, 102, 103, 104]\n",
      "WARNING: aclu 76 is not present in the `pf1d_short` ratemaps. Which contain aclus: [4, 6, 8, 9, 11, 12, 13, 14, 15, 16, 18, 20, 24, 25, 26, 27, 28, 31, 32, 38, 39, 40, 43, 44, 47, 48, 51, 52, 53, 56, 57, 58, 59, 60, 61, 62, 63, 66, 67, 68, 69, 70, 71, 72, 75, 77, 79, 80, 81, 82, 84, 85, 87, 89, 90, 91, 92, 93, 95, 98, 100, 101, 102, 104]\n",
      "WARNING: aclu 76 is not present in the `pf1d_long` ratemaps. Which contain aclus: [2, 3, 4, 9, 11, 12, 13, 14, 15, 16, 18, 19, 20, 24, 25, 26, 27, 28, 30, 31, 32, 34, 38, 39, 40, 43, 44, 47, 48, 51, 52, 53, 56, 57, 58, 59, 60, 61, 62, 63, 66, 67, 68, 70, 71, 72, 75, 77, 79, 80, 81, 82, 83, 84, 85, 86, 87, 89, 90, 91, 92, 93, 95, 97, 98, 101, 102, 103, 104]\n",
      "WARNING: aclu 78 is not present in the `pf1d_short` ratemaps. Which contain aclus: [4, 6, 8, 9, 11, 12, 13, 14, 15, 16, 18, 20, 24, 25, 26, 27, 28, 31, 32, 38, 39, 40, 43, 44, 47, 48, 51, 52, 53, 56, 57, 58, 59, 60, 61, 62, 63, 66, 67, 68, 69, 70, 71, 72, 75, 77, 79, 80, 81, 82, 84, 85, 87, 89, 90, 91, 92, 93, 95, 98, 100, 101, 102, 104]\n",
      "WARNING: aclu 78 is not present in the `pf1d_long` ratemaps. Which contain aclus: [2, 3, 4, 9, 11, 12, 13, 14, 15, 16, 18, 19, 20, 24, 25, 26, 27, 28, 30, 31, 32, 34, 38, 39, 40, 43, 44, 47, 48, 51, 52, 53, 56, 57, 58, 59, 60, 61, 62, 63, 66, 67, 68, 70, 71, 72, 75, 77, 79, 80, 81, 82, 83, 84, 85, 86, 87, 89, 90, 91, 92, 93, 95, 97, 98, 101, 102, 103, 104]\n",
      "WARNING: aclu 88 is not present in the `pf1d_short` ratemaps. Which contain aclus: [4, 6, 8, 9, 11, 12, 13, 14, 15, 16, 18, 20, 24, 25, 26, 27, 28, 31, 32, 38, 39, 40, 43, 44, 47, 48, 51, 52, 53, 56, 57, 58, 59, 60, 61, 62, 63, 66, 67, 68, 69, 70, 71, 72, 75, 77, 79, 80, 81, 82, 84, 85, 87, 89, 90, 91, 92, 93, 95, 98, 100, 101, 102, 104]\n",
      "WARNING: aclu 88 is not present in the `pf1d_long` ratemaps. Which contain aclus: [2, 3, 4, 9, 11, 12, 13, 14, 15, 16, 18, 19, 20, 24, 25, 26, 27, 28, 30, 31, 32, 34, 38, 39, 40, 43, 44, 47, 48, 51, 52, 53, 56, 57, 58, 59, 60, 61, 62, 63, 66, 67, 68, 70, 71, 72, 75, 77, 79, 80, 81, 82, 83, 84, 85, 86, 87, 89, 90, 91, 92, 93, 95, 97, 98, 101, 102, 103, 104]\n",
      "WARNING: aclu 94 is not present in the `pf1d_short` ratemaps. Which contain aclus: [4, 6, 8, 9, 11, 12, 13, 14, 15, 16, 18, 20, 24, 25, 26, 27, 28, 31, 32, 38, 39, 40, 43, 44, 47, 48, 51, 52, 53, 56, 57, 58, 59, 60, 61, 62, 63, 66, 67, 68, 69, 70, 71, 72, 75, 77, 79, 80, 81, 82, 84, 85, 87, 89, 90, 91, 92, 93, 95, 98, 100, 101, 102, 104]\n",
      "WARNING: aclu 94 is not present in the `pf1d_long` ratemaps. Which contain aclus: [2, 3, 4, 9, 11, 12, 13, 14, 15, 16, 18, 19, 20, 24, 25, 26, 27, 28, 30, 31, 32, 34, 38, 39, 40, 43, 44, 47, 48, 51, 52, 53, 56, 57, 58, 59, 60, 61, 62, 63, 66, 67, 68, 70, 71, 72, 75, 77, 79, 80, 81, 82, 83, 84, 85, 86, 87, 89, 90, 91, 92, 93, 95, 97, 98, 101, 102, 103, 104]\n",
      "WARNING: aclu 96 is not present in the `pf1d_short` ratemaps. Which contain aclus: [4, 6, 8, 9, 11, 12, 13, 14, 15, 16, 18, 20, 24, 25, 26, 27, 28, 31, 32, 38, 39, 40, 43, 44, 47, 48, 51, 52, 53, 56, 57, 58, 59, 60, 61, 62, 63, 66, 67, 68, 69, 70, 71, 72, 75, 77, 79, 80, 81, 82, 84, 85, 87, 89, 90, 91, 92, 93, 95, 98, 100, 101, 102, 104]\n",
      "WARNING: aclu 96 is not present in the `pf1d_long` ratemaps. Which contain aclus: [2, 3, 4, 9, 11, 12, 13, 14, 15, 16, 18, 19, 20, 24, 25, 26, 27, 28, 30, 31, 32, 34, 38, 39, 40, 43, 44, 47, 48, 51, 52, 53, 56, 57, 58, 59, 60, 61, 62, 63, 66, 67, 68, 70, 71, 72, 75, 77, 79, 80, 81, 82, 83, 84, 85, 86, 87, 89, 90, 91, 92, 93, 95, 97, 98, 101, 102, 103, 104]\n",
      "WARNING: aclu 97 is not present in the `pf1d_short` ratemaps. Which contain aclus: [4, 6, 8, 9, 11, 12, 13, 14, 15, 16, 18, 20, 24, 25, 26, 27, 28, 31, 32, 38, 39, 40, 43, 44, 47, 48, 51, 52, 53, 56, 57, 58, 59, 60, 61, 62, 63, 66, 67, 68, 69, 70, 71, 72, 75, 77, 79, 80, 81, 82, 84, 85, 87, 89, 90, 91, 92, 93, 95, 98, 100, 101, 102, 104]\n",
      "WARNING: aclu 99 is not present in the `pf1d_short` ratemaps. Which contain aclus: [4, 6, 8, 9, 11, 12, 13, 14, 15, 16, 18, 20, 24, 25, 26, 27, 28, 31, 32, 38, 39, 40, 43, 44, 47, 48, 51, 52, 53, 56, 57, 58, 59, 60, 61, 62, 63, 66, 67, 68, 69, 70, 71, 72, 75, 77, 79, 80, 81, 82, 84, 85, 87, 89, 90, 91, 92, 93, 95, 98, 100, 101, 102, 104]\n",
      "WARNING: aclu 99 is not present in the `pf1d_long` ratemaps. Which contain aclus: [2, 3, 4, 9, 11, 12, 13, 14, 15, 16, 18, 19, 20, 24, 25, 26, 27, 28, 30, 31, 32, 34, 38, 39, 40, 43, 44, 47, 48, 51, 52, 53, 56, 57, 58, 59, 60, 61, 62, 63, 66, 67, 68, 70, 71, 72, 75, 77, 79, 80, 81, 82, 83, 84, 85, 86, 87, 89, 90, 91, 92, 93, 95, 97, 98, 101, 102, 103, 104]\n"
     ]
    },
    {
     "name": "stderr",
     "output_type": "stream",
     "text": [
      "/home/halechr/repos/pyPhoPlaceCellAnalysis/src/pyphoplacecellanalysis/General/Batch/NonInteractiveProcessing.py:909: UserWarning: constrained_layout not applied because axes sizes collapsed to zero.  Try making figure larger or axes decorations smaller.\n",
      "  a_fig.savefig(fig_png_out_path)\n"
     ]
    },
    {
     "name": "stdout",
     "output_type": "stream",
     "text": [
      "\t saved /home/halechr/repos/Spike3D/EXTERNAL/Screenshots/ProgrammaticDisplayFunctionTesting/2024-09-26/kdiba/gor01/one/2006-6-09_1-22-43/BatchPhoJonathanReplayFRC_shared_5of5_(64,65,73,74,76,78,88,94,96,97,99).png\n",
      "\t saved \"file:///home/halechr/repos/Spike3D/EXTERNAL/Screenshots/ProgrammaticDisplayFunctionTesting/2024-09-26/kdiba/gor01/one/2006-6-09_1-22-43/plot_all_epoch_bins_marginal_predictions_Laps%20all_epoch_binned%20Marginals.png\"\n",
      "\t saved \"file:///home/halechr/repos/Spike3D/EXTERNAL/Screenshots/ProgrammaticDisplayFunctionTesting/2024-09-26/kdiba/gor01/one/2006-6-09_1-22-43/plot_all_epoch_bins_marginal_predictions_Ripple%20all_epoch_binned%20Marginals.png\"\n",
      "\t saved \"file:///home/halechr/repos/Spike3D/EXTERNAL/Screenshots/ProgrammaticDisplayFunctionTesting/2024-09-26/kdiba/gor01/one/2006-6-09_1-22-43/plot_quantile_diffs_BestDir.png\"\n",
      "result fixedup.\n"
     ]
    },
    {
     "name": "stderr",
     "output_type": "stream",
     "text": [
      "/home/halechr/repos/pyPhoPlaceCellAnalysis/src/pyphoplacecellanalysis/General/Pipeline/Stages/ComputationFunctions/MultiContextComputationFunctions/RankOrderComputations.py:2825: UserWarning: To output multiple subplots, the figure containing the passed axes is being cleared.\n",
      "  _out_z_score = pd.DataFrame({'LR_long_z_scores': rank_order_results.LR_ripple.long_z_score, 'LR_short_z_scores': rank_order_results.LR_ripple.short_z_score,\n"
     ]
    },
    {
     "name": "stdout",
     "output_type": "stream",
     "text": [
      "\t saved \"file:///home/halechr/repos/Spike3D/EXTERNAL/Screenshots/ProgrammaticDisplayFunctionTesting/2024-09-26/kdiba/gor01/one/2006-6-09_1-22-43/plot_rank_order_histograms_Ripple%20Z-scores.png\"\n"
     ]
    },
    {
     "name": "stderr",
     "output_type": "stream",
     "text": [
      "/home/halechr/repos/pyPhoPlaceCellAnalysis/src/pyphoplacecellanalysis/General/Pipeline/Stages/ComputationFunctions/MultiContextComputationFunctions/RankOrderComputations.py:2833: UserWarning: To output multiple subplots, the figure containing the passed axes is being cleared.\n",
      "  _out_real = pd.DataFrame({'LR_long_real_corr': np.squeeze(LR_results_real_values[:,0]), 'LR_short_real_corr': np.squeeze(LR_results_real_values[:,1]),\n"
     ]
    },
    {
     "name": "stdout",
     "output_type": "stream",
     "text": [
      "\t saved \"file:///home/halechr/repos/Spike3D/EXTERNAL/Screenshots/ProgrammaticDisplayFunctionTesting/2024-09-26/kdiba/gor01/one/2006-6-09_1-22-43/plot_rank_order_histograms_Ripple%20real%20correlations.png\"\n"
     ]
    },
    {
     "name": "stderr",
     "output_type": "stream",
     "text": [
      "/home/halechr/repos/pyPhoPlaceCellAnalysis/src/pyphoplacecellanalysis/General/Pipeline/Stages/ComputationFunctions/MultiContextComputationFunctions/RankOrderComputations.py:2842: UserWarning: To output multiple subplots, the figure containing the passed axes is being cleared.\n",
      "  _out_most_likely_z = pd.DataFrame({'most_likely_long_z_scores': rank_order_results.ripple_most_likely_result_tuple.long_best_dir_z_score_values, 'most_likely_short_z_scores': rank_order_results.ripple_most_likely_result_tuple.short_best_dir_z_score_values}).hist(bins=number_of_bins, ax=ax3, sharex=True, sharey=True)\n"
     ]
    },
    {
     "name": "stdout",
     "output_type": "stream",
     "text": [
      "\t saved \"file:///home/halechr/repos/Spike3D/EXTERNAL/Screenshots/ProgrammaticDisplayFunctionTesting/2024-09-26/kdiba/gor01/one/2006-6-09_1-22-43/plot_rank_order_histograms_Ripple%20Most-likely%20Z-scores.png\"\n"
     ]
    },
    {
     "name": "stderr",
     "output_type": "stream",
     "text": [
      "/home/halechr/repos/pyPhoPlaceCellAnalysis/src/pyphoplacecellanalysis/General/Pipeline/Stages/ComputationFunctions/MultiContextComputationFunctions/RankOrderComputations.py:2849: UserWarning: To output multiple subplots, the figure containing the passed axes is being cleared.\n",
      "  _out_most_likely_raw = pd.DataFrame({'most_likely_long_raw_rho': rank_order_results.ripple_combined_epoch_stats_df['Long_BestDir_spearman'].to_numpy(),\n"
     ]
    },
    {
     "name": "stdout",
     "output_type": "stream",
     "text": [
      "\t saved \"file:///home/halechr/repos/Spike3D/EXTERNAL/Screenshots/ProgrammaticDisplayFunctionTesting/2024-09-26/kdiba/gor01/one/2006-6-09_1-22-43/plot_rank_order_histograms_Ripple%20Most-likely%20Spearman%20Rho.png\"\n",
      ".plot_histograms(..., kwargs: {})\n",
      "\t saved \"file:///home/halechr/repos/Spike3D/EXTERNAL/Screenshots/ProgrammaticDisplayFunctionTesting/2024-09-26/kdiba/gor01/one/2006-6-09_1-22-43/plot_histograms_ripple_result_tuple.png\"\n",
      ".plot_histograms(..., kwargs: {})\n",
      "\t saved \"file:///home/halechr/repos/Spike3D/EXTERNAL/Screenshots/ProgrammaticDisplayFunctionTesting/2024-09-26/kdiba/gor01/one/2006-6-09_1-22-43/plot_histograms_laps_result_tuple.png\"\n",
      "WARNING: namespace collision in resolve_key! attr with name \"subplot_name\" already exists and the value differs: existing_value: Ripple new_value: z_score_diff. Using collision_prefix to add new name: \"subplotsubplot_name\"!\n",
      "WARNING: namespace collision in resolve_key! attr with name \"subplot_name\" already exists and the value differs: existing_value: Ripple new_value: raw. Using collision_prefix to add new name: \"subplotsubplot_name\"!\n",
      "WARNING: namespace collision in resolve_key! attr with name \"subplot_name\" already exists and the value differs: existing_value: Ripple new_value: raw. Using collision_prefix to add new name: \"subplotsubplot_name\"!\n",
      "exported plot to \"/home/halechr/repos/Spike3D/EXTERNAL/Screenshots/ProgrammaticDisplayFunctionTesting/2024-09-26/kdiba/gor01/one/2006-6-09_1-22-43/plot_rank_order_epoch_inst_fr_result_tuples_Ripple_z_score_diff.png\"\n",
      "\t saved \"file:///home/halechr/repos/Spike3D/EXTERNAL/Screenshots/ProgrammaticDisplayFunctionTesting/2024-09-26/kdiba/gor01/one/2006-6-09_1-22-43/plot_rank_order_epoch_inst_fr_result_tuples_Ripple_z_score_diff.png\"\n",
      "exported plot to \"/home/halechr/repos/Spike3D/EXTERNAL/Screenshots/ProgrammaticDisplayFunctionTesting/2024-09-26/kdiba/gor01/one/2006-6-09_1-22-43/plot_rank_order_epoch_inst_fr_result_tuples_Ripple_raw.png\"\n",
      "\t saved \"file:///home/halechr/repos/Spike3D/EXTERNAL/Screenshots/ProgrammaticDisplayFunctionTesting/2024-09-26/kdiba/gor01/one/2006-6-09_1-22-43/plot_rank_order_epoch_inst_fr_result_tuples_Ripple_raw.png\"\n",
      "WARNING: namespace collision in resolve_key! attr with name \"subplot_name\" already exists and the value differs: existing_value: Lap new_value: z_score_diff. Using collision_prefix to add new name: \"subplotsubplot_name\"!\n",
      "WARNING: namespace collision in resolve_key! attr with name \"subplot_name\" already exists and the value differs: existing_value: Lap new_value: raw. Using collision_prefix to add new name: \"subplotsubplot_name\"!\n",
      "WARNING: namespace collision in resolve_key! attr with name \"subplot_name\" already exists and the value differs: existing_value: Lap new_value: raw. Using collision_prefix to add new name: \"subplotsubplot_name\"!\n",
      "exported plot to \"/home/halechr/repos/Spike3D/EXTERNAL/Screenshots/ProgrammaticDisplayFunctionTesting/2024-09-26/kdiba/gor01/one/2006-6-09_1-22-43/plot_rank_order_epoch_inst_fr_result_tuples_Lap_z_score_diff.png\"\n",
      "\t saved \"file:///home/halechr/repos/Spike3D/EXTERNAL/Screenshots/ProgrammaticDisplayFunctionTesting/2024-09-26/kdiba/gor01/one/2006-6-09_1-22-43/plot_rank_order_epoch_inst_fr_result_tuples_Lap_z_score_diff.png\"\n",
      "exported plot to \"/home/halechr/repos/Spike3D/EXTERNAL/Screenshots/ProgrammaticDisplayFunctionTesting/2024-09-26/kdiba/gor01/one/2006-6-09_1-22-43/plot_rank_order_epoch_inst_fr_result_tuples_Lap_raw.png\"\n",
      "\t saved \"file:///home/halechr/repos/Spike3D/EXTERNAL/Screenshots/ProgrammaticDisplayFunctionTesting/2024-09-26/kdiba/gor01/one/2006-6-09_1-22-43/plot_rank_order_epoch_inst_fr_result_tuples_Lap_raw.png\"\n",
      "\t saved \"file:///home/halechr/repos/Spike3D/EXTERNAL/Screenshots/ProgrammaticDisplayFunctionTesting/2024-09-26/kdiba/gor01/one/2006-6-09_1-22-43/bidir_track_remap_Track%20Remapping.png\"\n",
      "batch_extended_programmatic_figures(...): \"_display_trial_to_trial_reliability\" failed with error: 'pf2D_dt'\n",
      " skipping.\n",
      "title: Directional_Marginal_LAPS_t-bin_0.25\n"
     ]
    },
    {
     "name": "stderr",
     "output_type": "stream",
     "text": [
      "/home/halechr/repos/pyPhoPlaceCellAnalysis/src/pyphoplacecellanalysis/General/Mixins/ExportHelpers.py:714: UserWarning: constrained_layout not applied because axes sizes collapsed to zero.  Try making figure larger or axes decorations smaller.\n",
      "  a_fig.savefig(fig_png_out_path)\n"
     ]
    },
    {
     "name": "stdout",
     "output_type": "stream",
     "text": [
      "\t saved \"file:///home/halechr/repos/Spike3D/EXTERNAL/Screenshots/ProgrammaticDisplayFunctionTesting/2024-09-26/kdiba/gor01/one/2006-6-09_1-22-43/directional_merged_pf_decoded_epochs_Laps_Direction_0%E2%80%A225.png\"\n"
     ]
    },
    {
     "name": "stderr",
     "output_type": "stream",
     "text": [
      "/home/halechr/repos/Spike3D/.venv/lib/python3.9/site-packages/numpy/lib/nanfunctions.py:1215: RuntimeWarning: Mean of empty slice\n",
      "  return np.nanmean(a, axis, out=out, keepdims=keepdims)\n"
     ]
    },
    {
     "name": "stdout",
     "output_type": "stream",
     "text": [
      "WARN: active_extent (xmin, xmax, ymin, ymax): (nan, nan, 37.0773897438341, 253.98616538463315) contains NaN or Inf.\n",
      "\terr: Axis limits cannot be NaN or Inf\n",
      "WARN: active_extent (xmin, xmax, ymin, ymax): (nan, nan, 37.0773897438341, 253.98616538463315) contains NaN or Inf.\n",
      "\terr: Axis limits cannot be NaN or Inf\n",
      "WARN: active_extent (xmin, xmax, ymin, ymax): (nan, nan, 37.0773897438341, 253.98616538463315) contains NaN or Inf.\n",
      "\terr: Axis limits cannot be NaN or Inf\n",
      "WARN: active_extent (xmin, xmax, ymin, ymax): (nan, nan, 37.0773897438341, 253.98616538463315) contains NaN or Inf.\n",
      "\terr: Axis limits cannot be NaN or Inf\n",
      "WARN: active_extent (xmin, xmax, ymin, ymax): (nan, nan, 37.0773897438341, 253.98616538463315) contains NaN or Inf.\n",
      "\terr: Axis limits cannot be NaN or Inf\n",
      "WARN: active_extent (xmin, xmax, ymin, ymax): (nan, nan, 37.0773897438341, 253.98616538463315) contains NaN or Inf.\n",
      "\terr: Axis limits cannot be NaN or Inf\n",
      "WARN: active_extent (xmin, xmax, ymin, ymax): (nan, nan, 37.0773897438341, 253.98616538463315) contains NaN or Inf.\n",
      "\terr: Axis limits cannot be NaN or Inf\n",
      "WARN: active_extent (xmin, xmax, ymin, ymax): (nan, nan, 37.0773897438341, 253.98616538463315) contains NaN or Inf.\n",
      "\terr: Axis limits cannot be NaN or Inf\n",
      "WARN: active_extent (xmin, xmax, ymin, ymax): (nan, nan, 37.0773897438341, 253.98616538463315) contains NaN or Inf.\n",
      "\terr: Axis limits cannot be NaN or Inf\n",
      "WARN: active_extent (xmin, xmax, ymin, ymax): (nan, nan, 37.0773897438341, 253.98616538463315) contains NaN or Inf.\n",
      "\terr: Axis limits cannot be NaN or Inf\n",
      "WARN: active_extent (xmin, xmax, ymin, ymax): (nan, nan, 37.0773897438341, 253.98616538463315) contains NaN or Inf.\n",
      "\terr: Axis limits cannot be NaN or Inf\n",
      "WARN: active_extent (xmin, xmax, ymin, ymax): (nan, nan, 37.0773897438341, 253.98616538463315) contains NaN or Inf.\n",
      "\terr: Axis limits cannot be NaN or Inf\n",
      "WARN: active_extent (xmin, xmax, ymin, ymax): (nan, nan, 37.0773897438341, 253.98616538463315) contains NaN or Inf.\n",
      "\terr: Axis limits cannot be NaN or Inf\n",
      "WARN: active_extent (xmin, xmax, ymin, ymax): (nan, nan, 37.0773897438341, 253.98616538463315) contains NaN or Inf.\n",
      "\terr: Axis limits cannot be NaN or Inf\n",
      "WARN: active_extent (xmin, xmax, ymin, ymax): (nan, nan, 37.0773897438341, 253.98616538463315) contains NaN or Inf.\n",
      "\terr: Axis limits cannot be NaN or Inf\n",
      "WARN: active_extent (xmin, xmax, ymin, ymax): (nan, nan, 37.0773897438341, 253.98616538463315) contains NaN or Inf.\n",
      "\terr: Axis limits cannot be NaN or Inf\n",
      "WARN: active_extent (xmin, xmax, ymin, ymax): (nan, nan, 37.0773897438341, 253.98616538463315) contains NaN or Inf.\n",
      "\terr: Axis limits cannot be NaN or Inf\n",
      "WARN: active_extent (xmin, xmax, ymin, ymax): (nan, nan, 37.0773897438341, 253.98616538463315) contains NaN or Inf.\n",
      "\terr: Axis limits cannot be NaN or Inf\n",
      "WARN: active_extent (xmin, xmax, ymin, ymax): (nan, nan, 37.0773897438341, 253.98616538463315) contains NaN or Inf.\n",
      "\terr: Axis limits cannot be NaN or Inf\n",
      "WARN: active_extent (xmin, xmax, ymin, ymax): (nan, nan, 37.0773897438341, 253.98616538463315) contains NaN or Inf.\n",
      "\terr: Axis limits cannot be NaN or Inf\n",
      "WARN: active_extent (xmin, xmax, ymin, ymax): (nan, nan, 37.0773897438341, 253.98616538463315) contains NaN or Inf.\n",
      "\terr: Axis limits cannot be NaN or Inf\n",
      "WARN: active_extent (xmin, xmax, ymin, ymax): (nan, nan, 37.0773897438341, 253.98616538463315) contains NaN or Inf.\n",
      "\terr: Axis limits cannot be NaN or Inf\n",
      "title: Directional_Marginal_Ripples_t-bin_0.025\n"
     ]
    },
    {
     "name": "stderr",
     "output_type": "stream",
     "text": [
      "/home/halechr/repos/pyPhoPlaceCellAnalysis/src/pyphoplacecellanalysis/General/Mixins/ExportHelpers.py:714: UserWarning: constrained_layout not applied because axes sizes collapsed to zero.  Try making figure larger or axes decorations smaller.\n",
      "  a_fig.savefig(fig_png_out_path)\n"
     ]
    },
    {
     "name": "stdout",
     "output_type": "stream",
     "text": [
      "\t saved \"file:///home/halechr/repos/Spike3D/EXTERNAL/Screenshots/ProgrammaticDisplayFunctionTesting/2024-09-26/kdiba/gor01/one/2006-6-09_1-22-43/directional_merged_pf_decoded_epochs_Ripple_Direction_0%E2%80%A2025.png\"\n",
      "title: TrackIdentity_Marginal_LAPS_t-bin_0.25\n"
     ]
    },
    {
     "name": "stderr",
     "output_type": "stream",
     "text": [
      "/home/halechr/repos/pyPhoPlaceCellAnalysis/src/pyphoplacecellanalysis/General/Mixins/ExportHelpers.py:714: UserWarning: constrained_layout not applied because axes sizes collapsed to zero.  Try making figure larger or axes decorations smaller.\n",
      "  a_fig.savefig(fig_png_out_path)\n"
     ]
    },
    {
     "name": "stdout",
     "output_type": "stream",
     "text": [
      "\t saved \"file:///home/halechr/repos/Spike3D/EXTERNAL/Screenshots/ProgrammaticDisplayFunctionTesting/2024-09-26/kdiba/gor01/one/2006-6-09_1-22-43/directional_merged_pf_decoded_epochs_Laps_TrackID_0%E2%80%A225.png\"\n"
     ]
    },
    {
     "name": "stderr",
     "output_type": "stream",
     "text": [
      "/home/halechr/repos/Spike3D/.venv/lib/python3.9/site-packages/numpy/lib/nanfunctions.py:1215: RuntimeWarning: Mean of empty slice\n",
      "  return np.nanmean(a, axis, out=out, keepdims=keepdims)\n"
     ]
    },
    {
     "name": "stdout",
     "output_type": "stream",
     "text": [
      "WARN: active_extent (xmin, xmax, ymin, ymax): (nan, nan, 37.0773897438341, 253.98616538463315) contains NaN or Inf.\n",
      "\terr: Axis limits cannot be NaN or Inf\n",
      "WARN: active_extent (xmin, xmax, ymin, ymax): (nan, nan, 37.0773897438341, 253.98616538463315) contains NaN or Inf.\n",
      "\terr: Axis limits cannot be NaN or Inf\n",
      "WARN: active_extent (xmin, xmax, ymin, ymax): (nan, nan, 37.0773897438341, 253.98616538463315) contains NaN or Inf.\n",
      "\terr: Axis limits cannot be NaN or Inf\n",
      "WARN: active_extent (xmin, xmax, ymin, ymax): (nan, nan, 37.0773897438341, 253.98616538463315) contains NaN or Inf.\n",
      "\terr: Axis limits cannot be NaN or Inf\n",
      "WARN: active_extent (xmin, xmax, ymin, ymax): (nan, nan, 37.0773897438341, 253.98616538463315) contains NaN or Inf.\n",
      "\terr: Axis limits cannot be NaN or Inf\n",
      "WARN: active_extent (xmin, xmax, ymin, ymax): (nan, nan, 37.0773897438341, 253.98616538463315) contains NaN or Inf.\n",
      "\terr: Axis limits cannot be NaN or Inf\n",
      "WARN: active_extent (xmin, xmax, ymin, ymax): (nan, nan, 37.0773897438341, 253.98616538463315) contains NaN or Inf.\n",
      "\terr: Axis limits cannot be NaN or Inf\n",
      "WARN: active_extent (xmin, xmax, ymin, ymax): (nan, nan, 37.0773897438341, 253.98616538463315) contains NaN or Inf.\n",
      "\terr: Axis limits cannot be NaN or Inf\n",
      "WARN: active_extent (xmin, xmax, ymin, ymax): (nan, nan, 37.0773897438341, 253.98616538463315) contains NaN or Inf.\n",
      "\terr: Axis limits cannot be NaN or Inf\n",
      "WARN: active_extent (xmin, xmax, ymin, ymax): (nan, nan, 37.0773897438341, 253.98616538463315) contains NaN or Inf.\n",
      "\terr: Axis limits cannot be NaN or Inf\n",
      "WARN: active_extent (xmin, xmax, ymin, ymax): (nan, nan, 37.0773897438341, 253.98616538463315) contains NaN or Inf.\n",
      "\terr: Axis limits cannot be NaN or Inf\n",
      "WARN: active_extent (xmin, xmax, ymin, ymax): (nan, nan, 37.0773897438341, 253.98616538463315) contains NaN or Inf.\n",
      "\terr: Axis limits cannot be NaN or Inf\n",
      "WARN: active_extent (xmin, xmax, ymin, ymax): (nan, nan, 37.0773897438341, 253.98616538463315) contains NaN or Inf.\n",
      "\terr: Axis limits cannot be NaN or Inf\n",
      "WARN: active_extent (xmin, xmax, ymin, ymax): (nan, nan, 37.0773897438341, 253.98616538463315) contains NaN or Inf.\n",
      "\terr: Axis limits cannot be NaN or Inf\n",
      "WARN: active_extent (xmin, xmax, ymin, ymax): (nan, nan, 37.0773897438341, 253.98616538463315) contains NaN or Inf.\n",
      "\terr: Axis limits cannot be NaN or Inf\n",
      "WARN: active_extent (xmin, xmax, ymin, ymax): (nan, nan, 37.0773897438341, 253.98616538463315) contains NaN or Inf.\n",
      "\terr: Axis limits cannot be NaN or Inf\n",
      "WARN: active_extent (xmin, xmax, ymin, ymax): (nan, nan, 37.0773897438341, 253.98616538463315) contains NaN or Inf.\n",
      "\terr: Axis limits cannot be NaN or Inf\n",
      "WARN: active_extent (xmin, xmax, ymin, ymax): (nan, nan, 37.0773897438341, 253.98616538463315) contains NaN or Inf.\n",
      "\terr: Axis limits cannot be NaN or Inf\n",
      "WARN: active_extent (xmin, xmax, ymin, ymax): (nan, nan, 37.0773897438341, 253.98616538463315) contains NaN or Inf.\n",
      "\terr: Axis limits cannot be NaN or Inf\n",
      "WARN: active_extent (xmin, xmax, ymin, ymax): (nan, nan, 37.0773897438341, 253.98616538463315) contains NaN or Inf.\n",
      "\terr: Axis limits cannot be NaN or Inf\n",
      "WARN: active_extent (xmin, xmax, ymin, ymax): (nan, nan, 37.0773897438341, 253.98616538463315) contains NaN or Inf.\n",
      "\terr: Axis limits cannot be NaN or Inf\n",
      "WARN: active_extent (xmin, xmax, ymin, ymax): (nan, nan, 37.0773897438341, 253.98616538463315) contains NaN or Inf.\n",
      "\terr: Axis limits cannot be NaN or Inf\n",
      "title: TrackIdentity_Marginal_Ripples_t-bin_0.025\n"
     ]
    },
    {
     "name": "stderr",
     "output_type": "stream",
     "text": [
      "/home/halechr/repos/pyPhoPlaceCellAnalysis/src/pyphoplacecellanalysis/General/Mixins/ExportHelpers.py:714: UserWarning: constrained_layout not applied because axes sizes collapsed to zero.  Try making figure larger or axes decorations smaller.\n",
      "  a_fig.savefig(fig_png_out_path)\n"
     ]
    },
    {
     "name": "stdout",
     "output_type": "stream",
     "text": [
      "\t saved \"file:///home/halechr/repos/Spike3D/EXTERNAL/Screenshots/ProgrammaticDisplayFunctionTesting/2024-09-26/kdiba/gor01/one/2006-6-09_1-22-43/directional_merged_pf_decoded_epochs_Ripple_TrackID_0%E2%80%A2025.png\"\n",
      "Neptuner.stop() called!\n",
      "[neptune] [info   ] Shutting down background jobs, please wait a moment...\n",
      "[neptune] [info   ] Done!\n",
      "[neptune] [info   ] Waiting for the remaining 81 operations to synchronize with Neptune. Do not kill this process.\n",
      "[neptune] [info   ] Still waiting for the remaining 65 operations (19.75% done). Please wait.\n",
      "[neptune] [info   ] All 81 operations synced, thanks for waiting!\n",
      "[neptune] [info   ] Explore the metadata in the Neptune app: https://app.neptune.ai/commander.pho/PhoDibaLongShortUpdated/e/LS2023-1368/metadata\n",
      "[neptune] [info   ] Shutting down background jobs, please wait a moment...\n",
      "[neptune] [info   ] Done!\n",
      "[neptune] [info   ] All 0 operations synced, thanks for waiting!\n",
      "[neptune] [info   ] Explore the metadata in the Neptune app: https://app.neptune.ai/commander.pho/PhoDibaLongShortUpdated/metadata\n",
      "Neptuner stoppped.\n",
      "Neptuner.stop() called!\n",
      "Neptuner stoppped.\n",
      "DEPRICATION WARNING: workaround to allow subscripting ComputationResult objects. Will be depricated. key: computed_data\n",
      "DEPRICATION WARNING: workaround to allow subscripting ComputationResult objects. Will be depricated. key: computed_data\n",
      "DEPRICATION WARNING: workaround to allow subscripting ComputationResult objects. Will be depricated. key: computed_data\n",
      "DEPRICATION WARNING: workaround to allow subscripting ComputationResult objects. Will be depricated. key: computation_config\n",
      "DEPRICATION WARNING: workaround to allow subscripting ComputationResult objects. Will be depricated. key: computation_config\n",
      "DEPRICATION WARNING: workaround to allow subscripting ComputationResult objects. Will be depricated. key: computation_config\n",
      "WARN: 2023-09-28 16:15: - [ ] fix the combination properties. Would work if we directly used the computed _is_L_only and _is_S_only above\n"
     ]
    },
    {
     "name": "stderr",
     "output_type": "stream",
     "text": [
      "/home/halechr/repos/NeuroPy/neuropy/core/flattened_spiketrains.py:263: SettingWithCopyWarning: \n",
      "A value is trying to be set on a copy of a slice from a DataFrame.\n",
      "Try using .loc[row_indexer,col_indexer] = value instead\n",
      "\n",
      "See the caveats in the documentation: https://pandas.pydata.org/pandas-docs/stable/user_guide/indexing.html#returning-a-view-versus-a-copy\n",
      "  self._obj['fragile_linear_neuron_IDX'] = included_cell_INDEXES.copy()\n",
      "/home/halechr/repos/NeuroPy/neuropy/core/flattened_spiketrains.py:266: SettingWithCopyWarning: \n",
      "A value is trying to be set on a copy of a slice from a DataFrame.\n",
      "Try using .loc[row_indexer,col_indexer] = value instead\n",
      "\n",
      "See the caveats in the documentation: https://pandas.pydata.org/pandas-docs/stable/user_guide/indexing.html#returning-a-view-versus-a-copy\n",
      "  self._obj['neuron_IDX'] = self._obj['fragile_linear_neuron_IDX'].copy()\n"
     ]
    },
    {
     "name": "stdout",
     "output_type": "stream",
     "text": [
      "An exception occurred: Version mismatch: this is the 'cffi' package version 1.17.1, located in '/sw/pkgs/arc/globus-cli/3.30.1/lib/python3.12/site-packages/cffi/api.py'.  When we import the top-level '_cffi_backend' extension module, we get version 1.16.0, located in '/home/halechr/repos/Spike3D/.venv/lib/python3.9/site-packages/_cffi_backend.cpython-39-x86_64-linux-gnu.so'.  The two versions should be equal; check your installation.\n",
      "An exception occurred: Version mismatch: this is the 'cffi' package version 1.17.1, located in '/sw/pkgs/arc/globus-cli/3.30.1/lib/python3.12/site-packages/cffi/api.py'.  When we import the top-level '_cffi_backend' extension module, we get version 1.16.0, located in '/home/halechr/repos/Spike3D/.venv/lib/python3.9/site-packages/_cffi_backend.cpython-39-x86_64-linux-gnu.so'.  The two versions should be equal; check your installation.\n",
      "An exception occurred: Version mismatch: this is the 'cffi' package version 1.17.1, located in '/sw/pkgs/arc/globus-cli/3.30.1/lib/python3.12/site-packages/cffi/api.py'.  When we import the top-level '_cffi_backend' extension module, we get version 1.16.0, located in '/home/halechr/repos/Spike3D/.venv/lib/python3.9/site-packages/_cffi_backend.cpython-39-x86_64-linux-gnu.so'.  The two versions should be equal; check your installation.\n",
      "main_complete_figure_generations failed with exception: !! Version mismatch: this is the 'cffi' package version 1.17.1, located in '/sw/pkgs/arc/globus-cli/3.30.1/lib/python3.12/site-packages/cffi/api.py'.  When we import the top-level '_cffi_backend' extension module, we get version 1.16.0, located in '/home/halechr/repos/Spike3D/.venv/lib/python3.9/site-packages/_cffi_backend.cpython-39-x86_64-linux-gnu.so'.  The two versions should be equal; check your installation. ::::: (<class 'Exception'>, Exception(\"Version mismatch: this is the 'cffi' package version 1.17.1, located in '/sw/pkgs/arc/globus-cli/3.30.1/lib/python3.12/site-packages/cffi/api.py'.  When we import the top-level '_cffi_backend' extension module, we get version 1.16.0, located in '/home/halechr/repos/Spike3D/.venv/lib/python3.9/site-packages/_cffi_backend.cpython-39-x86_64-linux-gnu.so'.  The two versions should be equal; check your installation.\"), <traceback object at 0x153093b4f440>)\n",
      "\t time since last computation: 29 days, 6:00:47.623267\n",
      "\t doing specific instantaneous firing rate computation for context: kdiba_gor01_one_2006-6-09_1-22-43...\n",
      "setting LxC_aclus/SxC_aclus from user annotation.\n",
      "DropShorterMode:\n",
      "\tminimum_event_duration present (minimum_event_duration=0.003).\n",
      "\tdropping 0 that are shorter than our minimum_event_duration of 0.003.\t224 remain.\n",
      "WARN: on_complete_success_execution_session: encountered exception !! Version mismatch: this is the 'cffi' package version 1.17.1, located in '/sw/pkgs/arc/globus-cli/3.30.1/lib/python3.12/site-packages/cffi/api.py'.  When we import the top-level '_cffi_backend' extension module, we get version 1.16.0, located in '/home/halechr/repos/Spike3D/.venv/lib/python3.9/site-packages/_cffi_backend.cpython-39-x86_64-linux-gnu.so'.  The two versions should be equal; check your installation. ::::: (<class 'Exception'>, Exception(\"Version mismatch: this is the 'cffi' package version 1.17.1, located in '/sw/pkgs/arc/globus-cli/3.30.1/lib/python3.12/site-packages/cffi/api.py'.  When we import the top-level '_cffi_backend' extension module, we get version 1.16.0, located in '/home/halechr/repos/Spike3D/.venv/lib/python3.9/site-packages/_cffi_backend.cpython-39-x86_64-linux-gnu.so'.  The two versions should be equal; check your installation.\"), <traceback object at 0x1530633baf00>) while trying to compute the instantaneous firing rates and set self.across_sessions_instantaneous_fr_dict[kdiba_gor01_one_2006-6-09_1-22-43]\n",
      "\"========================== END BATCH ==========================\n",
      "\n",
      "\n",
      "build_logger(full_logger_string=\"2024-09-26_19-09-30.gl3151.arc-ts.umich.edu.com.PhoHale.PhoPy3DPositionAnalyis.Batch.runBatch.run_specific_batch.kdiba.gor01.one.2006-6-12_15-55-31\", file_logging_dir: None):\n",
      "========================== runBatch STARTING ==========================\n",
      "\tglobal_data_root_parent_path: /nfs/turbo/umms-kdiba/Data\n",
      "\tsession_context: kdiba_gor01_one_2006-6-12_15-55-31\n",
      "\tsession_basedir: \"/nfs/turbo/umms-kdiba/Data/KDIBA/gor01/one/2006-6-12_15-55-31\"\n",
      "__________________________________________________________________\n",
      "basedir: /nfs/turbo/umms-kdiba/Data/KDIBA/gor01/one/2006-6-12_15-55-31\n",
      "active_data_mode_name: kdiba\n",
      "Computing loaded session pickle file results : \"/nfs/turbo/umms-kdiba/Data/KDIBA/gor01/one/2006-6-12_15-55-31/loadedSessPickle.pkl\"... build_logger(full_logger_string=\"2024-09-26_19-09-37.gl3151.arc-ts.umich.edu.kdiba.gor01.one.2006-6-12_15-55-31\", file_logging_dir: None):\n",
      "done.\n",
      "Loading pickled pipeline success: /nfs/turbo/umms-kdiba/Data/KDIBA/gor01/one/2006-6-12_15-55-31/loadedSessPickle.pkl.\n",
      "properties already present in pickled version. No need to save.\n",
      "pipeline load success!\n"
     ]
    },
    {
     "name": "stderr",
     "output_type": "stream",
     "text": [
      "WARNING: saving_mode is SKIP_SAVING so pipeline will not be saved despite calling .save_pipeline(...).\n",
      "WARNING: saving_mode is SKIP_SAVING so pipeline will not be saved despite calling .save_pipeline(...).\n"
     ]
    },
    {
     "name": "stdout",
     "output_type": "stream",
     "text": [
      "using provided computation_functions_name_includelist: ['pf_computation', 'pfdt_computation', 'firing_rate_trends', 'position_decoding']\n",
      "WARNING: skipping computation because overwrite_extant_results=False and `active_computation_results[maze1_odd]` already exists and is non-None\n",
      "\t TODO: this will prevent recomputation even when the excludelist/includelist or computation function definitions change. Rework so that this is smarter.\n",
      "WARNING: skipping computation because overwrite_extant_results=False and `active_computation_results[maze2_odd]` already exists and is non-None\n",
      "\t TODO: this will prevent recomputation even when the excludelist/includelist or computation function definitions change. Rework so that this is smarter.\n",
      "WARNING: skipping computation because overwrite_extant_results=False and `active_computation_results[maze_odd]` already exists and is non-None\n",
      "\t TODO: this will prevent recomputation even when the excludelist/includelist or computation function definitions change. Rework so that this is smarter.\n",
      "WARNING: skipping computation because overwrite_extant_results=False and `active_computation_results[maze1_even]` already exists and is non-None\n",
      "\t TODO: this will prevent recomputation even when the excludelist/includelist or computation function definitions change. Rework so that this is smarter.\n",
      "WARNING: skipping computation because overwrite_extant_results=False and `active_computation_results[maze2_even]` already exists and is non-None\n",
      "\t TODO: this will prevent recomputation even when the excludelist/includelist or computation function definitions change. Rework so that this is smarter.\n",
      "WARNING: skipping computation because overwrite_extant_results=False and `active_computation_results[maze_even]` already exists and is non-None\n",
      "\t TODO: this will prevent recomputation even when the excludelist/includelist or computation function definitions change. Rework so that this is smarter.\n",
      "WARNING: skipping computation because overwrite_extant_results=False and `active_computation_results[maze1_any]` already exists and is non-None\n",
      "\t TODO: this will prevent recomputation even when the excludelist/includelist or computation function definitions change. Rework so that this is smarter.\n",
      "WARNING: skipping computation because overwrite_extant_results=False and `active_computation_results[maze2_any]` already exists and is non-None\n",
      "\t TODO: this will prevent recomputation even when the excludelist/includelist or computation function definitions change. Rework so that this is smarter.\n",
      "WARNING: skipping computation because overwrite_extant_results=False and `active_computation_results[maze_any]` already exists and is non-None\n",
      "\t TODO: this will prevent recomputation even when the excludelist/includelist or computation function definitions change. Rework so that this is smarter.\n",
      "WARNING: skipping computation because overwrite_extant_results=False and `active_computation_results[maze1_odd]` already exists and is non-None\n",
      "\t TODO: this will prevent recomputation even when the excludelist/includelist or computation function definitions change. Rework so that this is smarter.\n",
      "WARNING: skipping computation because overwrite_extant_results=False and `active_computation_results[maze2_odd]` already exists and is non-None\n",
      "\t TODO: this will prevent recomputation even when the excludelist/includelist or computation function definitions change. Rework so that this is smarter.\n",
      "WARNING: skipping computation because overwrite_extant_results=False and `active_computation_results[maze_odd]` already exists and is non-None\n",
      "\t TODO: this will prevent recomputation even when the excludelist/includelist or computation function definitions change. Rework so that this is smarter.\n",
      "WARNING: skipping computation because overwrite_extant_results=False and `active_computation_results[maze1_even]` already exists and is non-None\n",
      "\t TODO: this will prevent recomputation even when the excludelist/includelist or computation function definitions change. Rework so that this is smarter.\n",
      "WARNING: skipping computation because overwrite_extant_results=False and `active_computation_results[maze2_even]` already exists and is non-None\n",
      "\t TODO: this will prevent recomputation even when the excludelist/includelist or computation function definitions change. Rework so that this is smarter.\n",
      "WARNING: skipping computation because overwrite_extant_results=False and `active_computation_results[maze_even]` already exists and is non-None\n",
      "\t TODO: this will prevent recomputation even when the excludelist/includelist or computation function definitions change. Rework so that this is smarter.\n",
      "WARNING: skipping computation because overwrite_extant_results=False and `active_computation_results[maze1_any]` already exists and is non-None\n",
      "\t TODO: this will prevent recomputation even when the excludelist/includelist or computation function definitions change. Rework so that this is smarter.\n",
      "WARNING: skipping computation because overwrite_extant_results=False and `active_computation_results[maze2_any]` already exists and is non-None\n",
      "\t TODO: this will prevent recomputation even when the excludelist/includelist or computation function definitions change. Rework so that this is smarter.\n",
      "WARNING: skipping computation because overwrite_extant_results=False and `active_computation_results[maze_any]` already exists and is non-None\n",
      "\t TODO: this will prevent recomputation even when the excludelist/includelist or computation function definitions change. Rework so that this is smarter.\n",
      "WARNING: skipping computation because overwrite_extant_results=False and `active_computation_results[maze1_odd]` already exists and is non-None\n",
      "\t TODO: this will prevent recomputation even when the excludelist/includelist or computation function definitions change. Rework so that this is smarter.\n",
      "WARNING: skipping computation because overwrite_extant_results=False and `active_computation_results[maze2_odd]` already exists and is non-None\n",
      "\t TODO: this will prevent recomputation even when the excludelist/includelist or computation function definitions change. Rework so that this is smarter.\n",
      "WARNING: skipping computation because overwrite_extant_results=False and `active_computation_results[maze_odd]` already exists and is non-None\n",
      "\t TODO: this will prevent recomputation even when the excludelist/includelist or computation function definitions change. Rework so that this is smarter.\n",
      "WARNING: skipping computation because overwrite_extant_results=False and `active_computation_results[maze1_even]` already exists and is non-None\n",
      "\t TODO: this will prevent recomputation even when the excludelist/includelist or computation function definitions change. Rework so that this is smarter.\n",
      "WARNING: skipping computation because overwrite_extant_results=False and `active_computation_results[maze2_even]` already exists and is non-None\n",
      "\t TODO: this will prevent recomputation even when the excludelist/includelist or computation function definitions change. Rework so that this is smarter.\n",
      "WARNING: skipping computation because overwrite_extant_results=False and `active_computation_results[maze_even]` already exists and is non-None\n",
      "\t TODO: this will prevent recomputation even when the excludelist/includelist or computation function definitions change. Rework so that this is smarter.\n",
      "WARNING: skipping computation because overwrite_extant_results=False and `active_computation_results[maze1_any]` already exists and is non-None\n",
      "\t TODO: this will prevent recomputation even when the excludelist/includelist or computation function definitions change. Rework so that this is smarter.\n",
      "WARNING: skipping computation because overwrite_extant_results=False and `active_computation_results[maze2_any]` already exists and is non-None\n",
      "\t TODO: this will prevent recomputation even when the excludelist/includelist or computation function definitions change. Rework so that this is smarter.\n",
      "WARNING: skipping computation because overwrite_extant_results=False and `active_computation_results[maze_any]` already exists and is non-None\n",
      "\t TODO: this will prevent recomputation even when the excludelist/includelist or computation function definitions change. Rework so that this is smarter.\n",
      "WARNING: saving_mode is SKIP_SAVING so pipeline will not be saved despite calling .save_pipeline(...).\n",
      "saving_mode.shouldSave == False, so not saving at the end of batch_load_session\n",
      "on_complete_success_execution_session(curr_session_context: kdiba_gor01_one_2006-6-12_15-55-31, curr_session_basedir: /nfs/turbo/umms-kdiba/Data/KDIBA/gor01/one/2006-6-12_15-55-31, ...)\n",
      "DEPRICATION WARNING: workaround to allow subscripting ComputationResult objects. Will be depricated. key: computed_data\n",
      "DEPRICATION WARNING: workaround to allow subscripting ComputationResult objects. Will be depricated. key: computed_data\n",
      "DEPRICATION WARNING: workaround to allow subscripting ComputationResult objects. Will be depricated. key: computed_data\n",
      "DEPRICATION WARNING: workaround to allow subscripting ComputationResult objects. Will be depricated. key: computed_data\n",
      "DEPRICATION WARNING: workaround to allow subscripting ComputationResult objects. Will be depricated. key: computed_data\n",
      "DEPRICATION WARNING: workaround to allow subscripting ComputationResult objects. Will be depricated. key: computed_data\n",
      "were pipeline preprocessing parameters missing and updated?: False\n",
      "WARNING: saving_mode is SKIP_SAVING so pipeline will not be saved despite calling .save_pipeline(...).\n",
      "Computing loaded session pickle file results : \"/nfs/turbo/umms-kdiba/Data/KDIBA/gor01/one/2006-6-12_15-55-31/output/global_computation_results.pkl\"... done.\n",
      "_perform_long_short_instantaneous_spike_rate_groups_analysis is lacking a required computation config parameter! creating a new curr_active_pipeline.global_computation_results.computation_config\n",
      "no changes in global results.\n",
      "[neptune] [info   ] Neptune initialized. Open in the app: https://app.neptune.ai/commander.pho/PhoDibaLongShortUpdated/\n"
     ]
    }
   ],
   "source": [
    "from pyphoplacecellanalysis.General.Batch.BatchJobCompletion.UserCompletionHelpers.batch_user_completion_helpers import determine_computation_datetimes_completion_function, compute_and_export_marginals_dfs_completion_function, perform_sweep_decoding_time_bin_sizes_marginals_dfs_completion_function, compute_and_export_decoders_epochs_decoding_and_evaluation_dfs_completion_function, reload_exported_kdiba_session_position_info_mat_completion_function, compute_and_export_session_instantaneous_spike_rates_completion_function, export_session_h5_file_completion_function\n",
    "\n",
    "\n",
    "# ==================================================================================================================== #\n",
    "# BEGIN USER COMPLETION FUNCTIONS                                                                                      #\n",
    "# ==================================================================================================================== #\n",
    "custom_user_completion_functions = []\n",
    "\n",
    "# custom_user_completion_functions.append(compute_and_export_marginals_dfs_completion_function)\n",
    "# custom_user_completion_functions.append(perform_sweep_decoding_time_bin_sizes_marginals_dfs_completion_function)\n",
    "# custom_user_completion_functions.append(compute_and_export_decoders_epochs_decoding_and_evaluation_dfs_completion_function)\n",
    "# custom_user_completion_functions.append(reload_exported_kdiba_session_position_info_mat_completion_function)\n",
    "# custom_user_completion_functions.append(compute_and_export_session_instantaneous_spike_rates_completion_function)\n",
    "# custom_user_completion_functions.append(export_session_h5_file_completion_function)\n",
    "\n",
    "# ==================================================================================================================== #\n",
    "# END USER COMPLETION FUNCTIONS                                                                                        #\n",
    "# ==================================================================================================================== #\n",
    "\n",
    "# %pdb on\n",
    "multiprocessing_kwargs = dict(use_multiprocessing=False, num_processes=1)\n",
    "# multiprocessing_kwargs = dict(use_multiprocessing=True, num_processes=2)\n",
    "\n",
    "# Whether to output figures:\n",
    "# should_perform_figure_generation_to_file=False\n",
    "should_perform_figure_generation_to_file=True\n",
    "\n",
    "## Included Session Contexts:\n",
    "included_session_contexts = included_session_contexts # ALL\n",
    "\n",
    "if included_session_contexts is not None:\n",
    "    print(f'len(included_session_contexts): {len(included_session_contexts)}')\n",
    "else:\n",
    "    print(f'included_session_contexts is None so all session contexts will be included.')\n",
    "\n",
    "# included_session_contexts\n",
    "\n",
    "# # No recomputing at all:\n",
    "result_handler = BatchSessionCompletionHandler(force_reload_all=False,\n",
    "                                                session_computations_options=BatchComputationProcessOptions(should_load=True, should_compute=False, should_save=SavingOptions.NEVER), # , override_file=\n",
    "                                                global_computations_options=BatchComputationProcessOptions(should_load=True, should_compute=False, should_save=SavingOptions.NEVER),\n",
    "                                                should_perform_figure_generation_to_file=should_perform_figure_generation_to_file, should_generate_all_plots=True, saving_mode=PipelineSavingScheme.SKIP_SAVING, force_global_recompute=False,\n",
    "                                                **multiprocessing_kwargs)\n",
    "\n",
    "# No Reloading\n",
    "# result_handler = BatchSessionCompletionHandler(force_reload_all=False,\n",
    "#                                                 session_computations_options=BatchComputationProcessOptions(should_load=True, should_compute=True, should_save=SavingOptions.IF_CHANGED),\n",
    "#                                                 global_computations_options=BatchComputationProcessOptions(should_load=True, should_compute=True, should_save=SavingOptions.IF_CHANGED),\n",
    "#                                                 should_perform_figure_generation_to_file=should_perform_figure_generation_to_file, should_generate_all_plots=True, saving_mode=PipelineSavingScheme.SKIP_SAVING, force_global_recompute=False,\n",
    "#                                                 force_recompute_override_computations_includelist=None, # ['split_to_directional_laps', 'rank_order_shuffle_analysis']\n",
    "#                                                 **multiprocessing_kwargs)\n",
    "\n",
    "\n",
    "# # Forced Reloading:\n",
    "# result_handler = BatchSessionCompletionHandler(force_reload_all=True,\n",
    "#                                                 session_computations_options=BatchComputationProcessOptions(should_load=False, should_compute=True, should_save=SavingOptions.ALWAYS),\n",
    "#                                                 global_computations_options=BatchComputationProcessOptions(should_load=False, should_compute=True, should_save=SavingOptions.ALWAYS),\n",
    "#                                                 should_perform_figure_generation_to_file=should_perform_figure_generation_to_file, saving_mode=PipelineSavingScheme.OVERWRITE_IN_PLACE, force_global_recompute=True,\n",
    "#                                                 **multiprocessing_kwargs)\n",
    "\n",
    "\n",
    "active_post_run_callback_fn = result_handler.on_complete_success_execution_session\n",
    "# active_post_run_callback_fn = _temp_on_complete_success_execution_session\n",
    "\n",
    "\n",
    "## Append the desired completion functions:\n",
    "result_handler.completion_functions = custom_user_completion_functions\n",
    "# result_handler.completion_functions.append(compute_and_export_marginals_dfs_completion_function) # determine_computation_datetimes_completion_function\n",
    "# result_handler.completion_functions.append(determine_computation_datetimes_completion_function)\n",
    "\n",
    "\n",
    "## Specific Setup for 2023-09-28 Changes to LxC/SxC \"refinements\"\n",
    "# result_handler.extended_computations_include_includelist = ['pf_computation', \n",
    "#                                                             'pfdt_computation',\n",
    "#                                                             'firing_rate_trends',\n",
    "#                                                 'pf_dt_sequential_surprise',\n",
    "#                                                 'ratemap_peaks_prominence2d',\n",
    "#                                                 'position_decoding', \n",
    "#                                                 # # 'position_decoding_two_step',\n",
    "#                                                 'extended_stats',\n",
    "#                                                 'long_short_decoding_analyses',\n",
    "#                                                 'jonathan_firing_rate_analysis', 'long_short_fr_indicies_analyses', 'short_long_pf_overlap_analyses', 'long_short_post_decoding', #, 'long_short_rate_remapping',\n",
    "#                                                 'long_short_inst_spike_rate_groups',\n",
    "#                                                 'long_short_endcap_analysis',\n",
    "#                                                 # 'spike_burst_detection',\n",
    "#                                                 'split_to_directional_laps',\n",
    "#                                                 'merged_directional_placefields',\n",
    "#                                                 'rank_order_shuffle_analysis',\n",
    "#                                                 'directional_train_test_split',\n",
    "#                                                 'directional_decoders_decode_continuous',\n",
    "#                                                 'directional_decoders_evaluate_epochs',    \n",
    "# \t\t\t\t\t\t\t\t\t\t\t\t'directional_decoders_epoch_heuristic_scoring',\n",
    "#                                                 ]\n",
    "\n",
    "\n",
    "basic_local_computations = ['pf_computation', 'pfdt_computation', 'firing_rate_trends', 'position_decoding']\n",
    " \n",
    "# basic_local_computations = [] # set to empty so we don't overwrite these computations\n",
    "# result_handler.extended_computations_include_includelist = ['split_to_directional_laps', 'rank_order_shuffle_analysis'] # OVERRIDE with specific computations to do\n",
    "\n",
    "result_handler.extended_computations_include_includelist = ['firing_rate_trends','split_to_directional_laps', 'long_short_decoding_analyses'] # OVERRIDE with specific computations to do\n",
    "\n",
    "# result_handler.enable_hdf5_output = True # output the HDF5 when done.\n",
    "result_handler.enable_hdf5_output = False\n",
    "\n",
    "## Execute with the custom arguments.\n",
    "global_batch_run.execute_all(force_reload=result_handler.force_reload_all, saving_mode=result_handler.saving_mode, skip_extended_batch_computations=True, post_run_callback_fn=active_post_run_callback_fn,\n",
    "                             fail_on_exception=False, included_session_contexts=included_session_contexts,\n",
    "                                                                                        **{'computation_functions_name_includelist': basic_local_computations,\n",
    "                                                                                            'active_session_computation_configs': None,\n",
    "                                                                                            'allow_processing_previously_completed': True}, **multiprocessing_kwargs) # can override `active_session_computation_configs` if we want to set custom ones like only the laps.)\n",
    "\n",
    "# 4m 39.8s"
   ]
  },
  {
   "cell_type": "code",
   "execution_count": null,
   "id": "f130e5c9",
   "metadata": {
    "notebookRunGroups": {
     "groupValue": "1"
    }
   },
   "outputs": [],
   "source": [
    "# Save to pickle:\n",
    "saveData(global_batch_result_file_path, global_batch_run) # Update the global batch run dictionary"
   ]
  },
  {
   "cell_type": "code",
   "execution_count": null,
   "id": "45f3c772",
   "metadata": {},
   "outputs": [],
   "source": [
    "# Save to HDF5\n",
    "suffix = f'{BATCH_DATE_TO_USE}'\n",
    "## Build Pickle Path:\n",
    "file_path = global_data_root_parent_path.joinpath(f'global_batch_output_{suffix}.h5').resolve()\n",
    "global_batch_run.to_hdf(file_path,'/')"
   ]
  },
  {
   "cell_type": "markdown",
   "id": "84f74fd4",
   "metadata": {},
   "source": [
    "# 2024-01-18 - Extracts the callback results 'determine_computation_datetimes_completion_function':\n"
   ]
  },
  {
   "cell_type": "code",
   "execution_count": null,
   "id": "ec5a6244",
   "metadata": {
    "notebookRunGroups": {
     "groupValue": "1"
    }
   },
   "outputs": [],
   "source": [
    "extracted_callback_fn_results = {a_sess_ctxt:a_result.across_session_results.get('determine_session_t_delta_completion_function', {}) for a_sess_ctxt, a_result in global_batch_run.session_batch_outputs.items() if a_result is not None}\n",
    "extracted_callback_fn_results\n",
    "\n",
    "# {'session': list(extracted_callback_fn_results.keys()),\n",
    "# Saves them to dataframe:\n",
    "t_split_df = pd.DataFrame(extracted_callback_fn_results).T # .T to get 't_start', 't_delta', 't_end' as columns instead of rows and the index as the session name\n",
    "t_split_df\n",
    "\n",
    "t_split_csv_path = collected_outputs_path.joinpath(f'{BATCH_DATE_TO_USE}_t_split_df.csv').resolve()\n",
    "print(f't_split_csv_path: {t_split_csv_path}')\n",
    "t_split_df.to_csv(t_split_csv_path)\n",
    "# t_split_df.to_csv(f'output/across_session_results/{BATCH_DATE_TO_USE}_t_split_df.csv')\n",
    "# t_split_df.to_clipboard()"
   ]
  },
  {
   "cell_type": "code",
   "execution_count": null,
   "id": "868a1ebb",
   "metadata": {},
   "outputs": [],
   "source": [
    "# Recover across_session_results_extended_dict\n",
    "result_handler.across_sessions_instantaneous_fr_dict"
   ]
  },
  {
   "cell_type": "code",
   "execution_count": null,
   "id": "e8575d24",
   "metadata": {},
   "outputs": [],
   "source": [
    "result_handler."
   ]
  },
  {
   "cell_type": "code",
   "execution_count": null,
   "id": "0981cde1",
   "metadata": {
    "notebookRunGroups": {
     "groupValue": "21"
    },
    "tags": []
   },
   "outputs": [],
   "source": [
    "batch_progress_df = global_batch_run.to_dataframe(expand_context=True, good_only=False) # all\n",
    "good_only_batch_progress_df = global_batch_run.to_dataframe(expand_context=True, good_only=True)\n",
    "batch_progress_df.batch_results.build_all_columns()\n",
    "good_only_batch_progress_df.batch_results.build_all_columns()\n",
    "good_only_batch_progress_df"
   ]
  },
  {
   "cell_type": "code",
   "execution_count": null,
   "id": "27cbb196",
   "metadata": {},
   "outputs": [],
   "source": [
    "from pyphocorehelpers.Filesystem.metadata_helpers import FilesystemMetadata, get_files_metadata\n",
    "\n",
    "# # Stores no global times\n",
    "# global_pickle_path = curr_active_pipeline.global_computation_results_pickle_path.resolve()\n",
    "# assert global_pickle_path.exists()\n",
    "# global_pickle_path\n",
    "\n",
    "# file_metadata = FilesystemMetadata.get_file_metadata(global_pickle_path)\n",
    "# file_metadata['modification_time']\n",
    "\n",
    "collected_global_computations_pickle_paths: List[Path] = good_only_batch_progress_df['global_computation_result_file'].to_list()\n",
    "\n",
    "get_files_metadata(collected_global_computations_pickle_paths)\n",
    "\n"
   ]
  },
  {
   "cell_type": "markdown",
   "id": "690f140f",
   "metadata": {},
   "source": [
    "# Across Sessions After Batching Complete"
   ]
  },
  {
   "cell_type": "code",
   "execution_count": null,
   "id": "3dce885b-5b99-4a7a-9f72-2eed2e45ae18",
   "metadata": {
    "notebookRunGroups": {
     "groupValue": "1"
    },
    "tags": []
   },
   "outputs": [],
   "source": [
    "a_batch_progress_df = included_session_batch_progress_df.copy()\n",
    "\n",
    "good_session_concrete_folders = [ConcreteSessionFolder(a_context, a_basedir) for a_context, a_basedir in zip(list(a_batch_progress_df.context.values), list(a_batch_progress_df.basedirs.values))]\n",
    "\n",
    "# good_only_batch_progress_df.batch_results\n",
    "# included_h5_paths = [get_file_str_if_file_exists(v.joinpath('output','pipeline_results.h5').resolve()) for v in list(good_only_batch_progress_df.basedirs.values)]\n",
    "# included_h5_paths = [a_dir.joinpath('output','pipeline_results.h5').resolve() for a_dir in included_session_batch_progress_df['basedirs']]\n",
    "included_h5_paths = [get_file_str_if_file_exists(v.pipeline_results_h5) for v in good_session_concrete_folders]\n",
    "included_h5_paths"
   ]
  },
  {
   "cell_type": "code",
   "execution_count": null,
   "id": "f39738fa-f8f3-46d2-a937-0fb08c0ccb43",
   "metadata": {
    "notebookRunGroups": {
     "groupValue": "1"
    },
    "tags": []
   },
   "outputs": [],
   "source": [
    "# target_dir = Path('output/across_session_results/2023-09-29').resolve()\n",
    "# target_dir = Path('/home/halechr/cloud/turbo/Pho/Output/across_session_results/2023-09-29').resolve()\n",
    "# target_dir = Path('/home/halechr/cloud/turbo/Pho/Output/across_session_results/2023-10-03').resolve()\n",
    "# copy_dict = ConcreteSessionFolder.build_backup_copydict(good_session_concrete_folders, target_dir=target_dir)\n",
    "# copy_dict = ConcreteSessionFolder.build_backup_copydict(good_session_concrete_folders, backup_mode=BackupMethods.RenameInSourceDirectory, rename_backup_suffix='2023-10-05', only_include_file_types=['local_pkl', 'global_pkl','h5'])\n",
    "copy_dict = ConcreteSessionFolder.build_backup_copydict(good_session_concrete_folders, backup_mode=BackupMethods.RenameInSourceDirectory, rename_backup_suffix=BATCH_DATE_TO_USE, only_include_file_types=['local_pkl', 'global_pkl','h5'])\n",
    "# copy_dict = ConcreteSessionFolder.build_backup_copydict(good_session_concrete_folders, backup_mode=BackupMethods.RenameInSourceDirectory, rename_backup_suffix='2023-10-07', only_include_file_types=['local_pkl', 'global_pkl','h5'])\n",
    "copy_dict"
   ]
  },
  {
   "cell_type": "code",
   "execution_count": null,
   "id": "135cb2d8-65b3-405b-a41b-22b2fa7cb28e",
   "metadata": {
    "scrolled": true,
    "tags": []
   },
   "outputs": [],
   "source": [
    "moved_files_dict_h5_files = copy_movedict(copy_dict)\n",
    "moved_files_dict_h5_files"
   ]
  },
  {
   "cell_type": "code",
   "execution_count": null,
   "id": "243e3954-15a4-449c-b927-56d5d79153c8",
   "metadata": {
    "tags": []
   },
   "outputs": [],
   "source": [
    "moved_files_copydict_output_filename=f'backed_up_files_copydict_{BATCH_DATE_TO_USE}.csv'\n",
    "moved_files_copydict_file_path = Path(global_data_root_parent_path).joinpath(moved_files_copydict_output_filename).resolve() # Use Default\n",
    "print(f'moved_files_copydict_file_path: {moved_files_copydict_file_path}')\n",
    "\n",
    "## This just backs up all the pickles:\n",
    "_out_string, filedict_out_path = save_copydict_to_text_file(moved_files_dict_h5_files, moved_files_copydict_file_path, debug_print=True)"
   ]
  },
  {
   "cell_type": "code",
   "execution_count": null,
   "id": "ab869730",
   "metadata": {},
   "outputs": [],
   "source": [
    "read_moved_files_dict_files = read_copydict_from_text_file(moved_files_copydict_file_path, debug_print=False)\n",
    "read_moved_files_dict_files"
   ]
  },
  {
   "cell_type": "code",
   "execution_count": null,
   "id": "dd4671e4",
   "metadata": {},
   "outputs": [],
   "source": [
    "# read_moved_files_dict_files\n",
    "restore_moved_files_dict_files = invert_filedict(read_moved_files_dict_files)\n",
    "restore_moved_files_dict_files"
   ]
  },
  {
   "cell_type": "code",
   "execution_count": null,
   "id": "d067d8f2",
   "metadata": {
    "notebookRunGroups": {
     "groupValue": "1"
    }
   },
   "outputs": [],
   "source": [
    "check_output_h5_files(included_h5_paths)"
   ]
  },
  {
   "cell_type": "markdown",
   "id": "1bdb0953",
   "metadata": {},
   "source": [
    "## Extract `across_sessions_instantaneous_fr_dict` from the computation outputs"
   ]
  },
  {
   "cell_type": "code",
   "execution_count": null,
   "id": "39691fe2",
   "metadata": {
    "notebookRunGroups": {
     "groupValue": "1"
    }
   },
   "outputs": [],
   "source": [
    "## INPUTS: global_batch_run, \n",
    "\n",
    "# Somewhere in there there are `InstantaneousSpikeRateGroupsComputation` results to extract\n",
    "across_sessions_instantaneous_fr_dict = {} # InstantaneousSpikeRateGroupsComputation\n",
    "across_sessions_recomputed_instantaneous_fr_dict = {}\n",
    "\n",
    "# Get only the sessions with non-None results\n",
    "sessions_with_results = [a_ctxt for a_ctxt, a_result in global_batch_run.session_batch_outputs.items() if a_result is not None]\n",
    "good_session_batch_outputs = {a_ctxt:a_result for a_ctxt, a_result in global_batch_run.session_batch_outputs.items() if a_result is not None}\n",
    "\n",
    "for a_ctxt, a_result in good_session_batch_outputs.items():\n",
    "    if a_result is not None:\n",
    "        # a_good_result = a_result.__dict__.get('across_sessions_batch_results', {}).get('inst_fr_comps', None)\n",
    "        a_good_result = a_result.across_session_results.get('inst_fr_comps', None)\n",
    "        if a_good_result is not None:\n",
    "            across_sessions_instantaneous_fr_dict[a_ctxt] = a_good_result\n",
    "            # print(a_result['across_sessions_batch_results']['inst_fr_comps'])\n",
    "        a_good_recomp_result = a_result.across_session_results.get('recomputed_inst_fr_comps', None)\n",
    "        if a_good_recomp_result is not None:\n",
    "            across_sessions_recomputed_instantaneous_fr_dict[a_ctxt] = a_good_recomp_result\n",
    "            \n",
    "num_sessions = len(across_sessions_instantaneous_fr_dict)\n",
    "print(f'num_sessions: {num_sessions}')\n",
    "\n",
    "\n",
    "## Outputs: across_sessions_instantaneous_fr_dict, across_sessions_recomputed_instantaneous_fr_dict"
   ]
  },
  {
   "cell_type": "code",
   "execution_count": null,
   "id": "bbeb9efc",
   "metadata": {
    "notebookRunGroups": {
     "groupValue": "1"
    }
   },
   "outputs": [],
   "source": [
    "across_sessions_recomputed_instantaneous_fr_dict"
   ]
  },
  {
   "cell_type": "code",
   "execution_count": null,
   "id": "93ddee51",
   "metadata": {
    "notebookRunGroups": {
     "groupValue": "1"
    }
   },
   "outputs": [],
   "source": [
    "across_sessions_instantaneous_fr_dict"
   ]
  },
  {
   "cell_type": "code",
   "execution_count": null,
   "id": "09136799",
   "metadata": {
    "notebookRunGroups": {
     "groupValue": "1"
    }
   },
   "outputs": [],
   "source": [
    "# When done, `result_handler.across_sessions_instantaneous_fr_dict` is now equivalent to what it would have been before. It can be saved using the normal `.save_across_sessions_data(...)`\n",
    "\n",
    "## Save the instantaneous firing rate results dict: (# Dict[IdentifyingContext] = InstantaneousSpikeRateGroupsComputation)\n",
    "# AcrossSessionsResults.save_across_sessions_data(across_sessions_instantaneous_fr_dict=across_sessions_instantaneous_fr_dict, global_data_root_parent_path=global_data_root_parent_path,\n",
    "#                                                  inst_fr_output_filename=f'across_session_result_long_short_inst_firing_rate_{BATCH_DATE_TO_USE}.pkl')\n",
    "\n",
    "across_session_result_long_short_recomputed_inst_firing_rate_filename: str = f'across_session_result_long_short_recomputed_inst_firing_rate_{BATCH_DATE_TO_USE}.pkl'\n",
    "\n",
    "# AcrossSessionsResults.save_across_sessions_data(across_sessions_instantaneous_fr_dict=across_sessions_recomputed_instantaneous_fr_dict, global_data_root_parent_path=global_data_root_parent_path,\n",
    "#                                                  inst_fr_output_filename=across_session_result_long_short_recomputed_inst_firing_rate_filename)\n",
    "\n",
    "AcrossSessionsResults.save_across_sessions_data(across_sessions_instantaneous_fr_dict=across_sessions_recomputed_instantaneous_fr_dict, global_data_root_parent_path=collected_outputs_path.resolve(),\n",
    "                                                 inst_fr_output_filename=across_session_result_long_short_recomputed_inst_firing_rate_filename)\n",
    "\n",
    "\n",
    "# '/nfs/turbo/umms-kdiba/Data/across_session_result_long_short_recomputed_inst_firing_rate_2024-06-10_GL.pkl'\n",
    "# Path('/nfs/turbo/umms-kdiba/Data/Output/collected_outputs/across_session_result_long_short_recomputed_inst_firing_rate_2024-06-11_GL.pkl').resolve()\n",
    "# ## Save pickle:\n",
    "# inst_fr_output_filename=f'across_session_result_long_short_inst_firing_rate_{BATCH_DATE_TO_USE}.pkl'\n",
    "# global_batch_result_inst_fr_file_path = Path(global_data_root_parent_path).joinpath(inst_fr_output_filename).resolve() # Use Default\n",
    "# print(f'global_batch_result_inst_fr_file_path: {global_batch_result_inst_fr_file_path}')\n",
    "# # Save the all sessions instantaneous firing rate dict to the path:\n",
    "# saveData(global_batch_result_inst_fr_file_path, across_sessions_instantaneous_fr_dict)"
   ]
  },
  {
   "cell_type": "code",
   "execution_count": null,
   "id": "34e60988",
   "metadata": {
    "notebookRunGroups": {
     "groupValue": "1"
    }
   },
   "outputs": [],
   "source": [
    "## Export the non-recomputed version (unsure of the difference as of 2024-06-10):\n",
    "across_session_result_long_short_inst_firing_rate_filename: str = f'across_session_result_long_short_inst_firing_rate_{BATCH_DATE_TO_USE}.pkl'\n",
    "\n",
    "# collected_outputs_path.joinpath(across_session_result_long_short_inst_firing_rate_filename).resolve()\n",
    "\n",
    "# AcrossSessionsResults.save_across_sessions_data(across_sessions_instantaneous_fr_dict=across_sessions_instantaneous_fr_dict, global_data_root_parent_path=global_data_root_parent_path,\n",
    "#                                                  inst_fr_output_filename=across_session_result_long_short_inst_firing_rate_filename) # '/nfs/turbo/umms-kdiba/Data/across_session_result_long_short_inst_firing_rate_2024-06-10_GL.pkl'\n",
    "\n",
    "AcrossSessionsResults.save_across_sessions_data(across_sessions_instantaneous_fr_dict=across_sessions_instantaneous_fr_dict, global_data_root_parent_path=collected_outputs_path.resolve(),\n",
    "                                                 inst_fr_output_filename=across_session_result_long_short_inst_firing_rate_filename) "
   ]
  },
  {
   "cell_type": "code",
   "execution_count": null,
   "id": "c123baf6",
   "metadata": {},
   "outputs": [],
   "source": [
    "from pyphoplacecellanalysis.SpecificResults.AcrossSessionResults import AcrossSessionTables\n",
    "\n",
    "# neuron_identities_table, long_short_fr_indicies_analysis_table, neuron_replay_stats_table = AcrossSessionTables.build_all_known_tables(included_session_contexts, included_h5_paths, should_restore_native_column_types=True, )\n",
    "\n",
    "# (neuron_identities_table, long_short_fr_indicies_analysis_table, neuron_replay_stats_table), output_path_dicts = AcrossSessionTables.build_and_save_all_combined_tables(included_session_contexts, included_h5_paths, override_output_parent_path=global_data_root_parent_path, output_path_suffix=f'{BATCH_DATE_TO_USE}')\n",
    "(neuron_identities_table, long_short_fr_indicies_analysis_table, neuron_replay_stats_table), output_path_dicts = AcrossSessionTables.build_and_save_all_combined_tables(included_session_contexts, included_h5_paths, override_output_parent_path=collected_outputs_path.resolve(), output_path_suffix=f'{BATCH_DATE_TO_USE}')"
   ]
  },
  {
   "cell_type": "code",
   "execution_count": null,
   "id": "5a859bff-8cdb-4281-a64f-251d24db7cb9",
   "metadata": {
    "notebookRunGroups": {
     "groupValue": "2"
    },
    "tags": []
   },
   "outputs": [],
   "source": [
    "from pyphoplacecellanalysis.SpecificResults.AcrossSessionResults import AcrossSessionTables\n",
    "\n",
    "neuron_identities_table, long_short_fr_indicies_analysis_table, neuron_replay_stats_table = AcrossSessionTables.build_all_known_tables(included_session_contexts, included_h5_paths, should_restore_native_column_types=True)\n",
    "# neuron_replay_stats_table['is_refined_LxC']"
   ]
  },
  {
   "cell_type": "code",
   "execution_count": null,
   "id": "b04b2430-c9ec-4adb-81a8-1ffbf8a0cb3c",
   "metadata": {
    "notebookRunGroups": {
     "groupValue": "2"
    },
    "tags": []
   },
   "outputs": [],
   "source": [
    "long_short_fr_indicies_analysis_table"
   ]
  },
  {
   "cell_type": "code",
   "execution_count": null,
   "id": "2043eb76",
   "metadata": {},
   "outputs": [],
   "source": [
    "neuron_replay_stats_table"
   ]
  },
  {
   "cell_type": "code",
   "execution_count": null,
   "id": "c95013ea",
   "metadata": {},
   "outputs": [],
   "source": [
    "neuron_identities_table"
   ]
  },
  {
   "cell_type": "code",
   "execution_count": null,
   "id": "5b8ced5f",
   "metadata": {},
   "outputs": [],
   "source": [
    "# np.sum(neuron_replay_stats_table['is_refined_LxC'])\n",
    "# np.isnan(neuron_replay_stats_table['is_refined_LxC'])"
   ]
  },
  {
   "cell_type": "code",
   "execution_count": null,
   "id": "f8615ac3",
   "metadata": {},
   "outputs": [],
   "source": [
    "# Options\n",
    "session_identifier_key: str = 'session_name'\n",
    "# session_identifier_key: str = 'session_datetime'\n",
    "\n",
    "## !IMPORTANT! Count of the fields of interest using .value_counts(...) and converting to an explicit pd.DataFrame:\n",
    "# _out_value_counts_df: pd.DataFrame = neuron_replay_stats_table.value_counts(subset=['format_name', 'animal', 'session_name', 'session_datetime','track_membership'], normalize=False, sort=False, ascending=True, dropna=True).reset_index()\n",
    "# _out_value_counts_df.columns = ['format_name', 'animal', 'session_name', 'session_datetime', 'track_membership', 'count']\n",
    "_out_value_counts_df: pd.DataFrame = neuron_replay_stats_table.value_counts(subset=['format_name', 'animal', 'session_name', 'session_datetime','track_membership','is_refined_LxC', 'is_refined_SxC'], normalize=False, sort=False, ascending=True, dropna=True).reset_index()\n",
    "_out_value_counts_df.columns = ['format_name', 'animal', 'session_name', 'session_datetime', 'track_membership', 'is_refined_LxC', 'is_refined_SxC', 'count']\n",
    "_out_value_counts_df"
   ]
  },
  {
   "cell_type": "code",
   "execution_count": null,
   "id": "6af57298",
   "metadata": {},
   "outputs": [],
   "source": [
    "## Find the time of the first session for each animal:\n",
    "first_session_time  = _out_value_counts_df.groupby(['animal']).agg(session_datetime_first=('session_datetime', 'first')).reset_index()\n",
    "\n",
    "## Subtract this initial time from all of the 'session_datetime' entries for each animal:\n",
    "# Merge the first session time back into the original DataFrame\n",
    "merged_df = pd.merge(_out_value_counts_df, first_session_time, on='animal')\n",
    "\n",
    "# Subtract this initial time from all of the 'session_datetime' entries for each animal\n",
    "merged_df['time_since_first_session'] = merged_df['session_datetime'] - merged_df['session_datetime_first']\n",
    "\n",
    "merged_df"
   ]
  },
  {
   "cell_type": "code",
   "execution_count": null,
   "id": "b25bb1f8",
   "metadata": {},
   "outputs": [],
   "source": [
    "import matplotlib.pyplot as plt\n",
    "\n",
    "point_size = 8\n",
    "df = _out_value_counts_df.copy()\n",
    "animals = df['animal'].unique()\n",
    "track_memberships = df['track_membership'].unique()\n",
    "\n",
    "fig, axes = plt.subplots(1, len(animals), figsize=(15, 5))\n",
    "\n",
    "for i, animal in enumerate(animals):\n",
    "\tax = axes[i]\n",
    "\tsubset_df = df[df['animal'] == animal]\n",
    "\t\n",
    "\tfor track_membership in track_memberships:\n",
    "\t\ttrack_subset_df = subset_df[subset_df['track_membership'] == track_membership]\n",
    "\t\tax.plot(track_subset_df['session_datetime'], track_subset_df['count'], label=f'Track: {track_membership}')\n",
    "\t\tax.scatter(track_subset_df['session_datetime'], track_subset_df['count'], s=point_size)\n",
    "\t\t\n",
    "\tax.set_title(f'Animal: {animal}')\n",
    "\tax.set_xlabel('Session Datetime')\n",
    "\tax.set_ylabel('Count')\n",
    "\tax.legend()\n",
    "\n",
    "plt.tight_layout()\n",
    "plt.show()"
   ]
  },
  {
   "cell_type": "code",
   "execution_count": null,
   "id": "94408ac4",
   "metadata": {},
   "outputs": [],
   "source": [
    "_out_value_counts_df"
   ]
  },
  {
   "cell_type": "code",
   "execution_count": null,
   "id": "784fcc04",
   "metadata": {},
   "outputs": [],
   "source": [
    "\n",
    "\n",
    "## See if the number of cells decreases over re-exposures to the track\n",
    "df = _out_value_counts_df[_out_value_counts_df['animal'] == 'gor01']\n",
    "# df = _out_value_counts_df[_out_value_counts_df['animal'] == 'pin01']\n",
    "# df = _out_value_counts_df[_out_value_counts_df['animal'] == 'vvp01']\n",
    "\n",
    "# Sort by column: 'session_datetime' (ascending)\n",
    "df = df.sort_values(['session_datetime'])\n",
    "\n",
    "'LEFT_ONLY'\n",
    "\n",
    "# df.to_clipboard(index=False)\n",
    "df"
   ]
  },
  {
   "cell_type": "code",
   "execution_count": null,
   "id": "d8a502f7",
   "metadata": {},
   "outputs": [],
   "source": [
    "## Get the number of cells in each session of the animal:\n",
    "num_LxCs = df[df['track_membership'] == 'LEFT_ONLY']['count'].to_numpy()\n",
    "num_Shared = df[df['track_membership'] == 'SHARED']['count'].to_numpy()\n",
    "num_SxCs = df[df['track_membership'] == 'RIGHT_ONLY']['count'].to_numpy()\n",
    "\n",
    "num_TotalCs = num_LxCs + num_Shared + num_SxCs\n",
    "num_TotalCs"
   ]
  },
  {
   "cell_type": "code",
   "execution_count": null,
   "id": "2feb3fa1",
   "metadata": {},
   "outputs": [],
   "source": [
    "# The only safe point to align each session to is the switchpoint (the delta):\n"
   ]
  },
  {
   "cell_type": "code",
   "execution_count": null,
   "id": "046bbce9",
   "metadata": {},
   "outputs": [],
   "source": [
    "# Each session can be expressed in terms of time from the start of the first session.\n"
   ]
  },
  {
   "cell_type": "code",
   "execution_count": null,
   "id": "a00d2419",
   "metadata": {},
   "outputs": [],
   "source": [
    "df.plot()\n"
   ]
  },
  {
   "cell_type": "code",
   "execution_count": null,
   "id": "56f99ff8",
   "metadata": {},
   "outputs": [],
   "source": [
    "\n",
    "from pyphoplacecellanalysis.SpecificResults.AcrossSessionResults import AcrossSessionsVisualizations\n",
    "\n",
    "matplotlib_configuration_update(is_interactive=True, backend='Qt5Agg')\n",
    "graphics_output_dict = AcrossSessionsVisualizations.across_sessions_firing_rate_index_figure(long_short_fr_indicies_analysis_results=long_short_fr_indicies_analysis_table, num_sessions=num_sessions, save_figure=True)"
   ]
  },
  {
   "cell_type": "code",
   "execution_count": null,
   "id": "3d22a8ba",
   "metadata": {},
   "outputs": [],
   "source": [
    "plt.close()"
   ]
  },
  {
   "cell_type": "markdown",
   "id": "cadc1ac7-5771-4cd5-94c6-7a6244eb8217",
   "metadata": {
    "notebookRunGroups": {
     "groupValue": "2"
    },
    "tags": []
   },
   "source": [
    "## Extract output files from all completed sessions:"
   ]
  },
  {
   "cell_type": "code",
   "execution_count": null,
   "id": "47cb0cd9-3e60-4425-9351-dfc903f3f067",
   "metadata": {
    "notebookRunGroups": {
     "groupValue": "2"
    },
    "tags": []
   },
   "outputs": [],
   "source": [
    "from pyphocorehelpers.Filesystem.path_helpers import convert_filelist_to_new_parent\n",
    "\n",
    "def save_filelist_to_text_file(hdf5_output_paths, filelist_path: Path):\n",
    "    _out_string = '\\n'.join([str(a_file) for a_file in hdf5_output_paths])\n",
    "    print(f'{_out_string}')\n",
    "    print(f'saving out to \"{filelist_path}\"...')\n",
    "    with open(filelist_path, 'w') as f:\n",
    "        f.write(_out_string)\n",
    "    return _out_string, filelist_path\n",
    "\n",
    "# Save output filelist:\n",
    "\n",
    "# '/nfs/turbo/umms-kdiba/Data/KDIBA/gor01/one/2006-6-09_1-22-43/output/pipeline_results.h5'\n",
    "\n",
    "# kdiba_vvp01_two_2006-4-10_12-58-3\n",
    "# \toutputs_local ={'pkl': PosixPath('/nfs/turbo/umms-kdiba/Data/KDIBA/vvp01/two/2006-4-10_12-58-3/loadedSessPickle.pkl')}\n",
    "# \toutputs_global ={'pkl': PosixPath('/nfs/turbo/umms-kdiba/Data/KDIBA/vvp01/two/2006-4-10_12-58-3/output/global_computation_results.pkl'), 'hdf5': PosixPath('/nfs/turbo/umms-kdiba/Data/KDIBA/vvp01/two/2006-4-10_12-58-3/output/pipeline_results.h5')}\n",
    "session_identifiers, pkl_output_paths, hdf5_output_paths = global_batch_run.build_output_files_lists()\n",
    "\n",
    "h5_filelist_path = global_data_root_parent_path.joinpath(f'fileList_Greatlakes_HDF5_{BATCH_DATE_TO_USE}.txt').resolve()\n",
    "_out_string, src_filelist_HDF5_savepath = save_filelist_to_text_file(hdf5_output_paths, h5_filelist_path)\n",
    "\n",
    "pkls_filelist_path = global_data_root_parent_path.joinpath(f'fileList_Greatlakes_pkls_{BATCH_DATE_TO_USE}.txt').resolve()\n",
    "_out_string, src_filelist_pkls_savepath = save_filelist_to_text_file(pkl_output_paths, pkls_filelist_path)\n",
    "\n",
    "# source_parent_path = Path(r'/media/MAX/cloud/turbo/Data')\n",
    "source_parent_path = Path(r'/nfs/turbo/umms-kdiba/Data')\n",
    "dest_parent_path = Path(r'/~/W/Data/')\n",
    "# # Build the destination filelist from the source_filelist and the two paths:\n",
    "filelist_source = hdf5_output_paths\n",
    "filelist_dest_paths = convert_filelist_to_new_parent(filelist_source, original_parent_path=source_parent_path, dest_parent_path=dest_parent_path)\n",
    "filelist_dest_paths\n",
    "\n",
    "dest_Apogee_h5_filelist_path = global_data_root_parent_path.joinpath(f'dest_fileList_Apogee_{BATCH_DATE_TO_USE}.txt').resolve()\n",
    "_out_string, dest_filelist_savepath = save_filelist_to_text_file(filelist_dest_paths, dest_Apogee_h5_filelist_path)"
   ]
  },
  {
   "cell_type": "code",
   "execution_count": null,
   "id": "3a8e69a3",
   "metadata": {
    "notebookRunGroups": {
     "groupValue": "2"
    },
    "scrolled": true,
    "tags": []
   },
   "outputs": [],
   "source": [
    "from pyphoplacecellanalysis.General.Batch.runBatch import PipelineCompletionResult\n",
    "from neuropy.core.epoch import Epoch\n",
    "\n",
    "# Save to HDF5\n",
    "suffix = f'{BATCH_DATE_TO_USE}'\n",
    "## Build Pickle Path:\n",
    "file_path = global_data_root_parent_path.joinpath(f'global_batch_output_{suffix}.h5').resolve()\n",
    "file_path\n",
    "global_batch_run.to_hdf(file_path,'/')"
   ]
  },
  {
   "cell_type": "code",
   "execution_count": null,
   "id": "282ce774-98fb-4e69-a7e2-e94cbff1b0b5",
   "metadata": {
    "tags": []
   },
   "outputs": [],
   "source": [
    "# # Get only the sessions with non-None results\n",
    "# sessions_with_results = [a_ctxt for a_ctxt, a_result in global_batch_run.session_batch_outputs.items() if a_result is not None]\n",
    "\n",
    "# # list(global_batch_run.session_batch_outputs.keys())\n",
    "\n",
    "# # Somewhere in there there are `InstantaneousSpikeRateGroupsComputation` results to extract\n",
    "# across_sessions_instantaneous_fr_dict = {} # InstantaneousSpikeRateGroupsComputation\n",
    "\n",
    "# # good_session_batch_outputs = global_batch_run.session_batch_outputs\n",
    "\n",
    "# sessions_with_results = [a_ctxt for a_ctxt, a_result in global_batch_run.session_batch_outputs.items() if a_result is not None]\n",
    "# good_session_batch_outputs = {a_ctxt:a_result for a_ctxt, a_result in global_batch_run.session_batch_outputs.items() if a_result is not None}\n",
    "\n",
    "# for a_ctxt, a_result in good_session_batch_outputs.items():\n",
    "#     if a_result is not None:\n",
    "#         # a_good_result = a_result.__dict__.get('across_sessions_batch_results', {}).get('inst_fr_comps', None)\n",
    "#         a_good_result = a_result.across_session_results.get('inst_fr_comps', None)\n",
    "#         if a_good_result is not None:\n",
    "#             across_sessions_instantaneous_fr_dict[a_ctxt] = a_good_result\n",
    "#             # print(a_result['across_sessions_batch_results']['inst_fr_comps'])\n",
    "            \n",
    "# num_sessions = len(across_sessions_instantaneous_fr_dict)\n",
    "# print(f'num_sessions: {num_sessions}')\n",
    "\n",
    "# # When done, `result_handler.across_sessions_instantaneous_fr_dict` is now equivalent to what it would have been before. It can be saved using the normal `.save_across_sessions_data(...)`\n",
    "\n",
    "# ## Save the instantaneous firing rate results dict: (# Dict[IdentifyingContext] = InstantaneousSpikeRateGroupsComputation)\n",
    "# AcrossSessionsResults.save_across_sessions_data(across_sessions_instantaneous_fr_dict=across_sessions_instantaneous_fr_dict, global_data_root_parent_path=global_data_root_parent_path, inst_fr_output_filename=f'across_session_result_long_short_inst_firing_rate_{BATCH_DATE_TO_USE}.pkl') # /nfs/turbo/umms-kdiba/Data/across_session_result_long_short_inst_firing_rate_2024-06-10_GL.pkl\n",
    "\n",
    "# # ## Save pickle:\n",
    "# # inst_fr_output_filename=f'across_session_result_long_short_inst_firing_rate_{BATCH_DATE_TO_USE}.pkl'\n",
    "# # global_batch_result_inst_fr_file_path = Path(global_data_root_parent_path).joinpath(inst_fr_output_filename).resolve() # Use Default\n",
    "# # print(f'global_batch_result_inst_fr_file_path: {global_batch_result_inst_fr_file_path}')\n",
    "# # # Save the all sessions instantaneous firing rate dict to the path:\n",
    "# # saveData(global_batch_result_inst_fr_file_path, across_sessions_instantaneous_fr_dict)"
   ]
  },
  {
   "cell_type": "code",
   "execution_count": null,
   "id": "c60d19a7-5a89-43f1-aa33-3a7450d1f965",
   "metadata": {
    "tags": []
   },
   "outputs": [],
   "source": [
    "across_sessions_instantaneous_fr_dict"
   ]
  },
  {
   "cell_type": "code",
   "execution_count": null,
   "id": "e178426c-54df-47ac-8103-a66f114c77e5",
   "metadata": {
    "tags": []
   },
   "outputs": [],
   "source": [
    "[a_ctxt.get_initialization_code_string() for a_ctxt in sessions_with_results]"
   ]
  },
  {
   "cell_type": "markdown",
   "id": "28828512",
   "metadata": {},
   "source": [
    "# OLD"
   ]
  },
  {
   "cell_type": "markdown",
   "id": "5056d9a7",
   "metadata": {},
   "source": [
    "# 2023-10-06 - `joined_neruon_fri_df` loading"
   ]
  },
  {
   "cell_type": "code",
   "execution_count": null,
   "id": "bd6d0b19",
   "metadata": {},
   "outputs": [],
   "source": [
    "# BATCH_DATE_TO_USE = '2023-10-05_NewParameters'\n",
    "BATCH_DATE_TO_USE = '2023-10-07'\n",
    "all_sessions_joined_neruon_fri_df, out_path = build_and_merge_all_sessions_joined_neruon_fri_df(global_data_root_parent_path, BATCH_DATE_TO_USE)\n"
   ]
  },
  {
   "cell_type": "code",
   "execution_count": null,
   "id": "fbb893bf",
   "metadata": {},
   "outputs": [],
   "source": [
    "\n",
    "joined_neruon_fri_df_basename = f'{BATCH_DATE_TO_USE}_{output_file_prefix}_joined_neruon_fri_df'\n",
    "AcrossSessionTables.write_table_to_files(joined_neruon_fri_df, global_data_root_parent_path=global_data_root_parent_path, output_basename=joined_neruon_fri_df_basename, include_csv=False)\n",
    "print(f'>>\\t done with {output_file_prefix}')"
   ]
  },
  {
   "cell_type": "code",
   "execution_count": null,
   "id": "d89c4c9f",
   "metadata": {},
   "outputs": [],
   "source": []
  },
  {
   "cell_type": "markdown",
   "id": "be651cc7",
   "metadata": {
    "tags": []
   },
   "source": [
    "# 2023-10-04 - Load Saved across-sessions-data and testing Batch-computed inst_firing_rates:"
   ]
  },
  {
   "cell_type": "code",
   "execution_count": null,
   "id": "28ad5bf6",
   "metadata": {},
   "outputs": [],
   "source": [
    "# from neuropy.utils.matplotlib_helpers import matplotlib_configuration_update\n",
    "# from pyphoplacecellanalysis.SpecificResults.PhoDiba2023Paper import PaperFigureTwo, InstantaneousSpikeRateGroupsComputation\n",
    "# from pyphoplacecellanalysis.General.Pipeline.Stages.ComputationFunctions.SpikeAnalysis import SpikeRateTrends\n",
    "# from pyphoplacecellanalysis.SpecificResults.PhoDiba2023Paper import list_of_dicts_to_dict_of_lists\n",
    "from pyphoplacecellanalysis.SpecificResults.AcrossSessionResults import AcrossSessionsResults, AcrossSessionsVisualizations\n"
   ]
  },
  {
   "cell_type": "code",
   "execution_count": null,
   "id": "34549c8f",
   "metadata": {},
   "outputs": [],
   "source": [
    "## Load the saved across-session results:\n",
    "# inst_fr_output_filename = 'long_short_inst_firing_rate_result_handlers_2023-07-12.pkl'\n",
    "# inst_fr_output_filename = 'across_session_result_long_short_inst_firing_rate.pkl'\n",
    "# inst_fr_output_filename='across_session_result_long_short_inst_firing_rate_2023-07-21.pkl'\n",
    "# inst_fr_output_filename=f'across_session_result_handler_{BATCH_DATE_TO_USE}.pkl'\n",
    "# inst_fr_output_filename='across_session_result_long_short_inst_firing_rate_2023-08-09_Test.pkl'\n",
    "# inst_fr_output_filename='across_session_result_long_short_inst_firing_rate_2023-10-04-GL.pkl'\n",
    "# inst_fr_output_filename='across_session_result_long_short_recomputed_inst_firing_rate_2023-10-04-GL-Recomp.pkl'\n",
    "# inst_fr_output_filename='across_session_result_long_short_recomputed_inst_firing_rate_2023-10-07.pkl'\n",
    "inst_fr_output_filename: str = f'across_session_result_long_short_recomputed_inst_firing_rate_{BATCH_DATE_TO_USE}.pkl'\n",
    "\n",
    "inst_fr_output_load_filepath: Path = Path('/nfs/turbo/umms-kdiba/Data/Output/collected_outputs/across_session_result_long_short_recomputed_inst_firing_rate_2024-06-11_GL.pkl').resolve() ## Load from existing:\n",
    "assert inst_fr_output_load_filepath.exists()\n",
    "inst_fr_output_filename: str = inst_fr_output_load_filepath.name\n",
    "# across_session_inst_fr_computation, across_sessions_instantaneous_fr_dict, across_sessions_instantaneous_frs_list = AcrossSessionsResults.load_across_sessions_data(global_data_root_parent_path=global_data_root_parent_path, inst_fr_output_filename=inst_fr_output_filename)\n",
    "across_session_inst_fr_computation, across_sessions_instantaneous_fr_dict, across_sessions_instantaneous_frs_list = AcrossSessionsResults.load_across_sessions_data(global_data_root_parent_path=inst_fr_output_load_filepath.parent, inst_fr_output_filename=inst_fr_output_filename)\n",
    "# across_sessions_instantaneous_fr_dict = loadData(global_batch_result_inst_fr_file_path)\n",
    "num_sessions = len(across_sessions_instantaneous_fr_dict)\n",
    "print(f'num_sessions: {num_sessions}')"
   ]
  },
  {
   "cell_type": "code",
   "execution_count": null,
   "id": "0abea5de",
   "metadata": {},
   "outputs": [],
   "source": [
    "from pyphoplacecellanalysis.SpecificResults.AcrossSessionResults import AcrossSessionTables\n",
    " \n",
    "## Load all across-session tables from the pickles:\n",
    "# output_path_suffix: str = f'2023-10-07'\n",
    "output_path_suffix: str = f'{BATCH_DATE_TO_USE}'\n",
    "neuron_identities_table, long_short_fr_indicies_analysis_table, neuron_replay_stats_table = AcrossSessionTables.load_all_combined_tables(override_output_parent_path=global_data_root_parent_path, output_path_suffix=output_path_suffix) # output_path_suffix=f'2023-10-04-GL-Recomp'\n",
    "num_sessions = len(neuron_replay_stats_table.session_uid.unique().to_numpy())\n",
    "print(f'num_sessions: {num_sessions}')"
   ]
  },
  {
   "cell_type": "code",
   "execution_count": null,
   "id": "44ef2a8b",
   "metadata": {},
   "outputs": [],
   "source": [
    "neuron_replay_stats_table"
   ]
  },
  {
   "cell_type": "code",
   "execution_count": null,
   "id": "db4ac006",
   "metadata": {},
   "outputs": [],
   "source": [
    "from neuropy.core.user_annotations import UserAnnotationsManager, SessionCellExclusivityRecord\n",
    "from neuropy.utils.result_context import IdentifyingContext\n",
    "\n",
    "annotation_man = UserAnnotationsManager()\n",
    "\n",
    "LxC_uids = []\n",
    "SxC_uids = []\n",
    "\n",
    "for a_ctxt in included_session_contexts:\n",
    "\tsession_uid = a_ctxt.get_description(separator=\"|\", include_property_names=False)\n",
    "\tsession_uid\n",
    "\tsession_cell_exclusivity: SessionCellExclusivityRecord = annotation_man.annotations[a_ctxt].get('session_cell_exclusivity', None)\n",
    "\tLxC_uids.extend([f\"{session_uid}|{aclu}\" for aclu in session_cell_exclusivity.LxC])\n",
    "\tSxC_uids.extend([f\"{session_uid}|{aclu}\" for aclu in session_cell_exclusivity.SxC])\n",
    "\t\n",
    "# [a_ctxt.get_description(separator=\"|\", include_property_names=False) for a_ctxt in included_session_contexts]\n",
    "\n",
    "long_short_fr_indicies_analysis_table['XxC_status'] = 'Shared'\n",
    "long_short_fr_indicies_analysis_table.loc[np.isin(long_short_fr_indicies_analysis_table.neuron_uid, LxC_uids), 'XxC_status'] = 'LxC'\n",
    "long_short_fr_indicies_analysis_table.loc[np.isin(long_short_fr_indicies_analysis_table.neuron_uid, SxC_uids), 'XxC_status'] = 'SxC'\n",
    "\n",
    "long_short_fr_indicies_analysis_table"
   ]
  },
  {
   "cell_type": "code",
   "execution_count": null,
   "id": "e5df97ff",
   "metadata": {},
   "outputs": [],
   "source": [
    "## 2023-10-11 - Get the long peak location\n",
    "\n",
    "long_short_fr_indicies_analysis_table['long_pf_peak_x'] = neuron_replay_stats_table['long_pf_peak_x']\n",
    "long_short_fr_indicies_analysis_table"
   ]
  },
  {
   "cell_type": "code",
   "execution_count": null,
   "id": "b1641aee",
   "metadata": {},
   "outputs": [],
   "source": [
    "matplotlib_configuration_update(is_interactive=True, backend='Qt5Agg')\n",
    "long_short_fr_indicies_analysis_table.plot.scatter(x='long_pf_peak_x', y='x_frs_index', title='Pf Peak position vs. LapsFRI', ylabel='Lap FRI')\n",
    "\n",
    "long_short_fr_indicies_analysis_table.plot.scatter(x='long_pf_peak_x', y='y_frs_index', title='Pf Peak position vs. ReplayFRI', ylabel='Replay FRI')"
   ]
  },
  {
   "cell_type": "markdown",
   "id": "0e9987dc",
   "metadata": {},
   "source": [
    " #TODO 2023-10-05 11:40: - [ ] Extract the \"contrarian cells\", the ones that have a strong exclusivity on the laps but the opposite tendency on the replays\n"
   ]
  },
  {
   "cell_type": "code",
   "execution_count": null,
   "id": "ce13554d",
   "metadata": {},
   "outputs": [],
   "source": [
    "# long_short_fr_indicies_analysis_table_filename = 'output/2023-10-07_long_short_fr_indicies_analysis_table.csv'\n",
    "long_short_fr_indicies_analysis_table_filename: str = f'output/{BATCH_DATE_TO_USE}_long_short_fr_indicies_analysis_table.csv'\n",
    "long_short_fr_indicies_analysis_table.to_csv(long_short_fr_indicies_analysis_table_filename)\n",
    "print(f'saved: {long_short_fr_indicies_analysis_table_filename}')"
   ]
  },
  {
   "cell_type": "markdown",
   "id": "1427597f",
   "metadata": {},
   "source": [
    "# 2023-10-10 - Statistics for `across_sessions_bar_graphs`, analysing `across_session_inst_fr_computation` "
   ]
  },
  {
   "cell_type": "code",
   "execution_count": null,
   "id": "e33422d9",
   "metadata": {
    "notebookRunGroups": {
     "groupValue": "2"
    }
   },
   "outputs": [],
   "source": [
    "import scipy.stats as stats\n",
    "from pyphoplacecellanalysis.SpecificResults.PhoDiba2023Paper import pho_stats_perform_diagonal_line_binomial_test, pho_stats_bar_graph_t_tests\n",
    "\n",
    "binom_test_chance_result = pho_stats_perform_diagonal_line_binomial_test(long_short_fr_indicies_analysis_table)\n",
    "print(f'binom_test_chance_result: {binom_test_chance_result}')\n",
    "\n",
    "LxC_Laps_T_result, SxC_Laps_T_result, LxC_Replay_T_result, SxC_Replay_T_result = pho_stats_bar_graph_t_tests(across_session_inst_fr_computation)\n",
    "\n",
    "# n_total: 823, n_above_diagonal: 457, n_exact_on_diagonal: 0, n_below_diagonal: 366\n",
    "# binom_test_chance_result: BinomTestResult(k=457, n=823, alternative='two-sided', statistic=0.5552855407047388, pvalue=0.0016893424059938723)\n",
    "# LxC_Laps_T_result: TtestResult(statistic=12.249237714915296, pvalue=3.8446809431691085e-08, df=12)\n",
    "# SxC_Laps_T_result: TtestResult(statistic=-12.413163641851535, pvalue=5.768107640498047e-07, df=9)\n",
    "# LxC_Replay_T_result: TtestResult(statistic=-0.7636543941504783, pvalue=0.4598247399068105, df=12)\n",
    "# SxC_Replay_T_result: TtestResult(statistic=-3.069767144140489, pvalue=0.01335902191105584, df=9)\n",
    "\n",
    "# n_total: 823, n_above_diagonal: 457, n_exact_on_diagonal: 0, n_below_diagonal: 366\n",
    "# binom_test_chance_result: BinomTestResult(k=457, n=823, alternative='two-sided', statistic=0.5552855407047388, pvalue=0.0016893424059938723)\n",
    "# LxC_Laps_T_result: TtestResult(statistic=12.249237714915296, pvalue=3.8446809431691085e-08, df=12)\n",
    "# SxC_Laps_T_result: TtestResult(statistic=-12.413163641851535, pvalue=5.768107640498047e-07, df=9)\n",
    "# LxC_Replay_T_result: TtestResult(statistic=-0.7636543941504783, pvalue=0.4598247399068105, df=12)\n",
    "# SxC_Replay_T_result: TtestResult(statistic=-3.069767144140489, pvalue=0.01335902191105584, df=9)\n"
   ]
  },
  {
   "cell_type": "markdown",
   "id": "a24ea5a5",
   "metadata": {},
   "source": [
    "## 2023-10-04 - Run `AcrossSessionsVisualizations` corresponding to the PhoDibaPaper2023 figures for all sessions\n"
   ]
  },
  {
   "cell_type": "code",
   "execution_count": null,
   "id": "7cc1152c",
   "metadata": {
    "tags": []
   },
   "outputs": [],
   "source": [
    "## Hacks the `PaperFigureTwo` and `InstantaneousSpikeRateGroupsComputation` \n",
    "matplotlib_configuration_update(is_interactive=False, backend='Qt5Agg')\n",
    "global_multi_session_context, _out_aggregate_fig_2 = AcrossSessionsVisualizations.across_sessions_bar_graphs(across_session_inst_fr_computation, num_sessions, enable_tiny_point_labels=False, enable_hover_labels=False)\n"
   ]
  },
  {
   "cell_type": "code",
   "execution_count": null,
   "id": "c437e42f",
   "metadata": {},
   "outputs": [],
   "source": [
    "from pyphoplacecellanalysis.SpecificResults.AcrossSessionResults import AcrossSessionsVisualizations\n",
    "\n",
    "matplotlib_configuration_update(is_interactive=False, backend='Qt5Agg')\n",
    "graphics_output_dict = AcrossSessionsVisualizations.across_sessions_firing_rate_index_figure(long_short_fr_indicies_analysis_results=long_short_fr_indicies_analysis_table, num_sessions=num_sessions, save_figure=True)\n"
   ]
  },
  {
   "cell_type": "code",
   "execution_count": null,
   "id": "ff34b020",
   "metadata": {},
   "outputs": [],
   "source": [
    "matplotlib_configuration_update(is_interactive=False, backend='Qt5Agg')\n",
    "graphics_output_dict = AcrossSessionsVisualizations.across_sessions_long_and_short_firing_rate_replays_v_laps_figure(neuron_replay_stats_table=neuron_replay_stats_table, num_sessions=num_sessions, save_figure=True)\n"
   ]
  },
  {
   "cell_type": "code",
   "execution_count": null,
   "id": "00dd481a",
   "metadata": {},
   "outputs": [],
   "source": [
    "ann_man = UserAnnotationsManager()\n",
    "included_annotations = {ctxt:ann_man.annotations[ctxt].get('session_cell_exclusivity', None) for ctxt in included_session_contexts}\n",
    "\n",
    "all_LxCs = []\n",
    "all_SxCs = []\n",
    "\n",
    "for ctxt, an_ann in included_annotations.items():\n",
    "\tsession_ctxt_key:str = ctxt.get_description(separator='|', subset_includelist=IdentifyingContext._get_session_context_keys())\n",
    "\tall_LxCs.extend([f\"{session_ctxt_key}|{aclu}\" for aclu in an_ann.LxC])\n",
    "\tall_SxCs.extend([f\"{session_ctxt_key}|{aclu}\" for aclu in an_ann.SxC])\n",
    "\t\n",
    "all_LxCs"
   ]
  },
  {
   "cell_type": "code",
   "execution_count": null,
   "id": "c1222a17",
   "metadata": {},
   "outputs": [],
   "source": [
    "all_SxCs"
   ]
  },
  {
   "cell_type": "code",
   "execution_count": null,
   "id": "1381fcf5",
   "metadata": {
    "notebookRunGroups": {
     "groupValue": ""
    }
   },
   "outputs": [],
   "source": [
    "across_session_inst_fr_computation.LxC_scatter_props\n",
    "across_session_inst_fr_computation.SxC_scatter_props"
   ]
  },
  {
   "cell_type": "code",
   "execution_count": null,
   "id": "63258151",
   "metadata": {},
   "outputs": [],
   "source": [
    "from pyphoplacecellanalysis.SpecificResults.PhoDiba2023Paper import PaperFigureTwo # used in post_compute_all_sessions_processing\n",
    "\n",
    "\n",
    "## Aggregate across all of the sessions to build a new combined `InstantaneousSpikeRateGroupsComputation`, which can be used to plot the \"PaperFigureTwo\", bar plots for many sessions.\n",
    "global_multi_session_context = IdentifyingContext(format_name='kdiba', num_sessions=num_sessions) # some global context across all of the sessions, not sure what to put here.\n",
    "\n",
    "instantaneous_time_bin_size_seconds:float = 0.001\n",
    "\n",
    "# To correctly aggregate results across sessions, it only makes sense to combine entries at the `.cell_agg_inst_fr_list` variable and lower (as the number of cells can be added across sessions, treated as unique for each session).\n",
    "\n",
    "## Display the aggregate across sessions:\n",
    "_out_fig_2 = PaperFigureTwo(instantaneous_time_bin_size_seconds=instantaneous_time_bin_size_seconds) # WARNING: we didn't save this info\n",
    "_out_fig_2.computation_result = across_session_inst_fr_computation # the result loaded from the file\n",
    "_out_fig_2.active_identifying_session_ctx = across_session_inst_fr_computation.active_identifying_session_ctx\n",
    "# Set callback, the only self-specific property\n",
    "# _out_fig_2._pipeline_file_callback_fn = curr_active_pipeline.output_figure # lambda args, kwargs: self.write_to_file(args, kwargs, curr_active_pipeline)\n",
    "# _out_fig_2.scatter_props_fn = _return_scatter_props_fn"
   ]
  },
  {
   "cell_type": "code",
   "execution_count": null,
   "id": "50e9d06b",
   "metadata": {},
   "outputs": [],
   "source": [
    "LxC_aclus = _out_fig_2.computation_result.LxC_aclus\n",
    "SxC_aclus = _out_fig_2.computation_result.SxC_aclus\n",
    "\n",
    "LxC_aclus"
   ]
  },
  {
   "cell_type": "code",
   "execution_count": null,
   "id": "96c498f8",
   "metadata": {},
   "outputs": [],
   "source": [
    "from pyphoplacecellanalysis.General.Mixins.ExportHelpers import FigureOutputLocation, ContextToPathMode, FileOutputManager # used in post_compute_all_sessions_processing\n",
    "from pyphoplacecellanalysis.SpecificResults.PhoDiba2023Paper import PaperFigureTwo # used in post_compute_all_sessions_processing\n",
    "\n",
    "registered_output_files = {}\n",
    "\n",
    "def output_figure(final_context: IdentifyingContext, fig, write_vector_format:bool=True, write_png:bool=True, debug_print=True):\n",
    "    \"\"\" outputs the figure using the provided context. \"\"\"\n",
    "    from pyphoplacecellanalysis.General.Mixins.ExportHelpers import build_and_write_to_file\n",
    "    def register_output_file(output_path, output_metadata=None):\n",
    "        \"\"\" registers a new output file for the pipeline \"\"\"\n",
    "        print(f'register_output_file(output_path: {output_path}, ...)')\n",
    "        registered_output_files[output_path] = output_metadata or {}\n",
    "\n",
    "    fig_out_man = FileOutputManager(figure_output_location=FigureOutputLocation.DAILY_PROGRAMMATIC_OUTPUT_FOLDER, context_to_path_mode=ContextToPathMode.HIERARCHY_UNIQUE)\n",
    "    active_out_figure_paths = build_and_write_to_file(fig, final_context, fig_out_man, write_vector_format=write_vector_format, write_png=write_png, register_output_file_fn=register_output_file)\n",
    "    return active_out_figure_paths, final_context\n",
    "\n",
    "\n",
    "# Set callback, the only self-specific property\n",
    "_out_fig_2._pipeline_file_callback_fn = output_figure"
   ]
  },
  {
   "cell_type": "code",
   "execution_count": null,
   "id": "1db0f1d5",
   "metadata": {},
   "outputs": [],
   "source": [
    "_out_fig_2.computation_result.Fig2_Laps_FR"
   ]
  },
  {
   "cell_type": "code",
   "execution_count": null,
   "id": "17ef9f3d",
   "metadata": {},
   "outputs": [],
   "source": [
    "_out_fig_2.computation_result.Fig2_Replay_FR"
   ]
  },
  {
   "cell_type": "code",
   "execution_count": null,
   "id": "a694ec1c",
   "metadata": {},
   "outputs": [],
   "source": [
    "# Showing\n",
    "restore_previous_matplotlib_settings_callback = matplotlib_configuration_update(is_interactive=False, backend='Qt5Agg')\n",
    "# Perform interactive Matplotlib operations with 'Qt5Agg' backend\n",
    "active_context = global_multi_session_context.adding_context_if_missing(run_date=BATCH_DATE_TO_USE)\n",
    "\n",
    "_fig_2_theta_out, _fig_2_replay_out = _out_fig_2.display(active_context=active_context, title_modifier_fn=lambda original_title: f\"{original_title} ({num_sessions} sessions)\",\n",
    "\t\t\t\t\t\t\t\t\t\t\t\t\t\tdefer_show=True, save_figure=True, enable_tiny_point_labels=False)\n",
    "\n",
    "# _out_fig_2.perform_save()\n",
    "\n",
    "# _out_fig_2.perform_save(global_multi_session_context, _fig_2_theta_out)\n",
    "\n",
    "\n"
   ]
  },
  {
   "cell_type": "code",
   "execution_count": null,
   "id": "c96ed659",
   "metadata": {},
   "outputs": [],
   "source": []
  },
  {
   "cell_type": "code",
   "execution_count": null,
   "id": "7d829b90",
   "metadata": {},
   "outputs": [],
   "source": [
    "debug_print: bool = False\n",
    "enable_neptune: bool = True\n",
    "\n",
    "if enable_neptune:\n",
    "    import neptune # for logging progress and results\n",
    "    from neptune.types import File\n",
    "    from pyphoplacecellanalysis.General.Batch.NeptuneAiHelpers import Neptuner, AutoValueConvertingNeptuneRun, set_environment_variables \n",
    "\n",
    "    ## Gets the notebook filepath for Neptune:\n",
    "    import IPython\n",
    "    from pyphocorehelpers.programming_helpers import IPythonHelpers\n",
    "    notebook_filepath: str = IPythonHelpers.try_find_notebook_filepath(IPython.extract_module_locals())\n",
    "    assert Path(notebook_filepath).resolve().exists(), f\"found notebook filepath: '{notebook_filepath}' does not exist\"\n",
    "\n",
    "\t\n",
    "    # notebook_filepath\n",
    "\n",
    "\t# '/home/halechr/repos/Spike3D/BatchInteractiveProcessing_2024-06-11_GL.ipynb'\n",
    "\n",
    "    neptune_kwargs = {'project':\"commander.pho/PhoDibaLongShortAcrossSessions\",\n",
    "    'api_token':\"eyJhcGlfYWRkcmVzcyI6Imh0dHBzOi8vYXBwLm5lcHR1bmUuYWkiLCJhcGlfdXJsIjoiaHR0cHM6Ly9hcHAubmVwdHVuZS5haSIsImFwaV9rZXkiOiIxOGIxODU2My1lZTNhLTQ2ZWMtOTkzNS02ZTRmNzM5YmNjNjIifQ==\"}\n",
    "            \n",
    "    neptuner = Neptuner(project_name=neptune_kwargs['project'], api_token=neptune_kwargs['api_token'])\n",
    "\n",
    "\n",
    "    if neptuner.run is None:\n",
    "        # neptuner.run = neptune.init_run(project=neptuner.project_name, api_token=neptuner.api_token, dependencies=\"infer\", source_files=[notebook_filepath]) # see git_ref=GitRef(repository_path=\"/path/to/repo\")\n",
    "        # Add the session_context properties to the run: {'format_name': 'kdiba', 'animal': 'vvp01', 'exper_name': 'two', 'session_name': '2006-4-09_16-40-54'}\n",
    "\n",
    "        neptuner.run = AutoValueConvertingNeptuneRun(project=neptuner.project_name, api_token=neptuner.api_token, dependencies=\"infer\", source_files=[notebook_filepath])\n",
    "\n",
    "        # Create an AutoValueConvertingNeptuneRun and copy the attributes\n",
    "        # neptuner.run = AutoValueConvertingNeptuneRun(base_run._client, base_run._uuid, base_run._url)\n",
    "    \n",
    "        params = {'BATCH_DATE_TO_USE': BATCH_DATE_TO_USE, \"run_workstation\": \"GL\"}\n",
    "        neptuner.run[\"parameters\"] = params\n",
    "\n",
    "        neptuner.outputs = neptuner.run['outputs']\n",
    "        neptuner.figures = neptuner.outputs['figures']\n",
    "\n",
    "    neptuner_run = neptuner.run\n",
    "    \n",
    "    # run = neptune.init_run(source_files=[\"**/*.dvc\"])\n",
    "\n",
    "    # # Pre-execution dataframe view:\n",
    "    # run[\"dataset/global_batch_run_progress_df\"].upload(File.as_html(global_batch_run.to_dataframe(expand_context=True, good_only=False))) # \"path/to/test_preds.csv\"\n",
    "\n",
    "else:\n",
    "    # no neptune:\n",
    "    neptuner = None    \n",
    "    neptuner_run = None"
   ]
  },
  {
   "cell_type": "code",
   "execution_count": null,
   "id": "c7a87449",
   "metadata": {},
   "outputs": [],
   "source": [
    "for a_save_path, a_save_dict in registered_output_files.items():\n",
    "\ta_save_dict['fig']\n",
    "\ta_save_dict['context']\n",
    "\tneptuner.figures.upload(File(a_save_path.resolve().as_posix()))"
   ]
  },
  {
   "cell_type": "code",
   "execution_count": null,
   "id": "2812f3ed",
   "metadata": {},
   "outputs": [],
   "source": [
    "\n",
    "neptuner_run[f'output_files/across_sessions_fig_2'] = _out_fig_2"
   ]
  },
  {
   "cell_type": "code",
   "execution_count": null,
   "id": "acf1ce00",
   "metadata": {},
   "outputs": [],
   "source": [
    "if (neptuner is not None) and (neptuner_run is not None):\n",
    "    neptuner.stop()"
   ]
  }
 ],
 "metadata": {
  "kernelspec": {
   "display_name": "Python 3 (ipykernel)",
   "language": "python",
   "name": "python3"
  },
  "language_info": {
   "codemirror_mode": {
    "name": "ipython",
    "version": 3
   },
   "file_extension": ".py",
   "mimetype": "text/x-python",
   "name": "python",
   "nbconvert_exporter": "python",
   "pygments_lexer": "ipython3",
   "version": "3.9.12"
  },
  "toc-showmarkdowntxt": false,
  "toc-showtags": false
 },
 "nbformat": 4,
 "nbformat_minor": 5
}
