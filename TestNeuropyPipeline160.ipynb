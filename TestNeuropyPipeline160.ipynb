{
 "cells": [
  {
   "cell_type": "code",
   "execution_count": 1,
   "id": "83f14b23-a7ec-4769-b07e-2c8152ef97da",
   "metadata": {
    "scene__Default Scene": true,
    "tags": [
     "ActiveScene"
    ]
   },
   "outputs": [
    {
     "name": "stdout",
     "output_type": "stream",
     "text": [
      "Automatic pdb calling has been turned OFF\n"
     ]
    }
   ],
   "source": [
    "\"\"\"\n",
    "@author: pho\n",
    "\"\"\"\n",
    "## Automatic debugger on exception raised\n",
    "%pdb off\n",
    "%load_ext autoreload\n",
    "%autoreload 2\n",
    "\n",
    "import sys\n",
    "import importlib\n",
    "from pathlib import Path\n",
    "from copy import deepcopy\n",
    "\n",
    "from numba import jit\n",
    "import numpy as np\n",
    "import pandas as pd\n",
    "\n",
    "import pickle\n",
    "\n",
    "%config Completer.use_jedi = False\n",
    "\n",
    "# # required to enable non-blocking interaction:\n",
    "%gui qt5\n",
    "\n",
    "import pyphoplacecellanalysis.External.pyqtgraph as pg # Used to plot Speed vs. Pf Desnity Metrics\n",
    "from pyphoplacecellanalysis.External.pyqtgraph.Qt import QtCore, QtGui\n",
    "import pyphoplacecellanalysis.External.pyqtgraph.opengl as gl # for 3D raster plot\n",
    "\n",
    "# Pho's Formatting Preferences\n",
    "from pyphocorehelpers.preferences_helpers import set_pho_preferences, set_pho_preferences_concise, set_pho_preferences_verbose\n",
    "# set_pho_preferences()\n",
    "# np.set_printoptions(edgeitems=30, linewidth=100000, formatter=dict(float=lambda x: \"%g\" % x))\n",
    "# np.set_printoptions(edgeitems=None, linewidth=100000, formatter=None)\n",
    "set_pho_preferences_concise()\n",
    "\n",
    "# For Progress bars:\n",
    "# from tqdm.notebook import tqdm, trange\n",
    "\n",
    "## Pho's Custom Libraries:\n",
    "from pyphocorehelpers.general_helpers import get_arguments_as_optional_dict, inspect_callable_arguments\n",
    "from pyphocorehelpers.indexing_helpers import partition, build_spanning_bins, compute_spanning_bins, compute_position_grid_size, compute_paginated_grid_config\n",
    "from pyphocorehelpers.print_helpers import PrettyPrintable, WrappingMessagePrinter, print_keys_if_possible, debug_dump_object_member_shapes\n",
    "from pyphocorehelpers.DataStructure.dynamic_parameters import DynamicParameters\n",
    "from pyphocorehelpers.performance_timing_helpers import WrappingPerformanceTimer\n",
    "from pyphocorehelpers.gui.interaction_helpers import CallbackWrapper\n",
    "from pyphocorehelpers.Filesystem.open_in_system_file_manager import reveal_in_system_file_manager\n",
    "\n",
    "# pyPhoPlaceCellAnalysis:\n",
    "from pyphoplacecellanalysis.General.Pipeline.NeuropyPipeline import NeuropyPipeline # get_neuron_identities\n",
    "# from pyphoplacecellanalysis.General.SessionSelectionAndFiltering import batch_filter_session, build_custom_epochs_filters\n",
    "from neuropy.core.session.KnownDataSessionTypeProperties import KnownDataSessionTypeProperties\n",
    "\n",
    "from pyphoplacecellanalysis.General.Pipeline.Stages.ComputationFunctions.ComputationFunctionRegistryHolder import ComputationFunctionRegistryHolder\n",
    "from pyphoplacecellanalysis.General.Pipeline.Stages.DisplayFunctions.DisplayFunctionRegistryHolder import DisplayFunctionRegistryHolder\n",
    "\n",
    "# NeuroPy (Diba Lab Python Repo) Loading\n",
    "# from neuropy import core\n",
    "from neuropy.core.session.data_session_loader import DataSessionLoader\n",
    "from neuropy.core.session.dataSession import DataSession\n",
    "from neuropy.analyses.placefields import PlacefieldComputationParameters\n",
    "\n",
    "from neuropy.core.laps import Laps  # Used for adding laps in KDiba mode\n",
    "from neuropy.utils.efficient_interval_search import get_non_overlapping_epochs, drop_overlapping # Used for adding laps in KDiba mode\n",
    "\n",
    "from neuropy.core.epoch import NamedTimerange\n",
    "\n",
    "from neuropy.core.session.Formats.BaseDataSessionFormats import DataSessionFormatRegistryHolder, DataSessionFormatBaseRegisteredClass\n",
    "from neuropy.core.session.Formats.Specific.BapunDataSessionFormat import BapunDataSessionFormatRegisteredClass\n",
    "from neuropy.core.session.Formats.Specific.KDibaOldDataSessionFormat import KDibaOldDataSessionFormatRegisteredClass\n",
    "from neuropy.core.session.Formats.Specific.RachelDataSessionFormat import RachelDataSessionFormat\n",
    "from neuropy.core.session.Formats.Specific.HiroDataSessionFormat import HiroDataSessionFormatRegisteredClass\n",
    "\n",
    "## Plotting Helpers:\n",
    "from pyphoplacecellanalysis.GUI.PyQtPlot.pyqtplot_Matrix import MatrixRenderingWindow\n",
    "from pyphoplacecellanalysis.GUI.PyQtPlot.BinnedImageRenderingWindow import BasicBinnedImageRenderingWindow\n",
    "from pyphoplacecellanalysis.Pho2D.PyQtPlots.plot_placefields import pyqtplot_plot_image_array, pyqtplot_plot_image\n",
    "\n",
    "known_data_session_type_properties_dict = DataSessionFormatRegistryHolder.get_registry_known_data_session_type_dict()\n",
    "active_data_session_types_registered_classes_dict = DataSessionFormatRegistryHolder.get_registry_data_session_type_class_name_dict()\n",
    "# DataSessionFormatRegistryHolder.get_registry()\n",
    "\n",
    "enable_saving_to_disk = False\n",
    "# common_parent_foldername = Path(r'R:\\Dropbox (Personal)\\Active\\Kamran Diba Lib\\Pho-Kamran-Meetings\\Final Placemaps 2021-01-14')\n",
    "common_parent_foldername = Path(r'R:\\Dropbox (Personal)\\Active\\Kamran Diba Lib\\Pho-Kamran-Meetings\\2022-01-16')\n",
    "\n",
    "def JupyterLab_excepthook(exc_type, exc_value, exc_tb):\n",
    "    tb = \"\".join(traceback.format_exception(exc_type, exc_value, exc_tb))\n",
    "    print(\"JupyterLab_excepthook error catched!:\")\n",
    "    print(\"\\t error message:\\n\", tb)\n",
    "    QtWidgets.QApplication.quit()\n",
    "    # or QtWidgets.QApplication.exit(0)\n",
    "    \n",
    "sys.excepthook = JupyterLab_excepthook\n",
    "\n",
    "## Concise Numpy Array Printing:\n",
    "# np.set_string_function(lambda x:f'np.array[{np.shape(x)}]', repr=True)\n",
    "# # with np.printoptions(precision=2, edgeitems=2, linewidth=144):\n",
    "# with np.printoptions(precision=3, edgeitems=2, linewidth=100000):\n",
    "#     # active_computed_data['pf2D'].ratemap\n",
    "#     print(active_computed_data['pf2D'])\n",
    "#     # print(active_computed_data['pf2D'].ratemap)\n",
    "    \n",
    "    \n",
    "# np.set_string_function(lambda x:f'np.array[{np.shape(x)}]', repr=True)\n",
    "# np.set_string_function(None, repr=True)\n",
    "\n",
    "from pyphocorehelpers.general_helpers import get_arguments_as_optional_dict, CodeConversion\n",
    "from pyphoplacecellanalysis.General.Pipeline.Stages.Loading import loadData, saveData\n",
    "\n",
    "## For computation parameters:\n",
    "from neuropy.analyses.placefields import PlacefieldComputationParameters\n",
    "from neuropy.utils.dynamic_container import DynamicContainer, override_dict, overriding_dict_with, get_dict_subset\n",
    "from neuropy.utils.position_util import compute_position_grid_size\n",
    "\n",
    "def build_eloy_computation_configs(sess, **kwargs):\n",
    "    \"\"\" OPTIONALLY can be overriden by implementors to provide specific filter functions \"\"\"\n",
    "    # (4.0, 4.0)cm bins, (6.0, 6.0)cm gaussian smoothing\n",
    "    # peak frate > 2Hz \n",
    "    # return [DynamicContainer(pf_params=PlacefieldComputationParameters(speed_thresh=10.0, grid_bin=(4.0, 4.0), smooth=(6.0, 6.0), frate_thresh=0.2, time_bin_size=1.0, computation_epochs = None), spike_analysis=None)]\n",
    "    # return [DynamicContainer(pf_params=PlacefieldComputationParameters(speed_thresh=10.0, grid_bin=(4.0, 4.0), smooth=(2.5, 2.5), frate_thresh=0.2, time_bin_size=1.0, computation_epochs = None), spike_analysis=None)]\n",
    "    return [DynamicContainer(pf_params=PlacefieldComputationParameters(speed_thresh=10.0, grid_bin=(4.0, 4.0), smooth=(0.0, 0.0), frate_thresh=0.2, time_bin_size=1.0, computation_epochs = None), spike_analysis=None)]\n",
    "\n"
   ]
  },
  {
   "cell_type": "markdown",
   "id": "1d84bd3a-4e2b-4482-91b8-18695ad60c80",
   "metadata": {
    "scene__Default Scene": true,
    "tags": [
     "main_run",
     "ActiveScene"
    ]
   },
   "source": [
    "# Load Appropriate Data and begin pipeline"
   ]
  },
  {
   "cell_type": "markdown",
   "id": "8eceb354-7fa7-4064-ba26-4e989b9f3354",
   "metadata": {
    "jp-MarkdownHeadingCollapsed": true,
    "tags": []
   },
   "source": [
    "## Bapun Format:"
   ]
  },
  {
   "cell_type": "code",
   "execution_count": null,
   "id": "e20e28a1-9bf0-49eb-8ad3-cd3b4ab43f1d",
   "metadata": {
    "pycharm": {
     "is_executing": false
    },
    "scrolled": true
   },
   "outputs": [],
   "source": [
    "active_data_mode_name = 'bapun'\n",
    "active_data_mode_registered_class = active_data_session_types_registered_classes_dict[active_data_mode_name]\n",
    "active_data_mode_type_properties = known_data_session_type_properties_dict[active_data_mode_name]\n",
    "basedir = r'R:\\data\\Bapun\\Day5TwoNovel'\n",
    "\n",
    "curr_active_pipeline = NeuropyPipeline.try_init_from_saved_pickle_or_reload_if_needed(active_data_mode_name, active_data_mode_type_properties, override_basepath=Path(basedir)) # damn this file is 21.1 GB!\n",
    "active_session_filter_configurations = active_data_mode_registered_class.build_default_filter_functions(sess=curr_active_pipeline.sess) # build_filters_pyramidal_epochs(sess=curr_kdiba_pipeline.sess)\n",
    "active_session_computation_configs = active_data_mode_registered_class.build_default_computation_configs(sess=curr_active_pipeline.sess)\n",
    "\n",
    "curr_active_pipeline.filter_sessions(active_session_filter_configurations)\n",
    "curr_active_pipeline.perform_computations(active_session_computation_configs[0], computation_functions_name_blacklist=['_perform_spike_burst_detection_computation', '_perform_velocity_vs_pf_density_computation', '_perform_velocity_vs_pf_simplified_count_density_computation']) # SpikeAnalysisComputations._perform_spike_burst_detection_computation\n",
    "## _perform_velocity_vs_pf_density_computation: causes AssertionError: After AOC normalization the sum over each cell should be 1.0, but it is not! [nan nan nan nan nan nan nan nan nan nan nan nan nan nan nan nan nan nan nan nan nan nan nan nan nan nan nan nan nan nan nan nan nan nan nan nan nan nan nan nan nan] with 1D placefields!\n",
    "curr_active_pipeline.prepare_for_display(should_smooth_maze=False) # TODO: pass a display config"
   ]
  },
  {
   "cell_type": "code",
   "execution_count": null,
   "id": "6e613429-ced7-4aa0-b70f-3be7d868dfec",
   "metadata": {
    "pycharm": {
     "is_executing": false
    },
    "scrolled": true
   },
   "outputs": [],
   "source": [
    "# saveData(finalized_loaded_sess_pickle_path, db=curr_active_pipeline) # 589 MB"
   ]
  },
  {
   "cell_type": "markdown",
   "id": "1c703940-bbc4-4014-9e54-2b88b8c79391",
   "metadata": {
    "jp-MarkdownHeadingCollapsed": true,
    "tags": []
   },
   "source": [
    "## Rachel Format:"
   ]
  },
  {
   "cell_type": "code",
   "execution_count": null,
   "id": "03ef84d7-a972-4578-9199-0bda4c627fb6",
   "metadata": {},
   "outputs": [],
   "source": [
    "active_data_mode_name = 'rachel'\n",
    "active_data_mode_registered_class = active_data_session_types_registered_classes_dict[active_data_mode_name]\n",
    "active_data_mode_type_properties = known_data_session_type_properties_dict[active_data_mode_name]\n",
    "basedir = r'R:\\data\\Rachel\\merged_M1_20211123_raw_phy' # Windows\n",
    "\n",
    "curr_active_pipeline = NeuropyPipeline.try_init_from_saved_pickle_or_reload_if_needed(active_data_mode_name, active_data_mode_type_properties, override_basepath=Path(basedir))\n",
    "active_session_filter_configurations = active_data_mode_registered_class.build_default_filter_functions(sess=curr_active_pipeline.sess) # build_filters_pyramidal_epochs(sess=curr_kdiba_pipeline.sess)\n",
    "active_session_computation_configs = active_data_mode_registered_class.build_default_computation_configs(sess=curr_active_pipeline.sess)"
   ]
  },
  {
   "cell_type": "code",
   "execution_count": null,
   "id": "277eb000-0a85-4b32-8348-1d0a2042c8a0",
   "metadata": {
    "pycharm": {
     "is_executing": false
    },
    "scrolled": true
   },
   "outputs": [],
   "source": [
    "curr_active_pipeline.filter_sessions(active_session_filter_configurations)\n",
    "curr_active_pipeline.perform_computations(active_session_computation_configs[0], computation_functions_name_blacklist=['_perform_spike_burst_detection_computation']) # Causes \"IndexError: index 59 is out of bounds for axis 0 with size 59\"\n",
    "curr_active_pipeline.prepare_for_display(should_smooth_maze=True) # TODO: pass a display config"
   ]
  },
  {
   "cell_type": "markdown",
   "id": "a4940269-23e4-46dc-a4ae-61d512ac5e41",
   "metadata": {
    "tags": []
   },
   "source": [
    "## KDiba Format:"
   ]
  },
  {
   "cell_type": "code",
   "execution_count": 3,
   "id": "9e8bf73a-a36b-46fd-98fd-bd91f3d23fb1",
   "metadata": {
    "tags": [
     "main_run",
     "ActiveScene"
    ]
   },
   "outputs": [
    {
     "name": "stdout",
     "output_type": "stream",
     "text": [
      "finalized_loaded_sess_pickle_path: R:\\data\\KDIBA\\gor01\\one\\2006-6-07_11-26-53\\loadedSessPickle.pkl\n",
      "Loading saved session pickle file results to R:\\data\\KDIBA\\gor01\\one\\2006-6-07_11-26-53\\loadedSessPickle.pkl... done.\n",
      "Failure loading R:\\data\\KDIBA\\gor01\\one\\2006-6-07_11-26-53\\loadedSessPickle.pkl.\n",
      "Must reload/rebuild.\n",
      "basedir is already Path object.\n",
      "Loading matlab import file results to R:\\data\\KDIBA\\gor01\\one\\2006-6-07_11-26-53\\2006-6-07_11-26-53.epochs_info.mat... done.\n",
      "Loading matlab import file results to R:\\data\\KDIBA\\gor01\\one\\2006-6-07_11-26-53\\2006-6-07_11-26-53.position_info.mat... done.\n",
      "Loading matlab import file results to R:\\data\\KDIBA\\gor01\\one\\2006-6-07_11-26-53\\2006-6-07_11-26-53.spikes.mat... done.\n",
      "Failure loading .position.npy. Must recompute.\n",
      "\n",
      "Computing linear positions for all active epochs for session... Saving updated position results results to R:\\data\\KDIBA\\gor01\\one\\2006-6-07_11-26-53\\2006-6-07_11-26-53.position.npy... 2006-6-07_11-26-53.position.npy saved\n",
      "done.\n",
      "\t force_recompute is True! Forcing recomputation of .interpolated_spike_positions.npy\n",
      "\n",
      "Computing interpolate_spike_positions columns results to spikes_df... done.\n",
      "\t Saving updated interpolated spike position results results to R:\\data\\KDIBA\\gor01\\one\\2006-6-07_11-26-53\\2006-6-07_11-26-53.interpolated_spike_positions.npy... 2006-6-07_11-26-53.interpolated_spike_positions.npy saved\n",
      "done.\n",
      "Loading matlab import file results to R:\\data\\KDIBA\\gor01\\one\\2006-6-07_11-26-53\\2006-6-07_11-26-53.laps_info.mat... done.\n",
      "setting laps object.\n",
      "session.laps loaded successfully!\n",
      "Failure loading .ripple.npy. Must recompute.\n",
      "\n",
      "computing ripple epochs for session...\n",
      "\n",
      "Selected channels for ripples: [ 0  1  2  3  4  5  6  7  8  9 10 11 12 13 14 15 16 17 18 19 20 21 22 23 24 25 26 27 28 29 30 31 32 33 34 35 36 37 38 39 40 41 42 43 44 45 46 47 48 49 50 51 52 53 54 55 56 57 58 59 60 61 62 63 64 65 66 67 68 69 70 71 72 73 74 75 76 77 78 79 80 81 82 83 84 85 86 87 88 89 90 91 92 93 94 95]\n",
      "59641 epochs detected initially\n",
      "848 epochs reamining after merging close ones\n",
      "476 epochs reamining after deleting epochs with weaker power\n",
      "476 epochs reamining after deleting short epochs\n",
      "112 epochs reamining after deleting very long epochs\n",
      "Saving ripple epochs results to R:\\data\\KDIBA\\gor01\\one\\2006-6-07_11-26-53\\2006-6-07_11-26-53.ripple.npy... 2006-6-07_11-26-53.ripple.npy saved\n",
      "done.\n",
      "Failure loading .mua.npy. Must recompute.\n",
      "\n",
      "computing neurons mua for session...\n",
      "\n",
      "Saving mua results results to R:\\data\\KDIBA\\gor01\\one\\2006-6-07_11-26-53\\2006-6-07_11-26-53.mua.npy... 2006-6-07_11-26-53.mua.npy saved\n",
      "done.\n",
      "Failure loading .pbe.npy. Must recompute.\n",
      "\n",
      "computing PBE epochs for session...\n",
      "\n",
      "Saving pbe results results to R:\\data\\KDIBA\\gor01\\one\\2006-6-07_11-26-53\\2006-6-07_11-26-53.pbe.npy... 2006-6-07_11-26-53.pbe.npy saved\n",
      "done.\n",
      "Computing spikes_df PBEs column results to spikes_df... done.\n",
      "Computing added spike scISI column results to spikes_df... done.\n",
      "Saving (file mode 'w+b') loaded session pickle file results to R:\\data\\KDIBA\\gor01\\one\\2006-6-07_11-26-53\\loadedSessPickle.pkl... done.\n",
      "Applying session filter named \"maze1\"...\n",
      "Constraining to units with type: pyramidal\n",
      "Constraining to epoch with times (start: 22.26, end: 1739.1533641185379)\n",
      "computing neurons mua for session...\n",
      "\n",
      "Applying session filter named \"maze2\"...\n",
      "Constraining to units with type: pyramidal\n",
      "Constraining to epoch with times (start: 1739.1533641185379, end: 1932.4200048116618)\n",
      "computing neurons mua for session...\n",
      "\n",
      "Applying session filter named \"maze\"...\n",
      "Constraining to units with type: pyramidal\n",
      "Constraining to epoch with times (start: 22.26, end: 1932.4200048116618)\n",
      "computing neurons mua for session...\n",
      "\n",
      "Performing evaluate_single_computation_params on filtered_session with filter named \"maze1\"...\n",
      "due to blacklist, including only 11 out of 12 registered computation functions.\n",
      "Recomputing active_epoch_placefields... \t done.\n",
      "Recomputing active_epoch_placefields2D... \t done.\n",
      "Recomputing active_epoch_time_dependent_placefields... \t done.\n",
      "Recomputing active_epoch_time_dependent_placefields2D... \t done.\n",
      "Performing evaluate_single_computation_params on filtered_session with filter named \"maze2\"...\n",
      "due to blacklist, including only 11 out of 12 registered computation functions.\n",
      "Recomputing active_epoch_placefields... \t done.\n",
      "Recomputing active_epoch_placefields2D... \t done.\n",
      "Recomputing active_epoch_time_dependent_placefields... \t done.\n",
      "Recomputing active_epoch_time_dependent_placefields2D... \t done.\n",
      "Performing evaluate_single_computation_params on filtered_session with filter named \"maze\"...\n",
      "due to blacklist, including only 11 out of 12 registered computation functions.\n",
      "Recomputing active_epoch_placefields... \t done.\n",
      "Recomputing active_epoch_placefields2D... \t done.\n",
      "Recomputing active_epoch_time_dependent_placefields... \t done.\n",
      "Recomputing active_epoch_time_dependent_placefields2D... \t done.\n"
     ]
    }
   ],
   "source": [
    "# %%cache\n",
    "# from cached_property import cached_property\n",
    "active_data_mode_name = 'kdiba'\n",
    "active_data_mode_registered_class = active_data_session_types_registered_classes_dict[active_data_mode_name]\n",
    "active_data_mode_type_properties = known_data_session_type_properties_dict[active_data_mode_name]\n",
    "\n",
    "## Data must be pre-processed using the MATLAB script located here: \n",
    "#     neuropy/data_session_pre_processing_scripts/KDIBA/IIDataMat_Export_ToPython_2022_08_01.m\n",
    "# From pre-computed .mat files:\n",
    "## 07:\n",
    "# basedir = r'/run/media/halechr/MoverNew/data/KDIBA/gor01/one/2006-6-07_11-26-53' # Lab Linux Workstation\n",
    "# basedir = r'/home/halechr/Data/KDIBA/gor01/one/2006-6-07_11-26-53' # Lab Linux Workstation\n",
    "basedir = r'R:\\data\\KDIBA\\gor01\\one\\2006-6-07_11-26-53' # Apogee Windows\n",
    "## 08:\n",
    "# basedir = r'R:\\data\\KDIBA\\gor01\\one\\2006-6-08_14-26-15' # Apogee Windows\n",
    "\n",
    "curr_active_pipeline = NeuropyPipeline.try_init_from_saved_pickle_or_reload_if_needed(active_data_mode_name, active_data_mode_type_properties, override_basepath=Path(basedir), override_post_load_functions=[])\n",
    "# active_session_filter_configurations = active_data_mode_registered_class.build_default_filter_functions(sess=curr_active_pipeline.sess) # build_filters_pyramidal_epochs(sess=curr_kdiba_pipeline.sess)\n",
    "active_session_filter_configurations = active_data_mode_registered_class.build_filters_pyramidal_epochs(sess=curr_active_pipeline.sess, epoch_name_whitelist=['maze1','maze2','maze'])\n",
    "# active_session_computation_configs = active_data_mode_registered_class.build_default_computation_configs(sess=curr_active_pipeline.sess)\n",
    "active_session_computation_configs = build_eloy_computation_configs(sess=curr_active_pipeline.sess)\n",
    "curr_active_pipeline.filter_sessions(active_session_filter_configurations)\n",
    "# curr_active_pipeline.perform_computations(active_session_computation_configs[0], computation_functions_name_whitelist=['_perform_baseline_placefield_computation', '_perform_pf_find_ratemap_peaks_peak_prominence2d_computation'], debug_print=False)\n",
    "curr_active_pipeline.perform_computations(active_session_computation_configs[0], computation_functions_name_blacklist=['_perform_spike_burst_detection_computation'], debug_print=False, fail_on_exception=False) # whitelist: ['_perform_baseline_placefield_computation']\n",
    "curr_active_pipeline.prepare_for_display(should_smooth_maze=True) # TODO: pass a display config"
   ]
  },
  {
   "cell_type": "markdown",
   "id": "9b01c8b9-ffc2-4816-9de5-bfedc221699b",
   "metadata": {
    "jp-MarkdownHeadingCollapsed": true,
    "tags": []
   },
   "source": [
    "## Hiro Format:"
   ]
  },
  {
   "cell_type": "code",
   "execution_count": null,
   "id": "3c378a70-2365-49b1-8aa9-7e13a2e9c88c",
   "metadata": {
    "tags": []
   },
   "outputs": [],
   "source": [
    "active_data_mode_name = 'hiro'\n",
    "active_data_mode_registered_class = active_data_session_types_registered_classes_dict[active_data_mode_name]\n",
    "active_data_mode_type_properties = known_data_session_type_properties_dict[active_data_mode_name]\n",
    "## For data located at:\n",
    "# W:\\Data\\Rotation_3_Kamran Diba Lab\\DataProcessingProject\\Hiro_Datasets\n",
    "\n",
    "## Data must be pre-processed using the MATLAB script located here: \n",
    "#     ./neuropy/data_session_pre_processing_scripts/HIRO/PhoDibaProcess_ComputeSingleExperiment.m\n",
    "## ALT: alternatively, the original files are located here:\n",
    "#     C:\\Users\\pho\\repos\\PhoDibaLab_REM_HiddenMarkovModel\\PhoDibaProcess_ComputeSingleExperiment.m\n",
    "#     C:\\Users\\pho\\repos\\PhoDibaLab_REM_HiddenMarkovModel\\DEVELOPMENT\\NeuroPyExporting2022\\PhoNeuroPyConvert_ExportAllToPython_MAIN.m\n",
    "\n",
    "# From pre-computed .mat files:\n",
    "## RoyMaze1: \n",
    "# basedir = r'R:\\rMBP Python Repos 2022-07-07\\PhoNeuronGillespie2021CodeRepo\\PhoMatlabDataScripting\\ExportedData\\RoyMaze1' # WINDOWS\n",
    "basedir = r'R:\\data\\Hiro\\RoyMaze1' # WINDOWS\n",
    "\n",
    "## RoyMaze2:\n",
    "# basedir = r'R:\\rMBP Python Repos 2022-07-07\\PhoNeuronGillespie2021CodeRepo\\PhoMatlabDataScripting\\ExportedData\\RoyMaze2' # WINDOWS\n",
    "# basedir = r'R:\\data\\Hiro\\RoyMaze2' # WINDOWS\n",
    "curr_active_pipeline = NeuropyPipeline.try_init_from_saved_pickle_or_reload_if_needed(active_data_mode_name, active_data_mode_type_properties, override_basepath=Path(basedir))"
   ]
  },
  {
   "cell_type": "code",
   "execution_count": null,
   "id": "0dd874b6-7cca-41bf-ab10-ef2210498349",
   "metadata": {
    "scrolled": true
   },
   "outputs": [],
   "source": [
    "curr_active_pipeline.sess.position"
   ]
  },
  {
   "cell_type": "code",
   "execution_count": null,
   "id": "65ba19dc-9431-44d5-9ef0-34c96738daf9",
   "metadata": {
    "scrolled": true
   },
   "outputs": [],
   "source": [
    "pos_df = curr_active_pipeline.sess.position.to_dataframe()\n",
    "pos_df.min()"
   ]
  },
  {
   "cell_type": "code",
   "execution_count": null,
   "id": "ba817d79-5116-4b70-b511-dc569f377b38",
   "metadata": {
    "scrolled": true
   },
   "outputs": [],
   "source": [
    "pos_df.max()"
   ]
  },
  {
   "cell_type": "code",
   "execution_count": null,
   "id": "01e4caa1-e714-4b39-82f5-a481277e7839",
   "metadata": {
    "scrolled": true
   },
   "outputs": [],
   "source": [
    "curr_active_pipeline.sess.neurons"
   ]
  },
  {
   "cell_type": "code",
   "execution_count": null,
   "id": "acd10780-e484-4797-a419-4f89a8ce8439",
   "metadata": {
    "scrolled": true
   },
   "outputs": [],
   "source": [
    "from pyphocorehelpers.indexing_helpers import get_dict_subset\n",
    "\n",
    "def add_explicit_columns(_test_spikes_df, _test_neurons_properties_df, join_column_name='aclu'):\n",
    "    \"\"\" Uses a value (specified by `join_column_name`) in each row of `_test_spikes_df` to lookup the appropriate values in `_test_neurons_properties_df` to be explicitly added as columns to `_test_spikes_df`\n",
    "    _test_spikes_df: a dataframe. Each row has a join_column_name value (e.g. 'aclu')\n",
    "    \n",
    "    _test_neurons_properties_df: a dataframe with one row for each `join_column_name` value (e.g. one row for each 'aclu', describing various properties of that neuron)\n",
    "    \n",
    "    \"\"\"\n",
    "    ## only find the columns in _test_neurons_properties_df that are NOT in _test_spikes_df. e.g. ['qclu', 'cluster']\n",
    "    missing_spikes_df_columns = list(_test_neurons_properties_df.columns[np.logical_not(np.isin(_test_neurons_properties_df.columns, _test_spikes_df.columns))]) \n",
    "    missing_spikes_df_columns.insert(0, join_column_name) # Insert 'aclu' into the list so we can join on it\n",
    "    subset_neurons_properties_df = _test_neurons_properties_df[missing_spikes_df_columns] # get the subset dataframe with only the requested columns\n",
    "    ## Merge the result:\n",
    "    # _test_spikes_df = pd.merge(subset_neurons_properties_df, _test_spikes_df, on=join_column_name, how='outer', suffixes=('_neurons_properties', '_spikes_df'))\n",
    "    return pd.merge(_test_spikes_df, subset_neurons_properties_df, on=join_column_name, how='left', suffixes=('_neurons_properties', '_spikes_df'), copy=False) # avoids copying if possible\n",
    "\n",
    "curr_active_pipeline.sess.flattened_spiketrains._spikes_df = add_explicit_columns(curr_active_pipeline.sess.spikes_df, curr_active_pipeline.sess.neurons._extended_neuron_properties_df)\n",
    "curr_active_pipeline.sess.spikes_df.sort_values(by=['t_seconds'], inplace=True) # Need to re-sort by timestamps once done\n",
    "curr_active_pipeline.sess.spikes_df"
   ]
  },
  {
   "cell_type": "code",
   "execution_count": null,
   "id": "935e7321-8027-4d82-befc-553b6ce1b1d8",
   "metadata": {
    "scrolled": true
   },
   "outputs": [],
   "source": [
    "_test_spikes_df = deepcopy(curr_active_pipeline.sess.spikes_df)\n",
    "\n",
    "_test_neurons_obj = curr_active_pipeline.sess.neurons\n",
    "_test_neurons_obj._extended_neuron_properties_df\n",
    "\n",
    "# extant_spikes_df_column_names: ['shank', 'cluster', 'aclu', 'qclu','cell_type','fragile_linear_neuron_IDX']\n",
    "\n",
    "# _test_neurons_properties_df = pd.DataFrame(get_dict_subset(_test_neurons_obj_as_dict, ['neuron_ids', 'neuron_type', 'shank_ids']))\n",
    "_test_neurons_properties_df = deepcopy(_test_neurons_obj._extended_neuron_properties_df)\n",
    "## only find the columns in _test_neurons_properties_df that are NOT in _test_spikes_df. e.g. ['qclu', 'cluster']\n",
    "missing_spikes_df_columns = list(_test_neurons_properties_df.columns[np.logical_not(np.isin(_test_neurons_properties_df.columns, _test_spikes_df.columns))]) \n",
    "missing_spikes_df_columns.insert(0, 'aclu') # Insert 'aclu' into the list so we can join on it\n",
    "_test_neurons_properties_df = _test_neurons_properties_df[missing_spikes_df_columns] # get the subset dataframe with only the requested columns\n",
    "## Merge the result:\n",
    "# _test_spikes_df = pd.merge(_test_neurons_properties_df, _test_spikes_df, on='aclu', how='outer', suffixes=('_neurons_properties', '_spikes_df'))\n",
    "_test_spikes_df = pd.merge(_test_neurons_properties_df, _test_spikes_df, on='aclu', how='right', suffixes=('_neurons_properties', '_spikes_df'))\n",
    "_test_spikes_df.sort_values(by=['t_seconds'], inplace=True)\n",
    "\n",
    "# curr_active_pipeline.sess.spikes_df = _test_spikes_df # ensure the main spikes_df is actually updated in memory:\n",
    "curr_active_pipeline.sess.flattened_spiketrains._spikes_df = _test_spikes_df # ensure the main spikes_df is actually updated in memory:\n",
    "\n",
    "# _test_neurons_properties_df\n",
    "# _test_neurons_properties_df\n",
    "\n",
    "# print(list(_test_neurons_obj_as_dict.keys())) # ['spiketrains', 't_stop', 't_start', 'sampling_rate', 'neuron_ids', 'neuron_type', 'waveforms', 'peak_channels', 'shank_ids', 'metadata']"
   ]
  },
  {
   "cell_type": "code",
   "execution_count": null,
   "id": "f7297ca3-8bc2-4092-ab9e-827121245149",
   "metadata": {
    "scrolled": true
   },
   "outputs": [],
   "source": [
    "# curr_active_pipeline.sess.spikes_df\n",
    "# _test_spikes_df\n",
    "curr_active_pipeline.sess.spikes_df"
   ]
  },
  {
   "cell_type": "code",
   "execution_count": null,
   "id": "f6067139-d7b6-4e0f-9cb4-230ad952132c",
   "metadata": {
    "scrolled": true
   },
   "outputs": [],
   "source": [
    "curr_active_pipeline.sess.epochs._data"
   ]
  },
  {
   "cell_type": "code",
   "execution_count": null,
   "id": "e00bea10-313e-4bfa-a6a3-50d0e3e2b34f",
   "metadata": {
    "scrolled": true
   },
   "outputs": [],
   "source": [
    "curr_active_pipeline.sess.neurons.shank_ids"
   ]
  },
  {
   "cell_type": "code",
   "execution_count": null,
   "id": "9a400cd1-9574-4353-8a11-57c59d447c98",
   "metadata": {
    "scrolled": true
   },
   "outputs": [],
   "source": [
    "curr_active_pipeline.sess.epochs.get_named_timerange('track')\n",
    "\n",
    "# curr_active_pipeline.sess.epochs.starts"
   ]
  },
  {
   "cell_type": "code",
   "execution_count": null,
   "id": "7241f54e-ce3d-4225-865f-43d95ad6d025",
   "metadata": {
    "scrolled": true
   },
   "outputs": [],
   "source": [
    "curr_active_pipeline.sess.epochs['track']"
   ]
  },
  {
   "cell_type": "code",
   "execution_count": null,
   "id": "75ad38bd-e736-4e03-94d3-75f6334882d4",
   "metadata": {
    "scrolled": true
   },
   "outputs": [],
   "source": [
    "# active_session_filter_configurations = active_data_mode_registered_class.build_default_filter_functions(sess=curr_active_pipeline.sess) # build_filters_pyramidal_epochs(sess=curr_kdiba_pipeline.sess)\n",
    "active_session_filter_configurations = active_data_mode_registered_class.build_track_only_filter_functions(sess=curr_active_pipeline.sess)\n",
    "active_session_computation_configs = active_data_mode_registered_class.build_default_computation_configs(sess=curr_active_pipeline.sess)"
   ]
  },
  {
   "cell_type": "code",
   "execution_count": null,
   "id": "02f14b7d-80cb-43de-a1bb-716c6aa5963b",
   "metadata": {
    "scrolled": true
   },
   "outputs": [],
   "source": [
    "curr_active_pipeline.filter_sessions(active_session_filter_configurations)"
   ]
  },
  {
   "cell_type": "code",
   "execution_count": null,
   "id": "658a5623-fc79-4354-8af7-e2454fba6331",
   "metadata": {
    "scrolled": true
   },
   "outputs": [],
   "source": [
    "curr_active_pipeline.filtered_session_names"
   ]
  },
  {
   "cell_type": "code",
   "execution_count": null,
   "id": "4d7484a6-5ce9-4f3a-b420-7717d7995a93",
   "metadata": {
    "scrolled": true
   },
   "outputs": [],
   "source": [
    "curr_active_pipeline.filtered_epochs"
   ]
  },
  {
   "cell_type": "code",
   "execution_count": null,
   "id": "c07fc755-4e01-4656-867c-069281da7045",
   "metadata": {
    "scrolled": true
   },
   "outputs": [],
   "source": [
    "curr_active_pipeline.filtered_sessions['track'].epochs"
   ]
  },
  {
   "cell_type": "code",
   "execution_count": null,
   "id": "05aa4baa-a0bd-4886-aced-edd79960722d",
   "metadata": {
    "scrolled": true
   },
   "outputs": [],
   "source": [
    "np.isin(a_column_names_list, curr_active_pipeline.sess.spikes_df.columns)"
   ]
  },
  {
   "cell_type": "code",
   "execution_count": null,
   "id": "1c4259bb-c5a1-449f-b078-a4194d2fd15c",
   "metadata": {
    "scrolled": true
   },
   "outputs": [],
   "source": [
    "# \"Columns not found: 'cluster', 'shank'\"\n",
    "\n",
    "# curr_active_pipeline.sess.spikes_df.rename(columns={'shank_id':'shank', 'flattened_spike_linear_unit_spike_idx':'flat_spike_idx'}, inplace=True)\n",
    "curr_active_pipeline.sess.spikes_df"
   ]
  },
  {
   "cell_type": "code",
   "execution_count": null,
   "id": "5e1b7461-dad8-4a8c-8268-9f1056a1c6a8",
   "metadata": {
    "scrolled": true
   },
   "outputs": [],
   "source": [
    "def convert_columns_to_datatype_if_possible(df, datatype_str_column_names_list_dict):\n",
    "    \"\"\" \n",
    "    \n",
    "    {'int':['shank', 'cluster', 'aclu', 'qclu', 'traj', 'lap']}\n",
    "    \"\"\"\n",
    "    # spikes_df[['shank', 'cluster', 'aclu', 'qclu', 'traj', 'lap']] = spikes_df[['shank', 'cluster', 'aclu', 'qclu', 'traj', 'lap']].astype('int') # convert integer calumns to correct datatype\n",
    "    for a_datatype_name, a_column_names_list in datatype_str_column_names_list_dict.items():\n",
    "        subset_extant_columns = np.isin(a_column_names_list, df.columns)\n",
    "        # subset_extant_columns = a_column_names_list\n",
    "        df[subset_extant_columns] = df[subset_extant_columns].astype(a_datatype_name) # convert integer calumns to correct datatype\n",
    "    \n",
    "convert_columns_to_datatype_if_possible(curr_active_pipeline.sess.spikes_df, {'int':['shank', 'cluster', 'aclu', 'qclu', 'traj', 'lap']})"
   ]
  },
  {
   "cell_type": "code",
   "execution_count": null,
   "id": "ba5e8c15-b230-4a89-86d8-ffe41e43d1ca",
   "metadata": {
    "scrolled": true
   },
   "outputs": [],
   "source": [
    "curr_active_pipeline.filtered_sessions['track'].spikes_df"
   ]
  },
  {
   "cell_type": "code",
   "execution_count": null,
   "id": "475aa403-be43-4d98-aa8d-faa4b02dc39c",
   "metadata": {
    "scrolled": true
   },
   "outputs": [],
   "source": [
    "active_session_computation_configs[0].pf_params.computation_epochs[0].starts"
   ]
  },
  {
   "cell_type": "code",
   "execution_count": null,
   "id": "25fa159f-12d2-42ef-99f8-2be447ebbf51",
   "metadata": {
    "tags": []
   },
   "outputs": [],
   "source": [
    "curr_active_pipeline.perform_computations(active_session_computation_configs[0], computation_functions_name_blacklist=['_perform_spike_burst_detection_computation', '_perform_velocity_vs_pf_density_computation', '_perform_velocity_vs_pf_simplified_count_density_computation'], fail_on_exception=True)"
   ]
  },
  {
   "cell_type": "code",
   "execution_count": null,
   "id": "071333bc-01b5-4c09-978a-95e046e0e960",
   "metadata": {
    "scrolled": true
   },
   "outputs": [],
   "source": [
    "curr_active_pipeline.prepare_for_display(should_smooth_maze=True) # TODO: pass a display config"
   ]
  },
  {
   "cell_type": "markdown",
   "id": "75cbbfa0",
   "metadata": {
    "tags": []
   },
   "source": [
    "# Common: Display\n",
    "Common visualization and display functions for both forms of data/pipelines:"
   ]
  },
  {
   "cell_type": "code",
   "execution_count": 4,
   "id": "1055d5ea-611c-44a2-a04e-e2bc4a475b3f",
   "metadata": {
    "scene__Default Scene": true,
    "tags": [
     "ActiveScene",
     "main_run"
    ]
   },
   "outputs": [
    {
     "name": "stdout",
     "output_type": "stream",
     "text": [
      "active_computed_data.keys(): ['pf1D', 'pf2D', 'pf1D_dt', 'pf2D_dt', 'pf2D_Decoder', 'pf2D_TwoStepDecoder', 'EloyAnalysis', 'SimplerNeuronMeetingThresholdFiringAnalysis', 'RatemapPeaksAnalysis', 'extended_stats', 'placefield_overlap', 'firing_rate_trends']\n",
      "active_computation_errors: {}\n"
     ]
    }
   ],
   "source": [
    "active_config_name = 'maze1'\n",
    "# active_config_name = 'maze2'\n",
    "# active_config_name = 'maze'\n",
    "# active_config_name = 'track'\n",
    "\n",
    "# Get relevant variables:\n",
    "# curr_active_pipeline is set above, and usable here\n",
    "sess: DataSession = curr_active_pipeline.filtered_sessions[active_config_name]\n",
    "\n",
    "active_computation_results = curr_active_pipeline.computation_results[active_config_name]\n",
    "active_computed_data = curr_active_pipeline.computation_results[active_config_name].computed_data\n",
    "active_computation_config = curr_active_pipeline.computation_results[active_config_name].computation_config\n",
    "active_computation_errors = curr_active_pipeline.computation_results[active_config_name].accumulated_errors\n",
    "print(f'active_computed_data.keys(): {list(active_computed_data.keys())}')\n",
    "print(f'active_computation_errors: {active_computation_errors}')\n",
    "active_pf_1D = curr_active_pipeline.computation_results[active_config_name].computed_data['pf1D']\n",
    "active_pf_2D = curr_active_pipeline.computation_results[active_config_name].computed_data['pf2D']    \n",
    "active_pf_1D_dt = curr_active_pipeline.computation_results[active_config_name].computed_data.get('pf1D_dt', None)\n",
    "active_pf_2D_dt = curr_active_pipeline.computation_results[active_config_name].computed_data.get('pf2D_dt', None)\n",
    "active_firing_rate_trends = curr_active_pipeline.computation_results[active_config_name].computed_data.get('firing_rate_trends', None)\n",
    "active_one_step_decoder = curr_active_pipeline.computation_results[active_config_name].computed_data.get('pf2D_Decoder', None)\n",
    "active_two_step_decoder = curr_active_pipeline.computation_results[active_config_name].computed_data.get('pf2D_TwoStepDecoder', None)\n",
    "active_eloy_analysis = curr_active_pipeline.computation_results[active_config_name].computed_data.get('EloyAnalysis', None)\n",
    "active_simpler_pf_densities_analysis = curr_active_pipeline.computation_results[active_config_name].computed_data.get('SimplerNeuronMeetingThresholdFiringAnalysis', None)\n",
    "active_ratemap_peaks_analysis = curr_active_pipeline.computation_results[active_config_name].computed_data.get('RatemapPeaksAnalysis', None)\n",
    "active_peak_prominence_2d_results = curr_active_pipeline.computation_results[active_config_name].computed_data.get('RatemapPeaksAnalysis', {}).get('PeakProminence2D', None)\n",
    "active_measured_positions = curr_active_pipeline.computation_results[active_config_name].sess.position.to_dataframe()\n",
    "curr_spikes_df = sess.spikes_df\n",
    "\n",
    "curr_active_config = curr_active_pipeline.active_configs[active_config_name]\n",
    "curr_active_display_config = curr_active_config.plotting_config\n",
    "\n",
    "display_output = dict()"
   ]
  },
  {
   "cell_type": "code",
   "execution_count": null,
   "id": "946aba66-7b1f-4e4e-ba8a-f5dde1262009",
   "metadata": {
    "scene__Default Scene": true,
    "tags": [
     "ActiveScene"
    ]
   },
   "outputs": [],
   "source": [
    "list(active_computation_errors.values())[0]"
   ]
  },
  {
   "cell_type": "code",
   "execution_count": null,
   "id": "17e80419-8f0e-4ddf-825b-d138f99553bb",
   "metadata": {
    "scene__Default Scene": true,
    "tags": [
     "ActiveScene"
    ]
   },
   "outputs": [],
   "source": [
    "err_fn = list(active_computation_errors.keys())[0]\n",
    "err_fn"
   ]
  },
  {
   "cell_type": "code",
   "execution_count": null,
   "id": "4fed20a1-e29a-4bd7-b780-482d10d72928",
   "metadata": {
    "scene__Default Scene": true,
    "tags": [
     "ActiveScene"
    ]
   },
   "outputs": [],
   "source": [
    "err_fn.__name__ # '_perform_pf_find_ratemap_peaks_peak_prominence2d_computation'"
   ]
  },
  {
   "cell_type": "markdown",
   "id": "47694715-4894-42e2-8731-d146748c1d05",
   "metadata": {
    "scene__Default Scene": true,
    "tags": [
     "ActiveScene"
    ]
   },
   "source": [
    "# Main Visualization GUIs"
   ]
  },
  {
   "cell_type": "markdown",
   "id": "c664c89c-1e98-4184-bac1-ed93301be0b4",
   "metadata": {
    "jp-MarkdownHeadingCollapsed": true,
    "pycharm": {
     "is_executing": false,
     "name": "#%%\n"
    },
    "tags": []
   },
   "source": [
    "## 3D Interactive Spike Raster Window"
   ]
  },
  {
   "cell_type": "code",
   "execution_count": null,
   "id": "633d7e18-332a-4e3d-90cd-f252e5120a26",
   "metadata": {
    "pycharm": {
     "is_executing": false,
     "name": "#%%\n"
    },
    "scene__Default Scene": true,
    "tags": [
     "ActiveScene",
     "gui",
     "launch",
     "main_run"
    ]
   },
   "outputs": [],
   "source": [
    "from pyphoplacecellanalysis.GUI.Qt.SpikeRasterWindows.Spike3DRasterWindowWidget import Spike3DRasterWindowWidget\n",
    "\n",
    "display_output = display_output | curr_active_pipeline.display('_display_spike_rasters_window', active_config_name, active_config_name=active_config_name)\n",
    "spike_raster_window = display_output['spike_raster_window']"
   ]
  },
  {
   "cell_type": "code",
   "execution_count": null,
   "id": "961fc78f-825c-45f8-85cd-40265476b514",
   "metadata": {
    "pycharm": {
     "is_executing": false,
     "name": "#%%\n"
    }
   },
   "outputs": [],
   "source": [
    "spike_raster_window = Spike3DRasterWindowWidget(curr_spikes_df, application_name=f'Spike Raster Window - {active_config_name}')\n",
    "# Set Window Title Options:\n",
    "spike_raster_window.setWindowFilePath(str(sess.filePrefix.resolve()))\n",
    "spike_raster_window.setWindowTitle(f'Spike Raster Window - {active_config_name} - {str(sess.filePrefix.resolve())}')"
   ]
  },
  {
   "cell_type": "code",
   "execution_count": null,
   "id": "940dbb3c-04ed-4eca-bfea-17ce341bb6c5",
   "metadata": {
    "pycharm": {
     "is_executing": false,
     "name": "#%%\n"
    }
   },
   "outputs": [],
   "source": [
    "from pyphoplacecellanalysis.Pho3D.Mixins.Test import Test"
   ]
  },
  {
   "cell_type": "code",
   "execution_count": null,
   "id": "3d80d4b4-245f-4846-9f90-09406f6de827",
   "metadata": {
    "pycharm": {
     "is_executing": false,
     "name": "#%%\n"
    }
   },
   "outputs": [],
   "source": [
    "## Set the colors of the raster window from the tuning curve window:\n",
    "spike_raster_window.update_neurons_color_data(updated_neuron_render_configs=provided_neuron_id_to_color_map)"
   ]
  },
  {
   "cell_type": "code",
   "execution_count": null,
   "id": "0171a604-4f5a-4a22-b227-3915fee3c759",
   "metadata": {
    "pycharm": {
     "is_executing": false,
     "name": "#%%\n"
    }
   },
   "outputs": [],
   "source": [
    "# Setup Connections Menu:\n",
    "root_window, menuConnections, actions_dict = ConnectionControlsMenuMixin.try_add_connections_menu(spike_raster_window) # none of these properties need to be "
   ]
  },
  {
   "cell_type": "markdown",
   "id": "01c287e4-bb8b-4626-8942-603ab3f63c86",
   "metadata": {
    "jp-MarkdownHeadingCollapsed": true,
    "pycharm": {
     "is_executing": false,
     "name": "#%%\n"
    },
    "tags": []
   },
   "source": [
    "### Test building a second spike_raster_window for a different epoch:"
   ]
  },
  {
   "cell_type": "code",
   "execution_count": null,
   "id": "8110cf85-ca28-41b1-990e-a0041e52fcf8",
   "metadata": {
    "pycharm": {
     "is_executing": false,
     "name": "#%%\n"
    }
   },
   "outputs": [],
   "source": [
    "secondary_active_config_name = 'maze2'\n",
    "secondary_spikes_df = curr_active_pipeline.filtered_sessions[secondary_active_config_name].spikes_df\n",
    "spike_raster_window_second_epoch = Spike3DRasterWindowWidget(secondary_spikes_df, application_name=f'Spike Raster Window - {secondary_active_config_name}', type_of_3d_plotter='vedo')\n",
    "# Set Window Title Options:\n",
    "spike_raster_window_second_epoch.setWindowFilePath(str(sess.filePrefix.resolve()))\n",
    "spike_raster_window_second_epoch.setWindowTitle(f'Spike Raster Window - {secondary_active_config_name} - {str(sess.filePrefix.resolve())}')\n",
    "spike_raster_window_second_epoch"
   ]
  },
  {
   "cell_type": "code",
   "execution_count": null,
   "id": "bf55174f-5b7c-473b-934d-cdbce2f55782",
   "metadata": {
    "pycharm": {
     "is_executing": false,
     "name": "#%%\n"
    }
   },
   "outputs": [],
   "source": [
    "spike_raster_window.spikes_df # has scISI column!\n"
   ]
  },
  {
   "cell_type": "code",
   "execution_count": null,
   "id": "57313baa-25c0-4079-a87b-a3ee5ddfc8fe",
   "metadata": {
    "pycharm": {
     "is_executing": false,
     "name": "#%%\n"
    }
   },
   "outputs": [],
   "source": [
    "spike_raster_window.connection_man"
   ]
  },
  {
   "cell_type": "code",
   "execution_count": null,
   "id": "b7852860-7ee4-42aa-8666-dec67d5c6e08",
   "metadata": {
    "pycharm": {
     "is_executing": false,
     "name": "#%%\n"
    }
   },
   "outputs": [],
   "source": [
    "spike_raster_window.connection_man.active_connections"
   ]
  },
  {
   "cell_type": "code",
   "execution_count": null,
   "id": "471b8f08-3c3b-49cc-9d49-291abe408beb",
   "metadata": {
    "pycharm": {
     "is_executing": false,
     "name": "#%%\n"
    }
   },
   "outputs": [],
   "source": [
    "spike_raster_window.connection_man.get_available_drivers()"
   ]
  },
  {
   "cell_type": "markdown",
   "id": "a3ce34d1-7b04-40f3-96a2-408676eb967f",
   "metadata": {
    "jp-MarkdownHeadingCollapsed": true,
    "pycharm": {
     "is_executing": false,
     "name": "#%%\n"
    },
    "tags": []
   },
   "source": [
    "### 2D Raster Plot Interactivity Testing/Extras"
   ]
  },
  {
   "cell_type": "code",
   "execution_count": null,
   "id": "553ff9bc-533b-47eb-9257-9b4eebc10dc5",
   "metadata": {
    "pycharm": {
     "is_executing": false,
     "name": "#%%\n"
    }
   },
   "outputs": [],
   "source": [
    "# spike_raster_window.render_window_duration\n",
    "# spike_raster_window.spikes_window.active_window_end_time\n",
    "spike_raster_window.spikes_window.window_duration"
   ]
  },
  {
   "cell_type": "code",
   "execution_count": null,
   "id": "b3e1d674-569b-445e-90f7-eac577c20fd0",
   "metadata": {
    "pycharm": {
     "is_executing": false,
     "name": "#%%\n"
    }
   },
   "outputs": [],
   "source": [
    "### Debug printing for color properties of spike_raster_window\n",
    "_debug_params = spike_raster_window.spike_raster_plt_2d.params\n",
    "# _debug_params.neuron_colors\n",
    "# _debug_params.config_items\n",
    "# spike_raster_window.params"
   ]
  },
  {
   "cell_type": "code",
   "execution_count": null,
   "id": "93222276-7cd0-480e-a353-5cdf6fb0557c",
   "metadata": {
    "pycharm": {
     "is_executing": false,
     "name": "#%%\n"
    }
   },
   "outputs": [],
   "source": [
    "# Wanted to try to set setClickable(True) on the children widgets\n",
    "\n",
    "# spike_raster_window.spike_raster_plt_2d.plots # {'name': '', 'preview_overview_scatter_plot': <pyphoplacecellanalysis.External.pyqtgraph.graphicsItems.ScatterPlotItem.ScatterPlotItem object at 0x0000020AA96D9E50>}\n",
    "# spike_raster_window.spike_raster_plt_2d.plots.main_plot_widget # <pyphoplacecellanalysis.External.pyqtgraph.graphicsItems.PlotItem.PlotItem.PlotItem at 0x20aecdf0ee0>\n",
    "# spike_raster_window.spike_raster_plt_2d.plots.main_plot_widget.curves # [<pyphoplacecellanalysis.External.pyqtgraph.graphicsItems.ScatterPlotItem.ScatterPlotItem at 0x20aa92a5820>]\n",
    "\n",
    "# Static Background Overview Scatter Plot:\n",
    "active_overview_scatter_plot = spike_raster_window.spike_raster_plt_2d.plots.preview_overview_scatter_plot # ScatterPlotItem \n",
    "# active_overview_scatter_plot.addPoints(hoverable=True)\n",
    "\n",
    "## Main Scatter Plot \n",
    "main_scatter_plot = spike_raster_window.spike_raster_plt_2d.plots.main_plot_widget.curves[0] # ScatterPlotItem \n",
    "# main_scatter_plot.setAcceptHoverEvents(True)\n",
    "\n",
    "# Common Tick Label\n",
    "vtick = QtGui.QPainterPath()\n",
    "vtick.moveTo(0, -0.5)\n",
    "vtick.lineTo(0, 0.5)\n",
    "\n",
    "# # Highlights the hovered spikes white:\n",
    "# main_scatter_plot.addPoints(hoverable=True,\n",
    "#     hoverSymbol=vtick, # hoverSymbol='s',\n",
    "#     hoverSize=7, # default is 5\n",
    "#     hoverPen=pg.mkPen('w', width=2),\n",
    "#     hoverBrush=pg.mkBrush('w'))\n",
    "\n",
    "# Highlights the hovered spikes white:\n",
    "main_scatter_plot.addPoints(hoverable=True,\n",
    "    # hoverSymbol=vtick, # hoverSymbol='s',\n",
    "    hoverSize=7, # default is 5\n",
    "    )\n",
    "\n",
    "\n",
    "## Clickable/Selectable Spikes:\n",
    "# Will make all plots clickable\n",
    "clickedPen = pg.mkPen('#DDD', width=2)\n",
    "lastClicked = []\n",
    "def _test_scatter_plot_clicked(plot, points):\n",
    "    global lastClicked\n",
    "    for p in lastClicked:\n",
    "        p.resetPen()\n",
    "    print(\"clicked points\", points)\n",
    "    for p in points:\n",
    "        p.setPen(clickedPen)\n",
    "    lastClicked = points\n",
    "        \n",
    "## Hoverable Spikes:\n",
    "def _test_scatter_plot_hovered(plt, points, ev):\n",
    "    # sigHovered(self, points, ev)\n",
    "    print(f'_test_scatter_plot_hovered(plt: {plt}, points: {points}, ev: {ev})')\n",
    "    if (len(points) > 0):\n",
    "        curr_point = points[0]\n",
    "        # self.\n",
    "        # curr_point.index\n",
    "\n",
    "main_scatter_hovered_connection = main_scatter_plot.sigHovered.connect(_test_scatter_plot_hovered)\n",
    "main_scatter_clicked_connection = main_scatter_plot.sigClicked.connect(_test_scatter_plot_clicked)\n",
    "\n",
    "# tip\n",
    "# .sigHovered \n",
    "# TypeError: 'VisualizationParameters' object is not subscriptable"
   ]
  },
  {
   "cell_type": "code",
   "execution_count": null,
   "id": "17dba03e-6715-4152-a3ca-45320e551d7a",
   "metadata": {
    "pycharm": {
     "is_executing": false,
     "name": "#%%\n"
    }
   },
   "outputs": [],
   "source": [
    "## Test Adding ROIs of interest to the 2D Raster Plot:\n",
    "rois = []\n",
    "rois.append(pg.MultiRectROI([[20, 90], [50, 60], [60, 90]], width=5, pen=(2,9)))\n",
    "\n",
    "def update(roi):\n",
    "    img1b.setImage(roi.getArrayRegion(arr, img1a), levels=(0, arr.max()))\n",
    "    v1b.autoRange()\n",
    "    \n",
    "for roi in rois:\n",
    "    roi.sigRegionChanged.connect(update)\n",
    "    v1a.addItem(roi)"
   ]
  },
  {
   "cell_type": "code",
   "execution_count": null,
   "id": "27412504-b512-4896-b955-a9d910a8752b",
   "metadata": {
    "pycharm": {
     "is_executing": false,
     "name": "#%%\n"
    }
   },
   "outputs": [],
   "source": [
    "curve.curve.setClickable(True)"
   ]
  },
  {
   "cell_type": "markdown",
   "id": "54772efe-ce98-40b6-9153-8ce533cdb0a8",
   "metadata": {
    "pycharm": {
     "is_executing": false,
     "name": "#%%\n"
    },
    "tags": []
   },
   "source": [
    "## ipcDataExplorer - 3D Interactive Tuning Curves Plotter"
   ]
  },
  {
   "cell_type": "code",
   "execution_count": null,
   "id": "bd6b4aa0-49aa-4835-bb93-8757b26b6d86",
   "metadata": {
    "pycharm": {
     "is_executing": false,
     "name": "#%%\n"
    },
    "tags": []
   },
   "outputs": [],
   "source": [
    "pActiveTuningCurvesPlotter = None\n",
    "display_output = display_output | curr_active_pipeline.display('_display_3d_interactive_tuning_curves_plotter', active_config_name, extant_plotter=display_output.get('pActiveTuningCurvesPlotter', None), panel_controls_mode='Qt', should_nan_non_visited_elements=False, zScalingFactor=2000.0, separate_window=False) # Works now!\n",
    "ipcDataExplorer = display_output['ipcDataExplorer']\n",
    "display_output['pActiveTuningCurvesPlotter'] = display_output.pop('plotter') # rename the key from the generic \"plotter\" to \"pActiveSpikesBehaviorPlotter\" to avoid collisions with others\n",
    "pActiveTuningCurvesPlotter = display_output['pActiveTuningCurvesPlotter']\n",
    "root_dockAreaWindow, placefieldControlsContainerWidget, pf_widgets = display_output['pane'] # for Qt mode:"
   ]
  },
  {
   "cell_type": "markdown",
   "id": "5d03258f-0f26-4b45-9c90-17767d1c2b8e",
   "metadata": {
    "jp-MarkdownHeadingCollapsed": true,
    "pycharm": {
     "is_executing": false,
     "name": "#%%\n"
    },
    "tags": []
   },
   "source": [
    "### Setup Extra Buttons"
   ]
  },
  {
   "cell_type": "code",
   "execution_count": null,
   "id": "60dc5178-7972-4974-8ec4-9034c5100a94",
   "metadata": {},
   "outputs": [],
   "source": [
    "ipcDataExplorer.occupancy_plotting_config.barOpacity = 0.25"
   ]
  },
  {
   "cell_type": "code",
   "execution_count": null,
   "id": "4f24e744-f8d6-4b86-8ed9-e640fd6b6552",
   "metadata": {},
   "outputs": [],
   "source": [
    "placefieldControlsContainerWidget.ui.end_button_helper_connections"
   ]
  },
  {
   "cell_type": "code",
   "execution_count": null,
   "id": "82e97563-caee-44ca-9e0d-29dbab4aa111",
   "metadata": {},
   "outputs": [],
   "source": [
    "ipcDataExplorer.plots"
   ]
  },
  {
   "cell_type": "markdown",
   "id": "29e3fc2b-7184-474d-8831-a086357110e4",
   "metadata": {},
   "source": [
    "### Prototype updating the displayed placefield values with those generated from a time-dependent pf_2D_dt"
   ]
  },
  {
   "cell_type": "code",
   "execution_count": 5,
   "id": "c5253ac7-c4b0-4451-93b3-315c1d009a91",
   "metadata": {},
   "outputs": [],
   "source": [
    "active_pf_2D_dt.reset()\n",
    "active_pf_2D_dt.update(t=200.0)"
   ]
  },
  {
   "cell_type": "code",
   "execution_count": 7,
   "id": "2892adea-776a-4977-9744-31a0416a012b",
   "metadata": {},
   "outputs": [
    {
     "data": {
      "text/plain": [
       "array([ 2,  3,  4,  5,  7,  8,  9, 10, 11, 12, 14, 17, 18, 21, 22, 23, 24, 25, 26, 27, 28, 29, 33, 34, 38, 39, 42, 44, 45, 46, 47, 48, 53, 55, 57, 58, 61, 62, 63, 64])"
      ]
     },
     "execution_count": 7,
     "metadata": {},
     "output_type": "execute_result"
    }
   ],
   "source": [
    "active_pf_2D_dt.ratemap.neuron_ids"
   ]
  },
  {
   "cell_type": "code",
   "execution_count": null,
   "id": "7275a411-b27d-409f-a831-1a920c132326",
   "metadata": {},
   "outputs": [],
   "source": [
    "%pdb on\n",
    "pActiveTuningCurvesPlotter_dup = None\n",
    "display_output = display_output | curr_active_pipeline.display('_display_3d_interactive_tuning_curves_plotter', active_config_name, override_pf2D=active_pf_2D_dt , extant_plotter=display_output.get('pActiveTuningCurvesPlotter_dup', None),\n",
    "                                                               panel_controls_mode='Qt', should_nan_non_visited_elements=False, zScalingFactor=2000.0) # Works now!\n",
    "ipcDataExplorer_dup = display_output['ipcDataExplorer']\n",
    "display_output['pActiveTuningCurvesPlotter_dup'] = display_output.pop('plotter') # rename the key from the generic \"plotter\" to \"pActiveSpikesBehaviorPlotter\" to avoid collisions with others\n",
    "pActiveTuningCurvesPlotter_dup = display_output['pActiveTuningCurvesPlotter_dup']\n",
    "root_dockAreaWindow_dup, placefieldControlsContainerWidget_dup, pf_widgets_dup = display_output['pane'] # for Qt mode:"
   ]
  },
  {
   "cell_type": "code",
   "execution_count": 9,
   "id": "a862a0e1-be53-4c5a-af97-7e8ef0eedbd3",
   "metadata": {},
   "outputs": [
    {
     "name": "stdout",
     "output_type": "stream",
     "text": [
      "Automatic pdb calling has been turned ON\n",
      "to_dict(...): ['config', 'position_srate', 'ndim', '_included_thresh_neurons_indx', '_peak_frate_filter_function', '_filtered_pos_df', '_filtered_spikes_df', 'xbin', 'ybin', 'bin_info', 'last_t', 'fragile_linear_neuron_IDXs', 'n_fragile_linear_neuron_IDXs', 'curr_spikes_maps_matrix', 'curr_smoothed_spikes_maps_matrix', 'curr_num_pos_samples_occupancy_map', 'curr_num_pos_samples_smoothed_occupancy_map', 'curr_seconds_occupancy', 'curr_normalized_occupancy', 'curr_occupancy_weighted_tuning_maps_matrix', 'historical_snapshots']\n"
     ]
    },
    {
     "ename": "AttributeError",
     "evalue": "'InteractivePlaceCellTuningCurvesDataExplorer' object has no attribute 'tuning_curves_valid_neuron_ids'",
     "output_type": "error",
     "traceback": [
      "\u001b[1;31m---------------------------------------------------------------------------\u001b[0m",
      "\u001b[1;31mAttributeError\u001b[0m                            Traceback (most recent call last)",
      "Input \u001b[1;32mIn [10]\u001b[0m, in \u001b[0;36m<cell line: 18>\u001b[1;34m()\u001b[0m\n\u001b[0;32m     16\u001b[0m \u001b[38;5;28;01mfrom\u001b[39;00m \u001b[38;5;21;01mpyphoplacecellanalysis\u001b[39;00m\u001b[38;5;21;01m.\u001b[39;00m\u001b[38;5;21;01mGUI\u001b[39;00m\u001b[38;5;21;01m.\u001b[39;00m\u001b[38;5;21;01mQt\u001b[39;00m\u001b[38;5;21;01m.\u001b[39;00m\u001b[38;5;21;01mPlacefieldVisualSelectionControls\u001b[39;00m\u001b[38;5;21;01m.\u001b[39;00m\u001b[38;5;21;01mqt_placefield\u001b[39;00m \u001b[38;5;28;01mimport\u001b[39;00m build_all_placefield_output_panels\n\u001b[0;32m     17\u001b[0m \u001b[38;5;66;03m# ipcDataExplorer_dup = InteractivePlaceCellTuningCurvesDataExplorer(curr_active_config, sess, active_computed_data['pf2D'], curr_active_config.plotting_config.pf_colors, **({'extant_plotter':None}))\u001b[39;00m\n\u001b[1;32m---> 18\u001b[0m ipcDataExplorer_dup \u001b[38;5;241m=\u001b[39m InteractivePlaceCellTuningCurvesDataExplorer(curr_active_config, sess, active_computed_data[\u001b[38;5;124m'\u001b[39m\u001b[38;5;124mpf2D_dt\u001b[39m\u001b[38;5;124m'\u001b[39m], curr_active_config\u001b[38;5;241m.\u001b[39mplotting_config\u001b[38;5;241m.\u001b[39mpf_colors, \u001b[38;5;241m*\u001b[39m\u001b[38;5;241m*\u001b[39m({\u001b[38;5;124m'\u001b[39m\u001b[38;5;124mextant_plotter\u001b[39m\u001b[38;5;124m'\u001b[39m:\u001b[38;5;28;01mNone\u001b[39;00m}))\n\u001b[0;32m     20\u001b[0m \u001b[38;5;66;03m# ipcDataExplorer_dup = InteractivePlaceCellTuningCurvesDataExplorer(curr_active_config, sess, active_pf_2D_dt, curr_active_config.plotting_config.pf_colors, **({'extant_plotter':None}))\u001b[39;00m\n\u001b[0;32m     21\u001b[0m pActiveTuningCurvesPlotter_dup \u001b[38;5;241m=\u001b[39m ipcDataExplorer_dup\u001b[38;5;241m.\u001b[39mplot(pActiveTuningCurvesPlotter_dup) \u001b[38;5;66;03m# [2, 17449]\u001b[39;00m\n",
      "File \u001b[1;32mc:\\users\\pho\\repos\\pyphoplacecellanalysis\\src\\pyphoplacecellanalysis\\GUI\\PyVista\\InteractivePlotter\\InteractivePlaceCellTuningCurvesDataExplorer.py:75\u001b[0m, in \u001b[0;36mInteractivePlaceCellTuningCurvesDataExplorer.__init__\u001b[1;34m(self, active_config, active_session, active_epoch_placefields, pf_colors, extant_plotter, **kwargs)\u001b[0m\n\u001b[0;32m     71\u001b[0m     \u001b[38;5;28mself\u001b[39m\u001b[38;5;241m.\u001b[39mparams\u001b[38;5;241m.\u001b[39mzScalingFactor \u001b[38;5;241m=\u001b[39m kwargs[\u001b[38;5;124m'\u001b[39m\u001b[38;5;124mzScalingFactor\u001b[39m\u001b[38;5;124m'\u001b[39m]\n\u001b[0;32m     73\u001b[0m \u001b[38;5;28mself\u001b[39m\u001b[38;5;241m.\u001b[39muse_fragile_linear_neuron_IDX_as_cell_id \u001b[38;5;241m=\u001b[39m \u001b[38;5;28;01mFalse\u001b[39;00m \u001b[38;5;66;03m# if False, uses the normal 'aclu' value as the cell id (which I think is correct)\u001b[39;00m\n\u001b[1;32m---> 75\u001b[0m \u001b[38;5;28;43mself\u001b[39;49m\u001b[38;5;241;43m.\u001b[39;49m\u001b[43m_setup\u001b[49m\u001b[43m(\u001b[49m\u001b[43m)\u001b[49m\n",
      "File \u001b[1;32mc:\\users\\pho\\repos\\pyphoplacecellanalysis\\src\\pyphoplacecellanalysis\\GUI\\PyVista\\InteractivePlotter\\InteractiveDataExplorerBase.py:97\u001b[0m, in \u001b[0;36mInteractiveDataExplorerBase._setup\u001b[1;34m(self)\u001b[0m\n\u001b[0;32m     96\u001b[0m \u001b[38;5;28;01mdef\u001b[39;00m \u001b[38;5;21m_setup\u001b[39m(\u001b[38;5;28mself\u001b[39m):\n\u001b[1;32m---> 97\u001b[0m     \u001b[38;5;28;43mself\u001b[39;49m\u001b[38;5;241;43m.\u001b[39;49m\u001b[43m_setup_variables\u001b[49m\u001b[43m(\u001b[49m\u001b[43m)\u001b[49m\n\u001b[0;32m     98\u001b[0m     \u001b[38;5;28mself\u001b[39m\u001b[38;5;241m.\u001b[39m_setup_visualization()\n\u001b[0;32m     99\u001b[0m     \u001b[38;5;28mself\u001b[39m\u001b[38;5;241m.\u001b[39m_setup_pyvista_theme()\n",
      "File \u001b[1;32mc:\\users\\pho\\repos\\pyphoplacecellanalysis\\src\\pyphoplacecellanalysis\\GUI\\PyVista\\InteractivePlotter\\InteractivePlaceCellTuningCurvesDataExplorer.py:106\u001b[0m, in \u001b[0;36mInteractivePlaceCellTuningCurvesDataExplorer._setup_variables\u001b[1;34m(self)\u001b[0m\n\u001b[0;32m    101\u001b[0m num_cells, spike_list, \u001b[38;5;28mself\u001b[39m\u001b[38;5;241m.\u001b[39mparams\u001b[38;5;241m.\u001b[39mcell_ids, \u001b[38;5;28mself\u001b[39m\u001b[38;5;241m.\u001b[39mparams\u001b[38;5;241m.\u001b[39mflattened_spike_identities, \u001b[38;5;28mself\u001b[39m\u001b[38;5;241m.\u001b[39mparams\u001b[38;5;241m.\u001b[39mflattened_spike_times, flattened_sort_indicies, t_start, \u001b[38;5;28mself\u001b[39m\u001b[38;5;241m.\u001b[39mparams\u001b[38;5;241m.\u001b[39mreverse_cellID_idx_lookup_map, t, x, y, linear_pos, speeds, \u001b[38;5;28mself\u001b[39m\u001b[38;5;241m.\u001b[39mparams\u001b[38;5;241m.\u001b[39mflattened_spike_positions_list \u001b[38;5;241m=\u001b[39m InteractiveDataExplorerBase\u001b[38;5;241m.\u001b[39m_unpack_variables(\u001b[38;5;28mself\u001b[39m\u001b[38;5;241m.\u001b[39mactive_session)\n\u001b[0;32m    103\u001b[0m \u001b[38;5;66;03m## IMPORTANT: the placefields' may have less cells than those set in self.params.cell_ids, which comes from the neurons of the active_session\u001b[39;00m\n\u001b[0;32m    104\u001b[0m \n\u001b[0;32m    105\u001b[0m \u001b[38;5;66;03m# the valid cell_ids from the ratemap/tuning curves\u001b[39;00m\n\u001b[1;32m--> 106\u001b[0m valid_cell_ids \u001b[38;5;241m=\u001b[39m \u001b[38;5;28;43mself\u001b[39;49m\u001b[38;5;241;43m.\u001b[39;49m\u001b[43mtuning_curves_valid_neuron_ids\u001b[49m\u001b[38;5;241m.\u001b[39mcopy()\n\u001b[0;32m    108\u001b[0m differing_elements_ids \u001b[38;5;241m=\u001b[39m np\u001b[38;5;241m.\u001b[39msetdiff1d(\u001b[38;5;28mself\u001b[39m\u001b[38;5;241m.\u001b[39mparams\u001b[38;5;241m.\u001b[39mcell_ids, valid_cell_ids)\n\u001b[0;32m    109\u001b[0m num_differing_ids \u001b[38;5;241m=\u001b[39m \u001b[38;5;28mlen\u001b[39m(differing_elements_ids)\n",
      "\u001b[1;31mAttributeError\u001b[0m: 'InteractivePlaceCellTuningCurvesDataExplorer' object has no attribute 'tuning_curves_valid_neuron_ids'"
     ]
    },
    {
     "name": "stdout",
     "output_type": "stream",
     "text": [
      "> \u001b[1;32mc:\\users\\pho\\repos\\pyphoplacecellanalysis\\src\\pyphoplacecellanalysis\\gui\\pyvista\\interactiveplotter\\interactiveplacecelltuningcurvesdataexplorer.py\u001b[0m(106)\u001b[0;36m_setup_variables\u001b[1;34m()\u001b[0m\n",
      "\u001b[1;32m    104 \u001b[1;33m\u001b[1;33m\u001b[0m\u001b[0m\n",
      "\u001b[0m\u001b[1;32m    105 \u001b[1;33m        \u001b[1;31m# the valid cell_ids from the ratemap/tuning curves\u001b[0m\u001b[1;33m\u001b[0m\u001b[1;33m\u001b[0m\u001b[0m\n",
      "\u001b[0m\u001b[1;32m--> 106 \u001b[1;33m        \u001b[0mvalid_cell_ids\u001b[0m \u001b[1;33m=\u001b[0m \u001b[0mself\u001b[0m\u001b[1;33m.\u001b[0m\u001b[0mtuning_curves_valid_neuron_ids\u001b[0m\u001b[1;33m.\u001b[0m\u001b[0mcopy\u001b[0m\u001b[1;33m(\u001b[0m\u001b[1;33m)\u001b[0m\u001b[1;33m\u001b[0m\u001b[1;33m\u001b[0m\u001b[0m\n",
      "\u001b[0m\u001b[1;32m    107 \u001b[1;33m\u001b[1;33m\u001b[0m\u001b[0m\n",
      "\u001b[0m\u001b[1;32m    108 \u001b[1;33m        \u001b[0mdiffering_elements_ids\u001b[0m \u001b[1;33m=\u001b[0m \u001b[0mnp\u001b[0m\u001b[1;33m.\u001b[0m\u001b[0msetdiff1d\u001b[0m\u001b[1;33m(\u001b[0m\u001b[0mself\u001b[0m\u001b[1;33m.\u001b[0m\u001b[0mparams\u001b[0m\u001b[1;33m.\u001b[0m\u001b[0mcell_ids\u001b[0m\u001b[1;33m,\u001b[0m \u001b[0mvalid_cell_ids\u001b[0m\u001b[1;33m)\u001b[0m\u001b[1;33m\u001b[0m\u001b[1;33m\u001b[0m\u001b[0m\n",
      "\u001b[0m\n"
     ]
    },
    {
     "name": "stdin",
     "output_type": "stream",
     "text": [
      "ipdb>  self.params.active_epoch_placefields\n"
     ]
    },
    {
     "name": "stdout",
     "output_type": "stream",
     "text": [
      "<PfND_TimeDependent: {'config': <PlacefieldComputationParameters: {'speed_thresh': 10.0, 'grid_bin': (4.0, 4.0), 'smooth': (0.0, 0.0), 'frate_thresh': 0.2};>, 'position_srate': 29.96976228983933, 'ndim': 2, 'xbin': array([23.9233, 27.9233, 31.9233, 35.9233, 39.9233, 43.9233, 47.9233, 51.9233, 55.9233, 59.9233, 63.9233, 67.9233, 71.9233, 75.9233, 79.9233, 83.9233, 87.9233, 91.9233, 95.9233, 99.9233, 103.923, 107.923, 111.923, 115.923, 119.923, 123.923, 127.923, 131.923, 135.923, 139.923, 143.923, 147.923, 151.923, 155.923, 159.923, 163.923, 167.923, 171.923, 175.923, 179.923, 183.923, 187.923, 191.923, 195.923, 199.923, 203.923, 207.923, 211.923, 215.923, 219.923, 223.923, 227.923, 231.923, 235.923, 239.923, 243.923, 247.923, 251.923, 255.923, 259.923, 263.923]), 'ybin': array([123.86, 127.86, 131.86, 135.86, 139.86, 143.86, 147.86, 151.86, 155.86]), 'bin_info': {'mode': 'bin_size', 'xstep': 4.0, 'xnum_bins': 61, 'ystep': 4.0, 'ynum_bins': 9}, '_filtered_spikes_df':                  t      t_seconds  t_rel_seconds  shank  cluster  aclu  qclu           x           y      speed  ...  flat_spike_idx  x_loaded  y_loaded    lin_pos fragile_linear_neuron_IDX  PBE_id     scISI  neuron_IDX  binned_x  binned_y\n",
      "15455     939899.0  506946.509731      28.873682      2       20    21     4  232.845842  149.627937  13.276552  ...           15455  0.809237  0.497554 -50.613349                        13      -1  0.084203          13        53         7\n",
      "15468     941289.0  506946.552432      28.916383      6        3    38     4  233.509368  149.316813  16.635575  ...           15468  0.810504  0.497192 -51.141446                        24      -1  0.534128          24        53         7\n",
      "15502     943066.0  506946.607022      28.970973      7       10    45     4  234.326904  148.890425  16.935337  ...           15502  0.813223  0.496584 -51.817753                        28      -1  0.184351          28        53         7\n",
      "15519     943691.0  506946.626222      28.990173      2       20    21     4  234.579840  148.749686  16.163558  ...           15519  0.814105  0.496589 -52.022500                        13      -1  0.116490          13        53         7\n",
      "15531     944190.0  506946.641551      29.005502      7       10    45     4  234.777181  148.638706  15.453518  ...           15531  0.814784  0.496636 -52.181626                        28      -1  0.034529          28        53         7\n",
      "15539     944425.0  506946.648770      29.012721      7       10    45     4  234.859306  148.586954  14.906684  ...           15539  0.815090  0.496698 -52.248571                        28      -1  0.007219          28        53         7\n",
      "15540     944427.0  506946.648832      29.012783      2       20    21     4  234.859938  148.586516  14.900715  ...           15540  0.815093  0.496699 -52.249091                        13      -1  0.022610          13        53         7\n",
      "15543     944494.0  506946.650890      29.014841      2       28    27     4  234.881111  148.571868  14.700774  ...           15543  0.815175  0.496731 -52.266521                        19      -1  6.686481          19        53         7\n",
      "15544     944495.0  506946.650921      29.014872      7       10    45     4  234.881427  148.571649  14.697790  ...           15544  0.815177  0.496731 -52.266781                        28      -1  0.002150          28        53         7\n",
      "15547     944524.0  506946.651811      29.015762      2       20    21     4  234.890592  148.565309  14.611248  ...           15547  0.815212  0.496745 -52.274325                        13      -1  0.002980          13        53         7\n",
      "15550     944727.0  506946.658048      29.021999      7       10    45     4  234.954743  148.520927  14.005455  ...           15550  0.815463  0.496840 -52.327134                        28      -1  0.007127          28        53         7\n",
      "15552     944749.0  506946.658723      29.022674      2       20    21     4  234.961696  148.516117  13.939802  ...           15552  0.815490  0.496850 -52.332857                        13      -1  0.006912          13        53         7\n",
      "15911     965053.0  506947.282462      29.646413      7        7    42     4  232.667984  144.011683  17.044093  ...           15911  0.820252  0.500481 -49.831750                        26      -1  5.299658          26        53         6\n",
      "15952     967194.0  506947.348233      29.712184      2       20    21     4  230.913251  143.275609  31.706416  ...           15952  0.812468  0.495902 -48.382276                        13      -1  0.273869          13        52         5\n",
      "15963     967827.0  506947.367679      29.731630      2       20    21     4  230.292385  143.041194  32.900057  ...           15963  0.810061  0.494359 -47.889894                        13      -1  0.019446          13        52         5\n",
      "...            ...            ...            ...    ...      ...   ...   ...         ...         ...        ...  ...             ...       ...       ...        ...                       ...     ...       ...         ...       ...       ...\n",
      "831480  56598650.0  508656.345687    1738.709638     11        2    58     4  215.735886  137.357530  13.486862  ...          831480  0.781337  0.478455 -33.127649                        35      -1  0.159898          35        48         4\n",
      "831489  56599206.0  508656.362767    1738.726718      2       20    21     4  215.536642  137.514843  14.747126  ...          831489  0.780190  0.478421 -32.931858                        13      -1  0.053606          13        48         4\n",
      "831496  56599464.0  508656.370693    1738.734644      2       20    21     4  215.432428  137.582603  15.334390  ...          831496  0.779656  0.478405 -32.836820                        13      -1  0.007926          13        48         4\n",
      "831510  56600441.0  508656.400706    1738.764657      1       10     7     1  214.963758  137.806223  17.573774  ...          831510  0.777636  0.478345 -32.450577                         4      -1  0.678850           4        48         4\n",
      "831512  56600703.0  508656.408755    1738.772706      2       20    21     4  214.836143  137.853079  17.543875  ...          831512  0.777095  0.478329 -32.338984                        13      -1  0.038062          13        48         4\n",
      "831514  56601023.0  508656.418585    1738.782536      2       20    21     4  214.679922  137.907900  17.391490  ...          831514  0.776435  0.478310 -32.201215                        13      -1  0.009830          13        48         4\n",
      "831516  56601058.0  508656.419661    1738.783612      3        7    29     4  214.662835  137.913896  17.374823  ...          831516  0.776363  0.478307 -32.186146                        21      -1  0.217405          21        48         4\n",
      "831533  56602024.0  508656.449336    1738.813287      2       22    23     4  214.197239  138.059825  16.577801  ...          831533  0.774351  0.478248 -31.755963                        15      -1  0.224041          15        48         4\n",
      "831554  56603059.0  508656.481131    1738.845082     11        2    58     4  213.699457  138.186076  15.638728  ...          831554  0.772121  0.478182 -31.264194                        35      -1  0.135444          35        48         4\n",
      "831558  56603349.0  508656.490040    1738.853991      2       20    21     4  213.557175  138.219073  15.522547  ...          831558  0.771482  0.478163 -31.120825                        13      -1  0.071455          13        48         4\n",
      "831567  56604178.0  508656.515507    1738.879458      2       20    21     4  213.174852  138.306516  15.451478  ...          831567  0.769803  0.478114 -30.737287                        13      -1  0.025467          13        48         4\n",
      "831588  56605828.0  508656.566195    1738.930146      2       20    21     4  212.416268  138.478291  15.583727  ...          831588  0.766381  0.478012 -29.981664                        13      -1  0.050688          13        48         4\n",
      "831590  56605920.0  508656.569021    1738.932972      2       20    21     4  212.373363  138.488006  15.584255  ...          831590  0.766190  0.478007 -29.938979                        13      -1  0.002826          13        48         4\n",
      "831601  56607201.0  508656.608373    1738.972324      2       20    21     4  211.783865  138.621493  15.438952  ...          831601  0.763523  0.477928 -29.351434                        13      -1  0.039352          13        47         4\n",
      "831623  56609125.0  508656.667479    1739.031430     11        2    58     4  210.881567  138.825812  15.409233  ...          831623  0.759478  0.477808 -28.475510                        35      -1  0.186347          35        47         4\n",
      "\n",
      "[18877 rows x 25 columns], '_filtered_pos_df':                  t           x           y    lin_pos      speed binned_x binned_y\n",
      "694      22.267855  228.503636  145.468764 -46.089873   4.527751       52        6\n",
      "695      22.301320  228.440530  145.605714 -46.027268   4.519148       52        6\n",
      "696      22.334963  228.377562  145.742365 -45.964681   4.509270       52        6\n",
      "697      22.367647  228.314608  145.878987 -45.902119   4.508311       52        6\n",
      "698      22.401755  228.251478  146.015989 -45.839591   4.520871       52        6\n",
      "699      22.434906  228.188294  146.153109 -45.777115   4.524751       52        6\n",
      "700      22.468916  228.125426  146.289545 -45.714696   4.502150       52        6\n",
      "701      22.501439  228.062939  146.425153 -45.652315   4.474881       52        6\n",
      "702      22.533970  228.000291  146.561110 -45.589927   4.486347       52        6\n",
      "703      22.568722  227.937234  146.697955 -45.527497   4.515669       52        6\n",
      "704      22.601500  227.874164  146.834828 -45.465021   4.516614       51        6\n",
      "705      22.634756  227.811127  146.971629 -45.402534   4.514224       51        6\n",
      "706      22.668603  227.747961  147.108711 -45.340083   4.523484       51        6\n",
      "707      22.702184  227.684990  147.245368 -45.277695   4.509472       51        6\n",
      "708      22.735288  227.622531  147.380916 -45.215349   4.472888       51        6\n",
      "...            ...         ...         ...        ...        ...      ...      ...\n",
      "52134  1738.665154  216.107675  136.897635 -33.603809  12.164657       49        4\n",
      "52135  1738.697740  215.874676  137.247949 -33.264033  12.608989       48        4\n",
      "52136  1738.731667  215.478912  137.560424 -32.875129  15.112279       48        4\n",
      "52137  1738.765710  214.947319  137.814066 -32.437029  17.652321       48        4\n",
      "52138  1738.799641  214.408101  138.003286 -31.961499  17.126344       48        4\n",
      "52139  1738.832598  213.898841  138.139835 -31.465102  15.801535       48        4\n",
      "52140  1738.863926  213.398503  138.255872 -30.960941  15.392984       48        4\n",
      "52141  1738.899013  212.893268  138.370278 -30.455700  15.525124       48        4\n",
      "52142  1738.932121  212.386005  138.485144 -29.951589  15.587444       48        4\n",
      "52143  1738.965992  211.882873  138.599074 -29.449718  15.460512       47        4\n",
      "52144  1738.997945  211.383281  138.712202 -28.953781  15.351718       47        4\n",
      "52145  1739.031413  210.881820  138.825754 -28.475727  15.409162       47        4\n",
      "52146  1739.064597  210.375746  138.940351 -28.043462  15.550918       47        4\n",
      "52147  1739.099261  209.868561  139.055199 -27.704419  15.585046       47        4\n",
      "52148  1739.131656  209.364227  139.169401 -27.514988  15.497439       47        4\n",
      "\n",
      "[51455 rows x 7 columns], 'ratemap': <Ratemap: {'_filename': None, '_metadata': None, 'spikes_maps': array([[[0, 0, 0, ..., 0, 0, 0],\n",
      "        [0, 0, 0, ..., 0, 0, 0],\n",
      "        [0, 0, 0, ..., 0, 0, 0],\n",
      "        ...,\n",
      "        [0, 0, 0, ..., 0, 0, 0],\n",
      "        [0, 0, 1, ..., 0, 0, 0],\n",
      "        [0, 0, 0, ..., 0, 0, 0]],\n",
      "\n",
      "       [[0, 0, 0, ..., 0, 0, 0],\n",
      "        [0, 0, 0, ..., 0, 0, 0],\n",
      "        [0, 0, 0, ..., 0, 0, 0],\n",
      "        ...,\n",
      "        [0, 0, 0, ..., 0, 0, 0],\n",
      "        [0, 0, 0, ..., 0, 0, 0],\n",
      "        [0, 0, 0, ..., 0, 0, 0]],\n",
      "\n",
      "       [[0, 0, 0, ..., 0, 0, 0],\n",
      "        [0, 0, 0, ..., 0, 0, 0],\n",
      "        [0, 0, 0, ..., 0, 0, 0],\n",
      "        ...,\n",
      "        [0, 0, 0, ..., 0, 0, 0],\n",
      "        [0, 0, 0, ..., 0, 0, 0],\n",
      "        [0, 0, 0, ..., 0, 0, 0]],\n",
      "\n",
      "       ...,\n",
      "\n",
      "       [[0, 0, 0, ..., 0, 0, 0],\n",
      "        [0, 0, 0, ..., 0, 0, 0],\n",
      "        [0, 0, 0, ..., 0, 0, 0],\n",
      "        ...,\n",
      "        [0, 0, 0, ..., 0, 0, 0],\n",
      "        [0, 0, 0, ..., 0, 0, 0],\n",
      "        [0, 0, 0, ..., 0, 0, 0]],\n",
      "\n",
      "       [[0, 0, 0, ..., 0, 0, 0],\n",
      "        [0, 0, 0, ..., 0, 0, 0],\n",
      "        [0, 0, 0, ..., 0, 0, 0],\n",
      "        ...,\n",
      "        [0, 0, 0, ..., 0, 0, 0],\n",
      "        [0, 0, 0, ..., 0, 0, 0],\n",
      "        [0, 0, 0, ..., 0, 0, 0]],\n",
      "\n",
      "       [[0, 0, 0, ..., 0, 0, 0],\n",
      "        [0, 0, 0, ..., 0, 0, 0],\n",
      "        [0, 0, 0, ..., 0, 0, 0],\n",
      "        ...,\n",
      "        [0, 0, 0, ..., 0, 0, 0],\n",
      "        [0, 0, 0, ..., 0, 0, 0],\n",
      "        [0, 0, 0, ..., 0, 0, 0]]]), 'tuning_curves': array([[[0, 0, 0, ..., 0, 0, 0],\n",
      "        [0, 0, 0, ..., 0, 0, 0],\n",
      "        [0, 0, 0, ..., 0, 0, 0],\n",
      "        ...,\n",
      "        [0, 0, 0, ..., 0, 0, 0],\n",
      "        [0, 0, 1.19879, ..., 0, 0, 0],\n",
      "        [0, 0, 0, ..., 0, 0, 0]],\n",
      "\n",
      "       [[0, 0, 0, ..., 0, 0, 0],\n",
      "        [0, 0, 0, ..., 0, 0, 0],\n",
      "        [0, 0, 0, ..., 0, 0, 0],\n",
      "        ...,\n",
      "        [0, 0, 0, ..., 0, 0, 0],\n",
      "        [0, 0, 0, ..., 0, 0, 0],\n",
      "        [0, 0, 0, ..., 0, 0, 0]],\n",
      "\n",
      "       [[0, 0, 0, ..., 0, 0, 0],\n",
      "        [0, 0, 0, ..., 0, 0, 0],\n",
      "        [0, 0, 0, ..., 0, 0, 0],\n",
      "        ...,\n",
      "        [0, 0, 0, ..., 0, 0, 0],\n",
      "        [0, 0, 0, ..., 0, 0, 0],\n",
      "        [0, 0, 0, ..., 0, 0, 0]],\n",
      "\n",
      "       ...,\n",
      "\n",
      "       [[0, 0, 0, ..., 0, 0, 0],\n",
      "        [0, 0, 0, ..., 0, 0, 0],\n",
      "        [0, 0, 0, ..., 0, 0, 0],\n",
      "        ...,\n",
      "        [0, 0, 0, ..., 0, 0, 0],\n",
      "        [0, 0, 0, ..., 0, 0, 0],\n",
      "        [0, 0, 0, ..., 0, 0, 0]],\n",
      "\n",
      "       [[0, 0, 0, ..., 0, 0, 0],\n",
      "        [0, 0, 0, ..., 0, 0, 0],\n",
      "        [0, 0, 0, ..., 0, 0, 0],\n",
      "        ...,\n",
      "        [0, 0, 0, ..., 0, 0, 0],\n",
      "        [0, 0, 0, ..., 0, 0, 0],\n",
      "        [0, 0, 0, ..., 0, 0, 0]],\n",
      "\n",
      "       [[0, 0, 0, ..., 0, 0, 0],\n",
      "        [0, 0, 0, ..., 0, 0, 0],\n",
      "        [0, 0, 0, ..., 0, 0, 0],\n",
      "        ...,\n",
      "        [0, 0, 0, ..., 0, 0, 0],\n",
      "        [0, 0, 0, ..., 0, 0, 0],\n",
      "        [0, 0, 0, ..., 0, 0, 0]]]), 'unsmoothed_tuning_maps': None, '_neuron_ids': array([ 2,  3,  4,  5,  7,  8,  9, 10, 11, 12, 14, 17, 18, 21, 22, 23, 24, 25, 26, 27, 28, 29, 33, 34, 38, 39, 42, 44, 45, 46, 47, 48, 53, 55, 57, 58, 61, 62, 63, 64]), '_neuron_extended_ids': [NeuronExtendedIdentityTuple(shank=1, cluster=4, id=2), NeuronExtendedIdentityTuple(shank=1, cluster=6, id=3), NeuronExtendedIdentityTuple(shank=1, cluster=7, id=4), NeuronExtendedIdentityTuple(shank=1, cluster=8, id=5), NeuronExtendedIdentityTuple(shank=1, cluster=10, id=7), NeuronExtendedIdentityTuple(shank=1, cluster=15, id=8), NeuronExtendedIdentityTuple(shank=1, cluster=16, id=9), NeuronExtendedIdentityTuple(shank=1, cluster=19, id=10), NeuronExtendedIdentityTuple(shank=1, cluster=21, id=11), NeuronExtendedIdentityTuple(shank=2, cluster=2, id=12), NeuronExtendedIdentityTuple(shank=2, cluster=5, id=14), NeuronExtendedIdentityTuple(shank=2, cluster=9, id=17), NeuronExtendedIdentityTuple(shank=2, cluster=10, id=18), NeuronExtendedIdentityTuple(shank=2, cluster=20, id=21), NeuronExtendedIdentityTuple(shank=2, cluster=21, id=22), NeuronExtendedIdentityTuple(shank=2, cluster=22, id=23), NeuronExtendedIdentityTuple(shank=2, cluster=23, id=24), NeuronExtendedIdentityTuple(shank=2, cluster=25, id=25), NeuronExtendedIdentityTuple(shank=2, cluster=27, id=26), NeuronExtendedIdentityTuple(shank=2, cluster=28, id=27), NeuronExtendedIdentityTuple(shank=3, cluster=2, id=28), NeuronExtendedIdentityTuple(shank=3, cluster=7, id=29), NeuronExtendedIdentityTuple(shank=3, cluster=15, id=33), NeuronExtendedIdentityTuple(shank=4, cluster=2, id=34), NeuronExtendedIdentityTuple(shank=6, cluster=3, id=38), NeuronExtendedIdentityTuple(shank=7, cluster=3, id=39), NeuronExtendedIdentityTuple(shank=7, cluster=7, id=42), NeuronExtendedIdentityTuple(shank=7, cluster=9, id=44), NeuronExtendedIdentityTuple(shank=7, cluster=10, id=45), NeuronExtendedIdentityTuple(shank=8, cluster=2, id=46), NeuronExtendedIdentityTuple(shank=8, cluster=3, id=47), NeuronExtendedIdentityTuple(shank=8, cluster=4, id=48), NeuronExtendedIdentityTuple(shank=8, cluster=13, id=53), NeuronExtendedIdentityTuple(shank=8, cluster=17, id=55), NeuronExtendedIdentityTuple(shank=10, cluster=3, id=57), NeuronExtendedIdentityTuple(shank=11, cluster=2, id=58), NeuronExtendedIdentityTuple(shank=11, cluster=9, id=61), NeuronExtendedIdentityTuple(shank=11, cluster=15, id=62), NeuronExtendedIdentityTuple(shank=11, cluster=16, id=63), NeuronExtendedIdentityTuple(shank=11, cluster=18, id=64)], 'xbin': array([23.9233, 27.9233, 31.9233, 35.9233, 39.9233, 43.9233, 47.9233, 51.9233, 55.9233, 59.9233, 63.9233, 67.9233, 71.9233, 75.9233, 79.9233, 83.9233, 87.9233, 91.9233, 95.9233, 99.9233, 103.923, 107.923, 111.923, 115.923, 119.923, 123.923, 127.923, 131.923, 135.923, 139.923, 143.923, 147.923, 151.923, 155.923, 159.923, 163.923, 167.923, 171.923, 175.923, 179.923, 183.923, 187.923, 191.923, 195.923, 199.923, 203.923, 207.923, 211.923, 215.923, 219.923, 223.923, 227.923, 231.923, 235.923, 239.923, 243.923, 247.923, 251.923, 255.923, 259.923, 263.923]), 'ybin': array([123.86, 127.86, 131.86, 135.86, 139.86, 143.86, 147.86, 151.86, 155.86]), 'occupancy': array([[0, 0, 0, 0, 0, 0, 0, 0],\n",
      "       [0, 0, 0, 0, 0, 0, 0, 0],\n",
      "       [0, 0, 0, 0, 0, 0, 0, 0],\n",
      "       [0, 0, 0, 0, 0, 0, 0, 0],\n",
      "       [0, 0, 0, 0.0667339, 0, 0, 0, 0],\n",
      "       [0, 0, 0, 0.900908, 1.43478, 0.33367, 0, 0],\n",
      "       [0, 0, 0.033367, 0.367037, 1.13448, 0.76744, 0, 0],\n",
      "       [0, 0, 0.367037, 0.300303, 1.40141, 0.266936, 0, 0],\n",
      "       [0, 0, 1.06774, 2.46916, 1.66835, 1.10111, 0.033367, 0],\n",
      "       [0, 0, 1.50151, 1.90192, 1.96865, 1.36805, 0.100101, 0],\n",
      "       [0, 0, 0, 2.70272, 0.800807, 1.56825, 0, 0],\n",
      "       [0, 0, 0, 0.367037, 0.200202, 0.900908, 0, 0],\n",
      "       [0, 0, 0, 0.467138, 0.734073, 0.367037, 0, 0],\n",
      "       [0, 0, 0, 0, 0.533871, 0.367037, 0, 0],\n",
      "       [0, 0, 0, 0, 0.800807, 0.0667339, 0, 0],\n",
      "       [0, 0, 0, 0, 0.834174, 0, 0, 0],\n",
      "       [0, 0, 0, 1.36805, 1.56825, 0, 0, 0],\n",
      "       [0, 0, 0, 1.76845, 6.87359, 0, 0, 0],\n",
      "       [0, 0, 0, 0.200202, 0.900908, 0, 0, 0],\n",
      "       [0, 0, 0, 0, 0.76744, 0, 0, 0],\n",
      "       [0, 0, 0, 0.0667339, 0.600605, 0, 0, 0],\n",
      "       [0, 0, 0, 0.200202, 0.533871, 0, 0, 0],\n",
      "       [0, 0, 0, 0.133468, 0.867541, 0, 0, 0],\n",
      "       [0, 0, 0, 0, 0.700706, 0, 0, 0],\n",
      "       [0, 0, 0, 0, 0.633972, 0, 0, 0],\n",
      "       [0, 0, 0, 0, 0.533871, 0, 0, 0],\n",
      "       [0, 0, 0, 0, 0.400404, 0, 0, 0],\n",
      "       [0, 0, 0, 0, 0.400404, 0, 0, 0],\n",
      "       [0, 0, 0, 0, 0.400404, 0, 0, 0],\n",
      "       [0, 0, 0, 0, 0.433771, 0, 0, 0],\n",
      "       [0, 0, 0, 0.133468, 0.233569, 0, 0, 0],\n",
      "       [0, 0, 0, 0.233569, 0.200202, 0, 0, 0],\n",
      "       [0, 0, 0, 0.233569, 0.166835, 0, 0, 0],\n",
      "       [0, 0, 0, 0.33367, 0.200202, 0, 0, 0],\n",
      "       [0, 0, 0, 0.600605, 0.233569, 0, 0, 0],\n",
      "       [0, 0, 0, 0.533871, 0.200202, 0, 0, 0],\n",
      "       [0, 0, 0.667339, 0.76744, 0.200202, 0, 0, 0],\n",
      "       [0, 0, 0.934275, 0.567238, 0.33367, 0, 0, 0],\n",
      "       [0, 0, 0, 0.300303, 1.10111, 0, 0, 0],\n",
      "       [0, 0, 0, 0.33367, 1.03438, 0.867541, 0, 0],\n",
      "       [0, 0, 0, 0.867541, 0.166835, 0, 0, 0],\n",
      "       [0, 0, 0, 0.800807, 0.233569, 0, 0, 0],\n",
      "       [0, 0, 0, 0.900908, 0.300303, 0, 0, 0],\n",
      "       [0, 0, 0, 0.400404, 1.60161, 1.86855, 0.0667339, 0],\n",
      "       [0, 0, 0, 0.433771, 1.26794, 0.76744, 0, 0],\n",
      "       [0, 0, 0, 0.400404, 1.03438, 0, 0, 0],\n",
      "       [0, 0, 0, 0.367037, 0.667339, 0, 0, 0],\n",
      "       [0, 0, 0, 0.266936, 0.867541, 0, 0, 0],\n",
      "       [0, 0, 0, 0, 0.867541, 1.50151, 0.900908, 0],\n",
      "       [0, 0, 0, 0.033367, 1.83518, 1.16784, 0.367037, 0],\n",
      "       [0, 0, 0.33367, 1.40141, 4.83821, 3.70373, 6.37309, 0.300303],\n",
      "       [0, 0.500504, 0.367037, 3.2366, 3.3367, 1.70172, 3.8372, 0],\n",
      "       [0, 0.567238, 2.73609, 4.00404, 1.70172, 5.27198, 0.667339, 0],\n",
      "       [0, 0.233569, 3.03639, 1.10111, 1.63498, 1.36805, 0.100101, 0],\n",
      "       [0, 0.76744, 1.16784, 1.43478, 0.76744, 2.23559, 0, 0],\n",
      "       [0, 0, 0, 1.40141, 17.551, 2.33569, 0, 0],\n",
      "       [0, 0, 0, 1.30131, 3.57027, 0.533871, 0, 0],\n",
      "       [0, 0, 0.133468, 2.03538, 1.16784, 0.367037, 0.133468, 0],\n",
      "       [0, 0, 0.834174, 2.56926, 0.600605, 1.56825, 0.700706, 0],\n",
      "       [0, 0, 0, 0, 0.166835, 0.934275, 0.133468, 0]])};>, 'ratemap_spiketrains': [array([34.4914, 39.6097, 39.7279, 39.7335, 39.7415, 41.8522, 44.4629, 66.284, 66.3449, 66.3701, 67.1352, 67.1545, 67.262, 67.3562, 67.7231, 75.4965, 91.6004, 91.7095, 92.7074, 92.8604, 101.39, 101.999, 128.656, 128.765, 128.867, 129.031, 129.275, 129.334, 129.695, 129.954, 130.235, 130.387, 130.404, 130.407, 130.521, 130.542, 130.808, 158.751, 158.856, 158.99, 159.119, 159.125, 179.699, 179.703, 179.861, 196.049, 196.355, 197.894, 197.922, 198.977, 198.987]), array([36.0313, 36.0491, 36.0527, 36.0568, 36.0909, 36.1036, 36.1069, 36.1117, 36.1276, 38.5549, 46.0947, 54.8386, 62.0317, 62.5323, 62.539, 62.547, 63.6283, 63.7479, 64.0182, 64.1647, 66.1563, 91.9494, 101.338, 104.071, 107.797, 108.033, 108.037, 108.047, 108.056, 108.297, 108.304, 108.31, 108.433, 108.548, 108.577, 108.669, 108.688, 108.749, 108.794, 108.808, 108.852, 108.899, 108.979, 109.071, 109.127, 109.241, 109.317, 109.356, 109.713, 109.8, 109.834, 109.928, 109.94, 109.982, 112.329, 118.504, 118.543, 118.828, 118.901, 118.973, 124.522, 125.316, 125.326, 125.332, 127.021, 127.42]), array([55.3003]), array([30.3942, 31.5785, 31.6314, 31.6352, 31.6384, 31.6416, 31.7197, 31.7268, 31.8364, 31.9328, 32.0631, 32.2092, 32.2152, 32.326, 44.901, 46.3985, 54.8872, 59.6511, 59.6549, 63.9994, 64.126, 64.2035, 64.3133, 64.3753, 65.6728, 65.6776, 65.8247, 66.1133, 66.1312, 66.2213, 66.3373, 66.8222, 66.8326, 67.0802, 67.0905, 85.9448, 92.4421, 92.4587, 92.7059, 92.8269, 92.8353, 92.841, 103.108, 109.71, 109.741, 109.757, 109.766, 115.735, 115.787, 115.801, 115.899, 115.904, 115.91, 116.029, 118.652, 118.657, 125.388, 125.391, 127.058, 127.134, 127.367, 127.458, 127.53, 128.167, 128.544, 129.198, 129.202, 129.587, 129.845, 129.848, 129.862, 129.965, 129.97, 130.641, 130.646, 130.651, 158.906, 159.985, 159.991, 185.781, 189.339, 199.37]), array([48.9167, 48.9316, 49.061, 63.5919, 63.6039, 63.6071, 63.6334, 63.6462, 63.8972, 101.813, 104.073, 108.71, 108.962, 109.085, 109.213, 109.216, 109.221, 118.748, 118.867, 118.87, 126.865, 126.879, 126.888, 126.956, 126.973, 126.979, 127.041, 127.091, 127.191, 130.184, 130.193, 130.197]), array([34.1391, 34.2101, 34.4791, 65.1314, 65.5135, 76.6027, 76.6079, 77.3585, 77.3664, 77.4038, 107.103, 107.241, 107.258, 107.283, 107.311, 107.314, 107.372, 107.381, 107.704, 107.763, 128.239, 158.746, 168.939, 191.499, 191.51, 193.65, 193.655, 193.836, 193.909, 194.064, 196.568, 197.749, 197.793, 197.885, 198.302]), array([34.0708, 34.0934, 34.1101, 34.1132, 34.1221, 34.6075, 35.9842, 64.8226, 64.9787, 65.0035, 65.1144, 65.1174, 65.3686, 65.373, 65.4783, 65.5055, 65.5249, 65.6245, 65.7692, 67.4193, 76.5522, 76.5568, 76.5887, 76.8134, 77.4166, 77.4244, 77.6828, 92.4888, 101.023, 101.774, 101.778, 104.016, 104.025, 104.028, 107.1, 107.123, 107.238, 107.248, 107.362, 107.413, 107.551, 107.742, 107.935, 107.965, 118.615, 125.354, 128.003, 128.234, 128.246, 157.526, 157.535, 157.548, 157.771, 157.777, 176.808, 179.126, 179.16, 179.655, 179.669, 179.672, 179.68, 179.789, 179.792, 179.798, 179.807, 181.014, 186.707, 186.713, 186.727, 187.072, 187.082, 187.086, 191.148, 191.369, 191.373, 191.528, 191.546, 191.555, 193.64, 193.671, 193.69, 193.711, 193.751, 193.818, 193.822, 193.828, 193.884, 193.9, 194.008, 194.059, 196.026, 196.159, 196.17, 196.2, 196.6, 196.631, 196.683, 196.686, 196.884, 196.888, 197.117, 197.132, 197.644, 197.719, 197.848, 197.902, 197.933, 197.984, 198.268, 199.4]), array([39.5227, 39.7713, 41.4226, 41.4433, 41.554, 41.5574, 77.6754, 127.867]), array([65.8798, 65.8841, 65.8924, 65.901, 65.9112, 65.9201, 65.9301, 65.9641, 65.9906, 66.0184, 66.0958, 66.3927, 101.767, 102.038, 128.502, 128.505, 128.613, 128.627, 128.63, 128.641, 128.703, 128.724, 128.742, 128.748, 128.796, 128.804, 128.841, 129.083, 129.122, 129.264]), array([66.6519, 66.6558, 66.6705, 66.6756, 66.7336, 66.7663, 66.7735, 66.7811, 66.7916, 66.9113, 129.056, 129.316, 129.415, 129.432, 129.451, 129.531, 129.536, 129.63, 129.633, 129.638, 129.744, 129.752, 129.764, 129.771, 129.878, 129.899, 129.914, 129.99, 130.086, 130.103, 130.112, 130.194, 130.454, 130.477, 130.539, 130.569, 175.185, 175.188, 175.213, 175.525, 175.536, 175.58, 175.586, 175.622, 175.693, 176.176, 176.32, 179.451, 199.325]), array([31.5795, 34.0983, 34.1989, 66.3383, 66.8338, 85.9459, 91.4791, 107.363, 127.227, 128.545, 198.4, 199.371]), array([66.1312, 91.5275, 109.71, 109.741, 109.757, 109.766, 115.735, 115.786, 156.196, 156.206, 156.382, 156.387, 157.41, 157.49, 157.499, 157.514, 157.597, 187.67, 187.675, 187.685, 187.691]), array([31.5785, 31.6314, 31.6352, 31.6383, 31.6416, 31.7196, 31.7226, 31.7268, 31.7304, 31.7337, 31.7471, 31.7571, 31.7614, 31.7681, 31.7744, 31.7821, 31.8048, 31.812, 31.823, 31.8364, 31.8459, 31.851, 31.8631, 31.8721, 31.882, 31.89, 31.9064, 31.9327, 31.94, 31.9516, 31.9641, 31.9775, 31.988, 31.996, 32.005, 32.0119, 32.0631, 32.073, 32.0823, 32.1014, 32.1109, 32.2092, 32.2152, 32.326, 46.3985, 59.6549, 61.9275, 65.6728, 65.6776, 65.8247, 66.1132, 66.2213, 66.3373, 66.8221, 66.8326, 66.8373, 67.0802, 67.0904, 85.9448, 92.4421, 92.4532, 92.4587, 92.7059, 92.7115, 92.7154, 92.8268, 92.8353, 92.841, 103.094, 103.102, 103.108, 118.647, 118.652, 118.657, 125.388, 125.391, 125.396, 127.058, 128.167, 128.544, 128.549, 129.198, 129.202, 129.578, 129.587, 129.845, 129.848, 129.862, 129.965, 129.97, 129.981, 130.641, 130.646, 130.651, 158.906, 159.985, 159.991, 185.781, 189.214, 189.219, 189.225, 189.229, 189.235, 189.242, 189.248, 189.253, 189.261, 189.27, 189.339, 189.346, 199.37]), array([28.8737, 28.9902, 29.0128, 29.0158, 29.0227, 29.7122, 29.7316, 29.7579, 29.7884, 29.8662, 29.9629, 30.143, 30.1749, 44.545, 44.5507, 46.4034, 47.9138, 48.0181, 48.0245, 48.0343, 48.2321, 48.5095, 48.5147, 49.0433, 49.0599, 52.0268, 54.8686, 54.879, 55.6276, 77.7429, 77.7561, 77.7604, 77.7692, 77.7749, 78.0042, 78.0129, 78.0219, 78.0258, 78.126, 78.1401, 86.8475, 86.8527, 90.6522, 90.6576, 90.6728, 91.4061, 91.412, 91.5337, 91.8072, 91.8624, 91.8656, 91.8696, 91.8793, 124.279, 157.314, 158.49, 158.689, 158.849, 158.948, 158.96, 158.969, 158.976, 159.022, 159.032, 159.041, 159.055, 159.061, 159.076, 159.093, 159.115, 159.143, 159.148, 159.155, 159.167, 159.171, 159.176, 159.182, 159.189, 159.196, 159.213, 159.22, 159.226, 159.233, 176.269, 176.432, 176.451, 177.088, 179.024, 179.317, 180.089, 186.617, 198.459, 198.475, 198.93, 198.936, 198.949, 198.956, 199.061, 199.181, 199.189, 199.29, 199.886]), array([30.3942, 31.8569, 31.9578, 32.1188, 32.4638, 33.874, 33.9177, 33.9379, 33.9679, 34.0536, 52.0089, 54.8446, 59.6393, 63.2667, 63.2749, 63.2854, 63.3509, 63.3731, 64.3754, 64.5949, 64.8447, 64.9966, 65.1375, 65.5044, 65.5165, 65.5251, 65.619, 65.6288, 65.6394, 65.764, 65.7753, 65.7816, 67.3231, 77.2728, 86.917, 92.482, 101.022, 101.027, 101.301, 101.304, 101.309, 101.776, 101.783, 103.118, 104.027, 104.037, 107.291, 109.717, 109.72, 115.801, 115.899, 115.904, 115.91, 115.917, 115.922, 115.93, 115.98, 116.029, 118.625, 118.628, 125.352, 125.358, 127.03, 127.134, 127.22, 127.31, 127.367, 127.845, 127.855, 128.009, 128.252, 128.26, 128.511, 128.525, 156.164, 156.419, 156.423, 185.804, 193.139, 196.062]), array([78.1144, 78.119, 78.1221, 78.1324, 159.1, 175.143, 175.566, 176.256, 176.507, 176.779, 176.782, 177.046, 180.167, 180.212, 180.273, 198.917, 198.926, 198.948, 198.952, 199.062, 199.074, 199.143, 199.297, 199.451, 199.454, 199.486, 199.624, 199.661, 199.735, 199.738, 199.847, 199.851]), array([35.0727, 35.077, 35.0799, 35.1075, 35.1107, 35.1255, 35.1303, 35.1338, 35.1428, 35.148, 35.1535, 35.161, 35.2042, 35.2136, 35.2213, 35.2431, 35.2622, 35.2735, 35.2795, 35.287, 35.3127, 35.3204, 62.5462, 64.2885, 64.3011, 64.4243, 64.4271, 64.5444, 64.5614, 64.5643, 64.5729, 64.5802, 64.6953, 64.8236, 91.954, 101.338, 104.057, 104.06, 104.066, 107.537, 107.547, 107.666, 107.778, 107.792, 108.015, 108.025, 108.029, 108.143, 108.174, 108.267, 108.279, 108.294, 108.31, 108.353, 108.415, 108.42, 108.482, 108.492, 108.502, 108.509, 108.523, 108.543, 108.549, 108.579, 108.661, 118.587, 125.33, 125.337, 125.341, 127.018, 127.023, 127.42, 127.423, 127.433, 127.699, 127.709]), array([35.237, 125.791, 177.204]), array([42.1043, 104.069, 157.522, 199.039]), array([29.0148, 30.1525, 65.9555, 66.8303, 74.5435, 74.7441, 75.0048, 75.0371, 75.0822, 75.5448, 76.5269, 76.784, 76.7879, 77.1615, 77.211, 77.2319, 77.4282, 77.4877, 77.6598, 91.5258, 91.5397, 91.9834, 129.962, 156.45, 156.46, 156.466, 157.061, 157.161, 157.175, 157.531, 157.735, 157.755, 158.437, 158.455, 159.07, 159.082, 159.103, 168.932, 168.938, 168.953, 169.057, 169.153, 169.275, 176.401, 176.425, 176.523, 176.537, 176.542, 178.996, 179, 179.007, 179.409, 179.416, 179.419, 179.61, 179.651, 179.659, 179.672, 179.734, 180.023, 180.032, 180.042, 180.054, 180.568, 180.574, 180.588, 180.678, 180.719, 180.858, 180.993, 181.114, 186.342, 186.465, 186.564, 186.574, 186.59, 186.608, 186.706, 187.088, 187.335, 187.852, 191.153, 191.401, 191.499, 191.514, 191.524, 191.621, 193.817, 193.829, 194.187, 196.015, 196.137, 196.234, 196.57, 197.157, 197.726, 197.875, 197.925, 197.958, 198.268, 198.46, 198.465]), array([31.3485, 32.284, 32.2883, 33.7668, 34.561, 34.602, 34.616, 34.6223, 34.6266, 34.6804, 34.8359, 35.224, 35.7246, 36.1067, 36.1093, 36.114, 36.1181, 36.1461, 39.4463, 39.4684, 63.898, 63.9246, 64.1629, 64.2927, 64.3102, 64.4269, 64.4428, 64.5634, 64.7072, 64.7976, 65.1038, 65.2858, 65.8017, 66.8253, 91.9504, 101.03, 101.034, 101.311, 101.317, 101.4, 101.794, 103.802, 104.044, 107.267, 107.512, 107.525, 107.617, 107.627, 107.69, 107.724, 107.898, 107.997, 108.025, 108.071, 108.093, 108.11, 108.127, 108.198, 108.203, 108.37, 108.462, 108.482, 108.525, 108.624, 109.536, 109.573, 109.584, 109.627, 109.633, 109.64, 109.684, 109.77, 109.912, 109.941, 109.947, 109.957, 115.769, 115.846, 115.851, 115.872, 115.973, 118.595, 118.6, 118.696, 121.179, 124.532, 125.322, 125.335, 125.34, 125.623, 125.629, 125.634, 126.901, 127.018, 127.151, 127.415, 127.587, 127.69, 127.703, 127.709, 127.728, 128.219, 157.407, 157.862, 197.963, 199.608, 199.786, 199.823]), array([36.143, 64.3309, 66.341, 77.7565, 77.761, 77.8862, 77.9292, 77.932, 77.9982, 78.0934, 78.1051, 78.1187, 78.127, 107.398, 107.647, 109.548, 109.611, 109.823, 115.86, 115.978, 125.329, 126.892, 127.028, 127.978, 176.348, 176.385, 176.484, 176.501, 176.506, 176.612, 176.624, 176.748, 176.775, 177.056, 179.338, 179.404, 179.408, 180.163, 180.166, 180.182, 180.286, 180.301, 180.309, 180.368, 180.683, 180.82, 180.964, 181.053, 198.447, 198.452, 198.561, 198.571, 198.578, 198.687, 198.692, 198.7, 198.791, 198.795, 198.836, 198.864, 198.909, 198.917, 198.992, 199.001, 199.046, 199.089, 199.211, 199.253, 199.34, 199.451, 199.465, 199.476, 199.549, 199.68, 199.687, 199.793, 199.904]), array([34.9194, 34.9226, 34.9255, 35.1947, 35.1971, 55.6599, 64.7202, 64.7231, 64.7277, 64.735, 64.74, 64.7437, 64.7479, 64.752, 64.7572, 64.7623, 64.7664, 64.7703, 64.7751, 64.7789, 64.7839, 64.791, 64.7954, 64.8036, 64.8405, 64.8455, 64.8511, 64.8939, 107.289, 107.542, 107.547, 107.904, 107.908, 107.91, 108.16, 108.163, 108.475, 127.432, 127.435, 127.544, 127.562, 127.565, 127.574, 127.577, 127.585, 127.625, 127.629, 127.632, 127.683, 127.689, 127.693, 127.724, 127.726, 127.729, 127.747, 127.75, 127.808, 127.811, 127.813, 127.87, 127.873, 127.875, 127.952]), array([30.2921, 41.4361, 41.4422, 41.8513, 46.5897, 47.8263, 49.148, 52.1028, 52.1781, 52.2094, 54.8218, 54.9943, 59.861, 62.1, 64.6429, 65.8556, 67.1001, 77.9328, 78.0763, 91.9795, 92.5584, 101.901, 109.071, 110.055, 124.352, 128.272, 129.688, 130.069, 130.217, 158.7, 158.793, 180.546, 180.796, 198.656, 198.931, 199.002]), array([28.9164, 33.2668, 33.2708, 33.3723, 33.3774, 65.9326, 77.1786, 77.1823, 77.2972, 101.337, 104.289, 109.12, 119.422, 156.651, 156.689, 156.719, 156.944, 157.049, 158.53, 158.724, 169.158, 177.549, 185.703, 185.734, 185.83, 187.7, 187.704, 187.727]), array([35.6536, 35.7676, 35.8154, 38.5285, 38.536, 38.5401, 48.9832, 48.9881, 54.8363, 54.8417, 55.6015, 59.139, 62.5377, 62.5433, 63.7609, 63.8959, 64.0279, 64.2636, 64.2867, 64.4073, 91.9442, 91.9526, 92.3579, 101.323, 101.329, 101.804, 101.813, 104.063, 104.067, 104.078, 107.295, 107.561, 107.796, 107.802, 107.913, 107.921, 108.021, 108.025, 108.032, 108.188, 108.448, 108.574, 108.662, 108.748, 108.782, 108.877, 118.574, 118.585, 118.592, 124.506, 125.321, 125.332, 126.897, 126.93, 127.008, 127.412, 127.433, 127.729, 176.569]), array([29.6464, 46.3983, 48.905, 67.9003, 77.7899, 78.0361, 91.5439, 92.4613, 103.201, 109.801, 119.233, 120.917, 128.533, 158.792, 158.837, 168.918, 176.775, 179.023, 179.329, 180.196, 180.482, 198.47]), array([35.7921, 38.5081, 38.511, 38.6789, 41.7876, 42.1301, 44.7245, 46.3264, 48.5765, 59.1158, 62.063, 62.0685, 62.5134, 63.7429, 63.8662, 63.8719, 65.546, 65.8259, 91.9514, 101.814, 104.083, 108.056, 108.075, 108.811, 108.845, 108.848, 109.088, 109.099, 109.218, 109.607, 109.612, 109.873, 115.799, 115.815, 118.741, 118.747, 118.769, 118.973, 120.719, 120.84, 121.181, 124.493, 124.807, 125.295, 125.312, 125.592, 126.891, 128.936, 177.159, 179.662, 198.568, 199.41, 199.423, 199.431]), array([28.971, 29.0055, 29.0127, 29.0149, 29.022, 35.7715, 39.5135, 39.5268, 39.5555, 41.6502, 44.5416, 45.0971, 46.4036, 47.9179, 48.4629, 48.5038, 48.5094, 48.5231, 48.9586, 52.0038, 52.0168, 52.0267, 52.0276, 52.0331, 52.1537, 52.1575, 52.229, 52.3787, 54.8643, 54.8689, 55.5975, 59.6298, 62.0784, 62.3076, 62.3106, 64.0206, 74.5875, 74.7316, 74.8361, 74.8879, 77.395, 77.5314, 77.547, 77.6606, 77.7611, 77.7782, 77.9856, 77.9985, 78.0044, 78.0107, 78.1272, 78.1331, 90.6581, 90.6807, 91.4129, 91.4305, 91.4465, 91.5004, 91.5411, 91.637, 108.532, 108.644, 109.659, 109.662, 109.677, 109.712, 109.716, 109.729, 109.766, 115.765, 119.482, 120.712, 121.151, 121.476, 121.485, 121.6, 121.698, 121.7, 124.272, 156.244, 156.255, 156.26, 156.453, 156.467, 156.479, 157.171, 157.175, 157.18, 157.315, 157.534, 157.557, 157.652, 158.365, 158.453, 158.471, 158.475, 158.573, 158.581, 158.588, 158.685, 158.69, 158.698, 158.705, 158.752, 159.09, 159.113, 168.912, 168.916, 168.935, 168.954, 176.279, 176.288, 176.394, 176.401, 176.416, 176.43, 176.537, 176.588, 176.625, 176.828, 176.832, 179.004, 179.009, 179.017, 179.027, 179.305, 179.317, 179.33, 179.425, 179.863, 180.087, 180.16, 180.212, 180.311, 180.33, 180.342, 180.561, 180.568, 180.647, 180.781, 180.822, 180.881, 180.946, 181.048, 181.059, 181.195, 186.058, 186.459, 186.481, 186.547, 186.59, 186.914, 186.922, 186.943, 186.956, 187.164, 187.686, 187.832, 187.851, 197.961, 197.966, 197.975, 198.216, 198.221, 198.44, 198.574, 198.674, 198.68, 198.69, 198.699, 198.716, 198.783, 198.927, 199.021, 199.062, 199.177, 199.195, 199.684, 199.906]), array([32.5581, 32.6823, 38.6909, 49.1656, 62.4048, 63.6402, 63.6909, 63.8454, 64.0403, 64.0657, 64.0831, 64.1642, 64.1673, 126.603, 126.616, 126.994, 127.006, 127.084, 127.095, 127.16, 127.338, 180.011, 191.738, 193.799]), array([33.2845, 63.4436, 65.8005, 65.8082, 92.4751, 108.459, 118.631, 118.635, 126.876, 127.858, 128.268, 199.379]), array([180.943, 180.955, 181.018, 181.021, 181.054, 181.069, 181.091, 181.142, 181.17]), array([30.0805, 30.1921, 30.2978, 30.4764, 33.7513, 38.9208, 62.696, 67.3456, 67.546, 67.5786, 75.0528, 193.135, 197.975, 198.713, 199.197]), array([32.164, 32.931, 32.9334, 32.9432, 32.9771, 32.9807, 32.9881, 32.9924, 33.0076, 33.012, 33.0185, 33.0263, 33.0356, 33.0524, 33.0647, 33.0726, 33.0803, 33.111, 33.1242, 33.1327, 33.1584, 33.1648, 33.1836, 33.2037, 33.2697, 33.3252, 33.3845, 33.3954, 33.4188, 33.4753, 33.5263, 33.537, 33.5571, 33.5808, 33.5887, 33.6397, 33.6485, 33.6646, 59.6456, 63.969, 63.974, 64.0418, 64.0445, 64.8601, 65.1568, 65.6559, 65.6632, 65.8016, 66.0533, 66.0613, 66.0678, 66.1943, 66.2989, 66.3139, 66.3271, 91.9373, 92.4605, 92.4666, 92.7255, 100.988, 100.997, 101.005, 101.129, 101.145, 101.153, 101.167, 101.378, 101.725, 101.753, 101.804, 102.072, 102.148, 103.173, 103.179, 103.189, 103.194, 103.897, 103.972, 107.173, 118.632, 118.637, 118.642, 125.358, 125.363, 125.37, 125.374, 127.039, 127.052, 127.329, 127.857, 127.863, 127.868, 128.272, 128.524, 128.532, 128.543, 128.782, 128.785, 128.795, 130.636, 130.647, 130.652, 199.378, 199.388, 199.617]), array([34.5324, 39.5937, 39.6002, 41.5801, 46.5732, 64.0117, 64.0155, 64.115, 64.1194, 64.8922, 64.8958, 64.8989, 65.9479, 65.9534, 66.2025, 74.6039, 77.9842, 101.801, 101.808, 107.283, 107.904, 156.725, 156.734, 157.998, 158.542, 158.675, 158.679, 158.693, 158.827, 158.92, 158.924, 158.928, 158.933, 158.967, 168.919, 169.07, 169.075, 169.144, 169.152, 169.167, 169.171, 176.429, 185.836, 186.158, 186.215, 186.244, 186.251, 186.511, 198.72, 198.965, 199.225]), array([30.4178, 33.3466, 33.3501, 48.5156, 63.5181, 65.3793, 78.0612, 91.9013, 91.9046, 91.9592, 103.938, 119.367, 125.619, 129.575, 130.394, 130.397, 130.633, 130.764, 130.953, 130.979, 158.457, 158.886, 158.889, 159.144, 159.148, 176.307, 176.316, 179.4, 180.368, 199.064]), array([77.2443, 77.2493, 77.3197, 77.3318, 193.91]), array([32.5375, 33.3539, 92.8716, 130.407, 130.524, 130.75, 130.949]), array([48.9847, 127.648, 130.753, 159.159]), array([39.5438, 49.0905, 55.5747, 55.5782, 65.4224, 65.4272, 65.4318, 65.4508, 65.539, 65.543, 65.6904, 65.6964, 65.7042, 65.8428, 65.8484, 65.8552, 66.3957, 66.4039, 66.4216, 66.4589, 66.477, 66.4843, 66.4899, 66.5172, 66.5815, 66.6023, 66.7361, 66.7466, 66.94, 67.0126, 67.1805, 101.044, 101.315, 101.789, 101.793, 107.148, 107.155, 107.408, 107.415, 107.425, 107.712, 127.591, 127.839, 127.989, 127.998, 128.035, 128.077, 128.099, 128.109, 128.119, 128.129, 128.145, 128.304, 128.327, 128.352, 128.361, 128.408, 128.425, 128.431, 128.565, 128.621, 128.892, 128.931, 129.02, 129.042, 129.082, 129.095, 129.102, 129.156, 129.22, 129.224, 129.364, 129.37, 129.406, 129.474, 129.506, 129.52, 129.593, 129.604, 129.636, 129.726, 129.766, 129.788, 129.875, 129.887, 129.894, 129.926, 129.993, 130.004, 130.017, 130.103, 130.111, 130.122, 130.213, 130.318, 130.326, 130.342, 130.449, 130.465, 130.586])], 'ratemap_spiketrains_pos': [array([[138.871, 67.4845, 65.8152, 65.7414, 65.637, 58.1358, 59.1069, 199.299, 201.399, 202.252, 220.428, 220.788, 222.798, 224.548, 229.344, 258.566, 219.836, 218.782, 209.037, 207.275, 180.103, 181.788, 184.531, 189.582, 194.197, 198.944, 204.463, 205.813, 211.618, 214.601, 218.207, 220.168, 220.374, 220.42, 221.888, 222.147, 225.595, 237.106, 234.648, 232.8, 231.359, 231.294, 241.751, 241.716, 240.371, 256.116, 257.191, 253.326, 252.844, 242.423, 242.324],\n",
      "       [139.984, 140.679, 140.108, 140.122, 140.141, 142.045, 141.907, 140.789, 140.863, 140.893, 140.226, 140.22, 140.19, 140.164, 140.363, 138.882, 144.795, 144.396, 140.705, 140.117, 142.176, 143.234, 140.828, 140.424, 140.054, 139.682, 139.255, 139.151, 140.228, 139.933, 139.908, 139.947, 139.951, 139.952, 139.981, 139.986, 140.055, 143.359, 142.055, 141.638, 141.554, 141.551, 130.072, 130.1, 131.181, 136.528, 133.975, 137.034, 137.002, 135.84, 135.831]]), array([[105.323, 105.01, 104.948, 104.877, 104.286, 104.065, 104.008, 103.926, 103.657, 88.5931, 55.6326, 52.6014, 75.9781, 86.5745, 86.7149, 86.8834, 99.1654, 103.786, 114.286, 120.025, 194.741, 216.438, 181.214, 170.445, 136.471, 128.34, 128.214, 127.895, 127.578, 122.645, 122.535, 122.442, 120.543, 118.781, 118.341, 116.923, 116.64, 115.696, 115.006, 114.799, 114.105, 113.398, 112.175, 110.751, 109.892, 108.138, 106.987, 106.364, 100.889, 99.5675, 99.032, 97.5918, 97.4048, 96.7612, 93.6224, 89.204, 88.7124, 85.0908, 84.1637, 83.2363, 58.0576, 73.503, 73.7518, 73.8956, 115.243, 126.194],\n",
      "       [140.109, 140.285, 140.302, 140.323, 140.474, 140.512, 140.522, 140.536, 140.579, 140.89, 144.401, 135.274, 144.3, 143.315, 143.302, 143.286, 141.368, 141.533, 141.898, 142.091, 140.504, 143.508, 142.021, 137.146, 140.435, 140.9, 140.907, 140.926, 140.944, 141.059, 141.059, 141.058, 141.049, 141.041, 141.039, 141.033, 141.031, 141.027, 141.024, 141.023, 141.02, 141.016, 141.011, 141.004, 141, 140.992, 140.987, 140.984, 140.959, 140.953, 140.95, 140.944, 140.943, 140.94, 140.726, 141.347, 141.366, 141.515, 141.554, 141.592, 142.701, 144.009, 144.004, 144.001, 143.15, 141.631]]), array([[47.4845],\n",
      "       [138.799]]), array([[220.466, 198.241, 197.485, 197.432, 197.387, 197.342, 196.23, 196.129, 194.581, 193.207, 191.364, 189.289, 189.203, 187.634, 53.8249, 59.2177, 52.071, 63.0714, 63.1102, 113.56, 118.529, 121.543, 126.396, 129.438, 176.5, 176.641, 182.595, 193.045, 193.76, 197.106, 201.138, 214.574, 214.77, 219.406, 219.597, 227.037, 211.624, 211.469, 209.051, 207.741, 207.622, 207.542, 179.877, 100.938, 100.476, 100.231, 100.093, 90.6373, 91.3943, 91.6237, 93.1686, 93.2505, 93.3428, 94.9578, 87.3254, 87.2596, 75.2211, 75.3054, 116.136, 117.993, 124.258, 127.65, 130.188, 159.611, 179.382, 202.721, 202.813, 210.334, 213.377, 213.415, 213.561, 214.739, 214.798, 223.432, 223.498, 223.561, 233.793, 225.767, 225.708, 239.25, 253.863, 238.474],\n",
      "       [140.686, 138.859, 138.849, 138.848, 138.848, 138.847, 138.832, 138.831, 138.811, 138.793, 138.769, 138.741, 138.74, 138.72, 141.285, 147.171, 135.64, 143.854, 143.837, 141.873, 142.046, 142.072, 141.476, 141.701, 141.338, 141.337, 140.564, 140.256, 140.365, 140.708, 140.854, 140.315, 140.312, 140.241, 140.239, 140.546, 141.685, 141.626, 140.71, 140.197, 140.153, 140.133, 143.032, 140.959, 140.957, 140.956, 140.955, 138.073, 138.248, 138.301, 138.663, 138.682, 138.703, 138.945, 141.423, 141.426, 143.973, 143.972, 143.131, 143.093, 141.779, 141.527, 141.577, 142.528, 141.241, 139.39, 139.383, 139.57, 140.951, 140.928, 140.839, 139.896, 139.88, 140.012, 140.013, 140.015, 141.737, 142.374, 142.441, 145.872, 147.271, 135.469]]), array([[58.0207, 58.2116, 59.8455, 97.9234, 98.2967, 98.3991, 99.3532, 99.8315, 109.614, 179.861, 170.422, 116.302, 112.429, 110.541, 108.58, 108.523, 108.448, 86.1046, 84.5881, 84.5452, 111.412, 111.756, 111.974, 113.632, 114.05, 114.183, 115.717, 116.927, 119.362, 217.553, 217.665, 217.715],\n",
      "       [135.143, 135.005, 133.824, 141.308, 141.33, 141.336, 141.376, 141.395, 141.736, 143.349, 137.132, 141.03, 141.012, 141.003, 140.994, 140.994, 140.994, 141.474, 141.536, 141.538, 143.229, 143.221, 143.217, 143.183, 143.174, 143.172, 143.14, 143.115, 143.012, 139.895, 139.897, 139.898]]), array([[151.067, 148.625, 139.295, 161.314, 171.996, 255.882, 255.855, 253.304, 253.128, 252.303, 158.955, 155.535, 154.954, 154.11, 153.109, 152.997, 151.023, 150.737, 139.661, 137.593, 163.185, 237.231, 231.828, 260.939, 260.974, 255.488, 255.567, 258.17, 259.127, 257.647, 255.946, 255.87, 255.089, 253.48, 249.193],\n",
      "       [139.715, 139.769, 139.974, 141.183, 141.296, 136.163, 136.2, 136.84, 136.831, 136.788, 139.036, 139.343, 139.376, 139.425, 139.482, 139.488, 139.601, 139.618, 140.252, 140.37, 142.232, 143.427, 149.608, 143.693, 143.807, 141.671, 141.697, 142.717, 143.13, 143.047, 134.37, 137.169, 137.128, 137.043, 136.478]]), array([[153.443, 152.662, 152.088, 151.981, 151.665, 134.856, 106.267, 150.452, 156.776, 157.634, 160.81, 160.9, 167.975, 168.092, 171.033, 171.776, 172.322, 175.112, 180.131, 225.63, 256.418, 256.347, 255.97, 256.882, 252.028, 251.861, 246.3, 211.176, 183.201, 179.305, 179.383, 171.181, 171.068, 171.018, 158.984, 158.711, 155.652, 155.304, 151.386, 149.636, 144.882, 138.34, 131.746, 130.701, 87.8021, 74.4158, 151.663, 162.929, 163.559, 245.17, 245.257, 245.393, 246.167, 246.188, 237.221, 239.214, 239.687, 242.109, 241.998, 241.967, 241.901, 240.993, 240.965, 240.914, 240.836, 244.121, 248.52, 248.616, 248.829, 246.544, 246.416, 246.363, 260.741, 260.751, 260.73, 261.027, 261.078, 261.101, 255.354, 255.79, 256.049, 256.356, 256.942, 257.914, 257.975, 258.059, 258.836, 259.029, 258.771, 257.762, 255.816, 257.005, 257.079, 257.312, 255.627, 255.293, 254.913, 254.912, 256.405, 256.462, 257.522, 257.366, 257.682, 256.385, 254.123, 253.178, 252.669, 252.102, 249.534, 238.175],\n",
      "       [139.663, 139.68, 139.693, 139.695, 139.702, 140.072, 139.448, 141.5, 141.589, 141.452, 141.2, 141.197, 141.237, 141.239, 141.282, 141.292, 141.3, 141.34, 140.95, 140.164, 135.883, 135.9, 136.069, 137.102, 136.774, 136.766, 136.48, 141.515, 140.427, 143.165, 143.186, 137.577, 137.51, 137.481, 139.029, 139.087, 139.336, 139.356, 139.581, 139.681, 139.953, 140.328, 140.705, 140.765, 141.403, 143.99, 142.81, 142.253, 142.207, 145.932, 145.895, 145.839, 143.528, 143.407, 132.496, 133.247, 132.995, 129.784, 129.873, 129.898, 129.951, 130.681, 130.704, 130.744, 130.807, 136.479, 140.633, 140.578, 140.458, 141.239, 141.271, 141.285, 146.061, 143.547, 143.509, 144.008, 144.207, 144.297, 141.626, 141.772, 141.872, 141.993, 142.227, 142.615, 142.639, 142.672, 142.994, 143.083, 143.322, 143.078, 136.488, 135.753, 135.643, 135.317, 134.808, 135.257, 135.875, 135.902, 136.367, 136.355, 136.368, 136.473, 137.092, 137.193, 137.077, 137.026, 136.987, 136.886, 136.51, 135.441]]), array([[69.1277, 65.3283, 64.1777, 63.8838, 62.01, 61.9541, 246.451, 145.197],\n",
      "       [140.95, 140.193, 140.543, 140.55, 140.294, 140.293, 136.487, 142.61]]), array([[184.909, 185.062, 185.358, 185.662, 186.024, 186.341, 186.699, 187.864, 188.741, 189.674, 192.369, 203.045, 179.185, 182.056, 177.414, 177.576, 182.577, 183.215, 183.357, 183.814, 186.686, 187.676, 188.517, 188.782, 190.972, 191.343, 193.064, 200.12, 201.016, 204.235],\n",
      "       [140.258, 140.247, 140.225, 140.203, 140.176, 140.163, 140.151, 140.123, 140.109, 140.096, 140.184, 140.921, 143.133, 143.668, 141.4, 141.387, 140.985, 140.934, 140.922, 140.886, 140.656, 140.577, 140.509, 140.488, 140.313, 140.283, 140.145, 139.591, 139.522, 139.273]]), array([[211.392, 211.464, 211.736, 211.831, 212.922, 213.536, 213.671, 213.811, 214.005, 216.238, 199.521, 205.407, 207.629, 208.014, 208.415, 209.659, 209.724, 210.854, 210.889, 210.95, 212.188, 212.283, 212.421, 212.514, 213.735, 213.955, 214.123, 215.06, 216.283, 216.505, 216.619, 217.68, 221.037, 221.322, 222.107, 222.511, 233.861, 233.844, 233.826, 233.699, 233.526, 232.834, 232.745, 232.207, 231.438, 231.807, 234.773, 242.772, 238.931],\n",
      "       [140.369, 140.367, 140.36, 140.357, 140.34, 140.331, 140.329, 140.326, 140.323, 140.29, 139.637, 139.182, 139.016, 138.998, 138.995, 139.244, 139.271, 139.837, 139.854, 139.886, 140.52, 140.569, 140.64, 140.688, 140.725, 140.461, 140.272, 139.854, 139.869, 139.874, 139.876, 139.897, 139.964, 139.97, 139.986, 139.994, 130.839, 130.778, 130.56, 131.637, 131.596, 131.421, 131.398, 131.26, 131.148, 132.003, 131.759, 129.42, 135.512]]), array([[198.226, 152.496, 149.001, 201.174, 214.791, 227.027, 221.028, 151.343, 120.143, 179.431, 248.209, 238.463],\n",
      "       [138.859, 139.684, 139.761, 140.855, 140.312, 140.55, 145.246, 139.583, 142.812, 141.237, 136.385, 135.468]]), array([[193.76, 220.561, 100.939, 100.477, 100.231, 100.094, 90.6369, 91.3939, 233.091, 233.177, 234.657, 234.701, 243.992, 244.807, 244.894, 245.053, 245.874, 245.211, 245.133, 244.955, 244.85],\n",
      "       [140.365, 145.07, 140.959, 140.957, 140.956, 140.955, 138.073, 138.248, 145.81, 145.886, 147.191, 147.229, 146.424, 146.083, 146.047, 145.981, 145.629, 144.698, 144.698, 144.697, 144.697]]), array([[198.241, 197.485, 197.432, 197.388, 197.342, 196.23, 196.188, 196.129, 196.079, 196.031, 195.842, 195.7, 195.64, 195.545, 195.457, 195.347, 195.027, 194.926, 194.77, 194.581, 194.447, 194.374, 194.2, 194.073, 193.931, 193.817, 193.583, 193.208, 193.105, 192.94, 192.765, 192.577, 192.427, 192.311, 192.181, 192.08, 191.364, 191.228, 191.098, 190.82, 190.683, 189.29, 189.203, 187.635, 59.2173, 63.1099, 73.768, 176.5, 176.64, 182.595, 193.044, 197.106, 201.137, 214.573, 214.77, 214.858, 219.405, 219.596, 227.037, 211.624, 211.521, 211.469, 209.051, 208.997, 208.959, 207.741, 207.622, 207.542, 180.114, 179.979, 179.878, 87.3888, 87.3258, 87.26, 75.2203, 75.3046, 75.4272, 116.136, 159.61, 179.381, 179.585, 202.72, 202.813, 210.23, 210.334, 213.376, 213.415, 213.561, 214.739, 214.798, 214.933, 223.431, 223.498, 223.56, 233.794, 225.767, 225.708, 239.249, 252.271, 252.333, 252.41, 252.471, 252.541, 252.646, 252.743, 252.826, 252.945, 253.094, 253.863, 253.909, 238.474],\n",
      "       [138.859, 138.849, 138.848, 138.848, 138.847, 138.832, 138.832, 138.831, 138.83, 138.83, 138.827, 138.826, 138.825, 138.823, 138.822, 138.821, 138.817, 138.815, 138.813, 138.811, 138.809, 138.808, 138.806, 138.804, 138.802, 138.801, 138.798, 138.793, 138.791, 138.789, 138.787, 138.785, 138.783, 138.781, 138.779, 138.778, 138.769, 138.767, 138.765, 138.762, 138.76, 138.741, 138.74, 138.72, 147.171, 143.837, 144.506, 141.338, 141.337, 140.564, 140.256, 140.708, 140.854, 140.315, 140.312, 140.311, 140.241, 140.239, 140.545, 141.685, 141.645, 141.626, 140.71, 140.69, 140.675, 140.197, 140.153, 140.133, 143.171, 143.092, 143.032, 141.421, 141.423, 141.426, 143.973, 143.972, 143.969, 143.131, 142.528, 141.241, 141.225, 139.39, 139.383, 139.517, 139.57, 140.951, 140.928, 140.839, 139.896, 139.88, 139.856, 140.012, 140.013, 140.015, 141.737, 142.374, 142.441, 145.871, 146.58, 146.586, 146.593, 146.599, 146.606, 146.625, 146.646, 146.664, 146.69, 146.723, 147.271, 147.316, 135.469]]), array([[232.846, 234.58, 234.86, 234.891, 234.962, 230.913, 230.292, 229.492, 228.661, 227.405, 226.693, 224.262, 223.755, 58.2304, 58.1617, 59.2742, 51.1038, 48.4036, 48.3297, 48.2892, 49.2643, 52.8104, 52.879, 59.6354, 59.8328, 64.3883, 52.2724, 52.1594, 44.3426, 244.986, 244.705, 244.611, 244.415, 244.289, 239.333, 239.148, 238.958, 238.875, 237.037, 236.933, 224.326, 224.25, 222.683, 222.757, 222.936, 221.741, 221.684, 220.502, 217.823, 217.288, 217.257, 217.217, 217.124, 54.0945, 243.028, 242.871, 238.621, 234.789, 233.282, 233.147, 233.035, 232.955, 232.453, 232.345, 232.24, 232.084, 232.019, 231.854, 231.652, 231.404, 231.099, 231.05, 230.97, 230.845, 230.802, 230.741, 230.67, 230.588, 230.51, 230.325, 230.263, 230.197, 230.134, 233.641, 236.915, 237.116, 237.68, 237.688, 241.605, 238.47, 247.374, 247.616, 247.455, 242.888, 242.836, 242.707, 242.632, 241.577, 240.383, 240.297, 239.28, 233.299],\n",
      "       [149.628, 148.75, 148.587, 148.565, 148.516, 143.276, 143.041, 142.75, 142.468, 141.98, 141.081, 139.668, 139.749, 141.683, 141.672, 147.215, 141.931, 142.635, 142.653, 142.654, 141.476, 138.909, 138.86, 133.976, 133.833, 139.08, 135.501, 135.579, 139.116, 136.412, 136.398, 136.393, 136.383, 136.376, 136.121, 136.112, 136.102, 136.098, 136.003, 135.998, 140.298, 140.302, 148.81, 148.896, 149.085, 145.516, 145.495, 145.047, 144.033, 143.83, 143.818, 143.803, 143.768, 140.936, 146.827, 143.891, 144.062, 142.119, 141.669, 141.659, 141.652, 141.647, 141.618, 141.611, 141.605, 141.596, 141.593, 141.583, 141.571, 141.557, 141.539, 141.536, 141.532, 141.525, 141.522, 141.519, 141.515, 141.51, 141.506, 141.497, 141.494, 141.491, 141.488, 132.083, 131.462, 131.515, 133.368, 133.358, 131.62, 132.709, 141.627, 136.329, 136.314, 135.884, 135.879, 135.867, 135.86, 135.761, 135.649, 135.64, 135.545, 134.982]]), array([[220.467, 194.289, 192.854, 190.569, 185.671, 160.247, 158.75, 158.038, 156.997, 154.034, 64.6056, 52.5359, 62.9534, 92.9773, 93.0722, 93.1919, 93.9458, 94.195, 129.441, 140.117, 151.427, 157.397, 161.496, 171.745, 172.082, 172.329, 174.959, 175.232, 175.529, 179.901, 180.399, 180.684, 223.942, 255.118, 223.212, 211.245, 183.205, 183.176, 181.983, 181.934, 181.857, 179.34, 179.452, 179.696, 171.043, 170.897, 153.807, 100.839, 100.793, 91.6232, 93.1681, 93.2501, 93.3428, 93.4355, 93.5142, 93.6339, 94.4037, 94.9578, 87.6807, 87.6356, 74.3559, 74.4915, 115.448, 117.993, 120.006, 122.197, 124.259, 144.204, 144.636, 151.961, 163.826, 164.23, 177.857, 178.499, 232.837, 234.963, 234.994, 239.704, 255.556, 256.273],\n",
      "       [140.686, 138.807, 138.788, 138.758, 138.694, 139.513, 139.546, 139.562, 139.585, 139.65, 139.003, 135.319, 143.905, 141.17, 141.15, 141.126, 140.981, 140.941, 141.701, 142.357, 141.455, 141.49, 141.177, 141.292, 141.297, 141.3, 141.338, 141.341, 141.345, 140.985, 140.909, 140.865, 140.173, 136.965, 140.389, 141.541, 140.42, 140.474, 141.977, 141.971, 141.961, 143.175, 143.205, 142.925, 137.495, 137.409, 139.442, 140.959, 140.958, 138.301, 138.663, 138.682, 138.703, 138.725, 138.743, 138.771, 138.933, 138.945, 141.409, 141.41, 143.991, 143.988, 143.145, 143.093, 142.863, 142.016, 141.779, 142.579, 142.592, 142.818, 142.192, 142.168, 141.364, 141.312, 145.586, 147.46, 147.488, 146.22, 144.188, 136.5]]), array([[237.197, 237.132, 237.088, 236.99, 231.576, 234.082, 233.068, 233.364, 237.677, 237.663, 237.615, 237.079, 237.804, 237.432, 236.915, 243.018, 242.93, 242.715, 242.675, 241.567, 241.454, 240.755, 239.207, 237.66, 237.634, 237.317, 235.929, 235.56, 234.82, 234.788, 233.702, 233.655],\n",
      "       [136.011, 136.008, 136.006, 136.001, 141.567, 131.56, 131.484, 132.143, 131.707, 132.471, 132.474, 133.343, 133.245, 133.543, 133.96, 135.896, 135.888, 135.868, 135.864, 135.76, 135.749, 135.684, 135.538, 135.392, 135.39, 135.36, 135.229, 135.195, 135.125, 135.122, 135.02, 135.015]]), array([[120.905, 120.791, 120.713, 120.009, 119.927, 119.55, 119.429, 119.342, 119.114, 118.982, 118.839, 118.642, 117.537, 117.299, 117.113, 116.581, 116.202, 115.991, 115.877, 115.776, 115.456, 115.386, 86.8658, 125.217, 125.815, 131.856, 131.996, 137.778, 138.564, 138.703, 139.101, 139.439, 144.684, 150.495, 216.392, 181.21, 170.634, 170.595, 170.516, 145.362, 145.043, 140.956, 137.108, 136.615, 128.966, 128.622, 128.475, 125.125, 124.563, 123.098, 122.908, 122.68, 122.439, 121.77, 120.819, 120.735, 119.806, 119.639, 119.493, 119.378, 119.169, 118.859, 118.77, 118.312, 117.056, 88.1479, 73.8323, 74.017, 74.0954, 115.154, 115.283, 126.212, 126.322, 126.685, 137.288, 137.739],\n",
      "       [140.325, 140.336, 140.343, 140.408, 140.416, 140.451, 140.462, 140.47, 140.491, 140.504, 140.517, 140.535, 140.637, 140.659, 140.674, 140.715, 140.729, 140.735, 140.738, 140.729, 140.692, 140.673, 143.288, 141.547, 141.501, 141.956, 141.971, 142.448, 142.431, 142.428, 142.419, 142.404, 141.975, 141.498, 143.49, 142.022, 137.255, 137.232, 137.187, 139.925, 139.944, 140.178, 140.398, 140.426, 140.865, 140.884, 140.893, 141.056, 141.065, 141.061, 141.06, 141.059, 141.058, 141.055, 141.051, 141.05, 141.046, 141.045, 141.045, 141.044, 141.043, 141.042, 141.041, 141.039, 141.033, 141.389, 144.002, 143.998, 143.996, 143.152, 143.149, 141.63, 141.622, 141.594, 142.363, 142.377]]), array([[116.73, 85.1198, 240.051],\n",
      "       [140.703, 143.77, 132.208]]), array([[60.1322, 170.474, 245.13, 241.789],\n",
      "       [143.559, 137.162, 145.948, 135.781]]), array([[234.881, 224.11, 187.58, 214.725, 245.931, 249.301, 254.946, 255.911, 256.804, 259.218, 256.838, 256.473, 256.522, 256.803, 256.241, 255.917, 251.78, 250.492, 246.768, 220.577, 220.446, 216.103, 214.699, 235.211, 235.298, 235.348, 240.463, 241.467, 241.61, 245.216, 246.159, 246.159, 244.03, 243.615, 231.924, 231.779, 231.539, 231.8, 231.824, 231.888, 232.314, 232.737, 233.964, 236.487, 236.841, 237.838, 237.973, 238.022, 237.338, 237.386, 237.465, 242.498, 242.542, 242.563, 242.493, 242.147, 242.074, 241.971, 241.456, 239.018, 238.944, 238.864, 238.756, 237.728, 237.817, 238.037, 239.407, 240.016, 242.128, 243.937, 244.928, 244.45, 245.761, 246.805, 246.917, 247.082, 247.284, 248.499, 246.335, 245.932, 242.333, 260.825, 260.629, 260.938, 260.986, 261.015, 261.286, 257.9, 258.074, 255.709, 255.674, 256.853, 257.544, 255.932, 257.162, 256.258, 253.649, 252.792, 252.347, 249.531, 247.606, 247.552],\n",
      "       [148.572, 139.692, 140.128, 140.313, 142.071, 140.685, 139.844, 139.964, 139.962, 138.387, 135.797, 136.91, 136.922, 137.935, 137.358, 137.17, 136.761, 136.695, 136.504, 145.075, 145.026, 143.381, 139.907, 147.679, 147.756, 147.8, 147.817, 147.478, 147.419, 145.912, 144.105, 143.788, 143.613, 143.735, 141.587, 141.579, 141.565, 149.678, 149.619, 149.457, 148.365, 147.399, 146.613, 131.415, 131.442, 131.765, 131.814, 131.831, 133.193, 133.216, 133.253, 130.09, 129.953, 129.89, 129.473, 129.753, 129.812, 129.894, 130.309, 132.268, 132.328, 132.393, 132.479, 135.261, 135.272, 135.298, 135.463, 135.536, 135.791, 136.299, 137.388, 144.64, 143.288, 142.213, 142.097, 141.927, 141.72, 140.645, 141.292, 141.168, 144.704, 146.016, 143.255, 143.692, 143.852, 143.963, 145.043, 142.609, 142.678, 141.879, 136.453, 135.982, 134.957, 134.389, 136.641, 137.187, 137.052, 136.998, 136.942, 136.509, 136.328, 136.323]]), array([[201.519, 188.221, 188.162, 163.952, 136.465, 135.045, 134.557, 134.343, 134.193, 132.348, 127.088, 117.047, 111.898, 104.011, 103.966, 103.886, 103.816, 103.346, 70.661, 70.224, 109.645, 110.676, 119.958, 125.415, 126.245, 131.987, 132.804, 138.658, 145.214, 149.336, 160.49, 165.647, 181.591, 214.633, 216.428, 183.155, 183.128, 181.827, 181.705, 179.94, 179.612, 173.903, 170.808, 154.639, 146.194, 145.761, 142.62, 142.285, 140.137, 138.978, 132.982, 129.557, 128.613, 127.079, 126.386, 125.891, 125.469, 124.174, 124.099, 121.52, 120.113, 119.8, 119.13, 117.618, 103.621, 103.045, 102.859, 102.234, 102.14, 102.033, 101.334, 100.025, 97.8525, 97.3935, 97.3009, 97.1588, 91.1196, 92.3297, 92.4076, 92.727, 94.2933, 88.0456, 87.9879, 86.7652, 65.7259, 58.2425, 73.655, 73.9611, 74.0788, 81.0115, 81.1673, 81.2876, 112.306, 115.156, 118.419, 125.998, 132.211, 136.832, 137.45, 137.77, 138.653, 162.224, 243.961, 246.428, 252.301, 236.092, 234.301, 233.929],\n",
      "       [138.893, 138.727, 138.727, 139.432, 140.037, 140.068, 140.079, 140.083, 140.087, 140.127, 140.149, 140.679, 139.761, 140.521, 140.529, 140.543, 140.554, 140.629, 140.947, 140.948, 141.737, 141.773, 142.089, 141.532, 141.469, 141.97, 142.056, 142.429, 141.928, 141.574, 141.21, 141.203, 140.72, 140.314, 143.504, 140.512, 140.562, 141.957, 141.96, 142.194, 143.261, 139.203, 137.356, 139.394, 139.878, 139.903, 140.083, 140.102, 140.225, 140.291, 140.635, 140.831, 140.885, 140.971, 141.007, 141.03, 141.047, 141.066, 141.065, 141.054, 141.047, 141.046, 141.043, 141.036, 140.971, 140.969, 140.968, 140.965, 140.965, 140.964, 140.961, 140.955, 140.945, 140.943, 140.942, 140.942, 138.184, 138.466, 138.485, 138.559, 138.914, 141.393, 141.396, 141.446, 139.379, 142.793, 144.006, 143.999, 143.997, 143.854, 143.851, 143.848, 143.21, 143.151, 143.081, 141.646, 142.005, 142.349, 142.368, 142.378, 142.405, 142.31, 146.436, 141.986, 136.933, 135.245, 135.076, 135.041]]), array([[103.397, 127.261, 201.266, 244.697, 244.598, 241.884, 240.964, 240.904, 239.461, 237.496, 237.33, 237.136, 237.03, 150.158, 141.581, 103.437, 102.47, 99.2013, 92.5331, 94.3694, 73.8189, 112.067, 115.399, 150.514, 235.47, 236.227, 237.447, 237.617, 237.669, 238.683, 238.795, 238.219, 237.743, 237.193, 241.906, 242.474, 242.495, 237.838, 237.813, 237.68, 236.807, 236.686, 236.618, 236.14, 239.482, 241.562, 243.628, 244.439, 247.739, 247.688, 246.593, 246.493, 246.428, 245.333, 245.284, 245.206, 244.281, 244.248, 243.842, 243.549, 243.099, 243.017, 242.272, 242.175, 241.722, 241.296, 240.071, 239.645, 238.782, 237.667, 237.529, 237.418, 236.675, 235.364, 235.294, 234.233, 233.111],\n",
      "       [140.62, 141.517, 140.858, 136.397, 136.392, 136.252, 136.205, 136.202, 136.128, 136.027, 136.018, 136.008, 136.003, 139.651, 140.142, 140.971, 140.966, 140.951, 138.514, 138.927, 144.002, 143.215, 143.147, 142.775, 131.554, 131.42, 131.624, 131.685, 131.704, 132.073, 132.114, 132.43, 132.466, 133.379, 131.332, 130.166, 130.1, 133.218, 133.238, 133.345, 134.046, 134.144, 134.198, 134.597, 135.472, 135.722, 136.098, 136.824, 136.341, 136.336, 136.233, 136.223, 136.217, 136.114, 136.11, 136.102, 136.015, 136.012, 135.974, 135.946, 135.904, 135.896, 135.826, 135.817, 135.775, 135.734, 135.619, 135.579, 135.498, 135.393, 135.38, 135.37, 135.3, 135.176, 135.17, 135.07, 134.964]]), array([[124.828, 124.75, 124.678, 117.777, 117.715, 44.0385, 145.807, 145.945, 146.156, 146.497, 146.727, 146.898, 147.092, 147.278, 147.513, 147.746, 147.931, 148.111, 148.328, 148.5, 148.723, 149.042, 149.24, 149.604, 151.238, 151.46, 151.691, 153.43, 153.891, 145.184, 145.039, 132.767, 132.654, 132.569, 124.787, 124.742, 119.906, 126.663, 126.785, 130.644, 131.269, 131.388, 131.719, 131.827, 132.147, 133.832, 134.019, 134.138, 136.514, 136.791, 136.996, 138.466, 138.572, 138.693, 139.549, 139.688, 142.456, 142.592, 142.723, 145.338, 145.471, 145.582, 149.256],\n",
      "       [139.996, 140, 140.003, 140.615, 140.621, 139.213, 141.877, 141.865, 141.846, 141.817, 141.797, 141.782, 141.765, 141.748, 141.728, 141.708, 141.692, 141.676, 141.657, 141.642, 141.624, 141.598, 141.581, 141.551, 141.464, 141.456, 141.466, 141.583, 139.437, 139.936, 139.944, 140.647, 140.653, 140.658, 141.063, 141.063, 141.046, 141.596, 141.587, 141.649, 141.805, 141.835, 141.916, 141.936, 141.993, 142.214, 142.228, 142.237, 142.339, 142.347, 142.354, 142.4, 142.403, 142.407, 142.433, 142.438, 142.524, 142.528, 142.532, 142.614, 142.618, 142.622, 142.736]]), array([[221.988, 63.9867, 63.8999, 58.145, 59.7716, 53.7603, 60.8706, 63.3761, 62.353, 61.9328, 52.7836, 50.875, 63.2013, 77.4143, 142.262, 183.902, 219.776, 240.887, 237.826, 216.14, 210.49, 180.626, 110.755, 95.6904, 54.3343, 164.83, 211.54, 216.071, 217.968, 238.368, 236.084, 237.395, 241.193, 245.636, 242.884, 242.167],\n",
      "       [140.248, 140.548, 140.55, 142.039, 147.94, 141.332, 133.112, 139.423, 139.767, 139.909, 135.149, 136.463, 142.16, 144.167, 142.186, 140.378, 140.236, 136.201, 136.044, 143.395, 141.255, 143.28, 141.004, 140.936, 141.415, 142.133, 140.188, 139.865, 139.903, 143.975, 142.799, 135.221, 135.678, 136.143, 135.884, 135.816]]), array([[233.509, 174.272, 174.212, 172.774, 172.698, 186.788, 256.639, 256.603, 254.612, 181.247, 169.326, 110.003, 77.6744, 236.556, 236.704, 236.873, 239.021, 240.346, 242.031, 237.773, 232.776, 240.947, 237.427, 238.163, 240.041, 244.696, 244.634, 244.248],\n",
      "       [149.317, 138.545, 138.544, 138.525, 138.524, 140.148, 137.72, 137.673, 136.912, 142.017, 135.949, 141.001, 141.796, 147.609, 147.195, 146.897, 147.196, 147.813, 144.014, 143.704, 147.359, 132.926, 143.749, 144.702, 146.311, 144.697, 144.696, 144.695]]), array([[112.763, 111.272, 110.48, 89.1145, 88.9679, 88.8873, 58.8721, 58.9374, 52.6275, 52.568, 44.6708, 59.9761, 86.6873, 86.8045, 104.295, 109.564, 114.682, 124.085, 125.13, 130.991, 216.489, 216.406, 212.454, 181.58, 181.429, 179.742, 179.862, 170.549, 170.496, 170.354, 153.676, 144.558, 136.504, 136.272, 132.48, 132.204, 128.76, 128.628, 128.39, 124.342, 120.325, 118.39, 117.036, 115.713, 115.189, 113.725, 88.3214, 88.1807, 88.0946, 57.7532, 73.6252, 73.8851, 112.206, 112.984, 114.919, 125.912, 126.678, 138.73, 238.28],\n",
      "       [139.797, 139.743, 139.757, 140.889, 140.889, 140.889, 134.527, 134.48, 135.256, 135.297, 139.065, 144.087, 143.304, 143.294, 141.551, 141.734, 141.912, 141.696, 141.554, 141.865, 143.527, 143.496, 141.999, 141.975, 141.994, 143.307, 143.349, 137.206, 137.175, 137.093, 139.449, 139.972, 140.433, 140.446, 140.663, 140.679, 140.876, 140.884, 140.897, 141.066, 141.048, 141.039, 141.033, 141.027, 141.025, 141.018, 141.382, 141.388, 141.391, 142.55, 144.006, 144.001, 143.212, 143.196, 143.156, 141.653, 141.595, 142.408, 131.925]]), array([[232.668, 59.2152, 57.8706, 228.816, 243.953, 238.658, 220.405, 211.445, 178.699, 99.5412, 79.9433, 68.5943, 178.889, 236.111, 235.047, 231.742, 237.74, 237.673, 241.804, 237.565, 236.468, 247.503],\n",
      "       [144.012, 147.169, 135.251, 140.086, 136.359, 136.087, 145.01, 141.617, 142.317, 140.953, 141.728, 139.153, 141.28, 142.814, 142.243, 149.825, 132.466, 133.351, 131.461, 133.437, 135.099, 136.318]]), array([[110.881, 89.5221, 89.4641, 86.0933, 58.8733, 60.4272, 56.0174, 58.369, 53.6659, 59.5372, 76.6398, 76.7563, 86.1804, 103.59, 108.394, 108.624, 172.929, 182.646, 216.417, 179.878, 170.284, 127.596, 126.934, 114.747, 114.226, 114.167, 110.487, 110.316, 108.498, 102.525, 102.448, 98.443, 91.5894, 91.8506, 86.1906, 86.1215, 85.8377, 83.2312, 70.7627, 69.431, 65.7047, 57.4833, 63.6113, 72.9691, 73.4055, 80.2365, 112.056, 196.687, 239.076, 242.054, 246.525, 238.081, 237.947, 237.864],\n",
      "       [139.746, 140.887, 140.887, 140.898, 141.583, 143.707, 141.474, 146.515, 138.291, 144.327, 144.239, 144.228, 143.352, 141.526, 141.693, 141.701, 141.309, 140.556, 143.5, 143.355, 137.053, 140.943, 140.979, 141.023, 141.02, 141.02, 141.003, 141.002, 140.994, 140.966, 140.966, 140.948, 138.293, 138.354, 141.47, 141.473, 141.485, 141.592, 138.983, 139.088, 139.38, 142.449, 143.571, 144.02, 144.011, 143.87, 143.215, 139.857, 132.648, 129.828, 136.226, 135.432, 135.419, 135.411]]), array([[234.327, 234.777, 234.859, 234.881, 234.955, 111.212, 69.3146, 69.0427, 68.4601, 60.5954, 58.2707, 51.3938, 59.2767, 50.9626, 52.204, 52.7349, 52.8096, 52.9908, 58.5509, 64.6681, 64.5095, 64.3891, 64.3775, 64.3083, 62.6804, 62.63, 61.669, 59.6966, 52.3193, 52.2687, 44.7196, 62.8522, 76.9656, 81.8167, 81.8799, 114.384, 246.586, 249.071, 250.885, 251.794, 252.492, 249.56, 249.226, 246.752, 244.595, 244.214, 239.732, 239.455, 239.328, 239.195, 237.028, 236.985, 222.763, 222.972, 221.676, 221.507, 221.35, 220.817, 220.432, 219.492, 119.026, 117.306, 101.739, 101.684, 101.447, 100.906, 100.845, 100.65, 100.089, 91.065, 76.9966, 70.8395, 66.0327, 62.4687, 62.3593, 61.1148, 60.0333, 60.0031, 54.1379, 233.502, 233.596, 233.635, 235.244, 235.356, 235.461, 241.567, 241.608, 241.662, 243.029, 245.253, 245.476, 246.255, 245.583, 243.657, 243.26, 243.184, 241.132, 240.968, 240.821, 238.714, 238.582, 238.403, 238.242, 237.098, 231.685, 231.425, 231.719, 231.732, 231.811, 231.893, 233.84, 234.025, 236.378, 236.496, 236.708, 236.895, 237.975, 238.467, 238.802, 236.987, 236.966, 237.439, 237.499, 237.594, 237.722, 241.418, 241.605, 241.814, 242.596, 240.362, 238.488, 237.865, 237.434, 236.599, 236.44, 236.344, 237.617, 237.723, 238.932, 240.982, 241.582, 242.485, 243.404, 244.393, 244.488, 245.542, 241.216, 245.69, 245.924, 246.617, 247.091, 248.542, 248.433, 248.172, 248.014, 245.399, 244.934, 242.542, 242.344, 252.313, 252.266, 252.173, 250.054, 250.003, 247.811, 246.467, 245.461, 245.403, 245.301, 245.217, 245.045, 244.356, 242.922, 241.977, 241.566, 240.415, 240.239, 235.326, 233.093],\n",
      "       [148.89, 148.639, 148.587, 148.572, 148.521, 139.742, 140.951, 140.949, 140.933, 140.606, 141.69, 141.076, 147.217, 141.966, 139.348, 138.964, 138.91, 138.779, 134.759, 138.98, 139.037, 139.08, 139.084, 139.108, 139.657, 139.674, 139.998, 140.718, 135.469, 135.503, 139.075, 143.95, 144.208, 143.757, 143.751, 141.902, 141.77, 140.776, 140.053, 139.702, 136.798, 136.647, 136.63, 136.503, 136.392, 136.372, 136.142, 136.128, 136.121, 136.114, 136.003, 136.001, 148.903, 149.067, 145.492, 145.428, 145.368, 145.167, 145.021, 144.665, 141.042, 141.034, 140.963, 140.962, 140.961, 140.959, 140.959, 140.958, 140.955, 138.171, 141.806, 138.977, 139.355, 139.635, 139.643, 139.741, 139.826, 139.828, 140.893, 146.173, 146.255, 146.289, 147.709, 147.807, 147.898, 147.437, 147.42, 147.397, 146.826, 145.897, 145.804, 145.244, 142.474, 143.723, 143.83, 143.842, 144.14, 144.162, 144.181, 144.094, 144.049, 143.987, 143.931, 143.354, 141.573, 141.558, 149.879, 149.849, 149.651, 149.446, 132.039, 131.999, 131.407, 131.415, 131.43, 131.457, 131.814, 131.993, 132.117, 132.507, 132.509, 133.24, 133.269, 133.314, 133.374, 131.741, 131.619, 131.448, 129.785, 131.188, 132.695, 133.196, 133.542, 134.214, 134.341, 134.421, 135.248, 135.26, 135.406, 135.653, 135.725, 135.835, 136.017, 136.772, 136.88, 138.108, 147.204, 143.362, 143.12, 142.406, 141.918, 140.506, 140.547, 140.645, 140.704, 141.288, 144.697, 144.696, 144.703, 136.936, 136.926, 136.907, 136.559, 136.554, 136.347, 136.221, 136.126, 136.121, 136.111, 136.103, 136.087, 136.022, 135.887, 135.799, 135.76, 135.651, 135.635, 135.173, 134.962]]), array([[184.331, 182.576, 85.8515, 61.0182, 83.8826, 99.6058, 101.55, 107.549, 115.191, 116.167, 116.841, 120.005, 120.125, 104.993, 105.309, 114.571, 114.877, 116.765, 117.03, 118.619, 123.229, 239.124, 261.519, 257.625],\n",
      "       [138.677, 138.654, 140.899, 133.026, 143.565, 141.386, 141.455, 141.664, 141.93, 141.964, 141.987, 142.09, 142.093, 143.361, 143.354, 143.164, 143.157, 143.118, 143.113, 143.074, 141.869, 132.184, 146.406, 142.499]]), array([[174.014, 95.142, 181.541, 181.888, 211.314, 120.159, 87.6087, 87.5522, 111.669, 144.787, 164.645, 238.378],\n",
      "       [138.541, 140.951, 140.728, 140.672, 141.567, 141.048, 141.411, 141.414, 143.223, 142.597, 142.143, 135.46]]), array([[243.364, 243.514, 244.153, 244.179, 244.442, 244.567, 244.741, 245.148, 245.365],\n",
      "       [136.004, 136.053, 136.511, 136.537, 136.827, 136.971, 137.171, 137.642, 137.896]]), array([[225.476, 223.484, 221.904, 219.32, 164.495, 81.2273, 90.0511, 224.353, 227.257, 227.659, 256.333, 255.598, 252.174, 245.074, 240.214],\n",
      "       [139.914, 139.82, 140.272, 140.862, 139.42, 140.913, 142.992, 140.167, 140.242, 140.266, 139.989, 144.233, 136.907, 136.09, 135.633]]), array([[189.925, 179.035, 179.001, 178.861, 178.396, 178.345, 178.24, 178.178, 177.959, 177.897, 177.801, 177.689, 177.553, 177.313, 177.142, 177.033, 176.926, 176.49, 176.298, 176.174, 175.809, 175.719, 175.457, 175.177, 174.228, 173.449, 172.598, 172.446, 172.119, 171.329, 170.668, 170.547, 170.284, 169.931, 169.741, 168.324, 168.044, 167.497, 63.0167, 112.404, 112.599, 115.252, 115.36, 152.067, 162.051, 176.007, 176.219, 181.587, 190.871, 191.135, 191.351, 196.155, 199.813, 200.335, 200.788, 216.559, 211.452, 211.395, 208.86, 183.452, 183.383, 183.325, 182.558, 182.508, 182.495, 182.486, 180.331, 178.501, 178.944, 179.736, 182.249, 182.591, 178.952, 178.895, 178.801, 178.758, 172.765, 171.771, 157.678, 87.5863, 87.5258, 87.462, 74.493, 74.6192, 74.7743, 74.8793, 115.689, 115.991, 122.906, 144.729, 145.006, 145.226, 164.835, 178.448, 178.851, 179.326, 190.359, 190.496, 190.957, 223.373, 223.517, 223.582, 238.391, 238.297, 236.003],\n",
      "       [138.75, 138.607, 138.607, 138.605, 138.599, 138.598, 138.597, 138.596, 138.593, 138.592, 138.591, 138.589, 138.588, 138.585, 138.582, 138.581, 138.579, 138.574, 138.571, 138.57, 138.565, 138.564, 138.56, 138.557, 138.544, 138.534, 138.523, 138.521, 138.516, 138.513, 138.652, 138.711, 138.85, 139.042, 139.093, 139.315, 139.334, 139.35, 143.878, 141.833, 141.839, 141.932, 141.935, 141.483, 141.167, 141.343, 141.341, 140.721, 140.095, 140.102, 140.108, 140.651, 140.807, 140.825, 140.841, 143.554, 141.619, 141.598, 140.638, 140.004, 140.115, 140.21, 141.753, 141.927, 142.01, 142.139, 142.147, 142.892, 143.067, 143.305, 144.173, 145.334, 142.478, 142.442, 142.383, 142.355, 138.516, 137.927, 139.204, 141.412, 141.415, 141.418, 143.988, 143.986, 143.983, 143.98, 143.141, 143.134, 141.915, 142.595, 142.604, 142.611, 142.132, 141.316, 141.283, 141.245, 140.362, 140.351, 140.314, 140.011, 140.014, 140.015, 135.461, 135.452, 135.236]]), array([[137.456, 67.7548, 67.6446, 61.5883, 60.0549, 114.019, 114.178, 118.101, 118.27, 153.366, 153.506, 153.625, 187.329, 187.511, 196.444, 246.872, 239.763, 179.693, 179.792, 154.105, 132.784, 236.912, 236.972, 246.309, 241.766, 238.929, 238.837, 238.526, 235.28, 233.619, 233.572, 233.526, 233.459, 233.056, 231.746, 232.364, 232.385, 232.686, 232.733, 232.846, 232.874, 236.88, 240.11, 242.49, 243.106, 243.417, 243.483, 246.24, 245.003, 242.544, 239.928],\n",
      "       [140.015, 140.798, 140.75, 140.296, 148.076, 141.889, 141.894, 142.031, 142.037, 141.577, 141.591, 141.604, 140.132, 140.129, 140.671, 141.655, 136.143, 143.29, 143.325, 139.425, 140.646, 146.842, 146.757, 140.289, 144.051, 144.169, 144.137, 144.029, 142.367, 141.71, 141.704, 141.697, 141.687, 141.653, 149.814, 148.227, 148.17, 147.474, 147.403, 147.289, 147.26, 131.453, 146.318, 146.639, 146.025, 145.705, 145.637, 142.795, 136.083, 135.852, 135.606]]), array([[220.122, 173.159, 173.107, 52.892, 96.2672, 168.265, 238.129, 216.911, 216.879, 216.34, 172.22, 78.296, 80.902, 210.197, 220.247, 220.287, 223.325, 225.017, 227.443, 227.747, 243.569, 234.1, 234.046, 231.088, 231.048, 234.481, 234.684, 242.45, 236.138, 241.551],\n",
      "       [140.775, 138.53, 138.529, 138.85, 141.138, 141.241, 136.059, 143.687, 143.675, 143.471, 138.193, 141.785, 143.856, 139.5, 139.948, 139.949, 140.01, 140.044, 140.094, 140.103, 143.747, 141.833, 141.816, 141.539, 141.536, 131.855, 131.788, 130.24, 134.599, 135.758]]), array([[255.684, 255.588, 254.131, 253.873, 259.136],\n",
      "       [137.088, 137.054, 136.883, 136.869, 143.137]]), array([[184.623, 173.05, 207.12, 220.42, 221.919, 224.839, 227.399],\n",
      "       [138.68, 138.529, 140.107, 139.952, 139.982, 140.04, 140.092]]), array([[58.8919, 134.869, 224.878, 230.931],\n",
      "       [134.513, 142.28, 140.041, 141.53]]), array([[68.6952, 60.2479, 44.9949, 44.9522, 169.452, 169.589, 169.721, 170.259, 172.729, 172.844, 177.066, 177.266, 177.529, 183.36, 183.6, 183.884, 203.151, 203.448, 204.068, 205.334, 205.949, 206.208, 206.421, 207.434, 209.675, 210.273, 212.969, 213.172, 216.775, 218.134, 221.275, 183.063, 181.751, 179.54, 179.598, 158.284, 158.143, 149.803, 149.574, 149.236, 139.366, 132.374, 143.911, 151.023, 151.42, 153.189, 155.242, 156.316, 156.769, 157.266, 157.743, 158.522, 166.563, 167.769, 169.165, 169.747, 172.575, 173.534, 173.834, 180.339, 182.957, 195.224, 196.532, 198.71, 199.205, 200.108, 200.406, 200.554, 201.78, 203.22, 203.322, 206.49, 206.632, 207.443, 208.849, 209.336, 209.519, 210.404, 210.532, 210.927, 211.977, 212.452, 212.712, 213.698, 213.833, 213.909, 214.268, 215.101, 215.246, 215.414, 216.506, 216.609, 216.751, 217.913, 219.279, 219.385, 219.586, 220.971, 221.175, 222.732],\n",
      "       [140.945, 133.534, 139.173, 139.158, 141.259, 141.261, 141.262, 141.27, 141.306, 141.308, 141.311, 141.298, 141.282, 140.448, 140.415, 140.381, 140.924, 140.935, 140.957, 140.998, 141.015, 141.016, 141.012, 140.975, 140.607, 140.493, 140.339, 140.336, 140.281, 140.261, 140.213, 140.682, 141.954, 143.236, 143.256, 139.147, 139.164, 139.671, 139.684, 139.704, 140.269, 142.034, 142.569, 142.79, 142.802, 142.843, 142.826, 142.774, 142.751, 142.714, 142.678, 142.619, 142.102, 142.103, 142.084, 142.062, 141.855, 141.758, 141.728, 141.164, 140.954, 139.973, 139.869, 139.7, 139.662, 139.592, 139.569, 139.557, 139.463, 139.351, 139.344, 139.099, 139.088, 139.027, 139.014, 139.119, 139.185, 139.606, 139.671, 139.874, 140.412, 140.656, 140.783, 140.756, 140.608, 140.516, 140.146, 139.853, 139.851, 139.852, 139.874, 139.876, 139.878, 139.902, 139.929, 139.931, 139.935, 139.963, 139.967, 139.998]])], '_save_intermediate_spikes_maps': True, '_included_thresh_neurons_indx': None, '_peak_frate_filter_function': None};>\n"
     ]
    },
    {
     "name": "stdin",
     "output_type": "stream",
     "text": [
      "ipdb>  self.params.active_epoch_placefields.ratemap\n"
     ]
    },
    {
     "name": "stdout",
     "output_type": "stream",
     "text": [
      "*** AttributeError: 'PfND_TimeDependent' object has no attribute 'curr_occupancy_weighted_tuning_maps_matrix'\n"
     ]
    },
    {
     "name": "stdin",
     "output_type": "stream",
     "text": [
      "ipdb>  self.params.active_epoch_placefields.reset()\n"
     ]
    },
    {
     "name": "stdout",
     "output_type": "stream",
     "text": [
      "*** AttributeError: 'PfND_TimeDependent' object has no attribute 'n_fragile_linear_neuron_IDXs'\n"
     ]
    }
   ],
   "source": [
    "%pdb \n",
    "# %pdb off\n",
    "from pyphoplacecellanalysis.GUI.PyVista.InteractivePlotter.InteractivePlaceCellTuningCurvesDataExplorer import InteractivePlaceCellTuningCurvesDataExplorer\n",
    "from pyphoplacecellanalysis.GUI.Qt.Mixins.Menus.ConnectionControlsMenuMixin import ConnectionControlsMenuMixin\n",
    "\n",
    "from pyphocorehelpers.gui.Qt.widget_positioning_helpers import WidgetPositioningHelpers\n",
    "from pyphoplacecellanalysis.General.Configs.DynamicConfigs import PlottingConfig, InteractivePlaceCellConfig\n",
    "from pyphocorehelpers.mixins.member_enumerating import AllFunctionEnumeratingMixin\n",
    "from pyphoplacecellanalysis.General.Pipeline.Stages.DisplayFunctions.DisplayFunctionRegistryHolder import DisplayFunctionRegistryHolder\n",
    "\n",
    "# from neuropy.utils.mixins.unwrap_placefield_computation_parameters import unwrap_placefield_computation_parameters\n",
    "\n",
    "from pyphoplacecellanalysis.GUI.PyQtPlot.Widgets.DockAreaWrapper import DockAreaWrapper\n",
    "\n",
    "# Qt-based Placefield controls:\n",
    "from pyphoplacecellanalysis.GUI.Qt.PlacefieldVisualSelectionControls.qt_placefield import build_all_placefield_output_panels\n",
    "# ipcDataExplorer_dup = InteractivePlaceCellTuningCurvesDataExplorer(curr_active_config, sess, active_computed_data['pf2D'], curr_active_config.plotting_config.pf_colors, **({'extant_plotter':None}))\n",
    "ipcDataExplorer_dup = InteractivePlaceCellTuningCurvesDataExplorer(curr_active_config, sess, active_computed_data['pf2D_dt'], curr_active_config.plotting_config.pf_colors, **({'extant_plotter':None}))\n",
    "\n",
    "# ipcDataExplorer_dup = InteractivePlaceCellTuningCurvesDataExplorer(curr_active_config, sess, active_pf_2D_dt, curr_active_config.plotting_config.pf_colors, **({'extant_plotter':None}))\n",
    "pActiveTuningCurvesPlotter_dup = ipcDataExplorer_dup.plot(pActiveTuningCurvesPlotter_dup) # [2, 17449]\n",
    "# Update the ipcDataExplorer's colors for spikes and placefields from its configs on init:\n",
    "ipcDataExplorer_dup.on_config_update({neuron_id:a_config.color for neuron_id, a_config in ipcDataExplorer_dup.active_neuron_render_configs_map.items()}, defer_update=False)\n",
    "\n",
    "# build the output panels if desired:\n",
    "# pane: (placefieldControlsContainerWidget, pf_widgets)\n",
    "placefieldControlsContainerWidget_dup, pf_widgets = build_all_placefield_output_panels(ipcDataExplorer_dup)\n",
    "placefieldControlsContainerWidget_dup.show()\n",
    "\n",
    "# Adds the placefield controls container widget and each individual pf widget to the ipcDataExplorer.ui in case it needs to reference them later:\n",
    "ipcDataExplorer_dup.ui['placefieldControlsContainerWidget'] = placefieldControlsContainerWidget_dup\n",
    "\n",
    "# Visually align the widgets:\n",
    "WidgetPositioningHelpers.align_window_edges(ipcDataExplorer_dup.p, placefieldControlsContainerWidget_dup, relative_position = 'above', resize_to_main=(1.0, None))\n",
    "\n",
    "# Wrap:\n",
    "active_root_main_widget = ipcDataExplorer_dup.p.window()\n",
    "root_dockAreaWindow, app = DockAreaWrapper.wrap_with_dockAreaWindow(active_root_main_widget, placefieldControlsContainerWidget_dup, title=ipcDataExplorer_dup.data_explorer_name)\n",
    "\n",
    "pane = (root_dockAreaWindow, placefieldControlsContainerWidget_dup, pf_widgets)\n",
    "\n"
   ]
  },
  {
   "cell_type": "code",
   "execution_count": null,
   "id": "d588baed-7c11-4838-a5eb-b13ef900279f",
   "metadata": {},
   "outputs": [],
   "source": [
    "# ## Update existing open ipcDataExplorer by overwriting (TODO):\n",
    "# ipcDataExplorer.params.active_epoch_placefields = active_pf_2D_dt"
   ]
  },
  {
   "cell_type": "code",
   "execution_count": null,
   "id": "1e14b649-76a2-44b8-ac9b-9e9df4fa6450",
   "metadata": {},
   "outputs": [],
   "source": []
  },
  {
   "cell_type": "markdown",
   "id": "bb64e0d4-73ed-475e-92a5-816e0e0bc33f",
   "metadata": {
    "jp-MarkdownHeadingCollapsed": true,
    "pycharm": {
     "is_executing": false,
     "name": "#%%\n"
    },
    "tags": []
   },
   "source": [
    "### Optional Duplicate ipcDataExplorer plotter for comparison"
   ]
  },
  {
   "cell_type": "code",
   "execution_count": null,
   "id": "79271397-1108-43cc-a7f9-12221ff539d0",
   "metadata": {
    "pycharm": {
     "is_executing": false,
     "name": "#%%\n"
    },
    "tags": []
   },
   "outputs": [],
   "source": [
    "pActiveTuningCurvesPlotter_dup = None\n",
    "display_output = display_output | curr_active_pipeline.display('_display_3d_interactive_tuning_curves_plotter', active_config_name, override_pf2D= , extant_plotter=display_output.get('pActiveTuningCurvesPlotter_dup', None),\n",
    "                                                               panel_controls_mode='Qt', should_nan_non_visited_elements=False, zScalingFactor=2000.0) # Works now!\n",
    "ipcDataExplorer_dup = display_output['ipcDataExplorer']\n",
    "display_output['pActiveTuningCurvesPlotter_dup'] = display_output.pop('plotter') # rename the key from the generic \"plotter\" to \"pActiveSpikesBehaviorPlotter\" to avoid collisions with others\n",
    "pActiveTuningCurvesPlotter_dup = display_output['pActiveTuningCurvesPlotter_dup']\n",
    "root_dockAreaWindow_dup, placefieldControlsContainerWidget_dup, pf_widgets_dup = display_output['pane'] # for Qt mode:"
   ]
  },
  {
   "cell_type": "markdown",
   "id": "03c7f6f6-519c-4eef-9661-7ff9262d4d6e",
   "metadata": {
    "jp-MarkdownHeadingCollapsed": true,
    "tags": []
   },
   "source": [
    "### Render computed contours and peaks to ipcDataExplorer:"
   ]
  },
  {
   "cell_type": "code",
   "execution_count": null,
   "id": "5bb8fdf3-4e20-4c96-aeec-92eba1adbc74",
   "metadata": {},
   "outputs": [],
   "source": [
    "from pyphoplacecellanalysis.PhoPositionalData.plotting.peak_prominences import render_all_neuron_peak_prominence_2d_results_on_pyvista_plotter\n",
    "## Call the function to add the 3D plot components to the pyvista plotter\n",
    "render_all_neuron_peak_prominence_2d_results_on_pyvista_plotter(ipcDataExplorer, active_peak_prominence_2d_results, debug_print=False)"
   ]
  },
  {
   "cell_type": "code",
   "execution_count": null,
   "id": "171e6a5b-045a-4838-a90c-9d6edf0b4522",
   "metadata": {
    "pycharm": {
     "is_executing": false,
     "name": "#%%\n"
    }
   },
   "outputs": [],
   "source": [
    "## Set the colors of the raster window from the tuning curve window:\n",
    "spike_raster_window.update_neurons_color_data(updated_neuron_render_configs=ipcDataExplorer.active_neuron_render_configs_map)"
   ]
  },
  {
   "cell_type": "code",
   "execution_count": null,
   "id": "05215ea8-1ea0-405c-a3f9-27c50b4381fd",
   "metadata": {
    "pycharm": {
     "is_executing": false,
     "name": "#%%\n"
    }
   },
   "outputs": [],
   "source": [
    "ipcDataExplorer.p.enable_depth_peeling(10, occlusion_ratio=0) # This fixes many of the rendering issues of the placefields, but does slow things way down. \n",
    "# ipcDataExplorer.p.enable_depth_peeling(number_of_peels=4, occlusion_ratio=0)\n",
    "# ipcDataExplorer.p.disable_depth_peeling()\n",
    "# ipcDataExplorer.p.enable_depth_peeling(10)"
   ]
  },
  {
   "cell_type": "code",
   "execution_count": null,
   "id": "1b73687a-2e03-4229-aacb-cc4e515b5b8b",
   "metadata": {
    "pycharm": {
     "is_executing": false,
     "name": "#%%\n"
    }
   },
   "outputs": [],
   "source": [
    "## Change background color:\n",
    "ipcDataExplorer.params.plotter_backgrounds"
   ]
  },
  {
   "cell_type": "code",
   "execution_count": null,
   "id": "59f93993-a516-4220-989a-a1b9a1680ed2",
   "metadata": {
    "pycharm": {
     "is_executing": false,
     "name": "#%%\n"
    }
   },
   "outputs": [],
   "source": [
    "ipcDataExplorer.set_background('Deep Space (Dark)')"
   ]
  },
  {
   "cell_type": "code",
   "execution_count": null,
   "id": "2f230154-b169-4f44-b990-5fd2bf20816d",
   "metadata": {
    "pycharm": {
     "is_executing": false,
     "name": "#%%\n"
    }
   },
   "outputs": [],
   "source": [
    "ipcDataExplorer.set_background('Purple Paradise')"
   ]
  },
  {
   "cell_type": "code",
   "execution_count": null,
   "id": "2c81c8aa-0165-443a-a529-5d5a613da343",
   "metadata": {
    "pycharm": {
     "is_executing": false,
     "name": "#%%\n"
    }
   },
   "outputs": [],
   "source": [
    "ipcDataExplorer.plot_placefields()"
   ]
  },
  {
   "cell_type": "code",
   "execution_count": null,
   "id": "a2925b1e-762d-49e8-9aa7-849ab19d9a63",
   "metadata": {
    "pycharm": {
     "is_executing": false,
     "name": "#%%\n"
    }
   },
   "outputs": [],
   "source": [
    "ipcDataExplorer.params.zScalingFactor"
   ]
  },
  {
   "cell_type": "code",
   "execution_count": null,
   "id": "616ba60d-0756-489a-a407-bd765035f879",
   "metadata": {},
   "outputs": [],
   "source": [
    "# ipcDataExplorer.toggle_plot_visibility() # Looks like it works for generally specified plot key\n",
    "# ipcDataExplorer.get_plot_objects_list\n",
    "\n",
    "# ['main', 'points', 'peaks']\n",
    "list(ipcDataExplorer.tuning_curve_plot_actors[2].keys())\n",
    "# 'tuningCurvePlotActors'"
   ]
  },
  {
   "cell_type": "code",
   "execution_count": null,
   "id": "94d703b8-edb2-472d-a97f-74c0c594c3cf",
   "metadata": {},
   "outputs": [],
   "source": [
    "curr_tuning_curve_data = ipcDataExplorer.plots_data['tuningCurvePlotData'][2]\n",
    "curr_pdata = curr_tuning_curve_data['pdata_currActiveNeuronTuningCurve'] # StructuredGrid\n",
    "curr_pdata_points = curr_tuning_curve_data['pdata_currActiveNeuronTuningCurve_Points'] # UnstructuredGrid\n",
    "curr_pdata_points\n",
    "# curr_pdata\n",
    "# {'curr_active_neuron_ID': 2,\n",
    "#  'curr_active_neuron_pf_identifier': 'pf[2]',\n",
    "#  'curr_active_neuron_tuning_Curve': array([[0.437126, 0.818305, 1.48319, ..., 0.0155238, 0.0067005, 0.00294359],\n",
    "#         [0.347969, 0.64914, 1.17457, ..., 0.0388841, 0.0167967, 0.00739304],\n",
    "#         [0.228976, 0.415578, 0.741638, ..., 0.0922773, 0.0399187, 0.0176301],\n",
    "#         ...,\n",
    "#         [0, 0, 0, ..., 0.0989772, 0.0683015, 0.0467108],\n",
    "#         [0, 0, 0, ..., 0.0407058, 0.0284058, 0.0195678],\n",
    "#         [0, 0, 0, ..., 0.0158926, 0.0112009, 0.00776478]]),\n",
    "#  'pdata_currActiveNeuronTuningCurve': StructuredGrid (0x24d816a7f40)\n",
    "#    N Cells:\t1764\n",
    "#    N Points:\t1856\n",
    "#    X Bounds:\t2.581e+01, 2.638e+02\n",
    "#    Y Bounds:\t1.244e+02, 1.536e+02\n",
    "#    Z Bounds:\t0.000e+00, 1.703e+01\n",
    "#    Dimensions:\t29, 64, 1\n",
    "#    N Arrays:\t3,\n",
    "#  'pdata_currActiveNeuronTuningCurve_Points': UnstructuredGrid (0x24d815b4dc0)\n",
    "#    N Cells:\t1716\n",
    "#    N Points:\t1812\n",
    "#    X Bounds:\t2.581e+01, 2.638e+02\n",
    "#    Y Bounds:\t1.244e+02, 1.536e+02\n",
    "#    Z Bounds:\t0.000e+00, 1.703e+01\n",
    "#    N Arrays:\t3,\n",
    "#  'lut': <vtkmodules.vtkCommonCore.vtkLookupTable(0x0000024D9A888950) at 0x0000024DAA8F35E0>,\n",
    "#  'peaks':\n",
    "#  ...\n",
    "\n",
    "surf = curr_pdata.extract_surface() # <class 'pyvista.core.pointset.PolyData'>\n",
    "surf\n",
    "\n",
    "# surf = curr_pdata_points.reconstruct_surface() # this does not work at all\n",
    "# surf\n",
    "# curr_pdata_points.length\n",
    "\n",
    "# active_points_data = curr_pdata_points.points.copy()\n",
    "# active_points_data = curr_pdata.copy()\n",
    "active_points_data = surf.copy()\n",
    "origin = active_points_data.center.copy()\n",
    "origin[-1] = origin[-1] - (active_points_data.length/3.0)\n",
    "origin\n",
    "projected = active_points_data.project_points_to_plane(origin=origin)\n",
    "projected"
   ]
  },
  {
   "cell_type": "code",
   "execution_count": null,
   "id": "c6ad079b-a48a-40df-8e2b-1554c40dbb6a",
   "metadata": {},
   "outputs": [],
   "source": [
    "edges = curr_pdata.extract_all_edges()\n",
    "edges.plot(line_width=1, color='k')"
   ]
  },
  {
   "cell_type": "code",
   "execution_count": null,
   "id": "6c69e63a-417b-4aa8-ae6f-022dd38172d8",
   "metadata": {},
   "outputs": [],
   "source": [
    "# non_visited_mask = active_placefields.never_visited_occupancy_mask\n",
    "non_visited_mask = ipcDataExplorer.params.active_epoch_placefields.never_visited_occupancy_mask.copy()\n",
    "non_visited_mask"
   ]
  },
  {
   "cell_type": "code",
   "execution_count": null,
   "id": "025eff68-851b-4dc0-9443-577e9bff1128",
   "metadata": {},
   "outputs": [],
   "source": [
    "flat_non_visited_mask = non_visited_mask.T.copy().ravel(order=\"F\")\n",
    "# flat_non_visited_mask.shape # (1856,)"
   ]
  },
  {
   "cell_type": "code",
   "execution_count": null,
   "id": "9fe38f1d-c08d-4596-bdfc-6fb043b7e716",
   "metadata": {},
   "outputs": [],
   "source": [
    "# Only if VTK > 9.1.X does this return a PointData, otherwise returns None\n",
    "# _ = curr_pdata.hide_points(ind=flat_non_visited_mask)\n",
    "curr_pdata.hide_cells(flat_non_visited_mask, inplace=True)\n",
    "# curr_updated_pdata_points = curr_pdata_points.hide_points(non_visited_mask).copy()\n",
    "# curr_updated_pdata_points\n",
    "# List or array of point indices to be hidden. The array can also be a boolean array of the same size as the number of points.\n"
   ]
  },
  {
   "cell_type": "code",
   "execution_count": null,
   "id": "42ddd7fa-79c5-4327-b1d6-356dab63d2af",
   "metadata": {},
   "outputs": [],
   "source": [
    "import pyvista as pv\n",
    "pl = pv.Plotter(shape=(1,2))\n",
    "pl.add_mesh(curr_pdata_points)\n",
    "pl.add_title('points')\n",
    "pl.subplot(0,1)\n",
    "pl.add_mesh(curr_pdata, color=True, show_edges=True)\n",
    "pl.add_mesh(surf, color=True, show_edges=True)\n",
    "pl.add_mesh(projected)\n",
    "pl.add_mesh(curr_pdata)\n",
    "pl.add_title('reconstructed from points')\n",
    "pl.show()"
   ]
  },
  {
   "cell_type": "code",
   "execution_count": null,
   "id": "d10263fd-80b8-495a-96f3-3bdcd24d579f",
   "metadata": {},
   "outputs": [],
   "source": [
    "curr_tuning_curve_plot = ipcDataExplorer.tuning_curve_plot_actors[2]['main']\n",
    "curr_tuning_curve_plot.GetShaderProperty()"
   ]
  },
  {
   "cell_type": "code",
   "execution_count": null,
   "id": "292d8616-2a6d-47df-9a9f-c48b1a8f8369",
   "metadata": {},
   "outputs": [],
   "source": [
    "sess_spikes_df"
   ]
  },
  {
   "cell_type": "markdown",
   "id": "172de269-4476-4326-afb4-25f85d1b3fde",
   "metadata": {
    "jp-MarkdownHeadingCollapsed": true,
    "tags": []
   },
   "source": [
    "### Test Programmatically Adding GUI/UI controls for additional plots (Occupancy, etc)"
   ]
  },
  {
   "cell_type": "code",
   "execution_count": null,
   "id": "ecac9586-f8f6-46a9-9db1-699e55ab9b87",
   "metadata": {},
   "outputs": [],
   "source": [
    "# ipcDataExplorer.ui.placefieldControlsContainerWidget # PlacefieldVisualSelectionControlsBarWidget\n",
    "# ipcDataExplorer.ui.placefieldControlsContainerWidget.ui.pf_layout # QHBoxLayout \n",
    "curr_neuron_widget = ipcDataExplorer.ui.placefieldControlsContainerWidget.ui.pf_widgets[0] # Grab single neuron widget (PlacefieldVisualSelectionWidget)\n",
    "curr_layout = curr_neuron_widget.ui.groupBox.layout() # QVBoxLayout "
   ]
  },
  {
   "cell_type": "code",
   "execution_count": null,
   "id": "fbe608c3-4fce-447e-8838-3ad7fc0a5af4",
   "metadata": {},
   "outputs": [],
   "source": [
    "chkbtnProminenceMetrics = curr_neuron_widget.build_ui_toggle_button(name='chkbtnProminenceMetrics', text='prominences', parent=curr_neuron_widget.ui.groupBox)\n",
    "curr_layout.addWidget(chkbtnProminenceMetrics)"
   ]
  },
  {
   "cell_type": "markdown",
   "id": "227459be-04d7-45c9-afbf-a24738457975",
   "metadata": {},
   "source": [
    "<!-- ### Occupancy Toggle -->"
   ]
  },
  {
   "cell_type": "code",
   "execution_count": null,
   "id": "2c33a867-30b8-42c5-8ffb-b200668a5daf",
   "metadata": {},
   "outputs": [],
   "source": [
    "# ipcDataExplorer.on_occupancy_plot_update_visibility\n",
    "ipcDataExplorer.occupancy_plotting_config.isVisible = False"
   ]
  },
  {
   "cell_type": "code",
   "execution_count": null,
   "id": "b22f2eb1-48d2-4ee8-866f-f4c9c935f2d3",
   "metadata": {
    "pycharm": {
     "is_executing": false,
     "name": "#%%\n"
    }
   },
   "outputs": [],
   "source": [
    "ipcDataExplorer.plot_occupancy_bars()"
   ]
  },
  {
   "cell_type": "code",
   "execution_count": null,
   "id": "b3cf8d81-d70e-4b02-b824-e175f409b236",
   "metadata": {
    "pycharm": {
     "is_executing": false,
     "name": "#%%\n"
    }
   },
   "outputs": [],
   "source": [
    "ipcDataExplorer.occupancy_plotting_config.labelsAreVisible = True # Setting this to true renders the labels at each occupancy bin"
   ]
  },
  {
   "cell_type": "code",
   "execution_count": null,
   "id": "98ba03ff-5740-40e8-b975-2b2c2750b713",
   "metadata": {
    "pycharm": {
     "is_executing": false,
     "name": "#%%\n"
    }
   },
   "outputs": [],
   "source": [
    "ipcDataExplorer.occupancy_plotting_config.labelsShowPoints = True"
   ]
  },
  {
   "cell_type": "code",
   "execution_count": null,
   "id": "c8e7eec0-acd1-41d5-964a-8692f7e42c09",
   "metadata": {
    "pycharm": {
     "is_executing": false,
     "name": "#%%\n"
    }
   },
   "outputs": [],
   "source": [
    "ipcDataExplorer.params.should_nan_non_visited_elements = False"
   ]
  },
  {
   "cell_type": "code",
   "execution_count": null,
   "id": "023b14ee-1686-4855-acd4-ae3fe24e001a",
   "metadata": {
    "pycharm": {
     "is_executing": false,
     "name": "#%%\n"
    }
   },
   "outputs": [],
   "source": [
    "filtered_indices = sess_spikes_df.index.values[active_pf_2D.filtered_spikes_df.index]\n",
    "# filtered_sess_spikes_df = sess_spikes_df[sess_spikes_df.index == active_pf_2D.filtered_spikes_df.index]\n",
    "# filtered_sess_spikes_df = sess_spikes_df[sess_spikes_df['flat_spike_idx'] == active_pf_2D.filtered_spikes_df.flat_spike_idx]\n",
    "# filtered_sess_spikes_df"
   ]
  },
  {
   "cell_type": "code",
   "execution_count": null,
   "id": "a7e42890-2a5a-4a5d-be5b-ad3b7b9f8c6b",
   "metadata": {
    "pycharm": {
     "is_executing": false,
     "name": "#%%\n"
    }
   },
   "outputs": [],
   "source": [
    "ipcDataExplorer.occupancy_plotting_config.isVisible = False"
   ]
  },
  {
   "cell_type": "code",
   "execution_count": null,
   "id": "4cad4711-3f5d-44c3-9fc1-bd1465a86a70",
   "metadata": {
    "pycharm": {
     "is_executing": false,
     "name": "#%%\n"
    }
   },
   "outputs": [],
   "source": [
    "ipcDataExplorer.occupancy_plotting_config"
   ]
  },
  {
   "cell_type": "markdown",
   "id": "70496ef4-87e4-4e2b-ba6d-bcbd8b3adc81",
   "metadata": {
    "jp-MarkdownHeadingCollapsed": true,
    "pycharm": {
     "is_executing": false,
     "name": "#%%\n"
    },
    "tags": []
   },
   "source": [
    "### Explore Mesh/Cell Picking in ipcDataExplorer"
   ]
  },
  {
   "cell_type": "code",
   "execution_count": null,
   "id": "efcdc58e-09e6-4b58-bf08-6c64fa41b5a6",
   "metadata": {
    "pycharm": {
     "is_executing": false,
     "name": "#%%\n"
    }
   },
   "outputs": [],
   "source": [
    "## Make the legend pickable:\n",
    "import pyvista as pv\n",
    "\n",
    "def callback(point):\n",
    "    \"\"\"Create a cube and a label at the click point.\"\"\"\n",
    "    mesh = pv.Cube(center=point, x_length=0.05, y_length=0.05, z_length=0.05)\n",
    "    ipcDataExplorer.p.add_mesh(mesh, style='wireframe', color='r')\n",
    "    ipcDataExplorer.p.add_point_labels(point, [f\"{point[0]:.2f}, {point[1]:.2f}, {point[2]:.2f}\"])\n",
    "\n",
    "\n",
    "ipcDataExplorer.p.enable_surface_picking(callback=callback, left_clicking=True, show_point=False)\n",
    "# ipcDataExplorer.p.enable_surface_picking("
   ]
  },
  {
   "cell_type": "code",
   "execution_count": null,
   "id": "b4748c03-f688-4d0f-a40c-dabe75ee9e34",
   "metadata": {
    "pycharm": {
     "is_executing": false,
     "name": "#%%\n"
    }
   },
   "outputs": [],
   "source": [
    "def mesh_picked_callback(mesh):\n",
    "    \"\"\"TODO: highlight the mesh or something - label at the click point.\"\"\"\n",
    "    print(f'mesh_picked_callback(mesh: {mesh})')\n",
    "    # mesh = pv.Cube(center=point, x_length=0.05, y_length=0.05, z_length=0.05)\n",
    "    # ipcDataExplorer.p.add_mesh(mesh, style='wireframe', color='r')\n",
    "    # ipcDataExplorer.p.add_point_labels(point, [f\"{point[0]:.2f}, {point[1]:.2f}, {point[2]:.2f}\"])\n",
    "\n",
    "ipcDataExplorer.p.enable_mesh_picking(callback=mesh_picked_callback, left_clicking=True, show=True)"
   ]
  },
  {
   "cell_type": "markdown",
   "id": "e7e92907-c05c-4ad1-b291-2e941433a87e",
   "metadata": {
    "jp-MarkdownHeadingCollapsed": true,
    "pycharm": {
     "is_executing": false,
     "name": "#%%\n"
    },
    "tags": []
   },
   "source": [
    "### Other"
   ]
  },
  {
   "cell_type": "code",
   "execution_count": null,
   "id": "46d9eb58-f053-4b19-8630-c2087b5c9bad",
   "metadata": {
    "pycharm": {
     "name": "#%%\n"
    }
   },
   "outputs": [],
   "source": [
    "# Here we look at the population burst events for each epoch ('maze1' vs. 'maze2')\n",
    "# curr_active_pipeline.sess.\n",
    "\n",
    "# get only the spikes that occur during PBEs:\n",
    "pbe_only_spikes_df = sess.spikes_df[(sess.spikes_df.PBE_id > -1)]\n",
    "pbe_only_spikes_df\n",
    "\n",
    "curr_active_pipeline.sess.pbe #[10960 rows x 4 columns]"
   ]
  },
  {
   "cell_type": "code",
   "execution_count": null,
   "id": "16de2901-e7ea-40fe-8807-d5bfb57b01bd",
   "metadata": {
    "pycharm": {
     "name": "#%%\n"
    }
   },
   "outputs": [],
   "source": [
    "app, win, w = curr_active_pipeline.display('_display_placemaps_pyqtplot_2D', active_config_name)\n",
    "win.show(); pg.exec()"
   ]
  },
  {
   "cell_type": "markdown",
   "id": "5780219e-f3f0-4184-ad7e-c2d6111adadb",
   "metadata": {
    "jp-MarkdownHeadingCollapsed": true,
    "pycharm": {
     "is_executing": false,
     "name": "#%%\n"
    },
    "tags": []
   },
   "source": [
    "## ipspikesDataExplorer - 3D Interactive Spike and Behavior Plotter"
   ]
  },
  {
   "cell_type": "code",
   "execution_count": null,
   "id": "3ac70061-9e27-48cc-ae89-b01836c3d4c2",
   "metadata": {
    "pycharm": {
     "is_executing": false,
     "name": "#%%\n"
    },
    "scrolled": true
   },
   "outputs": [],
   "source": [
    "pActiveSpikesBehaviorPlotter = None\n",
    "display_output = display_output | curr_active_pipeline.display('_display_3d_interactive_spike_and_behavior_browser', active_config_name, extant_plotter=display_output.get('pActiveSpikesBehaviorPlotter', None)) # Works now!\n",
    "ipspikesDataExplorer = display_output['ipspikesDataExplorer']\n",
    "display_output['pActiveSpikesBehaviorPlotter'] = display_output.pop('plotter') # rename the key from the generic \"plotter\" to \"pActiveSpikesBehaviorPlotter\" to avoid collisions with others\n",
    "pActiveSpikesBehaviorPlotter = display_output['pActiveSpikesBehaviorPlotter']"
   ]
  },
  {
   "cell_type": "code",
   "execution_count": null,
   "id": "a1c468be-a227-4ad8-96bb-23577e1f588e",
   "metadata": {
    "pycharm": {
     "is_executing": false,
     "name": "#%%\n"
    },
    "scrolled": true
   },
   "outputs": [],
   "source": [
    "## Sync ipspikesDataExplorer to raster window:\n",
    "extra_interactive_spike_behavior_browser_sync_connection = spike_raster_window.connect_additional_controlled_plotter(controlled_plt=ipspikesDataExplorer)\n",
    "# extra_interactive_spike_behavior_browser_sync_connection = _connect_additional_controlled_plotter(spike_raster_window.spike_raster_plt_2d, ipspikesDataExplorer)"
   ]
  },
  {
   "cell_type": "markdown",
   "id": "7c7485f6-3d15-4681-9dc1-722b4ca67d90",
   "metadata": {
    "pycharm": {
     "is_executing": false,
     "name": "#%%\n"
    }
   },
   "source": [
    "### Test Programmatic Updating of the ipspikesDataExplorer"
   ]
  },
  {
   "cell_type": "code",
   "execution_count": null,
   "id": "843919bd-e5f6-4ae0-b85d-775988be9312",
   "metadata": {
    "pycharm": {
     "is_executing": false,
     "name": "#%%\n"
    },
    "scrolled": true
   },
   "outputs": [],
   "source": [
    "ipspikesDataExplorer.spikes_main_historical.VisibilityOff()\n",
    "# ipspikesDataExplorer."
   ]
  },
  {
   "cell_type": "code",
   "execution_count": null,
   "id": "7d2a1570-cba6-4169-8da9-13bf495467e3",
   "metadata": {
    "pycharm": {
     "is_executing": false,
     "name": "#%%\n"
    },
    "scrolled": true
   },
   "outputs": [],
   "source": [
    "np.shape(ipspikesDataExplorer.params.flattened_spike_positions_list) # (2, 102139)\n",
    "np.shape(ipspikesDataExplorer.flattened_spike_times) # (102139,)\n",
    "\n",
    "recent_spikes_mesh = ipspikesDataExplorer.plots['spikes_main_recent_only']\n",
    "# ipspikesDataExplorer.plots.keys() # dict_keys(['spikes_main_historical', 'spikes_main_recent_only', 'animal_location_trail', 'animal_current_location_point', 'maze_bg'])\n",
    "# , show_edges=True"
   ]
  },
  {
   "cell_type": "code",
   "execution_count": null,
   "id": "c65e6082-7879-4482-91b9-2fb298090554",
   "metadata": {
    "pycharm": {
     "is_executing": false,
     "name": "#%%\n"
    },
    "scrolled": true
   },
   "outputs": [],
   "source": [
    "ipspikesDataExplorer.spikes_main_historical.AddPosition((0.0, 0.0, (-1.1*10)))"
   ]
  },
  {
   "cell_type": "markdown",
   "id": "eff8fd05-723a-4f80-8a3e-bf8a3821bf7d",
   "metadata": {},
   "source": [
    "## TimeSynchronizedPlotters - for plotting time-dependent placefields (active_pf_2D_dt) "
   ]
  },
  {
   "cell_type": "code",
   "execution_count": null,
   "id": "b3e7a2a7-0cb8-4b9f-bad6-c24577ba972c",
   "metadata": {},
   "outputs": [],
   "source": [
    "active_pf_2D_dt.reset()\n",
    "active_pf_2D_dt.update(t=15.0)"
   ]
  },
  {
   "cell_type": "markdown",
   "id": "b3e449ca-daff-4ca7-9dad-964cf27927e0",
   "metadata": {},
   "source": [
    "### TimeSynchronizedOccupancyPlotter"
   ]
  },
  {
   "cell_type": "code",
   "execution_count": null,
   "id": "c9382649-22d0-4e12-b520-5e1d3ee9c9cc",
   "metadata": {},
   "outputs": [],
   "source": [
    "from pyphoplacecellanalysis.Pho2D.PyQtPlots.TimeSynchronizedPlotters.TimeSynchronizedOccupancyPlotter import TimeSynchronizedOccupancyPlotter\n",
    "curr_sync_occupancy_plotter = TimeSynchronizedOccupancyPlotter(active_pf_2D_dt)\n",
    "curr_sync_occupancy_plotter.show()"
   ]
  },
  {
   "cell_type": "code",
   "execution_count": null,
   "id": "a37a4657-2d1c-410d-bd3a-06abd004bad7",
   "metadata": {},
   "outputs": [],
   "source": [
    "# curr_sync_occupancy_plotter.occupancy_mode_to_render = 'num_pos_samples_occupancy'\n",
    "curr_sync_occupancy_plotter.occupancy_mode_to_render = 'curr_num_pos_samples_smoothed_occupancy_map'\n",
    "\n"
   ]
  },
  {
   "cell_type": "code",
   "execution_count": null,
   "id": "b4515354-3249-4460-beae-4f4347e776a4",
   "metadata": {},
   "outputs": [],
   "source": [
    "# Control Occupancy Plotter by spike_raster_window:\n",
    "occupancy_raster_window_sync_connection = spike_raster_window.connection_man.connect_drivable_to_driver(drivable=curr_sync_occupancy_plotter, driver=spike_raster_window.spike_raster_plt_2d,\n",
    "                                                       custom_connect_function=(lambda driver, drivable: pg.SignalProxy(driver.window_scrolled, delay=0.2, rateLimit=60, slot=drivable.on_window_changed_rate_limited)))"
   ]
  },
  {
   "cell_type": "markdown",
   "id": "95e8ba70-173a-4719-abc3-1856582027d6",
   "metadata": {},
   "source": [
    "### TimeSynchronizedPlacefieldsPlotter"
   ]
  },
  {
   "cell_type": "code",
   "execution_count": null,
   "id": "7a184c43-26be-494d-84dc-af41e6906002",
   "metadata": {},
   "outputs": [],
   "source": [
    "from pyphoplacecellanalysis.Pho2D.PyQtPlots.TimeSynchronizedPlotters.TimeSynchronizedPlacefieldsPlotter import TimeSynchronizedPlacefieldsPlotter\n",
    "curr_placefields_plotter = TimeSynchronizedPlacefieldsPlotter(active_pf_2D_dt)\n",
    "curr_placefields_plotter.show()"
   ]
  },
  {
   "cell_type": "code",
   "execution_count": null,
   "id": "fe768323-7090-4dca-939e-2d502d079de1",
   "metadata": {},
   "outputs": [],
   "source": [
    "# Control Placefields Plotter by spike_raster_window:\n",
    "placefields_raster_window_sync_connection = spike_raster_window.connection_man.connect_drivable_to_driver(drivable=curr_placefields_plotter, driver=spike_raster_window.spike_raster_plt_2d,\n",
    "                                                       custom_connect_function=(lambda driver, drivable: pg.SignalProxy(driver.window_scrolled, delay=0.2, rateLimit=60, slot=drivable.on_window_changed_rate_limited)))"
   ]
  },
  {
   "cell_type": "markdown",
   "id": "eb18a15d-dd8c-4973-8316-7e9e2a622e11",
   "metadata": {
    "jp-MarkdownHeadingCollapsed": true,
    "pycharm": {
     "is_executing": false,
     "name": "#%%\n"
    },
    "tags": []
   },
   "source": [
    "## Updated Color Config Handling"
   ]
  },
  {
   "cell_type": "code",
   "execution_count": null,
   "id": "bda8eb46-1aca-4646-9190-50cffa7552b5",
   "metadata": {
    "pycharm": {
     "is_executing": false,
     "name": "#%%\n"
    }
   },
   "outputs": [],
   "source": [
    "ipcDataExplorer.active_neuron_render_configs"
   ]
  },
  {
   "cell_type": "code",
   "execution_count": null,
   "id": "b2aa52bc-eaa3-4c3b-bddd-2602b120ad63",
   "metadata": {
    "pycharm": {
     "is_executing": false,
     "name": "#%%\n"
    }
   },
   "outputs": [],
   "source": [
    "# [SingleNeuronPlottingExtended(color='#843c39', extended_values_dictionary={}, isVisible=False, name='2', spikesVisible=False),\n",
    "#  SingleNeuronPlottingExtended(color='#9d514e', extended_values_dictionary={}, isVisible=False, name='3', spikesVisible=False),\n",
    "#  ...\n",
    "# ]"
   ]
  },
  {
   "cell_type": "code",
   "execution_count": null,
   "id": "a56ee0e0-6db3-4b25-8d24-05b7a7190311",
   "metadata": {
    "pycharm": {
     "is_executing": false,
     "name": "#%%\n"
    }
   },
   "outputs": [],
   "source": [
    "test_updated_configs_colors_map[3] = '#333333'"
   ]
  },
  {
   "cell_type": "code",
   "execution_count": null,
   "id": "42b57cec-6199-4917-98b8-3aae10460e07",
   "metadata": {
    "pycharm": {
     "is_executing": false,
     "name": "#%%\n"
    }
   },
   "outputs": [],
   "source": [
    "# Test applying changes to configs:\n",
    "active_configs_map, updated_ids_list, updated_configs_list = _test_apply_updated_colors_map_to_configs(active_configs_map, test_updated_configs_colors_map)\n",
    "# active_configs_map"
   ]
  },
  {
   "cell_type": "code",
   "execution_count": null,
   "id": "bb99d50f-d3dd-43d0-8507-0f5740540b30",
   "metadata": {
    "pycharm": {
     "is_executing": false,
     "name": "#%%\n"
    }
   },
   "outputs": [],
   "source": [
    "## Test applying it to the Qt widgets:\n",
    "# ipcDataExplorer.find_rows_matching_cell_ids\n",
    "\n",
    "ipcDataExplorer.active_neuron_render_configs"
   ]
  },
  {
   "cell_type": "code",
   "execution_count": null,
   "id": "61d060ca-b27f-43e1-bd20-1b560f525f0a",
   "metadata": {
    "pycharm": {
     "is_executing": false,
     "name": "#%%\n"
    }
   },
   "outputs": [],
   "source": [
    "test_updated_configs_colors_map"
   ]
  },
  {
   "cell_type": "code",
   "execution_count": null,
   "id": "56380160-73d7-4a2b-8f34-9ada12680466",
   "metadata": {
    "pycharm": {
     "is_executing": false,
     "name": "#%%\n"
    }
   },
   "outputs": [],
   "source": [
    "# updated_ids_list\n",
    "updated_configs_list"
   ]
  },
  {
   "cell_type": "code",
   "execution_count": null,
   "id": "ccccf2a9-c29c-4a78-ba95-b7c547f65db5",
   "metadata": {
    "pycharm": {
     "is_executing": false,
     "name": "#%%\n"
    }
   },
   "outputs": [],
   "source": [
    "# ipcDataExplorer.update_spikes()\n",
    "# ipcDataExplorer.gui.\n",
    "# placefieldControlsContainerWidget\n",
    "\n",
    "ipcDataExplorer.neuron_id_pf_widgets_map = _build_id_index_configs_dict(pf_widgets)\n",
    "apply_updated_configs_to_pf_widgets(ipcDataExplorer.neuron_id_pf_widgets_map, active_configs_map)\n",
    "\n",
    "\n",
    "# neuron_id_pf_widgets_map\n",
    "\n",
    "# for a_pf_ctrl_widget in pf_widgets:\n",
    "#     print(f'{a_pf_ctrl_widget.name}')\n",
    "#     # int(a_config.name)"
   ]
  },
  {
   "cell_type": "code",
   "execution_count": null,
   "id": "7744eaee-a85c-48ce-8732-a3eba59c2733",
   "metadata": {
    "pycharm": {
     "is_executing": false,
     "name": "#%%\n"
    }
   },
   "outputs": [],
   "source": [
    "test_updated_colors_map = {3: '#999999'}\n",
    "ipcDataExplorer.on_config_update(test_updated_colors_map)"
   ]
  },
  {
   "cell_type": "code",
   "execution_count": null,
   "id": "c4874af9-e994-45b4-8c39-1697b633838d",
   "metadata": {
    "pycharm": {
     "is_executing": false,
     "name": "#%%\n"
    }
   },
   "outputs": [],
   "source": [
    "# Need to rebuild the spikes colors and such upon updating the configs. \n",
    "# should take a config and produce the changes needed to recolor the neurons.\n",
    "ipcDataExplorer.update_spikes_df_color_columns(test_updated_colors_map)\n",
    "ipcDataExplorer.update_rendered_placefields(test_updated_colors_map)"
   ]
  },
  {
   "cell_type": "code",
   "execution_count": null,
   "id": "2f7679d0-1be4-4693-945b-6916bd5a4556",
   "metadata": {
    "pycharm": {
     "is_executing": false,
     "name": "#%%\n"
    }
   },
   "outputs": [],
   "source": [
    "_test_neuron_id = 3\n",
    "pdata_currActiveNeuronTuningCurve_plotActor = ipcDataExplorer.plots['tuningCurvePlotActors'][_test_neuron_id]['main'] # get the main plot actor from the CascadingDynamicPlotsList\n",
    "pdata_currActiveNeuronTuningCurve_Points_plotActor = ipcDataExplorer.plots['tuningCurvePlotActors'][_test_neuron_id]['points']\n",
    "\n",
    "# add_mesh"
   ]
  },
  {
   "cell_type": "code",
   "execution_count": null,
   "id": "ff8972a9-fb3f-44c8-8854-1178c71e8d72",
   "metadata": {
    "pycharm": {
     "is_executing": false,
     "name": "#%%\n"
    }
   },
   "outputs": [],
   "source": [
    "ipcDataExplorer.enable_overwrite_invalid_fragile_linear_neuron_IDXs = True"
   ]
  },
  {
   "cell_type": "code",
   "execution_count": null,
   "id": "e820c498-5865-471b-a7bc-2c4c5c650f89",
   "metadata": {
    "pycharm": {
     "is_executing": false,
     "name": "#%%\n"
    }
   },
   "outputs": [],
   "source": [
    "ipcDataExplorer.helper_setup_neuron_colors_and_order(ipcDataExplorer, debug_print=True)"
   ]
  },
  {
   "cell_type": "code",
   "execution_count": null,
   "id": "462f77cc-7376-4382-8345-149eba514ad8",
   "metadata": {
    "pycharm": {
     "is_executing": false,
     "name": "#%%\n"
    }
   },
   "outputs": [],
   "source": [
    "from vedo.io import exportWindow, write\n",
    "# exportWindow('testOutFilePho.html')\n",
    "# exportWindow('testOutFilePho.x3d')\n",
    "\n",
    "# pActiveTuningCurvesPlotter.save('testPlotterSavePho.obj')\n",
    "# write(pActiveTuningCurvesPlotter,'testPlotterSavePho.obj')\n",
    "# pActiveTuningCurvesPlotter.write_frame('testPlotter_write_frame_Pho')\n",
    "# pActiveTuningCurvesPlotter.export('testPlotterSavePho.x3d')\n",
    "\n",
    "output_path = Path(r'C:\\Users\\pho\\repos\\PhoPy3DPositionAnalysis2021\\output\\2006-6-07_11-26-53\\maze1')\n",
    "final_output_path = output_path.joinpath('testPlotter_export_obj_Pho')\n",
    "\n",
    "\n",
    "## Success, but ugly:\n",
    "pActiveTuningCurvesPlotter.export_vtkjs(final_output_path.with_suffix('.vtkjs'))\n",
    "# pActiveTuningCurvesPlotter.export_gltf(final_output_path.with_suffix('.gltf'))\n",
    "# pActiveTuningCurvesPlotter.export_html(final_output_path.with_suffix('.html')) ## First export that actually works with BackgroundPlotter\n",
    "# pActiveTuningCurvesPlotter.export_obj(final_output_path.with_suffix('.obj')) ## Works for exporting .obj files"
   ]
  },
  {
   "cell_type": "code",
   "execution_count": null,
   "id": "1097b8b4-5fbc-4124-a187-dcee9ccf7090",
   "metadata": {
    "pycharm": {
     "is_executing": false,
     "name": "#%%\n"
    }
   },
   "outputs": [],
   "source": [
    "import pyvista as pv\n",
    "pv.vtk_version_info"
   ]
  },
  {
   "cell_type": "code",
   "execution_count": null,
   "id": "270d1a2c-7f56-495a-bd6e-30e76414bef7",
   "metadata": {
    "pycharm": {
     "is_executing": false,
     "name": "#%%\n"
    }
   },
   "outputs": [],
   "source": [
    "# ipcDataExplorer.p.enable_cell_picking(callback=)\n",
    "ipcDataExplorer.pyqtConfigure()"
   ]
  },
  {
   "cell_type": "code",
   "execution_count": null,
   "id": "7d35fb45-9c61-412f-a522-03c90609f59e",
   "metadata": {
    "pycharm": {
     "is_executing": false,
     "name": "#%%\n"
    }
   },
   "outputs": [],
   "source": [
    "p.enable_point_picking()"
   ]
  },
  {
   "cell_type": "code",
   "execution_count": null,
   "id": "03458494-5342-4fd0-b866-2191409d1dac",
   "metadata": {
    "pycharm": {
     "is_executing": false,
     "name": "#%%\n"
    }
   },
   "outputs": [],
   "source": [
    "ipcDataExplorer.active_config # pf_neuron_identities, pf_colors, pf_sort_ind\n",
    "\n",
    "# ipcDataExplorer.active_config.keys()\n",
    "np.shape(ipcDataExplorer.active_config.plotting_config['pf_colormap']) # (39, 4)\n",
    "\n",
    "# print_keys_if_possible('plotting_config', ipcDataExplorer.active_config.plotting_config)\n",
    "\n",
    "print_keys_if_possible('ipcDataExplorer', ipcDataExplorer)\n",
    "\n",
    "# - plotting_config: <class 'pyphoplacecellanalysis.General.Configs.DynamicConfigs.PlottingConfig'>\n",
    "    # - pf_neuron_identities: <class 'list'> - (39,)\n",
    "    # - pf_sort_ind: <class 'numpy.ndarray'> - (39,)\n",
    "    # - pf_colors: <class 'numpy.ndarray'> - (4, 39)\n",
    "    # - pf_colormap: <class 'numpy.ndarray'> - (39, 4)"
   ]
  },
  {
   "cell_type": "code",
   "execution_count": null,
   "id": "d4ec2318-647c-4f2a-8d93-8bf622273d41",
   "metadata": {
    "pycharm": {
     "is_executing": false,
     "name": "#%%\n"
    }
   },
   "outputs": [],
   "source": [
    "len(ipcDataExplorer.params.neuron_colors_hex) # 39"
   ]
  },
  {
   "cell_type": "code",
   "execution_count": null,
   "id": "e191dfb3-7e9b-42d3-9505-5adfabf920e7",
   "metadata": {
    "pycharm": {
     "is_executing": false,
     "name": "#%%\n"
    }
   },
   "outputs": [],
   "source": [
    "# np.shape(ipcDataExplorer.params.neuron_colors) # (4, 39)\n",
    "# len(ipcDataExplorer.params.reverse_cellID_to_tuning_curve_idx_lookup_map) # 39\n",
    "\n",
    "# for neuron_id, tuning_curve_idx in ipcDataExplorer.params.reverse_cellID_to_tuning_curve_idx_lookup_map.items():\n",
    "#     curr_color = ipcDataExplorer.params.neuron_colors[:, tuning_curve_idx]\n",
    "    \n",
    "\n",
    "\n",
    "final_perfect_colormap = {int(neuron_id):ipcDataExplorer.params.neuron_colors_hex[tuning_curve_idx] for neuron_id, tuning_curve_idx in ipcDataExplorer.params.reverse_cellID_to_tuning_curve_idx_lookup_map.items()}\n",
    "# final_perfect_colormap = {int(neuron_id):list(np.squeeze(ipcDataExplorer.params.neuron_colors[:, tuning_curve_idx])) for neuron_id, tuning_curve_idx in ipcDataExplorer.params.reverse_cellID_to_tuning_curve_idx_lookup_map.items()}\n",
    "# final_perfect_colormap = {int(neuron_id):QtGui.QColor(*np.squeeze(ipcDataExplorer.params.neuron_colors[:, tuning_curve_idx])) for neuron_id, tuning_curve_idx in ipcDataExplorer.params.reverse_cellID_to_tuning_curve_idx_lookup_map.items()}\n",
    "final_perfect_colormap"
   ]
  },
  {
   "cell_type": "code",
   "execution_count": null,
   "id": "7f30b8c2-9baf-45e5-b3b7-f3dd8d884dfe",
   "metadata": {
    "pycharm": {
     "is_executing": false,
     "name": "#%%\n"
    }
   },
   "outputs": [],
   "source": [
    "len(final_perfect_colormap) # 39"
   ]
  },
  {
   "cell_type": "code",
   "execution_count": null,
   "id": "dda1cd93-54cc-4868-a04b-af2e2b56eab8",
   "metadata": {
    "pycharm": {
     "is_executing": false,
     "name": "#%%\n"
    }
   },
   "outputs": [],
   "source": [
    "ipcDataExplorer.on_config_update(updated_colors_map=final_perfect_colormap)"
   ]
  },
  {
   "cell_type": "code",
   "execution_count": null,
   "id": "7e33c762-3348-4b7d-ab39-80ec465458c2",
   "metadata": {
    "pycharm": {
     "is_executing": false,
     "name": "#%%\n"
    }
   },
   "outputs": [],
   "source": [
    "partial_perfect_colormap = {24: [0.9098039215686274, 0.8075259642318465, 0.6095686274509803, 1.0],\n",
    " 25: [1.0, 0.9148351648351648, 0.75, 1.0],\n",
    " 26: [0.388235294117647, 0.4745098039215686, 0.22352941176470587, 1.0],\n",
    " 27: [0.48533923796791445, 0.5796078431372549, 0.3053719008264463, 1.0]}\n",
    "ipcDataExplorer.on_update_spikes_colors(neuron_id_color_update_dict=partial_perfect_colormap)"
   ]
  },
  {
   "cell_type": "code",
   "execution_count": null,
   "id": "643a492d-982d-433b-8063-2ab1dff1705a",
   "metadata": {
    "pycharm": {
     "is_executing": false,
     "name": "#%%\n"
    }
   },
   "outputs": [],
   "source": [
    "QtGui.QColor(*(0.5176470588235295, 0.23529411764705882, 0.22352941176470587, 1.0))"
   ]
  },
  {
   "cell_type": "code",
   "execution_count": null,
   "id": "07042754-37ac-4dd3-9507-742df5537e24",
   "metadata": {
    "pycharm": {
     "is_executing": false,
     "name": "#%%\n"
    }
   },
   "outputs": [],
   "source": [
    "# don't use this one!\n",
    "len(ipcDataExplorer.params.reverse_cellID_idx_lookup_map) # 40"
   ]
  },
  {
   "cell_type": "code",
   "execution_count": null,
   "id": "83ba315a-744f-4700-b9fc-9f49717c9e8f",
   "metadata": {
    "pycharm": {
     "is_executing": false,
     "name": "#%%\n"
    }
   },
   "outputs": [],
   "source": [
    "ipcDataExplorer.active_neuron_render_configs # confirmed same configs as active_tuning_curve_render_configs"
   ]
  },
  {
   "cell_type": "code",
   "execution_count": null,
   "id": "6059bd2a-85d4-405d-8314-6f450238d56b",
   "metadata": {
    "pycharm": {
     "is_executing": false,
     "name": "#%%\n"
    }
   },
   "outputs": [],
   "source": [
    "# ipcDataExplorer.setup_spike_rendering_mixin()\n",
    "\n",
    "ipcDataExplorer.spikes_df # first many entries all look like R G B columns are 0.0 even if rgb_hex isn't and is different!\n",
    "\n",
    "# np.count_nonzero(ipcDataExplorer.spikes_df.R.to_numpy()) # 5989\n",
    "ipcDataExplorer.spikes_df.columns\n",
    "\n",
    "ipcDataExplorer.spikes_df[['aclu', 'fragile_linear_neuron_IDX', 'neuron_IDX']] ## BREAKTHROUGH: 'fragile_linear_neuron_IDX' and 'neuron_IDX' are definitely not equal (but I think they should be)"
   ]
  },
  {
   "cell_type": "code",
   "execution_count": null,
   "id": "9a23d626-59d6-4e01-befb-e75e4cd234c1",
   "metadata": {
    "pycharm": {
     "is_executing": false,
     "name": "#%%\n"
    }
   },
   "outputs": [],
   "source": [
    "np.unique(ipcDataExplorer.spikes_df['fragile_linear_neuron_IDX'])\n",
    "## MAJOR CONCERN: 'fragile_linear_neuron_IDX' values make no sense at all. They aren't even equal to 'aclu'\n",
    "# array([ 0,  1,  2,  3,  5,  6,  7,  8,  9, 10, 12, 15, 16, 19, 20, 21, 22, 23, 24, 25, 26, 27, 31, 32, 36, 37, 40, 42, 43, 44, 45, 46, 51, 53, 55, 56, 59, 60, 61, 62])"
   ]
  },
  {
   "cell_type": "code",
   "execution_count": null,
   "id": "398a9428-b946-45da-9fac-8ef991f940b4",
   "metadata": {
    "pycharm": {
     "is_executing": false,
     "name": "#%%\n"
    }
   },
   "outputs": [],
   "source": [
    "np.unique(ipcDataExplorer.spikes_df['neuron_IDX'])"
   ]
  },
  {
   "cell_type": "code",
   "execution_count": null,
   "id": "893cde2a-0c9f-49f0-898f-a5582c39c3ac",
   "metadata": {
    "pycharm": {
     "is_executing": false,
     "name": "#%%\n"
    }
   },
   "outputs": [],
   "source": [
    "ipcDataExplorer.spikes_df['old_fragile_linear_neuron_IDX']"
   ]
  },
  {
   "cell_type": "code",
   "execution_count": null,
   "id": "f9bd9fd7-ffe6-41a9-b716-db326360f00b",
   "metadata": {
    "pycharm": {
     "is_executing": false,
     "name": "#%%\n"
    }
   },
   "outputs": [],
   "source": [
    "ipcDataExplorer.spikes_df[['aclu', 'fragile_linear_neuron_IDX', 'neuron_IDX', 'old_fragile_linear_neuron_IDX']] ## GOOD: after rebuilding the 'fragile_linear_neuron_IDX' and 'neuron_IDX' columns now match as expected."
   ]
  },
  {
   "cell_type": "code",
   "execution_count": null,
   "id": "fa2dc6a4-97f6-4dc1-86b7-477ab0f7ec1d",
   "metadata": {
    "pycharm": {
     "is_executing": false,
     "name": "#%%\n"
    }
   },
   "outputs": [],
   "source": [
    "ipcDataExplorer.neuron_ids"
   ]
  },
  {
   "cell_type": "code",
   "execution_count": null,
   "id": "5d819b67-053a-4fe1-89e1-26a183be6e9f",
   "metadata": {
    "pycharm": {
     "is_executing": false,
     "name": "#%%\n"
    }
   },
   "outputs": [],
   "source": [
    "# ipcDataExplorer.update_active_spikes(\n",
    "ipcDataExplorer.update_spikes()"
   ]
  },
  {
   "cell_type": "code",
   "execution_count": null,
   "id": "ea8ef463-a283-4d0b-a9bd-8a57823c22ec",
   "metadata": {
    "pycharm": {
     "is_executing": false,
     "name": "#%%\n"
    }
   },
   "outputs": [],
   "source": [
    "## Rebuild the IDXs\n",
    "ipcDataExplorer.spikes_df.spikes._obj, neuron_id_to_new_IDX_map_new_method = ipcDataExplorer.spikes_df.spikes.rebuild_fragile_linear_neuron_IDXs(debug_print=True)\n",
    "new_neuron_IDXs = list(neuron_id_to_new_IDX_map_new_method.values())"
   ]
  },
  {
   "cell_type": "code",
   "execution_count": null,
   "id": "c515da07-d574-4d9c-8b77-1bdbbc80a2c9",
   "metadata": {
    "pycharm": {
     "is_executing": false,
     "name": "#%%\n"
    }
   },
   "outputs": [],
   "source": [
    "ipcDataExplorer.params.cell_spike_opaque_colors_dict # this is what spikes_df's 'R', 'G', 'B' columns set from.\n",
    "# keys are neuron_IDX format"
   ]
  },
  {
   "cell_type": "code",
   "execution_count": null,
   "id": "e925ff62-a230-4907-92a7-1f43b0cca1fb",
   "metadata": {
    "pycharm": {
     "is_executing": false,
     "name": "#%%\n"
    }
   },
   "outputs": [],
   "source": [
    "# Disable the bar on the docks:\n",
    "dDisplayItem1 = root_dockAreaWindow.dynamic_display_dict['Dock1 - Controls']['Dock1 - Controls']['dock']\n",
    "dDisplayItem2 = root_dockAreaWindow.dynamic_display_dict['Dock2 - Content']['Dock2 - Content']['dock']\n",
    "\n",
    "dDisplayItem1.hideTitleBar()\n",
    "dDisplayItem2.hideTitleBar()"
   ]
  },
  {
   "cell_type": "code",
   "execution_count": null,
   "id": "f1eef3b5-5827-4deb-b165-6df85bce61e4",
   "metadata": {
    "pycharm": {
     "is_executing": false,
     "name": "#%%\n"
    }
   },
   "outputs": [],
   "source": [
    "ipcDataExplorer.params.end_button_helper_obj.btn_show_all_callback(True)"
   ]
  },
  {
   "cell_type": "code",
   "execution_count": null,
   "id": "f48ba047-fc62-4846-ad1c-69649990098d",
   "metadata": {
    "pycharm": {
     "is_executing": false,
     "name": "#%%\n"
    }
   },
   "outputs": [],
   "source": [
    "# ipcDataExplorer.update_tuning_curve_configs()\n",
    "ipcDataExplorer.update_neuron_render_configs()"
   ]
  },
  {
   "cell_type": "code",
   "execution_count": null,
   "id": "d1c59dcb-0bcf-4212-8c7b-dce729909565",
   "metadata": {
    "pycharm": {
     "is_executing": false,
     "name": "#%%\n"
    },
    "scrolled": true
   },
   "outputs": [],
   "source": [
    "# ipcDataExplorer.params.cell_spike_colors_dict\n",
    "# ipcDataExplorer.active_neuron_render_configs\n",
    "\n",
    "active_placefields = ipcDataExplorer.params.active_epoch_placefields\n",
    "# ipcDataExplorer.params.pf_color\n",
    "pf_colors = ipcDataExplorer.params.pf_colors\n",
    "if np.shape(pf_colors)[1] > 3:\n",
    "    opaque_pf_colors = pf_colors[0:3,:].copy() # get only the RGB values, discarding any potnential alpha information\n",
    "else:\n",
    "    opaque_pf_colors = pf_colors.copy()\n",
    "\n",
    "occupancy = active_placefields.ratemap.occupancy.copy()\n",
    "# curr_tuning_curves = active_placefields.ratemap.tuning_curves.copy() # (39, 59, 21)\n",
    "curr_tuning_curves = active_placefields.ratemap.normalized_tuning_curves.copy() # (39, 59, 21)\n",
    "good_placefield_neuronIDs = ipcDataExplorer.params.pf_unit_ids\n",
    "# np.shape(curr_tuning_curves) # (39, 59, 21)\n",
    "# np.isnan(curr_tuning_curves)\n",
    "# np.count_nonzero(np.isnan(curr_tuning_curves))\n",
    "\n",
    "\n",
    "# Never Visited Mask\n",
    "# occupancy"
   ]
  },
  {
   "cell_type": "code",
   "execution_count": null,
   "id": "35581810-d1b5-4098-9d63-c110ace2cda7",
   "metadata": {
    "pycharm": {
     "is_executing": false,
     "name": "#%%\n"
    },
    "scrolled": true
   },
   "outputs": [],
   "source": [
    "# never_visited_occupancy_mask\n",
    "i = 0\n",
    "curr_active_neuron_ID = good_placefield_neuronIDs[i]\n",
    "curr_active_neuron_color = pf_colors[:, i]\n",
    "curr_active_neuron_opaque_color = opaque_pf_colors[:,i]\n",
    "curr_active_neuron_pf_identifier = 'pf[{}]'.format(curr_active_neuron_ID)\n",
    "curr_active_neuron_tuning_Curve = np.squeeze(curr_tuning_curves[i,:,:]).T.copy() # A single tuning curve, (21, 59)\n",
    "# curr_active_neuron_tuning_Curve"
   ]
  },
  {
   "cell_type": "code",
   "execution_count": null,
   "id": "391ba34c-757b-4270-b7b4-6d15bcc605a9",
   "metadata": {
    "pycharm": {
     "is_executing": false,
     "name": "#%%\n"
    }
   },
   "outputs": [],
   "source": [
    "curr_active_plot_actor = ipcDataExplorer.plots['tuningCurvePlotActors'][i]\n",
    "curr_active_plot_data = ipcDataExplorer.plots_data['tuningCurvePlotData'][i]\n",
    "curr_active_plot_data\n",
    "pdata_currActiveNeuronTuningCurve = curr_active_plot_data['pdata_currActiveNeuronTuningCurve'] # StructuredGrid\n",
    "\n",
    "# Test Extracting Points:\n",
    "curr_mesh_extracted_pts = pdata_currActiveNeuronTuningCurve.extract_points(pdata_currActiveNeuronTuningCurve.points[:, 2] > 0)\n",
    "type(curr_mesh_extracted_pts) # UnstructuredGrid"
   ]
  },
  {
   "cell_type": "code",
   "execution_count": null,
   "id": "3ceec384-e5bb-4140-99a0-c5066b0ef05e",
   "metadata": {
    "pycharm": {
     "is_executing": false,
     "name": "#%%\n"
    },
    "scrolled": true
   },
   "outputs": [],
   "source": [
    "# Add labels to points on the yz plane (where x == 0)\n",
    "points = pdata_currActiveNeuronTuningCurve.points\n",
    "# mask = points[:, 0] == 0\n",
    "mask = points[:, 2] > 0.1\n",
    "pActiveTuningCurvesPlotter.add_point_labels(points[mask], points[mask].tolist(), point_size=20, font_size=36)"
   ]
  },
  {
   "cell_type": "code",
   "execution_count": null,
   "id": "ac2979d7-5d5d-4984-bdbe-a6f7006b03a8",
   "metadata": {
    "pycharm": {
     "is_executing": false,
     "name": "#%%\n"
    },
    "scrolled": true
   },
   "outputs": [],
   "source": [
    "np.shape(never_visited_occupancy_mask) # (59, 21)\n",
    "np.sum(curr_active_neuron_tuning_Curve[~never_visited_occupancy_mask.T]) # (735,), 7.9040396441924194\n",
    "curr_active_neuron_tuning_Curve[~never_visited_occupancy_mask.T] = np.nan # set non-visited locations to NaN\n",
    "# NOTE: the sum of all visited locations is 36.44356525201446 and those non-visited locations is 7.9040396441924194\n",
    "curr_active_neuron_tuning_Curve"
   ]
  },
  {
   "cell_type": "code",
   "execution_count": null,
   "id": "6ee82014-0295-4c1a-94d7-7986b1cf8d02",
   "metadata": {
    "pycharm": {
     "is_executing": false,
     "name": "#%%\n"
    },
    "scrolled": true
   },
   "outputs": [],
   "source": [
    "curr_active_pipeline.active_configs[active_config_name].keys()"
   ]
  },
  {
   "cell_type": "code",
   "execution_count": null,
   "id": "5d16525f-8079-4241-87a5-940a4b0bca90",
   "metadata": {
    "pycharm": {
     "is_executing": false,
     "name": "#%%\n"
    },
    "scrolled": true
   },
   "outputs": [],
   "source": [
    "\n",
    "updated_video_output_config = curr_active_pipeline.active_configs[active_config_name]['video_output_config']\n",
    "updated_video_output_config.active_frame_range = np.arange(100, 480, 1)\n",
    "updated_video_output_config"
   ]
  },
  {
   "cell_type": "code",
   "execution_count": null,
   "id": "46f6fda6-b3c2-44e1-871a-72b136edd617",
   "metadata": {
    "pycharm": {
     "is_executing": false,
     "name": "#%%\n"
    },
    "scrolled": true
   },
   "outputs": [],
   "source": [
    "# Enable video output by setting: active_is_video_output_mode\n",
    "updated_video_output_config.active_is_video_output_mode = True\n"
   ]
  },
  {
   "cell_type": "code",
   "execution_count": null,
   "id": "42e9d25a-98b4-4769-bc7d-7e4b1f1868e3",
   "metadata": {
    "pycharm": {
     "is_executing": false,
     "name": "#%%\n"
    },
    "scrolled": true
   },
   "outputs": [],
   "source": [
    "import pyvista as pv\n",
    "from pyvista import examples\n",
    "# Download skybox\n",
    "cubemap = examples.download_sky_box_cube_map()\n",
    "ipspikesDataExplorer.p.add_actor(cubemap.to_skybox())\n",
    "ipspikesDataExplorer.p.set_environment_texture(cubemap)  # For reflecting the environment off the mesh"
   ]
  },
  {
   "cell_type": "code",
   "execution_count": null,
   "id": "6cd25037-40c1-4192-9a5b-5f6c4ec2850d",
   "metadata": {
    "pycharm": {
     "is_executing": false,
     "name": "#%%\n"
    },
    "scrolled": true
   },
   "outputs": [],
   "source": [
    "ipspikesDataExplorer.p.enable_shadows()"
   ]
  },
  {
   "cell_type": "code",
   "execution_count": null,
   "id": "843dbbfb-ff6e-42cd-9d10-936cba53adc4",
   "metadata": {
    "pycharm": {
     "is_executing": false,
     "name": "#%%\n"
    },
    "scrolled": true
   },
   "outputs": [],
   "source": [
    "ipspikesDataExplorer.p.render()"
   ]
  },
  {
   "cell_type": "code",
   "execution_count": null,
   "id": "ab74897c-df19-4af9-9e98-a73cbeebd56e",
   "metadata": {
    "pycharm": {
     "is_executing": false,
     "name": "#%%\n"
    },
    "scrolled": true
   },
   "outputs": [],
   "source": [
    "# recent_spikes_mesh.\n",
    "ipspikesDataExplorer.params.longer_spikes_window.duration_seconds = 10.0"
   ]
  },
  {
   "cell_type": "code",
   "execution_count": null,
   "id": "622347fd-9722-4017-a75e-4f1b2aa9afe1",
   "metadata": {
    "pycharm": {
     "is_executing": false,
     "name": "#%%\n"
    },
    "scrolled": true
   },
   "outputs": [],
   "source": [
    "ipspikesDataExplorer.p.enable_depth_peeling(number_of_peels=6, occlusion_ratio=0) # Supposedly helps with translucency"
   ]
  },
  {
   "cell_type": "code",
   "execution_count": null,
   "id": "fbf101d4-2ae4-44f1-81ea-be10a78c0086",
   "metadata": {
    "pycharm": {
     "is_executing": false,
     "name": "#%%\n"
    },
    "scrolled": true
   },
   "outputs": [],
   "source": [
    "# spike_raster_window.spikes_window.on_window_changed()\n",
    "# spike_raster_window.spikes_window.update_window_start(500.0) # doesn't update anything\n",
    "# spike_raster_window.spike_raster_plt_2d.spikes_window.update_window_start(500.0) # doesn't update anything\n",
    "spike_raster_window.spike_raster_plt_2d.update_scroll_window_region(500.0, 700.0, block_signals=False)"
   ]
  },
  {
   "cell_type": "code",
   "execution_count": null,
   "id": "528139f7-d4ee-4a56-b20c-a957b322abdc",
   "metadata": {
    "pycharm": {
     "is_executing": false,
     "name": "#%%\n"
    },
    "scrolled": true
   },
   "outputs": [],
   "source": [
    "# spike_raster_window.spike_3d_to_2d_window_connection.disconnect(spike_raster_window.spike_raster_plt_3d.spikes_window.update_window_start_end)\n",
    "spike_raster_window.spike_raster_plt_2d.window_scrolled.disconnect(spike_raster_window.spike_raster_plt_3d.spikes_window.update_window_start_end)"
   ]
  },
  {
   "cell_type": "code",
   "execution_count": null,
   "id": "7a43771d-61c9-4485-a985-01e4dc662fc6",
   "metadata": {
    "pycharm": {
     "is_executing": false,
     "name": "#%%\n"
    },
    "scrolled": true
   },
   "outputs": [],
   "source": [
    "spike_raster_window.spike_raster_plt_2d.window_scrolled.disconnect()"
   ]
  },
  {
   "cell_type": "code",
   "execution_count": null,
   "id": "1e0693e0-a8a6-4d37-9ad1-3a34c225b02e",
   "metadata": {
    "pycharm": {
     "is_executing": false,
     "name": "#%%\n"
    },
    "scrolled": true
   },
   "outputs": [],
   "source": [
    "spike_raster_window.spike_raster_plt_2d.ui.scroll_window_region.sigRegionChanged.disconnect()"
   ]
  },
  {
   "cell_type": "code",
   "execution_count": null,
   "id": "73a8efe2-c97a-47ee-8241-e9ac1cbfab4d",
   "metadata": {
    "pycharm": {
     "is_executing": false,
     "name": "#%%\n"
    },
    "scrolled": true
   },
   "outputs": [],
   "source": [
    "## Need to the spike indicies that are currently visible in the raster window to programmatically update ipspikesDataExplorer's displayed spikes.\n",
    "# active_epoch_session.flattened_spiketrains.time_slice(curr_lap_spike_t_seconds.values[0], curr_lap_spike_t_seconds.values[-1]).spikes_df\n",
    "# spike_raster_window.spike_raster_plt_2d.spikes_window\n",
    "# curr_win_start, curr_win_end = spike_raster_window.spike_raster_plt_3d.spikes_window.active_time_window\n",
    "# spike_raster_window.spike_raster_plt_3d.spikes_window.active_windowed_df\n",
    "\n",
    "# spike_raster_window.spike_raster_plt_3d.spikes_window.active_windowed_df.index\n",
    "# ipspikesDataExplorer.params.curr_view_window_length_samples # 299\n",
    "# np.shape(ipspikesDataExplorer.params.pre_computed_window_sample_indicies) # (51157, 299)\n",
    "\n",
    "# np.shape(ipspikesDataExplorer.params.active_trail_opacity_values) # (299,)\n",
    "## Hopefully ipspikesDataExplorer's slider will adjust automatically?"
   ]
  },
  {
   "cell_type": "code",
   "execution_count": null,
   "id": "44f54da9-25c1-49dc-b692-fd5f602beecd",
   "metadata": {
    "pycharm": {
     "is_executing": false,
     "name": "#%%\n"
    },
    "scrolled": true
   },
   "outputs": [],
   "source": [
    "## Test disabling the user-slider:\n",
    "# ipspikesDataExplorer.interface_properties\n",
    "# interactive_timestamp_slider_actor\n",
    "# add_slider_widget\n",
    "\n",
    "## When building widgets:\n",
    "# self.p.add_callback(self.interface_properties, interval=16)  # to be smooth on 60Hz\n",
    "\n",
    "# Removes all slider widgets:\n",
    "# ipspikesDataExplorer.p.clear_slider_widgets()\n",
    "# ipspikesDataExplorer.p.clear_button_widgets() # removes the play/pause toggle checkbox so that it can be driven externally\n",
    "# ipspikesDataExplorer.p.update()\n",
    "# ipspikesDataExplorer.p.render()\n",
    "\n",
    "# ipspikesDataExplorer.p.button_widgets\n",
    "# ipspikesDataExplorer.p.receivers()\n",
    "\n",
    "# For the callback, it looks like I can check the timer here:\n",
    "callback_timer = ipspikesDataExplorer.p._callback_timer  # QTimer\n",
    "callback_timer.isActive()\n",
    "# callback_timer.isSignalConnected()\n",
    "# callback_timer.stop()\n",
    "\n",
    "ipspikesDataExplorer"
   ]
  },
  {
   "cell_type": "code",
   "execution_count": null,
   "id": "b13c74b9-65e1-40a6-81c0-f1cda66a324f",
   "metadata": {
    "pycharm": {
     "is_executing": false,
     "name": "#%%\n"
    },
    "scrolled": true
   },
   "outputs": [],
   "source": [
    "spike_raster_window.animation_active_time_window.window_duration"
   ]
  },
  {
   "cell_type": "code",
   "execution_count": null,
   "id": "6e9568e1-ae37-44f4-8326-c88362601889",
   "metadata": {
    "pycharm": {
     "is_executing": false,
     "name": "#%%\n"
    },
    "scrolled": true
   },
   "outputs": [],
   "source": [
    "# Get the times that fall within the current plot window:\n",
    "curr_win_start, curr_win_end = spike_raster_window.spike_raster_plt_3d.spikes_window.active_time_window\n",
    "# np.shape(ipspikesDataExplorer.t) # (51455,)\n",
    "\n",
    "# active_window_sample_indicies\n",
    "active_included_all_window_position_indicies = ((ipspikesDataExplorer.t > curr_win_start) & (ipspikesDataExplorer.t < curr_win_end)) # Two Sided Range Mode\n",
    "# active_included_all_window_position_indicies\n",
    "print(f'np.shape(active_included_all_window_position_indicies): {np.shape(active_included_all_window_position_indicies)}') # (51455,)\n",
    "\n",
    "# active_included_all_window_position_indicies = np.where(active_included_all_window_position_indicies) # was a boolean area, but get the indices where true instead\n",
    "active_included_all_window_position_indicies = np.squeeze(active_included_all_window_position_indicies.nonzero()) # was a boolean area, but get the indices where true instead.  (1106,)\n",
    "print(f'np.shape(active_included_all_window_position_indicies): {np.shape(active_included_all_window_position_indicies)}; active_included_all_window_position_indicies: {active_included_all_window_position_indicies}')\n",
    "\n",
    "active_num_samples = len(active_included_all_window_position_indicies)\n",
    "\n",
    "## TODO: I think active_included_all_window_position_indicies better be the same length as .params.active_trail_opacity_values and .params.active_trail_size_values\n",
    "# ipspikesDataExplorer.params.curr_view_window_length_samples\n",
    "\n",
    "max_num_samples = ipspikesDataExplorer.params.curr_view_window_length_samples # 299\n",
    "if active_num_samples > max_num_samples:\n",
    "    print(f'len(active_included_all_window_position_indicies) ({active_num_samples}) > max_num_samples ({max_num_samples}). Cutting.')\n",
    "    active_included_all_window_position_indicies = active_included_all_window_position_indicies[-max_num_samples:] # get only the last (meaning most recent) max_num_samples samples from the indicies that should be displayed\n",
    "    active_num_samples = max_num_samples # cut down to the max number of samples\n",
    "    \n",
    "print(f'np.shape(active_included_all_window_position_indicies): {np.shape(active_included_all_window_position_indicies)}, active_num_samples: {active_num_samples}') # np.shape(active_included_all_window_position_indicies): (1, 1106), active_num_samples: 1    \n",
    "\n",
    "# print(f'np.shape(active_included_all_window_position_indicies): {np.shape(active_included_all_window_position_indicies)}, active_num_samples: {active_num_samples}')    \n",
    "# ipspikesDataExplorer.x[active_included_all_window_position_indicies], ipspikesDataExplorer.y[active_included_all_window_position_indicies], ipspikesDataExplorer.z_fixed[-active_num_samples:]\n",
    "\n",
    "## Animal Position and Location Trail Plotting:\n",
    "ipspikesDataExplorer.perform_plot_location_trail('animal_location_trail', ipspikesDataExplorer.x[active_included_all_window_position_indicies], ipspikesDataExplorer.y[active_included_all_window_position_indicies], ipspikesDataExplorer.z_fixed[-active_num_samples:],\n",
    "                                     trail_fade_values=ipspikesDataExplorer.params.active_trail_opacity_values, trail_point_size_values=ipspikesDataExplorer.params.active_trail_size_values,\n",
    "                                     render=False)\n",
    "\n",
    "## Animal Current Position:\n",
    "curr_animal_point = [ipspikesDataExplorer.x[active_included_all_window_position_indicies[-1]], ipspikesDataExplorer.y[active_included_all_window_position_indicies[-1]], ipspikesDataExplorer.z_fixed[-1]]\n",
    "ipspikesDataExplorer.perform_plot_location_point('animal_current_location_point', curr_animal_point, render=False)\n",
    "\n",
    "\n",
    "\n",
    "# curr_time_fixedSegments = ipspikesDataExplorer.t[active_window_sample_indicies] # New Way"
   ]
  },
  {
   "cell_type": "code",
   "execution_count": null,
   "id": "c88ef53b-5282-4c49-80bc-83ca9ae6ab8b",
   "metadata": {
    "pycharm": {
     "is_executing": false,
     "name": "#%%\n"
    },
    "scrolled": true
   },
   "outputs": [],
   "source": [
    "curr_win_start, curr_win_end = spike_raster_window.spike_raster_plt_3d.spikes_window.active_time_window\n",
    "ipspikesDataExplorer.on_active_window_update_mesh(curr_win_start, curr_win_end, enable_position_mesh_updates=True, render=True)\n",
    "\n",
    "# ipspikesDataExplorer.on_programmatic_data_update(self, active_included_all_historical_indicies=None, active_included_recent_only_indicies=None, active_window_sample_indicies=None, curr_animal_point=None)\n",
    "\n",
    "### Lap Example of programmatic updating:\n",
    "# curr_lap_id = 0\n",
    "\n",
    "# curr_lap_t_start, curr_lap_t_stop = get_lap_times(curr_lap_id)\n",
    "# curr_lap_subsession = lap_specific_subsessions[curr_lap_id]\n",
    "# curr_lap_dataframe = lap_specific_dataframes[curr_lap_id] # the subset dataframe for this lap\n",
    "# curr_lap_spike_t_seconds = curr_lap_dataframe.t_seconds\n",
    "# curr_lap_spike_indicies = lap_spike_indicies[curr_lap_id] # all spike indicies that occured within the lap\n",
    "# curr_lap_position_traces = curr_lap_subsession.position.traces # the animal positions that were traversed during this lap\n",
    "\n",
    "# curr_lap_num_spikes = len(curr_lap_spike_indicies)\n",
    "# print('lap[{}]: ({}, {}): {} spikes.'.format(curr_lap_id, curr_lap_t_start, curr_lap_t_stop, curr_lap_num_spikes))\n",
    "\n",
    "# ipspikesDataExplorer.on_programmatic_data_update(active_included_all_historical_indicies=curr_lap_spike_indicies, active_included_recent_only_indicies=curr_lap_spike_indicies) # index 145937 is out of bounds for axis 0 with size 19647\n",
    "# ipspikesDataExplorer.on_programmatic_data_update(active_included_all_historical_indicies=curr_lap_spike_t_seconds, active_included_recent_only_indicies=curr_lap_spike_t_seconds) # \n",
    "# ipspikesDataExplorer.on_programmatic_data_update(active_included_all_historical_indicies=curr_lap_spike_t_seconds.values, active_included_recent_only_indicies=curr_lap_spike_t_seconds.values) # "
   ]
  },
  {
   "cell_type": "code",
   "execution_count": null,
   "id": "4cffabec-1266-482a-9018-c458e6dfa3f2",
   "metadata": {
    "pycharm": {
     "is_executing": false,
     "name": "#%%\n"
    },
    "scrolled": true
   },
   "outputs": [],
   "source": [
    "## Can Programmaticallyt set the visibility on the different plotted elements:\n",
    "ipspikesDataExplorer.toggle_plot_visibility('spikes_main_historical')\n",
    "# ipspikesDataExplorer.toggle_plot_visibility('spikes_main_recent_only')\n",
    "# ipspikesDataExplorer.toggle_plot_visibility('animal_location_trail')\n",
    "# ipspikesDataExplorer.toggle_plot_visibility('animal_current_location_point')\n",
    "# toggle_visibility(ipspikesDataExplorer.spikes_main_recent_only)\n",
    "# toggle_visibility(ipspikesDataExplorer.animal_location_trail)\n",
    "# toggle_visibility(ipspikesDataExplorer.animal_current_location_point)"
   ]
  },
  {
   "cell_type": "code",
   "execution_count": null,
   "id": "2740e3d9-2072-44f1-86a8-4a558d307a37",
   "metadata": {
    "pycharm": {
     "is_executing": false,
     "name": "#%%\n"
    }
   },
   "outputs": [],
   "source": [
    "import pyvista as pv\n",
    "from pyvistaqt import BackgroundPlotter\n",
    "\n",
    "## Test Adding Points:\n",
    "\n",
    "\n",
    "# curr_mesh_extracted_pts # UnstructuredGrid\n",
    "curr_points_actor = curr_mesh_extracted_pts.plot(show_edges=True, line_width=3, point_size=20, )\n",
    "\n",
    "pl = BackgroundPlotter()\n",
    "curr_points_actor = pl.add_points(curr_mesh_extracted_pts, render_points_as_spheres=True, point_size=2.0, color='black')\n",
    "pl.show()\n"
   ]
  },
  {
   "cell_type": "markdown",
   "id": "a07d8a4d-3339-4f57-bb2e-3c62c181f77e",
   "metadata": {
    "jp-MarkdownHeadingCollapsed": true,
    "pycharm": {
     "name": "#%%\n"
    },
    "tags": []
   },
   "source": [
    "# Individual Plotting Tests:"
   ]
  },
  {
   "cell_type": "markdown",
   "id": "0ea41eed-55e1-4a46-8b2a-5215be482212",
   "metadata": {
    "tags": []
   },
   "source": [
    "### Utility:"
   ]
  },
  {
   "cell_type": "code",
   "execution_count": null,
   "id": "82de15b7-8404-43f5-89f0-dd54d3538233",
   "metadata": {
    "scrolled": true
   },
   "outputs": [],
   "source": [
    "# Reload display functions:\n",
    "curr_active_pipeline.reload_default_display_functions()\n",
    "curr_active_pipeline.registered_display_function_names # ['_display_1d_placefield_validations', '_display_2d_placefield_result_plot_ratemaps_2D', '_display_2d_placefield_result_plot_raw', '_display_normal', '_display_placemaps_pyqtplot_2D', '_display_decoder_result', '_display_plot_most_likely_position_comparisons', '_display_two_step_decoder_prediction_error_2D', '_display_two_step_decoder_prediction_error_animated_2D', '_display_spike_rasters_pyqtplot_2D', '_display_spike_rasters_pyqtplot_3D', '_display_spike_rasters_pyqtplot_3D_with_2D_controls', '_display_spike_rasters_vedo_3D', '_display_spike_rasters_vedo_3D_with_2D_controls', '_display_spike_rasters_window', '_display_speed_vs_PFoverlapDensity_plots', '_display_3d_image_plotter', '_display_3d_interactive_custom_data_explorer', '_display_3d_interactive_spike_and_behavior_browser', '_display_3d_interactive_tuning_curves_plotter']\n",
    "print(curr_active_pipeline.registered_display_function_names)"
   ]
  },
  {
   "cell_type": "code",
   "execution_count": null,
   "id": "49254b40-041b-4733-ab30-0ab6f0396d72",
   "metadata": {
    "scrolled": true
   },
   "outputs": [],
   "source": [
    "## Test getting figure save paths:\n",
    "_test_fig_path = curr_active_config.plotting_config.get_figure_save_path('test')\n",
    "print(f'_test_fig_path: {_test_fig_path}\\n\\t exists? {_test_fig_path.exists()}')"
   ]
  },
  {
   "cell_type": "code",
   "execution_count": null,
   "id": "42f3eb11-e517-4e2e-8886-168f8c284cbf",
   "metadata": {},
   "outputs": [],
   "source": [
    "%matplotlib --list \n",
    "# Available matplotlib backends: ['tk', 'gtk', 'gtk3', 'gtk4', 'wx', 'qt4', 'qt5', 'qt6', 'qt', 'osx', 'nbagg', 'notebook', 'agg', 'svg', 'pdf', 'ps', 'inline', 'ipympl', 'widget']"
   ]
  },
  {
   "cell_type": "markdown",
   "id": "08c07005-5574-41bc-9e5c-f9c82818df2e",
   "metadata": {
    "tags": []
   },
   "source": [
    "### Common Config"
   ]
  },
  {
   "cell_type": "code",
   "execution_count": null,
   "id": "1a0a08d8-97ed-4240-b552-2bfe6048617c",
   "metadata": {
    "scrolled": true
   },
   "outputs": [],
   "source": [
    "## MATPLOTLIB Imports:\n",
    "import matplotlib\n",
    "# configure backend here\n",
    "matplotlib.use('Qt5Agg')\n",
    "import matplotlib.pyplot as plt\n",
    "# display matplotlib figures in a qt backed window. Works in Jupyter notebooks\n",
    "from matplotlib.backends import backend_pdf, backend_pgf, backend_ps\n",
    "from PendingNotebookCode import _build_programmatic_display_function_testing_pdf_metadata\n",
    "\n",
    "## PYQTGRAPH Imports:\n",
    "from pyphoplacecellanalysis.General.Mixins.ExportHelpers import export_pyqtgraph_plot\n",
    "\n",
    "enable_saving_to_disk = True\n",
    "# enable_saving_to_disk = False\n",
    "\n",
    "filter_name = active_config_name\n",
    "_build_pdf_pages_output_info, programmatic_display_function_testing_output_parent_path = _build_programmatic_display_function_testing_pdf_metadata(curr_active_pipeline, filter_name=filter_name,\n",
    "                                                                                                                                                   out_path=Path(r'C:\\Users\\pho\\repos\\PhoPy3DPositionAnalysis2021\\EXTERNAL\\Screenshots\\ProgrammaticDisplayFunctionTesting\\2022-08-01'))\n",
    "reveal_in_system_file_manager(programmatic_display_function_testing_output_parent_path)"
   ]
  },
  {
   "cell_type": "markdown",
   "id": "6abc004f-a5d9-4979-8cde-f202597ba1ba",
   "metadata": {
    "pycharm": {
     "name": "#%%\n"
    },
    "tags": []
   },
   "source": [
    "## Old Individual Plotting Functions:"
   ]
  },
  {
   "cell_type": "code",
   "execution_count": null,
   "id": "832c0030-b46b-4c62-961d-b6b69272d8a6",
   "metadata": {},
   "outputs": [],
   "source": [
    "%matplotlib qt\n",
    "## NOTE THAT ONCE THIS IS SET TO qt, it cannot be undone!"
   ]
  },
  {
   "cell_type": "code",
   "execution_count": null,
   "id": "b750f2c7-0cd6-4ee2-9a5a-d595e5f481ea",
   "metadata": {
    "pycharm": {
     "is_executing": false
    }
   },
   "outputs": [],
   "source": [
    "# from neuropy.plotting.ratemaps import enumTuningMap2DPlotVariables # for getting the variant name from the dict\n",
    "from neuropy.utils.matplotlib_helpers import enumTuningMap2DPlotVariables # for getting the variant name from the dict\n",
    "\n",
    "# figure_format_config = dict(subplots=(20, 8), max_screen_figure_size=(2256, 2048)) # bad way\n",
    "figure_format_config = dict(max_screen_figure_size=(None, 1868)) # good way\n",
    "## Add additional default options:\n",
    "figure_format_config = (dict(enable_spike_overlay=False, debug_print=False, enable_saving_to_disk=enable_saving_to_disk) | figure_format_config)\n",
    "# plots_fig_nums_dict: a dictionary of the indicies for each plot\n",
    "plots_fig_nums_dict = {filter_name:((float(i+1)*10.0) + np.array([0, 1])) for i, filter_name in enumerate(curr_active_pipeline.active_config_names)} # {'maze1': array([10, 11]), 'maze2': array([20, 21])}"
   ]
  },
  {
   "cell_type": "code",
   "execution_count": null,
   "id": "13ebb108-7882-4b86-afee-c91f4fd43976",
   "metadata": {},
   "outputs": [],
   "source": [
    "curr_fig_save_path = curr_active_config.plotting_config.get_figure_save_path()\n",
    "reveal_in_system_file_manager(curr_fig_save_path)"
   ]
  },
  {
   "cell_type": "markdown",
   "id": "7da1e6c6-57ee-4242-95bd-2099edd1fcbd",
   "metadata": {},
   "source": [
    "### Plots for each maze:"
   ]
  },
  {
   "cell_type": "code",
   "execution_count": null,
   "id": "a65ebe4f-b775-4858-be1b-712707326753",
   "metadata": {},
   "outputs": [],
   "source": [
    "filter_name = 'maze1'\n",
    "curr_active_pipeline.display('_display_2d_placefield_result_plot_ratemaps_2D', filter_name, plot_variable=enumTuningMap2DPlotVariables.SPIKES_MAPS, fignum=plots_fig_nums_dict[filter_name][0], **figure_format_config) # works!\n",
    "curr_active_pipeline.display('_display_2d_placefield_result_plot_ratemaps_2D', filter_name, plot_variable=enumTuningMap2DPlotVariables.TUNING_MAPS, fignum=plots_fig_nums_dict[filter_name][1], **figure_format_config) "
   ]
  },
  {
   "cell_type": "code",
   "execution_count": null,
   "id": "794ad5c3-328d-41a9-b7c2-2bc6f7aaf2f7",
   "metadata": {},
   "outputs": [],
   "source": [
    "filter_name = 'maze2'\n",
    "curr_active_pipeline.display('_display_2d_placefield_result_plot_ratemaps_2D', filter_name, plot_variable=enumTuningMap2DPlotVariables.SPIKES_MAPS, fignum=plots_fig_nums_dict[filter_name][0], **figure_format_config) # works!\n",
    "curr_active_pipeline.display('_display_2d_placefield_result_plot_ratemaps_2D', filter_name, plot_variable=enumTuningMap2DPlotVariables.TUNING_MAPS, fignum=plots_fig_nums_dict[filter_name][1], **figure_format_config)"
   ]
  },
  {
   "cell_type": "code",
   "execution_count": null,
   "id": "302434e5-bdc2-4c62-8527-937ad2210b96",
   "metadata": {},
   "outputs": [],
   "source": [
    "filter_name = 'maze'\n",
    "curr_active_pipeline.display('_display_2d_placefield_result_plot_ratemaps_2D', filter_name, plot_variable=enumTuningMap2DPlotVariables.SPIKES_MAPS, fignum=plots_fig_nums_dict[filter_name][0], **figure_format_config) # works!\n",
    "curr_active_pipeline.display('_display_2d_placefield_result_plot_ratemaps_2D', filter_name, plot_variable=enumTuningMap2DPlotVariables.TUNING_MAPS, fignum=plots_fig_nums_dict[filter_name][1], **figure_format_config)"
   ]
  },
  {
   "cell_type": "code",
   "execution_count": null,
   "id": "81189ce9-ad86-4c47-bc72-0d2fa101d9f8",
   "metadata": {
    "scrolled": true
   },
   "outputs": [],
   "source": [
    "# TODO: WARNING: creates new figures, which means many open windows when using %matplotlib qt\n",
    "curr_active_pipeline.display(DefaultDisplayFunctions._display_1d_placefield_validations, 'maze1') # works!"
   ]
  },
  {
   "cell_type": "markdown",
   "id": "2c5931d5-08ff-4e74-83e7-b123c8e8892c",
   "metadata": {
    "tags": []
   },
   "source": [
    "## Systematic Display Function Testing"
   ]
  },
  {
   "cell_type": "markdown",
   "id": "6f70f924-ee90-4679-bdba-d0f6ba3b7715",
   "metadata": {},
   "source": [
    "### Matplotlib-based plots:"
   ]
  },
  {
   "cell_type": "code",
   "execution_count": null,
   "id": "89d7a04e-6f04-42ab-9a7c-58b4f48976bd",
   "metadata": {
    "pycharm": {
     "name": "#%%\n"
    }
   },
   "outputs": [],
   "source": [
    "%%capture\n",
    "#The above hides the output in JupyterLab Notebooks, must be first line in the cell to hide the output of\n",
    "curr_display_function_name = '_display_1d_placefield_validations'\n",
    "built_pdf_metadata, curr_pdf_save_path = _build_pdf_pages_output_info(curr_display_function_name)\n",
    "with backend_pdf.PdfPages(curr_pdf_save_path, keep_empty=False, metadata=built_pdf_metadata) as pdf:\n",
    "    # plt.ioff() # disable displaying the plots inline in the Jupyter-lab notebook. NOTE: does not work in Jupyter-Lab, figures still show\n",
    "    plots = curr_active_pipeline.display(curr_display_function_name, active_config_name) # works, but generates a TON of plots!\n",
    "    # plt.ion()\n",
    "    for fig_idx, a_fig in enumerate(plots):\n",
    "        # print(f'saving fig: {fig_idx+1}/{len(plots)}')\n",
    "        pdf.savefig(a_fig)\n",
    "        # pdf.savefig(a_fig, transparent=True)\n",
    "    # When no figure is specified the current figure is saved\n",
    "    # pdf.savefig()"
   ]
  },
  {
   "cell_type": "code",
   "execution_count": null,
   "id": "e063f67f-a950-4b2f-95e7-e9d3242de25c",
   "metadata": {
    "scrolled": true
   },
   "outputs": [],
   "source": [
    "%%capture\n",
    "curr_display_function_name = '_display_2d_placefield_result_plot_raw'\n",
    "built_pdf_metadata, curr_pdf_save_path = _build_pdf_pages_output_info(curr_display_function_name)\n",
    "with backend_pdf.PdfPages(curr_pdf_save_path, keep_empty=False, metadata=built_pdf_metadata) as pdf:\n",
    "    a_fig = curr_active_pipeline.display(curr_display_function_name, filter_name)\n",
    "    pdf.savefig(a_fig)\n",
    "\n",
    "# Issue with unexpected kwargs passed to plots. Solve generally.\n",
    "# TypeError: plot_raw() got an unexpected keyword argument 'enable_saving_to_disk'"
   ]
  },
  {
   "cell_type": "code",
   "execution_count": null,
   "id": "6b04ed7e-8737-47e7-bc61-2c0515ff68db",
   "metadata": {
    "scrolled": true
   },
   "outputs": [],
   "source": [
    "# %%capture\n",
    "curr_display_function_name = '_display_normal'\n",
    "built_pdf_metadata, curr_pdf_save_path = _build_pdf_pages_output_info(curr_display_function_name)\n",
    "with backend_pdf.PdfPages(curr_pdf_save_path, keep_empty=False, metadata=built_pdf_metadata) as pdf:\n",
    "    fig0, figList1 = curr_active_pipeline.display(curr_display_function_name, filter_name, debug_print=False, enable_saving_to_disk=enable_saving_to_disk)\n",
    "    plots = [fig0, *figList1]\n",
    "    for a_fig in plots:\n",
    "        pdf.savefig(a_fig)"
   ]
  },
  {
   "cell_type": "code",
   "execution_count": null,
   "id": "3106bd7c-0785-4807-91a8-81c157dc7f7c",
   "metadata": {
    "scrolled": true
   },
   "outputs": [],
   "source": [
    "curr_active_pipeline.filtered_session_names"
   ]
  },
  {
   "cell_type": "code",
   "execution_count": null,
   "id": "94918b36-16e7-4fc5-81e7-a658ad273769",
   "metadata": {
    "scrolled": true
   },
   "outputs": [],
   "source": [
    "curr_display_function_name = '_display_2d_placefield_result_plot_ratemaps_2D'\n",
    "built_pdf_metadata, curr_pdf_save_path = _build_pdf_pages_output_info(curr_display_function_name)\n",
    "out_fig_list = []\n",
    "figure_format_config['enable_saving_to_disk'] = False # don't use the in-built figure export/saving to disk functionality as we want to wrap the output figure with the Pdf saving, not write to a .png\n",
    "with backend_pdf.PdfPages(curr_pdf_save_path, keep_empty=False, metadata=built_pdf_metadata) as pdf:    \n",
    "    for filter_name in curr_active_pipeline.filtered_session_names:\n",
    "        print(f'filter_name: {filter_name}')\n",
    "        out_fig_list.extend(curr_active_pipeline.display(curr_display_function_name, filter_name, plot_variable=enumTuningMap2DPlotVariables.SPIKES_MAPS, fignum=plots_fig_nums_dict[filter_name][0], **figure_format_config)) # works!\n",
    "        out_fig_list.extend(curr_active_pipeline.display(curr_display_function_name, filter_name, plot_variable=enumTuningMap2DPlotVariables.TUNING_MAPS, fignum=plots_fig_nums_dict[filter_name][1], **figure_format_config))\n",
    "        for a_fig in out_fig_list:\n",
    "            pdf.savefig(a_fig)"
   ]
  },
  {
   "cell_type": "code",
   "execution_count": null,
   "id": "208ccda9-0c1a-4743-8ad7-3c7a90f96c04",
   "metadata": {
    "scrolled": true
   },
   "outputs": [],
   "source": [
    "%%capture\n",
    "curr_display_function_name = '_display_decoder_result'\n",
    "built_pdf_metadata, curr_pdf_save_path = _build_pdf_pages_output_info(curr_display_function_name)\n",
    "with backend_pdf.PdfPages(curr_pdf_save_path, keep_empty=False, metadata=built_pdf_metadata) as pdf:\n",
    "    plots = curr_active_pipeline.display(curr_display_function_name, filter_name)\n",
    "    print(plots)\n",
    "    # pdf.savefig(a_fig)"
   ]
  },
  {
   "cell_type": "markdown",
   "id": "0be6f5f0-f4d0-4ce6-acde-c78e23847386",
   "metadata": {
    "jp-MarkdownHeadingCollapsed": true,
    "tags": []
   },
   "source": [
    "### PyQtGraph-based plots:"
   ]
  },
  {
   "cell_type": "code",
   "execution_count": null,
   "id": "8d36faf2-93e3-4e3c-8637-5d5f1cf65cd0",
   "metadata": {
    "pycharm": {
     "name": "#%%\n"
    }
   },
   "outputs": [],
   "source": [
    "curr_active_pipeline.display('_display_two_step_decoder_prediction_error_2D', active_config_name, variable_name='p_x_given_n_and_x_prev') # works!"
   ]
  },
  {
   "cell_type": "code",
   "execution_count": null,
   "id": "f0c49ccf",
   "metadata": {
    "pycharm": {
     "name": "#%%\n"
    }
   },
   "outputs": [],
   "source": [
    "curr_active_pipeline.display('_display_two_step_decoder_prediction_error_animated_2D', active_config_name, variable_name='p_x_given_n')"
   ]
  },
  {
   "cell_type": "code",
   "execution_count": null,
   "id": "c14b1549-6a5f-493f-98f2-3b3f367cc43b",
   "metadata": {
    "pycharm": {
     "name": "#%%\n"
    }
   },
   "outputs": [],
   "source": [
    "curr_active_pipeline.display('_display_two_step_decoder_prediction_error_2D', active_config_name, variable_name='p_x_given_n') # works!"
   ]
  },
  {
   "cell_type": "code",
   "execution_count": null,
   "id": "5249ee97-6127-4815-b0a9-63adc3c7b858",
   "metadata": {
    "scrolled": true
   },
   "outputs": [],
   "source": [
    "curr_display_function_name = '_display_spike_rasters_pyqtplot_2D'\n",
    "curr_active_pipeline.display(curr_display_function_name, filter_name, debug_print=False, enable_saving_to_disk=enable_saving_to_disk) "
   ]
  },
  {
   "cell_type": "code",
   "execution_count": null,
   "id": "76ecbf71-92fb-41ac-ae91-704815fa401d",
   "metadata": {
    "scrolled": true
   },
   "outputs": [],
   "source": [
    "## Works, displays my velocity/density result for both 2D and 1D:\n",
    "# out_plot_1D, out_plot_2D = curr_active_pipeline.display('_display_speed_vs_PFoverlapDensity_plots', active_config_name)\n",
    "curr_display_function_name = '_display_speed_vs_PFoverlapDensity_plots'\n",
    "plots = curr_active_pipeline.display(curr_display_function_name, filter_name)\n",
    "plots"
   ]
  },
  {
   "cell_type": "code",
   "execution_count": null,
   "id": "0167194d-fd65-414a-b98c-d52bb5431980",
   "metadata": {
    "tags": []
   },
   "outputs": [],
   "source": [
    "curr_display_function_name = '_display_placemaps_pyqtplot_2D'\n",
    "out_plots = curr_active_pipeline.display(curr_display_function_name, filter_name)    \n",
    "out_plots[1].show()"
   ]
  },
  {
   "cell_type": "code",
   "execution_count": null,
   "id": "4d0f0334-c55b-47e3-9566-24fa03d5b6b5",
   "metadata": {
    "tags": []
   },
   "outputs": [],
   "source": [
    "## KNOWN BAD, locks up, do not execute:\n",
    "curr_display_function_name = 'display_firing_rate_trends'\n",
    "plots = curr_active_pipeline.display(curr_display_function_name, filter_name)"
   ]
  },
  {
   "cell_type": "code",
   "execution_count": null,
   "id": "92072248-64cf-4ccf-93b0-f20104cf15c2",
   "metadata": {
    "tags": []
   },
   "outputs": [],
   "source": [
    "# a_plot = plots[0] # PlotWidget \n",
    "# a_plot_item = a_plot.plotItem # PlotItem\n",
    "# a_plot.scene() # GraphicsScene\n",
    "export_pyqtgraph_plot(plots[0])"
   ]
  },
  {
   "cell_type": "markdown",
   "id": "3fcfe3c2-0531-48ca-88c9-e291377650c4",
   "metadata": {
    "jp-MarkdownHeadingCollapsed": true,
    "tags": []
   },
   "source": [
    "### 3D (PyVista/Vedo/etc)-based plots:"
   ]
  },
  {
   "cell_type": "code",
   "execution_count": null,
   "id": "b0beb5b7-aa10-464e-a0a5-17682f66829b",
   "metadata": {
    "pycharm": {
     "is_executing": false,
     "name": "#%%\n"
    }
   },
   "outputs": [],
   "source": [
    "curr_active_pipeline.display('_display_3d_interactive_spike_and_behavior_browser', active_config_name) # this works now!"
   ]
  },
  {
   "cell_type": "code",
   "execution_count": null,
   "id": "ade9db56-3c6a-4216-ac7a-b763dfb42541",
   "metadata": {
    "pycharm": {
     "is_executing": false,
     "name": "#%%\n"
    }
   },
   "outputs": [],
   "source": [
    "display_dict = curr_active_pipeline.display('_display_3d_interactive_custom_data_explorer', active_config_name) # does not work, missing color info?\n",
    "iplapsDataExplorer = display_dict['iplapsDataExplorer']\n",
    "# plotter is available at\n",
    "p = display_dict['plotter']\n",
    "iplapsDataExplorer"
   ]
  },
  {
   "cell_type": "code",
   "execution_count": null,
   "id": "701c4ecf-15c2-4197-927f-8f1a63c7ac20",
   "metadata": {},
   "outputs": [],
   "source": [
    "# curr_kdiba_pipeline.display(DefaultDisplayFunctions._display_3d_interactive_custom_data_explorer, 'maze1') # works!\n",
    "curr_active_pipeline.display('_display_3d_interactive_tuning_curves_plotter', 'maze1') # works!"
   ]
  },
  {
   "cell_type": "markdown",
   "id": "7c3136f4",
   "metadata": {
    "jp-MarkdownHeadingCollapsed": true,
    "pycharm": {
     "name": "#%% md\n"
    },
    "tags": []
   },
   "source": [
    "# Common: Optional Saving"
   ]
  },
  {
   "cell_type": "code",
   "execution_count": null,
   "id": "e233f5fd-047d-4e64-ade2-9414c0a2426d",
   "metadata": {
    "pycharm": {
     "name": "#%%\n"
    },
    "tags": []
   },
   "outputs": [],
   "source": [
    "import pickle\n",
    "from pyphoplacecellanalysis.General.Mixins.ExportHelpers import _test_save_pipeline_data_to_h5, get_h5_data_keys, save_some_pipeline_data_to_h5, load_pipeline_data_from_h5  #ExportHelpers\n",
    "# Define Saving/Loading Directory and paths:\n",
    "# finalized_output_cache_file='data/pipeline_cache_store.h5'\n",
    "export_output_parent_dir = curr_active_pipeline.sess.basepath.joinpath('export') # R:\\data\\Hiro\\RoyMaze1\\export\\\n",
    "export_output_parent_dir.mkdir(exist_ok=True, parents=False) # Create the R:\\data\\Hiro\\RoyMaze1\\export\\ directory if it doesn't exist.\n",
    "finalized_output_cache_file = export_output_parent_dir.joinpath('pipeline_cache_store.h5')\n",
    "print(f'finalized_output_cache_file: {str(finalized_output_cache_file)}')"
   ]
  },
  {
   "cell_type": "code",
   "execution_count": null,
   "id": "bf1c7148-17db-435f-9ccf-5407fa9ea257",
   "metadata": {
    "pycharm": {
     "name": "#%%\n"
    },
    "tags": []
   },
   "outputs": [],
   "source": [
    "# List existing keys in the file:\n",
    "out_keys = get_h5_data_keys(finalized_output_cache_file=finalized_output_cache_file)\n",
    "print(out_keys)"
   ]
  },
  {
   "cell_type": "code",
   "execution_count": null,
   "id": "c6c4d1d0-a11e-4003-b6af-39d9a999b98f",
   "metadata": {
    "pycharm": {
     "name": "#%%\n"
    },
    "tags": []
   },
   "outputs": [],
   "source": [
    "# active_config_name = 'maze1'\n",
    "# active_config_name = 'maze'\n",
    "active_config_name = 'track'\n",
    "\n",
    "desired_spikes_df_key = f'/filtered_sessions/{active_config_name}/spikes_df'\n",
    "desired_positions_df_key = f'/filtered_sessions/{active_config_name}/pos_df'\n",
    "# desired_spikes_df_key = f'/filtered_sessions/{active_config_name}/spikes_df'\n",
    "\n",
    "# Get relevant variables:\n",
    "# curr_active_pipeline is set above, and usable here\n",
    "sess: DataSession = curr_active_pipeline.filtered_sessions[active_config_name]\n",
    "active_computed_data = curr_active_pipeline.computation_results[active_config_name].computed_data\n",
    "print(f'active_computed_data.keys(): {active_computed_data.keys()}')\n",
    "pf = curr_active_pipeline.computation_results[active_config_name].computed_data['pf1D']\n",
    "active_one_step_decoder = curr_active_pipeline.computation_results[active_config_name].computed_data['pf2D_Decoder']\n",
    "active_two_step_decoder = curr_active_pipeline.computation_results[active_config_name].computed_data.get('pf2D_TwoStepDecoder', None)\n",
    "active_measured_positions = curr_active_pipeline.computation_results[active_config_name].sess.position.to_dataframe()"
   ]
  },
  {
   "cell_type": "code",
   "execution_count": null,
   "id": "85eeff2a-223e-41e0-857b-bb520484a1c0",
   "metadata": {
    "pycharm": {
     "name": "#%%\n"
    },
    "tags": []
   },
   "outputs": [],
   "source": [
    "# desired_positions_df_key\n",
    "output_save_result = save_some_pipeline_data_to_h5(curr_active_pipeline, finalized_output_cache_file=finalized_output_cache_file)\n",
    "output_save_result"
   ]
  },
  {
   "cell_type": "code",
   "execution_count": null,
   "id": "9dc6bc10-def1-4b7d-a880-f6abfbdc4fed",
   "metadata": {
    "pycharm": {
     "name": "#%%\n"
    },
    "tags": []
   },
   "outputs": [],
   "source": [
    "finalized_output_cache_file = _test_save_pipeline_data_to_h5(curr_active_pipeline, finalized_output_cache_file=finalized_output_cache_file, enable_dry_run=False, enable_debug_print=True)\n",
    "finalized_output_cache_file"
   ]
  },
  {
   "cell_type": "code",
   "execution_count": null,
   "id": "81f66af6-30db-4c59-8f0c-96b07ec3b789",
   "metadata": {
    "pycharm": {
     "name": "#%%\n"
    },
    "tags": []
   },
   "outputs": [],
   "source": [
    "# Load the saved .h5 spikes dataframe for testing:\n",
    "desired_spikes_df_key = f'/filtered_sessions/{active_config_name}/spikes_df'\n",
    "desired_positions_df_key = f'/filtered_sessions/{active_config_name}/pos_df'    \n",
    "spikes_df, pos_df = load_pipeline_data_from_h5(finalized_output_cache_file=finalized_output_cache_file, desired_spikes_df_key=desired_spikes_df_key, desired_positions_df_key=desired_positions_df_key)\n"
   ]
  },
  {
   "cell_type": "code",
   "execution_count": null,
   "id": "9c34c96d-5a22-4429-80ea-65729522f66c",
   "metadata": {
    "pycharm": {
     "is_executing": false,
     "name": "#%%\n"
    },
    "tags": []
   },
   "outputs": [],
   "source": [
    "print(f't_start: {curr_active_pipeline.sess.epochs.t_start}')\n",
    "print(f't_stop: {curr_active_pipeline.sess.epochs.t_stop}')\n",
    "# curr_active_pipeline.sess.epochs.t_stop"
   ]
  },
  {
   "cell_type": "code",
   "execution_count": null,
   "id": "a4f5cda1-d77f-4b13-bdc2-34de69597139",
   "metadata": {
    "pycharm": {
     "is_executing": false,
     "name": "#%%\n"
    },
    "tags": []
   },
   "outputs": [],
   "source": [
    "curr_sess.epochs.t_start\n",
    "print(f't_start: {sess.epochs.t_start}')\n",
    "print(f't_stop: {sess.epochs.t_stop}')"
   ]
  },
  {
   "cell_type": "markdown",
   "id": "91ad4fc2-7f79-4153-97a0-61a27ef05b9f",
   "metadata": {
    "pycharm": {
     "name": "#%%\n"
    }
   },
   "source": [
    "## Test saving out custom computation result:"
   ]
  },
  {
   "cell_type": "code",
   "execution_count": null,
   "id": "20420a8d-1030-4d0c-b0c2-c014b52998ff",
   "metadata": {
    "pycharm": {
     "name": "#%%\n"
    },
    "tags": []
   },
   "outputs": [],
   "source": [
    "# computation_results[active_config_name].computed_data\n",
    "computation_cache_identifier_key = f'computation_results/{active_config_name}/computed_data'\n",
    "computation_cache_key = 'burst_detection/burst_intervals'\n",
    "# active_burst_intervals\n",
    "\n",
    "filtered_burst_intervals = active_burst_intervals\n",
    "# Rebuild a single dataframe from: .groupby('aclu').get_group(a_cell_id)\n",
    "for (a_cell_id, curr_pyburst_interval_df) in active_burst_intervals.items():\n",
    "    # loop through the cell_ids  \n",
    "    # Filter to only zero- and first-order bursts:\n",
    "    # curr_pyburst_interval_df = curr_pyburst_interval_df[curr_pyburst_interval_df['burst_level'] < 2]\n",
    "    # add the 'aclu' column\n",
    "    # curr_pyburst_interval_df['aclu'] = a_cell_id\n",
    "    filtered_burst_intervals[a_cell_id] = curr_pyburst_interval_df\n",
    "\n",
    "## Concatinate the separate dataframes for each neuron into a single dataframe with an 'aclu' column so that it can be cached/saved to disk:\n",
    "# pd.concat([s1, s2], keys=['s1', 's2'])\n",
    "filtered_combined_df = pd.concat(filtered_burst_intervals.values(), keys=list(filtered_burst_intervals.keys()), names=['aclu', 'cell_burst_id'])\n",
    "# pd.concat(filtered_burst_intervals.values(), keys=list(filtered_burst_intervals.keys()), names=['aclu', 'cell_burst_id'], ignore_index=True)\n",
    "print_dataframe_memory_usage(filtered_combined_df)\n",
    "# filtered_combined_df\n",
    "\n",
    "# Define Saving/Loading Directory and paths:\n",
    "finalized_computation_cache_file = export_output_parent_dir.joinpath('computation_results_cache_store.h5')\n",
    "print(f'finalized_computation_cache_file: {str(finalized_computation_cache_file)}')\n",
    "computation_cache_identifier_key = f'computation_results/{active_config_name}/computed_data'\n",
    "filtered_combined_df.to_hdf(finalized_computation_cache_file, key=f'{computation_cache_identifier_key}/{computation_cache_key}')"
   ]
  },
  {
   "cell_type": "code",
   "execution_count": null,
   "id": "1bf110a2-ea48-4e3d-8415-0df70fbdee70",
   "metadata": {
    "scene__Default Scene": true,
    "tags": [
     "ActiveScene"
    ]
   },
   "outputs": [],
   "source": [
    "# _test_computation_result_output_path = Path('output', active_data_mode_name, sess.name) # active_data_mode_name: 'kdiba'; sess.name: '2006-6-07_11-26-53'\n",
    "# _test_computation_result_output_path = Path('output') # active_data_mode_name: 'kdiba'; sess.name: '2006-6-07_11-26-53'\n",
    "# finalized_computation_results_out_file=_test_computation_result_output_path.joinpath('computation_results_store.h5')\n",
    "finalized_computation_results_out_file = export_output_parent_dir.joinpath('computation_results_store.h5')\n",
    "print(f'finalized_computation_results_out_file: {str(finalized_computation_results_out_file)}')\n",
    "\n",
    "# Do particular key:\n",
    "computation_result_recording_session_identifier_path = f'{active_data_mode_name}/{sess.name}' # 'kdiba/2006-6-07_11-26-53'\n",
    "\n",
    "## Specific Config:\n",
    "# active_config_name = 'maze1'\n",
    "# active_config_name = 'maze2'\n",
    "# active_config_name = 'maze'\n",
    "active_config_name = 'track'\n",
    "computation_result_identifier_path = f'{computation_result_recording_session_identifier_path}/computation_results/{active_config_name}' # 'kdiba/2006-6-07_11-26-53/computation_results/maze1'\n",
    "computation_result_identifier_computed_data_path = f'{computation_result_identifier_path}/computed_data' # 'kdiba/2006-6-07_11-26-53/computation_results/maze1/computed_data'\n",
    "# computation_result_key = 'burst_detection/burst_intervals'\n",
    "\n",
    "print(f'computation_result_identifier_path: \"{computation_result_identifier_path}\"')\n",
    "\n",
    "# Get relevant variables:\n",
    "# curr_active_pipeline is set above, and usable here\n",
    "sess: DataSession = curr_active_pipeline.filtered_sessions[active_config_name]\n",
    "\n",
    "active_computation_results = curr_active_pipeline.computation_results[active_config_name]\n",
    "active_computed_data = curr_active_pipeline.computation_results[active_config_name].computed_data\n",
    "active_computation_config = curr_active_pipeline.computation_results[active_config_name].computation_config\n",
    "active_computation_errors = curr_active_pipeline.computation_results[active_config_name].accumulated_errors\n",
    "# print(f'active_computed_data.keys(): {list(active_computed_data.keys())}')\n",
    "# print(f'active_computation_errors: {active_computation_errors}')\n",
    "active_pf_1D = curr_active_pipeline.computation_results[active_config_name].computed_data['pf1D']\n",
    "active_pf_2D = curr_active_pipeline.computation_results[active_config_name].computed_data['pf2D']    \n",
    "active_pf_1D_dt = curr_active_pipeline.computation_results[active_config_name].computed_data.get('pf1D_dt', None)\n",
    "active_pf_2D_dt = curr_active_pipeline.computation_results[active_config_name].computed_data.get('pf2D_dt', None)\n",
    "active_one_step_decoder = curr_active_pipeline.computation_results[active_config_name].computed_data.get('pf2D_Decoder', None)\n",
    "active_two_step_decoder = curr_active_pipeline.computation_results[active_config_name].computed_data.get('pf2D_TwoStepDecoder', None)\n",
    "active_eloy_analysis = curr_active_pipeline.computation_results[active_config_name].computed_data.get('EloyAnalysis', None)\n",
    "active_simpler_pf_densities_analysis = curr_active_pipeline.computation_results[active_config_name].computed_data.get('SimplerNeuronMeetingThresholdFiringAnalysis', None)\n",
    "active_ratemap_peaks_analysis = curr_active_pipeline.computation_results[active_config_name].computed_data.get('RatemapPeaksAnalysis', None)\n",
    "active_peak_prominence_2d_results = curr_active_pipeline.computation_results[active_config_name].computed_data.get('RatemapPeaksAnalysis', {}).get('PeakProminence2D', None)\n",
    "active_measured_positions = curr_active_pipeline.computation_results[active_config_name].sess.position.to_dataframe()\n",
    "curr_spikes_df = sess.spikes_df\n",
    "\n",
    "curr_active_config = curr_active_pipeline.active_configs[active_config_name]\n",
    "curr_active_display_config = curr_active_config.plotting_config"
   ]
  },
  {
   "cell_type": "code",
   "execution_count": null,
   "id": "3d0e8dfb-e30d-49d8-8b38-92659bede1fb",
   "metadata": {
    "scene__Default Scene": true,
    "tags": [
     "ActiveScene"
    ]
   },
   "outputs": [],
   "source": [
    "from pyphoplacecellanalysis.General.Pipeline.Stages.Loading import loadData, saveData\n",
    "finalized_computation_results_out_pickle_test_file = export_output_parent_dir.joinpath('computation_results.pkl')\n",
    "print(f'finalized_computation_results_out_pickle_test_file: {str(finalized_computation_results_out_pickle_test_file)}')"
   ]
  },
  {
   "cell_type": "code",
   "execution_count": null,
   "id": "ce77642f-990e-444a-aaa7-68aad4390e0b",
   "metadata": {
    "scene__Default Scene": true,
    "tags": [
     "ActiveScene"
    ]
   },
   "outputs": [],
   "source": [
    "saveData(finalized_computation_results_out_pickle_test_file, db=active_computed_data)\n",
    "# saveData(finalized_computation_results_out_pickle_test_file, db={'pf2D': active_pf_2D, 'RatemapPeaksAnalysis': active_ratemap_peaks_analysis})"
   ]
  },
  {
   "cell_type": "code",
   "execution_count": null,
   "id": "571b98b0-f9fd-41d6-8a06-e0ad15279ae5",
   "metadata": {
    "scene__Default Scene": true,
    "tags": [
     "ActiveScene"
    ]
   },
   "outputs": [],
   "source": [
    "db = loadData(finalized_computation_results_out_pickle_test_file, debug_print=False)\n",
    "db"
   ]
  },
  {
   "cell_type": "code",
   "execution_count": null,
   "id": "e5fb46dc-3695-4362-b496-42cd8213a483",
   "metadata": {
    "scene__Default Scene": true,
    "tags": [
     "ActiveScene"
    ]
   },
   "outputs": [],
   "source": [
    "active_pf_1D.str_for_filename() # 'pf1D-speedThresh_10.00-gridBin_4.00-smooth_2.50-frateThresh_0.20'\n",
    "active_pf_1D.to_pickle()\n"
   ]
  },
  {
   "cell_type": "code",
   "execution_count": null,
   "id": "009b7f92-f70b-4cbf-97ca-1ac859a7786d",
   "metadata": {
    "pycharm": {
     "is_executing": false
    },
    "scrolled": true,
    "tags": []
   },
   "outputs": [],
   "source": [
    "## Note that pickling the whole spikes_df dataframe when done is very quick, especially to load!\n",
    "active_file_suffix = '.spikes_df_full.pkl'\n",
    "spikes_df_save_path = curr_active_pipeline.sess.filePrefix.with_suffix(active_file_suffix)\n",
    "print(f'spikes_df_save_path: {spikes_df_save_path}')"
   ]
  },
  {
   "cell_type": "code",
   "execution_count": null,
   "id": "7574f86c-0b1c-4460-a088-5e83de722964",
   "metadata": {
    "pycharm": {
     "is_executing": false
    },
    "scrolled": true,
    "tags": []
   },
   "outputs": [],
   "source": [
    "curr_active_pipeline.sess.spikes_df.to_pickle(spikes_df_save_path)  # where to save it, usually as a .pkl"
   ]
  },
  {
   "cell_type": "code",
   "execution_count": null,
   "id": "3b8dd47f-e50f-411e-9e7c-0a59a4fab66e",
   "metadata": {
    "pycharm": {
     "is_executing": false
    },
    "scrolled": true,
    "tags": []
   },
   "outputs": [],
   "source": [
    "loaded_spikes_df = pd.read_pickle(spikes_df_save_path)\n",
    "loaded_spikes_df"
   ]
  },
  {
   "cell_type": "code",
   "execution_count": null,
   "id": "89545f5a-bef2-42db-a5fa-13ab7bd623ef",
   "metadata": {
    "pycharm": {
     "is_executing": false
    },
    "scrolled": true,
    "tags": []
   },
   "outputs": [],
   "source": []
  },
  {
   "cell_type": "markdown",
   "id": "1b953e0e-5baf-456b-afe5-1d4e488d717f",
   "metadata": {
    "pycharm": {
     "name": "#%%\n"
    }
   },
   "source": [
    "## Test building interactive export Parameters tree GUI to select computation results to save out :"
   ]
  },
  {
   "cell_type": "code",
   "execution_count": null,
   "id": "8834bbeb-71b2-4af1-9819-bd4f32e316f4",
   "metadata": {
    "pycharm": {
     "name": "#%%\n"
    },
    "tags": [
     "gui",
     "launch"
    ]
   },
   "outputs": [],
   "source": [
    "from pyphoplacecellanalysis.GUI.PyQtPlot.Params.ParameterTrees.ExportPipelineParametersTree import build_export_parameters_tree\n",
    "## Build the actual ParameterTree widget, the core GUI\n",
    "title = 'ExportParamsTest'\n",
    "app = pg.mkQApp(title)\n",
    "p = build_export_parameters_tree(curr_active_pipeline, parameter_names='ExportParams', finalized_output_cache_file='data/pipeline_cache_store.h5', include_state_save_restore_buttons=False, debug_print=True)\n",
    "\n",
    "paramTree = ParameterTree()\n",
    "paramTree.setParameters(p, showTop=False)\n",
    "paramTree.show()\n",
    "paramTree.setWindowTitle(f'PhoParamTreeApp: pyqtgraph ParameterTree: {title}')\n",
    "paramTree.resize(800,600)"
   ]
  },
  {
   "cell_type": "markdown",
   "id": "44aa38a3-402a-49dc-9a1a-425831c368cc",
   "metadata": {
    "jp-MarkdownHeadingCollapsed": true,
    "pycharm": {
     "is_executing": false,
     "name": "#%%\n"
    },
    "tags": []
   },
   "source": [
    "# Testing burst detection: Calculate the spiking profile using pyspike and display the outputs:"
   ]
  },
  {
   "cell_type": "markdown",
   "id": "71ef63a9-ee2d-4aa7-8f00-b086ead49b6e",
   "metadata": {
    "pycharm": {
     "is_executing": false,
     "name": "#%%\n"
    },
    "tags": []
   },
   "source": [
    "### pybursts"
   ]
  },
  {
   "cell_type": "code",
   "execution_count": null,
   "id": "47f27070-910d-4cb3-9499-06822c1e6088",
   "metadata": {
    "pycharm": {
     "name": "#%%\n"
    }
   },
   "outputs": [],
   "source": [
    "from pybursts import pybursts\n",
    "import matplotlib.pyplot as plt\n",
    "from indexed import IndexedOrderedDict\n",
    "from pyphocorehelpers.print_helpers import print_dataframe_memory_usage\n",
    "from copy import deepcopy\n",
    "\n",
    "active_burst_info = active_computed_data['burst_detection']\n",
    "active_burst_intervals = deepcopy(active_burst_info['burst_intervals'])\n",
    "filtered_burst_intervals = active_burst_intervals"
   ]
  },
  {
   "cell_type": "code",
   "execution_count": null,
   "id": "c5a08c35-b90c-4d26-af35-78151c643627",
   "metadata": {
    "pycharm": {
     "name": "#%%\n"
    }
   },
   "outputs": [],
   "source": [
    "# bursting_interval_datasource = Render2DEventRectanglesHelper.build_interval_datasource_from_active_burst_intervals(active_burst_intervals=filtered_burst_intervals)\n",
    "bursting_interval_datasource = Render2DEventRectanglesHelper.build_burst_event_rectangle_datasource(spike_raster_window.spike_raster_plt_2d, active_burst_intervals, datasource_name='active_burst_intervals_datasource', included_burst_levels=[1,2,3,4,5])\n",
    "# bursting_interval_datasource"
   ]
  },
  {
   "cell_type": "code",
   "execution_count": null,
   "id": "29a5f19a-4275-4c85-9289-ac03001be155",
   "metadata": {
    "pycharm": {
     "name": "#%%\n"
    }
   },
   "outputs": [],
   "source": [
    "active_bursts_interval_rects_item = Render2DEventRectanglesHelper.build_IntervalRectsItem_from_interval_datasource(bursting_interval_datasource)\n",
    "active_bursts_interval_rects_item.setToolTip('Bursting')\n",
    "active_bursts_interval_rects_item"
   ]
  },
  {
   "cell_type": "markdown",
   "id": "3717416c-e58f-4c91-be79-9915d5c2d243",
   "metadata": {
    "pycharm": {
     "name": "#%%\n"
    },
    "tags": []
   },
   "source": [
    "## Plot the burst periods as rectangles on the 2D Raster Plot:"
   ]
  },
  {
   "cell_type": "code",
   "execution_count": null,
   "id": "dfb88674-ff13-4e95-836b-a636e08afde6",
   "metadata": {
    "pycharm": {
     "is_executing": false,
     "name": "#%%\n"
    }
   },
   "outputs": [],
   "source": [
    "# from pyphoplacecellanalysis.GUI.PyQtPlot.Widgets.Mixins.Render2DEventRectanglesHelper import Render2DEventRectanglesHelper\n",
    "\n",
    "# rect_return_dict = Render2DEventRectanglesHelper.add_event_rectangles(spike_raster_window.spike_raster_plt_2d, active_burst_intervals, included_burst_levels=[1]) # {'interval_rects_item': active_interval_rects_item}\n",
    "rect_return_dict = Render2DEventRectanglesHelper.add_event_rectangles(spike_raster_window.spike_raster_plt_2d, active_burst_intervals, included_burst_levels=[1,2,3,4,5]) # {'interval_rects_item': active_interval_rects_item}\n",
    "\n",
    "active_interval_rects_item = rect_return_dict['interval_rects_item']"
   ]
  },
  {
   "cell_type": "markdown",
   "id": "14511d03-97ac-46ac-b912-0e27cdadc7e9",
   "metadata": {
    "pycharm": {
     "is_executing": false,
     "name": "#%%\n"
    }
   },
   "source": [
    "#### Plot the result:"
   ]
  },
  {
   "cell_type": "code",
   "execution_count": null,
   "id": "a70a0f71-4139-461e-8582-d20b1a8728ed",
   "metadata": {
    "pycharm": {
     "is_executing": false,
     "name": "#%%\n"
    }
   },
   "outputs": [],
   "source": [
    "main_plot_widget = spike_raster_window.spike_raster_plt_2d.plots.main_plot_widget # PlotItem\n",
    "background_static_scroll_plot_widget = spike_raster_window.spike_raster_plt_2d.plots.background_static_scroll_window_plot # PlotItem"
   ]
  },
  {
   "cell_type": "code",
   "execution_count": null,
   "id": "425293be-df76-4095-917a-66825d6676bf",
   "metadata": {
    "pycharm": {
     "is_executing": false,
     "name": "#%%\n"
    }
   },
   "outputs": [],
   "source": [
    "## Remove the active_interval_rects_item:\n",
    "main_plot_widget.removeItem(active_interval_rects_item)\n",
    "active_interval_rects_item = None"
   ]
  },
  {
   "cell_type": "code",
   "execution_count": null,
   "id": "1f539ee8-01fd-416b-94c6-655489d551d0",
   "metadata": {
    "pycharm": {
     "is_executing": false,
     "name": "#%%\n"
    }
   },
   "outputs": [],
   "source": [
    "## Add the active_interval_rects_item to the background_static_scroll_window_plot: \n",
    "background_static_scroll_plot_widget.addItem(active_interval_rects_item)"
   ]
  },
  {
   "cell_type": "code",
   "execution_count": null,
   "id": "747b732a-7c05-4eca-84de-e8d78e991a23",
   "metadata": {
    "pycharm": {
     "is_executing": false,
     "name": "#%%\n"
    }
   },
   "outputs": [],
   "source": [
    "## Remove the active_interval_rects_item:\n",
    "background_static_scroll_plot_widget.removeItem(active_interval_rects_item)\n",
    "active_interval_rects_item = None"
   ]
  },
  {
   "cell_type": "markdown",
   "id": "3c7ca802-f4af-493c-a083-5e5baaf44986",
   "metadata": {
    "pycharm": {
     "is_executing": false,
     "name": "#%%\n"
    },
    "tags": []
   },
   "source": [
    "## Scratch"
   ]
  },
  {
   "cell_type": "code",
   "execution_count": null,
   "id": "cbe6ed1f-b6ba-453a-a1cd-bf4ec753ebed",
   "metadata": {
    "pycharm": {
     "is_executing": false,
     "name": "#%%\n"
    }
   },
   "outputs": [],
   "source": [
    "active_burst_intervals_neuron_IDXs_list = spike_raster_window.spike_raster_plt_2d.find_neuron_IDXs_from_cell_ids(list(filtered_burst_intervals.keys()))\n",
    "# { spike_raster_window.spike_raster_plt_2d.get_neuron_id_and_idx(neuron_id=a_neuron_id)[0] for i, a_neuron_id in enumerate(list(filtered_burst_intervals.keys()))}\n",
    "neuron_id_qcolors_map = {a_neuron_id:spike_raster_window.spike_raster_plt_2d.params.neuron_qcolors_map[spike_raster_window.spike_raster_plt_2d.get_neuron_id_and_idx(neuron_id=a_neuron_id)[0]] for i, a_neuron_id in enumerate(list(filtered_burst_intervals.keys()))}\n",
    "neuron_id_qcolors_map"
   ]
  },
  {
   "cell_type": "code",
   "execution_count": null,
   "id": "a215fe3e-2fec-4d6f-bab4-8101dd2645cf",
   "metadata": {
    "pycharm": {
     "is_executing": false,
     "name": "#%%\n"
    }
   },
   "outputs": [],
   "source": [
    "spike_raster_window.spike_raster_plt_2d.plots.scatter_plot"
   ]
  },
  {
   "cell_type": "code",
   "execution_count": null,
   "id": "24900b6f-2c69-4f73-9ef7-27d6d8dcafc6",
   "metadata": {
    "pycharm": {
     "is_executing": false,
     "name": "#%%\n"
    }
   },
   "outputs": [],
   "source": [
    "spike_raster_plt_3d.ui.spinRenderWindowDuration.setValue(scroll_window_width)"
   ]
  },
  {
   "cell_type": "code",
   "execution_count": null,
   "id": "eede1f8e-903d-4054-ac26-624ea7355a8c",
   "metadata": {
    "pycharm": {
     "is_executing": false,
     "name": "#%%\n"
    }
   },
   "outputs": [],
   "source": [
    "spike_raster_plt_3d.ui.spinTemporalZoomFactor.setValue(10.0)"
   ]
  },
  {
   "cell_type": "code",
   "execution_count": null,
   "id": "b8c9312d-1f9d-4201-a987-f4f76712eca5",
   "metadata": {
    "pycharm": {
     "is_executing": false,
     "name": "#%%\n"
    }
   },
   "outputs": [],
   "source": [
    "spike_raster_plt.animation_time_step # 0.03 (seconds)"
   ]
  },
  {
   "cell_type": "code",
   "execution_count": null,
   "id": "0d278473-b6e9-4962-ba85-192575a5d42c",
   "metadata": {
    "pycharm": {
     "is_executing": false,
     "name": "#%%\n"
    }
   },
   "outputs": [],
   "source": [
    "# spike_raster_plt.params.spike_start_z # -10\n",
    "spike_raster_plt.params.spike_end_z = -8.0 # -6.0"
   ]
  },
  {
   "cell_type": "code",
   "execution_count": null,
   "id": "3d987938-b257-4075-b2fe-33c91dc0f545",
   "metadata": {
    "pycharm": {
     "is_executing": false,
     "name": "#%%\n"
    }
   },
   "outputs": [],
   "source": [
    "spike_raster_plt.animation_time_step = 0.06"
   ]
  },
  {
   "cell_type": "code",
   "execution_count": null,
   "id": "e6217bb9-a229-48f7-9b5b-c06db732c0e7",
   "metadata": {
    "pycharm": {
     "is_executing": false,
     "name": "#%%\n"
    }
   },
   "outputs": [],
   "source": [
    "spike_raster_plt.shift_animation_frame_val(-3)"
   ]
  },
  {
   "cell_type": "markdown",
   "id": "469c4171-ea23-4f0f-bcc0-a7ab3544dfbe",
   "metadata": {
    "jp-MarkdownHeadingCollapsed": true,
    "tags": []
   },
   "source": [
    "\n",
    "# Testing: Position Decoding:"
   ]
  },
  {
   "cell_type": "code",
   "execution_count": null,
   "id": "33b19634-f684-485c-8422-777cc5440c1d",
   "metadata": {
    "pycharm": {
     "name": "#%%\n"
    }
   },
   "outputs": [],
   "source": [
    "# win.close()\n",
    "\n",
    "# np.set_printoptions(edgeitems=5, linewidth=100000, formatter=dict(float=lambda x: \"%g\" % x))\n",
    "\n",
    "np.set_string_function(lambda x:f'np.array[{np.shape(x)}]', repr=True)\n",
    "# with np.printoptions(precision=2, edgeitems=2, linewidth=144):\n",
    "with np.printoptions(precision=3, edgeitems=2, linewidth=100000):\n",
    "    # active_computed_data['pf2D'].ratemap\n",
    "    print(active_computed_data['pf2D'])\n",
    "    # print(active_computed_data['pf2D'].ratemap)\n",
    "    \n",
    "    \n",
    "\n",
    "\n",
    "np.set_string_function(None) # restore default"
   ]
  },
  {
   "cell_type": "code",
   "execution_count": null,
   "id": "26cd14b2-919d-49e1-a18b-c068675af421",
   "metadata": {
    "pycharm": {
     "name": "#%%\n"
    }
   },
   "outputs": [],
   "source": [
    "len(active_computed_data['pf2D'].ratemap_spiketrains)\n",
    "\n",
    "#.tuning_curves"
   ]
  },
  {
   "cell_type": "code",
   "execution_count": null,
   "id": "b37445b3-c614-4b68-b6ab-ee7a26c29af4",
   "metadata": {},
   "outputs": [],
   "source": [
    "## Stock Decoder:\n",
    "from neuropy.analyses.decoders import Decode1d\n",
    "\n",
    "def stock_1d_decoder(sess, pf, curr_result_label):\n",
    "    maze1 = sess.paradigm[curr_result_label]\n",
    "    # rpls = sess.ripple.time_slice(maze1[0], maze1[1])\n",
    "    rpls = None\n",
    "    pf_neurons = sess.neurons.get_by_id(pf.ratemap.neuron_ids)\n",
    "    decode = Decode1d(neurons=pf_neurons, ratemap = pf.ratemap, epochs=rpls, bin_size=0.02)\n",
    "    return decode\n",
    "\n",
    "def validate_stock_1d_decoder(sess, decode):\n",
    "    # Plot to validate decoder:\n",
    "    np.shape(decode.decoded_position) # (85845,)\n",
    "    plt.plot(decode.decoded_position)\n",
    "    ax = plt.gca()\n",
    "    # ax.xlim() # (-4292.2, 90136.2)\n",
    "    ax.set_xlim(10000, 12000)\n",
    "\n",
    "np.shape(decode.posterior) # (48, 85845)"
   ]
  },
  {
   "cell_type": "markdown",
   "id": "c545afc1-63d6-4f45-a186-5acae5b2dab3",
   "metadata": {},
   "source": [
    "<!-- % $$\\int_{a}^b f(x)dx$$ -->\n",
    "<!-- Euler's identity: $ e^{i \\pi} + 1 = 0 $ -->\n",
    "\n",
    "## One-step Bayesian Decoder:\n",
    "$$P(\\overrightarrow{x}_{t}|\\overrightarrow{n}_{t})$$\n",
    "\n",
    "$$P(\\overrightarrow{n}|\\overrightarrow{x})$$ : probability for the numbers of spikes $\\overrightarrow{n}$ to occur given we know the animal is at location $\\overrightarrow{x}$\n",
    "\n",
    "## Two-step Bayesian Decoder:\n",
    "$$P(\\overrightarrow{x}_{t}|\\overrightarrow{n}_{t}, \\overrightarrow{x}_{t-1}) = k P(\\overrightarrow{x}_{t}|\\overrightarrow{n}_{t}) P(\\overrightarrow{x}_{t-1}|\\overrightarrow{x}_{t})$$"
   ]
  },
  {
   "cell_type": "code",
   "execution_count": null,
   "id": "7a0b8e04-3f5d-49e9-af1b-786326567330",
   "metadata": {},
   "outputs": [],
   "source": [
    "\n",
    "# active_two_step_decoder['most_likely_positions'].shape # (2, 1717)\n",
    "\n",
    "active_two_step_decoder['most_likely_position_indicies'].shape # (2, 1717)\n",
    "np.max(active_two_step_decoder['most_likely_position_indicies'], axis=1) # array([0, 1])\n",
    "active_two_step_decoder['most_likely_position_indicies']\n",
    "# active_two_step_decoder['p_x_given_n_and_x_prev'].shape # (59, 21, 1717)\n",
    "\n",
    "# np.nanmax(active_two_step_decoder['p_x_given_n_and_x_prev'], axis=(1, 2)) # (59,)\n",
    "# np.nanmax(active_two_step_decoder['p_x_given_n_and_x_prev'], axis=-1).shape # (59, 21)\n",
    "\n",
    "# np.nanmax(active_two_step_decoder['p_x_given_n_and_x_prev'], axis=-1)\n",
    "# np.max(active_two_step_decoder['most_likely_positions'], axis=1) # array([ 36.30101033, 128.49991842])\n",
    "\n",
    "\n",
    "# np.max(active_one_step_decoder.most_likely_positions, axis=0) # array([244.02731273, 148.3231301 ])"
   ]
  },
  {
   "cell_type": "markdown",
   "id": "93be34e2-9062-4e08-bedb-0d7ec4ceca9c",
   "metadata": {},
   "source": [
    "## PyQtPlot Exploration"
   ]
  },
  {
   "cell_type": "code",
   "execution_count": null,
   "id": "08d4e875-52e9-4bf4-b742-db1bfaab77d7",
   "metadata": {},
   "outputs": [],
   "source": [
    "from pyphoplacecellanalysis.Pho2D.PyQtPlots.plot_placefields import pyqtplot_plot_image_array, pyqtplot_plot_image\n",
    "\n",
    "# test single image plot:\n",
    "curr_im = np.squeeze(active_one_step_decoder.ratemap.normalized_tuning_curves[0,:,:]) # (43, 63, 63)\n",
    "app, win, imv = pyqtplot_plot_image(active_one_step_decoder.xbin, active_one_step_decoder.ybin, curr_im)\n",
    "win.show()"
   ]
  },
  {
   "cell_type": "markdown",
   "id": "27b53720-b44c-4a75-9a5c-6bbd73723eb1",
   "metadata": {},
   "source": [
    "### Custom DataTree Widget that displays a nested hierarchy of data:\n"
   ]
  },
  {
   "cell_type": "code",
   "execution_count": null,
   "id": "0d1ca503-d09b-48b1-957e-b5317a2cc40a",
   "metadata": {},
   "outputs": [],
   "source": [
    "# d = {\n",
    "#     'active_sess_config':curr_active_pipeline.active_sess_config.__dict__,\n",
    "#     'active_configs':curr_active_pipeline.active_configs,\n",
    "#     'active_session_computation_configs':active_session_computation_configs[0].__dict__\n",
    "# }\n",
    "d = {\n",
    "    \"computed_data\": curr_active_pipeline.computation_results['maze1'].computed_data,\n",
    "    # \"computation_results['maze1']'\": curr_active_pipeline.computation_results['maze1'],\n",
    "}\n",
    "# d = {\n",
    "#     'active_session_computation_configs':active_session_computation_configs,\n",
    "#     'active_two_step_decoder': active_two_step_decoder,\n",
    "#     'active_extended_stats': active_extended_stats\n",
    "# }\n",
    "\n",
    "from pyphoplacecellanalysis.GUI.PyQtPlot.pyqtplot_DataTreeWidget import plot_dataTreeWidget\n",
    "tree, app = plot_dataTreeWidget(data=d, title='PhoOutputDataTreeApp')\n",
    "tree.show()"
   ]
  },
  {
   "cell_type": "code",
   "execution_count": null,
   "id": "8445c7c7-0be5-4d7a-94eb-6a0b65d09c6b",
   "metadata": {},
   "outputs": [],
   "source": [
    "# tree.show()\n",
    "tree = None\n",
    "app = None"
   ]
  },
  {
   "cell_type": "code",
   "execution_count": null,
   "id": "b58d03c2",
   "metadata": {
    "pycharm": {
     "name": "#%%\n"
    }
   },
   "outputs": [],
   "source": [
    "tree.resize(1920, 1200) # pyqtgraph.widgets.DataTreeWidget.DataTreeWidget\n",
    "tree.resizeColumnToContents(2)\n",
    "# setFormat(format, column=None)\n",
    "# tree.resizeColumnToContents(1)\n",
    "# tree.expandToDepth\n",
    "print(tree.dumpObjectInfo())\n",
    "# tree.expandAll()\n",
    "# tree.nodes # a dict\n",
    "\n",
    "# tree.hideColumn(2) # hides the value column\n",
    "# print(tree.children()[0].dumpObjectInfo())\n",
    "# # tree.children()[1] # <PyQt5.QtWidgets.QStyledItemDelegate at 0x197b467fca0>\n",
    "# # tree.children()[2]\n",
    "# # tree.children()[3].dumpObjectTree() # QAbstractItemModel\n",
    "# print(tree.children()[3].dumpObjectInfo())\n",
    "# # listAllItems()\n",
    "# # tree.itemFromIndex(0)\n",
    "# # tree.findChild()\n",
    "# # listAllItems()\n",
    "# tree.collapseAll()"
   ]
  },
  {
   "cell_type": "code",
   "execution_count": null,
   "id": "61328be8",
   "metadata": {},
   "outputs": [],
   "source": [
    "# InteractivePlaceCellConfig\n",
    "from pprint import pprint\n",
    "pprint(curr_active_pipeline.active_configs['maze1'].__dict__)\n"
   ]
  },
  {
   "cell_type": "code",
   "execution_count": null,
   "id": "6943e136",
   "metadata": {
    "pycharm": {
     "name": "#%%\n"
    }
   },
   "outputs": [],
   "source": [
    "from pyphoplacecellanalysis.GUI.PyQtPlot.Params.pyqtplot_ParamTreeWidget import plot_paramTreeWidget\n",
    "param_tree, param_tree_app = plot_paramTreeWidget(title='PhoMainParamTreeApp')"
   ]
  },
  {
   "cell_type": "code",
   "execution_count": null,
   "id": "827ddf63",
   "metadata": {
    "pycharm": {
     "name": "#%%\n"
    }
   },
   "outputs": [],
   "source": [
    "from pyphoplacecellanalysis.GUI.PyQtPlot.Flowchart.pyqtplot_Flowchart import plot_flowchartWidget\n",
    "pipeline_flowchart_window, pipeline_flowchart_app = plot_flowchartWidget(title='PhoMainPipelineFlowchartApp')"
   ]
  },
  {
   "cell_type": "markdown",
   "id": "6710ea4d-d80b-4e39-ba21-a3f9a3466ee2",
   "metadata": {
    "tags": []
   },
   "source": [
    "## Check Placefield Normalizations:\n",
    "Conclusion: neither the normalized_tuning_curves nor tuning_curves are normalized in any way! They give different firing rates across time.\n",
    "NOTE: For the pyramidal-only and lap-epoch filtered Diba data, the np.nanmax of normalized_tuning_curves actually does appear to be scaled to a maximum of 1.0 across all units, meaning only the relative difference between units in firing rate is preserved."
   ]
  },
  {
   "cell_type": "code",
   "execution_count": null,
   "id": "cdd624aa-80cd-430a-b5ac-2891d85065d4",
   "metadata": {},
   "outputs": [],
   "source": [
    "active_one_step_decoder.pf.ratemap"
   ]
  },
  {
   "cell_type": "code",
   "execution_count": null,
   "id": "99d9e9f6-1ec9-43e9-b5f9-3a1b0324649e",
   "metadata": {},
   "outputs": [],
   "source": [
    "np.sum(active_one_step_decoder.pf.ratemap.normalized_tuning_curves, axis=(1,2)) # ERROR: the normalized_tuning_curves are NOT normalized in any way!"
   ]
  },
  {
   "cell_type": "code",
   "execution_count": null,
   "id": "ef57ca16-1abb-409c-a105-f139c15ae07b",
   "metadata": {},
   "outputs": [],
   "source": [
    "np.sum(active_one_step_decoder.pf.ratemap.normalized_tuning_curves, axis=(1,2)) # ERROR: the normalized_tuning_curves are NOT normalized in any way!\n",
    "np.nanmax(active_one_step_decoder.pf.ratemap.normalized_tuning_curves, axis=(1,2)) # Not even by having their maximum value scaled to one!\n",
    "\n",
    "# np.sum(active_one_step_decoder.pf.ratemap.tuning_curves, axis=(1,2))\n",
    "# np.nanmax(active_one_step_decoder.pf.ratemap.tuning_curves, axis=(1,2))"
   ]
  },
  {
   "cell_type": "code",
   "execution_count": null,
   "id": "50995e6f-df9a-499c-b6bd-a13706b7b8dc",
   "metadata": {},
   "outputs": [],
   "source": [
    "active_pf_2D.ratemap.unit_max_tuning_curves\n",
    "\n",
    "# # test_unit_max_tuning_curve = active_pf_2D.ratemap.tuning_curves[0] / np.max(active_pf_2D.ratemap.tuning_curves[0])\n",
    "\n",
    "# test_unit_max_tuning_curves = [a_tuning_curve / np.max(a_tuning_curve) for a_tuning_curve in active_pf_2D.ratemap.tuning_curves]\n",
    "# validate_unit_max = [np.max(a_unit_max_tuning_curve) for a_unit_max_tuning_curve in test_unit_max_tuning_curves]\n",
    "# # print(f'validate_unit_max: {validate_unit_max}')\n",
    "# assert np.allclose(validate_unit_max, np.full_like(validate_unit_max, 1.0), equal_nan=True), f\"unit_max_tuning_curves doesn't have a max==1.0 after scaling!!! Maximums: {validate_unit_max}\"\n",
    "# np.isclose(\n",
    "# validate_unit_max\n",
    "# test_unit_max_tuning_curves\n",
    "# np.max(test_unit_max_tuning_curve)\n",
    "# np.min(test_unit_max_tuning_curve)\n",
    "\n",
    "\n",
    "# np.min(active_pf_2D.ratemap.minmax_normalized_tuning_curves[0])"
   ]
  },
  {
   "cell_type": "code",
   "execution_count": null,
   "id": "2224a6eb-ee0d-4563-95fb-9fb1be8ca63d",
   "metadata": {},
   "outputs": [],
   "source": [
    "np.max(active_pf_2D.ratemap.pdf_normalized_tuning_curves[0])"
   ]
  },
  {
   "cell_type": "markdown",
   "id": "d94ac6af-9c53-4d2d-9b3e-32a939acb346",
   "metadata": {},
   "source": [
    "## Placefield Overlap Detection:"
   ]
  },
  {
   "cell_type": "code",
   "execution_count": null,
   "id": "bd695e68-fdb2-4994-aaed-98b38327698a",
   "metadata": {},
   "outputs": [],
   "source": [
    "# Test Placefield Overlap Detection:\n",
    "def compute_placefield_overlap(pf):\n",
    "    return np.squeeze(np.prod(pf, axis=0))\n",
    "\n",
    "\n",
    "active_pf_overlap_results = curr_active_pipeline.computation_results[active_config_name].computed_data['placefield_overlap']\n",
    "all_pairwise_neuron_IDs_combinations = active_pf_overlap_results['all_pairwise_neuron_IDs_combinations']\n",
    "total_pairwise_overlaps = active_pf_overlap_results['total_pairwise_overlaps']\n",
    "all_pairwise_overlaps = active_pf_overlap_results['all_pairwise_overlaps']\n",
    "\n",
    "print_keys_if_possible('active_pf_overlap_results', active_pf_overlap_results)"
   ]
  },
  {
   "cell_type": "code",
   "execution_count": null,
   "id": "503eefc7-973b-47ef-b39d-3e200f4753bf",
   "metadata": {},
   "outputs": [],
   "source": [
    "# active_placefield_overlap\n",
    "# total_pairwise_overlaps\n",
    "# all_pairwise_overlaps\n",
    "\n",
    "\n",
    "# top_pairwise_overlaps = all_pairwise_overlaps[0:9,:,:]\n",
    "\n",
    "top_pairwise_overlaps = np.squeeze(all_pairwise_overlaps[2,:,:])\n",
    "\n",
    "from pyphoplacecellanalysis.GUI.PyQtPlot.pyqtplot_Matrix import MatrixRenderingWindow\n",
    "print(f'np.shape(top_pairwise_overlaps): {np.shape(top_pairwise_overlaps)}')\n",
    "pg.mkQApp(\"Correlation matrix display\")\n",
    "main_window = MatrixRenderingWindow(matrix=top_pairwise_overlaps, columns=[f'{i}' for i in np.arange(np.shape(top_pairwise_overlaps)[-1])])\n",
    "\n",
    "# compute_placefield_overlap(active_one_step_decoder.pf.ratemap.normalized_tuning_curves)"
   ]
  },
  {
   "cell_type": "markdown",
   "id": "956ba612-a388-4927-bffa-d2914ad63d3d",
   "metadata": {
    "jp-MarkdownHeadingCollapsed": true,
    "tags": []
   },
   "source": [
    "# Pho Scratch Workspace"
   ]
  },
  {
   "cell_type": "markdown",
   "id": "906620ba-f022-4f7b-9ff4-10ebad786ca6",
   "metadata": {
    "tags": []
   },
   "source": [
    "## Working firing rates fresh from spikes_df"
   ]
  },
  {
   "cell_type": "code",
   "execution_count": null,
   "id": "4aca2fa8-26b6-4ae3-900a-8c28ca8c6274",
   "metadata": {},
   "outputs": [],
   "source": [
    "print(f'time_bin_size_seconds: {time_bin_size_seconds}')\n",
    "\n",
    "active_filter_name = 'maze1'\n",
    "active_spikes_df = curr_active_pipeline.filtered_sessions[active_filter_name].spikes_df.copy()\n",
    "print(f'active_filter_name: {active_filter_name}')\n",
    "unit_specific_binned_spike_rate, max_spike_rates, time_window_edges, time_window_edges_binning_info = simple_time_binned_firing_rates(active_spikes_df)\n",
    "print(f'\\tmax_spike_rates: {max_spike_rates.to_numpy()}')"
   ]
  },
  {
   "cell_type": "code",
   "execution_count": null,
   "id": "a612ad94-d833-4fa4-8b16-e8d5e2d61619",
   "metadata": {},
   "outputs": [],
   "source": [
    "active_filter_name = 'maze2'\n",
    "active_spikes_df = curr_active_pipeline.filtered_sessions[active_filter_name].spikes_df.copy()\n",
    "print(f'active_filter_name: {active_filter_name}')\n",
    "unit_specific_binned_spike_rate, max_spike_rates, time_window_edges, time_window_edges_binning_info = simple_time_binned_firing_rates(active_spikes_df)\n",
    "print(f'\\tmax_spike_rates: {max_spike_rates.to_numpy()}')"
   ]
  },
  {
   "cell_type": "code",
   "execution_count": null,
   "id": "f9070046-1a19-424a-8b9d-05f9e3e44066",
   "metadata": {},
   "outputs": [],
   "source": [
    "active_filter_name = 'maze'\n",
    "active_spikes_df = curr_active_pipeline.filtered_sessions[active_filter_name].spikes_df.copy()\n",
    "print(f'active_filter_name: {active_filter_name}')\n",
    "unit_specific_binned_spike_rate, max_spike_rates, time_window_edges, time_window_edges_binning_info = simple_time_binned_firing_rates(active_spikes_df)\n",
    "print(f'\\tmax_spike_rates: {max_spike_rates.to_numpy()}')"
   ]
  },
  {
   "cell_type": "markdown",
   "id": "b3beb83c-bbc8-41e7-8ce3-5b36ae7da5dc",
   "metadata": {},
   "source": [
    "KDiba Data:\n",
    "time_bin_size_seconds: 0.5\n",
    "active_filter_name: maze1\n",
    "\tmax_spike_rates: [28 30 32 24 34 16 36 26 22 36 32 30 88 60 28 26 40 40 26 44 36 26 38 14 22 24 10 22 40 24 24 26 18 48 40 14 38 20 48 44]\n",
    "active_filter_name: maze2\n",
    "\tmax_spike_rates: [6 10 8 18 30 6 18 14 12 14 24 4 10 48 24 12 6 16 16 16 32 26 14 10 14 10 6 12 30 12 4 16 22 18 20 4 10 6 36 24]\n",
    "active_filter_name: maze\n",
    "\tmax_spike_rates: [28 30 32 24 34 16 36 26 22 36 32 30 88 60 28 26 40 40 26 44 36 32 38 14 22 24 10 22 40 24 24 26 20 48 40 14 38 20 48 44]\n"
   ]
  },
  {
   "cell_type": "code",
   "execution_count": null,
   "id": "4255db2b-2371-456d-81d2-d0523f4baf2b",
   "metadata": {},
   "outputs": [],
   "source": [
    "unit_specific_binned_spike_counts"
   ]
  },
  {
   "cell_type": "markdown",
   "id": "3ade57d9-0761-4c29-a9f3-159de108134d",
   "metadata": {},
   "source": [
    "time_bin_size_seconds: 0.25\n",
    "\tmax_spike_rates: [36 36 36 36 60 20 40 48 40 48 40 44 100 92 36 32 80 52 32 48 52 36 68 24 44 36 16 32 44 36 48 36 36 52 48 28 40 24 72 52]\n",
    "\n",
    "time_bin_size_seconds: 0.5\n",
    "\tmax_spike_rates: [28 30 32 24 34 16 36 26 22 36 32 30 88 60 28 26 40 40 26 44 36 26 38 14 22 24 10 22 40 24 24 26 18 48 40 14 38 20 48 44]\n",
    "    \n",
    "time_bin_size_seconds: 1.0\n",
    "\tmax_spike_rates: [16 21 18 17 22 12 22 18 16 25 25 25 65 48 19 20 30 32 20 30 24 21 26 8 11 17 5 14 30 14 17 25 11 30 26 11 27 10 37 38]\n",
    "\n",
    "time_bin_size_seconds: 10.0\n",
    "\tmax_spike_rates: # array([3.6, 5.6, 2.5, 6.2, 7.2, 2.3, 7.4, 4.8, 3.3, 5.2, 15.3, 4.3, 21.8, 12.4, 7.5, 5.4, 4.8, 4.3, 4.9, 6, 9.5, 7.7, 2.6, 2.3, 4.1, 2.8, 1.3, 5.1, 11.5, 5.1, 3.2, 9.4, 3.7, 8.8, 9.7, 2.9, 5.2, 1.7, 12, 5.9])\n",
    "    # Filtered pf only spikes: array([2.6, 3.9, 2, 3.6, 3.8, 1.3, 3.7, 1.8, 2, 2.6, 2.3, 1.4, 5.7, 6.1, 3.1, 2.7, 4.9, 3.3, 3.9, 3.3, 5.9, 2.7, 2.6, 1.4, 1.4, 2.9, 1, 2.3, 5.4, 2.4, 0.9, 3.6, 1.4, 4.5, 3.4, 0.8, 2.8, 1.1, 2.6, 4.9])"
   ]
  },
  {
   "cell_type": "code",
   "execution_count": null,
   "id": "9da6709d-07a5-441f-8380-fae8e7de2b3e",
   "metadata": {},
   "outputs": [],
   "source": [
    "# active_computation_results[filter_name]\n",
    "active_firing_rate_trends = active_computed_data['firing_rate_trends']\n",
    "active_firing_rate_trends.keys() # ['active_rolling_window_times', 'mean_firing_rates', 'desired_window_length_seconds', 'desired_window_length_bins', 'active_firing_rates_df', 'moving_mean_firing_rates_df']"
   ]
  },
  {
   "cell_type": "code",
   "execution_count": null,
   "id": "9c1bbd85-7b2b-482d-a18d-1f0f707b2bfe",
   "metadata": {},
   "outputs": [],
   "source": [
    "moving_mean_firing_rates_df = active_firing_rate_trends['moving_mean_firing_rates_df']\n",
    "moving_mean_firing_rates_df"
   ]
  },
  {
   "cell_type": "markdown",
   "id": "e0ccae49-e366-4dae-bf34-f3e4a1a0968b",
   "metadata": {
    "tags": []
   },
   "source": [
    "## New 2022-07-31 Firing Rate Across-Session Printing with explicit time binning"
   ]
  },
  {
   "cell_type": "code",
   "execution_count": null,
   "id": "2f3ca698-606e-450e-9414-f1462960f12a",
   "metadata": {},
   "outputs": [],
   "source": [
    "from pyphocorehelpers.general_helpers import CodeConversion\n",
    "from pyphocorehelpers.print_helpers import document_active_variables, print_keys_if_possible\n",
    "# CodeConversion"
   ]
  },
  {
   "cell_type": "code",
   "execution_count": null,
   "id": "9872383b-c592-40d0-87da-f96b6b3dcfb0",
   "metadata": {},
   "outputs": [],
   "source": [
    "# print_keys_if_possible('active_firing_rate_trends', active_firing_rate_trends, additional_excluded_item_classes=['pandas.core.series.Series'])\n",
    "print_keys_if_possible('active_firing_rate_trends', active_firing_rate_trends)"
   ]
  },
  {
   "cell_type": "code",
   "execution_count": null,
   "id": "263000e9-c219-4466-b340-1a80da6f499f",
   "metadata": {},
   "outputs": [],
   "source": [
    "### Reformat long class strings to suscint class names:\n",
    "import re ## required for strip_type_str_to_classname(...)\n",
    "\n",
    "def _format_curr_value(depth_string, curr_key, type_string, type_name):\n",
    "    return f\"{depth_string}['{curr_key}']: {type_name}\"\n",
    "        \n",
    "print_keys_if_possible('active_firing_rate_trends', active_firing_rate_trends, custom_item_formatter=_format_curr_value)"
   ]
  },
  {
   "cell_type": "code",
   "execution_count": null,
   "id": "27be304d-782a-4f23-85e7-82197b462574",
   "metadata": {},
   "outputs": [],
   "source": [
    "document_active_variables(active_firing_rate_trends, enable_print=True)"
   ]
  },
  {
   "cell_type": "code",
   "execution_count": null,
   "id": "98a36da3-730a-43d0-808b-8b4ac2c5d4bf",
   "metadata": {},
   "outputs": [],
   "source": [
    "active_firing_rate_trends = curr_active_pipeline.computation_results[active_config_name].computed_data.get('firing_rate_trends', None)"
   ]
  },
  {
   "cell_type": "code",
   "execution_count": null,
   "id": "35466cc7-79f3-4abb-9524-50406dabaa5b",
   "metadata": {},
   "outputs": [],
   "source": [
    "active_firing_rate_trends.all_session_spikes."
   ]
  },
  {
   "cell_type": "code",
   "execution_count": null,
   "id": "44fc3383-f07e-4d56-b4e3-43e1a388bb68",
   "metadata": {},
   "outputs": [],
   "source": [
    "def _print_active_firing_rate_trends_result_overview(active_firing_rate_trends):\n",
    "    def _print_single_result(a_trends_set):\n",
    "        # a_trends_set['time_window_edges']\n",
    "        # a_trends_set['time_window_edges_binning_info']\n",
    "        binned_rates = a_trends_set['time_binned_unit_specific_binned_spike_rate']\n",
    "        mins = a_trends_set['min_spike_rates'].to_numpy()\n",
    "        means = binned_rates.mean().to_numpy()\n",
    "        medians = a_trends_set['median_spike_rates'].to_numpy()\n",
    "        maxs = a_trends_set['max_spike_rates'].to_numpy()\n",
    "        # print(f\"\\t\\tmins: {mins}\") # all zero, which is reasonable I suppose\n",
    "        print(f\"\\t\\tmeans: {means}\") # non-zero, which is good.\n",
    "        # print(f\"\\t\\tmedians: {medians}\") # also all zero, which doesn't seem super reasonable\n",
    "        print(f\"\\t\\tmaxs: {maxs}\")\n",
    "    print(f\"time_bin_size_seconds: {active_firing_rate_trends['time_bin_size_seconds']}\")\n",
    "    print(f\"\\tall_session_spikes: \")\n",
    "    _print_single_result(active_firing_rate_trends['all_session_spikes'])\n",
    "    print(f\"\\tpf_included_spikes_only: \")\n",
    "    _print_single_result(active_firing_rate_trends['pf_included_spikes_only'])\n",
    "    \n",
    "\n",
    "_print_active_firing_rate_trends_result_overview(active_firing_rate_trends)"
   ]
  },
  {
   "cell_type": "code",
   "execution_count": null,
   "id": "46a16a5b-5c10-464d-9976-f57d2e11b783",
   "metadata": {},
   "outputs": [],
   "source": [
    "computation_result_names = list(curr_active_pipeline.computation_results.keys()) # ['maze1', 'maze2']\n",
    "for a_result_name, a_computation_result in curr_active_pipeline.computation_results.items():\n",
    "    print(f'>> {a_result_name}') ## e.g. 'maze1'\n",
    "    active_firing_rate_trends = a_computation_result.computed_data.get('firing_rate_trends', None)\n",
    "    _print_active_firing_rate_trends_result_overview(active_firing_rate_trends)\n",
    "\n",
    "\n",
    "# def across_epoch_computation_function(computation_results):\n",
    "#     \"\"\" an example of a function that operates across all computation_results. Computed after all computations are complete. \"\"\"\n"
   ]
  },
  {
   "cell_type": "markdown",
   "id": "6bdb4bac-056c-418e-a2bb-a4c2f2f7b85a",
   "metadata": {
    "tags": []
   },
   "source": [
    "## Compute the firing rates in the windows corresponding to the sampling rate of the position bins, or better yet for the entire duration spent in a single position bin (splitting on bin-index changes"
   ]
  },
  {
   "cell_type": "code",
   "execution_count": null,
   "id": "92b1e85c-ad46-498d-b868-7697330b3e9a",
   "metadata": {},
   "outputs": [],
   "source": [
    "from neuropy.utils.mixins.binning_helpers import build_df_discretized_binned_position_columns\n",
    "active_pf_2D.filtered_spikes_df, (xbin, ybin), bin_info = build_df_discretized_binned_position_columns(active_pf_2D.filtered_spikes_df.copy(), bin_values=(active_pf_2D.xbin, active_pf_2D.ybin), active_computation_config=active_computation_config, force_recompute=False, debug_print=False)\n",
    "bin_info['mode'] = active_pf_2D.bin_info['mode'] # get the original mode used to compute the bins\n",
    "active_pf_2D.bin_info = bin_info # replace the bin_info with the updated version\n",
    "# active_pf_2D.filtered_spikes_df"
   ]
  },
  {
   "cell_type": "code",
   "execution_count": null,
   "id": "f624acea-07ed-4f39-9610-c2608240fe36",
   "metadata": {},
   "outputs": [],
   "source": [
    "# sess.spikes_df # no 'binned_x' column\n",
    "active_pf_2D.filtered_spikes_df"
   ]
  },
  {
   "cell_type": "code",
   "execution_count": null,
   "id": "1c0df89f-1c6b-4343-a6fd-db40a491108e",
   "metadata": {},
   "outputs": [],
   "source": [
    "#### Need to compute the best-known transition times between position bins for all spikes as not to truncate the starts/ends of the bins (which would happen if doing a single cell at a time)\n",
    "# active_df.binned_x\n",
    "active_df['_binned_x_transitions'] = active_df['binned_x'].diff()\n",
    "active_df_filtered_binned_x_transitions_only = active_df[active_df['_binned_x_transitions'] != 0] # get only the transition points (for binned_x)\n",
    "active_df_filtered_binned_x_transitions_only\n",
    "\n",
    "active_df_filtered_binned_x_transitions_only = active_df_filtered_binned_x_transitions_only[['t_rel_seconds', 'binned_x']]\n",
    "# Get durations spent in the bin:\n",
    "active_df_filtered_binned_x_transitions_only['bin_occupied_duration'] = active_df_filtered_binned_x_transitions_only['t_rel_seconds'].diff() # How long the animal spent in this bin before transitioning (along its axis)\n",
    "active_df_filtered_binned_x_transitions_only\n"
   ]
  },
  {
   "cell_type": "code",
   "execution_count": null,
   "id": "79e719f7-199a-4f0b-abb1-9426771afb3b",
   "metadata": {},
   "outputs": [],
   "source": [
    "transition_start_spike_index = active_df_filtered_binned_x_transitions_only.index\n",
    "transition_end_spike_index = transition_start_spike_index - 1 # the end of each occurs at the time of the previous one"
   ]
  },
  {
   "cell_type": "code",
   "execution_count": null,
   "id": "93538d28-dd33-4f70-964d-d0b1e2eed0e6",
   "metadata": {},
   "outputs": [],
   "source": [
    "#### In general, for each neuron, get the spikes that occured during each bin_occupation_event 'i' (from t_rel_seconds[i] to (t_rel_seconds[i] + bin_occupied_duration[i])) and divide by the bin_occupied_duration[i]\n",
    "# This will give the bin_occupation_event's spike_rate for each neuron which we can filter on (to find the neuron's that fire > 1Hz for this bin_occupation_event)\n",
    "\n",
    "\"\"\"\n",
    "Along a given axis (x or y), an animal occupies a single bin at each time given by (binned_x or binned_y). \n",
    "When the animal changes bins and a transition occurs along a given axis, it is said to terminate the occupation of the previous bin and start the occupation of the new bin.\n",
    "\n",
    "These (start_t, bin_occupied_duration, binned_x) tuples denote a unique event, termed a `bin_occupation_event`.\n",
    "\n",
    "Within a given bin_occupation_event each neuron has an instantaneous bin firing rate given by: (number of spikes it fired during the event) / bin_occupied_duration\n",
    "\n",
    "\"\"\""
   ]
  },
  {
   "cell_type": "markdown",
   "id": "188d6f5f-d947-4f08-8822-49a9c9082e12",
   "metadata": {
    "jp-MarkdownHeadingCollapsed": true,
    "tags": []
   },
   "source": [
    "## Change to simplier non-time-dependent version:"
   ]
  },
  {
   "cell_type": "code",
   "execution_count": null,
   "id": "186ad30e-0bd1-4ea2-a466-1733afb6467a",
   "metadata": {},
   "outputs": [],
   "source": [
    "# Plot from the active_simpler_pf_densities_analysis\n",
    "out_app, out_win, out_imageView = pyqtplot_plot_image(active_pf_2D_dt.xbin_labels, active_pf_2D_dt.ybin_labels, active_simpler_pf_densities_analysis.n_neurons_meeting_firing_critiera_by_position_bins_2D)"
   ]
  },
  {
   "cell_type": "code",
   "execution_count": null,
   "id": "dc13c704-bb9f-4e78-8df5-5c036bc90282",
   "metadata": {},
   "outputs": [],
   "source": [
    "# out = BinnedImageRenderingWindow(active_pf_2D_dt.curr_firing_maps_matrix, active_pf_2D_dt.xbin_labels, active_pf_2D_dt.ybin_labels)\n",
    "out = BasicBinnedImageRenderingWindow(active_pf_2D_dt.curr_firing_maps_matrix, active_pf_2D_dt.xbin_labels, active_pf_2D_dt.ybin_labels)\n",
    "# pyqtplot_plot_image(active_pf_2D_dt.xbin_labels, active_pf_2D_dt.ybin_labels, active_pf_2D_dt.curr_firing_maps_matrix)"
   ]
  },
  {
   "cell_type": "code",
   "execution_count": null,
   "id": "4640c635-505b-4260-873e-2a74750949c4",
   "metadata": {},
   "outputs": [],
   "source": [
    "# Compute the updated counts:\n",
    "current_spike_per_unit_per_bin_counts = active_df.value_counts(subset=['fragile_linear_neuron_IDX', 'binned_x', 'binned_y'], normalize=False, sort=False, ascending=True, dropna=True) # dropna=True\n",
    "current_spike_per_unit_per_bin_counts # pandas.core.series.Series"
   ]
  },
  {
   "cell_type": "code",
   "execution_count": null,
   "id": "1827525d-84aa-49ca-b6f5-833a8b60b0db",
   "metadata": {},
   "outputs": [],
   "source": [
    "type(current_spike_per_unit_per_bin_counts) # pandas.core.series.Series\n",
    "# current_spike_per_unit_per_bin_counts[0]\n",
    "\n",
    "pd.DataFrame(current_spike_per_unit_per_bin_counts)"
   ]
  },
  {
   "cell_type": "code",
   "execution_count": null,
   "id": "3a9c5ac1-7d8d-4b22-b23b-13834535e62c",
   "metadata": {},
   "outputs": [],
   "source": [
    "debug_print = True\n",
    "for (fragile_linear_neuron_IDX, xbin_label, ybin_label), count in current_spike_per_unit_per_bin_counts.iteritems():\n",
    "    if debug_print:\n",
    "        print(f'fragile_linear_neuron_IDX: {fragile_linear_neuron_IDX}, xbin_label: {xbin_label}, ybin_label: {ybin_label}, count: {count}')\n",
    "    try:\n",
    "        last_firing_maps_matrix[fragile_linear_neuron_IDX, xbin_label-1, ybin_label-1] += count\n",
    "    except IndexError as e:\n",
    "        print(f'e: {e}\\n active_current_spike_df: {np.shape(active_current_spike_df)}, current_spike_per_unit_per_bin_counts: {np.shape(current_spike_per_unit_per_bin_counts)}\\n last_firing_maps_matrix: {np.shape(last_firing_maps_matrix)}\\n count: {count}')\n",
    "        print(f' last_firing_maps_matrix[fragile_linear_neuron_IDX: {fragile_linear_neuron_IDX}, (xbin_label-1): {xbin_label-1}, (ybin_label-1): {ybin_label-1}] += count: {count}')\n",
    "        raise e\n",
    "        "
   ]
  },
  {
   "cell_type": "code",
   "execution_count": null,
   "id": "887c0848-4672-409d-af60-d110e96b92a4",
   "metadata": {},
   "outputs": [],
   "source": [
    "## Now want it arranged by-bin instead of by-neuron:\n",
    "\n",
    "\n",
    "## LATER: Also need to collapse over all binned_y for each binned_x (marginalize) - I think"
   ]
  },
  {
   "cell_type": "markdown",
   "id": "d6f4a4e8-4ffc-4f8b-85f9-e0e98bc309e2",
   "metadata": {
    "jp-MarkdownHeadingCollapsed": true,
    "tags": []
   },
   "source": [
    "## Get 2D Heatmaps of Velocity and Occupancy working:\n",
    "NOTE: This works great, and is the best figure for overall Eloy pf_Density/velocity analyeses."
   ]
  },
  {
   "cell_type": "code",
   "execution_count": null,
   "id": "bb049fc0-6fd7-40de-80b3-b74576db9cda",
   "metadata": {},
   "outputs": [],
   "source": [
    "from pyphoplacecellanalysis.GUI.PyQtPlot.BinnedImageRenderingWindow import BasicBinnedImageRenderingWindow, add_bin_ticks, build_binned_imageItem\n",
    "\n",
    "def display_all_eloy_pf_density_measures_results(active_pf_2D, active_eloy_analysis, active_simpler_pf_densities_analysis, active_peak_prominence_2d_results):\n",
    "    # active_xbins = active_pf_2D.xbin\n",
    "    # active_ybins = active_pf_2D.ybin\n",
    "    \n",
    "    # # *bin_indicies:\n",
    "    # xbin_indicies = active_pf_2D.xbin_labels -1\n",
    "    # ybin_indicies = active_pf_2D.ybin_labels -1\n",
    "    # active_xbins = xbin_indicies\n",
    "    # active_ybins = ybin_indicies\n",
    "    \n",
    "    # *bin_centers: these seem to work\n",
    "    active_xbins = active_pf_2D.xbin_centers\n",
    "    active_ybins = active_pf_2D.ybin_centers\n",
    "    \n",
    "    out = BasicBinnedImageRenderingWindow(active_eloy_analysis.avg_2D_speed_per_pos, active_xbins, active_ybins, name='avg_velocity', title=\"Avg Velocity per Pos (X, Y)\", variable_label='Avg Velocity')\n",
    "    out.add_data(row=2, col=0, matrix=active_eloy_analysis.pf_overlapDensity_2D, xbins=active_xbins, ybins=active_ybins, name='pf_overlapDensity', title='pf overlapDensity metric', variable_label='pf overlapDensity')\n",
    "    out.add_data(row=3, col=0, matrix=active_pf_2D.ratemap.occupancy, xbins=active_xbins, ybins=active_ybins, name='occupancy_seconds', title='Seconds Occupancy', variable_label='seconds')\n",
    "    out.add_data(row=4, col=0, matrix=active_simpler_pf_densities_analysis.n_neurons_meeting_firing_critiera_by_position_bins_2D, xbins=active_xbins, ybins=active_ybins, name='n_neurons_meeting_firing_critiera_by_position_bins_2D', title='# neurons > 1Hz per Pos (X, Y)', variable_label='# neurons')\n",
    "    # out.add_data(row=5, col=0, matrix=active_peak_prominence_2d_results.peak_counts.raw, xbins=active_pf_2D.xbin_labels, ybins=active_pf_2D.ybin_labels, name='pf_peak_counts_map', title='# pf peaks per Pos (X, Y)', variable_label='# pf peaks')\n",
    "    # out.add_data(row=6, col=0, matrix=active_peak_prominence_2d_results.peak_counts.gaussian_blurred, xbins=active_pf_2D.xbin_labels, ybins=active_pf_2D.ybin_labels, name='pf_peak_counts_map_blurred gaussian', title='Gaussian blurred # pf peaks per Pos (X, Y)', variable_label='Gaussian blurred # pf peaks')\n",
    "    out.add_data(row=5, col=0, matrix=active_peak_prominence_2d_results.peak_counts.raw, xbins=active_xbins, ybins=active_ybins, name='pf_peak_counts_map', title='# pf peaks per Pos (X, Y)', variable_label='# pf peaks')\n",
    "    out.add_data(row=6, col=0, matrix=active_peak_prominence_2d_results.peak_counts.gaussian_blurred, xbins=active_xbins, ybins=active_ybins, name='pf_peak_counts_map_blurred gaussian', title='Gaussian blurred # pf peaks per Pos (X, Y)', variable_label='Gaussian blurred # pf peaks')\n",
    "\n",
    "    return out\n",
    "    \n",
    "out_all_eloy_pf_density_fig = display_all_eloy_pf_density_measures_results(active_pf_2D, active_eloy_analysis, active_simpler_pf_densities_analysis, active_peak_prominence_2d_results)"
   ]
  },
  {
   "cell_type": "code",
   "execution_count": null,
   "id": "81e89336-3cb6-48a1-819b-18018b528172",
   "metadata": {},
   "outputs": [],
   "source": [
    "out_all_eloy_pf_density_fig.close()"
   ]
  },
  {
   "cell_type": "markdown",
   "id": "24d12a65-a8d5-43ed-aab5-d6f143fbde58",
   "metadata": {
    "jp-MarkdownHeadingCollapsed": true,
    "tags": []
   },
   "source": [
    "## Test getting prominences with peak_prominence2d"
   ]
  },
  {
   "cell_type": "code",
   "execution_count": null,
   "id": "06220324-167f-4817-a520-d9204abdb5e5",
   "metadata": {
    "scrolled": true,
    "tags": []
   },
   "outputs": [],
   "source": [
    "curr_display_function_name = '_display_pf_peak_prominence2d_default_quadrant_plots'\n",
    "out_figs, out_axes, out_idxs = curr_active_pipeline.display(curr_display_function_name, active_config_name) "
   ]
  },
  {
   "cell_type": "code",
   "execution_count": null,
   "id": "d171d2cc-3554-400f-a18b-c37448f8f450",
   "metadata": {
    "scrolled": true,
    "tags": []
   },
   "outputs": [],
   "source": [
    "curr_display_function_name = 'plot_Prominence'\n",
    "built_pdf_metadata, curr_pdf_save_path = _build_pdf_pages_output_info(curr_display_function_name)\n",
    "with backend_pdf.PdfPages(curr_pdf_save_path, keep_empty=False, metadata=built_pdf_metadata) as pdf:\n",
    "    for an_idx, a_fig in zip(active_peak_prominence_2d_results.neuron_extended_ids, out_figs):\n",
    "        a_fig.suptitle(f'neuron: {an_idx.id}', fontsize=16)\n",
    "        pdf.savefig(a_fig)"
   ]
  },
  {
   "cell_type": "code",
   "execution_count": null,
   "id": "0c0931b4-c50e-4238-a934-35a1c71fa71f",
   "metadata": {
    "scrolled": true,
    "tags": []
   },
   "outputs": [],
   "source": [
    "curr_display_function_name = '_display_pf_peak_prominence2d_plots'\n",
    "figure, ax = curr_active_pipeline.display(curr_display_function_name, active_config_name, neuron_id=2) "
   ]
  },
  {
   "cell_type": "markdown",
   "id": "115ecb17-a0d2-44d1-9797-ef342c84e74c",
   "metadata": {
    "tags": []
   },
   "source": [
    "# Quantitatively Analyzing the prominence computation results\n",
    "For a single neuron:\n",
    "Care about:\n",
    " - Pf Num of Peaks: expresses whether a cell responds selectively to a single location, is bi-modal, tri-modal, etc.\n",
    " - Peak Locations: (to determine the number of peaks per bin or region)\n",
    " - Peak Prominences/Relative heights\n",
    "   Pf Sizes: defined by our bounding boxes\n",
    "   Stability??\n",
    "\n",
    "QuantPeakResult"
   ]
  },
  {
   "cell_type": "code",
   "execution_count": null,
   "id": "10e0ca25-4ba8-4327-9d18-5b420648cb28",
   "metadata": {},
   "outputs": [],
   "source": [
    "list(active_peak_prominence_2d_results.keys())\n",
    "active_peak_prominence_2d_results.filtered_flat_peaks_df.columns # ['neuron_id', 'neuron_peak_firing_rate', 'summit_idx', 'summit_slice_idx', 'slice_level_multiplier', 'summit_slice_level', 'peak_relative_height', 'peak_prominence', 'peak_center_x', 'peak_center_y', 'summit_slice_x_width', 'summit_slice_y_width', 'summit_slice_center_x', 'summit_slice_center_y', 'peak_height', 'peak_center_binned_x', 'peak_center_binned_y', 'peak_center_avg_speed', 'peak_nearest_directional_boundary_bins', 'peak_nearest_directional_boundary_displacements', 'peak_nearest_directional_boundary_distances', 'nearest_directional_boundary_direction_idx', 'nearest_directional_boundary_direction_distance', 'nearest_x_boundary_distance', 'nearest_y_boundary_distance']"
   ]
  },
  {
   "cell_type": "markdown",
   "id": "c9607cb7-30e8-4d82-bfe2-c07693871572",
   "metadata": {},
   "source": [
    "### Test distance to boundary by computing the distance to the nearest never-occupied bin"
   ]
  },
  {
   "cell_type": "code",
   "execution_count": null,
   "id": "fa1c106e-4dee-4ba1-a29c-ce4324fe73f6",
   "metadata": {},
   "outputs": [],
   "source": [
    "# active_peak_prominence_2d_results.filtered_flat_peaks_df\n",
    "# active_eloy_analysis.avg_2D_speed_per_pos\n",
    "# active_peak_prominence_2d_results.filtered_flat_peaks_df\n",
    "subfiltered_peaks_df = active_peak_prominence_2d_results.filtered_flat_peaks_df[active_peak_prominence_2d_results.filtered_flat_peaks_df['summit_idx']==1].copy()\n",
    "subfiltered_peaks_df"
   ]
  },
  {
   "cell_type": "code",
   "execution_count": null,
   "id": "5b6d3bf5-f91f-492b-b05d-6fa339dbb869",
   "metadata": {},
   "outputs": [],
   "source": [
    "# # correlated with 'summit_slice_x_width', 'summit_slice_y_width'\n",
    "x_distances = subfiltered_peaks_df['nearest_x_boundary_distance'].values # find the distance to nearest wall vertically\n",
    "y_distances = subfiltered_peaks_df['nearest_y_boundary_distance'].values # find the distance to nearest wall horizontally\n",
    "x_widths = subfiltered_peaks_df['summit_slice_x_width'].values\n",
    "y_widths = subfiltered_peaks_df['summit_slice_y_width'].values\n",
    "# Convert the pf widths in cm to fractional number of bins\"\n",
    "x_width_num_bins = x_widths / float(active_pf_2D.bin_info['xstep'])\n",
    "y_width_num_bins = y_widths / float(active_pf_2D.bin_info['ystep'])\n",
    "\n",
    "peak_center_xy_points_pos_list = subfiltered_peaks_df[['peak_center_x', 'peak_center_y']].values\n",
    "slice_center_xy_points_pos_list = subfiltered_peaks_df[['summit_slice_center_x', 'summit_slice_center_y']].values\n",
    "slice_center_xy_points_pos_list.shape # (40, 2)\n",
    "\n",
    "peak_aclu = subfiltered_peaks_df.neuron_id.values"
   ]
  },
  {
   "cell_type": "code",
   "execution_count": null,
   "id": "66cba163-c350-496f-9bda-8cf9f42b520b",
   "metadata": {},
   "outputs": [],
   "source": [
    "## MICE ARE FRIGGIN' NUMBER 1!!\n",
    "\n",
    "\n",
    "# Validation Function: This function accepts several related parameters, and returns True if the data should be rendered on that subfigure, and False if it shouldn't. This allows passing a single datasource to be plotted on all subfigures without duplication, or a non-linear subset of figures, etc.\n",
    "def is_data_rendered_on_subplot(neuron_id, neuron_idx):\n",
    "    return True\n",
    "\n",
    "# peak_aclu\n",
    "\n",
    "\n"
   ]
  },
  {
   "cell_type": "code",
   "execution_count": null,
   "id": "a6adc4b9-b850-4253-98bc-6be9c24dbc71",
   "metadata": {},
   "outputs": [],
   "source": [
    "import matplotlib.pyplot as plt\n",
    "\n",
    "## Plots for analyzing the distance from ends of maze:\n",
    "fig, ax = plt.subplots(num=10, clear=True)\n",
    "im = ax.scatter(x_distances, x_width_num_bins)\n",
    "im2 = ax.scatter(x_distances, y_width_num_bins, c='r')\n",
    "lgd = ax.legend(['x_size', 'y_size'])\n",
    "ax.set_xlabel('distance from nearest x boundary [# bins]')\n",
    "ax.set_ylabel('placefield width [# bins]')\n",
    "fig.show()"
   ]
  },
  {
   "cell_type": "code",
   "execution_count": null,
   "id": "03ea421c-f6a3-4bd7-b81c-54dba18b7749",
   "metadata": {},
   "outputs": [],
   "source": [
    "## Plots for analyzing the distance from sides of track\n",
    "fig, ax = plt.subplots(num=11, clear=True)\n",
    "im = ax.scatter(y_distances, x_width_num_bins)\n",
    "im2 = ax.scatter(y_distances, y_width_num_bins, c='r')\n",
    "lgd = ax.legend(['x_size', 'y_size'])\n",
    "ax.set_xlabel('distance from nearest y boundary [# bins]')\n",
    "ax.set_ylabel('placefield width [# bins]')\n",
    "fig.show()"
   ]
  },
  {
   "cell_type": "markdown",
   "id": "759e7c3c-d7cd-44e6-bad9-84eb10d8c549",
   "metadata": {
    "tags": []
   },
   "source": [
    "## Render a figure to display the computed distances and their relations to the widths:"
   ]
  },
  {
   "cell_type": "markdown",
   "id": "55f8fc02-1bdc-4c50-b538-c64c7205ed02",
   "metadata": {
    "tags": []
   },
   "source": [
    "### Trying to add annotations to the normal 2D MATPLOTLIB heatmaps with `annotate` command:"
   ]
  },
  {
   "cell_type": "code",
   "execution_count": null,
   "id": "963a6bf2-d6e9-4157-a00a-ce351251cf54",
   "metadata": {},
   "outputs": [],
   "source": [
    "## NEW DICT FORMAT:\n",
    "# 1 point for each neuron_id:\n",
    "peaks_overlay_points_data_dict = {aclu:dict(is_enabled=True, points_data=peak_center_xy_points_pos_list[aclu == peak_aclu,:], plot_opts={'markersize': 22, 'marker': '*', 'markeredgecolor': 'grey', 'linestyle': 'none', 'markerfacecolor': 'white', 'alpha': 0.85, 'label': 'peaks_overlay_points'},\n",
    "                                                                             scatter_opts={'s': 22, 'c': 'white', 'alpha': 0.85, 'marker': '*', 'label': 'peaks_overlay_sc'}, plots={}) for aclu in peak_aclu} # active_pf_2D.included_neuron_IDs\n",
    "slice_center_overlay_points_data_dict = {aclu:dict(is_enabled=True, points_data=slice_center_xy_points_pos_list[aclu == peak_aclu,:], plot_opts={'markersize': 20, 'marker': '^', 'markeredgecolor': 'grey', 'linestyle': 'none', 'markerfacecolor': 'white', 'alpha': 0.8, 'label': 'slice_center_overlay_points'},\n",
    "                                                                             scatter_opts={'s': 20, 'c': 'white', 'alpha': 0.8, 'marker': '^', 'label': 'slice_center_overlay_sc'}, plots={}) for aclu in peak_aclu} # active_pf_2D.included_neuron_IDs\n",
    "\n",
    "extended_overlay_points_datasource_dicts = {'peaks_overlay_points': peaks_overlay_points_data_dict, 'slice_center_overlay_points': slice_center_overlay_points_data_dict}\n",
    "\n",
    "# filter_name = 'maze1'\n",
    "figure_format_config['enable_saving_to_disk'] = False\n",
    "# curr_active_pipeline.display('_display_2d_placefield_result_plot_ratemaps_2D', filter_name, plot_variable=enumTuningMap2DPlotVariables.SPIKES_MAPS, fignum=plots_fig_nums_dict[filter_name][0], **figure_format_config) # works!\n",
    "curr_active_pipeline.display('_display_2d_placefield_result_plot_ratemaps_2D', filter_name, plot_variable=enumTuningMap2DPlotVariables.TUNING_MAPS, fignum=plots_fig_nums_dict[filter_name][1], **figure_format_config, extended_overlay_points_datasource_dicts=extended_overlay_points_datasource_dicts)"
   ]
  },
  {
   "cell_type": "code",
   "execution_count": null,
   "id": "947e8786-8dd7-4e67-ae4e-5ebc71af0e20",
   "metadata": {},
   "outputs": [],
   "source": [
    "curr_display_function_name = '_display_normal'\n",
    "built_pdf_metadata, curr_pdf_save_path = _build_pdf_pages_output_info(curr_display_function_name)\n",
    "with backend_pdf.PdfPages(curr_pdf_save_path, keep_empty=False, metadata=built_pdf_metadata) as pdf:\n",
    "    fig0, figList1 = curr_active_pipeline.display(curr_display_function_name, filter_name, debug_print=False, enable_saving_to_disk=False, extended_overlay_points_datasource_dicts=extended_overlay_points_datasource_dicts)\n",
    "    plots = [fig0, *figList1]\n",
    "    for a_fig in plots:\n",
    "        pdf.savefig(a_fig)"
   ]
  },
  {
   "cell_type": "code",
   "execution_count": null,
   "id": "eaaf86b9-9fee-4ea6-b9f2-01e94eb7d86d",
   "metadata": {},
   "outputs": [],
   "source": [
    "fig = figList1[0]\n",
    "ax_list = fig.axes\n",
    "\n",
    "curr_neuron_IDX = 0\n",
    "curr_ax = ax_list[curr_neuron_IDX]\n",
    "curr_peak_center = peak_center_xy_points_pos_list[curr_neuron_IDX, :]\n",
    "curr_edge_pos = \n",
    "\n",
    "# curr_ax_peak_center_point_annotation = curr_ax.annotate('EXAMPLETEXT', curr_peak_center)\n",
    "curr_ax.annotate('', tuple(curr_peak_center), (0.4, 0.8), arrowprops={'arrowstyle':'<->'})\n",
    "\n",
    "# curr_ax.annotate('', (0.4, 0.2), (0.4, 0.8), arrowprops={'arrowstyle':'<->'})"
   ]
  },
  {
   "cell_type": "code",
   "execution_count": null,
   "id": "73604250-798e-47d4-a92d-f6272c40f82a",
   "metadata": {},
   "outputs": [],
   "source": [
    "from pyphoplacecellanalysis.GUI.PyQtPlot.BinnedImageRenderingWindow import BasicBinnedImageRenderingWindow, add_bin_ticks, build_binned_imageItem\n",
    "\n",
    "# out.add_data(row=5, col=0, matrix=active_peak_prominence_2d_results.peak_counts.raw, xbins=active_xbins, ybins=active_ybins, name='pf_peak_counts_map', title='# pf peaks per Pos (X, Y)', variable_label='# pf peaks')\n",
    "\n",
    "\n",
    "# # *bin_centers: these seem to work\n",
    "# active_xbins = active_pf_2D.xbin_centers\n",
    "# active_ybins = active_pf_2D.ybin_centers\n",
    "\n",
    "\n",
    "# out.add_data(row=5, col=0, matrix=active_peak_prominence_2d_results.peak_counts.raw, xbins=active_xbins, ybins=active_ybins, name='pf_peak_counts_map', title='# pf peaks per Pos (X, Y)', variable_label='# pf peaks')\n",
    "# out = BasicBinnedImageRenderingWindow(active_eloy_analysis.avg_2D_speed_per_pos, active_xbins, active_ybins, name='avg_velocity', title=\"Avg Velocity per Pos (X, Y)\", variable_label='Avg Velocity')\n",
    "# out.add_data(row=2, col=0, matrix=active_eloy_analysis.pf_overlapDensity_2D, xbins=active_xbins, ybins=active_ybins, name='pf_overlapDensity', title='pf overlapDensity metric', variable_label='pf overlapDensity')"
   ]
  },
  {
   "cell_type": "markdown",
   "id": "3fc92a85-6741-4e46-aff1-438f1236aa8b",
   "metadata": {
    "jp-MarkdownHeadingCollapsed": true,
    "tags": []
   },
   "source": [
    "### Use Pandas' df.corr() method"
   ]
  },
  {
   "cell_type": "code",
   "execution_count": null,
   "id": "1c503212-2cb4-4243-beb8-505012ffc9c9",
   "metadata": {
    "scrolled": true,
    "tags": []
   },
   "outputs": [],
   "source": [
    "subset_variable_names = ['neuron_peak_firing_rate', 'summit_slice_level', 'peak_relative_height', 'peak_prominence', 'peak_center_x', 'peak_center_y', 'summit_slice_x_width', 'summit_slice_y_width', 'summit_slice_center_x', 'summit_slice_center_y', 'peak_height', 'peak_center_avg_speed']\n",
    "active_input_matrix = active_peak_prominence_2d_results.filtered_flat_peaks_df[subset_variable_names].copy()\n",
    "\n",
    "# active_corr_matrix = active_input_matrix.corr(method='pearson') # default\n",
    "active_corr_matrix = active_input_matrix.corr(method='spearman') # spearman\n",
    "active_corr_matrix"
   ]
  },
  {
   "cell_type": "code",
   "execution_count": null,
   "id": "f0c0ea5e-97b0-4d48-a695-e10618c31cf3",
   "metadata": {
    "tags": []
   },
   "outputs": [],
   "source": [
    "## Plot correlation matrix using imshow:\n",
    "import matplotlib\n",
    "%matplotlib inline\n",
    "import matplotlib.pyplot as plt\n",
    "\n",
    "def _plot_df_correlation_matrix(active_corr_matrix):\n",
    "    \"\"\"\n",
    "    Usage:\n",
    "        subset_variable_names = ['neuron_peak_firing_rate', 'summit_slice_level', 'peak_relative_height', 'peak_prominence', 'peak_center_x', 'peak_center_y', 'summit_slice_x_width', 'summit_slice_y_width', 'summit_slice_center_x', 'summit_slice_center_y', 'peak_height', 'peak_center_avg_speed']\n",
    "        active_input_matrix = active_peak_prominence_2d_results.filtered_flat_peaks_df[subset_variable_names].copy()\n",
    "\n",
    "        # active_corr_matrix = active_input_matrix.corr(method='pearson') # default\n",
    "        active_corr_matrix = active_input_matrix.corr(method='spearman') # spearman\n",
    "        fig, ax, im = _plot_df_correlation_matrix(active_corr_matrix)\n",
    "        \n",
    "    \"\"\"\n",
    "    corr_matrix = active_corr_matrix.copy().round(decimals=2)\n",
    "    matrix_column_names = corr_matrix.columns\n",
    "    n_columns = len(matrix_column_names)\n",
    "\n",
    "    fig, ax = plt.subplots()\n",
    "    im = ax.imshow(corr_matrix)\n",
    "    im.set_clim(-1, 1)\n",
    "    ax.grid(False)\n",
    "    ax.xaxis.set(ticks=tuple(np.arange(n_columns)), ticklabels=tuple(matrix_column_names))\n",
    "    ax.yaxis.set(ticks=tuple(np.arange(n_columns)), ticklabels=tuple(matrix_column_names))\n",
    "    plt.xticks(rotation=45, ha='right')\n",
    "    # ax.set_ylim(2.5, -0.5)\n",
    "    ## Add Labels:\n",
    "    for i in range(n_columns):\n",
    "        for j in range(n_columns):\n",
    "            ax.text(j, i, corr_matrix.iat[i, j], ha='center', va='center', color='r')\n",
    "            # ax.text(j, i, corr_matrix[i, j], ha='center', va='center', color='r')\n",
    "\n",
    "    cbar = ax.figure.colorbar(im, ax=ax, format='% .2f')\n",
    "    plt.show()\n",
    "    return fig, ax, im\n",
    "\n",
    "fig, ax, im = _plot_df_correlation_matrix(active_corr_matrix)"
   ]
  },
  {
   "cell_type": "code",
   "execution_count": null,
   "id": "8f84cdae-1e42-44d2-9ee0-7c202e4ffe76",
   "metadata": {
    "scrolled": true,
    "tags": []
   },
   "outputs": [],
   "source": [
    "from pyphocorehelpers.general_helpers import get_arguments_as_optional_dict, CodeConversion, inspect_callable_arguments\n",
    "\n",
    "# CodeConversion.get_arguments_as_optional_dict(size=3, mode='constant') # , **({'size': 3, 'mode': 'constant'} | kwargs)\n",
    "# CodeConversion.get_arguments_as_optional_dict(sigma=3) # , **({'sigma': 3} | kwargs)\n",
    "# CodeConversion.get_arguments_as_optional_dict(slice_level_multiplier=0.5, minimum_included_peak_height=0.2) # , **({'slice_level_multiplier': 0.5, 'minimum_included_peak_height': 0.2} | kwargs)\n",
    "\n",
    "# # _perform_pf_find_ratemap_peaks_peak_prominence2d_computation(...): optional arguments\n",
    "# {'summits_analysis':{'slice_level_multiplier': 0.5, 'minimum_included_peak_height': 0.2},\n",
    "#  'uniform_filter':{'size': 3, 'mode': 'constant'},\n",
    "#  'gaussian_filter':{'sigma': 3}}\n",
    "\n",
    "\n",
    "pf_summits_analysis_peak_counts_results = active_peak_prominence_2d_results.peak_counts"
   ]
  },
  {
   "cell_type": "code",
   "execution_count": null,
   "id": "52a636e9-aefb-4818-8e2e-66712b9b64fc",
   "metadata": {},
   "outputs": [],
   "source": [
    "## Renders the active_peak_prominence_2d_results.peak_counts with varying methods of blurring:\n",
    "pf_summits_analysis_peak_counts_results = active_peak_prominence_2d_results.peak_counts\n",
    "out_peak_counts_fig = BasicBinnedImageRenderingWindow(pf_summits_analysis_peak_counts_results.raw, active_pf_2D.xbin_labels, active_pf_2D.ybin_labels, name='pf_peak_counts_map', title=\"# pf peaks per Pos (X, Y)\", variable_label='# pf peaks')\n",
    "out_peak_counts_fig.add_data(row=5, col=0, matrix=pf_summits_analysis_peak_counts_results.uniform_blurred, xbins=active_pf_2D.xbin_labels, ybins=active_pf_2D.ybin_labels, name='pf_peak_counts_map_blurred', title='blurred # pf peaks per Pos (X, Y)', variable_label='blurred # pf peaks')\n",
    "out_peak_counts_fig.add_data(row=6, col=0, matrix=pf_summits_analysis_peak_counts_results.gaussian_blurred, xbins=active_pf_2D.xbin_labels, ybins=active_pf_2D.ybin_labels, name='pf_peak_counts_map_blurred gaussian', title='Gaussian blurred # pf peaks per Pos (X, Y)', variable_label='Gaussian blurred # pf peaks')"
   ]
  },
  {
   "cell_type": "code",
   "execution_count": null,
   "id": "3f1e9e54-a749-4da1-8855-b800afc563cf",
   "metadata": {},
   "outputs": [],
   "source": [
    "## Add to existing plot:\n",
    "out.add_data(row=5, col=0, matrix=active_peak_prominence_2d_results.peak_counts.raw, xbins=active_pf_2D.xbin_labels, ybins=active_pf_2D.ybin_labels, name='pf_peak_counts_map', title='# pf peaks per Pos (X, Y)', variable_label='# pf peaks')\n",
    "out.add_data(row=6, col=0, matrix=active_peak_prominence_2d_results.peak_counts.gaussian_blurred, xbins=active_pf_2D.xbin_labels, ybins=active_pf_2D.ybin_labels, name='pf_peak_counts_map_blurred gaussian', title='Gaussian blurred # pf peaks per Pos (X, Y)', variable_label='Gaussian blurred # pf peaks')"
   ]
  },
  {
   "cell_type": "code",
   "execution_count": null,
   "id": "a4aad3fb-d100-4bef-accc-529b8fd3c2c0",
   "metadata": {},
   "outputs": [],
   "source": [
    "## TODO: now that I have an filtered_summits_analysis_df['peak_center_avg_speed'] associated with each peak, can now look at things like:\n",
    "# size vs. avg_speed\n",
    "# ??DENSITY?? vs. avg speed\n",
    "\n",
    "# Find non-NAN speeds only:\n",
    "good_indicies = np.isfinite(active_eloy_analysis.avg_2D_speed_per_pos)\n",
    "masked_avg_2D_speed_per_pos = np.ma.array(active_eloy_analysis.avg_2D_speed_per_pos, mask=~good_indicies)\n",
    "masked_peak_counts_gaussian_blurred = np.ma.array(active_peak_prominence_2d_results.peak_counts.gaussian_blurred, mask=~good_indicies)\n",
    "\n",
    "## Compute correlation between pf_peak_counts_map_blurred_gaussian and \n",
    "from scipy import signal\n",
    "# METHOD 0: Fill in the missing values with the mean:\n",
    "# filled_avg_2D_speed_per_pos = masked_avg_2D_speed_per_pos.filled(masked_avg_2D_speed_per_pos.mean())\n",
    "# filled_peak_counts_gaussian_blurred = masked_peak_counts_gaussian_blurred.filled(masked_peak_counts_gaussian_blurred.mean())\n",
    "# METHOD 1: Fill in the missing values with zeros:\n",
    "filled_avg_2D_speed_per_pos = masked_avg_2D_speed_per_pos.filled(0.0)\n",
    "filled_peak_counts_gaussian_blurred = masked_peak_counts_gaussian_blurred.filled(0.0)\n",
    "\n",
    "## Compute the correlation\n",
    "corr = signal.correlate2d(filled_peak_counts_gaussian_blurred, filled_avg_2D_speed_per_pos, boundary='symm', mode='same')\n",
    "## Show the corr plot in the open out_peak_counts_fig \n",
    "out.add_data(row=7, col=0, matrix=corr, xbins=active_pf_2D.xbin_labels, ybins=active_pf_2D.ybin_labels, name='correlate2d(gauss_peak_counts, avg_2d_speed)', title='correlate2d(gauss_peak_counts, avg_2d_speed) per Pos (X, Y)', variable_label='corr')"
   ]
  },
  {
   "cell_type": "code",
   "execution_count": null,
   "id": "5d7d7f30-5f3e-45e5-b6ee-b3fa28b3f88c",
   "metadata": {},
   "outputs": [],
   "source": [
    "## Flatten all valid indicies of each variable to a matrix, to compute the relation between the variables as if each position was a separate independent sample\n",
    "def compute_flattened_finite_variable_vectors(xbins, ybins, avg_2D_speed_per_pos, matrix):\n",
    "    \"\"\" Flatten all valid indicies of each variable to a matrix, to compute the relation between the variables as if each position was a separate independent sample \n",
    "    Inputs:\n",
    "        avg_2D_speed_per_pos: TODO: refactor, basically just the matrix with NaNs in it\n",
    "        matrix: a matrix of the same size as avg_2D_speed_per_pos with either no NaNs or at worst NaNs in the same positions as avg_2D_speed_per_pos\n",
    "    \n",
    "    Usage:\n",
    "        \n",
    "good_indicies, flat_valid_xbin_centers, flat_valid_ybin_centers, flat_valid_avg_2D_speed_per_pos, flat_valid_peak_counts_gaussian_blurred = compute_flattened_finite_variable_vectors(xbins=active_peak_prominence_2d_results.xx, ybins=active_peak_prominence_2d_results.yy, avg_2D_speed_per_pos=active_eloy_analysis.avg_2D_speed_per_pos, matrix=pf_summits_analysis_peak_counts_results.gaussian_blurred)\n",
    "    \"\"\"\n",
    "    # Find non-NAN speeds only:\n",
    "    good_indicies = np.isfinite(avg_2D_speed_per_pos)\n",
    "\n",
    "    flat_valid_avg_2D_speed_per_pos = avg_2D_speed_per_pos[good_indicies].flatten()\n",
    "    flat_valid_peak_counts_gaussian_blurred = matrix[good_indicies].flatten()\n",
    "\n",
    "    # Build the mesh of flattened x and y positions for each bin\n",
    "    n_xbins = np.shape(avg_2D_speed_per_pos)[0] \n",
    "    n_ybins = np.shape(avg_2D_speed_per_pos)[1]\n",
    "    x_pos_mat = np.repeat(np.atleast_2d(xbins), axis=0, repeats=n_ybins).T #.shape # (7, 60)\n",
    "    y_pos_mat = np.repeat(np.atleast_2d(ybins).T, axis=1, repeats=n_xbins).T\n",
    "    assert np.shape(x_pos_mat) == np.shape(y_pos_mat) == np.shape(avg_2D_speed_per_pos)\n",
    "    flat_valid_xbin_centers = x_pos_mat[good_indicies].flatten()\n",
    "    flat_valid_ybin_centers = y_pos_mat[good_indicies].flatten()\n",
    "    assert np.shape(flat_valid_xbin_centers) == np.shape(flat_valid_ybin_centers) == np.shape(flat_valid_peak_counts_gaussian_blurred)\n",
    "    return good_indicies, flat_valid_xbin_centers, flat_valid_ybin_centers, flat_valid_avg_2D_speed_per_pos, flat_valid_peak_counts_gaussian_blurred\n",
    "\n",
    "good_indicies, flat_valid_xbin_centers, flat_valid_ybin_centers, flat_valid_avg_2D_speed_per_pos, flat_valid_peak_counts_gaussian_blurred = compute_flattened_finite_variable_vectors(xbins=active_peak_prominence_2d_results.xx, ybins=active_peak_prominence_2d_results.yy, avg_2D_speed_per_pos=active_eloy_analysis.avg_2D_speed_per_pos, matrix=active_peak_prominence_2d_results.peak_counts.gaussian_blurred)"
   ]
  },
  {
   "cell_type": "code",
   "execution_count": null,
   "id": "47fb67fb-f284-41e5-8dc0-b5015297c60c",
   "metadata": {},
   "outputs": [],
   "source": [
    "import scipy.stats"
   ]
  },
  {
   "cell_type": "markdown",
   "id": "2acce724-6a4f-4764-80e2-aa5a9b9ceded",
   "metadata": {
    "jp-MarkdownHeadingCollapsed": true,
    "tags": []
   },
   "source": [
    "### Linear Correlations"
   ]
  },
  {
   "cell_type": "code",
   "execution_count": null,
   "id": "f06a986a-2054-4d47-860b-a1d8d8fbf643",
   "metadata": {},
   "outputs": [],
   "source": [
    "from scipy.stats import linregress\n",
    "\n",
    "x = flat_valid_avg_2D_speed_per_pos.copy()\n",
    "y = flat_valid_peak_counts_gaussian_blurred.copy()\n",
    "result = linregress(x, y)\n",
    "print(f'y = {result.slope:.6f}x + {result.intercept:.6f}')\n",
    "# print(result.intercept, result.intercept_stderr)\n",
    "print(f'p: {result.pvalue}')\n",
    "print(f\"R-squared: {result.rvalue**2:.6f}\")\n",
    "\n",
    "## Calculate 95% confidence interval on slope and intercept:\n",
    "# Two-sided inverse Students t-distribution\n",
    "# p - probability, df - degrees of freedom\n",
    "from scipy.stats import t\n",
    "\n",
    "tinv = lambda p, df: abs(t.ppf(p/2, df))\n",
    "ts = tinv(0.05, len(x)-2)\n",
    "print(f\"slope (95%): {result.slope:.6f} +/- {ts*result.stderr:.6f}\")\n",
    "print(f\"intercept (95%): {result.intercept:.6f}\"\n",
    "      f\" +/- {ts*result.intercept_stderr:.6f}\")"
   ]
  },
  {
   "cell_type": "code",
   "execution_count": null,
   "id": "fe904efd-8665-428b-b5d9-77115995559e",
   "metadata": {},
   "outputs": [],
   "source": [
    "## Plot linear regression outputs:\n",
    "import matplotlib\n",
    "%matplotlib inline\n",
    "import matplotlib.pyplot as plt\n",
    "plt.plot(x, y, 'o', label='original data')\n",
    "plt.xlabel('Velocity cm/sec')\n",
    "plt.ylabel('blurred peak count')\n",
    "plt.title('Linear Regressionf for animal speed vs. blurred peak count')\n",
    "plt.plot(x, result.intercept + result.slope*x, 'r', label='fitted line')\n",
    "plt.legend()\n",
    "plt.show()"
   ]
  },
  {
   "cell_type": "markdown",
   "id": "f9d2b65b-4f2a-4e8b-89a4-d7edb386ce75",
   "metadata": {
    "jp-MarkdownHeadingCollapsed": true,
    "tags": []
   },
   "source": [
    "### Rank Correlations"
   ]
  },
  {
   "cell_type": "code",
   "execution_count": null,
   "id": "aa6419ec-d897-47d8-97e3-2bb95701afa6",
   "metadata": {},
   "outputs": [],
   "source": [
    "x = flat_valid_avg_2D_speed_per_pos.copy()\n",
    "y = flat_valid_peak_counts_gaussian_blurred.copy()\n",
    "# scipy.stats.rankdata(flat_valid_avg_2D_speed_per_pos)\n",
    "rho, p = scipy.stats.spearmanr(x, y)\n",
    "print(f'spearman rho: {rho:.6f}, p={p:.6f}')"
   ]
  },
  {
   "cell_type": "code",
   "execution_count": null,
   "id": "ff751c95-8863-49c5-ba58-44d3a9759455",
   "metadata": {},
   "outputs": [],
   "source": [
    "tau, p = scipy.stats.kendalltau(x, y)\n",
    "print(f'kendalltau kau: {tau:.6f}, p={p:.6f}')"
   ]
  },
  {
   "cell_type": "markdown",
   "id": "942c1178-4200-42be-86eb-3ed5da66974d",
   "metadata": {
    "jp-MarkdownHeadingCollapsed": true,
    "tags": []
   },
   "source": [
    "## Testing Variable Viewers"
   ]
  },
  {
   "cell_type": "code",
   "execution_count": null,
   "id": "a23eabdc-2380-4f3e-92a2-5e5e631640d5",
   "metadata": {},
   "outputs": [],
   "source": [
    "from pyphocorehelpers.gui.tkinter.tk_tree_view import tk_tree_view"
   ]
  },
  {
   "cell_type": "code",
   "execution_count": null,
   "id": "9bb18c64-ada3-47b3-a8eb-3a3b5efcc2ca",
   "metadata": {},
   "outputs": [],
   "source": [
    "def visualise_dict(d, lvl=0):\n",
    "    # go through the dictionary alphabetically \n",
    "    for k in sorted(d):\n",
    "        # print the table header if we're at the beginning\n",
    "        if lvl == 0 and k == sorted(d)[0]:\n",
    "            print('{:<25} {:<15} {:<10}'.format('KEY','LEVEL','TYPE'))\n",
    "            print('-'*79)\n",
    "\n",
    "        indent = '  '*lvl # indent the table to visualise hierarchy\n",
    "        t = str(type(d[k]))\n",
    "\n",
    "        # print details of each entry\n",
    "        print(\"{:<25} {:<15} {:<10}\".format(indent+str(k),lvl,t))\n",
    "\n",
    "        # if the entry is a dictionary\n",
    "        if type(d[k])==dict:\n",
    "            # visualise THAT dictionary with +1 indent\n",
    "            visualise_dict(d[k],lvl+1)"
   ]
  },
  {
   "cell_type": "code",
   "execution_count": null,
   "id": "2e011369-eb23-4480-81af-d845d2d8e7a9",
   "metadata": {},
   "outputs": [],
   "source": [
    "from pyphocorehelpers.print_helpers import print_value_overview_only, print_keys_if_possible, pprint, debug_dump_object_member_shapes"
   ]
  },
  {
   "cell_type": "code",
   "execution_count": null,
   "id": "a0cc1d39-d2c1-42e3-9597-de6d22d2b33f",
   "metadata": {},
   "outputs": [],
   "source": [
    "# tk_tree_view(peaks[1])\n",
    "# tk_tree_view(peaks)\n",
    "\n",
    "# tk_tree_view(ipcDataExplorer.plots.to_dict())\n",
    "visualise_dict(ipcDataExplorer.plots)"
   ]
  },
  {
   "cell_type": "code",
   "execution_count": null,
   "id": "588008aa-5d3b-47de-bb19-ae880861302b",
   "metadata": {},
   "outputs": [],
   "source": [
    "str(type(tuningCurvePlotData[2]['pdata_currActiveNeuronTuningCurve']))\n",
    "\n",
    "# pyvista.core.pointset.StructuredGrid"
   ]
  },
  {
   "cell_type": "code",
   "execution_count": null,
   "id": "992502de-1bee-4160-ad1c-70d82fe47433",
   "metadata": {},
   "outputs": [],
   "source": [
    "# print_keys_if_possible('plots_data', ipcDataExplorer.plots_data) # RenderPlotsData\n",
    "tuningCurvePlotData = ipcDataExplorer.plots_data['tuningCurvePlotData']\n",
    "# - tuningCurvePlotData: <class 'indexed.IndexedOrderedDict'>\n",
    "# \t- 2: <class 'dict'>\n",
    "# \t\t- curr_active_neuron_ID: <class 'numpy.int32'>\n",
    "# \t\t- curr_active_neuron_pf_identifier: <class 'str'>\n",
    "# \t\t- curr_active_neuron_tuning_Curve: <class 'numpy.ndarray'> - (29, 64)\n",
    "# \t\t- pdata_currActiveNeuronTuningCurve: <class 'pyvista.core.pointset.StructuredGrid'> - OMITTED TYPE WITH NO SHAPE\n",
    "# \t\t- pdata_currActiveNeuronTuningCurve_Points: <class 'pyvista.core.pointset.UnstructuredGrid'> - OMITTED TYPE WITH NO SHAPE\n",
    "# \t\t- lut: <class 'vtkmodules.vtkCommonCore.vtkLookupTable'>\n",
    "        \n",
    "# 'occupancyPlotData'\n",
    "# tuningCurvePlotData.shape\n",
    "print_keys_if_possible('tuningCurvePlotData', tuningCurvePlotData) # RenderPlotsData"
   ]
  },
  {
   "cell_type": "code",
   "execution_count": null,
   "id": "c5772862-44a8-4858-96c4-41d067d8167e",
   "metadata": {},
   "outputs": [],
   "source": [
    "print_keys_if_possible('ipcDataExplorer.plots', ipcDataExplorer.plots, additional_excluded_item_classes=[\"<class 'vtkmodules.vtkRenderingOpenGL2.vtkOpenGLActor'>\", \"<class 'vtkmodules.vtkRenderingAnnotation.vtkLegendBoxActor'>\"]) # RenderPlots\n",
    "# pcDataExplorer.plots: <class 'pyphocorehelpers.DataStructure.general_parameter_containers.RenderPlots'>\n",
    "# \t- name: <class 'str'>\n",
    "# \t- occupancyPlotActor: <class 'NoneType'>\n",
    "# \t- maze_bg: <class 'vtkmodules.vtkRenderingOpenGL2.vtkOpenGLActor'> - OMITTED TYPE WITH NO SHAPE\n",
    "# \t- tuningCurvePlotActors: <class 'indexed.IndexedOrderedDict'>\n",
    "# \t\t- 2: <class 'pyphocorehelpers.gui.PyVista.CascadingDynamicPlotsList.CascadingDynamicPlotsList'>\n",
    "# \t\t\t- main: <class 'vtkmodules.vtkRenderingOpenGL2.vtkOpenGLActor'> - OMITTED TYPE WITH NO SHAPE\n",
    "# \t\t\t- points: <class 'vtkmodules.vtkRenderingOpenGL2.vtkOpenGLActor'> - OMITTED TYPE WITH NO SHAPE\n",
    "#           ...\n",
    "#         - 64: <class 'pyphocorehelpers.gui.PyVista.CascadingDynamicPlotsList.CascadingDynamicPlotsList'>\n",
    "# \t\t\t- main: <class 'vtkmodules.vtkRenderingOpenGL2.vtkOpenGLActor'> - OMITTED TYPE WITH NO SHAPE\n",
    "# \t\t\t- points: <class 'vtkmodules.vtkRenderingOpenGL2.vtkOpenGLActor'> - OMITTED TYPE WITH NO SHAPE\n",
    "# \t- tuningCurvePlotLegendActor: <class 'vtkmodules.vtkRenderingAnnotation.vtkLegendBoxActor'> - OMITTED TYPE WITH NO SHAPE\n",
    "# \t- spikes_pf_active: <class 'vtkmodules.vtkRenderingOpenGL2.vtkOpenGLActor'> - OMITTED TYPE WITH NO SHAPE\n",
    "        \n",
    "active_tuning_curve_plot_actors = ipcDataExplorer.plots['tuningCurvePlotActors']\n"
   ]
  },
  {
   "cell_type": "code",
   "execution_count": null,
   "id": "058cd8e9-7ab0-43f6-a637-2ccdc8a4c433",
   "metadata": {},
   "outputs": [],
   "source": [
    "debug_dump_object_member_shapes(tuningCurvePlotData)"
   ]
  },
  {
   "cell_type": "code",
   "execution_count": null,
   "id": "fa2d5c06-ca30-4a3d-9198-95678bec99ea",
   "metadata": {},
   "outputs": [],
   "source": [
    "visualise_dict(ipcDataExplorer.plots, lvl=1)"
   ]
  },
  {
   "cell_type": "code",
   "execution_count": null,
   "id": "fa7bfd15-f0da-49fb-b796-d66f4072c4cb",
   "metadata": {},
   "outputs": [],
   "source": [
    "active_neuron_id = 2\n",
    "tuning_curve_is_visible = ipcDataExplorer.plots['tuningCurvePlotActors'][active_neuron_id].main.GetVisibility()\n",
    "tuning_curve_is_visible"
   ]
  },
  {
   "cell_type": "code",
   "execution_count": null,
   "id": "e7e0e0bf-c80b-4a3d-842e-46a29f488d08",
   "metadata": {},
   "outputs": [],
   "source": [
    "# ipcDataExplorer.p.remove_actor(contours_mesh)"
   ]
  },
  {
   "cell_type": "markdown",
   "id": "0aa19041-694d-441e-a42a-b977988ecb06",
   "metadata": {
    "tags": []
   },
   "source": [
    "## Vedo display of contours testing"
   ]
  },
  {
   "cell_type": "code",
   "execution_count": null,
   "id": "4f69797c-6760-4311-a8b3-2e88519485c5",
   "metadata": {},
   "outputs": [],
   "source": [
    "plt = plot(active_peak_prominence_2d_results.xx, active_peak_prominence_2d_results.yy, slab, c='summer') # use a colormap\n",
    "show(plt, viewup='z').close()"
   ]
  },
  {
   "cell_type": "code",
   "execution_count": null,
   "id": "f27024f6-0b89-4411-983c-563bfe3b4986",
   "metadata": {},
   "outputs": [],
   "source": [
    "'''Draw a z = f(x,y) surface specified as\n",
    "a string or as a reference to an external function.\n",
    "Red points indicate where the function does not exist!'''\n",
    "from vedo import dataurl, sin, cos, log, show, Text2D\n",
    "from vedo.pyplot import plot\n",
    "\n",
    "doc = Text2D(__doc__, pos='bottom-left', c='darkgreen', font='Quikhand')\n",
    "\n",
    "############################################################### REAL\n",
    "def f(x, y):\n",
    "    return sin(2*x*y) * cos(3*y)/2\n",
    "f1 = plot(f, c='summer') # use a colormap\n",
    "\n",
    "# red dots are shown where the function does not exist (y>x):\n",
    "def f(x, y):\n",
    "    return sin(3*x) * log(x-y)/3\n",
    "f2 = plot(f, texture=dataurl+'textures/paper3.jpg')\n",
    "\n",
    "# specify x and y ranges and z vertical limits:\n",
    "def f(x, y):\n",
    "    return log(x**2+y**2-1)\n",
    "f3 = plot(\n",
    "    f,\n",
    "    xlim=[-2,2],\n",
    "    ylim=[-1,8],\n",
    "    zlim=[-1,None],\n",
    "    texture=dataurl+'textures/paper1.jpg',\n",
    ")\n",
    "\n",
    "show([(f1, 'y = sin(2*x*y) * cos(3*y) /2', doc),\n",
    "      (f2, 'y = sin(3*x)*log(x-y)/3'),\n",
    "      (f3, 'y = log(x**2+y**2-1)'),\n",
    "     ], N=3, sharecam=False,\n",
    ").close()\n",
    "\n",
    "############################################################## COMPLEX\n",
    "comment = \"\"\"Vertical axis shows the real part of complex z:\n",
    "    z = sin(log(x\\doty))\n",
    "Color map the value of the imaginary part\n",
    "(green=positive, purple=negative)\"\"\"\n",
    "\n",
    "plt = plot(lambda x,y: sin(log(x*y))/25, mode='complex')\n",
    "\n",
    "show(plt, comment, viewup='z').close()"
   ]
  },
  {
   "cell_type": "code",
   "execution_count": null,
   "id": "f3535fc5-5806-4435-a2ee-96134abb2b44",
   "metadata": {},
   "outputs": [],
   "source": [
    "isol = mesh0.isolines(n=10).color('w')\n",
    "isob = mesh0.isobands(n=5).addScalarBar(title=\"H=Elevation\")\n",
    "\n",
    "# make a copy and interpolate the Scalars from points to cells\n",
    "mesh1 = mesh0.clone(deep=False).mapPointsToCells()\n",
    "printc('Mesh cell arrays :', mesh1.celldata.keys())\n",
    "\n",
    "gvecs = mesh1.gradient(on='cells')\n",
    "cc = mesh1.cellCenters()\n",
    "ars = Arrows(cc, cc + gvecs*0.01, c='bone_r').lighting('off')\n",
    "ars.addScalarBar3D(title='|\\nablaH|~\\dot~0.01 [arb.units]')\n",
    "\n",
    "# colormap the gradient magnitude directly on the mesh\n",
    "mesh2 = mesh1.clone(deep=False).lw(0.1).cmap('jet', mag(gvecs), on='cells')\n",
    "mesh2.addScalarBar3D(title='|\\nablaH| [arb.units]')\n",
    "\n",
    "plt = Plotter(N=4, size=(1200,900), axes=11)\n",
    "plt.at(0).show(mesh0, isol, __doc__)\n",
    "plt.at(1).show(isob)\n",
    "plt.at(2).show(mesh1, isol, ars, \"Arrows=\\nablaH\")\n",
    "plt.at(3).show(mesh2, \"Color=|\\nablaH|\")\n",
    "plt.interactive().close()"
   ]
  },
  {
   "cell_type": "markdown",
   "id": "a7d8b658-d56f-4ed5-abf5-c0331c6b5595",
   "metadata": {},
   "source": [
    "## 2022-08-02 - New Simple Time-Dependent Placefield Overhaul\n",
    "Idea: use simple dataframes and operations on them to easily get the placefield results for a given time range."
   ]
  },
  {
   "cell_type": "code",
   "execution_count": null,
   "id": "7dd8b5c8-0f88-499b-80bf-32565b67073c",
   "metadata": {},
   "outputs": [],
   "source": [
    "## Need to apply position binning to the spikes_df's position columns to find the bins they fall in:\n",
    "from neuropy.utils.mixins.binning_helpers import build_df_discretized_binned_position_columns\n",
    "\n",
    "def _build_bin_pos_counts(active_pf_pos_df, bin_values=(active_pf_2D.xbin, active_pf_2D.ybin), active_computation_config=active_computation_config):\n",
    "    active_pf_pos_df, (xbin, ybin), bin_info = build_df_discretized_binned_position_columns(active_pf_pos_df.copy(), bin_values=bin_values, active_computation_config=active_computation_config, force_recompute=False, debug_print=False)   \n",
    "    n_xbins = len(xbin) - 1 # the -1 is to get the counts for the centers only\n",
    "    n_ybins = len(ybin) - 1 # the -1 is to get the counts for the centers only\n",
    "    curr_occupancy_map_matrix = np.zeros((n_xbins, n_ybins), dtype=int) # create an initially zero position occupancy map. # TODO: should it be NaN or np.masked where we haven't visisted at all yet?\n",
    "    curr_counts_df = active_pf_pos_df.value_counts(subset=['binned_x', 'binned_y'], normalize=False, sort=False, ascending=True, dropna=True).to_frame(name='counts').reset_index()\n",
    "    xbin_indicies = curr_counts_df.binned_x.values.astype('int') - 1\n",
    "    ybin_indicies = curr_counts_df.binned_y.values.astype('int') - 1\n",
    "    curr_occupancy_map_matrix[xbin_indicies, ybin_indicies] += curr_counts_df.counts.values\n",
    "    return curr_counts_df, curr_occupancy_map_matrix\n",
    "\n",
    "def _build_bin_spike_counts(active_pf_spikes_df, neuron_ids=active_pf_2D.included_neuron_IDs, bin_values=(active_pf_2D.xbin, active_pf_2D.ybin), active_computation_config=active_computation_config):\n",
    "    active_pf_spikes_df, (xbin, ybin), bin_info = build_df_discretized_binned_position_columns(active_pf_spikes_df.copy(), bin_values=bin_values, active_computation_config=active_computation_config, force_recompute=False, debug_print=False)   \n",
    "    n_xbins = len(xbin) - 1 # the -1 is to get the counts for the centers only\n",
    "    n_ybins = len(ybin) - 1 # the -1 is to get the counts for the centers only\n",
    "    n_neuron_ids = len(neuron_ids)\n",
    "    curr_spikes_map_dict = {neuron_id:np.zeros((n_xbins, n_ybins), dtype=int) for neuron_id in neuron_ids} # create an initially zero spikes map, one for each possible neruon_id, even if there aren't spikes for that neuron yet\n",
    "    curr_counts_df = active_pf_spikes_df.value_counts(subset=['aclu', 'binned_x', 'binned_y'], sort=False).to_frame(name='counts').reset_index()\n",
    "    for name, group in curr_counts_df.groupby('aclu'):\n",
    "        xbin_indicies = group.binned_x.values.astype('int') - 1\n",
    "        ybin_indicies = group.binned_y.values.astype('int') - 1\n",
    "        curr_spikes_map_dict[name][xbin_indicies, ybin_indicies] += group.counts.values\n",
    "    return curr_counts_df, curr_spikes_map_dict\n",
    "\n",
    "\n",
    "## Only the spikes_df and pos_df are required, and are not altered by the analyses:\n",
    "active_pf_spikes_df = deepcopy(sess.spikes_df)\n",
    "active_pf_pos_df = deepcopy(sess.position.to_dataframe())\n",
    "\n",
    "## Test arbitrarily slicing by first _test_arbitrary_end_time seconds\n",
    "_test_arbitrary_end_time = 40.0\n",
    "active_pf_spikes_df = active_pf_spikes_df.spikes.time_sliced(0.0, _test_arbitrary_end_time)\n",
    "active_pf_pos_df = active_pf_pos_df.position.time_sliced(0.0, _test_arbitrary_end_time)\n",
    "\n",
    "counts_df, occupancy_map_matrix = _build_bin_pos_counts(active_pf_pos_df, bin_values=(active_pf_2D.xbin, active_pf_2D.ybin), active_computation_config=active_computation_config)\n",
    "spikes_counts_df, spikes_map_dict = _build_bin_spike_counts(active_pf_spikes_df, neuron_ids=active_pf_2D.included_neuron_IDs, bin_values=(active_pf_2D.xbin, active_pf_2D.ybin), active_computation_config=active_computation_config)\n",
    "\n"
   ]
  },
  {
   "cell_type": "code",
   "execution_count": null,
   "id": "8df88870-91fc-426a-a28f-fb934ebebecb",
   "metadata": {},
   "outputs": [],
   "source": [
    "active_pf_spikes_df.columns"
   ]
  },
  {
   "cell_type": "code",
   "execution_count": null,
   "id": "d06013c2-70ba-42ce-b81b-2a36e282c4d8",
   "metadata": {},
   "outputs": [],
   "source": [
    "active_pf_2D_dt.update(t=40.0, should_snapshot=False)"
   ]
  },
  {
   "cell_type": "code",
   "execution_count": null,
   "id": "74486cc0-df4e-4b6b-92c1-cf6904e1df61",
   "metadata": {},
   "outputs": [],
   "source": []
  },
  {
   "cell_type": "code",
   "execution_count": null,
   "id": "02b7a7d9-e829-4b76-8e91-51d4f50db817",
   "metadata": {},
   "outputs": [],
   "source": [
    "active_pf_2D_dt.snapshot()"
   ]
  },
  {
   "cell_type": "code",
   "execution_count": null,
   "id": "95c73b09-8cb8-49d8-b7c8-d377c3468c70",
   "metadata": {},
   "outputs": [],
   "source": [
    "# Bin the x, y positions\n",
    "active_pf_2D.build_position_df_discretized_binned_positions(active_pos_df="
   ]
  }
 ],
 "metadata": {
  "interpreter": {
   "hash": "bb76371bb80daaa456787a5f74a5afc9bd3e021c2669334ff0bb72cb94135a74"
  },
  "kernelspec": {
   "display_name": "Python [conda env:phoviz_ultimate]",
   "language": "python",
   "name": "conda-env-phoviz_ultimate-py"
  },
  "language_info": {
   "codemirror_mode": {
    "name": "ipython",
    "version": 3
   },
   "file_extension": ".py",
   "mimetype": "text/x-python",
   "name": "python",
   "nbconvert_exporter": "python",
   "pygments_lexer": "ipython3",
   "version": "3.9.13"
  },
  "scenes_data": {
   "active_scene": "Default Scene",
   "init_scene": null,
   "scenes": [
    "Default Scene"
   ]
  },
  "toc-autonumbering": true,
  "toc-showcode": false,
  "toc-showmarkdowntxt": false,
  "toc-showtags": false
 },
 "nbformat": 4,
 "nbformat_minor": 5
}
