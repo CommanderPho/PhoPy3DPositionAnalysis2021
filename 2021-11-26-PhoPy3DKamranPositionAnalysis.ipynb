{
 "cells": [
  {
   "cell_type": "code",
   "execution_count": null,
   "id": "f6088dc9",
   "metadata": {
    "tags": []
   },
   "outputs": [],
   "source": [
    "#!/usr/bin/env python3\n",
    "# -*- coding: utf-8 -*-\n",
    "\"\"\"\n",
    "@author: pho\n",
    "\"\"\"\n",
    "%load_ext autoreload\n",
    "%autoreload 2\n",
    "import sys\n",
    "import importlib\n",
    "from threading import Thread\n",
    "import time # for time.sleep\n",
    "from ipygany import PolyMesh, Scene, IsoColor, WarpByScalar\n",
    "import pyvista as pv\n",
    "# from pyvista import _vtk\n",
    "import pyvistaqt as pvqt\n",
    "import colorcet as cc # Colormaps:\n",
    "import numpy as np\n",
    "import h5py\n",
    "import hdf5storage # conda install hdf5storage\n",
    "from pathlib import Path\n",
    "import bqplot.scales\n",
    "import seaborn as sns\n",
    "from mpl_toolkits import mplot3d\n",
    "import matplotlib.pyplot as plt\n",
    "import matplotlib.cm as cm\n",
    "from matplotlib.colors import Normalize\n",
    "# import mplcursors\n",
    "import math # For color map generation\n",
    "from matplotlib.colors import ListedColormap\n",
    "from matplotlib.cm import hsv\n",
    "\n",
    "import ipywidgets as widgets\n",
    "# from PyQt5 import QtWidgets, uic\n",
    "from pyvistaqt import QtInteractor, MainWindow\n",
    "# from pyqt6 import QApplication\n",
    "from IPython.external.qt_for_kernel import QtGui\n",
    "from PyQt5.QtWidgets import QApplication\n",
    "\n",
    "import datetime as dt\n",
    "import panel as pn # for interactive widgets\n",
    "pn.extension()"
   ]
  },
  {
   "cell_type": "code",
   "execution_count": 34,
   "id": "313eba69-5c27-4e2d-8563-2220af614aea",
   "metadata": {},
   "outputs": [],
   "source": [
    "# import PhoPositionalData as pdp\n",
    "# from PhoPositionalData import load_exported, process_data\n",
    "from PhoPositionalData.load_exported import *\n",
    "# from PhoPositionalData.process_data import process_positionalAnalysis_data, gen_2d_histrogram, get_heatmap_color_vectors, process_chunk_equal_poritions_data, extract_spike_timeseries\n",
    "from PhoPositionalData.process_data import *\n",
    "from PhoPositionalData.plot_data import *\n",
    "from PhoPositionalData.plotting.animations import * # make_mp4_from_plotter\n",
    "from PhoPositionalData.import_data import * # build_spike_positions_list, build_cellID_reverse_lookup_map\n",
    "from PhoPositionalData.analysis.interactive_placeCell_config import InteractivePlaceCellConfig, VideoOutputModeConfig, PlottingConfig, PlacefieldComputationParameters  # VideoOutputModeConfig, InteractivePlaceCellConfigs\n",
    "from PhoPositionalData.analysis.interactive_placeCell_config import print_subsession_neuron_differences"
   ]
  },
  {
   "cell_type": "code",
   "execution_count": 35,
   "id": "7773a93a-d1a0-4403-93dd-755468f86751",
   "metadata": {},
   "outputs": [],
   "source": [
    "# NeuroPy (Diba Lab Python Repo) Loading\n",
    "try:\n",
    "    from neuropy import core\n",
    "    importlib.reload(core)\n",
    "except ImportError:\n",
    "    sys.path.append(r'C:\\Users\\Pho\\repos\\NeuroPy') # Windows\n",
    "    # sys.path.append('/home/pho/repo/BapunAnalysis2021/NeuroPy') # Linux\n",
    "    # sys.path.append(r'/Users/pho/repo/Python Projects/NeuroPy') # MacOS\n",
    "    print('neuropy module not found, adding directory to sys.path. \\n >> Updated sys.path.')\n",
    "    from neuropy import core\n",
    "from neuropy.core.dataSession import SessionConfig, DataSessionLoader, DataSession, processDataSession\n",
    "from neuropy.core.epoch import NamedEpoch\n",
    "\n",
    "## Data must be pre-processed using the MATLAB script located here: \n",
    "# R:\\data\\KDIBA\\gor01\\one\\IIDataMat_Export_ToPython_2021_11_23.m\n",
    "\n",
    "# From pre-computed .mat files:\n",
    "## 07: \n",
    "basedir = r'R:\\data\\KDIBA\\gor01\\one\\2006-6-07_11-26-53'\n",
    "\n",
    "# ## 08:\n",
    "# basedir = r'R:\\data\\KDIBA\\gor01\\one\\2006-6-08_14-26-15'"
   ]
  },
  {
   "cell_type": "code",
   "execution_count": 36,
   "id": "2ab3ca17-6979-427e-a1a6-f352813f25e9",
   "metadata": {},
   "outputs": [
    {
     "name": "stdout",
     "output_type": "stream",
     "text": [
      "\t basepath: R:\\data\\KDIBA\\gor01\\one\\2006-6-07_11-26-53\n",
      "\t session_name: 2006-6-07_11-26-53\n",
      "Loading matlab import file: R:\\data\\KDIBA\\gor01\\one\\2006-6-07_11-26-53\\2006-6-07_11-26-53.spikeII.mat...\n",
      "done.\n",
      "setting laps object.\n",
      "Loading matlab import file: R:\\data\\KDIBA\\gor01\\one\\2006-6-07_11-26-53\\2006-6-07_11-26-53.epochs_info.mat...\n",
      "done.\n",
      "Loading matlab import file: R:\\data\\KDIBA\\gor01\\one\\2006-6-07_11-26-53\\2006-6-07_11-26-53.position_info.mat...\n",
      "done.\n",
      "computing linear positions for all active epochs for session...\n",
      "Saving updated position results to R:\\data\\KDIBA\\gor01\\one\\2006-6-07_11-26-53\\2006-6-07_11-26-53.position.npy...\n",
      "2006-6-07_11-26-53.position.npy saved\n",
      "done.\n",
      "\n",
      "session.position linear positions computed!\n"
     ]
    }
   ],
   "source": [
    "# KDiba Old Format:\n",
    "sess = DataSessionLoader.kdiba_old_format_session(r'R:\\data\\KDIBA\\gor01\\one\\2006-6-07_11-26-53')\n",
    "active_sess_config = sess.config\n",
    "session_name = sess.name"
   ]
  },
  {
   "cell_type": "code",
   "execution_count": 37,
   "id": "1368dd66-ad3f-4c9b-af2e-5d123320ed0a",
   "metadata": {},
   "outputs": [
    {
     "data": {
      "text/html": [
       "<div>\n",
       "<style scoped>\n",
       "    .dataframe tbody tr th:only-of-type {\n",
       "        vertical-align: middle;\n",
       "    }\n",
       "\n",
       "    .dataframe tbody tr th {\n",
       "        vertical-align: top;\n",
       "    }\n",
       "\n",
       "    .dataframe thead th {\n",
       "        text-align: right;\n",
       "    }\n",
       "</style>\n",
       "<table border=\"1\" class=\"dataframe\">\n",
       "  <thead>\n",
       "    <tr style=\"text-align: right;\">\n",
       "      <th></th>\n",
       "      <th>start</th>\n",
       "      <th>stop</th>\n",
       "      <th>label</th>\n",
       "      <th>duration</th>\n",
       "    </tr>\n",
       "  </thead>\n",
       "  <tbody>\n",
       "    <tr>\n",
       "      <th>0</th>\n",
       "      <td>0.000000</td>\n",
       "      <td>1739.153364</td>\n",
       "      <td>maze1</td>\n",
       "      <td>1739.153364</td>\n",
       "    </tr>\n",
       "    <tr>\n",
       "      <th>1</th>\n",
       "      <td>1739.153364</td>\n",
       "      <td>1932.420005</td>\n",
       "      <td>maze2</td>\n",
       "      <td>193.266641</td>\n",
       "    </tr>\n",
       "  </tbody>\n",
       "</table>\n",
       "</div>"
      ],
      "text/plain": [
       "         start         stop  label     duration\n",
       "0     0.000000  1739.153364  maze1  1739.153364\n",
       "1  1739.153364  1932.420005  maze2   193.266641"
      ]
     },
     "execution_count": 37,
     "metadata": {},
     "output_type": "execute_result"
    }
   ],
   "source": [
    "sess.epochs.to_dataframe()"
   ]
  },
  {
   "cell_type": "code",
   "execution_count": 38,
   "id": "6d59b650-83a5-4b4a-b29e-6fc49cc4a8cc",
   "metadata": {},
   "outputs": [
    {
     "name": "stdout",
     "output_type": "stream",
     "text": [
      "Constraining to units with type: pyramidal\n",
      "Constraining to epoch with times (start: 0.0, end: 1932.4200048116618)\n",
      "20996/932598 total spikes spanning 40/64 units remain in subsession\n"
     ]
    }
   ],
   "source": [
    "## NOTE: The only place that I need to be careful with indexing is with sess.position properties, as these appear to be represented in terms of the number of 60Hz samples instead of in seconds like the Neurons and other classes.\n",
    "# active_epoch_name = 'maze1'\n",
    "# active_epoch_name = 'maze2'\n",
    "\n",
    "# active_epoch = NamedEpoch(\n",
    "#         name=active_epoch_name,\n",
    "#         start_end_times=sess.epochs[active_epoch_name]\n",
    "#     )\n",
    "\n",
    "active_epoch_name = 'maze'\n",
    "active_epoch = NamedEpoch(\n",
    "        name=active_epoch_name,\n",
    "        start_end_times=[sess.epochs['maze1'][0], sess.epochs['maze2'][1]]\n",
    "    )\n",
    "# Constraining to epoch with times (start: 0.0, end: 1932.4200048116618)\n",
    "# 20996/932598 total spikes spanning 40/64 units remain in subsession\n",
    "\n",
    "active_subplots_shape = (1,1) # Single subplot\n",
    "# active_subplots_shape = '1|2' # 1 subplot on left, two on right\n",
    "\n",
    "## Get the config corresponding to this epoch/session settings:\n",
    "# active_config = InteractivePlaceCellConfig(active_session_config=active_sess_config, active_epochs=active_epoch)\n",
    "active_config = InteractivePlaceCellConfig(active_session_config=active_sess_config, active_epochs=active_epoch,\n",
    "                        video_output_config=VideoOutputModeConfig(active_frame_range=np.arange(100.0, 120.0), video_output_parent_dir=Path('output', active_sess_config.session_name, active_epoch.name), active_is_video_output_mode=False),\n",
    "                        plotting_config=PlottingConfig(output_subplots_shape=active_subplots_shape, output_parent_dir=Path('output', active_sess_config.session_name, active_epoch.name))) # '3|1    \n",
    "## Looks like the only real outputs are: active_epoch_session_Neurons, active_epoch_pos\n",
    "active_config.plotting_config.active_output_parent_dir.mkdir(parents=True, exist_ok=True) # makes the directory if it isn't already there\n",
    "\n",
    "# Get the filtered and time-constrainted session and position data for this epoch:\n",
    "active_epoch_session = sess.get_neuron_type('pyramidal').time_slice(active_epoch.t_start, active_epoch.t_stop)\n",
    "print_subsession_neuron_differences(sess.neurons, active_epoch_session.neurons)\n",
    "active_epoch_session_Neurons, active_epoch_pos, active_epoch_position_times = active_epoch_session.neurons, active_epoch_session.position, active_epoch_session.position.time"
   ]
  },
  {
   "cell_type": "code",
   "execution_count": 39,
   "id": "29a23786-6896-4cb5-8c05-94034738fcc3",
   "metadata": {},
   "outputs": [],
   "source": [
    "# print(active_epoch_session.epochs.to_dataframe())\n",
    "# print(sess.spikes_df) # max is in 4.2305 x 10^4\n",
    "# print(sess.position.to_dataframe()) # max is in 4.2305 x 10^4\n",
    "# print(sess.flattened_spiketrains.spikes_df) # t_seconds is in the same units as the position dataframe, which is NOT seconds, and 't' is a factor of 1x10^4 larger than 't_seconds'\n",
    "# # Get only the rows with a lap != -1:\n",
    "# # spikes_df = spikes_df[(spikes_df.lap != -1)] # 229887 rows × 13 columns\n",
    "# # spikes_df # 932598 rows × 14 columns"
   ]
  },
  {
   "cell_type": "code",
   "execution_count": 40,
   "id": "e6e911b9-8b4e-451b-a064-e5a04c61e210",
   "metadata": {
    "scrolled": true,
    "tags": []
   },
   "outputs": [
    {
     "name": "stdout",
     "output_type": "stream",
     "text": [
      "Recomputing active_epoch_placefields...\n",
      "\t done.\n",
      "Recomputing active_epoch_placefields2D...\n",
      "\t done.\n",
      "skipping 2D placefield plots\n",
      "good_placefield_neuronIDs: [ 2  3  4  5  7  9 11 12 17 18 21 22 23 27 28 29 33 34 38 39 42 44 45 46\n",
      " 47 48 53 55 57 58]; (30 good)\n"
     ]
    }
   ],
   "source": [
    "## Compute Placefields if needed:\n",
    "from neuropy.analyses import Pf1D, Pf2D, perform_compute_placefields, plot_all_placefields\n",
    "from neuropy.plotting.spikes import get_neuron_colors\n",
    "\n",
    "should_force_recompute_placefields = True\n",
    "should_display_2D_plots = False\n",
    "# Setup the placefield computation config\n",
    "active_config.computation_config = PlacefieldComputationParameters(speed_thresh=3, grid_bin=2, smooth=2)\n",
    "try: active_epoch_placefields1D\n",
    "except NameError: active_epoch_placefields1D = None # Checks variable active_epoch_placefields's existance, and sets its value to None if it doesn't exist so it can be checked in the next step\n",
    "try: active_epoch_placefields2D\n",
    "except NameError: active_epoch_placefields2D = None # Checks variable active_epoch_placefields's existance, and sets its value to None if it doesn't exist so it can be checked in the next step\n",
    "\n",
    "active_epoch_placefields1D, active_epoch_placefields2D = perform_compute_placefields(active_epoch_session_Neurons, active_epoch_pos, active_config.computation_config, active_epoch_placefields1D, active_epoch_placefields2D, should_force_recompute_placefields=True)\n",
    "# Plot the placefields computed and save them out to files:\n",
    "if should_display_2D_plots:\n",
    "    ax_pf_1D, occupancy_fig, active_pf_2D_figures = plot_all_placefields(active_epoch_placefields1D, active_epoch_placefields2D, active_config)\n",
    "else:\n",
    "    print('skipping 2D placefield plots')\n",
    "    \n",
    "# Focus on the 2D placefields:\n",
    "active_epoch_placefields = active_epoch_placefields2D\n",
    "# Get the cell IDs that have a good place field mapping:\n",
    "good_placefield_neuronIDs = np.array(active_epoch_placefields.ratemap.neuron_ids) # in order of ascending ID\n",
    "print('good_placefield_neuronIDs: {}; ({} good)'.format(good_placefield_neuronIDs, len(good_placefield_neuronIDs)))\n",
    "\n",
    "## Filter by neurons with good placefields only:\n",
    "active_epoch_session = active_epoch_session.get_by_id(good_placefield_neuronIDs) # Filter by good placefields only, and this fetch also ensures they're returned in the order of sorted ascending index ([ 2  3  5  7  9 12 18 21 22 23 26 27 29 34 38 45 48 53 57])\n",
    "active_epoch_session_Neurons = active_epoch_session.neurons\n",
    "\n",
    "## Plotting Colors:\n",
    "pf_sort_ind = np.array([int(i) for i in np.arange(len(active_epoch_session.neuron_ids))]) # convert to integer scalar array\n",
    "pf_colors = get_neuron_colors(pf_sort_ind) # colors are by ascending index ID\n",
    "\n",
    "active_config.plotting_config.pf_sort_ind = pf_sort_ind\n",
    "active_config.plotting_config.pf_colors = pf_colors\n",
    "active_config.plotting_config.active_cells_colormap = pf_colors.T # Make the colormap from the listed colors, used seemingly only by 'runAnalysis_PCAandICA(...)'\n",
    "active_config.plotting_config.active_cells_listed_colormap = ListedColormap(active_config.plotting_config.active_cells_colormap)\n"
   ]
  },
  {
   "cell_type": "code",
   "execution_count": 41,
   "id": "ecc784c6-dd3f-4584-9e8f-1a00cb203d26",
   "metadata": {},
   "outputs": [],
   "source": [
    "# active_sess_laps_bak = sess.laps\n",
    "active_epoch_session.laps = sess.laps\n",
    "# active_epoch_session.flattened_spiketrains.spikes_df\n",
    "# active_epoch_session.laps"
   ]
  },
  {
   "cell_type": "code",
   "execution_count": 42,
   "id": "3f841495-7bfc-4577-90c0-85aebf8a8e44",
   "metadata": {},
   "outputs": [
    {
     "name": "stdout",
     "output_type": "stream",
     "text": [
      "lap[4]: (145897.0, 154187.0)\n"
     ]
    }
   ],
   "source": [
    "active_sess_laps = active_epoch_session.laps\n",
    "# print('active_sess_laps: {}'.format(active_sess_laps))\n",
    "active_sess_laps.lap_start_stop_time # [  96.0589, 6223.86  ], [ 190.4446, 6285.0087], ... these values look like 't' format, not 't_seconds'\n",
    "# active_sess_laps.laps_spike_counts\n",
    "# active_sess_laps.lap_start_stop_flat_idx\n",
    "def get_lap_times(lap_id):\n",
    "    start_stop = active_sess_laps.lap_start_stop_flat_idx[lap_id,:] # array([ 15841., 900605.]) the start_stop time for the first lap\n",
    "    return start_stop[0], start_stop[1]\n",
    "\n",
    "curr_lap_id = 4\n",
    "curr_lap_t_start, curr_lap_t_stop = get_lap_times(curr_lap_id)\n",
    "print('lap[{}]: ({}, {})'.format(curr_lap_id, curr_lap_t_start, curr_lap_t_stop))"
   ]
  },
  {
   "cell_type": "code",
   "execution_count": 43,
   "id": "13e004a4-3f0c-49b4-b9a7-9d0cd11e6cbf",
   "metadata": {
    "tags": []
   },
   "outputs": [
    {
     "data": {
      "text/plain": [
       "array([ 1,  2,  3,  4,  5,  6,  7,  8,  9, 10, 11, 12, 13, 14, 15, 16, 17,\n",
       "       18, 19, 20, 21, 22, 23, 24, 25, 26, 27, 28, 29, 30, 31, 32, 33, 34,\n",
       "       35, 36, 37, 38, 39, 40, 41, 42], dtype=int64)"
      ]
     },
     "execution_count": 43,
     "metadata": {},
     "output_type": "execute_result"
    }
   ],
   "source": [
    "# Group by the lap column:\n",
    "# def get_group(key, dataframe_group):\n",
    "#     if key in dataframe_group.groups.keys():\n",
    "#         return dataframe_group.get_group(key)\n",
    "#     else:\n",
    "#         original_df = dataframe_group.obj\n",
    "#         return original_df.drop(original_df.index)\n",
    "\n",
    "lap_grouped_spikes_df = active_epoch_session.flattened_spiketrains.spikes_df.groupby(['lap']) #  as_index=False keeps the original index\n",
    "# lap_grouped_spikes_df\n",
    "active_epoch_session.laps.lap_id"
   ]
  },
  {
   "cell_type": "code",
   "execution_count": 44,
   "id": "8d2c4cce-8fc7-43e4-b2a0-4ba9f6004bb7",
   "metadata": {},
   "outputs": [],
   "source": [
    "lap_specific_dataframes = list()\n",
    "lap_spike_indicies = list()\n",
    "lap_spike_t_seconds = list()\n",
    "for i in np.arange(active_epoch_session.laps.n_laps):\n",
    "    curr_lap_id = active_epoch_session.laps.lap_id[i]\n",
    "    #curr_flat_cell_indicies = (flat_spikes_out_dict['aclu'] == curr_cell_id) # the indicies where the cell_id matches the current one\n",
    "    # print('curr_lap_id: {}'.format(curr_lap_id))\n",
    "    if curr_lap_id in lap_grouped_spikes_df.groups.keys():\n",
    "        curr_lap_dataframe = lap_grouped_spikes_df.get_group(curr_lap_id)\n",
    "        lap_specific_dataframes.append(curr_lap_dataframe)\n",
    "        lap_spike_indicies.append(curr_lap_dataframe.flat_spike_idx.values)\n",
    "        lap_spike_t_seconds.append(curr_lap_dataframe.t_seconds.values)\n",
    "    else:\n",
    "        # curr_lap_dataframe = pd.DataFrame()\n",
    "        lap_specific_dataframes.append([])\n",
    "        lap_spike_indicies.append([])\n",
    "        lap_spike_t_seconds.append([])\n",
    "    # curr_lap_spike_indicies = curr_lap_dataframe.flat_spike_idx.values\n",
    "    # lap_spike_indicies.append(curr_lap_dataframe.flat_spike_idx.values)\n",
    "    # spiketrains.append(curr_cell_dataframe[time_variable_name].to_numpy())\n",
    "    # shank_ids[i] = curr_cell_dataframe['shank'].to_numpy()[0] # get the first shank identifier, which should be the same for all of this curr_cell_id\n",
    "    # cell_quality[i] = curr_cell_dataframe['qclu'].mean() # should be the same for all instances of curr_cell_id, but use mean just to make sure\n",
    "    # cell_type.append(curr_cell_dataframe['cell_type'].to_numpy()[0])\n",
    "\n",
    "# print('lap_spike_indicies: {}'.format(lap_spike_indicies))\n",
    "\n",
    "# lap_spike_indicies[4] # all spike indicies that occured within the lap\n",
    "# sess.laps.n_laps\n"
   ]
  },
  {
   "cell_type": "code",
   "execution_count": 45,
   "id": "dabb6443-9f21-4e07-9309-29810d952e25",
   "metadata": {
    "pycharm": {
     "name": "#%%\n"
    }
   },
   "outputs": [],
   "source": [
    "# flattened_spikes.flattened_spike_identities # array([53, 45, 45, ..., 45, 22,  2])\n",
    "# flattened_spikes.flattened_sort_indicies # array([16984, 13674, 13675, ..., 16068,  7575,   580], dtype=int64)\n",
    "# flattened_spikes.flattened_spike_times # array([1.6100000e-02, 2.7230000e-01, 2.8300000e-01, ..., 1.9308899e+03, 1.9316915e+03, 1.9320706e+03])\n",
    "# print(flattened_spike_positions_list) # [[103.5329515  100.94484811 100.86902587 ... 215.55358368 216.0612899 217.59276516], [100.64776532  98.26058916  98.16262888 ... 139.36778275 138.94465291 139.07649496]]\n",
    "# num_flattened_spikes # 19647"
   ]
  },
  {
   "cell_type": "code",
   "execution_count": 46,
   "id": "242a014c-ae46-4e43-8095-91dbc11d3ab3",
   "metadata": {},
   "outputs": [
    {
     "name": "stdout",
     "output_type": "stream",
     "text": [
      "Based on frate_thresh, excluded neuron_ids: [ 4  7 11 33 47]\n"
     ]
    }
   ],
   "source": [
    "## ICA and PCA Analysis\n",
    "should_show_2D_ICA_plots = False\n",
    "from PhoPositionalData.analysis.neuronal_dimensionality_reduction import runAnalysis_PCAandICA\n",
    "active_session_ensembles, template, zsc_template, pca_data = runAnalysis_PCAandICA(active_epoch_session_Neurons, bin_size=0.250, frate_thresh=0.1, should_plot=should_show_2D_ICA_plots, active_cells_colormap=active_config.plotting_config.active_cells_colormap)"
   ]
  },
  {
   "cell_type": "markdown",
   "id": "d4bca1e4-77d4-4a42-9883-57f0ff6431d4",
   "metadata": {},
   "source": [
    "## Main Spike/Placemap plotting:"
   ]
  },
  {
   "cell_type": "markdown",
   "id": "3ad08080-abb6-4373-b426-520cb0ac95f3",
   "metadata": {},
   "source": [
    "# Plot Placemaps on 3D Plot"
   ]
  },
  {
   "cell_type": "code",
   "execution_count": 47,
   "id": "6d92bd2e-138f-4df6-8731-12fbdd3c950b",
   "metadata": {},
   "outputs": [],
   "source": [
    "t = active_epoch_pos.time\n",
    "x = active_epoch_pos.x\n",
    "y = active_epoch_pos.y"
   ]
  },
  {
   "cell_type": "code",
   "execution_count": 48,
   "id": "192c9d82-3abf-4ba7-966b-93e186bf78d5",
   "metadata": {},
   "outputs": [],
   "source": [
    "from PhoGui.InteractivePlotter.InteractivePlaceCellTuningCurvesDataExplorer import InteractivePlaceCellTuningCurvesDataExplorer\n",
    "\n",
    "try: pActiveTuningCurvesPlotter\n",
    "except NameError: pActiveTuningCurvesPlotter = None # Checks variable p's existance, and sets its value to None if it doesn't exist so it can be checked in the next step\n",
    "ipcDataExplorer = InteractivePlaceCellTuningCurvesDataExplorer(active_config, x, y, active_epoch_placefields, pf_colors, extant_plotter=pActiveTuningCurvesPlotter)"
   ]
  },
  {
   "cell_type": "code",
   "execution_count": 49,
   "id": "9eea1bc3-4e93-4844-ba9f-78c0d44314b2",
   "metadata": {},
   "outputs": [
    {
     "name": "stdout",
     "output_type": "stream",
     "text": [
      "No open BackgroundPlotter\n",
      "Creating a new BackgroundPlotter\n",
      "done.\n"
     ]
    },
    {
     "name": "stderr",
     "output_type": "stream",
     "text": [
      "C:\\Users\\Pho\\repos\\NeuroPy\\neuropy\\utils\\mathutil.py:23: RuntimeWarning: invalid value encountered in true_divide\n",
      "  return (x - np.min(x, axis=axis, keepdims=True)) / np.ptp(\n"
     ]
    },
    {
     "name": "stdout",
     "output_type": "stream",
     "text": [
      "num_curr_tuning_curves: 30\n"
     ]
    }
   ],
   "source": [
    "pActiveTuningCurvesPlotter = ipcDataExplorer.plot(pActiveTuningCurvesPlotter)"
   ]
  },
  {
   "cell_type": "code",
   "execution_count": 92,
   "id": "b1576824-88ff-4826-a71d-bab9fb8b0b5d",
   "metadata": {
    "pycharm": {
     "name": "#%%\n"
    },
    "tags": []
   },
   "outputs": [
    {
     "name": "stdout",
     "output_type": "stream",
     "text": [
      "active_epoch_pos.sampling_rate (Hz): 29.96976599553983\n",
      "longer_spikes_window - curr_view_window_length_samples - 30689\n",
      "recent_spikes_window - curr_view_window_length_samples - 299\n",
      "Applying custom Pyvista theme.\n",
      "done.\n",
      "done.\n"
     ]
    }
   ],
   "source": [
    "## Slider with Callback Function Example:\n",
    "import PhoGui\n",
    "from PhoGui.InteractivePlotter.PhoInteractivePlotter import PhoInteractivePlotter\n",
    "from PhoGui.InteractivePlotter.shared_helpers import InteractivePyvistaPlotterBuildIfNeededMixin\n",
    "from PhoGui.InteractivePlotter.InteractivePlaceCellDataExplorer import InteractivePlaceCellDataExplorer\n",
    "\n",
    "active_config.plotting_config.show_legend = True\n",
    "\n",
    "try: pActiveInteractivePlaceSpikesPlotter\n",
    "except NameError: pActiveInteractivePlaceSpikesPlotter = None # Checks variable p's existance, and sets its value to None if it doesn't exist so it can be checked in the next step\n",
    "ipspikesDataExplorer = InteractivePlaceCellDataExplorer(active_config, active_epoch_session, extant_plotter=pActiveInteractivePlaceSpikesPlotter)\n",
    "print('done.')"
   ]
  },
  {
   "cell_type": "code",
   "execution_count": 93,
   "id": "1855d649-5816-498d-ae0f-d00a9245f74f",
   "metadata": {
    "pycharm": {
     "name": "#%%\n"
    },
    "scrolled": true,
    "tags": []
   },
   "outputs": [
    {
     "name": "stdout",
     "output_type": "stream",
     "text": [
      "No open BackgroundPlotter\n",
      "Creating a new BackgroundPlotter\n",
      "done.\n",
      "[f] - Focus and zoom in on the last clicked point\n",
      "shift+click - Drag to pan the rendering scene\n",
      "ctrl+click - Rotate the scene in 2D\n"
     ]
    }
   ],
   "source": [
    "pActiveInteractivePlaceSpikesPlotter = ipspikesDataExplorer.plot(pActivePlotter=pActiveInteractivePlaceSpikesPlotter)"
   ]
  },
  {
   "cell_type": "code",
   "execution_count": 52,
   "id": "81b037df-4a74-4130-9884-b592f81ab6af",
   "metadata": {},
   "outputs": [],
   "source": [
    "# ## Playback animation:\n",
    "# # pl = PhoInteractivePlotter(pyvista_plotter=p)\n",
    "\n",
    "# # ## Testing Updating the Timestamp Slider Programmatically:\n",
    "# # interactive_timestamp_slider_wrapper.curr_index\n",
    "# # interactive_timestamp_slider_wrapper.step_index(15)\n",
    "        \n",
    "# animate = InterfaceProperties(interactive_timestamp_slider_wrapper)\n",
    "# # An unused constant-time callback that calls back every so often to perform updates\n",
    "# p.add_callback(animate, interval=16)  # to be smooth on 60Hz\n",
    "\n",
    "# # A checkbox that decides whether we're playing back at a constant rate or not.\n",
    "# interactive_checkbox_actor = p.add_checkbox_button_widget(toggle_animation, value=False, color_on='green')"
   ]
  },
  {
   "cell_type": "code",
   "execution_count": 53,
   "id": "a7799114-b1ed-4f38-b447-407f9f1ac4ea",
   "metadata": {},
   "outputs": [
    {
     "name": "stdout",
     "output_type": "stream",
     "text": [
      "lap[4]: (145897.0, 154187.0): 437 spikes.\n",
      "[1.6100000e-02 2.7230000e-01 2.8300000e-01 ... 1.9308899e+03 1.9316915e+03\n",
      " 1.9320706e+03]\n"
     ]
    }
   ],
   "source": [
    "## ACTIVE: Laps and Spikes:\n",
    "curr_lap_id = 4\n",
    "\n",
    "curr_lap_t_start, curr_lap_t_stop = get_lap_times(curr_lap_id)\n",
    "curr_lap_dataframe = lap_specific_dataframes[curr_lap_id] # the subset dataframe for this lap\n",
    "curr_lap_spike_t_seconds = curr_lap_dataframe.t_seconds\n",
    "curr_lap_spike_indicies = lap_spike_indicies[curr_lap_id] # all spike indicies that occured within the lap\n",
    "curr_lap_num_spikes = len(curr_lap_spike_indicies)\n",
    "print('lap[{}]: ({}, {}): {} spikes.'.format(curr_lap_id, curr_lap_t_start, curr_lap_t_stop, curr_lap_num_spikes))\n",
    "\n",
    "test_flat_times = active_epoch_session.flattened_spiketrains.flattened_spike_times\n",
    "print(test_flat_times)\n",
    "# curr_lap_t_start\n",
    "## TODO: enable showing/hiding the spikes for this data range programmatically in InteractivePlaceCellDataExplorer. \n",
    "# ipspikesDataExplorer.\n",
    "# curr_lap_spike_t_seconds\n",
    "# curr_lap_spike_indicies\n",
    "# active_epoch_session.flattened_spiketrains.spikes_df.t_seconds.values[curr_lap_spike_indicies] # index 145937 is out of bounds for axis 0 with size 19647"
   ]
  },
  {
   "cell_type": "code",
   "execution_count": null,
   "id": "adefc737-be86-4dc4-b165-7eefbd03788b",
   "metadata": {},
   "outputs": [],
   "source": [
    "# ipspikesDataExplorer.on_programmatic_data_update(active_included_all_historical_indicies=curr_lap_spike_indicies, active_included_recent_only_indicies=curr_lap_spike_indicies) # index 145937 is out of bounds for axis 0 with size 19647\n",
    "# ipspikesDataExplorer.on_programmatic_data_update(active_included_all_historical_indicies=curr_lap_spike_t_seconds, active_included_recent_only_indicies=curr_lap_spike_t_seconds) # \n",
    "# ipspikesDataExplorer.on_programmatic_data_update(active_included_all_historical_indicies=curr_lap_spike_t_seconds.values, active_included_recent_only_indicies=curr_lap_spike_t_seconds.values) # "
   ]
  },
  {
   "cell_type": "code",
   "execution_count": 75,
   "id": "3c96e175-e8dd-4a9e-957d-6e1198e13ec0",
   "metadata": {},
   "outputs": [
    {
     "data": {
      "text/plain": [
       "True"
      ]
     },
     "execution_count": 75,
     "metadata": {},
     "output_type": "execute_result"
    }
   ],
   "source": [
    "# ipspikesDataExplorer.historical_main_spikes_mesh.SetVisibility(0)\n",
    "\n",
    "# ipspikesDataExplorer.historical_main_spikes_mesh.SetVisibility(1)\n",
    "# bool(ipspikesDataExplorer.historical_main_spikes_mesh.GetVisibility())\n",
    "\n",
    "def toggle_visibility(mesh):\n",
    "    new_vis = not bool(mesh.GetVisibility())\n",
    "    mesh.SetVisibility(new_vis)\n",
    "    return new_vis\n",
    "\n",
    "toggle_visibility(ipspikesDataExplorer.historical_main_spikes_mesh)"
   ]
  },
  {
   "cell_type": "code",
   "execution_count": 74,
   "id": "1ab035fb-3417-463f-aa54-2021466569ac",
   "metadata": {},
   "outputs": [
    {
     "data": {
      "text/plain": [
       "False"
      ]
     },
     "execution_count": 74,
     "metadata": {},
     "output_type": "execute_result"
    }
   ],
   "source": [
    "# ipspikesDataExplorer.recent_only_main_spikes_mesh.SetVisibility(True)\n",
    "toggle_visibility(ipspikesDataExplorer.recent_only_main_spikes_mesh)"
   ]
  },
  {
   "cell_type": "code",
   "execution_count": 73,
   "id": "70dcef6a-bee6-4739-9eef-bbfa7d62cae4",
   "metadata": {},
   "outputs": [
    {
     "data": {
      "text/plain": [
       "True"
      ]
     },
     "execution_count": 73,
     "metadata": {},
     "output_type": "execute_result"
    }
   ],
   "source": [
    "# ipspikesDataExplorer.animal_location_trail_mesh.SetVisibility(0)\n",
    "toggle_visibility(ipspikesDataExplorer.animal_location_trail_mesh)"
   ]
  },
  {
   "cell_type": "code",
   "execution_count": 76,
   "id": "0ffa678b-9334-4811-82fd-69ac23c0ad7a",
   "metadata": {},
   "outputs": [],
   "source": [
    "# ipspikesDataExplorer.animal_location_trail_mesh.SetVisibility(0)\n",
    "toggle_visibility(ipspikesDataExplorer.animal_current_location_point_mesh)"
   ]
  },
  {
   "cell_type": "code",
   "execution_count": 91,
   "id": "22df6a14-b952-4236-86e7-44b04f6be6f7",
   "metadata": {},
   "outputs": [
    {
     "name": "stdout",
     "output_type": "stream",
     "text": [
      "curr_animal_point: [206.27755737 140.15452576   1.10000002]\n",
      "new curr_animal_point: [206.27755737 140.15452576   1.10000002]\n"
     ]
    }
   ],
   "source": [
    "# .GetPosition() returns the actor's position, which is usually (0.0, 0.0, 0.0), and does not relate to the actor's data points\n",
    "# curr_animal_point = ipspikesDataExplorer.animal_location_trail_mesh.GetPosition()\n",
    "# curr_animal_point = ipspikesDataExplorer.animal_location_trail_mesh.GetXRange() # (44.23604202270508, 245.9059600830078)\n",
    "# print(curr_animal_point)\n",
    "# curr_animal_point = ipspikesDataExplorer.animal_location_trail_mesh.GetYRange() # (135.27638244628906, 145.448974609375)\n",
    "# print(curr_animal_point)\n",
    "# curr_animal_point = ipspikesDataExplorer.animal_location_trail_mesh.GetZRange() # (1.100000023841858, 1.100000023841858)\n",
    "\n",
    "curr_animal_point = np.array(ipspikesDataExplorer.animal_location_trail_mesh.GetCenter()) # (206.27755737304688, 140.15452575683594, 1.100000023841858)\n",
    "print('curr_animal_point: {}'.format(curr_animal_point))\n",
    "curr_animal_point # curr_animal_poin\n",
    "\n",
    "curr_animal_point = np.array([0, 0, 0])\n",
    "\n",
    "# curr_animal_point = np.column_stack((self.x[active_window_sample_indicies], self.y[active_window_sample_indicies], self.z_fixed))\n",
    "ipspikesDataExplorer.on_programmatic_data_update(curr_animal_point=curr_animal_point)\n",
    "\n",
    "curr_animal_point = np.array(ipspikesDataExplorer.animal_location_trail_mesh.GetCenter()) # not updated\n",
    "print('new curr_animal_point: {}'.format(curr_animal_point))\n"
   ]
  },
  {
   "cell_type": "code",
   "execution_count": null,
   "id": "66ec9f3b-3ecc-443b-8029-44cb7680cdc3",
   "metadata": {},
   "outputs": [],
   "source": []
  }
 ],
 "metadata": {
  "celltoolbar": "Tags",
  "interpreter": {
   "hash": "fde6e68fa8f5f4f0920a88ee99edd8d4121f14a57a7800ceb19ed197f25c05dc"
  },
  "kernelspec": {
   "display_name": "Python 3 (ipykernel)",
   "language": "python",
   "name": "python3"
  },
  "language_info": {
   "codemirror_mode": {
    "name": "ipython",
    "version": 3
   },
   "file_extension": ".py",
   "mimetype": "text/x-python",
   "name": "python",
   "nbconvert_exporter": "python",
   "pygments_lexer": "ipython3",
   "version": "3.9.7"
  }
 },
 "nbformat": 4,
 "nbformat_minor": 5
}
