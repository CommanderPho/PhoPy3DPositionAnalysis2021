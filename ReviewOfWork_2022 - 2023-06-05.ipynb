{
 "cells": [
  {
   "cell_type": "code",
   "execution_count": 1,
   "id": "0056bc66-7629-4ef7-8c87-f28f8fcd9dc8",
   "metadata": {
    "autorun": true,
    "tags": [
     "imports",
     "REQUIRED",
     "ACTIVE"
    ]
   },
   "outputs": [
    {
     "name": "stdout",
     "output_type": "stream",
     "text": [
      "Automatic pdb calling has been turned OFF\n",
      "build_module_logger(module_name=\"Spike3D.pipeline\"):\n",
      "\t Module logger com.PhoHale.Spike3D.pipeline has file logging enabled and will log to EXTERNAL\\TESTING\\Logging\\debug_com.PhoHale.Spike3D.pipeline.log\n"
     ]
    }
   ],
   "source": [
    "%config IPCompleter.use_jedi = False\n",
    "%pdb off\n",
    "# %load_ext viztracer\n",
    "# from viztracer import VizTracer\n",
    "%load_ext autoreload\n",
    "%autoreload 3\n",
    "import sys\n",
    "from pathlib import Path\n",
    "import neptune # for logging progress and results\n",
    "from pyphoplacecellanalysis.General.Batch.NonInteractiveWrapper import neptune_output_figures\n",
    "neptune_kwargs = {'project':\"commander.pho/PhoDibaLongShort2023\",\n",
    "'api_token':\"eyJhcGlfYWRkcmVzcyI6Imh0dHBzOi8vYXBwLm5lcHR1bmUuYWkiLCJhcGlfdXJsIjoiaHR0cHM6Ly9hcHAubmVwdHVuZS5haSIsImFwaV9rZXkiOiIxOGIxODU2My1lZTNhLTQ2ZWMtOTkzNS02ZTRmNzM5YmNjNjIifQ==\"}\n",
    "\n",
    "# required to enable non-blocking interaction:\n",
    "%gui qt5\n",
    "\n",
    "from copy import deepcopy\n",
    "from numba import jit\n",
    "import numpy as np\n",
    "import pandas as pd\n",
    "from attrs import define, field, fields, Factory\n",
    "\n",
    "# Pho's Formatting Preferences\n",
    "# from pyphocorehelpers.preferences_helpers import set_pho_preferences, set_pho_preferences_concise, set_pho_preferences_verbose\n",
    "# set_pho_preferences_concise()\n",
    "\n",
    "## Pho's Custom Libraries:\n",
    "from pyphocorehelpers.general_helpers import CodeConversion\n",
    "from pyphocorehelpers.function_helpers import function_attributes\n",
    "from pyphocorehelpers.print_helpers import print_keys_if_possible, print_value_overview_only, document_active_variables, objsize, print_object_memory_usage, debug_dump_object_member_shapes, TypePrintMode\n",
    "from pyphocorehelpers.print_helpers import get_now_day_str, get_now_time_str, get_now_time_precise_str\n",
    "from pyphocorehelpers.programming_helpers import IPythonHelpers\n",
    "from pyphocorehelpers.Filesystem.path_helpers import find_first_extant_path\n",
    "\n",
    "# NeuroPy (Diba Lab Python Repo) Loading\n",
    "# from neuropy import core\n",
    "from neuropy.analyses.placefields import PlacefieldComputationParameters\n",
    "from neuropy.core.epoch import NamedTimerange, Epoch\n",
    "from neuropy.core.ratemap import Ratemap\n",
    "from neuropy.core.session.Formats.BaseDataSessionFormats import DataSessionFormatRegistryHolder\n",
    "from neuropy.core.session.Formats.Specific.BapunDataSessionFormat import BapunDataSessionFormatRegisteredClass\n",
    "from neuropy.core.session.Formats.Specific.KDibaOldDataSessionFormat import KDibaOldDataSessionFormatRegisteredClass\n",
    "from neuropy.core.session.Formats.Specific.RachelDataSessionFormat import RachelDataSessionFormat\n",
    "from neuropy.core.session.Formats.Specific.HiroDataSessionFormat import HiroDataSessionFormatRegisteredClass\n",
    "\n",
    "## For computation parameters:\n",
    "from neuropy.analyses.placefields import PlacefieldComputationParameters\n",
    "from neuropy.utils.dynamic_container import DynamicContainer\n",
    "from neuropy.utils.result_context import IdentifyingContext\n",
    "from neuropy.core.session.Formats.BaseDataSessionFormats import find_local_session_paths\n",
    "from neuropy.core.neurons import NeuronType\n",
    "\n",
    "from pyphocorehelpers.print_helpers import generate_html_string\n",
    "\n",
    "\n",
    "# pyPhoPlaceCellAnalysis:\n",
    "from pyphoplacecellanalysis.General.Pipeline.NeuropyPipeline import NeuropyPipeline # get_neuron_identities\n",
    "from pyphoplacecellanalysis.General.Mixins.ExportHelpers import export_pyqtgraph_plot, create_daily_programmatic_display_function_testing_folder_if_needed, session_context_to_relative_path\n",
    "from pyphoplacecellanalysis.General.Batch.NonInteractiveWrapper import batch_load_session, batch_extended_computations, SessionBatchProgress, batch_programmatic_figures, batch_extended_programmatic_figures\n",
    "from pyphoplacecellanalysis.General.Pipeline.NeuropyPipeline import PipelineSavingScheme\n",
    "from pyphoplacecellanalysis.Pho2D.matplotlib.visualize_heatmap import visualize_heatmap\n",
    "from pyphoplacecellanalysis.Pho2D.PyQtPlots.Extensions.pyqtgraph_helpers import build_pyqtgraph_epoch_indicator_regions # Add session indicators to pyqtgraph plot\n",
    "from pyphoplacecellanalysis.General.Pipeline.Stages.DisplayFunctions.MultiContextComparingDisplayFunctions.LongShortTrackComparingDisplayFunctions import _helper_add_long_short_session_indicator_regions\n",
    "\n",
    "import pyphoplacecellanalysis.External.pyqtgraph as pg\n",
    "# 'time_bin_indices': valid_time_bin_indicies, 'posterior_to_pf_mean_surprise': one_left_out_posterior_to_pf_surprises_mean, 'posterior_to_scrambled_pf_mean_surprise': one_left_out_posterior_to_scrambled_pf_surprises_mean}\n",
    "from pyphoplacecellanalysis.General.Pipeline.Stages.DisplayFunctions.MultiContextComparingDisplayFunctions.LongShortTrackComparingDisplayFunctions import plot_long_short_expected_vs_observed_firing_rates\n",
    "from pyphoplacecellanalysis.General.Pipeline.Stages.DisplayFunctions.MultiContextComparingDisplayFunctions.LongShortTrackComparingDisplayFunctions import plot_long_short_surprise_difference_plot\n",
    "\n",
    "from pyphoplacecellanalysis.General.Batch.NonInteractiveWrapper import _update_pipeline_missing_preprocessing_parameters\n",
    "from pyphoplacecellanalysis.General.Mixins.ExportHelpers import perform_write_to_file\n",
    "from scripts.run_BatchAnalysis import post_compute_validate, _perform_plots, _on_complete_success_execution_session\n",
    "\n",
    "session_batch_status = {}\n",
    "session_batch_errors = {}\n",
    "enable_saving_to_disk = False\n",
    "\n",
    "global_data_root_parent_path = find_first_extant_path([Path(r'W:\\Data'), Path(r'/media/MAX/Data'), Path(r'/Volumes/MoverNew/data'), Path(r'/home/halechr/turbo/Data')])\n",
    "assert global_data_root_parent_path.exists(), f\"global_data_root_parent_path: {global_data_root_parent_path} does not exist! Is the right computer's config commented out above?\""
   ]
  },
  {
   "attachments": {},
   "cell_type": "markdown",
   "id": "a1538e2a-4e39-4d11-90b5-a9fef9258058",
   "metadata": {
    "tags": [
     "REQUIRED",
     "ACTIVE"
    ]
   },
   "source": [
    "# Load Pipeline"
   ]
  },
  {
   "cell_type": "code",
   "execution_count": 2,
   "id": "f917bad9-8fe7-4882-b83b-71cf878fffd2",
   "metadata": {
    "tags": [
     "load",
     "REQUIRED"
    ]
   },
   "outputs": [],
   "source": [
    "# ==================================================================================================================== #\n",
    "# Load Data                                                                                                            #\n",
    "# ==================================================================================================================== #\n",
    "\n",
    "active_data_mode_name = 'kdiba'\n",
    "\n",
    "## Data must be pre-processed using the MATLAB script located here: \n",
    "#     neuropy/data_session_pre_processing_scripts/KDIBA/IIDataMat_Export_ToPython_2022_08_01.m\n",
    "# From pre-computed .mat files:\n",
    "\n",
    "local_session_root_parent_context = IdentifyingContext(format_name=active_data_mode_name) # , animal_name='', configuration_name='one', session_name=self.session_name\n",
    "local_session_root_parent_path = global_data_root_parent_path.joinpath('KDIBA')\n",
    "\n",
    "good_contexts_list = [IdentifyingContext(format_name='kdiba',animal='gor01',exper_name='one',session_name='2006-6-08_14-26-15'),\n",
    "    IdentifyingContext(format_name='kdiba',animal='gor01',exper_name='one',session_name='2006-6-09_1-22-43'),\n",
    "    IdentifyingContext(format_name='kdiba',animal='gor01',exper_name='one',session_name='2006-6-12_15-55-31'),\n",
    "    IdentifyingContext(format_name='kdiba',animal='gor01',exper_name='two',session_name='2006-6-08_21-16-25'),\n",
    "    IdentifyingContext(format_name='kdiba',animal='gor01',exper_name='two',session_name='2006-6-09_22-24-40'),\n",
    "    IdentifyingContext(format_name='kdiba',animal='gor01',exper_name='two',session_name='2006-6-12_16-53-46'),\n",
    "    IdentifyingContext(format_name='kdiba',animal='gor01',exper_name='two',session_name='2006-6-13_15-22-3'),\n",
    "    IdentifyingContext(format_name='kdiba',animal='vvp01',exper_name='one',session_name='2006-4-09_17-29-30'),\n",
    "    IdentifyingContext(format_name='kdiba',animal='vvp01',exper_name='one',session_name='2006-4-17_12-33-47'),\n",
    "    IdentifyingContext(format_name='kdiba',animal='vvp01',exper_name='one',session_name='2006-4-18_13-6-1'),\n",
    "    IdentifyingContext(format_name='kdiba',animal='vvp01',exper_name='one',session_name='2006-4-18_15-23-32'),\n",
    "    IdentifyingContext(format_name='kdiba',animal='vvp01',exper_name='one',session_name='2006-4-19_13-34-40'),\n",
    "    IdentifyingContext(format_name='kdiba',animal='vvp01',exper_name='one',session_name='2006-4-27_14-43-12'),\n",
    "    IdentifyingContext(format_name='kdiba',animal='vvp01',exper_name='two',session_name='2006-4-09_16-40-54'),\n",
    "    IdentifyingContext(format_name='kdiba',animal='vvp01',exper_name='two',session_name='2006-4-10_12-58-3'),\n",
    "    IdentifyingContext(format_name='kdiba',animal='vvp01',exper_name='two',session_name='2006-4-11_12-48-38'),\n",
    "    IdentifyingContext(format_name='kdiba',animal='vvp01',exper_name='two',session_name='2006-4-11_16-2-46'),\n",
    "    IdentifyingContext(format_name='kdiba',animal='vvp01',exper_name='two',session_name='2006-4-12_15-25-59'),\n",
    "    IdentifyingContext(format_name='kdiba',animal='vvp01',exper_name='two',session_name='2006-4-16_14-49-24'),\n",
    "    IdentifyingContext(format_name='kdiba',animal='vvp01',exper_name='two',session_name='2006-4-16_18-47-52'),\n",
    "    IdentifyingContext(format_name='kdiba',animal='vvp01',exper_name='two',session_name='2006-4-17_12-52-15'),\n",
    "    IdentifyingContext(format_name='kdiba',animal='vvp01',exper_name='two',session_name='2006-4-19_13-50-7'),\n",
    "    IdentifyingContext(format_name='kdiba',animal='vvp01',exper_name='two',session_name='2006-4-25_13-20-55'),\n",
    "    IdentifyingContext(format_name='kdiba',animal='vvp01',exper_name='two',session_name='2006-4-26_13-51-50'),\n",
    "    IdentifyingContext(format_name='kdiba',animal='pin01',exper_name='one',session_name='11-02_17-46-44'),\n",
    "    IdentifyingContext(format_name='kdiba',animal='pin01',exper_name='one',session_name='11-02_19-28-0'),\n",
    "    IdentifyingContext(format_name='kdiba',animal='pin01',exper_name='one',session_name='11-03_12-3-25'),\n",
    "    IdentifyingContext(format_name='kdiba',animal='pin01',exper_name='one',session_name='11-03_21-26-8'),\n",
    "    IdentifyingContext(format_name='kdiba',animal='pin01',exper_name='one',session_name='11-05_19-26-43'),\n",
    "    IdentifyingContext(format_name='kdiba',animal='pin01',exper_name='one',session_name='11-09_21-17-16'),\n",
    "    IdentifyingContext(format_name='kdiba',animal='pin01',exper_name='one',session_name='11-09_22-4-5'),\n",
    "    IdentifyingContext(format_name='kdiba',animal='pin01',exper_name='one',session_name='fet11-01_12-58-54'),\n",
    "    IdentifyingContext(format_name='kdiba',animal='pin01',exper_name='one',session_name='fet11-04_21-20-3')]\n"
   ]
  },
  {
   "cell_type": "code",
   "execution_count": 3,
   "id": "d13e68b4-03e0-4388-a35c-87a352a6e6b3",
   "metadata": {
    "scrolled": true,
    "tags": [
     "load",
     "single_session",
     "REQUIRED"
    ]
   },
   "outputs": [
    {
     "name": "stdout",
     "output_type": "stream",
     "text": [
      "Automatic pdb calling has been turned OFF\n",
      "basedir: W:\\Data\\KDIBA\\gor01\\one\\2006-6-08_14-26-15\n",
      "Skipping loading from pickled file because force_reload == True.\n",
      "Loading matlab import file results : W:\\Data\\KDIBA\\gor01\\one\\2006-6-08_14-26-15\\2006-6-08_14-26-15.epochs_info.mat... done.\n",
      "Loading matlab import file results : W:\\Data\\KDIBA\\gor01\\one\\2006-6-08_14-26-15\\2006-6-08_14-26-15.position_info.mat... done.\n",
      "Loading matlab import file results : W:\\Data\\KDIBA\\gor01\\one\\2006-6-08_14-26-15\\2006-6-08_14-26-15.spikes.mat... "
     ]
    },
    {
     "name": "stderr",
     "output_type": "stream",
     "text": [
      "C:\\Users\\pho\\repos\\Spike3DWorkEnv\\NeuroPy\\neuropy\\core\\session\\Formats\\SessionSpecifications.py:140: UserWarning: WARNING: Optional File: W:\\Data\\KDIBA\\gor01\\one\\2006-6-08_14-26-15\\2006-6-08_14-26-15.dat does not exist. Continuing without it.\n",
      "  warnings.warn(f'WARNING: Optional File: {an_optional_filepath} does not exist. Continuing without it.')\n"
     ]
    },
    {
     "name": "stdout",
     "output_type": "stream",
     "text": [
      "done.\n",
      "Failure loading .position.npy. Must recompute.\n",
      "\n",
      "Computing linear positions for all active epochs for session... Saving updated position results results : W:\\Data\\KDIBA\\gor01\\one\\2006-6-08_14-26-15\\2006-6-08_14-26-15.position.npy... 2006-6-08_14-26-15.position.npy saved\n",
      "done.\n",
      "\t force_recompute is True! Forcing recomputation of .interpolated_spike_positions.npy\n",
      "\n",
      "Computing interpolate_spike_positions columns results : spikes_df... done.\n",
      "\t Saving updated interpolated spike position results results : W:\\Data\\KDIBA\\gor01\\one\\2006-6-08_14-26-15\\2006-6-08_14-26-15.interpolated_spike_positions.npy... 2006-6-08_14-26-15.interpolated_spike_positions.npy saved\n",
      "done.\n",
      "Loading matlab import file results : W:\\Data\\KDIBA\\gor01\\one\\2006-6-08_14-26-15\\2006-6-08_14-26-15.laps_info.mat... done.\n",
      "setting laps object.\n",
      "session.laps loaded successfully!\n",
      "Loading matlab import file results : W:\\Data\\KDIBA\\gor01\\one\\2006-6-08_14-26-15\\2006-6-08_14-26-15.replay_info.mat... done.\n",
      "session.replays loaded successfully!\n",
      "Loading success: W:\\Data\\KDIBA\\gor01\\one\\2006-6-08_14-26-15\\ripple_df.pkl.\n",
      "Failure loading .mua.npy. Must recompute.\n",
      "\n",
      "computing neurons mua for session...\n",
      "\n",
      "Saving mua results results : W:\\Data\\KDIBA\\gor01\\one\\2006-6-08_14-26-15\\2006-6-08_14-26-15.mua.npy... 2006-6-08_14-26-15.mua.npy saved\n",
      "done.\n",
      "Failure loading .pbe.npy. Must recompute.\n",
      "\n",
      "computing PBE epochs for session...\n",
      "\n",
      "Saving pbe results results : W:\\Data\\KDIBA\\gor01\\one\\2006-6-08_14-26-15\\2006-6-08_14-26-15.pbe.npy... 2006-6-08_14-26-15.pbe.npy saved\n",
      "done.\n",
      "Computing spikes_df PBEs column results : spikes_df... done.\n",
      "Computing added spike scISI column results : spikes_df... done.\n",
      "POSTLOAD_estimate_laps_and_replays()...\n",
      "sane_midpoint_x: 119.48022705218361, hardcoded_track_midpoint_x: None, track_min_max_x: (22.736279243974774, 261.696733348342)\n",
      "hardcoded_track_midpoint_x is None, falling back to sane_midpoint_x... 119.48022705218361\n",
      "desc_crossings_x: (41,), asc_crossings_x: (41,)\n",
      "computing PBE epochs for session...\n",
      "\n",
      "computing estimated replay epochs for session...\n",
      "\n",
      "\t using KnownFilterEpochs.PBE as surrogate replays...\n",
      "\t curr_replays: 360\n",
      "skip_save_on_initial_load is True so resultant pipeline will not be saved to the pickle file.\n",
      "Applying session filter named \"maze1\"...\n",
      "Constraining to epoch with times (start: 0.0, end: 1211.5580800310709)\n",
      "computing neurons mua for session...\n",
      "\n"
     ]
    },
    {
     "name": "stderr",
     "output_type": "stream",
     "text": [
      "C:\\Users\\pho\\repos\\Spike3DWorkEnv\\NeuroPy\\neuropy\\core\\laps.py:65: SettingWithCopyWarning: \n",
      "A value is trying to be set on a copy of a slice from a DataFrame.\n",
      "Try using .loc[row_indexer,col_indexer] = value instead\n",
      "\n",
      "See the caveats in the documentation: https://pandas.pydata.org/pandas-docs/stable/user_guide/indexing.html#returning-a-view-versus-a-copy\n",
      "  laps_df[['lap_id']] = laps_df[['lap_id']].astype('int')\n",
      "C:\\Users\\pho\\repos\\Spike3DWorkEnv\\NeuroPy\\neuropy\\core\\laps.py:69: SettingWithCopyWarning: \n",
      "A value is trying to be set on a copy of a slice from a DataFrame.\n",
      "Try using .loc[row_indexer,col_indexer] = value instead\n",
      "\n",
      "See the caveats in the documentation: https://pandas.pydata.org/pandas-docs/stable/user_guide/indexing.html#returning-a-view-versus-a-copy\n",
      "  laps_df[['start_spike_index', 'end_spike_index']] = laps_df[['start_spike_index', 'end_spike_index']].astype('int')\n",
      "C:\\Users\\pho\\repos\\Spike3DWorkEnv\\NeuroPy\\neuropy\\core\\laps.py:70: SettingWithCopyWarning: \n",
      "A value is trying to be set on a copy of a slice from a DataFrame.\n",
      "Try using .loc[row_indexer,col_indexer] = value instead\n",
      "\n",
      "See the caveats in the documentation: https://pandas.pydata.org/pandas-docs/stable/user_guide/indexing.html#returning-a-view-versus-a-copy\n",
      "  laps_df['num_spikes'] = laps_df['end_spike_index'] - laps_df['start_spike_index']\n",
      "C:\\Users\\pho\\repos\\Spike3DWorkEnv\\NeuroPy\\neuropy\\core\\laps.py:73: SettingWithCopyWarning: \n",
      "A value is trying to be set on a copy of a slice from a DataFrame.\n",
      "Try using .loc[row_indexer,col_indexer] = value instead\n",
      "\n",
      "See the caveats in the documentation: https://pandas.pydata.org/pandas-docs/stable/user_guide/indexing.html#returning-a-view-versus-a-copy\n",
      "  laps_df['lap_dir'] = laps_df['lap_dir'].astype('int')\n",
      "C:\\Users\\pho\\repos\\Spike3DWorkEnv\\NeuroPy\\neuropy\\core\\laps.py:81: SettingWithCopyWarning: \n",
      "A value is trying to be set on a copy of a slice from a DataFrame.\n",
      "Try using .loc[row_indexer,col_indexer] = value instead\n",
      "\n",
      "See the caveats in the documentation: https://pandas.pydata.org/pandas-docs/stable/user_guide/indexing.html#returning-a-view-versus-a-copy\n",
      "  laps_df['label'] = laps_df['lap_id'].astype('str') # add the string \"label\" column\n"
     ]
    },
    {
     "name": "stdout",
     "output_type": "stream",
     "text": [
      "Applying session filter named \"maze2\"...\n",
      "Constraining to epoch with times (start: 1211.5580800310709, end: 2093.8978568242164)\n",
      "computing neurons mua for session...\n",
      "\n"
     ]
    },
    {
     "name": "stderr",
     "output_type": "stream",
     "text": [
      "C:\\Users\\pho\\repos\\Spike3DWorkEnv\\NeuroPy\\neuropy\\core\\laps.py:65: SettingWithCopyWarning: \n",
      "A value is trying to be set on a copy of a slice from a DataFrame.\n",
      "Try using .loc[row_indexer,col_indexer] = value instead\n",
      "\n",
      "See the caveats in the documentation: https://pandas.pydata.org/pandas-docs/stable/user_guide/indexing.html#returning-a-view-versus-a-copy\n",
      "  laps_df[['lap_id']] = laps_df[['lap_id']].astype('int')\n",
      "C:\\Users\\pho\\repos\\Spike3DWorkEnv\\NeuroPy\\neuropy\\core\\laps.py:69: SettingWithCopyWarning: \n",
      "A value is trying to be set on a copy of a slice from a DataFrame.\n",
      "Try using .loc[row_indexer,col_indexer] = value instead\n",
      "\n",
      "See the caveats in the documentation: https://pandas.pydata.org/pandas-docs/stable/user_guide/indexing.html#returning-a-view-versus-a-copy\n",
      "  laps_df[['start_spike_index', 'end_spike_index']] = laps_df[['start_spike_index', 'end_spike_index']].astype('int')\n",
      "C:\\Users\\pho\\repos\\Spike3DWorkEnv\\NeuroPy\\neuropy\\core\\laps.py:70: SettingWithCopyWarning: \n",
      "A value is trying to be set on a copy of a slice from a DataFrame.\n",
      "Try using .loc[row_indexer,col_indexer] = value instead\n",
      "\n",
      "See the caveats in the documentation: https://pandas.pydata.org/pandas-docs/stable/user_guide/indexing.html#returning-a-view-versus-a-copy\n",
      "  laps_df['num_spikes'] = laps_df['end_spike_index'] - laps_df['start_spike_index']\n",
      "C:\\Users\\pho\\repos\\Spike3DWorkEnv\\NeuroPy\\neuropy\\core\\laps.py:73: SettingWithCopyWarning: \n",
      "A value is trying to be set on a copy of a slice from a DataFrame.\n",
      "Try using .loc[row_indexer,col_indexer] = value instead\n",
      "\n",
      "See the caveats in the documentation: https://pandas.pydata.org/pandas-docs/stable/user_guide/indexing.html#returning-a-view-versus-a-copy\n",
      "  laps_df['lap_dir'] = laps_df['lap_dir'].astype('int')\n",
      "C:\\Users\\pho\\repos\\Spike3DWorkEnv\\NeuroPy\\neuropy\\core\\laps.py:81: SettingWithCopyWarning: \n",
      "A value is trying to be set on a copy of a slice from a DataFrame.\n",
      "Try using .loc[row_indexer,col_indexer] = value instead\n",
      "\n",
      "See the caveats in the documentation: https://pandas.pydata.org/pandas-docs/stable/user_guide/indexing.html#returning-a-view-versus-a-copy\n",
      "  laps_df['label'] = laps_df['lap_id'].astype('str') # add the string \"label\" column\n"
     ]
    },
    {
     "name": "stdout",
     "output_type": "stream",
     "text": [
      "Applying session filter named \"maze\"...\n",
      "Constraining to epoch with times (start: 0.0, end: 2093.8978568242164)\n",
      "computing neurons mua for session...\n",
      "\n"
     ]
    },
    {
     "name": "stderr",
     "output_type": "stream",
     "text": [
      "C:\\Users\\pho\\repos\\Spike3DWorkEnv\\NeuroPy\\neuropy\\core\\laps.py:65: SettingWithCopyWarning: \n",
      "A value is trying to be set on a copy of a slice from a DataFrame.\n",
      "Try using .loc[row_indexer,col_indexer] = value instead\n",
      "\n",
      "See the caveats in the documentation: https://pandas.pydata.org/pandas-docs/stable/user_guide/indexing.html#returning-a-view-versus-a-copy\n",
      "  laps_df[['lap_id']] = laps_df[['lap_id']].astype('int')\n",
      "C:\\Users\\pho\\repos\\Spike3DWorkEnv\\NeuroPy\\neuropy\\core\\laps.py:69: SettingWithCopyWarning: \n",
      "A value is trying to be set on a copy of a slice from a DataFrame.\n",
      "Try using .loc[row_indexer,col_indexer] = value instead\n",
      "\n",
      "See the caveats in the documentation: https://pandas.pydata.org/pandas-docs/stable/user_guide/indexing.html#returning-a-view-versus-a-copy\n",
      "  laps_df[['start_spike_index', 'end_spike_index']] = laps_df[['start_spike_index', 'end_spike_index']].astype('int')\n",
      "C:\\Users\\pho\\repos\\Spike3DWorkEnv\\NeuroPy\\neuropy\\core\\laps.py:70: SettingWithCopyWarning: \n",
      "A value is trying to be set on a copy of a slice from a DataFrame.\n",
      "Try using .loc[row_indexer,col_indexer] = value instead\n",
      "\n",
      "See the caveats in the documentation: https://pandas.pydata.org/pandas-docs/stable/user_guide/indexing.html#returning-a-view-versus-a-copy\n",
      "  laps_df['num_spikes'] = laps_df['end_spike_index'] - laps_df['start_spike_index']\n",
      "C:\\Users\\pho\\repos\\Spike3DWorkEnv\\NeuroPy\\neuropy\\core\\laps.py:73: SettingWithCopyWarning: \n",
      "A value is trying to be set on a copy of a slice from a DataFrame.\n",
      "Try using .loc[row_indexer,col_indexer] = value instead\n",
      "\n",
      "See the caveats in the documentation: https://pandas.pydata.org/pandas-docs/stable/user_guide/indexing.html#returning-a-view-versus-a-copy\n",
      "  laps_df['lap_dir'] = laps_df['lap_dir'].astype('int')\n",
      "C:\\Users\\pho\\repos\\Spike3DWorkEnv\\NeuroPy\\neuropy\\core\\laps.py:81: SettingWithCopyWarning: \n",
      "A value is trying to be set on a copy of a slice from a DataFrame.\n",
      "Try using .loc[row_indexer,col_indexer] = value instead\n",
      "\n",
      "See the caveats in the documentation: https://pandas.pydata.org/pandas-docs/stable/user_guide/indexing.html#returning-a-view-versus-a-copy\n",
      "  laps_df['label'] = laps_df['lap_id'].astype('str') # add the string \"label\" column\n"
     ]
    },
    {
     "name": "stdout",
     "output_type": "stream",
     "text": [
      "using provided computation_functions_name_whitelist: ['_perform_baseline_placefield_computation', '_perform_extended_statistics_computation', '_perform_position_decoding_computation', '_perform_firing_rate_trends_computation', '_perform_pf_find_ratemap_peaks_computation', '_perform_two_step_position_decoding_computation']\n",
      "due to whitelist, including only 6 out of 16 registered computation functions.\n",
      "Recomputing active_epoch_placefields... using self.config.grid_bin_bounds_1D: (29.16, 261.7)\n",
      "\t done.\n",
      "Recomputing active_epoch_placefields2D... using self.config.grid_bin_bounds: ((29.16, 261.7), (130.23, 150.99))\n",
      "\t done.\n",
      "WARNING: PREVIOUSLY ASSERT: \n",
      "\t spikes_df[time_variable_name]: (18889,) should be less than time_window_edges: (35888,)!\n",
      "WARNING: PREVIOUSLY ASSERT: \n",
      "\t spikes_df[time_variable_name]: (18889,) should be less than time_window_edges: (35888,)!\n"
     ]
    },
    {
     "name": "stderr",
     "output_type": "stream",
     "text": [
      "C:\\Users\\pho\\repos\\Spike3DWorkEnv\\pyPhoPlaceCellAnalysis\\src\\pyphoplacecellanalysis\\Analysis\\Decoder\\reconstruction.py:363: RuntimeWarning: divide by zero encountered in divide\n",
      "  return C * np.exp(numerator/denominator)\n"
     ]
    },
    {
     "name": "stdout",
     "output_type": "stream",
     "text": [
      "two_step_decoder_result['most_likely_position_flat_max_likelihood_values'].shape = (36245,)\n",
      "updating computation_results...\n",
      "done.\n",
      "due to whitelist, including only 6 out of 16 registered computation functions.\n",
      "Recomputing active_epoch_placefields... using self.config.grid_bin_bounds_1D: (29.16, 261.7)\n",
      "\t done.\n",
      "Recomputing active_epoch_placefields2D... using self.config.grid_bin_bounds: ((29.16, 261.7), (130.23, 150.99))\n",
      "\t done.\n",
      "WARNING: PREVIOUSLY ASSERT: \n",
      "\t spikes_df[time_variable_name]: (15536,) should be less than time_window_edges: (24908,)!\n",
      "WARNING: PREVIOUSLY ASSERT: \n",
      "\t spikes_df[time_variable_name]: (15536,) should be less than time_window_edges: (24908,)!\n",
      "two_step_decoder_result['most_likely_position_flat_max_likelihood_values'].shape = (25155,)\n",
      "updating computation_results...\n",
      "done.\n",
      "due to whitelist, including only 6 out of 16 registered computation functions.\n",
      "Recomputing active_epoch_placefields... using self.config.grid_bin_bounds_1D: (29.16, 261.7)\n",
      "\t done.\n",
      "Recomputing active_epoch_placefields2D... using self.config.grid_bin_bounds: ((29.16, 261.7), (130.23, 150.99))\n",
      "\t done.\n",
      "WARNING: PREVIOUSLY ASSERT: \n",
      "\t spikes_df[time_variable_name]: (34425,) should be less than time_window_edges: (61921,)!\n",
      "WARNING: PREVIOUSLY ASSERT: \n",
      "\t spikes_df[time_variable_name]: (34425,) should be less than time_window_edges: (61921,)!\n",
      "two_step_decoder_result['most_likely_position_flat_max_likelihood_values'].shape = (62539,)\n",
      "updating computation_results...\n",
      "done.\n",
      "finalized_loaded_sess_pickle_path: W:\\Data\\KDIBA\\gor01\\one\\2006-6-08_14-26-15\\loadedSessPickle.pkl\n",
      "Saving (file mode 'w+b') saved session pickle file results : W:\\Data\\KDIBA\\gor01\\one\\2006-6-08_14-26-15\\20230605143115-loadedSessPickle.pkl... done.\n",
      "WARNING: prev_extant_file_size_MB (30636.83549308777 MB) > new_temporary_file_size_MB (7610.929664611816 MB)! A backup will be made!\n",
      "'W:\\Data\\KDIBA\\gor01\\one\\2006-6-08_14-26-15\\loadedSessPickle.pkl' backing up -> to_file: 'W:\\Data\\KDIBA\\gor01\\one\\2006-6-08_14-26-15\\backup-20230605143123-loadedSessPickle.pkl.bak'\n",
      "moving new output at 'W:\\Data\\KDIBA\\gor01\\one\\2006-6-08_14-26-15\\20230605143115-loadedSessPickle.pkl' -> to desired location: 'W:\\Data\\KDIBA\\gor01\\one\\2006-6-08_14-26-15\\loadedSessPickle.pkl'\n"
     ]
    }
   ],
   "source": [
    "%pdb off\n",
    "# %%viztracer\n",
    "# [*] - indicates bad or session with a problem\n",
    "# 0, 1, 2, 3, 4, 5, 6, 7, [8], [9], 10, 11, [12], 13, 14, [15], [16], 17, \n",
    "curr_context = good_contexts_list[0] # select the session from all of the good sessions here.\n",
    "local_session_parent_path = local_session_root_parent_path.joinpath(curr_context.animal, curr_context.exper_name) # 'gor01', 'one' - probably not needed anymore\n",
    "basedir = local_session_parent_path.joinpath(curr_context.session_name).resolve()\n",
    "print(f'basedir: {str(basedir)}')\n",
    "\n",
    "# # Read if possible:\n",
    "# saving_mode = PipelineSavingScheme.SKIP_SAVING\n",
    "# force_reload = False\n",
    "\n",
    "# #Force write:\n",
    "saving_mode = PipelineSavingScheme.TEMP_THEN_OVERWRITE\n",
    "# saving_mode = PipelineSavingScheme.OVERWRITE_IN_PLACE \n",
    "force_reload = True\n",
    "\n",
    "    # ==================================================================================================================== #\n",
    "    # Load Pipeline                                                                                                        #\n",
    "    # ==================================================================================================================== #\n",
    "# with VizTracer(output_file=f\"viztracer_{get_now_time_str()}-full_session_LOO_decoding_analysis.json\", min_duration=200, tracer_entries=3000000, ignore_frozen=True) as tracer:\n",
    "# epoch_name_whitelist = ['maze']\n",
    "epoch_name_whitelist = None\n",
    "active_computation_functions_name_whitelist=[#'_perform_estimated_epochs_computation', \n",
    "                                            '_perform_baseline_placefield_computation',\n",
    "                                        # '_perform_time_dependent_placefield_computation',\n",
    "                                        '_perform_extended_statistics_computation',\n",
    "                                        '_perform_position_decoding_computation', \n",
    "                                        '_perform_firing_rate_trends_computation',\n",
    "                                        '_perform_pf_find_ratemap_peaks_computation',\n",
    "                                        # '_perform_time_dependent_pf_sequential_surprise_computation'\n",
    "                                        '_perform_two_step_position_decoding_computation',\n",
    "                                        # '_perform_recursive_latent_placefield_decoding'\n",
    "                                    ]\n",
    "# active_computation_functions_name_whitelist=['_perform_baseline_placefield_computation']\n",
    "\n",
    "curr_active_pipeline = batch_load_session(global_data_root_parent_path, active_data_mode_name, basedir, epoch_name_whitelist=epoch_name_whitelist,\n",
    "                                        computation_functions_name_whitelist=active_computation_functions_name_whitelist,\n",
    "                                        saving_mode=saving_mode, force_reload=force_reload,\n",
    "                                        skip_extended_batch_computations=True, debug_print=False, fail_on_exception=True) # , active_pickle_filename = 'loadedSessPickle_withParameters.pkl'\n",
    "\n",
    "if not force_reload: # not just force_reload, needs to recompute whenever the computation fails.\n",
    "    try:\n",
    "        curr_active_pipeline.load_pickled_global_computation_results()\n",
    "    except Exception as e:\n",
    "        print(f'cannot load global results: {e}')\n",
    "\n",
    "# 6m 1.1s\n",
    "# 12m 15.6s\n"
   ]
  },
  {
   "cell_type": "code",
   "execution_count": 4,
   "id": "3a29b890",
   "metadata": {
    "tags": []
   },
   "outputs": [
    {
     "name": "stdout",
     "output_type": "stream",
     "text": [
      "were pipeline preprocessing parameters missing and updated?: False\n"
     ]
    }
   ],
   "source": [
    "## Post Compute Validate 2023-05-16:\n",
    "from scripts.run_BatchAnalysis import post_compute_validate\n",
    "\n",
    "post_compute_validate(curr_active_pipeline)"
   ]
  },
  {
   "cell_type": "code",
   "execution_count": 5,
   "id": "b7f4bc79",
   "metadata": {
    "tags": []
   },
   "outputs": [
    {
     "name": "stdout",
     "output_type": "stream",
     "text": [
      "included whitelist is specified: ['long_short_fr_indicies_analyses', 'jonathan_firing_rate_analysis', 'long_short_decoding_analyses', 'long_short_post_decoding'], so only performing these extended computations.\n",
      "Running batch_extended_computations(...) with global_epoch_name: \"maze\"\n",
      "jonathan_firing_rate_analysis missing.\n",
      "\t Recomputing jonathan_firing_rate_analysis...\n",
      "\t done.\n",
      "long_short_fr_indicies_analyses missing.\n",
      "\t Recomputing long_short_fr_indicies_analyses...\n",
      "\t done.\n",
      "long_short_decoding_analyses missing.\n",
      "\t Recomputing long_short_decoding_analyses...\n",
      "sane_midpoint_x: 119.48022705218361, hardcoded_track_midpoint_x: None, track_min_max_x: (22.736279243974774, 261.696733348342)\n",
      "hardcoded_track_midpoint_x is None, falling back to sane_midpoint_x... 119.48022705218361\n",
      "desc_crossings_x: (20,), asc_crossings_x: (20,)\n",
      "setting new computation epochs because laps changed.\n",
      "using self.config.grid_bin_bounds_1D: (29.16, 261.7)\n",
      "using self.config.grid_bin_bounds: ((29.16, 261.7), (130.23, 150.99))\n",
      "Performing run_specific_computations_single_context on filtered_session with filter named \"maze1\"...\n",
      "Performing _execute_computation_functions(...) with 1 registered_computation_functions...\n",
      "WARNING: PREVIOUSLY ASSERT: \n",
      "\t spikes_df[time_variable_name]: (18889,) should be less than time_window_edges: (35888,)!\n",
      "WARNING: PREVIOUSLY ASSERT: \n",
      "\t spikes_df[time_variable_name]: (18889,) should be less than time_window_edges: (35888,)!\n",
      "_execute_computation_functions(...): \n",
      "\taccumulated_errors: None\n",
      "Performing run_specific_computations_single_context on filtered_session with filter named \"maze2\"...\n",
      "Performing _execute_computation_functions(...) with 1 registered_computation_functions...\n",
      "WARNING: PREVIOUSLY ASSERT: \n",
      "\t spikes_df[time_variable_name]: (15536,) should be less than time_window_edges: (24908,)!\n",
      "WARNING: PREVIOUSLY ASSERT: \n",
      "\t spikes_df[time_variable_name]: (15536,) should be less than time_window_edges: (24908,)!\n",
      "_execute_computation_functions(...): \n",
      "\taccumulated_errors: None\n",
      "self will be re-binned to match target_one_step_decoder...\n",
      "WARNING: PREVIOUSLY ASSERT: \n",
      "\t spikes_df[time_variable_name]: (15536,) should be less than time_window_edges: (24908,)!\n",
      "WARNING: PREVIOUSLY ASSERT: \n",
      "\t spikes_df[time_variable_name]: (15536,) should be less than time_window_edges: (24908,)!\n",
      "Performing run_specific_computations_single_context on filtered_session with filter named \"maze1\"...\n",
      "Performing _execute_computation_functions(...) with 1 registered_computation_functions...\n",
      "WARNING: PREVIOUSLY ASSERT: \n",
      "\t spikes_df[time_variable_name]: (18889,) should be less than time_window_edges: (35888,)!\n",
      "WARNING: PREVIOUSLY ASSERT: \n",
      "\t spikes_df[time_variable_name]: (18889,) should be less than time_window_edges: (35888,)!\n",
      "_execute_computation_functions(...): \n",
      "\taccumulated_errors: None\n",
      "Performing run_specific_computations_single_context on filtered_session with filter named \"maze2\"...\n",
      "Performing _execute_computation_functions(...) with 1 registered_computation_functions...\n",
      "WARNING: PREVIOUSLY ASSERT: \n",
      "\t spikes_df[time_variable_name]: (15536,) should be less than time_window_edges: (24908,)!\n",
      "WARNING: PREVIOUSLY ASSERT: \n",
      "\t spikes_df[time_variable_name]: (15536,) should be less than time_window_edges: (24908,)!\n",
      "_execute_computation_functions(...): \n",
      "\taccumulated_errors: None\n",
      "self will be re-binned to match target_one_step_decoder...\n",
      "WARNING: PREVIOUSLY ASSERT: \n",
      "\t spikes_df[time_variable_name]: (15536,) should be less than time_window_edges: (24908,)!\n",
      "WARNING: PREVIOUSLY ASSERT: \n",
      "\t spikes_df[time_variable_name]: (15536,) should be less than time_window_edges: (24908,)!\n",
      "reusing extant decoder.\n",
      "USING EXISTING original_1D_decoder.\n",
      "(n_neurons = 30, n_all_epoch_timebins = 736)\n",
      "reusing extant decoder.\n",
      "USING EXISTING original_1D_decoder.\n",
      "(n_neurons = 30, n_all_epoch_timebins = 736)\n",
      "\t done.\n",
      "long_short_post_decoding missing.\n",
      "\t Recomputing long_short_post_decoding...\n",
      "num_neurons: 30, num_epochs: 120, num_total_flat_timebins: 736\n",
      "num_neurons: 30, num_epochs: 120, num_total_flat_timebins: 736\n",
      "returned_shape_tuple_LONG: (30, array([7, 7, 8, 7, 5, 6, 8, 5, 7, 6, 5, 6, 5, 7, 5, 5, 6, 7, 5, 5, 6, 5,\n",
      "       8, 7, 7, 6, 8, 6, 6, 5, 7, 6, 5, 5, 5, 7, 5, 6, 5, 6, 6, 6, 5, 5,\n",
      "       5, 5, 5, 5, 6, 5, 7, 7, 5, 7, 7, 8, 5, 5, 6, 6, 8, 6, 7, 6, 5, 6,\n",
      "       7, 6, 6, 7, 6, 7, 6, 7, 5, 7, 5, 7, 6, 5, 7, 6, 6, 6, 5, 5, 7, 6,\n",
      "       7, 6, 5, 7, 7, 7, 7, 7, 7, 7, 6, 8, 7, 7, 5, 5, 7, 5, 5, 7, 5, 6,\n",
      "       5, 7, 7, 7, 6, 6, 6, 7, 5, 8], dtype=int64), 736), returned_shape_tuple_SHORT: (30, array([7, 7, 8, 7, 5, 6, 8, 5, 7, 6, 5, 6, 5, 7, 5, 5, 6, 7, 5, 5, 6, 5,\n",
      "       8, 7, 7, 6, 8, 6, 6, 5, 7, 6, 5, 5, 5, 7, 5, 6, 5, 6, 6, 6, 5, 5,\n",
      "       5, 5, 5, 5, 6, 5, 7, 7, 5, 7, 7, 8, 5, 5, 6, 6, 8, 6, 7, 6, 5, 6,\n",
      "       7, 6, 6, 7, 6, 7, 6, 7, 5, 7, 5, 7, 6, 5, 7, 6, 6, 6, 5, 5, 7, 6,\n",
      "       7, 6, 5, 7, 7, 7, 7, 7, 7, 7, 6, 8, 7, 7, 5, 5, 7, 5, 5, 7, 5, 6,\n",
      "       5, 7, 7, 7, 6, 6, 6, 7, 5, 8], dtype=int64), 736)\n",
      "long_test: -0.013596148287609713\n",
      "short_test: 0.012362980494025145\n",
      "\t done.\n",
      "done with all batch_extended_computations(...).\n",
      "newly_computed_values: ['jonathan_firing_rate_analysis', 'long_short_fr_indicies_analyses', 'long_short_decoding_analyses', 'long_short_post_decoding']. Saving global results...\n",
      "global_computation_results_pickle_path: W:\\Data\\KDIBA\\gor01\\one\\2006-6-08_14-26-15\\output\\global_computation_results.pkl\n",
      "Saving (file mode 'w+b') saved session pickle file results : W:\\Data\\KDIBA\\gor01\\one\\2006-6-08_14-26-15\\output\\global_computation_results.pkl... done.\n"
     ]
    }
   ],
   "source": [
    "# 2023-01-* - Call extended computations to build `_display_short_long_firing_rate_index_comparison` figures:\n",
    "curr_active_pipeline.reload_default_computation_functions()\n",
    "extended_computations_include_whitelist=['long_short_fr_indicies_analyses', 'jonathan_firing_rate_analysis', 'long_short_decoding_analyses', 'long_short_post_decoding'] # do only specifiedl , 'long_short_rate_remapping'\n",
    "force_recompute_global = force_reload\n",
    "# extended_computations_include_whitelist=['long_short_post_decoding'] # do only specifiedl\n",
    "newly_computed_values = batch_extended_computations(curr_active_pipeline, include_whitelist=extended_computations_include_whitelist, include_global_functions=True, fail_on_exception=True, progress_print=True, force_recompute=force_recompute_global, debug_print=False)\n",
    "if len(newly_computed_values) > 0:\n",
    "\tprint(f'newly_computed_values: {newly_computed_values}. Saving global results...')\n",
    "\ttry:\n",
    "\t\t# Try to write out the global computation function results:\n",
    "\t\tcurr_active_pipeline.save_global_computation_results()\n",
    "\texcept Exception as e:\n",
    "\t\tprint(f'!!WARNING!!: saving the global results threw the exception: {e}')\n",
    "\t\tprint(f'\\tthe global results are currently unsaved! proceed with caution and save as soon as you can!')\n",
    "else:\n",
    "\tprint(f'no changes in global results.')\n",
    "# 10m 29.5s"
   ]
  },
  {
   "cell_type": "code",
   "execution_count": 6,
   "id": "d3e3c3f3",
   "metadata": {},
   "outputs": [
    {
     "name": "stdout",
     "output_type": "stream",
     "text": [
      "shared_aclus: [2, 3, 4, 5, 6, 7, 8, 9, 10, 11, 12, 13, 14, 15, 16, 17, 18, 19, 20, 21, 22, 24, 25, 26, 27, 28, 29, 30, 31, 32, 33, 34, 35, 36, 37, 38, 39, 40, 41, 42, 43, 44, 45, 46, 47, 48, 49, 50, 51, 52, 55, 56, 59, 60, 61, 62, 64, 65, 67, 69, 70, 71, 72, 73, 75, 76, 77, 78, 79, 80, 81, 83, 84, 85, 86, 88, 89, 90, 91, 92, 93, 94, 95, 96, 97, 98, 99, 100, 101, 102, 103, 104, 105, 106, 107]\n",
      "long_only_aclus: [54, 57, 63, 68, 74, 82, 87, 108, 109]\n",
      "short_only_aclus: [23, 53, 58, 66]\n",
      "curr_session_parent_out_path: C:\\Users\\pho\\repos\\Spike3DWorkEnv\\Spike3D\\EXTERNAL\\Screenshots\\ProgrammaticDisplayFunctionTesting\\2023-06-05\\kdiba\\gor01\\one\\2006-6-08_14-26-15\n",
      "shared_aclus: [2, 3, 4, 5, 6, 7, 8, 9, 10, 11, 12, 13, 14, 15, 16, 17, 18, 19, 20, 21, 22, 24, 25, 26, 27, 28, 29, 30, 31, 32, 33, 34, 35, 36, 37, 38, 39, 40, 41, 42, 43, 44, 45, 46, 47, 48, 49, 50, 51, 52, 55, 56, 59, 60, 61, 62, 64, 65, 67, 69, 70, 71, 72, 73, 75, 76, 77, 78, 79, 80, 81, 83, 84, 85, 86, 88, 89, 90, 91, 92, 93, 94, 95, 96, 97, 98, 99, 100, 101, 102, 103, 104, 105, 106, 107]\n",
      "long_only_aclus: [54, 57, 63, 68, 74, 82, 87, 108, 109]\n",
      "short_only_aclus: [23, 53, 58, 66]\n",
      "curr_session_parent_out_path: C:\\Users\\pho\\repos\\Spike3DWorkEnv\\Spike3D\\EXTERNAL\\Screenshots\\ProgrammaticDisplayFunctionTesting\\2023-06-05\\kdiba\\gor01\\one\\2006-6-08_14-26-15\n",
      "include_whitelist: ['maze1', 'maze2', 'maze']\n",
      "long_epoch_name: maze1, short_epoch_name: maze2, global_epoch_name: maze\n",
      "\t saved C:\\Users\\pho\\repos\\Spike3DWorkEnv\\Spike3D\\EXTERNAL\\Screenshots\\ProgrammaticDisplayFunctionTesting\\2023-06-05\\kdiba\\gor01\\one\\2006-6-08_14-26-15\\kdiba_gor01_one_2006-6-08_14-26-15_BatchPhoJonathanReplayFRC_long_only_[54, 57, 63, 68, 74, 82, 87, 108, 109].png\n",
      "include_whitelist: ['maze1', 'maze2', 'maze']\n",
      "long_epoch_name: maze1, short_epoch_name: maze2, global_epoch_name: maze\n",
      "WARNING: aclu 53 is not present in the pf1D_all ratemaps. Which contain aclus: [3, 5, 10, 14, 15, 23, 24, 25, 26, 31, 32, 33, 34, 41, 49, 50, 51, 54, 55, 57, 58, 61, 63, 68, 69, 74, 75, 76, 78, 82, 83, 86, 87, 88, 90, 92, 93, 96, 102, 108, 109]\n",
      "WARNING: aclu 66 is not present in the pf1D_all ratemaps. Which contain aclus: [3, 5, 10, 14, 15, 23, 24, 25, 26, 31, 32, 33, 34, 41, 49, 50, 51, 54, 55, 57, 58, 61, 63, 68, 69, 74, 75, 76, 78, 82, 83, 86, 87, 88, 90, 92, 93, 96, 102, 108, 109]\n",
      "\t saved C:\\Users\\pho\\repos\\Spike3DWorkEnv\\Spike3D\\EXTERNAL\\Screenshots\\ProgrammaticDisplayFunctionTesting\\2023-06-05\\kdiba\\gor01\\one\\2006-6-08_14-26-15\\kdiba_gor01_one_2006-6-08_14-26-15_BatchPhoJonathanReplayFRC_short_only_[23, 53, 58, 66].png\n",
      "include_whitelist: ['maze1', 'maze2', 'maze']\n",
      "long_epoch_name: maze1, short_epoch_name: maze2, global_epoch_name: maze\n",
      "WARNING: aclu 2 is not present in the pf1D_all ratemaps. Which contain aclus: [3, 5, 10, 14, 15, 23, 24, 25, 26, 31, 32, 33, 34, 41, 49, 50, 51, 54, 55, 57, 58, 61, 63, 68, 69, 74, 75, 76, 78, 82, 83, 86, 87, 88, 90, 92, 93, 96, 102, 108, 109]\n",
      "WARNING: aclu 4 is not present in the pf1D_all ratemaps. Which contain aclus: [3, 5, 10, 14, 15, 23, 24, 25, 26, 31, 32, 33, 34, 41, 49, 50, 51, 54, 55, 57, 58, 61, 63, 68, 69, 74, 75, 76, 78, 82, 83, 86, 87, 88, 90, 92, 93, 96, 102, 108, 109]\n",
      "WARNING: aclu 6 is not present in the pf1D_all ratemaps. Which contain aclus: [3, 5, 10, 14, 15, 23, 24, 25, 26, 31, 32, 33, 34, 41, 49, 50, 51, 54, 55, 57, 58, 61, 63, 68, 69, 74, 75, 76, 78, 82, 83, 86, 87, 88, 90, 92, 93, 96, 102, 108, 109]\n",
      "WARNING: aclu 7 is not present in the pf1D_all ratemaps. Which contain aclus: [3, 5, 10, 14, 15, 23, 24, 25, 26, 31, 32, 33, 34, 41, 49, 50, 51, 54, 55, 57, 58, 61, 63, 68, 69, 74, 75, 76, 78, 82, 83, 86, 87, 88, 90, 92, 93, 96, 102, 108, 109]\n",
      "WARNING: aclu 8 is not present in the pf1D_all ratemaps. Which contain aclus: [3, 5, 10, 14, 15, 23, 24, 25, 26, 31, 32, 33, 34, 41, 49, 50, 51, 54, 55, 57, 58, 61, 63, 68, 69, 74, 75, 76, 78, 82, 83, 86, 87, 88, 90, 92, 93, 96, 102, 108, 109]\n",
      "WARNING: aclu 9 is not present in the pf1D_all ratemaps. Which contain aclus: [3, 5, 10, 14, 15, 23, 24, 25, 26, 31, 32, 33, 34, 41, 49, 50, 51, 54, 55, 57, 58, 61, 63, 68, 69, 74, 75, 76, 78, 82, 83, 86, 87, 88, 90, 92, 93, 96, 102, 108, 109]\n",
      "WARNING: aclu 11 is not present in the pf1D_all ratemaps. Which contain aclus: [3, 5, 10, 14, 15, 23, 24, 25, 26, 31, 32, 33, 34, 41, 49, 50, 51, 54, 55, 57, 58, 61, 63, 68, 69, 74, 75, 76, 78, 82, 83, 86, 87, 88, 90, 92, 93, 96, 102, 108, 109]\n",
      "\t saved C:\\Users\\pho\\repos\\Spike3DWorkEnv\\Spike3D\\EXTERNAL\\Screenshots\\ProgrammaticDisplayFunctionTesting\\2023-06-05\\kdiba\\gor01\\one\\2006-6-08_14-26-15\\kdiba_gor01_one_2006-6-08_14-26-15_BatchPhoJonathanReplayFRC_shared_1of10_[2, 3, 4, 5, 6, 7, 8, 9, 10, 11].png\n",
      "include_whitelist: ['maze1', 'maze2', 'maze']\n",
      "long_epoch_name: maze1, short_epoch_name: maze2, global_epoch_name: maze\n",
      "WARNING: aclu 12 is not present in the pf1D_all ratemaps. Which contain aclus: [3, 5, 10, 14, 15, 23, 24, 25, 26, 31, 32, 33, 34, 41, 49, 50, 51, 54, 55, 57, 58, 61, 63, 68, 69, 74, 75, 76, 78, 82, 83, 86, 87, 88, 90, 92, 93, 96, 102, 108, 109]\n",
      "WARNING: aclu 13 is not present in the pf1D_all ratemaps. Which contain aclus: [3, 5, 10, 14, 15, 23, 24, 25, 26, 31, 32, 33, 34, 41, 49, 50, 51, 54, 55, 57, 58, 61, 63, 68, 69, 74, 75, 76, 78, 82, 83, 86, 87, 88, 90, 92, 93, 96, 102, 108, 109]\n",
      "WARNING: aclu 16 is not present in the pf1D_all ratemaps. Which contain aclus: [3, 5, 10, 14, 15, 23, 24, 25, 26, 31, 32, 33, 34, 41, 49, 50, 51, 54, 55, 57, 58, 61, 63, 68, 69, 74, 75, 76, 78, 82, 83, 86, 87, 88, 90, 92, 93, 96, 102, 108, 109]\n",
      "WARNING: aclu 17 is not present in the pf1D_all ratemaps. Which contain aclus: [3, 5, 10, 14, 15, 23, 24, 25, 26, 31, 32, 33, 34, 41, 49, 50, 51, 54, 55, 57, 58, 61, 63, 68, 69, 74, 75, 76, 78, 82, 83, 86, 87, 88, 90, 92, 93, 96, 102, 108, 109]\n",
      "WARNING: aclu 18 is not present in the pf1D_all ratemaps. Which contain aclus: [3, 5, 10, 14, 15, 23, 24, 25, 26, 31, 32, 33, 34, 41, 49, 50, 51, 54, 55, 57, 58, 61, 63, 68, 69, 74, 75, 76, 78, 82, 83, 86, 87, 88, 90, 92, 93, 96, 102, 108, 109]\n",
      "WARNING: aclu 19 is not present in the pf1D_all ratemaps. Which contain aclus: [3, 5, 10, 14, 15, 23, 24, 25, 26, 31, 32, 33, 34, 41, 49, 50, 51, 54, 55, 57, 58, 61, 63, 68, 69, 74, 75, 76, 78, 82, 83, 86, 87, 88, 90, 92, 93, 96, 102, 108, 109]\n",
      "WARNING: aclu 20 is not present in the pf1D_all ratemaps. Which contain aclus: [3, 5, 10, 14, 15, 23, 24, 25, 26, 31, 32, 33, 34, 41, 49, 50, 51, 54, 55, 57, 58, 61, 63, 68, 69, 74, 75, 76, 78, 82, 83, 86, 87, 88, 90, 92, 93, 96, 102, 108, 109]\n",
      "WARNING: aclu 21 is not present in the pf1D_all ratemaps. Which contain aclus: [3, 5, 10, 14, 15, 23, 24, 25, 26, 31, 32, 33, 34, 41, 49, 50, 51, 54, 55, 57, 58, 61, 63, 68, 69, 74, 75, 76, 78, 82, 83, 86, 87, 88, 90, 92, 93, 96, 102, 108, 109]\n",
      "\t saved C:\\Users\\pho\\repos\\Spike3DWorkEnv\\Spike3D\\EXTERNAL\\Screenshots\\ProgrammaticDisplayFunctionTesting\\2023-06-05\\kdiba\\gor01\\one\\2006-6-08_14-26-15\\kdiba_gor01_one_2006-6-08_14-26-15_BatchPhoJonathanReplayFRC_shared_2of10_[12, 13, 14, 15, 16, 17, 18, 19, 20, 21].png\n",
      "include_whitelist: ['maze1', 'maze2', 'maze']\n",
      "long_epoch_name: maze1, short_epoch_name: maze2, global_epoch_name: maze\n",
      "WARNING: aclu 22 is not present in the pf1D_all ratemaps. Which contain aclus: [3, 5, 10, 14, 15, 23, 24, 25, 26, 31, 32, 33, 34, 41, 49, 50, 51, 54, 55, 57, 58, 61, 63, 68, 69, 74, 75, 76, 78, 82, 83, 86, 87, 88, 90, 92, 93, 96, 102, 108, 109]\n",
      "WARNING: aclu 27 is not present in the pf1D_all ratemaps. Which contain aclus: [3, 5, 10, 14, 15, 23, 24, 25, 26, 31, 32, 33, 34, 41, 49, 50, 51, 54, 55, 57, 58, 61, 63, 68, 69, 74, 75, 76, 78, 82, 83, 86, 87, 88, 90, 92, 93, 96, 102, 108, 109]\n",
      "WARNING: aclu 28 is not present in the pf1D_all ratemaps. Which contain aclus: [3, 5, 10, 14, 15, 23, 24, 25, 26, 31, 32, 33, 34, 41, 49, 50, 51, 54, 55, 57, 58, 61, 63, 68, 69, 74, 75, 76, 78, 82, 83, 86, 87, 88, 90, 92, 93, 96, 102, 108, 109]\n",
      "WARNING: aclu 29 is not present in the pf1D_all ratemaps. Which contain aclus: [3, 5, 10, 14, 15, 23, 24, 25, 26, 31, 32, 33, 34, 41, 49, 50, 51, 54, 55, 57, 58, 61, 63, 68, 69, 74, 75, 76, 78, 82, 83, 86, 87, 88, 90, 92, 93, 96, 102, 108, 109]\n",
      "WARNING: aclu 30 is not present in the pf1D_all ratemaps. Which contain aclus: [3, 5, 10, 14, 15, 23, 24, 25, 26, 31, 32, 33, 34, 41, 49, 50, 51, 54, 55, 57, 58, 61, 63, 68, 69, 74, 75, 76, 78, 82, 83, 86, 87, 88, 90, 92, 93, 96, 102, 108, 109]\n",
      "\t saved C:\\Users\\pho\\repos\\Spike3DWorkEnv\\Spike3D\\EXTERNAL\\Screenshots\\ProgrammaticDisplayFunctionTesting\\2023-06-05\\kdiba\\gor01\\one\\2006-6-08_14-26-15\\kdiba_gor01_one_2006-6-08_14-26-15_BatchPhoJonathanReplayFRC_shared_3of10_[22, 24, 25, 26, 27, 28, 29, 30, 31, 32].png\n",
      "include_whitelist: ['maze1', 'maze2', 'maze']\n",
      "long_epoch_name: maze1, short_epoch_name: maze2, global_epoch_name: maze\n",
      "WARNING: aclu 35 is not present in the pf1D_all ratemaps. Which contain aclus: [3, 5, 10, 14, 15, 23, 24, 25, 26, 31, 32, 33, 34, 41, 49, 50, 51, 54, 55, 57, 58, 61, 63, 68, 69, 74, 75, 76, 78, 82, 83, 86, 87, 88, 90, 92, 93, 96, 102, 108, 109]\n",
      "WARNING: aclu 36 is not present in the pf1D_all ratemaps. Which contain aclus: [3, 5, 10, 14, 15, 23, 24, 25, 26, 31, 32, 33, 34, 41, 49, 50, 51, 54, 55, 57, 58, 61, 63, 68, 69, 74, 75, 76, 78, 82, 83, 86, 87, 88, 90, 92, 93, 96, 102, 108, 109]\n",
      "WARNING: aclu 37 is not present in the pf1D_all ratemaps. Which contain aclus: [3, 5, 10, 14, 15, 23, 24, 25, 26, 31, 32, 33, 34, 41, 49, 50, 51, 54, 55, 57, 58, 61, 63, 68, 69, 74, 75, 76, 78, 82, 83, 86, 87, 88, 90, 92, 93, 96, 102, 108, 109]\n",
      "WARNING: aclu 38 is not present in the pf1D_all ratemaps. Which contain aclus: [3, 5, 10, 14, 15, 23, 24, 25, 26, 31, 32, 33, 34, 41, 49, 50, 51, 54, 55, 57, 58, 61, 63, 68, 69, 74, 75, 76, 78, 82, 83, 86, 87, 88, 90, 92, 93, 96, 102, 108, 109]\n",
      "WARNING: aclu 39 is not present in the pf1D_all ratemaps. Which contain aclus: [3, 5, 10, 14, 15, 23, 24, 25, 26, 31, 32, 33, 34, 41, 49, 50, 51, 54, 55, 57, 58, 61, 63, 68, 69, 74, 75, 76, 78, 82, 83, 86, 87, 88, 90, 92, 93, 96, 102, 108, 109]\n",
      "WARNING: aclu 40 is not present in the pf1D_all ratemaps. Which contain aclus: [3, 5, 10, 14, 15, 23, 24, 25, 26, 31, 32, 33, 34, 41, 49, 50, 51, 54, 55, 57, 58, 61, 63, 68, 69, 74, 75, 76, 78, 82, 83, 86, 87, 88, 90, 92, 93, 96, 102, 108, 109]\n",
      "WARNING: aclu 42 is not present in the pf1D_all ratemaps. Which contain aclus: [3, 5, 10, 14, 15, 23, 24, 25, 26, 31, 32, 33, 34, 41, 49, 50, 51, 54, 55, 57, 58, 61, 63, 68, 69, 74, 75, 76, 78, 82, 83, 86, 87, 88, 90, 92, 93, 96, 102, 108, 109]\n",
      "\t saved C:\\Users\\pho\\repos\\Spike3DWorkEnv\\Spike3D\\EXTERNAL\\Screenshots\\ProgrammaticDisplayFunctionTesting\\2023-06-05\\kdiba\\gor01\\one\\2006-6-08_14-26-15\\kdiba_gor01_one_2006-6-08_14-26-15_BatchPhoJonathanReplayFRC_shared_4of10_[33, 34, 35, 36, 37, 38, 39, 40, 41, 42].png\n",
      "include_whitelist: ['maze1', 'maze2', 'maze']\n",
      "long_epoch_name: maze1, short_epoch_name: maze2, global_epoch_name: maze\n",
      "WARNING: aclu 43 is not present in the pf1D_all ratemaps. Which contain aclus: [3, 5, 10, 14, 15, 23, 24, 25, 26, 31, 32, 33, 34, 41, 49, 50, 51, 54, 55, 57, 58, 61, 63, 68, 69, 74, 75, 76, 78, 82, 83, 86, 87, 88, 90, 92, 93, 96, 102, 108, 109]\n",
      "WARNING: aclu 44 is not present in the pf1D_all ratemaps. Which contain aclus: [3, 5, 10, 14, 15, 23, 24, 25, 26, 31, 32, 33, 34, 41, 49, 50, 51, 54, 55, 57, 58, 61, 63, 68, 69, 74, 75, 76, 78, 82, 83, 86, 87, 88, 90, 92, 93, 96, 102, 108, 109]\n",
      "WARNING: aclu 45 is not present in the pf1D_all ratemaps. Which contain aclus: [3, 5, 10, 14, 15, 23, 24, 25, 26, 31, 32, 33, 34, 41, 49, 50, 51, 54, 55, 57, 58, 61, 63, 68, 69, 74, 75, 76, 78, 82, 83, 86, 87, 88, 90, 92, 93, 96, 102, 108, 109]\n",
      "WARNING: aclu 46 is not present in the pf1D_all ratemaps. Which contain aclus: [3, 5, 10, 14, 15, 23, 24, 25, 26, 31, 32, 33, 34, 41, 49, 50, 51, 54, 55, 57, 58, 61, 63, 68, 69, 74, 75, 76, 78, 82, 83, 86, 87, 88, 90, 92, 93, 96, 102, 108, 109]\n",
      "WARNING: aclu 47 is not present in the pf1D_all ratemaps. Which contain aclus: [3, 5, 10, 14, 15, 23, 24, 25, 26, 31, 32, 33, 34, 41, 49, 50, 51, 54, 55, 57, 58, 61, 63, 68, 69, 74, 75, 76, 78, 82, 83, 86, 87, 88, 90, 92, 93, 96, 102, 108, 109]\n",
      "WARNING: aclu 48 is not present in the pf1D_all ratemaps. Which contain aclus: [3, 5, 10, 14, 15, 23, 24, 25, 26, 31, 32, 33, 34, 41, 49, 50, 51, 54, 55, 57, 58, 61, 63, 68, 69, 74, 75, 76, 78, 82, 83, 86, 87, 88, 90, 92, 93, 96, 102, 108, 109]\n",
      "WARNING: aclu 52 is not present in the pf1D_all ratemaps. Which contain aclus: [3, 5, 10, 14, 15, 23, 24, 25, 26, 31, 32, 33, 34, 41, 49, 50, 51, 54, 55, 57, 58, 61, 63, 68, 69, 74, 75, 76, 78, 82, 83, 86, 87, 88, 90, 92, 93, 96, 102, 108, 109]\n",
      "\t saved C:\\Users\\pho\\repos\\Spike3DWorkEnv\\Spike3D\\EXTERNAL\\Screenshots\\ProgrammaticDisplayFunctionTesting\\2023-06-05\\kdiba\\gor01\\one\\2006-6-08_14-26-15\\kdiba_gor01_one_2006-6-08_14-26-15_BatchPhoJonathanReplayFRC_shared_5of10_[43, 44, 45, 46, 47, 48, 49, 50, 51, 52].png\n",
      "include_whitelist: ['maze1', 'maze2', 'maze']\n",
      "long_epoch_name: maze1, short_epoch_name: maze2, global_epoch_name: maze\n",
      "WARNING: aclu 56 is not present in the pf1D_all ratemaps. Which contain aclus: [3, 5, 10, 14, 15, 23, 24, 25, 26, 31, 32, 33, 34, 41, 49, 50, 51, 54, 55, 57, 58, 61, 63, 68, 69, 74, 75, 76, 78, 82, 83, 86, 87, 88, 90, 92, 93, 96, 102, 108, 109]\n",
      "WARNING: aclu 59 is not present in the pf1D_all ratemaps. Which contain aclus: [3, 5, 10, 14, 15, 23, 24, 25, 26, 31, 32, 33, 34, 41, 49, 50, 51, 54, 55, 57, 58, 61, 63, 68, 69, 74, 75, 76, 78, 82, 83, 86, 87, 88, 90, 92, 93, 96, 102, 108, 109]\n",
      "WARNING: aclu 60 is not present in the pf1D_all ratemaps. Which contain aclus: [3, 5, 10, 14, 15, 23, 24, 25, 26, 31, 32, 33, 34, 41, 49, 50, 51, 54, 55, 57, 58, 61, 63, 68, 69, 74, 75, 76, 78, 82, 83, 86, 87, 88, 90, 92, 93, 96, 102, 108, 109]\n",
      "WARNING: aclu 62 is not present in the pf1D_all ratemaps. Which contain aclus: [3, 5, 10, 14, 15, 23, 24, 25, 26, 31, 32, 33, 34, 41, 49, 50, 51, 54, 55, 57, 58, 61, 63, 68, 69, 74, 75, 76, 78, 82, 83, 86, 87, 88, 90, 92, 93, 96, 102, 108, 109]\n",
      "WARNING: aclu 64 is not present in the pf1D_all ratemaps. Which contain aclus: [3, 5, 10, 14, 15, 23, 24, 25, 26, 31, 32, 33, 34, 41, 49, 50, 51, 54, 55, 57, 58, 61, 63, 68, 69, 74, 75, 76, 78, 82, 83, 86, 87, 88, 90, 92, 93, 96, 102, 108, 109]\n",
      "WARNING: aclu 65 is not present in the pf1D_all ratemaps. Which contain aclus: [3, 5, 10, 14, 15, 23, 24, 25, 26, 31, 32, 33, 34, 41, 49, 50, 51, 54, 55, 57, 58, 61, 63, 68, 69, 74, 75, 76, 78, 82, 83, 86, 87, 88, 90, 92, 93, 96, 102, 108, 109]\n",
      "WARNING: aclu 67 is not present in the pf1D_all ratemaps. Which contain aclus: [3, 5, 10, 14, 15, 23, 24, 25, 26, 31, 32, 33, 34, 41, 49, 50, 51, 54, 55, 57, 58, 61, 63, 68, 69, 74, 75, 76, 78, 82, 83, 86, 87, 88, 90, 92, 93, 96, 102, 108, 109]\n",
      "\t saved C:\\Users\\pho\\repos\\Spike3DWorkEnv\\Spike3D\\EXTERNAL\\Screenshots\\ProgrammaticDisplayFunctionTesting\\2023-06-05\\kdiba\\gor01\\one\\2006-6-08_14-26-15\\kdiba_gor01_one_2006-6-08_14-26-15_BatchPhoJonathanReplayFRC_shared_6of10_[55, 56, 59, 60, 61, 62, 64, 65, 67, 69].png\n",
      "include_whitelist: ['maze1', 'maze2', 'maze']\n",
      "long_epoch_name: maze1, short_epoch_name: maze2, global_epoch_name: maze\n",
      "WARNING: aclu 70 is not present in the pf1D_all ratemaps. Which contain aclus: [3, 5, 10, 14, 15, 23, 24, 25, 26, 31, 32, 33, 34, 41, 49, 50, 51, 54, 55, 57, 58, 61, 63, 68, 69, 74, 75, 76, 78, 82, 83, 86, 87, 88, 90, 92, 93, 96, 102, 108, 109]\n",
      "WARNING: aclu 71 is not present in the pf1D_all ratemaps. Which contain aclus: [3, 5, 10, 14, 15, 23, 24, 25, 26, 31, 32, 33, 34, 41, 49, 50, 51, 54, 55, 57, 58, 61, 63, 68, 69, 74, 75, 76, 78, 82, 83, 86, 87, 88, 90, 92, 93, 96, 102, 108, 109]\n",
      "WARNING: aclu 72 is not present in the pf1D_all ratemaps. Which contain aclus: [3, 5, 10, 14, 15, 23, 24, 25, 26, 31, 32, 33, 34, 41, 49, 50, 51, 54, 55, 57, 58, 61, 63, 68, 69, 74, 75, 76, 78, 82, 83, 86, 87, 88, 90, 92, 93, 96, 102, 108, 109]\n",
      "WARNING: aclu 73 is not present in the pf1D_all ratemaps. Which contain aclus: [3, 5, 10, 14, 15, 23, 24, 25, 26, 31, 32, 33, 34, 41, 49, 50, 51, 54, 55, 57, 58, 61, 63, 68, 69, 74, 75, 76, 78, 82, 83, 86, 87, 88, 90, 92, 93, 96, 102, 108, 109]\n",
      "WARNING: aclu 77 is not present in the pf1D_all ratemaps. Which contain aclus: [3, 5, 10, 14, 15, 23, 24, 25, 26, 31, 32, 33, 34, 41, 49, 50, 51, 54, 55, 57, 58, 61, 63, 68, 69, 74, 75, 76, 78, 82, 83, 86, 87, 88, 90, 92, 93, 96, 102, 108, 109]\n",
      "WARNING: aclu 79 is not present in the pf1D_all ratemaps. Which contain aclus: [3, 5, 10, 14, 15, 23, 24, 25, 26, 31, 32, 33, 34, 41, 49, 50, 51, 54, 55, 57, 58, 61, 63, 68, 69, 74, 75, 76, 78, 82, 83, 86, 87, 88, 90, 92, 93, 96, 102, 108, 109]\n",
      "WARNING: aclu 80 is not present in the pf1D_all ratemaps. Which contain aclus: [3, 5, 10, 14, 15, 23, 24, 25, 26, 31, 32, 33, 34, 41, 49, 50, 51, 54, 55, 57, 58, 61, 63, 68, 69, 74, 75, 76, 78, 82, 83, 86, 87, 88, 90, 92, 93, 96, 102, 108, 109]\n",
      "\t saved C:\\Users\\pho\\repos\\Spike3DWorkEnv\\Spike3D\\EXTERNAL\\Screenshots\\ProgrammaticDisplayFunctionTesting\\2023-06-05\\kdiba\\gor01\\one\\2006-6-08_14-26-15\\kdiba_gor01_one_2006-6-08_14-26-15_BatchPhoJonathanReplayFRC_shared_7of10_[70, 71, 72, 73, 75, 76, 77, 78, 79, 80].png\n",
      "include_whitelist: ['maze1', 'maze2', 'maze']\n",
      "long_epoch_name: maze1, short_epoch_name: maze2, global_epoch_name: maze\n",
      "WARNING: aclu 81 is not present in the pf1D_all ratemaps. Which contain aclus: [3, 5, 10, 14, 15, 23, 24, 25, 26, 31, 32, 33, 34, 41, 49, 50, 51, 54, 55, 57, 58, 61, 63, 68, 69, 74, 75, 76, 78, 82, 83, 86, 87, 88, 90, 92, 93, 96, 102, 108, 109]\n",
      "WARNING: aclu 84 is not present in the pf1D_all ratemaps. Which contain aclus: [3, 5, 10, 14, 15, 23, 24, 25, 26, 31, 32, 33, 34, 41, 49, 50, 51, 54, 55, 57, 58, 61, 63, 68, 69, 74, 75, 76, 78, 82, 83, 86, 87, 88, 90, 92, 93, 96, 102, 108, 109]\n",
      "WARNING: aclu 85 is not present in the pf1D_all ratemaps. Which contain aclus: [3, 5, 10, 14, 15, 23, 24, 25, 26, 31, 32, 33, 34, 41, 49, 50, 51, 54, 55, 57, 58, 61, 63, 68, 69, 74, 75, 76, 78, 82, 83, 86, 87, 88, 90, 92, 93, 96, 102, 108, 109]\n",
      "WARNING: aclu 89 is not present in the pf1D_all ratemaps. Which contain aclus: [3, 5, 10, 14, 15, 23, 24, 25, 26, 31, 32, 33, 34, 41, 49, 50, 51, 54, 55, 57, 58, 61, 63, 68, 69, 74, 75, 76, 78, 82, 83, 86, 87, 88, 90, 92, 93, 96, 102, 108, 109]\n",
      "WARNING: aclu 91 is not present in the pf1D_all ratemaps. Which contain aclus: [3, 5, 10, 14, 15, 23, 24, 25, 26, 31, 32, 33, 34, 41, 49, 50, 51, 54, 55, 57, 58, 61, 63, 68, 69, 74, 75, 76, 78, 82, 83, 86, 87, 88, 90, 92, 93, 96, 102, 108, 109]\n",
      "\t saved C:\\Users\\pho\\repos\\Spike3DWorkEnv\\Spike3D\\EXTERNAL\\Screenshots\\ProgrammaticDisplayFunctionTesting\\2023-06-05\\kdiba\\gor01\\one\\2006-6-08_14-26-15\\kdiba_gor01_one_2006-6-08_14-26-15_BatchPhoJonathanReplayFRC_shared_8of10_[81, 83, 84, 85, 86, 88, 89, 90, 91, 92].png\n",
      "include_whitelist: ['maze1', 'maze2', 'maze']\n",
      "long_epoch_name: maze1, short_epoch_name: maze2, global_epoch_name: maze\n",
      "WARNING: aclu 94 is not present in the pf1D_all ratemaps. Which contain aclus: [3, 5, 10, 14, 15, 23, 24, 25, 26, 31, 32, 33, 34, 41, 49, 50, 51, 54, 55, 57, 58, 61, 63, 68, 69, 74, 75, 76, 78, 82, 83, 86, 87, 88, 90, 92, 93, 96, 102, 108, 109]\n",
      "WARNING: aclu 95 is not present in the pf1D_all ratemaps. Which contain aclus: [3, 5, 10, 14, 15, 23, 24, 25, 26, 31, 32, 33, 34, 41, 49, 50, 51, 54, 55, 57, 58, 61, 63, 68, 69, 74, 75, 76, 78, 82, 83, 86, 87, 88, 90, 92, 93, 96, 102, 108, 109]\n",
      "WARNING: aclu 97 is not present in the pf1D_all ratemaps. Which contain aclus: [3, 5, 10, 14, 15, 23, 24, 25, 26, 31, 32, 33, 34, 41, 49, 50, 51, 54, 55, 57, 58, 61, 63, 68, 69, 74, 75, 76, 78, 82, 83, 86, 87, 88, 90, 92, 93, 96, 102, 108, 109]\n",
      "WARNING: aclu 98 is not present in the pf1D_all ratemaps. Which contain aclus: [3, 5, 10, 14, 15, 23, 24, 25, 26, 31, 32, 33, 34, 41, 49, 50, 51, 54, 55, 57, 58, 61, 63, 68, 69, 74, 75, 76, 78, 82, 83, 86, 87, 88, 90, 92, 93, 96, 102, 108, 109]\n",
      "WARNING: aclu 99 is not present in the pf1D_all ratemaps. Which contain aclus: [3, 5, 10, 14, 15, 23, 24, 25, 26, 31, 32, 33, 34, 41, 49, 50, 51, 54, 55, 57, 58, 61, 63, 68, 69, 74, 75, 76, 78, 82, 83, 86, 87, 88, 90, 92, 93, 96, 102, 108, 109]\n",
      "WARNING: aclu 100 is not present in the pf1D_all ratemaps. Which contain aclus: [3, 5, 10, 14, 15, 23, 24, 25, 26, 31, 32, 33, 34, 41, 49, 50, 51, 54, 55, 57, 58, 61, 63, 68, 69, 74, 75, 76, 78, 82, 83, 86, 87, 88, 90, 92, 93, 96, 102, 108, 109]\n",
      "WARNING: aclu 101 is not present in the pf1D_all ratemaps. Which contain aclus: [3, 5, 10, 14, 15, 23, 24, 25, 26, 31, 32, 33, 34, 41, 49, 50, 51, 54, 55, 57, 58, 61, 63, 68, 69, 74, 75, 76, 78, 82, 83, 86, 87, 88, 90, 92, 93, 96, 102, 108, 109]\n",
      "\t saved C:\\Users\\pho\\repos\\Spike3DWorkEnv\\Spike3D\\EXTERNAL\\Screenshots\\ProgrammaticDisplayFunctionTesting\\2023-06-05\\kdiba\\gor01\\one\\2006-6-08_14-26-15\\kdiba_gor01_one_2006-6-08_14-26-15_BatchPhoJonathanReplayFRC_shared_9of10_[93, 94, 95, 96, 97, 98, 99, 100, 101, 102].png\n",
      "include_whitelist: ['maze1', 'maze2', 'maze']\n",
      "long_epoch_name: maze1, short_epoch_name: maze2, global_epoch_name: maze\n",
      "WARNING: aclu 103 is not present in the pf1D_all ratemaps. Which contain aclus: [3, 5, 10, 14, 15, 23, 24, 25, 26, 31, 32, 33, 34, 41, 49, 50, 51, 54, 55, 57, 58, 61, 63, 68, 69, 74, 75, 76, 78, 82, 83, 86, 87, 88, 90, 92, 93, 96, 102, 108, 109]\n",
      "WARNING: aclu 104 is not present in the pf1D_all ratemaps. Which contain aclus: [3, 5, 10, 14, 15, 23, 24, 25, 26, 31, 32, 33, 34, 41, 49, 50, 51, 54, 55, 57, 58, 61, 63, 68, 69, 74, 75, 76, 78, 82, 83, 86, 87, 88, 90, 92, 93, 96, 102, 108, 109]\n",
      "WARNING: aclu 105 is not present in the pf1D_all ratemaps. Which contain aclus: [3, 5, 10, 14, 15, 23, 24, 25, 26, 31, 32, 33, 34, 41, 49, 50, 51, 54, 55, 57, 58, 61, 63, 68, 69, 74, 75, 76, 78, 82, 83, 86, 87, 88, 90, 92, 93, 96, 102, 108, 109]\n",
      "WARNING: aclu 106 is not present in the pf1D_all ratemaps. Which contain aclus: [3, 5, 10, 14, 15, 23, 24, 25, 26, 31, 32, 33, 34, 41, 49, 50, 51, 54, 55, 57, 58, 61, 63, 68, 69, 74, 75, 76, 78, 82, 83, 86, 87, 88, 90, 92, 93, 96, 102, 108, 109]\n",
      "WARNING: aclu 107 is not present in the pf1D_all ratemaps. Which contain aclus: [3, 5, 10, 14, 15, 23, 24, 25, 26, 31, 32, 33, 34, 41, 49, 50, 51, 54, 55, 57, 58, 61, 63, 68, 69, 74, 75, 76, 78, 82, 83, 86, 87, 88, 90, 92, 93, 96, 102, 108, 109]\n",
      "\t saved C:\\Users\\pho\\repos\\Spike3DWorkEnv\\Spike3D\\EXTERNAL\\Screenshots\\ProgrammaticDisplayFunctionTesting\\2023-06-05\\kdiba\\gor01\\one\\2006-6-08_14-26-15\\kdiba_gor01_one_2006-6-08_14-26-15_BatchPhoJonathanReplayFRC_shared_10of10_[103, 104, 105, 106, 107].png\n",
      "Saving plot_long_short_firing_rate_indicies results results : C:\\Users\\pho\\repos\\Spike3DWorkEnv\\Spike3D\\EXTERNAL\\Screenshots\\ProgrammaticDisplayFunctionTesting\\2023-06-05\\kdiba\\gor01\\one\\2006-6-08_14-26-15\\kdiba_gor01_one_2006-6-08_14-26-15_long_short_firing_rate_indicies.png... done.\n",
      "global_y_min_SHORT: 0.00032166832048260307, global_y_max_SHORT: 6.046595539336755\n",
      "global_y_min_LONG: 0.0, global_y_max_LONG: 5.992566122702495\n",
      "global_y_min: 0.0, global_y_max: 6.046595539336755\n",
      "final_context: kdiba_gor01_one_2006-6-08_14-26-15_plot_expected_vs_observed_epoch_idx_obs_exp_diff_ptp\n",
      "\t saved C:\\Users\\pho\\repos\\Spike3DWorkEnv\\Spike3D\\EXTERNAL\\Screenshots\\ProgrammaticDisplayFunctionTesting\\2023-06-05\\kdiba\\gor01\\one\\2006-6-08_14-26-15\\kdiba_gor01_one_2006-6-08_14-26-15_plot_expected_vs_observed_epoch_idx_obs_exp_diff_ptp.png\n",
      "active_identifying_ctx_string: \"kdiba|gor01|one|2006-6-08_14-26-15|plot_single_epoch_slice|shared|1of1|[  0   1   2   3   4   5   6   7   8   9  10  11  12  13  14  15  16  17\n",
      "  18  19  20  21  22  23  24  25  26  27  28  29  30  31  32  33  34  35\n",
      "  36  37  38  39  40  41  42  43  44  45  46  47  48  49  50  51  52  53\n",
      "  54  55  56  57  58  59  60  61  62  63  64  65  66  67  68  69  70  71\n",
      "  72  73  74  75  76  77  78  79  80  81  82  83  84  85  86  87  88  89\n",
      "  90  91  92  93  94  95  96  97  98  99 100 101 102 103 104 105 106 107\n",
      " 108 109 110 111 112 113 114 115 116 117 118 119]\"\n",
      "active_identifying_ctx_string: \"kdiba|gor01|one|2006-6-08_14-26-15|plot_single_epoch_slice|shared|1of1|[  0   1   2   3   4   5   6   7   8   9  10  11  12  13  14  15  16  17\n",
      "  18  19  20  21  22  23  24  25  26  27  28  29  30  31  32  33  34  35\n",
      "  36  37  38  39  40  41  42  43  44  45  46  47  48  49  50  51  52  53\n",
      "  54  55  56  57  58  59  60  61  62  63  64  65  66  67  68  69  70  71\n",
      "  72  73  74  75  76  77  78  79  80  81  82  83  84  85  86  87  88  89\n",
      "  90  91  92  93  94  95  96  97  98  99 100 101 102 103 104 105 106 107\n",
      " 108 109 110 111 112 113 114 115 116 117 118 119]\"\n",
      "final_context: kdiba_gor01_one_2006-6-08_14-26-15_DecodedEpochSlices_replays_long_results_obj\n",
      "\t saved C:\\Users\\pho\\repos\\Spike3DWorkEnv\\Spike3D\\EXTERNAL\\Screenshots\\ProgrammaticDisplayFunctionTesting\\2023-06-05\\kdiba\\gor01\\one\\2006-6-08_14-26-15\\kdiba_gor01_one_2006-6-08_14-26-15_DecodedEpochSlices_replays_long_results_obj.png\n",
      "active_identifying_ctx_string: \"kdiba|gor01|one|2006-6-08_14-26-15|plot_single_epoch_slice|shared|1of1|[  0   1   2   3   4   5   6   7   8   9  10  11  12  13  14  15  16  17\n",
      "  18  19  20  21  22  23  24  25  26  27  28  29  30  31  32  33  34  35\n",
      "  36  37  38  39  40  41  42  43  44  45  46  47  48  49  50  51  52  53\n",
      "  54  55  56  57  58  59  60  61  62  63  64  65  66  67  68  69  70  71\n",
      "  72  73  74  75  76  77  78  79  80  81  82  83  84  85  86  87  88  89\n",
      "  90  91  92  93  94  95  96  97  98  99 100 101 102 103 104 105 106 107\n",
      " 108 109 110 111 112 113 114 115 116 117 118 119]\"\n",
      "active_identifying_ctx_string: \"kdiba|gor01|one|2006-6-08_14-26-15|plot_single_epoch_slice|shared|1of1|[  0   1   2   3   4   5   6   7   8   9  10  11  12  13  14  15  16  17\n",
      "  18  19  20  21  22  23  24  25  26  27  28  29  30  31  32  33  34  35\n",
      "  36  37  38  39  40  41  42  43  44  45  46  47  48  49  50  51  52  53\n",
      "  54  55  56  57  58  59  60  61  62  63  64  65  66  67  68  69  70  71\n",
      "  72  73  74  75  76  77  78  79  80  81  82  83  84  85  86  87  88  89\n",
      "  90  91  92  93  94  95  96  97  98  99 100 101 102 103 104 105 106 107\n",
      " 108 109 110 111 112 113 114 115 116 117 118 119]\"\n",
      "final_context: kdiba_gor01_one_2006-6-08_14-26-15_DecodedEpochSlices_replays_short_results_obj\n",
      "\t saved C:\\Users\\pho\\repos\\Spike3DWorkEnv\\Spike3D\\EXTERNAL\\Screenshots\\ProgrammaticDisplayFunctionTesting\\2023-06-05\\kdiba\\gor01\\one\\2006-6-08_14-26-15\\kdiba_gor01_one_2006-6-08_14-26-15_DecodedEpochSlices_replays_short_results_obj.png\n",
      "https://app.neptune.ai/commander.pho/PhoDibaLongShort2023/e/PHOD-460\n",
      "a_fig_path: C:\\Users\\pho\\repos\\Spike3DWorkEnv\\Spike3D\\EXTERNAL\\Screenshots\\ProgrammaticDisplayFunctionTesting\\2023-06-05\\kdiba\\gor01\\one\\2006-6-08_14-26-15\\kdiba_gor01_one_2006-6-08_14-26-15_BatchPhoJonathanReplayFRC_long_only_[54, 57, 63, 68, 74, 82, 87, 108, 109].png, a_fig_context: kdiba_gor01_one_2006-6-08_14-26-15_BatchPhoJonathanReplayFRC_long_only_[54, 57, 63, 68, 74, 82, 87, 108, 109]\n",
      "\tsession/kdiba_gor01_one_2006-6-08_14-26-15_sess/figures/kdiba_gor01_one_2006-6-08_14-26-15_BatchPhoJonathanReplayFRC_long_only_[54, 57, 63, 68, 74, 82, 87, 108, 109]\n",
      "a_fig_path: C:\\Users\\pho\\repos\\Spike3DWorkEnv\\Spike3D\\EXTERNAL\\Screenshots\\ProgrammaticDisplayFunctionTesting\\2023-06-05\\kdiba\\gor01\\one\\2006-6-08_14-26-15\\kdiba_gor01_one_2006-6-08_14-26-15_BatchPhoJonathanReplayFRC_short_only_[23, 53, 58, 66].png, a_fig_context: kdiba_gor01_one_2006-6-08_14-26-15_BatchPhoJonathanReplayFRC_short_only_[23, 53, 58, 66]\n",
      "\tsession/kdiba_gor01_one_2006-6-08_14-26-15_sess/figures/kdiba_gor01_one_2006-6-08_14-26-15_BatchPhoJonathanReplayFRC_short_only_[23, 53, 58, 66]\n",
      "a_fig_path: C:\\Users\\pho\\repos\\Spike3DWorkEnv\\Spike3D\\EXTERNAL\\Screenshots\\ProgrammaticDisplayFunctionTesting\\2023-06-05\\kdiba\\gor01\\one\\2006-6-08_14-26-15\\kdiba_gor01_one_2006-6-08_14-26-15_BatchPhoJonathanReplayFRC_shared_1of10_[2, 3, 4, 5, 6, 7, 8, 9, 10, 11].png, a_fig_context: kdiba_gor01_one_2006-6-08_14-26-15_BatchPhoJonathanReplayFRC_shared_1of10_[2, 3, 4, 5, 6, 7, 8, 9, 10, 11]\n",
      "\tsession/kdiba_gor01_one_2006-6-08_14-26-15_sess/figures/kdiba_gor01_one_2006-6-08_14-26-15_BatchPhoJonathanReplayFRC_shared_1of10_[2, 3, 4, 5, 6, 7, 8, 9, 10, 11]\n",
      "a_fig_path: C:\\Users\\pho\\repos\\Spike3DWorkEnv\\Spike3D\\EXTERNAL\\Screenshots\\ProgrammaticDisplayFunctionTesting\\2023-06-05\\kdiba\\gor01\\one\\2006-6-08_14-26-15\\kdiba_gor01_one_2006-6-08_14-26-15_BatchPhoJonathanReplayFRC_shared_2of10_[12, 13, 14, 15, 16, 17, 18, 19, 20, 21].png, a_fig_context: kdiba_gor01_one_2006-6-08_14-26-15_BatchPhoJonathanReplayFRC_shared_2of10_[12, 13, 14, 15, 16, 17, 18, 19, 20, 21]\n",
      "\tsession/kdiba_gor01_one_2006-6-08_14-26-15_sess/figures/kdiba_gor01_one_2006-6-08_14-26-15_BatchPhoJonathanReplayFRC_shared_2of10_[12, 13, 14, 15, 16, 17, 18, 19, 20, 21]\n",
      "a_fig_path: C:\\Users\\pho\\repos\\Spike3DWorkEnv\\Spike3D\\EXTERNAL\\Screenshots\\ProgrammaticDisplayFunctionTesting\\2023-06-05\\kdiba\\gor01\\one\\2006-6-08_14-26-15\\kdiba_gor01_one_2006-6-08_14-26-15_BatchPhoJonathanReplayFRC_shared_3of10_[22, 24, 25, 26, 27, 28, 29, 30, 31, 32].png, a_fig_context: kdiba_gor01_one_2006-6-08_14-26-15_BatchPhoJonathanReplayFRC_shared_3of10_[22, 24, 25, 26, 27, 28, 29, 30, 31, 32]\n",
      "\tsession/kdiba_gor01_one_2006-6-08_14-26-15_sess/figures/kdiba_gor01_one_2006-6-08_14-26-15_BatchPhoJonathanReplayFRC_shared_3of10_[22, 24, 25, 26, 27, 28, 29, 30, 31, 32]\n",
      "a_fig_path: C:\\Users\\pho\\repos\\Spike3DWorkEnv\\Spike3D\\EXTERNAL\\Screenshots\\ProgrammaticDisplayFunctionTesting\\2023-06-05\\kdiba\\gor01\\one\\2006-6-08_14-26-15\\kdiba_gor01_one_2006-6-08_14-26-15_BatchPhoJonathanReplayFRC_shared_4of10_[33, 34, 35, 36, 37, 38, 39, 40, 41, 42].png, a_fig_context: kdiba_gor01_one_2006-6-08_14-26-15_BatchPhoJonathanReplayFRC_shared_4of10_[33, 34, 35, 36, 37, 38, 39, 40, 41, 42]\n",
      "\tsession/kdiba_gor01_one_2006-6-08_14-26-15_sess/figures/kdiba_gor01_one_2006-6-08_14-26-15_BatchPhoJonathanReplayFRC_shared_4of10_[33, 34, 35, 36, 37, 38, 39, 40, 41, 42]\n",
      "a_fig_path: C:\\Users\\pho\\repos\\Spike3DWorkEnv\\Spike3D\\EXTERNAL\\Screenshots\\ProgrammaticDisplayFunctionTesting\\2023-06-05\\kdiba\\gor01\\one\\2006-6-08_14-26-15\\kdiba_gor01_one_2006-6-08_14-26-15_BatchPhoJonathanReplayFRC_shared_5of10_[43, 44, 45, 46, 47, 48, 49, 50, 51, 52].png, a_fig_context: kdiba_gor01_one_2006-6-08_14-26-15_BatchPhoJonathanReplayFRC_shared_5of10_[43, 44, 45, 46, 47, 48, 49, 50, 51, 52]\n",
      "\tsession/kdiba_gor01_one_2006-6-08_14-26-15_sess/figures/kdiba_gor01_one_2006-6-08_14-26-15_BatchPhoJonathanReplayFRC_shared_5of10_[43, 44, 45, 46, 47, 48, 49, 50, 51, 52]\n",
      "a_fig_path: C:\\Users\\pho\\repos\\Spike3DWorkEnv\\Spike3D\\EXTERNAL\\Screenshots\\ProgrammaticDisplayFunctionTesting\\2023-06-05\\kdiba\\gor01\\one\\2006-6-08_14-26-15\\kdiba_gor01_one_2006-6-08_14-26-15_BatchPhoJonathanReplayFRC_shared_6of10_[55, 56, 59, 60, 61, 62, 64, 65, 67, 69].png, a_fig_context: kdiba_gor01_one_2006-6-08_14-26-15_BatchPhoJonathanReplayFRC_shared_6of10_[55, 56, 59, 60, 61, 62, 64, 65, 67, 69]\n",
      "\tsession/kdiba_gor01_one_2006-6-08_14-26-15_sess/figures/kdiba_gor01_one_2006-6-08_14-26-15_BatchPhoJonathanReplayFRC_shared_6of10_[55, 56, 59, 60, 61, 62, 64, 65, 67, 69]\n",
      "a_fig_path: C:\\Users\\pho\\repos\\Spike3DWorkEnv\\Spike3D\\EXTERNAL\\Screenshots\\ProgrammaticDisplayFunctionTesting\\2023-06-05\\kdiba\\gor01\\one\\2006-6-08_14-26-15\\kdiba_gor01_one_2006-6-08_14-26-15_BatchPhoJonathanReplayFRC_shared_7of10_[70, 71, 72, 73, 75, 76, 77, 78, 79, 80].png, a_fig_context: kdiba_gor01_one_2006-6-08_14-26-15_BatchPhoJonathanReplayFRC_shared_7of10_[70, 71, 72, 73, 75, 76, 77, 78, 79, 80]\n",
      "\tsession/kdiba_gor01_one_2006-6-08_14-26-15_sess/figures/kdiba_gor01_one_2006-6-08_14-26-15_BatchPhoJonathanReplayFRC_shared_7of10_[70, 71, 72, 73, 75, 76, 77, 78, 79, 80]\n",
      "a_fig_path: C:\\Users\\pho\\repos\\Spike3DWorkEnv\\Spike3D\\EXTERNAL\\Screenshots\\ProgrammaticDisplayFunctionTesting\\2023-06-05\\kdiba\\gor01\\one\\2006-6-08_14-26-15\\kdiba_gor01_one_2006-6-08_14-26-15_BatchPhoJonathanReplayFRC_shared_8of10_[81, 83, 84, 85, 86, 88, 89, 90, 91, 92].png, a_fig_context: kdiba_gor01_one_2006-6-08_14-26-15_BatchPhoJonathanReplayFRC_shared_8of10_[81, 83, 84, 85, 86, 88, 89, 90, 91, 92]\n",
      "\tsession/kdiba_gor01_one_2006-6-08_14-26-15_sess/figures/kdiba_gor01_one_2006-6-08_14-26-15_BatchPhoJonathanReplayFRC_shared_8of10_[81, 83, 84, 85, 86, 88, 89, 90, 91, 92]\n",
      "a_fig_path: C:\\Users\\pho\\repos\\Spike3DWorkEnv\\Spike3D\\EXTERNAL\\Screenshots\\ProgrammaticDisplayFunctionTesting\\2023-06-05\\kdiba\\gor01\\one\\2006-6-08_14-26-15\\kdiba_gor01_one_2006-6-08_14-26-15_BatchPhoJonathanReplayFRC_shared_9of10_[93, 94, 95, 96, 97, 98, 99, 100, 101, 102].png, a_fig_context: kdiba_gor01_one_2006-6-08_14-26-15_BatchPhoJonathanReplayFRC_shared_9of10_[93, 94, 95, 96, 97, 98, 99, 100, 101, 102]\n",
      "\tsession/kdiba_gor01_one_2006-6-08_14-26-15_sess/figures/kdiba_gor01_one_2006-6-08_14-26-15_BatchPhoJonathanReplayFRC_shared_9of10_[93, 94, 95, 96, 97, 98, 99, 100, 101, 102]\n",
      "a_fig_path: C:\\Users\\pho\\repos\\Spike3DWorkEnv\\Spike3D\\EXTERNAL\\Screenshots\\ProgrammaticDisplayFunctionTesting\\2023-06-05\\kdiba\\gor01\\one\\2006-6-08_14-26-15\\kdiba_gor01_one_2006-6-08_14-26-15_BatchPhoJonathanReplayFRC_shared_10of10_[103, 104, 105, 106, 107].png, a_fig_context: kdiba_gor01_one_2006-6-08_14-26-15_BatchPhoJonathanReplayFRC_shared_10of10_[103, 104, 105, 106, 107]\n",
      "\tsession/kdiba_gor01_one_2006-6-08_14-26-15_sess/figures/kdiba_gor01_one_2006-6-08_14-26-15_BatchPhoJonathanReplayFRC_shared_10of10_[103, 104, 105, 106, 107]\n",
      "a_fig_path: C:\\Users\\pho\\repos\\Spike3DWorkEnv\\Spike3D\\EXTERNAL\\Screenshots\\ProgrammaticDisplayFunctionTesting\\2023-06-05\\kdiba\\gor01\\one\\2006-6-08_14-26-15\\kdiba_gor01_one_2006-6-08_14-26-15_long_short_firing_rate_indicies.png, a_fig_context: kdiba_gor01_one_2006-6-08_14-26-15_long_short_firing_rate_indicies\n",
      "\tsession/kdiba_gor01_one_2006-6-08_14-26-15_sess/figures/kdiba_gor01_one_2006-6-08_14-26-15_long_short_firing_rate_indicies\n",
      "a_fig_path: C:\\Users\\pho\\repos\\Spike3DWorkEnv\\Spike3D\\EXTERNAL\\Screenshots\\ProgrammaticDisplayFunctionTesting\\2023-06-05\\kdiba\\gor01\\one\\2006-6-08_14-26-15\\kdiba_gor01_one_2006-6-08_14-26-15_maze1__display_1d_placefields.pdf, a_fig_context: kdiba_gor01_one_2006-6-08_14-26-15_maze1__display_1d_placefields\n",
      "\tsession/kdiba_gor01_one_2006-6-08_14-26-15_sess/figures/kdiba_gor01_one_2006-6-08_14-26-15_maze1__display_1d_placefields\n",
      "a_fig_path: C:\\Users\\pho\\repos\\Spike3DWorkEnv\\Spike3D\\EXTERNAL\\Screenshots\\ProgrammaticDisplayFunctionTesting\\2023-06-05\\kdiba\\gor01\\one\\2006-6-08_14-26-15\\kdiba_gor01_one_2006-6-08_14-26-15_maze2__display_1d_placefields.pdf, a_fig_context: kdiba_gor01_one_2006-6-08_14-26-15_maze2__display_1d_placefields\n",
      "\tsession/kdiba_gor01_one_2006-6-08_14-26-15_sess/figures/kdiba_gor01_one_2006-6-08_14-26-15_maze2__display_1d_placefields\n",
      "a_fig_path: C:\\Users\\pho\\repos\\Spike3DWorkEnv\\Spike3D\\EXTERNAL\\Screenshots\\ProgrammaticDisplayFunctionTesting\\2023-06-05\\kdiba\\gor01\\one\\2006-6-08_14-26-15\\kdiba_gor01_one_2006-6-08_14-26-15_maze__display_1d_placefields.pdf, a_fig_context: kdiba_gor01_one_2006-6-08_14-26-15_maze__display_1d_placefields\n",
      "\tsession/kdiba_gor01_one_2006-6-08_14-26-15_sess/figures/kdiba_gor01_one_2006-6-08_14-26-15_maze__display_1d_placefields\n",
      "a_fig_path: C:\\Users\\pho\\repos\\Spike3DWorkEnv\\Spike3D\\EXTERNAL\\Screenshots\\ProgrammaticDisplayFunctionTesting\\2023-06-05\\kdiba\\gor01\\one\\2006-6-08_14-26-15\\kdiba_gor01_one_2006-6-08_14-26-15_maze1__display_1d_placefield_validations.pdf, a_fig_context: kdiba_gor01_one_2006-6-08_14-26-15_maze1__display_1d_placefield_validations\n",
      "\tsession/kdiba_gor01_one_2006-6-08_14-26-15_sess/figures/kdiba_gor01_one_2006-6-08_14-26-15_maze1__display_1d_placefield_validations\n",
      "a_fig_path: C:\\Users\\pho\\repos\\Spike3DWorkEnv\\Spike3D\\EXTERNAL\\Screenshots\\ProgrammaticDisplayFunctionTesting\\2023-06-05\\kdiba\\gor01\\one\\2006-6-08_14-26-15\\kdiba_gor01_one_2006-6-08_14-26-15_maze2__display_1d_placefield_validations.pdf, a_fig_context: kdiba_gor01_one_2006-6-08_14-26-15_maze2__display_1d_placefield_validations\n",
      "\tsession/kdiba_gor01_one_2006-6-08_14-26-15_sess/figures/kdiba_gor01_one_2006-6-08_14-26-15_maze2__display_1d_placefield_validations\n",
      "a_fig_path: C:\\Users\\pho\\repos\\Spike3DWorkEnv\\Spike3D\\EXTERNAL\\Screenshots\\ProgrammaticDisplayFunctionTesting\\2023-06-05\\kdiba\\gor01\\one\\2006-6-08_14-26-15\\kdiba_gor01_one_2006-6-08_14-26-15_maze__display_1d_placefield_validations.pdf, a_fig_context: kdiba_gor01_one_2006-6-08_14-26-15_maze__display_1d_placefield_validations\n",
      "\tsession/kdiba_gor01_one_2006-6-08_14-26-15_sess/figures/kdiba_gor01_one_2006-6-08_14-26-15_maze__display_1d_placefield_validations\n",
      "a_fig_path: C:\\Users\\pho\\repos\\Spike3DWorkEnv\\Spike3D\\EXTERNAL\\Screenshots\\ProgrammaticDisplayFunctionTesting\\2023-06-05\\kdiba\\gor01\\one\\2006-6-08_14-26-15\\kdiba_gor01_one_2006-6-08_14-26-15_maze1__display_2d_placefield_result_plot_ratemaps_2D.pdf, a_fig_context: kdiba_gor01_one_2006-6-08_14-26-15_maze1__display_2d_placefield_result_plot_ratemaps_2D\n",
      "\tsession/kdiba_gor01_one_2006-6-08_14-26-15_sess/figures/kdiba_gor01_one_2006-6-08_14-26-15_maze1__display_2d_placefield_result_plot_ratemaps_2D\n",
      "a_fig_path: C:\\Users\\pho\\repos\\Spike3DWorkEnv\\Spike3D\\EXTERNAL\\Screenshots\\ProgrammaticDisplayFunctionTesting\\2023-06-05\\kdiba\\gor01\\one\\2006-6-08_14-26-15\\kdiba_gor01_one_2006-6-08_14-26-15_maze2__display_2d_placefield_result_plot_ratemaps_2D.pdf, a_fig_context: kdiba_gor01_one_2006-6-08_14-26-15_maze2__display_2d_placefield_result_plot_ratemaps_2D\n",
      "\tsession/kdiba_gor01_one_2006-6-08_14-26-15_sess/figures/kdiba_gor01_one_2006-6-08_14-26-15_maze2__display_2d_placefield_result_plot_ratemaps_2D\n",
      "a_fig_path: C:\\Users\\pho\\repos\\Spike3DWorkEnv\\Spike3D\\EXTERNAL\\Screenshots\\ProgrammaticDisplayFunctionTesting\\2023-06-05\\kdiba\\gor01\\one\\2006-6-08_14-26-15\\kdiba_gor01_one_2006-6-08_14-26-15_maze__display_2d_placefield_result_plot_ratemaps_2D.pdf, a_fig_context: kdiba_gor01_one_2006-6-08_14-26-15_maze__display_2d_placefield_result_plot_ratemaps_2D\n",
      "\tsession/kdiba_gor01_one_2006-6-08_14-26-15_sess/figures/kdiba_gor01_one_2006-6-08_14-26-15_maze__display_2d_placefield_result_plot_ratemaps_2D\n",
      "a_fig_path: C:\\Users\\pho\\repos\\Spike3DWorkEnv\\Spike3D\\EXTERNAL\\Screenshots\\ProgrammaticDisplayFunctionTesting\\2023-06-05\\kdiba\\gor01\\one\\2006-6-08_14-26-15\\kdiba_gor01_one_2006-6-08_14-26-15_maze1__display_2d_placefield_occupancy.pdf, a_fig_context: kdiba_gor01_one_2006-6-08_14-26-15_maze1__display_2d_placefield_occupancy\n",
      "\tsession/kdiba_gor01_one_2006-6-08_14-26-15_sess/figures/kdiba_gor01_one_2006-6-08_14-26-15_maze1__display_2d_placefield_occupancy\n",
      "a_fig_path: C:\\Users\\pho\\repos\\Spike3DWorkEnv\\Spike3D\\EXTERNAL\\Screenshots\\ProgrammaticDisplayFunctionTesting\\2023-06-05\\kdiba\\gor01\\one\\2006-6-08_14-26-15\\kdiba_gor01_one_2006-6-08_14-26-15_maze2__display_2d_placefield_occupancy.pdf, a_fig_context: kdiba_gor01_one_2006-6-08_14-26-15_maze2__display_2d_placefield_occupancy\n",
      "\tsession/kdiba_gor01_one_2006-6-08_14-26-15_sess/figures/kdiba_gor01_one_2006-6-08_14-26-15_maze2__display_2d_placefield_occupancy\n",
      "a_fig_path: C:\\Users\\pho\\repos\\Spike3DWorkEnv\\Spike3D\\EXTERNAL\\Screenshots\\ProgrammaticDisplayFunctionTesting\\2023-06-05\\kdiba\\gor01\\one\\2006-6-08_14-26-15\\kdiba_gor01_one_2006-6-08_14-26-15_maze__display_2d_placefield_occupancy.pdf, a_fig_context: kdiba_gor01_one_2006-6-08_14-26-15_maze__display_2d_placefield_occupancy\n",
      "\tsession/kdiba_gor01_one_2006-6-08_14-26-15_sess/figures/kdiba_gor01_one_2006-6-08_14-26-15_maze__display_2d_placefield_occupancy\n",
      "a_fig_path: C:\\Users\\pho\\repos\\Spike3DWorkEnv\\Spike3D\\EXTERNAL\\Screenshots\\ProgrammaticDisplayFunctionTesting\\2023-06-05\\kdiba\\gor01\\one\\2006-6-08_14-26-15\\kdiba_gor01_one_2006-6-08_14-26-15_plot_expected_vs_observed_epoch_idx_obs_exp_diff_ptp.png, a_fig_context: kdiba_gor01_one_2006-6-08_14-26-15_plot_expected_vs_observed_epoch_idx_obs_exp_diff_ptp\n",
      "\tsession/kdiba_gor01_one_2006-6-08_14-26-15_sess/figures/kdiba_gor01_one_2006-6-08_14-26-15_plot_expected_vs_observed_epoch_idx_obs_exp_diff_ptp\n",
      "a_fig_path: C:\\Users\\pho\\repos\\Spike3DWorkEnv\\Spike3D\\EXTERNAL\\Screenshots\\ProgrammaticDisplayFunctionTesting\\2023-06-05\\kdiba\\gor01\\one\\2006-6-08_14-26-15\\kdiba_gor01_one_2006-6-08_14-26-15_DecodedEpochSlices_replays_long_results_obj.png, a_fig_context: kdiba_gor01_one_2006-6-08_14-26-15_DecodedEpochSlices_replays_long_results_obj\n",
      "\tsession/kdiba_gor01_one_2006-6-08_14-26-15_sess/figures/kdiba_gor01_one_2006-6-08_14-26-15_DecodedEpochSlices_replays_long_results_obj\n",
      "a_fig_path: C:\\Users\\pho\\repos\\Spike3DWorkEnv\\Spike3D\\EXTERNAL\\Screenshots\\ProgrammaticDisplayFunctionTesting\\2023-06-05\\kdiba\\gor01\\one\\2006-6-08_14-26-15\\kdiba_gor01_one_2006-6-08_14-26-15_DecodedEpochSlices_replays_short_results_obj.png, a_fig_context: kdiba_gor01_one_2006-6-08_14-26-15_DecodedEpochSlices_replays_short_results_obj\n",
      "\tsession/kdiba_gor01_one_2006-6-08_14-26-15_sess/figures/kdiba_gor01_one_2006-6-08_14-26-15_DecodedEpochSlices_replays_short_results_obj\n",
      "Shutting down background jobs, please wait a moment...\n",
      "Done!\n",
      "Waiting for the remaining 28 operations to synchronize with Neptune. Do not kill this process.\n",
      "All 28 operations synced, thanks for waiting!\n",
      "Explore the metadata in the Neptune app:\n",
      "https://app.neptune.ai/commander.pho/PhoDibaLongShort2023/e/PHOD-460/metadata\n"
     ]
    }
   ],
   "source": [
    "curr_active_pipeline.reload_default_display_functions()\n",
    "_perform_plots(curr_active_pipeline)"
   ]
  },
  {
   "cell_type": "code",
   "execution_count": null,
   "id": "b3643a44",
   "metadata": {},
   "outputs": [],
   "source": [
    "# curr_active_pipeline.get_output_path()\n",
    "list(curr_active_pipeline.registered_output_files.keys())"
   ]
  },
  {
   "cell_type": "code",
   "execution_count": null,
   "id": "0c83dfe1",
   "metadata": {},
   "outputs": [],
   "source": []
  },
  {
   "attachments": {},
   "cell_type": "markdown",
   "id": "d6e13d31",
   "metadata": {
    "jp-MarkdownHeadingCollapsed": true,
    "tags": []
   },
   "source": [
    "### Pipeline Loading/Saving"
   ]
  },
  {
   "cell_type": "code",
   "execution_count": null,
   "id": "83ec5043",
   "metadata": {},
   "outputs": [],
   "source": [
    "curr_active_pipeline.save_pipeline(saving_mode=PipelineSavingScheme.TEMP_THEN_OVERWRITE) # AttributeError: 'PfND_TimeDependent' object has no attribute '_included_thresh_neurons_indx'\n",
    "# TypeError: cannot pickle 'MplMultiTab' object\n",
    "# PicklingError: Can't pickle .set_closure_cell at 0x000002BF248F50D0>: it's not found as attr._compat.make_set_closure_cell..set_closure_cell\n",
    "# TypeError: cannot pickle 'PyQt5.QtCore.pyqtSignal' object"
   ]
  },
  {
   "cell_type": "code",
   "execution_count": null,
   "id": "d7ce9e7e",
   "metadata": {},
   "outputs": [],
   "source": [
    "curr_active_pipeline.save_pipeline(saving_mode=PipelineSavingScheme.OVERWRITE_IN_PLACE)"
   ]
  },
  {
   "cell_type": "code",
   "execution_count": null,
   "id": "0d2bd0d2",
   "metadata": {},
   "outputs": [],
   "source": [
    "curr_active_pipeline.save_global_computation_results() # PicklingError: Can't pickle .set_closure_cell at 0x000002BF248F50D0>: it's not found as attr._compat.make_set_closure_cell..set_closure_cell"
   ]
  },
  {
   "cell_type": "code",
   "execution_count": null,
   "id": "7e894282",
   "metadata": {},
   "outputs": [],
   "source": [
    "curr_active_pipeline.load_pickled_global_computation_results()"
   ]
  },
  {
   "cell_type": "code",
   "execution_count": null,
   "id": "f6ae79e5",
   "metadata": {},
   "outputs": [],
   "source": [
    "curr_active_pipeline.clear_display_outputs()\n",
    "curr_active_pipeline.clear_registered_output_files()"
   ]
  },
  {
   "cell_type": "code",
   "execution_count": null,
   "id": "ea1cf2ed",
   "metadata": {},
   "outputs": [],
   "source": [
    "curr_active_pipeline.save_global_computation_results()"
   ]
  },
  {
   "attachments": {},
   "cell_type": "markdown",
   "id": "c850782f",
   "metadata": {},
   "source": [
    "# End Run"
   ]
  },
  {
   "cell_type": "code",
   "execution_count": 8,
   "id": "dda48261",
   "metadata": {
    "tags": [
     "load",
     "ACTIVE"
    ]
   },
   "outputs": [],
   "source": [
    "## long_short_decoding_analyses:\n",
    "curr_long_short_decoding_analyses = curr_active_pipeline.global_computation_results.computed_data['long_short_leave_one_out_decoding_analysis']\n",
    "## Extract variables from results object:\n",
    "long_one_step_decoder_1D, short_one_step_decoder_1D, long_replays, short_replays, global_replays, long_shared_aclus_only_decoder, short_shared_aclus_only_decoder, shared_aclus, long_short_pf_neurons_diff, n_neurons, long_results_obj, short_results_obj, is_global = curr_long_short_decoding_analyses.long_decoder, curr_long_short_decoding_analyses.short_decoder, curr_long_short_decoding_analyses.long_replays, curr_long_short_decoding_analyses.short_replays, curr_long_short_decoding_analyses.global_replays, curr_long_short_decoding_analyses.long_shared_aclus_only_decoder, curr_long_short_decoding_analyses.short_shared_aclus_only_decoder, curr_long_short_decoding_analyses.shared_aclus, curr_long_short_decoding_analyses.long_short_pf_neurons_diff, curr_long_short_decoding_analyses.n_neurons, curr_long_short_decoding_analyses.long_results_obj, curr_long_short_decoding_analyses.short_results_obj, curr_long_short_decoding_analyses.is_global\n",
    "\n",
    "# (long_one_step_decoder_1D, short_one_step_decoder_1D), (long_one_step_decoder_2D, short_one_step_decoder_2D) = compute_short_long_constrained_decoders(curr_active_pipeline, recalculate_anyway=True)\n",
    "long_epoch_name, short_epoch_name, global_epoch_name = curr_active_pipeline.find_LongShortGlobal_epoch_names()\n",
    "long_epoch_context, short_epoch_context, global_epoch_context = [curr_active_pipeline.filtered_contexts[a_name] for a_name in (long_epoch_name, short_epoch_name, global_epoch_name)]\n",
    "long_session, short_session, global_session = [curr_active_pipeline.filtered_sessions[an_epoch_name] for an_epoch_name in [long_epoch_name, short_epoch_name, global_epoch_name]]\n",
    "long_results, short_results, global_results = [curr_active_pipeline.computation_results[an_epoch_name]['computed_data'] for an_epoch_name in [long_epoch_name, short_epoch_name, global_epoch_name]]\n",
    "long_computation_config, short_computation_config, global_computation_config = [curr_active_pipeline.computation_results[an_epoch_name]['computation_config'] for an_epoch_name in [long_epoch_name, short_epoch_name, global_epoch_name]]\n",
    "long_pf1D, short_pf1D, global_pf1D = long_results.pf1D, short_results.pf1D, global_results.pf1D\n",
    "long_pf2D, short_pf2D, global_pf2D = long_results.pf2D, short_results.pf2D, global_results.pf2D\n",
    "decoding_time_bin_size = long_one_step_decoder_1D.time_bin_size # 1.0/30.0 # 0.03333333333333333\n",
    "\n",
    "## Get global 'long_short_post_decoding' results:\n",
    "curr_long_short_post_decoding = curr_active_pipeline.global_computation_results.computed_data['long_short_post_decoding']\n",
    "expected_v_observed_result, curr_long_short_rr = curr_long_short_post_decoding.expected_v_observed_result, curr_long_short_post_decoding.rate_remapping\n",
    "rate_remapping_df, high_remapping_cells_only = curr_long_short_rr.rr_df, curr_long_short_rr.high_only_rr_df\n",
    "Flat_epoch_time_bins_mean, Flat_decoder_time_bin_centers, num_neurons, num_timebins_in_epoch, num_total_flat_timebins, is_short_track_epoch, is_long_track_epoch, short_short_diff, long_long_diff = expected_v_observed_result['Flat_epoch_time_bins_mean'], expected_v_observed_result['Flat_decoder_time_bin_centers'], expected_v_observed_result['num_neurons'], expected_v_observed_result['num_timebins_in_epoch'], expected_v_observed_result['num_total_flat_timebins'], expected_v_observed_result['is_short_track_epoch'], expected_v_observed_result['is_long_track_epoch'], expected_v_observed_result['short_short_diff'], expected_v_observed_result['long_long_diff']\n"
   ]
  },
  {
   "cell_type": "code",
   "execution_count": null,
   "id": "eb2cef02",
   "metadata": {},
   "outputs": [],
   "source": [
    "# Clearing 'long_short_post_decoding'\n",
    "# del curr_active_pipeline.global_computation_results.computed_data['long_short_post_decoding']\n",
    "# drop_columns = [col for col in df2.columns if col in df1.columns]\n",
    "# df1 = df1.drop(drop_columns, axis=1)"
   ]
  },
  {
   "cell_type": "code",
   "execution_count": null,
   "id": "dffb912e",
   "metadata": {},
   "outputs": [],
   "source": [
    "long_pf1D.plot_ratemaps_1D()"
   ]
  },
  {
   "cell_type": "code",
   "execution_count": null,
   "id": "39f8f738",
   "metadata": {},
   "outputs": [],
   "source": [
    "long_pf2D.plot_ratemaps_2D()"
   ]
  },
  {
   "cell_type": "code",
   "execution_count": 10,
   "id": "be86dcb8",
   "metadata": {},
   "outputs": [
    {
     "data": {
      "text/html": [
       "<div>\n",
       "<style scoped>\n",
       "    .dataframe tbody tr th:only-of-type {\n",
       "        vertical-align: middle;\n",
       "    }\n",
       "\n",
       "    .dataframe tbody tr th {\n",
       "        vertical-align: top;\n",
       "    }\n",
       "\n",
       "    .dataframe thead th {\n",
       "        text-align: right;\n",
       "    }\n",
       "</style>\n",
       "<table border=\"1\" class=\"dataframe\">\n",
       "  <thead>\n",
       "    <tr style=\"text-align: right;\">\n",
       "      <th></th>\n",
       "      <th>t</th>\n",
       "      <th>x</th>\n",
       "      <th>y</th>\n",
       "      <th>lin_pos</th>\n",
       "      <th>speed</th>\n",
       "      <th>dt</th>\n",
       "      <th>velocity_x</th>\n",
       "      <th>acceleration_x</th>\n",
       "      <th>velocity_y</th>\n",
       "      <th>acceleration_y</th>\n",
       "      <th>x_smooth</th>\n",
       "      <th>y_smooth</th>\n",
       "      <th>velocity_x_smooth</th>\n",
       "      <th>acceleration_x_smooth</th>\n",
       "      <th>velocity_y_smooth</th>\n",
       "      <th>acceleration_y_smooth</th>\n",
       "      <th>lap</th>\n",
       "      <th>lap_dir</th>\n",
       "      <th>binned_x</th>\n",
       "      <th>binned_y</th>\n",
       "    </tr>\n",
       "  </thead>\n",
       "  <tbody>\n",
       "    <tr>\n",
       "      <th>13</th>\n",
       "      <td>0.030454</td>\n",
       "      <td>231.393024</td>\n",
       "      <td>139.660200</td>\n",
       "      <td>-57.720706</td>\n",
       "      <td>0.000000</td>\n",
       "      <td>0.033580</td>\n",
       "      <td>0.000000</td>\n",
       "      <td>0.000000</td>\n",
       "      <td>0.000000</td>\n",
       "      <td>0.000000</td>\n",
       "      <td>NaN</td>\n",
       "      <td>NaN</td>\n",
       "      <td>NaN</td>\n",
       "      <td>NaN</td>\n",
       "      <td>NaN</td>\n",
       "      <td>NaN</td>\n",
       "      <td>NaN</td>\n",
       "      <td>-1.0</td>\n",
       "      <td>101</td>\n",
       "      <td>5</td>\n",
       "    </tr>\n",
       "    <tr>\n",
       "      <th>14</th>\n",
       "      <td>0.063484</td>\n",
       "      <td>231.393024</td>\n",
       "      <td>139.660200</td>\n",
       "      <td>-57.720706</td>\n",
       "      <td>0.000000</td>\n",
       "      <td>0.033030</td>\n",
       "      <td>0.000000</td>\n",
       "      <td>0.000000</td>\n",
       "      <td>0.000000</td>\n",
       "      <td>0.000000</td>\n",
       "      <td>NaN</td>\n",
       "      <td>NaN</td>\n",
       "      <td>NaN</td>\n",
       "      <td>NaN</td>\n",
       "      <td>NaN</td>\n",
       "      <td>NaN</td>\n",
       "      <td>NaN</td>\n",
       "      <td>-1.0</td>\n",
       "      <td>101</td>\n",
       "      <td>5</td>\n",
       "    </tr>\n",
       "    <tr>\n",
       "      <th>15</th>\n",
       "      <td>0.096808</td>\n",
       "      <td>231.393024</td>\n",
       "      <td>139.660200</td>\n",
       "      <td>-57.720706</td>\n",
       "      <td>0.000000</td>\n",
       "      <td>0.033324</td>\n",
       "      <td>0.000000</td>\n",
       "      <td>0.000000</td>\n",
       "      <td>0.000000</td>\n",
       "      <td>0.000000</td>\n",
       "      <td>NaN</td>\n",
       "      <td>NaN</td>\n",
       "      <td>NaN</td>\n",
       "      <td>NaN</td>\n",
       "      <td>NaN</td>\n",
       "      <td>NaN</td>\n",
       "      <td>NaN</td>\n",
       "      <td>-1.0</td>\n",
       "      <td>101</td>\n",
       "      <td>5</td>\n",
       "    </tr>\n",
       "    <tr>\n",
       "      <th>16</th>\n",
       "      <td>0.129958</td>\n",
       "      <td>231.393024</td>\n",
       "      <td>139.660200</td>\n",
       "      <td>-57.720706</td>\n",
       "      <td>0.000000</td>\n",
       "      <td>0.033150</td>\n",
       "      <td>0.000000</td>\n",
       "      <td>0.000000</td>\n",
       "      <td>0.000000</td>\n",
       "      <td>0.000000</td>\n",
       "      <td>NaN</td>\n",
       "      <td>NaN</td>\n",
       "      <td>NaN</td>\n",
       "      <td>NaN</td>\n",
       "      <td>NaN</td>\n",
       "      <td>NaN</td>\n",
       "      <td>NaN</td>\n",
       "      <td>-1.0</td>\n",
       "      <td>101</td>\n",
       "      <td>5</td>\n",
       "    </tr>\n",
       "    <tr>\n",
       "      <th>17</th>\n",
       "      <td>0.164523</td>\n",
       "      <td>231.393024</td>\n",
       "      <td>139.660200</td>\n",
       "      <td>-57.720706</td>\n",
       "      <td>0.000000</td>\n",
       "      <td>0.034565</td>\n",
       "      <td>0.000000</td>\n",
       "      <td>0.000000</td>\n",
       "      <td>0.000000</td>\n",
       "      <td>0.000000</td>\n",
       "      <td>NaN</td>\n",
       "      <td>NaN</td>\n",
       "      <td>NaN</td>\n",
       "      <td>NaN</td>\n",
       "      <td>NaN</td>\n",
       "      <td>NaN</td>\n",
       "      <td>NaN</td>\n",
       "      <td>-1.0</td>\n",
       "      <td>101</td>\n",
       "      <td>5</td>\n",
       "    </tr>\n",
       "    <tr>\n",
       "      <th>...</th>\n",
       "      <td>...</td>\n",
       "      <td>...</td>\n",
       "      <td>...</td>\n",
       "      <td>...</td>\n",
       "      <td>...</td>\n",
       "      <td>...</td>\n",
       "      <td>...</td>\n",
       "      <td>...</td>\n",
       "      <td>...</td>\n",
       "      <td>...</td>\n",
       "      <td>...</td>\n",
       "      <td>...</td>\n",
       "      <td>...</td>\n",
       "      <td>...</td>\n",
       "      <td>...</td>\n",
       "      <td>...</td>\n",
       "      <td>...</td>\n",
       "      <td>...</td>\n",
       "      <td>...</td>\n",
       "      <td>...</td>\n",
       "    </tr>\n",
       "    <tr>\n",
       "      <th>62761</th>\n",
       "      <td>2093.741872</td>\n",
       "      <td>185.327585</td>\n",
       "      <td>110.748902</td>\n",
       "      <td>-15.444688</td>\n",
       "      <td>2.401597</td>\n",
       "      <td>0.034709</td>\n",
       "      <td>-1.590195</td>\n",
       "      <td>2.807296</td>\n",
       "      <td>-1.673783</td>\n",
       "      <td>2.954860</td>\n",
       "      <td>185.852702</td>\n",
       "      <td>111.301621</td>\n",
       "      <td>-1.654736</td>\n",
       "      <td>0.051334</td>\n",
       "      <td>-1.741716</td>\n",
       "      <td>0.054032</td>\n",
       "      <td>81.0</td>\n",
       "      <td>1.0</td>\n",
       "      <td>78</td>\n",
       "      <td>NaN</td>\n",
       "    </tr>\n",
       "    <tr>\n",
       "      <th>62762</th>\n",
       "      <td>2093.773571</td>\n",
       "      <td>185.272491</td>\n",
       "      <td>110.690912</td>\n",
       "      <td>-15.394396</td>\n",
       "      <td>2.397235</td>\n",
       "      <td>0.031699</td>\n",
       "      <td>-1.738031</td>\n",
       "      <td>-4.663727</td>\n",
       "      <td>-1.829389</td>\n",
       "      <td>-4.908872</td>\n",
       "      <td>185.797461</td>\n",
       "      <td>111.243476</td>\n",
       "      <td>-1.659163</td>\n",
       "      <td>-0.194357</td>\n",
       "      <td>-1.746376</td>\n",
       "      <td>-0.204574</td>\n",
       "      <td>81.0</td>\n",
       "      <td>1.0</td>\n",
       "      <td>78</td>\n",
       "      <td>NaN</td>\n",
       "    </tr>\n",
       "    <tr>\n",
       "      <th>62763</th>\n",
       "      <td>2093.807782</td>\n",
       "      <td>185.217263</td>\n",
       "      <td>110.632780</td>\n",
       "      <td>-15.348959</td>\n",
       "      <td>2.403097</td>\n",
       "      <td>0.034211</td>\n",
       "      <td>-1.614351</td>\n",
       "      <td>3.615202</td>\n",
       "      <td>-1.699208</td>\n",
       "      <td>3.805233</td>\n",
       "      <td>185.742229</td>\n",
       "      <td>111.185341</td>\n",
       "      <td>-1.657863</td>\n",
       "      <td>-0.027095</td>\n",
       "      <td>-1.745007</td>\n",
       "      <td>-0.028519</td>\n",
       "      <td>81.0</td>\n",
       "      <td>1.0</td>\n",
       "      <td>78</td>\n",
       "      <td>NaN</td>\n",
       "    </tr>\n",
       "    <tr>\n",
       "      <th>62764</th>\n",
       "      <td>2093.841116</td>\n",
       "      <td>185.161859</td>\n",
       "      <td>110.574464</td>\n",
       "      <td>-15.313345</td>\n",
       "      <td>2.410720</td>\n",
       "      <td>0.033334</td>\n",
       "      <td>-1.662080</td>\n",
       "      <td>-1.431830</td>\n",
       "      <td>-1.749446</td>\n",
       "      <td>-1.507093</td>\n",
       "      <td>185.686986</td>\n",
       "      <td>111.127195</td>\n",
       "      <td>-1.656635</td>\n",
       "      <td>-0.027957</td>\n",
       "      <td>-1.743715</td>\n",
       "      <td>-0.029426</td>\n",
       "      <td>81.0</td>\n",
       "      <td>1.0</td>\n",
       "      <td>78</td>\n",
       "      <td>NaN</td>\n",
       "    </tr>\n",
       "    <tr>\n",
       "      <th>62765</th>\n",
       "      <td>2093.874535</td>\n",
       "      <td>185.106480</td>\n",
       "      <td>110.516175</td>\n",
       "      <td>-15.293455</td>\n",
       "      <td>2.409623</td>\n",
       "      <td>0.033419</td>\n",
       "      <td>-1.657097</td>\n",
       "      <td>0.149080</td>\n",
       "      <td>-1.744202</td>\n",
       "      <td>0.156916</td>\n",
       "      <td>185.631724</td>\n",
       "      <td>111.069028</td>\n",
       "      <td>-1.657592</td>\n",
       "      <td>-0.092981</td>\n",
       "      <td>-1.744723</td>\n",
       "      <td>-0.097868</td>\n",
       "      <td>81.0</td>\n",
       "      <td>1.0</td>\n",
       "      <td>78</td>\n",
       "      <td>NaN</td>\n",
       "    </tr>\n",
       "  </tbody>\n",
       "</table>\n",
       "<p>62753 rows × 20 columns</p>\n",
       "</div>"
      ],
      "text/plain": [
       "                 t           x           y    lin_pos     speed        dt  \\\n",
       "13        0.030454  231.393024  139.660200 -57.720706  0.000000  0.033580   \n",
       "14        0.063484  231.393024  139.660200 -57.720706  0.000000  0.033030   \n",
       "15        0.096808  231.393024  139.660200 -57.720706  0.000000  0.033324   \n",
       "16        0.129958  231.393024  139.660200 -57.720706  0.000000  0.033150   \n",
       "17        0.164523  231.393024  139.660200 -57.720706  0.000000  0.034565   \n",
       "...            ...         ...         ...        ...       ...       ...   \n",
       "62761  2093.741872  185.327585  110.748902 -15.444688  2.401597  0.034709   \n",
       "62762  2093.773571  185.272491  110.690912 -15.394396  2.397235  0.031699   \n",
       "62763  2093.807782  185.217263  110.632780 -15.348959  2.403097  0.034211   \n",
       "62764  2093.841116  185.161859  110.574464 -15.313345  2.410720  0.033334   \n",
       "62765  2093.874535  185.106480  110.516175 -15.293455  2.409623  0.033419   \n",
       "\n",
       "       velocity_x  acceleration_x  velocity_y  acceleration_y    x_smooth  \\\n",
       "13       0.000000        0.000000    0.000000        0.000000         NaN   \n",
       "14       0.000000        0.000000    0.000000        0.000000         NaN   \n",
       "15       0.000000        0.000000    0.000000        0.000000         NaN   \n",
       "16       0.000000        0.000000    0.000000        0.000000         NaN   \n",
       "17       0.000000        0.000000    0.000000        0.000000         NaN   \n",
       "...           ...             ...         ...             ...         ...   \n",
       "62761   -1.590195        2.807296   -1.673783        2.954860  185.852702   \n",
       "62762   -1.738031       -4.663727   -1.829389       -4.908872  185.797461   \n",
       "62763   -1.614351        3.615202   -1.699208        3.805233  185.742229   \n",
       "62764   -1.662080       -1.431830   -1.749446       -1.507093  185.686986   \n",
       "62765   -1.657097        0.149080   -1.744202        0.156916  185.631724   \n",
       "\n",
       "         y_smooth  velocity_x_smooth  acceleration_x_smooth  \\\n",
       "13            NaN                NaN                    NaN   \n",
       "14            NaN                NaN                    NaN   \n",
       "15            NaN                NaN                    NaN   \n",
       "16            NaN                NaN                    NaN   \n",
       "17            NaN                NaN                    NaN   \n",
       "...           ...                ...                    ...   \n",
       "62761  111.301621          -1.654736               0.051334   \n",
       "62762  111.243476          -1.659163              -0.194357   \n",
       "62763  111.185341          -1.657863              -0.027095   \n",
       "62764  111.127195          -1.656635              -0.027957   \n",
       "62765  111.069028          -1.657592              -0.092981   \n",
       "\n",
       "       velocity_y_smooth  acceleration_y_smooth   lap  lap_dir binned_x  \\\n",
       "13                   NaN                    NaN   NaN     -1.0      101   \n",
       "14                   NaN                    NaN   NaN     -1.0      101   \n",
       "15                   NaN                    NaN   NaN     -1.0      101   \n",
       "16                   NaN                    NaN   NaN     -1.0      101   \n",
       "17                   NaN                    NaN   NaN     -1.0      101   \n",
       "...                  ...                    ...   ...      ...      ...   \n",
       "62761          -1.741716               0.054032  81.0      1.0       78   \n",
       "62762          -1.746376              -0.204574  81.0      1.0       78   \n",
       "62763          -1.745007              -0.028519  81.0      1.0       78   \n",
       "62764          -1.743715              -0.029426  81.0      1.0       78   \n",
       "62765          -1.744723              -0.097868  81.0      1.0       78   \n",
       "\n",
       "      binned_y  \n",
       "13           5  \n",
       "14           5  \n",
       "15           5  \n",
       "16           5  \n",
       "17           5  \n",
       "...        ...  \n",
       "62761      NaN  \n",
       "62762      NaN  \n",
       "62763      NaN  \n",
       "62764      NaN  \n",
       "62765      NaN  \n",
       "\n",
       "[62753 rows x 20 columns]"
      ]
     },
     "execution_count": 10,
     "metadata": {},
     "output_type": "execute_result"
    }
   ],
   "source": [
    "global_session.position.to_dataframe()"
   ]
  },
  {
   "cell_type": "code",
   "execution_count": 12,
   "id": "5594b2f1",
   "metadata": {},
   "outputs": [
    {
     "data": {
      "text/plain": [
       "{'mode': 'bin_size', 'xstep': 2, 'xnum_bins': 118}"
      ]
     },
     "execution_count": 12,
     "metadata": {},
     "output_type": "execute_result"
    }
   ],
   "source": [
    "# long_pf2D\n",
    "# global_pf2D.bin_info\n",
    "global_pf1D.bin_info"
   ]
  },
  {
   "cell_type": "code",
   "execution_count": 15,
   "id": "d659ad6a",
   "metadata": {},
   "outputs": [
    {
     "data": {
      "text/plain": [
       "(Int64Index([   13,    14,    15,    16,    17,    18,    19,    20,    21,\n",
       "                22,\n",
       "             ...\n",
       "             36313, 36314, 36315, 36316, 36317, 36318, 36319, 36320, 36321,\n",
       "             36322],\n",
       "            dtype='int64', length=36310),\n",
       " <Position: {'_filename': None, '_metadata': None, '_data':                  t           x           y    lin_pos      speed        dt  \\\n",
       " 13        0.030454  231.393024  139.660200 -57.720706   0.000000  0.033580   \n",
       " 14        0.063484  231.393024  139.660200 -57.720706   0.000000  0.033030   \n",
       " 15        0.096808  231.393024  139.660200 -57.720706   0.000000  0.033324   \n",
       " 16        0.129958  231.393024  139.660200 -57.720706   0.000000  0.033150   \n",
       " 17        0.164523  231.393024  139.660200 -57.720706   0.000000  0.034565   \n",
       " ...            ...         ...         ...        ...        ...       ...   \n",
       " 36318  1211.417736  218.100538  142.560292 -44.548796  21.879742  0.033843   \n",
       " 36319  1211.451157  217.464538  142.382891 -43.902513  19.788397  0.033421   \n",
       " 36320  1211.485072  216.862012  142.202383 -43.345298  18.850498  0.033915   \n",
       " 36321  1211.517170  216.265492  142.022512 -42.922221  18.672615  0.032098   \n",
       " 36322  1211.550877  215.665376  141.841558 -42.689955  18.785187  0.033707   \n",
       " \n",
       "        velocity_x  acceleration_x  velocity_y  acceleration_y    x_smooth  \\\n",
       " 13       0.000000        0.000000    0.000000        0.000000         NaN   \n",
       " 14       0.000000        0.000000    0.000000        0.000000         NaN   \n",
       " 15       0.000000        0.000000    0.000000        0.000000         NaN   \n",
       " 16       0.000000        0.000000    0.000000        0.000000         NaN   \n",
       " 17       0.000000        0.000000    0.000000        0.000000         NaN   \n",
       " ...           ...             ...         ...             ...         ...   \n",
       " 36318  -21.156772       77.731476   -4.212018      -94.153729  224.994066   \n",
       " 36319  -19.029964       63.636869   -5.308074      -32.795444  224.389454   \n",
       " 36320  -17.765763       37.275582   -5.322362       -0.421270  223.768743   \n",
       " 36321  -18.584327      -25.502043   -5.603788       -8.767711  223.132253   \n",
       " 36322  -17.803898       23.153336   -5.368462        6.981494  222.479900   \n",
       " \n",
       "          y_smooth  velocity_x_smooth  acceleration_x_smooth  \\\n",
       " 13            NaN                NaN                    NaN   \n",
       " 14            NaN                NaN                    NaN   \n",
       " 15            NaN                NaN                    NaN   \n",
       " 16            NaN                NaN                    NaN   \n",
       " 17            NaN                NaN                    NaN   \n",
       " ...           ...                ...                    ...   \n",
       " 36318  140.753694         -17.631059             -19.436971   \n",
       " 36319  140.903794         -18.146161             -16.211428   \n",
       " 36320  141.043516         -18.616860             -14.907547   \n",
       " 36321  141.172891         -19.122174             -15.992126   \n",
       " 36322  141.291855         -19.574269             -14.394648   \n",
       " \n",
       "        velocity_y_smooth  acceleration_y_smooth  lap  lap_dir binned_x  \\\n",
       " 13                   NaN                    NaN  NaN     -1.0      101   \n",
       " 14                   NaN                    NaN  NaN     -1.0      101   \n",
       " 15                   NaN                    NaN  NaN     -1.0      101   \n",
       " 16                   NaN                    NaN  NaN     -1.0      101   \n",
       " 17                   NaN                    NaN  NaN     -1.0      101   \n",
       " ...                  ...                    ...  ...      ...      ...   \n",
       " 36318           4.822629              -6.936107  NaN     -1.0       94   \n",
       " 36319           4.515161              -8.855937  NaN     -1.0       94   \n",
       " 36320           4.208791              -8.823031  NaN     -1.0       94   \n",
       " 36321           3.887741              -9.279782  NaN     -1.0       94   \n",
       " 36322           3.577089              -8.973101  NaN     -1.0       93   \n",
       " \n",
       "       binned_y  \n",
       " 13           5  \n",
       " 14           5  \n",
       " 15           5  \n",
       " 16           5  \n",
       " 17           5  \n",
       " ...        ...  \n",
       " 36318        6  \n",
       " 36319        6  \n",
       " 36320        6  \n",
       " 36321        6  \n",
       " 36322        6  \n",
       " \n",
       " [36310 rows x 20 columns]};>,\n",
       " <Position: {'_filename': None, '_metadata': None, '_data':                  t          x    lin_pos\n",
       " 0         0.030454 -58.125957 -58.125957\n",
       " 1         0.063484 -58.125957 -58.125957\n",
       " 2         0.096808 -58.125957 -58.125957\n",
       " 3         0.129958 -58.125957 -58.125957\n",
       " 4         0.164523 -58.125957 -58.125957\n",
       " ...            ...        ...        ...\n",
       " 36305  1211.417736 -44.284051 -44.284051\n",
       " 36306  1211.451157 -43.575940 -43.575940\n",
       " 36307  1211.485072 -42.993549 -42.993549\n",
       " 36308  1211.517170 -42.559441 -42.559441\n",
       " 36309  1211.550877 -42.322375 -42.322375\n",
       " \n",
       " [36310 rows x 3 columns]};>)"
      ]
     },
     "execution_count": 15,
     "metadata": {},
     "output_type": "execute_result"
    }
   ],
   "source": [
    "global_session.compute_linearized_position(global_session)"
   ]
  },
  {
   "cell_type": "code",
   "execution_count": null,
   "id": "a894cb7e",
   "metadata": {},
   "outputs": [],
   "source": [
    "import datetime\n",
    "\n",
    "datetime.datetime("
   ]
  },
  {
   "attachments": {},
   "cell_type": "markdown",
   "id": "8d8ff696",
   "metadata": {},
   "source": [
    "# 2023-06-05 - Investigate messed up grid_bin_boounds\n",
    "- find previous graphical rectangle display\n"
   ]
  },
  {
   "cell_type": "code",
   "execution_count": null,
   "id": "6ff5a598",
   "metadata": {},
   "outputs": [],
   "source": [
    "# global_session.position.x\n",
    "sess = curr_active_pipeline.sess\n",
    "## Determine the grid_bin_bounds from the long session:\n",
    "grid_bin_bounds = PlacefieldComputationParameters.compute_grid_bin_bounds(sess.position.x, sess.position.y)\n",
    "grid_bin_bounds"
   ]
  },
  {
   "cell_type": "code",
   "execution_count": null,
   "id": "9a8d6574",
   "metadata": {},
   "outputs": [],
   "source": [
    "from neuropy.utils.matplotlib_helpers import add_rectangular_selector\n",
    "\n",
    "%matplotlib qt\n",
    "fig, ax = curr_active_pipeline.computation_results['maze'].computed_data.pf2D.plot_occupancy()\n",
    "rect_selector, set_extents = add_rectangular_selector(fig, ax, initial_selection=grid_bin_bounds) # (24.82, 257.88), (125.52, 149.19)"
   ]
  },
  {
   "cell_type": "code",
   "execution_count": null,
   "id": "54e2372d",
   "metadata": {},
   "outputs": [],
   "source": [
    "## Create a dictionary of overrides that have been specified manually for a given session:\n",
    "specific_session_override_dict = { IdentifyingContext(format_name='kdiba',animal='gor01',exper_name='one',session_name='2006-6-08_14-26-15'):{'grid_bin_bounds':((29.16, 261.70), (130.23, 150.99))}\n",
    "}\n",
    "\n",
    "\n",
    "\n",
    "# curr_active_pipeline.get_session_context().get_initialization_code_string()\n",
    "specific_session_override_dict[sess.get_context()]\n",
    "# (29.16, 261.70), (130.23, 150.99)\n",
    "\n",
    "# ('kdiba', 'gor01', 'one', '2006-6-08_14-26-15')\n",
    "# IdentifyingContext(format_name='kdiba',animal='gor01',exper_name='one',session_name='2006-6-08_14-26-15')"
   ]
  },
  {
   "cell_type": "code",
   "execution_count": null,
   "id": "a7c8b830",
   "metadata": {},
   "outputs": [],
   "source": []
  },
  {
   "attachments": {},
   "cell_type": "markdown",
   "id": "844354b4",
   "metadata": {
    "tags": []
   },
   "source": [
    "# 2023-05-26 - Expected vs Observed firing rates\n",
    "## 2023-05-30 Comments from Kourosh:\n",
    "- concern: is it valid to use the most-likely predicted position for each decoder for this? Isn't it a bit circular because the firing rates determine the likelihood of the position?\n",
    "- sign-rank is equivalent of paired t-test for non-parametric, use that to compare the means for each cell after averaging over replays to remove the noise from that\n",
    "- OPTION: could add a continuous plot that shows the difference between the two decoders and the animal's measured position as a function of time (observed_x - long_decoded_x), (observed_x - short_decoded_x).\n",
    "- [x] Plot just replay-to-replay series, removing the time axis"
   ]
  },
  {
   "cell_type": "code",
   "execution_count": null,
   "id": "bf1a25f4",
   "metadata": {},
   "outputs": [],
   "source": [
    "## Get global 'long_short_post_decoding' results:\n",
    "curr_long_short_post_decoding = curr_active_pipeline.global_computation_results.computed_data['long_short_post_decoding']\n",
    "expected_v_observed_result, curr_long_short_rr = curr_long_short_post_decoding.expected_v_observed_result, curr_long_short_post_decoding.rate_remapping\n",
    "rate_remapping_df, high_remapping_cells_only = curr_long_short_rr.rr_df, curr_long_short_rr.high_only_rr_df\n",
    "Flat_epoch_time_bins_mean, Flat_decoder_time_bin_centers, num_neurons, num_timebins_in_epoch, num_total_flat_timebins, is_short_track_epoch, is_long_track_epoch, short_short_diff, long_long_diff = expected_v_observed_result['Flat_epoch_time_bins_mean'], expected_v_observed_result['Flat_decoder_time_bin_centers'], expected_v_observed_result['num_neurons'], expected_v_observed_result['num_timebins_in_epoch'], expected_v_observed_result['num_total_flat_timebins'], expected_v_observed_result['is_short_track_epoch'], expected_v_observed_result['is_long_track_epoch'], expected_v_observed_result['short_short_diff'], expected_v_observed_result['long_long_diff']\n",
    "\n",
    "num_epochs = len(num_timebins_in_epoch)"
   ]
  },
  {
   "attachments": {},
   "cell_type": "markdown",
   "id": "70955f60",
   "metadata": {},
   "source": [
    "## 2023-05-30 - `plot_expected_vs_observed`"
   ]
  },
  {
   "cell_type": "code",
   "execution_count": null,
   "id": "29e4ab2e",
   "metadata": {},
   "outputs": [],
   "source": [
    "from pyphoplacecellanalysis.General.Pipeline.Stages.DisplayFunctions.MultiContextComparingDisplayFunctions.LongShortTrackComparingDisplayFunctions import _prepare_plot_expected_vs_observed\n",
    "\n",
    "fig, axes, final_context, active_out_figure_paths = _prepare_plot_expected_vs_observed(curr_active_pipeline, defer_render=False)"
   ]
  },
  {
   "cell_type": "code",
   "execution_count": null,
   "id": "feeef8c0",
   "metadata": {},
   "outputs": [],
   "source": [
    "## 2023-05-31 - Reference Output of matplotlib figure to file, along with building appropriate context.\n",
    "active_session_figures_out_path = curr_active_pipeline.get_daily_programmatic_session_output_path()\n",
    "final_context = curr_active_pipeline.sess.get_context().adding_context('display_fn', display_fn_name='plot_expected_vs_observed').adding_context('display_kwargs', **display_kwargs)\n",
    "print(f'final_context: {final_context}')\n",
    "active_out_figure_paths = perform_write_to_file(fig, final_context, figures_parent_out_path=active_session_figures_out_path, register_output_file_fn=curr_active_pipeline.register_output_file)\n"
   ]
  },
  {
   "cell_type": "code",
   "execution_count": null,
   "id": "993412e0",
   "metadata": {},
   "outputs": [],
   "source": [
    "all_epochs_computed_observed_from_expected_difference_LONG[0] #.shape (42, 8)"
   ]
  },
  {
   "cell_type": "code",
   "execution_count": null,
   "id": "0319692c",
   "metadata": {},
   "outputs": [],
   "source": [
    "all_epochs_computed_observed_from_expected_difference_maximum_LONG[0] # .shape (42, 8)"
   ]
  },
  {
   "cell_type": "code",
   "execution_count": null,
   "id": "2fee52d0",
   "metadata": {},
   "outputs": [],
   "source": [
    "all_epochs_computed_expected_cell_firing_rates_mean_LONG[0] # .shape (42,)"
   ]
  },
  {
   "cell_type": "code",
   "execution_count": null,
   "id": "e21dbc64",
   "metadata": {},
   "outputs": [],
   "source": [
    "all_epochs_computed_observed_from_expected_difference_LONG[0].shape"
   ]
  },
  {
   "cell_type": "code",
   "execution_count": null,
   "id": "4a2d06a7",
   "metadata": {},
   "outputs": [],
   "source": [
    "from pyphoplacecellanalysis.General.Pipeline.Stages.ComputationFunctions.MultiContextComputationFunctions.LongShortTrackComputations import JonathanFiringRateAnalysisResult\n",
    "\n",
    "jonathan_firing_rate_analysis_result = JonathanFiringRateAnalysisResult(**curr_active_pipeline.global_computation_results.computed_data.jonathan_firing_rate_analysis.to_dict())"
   ]
  },
  {
   "cell_type": "code",
   "execution_count": null,
   "id": "33ac6c8d",
   "metadata": {},
   "outputs": [],
   "source": [
    "jonathan_firing_rate_analysis_result.rdf.rdf"
   ]
  },
  {
   "cell_type": "code",
   "execution_count": null,
   "id": "bdc9c2e5",
   "metadata": {},
   "outputs": [],
   "source": [
    "jonathan_firing_rate_analysis_result.time_binned_instantaneous_unit_specific_spike_rate.time_bins #.shape"
   ]
  },
  {
   "cell_type": "code",
   "execution_count": null,
   "id": "785ca961",
   "metadata": {},
   "outputs": [],
   "source": [
    "import matplotlib\n",
    "%matplotlib qt\n",
    "import matplotlib.pyplot as plt\n",
    "instantaneous_fr_df = deepcopy(jonathan_firing_rate_analysis_result.time_binned_instantaneous_unit_specific_spike_rate.instantaneous_unit_specific_spike_rate_values)\n",
    "instantaneous_fr_df['t'] = jonathan_firing_rate_analysis_result.time_binned_instantaneous_unit_specific_spike_rate.time_bins\n",
    "instantaneous_fr_df #.plot()\n",
    "\n",
    "smoothed_instantaneous_fr_df = instantaneous_fr_df.ewm(span=60).mean()\n",
    "\n",
    "smoothed_instantaneous_fr_df.plot(x='t')\n",
    "plt.title(\"Instantaneous Firing Rates\")\n",
    "plt.xlabel('time')\n",
    "plt.ylabel('Firing Rate (Hz)')"
   ]
  },
  {
   "cell_type": "code",
   "execution_count": null,
   "id": "0c8b7bbd",
   "metadata": {
    "tags": [
     "output",
     "figure",
     "display",
     "ACTIVE"
    ]
   },
   "outputs": [],
   "source": [
    "import matplotlib\n",
    "%matplotlib qt\n",
    "import matplotlib.pyplot as plt\n",
    "from pyphoplacecellanalysis.General.Mixins.ExportHelpers import build_figure_basename_from_display_context\n",
    "from pyphoplacecellanalysis.General.Pipeline.Stages.DisplayFunctions.MultiContextComparingDisplayFunctions.LongShortTrackComparingDisplayFunctions import _plot_session_long_short_track_firing_rate_figures\n",
    "from pyphoplacecellanalysis.General.Pipeline.Stages.ComputationFunctions.MultiContextComputationFunctions.LongShortTrackComputations import JonathanFiringRateAnalysisResult\n",
    "\n",
    "jonathan_firing_rate_analysis_result = JonathanFiringRateAnalysisResult(**curr_active_pipeline.global_computation_results.computed_data.jonathan_firing_rate_analysis.to_dict())\n",
    "long_plots, short_plots = _plot_session_long_short_track_firing_rate_figures(curr_active_pipeline, jonathan_firing_rate_analysis_result, figures_parent_out_path=curr_active_pipeline.get_output_path())"
   ]
  },
  {
   "cell_type": "code",
   "execution_count": null,
   "id": "345b3cca",
   "metadata": {},
   "outputs": [],
   "source": [
    "instantaneous_fr_df.set_index('t').to_clipboard()"
   ]
  },
  {
   "cell_type": "code",
   "execution_count": null,
   "id": "c7ff9bb5",
   "metadata": {},
   "outputs": [],
   "source": [
    "## Require placefield presence on either the long or the short\n",
    "jonathan_firing_rate_analysis_result.neuron_replay_stats_df = jonathan_firing_rate_analysis_result.neuron_replay_stats_df[np.logical_or(jonathan_firing_rate_analysis_result.neuron_replay_stats_df['has_long_pf'], jonathan_firing_rate_analysis_result.neuron_replay_stats_df['has_short_pf'])]"
   ]
  },
  {
   "cell_type": "code",
   "execution_count": null,
   "id": "87851fff",
   "metadata": {},
   "outputs": [],
   "source": [
    "jonathan_firing_rate_analysis_result.neuron_replay_stats_df[np.logical_or(jonathan_firing_rate_analysis_result.neuron_replay_stats_df['has_long_pf'], jonathan_firing_rate_analysis_result.neuron_replay_stats_df['has_short_pf'])].index.to_numpy()"
   ]
  },
  {
   "attachments": {},
   "cell_type": "markdown",
   "id": "8de2e3da",
   "metadata": {},
   "source": [
    "# 2023-05-19 - Testing S-only emergence, L-only replays in S, peak position remappings "
   ]
  },
  {
   "cell_type": "code",
   "execution_count": null,
   "id": "d082385f",
   "metadata": {},
   "outputs": [],
   "source": [
    "from pyphoplacecellanalysis.General.Pipeline.Stages.ComputationFunctions.MultiContextComputationFunctions.LongShortTrackComputations import JonathanFiringRateAnalysisResult\n",
    "\n",
    "jonathan_firing_rate_analysis_result = JonathanFiringRateAnalysisResult(**curr_active_pipeline.global_computation_results.computed_data.jonathan_firing_rate_analysis.to_dict())\n",
    "neuron_replay_stats_df = jonathan_firing_rate_analysis_result.neuron_replay_stats_df.copy()\n",
    "neuron_replay_stats_df"
   ]
  },
  {
   "cell_type": "code",
   "execution_count": null,
   "id": "d23e5131",
   "metadata": {},
   "outputs": [],
   "source": [
    "\n",
    "from pyphoplacecellanalysis.General.Mixins.CrossComputationComparisonHelpers import SplitPartitionMembership, SetPartition\n",
    "## 2023-05-19 - Get S-only pfs\n",
    "is_S_pf_only = np.logical_and(np.logical_not(neuron_replay_stats_df['has_long_pf']), neuron_replay_stats_df['has_short_pf'])\n",
    "is_S_only = neuron_replay_stats_df.track_membership == SplitPartitionMembership.RIGHT_ONLY\n",
    "assert (is_S_pf_only == is_S_only).all()\n",
    "S_only_aclus = neuron_replay_stats_df.index[is_S_only].to_numpy()\n",
    "neuron_replay_stats_df[is_S_pf_only]\n"
   ]
  },
  {
   "cell_type": "code",
   "execution_count": null,
   "id": "3bc5b2a5",
   "metadata": {},
   "outputs": [],
   "source": [
    "\n",
    "## Show L-only pfs stop replaying on S\n",
    "is_L_pf_only = np.logical_and(np.logical_not(neuron_replay_stats_df['has_short_pf']), neuron_replay_stats_df['has_long_pf'])\n",
    "is_L_only = neuron_replay_stats_df.track_membership == SplitPartitionMembership.LEFT_ONLY\n",
    "assert (is_L_pf_only == is_L_only).all()\n",
    "L_only_aclus = neuron_replay_stats_df.index[is_L_only].to_numpy()\n",
    "neuron_replay_stats_df[is_L_only]\n",
    "\n",
    "\n",
    "## For ('kdiba', 'gor01', 'one', '2006-6-09_1-22-43') - Have L-only cells [24, 98] that have ['short_num_replays'] = [8, 7]. We were hoping that there would be few to no replays on the S-track that involved L-only cells."
   ]
  },
  {
   "cell_type": "code",
   "execution_count": null,
   "id": "5b3bdd19",
   "metadata": {},
   "outputs": [],
   "source": [
    "## 2023-05-23 - Get Common (SHARED) placefields\n",
    "## Goal 1: From the cells with the placefields on both tracks, compute the degree to which they remap in position and sort them according to their distance.\n",
    "is_BOTH_pf_only = np.logical_and(neuron_replay_stats_df['has_short_pf'], neuron_replay_stats_df['has_long_pf']) # (63,)\n",
    "BOTH_pf_only_aclus = neuron_replay_stats_df.index[is_BOTH_pf_only].to_numpy()\n",
    "\n",
    "## NOTE: is_BOTH_pf_only is a much more stringent requirement (and a strict subset) than `is_BOTH_only`\n",
    "is_BOTH_only = neuron_replay_stats_df.track_membership == SplitPartitionMembership.SHARED # (99,)\n",
    "BOTH_only_aclus = neuron_replay_stats_df.index[is_BOTH_only].to_numpy()\n",
    "assert BOTH_only_aclus.shape[0] >= BOTH_pf_only_aclus.shape[0]\n",
    "\n",
    "BOTH_pf_only_df = neuron_replay_stats_df[is_BOTH_pf_only].copy()\n",
    "BOTH_pf_only_df['long_short_pf_peak_x_displacement'] = BOTH_pf_only_df['long_pf_peak_x'].values - BOTH_pf_only_df['short_pf_peak_x'].values\n",
    "BOTH_pf_only_df['long_short_pf_peak_x_distance'] = BOTH_pf_only_df['long_short_pf_peak_x_displacement'].abs()\n",
    "BOTH_pf_only_df.sort_values(by=['long_short_pf_peak_x_distance'], inplace=True, ascending=False)\n",
    "BOTH_pf_only_df\n",
    "\n",
    "#TODO 2023-05-23 - Can do more detailed peaks analysis with: long_results.RatemapPeaksAnalysis and short_results.RatemapPeaksAnalysis\n",
    "\n"
   ]
  },
  {
   "cell_type": "code",
   "execution_count": null,
   "id": "e3f51c29",
   "metadata": {},
   "outputs": [],
   "source": [
    "\"\"\" 24 cells, 133 Epochs, 789 Total Timebins\n",
    "# Other\n",
    "\t\n",
    "\t- is_non_firing_time_bin: numpy.ndarray - (24, 789)\n",
    "\t- all_epochs_num_epoch_time_bins: numpy.ndarray - (133,)\n",
    "\t\n",
    "    ## Indexing Helpers:\n",
    "\t\t- all_epochs_reverse_flat_epoch_indicies_array: numpy.ndarray - (789,)\n",
    "\t\t- split_by_epoch_reverse_flattened_time_bin_indicies: list - (133,)\n",
    "    \n",
    "\t- original_1D_decoder: pyphoplacecellanalysis.Analysis.Decoder.reconstruction.BasePositionDecoder\n",
    "\t\t- pf: neuropy.analyses.placefields.PfND\n",
    "\t\t- neuron_IDXs: numpy.ndarray - (24,)\n",
    "\t\t- neuron_IDs: numpy.ndarray - (24,)\n",
    "\t\t- F: numpy.ndarray - (119, 24)\n",
    "\t\t- P_x: numpy.ndarray - (119, 1)\n",
    "        \n",
    "\t- flat_all_epochs_decoded_epoch_time_bins: numpy.ndarray - (24, 789)\n",
    "\n",
    "# Measured\n",
    "\t- flat_all_epochs_measured_cell_spike_counts: numpy.ndarray - (24, 789)\n",
    "\t- flat_all_epochs_measured_cell_firing_rates: numpy.ndarray - (24, 789)\n",
    "\n",
    "\n",
    "# Expected\n",
    "\t- flat_all_epochs_computed_expected_cell_firing_rates: numpy.ndarray - (24, 789)\n",
    "\t- flat_all_epochs_difference_from_expected_cell_spike_counts: numpy.ndarray - (24, 789)\n",
    "\t- flat_all_epochs_difference_from_expected_cell_firing_rates: numpy.ndarray - (24, 789)\n",
    "    \n",
    "    \n",
    "    \n",
    "## Epoch-based\n",
    "\t- all_epochs_decoded_epoch_time_bins_mean: numpy.ndarray - (133, 24)\n",
    "\n",
    "    \n",
    "    \n",
    "    \n",
    "- flat_all_epochs_measured_cell_firing_rates: numpy.ndarray - .shape: (24, 789) \n",
    "- flat_all_epochs_computed_expected_cell_firing_rates: numpy.ndarray - .shape: (24, 789)\n",
    "\n",
    "\n",
    "\"\"\""
   ]
  },
  {
   "cell_type": "code",
   "execution_count": null,
   "id": "f0b3a9f1",
   "metadata": {},
   "outputs": [],
   "source": [
    "long_results_obj.flat_all_epochs_computed_expected_cell_firing_rates\n",
    "long_results_obj.flat_all_epochs_measured_cell_firing_rates\n",
    "\n",
    "# long_results_obj.result_df_grouped\n",
    "\n",
    "\n",
    "measured_dfs = pd.DataFrame(long_results_obj.flat_all_epochs_measured_cell_firing_rates.T, columns=long_results_obj.original_1D_decoder.neuron_IDs)\n",
    "expected_dfs = pd.DataFrame(long_results_obj.flat_all_epochs_computed_expected_cell_firing_rates.T, columns=long_results_obj.original_1D_decoder.neuron_IDs)\n",
    "# pd.DataFrame(np.stack((long_results_obj.flat_all_epochs_measured_cell_firing_rates, long_results_obj.flat_all_epochs_computed_expected_cell_firing_rates)), columns=['measured_fr', 'expected_fr'])\n",
    "measured_dfs.plot()\n"
   ]
  },
  {
   "cell_type": "code",
   "execution_count": null,
   "id": "4d8566f2",
   "metadata": {},
   "outputs": [],
   "source": [
    "jonathan_firing_rate_analysis_result.neuron_replay_stats_df.to_clipboard()"
   ]
  },
  {
   "cell_type": "code",
   "execution_count": null,
   "id": "10cdb9f2",
   "metadata": {},
   "outputs": [],
   "source": [
    "from pyphoplacecellanalysis.General.Pipeline.Stages.ComputationFunctions.MultiContextComputationFunctions.LongShortTrackComputations import compute_evening_morning_parition\n",
    "\n",
    "difference_sorted_aclus, evening_sorted_aclus, morning_sorted_aclus = compute_evening_morning_parition(neuron_replay_stats_df, debug_print=True)\n",
    "sorted_neuron_replay_stats_df = neuron_replay_stats_df.reindex(difference_sorted_aclus).copy() # This seems to work to re-sort the dataframe by the sort indicies\n",
    "sorted_neuron_replay_stats_df"
   ]
  },
  {
   "cell_type": "code",
   "execution_count": null,
   "id": "7524856f",
   "metadata": {},
   "outputs": [],
   "source": [
    "from neuropy.core.neurons import NeuronType\n",
    "\n",
    "%matplotlib qt\n",
    "# Look at replays during ripples vs. those not during ripples. Also potentially PBEs vs. not PBEs.\n",
    "\n",
    "# NeuronType.from_any_string_series(['pyr','intr'])\n",
    "'pyr','cont','intr'\n",
    "\n",
    "active_identifying_session_ctx = curr_active_pipeline.sess.get_context() # 'bapun_RatN_Day4_2019-10-15_11-30-06'\n",
    "curr_active_pipeline.display('_display_jonathan_interactive_replay_firing_rate_comparison', active_identifying_session_ctx, included_neuron_types=NeuronType.from_any_string_series(['pyr'])) # only the pyramidal neurons"
   ]
  },
  {
   "cell_type": "code",
   "execution_count": null,
   "id": "bc7ebf69",
   "metadata": {},
   "outputs": [],
   "source": [
    "curr_active_pipeline.reload_default_display_functions()"
   ]
  },
  {
   "cell_type": "code",
   "execution_count": null,
   "id": "68f61971",
   "metadata": {},
   "outputs": [],
   "source": [
    "curr_active_pipeline.display('_display_jonathan_interactive_replay_firing_rate_comparison', active_identifying_session_ctx, included_neuron_types=NeuronType.from_any_string_series(['intr']), require_placefield=False) # only the pyramidal neurons"
   ]
  },
  {
   "cell_type": "code",
   "execution_count": null,
   "id": "0859e13d",
   "metadata": {},
   "outputs": [],
   "source": [
    "from pyphoplacecellanalysis.General.Mixins.CrossComputationComparisonHelpers import build_replays_custom_scatter_markers, CustomScatterMarkerMode\n",
    "\n",
    "_curr_included_aclus = jonathan_firing_rate_analysis_result.neuron_replay_stats_df[np.logical_or(jonathan_firing_rate_analysis_result.neuron_replay_stats_df['has_long_pf'], jonathan_firing_rate_analysis_result.neuron_replay_stats_df['has_short_pf'])].index.to_numpy()\n",
    "_curr_output = curr_active_pipeline.display('_display_batch_pho_jonathan_replay_firing_rate_comparison', active_identifying_session_ctx, included_unit_neuron_IDs=_curr_included_aclus, marker_split_mode=CustomScatterMarkerMode.NoSplit)"
   ]
  },
  {
   "attachments": {},
   "cell_type": "markdown",
   "id": "d69eed8a",
   "metadata": {},
   "source": [
    "## 2023-04-13 - Shuffled Surprise\n",
    "\"\"\" \n",
    "Relevant Functions:\n",
    "`perform_full_session_leave_one_out_decoding_analysis`:\n",
    "\t`perform_leave_one_aclu_out_decoding_analysis`:\tfrom pyphoplacecellanalysis.Analysis.Decoder.decoder_result import perform_leave_one_aclu_out_decoding_analysis\n",
    "\t`_analyze_leave_one_out_decoding_results`: from pyphoplacecellanalysis.General.Pipeline.Stages.ComputationFunctions.DefaultComputationFunctions import _analyze_leave_one_out_decoding_results\n",
    "\"\"\"\n"
   ]
  },
  {
   "cell_type": "code",
   "execution_count": null,
   "id": "0aac42d4",
   "metadata": {},
   "outputs": [],
   "source": [
    "# 2023-04-18 - Refactored into decoder_result\n",
    "result, result_df, result_df_grouped = long_results_obj.result, long_results_obj.result_df, long_results_obj.result_df_grouped"
   ]
  },
  {
   "cell_type": "code",
   "execution_count": null,
   "id": "c107570f",
   "metadata": {},
   "outputs": [],
   "source": [
    "from pyphoplacecellanalysis.Analysis.Decoder.decoder_result import DiagnosticDistanceMetricFigure\n",
    "\n",
    "## Render the internactive slider that allows selecting the timebin index to debug\n",
    "n_timebins = np.sum(long_results_obj.all_epochs_num_epoch_time_bins)\n",
    "timebinned_neuron_info = long_results_obj.timebinned_neuron_info\n",
    "result = long_results_obj.new_result\n",
    "active_fig_obj, update_function = DiagnosticDistanceMetricFigure.build_interactive_diagnostic_distance_metric_figure(long_results_obj, timebinned_neuron_info, result)\n",
    "active_fig_obj.integer_slider(n_timebins=n_timebins, update_func=update_function)"
   ]
  },
  {
   "cell_type": "code",
   "execution_count": null,
   "id": "7670bfae",
   "metadata": {},
   "outputs": [],
   "source": [
    "\n",
    "# 1. Get set of cells active in a given time bin, for each compute the surprise of its placefield with the leave-one-out decoded posterior.\n",
    "\n",
    "# 2. From the remainder of cells (those not active), randomly choose one to grab the placefield of and compute the surprise with that and the same posterior.\n",
    "\n",
    "# Expectation: The cells that are included in the time bin are expected to have a lower surprise (be less correlated with) the posterior."
   ]
  },
  {
   "cell_type": "code",
   "execution_count": null,
   "id": "c1692fd1",
   "metadata": {
    "tags": [
     "active"
    ]
   },
   "outputs": [],
   "source": [
    "win, plots = plot_long_short_surprise_difference_plot(curr_active_pipeline, long_results_obj, short_results_obj, long_epoch_name, short_epoch_name)\n"
   ]
  },
  {
   "cell_type": "code",
   "execution_count": null,
   "id": "118c3089",
   "metadata": {},
   "outputs": [],
   "source": [
    "long_results_obj.timebinned_neuron_info.n_timebins # 736\n",
    "short_results_obj.timebinned_neuron_info.n_timebins"
   ]
  },
  {
   "cell_type": "code",
   "execution_count": null,
   "id": "893964b2",
   "metadata": {},
   "outputs": [],
   "source": [
    "long_results_obj.flat_all_epochs_measured_cell_firing_rates.shape # (30, 736)\n",
    "# short_results_obj.flat_all_epochs_measured_cell_firing_rates.shape # (30, 736)\n",
    "\n"
   ]
  },
  {
   "cell_type": "code",
   "execution_count": null,
   "id": "bae2e695",
   "metadata": {
    "tags": [
     "active",
     "NOW_05-25",
     "expected_vs_observed"
    ]
   },
   "outputs": [],
   "source": [
    "win, plots_tuple, legend = plot_long_short_expected_vs_observed_firing_rates(long_results_obj, short_results_obj, limit_aclus=list(BOTH_pf_only_df.index[:2].values))\n",
    "long_epoch_indicator_region_items, short_epoch_indicator_region_items = _helper_add_long_short_session_indicator_regions(win, long_epoch=curr_active_pipeline.filtered_epochs[long_epoch_name], short_epoch=curr_active_pipeline.filtered_epochs[short_epoch_name])"
   ]
  },
  {
   "cell_type": "code",
   "execution_count": null,
   "id": "0f55bb1b",
   "metadata": {},
   "outputs": [],
   "source": [
    "from pyphoplacecellanalysis.General.Mixins.ExportHelpers import export_pyqtgraph_plot # works pretty well seemingly\n",
    "\n",
    "export_pyqtgraph_plot(win)\n",
    "# pg.setConfigOption('leftTitle', 'MathText')\n",
    "# win.setTitle(r'JSD(p_x_given_n, pf[<font size=\"4\"><b><span style=\"color:red;\">i</span></b></font>]) - JSD(p_x_given_n, pf[<font size=\"4\"><b>j</b></font>]) where <font size=\"4\"><b>j</b></font> non-firing')\n",
    "\n",
    "# win.setTitle(generate_html_string(f'JSD(p_x_given_n, pf[{i_str}]) - JSD(p_x_given_n, pf[{j_str}]) where {j_str} non-firing', font_size=8))\n",
    "\n",
    "# r'$\\fn{JSD}{\\matr{pf}_{i}, \\Pr{\\vec{x}_{t}|\\vec{n}_{t}}} - \\fn{JSD}{\\matr{pf}_{j}, \\Pr{\\vec{x}_{t}|\\vec{n}_{t}}}$'\n",
    "# title_str"
   ]
  },
  {
   "attachments": {},
   "cell_type": "markdown",
   "id": "1f996fd9",
   "metadata": {},
   "source": [
    "## Pre 2023-04-13"
   ]
  },
  {
   "cell_type": "code",
   "execution_count": null,
   "id": "33b6ac25",
   "metadata": {},
   "outputs": [],
   "source": [
    "import matplotlib\n",
    "import matplotlib.pyplot as plt\n",
    "%matplotlib qt\n",
    "\n",
    "from pyphoplacecellanalysis.Analysis.Decoder.decoder_result import plot_kourosh_activity_style_figure\n",
    "\n",
    "from neuropy.core.neurons import NeuronType\n",
    "# # Include only pyramidal aclus:\n",
    "# print(f'all shared_aclus: {len(shared_aclus)}\\nshared_aclus: {shared_aclus}')\n",
    "# shared_aclu_neuron_type = long_session.neurons.neuron_type[np.isin(long_session.neurons.neuron_ids, shared_aclus)]\n",
    "# assert len(shared_aclu_neuron_type) == len(shared_aclus)\n",
    "# # Find only the aclus that are pyramidal:\n",
    "# is_shared_aclu_pyramidal = (shared_aclu_neuron_type == NeuronType.PYRAMIDAL)\n",
    "# pyramidal_only_shared_aclus = shared_aclus[is_shared_aclu_pyramidal]\n",
    "# print(f'num pyramidal_only_shared_aclus: {len(pyramidal_only_shared_aclus)}\\npyramidal_only_shared_aclus: {pyramidal_only_shared_aclus}')\n",
    "\n",
    "\n",
    "## Drop Pyramidal but don't use only shared aclus:\n",
    "all_aclus = deepcopy(long_session.neurons.neuron_ids)\n",
    "neuron_type = long_session.neurons.neuron_type\n",
    "assert len(neuron_type) == len(all_aclus)\n",
    "# Find only the aclus that are pyramidal:\n",
    "is_aclu_pyramidal = (neuron_type == NeuronType.PYRAMIDAL)\n",
    "pyramidal_only_all_aclus = all_aclus[is_aclu_pyramidal]\n",
    "print(f'num pyramidal_only_all_aclus: {len(pyramidal_only_all_aclus)}\\npyramidal_only_all_aclus: {pyramidal_only_all_aclus}')\n",
    "\n",
    "is_aclu_interneuron = (neuron_type == NeuronType.INTERNEURONS)\n",
    "interneuron_only_all_aclus = all_aclus[is_aclu_interneuron]\n",
    "print(f'num interneuron_only_all_aclus: {len(interneuron_only_all_aclus)}\\ninterneurons: {interneuron_only_all_aclus}')\n",
    "\n",
    "# app, win, plots, plots_data = plot_kourosh_activity_style_figure(long_results_obj, long_session, shared_aclus, epoch_idx=5, callout_epoch_IDXs=[0,1,2,3], skip_rendering_callouts=True)\n",
    "# app, win, plots, plots_data = plot_kourosh_activity_style_figure(long_results_obj, long_session, pyramidal_only_shared_aclus, epoch_idx=2, callout_epoch_IDXs=[0,4], skip_rendering_callouts=False)\n",
    "app, win, plots, plots_data = plot_kourosh_activity_style_figure(long_results_obj, long_session, pyramidal_only_all_aclus, epoch_idx=6, callout_epoch_IDXs=[2,4,6], skip_rendering_callouts=False)"
   ]
  },
  {
   "cell_type": "code",
   "execution_count": null,
   "id": "985977d8",
   "metadata": {},
   "outputs": [],
   "source": [
    "\n",
    "# Use the Jupyter Index Thing\n",
    "from pyphoplacecellanalysis.Analysis.Decoder.decoder_result import DiagnosticDistanceMetricFigure\n",
    "\n",
    "## Render the internactive slider that allows selecting the timebin index to debug\n",
    "n_timebins = np.sum(long_results_obj.all_epochs_num_epoch_time_bins)\n",
    "timebinned_neuron_info = long_results_obj.timebinned_neuron_info\n",
    "result = long_results_obj.new_result\n",
    "active_fig_obj, update_function = DiagnosticDistanceMetricFigure.build_interactive_diagnostic_distance_metric_figure(long_results_obj, timebinned_neuron_info, result)\n",
    "active_fig_obj.integer_slider(n_timebins=n_timebins, update_func=update_function)"
   ]
  },
  {
   "cell_type": "code",
   "execution_count": null,
   "id": "3e1aa692",
   "metadata": {},
   "outputs": [],
   "source": [
    "active_fig_obj.export()"
   ]
  },
  {
   "cell_type": "code",
   "execution_count": null,
   "id": "5ea983fe",
   "metadata": {},
   "outputs": [],
   "source": [
    "app, win, self.plots, self.plots_data = plot_kourosh_activity_style_figure(long_results_obj, long_session, pyramidal_only_all_aclus, epoch_idx=11, callout_epoch_IDXs=[0,1,2, 3, 4, 5], skip_rendering_callouts=False)"
   ]
  },
  {
   "attachments": {},
   "cell_type": "markdown",
   "id": "2fe80559",
   "metadata": {},
   "source": [
    "# 2023-04-13 - Find Good looking epochs:"
   ]
  },
  {
   "cell_type": "code",
   "execution_count": null,
   "id": "5fa9a519",
   "metadata": {
    "tags": [
     "ACTIVE_NOW"
    ]
   },
   "outputs": [],
   "source": [
    "import matplotlib.pyplot as plt\n",
    "%matplotlib qt\n",
    "import matplotlib.patheffects as path_effects\n",
    "\n",
    "from pyphoplacecellanalysis.Pho2D.stacked_epoch_slices import DecodedEpochSlicesPaginatedFigureController\n",
    "\n",
    "curr_results_obj = long_results_obj\n",
    "active_identifying_session_ctx = curr_active_pipeline.sess.get_context()\n",
    "_out_pagination_controller = DecodedEpochSlicesPaginatedFigureController.init_from_decoder_data(curr_results_obj.active_filter_epochs, curr_results_obj.all_included_filter_epochs_decoder_result, \n",
    "\txbin=curr_results_obj.original_1D_decoder.xbin, global_pos_df=global_session.position.df, a_name='TestDecodedEpochSlicesPaginationController', active_context=active_identifying_session_ctx,  max_subplots_per_page=200) # 10\n",
    "# _out_pagination_controller"
   ]
  },
  {
   "attachments": {},
   "cell_type": "markdown",
   "id": "3f0018ec",
   "metadata": {},
   "source": [
    "### 2023-05-30 - Add the radon-transformed linear fits to each epoch to the stacked epoch plots:"
   ]
  },
  {
   "cell_type": "code",
   "execution_count": null,
   "id": "2443fed1",
   "metadata": {},
   "outputs": [],
   "source": [
    "from neuropy.utils.result_context import IdentifyingContext\n",
    "from pyphoplacecellanalysis.Pho2D.stacked_epoch_slices import DecodedEpochSlicesPaginatedFigureController\n",
    "from pyphoplacecellanalysis.General.Pipeline.Stages.DisplayFunctions.DecoderPredictionError import plot_decoded_epoch_slices_paginated\n",
    "\n",
    "_out_pagination_controller, active_out_figure_paths, final_context = plot_decoded_epoch_slices_paginated(curr_active_pipeline, long_results_obj, curr_active_pipeline.build_display_context_for_session(display_fn_name='DecodedEpochSlices', epochs='replays', decoder='long_results_obj'), save_figure=True)\n"
   ]
  },
  {
   "cell_type": "code",
   "execution_count": null,
   "id": "a8407362",
   "metadata": {},
   "outputs": [],
   "source": [
    "_out_pagination_controller, active_out_figure_paths, final_context = plot_decoded_epoch_slices_paginated(curr_active_pipeline, short_results_obj, curr_active_pipeline.build_display_context_for_session(display_fn_name='DecodedEpochSlices', epochs='replays', decoder='short_results_obj'), save_figure=True)\n"
   ]
  },
  {
   "cell_type": "code",
   "execution_count": null,
   "id": "053623be",
   "metadata": {},
   "outputs": [],
   "source": [
    "from pyphoplacecellanalysis.General.Pipeline.Stages.DisplayFunctions.MultiContextComparingDisplayFunctions.LongShortTrackComparingDisplayFunctions import _prepare_plot_long_and_short_epochs\n",
    "\n",
    "(pagination_controller_L, pagination_controller_S), (fig_L, fig_S), (ax_L, ax_S), (final_context_L, final_context_S), (active_out_figure_paths_L, active_out_figure_paths_S) = _prepare_plot_long_and_short_epochs(curr_active_pipeline, defer_render=False)"
   ]
  },
  {
   "cell_type": "code",
   "execution_count": null,
   "id": "d8a9a5f4",
   "metadata": {
    "tags": [
     "ACTIVE_NOW"
    ]
   },
   "outputs": [],
   "source": [
    "## 2023-05-31 - Reference Output of matplotlib figure to file, along with building appropriate context.\n",
    "active_session_figures_out_path = curr_active_pipeline.get_daily_programmatic_session_output_path()\n",
    "final_context = curr_active_pipeline.sess.get_context().adding_context('display_fn', display_fn_name='DecodedEpochSlices').adding_context('display_kwargs', **dict(epochs='replays', decoder='long_results_obj'))\n",
    "print(f'final_context: {final_context}')\n",
    "fig = _out_pagination_controller.plots.fig # get the figure\n",
    "active_out_figure_paths = perform_write_to_file(fig, final_context, figures_parent_out_path=active_session_figures_out_path, register_output_file_fn=curr_active_pipeline.register_output_file)"
   ]
  },
  {
   "attachments": {},
   "cell_type": "markdown",
   "id": "1a13cccd",
   "metadata": {},
   "source": [
    "# Plot long|short firing rate index using 'long_short_fr_indicies_analyses':"
   ]
  },
  {
   "cell_type": "code",
   "execution_count": null,
   "id": "caab469b",
   "metadata": {},
   "outputs": [],
   "source": [
    "# fig_save_parent_path = Path(r'E:\\Dropbox (Personal)\\Active\\Kamran Diba Lab\\Results from 2023-01-20 - LongShort Firing Rate Indicies')\n",
    "## Get the output path (active_session_figures_out_path) for this session (and all of its filtered_contexts as well):\n",
    "active_identifying_session_ctx = curr_active_pipeline.sess.get_context() # 'bapun_RatN_Day4_2019-10-15_11-30-06'\n",
    "figures_parent_out_path = create_daily_programmatic_display_function_testing_folder_if_needed()\n",
    "active_session_figures_out_path = session_context_to_relative_path(figures_parent_out_path, active_identifying_session_ctx)\n",
    "print(f'curr_session_parent_out_path: {active_session_figures_out_path}')\n",
    "active_session_figures_out_path.mkdir(parents=True, exist_ok=True) # make folder if needed\n",
    "curr_active_pipeline.display('_display_short_long_firing_rate_index_comparison', curr_active_pipeline.sess.get_context(), fig_save_parent_path=active_session_figures_out_path)\n",
    "# plt.close() # closes the current figure"
   ]
  },
  {
   "cell_type": "code",
   "execution_count": null,
   "id": "a71511c3",
   "metadata": {},
   "outputs": [],
   "source": [
    "curr_active_pipeline.display('_display_short_long_firing_rate_index_comparison', long_short_fr_indicies_analysis_results['active_context'], fig_save_parent_path=None)\n"
   ]
  },
  {
   "cell_type": "code",
   "execution_count": null,
   "id": "53e5e3dc",
   "metadata": {
    "tags": [
     "NOW_05_25"
    ]
   },
   "outputs": [],
   "source": [
    "import matplotlib\n",
    "# configure backend here\n",
    "# matplotlib.use('Qt5Agg')\n",
    "# backend_qt5agg\n",
    "matplotlib.use('Qt5Agg') # non-interactive backend ## 2022-08-16 - Surprisingly this works to make the matplotlib figures render only to .png file, not appear on the screen!\n",
    "from pyphoplacecellanalysis.General.Pipeline.Stages.DisplayFunctions.MultiContextComparingDisplayFunctions.LongShortTrackComparingDisplayFunctions import _plot_long_short_firing_rate_indicies\n",
    "\n",
    "\n",
    "# Plot long|short firing rate index:\n",
    "long_short_fr_indicies_analysis_results = curr_active_pipeline.global_computation_results.computed_data['long_short_fr_indicies_analysis']\n",
    "x_frs_dict, y_frs_dict = long_short_fr_indicies_analysis_results['x_frs_index'], long_short_fr_indicies_analysis_results['y_frs_index'] # use the all_results_dict as the computed data value\n",
    "active_context = long_short_fr_indicies_analysis_results['active_context']\n",
    "fig, _temp_full_fig_save_path = _plot_long_short_firing_rate_indicies(x_frs_dict, y_frs_dict, active_context, fig_save_parent_path=None, debug_print=False)\n",
    "fig.show()"
   ]
  },
  {
   "cell_type": "code",
   "execution_count": null,
   "id": "e8fcb225",
   "metadata": {},
   "outputs": [],
   "source": [
    "ax = plt.gca()\n"
   ]
  },
  {
   "cell_type": "code",
   "execution_count": null,
   "id": "4f7a776e",
   "metadata": {},
   "outputs": [],
   "source": [
    "ax.spines[['top', 'right']].set_visible(True)"
   ]
  },
  {
   "cell_type": "code",
   "execution_count": null,
   "id": "0165676b",
   "metadata": {},
   "outputs": [],
   "source": [
    "# curr_active_pipeline.perform_specific_computation(computation_functions_name_whitelist=['_perform_long_short_firing_rate_analyses'], fail_on_exception=True, debug_print=False) # fail_on_exception MUST be True or error handling is all messed up \n",
    "long_short_fr_indicies_analysis_results = curr_active_pipeline.global_computation_results.computed_data['long_short_fr_indicies_analysis']\n",
    "x_frs_dict, y_frs_dict = long_short_fr_indicies_analysis_results['x_frs_index'], long_short_fr_indicies_analysis_results['y_frs_index'] # use the all_results_dict as the computed data value\n",
    "active_context = long_short_fr_indicies_analysis_results['active_context']\n",
    "long_short_fr_indicies_analysis_results"
   ]
  },
  {
   "attachments": {},
   "cell_type": "markdown",
   "id": "e0409e08",
   "metadata": {},
   "source": [
    "# Other Programmatic Figures"
   ]
  },
  {
   "attachments": {},
   "cell_type": "markdown",
   "id": "3ecc42a2",
   "metadata": {},
   "source": [
    "### 2023-05-25 - Neptune Figure Uploads from `registered_output_files`\n"
   ]
  },
  {
   "cell_type": "code",
   "execution_count": null,
   "id": "8f32c5ea",
   "metadata": {
    "tags": [
     "NOW_05-25"
    ]
   },
   "outputs": [],
   "source": [
    "from pyphoplacecellanalysis.General.Batch.NonInteractiveWrapper import neptune_output_figures\n",
    "\n",
    "# curr_active_pipeline.registered_output_files\n",
    "# curr_active_pipeline.register_output_file(output_path=test_path, output_metadata={})\n",
    "\n",
    "neptune_output_figures(curr_active_pipeline)"
   ]
  },
  {
   "cell_type": "code",
   "execution_count": null,
   "id": "d86bf7a0",
   "metadata": {},
   "outputs": [],
   "source": [
    "curr_active_pipeline.registered_output_files\n",
    "# curr_active_pipeline.registered_output_files_list"
   ]
  },
  {
   "cell_type": "code",
   "execution_count": null,
   "id": "67a53d29",
   "metadata": {},
   "outputs": [],
   "source": [
    "import matplotlib as mpl\n",
    "from pyphoplacecellanalysis.General.Mixins.ExportHelpers import create_daily_programmatic_display_function_testing_folder_if_needed, session_context_to_relative_path, programmatic_display_to_PDF\n",
    "from pyphoplacecellanalysis.General.Mixins.ExportHelpers import build_pdf_metadata_from_display_context # newer version of build_pdf_export_metadata\n",
    "from neuropy.core.neuron_identities import PlotStringBrevityModeEnum\n",
    "from neuropy.plotting.ratemaps import BackgroundRenderingOptions\n",
    "_bak_rcParams = mpl.rcParams.copy()\n",
    "mpl.rcParams['toolbar'] = 'None' # disable toolbars\n",
    "matplotlib.use('AGG') # non-interactive backend ## 2022-08-16 - Surprisingly this works to make the matplotlib figures render only to .png file, not appear on the screen!\n",
    "# active_identifying_session_ctx = curr_active_pipeline.sess.get_context() # 'bapun_RatN_Day4_2019-10-15_11-30-06'\n",
    "# programmatic_display_to_PDF(curr_active_pipeline, curr_display_function_name='_display_1d_placefields', debug_print=False) # 🟢✅ Now seems to be working and saving to PDF!! Still using matplotlib.use('Qt5Agg') mode and plots still appear.\n",
    "# programmatic_display_to_PDF(curr_active_pipeline, curr_display_function_name='_display_1d_placefield_validations') # , filter_name=active_config_name 🟢✅ Now seems to be working and saving to PDF!! Still using matplotlib.use('Qt5Agg') mode and plots still appear. Moderate visual improvements can still be made (titles overlap and stuff). Works with %%capture\n",
    "# programmatic_display_to_PDF(curr_active_pipeline, curr_display_function_name='_display_2d_placefield_result_plot_ratemaps_2D') #  🟢✅ Now seems to be working and saving to PDF!! Still using matplotlib.use('Qt5Agg') mode and plots still appear.\n",
    "programmatic_display_to_PDF(curr_active_pipeline, curr_display_function_name='_display_2d_placefield_occupancy') #  🟢✅ Now seems to be working and saving to PDF!! Still using matplotlib.use('Qt5Agg') mode and plots still appear.\n"
   ]
  },
  {
   "cell_type": "code",
   "execution_count": null,
   "id": "a4a5a83f",
   "metadata": {},
   "outputs": [],
   "source": [
    "curr_active_pipeline.reload_default_display_functions()\n",
    "active_identifying_session_ctx, active_session_figures_out_path, active_out_figures_list = batch_programmatic_figures(curr_active_pipeline)\n",
    "batch_extended_programmatic_figures(curr_active_pipeline=curr_active_pipeline)"
   ]
  },
  {
   "cell_type": "code",
   "execution_count": null,
   "id": "7b7172c6",
   "metadata": {},
   "outputs": [],
   "source": [
    "# plot_helper = curr_active_pipeline.plot\n",
    "curr_active_pipeline.registered_display_function_docs_dict"
   ]
  },
  {
   "cell_type": "code",
   "execution_count": null,
   "id": "d2926235",
   "metadata": {},
   "outputs": [],
   "source": [
    "curr_active_pipeline.display_output_history_list"
   ]
  },
  {
   "cell_type": "code",
   "execution_count": null,
   "id": "933f9937",
   "metadata": {},
   "outputs": [],
   "source": [
    "curr_active_pipeline.display_output"
   ]
  },
  {
   "cell_type": "code",
   "execution_count": null,
   "id": "64cbba87",
   "metadata": {},
   "outputs": [],
   "source": [
    "\n",
    "# '_display_2d_placefield_result_plot_ratemaps_2D'\n",
    "# %matplotlib inline\n",
    "%matplotlib qt\n",
    "# curr_active_pipeline.display('_display_2d_placefield_result_plot_ratemaps_2D', long_epoch_context) # MatplotlibRenderPlots\n",
    "\n",
    "# curr_active_pipeline.get_daily_programmatic_session_output_path()\n",
    "curr_active_pipeline.display_output"
   ]
  },
  {
   "cell_type": "code",
   "execution_count": null,
   "id": "48029c22",
   "metadata": {},
   "outputs": [],
   "source": [
    "\n",
    "# long_pf2D.plot_occupancy()\n",
    "_out = short_one_step_decoder_2D.pf.plot_ratemaps_2D(included_unit_neuron_IDs=[2,4,5], bg_rendering_mode=BackgroundRenderingOptions.EMPTY, use_special_overlayed_title=False, missing_aclu_string_formatter=None, debug_print=False, brev_mode=PlotStringBrevityModeEnum.NONE)\n",
    "\n",
    "## Single column output: subplots=(None, 9)\n"
   ]
  },
  {
   "cell_type": "code",
   "execution_count": null,
   "id": "14977e80",
   "metadata": {},
   "outputs": [],
   "source": [
    "# %%capture\n",
    "active_display_to_pdf_fn(curr_active_pipeline, curr_display_function_name='_display_1d_placefields', debug_print=False) # 🟢✅ Now seems to be working and saving to PDF!! Still using matplotlib.use('Qt5Agg') mode and plots still appear."
   ]
  },
  {
   "cell_type": "code",
   "execution_count": null,
   "id": "c2686e3f",
   "metadata": {},
   "outputs": [],
   "source": [
    "long_shared_aclus_only_decoder.pf.plot_occupancy()"
   ]
  },
  {
   "cell_type": "code",
   "execution_count": null,
   "id": "37ae6c7f",
   "metadata": {},
   "outputs": [],
   "source": [
    "%matplotlib qt\n",
    "long_one_step_decoder_2D.pf.plot_occupancy()"
   ]
  },
  {
   "cell_type": "code",
   "execution_count": null,
   "id": "a8006610",
   "metadata": {},
   "outputs": [],
   "source": [
    "long_one_step_decoder_2D.pf.plot_ratemaps_2D()"
   ]
  },
  {
   "cell_type": "code",
   "execution_count": null,
   "id": "d49dcc7e",
   "metadata": {},
   "outputs": [],
   "source": [
    "# curr_active_pipeline.display('_display_short_long_pf1D_comparison', active_session_configuration_context=global_epoch_context, single_figure=False)\n",
    "\n",
    "short_one_step_decoder_1D"
   ]
  },
  {
   "cell_type": "code",
   "execution_count": null,
   "id": "402834bd",
   "metadata": {},
   "outputs": [],
   "source": [
    "%matplotlib qt\n",
    "active_identifying_session_ctx = curr_active_pipeline.sess.get_context() # 'bapun_RatN_Day4_2019-10-15_11-30-06'\n",
    "\n",
    "long_single_cell_pfmap_processing_fn = None\n",
    "short_single_cell_pfmap_processing_fn = None\n",
    "sort_idx = None\n",
    "\n",
    "out = curr_active_pipeline.display('_display_short_long_pf1D_comparison', active_identifying_session_ctx, single_figure=False, debug_print=False, fignum='Short v Long pf1D Comparison',\n",
    "                                   long_kwargs={'sortby': sort_idx, 'single_cell_pfmap_processing_fn': long_single_cell_pfmap_processing_fn},\n",
    "                                   short_kwargs={'sortby': sort_idx, 'single_cell_pfmap_processing_fn': short_single_cell_pfmap_processing_fn, 'curve_hatch_style': {'hatch':'///', 'edgecolor':'k'}},\n",
    "                                  )\n",
    "\n",
    "# ax = out.axes[0]"
   ]
  },
  {
   "cell_type": "code",
   "execution_count": null,
   "id": "d0cfbb30",
   "metadata": {},
   "outputs": [],
   "source": [
    "sort_idx = np.argsort(product_overlap_scalars_df.prod_overlap.to_numpy())[::-1] # the `[::-1]` term reverses the array, which by defaul is returned in ascending order and we want descending\n",
    "sort_idx"
   ]
  },
  {
   "cell_type": "code",
   "execution_count": null,
   "id": "fe831b56",
   "metadata": {},
   "outputs": [],
   "source": [
    "curr_ratemap = long_one_step_decoder_1D.pf.ratemap\n",
    "curr_ratemap.get_sort_indicies()\n",
    "# .pf1D.ratemap"
   ]
  },
  {
   "cell_type": "code",
   "execution_count": null,
   "id": "23228854",
   "metadata": {},
   "outputs": [],
   "source": [
    "# Create `master_dock_win` - centralized plot output window to collect individual figures/controls in (2022-08-18)\n",
    "\n",
    "active_identifying_session_ctx = curr_active_pipeline.filtered_contexts['maze']\n",
    "display_output = curr_active_pipeline.display('_display_context_nested_docks', active_identifying_session_ctx, enable_gui=False, debug_print=True) # returns {'master_dock_win': master_dock_win, 'app': app, 'out_items': out_items}\n",
    "master_dock_win = display_output['master_dock_win']\n",
    "app = display_output['app']\n",
    "out_items = display_output['out_items']\n",
    "\n",
    "# def _get_curr_figure_format_config():\n",
    "# \t\"\"\" Aims to fetch the current figure_format_config and context from the figure_format_config widget:    \n",
    "# \tImplicitly captures: `out_items`, `active_config_name`, `active_identifying_filtered_session_ctx` \n",
    "# \t\"\"\"\n",
    "# \t## Get the figure_format_config from the figure_format_config widget:\n",
    "# \t# Fetch the context from the GUI:\n",
    "# \t_curr_gui_session_ctx, _curr_gui_out_display_items = out_items[active_config_name]\n",
    "# \t_curr_gui_figure_format_config_widget = _curr_gui_out_display_items[active_identifying_filtered_session_ctx.adding_context('display_fn', display_fn_name='figure_format_config_widget')] # [0] is seemingly not needed to unpack the tuple\n",
    "# \tif _curr_gui_figure_format_config_widget is not None:\n",
    "# \t\t# has GUI for config\n",
    "# \t\tfigure_format_config = _curr_gui_figure_format_config_widget.figure_format_config\n",
    "# \telse:\n",
    "# \t\t# has non-GUI provider of figure_format_config\n",
    "# \t\tfigure_format_config = _curr_gui_figure_format_config_widget.figure_format_config\n",
    "\n",
    "# \tif debug_print:\n",
    "# \t\tprint(f'recovered gui figure_format_config: {figure_format_config}')\n",
    "\n",
    "# \treturn figure_format_config\n",
    "\n",
    "# figure_format_config = _get_curr_figure_format_config()"
   ]
  },
  {
   "attachments": {},
   "cell_type": "markdown",
   "id": "8fad7d0f",
   "metadata": {
    "tags": [
     "radon_transform",
     "testing"
    ]
   },
   "source": [
    "# 2023-05-25 - Radon Transform approach to finding line of best fit for each replay Epoch"
   ]
  },
  {
   "cell_type": "code",
   "execution_count": null,
   "id": "d9b5fbd9",
   "metadata": {},
   "outputs": [],
   "source": [
    "from pyphoplacecellanalysis.General.Pipeline.Stages.ComputationFunctions.DefaultComputationFunctions import compute_radon_transforms\n",
    "\n",
    "## 2023-05-25 - Get the 1D Posteriors for each replay epoch so they can be analyzed via score_posterior(...) with a Radon Transform approch to find the line of best fit (which gives the velocity).\n",
    "epochs_linear_fit_df_LONG = compute_radon_transforms(long_results_obj.original_1D_decoder, long_results_obj.all_included_filter_epochs_decoder_result)\n",
    "assert long_results_obj.active_filter_epochs.n_epochs == np.shape(epochs_linear_fit_df_LONG)[0]\n",
    "long_results_obj.active_filter_epochs._df = long_results_obj.active_filter_epochs.to_dataframe().join(epochs_linear_fit_df_LONG) # add the newly computed columns to the Epochs object\n",
    "# epochs_linear_fit_df_LONG\n",
    "\n",
    "epochs_linear_fit_df_SHORT = compute_radon_transforms(short_results_obj.original_1D_decoder, short_results_obj.all_included_filter_epochs_decoder_result)\n",
    "assert short_results_obj.active_filter_epochs.n_epochs == np.shape(epochs_linear_fit_df_SHORT)[0]\n",
    "short_results_obj.active_filter_epochs._df = short_results_obj.active_filter_epochs.to_dataframe().join(epochs_linear_fit_df_SHORT) # add the newly computed columns to the Epochs object\n",
    "# epochs_linear_fit_df_SHORT\n",
    "\n",
    "# Join the columns of LONG and SHORT dataframes with suffixes\n",
    "assert np.shape(epochs_linear_fit_df_LONG)[0] == np.shape(epochs_linear_fit_df_SHORT)[0]\n",
    "combined_epochs_linear_fit_df = epochs_linear_fit_df_LONG.join(epochs_linear_fit_df_SHORT, lsuffix='_LONG', rsuffix='_SHORT')\n",
    "# combined_epochs_linear_fit_df\n",
    "\n",
    "assert active_filter_epochs.n_epochs == np.shape(combined_epochs_linear_fit_df)[0]\n",
    "active_filter_epochs._df = active_filter_epochs.to_dataframe().join(combined_epochs_linear_fit_df) # add the newly computed columns to the Epochs object\n",
    "active_filter_epochs"
   ]
  },
  {
   "attachments": {},
   "cell_type": "markdown",
   "id": "d1906e5a",
   "metadata": {},
   "source": [
    "# 2023-06-01 - Testing new metrics:"
   ]
  },
  {
   "cell_type": "code",
   "execution_count": null,
   "id": "6db5c0d9",
   "metadata": {},
   "outputs": [],
   "source": [
    "## long_short_rate_remapping:\n",
    "_comp_name = 'long_short_rate_remapping'\n",
    "if _comp_name in include_whitelist:\n",
    "\ttry:\n",
    "\t\t## Get global 'long_short_rate_remapping' results:\n",
    "\t\tcurr_long_short_rr = curr_active_pipeline.global_computation_results.computed_data['long_short_rate_remapping']\n",
    "\t\trate_remapping_df, high_remapping_cells_only = curr_long_short_rr.rr_df, curr_long_short_rr.high_only_rr_df\n",
    "\t\t_subfn_on_already_computed(_comp_name)\n",
    "\t\t\t\n",
    "\texcept (AttributeError, KeyError) as e:\n",
    "\t\tif progress_print or debug_print:\n",
    "\t\t\tprint(f'{_comp_name} missing.')\n",
    "\t\tif debug_print:\n",
    "\t\t\tprint(f'\\t encountered error: {e}\\n{traceback.format_exc()}\\n.')\n",
    "\t\tif progress_print or debug_print:\n",
    "\t\t\tprint(f'\\t Recomputing {_comp_name}...')\n",
    "\t\t\t\n",
    "\t\t# When this fails due to unwrapping from the load, add `, computation_kwargs_list=[{'perform_cache_load': False}]` as an argument to the `perform_specific_computation` call below\n",
    "\t\tcurr_active_pipeline.perform_specific_computation(computation_functions_name_whitelist=['_perform_long_short_decoding_rate_remapping_analyses'], fail_on_exception=True, debug_print=False) # fail_on_exception MUST be True or error handling is all messed up \n",
    "\t\tprint(f'\\t done.')\n",
    "\t\tcurr_long_short_rr = curr_active_pipeline.global_computation_results.computed_data['long_short_rate_remapping']\n",
    "\t\trate_remapping_df, high_remapping_cells_only = curr_long_short_rr.rr_df, curr_long_short_rr.high_only_rr_df\n",
    "\t\tnewly_computed_values.append(_comp_name)\n",
    "\texcept Exception as e:\n",
    "\t\traise e"
   ]
  }
 ],
 "metadata": {
  "kernelspec": {
   "display_name": "Python 3 (ipykernel)",
   "language": "python",
   "name": "python3"
  },
  "language_info": {
   "codemirror_mode": {
    "name": "ipython",
    "version": 3
   },
   "file_extension": ".py",
   "mimetype": "text/x-python",
   "name": "python",
   "nbconvert_exporter": "python",
   "pygments_lexer": "ipython3",
   "version": "3.9.13"
  },
  "toc-showmarkdowntxt": false,
  "toc-showtags": false
 },
 "nbformat": 4,
 "nbformat_minor": 5
}
