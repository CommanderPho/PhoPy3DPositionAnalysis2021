{
 "cells": [
  {
   "cell_type": "code",
   "execution_count": 1,
   "id": "initial_id",
   "metadata": {
    "ExecuteTime": {
     "end_time": "2023-11-16T23:21:20.608442900Z",
     "start_time": "2023-11-16T23:21:20.217442100Z"
    },
    "collapsed": true,
    "notebookRunGroups": {
     "groupValue": "1"
    }
   },
   "outputs": [
    {
     "name": "stdout",
     "output_type": "stream",
     "text": [
      "Exception reporting mode: Context\n",
      "Automatic pdb calling has been turned OFF\n",
      "build_module_logger(module_name=\"Spike3D.pipeline\"):\n",
      "\t Module logger com.PhoHale.Spike3D.pipeline has file logging enabled and will log to EXTERNAL/TESTING/Logging/debug_com.PhoHale.Spike3D.pipeline.log\n"
     ]
    }
   ],
   "source": [
    "%config IPCompleter.use_jedi = False\n",
    "# %xmode Verbose\n",
    "%xmode context\n",
    "%pdb off\n",
    "%load_ext viztracer\n",
    "from viztracer import VizTracer\n",
    "%load_ext autoreload\n",
    "%autoreload 3\n",
    "import sys\n",
    "from typing import Dict, List, Tuple, Optional\n",
    "from pathlib import Path\n",
    "\n",
    "# required to enable non-blocking interaction:\n",
    "%gui qt5\n",
    "\n",
    "from copy import deepcopy\n",
    "from numba import jit\n",
    "import numpy as np\n",
    "import pandas as pd\n",
    "pd.options.mode.chained_assignment = None  # default='warn'\n",
    "# pd.options.mode.dtype_backend = 'pyarrow' # use new pyarrow backend instead of numpy\n",
    "from attrs import define, field, fields, Factory\n",
    "import tables as tb\n",
    "from datetime import datetime, timedelta\n",
    "\n",
    "# Pho's Formatting Preferences\n",
    "from pyphocorehelpers.preferences_helpers import set_pho_preferences, set_pho_preferences_concise, set_pho_preferences_verbose\n",
    "set_pho_preferences_concise()\n",
    "from pyphocorehelpers.print_helpers import get_now_time_str, get_now_day_str\n",
    "\n",
    "## Pho's Custom Libraries:\n",
    "from pyphocorehelpers.Filesystem.path_helpers import find_first_extant_path\n",
    "from pyphocorehelpers.Filesystem.open_in_system_file_manager import reveal_in_system_file_manager\n",
    "\n",
    "# NeuroPy (Diba Lab Python Repo) Loading\n",
    "# from neuropy import core\n",
    "from neuropy.analyses.placefields import PlacefieldComputationParameters\n",
    "from neuropy.core.epoch import NamedTimerange, Epoch\n",
    "from neuropy.core.ratemap import Ratemap\n",
    "from neuropy.core.session.Formats.BaseDataSessionFormats import DataSessionFormatRegistryHolder\n",
    "from neuropy.core.session.Formats.Specific.KDibaOldDataSessionFormat import KDibaOldDataSessionFormatRegisteredClass\n",
    "from neuropy.utils.matplotlib_helpers import matplotlib_file_only, matplotlib_configuration, matplotlib_configuration_update\n",
    "from neuropy.core.neuron_identities import NeuronIdentityTable, neuronTypesList, neuronTypesEnum\n",
    "from neuropy.utils.mixins.AttrsClassHelpers import AttrsBasedClassHelperMixin, serialized_field, serialized_attribute_field, non_serialized_field, custom_define\n",
    "from neuropy.utils.mixins.HDF5_representable import HDF_DeserializationMixin, post_deserialize, HDF_SerializationMixin, HDFMixin, HDF_Converter\n",
    "\n",
    "## For computation parameters:\n",
    "from neuropy.analyses.placefields import PlacefieldComputationParameters\n",
    "from neuropy.utils.dynamic_container import DynamicContainer\n",
    "from neuropy.utils.result_context import IdentifyingContext\n",
    "from neuropy.core.session.Formats.BaseDataSessionFormats import find_local_session_paths\n",
    "from neuropy.core.neurons import NeuronType\n",
    "from neuropy.core.user_annotations import UserAnnotationsManager\n",
    "from neuropy.core.position import Position\n",
    "from neuropy.core.session.dataSession import DataSession\n",
    "from neuropy.analyses.time_dependent_placefields import PfND_TimeDependent, PlacefieldSnapshot\n",
    "from neuropy.utils.debug_helpers import debug_print_placefield, debug_print_subsession_neuron_differences, debug_print_ratemap, debug_print_spike_counts, debug_plot_2d_binning, print_aligned_columns\n",
    "from neuropy.utils.debug_helpers import parameter_sweeps, _plot_parameter_sweep, compare_placefields_info\n",
    "from neuropy.utils.indexing_helpers import union_of_arrays, intersection_of_arrays, find_desired_sort_indicies, paired_incremental_sorting\n",
    "\n",
    "from pyphocorehelpers.print_helpers import print_object_memory_usage, print_dataframe_memory_usage, print_value_overview_only, DocumentationFilePrinter, print_keys_if_possible, generate_html_string, CapturedException, document_active_variables\n",
    "from pyphocorehelpers.general_helpers import GeneratedClassDefinitionType, CodeConversion, inspect_callable_arguments\n",
    "\n",
    "## Pho Programming Helpers:\n",
    "import inspect\n",
    "from pyphocorehelpers.general_helpers import inspect_callable_arguments, get_arguments_as_optional_dict, GeneratedClassDefinitionType, CodeConversion\n",
    "from pyphocorehelpers.print_helpers import DocumentationFilePrinter, TypePrintMode, print_keys_if_possible, debug_dump_object_member_shapes, print_value_overview_only, document_active_variables, CapturedException\n",
    "from pyphocorehelpers.programming_helpers import IPythonHelpers, PythonDictionaryDefinitionFormat, MemoryManagement\n",
    "from pyphocorehelpers.gui.Qt.TopLevelWindowHelper import TopLevelWindowHelper, print_widget_hierarchy\n",
    "\n",
    "# pyPhoPlaceCellAnalysis:\n",
    "from pyphoplacecellanalysis.General.Pipeline.NeuropyPipeline import NeuropyPipeline # get_neuron_identities\n",
    "from pyphoplacecellanalysis.General.Mixins.ExportHelpers import export_pyqtgraph_plot\n",
    "from pyphoplacecellanalysis.General.Batch.NonInteractiveProcessing import batch_load_session, batch_extended_computations, batch_extended_programmatic_figures\n",
    "from pyphoplacecellanalysis.General.Pipeline.NeuropyPipeline import PipelineSavingScheme\n",
    "\n",
    "import pyphoplacecellanalysis.External.pyqtgraph as pg\n",
    "\n",
    "from pyphoplacecellanalysis.General.Batch.NonInteractiveProcessing import batch_perform_all_plots\n",
    "from pyphoplacecellanalysis.General.Pipeline.Stages.ComputationFunctions.MultiContextComputationFunctions.LongShortTrackComputations import JonathanFiringRateAnalysisResult\n",
    "from pyphoplacecellanalysis.General.Mixins.CrossComputationComparisonHelpers import _find_any_context_neurons\n",
    "from pyphoplacecellanalysis.General.Batch.runBatch import BatchSessionCompletionHandler # for `post_compute_validate(...)`\n",
    "from pyphoplacecellanalysis.Analysis.Decoder.reconstruction import BasePositionDecoder\n",
    "from pyphoplacecellanalysis.SpecificResults.AcrossSessionResults import AcrossSessionsResults\n",
    "from pyphoplacecellanalysis.General.Pipeline.Stages.ComputationFunctions.SpikeAnalysis import SpikeRateTrends # for `_perform_long_short_instantaneous_spike_rate_groups_analysis`\n",
    "from pyphoplacecellanalysis.General.Pipeline.Stages.ComputationFunctions.MultiContextComputationFunctions.LongShortTrackComputations import SingleBarResult, InstantaneousSpikeRateGroupsComputation, TruncationCheckingResults # for `BatchSessionCompletionHandler`, `AcrossSessionsAggregator`\n",
    "from pyphoplacecellanalysis.General.Mixins.CrossComputationComparisonHelpers import SplitPartitionMembership\n",
    "from pyphoplacecellanalysis.General.Pipeline.Stages.ComputationFunctions.MultiContextComputationFunctions.DirectionalPlacefieldGlobalComputationFunctions import DirectionalPlacefieldGlobalComputationFunctions, DirectionalLapsResult, TrackTemplates\n",
    "from pyphoplacecellanalysis.General.Pipeline.Stages.ComputationFunctions.MultiContextComputationFunctions.RankOrderComputations import RankOrderGlobalComputationFunctions\n",
    "from pyphoplacecellanalysis.General.Pipeline.Stages.ComputationFunctions.MultiContextComputationFunctions.DirectionalPlacefieldGlobalComputationFunctions import TrackTemplates\n",
    "from pyphoplacecellanalysis.General.Pipeline.Stages.ComputationFunctions.MultiContextComputationFunctions.RankOrderComputations import RankOrderComputationsContainer, RankOrderResult\n",
    "\n",
    "\n",
    "# Plotting\n",
    "# import pylustrator # customization of figures\n",
    "import matplotlib\n",
    "import matplotlib as mpl\n",
    "import matplotlib.pyplot as plt\n",
    "_bak_rcParams = mpl.rcParams.copy()\n",
    "\n",
    "matplotlib.use('Qt5Agg')\n",
    "# %matplotlib inline\n",
    "\n",
    "# _restore_previous_matplotlib_settings_callback = matplotlib_configuration_update(is_interactive=True, backend='Qt5Agg')\n",
    "_restore_previous_matplotlib_settings_callback = matplotlib_configuration_update(is_interactive=True, backend='Qt5Agg')\n",
    "\n",
    "\n",
    "# import pylustrator # call `pylustrator.start()` before creating your first figure in code.\n",
    "from pyphoplacecellanalysis.Pho2D.matplotlib.visualize_heatmap import visualize_heatmap\n",
    "from pyphoplacecellanalysis.Pho2D.matplotlib.visualize_heatmap import visualize_heatmap_pyqtgraph # used in `plot_kourosh_activity_style_figure`\n",
    "from pyphoplacecellanalysis.General.Pipeline.Stages.DisplayFunctions.SpikeRasters import plot_multiple_raster_plot, plot_raster_plot\n",
    "from pyphoplacecellanalysis.General.Mixins.DataSeriesColorHelpers import UnitColoringMode, DataSeriesColorHelpers\n",
    "from pyphoplacecellanalysis.General.Pipeline.Stages.DisplayFunctions.SpikeRasters import _build_default_tick, build_scatter_plot_kwargs\n",
    "from pyphoplacecellanalysis.GUI.PyQtPlot.Widgets.Mixins.Render2DScrollWindowPlot import Render2DScrollWindowPlotMixin, ScatterItemData\n",
    "from pyphoplacecellanalysis.General.Batch.NonInteractiveProcessing import batch_extended_programmatic_figures, batch_programmatic_figures\n",
    "from pyphoplacecellanalysis.General.Pipeline.Stages.ComputationFunctions.SpikeAnalysis import SpikeRateTrends\n",
    "from pyphoplacecellanalysis.General.Mixins.SpikesRenderingBaseMixin import SpikeEmphasisState\n",
    "\n",
    "from pyphoplacecellanalysis.SpecificResults.PhoDiba2023Paper import PAPER_FIGURE_figure_1_add_replay_epoch_rasters, PAPER_FIGURE_figure_1_full, PAPER_FIGURE_figure_3, main_complete_figure_generations\n",
    "from pyphoplacecellanalysis.SpecificResults.fourthYearPresentation import *\n",
    "\n",
    "# Jupyter Widget Interactive\n",
    "import ipywidgets as widgets\n",
    "from IPython.display import display, HTML\n",
    "from pyphocorehelpers.Filesystem.open_in_system_file_manager import reveal_in_system_file_manager\n",
    "from pyphoplacecellanalysis.GUI.IPyWidgets.pipeline_ipywidgets import interactive_pipeline_widget, interactive_pipeline_files\n",
    "from pyphocorehelpers.gui.Jupyter.simple_widgets import fullwidth_path_widget, render_colors\n",
    "\n",
    "global_data_root_parent_path = find_first_extant_path([Path(r'/home/halechr/FastData'), Path(r'/media/MAX/Data'), Path(r'W:\\Data'), Path(r'/home/halechr/cloud/turbo/Data'), Path(r'/Volumes/MoverNew/data'), Path(r'/home/halechr/turbo/Data')])\n",
    "assert global_data_root_parent_path.exists(), f\"global_data_root_parent_path: {global_data_root_parent_path} does not exist! Is the right computer's config commented out above?\""
   ]
  },
  {
   "cell_type": "markdown",
   "id": "30db844b",
   "metadata": {},
   "source": [
    "# Load Pipeline"
   ]
  },
  {
   "cell_type": "code",
   "execution_count": 2,
   "id": "233d2b8a",
   "metadata": {
    "ExecuteTime": {
     "end_time": "2023-11-16T23:21:36.073368600Z",
     "start_time": "2023-11-16T23:21:27.575793Z"
    },
    "notebookRunGroups": {
     "groupValue": "1"
    }
   },
   "outputs": [
    {
     "name": "stdout",
     "output_type": "stream",
     "text": [
      "basedir: /home/halechr/FastData/KDIBA/gor01/one/2006-6-08_14-26-15\n",
      "Loading loaded session pickle file results : /home/halechr/FastData/KDIBA/gor01/one/2006-6-08_14-26-15/loadedSessPickle.pkl... "
     ]
    },
    {
     "name": "stderr",
     "output_type": "stream",
     "text": [
      "INFO:com.PhoHale.Spike3D.pipeline:NeuropyPipeline.__setstate__(state=\"{'pipeline_name': 'kdiba_pipeline', 'session_data_type': 'kdiba', '_stage': <pyphoplacecellanalysis.General.Pipeline.Stages.Display.DisplayPipelineStage object at 0x7fb91815e730>}\")\n",
      "INFO:com.PhoHale.Spike3D.pipeline:select_filters(...) with: []\n",
      "INFO:com.PhoHale.Spike3D.pipeline:Performing perform_action_for_all_contexts with action EvaluationActions.EVALUATE_COMPUTATIONS on filtered_session with filter named \"maze1_odd\"...\n",
      "INFO:com.PhoHale.Spike3D.pipeline:WARNING: skipping computation because overwrite_extant_results=False and active_computation_results[maze1_odd] already exists and is non-None\n",
      "INFO:com.PhoHale.Spike3D.pipeline:\t TODO: this will prevent recomputation even when the excludelist/includelist or computation function definitions change. Rework so that this is smarter.\n",
      "INFO:com.PhoHale.Spike3D.pipeline:Performing perform_action_for_all_contexts with action EvaluationActions.EVALUATE_COMPUTATIONS on filtered_session with filter named \"maze2_odd\"...\n",
      "INFO:com.PhoHale.Spike3D.pipeline:WARNING: skipping computation because overwrite_extant_results=False and active_computation_results[maze2_odd] already exists and is non-None\n",
      "INFO:com.PhoHale.Spike3D.pipeline:\t TODO: this will prevent recomputation even when the excludelist/includelist or computation function definitions change. Rework so that this is smarter.\n",
      "INFO:com.PhoHale.Spike3D.pipeline:Performing perform_action_for_all_contexts with action EvaluationActions.EVALUATE_COMPUTATIONS on filtered_session with filter named \"maze_odd\"...\n",
      "INFO:com.PhoHale.Spike3D.pipeline:WARNING: skipping computation because overwrite_extant_results=False and active_computation_results[maze_odd] already exists and is non-None\n",
      "INFO:com.PhoHale.Spike3D.pipeline:\t TODO: this will prevent recomputation even when the excludelist/includelist or computation function definitions change. Rework so that this is smarter.\n",
      "INFO:com.PhoHale.Spike3D.pipeline:Performing perform_action_for_all_contexts with action EvaluationActions.EVALUATE_COMPUTATIONS on filtered_session with filter named \"maze1_even\"...\n",
      "INFO:com.PhoHale.Spike3D.pipeline:WARNING: skipping computation because overwrite_extant_results=False and active_computation_results[maze1_even] already exists and is non-None\n",
      "INFO:com.PhoHale.Spike3D.pipeline:\t TODO: this will prevent recomputation even when the excludelist/includelist or computation function definitions change. Rework so that this is smarter.\n",
      "INFO:com.PhoHale.Spike3D.pipeline:Performing perform_action_for_all_contexts with action EvaluationActions.EVALUATE_COMPUTATIONS on filtered_session with filter named \"maze2_even\"...\n",
      "INFO:com.PhoHale.Spike3D.pipeline:WARNING: skipping computation because overwrite_extant_results=False and active_computation_results[maze2_even] already exists and is non-None\n",
      "INFO:com.PhoHale.Spike3D.pipeline:\t TODO: this will prevent recomputation even when the excludelist/includelist or computation function definitions change. Rework so that this is smarter.\n",
      "INFO:com.PhoHale.Spike3D.pipeline:Performing perform_action_for_all_contexts with action EvaluationActions.EVALUATE_COMPUTATIONS on filtered_session with filter named \"maze_even\"...\n",
      "INFO:com.PhoHale.Spike3D.pipeline:WARNING: skipping computation because overwrite_extant_results=False and active_computation_results[maze_even] already exists and is non-None\n",
      "INFO:com.PhoHale.Spike3D.pipeline:\t TODO: this will prevent recomputation even when the excludelist/includelist or computation function definitions change. Rework so that this is smarter.\n",
      "INFO:com.PhoHale.Spike3D.pipeline:Performing perform_action_for_all_contexts with action EvaluationActions.EVALUATE_COMPUTATIONS on filtered_session with filter named \"maze1_any\"...\n",
      "INFO:com.PhoHale.Spike3D.pipeline:WARNING: skipping computation because overwrite_extant_results=False and active_computation_results[maze1_any] already exists and is non-None\n",
      "INFO:com.PhoHale.Spike3D.pipeline:\t TODO: this will prevent recomputation even when the excludelist/includelist or computation function definitions change. Rework so that this is smarter.\n",
      "INFO:com.PhoHale.Spike3D.pipeline:Performing perform_action_for_all_contexts with action EvaluationActions.EVALUATE_COMPUTATIONS on filtered_session with filter named \"maze2_any\"...\n",
      "INFO:com.PhoHale.Spike3D.pipeline:WARNING: skipping computation because overwrite_extant_results=False and active_computation_results[maze2_any] already exists and is non-None\n",
      "INFO:com.PhoHale.Spike3D.pipeline:\t TODO: this will prevent recomputation even when the excludelist/includelist or computation function definitions change. Rework so that this is smarter.\n",
      "INFO:com.PhoHale.Spike3D.pipeline:Performing perform_action_for_all_contexts with action EvaluationActions.EVALUATE_COMPUTATIONS on filtered_session with filter named \"maze_any\"...\n",
      "INFO:com.PhoHale.Spike3D.pipeline:WARNING: skipping computation because overwrite_extant_results=False and active_computation_results[maze_any] already exists and is non-None\n",
      "INFO:com.PhoHale.Spike3D.pipeline:\t TODO: this will prevent recomputation even when the excludelist/includelist or computation function definitions change. Rework so that this is smarter.\n",
      "INFO:com.PhoHale.Spike3D.pipeline:Performing global computations...\n",
      "INFO:com.PhoHale.Spike3D.pipeline:select_filters(...) with: []\n",
      "INFO:com.PhoHale.Spike3D.pipeline:Performing perform_action_for_all_contexts with action EvaluationActions.EVALUATE_COMPUTATIONS on filtered_session with filter named \"maze1_odd\"...\n",
      "INFO:com.PhoHale.Spike3D.pipeline:WARNING: skipping computation because overwrite_extant_results=False and active_computation_results[maze1_odd] already exists and is non-None\n",
      "INFO:com.PhoHale.Spike3D.pipeline:\t TODO: this will prevent recomputation even when the excludelist/includelist or computation function definitions change. Rework so that this is smarter.\n",
      "INFO:com.PhoHale.Spike3D.pipeline:Performing perform_action_for_all_contexts with action EvaluationActions.EVALUATE_COMPUTATIONS on filtered_session with filter named \"maze2_odd\"...\n",
      "INFO:com.PhoHale.Spike3D.pipeline:WARNING: skipping computation because overwrite_extant_results=False and active_computation_results[maze2_odd] already exists and is non-None\n",
      "INFO:com.PhoHale.Spike3D.pipeline:\t TODO: this will prevent recomputation even when the excludelist/includelist or computation function definitions change. Rework so that this is smarter.\n",
      "INFO:com.PhoHale.Spike3D.pipeline:Performing perform_action_for_all_contexts with action EvaluationActions.EVALUATE_COMPUTATIONS on filtered_session with filter named \"maze_odd\"...\n",
      "INFO:com.PhoHale.Spike3D.pipeline:WARNING: skipping computation because overwrite_extant_results=False and active_computation_results[maze_odd] already exists and is non-None\n",
      "INFO:com.PhoHale.Spike3D.pipeline:\t TODO: this will prevent recomputation even when the excludelist/includelist or computation function definitions change. Rework so that this is smarter.\n",
      "INFO:com.PhoHale.Spike3D.pipeline:Performing perform_action_for_all_contexts with action EvaluationActions.EVALUATE_COMPUTATIONS on filtered_session with filter named \"maze1_even\"...\n",
      "INFO:com.PhoHale.Spike3D.pipeline:WARNING: skipping computation because overwrite_extant_results=False and active_computation_results[maze1_even] already exists and is non-None\n",
      "INFO:com.PhoHale.Spike3D.pipeline:\t TODO: this will prevent recomputation even when the excludelist/includelist or computation function definitions change. Rework so that this is smarter.\n",
      "INFO:com.PhoHale.Spike3D.pipeline:Performing perform_action_for_all_contexts with action EvaluationActions.EVALUATE_COMPUTATIONS on filtered_session with filter named \"maze2_even\"...\n",
      "INFO:com.PhoHale.Spike3D.pipeline:WARNING: skipping computation because overwrite_extant_results=False and active_computation_results[maze2_even] already exists and is non-None\n",
      "INFO:com.PhoHale.Spike3D.pipeline:\t TODO: this will prevent recomputation even when the excludelist/includelist or computation function definitions change. Rework so that this is smarter.\n",
      "INFO:com.PhoHale.Spike3D.pipeline:Performing perform_action_for_all_contexts with action EvaluationActions.EVALUATE_COMPUTATIONS on filtered_session with filter named \"maze_even\"...\n",
      "INFO:com.PhoHale.Spike3D.pipeline:WARNING: skipping computation because overwrite_extant_results=False and active_computation_results[maze_even] already exists and is non-None\n",
      "INFO:com.PhoHale.Spike3D.pipeline:\t TODO: this will prevent recomputation even when the excludelist/includelist or computation function definitions change. Rework so that this is smarter.\n",
      "INFO:com.PhoHale.Spike3D.pipeline:Performing perform_action_for_all_contexts with action EvaluationActions.EVALUATE_COMPUTATIONS on filtered_session with filter named \"maze1_any\"...\n",
      "INFO:com.PhoHale.Spike3D.pipeline:WARNING: skipping computation because overwrite_extant_results=False and active_computation_results[maze1_any] already exists and is non-None\n",
      "INFO:com.PhoHale.Spike3D.pipeline:\t TODO: this will prevent recomputation even when the excludelist/includelist or computation function definitions change. Rework so that this is smarter.\n",
      "INFO:com.PhoHale.Spike3D.pipeline:Performing perform_action_for_all_contexts with action EvaluationActions.EVALUATE_COMPUTATIONS on filtered_session with filter named \"maze2_any\"...\n",
      "INFO:com.PhoHale.Spike3D.pipeline:WARNING: skipping computation because overwrite_extant_results=False and active_computation_results[maze2_any] already exists and is non-None\n",
      "INFO:com.PhoHale.Spike3D.pipeline:\t TODO: this will prevent recomputation even when the excludelist/includelist or computation function definitions change. Rework so that this is smarter.\n",
      "INFO:com.PhoHale.Spike3D.pipeline:Performing perform_action_for_all_contexts with action EvaluationActions.EVALUATE_COMPUTATIONS on filtered_session with filter named \"maze_any\"...\n",
      "INFO:com.PhoHale.Spike3D.pipeline:WARNING: skipping computation because overwrite_extant_results=False and active_computation_results[maze_any] already exists and is non-None\n",
      "INFO:com.PhoHale.Spike3D.pipeline:\t TODO: this will prevent recomputation even when the excludelist/includelist or computation function definitions change. Rework so that this is smarter.\n"
     ]
    },
    {
     "name": "stdout",
     "output_type": "stream",
     "text": [
      "done.\n",
      "Loading pickled pipeline success: /home/halechr/FastData/KDIBA/gor01/one/2006-6-08_14-26-15/loadedSessPickle.pkl.\n",
      "pipeline_needs_resave but skip_save_on_initial_load == True, so saving will be skipped entirely. Be sure to save manually if there are changes.\n",
      "pipeline load success!\n",
      "using provided computation_functions_name_includelist: ['pf_computation', 'firing_rate_trends', 'position_decoding']\n",
      "WARNING: skipping computation because overwrite_extant_results=False and active_computation_results[maze1_odd] already exists and is non-None\n",
      "\t TODO: this will prevent recomputation even when the excludelist/includelist or computation function definitions change. Rework so that this is smarter.\n",
      "WARNING: skipping computation because overwrite_extant_results=False and active_computation_results[maze2_odd] already exists and is non-None\n",
      "\t TODO: this will prevent recomputation even when the excludelist/includelist or computation function definitions change. Rework so that this is smarter.\n",
      "WARNING: skipping computation because overwrite_extant_results=False and active_computation_results[maze_odd] already exists and is non-None\n",
      "\t TODO: this will prevent recomputation even when the excludelist/includelist or computation function definitions change. Rework so that this is smarter.\n",
      "WARNING: skipping computation because overwrite_extant_results=False and active_computation_results[maze1_even] already exists and is non-None\n",
      "\t TODO: this will prevent recomputation even when the excludelist/includelist or computation function definitions change. Rework so that this is smarter.\n",
      "WARNING: skipping computation because overwrite_extant_results=False and active_computation_results[maze2_even] already exists and is non-None\n",
      "\t TODO: this will prevent recomputation even when the excludelist/includelist or computation function definitions change. Rework so that this is smarter.\n",
      "WARNING: skipping computation because overwrite_extant_results=False and active_computation_results[maze_even] already exists and is non-None\n",
      "\t TODO: this will prevent recomputation even when the excludelist/includelist or computation function definitions change. Rework so that this is smarter.\n",
      "WARNING: skipping computation because overwrite_extant_results=False and active_computation_results[maze1_any] already exists and is non-None\n",
      "\t TODO: this will prevent recomputation even when the excludelist/includelist or computation function definitions change. Rework so that this is smarter.\n",
      "WARNING: skipping computation because overwrite_extant_results=False and active_computation_results[maze2_any] already exists and is non-None\n",
      "\t TODO: this will prevent recomputation even when the excludelist/includelist or computation function definitions change. Rework so that this is smarter.\n",
      "WARNING: skipping computation because overwrite_extant_results=False and active_computation_results[maze_any] already exists and is non-None\n",
      "\t TODO: this will prevent recomputation even when the excludelist/includelist or computation function definitions change. Rework so that this is smarter.\n",
      "WARNING: skipping computation because overwrite_extant_results=False and active_computation_results[maze1_odd] already exists and is non-None\n",
      "\t TODO: this will prevent recomputation even when the excludelist/includelist or computation function definitions change. Rework so that this is smarter.\n",
      "WARNING: skipping computation because overwrite_extant_results=False and active_computation_results[maze2_odd] already exists and is non-None\n",
      "\t TODO: this will prevent recomputation even when the excludelist/includelist or computation function definitions change. Rework so that this is smarter.\n",
      "WARNING: skipping computation because overwrite_extant_results=False and active_computation_results[maze_odd] already exists and is non-None\n",
      "\t TODO: this will prevent recomputation even when the excludelist/includelist or computation function definitions change. Rework so that this is smarter.\n",
      "WARNING: skipping computation because overwrite_extant_results=False and active_computation_results[maze1_even] already exists and is non-None\n",
      "\t TODO: this will prevent recomputation even when the excludelist/includelist or computation function definitions change. Rework so that this is smarter.\n",
      "WARNING: skipping computation because overwrite_extant_results=False and active_computation_results[maze2_even] already exists and is non-None\n",
      "\t TODO: this will prevent recomputation even when the excludelist/includelist or computation function definitions change. Rework so that this is smarter.\n",
      "WARNING: skipping computation because overwrite_extant_results=False and active_computation_results[maze_even] already exists and is non-None\n",
      "\t TODO: this will prevent recomputation even when the excludelist/includelist or computation function definitions change. Rework so that this is smarter.\n",
      "WARNING: skipping computation because overwrite_extant_results=False and active_computation_results[maze1_any] already exists and is non-None\n",
      "\t TODO: this will prevent recomputation even when the excludelist/includelist or computation function definitions change. Rework so that this is smarter.\n",
      "WARNING: skipping computation because overwrite_extant_results=False and active_computation_results[maze2_any] already exists and is non-None\n",
      "\t TODO: this will prevent recomputation even when the excludelist/includelist or computation function definitions change. Rework so that this is smarter.\n",
      "WARNING: skipping computation because overwrite_extant_results=False and active_computation_results[maze_any] already exists and is non-None\n",
      "\t TODO: this will prevent recomputation even when the excludelist/includelist or computation function definitions change. Rework so that this is smarter.\n"
     ]
    },
    {
     "name": "stderr",
     "output_type": "stream",
     "text": [
      "INFO:com.PhoHale.Spike3D.pipeline:Performing global computations...\n",
      "INFO:com.PhoHale.Spike3D.pipeline:select_filters(...) with: []\n",
      "INFO:com.PhoHale.Spike3D.pipeline:Performing perform_action_for_all_contexts with action EvaluationActions.EVALUATE_COMPUTATIONS on filtered_session with filter named \"maze1_odd\"...\n",
      "INFO:com.PhoHale.Spike3D.pipeline:WARNING: skipping computation because overwrite_extant_results=False and active_computation_results[maze1_odd] already exists and is non-None\n",
      "INFO:com.PhoHale.Spike3D.pipeline:\t TODO: this will prevent recomputation even when the excludelist/includelist or computation function definitions change. Rework so that this is smarter.\n",
      "INFO:com.PhoHale.Spike3D.pipeline:Performing perform_action_for_all_contexts with action EvaluationActions.EVALUATE_COMPUTATIONS on filtered_session with filter named \"maze2_odd\"...\n",
      "INFO:com.PhoHale.Spike3D.pipeline:WARNING: skipping computation because overwrite_extant_results=False and active_computation_results[maze2_odd] already exists and is non-None\n",
      "INFO:com.PhoHale.Spike3D.pipeline:\t TODO: this will prevent recomputation even when the excludelist/includelist or computation function definitions change. Rework so that this is smarter.\n",
      "INFO:com.PhoHale.Spike3D.pipeline:Performing perform_action_for_all_contexts with action EvaluationActions.EVALUATE_COMPUTATIONS on filtered_session with filter named \"maze_odd\"...\n",
      "INFO:com.PhoHale.Spike3D.pipeline:WARNING: skipping computation because overwrite_extant_results=False and active_computation_results[maze_odd] already exists and is non-None\n",
      "INFO:com.PhoHale.Spike3D.pipeline:\t TODO: this will prevent recomputation even when the excludelist/includelist or computation function definitions change. Rework so that this is smarter.\n",
      "INFO:com.PhoHale.Spike3D.pipeline:Performing perform_action_for_all_contexts with action EvaluationActions.EVALUATE_COMPUTATIONS on filtered_session with filter named \"maze1_even\"...\n",
      "INFO:com.PhoHale.Spike3D.pipeline:WARNING: skipping computation because overwrite_extant_results=False and active_computation_results[maze1_even] already exists and is non-None\n",
      "INFO:com.PhoHale.Spike3D.pipeline:\t TODO: this will prevent recomputation even when the excludelist/includelist or computation function definitions change. Rework so that this is smarter.\n",
      "INFO:com.PhoHale.Spike3D.pipeline:Performing perform_action_for_all_contexts with action EvaluationActions.EVALUATE_COMPUTATIONS on filtered_session with filter named \"maze2_even\"...\n",
      "INFO:com.PhoHale.Spike3D.pipeline:WARNING: skipping computation because overwrite_extant_results=False and active_computation_results[maze2_even] already exists and is non-None\n",
      "INFO:com.PhoHale.Spike3D.pipeline:\t TODO: this will prevent recomputation even when the excludelist/includelist or computation function definitions change. Rework so that this is smarter.\n",
      "INFO:com.PhoHale.Spike3D.pipeline:Performing perform_action_for_all_contexts with action EvaluationActions.EVALUATE_COMPUTATIONS on filtered_session with filter named \"maze_even\"...\n",
      "INFO:com.PhoHale.Spike3D.pipeline:WARNING: skipping computation because overwrite_extant_results=False and active_computation_results[maze_even] already exists and is non-None\n",
      "INFO:com.PhoHale.Spike3D.pipeline:\t TODO: this will prevent recomputation even when the excludelist/includelist or computation function definitions change. Rework so that this is smarter.\n",
      "INFO:com.PhoHale.Spike3D.pipeline:Performing perform_action_for_all_contexts with action EvaluationActions.EVALUATE_COMPUTATIONS on filtered_session with filter named \"maze1_any\"...\n",
      "INFO:com.PhoHale.Spike3D.pipeline:WARNING: skipping computation because overwrite_extant_results=False and active_computation_results[maze1_any] already exists and is non-None\n",
      "INFO:com.PhoHale.Spike3D.pipeline:\t TODO: this will prevent recomputation even when the excludelist/includelist or computation function definitions change. Rework so that this is smarter.\n",
      "INFO:com.PhoHale.Spike3D.pipeline:Performing perform_action_for_all_contexts with action EvaluationActions.EVALUATE_COMPUTATIONS on filtered_session with filter named \"maze2_any\"...\n",
      "INFO:com.PhoHale.Spike3D.pipeline:WARNING: skipping computation because overwrite_extant_results=False and active_computation_results[maze2_any] already exists and is non-None\n",
      "INFO:com.PhoHale.Spike3D.pipeline:\t TODO: this will prevent recomputation even when the excludelist/includelist or computation function definitions change. Rework so that this is smarter.\n",
      "INFO:com.PhoHale.Spike3D.pipeline:Performing perform_action_for_all_contexts with action EvaluationActions.EVALUATE_COMPUTATIONS on filtered_session with filter named \"maze_any\"...\n",
      "INFO:com.PhoHale.Spike3D.pipeline:WARNING: skipping computation because overwrite_extant_results=False and active_computation_results[maze_any] already exists and is non-None\n",
      "INFO:com.PhoHale.Spike3D.pipeline:\t TODO: this will prevent recomputation even when the excludelist/includelist or computation function definitions change. Rework so that this is smarter.\n",
      "INFO:com.PhoHale.Spike3D.pipeline:Performing global computations...\n",
      "INFO:com.PhoHale.Spike3D.pipeline:NeuropyPipeline.on_stage_changed(new_stage=\"PipelineStage.Displayed\")\n",
      "WARNING:com.PhoHale.Spike3D.pipeline:WARNING: saving_mode is SKIP_SAVING so pipeline will not be saved despite calling .save_pipeline(...).\n"
     ]
    },
    {
     "name": "stdout",
     "output_type": "stream",
     "text": [
      "WARNING: skipping computation because overwrite_extant_results=False and active_computation_results[maze1_odd] already exists and is non-None\n",
      "\t TODO: this will prevent recomputation even when the excludelist/includelist or computation function definitions change. Rework so that this is smarter.\n",
      "WARNING: skipping computation because overwrite_extant_results=False and active_computation_results[maze2_odd] already exists and is non-None\n",
      "\t TODO: this will prevent recomputation even when the excludelist/includelist or computation function definitions change. Rework so that this is smarter.\n",
      "WARNING: skipping computation because overwrite_extant_results=False and active_computation_results[maze_odd] already exists and is non-None\n",
      "\t TODO: this will prevent recomputation even when the excludelist/includelist or computation function definitions change. Rework so that this is smarter.\n",
      "WARNING: skipping computation because overwrite_extant_results=False and active_computation_results[maze1_even] already exists and is non-None\n",
      "\t TODO: this will prevent recomputation even when the excludelist/includelist or computation function definitions change. Rework so that this is smarter.\n",
      "WARNING: skipping computation because overwrite_extant_results=False and active_computation_results[maze2_even] already exists and is non-None\n",
      "\t TODO: this will prevent recomputation even when the excludelist/includelist or computation function definitions change. Rework so that this is smarter.\n",
      "WARNING: skipping computation because overwrite_extant_results=False and active_computation_results[maze_even] already exists and is non-None\n",
      "\t TODO: this will prevent recomputation even when the excludelist/includelist or computation function definitions change. Rework so that this is smarter.\n",
      "WARNING: skipping computation because overwrite_extant_results=False and active_computation_results[maze1_any] already exists and is non-None\n",
      "\t TODO: this will prevent recomputation even when the excludelist/includelist or computation function definitions change. Rework so that this is smarter.\n",
      "WARNING: skipping computation because overwrite_extant_results=False and active_computation_results[maze2_any] already exists and is non-None\n",
      "\t TODO: this will prevent recomputation even when the excludelist/includelist or computation function definitions change. Rework so that this is smarter.\n",
      "WARNING: skipping computation because overwrite_extant_results=False and active_computation_results[maze_any] already exists and is non-None\n",
      "\t TODO: this will prevent recomputation even when the excludelist/includelist or computation function definitions change. Rework so that this is smarter.\n",
      "WARNING: saving_mode is SKIP_SAVING so pipeline will not be saved despite calling .save_pipeline(...).\n",
      "saving_mode.shouldSave == False, so not saving at the end of batch_load_session\n",
      "DEPRICATION WARNING: workaround to allow subscripting ComputationResult objects. Will be depricated. key: computed_data\n",
      "DEPRICATION WARNING: workaround to allow subscripting ComputationResult objects. Will be depricated. key: computed_data\n",
      "DEPRICATION WARNING: workaround to allow subscripting ComputationResult objects. Will be depricated. key: computed_data\n",
      "DEPRICATION WARNING: workaround to allow subscripting ComputationResult objects. Will be depricated. key: computed_data\n",
      "DEPRICATION WARNING: workaround to allow subscripting ComputationResult objects. Will be depricated. key: computed_data\n",
      "DEPRICATION WARNING: workaround to allow subscripting ComputationResult objects. Will be depricated. key: computed_data\n",
      "were pipeline preprocessing parameters missing and updated?: False\n"
     ]
    }
   ],
   "source": [
    "# ==================================================================================================================== #\n",
    "# Load Data                                                                                                            #\n",
    "# ==================================================================================================================== #\n",
    "\n",
    "active_data_mode_name = 'kdiba'\n",
    "local_session_root_parent_context = IdentifyingContext(format_name=active_data_mode_name) # , animal_name='', configuration_name='one', session_name=a_sess.session_name\n",
    "local_session_root_parent_path = global_data_root_parent_path.joinpath('KDIBA')\n",
    "\n",
    "# [*] - indicates bad or session with a problem\n",
    "# 0, 1, 2, 3, 4, 5, 6, 7, [8], [9], 10, 11, [12], 13, 14, [15], [16], 17, \n",
    "# curr_context: IdentifyingContext = good_contexts_list[1] # select the session from all of the good sessions here.\n",
    "curr_context = IdentifyingContext(format_name='kdiba',animal='gor01',exper_name='one',session_name='2006-6-08_14-26-15') # DONE. Very good. Many good Pfs, many good replays.\n",
    "# curr_context = IdentifyingContext(format_name='kdiba',animal='gor01',exper_name='one',session_name='2006-6-09_1-22-43') # DONE, might be the BEST SESSION, good example session with lots of place cells, clean replays, and clear bar graphs.\n",
    "# curr_context = IdentifyingContext(format_name='kdiba',animal='gor01',exper_name='one',session_name='2006-6-12_15-55-31') # DONE, Good Pfs but no good replays\n",
    "# curr_context = IdentifyingContext(format_name='kdiba',animal='gor01',exper_name='one',session_name='2006-6-13_14-42-6') # BAD, 2023-07-14, unsure why still.\n",
    "# curr_context = IdentifyingContext(format_name='kdiba',animal='gor01',exper_name='two',session_name='2006-6-07_16-40-19') # DONE, GREAT, both good Pfs and replays!\n",
    "# curr_context = IdentifyingContext(format_name='kdiba',animal='gor01',exper_name='two',session_name='2006-6-08_21-16-25') # DONE, Added replay selections. Very \"jumpy\" between the starts and ends of the track.\n",
    "# curr_context = IdentifyingContext(format_name='kdiba',animal='gor01',exper_name='two',session_name='2006-6-09_22-24-40') # DONE, Added replay selections. A TON of putative replays in general, most bad, but some good.\n",
    "# curr_context = IdentifyingContext(format_name='kdiba',animal='gor01',exper_name='twolong_LR_pf1Dsession_name='2006-4-12_15-25-59') # BAD, No Epochs\n",
    "# curr_context = IdentifyingContext(format_name='kdiba',animal='vvp01',exper_name='two',session_name='2006-4-16_18-47-52')\n",
    "# curr_context = IdentifyingContext(format_name='kdiba',animal='vvp01',exper_name='two',session_name='2006-4-17_12-52-15')\n",
    "# curr_context = IdentifyingContext(format_name='kdiba',animal='vvp01',exper_name='two',session_name='2006-4-25_13-20-55')\n",
    "# curr_context = IdentifyingContext(format_name='kdiba',animal='vvp01',exper_name='two',session_name='2006-4-28_12-38-13')\n",
    "# curr_context = IdentifyingContext(format_name='kdiba',animal='pin01',exper_name='one',session_name='11-02_17-46-44') # DONE, good. Many good pfs, many good replays. Noticed very strange jumping off the track in the 3D behavior/spikes viewer. Is there something wrong with this session?\n",
    "# curr_context = IdentifyingContext(format_name='kdiba',animal='pin01',exper_name='one',session_name='11-02_19-28-0') # DONE, good?, replays selected, few\n",
    "# curr_context = IdentifyingContext(format_name='kdiba',animal='pin01',exper_name='one',session_name='11-03_12-3-25') # DONE, very few replays\n",
    "# curr_context = IdentifyingContext(format_name='kdiba',animal='pin01',exper_name='one',session_name='11-09_12-15-3')\n",
    "# curr_context = IdentifyingContext(format_name='kdiba',animal='pin01',exper_name='one',session_name='11-09_22-4-5')\n",
    "# curr_context = IdentifyingContext(format_name='kdiba',animal='pin01',exper_name='one',session_name='fet11-01_12-58-54') # DONE, replays selected, quite a few replays but few are very good.\n",
    "\n",
    "# curr_context = IdentifyingContext(format_name='kdiba',animal='gor01',exper_name='two',session_name='2006-6-08_21-16-25')\n",
    "\n",
    "local_session_parent_path: Path = local_session_root_parent_path.joinpath(curr_context.animal, curr_context.exper_name) # 'gor01', 'one' - probably not needed anymore\n",
    "basedir: Path = local_session_parent_path.joinpath(curr_context.session_name).resolve()\n",
    "print(f'basedir: {str(basedir)}')\n",
    "\n",
    "# Read if possible:\n",
    "saving_mode = PipelineSavingScheme.SKIP_SAVING\n",
    "force_reload = False\n",
    "# \n",
    "# # Force write:\n",
    "# saving_mode = PipelineSavingScheme.TEMP_THEN_OVERWRITE\n",
    "# saving_mode = PipelineSavingScheme.OVERWRITE_IN_PLACE\n",
    "# force_reload = True\n",
    "\n",
    "## TODO: if loading is not possible, we need to change the `saving_mode` so that the new results are properly saved.\n",
    "\n",
    "# ==================================================================================================================== #\n",
    "# Load Pipeline                                                                                                        #\n",
    "# ==================================================================================================================== #\n",
    "# with VizTracer(output_file=f\"viztracer_{get_now_time_str()}-full_session_LOO_decoding_analysis.json\", min_duration=200, tracer_entries=3000000, ignore_frozen=True) as tracer:\n",
    "# epoch_name_includelist = ['maze']\n",
    "epoch_name_includelist = None\n",
    "active_computation_functions_name_includelist=['pf_computation',\n",
    "                                            #    'pfdt_computation',\n",
    "                                                'firing_rate_trends',\n",
    "                                                # 'pf_dt_sequential_surprise', \n",
    "                                            #    'ratemap_peaks_prominence2d',\n",
    "                                                'position_decoding', \n",
    "                                                # 'position_decoding_two_step', \n",
    "                                            #    'long_short_decoding_analyses', 'jonathan_firing_rate_analysis', 'long_short_fr_indicies_analyses', 'short_long_pf_overlap_analyses', 'long_short_post_decoding', 'long_short_rate_remapping',\n",
    "                                            #     'long_short_inst_spike_rate_groups',\n",
    "                                            #     'long_short_endcap_analysis',\n",
    "                                            # 'split_to_directional_laps',\n",
    "]\n",
    "\n",
    "curr_active_pipeline: NeuropyPipeline = batch_load_session(global_data_root_parent_path, active_data_mode_name, basedir, epoch_name_includelist=epoch_name_includelist,\n",
    "                                        computation_functions_name_includelist=active_computation_functions_name_includelist,\n",
    "                                        saving_mode=saving_mode, force_reload=force_reload,\n",
    "                                        skip_extended_batch_computations=True, debug_print=False, fail_on_exception=True) # , active_pickle_filename = 'loadedSessPickle_withParameters.pkl'\n",
    "\n",
    "\n",
    "\n",
    "## Post Compute Validate 2023-05-16:\n",
    "was_updated = BatchSessionCompletionHandler.post_compute_validate(curr_active_pipeline) ## TODO: need to potentially re-save if was_updated. This will fail because constained versions not ran yet.\n",
    "if was_updated:\n",
    "    print(f'was_updated: {was_updated}')\n",
    "    try:\n",
    "        curr_active_pipeline.save_pipeline(saving_mode=saving_mode)\n",
    "    except Exception as e:\n",
    "        ## TODO: catch/log saving error and indicate that it isn't saved.\n",
    "        exception_info = sys.exc_info()\n",
    "        e = CapturedException(e, exception_info)\n",
    "        print(f'ERROR RE-SAVING PIPELINE after update. error: {e}')\n"
   ]
  },
  {
   "cell_type": "code",
   "execution_count": 3,
   "id": "acba46b6",
   "metadata": {
    "ExecuteTime": {
     "end_time": "2023-11-16T23:21:40.574268400Z",
     "start_time": "2023-11-16T23:21:35.966373700Z"
    },
    "notebookRunGroups": {
     "groupValue": "1"
    }
   },
   "outputs": [
    {
     "name": "stdout",
     "output_type": "stream",
     "text": [
      "Loading loaded session pickle file results : /home/halechr/FastData/KDIBA/gor01/one/2006-6-08_14-26-15/output/global_computation_results.pkl... done.\n",
      "included includelist is specified: ['pf_computation', 'firing_rate_trends', 'long_short_decoding_analyses', 'jonathan_firing_rate_analysis', 'long_short_fr_indicies_analyses', 'short_long_pf_overlap_analyses', 'long_short_post_decoding', 'long_short_endcap_analysis', 'split_to_directional_laps', 'rank_order_shuffle_analysis'], so only performing these extended computations.\n",
      "Running batch_extended_computations(...) with global_epoch_name: \"maze_any\"\n",
      "pf_computation, maze_any already computed.\n",
      "firing_rate_trends, maze_any already computed.\n",
      "split_to_directional_laps, maze_any already computed.\n",
      "rank_order_shuffle_analysis, maze_any already computed.\n",
      "long_short_decoding_analyses, maze_any already computed.\n",
      "short_long_pf_overlap_analyses, maze_any already computed.\n",
      "long_short_fr_indicies_analyses, maze_any already computed.\n",
      "jonathan_firing_rate_analysis, maze_any already computed.\n",
      "long_short_post_decoding, maze_any already computed.\n",
      "long_short_endcap_analysis, maze_any already computed.\n",
      "done with all batch_extended_computations(...).\n",
      "no changes in global results.\n"
     ]
    },
    {
     "data": {
      "application/vnd.jupyter.widget-view+json": {
       "model_id": "388ec0a234414792b9da1e2015261d46",
       "version_major": 2,
       "version_minor": 0
      },
      "text/plain": [
       "VBox(children=(Box(children=(Label(value='session path:', layout=Layout(width='auto')), Label(value='/home/hal…"
      ]
     },
     "execution_count": 3,
     "metadata": {},
     "output_type": "execute_result"
    }
   ],
   "source": [
    "### GLOBAL COMPUTATIONS:\n",
    "if not force_reload: # not just force_reload, needs to recompute whenever the computation fails.\n",
    "    try:\n",
    "        curr_active_pipeline.load_pickled_global_computation_results()\n",
    "    except Exception as e:\n",
    "        exception_info = sys.exc_info()\n",
    "        e = CapturedException(e, exception_info)\n",
    "        print(f'cannot load global results: {e}')\n",
    "        raise\n",
    "\n",
    "curr_active_pipeline.reload_default_computation_functions()\n",
    "\n",
    "extended_computations_include_includelist=['pf_computation', 'firing_rate_trends', # 'pfdt_computation',\n",
    "    # 'pf_dt_sequential_surprise',\n",
    "    #  'ratemap_peaks_prominence2d',\n",
    "    'long_short_decoding_analyses', 'jonathan_firing_rate_analysis', 'long_short_fr_indicies_analyses', 'short_long_pf_overlap_analyses', 'long_short_post_decoding',\n",
    "    # 'long_short_rate_remapping',\n",
    "    # 'long_short_inst_spike_rate_groups',\n",
    "    'long_short_endcap_analysis',\n",
    "    # 'spike_burst_detection',\n",
    "    'split_to_directional_laps',\n",
    "    'rank_order_shuffle_analysis'\n",
    "] # do only specified\n",
    "\n",
    "force_recompute_global = force_reload\n",
    "# force_recompute_global = True\n",
    "newly_computed_values = batch_extended_computations(curr_active_pipeline, include_includelist=extended_computations_include_includelist, include_global_functions=True, fail_on_exception=True, progress_print=True, force_recompute=force_recompute_global, debug_print=False)\n",
    "if (len(newly_computed_values) > 0):\n",
    "    print(f'newly_computed_values: {newly_computed_values}.')\n",
    "    if (saving_mode.value != 'skip_saving'):\n",
    "        print(f'Saving global results...')\n",
    "        try:\n",
    "            # curr_active_pipeline.global_computation_results.persist_time = datetime.now()\n",
    "            # Try to write out the global computation function results:\n",
    "            curr_active_pipeline.save_global_computation_results()\n",
    "        except Exception as e:\n",
    "            exception_info = sys.exc_info()\n",
    "            e = CapturedException(e, exception_info)\n",
    "            print(f'\\n\\n!!WARNING!!: saving the global results threw the exception: {e}')\n",
    "            print(f'\\tthe global results are currently unsaved! proceed with caution and save as soon as you can!\\n\\n\\n')\n",
    "    else:\n",
    "        print(f'\\n\\n!!WARNING!!: changes to global results have been made but they will not be saved since saving_mode.value == \"skip_saving\"')\n",
    "        print(f'\\tthe global results are currently unsaved! proceed with caution and save as soon as you can!\\n\\n\\n')\n",
    "else:\n",
    "    print(f'no changes in global results.')\n",
    "\n",
    "# except Exception as e:\n",
    "#     exception_info = sys.exc_info()\n",
    "#     e = CapturedException(e, exception_info)\n",
    "#     print(f'second half threw: {e}')\n",
    "\n",
    "\n",
    "# 4m 5.2s for inst fr computations\n",
    "# Jupyter Widget Interactive\n",
    "import ipywidgets as widgets\n",
    "from IPython.display import display\n",
    "from pyphocorehelpers.Filesystem.open_in_system_file_manager import reveal_in_system_file_manager\n",
    "from pyphoplacecellanalysis.GUI.IPyWidgets.pipeline_ipywidgets import interactive_pipeline_widget, interactive_pipeline_files\n",
    "\n",
    "_pipeline_jupyter_widget = interactive_pipeline_widget(curr_active_pipeline=curr_active_pipeline)\n",
    "# display(_pipeline_jupyter_widget)\n",
    "_pipeline_jupyter_widget"
   ]
  },
  {
   "cell_type": "code",
   "execution_count": null,
   "id": "ee3d4f61",
   "metadata": {},
   "outputs": [],
   "source": [
    "curr_active_pipeline.save_global_computation_results()"
   ]
  },
  {
   "cell_type": "code",
   "execution_count": null,
   "id": "e5cbb6cf",
   "metadata": {},
   "outputs": [],
   "source": [
    "curr_active_pipeline.export_pipeline_to_h5()"
   ]
  },
  {
   "cell_type": "code",
   "execution_count": null,
   "id": "e3f06d1f",
   "metadata": {},
   "outputs": [],
   "source": [
    "curr_active_pipeline.clear_display_outputs()\n",
    "curr_active_pipeline.clear_registered_output_files()"
   ]
  },
  {
   "cell_type": "code",
   "execution_count": null,
   "id": "837f39f2",
   "metadata": {},
   "outputs": [],
   "source": [
    "curr_active_pipeline.save_pipeline(saving_mode=PipelineSavingScheme.TEMP_THEN_OVERWRITE)"
   ]
  },
  {
   "cell_type": "markdown",
   "id": "1fe54599",
   "metadata": {},
   "source": [
    "# End Run"
   ]
  },
  {
   "cell_type": "code",
   "execution_count": 4,
   "id": "1a533ba8",
   "metadata": {
    "ExecuteTime": {
     "end_time": "2023-11-16T23:21:40.700275900Z",
     "start_time": "2023-11-16T23:21:40.584273Z"
    },
    "notebookRunGroups": {
     "groupValue": "1"
    }
   },
   "outputs": [],
   "source": [
    "# (long_one_step_decoder_1D, short_one_step_decoder_1D), (long_one_step_decoder_2D, short_one_step_decoder_2D) = compute_short_long_constrained_decoders(curr_active_pipeline, recalculate_anyway=True)\n",
    "long_epoch_name, short_epoch_name, global_epoch_name = curr_active_pipeline.find_LongShortGlobal_epoch_names()\n",
    "long_epoch_context, short_epoch_context, global_epoch_context = [curr_active_pipeline.filtered_contexts[a_name] for a_name in (long_epoch_name, short_epoch_name, global_epoch_name)]\n",
    "long_epoch_obj, short_epoch_obj = [Epoch(curr_active_pipeline.sess.epochs.to_dataframe().epochs.label_slice(an_epoch_name.removesuffix('_any'))) for an_epoch_name in [long_epoch_name, short_epoch_name]] #TODO 2023-11-10 20:41: - [ ] Issue with getting actual Epochs from sess.epochs for directional laps: emerges because long_epoch_name: 'maze1_any' and the actual epoch label in curr_active_pipeline.sess.epochs is 'maze1' without the '_any' part.\n",
    "long_session, short_session, global_session = [curr_active_pipeline.filtered_sessions[an_epoch_name] for an_epoch_name in [long_epoch_name, short_epoch_name, global_epoch_name]]\n",
    "long_results, short_results, global_results = [curr_active_pipeline.computation_results[an_epoch_name].computed_data for an_epoch_name in [long_epoch_name, short_epoch_name, global_epoch_name]]\n",
    "long_computation_config, short_computation_config, global_computation_config = [curr_active_pipeline.computation_results[an_epoch_name].computation_config for an_epoch_name in [long_epoch_name, short_epoch_name, global_epoch_name]]\n",
    "long_pf1D, short_pf1D, global_pf1D = long_results.pf1D, short_results.pf1D, global_results.pf1D\n",
    "long_pf2D, short_pf2D, global_pf2D = long_results.pf2D, short_results.pf2D, global_results.pf2D\n",
    "\n",
    "assert short_epoch_obj.n_epochs > 0, f'long_epoch_obj: {long_epoch_obj}, short_epoch_obj: {short_epoch_obj}'\n",
    "assert long_epoch_obj.n_epochs > 0, f'long_epoch_obj: {long_epoch_obj}, short_epoch_obj: {short_epoch_obj}'"
   ]
  },
  {
   "cell_type": "code",
   "execution_count": 5,
   "id": "9071e94f",
   "metadata": {
    "ExecuteTime": {
     "end_time": "2023-11-16T23:21:43.601382Z",
     "start_time": "2023-11-16T23:21:40.702275600Z"
    },
    "notebookRunGroups": {
     "groupValue": "1"
    }
   },
   "outputs": [
    {
     "name": "stdout",
     "output_type": "stream",
     "text": [
      "WARN: 2023-09-28 16:15: - [ ] fix the combination properties. Would work if we directly used the computed _is_L_only and _is_S_only above\n",
      "WARNING: PAPER_FIGURE_figure_1_add_replay_epoch_rasters(...): no user-assigned manually labeled replay epochs. Reeturning all epochs.\n",
      "WARN: 2023-09-28 16:15: - [ ] fix the combination properties. Would work if we directly used the computed _is_L_only and _is_S_only above\n"
     ]
    }
   ],
   "source": [
    "## long_short_decoding_analyses:\n",
    "curr_long_short_decoding_analyses = curr_active_pipeline.global_computation_results.computed_data['long_short_leave_one_out_decoding_analysis']\n",
    "long_one_step_decoder_1D, short_one_step_decoder_1D, long_replays, short_replays, global_replays, long_shared_aclus_only_decoder, short_shared_aclus_only_decoder, shared_aclus, long_short_pf_neurons_diff, n_neurons, long_results_obj, short_results_obj, is_global = curr_long_short_decoding_analyses.long_decoder, curr_long_short_decoding_analyses.short_decoder, curr_long_short_decoding_analyses.long_replays, curr_long_short_decoding_analyses.short_replays, curr_long_short_decoding_analyses.global_replays, curr_long_short_decoding_analyses.long_shared_aclus_only_decoder, curr_long_short_decoding_analyses.short_shared_aclus_only_decoder, curr_long_short_decoding_analyses.shared_aclus, curr_long_short_decoding_analyses.long_short_pf_neurons_diff, curr_long_short_decoding_analyses.n_neurons, curr_long_short_decoding_analyses.long_results_obj, curr_long_short_decoding_analyses.short_results_obj, curr_long_short_decoding_analyses.is_global \n",
    "decoding_time_bin_size = long_one_step_decoder_1D.time_bin_size # 1.0/30.0 # 0.03333333333333333\n",
    "\n",
    "## Get global `long_short_fr_indicies_analysis`:\n",
    "long_short_fr_indicies_analysis_results = curr_active_pipeline.global_computation_results.computed_data['long_short_fr_indicies_analysis']\n",
    "long_laps, long_replays, short_laps, short_replays, global_laps, global_replays = [long_short_fr_indicies_analysis_results[k] for k in ['long_laps', 'long_replays', 'short_laps', 'short_replays', 'global_laps', 'global_replays']]\n",
    "long_short_fr_indicies_df = long_short_fr_indicies_analysis_results['long_short_fr_indicies_df']\n",
    "\n",
    "## Get global 'long_short_post_decoding' results:\n",
    "curr_long_short_post_decoding = curr_active_pipeline.global_computation_results.computed_data['long_short_post_decoding']\n",
    "expected_v_observed_result, curr_long_short_rr = curr_long_short_post_decoding.expected_v_observed_result, curr_long_short_post_decoding.rate_remapping\n",
    "rate_remapping_df, high_remapping_cells_only = curr_long_short_rr.rr_df, curr_long_short_rr.high_only_rr_df\n",
    "Flat_epoch_time_bins_mean, Flat_decoder_time_bin_centers, num_neurons, num_timebins_in_epoch, num_total_flat_timebins, is_short_track_epoch, is_long_track_epoch, short_short_diff, long_long_diff = expected_v_observed_result.Flat_epoch_time_bins_mean, expected_v_observed_result.Flat_decoder_time_bin_centers, expected_v_observed_result.num_neurons, expected_v_observed_result.num_timebins_in_epoch, expected_v_observed_result.num_total_flat_timebins, expected_v_observed_result.is_short_track_epoch, expected_v_observed_result.is_long_track_epoch, expected_v_observed_result.short_short_diff, expected_v_observed_result.long_long_diff\n",
    "\n",
    "jonathan_firing_rate_analysis_result: JonathanFiringRateAnalysisResult = curr_active_pipeline.global_computation_results.computed_data.jonathan_firing_rate_analysis\n",
    "(epochs_df_L, epochs_df_S), (filter_epoch_spikes_df_L, filter_epoch_spikes_df_S), (good_example_epoch_indicies_L, good_example_epoch_indicies_S), (short_exclusive, long_exclusive, BOTH_subset, EITHER_subset, XOR_subset, NEITHER_subset), new_all_aclus_sort_indicies, assigning_epochs_obj = PAPER_FIGURE_figure_1_add_replay_epoch_rasters(curr_active_pipeline)\n",
    "neuron_replay_stats_df, short_exclusive, long_exclusive, BOTH_subset, EITHER_subset, XOR_subset, NEITHER_subset = jonathan_firing_rate_analysis_result.get_cell_track_partitions(frs_index_inclusion_magnitude=0.05)\n",
    "\n",
    "## Update long_exclusive/short_exclusive properties with `long_short_fr_indicies_df`\n",
    "# long_exclusive.refine_exclusivity_by_inst_frs_index(long_short_fr_indicies_df, frs_index_inclusion_magnitude=0.5)\n",
    "# short_exclusive.refine_exclusivity_by_inst_frs_index(long_short_fr_indicies_df, frs_index_inclusion_magnitude=0.5)\n"
   ]
  },
  {
   "cell_type": "code",
   "execution_count": 6,
   "id": "c49f5d4f",
   "metadata": {
    "notebookRunGroups": {
     "groupValue": "1"
    }
   },
   "outputs": [],
   "source": [
    "# Unpack all directional variables:\n",
    "## {\"even\": \"RL\", \"odd\": \"LR\"}\n",
    "long_LR_name, short_LR_name, global_LR_name, long_RL_name, short_RL_name, global_RL_name, long_any_name, short_any_name, global_any_name = ['maze1_odd', 'maze2_odd', 'maze_odd', 'maze1_even', 'maze2_even', 'maze_even', 'maze1_any', 'maze2_any', 'maze_any']\n",
    "\n",
    "# Most popular\n",
    "# long_LR_name, short_LR_name, long_RL_name, short_RL_name, global_any_name\n",
    "\n",
    "# Unpacking for `(long_LR_name, long_RL_name, short_LR_name, short_RL_name)`\n",
    "(long_LR_context, long_RL_context, short_LR_context, short_RL_context) = [curr_active_pipeline.filtered_contexts[a_name] for a_name in (long_LR_name, long_RL_name, short_LR_name, short_RL_name)]\n",
    "long_LR_epochs_obj, long_RL_epochs_obj, short_LR_epochs_obj, short_RL_epochs_obj, global_any_laps_epochs_obj = [curr_active_pipeline.computation_results[an_epoch_name].computation_config.pf_params.computation_epochs for an_epoch_name in (long_LR_name, long_RL_name, short_LR_name, short_RL_name, global_any_name)] # note has global also\n",
    "(long_LR_session, long_RL_session, short_LR_session, short_RL_session) = [curr_active_pipeline.filtered_sessions[an_epoch_name] for an_epoch_name in (long_LR_name, long_RL_name, short_LR_name, short_RL_name)] # sessions are correct at least, seems like just the computation parameters are messed up\n",
    "(long_LR_results, long_RL_results, short_LR_results, short_RL_results) = [curr_active_pipeline.computation_results[an_epoch_name].computed_data for an_epoch_name in (long_LR_name, long_RL_name, short_LR_name, short_RL_name)]\n",
    "(long_LR_computation_config, long_RL_computation_config, short_LR_computation_config, short_RL_computation_config) = [curr_active_pipeline.computation_results[an_epoch_name].computation_config for an_epoch_name in (long_LR_name, long_RL_name, short_LR_name, short_RL_name)]\n",
    "(long_LR_pf1D, long_RL_pf1D, short_LR_pf1D, short_RL_pf1D) = (long_LR_results.pf1D, long_RL_results.pf1D, short_LR_results.pf1D, short_RL_results.pf1D)\n",
    "(long_LR_pf2D, long_RL_pf2D, short_LR_pf2D, short_RL_pf2D) = (long_LR_results.pf2D, long_RL_results.pf2D, short_LR_results.pf2D, short_RL_results.pf2D)\n",
    "(long_LR_pf1D_Decoder, long_RL_pf1D_Decoder, short_LR_pf1D_Decoder, short_RL_pf1D_Decoder) = (long_LR_results.pf1D_Decoder, long_RL_results.pf1D_Decoder, short_LR_results.pf1D_Decoder, short_RL_results.pf1D_Decoder)\n"
   ]
  },
  {
   "cell_type": "code",
   "execution_count": 7,
   "id": "7104fc37",
   "metadata": {
    "notebookRunGroups": {
     "groupValue": "1"
    }
   },
   "outputs": [
    {
     "name": "stdout",
     "output_type": "stream",
     "text": [
      "minimum_inclusion_fr_Hz: 1.0\n",
      "included_qclu_values: [1, 2, 4, 9]\n"
     ]
    }
   ],
   "source": [
    "directional_laps_results = curr_active_pipeline.global_computation_results.computed_data['DirectionalLaps']\n",
    "rank_order_results: RankOrderComputationsContainer = curr_active_pipeline.global_computation_results.computed_data['RankOrder']\n",
    "minimum_inclusion_fr_Hz: float = rank_order_results.minimum_inclusion_fr_Hz\n",
    "included_qclu_values: float = rank_order_results.included_qclu_values\n",
    "print(f'minimum_inclusion_fr_Hz: {minimum_inclusion_fr_Hz}')\n",
    "print(f'included_qclu_values: {included_qclu_values}')"
   ]
  },
  {
   "cell_type": "code",
   "execution_count": 8,
   "id": "fa2dc5fe",
   "metadata": {
    "notebookRunGroups": {
     "groupValue": "1"
    }
   },
   "outputs": [],
   "source": [
    "# NEW 2023-11-22 method: Get the templates (which can be filtered by frate first) and the from those get the decoders):        \n",
    "# track_templates: TrackTemplates = directional_laps_results.get_shared_aclus_only_templates(minimum_inclusion_fr_Hz=minimum_inclusion_fr_Hz) # shared-only\n",
    "track_templates: TrackTemplates = directional_laps_results.get_templates(minimum_inclusion_fr_Hz=minimum_inclusion_fr_Hz) # non-shared-only\n",
    "long_LR_decoder, long_RL_decoder, short_LR_decoder, short_RL_decoder = track_templates.get_decoders()\n",
    "\n",
    "# Unpack all directional variables:\n",
    "## {\"even\": \"RL\", \"odd\": \"LR\"}\n",
    "long_LR_name, short_LR_name, global_LR_name, long_RL_name, short_RL_name, global_RL_name, long_any_name, short_any_name, global_any_name = ['maze1_odd', 'maze2_odd', 'maze_odd', 'maze1_even', 'maze2_even', 'maze_even', 'maze1_any', 'maze2_any', 'maze_any']\n",
    "# Unpacking for `(long_LR_name, long_RL_name, short_LR_name, short_RL_name)`\n",
    "(long_LR_context, long_RL_context, short_LR_context, short_RL_context) = [curr_active_pipeline.filtered_contexts[a_name] for a_name in (long_LR_name, long_RL_name, short_LR_name, short_RL_name)]\n",
    "long_LR_epochs_obj, long_RL_epochs_obj, short_LR_epochs_obj, short_RL_epochs_obj, global_any_laps_epochs_obj = [curr_active_pipeline.computation_results[an_epoch_name].computation_config.pf_params.computation_epochs for an_epoch_name in (long_LR_name, long_RL_name, short_LR_name, short_RL_name, global_any_name)] # note has global also\n",
    "(long_LR_session, long_RL_session, short_LR_session, short_RL_session) = [curr_active_pipeline.filtered_sessions[an_epoch_name] for an_epoch_name in (long_LR_name, long_RL_name, short_LR_name, short_RL_name)] # sessions are correct at least, seems like just the computation parameters are messed up\n",
    "(long_LR_results, long_RL_results, short_LR_results, short_RL_results) = [curr_active_pipeline.computation_results[an_epoch_name].computed_data for an_epoch_name in (long_LR_name, long_RL_name, short_LR_name, short_RL_name)]\n",
    "(long_LR_computation_config, long_RL_computation_config, short_LR_computation_config, short_RL_computation_config) = [curr_active_pipeline.computation_results[an_epoch_name].computation_config for an_epoch_name in (long_LR_name, long_RL_name, short_LR_name, short_RL_name)]\n",
    "(long_LR_pf1D, long_RL_pf1D, short_LR_pf1D, short_RL_pf1D) = (long_LR_results.pf1D, long_RL_results.pf1D, short_LR_results.pf1D, short_RL_results.pf1D)\n",
    "(long_LR_pf2D, long_RL_pf2D, short_LR_pf2D, short_RL_pf2D) = (long_LR_results.pf2D, long_RL_results.pf2D, short_LR_results.pf2D, short_RL_results.pf2D)\n",
    "(long_LR_pf1D_Decoder, long_RL_pf1D_Decoder, short_LR_pf1D_Decoder, short_RL_pf1D_Decoder) = (long_LR_results.pf1D_Decoder, long_RL_results.pf1D_Decoder, short_LR_results.pf1D_Decoder, short_RL_results.pf1D_Decoder)\n",
    "\n",
    "LR_results_real_values = np.array([(long_stats_z_scorer.real_value, short_stats_z_scorer.real_value) for epoch_id, (long_stats_z_scorer, short_stats_z_scorer, long_short_z_diff, long_short_naive_z_diff, is_forward_replay) in rank_order_results.LR_ripple.ranked_aclus_stats_dict.items()])\n",
    "RL_results_real_values = np.array([(long_stats_z_scorer.real_value, short_stats_z_scorer.real_value) for epoch_id, (long_stats_z_scorer, short_stats_z_scorer, long_short_z_diff, long_short_naive_z_diff, is_forward_replay) in rank_order_results.RL_ripple.ranked_aclus_stats_dict.items()])\n",
    "\n",
    "LR_results_long_short_z_diffs = np.array([long_short_z_diff for epoch_id, (long_stats_z_scorer, short_stats_z_scorer, long_short_z_diff, long_short_naive_z_diff, is_forward_replay) in rank_order_results.LR_ripple.ranked_aclus_stats_dict.items()])\n",
    "RL_results_long_short_z_diff = np.array([long_short_z_diff for epoch_id, (long_stats_z_scorer, short_stats_z_scorer, long_short_z_diff, long_short_naive_z_diff, is_forward_replay) in rank_order_results.RL_ripple.ranked_aclus_stats_dict.items()])"
   ]
  },
  {
   "cell_type": "code",
   "execution_count": null,
   "id": "c260739a4f36c662",
   "metadata": {},
   "outputs": [],
   "source": [
    "active_burst_intervals = curr_active_pipeline.computation_results[global_epoch_name].computed_data['burst_detection']['burst_intervals']\n",
    "# active_burst_intervals"
   ]
  },
  {
   "cell_type": "code",
   "execution_count": null,
   "id": "769a1c6006aba5b7",
   "metadata": {},
   "outputs": [],
   "source": [
    "# Relative Entropy/Surprise Results:\n",
    "active_extended_stats = global_results['extended_stats']\n",
    "active_relative_entropy_results = active_extended_stats['pf_dt_sequential_surprise'] # DynamicParameters\n",
    "historical_snapshots = active_relative_entropy_results['historical_snapshots']\n",
    "post_update_times: np.ndarray = active_relative_entropy_results['post_update_times'] # (4152,) = (n_post_update_times,)\n",
    "snapshot_differences_result_dict = active_relative_entropy_results['snapshot_differences_result_dict']\n",
    "time_intervals: np.ndarray = active_relative_entropy_results['time_intervals']\n",
    "surprise_time_bin_duration = (post_update_times[2]-post_update_times[1])\n",
    "long_short_rel_entr_curves_frames: np.ndarray = active_relative_entropy_results['long_short_rel_entr_curves_frames'] # (4152, 108, 63) = (n_post_update_times, n_neurons, n_xbins)\n",
    "short_long_rel_entr_curves_frames: np.ndarray = active_relative_entropy_results['short_long_rel_entr_curves_frames'] # (4152, 108, 63) = (n_post_update_times, n_neurons, n_xbins)\n",
    "flat_relative_entropy_results: np.ndarray = active_relative_entropy_results['flat_relative_entropy_results'] # (149, 63) - (nSnapshots, nXbins)\n",
    "flat_jensen_shannon_distance_results: np.ndarray = active_relative_entropy_results['flat_jensen_shannon_distance_results'] # (149, 63) - (nSnapshots, nXbins)\n",
    "flat_jensen_shannon_distance_across_all_positions: np.ndarray = np.sum(np.abs(flat_jensen_shannon_distance_results), axis=1) # sum across all position bins # (4152,) - (nSnapshots)\n",
    "flat_surprise_across_all_positions: np.ndarray = np.sum(np.abs(flat_relative_entropy_results), axis=1) # sum across all position bins # (4152,) - (nSnapshots)\n",
    "\n",
    "## Get the placefield dt matrix:\n",
    "if 'snapshot_occupancy_weighted_tuning_maps' not in active_relative_entropy_results:\n",
    "\t## Compute it if missing:\n",
    "\toccupancy_weighted_tuning_maps_over_time = np.stack([placefield_snapshot.occupancy_weighted_tuning_maps_matrix for placefield_snapshot in historical_snapshots.values()])\n",
    "\tactive_relative_entropy_results['snapshot_occupancy_weighted_tuning_maps'] = occupancy_weighted_tuning_maps_over_time\n",
    "else:\n",
    "\toccupancy_weighted_tuning_maps_over_time = active_relative_entropy_results['snapshot_occupancy_weighted_tuning_maps'] # (n_post_update_times, n_neurons, n_xbins)\n"
   ]
  },
  {
   "cell_type": "code",
   "execution_count": null,
   "id": "9554d3bf5955d9d3",
   "metadata": {},
   "outputs": [],
   "source": [
    "# Time-dependent\n",
    "long_pf1D_dt, short_pf1D_dt, global_pf1D_dt = long_results.pf1D_dt, short_results.pf1D_dt, global_results.pf1D_dt\n",
    "long_pf2D_dt, short_pf2D_dt, global_pf2D_dt = long_results.pf2D_dt, short_results.pf2D_dt, global_results.pf2D_dt\n",
    "global_pf1D_dt: PfND_TimeDependent = global_results.pf1D_dt\n",
    "global_pf2D_dt: PfND_TimeDependent = global_results.pf2D_dt"
   ]
  },
  {
   "cell_type": "code",
   "execution_count": null,
   "id": "8624c62d5c18c556",
   "metadata": {},
   "outputs": [],
   "source": [
    "## long_short_endcap_analysis: checks for cells localized to the endcaps that have their placefields truncated after shortening the track\n",
    "truncation_checking_result: TruncationCheckingResults = curr_active_pipeline.global_computation_results.computed_data.long_short_endcap\n",
    "disappearing_endcap_aclus = truncation_checking_result.disappearing_endcap_aclus\n",
    "# disappearing_endcap_aclus\n",
    "trivially_remapping_endcap_aclus = truncation_checking_result.minor_remapping_endcap_aclus\n",
    "# trivially_remapping_endcap_aclus\n",
    "significant_distant_remapping_endcap_aclus = truncation_checking_result.significant_distant_remapping_endcap_aclus\n",
    "# significant_distant_remapping_endcap_aclus\n",
    "appearing_aclus = jonathan_firing_rate_analysis_result.neuron_replay_stats_df[jonathan_firing_rate_analysis_result.neuron_replay_stats_df['track_membership'] == SplitPartitionMembership.RIGHT_ONLY].index\n",
    "# appearing_aclus"
   ]
  },
  {
   "cell_type": "code",
   "execution_count": null,
   "id": "aabbbaf1",
   "metadata": {},
   "outputs": [],
   "source": [
    "epoch_active_aclus = np.array([9,  26,  31,  39,  40,  43,  47,  52,  53,  54,  60,  61,  65,  68,  72,  75,  77,  78,  81,  82,  84,  85,  90,  92,  93,  98, 102])\n",
    "\n",
    "\n",
    "curr_active_pipeline.filtered_contexts['maze1_odd']\n",
    "curr_active_pipeline.computation_results['maze1_odd']"
   ]
  },
  {
   "cell_type": "code",
   "execution_count": null,
   "id": "cbf30c04",
   "metadata": {},
   "outputs": [],
   "source": [
    "curr_active_pipeline.prepare_for_display()\n",
    "curr_active_pipeline.display('_display_1d_placefields', 'maze1_odd') # , 'maze1_odd'\n"
   ]
  },
  {
   "cell_type": "code",
   "execution_count": null,
   "id": "bcc832fb",
   "metadata": {},
   "outputs": [],
   "source": [
    "from pyphoplacecellanalysis.General.Mixins.ExportHelpers import programmatic_render_to_file\n",
    "\n",
    "programmatic_render_to_file(curr_active_pipeline, curr_display_function_name='_display_1d_placefields', write_vector_format=True, write_png=True, debug_print=True)"
   ]
  },
  {
   "cell_type": "code",
   "execution_count": null,
   "id": "6314950a",
   "metadata": {},
   "outputs": [],
   "source": [
    "curr_active_pipeline.reload_default_display_functions()\n",
    "curr_active_pipeline.prepare_for_display()"
   ]
  },
  {
   "cell_type": "code",
   "execution_count": null,
   "id": "b0ccab8b",
   "metadata": {},
   "outputs": [],
   "source": [
    "\n",
    "_out = curr_active_pipeline.display('_display_1d_placefields', 'maze_any')\n"
   ]
  },
  {
   "cell_type": "code",
   "execution_count": null,
   "id": "606e9164",
   "metadata": {},
   "outputs": [],
   "source": [
    "_out"
   ]
  },
  {
   "cell_type": "code",
   "execution_count": null,
   "id": "357f844b",
   "metadata": {},
   "outputs": [],
   "source": [
    "curr_active_pipeline.display('_display_1d_placefields', 'maze_any')"
   ]
  },
  {
   "cell_type": "code",
   "execution_count": null,
   "id": "546f7639",
   "metadata": {},
   "outputs": [],
   "source": [
    "curr_active_pipeline.display('_display_placemaps_pyqtplot_2D', 'maze2_odd')"
   ]
  },
  {
   "cell_type": "code",
   "execution_count": null,
   "id": "0aaf32b0",
   "metadata": {},
   "outputs": [],
   "source": [
    "curr_active_pipeline.display('_display_1d_placefields', 'maze2_odd')"
   ]
  },
  {
   "cell_type": "code",
   "execution_count": null,
   "id": "45a6994d",
   "metadata": {},
   "outputs": [],
   "source": [
    "curr_active_pipeline.display('_display_3d_interactive_spike_and_behavior_browser', 'maze1_odd')"
   ]
  },
  {
   "cell_type": "code",
   "execution_count": null,
   "id": "cfbb1191",
   "metadata": {},
   "outputs": [],
   "source": [
    "\n",
    "# Adjust layout to make space for the footer\n",
    "# plt.subplots_adjust(bottom=0.35)\n",
    "\n",
    "plt.tight_layout(pad=2.0)"
   ]
  },
  {
   "cell_type": "code",
   "execution_count": null,
   "id": "885ecb1d",
   "metadata": {},
   "outputs": [],
   "source": [
    "_display_placemaps_pyqtplot_2D"
   ]
  },
  {
   "cell_type": "code",
   "execution_count": null,
   "id": "44a1db23",
   "metadata": {},
   "outputs": [],
   "source": [
    "curr_active_pipeline.registered_display_function_docs_dict"
   ]
  },
  {
   "cell_type": "code",
   "execution_count": null,
   "id": "b558758b",
   "metadata": {},
   "outputs": [],
   "source": [
    "from mpl_multitab import MplMultiTab, MplMultiTab2D\n",
    "from pyphoplacecellanalysis.General.Mixins.ExportHelpers import programmatic_display_to_PDF, programmatic_render_to_file\n",
    "from pyphoplacecellanalysis.PhoPositionalData.plotting.placefield import plot_single_cell_1D_placecell_validation\n",
    "from pyphoplacecellanalysis.PhoPositionalData.plotting.placefield import plot_1d_placecell_validations\n",
    "\n",
    "\n",
    "# matplotlib_configuration_update(is_interactive=True)\n",
    "\n",
    "# curr_active_pipeline.display('_display_grid_bin_bounds_validation')\n",
    "_out = curr_active_pipeline.display('_display_1d_placefield_validations', 'maze1_odd')\n",
    "_out.ui.show()"
   ]
  },
  {
   "cell_type": "code",
   "execution_count": null,
   "id": "7f301b08",
   "metadata": {},
   "outputs": [],
   "source": [
    "\n",
    "programmatic_display_to_PDF(curr_active_pipeline, curr_display_function_name='_display_1d_placefield_validations', filter_name='maze1_odd', debug_print=True)\n",
    "\n",
    "# plt.show()"
   ]
  },
  {
   "cell_type": "code",
   "execution_count": null,
   "id": "3f824cf2",
   "metadata": {},
   "outputs": [],
   "source": [
    "placefield_cell_index = 0\n",
    "active_epoch_placefields1D = deepcopy(long_pf1D)\n",
    "curr_cell_normalized_tuning_curve = active_epoch_placefields1D.ratemap.normalized_tuning_curves[placefield_cell_index, :].squeeze()\n",
    "{'xbin_centers': active_epoch_placefields1D.ratemap.xbin_centers, 'curr_cell_normalized_tuning_curve': curr_cell_normalized_tuning_curve}\n",
    "\n",
    "{'xbin_centers': np.array([31.0565, 34.8495, 38.6426, 42.4356, 46.2286, 50.0216, 53.8147, 57.6077, 61.4007, 65.1937, 68.9867, 72.7798, 76.5728, 80.3658, 84.1588, 87.9519, 91.7449, 95.5379, 99.3309, 103.124, 106.917, 110.71, 114.503, 118.296, 122.089, 125.882, 129.675, 133.468, 137.261, 141.054, 144.847, 148.64, 152.433, 156.226, 160.019, 163.812, 167.605, 171.398, 175.191, 178.984, 182.777, 186.57, 190.363, 194.157, 197.95, 201.743, 205.536, 209.329, 213.122, 216.915, 220.708, 224.501, 228.294, 232.087, 235.88, 239.673, 243.466, 247.259, 251.052, 254.845, 258.638, 262.431]),\n",
    " 'curr_cell_normalized_tuning_curve': np.array([5.92979e-05, 0.000150933, 0.00036895, 0.000736517, 0.00121915, 0.00173714, 0.0022042, 0.00252859, 0.0026496, 0.0027108, 0.00312627, 0.00423033, 0.00579314, 0.00709557, 0.00766535, 0.00789647, 0.00884807, 0.0115452, 0.0165549, 0.0238423, 0.0323681, 0.039895, 0.0442459, 0.0452642, 0.0449909, 0.0457691, 0.0485138, 0.0525281, 0.0562324, 0.0581433, 0.0575758, 0.0544383, 0.0486438, 0.0404683, 0.0315115, 0.0243731, 0.0207242, 0.0199181, 0.0197507, 0.0183449, 0.0153819, 0.0119837, 0.00951012, 0.00827676, 0.00740415, 0.00596512, 0.00396809, 0.00210018, 0.000875453, 0.000302685, 0.000153468, 0.00027615, 0.000667689, 0.00135676, 0.00224608, 0.00305331, 0.0034339, 0.0031979, 0.0024518, 0.00153458, 0.00079294, 0.000405152])}\n"
   ]
  },
  {
   "cell_type": "code",
   "execution_count": null,
   "id": "ff5d7994",
   "metadata": {},
   "outputs": [],
   "source": [
    "# batch_extended_programmatic_figures\n"
   ]
  },
  {
   "cell_type": "code",
   "execution_count": null,
   "id": "40083faa",
   "metadata": {},
   "outputs": [],
   "source": [
    "curr_active_pipeline.display('_display_1d_placefields', 'maze1_odd')"
   ]
  },
  {
   "cell_type": "code",
   "execution_count": null,
   "id": "77344ed3",
   "metadata": {},
   "outputs": [],
   "source": [
    "curr_active_pipeline.display('_display_1d_placefields', 'maze2_even')"
   ]
  },
  {
   "cell_type": "code",
   "execution_count": null,
   "id": "a66fdc07",
   "metadata": {},
   "outputs": [],
   "source": [
    "\n",
    "#TODO 2023-11-29 09:18: - [ ] Not good, the self.filtered_contexts are not unique!\n",
    "list(curr_active_pipeline.filtered_contexts.values())\n",
    "# [IdentifyingContext<(... 'maze2')>, IdentifyingContext<(... 'maze2')>, IdentifyingContext<(..., 'maze')>, IdentifyingContext<(... 'maze2')>, IdentifyingContext<(... 'maze2')>, IdentifyingContext<(..., 'maze')>, IdentifyingContext<(...ze1_any')>, IdentifyingContext<(... 'maze2')>, IdentifyingContext<(..., 'maze')>]\n",
    "[(v == curr_active_pipeline.filtered_contexts['maze1_even']) for v in list(curr_active_pipeline.filtered_contexts.values())]\n",
    "# [True, True, False, True, True, False, False, True, False]\n",
    "# meaning `curr_active_pipeline.display('_display_1d_placefields', curr_active_pipeline.filtered_contexts['maze1_even'])` doesn't work\n",
    "curr_active_pipeline.filtered_contexts.index(curr_active_pipeline.filtered_contexts['maze1_even'])"
   ]
  },
  {
   "cell_type": "code",
   "execution_count": null,
   "id": "8c4e9d82",
   "metadata": {},
   "outputs": [],
   "source": [
    "curr_active_pipeline.display('_display_1d_placefields', 'maze2_odd')\n"
   ]
  },
  {
   "cell_type": "code",
   "execution_count": null,
   "id": "497d3385",
   "metadata": {},
   "outputs": [],
   "source": [
    "write_vector_format = False\n",
    "write_png = True\n",
    "debug_print = True\n",
    "from neuropy.plotting.ratemaps import BackgroundRenderingOptions\n",
    "\n",
    "programmatic_render_to_file(curr_active_pipeline, curr_display_function_name='_display_2d_placefield_result_plot_ratemaps_2D', write_vector_format=write_vector_format, write_png=write_png, debug_print=debug_print, bg_rendering_mode=BackgroundRenderingOptions.EMPTY) #  🟢✅ Now seems to be working and saving to PDF!! Still using matplotlib.use('Qt5Agg') mode and plots still appear.\n"
   ]
  },
  {
   "cell_type": "code",
   "execution_count": null,
   "id": "ce7e9185",
   "metadata": {},
   "outputs": [],
   "source": [
    "_out = curr_active_pipeline.display('_display_2d_placefield_occupancy', 'maze2_any')"
   ]
  },
  {
   "cell_type": "code",
   "execution_count": null,
   "id": "90e90109",
   "metadata": {},
   "outputs": [],
   "source": [
    "_out = curr_active_pipeline.display('_display_2d_placefield_occupancy', 'maze1_any')\n",
    "occupancy_ax = _out.axes #.get_aspect()\n",
    "pf = long_pf2D\n",
    "# pf.xbin\n",
    "# pf.ybin\n",
    "# pf.xbin_centers\n",
    "# pf.ybin_centers\n",
    "\n",
    "# aspect_ratio = np.ptp(pf.xbin) / np.ptp(pf.ybin)  # ptp: peak to peak (range)\n",
    "# aspect_ratio = 0.102803738317757\n",
    "# print(f'aspect_ratio: {aspect_ratio}')\n",
    "# occupancy_ax.set_aspect(aspect_ratio, adjustable='box') # If 'box', change the physical dimensions of the Axes. If 'datalim', change the x or y data limits.\n",
    "\n",
    "\n",
    "## See \n",
    "# https://matplotlib.org/stable/api/_as_gen/matplotlib.axes.Axes.set_anchor.html#\n",
    "\n",
    "\n",
    "occupancy_ax.set_aspect('equal', adjustable=None)\n"
   ]
  },
  {
   "cell_type": "code",
   "execution_count": null,
   "id": "ce50ea4d",
   "metadata": {},
   "outputs": [],
   "source": [
    "occupancy_ax.set_aspect('equal', adjustable='datalim')"
   ]
  },
  {
   "cell_type": "code",
   "execution_count": null,
   "id": "800ecc2e",
   "metadata": {},
   "outputs": [],
   "source": [
    "occupancy_ax.set_aspect('equal', adjustable='box')"
   ]
  },
  {
   "cell_type": "code",
   "execution_count": null,
   "id": "cea7d05b",
   "metadata": {},
   "outputs": [],
   "source": [
    "curr_active_pipeline.reload_default_display_functions()"
   ]
  },
  {
   "cell_type": "code",
   "execution_count": null,
   "id": "f42513c8",
   "metadata": {},
   "outputs": [],
   "source": [
    "programmatic_render_to_file(curr_active_pipeline, curr_display_function_name='_display_2d_placefield_occupancy', write_vector_format=write_vector_format, write_png=write_png, debug_print=debug_print)"
   ]
  },
  {
   "cell_type": "markdown",
   "id": "5a572825",
   "metadata": {},
   "source": [
    "# EVEN: \"RL\", ODD: \"LR\"\n",
    "Starts with Even (idx=0)\n",
    "- EVEN: \"RL\"\n",
    "shared_RL_aclus_only_neuron_IDs\n",
    "`is_even = (an_epoch.lap_dir == 0)`\n",
    "- ODD: \"LR\"\n",
    "shared_LR_aclus_only_neuron_IDs\n",
    "`is_odd = (an_epoch.lap_dir == 1)`"
   ]
  },
  {
   "cell_type": "markdown",
   "id": "9ac0ef2b",
   "metadata": {},
   "source": [
    "# 🟢 2023-10-20 - Z-Score Comparisons with Neuron_ID Shuffled templates\n",
    "1. Take the intersection of the long and short templates to get only the common cells\n",
    "2. Determine the long and short \"tempaltes\": this is done by ranking the aclus for each by their placefields' center of mass. `compute_placefield_center_of_masses`\n",
    "\t2a. `long_pf_peak_ranks`, `short_pf_peak_ranks` - there are one of each of these for each shared aclu.\n",
    "3. Generate the unit_id shuffled (`shuffled_aclus`, `shuffle_IDXs`) ahead of time to use to shuffle the two templates during the epochs.\n",
    "4. For each replay event, take each shuffled template\n",
    "\t4a. Iterate through each shuffle and obtain the shuffled templates like `long_pf_peak_ranks[epoch_specific_shuffled_indicies]`, `short_pf_peak_ranks[epoch_specific_shuffled_indicies]`\n",
    "\t4b. compute the spearman rank-order of the event and each shuffled template, and accumulate the results in `long_spearmanr_rank_stats_results`, `short_spearmanr_rank_stats_results`\n",
    "\n",
    "5. After we're done with the shuffle loop, accumulate the results and convert to the right output format.\n",
    "\n",
    "6. When all epochs are done, loop through the results (the epochs again) and compute the z-scores for each epoch so they can be compared to each other. Keep track of the means and std_dev for comparisons later, and subtract the two sets of z-scores (long/short) to get the delta_Z for each template.\n",
    "\n",
    "7. TODO: Next figure out what to do with the array of z-scores and delta_Z. We have:\n",
    "\tn_epochs sets of results\n",
    "\t\tn_shuffles scores of delta_Z\n",
    "\n"
   ]
  },
  {
   "cell_type": "markdown",
   "id": "87fd9d61",
   "metadata": {},
   "source": [
    "## Convo with Kamran 2023-10-23:\n",
    "- Use directional templates **\n",
    "- No need to worry about re-ranking\n",
    "[X] Plot the long and short separately in addition to the difference, so we show significant reqplay on each as a sanity check\n",
    "[X] Absolute value difference?\n",
    "[X] Fisher transform the correlation values (check if there is a difference) because correlation coefficients aren't going to be normally distributed.\n",
    "\t[ ] Then Z-score releative to fisher.\n",
    "\n",
    "- T-test to compare to mean of zero (if looking at the difference)"
   ]
  },
  {
   "cell_type": "code",
   "execution_count": null,
   "id": "419ffd4a",
   "metadata": {},
   "outputs": [],
   "source": [
    "## Concerns:\n",
    "# 1. Permutation recommended over shuffling for small numbers of ids\n",
    "# 2.\n",
    "\n",
    "# 5Hz thresholding of templates\n"
   ]
  },
  {
   "cell_type": "code",
   "execution_count": 9,
   "id": "fd86cb20",
   "metadata": {
    "ExecuteTime": {
     "end_time": "2023-11-16T23:22:34.093953500Z",
     "start_time": "2023-11-16T23:22:33.960957900Z"
    },
    "notebookRunGroups": {
     "groupValue": "1"
    },
    "slideshow": {
     "slide_type": "fragment"
    }
   },
   "outputs": [],
   "source": [
    "from nptyping import NDArray\n",
    "from attrs import define, field, Factory, astuple\n",
    "import scipy.stats\n",
    "from scipy import ndimage\n",
    "from neuropy.utils.misc import build_shuffled_ids # used in _SHELL_analyze_leave_one_out_decoding_results\n",
    "from pyphoplacecellanalysis.SpecificResults.PhoDiba2023Paper import pho_stats_paired_t_test\n",
    "\n",
    "\n",
    "# minimum_inclusion_fr_Hz: float = 2.0\n",
    "rank_order_results: RankOrderComputationsContainer = curr_active_pipeline.global_computation_results.computed_data['RankOrder']\n",
    "minimum_inclusion_fr_Hz: float = rank_order_results.minimum_inclusion_fr_Hz\n",
    "\n",
    "# Recover from the saved global result:\n",
    "directional_laps_results = curr_active_pipeline.global_computation_results.computed_data['DirectionalLaps']\n",
    "# NEW 2023-11-22 method: Get the templates (which can be filtered by frate first) and the from those get the decoders):        \n",
    "# track_templates: TrackTemplates = directional_laps_results.get_shared_aclus_only_templates(minimum_inclusion_fr_Hz=minimum_inclusion_fr_Hz) # shared-only\n",
    "track_templates: TrackTemplates = directional_laps_results.get_templates(minimum_inclusion_fr_Hz=minimum_inclusion_fr_Hz) # non-shared-only\n",
    "long_LR_decoder, long_RL_decoder, short_LR_decoder, short_RL_decoder = track_templates.get_decoders()\n",
    "\n",
    "## Pre 2023-11-22 method: building a TrackTemplates object after getting the raw decoders:\n",
    "# long_LR_one_step_decoder_1D, long_RL_one_step_decoder_1D, short_LR_one_step_decoder_1D, short_RL_one_step_decoder_1D = directional_laps_results.get_decoders()\n",
    "# long_LR_decoder, long_RL_decoder, short_LR_decoder, short_RL_decoder = directional_laps_results.get_shared_aclus_only_decoders()\n",
    "# track_templates: TrackTemplates = TrackTemplates.init_from_paired_decoders(LR_decoder_pair=(long_LR_decoder, short_LR_decoder), RL_decoder_pair=(long_RL_decoder, short_RL_decoder))\n",
    "# # track_templates: TrackTemplates = TrackTemplates.init_from_paired_decoders(LR_decoder_pair=(long_LR_one_step_decoder_1D, short_LR_one_step_decoder_1D), RL_decoder_pair=(long_RL_one_step_decoder_1D, short_RL_one_step_decoder_1D)) # NOTE: now use the un-constrained versions\n",
    "\n",
    "# Unpack all directional variables:\n",
    "## {\"even\": \"RL\", \"odd\": \"LR\"}\n",
    "long_LR_name, short_LR_name, global_LR_name, long_RL_name, short_RL_name, global_RL_name, long_any_name, short_any_name, global_any_name = ['maze1_odd', 'maze2_odd', 'maze_odd', 'maze1_even', 'maze2_even', 'maze_even', 'maze1_any', 'maze2_any', 'maze_any']\n",
    "# Unpacking for `(long_LR_name, long_RL_name, short_LR_name, short_RL_name)`\n",
    "(long_LR_context, long_RL_context, short_LR_context, short_RL_context) = [curr_active_pipeline.filtered_contexts[a_name] for a_name in (long_LR_name, long_RL_name, short_LR_name, short_RL_name)]\n",
    "long_LR_epochs_obj, long_RL_epochs_obj, short_LR_epochs_obj, short_RL_epochs_obj, global_any_laps_epochs_obj = [curr_active_pipeline.computation_results[an_epoch_name].computation_config.pf_params.computation_epochs for an_epoch_name in (long_LR_name, long_RL_name, short_LR_name, short_RL_name, global_any_name)] # note has global also\n",
    "(long_LR_session, long_RL_session, short_LR_session, short_RL_session) = [curr_active_pipeline.filtered_sessions[an_epoch_name] for an_epoch_name in (long_LR_name, long_RL_name, short_LR_name, short_RL_name)] # sessions are correct at least, seems like just the computation parameters are messed up\n",
    "(long_LR_results, long_RL_results, short_LR_results, short_RL_results) = [curr_active_pipeline.computation_results[an_epoch_name].computed_data for an_epoch_name in (long_LR_name, long_RL_name, short_LR_name, short_RL_name)]\n",
    "(long_LR_computation_config, long_RL_computation_config, short_LR_computation_config, short_RL_computation_config) = [curr_active_pipeline.computation_results[an_epoch_name].computation_config for an_epoch_name in (long_LR_name, long_RL_name, short_LR_name, short_RL_name)]\n",
    "(long_LR_pf1D, long_RL_pf1D, short_LR_pf1D, short_RL_pf1D) = (long_LR_results.pf1D, long_RL_results.pf1D, short_LR_results.pf1D, short_RL_results.pf1D)\n",
    "(long_LR_pf2D, long_RL_pf2D, short_LR_pf2D, short_RL_pf2D) = (long_LR_results.pf2D, long_RL_results.pf2D, short_LR_results.pf2D, short_RL_results.pf2D)\n",
    "(long_LR_pf1D_Decoder, long_RL_pf1D_Decoder, short_LR_pf1D_Decoder, short_RL_pf1D_Decoder) = (long_LR_results.pf1D_Decoder, long_RL_results.pf1D_Decoder, short_LR_results.pf1D_Decoder, short_RL_results.pf1D_Decoder)\n",
    "\n",
    "LR_results_real_values = np.array([(long_stats_z_scorer.real_value, short_stats_z_scorer.real_value) for epoch_id, (long_stats_z_scorer, short_stats_z_scorer, long_short_z_diff, long_short_naive_z_diff, is_forward_replay) in rank_order_results.LR_ripple.ranked_aclus_stats_dict.items()])\n",
    "RL_results_real_values = np.array([(long_stats_z_scorer.real_value, short_stats_z_scorer.real_value) for epoch_id, (long_stats_z_scorer, short_stats_z_scorer, long_short_z_diff, long_short_naive_z_diff, is_forward_replay) in rank_order_results.RL_ripple.ranked_aclus_stats_dict.items()])\n",
    "\n",
    "LR_results_long_short_z_diffs = np.array([long_short_z_diff for epoch_id, (long_stats_z_scorer, short_stats_z_scorer, long_short_z_diff, long_short_naive_z_diff, is_forward_replay) in rank_order_results.LR_ripple.ranked_aclus_stats_dict.items()])\n",
    "RL_results_long_short_z_diff = np.array([long_short_z_diff for epoch_id, (long_stats_z_scorer, short_stats_z_scorer, long_short_z_diff, long_short_naive_z_diff, is_forward_replay) in rank_order_results.RL_ripple.ranked_aclus_stats_dict.items()])\n",
    "\n",
    "\n",
    "# LR_results_real_values"
   ]
  },
  {
   "cell_type": "code",
   "execution_count": null,
   "id": "3ebb454c",
   "metadata": {
    "tags": [
     "histogram"
    ]
   },
   "outputs": [],
   "source": [
    "from pyphoplacecellanalysis.General.Pipeline.Stages.ComputationFunctions.MultiContextComputationFunctions.RankOrderComputations import plot_rank_order_histograms\n",
    "\n",
    "# Plot histograms:\n",
    "post_title_info: str = f'{minimum_inclusion_fr_Hz} Hz\\n{curr_active_pipeline.get_session_context().get_description()}'\n",
    "_out_z_score, _out_real, _out_most_likely_z = plot_rank_order_histograms(rank_order_results, post_title_info=post_title_info)\n"
   ]
  },
  {
   "cell_type": "markdown",
   "id": "b641e1f6",
   "metadata": {},
   "source": [
    "#TODO 2023-12-10 19:56: - [ ] Histogram Display Helpers\n",
    "\n",
    "#TODO 2023-12-10 19:56: - [ ] Pf1D Helpers\n",
    "\n",
    "#TODO 2023-12-10 19:57: - [ ] Variant Saving\n",
    " "
   ]
  },
  {
   "cell_type": "code",
   "execution_count": null,
   "id": "c33ed6d2",
   "metadata": {},
   "outputs": [],
   "source": [
    "track_templates: TrackTemplates = directional_laps_results.get_templates(minimum_inclusion_fr_Hz=0.0) # non-shared-only\n",
    "long_LR_decoder, long_RL_decoder, short_LR_decoder, short_RL_decoder = track_templates.get_decoders()\n",
    "\n",
    "# filtered_decoder_list = [filtered_by_frate(a_decoder, minimum_inclusion_fr_Hz=minimum_inclusion_fr_Hz, debug_print=True) for a_decoder in (long_LR_one_step_decoder_1D, long_RL_one_step_decoder_1D, short_LR_one_step_decoder_1D, short_RL_one_step_decoder_1D)]\n",
    "original_neuron_ids_list = [a_decoder.pf.ratemap.neuron_ids for a_decoder in (long_LR_decoder, long_RL_decoder, short_LR_decoder, short_RL_decoder)]\n",
    "is_aclu_included_list = [a_decoder.pf.ratemap.tuning_curve_unsmoothed_peak_firing_rates >= minimum_inclusion_fr_Hz for a_decoder in (long_LR_decoder, long_RL_decoder, short_LR_decoder, short_RL_decoder)]\n",
    "filtered_aclus_list = [np.array(a_decoder.pf.ratemap.neuron_ids)[a_decoder.pf.ratemap.tuning_curve_unsmoothed_peak_firing_rates >= minimum_inclusion_fr_Hz] for a_decoder in (long_LR_decoder, long_RL_decoder, short_LR_decoder, short_RL_decoder)]\n",
    "\n",
    "## For a given run direction (LR/RL) let's require inclusion in either (OR) long v. short to be included.\n",
    "filtered_included_LR_aclus = np.union1d(filtered_aclus_list[0], filtered_aclus_list[2])\n",
    "filtered_included_RL_aclus = np.union1d(filtered_aclus_list[1], filtered_aclus_list[3])\n",
    "# build the final shared aclus:\n",
    "filtered_direction_shared_aclus_list = [filtered_included_LR_aclus, filtered_included_RL_aclus, filtered_included_LR_aclus, filtered_included_RL_aclus] # contains the shared aclus for that direction\n",
    "# rebuild the is_aclu_included_list from the shared aclus\n",
    "is_aclu_included_list = [np.isin(an_original_neuron_ids, a_filtered_neuron_ids) for an_original_neuron_ids, a_filtered_neuron_ids in zip(original_neuron_ids_list, filtered_direction_shared_aclus_list)]\n",
    "\n",
    "# is_aclu_included_list[0]\n",
    "filtered_direction_shared_aclus_list"
   ]
  },
  {
   "cell_type": "code",
   "execution_count": null,
   "id": "017813cc",
   "metadata": {},
   "outputs": [],
   "source": [
    "# # for 5Hz:\n",
    "# [array([  5,   7,  31,  39,  41,  45,  46,  48,  50,  55,  61,  62,  64,  69,  72,  75,  76,  78,  79,  83,  84,  86,  88,  90,  91,  92,  95,  99, 100, 108]),\n",
    "#  array([  5,   7,   9,  31,  32,  39,  41,  45,  46,  48,  50,  55,  61,  62,  64,  69,  72,  75,  76,  78,  79,  83,  84,  86,  88,  90,  91,  92,  93,  95,  99, 101, 108]),\n",
    "#  array([  5,   7,  31,  39,  41,  45,  46,  48,  50,  55,  61,  62,  64,  69,  72,  75,  76,  78,  79,  83,  84,  86,  88,  90,  91,  92,  95,  99, 100, 108]),\n",
    "#  array([  5,   7,   9,  31,  32,  39,  41,  45,  46,  48,  50,  55,  61,  62,  64,  69,  72,  75,  76,  78,  79,  83,  84,  86,  88,  90,  91,  92,  93,  95,  99, 101, 108])]\n",
    "\n",
    "# # for 20Hz:\n",
    "# [array([  5,  41,  46,  48,  69,  78,  79,  83,  86,  88,  90, 108]),\n",
    "#  array([ 62,  64,  75,  78,  83,  91, 101]),\n",
    "#  array([  5,  41,  46,  48,  69,  78,  79,  83,  86,  88,  90, 108]),\n",
    "#  array([ 62,  64,  75,  78,  83,  91, 101])]"
   ]
  },
  {
   "cell_type": "markdown",
   "id": "f6ccfe1f",
   "metadata": {},
   "source": [
    "# 2023-11-22 - RECOMPUTE"
   ]
  },
  {
   "cell_type": "code",
   "execution_count": null,
   "id": "c22e7090",
   "metadata": {},
   "outputs": [],
   "source": [
    "from pyphoplacecellanalysis.General.Pipeline.Stages.ComputationFunctions.MultiContextComputationFunctions.DirectionalPlacefieldGlobalComputationFunctions import DirectionalLapsHelpers\n",
    "from pyphoplacecellanalysis.General.Pipeline.Stages.ComputationFunctions.MultiContextComputationFunctions.RankOrderComputations import RankOrderGlobalComputationFunctions\n",
    "\n",
    "curr_active_pipeline.reload_default_computation_functions()\n",
    "\n",
    "## clear the old values to prepare for the new ones:\n",
    "curr_active_pipeline.global_computation_results.computed_data['DirectionalLaps'] = None\n",
    "curr_active_pipeline.global_computation_results.computed_data['RankOrder'] = None\n",
    "del curr_active_pipeline.global_computation_results.computed_data['DirectionalLaps']\n",
    "del curr_active_pipeline.global_computation_results.computed_data['RankOrder']\n"
   ]
  },
  {
   "cell_type": "code",
   "execution_count": null,
   "id": "1191ce5f",
   "metadata": {},
   "outputs": [],
   "source": [
    "track_templates.any_decoder_neuron_IDs\n",
    "track_templates.decoder_neuron_IDs_list"
   ]
  },
  {
   "cell_type": "code",
   "execution_count": null,
   "id": "1e8353e9",
   "metadata": {},
   "outputs": [],
   "source": [
    "active_spikes_df = deepcopy(spikes_df).spikes.sliced_by_neuron_id(track_templates.any_decoder_neuron_IDs)\n",
    "active_spikes_df.spikes.adding_epochs_identity_column()"
   ]
  },
  {
   "cell_type": "code",
   "execution_count": null,
   "id": "f37e2d36",
   "metadata": {},
   "outputs": [],
   "source": []
  },
  {
   "cell_type": "code",
   "execution_count": null,
   "id": "abae8cdf",
   "metadata": {},
   "outputs": [],
   "source": [
    "\n",
    "curr_active_pipeline.global_computation_results.computed_data['DirectionalLaps'] = DirectionalLapsHelpers.build_global_directional_result_from_natural_epochs(curr_active_pipeline, progress_print=True) # repalce the directional laps object\n",
    "directional_laps_results: DirectionalLapsResult = curr_active_pipeline.global_computation_results.computed_data['DirectionalLaps']\n",
    "\n",
    "# minimum_inclusion_fr_Hz = 1.0\n",
    "# included_qclu_values = [1,2]\n",
    "\n",
    "minimum_inclusion_fr_Hz = 1.0\n",
    "included_qclu_values = [1,2,4,9]\n",
    "\n",
    "# perform_rank_order_shuffle_analysis\n",
    "# with VizTracer(output_file=f\"viztracer_{get_now_time_str()}-perform_rank_order_shuffle_analysis_{curr_active_pipeline.session_name}.json\", min_duration=200, tracer_entries=3000000, ignore_frozen=True) as tracer:\n",
    "RankOrderGlobalComputationFunctions.perform_rank_order_shuffle_analysis(curr_active_pipeline, curr_active_pipeline.global_computation_results, None, None, include_includelist=None, debug_print=True,\n",
    "                                                                        num_shuffles=100, minimum_inclusion_fr_Hz=minimum_inclusion_fr_Hz, included_qclu_values=included_qclu_values, skip_laps=False)\n"
   ]
  },
  {
   "cell_type": "code",
   "execution_count": null,
   "id": "22c50e7e",
   "metadata": {},
   "outputs": [],
   "source": [
    "from pyphoplacecellanalysis.General.Pipeline.Stages.ComputationFunctions.MultiContextComputationFunctions.RankOrderComputations import RankOrderAnalyses\n",
    "\n",
    "directional_laps_results: DirectionalLapsResult = curr_active_pipeline.global_computation_results.computed_data['DirectionalLaps']\n",
    "selected_spikes_df = deepcopy(curr_active_pipeline.global_computation_results.computed_data['RankOrder'].LR_ripple.selected_spikes_df)\n",
    "# active_epochs = global_computation_results.computed_data['RankOrder'].ripple_most_likely_result_tuple.active_epochs\n",
    "active_epochs = deepcopy(curr_active_pipeline.global_computation_results.computed_data['RankOrder'].LR_ripple.epochs_df)\n",
    "track_templates = directional_laps_results.get_templates(minimum_inclusion_fr_Hz=minimum_inclusion_fr_Hz)\n",
    "ripple_combined_epoch_stats_df, ripple_new_output_tuple = RankOrderAnalyses.pandas_df_based_correlation_computations(selected_spikes_df=selected_spikes_df, active_epochs_df=active_epochs, track_templates=track_templates, num_shuffles=5)"
   ]
  },
  {
   "cell_type": "code",
   "execution_count": null,
   "id": "1c660d7e",
   "metadata": {},
   "outputs": [],
   "source": []
  },
  {
   "cell_type": "code",
   "execution_count": null,
   "id": "7fdc1015",
   "metadata": {},
   "outputs": [],
   "source": []
  },
  {
   "cell_type": "code",
   "execution_count": null,
   "id": "f86d5ac8",
   "metadata": {},
   "outputs": [],
   "source": [
    "rank_order_results: RankOrderComputationsContainer = curr_active_pipeline.global_computation_results.computed_data['RankOrder']\n",
    "minimum_inclusion_fr_Hz: float = rank_order_results.minimum_inclusion_fr_Hz\n",
    "included_qclu_values: List[int] = rank_order_results.included_qclu_values\n",
    "ripple_result_tuple, laps_result_tuple = rank_order_results.ripple_most_likely_result_tuple, rank_order_results.laps_most_likely_result_tuple\n",
    "directional_laps_results: DirectionalLapsResult = curr_active_pipeline.global_computation_results.computed_data['DirectionalLaps']\n",
    "track_templates: TrackTemplates = directional_laps_results.get_templates(minimum_inclusion_fr_Hz=minimum_inclusion_fr_Hz) # non-shared-only -- !! Is minimum_inclusion_fr_Hz=None the issue/difference?\n",
    "print(f'minimum_inclusion_fr_Hz: {minimum_inclusion_fr_Hz}')\n",
    "print(f'included_qclu_values: {included_qclu_values}')\n",
    "\n",
    "# 10m 29.5s for 1000 shuffles.  c:\\Users\\pho\\repos\\Spike3DWorkEnv\\Spike3D\\viztracer_2023-11-22_16-11-perform_rank_order_shuffle_analysis.json\n",
    "\n",
    "# 3m 33.9s - 500\n",
    "# 3m 26.4s - 1000"
   ]
  },
  {
   "cell_type": "code",
   "execution_count": null,
   "id": "d6d74122",
   "metadata": {},
   "outputs": [],
   "source": [
    "_ripples_outputs = RankOrderAnalyses.main_ripples_analysis(curr_active_pipeline, num_shuffles=500, rank_alignment='median', minimum_inclusion_fr_Hz=minimum_inclusion_fr_Hz, included_qclu_values=included_qclu_values)\n",
    "(LR_ripple_outputs, RL_ripple_outputs, ripple_evts_paired_tests) = _ripples_outputs\n"
   ]
  },
  {
   "cell_type": "code",
   "execution_count": null,
   "id": "76178217",
   "metadata": {},
   "outputs": [],
   "source": [
    "# LR_ripple_outputs.epochs_df\n",
    "LR_ripple_outputs.spikes_df"
   ]
  },
  {
   "cell_type": "code",
   "execution_count": null,
   "id": "1d42afeb",
   "metadata": {},
   "outputs": [],
   "source": [
    "RL_ripple_outputs.spikes_df"
   ]
  },
  {
   "cell_type": "code",
   "execution_count": null,
   "id": "5383aae5",
   "metadata": {},
   "outputs": [],
   "source": [
    "LR_ripple_outputs.selected_spikes_df"
   ]
  },
  {
   "cell_type": "code",
   "execution_count": null,
   "id": "f4b664cb",
   "metadata": {},
   "outputs": [],
   "source": [
    "RL_ripple_outputs.\n",
    "\n"
   ]
  },
  {
   "cell_type": "code",
   "execution_count": null,
   "id": "3fc41020",
   "metadata": {},
   "outputs": [],
   "source": [
    "## Ensure equivalence of the two LR_ripple_outputs and RL_ripple_outputs for the fields that matter:\n",
    "assert LR_ripple_outputs.spikes_df.equals(RL_ripple_outputs.spikes_df), f\"spikes_df are not equal\"\n",
    "assert LR_ripple_outputs.selected_spikes_df.equals(RL_ripple_outputs.selected_spikes_df), f\"selected_spikes_df are not equal\"\n",
    "assert LR_ripple_outputs.epochs_df.equals(RL_ripple_outputs.epochs_df), f\"epochs_df are not equal\""
   ]
  },
  {
   "cell_type": "code",
   "execution_count": null,
   "id": "9defd355",
   "metadata": {},
   "outputs": [],
   "source": [
    "_new_rank_order_event_raster_debugger = RankOrderRastersDebugger.init_rank_order_debugger(deepcopy(LR_ripple_outputs.selected_spikes_df), deepcopy(LR_ripple_outputs.epochs_df), track_templates, rank_order_results, None, None)\n",
    "\n"
   ]
  },
  {
   "cell_type": "code",
   "execution_count": null,
   "id": "dfe68671",
   "metadata": {},
   "outputs": [],
   "source": [
    "# TypeError: <lambda>() missing 1 required positional argument\n"
   ]
  },
  {
   "cell_type": "code",
   "execution_count": null,
   "id": "28f1c551",
   "metadata": {},
   "outputs": [],
   "source": [
    "## Recompute just the `most_likely_directional_rank_order_shuffling` part:\n",
    "# from pyphoplacecellanalysis.General.Pipeline.Stages.ComputationFunctions.MultiContextComputationFunctions.RankOrderComputations import RankOrderComputationsContainer\n",
    "# from pyphoplacecellanalysis.General.Pipeline.Stages.ComputationFunctions.MultiContextComputationFunctions.RankOrderComputations import DirectionalRankOrderLikelihoods\n",
    "# from pyphoplacecellanalysis.General.Pipeline.Stages.ComputationFunctions.MultiContextComputationFunctions.RankOrderComputations import RankOrderAnalyses\n",
    "## Main\n",
    "ripple_result_tuple, laps_result_tuple = RankOrderAnalyses.most_likely_directional_rank_order_shuffling(curr_active_pipeline, decoding_time_bin_size=0.003)\n",
    "rank_order_results.ripple_most_likely_result_tuple, rank_order_results.laps_most_likely_result_tuple = ripple_result_tuple, laps_result_tuple"
   ]
  },
  {
   "cell_type": "code",
   "execution_count": null,
   "id": "8d4b9c0f",
   "metadata": {},
   "outputs": [],
   "source": [
    "directional_likelihoods_tuple: DirectionalRankOrderLikelihoods = deepcopy(ripple_result_tuple.directional_likelihoods_tuple)\n",
    "directional_likelihoods_tuple.long_best_direction_indices\n",
    "directional_likelihoods_tuple.short_best_direction_indices\n",
    "# directional_likelihoods_tuple.long_relative_direction_likelihoods"
   ]
  },
  {
   "cell_type": "markdown",
   "id": "426c292d",
   "metadata": {},
   "source": [
    "\n",
    "\n",
    "\n",
    "\n",
    "# Saving/Loading `DirectionalLaps_2Hz`"
   ]
  },
  {
   "cell_type": "code",
   "execution_count": null,
   "id": "ca5d105e",
   "metadata": {},
   "outputs": [],
   "source": [
    "# 2023-11-27 - I'd like to be able to save/load single results a time, (meaning specific to their parameters):\n",
    "# day_date_str: str = '2023-12-11-minimum_inclusion_fr_Hz_2_included_qclu_values_1-2_'\n",
    "class SaveStringGenerator:\n",
    "\t_minimal_decimals_float_formatter = lambda x: f\"{x:.1f}\".rstrip('0').rstrip('.')\n",
    "\t\n",
    "def generate_save_suffix(minimum_inclusion_fr_Hz: float, included_qclu_values: List[int], day_date: str='2023-12-11') -> str:\n",
    "\t# day_date_str: str = '2023-12-11-minimum_inclusion_fr_Hz_2_included_qclu_values_1-2_'\n",
    "\tprint(f'minimum_inclusion_fr_Hz: {minimum_inclusion_fr_Hz}')\n",
    "\tprint(f'included_qclu_values: {included_qclu_values}')\n",
    "\tout_filename_str: str = '-'.join([day_date, f'minimum_inclusion_fr', SaveStringGenerator._minimal_decimals_float_formatter(minimum_inclusion_fr_Hz), f'included_qclu_values', f'{included_qclu_values}'])\n",
    "\treturn out_filename_str\n",
    "\n",
    "# list = ['2Hz', '12Hz']"
   ]
  },
  {
   "cell_type": "code",
   "execution_count": null,
   "id": "5ed6c50e",
   "metadata": {
    "tags": [
     "save"
    ]
   },
   "outputs": [],
   "source": [
    "from pyphoplacecellanalysis.General.Pipeline.Stages.Loading import saveData\n",
    "from attrs import asdict\n",
    "## Uses `generate_save_suffix` and the current rank_order_result's parameters to build a reasonable save name:\n",
    "minimum_inclusion_fr_Hz: float = rank_order_results.minimum_inclusion_fr_Hz\n",
    "included_qclu_values: List[int] = rank_order_results.included_qclu_values\n",
    "out_filename_str = generate_save_suffix(minimum_inclusion_fr_Hz=minimum_inclusion_fr_Hz, included_qclu_values=included_qclu_values, day_date='2023-12-18_720pm')\n",
    "print(f'out_filename_str: \"{out_filename_str}\"')\n",
    "directional_laps_output_path = curr_active_pipeline.get_output_path().joinpath(f'{out_filename_str}DirectionalLaps.pkl').resolve()\n",
    "saveData(directional_laps_output_path, (curr_active_pipeline.global_computation_results.computed_data['DirectionalLaps']))\n",
    "rank_order_output_path = curr_active_pipeline.get_output_path().joinpath(f'{out_filename_str}RankOrder.pkl').resolve()\n",
    "saveData(rank_order_output_path, (curr_active_pipeline.global_computation_results.computed_data['RankOrder']))\n",
    "# saveData(rank_order_output_path, (asdict(curr_active_pipeline.global_computation_results.computed_data['RankOrder'], recurse=True)))\n",
    "\n",
    "# saveData(directional_laps_output_path, (curr_active_pipeline.global_computation_results.computed_data['DirectionalLaps'], asdict(curr_active_pipeline.global_computation_results.computed_data['RankOrder'], recurse=False))) \n",
    "# saveData(directional_laps_output_path, (curr_active_pipeline.global_computation_results.computed_data['DirectionalLaps']))"
   ]
  },
  {
   "cell_type": "code",
   "execution_count": null,
   "id": "d2230163",
   "metadata": {
    "tags": [
     "load"
    ]
   },
   "outputs": [],
   "source": [
    "from pyphoplacecellanalysis.General.Pipeline.Stages.Loading import loadData\n",
    "\n",
    "# Load the data from a file into the pipeline:\n",
    "# out_filename_str: str = '2023-12-11-minimum_inclusion_fr_Hz_2_included_qclu_values_1-2_' # specific\n",
    "\n",
    "minimum_inclusion_fr_Hz: float = 2.0\n",
    "included_qclu_values: List[int] = [1,2,4,9]\n",
    "out_filename_str = generate_save_suffix(minimum_inclusion_fr_Hz=minimum_inclusion_fr_Hz, included_qclu_values=included_qclu_values, day_date='2023-12-13_1000')\n",
    "print(f'out_filename_str: \"{out_filename_str}\"')\n",
    "# day_date_str: str = '2023-12-11_with_tuple_newer_'\n",
    "# day_date_str: str = ''\n",
    "directional_laps_output_path = curr_active_pipeline.get_output_path().joinpath(f'{out_filename_str}DirectionalLaps.pkl').resolve()\n",
    "assert directional_laps_output_path.exists()\n",
    "# loaded_directional_laps, loaded_rank_order = loadData(directional_laps_output_path)\n",
    "loaded_directional_laps = loadData(directional_laps_output_path)\n",
    "assert (loaded_directional_laps is not None)\n",
    "# assert (loaded_rank_order is not None)\n",
    "# Apply the loaded data to the pipeline:\n",
    "# curr_active_pipeline.global_computation_results.computed_data['DirectionalLaps'], curr_active_pipeline.global_computation_results.computed_data['RankOrder'] = loaded_directional_laps, loaded_rank_order\n",
    "# curr_active_pipeline.global_computation_results.computed_data['RankOrder']\n"
   ]
  },
  {
   "cell_type": "code",
   "execution_count": null,
   "id": "a4423bc5",
   "metadata": {},
   "outputs": [],
   "source": [
    "rank_order_output_path = curr_active_pipeline.get_output_path().joinpath(f'{out_filename_str}RankOrder.pkl').resolve()\n",
    "loaded_rank_order = loadData(rank_order_output_path)\n",
    "loaded_rank_order\n",
    "# asdict(loaded_directional_laps, recurse=True) == asdict(curr_active_pipeline.global_computation_results.computed_data['DirectionalLaps'], recurse=True)"
   ]
  },
  {
   "cell_type": "code",
   "execution_count": null,
   "id": "cd521ff3",
   "metadata": {},
   "outputs": [],
   "source": [
    "rank_order_results.RL_ripple.selected_spikes_df"
   ]
  },
  {
   "cell_type": "code",
   "execution_count": null,
   "id": "7c0a14f8",
   "metadata": {},
   "outputs": [],
   "source": [
    "rank_order_results.LR_ripple.selected_spikes_df"
   ]
  },
  {
   "cell_type": "markdown",
   "id": "f4ec24467335a760",
   "metadata": {},
   "source": [
    "# POST-Compute:"
   ]
  },
  {
   "cell_type": "code",
   "execution_count": 10,
   "id": "728c46e6",
   "metadata": {
    "notebookRunGroups": {
     "groupValue": "21"
    }
   },
   "outputs": [
    {
     "name": "stdout",
     "output_type": "stream",
     "text": [
      "minimum_inclusion_fr_Hz: 1.0\n",
      "included_qclu_values: [1, 2, 4, 9]\n"
     ]
    },
    {
     "data": {
      "text/html": [
       "<div>\n",
       "<style scoped>\n",
       "    .dataframe tbody tr th:only-of-type {\n",
       "        vertical-align: middle;\n",
       "    }\n",
       "\n",
       "    .dataframe tbody tr th {\n",
       "        vertical-align: top;\n",
       "    }\n",
       "\n",
       "    .dataframe thead th {\n",
       "        text-align: right;\n",
       "    }\n",
       "</style>\n",
       "<table border=\"1\" class=\"dataframe\">\n",
       "  <thead>\n",
       "    <tr style=\"text-align: right;\">\n",
       "      <th></th>\n",
       "      <th>LR_Long_spearman</th>\n",
       "      <th>RL_Long_spearman</th>\n",
       "      <th>LR_Short_spearman</th>\n",
       "      <th>RL_Short_spearman</th>\n",
       "      <th>LR_Long_pearson</th>\n",
       "      <th>RL_Long_pearson</th>\n",
       "      <th>LR_Short_pearson</th>\n",
       "      <th>RL_Short_pearson</th>\n",
       "      <th>LR_Long_spearman_Z</th>\n",
       "      <th>RL_Long_spearman_Z</th>\n",
       "      <th>LR_Short_spearman_Z</th>\n",
       "      <th>RL_Short_spearman_Z</th>\n",
       "      <th>LR_Long_pearson_Z</th>\n",
       "      <th>RL_Long_pearson_Z</th>\n",
       "      <th>LR_Short_pearson_Z</th>\n",
       "      <th>RL_Short_pearson_Z</th>\n",
       "      <th>label</th>\n",
       "    </tr>\n",
       "  </thead>\n",
       "  <tbody>\n",
       "    <tr>\n",
       "      <th>0</th>\n",
       "      <td>-0.190484</td>\n",
       "      <td>-0.505266</td>\n",
       "      <td>-0.311799</td>\n",
       "      <td>-0.084962</td>\n",
       "      <td>-0.309079</td>\n",
       "      <td>-0.597488</td>\n",
       "      <td>-0.300516</td>\n",
       "      <td>-0.190023</td>\n",
       "      <td>-0.590383</td>\n",
       "      <td>-1.553697</td>\n",
       "      <td>-0.958812</td>\n",
       "      <td>-0.257787</td>\n",
       "      <td>-0.954941</td>\n",
       "      <td>-1.837996</td>\n",
       "      <td>-0.923088</td>\n",
       "      <td>-0.584981</td>\n",
       "      <td>0.0</td>\n",
       "    </tr>\n",
       "    <tr>\n",
       "      <th>1</th>\n",
       "      <td>-0.561051</td>\n",
       "      <td>-0.623965</td>\n",
       "      <td>-0.351405</td>\n",
       "      <td>-0.553211</td>\n",
       "      <td>-0.519558</td>\n",
       "      <td>-0.374148</td>\n",
       "      <td>-0.160426</td>\n",
       "      <td>-0.362877</td>\n",
       "      <td>-1.742419</td>\n",
       "      <td>-1.920624</td>\n",
       "      <td>-1.081455</td>\n",
       "      <td>-1.706578</td>\n",
       "      <td>-1.608038</td>\n",
       "      <td>-1.147890</td>\n",
       "      <td>-0.488981</td>\n",
       "      <td>-1.120332</td>\n",
       "      <td>1.0</td>\n",
       "    </tr>\n",
       "    <tr>\n",
       "      <th>2</th>\n",
       "      <td>-0.553194</td>\n",
       "      <td>-0.825723</td>\n",
       "      <td>-0.808135</td>\n",
       "      <td>-0.596849</td>\n",
       "      <td>-0.476285</td>\n",
       "      <td>-0.480148</td>\n",
       "      <td>-0.750906</td>\n",
       "      <td>-0.615324</td>\n",
       "      <td>-1.717995</td>\n",
       "      <td>-2.544304</td>\n",
       "      <td>-2.495750</td>\n",
       "      <td>-1.841595</td>\n",
       "      <td>-1.473765</td>\n",
       "      <td>-1.475422</td>\n",
       "      <td>-2.318747</td>\n",
       "      <td>-1.902192</td>\n",
       "      <td>2.0</td>\n",
       "    </tr>\n",
       "    <tr>\n",
       "      <th>3</th>\n",
       "      <td>0.110535</td>\n",
       "      <td>-0.022100</td>\n",
       "      <td>-0.137383</td>\n",
       "      <td>-0.288671</td>\n",
       "      <td>-0.220142</td>\n",
       "      <td>-0.422706</td>\n",
       "      <td>-0.245525</td>\n",
       "      <td>-0.663584</td>\n",
       "      <td>0.345439</td>\n",
       "      <td>-0.060114</td>\n",
       "      <td>-0.418720</td>\n",
       "      <td>-0.888072</td>\n",
       "      <td>-0.678978</td>\n",
       "      <td>-1.297932</td>\n",
       "      <td>-0.752682</td>\n",
       "      <td>-2.051661</td>\n",
       "      <td>NaN</td>\n",
       "    </tr>\n",
       "    <tr>\n",
       "      <th>4</th>\n",
       "      <td>-0.636112</td>\n",
       "      <td>-0.780502</td>\n",
       "      <td>-0.798863</td>\n",
       "      <td>-0.750366</td>\n",
       "      <td>-0.575959</td>\n",
       "      <td>-0.603304</td>\n",
       "      <td>-0.745096</td>\n",
       "      <td>-0.694433</td>\n",
       "      <td>-1.975775</td>\n",
       "      <td>-2.404517</td>\n",
       "      <td>-2.467038</td>\n",
       "      <td>-2.316587</td>\n",
       "      <td>-1.783043</td>\n",
       "      <td>-1.855967</td>\n",
       "      <td>-2.300744</td>\n",
       "      <td>-2.147204</td>\n",
       "      <td>4.0</td>\n",
       "    </tr>\n",
       "    <tr>\n",
       "      <th>5</th>\n",
       "      <td>-0.483333</td>\n",
       "      <td>-0.216667</td>\n",
       "      <td>0.309626</td>\n",
       "      <td>-0.158997</td>\n",
       "      <td>-0.527548</td>\n",
       "      <td>-0.418233</td>\n",
       "      <td>0.537471</td>\n",
       "      <td>-0.404880</td>\n",
       "      <td>-1.500808</td>\n",
       "      <td>-0.661566</td>\n",
       "      <td>0.965473</td>\n",
       "      <td>-0.486855</td>\n",
       "      <td>-1.632828</td>\n",
       "      <td>-1.284108</td>\n",
       "      <td>1.673649</td>\n",
       "      <td>-1.250422</td>\n",
       "      <td>5.0</td>\n",
       "    </tr>\n",
       "    <tr>\n",
       "      <th>...</th>\n",
       "      <td>...</td>\n",
       "      <td>...</td>\n",
       "      <td>...</td>\n",
       "      <td>...</td>\n",
       "      <td>...</td>\n",
       "      <td>...</td>\n",
       "      <td>...</td>\n",
       "      <td>...</td>\n",
       "      <td>...</td>\n",
       "      <td>...</td>\n",
       "      <td>...</td>\n",
       "      <td>...</td>\n",
       "      <td>...</td>\n",
       "      <td>...</td>\n",
       "      <td>...</td>\n",
       "      <td>...</td>\n",
       "      <td>...</td>\n",
       "    </tr>\n",
       "    <tr>\n",
       "      <th>545</th>\n",
       "      <td>-0.254545</td>\n",
       "      <td>-0.182650</td>\n",
       "      <td>-0.278483</td>\n",
       "      <td>0.123289</td>\n",
       "      <td>-0.142820</td>\n",
       "      <td>-0.036904</td>\n",
       "      <td>-0.146796</td>\n",
       "      <td>0.107877</td>\n",
       "      <td>-0.789541</td>\n",
       "      <td>-0.556414</td>\n",
       "      <td>-0.855647</td>\n",
       "      <td>0.386555</td>\n",
       "      <td>-0.439056</td>\n",
       "      <td>-0.105824</td>\n",
       "      <td>-0.446742</td>\n",
       "      <td>0.337652</td>\n",
       "      <td>545.0</td>\n",
       "    </tr>\n",
       "    <tr>\n",
       "      <th>546</th>\n",
       "      <td>-0.726035</td>\n",
       "      <td>-0.375295</td>\n",
       "      <td>-0.753436</td>\n",
       "      <td>-0.270485</td>\n",
       "      <td>-0.607512</td>\n",
       "      <td>-0.327355</td>\n",
       "      <td>-0.585654</td>\n",
       "      <td>-0.318592</td>\n",
       "      <td>-2.255331</td>\n",
       "      <td>-1.151924</td>\n",
       "      <td>-2.326371</td>\n",
       "      <td>-0.831806</td>\n",
       "      <td>-1.880949</td>\n",
       "      <td>-1.003303</td>\n",
       "      <td>-1.806668</td>\n",
       "      <td>-0.983176</td>\n",
       "      <td>546.0</td>\n",
       "    </tr>\n",
       "    <tr>\n",
       "      <th>547</th>\n",
       "      <td>0.164134</td>\n",
       "      <td>-0.233874</td>\n",
       "      <td>-0.229885</td>\n",
       "      <td>-0.244660</td>\n",
       "      <td>0.185153</td>\n",
       "      <td>-0.147929</td>\n",
       "      <td>-0.296207</td>\n",
       "      <td>-0.357092</td>\n",
       "      <td>0.512071</td>\n",
       "      <td>-0.714758</td>\n",
       "      <td>-0.705159</td>\n",
       "      <td>-0.751900</td>\n",
       "      <td>0.578612</td>\n",
       "      <td>-0.448885</td>\n",
       "      <td>-0.909737</td>\n",
       "      <td>-1.102416</td>\n",
       "      <td>547.0</td>\n",
       "    </tr>\n",
       "    <tr>\n",
       "      <th>548</th>\n",
       "      <td>0.912309</td>\n",
       "      <td>0.604276</td>\n",
       "      <td>0.719207</td>\n",
       "      <td>0.654870</td>\n",
       "      <td>0.733744</td>\n",
       "      <td>0.457382</td>\n",
       "      <td>0.549364</td>\n",
       "      <td>0.397273</td>\n",
       "      <td>2.838032</td>\n",
       "      <td>1.876162</td>\n",
       "      <td>2.233767</td>\n",
       "      <td>2.031298</td>\n",
       "      <td>2.280833</td>\n",
       "      <td>1.421488</td>\n",
       "      <td>1.710503</td>\n",
       "      <td>1.233948</td>\n",
       "      <td>548.0</td>\n",
       "    </tr>\n",
       "    <tr>\n",
       "      <th>549</th>\n",
       "      <td>0.954491</td>\n",
       "      <td>0.739317</td>\n",
       "      <td>0.897023</td>\n",
       "      <td>0.554488</td>\n",
       "      <td>0.946582</td>\n",
       "      <td>0.470079</td>\n",
       "      <td>0.688565</td>\n",
       "      <td>0.356257</td>\n",
       "      <td>2.969170</td>\n",
       "      <td>2.293606</td>\n",
       "      <td>2.784387</td>\n",
       "      <td>1.720709</td>\n",
       "      <td>2.941249</td>\n",
       "      <td>1.460722</td>\n",
       "      <td>2.141855</td>\n",
       "      <td>1.106916</td>\n",
       "      <td>549.0</td>\n",
       "    </tr>\n",
       "    <tr>\n",
       "      <th>550</th>\n",
       "      <td>0.000000</td>\n",
       "      <td>0.828395</td>\n",
       "      <td>0.086561</td>\n",
       "      <td>0.504608</td>\n",
       "      <td>-0.020636</td>\n",
       "      <td>0.875943</td>\n",
       "      <td>0.000551</td>\n",
       "      <td>0.384977</td>\n",
       "      <td>0.001802</td>\n",
       "      <td>2.568968</td>\n",
       "      <td>0.274735</td>\n",
       "      <td>1.566380</td>\n",
       "      <td>-0.059933</td>\n",
       "      <td>2.714817</td>\n",
       "      <td>0.009851</td>\n",
       "      <td>1.195866</td>\n",
       "      <td>550.0</td>\n",
       "    </tr>\n",
       "  </tbody>\n",
       "</table>\n",
       "<p>551 rows × 17 columns</p>\n",
       "</div>"
      ],
      "text/plain": [
       "     LR_Long_spearman  RL_Long_spearman  LR_Short_spearman  RL_Short_spearman  LR_Long_pearson  RL_Long_pearson  LR_Short_pearson  RL_Short_pearson  LR_Long_spearman_Z  RL_Long_spearman_Z  LR_Short_spearman_Z  RL_Short_spearman_Z  LR_Long_pearson_Z  RL_Long_pearson_Z  LR_Short_pearson_Z  RL_Short_pearson_Z  label\n",
       "0           -0.190484         -0.505266          -0.311799          -0.084962        -0.309079        -0.597488         -0.300516         -0.190023           -0.590383           -1.553697            -0.958812            -0.257787          -0.954941          -1.837996           -0.923088           -0.584981    0.0\n",
       "1           -0.561051         -0.623965          -0.351405          -0.553211        -0.519558        -0.374148         -0.160426         -0.362877           -1.742419           -1.920624            -1.081455            -1.706578          -1.608038          -1.147890           -0.488981           -1.120332    1.0\n",
       "2           -0.553194         -0.825723          -0.808135          -0.596849        -0.476285        -0.480148         -0.750906         -0.615324           -1.717995           -2.544304            -2.495750            -1.841595          -1.473765          -1.475422           -2.318747           -1.902192    2.0\n",
       "3            0.110535         -0.022100          -0.137383          -0.288671        -0.220142        -0.422706         -0.245525         -0.663584            0.345439           -0.060114            -0.418720            -0.888072          -0.678978          -1.297932           -0.752682           -2.051661    NaN\n",
       "4           -0.636112         -0.780502          -0.798863          -0.750366        -0.575959        -0.603304         -0.745096         -0.694433           -1.975775           -2.404517            -2.467038            -2.316587          -1.783043          -1.855967           -2.300744           -2.147204    4.0\n",
       "5           -0.483333         -0.216667           0.309626          -0.158997        -0.527548        -0.418233          0.537471         -0.404880           -1.500808           -0.661566             0.965473            -0.486855          -1.632828          -1.284108            1.673649           -1.250422    5.0\n",
       "..                ...               ...                ...                ...              ...              ...               ...               ...                 ...                 ...                  ...                  ...                ...                ...                 ...                 ...    ...\n",
       "545         -0.254545         -0.182650          -0.278483           0.123289        -0.142820        -0.036904         -0.146796          0.107877           -0.789541           -0.556414            -0.855647             0.386555          -0.439056          -0.105824           -0.446742            0.337652  545.0\n",
       "546         -0.726035         -0.375295          -0.753436          -0.270485        -0.607512        -0.327355         -0.585654         -0.318592           -2.255331           -1.151924            -2.326371            -0.831806          -1.880949          -1.003303           -1.806668           -0.983176  546.0\n",
       "547          0.164134         -0.233874          -0.229885          -0.244660         0.185153        -0.147929         -0.296207         -0.357092            0.512071           -0.714758            -0.705159            -0.751900           0.578612          -0.448885           -0.909737           -1.102416  547.0\n",
       "548          0.912309          0.604276           0.719207           0.654870         0.733744         0.457382          0.549364          0.397273            2.838032            1.876162             2.233767             2.031298           2.280833           1.421488            1.710503            1.233948  548.0\n",
       "549          0.954491          0.739317           0.897023           0.554488         0.946582         0.470079          0.688565          0.356257            2.969170            2.293606             2.784387             1.720709           2.941249           1.460722            2.141855            1.106916  549.0\n",
       "550          0.000000          0.828395           0.086561           0.504608        -0.020636         0.875943          0.000551          0.384977            0.001802            2.568968             0.274735             1.566380          -0.059933           2.714817            0.009851            1.195866  550.0\n",
       "\n",
       "[551 rows x 17 columns]"
      ]
     },
     "execution_count": 10,
     "metadata": {},
     "output_type": "execute_result"
    }
   ],
   "source": [
    "from pyphoplacecellanalysis.General.Pipeline.Stages.ComputationFunctions.MultiContextComputationFunctions.DirectionalPlacefieldGlobalComputationFunctions import DirectionalPlacefieldGlobalDisplayFunctions\n",
    "from pyphoplacecellanalysis.General.Pipeline.Stages.DisplayFunctions.SpikeRasters import plot_multi_sort_raster_browser\n",
    "from pyphoplacecellanalysis.GUI.PyQtPlot.Widgets.ContainerBased.RankOrderRastersDebugger import RankOrderRastersDebugger\n",
    "\n",
    "from pyphoplacecellanalysis.General.Pipeline.Stages.DisplayFunctions.SpikeRasters import paired_separately_sort_neurons, paired_incremental_sort_neurons # _display_directional_template_debugger\n",
    "from neuropy.utils.indexing_helpers import paired_incremental_sorting, union_of_arrays, intersection_of_arrays, find_desired_sort_indicies\n",
    "from pyphoplacecellanalysis.GUI.Qt.Widgets.ScrollBarWithSpinBox.ScrollBarWithSpinBox import ScrollBarWithSpinBox\n",
    "\n",
    "from neuropy.utils.mixins.HDF5_representable import HDF_SerializationMixin\n",
    "from pyphoplacecellanalysis.General.Model.ComputationResults import ComputedResult\n",
    "from pyphoplacecellanalysis.General.Pipeline.Stages.ComputationFunctions.MultiContextComputationFunctions.DirectionalPlacefieldGlobalComputationFunctions import TrackTemplates\n",
    "from pyphoplacecellanalysis.General.Pipeline.Stages.ComputationFunctions.MultiContextComputationFunctions.RankOrderComputations import RankOrderAnalyses, RankOrderResult, ShuffleHelper, Zscorer, LongShortStatsTuple, DirectionalRankOrderLikelihoods, DirectionalRankOrderResult, RankOrderComputationsContainer\n",
    "from pyphoplacecellanalysis.General.Pipeline.Stages.ComputationFunctions.MultiContextComputationFunctions.RankOrderComputations import TimeColumnAliasesProtocol\n",
    "from pyphoplacecellanalysis.General.Pipeline.Stages.ComputationFunctions.MultiContextComputationFunctions.RankOrderComputations import RankOrderComputationsContainer\n",
    "\n",
    "## Display Testing\n",
    "# from pyphoplacecellanalysis.External.pyqtgraph import QtGui\n",
    "from pyphoplacecellanalysis.Pho2D.PyQtPlots.Extensions.pyqtgraph_helpers import pyqtplot_build_image_bounds_extent, pyqtplot_plot_image\n",
    "\n",
    "\n",
    "spikes_df = curr_active_pipeline.sess.spikes_df\n",
    "rank_order_results: RankOrderComputationsContainer = curr_active_pipeline.global_computation_results.computed_data['RankOrder']\n",
    "minimum_inclusion_fr_Hz: float = rank_order_results.minimum_inclusion_fr_Hz\n",
    "included_qclu_values: List[int] = rank_order_results.included_qclu_values\n",
    "ripple_result_tuple, laps_result_tuple = rank_order_results.ripple_most_likely_result_tuple, rank_order_results.laps_most_likely_result_tuple\n",
    "directional_laps_results: DirectionalLapsResult = curr_active_pipeline.global_computation_results.computed_data['DirectionalLaps']\n",
    "track_templates: TrackTemplates = directional_laps_results.get_templates(minimum_inclusion_fr_Hz=minimum_inclusion_fr_Hz) # non-shared-only -- !! Is minimum_inclusion_fr_Hz=None the issue/difference?\n",
    "print(f'minimum_inclusion_fr_Hz: {minimum_inclusion_fr_Hz}')\n",
    "print(f'included_qclu_values: {included_qclu_values}')\n",
    "# ripple_result_tuple\n",
    "\n",
    "## Unpacks `rank_order_results`: \n",
    "# global_replays = Epoch(deepcopy(curr_active_pipeline.filtered_sessions[global_epoch_name].replay))\n",
    "# global_replays = TimeColumnAliasesProtocol.renaming_synonym_columns_if_needed(deepcopy(curr_active_pipeline.filtered_sessions[global_epoch_name].replay))\n",
    "# active_replay_epochs, active_epochs_df, active_selected_spikes_df = combine_rank_order_results(rank_order_results, global_replays, track_templates=track_templates)\n",
    "# active_epochs_df\n",
    "\n",
    "# 2023-12-15 - Newest method:\n",
    "laps_combined_epoch_stats_df = rank_order_results.laps_combined_epoch_stats_df\n",
    "ripple_combined_epoch_stats_df = rank_order_results.ripple_combined_epoch_stats_df\n",
    "ripple_combined_epoch_stats_df\n"
   ]
  },
  {
   "cell_type": "code",
   "execution_count": null,
   "id": "a2d13e66",
   "metadata": {},
   "outputs": [],
   "source": [
    "np.logical_not(np.isnan(rank_order_results.ripple_combined_epoch_stats_df.index).any())\n",
    "\n",
    "\n",
    "ripple_combined_epoch_stats_df.label.isna()"
   ]
  },
  {
   "cell_type": "code",
   "execution_count": null,
   "id": "bb3c142b",
   "metadata": {},
   "outputs": [],
   "source": [
    "ripple_combined_epoch_stats_df"
   ]
  },
  {
   "cell_type": "code",
   "execution_count": null,
   "id": "4f3cedf8",
   "metadata": {},
   "outputs": [],
   "source": [
    "np.isnan(ripple_combined_epoch_stats_df.label).any()"
   ]
  },
  {
   "cell_type": "code",
   "execution_count": null,
   "id": "31224e10",
   "metadata": {},
   "outputs": [],
   "source": [
    "np.isnan(ripple_combined_epoch_stats_df.index).any()"
   ]
  },
  {
   "cell_type": "code",
   "execution_count": null,
   "id": "60749347",
   "metadata": {},
   "outputs": [],
   "source": [
    "print(f'\\tdone. building global result.')\n",
    "directional_laps_results: DirectionalLapsResult = curr_active_pipeline.global_computation_results.computed_data['DirectionalLaps']\n",
    "selected_spikes_df = deepcopy(curr_active_pipeline.global_computation_results.computed_data['RankOrder'].LR_ripple.selected_spikes_df)\n",
    "# active_epochs = global_computation_results.computed_data['RankOrder'].ripple_most_likely_result_tuple.active_epochs\n",
    "active_epochs = deepcopy(curr_active_pipeline.global_computation_results.computed_data['RankOrder'].LR_ripple.epochs_df)\n",
    "track_templates = directional_laps_results.get_templates(minimum_inclusion_fr_Hz=minimum_inclusion_fr_Hz)\n",
    "ripple_combined_epoch_stats_df, ripple_new_output_tuple = RankOrderAnalyses.pandas_df_based_correlation_computations(selected_spikes_df=selected_spikes_df, active_epochs_df=active_epochs, track_templates=track_templates, num_shuffles=150)\n",
    "# new_output_tuple (output_active_epoch_computed_values, valid_stacked_arrays, real_stacked_arrays, n_valid_shuffles) = ripple_new_output_tuple\n",
    "curr_active_pipeline.global_computation_results.computed_data['RankOrder'].ripple_combined_epoch_stats_df, curr_active_pipeline.global_computation_results.computed_data['RankOrder'].ripple_new_output_tuple = ripple_combined_epoch_stats_df, ripple_new_output_tuple\n",
    "print(f'done!')"
   ]
  },
  {
   "cell_type": "code",
   "execution_count": null,
   "id": "35e95d52",
   "metadata": {},
   "outputs": [],
   "source": [
    "laps_combined_epoch_stats_df"
   ]
  },
  {
   "cell_type": "code",
   "execution_count": null,
   "id": "4d641689",
   "metadata": {},
   "outputs": [],
   "source": [
    "print_object_memory_usage(output_active_epoch_computed_values) # 0.946189 MB\n"
   ]
  },
  {
   "cell_type": "code",
   "execution_count": null,
   "id": "3e3d1caf",
   "metadata": {},
   "outputs": [],
   "source": [
    "## #TODO 2023-12-13 02:07: - [ ] Figure out how 'Probe_Epoch_id' maps to `ripple_result_tuple.active_epochs`\n",
    "ripple_result_tuple.active_epochs\n",
    "rank_order_results.LR_ripple.ranked_aclus_stats_dict\n"
   ]
  },
  {
   "cell_type": "code",
   "execution_count": null,
   "id": "50f1bbbf",
   "metadata": {},
   "outputs": [],
   "source": [
    "## Add the pf_x information for each aclu:\n",
    "## 2023-10-11 - Get the long/short peak locations\n",
    "# decoder_peak_coms_list = [a_decoder.pf.ratemap.peak_tuning_curve_center_of_masses[is_good_aclus] for a_decoder in decoder_args]\n",
    "decoder_aclu_peak_location_dict_list = [dict(zip(neuron_IDs, peak_locations)) for neuron_IDs, peak_locations in zip(track_templates.decoder_neuron_IDs_list, track_templates.decoder_peak_location_list)]\n",
    "decoder_aclu_peak_location_dict_list\n"
   ]
  },
  {
   "cell_type": "code",
   "execution_count": null,
   "id": "de234ecb",
   "metadata": {},
   "outputs": [],
   "source": [
    "track_templates.long_LR_decoder.peak_locations"
   ]
  },
  {
   "cell_type": "code",
   "execution_count": null,
   "id": "bc1305ed",
   "metadata": {},
   "outputs": [],
   "source": [
    "track_templates.decoder_LR_pf_peak_ranks_list"
   ]
  },
  {
   "cell_type": "code",
   "execution_count": null,
   "id": "f7b179f8",
   "metadata": {},
   "outputs": [],
   "source": [
    "## Replays:\n",
    "global_replays = TimeColumnAliasesProtocol.renaming_synonym_columns_if_needed(deepcopy(curr_active_pipeline.filtered_sessions[global_epoch_name].replay))\n",
    "if isinstance(global_replays, pd.DataFrame):\n",
    "\tglobal_replays = Epoch(global_replays.epochs.get_valid_df())\n",
    "\n",
    "# get the aligned epochs and the z-scores aligned to them:\n",
    "active_replay_epochs, (active_LR_ripple_long_z_score, active_RL_ripple_long_z_score, active_LR_ripple_short_z_score, active_RL_ripple_short_z_score) = rank_order_results.get_aligned_events(global_replays.to_dataframe().copy(), is_laps=False)\n",
    "active_replay_epochs"
   ]
  },
  {
   "cell_type": "code",
   "execution_count": null,
   "id": "b6384a30",
   "metadata": {},
   "outputs": [],
   "source": [
    "## Laps:\n",
    "long_epoch_name, short_epoch_name, global_epoch_name = curr_active_pipeline.find_LongShortGlobal_epoch_names()\n",
    "global_laps = deepcopy(curr_active_pipeline.filtered_sessions[global_epoch_name].laps).trimmed_to_non_overlapping()\n",
    "active_laps_epochs, (active_LR_ripple_long_z_score, active_RL_ripple_long_z_score, active_LR_ripple_short_z_score, active_RL_ripple_short_z_score) = rank_order_results.get_aligned_events(global_laps.to_dataframe(), is_laps=True)"
   ]
  },
  {
   "cell_type": "code",
   "execution_count": null,
   "id": "91e8ff66",
   "metadata": {},
   "outputs": [],
   "source": [
    "ripple_result_tuple.plot_histogram()"
   ]
  },
  {
   "cell_type": "code",
   "execution_count": null,
   "id": "7dfbe341",
   "metadata": {},
   "outputs": [],
   "source": [
    "# Find only the significant events (|z| > 1.96):\n",
    "from pyphoplacecellanalysis.General.Pipeline.Stages.ComputationFunctions.MultiContextComputationFunctions.RankOrderComputations import RankOrderAnalyses\n",
    "\n",
    "filtered_z_score_df, (n_events, n_significant_events, percent_significant_events) = RankOrderAnalyses.find_only_significant_events(rank_order_results, high_z_criteria=1.96)\n",
    "filtered_z_score_df"
   ]
  },
  {
   "cell_type": "code",
   "execution_count": null,
   "id": "19d6bcd9",
   "metadata": {},
   "outputs": [],
   "source": [
    "print(filtered_z_score_df.index.to_numpy())\n"
   ]
  },
  {
   "cell_type": "code",
   "execution_count": null,
   "id": "86532662",
   "metadata": {},
   "outputs": [],
   "source": [
    "# 2023-11-20 - Finding high-significance periods for Kamran:\n",
    "z_threshold = 1.96\n",
    "is_greater_than_z_threshold_long = (np.abs(ripple_result_tuple.long_best_dir_z_score_values) > z_threshold)\n",
    "is_greater_than_z_threshold_short = (np.abs(ripple_result_tuple.short_best_dir_z_score_values) > z_threshold)\n",
    "is_significant_either = np.logical_or(is_greater_than_z_threshold_long, is_greater_than_z_threshold_short)\n",
    "is_significant_either\n",
    "\n",
    "# is_greater_than_3std_long = (np.abs(ripple_result_tuple.long_best_dir_z_score_values) >= 3.0)\n",
    "# is_greater_than_3std_short = (np.abs(ripple_result_tuple.short_best_dir_z_score_values) >= 3.0)\n",
    "# is_significant_either = np.logical_or(is_greater_than_3std_long, is_greater_than_3std_short)\n"
   ]
  },
  {
   "cell_type": "code",
   "execution_count": null,
   "id": "5f925cde",
   "metadata": {},
   "outputs": [],
   "source": [
    "significant_ripple_epochs = deepcopy(Epoch(ripple_result_tuple.active_epochs)).boolean_indicies_slice(is_significant_either)\n",
    "# significant_ripple_epochs = deepcopy(global_replays).boolean_indicies_slice(is_significant_either)\n",
    "significant_ripple_epochs.to_dataframe()\n",
    "\n",
    "# significant_ripple_epochs.filename = Path(f'output/2023-11-27_SignificantReplayRipples').resolve()\n",
    "# significant_ripple_epochs.to_neuroscope()\n"
   ]
  },
  {
   "cell_type": "code",
   "execution_count": null,
   "id": "6a8beece",
   "metadata": {},
   "outputs": [],
   "source": [
    "# active_epochs = ripple_result_tuple.active_epochs\n",
    "active_epochs: Epoch = rank_order_results.RL_ripple.epochs_df # Epoch(rank_order_results.RL_ripple.epochs_df)\n",
    "# type(active_epochs)\n",
    "active_epochs.n_epochs\n",
    "# rank_order_results.RL_ripple.spikes_df"
   ]
  },
  {
   "cell_type": "code",
   "execution_count": null,
   "id": "c93ffe0d",
   "metadata": {},
   "outputs": [],
   "source": [
    "rank_order_results.LR_ripple.epochs_df\n",
    "rank_order_results.LR_ripple.spikes_df\n",
    "\n"
   ]
  },
  {
   "cell_type": "code",
   "execution_count": null,
   "id": "39525572",
   "metadata": {},
   "outputs": [],
   "source": [
    "combined_variable_names: ['LR_Long_spearman', 'RL_Long_spearman', 'LR_Short_spearman', 'RL_Short_spearman', 'LR_Long_pearson', 'RL_Long_pearson', 'LR_Short_pearson', 'RL_Short_pearson']\n",
    "combined_variable_z_score_column_names: ['LR_Long_spearman_Z', 'RL_Long_spearman_Z', 'LR_Short_spearman_Z', 'RL_Short_spearman_Z', 'LR_Long_pearson_Z', 'RL_Long_pearson_Z', 'LR_Short_pearson_Z', 'RL_Short_pearson_Z']\n",
    "\n",
    "        \n"
   ]
  },
  {
   "cell_type": "code",
   "execution_count": null,
   "id": "17f47973",
   "metadata": {},
   "outputs": [],
   "source": [
    "curr_active_pipeline.build_display_context_for_filtered_session(filtered_session_name='maze_any', display_fn_name='test')"
   ]
  },
  {
   "cell_type": "code",
   "execution_count": null,
   "id": "6b319650",
   "metadata": {},
   "outputs": [],
   "source": [
    "rank_order_results.LR_ripple.selected_spikes_df"
   ]
  },
  {
   "cell_type": "code",
   "execution_count": null,
   "id": "fef5436c",
   "metadata": {},
   "outputs": [],
   "source": [
    "rank_order_results.RL_ripple.selected_spikes_df"
   ]
  },
  {
   "cell_type": "markdown",
   "id": "5ca979a6",
   "metadata": {},
   "source": [
    "# `RankOrderRastersDebugger`"
   ]
  },
  {
   "cell_type": "code",
   "execution_count": 23,
   "id": "6616af69",
   "metadata": {
    "notebookRunGroups": {
     "groupValue": "2"
    },
    "tags": [
     "figure",
     "RankOrderRastersDebugger"
    ]
   },
   "outputs": [
    {
     "name": "stderr",
     "output_type": "stream",
     "text": [
      "[autoreload of pyphoplacecellanalysis.General.Pipeline.Stages.ComputationFunctions.MultiContextComputationFunctions.RankOrderComputations failed: Traceback (most recent call last):\n",
      "  File \"/home/halechr/repos/Spike3D/.venv/lib/python3.9/site-packages/IPython/extensions/autoreload.py\", line 274, in check\n",
      "    superreload(m, reload, self.old_objects, self.shell)\n",
      "  File \"/home/halechr/repos/Spike3D/.venv/lib/python3.9/site-packages/IPython/extensions/autoreload.py\", line 500, in superreload\n",
      "    update_generic(old_obj, new_obj)\n",
      "  File \"/home/halechr/repos/Spike3D/.venv/lib/python3.9/site-packages/IPython/extensions/autoreload.py\", line 397, in update_generic\n",
      "    update(a, b)\n",
      "  File \"/home/halechr/repos/Spike3D/.venv/lib/python3.9/site-packages/IPython/extensions/autoreload.py\", line 365, in update_class\n",
      "    update_instances(old, new)\n",
      "  File \"/home/halechr/repos/Spike3D/.venv/lib/python3.9/site-packages/IPython/extensions/autoreload.py\", line 323, in update_instances\n",
      "    object.__setattr__(ref, \"__class__\", new)\n",
      "TypeError: __class__ assignment only supported for heap types or ModuleType subclasses\n",
      "]\n"
     ]
    },
    {
     "name": "stdout",
     "output_type": "stream",
     "text": [
      "included_neuron_ids: [  5   7   9  31  32  36  38  39  41  45  46  48  50  51  53  55  57  59  61  62  63  64  69  72  75  76  78  79  83  84  86  88  89  90  91  92  93  95  98  99 100 101 102 108], n_neurons: 44\n",
      "unit_sort_order: [39 33 35 28  1  8 29 34 12 26 37 30  0 27  5 25 11  6 21 32 14 24  3 20 22 17 23  7 13 38 18 16 40  4  9 10 15 31 36  2 19]\n",
      "desired_sort_arr: [102  91  95  84   7  45  86  92  51  79  99  88   5  83  38  78  50  39  69  90  55  76  31  64  72  61  75  41  53 100  62  59 108  36  46  48  57  89  98   9  63]\n",
      "WARN: len(neuron_colors): 44 > n_cells: 41: restricting neuron_colors to the correct aclus, but if colors ever get off this is where it is happening!\n",
      "merged_kwargs: {'name': 'spikeRasterOverviewWindowScatterPlotItem', 'pxMode': True, 'symbol': <PyQt5.QtGui.QPainterPath object at 0x7fb480e29b30>, 'size': 2, 'pen': {'color': 'w', 'width': 1}, 'hoverable': True}\n",
      "unit_sort_order: [36  1  9 15 25 29  8 32  6 30 31  3 34  4 19 35  7 11 12 24 28 17 21 22 18 20 23 26  0 16 33 10 37 14 27  2  5 13]\n",
      "desired_sort_arr: [102   7  46  61  84  91  45  95  39  92  93  31  99  32  72 101  41  50  55  83  90  64  76  78  69  75  79  86   5  62  98  48 108  59  88   9  36  57]\n",
      "WARN: len(neuron_colors): 44 > n_cells: 38: restricting neuron_colors to the correct aclus, but if colors ever get off this is where it is happening!\n",
      "merged_kwargs: {'name': 'spikeRasterOverviewWindowScatterPlotItem', 'pxMode': True, 'symbol': <PyQt5.QtGui.QPainterPath object at 0x7fb86bd7f6d0>, 'size': 2, 'pen': {'color': 'w', 'width': 1}, 'hoverable': True}\n",
      "unit_sort_order: [39  1 17 28 33 19 22 35 12  0 27 34 11 25 21  6 14 32  3 24 13 23 29 38 20 37 26  7 31  5  8  9 10 15 16 18 30 36 40  2  4]\n",
      "desired_sort_arr: [102   7  61  84  91  63  72  95  51   5  83  92  50  78  69  39  55  90  31  76  53  75  86 100  64  99  79  41  89  38  45  46  48  57  59  62  88  98 108   9  36]\n",
      "WARN: len(neuron_colors): 44 > n_cells: 41: restricting neuron_colors to the correct aclus, but if colors ever get off this is where it is happening!\n",
      "merged_kwargs: {'name': 'spikeRasterOverviewWindowScatterPlotItem', 'pxMode': True, 'symbol': <PyQt5.QtGui.QPainterPath object at 0x7fb47de8d350>, 'size': 2, 'pen': {'color': 'w', 'width': 1}, 'hoverable': True}\n",
      "unit_sort_order: [ 8  9 15 25 36  1  6 29 12 31 19 30  3 34  4  7 11 35 28 18 24 16 20 17 21 22 13 26 32  0 33 10 14 23 27 37  5  2]\n",
      "desired_sort_arr: [ 45  46  61  84 102   7  39  91  55  93  72  92  31  99  32  41  50 101  90  69  83  62  75  64  76  78  57  86  95   5  98  48  59  79  88 108  36   9]\n",
      "WARN: len(neuron_colors): 44 > n_cells: 38: restricting neuron_colors to the correct aclus, but if colors ever get off this is where it is happening!\n",
      "merged_kwargs: {'name': 'spikeRasterOverviewWindowScatterPlotItem', 'pxMode': True, 'symbol': <PyQt5.QtGui.QPainterPath object at 0x7fb4c14c8f20>, 'size': 2, 'pen': {'color': 'w', 'width': 1}, 'hoverable': True}\n",
      "PhoDockAreaContainingWindow.GlobalConnectionManagerAccessingMixin_on_setup()\n",
      "PhoDockAreaContainingWindow.try_register_any_control_widgets()\n",
      "\tflat_widgets_list contains 0 items\n",
      "using overriden dock location.\n",
      "WARN: self.disable_emit_changed = True\n",
      "WARN: self.disable_emit_changed = True\n",
      "emitChanged(): self.val: 10\n"
     ]
    },
    {
     "name": "stdout",
     "output_type": "stream",
     "text": [
      "emitChanged(): self.val: 0\n",
      "valueChanged(new_val: 0)\n",
      "an_epoch: EpochTuple(Index=0, start=40.18717686412856, stop=40.48755687032826, label=0, duration=0.3003800061997026, LR_Long_ActuallyIncludedAclus=array([ 32,  36,  41,  45,  48,  53,  59,  62,  63,  78, 102, 108]), LR_Long_rel_num_cells=12, RL_Long_ActuallyIncludedAclus=array([ 32,  36,  41,  45,  48,  53,  59,  62,  63,  78, 102, 108]), RL_Long_rel_num_cells=12, LR_Short_ActuallyIncludedAclus=array([ 32,  36,  41,  45,  48,  53,  59,  62,  63,  78, 102, 108]), LR_Short_rel_num_cells=12, RL_Short_ActuallyIncludedAclus=array([ 32,  36,  41,  45,  48,  53,  59,  62,  63,  78, 102, 108]), RL_Short_rel_num_cells=12, LR_evidence=6.9673612122637785, RL_evidence=5.032638787736222, LR_product_evidence=0.0, RL_product_evidence=0.0, normed_LR_evidence=0.5806134343553149, normed_RL_evidence=0.4193865656446852, normed_product_LR_evidence=nan, normed_product_RL_evidence=nan)\n",
      "an_epoch: EpochTuple(Index=0, start=40.18717686412856, stop=40.48755687032826, label=0, duration=0.3003800061997026, LR_Long_ActuallyIncludedAclus=array([ 32,  36,  41,  45,  48,  53,  59,  62,  63,  78, 102, 108]), LR_Long_rel_num_cells=12, RL_Long_ActuallyIncludedAclus=array([ 32,  36,  41,  45,  48,  53,  59,  62,  63,  78, 102, 108]), RL_Long_rel_num_cells=12, LR_Short_ActuallyIncludedAclus=array([ 32,  36,  41,  45,  48,  53,  59,  62,  63,  78, 102, 108]), LR_Short_rel_num_cells=12, RL_Short_ActuallyIncludedAclus=array([ 32,  36,  41,  45,  48,  53,  59,  62,  63,  78, 102, 108]), RL_Short_rel_num_cells=12, LR_evidence=6.9673612122637785, RL_evidence=5.032638787736222, LR_product_evidence=0.0, RL_product_evidence=0.0, normed_LR_evidence=0.5806134343553149, normed_RL_evidence=0.4193865656446852, normed_product_LR_evidence=nan, normed_product_RL_evidence=nan)\n",
      "an_epoch: EpochTuple(Index=0, start=40.18717686412856, stop=40.48755687032826, label=0, duration=0.3003800061997026, LR_Long_ActuallyIncludedAclus=array([ 32,  36,  41,  45,  48,  53,  59,  62,  63,  78, 102, 108]), LR_Long_rel_num_cells=12, RL_Long_ActuallyIncludedAclus=array([ 32,  36,  41,  45,  48,  53,  59,  62,  63,  78, 102, 108]), RL_Long_rel_num_cells=12, LR_Short_ActuallyIncludedAclus=array([ 32,  36,  41,  45,  48,  53,  59,  62,  63,  78, 102, 108]), LR_Short_rel_num_cells=12, RL_Short_ActuallyIncludedAclus=array([ 32,  36,  41,  45,  48,  53,  59,  62,  63,  78, 102, 108]), RL_Short_rel_num_cells=12, LR_evidence=6.9673612122637785, RL_evidence=5.032638787736222, LR_product_evidence=0.0, RL_product_evidence=0.0, normed_LR_evidence=0.5806134343553149, normed_RL_evidence=0.4193865656446852, normed_product_LR_evidence=nan, normed_product_RL_evidence=nan)\n",
      "an_epoch: EpochTuple(Index=0, start=40.18717686412856, stop=40.48755687032826, label=0, duration=0.3003800061997026, LR_Long_ActuallyIncludedAclus=array([ 32,  36,  41,  45,  48,  53,  59,  62,  63,  78, 102, 108]), LR_Long_rel_num_cells=12, RL_Long_ActuallyIncludedAclus=array([ 32,  36,  41,  45,  48,  53,  59,  62,  63,  78, 102, 108]), RL_Long_rel_num_cells=12, LR_Short_ActuallyIncludedAclus=array([ 32,  36,  41,  45,  48,  53,  59,  62,  63,  78, 102, 108]), LR_Short_rel_num_cells=12, RL_Short_ActuallyIncludedAclus=array([ 32,  36,  41,  45,  48,  53,  59,  62,  63,  78, 102, 108]), RL_Short_rel_num_cells=12, LR_evidence=6.9673612122637785, RL_evidence=5.032638787736222, LR_product_evidence=0.0, RL_product_evidence=0.0, normed_LR_evidence=0.5806134343553149, normed_RL_evidence=0.4193865656446852, normed_product_LR_evidence=nan, normed_product_RL_evidence=nan)\n",
      "emitChanged(): self.val: 1\n",
      "valueChanged(new_val: 1)\n",
      "an_epoch: EpochTuple(Index=1, start=41.01191628188826, stop=41.35766970482655, label=1, duration=0.34575342293828726, LR_Long_ActuallyIncludedAclus=array([  7,   9,  32,  36,  41,  45,  48,  51,  53,  57,  62,  64,  76,  81,  83,  86,  93,  98, 100, 108]), LR_Long_rel_num_cells=20, RL_Long_ActuallyIncludedAclus=array([  7,   9,  32,  36,  41,  45,  48,  51,  53,  57,  62,  64,  76,  81,  83,  86,  93,  98, 100, 108]), RL_Long_rel_num_cells=20, LR_Short_ActuallyIncludedAclus=array([  7,   9,  32,  36,  41,  45,  48,  51,  53,  57,  62,  64,  76,  81,  83,  86,  93,  98, 100, 108]), LR_Short_rel_num_cells=20, RL_Short_ActuallyIncludedAclus=array([  7,   9,  32,  36,  41,  45,  48,  51,  53,  57,  62,  64,  76,  81,  83,  86,  93,  98, 100, 108]), RL_Short_rel_num_cells=20, LR_evidence=10.309979880292003, RL_evidence=8.690020119707997, LR_product_evidence=0.0, RL_product_evidence=0.0, normed_LR_evidence=0.5426305200153686, normed_RL_evidence=0.4573694799846314, normed_product_LR_evidence=nan, normed_product_RL_evidence=nan)\n",
      "an_epoch: EpochTuple(Index=1, start=41.01191628188826, stop=41.35766970482655, label=1, duration=0.34575342293828726, LR_Long_ActuallyIncludedAclus=array([  7,   9,  32,  36,  41,  45,  48,  51,  53,  57,  62,  64,  76,  81,  83,  86,  93,  98, 100, 108]), LR_Long_rel_num_cells=20, RL_Long_ActuallyIncludedAclus=array([  7,   9,  32,  36,  41,  45,  48,  51,  53,  57,  62,  64,  76,  81,  83,  86,  93,  98, 100, 108]), RL_Long_rel_num_cells=20, LR_Short_ActuallyIncludedAclus=array([  7,   9,  32,  36,  41,  45,  48,  51,  53,  57,  62,  64,  76,  81,  83,  86,  93,  98, 100, 108]), LR_Short_rel_num_cells=20, RL_Short_ActuallyIncludedAclus=array([  7,   9,  32,  36,  41,  45,  48,  51,  53,  57,  62,  64,  76,  81,  83,  86,  93,  98, 100, 108]), RL_Short_rel_num_cells=20, LR_evidence=10.309979880292003, RL_evidence=8.690020119707997, LR_product_evidence=0.0, RL_product_evidence=0.0, normed_LR_evidence=0.5426305200153686, normed_RL_evidence=0.4573694799846314, normed_product_LR_evidence=nan, normed_product_RL_evidence=nan)\n",
      "an_epoch: EpochTuple(Index=1, start=41.01191628188826, stop=41.35766970482655, label=1, duration=0.34575342293828726, LR_Long_ActuallyIncludedAclus=array([  7,   9,  32,  36,  41,  45,  48,  51,  53,  57,  62,  64,  76,  81,  83,  86,  93,  98, 100, 108]), LR_Long_rel_num_cells=20, RL_Long_ActuallyIncludedAclus=array([  7,   9,  32,  36,  41,  45,  48,  51,  53,  57,  62,  64,  76,  81,  83,  86,  93,  98, 100, 108]), RL_Long_rel_num_cells=20, LR_Short_ActuallyIncludedAclus=array([  7,   9,  32,  36,  41,  45,  48,  51,  53,  57,  62,  64,  76,  81,  83,  86,  93,  98, 100, 108]), LR_Short_rel_num_cells=20, RL_Short_ActuallyIncludedAclus=array([  7,   9,  32,  36,  41,  45,  48,  51,  53,  57,  62,  64,  76,  81,  83,  86,  93,  98, 100, 108]), RL_Short_rel_num_cells=20, LR_evidence=10.309979880292003, RL_evidence=8.690020119707997, LR_product_evidence=0.0, RL_product_evidence=0.0, normed_LR_evidence=0.5426305200153686, normed_RL_evidence=0.4573694799846314, normed_product_LR_evidence=nan, normed_product_RL_evidence=nan)\n",
      "an_epoch: EpochTuple(Index=1, start=41.01191628188826, stop=41.35766970482655, label=1, duration=0.34575342293828726, LR_Long_ActuallyIncludedAclus=array([  7,   9,  32,  36,  41,  45,  48,  51,  53,  57,  62,  64,  76,  81,  83,  86,  93,  98, 100, 108]), LR_Long_rel_num_cells=20, RL_Long_ActuallyIncludedAclus=array([  7,   9,  32,  36,  41,  45,  48,  51,  53,  57,  62,  64,  76,  81,  83,  86,  93,  98, 100, 108]), RL_Long_rel_num_cells=20, LR_Short_ActuallyIncludedAclus=array([  7,   9,  32,  36,  41,  45,  48,  51,  53,  57,  62,  64,  76,  81,  83,  86,  93,  98, 100, 108]), LR_Short_rel_num_cells=20, RL_Short_ActuallyIncludedAclus=array([  7,   9,  32,  36,  41,  45,  48,  51,  53,  57,  62,  64,  76,  81,  83,  86,  93,  98, 100, 108]), RL_Short_rel_num_cells=20, LR_evidence=10.309979880292003, RL_evidence=8.690020119707997, LR_product_evidence=0.0, RL_product_evidence=0.0, normed_LR_evidence=0.5426305200153686, normed_RL_evidence=0.4573694799846314, normed_product_LR_evidence=nan, normed_product_RL_evidence=nan)\n",
      "emitChanged(): self.val: 2\n",
      "valueChanged(new_val: 2)\n",
      "an_epoch: EpochTuple(Index=2, start=43.42970192397479, stop=43.48263245692942, label=2, duration=0.052930532954633236, LR_Long_ActuallyIncludedAclus=array([ 48,  51,  53,  55,  59,  62,  78,  81,  88, 108]), LR_Long_rel_num_cells=10, RL_Long_ActuallyIncludedAclus=array([ 48,  51,  53,  55,  59,  62,  78,  81,  88, 108]), RL_Long_rel_num_cells=10, LR_Short_ActuallyIncludedAclus=array([ 48,  51,  53,  55,  59,  62,  78,  81,  88, 108]), LR_Short_rel_num_cells=10, RL_Short_ActuallyIncludedAclus=array([ 48,  51,  53,  55,  59,  62,  78,  81,  88, 108]), RL_Short_rel_num_cells=10, LR_evidence=6.271663054238221, RL_evidence=2.7283369457617783, LR_product_evidence=0.016933909875286653, RL_product_evidence=0.0, normed_LR_evidence=0.6968514504709135, normed_RL_evidence=0.3031485495290865, normed_product_LR_evidence=1.0, normed_product_RL_evidence=0.0)\n",
      "an_epoch: EpochTuple(Index=2, start=43.42970192397479, stop=43.48263245692942, label=2, duration=0.052930532954633236, LR_Long_ActuallyIncludedAclus=array([ 48,  51,  53,  55,  59,  62,  78,  81,  88, 108]), LR_Long_rel_num_cells=10, RL_Long_ActuallyIncludedAclus=array([ 48,  51,  53,  55,  59,  62,  78,  81,  88, 108]), RL_Long_rel_num_cells=10, LR_Short_ActuallyIncludedAclus=array([ 48,  51,  53,  55,  59,  62,  78,  81,  88, 108]), LR_Short_rel_num_cells=10, RL_Short_ActuallyIncludedAclus=array([ 48,  51,  53,  55,  59,  62,  78,  81,  88, 108]), RL_Short_rel_num_cells=10, LR_evidence=6.271663054238221, RL_evidence=2.7283369457617783, LR_product_evidence=0.016933909875286653, RL_product_evidence=0.0, normed_LR_evidence=0.6968514504709135, normed_RL_evidence=0.3031485495290865, normed_product_LR_evidence=1.0, normed_product_RL_evidence=0.0)\n",
      "an_epoch: EpochTuple(Index=2, start=43.42970192397479, stop=43.48263245692942, label=2, duration=0.052930532954633236, LR_Long_ActuallyIncludedAclus=array([ 48,  51,  53,  55,  59,  62,  78,  81,  88, 108]), LR_Long_rel_num_cells=10, RL_Long_ActuallyIncludedAclus=array([ 48,  51,  53,  55,  59,  62,  78,  81,  88, 108]), RL_Long_rel_num_cells=10, LR_Short_ActuallyIncludedAclus=array([ 48,  51,  53,  55,  59,  62,  78,  81,  88, 108]), LR_Short_rel_num_cells=10, RL_Short_ActuallyIncludedAclus=array([ 48,  51,  53,  55,  59,  62,  78,  81,  88, 108]), RL_Short_rel_num_cells=10, LR_evidence=6.271663054238221, RL_evidence=2.7283369457617783, LR_product_evidence=0.016933909875286653, RL_product_evidence=0.0, normed_LR_evidence=0.6968514504709135, normed_RL_evidence=0.3031485495290865, normed_product_LR_evidence=1.0, normed_product_RL_evidence=0.0)\n",
      "an_epoch: EpochTuple(Index=2, start=43.42970192397479, stop=43.48263245692942, label=2, duration=0.052930532954633236, LR_Long_ActuallyIncludedAclus=array([ 48,  51,  53,  55,  59,  62,  78,  81,  88, 108]), LR_Long_rel_num_cells=10, RL_Long_ActuallyIncludedAclus=array([ 48,  51,  53,  55,  59,  62,  78,  81,  88, 108]), RL_Long_rel_num_cells=10, LR_Short_ActuallyIncludedAclus=array([ 48,  51,  53,  55,  59,  62,  78,  81,  88, 108]), LR_Short_rel_num_cells=10, RL_Short_ActuallyIncludedAclus=array([ 48,  51,  53,  55,  59,  62,  78,  81,  88, 108]), RL_Short_rel_num_cells=10, LR_evidence=6.271663054238221, RL_evidence=2.7283369457617783, LR_product_evidence=0.016933909875286653, RL_product_evidence=0.0, normed_LR_evidence=0.6968514504709135, normed_RL_evidence=0.3031485495290865, normed_product_LR_evidence=1.0, normed_product_RL_evidence=0.0)\n",
      "emitChanged(): self.val: 3\n",
      "valueChanged(new_val: 3)\n",
      "an_epoch: EpochTuple(Index=4, start=44.58873621060047, stop=44.82994952716399, label=4, duration=0.24121331656351686, LR_Long_ActuallyIncludedAclus=array([  9,  31,  32,  36,  48,  51,  57,  59,  62,  63,  88,  98, 108]), LR_Long_rel_num_cells=13, RL_Long_ActuallyIncludedAclus=array([  9,  31,  32,  36,  48,  51,  57,  59,  62,  63,  88,  98, 108]), RL_Long_rel_num_cells=13, LR_Short_ActuallyIncludedAclus=array([  9,  31,  32,  36,  48,  51,  57,  59,  62,  63,  88,  98, 108]), LR_Short_rel_num_cells=13, RL_Short_ActuallyIncludedAclus=array([  9,  31,  32,  36,  48,  51,  57,  59,  62,  63,  88,  98, 108]), RL_Short_rel_num_cells=13, LR_evidence=6.9295716870063595, RL_evidence=6.0704283129936405, LR_product_evidence=0.0, RL_product_evidence=0.0, normed_LR_evidence=0.5330439759235661, normed_RL_evidence=0.4669560240764339, normed_product_LR_evidence=nan, normed_product_RL_evidence=nan)\n",
      "an_epoch: EpochTuple(Index=4, start=44.58873621060047, stop=44.82994952716399, label=4, duration=0.24121331656351686, LR_Long_ActuallyIncludedAclus=array([  9,  31,  32,  36,  48,  51,  57,  59,  62,  63,  88,  98, 108]), LR_Long_rel_num_cells=13, RL_Long_ActuallyIncludedAclus=array([  9,  31,  32,  36,  48,  51,  57,  59,  62,  63,  88,  98, 108]), RL_Long_rel_num_cells=13, LR_Short_ActuallyIncludedAclus=array([  9,  31,  32,  36,  48,  51,  57,  59,  62,  63,  88,  98, 108]), LR_Short_rel_num_cells=13, RL_Short_ActuallyIncludedAclus=array([  9,  31,  32,  36,  48,  51,  57,  59,  62,  63,  88,  98, 108]), RL_Short_rel_num_cells=13, LR_evidence=6.9295716870063595, RL_evidence=6.0704283129936405, LR_product_evidence=0.0, RL_product_evidence=0.0, normed_LR_evidence=0.5330439759235661, normed_RL_evidence=0.4669560240764339, normed_product_LR_evidence=nan, normed_product_RL_evidence=nan)\n",
      "an_epoch: EpochTuple(Index=4, start=44.58873621060047, stop=44.82994952716399, label=4, duration=0.24121331656351686, LR_Long_ActuallyIncludedAclus=array([  9,  31,  32,  36,  48,  51,  57,  59,  62,  63,  88,  98, 108]), LR_Long_rel_num_cells=13, RL_Long_ActuallyIncludedAclus=array([  9,  31,  32,  36,  48,  51,  57,  59,  62,  63,  88,  98, 108]), RL_Long_rel_num_cells=13, LR_Short_ActuallyIncludedAclus=array([  9,  31,  32,  36,  48,  51,  57,  59,  62,  63,  88,  98, 108]), LR_Short_rel_num_cells=13, RL_Short_ActuallyIncludedAclus=array([  9,  31,  32,  36,  48,  51,  57,  59,  62,  63,  88,  98, 108]), RL_Short_rel_num_cells=13, LR_evidence=6.9295716870063595, RL_evidence=6.0704283129936405, LR_product_evidence=0.0, RL_product_evidence=0.0, normed_LR_evidence=0.5330439759235661, normed_RL_evidence=0.4669560240764339, normed_product_LR_evidence=nan, normed_product_RL_evidence=nan)\n",
      "an_epoch: EpochTuple(Index=4, start=44.58873621060047, stop=44.82994952716399, label=4, duration=0.24121331656351686, LR_Long_ActuallyIncludedAclus=array([  9,  31,  32,  36,  48,  51,  57,  59,  62,  63,  88,  98, 108]), LR_Long_rel_num_cells=13, RL_Long_ActuallyIncludedAclus=array([  9,  31,  32,  36,  48,  51,  57,  59,  62,  63,  88,  98, 108]), RL_Long_rel_num_cells=13, LR_Short_ActuallyIncludedAclus=array([  9,  31,  32,  36,  48,  51,  57,  59,  62,  63,  88,  98, 108]), LR_Short_rel_num_cells=13, RL_Short_ActuallyIncludedAclus=array([  9,  31,  32,  36,  48,  51,  57,  59,  62,  63,  88,  98, 108]), RL_Short_rel_num_cells=13, LR_evidence=6.9295716870063595, RL_evidence=6.0704283129936405, LR_product_evidence=0.0, RL_product_evidence=0.0, normed_LR_evidence=0.5330439759235661, normed_RL_evidence=0.4669560240764339, normed_product_LR_evidence=nan, normed_product_RL_evidence=nan)\n",
      "emitChanged(): self.val: 2\n",
      "valueChanged(new_val: 2)\n",
      "an_epoch: EpochTuple(Index=2, start=43.42970192397479, stop=43.48263245692942, label=2, duration=0.052930532954633236, LR_Long_ActuallyIncludedAclus=array([ 48,  51,  53,  55,  59,  62,  78,  81,  88, 108]), LR_Long_rel_num_cells=10, RL_Long_ActuallyIncludedAclus=array([ 48,  51,  53,  55,  59,  62,  78,  81,  88, 108]), RL_Long_rel_num_cells=10, LR_Short_ActuallyIncludedAclus=array([ 48,  51,  53,  55,  59,  62,  78,  81,  88, 108]), LR_Short_rel_num_cells=10, RL_Short_ActuallyIncludedAclus=array([ 48,  51,  53,  55,  59,  62,  78,  81,  88, 108]), RL_Short_rel_num_cells=10, LR_evidence=6.271663054238221, RL_evidence=2.7283369457617783, LR_product_evidence=0.016933909875286653, RL_product_evidence=0.0, normed_LR_evidence=0.6968514504709135, normed_RL_evidence=0.3031485495290865, normed_product_LR_evidence=1.0, normed_product_RL_evidence=0.0)\n",
      "an_epoch: EpochTuple(Index=2, start=43.42970192397479, stop=43.48263245692942, label=2, duration=0.052930532954633236, LR_Long_ActuallyIncludedAclus=array([ 48,  51,  53,  55,  59,  62,  78,  81,  88, 108]), LR_Long_rel_num_cells=10, RL_Long_ActuallyIncludedAclus=array([ 48,  51,  53,  55,  59,  62,  78,  81,  88, 108]), RL_Long_rel_num_cells=10, LR_Short_ActuallyIncludedAclus=array([ 48,  51,  53,  55,  59,  62,  78,  81,  88, 108]), LR_Short_rel_num_cells=10, RL_Short_ActuallyIncludedAclus=array([ 48,  51,  53,  55,  59,  62,  78,  81,  88, 108]), RL_Short_rel_num_cells=10, LR_evidence=6.271663054238221, RL_evidence=2.7283369457617783, LR_product_evidence=0.016933909875286653, RL_product_evidence=0.0, normed_LR_evidence=0.6968514504709135, normed_RL_evidence=0.3031485495290865, normed_product_LR_evidence=1.0, normed_product_RL_evidence=0.0)\n",
      "an_epoch: EpochTuple(Index=2, start=43.42970192397479, stop=43.48263245692942, label=2, duration=0.052930532954633236, LR_Long_ActuallyIncludedAclus=array([ 48,  51,  53,  55,  59,  62,  78,  81,  88, 108]), LR_Long_rel_num_cells=10, RL_Long_ActuallyIncludedAclus=array([ 48,  51,  53,  55,  59,  62,  78,  81,  88, 108]), RL_Long_rel_num_cells=10, LR_Short_ActuallyIncludedAclus=array([ 48,  51,  53,  55,  59,  62,  78,  81,  88, 108]), LR_Short_rel_num_cells=10, RL_Short_ActuallyIncludedAclus=array([ 48,  51,  53,  55,  59,  62,  78,  81,  88, 108]), RL_Short_rel_num_cells=10, LR_evidence=6.271663054238221, RL_evidence=2.7283369457617783, LR_product_evidence=0.016933909875286653, RL_product_evidence=0.0, normed_LR_evidence=0.6968514504709135, normed_RL_evidence=0.3031485495290865, normed_product_LR_evidence=1.0, normed_product_RL_evidence=0.0)\n",
      "an_epoch: EpochTuple(Index=2, start=43.42970192397479, stop=43.48263245692942, label=2, duration=0.052930532954633236, LR_Long_ActuallyIncludedAclus=array([ 48,  51,  53,  55,  59,  62,  78,  81,  88, 108]), LR_Long_rel_num_cells=10, RL_Long_ActuallyIncludedAclus=array([ 48,  51,  53,  55,  59,  62,  78,  81,  88, 108]), RL_Long_rel_num_cells=10, LR_Short_ActuallyIncludedAclus=array([ 48,  51,  53,  55,  59,  62,  78,  81,  88, 108]), LR_Short_rel_num_cells=10, RL_Short_ActuallyIncludedAclus=array([ 48,  51,  53,  55,  59,  62,  78,  81,  88, 108]), RL_Short_rel_num_cells=10, LR_evidence=6.271663054238221, RL_evidence=2.7283369457617783, LR_product_evidence=0.016933909875286653, RL_product_evidence=0.0, normed_LR_evidence=0.6968514504709135, normed_RL_evidence=0.3031485495290865, normed_product_LR_evidence=1.0, normed_product_RL_evidence=0.0)\n"
     ]
    }
   ],
   "source": [
    "from pyphoplacecellanalysis.GUI.PyQtPlot.Widgets.ContainerBased.RankOrderRastersDebugger import RankOrderRastersDebugger\n",
    "from pyphocorehelpers.gui.Qt.color_helpers import build_adjusted_color\n",
    "from pyphoplacecellanalysis.General.Mixins.SpikesRenderingBaseMixin import SpikeEmphasisState\n",
    "\n",
    "# from pyphoplacecellanalysis.GUI.PyQtPlot.Widgets.ContainerBased.RankOrderRastersDebugger import a_debug_callback_fn, debug_update_long_short_info_titles, debug_update_plot_titles\n",
    "\n",
    "curr_active_pipeline.reload_default_display_functions()\n",
    "\n",
    "## RankOrderRastersDebugger: \n",
    "# _out_rank_order_event_raster_debugger = RankOrderRastersDebugger.init_rank_order_debugger(spikes_df, ripple_result_tuple.active_epochs, track_templates, rank_order_results.RL_ripple.selected_spikes_fragile_linear_neuron_IDX_dict, rank_order_results.LR_ripple.selected_spikes_fragile_linear_neuron_IDX_dict)\n",
    "\n",
    "## Required prereqs:\n",
    "active_epochs_df = deepcopy(rank_order_results.LR_ripple.epochs_df)\n",
    "# active_selected_spikes_df, active_epochs_df = RankOrderAnalyses.new_compute_correlations(selected_spikes_df=selected_spikes_df, active_epochs=active_epochs, track_templates=track_templates)\n",
    "## 2023-12-13 11am - uses `active_epochs_df` passed in that has been augmented with all the old results:\n",
    "# _out_rank_order_event_raster_debugger = RankOrderRastersDebugger.init_rank_order_debugger(spikes_df, active_epochs_df, track_templates, rank_order_results, rank_order_results.RL_ripple.selected_spikes_fragile_linear_neuron_IDX_dict, rank_order_results.LR_ripple.selected_spikes_fragile_linear_neuron_IDX_dict)\n",
    "_out_rank_order_event_raster_debugger = RankOrderRastersDebugger.init_rank_order_debugger(spikes_df, active_epochs_df, track_templates, rank_order_results, rank_order_results.RL_ripple.selected_spikes_df, rank_order_results.LR_ripple.selected_spikes_df)\n",
    "_out_rank_order_event_raster_debugger.params.enable_show_Z_values = False\n"
   ]
  },
  {
   "cell_type": "code",
   "execution_count": null,
   "metadata": {},
   "outputs": [],
   "source": [
    "pxMode=False\n"
   ]
  },
  {
   "cell_type": "code",
   "execution_count": 24,
   "metadata": {},
   "outputs": [
    {
     "name": "stdout",
     "output_type": "stream",
     "text": [
      "included_neuron_ids: [  5   7   9  31  32  36  38  39  41  45  46  48  50  51  53  55  57  59  61  62  63  64  69  72  75  76  78  79  83  84  86  88  89  90  91  92  93  95  98  99 100 101 102 108], n_neurons: 44\n",
      "unit_sort_order: [39 33 35 28  1  8 29 34 12 26 37 30  0 27  5 25 11  6 21 32 14 24  3 20 22 17 23  7 13 38 18 16 40  4  9 10 15 31 36  2 19]\n",
      "desired_sort_arr: [102  91  95  84   7  45  86  92  51  79  99  88   5  83  38  78  50  39  69  90  55  76  31  64  72  61  75  41  53 100  62  59 108  36  46  48  57  89  98   9  63]\n",
      "WARN: len(neuron_colors): 44 > n_cells: 41: restricting neuron_colors to the correct aclus, but if colors ever get off this is where it is happening!\n",
      "merged_kwargs: {'name': 'spikeRasterOverviewWindowScatterPlotItem', 'pxMode': True, 'symbol': <PyQt5.QtGui.QPainterPath object at 0x7fb47739c270>, 'size': 2, 'pen': {'color': 'w', 'width': 1}, 'hoverable': True}\n",
      "unit_sort_order: [36  1  9 15 25 29  8 32  6 30 31  3 34  4 19 35  7 11 12 24 28 17 21 22 18 20 23 26  0 16 33 10 37 14 27  2  5 13]\n",
      "desired_sort_arr: [102   7  46  61  84  91  45  95  39  92  93  31  99  32  72 101  41  50  55  83  90  64  76  78  69  75  79  86   5  62  98  48 108  59  88   9  36  57]\n",
      "WARN: len(neuron_colors): 44 > n_cells: 38: restricting neuron_colors to the correct aclus, but if colors ever get off this is where it is happening!\n",
      "merged_kwargs: {'name': 'spikeRasterOverviewWindowScatterPlotItem', 'pxMode': True, 'symbol': <PyQt5.QtGui.QPainterPath object at 0x7fb47739e660>, 'size': 2, 'pen': {'color': 'w', 'width': 1}, 'hoverable': True}\n",
      "unit_sort_order: [39  1 17 28 33 19 22 35 12  0 27 34 11 25 21  6 14 32  3 24 13 23 29 38 20 37 26  7 31  5  8  9 10 15 16 18 30 36 40  2  4]\n",
      "desired_sort_arr: [102   7  61  84  91  63  72  95  51   5  83  92  50  78  69  39  55  90  31  76  53  75  86 100  64  99  79  41  89  38  45  46  48  57  59  62  88  98 108   9  36]\n",
      "WARN: len(neuron_colors): 44 > n_cells: 41: restricting neuron_colors to the correct aclus, but if colors ever get off this is where it is happening!\n",
      "merged_kwargs: {'name': 'spikeRasterOverviewWindowScatterPlotItem', 'pxMode': True, 'symbol': <PyQt5.QtGui.QPainterPath object at 0x7fb482dd05f0>, 'size': 2, 'pen': {'color': 'w', 'width': 1}, 'hoverable': True}\n",
      "unit_sort_order: [ 8  9 15 25 36  1  6 29 12 31 19 30  3 34  4  7 11 35 28 18 24 16 20 17 21 22 13 26 32  0 33 10 14 23 27 37  5  2]\n",
      "desired_sort_arr: [ 45  46  61  84 102   7  39  91  55  93  72  92  31  99  32  41  50 101  90  69  83  62  75  64  76  78  57  86  95   5  98  48  59  79  88 108  36   9]\n",
      "WARN: len(neuron_colors): 44 > n_cells: 38: restricting neuron_colors to the correct aclus, but if colors ever get off this is where it is happening!\n",
      "merged_kwargs: {'name': 'spikeRasterOverviewWindowScatterPlotItem', 'pxMode': True, 'symbol': <PyQt5.QtGui.QPainterPath object at 0x7fb4c75dbd60>, 'size': 2, 'pen': {'color': 'w', 'width': 1}, 'hoverable': True}\n",
      "PhoDockAreaContainingWindow.GlobalConnectionManagerAccessingMixin_on_setup()\n",
      "PhoDockAreaContainingWindow.try_register_any_control_widgets()\n",
      "\tflat_widgets_list contains 0 items\n",
      "using overriden dock location.\n",
      "WARN: self.disable_emit_changed = True\n",
      "WARN: self.disable_emit_changed = True\n",
      "emitChanged(): self.val: 10\n",
      "WARN: the selected spikes did not work properly, so none will be shown.\n"
     ]
    }
   ],
   "source": [
    "_out_rank_order_selected_spikes_only_event_raster_debugger = RankOrderRastersDebugger.init_rank_order_debugger(deepcopy(rank_order_results.LR_ripple.selected_spikes_df), deepcopy(rank_order_results.LR_ripple.epochs_df), track_templates, rank_order_results, None, None) # rank_order_results.RL_ripple.selected_spikes_fragile_linear_neuron_IDX_dict, rank_order_results.LR_ripple.selected_spikes_fragile_linear_neuron_IDX_dict)\n"
   ]
  },
  {
   "cell_type": "code",
   "execution_count": null,
   "metadata": {},
   "outputs": [],
   "source": [
    "_out_rank_order_selected_spikes_only_event_raster_debugger.plots_data.on_update_active_scatterplot_kwargs(dict(pxMode=False))"
   ]
  },
  {
   "cell_type": "code",
   "execution_count": null,
   "metadata": {},
   "outputs": [],
   "source": [
    "## Add the median spikes to the plots:\n",
    "_active_plot_identifier = 'long_LR'\n",
    "\n",
    "# Override the pen for the selected spots, the default renders them looking exactly like normal spikes which is no good:\n",
    "for _active_plot_identifier, a_point_list in _out_rank_order_event_raster_debugger.plots_data.all_selected_spots_dict.items():\n",
    "\t# for a_point in _out_rank_order_event_raster_debugger.plots_data.all_selected_spots_dict[_active_plot_identifier]:\n",
    "\tfor a_point in a_point_list:\n",
    "\t\ta_point['pen'] = pg.mkPen('#ffffff4e', width=1.5)\n",
    "\t\ta_point['brush'] = pg.mkBrush('#ffffff1f')\n",
    "\t\t\n",
    "\ta_scatter_plot = _out_rank_order_event_raster_debugger.plots.scatter_plots[_active_plot_identifier]\n",
    "\t# a_scatter_plot.updateSpots(_out_rank_order_event_raster_debugger.plots_data.all_selected_spots_dict[_active_plot_identifier])\n",
    "\ta_scatter_plot.addPoints(_out_rank_order_event_raster_debugger.plots_data.all_selected_spots_dict[_active_plot_identifier])"
   ]
  },
  {
   "cell_type": "code",
   "execution_count": null,
   "metadata": {},
   "outputs": [],
   "source": [
    "_out_rank_order_event_raster_debugger.plots_data.all_selected_spots_dict"
   ]
  },
  {
   "cell_type": "code",
   "execution_count": null,
   "id": "f7f3a2d3",
   "metadata": {},
   "outputs": [],
   "source": [
    "from pyphoplacecellanalysis.General.Mixins.ExportHelpers import export_pyqtgraph_plot, ExportFiletype\n",
    "\n",
    "export_path = Path(r'C:\\Users\\pho\\Desktop\\2023-12-19 Exports').resolve()\n",
    "\n",
    "_out_rank_order_event_raster_debugger.save_figure(export_path=export_path)\n"
   ]
  },
  {
   "cell_type": "markdown",
   "id": "619ebf52",
   "metadata": {},
   "source": [
    "## Iterates through the epochs (via the slider) and saves out the images:\n"
   ]
  },
  {
   "cell_type": "code",
   "execution_count": null,
   "id": "53f73ed6",
   "metadata": {},
   "outputs": [],
   "source": [
    "all_save_paths = {}\n",
    "\n",
    "for i in np.arange(0, _out_rank_order_event_raster_debugger.n_epochs, 5):\n",
    "    _out_rank_order_event_raster_debugger.ui.ctrls_widget.setValue(i)\n",
    "    # _out_rank_order_event_raster_debugger.on_update_epoch_IDX(an_epoch_idx=i)\n",
    "    active_epoch_label = _out_rank_order_event_raster_debugger.active_epoch_label\n",
    "\n",
    "    save_paths = []\n",
    "\n",
    "    for a_decoder, a_plot in _out_rank_order_event_raster_debugger.root_plots_dict.items():\n",
    "        curr_filename_prefix = f'Epoch{active_epoch_label}_{a_decoder}'\n",
    "        # a_plot.setYRange(-0.5, float(self.max_n_neurons))\n",
    "        out_path = export_path.joinpath(f'{curr_filename_prefix}_plot.png').resolve()\n",
    "        export_pyqtgraph_plot(a_plot, savepath=out_path, background=pg.mkColor(0, 0, 0, 0))\n",
    "        save_paths.append(out_path)\n",
    "\n",
    "    all_save_paths[active_epoch_label] = save_paths\n",
    "  \n",
    "all_save_paths"
   ]
  },
  {
   "cell_type": "code",
   "execution_count": null,
   "id": "9a46e840",
   "metadata": {},
   "outputs": [],
   "source": [
    "_out_rank_order_event_raster_debugger.active_epoch_IDX"
   ]
  },
  {
   "cell_type": "code",
   "execution_count": null,
   "id": "33d7d125",
   "metadata": {},
   "outputs": [],
   "source": [
    "_out_rank_order_event_raster_debugger.active_epoch_result_df"
   ]
  },
  {
   "cell_type": "code",
   "execution_count": null,
   "id": "41d5bd28",
   "metadata": {},
   "outputs": [],
   "source": [
    "aclu_y_values_dict = {_active_plot_identifier:{int(aclu):new_sorted_raster.neuron_y_pos[aclu] for aclu in new_sorted_raster.neuron_IDs} for _active_plot_identifier, new_sorted_raster in _out_rank_order_event_raster_debugger.plots_data.seperate_new_sorted_rasters_dict.items()}\n",
    "aclu_max_y_values_dict = {_active_plot_identifier:np.max(list({int(aclu):new_sorted_raster.neuron_y_pos[aclu] for aclu in new_sorted_raster.neuron_IDs}.values())) for _active_plot_identifier, new_sorted_raster in _out_rank_order_event_raster_debugger.plots_data.seperate_new_sorted_rasters_dict.items()} # {'long_LR': 51.48039215686274, 'long_RL': 53.5, 'short_LR': 51.48039215686274, 'short_RL': 53.5}\n",
    "global_max_y_value = np.max(list(aclu_max_y_values_dict.values()))\n",
    "global_max_y_value"
   ]
  },
  {
   "cell_type": "code",
   "execution_count": null,
   "id": "01518ab5",
   "metadata": {},
   "outputs": [],
   "source": [
    "max_n_neurons = np.max([len(v) for v in _out_rank_order_event_raster_debugger.plots_data.unsorted_original_neuron_IDs_lists])\n",
    "max_n_neurons"
   ]
  },
  {
   "cell_type": "code",
   "execution_count": null,
   "id": "277c056e",
   "metadata": {},
   "outputs": [],
   "source": [
    "_out_rank_order_event_raster_debugger.plots.all_separate_plots['long_LR']['root_plot']\n",
    "\n",
    "\n",
    "root_plots_dict"
   ]
  },
  {
   "cell_type": "code",
   "execution_count": null,
   "id": "d56dbf69",
   "metadata": {},
   "outputs": [],
   "source": [
    "max_n_neurons"
   ]
  },
  {
   "cell_type": "code",
   "execution_count": null,
   "id": "33b090c1",
   "metadata": {},
   "outputs": [],
   "source": [
    "\n",
    "\n",
    "all_separate_root_plots = {a_decoder_name:a_raster_setup_tuple.plots.root_plot for a_decoder_name, a_raster_setup_tuple in rasters_display_outputs.items()}\n"
   ]
  },
  {
   "cell_type": "code",
   "execution_count": null,
   "id": "39cb28ee",
   "metadata": {},
   "outputs": [],
   "source": []
  },
  {
   "cell_type": "code",
   "execution_count": null,
   "id": "9dd35f5f",
   "metadata": {},
   "outputs": [],
   "source": [
    "_out_rank_order_selected_spikes_only_event_raster_debugger.ui.tableView"
   ]
  },
  {
   "cell_type": "code",
   "execution_count": null,
   "id": "5446230b",
   "metadata": {},
   "outputs": [],
   "source": [
    "from pyphoplacecellanalysis.GUI.PyQtPlot.Widgets.ContainerBased.RankOrderRastersDebugger import a_debug_callback_fn, debug_update_long_short_info_titles, debug_update_plot_titles\n",
    "\n",
    "_out_LAPS_rank_order_event_raster_debugger = RankOrderRastersDebugger.init_rank_order_debugger(spikes_df, deepcopy(rank_order_results.LR_laps.epochs_df), track_templates, rank_order_results, None, None)\n",
    "_out_LAPS_rank_order_event_raster_debugger.params.is_laps = True\n",
    "_out_LAPS_rank_order_event_raster_debugger.on_idx_changed_callback_function_dict['debug_update_plot_titles_callback'] = debug_update_plot_titles"
   ]
  },
  {
   "cell_type": "code",
   "execution_count": null,
   "id": "b15491f4",
   "metadata": {},
   "outputs": [],
   "source": [
    "rank_order_results.RL_ripple.selected_spikes_df"
   ]
  },
  {
   "cell_type": "code",
   "execution_count": null,
   "id": "9bc00fc6",
   "metadata": {},
   "outputs": [],
   "source": [
    "# Scroll to the specified row\n",
    "tableView.scrollTo(tableView.model().index(row_index, 0))\n",
    "\n",
    "# Select the entire row\n",
    "tableView.selectRow(row_index)"
   ]
  },
  {
   "cell_type": "code",
   "execution_count": null,
   "id": "bc3b8d31",
   "metadata": {},
   "outputs": [],
   "source": [
    "_out_rank_order_event_raster_debugger.plots_data.LR_selected_spike_df #.LR_active_epochs_selected_spikes_fragile_linear_neuron_IDX_dict\n",
    "# _out_rank_order_event_raster_debugger.plots_data.LR_neuron_id_to_new_IDX_map"
   ]
  },
  {
   "cell_type": "code",
   "execution_count": null,
   "id": "81a012dc",
   "metadata": {},
   "outputs": [],
   "source": [
    "_obj = _out_rank_order_event_raster_debugger\n",
    "## Add the spikes\n",
    "_obj.add_selected_spikes_df_points_to_scatter_plot(plots_data=_obj.plots_data, plots=_obj.plots, selected_spikes_df=deepcopy(_obj.plots_data.LR_selected_spike_df), _active_plot_identifier = 'long_LR')\n",
    "_obj.add_selected_spikes_df_points_to_scatter_plot(plots_data=_obj.plots_data, plots=_obj.plots, selected_spikes_df=deepcopy(_obj.plots_data.LR_selected_spike_df), _active_plot_identifier = 'short_LR')\n",
    "_obj.add_selected_spikes_df_points_to_scatter_plot(plots_data=_obj.plots_data, plots=_obj.plots, selected_spikes_df=deepcopy(_obj.plots_data.RL_selected_spike_df), _active_plot_identifier = 'long_RL')\n",
    "_obj.add_selected_spikes_df_points_to_scatter_plot(plots_data=_obj.plots_data, plots=_obj.plots, selected_spikes_df=deepcopy(_obj.plots_data.RL_selected_spike_df), _active_plot_identifier = 'short_RL')"
   ]
  },
  {
   "cell_type": "code",
   "execution_count": null,
   "id": "82e67b75",
   "metadata": {},
   "outputs": [],
   "source": [
    "list(_out_rank_order_event_raster_debugger.plots.keys())\n",
    "_out_rank_order_event_raster_debugger.plots['scatter_plots']['long_LR'].addPoints()\n",
    "\n"
   ]
  },
  {
   "cell_type": "code",
   "execution_count": null,
   "id": "05a79c3f",
   "metadata": {},
   "outputs": [],
   "source": [
    "list(_out_rank_order_event_raster_debugger.plots_data.keys())\n"
   ]
  },
  {
   "cell_type": "code",
   "execution_count": null,
   "id": "60c62746",
   "metadata": {},
   "outputs": [],
   "source": [
    "_out_rank_order_event_raster_debugger.plots_data['all_selected_spots_dict']\n"
   ]
  },
  {
   "cell_type": "code",
   "execution_count": null,
   "id": "28b093b8",
   "metadata": {},
   "outputs": [],
   "source": [
    "_out_rank_order_event_raster_debugger.plots_data['seperate_all_spots_dict']"
   ]
  },
  {
   "cell_type": "code",
   "execution_count": null,
   "id": "48888cc6",
   "metadata": {},
   "outputs": [],
   "source": [
    "_active_plot_identifier = 'long_LR'\n",
    "new_sorted_raster = _out_rank_order_event_raster_debugger.plots_data['seperate_new_sorted_rasters_dict'][_active_plot_identifier]\n",
    "# selected_spikes_df = new_sorted_raster.update_spikes_df_visualization_columns(spikes_df=selected_spikes_df)\n",
    "# selected_spikes_df\n",
    "new_sorted_raster.spikes_df"
   ]
  },
  {
   "cell_type": "code",
   "execution_count": null,
   "id": "00a57b9a",
   "metadata": {},
   "outputs": [],
   "source": [
    "## Add the source data (spikes_df) to the plot_data\n",
    "plots_data.spikes_df = deepcopy(spikes_df)    \n",
    "# Update the dataframe\n",
    "plots_data.spikes_df = new_sorted_raster.update_spikes_df_visualization_columns(spikes_df=plots_data.spikes_df)\n",
    "## Build the spots for the raster plot:\n",
    "_out_rank_order_event_raster_debugger.plots_data['all_selected_spots_dict'][_active_plot_identifier], _out_rank_order_event_raster_debugger.plots_data.all_selected_scatterplot_tooltips_kwargs_dict[_active_plot_identifier] = new_sorted_raster.build_spikes_all_spots_from_df(spikes_df=plots_data.spikes_df, should_return_data_tooltips_kwargs=True, generate_debug_tuples=False)\n"
   ]
  },
  {
   "cell_type": "code",
   "execution_count": null,
   "id": "875a0b1b",
   "metadata": {},
   "outputs": [],
   "source": [
    "_out_rank_order_event_raster_debugger.plots_data.spikes_df"
   ]
  },
  {
   "cell_type": "code",
   "execution_count": null,
   "id": "86793de4",
   "metadata": {},
   "outputs": [],
   "source": [
    "_out_rank_order_event_raster_debugger.global_spikes_df"
   ]
  },
  {
   "cell_type": "code",
   "execution_count": null,
   "id": "4ce652a5",
   "metadata": {},
   "outputs": [],
   "source": [
    "add_selected_spikes_df_points_to_scatter_plot"
   ]
  },
  {
   "cell_type": "markdown",
   "id": "44d0cb69",
   "metadata": {},
   "source": [
    "## Connects TemplatesDebugger to RasterDebugger"
   ]
  },
  {
   "cell_type": "code",
   "execution_count": 25,
   "id": "df7136b6",
   "metadata": {},
   "outputs": [
    {
     "name": "stdout",
     "output_type": "stream",
     "text": [
      "PhoDockAreaContainingWindow.GlobalConnectionManagerAccessingMixin_on_setup()\n",
      "PhoDockAreaContainingWindow.try_register_any_control_widgets()\n",
      "\tflat_widgets_list contains 0 items\n",
      "using overriden dock location.\n"
     ]
    },
    {
     "name": "stdout",
     "output_type": "stream",
     "text": [
      "_tip_fn(...): data_string: t: 188.83924539433792|aclu: 41|neuron_IDX: 5|visualization_raster_y_location: nan\n",
      "_tip_fn(...): data_string: t: 187.58897275442723|aclu: 41|neuron_IDX: 5|visualization_raster_y_location: nan\n",
      "_tip_fn(...): data_string: t: 182.40067461086437|aclu: 41|neuron_IDX: 5|visualization_raster_y_location: nan\n",
      "emitChanged(): self.val: 9\n",
      "valueChanged(new_val: 9)\n",
      "an_epoch: EpochTuple(Index=11, start=56.1137376697734, stop=56.206788502051495, label=11, duration=0.09305083227809519, LR_Long_ActuallyIncludedAclus=array([ 41,  48,  53,  55,  59,  62,  86,  88, 108]), LR_Long_rel_num_cells=9, RL_Long_ActuallyIncludedAclus=array([ 41,  48,  53,  55,  59,  62,  86,  88, 108]), RL_Long_rel_num_cells=9, LR_Short_ActuallyIncludedAclus=array([ 41,  48,  53,  55,  59,  62,  86,  88, 108]), LR_Short_rel_num_cells=9, RL_Short_ActuallyIncludedAclus=array([ 41,  48,  53,  55,  59,  62,  86,  88, 108]), RL_Short_rel_num_cells=9, LR_evidence=6.33058753936408, RL_evidence=2.66941246063592, LR_product_evidence=0.020983323106333465, RL_product_evidence=0.0, normed_LR_evidence=0.7033986154848978, normed_RL_evidence=0.2966013845151022, normed_product_LR_evidence=1.0, normed_product_RL_evidence=0.0)\n",
      "an_epoch: EpochTuple(Index=11, start=56.1137376697734, stop=56.206788502051495, label=11, duration=0.09305083227809519, LR_Long_ActuallyIncludedAclus=array([ 41,  48,  53,  55,  59,  62,  86,  88, 108]), LR_Long_rel_num_cells=9, RL_Long_ActuallyIncludedAclus=array([ 41,  48,  53,  55,  59,  62,  86,  88, 108]), RL_Long_rel_num_cells=9, LR_Short_ActuallyIncludedAclus=array([ 41,  48,  53,  55,  59,  62,  86,  88, 108]), LR_Short_rel_num_cells=9, RL_Short_ActuallyIncludedAclus=array([ 41,  48,  53,  55,  59,  62,  86,  88, 108]), RL_Short_rel_num_cells=9, LR_evidence=6.33058753936408, RL_evidence=2.66941246063592, LR_product_evidence=0.020983323106333465, RL_product_evidence=0.0, normed_LR_evidence=0.7033986154848978, normed_RL_evidence=0.2966013845151022, normed_product_LR_evidence=1.0, normed_product_RL_evidence=0.0)\n",
      "an_epoch: EpochTuple(Index=11, start=56.1137376697734, stop=56.206788502051495, label=11, duration=0.09305083227809519, LR_Long_ActuallyIncludedAclus=array([ 41,  48,  53,  55,  59,  62,  86,  88, 108]), LR_Long_rel_num_cells=9, RL_Long_ActuallyIncludedAclus=array([ 41,  48,  53,  55,  59,  62,  86,  88, 108]), RL_Long_rel_num_cells=9, LR_Short_ActuallyIncludedAclus=array([ 41,  48,  53,  55,  59,  62,  86,  88, 108]), LR_Short_rel_num_cells=9, RL_Short_ActuallyIncludedAclus=array([ 41,  48,  53,  55,  59,  62,  86,  88, 108]), RL_Short_rel_num_cells=9, LR_evidence=6.33058753936408, RL_evidence=2.66941246063592, LR_product_evidence=0.020983323106333465, RL_product_evidence=0.0, normed_LR_evidence=0.7033986154848978, normed_RL_evidence=0.2966013845151022, normed_product_LR_evidence=1.0, normed_product_RL_evidence=0.0)\n",
      "an_epoch: EpochTuple(Index=11, start=56.1137376697734, stop=56.206788502051495, label=11, duration=0.09305083227809519, LR_Long_ActuallyIncludedAclus=array([ 41,  48,  53,  55,  59,  62,  86,  88, 108]), LR_Long_rel_num_cells=9, RL_Long_ActuallyIncludedAclus=array([ 41,  48,  53,  55,  59,  62,  86,  88, 108]), RL_Long_rel_num_cells=9, LR_Short_ActuallyIncludedAclus=array([ 41,  48,  53,  55,  59,  62,  86,  88, 108]), LR_Short_rel_num_cells=9, RL_Short_ActuallyIncludedAclus=array([ 41,  48,  53,  55,  59,  62,  86,  88, 108]), RL_Short_rel_num_cells=9, LR_evidence=6.33058753936408, RL_evidence=2.66941246063592, LR_product_evidence=0.020983323106333465, RL_product_evidence=0.0, normed_LR_evidence=0.7033986154848978, normed_RL_evidence=0.2966013845151022, normed_product_LR_evidence=1.0, normed_product_RL_evidence=0.0)\n",
      "len(included_any_context_neuron_ids_dict_dict) != len(decoders_dict), assuming this is a single included_any_context_neuron_ids_dict for all decoders like used in `paired_incremental_sort_neurons(...)`. Fixing. \n",
      "emitChanged(): self.val: 3\n",
      "valueChanged(new_val: 3)\n",
      "an_epoch: EpochTuple(Index=4, start=44.58873621060047, stop=44.82994952716399, label=4, duration=0.24121331656351686, LR_Long_ActuallyIncludedAclus=array([  9,  31,  32,  36,  48,  51,  57,  59,  62,  63,  88,  98, 108]), LR_Long_rel_num_cells=13, RL_Long_ActuallyIncludedAclus=array([  9,  31,  32,  36,  48,  51,  57,  59,  62,  63,  88,  98, 108]), RL_Long_rel_num_cells=13, LR_Short_ActuallyIncludedAclus=array([  9,  31,  32,  36,  48,  51,  57,  59,  62,  63,  88,  98, 108]), LR_Short_rel_num_cells=13, RL_Short_ActuallyIncludedAclus=array([  9,  31,  32,  36,  48,  51,  57,  59,  62,  63,  88,  98, 108]), RL_Short_rel_num_cells=13, LR_evidence=6.9295716870063595, RL_evidence=6.0704283129936405, LR_product_evidence=0.0, RL_product_evidence=0.0, normed_LR_evidence=0.5330439759235661, normed_RL_evidence=0.4669560240764339, normed_product_LR_evidence=nan, normed_product_RL_evidence=nan)\n",
      "an_epoch: EpochTuple(Index=4, start=44.58873621060047, stop=44.82994952716399, label=4, duration=0.24121331656351686, LR_Long_ActuallyIncludedAclus=array([  9,  31,  32,  36,  48,  51,  57,  59,  62,  63,  88,  98, 108]), LR_Long_rel_num_cells=13, RL_Long_ActuallyIncludedAclus=array([  9,  31,  32,  36,  48,  51,  57,  59,  62,  63,  88,  98, 108]), RL_Long_rel_num_cells=13, LR_Short_ActuallyIncludedAclus=array([  9,  31,  32,  36,  48,  51,  57,  59,  62,  63,  88,  98, 108]), LR_Short_rel_num_cells=13, RL_Short_ActuallyIncludedAclus=array([  9,  31,  32,  36,  48,  51,  57,  59,  62,  63,  88,  98, 108]), RL_Short_rel_num_cells=13, LR_evidence=6.9295716870063595, RL_evidence=6.0704283129936405, LR_product_evidence=0.0, RL_product_evidence=0.0, normed_LR_evidence=0.5330439759235661, normed_RL_evidence=0.4669560240764339, normed_product_LR_evidence=nan, normed_product_RL_evidence=nan)\n",
      "an_epoch: EpochTuple(Index=4, start=44.58873621060047, stop=44.82994952716399, label=4, duration=0.24121331656351686, LR_Long_ActuallyIncludedAclus=array([  9,  31,  32,  36,  48,  51,  57,  59,  62,  63,  88,  98, 108]), LR_Long_rel_num_cells=13, RL_Long_ActuallyIncludedAclus=array([  9,  31,  32,  36,  48,  51,  57,  59,  62,  63,  88,  98, 108]), RL_Long_rel_num_cells=13, LR_Short_ActuallyIncludedAclus=array([  9,  31,  32,  36,  48,  51,  57,  59,  62,  63,  88,  98, 108]), LR_Short_rel_num_cells=13, RL_Short_ActuallyIncludedAclus=array([  9,  31,  32,  36,  48,  51,  57,  59,  62,  63,  88,  98, 108]), RL_Short_rel_num_cells=13, LR_evidence=6.9295716870063595, RL_evidence=6.0704283129936405, LR_product_evidence=0.0, RL_product_evidence=0.0, normed_LR_evidence=0.5330439759235661, normed_RL_evidence=0.4669560240764339, normed_product_LR_evidence=nan, normed_product_RL_evidence=nan)\n",
      "an_epoch: EpochTuple(Index=4, start=44.58873621060047, stop=44.82994952716399, label=4, duration=0.24121331656351686, LR_Long_ActuallyIncludedAclus=array([  9,  31,  32,  36,  48,  51,  57,  59,  62,  63,  88,  98, 108]), LR_Long_rel_num_cells=13, RL_Long_ActuallyIncludedAclus=array([  9,  31,  32,  36,  48,  51,  57,  59,  62,  63,  88,  98, 108]), RL_Long_rel_num_cells=13, LR_Short_ActuallyIncludedAclus=array([  9,  31,  32,  36,  48,  51,  57,  59,  62,  63,  88,  98, 108]), LR_Short_rel_num_cells=13, RL_Short_ActuallyIncludedAclus=array([  9,  31,  32,  36,  48,  51,  57,  59,  62,  63,  88,  98, 108]), RL_Short_rel_num_cells=13, LR_evidence=6.9295716870063595, RL_evidence=6.0704283129936405, LR_product_evidence=0.0, RL_product_evidence=0.0, normed_LR_evidence=0.5330439759235661, normed_RL_evidence=0.4669560240764339, normed_product_LR_evidence=nan, normed_product_RL_evidence=nan)\n",
      "len(included_any_context_neuron_ids_dict_dict) != len(decoders_dict), assuming this is a single included_any_context_neuron_ids_dict for all decoders like used in `paired_incremental_sort_neurons(...)`. Fixing. \n",
      "emitChanged(): self.val: 2\n",
      "valueChanged(new_val: 2)\n",
      "an_epoch: EpochTuple(Index=2, start=43.42970192397479, stop=43.48263245692942, label=2, duration=0.052930532954633236, LR_Long_ActuallyIncludedAclus=array([ 48,  51,  53,  55,  59,  62,  78,  81,  88, 108]), LR_Long_rel_num_cells=10, RL_Long_ActuallyIncludedAclus=array([ 48,  51,  53,  55,  59,  62,  78,  81,  88, 108]), RL_Long_rel_num_cells=10, LR_Short_ActuallyIncludedAclus=array([ 48,  51,  53,  55,  59,  62,  78,  81,  88, 108]), LR_Short_rel_num_cells=10, RL_Short_ActuallyIncludedAclus=array([ 48,  51,  53,  55,  59,  62,  78,  81,  88, 108]), RL_Short_rel_num_cells=10, LR_evidence=6.271663054238221, RL_evidence=2.7283369457617783, LR_product_evidence=0.016933909875286653, RL_product_evidence=0.0, normed_LR_evidence=0.6968514504709135, normed_RL_evidence=0.3031485495290865, normed_product_LR_evidence=1.0, normed_product_RL_evidence=0.0)\n",
      "an_epoch: EpochTuple(Index=2, start=43.42970192397479, stop=43.48263245692942, label=2, duration=0.052930532954633236, LR_Long_ActuallyIncludedAclus=array([ 48,  51,  53,  55,  59,  62,  78,  81,  88, 108]), LR_Long_rel_num_cells=10, RL_Long_ActuallyIncludedAclus=array([ 48,  51,  53,  55,  59,  62,  78,  81,  88, 108]), RL_Long_rel_num_cells=10, LR_Short_ActuallyIncludedAclus=array([ 48,  51,  53,  55,  59,  62,  78,  81,  88, 108]), LR_Short_rel_num_cells=10, RL_Short_ActuallyIncludedAclus=array([ 48,  51,  53,  55,  59,  62,  78,  81,  88, 108]), RL_Short_rel_num_cells=10, LR_evidence=6.271663054238221, RL_evidence=2.7283369457617783, LR_product_evidence=0.016933909875286653, RL_product_evidence=0.0, normed_LR_evidence=0.6968514504709135, normed_RL_evidence=0.3031485495290865, normed_product_LR_evidence=1.0, normed_product_RL_evidence=0.0)\n",
      "an_epoch: EpochTuple(Index=2, start=43.42970192397479, stop=43.48263245692942, label=2, duration=0.052930532954633236, LR_Long_ActuallyIncludedAclus=array([ 48,  51,  53,  55,  59,  62,  78,  81,  88, 108]), LR_Long_rel_num_cells=10, RL_Long_ActuallyIncludedAclus=array([ 48,  51,  53,  55,  59,  62,  78,  81,  88, 108]), RL_Long_rel_num_cells=10, LR_Short_ActuallyIncludedAclus=array([ 48,  51,  53,  55,  59,  62,  78,  81,  88, 108]), LR_Short_rel_num_cells=10, RL_Short_ActuallyIncludedAclus=array([ 48,  51,  53,  55,  59,  62,  78,  81,  88, 108]), RL_Short_rel_num_cells=10, LR_evidence=6.271663054238221, RL_evidence=2.7283369457617783, LR_product_evidence=0.016933909875286653, RL_product_evidence=0.0, normed_LR_evidence=0.6968514504709135, normed_RL_evidence=0.3031485495290865, normed_product_LR_evidence=1.0, normed_product_RL_evidence=0.0)\n",
      "an_epoch: EpochTuple(Index=2, start=43.42970192397479, stop=43.48263245692942, label=2, duration=0.052930532954633236, LR_Long_ActuallyIncludedAclus=array([ 48,  51,  53,  55,  59,  62,  78,  81,  88, 108]), LR_Long_rel_num_cells=10, RL_Long_ActuallyIncludedAclus=array([ 48,  51,  53,  55,  59,  62,  78,  81,  88, 108]), RL_Long_rel_num_cells=10, LR_Short_ActuallyIncludedAclus=array([ 48,  51,  53,  55,  59,  62,  78,  81,  88, 108]), LR_Short_rel_num_cells=10, RL_Short_ActuallyIncludedAclus=array([ 48,  51,  53,  55,  59,  62,  78,  81,  88, 108]), RL_Short_rel_num_cells=10, LR_evidence=6.271663054238221, RL_evidence=2.7283369457617783, LR_product_evidence=0.016933909875286653, RL_product_evidence=0.0, normed_LR_evidence=0.6968514504709135, normed_RL_evidence=0.3031485495290865, normed_product_LR_evidence=1.0, normed_product_RL_evidence=0.0)\n",
      "len(included_any_context_neuron_ids_dict_dict) != len(decoders_dict), assuming this is a single included_any_context_neuron_ids_dict for all decoders like used in `paired_incremental_sort_neurons(...)`. Fixing. \n",
      "emitChanged(): self.val: 3\n",
      "valueChanged(new_val: 3)\n",
      "an_epoch: EpochTuple(Index=4, start=44.58873621060047, stop=44.82994952716399, label=4, duration=0.24121331656351686, LR_Long_ActuallyIncludedAclus=array([  9,  31,  32,  36,  48,  51,  57,  59,  62,  63,  88,  98, 108]), LR_Long_rel_num_cells=13, RL_Long_ActuallyIncludedAclus=array([  9,  31,  32,  36,  48,  51,  57,  59,  62,  63,  88,  98, 108]), RL_Long_rel_num_cells=13, LR_Short_ActuallyIncludedAclus=array([  9,  31,  32,  36,  48,  51,  57,  59,  62,  63,  88,  98, 108]), LR_Short_rel_num_cells=13, RL_Short_ActuallyIncludedAclus=array([  9,  31,  32,  36,  48,  51,  57,  59,  62,  63,  88,  98, 108]), RL_Short_rel_num_cells=13, LR_evidence=6.9295716870063595, RL_evidence=6.0704283129936405, LR_product_evidence=0.0, RL_product_evidence=0.0, normed_LR_evidence=0.5330439759235661, normed_RL_evidence=0.4669560240764339, normed_product_LR_evidence=nan, normed_product_RL_evidence=nan)\n",
      "an_epoch: EpochTuple(Index=4, start=44.58873621060047, stop=44.82994952716399, label=4, duration=0.24121331656351686, LR_Long_ActuallyIncludedAclus=array([  9,  31,  32,  36,  48,  51,  57,  59,  62,  63,  88,  98, 108]), LR_Long_rel_num_cells=13, RL_Long_ActuallyIncludedAclus=array([  9,  31,  32,  36,  48,  51,  57,  59,  62,  63,  88,  98, 108]), RL_Long_rel_num_cells=13, LR_Short_ActuallyIncludedAclus=array([  9,  31,  32,  36,  48,  51,  57,  59,  62,  63,  88,  98, 108]), LR_Short_rel_num_cells=13, RL_Short_ActuallyIncludedAclus=array([  9,  31,  32,  36,  48,  51,  57,  59,  62,  63,  88,  98, 108]), RL_Short_rel_num_cells=13, LR_evidence=6.9295716870063595, RL_evidence=6.0704283129936405, LR_product_evidence=0.0, RL_product_evidence=0.0, normed_LR_evidence=0.5330439759235661, normed_RL_evidence=0.4669560240764339, normed_product_LR_evidence=nan, normed_product_RL_evidence=nan)\n",
      "an_epoch: EpochTuple(Index=4, start=44.58873621060047, stop=44.82994952716399, label=4, duration=0.24121331656351686, LR_Long_ActuallyIncludedAclus=array([  9,  31,  32,  36,  48,  51,  57,  59,  62,  63,  88,  98, 108]), LR_Long_rel_num_cells=13, RL_Long_ActuallyIncludedAclus=array([  9,  31,  32,  36,  48,  51,  57,  59,  62,  63,  88,  98, 108]), RL_Long_rel_num_cells=13, LR_Short_ActuallyIncludedAclus=array([  9,  31,  32,  36,  48,  51,  57,  59,  62,  63,  88,  98, 108]), LR_Short_rel_num_cells=13, RL_Short_ActuallyIncludedAclus=array([  9,  31,  32,  36,  48,  51,  57,  59,  62,  63,  88,  98, 108]), RL_Short_rel_num_cells=13, LR_evidence=6.9295716870063595, RL_evidence=6.0704283129936405, LR_product_evidence=0.0, RL_product_evidence=0.0, normed_LR_evidence=0.5330439759235661, normed_RL_evidence=0.4669560240764339, normed_product_LR_evidence=nan, normed_product_RL_evidence=nan)\n",
      "an_epoch: EpochTuple(Index=4, start=44.58873621060047, stop=44.82994952716399, label=4, duration=0.24121331656351686, LR_Long_ActuallyIncludedAclus=array([  9,  31,  32,  36,  48,  51,  57,  59,  62,  63,  88,  98, 108]), LR_Long_rel_num_cells=13, RL_Long_ActuallyIncludedAclus=array([  9,  31,  32,  36,  48,  51,  57,  59,  62,  63,  88,  98, 108]), RL_Long_rel_num_cells=13, LR_Short_ActuallyIncludedAclus=array([  9,  31,  32,  36,  48,  51,  57,  59,  62,  63,  88,  98, 108]), LR_Short_rel_num_cells=13, RL_Short_ActuallyIncludedAclus=array([  9,  31,  32,  36,  48,  51,  57,  59,  62,  63,  88,  98, 108]), RL_Short_rel_num_cells=13, LR_evidence=6.9295716870063595, RL_evidence=6.0704283129936405, LR_product_evidence=0.0, RL_product_evidence=0.0, normed_LR_evidence=0.5330439759235661, normed_RL_evidence=0.4669560240764339, normed_product_LR_evidence=nan, normed_product_RL_evidence=nan)\n",
      "len(included_any_context_neuron_ids_dict_dict) != len(decoders_dict), assuming this is a single included_any_context_neuron_ids_dict for all decoders like used in `paired_incremental_sort_neurons(...)`. Fixing. \n"
     ]
    }
   ],
   "source": [
    "from pyphoplacecellanalysis.GUI.PyQtPlot.Widgets.ContainerBased.RankOrderRastersDebugger import a_debug_callback_fn, debug_update_long_short_info_titles, debug_update_plot_titles\n",
    "\n",
    "\n",
    "# active_plotter = _out_rank_order_event_raster_debugger\n",
    "active_plotter = _out_rank_order_selected_spikes_only_event_raster_debugger\n",
    "\n",
    "# _out_directional_template_pfs_debugger = None\n",
    "\n",
    "def plot_attached_directional_templates_pf_debugger(curr_active_pipeline, rank_order_raster_debugger: RankOrderRastersDebugger):\n",
    "    \"\"\" builds a _display_directional_template_debugger, attaches it to the provided rank_order_event_raster_debugger so it's updated on its callback, and then returns what it created. \n",
    "    \n",
    "    \"\"\"\n",
    "    curr_active_pipeline.reload_default_display_functions()\n",
    "    # epoch_active_aclus = np.array([9,  26,  31,  39,  40,  43,  47,  52,  53,  54,  60,  61,  65,  68,  72,  75,  77,  78,  81,  82,  84,  85,  90,  92,  93,  98, 102]) # some test indicies\n",
    "    epoch_active_aclus = None\n",
    "    _out_directional_template_pfs_debugger = curr_active_pipeline.display(DirectionalPlacefieldGlobalDisplayFunctions._display_directional_template_debugger, included_any_context_neuron_ids=epoch_active_aclus, figure_name=f'<Controlled by RankOrderRastersDebugger>')\n",
    "\n",
    "    def debug_update_paired_directional_template_pfs_debugger(a_plotter, an_idx: int):\n",
    "        \"\"\" captures: _out_directional_template_pfs_debugger, \"\"\"\n",
    "        epoch_active_aclus = deepcopy(a_plotter.get_epoch_active_aclus())\n",
    "        # update the displayed cells:\n",
    "        directional_template_pfs_debugger_on_update_callback = _out_directional_template_pfs_debugger.get('ui').on_update_callback\n",
    "        directional_template_pfs_debugger_on_update_callback(epoch_active_aclus)\n",
    "    \n",
    "    rank_order_raster_debugger.on_idx_changed_callback_function_dict['debug_update_paired_directional_template_pfs_debugger'] = debug_update_paired_directional_template_pfs_debugger\n",
    "    \n",
    "    return _out_directional_template_pfs_debugger, debug_update_paired_directional_template_pfs_debugger\n",
    "\n",
    "\n",
    "_out_directional_template_pfs_debugger, debug_update_paired_directional_template_pfs_debugger = plot_attached_directional_templates_pf_debugger(curr_active_pipeline, rank_order_raster_debugger=active_plotter)\n",
    "\n",
    "active_plotter.on_idx_changed_callback_function_dict['a_debug_callback'] = a_debug_callback_fn\n",
    "active_plotter.on_idx_changed_callback_function_dict['debug_update_plot_titles_callback'] = debug_update_plot_titles\n",
    "# active_plotter.on_idx_changed_callback_function_dict['debug_update_paired_directional_template_pfs_debugger'] = debug_update_paired_directional_template_pfs_debugger\n",
    "# active_plotter.on_idx_changed_callback_function_dict['debug_update_long_short_info_titles'] = debug_update_long_short_info_titles\n",
    "# active_plotter.on_idx_changed_callback_function_dict['debug_plot_epoch_label_row'] = debug_plot_epoch_label_row\n",
    "\n",
    "# active_plotter.on_update_epoch_IDX(11)"
   ]
  },
  {
   "cell_type": "code",
   "execution_count": null,
   "id": "8710deb2",
   "metadata": {},
   "outputs": [],
   "source": [
    "active_epochs_df = deepcopy(ripple_result_tuple.active_epochs)\n",
    "active_epochs_df"
   ]
  },
  {
   "cell_type": "code",
   "execution_count": null,
   "id": "c43543ad",
   "metadata": {},
   "outputs": [],
   "source": [
    "active_epochs_df = deepcopy(rank_order_results.LR_ripple.epochs_df)\n",
    "active_epochs_df"
   ]
  },
  {
   "cell_type": "code",
   "execution_count": null,
   "id": "51d8efe7",
   "metadata": {},
   "outputs": [],
   "source": [
    "print(list(rank_order_raster_debugger.global_spikes_df.columns)) # ['start', 'stop', 'label', 'duration', 'end', 'LR_Long_spearman', 'RL_Long_spearman', 'LR_Short_spearman', 'RL_Short_spearman', 'LR_Long_pearson', 'RL_Long_pearson', 'LR_Short_pearson', 'RL_Short_pearson', 'LR_Long_Old_Spearman', 'RL_Long_Old_Spearman', 'LR_Short_Old_Spearman', 'RL_Short_Old_Spearman', 'LR_Long_ActuallyIncludedAclus', 'LR_Long_rel_num_cells', 'RL_Long_ActuallyIncludedAclus', 'RL_Long_rel_num_cells', 'LR_Long_Z', 'RL_Long_Z', 'LR_Short_Z', 'RL_Short_Z']\n",
    "\n"
   ]
  },
  {
   "cell_type": "code",
   "execution_count": null,
   "id": "537629d3",
   "metadata": {},
   "outputs": [],
   "source": [
    "print(list(active_selected_spikes_df.columns)) # ['start', 'stop', 'label', 'duration', 'end', 'LR_Long_spearman', 'RL_Long_spearman', 'LR_Short_spearman', 'RL_Short_spearman', 'LR_Long_pearson', 'RL_Long_pearson', 'LR_Short_pearson', 'RL_Short_pearson', 'LR_Long_Old_Spearman', 'RL_Long_Old_Spearman', 'LR_Short_Old_Spearman', 'RL_Short_Old_Spearman', 'LR_Long_ActuallyIncludedAclus', 'LR_Long_rel_num_cells', 'RL_Long_ActuallyIncludedAclus', 'RL_Long_rel_num_cells', 'LR_Long_Z', 'RL_Long_Z', 'LR_Short_Z', 'RL_Short_Z']\n",
    "\n"
   ]
  },
  {
   "cell_type": "code",
   "execution_count": null,
   "id": "24b5b2f0",
   "metadata": {},
   "outputs": [],
   "source": [
    "print(list(active_epochs_df.columns)) # ['start', 'stop', 'label', 'duration', 'end', 'LR_Long_spearman', 'RL_Long_spearman', 'LR_Short_spearman', 'RL_Short_spearman', 'LR_Long_pearson', 'RL_Long_pearson', 'LR_Short_pearson', 'RL_Short_pearson', 'LR_Long_Old_Spearman', 'RL_Long_Old_Spearman', 'LR_Short_Old_Spearman', 'RL_Short_Old_Spearman', 'LR_Long_ActuallyIncludedAclus', 'LR_Long_rel_num_cells', 'RL_Long_ActuallyIncludedAclus', 'RL_Long_rel_num_cells', 'LR_Long_Z', 'RL_Long_Z', 'LR_Short_Z', 'RL_Short_Z']\n",
    "\n",
    "\n",
    "a_row, a_label = get_epoch_label_row(188)\n",
    "a_row\n",
    "\n"
   ]
  },
  {
   "cell_type": "code",
   "execution_count": null,
   "id": "2e08152a",
   "metadata": {},
   "outputs": [],
   "source": [
    "a_row = list(a_row.itertuples())[0]"
   ]
  },
  {
   "cell_type": "code",
   "execution_count": null,
   "id": "2cd51cc0",
   "metadata": {},
   "outputs": [],
   "source": [
    "list(rank_order_raster_debugger.plots_data.keys())\n"
   ]
  },
  {
   "cell_type": "code",
   "execution_count": null,
   "id": "04c4165f",
   "metadata": {},
   "outputs": [],
   "source": [
    "debug_update_plot_titles(rank_order_raster_debugger, an_idx=20)"
   ]
  },
  {
   "cell_type": "code",
   "execution_count": null,
   "id": "aa84ac7f",
   "metadata": {},
   "outputs": [],
   "source": [
    "a_debug_callback_fn(rank_order_raster_debugger, an_idx=20)"
   ]
  },
  {
   "cell_type": "code",
   "execution_count": null,
   "id": "7953c047",
   "metadata": {},
   "outputs": [],
   "source": [
    "list(rank_order_raster_debugger.plots.root_plots.keys())\n"
   ]
  },
  {
   "cell_type": "code",
   "execution_count": null,
   "id": "f84a6dce",
   "metadata": {},
   "outputs": [],
   "source": [
    "directional_likelihoods_tuple: DirectionalRankOrderLikelihoods = ripple_result_tuple.directional_likelihoods_tuple\n",
    "directional_likelihoods_tuple.long_best_direction_indices\n",
    "ripple_result_tuple.rank_order_z_score_df"
   ]
  },
  {
   "cell_type": "code",
   "execution_count": null,
   "id": "9782963d",
   "metadata": {},
   "outputs": [],
   "source": [
    "ripple_result_tuple.rank_order_z_score_df.label"
   ]
  },
  {
   "cell_type": "markdown",
   "id": "1e4b438c",
   "metadata": {
    "notebookRunGroups": {
     "groupValue": "21"
    }
   },
   "source": [
    "### Independent DirectionalTemplatePFsDebugger for testing"
   ]
  },
  {
   "cell_type": "code",
   "execution_count": null,
   "id": "a5f7ac4e",
   "metadata": {
    "notebookRunGroups": {
     "groupValue": "3"
    },
    "tags": [
     "figure"
    ]
   },
   "outputs": [],
   "source": [
    "# _display_directional_laps_overview:\n",
    "curr_active_pipeline.prepare_for_display()\n",
    "curr_active_pipeline.reload_default_display_functions()\n",
    "session_description: str = curr_active_pipeline.get_session_context().get_description()\n",
    "print(f'session_description: {session_description}')\n",
    "pg.setConfigOptions(imageAxisOrder='row-major')\n",
    "# _out = curr_active_pipeline.display(DirectionalPlacefieldGlobalDisplayFunctions._display_directional_laps_overview)\n",
    "_out_all_cells_directional_template_pfs_debugger = curr_active_pipeline.display(DirectionalPlacefieldGlobalDisplayFunctions._display_directional_template_debugger, included_any_context_neuron_ids=None, figure_name='All Cells (Independent)')"
   ]
  },
  {
   "cell_type": "code",
   "execution_count": null,
   "id": "3068edde",
   "metadata": {},
   "outputs": [],
   "source": [
    "plots = _out_all_cells_directional_template_pfs_debugger['plots']\n",
    "a_plot_widget, an_image_item = plots['pf1D_heatmaps']['long_LR'] # (pyqtgraph.widgets.PlotWidget.PlotWidget, pyqtgraph.graphicsItems.ImageItem.ImageItem)\n",
    "a_view_box = an_image_item.getViewBox()\n",
    "a_plot_widget\n"
   ]
  },
  {
   "cell_type": "code",
   "execution_count": null,
   "id": "463fdeb9",
   "metadata": {},
   "outputs": [],
   "source": []
  },
  {
   "cell_type": "code",
   "execution_count": null,
   "id": "84e21235",
   "metadata": {},
   "outputs": [],
   "source": []
  },
  {
   "cell_type": "code",
   "execution_count": null,
   "id": "fe0d6049",
   "metadata": {},
   "outputs": [],
   "source": [
    "rois = []\n",
    "rois.append(pg.RectROI([20, 20], [20, 20], pen=(0,9)))\n"
   ]
  },
  {
   "cell_type": "code",
   "execution_count": null,
   "id": "abc6b65a",
   "metadata": {},
   "outputs": [],
   "source": [
    "\n",
    "# Function to handle hover event\n",
    "def hoverEvent(pos):\n",
    "    print(f'hoverEvent')\n",
    "    index = int(pos.x())\n",
    "    region.setRegion([index, index + 1])  # Highlight the entire row\n",
    "\n",
    "# Add LinearRegionItem for highlighting\n",
    "region = pg.LinearRegionItem(brush='#FFFFFF', hoverBrush='#FFFFFF', movable=False, clipItem=an_image_item)\n",
    "region.setZValue(10)\n",
    "\n",
    "a_plot_widget.addItem(region, ignoreBounds=True)\n",
    "\n",
    "# Connect hover event\n",
    "a_plot_widget.scene().sigMouseMoved.connect(hoverEvent)\n",
    "\n",
    "region.setRegion([0.0, 10.0 + 1])"
   ]
  },
  {
   "cell_type": "code",
   "execution_count": null,
   "id": "e8c5f49d",
   "metadata": {},
   "outputs": [],
   "source": []
  },
  {
   "cell_type": "code",
   "execution_count": null,
   "id": "f40abb53",
   "metadata": {},
   "outputs": [],
   "source": []
  },
  {
   "cell_type": "code",
   "execution_count": null,
   "id": "01b8607b",
   "metadata": {},
   "outputs": [],
   "source": [
    "# Set spike emphasis on debug rasters?\n",
    "\n",
    "# Get debug rasters to match the colors in template viewer?\n",
    "\n",
    "from numpy import ma\n",
    "\n",
    "def _perform_compute_directional_likelihoods_tuple_methods(active_epochs, active_LR_long_z_score=None, active_RL_long_z_score=None, active_LR_short_z_score=None, active_RL_short_z_score=None) -> DirectionalRankOrderLikelihoods:\n",
    "\t\"\"\" Used to switch between three different temporary methods of determining the proper direction.\n",
    "\tcaptures curr_active_pipeline, global_epoch_name \"\"\"\n",
    "\t# ALT_METHOD : main `_compute_best_direction_likelihoods`\n",
    "\t# #TODO 2023-12-12 11:56: - [ ] Should these be saved to the ripple result?\n",
    "\t# spikes_df = deepcopy(curr_active_pipeline.filtered_sessions[global_epoch_name].spikes_df)\n",
    "\t# # Unpacking for `(long_LR_name, long_RL_name, short_LR_name, short_RL_name)`\n",
    "\t# (long_LR_results, long_RL_results, short_LR_results, short_RL_results) = [curr_active_pipeline.computation_results[an_epoch_name]['computed_data'] for an_epoch_name in (long_LR_name, long_RL_name, short_LR_name, short_RL_name)]\n",
    "\t# return cls._compute_best_direction_likelihoods(active_epochs, long_LR_results, long_RL_results, short_LR_results, short_RL_results, spikes_df, decoding_time_bin_size)\n",
    "\n",
    "\t## ALT 2023-12-12 - APPROXIMATE best-direction without using the decoder as a workaround since `cls._compute_best_direction_likelihoods` isn't working yet:\n",
    "\tprint(f'WARNING: approximating best-direction without using the decoder as a workaround.')\n",
    "\n",
    "\t# ALT_METHOD: mean_determined_epoch_dir: `mean_determined_epoch_dir`\n",
    "\t# mean_LR_z_scores = ((np.abs(rank_order_results.LR_ripple.long_z_score) + np.abs(rank_order_results.LR_ripple.short_z_score)) / 2.0)\n",
    "\t# mean_RL_z_scores = ((np.abs(rank_order_results.RL_ripple.long_z_score) + np.abs(rank_order_results.RL_ripple.short_z_score)) / 2.0)\n",
    "\t# mean_determined_epoch_dir = (mean_LR_z_scores >= mean_RL_z_scores).astype(int)\n",
    "\t# long_best_direction_indicies = mean_determined_epoch_dir.copy()\n",
    "\t# short_best_direction_indicies = mean_determined_epoch_dir.copy()\n",
    "\n",
    "\t# ALT_METHOD: best max method:\n",
    "\t# filtered_active_epochs, (active_LR_long_z_score, active_RL_long_z_score, active_LR_short_z_score, active_RL_short_z_score) = rank_order_results.get_aligned_events(active_epochs)\n",
    "\tlong_best_direction_indicies = np.argmax(np.vstack([np.abs(active_LR_long_z_score), np.abs(active_RL_long_z_score)]), axis=0).astype(int)\n",
    "\tshort_best_direction_indicies = np.argmax(np.vstack([np.abs(active_LR_short_z_score), np.abs(active_RL_short_z_score)]), axis=0).astype(int)\n",
    "\n",
    "\t## build the new directional_likelihods_tuple:\n",
    "\t#TODO 2023-12-12 13:50: - [ ] Add `filtered_active_epochs` to the DirectionalRankOrderLikelihoods?\n",
    "\treturn DirectionalRankOrderLikelihoods(long_relative_direction_likelihoods=None, short_relative_direction_likelihoods=None, long_best_direction_indices=long_best_direction_indicies, short_best_direction_indices=short_best_direction_indicies)\n",
    "\n",
    "\n",
    "## Post-process Z-scores with their most likely directions:\n",
    "directional_laps_results: DirectionalLapsResult = curr_active_pipeline.global_computation_results.computed_data['DirectionalLaps']\n",
    "rank_order_results: RankOrderComputationsContainer = curr_active_pipeline.global_computation_results.computed_data['RankOrder']\n",
    "\n",
    "ripple_combined_epoch_stats_df = deepcopy(rank_order_results.ripple_combined_epoch_stats_df)\n",
    "active_replay_epochs = deepcopy(rank_order_results.LR_ripple.epochs_df)\n",
    "\n",
    "_traditional_arg_dict_key_names = ('active_LR_long_z_score', 'active_RL_long_z_score', 'active_LR_short_z_score', 'active_RL_short_z_score')\n",
    "_traditional_arg_dict_values_tuple = (ripple_combined_epoch_stats_df.LR_Long_spearman_Z, ripple_combined_epoch_stats_df.RL_Long_spearman_Z, ripple_combined_epoch_stats_df.LR_Short_spearman_Z, ripple_combined_epoch_stats_df.LR_Short_spearman_Z)\n",
    "active_LR_ripple_long_z_score, active_RL_ripple_long_z_score, active_LR_ripple_short_z_score, active_RL_ripple_short_z_score = ripple_combined_epoch_stats_df.LR_Long_spearman_Z, ripple_combined_epoch_stats_df.RL_Long_spearman_Z, ripple_combined_epoch_stats_df.LR_Short_spearman_Z, ripple_combined_epoch_stats_df.LR_Short_spearman_Z\n",
    "\n",
    "\n",
    "_arg_dict_from_ripple_combined_epoch_stats_df = dict(zip(_traditional_arg_dict_key_names, _traditional_arg_dict_values_tuple))\n",
    "ripple_directional_likelihoods_tuple: DirectionalRankOrderLikelihoods = _perform_compute_directional_likelihoods_tuple_methods(None, **_arg_dict_from_ripple_combined_epoch_stats_df)\n",
    "long_relative_direction_likelihoods, short_relative_direction_likelihoods, long_best_direction_indicies, short_best_direction_indicies = ripple_directional_likelihoods_tuple\n",
    "\n",
    "\n",
    "ripple_evts_long_best_dir_z_score_values = np.where(long_best_direction_indicies, active_LR_ripple_long_z_score, active_RL_ripple_long_z_score)\n",
    "ripple_evts_short_best_dir_z_score_values = np.where(short_best_direction_indicies, active_LR_ripple_short_z_score, active_RL_ripple_short_z_score)\n",
    "ripple_evts_long_short_best_dir_z_score_diff_values = ripple_evts_long_best_dir_z_score_values - ripple_evts_short_best_dir_z_score_values\n",
    "\n",
    "_LR_INDEX = 0\n",
    "_RL_INDEX = 1\n",
    "ripple_masked_z_score_values_list: List[ma.masked_array] = [ma.masked_array(x, mask=np.logical_not(a_mask)) for x, a_mask in zip((active_LR_ripple_long_z_score, active_RL_ripple_long_z_score, active_LR_ripple_short_z_score, active_RL_ripple_short_z_score),\n",
    "\t\t\t\t\t\t\t\t\t\t\t\t\t\t\t\t\t\t\t\t\t\t\t\t\t((long_best_direction_indicies == _LR_INDEX), (long_best_direction_indicies == _RL_INDEX), (short_best_direction_indicies == _LR_INDEX), (short_best_direction_indicies == _RL_INDEX)))]\n",
    "\n",
    "\n",
    "# outputs: ripple_evts_long_short_best_dir_z_score_diff_values\n",
    "ripple_result_tuple: DirectionalRankOrderResult = DirectionalRankOrderResult(active_replay_epochs, long_best_dir_z_score_values=ripple_evts_long_best_dir_z_score_values, short_best_dir_z_score_values=ripple_evts_short_best_dir_z_score_values,\n",
    "\t\t\t\t\t\t\t\t\t\t\t\t\t\t\t\t\t\t\tlong_short_best_dir_z_score_diff_values=ripple_evts_long_short_best_dir_z_score_diff_values, directional_likelihoods_tuple=ripple_directional_likelihoods_tuple,\n",
    "\t\t\t\t\t\t\t\t\t\t\t\t\t\t\t\t\t\t\tmasked_z_score_values_list=ripple_masked_z_score_values_list, rank_order_z_score_df=None)\n",
    "\n"
   ]
  },
  {
   "cell_type": "code",
   "execution_count": null,
   "id": "4f48594d",
   "metadata": {},
   "outputs": [],
   "source": [
    "from pyphoplacecellanalysis.General.Pipeline.Stages.ComputationFunctions.MultiContextComputationFunctions.RankOrderComputations import RankOrderAnalyses\n",
    "\n",
    "## Main\n",
    "ripple_result_tuple, laps_result_tuple = RankOrderAnalyses.most_likely_directional_rank_order_shuffling(curr_active_pipeline, decoding_time_bin_size=0.003)\n",
    "ripple_result_tuple"
   ]
  },
  {
   "cell_type": "code",
   "execution_count": null,
   "id": "296afed9",
   "metadata": {},
   "outputs": [],
   "source": [
    "laps_result_tuple"
   ]
  },
  {
   "cell_type": "code",
   "execution_count": null,
   "id": "886bed92",
   "metadata": {},
   "outputs": [],
   "source": [
    "curr_active_pipeline.global_computation_results.computed_data['RankOrder'].ripple_most_likely_result_tuple, curr_active_pipeline.global_computation_results.computed_data['RankOrder'].laps_most_likely_result_tuple = RankOrderAnalyses.most_likely_directional_rank_order_shuffling(curr_active_pipeline, decoding_time_bin_size=0.006) # 6ms bins"
   ]
  },
  {
   "cell_type": "markdown",
   "id": "220c19f9",
   "metadata": {
    "notebookRunGroups": {
     "groupValue": "2"
    }
   },
   "source": [
    "# Plot the z-scores differences and their raw-values"
   ]
  },
  {
   "cell_type": "code",
   "execution_count": null,
   "id": "8a1cad5d",
   "metadata": {},
   "outputs": [],
   "source": [
    "from pyphoplacecellanalysis.General.Pipeline.Stages.ComputationFunctions.MultiContextComputationFunctions.RankOrderComputations import plot_rank_order_epoch_inst_fr_result_tuples\n",
    "\n",
    "ripple_outputs = plot_rank_order_epoch_inst_fr_result_tuples(curr_active_pipeline, ripple_result_tuple, 'Ripple')"
   ]
  },
  {
   "cell_type": "code",
   "execution_count": null,
   "id": "a156df8d",
   "metadata": {},
   "outputs": [],
   "source": [
    "# Usage of the function for Lap\n",
    "lap_outputs = plot_rank_order_epoch_inst_fr_result_tuples(curr_active_pipeline, laps_result_tuple, 'Lap')"
   ]
  },
  {
   "cell_type": "code",
   "execution_count": null,
   "id": "16e61b9b",
   "metadata": {},
   "outputs": [],
   "source": [
    "rank_order_results."
   ]
  },
  {
   "cell_type": "code",
   "execution_count": null,
   "id": "76430f39",
   "metadata": {},
   "outputs": [],
   "source": [
    "an_idx: int = 154\n",
    "# a_label = lookup_label_from_index(an_idx)\n",
    "# a_label"
   ]
  },
  {
   "cell_type": "code",
   "execution_count": null,
   "id": "3d02079d",
   "metadata": {},
   "outputs": [],
   "source": [
    "active_selected_spikes_df[active_selected_spikes_df['Probe_Epoch_id'] == an_idx]['aclu'].count()"
   ]
  },
  {
   "cell_type": "code",
   "execution_count": null,
   "id": "6b7eeab7",
   "metadata": {},
   "outputs": [],
   "source": [
    "active_selected_spikes_df[active_selected_spikes_df['Probe_Epoch_id'] == an_idx].plot.scatter(x='t_rel_seconds', y='LR_Long_pf_peak_x')"
   ]
  },
  {
   "cell_type": "code",
   "execution_count": null,
   "id": "c36856cb",
   "metadata": {},
   "outputs": [],
   "source": [
    "## filter events by (|z| > 1.0)\n",
    "ripple_result_tuple.active_epochs\n",
    "ripple_result_tuple.long_best_dir_z_score_values"
   ]
  },
  {
   "cell_type": "code",
   "execution_count": null,
   "id": "de5402b9",
   "metadata": {},
   "outputs": [],
   "source": [
    "# ripple_result_tuple.directional_likelihoods_tuple\n",
    "ripple_result_tuple.directional_likelihoods_tuple.long_best_direction_indices[105] # 1, "
   ]
  },
  {
   "cell_type": "code",
   "execution_count": null,
   "id": "23ac85b9",
   "metadata": {},
   "outputs": [],
   "source": [
    "ripple_result_tuple.directional_likelihoods_tuple.short_best_direction_indices[105]"
   ]
  },
  {
   "cell_type": "code",
   "execution_count": null,
   "id": "751e2ba3",
   "metadata": {},
   "outputs": [],
   "source": [
    "ripple_result_tuple.long_best_dir_z_score_values[105]"
   ]
  },
  {
   "cell_type": "code",
   "execution_count": null,
   "id": "9372e0f2",
   "metadata": {},
   "outputs": [],
   "source": [
    "ripple_result_tuple.short_best_dir_z_score_values[105]"
   ]
  },
  {
   "cell_type": "code",
   "execution_count": null,
   "id": "e57c1873",
   "metadata": {},
   "outputs": [],
   "source": [
    "ripple_result_tuple.active_epochs"
   ]
  },
  {
   "cell_type": "code",
   "execution_count": null,
   "id": "905e6b71",
   "metadata": {},
   "outputs": [],
   "source": [
    "np.shape(ripple_result_tuple.long_best_dir_z_score_values)"
   ]
  },
  {
   "cell_type": "code",
   "execution_count": null,
   "id": "ff13302a",
   "metadata": {},
   "outputs": [],
   "source": [
    "np.shape(ripple_result_tuple.short_best_dir_z_score_values)"
   ]
  },
  {
   "cell_type": "code",
   "execution_count": null,
   "id": "c18e3936",
   "metadata": {},
   "outputs": [],
   "source": [
    "global_replays.n_epochs"
   ]
  },
  {
   "cell_type": "code",
   "execution_count": null,
   "id": "9e99e913",
   "metadata": {},
   "outputs": [],
   "source": [
    "global_replays"
   ]
  },
  {
   "cell_type": "code",
   "execution_count": null,
   "id": "4d468a50",
   "metadata": {},
   "outputs": [],
   "source": [
    "ratemap = long_pf1D.ratemap\n",
    "ratemap.tuning_curve_unsmoothed_peak_firing_rates"
   ]
  },
  {
   "cell_type": "code",
   "execution_count": null,
   "id": "77bebb16",
   "metadata": {},
   "outputs": [],
   "source": [
    "type(rank_order_results)"
   ]
  },
  {
   "cell_type": "code",
   "execution_count": null,
   "id": "c6b025f2",
   "metadata": {},
   "outputs": [],
   "source": [
    "from pyphoplacecellanalysis.General.Pipeline.Stages.ComputationFunctions.MultiContextComputationFunctions.RankOrderComputations import DirectionalRankOrderResult\n",
    "\n",
    "# type(ripple_result_tuple)\n",
    "ripple_result_tuple.plot_histograms()"
   ]
  },
  {
   "cell_type": "code",
   "execution_count": null,
   "id": "628ae69d",
   "metadata": {},
   "outputs": [],
   "source": [
    "ripple_result_tuple.directional_likelihoods_tuple.long_relative_direction_likelihoods.shape"
   ]
  },
  {
   "cell_type": "code",
   "execution_count": null,
   "id": "be485e17",
   "metadata": {},
   "outputs": [],
   "source": [
    "ripple_result_tuple.directional_likelihoods_tuple.short_relative_direction_likelihoods.shape"
   ]
  },
  {
   "cell_type": "code",
   "execution_count": null,
   "id": "dcd965be",
   "metadata": {},
   "outputs": [],
   "source": [
    "ripple_result_tuple.directional_likelihoods_tuple.long_best_direction_indices"
   ]
  },
  {
   "cell_type": "code",
   "execution_count": null,
   "id": "0750edae",
   "metadata": {},
   "outputs": [],
   "source": [
    "ripple_result_tuple.short_best_dir_z_score_values"
   ]
  },
  {
   "cell_type": "code",
   "execution_count": null,
   "id": "3213cd164073dbb3",
   "metadata": {
    "ExecuteTime": {
     "end_time": "2023-11-16T23:24:06.810860500Z",
     "start_time": "2023-11-16T23:24:06.644858700Z"
    }
   },
   "outputs": [],
   "source": [
    "# 2023-11-16_LapsRankOrderHistogram Figure:\n",
    "pd.DataFrame({'long_z_scores': laps_result_tuple.long_best_dir_z_score_values, 'short_z_scores': laps_result_tuple.short_best_dir_z_score_values}).hist()"
   ]
  },
  {
   "cell_type": "markdown",
   "id": "f1f2a9a6",
   "metadata": {},
   "source": [
    "# Create a new `SpikeRaster2D` instance using `_display_spike_raster_pyqtplot_2D` and capture its outputs:\n"
   ]
  },
  {
   "cell_type": "code",
   "execution_count": null,
   "id": "7cc87fb8",
   "metadata": {},
   "outputs": [],
   "source": [
    "curr_active_pipeline.prepare_for_display()"
   ]
  },
  {
   "cell_type": "code",
   "execution_count": null,
   "id": "82cc7400",
   "metadata": {},
   "outputs": [],
   "source": [
    "# Create a new `SpikeRaster2D` instance using `_display_spike_raster_pyqtplot_2D` and capture its outputs:\n",
    "# active_2d_plot, active_3d_plot, spike_raster_window = curr_active_pipeline.plot._display_spike_rasters_pyqtplot_2D()\n",
    "\n",
    "active_2d_plot, active_3d_plot, spike_raster_window = curr_active_pipeline.display('_display_spike_rasters_pyqtplot_2D', 'maze_any') # 'maze_any'\n"
   ]
  },
  {
   "cell_type": "code",
   "execution_count": null,
   "id": "39840338",
   "metadata": {},
   "outputs": [],
   "source": [
    "active_2d_plot, active_3d_plot, spike_raster_window = curr_active_pipeline.plot._display_spike_rasters_pyqtplot_2D()\n"
   ]
  },
  {
   "cell_type": "code",
   "execution_count": null,
   "id": "e75eb376",
   "metadata": {},
   "outputs": [],
   "source": [
    "spike_raster_window"
   ]
  },
  {
   "cell_type": "code",
   "execution_count": null,
   "id": "10b7afeb",
   "metadata": {},
   "outputs": [],
   "source": [
    "spikes_window = spike_raster_window.spikes_window # SpikesDataframeWindow\n",
    "\n",
    "bottomPlaybackControlBarWidget = spike_raster_window.ui.bottomPlaybackControlBarWidget # Spike3DRasterBottomPlaybackControlBar \n",
    "\n",
    "doubleSpinBox_ActiveWindowStartTime = bottomPlaybackControlBarWidget.ui.doubleSpinBox_ActiveWindowStartTime\n",
    "doubleSpinBox_ActiveWindowEndTime = bottomPlaybackControlBarWidget.ui.doubleSpinBox_ActiveWindowEndTime\n",
    "\n",
    "\n",
    "# spikes_window.timeWindow.start\n",
    "# spikes_window.active_window_start_time\n",
    "# spikes_window.update_window_start_end(451.8908457518555, 451.9895490613999) ## Works but does not trigger refresh/update of the window. The changes are reflected as soon as you try to scroll at all though.\n",
    "# spikes_window.active_window_end_time\n",
    "\n",
    "print(f'spikes_window.active_window_start_time: {spikes_window.active_window_start_time}, spikes_window.active_window_end_time: {spikes_window.active_window_end_time}')\n",
    "# need to block signals:\n",
    "# doubleSpinBox_ActiveWindowStartTime.blockSignals(True)\n",
    "# doubleSpinBox_ActiveWindowEndTime.blockSignals(True)\n",
    "doubleSpinBox_ActiveWindowStartTime.setValue(spikes_window.active_window_start_time)\n",
    "doubleSpinBox_ActiveWindowEndTime.setValue(spikes_window.active_window_end_time)\n",
    "# doubleSpinBox_ActiveWindowStartTime.blockSignals(False) # unblock the signals when done\n",
    "# doubleSpinBox_ActiveWindowEndTime.blockSignals(False)\n",
    "\n",
    "\n",
    "# @pyqtExceptionPrintingSlot(float, float)\n",
    "def on_active_window_changed(start_t, end_t, _obj):\n",
    "\t# need to block signals:\n",
    "\t# doubleSpinBox_ActiveWindowStartTime.blockSignals(True)\n",
    "\t# doubleSpinBox_ActiveWindowEndTime.blockSignals(True)\n",
    "\tif start_t is not None:\n",
    "\t\tdoubleSpinBox_ActiveWindowStartTime.setValue(start_t)\n",
    "\tif end_t is not None:\n",
    "\t\tdoubleSpinBox_ActiveWindowEndTime.setValue(end_t)\n",
    "\t# doubleSpinBox_ActiveWindowStartTime.blockSignals(False) # unblock the signals when done\n",
    "\t# doubleSpinBox_ActiveWindowEndTime.blockSignals(False)\n",
    "\n",
    "curr_window_ctrls_connection = spikes_window.windowed_data_window_updated_signal.connect(on_active_window_changed)\n"
   ]
  },
  {
   "cell_type": "code",
   "execution_count": null,
   "id": "113a3acd",
   "metadata": {},
   "outputs": [],
   "source": [
    "doubleSpinBox_ActiveWindowStartTime.setReadOnly(True)\n",
    "doubleSpinBox_ActiveWindowEndTime.setReadOnly(True)\n",
    "\n",
    "spikes_window.on_window_changed.connect("
   ]
  },
  {
   "cell_type": "code",
   "execution_count": null,
   "id": "8319e362",
   "metadata": {},
   "outputs": [],
   "source": [
    "doubleSpinBox_ActiveWindowStartTime.setVisible(False)\n",
    "bottomPlaybackControlBarWidget.setVisible(False)"
   ]
  },
  {
   "cell_type": "code",
   "execution_count": null,
   "id": "01d043d6",
   "metadata": {},
   "outputs": [],
   "source": [
    "# global_epoch_context\n",
    "curr_active_pipeline.reload_default_display_functions()\n",
    "# curr_active_pipeline.prepare_for_display()\n",
    "curr_active_pipeline.clear_display_outputs()\n"
   ]
  },
  {
   "cell_type": "code",
   "execution_count": null,
   "id": "2441e547",
   "metadata": {},
   "outputs": [],
   "source": [
    "# Gets the existing SpikeRasterWindow or creates a new one if one doesn't already exist:\n",
    "from pyphocorehelpers.gui.Qt.TopLevelWindowHelper import TopLevelWindowHelper\n",
    "import pyphoplacecellanalysis.External.pyqtgraph as pg # Used to get the app for TopLevelWindowHelper.top_level_windows\n",
    "## For searching with `TopLevelWindowHelper.all_widgets(...)`:\n",
    "from pyphoplacecellanalysis.GUI.PyQtPlot.Widgets.SpikeRasterWidgets.Spike2DRaster import Spike2DRaster\n",
    "from pyphoplacecellanalysis.GUI.PyQtPlot.Widgets.SpikeRasterWidgets.Spike3DRaster import Spike3DRaster\n",
    "from pyphoplacecellanalysis.GUI.Qt.SpikeRasterWindows.Spike3DRasterWindowWidget import Spike3DRasterWindowWidget\n",
    "\n",
    "found_spike_raster_windows = TopLevelWindowHelper.all_widgets(pg.mkQApp(), searchType=Spike3DRasterWindowWidget)\n",
    "\n",
    "if len(found_spike_raster_windows) < 1:\n",
    "\t# no existing spike_raster_windows. Make a new one\n",
    "\tprint(f'no existing SpikeRasterWindow. Creating a new one.')\n",
    "\t# Create a new `SpikeRaster2D` instance using `_display_spike_raster_pyqtplot_2D` and capture its outputs:\n",
    "\t# active_2d_plot, active_3d_plot, spike_raster_window = curr_active_pipeline.plot._display_spike_rasters_pyqtplot_2D()\n",
    "\n",
    "\tactive_2d_plot, active_3d_plot, spike_raster_window = curr_active_pipeline.plot._display_spike_rasters_pyqtplot_2D()\n",
    "\n",
    "else:\n",
    "\tprint(f'found {len(found_spike_raster_windows)} existing Spike3DRasterWindowWidget windows using TopLevelWindowHelper.all_widgets(...). Will use the most recent.')\n",
    "\t# assert len(found_spike_raster_windows) == 1, f\"found {len(found_spike_raster_windows)} Spike3DRasterWindowWidget windows using TopLevelWindowHelper.all_widgets(...) but require exactly one.\"\n",
    "\t# Get the most recent existing one and reuse that:\n",
    "\tspike_raster_window = found_spike_raster_windows[0]\n",
    "\n",
    "\n",
    "# Extras:\n",
    "active_2d_plot = spike_raster_window.spike_raster_plt_2d # <pyphoplacecellanalysis.GUI.PyQtPlot.Widgets.SpikeRasterWidgets.Spike2DRaster.Spike2DRaster at 0x196c7244280>\n",
    "active_3d_plot = spike_raster_window.spike_raster_plt_3d # <pyphoplacecellanalysis.GUI.PyQtPlot.Widgets.SpikeRasterWidgets.Spike2DRaster.Spike2DRaster at 0x196c7244280>\n",
    "main_graphics_layout_widget = active_2d_plot.ui.main_graphics_layout_widget # GraphicsLayoutWidget\n",
    "main_plot_widget = active_2d_plot.plots.main_plot_widget # PlotItem\n",
    "background_static_scroll_plot_widget = active_2d_plot.plots.background_static_scroll_window_plot # PlotItem"
   ]
  },
  {
   "cell_type": "code",
   "execution_count": null,
   "id": "7c6338da",
   "metadata": {},
   "outputs": [],
   "source": [
    "spike_raster_window.isVisible() # False\n",
    "# spike_raster_window.show()\n",
    "spike_raster_window.close()"
   ]
  },
  {
   "cell_type": "code",
   "execution_count": null,
   "id": "0bafe4df",
   "metadata": {},
   "outputs": [],
   "source": [
    "spike_raster_window.connection_man.active_connections"
   ]
  },
  {
   "cell_type": "code",
   "execution_count": null,
   "id": "0a801d59",
   "metadata": {},
   "outputs": [],
   "source": [
    "found_any_window = TopLevelWindowHelper.top_level_windows(pg.mkQApp())\n",
    "found_any_window"
   ]
  },
  {
   "cell_type": "code",
   "execution_count": null,
   "id": "17d815bb",
   "metadata": {},
   "outputs": [],
   "source": [
    "# print windows:\n",
    "[print_widget_hierarchy(v) for k, v in found_any_window.items()]"
   ]
  },
  {
   "cell_type": "code",
   "execution_count": null,
   "id": "5c00e166",
   "metadata": {},
   "outputs": [],
   "source": [
    "_display_out = curr_active_pipeline.last_added_display_output\n"
   ]
  },
  {
   "cell_type": "code",
   "execution_count": null,
   "id": "b06ea13e",
   "metadata": {},
   "outputs": [],
   "source": [
    "ipspikesDataExplorer = _display_out['ipspikesDataExplorer']\n",
    "pActiveSpikesBehaviorPlotter = _display_out['plotter']\n"
   ]
  },
  {
   "cell_type": "code",
   "execution_count": null,
   "id": "2c92cd2f",
   "metadata": {},
   "outputs": [],
   "source": [
    " = curr_active_pipeline.last_added_display_output\n",
    "_display_out\n"
   ]
  },
  {
   "cell_type": "code",
   "execution_count": null,
   "id": "e02ac639",
   "metadata": {},
   "outputs": [],
   "source": [
    "ipspikesDataExplorer = self._display_output['ipspikesDataExplorer']"
   ]
  },
  {
   "cell_type": "code",
   "execution_count": null,
   "id": "bd461fb3",
   "metadata": {},
   "outputs": [],
   "source": [
    "### Adjusting Spike Emphasis:\n",
    "#### Usage Examples:\n",
    "from pyphoplacecellanalysis.General.Mixins.SpikesRenderingBaseMixin import SpikeEmphasisState\n",
    "from neuropy.core.neuron_identities import NeuronType\n"
   ]
  },
  {
   "cell_type": "code",
   "execution_count": null,
   "id": "b1dd5449",
   "metadata": {},
   "outputs": [],
   "source": [
    "\n",
    "## Example 1: De-emphasize spikes excluded from the placefield calculations:\n",
    "is_spike_included_in_pf = np.isin(spike_raster_window.spike_raster_plt_2d.spikes_df.index, active_pf_2D.filtered_spikes_df.index)\n",
    "spike_raster_window.spike_raster_plt_2d.update_spike_emphasis(np.logical_not(is_spike_included_in_pf), SpikeEmphasisState.Deemphasized)\n",
    "\n",
    "## Example 2: De-emphasize spikes that don't have their 'aclu' from a given set of indicies:\n",
    "is_spike_included = spike_raster_window.spike_raster_plt_2d.spikes_df.aclu.to_numpy() == 2\n",
    "spike_raster_window.spike_raster_plt_2d.update_spike_emphasis(np.logical_not(is_spike_included), SpikeEmphasisState.Deemphasized)\n",
    "\n",
    "## Example 3: De-emphasize all spikes \n",
    "active_2d_plot.update_spike_emphasis(new_emphasis_state=SpikeEmphasisState.Deemphasized)\n",
    "\n",
    "## Example 4: Hide all spikes entirely\n",
    "active_2d_plot.update_spike_emphasis(new_emphasis_state=SpikeEmphasisState.Hidden)\n"
   ]
  },
  {
   "cell_type": "code",
   "execution_count": null,
   "id": "98b9a61d",
   "metadata": {},
   "outputs": [],
   "source": [
    "## Setup: Hide all non-pyramidal spikes entirely\n",
    "spikes_df = spike_raster_window.spikes_df\n",
    "spike_raster_window.spike_raster_plt_2d.update_spike_emphasis(np.logical_not((spikes_df.neuron_type == NeuronType.from_string('pyr'))), SpikeEmphasisState.Hidden)"
   ]
  },
  {
   "cell_type": "code",
   "execution_count": null,
   "id": "f3feb699",
   "metadata": {},
   "outputs": [],
   "source": [
    "spikes_window = spike_raster_window.spikes_window # SpikesDataframeWindow\n",
    "# spikes_window.update_window_start_end(451.8908457518555, 451.9895490613999) ## Works but does not trigger refresh/update of the window. The changes are reflected as soon as you try to scroll at all though.\n"
   ]
  },
  {
   "cell_type": "code",
   "execution_count": null,
   "id": "1ae85b4a",
   "metadata": {},
   "outputs": [],
   "source": [
    "# 20*60.0 + 50.0 +  0.218 = 1250.218\n",
    "\n",
    "spikes_window.update_window_start_end(1250.218, (1250.218 + 3.0))\n",
    "\n"
   ]
  },
  {
   "cell_type": "code",
   "execution_count": null,
   "id": "325548b0",
   "metadata": {},
   "outputs": [],
   "source": [
    "spikes_window.window_duration # Prints the current window's duration. The win. dur. label control in the left bar is not updated.\n",
    "\n",
    "desired_window_fraction: float = 0.1 # 10% of the window is the default jump size\n",
    "relevant_jump_duration: float = spikes_window.window_duration * desired_window_fraction\n",
    "relevant_jump_duration\n"
   ]
  },
  {
   "cell_type": "code",
   "execution_count": null,
   "id": "7bc81002",
   "metadata": {},
   "outputs": [],
   "source": [
    "from pyphoplacecellanalysis.PhoPositionalData.plotting.mixins.spikes_mixins import SpikeRenderingPyVistaMixin\n",
    "from pyphoplacecellanalysis.GUI.PyVista.InteractivePlotter.InteractivePlaceCellTuningCurvesDataExplorer import InteractivePlaceCellTuningCurvesDataExplorer\n",
    "# from pyphoplacecellanalysis.GUI.PyVista.InteractivePlotter.InteractivePlaceCellTuningCurvesDataExplorer import InteractivePlaceCellTuningCurvesDataExplorer\n",
    "from pyphoplacecellanalysis.GUI.PyVista.InteractivePlotter.InteractivePlaceCellDataExplorer import InteractivePlaceCellDataExplorer\n",
    "\n",
    "found_windows_of_type = TopLevelWindowHelper.all_widgets(pg.mkQApp(), searchType=InteractivePlaceCellDataExplorer)\n",
    "found_windows_of_type\n",
    "TopLevelWindowHelper.top_level_windows(pg.mkQApp(), only_visible=True)"
   ]
  },
  {
   "cell_type": "code",
   "execution_count": null,
   "id": "e2abd93f",
   "metadata": {},
   "outputs": [],
   "source": [
    "(451.8908457518555, 451.9895490613999)"
   ]
  },
  {
   "cell_type": "code",
   "execution_count": null,
   "id": "6c418968",
   "metadata": {},
   "outputs": [],
   "source": [
    "from pyphoplacecellanalysis.SpecificResults.PhoDiba2023Paper import BatchPhoJonathanFiguresHelper\n",
    "\n",
    "fig_1c_figures_out_dict = BatchPhoJonathanFiguresHelper.run(curr_active_pipeline, neuron_replay_stats_df, included_unit_neuron_IDs=XOR_subset.track_exclusive_aclus, n_max_page_rows=20, write_vector_format=False, write_png=True, disable_top_row=True) # active_out_figures_dict: {IdentifyingContext<('kdiba', 'gor01', 'two', '2006-6-07_16-40-19', 'BatchPhoJonathanReplayFRC', 'long_only', '(12,21,48)')>: <Figure size 1920x660 with 12 Axes>, IdentifyingContext<('kdiba', 'gor01', 'two', '2006-6-07_16-40-19', 'BatchPhoJonathanReplayFRC', 'short_only', '(18,19,65)')>: <Figure size 1920x660 with 12 Axes>}"
   ]
  },
  {
   "cell_type": "markdown",
   "id": "2ea2f309",
   "metadata": {},
   "source": [
    "# PhoKamran2023Paper Results"
   ]
  },
  {
   "cell_type": "code",
   "execution_count": null,
   "id": "85a7dd8b",
   "metadata": {},
   "outputs": [],
   "source": [
    "pg.setConfigOptions(background='white', foreground='black') # black on white background (more traditional) color scheme"
   ]
  },
  {
   "cell_type": "markdown",
   "id": "162d813d",
   "metadata": {},
   "source": [
    "## Figure 1) pf1D Ratemaps, Active set, etc"
   ]
  },
  {
   "cell_type": "code",
   "execution_count": null,
   "id": "273696fc",
   "metadata": {},
   "outputs": [],
   "source": [
    "from pyphoplacecellanalysis.General.Pipeline.Stages.DisplayFunctions.SpikeRasters import plot_multiple_raster_plot, plot_raster_plot\n",
    "from pyphoplacecellanalysis.Pho2D.matplotlib.visualize_heatmap import visualize_heatmap_pyqtgraph # used in `plot_kourosh_activity_style_figure`\n",
    "from pyphoplacecellanalysis.SpecificResults.PhoDiba2023Paper import PAPER_FIGURE_figure_1_full, PAPER_FIGURE_figure_1_add_replay_epoch_rasters\n",
    "\n",
    "curr_active_pipeline.prepare_for_display()\n",
    "pf1d_compare_graphics, (example_epoch_rasters_L, example_epoch_rasters_S), example_stacked_epoch_graphics, fig_1c_figures_out_dict = PAPER_FIGURE_figure_1_full(curr_active_pipeline) # did not display the pf1"
   ]
  },
  {
   "cell_type": "code",
   "execution_count": null,
   "id": "84fa9acc",
   "metadata": {},
   "outputs": [],
   "source": [
    "# rdf = jonathan_firing_rate_analysis_result.rdf.rdf\n",
    "# rdf\n",
    "# ==================================================================================================================== #\n",
    "# Fig 1c) 2023-07-14 - LxC and SxC PhoJonathanSession plots                                                            #\n",
    "# ==================================================================================================================== #\n",
    "from pyphoplacecellanalysis.General.Batch.NonInteractiveProcessing import BatchPhoJonathanFiguresHelper\n",
    "\n",
    "## Get global 'jonathan_firing_rate_analysis' results:\n",
    "curr_jonathan_firing_rate_analysis = curr_active_pipeline.global_computation_results.computed_data['jonathan_firing_rate_analysis']\n",
    "neuron_replay_stats_df, rdf, aclu_to_idx, irdf = curr_jonathan_firing_rate_analysis.neuron_replay_stats_df, curr_jonathan_firing_rate_analysis.rdf.rdf, curr_jonathan_firing_rate_analysis.rdf.aclu_to_idx, curr_jonathan_firing_rate_analysis.irdf.irdf\n",
    "\n",
    "fig_1c_figures_out_dict = BatchPhoJonathanFiguresHelper.run(curr_active_pipeline, neuron_replay_stats_df, included_unit_neuron_IDs=XOR_subset.track_exclusive_aclus, n_max_page_rows=20, write_vector_format=False, write_png=True, disable_top_row=True) # active_out_figures_dict: {IdentifyingContext<('kdiba', 'gor01', 'two', '2006-6-07_16-40-19', 'BatchPhoJonathanReplayFRC', 'long_only', '(12,21,48)')>: <Figure size 1920x660 with 12 Axes>, IdentifyingContext<('kdiba', 'gor01', 'two', '2006-6-07_16-40-19', 'BatchPhoJonathanReplayFRC', 'short_only', '(18,19,65)')>: <Figure size 1920x660 with 12 Axes>}\n"
   ]
  },
  {
   "cell_type": "markdown",
   "id": "5cba3c7a",
   "metadata": {},
   "source": [
    "## Figure 2) `PaperFigureTwo`: LxC/SxC Analyses\n",
    "Note: this fails when SxC or LxC are empty for this session (as it's not meaningful to produce a comparison bar plot). In this case, aggregate across multiple sessions."
   ]
  },
  {
   "cell_type": "code",
   "execution_count": null,
   "id": "97d3e1ff",
   "metadata": {},
   "outputs": [],
   "source": [
    "from pyphoplacecellanalysis.SpecificResults.PhoDiba2023Paper import PaperFigureTwo\n",
    "\n",
    "_out_fig_2 = PaperFigureTwo(instantaneous_time_bin_size_seconds=0.01) # 10ms\n",
    "_out_fig_2.compute(curr_active_pipeline=curr_active_pipeline)\n",
    "_out_fig_2.display()"
   ]
  },
  {
   "cell_type": "markdown",
   "id": "14a52142",
   "metadata": {},
   "source": [
    "## Figure 3) `PAPER_FIGURE_figure_3`: Firing Rate Index and Long/Short Firing Rate Replays v. Laps"
   ]
  },
  {
   "cell_type": "code",
   "execution_count": null,
   "id": "5f765ed6",
   "metadata": {},
   "outputs": [],
   "source": [
    "from neuropy.utils.matplotlib_helpers import FormattedFigureText\n",
    "from pyphoplacecellanalysis.General.Pipeline.Stages.DisplayFunctions.MultiContextComparingDisplayFunctions.LongShortTrackComparingDisplayFunctions import _plot_long_short_firing_rate_indicies\n",
    "# curr_active_pipeline.reload_default_display_functions()\n",
    "\n",
    "_out, _out2 = PAPER_FIGURE_figure_3(curr_active_pipeline, defer_render=False, save_figure=True)"
   ]
  },
  {
   "cell_type": "markdown",
   "id": "a909c676",
   "metadata": {},
   "source": [
    "##  All Programmatic Plots"
   ]
  },
  {
   "cell_type": "code",
   "execution_count": null,
   "id": "d6bcb738",
   "metadata": {},
   "outputs": [],
   "source": [
    "from pyphoplacecellanalysis.General.Batch.NonInteractiveProcessing import batch_perform_all_plots\n",
    "\n",
    "\n",
    "batch_perform_all_plots(curr_active_pipeline, enable_neptune=False, neptuner=None)"
   ]
  },
  {
   "cell_type": "markdown",
   "metadata": {},
   "source": [
    "# Simple ActiveSet Directional Determination"
   ]
  },
  {
   "cell_type": "code",
   "execution_count": null,
   "id": "a186598d",
   "metadata": {},
   "outputs": [],
   "source": [
    "from pyphoplacecellanalysis.General.Pipeline.Stages.ComputationFunctions.MultiContextComputationFunctions.RankOrderComputations import RankOrderResult\n",
    "from pyphocorehelpers.indexing_helpers import bidirectional_setdiff1d\n",
    "\n",
    "# rank_order_results.LR_ripple.extra_info_dict\n",
    "\n",
    "# active_epochs_df\n"
   ]
  },
  {
   "cell_type": "code",
   "execution_count": null,
   "id": "9461dd10",
   "metadata": {},
   "outputs": [],
   "source": [
    "bidirectional_setdiff1d(rank_order_results.LR_ripple.epochs_df.label.to_numpy(), rank_order_results.RL_ripple.epochs_df.label.to_numpy())"
   ]
  },
  {
   "cell_type": "code",
   "execution_count": null,
   "id": "659582bc",
   "metadata": {},
   "outputs": [],
   "source": [
    "# spikes_df.flat_spike_idx\n",
    "# np.setdiff1d(rank_order_results.LR_ripple.spikes_df.flat_spike_idx.to_numpy(), rank_order_results.RL_ripple.spikes_df.flat_spike_idx.to_numpy())\n",
    "bidirectional_setdiff1d(rank_order_results.LR_ripple.spikes_df.flat_spike_idx.to_numpy(), rank_order_results.RL_ripple.spikes_df.flat_spike_idx.to_numpy())"
   ]
  },
  {
   "cell_type": "code",
   "execution_count": null,
   "id": "49c8873c",
   "metadata": {},
   "outputs": [],
   "source": [
    "display(bidirectional_setdiff1d(rank_order_results.LR_ripple.spikes_df.label.to_numpy(), rank_order_results.RL_ripple.epochs_df.label.to_numpy()))\n",
    "display(np.setdiff1d(rank_order_results.LR_ripple.spikes_df.label.to_numpy(), rank_order_results.RL_ripple.epochs_df.label.to_numpy()))"
   ]
  },
  {
   "cell_type": "code",
   "execution_count": null,
   "id": "43a2d1f7",
   "metadata": {},
   "outputs": [],
   "source": [
    "rank_order_results.RL_ripple.epochs_df"
   ]
  },
  {
   "cell_type": "code",
   "execution_count": 62,
   "id": "e463c88a",
   "metadata": {},
   "outputs": [],
   "source": [
    "from pyphoplacecellanalysis.General.Pipeline.Stages.ComputationFunctions.MultiContextComputationFunctions.RankOrderComputations import RankOrderComputationsContainer\n",
    "# from PendingNotebookCode import epoch_directionality_active_set_evidence\n",
    "from pyphoplacecellanalysis.General.Pipeline.Stages.ComputationFunctions.MultiContextComputationFunctions.RankOrderComputations import RankOrderAnalyses\n",
    "from pyphoplacecellanalysis.General.Pipeline.Stages.ComputationFunctions.MultiContextComputationFunctions.RankOrderComputations import DirectionalRankOrderLikelihoods\n",
    "\n",
    "# active_epochs_df.label.astype(label_column_type).map(lambda x: rank_order_results.LR_ripple.epoch_template_active_aclus[x])\n",
    "\n",
    "# ['LR_Long_ActuallyIncludedAclus', 'RL_Long_ActuallyIncludedAclus', 'LR_Short_ActuallyIncludedAclus', 'RL_Short_ActuallyIncludedAclus']\n",
    "\n",
    "# rank_order_results.LR_laps.epochs_df = add_active_aclus_info(rank_order_results, active_epochs_df=rank_order_results.LR_laps.epochs_df, is_laps=True)\n",
    "# rank_order_results.RL_laps.epochs_df = add_active_aclus_info(rank_order_results, active_epochs_df=rank_order_results.RL_laps.epochs_df, is_laps=True)\n",
    "\n",
    "# rank_order_results.LR_ripple.epochs_df = add_active_aclus_info(rank_order_results, active_epochs_df=rank_order_results.LR_ripple.epochs_df, is_laps=False)\n",
    "# rank_order_results.RL_ripple.epochs_df = add_active_aclus_info(rank_order_results, active_epochs_df=rank_order_results.RL_ripple.epochs_df, is_laps=False)\n",
    "\n"
   ]
  },
  {
   "cell_type": "code",
   "execution_count": 63,
   "metadata": {},
   "outputs": [],
   "source": [
    "\n",
    "rank_order_results.ripple_most_likely_result_tuple, rank_order_results.laps_most_likely_result_tuple = None, None"
   ]
  },
  {
   "cell_type": "code",
   "execution_count": 69,
   "metadata": {},
   "outputs": [
    {
     "data": {
      "text/plain": [
       "array([0.524619, 0.532065, 0.526262, 0.531576, 0.543372, 0.524335, 0.543576, 0.537815, 0.520777, 0.536865, 0.526262, 0.534945, 0.537222, 0.539937, 0.51875, 0.530008, 0.522368, 0.548632, 0.522144, 0.54591, 0.51384, 0.551665, 0.500207, 0.539937, 0.543366, 0.550332, 0.533054, 0.551254, 0.532536, 0.536865, 0.532536, 0.539937, 0.512283, 0.526262, 0.518631, 0.535646, 0.522234, 0.528452, 0.525323, 0.527709, 0.525638, 0.526262, 0.51875, 0.538496, 0.5265, 0.551665, 0.526262, 0.558667, 0.526262, 0.523075, 0.532536, 0.554471, 0.526262, 0.535494, 0.515592, 0.526262, 0.515592, 0.532872, 0.518402, 0.560276, 0.506059, 0.554471, 0.503252, 0.553954, 0.532848, 0.54386, 0.549881, 0.535646, 0.522252, 0.539764, 0.526262, 0.526262, 0.539743, 0.526262, 0.515115, 0.543636, 0.51875, 0.543981, 0.547612, 0.562844])"
      ]
     },
     "execution_count": 69,
     "metadata": {},
     "output_type": "execute_result"
    }
   ],
   "source": [
    "rank_order_results.adding_active_aclus_info()\n",
    "rank_order_results.ripple_most_likely_result_tuple, rank_order_results.laps_most_likely_result_tuple = RankOrderAnalyses.most_likely_directional_rank_order_shuffling(curr_active_pipeline, decoding_time_bin_size=0.006) # 6ms bins\n",
    "        \n",
    "rank_order_results.laps_most_likely_result_tuple.directional_likelihoods_tuple.long_relative_direction_likelihoods"
   ]
  },
  {
   "cell_type": "code",
   "execution_count": 67,
   "metadata": {},
   "outputs": [
    {
     "data": {
      "text/plain": [
       "array([ True,  True,  True,  True,  True,  True,  True,  True,  True,  True,  True,  True,  True,  True,  True,  True,  True,  True,  True,  True,  True,  True,  True,  True,  True,  True,  True,  True,  True,  True,  True,  True,  True,  True,  True,  True,  True,  True,  True,  True,  True,  True,  True,  True,  True,  True,  True,  True,  True,  True,  True,  True,  True,  True,  True,  True,  True,  True,  True,  True,  True,  True,  True,  True,  True,  True,  True,  True,  True,  True,  True,  True,  True,  True,  True,  True,  True,  True,  True,  True])"
      ]
     },
     "execution_count": 67,
     "metadata": {},
     "output_type": "execute_result"
    }
   ],
   "source": [
    "rank_order_results.laps_most_likely_result_tuple.directional_likelihoods_tuple.short_best_direction_indices\n"
   ]
  },
  {
   "cell_type": "code",
   "execution_count": null,
   "metadata": {},
   "outputs": [],
   "source": [
    "\n",
    "\n",
    "long_best_direction_indicies = np.argmax(np.vstack([np.abs(active_LR_long_z_score), np.abs(active_RL_long_z_score)]), axis=0).astype(int)\n",
    "short_best_direction_indicies = np.argmax(np.vstack([np.abs(active_LR_short_z_score), np.abs(active_RL_short_z_score)]), axis=0).astype(int)"
   ]
  },
  {
   "cell_type": "code",
   "execution_count": 50,
   "metadata": {},
   "outputs": [
    {
     "data": {
      "text/plain": [
       "array([1, 1, 1, 1, 1, 1, 1, 1, 1, 1, 1, 1, 1, 1, 1, 1, 1, 1, 1, 1, 1, 1, 1, 1, 1, 1, 1, 1, 1, 1, 1, 1, 1, 1, 1, 1, 1, 1, 1, 1, 1, 1, 1, 1, 1, 1, 1, 1, 1, 1, 1, 1, 1, 1, 1, 1, 1, 1, 1, 1, 1, 1, 1, 1, 1, 1, 1, 1, 1, 1, 1, 1, 1, 1, 1, 1, 1, 1, 1, 1])"
      ]
     },
     "execution_count": 50,
     "metadata": {},
     "output_type": "execute_result"
    }
   ],
   "source": [
    "recovered_lap_epochs = rank_order_results.laps_most_likely_result_tuple.active_epochs\n",
    "estimated_directions = deepcopy(rank_order_results.laps_most_likely_result_tuple.directional_likelihoods_tuple.long_best_direction_indices)\n",
    "assert len(recovered_lap_epochs) == len(estimated_directions), f\"recovered_lap_epochs should be same length as estimated_directions\"\n",
    "estimated_directions"
   ]
  },
  {
   "cell_type": "code",
   "execution_count": null,
   "metadata": {},
   "outputs": [],
   "source": [
    "recovered_lap_epochs['estimated_direction_index'] = estimated_directions\n",
    "recovered_lap_epochs"
   ]
  },
  {
   "cell_type": "code",
   "execution_count": 42,
   "metadata": {},
   "outputs": [
    {
     "data": {
      "text/html": [
       "<div>\n",
       "<style scoped>\n",
       "    .dataframe tbody tr th:only-of-type {\n",
       "        vertical-align: middle;\n",
       "    }\n",
       "\n",
       "    .dataframe tbody tr th {\n",
       "        vertical-align: top;\n",
       "    }\n",
       "\n",
       "    .dataframe thead th {\n",
       "        text-align: right;\n",
       "    }\n",
       "</style>\n",
       "<table border=\"1\" class=\"dataframe\">\n",
       "  <thead>\n",
       "    <tr style=\"text-align: right;\">\n",
       "      <th></th>\n",
       "      <th>start</th>\n",
       "      <th>stop</th>\n",
       "      <th>label</th>\n",
       "      <th>duration</th>\n",
       "      <th>LR_Long_ActuallyIncludedAclus</th>\n",
       "      <th>LR_Long_rel_num_cells</th>\n",
       "      <th>RL_Long_ActuallyIncludedAclus</th>\n",
       "      <th>RL_Long_rel_num_cells</th>\n",
       "      <th>LR_Short_ActuallyIncludedAclus</th>\n",
       "      <th>LR_Short_rel_num_cells</th>\n",
       "      <th>RL_Short_ActuallyIncludedAclus</th>\n",
       "      <th>RL_Short_rel_num_cells</th>\n",
       "      <th>LR_evidence</th>\n",
       "      <th>RL_evidence</th>\n",
       "      <th>LR_product_evidence</th>\n",
       "      <th>RL_product_evidence</th>\n",
       "      <th>normed_LR_evidence</th>\n",
       "      <th>normed_RL_evidence</th>\n",
       "      <th>normed_product_LR_evidence</th>\n",
       "      <th>normed_product_RL_evidence</th>\n",
       "    </tr>\n",
       "  </thead>\n",
       "  <tbody>\n",
       "    <tr>\n",
       "      <th>0</th>\n",
       "      <td>5.664919</td>\n",
       "      <td>17.359802</td>\n",
       "      <td>0</td>\n",
       "      <td>11.694883</td>\n",
       "      <td>[5, 31, 32, 36, 41, 45, 48, 50, 53, 55, 57, 59...</td>\n",
       "      <td>33</td>\n",
       "      <td>[5, 31, 32, 36, 41, 45, 48, 50, 53, 55, 57, 59...</td>\n",
       "      <td>33</td>\n",
       "      <td>[5, 31, 32, 36, 41, 45, 48, 50, 53, 55, 57, 59...</td>\n",
       "      <td>33</td>\n",
       "      <td>[5, 31, 32, 36, 41, 45, 48, 50, 53, 55, 57, 59...</td>\n",
       "      <td>33</td>\n",
       "      <td>17.312439</td>\n",
       "      <td>15.687561</td>\n",
       "      <td>7.051410e-12</td>\n",
       "      <td>5.073033e-13</td>\n",
       "      <td>0.524619</td>\n",
       "      <td>0.475381</td>\n",
       "      <td>0.932885</td>\n",
       "      <td>0.067115</td>\n",
       "    </tr>\n",
       "    <tr>\n",
       "      <th>1</th>\n",
       "      <td>31.961164</td>\n",
       "      <td>39.764808</td>\n",
       "      <td>1</td>\n",
       "      <td>7.803644</td>\n",
       "      <td>[5, 31, 32, 36, 41, 45, 48, 50, 51, 53, 55, 57...</td>\n",
       "      <td>34</td>\n",
       "      <td>[5, 31, 32, 36, 41, 45, 48, 50, 51, 53, 55, 57...</td>\n",
       "      <td>34</td>\n",
       "      <td>[5, 31, 32, 36, 41, 45, 48, 50, 51, 53, 55, 57...</td>\n",
       "      <td>34</td>\n",
       "      <td>[5, 31, 32, 36, 41, 45, 48, 50, 51, 53, 55, 57...</td>\n",
       "      <td>34</td>\n",
       "      <td>18.090217</td>\n",
       "      <td>15.909783</td>\n",
       "      <td>5.484430e-12</td>\n",
       "      <td>1.127341e-13</td>\n",
       "      <td>0.532065</td>\n",
       "      <td>0.467935</td>\n",
       "      <td>0.979859</td>\n",
       "      <td>0.020141</td>\n",
       "    </tr>\n",
       "    <tr>\n",
       "      <th>2</th>\n",
       "      <td>135.834493</td>\n",
       "      <td>144.148150</td>\n",
       "      <td>2</td>\n",
       "      <td>8.313657</td>\n",
       "      <td>[5, 7, 9, 31, 32, 36, 41, 45, 48, 50, 51, 53, ...</td>\n",
       "      <td>36</td>\n",
       "      <td>[5, 7, 9, 31, 32, 36, 41, 45, 48, 50, 51, 53, ...</td>\n",
       "      <td>36</td>\n",
       "      <td>[5, 7, 9, 31, 32, 36, 41, 45, 48, 50, 51, 53, ...</td>\n",
       "      <td>36</td>\n",
       "      <td>[5, 7, 9, 31, 32, 36, 41, 45, 48, 50, 51, 53, ...</td>\n",
       "      <td>36</td>\n",
       "      <td>18.945425</td>\n",
       "      <td>17.054575</td>\n",
       "      <td>9.609542e-13</td>\n",
       "      <td>3.607567e-14</td>\n",
       "      <td>0.526262</td>\n",
       "      <td>0.473738</td>\n",
       "      <td>0.963817</td>\n",
       "      <td>0.036183</td>\n",
       "    </tr>\n",
       "    <tr>\n",
       "      <th>3</th>\n",
       "      <td>161.553817</td>\n",
       "      <td>167.318145</td>\n",
       "      <td>3</td>\n",
       "      <td>5.764329</td>\n",
       "      <td>[5, 9, 31, 32, 36, 41, 45, 48, 50, 51, 53, 55,...</td>\n",
       "      <td>35</td>\n",
       "      <td>[5, 9, 31, 32, 36, 41, 45, 48, 50, 51, 53, 55,...</td>\n",
       "      <td>35</td>\n",
       "      <td>[5, 9, 31, 32, 36, 41, 45, 48, 50, 51, 53, 55,...</td>\n",
       "      <td>35</td>\n",
       "      <td>[5, 9, 31, 32, 36, 41, 45, 48, 50, 51, 53, 55,...</td>\n",
       "      <td>35</td>\n",
       "      <td>18.605172</td>\n",
       "      <td>16.394828</td>\n",
       "      <td>2.824237e-12</td>\n",
       "      <td>5.468104e-14</td>\n",
       "      <td>0.531576</td>\n",
       "      <td>0.468424</td>\n",
       "      <td>0.981006</td>\n",
       "      <td>0.018994</td>\n",
       "    </tr>\n",
       "    <tr>\n",
       "      <th>4</th>\n",
       "      <td>234.470126</td>\n",
       "      <td>239.718943</td>\n",
       "      <td>4</td>\n",
       "      <td>5.248817</td>\n",
       "      <td>[5, 31, 32, 41, 45, 48, 50, 53, 55, 61, 63, 64...</td>\n",
       "      <td>29</td>\n",
       "      <td>[5, 31, 32, 41, 45, 48, 50, 53, 55, 61, 63, 64...</td>\n",
       "      <td>29</td>\n",
       "      <td>[5, 31, 32, 41, 45, 48, 50, 53, 55, 61, 63, 64...</td>\n",
       "      <td>29</td>\n",
       "      <td>[5, 31, 32, 41, 45, 48, 50, 53, 55, 61, 63, 64...</td>\n",
       "      <td>29</td>\n",
       "      <td>15.757783</td>\n",
       "      <td>13.242217</td>\n",
       "      <td>4.468796e-10</td>\n",
       "      <td>4.281312e-12</td>\n",
       "      <td>0.543372</td>\n",
       "      <td>0.456628</td>\n",
       "      <td>0.990510</td>\n",
       "      <td>0.009490</td>\n",
       "    </tr>\n",
       "    <tr>\n",
       "      <th>5</th>\n",
       "      <td>255.250813</td>\n",
       "      <td>262.688459</td>\n",
       "      <td>5</td>\n",
       "      <td>7.437646</td>\n",
       "      <td>[5, 9, 31, 32, 36, 41, 45, 48, 50, 53, 55, 57,...</td>\n",
       "      <td>34</td>\n",
       "      <td>[5, 9, 31, 32, 36, 41, 45, 48, 50, 53, 55, 57,...</td>\n",
       "      <td>34</td>\n",
       "      <td>[5, 9, 31, 32, 36, 41, 45, 48, 50, 53, 55, 57,...</td>\n",
       "      <td>34</td>\n",
       "      <td>[5, 9, 31, 32, 36, 41, 45, 48, 50, 53, 55, 57,...</td>\n",
       "      <td>34</td>\n",
       "      <td>17.827394</td>\n",
       "      <td>16.172606</td>\n",
       "      <td>3.631162e-12</td>\n",
       "      <td>2.460647e-13</td>\n",
       "      <td>0.524335</td>\n",
       "      <td>0.475665</td>\n",
       "      <td>0.936536</td>\n",
       "      <td>0.063464</td>\n",
       "    </tr>\n",
       "    <tr>\n",
       "      <th>...</th>\n",
       "      <td>...</td>\n",
       "      <td>...</td>\n",
       "      <td>...</td>\n",
       "      <td>...</td>\n",
       "      <td>...</td>\n",
       "      <td>...</td>\n",
       "      <td>...</td>\n",
       "      <td>...</td>\n",
       "      <td>...</td>\n",
       "      <td>...</td>\n",
       "      <td>...</td>\n",
       "      <td>...</td>\n",
       "      <td>...</td>\n",
       "      <td>...</td>\n",
       "      <td>...</td>\n",
       "      <td>...</td>\n",
       "      <td>...</td>\n",
       "      <td>...</td>\n",
       "      <td>...</td>\n",
       "      <td>...</td>\n",
       "    </tr>\n",
       "    <tr>\n",
       "      <th>74</th>\n",
       "      <td>1999.045622</td>\n",
       "      <td>2002.816193</td>\n",
       "      <td>74</td>\n",
       "      <td>3.770571</td>\n",
       "      <td>[7, 31, 32, 41, 45, 50, 55, 61, 62, 63, 64, 69...</td>\n",
       "      <td>26</td>\n",
       "      <td>[7, 31, 32, 41, 45, 50, 55, 61, 62, 63, 64, 69...</td>\n",
       "      <td>26</td>\n",
       "      <td>[7, 31, 32, 41, 45, 50, 55, 61, 62, 63, 64, 69...</td>\n",
       "      <td>26</td>\n",
       "      <td>[7, 31, 32, 41, 45, 50, 55, 61, 62, 63, 64, 69...</td>\n",
       "      <td>26</td>\n",
       "      <td>13.392977</td>\n",
       "      <td>12.607023</td>\n",
       "      <td>5.891403e-10</td>\n",
       "      <td>2.661151e-10</td>\n",
       "      <td>0.515115</td>\n",
       "      <td>0.484885</td>\n",
       "      <td>0.688847</td>\n",
       "      <td>0.311153</td>\n",
       "    </tr>\n",
       "    <tr>\n",
       "      <th>75</th>\n",
       "      <td>2003.032708</td>\n",
       "      <td>2008.278298</td>\n",
       "      <td>75</td>\n",
       "      <td>5.245591</td>\n",
       "      <td>[5, 7, 9, 31, 32, 41, 45, 48, 50, 51, 53, 55, ...</td>\n",
       "      <td>34</td>\n",
       "      <td>[5, 7, 9, 31, 32, 41, 45, 48, 50, 51, 53, 55, ...</td>\n",
       "      <td>34</td>\n",
       "      <td>[5, 7, 9, 31, 32, 41, 45, 48, 50, 51, 53, 55, ...</td>\n",
       "      <td>34</td>\n",
       "      <td>[5, 7, 9, 31, 32, 41, 45, 48, 50, 51, 53, 55, ...</td>\n",
       "      <td>34</td>\n",
       "      <td>18.483616</td>\n",
       "      <td>15.516384</td>\n",
       "      <td>2.019684e-11</td>\n",
       "      <td>6.158665e-14</td>\n",
       "      <td>0.543636</td>\n",
       "      <td>0.456364</td>\n",
       "      <td>0.996960</td>\n",
       "      <td>0.003040</td>\n",
       "    </tr>\n",
       "    <tr>\n",
       "      <th>76</th>\n",
       "      <td>2019.176367</td>\n",
       "      <td>2024.898701</td>\n",
       "      <td>76</td>\n",
       "      <td>5.722334</td>\n",
       "      <td>[5, 7, 31, 32, 41, 45, 48, 50, 53, 55, 57, 61,...</td>\n",
       "      <td>31</td>\n",
       "      <td>[5, 7, 31, 32, 41, 45, 48, 50, 53, 55, 57, 61,...</td>\n",
       "      <td>31</td>\n",
       "      <td>[5, 7, 31, 32, 41, 45, 48, 50, 53, 55, 57, 61,...</td>\n",
       "      <td>31</td>\n",
       "      <td>[5, 7, 31, 32, 41, 45, 48, 50, 53, 55, 57, 61,...</td>\n",
       "      <td>31</td>\n",
       "      <td>16.081247</td>\n",
       "      <td>14.918753</td>\n",
       "      <td>1.956409e-11</td>\n",
       "      <td>3.572323e-12</td>\n",
       "      <td>0.518750</td>\n",
       "      <td>0.481250</td>\n",
       "      <td>0.845597</td>\n",
       "      <td>0.154403</td>\n",
       "    </tr>\n",
       "    <tr>\n",
       "      <th>77</th>\n",
       "      <td>2026.078563</td>\n",
       "      <td>2031.357209</td>\n",
       "      <td>77</td>\n",
       "      <td>5.278646</td>\n",
       "      <td>[5, 7, 9, 31, 32, 36, 41, 45, 48, 50, 51, 53, ...</td>\n",
       "      <td>34</td>\n",
       "      <td>[5, 7, 9, 31, 32, 36, 41, 45, 48, 50, 51, 53, ...</td>\n",
       "      <td>34</td>\n",
       "      <td>[5, 7, 9, 31, 32, 36, 41, 45, 48, 50, 51, 53, ...</td>\n",
       "      <td>34</td>\n",
       "      <td>[5, 7, 9, 31, 32, 36, 41, 45, 48, 50, 51, 53, ...</td>\n",
       "      <td>34</td>\n",
       "      <td>18.495349</td>\n",
       "      <td>15.504651</td>\n",
       "      <td>2.100036e-11</td>\n",
       "      <td>6.056181e-14</td>\n",
       "      <td>0.543981</td>\n",
       "      <td>0.456019</td>\n",
       "      <td>0.997124</td>\n",
       "      <td>0.002876</td>\n",
       "    </tr>\n",
       "    <tr>\n",
       "      <th>78</th>\n",
       "      <td>2037.629738</td>\n",
       "      <td>2042.169415</td>\n",
       "      <td>78</td>\n",
       "      <td>4.539676</td>\n",
       "      <td>[5, 7, 31, 41, 45, 48, 50, 51, 53, 55, 57, 59,...</td>\n",
       "      <td>31</td>\n",
       "      <td>[5, 7, 31, 41, 45, 48, 50, 51, 53, 55, 57, 59,...</td>\n",
       "      <td>31</td>\n",
       "      <td>[5, 7, 31, 41, 45, 48, 50, 51, 53, 55, 57, 59,...</td>\n",
       "      <td>31</td>\n",
       "      <td>[5, 7, 31, 41, 45, 48, 50, 51, 53, 55, 57, 59,...</td>\n",
       "      <td>31</td>\n",
       "      <td>16.975973</td>\n",
       "      <td>14.024027</td>\n",
       "      <td>1.422345e-10</td>\n",
       "      <td>5.022282e-13</td>\n",
       "      <td>0.547612</td>\n",
       "      <td>0.452388</td>\n",
       "      <td>0.996481</td>\n",
       "      <td>0.003519</td>\n",
       "    </tr>\n",
       "    <tr>\n",
       "      <th>79</th>\n",
       "      <td>2057.648938</td>\n",
       "      <td>2068.835252</td>\n",
       "      <td>79</td>\n",
       "      <td>11.186314</td>\n",
       "      <td>[5, 7, 9, 31, 36, 41, 45, 48, 50, 51, 53, 55, ...</td>\n",
       "      <td>32</td>\n",
       "      <td>[5, 7, 9, 31, 36, 41, 45, 48, 50, 51, 53, 55, ...</td>\n",
       "      <td>32</td>\n",
       "      <td>[5, 7, 9, 31, 36, 41, 45, 48, 50, 51, 53, 55, ...</td>\n",
       "      <td>32</td>\n",
       "      <td>[5, 7, 9, 31, 36, 41, 45, 48, 50, 51, 53, 55, ...</td>\n",
       "      <td>32</td>\n",
       "      <td>18.010996</td>\n",
       "      <td>13.989004</td>\n",
       "      <td>4.074234e-10</td>\n",
       "      <td>1.074525e-13</td>\n",
       "      <td>0.562844</td>\n",
       "      <td>0.437156</td>\n",
       "      <td>0.999736</td>\n",
       "      <td>0.000264</td>\n",
       "    </tr>\n",
       "  </tbody>\n",
       "</table>\n",
       "<p>80 rows × 20 columns</p>\n",
       "</div>"
      ],
      "text/plain": [
       "          start         stop  label   duration                      LR_Long_ActuallyIncludedAclus  LR_Long_rel_num_cells                      RL_Long_ActuallyIncludedAclus  RL_Long_rel_num_cells                     LR_Short_ActuallyIncludedAclus  LR_Short_rel_num_cells                     RL_Short_ActuallyIncludedAclus  RL_Short_rel_num_cells  LR_evidence  RL_evidence  LR_product_evidence  RL_product_evidence  normed_LR_evidence  normed_RL_evidence  normed_product_LR_evidence  normed_product_RL_evidence\n",
       "0      5.664919    17.359802      0  11.694883  [5, 31, 32, 36, 41, 45, 48, 50, 53, 55, 57, 59...                     33  [5, 31, 32, 36, 41, 45, 48, 50, 53, 55, 57, 59...                     33  [5, 31, 32, 36, 41, 45, 48, 50, 53, 55, 57, 59...                      33  [5, 31, 32, 36, 41, 45, 48, 50, 53, 55, 57, 59...                      33    17.312439    15.687561         7.051410e-12         5.073033e-13            0.524619            0.475381                    0.932885                    0.067115\n",
       "1     31.961164    39.764808      1   7.803644  [5, 31, 32, 36, 41, 45, 48, 50, 51, 53, 55, 57...                     34  [5, 31, 32, 36, 41, 45, 48, 50, 51, 53, 55, 57...                     34  [5, 31, 32, 36, 41, 45, 48, 50, 51, 53, 55, 57...                      34  [5, 31, 32, 36, 41, 45, 48, 50, 51, 53, 55, 57...                      34    18.090217    15.909783         5.484430e-12         1.127341e-13            0.532065            0.467935                    0.979859                    0.020141\n",
       "2    135.834493   144.148150      2   8.313657  [5, 7, 9, 31, 32, 36, 41, 45, 48, 50, 51, 53, ...                     36  [5, 7, 9, 31, 32, 36, 41, 45, 48, 50, 51, 53, ...                     36  [5, 7, 9, 31, 32, 36, 41, 45, 48, 50, 51, 53, ...                      36  [5, 7, 9, 31, 32, 36, 41, 45, 48, 50, 51, 53, ...                      36    18.945425    17.054575         9.609542e-13         3.607567e-14            0.526262            0.473738                    0.963817                    0.036183\n",
       "3    161.553817   167.318145      3   5.764329  [5, 9, 31, 32, 36, 41, 45, 48, 50, 51, 53, 55,...                     35  [5, 9, 31, 32, 36, 41, 45, 48, 50, 51, 53, 55,...                     35  [5, 9, 31, 32, 36, 41, 45, 48, 50, 51, 53, 55,...                      35  [5, 9, 31, 32, 36, 41, 45, 48, 50, 51, 53, 55,...                      35    18.605172    16.394828         2.824237e-12         5.468104e-14            0.531576            0.468424                    0.981006                    0.018994\n",
       "4    234.470126   239.718943      4   5.248817  [5, 31, 32, 41, 45, 48, 50, 53, 55, 61, 63, 64...                     29  [5, 31, 32, 41, 45, 48, 50, 53, 55, 61, 63, 64...                     29  [5, 31, 32, 41, 45, 48, 50, 53, 55, 61, 63, 64...                      29  [5, 31, 32, 41, 45, 48, 50, 53, 55, 61, 63, 64...                      29    15.757783    13.242217         4.468796e-10         4.281312e-12            0.543372            0.456628                    0.990510                    0.009490\n",
       "5    255.250813   262.688459      5   7.437646  [5, 9, 31, 32, 36, 41, 45, 48, 50, 53, 55, 57,...                     34  [5, 9, 31, 32, 36, 41, 45, 48, 50, 53, 55, 57,...                     34  [5, 9, 31, 32, 36, 41, 45, 48, 50, 53, 55, 57,...                      34  [5, 9, 31, 32, 36, 41, 45, 48, 50, 53, 55, 57,...                      34    17.827394    16.172606         3.631162e-12         2.460647e-13            0.524335            0.475665                    0.936536                    0.063464\n",
       "..          ...          ...    ...        ...                                                ...                    ...                                                ...                    ...                                                ...                     ...                                                ...                     ...          ...          ...                  ...                  ...                 ...                 ...                         ...                         ...\n",
       "74  1999.045622  2002.816193     74   3.770571  [7, 31, 32, 41, 45, 50, 55, 61, 62, 63, 64, 69...                     26  [7, 31, 32, 41, 45, 50, 55, 61, 62, 63, 64, 69...                     26  [7, 31, 32, 41, 45, 50, 55, 61, 62, 63, 64, 69...                      26  [7, 31, 32, 41, 45, 50, 55, 61, 62, 63, 64, 69...                      26    13.392977    12.607023         5.891403e-10         2.661151e-10            0.515115            0.484885                    0.688847                    0.311153\n",
       "75  2003.032708  2008.278298     75   5.245591  [5, 7, 9, 31, 32, 41, 45, 48, 50, 51, 53, 55, ...                     34  [5, 7, 9, 31, 32, 41, 45, 48, 50, 51, 53, 55, ...                     34  [5, 7, 9, 31, 32, 41, 45, 48, 50, 51, 53, 55, ...                      34  [5, 7, 9, 31, 32, 41, 45, 48, 50, 51, 53, 55, ...                      34    18.483616    15.516384         2.019684e-11         6.158665e-14            0.543636            0.456364                    0.996960                    0.003040\n",
       "76  2019.176367  2024.898701     76   5.722334  [5, 7, 31, 32, 41, 45, 48, 50, 53, 55, 57, 61,...                     31  [5, 7, 31, 32, 41, 45, 48, 50, 53, 55, 57, 61,...                     31  [5, 7, 31, 32, 41, 45, 48, 50, 53, 55, 57, 61,...                      31  [5, 7, 31, 32, 41, 45, 48, 50, 53, 55, 57, 61,...                      31    16.081247    14.918753         1.956409e-11         3.572323e-12            0.518750            0.481250                    0.845597                    0.154403\n",
       "77  2026.078563  2031.357209     77   5.278646  [5, 7, 9, 31, 32, 36, 41, 45, 48, 50, 51, 53, ...                     34  [5, 7, 9, 31, 32, 36, 41, 45, 48, 50, 51, 53, ...                     34  [5, 7, 9, 31, 32, 36, 41, 45, 48, 50, 51, 53, ...                      34  [5, 7, 9, 31, 32, 36, 41, 45, 48, 50, 51, 53, ...                      34    18.495349    15.504651         2.100036e-11         6.056181e-14            0.543981            0.456019                    0.997124                    0.002876\n",
       "78  2037.629738  2042.169415     78   4.539676  [5, 7, 31, 41, 45, 48, 50, 51, 53, 55, 57, 59,...                     31  [5, 7, 31, 41, 45, 48, 50, 51, 53, 55, 57, 59,...                     31  [5, 7, 31, 41, 45, 48, 50, 51, 53, 55, 57, 59,...                      31  [5, 7, 31, 41, 45, 48, 50, 51, 53, 55, 57, 59,...                      31    16.975973    14.024027         1.422345e-10         5.022282e-13            0.547612            0.452388                    0.996481                    0.003519\n",
       "79  2057.648938  2068.835252     79  11.186314  [5, 7, 9, 31, 36, 41, 45, 48, 50, 51, 53, 55, ...                     32  [5, 7, 9, 31, 36, 41, 45, 48, 50, 51, 53, 55, ...                     32  [5, 7, 9, 31, 36, 41, 45, 48, 50, 51, 53, 55, ...                      32  [5, 7, 9, 31, 36, 41, 45, 48, 50, 51, 53, 55, ...                      32    18.010996    13.989004         4.074234e-10         1.074525e-13            0.562844            0.437156                    0.999736                    0.000264\n",
       "\n",
       "[80 rows x 20 columns]"
      ]
     },
     "execution_count": 42,
     "metadata": {},
     "output_type": "execute_result"
    }
   ],
   "source": [
    "recovered_lap_epochs"
   ]
  },
  {
   "cell_type": "code",
   "execution_count": 37,
   "metadata": {},
   "outputs": [
    {
     "data": {
      "text/html": [
       "<div>\n",
       "<style scoped>\n",
       "    .dataframe tbody tr th:only-of-type {\n",
       "        vertical-align: middle;\n",
       "    }\n",
       "\n",
       "    .dataframe tbody tr th {\n",
       "        vertical-align: top;\n",
       "    }\n",
       "\n",
       "    .dataframe thead th {\n",
       "        text-align: right;\n",
       "    }\n",
       "</style>\n",
       "<table border=\"1\" class=\"dataframe\">\n",
       "  <thead>\n",
       "    <tr style=\"text-align: right;\">\n",
       "      <th></th>\n",
       "      <th>start</th>\n",
       "      <th>stop</th>\n",
       "      <th>label</th>\n",
       "      <th>duration</th>\n",
       "      <th>LR_Long_ActuallyIncludedAclus</th>\n",
       "      <th>LR_Long_rel_num_cells</th>\n",
       "      <th>RL_Long_ActuallyIncludedAclus</th>\n",
       "      <th>RL_Long_rel_num_cells</th>\n",
       "      <th>LR_Short_ActuallyIncludedAclus</th>\n",
       "      <th>LR_Short_rel_num_cells</th>\n",
       "      <th>RL_Short_ActuallyIncludedAclus</th>\n",
       "      <th>RL_Short_rel_num_cells</th>\n",
       "      <th>LR_evidence</th>\n",
       "      <th>RL_evidence</th>\n",
       "      <th>LR_product_evidence</th>\n",
       "      <th>RL_product_evidence</th>\n",
       "      <th>normed_LR_evidence</th>\n",
       "      <th>normed_RL_evidence</th>\n",
       "      <th>normed_product_LR_evidence</th>\n",
       "      <th>normed_product_RL_evidence</th>\n",
       "    </tr>\n",
       "  </thead>\n",
       "  <tbody>\n",
       "    <tr>\n",
       "      <th>0</th>\n",
       "      <td>5.664919</td>\n",
       "      <td>17.359802</td>\n",
       "      <td>0</td>\n",
       "      <td>11.694883</td>\n",
       "      <td>[5, 31, 32, 36, 41, 45, 48, 50, 53, 55, 57, 59...</td>\n",
       "      <td>33</td>\n",
       "      <td>[5, 31, 32, 36, 41, 45, 48, 50, 53, 55, 57, 59...</td>\n",
       "      <td>33</td>\n",
       "      <td>[5, 31, 32, 36, 41, 45, 48, 50, 53, 55, 57, 59...</td>\n",
       "      <td>33</td>\n",
       "      <td>[5, 31, 32, 36, 41, 45, 48, 50, 53, 55, 57, 59...</td>\n",
       "      <td>33</td>\n",
       "      <td>17.312439</td>\n",
       "      <td>15.687561</td>\n",
       "      <td>7.051410e-12</td>\n",
       "      <td>5.073033e-13</td>\n",
       "      <td>0.524619</td>\n",
       "      <td>0.475381</td>\n",
       "      <td>0.932885</td>\n",
       "      <td>0.067115</td>\n",
       "    </tr>\n",
       "    <tr>\n",
       "      <th>1</th>\n",
       "      <td>31.961164</td>\n",
       "      <td>39.764808</td>\n",
       "      <td>1</td>\n",
       "      <td>7.803644</td>\n",
       "      <td>[5, 31, 32, 36, 41, 45, 48, 50, 51, 53, 55, 57...</td>\n",
       "      <td>34</td>\n",
       "      <td>[5, 31, 32, 36, 41, 45, 48, 50, 51, 53, 55, 57...</td>\n",
       "      <td>34</td>\n",
       "      <td>[5, 31, 32, 36, 41, 45, 48, 50, 51, 53, 55, 57...</td>\n",
       "      <td>34</td>\n",
       "      <td>[5, 31, 32, 36, 41, 45, 48, 50, 51, 53, 55, 57...</td>\n",
       "      <td>34</td>\n",
       "      <td>18.090217</td>\n",
       "      <td>15.909783</td>\n",
       "      <td>5.484430e-12</td>\n",
       "      <td>1.127341e-13</td>\n",
       "      <td>0.532065</td>\n",
       "      <td>0.467935</td>\n",
       "      <td>0.979859</td>\n",
       "      <td>0.020141</td>\n",
       "    </tr>\n",
       "    <tr>\n",
       "      <th>2</th>\n",
       "      <td>135.834493</td>\n",
       "      <td>144.148150</td>\n",
       "      <td>2</td>\n",
       "      <td>8.313657</td>\n",
       "      <td>[5, 7, 9, 31, 32, 36, 41, 45, 48, 50, 51, 53, ...</td>\n",
       "      <td>36</td>\n",
       "      <td>[5, 7, 9, 31, 32, 36, 41, 45, 48, 50, 51, 53, ...</td>\n",
       "      <td>36</td>\n",
       "      <td>[5, 7, 9, 31, 32, 36, 41, 45, 48, 50, 51, 53, ...</td>\n",
       "      <td>36</td>\n",
       "      <td>[5, 7, 9, 31, 32, 36, 41, 45, 48, 50, 51, 53, ...</td>\n",
       "      <td>36</td>\n",
       "      <td>18.945425</td>\n",
       "      <td>17.054575</td>\n",
       "      <td>9.609542e-13</td>\n",
       "      <td>3.607567e-14</td>\n",
       "      <td>0.526262</td>\n",
       "      <td>0.473738</td>\n",
       "      <td>0.963817</td>\n",
       "      <td>0.036183</td>\n",
       "    </tr>\n",
       "    <tr>\n",
       "      <th>3</th>\n",
       "      <td>161.553817</td>\n",
       "      <td>167.318145</td>\n",
       "      <td>3</td>\n",
       "      <td>5.764329</td>\n",
       "      <td>[5, 9, 31, 32, 36, 41, 45, 48, 50, 51, 53, 55,...</td>\n",
       "      <td>35</td>\n",
       "      <td>[5, 9, 31, 32, 36, 41, 45, 48, 50, 51, 53, 55,...</td>\n",
       "      <td>35</td>\n",
       "      <td>[5, 9, 31, 32, 36, 41, 45, 48, 50, 51, 53, 55,...</td>\n",
       "      <td>35</td>\n",
       "      <td>[5, 9, 31, 32, 36, 41, 45, 48, 50, 51, 53, 55,...</td>\n",
       "      <td>35</td>\n",
       "      <td>18.605172</td>\n",
       "      <td>16.394828</td>\n",
       "      <td>2.824237e-12</td>\n",
       "      <td>5.468104e-14</td>\n",
       "      <td>0.531576</td>\n",
       "      <td>0.468424</td>\n",
       "      <td>0.981006</td>\n",
       "      <td>0.018994</td>\n",
       "    </tr>\n",
       "    <tr>\n",
       "      <th>4</th>\n",
       "      <td>234.470126</td>\n",
       "      <td>239.718943</td>\n",
       "      <td>4</td>\n",
       "      <td>5.248817</td>\n",
       "      <td>[5, 31, 32, 41, 45, 48, 50, 53, 55, 61, 63, 64...</td>\n",
       "      <td>29</td>\n",
       "      <td>[5, 31, 32, 41, 45, 48, 50, 53, 55, 61, 63, 64...</td>\n",
       "      <td>29</td>\n",
       "      <td>[5, 31, 32, 41, 45, 48, 50, 53, 55, 61, 63, 64...</td>\n",
       "      <td>29</td>\n",
       "      <td>[5, 31, 32, 41, 45, 48, 50, 53, 55, 61, 63, 64...</td>\n",
       "      <td>29</td>\n",
       "      <td>15.757783</td>\n",
       "      <td>13.242217</td>\n",
       "      <td>4.468796e-10</td>\n",
       "      <td>4.281312e-12</td>\n",
       "      <td>0.543372</td>\n",
       "      <td>0.456628</td>\n",
       "      <td>0.990510</td>\n",
       "      <td>0.009490</td>\n",
       "    </tr>\n",
       "    <tr>\n",
       "      <th>5</th>\n",
       "      <td>255.250813</td>\n",
       "      <td>262.688459</td>\n",
       "      <td>5</td>\n",
       "      <td>7.437646</td>\n",
       "      <td>[5, 9, 31, 32, 36, 41, 45, 48, 50, 53, 55, 57,...</td>\n",
       "      <td>34</td>\n",
       "      <td>[5, 9, 31, 32, 36, 41, 45, 48, 50, 53, 55, 57,...</td>\n",
       "      <td>34</td>\n",
       "      <td>[5, 9, 31, 32, 36, 41, 45, 48, 50, 53, 55, 57,...</td>\n",
       "      <td>34</td>\n",
       "      <td>[5, 9, 31, 32, 36, 41, 45, 48, 50, 53, 55, 57,...</td>\n",
       "      <td>34</td>\n",
       "      <td>17.827394</td>\n",
       "      <td>16.172606</td>\n",
       "      <td>3.631162e-12</td>\n",
       "      <td>2.460647e-13</td>\n",
       "      <td>0.524335</td>\n",
       "      <td>0.475665</td>\n",
       "      <td>0.936536</td>\n",
       "      <td>0.063464</td>\n",
       "    </tr>\n",
       "    <tr>\n",
       "      <th>...</th>\n",
       "      <td>...</td>\n",
       "      <td>...</td>\n",
       "      <td>...</td>\n",
       "      <td>...</td>\n",
       "      <td>...</td>\n",
       "      <td>...</td>\n",
       "      <td>...</td>\n",
       "      <td>...</td>\n",
       "      <td>...</td>\n",
       "      <td>...</td>\n",
       "      <td>...</td>\n",
       "      <td>...</td>\n",
       "      <td>...</td>\n",
       "      <td>...</td>\n",
       "      <td>...</td>\n",
       "      <td>...</td>\n",
       "      <td>...</td>\n",
       "      <td>...</td>\n",
       "      <td>...</td>\n",
       "      <td>...</td>\n",
       "    </tr>\n",
       "    <tr>\n",
       "      <th>74</th>\n",
       "      <td>1999.045622</td>\n",
       "      <td>2002.816193</td>\n",
       "      <td>74</td>\n",
       "      <td>3.770571</td>\n",
       "      <td>[7, 31, 32, 41, 45, 50, 55, 61, 62, 63, 64, 69...</td>\n",
       "      <td>26</td>\n",
       "      <td>[7, 31, 32, 41, 45, 50, 55, 61, 62, 63, 64, 69...</td>\n",
       "      <td>26</td>\n",
       "      <td>[7, 31, 32, 41, 45, 50, 55, 61, 62, 63, 64, 69...</td>\n",
       "      <td>26</td>\n",
       "      <td>[7, 31, 32, 41, 45, 50, 55, 61, 62, 63, 64, 69...</td>\n",
       "      <td>26</td>\n",
       "      <td>13.392977</td>\n",
       "      <td>12.607023</td>\n",
       "      <td>5.891403e-10</td>\n",
       "      <td>2.661151e-10</td>\n",
       "      <td>0.515115</td>\n",
       "      <td>0.484885</td>\n",
       "      <td>0.688847</td>\n",
       "      <td>0.311153</td>\n",
       "    </tr>\n",
       "    <tr>\n",
       "      <th>75</th>\n",
       "      <td>2003.032708</td>\n",
       "      <td>2008.278298</td>\n",
       "      <td>75</td>\n",
       "      <td>5.245591</td>\n",
       "      <td>[5, 7, 9, 31, 32, 41, 45, 48, 50, 51, 53, 55, ...</td>\n",
       "      <td>34</td>\n",
       "      <td>[5, 7, 9, 31, 32, 41, 45, 48, 50, 51, 53, 55, ...</td>\n",
       "      <td>34</td>\n",
       "      <td>[5, 7, 9, 31, 32, 41, 45, 48, 50, 51, 53, 55, ...</td>\n",
       "      <td>34</td>\n",
       "      <td>[5, 7, 9, 31, 32, 41, 45, 48, 50, 51, 53, 55, ...</td>\n",
       "      <td>34</td>\n",
       "      <td>18.483616</td>\n",
       "      <td>15.516384</td>\n",
       "      <td>2.019684e-11</td>\n",
       "      <td>6.158665e-14</td>\n",
       "      <td>0.543636</td>\n",
       "      <td>0.456364</td>\n",
       "      <td>0.996960</td>\n",
       "      <td>0.003040</td>\n",
       "    </tr>\n",
       "    <tr>\n",
       "      <th>76</th>\n",
       "      <td>2019.176367</td>\n",
       "      <td>2024.898701</td>\n",
       "      <td>76</td>\n",
       "      <td>5.722334</td>\n",
       "      <td>[5, 7, 31, 32, 41, 45, 48, 50, 53, 55, 57, 61,...</td>\n",
       "      <td>31</td>\n",
       "      <td>[5, 7, 31, 32, 41, 45, 48, 50, 53, 55, 57, 61,...</td>\n",
       "      <td>31</td>\n",
       "      <td>[5, 7, 31, 32, 41, 45, 48, 50, 53, 55, 57, 61,...</td>\n",
       "      <td>31</td>\n",
       "      <td>[5, 7, 31, 32, 41, 45, 48, 50, 53, 55, 57, 61,...</td>\n",
       "      <td>31</td>\n",
       "      <td>16.081247</td>\n",
       "      <td>14.918753</td>\n",
       "      <td>1.956409e-11</td>\n",
       "      <td>3.572323e-12</td>\n",
       "      <td>0.518750</td>\n",
       "      <td>0.481250</td>\n",
       "      <td>0.845597</td>\n",
       "      <td>0.154403</td>\n",
       "    </tr>\n",
       "    <tr>\n",
       "      <th>77</th>\n",
       "      <td>2026.078563</td>\n",
       "      <td>2031.357209</td>\n",
       "      <td>77</td>\n",
       "      <td>5.278646</td>\n",
       "      <td>[5, 7, 9, 31, 32, 36, 41, 45, 48, 50, 51, 53, ...</td>\n",
       "      <td>34</td>\n",
       "      <td>[5, 7, 9, 31, 32, 36, 41, 45, 48, 50, 51, 53, ...</td>\n",
       "      <td>34</td>\n",
       "      <td>[5, 7, 9, 31, 32, 36, 41, 45, 48, 50, 51, 53, ...</td>\n",
       "      <td>34</td>\n",
       "      <td>[5, 7, 9, 31, 32, 36, 41, 45, 48, 50, 51, 53, ...</td>\n",
       "      <td>34</td>\n",
       "      <td>18.495349</td>\n",
       "      <td>15.504651</td>\n",
       "      <td>2.100036e-11</td>\n",
       "      <td>6.056181e-14</td>\n",
       "      <td>0.543981</td>\n",
       "      <td>0.456019</td>\n",
       "      <td>0.997124</td>\n",
       "      <td>0.002876</td>\n",
       "    </tr>\n",
       "    <tr>\n",
       "      <th>78</th>\n",
       "      <td>2037.629738</td>\n",
       "      <td>2042.169415</td>\n",
       "      <td>78</td>\n",
       "      <td>4.539676</td>\n",
       "      <td>[5, 7, 31, 41, 45, 48, 50, 51, 53, 55, 57, 59,...</td>\n",
       "      <td>31</td>\n",
       "      <td>[5, 7, 31, 41, 45, 48, 50, 51, 53, 55, 57, 59,...</td>\n",
       "      <td>31</td>\n",
       "      <td>[5, 7, 31, 41, 45, 48, 50, 51, 53, 55, 57, 59,...</td>\n",
       "      <td>31</td>\n",
       "      <td>[5, 7, 31, 41, 45, 48, 50, 51, 53, 55, 57, 59,...</td>\n",
       "      <td>31</td>\n",
       "      <td>16.975973</td>\n",
       "      <td>14.024027</td>\n",
       "      <td>1.422345e-10</td>\n",
       "      <td>5.022282e-13</td>\n",
       "      <td>0.547612</td>\n",
       "      <td>0.452388</td>\n",
       "      <td>0.996481</td>\n",
       "      <td>0.003519</td>\n",
       "    </tr>\n",
       "    <tr>\n",
       "      <th>79</th>\n",
       "      <td>2057.648938</td>\n",
       "      <td>2068.835252</td>\n",
       "      <td>79</td>\n",
       "      <td>11.186314</td>\n",
       "      <td>[5, 7, 9, 31, 36, 41, 45, 48, 50, 51, 53, 55, ...</td>\n",
       "      <td>32</td>\n",
       "      <td>[5, 7, 9, 31, 36, 41, 45, 48, 50, 51, 53, 55, ...</td>\n",
       "      <td>32</td>\n",
       "      <td>[5, 7, 9, 31, 36, 41, 45, 48, 50, 51, 53, 55, ...</td>\n",
       "      <td>32</td>\n",
       "      <td>[5, 7, 9, 31, 36, 41, 45, 48, 50, 51, 53, 55, ...</td>\n",
       "      <td>32</td>\n",
       "      <td>18.010996</td>\n",
       "      <td>13.989004</td>\n",
       "      <td>4.074234e-10</td>\n",
       "      <td>1.074525e-13</td>\n",
       "      <td>0.562844</td>\n",
       "      <td>0.437156</td>\n",
       "      <td>0.999736</td>\n",
       "      <td>0.000264</td>\n",
       "    </tr>\n",
       "  </tbody>\n",
       "</table>\n",
       "<p>80 rows × 20 columns</p>\n",
       "</div>"
      ],
      "text/plain": [
       "          start         stop  label   duration                      LR_Long_ActuallyIncludedAclus  LR_Long_rel_num_cells                      RL_Long_ActuallyIncludedAclus  RL_Long_rel_num_cells                     LR_Short_ActuallyIncludedAclus  LR_Short_rel_num_cells                     RL_Short_ActuallyIncludedAclus  RL_Short_rel_num_cells  LR_evidence  RL_evidence  LR_product_evidence  RL_product_evidence  normed_LR_evidence  normed_RL_evidence  normed_product_LR_evidence  normed_product_RL_evidence\n",
       "0      5.664919    17.359802      0  11.694883  [5, 31, 32, 36, 41, 45, 48, 50, 53, 55, 57, 59...                     33  [5, 31, 32, 36, 41, 45, 48, 50, 53, 55, 57, 59...                     33  [5, 31, 32, 36, 41, 45, 48, 50, 53, 55, 57, 59...                      33  [5, 31, 32, 36, 41, 45, 48, 50, 53, 55, 57, 59...                      33    17.312439    15.687561         7.051410e-12         5.073033e-13            0.524619            0.475381                    0.932885                    0.067115\n",
       "1     31.961164    39.764808      1   7.803644  [5, 31, 32, 36, 41, 45, 48, 50, 51, 53, 55, 57...                     34  [5, 31, 32, 36, 41, 45, 48, 50, 51, 53, 55, 57...                     34  [5, 31, 32, 36, 41, 45, 48, 50, 51, 53, 55, 57...                      34  [5, 31, 32, 36, 41, 45, 48, 50, 51, 53, 55, 57...                      34    18.090217    15.909783         5.484430e-12         1.127341e-13            0.532065            0.467935                    0.979859                    0.020141\n",
       "2    135.834493   144.148150      2   8.313657  [5, 7, 9, 31, 32, 36, 41, 45, 48, 50, 51, 53, ...                     36  [5, 7, 9, 31, 32, 36, 41, 45, 48, 50, 51, 53, ...                     36  [5, 7, 9, 31, 32, 36, 41, 45, 48, 50, 51, 53, ...                      36  [5, 7, 9, 31, 32, 36, 41, 45, 48, 50, 51, 53, ...                      36    18.945425    17.054575         9.609542e-13         3.607567e-14            0.526262            0.473738                    0.963817                    0.036183\n",
       "3    161.553817   167.318145      3   5.764329  [5, 9, 31, 32, 36, 41, 45, 48, 50, 51, 53, 55,...                     35  [5, 9, 31, 32, 36, 41, 45, 48, 50, 51, 53, 55,...                     35  [5, 9, 31, 32, 36, 41, 45, 48, 50, 51, 53, 55,...                      35  [5, 9, 31, 32, 36, 41, 45, 48, 50, 51, 53, 55,...                      35    18.605172    16.394828         2.824237e-12         5.468104e-14            0.531576            0.468424                    0.981006                    0.018994\n",
       "4    234.470126   239.718943      4   5.248817  [5, 31, 32, 41, 45, 48, 50, 53, 55, 61, 63, 64...                     29  [5, 31, 32, 41, 45, 48, 50, 53, 55, 61, 63, 64...                     29  [5, 31, 32, 41, 45, 48, 50, 53, 55, 61, 63, 64...                      29  [5, 31, 32, 41, 45, 48, 50, 53, 55, 61, 63, 64...                      29    15.757783    13.242217         4.468796e-10         4.281312e-12            0.543372            0.456628                    0.990510                    0.009490\n",
       "5    255.250813   262.688459      5   7.437646  [5, 9, 31, 32, 36, 41, 45, 48, 50, 53, 55, 57,...                     34  [5, 9, 31, 32, 36, 41, 45, 48, 50, 53, 55, 57,...                     34  [5, 9, 31, 32, 36, 41, 45, 48, 50, 53, 55, 57,...                      34  [5, 9, 31, 32, 36, 41, 45, 48, 50, 53, 55, 57,...                      34    17.827394    16.172606         3.631162e-12         2.460647e-13            0.524335            0.475665                    0.936536                    0.063464\n",
       "..          ...          ...    ...        ...                                                ...                    ...                                                ...                    ...                                                ...                     ...                                                ...                     ...          ...          ...                  ...                  ...                 ...                 ...                         ...                         ...\n",
       "74  1999.045622  2002.816193     74   3.770571  [7, 31, 32, 41, 45, 50, 55, 61, 62, 63, 64, 69...                     26  [7, 31, 32, 41, 45, 50, 55, 61, 62, 63, 64, 69...                     26  [7, 31, 32, 41, 45, 50, 55, 61, 62, 63, 64, 69...                      26  [7, 31, 32, 41, 45, 50, 55, 61, 62, 63, 64, 69...                      26    13.392977    12.607023         5.891403e-10         2.661151e-10            0.515115            0.484885                    0.688847                    0.311153\n",
       "75  2003.032708  2008.278298     75   5.245591  [5, 7, 9, 31, 32, 41, 45, 48, 50, 51, 53, 55, ...                     34  [5, 7, 9, 31, 32, 41, 45, 48, 50, 51, 53, 55, ...                     34  [5, 7, 9, 31, 32, 41, 45, 48, 50, 51, 53, 55, ...                      34  [5, 7, 9, 31, 32, 41, 45, 48, 50, 51, 53, 55, ...                      34    18.483616    15.516384         2.019684e-11         6.158665e-14            0.543636            0.456364                    0.996960                    0.003040\n",
       "76  2019.176367  2024.898701     76   5.722334  [5, 7, 31, 32, 41, 45, 48, 50, 53, 55, 57, 61,...                     31  [5, 7, 31, 32, 41, 45, 48, 50, 53, 55, 57, 61,...                     31  [5, 7, 31, 32, 41, 45, 48, 50, 53, 55, 57, 61,...                      31  [5, 7, 31, 32, 41, 45, 48, 50, 53, 55, 57, 61,...                      31    16.081247    14.918753         1.956409e-11         3.572323e-12            0.518750            0.481250                    0.845597                    0.154403\n",
       "77  2026.078563  2031.357209     77   5.278646  [5, 7, 9, 31, 32, 36, 41, 45, 48, 50, 51, 53, ...                     34  [5, 7, 9, 31, 32, 36, 41, 45, 48, 50, 51, 53, ...                     34  [5, 7, 9, 31, 32, 36, 41, 45, 48, 50, 51, 53, ...                      34  [5, 7, 9, 31, 32, 36, 41, 45, 48, 50, 51, 53, ...                      34    18.495349    15.504651         2.100036e-11         6.056181e-14            0.543981            0.456019                    0.997124                    0.002876\n",
       "78  2037.629738  2042.169415     78   4.539676  [5, 7, 31, 41, 45, 48, 50, 51, 53, 55, 57, 59,...                     31  [5, 7, 31, 41, 45, 48, 50, 51, 53, 55, 57, 59,...                     31  [5, 7, 31, 41, 45, 48, 50, 51, 53, 55, 57, 59,...                      31  [5, 7, 31, 41, 45, 48, 50, 51, 53, 55, 57, 59,...                      31    16.975973    14.024027         1.422345e-10         5.022282e-13            0.547612            0.452388                    0.996481                    0.003519\n",
       "79  2057.648938  2068.835252     79  11.186314  [5, 7, 9, 31, 36, 41, 45, 48, 50, 51, 53, 55, ...                     32  [5, 7, 9, 31, 36, 41, 45, 48, 50, 51, 53, 55, ...                     32  [5, 7, 9, 31, 36, 41, 45, 48, 50, 51, 53, 55, ...                      32  [5, 7, 9, 31, 36, 41, 45, 48, 50, 51, 53, 55, ...                      32    18.010996    13.989004         4.074234e-10         1.074525e-13            0.562844            0.437156                    0.999736                    0.000264\n",
       "\n",
       "[80 rows x 20 columns]"
      ]
     },
     "execution_count": 37,
     "metadata": {},
     "output_type": "execute_result"
    }
   ],
   "source": [
    "rank_order_results.LR_laps.epochs_df"
   ]
  },
  {
   "cell_type": "code",
   "execution_count": 40,
   "metadata": {},
   "outputs": [
    {
     "data": {
      "text/plain": [
       "0     0\n",
       "1     1\n",
       "2     0\n",
       "3     1\n",
       "4     0\n",
       "5     1\n",
       "     ..\n",
       "74    0\n",
       "75    1\n",
       "76    0\n",
       "77    1\n",
       "78    0\n",
       "79    1\n",
       "Name: lap_dir, Length: 80, dtype: int64"
      ]
     },
     "execution_count": 40,
     "metadata": {},
     "output_type": "execute_result"
    }
   ],
   "source": [
    "# global_laps\n",
    "global_any_laps_epochs_obj.to_dataframe()['lap_dir']"
   ]
  },
  {
   "cell_type": "code",
   "execution_count": 35,
   "metadata": {},
   "outputs": [
    {
     "data": {
      "text/plain": [
       "MatplotlibRenderPlots({'name': 'plot_histogram_figure', 'context': None, 'figures': [<Figure size 640x480 with 3 Axes>], 'axes': {'long_short_best_z_score_diff': <Axes: label='long_short_best_z_score_diff', title={'center': 'long_short_best_z_score_diff'}>, 'long_best_z_scores': <Axes: label='long_best_z_scores', title={'center': 'long_best_z_scores'}>, 'short_best_z_scores': <Axes: label='short_best_z_scores', title={'center': 'short_best_z_scores'}>}})"
      ]
     },
     "execution_count": 35,
     "metadata": {},
     "output_type": "execute_result"
    }
   ],
   "source": [
    "rank_order_results.laps_most_likely_result_tuple.plot_histograms()\n"
   ]
  },
  {
   "cell_type": "code",
   "execution_count": 17,
   "metadata": {},
   "outputs": [
    {
     "data": {
      "text/plain": [
       "DirectionalRankOrderLikelihoods(long_relative_direction_likelihoods=None, short_relative_direction_likelihoods=None, long_best_direction_indices=array([1, 0, 1, 0, 1, 0, 1, 0, 1, 0, 1, 0, 1, 0, 1, 0, 1, 0, 1, 0, 1, 0, 0, 0, 1, 0, 1, 1, 1, 0, 1, 0, 1, 0, 0, 0, 1, 0, 0, 0, 1, 1, 1, 0, 1, 0, 1, 0, 1, 0, 1, 0, 1, 1, 1, 0, 1, 1, 0, 0, 0, 0, 1, 0, 1, 0, 0, 1, 0, 1, 1, 0, 1, 1, 1, 0, 1, 1, 1, 1]), short_best_direction_indices=array([0, 0, 0, 0, 0, 0, 0, 0, 0, 0, 0, 0, 0, 0, 0, 0, 0, 0, 0, 0, 0, 0, 0, 0, 0, 0, 0, 0, 0, 0, 0, 0, 0, 0, 0, 0, 0, 0, 0, 0, 0, 0, 0, 0, 0, 0, 0, 0, 0, 0, 0, 0, 0, 0, 0, 0, 0, 0, 0, 0, 0, 0, 0, 0, 0, 0, 0, 0, 0, 0, 0, 0, 0, 0, 0, 0, 0, 0, 0, 0]))"
      ]
     },
     "execution_count": 17,
     "metadata": {},
     "output_type": "execute_result"
    }
   ],
   "source": [
    "rank_order_results.laps_most_likely_result_tuple.directional_likelihoods_tuple"
   ]
  },
  {
   "cell_type": "code",
   "execution_count": 22,
   "metadata": {},
   "outputs": [
    {
     "data": {
      "text/plain": [
       "DirectionalRankOrderLikelihoods(long_relative_direction_likelihoods=0     0.559657\n",
       "1     0.573001\n",
       "2     0.564693\n",
       "3     0.571294\n",
       "4     0.584085\n",
       "5     0.558303\n",
       "        ...   \n",
       "74    0.524252\n",
       "75    0.584922\n",
       "76    0.543603\n",
       "77    0.585278\n",
       "78    0.599753\n",
       "79    0.620346\n",
       "Name: normed_LR_evidence, Length: 80, dtype: float64, short_relative_direction_likelihoods=0     0.440343\n",
       "1     0.426999\n",
       "2     0.435307\n",
       "3     0.428706\n",
       "4     0.415915\n",
       "5     0.441697\n",
       "        ...   \n",
       "74    0.475748\n",
       "75    0.415078\n",
       "76    0.456397\n",
       "77    0.414722\n",
       "78    0.400247\n",
       "79    0.379654\n",
       "Name: normed_RL_evidence, Length: 80, dtype: float64, long_best_direction_indices=0     True\n",
       "1     True\n",
       "2     True\n",
       "3     True\n",
       "4     True\n",
       "5     True\n",
       "      ... \n",
       "74    True\n",
       "75    True\n",
       "76    True\n",
       "77    True\n",
       "78    True\n",
       "79    True\n",
       "Length: 80, dtype: bool, short_best_direction_indices=0     True\n",
       "1     True\n",
       "2     True\n",
       "3     True\n",
       "4     True\n",
       "5     True\n",
       "      ... \n",
       "74    True\n",
       "75    True\n",
       "76    True\n",
       "77    True\n",
       "78    True\n",
       "79    True\n",
       "Length: 80, dtype: bool)"
      ]
     },
     "execution_count": 22,
     "metadata": {},
     "output_type": "execute_result"
    }
   ],
   "source": [
    "rank_order_results.laps_most_likely_result_tuple.directional_likelihoods_tuple\n",
    ", \n"
   ]
  },
  {
   "cell_type": "code",
   "execution_count": 13,
   "metadata": {},
   "outputs": [
    {
     "data": {
      "text/html": [
       "<div>\n",
       "<style scoped>\n",
       "    .dataframe tbody tr th:only-of-type {\n",
       "        vertical-align: middle;\n",
       "    }\n",
       "\n",
       "    .dataframe tbody tr th {\n",
       "        vertical-align: top;\n",
       "    }\n",
       "\n",
       "    .dataframe thead th {\n",
       "        text-align: right;\n",
       "    }\n",
       "</style>\n",
       "<table border=\"1\" class=\"dataframe\">\n",
       "  <thead>\n",
       "    <tr style=\"text-align: right;\">\n",
       "      <th></th>\n",
       "      <th>start</th>\n",
       "      <th>stop</th>\n",
       "      <th>label</th>\n",
       "      <th>duration</th>\n",
       "      <th>LR_Long_ActuallyIncludedAclus</th>\n",
       "      <th>LR_Long_rel_num_cells</th>\n",
       "      <th>RL_Long_ActuallyIncludedAclus</th>\n",
       "      <th>RL_Long_rel_num_cells</th>\n",
       "      <th>LR_Short_ActuallyIncludedAclus</th>\n",
       "      <th>LR_Short_rel_num_cells</th>\n",
       "      <th>RL_Short_ActuallyIncludedAclus</th>\n",
       "      <th>RL_Short_rel_num_cells</th>\n",
       "      <th>LR_evidence</th>\n",
       "      <th>RL_evidence</th>\n",
       "      <th>LR_product_evidence</th>\n",
       "      <th>RL_product_evidence</th>\n",
       "      <th>normed_LR_evidence</th>\n",
       "      <th>normed_RL_evidence</th>\n",
       "      <th>normed_product_LR_evidence</th>\n",
       "      <th>normed_product_RL_evidence</th>\n",
       "    </tr>\n",
       "  </thead>\n",
       "  <tbody>\n",
       "    <tr>\n",
       "      <th>0</th>\n",
       "      <td>40.187177</td>\n",
       "      <td>40.487557</td>\n",
       "      <td>0</td>\n",
       "      <td>0.300380</td>\n",
       "      <td>[32, 36, 41, 45, 48, 53, 59, 62, 63, 78, 102, ...</td>\n",
       "      <td>12</td>\n",
       "      <td>[32, 36, 41, 45, 48, 53, 59, 62, 63, 78, 102, ...</td>\n",
       "      <td>12</td>\n",
       "      <td>[32, 36, 41, 45, 48, 53, 59, 62, 63, 78, 102, ...</td>\n",
       "      <td>12</td>\n",
       "      <td>[32, 36, 41, 45, 48, 53, 59, 62, 63, 78, 102, ...</td>\n",
       "      <td>12</td>\n",
       "      <td>6.967361</td>\n",
       "      <td>5.032639</td>\n",
       "      <td>0.000000</td>\n",
       "      <td>0.000000</td>\n",
       "      <td>0.580613</td>\n",
       "      <td>0.419387</td>\n",
       "      <td>NaN</td>\n",
       "      <td>NaN</td>\n",
       "    </tr>\n",
       "    <tr>\n",
       "      <th>1</th>\n",
       "      <td>41.011916</td>\n",
       "      <td>41.357670</td>\n",
       "      <td>1</td>\n",
       "      <td>0.345753</td>\n",
       "      <td>[7, 9, 32, 36, 41, 45, 48, 51, 53, 57, 62, 64,...</td>\n",
       "      <td>20</td>\n",
       "      <td>[7, 9, 32, 36, 41, 45, 48, 51, 53, 57, 62, 64,...</td>\n",
       "      <td>20</td>\n",
       "      <td>[7, 9, 32, 36, 41, 45, 48, 51, 53, 57, 62, 64,...</td>\n",
       "      <td>20</td>\n",
       "      <td>[7, 9, 32, 36, 41, 45, 48, 51, 53, 57, 62, 64,...</td>\n",
       "      <td>20</td>\n",
       "      <td>10.309980</td>\n",
       "      <td>8.690020</td>\n",
       "      <td>0.000000</td>\n",
       "      <td>0.000000</td>\n",
       "      <td>0.542631</td>\n",
       "      <td>0.457369</td>\n",
       "      <td>NaN</td>\n",
       "      <td>NaN</td>\n",
       "    </tr>\n",
       "    <tr>\n",
       "      <th>2</th>\n",
       "      <td>43.429702</td>\n",
       "      <td>43.482632</td>\n",
       "      <td>2</td>\n",
       "      <td>0.052931</td>\n",
       "      <td>[48, 51, 53, 55, 59, 62, 78, 81, 88, 108]</td>\n",
       "      <td>10</td>\n",
       "      <td>[48, 51, 53, 55, 59, 62, 78, 81, 88, 108]</td>\n",
       "      <td>10</td>\n",
       "      <td>[48, 51, 53, 55, 59, 62, 78, 81, 88, 108]</td>\n",
       "      <td>10</td>\n",
       "      <td>[48, 51, 53, 55, 59, 62, 78, 81, 88, 108]</td>\n",
       "      <td>10</td>\n",
       "      <td>6.271663</td>\n",
       "      <td>2.728337</td>\n",
       "      <td>0.016934</td>\n",
       "      <td>0.000000</td>\n",
       "      <td>0.696851</td>\n",
       "      <td>0.303149</td>\n",
       "      <td>1.000000</td>\n",
       "      <td>0.000000</td>\n",
       "    </tr>\n",
       "    <tr>\n",
       "      <th>4</th>\n",
       "      <td>44.588736</td>\n",
       "      <td>44.829950</td>\n",
       "      <td>4</td>\n",
       "      <td>0.241213</td>\n",
       "      <td>[9, 31, 32, 36, 48, 51, 57, 59, 62, 63, 88, 98...</td>\n",
       "      <td>13</td>\n",
       "      <td>[9, 31, 32, 36, 48, 51, 57, 59, 62, 63, 88, 98...</td>\n",
       "      <td>13</td>\n",
       "      <td>[9, 31, 32, 36, 48, 51, 57, 59, 62, 63, 88, 98...</td>\n",
       "      <td>13</td>\n",
       "      <td>[9, 31, 32, 36, 48, 51, 57, 59, 62, 63, 88, 98...</td>\n",
       "      <td>13</td>\n",
       "      <td>6.929572</td>\n",
       "      <td>6.070428</td>\n",
       "      <td>0.000000</td>\n",
       "      <td>0.000000</td>\n",
       "      <td>0.533044</td>\n",
       "      <td>0.466956</td>\n",
       "      <td>NaN</td>\n",
       "      <td>NaN</td>\n",
       "    </tr>\n",
       "    <tr>\n",
       "      <th>5</th>\n",
       "      <td>45.137119</td>\n",
       "      <td>45.232842</td>\n",
       "      <td>5</td>\n",
       "      <td>0.095723</td>\n",
       "      <td>[41, 48, 57, 59, 62, 78, 86, 88, 93, 108]</td>\n",
       "      <td>10</td>\n",
       "      <td>[41, 48, 57, 59, 62, 78, 86, 88, 93, 108]</td>\n",
       "      <td>10</td>\n",
       "      <td>[41, 48, 57, 59, 62, 78, 86, 88, 93, 108]</td>\n",
       "      <td>10</td>\n",
       "      <td>[41, 48, 57, 59, 62, 78, 86, 88, 93, 108]</td>\n",
       "      <td>10</td>\n",
       "      <td>5.422436</td>\n",
       "      <td>4.577564</td>\n",
       "      <td>0.000000</td>\n",
       "      <td>0.000085</td>\n",
       "      <td>0.542244</td>\n",
       "      <td>0.457756</td>\n",
       "      <td>0.000000</td>\n",
       "      <td>1.000000</td>\n",
       "    </tr>\n",
       "    <tr>\n",
       "      <th>6</th>\n",
       "      <td>45.379714</td>\n",
       "      <td>45.477250</td>\n",
       "      <td>6</td>\n",
       "      <td>0.097536</td>\n",
       "      <td>[31, 32, 45, 50, 75, 86, 90, 92, 93]</td>\n",
       "      <td>9</td>\n",
       "      <td>[31, 32, 45, 50, 75, 86, 90, 92, 93]</td>\n",
       "      <td>9</td>\n",
       "      <td>[31, 32, 45, 50, 75, 86, 90, 92, 93]</td>\n",
       "      <td>9</td>\n",
       "      <td>[31, 32, 45, 50, 75, 86, 90, 92, 93]</td>\n",
       "      <td>9</td>\n",
       "      <td>3.268585</td>\n",
       "      <td>5.731415</td>\n",
       "      <td>0.000000</td>\n",
       "      <td>0.006670</td>\n",
       "      <td>0.363176</td>\n",
       "      <td>0.636824</td>\n",
       "      <td>0.000000</td>\n",
       "      <td>1.000000</td>\n",
       "    </tr>\n",
       "    <tr>\n",
       "      <th>...</th>\n",
       "      <td>...</td>\n",
       "      <td>...</td>\n",
       "      <td>...</td>\n",
       "      <td>...</td>\n",
       "      <td>...</td>\n",
       "      <td>...</td>\n",
       "      <td>...</td>\n",
       "      <td>...</td>\n",
       "      <td>...</td>\n",
       "      <td>...</td>\n",
       "      <td>...</td>\n",
       "      <td>...</td>\n",
       "      <td>...</td>\n",
       "      <td>...</td>\n",
       "      <td>...</td>\n",
       "      <td>...</td>\n",
       "      <td>...</td>\n",
       "      <td>...</td>\n",
       "      <td>...</td>\n",
       "      <td>...</td>\n",
       "    </tr>\n",
       "    <tr>\n",
       "      <th>620</th>\n",
       "      <td>2033.590214</td>\n",
       "      <td>2033.962356</td>\n",
       "      <td>620</td>\n",
       "      <td>0.372142</td>\n",
       "      <td>[5, 9, 50, 57, 61, 62, 75, 81, 84, 86, 108]</td>\n",
       "      <td>11</td>\n",
       "      <td>[5, 9, 50, 57, 61, 62, 75, 81, 84, 86, 108]</td>\n",
       "      <td>11</td>\n",
       "      <td>[5, 9, 50, 57, 61, 62, 75, 81, 84, 86, 108]</td>\n",
       "      <td>11</td>\n",
       "      <td>[5, 9, 50, 57, 61, 62, 75, 81, 84, 86, 108]</td>\n",
       "      <td>11</td>\n",
       "      <td>4.770001</td>\n",
       "      <td>5.229999</td>\n",
       "      <td>0.000071</td>\n",
       "      <td>0.000484</td>\n",
       "      <td>0.477000</td>\n",
       "      <td>0.523000</td>\n",
       "      <td>0.127713</td>\n",
       "      <td>0.872287</td>\n",
       "    </tr>\n",
       "    <tr>\n",
       "      <th>621</th>\n",
       "      <td>2034.656228</td>\n",
       "      <td>2034.750753</td>\n",
       "      <td>621</td>\n",
       "      <td>0.094525</td>\n",
       "      <td>[41, 48, 57, 59, 61, 62, 69, 86, 88, 100, 108]</td>\n",
       "      <td>11</td>\n",
       "      <td>[41, 48, 57, 59, 61, 62, 69, 86, 88, 100, 108]</td>\n",
       "      <td>11</td>\n",
       "      <td>[41, 48, 57, 59, 61, 62, 69, 86, 88, 100, 108]</td>\n",
       "      <td>11</td>\n",
       "      <td>[41, 48, 57, 59, 61, 62, 69, 86, 88, 100, 108]</td>\n",
       "      <td>11</td>\n",
       "      <td>7.295859</td>\n",
       "      <td>3.704141</td>\n",
       "      <td>0.004659</td>\n",
       "      <td>0.000000</td>\n",
       "      <td>0.663260</td>\n",
       "      <td>0.336740</td>\n",
       "      <td>1.000000</td>\n",
       "      <td>0.000000</td>\n",
       "    </tr>\n",
       "    <tr>\n",
       "      <th>622</th>\n",
       "      <td>2043.892191</td>\n",
       "      <td>2044.072118</td>\n",
       "      <td>622</td>\n",
       "      <td>0.179927</td>\n",
       "      <td>[7, 45, 48, 61, 63, 84, 86, 88, 90, 102]</td>\n",
       "      <td>10</td>\n",
       "      <td>[7, 45, 48, 61, 63, 84, 86, 88, 90, 102]</td>\n",
       "      <td>10</td>\n",
       "      <td>[7, 45, 48, 61, 63, 84, 86, 88, 90, 102]</td>\n",
       "      <td>10</td>\n",
       "      <td>[7, 45, 48, 61, 63, 84, 86, 88, 90, 102]</td>\n",
       "      <td>10</td>\n",
       "      <td>6.030680</td>\n",
       "      <td>3.969320</td>\n",
       "      <td>0.003810</td>\n",
       "      <td>0.000000</td>\n",
       "      <td>0.603068</td>\n",
       "      <td>0.396932</td>\n",
       "      <td>1.000000</td>\n",
       "      <td>0.000000</td>\n",
       "    </tr>\n",
       "    <tr>\n",
       "      <th>623</th>\n",
       "      <td>2045.095432</td>\n",
       "      <td>2045.393262</td>\n",
       "      <td>623</td>\n",
       "      <td>0.297830</td>\n",
       "      <td>[5, 7, 9, 31, 41, 48, 55, 59, 62, 63, 69, 81, ...</td>\n",
       "      <td>16</td>\n",
       "      <td>[5, 7, 9, 31, 41, 48, 55, 59, 62, 63, 69, 81, ...</td>\n",
       "      <td>16</td>\n",
       "      <td>[5, 7, 9, 31, 41, 48, 55, 59, 62, 63, 69, 81, ...</td>\n",
       "      <td>16</td>\n",
       "      <td>[5, 7, 9, 31, 41, 48, 55, 59, 62, 63, 69, 81, ...</td>\n",
       "      <td>16</td>\n",
       "      <td>9.591325</td>\n",
       "      <td>5.408675</td>\n",
       "      <td>0.000375</td>\n",
       "      <td>0.000000</td>\n",
       "      <td>0.639422</td>\n",
       "      <td>0.360578</td>\n",
       "      <td>1.000000</td>\n",
       "      <td>0.000000</td>\n",
       "    </tr>\n",
       "    <tr>\n",
       "      <th>624</th>\n",
       "      <td>2051.149511</td>\n",
       "      <td>2051.267967</td>\n",
       "      <td>624</td>\n",
       "      <td>0.118456</td>\n",
       "      <td>[9, 41, 48, 53, 55, 57, 62, 69, 83, 86, 90, 10...</td>\n",
       "      <td>13</td>\n",
       "      <td>[9, 41, 48, 53, 55, 57, 62, 69, 83, 86, 90, 10...</td>\n",
       "      <td>13</td>\n",
       "      <td>[9, 41, 48, 53, 55, 57, 62, 69, 83, 86, 90, 10...</td>\n",
       "      <td>13</td>\n",
       "      <td>[9, 41, 48, 53, 55, 57, 62, 69, 83, 86, 90, 10...</td>\n",
       "      <td>13</td>\n",
       "      <td>9.205949</td>\n",
       "      <td>3.794051</td>\n",
       "      <td>0.004476</td>\n",
       "      <td>0.000000</td>\n",
       "      <td>0.708150</td>\n",
       "      <td>0.291850</td>\n",
       "      <td>1.000000</td>\n",
       "      <td>0.000000</td>\n",
       "    </tr>\n",
       "    <tr>\n",
       "      <th>625</th>\n",
       "      <td>2053.282860</td>\n",
       "      <td>2053.445093</td>\n",
       "      <td>625</td>\n",
       "      <td>0.162232</td>\n",
       "      <td>[31, 45, 50, 55, 63, 64, 75, 76, 78, 83, 90]</td>\n",
       "      <td>11</td>\n",
       "      <td>[31, 45, 50, 55, 63, 64, 75, 76, 78, 83, 90]</td>\n",
       "      <td>11</td>\n",
       "      <td>[31, 45, 50, 55, 63, 64, 75, 76, 78, 83, 90]</td>\n",
       "      <td>11</td>\n",
       "      <td>[31, 45, 50, 55, 63, 64, 75, 76, 78, 83, 90]</td>\n",
       "      <td>11</td>\n",
       "      <td>5.914235</td>\n",
       "      <td>5.085765</td>\n",
       "      <td>0.000080</td>\n",
       "      <td>0.000000</td>\n",
       "      <td>0.537658</td>\n",
       "      <td>0.462342</td>\n",
       "      <td>1.000000</td>\n",
       "      <td>0.000000</td>\n",
       "    </tr>\n",
       "  </tbody>\n",
       "</table>\n",
       "<p>551 rows × 20 columns</p>\n",
       "</div>"
      ],
      "text/plain": [
       "           start         stop  label  duration                      LR_Long_ActuallyIncludedAclus  LR_Long_rel_num_cells                      RL_Long_ActuallyIncludedAclus  RL_Long_rel_num_cells                     LR_Short_ActuallyIncludedAclus  LR_Short_rel_num_cells                     RL_Short_ActuallyIncludedAclus  RL_Short_rel_num_cells  LR_evidence  RL_evidence  LR_product_evidence  RL_product_evidence  normed_LR_evidence  normed_RL_evidence  normed_product_LR_evidence  normed_product_RL_evidence\n",
       "0      40.187177    40.487557      0  0.300380  [32, 36, 41, 45, 48, 53, 59, 62, 63, 78, 102, ...                     12  [32, 36, 41, 45, 48, 53, 59, 62, 63, 78, 102, ...                     12  [32, 36, 41, 45, 48, 53, 59, 62, 63, 78, 102, ...                      12  [32, 36, 41, 45, 48, 53, 59, 62, 63, 78, 102, ...                      12     6.967361     5.032639             0.000000             0.000000            0.580613            0.419387                         NaN                         NaN\n",
       "1      41.011916    41.357670      1  0.345753  [7, 9, 32, 36, 41, 45, 48, 51, 53, 57, 62, 64,...                     20  [7, 9, 32, 36, 41, 45, 48, 51, 53, 57, 62, 64,...                     20  [7, 9, 32, 36, 41, 45, 48, 51, 53, 57, 62, 64,...                      20  [7, 9, 32, 36, 41, 45, 48, 51, 53, 57, 62, 64,...                      20    10.309980     8.690020             0.000000             0.000000            0.542631            0.457369                         NaN                         NaN\n",
       "2      43.429702    43.482632      2  0.052931          [48, 51, 53, 55, 59, 62, 78, 81, 88, 108]                     10          [48, 51, 53, 55, 59, 62, 78, 81, 88, 108]                     10          [48, 51, 53, 55, 59, 62, 78, 81, 88, 108]                      10          [48, 51, 53, 55, 59, 62, 78, 81, 88, 108]                      10     6.271663     2.728337             0.016934             0.000000            0.696851            0.303149                    1.000000                    0.000000\n",
       "4      44.588736    44.829950      4  0.241213  [9, 31, 32, 36, 48, 51, 57, 59, 62, 63, 88, 98...                     13  [9, 31, 32, 36, 48, 51, 57, 59, 62, 63, 88, 98...                     13  [9, 31, 32, 36, 48, 51, 57, 59, 62, 63, 88, 98...                      13  [9, 31, 32, 36, 48, 51, 57, 59, 62, 63, 88, 98...                      13     6.929572     6.070428             0.000000             0.000000            0.533044            0.466956                         NaN                         NaN\n",
       "5      45.137119    45.232842      5  0.095723          [41, 48, 57, 59, 62, 78, 86, 88, 93, 108]                     10          [41, 48, 57, 59, 62, 78, 86, 88, 93, 108]                     10          [41, 48, 57, 59, 62, 78, 86, 88, 93, 108]                      10          [41, 48, 57, 59, 62, 78, 86, 88, 93, 108]                      10     5.422436     4.577564             0.000000             0.000085            0.542244            0.457756                    0.000000                    1.000000\n",
       "6      45.379714    45.477250      6  0.097536               [31, 32, 45, 50, 75, 86, 90, 92, 93]                      9               [31, 32, 45, 50, 75, 86, 90, 92, 93]                      9               [31, 32, 45, 50, 75, 86, 90, 92, 93]                       9               [31, 32, 45, 50, 75, 86, 90, 92, 93]                       9     3.268585     5.731415             0.000000             0.006670            0.363176            0.636824                    0.000000                    1.000000\n",
       "..           ...          ...    ...       ...                                                ...                    ...                                                ...                    ...                                                ...                     ...                                                ...                     ...          ...          ...                  ...                  ...                 ...                 ...                         ...                         ...\n",
       "620  2033.590214  2033.962356    620  0.372142        [5, 9, 50, 57, 61, 62, 75, 81, 84, 86, 108]                     11        [5, 9, 50, 57, 61, 62, 75, 81, 84, 86, 108]                     11        [5, 9, 50, 57, 61, 62, 75, 81, 84, 86, 108]                      11        [5, 9, 50, 57, 61, 62, 75, 81, 84, 86, 108]                      11     4.770001     5.229999             0.000071             0.000484            0.477000            0.523000                    0.127713                    0.872287\n",
       "621  2034.656228  2034.750753    621  0.094525     [41, 48, 57, 59, 61, 62, 69, 86, 88, 100, 108]                     11     [41, 48, 57, 59, 61, 62, 69, 86, 88, 100, 108]                     11     [41, 48, 57, 59, 61, 62, 69, 86, 88, 100, 108]                      11     [41, 48, 57, 59, 61, 62, 69, 86, 88, 100, 108]                      11     7.295859     3.704141             0.004659             0.000000            0.663260            0.336740                    1.000000                    0.000000\n",
       "622  2043.892191  2044.072118    622  0.179927           [7, 45, 48, 61, 63, 84, 86, 88, 90, 102]                     10           [7, 45, 48, 61, 63, 84, 86, 88, 90, 102]                     10           [7, 45, 48, 61, 63, 84, 86, 88, 90, 102]                      10           [7, 45, 48, 61, 63, 84, 86, 88, 90, 102]                      10     6.030680     3.969320             0.003810             0.000000            0.603068            0.396932                    1.000000                    0.000000\n",
       "623  2045.095432  2045.393262    623  0.297830  [5, 7, 9, 31, 41, 48, 55, 59, 62, 63, 69, 81, ...                     16  [5, 7, 9, 31, 41, 48, 55, 59, 62, 63, 69, 81, ...                     16  [5, 7, 9, 31, 41, 48, 55, 59, 62, 63, 69, 81, ...                      16  [5, 7, 9, 31, 41, 48, 55, 59, 62, 63, 69, 81, ...                      16     9.591325     5.408675             0.000375             0.000000            0.639422            0.360578                    1.000000                    0.000000\n",
       "624  2051.149511  2051.267967    624  0.118456  [9, 41, 48, 53, 55, 57, 62, 69, 83, 86, 90, 10...                     13  [9, 41, 48, 53, 55, 57, 62, 69, 83, 86, 90, 10...                     13  [9, 41, 48, 53, 55, 57, 62, 69, 83, 86, 90, 10...                      13  [9, 41, 48, 53, 55, 57, 62, 69, 83, 86, 90, 10...                      13     9.205949     3.794051             0.004476             0.000000            0.708150            0.291850                    1.000000                    0.000000\n",
       "625  2053.282860  2053.445093    625  0.162232       [31, 45, 50, 55, 63, 64, 75, 76, 78, 83, 90]                     11       [31, 45, 50, 55, 63, 64, 75, 76, 78, 83, 90]                     11       [31, 45, 50, 55, 63, 64, 75, 76, 78, 83, 90]                      11       [31, 45, 50, 55, 63, 64, 75, 76, 78, 83, 90]                      11     5.914235     5.085765             0.000080             0.000000            0.537658            0.462342                    1.000000                    0.000000\n",
       "\n",
       "[551 rows x 20 columns]"
      ]
     },
     "execution_count": 13,
     "metadata": {},
     "output_type": "execute_result"
    }
   ],
   "source": [
    "\n",
    "# Requires `active_epochs_df` coming in:\n",
    "\n",
    "# recieves lists of identities (such as cell aclus) and a function that returns a sortable value for each identity:\n",
    "directional_laps_results = curr_active_pipeline.global_computation_results.computed_data['DirectionalLaps']\n",
    "track_templates: TrackTemplates = directional_laps_results.get_templates(minimum_inclusion_fr_Hz=rank_order_results.minimum_inclusion_fr_Hz) # non-shared-only\n",
    "decoders_dict = track_templates.get_decoders_dict() # decoders_dict = {'long_LR': track_templates.long_LR_decoder, 'long_RL': track_templates.long_RL_decoder, 'short_\n",
    "# LR': track_templates.short_LR_decoder, 'short_RL': track_templates.short_RL_decoder, }\n",
    "\n",
    "# global_replays = TimeColumnAliasesProtocol.renaming_synonym_columns_if_needed(deepcopy(curr_active_pipeline.filtered_sessions[global_epoch_name].replay))\n",
    "# active_replay_epochs, active_epochs_df, active_selected_spikes_df = combine_rank_order_results(rank_order_results, global_replays, track_templates=track_templates)\n",
    "\n",
    "# \n",
    "# ['start', 'stop', 'label', 'duration', 'LR_Long_spearman', 'RL_Long_spearman', 'LR_Short_spearman', 'RL_Short_spearman', 'LR_Long_pearson', 'RL_Long_pearson', 'LR_Short_pearson', 'RL_Short_pearson', 'LR_Long_Old_Spearman', 'RL_Long_Old_Spearman', 'LR_Short_Old_Spearman', 'RL_Short_Old_Spearman', 'LR_Long_ActuallyIncludedAclus', 'LR_Long_rel_num_cells', 'RL_Long_ActuallyIncludedAclus', 'RL_Long_rel_num_cells', 'LR_Short_ActuallyIncludedAclus', 'LR_Short_rel_num_cells', 'RL_Short_ActuallyIncludedAclus', 'RL_Short_rel_num_cells', 'LR_Long_Z', 'RL_Long_Z', 'LR_Short_Z', 'RL_Short_Z']\n",
    "# active_epochs_df.columns\n",
    "# accumulated_evidence_df = pd.DataFrame({'LR_evidence': accumulated_evidence['Normed_LR_rate'], 'RL_evidence': accumulated_evidence['Normed_LR_rate']}) epoch_accumulated_evidence.items()\n",
    "epoch_accumulated_evidence_L, epoch_rate_dfs_L, epochs_df_L = epoch_directionality_active_set_evidence(decoders_dict, rank_order_results.LR_ripple.epochs_df)\n",
    "epochs_df_L"
   ]
  },
  {
   "cell_type": "code",
   "execution_count": 19,
   "id": "3dfa9b7b",
   "metadata": {},
   "outputs": [
    {
     "data": {
      "text/html": [
       "<div>\n",
       "<style scoped>\n",
       "    .dataframe tbody tr th:only-of-type {\n",
       "        vertical-align: middle;\n",
       "    }\n",
       "\n",
       "    .dataframe tbody tr th {\n",
       "        vertical-align: top;\n",
       "    }\n",
       "\n",
       "    .dataframe thead th {\n",
       "        text-align: right;\n",
       "    }\n",
       "</style>\n",
       "<table border=\"1\" class=\"dataframe\">\n",
       "  <thead>\n",
       "    <tr style=\"text-align: right;\">\n",
       "      <th></th>\n",
       "      <th>start</th>\n",
       "      <th>stop</th>\n",
       "      <th>label</th>\n",
       "      <th>duration</th>\n",
       "      <th>LR_Long_ActuallyIncludedAclus</th>\n",
       "      <th>LR_Long_rel_num_cells</th>\n",
       "      <th>RL_Long_ActuallyIncludedAclus</th>\n",
       "      <th>RL_Long_rel_num_cells</th>\n",
       "      <th>LR_Short_ActuallyIncludedAclus</th>\n",
       "      <th>LR_Short_rel_num_cells</th>\n",
       "      <th>RL_Short_ActuallyIncludedAclus</th>\n",
       "      <th>RL_Short_rel_num_cells</th>\n",
       "      <th>LR_evidence</th>\n",
       "      <th>RL_evidence</th>\n",
       "      <th>LR_product_evidence</th>\n",
       "      <th>RL_product_evidence</th>\n",
       "      <th>normed_LR_evidence</th>\n",
       "      <th>normed_RL_evidence</th>\n",
       "      <th>normed_product_LR_evidence</th>\n",
       "      <th>normed_product_RL_evidence</th>\n",
       "    </tr>\n",
       "  </thead>\n",
       "  <tbody>\n",
       "    <tr>\n",
       "      <th>0</th>\n",
       "      <td>5.664919</td>\n",
       "      <td>17.359802</td>\n",
       "      <td>0</td>\n",
       "      <td>11.694883</td>\n",
       "      <td>[5, 31, 32, 36, 41, 45, 48, 50, 53, 55, 57, 59...</td>\n",
       "      <td>33</td>\n",
       "      <td>[5, 31, 32, 36, 41, 45, 48, 50, 53, 55, 57, 59...</td>\n",
       "      <td>33</td>\n",
       "      <td>[5, 31, 32, 36, 41, 45, 48, 50, 53, 55, 57, 59...</td>\n",
       "      <td>33</td>\n",
       "      <td>[5, 31, 32, 36, 41, 45, 48, 50, 53, 55, 57, 59...</td>\n",
       "      <td>33</td>\n",
       "      <td>17.909030</td>\n",
       "      <td>14.090970</td>\n",
       "      <td>0.000000e+00</td>\n",
       "      <td>0.0</td>\n",
       "      <td>0.559657</td>\n",
       "      <td>0.440343</td>\n",
       "      <td>NaN</td>\n",
       "      <td>NaN</td>\n",
       "    </tr>\n",
       "    <tr>\n",
       "      <th>1</th>\n",
       "      <td>31.961164</td>\n",
       "      <td>39.764808</td>\n",
       "      <td>1</td>\n",
       "      <td>7.803644</td>\n",
       "      <td>[5, 31, 32, 36, 41, 45, 48, 50, 51, 53, 55, 57...</td>\n",
       "      <td>34</td>\n",
       "      <td>[5, 31, 32, 36, 41, 45, 48, 50, 51, 53, 55, 57...</td>\n",
       "      <td>34</td>\n",
       "      <td>[5, 31, 32, 36, 41, 45, 48, 50, 51, 53, 55, 57...</td>\n",
       "      <td>34</td>\n",
       "      <td>[5, 31, 32, 36, 41, 45, 48, 50, 51, 53, 55, 57...</td>\n",
       "      <td>34</td>\n",
       "      <td>18.909030</td>\n",
       "      <td>14.090970</td>\n",
       "      <td>0.000000e+00</td>\n",
       "      <td>0.0</td>\n",
       "      <td>0.573001</td>\n",
       "      <td>0.426999</td>\n",
       "      <td>NaN</td>\n",
       "      <td>NaN</td>\n",
       "    </tr>\n",
       "    <tr>\n",
       "      <th>2</th>\n",
       "      <td>135.834493</td>\n",
       "      <td>144.148150</td>\n",
       "      <td>2</td>\n",
       "      <td>8.313657</td>\n",
       "      <td>[5, 7, 9, 31, 32, 36, 41, 45, 48, 50, 51, 53, ...</td>\n",
       "      <td>36</td>\n",
       "      <td>[5, 7, 9, 31, 32, 36, 41, 45, 48, 50, 51, 53, ...</td>\n",
       "      <td>36</td>\n",
       "      <td>[5, 7, 9, 31, 32, 36, 41, 45, 48, 50, 51, 53, ...</td>\n",
       "      <td>36</td>\n",
       "      <td>[5, 7, 9, 31, 32, 36, 41, 45, 48, 50, 51, 53, ...</td>\n",
       "      <td>36</td>\n",
       "      <td>19.764238</td>\n",
       "      <td>15.235762</td>\n",
       "      <td>0.000000e+00</td>\n",
       "      <td>0.0</td>\n",
       "      <td>0.564693</td>\n",
       "      <td>0.435307</td>\n",
       "      <td>NaN</td>\n",
       "      <td>NaN</td>\n",
       "    </tr>\n",
       "    <tr>\n",
       "      <th>3</th>\n",
       "      <td>161.553817</td>\n",
       "      <td>167.318145</td>\n",
       "      <td>3</td>\n",
       "      <td>5.764329</td>\n",
       "      <td>[5, 9, 31, 32, 36, 41, 45, 48, 50, 51, 53, 55,...</td>\n",
       "      <td>35</td>\n",
       "      <td>[5, 9, 31, 32, 36, 41, 45, 48, 50, 51, 53, 55,...</td>\n",
       "      <td>35</td>\n",
       "      <td>[5, 9, 31, 32, 36, 41, 45, 48, 50, 51, 53, 55,...</td>\n",
       "      <td>35</td>\n",
       "      <td>[5, 9, 31, 32, 36, 41, 45, 48, 50, 51, 53, 55,...</td>\n",
       "      <td>35</td>\n",
       "      <td>19.423985</td>\n",
       "      <td>14.576015</td>\n",
       "      <td>0.000000e+00</td>\n",
       "      <td>0.0</td>\n",
       "      <td>0.571294</td>\n",
       "      <td>0.428706</td>\n",
       "      <td>NaN</td>\n",
       "      <td>NaN</td>\n",
       "    </tr>\n",
       "    <tr>\n",
       "      <th>4</th>\n",
       "      <td>234.470126</td>\n",
       "      <td>239.718943</td>\n",
       "      <td>4</td>\n",
       "      <td>5.248817</td>\n",
       "      <td>[5, 31, 32, 41, 45, 48, 50, 53, 55, 61, 63, 64...</td>\n",
       "      <td>29</td>\n",
       "      <td>[5, 31, 32, 41, 45, 48, 50, 53, 55, 61, 63, 64...</td>\n",
       "      <td>29</td>\n",
       "      <td>[5, 31, 32, 41, 45, 48, 50, 53, 55, 61, 63, 64...</td>\n",
       "      <td>29</td>\n",
       "      <td>[5, 31, 32, 41, 45, 48, 50, 53, 55, 61, 63, 64...</td>\n",
       "      <td>29</td>\n",
       "      <td>16.354374</td>\n",
       "      <td>11.645626</td>\n",
       "      <td>0.000000e+00</td>\n",
       "      <td>0.0</td>\n",
       "      <td>0.584085</td>\n",
       "      <td>0.415915</td>\n",
       "      <td>NaN</td>\n",
       "      <td>NaN</td>\n",
       "    </tr>\n",
       "    <tr>\n",
       "      <th>5</th>\n",
       "      <td>255.250813</td>\n",
       "      <td>262.688459</td>\n",
       "      <td>5</td>\n",
       "      <td>7.437646</td>\n",
       "      <td>[5, 9, 31, 32, 36, 41, 45, 48, 50, 53, 55, 57,...</td>\n",
       "      <td>34</td>\n",
       "      <td>[5, 9, 31, 32, 36, 41, 45, 48, 50, 53, 55, 57,...</td>\n",
       "      <td>34</td>\n",
       "      <td>[5, 9, 31, 32, 36, 41, 45, 48, 50, 53, 55, 57,...</td>\n",
       "      <td>34</td>\n",
       "      <td>[5, 9, 31, 32, 36, 41, 45, 48, 50, 53, 55, 57,...</td>\n",
       "      <td>34</td>\n",
       "      <td>18.423985</td>\n",
       "      <td>14.576015</td>\n",
       "      <td>0.000000e+00</td>\n",
       "      <td>0.0</td>\n",
       "      <td>0.558303</td>\n",
       "      <td>0.441697</td>\n",
       "      <td>NaN</td>\n",
       "      <td>NaN</td>\n",
       "    </tr>\n",
       "    <tr>\n",
       "      <th>...</th>\n",
       "      <td>...</td>\n",
       "      <td>...</td>\n",
       "      <td>...</td>\n",
       "      <td>...</td>\n",
       "      <td>...</td>\n",
       "      <td>...</td>\n",
       "      <td>...</td>\n",
       "      <td>...</td>\n",
       "      <td>...</td>\n",
       "      <td>...</td>\n",
       "      <td>...</td>\n",
       "      <td>...</td>\n",
       "      <td>...</td>\n",
       "      <td>...</td>\n",
       "      <td>...</td>\n",
       "      <td>...</td>\n",
       "      <td>...</td>\n",
       "      <td>...</td>\n",
       "      <td>...</td>\n",
       "      <td>...</td>\n",
       "    </tr>\n",
       "    <tr>\n",
       "      <th>74</th>\n",
       "      <td>1999.045622</td>\n",
       "      <td>2002.816193</td>\n",
       "      <td>74</td>\n",
       "      <td>3.770571</td>\n",
       "      <td>[7, 31, 32, 41, 45, 50, 55, 61, 62, 63, 64, 69...</td>\n",
       "      <td>26</td>\n",
       "      <td>[7, 31, 32, 41, 45, 50, 55, 61, 62, 63, 64, 69...</td>\n",
       "      <td>26</td>\n",
       "      <td>[7, 31, 32, 41, 45, 50, 55, 61, 62, 63, 64, 69...</td>\n",
       "      <td>26</td>\n",
       "      <td>[7, 31, 32, 41, 45, 50, 55, 61, 62, 63, 64, 69...</td>\n",
       "      <td>26</td>\n",
       "      <td>13.106307</td>\n",
       "      <td>11.893693</td>\n",
       "      <td>0.000000e+00</td>\n",
       "      <td>0.0</td>\n",
       "      <td>0.524252</td>\n",
       "      <td>0.475748</td>\n",
       "      <td>NaN</td>\n",
       "      <td>NaN</td>\n",
       "    </tr>\n",
       "    <tr>\n",
       "      <th>75</th>\n",
       "      <td>2003.032708</td>\n",
       "      <td>2008.278298</td>\n",
       "      <td>75</td>\n",
       "      <td>5.245591</td>\n",
       "      <td>[5, 7, 9, 31, 32, 41, 45, 48, 50, 51, 53, 55, ...</td>\n",
       "      <td>34</td>\n",
       "      <td>[5, 7, 9, 31, 32, 41, 45, 48, 50, 51, 53, 55, ...</td>\n",
       "      <td>34</td>\n",
       "      <td>[5, 7, 9, 31, 32, 41, 45, 48, 50, 51, 53, 55, ...</td>\n",
       "      <td>34</td>\n",
       "      <td>[5, 7, 9, 31, 32, 41, 45, 48, 50, 51, 53, 55, ...</td>\n",
       "      <td>34</td>\n",
       "      <td>19.302430</td>\n",
       "      <td>13.697570</td>\n",
       "      <td>0.000000e+00</td>\n",
       "      <td>0.0</td>\n",
       "      <td>0.584922</td>\n",
       "      <td>0.415078</td>\n",
       "      <td>NaN</td>\n",
       "      <td>NaN</td>\n",
       "    </tr>\n",
       "    <tr>\n",
       "      <th>76</th>\n",
       "      <td>2019.176367</td>\n",
       "      <td>2024.898701</td>\n",
       "      <td>76</td>\n",
       "      <td>5.722334</td>\n",
       "      <td>[5, 7, 31, 32, 41, 45, 48, 50, 53, 55, 57, 61,...</td>\n",
       "      <td>31</td>\n",
       "      <td>[5, 7, 31, 32, 41, 45, 48, 50, 53, 55, 57, 61,...</td>\n",
       "      <td>31</td>\n",
       "      <td>[5, 7, 31, 32, 41, 45, 48, 50, 53, 55, 57, 61,...</td>\n",
       "      <td>31</td>\n",
       "      <td>[5, 7, 31, 32, 41, 45, 48, 50, 53, 55, 57, 61,...</td>\n",
       "      <td>31</td>\n",
       "      <td>16.308090</td>\n",
       "      <td>13.691910</td>\n",
       "      <td>0.000000e+00</td>\n",
       "      <td>0.0</td>\n",
       "      <td>0.543603</td>\n",
       "      <td>0.456397</td>\n",
       "      <td>NaN</td>\n",
       "      <td>NaN</td>\n",
       "    </tr>\n",
       "    <tr>\n",
       "      <th>77</th>\n",
       "      <td>2026.078563</td>\n",
       "      <td>2031.357209</td>\n",
       "      <td>77</td>\n",
       "      <td>5.278646</td>\n",
       "      <td>[5, 7, 9, 31, 32, 36, 41, 45, 48, 50, 51, 53, ...</td>\n",
       "      <td>34</td>\n",
       "      <td>[5, 7, 9, 31, 32, 36, 41, 45, 48, 50, 51, 53, ...</td>\n",
       "      <td>34</td>\n",
       "      <td>[5, 7, 9, 31, 32, 36, 41, 45, 48, 50, 51, 53, ...</td>\n",
       "      <td>34</td>\n",
       "      <td>[5, 7, 9, 31, 32, 36, 41, 45, 48, 50, 51, 53, ...</td>\n",
       "      <td>34</td>\n",
       "      <td>19.314163</td>\n",
       "      <td>13.685837</td>\n",
       "      <td>0.000000e+00</td>\n",
       "      <td>0.0</td>\n",
       "      <td>0.585278</td>\n",
       "      <td>0.414722</td>\n",
       "      <td>NaN</td>\n",
       "      <td>NaN</td>\n",
       "    </tr>\n",
       "    <tr>\n",
       "      <th>78</th>\n",
       "      <td>2037.629738</td>\n",
       "      <td>2042.169415</td>\n",
       "      <td>78</td>\n",
       "      <td>4.539676</td>\n",
       "      <td>[5, 7, 31, 41, 45, 48, 50, 51, 53, 55, 57, 59,...</td>\n",
       "      <td>31</td>\n",
       "      <td>[5, 7, 31, 41, 45, 48, 50, 51, 53, 55, 57, 59,...</td>\n",
       "      <td>31</td>\n",
       "      <td>[5, 7, 31, 41, 45, 48, 50, 51, 53, 55, 57, 59,...</td>\n",
       "      <td>31</td>\n",
       "      <td>[5, 7, 31, 41, 45, 48, 50, 51, 53, 55, 57, 59,...</td>\n",
       "      <td>31</td>\n",
       "      <td>17.992589</td>\n",
       "      <td>12.007411</td>\n",
       "      <td>0.000000e+00</td>\n",
       "      <td>0.0</td>\n",
       "      <td>0.599753</td>\n",
       "      <td>0.400247</td>\n",
       "      <td>NaN</td>\n",
       "      <td>NaN</td>\n",
       "    </tr>\n",
       "    <tr>\n",
       "      <th>79</th>\n",
       "      <td>2057.648938</td>\n",
       "      <td>2068.835252</td>\n",
       "      <td>79</td>\n",
       "      <td>11.186314</td>\n",
       "      <td>[5, 7, 9, 31, 36, 41, 45, 48, 50, 51, 53, 55, ...</td>\n",
       "      <td>32</td>\n",
       "      <td>[5, 7, 9, 31, 36, 41, 45, 48, 50, 51, 53, 55, ...</td>\n",
       "      <td>32</td>\n",
       "      <td>[5, 7, 9, 31, 36, 41, 45, 48, 50, 51, 53, 55, ...</td>\n",
       "      <td>32</td>\n",
       "      <td>[5, 7, 9, 31, 36, 41, 45, 48, 50, 51, 53, 55, ...</td>\n",
       "      <td>32</td>\n",
       "      <td>19.230736</td>\n",
       "      <td>11.769264</td>\n",
       "      <td>6.888475e-09</td>\n",
       "      <td>0.0</td>\n",
       "      <td>0.620346</td>\n",
       "      <td>0.379654</td>\n",
       "      <td>1.0</td>\n",
       "      <td>0.0</td>\n",
       "    </tr>\n",
       "  </tbody>\n",
       "</table>\n",
       "<p>80 rows × 20 columns</p>\n",
       "</div>"
      ],
      "text/plain": [
       "          start         stop  label   duration                      LR_Long_ActuallyIncludedAclus  LR_Long_rel_num_cells                      RL_Long_ActuallyIncludedAclus  RL_Long_rel_num_cells                     LR_Short_ActuallyIncludedAclus  LR_Short_rel_num_cells                     RL_Short_ActuallyIncludedAclus  RL_Short_rel_num_cells  LR_evidence  RL_evidence  LR_product_evidence  RL_product_evidence  normed_LR_evidence  normed_RL_evidence  normed_product_LR_evidence  normed_product_RL_evidence\n",
       "0      5.664919    17.359802      0  11.694883  [5, 31, 32, 36, 41, 45, 48, 50, 53, 55, 57, 59...                     33  [5, 31, 32, 36, 41, 45, 48, 50, 53, 55, 57, 59...                     33  [5, 31, 32, 36, 41, 45, 48, 50, 53, 55, 57, 59...                      33  [5, 31, 32, 36, 41, 45, 48, 50, 53, 55, 57, 59...                      33    17.909030    14.090970         0.000000e+00                  0.0            0.559657            0.440343                         NaN                         NaN\n",
       "1     31.961164    39.764808      1   7.803644  [5, 31, 32, 36, 41, 45, 48, 50, 51, 53, 55, 57...                     34  [5, 31, 32, 36, 41, 45, 48, 50, 51, 53, 55, 57...                     34  [5, 31, 32, 36, 41, 45, 48, 50, 51, 53, 55, 57...                      34  [5, 31, 32, 36, 41, 45, 48, 50, 51, 53, 55, 57...                      34    18.909030    14.090970         0.000000e+00                  0.0            0.573001            0.426999                         NaN                         NaN\n",
       "2    135.834493   144.148150      2   8.313657  [5, 7, 9, 31, 32, 36, 41, 45, 48, 50, 51, 53, ...                     36  [5, 7, 9, 31, 32, 36, 41, 45, 48, 50, 51, 53, ...                     36  [5, 7, 9, 31, 32, 36, 41, 45, 48, 50, 51, 53, ...                      36  [5, 7, 9, 31, 32, 36, 41, 45, 48, 50, 51, 53, ...                      36    19.764238    15.235762         0.000000e+00                  0.0            0.564693            0.435307                         NaN                         NaN\n",
       "3    161.553817   167.318145      3   5.764329  [5, 9, 31, 32, 36, 41, 45, 48, 50, 51, 53, 55,...                     35  [5, 9, 31, 32, 36, 41, 45, 48, 50, 51, 53, 55,...                     35  [5, 9, 31, 32, 36, 41, 45, 48, 50, 51, 53, 55,...                      35  [5, 9, 31, 32, 36, 41, 45, 48, 50, 51, 53, 55,...                      35    19.423985    14.576015         0.000000e+00                  0.0            0.571294            0.428706                         NaN                         NaN\n",
       "4    234.470126   239.718943      4   5.248817  [5, 31, 32, 41, 45, 48, 50, 53, 55, 61, 63, 64...                     29  [5, 31, 32, 41, 45, 48, 50, 53, 55, 61, 63, 64...                     29  [5, 31, 32, 41, 45, 48, 50, 53, 55, 61, 63, 64...                      29  [5, 31, 32, 41, 45, 48, 50, 53, 55, 61, 63, 64...                      29    16.354374    11.645626         0.000000e+00                  0.0            0.584085            0.415915                         NaN                         NaN\n",
       "5    255.250813   262.688459      5   7.437646  [5, 9, 31, 32, 36, 41, 45, 48, 50, 53, 55, 57,...                     34  [5, 9, 31, 32, 36, 41, 45, 48, 50, 53, 55, 57,...                     34  [5, 9, 31, 32, 36, 41, 45, 48, 50, 53, 55, 57,...                      34  [5, 9, 31, 32, 36, 41, 45, 48, 50, 53, 55, 57,...                      34    18.423985    14.576015         0.000000e+00                  0.0            0.558303            0.441697                         NaN                         NaN\n",
       "..          ...          ...    ...        ...                                                ...                    ...                                                ...                    ...                                                ...                     ...                                                ...                     ...          ...          ...                  ...                  ...                 ...                 ...                         ...                         ...\n",
       "74  1999.045622  2002.816193     74   3.770571  [7, 31, 32, 41, 45, 50, 55, 61, 62, 63, 64, 69...                     26  [7, 31, 32, 41, 45, 50, 55, 61, 62, 63, 64, 69...                     26  [7, 31, 32, 41, 45, 50, 55, 61, 62, 63, 64, 69...                      26  [7, 31, 32, 41, 45, 50, 55, 61, 62, 63, 64, 69...                      26    13.106307    11.893693         0.000000e+00                  0.0            0.524252            0.475748                         NaN                         NaN\n",
       "75  2003.032708  2008.278298     75   5.245591  [5, 7, 9, 31, 32, 41, 45, 48, 50, 51, 53, 55, ...                     34  [5, 7, 9, 31, 32, 41, 45, 48, 50, 51, 53, 55, ...                     34  [5, 7, 9, 31, 32, 41, 45, 48, 50, 51, 53, 55, ...                      34  [5, 7, 9, 31, 32, 41, 45, 48, 50, 51, 53, 55, ...                      34    19.302430    13.697570         0.000000e+00                  0.0            0.584922            0.415078                         NaN                         NaN\n",
       "76  2019.176367  2024.898701     76   5.722334  [5, 7, 31, 32, 41, 45, 48, 50, 53, 55, 57, 61,...                     31  [5, 7, 31, 32, 41, 45, 48, 50, 53, 55, 57, 61,...                     31  [5, 7, 31, 32, 41, 45, 48, 50, 53, 55, 57, 61,...                      31  [5, 7, 31, 32, 41, 45, 48, 50, 53, 55, 57, 61,...                      31    16.308090    13.691910         0.000000e+00                  0.0            0.543603            0.456397                         NaN                         NaN\n",
       "77  2026.078563  2031.357209     77   5.278646  [5, 7, 9, 31, 32, 36, 41, 45, 48, 50, 51, 53, ...                     34  [5, 7, 9, 31, 32, 36, 41, 45, 48, 50, 51, 53, ...                     34  [5, 7, 9, 31, 32, 36, 41, 45, 48, 50, 51, 53, ...                      34  [5, 7, 9, 31, 32, 36, 41, 45, 48, 50, 51, 53, ...                      34    19.314163    13.685837         0.000000e+00                  0.0            0.585278            0.414722                         NaN                         NaN\n",
       "78  2037.629738  2042.169415     78   4.539676  [5, 7, 31, 41, 45, 48, 50, 51, 53, 55, 57, 59,...                     31  [5, 7, 31, 41, 45, 48, 50, 51, 53, 55, 57, 59,...                     31  [5, 7, 31, 41, 45, 48, 50, 51, 53, 55, 57, 59,...                      31  [5, 7, 31, 41, 45, 48, 50, 51, 53, 55, 57, 59,...                      31    17.992589    12.007411         0.000000e+00                  0.0            0.599753            0.400247                         NaN                         NaN\n",
       "79  2057.648938  2068.835252     79  11.186314  [5, 7, 9, 31, 36, 41, 45, 48, 50, 51, 53, 55, ...                     32  [5, 7, 9, 31, 36, 41, 45, 48, 50, 51, 53, 55, ...                     32  [5, 7, 9, 31, 36, 41, 45, 48, 50, 51, 53, 55, ...                      32  [5, 7, 9, 31, 36, 41, 45, 48, 50, 51, 53, 55, ...                      32    19.230736    11.769264         6.888475e-09                  0.0            0.620346            0.379654                         1.0                         0.0\n",
       "\n",
       "[80 rows x 20 columns]"
      ]
     },
     "execution_count": 19,
     "metadata": {},
     "output_type": "execute_result"
    }
   ],
   "source": [
    "_bak_laps = deepcopy(rank_order_results.laps_most_likely_result_tuple)\n",
    "\n",
    "LR_laps_epoch_accumulated_evidence, LR_laps_epoch_rate_dfs, LR_laps_epochs_df = epoch_directionality_active_set_evidence(decoders_dict, rank_order_results.LR_laps.epochs_df)\n",
    "RL_laps_epoch_accumulated_evidence, RL_laps_epoch_rate_dfs, RL_laps_epochs_df = epoch_directionality_active_set_evidence(decoders_dict, rank_order_results.RL_laps.epochs_df)\n",
    "\n",
    "rank_order_results.laps_most_likely_result_tuple.directional_likelihoods_tuple = DirectionalRankOrderLikelihoods(long_relative_direction_likelihoods=LR_laps_epochs_df['normed_LR_evidence'], short_relative_direction_likelihoods=LR_laps_epochs_df['normed_RL_evidence'],\n",
    "                                 long_best_direction_indices=(LR_laps_epochs_df['normed_LR_evidence']>=LR_laps_epochs_df['normed_RL_evidence']), \n",
    "                                 short_best_direction_indices=(LR_laps_epochs_df['normed_LR_evidence']>=LR_laps_epochs_df['normed_RL_evidence']))\n",
    "\n",
    "\n",
    "rank_order_results.laps_most_likely_result_tuple"
   ]
  },
  {
   "cell_type": "code",
   "execution_count": 20,
   "metadata": {},
   "outputs": [
    {
     "data": {
      "text/html": [
       "<div>\n",
       "<style scoped>\n",
       "    .dataframe tbody tr th:only-of-type {\n",
       "        vertical-align: middle;\n",
       "    }\n",
       "\n",
       "    .dataframe tbody tr th {\n",
       "        vertical-align: top;\n",
       "    }\n",
       "\n",
       "    .dataframe thead th {\n",
       "        text-align: right;\n",
       "    }\n",
       "</style>\n",
       "<table border=\"1\" class=\"dataframe\">\n",
       "  <thead>\n",
       "    <tr style=\"text-align: right;\">\n",
       "      <th></th>\n",
       "      <th>start</th>\n",
       "      <th>stop</th>\n",
       "      <th>label</th>\n",
       "      <th>duration</th>\n",
       "      <th>LR_Long_ActuallyIncludedAclus</th>\n",
       "      <th>LR_Long_rel_num_cells</th>\n",
       "      <th>RL_Long_ActuallyIncludedAclus</th>\n",
       "      <th>RL_Long_rel_num_cells</th>\n",
       "      <th>LR_Short_ActuallyIncludedAclus</th>\n",
       "      <th>LR_Short_rel_num_cells</th>\n",
       "      <th>RL_Short_ActuallyIncludedAclus</th>\n",
       "      <th>RL_Short_rel_num_cells</th>\n",
       "      <th>LR_evidence</th>\n",
       "      <th>RL_evidence</th>\n",
       "      <th>LR_product_evidence</th>\n",
       "      <th>RL_product_evidence</th>\n",
       "      <th>normed_LR_evidence</th>\n",
       "      <th>normed_RL_evidence</th>\n",
       "      <th>normed_product_LR_evidence</th>\n",
       "      <th>normed_product_RL_evidence</th>\n",
       "    </tr>\n",
       "  </thead>\n",
       "  <tbody>\n",
       "    <tr>\n",
       "      <th>0</th>\n",
       "      <td>5.664919</td>\n",
       "      <td>17.359802</td>\n",
       "      <td>0</td>\n",
       "      <td>11.694883</td>\n",
       "      <td>[5, 31, 32, 36, 41, 45, 48, 50, 53, 55, 57, 59...</td>\n",
       "      <td>33</td>\n",
       "      <td>[5, 31, 32, 36, 41, 45, 48, 50, 53, 55, 57, 59...</td>\n",
       "      <td>33</td>\n",
       "      <td>[5, 31, 32, 36, 41, 45, 48, 50, 53, 55, 57, 59...</td>\n",
       "      <td>33</td>\n",
       "      <td>[5, 31, 32, 36, 41, 45, 48, 50, 53, 55, 57, 59...</td>\n",
       "      <td>33</td>\n",
       "      <td>17.909030</td>\n",
       "      <td>14.090970</td>\n",
       "      <td>0.000000e+00</td>\n",
       "      <td>0.0</td>\n",
       "      <td>0.559657</td>\n",
       "      <td>0.440343</td>\n",
       "      <td>NaN</td>\n",
       "      <td>NaN</td>\n",
       "    </tr>\n",
       "    <tr>\n",
       "      <th>1</th>\n",
       "      <td>31.961164</td>\n",
       "      <td>39.764808</td>\n",
       "      <td>1</td>\n",
       "      <td>7.803644</td>\n",
       "      <td>[5, 31, 32, 36, 41, 45, 48, 50, 51, 53, 55, 57...</td>\n",
       "      <td>34</td>\n",
       "      <td>[5, 31, 32, 36, 41, 45, 48, 50, 51, 53, 55, 57...</td>\n",
       "      <td>34</td>\n",
       "      <td>[5, 31, 32, 36, 41, 45, 48, 50, 51, 53, 55, 57...</td>\n",
       "      <td>34</td>\n",
       "      <td>[5, 31, 32, 36, 41, 45, 48, 50, 51, 53, 55, 57...</td>\n",
       "      <td>34</td>\n",
       "      <td>18.909030</td>\n",
       "      <td>14.090970</td>\n",
       "      <td>0.000000e+00</td>\n",
       "      <td>0.0</td>\n",
       "      <td>0.573001</td>\n",
       "      <td>0.426999</td>\n",
       "      <td>NaN</td>\n",
       "      <td>NaN</td>\n",
       "    </tr>\n",
       "    <tr>\n",
       "      <th>2</th>\n",
       "      <td>135.834493</td>\n",
       "      <td>144.148150</td>\n",
       "      <td>2</td>\n",
       "      <td>8.313657</td>\n",
       "      <td>[5, 7, 9, 31, 32, 36, 41, 45, 48, 50, 51, 53, ...</td>\n",
       "      <td>36</td>\n",
       "      <td>[5, 7, 9, 31, 32, 36, 41, 45, 48, 50, 51, 53, ...</td>\n",
       "      <td>36</td>\n",
       "      <td>[5, 7, 9, 31, 32, 36, 41, 45, 48, 50, 51, 53, ...</td>\n",
       "      <td>36</td>\n",
       "      <td>[5, 7, 9, 31, 32, 36, 41, 45, 48, 50, 51, 53, ...</td>\n",
       "      <td>36</td>\n",
       "      <td>19.764238</td>\n",
       "      <td>15.235762</td>\n",
       "      <td>0.000000e+00</td>\n",
       "      <td>0.0</td>\n",
       "      <td>0.564693</td>\n",
       "      <td>0.435307</td>\n",
       "      <td>NaN</td>\n",
       "      <td>NaN</td>\n",
       "    </tr>\n",
       "    <tr>\n",
       "      <th>3</th>\n",
       "      <td>161.553817</td>\n",
       "      <td>167.318145</td>\n",
       "      <td>3</td>\n",
       "      <td>5.764329</td>\n",
       "      <td>[5, 9, 31, 32, 36, 41, 45, 48, 50, 51, 53, 55,...</td>\n",
       "      <td>35</td>\n",
       "      <td>[5, 9, 31, 32, 36, 41, 45, 48, 50, 51, 53, 55,...</td>\n",
       "      <td>35</td>\n",
       "      <td>[5, 9, 31, 32, 36, 41, 45, 48, 50, 51, 53, 55,...</td>\n",
       "      <td>35</td>\n",
       "      <td>[5, 9, 31, 32, 36, 41, 45, 48, 50, 51, 53, 55,...</td>\n",
       "      <td>35</td>\n",
       "      <td>19.423985</td>\n",
       "      <td>14.576015</td>\n",
       "      <td>0.000000e+00</td>\n",
       "      <td>0.0</td>\n",
       "      <td>0.571294</td>\n",
       "      <td>0.428706</td>\n",
       "      <td>NaN</td>\n",
       "      <td>NaN</td>\n",
       "    </tr>\n",
       "    <tr>\n",
       "      <th>4</th>\n",
       "      <td>234.470126</td>\n",
       "      <td>239.718943</td>\n",
       "      <td>4</td>\n",
       "      <td>5.248817</td>\n",
       "      <td>[5, 31, 32, 41, 45, 48, 50, 53, 55, 61, 63, 64...</td>\n",
       "      <td>29</td>\n",
       "      <td>[5, 31, 32, 41, 45, 48, 50, 53, 55, 61, 63, 64...</td>\n",
       "      <td>29</td>\n",
       "      <td>[5, 31, 32, 41, 45, 48, 50, 53, 55, 61, 63, 64...</td>\n",
       "      <td>29</td>\n",
       "      <td>[5, 31, 32, 41, 45, 48, 50, 53, 55, 61, 63, 64...</td>\n",
       "      <td>29</td>\n",
       "      <td>16.354374</td>\n",
       "      <td>11.645626</td>\n",
       "      <td>0.000000e+00</td>\n",
       "      <td>0.0</td>\n",
       "      <td>0.584085</td>\n",
       "      <td>0.415915</td>\n",
       "      <td>NaN</td>\n",
       "      <td>NaN</td>\n",
       "    </tr>\n",
       "    <tr>\n",
       "      <th>5</th>\n",
       "      <td>255.250813</td>\n",
       "      <td>262.688459</td>\n",
       "      <td>5</td>\n",
       "      <td>7.437646</td>\n",
       "      <td>[5, 9, 31, 32, 36, 41, 45, 48, 50, 53, 55, 57,...</td>\n",
       "      <td>34</td>\n",
       "      <td>[5, 9, 31, 32, 36, 41, 45, 48, 50, 53, 55, 57,...</td>\n",
       "      <td>34</td>\n",
       "      <td>[5, 9, 31, 32, 36, 41, 45, 48, 50, 53, 55, 57,...</td>\n",
       "      <td>34</td>\n",
       "      <td>[5, 9, 31, 32, 36, 41, 45, 48, 50, 53, 55, 57,...</td>\n",
       "      <td>34</td>\n",
       "      <td>18.423985</td>\n",
       "      <td>14.576015</td>\n",
       "      <td>0.000000e+00</td>\n",
       "      <td>0.0</td>\n",
       "      <td>0.558303</td>\n",
       "      <td>0.441697</td>\n",
       "      <td>NaN</td>\n",
       "      <td>NaN</td>\n",
       "    </tr>\n",
       "    <tr>\n",
       "      <th>...</th>\n",
       "      <td>...</td>\n",
       "      <td>...</td>\n",
       "      <td>...</td>\n",
       "      <td>...</td>\n",
       "      <td>...</td>\n",
       "      <td>...</td>\n",
       "      <td>...</td>\n",
       "      <td>...</td>\n",
       "      <td>...</td>\n",
       "      <td>...</td>\n",
       "      <td>...</td>\n",
       "      <td>...</td>\n",
       "      <td>...</td>\n",
       "      <td>...</td>\n",
       "      <td>...</td>\n",
       "      <td>...</td>\n",
       "      <td>...</td>\n",
       "      <td>...</td>\n",
       "      <td>...</td>\n",
       "      <td>...</td>\n",
       "    </tr>\n",
       "    <tr>\n",
       "      <th>74</th>\n",
       "      <td>1999.045622</td>\n",
       "      <td>2002.816193</td>\n",
       "      <td>74</td>\n",
       "      <td>3.770571</td>\n",
       "      <td>[7, 31, 32, 41, 45, 50, 55, 61, 62, 63, 64, 69...</td>\n",
       "      <td>26</td>\n",
       "      <td>[7, 31, 32, 41, 45, 50, 55, 61, 62, 63, 64, 69...</td>\n",
       "      <td>26</td>\n",
       "      <td>[7, 31, 32, 41, 45, 50, 55, 61, 62, 63, 64, 69...</td>\n",
       "      <td>26</td>\n",
       "      <td>[7, 31, 32, 41, 45, 50, 55, 61, 62, 63, 64, 69...</td>\n",
       "      <td>26</td>\n",
       "      <td>13.106307</td>\n",
       "      <td>11.893693</td>\n",
       "      <td>0.000000e+00</td>\n",
       "      <td>0.0</td>\n",
       "      <td>0.524252</td>\n",
       "      <td>0.475748</td>\n",
       "      <td>NaN</td>\n",
       "      <td>NaN</td>\n",
       "    </tr>\n",
       "    <tr>\n",
       "      <th>75</th>\n",
       "      <td>2003.032708</td>\n",
       "      <td>2008.278298</td>\n",
       "      <td>75</td>\n",
       "      <td>5.245591</td>\n",
       "      <td>[5, 7, 9, 31, 32, 41, 45, 48, 50, 51, 53, 55, ...</td>\n",
       "      <td>34</td>\n",
       "      <td>[5, 7, 9, 31, 32, 41, 45, 48, 50, 51, 53, 55, ...</td>\n",
       "      <td>34</td>\n",
       "      <td>[5, 7, 9, 31, 32, 41, 45, 48, 50, 51, 53, 55, ...</td>\n",
       "      <td>34</td>\n",
       "      <td>[5, 7, 9, 31, 32, 41, 45, 48, 50, 51, 53, 55, ...</td>\n",
       "      <td>34</td>\n",
       "      <td>19.302430</td>\n",
       "      <td>13.697570</td>\n",
       "      <td>0.000000e+00</td>\n",
       "      <td>0.0</td>\n",
       "      <td>0.584922</td>\n",
       "      <td>0.415078</td>\n",
       "      <td>NaN</td>\n",
       "      <td>NaN</td>\n",
       "    </tr>\n",
       "    <tr>\n",
       "      <th>76</th>\n",
       "      <td>2019.176367</td>\n",
       "      <td>2024.898701</td>\n",
       "      <td>76</td>\n",
       "      <td>5.722334</td>\n",
       "      <td>[5, 7, 31, 32, 41, 45, 48, 50, 53, 55, 57, 61,...</td>\n",
       "      <td>31</td>\n",
       "      <td>[5, 7, 31, 32, 41, 45, 48, 50, 53, 55, 57, 61,...</td>\n",
       "      <td>31</td>\n",
       "      <td>[5, 7, 31, 32, 41, 45, 48, 50, 53, 55, 57, 61,...</td>\n",
       "      <td>31</td>\n",
       "      <td>[5, 7, 31, 32, 41, 45, 48, 50, 53, 55, 57, 61,...</td>\n",
       "      <td>31</td>\n",
       "      <td>16.308090</td>\n",
       "      <td>13.691910</td>\n",
       "      <td>0.000000e+00</td>\n",
       "      <td>0.0</td>\n",
       "      <td>0.543603</td>\n",
       "      <td>0.456397</td>\n",
       "      <td>NaN</td>\n",
       "      <td>NaN</td>\n",
       "    </tr>\n",
       "    <tr>\n",
       "      <th>77</th>\n",
       "      <td>2026.078563</td>\n",
       "      <td>2031.357209</td>\n",
       "      <td>77</td>\n",
       "      <td>5.278646</td>\n",
       "      <td>[5, 7, 9, 31, 32, 36, 41, 45, 48, 50, 51, 53, ...</td>\n",
       "      <td>34</td>\n",
       "      <td>[5, 7, 9, 31, 32, 36, 41, 45, 48, 50, 51, 53, ...</td>\n",
       "      <td>34</td>\n",
       "      <td>[5, 7, 9, 31, 32, 36, 41, 45, 48, 50, 51, 53, ...</td>\n",
       "      <td>34</td>\n",
       "      <td>[5, 7, 9, 31, 32, 36, 41, 45, 48, 50, 51, 53, ...</td>\n",
       "      <td>34</td>\n",
       "      <td>19.314163</td>\n",
       "      <td>13.685837</td>\n",
       "      <td>0.000000e+00</td>\n",
       "      <td>0.0</td>\n",
       "      <td>0.585278</td>\n",
       "      <td>0.414722</td>\n",
       "      <td>NaN</td>\n",
       "      <td>NaN</td>\n",
       "    </tr>\n",
       "    <tr>\n",
       "      <th>78</th>\n",
       "      <td>2037.629738</td>\n",
       "      <td>2042.169415</td>\n",
       "      <td>78</td>\n",
       "      <td>4.539676</td>\n",
       "      <td>[5, 7, 31, 41, 45, 48, 50, 51, 53, 55, 57, 59,...</td>\n",
       "      <td>31</td>\n",
       "      <td>[5, 7, 31, 41, 45, 48, 50, 51, 53, 55, 57, 59,...</td>\n",
       "      <td>31</td>\n",
       "      <td>[5, 7, 31, 41, 45, 48, 50, 51, 53, 55, 57, 59,...</td>\n",
       "      <td>31</td>\n",
       "      <td>[5, 7, 31, 41, 45, 48, 50, 51, 53, 55, 57, 59,...</td>\n",
       "      <td>31</td>\n",
       "      <td>17.992589</td>\n",
       "      <td>12.007411</td>\n",
       "      <td>0.000000e+00</td>\n",
       "      <td>0.0</td>\n",
       "      <td>0.599753</td>\n",
       "      <td>0.400247</td>\n",
       "      <td>NaN</td>\n",
       "      <td>NaN</td>\n",
       "    </tr>\n",
       "    <tr>\n",
       "      <th>79</th>\n",
       "      <td>2057.648938</td>\n",
       "      <td>2068.835252</td>\n",
       "      <td>79</td>\n",
       "      <td>11.186314</td>\n",
       "      <td>[5, 7, 9, 31, 36, 41, 45, 48, 50, 51, 53, 55, ...</td>\n",
       "      <td>32</td>\n",
       "      <td>[5, 7, 9, 31, 36, 41, 45, 48, 50, 51, 53, 55, ...</td>\n",
       "      <td>32</td>\n",
       "      <td>[5, 7, 9, 31, 36, 41, 45, 48, 50, 51, 53, 55, ...</td>\n",
       "      <td>32</td>\n",
       "      <td>[5, 7, 9, 31, 36, 41, 45, 48, 50, 51, 53, 55, ...</td>\n",
       "      <td>32</td>\n",
       "      <td>19.230736</td>\n",
       "      <td>11.769264</td>\n",
       "      <td>6.888475e-09</td>\n",
       "      <td>0.0</td>\n",
       "      <td>0.620346</td>\n",
       "      <td>0.379654</td>\n",
       "      <td>1.0</td>\n",
       "      <td>0.0</td>\n",
       "    </tr>\n",
       "  </tbody>\n",
       "</table>\n",
       "<p>80 rows × 20 columns</p>\n",
       "</div>"
      ],
      "text/plain": [
       "          start         stop  label   duration                      LR_Long_ActuallyIncludedAclus  LR_Long_rel_num_cells                      RL_Long_ActuallyIncludedAclus  RL_Long_rel_num_cells                     LR_Short_ActuallyIncludedAclus  LR_Short_rel_num_cells                     RL_Short_ActuallyIncludedAclus  RL_Short_rel_num_cells  LR_evidence  RL_evidence  LR_product_evidence  RL_product_evidence  normed_LR_evidence  normed_RL_evidence  normed_product_LR_evidence  normed_product_RL_evidence\n",
       "0      5.664919    17.359802      0  11.694883  [5, 31, 32, 36, 41, 45, 48, 50, 53, 55, 57, 59...                     33  [5, 31, 32, 36, 41, 45, 48, 50, 53, 55, 57, 59...                     33  [5, 31, 32, 36, 41, 45, 48, 50, 53, 55, 57, 59...                      33  [5, 31, 32, 36, 41, 45, 48, 50, 53, 55, 57, 59...                      33    17.909030    14.090970         0.000000e+00                  0.0            0.559657            0.440343                         NaN                         NaN\n",
       "1     31.961164    39.764808      1   7.803644  [5, 31, 32, 36, 41, 45, 48, 50, 51, 53, 55, 57...                     34  [5, 31, 32, 36, 41, 45, 48, 50, 51, 53, 55, 57...                     34  [5, 31, 32, 36, 41, 45, 48, 50, 51, 53, 55, 57...                      34  [5, 31, 32, 36, 41, 45, 48, 50, 51, 53, 55, 57...                      34    18.909030    14.090970         0.000000e+00                  0.0            0.573001            0.426999                         NaN                         NaN\n",
       "2    135.834493   144.148150      2   8.313657  [5, 7, 9, 31, 32, 36, 41, 45, 48, 50, 51, 53, ...                     36  [5, 7, 9, 31, 32, 36, 41, 45, 48, 50, 51, 53, ...                     36  [5, 7, 9, 31, 32, 36, 41, 45, 48, 50, 51, 53, ...                      36  [5, 7, 9, 31, 32, 36, 41, 45, 48, 50, 51, 53, ...                      36    19.764238    15.235762         0.000000e+00                  0.0            0.564693            0.435307                         NaN                         NaN\n",
       "3    161.553817   167.318145      3   5.764329  [5, 9, 31, 32, 36, 41, 45, 48, 50, 51, 53, 55,...                     35  [5, 9, 31, 32, 36, 41, 45, 48, 50, 51, 53, 55,...                     35  [5, 9, 31, 32, 36, 41, 45, 48, 50, 51, 53, 55,...                      35  [5, 9, 31, 32, 36, 41, 45, 48, 50, 51, 53, 55,...                      35    19.423985    14.576015         0.000000e+00                  0.0            0.571294            0.428706                         NaN                         NaN\n",
       "4    234.470126   239.718943      4   5.248817  [5, 31, 32, 41, 45, 48, 50, 53, 55, 61, 63, 64...                     29  [5, 31, 32, 41, 45, 48, 50, 53, 55, 61, 63, 64...                     29  [5, 31, 32, 41, 45, 48, 50, 53, 55, 61, 63, 64...                      29  [5, 31, 32, 41, 45, 48, 50, 53, 55, 61, 63, 64...                      29    16.354374    11.645626         0.000000e+00                  0.0            0.584085            0.415915                         NaN                         NaN\n",
       "5    255.250813   262.688459      5   7.437646  [5, 9, 31, 32, 36, 41, 45, 48, 50, 53, 55, 57,...                     34  [5, 9, 31, 32, 36, 41, 45, 48, 50, 53, 55, 57,...                     34  [5, 9, 31, 32, 36, 41, 45, 48, 50, 53, 55, 57,...                      34  [5, 9, 31, 32, 36, 41, 45, 48, 50, 53, 55, 57,...                      34    18.423985    14.576015         0.000000e+00                  0.0            0.558303            0.441697                         NaN                         NaN\n",
       "..          ...          ...    ...        ...                                                ...                    ...                                                ...                    ...                                                ...                     ...                                                ...                     ...          ...          ...                  ...                  ...                 ...                 ...                         ...                         ...\n",
       "74  1999.045622  2002.816193     74   3.770571  [7, 31, 32, 41, 45, 50, 55, 61, 62, 63, 64, 69...                     26  [7, 31, 32, 41, 45, 50, 55, 61, 62, 63, 64, 69...                     26  [7, 31, 32, 41, 45, 50, 55, 61, 62, 63, 64, 69...                      26  [7, 31, 32, 41, 45, 50, 55, 61, 62, 63, 64, 69...                      26    13.106307    11.893693         0.000000e+00                  0.0            0.524252            0.475748                         NaN                         NaN\n",
       "75  2003.032708  2008.278298     75   5.245591  [5, 7, 9, 31, 32, 41, 45, 48, 50, 51, 53, 55, ...                     34  [5, 7, 9, 31, 32, 41, 45, 48, 50, 51, 53, 55, ...                     34  [5, 7, 9, 31, 32, 41, 45, 48, 50, 51, 53, 55, ...                      34  [5, 7, 9, 31, 32, 41, 45, 48, 50, 51, 53, 55, ...                      34    19.302430    13.697570         0.000000e+00                  0.0            0.584922            0.415078                         NaN                         NaN\n",
       "76  2019.176367  2024.898701     76   5.722334  [5, 7, 31, 32, 41, 45, 48, 50, 53, 55, 57, 61,...                     31  [5, 7, 31, 32, 41, 45, 48, 50, 53, 55, 57, 61,...                     31  [5, 7, 31, 32, 41, 45, 48, 50, 53, 55, 57, 61,...                      31  [5, 7, 31, 32, 41, 45, 48, 50, 53, 55, 57, 61,...                      31    16.308090    13.691910         0.000000e+00                  0.0            0.543603            0.456397                         NaN                         NaN\n",
       "77  2026.078563  2031.357209     77   5.278646  [5, 7, 9, 31, 32, 36, 41, 45, 48, 50, 51, 53, ...                     34  [5, 7, 9, 31, 32, 36, 41, 45, 48, 50, 51, 53, ...                     34  [5, 7, 9, 31, 32, 36, 41, 45, 48, 50, 51, 53, ...                      34  [5, 7, 9, 31, 32, 36, 41, 45, 48, 50, 51, 53, ...                      34    19.314163    13.685837         0.000000e+00                  0.0            0.585278            0.414722                         NaN                         NaN\n",
       "78  2037.629738  2042.169415     78   4.539676  [5, 7, 31, 41, 45, 48, 50, 51, 53, 55, 57, 59,...                     31  [5, 7, 31, 41, 45, 48, 50, 51, 53, 55, 57, 59,...                     31  [5, 7, 31, 41, 45, 48, 50, 51, 53, 55, 57, 59,...                      31  [5, 7, 31, 41, 45, 48, 50, 51, 53, 55, 57, 59,...                      31    17.992589    12.007411         0.000000e+00                  0.0            0.599753            0.400247                         NaN                         NaN\n",
       "79  2057.648938  2068.835252     79  11.186314  [5, 7, 9, 31, 36, 41, 45, 48, 50, 51, 53, 55, ...                     32  [5, 7, 9, 31, 36, 41, 45, 48, 50, 51, 53, 55, ...                     32  [5, 7, 9, 31, 36, 41, 45, 48, 50, 51, 53, 55, ...                      32  [5, 7, 9, 31, 36, 41, 45, 48, 50, 51, 53, 55, ...                      32    19.230736    11.769264         6.888475e-09                  0.0            0.620346            0.379654                         1.0                         0.0\n",
       "\n",
       "[80 rows x 20 columns]"
      ]
     },
     "execution_count": 20,
     "metadata": {},
     "output_type": "execute_result"
    }
   ],
   "source": [
    "RL_laps_epochs_df"
   ]
  },
  {
   "cell_type": "code",
   "execution_count": null,
   "id": "852508a5",
   "metadata": {},
   "outputs": [],
   "source": [
    "rank_order_results.LR_ripple.epochs_df"
   ]
  },
  {
   "cell_type": "code",
   "execution_count": null,
   "id": "0e2e0279",
   "metadata": {},
   "outputs": [],
   "source": [
    "epoch_accumulated_evidence_R, epoch_rate_dfs_R, epochs_df_R = epoch_directionality_active_set_evidence(decoders_dict, rank_order_results.RL_ripple.epochs_df)\n",
    "epochs_df_R"
   ]
  },
  {
   "cell_type": "code",
   "execution_count": null,
   "id": "f45a9e13",
   "metadata": {},
   "outputs": [],
   "source": [
    "epochs_df_L.plot.scatter(x='start', y='normed_LR_evidence') # 'normed_product_LR_evidence'\n",
    "epochs_df_L.plot.scatter(x='start', y='normed_product_LR_evidence') # 'normed_product_LR_evidence'"
   ]
  },
  {
   "cell_type": "code",
   "execution_count": null,
   "id": "fbeeb826",
   "metadata": {},
   "outputs": [],
   "source": [
    "rank_order_results.LR_laps.epochs_df"
   ]
  },
  {
   "cell_type": "code",
   "execution_count": null,
   "id": "dade730c",
   "metadata": {},
   "outputs": [],
   "source": [
    "rank_order_results.RL_laps.epochs_df"
   ]
  },
  {
   "cell_type": "code",
   "execution_count": null,
   "id": "97b51573",
   "metadata": {},
   "outputs": [],
   "source": [
    "ActuallyIncludedAclusColumnNames = ['LR_Long_ActuallyIncludedAclus', 'RL_Long_ActuallyIncludedAclus', 'LR_Short_ActuallyIncludedAclus', 'RL_Short_ActuallyIncludedAclus']\n",
    "LR_laps_epochs_df[ActuallyIncludedAclusColumnNames]\n",
    "\n",
    "## find uniques in each one:\n",
    "\n",
    "def uniques(*aclus_lists):\n",
    "    "
   ]
  },
  {
   "cell_type": "code",
   "execution_count": null,
   "id": "5e603ce2",
   "metadata": {},
   "outputs": [],
   "source": [
    "an_aclus_lists = LR_laps_epochs_df.loc[0, ActuallyIncludedAclusColumnNames].to_dict()\n",
    "# {'LR_Long_ActuallyIncludedAclus': array([  5,  17,  25,  31,  32,  34,  36,  41,  45,  48,  50,  53,  54,  55,  57,  58,  59,  61,  62,  63,  64,  66,  68,  69,  74,  75,  76,  78,  81,  82,  83,  84,  86,  87,  88,  89,  90,  92,  93,  96,  98, 100, 102, 108]),\n",
    "#  'RL_Long_ActuallyIncludedAclus': array([  3,   5,  10,  11,  14,  15,  16,  21,  31,  32,  33,  35,  36,  37,  41,  45,  48,  49,  50,  53,  55,  57,  59,  60,  61,  62,  63,  64,  69,  70,  71,  73,  75,  76,  78,  81,  83,  84,  86,  88,  89,  90,  92,  93,  98, 100, 102, 107, 108]),\n",
    "#  'LR_Short_ActuallyIncludedAclus': array([  5,  17,  25,  31,  32,  34,  36,  41,  45,  48,  50,  53,  54,  55,  57,  58,  59,  61,  62,  63,  64,  66,  68,  69,  74,  75,  76,  78,  81,  82,  83,  84,  86,  87,  88,  89,  90,  92,  93,  96,  98, 100, 102, 108]),\n",
    "#  'RL_Short_ActuallyIncludedAclus': array([  3,   5,  10,  11,  14,  15,  16,  21,  31,  32,  33,  35,  36,  37,  41,  45,  48,  49,  50,  53,  55,  57,  59,  60,  61,  62,  63,  64,  69,  70,  71,  73,  75,  76,  78,  81,  83,  84,  86,  88,  89,  90,  92,  93,  98, 100, 102, 107, 108])}\n",
    "# an_aclus_lists['LR_Long_ActuallyIncludedAclus']\n",
    "\n",
    "\n",
    "\n",
    "\n",
    "LR_only, RL_only = bidirectional_setdiff1d(an_aclus_lists['LR_Long_ActuallyIncludedAclus'], an_aclus_lists['RL_Long_ActuallyIncludedAclus'])\n",
    "\n",
    "\n"
   ]
  },
  {
   "cell_type": "code",
   "execution_count": null,
   "id": "5ddf883b",
   "metadata": {},
   "outputs": [],
   "source": [
    "[bidirectional_setdiff1d(a_LR_aclus, a_RL_aclus) for a_LR_aclus, a_RL_aclus in zip(LR_laps_epochs_df['LR_Long_ActuallyIncludedAclus'].to_list(), LR_laps_epochs_df['RL_Long_ActuallyIncludedAclus'].to_list())]\n"
   ]
  },
  {
   "cell_type": "code",
   "execution_count": null,
   "id": "480fcaac",
   "metadata": {},
   "outputs": [],
   "source": [
    "RL_laps_epochs_df"
   ]
  },
  {
   "cell_type": "code",
   "execution_count": null,
   "id": "e44e227a",
   "metadata": {},
   "outputs": [],
   "source": [
    "# epochs_df_L.plot(x='start', y=['LR_evidence', 'LR_product_evidence'])"
   ]
  },
  {
   "cell_type": "code",
   "execution_count": null,
   "id": "19e10b38",
   "metadata": {},
   "outputs": [],
   "source": [
    "epochs_df_L.plot(x='start', y=['normed_LR_evidence', 'normed_product_LR_evidence'])"
   ]
  },
  {
   "cell_type": "code",
   "execution_count": null,
   "id": "c48afb06",
   "metadata": {},
   "outputs": [],
   "source": [
    "rank_order_results.LR_laps.epochs_df"
   ]
  },
  {
   "cell_type": "code",
   "execution_count": null,
   "id": "77a1b2bc",
   "metadata": {},
   "outputs": [],
   "source": [
    "epoch_accumulated_evidence, epoch_rate_dfs, epochs_df_L = epoch_directionality_active_set_evidence(decoders_dict, active_epochs_df)\n",
    "epochs_df_L\n"
   ]
  },
  {
   "cell_type": "code",
   "execution_count": null,
   "id": "f8e70134",
   "metadata": {},
   "outputs": [],
   "source": [
    "# 'LR_Long_ActuallyIncludedAclus', 'LR_Long_rel_num_cells', 'RL_Long_ActuallyIncludedAclus', 'RL_Long_rel_num_cells', 'LR_Short_ActuallyIncludedAclus', 'LR_Short_rel_num_cells', 'RL_Short_ActuallyIncludedAclus', 'RL_Short_rel_num_cells'\n",
    "# \n",
    "# epoch_rate_dfs\n",
    "\n",
    "['normed_LR_evidence','normed_RL_evidence','normed_product_LR_evidence','normed_product_RL_evidence']"
   ]
  },
  {
   "cell_type": "code",
   "execution_count": null,
   "id": "2bedea44",
   "metadata": {},
   "outputs": [],
   "source": [
    "long_laps.to_dataframe()"
   ]
  },
  {
   "cell_type": "code",
   "execution_count": null,
   "id": "06db228d",
   "metadata": {},
   "outputs": [],
   "source": [
    "epoch_rate_df = epoch_rate_dfs[410]\n",
    "epoch_rate_df"
   ]
  },
  {
   "cell_type": "code",
   "execution_count": null,
   "id": "7c314a89",
   "metadata": {},
   "outputs": [],
   "source": [
    "epoch_accumulated_evidence"
   ]
  },
  {
   "cell_type": "code",
   "execution_count": null,
   "id": "1e7bc582",
   "metadata": {},
   "outputs": [],
   "source": [
    "epochs_df_L['normed_LR_evidence'].hist()\n",
    "\n",
    "# epochs_df_L[['LR_evidence', 'RL_evidence']]/epochs_df_L[['LR_evidence', 'RL_evidence']].sum(axis=1)\n"
   ]
  },
  {
   "cell_type": "code",
   "execution_count": null,
   "id": "7dfa926a",
   "metadata": {},
   "outputs": [],
   "source": [
    "epochs_df_L['normed_product_LR_evidence'].hist()\n",
    "epochs_df_L['normed_product_RL_evidence'].hist()\n"
   ]
  },
  {
   "cell_type": "code",
   "execution_count": null,
   "id": "28f5ce80",
   "metadata": {},
   "outputs": [],
   "source": [
    "epoch_rate_dfs[188]"
   ]
  },
  {
   "cell_type": "code",
   "execution_count": null,
   "id": "1729b43a",
   "metadata": {},
   "outputs": [],
   "source": [
    "epochs_df_L.plot(x='start', y='normed_LR_evidence')"
   ]
  },
  {
   "cell_type": "code",
   "execution_count": null,
   "id": "a1120474",
   "metadata": {},
   "outputs": [],
   "source": [
    "# Determine which cells are active in the given epoch:\n",
    "\n",
    "# Get these cells' firing rates, using 0.0 if it isn't included in the map for one of the directions\n",
    "\n",
    "\n"
   ]
  },
  {
   "cell_type": "code",
   "execution_count": null,
   "id": "e201caf3",
   "metadata": {},
   "outputs": [],
   "source": [
    "ripple_combined_epoch_stats_df"
   ]
  },
  {
   "cell_type": "code",
   "execution_count": null,
   "id": "bfe1301d",
   "metadata": {},
   "outputs": [],
   "source": [
    "rank_order_results.ripple_combined_epoch_stats_df"
   ]
  },
  {
   "cell_type": "code",
   "execution_count": null,
   "id": "7f467b71",
   "metadata": {},
   "outputs": [],
   "source": [
    "np.isnan(ripple_combined_epoch_stats_df.index).any()"
   ]
  },
  {
   "cell_type": "code",
   "execution_count": null,
   "id": "ae3fe07f",
   "metadata": {},
   "outputs": [],
   "source": [
    "np.isnan(rank_order_results.ripple_combined_epoch_stats_df.index)"
   ]
  },
  {
   "cell_type": "code",
   "execution_count": null,
   "id": "7a69155e",
   "metadata": {},
   "outputs": [],
   "source": [
    "np.isnan(rank_order_results.ripple_combined_epoch_stats_df.label.to_numpy()).all()"
   ]
  },
  {
   "cell_type": "code",
   "execution_count": null,
   "id": "d0961819",
   "metadata": {},
   "outputs": [],
   "source": [
    "rank_order_results.ripple_combined_epoch_stats_df"
   ]
  },
  {
   "cell_type": "markdown",
   "id": "9df97f15",
   "metadata": {},
   "source": [
    "# 2023-12-18 - Simpily detect bimodal cells:"
   ]
  },
  {
   "cell_type": "code",
   "execution_count": null,
   "id": "18a65ed2",
   "metadata": {},
   "outputs": [],
   "source": [
    "long_pf1D.peak_indicies"
   ]
  },
  {
   "cell_type": "code",
   "execution_count": null,
   "id": "9aa93f5f",
   "metadata": {},
   "outputs": [],
   "source": [
    "\n",
    "# active_ratemap.n_neurons\n"
   ]
  },
  {
   "cell_type": "code",
   "execution_count": null,
   "id": "be63bb2e",
   "metadata": {},
   "outputs": [],
   "source": [
    "\n",
    "_restore_previous_matplotlib_settings_callback = matplotlib_configuration_update(is_interactive=True, backend='Qt5Agg')\n",
    "curr_active_pipeline.display('_display_1d_placefields', 'maze1_any')\n"
   ]
  },
  {
   "cell_type": "code",
   "execution_count": null,
   "id": "d86d5308",
   "metadata": {},
   "outputs": [],
   "source": [
    "\n"
   ]
  },
  {
   "cell_type": "code",
   "execution_count": null,
   "id": "8f9795e4",
   "metadata": {},
   "outputs": [],
   "source": [
    "from scipy.signal import find_peaks\n",
    "\n",
    "active_ratemap = deepcopy(long_pf1D.ratemap)\n",
    "active_tuning_curves = deepcopy(active_ratemap.tuning_curves)\n",
    "active_ratemap.tuning_curves.shape # (73, 56) - (n_neurons, n_pos_bins)\n",
    "peaks_list = [find_peaks(active_tuning_curves[i,:])[0] for i in np.arange(active_ratemap.n_neurons)] # [0] outside the find_peaks function gets the location of the peak\n",
    "peaks_dict = dict(zip(active_ratemap.neuron_ids, peaks_list))\n",
    "aclu_n_peaks_dict = {k:len(v) for k,v in peaks_dict.items()} # number of peaks (\"models\" for each aclu)\n",
    "unimodal_peaks_dict = {k:v for k,v in peaks_dict.items() if len(v) < 2}\n",
    "unimodal_peaks_dict"
   ]
  },
  {
   "cell_type": "code",
   "execution_count": null,
   "id": "bf27c021",
   "metadata": {},
   "outputs": [],
   "source": [
    "aclu_n_peaks_dict"
   ]
  },
  {
   "cell_type": "code",
   "execution_count": null,
   "id": "1d106dbc",
   "metadata": {},
   "outputs": [],
   "source": [
    "unimodal_only_aclus = np.array(list(unimodal_peaks_dict.keys()))\n",
    "unimodal_only_aclus"
   ]
  },
  {
   "cell_type": "code",
   "execution_count": null,
   "id": "97cc4383",
   "metadata": {},
   "outputs": [],
   "source": [
    "curr_active_pipeline.display('_display_1d_placefields', 'maze1_any', included_unit_neuron_IDs=unimodal_only_aclus, sortby=[0, 1])"
   ]
  },
  {
   "cell_type": "markdown",
   "id": "0be99ada",
   "metadata": {},
   "source": [
    "## 2023-12-19\n",
    "\n",
    "5 epochs where we have a higher Z for short than we do for long"
   ]
  },
  {
   "cell_type": "code",
   "execution_count": null,
   "metadata": {},
   "outputs": [],
   "source": [
    "rank_order_results.ripple_combined_epoch_stats_df[rank_order_results.ripple_combined_epoch_stats_df.label == 148]"
   ]
  },
  {
   "cell_type": "code",
   "execution_count": null,
   "metadata": {},
   "outputs": [],
   "source": [
    "rank_order_results.LR_ripple.epochs_df[rank_order_results.LR_ripple.epochs_df.label == 148]\n",
    "# rank_order_results.ripple_combined_epoch_stats_df[rank_order_results.ripple_combined_epoch_stats_df.label == 148]"
   ]
  },
  {
   "cell_type": "code",
   "execution_count": null,
   "metadata": {},
   "outputs": [],
   "source": []
  },
  {
   "cell_type": "code",
   "execution_count": null,
   "metadata": {},
   "outputs": [],
   "source": [
    "rank_order_results.ripple_combined_epoch_stats_df[rank_order_results.ripple_combined_epoch_stats_df['LR_Short_spearman'].abs() > rank_order_results.ripple_combined_epoch_stats_df['LR_Long_spearman'].abs()]"
   ]
  },
  {
   "cell_type": "code",
   "execution_count": null,
   "metadata": {},
   "outputs": [],
   "source": [
    "rank_order_results.ripple_combined_epoch_stats_df[(rank_order_results.ripple_combined_epoch_stats_df['LR_Short_spearman_Z'].abs() > rank_order_results.ripple_combined_epoch_stats_df['LR_Long_spearman_Z'].abs()) & (rank_order_results.ripple_combined_epoch_stats_df['LR_Short_spearman_Z'].abs() > 1.98)]"
   ]
  },
  {
   "cell_type": "code",
   "execution_count": null,
   "metadata": {},
   "outputs": [],
   "source": []
  },
  {
   "cell_type": "code",
   "execution_count": null,
   "metadata": {},
   "outputs": [],
   "source": [
    "## Get old LR_ripple/RL_ripple results\n",
    "LR_active_result: RankOrderResult = rank_order_results.LR_ripple\n",
    "LR_active_result_epochs = LR_active_result.epochs_df\n",
    "LR_active_result_epoch_labels = LR_active_result.epochs_df.label.to_numpy()\n",
    "LR_active_result_n_epochs = np.shape(LR_active_result.epochs_df)[0]\n",
    "LR_z_variable_shapes = [np.shape(x) for x in (LR_active_result.long_z_score, LR_active_result.short_z_score, LR_active_result.long_short_z_score_diff)]\n",
    "assert np.all([LR_active_result_n_epochs == s[0] for s in LR_z_variable_shapes]), f\"z-variable shapes should match the number of epochs\"\n",
    "\n",
    "\n",
    "RL_active_result: RankOrderResult = rank_order_results.RL_ripple\n",
    "RL_active_result_epochs = RL_active_result.epochs_df\n",
    "RL_active_result_epoch_labels = RL_active_result.epochs_df.label.to_numpy()\n",
    "print(f'active_result_epoch_labels: {RL_active_result_epoch_labels}')\n",
    "RL_active_result_n_epochs = np.shape(RL_active_result.epochs_df)[0]\n",
    "RL_z_variable_shapes = [np.shape(x) for x in (RL_active_result.long_z_score, RL_active_result.short_z_score, RL_active_result.long_short_z_score_diff)]\n",
    "print(f'RL_z_variable_shapes: {RL_z_variable_shapes}')\n",
    "assert np.all([RL_active_result_n_epochs == s[0] for s in RL_z_variable_shapes]), f\"z-variable shapes should match the number of epochs\"\n",
    "\n",
    "## LR and RL epoch labels must be equal to each other!\n",
    "assert (np.array_equal(rank_order_results.LR_ripple.epochs_df.label.to_numpy(), rank_order_results.RL_ripple.epochs_df.label.to_numpy())), f\"Epoch labels must be equal\"\n",
    "new_result_epochs_df = deepcopy(rank_order_results.LR_ripple.epochs_df)\n",
    "new_result_epochs_df.reset_index(drop=True)\n",
    "new_result_df = pd.DataFrame({\n",
    "'label': deepcopy(RL_active_result.epochs_df.label.to_numpy()),\n",
    "'LR_Long_Z': rank_order_results.LR_ripple.long_z_score, \n",
    "'LR_Short_Z': rank_order_results.LR_ripple.short_z_score,\n",
    "'LR_LongShort_Zdiff': rank_order_results.LR_ripple.long_short_z_score_diff,\n",
    "'RL_Long_Z': rank_order_results.RL_ripple.long_z_score, \n",
    "'RL_Short_Z': rank_order_results.RL_ripple.short_z_score,\n",
    "'RL_LongShort_Zdiff': rank_order_results.RL_ripple.long_short_z_score_diff,\n",
    " }, index=new_result_epochs_df.index).reset_index(drop=True)\n",
    "\n",
    "# new_result_epochs_df.update(new_result_df, errors='raise')\n",
    "# assert np.shape(new_result_epochs_df)[0] == np.shape(rank_order_results.LR_ripple.epochs_df)[0], f\"number of rows must not have changed\"\n",
    "# new_result_epochs_df\n",
    "new_result_df"
   ]
  },
  {
   "cell_type": "code",
   "execution_count": null,
   "metadata": {},
   "outputs": [],
   "source": [
    "interesting_labels = [4, 148]"
   ]
  },
  {
   "cell_type": "code",
   "execution_count": null,
   "metadata": {},
   "outputs": [],
   "source": [
    "new_result_df[new_result_df.label == 4]"
   ]
  },
  {
   "cell_type": "code",
   "execution_count": null,
   "metadata": {},
   "outputs": [],
   "source": [
    "new_result_df[new_result_df['LR_Long_Z'].abs() > 1.97]\n"
   ]
  },
  {
   "cell_type": "code",
   "execution_count": null,
   "metadata": {},
   "outputs": [],
   "source": [
    "rank_order_results.ripple_combined_epoch_stats_df[rank_order_results.ripple_combined_epoch_stats_df.label == 4]"
   ]
  },
  {
   "cell_type": "markdown",
   "metadata": {},
   "source": [
    "# 2023-12-19 - Transmition Matricies Version"
   ]
  },
  {
   "cell_type": "code",
   "execution_count": null,
   "metadata": {},
   "outputs": [],
   "source": [
    "from PendingNotebookCode import TransitionMatrixComputations"
   ]
  },
  {
   "cell_type": "code",
   "execution_count": null,
   "metadata": {},
   "outputs": [],
   "source": [
    "# pf1D = deepcopy(global_pf1D)\n",
    "# pf1D = deepcopy(short_pf1D)\n",
    "# pf1D = deepcopy(long_pf1D)\n",
    "\n",
    "\n",
    "decoders_dict = track_templates.get_decoders_dict()\n",
    "binned_x_transition_matrix_higher_order_list_dict = {}\n",
    "\n",
    "for a_decoder_name, a_decoder in decoders_dict.items():\n",
    "\ta_pf1D = deepcopy(a_decoder.pf)\n",
    "\tbinned_x_transition_matrix_higher_order_list_dict[a_decoder_name] = TransitionMatrixComputations._compute_position_transition_matrix(a_pf1D.xbin_labels, a_pf1D.filtered_pos_df['binned_x'].to_numpy())\n",
    "\n",
    "binned_x_transition_matrix_higher_order_list_dict"
   ]
  },
  {
   "cell_type": "code",
   "execution_count": null,
   "metadata": {},
   "outputs": [],
   "source": [
    "# a_decoder.dec\n",
    "\n",
    "long_LR_pf1D_Decoder.active_time_window_centers"
   ]
  },
  {
   "cell_type": "code",
   "execution_count": null,
   "metadata": {},
   "outputs": [],
   "source": [
    "# Visualization ______________________________________________________________________________________________________ #\n",
    "from pyphoplacecellanalysis.GUI.PyQtPlot.BinnedImageRenderingWindow import BasicBinnedImageRenderingWindow, LayoutScrollability\n",
    "out = BasicBinnedImageRenderingWindow(binned_x_transition_matrix_higher_order_list[2], a_pf1D.xbin_labels, a_pf1D.xbin_labels, name='binned_x_transition_matrix', title=\"Transition Matrix for binned x (from, to)\", variable_label='Transition Matrix', scrollability_mode=LayoutScrollability.NON_SCROLLABLE)\n",
    "\n"
   ]
  },
  {
   "cell_type": "code",
   "execution_count": null,
   "metadata": {},
   "outputs": [],
   "source": [
    "from scipy.sparse import csr_matrix\n",
    "\n",
    "rank_order_results.LR_laps.spikes_df"
   ]
  },
  {
   "cell_type": "code",
   "execution_count": null,
   "metadata": {},
   "outputs": [],
   "source": [
    "def _time_transition_matrix(df, bin_size=0.25): # \"0.25S\"\n",
    "\t# df[\"bin\"] = pd.cut(df[\"t_rel_seconds\"], bins=pd.timedelta_range(df[\"t_rel_seconds\"].min(), df[\"t_rel_seconds\"].max(), freq=bin_size))\n",
    "\t# df[\"bin\"] = pd.cut(\n",
    "\t# \tpd.to_timedelta(df[\"t_rel_seconds\"], unit=\"s\"),\n",
    "\t# \tbins=pd.timedelta_range(df[\"t_rel_seconds\"].min(), df[\"t_rel_seconds\"].max(), freq=bin_size),\n",
    "\t# )\n",
    "\tdef get_bin(seconds):\n",
    "\t\tbin_number = int(seconds // bin_size)\n",
    "\t\treturn bin_number\n",
    "\n",
    "\tdf[\"bin\"] = df[\"t_rel_seconds\"].apply(get_bin)\n",
    "\n",
    "\ttransition_matrix = csr_matrix((\n",
    "\t\tcounts, (i, j)\n",
    "\t) for i, (bin, group) in df.groupby([\"bin\", \"aclu\"]).agg(counts=(\"aclu\", \"count\")).iterrows()\n",
    "\t\tfor j, counts in group.iteritems()\n",
    "\t)\n",
    "\ttransition_matrix /= transition_matrix.sum(axis=1, keepdims=True)\n",
    "\n",
    "\treturn transition_matrix\n",
    "\n",
    "\n",
    "test_spikes_df = deepcopy(rank_order_results.LR_laps.spikes_df)\n",
    "\n",
    "test_spikes_df = test_spikes_df.spikes.add_binned_time_column()\n",
    "\n",
    "# [['t_rel_seconds', 'aclu', 'flat_spike_idx', 'Probe_Epoch_id']]]\n",
    "\n",
    "\n",
    "test_spikes_df\n"
   ]
  },
  {
   "cell_type": "code",
   "execution_count": null,
   "metadata": {},
   "outputs": [],
   "source": [
    "transition_matrix = _time_transition_matrix(df=test_spikes_df) #  bin_size=\"0.25S\"\n",
    "transition_matrix"
   ]
  },
  {
   "cell_type": "code",
   "execution_count": null,
   "metadata": {},
   "outputs": [],
   "source": [
    "long_LR_pf1D_Decoder.time_window_centers\n",
    "# long_LR_pf1D_Decoder.decode_specific_epochs\n",
    "long_LR_pf1D_Decoder.p_x_given_n\n",
    "\n",
    "# time_bin_size = 0.25\n",
    "time_bin_size = 0.1\n",
    "manual_time_bin_start_t = curr_active_pipeline.sess.t_start\n",
    "manual_time_bin_end_t = curr_active_pipeline.sess.t_stop\n",
    "\n",
    "print(f'time_bin_size: {time_bin_size}, manual_time_bins: (start_t: {manual_time_bin_start_t}, end_t: {manual_time_bin_end_t})')\n",
    "manual_time_window_edges, manual_time_window_edges_binning_info = compute_spanning_bins(None, bin_size=time_bin_size, variable_start_value=manual_time_bin_start_t, variable_end_value=manual_time_bin_end_t) # np.shape(out_digitized_variable_bins)[0] == np.shape(spikes_df)[0]\n",
    "# debug_print_1D_bin_infos(manual_time_window_edges, 'manual_time_window_edges')\n",
    "\n",
    "## Build the new decoder with custom params:\n",
    "new_decoder_pf_params = deepcopy(active_computation_config.pf_params) # should be a PlacefieldComputationParameters\n",
    "# override some settings before computation:\n",
    "new_decoder_pf_params.time_bin_size = time_bin_size\n",
    "\n",
    "## 1D Decoder\n",
    "new_decoder_pf1D = active_pf_1D\n",
    "new_1D_decoder_spikes_df = new_decoder_pf1D.filtered_spikes_df.copy()\n",
    "new_1D_decoder_spikes_df = new_1D_decoder_spikes_df.spikes.add_binned_time_column(manual_time_window_edges, manual_time_window_edges_binning_info, debug_print=False)\n",
    "new_1D_decoder = BayesianPlacemapPositionDecoder(new_decoder_pf_params.time_bin_size, new_decoder_pf1D, new_1D_decoder_spikes_df, manual_time_window_edges=manual_time_window_edges, manual_time_window_edges_binning_info=manual_time_window_edges_binning_info, debug_print=False)\n",
    "new_1D_decoder.compute_all() #  --> n = self.\n"
   ]
  },
  {
   "cell_type": "code",
   "execution_count": null,
   "metadata": {},
   "outputs": [],
   "source": [
    "long_LR_pf1D_Decoder.unit_specific_time_binned_spike_counts.shape"
   ]
  },
  {
   "cell_type": "code",
   "execution_count": null,
   "metadata": {},
   "outputs": [],
   "source": [
    "df"
   ]
  },
  {
   "cell_type": "code",
   "execution_count": null,
   "metadata": {},
   "outputs": [],
   "source": []
  }
 ],
 "metadata": {
  "kernelspec": {
   "display_name": "spike3d-poetry",
   "language": "python",
   "name": "spike3d-poetry"
  },
  "language_info": {
   "codemirror_mode": {
    "name": "ipython",
    "version": 3
   },
   "file_extension": ".py",
   "mimetype": "text/x-python",
   "name": "python",
   "nbconvert_exporter": "python",
   "pygments_lexer": "ipython3",
   "version": "3.9.13"
  }
 },
 "nbformat": 4,
 "nbformat_minor": 5
}
