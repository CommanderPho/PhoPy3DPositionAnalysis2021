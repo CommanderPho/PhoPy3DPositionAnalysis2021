{
 "cells": [
  {
   "cell_type": "code",
   "execution_count": 1,
   "id": "0056bc66-7629-4ef7-8c87-f28f8fcd9dc8",
   "metadata": {
    "autorun": true,
    "is_executing": true,
    "tags": [
     "imports",
     "REQUIRED",
     "ACTIVE"
    ]
   },
   "outputs": [
    {
     "name": "stdout",
     "output_type": "stream",
     "text": [
      "build_module_logger(module_name=\"Spike3D.pipeline\"):\n",
      "\t Module logger com.PhoHale.Spike3D.pipeline has file logging enabled and will log to EXTERNAL\\TESTING\\Logging\\debug_com.PhoHale.Spike3D.pipeline.log\n",
      "active_global_batch_result_suffix: 2023-08-08_Apogee\n"
     ]
    }
   ],
   "source": [
    "%load_ext autoreload\n",
    "%autoreload 3\n",
    "from pathlib import Path\n",
    "import pathlib\n",
    "import numpy as np\n",
    "import pandas as pd\n",
    "from typing import List, Optional, Dict\n",
    "## Pho's Custom Libraries:\n",
    "from pyphocorehelpers.Filesystem.path_helpers import find_first_extant_path\n",
    "\n",
    "# pyPhoPlaceCellAnalysis:\n",
    "# NeuroPy (Diba Lab Python Repo) Loading\n",
    "from neuropy.core.session.Formats.BaseDataSessionFormats import DataSessionFormatRegistryHolder\n",
    "from neuropy.core.session.Formats.Specific.BapunDataSessionFormat import BapunDataSessionFormatRegisteredClass\n",
    "from neuropy.core.session.Formats.Specific.KDibaOldDataSessionFormat import KDibaOldDataSessionFormatRegisteredClass\n",
    "from neuropy.core.session.Formats.Specific.RachelDataSessionFormat import RachelDataSessionFormat\n",
    "from neuropy.core.session.Formats.Specific.HiroDataSessionFormat import HiroDataSessionFormatRegisteredClass\n",
    "\n",
    "## For computation parameters:\n",
    "from neuropy.utils.result_context import IdentifyingContext\n",
    "from pyphoplacecellanalysis.General.Pipeline.Stages.Loading import saveData, loadData\n",
    "from pyphoplacecellanalysis.General.Batch.runBatch import BatchRun, BatchResultDataframeAccessor, run_diba_batch, BatchComputationProcessOptions, BatchSessionCompletionHandler, SessionBatchProgress, main\n",
    "from pyphoplacecellanalysis.General.Pipeline.NeuropyPipeline import PipelineSavingScheme\n",
    "from pyphoplacecellanalysis.General.Batch.AcrossSessionResults import AcrossSessionsResults, AcrossSessionsVisualizations\n",
    "from pyphocorehelpers.Filesystem.path_helpers import set_posix_windows\n",
    "\n",
    "BATCH_DATE_TO_USE = '2023-08-08' # used for filenames throught the notebook\n",
    "active_global_batch_result_suffix:str = f\"{BATCH_DATE_TO_USE}_Apogee\"\n",
    "print(f'active_global_batch_result_suffix: {active_global_batch_result_suffix}')"
   ]
  },
  {
   "cell_type": "markdown",
   "id": "ab824348",
   "metadata": {
    "tags": []
   },
   "source": [
    "# Run Batch Executions/Computations"
   ]
  },
  {
   "cell_type": "code",
   "execution_count": 2,
   "id": "019afbbd-70d2-4e75-9548-b6f22d2e31ca",
   "metadata": {
    "scrolled": true,
    "tags": []
   },
   "outputs": [],
   "source": [
    "# Hardcoded included_session_contexts:\n",
    "\n",
    "\n",
    "\n",
    "included_session_contexts: Optional[List[IdentifyingContext]] = [\n",
    "    # IdentifyingContext(format_name='kdiba',animal='gor01',exper_name='one',session_name='2006-6-08_14-26-15'),\n",
    "    # IdentifyingContext(format_name='kdiba',animal='gor01',exper_name='one',session_name='2006-6-09_1-22-43'),\n",
    "    # IdentifyingContext(format_name='kdiba',animal='gor01',exper_name='one',session_name='2006-6-12_15-55-31'),\n",
    "    IdentifyingContext(format_name='kdiba',animal='gor01',exper_name='two',session_name='2006-6-07_16-40-19'),\n",
    "    IdentifyingContext(format_name='kdiba',animal='gor01',exper_name='two',session_name='2006-6-08_21-16-25'),\n",
    "    IdentifyingContext(format_name='kdiba',animal='gor01',exper_name='two',session_name='2006-6-09_22-24-40'),\n",
    "    IdentifyingContext(format_name='kdiba',animal='gor01',exper_name='two',session_name='2006-6-12_16-53-46'),\n",
    "    IdentifyingContext(format_name='kdiba',animal='vvp01',exper_name='one',session_name='2006-4-09_17-29-30'),\n",
    "    IdentifyingContext(format_name='kdiba',animal='vvp01',exper_name='one',session_name='2006-4-10_12-25-50'),\n",
    "    IdentifyingContext(format_name='kdiba',animal='vvp01',exper_name='two',session_name='2006-4-09_16-40-54'),\n",
    "    IdentifyingContext(format_name='kdiba',animal='vvp01',exper_name='two',session_name='2006-4-10_12-58-3'),\n",
    "    IdentifyingContext(format_name='kdiba',animal='pin01',exper_name='one',session_name='11-02_17-46-44'),\n",
    "    IdentifyingContext(format_name='kdiba',animal='pin01',exper_name='one',session_name='11-02_19-28-0'),\n",
    "    IdentifyingContext(format_name='kdiba',animal='pin01',exper_name='one',session_name='11-03_12-3-25'),\n",
    "    IdentifyingContext(format_name='kdiba',animal='pin01',exper_name='one',session_name='fet11-01_12-58-54')]\n",
    "\n",
    "## Included Session Contexts:\n",
    "# included_session_contexts = batch_progress_df[np.logical_and(batch_progress_df['has_user_replay_annotations'], batch_progress_df['is_ready'])]['context'].to_numpy().tolist()\n",
    "\n",
    "# Only require sessions to have replay annotations:\n",
    "# included_session_contexts = batch_progress_df[batch_progress_df['has_user_replay_annotations']]['context'].to_numpy().tolist()\n",
    "\n",
    "# included_session_contexts = batch_progress_df['context'].to_numpy().tolist()[:4] # Only get the first 6\n",
    "## Limit the contexts to run to the last N:\n",
    "# included_session_contexts = included_session_contexts[:2]\n",
    "\n",
    "# ## No filtering the sessions:\n",
    "# included_session_contexts = None\n"
   ]
  },
  {
   "cell_type": "code",
   "execution_count": 6,
   "id": "d382a65e",
   "metadata": {},
   "outputs": [
    {
     "name": "stdout",
     "output_type": "stream",
     "text": [
      "Starting runBatch.main(active_result_suffix: \"2023-08-08_Apogee\", ...) ...\n",
      "finalized_loaded_global_batch_result_pickle_path: W:\\Data\\global_batch_result_2023-08-08_Apogee.pkl\n",
      "finalized_loaded_global_batch_result_pickle_path: W:\\Data\\global_batch_result_2023-08-08_Apogee.pkl\n",
      "Loading loaded session pickle file results : W:\\Data\\global_batch_result_2023-08-08_Apogee.pkl... encountered exception 'BatchRun' object is not iterable while printing. Turning into a warning and continuing.\n",
      "done.\n",
      "no difference between provided and internal paths.\n",
      "len(included_session_contexts): 15\n",
      "forced reloading...\n",
      "Beginning processing with len(included_session_contexts): 15\n",
      "basedir: W:\\Data\\KDIBA\\gor01\\one\\2006-6-08_14-26-15\n",
      "active_data_mode_name: kdiba\n",
      "Skipping loading from pickled file because force_reload == True.\n",
      "Loading matlab import file results : W:\\Data\\KDIBA\\gor01\\one\\2006-6-08_14-26-15\\2006-6-08_14-26-15.epochs_info.mat... done.\n",
      "Loading matlab import file results : W:\\Data\\KDIBA\\gor01\\one\\2006-6-08_14-26-15\\2006-6-08_14-26-15.position_info.mat... done.\n",
      "Loading matlab import file results : W:\\Data\\KDIBA\\gor01\\one\\2006-6-08_14-26-15\\2006-6-08_14-26-15.spikes.mat... "
     ]
    },
    {
     "name": "stderr",
     "output_type": "stream",
     "text": [
      "C:\\Users\\pho\\repos\\Spike3DWorkEnv\\NeuroPy\\neuropy\\core\\session\\Formats\\SessionSpecifications.py:122: UserWarning: WARNING: Optional File: W:\\Data\\KDIBA\\gor01\\one\\2006-6-08_14-26-15\\2006-6-08_14-26-15.dat does not exist. Continuing without it.\n",
      "  warnings.warn(f'WARNING: Optional File: {an_optional_filepath} does not exist. Continuing without it.')\n"
     ]
    },
    {
     "name": "stdout",
     "output_type": "stream",
     "text": [
      "done.\n",
      "Failure loading .position.npy. Must recompute.\n",
      "\n",
      "Saving updated position results results : W:\\Data\\KDIBA\\gor01\\one\\2006-6-08_14-26-15\\2006-6-08_14-26-15.position.npy... 2006-6-08_14-26-15.position.npy saved\n",
      "done.\n",
      "\t force_recompute is True! Forcing recomputation of .interpolated_spike_positions.npy\n",
      "\n",
      "Computing interpolate_spike_positions columns results : spikes_df... done.\n",
      "\t Saving updated interpolated spike position results results : W:\\Data\\KDIBA\\gor01\\one\\2006-6-08_14-26-15\\2006-6-08_14-26-15.interpolated_spike_positions.npy... 2006-6-08_14-26-15.interpolated_spike_positions.npy saved\n",
      "done.\n",
      "Loading matlab import file results : W:\\Data\\KDIBA\\gor01\\one\\2006-6-08_14-26-15\\2006-6-08_14-26-15.laps_info.mat... done.\n",
      "setting laps object.\n",
      "session.laps loaded successfully!\n",
      "Loading matlab import file results : W:\\Data\\KDIBA\\gor01\\one\\2006-6-08_14-26-15\\2006-6-08_14-26-15.replay_info.mat... done.\n",
      "session.replays loaded successfully!\n",
      "Loading success: W:\\Data\\KDIBA\\gor01\\one\\2006-6-08_14-26-15\\ripple_df.pkl.\n",
      "force_recompute is True, recomputing...\n",
      "computing neurons mua for session...\n",
      "\n",
      "Saving mua results results : W:\\Data\\KDIBA\\gor01\\one\\2006-6-08_14-26-15\\2006-6-08_14-26-15.mua.npy... 2006-6-08_14-26-15.mua.npy saved\n",
      "done.\n",
      "force_recompute is True, recomputing...\n",
      "computing PBE epochs for session...\n",
      "\n",
      "Saving pbe results results : W:\\Data\\KDIBA\\gor01\\one\\2006-6-08_14-26-15\\2006-6-08_14-26-15.pbe.npy... 2006-6-08_14-26-15.pbe.npy saved\n",
      "done.\n",
      "Computing spikes_df PBEs column results : spikes_df... done.\n",
      "Computing added spike scISI column results : spikes_df... done.\n"
     ]
    },
    {
     "ename": "KeyboardInterrupt",
     "evalue": "",
     "output_type": "error",
     "traceback": [
      "\u001b[1;31m---------------------------------------------------------------------------\u001b[0m",
      "\u001b[1;31mKeyboardInterrupt\u001b[0m                         Traceback (most recent call last)",
      "Cell \u001b[1;32mIn[6], line 1\u001b[0m\n\u001b[1;32m----> 1\u001b[0m global_batch_run, result_handler, across_sessions_instantaneous_fr_dict, output_filenames_tuple \u001b[39m=\u001b[39m main(active_result_suffix\u001b[39m=\u001b[39;49mactive_global_batch_result_suffix, included_session_contexts\u001b[39m=\u001b[39;49mincluded_session_contexts,\n\u001b[0;32m      2\u001b[0m                                                                                                        num_processes\u001b[39m=\u001b[39;49m\u001b[39m1\u001b[39;49m, should_force_reload_all\u001b[39m=\u001b[39;49m\u001b[39mTrue\u001b[39;49;00m, should_perform_figure_generation_to_file\u001b[39m=\u001b[39;49m\u001b[39mFalse\u001b[39;49;00m, debug_print\u001b[39m=\u001b[39;49m\u001b[39mTrue\u001b[39;49;00m)\n",
      "File \u001b[1;32m~\\repos\\Spike3DWorkEnv\\pyPhoPlaceCellAnalysis\\src\\pyphoplacecellanalysis\\General\\Batch\\runBatch.py:1400\u001b[0m, in \u001b[0;36mmain\u001b[1;34m(active_result_suffix, included_session_contexts, num_processes, should_force_reload_all, should_perform_figure_generation_to_file, debug_print)\u001b[0m\n\u001b[0;32m   1388\u001b[0m \u001b[39m## Execute with the custom arguments.\u001b[39;00m\n\u001b[0;32m   1389\u001b[0m active_computation_functions_name_includelist\u001b[39m=\u001b[39m[\u001b[39m'\u001b[39m\u001b[39m_perform_baseline_placefield_computation\u001b[39m\u001b[39m'\u001b[39m,\n\u001b[0;32m   1390\u001b[0m                                         \u001b[39m# '_perform_time_dependent_placefield_computation',\u001b[39;00m\n\u001b[0;32m   1391\u001b[0m                                         \u001b[39m'\u001b[39m\u001b[39m_perform_extended_statistics_computation\u001b[39m\u001b[39m'\u001b[39m,\n\u001b[1;32m   (...)\u001b[0m\n\u001b[0;32m   1397\u001b[0m                                         \u001b[39m# '_perform_recursive_latent_placefield_decoding'\u001b[39;00m\n\u001b[0;32m   1398\u001b[0m                                     ]\n\u001b[1;32m-> 1400\u001b[0m global_batch_run\u001b[39m.\u001b[39mexecute_all(force_reload\u001b[39m=\u001b[39mresult_handler\u001b[39m.\u001b[39mforce_reload_all, saving_mode\u001b[39m=\u001b[39mresult_handler\u001b[39m.\u001b[39msaving_mode, skip_extended_batch_computations\u001b[39m=\u001b[39m\u001b[39mTrue\u001b[39;00m, post_run_callback_fn\u001b[39m=\u001b[39mresult_handler\u001b[39m.\u001b[39mon_complete_success_execution_session,\n\u001b[0;32m   1401\u001b[0m                          fail_on_exception\u001b[39m=\u001b[39m\u001b[39mFalse\u001b[39;00m, included_session_contexts\u001b[39m=\u001b[39mincluded_session_contexts,\n\u001b[0;32m   1402\u001b[0m                                                                                     \u001b[39m*\u001b[39m\u001b[39m*\u001b[39m{\u001b[39m'\u001b[39m\u001b[39mcomputation_functions_name_includelist\u001b[39m\u001b[39m'\u001b[39m: active_computation_functions_name_includelist,\n\u001b[0;32m   1403\u001b[0m                                                                                         \u001b[39m'\u001b[39m\u001b[39mactive_session_computation_configs\u001b[39m\u001b[39m'\u001b[39m: \u001b[39mNone\u001b[39;00m,\n\u001b[0;32m   1404\u001b[0m                                                                                         \u001b[39m'\u001b[39m\u001b[39mallow_processing_previously_completed\u001b[39m\u001b[39m'\u001b[39m: \u001b[39mTrue\u001b[39;00m}, \u001b[39m*\u001b[39m\u001b[39m*\u001b[39mmultiprocessing_kwargs) \u001b[39m# can override `active_session_computation_configs` if we want to set custom ones like only the laps.)\u001b[39;00m\n\u001b[0;32m   1406\u001b[0m \u001b[39m# Save to pickle:\u001b[39;00m\n\u001b[0;32m   1407\u001b[0m saveData(finalized_loaded_global_batch_result_pickle_path, global_batch_run) \u001b[39m# Update the global batch run dictionary\u001b[39;00m\n",
      "File \u001b[1;32m~\\repos\\Spike3DWorkEnv\\pyPhoPlaceCellAnalysis\\src\\pyphoplacecellanalysis\\General\\Batch\\runBatch.py:319\u001b[0m, in \u001b[0;36mBatchRun.execute_all\u001b[1;34m(self, use_multiprocessing, num_processes, included_session_contexts, session_inclusion_filter, **kwargs)\u001b[0m\n\u001b[0;32m    317\u001b[0m curr_session_status \u001b[39m=\u001b[39m \u001b[39mself\u001b[39m\u001b[39m.\u001b[39msession_batch_status[curr_session_context]\n\u001b[0;32m    318\u001b[0m curr_session_basedir \u001b[39m=\u001b[39m \u001b[39mself\u001b[39m\u001b[39m.\u001b[39msession_batch_basedirs[curr_session_context]\n\u001b[1;32m--> 319\u001b[0m \u001b[39mself\u001b[39m\u001b[39m.\u001b[39msession_batch_status[curr_session_context], \u001b[39mself\u001b[39m\u001b[39m.\u001b[39msession_batch_errors[curr_session_context], \u001b[39mself\u001b[39m\u001b[39m.\u001b[39msession_batch_outputs[curr_session_context] \u001b[39m=\u001b[39m run_specific_batch(\u001b[39mself\u001b[39m, curr_session_context, curr_session_basedir, \u001b[39m*\u001b[39m\u001b[39m*\u001b[39mkwargs)\n",
      "File \u001b[1;32m~\\repos\\Spike3DWorkEnv\\pyPhoPlaceCellAnalysis\\src\\pyphoplacecellanalysis\\General\\Batch\\runBatch.py:1299\u001b[0m, in \u001b[0;36mrun_specific_batch\u001b[1;34m(active_batch_run, curr_session_context, curr_session_basedir, force_reload, post_run_callback_fn, **kwargs)\u001b[0m\n\u001b[0;32m   1296\u001b[0m debug_print \u001b[39m=\u001b[39m kwargs\u001b[39m.\u001b[39mpop(\u001b[39m'\u001b[39m\u001b[39mdebug_print\u001b[39m\u001b[39m'\u001b[39m, \u001b[39mFalse\u001b[39;00m)\n\u001b[0;32m   1298\u001b[0m \u001b[39mtry\u001b[39;00m:\n\u001b[1;32m-> 1299\u001b[0m     curr_active_pipeline \u001b[39m=\u001b[39m batch_load_session(active_batch_run\u001b[39m.\u001b[39mglobal_data_root_parent_path, active_data_mode_name, basedir, epoch_name_includelist\u001b[39m=\u001b[39mepoch_name_includelist,\n\u001b[0;32m   1300\u001b[0m                                     computation_functions_name_includelist\u001b[39m=\u001b[39mactive_computation_functions_name_includelist,\n\u001b[0;32m   1301\u001b[0m                                     saving_mode\u001b[39m=\u001b[39msaving_mode, force_reload\u001b[39m=\u001b[39mforce_reload, skip_extended_batch_computations\u001b[39m=\u001b[39mskip_extended_batch_computations, debug_print\u001b[39m=\u001b[39mdebug_print, fail_on_exception\u001b[39m=\u001b[39mfail_on_exception, \u001b[39m*\u001b[39m\u001b[39m*\u001b[39mkwargs)\n\u001b[0;32m   1303\u001b[0m \u001b[39mexcept\u001b[39;00m \u001b[39mException\u001b[39;00m \u001b[39mas\u001b[39;00m e:\n\u001b[0;32m   1304\u001b[0m     \u001b[39mreturn\u001b[39;00m (SessionBatchProgress\u001b[39m.\u001b[39mFAILED, \u001b[39mf\u001b[39m\u001b[39m\"\u001b[39m\u001b[39m{\u001b[39;00me\u001b[39m}\u001b[39;00m\u001b[39m\"\u001b[39m, \u001b[39mNone\u001b[39;00m) \u001b[39m# return the Failed status and the exception that occured.\u001b[39;00m\n",
      "File \u001b[1;32m~\\repos\\Spike3DWorkEnv\\pyPhoPlaceCellAnalysis\\src\\pyphoplacecellanalysis\\General\\Batch\\NonInteractiveProcessing.py:126\u001b[0m, in \u001b[0;36mbatch_load_session\u001b[1;34m(global_data_root_parent_path, active_data_mode_name, basedir, force_reload, saving_mode, fail_on_exception, skip_extended_batch_computations, **kwargs)\u001b[0m\n\u001b[0;32m    123\u001b[0m active_data_mode_type_properties \u001b[39m=\u001b[39m known_data_session_type_properties_dict[active_data_mode_name]\n\u001b[0;32m    125\u001b[0m \u001b[39m## Begin main run of the pipeline (load or execute):\u001b[39;00m\n\u001b[1;32m--> 126\u001b[0m curr_active_pipeline \u001b[39m=\u001b[39m NeuropyPipeline\u001b[39m.\u001b[39;49mtry_init_from_saved_pickle_or_reload_if_needed(active_data_mode_name, active_data_mode_type_properties,\n\u001b[0;32m    127\u001b[0m     override_basepath\u001b[39m=\u001b[39;49mPath(basedir), force_reload\u001b[39m=\u001b[39;49mforce_reload, active_pickle_filename\u001b[39m=\u001b[39;49mactive_pickle_filename, skip_save_on_initial_load\u001b[39m=\u001b[39;49m\u001b[39mTrue\u001b[39;49;00m)\n\u001b[0;32m    129\u001b[0m was_loaded_from_file: \u001b[39mbool\u001b[39m \u001b[39m=\u001b[39m  curr_active_pipeline\u001b[39m.\u001b[39mhas_associated_pickle \u001b[39m# True if pipeline was loaded from an existing file, False if it was created fresh\u001b[39;00m\n\u001b[0;32m    132\u001b[0m active_session_filter_configurations \u001b[39m=\u001b[39m active_data_mode_registered_class\u001b[39m.\u001b[39mbuild_default_filter_functions(sess\u001b[39m=\u001b[39mcurr_active_pipeline\u001b[39m.\u001b[39msess, epoch_name_includelist\u001b[39m=\u001b[39mepoch_name_includelist) \u001b[39m# build_filters_pyramidal_epochs(sess=curr_kdiba_pipeline.sess)\u001b[39;00m\n",
      "File \u001b[1;32m~\\repos\\Spike3DWorkEnv\\pyPhoPlaceCellAnalysis\\src\\pyphoplacecellanalysis\\General\\Pipeline\\NeuropyPipeline.py:292\u001b[0m, in \u001b[0;36mNeuropyPipeline.try_init_from_saved_pickle_or_reload_if_needed\u001b[1;34m(cls, type_name, known_type_properties, override_basepath, override_post_load_functions, force_reload, active_pickle_filename, skip_save_on_initial_load, progress_print, debug_print)\u001b[0m\n\u001b[0;32m    290\u001b[0m \u001b[39mif\u001b[39;00m debug_print:\n\u001b[0;32m    291\u001b[0m     \u001b[39mprint\u001b[39m(\u001b[39mf\u001b[39m\u001b[39m'\u001b[39m\u001b[39mMust reload/rebuild.\u001b[39m\u001b[39m'\u001b[39m)\n\u001b[1;32m--> 292\u001b[0m curr_active_pipeline \u001b[39m=\u001b[39m \u001b[39mcls\u001b[39;49m\u001b[39m.\u001b[39;49minit_from_known_data_session_type(type_name, known_type_properties, override_basepath\u001b[39m=\u001b[39;49mPath(basepath), override_post_load_functions\u001b[39m=\u001b[39;49mpost_load_functions)\n\u001b[0;32m    293\u001b[0m \u001b[39m# Save reloaded pipeline out to pickle for future loading\u001b[39;00m\n\u001b[0;32m    294\u001b[0m \u001b[39mif\u001b[39;00m \u001b[39mnot\u001b[39;00m skip_save_on_initial_load:\n",
      "File \u001b[1;32m~\\repos\\Spike3DWorkEnv\\pyPhoPlaceCellAnalysis\\src\\pyphoplacecellanalysis\\General\\Pipeline\\NeuropyPipeline.py:163\u001b[0m, in \u001b[0;36mNeuropyPipeline.init_from_known_data_session_type\u001b[1;34m(cls, type_name, known_type_properties, override_basepath, override_post_load_functions)\u001b[0m\n\u001b[0;32m    160\u001b[0m \u001b[39melse\u001b[39;00m:\n\u001b[0;32m    161\u001b[0m     post_load_functions \u001b[39m=\u001b[39m known_type_properties\u001b[39m.\u001b[39mpost_load_functions\n\u001b[1;32m--> 163\u001b[0m \u001b[39mreturn\u001b[39;00m \u001b[39mcls\u001b[39;49m(name\u001b[39m=\u001b[39;49m\u001b[39mf\u001b[39;49m\u001b[39m'\u001b[39;49m\u001b[39m{\u001b[39;49;00mtype_name\u001b[39m}\u001b[39;49;00m\u001b[39m_pipeline\u001b[39;49m\u001b[39m'\u001b[39;49m, session_data_type\u001b[39m=\u001b[39;49mtype_name, basedir\u001b[39m=\u001b[39;49mbasepath,\n\u001b[0;32m    164\u001b[0m     load_function\u001b[39m=\u001b[39;49mknown_type_properties\u001b[39m.\u001b[39;49mload_function, post_load_functions\u001b[39m=\u001b[39;49mpost_load_functions)\n",
      "File \u001b[1;32m~\\repos\\Spike3DWorkEnv\\pyPhoPlaceCellAnalysis\\src\\pyphoplacecellanalysis\\General\\Pipeline\\NeuropyPipeline.py:144\u001b[0m, in \u001b[0;36mNeuropyPipeline.__init__\u001b[1;34m(self, name, session_data_type, basedir, load_function, post_load_functions, parent, **kwargs)\u001b[0m\n\u001b[0;32m    141\u001b[0m \u001b[39mself\u001b[39m\u001b[39m.\u001b[39m_registered_output_files \u001b[39m=\u001b[39m \u001b[39mNone\u001b[39;00m \u001b[39m# for RegisteredOutputsMixin\u001b[39;00m\n\u001b[0;32m    143\u001b[0m _stage_changed_connection \u001b[39m=\u001b[39m \u001b[39mself\u001b[39m\u001b[39m.\u001b[39msigStageChanged\u001b[39m.\u001b[39mconnect(\u001b[39mself\u001b[39m\u001b[39m.\u001b[39mon_stage_changed)\n\u001b[1;32m--> 144\u001b[0m \u001b[39mself\u001b[39;49m\u001b[39m.\u001b[39;49mset_input(name\u001b[39m=\u001b[39;49mname, session_data_type\u001b[39m=\u001b[39;49msession_data_type, basedir\u001b[39m=\u001b[39;49mbasedir, load_function\u001b[39m=\u001b[39;49mload_function, post_load_functions\u001b[39m=\u001b[39;49mpost_load_functions)\n",
      "File \u001b[1;32m~\\repos\\Spike3DWorkEnv\\pyPhoPlaceCellAnalysis\\src\\pyphoplacecellanalysis\\General\\Pipeline\\Stages\\Loading.py:226\u001b[0m, in \u001b[0;36mPipelineWithInputStage.set_input\u001b[1;34m(self, session_data_type, basedir, load_function, post_load_functions, auto_load, **kwargs)\u001b[0m\n\u001b[0;32m    219\u001b[0m \u001b[39mself\u001b[39m\u001b[39m.\u001b[39mstage \u001b[39m=\u001b[39m InputPipelineStage(\n\u001b[0;32m    220\u001b[0m     stage_name\u001b[39m=\u001b[39m\u001b[39mf\u001b[39m\u001b[39m\"\u001b[39m\u001b[39m{\u001b[39;00m\u001b[39mself\u001b[39m\u001b[39m.\u001b[39mpipeline_name\u001b[39m}\u001b[39;00m\u001b[39m_input\u001b[39m\u001b[39m\"\u001b[39m,\n\u001b[0;32m    221\u001b[0m     basedir\u001b[39m=\u001b[39mactive_basedir,\n\u001b[0;32m    222\u001b[0m     load_function\u001b[39m=\u001b[39mload_function,\n\u001b[0;32m    223\u001b[0m     post_load_functions\u001b[39m=\u001b[39mpost_load_functions\n\u001b[0;32m    224\u001b[0m )\n\u001b[0;32m    225\u001b[0m \u001b[39mif\u001b[39;00m auto_load:\n\u001b[1;32m--> 226\u001b[0m     \u001b[39mself\u001b[39;49m\u001b[39m.\u001b[39;49mload()\n",
      "File \u001b[1;32m~\\repos\\Spike3DWorkEnv\\pyPhoPlaceCellAnalysis\\src\\pyphoplacecellanalysis\\General\\Pipeline\\Stages\\Loading.py:337\u001b[0m, in \u001b[0;36mPipelineWithLoadableStage.load\u001b[1;34m(self)\u001b[0m\n\u001b[0;32m    336\u001b[0m \u001b[39mdef\u001b[39;00m \u001b[39mload\u001b[39m(\u001b[39mself\u001b[39m):\n\u001b[1;32m--> 337\u001b[0m     \u001b[39mself\u001b[39;49m\u001b[39m.\u001b[39;49mstage\u001b[39m.\u001b[39;49mload()  \u001b[39m# perform the load operation:\u001b[39;00m\n\u001b[0;32m    338\u001b[0m     \u001b[39mself\u001b[39m\u001b[39m.\u001b[39mstage \u001b[39m=\u001b[39m LoadedPipelineStage(\u001b[39mself\u001b[39m\u001b[39m.\u001b[39mstage)  \u001b[39m# build the loaded stage\u001b[39;00m\n\u001b[0;32m    339\u001b[0m     \u001b[39mself\u001b[39m\u001b[39m.\u001b[39mstage\u001b[39m.\u001b[39mpost_load(progress_logger\u001b[39m=\u001b[39m\u001b[39mself\u001b[39m\u001b[39m.\u001b[39mlogger)\n",
      "File \u001b[1;32m~\\repos\\Spike3DWorkEnv\\pyPhoPlaceCellAnalysis\\src\\pyphoplacecellanalysis\\General\\Pipeline\\Stages\\Loading.py:109\u001b[0m, in \u001b[0;36mLoadableInput.load\u001b[1;34m(self)\u001b[0m\n\u001b[0;32m    107\u001b[0m \u001b[39mself\u001b[39m\u001b[39m.\u001b[39mloaded_data \u001b[39m=\u001b[39m \u001b[39mdict\u001b[39m()\n\u001b[0;32m    108\u001b[0m \u001b[39m# call the internal load_function with the self.basedir.\u001b[39;00m\n\u001b[1;32m--> 109\u001b[0m \u001b[39mself\u001b[39m\u001b[39m.\u001b[39mloaded_data[\u001b[39m\"\u001b[39m\u001b[39msess\u001b[39m\u001b[39m\"\u001b[39m] \u001b[39m=\u001b[39m \u001b[39mself\u001b[39;49m\u001b[39m.\u001b[39;49mload_function(\u001b[39mself\u001b[39;49m\u001b[39m.\u001b[39;49mbasedir)\n\u001b[0;32m    111\u001b[0m \u001b[39mpass\u001b[39;00m\n",
      "File \u001b[1;32m~\\repos\\Spike3DWorkEnv\\NeuroPy\\neuropy\\core\\session\\Formats\\Specific\\KDibaOldDataSessionFormat.py:135\u001b[0m, in \u001b[0;36mKDibaOldDataSessionFormatRegisteredClass.get_known_data_session_type_properties.<locals>.<lambda>\u001b[1;34m(a_base_dir)\u001b[0m\n\u001b[0;32m    133\u001b[0m \u001b[39melse\u001b[39;00m:\n\u001b[0;32m    134\u001b[0m     basepath \u001b[39m=\u001b[39m Path(\u001b[39mcls\u001b[39m\u001b[39m.\u001b[39m_session_default_basedir)\n\u001b[1;32m--> 135\u001b[0m \u001b[39mreturn\u001b[39;00m KnownDataSessionTypeProperties(load_function\u001b[39m=\u001b[39m(\u001b[39mlambda\u001b[39;00m a_base_dir: \u001b[39mcls\u001b[39;49m\u001b[39m.\u001b[39;49mget_session(basedir\u001b[39m=\u001b[39;49ma_base_dir)), \n\u001b[0;32m    136\u001b[0m                         basedir\u001b[39m=\u001b[39mbasepath, post_load_functions\u001b[39m=\u001b[39m[\u001b[39mlambda\u001b[39;00m a_loaded_sess: \u001b[39mcls\u001b[39m\u001b[39m.\u001b[39mPOSTLOAD_estimate_laps_and_replays(a_loaded_sess)])\n",
      "File \u001b[1;32m~\\repos\\Spike3DWorkEnv\\NeuroPy\\neuropy\\core\\session\\Formats\\BaseDataSessionFormats.py:280\u001b[0m, in \u001b[0;36mDataSessionFormatBaseRegisteredClass.get_session\u001b[1;34m(cls, basedir)\u001b[0m\n\u001b[0;32m    277\u001b[0m \u001b[39m@classmethod\u001b[39m\n\u001b[0;32m    278\u001b[0m \u001b[39mdef\u001b[39;00m \u001b[39mget_session\u001b[39m(\u001b[39mcls\u001b[39m, basedir):\n\u001b[0;32m    279\u001b[0m     _test_session \u001b[39m=\u001b[39m \u001b[39mcls\u001b[39m\u001b[39m.\u001b[39mbuild_session(Path(basedir))\n\u001b[1;32m--> 280\u001b[0m     _test_session, loaded_file_record_list \u001b[39m=\u001b[39m \u001b[39mcls\u001b[39;49m\u001b[39m.\u001b[39;49mload_session(_test_session)\n\u001b[0;32m    281\u001b[0m     \u001b[39mreturn\u001b[39;00m _test_session\n",
      "File \u001b[1;32m~\\repos\\Spike3DWorkEnv\\NeuroPy\\neuropy\\core\\session\\Formats\\Specific\\KDibaOldDataSessionFormat.py:501\u001b[0m, in \u001b[0;36mKDibaOldDataSessionFormatRegisteredClass.load_session\u001b[1;34m(cls, session, debug_print)\u001b[0m\n\u001b[0;32m    498\u001b[0m session\u001b[39m.\u001b[39mflattened_spiketrains \u001b[39m=\u001b[39m FlattenedSpiketrains(spikes_df, time_variable_name\u001b[39m=\u001b[39mactive_time_variable_name)\n\u001b[0;32m    500\u001b[0m \u001b[39m# Common Extended properties:\u001b[39;00m\n\u001b[1;32m--> 501\u001b[0m session \u001b[39m=\u001b[39m \u001b[39mcls\u001b[39;49m\u001b[39m.\u001b[39;49m_default_extended_postload(session\u001b[39m.\u001b[39;49mfilePrefix, session, force_recompute\u001b[39m=\u001b[39;49m\u001b[39mTrue\u001b[39;49;00m)\n\u001b[0;32m    502\u001b[0m session\u001b[39m.\u001b[39mis_loaded \u001b[39m=\u001b[39m \u001b[39mTrue\u001b[39;00m \u001b[39m# indicate the session is loaded\u001b[39;00m\n\u001b[0;32m    505\u001b[0m \u001b[39mreturn\u001b[39;00m session, loaded_file_record_list\n",
      "File \u001b[1;32m~\\repos\\Spike3DWorkEnv\\NeuroPy\\neuropy\\core\\session\\Formats\\BaseDataSessionFormats.py:557\u001b[0m, in \u001b[0;36mDataSessionFormatBaseRegisteredClass._default_extended_postload\u001b[1;34m(cls, fp, session, **kwargs)\u001b[0m\n\u001b[0;32m    555\u001b[0m \u001b[39m# add PBE information to spikes_df from session.pbe\u001b[39;00m\n\u001b[0;32m    556\u001b[0m \u001b[39mcls\u001b[39m\u001b[39m.\u001b[39m_default_add_spike_PBEs_if_needed(session)\n\u001b[1;32m--> 557\u001b[0m \u001b[39mcls\u001b[39;49m\u001b[39m.\u001b[39;49m_default_add_spike_scISIs_if_needed(session)\n\u001b[0;32m    558\u001b[0m \u001b[39m# return the session with the upadated member variables\u001b[39;00m\n\u001b[0;32m    559\u001b[0m \u001b[39mreturn\u001b[39;00m session\n",
      "File \u001b[1;32m~\\repos\\Spike3DWorkEnv\\NeuroPy\\neuropy\\core\\session\\Formats\\BaseDataSessionFormats.py:450\u001b[0m, in \u001b[0;36mDataSessionFormatBaseRegisteredClass._default_add_spike_scISIs_if_needed\u001b[1;34m(cls, session)\u001b[0m\n\u001b[0;32m    447\u001b[0m \u001b[39m@classmethod\u001b[39m\n\u001b[0;32m    448\u001b[0m \u001b[39mdef\u001b[39;00m \u001b[39m_default_add_spike_scISIs_if_needed\u001b[39m(\u001b[39mcls\u001b[39m, session):\n\u001b[0;32m    449\u001b[0m     \u001b[39mwith\u001b[39;00m ProgressMessagePrinter(\u001b[39m'\u001b[39m\u001b[39mspikes_df\u001b[39m\u001b[39m'\u001b[39m, \u001b[39m'\u001b[39m\u001b[39mComputing\u001b[39m\u001b[39m'\u001b[39m, \u001b[39m'\u001b[39m\u001b[39madded spike scISI column\u001b[39m\u001b[39m'\u001b[39m):\n\u001b[1;32m--> 450\u001b[0m         updated_spk_df \u001b[39m=\u001b[39m session\u001b[39m.\u001b[39;49mspikes_df\u001b[39m.\u001b[39;49mspikes\u001b[39m.\u001b[39;49madd_same_cell_ISI_column()\n\u001b[0;32m    451\u001b[0m     \u001b[39mreturn\u001b[39;00m session\n",
      "File \u001b[1;32m~\\repos\\Spike3DWorkEnv\\NeuroPy\\neuropy\\core\\flattened_spiketrains.py:184\u001b[0m, in \u001b[0;36mSpikesAccessor.add_same_cell_ISI_column\u001b[1;34m(self)\u001b[0m\n\u001b[0;32m    180\u001b[0m \u001b[39mself\u001b[39m\u001b[39m.\u001b[39m_obj[\u001b[39m'\u001b[39m\u001b[39mscISI\u001b[39m\u001b[39m'\u001b[39m] \u001b[39m=\u001b[39m \u001b[39m-\u001b[39m\u001b[39m1\u001b[39m \u001b[39m# initialize the 'scISI' column (same-cell Intra-spike-interval) to -1\u001b[39;00m\n\u001b[0;32m    182\u001b[0m \u001b[39mfor\u001b[39;00m (i, a_cell_id) \u001b[39min\u001b[39;00m \u001b[39menumerate\u001b[39m(\u001b[39mself\u001b[39m\u001b[39m.\u001b[39m_obj\u001b[39m.\u001b[39mspikes\u001b[39m.\u001b[39mneuron_ids):\n\u001b[0;32m    183\u001b[0m     \u001b[39m# loop through the cell_ids\u001b[39;00m\n\u001b[1;32m--> 184\u001b[0m     curr_df \u001b[39m=\u001b[39m safe_pandas_get_group(\u001b[39mself\u001b[39;49m\u001b[39m.\u001b[39;49m_obj\u001b[39m.\u001b[39;49mgroupby(\u001b[39m'\u001b[39;49m\u001b[39maclu\u001b[39;49m\u001b[39m'\u001b[39;49m), a_cell_id)\n\u001b[0;32m    185\u001b[0m     curr_series_differences \u001b[39m=\u001b[39m curr_df[spike_timestamp_column_name]\u001b[39m.\u001b[39mdiff() \u001b[39m# These are the ISIs\u001b[39;00m\n\u001b[0;32m    186\u001b[0m     \u001b[39m#set the properties for the points in question:\u001b[39;00m\n",
      "File \u001b[1;32m~\\repos\\Spike3DWorkEnv\\NeuroPy\\neuropy\\utils\\misc.py:284\u001b[0m, in \u001b[0;36msafe_pandas_get_group\u001b[1;34m(dataframe_group, key)\u001b[0m\n\u001b[0;32m    278\u001b[0m \u001b[39mdef\u001b[39;00m \u001b[39msafe_pandas_get_group\u001b[39m(dataframe_group, key):\n\u001b[0;32m    279\u001b[0m \u001b[39m    \u001b[39m\u001b[39m\"\"\" returns an empty dataframe if the key isn't found in the group.\u001b[39;00m\n\u001b[0;32m    280\u001b[0m \u001b[39m    Usage:\u001b[39;00m\n\u001b[0;32m    281\u001b[0m \u001b[39m        from neuropy.utils.misc import safe_pandas_get_group\u001b[39;00m\n\u001b[0;32m    282\u001b[0m \u001b[39m        safe_pandas_get_group(grouped_rdf, False)\u001b[39;00m\n\u001b[0;32m    283\u001b[0m \u001b[39m    \"\"\"\u001b[39;00m\n\u001b[1;32m--> 284\u001b[0m     \u001b[39mif\u001b[39;00m key \u001b[39min\u001b[39;00m dataframe_group\u001b[39m.\u001b[39;49mgroups\u001b[39m.\u001b[39mkeys():\n\u001b[0;32m    285\u001b[0m         \u001b[39mreturn\u001b[39;00m dataframe_group\u001b[39m.\u001b[39mget_group(key)\n\u001b[0;32m    286\u001b[0m     \u001b[39melse\u001b[39;00m:\n",
      "File \u001b[1;32mc:\\Users\\pho\\repos\\Spike3DWorkEnv\\Spike3D\\.venv\\lib\\site-packages\\pandas\\core\\groupby\\groupby.py:672\u001b[0m, in \u001b[0;36mBaseGroupBy.groups\u001b[1;34m(self)\u001b[0m\n\u001b[0;32m    666\u001b[0m \u001b[39m@final\u001b[39m\n\u001b[0;32m    667\u001b[0m \u001b[39m@property\u001b[39m\n\u001b[0;32m    668\u001b[0m \u001b[39mdef\u001b[39;00m \u001b[39mgroups\u001b[39m(\u001b[39mself\u001b[39m) \u001b[39m-\u001b[39m\u001b[39m>\u001b[39m \u001b[39mdict\u001b[39m[Hashable, np\u001b[39m.\u001b[39mndarray]:\n\u001b[0;32m    669\u001b[0m \u001b[39m    \u001b[39m\u001b[39m\"\"\"\u001b[39;00m\n\u001b[0;32m    670\u001b[0m \u001b[39m    Dict {group name -> group labels}.\u001b[39;00m\n\u001b[0;32m    671\u001b[0m \u001b[39m    \"\"\"\u001b[39;00m\n\u001b[1;32m--> 672\u001b[0m     \u001b[39mreturn\u001b[39;00m \u001b[39mself\u001b[39;49m\u001b[39m.\u001b[39;49mgrouper\u001b[39m.\u001b[39;49mgroups\n",
      "File \u001b[1;32mc:\\Users\\pho\\repos\\Spike3DWorkEnv\\Spike3D\\.venv\\lib\\site-packages\\pandas\\_libs\\properties.pyx:36\u001b[0m, in \u001b[0;36mpandas._libs.properties.CachedProperty.__get__\u001b[1;34m()\u001b[0m\n",
      "File \u001b[1;32mc:\\Users\\pho\\repos\\Spike3DWorkEnv\\Spike3D\\.venv\\lib\\site-packages\\pandas\\core\\groupby\\ops.py:924\u001b[0m, in \u001b[0;36mBaseGrouper.groups\u001b[1;34m(self)\u001b[0m\n\u001b[0;32m    922\u001b[0m \u001b[39m\u001b[39m\u001b[39m\"\"\"dict {group name -> group labels}\"\"\"\u001b[39;00m\n\u001b[0;32m    923\u001b[0m \u001b[39mif\u001b[39;00m \u001b[39mlen\u001b[39m(\u001b[39mself\u001b[39m\u001b[39m.\u001b[39mgroupings) \u001b[39m==\u001b[39m \u001b[39m1\u001b[39m:\n\u001b[1;32m--> 924\u001b[0m     \u001b[39mreturn\u001b[39;00m \u001b[39mself\u001b[39;49m\u001b[39m.\u001b[39;49mgroupings[\u001b[39m0\u001b[39;49m]\u001b[39m.\u001b[39;49mgroups\n\u001b[0;32m    925\u001b[0m \u001b[39melse\u001b[39;00m:\n\u001b[0;32m    926\u001b[0m     to_groupby \u001b[39m=\u001b[39m \u001b[39mzip\u001b[39m(\u001b[39m*\u001b[39m(ping\u001b[39m.\u001b[39mgrouping_vector \u001b[39mfor\u001b[39;00m ping \u001b[39min\u001b[39;00m \u001b[39mself\u001b[39m\u001b[39m.\u001b[39mgroupings))\n",
      "File \u001b[1;32mc:\\Users\\pho\\repos\\Spike3DWorkEnv\\Spike3D\\.venv\\lib\\site-packages\\pandas\\_libs\\properties.pyx:36\u001b[0m, in \u001b[0;36mpandas._libs.properties.CachedProperty.__get__\u001b[1;34m()\u001b[0m\n",
      "File \u001b[1;32mc:\\Users\\pho\\repos\\Spike3DWorkEnv\\Spike3D\\.venv\\lib\\site-packages\\pandas\\core\\groupby\\grouper.py:699\u001b[0m, in \u001b[0;36mGrouping.groups\u001b[1;34m(self)\u001b[0m\n\u001b[0;32m    697\u001b[0m \u001b[39m@cache_readonly\u001b[39m\n\u001b[0;32m    698\u001b[0m \u001b[39mdef\u001b[39;00m \u001b[39mgroups\u001b[39m(\u001b[39mself\u001b[39m) \u001b[39m-\u001b[39m\u001b[39m>\u001b[39m \u001b[39mdict\u001b[39m[Hashable, np\u001b[39m.\u001b[39mndarray]:\n\u001b[1;32m--> 699\u001b[0m     \u001b[39mreturn\u001b[39;00m \u001b[39mself\u001b[39;49m\u001b[39m.\u001b[39;49m_index\u001b[39m.\u001b[39;49mgroupby(Categorical\u001b[39m.\u001b[39;49mfrom_codes(\u001b[39mself\u001b[39;49m\u001b[39m.\u001b[39;49mcodes, \u001b[39mself\u001b[39;49m\u001b[39m.\u001b[39;49mgroup_index))\n",
      "File \u001b[1;32mc:\\Users\\pho\\repos\\Spike3DWorkEnv\\Spike3D\\.venv\\lib\\site-packages\\pandas\\core\\indexes\\base.py:6336\u001b[0m, in \u001b[0;36mIndex.groupby\u001b[1;34m(self, values)\u001b[0m\n\u001b[0;32m   6333\u001b[0m result \u001b[39m=\u001b[39m values\u001b[39m.\u001b[39m_reverse_indexer()\n\u001b[0;32m   6335\u001b[0m \u001b[39m# map to the label\u001b[39;00m\n\u001b[1;32m-> 6336\u001b[0m result \u001b[39m=\u001b[39m {k: \u001b[39mself\u001b[39m\u001b[39m.\u001b[39mtake(v) \u001b[39mfor\u001b[39;00m k, v \u001b[39min\u001b[39;00m result\u001b[39m.\u001b[39mitems()}\n\u001b[0;32m   6338\u001b[0m \u001b[39mreturn\u001b[39;00m PrettyDict(result)\n",
      "File \u001b[1;32mc:\\Users\\pho\\repos\\Spike3DWorkEnv\\Spike3D\\.venv\\lib\\site-packages\\pandas\\core\\indexes\\base.py:6336\u001b[0m, in \u001b[0;36m<dictcomp>\u001b[1;34m(.0)\u001b[0m\n\u001b[0;32m   6333\u001b[0m result \u001b[39m=\u001b[39m values\u001b[39m.\u001b[39m_reverse_indexer()\n\u001b[0;32m   6335\u001b[0m \u001b[39m# map to the label\u001b[39;00m\n\u001b[1;32m-> 6336\u001b[0m result \u001b[39m=\u001b[39m {k: \u001b[39mself\u001b[39;49m\u001b[39m.\u001b[39;49mtake(v) \u001b[39mfor\u001b[39;00m k, v \u001b[39min\u001b[39;00m result\u001b[39m.\u001b[39mitems()}\n\u001b[0;32m   6338\u001b[0m \u001b[39mreturn\u001b[39;00m PrettyDict(result)\n",
      "File \u001b[1;32mc:\\Users\\pho\\repos\\Spike3DWorkEnv\\Spike3D\\.venv\\lib\\site-packages\\pandas\\core\\indexes\\base.py:1183\u001b[0m, in \u001b[0;36mIndex.take\u001b[1;34m(self, indices, axis, allow_fill, fill_value, **kwargs)\u001b[0m\n\u001b[0;32m   1181\u001b[0m values \u001b[39m=\u001b[39m \u001b[39mself\u001b[39m\u001b[39m.\u001b[39m_values\n\u001b[0;32m   1182\u001b[0m \u001b[39mif\u001b[39;00m \u001b[39misinstance\u001b[39m(values, np\u001b[39m.\u001b[39mndarray):\n\u001b[1;32m-> 1183\u001b[0m     taken \u001b[39m=\u001b[39m algos\u001b[39m.\u001b[39;49mtake(\n\u001b[0;32m   1184\u001b[0m         values, indices, allow_fill\u001b[39m=\u001b[39;49mallow_fill, fill_value\u001b[39m=\u001b[39;49m\u001b[39mself\u001b[39;49m\u001b[39m.\u001b[39;49m_na_value\n\u001b[0;32m   1185\u001b[0m     )\n\u001b[0;32m   1186\u001b[0m \u001b[39melse\u001b[39;00m:\n\u001b[0;32m   1187\u001b[0m     \u001b[39m# algos.take passes 'axis' keyword which not all EAs accept\u001b[39;00m\n\u001b[0;32m   1188\u001b[0m     taken \u001b[39m=\u001b[39m values\u001b[39m.\u001b[39mtake(\n\u001b[0;32m   1189\u001b[0m         indices, allow_fill\u001b[39m=\u001b[39mallow_fill, fill_value\u001b[39m=\u001b[39m\u001b[39mself\u001b[39m\u001b[39m.\u001b[39m_na_value\n\u001b[0;32m   1190\u001b[0m     )\n",
      "File \u001b[1;32mc:\\Users\\pho\\repos\\Spike3DWorkEnv\\Spike3D\\.venv\\lib\\site-packages\\pandas\\core\\algorithms.py:1577\u001b[0m, in \u001b[0;36mtake\u001b[1;34m(arr, indices, axis, allow_fill, fill_value)\u001b[0m\n\u001b[0;32m   1572\u001b[0m     result \u001b[39m=\u001b[39m take_nd(\n\u001b[0;32m   1573\u001b[0m         arr, indices, axis\u001b[39m=\u001b[39maxis, allow_fill\u001b[39m=\u001b[39m\u001b[39mTrue\u001b[39;00m, fill_value\u001b[39m=\u001b[39mfill_value\n\u001b[0;32m   1574\u001b[0m     )\n\u001b[0;32m   1575\u001b[0m \u001b[39melse\u001b[39;00m:\n\u001b[0;32m   1576\u001b[0m     \u001b[39m# NumPy style\u001b[39;00m\n\u001b[1;32m-> 1577\u001b[0m     result \u001b[39m=\u001b[39m arr\u001b[39m.\u001b[39;49mtake(indices, axis\u001b[39m=\u001b[39;49maxis)\n\u001b[0;32m   1578\u001b[0m \u001b[39mreturn\u001b[39;00m result\n",
      "\u001b[1;31mKeyboardInterrupt\u001b[0m: "
     ]
    }
   ],
   "source": [
    "global_batch_run, result_handler, across_sessions_instantaneous_fr_dict, output_filenames_tuple = main(active_result_suffix=active_global_batch_result_suffix, included_session_contexts=included_session_contexts,\n",
    "                                                                                                       num_processes=1, should_force_reload_all=True, should_perform_figure_generation_to_file=False, debug_print=True)\n"
   ]
  },
  {
   "cell_type": "code",
   "execution_count": 5,
   "id": "2f19c776",
   "metadata": {},
   "outputs": [
    {
     "data": {
      "text/plain": [
       "BatchRun(global_data_root_parent_path=WindowsPath('W:/Data'), session_batch_status={IdentifyingContext<('kdiba', 'gor01', 'one', '2006-6-07_11-26-53')>: <SessionBatchProgress.NOT_STARTED: 'NOT_STARTED'>, IdentifyingContext<('kdiba', 'gor01', 'one', '2006-6-08_14-26-15')>: <SessionBatchProgress.FAILED: 'FAILED'>, IdentifyingContext<('kdiba', 'gor01', 'one', '2006-6-09_1-22-43')>: <SessionBatchProgress.FAILED: 'FAILED'>, IdentifyingContext<('kdiba', 'gor01', 'one', '2006-6-09_3-23-37')>: <SessionBatchProgress.NOT_STARTED: 'NOT_STARTED'>, IdentifyingContext<('kdiba', 'gor01', 'one', '2006-6-12_15-55-31')>: <SessionBatchProgress.FAILED: 'FAILED'>, IdentifyingContext<('kdiba', 'gor01', 'one', '2006-6-13_14-42-6')>: <SessionBatchProgress.NOT_STARTED: 'NOT_STARTED'>, IdentifyingContext<('kdiba', 'gor01', 'two', '2006-6-07_16-40-19')>: <SessionBatchProgress.FAILED: 'FAILED'>, IdentifyingContext<('kdiba', 'gor01', 'two', '2006-6-08_15-46-47')>: <SessionBatchProgress.NOT_STARTED: 'NOT_STARTED'>, IdentifyingContext<('kdiba', 'gor01', 'two', '2006-6-08_21-16-25')>: <SessionBatchProgress.FAILED: 'FAILED'>, IdentifyingContext<('kdiba', 'gor01', 'two', '2006-6-09_22-24-40')>: <SessionBatchProgress.FAILED: 'FAILED'>, IdentifyingContext<('kdiba', 'gor01', 'two', '2006-6-12_16-53-46')>: <SessionBatchProgress.FAILED: 'FAILED'>, IdentifyingContext<('kdiba', 'gor01', 'two', '2006-6-13_15-22-3')>: <SessionBatchProgress.NOT_STARTED: 'NOT_STARTED'>, IdentifyingContext<('kdiba', 'vvp01', 'one', '2006-4-09_17-29-30')>: <SessionBatchProgress.FAILED: 'FAILED'>, IdentifyingContext<('kdiba', 'vvp01', 'one', '2006-4-10_12-25-50')>: <SessionBatchProgress.FAILED: 'FAILED'>, IdentifyingContext<('kdiba', 'vvp01', 'one', '2006-4-10_21-2-40')>: <SessionBatchProgress.NOT_STARTED: 'NOT_STARTED'>, IdentifyingContext<('kdiba', 'vvp01', 'one', '2006-4-11_15-16-59')>: <SessionBatchProgress.NOT_STARTED: 'NOT_STARTED'>, IdentifyingContext<('kdiba', 'vvp01', 'one', '2006-4-12_14-39-31')>: <SessionBatchProgress.NOT_STARTED: 'NOT_STARTED'>, IdentifyingContext<('kdiba', 'vvp01', 'one', '2006-4-12_17-53-55')>: <SessionBatchProgress.NOT_STARTED: 'NOT_STARTED'>, IdentifyingContext<('kdiba', 'vvp01', 'one', '2006-4-16_15-12-23')>: <SessionBatchProgress.NOT_STARTED: 'NOT_STARTED'>, IdentifyingContext<('kdiba', 'vvp01', 'one', '2006-4-17_12-33-47')>: <SessionBatchProgress.NOT_STARTED: 'NOT_STARTED'>, IdentifyingContext<('kdiba', 'vvp01', 'one', '2006-4-18_13-6-1')>: <SessionBatchProgress.NOT_STARTED: 'NOT_STARTED'>, IdentifyingContext<('kdiba', 'vvp01', 'one', '2006-4-18_15-23-32')>: <SessionBatchProgress.NOT_STARTED: 'NOT_STARTED'>, IdentifyingContext<('kdiba', 'vvp01', 'one', '2006-4-19_13-34-40')>: <SessionBatchProgress.NOT_STARTED: 'NOT_STARTED'>, IdentifyingContext<('kdiba', 'vvp01', 'one', '2006-4-19_16-48-9')>: <SessionBatchProgress.NOT_STARTED: 'NOT_STARTED'>, IdentifyingContext<('kdiba', 'vvp01', 'one', '2006-4-21_10-24-35')>: <SessionBatchProgress.NOT_STARTED: 'NOT_STARTED'>, IdentifyingContext<('kdiba', 'vvp01', 'one', '2006-4-25_14-28-51')>: <SessionBatchProgress.NOT_STARTED: 'NOT_STARTED'>, IdentifyingContext<('kdiba', 'vvp01', 'one', '2006-4-25_17-17-6')>: <SessionBatchProgress.NOT_STARTED: 'NOT_STARTED'>, IdentifyingContext<('kdiba', 'vvp01', 'one', '2006-4-26_13-22-13')>: <SessionBatchProgress.NOT_STARTED: 'NOT_STARTED'>, IdentifyingContext<('kdiba', 'vvp01', 'one', '2006-4-27_14-43-12')>: <SessionBatchProgress.NOT_STARTED: 'NOT_STARTED'>, IdentifyingContext<('kdiba', 'vvp01', 'one', '2006-4-28_12-17-27')>: <SessionBatchProgress.NOT_STARTED: 'NOT_STARTED'>, IdentifyingContext<('kdiba', 'vvp01', 'one', '2006-4-28_16-48-29')>: <SessionBatchProgress.NOT_STARTED: 'NOT_STARTED'>, IdentifyingContext<('kdiba', 'vvp01', 'two', '2006-4-09_16-40-54')>: <SessionBatchProgress.FAILED: 'FAILED'>, IdentifyingContext<('kdiba', 'vvp01', 'two', '2006-4-10_12-58-3')>: <SessionBatchProgress.FAILED: 'FAILED'>, IdentifyingContext<('kdiba', 'vvp01', 'two', '2006-4-10_19-11-57')>: <SessionBatchProgress.NOT_STARTED: 'NOT_STARTED'>, IdentifyingContext<('kdiba', 'vvp01', 'two', '2006-4-11_12-48-38')>: <SessionBatchProgress.NOT_STARTED: 'NOT_STARTED'>, IdentifyingContext<('kdiba', 'vvp01', 'two', '2006-4-11_16-2-46')>: <SessionBatchProgress.NOT_STARTED: 'NOT_STARTED'>, IdentifyingContext<('kdiba', 'vvp01', 'two', '2006-4-12_14-59-23')>: <SessionBatchProgress.NOT_STARTED: 'NOT_STARTED'>, IdentifyingContext<('kdiba', 'vvp01', 'two', '2006-4-12_15-25-59')>: <SessionBatchProgress.NOT_STARTED: 'NOT_STARTED'>, IdentifyingContext<('kdiba', 'vvp01', 'two', '2006-4-16_14-49-24')>: <SessionBatchProgress.NOT_STARTED: 'NOT_STARTED'>, IdentifyingContext<('kdiba', 'vvp01', 'two', '2006-4-16_18-47-52')>: <SessionBatchProgress.NOT_STARTED: 'NOT_STARTED'>, IdentifyingContext<('kdiba', 'vvp01', 'two', '2006-4-17_12-52-15')>: <SessionBatchProgress.NOT_STARTED: 'NOT_STARTED'>, IdentifyingContext<('kdiba', 'vvp01', 'two', '2006-4-18_13-28-57')>: <SessionBatchProgress.NOT_STARTED: 'NOT_STARTED'>, IdentifyingContext<('kdiba', 'vvp01', 'two', '2006-4-18_15-38-2')>: <SessionBatchProgress.NOT_STARTED: 'NOT_STARTED'>, IdentifyingContext<('kdiba', 'vvp01', 'two', '2006-4-19_13-50-7')>: <SessionBatchProgress.NOT_STARTED: 'NOT_STARTED'>, IdentifyingContext<('kdiba', 'vvp01', 'two', '2006-4-19_16-37-40')>: <SessionBatchProgress.NOT_STARTED: 'NOT_STARTED'>, IdentifyingContext<('kdiba', 'vvp01', 'two', '2006-4-21_11-19-2')>: <SessionBatchProgress.NOT_STARTED: 'NOT_STARTED'>, IdentifyingContext<('kdiba', 'vvp01', 'two', '2006-4-25_13-20-55')>: <SessionBatchProgress.NOT_STARTED: 'NOT_STARTED'>, IdentifyingContext<('kdiba', 'vvp01', 'two', '2006-4-25_17-33-28')>: <SessionBatchProgress.NOT_STARTED: 'NOT_STARTED'>, IdentifyingContext<('kdiba', 'vvp01', 'two', '2006-4-26_13-51-50')>: <SessionBatchProgress.NOT_STARTED: 'NOT_STARTED'>, IdentifyingContext<('kdiba', 'vvp01', 'two', '2006-4-27_18-21-57')>: <SessionBatchProgress.NOT_STARTED: 'NOT_STARTED'>, IdentifyingContext<('kdiba', 'vvp01', 'two', '2006-4-28_12-38-13')>: <SessionBatchProgress.NOT_STARTED: 'NOT_STARTED'>, IdentifyingContext<('kdiba', 'vvp01', 'two', '2006-4-28_17-6-14')>: <SessionBatchProgress.NOT_STARTED: 'NOT_STARTED'>, IdentifyingContext<('kdiba', 'pin01', 'one', '11-02_17-46-44')>: <SessionBatchProgress.FAILED: 'FAILED'>, IdentifyingContext<('kdiba', 'pin01', 'one', '11-02_19-28-0')>: <SessionBatchProgress.FAILED: 'FAILED'>, IdentifyingContext<('kdiba', 'pin01', 'one', '11-03_12-3-25')>: <SessionBatchProgress.FAILED: 'FAILED'>, IdentifyingContext<('kdiba', 'pin01', 'one', '11-03_21-26-8')>: <SessionBatchProgress.NOT_STARTED: 'NOT_STARTED'>, IdentifyingContext<('kdiba', 'pin01', 'one', '11-05_19-26-43')>: <SessionBatchProgress.NOT_STARTED: 'NOT_STARTED'>, IdentifyingContext<('kdiba', 'pin01', 'one', '11-09_11-43-50')>: <SessionBatchProgress.NOT_STARTED: 'NOT_STARTED'>, IdentifyingContext<('kdiba', 'pin01', 'one', '11-09_12-15-3')>: <SessionBatchProgress.NOT_STARTED: 'NOT_STARTED'>, IdentifyingContext<('kdiba', 'pin01', 'one', '11-09_21-17-16')>: <SessionBatchProgress.NOT_STARTED: 'NOT_STARTED'>, IdentifyingContext<('kdiba', 'pin01', 'one', '11-09_22-4-5')>: <SessionBatchProgress.NOT_STARTED: 'NOT_STARTED'>, IdentifyingContext<('kdiba', 'pin01', 'one', '11-19_12-35-59')>: <SessionBatchProgress.NOT_STARTED: 'NOT_STARTED'>, IdentifyingContext<('kdiba', 'pin01', 'one', '11-19_13-2-0')>: <SessionBatchProgress.NOT_STARTED: 'NOT_STARTED'>, IdentifyingContext<('kdiba', 'pin01', 'one', '11-19_13-55-7')>: <SessionBatchProgress.NOT_STARTED: 'NOT_STARTED'>, IdentifyingContext<('kdiba', 'pin01', 'one', 'fet11-01_12-58-54')>: <SessionBatchProgress.FAILED: 'FAILED'>, IdentifyingContext<('kdiba', 'pin01', 'one', 'fet11-03_11-0-53')>: <SessionBatchProgress.NOT_STARTED: 'NOT_STARTED'>, IdentifyingContext<('kdiba', 'pin01', 'one', 'fet11-03_20-28-3')>: <SessionBatchProgress.NOT_STARTED: 'NOT_STARTED'>, IdentifyingContext<('kdiba', 'pin01', 'one', 'fet11-04_21-20-3')>: <SessionBatchProgress.NOT_STARTED: 'NOT_STARTED'>, IdentifyingContext<('kdiba', 'pin01', 'one', 'redundant')>: <SessionBatchProgress.NOT_STARTED: 'NOT_STARTED'>, IdentifyingContext<('kdiba', 'pin01', 'one', 'showclus')>: <SessionBatchProgress.NOT_STARTED: 'NOT_STARTED'>, IdentifyingContext<('kdiba', 'pin01', 'one', 'sleep')>: <SessionBatchProgress.NOT_STARTED: 'NOT_STARTED'>, IdentifyingContext<('kdiba', 'pin01', 'one', 'tmaze')>: <SessionBatchProgress.NOT_STARTED: 'NOT_STARTED'>}, session_batch_basedirs={IdentifyingContext<('kdiba', 'gor01', 'one', '2006-6-07_11-26-53')>: WindowsPath('W:/Data/KDIBA/gor01/one/2006-6-07_11-26-53'), IdentifyingContext<('kdiba', 'gor01', 'one', '2006-6-08_14-26-15')>: WindowsPath('W:/Data/KDIBA/gor01/one/2006-6-08_14-26-15'), IdentifyingContext<('kdiba', 'gor01', 'one', '2006-6-09_1-22-43')>: WindowsPath('W:/Data/KDIBA/gor01/one/2006-6-09_1-22-43'), IdentifyingContext<('kdiba', 'gor01', 'one', '2006-6-09_3-23-37')>: WindowsPath('W:/Data/KDIBA/gor01/one/2006-6-09_3-23-37'), IdentifyingContext<('kdiba', 'gor01', 'one', '2006-6-12_15-55-31')>: WindowsPath('W:/Data/KDIBA/gor01/one/2006-6-12_15-55-31'), IdentifyingContext<('kdiba', 'gor01', 'one', '2006-6-13_14-42-6')>: WindowsPath('W:/Data/KDIBA/gor01/one/2006-6-13_14-42-6'), IdentifyingContext<('kdiba', 'gor01', 'two', '2006-6-07_16-40-19')>: WindowsPath('W:/Data/KDIBA/gor01/two/2006-6-07_16-40-19'), IdentifyingContext<('kdiba', 'gor01', 'two', '2006-6-08_15-46-47')>: WindowsPath('W:/Data/KDIBA/gor01/two/2006-6-08_15-46-47'), IdentifyingContext<('kdiba', 'gor01', 'two', '2006-6-08_21-16-25')>: WindowsPath('W:/Data/KDIBA/gor01/two/2006-6-08_21-16-25'), IdentifyingContext<('kdiba', 'gor01', 'two', '2006-6-09_22-24-40')>: WindowsPath('W:/Data/KDIBA/gor01/two/2006-6-09_22-24-40'), IdentifyingContext<('kdiba', 'gor01', 'two', '2006-6-12_16-53-46')>: WindowsPath('W:/Data/KDIBA/gor01/two/2006-6-12_16-53-46'), IdentifyingContext<('kdiba', 'gor01', 'two', '2006-6-13_15-22-3')>: WindowsPath('W:/Data/KDIBA/gor01/two/2006-6-13_15-22-3'), IdentifyingContext<('kdiba', 'vvp01', 'one', '2006-4-09_17-29-30')>: WindowsPath('W:/Data/KDIBA/vvp01/one/2006-4-09_17-29-30'), IdentifyingContext<('kdiba', 'vvp01', 'one', '2006-4-10_12-25-50')>: WindowsPath('W:/Data/KDIBA/vvp01/one/2006-4-10_12-25-50'), IdentifyingContext<('kdiba', 'vvp01', 'one', '2006-4-10_21-2-40')>: WindowsPath('W:/Data/KDIBA/vvp01/one/2006-4-10_21-2-40'), IdentifyingContext<('kdiba', 'vvp01', 'one', '2006-4-11_15-16-59')>: WindowsPath('W:/Data/KDIBA/vvp01/one/2006-4-11_15-16-59'), IdentifyingContext<('kdiba', 'vvp01', 'one', '2006-4-12_14-39-31')>: WindowsPath('W:/Data/KDIBA/vvp01/one/2006-4-12_14-39-31'), IdentifyingContext<('kdiba', 'vvp01', 'one', '2006-4-12_17-53-55')>: WindowsPath('W:/Data/KDIBA/vvp01/one/2006-4-12_17-53-55'), IdentifyingContext<('kdiba', 'vvp01', 'one', '2006-4-16_15-12-23')>: WindowsPath('W:/Data/KDIBA/vvp01/one/2006-4-16_15-12-23'), IdentifyingContext<('kdiba', 'vvp01', 'one', '2006-4-17_12-33-47')>: WindowsPath('W:/Data/KDIBA/vvp01/one/2006-4-17_12-33-47'), IdentifyingContext<('kdiba', 'vvp01', 'one', '2006-4-18_13-6-1')>: WindowsPath('W:/Data/KDIBA/vvp01/one/2006-4-18_13-6-1'), IdentifyingContext<('kdiba', 'vvp01', 'one', '2006-4-18_15-23-32')>: WindowsPath('W:/Data/KDIBA/vvp01/one/2006-4-18_15-23-32'), IdentifyingContext<('kdiba', 'vvp01', 'one', '2006-4-19_13-34-40')>: WindowsPath('W:/Data/KDIBA/vvp01/one/2006-4-19_13-34-40'), IdentifyingContext<('kdiba', 'vvp01', 'one', '2006-4-19_16-48-9')>: WindowsPath('W:/Data/KDIBA/vvp01/one/2006-4-19_16-48-9'), IdentifyingContext<('kdiba', 'vvp01', 'one', '2006-4-21_10-24-35')>: WindowsPath('W:/Data/KDIBA/vvp01/one/2006-4-21_10-24-35'), IdentifyingContext<('kdiba', 'vvp01', 'one', '2006-4-25_14-28-51')>: WindowsPath('W:/Data/KDIBA/vvp01/one/2006-4-25_14-28-51'), IdentifyingContext<('kdiba', 'vvp01', 'one', '2006-4-25_17-17-6')>: WindowsPath('W:/Data/KDIBA/vvp01/one/2006-4-25_17-17-6'), IdentifyingContext<('kdiba', 'vvp01', 'one', '2006-4-26_13-22-13')>: WindowsPath('W:/Data/KDIBA/vvp01/one/2006-4-26_13-22-13'), IdentifyingContext<('kdiba', 'vvp01', 'one', '2006-4-27_14-43-12')>: WindowsPath('W:/Data/KDIBA/vvp01/one/2006-4-27_14-43-12'), IdentifyingContext<('kdiba', 'vvp01', 'one', '2006-4-28_12-17-27')>: WindowsPath('W:/Data/KDIBA/vvp01/one/2006-4-28_12-17-27'), IdentifyingContext<('kdiba', 'vvp01', 'one', '2006-4-28_16-48-29')>: WindowsPath('W:/Data/KDIBA/vvp01/one/2006-4-28_16-48-29'), IdentifyingContext<('kdiba', 'vvp01', 'two', '2006-4-09_16-40-54')>: WindowsPath('W:/Data/KDIBA/vvp01/two/2006-4-09_16-40-54'), IdentifyingContext<('kdiba', 'vvp01', 'two', '2006-4-10_12-58-3')>: WindowsPath('W:/Data/KDIBA/vvp01/two/2006-4-10_12-58-3'), IdentifyingContext<('kdiba', 'vvp01', 'two', '2006-4-10_19-11-57')>: WindowsPath('W:/Data/KDIBA/vvp01/two/2006-4-10_19-11-57'), IdentifyingContext<('kdiba', 'vvp01', 'two', '2006-4-11_12-48-38')>: WindowsPath('W:/Data/KDIBA/vvp01/two/2006-4-11_12-48-38'), IdentifyingContext<('kdiba', 'vvp01', 'two', '2006-4-11_16-2-46')>: WindowsPath('W:/Data/KDIBA/vvp01/two/2006-4-11_16-2-46'), IdentifyingContext<('kdiba', 'vvp01', 'two', '2006-4-12_14-59-23')>: WindowsPath('W:/Data/KDIBA/vvp01/two/2006-4-12_14-59-23'), IdentifyingContext<('kdiba', 'vvp01', 'two', '2006-4-12_15-25-59')>: WindowsPath('W:/Data/KDIBA/vvp01/two/2006-4-12_15-25-59'), IdentifyingContext<('kdiba', 'vvp01', 'two', '2006-4-16_14-49-24')>: WindowsPath('W:/Data/KDIBA/vvp01/two/2006-4-16_14-49-24'), IdentifyingContext<('kdiba', 'vvp01', 'two', '2006-4-16_18-47-52')>: WindowsPath('W:/Data/KDIBA/vvp01/two/2006-4-16_18-47-52'), IdentifyingContext<('kdiba', 'vvp01', 'two', '2006-4-17_12-52-15')>: WindowsPath('W:/Data/KDIBA/vvp01/two/2006-4-17_12-52-15'), IdentifyingContext<('kdiba', 'vvp01', 'two', '2006-4-18_13-28-57')>: WindowsPath('W:/Data/KDIBA/vvp01/two/2006-4-18_13-28-57'), IdentifyingContext<('kdiba', 'vvp01', 'two', '2006-4-18_15-38-2')>: WindowsPath('W:/Data/KDIBA/vvp01/two/2006-4-18_15-38-2'), IdentifyingContext<('kdiba', 'vvp01', 'two', '2006-4-19_13-50-7')>: WindowsPath('W:/Data/KDIBA/vvp01/two/2006-4-19_13-50-7'), IdentifyingContext<('kdiba', 'vvp01', 'two', '2006-4-19_16-37-40')>: WindowsPath('W:/Data/KDIBA/vvp01/two/2006-4-19_16-37-40'), IdentifyingContext<('kdiba', 'vvp01', 'two', '2006-4-21_11-19-2')>: WindowsPath('W:/Data/KDIBA/vvp01/two/2006-4-21_11-19-2'), IdentifyingContext<('kdiba', 'vvp01', 'two', '2006-4-25_13-20-55')>: WindowsPath('W:/Data/KDIBA/vvp01/two/2006-4-25_13-20-55'), IdentifyingContext<('kdiba', 'vvp01', 'two', '2006-4-25_17-33-28')>: WindowsPath('W:/Data/KDIBA/vvp01/two/2006-4-25_17-33-28'), IdentifyingContext<('kdiba', 'vvp01', 'two', '2006-4-26_13-51-50')>: WindowsPath('W:/Data/KDIBA/vvp01/two/2006-4-26_13-51-50'), IdentifyingContext<('kdiba', 'vvp01', 'two', '2006-4-27_18-21-57')>: WindowsPath('W:/Data/KDIBA/vvp01/two/2006-4-27_18-21-57'), IdentifyingContext<('kdiba', 'vvp01', 'two', '2006-4-28_12-38-13')>: WindowsPath('W:/Data/KDIBA/vvp01/two/2006-4-28_12-38-13'), IdentifyingContext<('kdiba', 'vvp01', 'two', '2006-4-28_17-6-14')>: WindowsPath('W:/Data/KDIBA/vvp01/two/2006-4-28_17-6-14'), IdentifyingContext<('kdiba', 'pin01', 'one', '11-02_17-46-44')>: WindowsPath('W:/Data/KDIBA/pin01/one/11-02_17-46-44'), IdentifyingContext<('kdiba', 'pin01', 'one', '11-02_19-28-0')>: WindowsPath('W:/Data/KDIBA/pin01/one/11-02_19-28-0'), IdentifyingContext<('kdiba', 'pin01', 'one', '11-03_12-3-25')>: WindowsPath('W:/Data/KDIBA/pin01/one/11-03_12-3-25'), IdentifyingContext<('kdiba', 'pin01', 'one', '11-03_21-26-8')>: WindowsPath('W:/Data/KDIBA/pin01/one/11-03_21-26-8'), IdentifyingContext<('kdiba', 'pin01', 'one', '11-05_19-26-43')>: WindowsPath('W:/Data/KDIBA/pin01/one/11-05_19-26-43'), IdentifyingContext<('kdiba', 'pin01', 'one', '11-09_11-43-50')>: WindowsPath('W:/Data/KDIBA/pin01/one/11-09_11-43-50'), IdentifyingContext<('kdiba', 'pin01', 'one', '11-09_12-15-3')>: WindowsPath('W:/Data/KDIBA/pin01/one/11-09_12-15-3'), IdentifyingContext<('kdiba', 'pin01', 'one', '11-09_21-17-16')>: WindowsPath('W:/Data/KDIBA/pin01/one/11-09_21-17-16'), IdentifyingContext<('kdiba', 'pin01', 'one', '11-09_22-4-5')>: WindowsPath('W:/Data/KDIBA/pin01/one/11-09_22-4-5'), IdentifyingContext<('kdiba', 'pin01', 'one', '11-19_12-35-59')>: WindowsPath('W:/Data/KDIBA/pin01/one/11-19_12-35-59'), IdentifyingContext<('kdiba', 'pin01', 'one', '11-19_13-2-0')>: WindowsPath('W:/Data/KDIBA/pin01/one/11-19_13-2-0'), IdentifyingContext<('kdiba', 'pin01', 'one', '11-19_13-55-7')>: WindowsPath('W:/Data/KDIBA/pin01/one/11-19_13-55-7'), IdentifyingContext<('kdiba', 'pin01', 'one', 'fet11-01_12-58-54')>: WindowsPath('W:/Data/KDIBA/pin01/one/fet11-01_12-58-54'), IdentifyingContext<('kdiba', 'pin01', 'one', 'fet11-03_11-0-53')>: WindowsPath('W:/Data/KDIBA/pin01/one/fet11-03_11-0-53'), IdentifyingContext<('kdiba', 'pin01', 'one', 'fet11-03_20-28-3')>: WindowsPath('W:/Data/KDIBA/pin01/one/fet11-03_20-28-3'), IdentifyingContext<('kdiba', 'pin01', 'one', 'fet11-04_21-20-3')>: WindowsPath('W:/Data/KDIBA/pin01/one/fet11-04_21-20-3'), IdentifyingContext<('kdiba', 'pin01', 'one', 'redundant')>: WindowsPath('W:/Data/KDIBA/pin01/one/redundant'), IdentifyingContext<('kdiba', 'pin01', 'one', 'showclus')>: WindowsPath('W:/Data/KDIBA/pin01/one/showclus'), IdentifyingContext<('kdiba', 'pin01', 'one', 'sleep')>: WindowsPath('W:/Data/KDIBA/pin01/one/sleep'), IdentifyingContext<('kdiba', 'pin01', 'one', 'tmaze')>: WindowsPath('W:/Data/KDIBA/pin01/one/tmaze')}, session_batch_errors={IdentifyingContext<('kdiba', 'gor01', 'one', '2006-6-07_11-26-53')>: None, IdentifyingContext<('kdiba', 'gor01', 'one', '2006-6-08_14-26-15')>: \"'kdiba'\", IdentifyingContext<('kdiba', 'gor01', 'one', '2006-6-09_1-22-43')>: \"'kdiba'\", IdentifyingContext<('kdiba', 'gor01', 'one', '2006-6-09_3-23-37')>: None, IdentifyingContext<('kdiba', 'gor01', 'one', '2006-6-12_15-55-31')>: \"'kdiba'\", IdentifyingContext<('kdiba', 'gor01', 'one', '2006-6-13_14-42-6')>: None, IdentifyingContext<('kdiba', 'gor01', 'two', '2006-6-07_16-40-19')>: \"'kdiba'\", IdentifyingContext<('kdiba', 'gor01', 'two', '2006-6-08_15-46-47')>: None, IdentifyingContext<('kdiba', 'gor01', 'two', '2006-6-08_21-16-25')>: \"'kdiba'\", IdentifyingContext<('kdiba', 'gor01', 'two', '2006-6-09_22-24-40')>: \"'kdiba'\", IdentifyingContext<('kdiba', 'gor01', 'two', '2006-6-12_16-53-46')>: \"'kdiba'\", IdentifyingContext<('kdiba', 'gor01', 'two', '2006-6-13_15-22-3')>: None, IdentifyingContext<('kdiba', 'vvp01', 'one', '2006-4-09_17-29-30')>: \"'kdiba'\", IdentifyingContext<('kdiba', 'vvp01', 'one', '2006-4-10_12-25-50')>: \"'kdiba'\", IdentifyingContext<('kdiba', 'vvp01', 'one', '2006-4-10_21-2-40')>: None, IdentifyingContext<('kdiba', 'vvp01', 'one', '2006-4-11_15-16-59')>: None, IdentifyingContext<('kdiba', 'vvp01', 'one', '2006-4-12_14-39-31')>: None, IdentifyingContext<('kdiba', 'vvp01', 'one', '2006-4-12_17-53-55')>: None, IdentifyingContext<('kdiba', 'vvp01', 'one', '2006-4-16_15-12-23')>: None, IdentifyingContext<('kdiba', 'vvp01', 'one', '2006-4-17_12-33-47')>: None, IdentifyingContext<('kdiba', 'vvp01', 'one', '2006-4-18_13-6-1')>: None, IdentifyingContext<('kdiba', 'vvp01', 'one', '2006-4-18_15-23-32')>: None, IdentifyingContext<('kdiba', 'vvp01', 'one', '2006-4-19_13-34-40')>: None, IdentifyingContext<('kdiba', 'vvp01', 'one', '2006-4-19_16-48-9')>: None, IdentifyingContext<('kdiba', 'vvp01', 'one', '2006-4-21_10-24-35')>: None, IdentifyingContext<('kdiba', 'vvp01', 'one', '2006-4-25_14-28-51')>: None, IdentifyingContext<('kdiba', 'vvp01', 'one', '2006-4-25_17-17-6')>: None, IdentifyingContext<('kdiba', 'vvp01', 'one', '2006-4-26_13-22-13')>: None, IdentifyingContext<('kdiba', 'vvp01', 'one', '2006-4-27_14-43-12')>: None, IdentifyingContext<('kdiba', 'vvp01', 'one', '2006-4-28_12-17-27')>: None, IdentifyingContext<('kdiba', 'vvp01', 'one', '2006-4-28_16-48-29')>: None, IdentifyingContext<('kdiba', 'vvp01', 'two', '2006-4-09_16-40-54')>: \"'kdiba'\", IdentifyingContext<('kdiba', 'vvp01', 'two', '2006-4-10_12-58-3')>: \"'kdiba'\", IdentifyingContext<('kdiba', 'vvp01', 'two', '2006-4-10_19-11-57')>: None, IdentifyingContext<('kdiba', 'vvp01', 'two', '2006-4-11_12-48-38')>: None, IdentifyingContext<('kdiba', 'vvp01', 'two', '2006-4-11_16-2-46')>: None, IdentifyingContext<('kdiba', 'vvp01', 'two', '2006-4-12_14-59-23')>: None, IdentifyingContext<('kdiba', 'vvp01', 'two', '2006-4-12_15-25-59')>: None, IdentifyingContext<('kdiba', 'vvp01', 'two', '2006-4-16_14-49-24')>: None, IdentifyingContext<('kdiba', 'vvp01', 'two', '2006-4-16_18-47-52')>: None, IdentifyingContext<('kdiba', 'vvp01', 'two', '2006-4-17_12-52-15')>: None, IdentifyingContext<('kdiba', 'vvp01', 'two', '2006-4-18_13-28-57')>: None, IdentifyingContext<('kdiba', 'vvp01', 'two', '2006-4-18_15-38-2')>: None, IdentifyingContext<('kdiba', 'vvp01', 'two', '2006-4-19_13-50-7')>: None, IdentifyingContext<('kdiba', 'vvp01', 'two', '2006-4-19_16-37-40')>: None, IdentifyingContext<('kdiba', 'vvp01', 'two', '2006-4-21_11-19-2')>: None, IdentifyingContext<('kdiba', 'vvp01', 'two', '2006-4-25_13-20-55')>: None, IdentifyingContext<('kdiba', 'vvp01', 'two', '2006-4-25_17-33-28')>: None, IdentifyingContext<('kdiba', 'vvp01', 'two', '2006-4-26_13-51-50')>: None, IdentifyingContext<('kdiba', 'vvp01', 'two', '2006-4-27_18-21-57')>: None, IdentifyingContext<('kdiba', 'vvp01', 'two', '2006-4-28_12-38-13')>: None, IdentifyingContext<('kdiba', 'vvp01', 'two', '2006-4-28_17-6-14')>: None, IdentifyingContext<('kdiba', 'pin01', 'one', '11-02_17-46-44')>: \"'kdiba'\", IdentifyingContext<('kdiba', 'pin01', 'one', '11-02_19-28-0')>: \"'kdiba'\", IdentifyingContext<('kdiba', 'pin01', 'one', '11-03_12-3-25')>: \"'kdiba'\", IdentifyingContext<('kdiba', 'pin01', 'one', '11-03_21-26-8')>: None, IdentifyingContext<('kdiba', 'pin01', 'one', '11-05_19-26-43')>: None, IdentifyingContext<('kdiba', 'pin01', 'one', '11-09_11-43-50')>: None, IdentifyingContext<('kdiba', 'pin01', 'one', '11-09_12-15-3')>: None, IdentifyingContext<('kdiba', 'pin01', 'one', '11-09_21-17-16')>: None, IdentifyingContext<('kdiba', 'pin01', 'one', '11-09_22-4-5')>: None, IdentifyingContext<('kdiba', 'pin01', 'one', '11-19_12-35-59')>: None, IdentifyingContext<('kdiba', 'pin01', 'one', '11-19_13-2-0')>: None, IdentifyingContext<('kdiba', 'pin01', 'one', '11-19_13-55-7')>: None, IdentifyingContext<('kdiba', 'pin01', 'one', 'fet11-01_12-58-54')>: \"'kdiba'\", IdentifyingContext<('kdiba', 'pin01', 'one', 'fet11-03_11-0-53')>: None, IdentifyingContext<('kdiba', 'pin01', 'one', 'fet11-03_20-28-3')>: None, IdentifyingContext<('kdiba', 'pin01', 'one', 'fet11-04_21-20-3')>: None, IdentifyingContext<('kdiba', 'pin01', 'one', 'redundant')>: None, IdentifyingContext<('kdiba', 'pin01', 'one', 'showclus')>: None, IdentifyingContext<('kdiba', 'pin01', 'one', 'sleep')>: None, IdentifyingContext<('kdiba', 'pin01', 'one', 'tmaze')>: None}, session_batch_outputs={IdentifyingContext<('kdiba', 'gor01', 'one', '2006-6-07_11-26-53')>: None, IdentifyingContext<('kdiba', 'gor01', 'one', '2006-6-08_14-26-15')>: None, IdentifyingContext<('kdiba', 'gor01', 'one', '2006-6-09_1-22-43')>: None, IdentifyingContext<('kdiba', 'gor01', 'one', '2006-6-09_3-23-37')>: None, IdentifyingContext<('kdiba', 'gor01', 'one', '2006-6-12_15-55-31')>: None, IdentifyingContext<('kdiba', 'gor01', 'one', '2006-6-13_14-42-6')>: None, IdentifyingContext<('kdiba', 'gor01', 'two', '2006-6-07_16-40-19')>: None, IdentifyingContext<('kdiba', 'gor01', 'two', '2006-6-08_15-46-47')>: None, IdentifyingContext<('kdiba', 'gor01', 'two', '2006-6-08_21-16-25')>: None, IdentifyingContext<('kdiba', 'gor01', 'two', '2006-6-09_22-24-40')>: None, IdentifyingContext<('kdiba', 'gor01', 'two', '2006-6-12_16-53-46')>: None, IdentifyingContext<('kdiba', 'gor01', 'two', '2006-6-13_15-22-3')>: None, IdentifyingContext<('kdiba', 'vvp01', 'one', '2006-4-09_17-29-30')>: None, IdentifyingContext<('kdiba', 'vvp01', 'one', '2006-4-10_12-25-50')>: None, IdentifyingContext<('kdiba', 'vvp01', 'one', '2006-4-10_21-2-40')>: None, IdentifyingContext<('kdiba', 'vvp01', 'one', '2006-4-11_15-16-59')>: None, IdentifyingContext<('kdiba', 'vvp01', 'one', '2006-4-12_14-39-31')>: None, IdentifyingContext<('kdiba', 'vvp01', 'one', '2006-4-12_17-53-55')>: None, IdentifyingContext<('kdiba', 'vvp01', 'one', '2006-4-16_15-12-23')>: None, IdentifyingContext<('kdiba', 'vvp01', 'one', '2006-4-17_12-33-47')>: None, IdentifyingContext<('kdiba', 'vvp01', 'one', '2006-4-18_13-6-1')>: None, IdentifyingContext<('kdiba', 'vvp01', 'one', '2006-4-18_15-23-32')>: None, IdentifyingContext<('kdiba', 'vvp01', 'one', '2006-4-19_13-34-40')>: None, IdentifyingContext<('kdiba', 'vvp01', 'one', '2006-4-19_16-48-9')>: None, IdentifyingContext<('kdiba', 'vvp01', 'one', '2006-4-21_10-24-35')>: None, IdentifyingContext<('kdiba', 'vvp01', 'one', '2006-4-25_14-28-51')>: None, IdentifyingContext<('kdiba', 'vvp01', 'one', '2006-4-25_17-17-6')>: None, IdentifyingContext<('kdiba', 'vvp01', 'one', '2006-4-26_13-22-13')>: None, IdentifyingContext<('kdiba', 'vvp01', 'one', '2006-4-27_14-43-12')>: None, IdentifyingContext<('kdiba', 'vvp01', 'one', '2006-4-28_12-17-27')>: None, IdentifyingContext<('kdiba', 'vvp01', 'one', '2006-4-28_16-48-29')>: None, IdentifyingContext<('kdiba', 'vvp01', 'two', '2006-4-09_16-40-54')>: None, IdentifyingContext<('kdiba', 'vvp01', 'two', '2006-4-10_12-58-3')>: None, IdentifyingContext<('kdiba', 'vvp01', 'two', '2006-4-10_19-11-57')>: None, IdentifyingContext<('kdiba', 'vvp01', 'two', '2006-4-11_12-48-38')>: None, IdentifyingContext<('kdiba', 'vvp01', 'two', '2006-4-11_16-2-46')>: None, IdentifyingContext<('kdiba', 'vvp01', 'two', '2006-4-12_14-59-23')>: None, IdentifyingContext<('kdiba', 'vvp01', 'two', '2006-4-12_15-25-59')>: None, IdentifyingContext<('kdiba', 'vvp01', 'two', '2006-4-16_14-49-24')>: None, IdentifyingContext<('kdiba', 'vvp01', 'two', '2006-4-16_18-47-52')>: None, IdentifyingContext<('kdiba', 'vvp01', 'two', '2006-4-17_12-52-15')>: None, IdentifyingContext<('kdiba', 'vvp01', 'two', '2006-4-18_13-28-57')>: None, IdentifyingContext<('kdiba', 'vvp01', 'two', '2006-4-18_15-38-2')>: None, IdentifyingContext<('kdiba', 'vvp01', 'two', '2006-4-19_13-50-7')>: None, IdentifyingContext<('kdiba', 'vvp01', 'two', '2006-4-19_16-37-40')>: None, IdentifyingContext<('kdiba', 'vvp01', 'two', '2006-4-21_11-19-2')>: None, IdentifyingContext<('kdiba', 'vvp01', 'two', '2006-4-25_13-20-55')>: None, IdentifyingContext<('kdiba', 'vvp01', 'two', '2006-4-25_17-33-28')>: None, IdentifyingContext<('kdiba', 'vvp01', 'two', '2006-4-26_13-51-50')>: None, IdentifyingContext<('kdiba', 'vvp01', 'two', '2006-4-27_18-21-57')>: None, IdentifyingContext<('kdiba', 'vvp01', 'two', '2006-4-28_12-38-13')>: None, IdentifyingContext<('kdiba', 'vvp01', 'two', '2006-4-28_17-6-14')>: None, IdentifyingContext<('kdiba', 'pin01', 'one', '11-02_17-46-44')>: None, IdentifyingContext<('kdiba', 'pin01', 'one', '11-02_19-28-0')>: None, IdentifyingContext<('kdiba', 'pin01', 'one', '11-03_12-3-25')>: None, IdentifyingContext<('kdiba', 'pin01', 'one', '11-03_21-26-8')>: None, IdentifyingContext<('kdiba', 'pin01', 'one', '11-05_19-26-43')>: None, IdentifyingContext<('kdiba', 'pin01', 'one', '11-09_11-43-50')>: None, IdentifyingContext<('kdiba', 'pin01', 'one', '11-09_12-15-3')>: None, IdentifyingContext<('kdiba', 'pin01', 'one', '11-09_21-17-16')>: None, IdentifyingContext<('kdiba', 'pin01', 'one', '11-09_22-4-5')>: None, IdentifyingContext<('kdiba', 'pin01', 'one', '11-19_12-35-59')>: None, IdentifyingContext<('kdiba', 'pin01', 'one', '11-19_13-2-0')>: None, IdentifyingContext<('kdiba', 'pin01', 'one', '11-19_13-55-7')>: None, IdentifyingContext<('kdiba', 'pin01', 'one', 'fet11-01_12-58-54')>: None, IdentifyingContext<('kdiba', 'pin01', 'one', 'fet11-03_11-0-53')>: None, IdentifyingContext<('kdiba', 'pin01', 'one', 'fet11-03_20-28-3')>: None, IdentifyingContext<('kdiba', 'pin01', 'one', 'fet11-04_21-20-3')>: None, IdentifyingContext<('kdiba', 'pin01', 'one', 'redundant')>: None, IdentifyingContext<('kdiba', 'pin01', 'one', 'showclus')>: None, IdentifyingContext<('kdiba', 'pin01', 'one', 'sleep')>: None, IdentifyingContext<('kdiba', 'pin01', 'one', 'tmaze')>: None}, enable_saving_to_disk=False)"
      ]
     },
     "execution_count": 5,
     "metadata": {},
     "output_type": "execute_result"
    }
   ],
   "source": [
    "global_batch_run"
   ]
  },
  {
   "cell_type": "code",
   "execution_count": 4,
   "id": "9078b9e7",
   "metadata": {},
   "outputs": [
    {
     "data": {
      "text/html": [
       "<div>\n",
       "<style scoped>\n",
       "    .dataframe tbody tr th:only-of-type {\n",
       "        vertical-align: middle;\n",
       "    }\n",
       "\n",
       "    .dataframe tbody tr th {\n",
       "        vertical-align: top;\n",
       "    }\n",
       "\n",
       "    .dataframe thead th {\n",
       "        text-align: right;\n",
       "    }\n",
       "</style>\n",
       "<table border=\"1\" class=\"dataframe\">\n",
       "  <thead>\n",
       "    <tr style=\"text-align: right;\">\n",
       "      <th></th>\n",
       "      <th>format_name</th>\n",
       "      <th>animal</th>\n",
       "      <th>exper_name</th>\n",
       "      <th>session_name</th>\n",
       "      <th>context</th>\n",
       "      <th>basedirs</th>\n",
       "      <th>status</th>\n",
       "      <th>errors</th>\n",
       "      <th>n_long_laps</th>\n",
       "      <th>n_long_replays</th>\n",
       "      <th>n_short_laps</th>\n",
       "      <th>n_short_replays</th>\n",
       "      <th>is_ready</th>\n",
       "      <th>global_computation_result_file</th>\n",
       "      <th>loaded_session_pickle_file</th>\n",
       "      <th>ripple_result_file</th>\n",
       "      <th>has_user_replay_annotations</th>\n",
       "      <th>has_user_grid_bin_bounds_annotations</th>\n",
       "    </tr>\n",
       "  </thead>\n",
       "  <tbody>\n",
       "    <tr>\n",
       "      <th>0</th>\n",
       "      <td>kdiba</td>\n",
       "      <td>gor01</td>\n",
       "      <td>one</td>\n",
       "      <td>2006-6-07_11-26-53</td>\n",
       "      <td>kdiba_gor01_one_2006-6-07_11-26-53</td>\n",
       "      <td>W:\\Data\\KDIBA\\gor01\\one\\2006-6-07_11-26-53</td>\n",
       "      <td>SessionBatchProgress.NOT_STARTED</td>\n",
       "      <td>None</td>\n",
       "      <td>0</td>\n",
       "      <td>0</td>\n",
       "      <td>0</td>\n",
       "      <td>0</td>\n",
       "      <td>False</td>\n",
       "      <td>W:\\Data\\KDIBA\\gor01\\one\\2006-6-07_11-26-53\\out...</td>\n",
       "      <td>W:\\Data\\KDIBA\\gor01\\one\\2006-6-07_11-26-53\\loa...</td>\n",
       "      <td>W:\\Data\\KDIBA\\gor01\\one\\2006-6-07_11-26-53\\rip...</td>\n",
       "      <td>False</td>\n",
       "      <td>True</td>\n",
       "    </tr>\n",
       "    <tr>\n",
       "      <th>1</th>\n",
       "      <td>kdiba</td>\n",
       "      <td>gor01</td>\n",
       "      <td>one</td>\n",
       "      <td>2006-6-08_14-26-15</td>\n",
       "      <td>kdiba_gor01_one_2006-6-08_14-26-15</td>\n",
       "      <td>W:\\Data\\KDIBA\\gor01\\one\\2006-6-08_14-26-15</td>\n",
       "      <td>SessionBatchProgress.FAILED</td>\n",
       "      <td>'kdiba'</td>\n",
       "      <td>0</td>\n",
       "      <td>0</td>\n",
       "      <td>0</td>\n",
       "      <td>0</td>\n",
       "      <td>False</td>\n",
       "      <td>W:\\Data\\KDIBA\\gor01\\one\\2006-6-08_14-26-15\\out...</td>\n",
       "      <td>W:\\Data\\KDIBA\\gor01\\one\\2006-6-08_14-26-15\\loa...</td>\n",
       "      <td>W:\\Data\\KDIBA\\gor01\\one\\2006-6-08_14-26-15\\rip...</td>\n",
       "      <td>True</td>\n",
       "      <td>True</td>\n",
       "    </tr>\n",
       "    <tr>\n",
       "      <th>2</th>\n",
       "      <td>kdiba</td>\n",
       "      <td>gor01</td>\n",
       "      <td>one</td>\n",
       "      <td>2006-6-09_1-22-43</td>\n",
       "      <td>kdiba_gor01_one_2006-6-09_1-22-43</td>\n",
       "      <td>W:\\Data\\KDIBA\\gor01\\one\\2006-6-09_1-22-43</td>\n",
       "      <td>SessionBatchProgress.FAILED</td>\n",
       "      <td>'kdiba'</td>\n",
       "      <td>0</td>\n",
       "      <td>0</td>\n",
       "      <td>0</td>\n",
       "      <td>0</td>\n",
       "      <td>False</td>\n",
       "      <td>W:\\Data\\KDIBA\\gor01\\one\\2006-6-09_1-22-43\\outp...</td>\n",
       "      <td>W:\\Data\\KDIBA\\gor01\\one\\2006-6-09_1-22-43\\load...</td>\n",
       "      <td>W:\\Data\\KDIBA\\gor01\\one\\2006-6-09_1-22-43\\ripp...</td>\n",
       "      <td>True</td>\n",
       "      <td>True</td>\n",
       "    </tr>\n",
       "    <tr>\n",
       "      <th>3</th>\n",
       "      <td>kdiba</td>\n",
       "      <td>gor01</td>\n",
       "      <td>one</td>\n",
       "      <td>2006-6-09_3-23-37</td>\n",
       "      <td>kdiba_gor01_one_2006-6-09_3-23-37</td>\n",
       "      <td>W:\\Data\\KDIBA\\gor01\\one\\2006-6-09_3-23-37</td>\n",
       "      <td>SessionBatchProgress.NOT_STARTED</td>\n",
       "      <td>None</td>\n",
       "      <td>0</td>\n",
       "      <td>0</td>\n",
       "      <td>0</td>\n",
       "      <td>0</td>\n",
       "      <td>False</td>\n",
       "      <td></td>\n",
       "      <td></td>\n",
       "      <td>W:\\Data\\KDIBA\\gor01\\one\\2006-6-09_3-23-37\\ripp...</td>\n",
       "      <td>False</td>\n",
       "      <td>True</td>\n",
       "    </tr>\n",
       "    <tr>\n",
       "      <th>4</th>\n",
       "      <td>kdiba</td>\n",
       "      <td>gor01</td>\n",
       "      <td>one</td>\n",
       "      <td>2006-6-12_15-55-31</td>\n",
       "      <td>kdiba_gor01_one_2006-6-12_15-55-31</td>\n",
       "      <td>W:\\Data\\KDIBA\\gor01\\one\\2006-6-12_15-55-31</td>\n",
       "      <td>SessionBatchProgress.FAILED</td>\n",
       "      <td>'kdiba'</td>\n",
       "      <td>0</td>\n",
       "      <td>0</td>\n",
       "      <td>0</td>\n",
       "      <td>0</td>\n",
       "      <td>False</td>\n",
       "      <td>W:\\Data\\KDIBA\\gor01\\one\\2006-6-12_15-55-31\\out...</td>\n",
       "      <td>W:\\Data\\KDIBA\\gor01\\one\\2006-6-12_15-55-31\\loa...</td>\n",
       "      <td>W:\\Data\\KDIBA\\gor01\\one\\2006-6-12_15-55-31\\rip...</td>\n",
       "      <td>True</td>\n",
       "      <td>True</td>\n",
       "    </tr>\n",
       "    <tr>\n",
       "      <th>...</th>\n",
       "      <td>...</td>\n",
       "      <td>...</td>\n",
       "      <td>...</td>\n",
       "      <td>...</td>\n",
       "      <td>...</td>\n",
       "      <td>...</td>\n",
       "      <td>...</td>\n",
       "      <td>...</td>\n",
       "      <td>...</td>\n",
       "      <td>...</td>\n",
       "      <td>...</td>\n",
       "      <td>...</td>\n",
       "      <td>...</td>\n",
       "      <td>...</td>\n",
       "      <td>...</td>\n",
       "      <td>...</td>\n",
       "      <td>...</td>\n",
       "      <td>...</td>\n",
       "    </tr>\n",
       "    <tr>\n",
       "      <th>67</th>\n",
       "      <td>kdiba</td>\n",
       "      <td>pin01</td>\n",
       "      <td>one</td>\n",
       "      <td>fet11-04_21-20-3</td>\n",
       "      <td>kdiba_pin01_one_fet11-04_21-20-3</td>\n",
       "      <td>W:\\Data\\KDIBA\\pin01\\one\\fet11-04_21-20-3</td>\n",
       "      <td>SessionBatchProgress.NOT_STARTED</td>\n",
       "      <td>None</td>\n",
       "      <td>0</td>\n",
       "      <td>0</td>\n",
       "      <td>0</td>\n",
       "      <td>0</td>\n",
       "      <td>False</td>\n",
       "      <td></td>\n",
       "      <td>W:\\Data\\KDIBA\\pin01\\one\\fet11-04_21-20-3\\loade...</td>\n",
       "      <td>W:\\Data\\KDIBA\\pin01\\one\\fet11-04_21-20-3\\fet11...</td>\n",
       "      <td>False</td>\n",
       "      <td>True</td>\n",
       "    </tr>\n",
       "    <tr>\n",
       "      <th>68</th>\n",
       "      <td>kdiba</td>\n",
       "      <td>pin01</td>\n",
       "      <td>one</td>\n",
       "      <td>redundant</td>\n",
       "      <td>kdiba_pin01_one_redundant</td>\n",
       "      <td>W:\\Data\\KDIBA\\pin01\\one\\redundant</td>\n",
       "      <td>SessionBatchProgress.NOT_STARTED</td>\n",
       "      <td>None</td>\n",
       "      <td>0</td>\n",
       "      <td>0</td>\n",
       "      <td>0</td>\n",
       "      <td>0</td>\n",
       "      <td>False</td>\n",
       "      <td></td>\n",
       "      <td></td>\n",
       "      <td></td>\n",
       "      <td>False</td>\n",
       "      <td>False</td>\n",
       "    </tr>\n",
       "    <tr>\n",
       "      <th>69</th>\n",
       "      <td>kdiba</td>\n",
       "      <td>pin01</td>\n",
       "      <td>one</td>\n",
       "      <td>showclus</td>\n",
       "      <td>kdiba_pin01_one_showclus</td>\n",
       "      <td>W:\\Data\\KDIBA\\pin01\\one\\showclus</td>\n",
       "      <td>SessionBatchProgress.NOT_STARTED</td>\n",
       "      <td>None</td>\n",
       "      <td>0</td>\n",
       "      <td>0</td>\n",
       "      <td>0</td>\n",
       "      <td>0</td>\n",
       "      <td>False</td>\n",
       "      <td></td>\n",
       "      <td></td>\n",
       "      <td></td>\n",
       "      <td>False</td>\n",
       "      <td>False</td>\n",
       "    </tr>\n",
       "    <tr>\n",
       "      <th>70</th>\n",
       "      <td>kdiba</td>\n",
       "      <td>pin01</td>\n",
       "      <td>one</td>\n",
       "      <td>sleep</td>\n",
       "      <td>kdiba_pin01_one_sleep</td>\n",
       "      <td>W:\\Data\\KDIBA\\pin01\\one\\sleep</td>\n",
       "      <td>SessionBatchProgress.NOT_STARTED</td>\n",
       "      <td>None</td>\n",
       "      <td>0</td>\n",
       "      <td>0</td>\n",
       "      <td>0</td>\n",
       "      <td>0</td>\n",
       "      <td>False</td>\n",
       "      <td></td>\n",
       "      <td></td>\n",
       "      <td></td>\n",
       "      <td>False</td>\n",
       "      <td>False</td>\n",
       "    </tr>\n",
       "    <tr>\n",
       "      <th>71</th>\n",
       "      <td>kdiba</td>\n",
       "      <td>pin01</td>\n",
       "      <td>one</td>\n",
       "      <td>tmaze</td>\n",
       "      <td>kdiba_pin01_one_tmaze</td>\n",
       "      <td>W:\\Data\\KDIBA\\pin01\\one\\tmaze</td>\n",
       "      <td>SessionBatchProgress.NOT_STARTED</td>\n",
       "      <td>None</td>\n",
       "      <td>0</td>\n",
       "      <td>0</td>\n",
       "      <td>0</td>\n",
       "      <td>0</td>\n",
       "      <td>False</td>\n",
       "      <td></td>\n",
       "      <td></td>\n",
       "      <td></td>\n",
       "      <td>False</td>\n",
       "      <td>False</td>\n",
       "    </tr>\n",
       "  </tbody>\n",
       "</table>\n",
       "<p>72 rows × 18 columns</p>\n",
       "</div>"
      ],
      "text/plain": [
       "   format_name animal exper_name        session_name  \\\n",
       "0        kdiba  gor01        one  2006-6-07_11-26-53   \n",
       "1        kdiba  gor01        one  2006-6-08_14-26-15   \n",
       "2        kdiba  gor01        one   2006-6-09_1-22-43   \n",
       "3        kdiba  gor01        one   2006-6-09_3-23-37   \n",
       "4        kdiba  gor01        one  2006-6-12_15-55-31   \n",
       "..         ...    ...        ...                 ...   \n",
       "67       kdiba  pin01        one    fet11-04_21-20-3   \n",
       "68       kdiba  pin01        one           redundant   \n",
       "69       kdiba  pin01        one            showclus   \n",
       "70       kdiba  pin01        one               sleep   \n",
       "71       kdiba  pin01        one               tmaze   \n",
       "\n",
       "                               context  \\\n",
       "0   kdiba_gor01_one_2006-6-07_11-26-53   \n",
       "1   kdiba_gor01_one_2006-6-08_14-26-15   \n",
       "2    kdiba_gor01_one_2006-6-09_1-22-43   \n",
       "3    kdiba_gor01_one_2006-6-09_3-23-37   \n",
       "4   kdiba_gor01_one_2006-6-12_15-55-31   \n",
       "..                                 ...   \n",
       "67    kdiba_pin01_one_fet11-04_21-20-3   \n",
       "68           kdiba_pin01_one_redundant   \n",
       "69            kdiba_pin01_one_showclus   \n",
       "70               kdiba_pin01_one_sleep   \n",
       "71               kdiba_pin01_one_tmaze   \n",
       "\n",
       "                                      basedirs  \\\n",
       "0   W:\\Data\\KDIBA\\gor01\\one\\2006-6-07_11-26-53   \n",
       "1   W:\\Data\\KDIBA\\gor01\\one\\2006-6-08_14-26-15   \n",
       "2    W:\\Data\\KDIBA\\gor01\\one\\2006-6-09_1-22-43   \n",
       "3    W:\\Data\\KDIBA\\gor01\\one\\2006-6-09_3-23-37   \n",
       "4   W:\\Data\\KDIBA\\gor01\\one\\2006-6-12_15-55-31   \n",
       "..                                         ...   \n",
       "67    W:\\Data\\KDIBA\\pin01\\one\\fet11-04_21-20-3   \n",
       "68           W:\\Data\\KDIBA\\pin01\\one\\redundant   \n",
       "69            W:\\Data\\KDIBA\\pin01\\one\\showclus   \n",
       "70               W:\\Data\\KDIBA\\pin01\\one\\sleep   \n",
       "71               W:\\Data\\KDIBA\\pin01\\one\\tmaze   \n",
       "\n",
       "                              status   errors  n_long_laps  n_long_replays  \\\n",
       "0   SessionBatchProgress.NOT_STARTED     None            0               0   \n",
       "1        SessionBatchProgress.FAILED  'kdiba'            0               0   \n",
       "2        SessionBatchProgress.FAILED  'kdiba'            0               0   \n",
       "3   SessionBatchProgress.NOT_STARTED     None            0               0   \n",
       "4        SessionBatchProgress.FAILED  'kdiba'            0               0   \n",
       "..                               ...      ...          ...             ...   \n",
       "67  SessionBatchProgress.NOT_STARTED     None            0               0   \n",
       "68  SessionBatchProgress.NOT_STARTED     None            0               0   \n",
       "69  SessionBatchProgress.NOT_STARTED     None            0               0   \n",
       "70  SessionBatchProgress.NOT_STARTED     None            0               0   \n",
       "71  SessionBatchProgress.NOT_STARTED     None            0               0   \n",
       "\n",
       "    n_short_laps  n_short_replays  is_ready  \\\n",
       "0              0                0     False   \n",
       "1              0                0     False   \n",
       "2              0                0     False   \n",
       "3              0                0     False   \n",
       "4              0                0     False   \n",
       "..           ...              ...       ...   \n",
       "67             0                0     False   \n",
       "68             0                0     False   \n",
       "69             0                0     False   \n",
       "70             0                0     False   \n",
       "71             0                0     False   \n",
       "\n",
       "                       global_computation_result_file  \\\n",
       "0   W:\\Data\\KDIBA\\gor01\\one\\2006-6-07_11-26-53\\out...   \n",
       "1   W:\\Data\\KDIBA\\gor01\\one\\2006-6-08_14-26-15\\out...   \n",
       "2   W:\\Data\\KDIBA\\gor01\\one\\2006-6-09_1-22-43\\outp...   \n",
       "3                                                       \n",
       "4   W:\\Data\\KDIBA\\gor01\\one\\2006-6-12_15-55-31\\out...   \n",
       "..                                                ...   \n",
       "67                                                      \n",
       "68                                                      \n",
       "69                                                      \n",
       "70                                                      \n",
       "71                                                      \n",
       "\n",
       "                           loaded_session_pickle_file  \\\n",
       "0   W:\\Data\\KDIBA\\gor01\\one\\2006-6-07_11-26-53\\loa...   \n",
       "1   W:\\Data\\KDIBA\\gor01\\one\\2006-6-08_14-26-15\\loa...   \n",
       "2   W:\\Data\\KDIBA\\gor01\\one\\2006-6-09_1-22-43\\load...   \n",
       "3                                                       \n",
       "4   W:\\Data\\KDIBA\\gor01\\one\\2006-6-12_15-55-31\\loa...   \n",
       "..                                                ...   \n",
       "67  W:\\Data\\KDIBA\\pin01\\one\\fet11-04_21-20-3\\loade...   \n",
       "68                                                      \n",
       "69                                                      \n",
       "70                                                      \n",
       "71                                                      \n",
       "\n",
       "                                   ripple_result_file  \\\n",
       "0   W:\\Data\\KDIBA\\gor01\\one\\2006-6-07_11-26-53\\rip...   \n",
       "1   W:\\Data\\KDIBA\\gor01\\one\\2006-6-08_14-26-15\\rip...   \n",
       "2   W:\\Data\\KDIBA\\gor01\\one\\2006-6-09_1-22-43\\ripp...   \n",
       "3   W:\\Data\\KDIBA\\gor01\\one\\2006-6-09_3-23-37\\ripp...   \n",
       "4   W:\\Data\\KDIBA\\gor01\\one\\2006-6-12_15-55-31\\rip...   \n",
       "..                                                ...   \n",
       "67  W:\\Data\\KDIBA\\pin01\\one\\fet11-04_21-20-3\\fet11...   \n",
       "68                                                      \n",
       "69                                                      \n",
       "70                                                      \n",
       "71                                                      \n",
       "\n",
       "    has_user_replay_annotations  has_user_grid_bin_bounds_annotations  \n",
       "0                         False                                  True  \n",
       "1                          True                                  True  \n",
       "2                          True                                  True  \n",
       "3                         False                                  True  \n",
       "4                          True                                  True  \n",
       "..                          ...                                   ...  \n",
       "67                        False                                  True  \n",
       "68                        False                                 False  \n",
       "69                        False                                 False  \n",
       "70                        False                                 False  \n",
       "71                        False                                 False  \n",
       "\n",
       "[72 rows x 18 columns]"
      ]
     },
     "execution_count": 4,
     "metadata": {},
     "output_type": "execute_result"
    }
   ],
   "source": [
    "batch_progress_df = global_batch_run.to_dataframe(expand_context=True, good_only=False) # all\n",
    "good_only_batch_progress_df = global_batch_run.to_dataframe(expand_context=True, good_only=True)\n",
    "# good_only_batch_progress_df\n",
    "batch_progress_df"
   ]
  },
  {
   "cell_type": "markdown",
   "id": "61dddddb",
   "metadata": {
    "tags": []
   },
   "source": [
    "# Old (pre 2023-08-08) Run Style"
   ]
  },
  {
   "cell_type": "code",
   "execution_count": null,
   "id": "8821da03",
   "metadata": {},
   "outputs": [],
   "source": [
    "# # try to load an existing batch result:\n",
    "# # with set_posix_windows():\n",
    "# global_batch_run = BatchRun.try_init_from_file(global_data_root_parent_path, active_global_batch_result_filename=active_global_batch_result_filename,\n",
    "# \t\t\t\t\t\tskip_root_path_conversion=False, debug_print=debug_print) # on_needs_create_callback_fn=run_diba_batch\n",
    "\n",
    "# # batch_progress_df = global_batch_run.to_dataframe(expand_context=True, good_only=False) # all\n",
    "# # good_only_batch_progress_df = global_batch_run.to_dataframe(expand_context=True, good_only=True)\n",
    "# # batch_progress_df.batch_results.build_all_columns()\n",
    "# # good_only_batch_progress_df.batch_results.build_all_columns()"
   ]
  },
  {
   "cell_type": "code",
   "execution_count": null,
   "id": "1fd22042-113c-486f-8264-8ddfa6bb9474",
   "metadata": {
    "tags": []
   },
   "outputs": [],
   "source": [
    "# multiprocessing_kwargs = dict(use_multiprocessing=False, num_processes=1)\n",
    "multiprocessing_kwargs = dict(use_multiprocessing=True, num_processes=8)\n",
    "\n",
    "# Whether to output figures:\n",
    "# should_perform_figure_generation_to_file=False\n",
    "should_perform_figure_generation_to_file=True\n",
    "\n",
    "## Included Session Contexts:\n",
    "# included_session_contexts = batch_progress_df[np.logical_and(batch_progress_df['has_user_replay_annotations'], batch_progress_df['is_ready'])]['context'].to_numpy().tolist()\n",
    "\n",
    "# Only require sessions to have replay annotations:\n",
    "# included_session_contexts = batch_progress_df[batch_progress_df['has_user_replay_annotations']]['context'].to_numpy().tolist()\n",
    "\n",
    "# included_session_contexts = batch_progress_df['context'].to_numpy().tolist()[:4] # Only get the first 6\n",
    "## Limit the contexts to run to the last N:\n",
    "# included_session_contexts = included_session_contexts[:2]\n",
    "\n",
    "# ## No filtering the sessions:\n",
    "# included_session_contexts = None\n",
    "\n",
    "if included_session_contexts is not None:\n",
    "    print(f'len(included_session_contexts): {len(included_session_contexts)}')\n",
    "else:\n",
    "    print(f'included_session_contexts is None so all session contexts will be included.')\n",
    "\n",
    "# included_session_contexts\n",
    "\n",
    "\n",
    "# No Reloading\n",
    "result_handler = BatchSessionCompletionHandler(force_reload_all=False,\n",
    "                                                session_computations_options=BatchComputationProcessOptions(should_load=True, should_compute=False, should_save=False),\n",
    "                                                global_computations_options=BatchComputationProcessOptions(should_load=True, should_compute=False, should_save=False),\n",
    "                                                should_perform_figure_generation_to_file=should_perform_figure_generation_to_file, saving_mode=PipelineSavingScheme.SKIP_SAVING, force_global_recompute=False,\n",
    "                                                **multiprocessing_kwargs)\n",
    "\n",
    "# # Forced Reloading:\n",
    "# result_handler = BatchSessionCompletionHandler(force_reload_all=True,\n",
    "#                                                 session_computations_options=BatchComputationProcessOptions(should_load=False, should_compute=True, should_save=True),\n",
    "#                                                 global_computations_options=BatchComputationProcessOptions(should_load=False, should_compute=True, should_save=True),\n",
    "#                                                 should_perform_figure_generation_to_file=should_perform_figure_generation_to_file, saving_mode=PipelineSavingScheme.OVERWRITE_IN_PLACE, force_global_recompute=True,\n",
    "#                                                 **multiprocessing_kwargs)\n",
    "\n",
    "\n",
    "\n",
    "## Execute with the custom arguments.\n",
    "active_computation_functions_name_includelist=['_perform_baseline_placefield_computation',\n",
    "                                        # '_perform_time_dependent_placefield_computation',\n",
    "                                        '_perform_extended_statistics_computation',\n",
    "                                        '_perform_position_decoding_computation', \n",
    "                                        '_perform_firing_rate_trends_computation',\n",
    "                                        '_perform_pf_find_ratemap_peaks_computation',\n",
    "                                        # '_perform_time_dependent_pf_sequential_surprise_computation'\n",
    "                                        '_perform_two_step_position_decoding_computation',\n",
    "                                        # '_perform_recursive_latent_placefield_decoding'\n",
    "                                    ]\n",
    "# active_computation_functions_name_includelist=['_perform_baseline_placefield_computation']\n",
    "global_batch_run.execute_all(force_reload=result_handler.force_reload_all, saving_mode=result_handler.saving_mode, skip_extended_batch_computations=True, post_run_callback_fn=result_handler.on_complete_success_execution_session,\n",
    "                             fail_on_exception=False, included_session_contexts=included_session_contexts,\n",
    "                                                                                        **{'computation_functions_name_includelist': active_computation_functions_name_includelist,\n",
    "                                                                                            'active_session_computation_configs': None,\n",
    "                                                                                            'allow_processing_previously_completed': True}, **multiprocessing_kwargs) # can override `active_session_computation_configs` if we want to set custom ones like only the laps.)\n",
    "\n",
    "# 4m 39.8s\n"
   ]
  },
  {
   "cell_type": "code",
   "execution_count": null,
   "id": "f23326ac",
   "metadata": {},
   "outputs": [],
   "source": [
    "\n",
    "# Get only the sessions with non-None results\n",
    "sessions_with_results = [a_ctxt for a_ctxt, a_result in global_batch_run.session_batch_outputs.items() if a_result is not None]"
   ]
  },
  {
   "cell_type": "code",
   "execution_count": null,
   "id": "acae798c-78db-4cd4-8eb5-276447dce1fe",
   "metadata": {
    "tags": []
   },
   "outputs": [],
   "source": [
    "# Save to pickle:\n",
    "saveData(global_batch_result_file_path, global_batch_run) # Update the global batch run dictionary"
   ]
  },
  {
   "cell_type": "code",
   "execution_count": null,
   "id": "9c21482b-23ac-44e6-bfb2-8e3d480d74bc",
   "metadata": {
    "tags": []
   },
   "outputs": [],
   "source": [
    "# Combine across .h5 files:\n",
    "import tables as tb\n",
    "import h5py\n",
    "\n",
    "# f'/kdiba/gor01/one/2006-6-12_15-55-31/neuron_identities/table'\n",
    "\n",
    "session_identifiers, pkl_output_paths, hdf5_output_paths\n",
    "\n",
    "file_path = f'output/test_external_links.h5'\n",
    "a_global_computations_group_key: str = f\"{session_group_key}/global_computations\"\n",
    "with tb.open_file(file_path, mode='w') as f: # this mode='w' is correct because it should overwrite the previous file and not append to it.\n",
    "    a_global_computations_group = f.create_group(session_group_key, 'global_computations', title='the result of computations that operate over many or all of the filters in the session.', createparents=True)\n",
    "    an_external_link = f.create_external_link(f'', n"
   ]
  },
  {
   "cell_type": "code",
   "execution_count": null,
   "id": "b2cb43f9-214a-401b-8ae9-7dbe9af40180",
   "metadata": {
    "tags": []
   },
   "outputs": [],
   "source": [
    "\n",
    "\n",
    "from typing import List\n",
    "from attrs import define, field, Factory\n",
    "import pandas as pd\n",
    "import tables as tb\n",
    "\n",
    "@define(slots=False)\n",
    "class H5Loader:\n",
    "    \"\"\"\n",
    "    H5Loader class for loading and consolidating .h5 files\n",
    "    Usage:\n",
    "        loader = H5Loader(file_list)\n",
    "        master_table = loader.load_and_consolidate()\n",
    "    \"\"\"\n",
    "    file_list: List[str] = field(default=Factory(list))\n",
    "    table_key_list: List[str] = field(default=Factory(list))\n",
    "    \n",
    "    def load_and_consolidate(self) -> pd.DataFrame:\n",
    "        \"\"\"\n",
    "        Loads .h5 files and consolidates into a master table\n",
    "        \"\"\"\n",
    "        data_frames = []\n",
    "        for file, table_key in zip(self.file_list, self.table_key_list):\n",
    "            with tb.open_file(file) as h5_file:\n",
    "                a_table = h5_file.get_node(table_key)\n",
    "                print(f'a_table: {a_table}')\n",
    "                # for a_record in a_table\n",
    "                \n",
    "                # data_frames.append(a_table)\n",
    "#                 for table in h5_file.get_node(table_key):\n",
    "#                 # for table in h5_file.root:\n",
    "                # df = pd.DataFrame.from_records(a_table[:]) # .read()\n",
    "                df = pd.DataFrame.from_records(a_table.read()) \n",
    "                data_frames.append(df)\n",
    "\n",
    "        master_table = pd.concat(data_frames, ignore_index=True)\n",
    "        return master_table\n",
    "\n",
    "    \n",
    "    \n",
    "    \n",
    "session_group_keys: List[str] = [(\"/\" + a_ctxt.get_description(separator=\"/\", include_property_names=False)) for a_ctxt in session_identifiers] # 'kdiba/gor01/one/2006-6-08_14-26-15'\n",
    "# session_uid: str = session_context.get_description(separator=\"|\", include_property_names=False)\n",
    "neuron_identities_table_keys = [f\"{session_group_key}/neuron_identities/table\" for session_group_key in session_group_keys]\n",
    "\n",
    "\n",
    "a_loader = H5Loader(file_list=hdf5_output_paths, table_key_list=neuron_identities_table_keys)\n",
    "a_loader\n",
    "\n",
    "_out_table = a_loader.load_and_consolidate()\n",
    "_out_table"
   ]
  },
  {
   "cell_type": "markdown",
   "id": "cadc1ac7-5771-4cd5-94c6-7a6244eb8217",
   "metadata": {
    "tags": []
   },
   "source": [
    "# Extract output files from all completed sessions:"
   ]
  },
  {
   "cell_type": "code",
   "execution_count": null,
   "id": "7749849c-9f57-4d2c-aab8-5ee9353f6cf6",
   "metadata": {},
   "outputs": [],
   "source": [
    "# '/nfs/turbo/umms-kdiba/Data/KDIBA/gor01/one/2006-6-09_1-22-43/output/pipeline_results.h5'\n",
    "\n",
    "# kdiba_vvp01_two_2006-4-10_12-58-3\n",
    "# \toutputs_local ={'pkl': PosixPath('/nfs/turbo/umms-kdiba/Data/KDIBA/vvp01/two/2006-4-10_12-58-3/loadedSessPickle.pkl')}\n",
    "# \toutputs_global ={'pkl': PosixPath('/nfs/turbo/umms-kdiba/Data/KDIBA/vvp01/two/2006-4-10_12-58-3/output/global_computation_results.pkl'), 'hdf5': PosixPath('/nfs/turbo/umms-kdiba/Data/KDIBA/vvp01/two/2006-4-10_12-58-3/output/pipeline_results.h5')}\n",
    "\n",
    "session_identifiers, pkl_output_paths, hdf5_output_paths = global_batch_run.build_output_files_lists()"
   ]
  },
  {
   "cell_type": "code",
   "execution_count": null,
   "id": "2361385b-385d-4e12-997b-e2a68404858d",
   "metadata": {},
   "outputs": [],
   "source": [
    "# want .values from SingleBarResult \n",
    "session_identifiers\n"
   ]
  },
  {
   "cell_type": "code",
   "execution_count": null,
   "id": "c95f3d86",
   "metadata": {},
   "outputs": [],
   "source": [
    "values"
   ]
  },
  {
   "cell_type": "code",
   "execution_count": null,
   "id": "c8288dee-a41a-4640-a139-cb0a64f01814",
   "metadata": {},
   "outputs": [],
   "source": [
    "hdf5_output_paths"
   ]
  },
  {
   "cell_type": "code",
   "execution_count": null,
   "id": "626e4980",
   "metadata": {},
   "outputs": [],
   "source": [
    "pkl_output_paths"
   ]
  },
  {
   "cell_type": "code",
   "execution_count": null,
   "id": "47cb0cd9-3e60-4425-9351-dfc903f3f067",
   "metadata": {},
   "outputs": [],
   "source": [
    "# Save output filelist:\n",
    "from pyphocorehelpers.Filesystem.path_helpers import save_filelist_to_text_file, convert_filelist_to_new_parent\n",
    "\n",
    "h5_filelist_path = global_data_root_parent_path.joinpath(f'fileList_Greatlakes_HDF5_{BATCH_DATE_TO_USE}.txt').resolve()\n",
    "_out_string, src_filelist_HDF5_savepath = save_filelist_to_text_file(hdf5_output_paths, h5_filelist_path)\n",
    "\n",
    "pkls_filelist_path = global_data_root_parent_path.joinpath(f'fileList_Greatlakes_pkls_{BATCH_DATE_TO_USE}.txt').resolve()\n",
    "_out_string, src_filelist_pkls_savepath = save_filelist_to_text_file(pkl_output_paths, pkls_filelist_path)\n"
   ]
  },
  {
   "cell_type": "code",
   "execution_count": null,
   "id": "86afc323-364c-4716-a30f-97a5e4fb2af2",
   "metadata": {},
   "outputs": [],
   "source": [
    "from pyphocorehelpers.Filesystem.path_helpers import convert_filelist_to_new_parent\n",
    "# source_parent_path = Path(r'/media/MAX/cloud/turbo/Data')\n",
    "source_parent_path = Path(r'/nfs/turbo/umms-kdiba/Data')\n",
    "dest_parent_path = Path(r'/~/W/Data/')\n",
    "# # Build the destination filelist from the source_filelist and the two paths:\n",
    "filelist_source = hdf5_output_paths\n",
    "filelist_dest_paths = convert_filelist_to_new_parent(filelist_source, original_parent_path=source_parent_path, dest_parent_path=dest_parent_path)\n",
    "filelist_dest_paths\n",
    "\n",
    "dest_Apogee_h5_filelist_path = global_data_root_parent_path.joinpath(f'dest_fileList_Apogee_{BATCH_DATE_TO_USE}.txt').resolve()\n",
    "_out_string, dest_filelist_savepath = save_filelist_to_text_file(filelist_dest_paths, dest_Apogee_h5_filelist_path)"
   ]
  },
  {
   "cell_type": "code",
   "execution_count": null,
   "id": "412260ec-ddbd-4727-8795-438717dd9db1",
   "metadata": {},
   "outputs": [],
   "source": [
    "dest_filelist_savepath"
   ]
  },
  {
   "cell_type": "code",
   "execution_count": null,
   "id": "3a8e69a3",
   "metadata": {
    "tags": []
   },
   "outputs": [],
   "source": [
    "from pyphoplacecellanalysis.General.Batch.runBatch import PipelineCompletionResult\n",
    "from neuropy.core.epoch import Epoch\n",
    "\n",
    "# Save to HDF5\n",
    "suffix = f'{BATCH_DATE_TO_USE}'\n",
    "## Build Pickle Path:\n",
    "file_path = global_data_root_parent_path.joinpath(f'global_batch_output_{suffix}.h5').resolve()\n",
    "file_path"
   ]
  },
  {
   "cell_type": "code",
   "execution_count": null,
   "id": "10b0d19b",
   "metadata": {
    "scrolled": true,
    "tags": []
   },
   "outputs": [],
   "source": [
    "global_batch_run.to_hdf(file_path,'/')"
   ]
  },
  {
   "cell_type": "code",
   "execution_count": null,
   "id": "282ce774-98fb-4e69-a7e2-e94cbff1b0b5",
   "metadata": {
    "tags": []
   },
   "outputs": [],
   "source": [
    "# Get only the sessions with non-None results\n",
    "sessions_with_results = [a_ctxt for a_ctxt, a_result in global_batch_run.session_batch_outputs.items() if a_result is not None]\n",
    "\n",
    "# list(global_batch_run.session_batch_outputs.keys())\n",
    "\n",
    "# Somewhere in there there are `InstantaneousSpikeRateGroupsComputation` results to extract\n",
    "across_sessions_instantaneous_fr_dict = {} # InstantaneousSpikeRateGroupsComputation\n",
    "\n",
    "# good_session_batch_outputs = global_batch_run.session_batch_outputs\n",
    "\n",
    "sessions_with_results = [a_ctxt for a_ctxt, a_result in global_batch_run.session_batch_outputs.items() if a_result is not None]\n",
    "good_session_batch_outputs = {a_ctxt:a_result for a_ctxt, a_result in global_batch_run.session_batch_outputs.items() if a_result is not None}\n",
    "\n",
    "for a_ctxt, a_result in good_session_batch_outputs.items():\n",
    "    if a_result is not None:\n",
    "        # a_good_result = a_result.__dict__.get('across_sessions_batch_results', {}).get('inst_fr_comps', None)\n",
    "        a_good_result = a_result.across_session_results.get('inst_fr_comps', None)\n",
    "        if a_good_result is not None:\n",
    "            across_sessions_instantaneous_fr_dict[a_ctxt] = a_good_result\n",
    "            # print(a_result['across_sessions_batch_results']['inst_fr_comps'])\n",
    "            \n",
    "num_sessions = len(across_sessions_instantaneous_fr_dict)\n",
    "print(f'num_sessions: {num_sessions}')\n",
    "\n",
    "# When done, `result_handler.across_sessions_instantaneous_fr_dict` is now equivalent to what it would have been before. It can be saved using the normal `.save_across_sessions_data(...)`\n",
    "\n",
    "## Save the instantaneous firing rate results dict: (# Dict[IdentifyingContext] = InstantaneousSpikeRateGroupsComputation)\n",
    "AcrossSessionsResults.save_across_sessions_data(across_sessions_instantaneous_fr_dict=across_sessions_instantaneous_fr_dict, global_data_root_parent_path=global_data_root_parent_path, inst_fr_output_filename=f'across_session_result_long_short_inst_firing_rate_{BATCH_DATE_TO_USE}.pkl')\n",
    "\n",
    "# ## Save pickle:\n",
    "# inst_fr_output_filename=f'across_session_result_long_short_inst_firing_rate_{BATCH_DATE_TO_USE}.pkl'\n",
    "# global_batch_result_inst_fr_file_path = Path(global_data_root_parent_path).joinpath(inst_fr_output_filename).resolve() # Use Default\n",
    "# print(f'global_batch_result_inst_fr_file_path: {global_batch_result_inst_fr_file_path}')\n",
    "# # Save the all sessions instantaneous firing rate dict to the path:\n",
    "# saveData(global_batch_result_inst_fr_file_path, across_sessions_instantaneous_fr_dict)"
   ]
  },
  {
   "cell_type": "code",
   "execution_count": null,
   "id": "c60d19a7-5a89-43f1-aa33-3a7450d1f965",
   "metadata": {
    "tags": []
   },
   "outputs": [],
   "source": [
    "across_sessions_instantaneous_fr_dict"
   ]
  },
  {
   "cell_type": "code",
   "execution_count": null,
   "id": "e178426c-54df-47ac-8103-a66f114c77e5",
   "metadata": {
    "tags": []
   },
   "outputs": [],
   "source": [
    "[a_ctxt.get_initialization_code_string() for a_ctxt in sessions_with_results]"
   ]
  },
  {
   "cell_type": "code",
   "execution_count": null,
   "id": "bd124683-bfc2-49bf-9531-583e19db5a89",
   "metadata": {
    "tags": []
   },
   "outputs": [],
   "source": [
    "included_contexts = [IdentifyingContext(format_name='kdiba',animal='gor01',exper_name='one',session_name='2006-6-08_14-26-15'),\n",
    "IdentifyingContext(format_name='kdiba',animal='gor01',exper_name='one',session_name='2006-6-09_1-22-43'),\n",
    "IdentifyingContext(format_name='kdiba',animal='gor01',exper_name='one',session_name='2006-6-12_15-55-31'),\n",
    "IdentifyingContext(format_name='kdiba',animal='gor01',exper_name='two',session_name='2006-6-07_16-40-19'),\n",
    "IdentifyingContext(format_name='kdiba',animal='gor01',exper_name='two',session_name='2006-6-08_21-16-25'),\n",
    "IdentifyingContext(format_name='kdiba',animal='gor01',exper_name='two',session_name='2006-6-09_22-24-40'),\n",
    "IdentifyingContext(format_name='kdiba',animal='gor01',exper_name='two',session_name='2006-6-12_16-53-46'),\n",
    "IdentifyingContext(format_name='kdiba',animal='vvp01',exper_name='one',session_name='2006-4-09_17-29-30'),\n",
    "IdentifyingContext(format_name='kdiba',animal='vvp01',exper_name='one',session_name='2006-4-10_12-25-50'),\n",
    "IdentifyingContext(format_name='kdiba',animal='vvp01',exper_name='two',session_name='2006-4-09_16-40-54'),\n",
    "IdentifyingContext(format_name='kdiba',animal='vvp01',exper_name='two',session_name='2006-4-10_12-58-3'),\n",
    "IdentifyingContext(format_name='kdiba',animal='pin01',exper_name='one',session_name='11-02_17-46-44'),\n",
    "IdentifyingContext(format_name='kdiba',animal='pin01',exper_name='one',session_name='11-02_19-28-0'),\n",
    "IdentifyingContext(format_name='kdiba',animal='pin01',exper_name='one',session_name='11-03_12-3-25'),\n",
    "IdentifyingContext(format_name='kdiba',animal='pin01',exper_name='one',session_name='fet11-01_12-58-54')]\n"
   ]
  },
  {
   "cell_type": "markdown",
   "id": "be651cc7",
   "metadata": {
    "tags": []
   },
   "source": [
    "# 2023-07-14 - Load Saved across-sessions-data and testing Batch-computed inst_firing_rates:"
   ]
  },
  {
   "cell_type": "code",
   "execution_count": null,
   "id": "28ad5bf6",
   "metadata": {},
   "outputs": [],
   "source": [
    "from neuropy.utils.matplotlib_helpers import matplotlib_configuration_update\n",
    "from pyphoplacecellanalysis.General.Batch.PhoDiba2023Paper import PaperFigureTwo, InstantaneousSpikeRateGroupsComputation\n",
    "from pyphoplacecellanalysis.General.Pipeline.Stages.ComputationFunctions.SpikeAnalysis import SpikeRateTrends\n",
    "from pyphoplacecellanalysis.General.Batch.PhoDiba2023Paper import list_of_dicts_to_dict_of_lists\n",
    "from pyphoplacecellanalysis.General.Batch.AcrossSessionResults import AcrossSessionsResults, AcrossSessionsVisualizations\n",
    "\n",
    "## Load the saved across-session results:\n",
    "# inst_fr_output_filename = 'long_short_inst_firing_rate_result_handlers_2023-07-12.pkl'\n",
    "# inst_fr_output_filename = 'across_session_result_long_short_inst_firing_rate.pkl'\n",
    "# inst_fr_output_filename='across_session_result_long_short_inst_firing_rate_2023-07-21.pkl'\n",
    "inst_fr_output_filename=f'across_session_result_handler_{BATCH_DATE_TO_USE}.pkl'\n",
    "across_session_inst_fr_computation, across_sessions_instantaneous_fr_dict, across_sessions_instantaneous_frs_list = AcrossSessionsResults.load_across_sessions_data(global_data_root_parent_path=global_data_root_parent_path, inst_fr_output_filename=inst_fr_output_filename)\n",
    "# across_sessions_instantaneous_fr_dict = loadData(global_batch_result_inst_fr_file_path)\n",
    "num_sessions = len(across_sessions_instantaneous_fr_dict)\n",
    "print(f'num_sessions: {num_sessions}')"
   ]
  },
  {
   "cell_type": "code",
   "execution_count": null,
   "id": "7cc1152c",
   "metadata": {},
   "outputs": [],
   "source": [
    "## Hacks the `PaperFigureTwo` and `InstantaneousSpikeRateGroupsComputation` \n",
    "global_multi_session_context, _out_aggregate_fig_2 = AcrossSessionsVisualizations.across_sessions_bar_graphs(across_session_inst_fr_computation, num_sessions, enable_tiny_point_labels=False, enable_hover_labels=False)\n"
   ]
  },
  {
   "cell_type": "code",
   "execution_count": null,
   "id": "1381fcf5",
   "metadata": {
    "notebookRunGroups": {
     "groupValue": "1"
    }
   },
   "outputs": [],
   "source": [
    "across_session_inst_fr_computation.LxC_scatter_props\n",
    "across_session_inst_fr_computation.SxC_scatter_props"
   ]
  },
  {
   "cell_type": "code",
   "execution_count": null,
   "id": "80db1ccc",
   "metadata": {},
   "outputs": [],
   "source": []
  },
  {
   "cell_type": "code",
   "execution_count": null,
   "id": "8e45d728",
   "metadata": {},
   "outputs": [],
   "source": []
  },
  {
   "cell_type": "code",
   "execution_count": null,
   "id": "d446874f",
   "metadata": {},
   "outputs": [],
   "source": [
    "# Build the unique scatter plot dictionaries:\n",
    "across_session_contexts = list(across_sessions_instantaneous_fr_dict.keys())\n",
    "unique_animals = IdentifyingContext.find_unique_values(across_session_contexts)['animal'] # {'gor01', 'pin01', 'vvp01'}\n",
    "# Get number of animals to plot\n",
    "marker_list = [(5, i) for i in np.arange(len(unique_animals))] # [(5, 0), (5, 1), (5, 2)]\n",
    "scatter_props = [{'marker': mkr} for mkr in marker_list]  # Example, you should provide your own scatter properties\n",
    "scatter_props_dict = dict(zip(unique_animals, scatter_props))\n",
    "# {'pin01': {'marker': (5, 0)},\n",
    "#  'gor01': {'marker': (5, 1)},\n",
    "#  'vvp01': {'marker': (5, 2)}}\n",
    "scatter_props_dict\n",
    "\n",
    "# Pass a function that will return a set of kwargs for a given context\n",
    "def _return_scatter_props_fn(ctxt: IdentifyingContext):\n",
    "\t\"\"\" captures `scatter_props_dict` \"\"\"\n",
    "\tanimal_id = str(ctxt.animal)\n",
    "\treturn scatter_props_dict[animal_id]\n",
    "\t\n"
   ]
  },
  {
   "cell_type": "code",
   "execution_count": null,
   "id": "63258151",
   "metadata": {},
   "outputs": [],
   "source": [
    "## Aggregate across all of the sessions to build a new combined `InstantaneousSpikeRateGroupsComputation`, which can be used to plot the \"PaperFigureTwo\", bar plots for many sessions.\n",
    "global_multi_session_context = IdentifyingContext(format_name='kdiba', num_sessions=num_sessions) # some global context across all of the sessions, not sure what to put here.\n",
    "\n",
    "# To correctly aggregate results across sessions, it only makes sense to combine entries at the `.cell_agg_inst_fr_list` variable and lower (as the number of cells can be added across sessions, treated as unique for each session).\n",
    "\n",
    "## Display the aggregate across sessions:\n",
    "_out_fig_2 = PaperFigureTwo(instantaneous_time_bin_size_seconds=0.01) # WARNING: we didn't save this info\n",
    "_out_fig_2.computation_result = across_session_inst_fr_computation # the result loaded from the file\n",
    "_out_fig_2.active_identifying_session_ctx = across_session_inst_fr_computation.active_identifying_session_ctx\n",
    "# Set callback, the only self-specific property\n",
    "# _out_fig_2._pipeline_file_callback_fn = curr_active_pipeline.output_figure # lambda args, kwargs: self.write_to_file(args, kwargs, curr_active_pipeline)\n",
    "_out_fig_2.scatter_props_fn = _return_scatter_props_fn"
   ]
  },
  {
   "cell_type": "code",
   "execution_count": null,
   "id": "50e9d06b",
   "metadata": {},
   "outputs": [],
   "source": [
    "LxC_aclus = _out_fig_2.computation_result.LxC_aclus\n",
    "SxC_aclus = _out_fig_2.computation_result.SxC_aclus\n",
    "\n",
    "LxC_aclus"
   ]
  },
  {
   "cell_type": "code",
   "execution_count": null,
   "id": "96c498f8",
   "metadata": {},
   "outputs": [],
   "source": [
    "from pyphoplacecellanalysis.General.Mixins.ExportHelpers import FigureOutputManager, FigureOutputLocation, ContextToPathMode\n",
    "\n",
    "registered_output_files = {}\n",
    "\n",
    "def output_figure(final_context: IdentifyingContext, fig, write_vector_format:bool=False, write_png:bool=True, debug_print=True):\n",
    "    \"\"\" outputs the figure using the provided context. \"\"\"\n",
    "    from pyphoplacecellanalysis.General.Mixins.ExportHelpers import build_and_write_to_file\n",
    "    def register_output_file(output_path, output_metadata=None):\n",
    "        \"\"\" registers a new output file for the pipeline \"\"\"\n",
    "        print(f'register_output_file(output_path: {output_path}, ...)')\n",
    "        registered_output_files[output_path] = output_metadata or {}\n",
    "\n",
    "    fig_out_man = FigureOutputManager(figure_output_location=FigureOutputLocation.DAILY_PROGRAMMATIC_OUTPUT_FOLDER, context_to_path_mode=ContextToPathMode.HIERARCHY_UNIQUE)\n",
    "    active_out_figure_paths = build_and_write_to_file(fig, final_context, fig_out_man, write_vector_format=write_vector_format, write_png=write_png, register_output_file_fn=register_output_file)\n",
    "    return active_out_figure_paths, final_context\n",
    "\n",
    "\n",
    "# Set callback, the only self-specific property\n",
    "_out_fig_2._pipeline_file_callback_fn = output_figure"
   ]
  },
  {
   "cell_type": "code",
   "execution_count": null,
   "id": "1db0f1d5",
   "metadata": {},
   "outputs": [],
   "source": [
    "_out_fig_2.computation_result.Fig2_Laps_FR"
   ]
  },
  {
   "cell_type": "code",
   "execution_count": null,
   "id": "da17b920",
   "metadata": {},
   "outputs": [],
   "source": []
  },
  {
   "cell_type": "code",
   "execution_count": null,
   "id": "17ef9f3d",
   "metadata": {},
   "outputs": [],
   "source": [
    "_out_fig_2.computation_result.Fig2_Laps_FR"
   ]
  },
  {
   "cell_type": "code",
   "execution_count": null,
   "id": "a694ec1c",
   "metadata": {},
   "outputs": [],
   "source": [
    "# Showing\n",
    "restore_previous_matplotlib_settings_callback = matplotlib_configuration_update(is_interactive=True, backend='Qt5Agg')\n",
    "# Perform interactive Matplotlib operations with 'Qt5Agg' backend\n",
    "_fig_2_theta_out, _fig_2_replay_out = _out_fig_2.display(active_context=global_multi_session_context, title_modifier_fn=lambda original_title: f\"{original_title} ({num_sessions} sessions)\", save_figure=True)\n",
    "\t\n",
    "_out_fig_2.perform_save()"
   ]
  },
  {
   "cell_type": "markdown",
   "id": "32781c8b",
   "metadata": {
    "jp-MarkdownHeadingCollapsed": true,
    "tags": []
   },
   "source": [
    "## Single Session testing:\n"
   ]
  },
  {
   "cell_type": "code",
   "execution_count": null,
   "id": "9311a987",
   "metadata": {},
   "outputs": [],
   "source": [
    "_test_out = global_batch_run.execute_session(session_context=curr_sess_context, force_reload=True, skip_extended_batch_computations=True, computation_functions_name_includelist =['_perform_baseline_placefield_computation'], active_session_computation_configs=None) # can override `active_session_computation_configs` if we want to set custom ones like only the laps.)\n",
    "_test_out\n",
    "\n",
    "# global_batch_run.execute_session(session_context=curr_sess_context, force_reload=True, skip_extended_batch_computations=True, **{'computation_functions_name_includelist': ['_perform_baseline_placefield_computation'], 'active_session_computation_configs': None}) # can override `active_session_computation_configs` if we want to set custom ones like only the laps.)\n",
    "\n",
    "# 23.5s"
   ]
  },
  {
   "cell_type": "code",
   "execution_count": null,
   "id": "ddf2bb67",
   "metadata": {
    "tags": []
   },
   "outputs": [],
   "source": [
    "\n",
    "full_good_dirs = [k for k, v in global_batch_run.session_batch_errors.items() if v is None]\n",
    "bad_dirs = [k for k, v in global_batch_run.session_batch_errors.items() if v is not None]\n",
    "full_good_dirs\n",
    "bad_dirs"
   ]
  },
  {
   "cell_type": "code",
   "execution_count": null,
   "id": "9d5f73f9",
   "metadata": {
    "tags": []
   },
   "outputs": [],
   "source": [
    "global_batch_run.session_batch_status"
   ]
  },
  {
   "cell_type": "code",
   "execution_count": null,
   "id": "0dcad70a",
   "metadata": {},
   "outputs": [],
   "source": [
    "global_batch_run.session_batch_status\n",
    "global_batch_run.session_batch_errors"
   ]
  },
  {
   "cell_type": "markdown",
   "id": "15faf2bb",
   "metadata": {
    "jp-MarkdownHeadingCollapsed": true,
    "tags": []
   },
   "source": [
    "# Get good sessions for use in the specific session processing notebook:"
   ]
  },
  {
   "cell_type": "code",
   "execution_count": null,
   "id": "ed516134",
   "metadata": {
    "tags": []
   },
   "outputs": [],
   "source": [
    "batch_progress_df = global_batch_run.to_dataframe(expand_context=True, good_only=False) # all\n",
    "good_only_batch_progress_df = global_batch_run.to_dataframe(expand_context=True, good_only=True)\n",
    "good_only_batch_progress_df"
   ]
  },
  {
   "cell_type": "code",
   "execution_count": null,
   "id": "bdf02efc",
   "metadata": {
    "tags": []
   },
   "outputs": [],
   "source": [
    "## Get the list of sessions that are completely ready to process:\n",
    "full_good_ready_to_process_sessions = list(good_only_batch_progress_df['context'].to_numpy())\n",
    "full_good_ready_to_process_sessions\n",
    "# Get good sessions for use in the specific session processing notebook:"
   ]
  },
  {
   "cell_type": "code",
   "execution_count": null,
   "id": "8f1ad809",
   "metadata": {
    "tags": []
   },
   "outputs": [],
   "source": [
    "run[\"good_sessions_list\"].extend(full_good_ready_to_process_sessions)"
   ]
  },
  {
   "cell_type": "code",
   "execution_count": null,
   "id": "c636e3b9",
   "metadata": {
    "tags": []
   },
   "outputs": [],
   "source": [
    "run.stop()\n",
    "project.stop()"
   ]
  },
  {
   "cell_type": "code",
   "execution_count": null,
   "id": "8caf1322",
   "metadata": {
    "tags": []
   },
   "outputs": [],
   "source": [
    "\n",
    "print(\",\\n\".join([ctx.get_initialization_code_string() for ctx in full_good_ready_to_process_sessions])) # List definitions\n",
    "\n",
    "# [IdentifyingContext(format_name='kdiba',animal='gor01',exper_name='one',session_name='2006-6-08_14-26-15'),\n",
    "# IdentifyingContext(format_name='kdiba',animal='gor01',exper_name='one',session_name='2006-6-09_1-22-43'),\n",
    "# IdentifyingContext(format_name='kdiba',animal='gor01',exper_name='one',session_name='2006-6-12_15-55-31'),\n",
    "# IdentifyingContext(format_name='kdiba',animal='gor01',exper_name='one',session_name='2006-6-13_14-42-6'),\n",
    "# IdentifyingContext(format_name='kdiba',animal='gor01',exper_name='two',session_name='2006-6-07_16-40-19'),\n",
    "# IdentifyingContext(format_name='kdiba',animal='gor01',exper_name='two',session_name='2006-6-12_16-53-46'),\n",
    "# IdentifyingContext(format_name='kdiba',animal='vvp01',exper_name='one',session_name='2006-4-09_17-29-30')]"
   ]
  },
  {
   "cell_type": "code",
   "execution_count": null,
   "id": "ee5a4bfe",
   "metadata": {
    "tags": []
   },
   "outputs": [],
   "source": [
    "print(\"\\ncurr_context = \".join([ctx.get_initialization_code_string() for ctx in full_good_ready_to_process_sessions])) # Line definitions\n",
    "\n",
    "# curr_context = IdentifyingContext(format_name='kdiba',animal='gor01',exper_name='one',session_name='2006-6-08_14-26-15')\n",
    "# curr_context = IdentifyingContext(format_name='kdiba',animal='gor01',exper_name='one',session_name='2006-6-09_1-22-43')\n",
    "# curr_context = IdentifyingContext(format_name='kdiba',animal='gor01',exper_name='one',session_name='2006-6-12_15-55-31')\n",
    "# curr_context = IdentifyingContext(format_name='kdiba',animal='gor01',exper_name='one',session_name='2006-6-13_14-42-6')\n",
    "# curr_context = IdentifyingContext(format_name='kdiba',animal='gor01',exper_name='two',session_name='2006-6-07_16-40-19')\n",
    "# curr_context = IdentifyingContext(format_name='kdiba',animal='gor01',exper_name='two',session_name='2006-6-12_16-53-46')\n",
    "# curr_context = IdentifyingContext(format_name='kdiba',animal='vvp01',exper_name='one',session_name='2006-4-09_17-29-30')"
   ]
  },
  {
   "cell_type": "code",
   "execution_count": null,
   "id": "e5689d1d-6400-4f87-be0e-a184a1d5bee4",
   "metadata": {
    "tags": []
   },
   "outputs": [],
   "source": [
    "good_only_batch_progress_df"
   ]
  },
  {
   "cell_type": "code",
   "execution_count": null,
   "id": "7c82aedf-b024-4f07-b1a9-350730b4db8c",
   "metadata": {
    "tags": []
   },
   "outputs": [],
   "source": [
    "from datetime import datetime\n",
    "\n",
    "# datetime object containing current date and time\n",
    "save_time = datetime.now()\n",
    " \n",
    "print(\"save_time =\", save_time)\n",
    "\n",
    "# dd/mm/YY H:M:S\n",
    "dt_string = save_time.strftime(\"%Y-%m-%d_%I-%M%p\")\n",
    "print(\"date and time =\", dt_string)"
   ]
  },
  {
   "cell_type": "code",
   "execution_count": null,
   "id": "ac7bc6bd-5b34-41d0-b906-b0ad9927b08d",
   "metadata": {
    "tags": []
   },
   "outputs": [],
   "source": [
    "## Get output file paths:\n",
    "completed_pipeline_filename = 'loadedSessPickle.pkl'\n",
    "completed_global_computations_filename = 'outputs/global_computation_results.pkl'\n",
    "\n",
    "full_good_ready_to_process_session_paths = list(good_only_batch_progress_df['basedirs'].to_numpy())\n",
    "session_paths_output_folders = [sess_path.joinpath('outputs').resolve() for sess_path in full_good_ready_to_process_session_paths]\n",
    "\n",
    "completed_pipeline_file_paths = [sess_path.joinpath(completed_pipeline_filename).resolve() for sess_path in full_good_ready_to_process_session_paths]\n",
    "completed_global_computations_file_paths = [sess_path.joinpath(completed_global_computations_filename).resolve() for sess_path in full_good_ready_to_process_session_paths]\n",
    "completed_global_computations_file_paths"
   ]
  },
  {
   "cell_type": "code",
   "execution_count": null,
   "id": "8ab75122",
   "metadata": {},
   "outputs": [],
   "source": [
    "# Countable Additivity \n",
    "# Any countable collections of points is size 0\n",
    "\n"
   ]
  },
  {
   "cell_type": "code",
   "execution_count": null,
   "id": "2af06e5e",
   "metadata": {},
   "outputs": [],
   "source": []
  }
 ],
 "metadata": {
  "kernelspec": {
   "display_name": "Python 3 (ipykernel)",
   "language": "python",
   "name": "python3"
  },
  "language_info": {
   "codemirror_mode": {
    "name": "ipython",
    "version": 3
   },
   "file_extension": ".py",
   "mimetype": "text/x-python",
   "name": "python",
   "nbconvert_exporter": "python",
   "pygments_lexer": "ipython3",
   "version": "3.9.13"
  },
  "toc-showmarkdowntxt": false,
  "toc-showtags": false
 },
 "nbformat": 4,
 "nbformat_minor": 5
}
