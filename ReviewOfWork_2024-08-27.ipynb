{
 "cells": [
  {
   "cell_type": "code",
   "execution_count": 1,
   "id": "initial_id",
   "metadata": {
    "ExecuteTime": {
     "end_time": "2023-11-16T23:21:20.608442900Z",
     "start_time": "2023-11-16T23:21:20.217442100Z"
    },
    "collapsed": true,
    "notebookRunGroups": {
     "groupValue": "1"
    }
   },
   "outputs": [
    {
     "name": "stdout",
     "output_type": "stream",
     "text": [
      "Automatic pdb calling has been turned OFF\n",
      "doc_output_parent_folder: C:\\Users\\pho\\repos\\Spike3DWorkEnv\\Spike3D\\EXTERNAL\\DEVELOPER_NOTES\\DataStructureDocumentation\n",
      "DAY_DATE_STR: 2024-08-28, DAY_DATE_TO_USE: 2024-08-28\n",
      "NOW_DATETIME: 2024-08-28_0842AM, NOW_DATETIME_TO_USE: 2024-08-28_0842AM\n",
      "global_data_root_parent_path changed to W:\\Data\n"
     ]
    },
    {
     "data": {
      "application/vnd.jupyter.widget-view+json": {
       "model_id": "7e9d675ec3934d0a88400093f14ab47b",
       "version_major": 2,
       "version_minor": 0
      },
      "text/plain": [
       "ToggleButtons(description='Data Root:', layout=Layout(width='auto'), options=(WindowsPath('W:/Data'),), style=ToggleButtonsStyle(button_width='max-content'), tooltip='global_data_root_parent_path', value=WindowsPath('W:/Data'))"
      ]
     },
     "execution_count": 1,
     "metadata": {},
     "output_type": "execute_result"
    }
   ],
   "source": [
    "%config IPCompleter.use_jedi = False\n",
    "# %xmode Verbose\n",
    "# %xmode context\n",
    "%pdb off\n",
    "%load_ext autoreload\n",
    "%autoreload 3\n",
    "# !pip install viztracer\n",
    "%load_ext viztracer\n",
    "from viztracer import VizTracer\n",
    "import sys\n",
    "from pathlib import Path\n",
    "\n",
    "# required to enable non-blocking interaction:\n",
    "%gui qt5\n",
    "\n",
    "import importlib\n",
    "from copy import deepcopy\n",
    "from numba import jit\n",
    "import numpy as np\n",
    "import pandas as pd\n",
    "pd.options.mode.chained_assignment = None  # default='warn'\n",
    "# pd.options.mode.dtype_backend = 'pyarrow' # use new pyarrow backend instead of numpy\n",
    "from attrs import define, field, fields, Factory, make_class\n",
    "import tables as tb\n",
    "from datetime import datetime, timedelta\n",
    "\n",
    "# Pho's Formatting Preferences\n",
    "import builtins\n",
    "\n",
    "import IPython\n",
    "from IPython.core.formatters import PlainTextFormatter\n",
    "from IPython import get_ipython\n",
    "\n",
    "from pyphocorehelpers.preferences_helpers import set_pho_preferences, set_pho_preferences_concise, set_pho_preferences_verbose\n",
    "set_pho_preferences_concise()\n",
    "# Jupyter-lab enable printing for any line on its own (instead of just the last one in the cell)\n",
    "from IPython.core.interactiveshell import InteractiveShell\n",
    "InteractiveShell.ast_node_interactivity = \"all\"\n",
    "\n",
    "# BEGIN PPRINT CUSTOMIZATION ___________________________________________________________________________________________ #\n",
    "\n",
    "## IPython pprint\n",
    "from pyphocorehelpers.pprint import wide_pprint, wide_pprint_ipython, wide_pprint_jupyter, MAX_LINE_LENGTH\n",
    "# Override default pprint\n",
    "builtins.pprint = wide_pprint\n",
    "\n",
    "from pho_jupyter_preview_widget.display_helpers import array_repr_with_graphical_preview\n",
    "from pho_jupyter_preview_widget.ipython_helpers import PreviewWidgetMagics\n",
    "\n",
    "ip = get_ipython()\n",
    "\n",
    "# Register the magic\n",
    "ip.register_magics(PreviewWidgetMagics)\n",
    "\n",
    "\n",
    "# from pyphocorehelpers.ipython_helpers import MyMagics\n",
    "\n",
    "# %config_ndarray_preview width=500\n",
    "\n",
    "\n",
    "# Register the custom display function for NumPy arrays\n",
    "# ip.display_formatter.formatters['text/html'].for_type(np.ndarray, lambda arr: array_preview_with_graphical_shape_repr_html(arr))\n",
    "# ip = array_repr_with_graphical_shape(ip=ip)\n",
    "ip = array_repr_with_graphical_preview(ip=ip)\n",
    "# ip = dataframe_show_more_button(ip=ip)\n",
    "\n",
    "text_formatter: PlainTextFormatter = ip.display_formatter.formatters['text/plain']\n",
    "text_formatter.max_width = MAX_LINE_LENGTH\n",
    "text_formatter.for_type(object, wide_pprint_jupyter)\n",
    "\n",
    "\n",
    "# END PPRINT CUSTOMIZATION ___________________________________________________________________________________________ #\n",
    "\n",
    "from pyphocorehelpers.print_helpers import get_now_time_str, get_now_day_str\n",
    "from pyphocorehelpers.indexing_helpers import get_dict_subset\n",
    "\n",
    "## Pho's Custom Libraries:\n",
    "from pyphocorehelpers.Filesystem.path_helpers import find_first_extant_path, file_uri_from_path\n",
    "from pyphocorehelpers.Filesystem.open_in_system_file_manager import reveal_in_system_file_manager\n",
    "import pyphocorehelpers.programming_helpers as programming_helpers\n",
    "\n",
    "# NeuroPy (Diba Lab Python Repo) Loading\n",
    "# from neuropy import core\n",
    "from typing import Dict, List, Tuple, Optional, Callable, Union, Any\n",
    "from typing_extensions import TypeAlias\n",
    "from nptyping import NDArray\n",
    "import neuropy.utils.type_aliases as types\n",
    "\n",
    "from neuropy.analyses.placefields import PlacefieldComputationParameters\n",
    "from neuropy.core.epoch import NamedTimerange, Epoch\n",
    "from neuropy.core.ratemap import Ratemap\n",
    "from neuropy.core.session.Formats.BaseDataSessionFormats import DataSessionFormatRegistryHolder\n",
    "from neuropy.core.session.Formats.Specific.KDibaOldDataSessionFormat import KDibaOldDataSessionFormatRegisteredClass\n",
    "from neuropy.utils.matplotlib_helpers import matplotlib_file_only, matplotlib_configuration, matplotlib_configuration_update\n",
    "from neuropy.core.neuron_identities import NeuronIdentityTable, neuronTypesList, neuronTypesEnum\n",
    "from neuropy.utils.mixins.AttrsClassHelpers import AttrsBasedClassHelperMixin, serialized_field, serialized_attribute_field, non_serialized_field, custom_define\n",
    "from neuropy.utils.mixins.HDF5_representable import HDF_DeserializationMixin, post_deserialize, HDF_SerializationMixin, HDFMixin, HDF_Converter\n",
    "\n",
    "## For computation parameters:\n",
    "from neuropy.analyses.placefields import PlacefieldComputationParameters\n",
    "from neuropy.utils.dynamic_container import DynamicContainer\n",
    "from neuropy.utils.result_context import IdentifyingContext\n",
    "from neuropy.core.session.Formats.BaseDataSessionFormats import find_local_session_paths\n",
    "from neuropy.core.neurons import NeuronType\n",
    "from neuropy.core.user_annotations import UserAnnotationsManager\n",
    "from neuropy.core.position import Position\n",
    "from neuropy.core.session.dataSession import DataSession\n",
    "from neuropy.analyses.time_dependent_placefields import PfND_TimeDependent, PlacefieldSnapshot\n",
    "from neuropy.utils.debug_helpers import debug_print_placefield, debug_print_subsession_neuron_differences, debug_print_ratemap, debug_print_spike_counts, debug_plot_2d_binning, print_aligned_columns, parameter_sweeps, _plot_parameter_sweep, compare_placefields_info\n",
    "from neuropy.utils.indexing_helpers import NumpyHelpers, union_of_arrays, intersection_of_arrays, find_desired_sort_indicies, paired_incremental_sorting\n",
    "from pyphocorehelpers.print_helpers import print_object_memory_usage, print_dataframe_memory_usage, print_value_overview_only, DocumentationFilePrinter, print_keys_if_possible, generate_html_string, document_active_variables\n",
    "\n",
    "## Pho Programming Helpers:\n",
    "import inspect\n",
    "from pyphocorehelpers.print_helpers import DocumentationFilePrinter, TypePrintMode, print_keys_if_possible, debug_dump_object_member_shapes, print_value_overview_only, document_active_variables\n",
    "from pyphocorehelpers.programming_helpers import IPythonHelpers, PythonDictionaryDefinitionFormat, MemoryManagement, inspect_callable_arguments, get_arguments_as_optional_dict, GeneratedClassDefinitionType, CodeConversion\n",
    "from pyphocorehelpers.notebook_helpers import NotebookCellExecutionLogger\n",
    "from pyphocorehelpers.gui.Qt.TopLevelWindowHelper import TopLevelWindowHelper, print_widget_hierarchy\n",
    "from pyphocorehelpers.indexing_helpers import reorder_columns, reorder_columns_relative, dict_to_full_array\n",
    "\n",
    "doc_output_parent_folder: Path = Path('EXTERNAL/DEVELOPER_NOTES/DataStructureDocumentation').resolve() # ../.\n",
    "print(f\"doc_output_parent_folder: {doc_output_parent_folder}\")\n",
    "assert doc_output_parent_folder.exists()\n",
    "\n",
    "_notebook_path:Path = Path(IPythonHelpers.try_find_notebook_filepath(IPython.extract_module_locals())).resolve() # Finds the path of THIS notebook\n",
    "# _notebook_execution_logger: NotebookCellExecutionLogger = NotebookCellExecutionLogger(notebook_path=_notebook_path, enable_logging_to_file=False) # Builds a logger that records info about this notebook\n",
    "\n",
    "# pyPhoPlaceCellAnalysis:\n",
    "from pyphoplacecellanalysis.General.Pipeline.NeuropyPipeline import NeuropyPipeline # get_neuron_identities\n",
    "from pyphoplacecellanalysis.General.Mixins.ExportHelpers import export_pyqtgraph_plot\n",
    "from pyphoplacecellanalysis.General.Batch.NonInteractiveProcessing import batch_load_session, batch_extended_computations, batch_evaluate_required_computations, batch_extended_programmatic_figures\n",
    "from pyphoplacecellanalysis.General.Pipeline.NeuropyPipeline import PipelineSavingScheme\n",
    "\n",
    "import pyphoplacecellanalysis.External.pyqtgraph as pg\n",
    "\n",
    "from pyphocorehelpers.exception_helpers import ExceptionPrintingContext, CapturedException\n",
    "from pyphoplacecellanalysis.General.Batch.NonInteractiveProcessing import batch_perform_all_plots\n",
    "from pyphoplacecellanalysis.General.Pipeline.Stages.ComputationFunctions.MultiContextComputationFunctions.LongShortTrackComputations import JonathanFiringRateAnalysisResult\n",
    "from pyphoplacecellanalysis.General.Mixins.CrossComputationComparisonHelpers import _find_any_context_neurons\n",
    "from pyphoplacecellanalysis.General.Batch.runBatch import BatchSessionCompletionHandler # for `post_compute_validate(...)`\n",
    "from pyphoplacecellanalysis.Analysis.Decoder.reconstruction import BasePositionDecoder\n",
    "from pyphoplacecellanalysis.SpecificResults.AcrossSessionResults import AcrossSessionsResults\n",
    "from pyphoplacecellanalysis.General.Pipeline.Stages.ComputationFunctions.SpikeAnalysis import SpikeRateTrends # for `_perform_long_short_instantaneous_spike_rate_groups_analysis`\n",
    "from pyphoplacecellanalysis.General.Pipeline.Stages.ComputationFunctions.MultiContextComputationFunctions.LongShortTrackComputations import SingleBarResult, InstantaneousSpikeRateGroupsComputation, TruncationCheckingResults # for `BatchSessionCompletionHandler`, `AcrossSessionsAggregator`\n",
    "from pyphoplacecellanalysis.General.Mixins.CrossComputationComparisonHelpers import SplitPartitionMembership\n",
    "from pyphoplacecellanalysis.General.Pipeline.Stages.ComputationFunctions.MultiContextComputationFunctions.DirectionalPlacefieldGlobalComputationFunctions import DirectionalPlacefieldGlobalComputationFunctions, DirectionalLapsResult, TrackTemplates, DecoderDecodedEpochsResult\n",
    "from pyphoplacecellanalysis.General.Pipeline.Stages.ComputationFunctions.MultiContextComputationFunctions.RankOrderComputations import RankOrderGlobalComputationFunctions,  RankOrderComputationsContainer, RankOrderResult, RankOrderAnalyses\n",
    "from pyphoplacecellanalysis.General.Pipeline.Stages.ComputationFunctions.MultiContextComputationFunctions.DirectionalPlacefieldGlobalComputationFunctions import TrackTemplates\n",
    "from pyphoplacecellanalysis.General.Pipeline.Stages.ComputationFunctions.ComputationFunctionRegistryHolder import ComputationFunctionRegistryHolder, computation_precidence_specifying_function, global_function\n",
    "from pyphoplacecellanalysis.General.Pipeline.Stages.ComputationFunctions.MultiContextComputationFunctions.SequenceBasedComputations import WCorrShuffle, SequenceBasedComputationsContainer\n",
    "from neuropy.utils.mixins.binning_helpers import transition_matrix\n",
    "from pyphoplacecellanalysis.Analysis.Decoder.transition_matrix import TransitionMatrixComputations\n",
    "from pyphoplacecellanalysis.General.Pipeline.Stages.ComputationFunctions.MultiContextComputationFunctions.DirectionalPlacefieldGlobalComputationFunctions import TrackTemplates\n",
    "\n",
    "# Plotting\n",
    "# import pylustrator # customization of figures\n",
    "import matplotlib\n",
    "import matplotlib as mpl\n",
    "import matplotlib.pyplot as plt\n",
    "_bak_rcParams = mpl.rcParams.copy()\n",
    "\n",
    "matplotlib.use('Qt5Agg')\n",
    "# %matplotlib inline\n",
    "# %matplotlib auto\n",
    "\n",
    "\n",
    "# _restore_previous_matplotlib_settings_callback = matplotlib_configuration_update(is_interactive=True, backend='Qt5Agg')\n",
    "_restore_previous_matplotlib_settings_callback = matplotlib_configuration_update(is_interactive=True, backend='Qt5Agg')\n",
    "\n",
    "# import pylustrator # call `pylustrator.start()` before creating your first figure in code.\n",
    "from pyphoplacecellanalysis.Pho2D.matplotlib.visualize_heatmap import visualize_heatmap, visualize_heatmap_pyqtgraph # used in `plot_kourosh_activity_style_figure`\n",
    "from pyphoplacecellanalysis.General.Pipeline.Stages.DisplayFunctions.SpikeRasters import plot_multiple_raster_plot, plot_raster_plot\n",
    "from pyphoplacecellanalysis.General.Mixins.DataSeriesColorHelpers import UnitColoringMode, DataSeriesColorHelpers\n",
    "from pyphoplacecellanalysis.General.Pipeline.Stages.DisplayFunctions.SpikeRasters import _build_default_tick, build_scatter_plot_kwargs\n",
    "from pyphoplacecellanalysis.GUI.PyQtPlot.Widgets.Mixins.Render2DScrollWindowPlot import Render2DScrollWindowPlotMixin, ScatterItemData\n",
    "from pyphoplacecellanalysis.General.Batch.NonInteractiveProcessing import batch_extended_programmatic_figures, batch_programmatic_figures\n",
    "from pyphoplacecellanalysis.General.Pipeline.Stages.ComputationFunctions.SpikeAnalysis import SpikeRateTrends\n",
    "from pyphoplacecellanalysis.General.Mixins.SpikesRenderingBaseMixin import SpikeEmphasisState\n",
    "\n",
    "from pyphoplacecellanalysis.SpecificResults.PhoDiba2023Paper import PAPER_FIGURE_figure_1_add_replay_epoch_rasters, PAPER_FIGURE_figure_1_full, PAPER_FIGURE_figure_3, main_complete_figure_generations\n",
    "# from pyphoplacecellanalysis.SpecificResults.fourthYearPresentation import *\n",
    "\n",
    "# Jupyter Widget Interactive\n",
    "import ipywidgets as widgets\n",
    "from IPython.display import display, HTML\n",
    "from pyphocorehelpers.Filesystem.open_in_system_file_manager import reveal_in_system_file_manager\n",
    "from pyphoplacecellanalysis.GUI.IPyWidgets.pipeline_ipywidgets import interactive_pipeline_widget, interactive_pipeline_files\n",
    "from pyphocorehelpers.gui.Jupyter.simple_widgets import fullwidth_path_widget, render_colors\n",
    "\n",
    "from datetime import datetime, date, timedelta\n",
    "from pyphocorehelpers.print_helpers import get_now_day_str, get_now_rounded_time_str\n",
    "\n",
    "DAY_DATE_STR: str = date.today().strftime(\"%Y-%m-%d\")\n",
    "DAY_DATE_TO_USE = f'{DAY_DATE_STR}' # used for filenames throught the notebook\n",
    "print(f'DAY_DATE_STR: {DAY_DATE_STR}, DAY_DATE_TO_USE: {DAY_DATE_TO_USE}')\n",
    "\n",
    "NOW_DATETIME: str = get_now_rounded_time_str()\n",
    "NOW_DATETIME_TO_USE = f'{NOW_DATETIME}' # used for filenames throught the notebook\n",
    "print(f'NOW_DATETIME: {NOW_DATETIME}, NOW_DATETIME_TO_USE: {NOW_DATETIME_TO_USE}')\n",
    "\n",
    "from pyphocorehelpers.gui.Jupyter.simple_widgets import build_global_data_root_parent_path_selection_widget\n",
    "all_paths = [Path('/Volumes/SwapSSD/Data'), Path('/Users/pho/data'), Path(r'/media/halechr/MAX/Data'), Path(r'/home/halechr/FastData'), Path(r'W:\\Data'), Path(r'/home/halechr/cloud/turbo/Data'), Path(r'/Volumes/MoverNew/data'), Path(r'/home/halechr/turbo/Data'), Path(r'/Users/pho/cloud/turbo/Data')] # Path('/Volumes/FedoraSSD/FastData'), \n",
    "global_data_root_parent_path = None\n",
    "def on_user_update_path_selection(new_path: Path):\n",
    "\tglobal global_data_root_parent_path\n",
    "\tnew_global_data_root_parent_path = new_path.resolve()\n",
    "\tglobal_data_root_parent_path = new_global_data_root_parent_path\n",
    "\tprint(f'global_data_root_parent_path changed to {global_data_root_parent_path}')\n",
    "\tassert global_data_root_parent_path.exists(), f\"global_data_root_parent_path: {global_data_root_parent_path} does not exist! Is the right computer's config commented out above?\"\n",
    "\t\t\t\n",
    "global_data_root_parent_path_widget = build_global_data_root_parent_path_selection_widget(all_paths, on_user_update_path_selection)\n",
    "global_data_root_parent_path_widget"
   ]
  },
  {
   "cell_type": "markdown",
   "id": "30db844b",
   "metadata": {},
   "source": [
    "# 0️⃣ Load Pipeline"
   ]
  },
  {
   "cell_type": "code",
   "execution_count": 2,
   "id": "7f07773d",
   "metadata": {
    "notebookRunGroups": {
     "groupValue": "1"
    }
   },
   "outputs": [
    {
     "name": "stdout",
     "output_type": "stream",
     "text": [
      "basedir: W:\\Data\\KDIBA\\gor01\\one\\2006-6-08_14-26-15\n"
     ]
    }
   ],
   "source": [
    "# ==================================================================================================================== #\n",
    "# Load Data                                                                                                            #\n",
    "# ==================================================================================================================== #\n",
    "\n",
    "active_data_mode_name = 'kdiba'\n",
    "local_session_root_parent_context = IdentifyingContext(format_name=active_data_mode_name) # , animal_name='', configuration_name='one', session_name=a_sess.session_name\n",
    "local_session_root_parent_path = global_data_root_parent_path.joinpath('KDIBA')\n",
    "\n",
    "# [*] - indicates bad or session with a problem\n",
    "# 0, 1, 2, 3, 4, 5, 6, 7, [8], [9], 10, 11, [12], 13, 14, [15], [16], 17, \n",
    "# curr_context: IdentifyingContext = good_contexts_list[1] # select the session from all of the good sessions here.\n",
    "curr_context = IdentifyingContext(format_name='kdiba',animal='gor01',exper_name='one',session_name='2006-6-08_14-26-15') # 2024-04-30 - Completely cleaned. 2024-07-15 DONE with custom replays\n",
    "# curr_context = IdentifyingContext(format_name='kdiba',animal='gor01',exper_name='one',session_name='2006-6-09_1-22-43') # Working wcorr_shuffle and trial_by_trial - DONE, might be the BEST SESSION, good example session with lots of place cells, clean replays, and clear bar graphs.\n",
    "# curr_context = IdentifyingContext(format_name='kdiba',animal='gor01',exper_name='one',session_name='2006-6-12_15-55-31') # DONE, Good Pfs but no good replays ---- VERY weird effect of the replays, a sharp drop to strongly negative values more than 3/4 through the experiment.\n",
    "\n",
    "# curr_context = IdentifyingContext(format_name='kdiba',animal='gor01',exper_name='one',session_name='2006-6-13_14-42-6') # BAD, 2023-07-14, unsure why still.\n",
    "# curr_context = IdentifyingContext(format_name='kdiba',animal='gor01',exper_name='two',session_name='2006-6-07_16-40-19') # DONE, GREAT, both good Pfs and replays! Interesting see-saw! #TODO 2024-07-05 23:07: - [ ] This was the one I processed\n",
    "\n",
    "# curr_context = IdentifyingContext(format_name='kdiba',animal='gor01',exper_name='two',session_name='2006-6-08_21-16-25') # DONE, Added replay selections. Very \"jumpy\" between the starts and ends of the track. 2024-07-10 DONE with custom replays\n",
    "# curr_context = IdentifyingContext(format_name='kdiba',animal='gor01',exper_name='two',session_name='2006-6-09_22-24-40') # 2024-05-28 __ DEAD # 2024-01-10 new RANKORDER APOGEE | DONE, Added replay selections. A TON of putative replays in general, most bad, but some good. LOOKIN GOOD! 2024-07-10 DONE with custom replays\n",
    "# curr_context = IdentifyingContext(format_name='kdiba',animal='gor01',exper_name='twolong_LR_pf1Dsession_name='2006-4-12_15-25-59') # BAD, No Epochs\n",
    "# curr_context = IdentifyingContext(format_name='kdiba',animal='vvp01',exper_name='two',session_name='2006-4-16_18-47-52')\n",
    "# curr_context = IdentifyingContext(format_name='kdiba',animal='vvp01',exper_name='two',session_name='2006-4-17_12-52-15')\n",
    "# curr_context = IdentifyingContext(format_name='kdiba',animal='vvp01',exper_name='two',session_name='2006-4-25_13-20-55')\n",
    "# curr_context = IdentifyingContext(format_name='kdiba',animal='vvp01',exper_name='two',session_name='2006-4-28_12-38-13')\n",
    "# curr_context = IdentifyingContext(format_name='kdiba',animal='pin01',exper_name='one',session_name='11-02_17-46-44') # BAD: Confirmed frequent jumping off of the track in this session. DONE, good. Many good pfs, many good replays. Noticed very strange jumping off the track in the 3D behavior/spikes viewer. Is there something wrong with this session?\n",
    "# curr_context = IdentifyingContext(format_name='kdiba',animal='pin01',exper_name='one',session_name='11-02_19-28-0') # DONE, good?, replays selected, few  # BAD: Seems like in 3D view there's also jumping off of the track in this session.\n",
    "# curr_context = IdentifyingContext(format_name='kdiba',animal='pin01',exper_name='one',session_name='11-03_12-3-25') # DONE, very few replays\n",
    "\n",
    "# curr_context = IdentifyingContext(format_name='kdiba',animal='pin01',exper_name='one',session_name='11-09_12-15-3') ### KeyError: 'maze1_odd'\n",
    "# curr_context = IdentifyingContext(format_name='kdiba',animal='pin01',exper_name='one',session_name='11-09_22-4-5') ### \n",
    "\n",
    "# curr_context = IdentifyingContext(format_name='kdiba',animal='pin01',exper_name='one',session_name='fet11-01_12-58-54') # NEWDONE, replays selected, quite a few replays but few are very good.\n",
    "\n",
    "# curr_context = IdentifyingContext(format_name='kdiba',animal='gor01',exper_name='two',session_name='2006-6-08_21-16-25')\n",
    "\n",
    "local_session_parent_path: Path = local_session_root_parent_path.joinpath(curr_context.animal, curr_context.exper_name) # 'gor01', 'one' - probably not needed anymore\n",
    "basedir: Path = local_session_parent_path.joinpath(curr_context.session_name).resolve()\n",
    "print(f'basedir: {str(basedir)}')\n",
    "\n",
    "# Read if possible:\n",
    "saving_mode = PipelineSavingScheme.SKIP_SAVING\n",
    "force_reload = False\n",
    "\n",
    "# \n",
    "# # Force write:\n",
    "# saving_mode = PipelineSavingScheme.TEMP_THEN_OVERWRITE\n",
    "# saving_mode = PipelineSavingScheme.OVERWRITE_IN_PLACE\n",
    "# force_reload = True\n",
    "\n",
    "## TODO: if loading is not possible, we need to change the `saving_mode` so that the new results are properly saved.\n"
   ]
  },
  {
   "cell_type": "code",
   "execution_count": 3,
   "id": "21478b32",
   "metadata": {
    "notebookRunGroups": {
     "groupValue": "1"
    }
   },
   "outputs": [],
   "source": [
    "extended_computations_include_includelist=['lap_direction_determination', 'pf_computation', 'firing_rate_trends', 'pfdt_computation',\n",
    "\t# 'pf_dt_sequential_surprise',\n",
    "\t 'ratemap_peaks_prominence2d',\n",
    "\t'extended_stats',\n",
    "\t'long_short_decoding_analyses',\n",
    "\t'jonathan_firing_rate_analysis',\n",
    "\t'long_short_fr_indicies_analyses',\n",
    "\t'short_long_pf_overlap_analyses',\n",
    "\t'long_short_post_decoding',\n",
    "\t# 'long_short_rate_remapping',\n",
    "\t'long_short_inst_spike_rate_groups',\n",
    "\t'long_short_endcap_analysis',\n",
    "\t# 'spike_burst_detection',\n",
    "\t'split_to_directional_laps',\n",
    "\t'merged_directional_placefields',\n",
    "\t'rank_order_shuffle_analysis',\n",
    "\t# 'directional_train_test_split',\n",
    "\t'directional_decoders_decode_continuous',\n",
    "\t'directional_decoders_evaluate_epochs',\n",
    "\t'directional_decoders_epoch_heuristic_scoring',\n",
    "\t'perform_wcorr_shuffle_analysis',\n",
    "\t'trial_by_trial_metrics',\n",
    "\t'extended_pf_peak_information',\n",
    "] # do only specified\n",
    "force_recompute_override_computations_includelist = None\n",
    "# force_recompute_override_computations_includelist = ['merged_directional_placefields']\n",
    "# force_recompute_override_computations_includelist = ['split_to_directional_laps', 'merged_directional_placefields', 'rank_order_shuffle_analysis'] # , 'directional_decoders_decode_continuous'\n",
    "# force_recompute_override_computations_includelist = ['directional_decoders_decode_continuous'] # \n",
    "# force_recompute_override_computations_includelist = ['trial_by_trial_metrics']\n",
    "# force_recompute_override_computations_includelist = ['split_to_directional_laps', 'merged_directional_placefields', 'rank_order_shuffle_analysis', 'directional_decoders_decode_continuous'] # "
   ]
  },
  {
   "cell_type": "markdown",
   "id": "70141a66",
   "metadata": {},
   "source": [
    "## 2024-06-25 - Load from saved custom"
   ]
  },
  {
   "cell_type": "code",
   "execution_count": null,
   "id": "679473aa",
   "metadata": {
    "notebookRunGroups": {
     "groupValue": "2"
    }
   },
   "outputs": [],
   "source": [
    "# Loads custom pipeline pickles that were saved out via `custom_save_filepaths['pipeline_pkl'] = curr_active_pipeline.save_pipeline(saving_mode=PipelineSavingScheme.TEMP_THEN_OVERWRITE, active_pickle_filename=custom_save_filenames['pipeline_pkl'])`\n",
    "\n",
    "## INPUTS: global_data_root_parent_path, active_data_mode_name, basedir, saving_mode, force_reload, custom_save_filenames\n",
    "# custom_suffix: str = '_withNewKamranExportedReplays'\n",
    "\n",
    "# custom_suffix: str = '_withNewComputedReplays'\n",
    "custom_suffix: str = '_withNewComputedReplays-qclu_[1, 2]-frateThresh_5.0'\n",
    "\n",
    "\n",
    "custom_save_filenames = {\n",
    "\t'pipeline_pkl':f'loadedSessPickle{custom_suffix}.pkl',\n",
    "\t'global_computation_pkl':f\"global_computation_results{custom_suffix}.pkl\",\n",
    "\t'pipeline_h5':f'pipeline{custom_suffix}.h5',\n",
    "}\n",
    "print(f'custom_save_filenames: {custom_save_filenames}')\n",
    "custom_save_filepaths = {k:v for k, v in custom_save_filenames.items()}\n",
    "\n",
    "# ==================================================================================================================== #\n",
    "# PIPELINE LOADING                                                                                                     #\n",
    "# ==================================================================================================================== #\n",
    "# load the custom saved outputs\n",
    "active_pickle_filename = custom_save_filenames['pipeline_pkl'] # 'loadedSessPickle_withParameters.pkl'\n",
    "print(f'active_pickle_filename: \"{active_pickle_filename}\"')\n",
    "# assert active_pickle_filename.exists()\n",
    "active_session_h5_filename = custom_save_filenames['pipeline_h5'] # 'pipeline_withParameters.h5'\n",
    "print(f'active_session_h5_filename: \"{active_session_h5_filename}\"')\n",
    "\n",
    "# ==================================================================================================================== #\n",
    "# Load Pipeline                                                                                                        #\n",
    "# ==================================================================================================================== #\n",
    "## DO NOT allow recompute if the file doesn't exist!!\n",
    "# Computing loaded session pickle file results : \"W:/Data/KDIBA/gor01/two/2006-6-07_16-40-19/loadedSessPickle_withNewComputedReplays.pkl\"... done.\n",
    "# Failure loading W:\\Data\\KDIBA\\gor01\\two\\2006-6-07_16-40-19\\loadedSessPickle_withNewComputedReplays.pkl.\n",
    "proposed_load_pkl_path = basedir.joinpath(active_pickle_filename).resolve()"
   ]
  },
  {
   "cell_type": "code",
   "execution_count": null,
   "id": "511d10fe",
   "metadata": {},
   "outputs": [],
   "source": [
    "## INPUTS: proposed_load_pkl_path\n",
    "assert proposed_load_pkl_path.exists(), f\"for a saved custom the file must exist!\"\n",
    "\n",
    "epoch_name_includelist=None\n",
    "active_computation_functions_name_includelist=['lap_direction_determination', 'pf_computation','firing_rate_trends', 'position_decoding']\n",
    "curr_active_pipeline: NeuropyPipeline = batch_load_session(global_data_root_parent_path, active_data_mode_name, basedir, epoch_name_includelist=epoch_name_includelist,\n",
    "\t\t\t\t\t\t\t\t\t\tcomputation_functions_name_includelist=active_computation_functions_name_includelist,\n",
    "\t\t\t\t\t\t\t\t\t\tsaving_mode=saving_mode, force_reload=force_reload,\n",
    "\t\t\t\t\t\t\t\t\t\tskip_extended_batch_computations=True, debug_print=False, fail_on_exception=True, active_pickle_filename=proposed_load_pkl_path) # , active_pickle_filename = 'loadedSessPickle_withParameters.pkl'\n",
    "\n",
    "## Post Compute Validate 2023-05-16:\n",
    "was_updated = BatchSessionCompletionHandler.post_compute_validate(curr_active_pipeline) ## TODO: need to potentially re-save if was_updated. This will fail because constained versions not ran yet.\n",
    "if was_updated:\n",
    "\tprint(f'was_updated: {was_updated}')\n",
    "\ttry:\n",
    "\t\tif saving_mode == PipelineSavingScheme.SKIP_SAVING:\n",
    "\t\t\tprint(f'WARNING: PipelineSavingScheme.SKIP_SAVING but need to save post_compute_validate changes!!')\n",
    "\t\telse:\n",
    "\t\t\tcurr_active_pipeline.save_pipeline(saving_mode=saving_mode)\n",
    "\texcept BaseException as e:\n",
    "\t\t## TODO: catch/log saving error and indicate that it isn't saved.\n",
    "\t\texception_info = sys.exc_info()\n",
    "\t\te = CapturedException(e, exception_info)\n",
    "\t\tprint(f'ERROR RE-SAVING PIPELINE after update. error: {e}')\n",
    "\n",
    "print(f'Pipeline loaded from custom pickle!!')\n",
    "## OUTPUT: curr_active_pipeline\n"
   ]
  },
  {
   "cell_type": "code",
   "execution_count": null,
   "id": "88868964",
   "metadata": {
    "notebookRunGroups": {
     "groupValue": "2"
    }
   },
   "outputs": [],
   "source": [
    "# ==================================================================================================================== #\n",
    "# Global computations loading:                                                                                            #\n",
    "# ==================================================================================================================== #\n",
    "# Loads saved global computations that were saved out via: `custom_save_filepaths['global_computation_pkl'] = curr_active_pipeline.save_global_computation_results(override_global_pickle_filename=custom_save_filenames['global_computation_pkl'])`\n",
    "## INPUTS: custom_save_filenames\n",
    "## INPUTS: curr_active_pipeline, override_global_computation_results_pickle_path, extended_computations_include_includelist\n",
    "\n",
    "override_global_computation_results_pickle_path = None\n",
    "# override_global_computation_results_pickle_path = custom_save_filenames['global_computation_pkl']\n",
    "print(f'override_global_computation_results_pickle_path: \"{override_global_computation_results_pickle_path}\"')\n",
    "\n",
    "# Pre-load ___________________________________________________________________________________________________________ #\n",
    "force_recompute_global = force_reload\n",
    "needs_computation_output_dict, valid_computed_results_output_list, remaining_include_function_names = batch_evaluate_required_computations(curr_active_pipeline, include_includelist=extended_computations_include_includelist, include_global_functions=True, fail_on_exception=False, progress_print=True,\n",
    "\t\t\t\t\t\t\t\t\t\t\t\t\tforce_recompute=force_recompute_global, force_recompute_override_computations_includelist=force_recompute_override_computations_includelist, debug_print=False)\n",
    "print(f'Pre-load global computations: needs_computation_output_dict: {[k for k,v in needs_computation_output_dict.items() if (v is not None)]}')\n",
    "# valid_computed_results_output_list\n",
    "\n",
    "# Try Unpickling Global Computations to update pipeline ______________________________________________________________ #\n",
    "if not force_reload: # not just force_reload, needs to recompute whenever the computation fails.\n",
    "\ttry:\n",
    "\t\t# INPUTS: override_global_computation_results_pickle_path\n",
    "\t\tsucessfully_updated_keys, successfully_loaded_keys = curr_active_pipeline.load_pickled_global_computation_results(override_global_computation_results_pickle_path=override_global_computation_results_pickle_path,\n",
    "\t\t\t\t\t\t\t\t\t\t\t\t\t\t\t\t\t\t\t\t\t\tallow_overwrite_existing=True, allow_overwrite_existing_allow_keys=extended_computations_include_includelist, ) # is new\n",
    "\t\tprint(f'sucessfully_updated_keys: {sucessfully_updated_keys}\\nsuccessfully_loaded_keys: {successfully_loaded_keys}')\n",
    "\texcept FileNotFoundError as e:\n",
    "\t\texception_info = sys.exc_info()\n",
    "\t\te = CapturedException(e, exception_info)\n",
    "\t\tprint(f'cannot load global results because pickle file does not exist! Maybe it has never been created? {e}')\n",
    "\texcept BaseException as e:\n",
    "\t\texception_info = sys.exc_info()\n",
    "\t\te = CapturedException(e, exception_info)\n",
    "\t\tprint(f'Unhandled exception: cannot load global results: {e}')\n",
    "\t\traise\n",
    "\n",
    "# Post-Load __________________________________________________________________________________________________________ #\n",
    "force_recompute_global = force_reload\n",
    "needs_computation_output_dict, valid_computed_results_output_list, remaining_include_function_names = batch_evaluate_required_computations(curr_active_pipeline, include_includelist=extended_computations_include_includelist, include_global_functions=True, fail_on_exception=False, progress_print=True,\n",
    "\t\t\t\t\t\t\t\t\t\t\t\t\tforce_recompute=force_recompute_global, force_recompute_override_computations_includelist=force_recompute_override_computations_includelist, debug_print=False)\n",
    "print(f'Post-load global computations: needs_computation_output_dict: {[k for k,v in needs_computation_output_dict.items() if (v is not None)]}')\n",
    "\n",
    "# Compute ____________________________________________________________________________________________________________ #\n",
    "curr_active_pipeline.reload_default_computation_functions()\n",
    "force_recompute_global = force_reload\n",
    "# force_recompute_global = True\n",
    "newly_computed_values = batch_extended_computations(curr_active_pipeline, include_includelist=extended_computations_include_includelist, include_global_functions=True, fail_on_exception=True, progress_print=True,\n",
    "\t\t\t\t\t\t\t\t\t\t\t\t\tforce_recompute=force_recompute_global, force_recompute_override_computations_includelist=force_recompute_override_computations_includelist, debug_print=False)\n",
    "if (len(newly_computed_values) > 0):\n",
    "\tprint(f'newly_computed_values: {newly_computed_values}.')\n",
    "\tif (saving_mode.value != 'skip_saving'):\n",
    "\t\tprint(f'Saving global results...')\n",
    "\t\ttry:\n",
    "\t\t\t# curr_active_pipeline.global_computation_results.persist_time = datetime.now()\n",
    "\t\t\t# Try to write out the global computation function results:\n",
    "\t\t\tcurr_active_pipeline.save_global_computation_results()\n",
    "\t\texcept Exception as e:\n",
    "\t\t\texception_info = sys.exc_info()\n",
    "\t\t\te = CapturedException(e, exception_info)\n",
    "\t\t\tprint(f'\\n\\n!!WARNING!!: saving the global results threw the exception: {e}')\n",
    "\t\t\tprint(f'\\tthe global results are currently unsaved! proceed with caution and save as soon as you can!\\n\\n\\n')\n",
    "\telse:\n",
    "\t\tprint(f'\\n\\n!!WARNING!!: changes to global results have been made but they will not be saved since saving_mode.value == \"skip_saving\"')\n",
    "\t\tprint(f'\\tthe global results are currently unsaved! proceed with caution and save as soon as you can!\\n\\n\\n')\n",
    "else:\n",
    "\tprint(f'no changes in global results.')\n",
    "\n",
    "# Post-compute _______________________________________________________________________________________________________ #\n",
    "# Post-hoc verification that the computations worked and that the validators reflect that. The list should be empty now.\n",
    "needs_computation_output_dict, valid_computed_results_output_list, remaining_include_function_names = batch_evaluate_required_computations(curr_active_pipeline, include_includelist=extended_computations_include_includelist, include_global_functions=True, fail_on_exception=False, progress_print=True,\n",
    "\t\t\t\t\t\t\t\t\t\t\t\t\tforce_recompute=False, force_recompute_override_computations_includelist=[], debug_print=True)\n",
    "print(f'Post-compute validation: needs_computation_output_dict: {[k for k,v in needs_computation_output_dict.items() if (v is not None)]}')\n"
   ]
  },
  {
   "cell_type": "markdown",
   "id": "fc98170b",
   "metadata": {},
   "source": [
    "## 0️⃣ Normal Pipeline Load"
   ]
  },
  {
   "cell_type": "code",
   "execution_count": 4,
   "id": "8167df1c",
   "metadata": {
    "notebookRunGroups": {
     "groupValue": "1"
    }
   },
   "outputs": [
    {
     "name": "stdout",
     "output_type": "stream",
     "text": [
      "Computing loaded session pickle file results : \"W:/Data/KDIBA/gor01/one/2006-6-08_14-26-15/loadedSessPickle.pkl\"... "
     ]
    },
    {
     "name": "stderr",
     "output_type": "stream",
     "text": [
      "INFO:2024-08-28_08-08-15.Apogee.kdiba.gor01.one.2006-6-08_14-26-15:==========================================================================================\n",
      "========== Logger INIT \"2024-08-28_08-08-15.Apogee.kdiba.gor01.one.2006-6-08_14-26-15\" ==============================\n",
      "INFO:2024-08-28_08-08-15.Apogee.kdiba.gor01.one.2006-6-08_14-26-15:NeuropyPipeline.__setstate__(state=\"{'pipeline_name': 'kdiba_pipeline', 'session_data_type': 'kdiba', '_stage': <pyphoplacecellanalysis.General.Pipeline.Stages.Display.DisplayPipelineStage object at 0x00000235000EC640>}\")\n"
     ]
    },
    {
     "name": "stdout",
     "output_type": "stream",
     "text": [
      "build_logger(full_logger_string=\"2024-08-28_08-08-15.Apogee.kdiba.gor01.one.2006-6-08_14-26-15\", file_logging_dir: None):\n",
      "done.\n",
      "Loading pickled pipeline success: W:\\Data\\KDIBA\\gor01\\one\\2006-6-08_14-26-15\\loadedSessPickle.pkl.\n"
     ]
    },
    {
     "name": "stderr",
     "output_type": "stream",
     "text": [
      "INFO:2024-08-28_08-08-15.Apogee.kdiba.gor01.one.2006-6-08_14-26-15:select_filters(...) with: []\n",
      "INFO:2024-08-28_08-08-15.Apogee.kdiba.gor01.one.2006-6-08_14-26-15:Performing perform_action_for_all_contexts with action EvaluationActions.EVALUATE_COMPUTATIONS on filtered_session with filter named \"maze1_odd\"...\n",
      "INFO:2024-08-28_08-08-15.Apogee.kdiba.gor01.one.2006-6-08_14-26-15:WARNING: skipping computation because overwrite_extant_results=False and `active_computation_results[maze1_odd]` already exists and is non-None\n",
      "INFO:2024-08-28_08-08-15.Apogee.kdiba.gor01.one.2006-6-08_14-26-15:\t TODO: this will prevent recomputation even when the excludelist/includelist or computation function definitions change. Rework so that this is smarter.\n",
      "INFO:2024-08-28_08-08-15.Apogee.kdiba.gor01.one.2006-6-08_14-26-15:Performing perform_action_for_all_contexts with action EvaluationActions.EVALUATE_COMPUTATIONS on filtered_session with filter named \"maze2_odd\"...\n",
      "INFO:2024-08-28_08-08-15.Apogee.kdiba.gor01.one.2006-6-08_14-26-15:WARNING: skipping computation because overwrite_extant_results=False and `active_computation_results[maze2_odd]` already exists and is non-None\n",
      "INFO:2024-08-28_08-08-15.Apogee.kdiba.gor01.one.2006-6-08_14-26-15:\t TODO: this will prevent recomputation even when the excludelist/includelist or computation function definitions change. Rework so that this is smarter.\n",
      "INFO:2024-08-28_08-08-15.Apogee.kdiba.gor01.one.2006-6-08_14-26-15:Performing perform_action_for_all_contexts with action EvaluationActions.EVALUATE_COMPUTATIONS on filtered_session with filter named \"maze_odd\"...\n",
      "INFO:2024-08-28_08-08-15.Apogee.kdiba.gor01.one.2006-6-08_14-26-15:WARNING: skipping computation because overwrite_extant_results=False and `active_computation_results[maze_odd]` already exists and is non-None\n",
      "INFO:2024-08-28_08-08-15.Apogee.kdiba.gor01.one.2006-6-08_14-26-15:\t TODO: this will prevent recomputation even when the excludelist/includelist or computation function definitions change. Rework so that this is smarter.\n",
      "INFO:2024-08-28_08-08-15.Apogee.kdiba.gor01.one.2006-6-08_14-26-15:Performing perform_action_for_all_contexts with action EvaluationActions.EVALUATE_COMPUTATIONS on filtered_session with filter named \"maze1_even\"...\n",
      "INFO:2024-08-28_08-08-15.Apogee.kdiba.gor01.one.2006-6-08_14-26-15:WARNING: skipping computation because overwrite_extant_results=False and `active_computation_results[maze1_even]` already exists and is non-None\n",
      "INFO:2024-08-28_08-08-15.Apogee.kdiba.gor01.one.2006-6-08_14-26-15:\t TODO: this will prevent recomputation even when the excludelist/includelist or computation function definitions change. Rework so that this is smarter.\n",
      "INFO:2024-08-28_08-08-15.Apogee.kdiba.gor01.one.2006-6-08_14-26-15:Performing perform_action_for_all_contexts with action EvaluationActions.EVALUATE_COMPUTATIONS on filtered_session with filter named \"maze2_even\"...\n",
      "INFO:2024-08-28_08-08-15.Apogee.kdiba.gor01.one.2006-6-08_14-26-15:WARNING: skipping computation because overwrite_extant_results=False and `active_computation_results[maze2_even]` already exists and is non-None\n",
      "INFO:2024-08-28_08-08-15.Apogee.kdiba.gor01.one.2006-6-08_14-26-15:\t TODO: this will prevent recomputation even when the excludelist/includelist or computation function definitions change. Rework so that this is smarter.\n",
      "INFO:2024-08-28_08-08-15.Apogee.kdiba.gor01.one.2006-6-08_14-26-15:Performing perform_action_for_all_contexts with action EvaluationActions.EVALUATE_COMPUTATIONS on filtered_session with filter named \"maze_even\"...\n",
      "INFO:2024-08-28_08-08-15.Apogee.kdiba.gor01.one.2006-6-08_14-26-15:WARNING: skipping computation because overwrite_extant_results=False and `active_computation_results[maze_even]` already exists and is non-None\n",
      "INFO:2024-08-28_08-08-15.Apogee.kdiba.gor01.one.2006-6-08_14-26-15:\t TODO: this will prevent recomputation even when the excludelist/includelist or computation function definitions change. Rework so that this is smarter.\n",
      "INFO:2024-08-28_08-08-15.Apogee.kdiba.gor01.one.2006-6-08_14-26-15:Performing perform_action_for_all_contexts with action EvaluationActions.EVALUATE_COMPUTATIONS on filtered_session with filter named \"maze1_any\"...\n",
      "INFO:2024-08-28_08-08-15.Apogee.kdiba.gor01.one.2006-6-08_14-26-15:WARNING: skipping computation because overwrite_extant_results=False and `active_computation_results[maze1_any]` already exists and is non-None\n",
      "INFO:2024-08-28_08-08-15.Apogee.kdiba.gor01.one.2006-6-08_14-26-15:\t TODO: this will prevent recomputation even when the excludelist/includelist or computation function definitions change. Rework so that this is smarter.\n",
      "INFO:2024-08-28_08-08-15.Apogee.kdiba.gor01.one.2006-6-08_14-26-15:Performing perform_action_for_all_contexts with action EvaluationActions.EVALUATE_COMPUTATIONS on filtered_session with filter named \"maze2_any\"...\n",
      "INFO:2024-08-28_08-08-15.Apogee.kdiba.gor01.one.2006-6-08_14-26-15:WARNING: skipping computation because overwrite_extant_results=False and `active_computation_results[maze2_any]` already exists and is non-None\n",
      "INFO:2024-08-28_08-08-15.Apogee.kdiba.gor01.one.2006-6-08_14-26-15:\t TODO: this will prevent recomputation even when the excludelist/includelist or computation function definitions change. Rework so that this is smarter.\n",
      "INFO:2024-08-28_08-08-15.Apogee.kdiba.gor01.one.2006-6-08_14-26-15:Performing perform_action_for_all_contexts with action EvaluationActions.EVALUATE_COMPUTATIONS on filtered_session with filter named \"maze_any\"...\n",
      "INFO:2024-08-28_08-08-15.Apogee.kdiba.gor01.one.2006-6-08_14-26-15:WARNING: skipping computation because overwrite_extant_results=False and `active_computation_results[maze_any]` already exists and is non-None\n",
      "INFO:2024-08-28_08-08-15.Apogee.kdiba.gor01.one.2006-6-08_14-26-15:\t TODO: this will prevent recomputation even when the excludelist/includelist or computation function definitions change. Rework so that this is smarter.\n",
      "INFO:2024-08-28_08-08-15.Apogee.kdiba.gor01.one.2006-6-08_14-26-15:Performing global computations...\n",
      "INFO:2024-08-28_08-08-15.Apogee.kdiba.gor01.one.2006-6-08_14-26-15:select_filters(...) with: []\n",
      "INFO:2024-08-28_08-08-15.Apogee.kdiba.gor01.one.2006-6-08_14-26-15:Performing perform_action_for_all_contexts with action EvaluationActions.EVALUATE_COMPUTATIONS on filtered_session with filter named \"maze1_odd\"...\n",
      "INFO:2024-08-28_08-08-15.Apogee.kdiba.gor01.one.2006-6-08_14-26-15:WARNING: skipping computation because overwrite_extant_results=False and `active_computation_results[maze1_odd]` already exists and is non-None\n",
      "INFO:2024-08-28_08-08-15.Apogee.kdiba.gor01.one.2006-6-08_14-26-15:\t TODO: this will prevent recomputation even when the excludelist/includelist or computation function definitions change. Rework so that this is smarter.\n",
      "INFO:2024-08-28_08-08-15.Apogee.kdiba.gor01.one.2006-6-08_14-26-15:Performing perform_action_for_all_contexts with action EvaluationActions.EVALUATE_COMPUTATIONS on filtered_session with filter named \"maze2_odd\"...\n",
      "INFO:2024-08-28_08-08-15.Apogee.kdiba.gor01.one.2006-6-08_14-26-15:WARNING: skipping computation because overwrite_extant_results=False and `active_computation_results[maze2_odd]` already exists and is non-None\n",
      "INFO:2024-08-28_08-08-15.Apogee.kdiba.gor01.one.2006-6-08_14-26-15:\t TODO: this will prevent recomputation even when the excludelist/includelist or computation function definitions change. Rework so that this is smarter.\n",
      "INFO:2024-08-28_08-08-15.Apogee.kdiba.gor01.one.2006-6-08_14-26-15:Performing perform_action_for_all_contexts with action EvaluationActions.EVALUATE_COMPUTATIONS on filtered_session with filter named \"maze_odd\"...\n",
      "INFO:2024-08-28_08-08-15.Apogee.kdiba.gor01.one.2006-6-08_14-26-15:WARNING: skipping computation because overwrite_extant_results=False and `active_computation_results[maze_odd]` already exists and is non-None\n",
      "INFO:2024-08-28_08-08-15.Apogee.kdiba.gor01.one.2006-6-08_14-26-15:\t TODO: this will prevent recomputation even when the excludelist/includelist or computation function definitions change. Rework so that this is smarter.\n",
      "INFO:2024-08-28_08-08-15.Apogee.kdiba.gor01.one.2006-6-08_14-26-15:Performing perform_action_for_all_contexts with action EvaluationActions.EVALUATE_COMPUTATIONS on filtered_session with filter named \"maze1_even\"...\n",
      "INFO:2024-08-28_08-08-15.Apogee.kdiba.gor01.one.2006-6-08_14-26-15:WARNING: skipping computation because overwrite_extant_results=False and `active_computation_results[maze1_even]` already exists and is non-None\n",
      "INFO:2024-08-28_08-08-15.Apogee.kdiba.gor01.one.2006-6-08_14-26-15:\t TODO: this will prevent recomputation even when the excludelist/includelist or computation function definitions change. Rework so that this is smarter.\n",
      "INFO:2024-08-28_08-08-15.Apogee.kdiba.gor01.one.2006-6-08_14-26-15:Performing perform_action_for_all_contexts with action EvaluationActions.EVALUATE_COMPUTATIONS on filtered_session with filter named \"maze2_even\"...\n",
      "INFO:2024-08-28_08-08-15.Apogee.kdiba.gor01.one.2006-6-08_14-26-15:WARNING: skipping computation because overwrite_extant_results=False and `active_computation_results[maze2_even]` already exists and is non-None\n",
      "INFO:2024-08-28_08-08-15.Apogee.kdiba.gor01.one.2006-6-08_14-26-15:\t TODO: this will prevent recomputation even when the excludelist/includelist or computation function definitions change. Rework so that this is smarter.\n",
      "INFO:2024-08-28_08-08-15.Apogee.kdiba.gor01.one.2006-6-08_14-26-15:Performing perform_action_for_all_contexts with action EvaluationActions.EVALUATE_COMPUTATIONS on filtered_session with filter named \"maze_even\"...\n",
      "INFO:2024-08-28_08-08-15.Apogee.kdiba.gor01.one.2006-6-08_14-26-15:WARNING: skipping computation because overwrite_extant_results=False and `active_computation_results[maze_even]` already exists and is non-None\n",
      "INFO:2024-08-28_08-08-15.Apogee.kdiba.gor01.one.2006-6-08_14-26-15:\t TODO: this will prevent recomputation even when the excludelist/includelist or computation function definitions change. Rework so that this is smarter.\n",
      "INFO:2024-08-28_08-08-15.Apogee.kdiba.gor01.one.2006-6-08_14-26-15:Performing perform_action_for_all_contexts with action EvaluationActions.EVALUATE_COMPUTATIONS on filtered_session with filter named \"maze1_any\"...\n",
      "INFO:2024-08-28_08-08-15.Apogee.kdiba.gor01.one.2006-6-08_14-26-15:WARNING: skipping computation because overwrite_extant_results=False and `active_computation_results[maze1_any]` already exists and is non-None\n",
      "INFO:2024-08-28_08-08-15.Apogee.kdiba.gor01.one.2006-6-08_14-26-15:\t TODO: this will prevent recomputation even when the excludelist/includelist or computation function definitions change. Rework so that this is smarter.\n",
      "INFO:2024-08-28_08-08-15.Apogee.kdiba.gor01.one.2006-6-08_14-26-15:Performing perform_action_for_all_contexts with action EvaluationActions.EVALUATE_COMPUTATIONS on filtered_session with filter named \"maze2_any\"...\n",
      "INFO:2024-08-28_08-08-15.Apogee.kdiba.gor01.one.2006-6-08_14-26-15:WARNING: skipping computation because overwrite_extant_results=False and `active_computation_results[maze2_any]` already exists and is non-None\n",
      "INFO:2024-08-28_08-08-15.Apogee.kdiba.gor01.one.2006-6-08_14-26-15:\t TODO: this will prevent recomputation even when the excludelist/includelist or computation function definitions change. Rework so that this is smarter.\n",
      "INFO:2024-08-28_08-08-15.Apogee.kdiba.gor01.one.2006-6-08_14-26-15:Performing perform_action_for_all_contexts with action EvaluationActions.EVALUATE_COMPUTATIONS on filtered_session with filter named \"maze_any\"...\n",
      "INFO:2024-08-28_08-08-15.Apogee.kdiba.gor01.one.2006-6-08_14-26-15:WARNING: skipping computation because overwrite_extant_results=False and `active_computation_results[maze_any]` already exists and is non-None\n",
      "INFO:2024-08-28_08-08-15.Apogee.kdiba.gor01.one.2006-6-08_14-26-15:\t TODO: this will prevent recomputation even when the excludelist/includelist or computation function definitions change. Rework so that this is smarter.\n",
      "INFO:2024-08-28_08-08-15.Apogee.kdiba.gor01.one.2006-6-08_14-26-15:Performing global computations...\n",
      "INFO:2024-08-28_08-08-15.Apogee.kdiba.gor01.one.2006-6-08_14-26-15:select_filters(...) with: []\n",
      "INFO:2024-08-28_08-08-15.Apogee.kdiba.gor01.one.2006-6-08_14-26-15:Performing perform_action_for_all_contexts with action EvaluationActions.EVALUATE_COMPUTATIONS on filtered_session with filter named \"maze1_odd\"...\n",
      "INFO:2024-08-28_08-08-15.Apogee.kdiba.gor01.one.2006-6-08_14-26-15:WARNING: skipping computation because overwrite_extant_results=False and `active_computation_results[maze1_odd]` already exists and is non-None\n",
      "INFO:2024-08-28_08-08-15.Apogee.kdiba.gor01.one.2006-6-08_14-26-15:\t TODO: this will prevent recomputation even when the excludelist/includelist or computation function definitions change. Rework so that this is smarter.\n",
      "INFO:2024-08-28_08-08-15.Apogee.kdiba.gor01.one.2006-6-08_14-26-15:Performing perform_action_for_all_contexts with action EvaluationActions.EVALUATE_COMPUTATIONS on filtered_session with filter named \"maze2_odd\"...\n",
      "INFO:2024-08-28_08-08-15.Apogee.kdiba.gor01.one.2006-6-08_14-26-15:WARNING: skipping computation because overwrite_extant_results=False and `active_computation_results[maze2_odd]` already exists and is non-None\n",
      "INFO:2024-08-28_08-08-15.Apogee.kdiba.gor01.one.2006-6-08_14-26-15:\t TODO: this will prevent recomputation even when the excludelist/includelist or computation function definitions change. Rework so that this is smarter.\n",
      "INFO:2024-08-28_08-08-15.Apogee.kdiba.gor01.one.2006-6-08_14-26-15:Performing perform_action_for_all_contexts with action EvaluationActions.EVALUATE_COMPUTATIONS on filtered_session with filter named \"maze_odd\"...\n",
      "INFO:2024-08-28_08-08-15.Apogee.kdiba.gor01.one.2006-6-08_14-26-15:WARNING: skipping computation because overwrite_extant_results=False and `active_computation_results[maze_odd]` already exists and is non-None\n",
      "INFO:2024-08-28_08-08-15.Apogee.kdiba.gor01.one.2006-6-08_14-26-15:\t TODO: this will prevent recomputation even when the excludelist/includelist or computation function definitions change. Rework so that this is smarter.\n",
      "INFO:2024-08-28_08-08-15.Apogee.kdiba.gor01.one.2006-6-08_14-26-15:Performing perform_action_for_all_contexts with action EvaluationActions.EVALUATE_COMPUTATIONS on filtered_session with filter named \"maze1_even\"...\n",
      "INFO:2024-08-28_08-08-15.Apogee.kdiba.gor01.one.2006-6-08_14-26-15:WARNING: skipping computation because overwrite_extant_results=False and `active_computation_results[maze1_even]` already exists and is non-None\n",
      "INFO:2024-08-28_08-08-15.Apogee.kdiba.gor01.one.2006-6-08_14-26-15:\t TODO: this will prevent recomputation even when the excludelist/includelist or computation function definitions change. Rework so that this is smarter.\n",
      "INFO:2024-08-28_08-08-15.Apogee.kdiba.gor01.one.2006-6-08_14-26-15:Performing perform_action_for_all_contexts with action EvaluationActions.EVALUATE_COMPUTATIONS on filtered_session with filter named \"maze2_even\"...\n",
      "INFO:2024-08-28_08-08-15.Apogee.kdiba.gor01.one.2006-6-08_14-26-15:WARNING: skipping computation because overwrite_extant_results=False and `active_computation_results[maze2_even]` already exists and is non-None\n",
      "INFO:2024-08-28_08-08-15.Apogee.kdiba.gor01.one.2006-6-08_14-26-15:\t TODO: this will prevent recomputation even when the excludelist/includelist or computation function definitions change. Rework so that this is smarter.\n",
      "INFO:2024-08-28_08-08-15.Apogee.kdiba.gor01.one.2006-6-08_14-26-15:Performing perform_action_for_all_contexts with action EvaluationActions.EVALUATE_COMPUTATIONS on filtered_session with filter named \"maze_even\"...\n",
      "INFO:2024-08-28_08-08-15.Apogee.kdiba.gor01.one.2006-6-08_14-26-15:WARNING: skipping computation because overwrite_extant_results=False and `active_computation_results[maze_even]` already exists and is non-None\n",
      "INFO:2024-08-28_08-08-15.Apogee.kdiba.gor01.one.2006-6-08_14-26-15:\t TODO: this will prevent recomputation even when the excludelist/includelist or computation function definitions change. Rework so that this is smarter.\n",
      "INFO:2024-08-28_08-08-15.Apogee.kdiba.gor01.one.2006-6-08_14-26-15:Performing perform_action_for_all_contexts with action EvaluationActions.EVALUATE_COMPUTATIONS on filtered_session with filter named \"maze1_any\"...\n",
      "INFO:2024-08-28_08-08-15.Apogee.kdiba.gor01.one.2006-6-08_14-26-15:WARNING: skipping computation because overwrite_extant_results=False and `active_computation_results[maze1_any]` already exists and is non-None\n",
      "INFO:2024-08-28_08-08-15.Apogee.kdiba.gor01.one.2006-6-08_14-26-15:\t TODO: this will prevent recomputation even when the excludelist/includelist or computation function definitions change. Rework so that this is smarter.\n",
      "INFO:2024-08-28_08-08-15.Apogee.kdiba.gor01.one.2006-6-08_14-26-15:Performing perform_action_for_all_contexts with action EvaluationActions.EVALUATE_COMPUTATIONS on filtered_session with filter named \"maze2_any\"...\n",
      "INFO:2024-08-28_08-08-15.Apogee.kdiba.gor01.one.2006-6-08_14-26-15:WARNING: skipping computation because overwrite_extant_results=False and `active_computation_results[maze2_any]` already exists and is non-None\n",
      "INFO:2024-08-28_08-08-15.Apogee.kdiba.gor01.one.2006-6-08_14-26-15:\t TODO: this will prevent recomputation even when the excludelist/includelist or computation function definitions change. Rework so that this is smarter.\n",
      "INFO:2024-08-28_08-08-15.Apogee.kdiba.gor01.one.2006-6-08_14-26-15:Performing perform_action_for_all_contexts with action EvaluationActions.EVALUATE_COMPUTATIONS on filtered_session with filter named \"maze_any\"...\n",
      "INFO:2024-08-28_08-08-15.Apogee.kdiba.gor01.one.2006-6-08_14-26-15:WARNING: skipping computation because overwrite_extant_results=False and `active_computation_results[maze_any]` already exists and is non-None\n",
      "INFO:2024-08-28_08-08-15.Apogee.kdiba.gor01.one.2006-6-08_14-26-15:\t TODO: this will prevent recomputation even when the excludelist/includelist or computation function definitions change. Rework so that this is smarter.\n",
      "INFO:2024-08-28_08-08-15.Apogee.kdiba.gor01.one.2006-6-08_14-26-15:Performing global computations...\n",
      "INFO:2024-08-28_08-08-15.Apogee.kdiba.gor01.one.2006-6-08_14-26-15:NeuropyPipeline.on_stage_changed(new_stage=\"PipelineStage.Displayed\")\n"
     ]
    },
    {
     "name": "stdout",
     "output_type": "stream",
     "text": [
      "properties already present in pickled version. No need to save.\n",
      "pipeline load success!\n",
      "using provided computation_functions_name_includelist: ['lap_direction_determination', 'pf_computation', 'firing_rate_trends', 'position_decoding']\n",
      "WARNING: skipping computation because overwrite_extant_results=False and `active_computation_results[maze1_odd]` already exists and is non-None\n",
      "\t TODO: this will prevent recomputation even when the excludelist/includelist or computation function definitions change. Rework so that this is smarter.\n",
      "WARNING: skipping computation because overwrite_extant_results=False and `active_computation_results[maze2_odd]` already exists and is non-None\n",
      "\t TODO: this will prevent recomputation even when the excludelist/includelist or computation function definitions change. Rework so that this is smarter.\n",
      "WARNING: skipping computation because overwrite_extant_results=False and `active_computation_results[maze_odd]` already exists and is non-None\n",
      "\t TODO: this will prevent recomputation even when the excludelist/includelist or computation function definitions change. Rework so that this is smarter.\n",
      "WARNING: skipping computation because overwrite_extant_results=False and `active_computation_results[maze1_even]` already exists and is non-None\n",
      "\t TODO: this will prevent recomputation even when the excludelist/includelist or computation function definitions change. Rework so that this is smarter.\n",
      "WARNING: skipping computation because overwrite_extant_results=False and `active_computation_results[maze2_even]` already exists and is non-None\n",
      "\t TODO: this will prevent recomputation even when the excludelist/includelist or computation function definitions change. Rework so that this is smarter.\n",
      "WARNING: skipping computation because overwrite_extant_results=False and `active_computation_results[maze_even]` already exists and is non-None\n",
      "\t TODO: this will prevent recomputation even when the excludelist/includelist or computation function definitions change. Rework so that this is smarter.\n",
      "WARNING: skipping computation because overwrite_extant_results=False and `active_computation_results[maze1_any]` already exists and is non-None\n",
      "\t TODO: this will prevent recomputation even when the excludelist/includelist or computation function definitions change. Rework so that this is smarter.\n",
      "WARNING: skipping computation because overwrite_extant_results=False and `active_computation_results[maze2_any]` already exists and is non-None\n",
      "\t TODO: this will prevent recomputation even when the excludelist/includelist or computation function definitions change. Rework so that this is smarter.\n",
      "WARNING: skipping computation because overwrite_extant_results=False and `active_computation_results[maze_any]` already exists and is non-None\n",
      "\t TODO: this will prevent recomputation even when the excludelist/includelist or computation function definitions change. Rework so that this is smarter.\n",
      "WARNING: skipping computation because overwrite_extant_results=False and `active_computation_results[maze1_odd]` already exists and is non-None\n",
      "\t TODO: this will prevent recomputation even when the excludelist/includelist or computation function definitions change. Rework so that this is smarter.\n",
      "WARNING: skipping computation because overwrite_extant_results=False and `active_computation_results[maze2_odd]` already exists and is non-None\n",
      "\t TODO: this will prevent recomputation even when the excludelist/includelist or computation function definitions change. Rework so that this is smarter.\n",
      "WARNING: skipping computation because overwrite_extant_results=False and `active_computation_results[maze_odd]` already exists and is non-None\n",
      "\t TODO: this will prevent recomputation even when the excludelist/includelist or computation function definitions change. Rework so that this is smarter.\n",
      "WARNING: skipping computation because overwrite_extant_results=False and `active_computation_results[maze1_even]` already exists and is non-None\n",
      "\t TODO: this will prevent recomputation even when the excludelist/includelist or computation function definitions change. Rework so that this is smarter.\n",
      "WARNING: skipping computation because overwrite_extant_results=False and `active_computation_results[maze2_even]` already exists and is non-None\n",
      "\t TODO: this will prevent recomputation even when the excludelist/includelist or computation function definitions change. Rework so that this is smarter.\n",
      "WARNING: skipping computation because overwrite_extant_results=False and `active_computation_results[maze_even]` already exists and is non-None\n",
      "\t TODO: this will prevent recomputation even when the excludelist/includelist or computation function definitions change. Rework so that this is smarter.\n",
      "WARNING: skipping computation because overwrite_extant_results=False and `active_computation_results[maze1_any]` already exists and is non-None\n",
      "\t TODO: this will prevent recomputation even when the excludelist/includelist or computation function definitions change. Rework so that this is smarter.\n",
      "WARNING: skipping computation because overwrite_extant_results=False and `active_computation_results[maze2_any]` already exists and is non-None\n",
      "\t TODO: this will prevent recomputation even when the excludelist/includelist or computation function definitions change. Rework so that this is smarter.\n",
      "WARNING: skipping computation because overwrite_extant_results=False and `active_computation_results[maze_any]` already exists and is non-None\n",
      "\t TODO: this will prevent recomputation even when the excludelist/includelist or computation function definitions change. Rework so that this is smarter.\n",
      "WARNING: skipping computation because overwrite_extant_results=False and `active_computation_results[maze1_odd]` already exists and is non-None\n",
      "\t TODO: this will prevent recomputation even when the excludelist/includelist or computation function definitions change. Rework so that this is smarter.\n",
      "WARNING: skipping computation because overwrite_extant_results=False and `active_computation_results[maze2_odd]` already exists and is non-None\n",
      "\t TODO: this will prevent recomputation even when the excludelist/includelist or computation function definitions change. Rework so that this is smarter.\n",
      "WARNING: skipping computation because overwrite_extant_results=False and `active_computation_results[maze_odd]` already exists and is non-None\n",
      "\t TODO: this will prevent recomputation even when the excludelist/includelist or computation function definitions change. Rework so that this is smarter.\n",
      "WARNING: skipping computation because overwrite_extant_results=False and `active_computation_results[maze1_even]` already exists and is non-None\n",
      "\t TODO: this will prevent recomputation even when the excludelist/includelist or computation function definitions change. Rework so that this is smarter.\n",
      "WARNING: skipping computation because overwrite_extant_results=False and `active_computation_results[maze2_even]` already exists and is non-None\n",
      "\t TODO: this will prevent recomputation even when the excludelist/includelist or computation function definitions change. Rework so that this is smarter.\n",
      "WARNING: skipping computation because overwrite_extant_results=False and `active_computation_results[maze_even]` already exists and is non-None\n",
      "\t TODO: this will prevent recomputation even when the excludelist/includelist or computation function definitions change. Rework so that this is smarter.\n",
      "WARNING: skipping computation because overwrite_extant_results=False and `active_computation_results[maze1_any]` already exists and is non-None\n",
      "\t TODO: this will prevent recomputation even when the excludelist/includelist or computation function definitions change. Rework so that this is smarter.\n",
      "WARNING: skipping computation because overwrite_extant_results=False and `active_computation_results[maze2_any]` already exists and is non-None\n",
      "\t TODO: this will prevent recomputation even when the excludelist/includelist or computation function definitions change. Rework so that this is smarter.\n",
      "WARNING: skipping computation because overwrite_extant_results=False and `active_computation_results[maze_any]` already exists and is non-None\n",
      "\t TODO: this will prevent recomputation even when the excludelist/includelist or computation function definitions change. Rework so that this is smarter.\n"
     ]
    },
    {
     "name": "stderr",
     "output_type": "stream",
     "text": [
      "WARNING:2024-08-28_08-08-15.Apogee.kdiba.gor01.one.2006-6-08_14-26-15:WARNING: saving_mode is SKIP_SAVING so pipeline will not be saved despite calling .save_pipeline(...).\n"
     ]
    },
    {
     "name": "stdout",
     "output_type": "stream",
     "text": [
      "WARNING: saving_mode is SKIP_SAVING so pipeline will not be saved despite calling .save_pipeline(...).\n",
      "saving_mode.shouldSave == False, so not saving at the end of batch_load_session\n",
      "DEPRICATION WARNING: workaround to allow subscripting ComputationResult objects. Will be depricated. key: computed_data\n",
      "DEPRICATION WARNING: workaround to allow subscripting ComputationResult objects. Will be depricated. key: computed_data\n",
      "DEPRICATION WARNING: workaround to allow subscripting ComputationResult objects. Will be depricated. key: computed_data\n",
      "DEPRICATION WARNING: workaround to allow subscripting ComputationResult objects. Will be depricated. key: computed_data\n",
      "DEPRICATION WARNING: workaround to allow subscripting ComputationResult objects. Will be depricated. key: computed_data\n",
      "DEPRICATION WARNING: workaround to allow subscripting ComputationResult objects. Will be depricated. key: computed_data\n",
      "were pipeline preprocessing parameters missing and updated?: False\n",
      "included includelist is specified: ['lap_direction_determination', 'pf_computation', 'firing_rate_trends', 'pfdt_computation', 'ratemap_peaks_prominence2d', 'extended_stats', 'long_short_decoding_analyses', 'jonathan_firing_rate_analysis', 'long_short_fr_indicies_analyses', 'short_long_pf_overlap_analyses', 'long_short_post_decoding', 'long_short_inst_spike_rate_groups', 'long_short_endcap_analysis', 'split_to_directional_laps', 'merged_directional_placefields', 'rank_order_shuffle_analysis', 'directional_decoders_decode_continuous', 'directional_decoders_evaluate_epochs', 'directional_decoders_epoch_heuristic_scoring', 'perform_wcorr_shuffle_analysis', 'trial_by_trial_metrics', 'extended_pf_peak_information'], so only performing these extended computations.\n",
      "Running batch_evaluate_required_computations(...) with global_epoch_name: \"maze_any\"\n",
      "WARNING: FIXME TODO 2024-05-08 08:20: - [ ] Disabled checking for 'combined_best_direction_indicies', which is missing from both the laps and ripple dataframes after fresh computation for some reason.\n",
      "done with all batch_evaluate_required_computations(...).\n",
      "Pre-load global computations: needs_computation_output_dict: []\n",
      "Computing loaded session pickle file results : \"W:/Data/KDIBA/gor01/one/2006-6-08_14-26-15/output/global_computation_results.pkl\"... done.\n",
      "sucessfully_updated_keys: ['DirectionalLaps', 'DirectionalMergedDecoders', 'RankOrder', 'DirectionalDecodersDecoded', 'DirectionalDecodersEpochsEvaluations', 'TrialByTrialActivity', 'long_short_leave_one_out_decoding_analysis', 'short_long_pf_overlap_analyses', 'long_short_fr_indicies_analysis', 'jonathan_firing_rate_analysis', 'long_short_post_decoding', 'long_short_inst_spike_rate_groups', 'long_short_endcap', 'SequenceBased']\n",
      "successfully_loaded_keys: ['DirectionalLaps', 'DirectionalMergedDecoders', 'RankOrder', 'DirectionalDecodersDecoded', 'DirectionalDecodersEpochsEvaluations', 'TrialByTrialActivity', 'long_short_leave_one_out_decoding_analysis', 'short_long_pf_overlap_analyses', 'long_short_fr_indicies_analysis', 'jonathan_firing_rate_analysis', 'long_short_post_decoding', 'long_short_inst_spike_rate_groups', 'long_short_endcap', 'SequenceBased']\n",
      "included includelist is specified: ['lap_direction_determination', 'pf_computation', 'firing_rate_trends', 'pfdt_computation', 'ratemap_peaks_prominence2d', 'extended_stats', 'long_short_decoding_analyses', 'jonathan_firing_rate_analysis', 'long_short_fr_indicies_analyses', 'short_long_pf_overlap_analyses', 'long_short_post_decoding', 'long_short_inst_spike_rate_groups', 'long_short_endcap_analysis', 'split_to_directional_laps', 'merged_directional_placefields', 'rank_order_shuffle_analysis', 'directional_decoders_decode_continuous', 'directional_decoders_evaluate_epochs', 'directional_decoders_epoch_heuristic_scoring', 'perform_wcorr_shuffle_analysis', 'trial_by_trial_metrics', 'extended_pf_peak_information'], so only performing these extended computations.\n",
      "Running batch_evaluate_required_computations(...) with global_epoch_name: \"maze_any\"\n",
      "WARNING: FIXME TODO 2024-05-08 08:20: - [ ] Disabled checking for 'combined_best_direction_indicies', which is missing from both the laps and ripple dataframes after fresh computation for some reason.\n",
      "done with all batch_evaluate_required_computations(...).\n",
      "Post-load global computations: needs_computation_output_dict: []\n"
     ]
    }
   ],
   "source": [
    "# ==================================================================================================================== #\n",
    "# Load Pipeline                                                                                                        #\n",
    "# ==================================================================================================================== #\n",
    "# with VizTracer(output_file=f\"viztracer_{get_now_time_str()}-full_session_LOO_decoding_analysis.json\", min_duration=200, tracer_entries=3000000, ignore_frozen=True) as tracer:\n",
    "# epoch_name_includelist = ['maze']\n",
    "epoch_name_includelist = None\n",
    "active_computation_functions_name_includelist=['lap_direction_determination', 'pf_computation',\n",
    "\t\t\t\t\t\t\t\t\t\t\t#    'pfdt_computation',\n",
    "\t\t\t\t\t\t\t\t\t\t\t\t'firing_rate_trends',\n",
    "\t\t\t\t\t\t\t\t\t\t\t\t# 'pf_dt_sequential_surprise', \n",
    "\t\t\t\t\t\t\t\t\t\t\t#    'ratemap_peaks_prominence2d',\n",
    "\t\t\t\t\t\t\t\t\t\t\t\t'position_decoding', \n",
    "\t\t\t\t\t\t\t\t\t\t\t\t# 'position_decoding_two_step', \n",
    "\t\t\t\t\t\t\t\t\t\t\t#    'long_short_decoding_analyses', 'jonathan_firing_rate_analysis', 'long_short_fr_indicies_analyses', 'short_long_pf_overlap_analyses', 'long_short_post_decoding', 'long_short_rate_remapping',\n",
    "\t\t\t\t\t\t\t\t\t\t\t#     'long_short_inst_spike_rate_groups',\n",
    "\t\t\t\t\t\t\t\t\t\t\t#     'long_short_endcap_analysis',\n",
    "\t\t\t\t\t\t\t\t\t\t\t# 'split_to_directional_laps',\n",
    "]\n",
    "\n",
    "curr_active_pipeline: NeuropyPipeline = batch_load_session(global_data_root_parent_path, active_data_mode_name, basedir, epoch_name_includelist=epoch_name_includelist,\n",
    "\t\t\t\t\t\t\t\t\t\tcomputation_functions_name_includelist=active_computation_functions_name_includelist,\n",
    "\t\t\t\t\t\t\t\t\t\tsaving_mode=saving_mode, force_reload=force_reload,\n",
    "\t\t\t\t\t\t\t\t\t\tskip_extended_batch_computations=True, debug_print=False, fail_on_exception=True) # , active_pickle_filename = 'loadedSessPickle_withParameters.pkl'\n",
    "\n",
    "\n",
    "\n",
    "## Post Compute Validate 2023-05-16:\n",
    "was_updated = BatchSessionCompletionHandler.post_compute_validate(curr_active_pipeline) ## TODO: need to potentially re-save if was_updated. This will fail because constained versions not ran yet.\n",
    "if was_updated:\n",
    "\tprint(f'was_updated: {was_updated}')\n",
    "\ttry:\n",
    "\t\tcurr_active_pipeline.save_pipeline(saving_mode=saving_mode)\n",
    "\texcept Exception as e:\n",
    "\t\t## TODO: catch/log saving error and indicate that it isn't saved.\n",
    "\t\texception_info = sys.exc_info()\n",
    "\t\te = CapturedException(e, exception_info)\n",
    "\t\tprint(f'ERROR RE-SAVING PIPELINE after update. error: {e}')\n",
    "\n",
    "force_recompute_global = force_reload\n",
    "needs_computation_output_dict, valid_computed_results_output_list, remaining_include_function_names = batch_evaluate_required_computations(curr_active_pipeline, include_includelist=extended_computations_include_includelist, include_global_functions=True, fail_on_exception=False, progress_print=True,\n",
    "\t\t\t\t\t\t\t\t\t\t\t\t\tforce_recompute=force_recompute_global, force_recompute_override_computations_includelist=force_recompute_override_computations_includelist, debug_print=False)\n",
    "print(f'Pre-load global computations: needs_computation_output_dict: {[k for k,v in needs_computation_output_dict.items() if (v is not None)]}')\n",
    "# valid_computed_results_output_list\n",
    "if not force_reload: # not just force_reload, needs to recompute whenever the computation fails.\n",
    "\ttry:\n",
    "\t\t# curr_active_pipeline.load_pickled_global_computation_results()\n",
    "\t\tsucessfully_updated_keys, successfully_loaded_keys = curr_active_pipeline.load_pickled_global_computation_results(allow_overwrite_existing=True, allow_overwrite_existing_allow_keys=extended_computations_include_includelist) # is new\n",
    "\t\tprint(f'sucessfully_updated_keys: {sucessfully_updated_keys}\\nsuccessfully_loaded_keys: {successfully_loaded_keys}')\n",
    "\texcept FileNotFoundError as e:\n",
    "\t\texception_info = sys.exc_info()\n",
    "\t\te = CapturedException(e, exception_info)\n",
    "\t\tprint(f'cannot load global results because pickle file does not exist! Maybe it has never been created? {e}')\n",
    "\texcept BaseException as e:\n",
    "\t\texception_info = sys.exc_info()\n",
    "\t\te = CapturedException(e, exception_info)\n",
    "\t\tprint(f'Unhandled exception: cannot load global results: {e}')\n",
    "\t\traise\n",
    "\n",
    "force_recompute_global = force_reload\n",
    "needs_computation_output_dict, valid_computed_results_output_list, remaining_include_function_names = batch_evaluate_required_computations(curr_active_pipeline, include_includelist=extended_computations_include_includelist, include_global_functions=True, fail_on_exception=False, progress_print=True,\n",
    "\t\t\t\t\t\t\t\t\t\t\t\t\tforce_recompute=force_recompute_global, force_recompute_override_computations_includelist=force_recompute_override_computations_includelist, debug_print=False)\n",
    "print(f'Post-load global computations: needs_computation_output_dict: {[k for k,v in needs_computation_output_dict.items() if (v is not None)]}')\n",
    "curr_active_pipeline.reload_default_computation_functions()\n",
    "force_recompute_global = force_reload\n",
    "# force_recompute_global = True"
   ]
  },
  {
   "cell_type": "code",
   "execution_count": 5,
   "id": "9738b166",
   "metadata": {},
   "outputs": [
    {
     "name": "stdout",
     "output_type": "stream",
     "text": [
      "included includelist is specified: ['lap_direction_determination', 'pf_computation', 'firing_rate_trends', 'pfdt_computation', 'ratemap_peaks_prominence2d', 'extended_stats', 'long_short_decoding_analyses', 'jonathan_firing_rate_analysis', 'long_short_fr_indicies_analyses', 'short_long_pf_overlap_analyses', 'long_short_post_decoding', 'long_short_inst_spike_rate_groups', 'long_short_endcap_analysis', 'split_to_directional_laps', 'merged_directional_placefields', 'rank_order_shuffle_analysis', 'directional_decoders_decode_continuous', 'directional_decoders_evaluate_epochs', 'directional_decoders_epoch_heuristic_scoring', 'perform_wcorr_shuffle_analysis', 'trial_by_trial_metrics', 'extended_pf_peak_information'], so only performing these extended computations.\n",
      "Running batch_extended_computations(...) with global_epoch_name: \"maze_any\"\n",
      "WARNING: FIXME TODO 2024-05-08 08:20: - [ ] Disabled checking for 'combined_best_direction_indicies', which is missing from both the laps and ripple dataframes after fresh computation for some reason.\n",
      "done with all batch_extended_computations(...).\n",
      "no changes in global results.\n",
      "included includelist is specified: ['lap_direction_determination', 'pf_computation', 'firing_rate_trends', 'pfdt_computation', 'ratemap_peaks_prominence2d', 'extended_stats', 'long_short_decoding_analyses', 'jonathan_firing_rate_analysis', 'long_short_fr_indicies_analyses', 'short_long_pf_overlap_analyses', 'long_short_post_decoding', 'long_short_inst_spike_rate_groups', 'long_short_endcap_analysis', 'split_to_directional_laps', 'merged_directional_placefields', 'rank_order_shuffle_analysis', 'directional_decoders_decode_continuous', 'directional_decoders_evaluate_epochs', 'directional_decoders_epoch_heuristic_scoring', 'perform_wcorr_shuffle_analysis', 'trial_by_trial_metrics', 'extended_pf_peak_information'], so only performing these extended computations.\n",
      "Running batch_evaluate_required_computations(...) with global_epoch_name: \"maze_any\"\n",
      "WARNING: FIXME TODO 2024-05-08 08:20: - [ ] Disabled checking for 'combined_best_direction_indicies', which is missing from both the laps and ripple dataframes after fresh computation for some reason.\n",
      "done with all batch_evaluate_required_computations(...).\n",
      "Post-compute validation: needs_computation_output_dict: []\n"
     ]
    }
   ],
   "source": [
    "\n",
    "newly_computed_values = batch_extended_computations(curr_active_pipeline, include_includelist=extended_computations_include_includelist, include_global_functions=True, fail_on_exception=True, progress_print=True,\n",
    "\t\t\t\t\t\t\t\t\t\t\t\t\tforce_recompute=force_recompute_global, force_recompute_override_computations_includelist=force_recompute_override_computations_includelist, debug_print=False)\n",
    "if (len(newly_computed_values) > 0):\n",
    "\tprint(f'newly_computed_values: {newly_computed_values}.')\n",
    "\tif (saving_mode.value != 'skip_saving'):\n",
    "\t\tprint(f'Saving global results...')\n",
    "\t\ttry:\n",
    "\t\t\t# curr_active_pipeline.global_computation_results.persist_time = datetime.now()\n",
    "\t\t\t# Try to write out the global computation function results:\n",
    "\t\t\tcurr_active_pipeline.save_global_computation_results()\n",
    "\t\texcept Exception as e:\n",
    "\t\t\texception_info = sys.exc_info()\n",
    "\t\t\te = CapturedException(e, exception_info)\n",
    "\t\t\tprint(f'\\n\\n!!WARNING!!: saving the global results threw the exception: {e}')\n",
    "\t\t\tprint(f'\\tthe global results are currently unsaved! proceed with caution and save as soon as you can!\\n\\n\\n')\n",
    "\telse:\n",
    "\t\tprint(f'\\n\\n!!WARNING!!: changes to global results have been made but they will not be saved since saving_mode.value == \"skip_saving\"')\n",
    "\t\tprint(f'\\tthe global results are currently unsaved! proceed with caution and save as soon as you can!\\n\\n\\n')\n",
    "else:\n",
    "\tprint(f'no changes in global results.')\n",
    "\n",
    "# Post-hoc verification that the computations worked and that the validators reflect that. The list should be empty now.\n",
    "needs_computation_output_dict, valid_computed_results_output_list, remaining_include_function_names = batch_evaluate_required_computations(curr_active_pipeline, include_includelist=extended_computations_include_includelist, include_global_functions=True, fail_on_exception=False, progress_print=True,\n",
    "\t\t\t\t\t\t\t\t\t\t\t\t\tforce_recompute=False, force_recompute_override_computations_includelist=[], debug_print=True)\n",
    "print(f'Post-compute validation: needs_computation_output_dict: {[k for k,v in needs_computation_output_dict.items() if (v is not None)]}')"
   ]
  },
  {
   "cell_type": "markdown",
   "id": "4f5f755b",
   "metadata": {},
   "source": [
    "## 0️⃣ Shared Post-Pipeline load stuff"
   ]
  },
  {
   "cell_type": "code",
   "execution_count": 6,
   "id": "188ed6fa",
   "metadata": {
    "notebookRunGroups": {
     "groupValue": "1"
    }
   },
   "outputs": [
    {
     "name": "stdout",
     "output_type": "stream",
     "text": [
      "NO CUSTOM SUFFIX.\n",
      "collected_outputs_path: K:\\scratch\\collected_outputs\n",
      "CURR_BATCH_OUTPUT_PREFIX: \"2024-08-28_Apogee-2006-6-08_14-26-15\"\n"
     ]
    }
   ],
   "source": [
    "# BATCH_DATE_TO_USE: str = f'{DAY_DATE_TO_USE}_GL'\n",
    "# BATCH_DATE_TO_USE: str = f'{DAY_DATE_TO_USE}_rMBP' # TODO: Change this as needed, templating isn't actually doing anything rn.\n",
    "BATCH_DATE_TO_USE: str = f'{DAY_DATE_TO_USE}_Apogee'\n",
    "# BATCH_DATE_TO_USE: str = f'{DAY_DATE_TO_USE}_Lab'\n",
    " \n",
    "try:\n",
    "\tif custom_suffix is not None:\n",
    "\t\tBATCH_DATE_TO_USE = f'{BATCH_DATE_TO_USE}{custom_suffix}'\n",
    "\t\tprint(f'Adding custom suffix: \"{custom_suffix}\" - BATCH_DATE_TO_USE: \"{BATCH_DATE_TO_USE}\"')\n",
    "except NameError as err:\n",
    "\tcustom_suffix = None\n",
    "\tprint(f'NO CUSTOM SUFFIX.')\n",
    "\n",
    "known_collected_output_paths = [Path(v).resolve() for v in ['/nfs/turbo/umms-kdiba/Data/Output/collected_outputs', '/home/halechr/FastData/collected_outputs/',\n",
    "\t\t\t\t\t\t\t\t\t\t\t\t\t\t   '/home/halechr/cloud/turbo/Data/Output/collected_outputs',\n",
    "\t\t\t\t\t\t\t\t\t\t\t\t\t\t   r'C:\\Users\\pho\\repos\\Spike3DWorkEnv\\Spike3D\\output\\collected_outputs',\n",
    "\t\t\t\t\t\t\t\t\t\t\t\t\t\t   '/Users/pho/data/collected_outputs',\n",
    "\t\t\t\t\t\t\t\t\t\t\t\t\t\t  'output/gen_scripts/']]\n",
    "collected_outputs_path = find_first_extant_path(known_collected_output_paths)\n",
    "assert collected_outputs_path.exists(), f\"collected_outputs_path: {collected_outputs_path} does not exist! Is the right computer's config commented out above?\"\n",
    "# fullwidth_path_widget(scripts_output_path, file_name_label='Scripts Output Path:')\n",
    "print(f'collected_outputs_path: {collected_outputs_path}')\n",
    "# collected_outputs_path.mkdir(exist_ok=True)\n",
    "# assert collected_outputs_path.exists()\n",
    "\n",
    "## Build the output prefix from the session context:\n",
    "active_context = curr_active_pipeline.get_session_context()\n",
    "curr_session_name: str = curr_active_pipeline.session_name # '2006-6-08_14-26-15'\n",
    "CURR_BATCH_OUTPUT_PREFIX: str = f\"{BATCH_DATE_TO_USE}-{curr_session_name}\"\n",
    "print(f'CURR_BATCH_OUTPUT_PREFIX: \"{CURR_BATCH_OUTPUT_PREFIX}\"')"
   ]
  },
  {
   "cell_type": "markdown",
   "id": "d42e0148",
   "metadata": {},
   "source": [
    "## Specific Recomputations"
   ]
  },
  {
   "cell_type": "code",
   "execution_count": null,
   "id": "f010d1a9",
   "metadata": {},
   "outputs": [],
   "source": [
    "any_most_recent_computation_time, each_epoch_latest_computation_time, each_epoch_each_result_computation_completion_times, (global_computations_latest_computation_time, global_computation_completion_times) = curr_active_pipeline.get_computation_times(debug_print=False)\n",
    "# each_epoch_latest_computation_time\n",
    "each_epoch_each_result_computation_completion_times"
   ]
  },
  {
   "cell_type": "code",
   "execution_count": null,
   "id": "0c26bc99",
   "metadata": {},
   "outputs": [],
   "source": [
    "# reload_exported_kdiba_session_position_info_mat_completion_function\n",
    "from pyphoplacecellanalysis.General.Batch.BatchJobCompletion.UserCompletionHelpers.batch_user_completion_helpers import reload_exported_kdiba_session_position_info_mat_completion_function\n",
    "\n",
    "# Results can be extracted from batch output by \n",
    "\n",
    "# Extracts the callback results 'determine_session_t_delta_completion_function':\n",
    "# extracted_callback_fn_results = {a_sess_ctxt:a_result.across_session_results.get('determine_session_t_delta_completion_function', {}) for a_sess_ctxt, a_result in global_batch_run.session_batch_outputs.items() if a_result is not None}\n",
    "\n",
    "from neuropy.core.epoch import Epoch, ensure_dataframe\n",
    "from pyphoplacecellanalysis.SpecificResults.PendingNotebookCode import compute_diba_quiescent_style_replay_events, overwrite_replay_epochs_and_recompute, try_load_neuroscope_EVT_file_epochs, replace_replay_epochs, _get_custom_suffix_for_replay_filename, finalize_output_shuffled_wcorr\n",
    "from pyphoplacecellanalysis.General.Pipeline.Stages.ComputationFunctions.MultiContextComputationFunctions.DirectionalPlacefieldGlobalComputationFunctions import get_proper_global_spikes_df\n",
    "\n",
    "from pyphoplacecellanalysis.General.Batch.BatchJobCompletion.UserCompletionHelpers.batch_user_completion_helpers import SimpleBatchComputationDummy\n",
    "\n",
    "a_dummy = SimpleBatchComputationDummy(BATCH_DATE_TO_USE, collected_outputs_path, True)\n",
    "a_dummy.should_suppress_errors = False\n",
    "\n",
    "## Settings:\n",
    "\n",
    "# SimpleBatchComputationDummy = make_class('SimpleBatchComputationDummy', attrs=['BATCH_DATE_TO_USE', 'collected_outputs_path'])\n",
    "# a_dummy = SimpleBatchComputationDummy(BATCH_DATE_TO_USE, collected_outputs_path)\n",
    "\n",
    "_temp_batch_results_extended_dict = {}\n",
    "## Combine the output of `reload_exported_kdiba_session_position_info_mat_completion_function` into two dataframes for the laps, one per-epoch and one per-time-bin\n",
    "_temp_batch_results_extended_dict = _temp_batch_results_extended_dict | reload_exported_kdiba_session_position_info_mat_completion_function(a_dummy, None,\n",
    "\t\t\t\t\t\t\t\t\t\t\t\tcurr_session_context=curr_active_pipeline.get_session_context(), curr_session_basedir=curr_active_pipeline.sess.basepath.resolve(), curr_active_pipeline=curr_active_pipeline,\n",
    "\t\t\t\t\t\t\t\t\t\t\t\tacross_session_results_extended_dict=_temp_batch_results_extended_dict,\n",
    "\t\t\t\t\t\t\t\t\t\t\t\t# save_hdf=save_hdf, return_full_decoding_results=return_full_decoding_results,\n",
    "\t\t\t\t\t\t\t\t\t\t\t\t# desired_shared_decoding_time_bin_sizes=desired_shared_decoding_time_bin_sizes,\n",
    "\t\t\t\t\t\t\t\t\t\t\t\t)\n",
    "\n",
    "\n"
   ]
  },
  {
   "cell_type": "code",
   "execution_count": null,
   "id": "ee3d4f61",
   "metadata": {},
   "outputs": [],
   "source": [
    "curr_active_pipeline.reload_default_computation_functions()"
   ]
  },
  {
   "cell_type": "code",
   "execution_count": null,
   "id": "cdd11d0f",
   "metadata": {},
   "outputs": [],
   "source": [
    "curr_active_pipeline.filtered_sessions"
   ]
  },
  {
   "cell_type": "code",
   "execution_count": null,
   "id": "a8ff30b7",
   "metadata": {},
   "outputs": [],
   "source": [
    "curr_active_pipeline.global_computation_results.computation_config.instantaneous_time_bin_size_seconds = 0.01"
   ]
  },
  {
   "cell_type": "code",
   "execution_count": null,
   "id": "47820977",
   "metadata": {},
   "outputs": [],
   "source": [
    "extended_computations_include_includelist=['lap_direction_determination', 'pf_computation', 'firing_rate_trends', 'pfdt_computation',\n",
    "\t# 'pf_dt_sequential_surprise',\n",
    "\t#  'ratemap_peaks_prominence2d',\n",
    "\t'extended_stats',\n",
    "\t'long_short_decoding_analyses',\n",
    "\t'jonathan_firing_rate_analysis',\n",
    "\t'long_short_fr_indicies_analyses',\n",
    "\t'short_long_pf_overlap_analyses',\n",
    "\t'long_short_post_decoding',\n",
    "\t# 'long_short_rate_remapping',\n",
    "\t'long_short_inst_spike_rate_groups',\n",
    "\t'long_short_endcap_analysis',\n",
    "\t# 'spike_burst_detection',\n",
    "\t'split_to_directional_laps',\n",
    "\t'merged_directional_placefields',\n",
    "\t# 'rank_order_shuffle_analysis',\n",
    "\t# 'directional_decoders_decode_continuous',\n",
    "\t# 'directional_decoders_evaluate_epochs',\n",
    "\t# 'directional_decoders_epoch_heuristic_scoring',\n",
    "] # do only specified\n",
    "\n",
    "# ['split_to_directional_laps', 'merged_directional_placefields', 'rank_order_shuffle_analysis', 'directional_decoders_decode_continuous']\n",
    "\n",
    "force_recompute_override_computations_includelist = [\n",
    "\t'directional_decoders_evaluate_epochs', 'directional_decoders_epoch_heuristic_scoring',\n",
    "\t'split_to_directional_laps', 'lap_direction_determination', 'DirectionalLaps',\n",
    "\t'merged_directional_placefields',\n",
    "\t'directional_decoders_decode_continuous',\n",
    "]\n",
    "# force_recompute_override_computations_includelist = None\n",
    "\n",
    "newly_computed_values = batch_extended_computations(curr_active_pipeline, include_includelist=extended_computations_include_includelist, include_global_functions=True, fail_on_exception=True, progress_print=True,\n",
    "\t\t\t\t\t\t\t\t\t\t\t\t\tforce_recompute=force_recompute_global, force_recompute_override_computations_includelist=force_recompute_override_computations_includelist, debug_print=False)\n",
    "newly_computed_values\n"
   ]
  },
  {
   "cell_type": "code",
   "execution_count": null,
   "id": "db62d145",
   "metadata": {},
   "outputs": [],
   "source": [
    "force_recompute_global"
   ]
  },
  {
   "cell_type": "code",
   "execution_count": null,
   "id": "272e20f8",
   "metadata": {},
   "outputs": [],
   "source": [
    "# curr_active_pipeline.reload_default_computation_functions()\n",
    "# force_recompute_override_computations_includelist = ['_decode_continuous_using_directional_decoders']\n",
    "# curr_active_pipeline.perform_specific_computation(computation_functions_name_includelist=['_decode_continuous_using_directional_decoders'], force_recompute_override_computations_includelist=force_recompute_override_computations_includelist,\n",
    "# \t\t\t\t\t\t\t\t\t\t\t\t   enabled_filter_names=None, fail_on_exception=True, debug_print=False)\n",
    "# curr_active_pipeline.perform_specific_computation(computation_functions_name_includelist=['_decode_continuous_using_directional_decoders'], computation_kwargs_list=[{'time_bin_size': 0.025}], enabled_filter_names=None, fail_on_exception=True, debug_print=False)\n",
    "# curr_active_pipeline.perform_specific_computation(extended_computations_include_includelist=['_decode_continuous_using_directional_decoders'], computation_kwargs_list=[{'time_bin_size': 0.02}], enabled_filter_names=None, fail_on_exception=True, debug_print=False)\n",
    "# curr_active_pipeline.perform_specific_computation(computation_functions_name_includelist=['merged_directional_placefields', 'directional_decoders_decode_continuous'], computation_kwargs_list=[{'laps_decoding_time_bin_size': 0.20}, {'time_bin_size': 0.20}], enabled_filter_names=None, fail_on_exception=True, debug_print=False)\n",
    "\n",
    "curr_active_pipeline.perform_specific_computation(computation_functions_name_includelist=['merged_directional_placefields'], computation_kwargs_list=[{'laps_decoding_time_bin_size': 0.025}], enabled_filter_names=None, fail_on_exception=True, debug_print=False)\n",
    "\n",
    "# 2024-04-20 - HACK -- FIXME: Invert the 'is_LR_dir' column since it is clearly reversed. No clue why.\n",
    "# fails due to some types thing?\n",
    "# \terr: Length of values (82) does not match length of index (80)\n"
   ]
  },
  {
   "cell_type": "code",
   "execution_count": null,
   "id": "bfd3dca2",
   "metadata": {},
   "outputs": [],
   "source": [
    "curr_active_pipeline.reload_default_computation_functions()"
   ]
  },
  {
   "cell_type": "code",
   "execution_count": null,
   "id": "f748deeb",
   "metadata": {},
   "outputs": [],
   "source": [
    "curr_active_pipeline.perform_specific_computation(computation_functions_name_includelist=['directional_decoders_evaluate_epochs'], computation_kwargs_list=[{'should_skip_radon_transform': False}], enabled_filter_names=None, fail_on_exception=True, debug_print=True)"
   ]
  },
  {
   "cell_type": "code",
   "execution_count": null,
   "id": "fe380f10",
   "metadata": {},
   "outputs": [],
   "source": [
    "curr_active_pipeline.perform_specific_computation(computation_functions_name_includelist=['directional_decoders_epoch_heuristic_scoring'], enabled_filter_names=None, fail_on_exception=True, debug_print=False) # OK FOR PICKLE"
   ]
  },
  {
   "cell_type": "code",
   "execution_count": null,
   "id": "f372737e",
   "metadata": {},
   "outputs": [],
   "source": [
    "curr_active_pipeline.perform_specific_computation(computation_functions_name_includelist=['ratemap_peaks_prominence2d'], enabled_filter_names=None, fail_on_exception=True, debug_print=False)"
   ]
  },
  {
   "cell_type": "code",
   "execution_count": null,
   "id": "39417243",
   "metadata": {},
   "outputs": [],
   "source": [
    "curr_active_pipeline.perform_specific_computation(computation_functions_name_includelist=['lap_direction_determination'], enabled_filter_names=None, fail_on_exception=True, debug_print=False)"
   ]
  },
  {
   "cell_type": "code",
   "execution_count": null,
   "id": "89757a66",
   "metadata": {},
   "outputs": [],
   "source": [
    "curr_active_pipeline.perform_specific_computation(computation_functions_name_includelist=['rank_order_shuffle_analysis'], enabled_filter_names=None, fail_on_exception=True, debug_print=False)"
   ]
  },
  {
   "cell_type": "code",
   "execution_count": null,
   "id": "6f2745bd",
   "metadata": {},
   "outputs": [],
   "source": [
    "curr_active_pipeline.perform_specific_computation(computation_functions_name_includelist=['EloyAnalysis'], enabled_filter_names=None, fail_on_exception=True, debug_print=False)"
   ]
  },
  {
   "cell_type": "code",
   "execution_count": null,
   "id": "4130eb2e",
   "metadata": {},
   "outputs": [],
   "source": [
    "curr_active_pipeline.perform_specific_computation(computation_functions_name_includelist=['directional_train_test_split'], enabled_filter_names=None, fail_on_exception=True, debug_print=False)"
   ]
  },
  {
   "cell_type": "code",
   "execution_count": null,
   "id": "d72d567e",
   "metadata": {},
   "outputs": [],
   "source": [
    "curr_active_pipeline.perform_specific_computation(computation_functions_name_includelist=['trial_by_trial_metrics'], enabled_filter_names=None, fail_on_exception=True, debug_print=False)"
   ]
  },
  {
   "cell_type": "code",
   "execution_count": null,
   "id": "0da92d47",
   "metadata": {},
   "outputs": [],
   "source": [
    "curr_active_pipeline.perform_specific_computation(computation_functions_name_includelist=['perform_wcorr_shuffle_analysis'], computation_kwargs_list=[{'num_shuffles': 350}], enabled_filter_names=None, fail_on_exception=True, debug_print=False)"
   ]
  },
  {
   "cell_type": "code",
   "execution_count": null,
   "id": "a52a8eb8",
   "metadata": {},
   "outputs": [],
   "source": [
    "curr_active_pipeline.perform_specific_computation(computation_functions_name_includelist=['merged_directional_placefields', 'directional_decoders_decode_continuous', 'directional_decoders_evaluate_epochs', 'directional_decoders_epoch_heuristic_scoring'], computation_kwargs_list=[{'laps_decoding_time_bin_size': 0.025}, {'time_bin_size': 0.025}, {'should_skip_radon_transform': False}, {}], enabled_filter_names=None, fail_on_exception=True, debug_print=False)"
   ]
  },
  {
   "cell_type": "code",
   "execution_count": null,
   "id": "d012effc",
   "metadata": {},
   "outputs": [],
   "source": [
    "['split_to_directional_laps', 'merged_directional_placefields', 'rank_order_shuffle_analysis', 'directional_decoders_decode_continuous']"
   ]
  },
  {
   "cell_type": "code",
   "execution_count": null,
   "id": "62493eb3",
   "metadata": {},
   "outputs": [],
   "source": [
    "curr_active_pipeline.perform_specific_computation(computation_functions_name_includelist=[\n",
    "\t'merged_directional_placefields', \n",
    "\t'long_short_decoding_analyses', #'pipeline_complete_compute_long_short_fr_indicies',\n",
    "\t'jonathan_firing_rate_analysis',\n",
    "\t'long_short_fr_indicies_analyses',\n",
    "\t'short_long_pf_overlap_analyses',\n",
    "\t'long_short_post_decoding',\n",
    "\t'long_short_rate_remapping',\n",
    "\t'long_short_inst_spike_rate_groups',\n",
    "\t'long_short_endcap_analysis',\n",
    "\t], enabled_filter_names=None, fail_on_exception=True, debug_print=False) # , computation_kwargs_list=[{'should_skip_radon_transform': False}]"
   ]
  },
  {
   "cell_type": "code",
   "execution_count": null,
   "id": "99749819",
   "metadata": {},
   "outputs": [],
   "source": [
    "if 'TrainTestSplit' in curr_active_pipeline.global_computation_results.computed_data:\n",
    "\tdirectional_train_test_split_result: TrainTestSplitResult = curr_active_pipeline.global_computation_results.computed_data.get('TrainTestSplit', None)\n",
    "\ttraining_data_portion: float = directional_train_test_split_result.training_data_portion\n",
    "\ttest_data_portion: float = directional_train_test_split_result.test_data_portion\n",
    "\ttest_epochs_dict: Dict[str, pd.DataFrame] = directional_train_test_split_result.test_epochs_dict\n",
    "\ttrain_epochs_dict: Dict[str, pd.DataFrame] = directional_train_test_split_result.train_epochs_dict\n",
    "\ttrain_lap_specific_pf1D_Decoder_dict: Dict[str, BasePositionDecoder] = directional_train_test_split_result.train_lap_specific_pf1D_Decoder_dict\n",
    "\t\n"
   ]
  },
  {
   "cell_type": "code",
   "execution_count": null,
   "id": "6ed38171",
   "metadata": {},
   "outputs": [],
   "source": [
    "from pyphoplacecellanalysis.General.Pipeline.Stages.Loading import saveData\n",
    "\n",
    "# directional_decoders_epochs_decode_result\n",
    "# save_path = Path(\"/Users/pho/data/KDIBA/gor01/one/2006-6-09_1-22-43/output/2024-04-25_CustomDecodingResults.pkl\").resolve()\n",
    "# save_path = curr_active_pipeline.get_output_path().joinpath(\"2024-04-28_CustomDecodingResults.pkl\").resolve()\n",
    "save_path = curr_active_pipeline.get_output_path().joinpath(f\"{DAY_DATE_TO_USE}_CustomDecodingResults.pkl\").resolve()\n",
    "\n",
    "xbin = deepcopy(long_pf2D.xbin)\n",
    "xbin_centers = deepcopy(long_pf2D.xbin_centers)\n",
    "ybin = deepcopy(long_pf2D.ybin)\n",
    "ybin_centers = deepcopy(long_pf2D.ybin_centers)\n",
    "\n",
    "print(xbin_centers)\n",
    "save_dict = {\n",
    "'directional_decoders_epochs_decode_result': directional_decoders_epochs_decode_result.__getstate__(),\n",
    "'xbin': xbin, 'xbin_centers': xbin_centers}\n",
    "\n",
    "saveData(save_path, save_dict)\n",
    "print(f'save_path: {save_path}')"
   ]
  },
  {
   "cell_type": "code",
   "execution_count": null,
   "id": "464b4531",
   "metadata": {
    "notebookRunGroups": {
     "groupValue": "2"
    }
   },
   "outputs": [],
   "source": [
    "# 💾 Export CSVs: \n",
    "## INPUTS: directional_decoders_epochs_decode_result,\n",
    "\n",
    "extracted_merged_scores_df = directional_decoders_epochs_decode_result.build_complete_all_scores_merged_df()\n",
    "# extracted_merged_scores_df\n",
    "\n",
    "print(f'\\tAll scores df CSV exporting...')\n",
    "\n",
    "## Export CSVs:\n",
    "t_start, t_delta, t_end = curr_active_pipeline.find_LongShortDelta_times()\n",
    "export_df_dict = {'ripple_all_scores_merged_df': extracted_merged_scores_df}\n",
    "_csv_export_paths = directional_decoders_epochs_decode_result.perform_export_dfs_dict_to_csvs(extracted_dfs_dict=export_df_dict, parent_output_path=collected_outputs_path.resolve(), active_context=active_context, session_name=curr_session_name, curr_session_t_delta=t_delta,\n",
    "\t\t\t\t\t\t\t\t\t\t\t\t\t\t\t\t\t\t\t#   user_annotation_selections={'ripple': any_good_selected_epoch_times},\n",
    "\t\t\t\t\t\t\t\t\t\t\t\t\t\t\t\t\t\t\t#   valid_epochs_selections={'ripple': filtered_valid_epoch_times},\n",
    "\t\t\t\t\t\t\t\t\t\t\t\t\t\t\t\t\t\t\t)\n",
    "\n",
    "print(f'\\t\\tsuccessfully exported ripple_all_scores_merged_df to {collected_outputs_path}!')\n",
    "_output_csv_paths_info_str: str = '\\n'.join([f'{a_name}: \"{file_uri_from_path(a_path)}\"' for a_name, a_path in _csv_export_paths.items()])\n",
    "print(f'\\t\\t\\tCSV Paths: {_output_csv_paths_info_str}\\n')"
   ]
  },
  {
   "cell_type": "code",
   "execution_count": null,
   "id": "81ac96c6",
   "metadata": {},
   "outputs": [],
   "source": [
    "t_delta"
   ]
  },
  {
   "cell_type": "code",
   "execution_count": null,
   "id": "1a98fc6f",
   "metadata": {},
   "outputs": [],
   "source": [
    "\n",
    "# extracted_merged_scores_df.to_csv('test_(ripple_all_scores_merged_df).csv')"
   ]
  },
  {
   "cell_type": "code",
   "execution_count": null,
   "id": "16a860a1",
   "metadata": {},
   "outputs": [],
   "source": [
    "decoder_ripple_radon_transform_df_dict\n",
    "decoder_ripple_radon_transform_extras_dict"
   ]
  },
  {
   "cell_type": "code",
   "execution_count": null,
   "id": "74cbf34d",
   "metadata": {},
   "outputs": [],
   "source": [
    "decoder_ripple_radon_transform_df_dict\n",
    "decoder_ripple_radon_transform_extras_dict"
   ]
  },
  {
   "cell_type": "code",
   "execution_count": null,
   "id": "bbbcbb0c",
   "metadata": {},
   "outputs": [],
   "source": [
    "# filtered_laps_simple_pf_pearson_merged_df\n",
    "# filtered_ripple_simple_pf_pearson_merged_df\n",
    "# decoder_ripple_weighted_corr_df_dict\n",
    "ripple_weighted_corr_merged_df['ripple_start_t']\n"
   ]
  },
  {
   "cell_type": "code",
   "execution_count": null,
   "id": "76a95450",
   "metadata": {},
   "outputs": [],
   "source": [
    "wcorr_column_names = ['wcorr_long_LR', 'wcorr_long_RL', 'wcorr_short_LR', 'wcorr_short_RL']\n",
    "filtered_ripple_simple_pf_pearson_merged_df.label = filtered_ripple_simple_pf_pearson_merged_df.label.astype('int64')\n",
    "ripple_weighted_corr_merged_df['label'] = ripple_weighted_corr_merged_df['ripple_idx'].astype('int64')\n",
    "\n",
    "filtered_ripple_simple_pf_pearson_merged_df.join(ripple_weighted_corr_merged_df[wcorr_column_names], on='start') # , on='label'\n",
    "# filtered_ripple_simple_pf_pearson_merged_df.merge"
   ]
  },
  {
   "cell_type": "code",
   "execution_count": null,
   "id": "ca4bc77f",
   "metadata": {},
   "outputs": [],
   "source": [
    "ripple_weighted_corr_merged_df"
   ]
  },
  {
   "cell_type": "code",
   "execution_count": null,
   "id": "ac433aac",
   "metadata": {},
   "outputs": [],
   "source": [
    "print(list(ripple_weighted_corr_merged_df.columns))"
   ]
  },
  {
   "cell_type": "code",
   "execution_count": null,
   "id": "d98e2381",
   "metadata": {},
   "outputs": [],
   "source": [
    "a_decoded_filter_epochs_decoder_result_dict: Dict[str, DecodedFilterEpochsResult] = deepcopy(decoder_ripple_filter_epochs_decoder_result_dict)\n",
    "a_decoded_filter_epochs_decoder_result_dict"
   ]
  },
  {
   "cell_type": "code",
   "execution_count": null,
   "id": "8e3599f8",
   "metadata": {},
   "outputs": [],
   "source": [
    "# paginated_multi_decoder_decoded_epochs_window.save_selections()\n",
    "\n",
    "a_decoded_filter_epochs_decoder_result_dict.epochs.find_data_indicies_from_epoch_times([380.75])"
   ]
  },
  {
   "cell_type": "markdown",
   "id": "77babf98",
   "metadata": {},
   "source": [
    "## 💾 Continue Saving/Exporting stuff"
   ]
  },
  {
   "cell_type": "code",
   "execution_count": null,
   "id": "ea89da89",
   "metadata": {},
   "outputs": [],
   "source": [
    "curr_active_pipeline.save_global_computation_results() # newly_computed_values: [('pfdt_computation', 'maze_any')]"
   ]
  },
  {
   "cell_type": "code",
   "execution_count": null,
   "id": "ec7af96d",
   "metadata": {},
   "outputs": [],
   "source": [
    "split_save_folder, split_save_paths, split_save_output_types, failed_keys = curr_active_pipeline.save_split_global_computation_results(debug_print=True) # encountered issue with pickling `long_short_post_decoding`:"
   ]
  },
  {
   "cell_type": "code",
   "execution_count": null,
   "id": "e10b37f1",
   "metadata": {},
   "outputs": [],
   "source": [
    "active_session_h5_filename = custom_save_filenames['pipeline_h5'] # 'pipeline_withParameters.h5'\n",
    "print(f'active_session_h5_filename: \"{active_session_h5_filename}\"')\n",
    "curr_active_pipeline.export_pipeline_to_h5(override_filename=active_session_h5_filename, fail_on_exception=False)"
   ]
  },
  {
   "cell_type": "code",
   "execution_count": null,
   "id": "c2a869b1",
   "metadata": {},
   "outputs": [],
   "source": [
    "curr_active_pipeline.export_pipeline_to_h5()"
   ]
  },
  {
   "cell_type": "code",
   "execution_count": null,
   "id": "e3f06d1f",
   "metadata": {},
   "outputs": [],
   "source": [
    "curr_active_pipeline.clear_display_outputs()\n",
    "curr_active_pipeline.clear_registered_output_files()"
   ]
  },
  {
   "cell_type": "code",
   "execution_count": null,
   "id": "837f39f2",
   "metadata": {},
   "outputs": [],
   "source": [
    "curr_active_pipeline.save_pipeline(saving_mode=PipelineSavingScheme.TEMP_THEN_OVERWRITE) ## #TODO 2024-02-16 14:25: - [ ] PicklingError: Can't pickle <function make_set_closure_cell.<locals>.set_closure_cell at 0x7fd35e66b700>: it's not found as attr._compat.make_set_closure_cell.<locals>.set_closure_cell\n"
   ]
  },
  {
   "cell_type": "markdown",
   "id": "a10989b4",
   "metadata": {},
   "source": [
    "#### Get computation times/info:"
   ]
  },
  {
   "cell_type": "code",
   "execution_count": null,
   "id": "f31cab8e",
   "metadata": {},
   "outputs": [],
   "source": [
    "any_most_recent_computation_time, each_epoch_latest_computation_time, each_epoch_each_result_computation_completion_times, (global_computations_latest_computation_time, global_computation_completion_times) = curr_active_pipeline.get_computation_times(debug_print=False)\n",
    "# each_epoch_latest_computation_time\n",
    "# each_epoch_each_result_computation_completion_times\n",
    "# global_computation_completion_times\n",
    "\n",
    "# curr_active_pipeline.get_merged_computation_function_validators()\n",
    "# Get the names of the global and non-global computations:\n",
    "all_validators_dict = curr_active_pipeline.get_merged_computation_function_validators()\n",
    "global_only_validators_dict = {k:v for k, v in all_validators_dict.items() if v.is_global}\n",
    "non_global_only_validators_dict = {k:v for k, v in all_validators_dict.items() if (not v.is_global)}\n",
    "non_global_comp_names: List[str] = [v.short_name for k, v in non_global_only_validators_dict.items() if (not v.short_name.startswith('_DEP'))] # ['firing_rate_trends', 'spike_burst_detection', 'pf_dt_sequential_surprise', 'extended_stats', 'placefield_overlap', 'ratemap_peaks_prominence2d', 'velocity_vs_pf_simplified_count_density', 'EloyAnalysis', '_perform_specific_epochs_decoding', 'recursive_latent_pf_decoding', 'position_decoding_two_step', 'position_decoding', 'lap_direction_determination', 'pfdt_computation', 'pf_computation']\n",
    "global_comp_names: List[str] = [v.short_name for k, v in global_only_validators_dict.items() if (not v.short_name.startswith('_DEP'))] # ['long_short_endcap_analysis', 'long_short_inst_spike_rate_groups', 'long_short_post_decoding', 'jonathan_firing_rate_analysis', 'long_short_fr_indicies_analyses', 'short_long_pf_overlap_analyses', 'long_short_decoding_analyses', 'PBE_stats', 'rank_order_shuffle_analysis', 'directional_decoders_epoch_heuristic_scoring', 'directional_decoders_evaluate_epochs', 'directional_decoders_decode_continuous', 'merged_directional_placefields', 'split_to_directional_laps']\n",
    "\n",
    "# mappings between the long computation function names and their short names:\n",
    "non_global_comp_names_map: Dict[str, str] = {v.computation_fn_name:v.short_name for k, v in non_global_only_validators_dict.items() if (not v.short_name.startswith('_DEP'))}\n",
    "global_comp_names_map: Dict[str, str] = {v.computation_fn_name:v.short_name for k, v in global_only_validators_dict.items() if (not v.short_name.startswith('_DEP'))} # '_perform_long_short_endcap_analysis': 'long_short_endcap_analysis', '_perform_long_short_instantaneous_spike_rate_groups_analysis': 'long_short_inst_spike_rate_groups', ...}\n",
    "\n",
    "# convert long function names to short-names:\n",
    "each_epoch_each_result_computation_completion_times = {an_epoch:{non_global_comp_names_map.get(k, k):v for k,v in a_results_dict.items()} for an_epoch, a_results_dict in each_epoch_each_result_computation_completion_times.items()}\n",
    "global_computation_completion_times = {global_comp_names_map.get(k, k):v for k,v in global_computation_completion_times.items()}\n",
    "\n",
    "each_epoch_each_result_computation_completion_times\n",
    "global_computation_completion_times"
   ]
  },
  {
   "cell_type": "code",
   "execution_count": null,
   "id": "967369f1",
   "metadata": {},
   "outputs": [],
   "source": [
    "from pyphoplacecellanalysis.General.Batch.NonInteractiveProcessing import batch_evaluate_required_computations\n",
    "\n",
    "# force_recompute_global = force_reload\n",
    "force_recompute_global = True\n",
    "active_probe_includelist = extended_computations_include_includelist\n",
    "# active_probe_includelist = ['lap_direction_determination']\n",
    "needs_computation_output_dict, valid_computed_results_output_list, remaining_include_function_names = batch_evaluate_required_computations(curr_active_pipeline, include_includelist=active_probe_includelist, include_global_functions=True, fail_on_exception=False, progress_print=True,\n",
    "\t\t\t\t\t\t\t\t\t\t\t\t\tforce_recompute=force_recompute_global, force_recompute_override_computations_includelist=force_recompute_override_computations_includelist, debug_print=False)\n",
    "needs_computation_output_dict\n",
    "# valid_computed_results_output_list\n",
    "# remaining_include_function_names"
   ]
  },
  {
   "cell_type": "code",
   "execution_count": null,
   "id": "5d9aeeda",
   "metadata": {},
   "outputs": [],
   "source": [
    "['merged_directional_placefields', ]\n",
    "\n",
    "['long_short_decoding_analyses', 'long_short_fr_indicies_analyses', 'jonathan_firing_rate_analysis', 'extended_stats']"
   ]
  },
  {
   "cell_type": "code",
   "execution_count": null,
   "id": "85822a88",
   "metadata": {},
   "outputs": [],
   "source": [
    "replay_estimation_parameters = curr_active_pipeline.sess.config.preprocessing_parameters.epoch_estimation_parameters.replays\n",
    "assert replay_estimation_parameters is not None\n",
    "replay_estimation_parameters"
   ]
  },
  {
   "cell_type": "code",
   "execution_count": null,
   "id": "3799ab99",
   "metadata": {},
   "outputs": [],
   "source": [
    "\n",
    "recompute_earlier_than_date = datetime(2024, 4, 1, 0, 0, 0)\n",
    "recompute_earlier_than_date\n",
    "\n",
    "each_epoch_needing_recompute = [an_epoch for an_epoch, last_computed_datetime in each_epoch_latest_computation_time.items() if (last_computed_datetime < recompute_earlier_than_date)]\n",
    "each_epoch_needing_recompute\n",
    "each_epoch_each_result_needing_recompute = {an_epoch:{a_computation_name:last_computed_datetime for a_computation_name, last_computed_datetime in last_computed_datetimes_dict.items() if (last_computed_datetime < recompute_earlier_than_date)} for an_epoch, last_computed_datetimes_dict in each_epoch_each_result_computation_completion_times.items()}\n",
    "each_epoch_each_result_needing_recompute"
   ]
  },
  {
   "cell_type": "code",
   "execution_count": null,
   "id": "7d7ffa0a",
   "metadata": {},
   "outputs": [],
   "source": [
    "curr_active_pipeline.global_computation_results.computation_times\n",
    "curr_active_pipeline.global_computation_results\n",
    "# curr_active_pipeline.try_load_split_pickled_global_computation_results\n",
    "\n",
    "global_computation_times = deepcopy(curr_active_pipeline.global_computation_results.computation_times.to_dict()) # DynamicParameters({'perform_rank_order_shuffle_analysis': datetime.datetime(2024, 4, 3, 5, 41, 31, 287680), '_decode_continuous_using_directional_decoders': datetime.datetime(2024, 4, 3, 5, 12, 7, 337326), '_perform_long_short_decoding_analyses': datetime.datetime(2024, 4, 3, 5, 43, 10, 361685), '_perform_long_short_pf_overlap_analyses': datetime.datetime(2024, 4, 3, 5, 43, 10, 489296), '_perform_long_short_firing_rate_analyses': datetime.datetime(2024, 4, 3, 5, 45, 3, 73472), '_perform_jonathan_replay_firing_rate_analyses': datetime.datetime(2024, 4, 3, 5, 45, 5, 168790), '_perform_long_short_post_decoding_analysis': datetime.datetime(2024, 2, 16, 18, 13, 4, 734621), '_perform_long_short_endcap_analysis': datetime.datetime(2024, 4, 3, 5, 45, 24, 274261), '_decode_and_evaluate_epochs_using_directional_decoders': datetime.datetime(2024, 4, 3, 5, 14, 37, 935482), '_perform_long_short_instantaneous_spike_rate_groups_analysis': datetime.datetime(2024, 4, 3, 5, 45, 24, 131955), '_split_to_directional_laps': datetime.datetime(2024, 4, 3, 5, 11, 22, 627789), '_build_merged_directional_placefields': datetime.datetime(2024, 4, 3, 5, 11, 28, 376078)})\n",
    "global_computation_times"
   ]
  },
  {
   "cell_type": "markdown",
   "id": "693db067",
   "metadata": {},
   "source": [
    "# 0️⃣ Pho Interactive Pipeline Jupyter Widget"
   ]
  },
  {
   "cell_type": "code",
   "execution_count": null,
   "id": "e275e3bb",
   "metadata": {
    "notebookRunGroups": {
     "groupValue": "1"
    }
   },
   "outputs": [],
   "source": [
    "import ipywidgets as widgets\n",
    "from IPython.display import display\n",
    "from pyphocorehelpers.Filesystem.open_in_system_file_manager import reveal_in_system_file_manager\n",
    "from pyphoplacecellanalysis.GUI.IPyWidgets.pipeline_ipywidgets import interactive_pipeline_widget, interactive_pipeline_files\n",
    "\n",
    "_pipeline_jupyter_widget = interactive_pipeline_widget(curr_active_pipeline=curr_active_pipeline)\n",
    "# display(_pipeline_jupyter_widget)\n",
    "_pipeline_jupyter_widget"
   ]
  },
  {
   "cell_type": "markdown",
   "id": "1fe54599",
   "metadata": {},
   "source": [
    "# 1️⃣ End Run"
   ]
  },
  {
   "cell_type": "code",
   "execution_count": 7,
   "id": "1a533ba8",
   "metadata": {
    "ExecuteTime": {
     "end_time": "2023-11-16T23:21:40.700275900Z",
     "start_time": "2023-11-16T23:21:40.584273Z"
    },
    "notebookRunGroups": {
     "groupValue": "1"
    }
   },
   "outputs": [
    {
     "data": {
      "text/plain": [
       "(0.0, 1211.5580800310709, 2093.8978568242164)"
      ]
     },
     "execution_count": 7,
     "metadata": {},
     "output_type": "execute_result"
    }
   ],
   "source": [
    "# (long_one_step_decoder_1D, short_one_step_decoder_1D), (long_one_step_decoder_2D, short_one_step_decoder_2D) = compute_short_long_constrained_decoders(curr_active_pipeline, recalculate_anyway=True)\n",
    "long_epoch_name, short_epoch_name, global_epoch_name = curr_active_pipeline.find_LongShortGlobal_epoch_names()\n",
    "long_epoch_context, short_epoch_context, global_epoch_context = [curr_active_pipeline.filtered_contexts[a_name] for a_name in (long_epoch_name, short_epoch_name, global_epoch_name)]\n",
    "long_epoch_obj, short_epoch_obj = [Epoch(curr_active_pipeline.sess.epochs.to_dataframe().epochs.label_slice(an_epoch_name.removesuffix('_any'))) for an_epoch_name in [long_epoch_name, short_epoch_name]] #TODO 2023-11-10 20:41: - [ ] Issue with getting actual Epochs from sess.epochs for directional laps: emerges because long_epoch_name: 'maze1_any' and the actual epoch label in curr_active_pipeline.sess.epochs is 'maze1' without the '_any' part.\n",
    "long_session, short_session, global_session = [curr_active_pipeline.filtered_sessions[an_epoch_name] for an_epoch_name in [long_epoch_name, short_epoch_name, global_epoch_name]]\n",
    "long_results, short_results, global_results = [curr_active_pipeline.computation_results[an_epoch_name].computed_data for an_epoch_name in [long_epoch_name, short_epoch_name, global_epoch_name]]\n",
    "long_computation_config, short_computation_config, global_computation_config = [curr_active_pipeline.computation_results[an_epoch_name].computation_config for an_epoch_name in [long_epoch_name, short_epoch_name, global_epoch_name]]\n",
    "long_pf1D, short_pf1D, global_pf1D = long_results.pf1D, short_results.pf1D, global_results.pf1D\n",
    "long_pf2D, short_pf2D, global_pf2D = long_results.pf2D, short_results.pf2D, global_results.pf2D\n",
    "\n",
    "assert short_epoch_obj.n_epochs > 0, f'long_epoch_obj: {long_epoch_obj}, short_epoch_obj: {short_epoch_obj}'\n",
    "assert long_epoch_obj.n_epochs > 0, f'long_epoch_obj: {long_epoch_obj}, short_epoch_obj: {short_epoch_obj}'\n",
    "\n",
    "t_start, t_delta, t_end = curr_active_pipeline.find_LongShortDelta_times()\n",
    "t_start, t_delta, t_end"
   ]
  },
  {
   "cell_type": "code",
   "execution_count": 8,
   "id": "5e348e0c",
   "metadata": {
    "notebookRunGroups": {
     "groupValue": "1"
    }
   },
   "outputs": [
    {
     "name": "stderr",
     "output_type": "stream",
     "text": [
      "C:\\Users\\pho\\repos\\Spike3DWorkEnv\\pyPhoPlaceCellAnalysis\\src\\pyphoplacecellanalysis\\General\\Pipeline\\Stages\\ComputationFunctions\\MultiContextComputationFunctions\\DirectionalPlacefieldGlobalComputationFunctions.py:1918: ConstantInputWarning: An input array is constant; the correlation coefficient is not defined.\n",
      "  a_pearson_v = pearsonr(_an_arr[0], _an_arr[1]).statistic #ValueError: x and y must have length at least 2.\n",
      "C:\\Users\\pho\\repos\\Spike3DWorkEnv\\pyPhoPlaceCellAnalysis\\src\\pyphoplacecellanalysis\\General\\Pipeline\\Stages\\ComputationFunctions\\MultiContextComputationFunctions\\DirectionalPlacefieldGlobalComputationFunctions.py:1918: ConstantInputWarning: An input array is constant; the correlation coefficient is not defined.\n",
      "  a_pearson_v = pearsonr(_an_arr[0], _an_arr[1]).statistic #ValueError: x and y must have length at least 2.\n"
     ]
    },
    {
     "name": "stdout",
     "output_type": "stream",
     "text": [
      "WARNING: hit NaN a_pearson_v: nan for a_peak_x_col_name: long_LR_pf_peak_x, a_decoder_neuron_IDs: [  3   5   7   9  10  11  14  15  16  19  31  32  33  35  36  37  41  45  48  49  50  53  55  59  60  61  62  64  71  73  75  76  78  83  84  85  86  88  90  92  93  98 102 107 108], min_num_required_unique_aclus: 14\n",
      "WARNING: hit NaN a_pearson_v: nan for a_peak_x_col_name: short_LR_pf_peak_x, a_decoder_neuron_IDs: [  3   5   7   9  10  11  14  15  16  19  31  32  33  35  36  37  41  45  48  49  50  53  55  59  60  61  62  64  71  73  75  76  78  83  84  85  86  88  90  92  93  98 102 107 108], min_num_required_unique_aclus: 14\n"
     ]
    }
   ],
   "source": [
    "# directional_merged_decoders_result = deepcopy(directional_decoders_epochs_decode_result)\n",
    "from pyphoplacecellanalysis.General.Pipeline.Stages.ComputationFunctions.MultiContextComputationFunctions.DirectionalPlacefieldGlobalComputationFunctions import DirectionalPseudo2DDecodersResult\n",
    "\n",
    "spikes_df = deepcopy(curr_active_pipeline.sess.spikes_df)\n",
    "\n",
    "global_computation_results = curr_active_pipeline.global_computation_results\n",
    "\n",
    " # spikes_df = curr_active_pipeline.sess.spikes_df\n",
    "rank_order_results = global_computation_results.computed_data['RankOrder'] # : \"RankOrderComputationsContainer\"\n",
    "minimum_inclusion_fr_Hz: float = rank_order_results.minimum_inclusion_fr_Hz\n",
    "# included_qclu_values: List[int] = rank_order_results.included_qclu_values\n",
    "directional_laps_results: DirectionalLapsResult = global_computation_results.computed_data['DirectionalLaps']\n",
    "track_templates: TrackTemplates = directional_laps_results.get_templates(minimum_inclusion_fr_Hz=minimum_inclusion_fr_Hz) # non-shared-only -- !! Is minimum_inclusion_fr_Hz=None the issue/difference?\n",
    "# print(f'minimum_inclusion_fr_Hz: {minimum_inclusion_fr_Hz}')\n",
    "# print(f'included_qclu_values: {included_qclu_values}')\n",
    "\n",
    "# DirectionalMergedDecoders: Get the result after computation:\n",
    "directional_merged_decoders_result: DirectionalPseudo2DDecodersResult = global_computation_results.computed_data['DirectionalMergedDecoders']\n",
    "ripple_decoding_time_bin_size: float = directional_merged_decoders_result.ripple_decoding_time_bin_size\n",
    "laps_decoding_time_bin_size: float = directional_merged_decoders_result.laps_decoding_time_bin_size\n",
    "# pos_bin_size = _recover_position_bin_size(track_templates.get_decoders()[0]) # 3.793023081021702\n",
    "# print(f'laps_decoding_time_bin_size: {laps_decoding_time_bin_size}, ripple_decoding_time_bin_size: {ripple_decoding_time_bin_size}, pos_bin_size: {pos_bin_size}')\n",
    "# pos_bin_size: float = directional_decoders_epochs_decode_result.pos_bin_size\n",
    "\n",
    "## Simple Pearson Correlation\n",
    "assert spikes_df is not None\n",
    "(laps_simple_pf_pearson_merged_df, ripple_simple_pf_pearson_merged_df), corr_column_names = directional_merged_decoders_result.compute_simple_spike_time_v_pf_peak_x_by_epoch(track_templates=track_templates, spikes_df=deepcopy(spikes_df))\n",
    "## OUTPUTS: (laps_simple_pf_pearson_merged_df, ripple_simple_pf_pearson_merged_df), corr_column_names\n",
    "## Computes the highest-valued decoder for this score:\n",
    "best_decoder_index_col_name: str = 'best_decoder_index'\n",
    "laps_simple_pf_pearson_merged_df[best_decoder_index_col_name] = laps_simple_pf_pearson_merged_df[corr_column_names].abs().apply(lambda row: np.argmax(row.values), axis=1)\n",
    "ripple_simple_pf_pearson_merged_df[best_decoder_index_col_name] = ripple_simple_pf_pearson_merged_df[corr_column_names].abs().apply(lambda row: np.argmax(row.values), axis=1)\n"
   ]
  },
  {
   "cell_type": "code",
   "execution_count": 9,
   "id": "0eed3e0c",
   "metadata": {
    "notebookRunGroups": {
     "groupValue": "1"
    }
   },
   "outputs": [
    {
     "name": "stdout",
     "output_type": "stream",
     "text": [
      "len(active_epochs_df): 611\n",
      "min_num_unique_aclu_inclusions: 15\n",
      "len(active_epochs_df): 345\n",
      "pos_bin_size: 3.793023081021702\n",
      "ripple_decoding_time_bin_size: 0.025\n",
      "laps_decoding_time_bin_size: 0.25\n"
     ]
    }
   ],
   "source": [
    "from pyphoplacecellanalysis.Analysis.Decoder.reconstruction import DecodedFilterEpochsResult, SingleEpochDecodedResult\n",
    "from pyphoplacecellanalysis.General.Pipeline.Stages.ComputationFunctions.MultiContextComputationFunctions.DirectionalPlacefieldGlobalComputationFunctions import DecoderDecodedEpochsResult\n",
    "\n",
    "directional_decoders_epochs_decode_result: DecoderDecodedEpochsResult = curr_active_pipeline.global_computation_results.computed_data['DirectionalDecodersEpochsEvaluations']\n",
    "directional_decoders_epochs_decode_result.add_all_extra_epoch_columns(curr_active_pipeline, track_templates=track_templates, required_min_percentage_of_active_cells=0.33333333, debug_print=False)\n",
    "\n",
    "pos_bin_size: float = directional_decoders_epochs_decode_result.pos_bin_size\n",
    "ripple_decoding_time_bin_size: float = directional_decoders_epochs_decode_result.ripple_decoding_time_bin_size\n",
    "laps_decoding_time_bin_size: float = directional_decoders_epochs_decode_result.laps_decoding_time_bin_size\n",
    "decoder_laps_filter_epochs_decoder_result_dict: Dict[str, DecodedFilterEpochsResult] = directional_decoders_epochs_decode_result.decoder_laps_filter_epochs_decoder_result_dict\n",
    "decoder_ripple_filter_epochs_decoder_result_dict: Dict[str, DecodedFilterEpochsResult] = directional_decoders_epochs_decode_result.decoder_ripple_filter_epochs_decoder_result_dict\n",
    "\n",
    "print(f'pos_bin_size: {pos_bin_size}')\n",
    "print(f'ripple_decoding_time_bin_size: {ripple_decoding_time_bin_size}')\n",
    "print(f'laps_decoding_time_bin_size: {laps_decoding_time_bin_size}')\n",
    "\n",
    "# Radon Transforms:\n",
    "decoder_laps_radon_transform_df_dict = directional_decoders_epochs_decode_result.decoder_laps_radon_transform_df_dict\n",
    "decoder_ripple_radon_transform_df_dict = directional_decoders_epochs_decode_result.decoder_ripple_radon_transform_df_dict\n",
    "decoder_laps_radon_transform_extras_dict = directional_decoders_epochs_decode_result.decoder_laps_radon_transform_extras_dict\n",
    "decoder_ripple_radon_transform_extras_dict = directional_decoders_epochs_decode_result.decoder_ripple_radon_transform_extras_dict\n",
    "\n",
    "# Weighted correlations:\n",
    "laps_weighted_corr_merged_df: pd.DataFrame = directional_decoders_epochs_decode_result.laps_weighted_corr_merged_df\n",
    "ripple_weighted_corr_merged_df: pd.DataFrame = directional_decoders_epochs_decode_result.ripple_weighted_corr_merged_df\n",
    "decoder_laps_weighted_corr_df_dict: Dict[str, pd.DataFrame] = directional_decoders_epochs_decode_result.decoder_laps_weighted_corr_df_dict\n",
    "decoder_ripple_weighted_corr_df_dict: Dict[str, pd.DataFrame] = directional_decoders_epochs_decode_result.decoder_ripple_weighted_corr_df_dict\n",
    "\n",
    "# Pearson's correlations:\n",
    "laps_simple_pf_pearson_merged_df: pd.DataFrame = directional_decoders_epochs_decode_result.laps_simple_pf_pearson_merged_df\n",
    "ripple_simple_pf_pearson_merged_df: pd.DataFrame = directional_decoders_epochs_decode_result.ripple_simple_pf_pearson_merged_df\n",
    "\n",
    "# laps_simple_pf_pearson_merged_df\n",
    "# ripple_simple_pf_pearson_merged_df\n",
    "\n",
    "## Drop rows where all are missing\n",
    "corr_column_names = ['long_LR_pf_peak_x_pearsonr', 'long_RL_pf_peak_x_pearsonr', 'short_LR_pf_peak_x_pearsonr', 'short_RL_pf_peak_x_pearsonr']\n",
    "# ripple_simple_pf_pearson_merged_df.dropna(subset=corr_column_names, axis='index', how='all') # 350/412 rows\n",
    "filtered_laps_simple_pf_pearson_merged_df: pd.DataFrame = laps_simple_pf_pearson_merged_df.dropna(subset=corr_column_names, axis='index', how='any') # 320/412 rows\n",
    "filtered_ripple_simple_pf_pearson_merged_df: pd.DataFrame = ripple_simple_pf_pearson_merged_df.dropna(subset=corr_column_names, axis='index', how='any') # 320/412 rows\n",
    "\n",
    "## Update the `decoder_ripple_filter_epochs_decoder_result_dict` with the included epochs:\n",
    "# decoder_ripple_filter_epochs_decoder_result_dict: Dict[str, DecodedFilterEpochsResult] = {a_name:decoder_ripple_filter_epochs_decoder_result_dict[a_name].filtered_by_epochs(filtered_ripple_simple_pf_pearson_merged_df.index) for a_name, a_df in decoder_ripple_filter_epochs_decoder_result_dict.items()}\n",
    "# decoder_laps_filter_epochs_decoder_result_dict: Dict[str, DecodedFilterEpochsResult] = {a_name:decoder_laps_filter_epochs_decoder_result_dict[a_name].filtered_by_epochs(filtered_laps_simple_pf_pearson_merged_df.index) for a_name, a_df in decoder_laps_filter_epochs_decoder_result_dict.items()}\n",
    "# decoder_ripple_filter_epochs_decoder_result_dict: Dict[str, DecodedFilterEpochsResult] = {a_name:decoder_ripple_filter_epochs_decoder_result_dict[a_name].filtered_by_epoch_times(filtered_ripple_simple_pf_pearson_merged_df[['start', 'stop']].to_numpy()) for a_name, a_df in decoder_ripple_filter_epochs_decoder_result_dict.items()}\n",
    "# decoder_laps_filter_epochs_decoder_result_dict: Dict[str, DecodedFilterEpochsResult] = {a_name:decoder_laps_filter_epochs_decoder_result_dict[a_name].filtered_by_epoch_times(filtered_laps_simple_pf_pearson_merged_df[['start', 'stop']].to_numpy()) for a_name, a_df in decoder_laps_filter_epochs_decoder_result_dict.items()}\n",
    "# decoder_ripple_filter_epochs_decoder_result_dict: Dict[str, DecodedFilterEpochsResult] = {a_name:decoder_ripple_filter_epochs_decoder_result_dict[a_name].filtered_by_epoch_times(filtered_ripple_simple_pf_pearson_merged_df['start'].to_numpy()) for a_name, a_df in decoder_ripple_filter_epochs_decoder_result_dict.items()}\n",
    "# decoder_laps_filter_epochs_decoder_result_dict: Dict[str, DecodedFilterEpochsResult] = {a_name:decoder_laps_filter_epochs_decoder_result_dict[a_name].filtered_by_epoch_times(filtered_laps_simple_pf_pearson_merged_df['start'].to_numpy()) for a_name, a_df in decoder_laps_filter_epochs_decoder_result_dict.items()}\n"
   ]
  },
  {
   "cell_type": "code",
   "execution_count": 10,
   "id": "1a593338",
   "metadata": {
    "notebookRunGroups": {
     "groupValue": "1"
    }
   },
   "outputs": [
    {
     "name": "stdout",
     "output_type": "stream",
     "text": [
      "build_complete_all_scores_merged_df(...):\n",
      "needs Marginalized Probability columns. adding.\n",
      "\t\tsuccessfully exported directional_decoders_epochs_decode_result to K:\\scratch\\collected_outputs!\n",
      "\t\t\tCSV Paths: laps_weighted_corr_merged_df: \"file:///K:/scratch/collected_outputs/2024-08-28_0840AM-kdiba_gor01_one_2006-6-08_14-26-15-%28laps_weighted_corr_merged_df%29_tbin-0.25.csv\"\n",
      "ripple_weighted_corr_merged_df: \"file:///K:/scratch/collected_outputs/2024-08-28_0840AM-kdiba_gor01_one_2006-6-08_14-26-15-%28ripple_weighted_corr_merged_df%29_tbin-0.025.csv\"\n",
      "laps_simple_pf_pearson_merged_df: \"file:///K:/scratch/collected_outputs/2024-08-28_0840AM-kdiba_gor01_one_2006-6-08_14-26-15-%28laps_simple_pf_pearson_merged_df%29_tbin-0.25.csv\"\n",
      "ripple_simple_pf_pearson_merged_df: \"file:///K:/scratch/collected_outputs/2024-08-28_0840AM-kdiba_gor01_one_2006-6-08_14-26-15-%28ripple_simple_pf_pearson_merged_df%29_tbin-0.025.csv\"\n",
      "ripple_all_scores_merged_df: \"file:///K:/scratch/collected_outputs/2024-08-28_0840AM-kdiba_gor01_one_2006-6-08_14-26-15-%28ripple_all_scores_merged_df%29_tbin-0.025.csv\"\n",
      "\n"
     ]
    }
   ],
   "source": [
    "## INPUTS: collected_outputs_path, directional_decoders_epochs_decode_result\n",
    "\n",
    "active_context = curr_active_pipeline.get_session_context()\n",
    "## add the additional contexts:\n",
    "# active_context = active_context.adding_context_if_missing(custom_replay_name='TESTNEW', time_bin_size=directional_decoders_epochs_decode_result.ripple_decoding_time_bin_size)\n",
    "# additional_session_context = None\n",
    "# try:\n",
    "# \tif custom_suffix is not None:\n",
    "# \t\tadditional_session_context = IdentifyingContext(custom_suffix=custom_suffix)\n",
    "# \t\tprint(f'Using custom suffix: \"{custom_suffix}\" - additional_session_context: \"{additional_session_context}\"')\n",
    "# except NameError as err:\n",
    "# \tadditional_session_context = None\n",
    "# \tprint(f'NO CUSTOM SUFFIX.')    \n",
    "\t\n",
    "\n",
    "## Export CSVs:\n",
    "t_start, t_delta, t_end = curr_active_pipeline.find_LongShortDelta_times()\n",
    "_output_csv_paths = directional_decoders_epochs_decode_result.export_csvs(parent_output_path=collected_outputs_path, active_context=active_context, session_name=curr_session_name, curr_session_t_delta=t_delta,\n",
    "\t\t\t\t\t\t\t\t\t\t\t\t\t\t\t\t\t\t\t# user_annotation_selections={'ripple': any_good_selected_epoch_times},\n",
    "\t\t\t\t\t\t\t\t\t\t\t\t\t\t\t\t\t\t\t# valid_epochs_selections={'ripple': filtered_valid_epoch_times},\n",
    "\t\t\t\t\t\t\t\t\t\t\t\t\t\t\t\t\t\t\t)\n",
    "\n",
    "\n",
    "print(f'\\t\\tsuccessfully exported directional_decoders_epochs_decode_result to {collected_outputs_path}!')\n",
    "_output_csv_paths_info_str: str = '\\n'.join([f'{a_name}: \"{file_uri_from_path(a_path)}\"' for a_name, a_path in _output_csv_paths.items()])\n",
    "# print(f'\\t\\t\\tCSV Paths: {_output_csv_paths}\\n')\n",
    "print(f'\\t\\t\\tCSV Paths: {_output_csv_paths_info_str}\\n')\n",
    "\n",
    "\n"
   ]
  },
  {
   "cell_type": "code",
   "execution_count": 11,
   "id": "92b35196",
   "metadata": {},
   "outputs": [
    {
     "data": {
      "text/plain": [
       "Context(format_name: 'kdiba', animal: 'gor01', exper_name: 'one', session_name: '2006-6-08_14-26-15')"
      ]
     },
     "execution_count": 11,
     "metadata": {},
     "output_type": "execute_result"
    },
    {
     "name": "stdout",
     "output_type": "stream",
     "text": [
      "2006-6-08_14-26-15:\tt_start: 0.0, t_delta: 1211.5580800310709, t_end: 2093.8978568242164\n"
     ]
    }
   ],
   "source": [
    "# I have several python variables I want to print: t_start, t_delta, t_end\n",
    "# I want to generate a print statement that explicitly lists the variable name prior to its value like `print(f't_start: {t_start}, t_delta: {t_delta}, t_end: {t_end}')`\n",
    "# Currently I have to t_start, t_delta, t_end\n",
    "curr_active_pipeline.get_session_context()\n",
    "\n",
    "print(f'{curr_active_pipeline.session_name}:\\tt_start: {t_start}, t_delta: {t_delta}, t_end: {t_end}')"
   ]
  },
  {
   "cell_type": "code",
   "execution_count": 12,
   "id": "9071e94f",
   "metadata": {
    "ExecuteTime": {
     "end_time": "2023-11-16T23:21:43.601382Z",
     "start_time": "2023-11-16T23:21:40.702275600Z"
    },
    "notebookRunGroups": {
     "groupValue": "1"
    }
   },
   "outputs": [
    {
     "name": "stdout",
     "output_type": "stream",
     "text": [
      "WARN: 2023-09-28 16:15: - [ ] fix the combination properties. Would work if we directly used the computed _is_L_only and _is_S_only above\n",
      "WARNING: PAPER_FIGURE_figure_1_add_replay_epoch_rasters(...): no user-assigned manually labeled replay epochs. Reeturning all epochs.\n",
      "WARN: 2023-09-28 16:15: - [ ] fix the combination properties. Would work if we directly used the computed _is_L_only and _is_S_only above\n"
     ]
    }
   ],
   "source": [
    "## long_short_decoding_analyses:\n",
    "from attrs import astuple\n",
    "from pyphoplacecellanalysis.General.Pipeline.Stages.ComputationFunctions.MultiContextComputationFunctions.LongShortTrackComputations import LeaveOneOutDecodingAnalysis\n",
    "\n",
    "curr_long_short_decoding_analyses: LeaveOneOutDecodingAnalysis = curr_active_pipeline.global_computation_results.computed_data['long_short_leave_one_out_decoding_analysis']\n",
    "long_one_step_decoder_1D, short_one_step_decoder_1D, long_replays, short_replays, global_replays, long_shared_aclus_only_decoder, short_shared_aclus_only_decoder, shared_aclus, long_short_pf_neurons_diff, n_neurons, long_results_obj, short_results_obj, is_global = curr_long_short_decoding_analyses.long_decoder, curr_long_short_decoding_analyses.short_decoder, curr_long_short_decoding_analyses.long_replays, curr_long_short_decoding_analyses.short_replays, curr_long_short_decoding_analyses.global_replays, curr_long_short_decoding_analyses.long_shared_aclus_only_decoder, curr_long_short_decoding_analyses.short_shared_aclus_only_decoder, curr_long_short_decoding_analyses.shared_aclus, curr_long_short_decoding_analyses.long_short_pf_neurons_diff, curr_long_short_decoding_analyses.n_neurons, curr_long_short_decoding_analyses.long_results_obj, curr_long_short_decoding_analyses.short_results_obj, curr_long_short_decoding_analyses.is_global \n",
    "decoding_time_bin_size = long_one_step_decoder_1D.time_bin_size # 1.0/30.0 # 0.03333333333333333\n",
    "\n",
    "## Get global `long_short_fr_indicies_analysis`:\n",
    "long_short_fr_indicies_analysis_results = curr_active_pipeline.global_computation_results.computed_data['long_short_fr_indicies_analysis']\n",
    "long_laps, long_replays, short_laps, short_replays, global_laps, global_replays = [long_short_fr_indicies_analysis_results[k] for k in ['long_laps', 'long_replays', 'short_laps', 'short_replays', 'global_laps', 'global_replays']]\n",
    "long_short_fr_indicies_df = long_short_fr_indicies_analysis_results['long_short_fr_indicies_df']\n",
    "\n",
    "## Get global 'long_short_post_decoding' results:\n",
    "curr_long_short_post_decoding = curr_active_pipeline.global_computation_results.computed_data['long_short_post_decoding']\n",
    "expected_v_observed_result, curr_long_short_rr = curr_long_short_post_decoding.expected_v_observed_result, curr_long_short_post_decoding.rate_remapping\n",
    "rate_remapping_df, high_remapping_cells_only = curr_long_short_rr.rr_df, curr_long_short_rr.high_only_rr_df\n",
    "Flat_epoch_time_bins_mean, Flat_decoder_time_bin_centers, num_neurons, num_timebins_in_epoch, num_total_flat_timebins, is_short_track_epoch, is_long_track_epoch, short_short_diff, long_long_diff = expected_v_observed_result.Flat_epoch_time_bins_mean, expected_v_observed_result.Flat_decoder_time_bin_centers, expected_v_observed_result.num_neurons, expected_v_observed_result.num_timebins_in_epoch, expected_v_observed_result.num_total_flat_timebins, expected_v_observed_result.is_short_track_epoch, expected_v_observed_result.is_long_track_epoch, expected_v_observed_result.short_short_diff, expected_v_observed_result.long_long_diff\n",
    "\n",
    "jonathan_firing_rate_analysis_result: JonathanFiringRateAnalysisResult = curr_active_pipeline.global_computation_results.computed_data.jonathan_firing_rate_analysis\n",
    "(epochs_df_L, epochs_df_S), (filter_epoch_spikes_df_L, filter_epoch_spikes_df_S), (good_example_epoch_indicies_L, good_example_epoch_indicies_S), (short_exclusive, long_exclusive, BOTH_subset, EITHER_subset, XOR_subset, NEITHER_subset), new_all_aclus_sort_indicies, assigning_epochs_obj = PAPER_FIGURE_figure_1_add_replay_epoch_rasters(curr_active_pipeline)\n",
    "neuron_replay_stats_df, short_exclusive, long_exclusive, BOTH_subset, EITHER_subset, XOR_subset, NEITHER_subset = jonathan_firing_rate_analysis_result.get_cell_track_partitions(frs_index_inclusion_magnitude=0.05)\n",
    "\n",
    "## Update long_exclusive/short_exclusive properties with `long_short_fr_indicies_df`\n",
    "# long_exclusive.refine_exclusivity_by_inst_frs_index(long_short_fr_indicies_df, frs_index_inclusion_magnitude=0.5)\n",
    "# short_exclusive.refine_exclusivity_by_inst_frs_index(long_short_fr_indicies_df, frs_index_inclusion_magnitude=0.5)\n"
   ]
  },
  {
   "cell_type": "code",
   "execution_count": 13,
   "id": "c49f5d4f",
   "metadata": {
    "notebookRunGroups": {
     "groupValue": "1"
    }
   },
   "outputs": [],
   "source": [
    "# Unpack all directional variables:\n",
    "## {\"even\": \"RL\", \"odd\": \"LR\"}\n",
    "long_LR_name, short_LR_name, global_LR_name, long_RL_name, short_RL_name, global_RL_name, long_any_name, short_any_name, global_any_name = ['maze1_odd', 'maze2_odd', 'maze_odd', 'maze1_even', 'maze2_even', 'maze_even', 'maze1_any', 'maze2_any', 'maze_any']\n",
    "\n",
    "# Most popular\n",
    "# long_LR_name, short_LR_name, long_RL_name, short_RL_name, global_any_name\n",
    "\n",
    "# Unpacking for `(long_LR_name, long_RL_name, short_LR_name, short_RL_name)`\n",
    "(long_LR_context, long_RL_context, short_LR_context, short_RL_context) = [curr_active_pipeline.filtered_contexts[a_name] for a_name in (long_LR_name, long_RL_name, short_LR_name, short_RL_name)]\n",
    "long_LR_epochs_obj, long_RL_epochs_obj, short_LR_epochs_obj, short_RL_epochs_obj, global_any_laps_epochs_obj = [curr_active_pipeline.computation_results[an_epoch_name].computation_config.pf_params.computation_epochs for an_epoch_name in (long_LR_name, long_RL_name, short_LR_name, short_RL_name, global_any_name)] # note has global also\n",
    "(long_LR_session, long_RL_session, short_LR_session, short_RL_session) = [curr_active_pipeline.filtered_sessions[an_epoch_name] for an_epoch_name in (long_LR_name, long_RL_name, short_LR_name, short_RL_name)] # sessions are correct at least, seems like just the computation parameters are messed up\n",
    "(long_LR_results, long_RL_results, short_LR_results, short_RL_results) = [curr_active_pipeline.computation_results[an_epoch_name].computed_data for an_epoch_name in (long_LR_name, long_RL_name, short_LR_name, short_RL_name)]\n",
    "(long_LR_computation_config, long_RL_computation_config, short_LR_computation_config, short_RL_computation_config) = [curr_active_pipeline.computation_results[an_epoch_name].computation_config for an_epoch_name in (long_LR_name, long_RL_name, short_LR_name, short_RL_name)]\n",
    "(long_LR_pf1D, long_RL_pf1D, short_LR_pf1D, short_RL_pf1D) = (long_LR_results.pf1D, long_RL_results.pf1D, short_LR_results.pf1D, short_RL_results.pf1D)\n",
    "(long_LR_pf2D, long_RL_pf2D, short_LR_pf2D, short_RL_pf2D) = (long_LR_results.pf2D, long_RL_results.pf2D, short_LR_results.pf2D, short_RL_results.pf2D)\n",
    "(long_LR_pf1D_Decoder, long_RL_pf1D_Decoder, short_LR_pf1D_Decoder, short_RL_pf1D_Decoder) = (long_LR_results.pf1D_Decoder, long_RL_results.pf1D_Decoder, short_LR_results.pf1D_Decoder, short_RL_results.pf1D_Decoder)\n"
   ]
  },
  {
   "cell_type": "code",
   "execution_count": 14,
   "id": "7104fc37",
   "metadata": {
    "notebookRunGroups": {
     "groupValue": "1"
    }
   },
   "outputs": [
    {
     "name": "stdout",
     "output_type": "stream",
     "text": [
      "minimum_inclusion_fr_Hz: 5.0\n",
      "included_qclu_values: [1, 2]\n"
     ]
    }
   ],
   "source": [
    "from pyphoplacecellanalysis.General.Pipeline.Stages.ComputationFunctions.MultiContextComputationFunctions.DirectionalPlacefieldGlobalComputationFunctions import DirectionalPseudo2DDecodersResult, DirectionalLapsResult, DirectionalDecodersContinuouslyDecodedResult\n",
    "\n",
    "directional_laps_results: DirectionalLapsResult = curr_active_pipeline.global_computation_results.computed_data['DirectionalLaps']\n",
    "directional_merged_decoders_result: DirectionalPseudo2DDecodersResult = curr_active_pipeline.global_computation_results.computed_data['DirectionalMergedDecoders']   \n",
    "rank_order_results: RankOrderComputationsContainer = curr_active_pipeline.global_computation_results.computed_data['RankOrder']\n",
    "minimum_inclusion_fr_Hz: float = rank_order_results.minimum_inclusion_fr_Hz\n",
    "included_qclu_values: float = rank_order_results.included_qclu_values\n",
    "print(f'minimum_inclusion_fr_Hz: {minimum_inclusion_fr_Hz}')\n",
    "print(f'included_qclu_values: {included_qclu_values}')"
   ]
  },
  {
   "cell_type": "code",
   "execution_count": 15,
   "id": "93346114",
   "metadata": {},
   "outputs": [
    {
     "name": "stdout",
     "output_type": "stream",
     "text": [
      "DEPRICATION WARNING: workaround to allow subscripting ComputationResult objects. Will be depricated. key: computed_data\n",
      "DEPRICATION WARNING: workaround to allow subscripting ComputationResult objects. Will be depricated. key: computed_data\n",
      "DEPRICATION WARNING: workaround to allow subscripting ComputationResult objects. Will be depricated. key: computed_data\n",
      "DEPRICATION WARNING: workaround to allow subscripting ComputationResult objects. Will be depricated. key: computed_data\n",
      "DEPRICATION WARNING: workaround to allow subscripting ComputationResult objects. Will be depricated. key: computed_data\n",
      "DEPRICATION WARNING: workaround to allow subscripting ComputationResult objects. Will be depricated. key: computed_data\n",
      "were pipeline preprocessing parameters missing and updated?: False\n"
     ]
    },
    {
     "data": {
      "text/plain": [
       "False"
      ]
     },
     "execution_count": 15,
     "metadata": {},
     "output_type": "execute_result"
    }
   ],
   "source": [
    "from pyphoplacecellanalysis.General.Batch.BatchJobCompletion.BatchCompletionHandler import BatchSessionCompletionHandler\n",
    "\n",
    "BatchSessionCompletionHandler.post_compute_validate(curr_active_pipeline=curr_active_pipeline)"
   ]
  },
  {
   "cell_type": "code",
   "execution_count": 16,
   "id": "0617e7a3",
   "metadata": {},
   "outputs": [
    {
     "data": {
      "text/plain": [
       "['maze1_odd', 'maze1_even', 'maze2_odd', 'maze2_even']"
      ]
     },
     "execution_count": 16,
     "metadata": {},
     "output_type": "execute_result"
    }
   ],
   "source": [
    "list(directional_laps_results.directional_lap_specific_configs.keys()) # ['maze1_odd', 'maze1_even', 'maze2_odd', 'maze2_even']\n"
   ]
  },
  {
   "cell_type": "code",
   "execution_count": 17,
   "id": "912656a7",
   "metadata": {
    "notebookRunGroups": {
     "groupValue": "1"
    }
   },
   "outputs": [
    {
     "name": "stdout",
     "output_type": "stream",
     "text": [
      "len(active_epochs_df): 611\n",
      "min_num_unique_aclu_inclusions: 15\n",
      "len(active_epochs_df): 345\n",
      "pos_bin_size = 3.793023081021702, ripple_decoding_time_bin_size = 0.025, laps_decoding_time_bin_size = 0.25\n"
     ]
    }
   ],
   "source": [
    "from pyphoplacecellanalysis.General.Pipeline.Stages.ComputationFunctions.MultiContextComputationFunctions.DirectionalPlacefieldGlobalComputationFunctions import DecoderDecodedEpochsResult\n",
    "\n",
    "\n",
    "if ('DirectionalDecodersEpochsEvaluations' in curr_active_pipeline.global_computation_results.computed_data) and (curr_active_pipeline.global_computation_results.computed_data['DirectionalDecodersEpochsEvaluations'] is not None):\n",
    "\tdirectional_decoders_epochs_decode_result: DecoderDecodedEpochsResult = curr_active_pipeline.global_computation_results.computed_data['DirectionalDecodersEpochsEvaluations']\n",
    "\tdirectional_decoders_epochs_decode_result.add_all_extra_epoch_columns(curr_active_pipeline, track_templates=track_templates, required_min_percentage_of_active_cells=0.33333333, debug_print=False)\n",
    "\n",
    "\t## UNPACK HERE via direct property access:\n",
    "\tpos_bin_size: float = directional_decoders_epochs_decode_result.pos_bin_size\n",
    "\tripple_decoding_time_bin_size: float = directional_decoders_epochs_decode_result.ripple_decoding_time_bin_size\n",
    "\tlaps_decoding_time_bin_size: float = directional_decoders_epochs_decode_result.laps_decoding_time_bin_size\n",
    "\tprint(f'{pos_bin_size = }, {ripple_decoding_time_bin_size = }, {laps_decoding_time_bin_size = }') # pos_bin_size = 3.8054171165052444, ripple_decoding_time_bin_size = 0.025, laps_decoding_time_bin_size = 0.2\n",
    "\tdecoder_laps_filter_epochs_decoder_result_dict = directional_decoders_epochs_decode_result.decoder_laps_filter_epochs_decoder_result_dict\n",
    "\tdecoder_ripple_filter_epochs_decoder_result_dict = directional_decoders_epochs_decode_result.decoder_ripple_filter_epochs_decoder_result_dict\n",
    "\tdecoder_laps_radon_transform_df_dict = directional_decoders_epochs_decode_result.decoder_laps_radon_transform_df_dict\n",
    "\tdecoder_ripple_radon_transform_df_dict = directional_decoders_epochs_decode_result.decoder_ripple_radon_transform_df_dict\n",
    "\n",
    "\t# New items:\n",
    "\tdecoder_laps_radon_transform_extras_dict = directional_decoders_epochs_decode_result.decoder_laps_radon_transform_extras_dict\n",
    "\tdecoder_ripple_radon_transform_extras_dict = directional_decoders_epochs_decode_result.decoder_ripple_radon_transform_extras_dict\n",
    "\n",
    "\t# Weighted correlations:\n",
    "\tlaps_weighted_corr_merged_df = directional_decoders_epochs_decode_result.laps_weighted_corr_merged_df\n",
    "\tripple_weighted_corr_merged_df = directional_decoders_epochs_decode_result.ripple_weighted_corr_merged_df\n",
    "\tdecoder_laps_weighted_corr_df_dict = directional_decoders_epochs_decode_result.decoder_laps_weighted_corr_df_dict\n",
    "\tdecoder_ripple_weighted_corr_df_dict = directional_decoders_epochs_decode_result.decoder_ripple_weighted_corr_df_dict\n",
    "\n",
    "\t# Pearson's correlations:\n",
    "\tlaps_simple_pf_pearson_merged_df = directional_decoders_epochs_decode_result.laps_simple_pf_pearson_merged_df\n",
    "\tripple_simple_pf_pearson_merged_df = directional_decoders_epochs_decode_result.ripple_simple_pf_pearson_merged_df"
   ]
  },
  {
   "cell_type": "code",
   "execution_count": 18,
   "id": "06f1c291",
   "metadata": {},
   "outputs": [
    {
     "data": {
      "text/plain": [
       "          start         stop label   duration  lap_id  lap_dir     score   velocity     intercept      speed     wcorr  P_decoder  pearsonr    travel  coverage      jump  sequential_correlation  monotonicity_score  laplacian_smoothness  longest_sequence_length  longest_sequence_length_ratio  direction_change_bin_ratio  congruent_dir_bins_ratio  total_congruent_direction_change  total_variation  integral_second_derivative  stddev_of_diff\n",
       "0      5.635867    17.447765     0  11.811898       1        1  0.310622   9.654968    311.831663   9.654968 -0.947302   0.847013 -0.720827  0.063191  0.368421  0.003338            1.949730e+05        1.949730e+05          1.949730e+05                       10                       0.212766                    0.217391                  0.608696                        417.232539       622.055785               136576.019716       32.222871\n",
       "1     31.862536    39.770308     1   7.907772       2        0  0.300046  -3.540155    107.798178   3.540155  0.716546   0.031743  0.635996  0.197332  0.368421  0.004089            5.935511e+05        5.935511e+05          5.935511e+05                        9                       0.290323                    0.333333                  0.466667                        739.639501      1266.869709               427927.644627       69.972338\n",
       "2    135.801698   144.175555     2   8.373857       3        1  0.431763  27.309766   3966.543953  27.309766 -0.987202   0.891211 -0.699018  0.037110  0.438596  0.000584            1.502005e+04        1.502005e+04          1.502005e+04                       24                       0.727273                    0.062500                  0.656250                        223.788362       254.132546                 5006.684384        8.988913\n",
       "3    161.458825   167.331790     3   5.872965       4        0  0.388200  -3.448203   -328.548743   3.448203  0.756807   0.000107  0.607422  0.085399  0.315789  0.002837            1.171679e+05        1.171679e+05          1.171679e+05                       12                       0.521739                    0.181818                  0.500000                        307.234870       402.060447                44340.808255       35.188567\n",
       "4    234.465983   239.806649     4   5.340666       5        1  0.359791  38.435967   9203.633134  38.435967 -0.954462   0.543686 -0.585466  0.037221  0.333333  0.000834            1.150962e+04        1.150962e+04          1.150962e+04                       11                       0.523810                    0.100000                  0.650000                        151.720923       159.306969                 3870.109481        9.588174\n",
       "5    255.120847   262.696165     5   7.575318       6        0  0.309527  -3.662229   -713.729780   3.662229  0.872290   0.030966  0.623825  0.084344  0.315789  0.002837            1.424891e+05        1.424891e+05          1.424891e+05                       15                       0.500000                    0.275862                  0.448276                        367.923239       523.437185                62151.944082       34.273992\n",
       "..          ...          ...   ...        ...     ...      ...       ...        ...           ...        ...       ...        ...       ...       ...       ...       ...                     ...                 ...                   ...                      ...                            ...                         ...                       ...                               ...              ...                         ...             ...\n",
       "74  1998.978809  2002.849139    74   3.870330      75        1  0.338067   2.167442   4383.294050   2.167442 -0.936386   0.130370 -0.689805  0.078494  0.315789  0.001419            3.625530e+04        3.625530e+04          3.625530e+04                       11                       0.733333                    0.142857                  0.571429                        193.444177       235.167431                19897.254321       23.021099\n",
       "75  2002.883510  2008.287350    75   5.403840      76        0  0.227334  -0.758605  -1476.724578   0.758605  0.787982   0.033553  0.597626  0.262321  0.368421  0.004256            5.027402e+05        5.027402e+05          5.027402e+05                        5                       0.238095                    0.400000                  0.650000                        667.572062      1122.734832               347086.956248       78.558627\n",
       "76  2019.131459  2024.905445    76   5.773986      77        1  0.398907   0.689641   1439.121103   0.689641 -0.914279   0.144107 -0.616940  0.058813  0.263158  0.001252            3.389583e+04        3.389583e+04          3.389583e+04                       17                       0.739130                    0.136364                  0.545455                        212.409293       276.890685                10588.849733       18.438215\n",
       "77  2026.006596  2031.378739    77   5.372143      78        0  0.238838  -6.068837 -12075.223245   6.068837  0.869058   0.025822  0.673396  0.141795  0.298246  0.002921            1.758670e+05        1.758670e+05          1.758670e+05                        3                       0.142857                    0.500000                  0.550000                        409.646493       606.883693                98349.696701       45.667746\n",
       "78  2037.617503  2042.288964    78   4.671461      79        1  0.305301   4.462380   9321.806640   4.462380 -0.950472   0.154513 -0.658931  0.072983  0.315789  0.001335            3.395338e+04        3.395338e+04          3.395338e+04                       11                       0.611111                    0.235294                  0.588235                        227.581385       265.511616                13207.288118       19.361279\n",
       "79  2057.637436  2068.848792    79  11.211356      80        0  0.435985  -0.000000     42.766924   0.000000  0.696159   0.003465  0.121059  0.228356  0.245614  0.004172            1.146818e+06        1.146818e+06          1.146818e+06                       10                       0.227273                    0.465116                  0.325581                       1153.079017      2101.334787               899045.135582       81.516010\n",
       "\n",
       "[80 rows x 27 columns]"
      ]
     },
     "execution_count": 18,
     "metadata": {},
     "output_type": "execute_result"
    }
   ],
   "source": [
    "decoder_laps_filter_epochs_decoder_result_dict['long_LR'].filter_epochs"
   ]
  },
  {
   "cell_type": "code",
   "execution_count": 19,
   "id": "881402df",
   "metadata": {},
   "outputs": [],
   "source": [
    "# active_config_name: str = 'maze_any'\n",
    "active_config_name: str = global_epoch_name\n",
    "## INPUTS: curr_active_pipeline, active_config_name\n",
    "active_peak_prominence_2d_results = curr_active_pipeline.computation_results[active_config_name].computed_data.get('RatemapPeaksAnalysis', {}).get('PeakProminence2D', None)\n",
    "if active_peak_prominence_2d_results is None:\n",
    "\tcurr_active_pipeline.perform_specific_computation(computation_functions_name_includelist=['ratemap_peaks_prominence2d'], enabled_filter_names=None, fail_on_exception=False, debug_print=False)\n",
    "\t# curr_active_pipeline.perform_specific_computation(computation_functions_name_includelist=['ratemap_peaks_prominence2d'], enabled_filter_names=[short_LR_name, short_RL_name, long_any_name, short_any_name], fail_on_exception=False, debug_print=False) # or at least\n",
    "\tactive_peak_prominence_2d_results = curr_active_pipeline.computation_results[active_config_name].computed_data.get('RatemapPeaksAnalysis', {}).get('PeakProminence2D', None)\n",
    "\tassert active_peak_prominence_2d_results is not None, f\"bad even after computation\"\n",
    "\n",
    "# active_peak_prominence_2d_results"
   ]
  },
  {
   "cell_type": "code",
   "execution_count": 20,
   "id": "238f67cb",
   "metadata": {
    "notebookRunGroups": {
     "groupValue": "1"
    }
   },
   "outputs": [
    {
     "name": "stdout",
     "output_type": "stream",
     "text": [
      "previously_decoded time_bin_sizes: [0.025]\n"
     ]
    }
   ],
   "source": [
    "from pyphoplacecellanalysis.General.Pipeline.Stages.ComputationFunctions.MultiContextComputationFunctions.DirectionalPlacefieldGlobalComputationFunctions import DirectionalDecodersContinuouslyDecodedResult\n",
    "\n",
    "if 'DirectionalDecodersDecoded' in curr_active_pipeline.global_computation_results.computed_data:\n",
    "\tdirectional_decoders_decode_result: DirectionalDecodersContinuouslyDecodedResult = curr_active_pipeline.global_computation_results.computed_data['DirectionalDecodersDecoded']\n",
    "\tall_directional_pf1D_Decoder_dict: Dict[str, BasePositionDecoder] = directional_decoders_decode_result.pf1D_Decoder_dict\n",
    "\tpseudo2D_decoder: BasePositionDecoder = directional_decoders_decode_result.pseudo2D_decoder\n",
    "\tspikes_df = directional_decoders_decode_result.spikes_df\n",
    "\tcontinuously_decoded_result_cache_dict = directional_decoders_decode_result.continuously_decoded_result_cache_dict\n",
    "\tpreviously_decoded_keys: List[float] = list(continuously_decoded_result_cache_dict.keys()) # [0.03333]\n",
    "\tprint(F'previously_decoded time_bin_sizes: {previously_decoded_keys}')\n"
   ]
  },
  {
   "cell_type": "code",
   "execution_count": 21,
   "id": "e7b4e959",
   "metadata": {
    "notebookRunGroups": {
     "groupValue": "1"
    }
   },
   "outputs": [
    {
     "name": "stdout",
     "output_type": "stream",
     "text": [
      "wcorr_ripple_shuffle.n_completed_shuffles: 1024\n"
     ]
    }
   ],
   "source": [
    "from pyphoplacecellanalysis.General.Pipeline.Stages.ComputationFunctions.MultiContextComputationFunctions.SequenceBasedComputations import WCorrShuffle, SequenceBasedComputationsContainer\n",
    "\n",
    "wcorr_shuffle_results: SequenceBasedComputationsContainer = curr_active_pipeline.global_computation_results.computed_data.get('SequenceBased', None)\n",
    "if wcorr_shuffle_results is not None:    \n",
    "\twcorr_ripple_shuffle: WCorrShuffle = wcorr_shuffle_results.wcorr_ripple_shuffle\n",
    "\tprint(f'wcorr_ripple_shuffle.n_completed_shuffles: {wcorr_ripple_shuffle.n_completed_shuffles}')\n",
    "else:\n",
    "\tprint(f'SequenceBased is not computed.')"
   ]
  },
  {
   "cell_type": "code",
   "execution_count": 22,
   "id": "fba865e4",
   "metadata": {
    "notebookRunGroups": {
     "groupValue": "1"
    }
   },
   "outputs": [],
   "source": [
    "from pyphoplacecellanalysis.Analysis.reliability import TrialByTrialActivity\n",
    "from pyphoplacecellanalysis.General.Pipeline.Stages.ComputationFunctions.MultiContextComputationFunctions.DirectionalPlacefieldGlobalComputationFunctions import TrialByTrialActivityResult\n",
    "\n",
    "directional_trial_by_trial_activity_result: TrialByTrialActivityResult = curr_active_pipeline.global_computation_results.computed_data.get('TrialByTrialActivity', None)\n",
    "\n",
    "if directional_trial_by_trial_activity_result is not None:\n",
    "\tany_decoder_neuron_IDs = directional_trial_by_trial_activity_result.any_decoder_neuron_IDs\n",
    "\tactive_pf_dt: PfND_TimeDependent = directional_trial_by_trial_activity_result.active_pf_dt\n",
    "\tdirectional_lap_epochs_dict: Dict[str, Epoch] = directional_trial_by_trial_activity_result.directional_lap_epochs_dict\n",
    "\tdirectional_active_lap_pf_results_dicts: Dict[str, TrialByTrialActivity] = directional_trial_by_trial_activity_result.directional_active_lap_pf_results_dicts\n",
    "\t## OUTPUTS: directional_trial_by_trial_activity_result, directional_active_lap_pf_results_dicts\n",
    "else:\n",
    "\tprint(f'TrialByTrialActivity is not computed.')"
   ]
  },
  {
   "cell_type": "code",
   "execution_count": 23,
   "id": "e3ed0870",
   "metadata": {},
   "outputs": [
    {
     "name": "stdout",
     "output_type": "stream",
     "text": [
      "time_bin_size: 0.025\n"
     ]
    }
   ],
   "source": [
    "from pyphoplacecellanalysis.Analysis.Decoder.reconstruction import DecodedFilterEpochsResult\n",
    "\n",
    "most_recent_time_bin_size: float = directional_decoders_decode_result.most_recent_decoding_time_bin_size\n",
    "# most_recent_time_bin_size\n",
    "most_recent_continuously_decoded_dict = deepcopy(directional_decoders_decode_result.most_recent_continuously_decoded_dict)\n",
    "# most_recent_continuously_decoded_dict\n",
    "\n",
    "## Adds in the 'pseudo2D' decoder in:\n",
    "time_bin_size: float = directional_decoders_decode_result.most_recent_decoding_time_bin_size\n",
    "# time_bin_size: float = 0.01\n",
    "print(f'time_bin_size: {time_bin_size}')\n",
    "continuously_decoded_dict = continuously_decoded_result_cache_dict[time_bin_size]\n",
    "pseudo2D_decoder_continuously_decoded_result = continuously_decoded_dict.get('pseudo2D', None)\n",
    "if pseudo2D_decoder_continuously_decoded_result is None:\n",
    "\t# compute here...\n",
    "\t## Currently used for both cases to decode:\n",
    "\tt_start, t_delta, t_end = curr_active_pipeline.find_LongShortDelta_times()\n",
    "\tsingle_global_epoch_df: pd.DataFrame = pd.DataFrame({'start': [t_start], 'stop': [t_end], 'label': [0]}) # Build an Epoch object containing a single epoch, corresponding to the global epoch for the entire session:\n",
    "\tsingle_global_epoch: Epoch = Epoch(single_global_epoch_df)\n",
    "\tspikes_df = directional_decoders_decode_result.spikes_df\n",
    "\tpseudo2D_decoder_continuously_decoded_result: DecodedFilterEpochsResult = pseudo2D_decoder.decode_specific_epochs(spikes_df=deepcopy(spikes_df), filter_epochs=single_global_epoch, decoding_time_bin_size=time_bin_size, debug_print=False)\n",
    "\tcontinuously_decoded_dict['pseudo2D'] = pseudo2D_decoder_continuously_decoded_result\n",
    "\tcontinuously_decoded_dict"
   ]
  },
  {
   "cell_type": "code",
   "execution_count": 24,
   "id": "fa2dc5fe",
   "metadata": {
    "notebookRunGroups": {
     "groupValue": "1"
    }
   },
   "outputs": [],
   "source": [
    "# NEW 2023-11-22 method: Get the templates (which can be filtered by frate first) and the from those get the decoders):        \n",
    "# track_templates: TrackTemplates = directional_laps_results.get_shared_aclus_only_templates(minimum_inclusion_fr_Hz=minimum_inclusion_fr_Hz) # shared-only\n",
    "track_templates: TrackTemplates = directional_laps_results.get_templates(minimum_inclusion_fr_Hz=minimum_inclusion_fr_Hz) # non-shared-only\n",
    "long_LR_decoder, long_RL_decoder, short_LR_decoder, short_RL_decoder = track_templates.get_decoders()\n",
    "\n",
    "# Unpack all directional variables:\n",
    "## {\"even\": \"RL\", \"odd\": \"LR\"}\n",
    "long_LR_name, short_LR_name, global_LR_name, long_RL_name, short_RL_name, global_RL_name, long_any_name, short_any_name, global_any_name = ['maze1_odd', 'maze2_odd', 'maze_odd', 'maze1_even', 'maze2_even', 'maze_even', 'maze1_any', 'maze2_any', 'maze_any']\n",
    "# Unpacking for `(long_LR_name, long_RL_name, short_LR_name, short_RL_name)`\n",
    "(long_LR_context, long_RL_context, short_LR_context, short_RL_context) = [curr_active_pipeline.filtered_contexts[a_name] for a_name in (long_LR_name, long_RL_name, short_LR_name, short_RL_name)]\n",
    "long_LR_epochs_obj, long_RL_epochs_obj, short_LR_epochs_obj, short_RL_epochs_obj, global_any_laps_epochs_obj = [curr_active_pipeline.computation_results[an_epoch_name].computation_config.pf_params.computation_epochs for an_epoch_name in (long_LR_name, long_RL_name, short_LR_name, short_RL_name, global_any_name)] # note has global also\n",
    "(long_LR_session, long_RL_session, short_LR_session, short_RL_session) = [curr_active_pipeline.filtered_sessions[an_epoch_name] for an_epoch_name in (long_LR_name, long_RL_name, short_LR_name, short_RL_name)] # sessions are correct at least, seems like just the computation parameters are messed up\n",
    "(long_LR_results, long_RL_results, short_LR_results, short_RL_results) = [curr_active_pipeline.computation_results[an_epoch_name].computed_data for an_epoch_name in (long_LR_name, long_RL_name, short_LR_name, short_RL_name)]\n",
    "(long_LR_computation_config, long_RL_computation_config, short_LR_computation_config, short_RL_computation_config) = [curr_active_pipeline.computation_results[an_epoch_name].computation_config for an_epoch_name in (long_LR_name, long_RL_name, short_LR_name, short_RL_name)]\n",
    "(long_LR_pf1D, long_RL_pf1D, short_LR_pf1D, short_RL_pf1D) = (long_LR_results.pf1D, long_RL_results.pf1D, short_LR_results.pf1D, short_RL_results.pf1D)\n",
    "(long_LR_pf2D, long_RL_pf2D, short_LR_pf2D, short_RL_pf2D) = (long_LR_results.pf2D, long_RL_results.pf2D, short_LR_results.pf2D, short_RL_results.pf2D)\n",
    "(long_LR_pf1D_Decoder, long_RL_pf1D_Decoder, short_LR_pf1D_Decoder, short_RL_pf1D_Decoder) = (long_LR_results.pf1D_Decoder, long_RL_results.pf1D_Decoder, short_LR_results.pf1D_Decoder, short_RL_results.pf1D_Decoder)\n",
    "\n",
    "# `LongShortStatsItem` form (2024-01-02):\n",
    "# LR_results_real_values = np.array([(a_result_item.long_stats_z_scorer.real_value, a_result_item.short_stats_z_scorer.real_value) for epoch_id, a_result_item in rank_order_results.LR_ripple.ranked_aclus_stats_dict.items()])\n",
    "# RL_results_real_values = np.array([(a_result_item.long_stats_z_scorer.real_value, a_result_item.short_stats_z_scorer.real_value) for epoch_id, a_result_item in rank_order_results.RL_ripple.ranked_aclus_stats_dict.items()])\n",
    "LR_results_long_short_z_diffs = np.array([a_result_item.long_short_z_diff for epoch_id, a_result_item in rank_order_results.LR_ripple.ranked_aclus_stats_dict.items()])\n",
    "RL_results_long_short_z_diff = np.array([a_result_item.long_short_z_diff for epoch_id, a_result_item in rank_order_results.RL_ripple.ranked_aclus_stats_dict.items()])\n"
   ]
  },
  {
   "cell_type": "code",
   "execution_count": 25,
   "id": "c260739a4f36c662",
   "metadata": {},
   "outputs": [],
   "source": [
    "from pyphoplacecellanalysis.General.Pipeline.Stages.ComputationFunctions.MultiContextComputationFunctions.DirectionalPlacefieldGlobalComputationFunctions import TrainTestSplitResult\n",
    "\n",
    "if 'TrainTestSplit' in curr_active_pipeline.global_computation_results.computed_data:\n",
    "\tdirectional_train_test_split_result: TrainTestSplitResult = curr_active_pipeline.global_computation_results.computed_data.get('TrainTestSplit', None)\n",
    "\ttraining_data_portion: float = directional_train_test_split_result.training_data_portion\n",
    "\ttest_data_portion: float = directional_train_test_split_result.test_data_portion\n",
    "\ttest_epochs_dict: Dict[str, pd.DataFrame] = directional_train_test_split_result.test_epochs_dict\n",
    "\ttrain_epochs_dict: Dict[str, pd.DataFrame] = directional_train_test_split_result.train_epochs_dict\n",
    "\ttrain_lap_specific_pf1D_Decoder_dict: Dict[str, BasePositionDecoder] = directional_train_test_split_result.train_lap_specific_pf1D_Decoder_dict\n",
    "\t\n"
   ]
  },
  {
   "cell_type": "code",
   "execution_count": 26,
   "id": "ec18cf18",
   "metadata": {},
   "outputs": [],
   "source": [
    "if 'burst_detection' in curr_active_pipeline.computation_results[global_epoch_name].computed_data:\n",
    "\tactive_burst_intervals = curr_active_pipeline.computation_results[global_epoch_name].computed_data['burst_detection']['burst_intervals']\n",
    "# active_burst_intervals"
   ]
  },
  {
   "cell_type": "code",
   "execution_count": 27,
   "id": "5d31f37d",
   "metadata": {},
   "outputs": [],
   "source": [
    "active_extended_stats = global_results.get('extended_stats', None)"
   ]
  },
  {
   "cell_type": "code",
   "execution_count": 28,
   "id": "9554d3bf5955d9d3",
   "metadata": {},
   "outputs": [],
   "source": [
    "# Time-dependent\n",
    "long_pf1D_dt, short_pf1D_dt, global_pf1D_dt = long_results.pf1D_dt, short_results.pf1D_dt, global_results.pf1D_dt\n",
    "long_pf2D_dt, short_pf2D_dt, global_pf2D_dt = long_results.pf2D_dt, short_results.pf2D_dt, global_results.pf2D_dt\n",
    "global_pf1D_dt: PfND_TimeDependent = global_results.pf1D_dt\n",
    "global_pf2D_dt: PfND_TimeDependent = global_results.pf2D_dt"
   ]
  },
  {
   "cell_type": "code",
   "execution_count": 29,
   "id": "8624c62d5c18c556",
   "metadata": {},
   "outputs": [
    {
     "data": {
      "text/plain": [
       "Int64Index([4, 11, 13, 23, 52, 58, 87], dtype='int64')"
      ]
     },
     "execution_count": 29,
     "metadata": {},
     "output_type": "execute_result"
    }
   ],
   "source": [
    "## long_short_endcap_analysis: checks for cells localized to the endcaps that have their placefields truncated after shortening the track\n",
    "truncation_checking_result: TruncationCheckingResults = curr_active_pipeline.global_computation_results.computed_data.long_short_endcap\n",
    "disappearing_endcap_aclus = truncation_checking_result.disappearing_endcap_aclus\n",
    "# disappearing_endcap_aclus\n",
    "trivially_remapping_endcap_aclus = truncation_checking_result.minor_remapping_endcap_aclus\n",
    "# trivially_remapping_endcap_aclus\n",
    "significant_distant_remapping_endcap_aclus = truncation_checking_result.significant_distant_remapping_endcap_aclus\n",
    "# significant_distant_remapping_endcap_aclus\n",
    "appearing_aclus = jonathan_firing_rate_analysis_result.neuron_replay_stats_df[jonathan_firing_rate_analysis_result.neuron_replay_stats_df['track_membership'] == SplitPartitionMembership.RIGHT_ONLY].index\n",
    "appearing_aclus"
   ]
  },
  {
   "cell_type": "markdown",
   "id": "f4ec24467335a760",
   "metadata": {},
   "source": [
    "# 1️⃣ POST-Compute:"
   ]
  },
  {
   "cell_type": "code",
   "execution_count": 30,
   "id": "728c46e6",
   "metadata": {
    "notebookRunGroups": {
     "groupValue": "21"
    },
    "tags": [
     "unwrap",
     "initial"
    ]
   },
   "outputs": [
    {
     "name": "stdout",
     "output_type": "stream",
     "text": [
      "minimum_inclusion_fr_Hz: 5.0\n",
      "included_qclu_values: [1, 2]\n",
      "laps_decoding_time_bin_size: 0.25, ripple_decoding_time_bin_size: 0.025\n"
     ]
    }
   ],
   "source": [
    "from pyphoplacecellanalysis.General.Pipeline.Stages.ComputationFunctions.MultiContextComputationFunctions.DirectionalPlacefieldGlobalComputationFunctions import DirectionalPlacefieldGlobalDisplayFunctions\n",
    "from pyphoplacecellanalysis.General.Pipeline.Stages.DisplayFunctions.SpikeRasters import plot_multi_sort_raster_browser\n",
    "from pyphoplacecellanalysis.GUI.PyQtPlot.Widgets.ContainerBased.RankOrderRastersDebugger import RankOrderRastersDebugger\n",
    "\n",
    "from pyphoplacecellanalysis.General.Pipeline.Stages.DisplayFunctions.SpikeRasters import paired_separately_sort_neurons, paired_incremental_sort_neurons # _display_directional_template_debugger\n",
    "from neuropy.utils.indexing_helpers import paired_incremental_sorting, union_of_arrays, intersection_of_arrays, find_desired_sort_indicies\n",
    "from pyphoplacecellanalysis.GUI.Qt.Widgets.ScrollBarWithSpinBox.ScrollBarWithSpinBox import ScrollBarWithSpinBox\n",
    "\n",
    "from neuropy.utils.mixins.HDF5_representable import HDF_SerializationMixin\n",
    "from pyphoplacecellanalysis.General.Model.ComputationResults import ComputedResult\n",
    "from pyphoplacecellanalysis.General.Pipeline.Stages.ComputationFunctions.MultiContextComputationFunctions.DirectionalPlacefieldGlobalComputationFunctions import TrackTemplates\n",
    "from pyphoplacecellanalysis.General.Pipeline.Stages.ComputationFunctions.MultiContextComputationFunctions.RankOrderComputations import RankOrderAnalyses, RankOrderResult, ShuffleHelper, Zscorer, LongShortStatsTuple, DirectionalRankOrderLikelihoods, DirectionalRankOrderResult, RankOrderComputationsContainer\n",
    "from pyphoplacecellanalysis.General.Pipeline.Stages.ComputationFunctions.MultiContextComputationFunctions.RankOrderComputations import TimeColumnAliasesProtocol\n",
    "from pyphoplacecellanalysis.General.Pipeline.Stages.ComputationFunctions.MultiContextComputationFunctions.RankOrderComputations import RankOrderComputationsContainer\n",
    "from pyphoplacecellanalysis.General.Pipeline.Stages.ComputationFunctions.MultiContextComputationFunctions.RankOrderComputations import DirectionalRankOrderResult\n",
    "from pyphoplacecellanalysis.General.Pipeline.Stages.ComputationFunctions.MultiContextComputationFunctions.DirectionalPlacefieldGlobalComputationFunctions import DirectionalPseudo2DDecodersResult\n",
    "\n",
    "## Display Testing\n",
    "# from pyphoplacecellanalysis.External.pyqtgraph import QtGui\n",
    "from pyphoplacecellanalysis.Pho2D.PyQtPlots.Extensions.pyqtgraph_helpers import pyqtplot_build_image_bounds_extent, pyqtplot_plot_image\n",
    "\n",
    "spikes_df = curr_active_pipeline.sess.spikes_df\n",
    "rank_order_results: RankOrderComputationsContainer = curr_active_pipeline.global_computation_results.computed_data['RankOrder']\n",
    "minimum_inclusion_fr_Hz: float = rank_order_results.minimum_inclusion_fr_Hz\n",
    "included_qclu_values: List[int] = rank_order_results.included_qclu_values\n",
    "ripple_result_tuple, laps_result_tuple = rank_order_results.ripple_most_likely_result_tuple, rank_order_results.laps_most_likely_result_tuple\n",
    "directional_laps_results: DirectionalLapsResult = curr_active_pipeline.global_computation_results.computed_data['DirectionalLaps']\n",
    "track_templates: TrackTemplates = directional_laps_results.get_templates(minimum_inclusion_fr_Hz=minimum_inclusion_fr_Hz) # non-shared-only -- !! Is minimum_inclusion_fr_Hz=None the issue/difference?\n",
    "print(f'minimum_inclusion_fr_Hz: {minimum_inclusion_fr_Hz}')\n",
    "print(f'included_qclu_values: {included_qclu_values}')\n",
    "# ripple_result_tuple\n",
    "\n",
    "## Unpacks `rank_order_results`: \n",
    "# global_replays = Epoch(deepcopy(curr_active_pipeline.filtered_sessions[global_epoch_name].replay))\n",
    "# global_replays = TimeColumnAliasesProtocol.renaming_synonym_columns_if_needed(deepcopy(curr_active_pipeline.filtered_sessions[global_epoch_name].replay))\n",
    "# active_replay_epochs, active_epochs_df, active_selected_spikes_df = combine_rank_order_results(rank_order_results, global_replays, track_templates=track_templates)\n",
    "# active_epochs_df\n",
    "\n",
    "# ripple_result_tuple.directional_likelihoods_tuple.long_best_direction_indices\n",
    "dir_index_to_direction_name_map: Dict[int, str] = {0:'LR', 1:\"RL\"}\n",
    "\n",
    "\n",
    "## All three DataFrames are the same number of rows, each with one row corresponding to an Epoch:\n",
    "active_replay_epochs_df = deepcopy(rank_order_results.LR_ripple.epochs_df)\n",
    "# active_replay_epochs_df\n",
    "\n",
    "# Change column type to int8 for columns: 'long_best_direction_indices', 'short_best_direction_indices'\n",
    "# directional_likelihoods_df = pd.DataFrame.from_dict(ripple_result_tuple.directional_likelihoods_tuple._asdict()).astype({'long_best_direction_indices': 'int8', 'short_best_direction_indices': 'int8'})\n",
    "directional_likelihoods_df = ripple_result_tuple.directional_likelihoods_df\n",
    "# directional_likelihoods_df\n",
    "\n",
    "# 2023-12-15 - Newest method:\n",
    "# laps_combined_epoch_stats_df = rank_order_results.laps_combined_epoch_stats_df\n",
    "\n",
    "# ripple_combined_epoch_stats_df: pd.DataFrame  = rank_order_results.ripple_combined_epoch_stats_df\n",
    "# ripple_combined_epoch_stats_df\n",
    "\n",
    "\n",
    "# # Concatenate the three DataFrames along the columns axis:\n",
    "# # Assert that all DataFrames have the same number of rows:\n",
    "# assert len(active_replay_epochs_df) == len(directional_likelihoods_df) == len(ripple_combined_epoch_stats_df), \"DataFrames have different numbers of rows.\"\n",
    "# # Assert that all DataFrames have at least one row:\n",
    "# assert len(active_replay_epochs_df) > 0, \"active_replay_epochs_df is empty.\"\n",
    "# assert len(directional_likelihoods_df) > 0, \"directional_likelihoods_df is empty.\"\n",
    "# assert len(ripple_combined_epoch_stats_df) > 0, \"ripple_combined_epoch_stats_df is empty.\"\n",
    "# merged_complete_epoch_stats_df: pd.DataFrame = pd.concat([active_replay_epochs_df.reset_index(drop=True, inplace=False), directional_likelihoods_df.reset_index(drop=True, inplace=False), ripple_combined_epoch_stats_df.reset_index(drop=True, inplace=False)], axis=1)\n",
    "# merged_complete_epoch_stats_df = merged_complete_epoch_stats_df.set_index(active_replay_epochs_df.index, inplace=False)\n",
    "\n",
    "# merged_complete_epoch_stats_df: pd.DataFrame = rank_order_results.ripple_merged_complete_epoch_stats_df ## New method\n",
    "# merged_complete_epoch_stats_df.to_csv('output/2023-12-21_merged_complete_epoch_stats_df.csv')\n",
    "# merged_complete_epoch_stats_df\n",
    "\n",
    "laps_merged_complete_epoch_stats_df: pd.DataFrame = rank_order_results.laps_merged_complete_epoch_stats_df ## New method\n",
    "ripple_merged_complete_epoch_stats_df: pd.DataFrame = rank_order_results.ripple_merged_complete_epoch_stats_df ## New method\n",
    "\n",
    "# DirectionalMergedDecoders: Get the result after computation:\n",
    "directional_merged_decoders_result: DirectionalPseudo2DDecodersResult = curr_active_pipeline.global_computation_results.computed_data['DirectionalMergedDecoders']\n",
    "\n",
    "all_directional_decoder_dict_value = directional_merged_decoders_result.all_directional_decoder_dict\n",
    "all_directional_pf1D_Decoder_value = directional_merged_decoders_result.all_directional_pf1D_Decoder\n",
    "# long_directional_pf1D_Decoder_value = directional_merged_decoders_result.long_directional_pf1D_Decoder\n",
    "# long_directional_decoder_dict_value = directional_merged_decoders_result.long_directional_decoder_dict\n",
    "# short_directional_pf1D_Decoder_value = directional_merged_decoders_result.short_directional_pf1D_Decoder\n",
    "# short_directional_decoder_dict_value = directional_merged_decoders_result.short_directional_decoder_dict\n",
    "\n",
    "all_directional_laps_filter_epochs_decoder_result_value = directional_merged_decoders_result.all_directional_laps_filter_epochs_decoder_result\n",
    "all_directional_ripple_filter_epochs_decoder_result_value = directional_merged_decoders_result.all_directional_ripple_filter_epochs_decoder_result\n",
    "\n",
    "laps_directional_marginals, laps_directional_all_epoch_bins_marginal, laps_most_likely_direction_from_decoder, laps_is_most_likely_direction_LR_dir  = directional_merged_decoders_result.laps_directional_marginals_tuple\n",
    "laps_track_identity_marginals, laps_track_identity_all_epoch_bins_marginal, laps_most_likely_track_identity_from_decoder, laps_is_most_likely_track_identity_Long = directional_merged_decoders_result.laps_track_identity_marginals_tuple\n",
    "ripple_directional_marginals, ripple_directional_all_epoch_bins_marginal, ripple_most_likely_direction_from_decoder, ripple_is_most_likely_direction_LR_dir  = directional_merged_decoders_result.ripple_directional_marginals_tuple\n",
    "ripple_track_identity_marginals, ripple_track_identity_all_epoch_bins_marginal, ripple_most_likely_track_identity_from_decoder, ripple_is_most_likely_track_identity_Long = directional_merged_decoders_result.ripple_track_identity_marginals_tuple\n",
    "\n",
    "ripple_decoding_time_bin_size: float = directional_merged_decoders_result.ripple_decoding_time_bin_size\n",
    "laps_decoding_time_bin_size: float = directional_merged_decoders_result.laps_decoding_time_bin_size\n",
    "\n",
    "print(f'laps_decoding_time_bin_size: {laps_decoding_time_bin_size}, ripple_decoding_time_bin_size: {ripple_decoding_time_bin_size}')\n",
    "\n",
    "laps_all_epoch_bins_marginals_df = directional_merged_decoders_result.laps_all_epoch_bins_marginals_df\n",
    "ripple_all_epoch_bins_marginals_df = directional_merged_decoders_result.ripple_all_epoch_bins_marginals_df\n"
   ]
  },
  {
   "cell_type": "code",
   "execution_count": 31,
   "id": "753ca336",
   "metadata": {
    "notebookRunGroups": {
     "groupValue": "1"
    }
   },
   "outputs": [
    {
     "name": "stdout",
     "output_type": "stream",
     "text": [
      "len(active_epochs_df): 611\n",
      "min_num_unique_aclu_inclusions: 15\n",
      "len(active_epochs_df): 345\n",
      "df_column_names: [['start', 'stop', 'label', 'duration', 'score', 'velocity', 'intercept', 'speed', 'wcorr', 'P_decoder', 'pearsonr', 'travel', 'coverage', 'jump', 'sequential_correlation', 'monotonicity_score', 'laplacian_smoothness', 'longest_sequence_length', 'longest_sequence_length_ratio', 'direction_change_bin_ratio', 'congruent_dir_bins_ratio', 'total_congruent_direction_change', 'total_variation', 'integral_second_derivative', 'stddev_of_diff', 'is_user_annotated_epoch', 'is_valid_epoch'], ['start', 'stop', 'label', 'duration', 'score', 'velocity', 'intercept', 'speed', 'wcorr', 'P_decoder', 'pearsonr', 'travel', 'coverage', 'jump', 'sequential_correlation', 'monotonicity_score', 'laplacian_smoothness', 'longest_sequence_length', 'longest_sequence_length_ratio', 'direction_change_bin_ratio', 'congruent_dir_bins_ratio', 'total_congruent_direction_change', 'total_variation', 'integral_second_derivative', 'stddev_of_diff', 'is_user_annotated_epoch', 'is_valid_epoch'], ['start', 'stop', 'label', 'duration', 'score', 'velocity', 'intercept', 'speed', 'wcorr', 'P_decoder', 'pearsonr', 'travel', 'coverage', 'jump', 'sequential_correlation', 'monotonicity_score', 'laplacian_smoothness', 'longest_sequence_length', 'longest_sequence_length_ratio', 'direction_change_bin_ratio', 'congruent_dir_bins_ratio', 'total_congruent_direction_change', 'total_variation', 'integral_second_derivative', 'stddev_of_diff', 'is_user_annotated_epoch', 'is_valid_epoch'], ['start', 'stop', 'label', 'duration', 'score', 'velocity', 'intercept', 'speed', 'wcorr', 'P_decoder', 'pearsonr', 'travel', 'coverage', 'jump', 'sequential_correlation', 'monotonicity_score', 'laplacian_smoothness', 'longest_sequence_length', 'longest_sequence_length_ratio', 'direction_change_bin_ratio', 'congruent_dir_bins_ratio', 'total_congruent_direction_change', 'total_variation', 'integral_second_derivative', 'stddev_of_diff', 'is_user_annotated_epoch', 'is_valid_epoch']]\n"
     ]
    },
    {
     "data": {
      "text/html": [
       "<div>\n",
       "<style scoped>\n",
       "    .dataframe tbody tr th:only-of-type {\n",
       "        vertical-align: middle;\n",
       "    }\n",
       "\n",
       "    .dataframe tbody tr th {\n",
       "        vertical-align: top;\n",
       "    }\n",
       "\n",
       "    .dataframe thead th {\n",
       "        text-align: right;\n",
       "    }\n",
       "</style>\n",
       "<table border=\"1\" class=\"dataframe\">\n",
       "  <thead>\n",
       "    <tr style=\"text-align: right;\">\n",
       "      <th></th>\n",
       "      <th>start</th>\n",
       "      <th>stop</th>\n",
       "      <th>label</th>\n",
       "      <th>duration</th>\n",
       "      <th>end</th>\n",
       "      <th>n_unique_aclus</th>\n",
       "    </tr>\n",
       "  </thead>\n",
       "  <tbody>\n",
       "    <tr>\n",
       "      <th>0</th>\n",
       "      <td>40.187177</td>\n",
       "      <td>40.488202</td>\n",
       "      <td>0</td>\n",
       "      <td>0.301025</td>\n",
       "      <td>40.488202</td>\n",
       "      <td>19</td>\n",
       "    </tr>\n",
       "    <tr>\n",
       "      <th>1</th>\n",
       "      <td>41.011916</td>\n",
       "      <td>41.359114</td>\n",
       "      <td>1</td>\n",
       "      <td>0.347197</td>\n",
       "      <td>41.359114</td>\n",
       "      <td>27</td>\n",
       "    </tr>\n",
       "    <tr>\n",
       "      <th>2</th>\n",
       "      <td>44.588736</td>\n",
       "      <td>44.829950</td>\n",
       "      <td>4</td>\n",
       "      <td>0.241213</td>\n",
       "      <td>44.829950</td>\n",
       "      <td>24</td>\n",
       "    </tr>\n",
       "    <tr>\n",
       "      <th>3</th>\n",
       "      <td>45.994329</td>\n",
       "      <td>46.249336</td>\n",
       "      <td>7</td>\n",
       "      <td>0.255007</td>\n",
       "      <td>46.249336</td>\n",
       "      <td>24</td>\n",
       "    </tr>\n",
       "    <tr>\n",
       "      <th>4</th>\n",
       "      <td>57.517979</td>\n",
       "      <td>57.987841</td>\n",
       "      <td>12</td>\n",
       "      <td>0.469862</td>\n",
       "      <td>57.987841</td>\n",
       "      <td>19</td>\n",
       "    </tr>\n",
       "    <tr>\n",
       "      <th>5</th>\n",
       "      <td>61.397145</td>\n",
       "      <td>61.662074</td>\n",
       "      <td>14</td>\n",
       "      <td>0.264929</td>\n",
       "      <td>61.662074</td>\n",
       "      <td>25</td>\n",
       "    </tr>\n",
       "    <tr>\n",
       "      <th>...</th>\n",
       "      <td>...</td>\n",
       "      <td>...</td>\n",
       "      <td>...</td>\n",
       "      <td>...</td>\n",
       "      <td>...</td>\n",
       "      <td>...</td>\n",
       "    </tr>\n",
       "    <tr>\n",
       "      <th>339</th>\n",
       "      <td>2033.583486</td>\n",
       "      <td>2033.962356</td>\n",
       "      <td>628</td>\n",
       "      <td>0.378870</td>\n",
       "      <td>2033.962356</td>\n",
       "      <td>17</td>\n",
       "    </tr>\n",
       "    <tr>\n",
       "      <th>340</th>\n",
       "      <td>2034.655153</td>\n",
       "      <td>2034.765468</td>\n",
       "      <td>629</td>\n",
       "      <td>0.110315</td>\n",
       "      <td>2034.765468</td>\n",
       "      <td>17</td>\n",
       "    </tr>\n",
       "    <tr>\n",
       "      <th>341</th>\n",
       "      <td>2043.892191</td>\n",
       "      <td>2044.079430</td>\n",
       "      <td>630</td>\n",
       "      <td>0.187238</td>\n",
       "      <td>2044.079430</td>\n",
       "      <td>15</td>\n",
       "    </tr>\n",
       "    <tr>\n",
       "      <th>342</th>\n",
       "      <td>2045.095432</td>\n",
       "      <td>2045.393262</td>\n",
       "      <td>631</td>\n",
       "      <td>0.297830</td>\n",
       "      <td>2045.393262</td>\n",
       "      <td>27</td>\n",
       "    </tr>\n",
       "    <tr>\n",
       "      <th>343</th>\n",
       "      <td>2051.142292</td>\n",
       "      <td>2051.269043</td>\n",
       "      <td>632</td>\n",
       "      <td>0.126751</td>\n",
       "      <td>2051.269043</td>\n",
       "      <td>20</td>\n",
       "    </tr>\n",
       "    <tr>\n",
       "      <th>344</th>\n",
       "      <td>2053.276532</td>\n",
       "      <td>2053.445093</td>\n",
       "      <td>633</td>\n",
       "      <td>0.168561</td>\n",
       "      <td>2053.445093</td>\n",
       "      <td>20</td>\n",
       "    </tr>\n",
       "  </tbody>\n",
       "</table>\n",
       "<p>345 rows × 6 columns</p>\n",
       "</div>"
      ],
      "text/plain": [
       "           start         stop  label  duration          end  n_unique_aclus\n",
       "0      40.187177    40.488202      0  0.301025    40.488202              19\n",
       "1      41.011916    41.359114      1  0.347197    41.359114              27\n",
       "2      44.588736    44.829950      4  0.241213    44.829950              24\n",
       "3      45.994329    46.249336      7  0.255007    46.249336              24\n",
       "4      57.517979    57.987841     12  0.469862    57.987841              19\n",
       "5      61.397145    61.662074     14  0.264929    61.662074              25\n",
       "..           ...          ...    ...       ...          ...             ...\n",
       "339  2033.583486  2033.962356    628  0.378870  2033.962356              17\n",
       "340  2034.655153  2034.765468    629  0.110315  2034.765468              17\n",
       "341  2043.892191  2044.079430    630  0.187238  2044.079430              15\n",
       "342  2045.095432  2045.393262    631  0.297830  2045.393262              27\n",
       "343  2051.142292  2051.269043    632  0.126751  2051.269043              20\n",
       "344  2053.276532  2053.445093    633  0.168561  2053.445093              20\n",
       "\n",
       "[345 rows x 6 columns]"
      ]
     },
     "execution_count": 31,
     "metadata": {},
     "output_type": "execute_result"
    }
   ],
   "source": [
    "from pyphoplacecellanalysis.General.Pipeline.Stages.ComputationFunctions.MultiContextComputationFunctions.DirectionalPlacefieldGlobalComputationFunctions import filter_and_update_epochs_and_spikes\n",
    "# from pyphoplacecellanalysis.SpecificResults.PendingNotebookCode import HeuristicReplayScoring\n",
    "from neuropy.core.epoch import find_data_indicies_from_epoch_times\n",
    "from pyphoplacecellanalysis.SpecificResults.PendingNotebookCode import _perform_filter_replay_epochs\n",
    "\n",
    "filtered_epochs_df, filtered_decoder_filter_epochs_decoder_result_dict, filtered_ripple_all_epoch_bins_marginals_df = _perform_filter_replay_epochs(curr_active_pipeline, global_epoch_name, track_templates, decoder_ripple_filter_epochs_decoder_result_dict, ripple_all_epoch_bins_marginals_df, ripple_decoding_time_bin_size=ripple_decoding_time_bin_size,\n",
    "\t\t\t\t\t\t\t\t\t\t\t\t\t\t\t\t\t\t\t\t\t\t\t\t\t\t\t\t\t\t\tshould_only_include_user_selected_epochs=False)\n",
    "filtered_epochs_df\n",
    "# filtered_ripple_all_epoch_bins_marginals_df"
   ]
  },
  {
   "cell_type": "markdown",
   "id": "1ae6e077",
   "metadata": {},
   "source": [
    "#### 2024-02-29 - 4pm - Filter the events for those meeting wcorr criteria:\n"
   ]
  },
  {
   "cell_type": "code",
   "execution_count": 32,
   "id": "3ec8cd0c",
   "metadata": {},
   "outputs": [
    {
     "data": {
      "text/html": [
       "<div>\n",
       "<style scoped>\n",
       "    .dataframe tbody tr th:only-of-type {\n",
       "        vertical-align: middle;\n",
       "    }\n",
       "\n",
       "    .dataframe tbody tr th {\n",
       "        vertical-align: top;\n",
       "    }\n",
       "\n",
       "    .dataframe thead th {\n",
       "        text-align: right;\n",
       "    }\n",
       "</style>\n",
       "<table border=\"1\" class=\"dataframe\">\n",
       "  <thead>\n",
       "    <tr style=\"text-align: right;\">\n",
       "      <th></th>\n",
       "      <th>P_LR</th>\n",
       "      <th>P_RL</th>\n",
       "      <th>P_Long</th>\n",
       "      <th>P_Short</th>\n",
       "      <th>ripple_idx</th>\n",
       "      <th>ripple_start_t</th>\n",
       "      <th>long_best_wcorr</th>\n",
       "      <th>short_best_wcorr</th>\n",
       "      <th>wcorr_abs_diff</th>\n",
       "      <th>long_best_pearsonr</th>\n",
       "      <th>short_best_pearsonr</th>\n",
       "      <th>pearsonr_abs_diff</th>\n",
       "      <th>session_name</th>\n",
       "      <th>delta_aligned_start_t</th>\n",
       "      <th>time_bin_size</th>\n",
       "      <th>is_user_annotated_epoch</th>\n",
       "    </tr>\n",
       "  </thead>\n",
       "  <tbody>\n",
       "    <tr>\n",
       "      <th>2</th>\n",
       "      <td>0.387887</td>\n",
       "      <td>0.612113</td>\n",
       "      <td>0.598822</td>\n",
       "      <td>0.401178</td>\n",
       "      <td>4</td>\n",
       "      <td>44.588736</td>\n",
       "      <td>-0.379002</td>\n",
       "      <td>-0.165580</td>\n",
       "      <td>0.213422</td>\n",
       "      <td>-0.281180</td>\n",
       "      <td>-0.230215</td>\n",
       "      <td>0.050965</td>\n",
       "      <td>2006-6-08_14-26-15</td>\n",
       "      <td>-1166.969344</td>\n",
       "      <td>0.025</td>\n",
       "      <td>True</td>\n",
       "    </tr>\n",
       "    <tr>\n",
       "      <th>9</th>\n",
       "      <td>0.536527</td>\n",
       "      <td>0.463473</td>\n",
       "      <td>0.905894</td>\n",
       "      <td>0.094106</td>\n",
       "      <td>23</td>\n",
       "      <td>75.978877</td>\n",
       "      <td>-0.614905</td>\n",
       "      <td>-0.276555</td>\n",
       "      <td>0.338351</td>\n",
       "      <td>-0.495386</td>\n",
       "      <td>-0.507276</td>\n",
       "      <td>-0.011889</td>\n",
       "      <td>2006-6-08_14-26-15</td>\n",
       "      <td>-1135.579203</td>\n",
       "      <td>0.025</td>\n",
       "      <td>True</td>\n",
       "    </tr>\n",
       "    <tr>\n",
       "      <th>24</th>\n",
       "      <td>0.425100</td>\n",
       "      <td>0.574900</td>\n",
       "      <td>0.604226</td>\n",
       "      <td>0.395774</td>\n",
       "      <td>42</td>\n",
       "      <td>172.619462</td>\n",
       "      <td>-0.611312</td>\n",
       "      <td>-0.401674</td>\n",
       "      <td>0.209638</td>\n",
       "      <td>-0.532123</td>\n",
       "      <td>-0.554457</td>\n",
       "      <td>-0.022334</td>\n",
       "      <td>2006-6-08_14-26-15</td>\n",
       "      <td>-1038.938618</td>\n",
       "      <td>0.025</td>\n",
       "      <td>True</td>\n",
       "    </tr>\n",
       "    <tr>\n",
       "      <th>26</th>\n",
       "      <td>0.883683</td>\n",
       "      <td>0.116317</td>\n",
       "      <td>0.759934</td>\n",
       "      <td>0.240066</td>\n",
       "      <td>45</td>\n",
       "      <td>181.692272</td>\n",
       "      <td>-0.791222</td>\n",
       "      <td>-0.584631</td>\n",
       "      <td>0.206592</td>\n",
       "      <td>-0.636304</td>\n",
       "      <td>-0.464824</td>\n",
       "      <td>0.171479</td>\n",
       "      <td>2006-6-08_14-26-15</td>\n",
       "      <td>-1029.865808</td>\n",
       "      <td>0.025</td>\n",
       "      <td>True</td>\n",
       "    </tr>\n",
       "    <tr>\n",
       "      <th>30</th>\n",
       "      <td>0.958748</td>\n",
       "      <td>0.041252</td>\n",
       "      <td>0.787359</td>\n",
       "      <td>0.212641</td>\n",
       "      <td>51</td>\n",
       "      <td>193.647629</td>\n",
       "      <td>-0.385557</td>\n",
       "      <td>-0.038484</td>\n",
       "      <td>0.347073</td>\n",
       "      <td>-0.200356</td>\n",
       "      <td>-0.123780</td>\n",
       "      <td>0.076576</td>\n",
       "      <td>2006-6-08_14-26-15</td>\n",
       "      <td>-1017.910451</td>\n",
       "      <td>0.025</td>\n",
       "      <td>True</td>\n",
       "    </tr>\n",
       "    <tr>\n",
       "      <th>34</th>\n",
       "      <td>0.652924</td>\n",
       "      <td>0.347076</td>\n",
       "      <td>0.835664</td>\n",
       "      <td>0.164336</td>\n",
       "      <td>57</td>\n",
       "      <td>200.413890</td>\n",
       "      <td>0.503500</td>\n",
       "      <td>0.176169</td>\n",
       "      <td>0.327331</td>\n",
       "      <td>0.289950</td>\n",
       "      <td>0.230080</td>\n",
       "      <td>0.059870</td>\n",
       "      <td>2006-6-08_14-26-15</td>\n",
       "      <td>-1011.144190</td>\n",
       "      <td>0.025</td>\n",
       "      <td>True</td>\n",
       "    </tr>\n",
       "    <tr>\n",
       "      <th>...</th>\n",
       "      <td>...</td>\n",
       "      <td>...</td>\n",
       "      <td>...</td>\n",
       "      <td>...</td>\n",
       "      <td>...</td>\n",
       "      <td>...</td>\n",
       "      <td>...</td>\n",
       "      <td>...</td>\n",
       "      <td>...</td>\n",
       "      <td>...</td>\n",
       "      <td>...</td>\n",
       "      <td>...</td>\n",
       "      <td>...</td>\n",
       "      <td>...</td>\n",
       "      <td>...</td>\n",
       "      <td>...</td>\n",
       "    </tr>\n",
       "    <tr>\n",
       "      <th>306</th>\n",
       "      <td>0.776409</td>\n",
       "      <td>0.223591</td>\n",
       "      <td>0.372856</td>\n",
       "      <td>0.627144</td>\n",
       "      <td>546</td>\n",
       "      <td>1829.890975</td>\n",
       "      <td>-0.359631</td>\n",
       "      <td>-0.677888</td>\n",
       "      <td>-0.318257</td>\n",
       "      <td>0.312379</td>\n",
       "      <td>0.245434</td>\n",
       "      <td>0.066945</td>\n",
       "      <td>2006-6-08_14-26-15</td>\n",
       "      <td>618.332895</td>\n",
       "      <td>0.025</td>\n",
       "      <td>True</td>\n",
       "    </tr>\n",
       "    <tr>\n",
       "      <th>310</th>\n",
       "      <td>0.000008</td>\n",
       "      <td>0.999992</td>\n",
       "      <td>0.187500</td>\n",
       "      <td>0.812500</td>\n",
       "      <td>554</td>\n",
       "      <td>1840.474501</td>\n",
       "      <td>-0.808349</td>\n",
       "      <td>-0.597639</td>\n",
       "      <td>0.210710</td>\n",
       "      <td>-0.132984</td>\n",
       "      <td>0.087502</td>\n",
       "      <td>0.045482</td>\n",
       "      <td>2006-6-08_14-26-15</td>\n",
       "      <td>628.916421</td>\n",
       "      <td>0.025</td>\n",
       "      <td>True</td>\n",
       "    </tr>\n",
       "    <tr>\n",
       "      <th>312</th>\n",
       "      <td>0.998095</td>\n",
       "      <td>0.001905</td>\n",
       "      <td>0.429104</td>\n",
       "      <td>0.570896</td>\n",
       "      <td>557</td>\n",
       "      <td>1848.991524</td>\n",
       "      <td>-0.252728</td>\n",
       "      <td>-0.487949</td>\n",
       "      <td>-0.235221</td>\n",
       "      <td>0.780294</td>\n",
       "      <td>0.641355</td>\n",
       "      <td>0.138939</td>\n",
       "      <td>2006-6-08_14-26-15</td>\n",
       "      <td>637.433444</td>\n",
       "      <td>0.025</td>\n",
       "      <td>True</td>\n",
       "    </tr>\n",
       "    <tr>\n",
       "      <th>316</th>\n",
       "      <td>0.500023</td>\n",
       "      <td>0.499977</td>\n",
       "      <td>0.549888</td>\n",
       "      <td>0.450112</td>\n",
       "      <td>563</td>\n",
       "      <td>1858.982984</td>\n",
       "      <td>0.913712</td>\n",
       "      <td>0.702387</td>\n",
       "      <td>0.211325</td>\n",
       "      <td>0.271592</td>\n",
       "      <td>0.179555</td>\n",
       "      <td>0.092036</td>\n",
       "      <td>2006-6-08_14-26-15</td>\n",
       "      <td>647.424904</td>\n",
       "      <td>0.025</td>\n",
       "      <td>True</td>\n",
       "    </tr>\n",
       "    <tr>\n",
       "      <th>323</th>\n",
       "      <td>0.013153</td>\n",
       "      <td>0.986847</td>\n",
       "      <td>0.010649</td>\n",
       "      <td>0.989351</td>\n",
       "      <td>575</td>\n",
       "      <td>1880.455178</td>\n",
       "      <td>0.636747</td>\n",
       "      <td>0.261718</td>\n",
       "      <td>0.375030</td>\n",
       "      <td>-0.319562</td>\n",
       "      <td>-0.496604</td>\n",
       "      <td>-0.177042</td>\n",
       "      <td>2006-6-08_14-26-15</td>\n",
       "      <td>668.897098</td>\n",
       "      <td>0.025</td>\n",
       "      <td>True</td>\n",
       "    </tr>\n",
       "    <tr>\n",
       "      <th>343</th>\n",
       "      <td>0.011249</td>\n",
       "      <td>0.988751</td>\n",
       "      <td>0.161843</td>\n",
       "      <td>0.838157</td>\n",
       "      <td>609</td>\n",
       "      <td>2051.142292</td>\n",
       "      <td>0.626124</td>\n",
       "      <td>0.333202</td>\n",
       "      <td>0.292922</td>\n",
       "      <td>0.688362</td>\n",
       "      <td>0.678057</td>\n",
       "      <td>0.010305</td>\n",
       "      <td>2006-6-08_14-26-15</td>\n",
       "      <td>839.584212</td>\n",
       "      <td>0.025</td>\n",
       "      <td>True</td>\n",
       "    </tr>\n",
       "  </tbody>\n",
       "</table>\n",
       "<p>68 rows × 16 columns</p>\n",
       "</div>"
      ],
      "text/plain": [
       "         P_LR      P_RL    P_Long   P_Short  ripple_idx  ripple_start_t  long_best_wcorr  short_best_wcorr  wcorr_abs_diff  long_best_pearsonr  short_best_pearsonr  pearsonr_abs_diff        session_name  delta_aligned_start_t  time_bin_size  is_user_annotated_epoch\n",
       "2    0.387887  0.612113  0.598822  0.401178           4       44.588736        -0.379002         -0.165580        0.213422           -0.281180            -0.230215           0.050965  2006-6-08_14-26-15           -1166.969344          0.025                     True\n",
       "9    0.536527  0.463473  0.905894  0.094106          23       75.978877        -0.614905         -0.276555        0.338351           -0.495386            -0.507276          -0.011889  2006-6-08_14-26-15           -1135.579203          0.025                     True\n",
       "24   0.425100  0.574900  0.604226  0.395774          42      172.619462        -0.611312         -0.401674        0.209638           -0.532123            -0.554457          -0.022334  2006-6-08_14-26-15           -1038.938618          0.025                     True\n",
       "26   0.883683  0.116317  0.759934  0.240066          45      181.692272        -0.791222         -0.584631        0.206592           -0.636304            -0.464824           0.171479  2006-6-08_14-26-15           -1029.865808          0.025                     True\n",
       "30   0.958748  0.041252  0.787359  0.212641          51      193.647629        -0.385557         -0.038484        0.347073           -0.200356            -0.123780           0.076576  2006-6-08_14-26-15           -1017.910451          0.025                     True\n",
       "34   0.652924  0.347076  0.835664  0.164336          57      200.413890         0.503500          0.176169        0.327331            0.289950             0.230080           0.059870  2006-6-08_14-26-15           -1011.144190          0.025                     True\n",
       "..        ...       ...       ...       ...         ...             ...              ...               ...             ...                 ...                  ...                ...                 ...                    ...            ...                      ...\n",
       "306  0.776409  0.223591  0.372856  0.627144         546     1829.890975        -0.359631         -0.677888       -0.318257            0.312379             0.245434           0.066945  2006-6-08_14-26-15             618.332895          0.025                     True\n",
       "310  0.000008  0.999992  0.187500  0.812500         554     1840.474501        -0.808349         -0.597639        0.210710           -0.132984             0.087502           0.045482  2006-6-08_14-26-15             628.916421          0.025                     True\n",
       "312  0.998095  0.001905  0.429104  0.570896         557     1848.991524        -0.252728         -0.487949       -0.235221            0.780294             0.641355           0.138939  2006-6-08_14-26-15             637.433444          0.025                     True\n",
       "316  0.500023  0.499977  0.549888  0.450112         563     1858.982984         0.913712          0.702387        0.211325            0.271592             0.179555           0.092036  2006-6-08_14-26-15             647.424904          0.025                     True\n",
       "323  0.013153  0.986847  0.010649  0.989351         575     1880.455178         0.636747          0.261718        0.375030           -0.319562            -0.496604          -0.177042  2006-6-08_14-26-15             668.897098          0.025                     True\n",
       "343  0.011249  0.988751  0.161843  0.838157         609     2051.142292         0.626124          0.333202        0.292922            0.688362             0.678057           0.010305  2006-6-08_14-26-15             839.584212          0.025                     True\n",
       "\n",
       "[68 rows x 16 columns]"
      ]
     },
     "execution_count": 32,
     "metadata": {},
     "output_type": "execute_result"
    },
    {
     "data": {
      "text/plain": [
       "[1, 2]"
      ]
     },
     "execution_count": 32,
     "metadata": {},
     "output_type": "execute_result"
    }
   ],
   "source": [
    "min_wcorr_threshold: float = 0.33\n",
    "min_wcorr_diff_threshold: float = 0.2\n",
    "\n",
    "is_included_large_wcorr_diff = np.any((filtered_ripple_all_epoch_bins_marginals_df[['wcorr_abs_diff']].abs() > min_wcorr_diff_threshold), axis=1)\n",
    "# is_included_large_wcorr_diff\n",
    "is_included_high_wcorr = np.any((filtered_ripple_all_epoch_bins_marginals_df[['long_best_wcorr', 'short_best_wcorr']].abs() > min_wcorr_threshold), axis=1)\n",
    "\n",
    "df = filtered_ripple_all_epoch_bins_marginals_df[is_included_large_wcorr_diff]\n",
    "# df = filtered_ripple_all_epoch_bins_marginals_df[is_included_high_wcorr]\n",
    "df\n",
    "\n",
    "# delta_aligned_start_t\n",
    "\n",
    "significant_epochs_start_ts = np.squeeze(df['ripple_start_t'].to_numpy()) ## for filtering\n",
    "\n",
    "filtered_decoder_filter_epochs_decoder_result_dict: Dict[str, DecodedFilterEpochsResult] = {a_name:a_result.filtered_by_epoch_times(significant_epochs_start_ts) for a_name, a_result in filtered_decoder_filter_epochs_decoder_result_dict.items()} # working filtered\n",
    "# filtered_decoder_filter_epochs_decoder_result_dict\n",
    "filtered_epochs_df = filtered_epochs_df.epochs.matching_epoch_times_slice(significant_epochs_start_ts)\n",
    "# filtered_ripple_all_epoch_bins_marginals_df = filtered_ripple_all_epoch_bins_marginals_df.epochs.matching_epoch_times_slice(significant_epochs_start_ts)\n",
    "\n",
    "included_qclu_values: List[int] = rank_order_results.included_qclu_values\n",
    "included_qclu_values"
   ]
  },
  {
   "cell_type": "markdown",
   "id": "e607a444",
   "metadata": {},
   "source": [
    "# / 🛑 End Run Section 🛑\n",
    "-------"
   ]
  },
  {
   "cell_type": "code",
   "execution_count": null,
   "id": "8b53c5af",
   "metadata": {},
   "outputs": [],
   "source": [
    "# ripple_merged_complete_epoch_stats_df\n",
    "laps_merged_complete_epoch_stats_df\n",
    "['long_best_direction_indices', 'short_best_direction_indices', 'combined_best_direction_indicies', 'long_relative_direction_likelihoods', 'short_relative_direction_likelihoods']"
   ]
  },
  {
   "cell_type": "code",
   "execution_count": null,
   "id": "7433b81f",
   "metadata": {},
   "outputs": [],
   "source": [
    "## Find the time series of Long-likely events\n",
    "# type(long_RL_results) # DynamicParameters\n",
    "long_LR_pf1D_Decoder\n",
    "\n"
   ]
  },
  {
   "cell_type": "code",
   "execution_count": null,
   "id": "e8d2363d",
   "metadata": {},
   "outputs": [],
   "source": [
    "type(all_directional_decoder_dict_value)\n",
    "list(all_directional_decoder_dict_value.keys()) # ['long_LR', 'long_RL', 'short_LR', 'short_RL']"
   ]
  },
  {
   "cell_type": "code",
   "execution_count": null,
   "id": "634e6027",
   "metadata": {},
   "outputs": [],
   "source": [
    "laps_all_epoch_bins_marginals_df\n",
    "laps_most_likely_direction_from_decoder\n",
    "long_"
   ]
  },
  {
   "cell_type": "code",
   "execution_count": null,
   "id": "8cdabd71",
   "metadata": {},
   "outputs": [],
   "source": [
    "type(ripple_result_tuple) # pyphoplacecellanalysis.General.Pipeline.Stages.ComputationFunctions.MultiContextComputationFunctions.RankOrderComputations.DirectionalRankOrderResult\n"
   ]
  },
  {
   "cell_type": "code",
   "execution_count": null,
   "id": "8fca534c",
   "metadata": {},
   "outputs": [],
   "source": [
    "assert isinstance(ripple_result_tuple, DirectionalRankOrderResult) \n",
    "\n",
    "ripple_result_tuple.plot_histograms(num='test')"
   ]
  },
  {
   "cell_type": "code",
   "execution_count": null,
   "id": "15629dae",
   "metadata": {},
   "outputs": [],
   "source": [
    "from pyphoplacecellanalysis.General.Pipeline.Stages.ComputationFunctions.MultiContextComputationFunctions.RankOrderComputations import DirectionalRankOrderResult\n",
    "from pyphocorehelpers.DataStructure.RenderPlots.MatplotLibRenderPlots import MatplotlibRenderPlots \n",
    "\n",
    "# @register_type_display(DirectionalRankOrderResult)\n",
    "def plot_histograms(self: DirectionalRankOrderResult, **kwargs) -> \"MatplotlibRenderPlots\":\n",
    "\t\"\"\" \n",
    "\tnum='RipplesRankOrderZscore'\n",
    "\t\"\"\"\n",
    "\tprint(f'.plot_histograms(..., kwargs: {kwargs})')\n",
    "\tfig = plt.figure(layout=\"constrained\", **kwargs)\n",
    "\tax_dict = fig.subplot_mosaic(\n",
    "\t\t[\n",
    "\t\t\t[\"long_short_best_z_score_diff\", \"long_short_best_z_score_diff\"],\n",
    "\t\t\t[\"long_best_z_scores\", \"short_best_z_scores\"],\n",
    "\t\t],\n",
    "\t)\n",
    "\tplots = (pd.DataFrame({'long_best_z_scores': self.long_best_dir_z_score_values}).hist(ax=ax_dict['long_best_z_scores'], bins=21, alpha=0.8),\n",
    "\t\tpd.DataFrame({'short_best_z_scores': self.short_best_dir_z_score_values}).hist(ax=ax_dict['short_best_z_scores'], bins=21, alpha=0.8),\n",
    "\t\tpd.DataFrame({'long_short_best_z_score_diff': self.long_short_best_dir_z_score_diff_values}).hist(ax=ax_dict['long_short_best_z_score_diff'], bins=21, alpha=0.8),\n",
    "\t)\n",
    "\treturn MatplotlibRenderPlots(name='plot_histogram_figure', figures=[fig], axes=ax_dict)\n",
    "\n",
    "\n",
    "# register_type_display(plot_histograms, DirectionalRankOrderResult)\n",
    "## Call the newly added `plot_histograms` function on the `ripple_result_tuple` object which is of type `DirectionalRankOrderResult`:\n",
    "assert isinstance(ripple_result_tuple, DirectionalRankOrderResult) \n",
    "ripple_result_tuple.plot_histograms(num='test')"
   ]
  },
  {
   "cell_type": "code",
   "execution_count": null,
   "id": "1c291690",
   "metadata": {},
   "outputs": [],
   "source": [
    "ripple_result_tuple.plot_histograms()"
   ]
  },
  {
   "cell_type": "code",
   "execution_count": null,
   "id": "33b30bcb",
   "metadata": {},
   "outputs": [],
   "source": [
    "# 💾 CSVs \n",
    "print(f'\\t try saving to CSV...')\n",
    "merged_complete_epoch_stats_df = rank_order_results.ripple_merged_complete_epoch_stats_df ## New method\n",
    "merged_complete_epoch_stats_df\n",
    "merged_complete_ripple_epoch_stats_df_output_path = curr_active_pipeline.get_output_path().joinpath(f'{DAY_DATE_TO_USE}_merged_complete_epoch_stats_df.csv').resolve()\n",
    "merged_complete_epoch_stats_df.to_csv(merged_complete_ripple_epoch_stats_df_output_path)\n",
    "print(f'\\t saving to CSV: {merged_complete_ripple_epoch_stats_df_output_path} done.')"
   ]
  },
  {
   "cell_type": "code",
   "execution_count": null,
   "id": "60749347",
   "metadata": {
    "notebookRunGroups": {
     "groupValue": "1"
    }
   },
   "outputs": [],
   "source": [
    "print(f'\\tdone. building global result.')\n",
    "directional_laps_results: DirectionalLapsResult = curr_active_pipeline.global_computation_results.computed_data['DirectionalLaps']\n",
    "selected_spikes_df = deepcopy(curr_active_pipeline.global_computation_results.computed_data['RankOrder'].LR_ripple.selected_spikes_df)\n",
    "# active_epochs = global_computation_results.computed_data['RankOrder'].ripple_most_likely_result_tuple.active_epochs\n",
    "active_epochs = deepcopy(curr_active_pipeline.global_computation_results.computed_data['RankOrder'].LR_ripple.epochs_df)\n",
    "track_templates = directional_laps_results.get_templates(minimum_inclusion_fr_Hz=minimum_inclusion_fr_Hz)\n",
    "\n",
    "ripple_combined_epoch_stats_df, ripple_new_output_tuple = RankOrderAnalyses.pandas_df_based_correlation_computations(selected_spikes_df=selected_spikes_df, active_epochs_df=active_epochs, track_templates=track_templates, num_shuffles=100)"
   ]
  },
  {
   "cell_type": "code",
   "execution_count": null,
   "id": "313886d9",
   "metadata": {},
   "outputs": [],
   "source": [
    "# new_output_tuple (output_active_epoch_computed_values, valid_stacked_arrays, real_stacked_arrays, n_valid_shuffles) = ripple_new_output_tuple\n",
    "curr_active_pipeline.global_computation_results.computed_data['RankOrder'].ripple_combined_epoch_stats_df, curr_active_pipeline.global_computation_results.computed_data['RankOrder'].ripple_new_output_tuple = ripple_combined_epoch_stats_df, ripple_new_output_tuple\n",
    "print(f'done!')"
   ]
  },
  {
   "cell_type": "markdown",
   "id": "fc018065",
   "metadata": {},
   "source": [
    "# Call perform_sweep_decoding_time_bin_sizes_marginals_dfs_completion_function"
   ]
  },
  {
   "cell_type": "code",
   "execution_count": null,
   "id": "82c6522e",
   "metadata": {},
   "outputs": [],
   "source": [
    "from pyphoplacecellanalysis.General.Pipeline.Stages.ComputationFunctions.MultiContextComputationFunctions.DirectionalPlacefieldGlobalComputationFunctions import _subfn_compute_complete_df_metrics\n",
    "from pyphoplacecellanalysis.General.Batch.BatchJobCompletion.UserCompletionHelpers.batch_user_completion_helpers import perform_sweep_decoding_time_bin_sizes_marginals_dfs_completion_function\n",
    "from pyphoplacecellanalysis.General.Batch.BatchJobCompletion.UserCompletionHelpers.batch_user_completion_helpers import SimpleBatchComputationDummy\n",
    "\n",
    "a_dummy = SimpleBatchComputationDummy(BATCH_DATE_TO_USE, collected_outputs_path, True)\n",
    "\n",
    "## Settings:\n",
    "return_full_decoding_results: bool = True\n",
    "save_hdf: bool = True\n",
    "save_csvs:bool = True\n",
    "_across_session_results_extended_dict = {}\n",
    "\n",
    "additional_session_context = None\n",
    "try:\n",
    "\tif custom_suffix is not None:\n",
    "\t\tadditional_session_context = IdentifyingContext(custom_suffix=custom_suffix)\n",
    "\t\tprint(f'Using custom suffix: \"{custom_suffix}\" - additional_session_context: \"{additional_session_context}\"')\n",
    "except NameError as err:\n",
    "\tadditional_session_context = None\n",
    "\tprint(f'NO CUSTOM SUFFIX.')    \n",
    "\n",
    "# %pdb on\n",
    "## Combine the output of `perform_sweep_decoding_time_bin_sizes_marginals_dfs_completion_function` into two dataframes for the laps, one per-epoch and one per-time-bin\n",
    "# desired_shared_decoding_time_bin_sizes = np.linspace(start=0.030, stop=0.5, num=10)\n",
    "# desired_shared_decoding_time_bin_sizes = np.linspace(start=0.005, stop=0.03, num=10)\n",
    "# _across_session_results_extended_dict = _across_session_results_extended_dict | perform_sweep_decoding_time_bin_sizes_marginals_dfs_completion_function(a_dummy, None,\n",
    "# \t\t\t\t\t\t\t\t\t\t\t\tcurr_session_context=curr_active_pipeline.get_session_context(), curr_session_basedir=curr_active_pipeline.sess.basepath.resolve(), curr_active_pipeline=curr_active_pipeline,\n",
    "# \t\t\t\t\t\t\t\t\t\t\t\tacross_session_results_extended_dict=_across_session_results_extended_dict, save_hdf=save_hdf, return_full_decoding_results=return_full_decoding_results,\n",
    "#                                                 desired_shared_decoding_time_bin_sizes=desired_shared_decoding_time_bin_sizes,\n",
    "#                                                 )\n",
    "\n",
    "\n",
    "# desired_laps_decoding_time_bin_size = [None] # doesn't work\n",
    "desired_laps_decoding_time_bin_size = [1.5] # large so it doesn't take long\n",
    "# desired_ripple_decoding_time_bin_size = [0.010, 0.020]\n",
    "desired_ripple_decoding_time_bin_size = [0.020, 0.025]\n",
    "\n",
    "custom_all_param_sweep_options, param_sweep_option_n_values = parameter_sweeps(desired_laps_decoding_time_bin_size=desired_laps_decoding_time_bin_size,\n",
    "\t\t\t\t\t\t\t\t\t\t\t\t\t\t\t\t\t\t\t\tdesired_ripple_decoding_time_bin_size=desired_ripple_decoding_time_bin_size,\n",
    "\t\t\t\t\t\t\t\t\t\t\t\t\t\t\t\t\t\tuse_single_time_bin_per_epoch=[False],\n",
    "\t\t\t\t\t\t\t\t\t\t\t\t\t\t\t\t\t\tminimum_event_duration=[desired_ripple_decoding_time_bin_size[-1]])\n",
    "\n",
    "\n",
    "_across_session_results_extended_dict = _across_session_results_extended_dict | perform_sweep_decoding_time_bin_sizes_marginals_dfs_completion_function(a_dummy, None,\n",
    "\t\t\t\t\t\t\t\t\t\t\t\tcurr_session_context=curr_active_pipeline.get_session_context(), curr_session_basedir=curr_active_pipeline.sess.basepath.resolve(), curr_active_pipeline=curr_active_pipeline,\n",
    "\t\t\t\t\t\t\t\t\t\t\t\tacross_session_results_extended_dict=_across_session_results_extended_dict, save_hdf=save_hdf, save_csvs=save_csvs, return_full_decoding_results=return_full_decoding_results,\n",
    "\t\t\t\t\t\t\t\t\t\t\t\t# desired_shared_decoding_time_bin_sizes = np.linspace(start=0.030, stop=0.5, num=4),\n",
    "\t\t\t\t\t\t\t\t\t\t\t\tcustom_all_param_sweep_options=custom_all_param_sweep_options, # directly provide the parameter sweeps\n",
    "\t\t\t\t\t\t\t\t\t\t\t\t# additional_session_context=additional_session_context,\n",
    "\t\t\t\t\t\t\t\t\t\t\t\tadditional_session_context=IdentifyingContext(custom_suffix=None)\n",
    "\t\t\t\t\t\t\t\t\t\t\t\t)\n",
    "\n",
    "\n",
    "if return_full_decoding_results:\n",
    "\t# with `return_full_decoding_results == True`\n",
    "\tout_path, output_laps_decoding_accuracy_results_df, output_extracted_result_tuples, combined_multi_timebin_outputs_tuple, output_full_directional_merged_decoders_result, output_directional_decoders_epochs_decode_results_dict = _across_session_results_extended_dict['perform_sweep_decoding_time_bin_sizes_marginals_dfs_completion_function']\n",
    "\t# validate the result:\n",
    "\t{k:v.all_directional_laps_filter_epochs_decoder_result.decoding_time_bin_size for k,v in output_full_directional_merged_decoders_result.items()}\n",
    "\t# assert np.all([np.isclose(dict(k)['desired_shared_decoding_time_bin_size'], v.all_directional_laps_filter_epochs_decoder_result.decoding_time_bin_size) for k,v in output_full_directional_merged_decoders_result.items()]), f\"the desired time_bin_size in the parameters should match the one used that will appear in the decoded result\"\n",
    "\n",
    "else:\n",
    "\t# with `return_full_decoding_results == False`\n",
    "\tout_path, output_laps_decoding_accuracy_results_df, output_extracted_result_tuples, combined_multi_timebin_outputs_tuple = _across_session_results_extended_dict['perform_sweep_decoding_time_bin_sizes_marginals_dfs_completion_function']\n",
    "\toutput_full_directional_merged_decoders_result = None\n",
    "\n",
    "\n",
    "(several_time_bin_sizes_laps_df, laps_out_path, several_time_bin_sizes_time_bin_laps_df, laps_time_bin_marginals_out_path), (several_time_bin_sizes_ripple_df, ripple_out_path, several_time_bin_sizes_time_bin_ripple_df, ripple_time_bin_marginals_out_path) = combined_multi_timebin_outputs_tuple\n"
   ]
  },
  {
   "cell_type": "code",
   "execution_count": null,
   "id": "44cb39d3",
   "metadata": {},
   "outputs": [],
   "source": [
    "several_time_bin_sizes_ripple_df\n",
    "\n",
    "ripple_out_path # 'K:/scratch/collected_outputs/2024-07-05-kdiba_gor01_two_2006-6-07_16-40-19__withNewKamranExportedReplays-(ripple_marginals_df).csv'\n",
    "# 'K:/scratch/collected_outputs/2024-07-05-kdiba_gor01_two_2006-6-07_16-40-19__withNewComputedReplays-qclu_[1, 2]-frateThresh_5.0-(ripple_marginals_df).csv'\n",
    "several_time_bin_sizes_time_bin_ripple_df\n",
    "\n",
    "ripple_time_bin_marginals_out_path # 'K:/scratch/collected_outputs/2024-07-05-kdiba_gor01_two_2006-6-07_16-40-19__withNewKamranExportedReplays-(ripple_time_bin_marginals_df).csv'\n",
    "# 'K:/scratch/collected_outputs/2024-07-05-kdiba_gor01_two_2006-6-07_16-40-19__withNewComputedReplays-qclu_[1, 2]-frateThresh_5.0-(ripple_time_bin_marginals_df).csv'\n"
   ]
  },
  {
   "cell_type": "code",
   "execution_count": null,
   "id": "6d2dfa3e",
   "metadata": {},
   "outputs": [],
   "source": [
    "v: DecoderDecodedEpochsResult = list(output_directional_decoders_epochs_decode_results_dict.values())[0]\n",
    "v.add_all_extra_epoch_columns(curr_active_pipeline=curr_active_pipeline, track_templates=track_templates)\n",
    "# _out = v.export_csvs(parent_output_path=collected_outputs_path, active_context=curr_active_pipeline.get_session_context(), session_name=curr_active_pipeline.session_name, curr_session_t_delta=t_delta)\n",
    "\n",
    "# assert self.collected_outputs_path.exists()\n",
    "# curr_session_name: str = curr_active_pipeline.session_name # '2006-6-08_14-26-15'\n",
    "# CURR_BATCH_OUTPUT_PREFIX: str = f\"{self.BATCH_DATE_TO_USE}-{curr_session_name}\"\n",
    "# print(f'CURR_BATCH_OUTPUT_PREFIX: {CURR_BATCH_OUTPUT_PREFIX}')\n",
    "\n",
    "# from pyphoplacecellanalysis.General.Batch.NonInteractiveProcessing import batch_extended_computations\n",
    "# curr_active_pipeline.reload_default_computation_functions()\n",
    "# batch_extended_computations(curr_active_pipeline, include_includelist=['merged_directional_placefields'], include_global_functions=True, fail_on_exception=True, force_recompute=False)\n",
    "# directional_merged_decoders_result = curr_active_pipeline.global_computation_results.computed_data['DirectionalMergedDecoders']\n",
    "\n",
    "# active_context = curr_active_pipeline.get_session_context()\n",
    "# _out = directional_merged_decoders_result.compute_and_export_marginals_df_csvs(parent_output_path=self.collected_outputs_path, active_context=active_context)\n",
    "# print(f'successfully exported marginals_df_csvs to {self.collected_outputs_path}!')\n",
    "# (laps_marginals_df, laps_out_path), (ripple_marginals_df, ripple_out_path) = _out\n",
    "# (laps_marginals_df, laps_out_path, laps_time_bin_marginals_df, laps_time_bin_marginals_out_path), (ripple_marginals_df, ripple_out_path, ripple_time_bin_marginals_df, ripple_time_bin_marginals_out_path) = _out\n",
    "# print(f'\\tlaps_out_path: {laps_out_path}\\n\\tripple_out_path: {ripple_out_path}\\n\\tdone.')\n"
   ]
  },
  {
   "cell_type": "code",
   "execution_count": null,
   "id": "c58b6311",
   "metadata": {},
   "outputs": [],
   "source": [
    "_across_session_results_extended_dict['perform_sweep_decoding_time_bin_sizes_marginals_dfs_completion_function']"
   ]
  },
  {
   "cell_type": "code",
   "execution_count": null,
   "id": "260a8b74",
   "metadata": {},
   "outputs": [],
   "source": [
    "## Take extra computations from `_decode_and_evaluate_epochs_using_directional_decoders` and integrate into the multi-time-bin results from `perform_sweep_decoding_time_bin_sizes_marginals_dfs_completion_function`\n",
    "from pyphoplacecellanalysis.General.Pipeline.Stages.ComputationFunctions.MultiContextComputationFunctions.DirectionalPlacefieldGlobalComputationFunctions import _compute_all_df_score_metrics\n",
    "\n",
    "should_skip_radon_transform = True\n",
    "## Recompute the epoch scores/metrics such as radon transform and wcorr:\n",
    "\n",
    "a_sweep_tuple, a_pseudo_2D_result = list(output_full_directional_merged_decoders_result.items())[0]\n",
    "a_decoder_laps_filter_epochs_decoder_result_dict = deepcopy(a_pseudo_2D_result.all_directional_laps_filter_epochs_decoder_result)\n",
    "a_decoder_ripple_filter_epochs_decoder_result_dict = deepcopy(a_pseudo_2D_result.all_directional_ripple_filter_epochs_decoder_result)\n",
    "\n",
    "(decoder_laps_filter_epochs_decoder_result_dict, decoder_ripple_filter_epochs_decoder_result_dict), merged_df_outputs_tuple, raw_dict_outputs_tuple = _compute_all_df_score_metrics(directional_merged_decoders_result, track_templates,\n",
    "\t\t\t\t\t\t\t\t\t\t\t\t\t\t\t\t\t\t\t\t\t\t\t\t\t\t\t\t\t\t\t\t\t\t\t\t\t\t\t\t\t\t\t\t\tdecoder_laps_filter_epochs_decoder_result_dict=a_decoder_laps_filter_epochs_decoder_result_dict, decoder_ripple_filter_epochs_decoder_result_dict=a_decoder_ripple_filter_epochs_decoder_result_dict,\n",
    "\t\t\t\t\t\t\t\t\t\t\t\t\t\t\t\t\t\t\t\t\t\t\t\t\t\t\t\t\t\t\t\t\t\t\t\t\t\t\t\t\t\t\t\t\tspikes_df=deepcopy(curr_active_pipeline.sess.spikes_df),\n",
    "\t\t\t\t\t\t\t\t\t\t\t\t\t\t\t\t\t\t\t\t\t\t\t\t\t\t\t\t\t\t\t\t\t\t\t\t\t\t\t\t\t\t\t\t\tshould_skip_radon_transform=should_skip_radon_transform)\n",
    "laps_radon_transform_merged_df, ripple_radon_transform_merged_df, laps_weighted_corr_merged_df, ripple_weighted_corr_merged_df, laps_simple_pf_pearson_merged_df, ripple_simple_pf_pearson_merged_df = merged_df_outputs_tuple\n",
    "decoder_laps_radon_transform_df_dict, decoder_ripple_radon_transform_df_dict, decoder_laps_radon_transform_extras_dict, decoder_ripple_radon_transform_extras_dict, decoder_laps_weighted_corr_df_dict, decoder_ripple_weighted_corr_df_dict = raw_dict_outputs_tuple"
   ]
  },
  {
   "cell_type": "code",
   "execution_count": null,
   "id": "abfda868",
   "metadata": {},
   "outputs": [],
   "source": [
    "# `_perform_compute_custom_epoch_decoding`\n",
    "\n",
    "a_sweep_tuple\n",
    "# a_pseudo_2D_result.all_directional_laps_filter_epochs_decoder_result\n",
    "# a_pseudo_2D_result\n",
    "# a_pseudo_2D_result.short_directional_decoder_dict"
   ]
  },
  {
   "cell_type": "code",
   "execution_count": null,
   "id": "5b9603a0",
   "metadata": {},
   "outputs": [],
   "source": [
    "# print_keys_if_possible('several_time_bin_sizes_laps_df', several_time_bin_sizes_laps_df)\n",
    "print_keys_if_possible('output_full_directional_merged_decoders_result', output_full_directional_merged_decoders_result, max_depth=3)"
   ]
  },
  {
   "cell_type": "code",
   "execution_count": null,
   "id": "09a71abd",
   "metadata": {},
   "outputs": [],
   "source": [
    "# get_file_pat\n",
    "collected_outputs_path"
   ]
  },
  {
   "cell_type": "code",
   "execution_count": null,
   "id": "97c0f606",
   "metadata": {},
   "outputs": [],
   "source": [
    "output_laps_decoding_accuracy_results_df"
   ]
  },
  {
   "cell_type": "code",
   "execution_count": null,
   "id": "49dd6f87",
   "metadata": {},
   "outputs": [],
   "source": [
    "import seaborn as sns\n",
    "# from neuropy.utils.matplotlib_helpers import pho_jointplot\n",
    "from pyphoplacecellanalysis.Pho2D.statistics_plotting_helpers import pho_jointplot, plot_histograms\n",
    "sns.set_theme(style=\"ticks\")\n",
    "\n",
    "# def pho_jointplot(*args, **kwargs):\n",
    "# \t\"\"\" wraps sns.jointplot to allow adding titles/axis labels/etc.\"\"\"\n",
    "# \ttitle = kwargs.pop('title', None)\n",
    "# \t_out = sns.jointplot(*args, **kwargs)\n",
    "# \tif title is not None:\n",
    "# \t\tplt.suptitle(title)\n",
    "# \treturn _out\n",
    "\n",
    "common_kwargs = dict(ylim=(0,1), hue='time_bin_size') # , marginal_kws=dict(bins=25, fill=True)\n",
    "# sns.jointplot(data=a_laps_all_epoch_bins_marginals_df, x='lap_start_t', y='P_Long', kind=\"scatter\", color=\"#4CB391\")\n",
    "pho_jointplot(data=several_time_bin_sizes_laps_df, x='delta_aligned_start_t', y='P_Long', kind=\"scatter\", **common_kwargs, title='Laps: per epoch') #color=\"#4CB391\")\n",
    "pho_jointplot(data=several_time_bin_sizes_ripple_df, x='delta_aligned_start_t', y='P_Long', kind=\"scatter\", **common_kwargs, title='Ripple: per epoch')\n",
    "pho_jointplot(data=several_time_bin_sizes_time_bin_ripple_df, x='delta_aligned_start_t', y='P_Long', kind=\"scatter\", **common_kwargs, title='Ripple: per time bin')\n",
    "pho_jointplot(data=several_time_bin_sizes_time_bin_laps_df, x='delta_aligned_start_t', y='P_Long', kind=\"scatter\", **common_kwargs, title='Laps: per time bin')"
   ]
  },
  {
   "cell_type": "code",
   "execution_count": null,
   "id": "c43311ee",
   "metadata": {},
   "outputs": [],
   "source": [
    "from pyphoplacecellanalysis.SpecificResults.PendingNotebookCode import plot_histograms\n",
    "\n",
    "# You can use it like this:\n",
    "plot_histograms('Laps', 'One Session', several_time_bin_sizes_time_bin_laps_df, \"several\")\n",
    "plot_histograms('Ripples', 'One Session', several_time_bin_sizes_time_bin_ripple_df, \"several\")"
   ]
  },
  {
   "cell_type": "code",
   "execution_count": null,
   "id": "6a33b924",
   "metadata": {},
   "outputs": [],
   "source": [
    "several_time_bin_sizes_ripple_df"
   ]
  },
  {
   "cell_type": "code",
   "execution_count": null,
   "id": "e102212a",
   "metadata": {},
   "outputs": [],
   "source": [
    "# sns.displot(\n",
    "#     several_time_bin_sizes_laps_df, x=\"P_Long\", col=\"species\", row=\"time_bin_size\",\n",
    "#     binwidth=3, height=3, facet_kws=dict(margin_titles=True),\n",
    "# )\n",
    "\n",
    "sns.displot(\n",
    "\tseveral_time_bin_sizes_laps_df, x='delta_aligned_start_t', y='P_Long', row=\"time_bin_size\",\n",
    "\tbinwidth=3, height=3, facet_kws=dict(margin_titles=True),\n",
    ")\n"
   ]
  },
  {
   "cell_type": "markdown",
   "id": "be351c18",
   "metadata": {},
   "source": [
    "# 2024-01-31 - Reinvestigation regarding remapping"
   ]
  },
  {
   "cell_type": "code",
   "execution_count": null,
   "id": "911d7495",
   "metadata": {
    "notebookRunGroups": {
     "groupValue": "1"
    }
   },
   "outputs": [],
   "source": [
    "## long_short_endcap_analysis:\n",
    "truncation_checking_result: TruncationCheckingResults = curr_active_pipeline.global_computation_results.computed_data.long_short_endcap\n",
    "truncation_checking_result"
   ]
  },
  {
   "cell_type": "markdown",
   "id": "1a5d9b54",
   "metadata": {
    "notebookRunGroups": {
     "groupValue": "1"
    }
   },
   "source": [
    "## From Jonathan Long/Short Peaks\n",
    "\n",
    "adds `active_peak_prominence_2d_results` to existing `neuron_replay_stats_df` from `jonathan_firing_rate_analysis_result`, adding the `['long_pf2D_peak_x', 'long_pf2D_peak_y'] + ['short_pf2D_peak_x', 'short_pf2D_peak_y']` columns"
   ]
  },
  {
   "cell_type": "code",
   "execution_count": null,
   "id": "7a3641aa",
   "metadata": {},
   "outputs": [],
   "source": [
    "jonathan_firing_rate_analysis_result: JonathanFiringRateAnalysisResult = curr_active_pipeline.global_computation_results.computed_data.jonathan_firing_rate_analysis\n",
    "neuron_replay_stats_df: pd.DataFrame = deepcopy(jonathan_firing_rate_analysis_result.neuron_replay_stats_df)\n",
    "neuron_replay_stats_df, all_modified_columns = jonathan_firing_rate_analysis_result.add_peak_promenance_pf_peaks(curr_active_pipeline=curr_active_pipeline, track_templates=track_templates)\n",
    "neuron_replay_stats_df, all_modified_columns = jonathan_firing_rate_analysis_result.add_directional_pf_maximum_peaks(track_templates=track_templates)\n",
    "both_included_neuron_stats_df = deepcopy(neuron_replay_stats_df[neuron_replay_stats_df['LS_pf_peak_x_diff'].notnull()]).drop(columns=['track_membership', 'neuron_type'])\n",
    "neuron_replay_stats_df"
   ]
  },
  {
   "cell_type": "code",
   "execution_count": null,
   "id": "1325198f",
   "metadata": {},
   "outputs": [],
   "source": [
    "type(jonathan_firing_rate_analysis_result) # pyphoplacecellanalysis.General.Pipeline.Stages.ComputationFunctions.MultiContextComputationFunctions.LongShortTrackComputations.JonathanFiringRateAnalysisResult\n",
    "\n",
    "rdf_df: pd.DataFrame = deepcopy(jonathan_firing_rate_analysis_result.rdf.rdf)\n",
    "rdf_df"
   ]
  },
  {
   "cell_type": "code",
   "execution_count": null,
   "id": "d371a5e5",
   "metadata": {},
   "outputs": [],
   "source": [
    "# Save DataFrame to JSON\n",
    "output_path = Path(f'output/{get_now_day_str()}_rdf_df.json').resolve()\n",
    "rdf_df.to_json(output_path, orient='records', lines=True) ## This actually looks pretty good!\n",
    "output_path"
   ]
  },
  {
   "cell_type": "code",
   "execution_count": null,
   "id": "5a677cbc",
   "metadata": {},
   "outputs": [],
   "source": [
    "# Save DataFrame to JSON\n",
    "output_path = Path(f'output/{get_now_day_str()}_neuron_replay_stats_df.json').resolve()\n",
    "neuron_replay_stats_df.to_json(output_path, orient='records', lines=True) ## This actually looks pretty good!\n",
    "output_path"
   ]
  },
  {
   "cell_type": "code",
   "execution_count": null,
   "id": "41b794a2",
   "metadata": {},
   "outputs": [],
   "source": [
    "join_columns = ['start', 'end']\n",
    "invalid_columns = ['active_aclus', 'is_neuron_active', 'firing_rates']\n",
    "invalid_df_subset = rdf_df[join_columns + invalid_columns]\n",
    "invalid_df_subset\n",
    "\n",
    "# Reload DataFrame from JSON\n",
    "df_read: pd.DataFrame = pd.read_json(output_path, orient='records', lines=True)\n",
    "df_read\n",
    "\n",
    "# rdf_df.convert_dtypes().dtypes\n",
    "# rdf_df.dtypes"
   ]
  },
  {
   "cell_type": "code",
   "execution_count": null,
   "id": "9e7b50ca",
   "metadata": {},
   "outputs": [],
   "source": [
    "long_pf_aclus = both_included_neuron_stats_df.aclu[both_included_neuron_stats_df.has_long_pf].to_numpy()\n",
    "short_pf_aclus = both_included_neuron_stats_df.aclu[both_included_neuron_stats_df.has_short_pf].to_numpy()\n",
    "\n",
    "long_pf_aclus, short_pf_aclus"
   ]
  },
  {
   "cell_type": "markdown",
   "id": "a3c34fd9",
   "metadata": {
    "notebookRunGroups": {
     "groupValue": "1"
    }
   },
   "source": [
    "# 2024-04-09 - Maximum peaks only for each template. "
   ]
  },
  {
   "cell_type": "code",
   "execution_count": null,
   "id": "2bbcdfa7",
   "metadata": {},
   "outputs": [],
   "source": [
    "from pyphocorehelpers.indexing_helpers import NumpyHelpers\n",
    "from neuropy.utils.indexing_helpers import intersection_of_arrays, union_of_arrays\n",
    "from neuropy.utils.indexing_helpers import unwrap_single_item\n",
    "\n",
    "from typing import Dict, List, Tuple, Optional, Callable, Union, Any\n",
    "from typing import NewType\n",
    "from typing_extensions import TypeAlias\n",
    "from nptyping import NDArray\n",
    "import neuropy.utils.type_aliases as types\n",
    "DecoderName = NewType('DecoderName', str)\n",
    "\n",
    "from pyphoplacecellanalysis.General.Pipeline.Stages.ComputationFunctions.MultiContextComputationFunctions.DirectionalPlacefieldGlobalComputationFunctions import TrackTemplates\n",
    "\n",
    "# from pyphoplacecellanalysis.SpecificResults.PendingNotebookCode import _get_directional_pf_peaks_dfs\n",
    "\n",
    "# (LR_only_decoder_aclu_MAX_peak_maps_df, RL_only_decoder_aclu_MAX_peak_maps_df), AnyDir_decoder_aclu_MAX_peak_maps_df = _get_directional_pf_peaks_dfs(track_templates, drop_aclu_if_missing_long_or_short=False)\n",
    "\n",
    "(LR_only_decoder_aclu_MAX_peak_maps_df, RL_only_decoder_aclu_MAX_peak_maps_df), AnyDir_decoder_aclu_MAX_peak_maps_df = track_templates.get_directional_pf_maximum_peaks_dfs(drop_aclu_if_missing_long_or_short=False)\n",
    "\n",
    "\n",
    "AnyDir_decoder_aclu_MAX_peak_maps_df\n",
    "# LR_only_decoder_aclu_MAX_peak_maps_df\n",
    "# RL_only_decoder_aclu_MAX_peak_maps_df\n",
    "\n",
    "long_peak_x = LR_only_decoder_aclu_MAX_peak_maps_df['long_LR'].to_numpy()\n",
    "short_peak_x = LR_only_decoder_aclu_MAX_peak_maps_df['short_LR'].to_numpy()\n",
    "peak_x_diff = LR_only_decoder_aclu_MAX_peak_maps_df['peak_diff'].to_numpy()\n",
    "# decoder_aclu_peak_maps_dict\n",
    "\n",
    "## OUTPUTS: AnyDir_decoder_aclu_MAX_peak_maps_df,\n",
    "## OUTPUTS: LR_only_decoder_aclu_MAX_peak_maps_df, long_peak_x, long_peak_x, peak_x_diff\n",
    "## OUTPUTS: RL_only_decoder_aclu_MAX_peak_maps_df, long_peak_x, long_peak_x, peak_x_diff\n",
    "\n",
    "AnyDir_decoder_aclu_MAX_peak_maps_df\n",
    "LR_only_decoder_aclu_MAX_peak_maps_df\n",
    "RL_only_decoder_aclu_MAX_peak_maps_df\n"
   ]
  },
  {
   "cell_type": "code",
   "execution_count": null,
   "id": "bed05490",
   "metadata": {},
   "outputs": [],
   "source": [
    "a_filtered_flat_peaks_df: pd.DataFrame = deepcopy(AnyDir_decoder_aclu_MAX_peak_maps_df).reset_index(drop=False, names=['aclu'])\n",
    "a_filtered_flat_peaks_df"
   ]
  },
  {
   "cell_type": "code",
   "execution_count": null,
   "id": "9527c79f",
   "metadata": {},
   "outputs": [],
   "source": [
    "active_peak_prominence_2d_results.filtered_flat_peaks_df\n",
    "\n",
    "binned_peak_columns = ['peak_center_binned_x', 'peak_center_binned_y']\n",
    "continuous_peak_columns = ['peak_center_x', 'peak_center_y']\n",
    "\n",
    "['peak_prominence', 'peak_relative_height', 'slice_level_multiplier']\n",
    "\n",
    "['neuron_id', 'neuron_peak_firing_rate']\n"
   ]
  },
  {
   "cell_type": "markdown",
   "id": "604b90dc",
   "metadata": {},
   "source": [
    "## 2024-02-08 - Filter to find only the clear remap examples"
   ]
  },
  {
   "cell_type": "code",
   "execution_count": null,
   "id": "4aa2a67a",
   "metadata": {},
   "outputs": [],
   "source": [
    "from pyphoplacecellanalysis.Analysis.reliability import TrialByTrialActivity\n",
    "from pyphocorehelpers.indexing_helpers import dict_to_full_array\n",
    "\n",
    "any_decoder_neuron_IDs = deepcopy(track_templates.any_decoder_neuron_IDs)\n",
    "any_decoder_neuron_IDs"
   ]
  },
  {
   "cell_type": "markdown",
   "id": "eed0cf56",
   "metadata": {},
   "source": [
    "### Get num peaks exclusion:"
   ]
  },
  {
   "cell_type": "code",
   "execution_count": null,
   "id": "30c849dd",
   "metadata": {},
   "outputs": [],
   "source": [
    "## INPUTS: `directional_active_lap_pf_results_dicts`, not sure why\n",
    "\n",
    "neuron_ids_dict = {k:v.neuron_ids for k,v in directional_active_lap_pf_results_dicts.items()}\n",
    "neuron_ids_dict"
   ]
  },
  {
   "cell_type": "markdown",
   "id": "0ec42a8d",
   "metadata": {},
   "source": [
    "### Get stability for each cell"
   ]
  },
  {
   "cell_type": "markdown",
   "id": "6f5ec2d7",
   "metadata": {},
   "source": [
    "#### 2024-02-08 - 3pm - new stability dataframe to look at stability of each cell across decoders\n"
   ]
  },
  {
   "cell_type": "code",
   "execution_count": null,
   "id": "57869e27",
   "metadata": {},
   "outputs": [],
   "source": [
    "## INPUTS: directional_active_lap_pf_results_dicts\n",
    "\n",
    "# for k,v in directional_active_lap_pf_results_dicts.items():\n",
    "# stability_dict = {k:v.aclu_to_stability_score_dict for k,v in directional_active_lap_pf_results_dicts.items()}\n",
    "# stability_dict = {k:dict_to_full_array(v.aclu_to_stability_score_dict, full_indicies=any_decoder_neuron_IDs, fill_value=0.0) for k,v in directional_active_lap_pf_results_dicts.items()}\n",
    "# stability_dict\n",
    "\n",
    "\n",
    "# list(stability_dict.values())\n",
    "\n",
    "stability_dict = {k:list(v.aclu_to_stability_score_dict.values()) for k,v in directional_active_lap_pf_results_dicts.items()}\n",
    "# stability_dict\n",
    "## all the same size hopefully!\n",
    "# [len(v) for v in list(stability_dict.values())]\n",
    "\n",
    "stability_df: pd.DataFrame = pd.DataFrame({'aclu': any_decoder_neuron_IDs, **stability_dict})\n",
    "# stability_df.rename(dict(zip([], [])))\n",
    "stability_df\n",
    "\n",
    "## OUTPUTS: stability_df, stability_dict"
   ]
  },
  {
   "cell_type": "markdown",
   "id": "0ef13541",
   "metadata": {},
   "source": [
    "# 2024-02-02 - napari_plot_directional_trial_by_trial_activity_viz Trial-by-trial Correlation Matrix C"
   ]
  },
  {
   "cell_type": "markdown",
   "id": "f2c4df5b",
   "metadata": {},
   "source": [
    "### 🎨 Show Trial-by-trial Correlation Matrix C in `napari`"
   ]
  },
  {
   "cell_type": "code",
   "execution_count": null,
   "id": "ad72df59",
   "metadata": {},
   "outputs": [],
   "source": [
    "import napari\n",
    "from pyphoplacecellanalysis.GUI.Napari.napari_helpers import napari_plot_directional_trial_by_trial_activity_viz, napari_trial_by_trial_activity_viz, build_aclu_label, napari_export_image_sequence"
   ]
  },
  {
   "cell_type": "code",
   "execution_count": null,
   "id": "09e1057c",
   "metadata": {},
   "outputs": [],
   "source": [
    "from magicgui.widgets import ComboBox, Container\n",
    "\n",
    "# annotating a paramater as `napari.Viewer` will automatically provide\n",
    "# the viewer that the function is embedded in, when the function is added to\n",
    "# the viewer with add_function_widget.\n",
    "def my_function(viewer: napari.Viewer):\n",
    "\tprint(viewer, f\"with {len(viewer.layers)} layers\")\n",
    "\n",
    "# Add our magic function to napari\n",
    "directional_viewer.window.add_function_widget(my_function)\n"
   ]
  },
  {
   "cell_type": "code",
   "execution_count": null,
   "id": "f45c8422",
   "metadata": {},
   "outputs": [],
   "source": [
    "\n",
    "## Directional\n",
    "directional_viewer, directional_image_layer_dict, custom_direction_split_layers_dict = napari_plot_directional_trial_by_trial_activity_viz(directional_active_lap_pf_results_dicts, include_trial_by_trial_correlation_matrix=True)\n",
    "a_result = list(directional_active_lap_pf_results_dicts.values())[0]\n",
    "a_matrix_IDX_to_aclu_map = {v:k for k, v in a_result.aclu_to_matrix_IDX_map.items()}\n",
    "on_update_slider, points_layer = build_aclu_label(directional_viewer, a_matrix_IDX_to_aclu_map)\n"
   ]
  },
  {
   "cell_type": "code",
   "execution_count": null,
   "id": "b1d79d5b",
   "metadata": {},
   "outputs": [],
   "source": [
    "## INPUTS: directional_trial_by_trial_activity_result\n",
    "for a_decoder_name, a_result in directional_trial_by_trial_activity_result.directional_active_lap_pf_results_dicts.items():\n",
    "\t# a_result.z_scored_tuning_map_matrix\n",
    "\n",
    "\tif a_decoder_name == 'maze_any':\n",
    "\t\t# smoothed_spikes_maps_matrix\n",
    "\t\tcurr_cum_z_scored_tuning_map_matrix = np.cumsum(a_result.z_scored_tuning_map_matrix, axis=0) \n",
    "\t\t# curr_cum_z_scored_tuning_map_matrix = curr_cum_z_scored_tuning_map_matrix / np.nansum(curr_cum_z_scored_tuning_map_matrix, axis=2, keepdims=True) # sum across all position bins for each neuron\n",
    "\t\t\n",
    "\t\t## Global:\n",
    "\t\t# viewer, image_layer_dict = napari_trial_by_trial_activity_viz(a_result.z_scored_tuning_map_matrix, a_result.C_trial_by_trial_correlation_matrix, title=f'Trial-by-trial Correlation Matrix C - Decoder {a_decoder_name}', axis_labels=('aclu', 'lap', 'xbin')) # GLOBAL\n",
    "\t\t\n",
    "\t\t# viewer, image_layer_dict = napari_trial_by_trial_activity_viz(curr_cum_z_scored_tuning_map_matrix, a_result.C_trial_by_trial_correlation_matrix, title=f'Trial-by-trial Cumulative Decoder {a_decoder_name}', axis_labels=('aclu', 'lap', 'xbin')) # GLOBAL\n",
    "\t\ta_viewer, image_layer_dict = napari_trial_by_trial_activity_viz(a_result.z_scored_tuning_map_matrix, a_result.C_trial_by_trial_correlation_matrix, curr_cum_z_scored_tuning_map_matrix, title=f'Trial-by-trial Cumulative Decoder {a_decoder_name}', axis_labels=('aclu', 'lap', 'xbin')) # GLOBAL\n",
    "\t\ta_matrix_IDX_to_aclu_map = {v:k for k, v in a_result.aclu_to_matrix_IDX_map.items()}\n",
    "\n",
    "\t\ton_update_slider, points_layer = build_aclu_label(a_viewer, a_matrix_IDX_to_aclu_map)\n"
   ]
  },
  {
   "cell_type": "markdown",
   "id": "40b4ec86",
   "metadata": {},
   "source": [
    "# 2023-09-07 - Track Graphics Testing"
   ]
  },
  {
   "cell_type": "markdown",
   "id": "40b53254",
   "metadata": {},
   "source": [
    "## 🟢🖼️🎨 2024-02-16 - NOW - Working Track Remapping Diagram Figure!!"
   ]
  },
  {
   "cell_type": "code",
   "execution_count": null,
   "id": "89b6d987",
   "metadata": {},
   "outputs": [],
   "source": [
    "from pyphoplacecellanalysis.Pho2D.track_shape_drawing import plot_bidirectional_track_remapping_diagram, _plot_track_remapping_diagram\n",
    "\n",
    "collector = plot_bidirectional_track_remapping_diagram(track_templates, grid_bin_bounds=long_pf2D.config.grid_bin_bounds, active_context=curr_active_pipeline.build_display_context_for_session(display_fn_name='plot_bidirectional_track_remapping_diagram'),\n",
    "\t\t\t\t\t\t\t\t\t\t\t\t\t\tenable_adjust_overlapping_text=False, draw_point_aclu_labels=False, enable_interactivity=False, is_dark_mode=False)"
   ]
  },
  {
   "cell_type": "code",
   "execution_count": null,
   "id": "99d1e9ad",
   "metadata": {},
   "outputs": [],
   "source": [
    "curr_active_pipeline.prepare_for_display()\n",
    "curr_active_pipeline.reload_default_display_functions()\n",
    "\n",
    "curr_active_pipeline.display('_display_directional_track_remapping_diagram', save_figure=True, is_dark_mode=False)"
   ]
  },
  {
   "cell_type": "code",
   "execution_count": null,
   "id": "f4701a77",
   "metadata": {},
   "outputs": [],
   "source": [
    "drop_aclu_if_missing_long_or_short = True\n",
    "# LR_only_decoder_aclu_MAX_peak_maps_df, RL_only_decoder_aclu_MAX_peak_maps_df = _get_directional_pf_peaks_dfs(track_templates, drop_aclu_if_missing_long_or_short=drop_aclu_if_missing_long_or_short)\n",
    "# drop_aclu_if_missing_long_or_short =False\n",
    "(LR_only_decoder_aclu_MAX_peak_maps_df, RL_only_decoder_aclu_MAX_peak_maps_df), AnyDir_decoder_aclu_MAX_peak_maps_df = track_templates.get_directional_pf_maximum_peaks_dfs(drop_aclu_if_missing_long_or_short=drop_aclu_if_missing_long_or_short)"
   ]
  },
  {
   "cell_type": "code",
   "execution_count": null,
   "id": "86c35494",
   "metadata": {},
   "outputs": [],
   "source": [
    "AnyDir_decoder_aclu_MAX_peak_maps_df"
   ]
  },
  {
   "cell_type": "code",
   "execution_count": null,
   "id": "1fcfe113",
   "metadata": {
    "notebookRunGroups": {
     "groupValue": "2"
    }
   },
   "outputs": [],
   "source": [
    "_by_ANY = AnyDir_decoder_aclu_MAX_peak_maps_df.sort_values(by=['long_LR', 'long_RL'], inplace=False)\n",
    "long_peak_sorted_unit_colors_ndarray_map = dict(zip(_by_ANY.index.to_numpy(), list(_unit_colors_ndarray_map.values())))\n",
    "long_peak_sorted_unit_colors_ndarray_map\n",
    "\n",
    "# LR_only_decoder_aclu_MAX_peak_maps_df.index"
   ]
  },
  {
   "cell_type": "code",
   "execution_count": null,
   "id": "f5286baf",
   "metadata": {},
   "outputs": [],
   "source": [
    "AnyDir_decoder_aclu_MAX_peak_maps_df"
   ]
  },
  {
   "cell_type": "code",
   "execution_count": null,
   "id": "00d3a4eb",
   "metadata": {},
   "outputs": [],
   "source": [
    "sort_helper_neuron_id_to_sort_IDX_dicts[0]"
   ]
  },
  {
   "cell_type": "code",
   "execution_count": null,
   "id": "5b7183e3",
   "metadata": {},
   "outputs": [],
   "source": [
    "long_peak_sorted_unit_colors_ndarray_map_LR = dict(zip(sorted_neuron_IDs_lists[0], list(_unit_colors_ndarray_map.values())))\n",
    "long_peak_sorted_unit_colors_ndarray_map_RL = dict(zip(sorted_neuron_IDs_lists[1], list(_unit_colors_ndarray_map.values())))\n",
    "long_peak_sorted_unit_colors_ndarray_map_LR\n",
    "long_peak_sorted_unit_colors_ndarray_map_RL"
   ]
  },
  {
   "cell_type": "code",
   "execution_count": null,
   "id": "be25d697",
   "metadata": {},
   "outputs": [],
   "source": [
    "import matplotlib.colors as mcolors\n",
    "import matplotlib.cm as cm\n",
    "\n",
    "colormap = mcolors.ListedColormap(['white'])\n",
    "normalize = mcolors.Normalize(vmin=active_aclus.min(), vmax=active_aclus.max())\n",
    "scalar_map = cm.ScalarMappable(norm=normalize, cmap=colormap)\n",
    "\n",
    "# Create a constant colormap with only white color\n",
    "\n",
    "color = scalar_map.to_rgba(active_aclus)\n",
    "\n",
    "color = [_unit_colors_ndarray_map[an_aclu] for an_aclu in active_aclus]\n"
   ]
  },
  {
   "cell_type": "code",
   "execution_count": null,
   "id": "f940aa5b",
   "metadata": {},
   "outputs": [],
   "source": [
    "curr_active_pipeline.clear_display_outputs()"
   ]
  },
  {
   "cell_type": "code",
   "execution_count": null,
   "id": "20a9a147",
   "metadata": {},
   "outputs": [],
   "source": [
    "## INPUTS:\n",
    "neuron_replay_stats_df\n",
    "\n",
    "_active_LR_aclus = np.array(list(_output_by_aclu_dict_LR.keys()))\n",
    "_active_LR_aclus\n",
    "\n",
    "is_active_LR_aclus = np.isin(neuron_replay_stats_df.aclu, _active_LR_aclus)\n",
    "_temp_neuron_replay_stats_df = neuron_replay_stats_df[is_active_LR_aclus]\n",
    "\n",
    "is_active_LR_long_peak_either_cap_dict = _temp_neuron_replay_stats_df['is_long_peak_either_cap'].to_dict()\n",
    "is_active_LR_long_peak_either_cap_dict\n",
    "\n",
    "\n",
    "# either_cap_aclu = {k:v for k,v in is_active_LR_long_peak_either_cap_dict.items() if (v is True)}\n",
    "\n",
    "active_LR_either_cap_aclus = np.array([k for k,v in is_active_LR_long_peak_either_cap_dict.items() if (v is True)])\n",
    "active_LR_either_cap_aclus\n"
   ]
  },
  {
   "cell_type": "code",
   "execution_count": null,
   "id": "32dac9ad",
   "metadata": {},
   "outputs": [],
   "source": [
    "# Set Selected ACLUS manually:\n",
    "\n",
    "## `FakePickEvent` is used to highlight specified aclus by emulating a selection event.\n",
    "#  matplotlib.backend_bases.PickEvent\n",
    "import attrs\n",
    "FakePickEvent = attrs.make_class(\"FakePickEvent\", {k:field() for k in (\"ind\", )})\n",
    "\n",
    "included_aclus = [45, 24, 17, 64]"
   ]
  },
  {
   "cell_type": "code",
   "execution_count": null,
   "id": "1689f191",
   "metadata": {},
   "outputs": [],
   "source": [
    "## INPUTS: included_aclus, LR_only_decoder_aclu_MAX_peak_maps_df, RL_only_decoder_aclu_MAX_peak_maps_df, _outputs_tuple_LR, _outputs_tuple_RL\n",
    "included_aclus = active_LR_either_cap_aclus\n",
    "# LR:\n",
    "LR_included_indicies = np.where(np.isin(LR_only_decoder_aclu_MAX_peak_maps_df.index, included_aclus))[0] # LR_included_indicies # [ 6,  9, 22, 36]\n",
    "LR_fake_event: FakePickEvent = FakePickEvent(ind=np.array(LR_included_indicies))\n",
    "_output_dict_LR, _output_by_aclu_dict_LR = _outputs_tuple_LR\n",
    "scatter_select_function_LR = _output_dict_LR['scatter_select_function']\n",
    "scatter_select_function_LR(LR_fake_event)\n",
    "\n",
    "## RL:\n",
    "RL_included_indicies = np.where(np.isin(RL_only_decoder_aclu_MAX_peak_maps_df.index, included_aclus))[0]\n",
    "RL_fake_event: FakePickEvent = FakePickEvent(ind=np.array(RL_included_indicies))\n",
    "_output_dict_RL, _output_by_aclu_dict_RL = _outputs_tuple_RL\n",
    "scatter_select_function_RL = _output_dict_RL['scatter_select_function']\n",
    "scatter_select_function_RL(RL_fake_event)"
   ]
  },
  {
   "cell_type": "code",
   "execution_count": null,
   "id": "4ce7326a",
   "metadata": {},
   "outputs": [],
   "source": [
    "curr_active_pipeline.sess.preprocessing_parameters"
   ]
  },
  {
   "cell_type": "markdown",
   "id": "2ee6fcb1",
   "metadata": {},
   "source": [
    "# 🎨 2024-02-06 - Other Plotting"
   ]
  },
  {
   "cell_type": "code",
   "execution_count": null,
   "id": "5d5623a2",
   "metadata": {
    "notebookRunGroups": {
     "groupValue": "2"
    }
   },
   "outputs": [],
   "source": [
    "from pyphoplacecellanalysis.Pho2D.PyQtPlots.TimeSynchronizedPlotters.TimeSynchronizedPlacefieldsPlotter import TimeSynchronizedPlacefieldsPlotter\n",
    "\n",
    "#  Create a new `SpikeRaster2D` instance using `_display_spike_raster_pyqtplot_2D` and capture its outputs:\n",
    "curr_active_pipeline.reload_default_display_functions()\n",
    "curr_active_pipeline.prepare_for_display()"
   ]
  },
  {
   "cell_type": "code",
   "execution_count": null,
   "id": "968df7ce",
   "metadata": {},
   "outputs": [],
   "source": [
    "from pyphocorehelpers.gui.Qt.tree_helpers import find_tree_item_by_text\n",
    "from pyphoplacecellanalysis.GUI.Qt.MainApplicationWindows.LauncherWidget.LauncherWidget import LauncherWidget\n",
    "\n",
    "widget = LauncherWidget()\n",
    "treeWidget = widget.mainTreeWidget # QTreeWidget\n",
    "widget.build_for_pipeline(curr_active_pipeline=curr_active_pipeline)\n",
    "widget.show()"
   ]
  },
  {
   "cell_type": "code",
   "execution_count": null,
   "id": "650eea58",
   "metadata": {},
   "outputs": [],
   "source": [
    "from pyphoplacecellanalysis.GUI.Qt.SpikeRasterWindows.Spike3DRasterWindowWidget import Spike3DRasterWindowWidget\n",
    "\n",
    "# Gets the existing SpikeRasterWindow or creates a new one if one doesn't already exist:\n",
    "spike_raster_window, (active_2d_plot, active_3d_plot, main_graphics_layout_widget, main_plot_widget, background_static_scroll_plot_widget) = Spike3DRasterWindowWidget.find_or_create_if_needed(curr_active_pipeline, force_create_new=True)\n",
    "spike_raster_window"
   ]
  },
  {
   "cell_type": "code",
   "execution_count": null,
   "id": "00a0c7f0",
   "metadata": {},
   "outputs": [],
   "source": [
    "add_renderables_menu = active_2d_plot.ui.menus.custom_context_menus.add_renderables[0].programmatic_actions_dict\n",
    "menu_commands = ['AddTimeIntervals.PBEs', 'AddTimeIntervals.Ripples', 'AddTimeIntervals.Replays', 'AddTimeIntervals.Laps'] # , 'AddTimeIntervals.SessionEpochs'\n",
    "for a_command in menu_commands:\n",
    "\tadd_renderables_menu[a_command].trigger()"
   ]
  },
  {
   "cell_type": "code",
   "execution_count": null,
   "id": "b3a70360",
   "metadata": {},
   "outputs": [],
   "source": [
    "spike_raster_window.build_epoch_intervals_visual_configs_widget()"
   ]
  },
  {
   "cell_type": "code",
   "execution_count": null,
   "id": "6b41f353",
   "metadata": {},
   "outputs": [],
   "source": [
    "## Downsample the preview background scroller for more fluid scrolling? Or is that not the problem?\n"
   ]
  },
  {
   "cell_type": "code",
   "execution_count": null,
   "id": "54ab62cd",
   "metadata": {},
   "outputs": [],
   "source": [
    "## Disconnect the connection to see if that's what lagging out the scrolling\n"
   ]
  },
  {
   "cell_type": "code",
   "execution_count": null,
   "id": "0571368d",
   "metadata": {},
   "outputs": [],
   "source": [
    "spike_raster_window.connection_man.active_connections\n"
   ]
  },
  {
   "cell_type": "code",
   "execution_count": null,
   "id": "49ce9f36",
   "metadata": {},
   "outputs": [],
   "source": [
    "active_2d_plot.rate_limited_signal_scrolled_proxy"
   ]
  },
  {
   "cell_type": "code",
   "execution_count": null,
   "id": "66e77367",
   "metadata": {},
   "outputs": [],
   "source": [
    "active_2d_plot.enable_debug_print = True"
   ]
  },
  {
   "cell_type": "code",
   "execution_count": null,
   "id": "71114415",
   "metadata": {},
   "outputs": [],
   "source": [
    "with VizTracer(output_file=f\"viztracer_{get_now_time_str()}-SpikeRaster2D_update_time.json\", min_duration=200, tracer_entries=3000000, ignore_frozen=True) as tracer:\n",
    "\tactive_2d_plot.update_scroll_window_region(441.0, 442.0, block_signals=False)"
   ]
  },
  {
   "cell_type": "code",
   "execution_count": null,
   "id": "2ccf6288",
   "metadata": {},
   "outputs": [],
   "source": [
    "## Add the legends:\n",
    "legends_dict = active_2d_plot.build_or_update_all_epoch_interval_rect_legends()"
   ]
  },
  {
   "cell_type": "code",
   "execution_count": null,
   "id": "d468776b",
   "metadata": {},
   "outputs": [],
   "source": [
    "## Remove the legends\n",
    "active_2d_plot.remove_all_epoch_interval_rect_legends()"
   ]
  },
  {
   "cell_type": "code",
   "execution_count": null,
   "id": "72734c24",
   "metadata": {},
   "outputs": [],
   "source": [
    "from pyphoplacecellanalysis.PhoPositionalData.plotting.mixins.epochs_plotting_mixins import EpochDisplayConfig, _get_default_epoch_configs\n",
    "from pyphoplacecellanalysis.GUI.Qt.Widgets.EpochRenderConfigWidget.EpochRenderConfigWidget import EpochRenderConfigWidget, EpochRenderConfigsListWidget\n",
    "\n",
    "## Build right-sidebar epoch interval configs widget:\n",
    "spike_raster_window.build_epoch_intervals_visual_configs_widget()\n"
   ]
  },
  {
   "cell_type": "code",
   "execution_count": null,
   "id": "a702de2a",
   "metadata": {},
   "outputs": [],
   "source": [
    "\"\"\" `Plotted Rects` -> `configs widget`\"\"\" \n",
    "active_2d_plot.build_or_update_epoch_render_configs_widget()"
   ]
  },
  {
   "cell_type": "code",
   "execution_count": null,
   "id": "25608e70",
   "metadata": {},
   "outputs": [],
   "source": [
    "## Update plots from configs:\n",
    "#     configs widget -> `Plotted Rects` \n",
    "active_2d_plot.update_epochs_from_configs_widget()"
   ]
  },
  {
   "cell_type": "code",
   "execution_count": null,
   "id": "3cd250fb",
   "metadata": {},
   "outputs": [],
   "source": [
    "an_epochs_display_list_widget = active_2d_plot.ui['epochs_render_configs_widget']\n",
    "_out_configs = deepcopy(an_epochs_display_list_widget.configs_from_states())\n",
    "_out_configs\n",
    "\n",
    "# {'diba_evt_file': EpochDisplayConfig(brush_color='#008000', brush_opacity=0.7843137254901961, desired_height_ratio=1.0, height=10.0, isVisible=True, name='diba_evt_file', pen_color='#008000', pen_opacity=0.6078431372549019, y_location=-52.0),\n",
    "#  'initial_loaded': EpochDisplayConfig(brush_color='#ffffff', brush_opacity=0.7843137254901961, desired_height_ratio=1.0, height=10.0, isVisible=True, name='initial_loaded', pen_color='#ffffff', pen_opacity=0.6078431372549019, y_location=-42.0),\n",
    "#  'PBEs': EpochDisplayConfig(brush_color='#aa55ff', brush_opacity=0.7843137254901961, desired_height_ratio=1.0, height=10.0, isVisible=True, name='PBEs', pen_color='#aaaaff', pen_opacity=0.6078431372549019, y_location=-32.0),\n",
    "#  'Ripples': EpochDisplayConfig(brush_color='#0000ff', brush_opacity=0.7843137254901961, desired_height_ratio=1.0, height=10.0, isVisible=True, name='Ripples', pen_color='#0000ff', pen_opacity=0.6078431372549019, y_location=-22.0),\n",
    "#  'Laps': EpochDisplayConfig(brush_color='#ff0000', brush_opacity=0.7843137254901961, desired_height_ratio=1.0, height=10.0, isVisible=True, name='Laps', pen_color='#ff0000', pen_opacity=0.6078431372549019, y_location=-12.0),\n",
    "#  'normal_computed': EpochDisplayConfig(brush_color='#800080', brush_opacity=0.7843137254901961, desired_height_ratio=1.0, height=10.0, isVisible=True, name='normal_computed', pen_color='#800080', pen_opacity=0.6078431372549019, y_location=-62.0),\n",
    "#  'diba_quiescent_method_replay_epochs': EpochDisplayConfig(brush_color='#ffa500', brush_opacity=0.7843137254901961, desired_height_ratio=1.0, height=10.0, isVisible=True, name='diba_quiescent_method_replay_epochs', pen_color='#ffa500', pen_opacity=0.6078431372549019, y_location=-72.0)}\n"
   ]
  },
  {
   "cell_type": "code",
   "execution_count": null,
   "id": "86465b06",
   "metadata": {},
   "outputs": [],
   "source": [
    "update_dict = {k:v.to_dict() for k, v in _out_configs.items()}\n",
    "update_dict"
   ]
  },
  {
   "cell_type": "code",
   "execution_count": null,
   "id": "1b5a38ec",
   "metadata": {},
   "outputs": [],
   "source": []
  },
  {
   "cell_type": "code",
   "execution_count": null,
   "id": "e187827b",
   "metadata": {},
   "outputs": [],
   "source": [
    "def _on_update_rendered_intervals(active_2d_plot):\n",
    "\tprint(f'_on_update_rendered_intervals(...)')\n",
    "\t_legends_dict = active_2d_plot.build_or_update_all_epoch_interval_rect_legends()\n",
    "\tepoch_display_configs = active_2d_plot.extract_interval_display_config_lists()\n",
    "\tan_epochs_display_list_widget = active_2d_plot.ui.get('epochs_render_configs_widget', None)\n",
    "\tif an_epochs_display_list_widget is None:\n",
    "\t\t# create a new one:    \n",
    "\t\tan_epochs_display_list_widget:EpochRenderConfigsListWidget = EpochRenderConfigsListWidget(epoch_display_configs, parent=a_layout_widget)\n",
    "\t\tactive_2d_plot.ui.epochs_render_configs_widget = an_epochs_display_list_widget\n",
    "\telse:\n",
    "\t\tan_epochs_display_list_widget.update_from_configs(configs=epoch_display_configs)\n",
    "\n",
    "_a_connection = active_2d_plot.sigRenderedIntervalsListChanged.connect(_on_update_rendered_intervals)"
   ]
  },
  {
   "cell_type": "code",
   "execution_count": null,
   "id": "8c3096fc",
   "metadata": {},
   "outputs": [],
   "source": [
    "from pyphoplacecellanalysis.GUI.PyQtPlot.Widgets.SpikeRasterWidgets.Spike2DRaster import EpochRenderingMixin\n",
    "\n",
    "@function_attributes(short_name=None, tags=['epoch_intervals', 'layout', 'update', 'IMPORTANT'], input_requires=[], output_provides=[], uses=[], used_by=[], creation_date='2024-07-03 05:21', related_items=[])\n",
    "def rebuild_epoch_interval_layouts_given_normalized_heights(active_2d_plot, desired_epoch_render_stack_height:float=70.0):\n",
    "\t\"\"\" Re-builds the stacked epoch layout to prevent them from overlapping and to normalize their height\n",
    "\t\n",
    "\tdesired_epoch_render_stack_height: total height for all of the epochs\n",
    "\t\n",
    "\t\"\"\"\n",
    "\tfrom pyphoplacecellanalysis.GUI.PyQtPlot.Widgets.SpikeRasterWidgets.Spike2DRaster import EpochRenderingMixin\n",
    "\tactive_epochs_formatting_dict = active_2d_plot.extract_interval_display_config_lists() ## gets existing formatting dict\n",
    "\n",
    "\t# extracts only the height, considers only the first config if the entry is a list:\n",
    "\t# original_epoch_display_config_heights = {k:v[0].to_dict()['height'] for k, v in active_epochs_formatting_dict.items()} # {'Replays': 1.9, 'Laps': 0.9, 'diba_evt_file': 10.0, 'initial_loaded': 10.0, 'diba_quiescent_method_replay_epochs': 10.0, 'Ripples': 0.9, 'normal_computed': 10.0}\n",
    "\t# original_epoch_display_config_heights ## original heights\n",
    "\trequired_vertical_offsets, required_interval_heights = EpochRenderingMixin.build_stacked_epoch_layout((len(active_epochs_formatting_dict) * [1.0]), epoch_render_stack_height=desired_epoch_render_stack_height, interval_stack_location='below') # ratio of heights to each interval\n",
    "\tstacked_epoch_layout_dict = {interval_key:dict(y_location=y_location, height=height) for interval_key, y_location, height in zip(list(active_epochs_formatting_dict.keys()), required_vertical_offsets, required_interval_heights)} # Build a stacked_epoch_layout_dict to update the display\n",
    "\t# stacked_epoch_layout_dict # {'LapsAll': {'y_location': -3.6363636363636367, 'height': 3.6363636363636367}, 'LapsTrain': {'y_location': -21.818181818181817, 'height': 18.18181818181818}, 'LapsTest': {'y_location': -40.0, 'height': 18.18181818181818}}\n",
    "\t# stacked_epoch_layout_dict\n",
    "\n",
    "\t# replaces 'y_location', 'position' for each dict:\n",
    "\tupdate_dict = {k:(v[0].to_dict()|stacked_epoch_layout_dict[k]) for k, v in active_epochs_formatting_dict.items()} # builds a proper update dict from the `active_epochs_formatting_dict` and the new position and height adjustments\n",
    "\t# update_dict\n",
    "\tactive_2d_plot.update_rendered_intervals_visualization_properties(update_dict=update_dict)\n",
    "\n",
    "rebuild_epoch_interval_layouts_given_normalized_heights(active_2d_plot, desired_epoch_render_stack_height=60.0)"
   ]
  },
  {
   "cell_type": "code",
   "execution_count": null,
   "id": "edd03f18",
   "metadata": {},
   "outputs": [],
   "source": [
    "# epoch_display_configs = {k:get_dict_subset(v[0].to_dict(), ['height', 'y_location']) for k, v in active_2d_plot.extract_interval_display_config_lists().items()}\n",
    "# epoch_display_configs\n",
    "\n",
    "## Re-build the stacked epochs to prevent them from overlapping:\n",
    "\n",
    "from pyphoplacecellanalysis.GUI.PyQtPlot.Widgets.SpikeRasterWidgets.Spike2DRaster import EpochRenderingMixin\n",
    "\n",
    "\n",
    "active_epochs_formatting_dict = active_2d_plot.extract_interval_display_config_lists()\n",
    "\n",
    "epoch_display_config_heights = {k:v[0].to_dict()['height'] for k, v in active_epochs_formatting_dict.items()} # {'Replays': 1.9, 'Laps': 0.9, 'diba_evt_file': 10.0, 'initial_loaded': 10.0, 'diba_quiescent_method_replay_epochs': 10.0, 'Ripples': 0.9, 'normal_computed': 10.0}\n",
    "epoch_display_config_heights\n",
    "required_vertical_offsets, required_interval_heights = EpochRenderingMixin.build_stacked_epoch_layout((len(active_epochs_formatting_dict) * [1.0]), epoch_render_stack_height=70.0, interval_stack_location='below') # ratio of heights to each interval\n",
    "stacked_epoch_layout_dict = {interval_key:dict(y_location=y_location, height=height) for interval_key, y_location, height in zip(list(active_epochs_formatting_dict.keys()), required_vertical_offsets, required_interval_heights)} # Build a stacked_epoch_layout_dict to update the display\n",
    "# stacked_epoch_layout_dict # {'LapsAll': {'y_location': -3.6363636363636367, 'height': 3.6363636363636367}, 'LapsTrain': {'y_location': -21.818181818181817, 'height': 18.18181818181818}, 'LapsTest': {'y_location': -40.0, 'height': 18.18181818181818}}\n",
    "# stacked_epoch_layout_dict\n",
    "\n",
    "# replaces 'y_location', 'position' for each dict:\n",
    "update_dict = {k:(v[0].to_dict()|stacked_epoch_layout_dict[k]) for k, v in active_epochs_formatting_dict.items()}\n",
    "update_dict\n",
    "\n",
    "\n",
    "active_2d_plot.update_rendered_intervals_visualization_properties(update_dict=update_dict)\n"
   ]
  },
  {
   "cell_type": "code",
   "execution_count": null,
   "id": "e11c93e8",
   "metadata": {},
   "outputs": [],
   "source": [
    "## Extract/Save all active epochs:\n",
    "active_epochs_formatting_dict: Dict[str, List[EpochDisplayConfig]] = deepcopy(active_2d_plot.extract_interval_display_config_lists())\n",
    "active_epochs_formatting_dict\n",
    "\n",
    "# an_epochs_display_list_widget.configs_from_states()\n",
    "\n",
    "\n",
    "an_epochs_display_list_widget = active_2d_plot.ui.get('epochs_render_configs_widget', None)\n",
    "if an_epochs_display_list_widget is None:\n",
    "\traise NotImplementedError\n",
    "\t# create a new one:    \n",
    "\tan_epochs_display_list_widget:EpochRenderConfigsListWidget = EpochRenderConfigsListWidget(active_epochs_formatting_dict, parent=a_layout_widget)\n",
    "\tactive_2d_plot.ui.epochs_render_configs_widget = an_epochs_display_list_widget\n",
    "else:\n",
    "\tan_epochs_display_list_widget.update_from_configs(configs=active_epochs_formatting_dict)\n",
    "\n"
   ]
  },
  {
   "cell_type": "code",
   "execution_count": null,
   "id": "33ad3bd7",
   "metadata": {},
   "outputs": [],
   "source": [
    "active_epochs_confgs_dict: Dict[str, EpochDisplayConfig] = deepcopy(an_epochs_display_list_widget.configs_from_states())\n",
    "active_epochs_confgs_dict\n",
    "\n"
   ]
  },
  {
   "cell_type": "code",
   "execution_count": null,
   "id": "d4f93d7e",
   "metadata": {},
   "outputs": [],
   "source": [
    "saveData('SpikeRaster2D_saved_Epochs.pkl', active_epochs_confgs_dict)\n",
    "\n",
    "\n"
   ]
  },
  {
   "cell_type": "code",
   "execution_count": null,
   "id": "900d679d",
   "metadata": {},
   "outputs": [],
   "source": [
    "active_epochs_formatting_dict['Replays'][0].brush_QColor"
   ]
  },
  {
   "cell_type": "code",
   "execution_count": null,
   "id": "b7318fbb",
   "metadata": {},
   "outputs": [],
   "source": [
    "## Restore/Load all active epochs:\n",
    "# update_dict = {k:(v[0].to_dict()|stacked_epoch_layout_dict[k]) for k, v in active_epochs_formatting_dict.items()}\n",
    "\n",
    "update_dict = {k:v.to_dict() for k, v in active_epochs_confgs_dict.items()} ## from active_epochs_confgs_dict\n",
    "update_dict\n",
    "\n",
    "## Updates intervals themselves\n",
    "active_2d_plot.update_rendered_intervals_visualization_properties(update_dict=update_dict)\n",
    "\n",
    "## updates configs:\n",
    "# active_2d_plot."
   ]
  },
  {
   "cell_type": "code",
   "execution_count": null,
   "id": "673515f9",
   "metadata": {},
   "outputs": [],
   "source": [
    "_out_all_rendered_intervals_dict = active_2d_plot.get_all_rendered_intervals_dict()\n"
   ]
  },
  {
   "cell_type": "code",
   "execution_count": null,
   "id": "be1292a3",
   "metadata": {},
   "outputs": [],
   "source": [
    "active_epochs_interval_datasources_dict: Dict[str, IntervalsDatasource] = active_2d_plot.interval_datasources\n",
    "active_epochs_interval_datasources_dict"
   ]
  },
  {
   "cell_type": "code",
   "execution_count": null,
   "id": "cb58bafd",
   "metadata": {},
   "outputs": [],
   "source": [
    "out_dict = {}\n",
    "rendered_epoch_names = active_2d_plot.interval_datasource_names\n",
    "print(f'rendered_epoch_names: {rendered_epoch_names}')\n",
    "for a_name in rendered_epoch_names:\n",
    "\ta_render_container = active_2d_plot.rendered_epochs[a_name]\n",
    "\tout_dict[a_name] = a_render_container\n",
    "\n",
    "out_dict"
   ]
  },
  {
   "cell_type": "code",
   "execution_count": null,
   "id": "b91e0ccf",
   "metadata": {},
   "outputs": [],
   "source": [
    "main_plot_widget.setVisible(False) ## top plot disappeared"
   ]
  },
  {
   "cell_type": "code",
   "execution_count": null,
   "id": "aedfcbfd",
   "metadata": {},
   "outputs": [],
   "source": [
    "main_plot_widget.setVisible(True)"
   ]
  },
  {
   "cell_type": "code",
   "execution_count": null,
   "id": "c78c7a9b",
   "metadata": {},
   "outputs": [],
   "source": [
    "## Find Connections\n",
    "active_2d_plot.setVisible(True)"
   ]
  },
  {
   "cell_type": "code",
   "execution_count": null,
   "id": "bbdaaca1",
   "metadata": {},
   "outputs": [],
   "source": [
    "# active_2d_plot.get_all_rendered_intervals_dict()\n",
    "active_2d_plot.interval_datasources\n",
    "# active_2d_plot.interval_rendering_plots\n",
    "active_2d_plot.interval_datasource_names"
   ]
  },
  {
   "cell_type": "code",
   "execution_count": null,
   "id": "eeaca430",
   "metadata": {},
   "outputs": [],
   "source": [
    "active_2d_plot.setVisible(False)"
   ]
  },
  {
   "cell_type": "code",
   "execution_count": null,
   "id": "a3c1badb",
   "metadata": {},
   "outputs": [],
   "source": [
    "spike_raster_window.isVisible()"
   ]
  },
  {
   "cell_type": "code",
   "execution_count": null,
   "id": "697d558a",
   "metadata": {},
   "outputs": [],
   "source": [
    "from neuropy.core.epoch import ensure_Epoch, Epoch, ensure_dataframe\n",
    "from pyphoplacecellanalysis.GUI.PyQtPlot.Widgets.Mixins.RenderTimeEpochs.Specific2DRenderTimeEpochs import General2DRenderTimeEpochs, inline_mkColor\n",
    "from pyphoplacecellanalysis.GUI.PyQtPlot.Widgets.SpikeRasterWidgets.Spike2DRaster import Spike2DRaster\n",
    "from pyphoplacecellanalysis.GUI.PyQtPlot.Widgets.Mixins.RenderTimeEpochs.EpochRenderingMixin import EpochRenderingMixin, RenderedEpochsItemsContainer\n",
    "from pyphoplacecellanalysis.General.Model.Datasources.IntervalDatasource import IntervalsDatasource\n",
    "from neuropy.utils.mixins.time_slicing import TimeColumnAliasesProtocol\n",
    "\n",
    "## Add various replay epochs as interval rects:\n",
    "\n",
    "## INPUTS: replay_epoch_variations\n",
    "\n",
    "# replay_epoch_variations\n",
    "\n",
    "\n",
    "## Use the three dataframes as separate Epoch series:\n",
    "custom_replay_dfs_dict = {k:ensure_dataframe(deepcopy(v)) for k, v in replay_epoch_variations.items()}\n",
    "custom_replay_keys = list(custom_replay_dfs_dict.keys()) # \n",
    "print(f'{custom_replay_keys}') # ['initial_loaded', 'normal_computed', 'diba_evt_file', 'diba_quiescent_method_replay_epochs']\n",
    "\n",
    "\n",
    "_color_rotation_order = ['white', 'purple', 'green', 'orange', 'pink', 'red']\n",
    "\n",
    "custom_replay_epochs_formatting_dict = {\n",
    "\t'initial_loaded':dict(pen_color=inline_mkColor('white', 0.8), brush_color=inline_mkColor('white', 0.5)),\n",
    "\t'normal_computed':dict(pen_color=inline_mkColor('purple', 0.8), brush_color=inline_mkColor('purple', 0.5)),\n",
    "\t'diba_evt_file':dict(pen_color=inline_mkColor('green', 0.8), brush_color=inline_mkColor('green', 0.5)),\n",
    "\t'diba_quiescent_method_replay_epochs':dict(pen_color=inline_mkColor('orange', 0.8), brush_color=inline_mkColor('orange', 0.5)),\n",
    "}\n",
    "\n",
    "# required_vertical_offsets, required_interval_heights = EpochRenderingMixin.build_stacked_epoch_layout((len(custom_replay_dfs_dict) * [1.0]), epoch_render_stack_height=40.0, interval_stack_location='below') # ratio of heights to each interval\n",
    "# stacked_epoch_layout_dict = {interval_key:dict(y_location=y_location, height=height) for interval_key, y_location, height in zip(list(custom_replay_epochs_formatting_dict.keys()), required_vertical_offsets, required_interval_heights)} # Build a stacked_epoch_layout_dict to update the display\n",
    "stacked_epoch_layout_dict = {interval_key:dict(y_location=y_location, height=height) for interval_key, y_location, height in zip(list(custom_replay_epochs_formatting_dict.keys()), *EpochRenderingMixin.build_stacked_epoch_layout((len(custom_replay_dfs_dict) * [1.0]), epoch_render_stack_height=40.0, interval_stack_location='below'))} # Build a stacked_epoch_layout_dict to update the display\n",
    "# replaces 'y_location', 'position' for each dict:\n",
    "custom_replay_epochs_formatting_dict = {k:(v|stacked_epoch_layout_dict[k]) for k, v in custom_replay_epochs_formatting_dict.items()}\n",
    "# custom_replay_epochs_formatting_dict\n",
    "\n",
    "# OUTPUTS: train_test_split_laps_dfs_dict, custom_replay_epochs_formatting_dict\n",
    "## INPUTS: train_test_split_laps_dfs_dict\n",
    "custom_replay_dfs_dict = {k:TimeColumnAliasesProtocol.renaming_synonym_columns_if_needed(df=v, required_columns_synonym_dict=IntervalsDatasource._time_column_name_synonyms) for k, v in custom_replay_dfs_dict.items()}\n",
    "\n",
    "## Build interval datasources for them:\n",
    "custom_replay_dfs_datasources_dict = {k:General2DRenderTimeEpochs.build_render_time_epochs_datasource(v) for k, v in custom_replay_dfs_dict.items()}\n",
    "## INPUTS: active_2d_plot, train_test_split_laps_epochs_formatting_dict, train_test_split_laps_dfs_datasources_dict\n",
    "assert len(custom_replay_epochs_formatting_dict) == len(custom_replay_dfs_datasources_dict)\n",
    "for k, an_interval_ds in custom_replay_dfs_datasources_dict.items():\n",
    "\tan_interval_ds.update_visualization_properties(lambda active_df, **kwargs: General2DRenderTimeEpochs._update_df_visualization_columns(active_df, **(custom_replay_epochs_formatting_dict[k] | kwargs)))\n",
    "\n",
    "\n",
    "## Full output: train_test_split_laps_dfs_datasources_dict\n",
    "\n",
    "\n",
    "# actually add the epochs:\n",
    "for k, an_interval_ds in custom_replay_dfs_datasources_dict.items():\n",
    "\tactive_2d_plot.add_rendered_intervals(an_interval_ds, name=f'{k}', debug_print=False) # adds the interval\n"
   ]
  },
  {
   "cell_type": "code",
   "execution_count": null,
   "id": "a34342d9",
   "metadata": {},
   "outputs": [],
   "source": [
    "active_2d_plot.params.enable_time_interval_legend_in_right_margin = False\n"
   ]
  },
  {
   "cell_type": "code",
   "execution_count": null,
   "id": "51663689",
   "metadata": {},
   "outputs": [],
   "source": [
    "## They can later be updated via:\n",
    "active_2d_plot.update_rendered_intervals_visualization_properties(custom_replay_epochs_formatting_dict)\n"
   ]
  },
  {
   "cell_type": "code",
   "execution_count": null,
   "id": "d073b9ae",
   "metadata": {},
   "outputs": [],
   "source": [
    "# new_replay_epochs.to_file('new_replays.csv')\n",
    "new_replay_epochs_df"
   ]
  },
  {
   "cell_type": "code",
   "execution_count": null,
   "id": "d680b0e1",
   "metadata": {},
   "outputs": [],
   "source": [
    "rank_order_results.minimum_inclusion_fr_Hz"
   ]
  },
  {
   "cell_type": "code",
   "execution_count": null,
   "id": "7cc7f309",
   "metadata": {},
   "outputs": [],
   "source": [
    "track_templates.long_LR_decoder.neuron_IDs"
   ]
  },
  {
   "cell_type": "code",
   "execution_count": null,
   "id": "274e8b3d",
   "metadata": {},
   "outputs": [],
   "source": [
    "# Create a new `SpikeRaster2D` instance using `_display_spike_raster_pyqtplot_2D` and capture its outputs:\n",
    "active_2d_plot, active_3d_plot, spike_raster_window = curr_active_pipeline.plot._display_spike_rasters_pyqtplot_2D()"
   ]
  },
  {
   "cell_type": "code",
   "execution_count": null,
   "id": "b9a672c4",
   "metadata": {},
   "outputs": [],
   "source": [
    "# Gets the existing SpikeRasterWindow or creates a new one if one doesn't already exist:\n",
    "from pyphocorehelpers.gui.Qt.TopLevelWindowHelper import TopLevelWindowHelper\n",
    "import pyphoplacecellanalysis.External.pyqtgraph as pg # Used to get the app for TopLevelWindowHelper.top_level_windows\n",
    "## For searching with `TopLevelWindowHelper.all_widgets(...)`:\n",
    "from pyphoplacecellanalysis.GUI.PyQtPlot.Widgets.SpikeRasterWidgets.Spike2DRaster import Spike2DRaster\n",
    "from pyphoplacecellanalysis.GUI.PyQtPlot.Widgets.SpikeRasterWidgets.Spike3DRaster import Spike3DRaster\n",
    "from pyphoplacecellanalysis.GUI.Qt.SpikeRasterWindows.Spike3DRasterWindowWidget import Spike3DRasterWindowWidget\n",
    "\n",
    "found_spike_raster_windows = TopLevelWindowHelper.all_widgets(pg.mkQApp(), searchType=Spike3DRasterWindowWidget)\n",
    "\n",
    "if len(found_spike_raster_windows) < 1:\n",
    "\t# no existing spike_raster_windows. Make a new one\n",
    "\tprint(f'no existing SpikeRasterWindow. Creating a new one.')\n",
    "\t# Create a new `SpikeRaster2D` instance using `_display_spike_raster_pyqtplot_2D` and capture its outputs:\n",
    "\tactive_2d_plot, active_3d_plot, spike_raster_window = curr_active_pipeline.plot._display_spike_rasters_pyqtplot_2D()\n",
    "\n",
    "else:\n",
    "\tprint(f'found {len(found_spike_raster_windows)} existing Spike3DRasterWindowWidget windows using TopLevelWindowHelper.all_widgets(...). Will use the most recent.')\n",
    "\t# assert len(found_spike_raster_windows) == 1, f\"found {len(found_spike_raster_windows)} Spike3DRasterWindowWidget windows using TopLevelWindowHelper.all_widgets(...) but require exactly one.\"\n",
    "\t# Get the most recent existing one and reuse that:\n",
    "\tspike_raster_window = found_spike_raster_windows[0]\n",
    "\n",
    "\n",
    "# Extras:\n",
    "active_2d_plot = spike_raster_window.spike_raster_plt_2d # <pyphoplacecellanalysis.GUI.PyQtPlot.Widgets.SpikeRasterWidgets.Spike2DRaster.Spike2DRaster at 0x196c7244280>\n",
    "active_3d_plot = spike_raster_window.spike_raster_plt_3d # <pyphoplacecellanalysis.GUI.PyQtPlot.Widgets.SpikeRasterWidgets.Spike2DRaster.Spike2DRaster at 0x196c7244280>\n",
    "main_graphics_layout_widget = active_2d_plot.ui.main_graphics_layout_widget # GraphicsLayoutWidget\n",
    "main_plot_widget = active_2d_plot.plots.main_plot_widget # PlotItem\n",
    "background_static_scroll_plot_widget = active_2d_plot.plots.background_static_scroll_window_plot # PlotItem"
   ]
  },
  {
   "cell_type": "code",
   "execution_count": null,
   "id": "84b2f20e",
   "metadata": {},
   "outputs": [],
   "source": [
    "_display_items = widget.get_display_function_items()\n",
    "_display_items"
   ]
  },
  {
   "cell_type": "code",
   "execution_count": null,
   "id": "a9df0c9d",
   "metadata": {},
   "outputs": [],
   "source": [
    "a_fcn_name = '_display_batch_pho_jonathan_replay_firing_rate_comparison'\n",
    "a_fn_handle = widget._perform_get_display_function_code(a_fcn_name=a_fcn_name)\n",
    "assert a_fn_handle is not None\n",
    "# args = []\n",
    "# kwargs = {}\n",
    "a_disp_fn_item = widget.get_display_function_item(a_fn_name=a_fcn_name)\n",
    "assert a_disp_fn_item is not None, f\"a_disp_fn_item is None! for a_fn_name='{a_fcn_name}'\"\n",
    "\n",
    "a_disp_fn_item.is_global\n",
    "\n"
   ]
  },
  {
   "cell_type": "code",
   "execution_count": null,
   "id": "0c91ed7b",
   "metadata": {},
   "outputs": [],
   "source": [
    "_out = curr_active_pipeline.display(display_function=a_fcn_name, active_session_configuration_context=None)"
   ]
  },
  {
   "cell_type": "code",
   "execution_count": null,
   "id": "1d735d2e",
   "metadata": {},
   "outputs": [],
   "source": [
    "from pyphoplacecellanalysis.General.Batch.NonInteractiveProcessing import BatchPhoJonathanFiguresHelper\n",
    "\n",
    "active_out_figures_dict = BatchPhoJonathanFiguresHelper.run(curr_active_pipeline, neuron_replay_stats_df, n_max_page_rows=10, disable_top_row=True, write_png=False, write_vector_format=False)\n"
   ]
  },
  {
   "cell_type": "code",
   "execution_count": null,
   "id": "62dc83a1",
   "metadata": {},
   "outputs": [],
   "source": [
    "_out.figures"
   ]
  },
  {
   "cell_type": "code",
   "execution_count": null,
   "id": "2ca4fb13",
   "metadata": {},
   "outputs": [],
   "source": [
    "_display_spike_rasters_pyqtplot_3D_with_2D_controls"
   ]
  },
  {
   "cell_type": "code",
   "execution_count": null,
   "id": "691c70b4",
   "metadata": {},
   "outputs": [],
   "source": [
    "print(list(_display_items.keys()))\n"
   ]
  },
  {
   "cell_type": "code",
   "execution_count": null,
   "id": "29925698",
   "metadata": {},
   "outputs": [],
   "source": [
    "from pyphocorehelpers.DataStructure.RenderPlots.MatplotLibRenderPlots import FigureCollector\n",
    "from pyphoplacecellanalysis.SpecificResults.fourthYearPresentation import fig_remapping_cells\n",
    "\n",
    "collector: FigureCollector = fig_remapping_cells(curr_active_pipeline)\n"
   ]
  },
  {
   "cell_type": "code",
   "execution_count": null,
   "id": "2606a58c",
   "metadata": {},
   "outputs": [],
   "source": [
    "\n",
    "if not isinstance(curr_active_pipeline.global_computation_results.computed_data.jonathan_firing_rate_analysis, JonathanFiringRateAnalysisResult):\n",
    "\tjonathan_firing_rate_analysis_result = JonathanFiringRateAnalysisResult(**curr_active_pipeline.global_computation_results.computed_data.jonathan_firing_rate_analysis.to_dict())\n",
    "else:\n",
    "\tjonathan_firing_rate_analysis_result = curr_active_pipeline.global_computation_results.computed_data.jonathan_firing_rate_analysis\n",
    "\n",
    "neuron_replay_stats_df = jonathan_firing_rate_analysis_result.neuron_replay_stats_df.copy()\n",
    "neuron_replay_stats_df\n"
   ]
  },
  {
   "cell_type": "code",
   "execution_count": null,
   "id": "398b348a",
   "metadata": {},
   "outputs": [],
   "source": [
    "_sorted_neuron_stats_df = neuron_replay_stats_df.sort_values(by=sortby, ascending=[True, True, True], inplace=False).copy() # also did test_df = neuron_replay_stats_df.sort_values(by=['long_pf_peak_x'], inplace=False, ascending=True).copy()\n",
    "_sorted_neuron_stats_df = _sorted_neuron_stats_df[np.isin(_sorted_neuron_stats_df.index, curr_any_context_neurons)] # clip to only those neurons included in `curr_any_context_neurons`\n",
    "_sorted_aclus = _sorted_neuron_stats_df.index.to_numpy()\n",
    "_sorted_neuron_IDXs = _sorted_neuron_stats_df.neuron_IDX.to_numpy()\n",
    "if debug_print:\n",
    "\tprint(f'_sorted_aclus: {_sorted_aclus}')\n",
    "\tprint(f'_sorted_neuron_IDXs: {_sorted_neuron_IDXs}')\n",
    "\n",
    "## Use this sort for the 'curr_any_context_neurons' sort order:\n",
    "new_all_aclus_sort_indicies, desired_sort_arr = find_desired_sort_indicies(curr_any_context_neurons, _sorted_aclus)\n"
   ]
  },
  {
   "cell_type": "code",
   "execution_count": null,
   "id": "ab2fa1dc",
   "metadata": {},
   "outputs": [],
   "source": [
    "# _directional_laps_overview = curr_active_pipeline.plot._display_directional_laps_overview(curr_active_pipeline.computation_results, a)\n",
    "# _directional_laps_overview = curr_active_pipeline.display('_display_directional_laps_overview')\n",
    "# _directional_laps_overview = curr_active_pipeline.display('_display_grid_bin_bounds_validation')\n",
    "_directional_laps_overview = curr_active_pipeline.display('_display_long_short_pf1D_comparison')\n",
    "\n",
    "_directional_laps_overview\n"
   ]
  },
  {
   "cell_type": "markdown",
   "id": "a9992e42",
   "metadata": {},
   "source": [
    "### 🟢🔝🖼️🎨 2024-06-06 - Works to render the contour curve at a fixed promenence (the shape of the placefield's cap/crest) for each placefield:"
   ]
  },
  {
   "cell_type": "code",
   "execution_count": null,
   "id": "1cff6d67",
   "metadata": {},
   "outputs": [],
   "source": [
    "from pyphoplacecellanalysis.Pho3D.PyVista.peak_prominences import render_all_neuron_peak_prominence_2d_results_on_pyvista_plotter\n",
    "\n",
    "display_output = {}\n",
    "active_config_name = long_LR_name\n",
    "print(f'active_config_name: {active_config_name}')\n",
    "active_peak_prominence_2d_results = curr_active_pipeline.computation_results[active_config_name].computed_data.get('RatemapPeaksAnalysis', {}).get('PeakProminence2D', None)\n",
    "pActiveTuningCurvesPlotter = None\n",
    "\n",
    "t_start, t_delta, t_end = curr_active_pipeline.find_LongShortDelta_times()\n",
    "active_config_modifiying_kwargs = {\n",
    "\t'plotting_config': {'should_use_linear_track_geometry': True, \n",
    "\t\t\t\t\t\t't_start': t_start, 't_delta': t_delta, 't_end': t_end,\n",
    "\t\t\t\t\t\t}\n",
    "}\n",
    "display_output = display_output | curr_active_pipeline.display('_display_3d_interactive_tuning_curves_plotter', active_config_name, extant_plotter=display_output.get('pActiveTuningCurvesPlotter', None),\n",
    "\t\t\t\t\t\t\t\t\t\t\t\tpanel_controls_mode='Qt', should_nan_non_visited_elements=False, zScalingFactor=2000.0, active_config_modifiying_kwargs=active_config_modifiying_kwargs,\n",
    "\t\t\t\t\t\t\t\t\t\t\t\tparams_kwargs=dict(should_use_linear_track_geometry=True, **{'t_start': t_start, 't_delta': t_delta, 't_end': t_end}),\n",
    "\t\t\t\t\t\t\t\t\t\t\t) # Works now!\n",
    "ipcDataExplorer = display_output['ipcDataExplorer']\n",
    "display_output['pActiveTuningCurvesPlotter'] = display_output.pop('plotter') # rename the key from the generic \"plotter\" to \"pActiveSpikesBehaviorPlotter\" to avoid collisions with others\n",
    "pActiveTuningCurvesPlotter = display_output['pActiveTuningCurvesPlotter']\n",
    "root_dockAreaWindow, placefieldControlsContainerWidget, pf_widgets = display_output['pane'] # for Qt mode\n",
    "\n",
    "active_peak_prominence_2d_results = curr_active_pipeline.computation_results[active_config_name].computed_data.get('RatemapPeaksAnalysis', {}).get('PeakProminence2D', None)\n",
    "render_all_neuron_peak_prominence_2d_results_on_pyvista_plotter(ipcDataExplorer, active_peak_prominence_2d_results)\n"
   ]
  },
  {
   "cell_type": "markdown",
   "id": "0aecde7d",
   "metadata": {},
   "source": [
    "### 2024-06-06 - Works to disable/hide all elements except the contour curves:"
   ]
  },
  {
   "cell_type": "code",
   "execution_count": null,
   "id": "027ff05b",
   "metadata": {},
   "outputs": [],
   "source": [
    "all_placefield_surfaces_are_hidden: bool = True\n",
    "all_placefield_points_are_hidden: bool = True\n",
    "\n",
    "disabled_peak_subactors_names_list = ['boxes', 'text', 'peak_points']\n",
    "# disabled_peak_subactors_names_list = ['text', 'peak_points']\n",
    "for active_neuron_id, a_plot_dict in ipcDataExplorer.plots['tuningCurvePlotActors'].items():\n",
    "\tif a_plot_dict is not None:\n",
    "\t\t# a_plot_dict.peaks\n",
    "\t\tprint(f'active_neuron_id: {active_neuron_id}, a_plot_dict.keys(): {list(a_plot_dict.keys())}')\n",
    "\t\t# ['main', 'points', 'peaks']\n",
    "\t\tif a_plot_dict.main is not None:\n",
    "\t\t\tif all_placefield_surfaces_are_hidden:\n",
    "\t\t\t\ta_plot_dict.main.SetVisibility(False)\n",
    "\t\t\t\t# pass\n",
    "\t\t\t\n",
    "\t\tif a_plot_dict.points is not None:\n",
    "\t\t\tif all_placefield_points_are_hidden:\n",
    "\t\t\t\ta_plot_dict.points.SetVisibility(False)\n",
    "\t\t\t\t# pass\n",
    "\n",
    "\t\tif a_plot_dict.peaks is not None:\n",
    "\t\t\tprint(f'active_neuron_id: {active_neuron_id}, a_plot_dict.peaks: {list(a_plot_dict.peaks.keys())}')\n",
    "\t\t\tfor a_subactor_name in disabled_peak_subactors_names_list:\n",
    "\t\t\t\ta_subactor = a_plot_dict.peaks.get(a_subactor_name, None)\n",
    "\t\t\t\tif a_subactor is not None:\n",
    "\t\t\t\t\ta_subactor.SetVisibility(False)\n",
    "\t\t\t# if all_placefield_surfaces_are_hidden:\n",
    "\t\t\t#     a_plot_dict.main.SetVisibility(False) # Change the visibility to match the current tuning_curve_visibility_state\n",
    "\n",
    "# Once done, render\n",
    "ipcDataExplorer.p.render()\n"
   ]
  },
  {
   "cell_type": "markdown",
   "id": "e77c88dd",
   "metadata": {},
   "source": [
    "### 2024-06-05 - Offset the long and short track to match the `_plot_track_remapping_diagram` 2D remapping figure\n",
    "\n",
    "[/c:/Users/pho/repos/Spike3DWorkEnv/pyPhoPlaceCellAnalysis/src/pyphoplacecellanalysis/Pho2D/track_shape_drawing.py:1236](vscode://file/c:/Users/pho/repos/Spike3DWorkEnv/pyPhoPlaceCellAnalysis/src/pyphoplacecellanalysis/Pho2D/track_shape_drawing.py:1236)\n",
    "```python\n",
    "# From `Pho2D.track_shape_drawing.a_dir_decoder_aclu_MAX_peak_maps_df`\n",
    "_plot_track_remapping_diagram\n",
    "```"
   ]
  },
  {
   "cell_type": "code",
   "execution_count": null,
   "id": "391be83f",
   "metadata": {},
   "outputs": [],
   "source": [
    "\n",
    "track_half_offset: float = 25.0\n",
    "\n",
    "# Long:\n",
    "actor = ipcDataExplorer.long_maze_bg\n",
    "# Get the current position\n",
    "current_position = actor.GetPosition()\n",
    "# Translate by 5.0 units in the y-direction\n",
    "# new_position = (current_position[0], current_position[1] + 5.0, current_position[2])\n",
    "new_position = (current_position[0], track_half_offset, current_position[2])\n",
    "# Set the new position\n",
    "actor.SetPosition(new_position)\n",
    "\n",
    "## Short\n",
    "actor = ipcDataExplorer.short_maze_bg\n",
    "# Get the current position\n",
    "current_position = actor.GetPosition()\n",
    "# Translate by 5.0 units in the y-direction\n",
    "# new_position = (current_position[0], current_position[1] + 5.0, current_position[2])\n",
    "new_position = (current_position[0], -track_half_offset, current_position[2])\n",
    "# Set the new position\n",
    "actor.SetPosition(new_position)"
   ]
  },
  {
   "cell_type": "code",
   "execution_count": null,
   "id": "bdc3078a",
   "metadata": {},
   "outputs": [],
   "source": [
    "curr_active_pipeline.reload_default_display_functions()\n",
    "_out_graphics_dict = curr_active_pipeline.display('_display_two_step_decoder_prediction_error_2D', 'maze_any') # 'maze_any'\n",
    "\n",
    "update_fn = _out_graphics_dict.plot_data['draw_update_fn']\n",
    "num_frames = _out_graphics_dict.plot_data['num_frames']\n",
    "\n",
    "print(f'num_frames: {num_frames}')\n"
   ]
  },
  {
   "cell_type": "code",
   "execution_count": null,
   "id": "18b374e8",
   "metadata": {},
   "outputs": [],
   "source": [
    "import matplotlib.animation as animation\n",
    "\n",
    "\n",
    "all_save_paths = {}\n",
    "\n",
    "ani = animation.FuncAnimation(_out_graphics_dict.figures[0], update_fn, frames=num_frames, blit=False, repeat=False, interval=20, save_count=50)\n",
    "\n",
    "# ani.to_html5_video()\n",
    "\n",
    "# # To save the animation using Pillow as a gif\n",
    "# _temp_gif_save_path = Path('scatter.gif').resolve()\n",
    "# writer = animation.PillowWriter(fps=15, metadata=dict(artist='Pho Hale'), bitrate=1800)\n",
    "# ani.save(_temp_gif_save_path, writer=writer)\n"
   ]
  },
  {
   "cell_type": "code",
   "execution_count": null,
   "id": "84f69ba2",
   "metadata": {},
   "outputs": [],
   "source": [
    "ani.pause()"
   ]
  },
  {
   "cell_type": "code",
   "execution_count": null,
   "id": "878c2cef",
   "metadata": {},
   "outputs": [],
   "source": [
    "\n",
    "plt.show()\n",
    "\n",
    "# # Save the animation to a BytesIO buffer\n",
    "# buf = io.BytesIO()\n",
    "# ani.save(buf, codec='gif', writer='imagemagick', fps=10)\n",
    "# buf.seek(0)\n",
    "\n",
    "# # Display the GIF\n",
    "# display(Image(data=buf.getvalue(), format='gif'))\n",
    "# Display the GIF\n",
    "# assert _temp_gif_save_path.exists()\n",
    "# Image(_temp_gif_save_path)\n",
    "\n",
    "\n",
    "# for i in np.arange(num_frames):\n",
    "#     update_fn(i) ## Adjust the slider, using its callbacks as well to update the displayed epoch.\n",
    "\t\n",
    "#     # _out_rank_order_event_raster_debugger.on_update_epoch_IDX(an_epoch_idx=i)\n",
    "#     active_epoch_label = self.active_epoch_label\n",
    "\n",
    "#     save_paths = []\n",
    "\n",
    "#     for a_decoder, a_plot in self.root_plots_dict.items():\n",
    "#         curr_filename_prefix = f'Epoch{active_epoch_label}_{a_decoder}'\n",
    "#         # a_plot.setYRange(-0.5, float(self.max_n_neurons))\n",
    "#         out_path = export_path.joinpath(f'{curr_filename_prefix}_plot.png').resolve()\n",
    "#         export_pyqtgraph_plot(a_plot, savepath=out_path, background=pg.mkColor(0, 0, 0, 0))\n",
    "#         save_paths.append(out_path)\n",
    "\n",
    "#     all_save_paths[active_epoch_label] = save_paths\n"
   ]
  },
  {
   "cell_type": "code",
   "execution_count": null,
   "id": "77194b46",
   "metadata": {},
   "outputs": [],
   "source": [
    "plt.close()"
   ]
  },
  {
   "cell_type": "code",
   "execution_count": null,
   "id": "78bbd956",
   "metadata": {},
   "outputs": [],
   "source": [
    "'_display_long_short_laps', '_display_long_short_pf1D_comparison', "
   ]
  },
  {
   "cell_type": "code",
   "execution_count": null,
   "id": "0b267e81",
   "metadata": {},
   "outputs": [],
   "source": [
    "'_display_two_step_decoder_prediction_error_2D'\n"
   ]
  },
  {
   "cell_type": "code",
   "execution_count": null,
   "id": "e8adcd93",
   "metadata": {},
   "outputs": [],
   "source": [
    "import numpy as np\n",
    "import matplotlib.pyplot as plt\n",
    "import matplotlib.animation as animation\n",
    "from IPython.display import Image, display\n",
    "import io\n",
    "from pyphocorehelpers.plotting.media_output_helpers import fig_to_clipboard\n",
    "\n",
    "\n",
    "# Generate the frames for the animation\n",
    "fig, ax = plt.subplots()\n",
    "x = np.linspace(0, 2*np.pi, 100)\n",
    "line, = ax.plot(x, np.sin(x))\n",
    "\n",
    "def update(frame):\n",
    "\tline.set_ydata(np.sin(x + frame / 10.0))\n",
    "\treturn line,\n",
    "\n",
    "frames = len(x) - 1\n",
    "ani = animation.FuncAnimation(fig, update, frames=frames, blit=True, repeat=True, interval=50)\n",
    "\n",
    "# To save the animation using Pillow as a gif\n",
    "_temp_gif_save_path = Path('scatter.gif').resolve()\n",
    "writer = animation.PillowWriter(fps=15, metadata=dict(artist='Me'), bitrate=1800)\n",
    "ani.save(_temp_gif_save_path, writer=writer)\n",
    "\n",
    "plt.show()\n",
    "\n",
    "# # Save the animation to a BytesIO buffer\n",
    "# buf = io.BytesIO()\n",
    "# ani.save(buf, codec='gif', writer='imagemagick', fps=10)\n",
    "# buf.seek(0)\n",
    "\n",
    "# # Display the GIF\n",
    "# display(Image(data=buf.getvalue(), format='gif'))\n",
    "# Display the GIF\n",
    "assert _temp_gif_save_path.exists()\n",
    "Image(_temp_gif_save_path)\n",
    "\n",
    "\n",
    "# fig_to_clipboard(fig, format='gif')\n"
   ]
  },
  {
   "cell_type": "code",
   "execution_count": null,
   "id": "fb7be129",
   "metadata": {},
   "outputs": [],
   "source": [
    "%matplotlib qt\n",
    "active_identifying_session_ctx = curr_active_pipeline.sess.get_context() # 'bapun_RatN_Day4_2019-10-15_11-30-06'\n",
    "\n",
    "graphics_output_dict = curr_active_pipeline.display('_display_long_short_laps')\n",
    "graphics_output_dict"
   ]
  },
  {
   "cell_type": "code",
   "execution_count": null,
   "id": "cedac3f3",
   "metadata": {},
   "outputs": [],
   "source": [
    "fig, axs, plot_data = graphics_output_dict['fig'], graphics_output_dict['axs'], graphics_output_dict['plot_data']"
   ]
  },
  {
   "cell_type": "code",
   "execution_count": null,
   "id": "3ccb3e9c",
   "metadata": {},
   "outputs": [],
   "source": [
    "_display_grid_bin_bounds_validation"
   ]
  },
  {
   "cell_type": "code",
   "execution_count": null,
   "id": "68008d6e",
   "metadata": {},
   "outputs": [],
   "source": [
    "curr_active_pipeline.plot._display_long_short_laps()\n"
   ]
  },
  {
   "cell_type": "code",
   "execution_count": null,
   "id": "685113bf",
   "metadata": {},
   "outputs": [],
   "source": [
    "# Create a new `SpikeRaster2D` instance using `_display_spike_raster_pyqtplot_2D` and capture its outputs:\n",
    "# active_2d_plot, active_3d_plot, spike_raster_window = curr_active_pipeline.plot._display_spike_rasters_pyqtplot_2D()\n",
    "\n",
    "_out_graphics_dict = curr_active_pipeline.display('_display_spike_rasters_pyqtplot_2D', 'maze_any') # 'maze_any'\n",
    "assert isinstance(_out_graphics_dict, dict)\n",
    "active_2d_plot, active_3d_plot, spike_raster_window = _out_graphics_dict['spike_raster_plt_2d'], _out_graphics_dict['spike_raster_plt_3d'], _out_graphics_dict['spike_raster_window']"
   ]
  },
  {
   "cell_type": "code",
   "execution_count": null,
   "id": "30d3db27",
   "metadata": {},
   "outputs": [],
   "source": [
    "add_renderables_menu = active_2d_plot.ui.menus.custom_context_menus.add_renderables[0].programmatic_actions_dict\n",
    "menu_commands = ['AddTimeIntervals.PBEs', 'AddTimeIntervals.Ripples', 'AddTimeIntervals.Replays', 'AddTimeIntervals.Laps', 'AddTimeIntervals.SessionEpochs']\n",
    "for a_command in menu_commands:\n",
    "\tadd_renderables_menu[a_command].trigger()"
   ]
  },
  {
   "cell_type": "code",
   "execution_count": null,
   "id": "eb5650ac",
   "metadata": {},
   "outputs": [],
   "source": [
    "print(list(add_renderables_menu.keys()))\n"
   ]
  },
  {
   "cell_type": "code",
   "execution_count": null,
   "id": "cb9a83aa",
   "metadata": {},
   "outputs": [],
   "source": [
    "print_keys_if_possible('add_renderables_menu', add_renderables_menu)"
   ]
  },
  {
   "cell_type": "code",
   "execution_count": null,
   "id": "fdfbad2e",
   "metadata": {},
   "outputs": [],
   "source": [
    "# 3d_interactive_tuning_curves_plotter\n",
    "t_start, t_delta, t_end = curr_active_pipeline.find_LongShortDelta_times()\n",
    "active_config_modifiying_kwargs = {\n",
    "\t'plotting_config': {'should_use_linear_track_geometry': True, \n",
    "\t\t\t\t\t\t't_start': t_start, 't_delta': t_delta, 't_end': t_end,\n",
    "\t\t\t\t\t\t}\n",
    "}\n",
    "_out_graphics_dict = curr_active_pipeline.display('_display_3d_interactive_tuning_curves_plotter', active_session_configuration_context=global_epoch_context,\n",
    "\t\t\t\t\t\t\t\t\t\t\tactive_config_modifiying_kwargs=active_config_modifiying_kwargs,\n",
    "\t\t\t\t\t\t\t\t\t\t\tparams_kwargs=dict(should_use_linear_track_geometry=True, **{'t_start': t_start, 't_delta': t_delta, 't_end': t_end}),\n",
    "\t\t\t\t\t\t\t\t\t\t   )\n",
    "ipcDataExplorer = _out_graphics_dict['ipcDataExplorer'] # InteractivePlaceCellTuningCurvesDataExplorer \n",
    "p = _out_graphics_dict['plotter']\n",
    "pane = _out_graphics_dict['pane']"
   ]
  },
  {
   "cell_type": "code",
   "execution_count": null,
   "id": "8a16e010",
   "metadata": {},
   "outputs": [],
   "source": [
    "curr_active_pipeline.prepare_for_display()\n",
    "_out = curr_active_pipeline.display(display_function='_display_3d_interactive_spike_and_behavior_browser', active_session_configuration_context=global_epoch_context) # , computation_kwargs_list=[{'laps_decoding_time_bin_size': 0.025}]\n",
    "ipspikesDataExplorer = _out['ipspikesDataExplorer']\n",
    "p = _out['plotter']"
   ]
  },
  {
   "cell_type": "code",
   "execution_count": null,
   "id": "8ccc5550",
   "metadata": {},
   "outputs": [],
   "source": [
    "iplapsDataExplorer"
   ]
  },
  {
   "cell_type": "code",
   "execution_count": null,
   "id": "5e8d3f4b",
   "metadata": {},
   "outputs": [],
   "source": [
    "curr_active_pipeline.prepare_for_display()\n",
    "\n",
    "an_image_file_path = Path('an_image.png').resolve()\n",
    "_out = curr_active_pipeline.display(display_function='_display_3d_image_plotter', active_session_configuration_context=global_epoch_context, image_file=an_image_file_path)\n"
   ]
  },
  {
   "cell_type": "code",
   "execution_count": null,
   "id": "a74ce93e",
   "metadata": {},
   "outputs": [],
   "source": [
    "for a_name, a_config in curr_active_pipeline.active_configs.items():\n",
    "\tprint(f'a_config.plotting_config.should_use_linear_track_geometry: {a_config.plotting_config.should_use_linear_track_geometry}')\n",
    "\ta_config.plotting_config.should_use_linear_track_geometry = True\n",
    "\n"
   ]
  },
  {
   "cell_type": "code",
   "execution_count": null,
   "id": "38d560b4",
   "metadata": {},
   "outputs": [],
   "source": [
    "from pyphoplacecellanalysis.GUI.PyQtPlot.Widgets.ContainerBased.TemplateDebugger import TemplateDebugger\n",
    "\n",
    "\n",
    "_out = TemplateDebugger.init_templates_debugger(track_templates) # , included_any_context_neuron_ids\n"
   ]
  },
  {
   "cell_type": "code",
   "execution_count": null,
   "id": "5a1323cc",
   "metadata": {},
   "outputs": [],
   "source": [
    "from pyphoplacecellanalysis.General.Batch.NonInteractiveProcessing import batch_perform_all_plots\n",
    "\n",
    "\n",
    "_out = batch_perform_all_plots(curr_active_pipeline=curr_active_pipeline, enable_neptune=True)\n"
   ]
  },
  {
   "cell_type": "code",
   "execution_count": null,
   "id": "270d9015",
   "metadata": {},
   "outputs": [],
   "source": [
    "# Sample 2D matrix\n",
    "from pyphoplacecellanalysis.Pho2D.track_shape_drawing import pv\n",
    "\n",
    "matrix = np.random.rand(10, 10)\n",
    "\n",
    "# Coordinates\n",
    "x, y = np.meshgrid(np.arange(matrix.shape[1]), np.arange(matrix.shape[0]))\n",
    "z = matrix.flatten()\n",
    "\n",
    "# Colors based on recency of updates (for example purposes, random values)\n",
    "colors = np.random.rand(matrix.size)\n",
    "\n",
    "# Create the plotter\n",
    "plotter = pv.Plotter()\n",
    "\n",
    "# Add points (dots)\n",
    "points = np.column_stack((x.flatten(), y.flatten(), z))\n",
    "point_cloud = pv.PolyData(points)\n",
    "point_cloud['colors'] = colors\n",
    "plotter.add_mesh(point_cloud, render_points_as_spheres=True, point_size=10, scalars='colors', cmap='viridis')\n",
    "\n",
    "# Add stems\n",
    "for i in range(len(z)):\n",
    "\tline = pv.Line([x.flatten()[i], y.flatten()[i], 0], [x.flatten()[i], y.flatten()[i], z[i]])\n",
    "\tplotter.add_mesh(line, color='black')\n",
    "\n",
    "# Show plot\n",
    "plotter.show()"
   ]
  },
  {
   "cell_type": "code",
   "execution_count": null,
   "id": "23611eac",
   "metadata": {},
   "outputs": [],
   "source": [
    "curr_active_pipeline.plot.display_function_items\n",
    "\n",
    "# '_display_directional_template_debugger'\n"
   ]
  },
  {
   "cell_type": "code",
   "execution_count": null,
   "id": "cf9d9ea5",
   "metadata": {},
   "outputs": [],
   "source": [
    "curr_active_pipeline.reload_default_display_functions()"
   ]
  },
  {
   "cell_type": "code",
   "execution_count": null,
   "id": "1f2b60f6",
   "metadata": {},
   "outputs": [],
   "source": [
    "curr_active_pipeline.prepare_for_display()\n",
    "directional_laps_overview = curr_active_pipeline.display(display_function='_display_directional_laps_overview')"
   ]
  },
  {
   "cell_type": "code",
   "execution_count": null,
   "id": "d36ee6cb",
   "metadata": {},
   "outputs": [],
   "source": [
    "_pic_placefields = curr_active_pipeline.display('_display_1d_placefields', long_LR_context)\n"
   ]
  },
  {
   "cell_type": "code",
   "execution_count": null,
   "id": "0867cad3",
   "metadata": {},
   "outputs": [],
   "source": [
    "_pic_placefields_short_LR = curr_active_pipeline.display('_display_1d_placefields', short_LR_context)\n",
    "\n"
   ]
  },
  {
   "cell_type": "code",
   "execution_count": null,
   "id": "4c334080",
   "metadata": {},
   "outputs": [],
   "source": [
    "curr_active_pipeline.registered_display_function_docs_dict"
   ]
  },
  {
   "cell_type": "code",
   "execution_count": null,
   "id": "e2f93040",
   "metadata": {},
   "outputs": [],
   "source": [
    "curr_active_pipeline.registered_display_function_docs_dict"
   ]
  },
  {
   "cell_type": "code",
   "execution_count": null,
   "id": "3285686d",
   "metadata": {},
   "outputs": [],
   "source": [
    "def find_immediate_dependencies(remaining_comp_specifiers_dict, provided_global_keys):\n",
    "\tdependent_validators = {}\n",
    "\tfor a_name, a_validator in remaining_comp_specifiers_dict.items():\n",
    "\t\t# set(provided_global_keys)\n",
    "\t\t# set(a_validator.results_specification.requires_global_keys)\n",
    "\t\tif a_validator.is_dependency_in_required_global_keys(provided_global_keys):\n",
    "\t\t\tdependent_validators[a_name] = a_validator\n",
    "\t\t# (provided_global_keys == (a_validator.results_specification.requires_global_keys or []))\n",
    "\n",
    "\tfor a_name, a_found_validator in dependent_validators.items():\n",
    "\t\tnew_provided_global_keys = a_found_validator.results_specification.provides_global_keys\n",
    "\t\tprovided_global_keys.extend(new_provided_global_keys)\n",
    "\t\tremaining_comp_specifiers_dict.pop(a_name) # remove\n",
    "\n",
    "\tremaining_comp_specifiers_dict = {k:v for k,v in remaining_comp_specifiers_dict.items() if k not in dependent_validators}\n",
    "\t# dependent_validators\n",
    "\t# remaining_comp_specifiers_dict\n",
    "\tprint(f'len(remaining_comp_specifiers_dict): {len(remaining_comp_specifiers_dict)}, dependent_validators: {dependent_validators}')\n",
    "\treturn remaining_comp_specifiers_dict, dependent_validators, provided_global_keys\n",
    "\n",
    "'_display_directional_laps_overview'"
   ]
  },
  {
   "cell_type": "markdown",
   "id": "8ddd15f5",
   "metadata": {},
   "source": [
    "# 🎨 2024-04-23 - 3D Posterior Plot\n",
    "<!-- t_delta -->\n"
   ]
  },
  {
   "cell_type": "code",
   "execution_count": null,
   "id": "9ba7ac95",
   "metadata": {
    "notebookRunGroups": {
     "groupValue": "2"
    }
   },
   "outputs": [],
   "source": [
    "from pyphoplacecellanalysis.GUI.PyVista.InteractivePlotter.InteractiveCustomDataExplorer import InteractiveCustomDataExplorer\n",
    "\n",
    "curr_active_pipeline.prepare_for_display()\n",
    "t_start, t_delta, t_end = curr_active_pipeline.find_LongShortDelta_times()\n",
    "_out = curr_active_pipeline.display(display_function='_display_3d_interactive_custom_data_explorer', active_session_configuration_context=global_epoch_context,\n",
    "\t\t\t\t\t\t\t\t\tparams_kwargs=dict(should_use_linear_track_geometry=True, **{'t_start': t_start, 't_delta': t_delta, 't_end': t_end}),\n",
    "\t\t\t\t\t\t\t\t\t)\n",
    "iplapsDataExplorer: InteractiveCustomDataExplorer = _out['iplapsDataExplorer']\n",
    "pActiveInteractiveLapsPlotter = _out['plotter']\n"
   ]
  },
  {
   "cell_type": "code",
   "execution_count": null,
   "id": "516f2530",
   "metadata": {},
   "outputs": [],
   "source": [
    "pActiveInteractiveLapsPlotter[1]"
   ]
  },
  {
   "cell_type": "code",
   "execution_count": null,
   "id": "d4ad7178",
   "metadata": {},
   "outputs": [],
   "source": [
    "pActiveInteractiveLapsPlotter"
   ]
  },
  {
   "cell_type": "code",
   "execution_count": null,
   "id": "e3f5df77",
   "metadata": {},
   "outputs": [],
   "source": [
    "iplapsDataExplorer.active_config.plotting_config.subplots_shape # '1|5'\n",
    "iplapsDataExplorer.active_config.plotting_config.plotter_type # 'BackgroundPlotter'"
   ]
  },
  {
   "cell_type": "code",
   "execution_count": null,
   "id": "0ec1058f",
   "metadata": {},
   "outputs": [],
   "source": [
    "subplots_shape_str: str = '1|5'\n",
    "subplots_shape_arr_strs = subplots_shape_str.split('|')\n",
    "\n",
    "subplots_shape = [int(k) for k in subplots_shape_arr_strs]\n",
    "subplots_shape\n",
    "\n",
    "total_n_plots: int = np.prod(subplots_shape)\n",
    "if total_n_plots > 1:\n",
    "\tiplapsDataExplorer.active_config.plotting_config.plotter_type = 'BackgroundPlotter'"
   ]
  },
  {
   "cell_type": "code",
   "execution_count": null,
   "id": "a8a2ac94",
   "metadata": {},
   "outputs": [],
   "source": [
    "# iplapsDataExplorer.p.\n",
    "\n",
    "p = iplapsDataExplorer.p[0,0]\n",
    "p\n",
    "# p = self.p[0,0]"
   ]
  },
  {
   "cell_type": "code",
   "execution_count": null,
   "id": "3d86b20f",
   "metadata": {},
   "outputs": [],
   "source": [
    "# _out_global = curr_active_pipeline.display(display_function='_display_3d_interactive_spike_and_behavior_browser', active_session_configuration_context=global_epoch_context) # , config_override_kwargs={'plotting_config': {'should_use_linear_track_geometry': True}}\n",
    "# ipspikesDataExplorer = _out_global['ipspikesDataExplorer']\n",
    "# p = _out_global['plotter']"
   ]
  },
  {
   "cell_type": "code",
   "execution_count": null,
   "id": "a693d0e0",
   "metadata": {},
   "outputs": [],
   "source": [
    "## INPUTS: active_config\n",
    "\n",
    "t_start, t_delta, t_end = curr_active_pipeline.find_LongShortDelta_times()\n",
    "active_config_modifiying_kwargs = {\n",
    "\t'plotting_config': {'should_use_linear_track_geometry': True, \n",
    "\t\t\t\t\t\t't_start': t_start, 't_delta': t_delta, 't_end': t_end,\n",
    "\t\t\t\t\t\t}\n",
    "}\n",
    "_out_global = curr_active_pipeline.display(display_function='_display_3d_interactive_spike_and_behavior_browser', active_session_configuration_context=global_epoch_context,\n",
    "\t\t\t\t\t\t\t\t\t\t\tactive_config_modifiying_kwargs=active_config_modifiying_kwargs,\n",
    "\t\t\t\t\t\t\t\t\t\t\tparams_kwargs=dict(enable_historical_spikes=False, enable_recent_spikes=False, should_use_linear_track_geometry=True, **{'t_start': t_start, 't_delta': t_delta, 't_end': t_end}),\n",
    "\t\t\t\t\t\t\t\t\t\t   )\n",
    "ipspikesDataExplorer = _out_global['ipspikesDataExplorer']\n",
    "p = _out_global['plotter']\n"
   ]
  },
  {
   "cell_type": "code",
   "execution_count": null,
   "id": "5394f895",
   "metadata": {},
   "outputs": [],
   "source": [
    "\n",
    "for k, v in active_config_modifiying_kwargs.items():\n",
    "\tcurr_subdict = active_config.get(k, {})\n",
    "\tfor sub_k, sub_v in v.items():\n",
    "\t\ttry:\n",
    "\t\t\tcurr_subdict[sub_k] = sub_v # apply the update\n",
    "\t\texcept TypeError as err:\n",
    "\t\t\t# TypeError: 'PlottingConfig' object does not support item assignment\n",
    "\t\t\tsetattr(curr_subdict, sub_k, sub_v)\n",
    "\n"
   ]
  },
  {
   "cell_type": "code",
   "execution_count": null,
   "id": "27140db7",
   "metadata": {},
   "outputs": [],
   "source": [
    "\n",
    "active_config.plotting_config.should_use_linear_track_geometry\n",
    "active_config.plotting_config.t_delta\n"
   ]
  },
  {
   "cell_type": "code",
   "execution_count": null,
   "id": "ae00b4c7",
   "metadata": {},
   "outputs": [],
   "source": [
    "from pyphoplacecellanalysis.PhoPositionalData.plotting.time_animations import TrackConfigurationTimeAnimationRoutine\n",
    "\n",
    "t_start, t_delta, t_end = curr_active_pipeline.find_LongShortDelta_times()\n",
    "custom_track_animatior: TrackConfigurationTimeAnimationRoutine = TrackConfigurationTimeAnimationRoutine(t_start=t_start, t_delta=t_delta, t_end=t_end, \n",
    "\t\tlong_maze_bg=ipspikesDataExplorer.plots['long_maze_bg'], short_maze_bg=ipspikesDataExplorer.plots['short_maze_bg'], debug_print=True,\n",
    "\t)\n",
    "\n"
   ]
  },
  {
   "cell_type": "code",
   "execution_count": null,
   "id": "010c8de3",
   "metadata": {},
   "outputs": [],
   "source": [
    "from pyphoplacecellanalysis.GUI.PyVista.InteractivePlotter.InteractiveSliderWrapper import InteractiveSliderWrapper\n",
    "\n",
    "# interactive_plotter = ipspikesDataExplorer.ui.interactive_plotter # PhoInteractivePlotter\n",
    "\n",
    "active_timestamp_slider_wrapper: InteractiveSliderWrapper = ipspikesDataExplorer.ui.interactive_plotter.interface_properties.active_timestamp_slider_wrapper # InteractiveSliderWrapper \n",
    "active_timestamp_slider_wrapper.curr_value # 17659.517659\n",
    "active_timestamp_slider_wrapper.curr_index # 17659\n",
    "\n",
    "\n",
    "curr_i: int = int(active_timestamp_slider_wrapper.curr_index)\n",
    "active_window_sample_indicies = np.squeeze(ipspikesDataExplorer.params.pre_computed_window_sample_indicies[curr_i,:]) # Get the current precomputed indicies for this curr_i\n",
    "\n",
    "## Spike Plotting:\n",
    "# Get the times that fall within the current plot window:\n",
    "curr_time_fixedSegments = ipspikesDataExplorer.t[active_window_sample_indicies] # New Way\n",
    "t_start = curr_time_fixedSegments[0]\n",
    "t_stop = curr_time_fixedSegments[-1]\n",
    "\n",
    "# \n",
    "t_start, t_stop\n",
    "# custom_track_animatior.on_update_current_window(t_start=t_start, t_stop=t_stop)\n",
    "# curr_index\n",
    "active_timestamp_slider_wrapper.slider_obj.SetEnabled(False) # hide the typical timestamp slider"
   ]
  },
  {
   "cell_type": "code",
   "execution_count": null,
   "id": "295b5cef",
   "metadata": {},
   "outputs": [],
   "source": [
    "\n",
    "active_one_step_decoder = deepcopy(global_results.pf2D_Decoder)\n"
   ]
  },
  {
   "cell_type": "code",
   "execution_count": null,
   "id": "1864e324",
   "metadata": {},
   "outputs": [],
   "source": [
    "# _update_nearest_decoded_most_likely_position_callback, _conn = add_nearest_decoded_position_indicator_circle(self, active_one_step_decoder, _debug_print = False)\n",
    "\n",
    "_update_nearest_decoded_most_likely_position_callback, _conn = ipspikesDataExplorer.add_nearest_decoded_position_indicator_circle(active_one_step_decoder=active_one_step_decoder, debug_print=True)\n"
   ]
  },
  {
   "cell_type": "code",
   "execution_count": null,
   "id": "0e8d5529",
   "metadata": {},
   "outputs": [],
   "source": [
    "from pyphoplacecellanalysis.PhoPositionalData.plotting.mixins.decoder_plotting_mixins import DecodedTrajectoryPyVistaPlotter\n",
    "\n",
    "## plots a decoder posterior viewer with two sliders: one for epoch_idx and another for epoch_time_bin_idx within that epoch\n",
    "active_one_step_decoder = deepcopy(global_results.pf2D_Decoder) # just used for position binning info\n",
    "# a_result: DecodedFilterEpochsResult = deepcopy(decoder_laps_filter_epochs_decoder_result_dict['long_LR'])\n",
    "a_result: DecodedFilterEpochsResult = deepcopy(decoder_ripple_filter_epochs_decoder_result_dict['long_LR'])\n",
    "\n",
    "a_decoded_trajectory_pyvista_plotter: DecodedTrajectoryPyVistaPlotter = ipspikesDataExplorer.add_decoded_posterior_bars(a_result=a_result,\n",
    "\t\t\t\t\t\t\t\t\t\t\t\t\t\t\t\t\t\t\t\t\t\t\t\t\t\t\t\t\t\t xbin=active_one_step_decoder.xbin, xbin_centers=active_one_step_decoder.xbin_centers, ybin=active_one_step_decoder.ybin, ybin_centers=active_one_step_decoder.ybin_centers,\n",
    "\t\t\t\t\t\t\t\t\t\t\t\t\t\t\t\t\t\t\t\t\t\t\t\t\t\t\t\t\t\t enable_plot_all_time_bins_in_epoch_mode=False)\n"
   ]
  },
  {
   "cell_type": "code",
   "execution_count": null,
   "id": "4df7c0c1",
   "metadata": {},
   "outputs": [],
   "source": [
    "ipspikesDataExplorer.params.curr_view_window_length_samples"
   ]
  },
  {
   "cell_type": "code",
   "execution_count": null,
   "id": "79651414",
   "metadata": {},
   "outputs": [],
   "source": [
    "ipspikesDataExplorer.clear_all_added_decoded_posterior_plots()\n",
    "ipspikesDataExplorer.p.clear_slider_widgets() # does not actually clear the added sliders\n",
    "ipspikesDataExplorer.on_slider_update_mesh(3)"
   ]
  },
  {
   "cell_type": "code",
   "execution_count": null,
   "id": "352c3d2c",
   "metadata": {},
   "outputs": [],
   "source": [
    "\n",
    "# ipspikesDataExplorer.params.curr_view_window_length_samples # 299\n",
    "ipspikesDataExplorer.params.curr_view_window_length_samples = 60.0 * 5.0 * ipspikesDataExplorer.active_session.position.sampling_rate # 5 minutes\n",
    "\n"
   ]
  },
  {
   "cell_type": "code",
   "execution_count": null,
   "id": "a2a1e903",
   "metadata": {},
   "outputs": [],
   "source": [
    "ipspikesDataExplorer.params"
   ]
  },
  {
   "cell_type": "code",
   "execution_count": null,
   "id": "186e8883",
   "metadata": {},
   "outputs": [],
   "source": [
    "from mpl_interactions.widgets import RangeSlider"
   ]
  },
  {
   "cell_type": "code",
   "execution_count": null,
   "id": "acebce7c",
   "metadata": {},
   "outputs": [],
   "source": [
    "# ipspikesDataExplorer.add_grid_bin_bounds_box(\n",
    "ipspikesDataExplorer.on_slider_update_mesh"
   ]
  },
  {
   "cell_type": "markdown",
   "id": "7f59bafd",
   "metadata": {},
   "source": [
    "# 🖼️🎨 2024-02-28 - WE gotta see the replays on the 3D track. Or the 2D track.\n",
    "2024-04-28 - This is working in both 3D and 2D!"
   ]
  },
  {
   "cell_type": "code",
   "execution_count": null,
   "id": "714ad549",
   "metadata": {},
   "outputs": [],
   "source": [
    "## INPUTS: directional_laps_results, global_replays, decoder_ripple_filter_epochs_decoder_result_dict\n",
    "\n",
    "# global_pf1D\n",
    "# long_replays\n",
    "# direction_max_indices = ripple_all_epoch_bins_marginals_df[['P_Long', 'P_Short']].values.argmax(axis=1)\n",
    "# track_identity_max_indices = ripple_all_epoch_bins_marginals_df[['P_Long', 'P_Short']].values.argmax(axis=1)\n",
    "\n",
    "## How do I get the replays?\n",
    "# long_replay_df: pd.DataFrame = long_replays.to_dataframe() ## These work.\n",
    "# global_replay_df: pd.DataFrame = global_replays.to_dataframe() ## These work.\n",
    "# global_replay_df"
   ]
  },
  {
   "cell_type": "code",
   "execution_count": null,
   "id": "721e8e2b",
   "metadata": {},
   "outputs": [],
   "source": [
    "## 1D version:\n",
    "## INPUTS: directional_laps_results, decoder_ripple_filter_epochs_decoder_result_dict\n",
    "xbin = deepcopy(directional_laps_results.get_decoders()[0].xbin)\n",
    "xbin_centers = deepcopy(directional_laps_results.get_decoders()[0].xbin_centers)\n",
    "ybin_centers = None\n",
    "ybin = None\n",
    "\n",
    "a_decoded_filter_epochs_decoder_result_dict: Dict[str, DecodedFilterEpochsResult] = deepcopy(decoder_laps_filter_epochs_decoder_result_dict)\n",
    "# a_decoded_filter_epochs_decoder_result_dict: Dict[str, DecodedFilterEpochsResult] = deepcopy(decoder_ripple_filter_epochs_decoder_result_dict)\n",
    "# a_decoded_filter_epochs_decoder_result_dict\n",
    "\n",
    "## 1D:\n",
    "a_result: DecodedFilterEpochsResult = a_decoded_filter_epochs_decoder_result_dict['long_LR'] # 1D\n",
    "\n",
    "## OUTPUTS: a_decoded_filter_epochs_decoder_result_dict, xbin_centers, ybin_centers"
   ]
  },
  {
   "cell_type": "code",
   "execution_count": null,
   "id": "b31cdc1d",
   "metadata": {},
   "outputs": [],
   "source": [
    "## 2D version:\n",
    "from neuropy.analyses.placefields import PfND\n",
    "from pyphoplacecellanalysis.Analysis.Decoder.reconstruction import BayesianPlacemapPositionDecoder\n",
    "from pyphoplacecellanalysis.General.Pipeline.Stages.ComputationFunctions.MultiContextComputationFunctions.DirectionalPlacefieldGlobalComputationFunctions import _compute_lap_and_ripple_epochs_decoding_for_decoder\n",
    "\n",
    "## INPUTS: long_results, short_results\n",
    "# long_one_step_decoder_2D\n",
    "\n",
    "long_one_step_decoder_2D, short_one_step_decoder_2D  = [results_data.get('pf2D_Decoder', None) for results_data in (long_results, short_results)]\n",
    "one_step_decoder_dict_2D: Dict[str, BayesianPlacemapPositionDecoder] = dict(zip(('long', 'short'), (long_one_step_decoder_2D, short_one_step_decoder_2D)))\n",
    "long_pf2D = long_results.pf2D\n",
    "# short_pf2D = short_results.pf2D\n",
    "\n",
    "xbin = deepcopy(long_pf2D.xbin)\n",
    "xbin_centers = deepcopy(long_pf2D.xbin_centers)\n",
    "ybin = deepcopy(long_pf2D.ybin)\n",
    "ybin_centers = deepcopy(long_pf2D.ybin_centers)\n",
    "\n",
    "## OUTPUTS: one_step_decoder_dict_2D, xbin_centers, ybin_centers\n",
    "\n",
    "## INPUTS: one_step_decoder_dict_2D\n",
    "\n",
    "# DirectionalMergedDecoders: Get the result after computation:\n",
    "directional_merged_decoders_result: DirectionalPseudo2DDecodersResult = curr_active_pipeline.global_computation_results.computed_data['DirectionalMergedDecoders']\n",
    "ripple_decoding_time_bin_size: float = directional_merged_decoders_result.ripple_decoding_time_bin_size\n",
    "laps_decoding_time_bin_size: float = directional_merged_decoders_result.laps_decoding_time_bin_size\n",
    "pos_bin_size: Tuple[float, float] = list(one_step_decoder_dict_2D.values())[0].pos_bin_size\n",
    "\n",
    "print(f'laps_decoding_time_bin_size: {laps_decoding_time_bin_size}, ripple_decoding_time_bin_size: {ripple_decoding_time_bin_size}, pos_bin_size: {pos_bin_size}')\n",
    "\n",
    "## Decode epochs for the two decoders ('long', 'short'):\n",
    "LS_decoder_laps_filter_epochs_decoder_result_dict: Dict[str, DecodedFilterEpochsResult] = {}\n",
    "LS_decoder_ripple_filter_epochs_decoder_result_dict: Dict[str, DecodedFilterEpochsResult] = {}\n",
    "\n",
    "for a_name, a_decoder in one_step_decoder_dict_2D.items():\n",
    "\tLS_decoder_laps_filter_epochs_decoder_result_dict[a_name], LS_decoder_ripple_filter_epochs_decoder_result_dict[a_name] = _compute_lap_and_ripple_epochs_decoding_for_decoder(a_decoder, curr_active_pipeline, desired_laps_decoding_time_bin_size=laps_decoding_time_bin_size, desired_ripple_decoding_time_bin_size=ripple_decoding_time_bin_size)\n",
    "\n",
    "# LS_decoder_ripple_filter_epochs_decoder_result_dict\n"
   ]
  },
  {
   "cell_type": "code",
   "execution_count": null,
   "id": "e591738c",
   "metadata": {},
   "outputs": [],
   "source": [
    "## 2D:\n",
    "# Choose the ripple epochs to plot:\n",
    "a_decoded_filter_epochs_decoder_result_dict: Dict[str, DecodedFilterEpochsResult] = deepcopy(LS_decoder_ripple_filter_epochs_decoder_result_dict)\n",
    "a_result: DecodedFilterEpochsResult = a_decoded_filter_epochs_decoder_result_dict['long'] # 2D\n",
    "# Choose the laps epochs to plot:\n",
    "# a_decoded_filter_epochs_decoder_result_dict: Dict[str, DecodedFilterEpochsResult] = deepcopy(LS_decoder_laps_filter_epochs_decoder_result_dict)\n",
    "# a_decoded_filter_epochs_decoder_result_dict\n",
    "\n",
    "\n",
    "# a_result: DecodedFilterEpochsResult = LS_decoder_laps_filter_epochs_decoder_result_dict['long'] # 2D"
   ]
  },
  {
   "cell_type": "code",
   "execution_count": null,
   "id": "ffdd1b42",
   "metadata": {},
   "outputs": [],
   "source": [
    "from pyphoplacecellanalysis.PhoPositionalData.plotting.mixins.decoder_plotting_mixins import DecodedTrajectoryMatplotlibPlotter\n",
    "\n",
    "## INPUTS: a_result: DecodedFilterEpochsResult, an_epoch_idx: int = 18\n",
    "# e.g. `a_result: DecodedFilterEpochsResult = a_decoded_filter_epochs_decoder_result_dict['long_LR']`\n",
    "\n",
    "# a_result: DecodedFilterEpochsResult = a_decoded_filter_epochs_decoder_result_dict['long_LR'] # 1D\n",
    "\n",
    "## Convert to plottable posteriors\n",
    "# an_epoch_idx: int = 0\n",
    "\n",
    "# valid_aclus = deepcopy(decoder_aclu_peak_location_df_merged.aclu.unique())\n",
    "num_filter_epochs: int = a_result.num_filter_epochs\n",
    "a_decoded_traj_plotter = DecodedTrajectoryMatplotlibPlotter(a_result=a_result, xbin=xbin, xbin_centers=xbin_centers, ybin=ybin, ybin_centers=ybin_centers)\n",
    "fig, axs, laps_pages = a_decoded_traj_plotter.plot_decoded_trajectories_2d(global_session, curr_num_subplots=8, active_page_index=0, plot_actual_lap_lines=False, use_theoretical_tracks_instead=True)\n",
    "\n",
    "integer_slider = a_decoded_traj_plotter.plot_epoch_with_slider_widget(an_epoch_idx=6)\n",
    "integer_slider"
   ]
  },
  {
   "cell_type": "code",
   "execution_count": null,
   "id": "8f60583e",
   "metadata": {},
   "outputs": [],
   "source": [
    "type(laps_pages)"
   ]
  },
  {
   "cell_type": "code",
   "execution_count": null,
   "id": "e2ff87b5",
   "metadata": {},
   "outputs": [],
   "source": [
    "heatmaps[0].remove()\n",
    "\n",
    "# an_ax.remove(heatmaps[0])"
   ]
  },
  {
   "cell_type": "code",
   "execution_count": null,
   "id": "ebfd94ef",
   "metadata": {},
   "outputs": [],
   "source": [
    "an_ax = axs[0][0]"
   ]
  },
  {
   "cell_type": "code",
   "execution_count": null,
   "id": "51fe2a86",
   "metadata": {},
   "outputs": [],
   "source": [
    "\n",
    "\n",
    "# plotActors, data_dict = plot_3d_stem_points(pCustom, active_epoch_placefields2D.ratemap.xbin, active_epoch_placefields2D.ratemap.ybin, active_epoch_placefields2D.ratemap.occupancy)"
   ]
  },
  {
   "cell_type": "code",
   "execution_count": null,
   "id": "b4627224",
   "metadata": {},
   "outputs": [],
   "source": [
    "update_plot(value=2)"
   ]
  },
  {
   "cell_type": "markdown",
   "id": "dd9cfc42",
   "metadata": {},
   "source": [
    "## add to 3D plotter:"
   ]
  },
  {
   "cell_type": "code",
   "execution_count": null,
   "id": "12058a97",
   "metadata": {},
   "outputs": [],
   "source": [
    "from pyphoplacecellanalysis.GUI.PyVista.InteractivePlotter.InteractiveCustomDataExplorer import InteractiveCustomDataExplorer\n",
    "from pyphoplacecellanalysis.PhoPositionalData.plotting.mixins.decoder_plotting_mixins import DecodedTrajectoryPyVistaPlotter\n",
    "from pyphoplacecellanalysis.Pho3D.PyVista.graphs import plot_3d_stem_points, plot_3d_binned_bars\n",
    "\n",
    "curr_active_pipeline.prepare_for_display()\n",
    "t_start, t_delta, t_end = curr_active_pipeline.find_LongShortDelta_times()\n",
    "_out = curr_active_pipeline.display(display_function='_display_3d_interactive_custom_data_explorer', active_session_configuration_context=global_epoch_context,\n",
    "\t\t\t\t\t\t\t\t\tparams_kwargs=dict(should_use_linear_track_geometry=True, **{'t_start': t_start, 't_delta': t_delta, 't_end': t_end}),\n",
    "\t\t\t\t\t\t\t\t\t)\n",
    "iplapsDataExplorer: InteractiveCustomDataExplorer = _out['iplapsDataExplorer']\n",
    "pActiveInteractiveLapsPlotter = _out['plotter']\n"
   ]
  },
  {
   "cell_type": "code",
   "execution_count": null,
   "id": "6b011ca5",
   "metadata": {},
   "outputs": [],
   "source": [
    "\n",
    "## INPUTS: a_result, xbin_centers, ybin_centers, iplapsDataExplorer\n",
    "# a_decoded_trajectory_pyvista_plotter: DecodedTrajectoryPyVistaPlotter = DecodedTrajectoryPyVistaPlotter(a_result=a_result, xbin=xbin, xbin_centers=xbin_centers, ybin=ybin, ybin_centers=ybin_centers, p=iplapsDataExplorer.p)\n",
    "# a_decoded_trajectory_pyvista_plotter.build_ui()\n",
    "# a_decoded_trajectory_pyvista_plotter: DecodedTrajectoryPyVistaPlotter = iplapsDataExplorer.add_decoded_posterior_bars(a_result=a_result, xbin=xbin, xbin_centers=xbin_centers, ybin=ybin, ybin_centers=ybin_centers, enable_plot_all_time_bins_in_epoch_mode=True)\n",
    "\n",
    "a_decoded_trajectory_pyvista_plotter: DecodedTrajectoryPyVistaPlotter = iplapsDataExplorer.add_decoded_posterior_bars(a_result=a_result, xbin=xbin, xbin_centers=xbin_centers, ybin=ybin, ybin_centers=ybin_centers, enable_plot_all_time_bins_in_epoch_mode=False, active_plot_fn=plot_3d_stem_points)"
   ]
  },
  {
   "cell_type": "code",
   "execution_count": null,
   "id": "c24cd81d",
   "metadata": {},
   "outputs": [],
   "source": [
    "a_decoded_trajectory_pyvista_plotter: DecodedTrajectoryPyVistaPlotter = iplapsDataExplorer.add_decoded_posterior_bars(a_result=a_result, xbin=xbin, xbin_centers=xbin_centers, ybin=ybin, ybin_centers=ybin_centers, enable_plot_all_time_bins_in_epoch_mode=False, active_plot_fn=None)"
   ]
  },
  {
   "cell_type": "code",
   "execution_count": null,
   "id": "9bf0e317",
   "metadata": {},
   "outputs": [],
   "source": [
    "iplapsDataExplorer.clear_all_added_decoded_posterior_plots()"
   ]
  },
  {
   "cell_type": "code",
   "execution_count": null,
   "id": "968821ca",
   "metadata": {},
   "outputs": [],
   "source": [
    "a_decoded_trajectory_pyvista_plotter.data_dict"
   ]
  },
  {
   "cell_type": "code",
   "execution_count": null,
   "id": "fc7d6646",
   "metadata": {},
   "outputs": [],
   "source": [
    "update_plot_fn = a_decoded_trajectory_pyvista_plotter.data_dict['plot_3d_binned_bars[55.63197815967686]']['update_plot_fn']\n",
    "# update_plot_fn(1)"
   ]
  },
  {
   "cell_type": "code",
   "execution_count": null,
   "id": "3038982b",
   "metadata": {},
   "outputs": [],
   "source": [
    "# a_posterior_p_x_given_n, n_epoch_timebins = a_decoded_trajectory_pyvista_plotter._perform_get_curr_posterior(a_result=a_result, an_epoch_idx=a_decoded_trajectory_pyvista_plotter.curr_epoch_idx, time_bin_index=np.arange(a_decoded_trajectory_pyvista_plotter.curr_n_time_bins))\n",
    "# np.shape(a_posterior_p_x_given_n)\n",
    "\n",
    "\n",
    "a_posterior_p_x_given_n, n_epoch_timebins = a_decoded_trajectory_pyvista_plotter.get_curr_posterior(an_epoch_idx=a_decoded_trajectory_pyvista_plotter.curr_epoch_idx, time_bin_index=np.arange(a_decoded_trajectory_pyvista_plotter.curr_n_time_bins))\n",
    "np.shape(a_posterior_p_x_given_n)\n",
    "\n",
    "n_epoch_timebins"
   ]
  },
  {
   "cell_type": "code",
   "execution_count": null,
   "id": "9878ed8b",
   "metadata": {},
   "outputs": [],
   "source": [
    "v = a_decoded_trajectory_pyvista_plotter.plotActors['plot_3d_binned_bars[49.11980797704307]']\n",
    "# v['main'].remove()\n",
    "\n",
    "a_decoded_trajectory_pyvista_plotter.p.remove_actor(v['main'])"
   ]
  },
  {
   "cell_type": "code",
   "execution_count": null,
   "id": "7c6dc498",
   "metadata": {},
   "outputs": [],
   "source": [
    "from pyphoplacecellanalysis.Pho3D.PyVista.graphs import clear_3d_binned_bars_plots\n",
    "\n",
    "clear_3d_binned_bars_plots(p=a_decoded_trajectory_pyvista_plotter.p, plotActors=a_decoded_trajectory_pyvista_plotter.plotActors)\n"
   ]
  },
  {
   "cell_type": "code",
   "execution_count": null,
   "id": "1026b38b",
   "metadata": {},
   "outputs": [],
   "source": [
    "a_decoded_trajectory_pyvista_plotter.plotActors_CenterLabels"
   ]
  },
  {
   "cell_type": "code",
   "execution_count": null,
   "id": "0aec258c",
   "metadata": {},
   "outputs": [],
   "source": [
    "a_decoded_trajectory_pyvista_plotter.perform_update_plot_epoch_time_bin_range(value=None) # select all"
   ]
  },
  {
   "cell_type": "code",
   "execution_count": null,
   "id": "e721a086",
   "metadata": {},
   "outputs": [],
   "source": [
    "a_decoded_trajectory_pyvista_plotter.perform_clear_existing_decoded_trajectory_plots()\n",
    "iplapsDataExplorer.p.update()\n",
    "iplapsDataExplorer.p.render()"
   ]
  },
  {
   "cell_type": "code",
   "execution_count": null,
   "id": "4795182a",
   "metadata": {},
   "outputs": [],
   "source": [
    "time_bin_index = np.arange(a_decoded_trajectory_pyvista_plotter.curr_n_time_bins)\n",
    "type(time_bin_index)"
   ]
  },
  {
   "cell_type": "code",
   "execution_count": null,
   "id": "7059eeac",
   "metadata": {},
   "outputs": [],
   "source": [
    "a_decoded_trajectory_pyvista_plotter.slider_epoch.RemoveAllObservers()\n",
    "a_decoded_trajectory_pyvista_plotter.slider_epoch.Off()\n",
    "# a_decoded_trajectory_pyvista_plotter.slider_epoch.FastDelete()\n",
    "a_decoded_trajectory_pyvista_plotter.slider_epoch = None\n",
    "\n",
    "a_decoded_trajectory_pyvista_plotter.slider_epoch_time_bin.RemoveAllObservers()\n",
    "a_decoded_trajectory_pyvista_plotter.slider_epoch_time_bin.Off()\n",
    "# a_decoded_trajectory_pyvista_plotter.slider_epoch_time_bin.FastDelete()\n",
    "a_decoded_trajectory_pyvista_plotter.slider_epoch_time_bin = None\n",
    "iplapsDataExplorer.p.clear_slider_widgets()\n",
    "iplapsDataExplorer.p.update()\n",
    "iplapsDataExplorer.p.render()"
   ]
  },
  {
   "cell_type": "code",
   "execution_count": null,
   "id": "d66de9f2",
   "metadata": {},
   "outputs": [],
   "source": [
    "from pyphoplacecellanalysis.PhoPositionalData.plotting.mixins.decoder_plotting_mixins import DecoderRenderingPyVistaMixin\n",
    "\n",
    "(plotActors, data_dict), (plotActors_CenterLabels, data_dict_CenterLabels) = DecoderRenderingPyVistaMixin.perform_plot_posterior_bars(iplapsDataExplorer.p, xbin=xbin, ybin=ybin, xbin_centers=xbin_centers, ybin_centers=ybin_centers,\n",
    "\t\t\t\t\t\t\t\t\t\t\t   posterior_p_x_given_n=a_posterior_p_x_given_n)\n"
   ]
  },
  {
   "cell_type": "markdown",
   "id": "c05b8a87",
   "metadata": {},
   "source": [
    "# 🖼️🎨 DockPlanningHelperWidget Debugger (via `DockPlanningHelperWidget`)"
   ]
  },
  {
   "cell_type": "code",
   "execution_count": 47,
   "id": "d6d46f84",
   "metadata": {},
   "outputs": [
    {
     "name": "stdout",
     "output_type": "stream",
     "text": [
      "PhoDockAreaContainingWindow.GlobalConnectionManagerAccessingMixin_on_setup()\n",
      "PhoDockAreaContainingWindow.try_register_any_control_widgets()\n",
      "\tflat_widgets_list contains 0 items\n",
      "on_values_updated()\n",
      "on_values_updated()\n",
      "on_values_updated()\n",
      "on_values_updated()\n",
      "on_values_updated()\n",
      "on_values_updated()\n",
      "on_values_updated()\n",
      "on_values_updated()\n"
     ]
    }
   ],
   "source": [
    "import pyphoplacecellanalysis.External.pyqtgraph as pg\n",
    "from pyphoplacecellanalysis.GUI.PyQtPlot.Widgets.ContainerBased.DockPlanningHelperWindow import DockPlanningHelperWindow\n",
    "\n",
    "_out = DockPlanningHelperWindow.init_dock_area_builder(n_dock_planning_helper_widgets=4)\n"
   ]
  },
  {
   "cell_type": "markdown",
   "id": "293adac0",
   "metadata": {},
   "source": [
    "# 🖼️🎨 Rasters Debugger (via `RankOrderRastersDebugger`)\n",
    "<!-- ![image.png|350](attachment:image.png) -->\n",
    "![image.png](attachment:image.png){ width=300; max-width: 300px; }\n",
    "<!-- <img src=\"path_to_your_image.png\" style=\"max-width: 300px;\" /> -->"
   ]
  },
  {
   "cell_type": "code",
   "execution_count": null,
   "id": "393c0898",
   "metadata": {},
   "outputs": [],
   "source": [
    "from pyphoplacecellanalysis.GUI.PyQtPlot.Widgets.ContainerBased.RankOrderRastersDebugger import RankOrderRastersDebugger\n",
    "\n",
    "long_epoch_name, short_epoch_name, global_epoch_name = curr_active_pipeline.find_LongShortGlobal_epoch_names()\n",
    "global_spikes_df = deepcopy(curr_active_pipeline.computation_results[global_epoch_name]['computed_data'].pf1D.spikes_df)"
   ]
  },
  {
   "cell_type": "code",
   "execution_count": null,
   "id": "ff576652",
   "metadata": {},
   "outputs": [],
   "source": [
    "global_laps = deepcopy(curr_active_pipeline.filtered_sessions[global_epoch_name].laps) # .trimmed_to_non_overlapping()\n",
    "global_laps_epochs_df = global_laps.to_dataframe()\n",
    "\n",
    "RL_active_epoch_selected_spikes_fragile_linear_neuron_IDX_dict = None\n",
    "LR_active_epoch_selected_spikes_fragile_linear_neuron_IDX_dict = None\n",
    "_out_laps_rasters: RankOrderRastersDebugger = RankOrderRastersDebugger.init_rank_order_debugger(global_spikes_df, global_laps_epochs_df, track_templates, rank_order_results, RL_active_epoch_selected_spikes_fragile_linear_neuron_IDX_dict, LR_active_epoch_selected_spikes_fragile_linear_neuron_IDX_dict)\n",
    "_out_laps_rasters"
   ]
  },
  {
   "cell_type": "code",
   "execution_count": null,
   "id": "8a586d06",
   "metadata": {},
   "outputs": [],
   "source": [
    "# long_epoch_name, short_epoch_name, global_epoch_name = curr_active_pipeline.find_LongShortGlobal_epoch_names()\n",
    "# global_spikes_df = deepcopy(curr_active_pipeline.computation_results[global_epoch_name]['computed_data'].pf1D.spikes_df)\n",
    "# global_laps = deepcopy(curr_active_pipeline.filtered_sessions[global_epoch_name].laps) # .trimmed_to_non_overlapping()\n",
    "# global_laps_epochs_df = global_laps.to_dataframe()\n",
    "global_ripple_epochs_df = global_replays.to_dataframe()\n",
    "\n",
    "RL_active_epoch_selected_spikes_fragile_linear_neuron_IDX_dict = None\n",
    "LR_active_epoch_selected_spikes_fragile_linear_neuron_IDX_dict = None\n",
    "_out_ripple_rasters: RankOrderRastersDebugger = RankOrderRastersDebugger.init_rank_order_debugger(global_spikes_df, global_ripple_epochs_df, track_templates, rank_order_results, RL_active_epoch_selected_spikes_fragile_linear_neuron_IDX_dict, LR_active_epoch_selected_spikes_fragile_linear_neuron_IDX_dict)\n",
    "_out_ripple_rasters"
   ]
  },
  {
   "cell_type": "code",
   "execution_count": null,
   "id": "c01a20ec",
   "metadata": {},
   "outputs": [],
   "source": [
    "RL_active_epoch_selected_spikes_fragile_linear_neuron_IDX_dict = None\n",
    "LR_active_epoch_selected_spikes_fragile_linear_neuron_IDX_dict = None\n",
    "# rank_order_results\n",
    "# used_rank_order_results = deepcopy(rank_order_results)\n",
    "used_rank_order_results = None\n",
    "_out_ripple_rasters: RankOrderRastersDebugger = RankOrderRastersDebugger.init_rank_order_debugger(global_spikes_df, deepcopy(filtered_ripple_simple_pf_pearson_merged_df),\n",
    "\t\t\t\t\t\t\t\t\t\t\t\t\t\t\t\t\t\t\t\t\t\t\t\t   track_templates, used_rank_order_results,\n",
    "\t\t\t\t\t\t\t\t\t\t\t\t\t\t\t\t\t\t\t\t\t\t\t\t\tRL_active_epoch_selected_spikes_fragile_linear_neuron_IDX_dict, LR_active_epoch_selected_spikes_fragile_linear_neuron_IDX_dict)\n",
    "_out_ripple_rasters"
   ]
  },
  {
   "cell_type": "code",
   "execution_count": null,
   "id": "34ff2177",
   "metadata": {},
   "outputs": [],
   "source": [
    "\n",
    "long_epoch_name, short_epoch_name, global_epoch_name = curr_active_pipeline.find_LongShortGlobal_epoch_names()\n",
    "global_spikes_df = deepcopy(curr_active_pipeline.computation_results[global_epoch_name]['computed_data'].pf1D.spikes_df)\n",
    "_out_ripple_rasters: RankOrderRastersDebugger = RankOrderRastersDebugger.init_rank_order_debugger(global_spikes_df, deepcopy(filtered_ripple_simple_pf_pearson_merged_df),\n",
    "\t\t\t\t\t\t\t\t\t\t\t\t\t\t\t\t\t\t\t\t\t\t\t\t   track_templates, None,\n",
    "\t\t\t\t\t\t\t\t\t\t\t\t\t\t\t\t\t\t\t\t\t\t\t\t\tNone, None,\n",
    "\t\t\t\t\t\t\t\t\t\t\t\t\t\t\t\t\t\t\t\t\t\t\t\t\tdock_add_locations = dict(zip(('long_LR', 'long_RL', 'short_LR', 'short_RL'), (['right'], ['right'], ['right'], ['right']))),\n",
    "\t\t\t\t\t\t\t\t\t\t\t\t\t\t\t\t\t\t\t\t\t\t\t\t\t)\n",
    "_out_ripple_rasters.set_top_info_bar_visibility(False)\n"
   ]
  },
  {
   "cell_type": "code",
   "execution_count": null,
   "id": "6a0e4ff8",
   "metadata": {},
   "outputs": [],
   "source": [
    "_out_ripple_rasters.set_top_info_bar_visibility(False)"
   ]
  },
  {
   "cell_type": "code",
   "execution_count": null,
   "id": "700afa66",
   "metadata": {},
   "outputs": [],
   "source": [
    "# Hide top info bar:\n",
    "LongShortColumnsInfo_dock_layout, LongShortColumnsInfo_dock_Dock = _out_ripple_rasters.plots.dock_widgets['LongShortColumnsInfo_dock']\n",
    "# LongShortColumnsInfo_dock_layout.hide() # No use\n",
    "# _out_ripple_rasters.ui.long_short_info_layout.hide() # No use\n",
    "LongShortColumnsInfo_dock_Dock.hide()"
   ]
  },
  {
   "cell_type": "code",
   "execution_count": null,
   "id": "95532207",
   "metadata": {},
   "outputs": [],
   "source": [
    "LongShortColumnsInfo_dock_Dock.hide()"
   ]
  },
  {
   "cell_type": "code",
   "execution_count": null,
   "id": "174f3c29",
   "metadata": {},
   "outputs": [],
   "source": [
    "# found_IDX = _out_ripple_rasters.find_nearest_time_index(193.65)\n",
    "# if found_IDX is not None:\n",
    "#     print(f'found_IDX: {found_IDX}')\n",
    "#     _out_ripple_rasters.programmatically_update_epoch_IDX(found_IDX)\n",
    "\n",
    "\n",
    "_out_ripple_rasters.programmatically_update_epoch_IDX_from_epoch_start_time(193.65)\n",
    "\n"
   ]
  },
  {
   "cell_type": "code",
   "execution_count": null,
   "id": "965556b9",
   "metadata": {},
   "outputs": [],
   "source": [
    "_out_ripple_rasters.on_update_epoch_IDX(45)\n",
    "# on_update_epoch_IDX\n"
   ]
  },
  {
   "cell_type": "code",
   "execution_count": null,
   "id": "cada3aef",
   "metadata": {},
   "outputs": [],
   "source": [
    "_a_ScrollBarWithSpinBox = _out_ripple_rasters.ui.ctrls_widget # ScrollBarWithSpinBox \n",
    "_a_ScrollBarWithSpinBox.setValue(45)"
   ]
  },
  {
   "cell_type": "code",
   "execution_count": null,
   "id": "521bba12",
   "metadata": {},
   "outputs": [],
   "source": [
    "curr_active_pipeline.plot._display_directional_template_debugger()"
   ]
  },
  {
   "cell_type": "code",
   "execution_count": null,
   "id": "14a7fec5",
   "metadata": {},
   "outputs": [],
   "source": [
    "_out = curr_active_pipeline.display('_display_directional_template_debugger')\n"
   ]
  },
  {
   "cell_type": "code",
   "execution_count": null,
   "id": "c50f2ef8",
   "metadata": {},
   "outputs": [],
   "source": [
    "_out = curr_active_pipeline.display('_display_directional_track_template_pf1Ds')\n"
   ]
  },
  {
   "cell_type": "code",
   "execution_count": null,
   "id": "6eb3c80c",
   "metadata": {},
   "outputs": [],
   "source": [
    "curr_active_pipeline.reload_default_display_functions()"
   ]
  },
  {
   "cell_type": "code",
   "execution_count": null,
   "id": "d6d2b444",
   "metadata": {},
   "outputs": [],
   "source": [
    "# _restore_previous_matplotlib_settings_callback = matplotlib_configuration_update(is_interactive=True, backend='Qt5Agg')\n",
    "_restore_previous_matplotlib_settings_callback = matplotlib_configuration_update(is_interactive=True, backend='Qt5Agg')\n"
   ]
  },
  {
   "cell_type": "code",
   "execution_count": null,
   "id": "080c1041",
   "metadata": {},
   "outputs": [],
   "source": [
    "_out = curr_active_pipeline.display('_display_two_step_decoder_prediction_error_2D', global_epoch_context, variable_name='p_x_given_n')\n"
   ]
  },
  {
   "cell_type": "code",
   "execution_count": null,
   "id": "9e05b045",
   "metadata": {},
   "outputs": [],
   "source": [
    "_out = curr_active_pipeline.display('_display_plot_most_likely_position_comparisons', global_epoch_context) # , variable_name='p_x_given_n'\n"
   ]
  },
  {
   "cell_type": "code",
   "execution_count": null,
   "id": "dddebd9e",
   "metadata": {},
   "outputs": [],
   "source": [
    "_out = curr_active_pipeline.display('_display_directional_laps_overview')\n"
   ]
  },
  {
   "cell_type": "code",
   "execution_count": null,
   "id": "4d805c37",
   "metadata": {},
   "outputs": [],
   "source": [
    "_out = curr_active_pipeline.display('_display_directional_laps_overview')\n"
   ]
  },
  {
   "cell_type": "code",
   "execution_count": null,
   "id": "1b3c3cea",
   "metadata": {},
   "outputs": [],
   "source": [
    "'_display_directional_laps_overview'"
   ]
  },
  {
   "cell_type": "code",
   "execution_count": null,
   "id": "cb98e796",
   "metadata": {},
   "outputs": [],
   "source": [
    "# '_display_directional_merged_pfs'\n",
    "_out = curr_active_pipeline.display('_display_directional_merged_pfs', plot_all_directions=False, plot_long_directional=True, )"
   ]
  },
  {
   "cell_type": "code",
   "execution_count": null,
   "id": "47076a61",
   "metadata": {},
   "outputs": [],
   "source": [
    "'_display_1d_placefield_occupancy'\n",
    "'_display_placemaps_pyqtplot_2D'\n",
    " '_display_2d_placefield_occupancy'"
   ]
  },
  {
   "cell_type": "code",
   "execution_count": null,
   "id": "481df233",
   "metadata": {},
   "outputs": [],
   "source": [
    "_out = curr_active_pipeline.display('_display_2d_placefield_occupancy', global_any_name)"
   ]
  },
  {
   "cell_type": "code",
   "execution_count": null,
   "id": "694d0a20",
   "metadata": {},
   "outputs": [],
   "source": [
    "_out = curr_active_pipeline.display('_display_grid_bin_bounds_validation')\n",
    "\n"
   ]
  },
  {
   "cell_type": "code",
   "execution_count": null,
   "id": "94fbe6ee",
   "metadata": {},
   "outputs": [],
   "source": [
    "\n",
    "_out = curr_active_pipeline.display('_display_running_and_replay_speeds_over_time')\n"
   ]
  },
  {
   "cell_type": "code",
   "execution_count": null,
   "id": "58951b11",
   "metadata": {},
   "outputs": [],
   "source": [
    "from neuropy.utils.matplotlib_helpers import add_rectangular_selector, add_range_selector\n",
    "\n",
    "\n",
    "# epoch_name = global_any_name\n",
    "epoch_name = short_epoch_name\n",
    "computation_result = curr_active_pipeline.computation_results[epoch_name]\n",
    "grid_bin_bounds = computation_result.computation_config['pf_params'].grid_bin_bounds\n",
    "epoch_context = curr_active_pipeline.filtered_contexts[epoch_name]\n",
    "\t\t\t\n",
    "fig, ax = computation_result.computed_data.pf2D.plot_occupancy(identifier_details_list=[epoch_name], active_context=epoch_context) \n",
    "\n",
    "# rect_selector, set_extents, reset_extents = add_rectangular_selector(fig, ax, initial_selection=grid_bin_bounds) # (24.82, 257.88), (125.52, 149.19)"
   ]
  },
  {
   "cell_type": "code",
   "execution_count": null,
   "id": "ada4720b",
   "metadata": {},
   "outputs": [],
   "source": [
    "from pyphoplacecellanalysis.Pho2D.track_shape_drawing import add_vertical_track_bounds_lines\n",
    "\n",
    "grid_bin_bounds = deepcopy(long_pf2D.config.grid_bin_bounds)\n",
    "long_track_line_collection, short_track_line_collection = add_vertical_track_bounds_lines(grid_bin_bounds=grid_bin_bounds, ax=ax)"
   ]
  },
  {
   "cell_type": "code",
   "execution_count": null,
   "id": "2b862a66",
   "metadata": {},
   "outputs": [],
   "source": [
    "from neuropy.utils.mixins.peak_location_representing import compute_placefield_center_of_mass_positions\n",
    "\n",
    "\n",
    "epoch_name = global_any_name\n",
    "computation_result = curr_active_pipeline.computation_results[epoch_name]\n",
    "grid_bin_bounds = deepcopy(computation_result.computation_config['pf_params'].grid_bin_bounds)\n",
    "epoch_context = curr_active_pipeline.filtered_contexts[epoch_name]\n"
   ]
  },
  {
   "cell_type": "code",
   "execution_count": null,
   "id": "5905e90b",
   "metadata": {},
   "outputs": [],
   "source": [
    "grid_bin_bounds = deepcopy(long_pf2D.config.grid_bin_bounds)\n",
    "long_pf2D.xbin\n",
    "long_pf2D.ybin"
   ]
  },
  {
   "cell_type": "code",
   "execution_count": null,
   "id": "befc3d1d",
   "metadata": {},
   "outputs": [],
   "source": [
    "occupancy = deepcopy(long_pf2D.occupancy) # occupancy.shape # (60, 15)\n",
    "xbin = deepcopy(long_pf2D.xbin)\n",
    "ybin = deepcopy(long_pf2D.ybin)\n"
   ]
  },
  {
   "cell_type": "code",
   "execution_count": null,
   "id": "ab0416d4",
   "metadata": {},
   "outputs": [],
   "source": [
    "from scipy import ndimage # used for `compute_placefield_center_of_masses`\n",
    "from neuropy.utils.mixins.peak_location_representing import compute_occupancy_center_of_mass_positions\n"
   ]
  },
  {
   "cell_type": "code",
   "execution_count": null,
   "id": "f6352663",
   "metadata": {},
   "outputs": [],
   "source": [
    "occupancy_x_center_dict = {k:compute_occupancy_center_of_mass_positions(v.pf.occupancy, xbin=v.pf.xbin, ybin=v.pf.ybin).item() for k, v in track_templates.get_decoders_dict().items()}\n",
    "occupancy_x_center_dict # {'long_LR': 162.99271603199625, 'long_RL': 112.79866056603696, 'short_LR': 138.45611791646, 'short_RL': 130.78889937230684}\n",
    "\n",
    "occupancy_mask_x_center_dict = {k:compute_occupancy_center_of_mass_positions(v.pf.visited_occupancy_mask, xbin=v.pf.xbin, ybin=v.pf.ybin).item() for k, v in track_templates.get_decoders_dict().items()}\n",
    "occupancy_mask_x_center_dict # {'long_LR': 135.66781520875904, 'long_RL': 130.0042755113645, 'short_LR': 133.77996864296085, 'short_RL': 143.21920147195175}\n",
    "\n",
    "\n",
    "# {k:compute_occupancy_center_of_mass_positions(v.pf.occupancy, xbin=v.pf.xbin, ybin=v.pf.ybin).item() for k, v in track_templates.get_decoders_dict().items()}\n"
   ]
  },
  {
   "cell_type": "code",
   "execution_count": null,
   "id": "5bb029d8",
   "metadata": {},
   "outputs": [],
   "source": [
    "occupancy = deepcopy(long_pf2D.occupancy) # occupancy.shape # (60, 15)\n",
    "xbin = deepcopy(long_pf2D.xbin)\n",
    "ybin = deepcopy(long_pf2D.ybin)\n",
    "\n",
    "# masked_nonzero_occupancy = deepcopy(long_pf2D.nan_never_visited_occupancy)\n",
    "\n",
    "masked_nonzero_occupancy = deepcopy(long_pf2D.visited_occupancy_mask)\n",
    "\n",
    "# occupancy_CoM_positions = compute_occupancy_center_of_mass_positions(occupancy, xbin=long_pf2D.xbin, ybin=long_pf2D.ybin)\n",
    "occupancy_CoM_positions = compute_occupancy_center_of_mass_positions(masked_nonzero_occupancy, xbin=long_pf2D.xbin, ybin=long_pf2D.ybin) # array([127.704, 145.63])\n",
    "occupancy_CoM_positions\n"
   ]
  },
  {
   "cell_type": "code",
   "execution_count": null,
   "id": "097c3b06",
   "metadata": {},
   "outputs": [],
   "source": [
    "long_pf2D.nan_never_visited_occupancy\n",
    "\n"
   ]
  },
  {
   "cell_type": "code",
   "execution_count": null,
   "id": "9f4caa06",
   "metadata": {},
   "outputs": [],
   "source": [
    "curr_active_pipeline.registered_display_function_docs_dict# '_display_grid_bin_bounds_validation'"
   ]
  },
  {
   "cell_type": "code",
   "execution_count": null,
   "id": "84f963a7",
   "metadata": {},
   "outputs": [],
   "source": [
    "## Extracting on 2024-02-06 to display the LR/RL directions instead of the All/Long/Short pfs:\n",
    "def _display_directional_merged_pfs(owning_pipeline_reference, global_computation_results, computation_results, active_configs, include_includelist=None, save_figure=True, included_any_context_neuron_ids=None,\n",
    "\t\t\t\t\t\t\t\t\tplot_all_directions=True, plot_long_directional=False, plot_short_directional=False, **kwargs):\n",
    "\t\"\"\" Plots the merged pseduo-2D pfs/ratemaps. Plots: All-Directions, Long-Directional, Short-Directional in seperate windows. \n",
    "\t\n",
    "\tHistory: this is the Post 2022-10-22 display_all_pf_2D_pyqtgraph_binned_image_rendering-based method:\n",
    "\t\"\"\"\n",
    "\tfrom pyphoplacecellanalysis.Pho2D.PyQtPlots.plot_placefields import pyqtplot_plot_image_array, display_all_pf_2D_pyqtgraph_binned_image_rendering\n",
    "\tfrom pyphoplacecellanalysis.GUI.PyQtPlot.BinnedImageRenderingWindow import BasicBinnedImageRenderingWindow \n",
    "\tfrom pyphoplacecellanalysis.General.Pipeline.Stages.ComputationFunctions.MultiContextComputationFunctions.DirectionalPlacefieldGlobalComputationFunctions import LayoutScrollability\n",
    "\n",
    "\tdefer_render = kwargs.pop('defer_render', False)\n",
    "\tdirectional_merged_decoders_result: DirectionalPseudo2DDecodersResult = global_computation_results.computed_data['DirectionalMergedDecoders']\n",
    "\tactive_merged_pf_plots_data_dict = {} #empty dict\n",
    "\t\n",
    "\tif plot_all_directions:\n",
    "\t\tactive_merged_pf_plots_data_dict[owning_pipeline_reference.build_display_context_for_session(track_config='All-Directions', display_fn_name='display_all_pf_2D_pyqtgraph_binned_image_rendering')] = directional_merged_decoders_result.all_directional_pf1D_Decoder.pf # all-directions\n",
    "\tif plot_long_directional:\n",
    "\t\tactive_merged_pf_plots_data_dict[owning_pipeline_reference.build_display_context_for_session(track_config='Long-Directional', display_fn_name='display_all_pf_2D_pyqtgraph_binned_image_rendering')] = directional_merged_decoders_result.long_directional_pf1D_Decoder.pf # Long-only\n",
    "\tif plot_short_directional:\n",
    "\t\tactive_merged_pf_plots_data_dict[owning_pipeline_reference.build_display_context_for_session(track_config='Short-Directional', display_fn_name='display_all_pf_2D_pyqtgraph_binned_image_rendering')] = directional_merged_decoders_result.short_directional_pf1D_Decoder.pf # Short-only\n",
    "\n",
    "\tout_plots_dict = {}\n",
    "\t\n",
    "\tfor active_context, active_pf_2D in active_merged_pf_plots_data_dict.items():\n",
    "\t\t# figure_format_config = {} # empty dict for config\n",
    "\t\tfigure_format_config = {'scrollability_mode': LayoutScrollability.NON_SCROLLABLE} # kwargs # kwargs as default figure_format_config\n",
    "\t\tout_all_pf_2D_pyqtgraph_binned_image_fig: BasicBinnedImageRenderingWindow  = display_all_pf_2D_pyqtgraph_binned_image_rendering(active_pf_2D, figure_format_config) # output is BasicBinnedImageRenderingWindow\n",
    "\t\n",
    "\t\t# Set the window title from the context\n",
    "\t\tout_all_pf_2D_pyqtgraph_binned_image_fig.setWindowTitle(f'{active_context.get_description()}')\n",
    "\t\tout_plots_dict[active_context] = out_all_pf_2D_pyqtgraph_binned_image_fig\n",
    "\n",
    "\t\t# Tries to update the display of the item:\n",
    "\t\tnames_list = [v for v in list(out_all_pf_2D_pyqtgraph_binned_image_fig.plots.keys()) if v not in ('name', 'context')]\n",
    "\t\tfor a_name in names_list:\n",
    "\t\t\t# Adjust the size of the text for the item by passing formatted text\n",
    "\t\t\ta_plot: pg.PlotItem = out_all_pf_2D_pyqtgraph_binned_image_fig.plots[a_name].mainPlotItem # PlotItem \n",
    "\t\t\t# no clue why 2 is a good value for this...\n",
    "\t\t\ta_plot.titleLabel.setMaximumHeight(2)\n",
    "\t\t\ta_plot.layout.setRowFixedHeight(0, 2)\n",
    "\t\t\t\n",
    "\n",
    "\t\tif not defer_render:\n",
    "\t\t\tout_all_pf_2D_pyqtgraph_binned_image_fig.show()\n",
    "\n",
    "\treturn out_plots_dict"
   ]
  },
  {
   "cell_type": "markdown",
   "id": "0e434945",
   "metadata": {},
   "source": [
    "# 2023-12-18 - Simpily detect bimodal cells:"
   ]
  },
  {
   "cell_type": "code",
   "execution_count": null,
   "id": "e3cd3ad6",
   "metadata": {},
   "outputs": [],
   "source": [
    "from neuropy.utils.mixins.peak_location_representing import ContinuousPeakLocationRepresentingMixin\n",
    "from neuropy.core.ratemap import Ratemap\n",
    "from scipy.signal import find_peaks\n",
    "from pyphocorehelpers.indexing_helpers import reorder_columns, reorder_columns_relative\n",
    "\n",
    "_restore_previous_matplotlib_settings_callback = matplotlib_configuration_update(is_interactive=True, backend='Qt5Agg')\n",
    "# curr_active_pipeline.display('_display_1d_placefields', 'maze1_any', sortby=None)\n",
    "\n",
    "# active_ratemap = deepcopy(long_pf1D.ratemap)\n",
    "active_ratemap: Ratemap = deepcopy(long_LR_pf1D.ratemap)\n",
    "peaks_dict, aclu_n_peaks_dict, peaks_results_df = active_ratemap.compute_tuning_curve_modes(height=0.2, width=None)\n",
    "\n",
    "\n",
    "## INPUTS: track_templates\n",
    "included_columns = ['pos', 'peak_heights'] # the columns of interest that you want in the final dataframe.\n",
    "included_columns_renamed = dict(zip(included_columns, ['peak', 'peak_height']))\n",
    "decoder_peaks_results_dfs = [a_decoder.pf.ratemap.get_tuning_curve_peak_df(height=0.2, width=None) for a_decoder in (track_templates.long_LR_decoder, track_templates.long_RL_decoder, track_templates.short_LR_decoder, track_templates.short_RL_decoder)]\n",
    "prefix_names = [f'{a_decoder_name}_' for a_decoder_name in track_templates.get_decoder_names()]\n",
    "all_included_columns = ['aclu', 'series_idx', 'subpeak_idx'] + included_columns # Used to filter out the unwanted columns from the output\n",
    "\n",
    "# [['aclu', 'series_idx', 'subpeak_idx', 'pos']]\n",
    "\n",
    "# rename_list_fn = lambda a_prefix: {'pos': f\"{a_prefix}pos\"}\n",
    "rename_list_fn = lambda a_prefix: {a_col_name:f\"{a_prefix}{included_columns_renamed[a_col_name]}\" for a_col_name in included_columns}\n",
    "\n",
    "# column_names = [f'{a_decoder_name}_peak' for a_decoder_name in track_templates.get_decoder_names()]\n",
    "\n",
    "# dataFrames = decoder_peaks_results_dfs\n",
    "# names = self.get_decoder_names()\n",
    "\n",
    "# rename 'pos' column in each dataframe and then reduce to perform cumulative outer merge\n",
    "result_df = decoder_peaks_results_dfs[0][all_included_columns].rename(columns=rename_list_fn(prefix_names[0]))\n",
    "for df, a_prefix in zip(decoder_peaks_results_dfs[1:], prefix_names[1:]):\n",
    "\tresult_df = pd.merge(result_df, df[all_included_columns].rename(columns=rename_list_fn(a_prefix)), on=['aclu', 'series_idx', 'subpeak_idx'], how='outer')\n",
    "\n",
    "# result = reorder_columns(result, column_name_desired_index_dict=dict(zip(['Long_LR_evidence', 'Long_RL_evidence', 'Short_LR_evidence', 'Short_RL_evidence'], np.arange(4)+4)))\n",
    "\n",
    "## Move the \"height\" columns to the end\n",
    "# list(filter(lambda column: column.endswith('_peak_heights'), result.columns))\n",
    "# result_df = reorder_columns(result_df, column_name_desired_index_dict=dict(zip(list(filter(lambda column: column.endswith('_peak_heights'), result_df.columns)), np.arange(len(result_df.columns)-4, len(result_df.columns)))))\n",
    "# result_df\n",
    "\n",
    "# print(list(result.columns))\n",
    "\n",
    "## Move the \"height\" columns to the end\n",
    "result_df: pd.DataFrame = reorder_columns_relative(result_df, column_names=list(filter(lambda column: column.endswith('_peak_heights'), result_df.columns)), relative_mode='end').sort_values(['aclu', 'series_idx', 'subpeak_idx']).reset_index(drop=True)\n",
    "result_df"
   ]
  },
  {
   "cell_type": "code",
   "execution_count": null,
   "id": "a292dc1e",
   "metadata": {},
   "outputs": [],
   "source": [
    "## Manually Excluded endcap aclus:\n",
    "IdentifyingContext(format_name='kdiba',animal='gor01',exper_name='one',session_name='2006-6-09_1-22-43')\n",
    "excluded_endcap_aclus: NDArray = np.array(list(set([40, 60, 85, 102, 52, 6] + [83, 60, 52, 102, 40] + [59, 67, 95, 28, 101] + [14, 15, 87, 71] + [43, 84, 87, 19, 33, 51, 53])))\n",
    "excluded_endcap_aclus\n",
    "\n",
    "\n",
    "np.array([  6,  14,  15,  19,  28,  33,  40,  43,  51,  52,  53,  59,  60,  67,  71,  83,  84,  85,  87,  95, 101, 102])\n",
    "\n"
   ]
  },
  {
   "cell_type": "code",
   "execution_count": null,
   "id": "5f0fdee9",
   "metadata": {},
   "outputs": [],
   "source": [
    "decoder_peaks_dict_dict, decoder_aclu_n_peaks_dict_dict, decoder_peaks_results_df_dict = track_templates.get_decoders_tuning_curve_modes()\n",
    "decoder_aclu_n_peaks_dict_dict\n",
    "# decoder_peaks_results_df_dict\n",
    "# decoder_peaks_dict_dict"
   ]
  },
  {
   "cell_type": "code",
   "execution_count": null,
   "id": "09f49ca2",
   "metadata": {},
   "outputs": [],
   "source": [
    "test_aclu = 51\n",
    "\n",
    "{k:v[test_aclu] for k, v in decoder_aclu_n_peaks_dict_dict.items()}\n",
    "\n"
   ]
  },
  {
   "cell_type": "code",
   "execution_count": null,
   "id": "e878598a",
   "metadata": {},
   "outputs": [],
   "source": [
    "peaks_results_df = track_templates.get_decoders_aclu_peak_location_df().sort_values(['aclu', 'series_idx', 'subpeak_idx']).reset_index(drop=True) ## Does not seem to merge entries as I would expect via intution. It keeps LR/RL peaks distinct and leaves pd.NA values for the entries.\n",
    "peaks_results_df"
   ]
  },
  {
   "cell_type": "code",
   "execution_count": null,
   "id": "57c29838",
   "metadata": {},
   "outputs": [],
   "source": [
    "aclu_n_peaks_dict: Dict = peaks_results_df.groupby(['aclu']).agg(subpeak_idx_count=('subpeak_idx', 'count')).reset_index().set_index('aclu').to_dict()['subpeak_idx_count'] # number of peaks (\"models\" for each aclu)\n",
    "aclu_n_peaks_dict\n",
    "\n",
    "# peaks_results_df = peaks_results_df.groupby(['aclu']).agg(subpeak_idx_count=('subpeak_idx', 'count')).reset_index()\n",
    "\n",
    "# peaks_results_df[peaks_results_df.aclu == 5]\n",
    "# peaks_results_df.aclu.value_counts()\n",
    "\n",
    "aclu_n_peaks_dict[51]"
   ]
  },
  {
   "cell_type": "code",
   "execution_count": null,
   "id": "3e14bb47",
   "metadata": {},
   "outputs": [],
   "source": [
    "active_ratemap.n_neurons\n",
    "curr_active_pipeline.display('_display_1d_placefields', 'maze1_any', included_unit_neuron_IDs=active_ratemap.neuron_ids, sortby=np.arange(active_ratemap.n_neurons))"
   ]
  },
  {
   "cell_type": "code",
   "execution_count": null,
   "id": "912f7edd",
   "metadata": {},
   "outputs": [],
   "source": [
    "\n",
    "aclu_n_peaks_dict\n",
    "unimodal_only_aclus = np.array(list(unimodal_peaks_dict.keys()))\n",
    "unimodal_only_aclus\n",
    "curr_active_pipeline.display('_display_1d_placefields', 'maze1_any', included_unit_neuron_IDs=unimodal_only_aclus, sortby=np.arange(active_ratemap.n_neurons))"
   ]
  },
  {
   "cell_type": "markdown",
   "id": "166c9e39",
   "metadata": {},
   "source": [
    "# 🖼️🎨 2024-02-08 - `PhoPaginatedMultiDecoderDecodedEpochsWindow` - Plot Ripple Metrics like Radon Transforms, WCorr, Simple Pearson, etc."
   ]
  },
  {
   "cell_type": "code",
   "execution_count": null,
   "id": "bf989bf6",
   "metadata": {
    "notebookRunGroups": {
     "groupValue": "2"
    }
   },
   "outputs": [],
   "source": [
    "from neuropy.core.epoch import ensure_dataframe\n",
    "from pyphoplacecellanalysis.Pho2D.stacked_epoch_slices import PhoPaginatedMultiDecoderDecodedEpochsWindow\n",
    "from pyphoplacecellanalysis.General.Pipeline.Stages.DisplayFunctions.DecoderPredictionError import RadonTransformPlotDataProvider\n",
    "from pyphoplacecellanalysis.General.Pipeline.Stages.ComputationFunctions.MultiContextComputationFunctions.DirectionalPlacefieldGlobalComputationFunctions import filter_and_update_epochs_and_spikes\n",
    "from pyphoplacecellanalysis.Analysis.Decoder.heuristic_replay_scoring import HeuristicReplayScoring\n",
    "\n",
    "## INPUTS: directional_decoders_epochs_decode_result, filtered_epochs_df\n",
    "decoder_ripple_filter_epochs_decoder_result_dict = deepcopy(directional_decoders_epochs_decode_result.decoder_ripple_filter_epochs_decoder_result_dict)\n",
    "filtered_decoder_filter_epochs_decoder_result_dict: Dict[types.DecoderName, DecodedFilterEpochsResult] = {a_name:a_result.filtered_by_epoch_times(filtered_epochs_df[['start', 'stop']].to_numpy()) for a_name, a_result in decoder_ripple_filter_epochs_decoder_result_dict.items()} # working filtered\n",
    "\n",
    "ripple_decoding_time_bin_size: float = directional_decoders_epochs_decode_result.ripple_decoding_time_bin_size\n",
    "pos_bin_size: float = directional_decoders_epochs_decode_result.pos_bin_size\n",
    "print(f'{pos_bin_size = }, {ripple_decoding_time_bin_size = }')\n",
    "\n",
    "# 0.025\n",
    "\n",
    "## OUTPUTS: filtered_decoder_filter_epochs_decoder_result_dict"
   ]
  },
  {
   "cell_type": "code",
   "execution_count": null,
   "id": "851b7dab",
   "metadata": {
    "notebookRunGroups": {
     "groupValue": "2"
    }
   },
   "outputs": [],
   "source": [
    "\n",
    "## INPUTS: directional_decoders_epochs_decode_result, decoder_ripple_filter_epochs_decoder_result_dict\n",
    "## UPDATES: filtered_decoder_filter_epochs_decoder_result_dict\n",
    "\n",
    "# 2024-03-04 - Filter out the epochs based on the criteria:\n",
    "filtered_epochs_df, active_spikes_df = filter_and_update_epochs_and_spikes(curr_active_pipeline, global_epoch_name, track_templates, epoch_id_key_name='ripple_epoch_id', no_interval_fill_value=-1)\n",
    "\n",
    "## filter the epochs by something and only show those:\n",
    "# INPUTS: filtered_epochs_df\n",
    "# filtered_ripple_simple_pf_pearson_merged_df = filtered_ripple_simple_pf_pearson_merged_df.epochs.matching_epoch_times_slice(active_epochs_df[['start', 'stop']].to_numpy())\n",
    "decoder_ripple_filter_epochs_decoder_result_dict = directional_decoders_epochs_decode_result.decoder_ripple_filter_epochs_decoder_result_dict\n",
    "\n",
    "## Update the `decoder_ripple_filter_epochs_decoder_result_dict` with the included epochs:\n",
    "filtered_decoder_filter_epochs_decoder_result_dict: Dict[str, DecodedFilterEpochsResult] = {a_name:a_result.filtered_by_epoch_times(filtered_epochs_df[['start', 'stop']].to_numpy()) for a_name, a_result in decoder_ripple_filter_epochs_decoder_result_dict.items()} # working filtered\n",
    "# print(f\"any_good_selected_epoch_times.shape: {any_good_selected_epoch_times.shape}\") # (142, 2)\n",
    "\n",
    "pre_cols = {a_name:set(a_result.filter_epochs.columns) for a_name, a_result in filtered_decoder_filter_epochs_decoder_result_dict.items()}\n",
    "\n",
    "# 🟪 2024-02-29 - `compute_pho_heuristic_replay_scores`\n",
    "filtered_decoder_filter_epochs_decoder_result_dict, _out_new_scores = HeuristicReplayScoring.compute_all_heuristic_scores(track_templates=track_templates, a_decoded_filter_epochs_decoder_result_dict=filtered_decoder_filter_epochs_decoder_result_dict)\n",
    "## 2024-03-08 - Also constrain the user-selected ones (just to try it):\n",
    "decoder_user_selected_epoch_times_dict, any_good_selected_epoch_times = DecoderDecodedEpochsResult.load_user_selected_epoch_times(curr_active_pipeline, track_templates=track_templates)\n",
    "# ## Constrain again now by the user selections\n",
    "# filtered_decoder_filter_epochs_decoder_result_dict: Dict[str, DecodedFilterEpochsResult] = {a_name:a_result.filtered_by_epoch_times(any_good_selected_epoch_times) for a_name, a_result in filtered_decoder_filter_epochs_decoder_result_dict.items()}\n",
    "# filtered_decoder_filter_epochs_decoder_result_dict\n",
    "\n",
    "## Instead, add in the 'is_user_annotated_epoch' column instead of filtering\n",
    "## INPUTS: any_good_selected_epoch_times\n",
    "num_user_selected_times: int = len(any_good_selected_epoch_times)\n",
    "print(f'num_user_selected_times: {num_user_selected_times}')\n",
    "any_good_selected_epoch_indicies = None\n",
    "print(f'adding user annotation column!')\n",
    "\n",
    "directional_decoders_epochs_decode_result.add_all_extra_epoch_columns(curr_active_pipeline, track_templates=track_templates, required_min_percentage_of_active_cells=0.33333333, debug_print=False)\n",
    "\n",
    "\n",
    "## OUT: filtered_decoder_filter_epochs_decoder_result_dict\n",
    "\n",
    "# ## specifically long_LR\n",
    "# filter_epochs: pd.DataFrame = deepcopy(ensure_dataframe(filtered_decoder_filter_epochs_decoder_result_dict['long_LR'].filter_epochs))\n",
    "\n",
    "\n",
    "## OUTPUTS: filtered_epochs_df\n",
    "# filtered_epochs_df\n"
   ]
  },
  {
   "cell_type": "code",
   "execution_count": null,
   "id": "c3876b68",
   "metadata": {},
   "outputs": [],
   "source": [
    "filtered_decoder_filter_epochs_decoder_result_dict['long_LR'].filter_epochs"
   ]
  },
  {
   "cell_type": "markdown",
   "id": "9fd98310",
   "metadata": {},
   "source": [
    "### 2024-05-09 - get the most-likely decoder for each epoch using the sequenceless probabilities and used this to selected the appopriate column for each of the heuristic measures.\n",
    "Modifies `extracted_merged_scores_df`, adding \"*_BEST\" columns for each specified heuristic score column\n"
   ]
  },
  {
   "cell_type": "code",
   "execution_count": null,
   "id": "d65f4853",
   "metadata": {
    "tags": [
     "PROMISING"
    ]
   },
   "outputs": [],
   "source": [
    "extracted_merged_scores_df: pd.DataFrame =  directional_decoders_epochs_decode_result.build_complete_all_scores_merged_df()\n",
    "# extracted_merged_scores_df\n",
    "\n",
    "ripple_weighted_corr_merged_df = deepcopy(directional_decoders_epochs_decode_result.ripple_weighted_corr_merged_df)\n",
    "\n",
    "## Need 'best_decoder_index':... actually 'most_likely_decoder_index'\n",
    "\n",
    "# best_decoder_index = deepcopy(directional_merged_decoders_result.all_directional_ripple_filter_epochs_decoder_result.filter_epochs['best_decoder_index']) # hope this is correct and not just like the best wcorr or something\n",
    "best_decoder_index = deepcopy(directional_decoders_epochs_decode_result.ripple_weighted_corr_merged_df['most_likely_decoder_index'])\n",
    "\n",
    "new_heuristic_checking_columns = ['total_variation', 'integral_second_derivative', 'stddev_of_diff', 'score'] # , 'integral_second_derivative', 'stddev_of_diff', 'score'\n",
    "# best_decoder_names = [['long_LR', 'long_RL', 'short_LR', 'short_RL'][an_idx] for an_idx in best_decoder_index]\n",
    "## Example: extracted_merged_scores_df[['total_variation_long_LR', 'total_variation_long_RL', 'total_variation_short_LR', 'total_variation_short_RL']]\n",
    "\n",
    "for a_score_col in new_heuristic_checking_columns:\n",
    "\tcurr_score_col_decoder_col_names = [f\"{a_score_col}_{a_decoder_name}\" for a_decoder_name in ['long_LR', 'long_RL', 'short_LR', 'short_RL']]\n",
    "\t# print(f'curr_score_col_decoder_col_names: {curr_score_col_decoder_col_names}')\n",
    "\t# extracted_merged_scores_df\n",
    "\t_final_out = [extracted_merged_scores_df[curr_score_col_decoder_col_names].to_numpy()[epoch_idx, a_decoder_idx] for epoch_idx, a_decoder_idx in zip(np.arange(np.shape(extracted_merged_scores_df)[0]), best_decoder_index.to_numpy())]\n",
    "\textracted_merged_scores_df[f\"{a_score_col}_BEST\"] = _final_out # extracted_merged_scores_df[curr_score_col_decoder_col_names].to_numpy()[best_decoder_index]\n",
    "\n",
    "extracted_merged_scores_df"
   ]
  },
  {
   "cell_type": "code",
   "execution_count": null,
   "id": "b1fdcf95",
   "metadata": {},
   "outputs": [],
   "source": [
    "from pyphoplacecellanalysis.Pho2D.stacked_epoch_slices import PhoPaginatedMultiDecoderDecodedEpochsWindow, DecodedEpochSlicesPaginatedFigureController, EpochSelectionsObject, ClickActionCallbacks\n",
    "from pyphoplacecellanalysis.GUI.Qt.Widgets.ThinButtonBar.ThinButtonBarWidget import ThinButtonBarWidget\n",
    "from pyphoplacecellanalysis.GUI.Qt.Widgets.PaginationCtrl.PaginationControlWidget import PaginationControlWidget, PaginationControlWidgetState\n",
    "from neuropy.core.user_annotations import UserAnnotationsManager\n",
    "from pyphoplacecellanalysis.Resources import GuiResources, ActionIcons, silx_resources_rc\n",
    "## INPUTS filtered_decoder_filter_epochs_decoder_result_dict\n",
    "# decoder_decoded_epochs_result_dict: generic\n",
    "app, paginated_multi_decoder_decoded_epochs_window, pagination_controller_dict = PhoPaginatedMultiDecoderDecodedEpochsWindow.init_from_track_templates(curr_active_pipeline, track_templates,\n",
    "\t\t\t\t\t\t\t\t\t\t\t\t\t\t\t\t\t\t\t\t\t\t\t\t# decoder_decoded_epochs_result_dict=decoder_ripple_filter_epochs_decoder_result_dict,\n",
    "\t\t\t\t\t\t\t\t\t\t\t\t\t\t\t\t\t\t\t\t\t\t\t\tdecoder_decoded_epochs_result_dict=filtered_decoder_filter_epochs_decoder_result_dict,\n",
    "\t\t\t\t\t\t\t\t\t\t\t\t\t\t\t\t\t\t\t\t\t\t\t\t# decoder_decoded_epochs_result_dict=high_wcorr_only_filtered_decoder_filter_epochs_decoder_result_dict,\n",
    "\t\t\t\t\t\t\t\t\t\t\t\t\t\t\t\t\t\t\t\t\t\t\t\tepochs_name='ripple',\n",
    "\t\t\t\t\t\t\t\t\t\t\t\t\t\t\t\t\t\t\t\t\t\t\t\tincluded_epoch_indicies=None, debug_print=False,\n",
    "\t\t\t\t\t\t\t\t\t\t\t\t\t\t\t\t\t\t\t\t\t\t\t\tparams_kwargs={'enable_per_epoch_action_buttons': False,\n",
    "\t\t\t\t\t\t\t\t\t\t\t\t\t\t\t\t\t\t\t\t\t\t\t\t\t'skip_plotting_most_likely_positions': True, 'skip_plotting_measured_positions': True, \n",
    "\t\t\t\t\t\t\t\t\t\t\t\t\t\t\t\t\t\t\t\t\t\t\t\t\t'enable_decoded_most_likely_position_curve': False, 'enable_radon_transform_info': False, 'enable_weighted_correlation_info': True,\n",
    "\t\t\t\t\t\t\t\t\t\t\t\t\t\t\t\t\t\t\t\t\t\t\t\t\t# 'enable_radon_transform_info': False, 'enable_weighted_correlation_info': False,\n",
    "\t\t\t\t\t\t\t\t\t\t\t\t\t\t\t\t\t\t\t\t\t\t\t\t\t# 'disable_y_label': True,\n",
    "\t\t\t\t\t\t\t\t\t\t\t\t\t\t\t\t\t\t\t\t\t\t\t\t\t'isPaginatorControlWidgetBackedMode': True,\n",
    "\t\t\t\t\t\t\t\t\t\t\t\t\t\t\t\t\t\t\t\t\t\t\t\t\t'enable_update_window_title_on_page_change': False, 'build_internal_callbacks': True,\n",
    "\t\t\t\t\t\t\t\t\t\t\t\t\t\t\t\t\t\t\t\t\t\t\t\t\t# 'debug_print': True,\n",
    "\t\t\t\t\t\t\t\t\t\t\t\t\t\t\t\t\t\t\t\t\t\t\t\t\t'max_subplots_per_page': 10,\n",
    "\t\t\t\t\t\t\t\t\t\t\t\t\t\t\t\t\t\t\t\t\t\t\t\t\t'scrollable_figure': False,\n",
    "\t\t\t\t\t\t\t\t\t\t\t\t\t\t\t\t\t\t\t\t\t\t\t\t\t# 'scrollable_figure': True,\n",
    "\t\t\t\t\t\t\t\t\t\t\t\t\t\t\t\t\t\t\t\t\t\t\t\t\t# 'posterior_heatmap_imshow_kwargs': dict(vmin=0.0075),\n",
    "\t\t\t\t\t\t\t\t\t\t\t\t\t\t\t\t\t\t\t\t\t\t\t\t\t'use_AnchoredCustomText': False,\n",
    "\t\t\t\t\t\t\t\t\t\t\t\t\t\t\t\t\t\t\t\t\t\t\t\t\t'should_suppress_callback_exceptions': False,\n",
    "\t\t\t\t\t\t\t\t\t\t\t\t\t\t\t\t\t\t\t\t\t\t\t\t\t# 'build_fn': 'insets_view',\n",
    "\t\t\t\t\t\t\t\t\t\t\t\t\t\t\t\t\t\t\t\t\t\t\t\t})\n"
   ]
  },
  {
   "cell_type": "code",
   "execution_count": null,
   "id": "ab7526ee",
   "metadata": {},
   "outputs": [],
   "source": [
    "paginated_multi_decoder_decoded_epochs_window.add_data_overlays(decoder_laps_filter_epochs_decoder_result_dict, filtered_decoder_filter_epochs_decoder_result_dict)\n"
   ]
  },
  {
   "cell_type": "code",
   "execution_count": null,
   "id": "e70be19c",
   "metadata": {},
   "outputs": [],
   "source": [
    "paginated_multi_decoder_decoded_epochs_window.remove_data_overlays()"
   ]
  },
  {
   "cell_type": "code",
   "execution_count": null,
   "id": "b27447e2",
   "metadata": {},
   "outputs": [],
   "source": [
    "_tmp_out_selections = paginated_multi_decoder_decoded_epochs_window.restore_selections_from_user_annotations()"
   ]
  },
  {
   "cell_type": "code",
   "execution_count": null,
   "id": "07a13967",
   "metadata": {},
   "outputs": [],
   "source": [
    "_tmp_out_selections = paginated_multi_decoder_decoded_epochs_window.restore_selections_from_user_annotations(source='diba_evt_file')"
   ]
  },
  {
   "cell_type": "markdown",
   "id": "17a9587b",
   "metadata": {},
   "source": [
    "### Exploring adding buttons to button bar"
   ]
  },
  {
   "cell_type": "code",
   "execution_count": null,
   "id": "4bca770b",
   "metadata": {},
   "outputs": [],
   "source": [
    "from types import MethodType\n",
    "from attrs import asdict, astuple\n",
    "from pyphocorehelpers.gui.Qt.ExceptionPrintingSlot import pyqtExceptionPrintingSlot\n",
    "from pyphoplacecellanalysis.GUI.Qt.Widgets.ThinButtonBar.ThinButtonBarWidget import build_programmatic_buttons, ProgrammaticButtonConfig\n",
    "\n",
    "global_thin_button_bar_widget: ThinButtonBarWidget = paginated_multi_decoder_decoded_epochs_window.global_thin_button_bar_widget\n",
    "\n",
    "## INPUT: global_thin_button_bar_widget\n",
    "button_config_list = [\n",
    "#  dict(icon_path=':/png/gui/icons/document-open.png', name=\"OpenFile\"),\n",
    "#  dict(icon_path=':/png/gui/icons/document-save.png', name=\"SaveFile\"),\n",
    "#  dict(icon_path=':/png/gui/icons/crosshair.png', name=\"Crosshairs\"),\n",
    "#  dict(icon_path=':/png/gui/icons/crop.png', name=\"Crop\"),\n",
    "#  dict(icon_path=':/png/gui/icons/selected.png', name=\"Selections\"),\n",
    "#  dict(icon_path=':/png/gui/icons/view-raw.png', name=\"CopyAsArray\"),\n",
    " dict(icon_path=':/png/gui/icons/view-refresh.png', name=\"Refresh\", callback=(lambda self, *args, **kwargs: paginated_multi_decoder_decoded_epochs_window.refresh_current_page())), ## captures: paginated_multi_decoder_decoded_epochs_window\n",
    " dict(icon_path=':/png/gui/icons/nxdata-create.png', name=\"AddDataOverlays\", callback=(lambda self, *args, **kwargs: paginated_multi_decoder_decoded_epochs_window.add_data_overlays(decoder_laps_filter_epochs_decoder_result_dict, filtered_decoder_filter_epochs_decoder_result_dict))), ## captures: paginated_multi_decoder_decoded_epochs_window, decoder_laps_filter_epochs_decoder_result_dict, filtered_decoder_filter_epochs_decoder_result_dict\n",
    " dict(icon_path=':/png/gui/icons/mask-clear-all.png', name=\"RemoveDataOverlays\", callback=(lambda self, *args, **kwargs: paginated_multi_decoder_decoded_epochs_window.remove_data_overlays())), ## captures: paginated_multi_decoder_decoded_epochs_window\n",
    " dict(icon_path=':/png/gui/icons/document-print.png', name=\"PrintUserAnnotations\", callback=(lambda self, *args, **kwargs: paginated_multi_decoder_decoded_epochs_window.print_user_annotations())), ## captures: paginated_multi_decoder_decoded_epochs_window\n",
    " dict(icon_path=':/png/gui/icons/image-select-erase.png', name=\"LoadUserAnnotations\", callback=(lambda self, *args, **kwargs: paginated_multi_decoder_decoded_epochs_window.restore_selections_from_user_annotations())), ## captures: paginated_multi_decoder_decoded_epochs_window\n",
    "   \n",
    "\n",
    "]\n",
    "button_config_dict = {v['name']:v for v in button_config_list}\n",
    "\n",
    "new_buttons_config_dict, new_buttons_dict = build_programmatic_buttons(global_thin_button_bar_widget, button_config_dict=button_config_dict, clear_all_existing=True)\n",
    "\n",
    "\n",
    "\n",
    "\n",
    "\n",
    "\n",
    "# _tmp_out_selections = paginated_multi_decoder_decoded_epochs_window.restore_selections_from_user_annotations()\n",
    "\n",
    "# global_thin_button_bar_widget.horizontalLayout_ButtonContainer"
   ]
  },
  {
   "cell_type": "code",
   "execution_count": null,
   "id": "85200305",
   "metadata": {},
   "outputs": [],
   "source": [
    "paginated_multi_decoder_decoded_epochs_window.plotData"
   ]
  },
  {
   "cell_type": "code",
   "execution_count": null,
   "id": "70f65ad7",
   "metadata": {},
   "outputs": [],
   "source": [
    "paginated_multi_decoder_decoded_epochs_window.global_thin_button_bar_widget\n",
    "\n",
    "# paginated_multi_decoder_decoded_epochs_window.pagination_controllers"
   ]
  },
  {
   "cell_type": "code",
   "execution_count": null,
   "id": "6cda2838",
   "metadata": {},
   "outputs": [],
   "source": [
    "\n",
    "\n"
   ]
  },
  {
   "cell_type": "code",
   "execution_count": null,
   "id": "9efe42bf",
   "metadata": {},
   "outputs": [],
   "source": [
    "# global_paginator_controller_widget.\n",
    "global_thin_button_bar_widget.horizontalLayout.removeWidget(global_paginator_controller_widget)\n",
    "global_paginator_controller_widget.setParent(None)\n",
    "global_paginator_controller_widget.deleteLater()\n",
    "global_paginator_controller_widget "
   ]
  },
  {
   "cell_type": "code",
   "execution_count": null,
   "id": "94d75397",
   "metadata": {},
   "outputs": [],
   "source": [
    "from pyphoplacecellanalysis.GUI.Qt.Mixins.ComboBoxMixins import build_combo_box\n",
    "\n",
    "new_combo_box = build_combo_box(label='Format', options=['Numpy','Png', 'Svg'])\n",
    "\n",
    "global_thin_button_bar_widget.horizontalLayout.addWidget(new_combo_box) # add the pagination control widget\n",
    "\n",
    "\n"
   ]
  },
  {
   "cell_type": "code",
   "execution_count": null,
   "id": "e2815939",
   "metadata": {},
   "outputs": [],
   "source": [
    "global_thin_button_bar_widget.label_message = \"\\n\\t\".join(np.arange(80).astype(str))\n"
   ]
  },
  {
   "cell_type": "code",
   "execution_count": null,
   "id": "1b66b493",
   "metadata": {},
   "outputs": [],
   "source": [
    "txtLineEdit = global_thin_button_bar_widget.ui.txtLineEdit # PyQt5.QtWidgets.QLineEdit\n",
    "txtLineEdit.toolTip()\n",
    "txtLineEdit.text()"
   ]
  },
  {
   "cell_type": "code",
   "execution_count": null,
   "id": "72a19c8f",
   "metadata": {},
   "outputs": [],
   "source": [
    "from PyQt5.QtCore import Qt\n",
    "\n",
    "line_edit = txtLineEdit\n",
    "full_text: str = \"\\n\".join(np.arange(80).astype(str))\n",
    "txtLineEdit.setToolTip(full_text)\n",
    "\n",
    "fm = line_edit.fontMetrics()\n",
    "available_width = int(round(line_edit.width() * 0.8))  - 2  # Subtracting a small margin\n",
    "elided_text = fm.elidedText(full_text, Qt.ElideRight, available_width)\n",
    "line_edit.setText(elided_text)\n",
    "print(f'fm: {fm}')\n",
    "print(f'available_width: {available_width}')\n",
    "print(f'elided_text: {elided_text}')"
   ]
  },
  {
   "cell_type": "code",
   "execution_count": null,
   "id": "98d170fe",
   "metadata": {},
   "outputs": [],
   "source": [
    "txtLineEdit.size()"
   ]
  },
  {
   "cell_type": "code",
   "execution_count": null,
   "id": "d997feb9",
   "metadata": {},
   "outputs": [],
   "source": [
    "global_thin_button_bar_widget.clear_all_buttons()"
   ]
  },
  {
   "cell_type": "code",
   "execution_count": null,
   "id": "484098e8",
   "metadata": {},
   "outputs": [],
   "source": [
    "new_buttons_dict[ 'RemoveDataOverlays'].click()"
   ]
  },
  {
   "cell_type": "code",
   "execution_count": null,
   "id": "e28a90d5",
   "metadata": {},
   "outputs": [],
   "source": [
    "paginated_multi_decoder_decoded_epochs_window.restore_selections_from_user_annotations()\n"
   ]
  },
  {
   "cell_type": "code",
   "execution_count": null,
   "id": "2615d4d6",
   "metadata": {},
   "outputs": [],
   "source": [
    "a_btn.pressed.disconnect()\n",
    "a_btn.disconnect()"
   ]
  },
  {
   "cell_type": "code",
   "execution_count": null,
   "id": "34ed5481",
   "metadata": {},
   "outputs": [],
   "source": [
    "getattr(global_thin_button_bar_widget, a_fn_name)(global_thin_button_bar_widget)"
   ]
  },
  {
   "cell_type": "code",
   "execution_count": null,
   "id": "e7fb4485",
   "metadata": {},
   "outputs": [],
   "source": [
    "a_dummy_btn_config.on_click_fn()\n",
    "a_dummy_btn_config.fn_name"
   ]
  },
  {
   "cell_type": "code",
   "execution_count": null,
   "id": "25c6d92f",
   "metadata": {},
   "outputs": [],
   "source": [
    "global_thin_button_bar_widget.clear_all_buttons()\n"
   ]
  },
  {
   "cell_type": "code",
   "execution_count": null,
   "id": "4ec8d7ca",
   "metadata": {},
   "outputs": [],
   "source": [
    "self.perform_update_titles_from_context(page_idx=page_idx, included_page_data_indicies=included_page_data_indicies)\n",
    "update_titles(self, window_title: str, suptitle: str = None)\n",
    "\n",
    "\n",
    "def update_titles(self, window_title: str, suptitle: str = None):\n",
    "\t\"\"\" sets the suptitle and window title for the figure \"\"\"\n",
    "\tif suptitle is None:\n",
    "\t\tsuptitle = window_title # same as window title\n",
    "\t# Set the window title:\n",
    "\tself.ui.mw.setWindowTitle(window_title)\n",
    "\tself.ui.mw.fig.suptitle(suptitle, wrap=True) # set the plot suptitle\n",
    "\tself.ui.mw.draw()"
   ]
  },
  {
   "cell_type": "markdown",
   "id": "46868c2c",
   "metadata": {},
   "source": [
    "### Custom click callbacks"
   ]
  },
  {
   "cell_type": "code",
   "execution_count": null,
   "id": "8dad5dfd",
   "metadata": {},
   "outputs": [],
   "source": [
    "from pyphoplacecellanalysis.Pho2D.stacked_epoch_slices import ClickActionCallbacks\n",
    "\n",
    "is_enabled = True\n",
    "for a_name, a_pagination_controller in paginated_multi_decoder_decoded_epochs_window.pagination_controllers.items():\n",
    "\t# a_pagination_controller.params.debug_print = True    \n",
    "\tprint(f\"a_pagination_controller.params['on_middle_click_item_callbacks']: {a_pagination_controller.params['on_middle_click_item_callbacks']}\")\n",
    "\tprint(f\"a_pagination_controller.params['on_secondary_click_item_callbacks']: {a_pagination_controller.params.get('on_secondary_click_item_callbacks', {})}\")\n",
    "\ta_pagination_controller.params.should_suppress_callback_exceptions = False\n",
    "\t\n",
    "\tif not a_pagination_controller.params.has_attr('on_middle_click_item_callbacks'):\n",
    "\t\ta_pagination_controller.params['on_middle_click_item_callbacks'] = {}\n",
    "\t\t\n",
    "\tif not a_pagination_controller.params.has_attr('on_secondary_click_item_callbacks'):\n",
    "\t\ta_pagination_controller.params['on_secondary_click_item_callbacks'] = {}\n",
    "\t\t\n",
    "\n",
    "\tif is_enabled:\n",
    "\t\t# a_pagination_controller.params.on_middle_click_item_callbacks['copy_click_time_to_clipboard_callback'] = ClickActionCallbacks.copy_click_time_to_clipboard_callback\n",
    "\t\ta_pagination_controller.params.on_secondary_click_item_callbacks['copy_click_time_to_clipboard_callback'] = ClickActionCallbacks.copy_click_time_to_clipboard_callback\n",
    "\telse:\n",
    "\t\t# a_pagination_controller.params.on_middle_click_item_callbacks.pop('copy_click_time_to_clipboard_callback', None)\n",
    "\t\ta_pagination_controller.params.on_secondary_click_item_callbacks.pop('copy_click_time_to_clipboard_callback', None)\n",
    "\t\t\n",
    "\ta_pagination_controller.params.on_secondary_click_item_callbacks.pop('copy_epoch_times_to_clipboard_callback', None)\n",
    "\n",
    "\t\t\n",
    "\n",
    "\n",
    "# paginated_multi_decoder_decoded_epochs_window.params.on_middle_click_item_callbacks['copy_axis_image_to_clipboard_callback'] = ClickActionCallbacks.copy_axis_image_to_clipboard_callback"
   ]
  },
  {
   "cell_type": "code",
   "execution_count": null,
   "id": "4769f9fd",
   "metadata": {},
   "outputs": [],
   "source": [
    "## printing the callback values don't seem to work until after `paginated_multi_decoder_decoded_epochs_window.add_data_overlays(...)` is called.\n",
    "# paginated_multi_decoder_decoded_epochs_window.enable_middle_click_selected_epoch_times_to_clipboard(is_enabled=False)\n",
    "paginated_multi_decoder_decoded_epochs_window.enable_middle_click_selected_epoch_times_to_clipboard(is_enabled=True)\n",
    "\n",
    "# clicked_epoch = np.array([132.51138943410479, 132.79100273095537])\n",
    "\n",
    "# clicked_epoch = np.array([149.95935746072792, 150.25439218967222])"
   ]
  },
  {
   "cell_type": "code",
   "execution_count": null,
   "id": "180e3bba",
   "metadata": {},
   "outputs": [],
   "source": [
    "clicked_epoch_start_stop_time = [488.296 488.484]\n",
    "start_t = 488.29642327222973\n",
    "found_IDX = 24\n",
    "\n",
    "# ripple_idx=80, ripple_start_t=488.29642327222973\n"
   ]
  },
  {
   "cell_type": "code",
   "execution_count": null,
   "id": "fa52a4f4",
   "metadata": {},
   "outputs": [],
   "source": [
    "@function_attributes(short_name=None, tags=['callback'], input_requires=[], output_provides=[], uses=[], used_by=[], creation_date='2024-04-29 17:16', related_items=[])\n",
    "def an_alt_clicked_epoch_callback(self, event, clicked_ax, clicked_data_index, clicked_epoch_is_selected, clicked_epoch_start_stop_time):\n",
    "\t\"\"\" called when the user middle-clicks an epoch \n",
    "\t\n",
    "\tcaptures: _out_ripple_rasters\n",
    "\t\"\"\"\n",
    "\tprint(f'an_alt_clicked_epoch_callback(clicked_data_index: {clicked_data_index}, clicked_epoch_is_selected: {clicked_epoch_is_selected}, clicked_epoch_start_stop_time: {clicked_epoch_start_stop_time})')\n",
    "\tif clicked_epoch_start_stop_time is not None:\n",
    "\t\tif len(clicked_epoch_start_stop_time) == 2:\n",
    "\t\t\tstart_t, end_t = clicked_epoch_start_stop_time\n",
    "\t\t\tprint(f'start_t: {start_t}')\n",
    "\t\t\t_out_ripple_rasters.programmatically_update_epoch_IDX_from_epoch_start_time(start_t)"
   ]
  },
  {
   "cell_type": "code",
   "execution_count": null,
   "id": "4c19d578",
   "metadata": {},
   "outputs": [],
   "source": [
    "## Enable programmatically updating the rasters viewer to the clicked epoch index when middle clicking on a posterior.\n",
    "@function_attributes(short_name=None, tags=['callback'], input_requires=[], output_provides=[], uses=[], used_by=[], creation_date='2024-04-29 17:16', related_items=[])\n",
    "def an_alt_clicked_epoch_callback(self, event, clicked_ax, clicked_data_index, clicked_epoch_is_selected, clicked_epoch_start_stop_time):\n",
    "\t\"\"\" called when the user middle-clicks an epoch \n",
    "\t\n",
    "\tcaptures: _out_ripple_rasters\n",
    "\t\"\"\"\n",
    "\tprint(f'an_alt_clicked_epoch_callback(clicked_data_index: {clicked_data_index}, clicked_epoch_is_selected: {clicked_epoch_is_selected}, clicked_epoch_start_stop_time: {clicked_epoch_start_stop_time})')\n",
    "\tif clicked_epoch_start_stop_time is not None:\n",
    "\t\tif len(clicked_epoch_start_stop_time) == 2:\n",
    "\t\t\tstart_t, end_t = clicked_epoch_start_stop_time\n",
    "\t\t\tprint(f'start_t: {start_t}')\n",
    "\t\t\t_out_ripple_rasters.programmatically_update_epoch_IDX_from_epoch_start_time(start_t)\n",
    "\n",
    "\n",
    "for a_name, a_pagination_controller in paginated_multi_decoder_decoded_epochs_window.pagination_controllers.items():\n",
    "\t# a_pagination_controller.params.debug_print = True\n",
    "\tif not a_pagination_controller.params.has_attr('on_middle_click_item_callbacks'):\n",
    "\t\ta_pagination_controller.params['on_middle_click_item_callbacks'] = {}    \n",
    "\ta_pagination_controller.params.on_middle_click_item_callbacks['an_alt_clicked_epoch_callback'] = an_alt_clicked_epoch_callback\n",
    "\n"
   ]
  },
  {
   "cell_type": "code",
   "execution_count": null,
   "id": "8a5fa30c",
   "metadata": {},
   "outputs": [],
   "source": [
    "from pyphoplacecellanalysis.GUI.Qt.Widgets.ThinButtonBar.ThinButtonBarWidget import ThinButtonBarWidget\n",
    "\n",
    "a_name = 'long_RL'\n",
    "a_pagination_controller = paginated_multi_decoder_decoded_epochs_window.pagination_controllers[a_name]\n",
    "a_controlled_widget = a_pagination_controller.ui.mw # MatplotlibTimeSynchronizedWidget\n",
    "\n",
    "thin_button_bar_widget: ThinButtonBarWidget = a_controlled_widget.ui.thin_button_bar_widget\n",
    "# thin_button_bar_widget.label_message = \"<controlled>\"\n",
    "# thin_button_bar_widget.txtLineEdit\n",
    "# thin_button_bar_widget.ui.txtLineEdit.setText('test')\n",
    "# thin_button_bar_widget.ui.txtLineEdit.text\n",
    "\n",
    "# thin_button_bar_widget.parent().update()\n",
    "# a_controlled_widget.update()\n",
    "# print_keys_if_possible('a_pagination_controller.ui', a_pagination_controller.ui, max_depth=2)\n",
    "# thin_button_bar_widget.label_message\n"
   ]
  },
  {
   "cell_type": "code",
   "execution_count": null,
   "id": "019fbe1b",
   "metadata": {},
   "outputs": [],
   "source": [
    "## INPUTS: a_pagination_controller\n",
    "a_decoder_decoded_epochs_result: DecodedFilterEpochsResult = a_pagination_controller.plots_data.filter_epochs_decoder_result\n",
    "\n",
    "active_epoch_data_idx: int = 28\n",
    "print(f'active_epoch_data_idx: {active_epoch_data_idx}')\n",
    "active_captured_single_epoch_result: SingleEpochDecodedResult = a_decoder_decoded_epochs_result.get_result_for_epoch(active_epoch_idx=active_epoch_data_idx)\n",
    "active_captured_single_epoch_result\n",
    "\n",
    "## Outputs: active_captured_single_epoch_result\n",
    "\n",
    "# filter_epochs_decoder_result.filter_epochs\n",
    "# filter_epochs_decoder_result.p_x_given_n_list["
   ]
  },
  {
   "cell_type": "code",
   "execution_count": null,
   "id": "431df389",
   "metadata": {},
   "outputs": [],
   "source": [
    "included_page_data_indicies, (curr_page_active_filter_epochs, curr_page_epoch_labels, curr_page_time_bin_containers, curr_page_posterior_containers) = a_pagination_controller.plots_data.paginator.get_page_data(page_idx=a_pagination_controller.current_page_idx)\n",
    "\n",
    "# for i, curr_ax in enumerate(self.plots.axs):\n",
    "\t\n",
    "curr_page_rel_idx: int = 0\n",
    "curr_slice_idx: int = included_page_data_indicies[curr_page_rel_idx]\n",
    "curr_epoch_slice = curr_page_active_filter_epochs[curr_page_rel_idx]\n",
    "curr_time_bin_container = curr_page_time_bin_containers[curr_page_rel_idx]\n",
    "curr_posterior_container = curr_page_posterior_containers[curr_page_rel_idx]\n",
    "curr_time_bins = curr_time_bin_container.centers\n",
    "curr_posterior = curr_posterior_container.p_x_given_n\n",
    "curr_most_likely_positions = curr_posterior_container.most_likely_positions_1D\n",
    "\n",
    "curr_posterior"
   ]
  },
  {
   "cell_type": "code",
   "execution_count": null,
   "id": "081fcc2c",
   "metadata": {},
   "outputs": [],
   "source": [
    "a_pagination_controller.get_total_pages()\n"
   ]
  },
  {
   "cell_type": "code",
   "execution_count": null,
   "id": "cfbe4653",
   "metadata": {},
   "outputs": [],
   "source": [
    "for i, (a_name, a_pagination_controller) in enumerate(paginated_multi_decoder_decoded_epochs_window.pagination_controllers.items()):\n",
    "\tprint(f'i: {i}, a_name: {a_name}')"
   ]
  },
  {
   "cell_type": "code",
   "execution_count": null,
   "id": "654374c6",
   "metadata": {},
   "outputs": [],
   "source": [
    "paginated_multi_decoder_decoded_epochs_window.any_good_selected_epoch_times"
   ]
  },
  {
   "cell_type": "code",
   "execution_count": null,
   "id": "81780963",
   "metadata": {},
   "outputs": [],
   "source": [
    "paginated_multi_decoder_decoded_epochs_window.show_message(\"test message\", durationMs=8000)"
   ]
  },
  {
   "cell_type": "code",
   "execution_count": null,
   "id": "0ca820df",
   "metadata": {},
   "outputs": [],
   "source": [
    "paginated_multi_decoder_decoded_epochs_window.remove_data_overlays()"
   ]
  },
  {
   "cell_type": "code",
   "execution_count": null,
   "id": "289385ce",
   "metadata": {},
   "outputs": [],
   "source": [
    "filtered_decoder_filter_epochs_decoder_result_dict['long_LR'].filter_epochs\n"
   ]
  },
  {
   "cell_type": "code",
   "execution_count": null,
   "id": "5e6097ba",
   "metadata": {},
   "outputs": [],
   "source": [
    "## Get radon transform data:\n",
    "a_pagination_controller = pagination_controller_dict['long_LR']\n",
    "radon_transform_data = a_pagination_controller.plots_data['radon_transform_data']\n",
    "radon_transform_data"
   ]
  },
  {
   "cell_type": "code",
   "execution_count": null,
   "id": "30830fa4",
   "metadata": {},
   "outputs": [],
   "source": [
    "paginated_multi_decoder_decoded_epochs_window.restore_selections_from_user_annotations()\n"
   ]
  },
  {
   "cell_type": "code",
   "execution_count": null,
   "id": "120293e6",
   "metadata": {},
   "outputs": [],
   "source": [
    "# active_selections_dict = paginated_multi_decoder_decoded_epochs_window.save_selections()\n",
    "# paginated_multi_decoder_decoded_epochs_window.ui.print = print\n",
    "_annotations = paginated_multi_decoder_decoded_epochs_window.print_user_annotations()\n",
    "_annotations\n",
    "\n"
   ]
  },
  {
   "cell_type": "code",
   "execution_count": null,
   "id": "43d82308",
   "metadata": {},
   "outputs": [],
   "source": [
    "pagination_controller_dict['long_LR'].params.xbin"
   ]
  },
  {
   "cell_type": "code",
   "execution_count": null,
   "id": "4f785638",
   "metadata": {},
   "outputs": [],
   "source": [
    "paginated_multi_decoder_decoded_epochs_window.remove_data_overlays()"
   ]
  },
  {
   "cell_type": "code",
   "execution_count": null,
   "id": "0a8ee5dc",
   "metadata": {},
   "outputs": [],
   "source": [
    "paginated_multi_decoder_decoded_epochs_window.add_data_overlays(decoder_laps_filter_epochs_decoder_result_dict, filtered_decoder_filter_epochs_decoder_result_dict)"
   ]
  },
  {
   "cell_type": "code",
   "execution_count": null,
   "id": "a3435812",
   "metadata": {},
   "outputs": [],
   "source": [
    "paginated_multi_decoder_decoded_epochs_window.params.xbin"
   ]
  },
  {
   "cell_type": "code",
   "execution_count": null,
   "id": "6fd64912",
   "metadata": {},
   "outputs": [],
   "source": [
    "# Show crosshair at cursor position\n",
    "plt.connect('motion_notify_event', lambda event: plt.gcf().gca().format_coord(event.xdata, event.ydata))"
   ]
  },
  {
   "cell_type": "code",
   "execution_count": null,
   "id": "8c382b69",
   "metadata": {},
   "outputs": [],
   "source": [
    "paginated_multi_decoder_decoded_epochs_window.add_data_overlays(decoder_laps_filter_epochs_decoder_result_dict, filtered_decoder_filter_epochs_decoder_result_dict)"
   ]
  },
  {
   "cell_type": "code",
   "execution_count": null,
   "id": "4b5e9ba0",
   "metadata": {},
   "outputs": [],
   "source": [
    "\n",
    "print_keys_if_possible('paginated_multi_decoder_decoded_epochs_window', paginated_multi_decoder_decoded_epochs_window.ui, max_depth=2)"
   ]
  },
  {
   "cell_type": "code",
   "execution_count": null,
   "id": "84a14372",
   "metadata": {},
   "outputs": [],
   "source": [
    "from pyphocorehelpers.gui.Qt.widgets.toast_notification_widget import ToastWidget, ToastShowingWidgetMixin\n",
    "# paginated_multi_decoder_decoded_epochs_window.ui._contents.windows\n",
    "\n",
    "for a_name, a_window in paginated_multi_decoder_decoded_epochs_window.ui._contents.windows.items():\n",
    "\tmessage = 'This is a toast message!'\n",
    "\ta_window.toast.show_message(message)\n"
   ]
  },
  {
   "cell_type": "code",
   "execution_count": null,
   "id": "fc83380a",
   "metadata": {},
   "outputs": [],
   "source": [
    "clicked_epoch = np.array([1316.0564141790383, 1316.2703788694926])"
   ]
  },
  {
   "cell_type": "markdown",
   "id": "7bf1ff44",
   "metadata": {},
   "source": [
    "### Attached raster viewer widget"
   ]
  },
  {
   "cell_type": "code",
   "execution_count": null,
   "id": "e4c265cd",
   "metadata": {},
   "outputs": [],
   "source": [
    "from pyphoplacecellanalysis.GUI.PyQtPlot.Widgets.ContainerBased.RankOrderRastersDebugger import RankOrderRastersDebugger\n",
    "from pyphoplacecellanalysis.Pho2D.stacked_epoch_slices import build_attached_raster_viewer_widget\n",
    "\n",
    "_out_ripple_rasters, update_attached_raster_viewer_epoch_callback = build_attached_raster_viewer_widget(paginated_multi_decoder_decoded_epochs_window=paginated_multi_decoder_decoded_epochs_window, track_templates=track_templates, active_spikes_df=active_spikes_df, filtered_ripple_simple_pf_pearson_merged_df=filtered_ripple_simple_pf_pearson_merged_df)\n"
   ]
  },
  {
   "cell_type": "code",
   "execution_count": null,
   "id": "fcf5b2c2",
   "metadata": {},
   "outputs": [],
   "source": [
    "paginated_multi_decoder_decoded_epochs_window.log"
   ]
  },
  {
   "cell_type": "code",
   "execution_count": null,
   "id": "625daf82",
   "metadata": {},
   "outputs": [],
   "source": [
    "win = _out_ripple_rasters.ui.root_dockAreaWindow\n",
    "win.setWindowTitle(f'Debug Directional Template Rasters <Controlled by DecodedEpochSlices window>')\n"
   ]
  },
  {
   "cell_type": "code",
   "execution_count": null,
   "id": "6ae668b2",
   "metadata": {},
   "outputs": [],
   "source": [
    "_out_ripple_rasters.setWindowTitle(f'Debug Directional Template Rasters <Controlled by DecodedEpochSlices window>')"
   ]
  },
  {
   "cell_type": "code",
   "execution_count": null,
   "id": "f2db798a",
   "metadata": {},
   "outputs": [],
   "source": [
    "# Attempting to set identical low and high xlims makes transformation singular; automatically expanding. Is this what is causing the white posteriors?\n"
   ]
  },
  {
   "cell_type": "code",
   "execution_count": null,
   "id": "0f80c795",
   "metadata": {},
   "outputs": [],
   "source": [
    "paginated_multi_decoder_decoded_epochs_window.draw()"
   ]
  },
  {
   "cell_type": "code",
   "execution_count": null,
   "id": "b6ddc065",
   "metadata": {},
   "outputs": [],
   "source": [
    "# paginated_multi_decoder_decoded_epochs_window.pagination_controllers['long_LR'].params.posterior_heatmap_imshow_kwargs = dict(vmin=0.0)\n"
   ]
  },
  {
   "cell_type": "code",
   "execution_count": null,
   "id": "23369f63",
   "metadata": {},
   "outputs": [],
   "source": [
    "\n",
    "# paginated_multi_decoder_decoded_epochs_window.update_params(posterior_heatmap_imshow_kwargs = dict(vmin=0.0))\n",
    "\n",
    "paginated_multi_decoder_decoded_epochs_window.update_params(enable_per_epoch_action_buttons=True)\n",
    "paginated_multi_decoder_decoded_epochs_window.refresh_current_page()\n"
   ]
  },
  {
   "cell_type": "code",
   "execution_count": null,
   "id": "5370bef3",
   "metadata": {},
   "outputs": [],
   "source": [
    "paginated_multi_decoder_decoded_epochs_window.get_children_props('params')\n",
    "# paginated_multi_decoder_decoded_epochs_window.get_children_props('plots')\n",
    "# paginated_multi_decoder_decoded_epochs_window.get_children_props('plots.fig')\n",
    "paginated_multi_decoder_decoded_epochs_window.get_children_props('plots.fig')\n",
    "# paginated_multi_decoder_decoded_epochs_window.get_children_props('params.posterior_heatmap_imshow_kwargs')"
   ]
  },
  {
   "cell_type": "code",
   "execution_count": null,
   "id": "701ca528",
   "metadata": {},
   "outputs": [],
   "source": [
    "# paginated_multi_decoder_decoded_epochs_window# AttributeError: 'PhoPaginatedMultiDecoderDecodedEpochsWindow' object has no attribute 'params'\n",
    "\n",
    "paginated_multi_decoder_decoded_epochs_window.pagination_controllers['long_LR'].params.should_suppress_callback_exceptions = False "
   ]
  },
  {
   "cell_type": "code",
   "execution_count": null,
   "id": "e6a19394",
   "metadata": {},
   "outputs": [],
   "source": [
    "paginated_multi_decoder_decoded_epochs_window.jump_to_page(3)"
   ]
  },
  {
   "cell_type": "code",
   "execution_count": null,
   "id": "fea69a1c",
   "metadata": {},
   "outputs": [],
   "source": [
    "paginated_multi_decoder_decoded_epochs_window.draw()"
   ]
  },
  {
   "cell_type": "code",
   "execution_count": null,
   "id": "8f136d94",
   "metadata": {},
   "outputs": [],
   "source": [
    "paginated_multi_decoder_decoded_epochs_window.debug_print = True"
   ]
  },
  {
   "cell_type": "code",
   "execution_count": null,
   "id": "a2150f30",
   "metadata": {},
   "outputs": [],
   "source": [
    "for k, v in paginated_multi_decoder_decoded_epochs_window.pagination_controllers.items():\n",
    "\t# v.params.enable_radon_transform_info = False\n",
    "\t# v.params.enable_weighted_correlation_info = False\n",
    "\tv._subfn_clear_selectability_rects()\n",
    "\t\n",
    "# paginated_multi_decoder_decoded_epochs_window.draw()"
   ]
  },
  {
   "cell_type": "code",
   "execution_count": null,
   "id": "860d5ece",
   "metadata": {},
   "outputs": [],
   "source": [
    "for a_name, a_ctrlr in paginated_multi_decoder_decoded_epochs_window.pagination_controllers.items():\n",
    "\ta_ctrlr.perform_update_selections(defer_render=False)\n"
   ]
  },
  {
   "cell_type": "code",
   "execution_count": null,
   "id": "15fb8eea",
   "metadata": {},
   "outputs": [],
   "source": [
    "paginated_multi_decoder_decoded_epochs_window.draw()"
   ]
  },
  {
   "cell_type": "code",
   "execution_count": null,
   "id": "009775d7",
   "metadata": {},
   "outputs": [],
   "source": [
    "\n",
    "# with Ctx(format_name='kdiba',animal='gor01',exper_name='two',session_name='2006-6-08_21-16-25',display_fn_name='DecodedEpochSlices',epochs='ripple',user_annotation='selections') as ctx:\n",
    "# \tuser_annotations[ctx + Ctx(decoder='long_LR')] = [[785.7379401021171, 785.9232737672282]]\n",
    "# \tuser_annotations[ctx + Ctx(decoder='long_RL')] = [[427.4610240198672, 427.55720829055645]]\n",
    "# \tuser_annotations[ctx + Ctx(decoder='short_LR')] = [[833.3391086903866, 833.4508065531263]]\n",
    "# \tuser_annotations[ctx + Ctx(decoder='short_RL')] = [[491.7975491596153, 492.17844624456484], [940.0164351915009, 940.2191870877286]]\n",
    "\n",
    "# with Ctx(format_name='kdiba',animal='gor01',exper_name='two',session_name='2006-6-08_21-16-25',display_fn_name='DecodedEpochSlices',epochs='ripple',user_annotation='selections') as ctx:\n",
    "# \tuser_annotations[ctx + Ctx(decoder='long_LR')] = [array([785.738, 785.923])]\n",
    "# \tuser_annotations[ctx + Ctx(decoder='long_RL')] = [array([427.461, 427.557])]\n",
    "# \tuser_annotations[ctx + Ctx(decoder='short_LR')] = [array([833.339, 833.451])]\n",
    "# \tuser_annotations[ctx + Ctx(decoder='short_RL')] = [array([491.798, 492.178]), array([940.016, 940.219])]\n",
    "\n",
    "# with Ctx(format_name='kdiba',animal='gor01',exper_name='two',session_name='2006-6-08_21-16-25',display_fn_name='DecodedEpochSlices',epochs='ripple',user_annotation='selections') as ctx:\n",
    "# \tuser_annotations[ctx + Ctx(decoder='long_LR')] = [[785.7379401021171, 785.9232737672282]]\n",
    "# \tuser_annotations[ctx + Ctx(decoder='long_RL')] = [[427.4610240198672, 427.55720829055645]]\n",
    "# \tuser_annotations[ctx + Ctx(decoder='short_LR')] = [[833.3391086903866, 833.4508065531263]]\n",
    "# \tuser_annotations[ctx + Ctx(decoder='short_RL')] = [[491.7975491596153, 492.17844624456484], [940.0164351915009, 940.2191870877286]]\n",
    "\n",
    "# with Ctx(format_name='kdiba',animal='pin01',exper_name='one',session_name='11-02_19-28-0',display_fn_name='DecodedEpochSlices',epochs='ripple',user_annotation='selections') as ctx:\n",
    "# \tuser_annotations[ctx + Ctx(decoder='long_LR')] = [[208.356, 208.523], [693.842, 693.975], [954.574, 954.679]]\n",
    "# \tuser_annotations[ctx + Ctx(decoder='long_RL')] = [[224.037, 224.312]]\n",
    "# \tuser_annotations[ctx + Ctx(decoder='short_LR')] = [[145.776, 146.022], [198.220, 198.582], [220.041, 220.259], [511.570, 511.874], [865.238, 865.373]]\n",
    "# \tuser_annotations[ctx + Ctx(decoder='short_RL')] = [[191.817, 192.100], [323.147, 323.297]]\n",
    "\n"
   ]
  },
  {
   "cell_type": "code",
   "execution_count": null,
   "id": "a776e895",
   "metadata": {},
   "outputs": [],
   "source": [
    "with VizTracer(output_file=f\"viztracer_{get_now_time_str()}-paginated_multi_decoder_decoded_epochs_window_page.json\", min_duration=200, tracer_entries=3000000, ignore_frozen=True) as tracer:\n",
    "\tpaginated_multi_decoder_decoded_epochs_window.jump_to_page(2)"
   ]
  },
  {
   "cell_type": "code",
   "execution_count": null,
   "id": "0f513296",
   "metadata": {},
   "outputs": [],
   "source": [
    "paginated_multi_decoder_decoded_epochs_window.jump_to_page(1)"
   ]
  },
  {
   "cell_type": "code",
   "execution_count": null,
   "id": "970b6ed4",
   "metadata": {},
   "outputs": [],
   "source": [
    "decoder_ripple_filter_epochs_decoder_result_dict['long_LR'].filter_epochs"
   ]
  },
  {
   "cell_type": "code",
   "execution_count": null,
   "id": "98478063",
   "metadata": {},
   "outputs": [],
   "source": [
    "track_templates.get_decoder_names()"
   ]
  },
  {
   "cell_type": "code",
   "execution_count": null,
   "id": "90ec6078",
   "metadata": {},
   "outputs": [],
   "source": [
    "for k, v in paginated_multi_decoder_decoded_epochs_window.pagination_controllers.items():\n",
    "\t# v.params.enable_radon_transform_info = False\n",
    "\t# v.params.enable_weighted_correlation_info = False\n",
    "\tv.params.enable_radon_transform_info = True\n",
    "\tv.params.enable_weighted_correlation_info = True\n",
    "\tv.params.debug_enabled = True\n",
    "\n",
    "paginated_multi_decoder_decoded_epochs_window.draw()"
   ]
  },
  {
   "cell_type": "code",
   "execution_count": null,
   "id": "6904027b",
   "metadata": {},
   "outputs": [],
   "source": [
    "for k, v in paginated_multi_decoder_decoded_epochs_window.pagination_controllers.items():\n",
    "\tprint(f'decoder[{k}]:')\n",
    "\tv.params.name\n",
    "\t# v.params.on_render_page_callbacks\n",
    "\t# v.params.enable_radon_transform_info\n",
    "\tlen(v.plots_data.radon_transform_data)\n"
   ]
  },
  {
   "cell_type": "code",
   "execution_count": null,
   "id": "6e1ff3b7",
   "metadata": {},
   "outputs": [],
   "source": [
    "paginated_multi_decoder_decoded_epochs_window.debug_print = True"
   ]
  },
  {
   "cell_type": "code",
   "execution_count": null,
   "id": "dd7cc2a9",
   "metadata": {},
   "outputs": [],
   "source": [
    "paginated_multi_decoder_decoded_epochs_window.debug_print = True"
   ]
  },
  {
   "cell_type": "code",
   "execution_count": null,
   "id": "3263a3d8",
   "metadata": {},
   "outputs": [],
   "source": [
    "paginated_multi_decoder_decoded_epochs_window.add_data_overlays(decoder_laps_filter_epochs_decoder_result_dict, decoder_ripple_filter_epochs_decoder_result_dict)\n",
    "paginated_multi_decoder_decoded_epochs_window.draw()"
   ]
  },
  {
   "cell_type": "code",
   "execution_count": null,
   "id": "f6b447b8",
   "metadata": {},
   "outputs": [],
   "source": [
    "paginated_multi_decoder_decoded_epochs_window.refresh_current_page()"
   ]
  },
  {
   "cell_type": "code",
   "execution_count": null,
   "id": "30ec3540",
   "metadata": {},
   "outputs": [],
   "source": [
    "def _sub_subfn_wrapped_in_brackets(s: str, bracket_strings = (\"[\", \"]\")) -> str:\n",
    "\t\treturn bracket_strings[0] + s + bracket_strings[1]\n",
    "\t\n",
    "def _sub_subfn_format_nested_list(arr, precision:int=3, num_sep=\", \", array_sep=', ') -> str:\n",
    "\t\"\"\"\n",
    "\tConverts a nested list of floats into a single string,\n",
    "\twith each float formatted to the specified precision.\n",
    "\t\n",
    "\tarr = np.array([[491.798, 492.178], [940.016, 940.219]])\n",
    "\t_sub_subfn_format_nested_list(arr)\n",
    "\n",
    "\t>> '[[491.798, 492.178], [940.016, 940.219]]'\n",
    "\n",
    "\tarr = np.array([[785.738, 785.923]])\n",
    "\t_sub_subfn_format_nested_list(arr)\n",
    "\t>> '[[785.738, 785.923]]'\n",
    "\t\"\"\"\n",
    "\treturn _sub_subfn_wrapped_in_brackets(array_sep.join([_sub_subfn_wrapped_in_brackets(num_sep.join([f\"{num:.{precision}f}\" for num in row])) for row in arr]))\n",
    "\t\n",
    "# arr = np.array([[491.798, 492.178], [940.016, 940.219]])\n",
    "arr = np.array([[785.738, 785.923]])\n",
    "_sub_subfn_format_nested_list(arr)"
   ]
  },
  {
   "cell_type": "markdown",
   "id": "a6f0ab5d",
   "metadata": {},
   "source": [
    "### 2024-02-29 3pm - Get the active user-annotated epoch times from the `paginated_multi_decoder_decoded_epochs_window` and use these to filter `filtered_ripple_simple_pf_pearson_merged_df`"
   ]
  },
  {
   "cell_type": "code",
   "execution_count": null,
   "id": "8c982e52",
   "metadata": {},
   "outputs": [],
   "source": [
    "\n",
    "# Inputs: paginated_multi_decoder_decoded_epochs_window, filtered_ripple_simple_pf_pearson_merged_df\n",
    "any_good_selected_epoch_times = deepcopy(paginated_multi_decoder_decoded_epochs_window.any_good_selected_epoch_times)\n",
    "any_good_selected_epoch_indicies = deepcopy(paginated_multi_decoder_decoded_epochs_window.find_data_indicies_from_epoch_times(paginated_multi_decoder_decoded_epochs_window.any_good_selected_epoch_times))\n"
   ]
  },
  {
   "cell_type": "markdown",
   "id": "faa1f903",
   "metadata": {},
   "source": [
    "## 🔶 2024-03-01 - Get the active user-annotated epoch times from the `UserAnnotationsManager` and use these to filter `filtered_ripple_simple_pf_pearson_merged_df`"
   ]
  },
  {
   "cell_type": "code",
   "execution_count": null,
   "id": "fbc751d6",
   "metadata": {},
   "outputs": [],
   "source": [
    "from neuropy.utils.misc import numpyify_array\n",
    "from neuropy.utils.result_context import IdentifyingContext\n",
    "from neuropy.core.epoch import EpochsAccessor\n",
    "from neuropy.core.epoch import find_data_indicies_from_epoch_times\n",
    "from pyphoplacecellanalysis.General.Pipeline.Stages.ComputationFunctions.MultiContextComputationFunctions.DirectionalPlacefieldGlobalComputationFunctions import DecoderDecodedEpochsResult\n",
    "## Get from UserAnnotations directly instead of the intermediate viewer\n",
    "\n",
    "## # inputs: any_good_selected_epoch_times, any_good_selected_epoch_times, any_good_selected_epoch_indicies \n",
    "\n",
    "decoder_user_selected_epoch_times_dict, any_good_selected_epoch_times = DecoderDecodedEpochsResult.load_user_selected_epoch_times(curr_active_pipeline, track_templates=track_templates)\n",
    "# any_good_selected_epoch_indicies = filtered_ripple_simple_pf_pearson_merged_df.epochs.matching_epoch_times_slice(any_good_selected_epoch_times)\n",
    "# any_good_selected_epoch_indicies = filtered_ripple_simple_pf_pearson_merged_df.epochs.find_data_indicies_from_epoch_times(any_good_selected_epoch_times)\n",
    "# any_good_selected_epoch_indicies\n",
    "# Add user-selection columns to df\n",
    "a_df = deepcopy(filtered_ripple_simple_pf_pearson_merged_df)\n",
    "# a_df = deepcopy(ripple_weighted_corr_merged_df)\n",
    "a_df['is_user_annotated_epoch'] = False\n",
    "# any_good_selected_epoch_indicies = a_df.epochs.find_data_indicies_from_epoch_times(any_good_selected_epoch_times)\n",
    "any_good_selected_epoch_indicies = find_data_indicies_from_epoch_times(a_df, np.squeeze(any_good_selected_epoch_times[:,0]), t_column_names=['ripple_start_t',])\n",
    "# any_good_selected_epoch_indicies = find_data_indicies_from_epoch_times(a_df, any_good_selected_epoch_times, t_column_names=['ripple_start_t',])\n",
    "any_good_selected_epoch_indicies\n",
    "# a_df['is_user_annotated_epoch'] = np.isin(a_df.index.to_numpy(), any_good_selected_epoch_indicies)\n",
    "a_df['is_user_annotated_epoch'].loc[any_good_selected_epoch_indicies] = True # Here's another .iloc issue! Changing to .loc\n",
    "a_df\n"
   ]
  },
  {
   "cell_type": "code",
   "execution_count": null,
   "id": "d1f3a540",
   "metadata": {},
   "outputs": [],
   "source": [
    "df = DecoderDecodedEpochsResult.filter_epochs_dfs_by_annotation_times(curr_active_pipeline, any_good_selected_epoch_times, ripple_decoding_time_bin_size, filtered_ripple_simple_pf_pearson_merged_df, ripple_weighted_corr_merged_df)\n",
    "df"
   ]
  },
  {
   "cell_type": "markdown",
   "id": "26dee7b3",
   "metadata": {},
   "source": [
    "### 2024-02-29 - 4pm - Filter the events for those meeting wcorr criteria:\n"
   ]
  },
  {
   "cell_type": "code",
   "execution_count": null,
   "id": "5ed7e67e",
   "metadata": {},
   "outputs": [],
   "source": [
    "min_wcorr_threshold: float = 0.33\n",
    "min_wcorr_diff_threshold: float = 0.2\n",
    "\n",
    "is_included_large_wcorr_diff = np.any((df[['wcorr_abs_diff']].abs() > min_wcorr_diff_threshold), axis=1)\n",
    "is_included_high_wcorr = np.any((df[['long_best_wcorr', 'short_best_wcorr']].abs() > min_wcorr_threshold), axis=1)\n",
    "\n",
    "df = df[is_included_high_wcorr]\n",
    "df\n",
    "\n",
    "# delta_aligned_start_t"
   ]
  },
  {
   "cell_type": "code",
   "execution_count": null,
   "id": "64fc554d",
   "metadata": {},
   "outputs": [],
   "source": [
    "# Shifts the absolute times to delta-relative values, as would be needed to draw on a 'delta_aligned_start_t' axis:\n",
    "delta_relative_t_start, delta_relative_t_delta, delta_relative_t_end = np.array([earliest_delta_aligned_t_start, t_delta, latest_delta_aligned_t_end]) - t_delta\n",
    "delta_relative_t_start, delta_relative_t_delta, delta_relative_t_end"
   ]
  },
  {
   "cell_type": "code",
   "execution_count": null,
   "id": "8c9f5cbf",
   "metadata": {},
   "outputs": [],
   "source": [
    "df['_wcorr_y_col'] = df['long_best_wcorr'].abs()\n",
    "df['_wcorr_y_col_y_diff_col'] = df['long_best_wcorr'].abs() - df['short_best_wcorr'].abs()\n",
    "# df.plot.scatter(x='ripple_start_t', y='wcorr_y_col')\n",
    "df.plot.scatter(x='delta_aligned_start_t', y='_wcorr_y_col_y_diff_col')\n",
    "\n"
   ]
  },
  {
   "cell_type": "code",
   "execution_count": null,
   "id": "c5438dce",
   "metadata": {},
   "outputs": [],
   "source": [
    "# df['pearsonr_long_abs'] = df['long_best_pf_peak_x_pearsonr'].abs()\n",
    "# df['pearsonr_short_abs'] = df['short_best_pf_peak_x_pearsonr'].abs()\n",
    "# df['pearsonr_diff'] = df['long_best_pf_peak_x_pearsonr'].abs() - df['short_best_pf_peak_x_pearsonr'].abs()\n",
    "\n",
    "# df.plot.scatter(x='delta_aligned_start_t', y='pearsonr_long_abs')\n",
    "# df.plot.scatter(x='delta_aligned_start_t', y='pearsonr_short_abs')\n",
    "df.plot.scatter(x='delta_aligned_start_t', y='pearsonr_abs_diff')"
   ]
  },
  {
   "cell_type": "code",
   "execution_count": null,
   "id": "1f951c0e",
   "metadata": {},
   "outputs": [],
   "source": [
    "ripple_weighted_corr_merged_df"
   ]
  },
  {
   "cell_type": "code",
   "execution_count": null,
   "id": "271d716b",
   "metadata": {},
   "outputs": [],
   "source": [
    "paginated_multi_decoder_decoded_epochs_window.debug_print = True"
   ]
  },
  {
   "cell_type": "markdown",
   "id": "d02556ea",
   "metadata": {},
   "source": [
    "### Add utility footer"
   ]
  },
  {
   "cell_type": "code",
   "execution_count": null,
   "id": "c3888f6e",
   "metadata": {},
   "outputs": [],
   "source": [
    "from pyphoplacecellanalysis.GUI.PyQtPlot.DockingWidgets.DynamicDockDisplayAreaContent import CustomDockDisplayConfig, get_utility_dock_colors\n",
    "from pyphoplacecellanalysis.GUI.Qt.Widgets.ThinButtonBar.ThinButtonBarWidget import ThinButtonBarWidget\n",
    "\n",
    "\n",
    "def _add_utility_footer(paginated_multi_decoder_decoded_epochs_window):\n",
    "\tui = paginated_multi_decoder_decoded_epochs_window.ui._contents\n",
    "\t# ui.dock_widgets\n",
    "\t# ui.dock_configs\n",
    "\n",
    "\n",
    "\t## Build the utility controls at the bottom:\n",
    "\tctrls_dock_config = CustomDockDisplayConfig(custom_get_colors_callback_fn=get_utility_dock_colors, showCloseButton=True, orientation='horizontal')\n",
    "\n",
    "\tbutton_bar_height = 21\n",
    "\tctrls_button_bar_widget = ThinButtonBarWidget()\n",
    "\tctrls_button_bar_widget.setObjectName(\"ctrls_button_bar\")\n",
    "\t# Set the background color to blue with 40% opacity (RGBA)\n",
    "\tctrls_button_bar_widget.setStyleSheet(\"background-color: rgba(0, 0, 255, 102);\")\n",
    "\n",
    "\tctrl_layout = pg.LayoutWidget()\n",
    "\tctrl_layout.addWidget(ctrls_button_bar_widget, row=1, rowspan=1, col=1, colspan=2)\n",
    "\tctrl_widgets_dict = dict(ctrls_widget=ctrls_button_bar_widget)\n",
    "\t# Set the background color to green with 40% opacity (RGBA)\n",
    "\tctrl_layout.setStyleSheet(\"background-color: rgba(0, 255, 10, 102);\")\n",
    "\n",
    "\t# ctrl_layout.setSizePolicy(\n",
    "\n",
    "\tdef onCopySelectionsClicked():\n",
    "\t\tprint(f'onCopySelectionsClicked()')\n",
    "\t\tsaved_selections_contexts_dict = paginated_multi_decoder_decoded_epochs_window.print_user_annotations()\n",
    "\n",
    "\tctrl_widgets_dict['copy_selection_connection'] = ctrls_button_bar_widget.sigCopySelections.connect(onCopySelectionsClicked)\n",
    "\n",
    "\tui.dock_widgets['bottom_controls'] = paginated_multi_decoder_decoded_epochs_window.add_display_dock(identifier='bottom_controls', widget=ctrl_layout, dockSize=(600, button_bar_height), dockAddLocationOpts=['bottom'], display_config=ctrls_dock_config, autoOrientation=False)\n",
    "\t# ui.dock_widgets['bottom_controls'][1].hideTitleBar()\n",
    "\tui.dock_widgets['bottom_controls']\n",
    "\n",
    "\tbutton_bar_height = 21\n",
    "\n",
    "\ta_layout = ui.dock_widgets['bottom_controls'][0]\n",
    "\ta_layout.size()\n",
    "\ta_layout.setContentsMargins(0,0,0,0)\n",
    "\ta_layout.setFixedHeight(21)\n",
    "\tui.dock_widgets['bottom_controls'][1].size()\n",
    "\tui.dock_widgets['bottom_controls'][1].setContentsMargins(0,0,0,0)\n",
    "\tui.dock_widgets['bottom_controls'][1].setStyleSheet(\"background-color: rgba(255, 10, 10, 102);\") # RED\n",
    "\n",
    "\t# ui.dock_widgets['bottom_controls'][1].hideTitleBar()\n",
    "\t# ui.dock_widgets['bottom_controls'][1].size\n",
    "\n",
    "\treturn ctrl_layout, ctrls_dock_config, ui\n",
    "\n",
    "\n",
    "ctrl_layout, ctrls_dock_config, ui = _add_utility_footer(paginated_multi_decoder_decoded_epochs_window=new_wcorr_shuffle_paginated_multi_decoder_decoded_epochs_window)\n"
   ]
  },
  {
   "cell_type": "code",
   "execution_count": null,
   "id": "cdd6823e",
   "metadata": {},
   "outputs": [],
   "source": [
    "paginated_multi_decoder_decoded_epochs_window=new_wcorr_shuffle_paginated_multi_decoder_decoded_epochs_window\n",
    "ui = paginated_multi_decoder_decoded_epochs_window.ui._contents\n",
    "\n",
    "layout_widget, dock_item = ui.dock_widgets['bottom_controls']\n",
    "layout_widget.size()\n",
    "# Set the background color to light grey\n",
    "layout_widget.setStyleSheet(\"background-color: red;\")\n",
    "\n",
    "# layout_widget.setBackgroundColor('black')\n",
    "layout_widget.setAutoFillBackground(True)"
   ]
  },
  {
   "cell_type": "code",
   "execution_count": null,
   "id": "f3add584",
   "metadata": {},
   "outputs": [],
   "source": [
    " ui.dock_widgets['bottom_controls'][1].size()\n",
    " ui.dock_widgets['bottom_controls'][1].setFixedHeight(21)\n"
   ]
  },
  {
   "cell_type": "code",
   "execution_count": null,
   "id": "54b47e37",
   "metadata": {},
   "outputs": [],
   "source": [
    "ui.dock_widgets['bottom_controls'][1].children()\n",
    "# [<pyphoplacecellanalysis.External.pyqtgraph.dockarea.DockDrop.DropAreaOverlay object at 0x00000175C7D24820>,\n",
    "#  <PyQt5.QtWidgets.QGridLayout object at 0x00000175C7D248B0>,\n",
    "#  <pyphoplacecellanalysis.External.pyqtgraph.dockarea.Dock.DockLabel object at 0x00000175C7D24E50>,\n",
    "#  <PyQt5.QtWidgets.QWidget object at 0x00000175C7D245E0>,\n",
    "#  <pyphoplacecellanalysis.External.pyqtgraph.dockarea.DockDrop.DropAreaOverlay object at 0x00000175C7D24B80>]\n",
    "\n",
    "ui.dock_widgets['bottom_controls'][1].layout\n"
   ]
  },
  {
   "cell_type": "code",
   "execution_count": null,
   "id": "832a5afa",
   "metadata": {},
   "outputs": [],
   "source": [
    "dock_item.showTitleBar()"
   ]
  },
  {
   "cell_type": "code",
   "execution_count": null,
   "id": "e14d22cf",
   "metadata": {},
   "outputs": [],
   "source": [
    "dock_item.setOrientation('horizontal')"
   ]
  },
  {
   "cell_type": "code",
   "execution_count": null,
   "id": "b17726a0",
   "metadata": {},
   "outputs": [],
   "source": [
    "dock_item.setContentsMargins(0,0,0,0)"
   ]
  },
  {
   "cell_type": "code",
   "execution_count": null,
   "id": "4d91d13a",
   "metadata": {},
   "outputs": [],
   "source": [
    "layout_widget.setContentsMargins(0,0,0,0)"
   ]
  },
  {
   "cell_type": "code",
   "execution_count": null,
   "id": "9cf3d78a",
   "metadata": {},
   "outputs": [],
   "source": [
    "ui.dock_widgets['bottom_controls'][0].resize(600, 21)\n"
   ]
  },
  {
   "cell_type": "code",
   "execution_count": null,
   "id": "d39be52f",
   "metadata": {},
   "outputs": [],
   "source": [
    "paginated_multi_decoder_decoded_epochs_window.find_display_dock('bottom_controls')"
   ]
  },
  {
   "cell_type": "code",
   "execution_count": null,
   "id": "1f1f454f",
   "metadata": {},
   "outputs": [],
   "source": [
    "paginated_multi_decoder_decoded_epochs_window.remove_display_dock('bottom_controls')"
   ]
  },
  {
   "cell_type": "code",
   "execution_count": null,
   "id": "c426375f",
   "metadata": {},
   "outputs": [],
   "source": [
    "from neuropy.core.user_annotations import UserAnnotationsManager\n",
    "\n",
    "## Set epoch annotations from selections epochs \n",
    "annotations_man = UserAnnotationsManager()\n",
    "user_annotations = annotations_man.get_user_annotations()\n",
    "new_selections_dict = paginated_multi_decoder_decoded_epochs_window.restore_selections_from_user_annotations(user_annotations)\n"
   ]
  },
  {
   "cell_type": "code",
   "execution_count": null,
   "id": "cf471332",
   "metadata": {},
   "outputs": [],
   "source": [
    "loaded_selections_objs_dict = {a_name:EpochSelectionsObject(epoch_times=a_selections_values) for a_name, a_selections_values in loaded_selections_dict.items()}\n",
    "loaded_selections_objs_dict\n",
    "\n",
    "## Select just the selected epoch times\n"
   ]
  },
  {
   "cell_type": "code",
   "execution_count": null,
   "id": "b8e0b733",
   "metadata": {},
   "outputs": [],
   "source": [
    "saved_selections_context_dict = {a_name:v.figure_ctx.adding_context_if_missing(user_annotation='selections') for a_name, v in saved_selections_dict.items()}"
   ]
  },
  {
   "cell_type": "code",
   "execution_count": null,
   "id": "ff74f8ee",
   "metadata": {},
   "outputs": [],
   "source": [
    "user_annotations"
   ]
  },
  {
   "cell_type": "code",
   "execution_count": null,
   "id": "60d312d9",
   "metadata": {},
   "outputs": [],
   "source": [
    "paginated_multi_decoder_decoded_epochs_window.print_user_annotations()"
   ]
  },
  {
   "cell_type": "code",
   "execution_count": null,
   "id": "244ee6f5",
   "metadata": {},
   "outputs": [],
   "source": [
    "## Remove the excessively long plot titles?\n",
    "# root_dockAreaWindow.update\n",
    "pagination_controller_dict = paginated_multi_decoder_decoded_epochs_window.pagination_controllers\n",
    "all_widgets = {a_decoder_name:a_pagination_controller.ui.mw for a_decoder_name, a_pagination_controller in pagination_controller_dict.items()}\n",
    "all_windows = {a_decoder_name:a_pagination_controller.ui.mw.window() for a_decoder_name, a_pagination_controller in pagination_controller_dict.items()}\n",
    "all_separate_plots = {a_decoder_name:a_pagination_controller.plots for a_decoder_name, a_pagination_controller in pagination_controller_dict.items()}\n",
    "all_separate_plots_data = {a_decoder_name:a_pagination_controller.plots_data for a_decoder_name, a_pagination_controller in pagination_controller_dict.items()}\n",
    "all_separate_params = {a_decoder_name:a_pagination_controller.params for a_decoder_name, a_pagination_controller in pagination_controller_dict.items()}\n",
    "all_separate_current_page_idx = {a_decoder_name:a_pagination_controller.current_page_idx for a_decoder_name, a_pagination_controller in pagination_controller_dict.items()}\n",
    "all_separate_current_page_idx"
   ]
  },
  {
   "cell_type": "code",
   "execution_count": null,
   "id": "61cfebd7",
   "metadata": {},
   "outputs": [],
   "source": [
    "# all_separate_plots\n",
    "\n",
    "all_separate_weighted_corr_plots = {a_decoder_name:a_pagination_controller.plots.get('weighted_corr', {}) for a_decoder_name, a_pagination_controller in pagination_controller_dict.items()}\n",
    "all_separate_weighted_corr_plots"
   ]
  },
  {
   "cell_type": "code",
   "execution_count": null,
   "id": "dc1d02b9",
   "metadata": {},
   "outputs": [],
   "source": [
    "self.ui.print = self.private_print # builtins.print # the print function to use"
   ]
  },
  {
   "cell_type": "code",
   "execution_count": null,
   "id": "69313c31",
   "metadata": {},
   "outputs": [],
   "source": [
    "from neuropy.core.epoch import EpochsAccessor\n",
    "\n",
    "# MLM\n",
    "# {a_name:a_ctrlr.params.is_selected for a_name, a_ctrlr in root_dockAreaWindow.pagination_controllers.items()}\n",
    "# {a_name:a_ctrlr.selected_epoch_times for a_name, a_ctrlr in root_dockAreaWindow.pagination_controllers.items()}\n",
    "\n",
    "any_good_selected_epoch_times: NDArray = paginated_multi_decoder_decoded_epochs_window.any_good_selected_epoch_times # drops duplicate rows (present in multiple decoders), and sorts them ascending\n",
    "# any_good_selected_epoch_times\n",
    "# Only at the decoder-level\n",
    "any_good_epoch_idxs_list = [a_ctrlr.find_data_indicies_from_epoch_times(any_good_selected_epoch_times) for a_name, a_ctrlr in paginated_multi_decoder_decoded_epochs_window.pagination_controllers.items()]\n",
    "any_good_epoch_idxs: NDArray = any_good_epoch_idxs_list[0]\n",
    "any_good_epoch_idxs"
   ]
  },
  {
   "cell_type": "code",
   "execution_count": null,
   "id": "29282203",
   "metadata": {},
   "outputs": [],
   "source": [
    "filtered_ripple_simple_pf_pearson_merged_df"
   ]
  },
  {
   "cell_type": "code",
   "execution_count": null,
   "id": "531db971",
   "metadata": {},
   "outputs": [],
   "source": [
    "\n",
    "# filtered_ripple_simple_pf_pearson_merged_df.epochs.find_data_indicies_from_epoch_times(any_good_selected_epoch_times)\n",
    "# filtered_ripple_simple_pf_pearson_merged_df.epochs.matching_epoch_times_slice(any_good_selected_epoch_times)\n",
    "\n",
    "found_data_indicies = filtered_ripple_simple_pf_pearson_merged_df.epochs.find_data_indicies_from_epoch_times(epoch_times=any_good_selected_epoch_times)\n",
    "df = filtered_ripple_simple_pf_pearson_merged_df.epochs._obj.iloc[found_data_indicies].copy().reset_index(drop=True)\n",
    "df"
   ]
  },
  {
   "cell_type": "code",
   "execution_count": null,
   "id": "1a78ed2c",
   "metadata": {},
   "outputs": [],
   "source": [
    "filtered_ripple_simple_pf_pearson_merged_df\n"
   ]
  },
  {
   "cell_type": "code",
   "execution_count": null,
   "id": "e1677479",
   "metadata": {},
   "outputs": [],
   "source": [
    "hand_selected_ripple_simple_pf_pearson_merged_df = filtered_ripple_simple_pf_pearson_merged_df.iloc[any_good_epoch_idxs, :].reset_index(drop=True)\n",
    "hand_selected_ripple_simple_pf_pearson_merged_df"
   ]
  },
  {
   "cell_type": "code",
   "execution_count": null,
   "id": "a1d400bd",
   "metadata": {},
   "outputs": [],
   "source": [
    "# hand_selected_ripple_simple_pf_pearson_merged_df['best_decoder_index']\n",
    "\n",
    "is_most_likely_long = (hand_selected_ripple_simple_pf_pearson_merged_df['P_Long'] >= 0.5)\n",
    "# is_most_likely_long\n",
    "\n",
    "long_likely_hand_selected_ripple_simple_pf_pearson_merged_df = hand_selected_ripple_simple_pf_pearson_merged_df[is_most_likely_long]\n",
    "long_likely_hand_selected_ripple_simple_pf_pearson_merged_df\n"
   ]
  },
  {
   "cell_type": "markdown",
   "id": "89d33190",
   "metadata": {},
   "source": [
    "## 🖼️🎨 Plot laps to compare between decoders:"
   ]
  },
  {
   "cell_type": "code",
   "execution_count": null,
   "id": "b4873ebb",
   "metadata": {},
   "outputs": [],
   "source": [
    "from neuropy.core.epoch import Epoch, ensure_dataframe\n",
    "from pyphoplacecellanalysis.General.Pipeline.Stages.ComputationFunctions.MultiContextComputationFunctions.DirectionalPlacefieldGlobalComputationFunctions import add_laps_groundtruth_information_to_dataframe\n",
    "\n",
    "# decoder_laps_filter_epochs_decoder_result_dict['long_LR'].filter_epochs # looks like 'lap_dir' column is wrong\n",
    "updated_laps_dfs_dict = {}\n",
    "\n",
    "## Update the .filter_epochs:\n",
    "for k, v in decoder_laps_filter_epochs_decoder_result_dict.items():\n",
    "\tupdated_laps_dfs_dict[k] = Epoch(add_laps_groundtruth_information_to_dataframe(curr_active_pipeline=curr_active_pipeline, result_laps_epochs_df=ensure_dataframe(v.filter_epochs)))\n",
    "\tdecoder_laps_filter_epochs_decoder_result_dict[k].filter_epochs =  updated_laps_dfs_dict[k]\n",
    "\n",
    "# updated_laps_dfs_dict['long_LR']\n",
    "decoder_laps_filter_epochs_decoder_result_dict['long_LR'].filter_epochs\n"
   ]
  },
  {
   "cell_type": "code",
   "execution_count": null,
   "id": "3cab7bcc",
   "metadata": {},
   "outputs": [],
   "source": [
    "laps_app, laps_paginated_multi_decoder_decoded_epochs_window, laps_pagination_controller_dict = PhoPaginatedMultiDecoderDecodedEpochsWindow.init_from_track_templates(curr_active_pipeline, track_templates,\n",
    "\t\t\t\t\t\t\tdecoder_decoded_epochs_result_dict=decoder_laps_filter_epochs_decoder_result_dict, epochs_name='laps', included_epoch_indicies=None, \n",
    "\tparams_kwargs={'enable_per_epoch_action_buttons': False,\n",
    "\t'skip_plotting_most_likely_positions': True, 'skip_plotting_measured_positions': False, \n",
    "\t# 'enable_decoded_most_likely_position_curve': False, 'enable_radon_transform_info': True, 'enable_weighted_correlation_info': False,\n",
    "\t'enable_decoded_most_likely_position_curve': False, 'enable_radon_transform_info': True, 'enable_weighted_correlation_info': True,\n",
    "\t# 'disable_y_label': True,\n",
    "\t# 'isPaginatorControlWidgetBackedMode': True,\n",
    "\t# 'enable_update_window_title_on_page_change': False, 'build_internal_callbacks': True,\n",
    "\t# 'debug_print': True,\n",
    "\t'max_subplots_per_page': 10,\n",
    "\t'scrollable_figure': True,\n",
    "\t# 'posterior_heatmap_imshow_kwargs': dict(vmin=0.0075),\n",
    "\t'use_AnchoredCustomText': False,\n",
    "\t})\n"
   ]
  },
  {
   "cell_type": "code",
   "execution_count": null,
   "id": "9ec05d21",
   "metadata": {},
   "outputs": [],
   "source": [
    "from neuropy.core.epoch import Epoch, ensure_dataframe\n",
    "\n",
    "## INPUTS: decoder_laps_filter_epochs_decoder_result_dict\n",
    "\n",
    "## Highlight the correct ones:\n",
    "# {k:Epoch(add_laps_groundtruth_information_to_dataframe(curr_active_pipeline=curr_active_pipeline, result_laps_epochs_df=ensure_dataframe(v.filter_epochs))) for k, v in decoder_laps_filter_epochs_decoder_result_dict.items()}\n",
    "\n",
    "## Select the true laps by emulating user_annotations:\n",
    "filter_epochs = ensure_dataframe(deepcopy(decoder_laps_filter_epochs_decoder_result_dict['long_LR'].filter_epochs)) \n",
    "# filter_epochs\n",
    "\n",
    "decoder_name_idx_map = {'long_LR': 0, 'long_RL': 1, 'short_LR': 2, 'short_RL': 3} \n",
    "selections_dict = {}\n",
    "figure_ctx_dict = laps_paginated_multi_decoder_decoded_epochs_window.figure_ctx_dict\n",
    "loaded_selections_context_dict = {a_name:a_figure_ctx.adding_context_if_missing(user_annotation='selections') for a_name, a_figure_ctx in figure_ctx_dict.items()}\n",
    "\n",
    "for a_name, an_idx in decoder_name_idx_map.items():\n",
    "\ta_selections_context = loaded_selections_context_dict[a_name]\n",
    "\tselections_dict[a_selections_context] = filter_epochs[filter_epochs['true_decoder_index'] == an_idx][['start', 'stop']].to_numpy()\n",
    "\n",
    "\n",
    "## Clearing the existing selection rects and them having them rebuilt when the selection is updated fixes them being shifted.\n",
    "for k, v in laps_pagination_controller_dict.items():\n",
    "\tv._subfn_clear_selectability_rects()\n",
    "\n",
    "# _tmp_out_selections = laps_paginated_multi_decoder_decoded_epochs_window.restore_selections_from_user_annotations(user_annotations=selections_dict)"
   ]
  },
  {
   "cell_type": "code",
   "execution_count": null,
   "id": "5a6607cc",
   "metadata": {},
   "outputs": [],
   "source": [
    "laps_paginated_multi_decoder_decoded_epochs_window.add_data_overlays(decoder_laps_filter_epochs_decoder_result_dict, decoder_ripple_filter_epochs_decoder_result_dict)\n"
   ]
  },
  {
   "cell_type": "code",
   "execution_count": null,
   "id": "e364cc14",
   "metadata": {},
   "outputs": [],
   "source": [
    "laps_paginated_multi_decoder_decoded_epochs_window.remove_data_overlays(defer_refresh=False)"
   ]
  },
  {
   "cell_type": "code",
   "execution_count": null,
   "id": "225e23e2",
   "metadata": {},
   "outputs": [],
   "source": [
    "laps_paginated_multi_decoder_decoded_epochs_window.remov"
   ]
  },
  {
   "cell_type": "code",
   "execution_count": null,
   "id": "46e4fe0c",
   "metadata": {},
   "outputs": [],
   "source": [
    "## Clearing the existing selection rects and them having them rebuilt when the selection is updated fixes them being shifted.\n",
    "for k, v in laps_pagination_controller_dict.items():\n",
    "\tv._subfn_clear_selectability_rects()\n",
    "\n"
   ]
  },
  {
   "cell_type": "code",
   "execution_count": null,
   "id": "5675f133",
   "metadata": {},
   "outputs": [],
   "source": [
    "laps_paginated_multi_decoder_decoded_epochs_window.draw()"
   ]
  },
  {
   "cell_type": "code",
   "execution_count": null,
   "id": "b603bc41",
   "metadata": {},
   "outputs": [],
   "source": [
    "filtered_ripple_simple_pf_pearson_merged_df"
   ]
  },
  {
   "cell_type": "code",
   "execution_count": null,
   "id": "20f847f0",
   "metadata": {},
   "outputs": [],
   "source": [
    "decoder_laps_filter_epochs_decoder_result_dict"
   ]
  },
  {
   "cell_type": "code",
   "execution_count": null,
   "id": "f1556870",
   "metadata": {},
   "outputs": [],
   "source": [
    "# list(decoder_laps_filter_epochs_decoder_result_dict.keys())\n",
    "decoder_laps_filter_epochs_decoder_result_dict['long_LR'].filter_epochs"
   ]
  },
  {
   "cell_type": "code",
   "execution_count": null,
   "id": "dbba2a38",
   "metadata": {},
   "outputs": [],
   "source": [
    "## Get the figure from the axes:\n",
    "a_fig = ax.get_figure()\n",
    "a_fig.canvas.draw()"
   ]
  },
  {
   "cell_type": "code",
   "execution_count": null,
   "id": "3e1b177a",
   "metadata": {},
   "outputs": [],
   "source": [
    "a_controlling_pagination_controller = laps_paginated_multi_decoder_decoded_epochs_window.contents.pagination_controllers['long_LR'] # DecodedEpochSlicesPaginatedFigureController\n",
    "a_pagination_controller_figure_widget = paginator_controller_widget = a_controlling_pagination_controller.ui.mw # MatplotlibTimeSynchronizedWidget\n",
    "paginator_controller_widget = a_controlling_pagination_controller.ui.mw.ui.paginator_controller_widget # PaginationControlWidget\n",
    "# paginator_controller_widget\n",
    "a_pagination_controller_figure_widget.draw()"
   ]
  },
  {
   "cell_type": "code",
   "execution_count": null,
   "id": "c92048bc",
   "metadata": {},
   "outputs": [],
   "source": [
    "axs = a_controlling_pagination_controller.plots.axs"
   ]
  },
  {
   "cell_type": "code",
   "execution_count": null,
   "id": "a0ab273d",
   "metadata": {},
   "outputs": [],
   "source": [
    "ax.get_figure().canvas.draw()\n"
   ]
  },
  {
   "cell_type": "code",
   "execution_count": null,
   "id": "47481538",
   "metadata": {},
   "outputs": [],
   "source": [
    "selection_rectangles_dict = a_controlling_pagination_controller.plots.get('selection_rectangles_dict', None)\n",
    "selection_rectangles_dict\n"
   ]
  },
  {
   "cell_type": "code",
   "execution_count": null,
   "id": "bfa452e4",
   "metadata": {},
   "outputs": [],
   "source": [
    "# a_controlling_pagination_controller.plots.fig.canvas.draw_idle()\n",
    "# a_controlling_pagination_controller.plots.fig.canvas.draw()\n",
    "# paginator_controller_widget.update()\n",
    "a_pagination_controller_figure_widget.draw()"
   ]
  },
  {
   "cell_type": "code",
   "execution_count": null,
   "id": "72db1753",
   "metadata": {},
   "outputs": [],
   "source": [
    "paginator_controller_widget.go_to_page(3)\n",
    "# paginator_controller_widget.jump_to_page(3)"
   ]
  },
  {
   "cell_type": "code",
   "execution_count": null,
   "id": "635fbe9f",
   "metadata": {},
   "outputs": [],
   "source": [
    "a_controlling_pagination_controller.ui.mw.ui.paginator_controller_widget.jump_to_page\n",
    "\n",
    "new_obj.plots_data.paginator\n",
    "new_obj.params.active_identifying_figure_ctx\n",
    "new_obj.on_paginator_control_widget_jump_to_page(page_idx=0)\n",
    "new_obj.ui.connections['paginator_controller_widget_jump_to_page']\n"
   ]
  },
  {
   "cell_type": "code",
   "execution_count": null,
   "id": "64c54dc7",
   "metadata": {},
   "outputs": [],
   "source": [
    "for i, extant_plots in a_plots['weighted_corr'].items():\n",
    "\textant_wcorr_text = extant_plots.get('wcorr_text', None)\n",
    "\t# extant_wcorr_text = extant_plots.pop('wcorr_text', None)\n",
    "\tprint(f'extant_wcorr_text: {extant_wcorr_text}')\n",
    "\t# plot the radon transform line on the epoch:\n",
    "\tif (extant_wcorr_text is not None):\n",
    "\t\t# already exists, clear the existing ones. \n",
    "\t\t# Let's assume we want to remove the 'Quadratic' line (line2)\n",
    "\t\tprint(f'removing extant text object at index: {i}.')\n",
    "\t\t# extant_wcorr_text.remove()\n",
    "\t\textant_wcorr_text.remove()"
   ]
  },
  {
   "cell_type": "code",
   "execution_count": null,
   "id": "30b7e27b",
   "metadata": {},
   "outputs": [],
   "source": [
    "for a_name, a_pagination_controller in pagination_controller_dict.items():\n",
    "\tdisplay_context = a_pagination_controller.params.get('active_identifying_figure_ctx', IdentifyingContext())\n",
    "\n",
    "\t# Get context for current page of items:\n",
    "\tcurrent_page_idx: int = int(a_pagination_controller.current_page_idx)\n",
    "\ta_paginator = a_pagination_controller.paginator\n",
    "\ttotal_num_pages = int(a_paginator.num_pages)\n",
    "\tpage_context = display_context.overwriting_context(page=current_page_idx, num_pages=total_num_pages)\n",
    "\tprint(page_context)\n",
    "\n",
    "\t## Get the figure/axes:\n",
    "\ta_plots = a_pagination_controller.plots # RenderPlots\n",
    "\ta_plot_data = a_pagination_controller.plots_data\n",
    "\n",
    "\ta_params = a_pagination_controller.params\n",
    "\ta_params.skip_plotting_measured_positions\n",
    "\n",
    "\tfigs = a_plots.fig\n",
    "\taxs = a_plots.axs\n",
    "\n",
    "\t# # with mpl.rc_context({'figure.figsize': (8.4, 4.8), 'figure.dpi': '220', 'savefig.transparent': True, 'ps.fonttype': 42, }):\n",
    "\t# with mpl.rc_context({'figure.figsize': (16.8, 4.8), 'figure.dpi': '420', 'savefig.transparent': True, 'ps.fonttype': 42, }):\n",
    "\t#     curr_active_pipeline.output_figure(final_context=page_context, fig=figs, write_vector_format=True)"
   ]
  },
  {
   "cell_type": "markdown",
   "id": "14d32342",
   "metadata": {},
   "source": [
    "## 💾 Export Paginated Content"
   ]
  },
  {
   "cell_type": "code",
   "execution_count": null,
   "id": "afec0488",
   "metadata": {},
   "outputs": [],
   "source": [
    "laps_paginated_multi_decoder_decoded_epochs_window.export_all_pages(curr_active_pipeline)\n",
    "# paginated_multi_decoder_decoded_epochs_window.export_all_pages(curr_active_pipeline)"
   ]
  },
  {
   "cell_type": "code",
   "execution_count": null,
   "id": "8be8a471",
   "metadata": {},
   "outputs": [],
   "source": [
    "paginated_multi_decoder_decoded_epochs_window.export_decoder_pagination_controller_figure_page(curr_active_pipeline)"
   ]
  },
  {
   "cell_type": "markdown",
   "id": "31cd2637",
   "metadata": {},
   "source": [
    "## 🔷🎨 Single Decoder Version (`DecodedEpochSlicesPaginatedFigureController`)"
   ]
  },
  {
   "cell_type": "code",
   "execution_count": 48,
   "id": "6d880d1c",
   "metadata": {},
   "outputs": [],
   "source": [
    "from pyphoplacecellanalysis.General.Pipeline.Stages.DisplayFunctions.DecoderPredictionError import plot_1D_most_likely_position_comparsions\n",
    "from pyphoplacecellanalysis.General.Pipeline.Stages.DisplayFunctions.DecoderPredictionError import _subfn_update_decoded_epoch_slices\n",
    "from pyphoplacecellanalysis.Pho2D.stacked_epoch_slices import DecodedEpochSlicesPaginatedFigureController # `plot_decoded_epoch_slices_paginated`\n",
    "from pyphoplacecellanalysis.General.Pipeline.Stages.DisplayFunctions.DecoderPredictionError import WeightedCorrelationPaginatedPlotDataProvider\n",
    "from pyphoplacecellanalysis.General.Pipeline.Stages.DisplayFunctions.DecoderPredictionError import DecodedPositionsPlotDataProvider, DecodedAndActualPositionsPlotData\n",
    "from pyphoplacecellanalysis.General.Pipeline.Stages.DisplayFunctions.DecoderPredictionError import perform_plot_1D_single_most_likely_position_curve\n",
    "\n",
    "# Inputs: epochs_name, decoder_ripple_filter_epochs_decoder_result_dict, curr_active_pipeline\n",
    "epochs_name = 'ripple'\n",
    "\n",
    "(a_name, a_decoder) = tuple(track_templates.get_decoders_dict().items())[0]\n",
    "\n",
    "# a_decoder_decoded_epochs_result = decoder_ripple_filter_epochs_decoder_result_dict[a_name]\n",
    "\n",
    "# a_decoder_decoded_epochs_result = decoder_ripple_filter_epochs_decoder_result_dict[a_name]\n",
    "a_decoder_decoded_epochs_result = deepcopy(filtered_decoder_filter_epochs_decoder_result_dict[a_name]) ## FILTERED\n",
    "\n",
    "_out_pagination_controller = DecodedEpochSlicesPaginatedFigureController.init_from_decoder_data(active_filter_epochs=a_decoder_decoded_epochs_result.filter_epochs,\n",
    "\t\t\t\t\t\t\t\t\t\t\t\t\t\t\t\t\t\t\t\t\tfilter_epochs_decoder_result= a_decoder_decoded_epochs_result,\n",
    "\t\t\t\t\t\t\t\t\t\t\t\t\t\t\t\t\t\t\t\t\txbin=a_decoder.xbin, global_pos_df=curr_active_pipeline.sess.position.df,\n",
    "\t\t\t\t\t\t\t\t\t\t\t\t\t\t\t\t\t\t\t\t\ta_name=f'DecodedEpochSlices[{a_name}]', active_context=curr_active_pipeline.build_display_context_for_session(display_fn_name='DecodedEpochSlices', epochs=epochs_name, decoder=a_name),\n",
    "\t\t\t\t\t\t\t\t\t\t\t\t\t\t\t\t\t\t\t\t\tmax_subplots_per_page=32,\n",
    "\t\t\t\t\t\t\t\t\t\t\t\t\t\t\t\t\t\t\t\t\tparams_kwargs={'skip_plotting_most_likely_positions': True, 'skip_plotting_measured_positions': True, 'enable_per_epoch_action_buttons': False,\n",
    "\t\t\t\t\t\t\t\t\t\t\t\t\t\t\t\t\t\t\t\t\t\t\t\t\t'enable_decoded_most_likely_position_curve': True, #'enable_radon_transform_info': True, 'enable_weighted_correlation_info': True,\n",
    "\t\t\t\t\t\t\t\t\t\t\t\t\t\t\t\t\t\t\t\t\t\t\t\t\t'enable_radon_transform_info': True, 'enable_weighted_correlation_info': True,\n",
    "\t\t\t\t\t\t\t\t\t\t\t\t\t\t\t\t\t\t\t\t\t\t\t\t\t# 'disable_y_label': True,\n",
    "\t\t\t\t\t\t\t\t\t\t\t\t\t\t\t\t\t\t\t\t\t\t\t\t\t'isPaginatorControlWidgetBackedMode': True,\n",
    "\t\t\t\t\t\t\t\t\t\t\t\t\t\t\t\t\t\t\t\t\t\t\t\t\t'enable_update_window_title_on_page_change': False, 'build_internal_callbacks': True,\n",
    "\t\t\t\t\t\t\t\t\t\t\t\t\t\t\t\t\t\t\t\t\t\t\t\t\t# 'debug_print': True,\n",
    "\t\t\t\t\t\t\t\t\t\t\t\t\t\t\t\t\t\t\t\t\t\t\t\t\t'max_subplots_per_page': 32,\n",
    "\t\t\t\t\t\t\t\t\t\t\t\t\t\t\t\t\t\t\t\t\t\t\t\t\t'scrollable_figure': True,\n",
    "\t\t\t\t\t\t\t\t\t\t\t\t\t\t\t\t\t\t\t\t\t\t\t\t\t# 'posterior_heatmap_imshow_kwargs': dict(vmin=0.0075),\n",
    "\t\t\t\t\t\t\t\t\t\t\t\t\t\t\t\t\t\t\t\t\t\t\t\t\t'use_AnchoredCustomText': True,\n",
    "\t\t\t\t\t\t\t\t\t\t\t\t\t\t\t\t\t\t\t\t\t\t\t\t\t'disable_toolbar': False,\n",
    "\t\t\t\t\t\t\t\t\t\t\t\t\t\t\t\t\t\t\t\t\t\t\t\t\t# 'build_fn': 'insets_view',\n",
    "\t\t\t\t\t\t\t\t\t\t\t\t\t\t\t\t\t\t\t\t\t}, \n",
    "\t\t\t\t\t\t\t\t\t\t\t\t\t\t\t\t\t\t\t\t\t# disable_toolbar=False\n",
    "\t\t\t\t\t\t\t\t\t\t\t\t\t\t\t\t\t\t\t\t\t)\n",
    "\n",
    "_out_pagination_controller.params.should_suppress_callback_exceptions = False\n",
    "_out_pagination_controller.add_data_overlays(a_decoder_decoded_epochs_result)\n",
    "_tmp_out_selections = _out_pagination_controller.restore_selections_from_user_annotations()"
   ]
  },
  {
   "cell_type": "code",
   "execution_count": null,
   "id": "7c780e52",
   "metadata": {},
   "outputs": [],
   "source": [
    "fig = _out_pagination_controller.plots.fig\n",
    "# fig.toolbar"
   ]
  },
  {
   "cell_type": "code",
   "execution_count": null,
   "id": "4d3f46ef",
   "metadata": {},
   "outputs": [],
   "source": [
    "# type(_out_pagination_controller)\n",
    "\n",
    "_out_pagination_controller.plot_widget._buildUI_setup_statusbar()"
   ]
  },
  {
   "cell_type": "markdown",
   "id": "dff74414",
   "metadata": {},
   "source": [
    "single_epoch_field_names\n"
   ]
  },
  {
   "cell_type": "code",
   "execution_count": null,
   "id": "4e429a68",
   "metadata": {},
   "outputs": [],
   "source": [
    "# on_selected_epochs_changed\n",
    "\n",
    "active_captured_single_epoch_result: SingleEpochDecodedResult = a_decoder_decoded_epochs_result.get_result_for_epoch(active_epoch_idx=3)\n",
    "\n",
    "def get_selected_posterior_on_secondary_clicked_callback(self, event, clicked_ax, clicked_data_index, clicked_epoch_is_selected, clicked_epoch_start_stop_time):\n",
    "\t\"\"\" called when the user alt-clicks an epoch \n",
    "\t\n",
    "\tcaptures: active_captured_single_epoch_result\n",
    "\t\"\"\"\n",
    "\tglobal active_captured_single_epoch_result\n",
    "\tif self.params.debug_print:\n",
    "\t\tprint(f'get_selected_posterior_on_secondary_clicked_callback(clicked_data_index: {clicked_data_index}, clicked_epoch_is_selected: {clicked_epoch_is_selected}, clicked_epoch_start_stop_time: {clicked_epoch_start_stop_time})')\n",
    "\tif clicked_epoch_start_stop_time is not None:\n",
    "\t\tif len(clicked_epoch_start_stop_time) == 2:\n",
    "\t\t\tstart_t, end_t = clicked_epoch_start_stop_time\n",
    "\t\t\t# print(f'start_t: {start_t}')\n",
    "\t\t\tclicked_data_index: int = _out_pagination_controller.find_data_indicies_from_epoch_times(epoch_times=np.array([start_t, end_t]))[0]\n",
    "\t\t\tif self.params.debug_print:\n",
    "\t\t\t\tprint(f'\\tclicked_data_index: {clicked_data_index}')            \n",
    "\t\t\tactive_captured_single_epoch_result = a_decoder_decoded_epochs_result.get_result_for_epoch(active_epoch_idx=clicked_data_index)\n",
    "\t\t\tif self.params.debug_print:\n",
    "\t\t\t\tprint(f'\\tactive_captured_single_epoch_result.epoch_info_tuple: {active_captured_single_epoch_result.epoch_info_tuple}')\n",
    "\t\t\t\tprint(f'\\tdone.')\n",
    "\n",
    "\n",
    "# BEGIN FUNCTION BODY ________________________________________________________________________________________________ #\n",
    "if not _out_pagination_controller.params.has_attr('on_middle_click_item_callbacks'):\n",
    "\t_out_pagination_controller.params['on_middle_click_item_callbacks'] = {}\n",
    "\n",
    "_out_pagination_controller.params.on_middle_click_item_callbacks['get_selected_posterior_on_secondary_clicked_callback'] = get_selected_posterior_on_secondary_clicked_callback\n"
   ]
  },
  {
   "cell_type": "code",
   "execution_count": null,
   "id": "f68a4cd3",
   "metadata": {},
   "outputs": [],
   "source": [
    "a_decoder_decoded_epochs_result.active_filter_epochs"
   ]
  },
  {
   "cell_type": "code",
   "execution_count": null,
   "id": "6a619872",
   "metadata": {},
   "outputs": [],
   "source": [
    "from pyphocorehelpers.plotting.media_output_helpers import get_array_as_image\n",
    "\n",
    "posterior_image = active_captured_single_epoch_result.get_posterior_as_image(desired_width=2048)\n",
    "posterior_image\n"
   ]
  },
  {
   "cell_type": "code",
   "execution_count": null,
   "id": "5c51bb30",
   "metadata": {},
   "outputs": [],
   "source": [
    "from scipy.signal import convolve2d\n",
    "\n",
    "# Define 8x8 blur filter kernel\n",
    "blur_kernel = np.ones((8, 8)) / 64\n",
    "\n",
    "# Apply blur to a 2D matrix\n",
    "blurred_matrix = convolve2d(active_captured_single_epoch_result.p_x_given_n, blur_kernel, mode='same', boundary='wrap')\n",
    "\n",
    "get_array_as_image(blurred_matrix, desired_height=400)\n",
    "\n"
   ]
  },
  {
   "cell_type": "code",
   "execution_count": null,
   "id": "e8a8ca93",
   "metadata": {},
   "outputs": [],
   "source": [
    "{i:col for i, col in enumerate(a_decoder_decoded_epochs_result.active_filter_epochs.columns)}\n",
    "\n",
    "column_indicies = np.arange(12, 19)\n",
    "column_indicies"
   ]
  },
  {
   "cell_type": "code",
   "execution_count": null,
   "id": "c9b8451e",
   "metadata": {},
   "outputs": [],
   "source": [
    "_out_pagination_controller.params.debug_print\n"
   ]
  },
  {
   "cell_type": "markdown",
   "id": "ffbc81f8",
   "metadata": {},
   "source": [
    "## 2024-04-30 Heuristic "
   ]
  },
  {
   "cell_type": "code",
   "execution_count": null,
   "id": "b21abb21",
   "metadata": {},
   "outputs": [],
   "source": [
    "# *position_relative\": mapped between the ends of the track, 0.0 to 1.0\n",
    "most_likely_position_relative = (np.squeeze(active_captured_single_epoch_result.most_likely_position_indicies) / float(active_captured_single_epoch_result.n_xbins-1))\n",
    "most_likely_position_relative\n",
    "\n",
    "\n",
    "plt.hlines([0], colors='k', xmin=active_captured_single_epoch_result.time_bin_edges[0], xmax=active_captured_single_epoch_result.time_bin_edges[-1])\n",
    "plt.step(active_captured_single_epoch_result.time_bin_container.centers[1:], np.diff(most_likely_position_relative))\n",
    "plt.scatter(active_captured_single_epoch_result.time_bin_container.centers, most_likely_position_relative, color='r')\n"
   ]
  },
  {
   "cell_type": "code",
   "execution_count": null,
   "id": "64c52d60",
   "metadata": {},
   "outputs": [],
   "source": [
    "import pyphoplacecellanalysis.External.pyqtgraph as pg\n",
    "from pyphoplacecellanalysis.External.pyqtgraph.Qt import QtGui, QtCore, QtWidgets\n",
    "# from pyphoplacecellanalysis.External.pyqtgraph.parametertree.parameterTypes.file import popupFilePicker\n",
    "from pyphoplacecellanalysis.External.pyqtgraph.widgets.FileDialog import FileDialog\n",
    "\n",
    "from silx.gui import qt\n",
    "from silx.gui.dialog.ImageFileDialog import ImageFileDialog\n",
    "from silx.gui.dialog.DataFileDialog import DataFileDialog\n",
    "import silx.io\n",
    "\n",
    "from pyphoplacecellanalysis.GUI.IPyWidgets.pipeline_ipywidgets import saveFile\n",
    "\n",
    "app = pg.mkQApp('silx_testing')\n",
    "app"
   ]
  },
  {
   "cell_type": "code",
   "execution_count": null,
   "id": "fc644214",
   "metadata": {},
   "outputs": [],
   "source": [
    "import numpy as np\n",
    "from silx.gui.plot import Plot2D\n",
    "\n",
    "matrix = np.random.rand(10, 10)  # Example 2D matrix\n",
    "plot = Plot2D()\n",
    "plot.addImage(matrix, colormap=\"viridis\", vmin=0, vmax=1)\n",
    "plot.show()"
   ]
  },
  {
   "cell_type": "code",
   "execution_count": null,
   "id": "e29c941e",
   "metadata": {},
   "outputs": [],
   "source": [
    "from pyphoplacecellanalysis.Analysis.Decoder.heuristic_replay_scoring import HeuristicReplayScoring\n",
    "\n",
    "HeuristicReplayScoring.bin_wise_track_coverage_score_fn(a_result=a_decoder_decoded_epochs_result, an_epoch_idx=active_captured_single_epoch_result.epoch_data_index, a_decoder_track_length=170.0)\n",
    "\n",
    "# np.diff(active_captured_single_epoch_result.most_likely_position_indicies)"
   ]
  },
  {
   "cell_type": "code",
   "execution_count": null,
   "id": "2549b6af",
   "metadata": {},
   "outputs": [],
   "source": [
    "ax = _out_pagination_controller.plots.axs[0]\n",
    "ax"
   ]
  },
  {
   "cell_type": "code",
   "execution_count": null,
   "id": "d3d52d45",
   "metadata": {},
   "outputs": [],
   "source": [
    "ax.format_coord"
   ]
  },
  {
   "cell_type": "code",
   "execution_count": null,
   "id": "53f28b01",
   "metadata": {},
   "outputs": [],
   "source": [
    "# Find ascending sequences of most-likely positions\n",
    "\n",
    "\n",
    "\n",
    "\n",
    "def format_coord(x, y):\n",
    "\tcol = round(x)\n",
    "\trow = round(y)\n",
    "\tnrows, ncols = X.shape\n",
    "\tif 0 <= col < ncols and 0 <= row < nrows:\n",
    "\t\tz = X[row, col]\n",
    "\t\treturn f'x={x:1.4f}, y={y:1.4f}, z={z:1.4f}'\n",
    "\telse:\n",
    "\t\treturn f'x={x:1.4f}, y={y:1.4f}'\n",
    "\n",
    "\n",
    "ax.format_coord = format_coord\n"
   ]
  },
  {
   "cell_type": "code",
   "execution_count": null,
   "id": "4de603c0",
   "metadata": {},
   "outputs": [],
   "source": [
    "# _out_pagination_controller.plot_widget.setStatusTip('LONG STATUS TIP TEST')\n",
    "\n",
    "_out_pagination_controller.plot_widget.update_status('LONG STATUS TIP TEST')\n"
   ]
  },
  {
   "cell_type": "code",
   "execution_count": null,
   "id": "07b187c8",
   "metadata": {},
   "outputs": [],
   "source": [
    "# _out_pagination_controller.plots.radon_transform\n",
    "fig = _out_pagination_controller.plots.fig\n",
    "\n",
    "# plt.subplots_adjust(left=0.15, right=0.85, top=0.9, bottom=0.1)\n",
    "# Adjust the margins using subplots_adjust\n",
    "fig.subplots_adjust(left=0.15, right=0.85, bottom=0.15, top=0.85)\n",
    "\n",
    "# Adjust the margins using the Figure object\n",
    "# fig.set_tight_layout(dict(rect=[0.1, 0.2, 0.8, 0.8]))\n",
    "# fig.tight_layout(dict(rect=[0.1, 0.2, 0.8, 0.8]))\n",
    "# fig.tight_layout(pad=1.0, rect=[0.1, 0.1, 0.8, 0.8])\n",
    "_out_pagination_controller.draw()"
   ]
  },
  {
   "cell_type": "code",
   "execution_count": null,
   "id": "4e9643ed",
   "metadata": {},
   "outputs": [],
   "source": [
    "(a_name, a_decoder) = tuple(track_templates.get_decoders_dict().items())[0]\n",
    "a_name"
   ]
  },
  {
   "cell_type": "markdown",
   "id": "9e8d1a25",
   "metadata": {},
   "source": [
    "## 🔷🎨 2024-03-06 - Uni Page Scrollable Version"
   ]
  },
  {
   "cell_type": "code",
   "execution_count": 42,
   "id": "3be9e880",
   "metadata": {},
   "outputs": [
    {
     "name": "stderr",
     "output_type": "stream",
     "text": [
      "C:\\Users\\pho\\repos\\Spike3DWorkEnv\\pyPhoPlaceCellAnalysis\\src\\pyphoplacecellanalysis\\Pho2D\\matplotlib\\CustomMatplotlibWidget.py:236: UserWarning: constrained_layout not applied because axes sizes collapsed to zero.  Try making figure larger or axes decorations smaller.\n",
      "  self.ui.canvas.draw()\n",
      "c:\\Users\\pho\\repos\\Spike3DWorkEnv\\Spike3D\\.venv\\lib\\site-packages\\numpy\\lib\\nanfunctions.py:1215: RuntimeWarning: Mean of empty slice\n",
      "  return np.nanmean(a, axis, out=out, keepdims=keepdims)\n"
     ]
    },
    {
     "name": "stdout",
     "output_type": "stream",
     "text": [
      "WARN: active_extent (xmin, xmax, ymin, ymax): (nan, nan, 37.0773897438341, 253.27970536207107) contains NaN or Inf.\n",
      "\terr: Axis limits cannot be NaN or Inf\n",
      "WARN: active_extent (xmin, xmax, ymin, ymax): (nan, nan, 37.0773897438341, 253.27970536207107) contains NaN or Inf.\n",
      "\terr: Axis limits cannot be NaN or Inf\n"
     ]
    },
    {
     "name": "stderr",
     "output_type": "stream",
     "text": [
      "c:\\Users\\pho\\repos\\Spike3DWorkEnv\\Spike3D\\.venv\\lib\\site-packages\\numpy\\lib\\nanfunctions.py:1215: RuntimeWarning: Mean of empty slice\n",
      "  return np.nanmean(a, axis, out=out, keepdims=keepdims)\n"
     ]
    },
    {
     "name": "stdout",
     "output_type": "stream",
     "text": [
      "WARN: active_extent (xmin, xmax, ymin, ymax): (nan, nan, 37.0773897438341, 253.27970536207107) contains NaN or Inf.\n",
      "\terr: Axis limits cannot be NaN or Inf\n",
      "WARN: active_extent (xmin, xmax, ymin, ymax): (nan, nan, 37.0773897438341, 253.27970536207107) contains NaN or Inf.\n",
      "\terr: Axis limits cannot be NaN or Inf\n"
     ]
    },
    {
     "name": "stderr",
     "output_type": "stream",
     "text": [
      "C:\\Users\\pho\\repos\\Spike3DWorkEnv\\pyPhoPlaceCellAnalysis\\src\\pyphoplacecellanalysis\\Pho2D\\matplotlib\\CustomMatplotlibWidget.py:236: UserWarning: constrained_layout not applied because axes sizes collapsed to zero.  Try making figure larger or axes decorations smaller.\n",
      "  self.ui.canvas.draw()\n",
      "c:\\Users\\pho\\repos\\Spike3DWorkEnv\\Spike3D\\.venv\\lib\\site-packages\\numpy\\lib\\nanfunctions.py:1215: RuntimeWarning: Mean of empty slice\n",
      "  return np.nanmean(a, axis, out=out, keepdims=keepdims)\n"
     ]
    },
    {
     "name": "stdout",
     "output_type": "stream",
     "text": [
      "WARN: active_extent (xmin, xmax, ymin, ymax): (nan, nan, 37.0773897438341, 253.27970536207107) contains NaN or Inf.\n",
      "\terr: Axis limits cannot be NaN or Inf\n",
      "WARN: active_extent (xmin, xmax, ymin, ymax): (nan, nan, 37.0773897438341, 253.27970536207107) contains NaN or Inf.\n",
      "\terr: Axis limits cannot be NaN or Inf\n"
     ]
    },
    {
     "name": "stderr",
     "output_type": "stream",
     "text": [
      "c:\\Users\\pho\\repos\\Spike3DWorkEnv\\Spike3D\\.venv\\lib\\site-packages\\numpy\\lib\\nanfunctions.py:1215: RuntimeWarning: Mean of empty slice\n",
      "  return np.nanmean(a, axis, out=out, keepdims=keepdims)\n"
     ]
    },
    {
     "name": "stdout",
     "output_type": "stream",
     "text": [
      "WARN: active_extent (xmin, xmax, ymin, ymax): (nan, nan, 37.0773897438341, 253.27970536207107) contains NaN or Inf.\n",
      "\terr: Axis limits cannot be NaN or Inf\n",
      "WARN: active_extent (xmin, xmax, ymin, ymax): (nan, nan, 37.0773897438341, 253.27970536207107) contains NaN or Inf.\n",
      "\terr: Axis limits cannot be NaN or Inf\n"
     ]
    },
    {
     "name": "stderr",
     "output_type": "stream",
     "text": [
      "C:\\Users\\pho\\repos\\Spike3DWorkEnv\\pyPhoPlaceCellAnalysis\\src\\pyphoplacecellanalysis\\Pho2D\\matplotlib\\CustomMatplotlibWidget.py:236: UserWarning: constrained_layout not applied because axes sizes collapsed to zero.  Try making figure larger or axes decorations smaller.\n",
      "  self.ui.canvas.draw()\n",
      "c:\\Users\\pho\\repos\\Spike3DWorkEnv\\Spike3D\\.venv\\lib\\site-packages\\numpy\\lib\\nanfunctions.py:1215: RuntimeWarning: Mean of empty slice\n",
      "  return np.nanmean(a, axis, out=out, keepdims=keepdims)\n"
     ]
    },
    {
     "name": "stdout",
     "output_type": "stream",
     "text": [
      "WARN: active_extent (xmin, xmax, ymin, ymax): (nan, nan, 37.0773897438341, 253.27970536207107) contains NaN or Inf.\n",
      "\terr: Axis limits cannot be NaN or Inf\n",
      "WARN: active_extent (xmin, xmax, ymin, ymax): (nan, nan, 37.0773897438341, 253.27970536207107) contains NaN or Inf.\n",
      "\terr: Axis limits cannot be NaN or Inf\n"
     ]
    },
    {
     "name": "stderr",
     "output_type": "stream",
     "text": [
      "c:\\Users\\pho\\repos\\Spike3DWorkEnv\\Spike3D\\.venv\\lib\\site-packages\\numpy\\lib\\nanfunctions.py:1215: RuntimeWarning: Mean of empty slice\n",
      "  return np.nanmean(a, axis, out=out, keepdims=keepdims)\n"
     ]
    },
    {
     "name": "stdout",
     "output_type": "stream",
     "text": [
      "WARN: active_extent (xmin, xmax, ymin, ymax): (nan, nan, 37.0773897438341, 253.27970536207107) contains NaN or Inf.\n",
      "\terr: Axis limits cannot be NaN or Inf\n",
      "WARN: active_extent (xmin, xmax, ymin, ymax): (nan, nan, 37.0773897438341, 253.27970536207107) contains NaN or Inf.\n",
      "\terr: Axis limits cannot be NaN or Inf\n"
     ]
    },
    {
     "name": "stderr",
     "output_type": "stream",
     "text": [
      "C:\\Users\\pho\\repos\\Spike3DWorkEnv\\pyPhoPlaceCellAnalysis\\src\\pyphoplacecellanalysis\\Pho2D\\matplotlib\\CustomMatplotlibWidget.py:236: UserWarning: constrained_layout not applied because axes sizes collapsed to zero.  Try making figure larger or axes decorations smaller.\n",
      "  self.ui.canvas.draw()\n",
      "c:\\Users\\pho\\repos\\Spike3DWorkEnv\\Spike3D\\.venv\\lib\\site-packages\\numpy\\lib\\nanfunctions.py:1215: RuntimeWarning: Mean of empty slice\n",
      "  return np.nanmean(a, axis, out=out, keepdims=keepdims)\n"
     ]
    },
    {
     "name": "stdout",
     "output_type": "stream",
     "text": [
      "WARN: active_extent (xmin, xmax, ymin, ymax): (nan, nan, 37.0773897438341, 253.27970536207107) contains NaN or Inf.\n",
      "\terr: Axis limits cannot be NaN or Inf\n",
      "WARN: active_extent (xmin, xmax, ymin, ymax): (nan, nan, 37.0773897438341, 253.27970536207107) contains NaN or Inf.\n",
      "\terr: Axis limits cannot be NaN or Inf\n"
     ]
    },
    {
     "name": "stderr",
     "output_type": "stream",
     "text": [
      "c:\\Users\\pho\\repos\\Spike3DWorkEnv\\Spike3D\\.venv\\lib\\site-packages\\numpy\\lib\\nanfunctions.py:1215: RuntimeWarning: Mean of empty slice\n",
      "  return np.nanmean(a, axis, out=out, keepdims=keepdims)\n"
     ]
    },
    {
     "name": "stdout",
     "output_type": "stream",
     "text": [
      "WARN: active_extent (xmin, xmax, ymin, ymax): (nan, nan, 37.0773897438341, 253.27970536207107) contains NaN or Inf.\n",
      "\terr: Axis limits cannot be NaN or Inf\n",
      "WARN: active_extent (xmin, xmax, ymin, ymax): (nan, nan, 37.0773897438341, 253.27970536207107) contains NaN or Inf.\n",
      "\terr: Axis limits cannot be NaN or Inf\n",
      "target_height: 6430.0,   desired_final_height = 2160\n",
      "target_height: 6430.0,   desired_final_height = 2160\n",
      "target_height: 6430.0,   desired_final_height = 2160\n",
      "target_height: 6430.0,   desired_final_height = 2160\n",
      "PhoDockAreaContainingWindow.GlobalConnectionManagerAccessingMixin_on_setup()\n",
      "PhoDockAreaContainingWindow.try_register_any_control_widgets()\n",
      "\tflat_widgets_list contains 0 items\n",
      "WARN: no text box yet. err: 'ThinButtonBarWidget' object has no attribute 'ui'\n",
      "self.ui.buttons_dict.keys(): ['Refresh', 'Clipboard', 'Copy Selections', 'Printer', 'Brush', 'Pencil', 'Eraser']\n",
      "is_spacer_visible: False\n",
      "WARN: no text box yet. err: 'ThinButtonBarWidget' object has no attribute 'ui'\n",
      "self.ui.buttons_dict.keys(): ['Refresh', 'Clipboard', 'Copy Selections', 'Printer', 'Brush', 'Pencil', 'Eraser']\n",
      "is_spacer_visible: False\n",
      "WARN: no text box yet. err: 'ThinButtonBarWidget' object has no attribute 'ui'\n",
      "self.ui.buttons_dict.keys(): ['Refresh', 'Clipboard', 'Copy Selections', 'Printer', 'Brush', 'Pencil', 'Eraser']\n",
      "is_spacer_visible: False\n",
      "WARN: no text box yet. err: 'ThinButtonBarWidget' object has no attribute 'ui'\n",
      "self.ui.buttons_dict.keys(): ['Refresh', 'Clipboard', 'Copy Selections', 'Printer', 'Brush', 'Pencil', 'Eraser']\n",
      "is_spacer_visible: False\n",
      "WARN: no text box yet. err: 'ThinButtonBarWidget' object has no attribute 'ui'\n",
      "self.ui.buttons_dict.keys(): ['Refresh', 'Clipboard', 'Copy Selections', 'Printer', 'Brush', 'Pencil', 'Eraser']\n",
      "is_spacer_visible: False\n"
     ]
    }
   ],
   "source": [
    "from pyphoplacecellanalysis.Pho2D.stacked_epoch_slices import PhoPaginatedMultiDecoderDecodedEpochsWindow\n",
    "\n",
    "# decoder_decoded_epochs_result_dict: generic\n",
    "single_page_app, single_page_paginated_multi_decoder_decoded_epochs_window, single_page_pagination_controller_dict = PhoPaginatedMultiDecoderDecodedEpochsWindow.init_from_track_templates(curr_active_pipeline, track_templates,\n",
    "\t\t\t\t\t\t\t\t\t\t\t\t\t\t\t\t\t\t\t\t\t\t\t\tdecoder_decoded_epochs_result_dict=decoder_ripple_filter_epochs_decoder_result_dict, epochs_name='ripple',\n",
    "\t\t\t\t\t\t\t\t\t\t\t\t\t\t\t\t\t\t\t\t\t\t\t\tincluded_epoch_indicies=None, debug_print=False,\n",
    "\t\t\t\t\t\t\t\t\t\t\t\t\t\t\t\t\t\t\t\t\t\t\t\tparams_kwargs={'skip_plotting_most_likely_positions': False, 'enable_per_epoch_action_buttons': False,\n",
    "\t\t\t\t\t\t\t\t\t\t\t\t\t\t\t\t\t\t\t\t\t\t\t\t\t\t\t   'enable_radon_transform_info': False, 'enable_weighted_correlation_info': True,\n",
    "\t\t\t\t\t\t\t\t\t\t\t\t\t\t\t\t\t\t\t\t\t\t\t\t\t\t\t\t# 'enable_radon_transform_info': False, 'enable_weighted_correlation_info': False,\n",
    "\t\t\t\t\t\t\t\t\t\t\t\t\t\t\t\t\t\t\t\t\t\t\t\t\t\t\t\t# 'disable_y_label': True,\n",
    "\t\t\t\t\t\t\t\t\t\t\t\t\t\t\t\t\t\t\t\t\t\t\t\t\t\t\t\t'isPaginatorControlWidgetBackedMode': True,\n",
    "\t\t\t\t\t\t\t\t\t\t\t\t\t\t\t\t\t\t\t\t\t\t\t\t\t\t\t\t'enable_update_window_title_on_page_change': False, 'build_internal_callbacks': True,\n",
    "\t\t\t\t\t\t\t\t\t\t\t\t\t\t\t\t\t\t\t\t\t\t\t\t\t\t\t\t# 'debug_print': True,\n",
    "\t\t\t\t\t\t\t\t\t\t\t\t\t\t\t\t\t\t\t\t\t\t\t\t\t\t\t\t'max_subplots_per_page': 64,\n",
    "\t\t\t\t\t\t\t\t\t\t\t\t\t\t\t\t\t\t\t\t\t\t\t\t\t\t\t\t'scrollable_figure': True,\n",
    "\t\t\t\t\t\t\t\t\t\t\t\t\t\t\t\t\t\t\t\t\t\t\t\t\t\t\t\t})\n"
   ]
  },
  {
   "cell_type": "code",
   "execution_count": null,
   "id": "0f2565e3",
   "metadata": {},
   "outputs": [],
   "source": [
    "single_page_paginated_multi_decoder_decoded_epochs_window.add_data_overlays(decoder_laps_filter_epochs_decoder_result_dict, decoder_ripple_filter_epochs_decoder_result_dict)\n",
    "_tmp_out_selections = single_page_paginated_multi_decoder_decoded_epochs_window.restore_selections_from_user_annotations()"
   ]
  },
  {
   "cell_type": "code",
   "execution_count": null,
   "id": "90abee48",
   "metadata": {},
   "outputs": [],
   "source": [
    "# for curr_results_obj: LeaveOneOutDecodingAnalysisResult object\n",
    "num_filter_epochs:int = curr_results_obj.active_filter_epochs.n_epochs\n",
    "\n",
    "# `active_filter_epochs_df` native columns approach\n",
    "active_filter_epochs_df = curr_results_obj.active_filter_epochs.to_dataframe().copy()\n",
    "assert np.isin(['score', 'velocity', 'intercept', 'speed'], active_filter_epochs_df.columns).all()\n",
    "epochs_linear_fit_df = active_filter_epochs_df[['score', 'velocity', 'intercept', 'speed']].copy() # get the `epochs_linear_fit_df` as a subset of the filter epochs df\n",
    "# epochs_linear_fit_df approach\n",
    "assert curr_results_obj.all_included_filter_epochs_decoder_result.num_filter_epochs == np.shape(epochs_linear_fit_df)[0]\n",
    "\n",
    "num_filter_epochs:int = curr_results_obj.all_included_filter_epochs_decoder_result.num_filter_epochs # curr_results_obj.num_filter_epochs\n",
    "try:\n",
    "\ttime_bin_containers: List[BinningContainer] = deepcopy(curr_results_obj.time_bin_containers)\n",
    "except AttributeError as e:\n",
    "\t# AttributeError: 'LeaveOneOutDecodingAnalysisResult' object has no attribute 'time_bin_containers' is expected when `curr_results_obj: LeaveOneOutDecodingAnalysisResult - for Long/Short plotting`\n",
    "\ttime_bin_containers: List[BinningContainer] = deepcopy(curr_results_obj.all_included_filter_epochs_decoder_result.time_bin_containers) # for curr_results_obj: LeaveOneOutDecodingAnalysisResult - for Long/Short plotting\n",
    "\n",
    "radon_transform_data = RadonTransformPlotDataProvider._subfn_build_radon_transform_plotting_data(active_filter_epochs_df=active_filter_epochs_df,\n",
    "\t\t\tnum_filter_epochs = num_filter_epochs, time_bin_containers = time_bin_containers, radon_transform_column_names=['score', 'velocity', 'intercept', 'speed'])\n",
    "\t"
   ]
  },
  {
   "cell_type": "code",
   "execution_count": null,
   "id": "4d17b087",
   "metadata": {},
   "outputs": [],
   "source": [
    "paginated_multi_decoder_decoded_epochs_window.export"
   ]
  },
  {
   "cell_type": "code",
   "execution_count": null,
   "id": "592fa458",
   "metadata": {},
   "outputs": [],
   "source": [
    "# _display_long_and_short_stacked_epoch_slices\n",
    "curr_active_pipeline.reload_default_display_functions()\n",
    "_out_dict = curr_active_pipeline.display('_display_long_and_short_stacked_epoch_slices', save_figure=True)"
   ]
  },
  {
   "cell_type": "markdown",
   "id": "ab3f3190",
   "metadata": {},
   "source": [
    "## Other:"
   ]
  },
  {
   "cell_type": "code",
   "execution_count": null,
   "id": "b18d1c13",
   "metadata": {},
   "outputs": [],
   "source": [
    "_out = _out_pagination_controller.plots['radon_transform'][7]\n",
    "extant_line = _out['line'] # matplotlib.lines.Line2D\n",
    "extant_line.linestyle = 'none'\n",
    "# extant_line.draw()\n",
    "\n"
   ]
  },
  {
   "cell_type": "code",
   "execution_count": null,
   "id": "b7e00165",
   "metadata": {},
   "outputs": [],
   "source": [
    "print(list(curr_active_pipeline.filtered_contexts.keys())) # ['maze1_odd', 'maze2_odd', 'maze_odd', 'maze1_even', 'maze2_even', 'maze_even', 'maze1_any', 'maze2_any', 'maze_any']\n",
    "\n",
    "# Converting between decoder names and filtered epoch names:\n",
    "# {'long':'maze1', 'short':'maze2'}\n",
    "# {'LR':'odd', 'RL':'even'}\n",
    "long_LR_name, short_LR_name, long_RL_name, short_RL_name = ['maze1_odd', 'maze2_odd', 'maze1_even', 'maze2_even']\n",
    "decoder_name_to_session_context_name: Dict[str,str] = dict(zip(track_templates.get_decoder_names(), (long_LR_name, long_RL_name, short_LR_name, short_RL_name))) # {'long_LR': 'maze1_odd', 'long_RL': 'maze1_even', 'short_LR': 'maze2_odd', 'short_RL': 'maze2_even'}\n",
    "session_context_to_decoder_name: Dict[str,str] = dict(zip((long_LR_name, long_RL_name, short_LR_name, short_RL_name), track_templates.get_decoder_names())) # {'maze1_odd': 'long_LR', 'maze1_even': 'long_RL', 'maze2_odd': 'short_LR', 'maze2_even': 'short_RL'}\n",
    "\n",
    "decoder_name_to_session_context_name\n",
    "session_context_to_decoder_name"
   ]
  },
  {
   "cell_type": "code",
   "execution_count": null,
   "id": "5896f620",
   "metadata": {},
   "outputs": [],
   "source": [
    "active_num_slices: int = _out_pagination_controller.params.active_num_slices\n",
    "single_plot_fixed_height: float = _out_pagination_controller.params.single_plot_fixed_height\n",
    "all_plots_height: float = _out_pagination_controller.params.all_plots_height\n",
    "print(f'all_plots_height: {all_plots_height}')"
   ]
  },
  {
   "cell_type": "code",
   "execution_count": null,
   "id": "ad67f5d1",
   "metadata": {},
   "outputs": [],
   "source": [
    "laps_weighted_corr_merged_df"
   ]
  },
  {
   "cell_type": "code",
   "execution_count": null,
   "id": "64fed6b8",
   "metadata": {},
   "outputs": [],
   "source": [
    "from PendingNotebookCode import _add_maze_id_to_epochs\n",
    "\n",
    "\n",
    "## Add new weighted correlation results as new columns in existing filter_epochs df:\n",
    "active_filter_epochs = long_results_obj.active_filter_epochs\n",
    "# Add the maze_id to the active_filter_epochs so we can see how properties change as a function of which track the replay event occured on:\n",
    "active_filter_epochs = _add_maze_id_to_epochs(active_filter_epochs, short_session.t_start)\n",
    "active_filter_epochs._df['weighted_corr_LONG'] = epoch_long_weighted_corr_results[:,0]\n",
    "active_filter_epochs._df['weighted_corr_SHORT'] = epoch_short_weighted_corr_results[:,0]\n",
    "active_filter_epochs._df['weighted_corr_spearman_LONG'] = epoch_long_weighted_corr_results[:,1]\n",
    "active_filter_epochs._df['weighted_corr_spearman_SHORT'] = epoch_short_weighted_corr_results[:,1]\n",
    "\n",
    "\n",
    "active_filter_epochs\n",
    "active_filter_epochs.to_dataframe()\n",
    "## plot the `weighted_corr_LONG` over time\n",
    "\n",
    "# fig, axes = plt.subplots(ncols=1, nrows=active_num_rows, sharex=True, sharey=sharey, figsize=figsize)\n",
    "\n",
    "## Weighted Correlation during replay epochs:\n",
    "_out_ax = active_filter_epochs._df.plot.scatter(x='start', y='weighted_corr_LONG', title='weighted_corr during replay events', marker=\"s\",  s=5, label=f'Long', alpha=0.8)\n",
    "active_filter_epochs._df.plot.scatter(x='start', y='weighted_corr_SHORT', xlabel='Replay Epoch Time', ylabel='Weighted Correlation', ax=_out_ax, marker=\"s\", c='r', s=5, label=f'Short', alpha=0.8)\n",
    "_out_ax.axhline(y=0.0, linewidth=1, color='k') # the y=0.0 line\n",
    "## Weighted Spearman Correlation during replay epochs:\n",
    "_out_ax = active_filter_epochs._df.plot.scatter(x='start', y='weighted_corr_spearman_LONG', title='weighted_spearman_corr during replay events', marker=\"s\",  s=5, label=f'Long', alpha=0.8)\n",
    "active_filter_epochs._df.plot.scatter(x='start', y='weighted_corr_spearman_SHORT', xlabel='Replay Epoch Time', ylabel='Weighted Spearman Correlation', ax=_out_ax, marker=\"s\", c='r', s=5, label=f'Short', alpha=0.8)\n",
    "_out_ax.axhline(y=0.0, linewidth=1, color='k') # the y=0.0 line\n",
    "_out_ax = active_filter_epochs._df.plot.scatter(x='start', y='score_LONG', title='Radon Transform Score during replay events', marker=\"s\",  s=5, label=f'Long', alpha=0.8)\n",
    "active_filter_epochs._df.plot.scatter(x='start', y='score_SHORT', xlabel='Replay Epoch Time', ylabel='Replay Radon Transform Score', ax=_out_ax, marker=\"s\", c='r', s=5, label=f'Short', alpha=0.8)\n",
    "_out_ax.axhline(y=0.0, linewidth=1, color='k') # the y=0.0 line\n"
   ]
  },
  {
   "cell_type": "code",
   "execution_count": null,
   "id": "dfe3e18e",
   "metadata": {},
   "outputs": [],
   "source": [
    "curr_active_pipeline.reload_default_display_functions()\n",
    "example_stacked_epoch_graphics = curr_active_pipeline.display('_display_long_and_short_stacked_epoch_slices', defer_render=False, save_figure=False)\n"
   ]
  },
  {
   "cell_type": "markdown",
   "id": "7ad4f9a0",
   "metadata": {},
   "source": [
    "# 2024-02-15 - Do simple spike-t vs. template pf peak correlation like Kamran suggested this morning\n",
    "\n",
    "Replays can be of trajectories on either the current track configuration or on a temporally distant one (such as a trajectory on the long track after the track has been shortened). \n",
    "The goal of the decoder scoring methods are to evaluate how likely each decoder was. This means for each Epoch we obtain a score for all four decoders: Long_LR, Long_RL, Short_LR, Short_RL\n",
    "\n",
    "#### `posterior decoder likelihoods` - This scoring method produces a probability that the\n",
    "\n",
    "#### Radon Transform - TODO\n",
    "\n",
    "#### `compute_simple_spike_time_v_pf_peak_x_by_epoch` - This epoch scoring metric plots the placefield peak x position against the time in seconds of each spike relative to the start of the epoch. \n",
    "\n"
   ]
  },
  {
   "cell_type": "markdown",
   "id": "b8d1e967",
   "metadata": {},
   "source": [
    "## TODO 2024-02-15 8pm - Add in to previous result:"
   ]
  },
  {
   "cell_type": "code",
   "execution_count": null,
   "id": "9dd539a1",
   "metadata": {},
   "outputs": [],
   "source": [
    "from pyphoplacecellanalysis.Analysis.reliability import TrialByTrialActivity\n",
    "\n",
    "# (laps_radon_transform_merged_df, ripple_radon_transform_merged_df, laps_weighted_corr_merged_df, ripple_weighted_corr_merged_df)\n",
    "# (laps_radon_transform_merged_df, ripple_radon_transform_merged_df, laps_weighted_corr_merged_df, ripple_weighted_corr_merged_df)\n",
    "laps_simple_pf_pearson_merged_df\n",
    "# laps_radon_transform_merged_df"
   ]
  },
  {
   "cell_type": "code",
   "execution_count": null,
   "id": "57565cbb",
   "metadata": {},
   "outputs": [],
   "source": [
    "directional_lap_epochs_dict = dict(zip((long_LR_name, long_RL_name, short_LR_name, short_RL_name), (long_LR_epochs_obj, long_RL_epochs_obj, short_LR_epochs_obj, short_RL_epochs_obj)))\n",
    "directional_active_lap_pf_results_dicts = TrialByTrialActivity.directional_compute_trial_by_trial_correlation_matrix(active_pf_dt=active_pf_dt, directional_lap_epochs_dict=directional_lap_epochs_dict, included_neuron_IDs=any_decoder_neuron_IDs)\n",
    "\n",
    "decoder_aclu_peak_location_df_merged = deepcopy(track_templates.get_directional_pf_maximum_peaks_dfs(drop_aclu_if_missing_long_or_short=False))\n",
    "# decoder_aclu_peak_location_df_merged[np.isin(decoder_aclu_peak_location_df_merged['aclu'], both_included_neuron_stats_df.aclu.to_numpy())]\n",
    "decoder_aclu_peak_location_df_merged\n"
   ]
  },
  {
   "cell_type": "code",
   "execution_count": null,
   "id": "74381521",
   "metadata": {},
   "outputs": [],
   "source": [
    "a_result: TrialByTrialActivity = directional_active_lap_pf_results_dicts['long_LR']\n",
    "# a_result.sp\n"
   ]
  },
  {
   "cell_type": "markdown",
   "id": "8421fd1a",
   "metadata": {},
   "source": [
    "# 💾 2024-03-04 - Export `DecoderDecodedEpochsResult` CSVs with user annotations for epochs:"
   ]
  },
  {
   "cell_type": "code",
   "execution_count": null,
   "id": "6ae0ae73",
   "metadata": {
    "notebookRunGroups": {
     "groupValue": "1"
    }
   },
   "outputs": [],
   "source": [
    "from neuropy.core.epoch import ensure_dataframe\n",
    "from pyphoplacecellanalysis.General.Pipeline.Stages.ComputationFunctions.MultiContextComputationFunctions.DirectionalPlacefieldGlobalComputationFunctions import DecoderDecodedEpochsResult\n",
    "from pyphoplacecellanalysis.Analysis.Decoder.heuristic_replay_scoring import HeuristicReplayScoring\n",
    "\n",
    "# 2024-03-04 - Filter out the epochs based on the criteria:\n",
    "_, _, global_epoch_name = curr_active_pipeline.find_LongShortGlobal_epoch_names()\n",
    "filtered_epochs_df, active_spikes_df = filter_and_update_epochs_and_spikes(curr_active_pipeline, global_epoch_name, track_templates, epoch_id_key_name='ripple_epoch_id', no_interval_fill_value=-1)\n",
    "filtered_valid_epoch_times = filtered_epochs_df[['start', 'stop']].to_numpy()\n",
    "\n",
    "## 2024-03-08 - Also constrain the user-selected ones (just to try it):\n",
    "decoder_user_selected_epoch_times_dict, any_user_selected_epoch_times = DecoderDecodedEpochsResult.load_user_selected_epoch_times(curr_active_pipeline, track_templates=track_templates)\n",
    "\n",
    "a_result_dict = deepcopy(directional_decoders_epochs_decode_result.decoder_ripple_filter_epochs_decoder_result_dict)\n",
    "# {a_name:ensure_dataframe(a_result.filter_epochs) for a_name, a_result in a_result_dict.items()}\n",
    "\n",
    "directional_decoders_epochs_decode_result.add_all_extra_epoch_columns(curr_active_pipeline, track_templates=track_templates, required_min_percentage_of_active_cells=0.33333333, debug_print=True)\n",
    "\n",
    "# 🟪 2024-02-29 - `compute_pho_heuristic_replay_scores`\n",
    "directional_decoders_epochs_decode_result.decoder_ripple_filter_epochs_decoder_result_dict, _out_new_scores = HeuristicReplayScoring.compute_all_heuristic_scores(track_templates=track_templates, a_decoded_filter_epochs_decoder_result_dict=directional_decoders_epochs_decode_result.decoder_ripple_filter_epochs_decoder_result_dict)\n",
    "\n",
    "## Merge the heuristic columns into the wcorr df columns for exports\n",
    "directional_decoders_epochs_decode_result.ripple_weighted_corr_merged_df\n",
    "\n",
    "# {a_name:DecoderDecodedEpochsResult.try_add_is_user_annotated_epoch_column(ensure_dataframe(a_result.filter_epochs), any_good_selected_epoch_times=filtered_valid_epoch_times) for a_name, a_result in a_result_dict.items()}\n",
    "\n",
    "for a_name, a_result in a_result_dict.items():\n",
    "\t# a_result.add_all_extra_epoch_columns(curr_active_pipeline, track_templates=track_templates, required_min_percentage_of_active_cells=0.33333333, debug_print=True)\n",
    "\n",
    "\t## Merge the heuristic columns into the wcorr df columns for exports\n",
    "\t# directional_decoders_epochs_decode_result.ripple_weighted_corr_merged_df\n",
    "\ta_wcorr_result = directional_decoders_epochs_decode_result.decoder_ripple_weighted_corr_df_dict[a_name]\n",
    "\t\n",
    "\t# did_update_user_annotation_col = DecoderDecodedEpochsResult.try_add_is_user_annotated_epoch_column(ensure_dataframe(a_result.filter_epochs), any_good_selected_epoch_times=any_user_selected_epoch_times, t_column_names=None)\n",
    "\t# print(f'did_update_user_annotation_col: {did_update_user_annotation_col}')\n",
    "\t# did_update_is_valid = DecoderDecodedEpochsResult.try_add_is_valid_epoch_column(ensure_dataframe(a_result.filter_epochs), any_good_selected_epoch_times=filtered_valid_epoch_times, t_column_names=None)\n",
    "\t# print(f'did_update_is_valid: {did_update_is_valid}')\n",
    "\n",
    "# ['start',]\n",
    "\n",
    "a_result_dict = deepcopy(directional_decoders_epochs_decode_result.decoder_ripple_filter_epochs_decoder_result_dict)\n",
    "\n",
    "# {a_name:ensure_dataframe(a_result.filter_epochs) for a_name, a_result in a_result_dict.items()}"
   ]
  },
  {
   "cell_type": "code",
   "execution_count": null,
   "id": "7ba9f746",
   "metadata": {},
   "outputs": [],
   "source": [
    "from pyphoplacecellanalysis.General.Pipeline.Stages.ComputationFunctions.MultiContextComputationFunctions.DirectionalPlacefieldGlobalComputationFunctions import DecoderDecodedEpochsResult\n",
    "from pathlib import Path\n",
    "\n",
    "# 💾 export_csvs\n",
    "\n",
    "# BATCH_DATE_TO_USE: str = f'{get_now_day_str()}_APOGEE' # TODO: Change this as needed, templating isn't actually doing anything rn.\n",
    "\n",
    "known_collected_outputs_paths = [Path(v).resolve() for v in ('C:/Users/pho/repos/Spike3DWorkEnv/Spike3D/output/collected_outputs', '/Users/pho/Dropbox (University of Michigan)/MED-DibaLabDropbox/Data/Pho/Outputs/output/collected_outputs', '/home/halechr/cloud/turbo/Data/Output/collected_outputs', '/home/halechr/FastData/gen_scripts/', '/home/halechr/FastData/collected_outputs/', 'output/gen_scripts/')]\n",
    "collected_outputs_path = find_first_extant_path(known_collected_outputs_paths)\n",
    "assert collected_outputs_path.exists(), f\"collected_outputs_path: '{collected_outputs_path}' does not exist! Is the right computer's config commented out above?\"\n",
    "print(f'collected_outputs_path: \"{collected_outputs_path}\"')\n",
    "active_context = curr_active_pipeline.get_session_context()\n",
    "curr_session_name: str = curr_active_pipeline.session_name # '2006-6-08_14-26-15'\n",
    "CURR_BATCH_OUTPUT_PREFIX: str = f\"{BATCH_DATE_TO_USE}-{curr_session_name}\"\n",
    "print(f'CURR_BATCH_OUTPUT_PREFIX: {CURR_BATCH_OUTPUT_PREFIX}')\n",
    "\n",
    "decoder_user_selected_epoch_times_dict, any_good_selected_epoch_times = DecoderDecodedEpochsResult.load_user_selected_epoch_times(curr_active_pipeline, track_templates=track_templates)\n",
    "print(f'\\tComputation complete. Exporting .CSVs...')\n",
    "\n",
    "# 2024-03-04 - Filter out the epochs based on the criteria:\n",
    "_, _, global_epoch_name = curr_active_pipeline.find_LongShortGlobal_epoch_names()\n",
    "filtered_epochs_df, active_spikes_df = filter_and_update_epochs_and_spikes(curr_active_pipeline, global_epoch_name, track_templates, epoch_id_key_name='ripple_epoch_id', no_interval_fill_value=-1)\n",
    "filtered_valid_epoch_times = filtered_epochs_df[['start', 'stop']].to_numpy()\n",
    "\n",
    "## Export CSVs:\n",
    "t_start, t_delta, t_end = curr_active_pipeline.find_LongShortDelta_times()\n",
    "_output_csv_paths = directional_decoders_epochs_decode_result.export_csvs(parent_output_path=collected_outputs_path.resolve(), active_context=active_context, session_name=curr_session_name, curr_session_t_delta=t_delta,\n",
    "\t\t\t\t\t\t\t\t\t\t\t\t\t\t\t\t\t\t\t  user_annotation_selections={'ripple': any_good_selected_epoch_times},\n",
    "\t\t\t\t\t\t\t\t\t\t\t\t\t\t\t\t\t\t\t  valid_epochs_selections={'ripple': filtered_valid_epoch_times})\n",
    "\n",
    "print(f'\\t\\tsuccessfully exported directional_decoders_epochs_decode_result to {collected_outputs_path}!')\n",
    "_output_csv_paths_info_str: str = '\\n'.join([f'{a_name}: \"{file_uri_from_path(a_path)}\"' for a_name, a_path in _output_csv_paths.items()])\n",
    "# print(f'\\t\\t\\tCSV Paths: {_output_csv_paths}\\n')\n",
    "print(f'\\t\\t\\tCSV Paths: {_output_csv_paths_info_str}\\n')\n",
    "\n",
    "# {'laps_weighted_corr_merged_df': WindowsPath('C:/Users/pho/repos/Spike3DWorkEnv/Spike3D/output/collected_outputs/2024-02-16_0750PM-kdiba_gor01_two_2006-6-07_16-40-19-(laps_weighted_corr_merged_df)_tbin-0.025.csv'),\n",
    "#  'ripple_weighted_corr_merged_df': WindowsPath('C:/Users/pho/repos/Spike3DWorkEnv/Spike3D/output/collected_outputs/2024-02-16_0750PM-kdiba_gor01_two_2006-6-07_16-40-19-(ripple_weighted_corr_merged_df)_tbin-0.025.csv'),\n",
    "#  'laps_simple_pf_pearson_merged_df': WindowsPath('C:/Users/pho/repos/Spike3DWorkEnv/Spike3D/output/collected_outputs/2024-02-16_0750PM-kdiba_gor01_two_2006-6-07_16-40-19-(laps_simple_pf_pearson_merged_df)_tbin-0.025.csv'),\n",
    "#  'ripple_simple_pf_pearson_merged_df': WindowsPath('C:/Users/pho/repos/Spike3DWorkEnv/Spike3D/output/collected_outputs/2024-02-16_0750PM-kdiba_gor01_two_2006-6-07_16-40-19-(ripple_simple_pf_pearson_merged_df)_tbin-0.025.csv')}\n"
   ]
  },
  {
   "cell_type": "code",
   "execution_count": null,
   "id": "40b77273",
   "metadata": {},
   "outputs": [],
   "source": [
    "directional_decoders_epochs_decode_result.ripple_weighted_corr_merged_df"
   ]
  },
  {
   "cell_type": "code",
   "execution_count": null,
   "id": "c3ffc939",
   "metadata": {},
   "outputs": [],
   "source": [
    "filtered_epochs_df"
   ]
  },
  {
   "cell_type": "code",
   "execution_count": null,
   "id": "88335249",
   "metadata": {},
   "outputs": [],
   "source": [
    "any_good_selected_epoch_times"
   ]
  },
  {
   "cell_type": "markdown",
   "id": "f7420982",
   "metadata": {},
   "source": [
    "# 2024-03-04 - Filter out the epochs based on the criteria:"
   ]
  },
  {
   "cell_type": "code",
   "execution_count": null,
   "id": "4dcb021f",
   "metadata": {},
   "outputs": [],
   "source": [
    "# from neuropy.utils.mixins.time_slicing import add_epochs_id_identity\n",
    "from pyphoplacecellanalysis.General.Pipeline.Stages.ComputationFunctions.MultiContextComputationFunctions.DirectionalPlacefieldGlobalComputationFunctions import filter_and_update_epochs_and_spikes\n",
    "\n",
    "# 2024-03-04 - Filter out the epochs based on the criteria:\n",
    "filtered_epochs_df, active_spikes_df = filter_and_update_epochs_and_spikes(curr_active_pipeline, global_epoch_name, track_templates, required_min_percentage_of_active_cells=0.333333, epoch_id_key_name='ripple_epoch_id', no_interval_fill_value=-1)\n",
    "filtered_epochs_df"
   ]
  },
  {
   "cell_type": "markdown",
   "id": "4c68233f",
   "metadata": {},
   "source": [
    "# 2024-03-27 - Look at active set cells"
   ]
  },
  {
   "cell_type": "code",
   "execution_count": null,
   "id": "b7a0cb5e",
   "metadata": {},
   "outputs": [],
   "source": [
    "from neuropy.utils.mixins.HDF5_representable import HDFConvertableEnum\n",
    "from pyphoplacecellanalysis.General.Pipeline.Stages.ComputationFunctions.MultiContextComputationFunctions.LongShortTrackComputations import JonathanFiringRateAnalysisResult\n",
    "from pyphoplacecellanalysis.General.Pipeline.Stages.ComputationFunctions.MultiContextComputationFunctions.LongShortTrackComputations import TruncationCheckingResults\n",
    "\n",
    "\n",
    "## long_short_endcap_analysis:\n",
    "truncation_checking_result: TruncationCheckingResults = curr_active_pipeline.global_computation_results.computed_data.long_short_endcap\n",
    "\n",
    "truncation_checking_result: TruncationCheckingResults = curr_active_pipeline.global_computation_results.computed_data.long_short_endcap\n",
    "truncation_checking_aclus_dict, jonathan_firing_rate_analysis_result.neuron_replay_stats_df = truncation_checking_result.build_truncation_checking_aclus_dict(neuron_replay_stats_df=jonathan_firing_rate_analysis_result.neuron_replay_stats_df)\n",
    "\n",
    "frs_index_inclusion_magnitude:float = 0.5\n",
    "\n",
    "jonathan_firing_rate_analysis_result = JonathanFiringRateAnalysisResult(**curr_active_pipeline.global_computation_results.computed_data.jonathan_firing_rate_analysis.to_dict())\n",
    "\n",
    "## Unrefined:\n",
    "# neuron_replay_stats_df, short_exclusive, long_exclusive, BOTH_subset, EITHER_subset, XOR_subset, NEITHER_subset = jonathan_firing_rate_analysis_result.get_cell_track_partitions(frs_index_inclusion_magnitude=frs_index_inclusion_magnitude)\n",
    "\n",
    "## Refine the LxC/SxC designators using the firing rate index metric:\n",
    "\n",
    "## Get global `long_short_fr_indicies_analysis`:\n",
    "long_short_fr_indicies_analysis_results = curr_active_pipeline.global_computation_results.computed_data['long_short_fr_indicies_analysis']\n",
    "long_short_fr_indicies_df = long_short_fr_indicies_analysis_results['long_short_fr_indicies_df']\n",
    "jonathan_firing_rate_analysis_result.refine_exclusivity_by_inst_frs_index(long_short_fr_indicies_df, frs_index_inclusion_magnitude=frs_index_inclusion_magnitude)\n",
    "\n",
    "neuron_replay_stats_df, *exclusivity_tuple = jonathan_firing_rate_analysis_result.get_cell_track_partitions(frs_index_inclusion_magnitude=frs_index_inclusion_magnitude)\n",
    "# short_exclusive, long_exclusive, BOTH_subset, EITHER_subset, XOR_subset, NEITHER_subset = exclusivity_tuple\n",
    "exclusivity_aclus_tuple = [v.track_exclusive_aclus for v in exclusivity_tuple]\n",
    "exclusivity_aclus_dict = dict(zip(['short_exclusive', 'long_exclusive', 'BOTH', 'EITHER', 'XOR', 'NEITHER'], exclusivity_aclus_tuple))\n",
    "any_aclus = union_of_arrays(*exclusivity_aclus_tuple)\n",
    "exclusivity_aclus_dict['any'] = any_aclus\n",
    "refined_exclusivity_aclus_tuple = [v.get_refined_track_exclusive_aclus() for v in exclusivity_tuple]\n",
    "neuron_replay_stats_df: pd.DataFrame = HDFConvertableEnum.convert_dataframe_columns_for_hdf(neuron_replay_stats_df)\n",
    "\n",
    "# These keys exhaustively span all aclus:\n",
    "exhaustive_key_names = ['short_exclusive', 'long_exclusive', 'BOTH', 'NEITHER']\n",
    "assert np.all(any_aclus == union_of_arrays(*[exclusivity_aclus_dict[k] for k in exhaustive_key_names]))\n",
    "exhaustive_key_dict = {k:v for k, v in exclusivity_aclus_dict.items() if k in exhaustive_key_names}\n",
    "\n",
    "\n",
    "neuron_replay_stats_df"
   ]
  },
  {
   "cell_type": "code",
   "execution_count": null,
   "id": "2294094c",
   "metadata": {},
   "outputs": [],
   "source": [
    "old_any_aclus = np.array([  3,   4,   5,   7,  10,  11,  13,  14,  15,  17,  23,  24,  25,  26,  31,  32,  33,  34,  45,  49,  50,  51,  52,  54,  55,  58,  61,  64,  68,  69,  70,  71,  73,  74,  75,  76,  78,  81,  82,  83,  84,  85,  87,  90,  92,  93,  96,  97, 102, 109])\n",
    "old_appearing_aclus = np.array([ 4, 11, 13, 23, 52, 58, 87])"
   ]
  },
  {
   "cell_type": "code",
   "execution_count": null,
   "id": "af361ab4",
   "metadata": {},
   "outputs": [],
   "source": [
    "any_aclus = union_of_arrays(*[v for v in truncation_checking_aclus_dict.values() if len(v) > 0])\n",
    "any_aclus\n"
   ]
  },
  {
   "cell_type": "code",
   "execution_count": null,
   "id": "2385b808",
   "metadata": {},
   "outputs": [],
   "source": [
    "neuron_replay_stats_df"
   ]
  },
  {
   "cell_type": "code",
   "execution_count": null,
   "id": "520650ce",
   "metadata": {},
   "outputs": [],
   "source": [
    "from neuropy.core.ratemap import Ratemap\n",
    "from neuropy.analyses.placefields import PfND\n",
    "from pyphoplacecellanalysis.SpecificResults.PendingNotebookCode import perform_sweep_lap_groud_truth_performance_testing, _perform_variable_time_bin_lap_groud_truth_performance_testing\n",
    "\n",
    "# desired_laps_decoding_time_bin_size: float = 0.75\n",
    "desired_laps_decoding_time_bin_size: float = 0.5\n",
    "\n",
    "## INPUTS: exclusivity_aclus_tuple, desired_laps_decoding_time_bin_size: float\n",
    "# short_exclusive, long_exclusive, BOTH_subset, EITHER_subset, XOR_subset, NEITHER_subset = exclusivity_aclus_tuple\n",
    "# included_neuron_ids_list = [short_exclusive, long_exclusive, BOTH_subset, EITHER_subset, XOR_subset, NEITHER_subset]\n",
    "\n",
    "# included_neuron_ids_list = [*exclusivity_aclus_tuple]\n",
    "\n",
    "## INPUTS: truncation_checking_aclus_dict\n",
    "included_neuron_ids_list = list(truncation_checking_aclus_dict.values())\n",
    "row_names = list(truncation_checking_aclus_dict.keys())\n",
    "\n",
    "_output_tuples_list = perform_sweep_lap_groud_truth_performance_testing(curr_active_pipeline, \n",
    "\t\t\t\t\t\t\t\t\t\t\t\t\t\t\t\t\t\tincluded_neuron_ids_list=included_neuron_ids_list,\n",
    "\t\t\t\t\t\t\t\t\t\t\t\t\t\t\t\t\t\tdesired_laps_decoding_time_bin_size=desired_laps_decoding_time_bin_size)\n",
    "\n",
    "percent_laps_correctness_df: pd.DataFrame = pd.DataFrame.from_records([complete_decoded_context_correctness_tuple.percent_correct_tuple for (a_directional_merged_decoders_result, result_laps_epochs_df, complete_decoded_context_correctness_tuple) in _output_tuples_list],\n",
    "\t\t\t\t\t\t  columns=(\"track_ID_correct\", \"dir_correct\", \"complete_correct\"), index=row_names)\n",
    "percent_laps_correctness_df\n"
   ]
  },
  {
   "cell_type": "markdown",
   "id": "0fb00384",
   "metadata": {},
   "source": [
    "# 2024-03-29 - Rigorous Decoder Performance assessment\n",
    "Quantify cell contributions to decoders"
   ]
  },
  {
   "cell_type": "code",
   "execution_count": null,
   "id": "1f9715a6",
   "metadata": {},
   "outputs": [],
   "source": [
    "# Inputs: all_directional_pf1D_Decoder, alt_directional_merged_decoders_result\n",
    "from pyphoplacecellanalysis.General.Pipeline.Stages.ComputationFunctions.MultiContextComputationFunctions.DirectionalPlacefieldGlobalComputationFunctions import TrainTestLapsSplitting, CustomDecodeEpochsResult, decoder_name, epoch_split_key, get_proper_global_spikes_df\n",
    "\n",
    "## INPUTS: directional_laps_results, track_templates, directional_laps_results\n",
    "\n",
    "## Split the lap epochs into training and test periods.\n",
    "##### Ideally we could test the lap decoding error by sampling randomly from the time bins and omitting 1/6 of time bins from the placefield building (effectively the training data). These missing bins will be used as the \"test data\" and the decoding error will be computed by decoding them and subtracting the actual measured position during these bins.\n",
    "\n",
    "# ### Get the laps to train on\n",
    "# training_data_portion: float = 9.0/10.0\n",
    "# test_data_portion: float = 1.0 - training_data_portion # test data portion is 1/6 of the total duration\n",
    "# print(f'training_data_portion: {training_data_portion}, test_data_portion: {test_data_portion}')\n",
    "\n",
    "# decoders_dict = deepcopy(track_templates.get_decoders_dict())\n",
    "\n",
    "# # debug_output_hdf5_file_path = Path('output', 'laps_train_test_split.h5').resolve()\n",
    "# debug_output_hdf5_file_path = None\n",
    "\n",
    "# # (train_epochs_dict, test_epochs_dict), train_lap_specific_pf1D_Decoder_dict, split_train_test_lap_specific_configs = TrainTestLapsSplitting.compute_train_test_split_laps_decoders(directional_laps_results, track_templates, training_data_portion=training_data_portion,\n",
    "# #                                                                                                                                                              debug_output_hdf5_file_path=debug_output_hdf5_file_path, debug_plot=False, debug_print=True)  # type: Tuple[Tuple[Dict[str, Any], Dict[str, Any]], Dict[str, BasePositionDecoder], Any]\n",
    "\n",
    "# train_lap_specific_pf1D_Decoder_dict: Dict[str, BasePositionDecoder] = train_lap_specific_pf1D_Decoder_dict\n",
    "\n",
    "\n",
    "from pyphoplacecellanalysis.General.Pipeline.Stages.ComputationFunctions.MultiContextComputationFunctions.DirectionalPlacefieldGlobalComputationFunctions import TrainTestSplitResult\n",
    "\n",
    "directional_train_test_split_result: TrainTestSplitResult = curr_active_pipeline.global_computation_results.computed_data.get('TrainTestSplit', None)\n",
    "if directional_train_test_split_result is None:\n",
    "\t## recompute\n",
    "\tcurr_active_pipeline.perform_specific_computation(computation_functions_name_includelist=['directional_train_test_split'], enabled_filter_names=None, fail_on_exception=True, debug_print=False)\n",
    "\tdirectional_train_test_split_result: TrainTestSplitResult = curr_active_pipeline.global_computation_results.computed_data['TrainTestSplit']\n",
    "\tassert directional_train_test_split_result is not None, f\"faiiled even after recomputation\"\n",
    "\n",
    "training_data_portion: float = directional_train_test_split_result.training_data_portion\n",
    "test_data_portion: float = directional_train_test_split_result.test_data_portion\n",
    "print(f'training_data_portion: {training_data_portion}, test_data_portion: {test_data_portion}')\n",
    "\n",
    "test_epochs_dict: Dict[str, pd.DataFrame] = directional_train_test_split_result.test_epochs_dict\n",
    "train_epochs_dict: Dict[str, pd.DataFrame] = directional_train_test_split_result.train_epochs_dict\n",
    "train_lap_specific_pf1D_Decoder_dict: Dict[str, BasePositionDecoder] = directional_train_test_split_result.train_lap_specific_pf1D_Decoder_dict\n",
    "\n",
    "# OUTPUTS: train_test_split_laps_df_dict\n",
    "\n",
    "# Tuple[Tuple[Dict, Dict], Dict[str, BasePositionDecoder], Dict]\n",
    "\n",
    "# OUTPUTS: test_epochs_dict, train_epochs_dict, train_lap_specific_pf1D_Decoder_dict\n",
    "\n",
    "# ## Get test epochs:\n",
    "# train_epoch_names: List[str] = [k for k in train_test_split_laps_df_dict.keys() if k.endswith('_train')]\n",
    "# test_epoch_names: List[str] = [k for k in train_test_split_laps_df_dict.keys() if k.endswith('_test')]\n",
    "# train_lap_specific_pf1D_Decoder_dict: Dict[str,BasePositionDecoder] = {k.split('_train', maxsplit=1)[0]:split_train_test_lap_specific_pf1D_Decoder_dict[k] for k in train_epoch_names} # the `k.split('_train', maxsplit=1)[0]` part just gets the original key like 'long_LR'\n",
    "# test_epochs_dict: Dict[str,Epoch] = {k.split('_test', maxsplit=1)[0]:v for k,v in train_test_split_laps_epoch_obj_dict.items() if k.endswith('_test')} # the `k.split('_test', maxsplit=1)[0]` part just gets the original key like 'long_LR'\n",
    "\n",
    "# a_training_test_split_laps_epoch_obj_dict[a_training_test_names[0]].to_hdf('output/laps_train_test_split.h5', f'{a_train_epoch_name}/laps_training_df')\n"
   ]
  },
  {
   "cell_type": "code",
   "execution_count": null,
   "id": "e5d0456a",
   "metadata": {},
   "outputs": [],
   "source": [
    "from pyphoplacecellanalysis.General.Pipeline.Stages.ComputationFunctions.MultiContextComputationFunctions.DirectionalPlacefieldGlobalComputationFunctions import _do_custom_decode_epochs_dict\n",
    "\n",
    "active_laps_decoding_time_bin_size: float = 0.75\n",
    "\n",
    "global_spikes_df: pd.DataFrame = get_proper_global_spikes_df(curr_active_pipeline)\n",
    "global_measured_position_df: pd.DataFrame = deepcopy(curr_active_pipeline.sess.position.to_dataframe()).dropna(subset=['lap']) # computation_result.sess.position.to_dataframe()\n",
    "\n",
    "# Dict[epoch_split_key, Dict[decoder_name, CustomDecodeEpochsResult]]\n",
    "\n",
    "## INPUTS: flat_epochs_to_decode_dict, active_laps_decoding_time_bin_size\n",
    "## Decoding of the test epochs (what matters):\n",
    "test_decoder_results_dict: Dict[decoder_name, CustomDecodeEpochsResult] = _do_custom_decode_epochs_dict(global_spikes_df=global_spikes_df, global_measured_position_df=global_measured_position_df,\n",
    "\t\t\t\t\t\t\t\t\t\t\t\t\t\t\t\t\t\t\t\t\t\t\t\t\t\t\t\t\t\t\t\t pf1D_Decoder_dict=train_lap_specific_pf1D_Decoder_dict,\n",
    "\t\t\t\t\t\t\t\t\t\t\t\t\t\t\t\t\t\t\t\t\t\t\t\t\t\t\t\t\t\t\t\t epochs_to_decode_dict=test_epochs_dict, \n",
    "\t\t\t\t\t\t\t\t\t\t\t\t\t\t\t\t\t\t\t\t\t\t\t\t\t\t\t\t\t\t\t\t decoding_time_bin_size=active_laps_decoding_time_bin_size,\n",
    "\t\t\t\t\t\t\t\t\t\t\t\t\t\t\t\t\t\t\t\t\t\t\t\t\t\t\t\t\t\t\t\t decoder_and_epoch_keys_independent=False)\n",
    "\n",
    "\n",
    "# flat_epochs_to_decode_dict = {f'{k}_train':v for k,v in train_epochs_dict.items()} | {f'{k}_test':v for k,v in test_epochs_dict.items()} # (train_epochs_dict, test_epochs_dict)\n",
    "# final_decoder_results_dict: Dict[epoch_split_key, Dict[decoder_name, CustomDecodeEpochsResult]] = _do_custom_decode_epochs_dict(curr_active_pipeline,\n",
    "#                                                                                                                                  pf1D_Decoder_dict=train_lap_specific_pf1D_Decoder_dict,\n",
    "#                                                                                                                                  epochs_to_decode_dict=flat_epochs_to_decode_dict,\n",
    "#                                                                                                                                  decoding_time_bin_size=active_laps_decoding_time_bin_size,\n",
    "#                                                                                                                                  decoder_and_epoch_keys_independent=True) # epochs_to_decode_dict.keys(): ['long_LR_train', 'long_RL_train', 'short_LR_train', 'short_RL_train', 'long_LR_test', 'long_RL_test', 'short_LR_test', 'short_RL_test']\n",
    "# matched_decoder_epochs_final_decoder_results_dict: Dict[decoder_name, CustomDecodeEpochsResult] = {k:v[k.replace('_train', '').replace('_test', '')] for k, v in final_decoder_results_dict.items()} # flatten down to only the matching decoder\n",
    "# matched_decoder_epochs_final_decoder_results_dict\n",
    "# print(list(matched_decoder_epochs_final_decoder_results_dict.keys())) # ['long_LR_train', 'long_RL_train', 'short_LR_train', 'short_RL_train', 'long_LR_test', 'long_RL_test', 'short_LR_test', 'short_RL_test']\n"
   ]
  },
  {
   "cell_type": "code",
   "execution_count": null,
   "id": "e034df19",
   "metadata": {},
   "outputs": [],
   "source": [
    "from pyphoplacecellanalysis.General.Pipeline.Stages.ComputationFunctions.MultiContextComputationFunctions.DirectionalPlacefieldGlobalComputationFunctions import compute_weighted_correlations\n",
    "\n",
    "## INPUTS: test_decoder_results_dict\n",
    "train_decoded_results_dict: Dict[str, DecodedFilterEpochsResult] = {k:v.decoder_result for k, v in test_decoder_results_dict.items()}\n",
    "\n",
    "weighted_corr_data_dict = compute_weighted_correlations(train_decoded_results_dict, debug_print=True)\n",
    "weighted_corr_data_dict\n",
    "train_decoded_wcorr_df = pd.concat(weighted_corr_data_dict)\n",
    "train_decoded_wcorr_df\n",
    "# a_decoded_measured_diff_df: pd.DataFrame = test_decoder_results_dict['long_LR'].measured_decoded_position_comparion.decoded_measured_diff_df\n",
    "train_decoded_measured_diff_df_dict: Dict[str, pd.DataFrame] = {k:v.measured_decoded_position_comparion.decoded_measured_diff_df for k, v in test_decoder_results_dict.items()}"
   ]
  },
  {
   "cell_type": "code",
   "execution_count": null,
   "id": "ce176e84",
   "metadata": {},
   "outputs": [],
   "source": [
    "from pyphoplacecellanalysis.Pho2D.statistics_plotting_helpers import pho_jointplot\n",
    "import seaborn as sns\n",
    "\n",
    "plot_key: str = 'err_cm'\n",
    "\n",
    "# Plot each list as a separate time series\n",
    "plt.figure(figsize=(10, 6))\n",
    "for key, value in train_decoded_measured_diff_df_dict.items():\n",
    "\t# sns.lineplot(x=range(len(value)), y=value, label=key)\n",
    "\t_out_line = sns.lineplot(data=value, x='t', y=plot_key, label=key)\n",
    "\t_out_scatter = sns.scatterplot(data=value, x='t', y=plot_key) # no `, label=key` because we only want one entry in the legend\n",
    "\n",
    "plt.xlabel('lap_center_t (sec)')\n",
    "plt.ylabel('mean_error [cm]')\n",
    "plt.title('LAp Decoding Error')\n",
    "plt.legend()\n",
    "plt.show()"
   ]
  },
  {
   "cell_type": "code",
   "execution_count": null,
   "id": "10117f91",
   "metadata": {},
   "outputs": [],
   "source": [
    "active_epochs_dict = {k:Epoch(ensure_dataframe(v.measured_decoded_position_comparion.decoded_measured_diff_df)) for k, v in test_decoder_results_dict.items()}\n",
    "active_epochs_dict"
   ]
  },
  {
   "cell_type": "code",
   "execution_count": null,
   "id": "ea20e747",
   "metadata": {},
   "outputs": [],
   "source": [
    "active_epochs_dict = {k:Epoch(ensure_dataframe(v)) for k, v in train_decoded_measured_diff_df_dict.items()}\n",
    "active_epochs_dict"
   ]
  },
  {
   "cell_type": "markdown",
   "id": "48f8f168",
   "metadata": {},
   "source": [
    "# 2024-04-03 - Time-bin effect on lap decoding:"
   ]
  },
  {
   "cell_type": "code",
   "execution_count": null,
   "id": "ea00ca28",
   "metadata": {},
   "outputs": [],
   "source": [
    "from attrs import make_class\n",
    "from pyphoplacecellanalysis.General.Batch.BatchJobCompletion.UserCompletionHelpers.batch_user_completion_helpers import perform_sweep_decoding_time_bin_sizes_marginals_dfs_completion_function\n",
    "\n",
    "return_full_decoding_results: bool = True\n",
    "desired_laps_decoding_time_bin_size = np.linspace(start=0.030, stop=1.0, num=4)\n",
    "\n",
    "\n",
    "a_dummy = SimpleBatchComputationDummy(BATCH_DATE_TO_USE, collected_outputs_path, False)\n",
    "custom_all_param_sweep_options, param_sweep_option_n_values = parameter_sweeps(desired_laps_decoding_time_bin_size=desired_laps_decoding_time_bin_size,\n",
    "\t\t\t\t\t\t\t\t\t\t\t\t\t\t\t\t\t\tuse_single_time_bin_per_epoch=[False],\n",
    "\t\t\t\t\t\t\t\t\t\t\t\t\t\t\t\t\t\tminimum_event_duration=[desired_laps_decoding_time_bin_size[-1]])\n",
    "\n",
    "\n",
    "_across_session_results_extended_dict = {}\n",
    "## Combine the output of `perform_sweep_decoding_time_bin_sizes_marginals_dfs_completion_function` into two dataframes for the laps, one per-epoch and one per-time-bin\n",
    "_across_session_results_extended_dict = _across_session_results_extended_dict | perform_sweep_decoding_time_bin_sizes_marginals_dfs_completion_function(a_dummy, None,\n",
    "\t\t\t\t\t\t\t\t\t\t\t\tcurr_session_context=curr_active_pipeline.get_session_context(), curr_session_basedir=curr_active_pipeline.sess.basepath.resolve(), curr_active_pipeline=curr_active_pipeline,\n",
    "\t\t\t\t\t\t\t\t\t\t\t\tacross_session_results_extended_dict=_across_session_results_extended_dict, return_full_decoding_results=return_full_decoding_results,\n",
    "\t\t\t\t\t\t\t\t\t\t\t\tsave_hdf=True, save_csvs=True,\n",
    "\t\t\t\t\t\t\t\t\t\t\t\t# desired_shared_decoding_time_bin_sizes = np.linspace(start=0.030, stop=0.5, num=4),\n",
    "\t\t\t\t\t\t\t\t\t\t\t\tcustom_all_param_sweep_options=custom_all_param_sweep_options, # directly provide the parameter sweeps\n",
    "\t\t\t\t\t\t\t\t\t\t\t\t)\n",
    "if return_full_decoding_results:\n",
    "\t# with `return_full_decoding_results == True`\n",
    "\tout_path, output_laps_decoding_accuracy_results_df, output_extracted_result_tuples, combined_multi_timebin_outputs_tuple, output_full_directional_merged_decoders_result = _across_session_results_extended_dict['perform_sweep_decoding_time_bin_sizes_marginals_dfs_completion_function']\n",
    "\t# validate the result:\n",
    "\t# {k:v.all_directional_laps_filter_epochs_decoder_result.decoding_time_bin_size for k,v in output_full_directional_merged_decoders_result.items()}\n",
    "\t# assert np.all([np.isclose(dict(k)['desired_shared_decoding_time_bin_size'], v.all_directional_laps_filter_epochs_decoder_result.decoding_time_bin_size) for k,v in output_full_directional_merged_decoders_result.items()]), f\"the desired time_bin_size in the parameters should match the one used that will appear in the decoded result\"\n",
    "\n",
    "\n",
    "else:\n",
    "\t# with `return_full_decoding_results == False`\n",
    "\tout_path, output_laps_decoding_accuracy_results_df, output_extracted_result_tuples, combined_multi_timebin_outputs_tuple = _across_session_results_extended_dict['perform_sweep_decoding_time_bin_sizes_marginals_dfs_completion_function']\n",
    "\toutput_full_directional_merged_decoders_result = None\n",
    "\n",
    "(several_time_bin_sizes_laps_df, laps_out_path, several_time_bin_sizes_time_bin_laps_df, laps_time_bin_marginals_out_path), (several_time_bin_sizes_ripple_df, ripple_out_path, several_time_bin_sizes_time_bin_ripple_df, ripple_time_bin_marginals_out_path) = combined_multi_timebin_outputs_tuple\n"
   ]
  },
  {
   "cell_type": "code",
   "execution_count": null,
   "id": "9da04be4",
   "metadata": {},
   "outputs": [],
   "source": [
    "a_dummy"
   ]
  },
  {
   "cell_type": "code",
   "execution_count": null,
   "id": "01d97fe2",
   "metadata": {},
   "outputs": [],
   "source": [
    "from pyphoplacecellanalysis.General.Pipeline.Stages.ComputationFunctions.MultiContextComputationFunctions.DirectionalPlacefieldGlobalComputationFunctions import _show_sweep_result\n",
    "\n",
    "## INPUTS: output_full_directional_merged_decoders_result\n",
    "\n",
    "\n",
    "## RUN\n",
    "global_measured_position_df: pd.DataFrame = deepcopy(curr_active_pipeline.sess.position.to_dataframe()).dropna(subset=['lap']) # computation_result.sess.position.to_dataframe()\n",
    "# sweep_key_name: str=\"desired_shared_decoding_time_bin_size\"\n",
    "sweep_key_name: str=\"desired_laps_decoding_time_bin_size\"\n",
    "_out_pagination_controller, (all_swept_measured_positions_dfs_dict, all_swept_decoded_positions_df_dict, all_swept_decoded_measured_diff_df_dict) = _show_sweep_result(output_full_directional_merged_decoders_result, global_measured_position_df=global_measured_position_df,\n",
    "\t\t\t\t\t\t\t\t\t\t\t\t\t\t\t\t\t\t\t\t\t\t\t\t\t\t\t\t\t\t\t\t\t\t\t\t\t\txbin=long_results_obj.original_1D_decoder.xbin,\n",
    "\t\t\t\t\t\t\t\t\t\t\t\t\t\t\t\t\t\t\t\t\t\t\t\t\t\t\t\t\t\t\t\t\t\t\t\t\t\tactive_context=curr_active_pipeline.build_display_context_for_session(display_fn_name='DecodedEpochSlices', epochs='laps', decoder='all_dir'),\n",
    "\t\t\t\t\t\t\t\t\t\t\t\t\t\t\t\t\t\t\t\t\t\t\t\t\t\t\t\t\t\t\t\t\t\t\t\t\t\tsweep_params_idx=2, sweep_key_name=sweep_key_name, max_subplots_per_page=4)\n",
    "# _out_pagination_controller\n",
    "\n"
   ]
  },
  {
   "cell_type": "code",
   "execution_count": null,
   "id": "ed630cfc",
   "metadata": {},
   "outputs": [],
   "source": [
    "desired_laps_decoding_time_bin_size"
   ]
  },
  {
   "cell_type": "code",
   "execution_count": null,
   "id": "150e8f9a",
   "metadata": {},
   "outputs": [],
   "source": [
    "## Context Mask - provides additional information about an Identifying context, like whether a certain component of it should print:\n",
    "# has tags like 'print_debug', 'print_session', 'print_across_sessions'\n"
   ]
  },
  {
   "cell_type": "code",
   "execution_count": null,
   "id": "f52d49a3",
   "metadata": {},
   "outputs": [],
   "source": [
    "from pyphoplacecellanalysis.General.Pipeline.Stages.ComputationFunctions.MultiContextComputationFunctions.DirectionalPlacefieldGlobalComputationFunctions import CustomDecodeEpochsResult\n",
    "\n",
    "\n",
    "## INPUTS: output_full_directional_merged_decoders_result\n",
    "\n",
    "# Interpolated measured position DataFrame - looks good\n",
    "global_measured_position_df: pd.DataFrame = deepcopy(curr_active_pipeline.sess.position.to_dataframe()).dropna(subset=['lap']) # computation_result.sess.position.to_dataframe()\n",
    "all_swept_measured_positions_dfs_dict, all_swept_decoded_positions_df_dict, all_swept_decoded_measured_diff_df_dict = CustomDecodeEpochsResult.build_measured_decoded_position_comparison({k:deepcopy(v.all_directional_laps_filter_epochs_decoder_result) for k, v in output_full_directional_merged_decoders_result.items()}, global_measured_position_df=global_measured_position_df)\n",
    "# all_swept_decoded_measured_diff_df_dict = {k:pd.DataFrame(v, columns=['t', 'err']) for k, v in all_swept_decoded_measured_diff_df_dict.items()}\n",
    "\n",
    "# global_measured_position_df: pd.DataFrame = deepcopy(curr_active_pipeline.sess.position.to_dataframe()).dropna(subset=['lap']) # computation_result.sess.position.to_dataframe()\n",
    "# test_measured_positions_dfs_dict, test_decoded_positions_df_dict, test_decoded_measured_diff_df_dict = CustomDecodeEpochsResult.build_measured_decoded_position_comparison(test_laps_decoder_results_dict, global_measured_position_df=global_measured_position_df)\n",
    "# train_measured_positions_dfs_dict, train_decoded_positions_df_dict, train_decoded_measured_diff_df_dict = CustomDecodeEpochsResult.build_measured_decoded_position_comparison(train_laps_decoder_results_dict, global_measured_position_df=global_measured_position_df)\n",
    "\n",
    "\n",
    "## OUTPUTS: all_swept_measured_positions_dfs_dict, all_swept_decoded_positions_df_dict, all_swept_decoded_measured_diff_df_dict\n",
    "all_swept_decoded_measured_diff_df_dict"
   ]
  },
  {
   "cell_type": "code",
   "execution_count": null,
   "id": "bdca7685",
   "metadata": {},
   "outputs": [],
   "source": [
    "import seaborn as sns\n",
    "\n",
    "# # Plot the time series using Seaborn\n",
    "# plt.figure(figsize=(10, 6))\n",
    "# sns.lineplot(data=df_melted, x=df_melted.index, y='value', hue='type')\n",
    "# plt.xlabel('Index')\n",
    "# plt.ylabel('Value')\n",
    "# plt.title('Time Series Plot')\n",
    "# plt.show()\n",
    "\n",
    "sweep_key_name: str=\"desired_laps_decoding_time_bin_size\"\n",
    "\n",
    "## INPUTS: all_swept_decoded_measured_diff_df_dict, sweep_key_name,\n",
    "\n",
    "\n",
    "# Plot each list as a separate time series\n",
    "plt.figure(figsize=(10, 6))\n",
    "for key, error_df in all_swept_decoded_measured_diff_df_dict.items():\n",
    "\t# convert frozenset back to dict\n",
    "\ta_sweep_params_dict = {s[0]:s[1] for i, s in enumerate(key)}\n",
    "\t# error_df['err_cm'] = np.sqrt(error_df['err'])\n",
    "\n",
    "\t# plot_key: str = 'err'\n",
    "\tplot_key: str = 'err_cm'\n",
    "\t\n",
    "\tkey_label = f'{round(a_sweep_params_dict[sweep_key_name], ndigits=3)}s'\n",
    "\t# sns.lineplot(x=range(len(value)), y=value, label=key)\n",
    "\t_out_line = sns.lineplot(data=error_df, x='t', y=plot_key, label=key_label)\n",
    "\t_out_scatter = sns.scatterplot(data=error_df, x='t', y=plot_key) #  label=key_label, legend=None\n",
    "\n",
    "\n",
    "plt.xlabel('lap_center_t (sec)')\n",
    "plt.ylabel('mean_squared_error')\n",
    "plt.title('All Swept Time Bin Sizes Lap Decoding Error')\n",
    "plt.legend()\n",
    "plt.show()\n"
   ]
  },
  {
   "cell_type": "code",
   "execution_count": null,
   "id": "d321945c",
   "metadata": {},
   "outputs": [],
   "source": [
    "#### 2024-04-03 - Interactively show the lap decoding performance for a single time bin size:\n",
    "from pyphoplacecellanalysis.Pho2D.stacked_epoch_slices import DecodedEpochSlicesPaginatedFigureController\n",
    "\n",
    "\n",
    "_out_pagination_controller = DecodedEpochSlicesPaginatedFigureController.init_from_decoder_data(an_all_directional_laps_filter_epochs_decoder_result.active_filter_epochs,\n",
    "\t\t\t\t\t\t\t\t\t\t\t\t\t\t\t\t\t\t\t\t\t\t\t\t\t\t\t\t\t\t\t\t\t\t\t\t\t\t\t\t\t\t\t\t\t\tan_all_directional_laps_filter_epochs_decoder_result,\n",
    "\t\t\t\t\t\t\t\t\t\t\t\t\t\t\t\t\t\t\t\t\t\t\t\t\t\t\t\t\t\t\t\t\t\t\t\t\t\t\t\t\t\t\t\t\t\txbin=long_results_obj.original_1D_decoder.xbin, global_pos_df=global_session.position.df,\n",
    "\t\t\t\t\t\t\t\t\t\t\t\t\t\t\t\t\t\t\t\t\t\t\t\t\t\t\t\t\t\t\t\t\t\t\t\t\t\t\t\t\t\t\t\t\t\tactive_context=curr_active_pipeline.build_display_context_for_session(display_fn_name='DecodedEpochSlices',\n",
    "\t\t\t\t\t\t\t\t\t\t\t\t\t\t\t\t\t\t\t\t\t\t\t\t\t\t\t\t\t\t\t\t\t\t\t\t\t\t\t\t\t\t\t\t\t\t\t\t\t\t\t\t\t\t\t\t\t\t\t\t\t\t\t\t\t\t\t\t\t\t\t\t\t\t\t\t\t\t\t\t#   t_bin=f'{an_all_directional_laps_filter_epochs_decoder_result.decoding_time_bin_size}s',\n",
    "\t\t\t\t\t\t\t\t\t\t\t\t\t\t\t\t\t\t\t\t\t\t\t\t\t\t\t\t\t\t\t\t\t\t\t\t\t\t\t\t\t\t\t\t\t\t\t\t\t\t\t\t\t\t\t\t\t\t\t\t\t\t\t\t\t\t\t\t\t\t\t\t\t\t\t\t\t\t\t\t\tt_bin=f\"{a_sweep_params_dict['desired_shared_decoding_time_bin_size']}s\",\n",
    "\t\t\t\t\t\t\t\t\t\t\t\t\t\t\t\t\t\t\t\t\t\t\t\t\t\t\t\t\t\t\t\t\t\t\t\t\t\t\t\t\t\t\t\t\t\t\t\t\t\t\t\t\t\t\t\t\t\t\t\t\t\t\t\t\t\t\t\t\t\t\t\t\t\t\t\t\t\t\t\t\t epochs='laps', decoder='all_dir'),\n",
    "\t\t\t\t\t\t\t\t\t\t\t\t\t\t\t\t\t\t\t\t\t\t\t\t\t\t\t\t\t\t\t\t\t\t\t\t\t\t\t\t\t\t\t\t\t\ta_name='an_all_directional_laps_filter_epochs_decoder_result', max_subplots_per_page=20)\n",
    "_out_pagination_controller"
   ]
  },
  {
   "cell_type": "code",
   "execution_count": null,
   "id": "9fbcd125",
   "metadata": {},
   "outputs": [],
   "source": [
    "from pyphoplacecellanalysis.General.Pipeline.Stages.ComputationFunctions.MultiContextComputationFunctions.DirectionalPlacefieldGlobalComputationFunctions import compute_weighted_correlations\n",
    "\n",
    "\n",
    "# out_wcorr_df_dict = compute_weighted_correlations({k:[a_p_x_given_n for a_p_x_given_n in deepcopy(v.all_directional_laps_filter_epochs_decoder_result.p_x_given_n_list)] for k, v in output_full_directional_merged_decoders_result.items()})\n",
    "\n"
   ]
  },
  {
   "cell_type": "code",
   "execution_count": null,
   "id": "c2f59e68",
   "metadata": {},
   "outputs": [],
   "source": [
    "a_result: DirectionalPseudo2DDecodersResult = list(output_full_directional_merged_decoders_result.values())[-2]\n",
    "all_directional_laps_filter_epochs_decoder_result: DecodedFilterEpochsResult = a_result.all_directional_laps_filter_epochs_decoder_result\n",
    "\n",
    "# out_wcorr_df_dict = compute_weighted_correlations({k:deepcopy(v.all_directional_laps_filter_epochs_decoder_result) for k, v in output_full_directional_merged_decoders_result.items()})\n",
    "# out_wcorr_df_dict = compute_weighted_correlations({'out': all_directional_laps_filter_epochs_decoder_result})\n",
    "\n"
   ]
  },
  {
   "cell_type": "markdown",
   "id": "4997b1e4",
   "metadata": {},
   "source": [
    "# Completely Different"
   ]
  },
  {
   "cell_type": "code",
   "execution_count": null,
   "id": "2b61ed49",
   "metadata": {},
   "outputs": [],
   "source": [
    "from pyphoplacecellanalysis.General.Pipeline.Stages.ComputationFunctions.MultiContextComputationFunctions.DirectionalPlacefieldGlobalComputationFunctions import add_laps_groundtruth_information_to_dataframe\n",
    "\n",
    "laps_weighted_corr_merged_df = add_laps_groundtruth_information_to_dataframe(curr_active_pipeline=curr_active_pipeline, result_laps_epochs_df=laps_weighted_corr_merged_df)\n",
    "laps_weighted_corr_merged_df\n",
    "# laps_weighted_corr_merged_df[laps_weighted_corr_merged_df['best_decoder_index'] != laps_weighted_corr_merged_df['true_decoder_index']]\n",
    "# laps_weighted_corr_merged_df[laps_weighted_corr_merged_df['best_decoder_index'] == laps_weighted_corr_merged_df['true_decoder_index']]"
   ]
  },
  {
   "cell_type": "code",
   "execution_count": null,
   "id": "f8e57782",
   "metadata": {},
   "outputs": [],
   "source": [
    "laps_weighted_corr_merged_df.to_clipboard(excel=True)"
   ]
  },
  {
   "cell_type": "code",
   "execution_count": null,
   "id": "325be3c2",
   "metadata": {},
   "outputs": [],
   "source": [
    "## INPUTS: decoder_laps_filter_epochs_decoder_result_dict: Dict[str, DecodedFilterEpochsResult], decoder_laps_radon_transform_df_dict, decoder_laps_radon_transform_extras_dict,\n",
    "# laps_weighted_corr_merged_df: pd.DataFrame, decoder_laps_weighted_corr_df_dict: Dict[str, pd.DataFrame],\n",
    "# laps_simple_pf_pearson_merged_df: pd.DataFrame\n",
    "# laps_simple_pf_pearson_merged_df\n",
    "laps_weighted_corr_merged_df\n",
    "\n",
    "# ['best_decoder_index'] # gives the index of the decoder with the best value of wcorr\n"
   ]
  },
  {
   "cell_type": "code",
   "execution_count": null,
   "id": "88c477ab",
   "metadata": {},
   "outputs": [],
   "source": [
    "## Get the ground truth for the decoded laps:\n",
    "groudtruth_laps_epochs_df: pd.DataFrame = directional_merged_decoders_result.add_groundtruth_information(curr_active_pipeline=curr_active_pipeline)\n",
    "groudtruth_laps_epochs_df\n",
    "\n",
    "groundtruth_column_names = ['maze_id', 'is_LR_dir', 'is_most_likely_track_identity_Long', 'is_most_likely_direction_LR']\n",
    "groudtruth_laps_epochs_df[groundtruth_column_names]\n",
    "\n",
    "lap_idxs = groudtruth_laps_epochs_df['lap_id'] - 1\n",
    "lap_idxs\n",
    "## add the truth columns to `laps_weighted_corr_merged_df`:\n",
    "laps_weighted_corr_merged_df[groundtruth_column_names] = groudtruth_laps_epochs_df[groundtruth_column_names]\n",
    "laps_weighted_corr_merged_df"
   ]
  },
  {
   "cell_type": "code",
   "execution_count": null,
   "id": "a6402fe8",
   "metadata": {},
   "outputs": [],
   "source": [
    "from pyphoplacecellanalysis.PhoPositionalData.plotting.laps import plot_lap_trajectories_3d\n",
    "## single_combined_plot == True mode (mode 1.):\n",
    "p, laps_pages = plot_lap_trajectories_3d(curr_active_pipeline.sess, single_combined_plot=True)\n",
    "p.show()\n"
   ]
  },
  {
   "cell_type": "code",
   "execution_count": null,
   "id": "7be575eb",
   "metadata": {},
   "outputs": [],
   "source": [
    "\n",
    "## single_combined_plot == False mode (mode 2.):        \n",
    "p, laps_pages = plot_lap_trajectories_3d(curr_active_pipeline.sess, single_combined_plot=False, curr_num_subplots=len(curr_active_pipeline.sess.laps.lap_id), active_page_index=1)\n",
    "p.show()"
   ]
  },
  {
   "cell_type": "markdown",
   "id": "cea9be02",
   "metadata": {},
   "source": [
    "## 📈 2024-03-07 - measured v. best-decoded Position + Derivatives Plotting\n"
   ]
  },
  {
   "cell_type": "code",
   "execution_count": null,
   "id": "6505da18",
   "metadata": {},
   "outputs": [],
   "source": [
    "from pyphoplacecellanalysis.Analysis.position_derivatives import _compute_pos_derivs\n",
    "from pyphoplacecellanalysis.Analysis.Decoder.heuristic_replay_scoring import HeuristicReplayScoring, HeuristicScoresTuple\n",
    "\n",
    "measured_position_df = deepcopy(curr_active_pipeline.sess.position.to_dataframe())\n",
    "# # lap positions only:\n",
    "# measured_position_df = measured_position_df[~measured_position_df['lap'].isnull()] # only get the positions during the laps\n",
    "# measured_position_df['lap'] = measured_position_df['lap'].astype('int64')\n",
    "measured_position_df\n",
    "\n",
    "new_measured_pos_df: pd.DataFrame = _compute_pos_derivs(measured_position_df['t'].to_numpy(), position=deepcopy(measured_position_df['lin_pos'].to_numpy()), decoding_time_bin_size=laps_decoding_time_bin_size) \n",
    "# new_measured_pos_df\n",
    "\n",
    "extra_column_names = ['lap', 'lap_dir'] # 'y', \n",
    "assert np.shape(new_measured_pos_df)[0] == np.shape(measured_position_df)[0]\n",
    "new_measured_pos_df[extra_column_names] = measured_position_df[extra_column_names].copy()\n",
    "\n",
    "# lap positions only:\n",
    "new_measured_pos_df = new_measured_pos_df[~new_measured_pos_df['lap'].isnull()] # only get the positions during the laps\n",
    "new_measured_pos_df['lap'] = new_measured_pos_df['lap'].astype('int64')\n",
    "new_measured_pos_df\n",
    "\n",
    "\n",
    "# new_measured_pos_df['lap_dir'] = new_measured_pos_df['lap_dir'].astype('int64')\n",
    "\n",
    "# new_measured_pos_df\n",
    "\n",
    "# new_measured_pos_df.describe()\n",
    "\n",
    "\n",
    "# a_decoded_filter_epochs_decoder_result_dict: Dict[str, DecodedFilterEpochsResult] = deepcopy(decoder_ripple_filter_epochs_decoder_result_dict)\n",
    "a_decoded_filter_epochs_decoder_result_dict: Dict[str, DecodedFilterEpochsResult] = deepcopy(decoder_laps_filter_epochs_decoder_result_dict)\n",
    "\n",
    "# all_epochs_position_derivatives_df_dict_dict = {}\n",
    "all_epochs_position_derivatives_df_dict: Dict[str, pd.DataFrame] = {}\n",
    "_out_new_scores = {}\n",
    "\n",
    "# a_decoded_filter_epochs_decoder_result_dict: Dict[str, DecodedFilterEpochsResult] = deepcopy(decoder_ripple_filter_epochs_decoder_result_dict)\n",
    "for an_epoch_type_name, a_decoded_filter_epochs_decoder_result_dict in zip(('lap', 'ripple'), (deepcopy(decoder_laps_filter_epochs_decoder_result_dict), deepcopy(decoder_ripple_filter_epochs_decoder_result_dict))):\n",
    "\t# all_epochs_position_derivatives_df_dict_dict[an_epoch_type_name] =\n",
    "\t# any_good_selected_epoch_times = deepcopy(paginated_multi_decoder_decoded_epochs_window.any_good_selected_epoch_times)\n",
    "\t# any_good_selected_epoch_indicies = deepcopy(paginated_multi_decoder_decoded_epochs_window.find_data_indicies_from_epoch_times(paginated_multi_decoder_decoded_epochs_window.any_good_selected_epoch_times))\n",
    "\t# any_good_selected_epoch_indicies\n",
    "\n",
    "\t# with suppress_print_context():\n",
    "\t# with disable_function_context(builtins, \"print\"):\n",
    "\t# _out_new_scores = {}\n",
    "\t# an_epoch_idx: int = 0 # 7\n",
    "\taxs = None\n",
    "\t# all_epochs_position_derivatives_df_dict: Dict[str, pd.DataFrame] = {}\n",
    "\tfor a_decoder_name, a_result in a_decoded_filter_epochs_decoder_result_dict.items():\n",
    "\t\t# print(f'\\na_name: {a_name}')\n",
    "\t\tcombined_key: str = f\"_\".join([an_epoch_type_name, a_decoder_name])\n",
    "\t\t\t\t\t\t\t\t\t  \n",
    "\t\t# 🟪 2024-02-29 - `compute_pho_heuristic_replay_scores`\n",
    "\t\t# directional_decoders_epochs_decode_result.decoder_ripple_filter_epochs_decoder_result_dict, _out_new_scores = HeuristicReplayScoring.compute_all_heuristic_scores(track_templates=track_templates, a_decoded_filter_epochs_decoder_result_dict=directional_decoders_epochs_decode_result.decoder_ripple_filter_epochs_decoder_result_dict)\n",
    "\t\t_out_new_scores[combined_key] = [HeuristicReplayScoring.compute_pho_heuristic_replay_scores(a_result=a_result, an_epoch_idx=an_epoch_idx, enable_debug_plot=False, debug_plot_axs=axs, debug_plot_name=f\"{combined_key}\") for an_epoch_idx in np.arange(a_result.num_filter_epochs)]\n",
    "\t\tall_epochs_position_derivatives_df_dict[combined_key] = pd.concat([a_scores.position_derivatives_df for a_scores in _out_new_scores[combined_key]], ignore_index=True)\n",
    "\n",
    "_out_new_scores\n",
    "\n",
    "## Outputs: all_epochs_position_derivatives_df_dict, _out_new_scores, (measured_position_df, new_measured_pos_df)\n",
    "\n",
    "\t"
   ]
  },
  {
   "cell_type": "code",
   "execution_count": null,
   "id": "a41abbe7",
   "metadata": {},
   "outputs": [],
   "source": [
    "from pyphoplacecellanalysis.Analysis.position_derivatives import debug_plot_helper_add_position_and_derivatives\n",
    "\n",
    "\n",
    "fig, debug_plot_axs = debug_plot_helper_add_position_and_derivatives(new_measured_pos_df['t'].to_numpy(), new_measured_pos_df['x'].to_numpy(), new_measured_pos_df['vel_x'].to_numpy(), new_measured_pos_df['accel_x'].to_numpy(),\n",
    "\t\t\t\t\t\t\t\t\t\t\t\t\t\t\t\t\t\tdebug_plot_axs=None, debug_plot_name='measured', common_plot_kwargs=dict(color='k', markersize='5', marker='.', linestyle='None', alpha=0.35))\n"
   ]
  },
  {
   "cell_type": "code",
   "execution_count": null,
   "id": "fc1bdd9a",
   "metadata": {},
   "outputs": [],
   "source": [
    "from pyphoplacecellanalysis.Analysis.position_derivatives import debug_plot_position_and_derivatives_figure\n",
    "\n",
    "## INPUTS: new_measured_pos_df, all_epochs_position_derivatives_df_dict\n",
    "fig, debug_plot_axs = debug_plot_position_and_derivatives_figure(new_measured_pos_df, all_epochs_position_derivatives_df_dict, debug_plot_axs=None, debug_figure_title=None, enable_debug_plot = True)\n"
   ]
  },
  {
   "cell_type": "code",
   "execution_count": null,
   "id": "e1f5c15e",
   "metadata": {},
   "outputs": [],
   "source": [
    "from pyphoplacecellanalysis.Analysis.position_derivatives import debug_plot_position_derivatives_stack\n",
    "\n",
    "# fig = debug_plot_position_derivatives_stack(new_measured_pos_df, all_epochs_position_derivatives_df_dict)\n",
    "fig = debug_plot_position_derivatives_stack(new_measured_pos_df, all_epochs_position_derivatives_df_dict, show_scatter=True)\n",
    "fig"
   ]
  },
  {
   "cell_type": "code",
   "execution_count": null,
   "id": "4e791125",
   "metadata": {},
   "outputs": [],
   "source": [
    "\n",
    "from pyphocorehelpers.Filesystem.path_helpers import sanitize_filename_for_Windows\n",
    "\n",
    "def save_plotly(a_fig, a_fig_context):\n",
    "\t\"\"\" \n",
    "\tcaptures: TODAY_DAY_DATE\n",
    "\t\"\"\"\n",
    "\tfig_save_path: Path = figures_folder.joinpath('_'.join([get_now_day_str(), sanitize_filename_for_Windows(a_fig_context.get_description())])).resolve()\n",
    "\tfigure_out_paths = {'.html': fig_save_path.with_suffix('.html'), '.png': fig_save_path.with_suffix('.png')}\n",
    "\ta_fig.write_html(figure_out_paths['.html'])\n",
    "\tdisplay(fullwidth_path_widget(figure_out_paths['.html'], file_name_label='.html'))\n",
    "\t# print(file_uri_from_path(figure_out_paths['.html']))\n",
    "\ta_fig.write_image(figure_out_paths['.png'])\n",
    "\t# print(file_uri_from_path(figure_out_paths['.png']))\n",
    "\tdisplay(fullwidth_path_widget(figure_out_paths['.png'], file_name_label='.png'))\n",
    "\treturn figure_out_paths\n",
    "\n",
    "\n",
    "figures_folder = Path('output').resolve()\n",
    "a_fig_context = curr_active_pipeline.build_display_context_for_session(display_fn_name='debug_plot_position_derivatives_stack')\n",
    "save_plotly(fig, a_fig_context)\n",
    "\n",
    "# fig_save_path: Path = figures_folder.joinpath('_'.join([get_now_day_str(), sanitize_filename_for_Windows(a_fig_context.get_description())])).resolve()\n",
    "# figure_out_paths = {'.html': fig_save_path.with_suffix('.html'), '.png': fig_save_path.with_suffix('.png')}\n",
    "# a_fig.write_html(figure_out_paths['.html'])\n",
    "# display(fullwidth_path_widget(figure_out_paths['.html'], file_name_label='.html'))\n",
    "\n"
   ]
  },
  {
   "cell_type": "markdown",
   "id": "2b7fbba6",
   "metadata": {},
   "source": [
    "## Other"
   ]
  },
  {
   "cell_type": "code",
   "execution_count": null,
   "id": "693d7aef",
   "metadata": {},
   "outputs": [],
   "source": [
    "## INPUTS: df1, df2\n",
    "position_deriv_column_names1 = pos_deriv_column_names\n",
    "df1 = measured_position_df[position_deriv_column_names1]\n",
    "\n",
    "position_deriv_column_names2 = ['x', 'vel_x', 'accel_x']\n",
    "df2 = deepcopy(all_epochs_position_derivatives_df[position_deriv_column_names2])\n",
    "\n",
    "# Set up the figure and axes.\n",
    "fig, axes = plt.subplots(nrows=3, ncols=1, figsize=(8, 6))\n",
    "\n",
    "# List of columns to compare\n",
    "columns_to_compare = ['col1', 'col2', 'col3']\n",
    "\n",
    "\n",
    "# Loop through the list of columns and create a histogram for each.\n",
    "for i, (col1, col2) in enumerate(zip(position_deriv_column_names1, position_deriv_column_names2)):\n",
    "# for i, col in enumerate(columns_to_compare):\n",
    "\t# Use the same bin edges for both histograms by computing them from the combined range of both DataFrames\n",
    "\tcombined_range = pd.concat([df1[col1], df2[col2]])\n",
    "\tbins = np.histogram_bin_edges(combined_range, bins='auto')\n",
    "\n",
    "\t# Plot the first DataFrame histogram\n",
    "\tdf1[col1].hist(bins=bins, ax=axes[i], alpha=0.5, label='Decoded')\n",
    "\n",
    "\t# Plot the second DataFrame histogram\n",
    "\tdf2[col2].hist(bins=bins, ax=axes[i], alpha=0.5, label='Measured')\n",
    "\n",
    "\t# Set the title and labels\n",
    "\taxes[i].set_title(f'Histogram of {col1}')\n",
    "\taxes[i].set_xlabel(col1)\n",
    "\taxes[i].set_ylabel('Frequency')\n",
    "\n",
    "\t# Add a legend\n",
    "\taxes[i].legend()\n",
    "\n",
    "# Adjust layout for readability\n",
    "plt.tight_layout()\n",
    "\n",
    "# Show the plot\n",
    "plt.show()"
   ]
  },
  {
   "cell_type": "markdown",
   "id": "1f5670d2",
   "metadata": {},
   "source": [
    "# 💾🖼️ 2024-04-27 - Save Posteriors as Yellow-Blue plots to file:"
   ]
  },
  {
   "cell_type": "code",
   "execution_count": null,
   "id": "22c7718c",
   "metadata": {},
   "outputs": [],
   "source": [
    "from pyphoplacecellanalysis.SpecificResults.PendingNotebookCode import save_posterior\n",
    "\n",
    "# directional_decoders_decode_result.continuously_decoded_result_cache_dict\n",
    "# laps_marginals_df\n",
    "\n",
    "# ## Get the result after computation:\n",
    "# directional_merged_decoders_result = curr_active_pipeline.global_computation_results.computed_data['DirectionalMergedDecoders']\n",
    "\n",
    "# all_directional_decoder_dict_value = directional_merged_decoders_result.all_directional_decoder_dict\n",
    "# all_directional_pf1D_Decoder_value = directional_merged_decoders_result.all_directional_pf1D_Decoder\n",
    "# # long_directional_pf1D_Decoder_value = directional_merged_decoders_result.long_directional_pf1D_Decoder\n",
    "# # long_directional_decoder_dict_value = directional_merged_decoders_result.long_directional_decoder_dict\n",
    "# # short_directional_pf1D_Decoder_value = directional_merged_decoders_result.short_directional_pf1D_Decoder\n",
    "# # short_directional_decoder_dict_value = directional_merged_decoders_result.short_directional_decoder_dict\n",
    "\n",
    "# all_directional_laps_filter_epochs_decoder_result_value = directional_merged_decoders_result.all_directional_laps_filter_epochs_decoder_result\n",
    "# all_directional_ripple_filter_epochs_decoder_result_value = directional_merged_decoders_result.all_directional_ripple_filter_epochs_decoder_result\n",
    "\n",
    "# laps_directional_marginals, laps_directional_all_epoch_bins_marginal, laps_most_likely_direction_from_decoder, laps_is_most_likely_direction_LR_dir  = directional_merged_decoders_result.laps_directional_marginals_tuple\n",
    "# laps_track_identity_marginals, laps_track_identity_all_epoch_bins_marginal, laps_most_likely_track_identity_from_decoder, laps_is_most_likely_track_identity_Long = directional_merged_decoders_result.laps_track_identity_marginals_tuple\n",
    "# ripple_directional_marginals, ripple_directional_all_epoch_bins_marginal, ripple_most_likely_direction_from_decoder, ripple_is_most_likely_direction_LR_dir  = directional_merged_decoders_result.ripple_directional_marginals_tuple\n",
    "# ripple_track_identity_marginals, ripple_track_identity_all_epoch_bins_marginal, ripple_most_likely_track_identity_from_decoder, ripple_is_most_likely_track_identity_Long = directional_merged_decoders_result.ripple_track_identity_marginals_tuple\n",
    "\n",
    "# ripple_decoding_time_bin_size: float = directional_merged_decoders_result.all_directional_ripple_filter_epochs_decoder_result.decoding_time_bin_size\n",
    "# ripple_decoding_time_bin_size\n",
    "# laps_decoding_time_bin_size: float = directional_merged_decoders_result.all_directional_laps_filter_epochs_decoder_result.decoding_time_bin_size\n",
    "# laps_decoding_time_bin_size\n",
    "\n",
    "# laps_all_epoch_bins_marginals_df = directional_merged_decoders_result.laps_all_epoch_bins_marginals_df\n",
    "# ripple_all_epoch_bins_marginals_df = directional_merged_decoders_result.ripple_all_epoch_bins_marginals_df\n",
    "\n",
    "# ripple_all_epoch_bins_marginals_df\n",
    "# ripple_directional_marginals\n",
    "\n",
    "directional_merged_decoders_result.perform_compute_marginals()\n",
    "directional_merged_decoders_result.ripple_all_epoch_bins_marginals_df\n",
    "\n",
    "# parent_array_as_image_output_folder = Path(r'E:\\Dropbox (Personal)\\Active\\Kamran Diba Lab\\Presentations\\2024-05-30 - Pho iNAV Poster\\Exports\\array_as_image').resolve()\n",
    "parent_array_as_image_output_folder = Path(r'output\\Exports\\array_as_image').resolve()\n",
    "parent_array_as_image_output_folder.mkdir(parents=True, exist_ok=True)\n",
    "assert parent_array_as_image_output_folder.exists()"
   ]
  },
  {
   "cell_type": "code",
   "execution_count": null,
   "id": "652f42e7",
   "metadata": {},
   "outputs": [],
   "source": [
    "# clicked_epoch = np.array([169.95631618227344, 170.15983607806265])\n",
    "clicked_epoch = np.array([132.51138943410479, 132.79100273095537])\n",
    "clicked_epoch"
   ]
  },
  {
   "cell_type": "code",
   "execution_count": null,
   "id": "f325d62a",
   "metadata": {},
   "outputs": [],
   "source": [
    "# np.shape(directional_merged_decoders_result.all_directional_ripple_filter_epochs_decoder_result.p_x_given_n_list[1])\n",
    "\t\t \n",
    "# directional_merged_decoders_result.all_directional_ripple_filter_epochs_decoder_result.marginal_x_list\n",
    "active_marginals_df: pd.DataFrame = deepcopy(directional_merged_decoders_result.ripple_all_epoch_bins_marginals_df)\n",
    "# active_marginals_df.ripple_idx\n",
    "# directional_merged_decoders_result.all_directional_ripple_filter_epochs_decoder_result.marginal_x_list"
   ]
  },
  {
   "cell_type": "code",
   "execution_count": null,
   "id": "c6b44569",
   "metadata": {},
   "outputs": [],
   "source": [
    "active_filter_epochs_decoder_result: DecodedFilterEpochsResult = deepcopy(directional_merged_decoders_result.all_directional_ripple_filter_epochs_decoder_result)\n",
    "active_filter_epochs_decoder_result.filter_epochs.epochs.find_data_indicies_from_epoch_times(np.atleast_1d(clicked_epoch[0]))\n",
    "\n",
    "# active_filter_epochs_decoder_result.all_directional_ripple_filter_epochs_decoder_result"
   ]
  },
  {
   "cell_type": "code",
   "execution_count": null,
   "id": "f2daeff5",
   "metadata": {},
   "outputs": [],
   "source": [
    "from pyphoplacecellanalysis.SpecificResults.PendingNotebookCode import save_posterior\n",
    "from pyphocorehelpers.plotting.media_output_helpers import get_array_as_image_stack, save_array_as_image_stack\n",
    "\n",
    "def save_marginals_arrays_as_image(directional_merged_decoders_result: DirectionalPseudo2DDecodersResult, parent_array_as_image_output_folder: Path, epoch_id_identifier_str: str = 'ripple', epoch_ids=None):\n",
    "\t\"\"\"\n",
    "\t\"\"\"\n",
    "\tassert epoch_id_identifier_str in ['ripple', 'lap']\n",
    "\t# active_marginals_df: pd.DataFrame = deepcopy(ripple_all_epoch_bins_marginals_df)\n",
    "\tactive_marginals_df: pd.DataFrame = deepcopy(directional_merged_decoders_result.ripple_all_epoch_bins_marginals_df)\n",
    "\t# ripple_filter_epochs_decoder_result = deepcopy(directional_merged_decoders_result.all_directional_ripple_filter_epochs_decoder_result)\n",
    "\t# ripple_filter_epochs_decoder_result = deepcopy(directional_merged_decoders_result.all_directional_ripple_filter_epochs_decoder_result)\n",
    "\tactive_filter_epochs_decoder_result: DecodedFilterEpochsResult = deepcopy(directional_merged_decoders_result.all_directional_ripple_filter_epochs_decoder_result)\n",
    "\n",
    "\traw_posterior_active_marginals = deepcopy(active_filter_epochs_decoder_result.p_x_given_n_list)\n",
    "\n",
    "\tcollapsed_per_lap_epoch_marginal_track_identity_point = active_marginals_df[['P_Long', 'P_Short']].to_numpy().astype(float)\n",
    "\tcollapsed_per_lap_epoch_marginal_dir_point = active_marginals_df[['P_LR', 'P_RL']].to_numpy().astype(float)\n",
    "\n",
    "\tripple_directional_marginals, ripple_directional_all_epoch_bins_marginal, ripple_most_likely_direction_from_decoder, ripple_is_most_likely_direction_LR_dir = directional_merged_decoders_result.ripple_directional_marginals_tuple\n",
    "\t# directional_merged_decoders_result.ripple_track_identity_marginals_tuple = DirectionalPseudo2DDecodersResult.determine_long_short_likelihoods(directional_merged_decoders_result.all_directional_ripple_filter_epochs_decoder_result)\n",
    "\tripple_track_identity_marginals, ripple_track_identity_all_epoch_bins_marginal, ripple_most_likely_track_identity_from_decoder, ripple_is_most_likely_track_identity_Long = directional_merged_decoders_result.ripple_track_identity_marginals_tuple\n",
    "\n",
    "\t# raw_posterior_laps_marginals\n",
    "\t# raw_posterior_active_marginals = directional_merged_decoders_result.build_non_marginalized_raw_posteriors(active_filter_epochs_decoder_result)\n",
    "\t# raw_posterior_active_marginals\n",
    "\n",
    "\t# INPUTS:\n",
    "\t# raw_posterior_laps_marginals = deepcopy(raw_posterior_laps_marginals)\n",
    "\t# active_directional_marginals = deepcopy(laps_directional_marginals)\n",
    "\t# active_track_identity_marginals = deepcopy(laps_track_identity_marginals)\n",
    "\t# raw_posterior_active_marginals = deepcopy(raw_posterior_laps_marginals)\n",
    "\tactive_directional_marginals = deepcopy(ripple_directional_marginals)\n",
    "\tactive_track_identity_marginals = deepcopy(ripple_track_identity_marginals)\n",
    "\n",
    "\tassert parent_array_as_image_output_folder.exists()\n",
    "\n",
    "\tif epoch_ids is None:\n",
    "\t\tepoch_ids = np.arange(active_filter_epochs_decoder_result.num_filter_epochs)\n",
    "\n",
    "\tfor epoch_id in epoch_ids:\n",
    "\t\traw_tuple, marginal_dir_tuple, marginal_track_identity_tuple, marginal_dir_point_tuple, marginal_track_identity_point_tuple = save_posterior(raw_posterior_active_marginals, active_directional_marginals,\n",
    "\t\t\t\t\t\t\t\t\t\t\t\t\t\t\t\t\t\t\tactive_track_identity_marginals, collapsed_per_lap_epoch_marginal_dir_point, collapsed_per_lap_epoch_marginal_track_identity_point,\n",
    "\t\t\t\t\t\t\t\t\t\t\t\t\t\t\t\t\t\t\t\t\tparent_array_as_image_output_folder=parent_array_as_image_output_folder, epoch_id_identifier_str=epoch_id_identifier_str, epoch_id=epoch_id,\n",
    "\t\t\t\t\t\t\t\t\t\t\t\t\t\t\t\t\t\t\t\t\tdebug_print=True)\n",
    "\t\t\n",
    "\n",
    "\n",
    "\n",
    "\n",
    "\n",
    "save_marginals_arrays_as_image(directional_merged_decoders_result=directional_merged_decoders_result, parent_array_as_image_output_folder=parent_array_as_image_output_folder, epoch_id_identifier_str='ripple', epoch_ids=[17])\n",
    "\n"
   ]
  },
  {
   "cell_type": "markdown",
   "id": "77f77b16",
   "metadata": {},
   "source": [
    "# 🎯🟢 2024-05-24 - Shuffed WCorr Stats\n",
    "💯🚧 2024-07-18 - BUG - this only uses the epochs from the `curr_active_pipeline`, meaning if you want to look at some of the different ones you need to load the custom-exported result."
   ]
  },
  {
   "cell_type": "code",
   "execution_count": null,
   "id": "2244da74",
   "metadata": {
    "tags": [
     "ACTIVE"
    ]
   },
   "outputs": [],
   "source": [
    "## wcorr is computed on each decoded posterior: `curr_results_obj.p_x_given_n_list`\n",
    "\n",
    "## Actually need to shuffle the unit idenities and recompute the posteriors\n",
    "\n",
    "from typing import Dict, List, Tuple, Optional, Callable, Union, Any\n",
    "from typing_extensions import TypeAlias\n",
    "from nptyping import NDArray\n",
    "from typing import NewType\n",
    "\n",
    "import neuropy.utils.type_aliases as types\n",
    "from neuropy.utils.misc import build_shuffled_ids, shuffle_ids # used in _SHELL_analyze_leave_one_out_decoding_results\n",
    "from neuropy.utils.mixins.binning_helpers import find_minimum_time_bin_duration\n",
    "\n",
    "from pyphoplacecellanalysis.General.Pipeline.Stages.ComputationFunctions.MultiContextComputationFunctions.DirectionalPlacefieldGlobalComputationFunctions import DirectionalPseudo2DDecodersResult\n",
    "from pyphoplacecellanalysis.Analysis.Decoder.reconstruction import DecodedFilterEpochsResult\n",
    "from pyphoplacecellanalysis.General.Pipeline.Stages.ComputationFunctions.MultiContextComputationFunctions.DirectionalPlacefieldGlobalComputationFunctions import DecoderDecodedEpochsResult\n",
    "from pyphoplacecellanalysis.General.Pipeline.Stages.ComputationFunctions.MultiContextComputationFunctions.SequenceBasedComputations import WCorrShuffle, SequenceBasedComputationsContainer\n",
    "\n",
    "from neuropy.utils.mixins.indexing_helpers import get_dict_subset\n",
    "\n",
    "DecodedEpochsResultsDict = NewType('DecodedEpochsResultsDict', Dict[types.DecoderName, DecodedFilterEpochsResult]) # A Dict containing the decoded filter epochs result for each of the four 1D decoder names\n",
    "ShuffleIdx = NewType('ShuffleIdx', int)\n",
    "\n",
    "wcorr_shuffle_results: SequenceBasedComputationsContainer = curr_active_pipeline.global_computation_results.computed_data.get('SequenceBased', None)\n",
    "if wcorr_shuffle_results is not None:    \n",
    "\twcorr_ripple_shuffle: WCorrShuffle = wcorr_shuffle_results.wcorr_ripple_shuffle\n",
    "\twcorr_ripple_shuffle: WCorrShuffle = WCorrShuffle(**get_dict_subset(wcorr_ripple_shuffle.to_dict(), subset_excludelist=['_VersionedResultMixin_version']))\n",
    "\tcurr_active_pipeline.global_computation_results.computed_data.SequenceBased.wcorr_ripple_shuffle = wcorr_ripple_shuffle\n",
    "\tfiltered_epochs_df: pd.DataFrame = deepcopy(wcorr_ripple_shuffle.filtered_epochs_df)\n",
    "\tprint(f'wcorr_ripple_shuffle.n_completed_shuffles: {wcorr_ripple_shuffle.n_completed_shuffles}')\n",
    "else:\n",
    "\tprint(f'SequenceBased is not computed.')\n",
    "\n",
    "# wcorr_ripple_shuffle: WCorrShuffle = WCorrShuffle.init_from_templates(curr_active_pipeline=curr_active_pipeline, enable_saving_entire_decoded_shuffle_result=True)\n",
    "\n",
    "n_epochs: int = wcorr_ripple_shuffle.n_epochs\n",
    "print(f'n_epochs: {n_epochs}')\n",
    "n_completed_shuffles: int = wcorr_ripple_shuffle.n_completed_shuffles\n",
    "print(f'n_completed_shuffles: {n_completed_shuffles}')\n",
    "wcorr_ripple_shuffle.compute_shuffles(num_shuffles=2, curr_active_pipeline=curr_active_pipeline)\n",
    "n_completed_shuffles: int = wcorr_ripple_shuffle.n_completed_shuffles\n",
    "print(f'n_completed_shuffles: {n_completed_shuffles}')\n",
    "desired_ripple_decoding_time_bin_size: float = wcorr_shuffle_results.wcorr_ripple_shuffle.all_templates_decode_kwargs['desired_ripple_decoding_time_bin_size']\n",
    "print(f'{desired_ripple_decoding_time_bin_size = }')\n",
    "# filtered_epochs_df\n",
    "\n",
    "# 7m - 200 shuffles\n",
    "# (_out_p, _out_p_dict), (_out_shuffle_wcorr_ZScore_LONG, _out_shuffle_wcorr_ZScore_SHORT), (total_n_shuffles_more_extreme_than_real_df, total_n_shuffles_more_extreme_than_real_dict), _out_shuffle_wcorr_arr = wcorr_ripple_shuffle.post_compute(decoder_names=deepcopy(TrackTemplates.get_decoder_names()))\n",
    "wcorr_ripple_shuffle_all_df, all_shuffles_wcorr_df = wcorr_ripple_shuffle.build_all_shuffles_dataframes(decoder_names=deepcopy(TrackTemplates.get_decoder_names()))\n",
    "## Prepare for plotting in histogram:\n",
    "wcorr_ripple_shuffle_all_df = wcorr_ripple_shuffle_all_df.dropna(subset=['start', 'stop'], how='any', inplace=False)\n",
    "wcorr_ripple_shuffle_all_df = wcorr_ripple_shuffle_all_df.dropna(subset=['wcorr_long_LR', 'wcorr_long_RL', 'wcorr_short_LR', 'wcorr_short_RL'], how='all', inplace=False)\n",
    "wcorr_ripple_shuffle_all_df = wcorr_ripple_shuffle_all_df.convert_dtypes()\n",
    "# {'long_best_dir_decoder_IDX': int, 'short_best_dir_decoder_IDX': int}\n",
    "# wcorr_ripple_shuffle_all_df\n",
    "## Gets the absolutely most extreme value from any of the four decoders and uses that\n",
    "best_wcorr_max_indices = np.abs(wcorr_ripple_shuffle_all_df[['wcorr_long_LR', 'wcorr_long_RL', 'wcorr_short_LR', 'wcorr_short_RL']].values).argmax(axis=1)\n",
    "wcorr_ripple_shuffle_all_df[f'abs_best_wcorr'] = [wcorr_ripple_shuffle_all_df[['wcorr_long_LR', 'wcorr_long_RL', 'wcorr_short_LR', 'wcorr_short_RL']].values[i, best_idx] for i, best_idx in enumerate(best_wcorr_max_indices)] #  np.where(direction_max_indices, wcorr_ripple_shuffle_all_df['long_LR'].filter_epochs[a_column_name].to_numpy(), wcorr_ripple_shuffle_all_df['long_RL'].filter_epochs[a_column_name].to_numpy())\n",
    "# wcorr_ripple_shuffle_all_df\n",
    "# wcorr_ripple_shuffle_all_df[['wcorr_long_LR', 'wcorr_long_RL', 'wcorr_short_LR', 'wcorr_short_RL']].max(axis=1, skipna=True)\n",
    "\n",
    "## OUTPUTS: wcorr_ripple_shuffle_all_df\n",
    "all_shuffles_only_best_decoder_wcorr_df = pd.concat([all_shuffles_wcorr_df[np.logical_and((all_shuffles_wcorr_df['epoch_idx'] == epoch_idx), (all_shuffles_wcorr_df['decoder_idx'] == best_idx))] for epoch_idx, best_idx in enumerate(best_wcorr_max_indices)])\n",
    "# all_shuffles_only_best_decoder_wcorr_df"
   ]
  },
  {
   "cell_type": "code",
   "execution_count": null,
   "id": "cff9a5ee",
   "metadata": {},
   "outputs": [],
   "source": [
    "wcorr_ripple_shuffle"
   ]
  },
  {
   "cell_type": "code",
   "execution_count": null,
   "id": "5e967669",
   "metadata": {},
   "outputs": [],
   "source": [
    "all_shuffles_only_best_decoder_wcorr_df"
   ]
  },
  {
   "cell_type": "code",
   "execution_count": null,
   "id": "2dc71d04",
   "metadata": {},
   "outputs": [],
   "source": [
    "new_replay_epochs = deepcopy(curr_active_pipeline.sess.replay)\n",
    "new_replay_epochs"
   ]
  },
  {
   "cell_type": "code",
   "execution_count": null,
   "id": "464011ff",
   "metadata": {},
   "outputs": [],
   "source": [
    "from pyphoplacecellanalysis.SpecificResults.PendingNotebookCode import finalize_output_shuffled_wcorr, _get_custom_suffix_for_replay_filename\n",
    "\n",
    "custom_suffix: str = _get_custom_suffix_for_replay_filename(new_replay_epochs=new_replay_epochs)\n",
    "# custom_suffix: str = _get_custom_suffix_for_replay_filename(new_replay_epochs=\"\")\n",
    "print(f'custom_suffix: \"{custom_suffix}\"')\n",
    "wcorr_ripple_shuffle_all_df, all_shuffles_only_best_decoder_wcorr_df, (standalone_pkl_filepath, standalone_mat_filepath, ripple_WCorrShuffle_df_export_CSV_path) = finalize_output_shuffled_wcorr(curr_active_pipeline,\n",
    "\t\t\t\t\t\t\t\t\t\t\t\t\t\t\t\t\t\t\t\t\t\t\t\t\t\t\t\t\t\t\t\t\t\t\t\t\t\t  decoder_names=deepcopy(TrackTemplates.get_decoder_names()), custom_suffix=custom_suffix)\n",
    "\n",
    "\n",
    "# (n_shuffles = 31, n_epochs = 873, n_decoders = 4); n_total_elements = 108252\n",
    "# saving to \"W:\\Data\\KDIBA\\gor01\\two\\2006-6-07_16-40-19\\output\\2024-06-27_0550PM_withNewComputedReplays-qclu_[1, 2]-frateThresh_1.0_standalone_wcorr_ripple_shuffle_data_only_31.pkl\"...\n",
    "# total_n_shuffles: 31\n",
    "# Saving (file mode 'w+b') session pickle file results :... saved session pickle file\n",
    "# saving .mat file to \"W:\\Data\\KDIBA\\gor01\\two\\2006-6-07_16-40-19\\output\\2024-06-27_0550PM_withNewComputedReplays-qclu_[1, 2]-frateThresh_1.0_standalone_all_shuffles_wcorr_array.mat\"...\n"
   ]
  },
  {
   "cell_type": "code",
   "execution_count": null,
   "id": "08def7fd",
   "metadata": {},
   "outputs": [],
   "source": [
    "## INPUTS: wcorr_ripple_shuffle_all_df\n",
    "## MODIFIES: wcorr_ripple_shuffle_all_df\n",
    "curr_score_col_decoder_col_names = [f\"wcorr_{a_decoder_name}\" for a_decoder_name in ['long_LR', 'long_RL', 'short_LR', 'short_RL']]\n",
    "_final_out = [wcorr_ripple_shuffle_all_df[curr_score_col_decoder_col_names].to_numpy()[epoch_idx, a_decoder_idx] for epoch_idx, a_decoder_idx in zip(np.arange(np.shape(wcorr_ripple_shuffle_all_df)[0]), best_decoder_index.to_numpy())]\n",
    "wcorr_ripple_shuffle_all_df['wcorr_most_likely'] = _final_out\n",
    "wcorr_ripple_shuffle_all_df['abs_most_likely_wcorr'] = np.abs(_final_out)\n",
    "\n",
    "wcorr_ripple_shuffle_all_df"
   ]
  },
  {
   "cell_type": "code",
   "execution_count": null,
   "id": "5c8ec439",
   "metadata": {},
   "outputs": [],
   "source": [
    "all_shuffles_only_best_decoder_wcorr_df"
   ]
  },
  {
   "cell_type": "code",
   "execution_count": null,
   "id": "400e021b",
   "metadata": {},
   "outputs": [],
   "source": [
    "active_all_shuffles_only_best_decoder_wcorr_df = deepcopy(all_shuffles_only_best_decoder_wcorr_df[all_shuffles_only_best_decoder_wcorr_df['shuffle_idx'] > 1800])\n",
    "active_all_shuffles_only_best_decoder_wcorr_df"
   ]
  },
  {
   "cell_type": "code",
   "execution_count": null,
   "id": "ce22eab9",
   "metadata": {},
   "outputs": [],
   "source": [
    "from neuropy.utils.mixins.indexing_helpers import get_dict_subset\n",
    "from pyphoplacecellanalysis.SpecificResults.PendingNotebookCode import plot_replay_wcorr_histogram\n",
    "\n",
    "## INPUTS: wcorr_ripple_shuffle_all_df, all_shuffles_only_best_decoder_wcorr_df, custom_suffix\n",
    "# plot_var_name: str = 'abs_best_wcorr'\n",
    "# plot_var_name: str = 'wcorr_z_long'\n",
    "plot_var_name: str = 'wcorr_most_likely'\n",
    "active_all_shuffles_only_best_decoder_wcorr_df = deepcopy(all_shuffles_only_best_decoder_wcorr_df[all_shuffles_only_best_decoder_wcorr_df['shuffle_idx'] > 1800]) # only most recent shuffles included\n",
    "# active_all_shuffles_only_best_decoder_wcorr_df = deepcopy(all_shuffles_only_best_decoder_wcorr_df) # all included\n",
    "\n",
    "a_fig_context = curr_active_pipeline.build_display_context_for_session(display_fn_name='replay_wcorr', custom_suffix=custom_suffix)\n",
    "# params_description_str: str = \" | \".join([f\"{str(k)}:{str(v)}\" for k, v in get_dict_subset(new_replay_epochs.metadata, subset_excludelist=['qclu_included_aclus']).items()])\n",
    "params_description_str: str = \"DefaultComputation\" # | \".join([f\"{str(k)}:{str(v)}\" for k, v in get_dict_subset(curr_active_pipeline.sess.replay.metadata, subset_excludelist=['qclu_included_aclus']).items()])\n",
    "footer_annotation_text = f'{curr_active_pipeline.get_session_context()}<br>{params_description_str}'\n",
    "\n",
    "fig = plot_replay_wcorr_histogram(df=wcorr_ripple_shuffle_all_df, plot_var_name=plot_var_name, all_shuffles_only_best_decoder_wcorr_df=active_all_shuffles_only_best_decoder_wcorr_df, footer_annotation_text=footer_annotation_text)\n",
    "\n",
    "# Save figure to disk:\n",
    "_out_result = curr_active_pipeline.output_figure(a_fig_context, fig=fig)\n",
    "_out_result\n",
    "\n",
    "# Show the figure\n",
    "fig.show()"
   ]
  },
  {
   "cell_type": "markdown",
   "id": "f75b5597",
   "metadata": {},
   "source": [
    "### Plot Scatter"
   ]
  },
  {
   "cell_type": "code",
   "execution_count": null,
   "id": "2b205de6",
   "metadata": {},
   "outputs": [],
   "source": [
    "import plotly.io as pio\n",
    "from pyphoplacecellanalysis.Pho2D.plotly.plotly_templates import PlotlyHelpers\n",
    "from pyphoplacecellanalysis.Pho2D.statistics_plotting_helpers import plot_histograms_across_sessions, plot_stacked_histograms\n",
    "from pyphoplacecellanalysis.Pho2D.plotly.Extensions.plotly_helpers import plotly_helper_save_figures, _helper_build_figure, plotly_pre_post_delta_scatter, plot_across_sessions_scatter_results\n",
    "from PIL import Image\n",
    "from pyphocorehelpers.programming_helpers import copy_image_to_clipboard\n",
    "from pyphocorehelpers.Filesystem.path_helpers import sanitize_filename_for_Windows\n",
    "\n",
    "# fig_size_kwargs = {'width': 1650, 'height': 480}\n",
    "resolution_multiplier = 1\n",
    "# fig_size_kwargs = {'width': resolution_multiplier*1650, 'height': resolution_multiplier*480}\n",
    "fig_size_kwargs = {'width': resolution_multiplier*1920, 'height': resolution_multiplier*480}\n",
    "is_dark_mode, template = PlotlyHelpers.get_plotly_template(is_dark_mode=False)\n",
    "pio.templates.default = template\n",
    "\n",
    "# figure_export_path = Path(r'E:\\Dropbox (Personal)\\Active\\Kamran Diba Lab\\Presentations\\2024-05-30 - Pho iNAV Poster\\Figures').resolve()\n",
    "# figure_export_path = Path('/Users/pho/Dropbox (Personal)/Active/Kamran Diba Lab/Presentations/2024-05-30 - Pho iNAV Poster/Figures').resolve()\n",
    "# assert figure_export_path.exists()\n",
    "\n",
    "figures_folder = Path('output').resolve()\n",
    "\n",
    "def save_plotly(a_fig, a_fig_context):\n",
    "\t\"\"\" \n",
    "\tcaptures: TODAY_DAY_DATE, figures_folder, neptuner_run\n",
    "\t\"\"\"\n",
    "\tfig_save_path: Path = figures_folder.joinpath('_'.join([BATCH_DATE_TO_USE, sanitize_filename_for_Windows(a_fig_context.get_description())])).resolve()\n",
    "\tfigure_out_paths = {'.html': fig_save_path.with_suffix('.html'), '.png': fig_save_path.with_suffix('.png')}\n",
    "\ta_fig.write_html(figure_out_paths['.html'])\n",
    "\tdisplay(fullwidth_path_widget(figure_out_paths['.html'], file_name_label='.html'))\n",
    "\t# print(file_uri_from_path(figure_out_paths['.html']))\n",
    "\ta_fig.write_image(figure_out_paths['.png'])\n",
    "\t# print(file_uri_from_path(figure_out_paths['.png']))\n",
    "\tdisplay(fullwidth_path_widget(figure_out_paths['.png'], file_name_label='.png'))\n",
    "\t\t\n",
    "\treturn figure_out_paths\n"
   ]
  },
  {
   "cell_type": "code",
   "execution_count": null,
   "id": "048d0b4d",
   "metadata": {},
   "outputs": [],
   "source": [
    "## INPUTS: wcorr_ripple_shuffle_all_df, all_shuffles_only_best_decoder_wcorr_df, custom_suffix\n",
    "\n",
    "histogram_bins = 25\n",
    "num_sessions = 1\n",
    "# plot_var_name: str = 'abs_best_wcorr'\n",
    "# plot_var_name: str = 'wcorr_z_long'\n",
    "# plot_var_name: str = 'wcorr_long_LR'\n",
    "plot_var_name: str = 'wcorr_long_RL'\n",
    "\n",
    "# plot_y_zero: float = 0.5\n",
    "plot_y_zero: float = 0.0\n",
    "\n",
    "concatenated_ripple_df = deepcopy(wcorr_ripple_shuffle_all_df)\n",
    "desired_ripple_decoding_time_bin_size: float = wcorr_shuffle_results.wcorr_ripple_shuffle.all_templates_decode_kwargs['desired_ripple_decoding_time_bin_size']\n",
    "print(f'{desired_ripple_decoding_time_bin_size = }')\n",
    "concatenated_ripple_df['time_bin_size'] = desired_ripple_decoding_time_bin_size\n",
    "display(concatenated_ripple_df)\n",
    "if 'delta_aligned_start_t' not in concatenated_ripple_df.columns:\n",
    "\tconcatenated_ripple_df['delta_aligned_start_t'] = concatenated_ripple_df['start'] - t_delta\n",
    "\n",
    "# px_scatter_kwargs = {'x': 'delta_aligned_start_t', 'y': variable_name, 'color':\"is_user_annotated_epoch\", 'title': f\"'{variable_name}'\"} # , 'color': 'time_bin_size', 'range_y': [-1.0, 1.0], 'labels': {'session_name': 'Session', 'time_bin_size': 'tbin_size', 'is_user_annotated_epoch':'user_sel'}\n",
    "px_scatter_kwargs = {'x': 'delta_aligned_start_t', 'y': plot_var_name, 'title': f\"'{plot_var_name}'\"} # , 'color': 'time_bin_size', 'range_y': [-1.0, 1.0], 'labels': {'session_name': 'Session', 'time_bin_size': 'tbin_size', 'is_user_annotated_epoch':'user_sel'}\n",
    "#\n",
    "# hist_kwargs = dict(color=\"time_bin_size\")\n",
    "hist_kwargs = dict(color=\"is_user_annotated_epoch\") # , histnorm='probability density'\n",
    "hist_kwargs.pop('color')\n",
    "\n",
    "# px_scatter_kwargs['color'] = 'custom_replay_name'\n",
    "# hist_kwargs['color'] = 'custom_replay_name'\n",
    "\n",
    "t_start, t_delta, t_end = curr_active_pipeline.find_LongShortDelta_times()\n",
    "\n",
    "new_fig_ripples, new_fig_ripples_context = plotly_pre_post_delta_scatter(data_results_df=concatenated_ripple_df, out_scatter_fig=None, histogram_bins=histogram_bins,\n",
    "\t\t\t\t\t\tpx_scatter_kwargs=px_scatter_kwargs, histogram_variable_name=plot_var_name, hist_kwargs=hist_kwargs, forced_range_y=None,\n",
    "\t\t\t\t\t\ttime_delta_tuple=(t_start, 0.0, (t_end-t_delta)), legend_title_text=None, is_dark_mode=is_dark_mode)\n",
    "\n",
    "new_fig_ripples = new_fig_ripples.update_layout(fig_size_kwargs)\n",
    "_extras_output_dict = {}\n",
    "if is_dark_mode:\n",
    "\t_extras_output_dict[\"y_mid_line\"] = new_fig_ripples.add_hline(y=plot_y_zero, line=dict(color=\"rgba(0.8,0.8,0.8,.75)\", width=2), row='all', col='all')\n",
    "else:\n",
    "\t_extras_output_dict[\"y_mid_line\"] = new_fig_ripples.add_hline(y=plot_y_zero, line=dict(color=\"rgba(0.2,0.2,0.2,.75)\", width=2), row='all', col='all')\n",
    "\n",
    "# # Update layout to add a title to the legend\n",
    "# new_fig_ripples.update_layout(\n",
    "#     legend_title_text='Is User Selected'  # Add a title to the legend\n",
    "# )\n",
    "\n",
    "# fig_to_clipboard(new_fig_ripples, **fig_size_kwargs)\n",
    "new_fig_ripples_context = new_fig_ripples_context.adding_context_if_missing(num_sessions=num_sessions, plot_type='scatter+hist', comparison='pre-post-delta', variable_name=plot_var_name)\n",
    "figure_out_paths = save_plotly(a_fig=new_fig_ripples, a_fig_context=new_fig_ripples_context)\n",
    "new_fig_ripples\n"
   ]
  },
  {
   "cell_type": "code",
   "execution_count": null,
   "id": "d707712d",
   "metadata": {},
   "outputs": [],
   "source": [
    "from pyphoplacecellanalysis.Pho2D.statistics_plotting_helpers import plot_histogram_for_z_scores\n",
    "\n",
    "# selected_epoch_index = None\n",
    "# a_decoder_idx = None\n",
    "\n",
    "selected_epoch_index = 0\n",
    "a_decoder_idx = 0\n",
    "\n",
    "if (selected_epoch_index is None) and (a_decoder_idx is None):\n",
    "\t_single_epoch_all_shuffles_wcorr_arr = deepcopy(wcorr_ripple_shuffle.all_shuffles_wcorr_array)\n",
    "\t_single_epoch_real_wcorr: float = wcorr_ripple_shuffle.real_decoder_ripple_weighted_corr_arr \n",
    "\ta_single_decoder_epoch_z_scored_values: NDArray = wcorr_ripple_shuffle.compute_z_transformed_scores(_single_epoch_all_shuffles_wcorr_arr)\n",
    "\ta_single_decoder_epoch_z_score: float = wcorr_ripple_shuffle.compute_z_score(_single_epoch_all_shuffles_wcorr_arr, _single_epoch_real_wcorr)\n",
    "\ttitle = f\"histogram_for_z_scores - all decoders, all epochs\"\n",
    "\ttitle_suffix=f': all decoders, all epochs'\n",
    "\n",
    "else: \n",
    "\t_single_epoch_all_shuffles_wcorr_arr = wcorr_ripple_shuffle.all_shuffles_wcorr_array[:, selected_epoch_index, a_decoder_idx]\n",
    "\t_single_epoch_real_wcorr: float = wcorr_ripple_shuffle.real_decoder_ripple_weighted_corr_arr[selected_epoch_index, a_decoder_idx]\n",
    "\ta_single_decoder_epoch_z_scored_values: NDArray = wcorr_ripple_shuffle.compute_z_transformed_scores(_single_epoch_all_shuffles_wcorr_arr)\n",
    "\ta_single_decoder_epoch_z_score: float = wcorr_ripple_shuffle.compute_z_score(_single_epoch_all_shuffles_wcorr_arr, _single_epoch_real_wcorr)\n",
    "\ttitle = f\"histogram_for_z_scores - decoder[{a_decoder_idx}], epoch[{selected_epoch_index}]\"\n",
    "\ttitle_suffix=f': decoder[{a_decoder_idx}], epoch[{selected_epoch_index}]'\n",
    "\n",
    "print(f'np.shape(_single_epoch_all_shuffles_wcorr_arr): {np.shape(_single_epoch_all_shuffles_wcorr_arr)}') # (n_shuffles, )\n"
   ]
  },
  {
   "cell_type": "code",
   "execution_count": null,
   "id": "e9b75810",
   "metadata": {},
   "outputs": [],
   "source": [
    "\n",
    "print(f'a_single_decoder_epoch_z_score: {a_single_decoder_epoch_z_score}')\n",
    "fig = plt.figure(num=title, clear=True)\n",
    "# List of z-scored values\n",
    "z_scores = a_single_decoder_epoch_z_scored_values\n",
    "plot_histogram_for_z_scores(z_scores, title_suffix=title_suffix)\n",
    "plt.axvline(a_single_decoder_epoch_z_score, color='red', linestyle='--', linewidth=2, label='Actual Value')\n",
    "\n",
    "# plot_histogram_for_z_scores(\n"
   ]
  },
  {
   "cell_type": "code",
   "execution_count": null,
   "id": "ff5d6d36",
   "metadata": {},
   "outputs": [],
   "source": [
    "export_df_dict['ripple_WCorrShuffle_df']['export_date'] = get_now_rounded_time_str()\n"
   ]
  },
  {
   "cell_type": "code",
   "execution_count": null,
   "id": "8c7d2c7a",
   "metadata": {},
   "outputs": [],
   "source": [
    "wcorr_ripple_shuffle.plot_histogram_figure()"
   ]
  },
  {
   "cell_type": "code",
   "execution_count": null,
   "id": "ec84c9be",
   "metadata": {},
   "outputs": [],
   "source": [
    "wcorr_ripple_shuffle.plot_histogram_figure(a_decoder_idx=2, selected_epoch_index=1)"
   ]
  },
  {
   "cell_type": "code",
   "execution_count": null,
   "id": "d3961cd5",
   "metadata": {},
   "outputs": [],
   "source": [
    "# List of z-scored values\n",
    "all_shuffles_wcorr_array = deepcopy(wcorr_ripple_shuffle.all_shuffles_wcorr_array)\n",
    "(_out_p, _out_p_dict), (_out_shuffle_wcorr_ZScore_LONG, _out_shuffle_wcorr_ZScore_SHORT), (total_n_shuffles_more_extreme_than_real_df, total_n_shuffles_more_extreme_than_real_dict), all_shuffles_wcorr_array = wcorr_ripple_shuffle.post_compute()\n",
    "## OUTPUTS: all_shuffles_wcorr_array, "
   ]
  },
  {
   "cell_type": "code",
   "execution_count": null,
   "id": "25fbc814",
   "metadata": {},
   "outputs": [],
   "source": [
    "# _out_shuffle_wcorr_ZScore_LONG\n",
    "all_shuffles_wcorr_array"
   ]
  },
  {
   "cell_type": "code",
   "execution_count": null,
   "id": "09e9f77d",
   "metadata": {},
   "outputs": [],
   "source": [
    "# standalone save\n",
    "standalone_pkl_filename: str = f'{get_now_rounded_time_str()}_standalone_wcorr_ripple_shuffle_data_only_{wcorr_ripple_shuffle.n_completed_shuffles}.pkl' \n",
    "standalone_pkl_filepath = curr_active_pipeline.get_output_path().joinpath(standalone_pkl_filename).resolve() # Path(\"W:\\Data\\KDIBA\\gor01\\one\\2006-6-08_14-26-15\\output\\2024-05-30_0925AM_standalone_wcorr_ripple_shuffle_data_only_1100.pkl\")\n",
    "print(f'saving to \"{standalone_pkl_filepath}\"...')\n",
    "wcorr_ripple_shuffle.save_data(standalone_pkl_filepath)"
   ]
  },
  {
   "cell_type": "code",
   "execution_count": null,
   "id": "3441a089",
   "metadata": {},
   "outputs": [],
   "source": [
    "## INPUTS: wcorr_ripple_shuffle\n",
    "standalone_mat_filename: str = f'{get_now_rounded_time_str()}_standalone_all_shuffles_wcorr_array.mat' \n",
    "standalone_mat_filepath = curr_active_pipeline.get_output_path().joinpath(standalone_mat_filename).resolve() # r\"W:\\Data\\KDIBA\\gor01\\one\\2006-6-09_1-22-43\\output\\2024-06-03_0400PM_standalone_all_shuffles_wcorr_array.mat\"\n",
    "wcorr_ripple_shuffle.save_data_mat(filepath=standalone_mat_filepath, **{'session': curr_active_pipeline.get_session_context().to_dict()})\n"
   ]
  },
  {
   "cell_type": "code",
   "execution_count": null,
   "id": "9163c669",
   "metadata": {},
   "outputs": [],
   "source": [
    "yesterday = datetime.now() - timedelta(days=3)\n",
    "# wcorr_ripple_shuffle.discover_load_and_append_shuffle_data_from_directory(save_directory=curr_active_pipeline.get_output_path().resolve(), debug_print=True)\n",
    "# wcorr_ripple_shuffle.discover_load_and_append_shuffle_data_from_directory(save_directory=curr_active_pipeline.get_output_path().resolve(), with_data_name='standalone_wcorr_ripple_shuffle_data_only', debug_print=True)\n",
    "wcorr_ripple_shuffle.discover_load_and_append_shuffle_data_from_directory(save_directory=curr_active_pipeline.get_output_path().resolve(), with_data_name='standalone_wcorr_ripple_shuffle_data_only', newer_than=yesterday, debug_print=True)"
   ]
  },
  {
   "cell_type": "code",
   "execution_count": null,
   "id": "94572934",
   "metadata": {},
   "outputs": [],
   "source": [
    "active_context = curr_active_pipeline.get_session_context()\n",
    "session_ctxt_key:str = active_context.get_description(separator='|', subset_includelist=IdentifyingContext._get_session_context_keys())\n",
    "session_name: str = curr_active_pipeline.session_name\n",
    "export_files_dict = wcorr_ripple_shuffle.export_csvs(parent_output_path=collected_outputs_path.resolve(), active_context=active_context, session_name=session_name, curr_active_pipeline=curr_active_pipeline)\n",
    "export_files_dict"
   ]
  },
  {
   "cell_type": "markdown",
   "id": "5966cf23",
   "metadata": {},
   "source": [
    "### Find clicked index:"
   ]
  },
  {
   "cell_type": "code",
   "execution_count": null,
   "id": "5e823ecd",
   "metadata": {},
   "outputs": [],
   "source": [
    "from neuropy.core.epoch import find_data_indicies_from_epoch_times\n",
    "\n",
    "# clicked_epoch = np.array([[149.95935746072792, 150.25439218967222]]).T\n",
    "# clicked_epoch = np.atleast_2d(np.array([637.7847819341114, 638.1821449307026])).T\n",
    "# clicked_epoch = np.atleast_2d(np.array([105.400, 638.1821449307026])).T\n",
    "clicked_epoch = np.atleast_2d(np.array([105.40014315512963, 105.56255971186329])).T\n",
    "# clicked_epoch\n",
    "clicked_epoch_start_times = clicked_epoch[0, :]\n",
    "# clicked_epoch_start_times\n",
    "# clicked_epoch_start_times = np.array([637.7847819341114,])\n",
    "selected_epoch_indicies = find_data_indicies_from_epoch_times(wcorr_ripple_shuffle.filtered_epochs_df, epoch_times=np.squeeze(clicked_epoch_start_times), t_column_names=['start',], atol=0.001, not_found_action='skip_index', debug_print=False)\n",
    "# selected_epoch_indicies\n",
    "\n",
    "assert len(selected_epoch_indicies) > 0\n",
    "\n",
    "selected_epoch_index: int = selected_epoch_indicies[0]\n",
    "print(f'selected_epoch_index: {selected_epoch_index}')\n",
    "print(f'{clicked_epoch_start_times = }')"
   ]
  },
  {
   "cell_type": "code",
   "execution_count": null,
   "id": "97546452",
   "metadata": {},
   "outputs": [],
   "source": [
    "real_decoder_ripple_wcorr_df.iloc[selected_epoch_index]"
   ]
  },
  {
   "cell_type": "code",
   "execution_count": null,
   "id": "aecb5d75",
   "metadata": {},
   "outputs": [],
   "source": [
    "real_decoder_ripple_wcorr_df"
   ]
  },
  {
   "cell_type": "markdown",
   "id": "32e8acdd",
   "metadata": {},
   "source": [
    "# 2024-06-03 - Plot decoded wcorr shuffle z-values using `PhoPaginatedMultiDecoderDecodedEpochsWindow`"
   ]
  },
  {
   "cell_type": "code",
   "execution_count": null,
   "id": "6c17a31f",
   "metadata": {},
   "outputs": [],
   "source": [
    "from neuropy.analyses.decoders import wcorr\n",
    "from pyphoplacecellanalysis.General.Pipeline.Stages.ComputationFunctions.MultiContextComputationFunctions.SequenceBasedComputations import WCorrShuffle\n",
    "\n",
    "# ==================================================================================================================== #\n",
    "# REAL wcorr for other\n",
    "# ==================================================================================================================== #\n",
    "active_spikes_df = deepcopy(curr_active_pipeline.sess.spikes_df)\n",
    "directional_merged_decoders_result: DirectionalPseudo2DDecodersResult = curr_active_pipeline.global_computation_results.computed_data['DirectionalMergedDecoders']\n",
    "alt_directional_merged_decoders_result: DirectionalPseudo2DDecodersResult = deepcopy(directional_merged_decoders_result)\n",
    "\n",
    "## Filter the epochs by minimum duration:\n",
    "replay_epochs_df: pd.DataFrame = deepcopy(filtered_epochs_df)\n",
    "desired_ripple_decoding_time_bin_size: float = alt_directional_merged_decoders_result.ripple_decoding_time_bin_size\n",
    "minimum_event_duration: float = 2.0 * float(alt_directional_merged_decoders_result.ripple_decoding_time_bin_size)\n",
    "print(f'{desired_ripple_decoding_time_bin_size = }, {minimum_event_duration = }')\n",
    "\n",
    "all_templates_decode_kwargs = dict(desired_ripple_decoding_time_bin_size=desired_ripple_decoding_time_bin_size,\n",
    "\t\t\t\t\toverride_replay_epochs_df=replay_epochs_df, ## Use the filtered epochs\n",
    "\t\t\t\t\tuse_single_time_bin_per_epoch=False, minimum_event_duration=minimum_event_duration)\n",
    "\n",
    "(real_directional_merged_decoders_result, real_decoder_ripple_filter_epochs_decoder_result_dict), real_decoder_ripple_weighted_corr_arr = WCorrShuffle.build_real_result(track_templates=track_templates, directional_merged_decoders_result=alt_directional_merged_decoders_result, active_spikes_df=active_spikes_df, all_templates_decode_kwargs=all_templates_decode_kwargs)\n",
    "real_decoder_ripple_filter_epochs_decoder_result_dict : Dict[str, DecodedFilterEpochsResult] = deepcopy(real_decoder_ripple_filter_epochs_decoder_result_dict)\n",
    "real_decoder_ripple_filter_epochs_decoder_result_dict\n",
    "# real_decoder_ripple_weighted_corr_arr\n",
    "\n",
    "# real_directional_merged_decoders_result: DirectionalPseudo2DDecodersResult = deepcopy(directional_merged_decoders_result)\n",
    "# # real_output_alt_directional_merged_decoders_result, (real_decoder_laps_filter_epochs_decoder_result_dict, real_decoder_ripple_filter_epochs_decoder_result_dict) = _try_all_templates_decode(spikes_df=deepcopy(curr_active_pipeline.sess.spikes_df), a_directional_merged_decoders_result=real_directional_merged_decoders_result, shuffled_decoders_dict=real_directional_merged_decoders_result.all_directional_decoder_dict, **a_sweep_dict)\n",
    "# real_output_alt_directional_merged_decoders_result, (real_decoder_laps_filter_epochs_decoder_result_dict, real_decoder_ripple_filter_epochs_decoder_result_dict) = cls._try_all_templates_decode(spikes_df=active_spikes_df, a_directional_merged_decoders_result=real_directional_merged_decoders_result, shuffled_decoders_dict=track_templates.get_decoders_dict(), \n",
    "#                                                                                                                                                                                             skip_merged_decoding=True, **all_templates_decode_kwargs)\n",
    "# real_decoder_ripple_weighted_corr_df_dict = compute_weighted_correlations(decoder_decoded_epochs_result_dict=deepcopy(real_decoder_ripple_filter_epochs_decoder_result_dict))\n",
    "# real_decoder_ripple_weighted_corr_dict = {k:v['wcorr'].to_numpy() for k, v in real_decoder_ripple_weighted_corr_df_dict.items()}\n",
    "# real_decoder_ripple_weighted_corr_df = pd.DataFrame(real_decoder_ripple_weighted_corr_dict) ## (n_epochs, 4)\n",
    "# real_decoder_ripple_weighted_corr_arr = real_decoder_ripple_weighted_corr_df.to_numpy()\n",
    "# print(f'real_decoder_ripple_weighted_corr_arr: {np.shape(real_decoder_ripple_weighted_corr_arr)}')\n",
    "# real_directional_merged_decoders_result\n",
    "\n",
    "# real_output_alt_directional_merged_decoders_result, (real_decoder_laps_filter_epochs_decoder_result_dict, real_decoder_ripple_filter_epochs_decoder_result_dict) = WCorrShuffle._try_all_templates_decode(spikes_df=active_spikes_df, a_directional_merged_decoders_result=real_directional_merged_decoders_result, shuffled_decoders_dict=track_templates.get_decoders_dict(), \n",
    "#                                                                                                                                                                                             skip_merged_decoding=True, **all_templates_decode_kwargs)\n",
    "# real_decoder_ripple_filter_epochs_decoder_result_dict : Dict[str, DecodedFilterEpochsResult] = deepcopy(real_decoder_ripple_filter_epochs_decoder_result_dict)\n",
    "# real_decoder_ripple_filter_epochs_decoder_result_dict"
   ]
  },
  {
   "cell_type": "code",
   "execution_count": null,
   "id": "b802831e",
   "metadata": {},
   "outputs": [],
   "source": [
    "## INPUTS filtered_decoder_filter_epochs_decoder_result_dict\n",
    "from pyphoplacecellanalysis.Pho2D.stacked_epoch_slices import PhoPaginatedMultiDecoderDecodedEpochsWindow\n",
    "\n",
    "# decoder_decoded_epochs_result_dict: generic\n",
    "new_wcorr_shuffle_app, new_wcorr_shuffle_paginated_multi_decoder_decoded_epochs_window, new_wcorr_shuffle_pagination_controller_dict = PhoPaginatedMultiDecoderDecodedEpochsWindow.init_from_track_templates(curr_active_pipeline, track_templates,\n",
    "\t# decoder_decoded_epochs_result_dict=decoder_ripple_filter_epochs_decoder_result_dict,\n",
    "\tdecoder_decoded_epochs_result_dict=real_decoder_ripple_filter_epochs_decoder_result_dict,\n",
    "\t# decoder_decoded_epochs_result_dict=high_wcorr_only_filtered_decoder_filter_epochs_decoder_result_dict,\n",
    "\tepochs_name='ripple',\n",
    "\tincluded_epoch_indicies=None, debug_print=False,\n",
    "\tparams_kwargs={'enable_per_epoch_action_buttons': False,\n",
    "\t\t'skip_plotting_most_likely_positions': True, 'skip_plotting_measured_positions': True, \n",
    "\t\t'enable_decoded_most_likely_position_curve': False, 'enable_radon_transform_info': False, 'enable_weighted_correlation_info': True,\n",
    "\t\t# 'enable_radon_transform_info': False, 'enable_weighted_correlation_info': False,\n",
    "\t\t# 'disable_y_label': True,\n",
    "\t\t'isPaginatorControlWidgetBackedMode': True,\n",
    "\t\t'enable_update_window_title_on_page_change': False, 'build_internal_callbacks': True,\n",
    "\t\t# 'debug_print': True,\n",
    "\t\t'max_subplots_per_page': 10,\n",
    "\t\t'scrollable_figure': False,\n",
    "\t\t# 'posterior_heatmap_imshow_kwargs': dict(vmin=0.0075),\n",
    "\t\t'use_AnchoredCustomText': False,\n",
    "\t})\n"
   ]
  },
  {
   "cell_type": "code",
   "execution_count": null,
   "id": "8b6f2633",
   "metadata": {},
   "outputs": [],
   "source": [
    "new_wcorr_shuffle_paginated_multi_decoder_decoded_epochs_window.add_data_overlays(None, real_decoder_ripple_filter_epochs_decoder_result_dict)"
   ]
  },
  {
   "cell_type": "code",
   "execution_count": null,
   "id": "a4453253",
   "metadata": {},
   "outputs": [],
   "source": [
    "real_decoder_ripple_filter_epochs_decoder_result_dict['long_LR'].filter_epochs"
   ]
  },
  {
   "cell_type": "code",
   "execution_count": null,
   "id": "114d99fe",
   "metadata": {},
   "outputs": [],
   "source": [
    "new_wcorr_shuffle_paginated_multi_decoder_decoded_epochs_window.remove_data_overlays()"
   ]
  },
  {
   "cell_type": "code",
   "execution_count": null,
   "id": "304948c8",
   "metadata": {},
   "outputs": [],
   "source": [
    "\n",
    "# new_wcorr_shuffle_paginated_multi_decoder_decoded_epochs_window.add_data_overlays(decoder_laps_filter_epochs_decoder_result_dict, filtered_decoder_filter_epochs_decoder_result_dict)\n",
    "_tmp_out_selections = new_wcorr_shuffle_paginated_multi_decoder_decoded_epochs_window.restore_selections_from_user_annotations(source='diba_evt_file') # : # gets the annotations for the kdiba-evt file exported ripples, consistent with his 2009 paper\n"
   ]
  },
  {
   "cell_type": "code",
   "execution_count": null,
   "id": "d034fee6",
   "metadata": {},
   "outputs": [],
   "source": [
    "new_wcorr_shuffle_paginated_multi_decoder_decoded_epochs_window.setWindowTitle(f'PhoPaginatedMultiDecoderDecodedEpochsWindow: NEW Decoded Epoch Slices - real_decoder_ripple_filter_epochs_decoder_result_dict')\n"
   ]
  },
  {
   "cell_type": "code",
   "execution_count": null,
   "id": "400fa60d",
   "metadata": {},
   "outputs": [],
   "source": [
    "import neuropy\n",
    "\n",
    "all_directional_decoder_dict: Dict[str, neuropy.analyses.placefields.PfND] = alt_directional_merged_decoders_result.all_directional_decoder_dict\n",
    "all_directional_decoder_dict\n"
   ]
  },
  {
   "cell_type": "code",
   "execution_count": null,
   "id": "60921549",
   "metadata": {},
   "outputs": [],
   "source": [
    "print_keys_if_possible('alt_directional_merged_decoders_result.all_directional_decoder_dict', alt_directional_merged_decoders_result.all_directional_decoder_dict, max_depth=2)"
   ]
  },
  {
   "cell_type": "code",
   "execution_count": null,
   "id": "9fc12642",
   "metadata": {},
   "outputs": [],
   "source": [
    "a_container = alt_directional_merged_decoders_result.all_directional_decoder_dict\n",
    "num_elements: int = len(a_container)\n",
    "\n",
    "\n",
    "if isinstance(a_container, dict):\n",
    "\tfor i in np.arange(num_elements):\n",
    "\t\tfor k, v in a_container.items()\n",
    "\n"
   ]
  },
  {
   "cell_type": "code",
   "execution_count": null,
   "id": "cb0ce09b",
   "metadata": {},
   "outputs": [],
   "source": [
    "from pyphoplacecellanalysis.General.Pipeline.Stages.ComputationFunctions.MultiContextComputationFunctions.DirectionalPlacefieldGlobalComputationFunctions import _perform_compute_custom_epoch_decoding\n",
    "from pyphoplacecellanalysis.General.Pipeline.Stages.ComputationFunctions.MultiContextComputationFunctions.DirectionalPlacefieldGlobalComputationFunctions import _compute_all_df_score_metrics\n",
    "\n",
    "# DirectionalMergedDecoders: Get the result after computation:\n",
    "directional_merged_decoders_result: DirectionalPseudo2DDecodersResult = global_computation_results.computed_data['DirectionalMergedDecoders']\n",
    "ripple_decoding_time_bin_size: float = directional_merged_decoders_result.ripple_decoding_time_bin_size\n",
    "laps_decoding_time_bin_size: float = directional_merged_decoders_result.laps_decoding_time_bin_size\n",
    "pos_bin_size: float = track_templates.get_decoders()[0].pos_bin_size\n",
    "print(f'laps_decoding_time_bin_size: {laps_decoding_time_bin_size}, ripple_decoding_time_bin_size: {ripple_decoding_time_bin_size}, pos_bin_size: {pos_bin_size}')\n",
    "decoder_laps_filter_epochs_decoder_result_dict, decoder_ripple_filter_epochs_decoder_result_dict = _perform_compute_custom_epoch_decoding(curr_active_pipeline, directional_merged_decoders_result, track_templates) # Dict[str, Optional[DecodedFilterEpochsResult]]\n"
   ]
  },
  {
   "cell_type": "code",
   "execution_count": null,
   "id": "a0fefaf9",
   "metadata": {},
   "outputs": [],
   "source": [
    "\n",
    "# From `General.Pipeline.Stages.ComputationFunctions.MultiContextComputationFunctions.DirectionalPlacefieldGlobalComputationFunctions._decode_and_evaluate_epochs_using_directional_decoders`\n",
    "## Recompute the epoch scores/metrics such as radon transform and wcorr:\n",
    "(decoder_laps_filter_epochs_decoder_result_dict, decoder_ripple_filter_epochs_decoder_result_dict), merged_df_outputs_tuple, raw_dict_outputs_tuple = _compute_all_df_score_metrics(directional_merged_decoders_result, track_templates,\n",
    "\t\t\t\t\t\t\t\t\t\t\t\t\t\t\t\t\t\t\t\t\t\t\t\t\t\t\t\t\t\t\t\t\t\t\t\t\t\t\t\t\t\t\t\t\tdecoder_laps_filter_epochs_decoder_result_dict, decoder_ripple_filter_epochs_decoder_result_dict,\n",
    "\t\t\t\t\t\t\t\t\t\t\t\t\t\t\t\t\t\t\t\t\t\t\t\t\t\t\t\t\t\t\t\t\t\t\t\t\t\t\t\t\t\t\t\t\tspikes_df=deepcopy(curr_active_pipeline.sess.spikes_df),\n",
    "\t\t\t\t\t\t\t\t\t\t\t\t\t\t\t\t\t\t\t\t\t\t\t\t\t\t\t\t\t\t\t\t\t\t\t\t\t\t\t\t\t\t\t\t\tshould_skip_radon_transform=True)\n",
    "laps_radon_transform_merged_df, ripple_radon_transform_merged_df, laps_weighted_corr_merged_df, ripple_weighted_corr_merged_df, laps_simple_pf_pearson_merged_df, ripple_simple_pf_pearson_merged_df = merged_df_outputs_tuple\n",
    "decoder_laps_radon_transform_df_dict, decoder_ripple_radon_transform_df_dict, decoder_laps_radon_transform_extras_dict, decoder_ripple_radon_transform_extras_dict, decoder_laps_weighted_corr_df_dict, decoder_ripple_weighted_corr_df_dict = raw_dict_outputs_tuple\n",
    "## INPUT: ripple_weighted_corr_merged_df, wcorr_ripple_shuffle\n",
    "# Synchronize `ripple_weighted_corr_merged_df` to match `wcorr_ripple_shuffle.filtered_epochs_df` to compare wcorr values:\n",
    "filtered_epoch_start_times = deepcopy(wcorr_ripple_shuffle.filtered_epochs_df)['start'].to_numpy() # get the included times from `wcorr_ripple_shuffle`\n",
    "## Apply the filter to `ripple_weighted_corr_merged_df`\n",
    "filtered_epoch_indicies = find_data_indicies_from_epoch_times(ripple_weighted_corr_merged_df, epoch_times=np.squeeze(filtered_epoch_start_times), t_column_names=['ripple_start_t',], atol=0.001, not_found_action='skip_index', debug_print=False)\n",
    "# filtered_epoch_indicies\n",
    "assert len(filtered_epoch_indicies) > 0\n",
    "# filtered_epoch_indicies\n",
    "# ripple_weighted_corr_merged_df.epochs.matching_epoch_times_slice(epoch_times=np.squeeze(filtered_epoch_start_times), t_column_names=['ripple_start_t',])\n",
    "filtered_ripple_weighted_corr_merged_df: pd.DataFrame = ripple_weighted_corr_merged_df.loc[filtered_epoch_indicies].copy().reset_index(drop=True)\n",
    "filtered_ripple_weighted_corr_merged_df\n",
    "\n",
    "## OUTPUT: filtered_ripple_weighted_corr_merged_df"
   ]
  },
  {
   "cell_type": "code",
   "execution_count": null,
   "id": "c1bfe145",
   "metadata": {},
   "outputs": [],
   "source": [
    "## Compare real_decoder_ripple_wcorr_df and filtered_ripple_weighted_corr_merged_df\n",
    "\n",
    "## INPUT: filtered_ripple_weighted_corr_merged_df, real_decoder_ripple_wcorr_df\n",
    "assert len(real_decoder_ripple_wcorr_df) == len(filtered_ripple_weighted_corr_merged_df), f\"len(real_decoder_ripple_wcorr_df): {len(real_decoder_ripple_wcorr_df)} != len(filtered_ripple_weighted_corr_merged_df): {len(filtered_ripple_weighted_corr_merged_df)}\"\n",
    "assert np.all(np.isclose(real_decoder_ripple_wcorr_df['start_t'].to_numpy(), filtered_ripple_weighted_corr_merged_df['ripple_start_t'].to_numpy())), f\"all epoch start times must be the same!\"\n",
    "real_decoder_ripple_wcorr_df\n"
   ]
  },
  {
   "cell_type": "code",
   "execution_count": null,
   "id": "9855dde5",
   "metadata": {},
   "outputs": [],
   "source": [
    "paginated_multi_decoder_decoded_epochs_window.enable_middle_click_selected_epoch_times_to_clipboard()\n",
    "\n",
    "# clicked_epoch = np.array([132.51138943410479, 132.79100273095537])\n",
    "\n",
    "# clicked_epoch = np.array([149.95935746072792, 150.25439218967222])"
   ]
  },
  {
   "cell_type": "code",
   "execution_count": null,
   "id": "77930766",
   "metadata": {},
   "outputs": [],
   "source": [
    "\n",
    "selected_epoch_index: int = filtered_epoch_indicies[0]\n",
    "print(f'selected_epoch_index: {selected_epoch_index}')\n",
    "print(f'{clicked_epoch_start_times = }')\n"
   ]
  },
  {
   "cell_type": "code",
   "execution_count": null,
   "id": "02f869b4",
   "metadata": {},
   "outputs": [],
   "source": [
    "# original_wcorr_df: pd.DataFrame = pd.DataFrame({a_name:v['wcorr'].to_numpy() for a_name, v in decoder_ripple_weighted_corr_df_dict.items()})\n",
    "# original_wcorr_df"
   ]
  },
  {
   "cell_type": "code",
   "execution_count": null,
   "id": "474fa734",
   "metadata": {},
   "outputs": [],
   "source": [
    "selected_epoch_indicies = find_data_indicies_from_epoch_times(wcorr_ripple_shuffle.filtered_epochs_df, epoch_times=np.squeeze(clicked_epoch_start_times), t_column_names=['start',], atol=0.001, not_found_action='skip_index', debug_print=False)\n",
    "# selected_epoch_indicies\n",
    "\n",
    "assert len(selected_epoch_indicies) > 0\n",
    "\n",
    "selected_epoch_index: int = selected_epoch_indicies[0]\n",
    "print(f'selected_epoch_index: {selected_epoch_index}')\n",
    "print(f'{clicked_epoch_start_times = }')\n",
    "\n"
   ]
  },
  {
   "cell_type": "code",
   "execution_count": null,
   "id": "eb8357ac",
   "metadata": {},
   "outputs": [],
   "source": [
    "real_decoder_ripple_wcorr_df[np.isclose(real_decoder_ripple_wcorr_df['start_t'], 637.7847819341114)]\n"
   ]
  },
  {
   "cell_type": "code",
   "execution_count": null,
   "id": "d30c1fd4",
   "metadata": {},
   "outputs": [],
   "source": [
    "# Extracting complete results:\n",
    "a_shuffle_outcome: Dict[types.DecoderName, DecodedFilterEpochsResult] = output_all_shuffles_decoded_results_list[-1]\n",
    "a_shuffle_wcorrs = output_extracted_result_wcorrs_list[-1]\n",
    "\n",
    "## start with one decoder:\n",
    "a_decoder_name: types.DecoderName = 'long_LR'\n",
    "a_decoder_idx: int = 0\n",
    "a_shuffle_decoder_result: DecodedFilterEpochsResult = a_shuffle_outcome[a_decoder_name]\n",
    "# a_shuffle_decoder_result.filter_epochs\n",
    "\n",
    "a_shuffle_decoder_wcorr_result: NDArray = np.squeeze(a_shuffle_wcorrs[a_decoder_name].to_numpy()) # (n_epochs, )\n",
    "\n",
    "# a_shufle_wcorrs\n",
    "a_shuffle_decoder_wcorr_result.shape"
   ]
  },
  {
   "cell_type": "code",
   "execution_count": null,
   "id": "e4846e5b",
   "metadata": {},
   "outputs": [],
   "source": [
    "## INPUTS: a_decoder_name\n",
    "_out_shuffle_wcorr_arr = np.stack([np.squeeze(v[a_decoder_name].to_numpy()) for v in output_extracted_result_wcorrs_list]) # .shape ## (n_shuffles, n_epochs) \n",
    "print(f'_out_shuffle_wcorr_arr.shape: {np.shape(_out_shuffle_wcorr_arr)}') # _out_shuffle_wcorr_arr.shape: (n_shuffles, n_epochs)\n",
    "n_shuffles: int = np.shape(_out_shuffle_wcorr_arr)[0]\n",
    "print(f'n_shuffles: {n_shuffles}')\n",
    "n_epochs: int = np.shape(_out_shuffle_wcorr_arr)[1]\n",
    "print(f'n_epochs: {n_epochs}')"
   ]
  },
  {
   "cell_type": "code",
   "execution_count": null,
   "id": "f74e38d7",
   "metadata": {},
   "outputs": [],
   "source": [
    "## INPUTS: `wcorr_ripple_shuffle`\n",
    "wcorr_ripple_shuffle.n_completed_shuffles\n",
    "(_out_p, _out_p_dict), (_out_shuffle_wcorr_ZScore_LONG, _out_shuffle_wcorr_ZScore_SHORT), (total_n_shuffles_more_extreme_than_real_df, total_n_shuffles_more_extreme_than_real_dict), all_shuffles_wcorr_array = wcorr_ripple_shuffle.post_compute(curr_active_pipeline=curr_active_pipeline)\n",
    "## OUTPUTS: all_shuffles_wcorr_array, \n",
    "all_shuffles_wcorr_array"
   ]
  },
  {
   "cell_type": "code",
   "execution_count": null,
   "id": "76c91a3b",
   "metadata": {},
   "outputs": [],
   "source": [
    "## Get all shuffles for a single epoch:\n",
    "## INPUTS: all_shuffles_wcorr_array, a_decoder_idx, selected_epoch_index\n",
    "\n",
    "## start with one decoder:\n",
    "a_decoder_name: types.DecoderName = 'long_LR'\n",
    "a_decoder_idx: int = 0\n",
    "selected_epoch_index: int = 0\n",
    "\n",
    "# _single_epoch_all_shuffles_wcorr_arr = _out_shuffle_wcorr_arr[:, selected_epoch_index]\n",
    "_single_epoch_all_shuffles_wcorr_arr = wcorr_ripple_shuffle.all_shuffles_wcorr_array[:, selected_epoch_index, a_decoder_idx]\n",
    "print(f'np.shape(_single_epoch_all_shuffles_wcorr_arr): {np.shape(_single_epoch_all_shuffles_wcorr_arr)}') # (n_shuffles, )\n",
    "_single_epoch_all_shuffles_wcorr_arr\n",
    "\n",
    "_single_epoch_real_wcorr: float = wcorr_ripple_shuffle.real_decoder_ripple_weighted_corr_arr[selected_epoch_index, a_decoder_idx]\n",
    "_single_epoch_real_wcorr # -0.35003949543741564"
   ]
  },
  {
   "cell_type": "code",
   "execution_count": null,
   "id": "e2030bf1",
   "metadata": {},
   "outputs": [],
   "source": [
    "a_single_decoder_epoch_z_scored_values: NDArray = wcorr_ripple_shuffle.compute_z_transformed_scores(_single_epoch_all_shuffles_wcorr_arr)\n",
    "a_single_decoder_epoch_z_scored_values\n",
    "a_single_decoder_epoch_z_score: float = wcorr_ripple_shuffle.compute_z_score(_single_epoch_all_shuffles_wcorr_arr, _single_epoch_real_wcorr)\n",
    "print(f'a_single_decoder_epoch_z_score: {a_single_decoder_epoch_z_score}')"
   ]
  },
  {
   "cell_type": "markdown",
   "id": "eba84417",
   "metadata": {},
   "source": [
    "### :🟢 Build Dataframe"
   ]
  },
  {
   "cell_type": "code",
   "execution_count": null,
   "id": "7666a9f3",
   "metadata": {},
   "outputs": [],
   "source": [
    "import seaborn as sns\n",
    "from pyphoplacecellanalysis.Pho2D.statistics_plotting_helpers import pho_jointplot, plot_histograms\n",
    "sns.set_theme(style=\"ticks\")\n",
    "\n",
    "import plotly.io as pio\n",
    "import plotly.subplots as sp\n",
    "import plotly.express as px\n",
    "import plotly.graph_objs as go\n",
    "from pyphoplacecellanalysis.Pho2D.plotly.plotly_templates import PlotlyHelpers\n",
    "from pyphoplacecellanalysis.Pho2D.statistics_plotting_helpers import plot_histograms_across_sessions, plot_stacked_histograms\n",
    "from pyphoplacecellanalysis.Pho2D.plotly.Extensions.plotly_helpers import plotly_helper_save_figures, _helper_build_figure, plotly_pre_post_delta_scatter, plot_across_sessions_scatter_results\n",
    "\n",
    "# Plotly Imports:\n",
    "fig_size_kwargs = {'width': 1650, 'height': 480}\n",
    "is_dark_mode, template = PlotlyHelpers.get_plotly_template(is_dark_mode=False)\n",
    "pio.templates.default = template\n",
    "\n",
    "df: pd.DataFrame = deepcopy(wcorr_ripple_shuffle_all_df)\n",
    "df"
   ]
  },
  {
   "cell_type": "code",
   "execution_count": null,
   "id": "5dd6fe70",
   "metadata": {},
   "outputs": [],
   "source": [
    "## Create a new scatter plot:\n",
    "# px_scatter_kwargs = {'x': 'epoch_idx', 'y': 'shuffle_wcorr', 'color':\"decoder_idx\", 'title': f\"'wcorr scatter results'\"} # , 'color': 'time_bin_size', 'range_y': [-1.0, 1.0], 'labels': {'session_name': 'Session', 'time_bin_size': 'tbin_size', 'is_user_annotated_epoch':'user_sel'}\n",
    "# df = all_shuffles_wcorr_df\n",
    "\n",
    "## INPUTS: wcorr_ZScore_real_LR_df\n",
    "# px_scatter_kwargs = {'x': 'start_t', 'y': 'long', 'title': f\"'wcorr scatter results LONG'\"} # , 'color': 'time_bin_size', 'range_y': [-1.0, 1.0], 'labels': {'session_name': 'Session', 'time_bin_size': 'tbin_size', 'is_user_annotated_epoch':'user_sel'}\n",
    "# df = wcorr_ZScore_real_LR_df\n",
    "\n",
    "## INPUTS: real_decoder_ripple_wcorr_df\n",
    "px_scatter_kwargs = {'x': 'start', 'y': 'wcorr_z_long', 'title': f\"'real_decoder_ripple_wcorr_df long_RL'\"} # , 'color': 'time_bin_size', 'range_y': [-1.0, 1.0], 'labels': {'session_name': 'Session', 'time_bin_size': 'tbin_size', 'is_user_annotated_epoch':'user_sel'}\n",
    "# df = real_decoder_ripple_wcorr_df\n",
    "\n",
    "\n",
    "# px_scatter_kwargs.pop('color')\n",
    "out_scatter_fig = px.scatter(df, **px_scatter_kwargs)\n",
    "out_scatter_fig\n"
   ]
  },
  {
   "cell_type": "code",
   "execution_count": null,
   "id": "3da466ed",
   "metadata": {},
   "outputs": [],
   "source": [
    "histogram_bins = 25\n",
    "concatenated_ripple_df = deepcopy(all_shuffles_wcorr_df)\n",
    "# variable_name = 'P_Long'\n",
    "variable_name = 'P_Short' # Shows expected effect - short-only replay prior to delta and then split replays post-delta\n",
    "# variable_name = 'long_best_pf_peak_x_pearsonr'\n",
    "# variable_name = 'long_best_jump'\n",
    "# variable_name = 'wcorr_abs_diff'\n",
    "# variable_name = 'pearsonr_abs_diff'\n",
    "# variable_name = 'direction_change_bin_ratio_diff'\n",
    "# variable_name = 'longest_sequence_length_ratio_diff'\n",
    "# variable_name = 'long_best_longest_sequence_length_ratio'\n",
    "# variable_name = 'long_best_congruent_dir_bins_ratio'\n",
    "# variable_name = 'congruent_dir_bins_ratio_diff'\n",
    "# variable_name = 'total_congruent_direction_change_diff'\n",
    "# variable_name = 'long_best_congruent_dir_bins_ratio'\n",
    "# variable_name = 'long_best_direction_change_bin_ratio'\n",
    "# variable_name = 'long_best_congruent_dir_bins_ratio'\n",
    "# 'color':'is_user_annotated_epoch'\n",
    "# 'color': 'is_user_annotated_epoch', \n",
    "\n",
    "px_scatter_kwargs = {'x': 'delta_aligned_start_t', 'y': variable_name, 'color':\"is_user_annotated_epoch\", 'title': f\"'{variable_name}'\"} # , 'color': 'time_bin_size', 'range_y': [-1.0, 1.0], 'labels': {'session_name': 'Session', 'time_bin_size': 'tbin_size', 'is_user_annotated_epoch':'user_sel'}\n",
    "\n",
    "px_scatter_kwargs.pop('color')\n",
    "\n",
    "# hist_kwargs = dict(color=\"time_bin_size\")\n",
    "hist_kwargs = dict(color=\"is_user_annotated_epoch\") # , histnorm='probability density'\n",
    "hist_kwargs.pop('color')\n",
    "new_fig_ripples, new_fig_ripples_context = plotly_pre_post_delta_scatter(data_results_df=concatenated_ripple_df, out_scatter_fig=None, histogram_bins=histogram_bins,\n",
    "\t\t\t\t\t\tpx_scatter_kwargs=px_scatter_kwargs, histogram_variable_name=variable_name, hist_kwargs=hist_kwargs, forced_range_y=None,\n",
    "\t\t\t\t\t\ttime_delta_tuple=(earliest_delta_aligned_t_start, 0.0, latest_delta_aligned_t_end), legend_title_text='Is User Selected', is_dark_mode=is_dark_mode)\n",
    "new_fig_ripples = new_fig_ripples.update_layout(fig_size_kwargs)\n",
    "\n",
    "_extras_output_dict = {}\n",
    "_extras_output_dict[\"y_mid_line\"] = new_fig_ripples.add_hline(y=0.5, line=dict(color=\"rgba(0.8,0.8,0.8,.75)\", width=2), row='all', col='all')\n",
    "\n",
    "# # Update layout to add a title to the legend\n",
    "# new_fig_ripples.update_layout(\n",
    "#     legend_title_text='Is User Selected'  # Add a title to the legend\n",
    "# )\n",
    "\n",
    "# fig_to_clipboard(new_fig_ripples, **fig_size_kwargs)\n",
    "figure_out_paths = save_plotly(a_fig=new_fig_ripples, a_fig_context=figure_ripples_context)\n",
    "new_fig_ripples"
   ]
  },
  {
   "cell_type": "code",
   "execution_count": null,
   "id": "8b4fd2f9",
   "metadata": {},
   "outputs": [],
   "source": [
    "import seaborn as sns\n",
    "sns.set_theme()\n",
    "\n",
    "# mpg = sns.load_dataset(\"mpg\")\n",
    "\n",
    "## INPUT: pd.DataFrame\n",
    "sns.catplot(\n",
    "\tdata=all_shuffles_wcorr_df, x=\"epoch_idx\", y=\"shuffle_wcorr\", hue=\"decoder_idx\",\n",
    "\tnative_scale=True, zorder=1\n",
    ")\n"
   ]
  },
  {
   "cell_type": "code",
   "execution_count": null,
   "id": "c89aac6c",
   "metadata": {},
   "outputs": [],
   "source": [
    "\n",
    "# pd.DataFrame(_out_shuffle_wcorr_Zscore_val, columns=['LongLR', 'LongRL', 'ShortLR', 'ShortRL'])\n",
    "\n",
    "# _out_wcorr_ZScore_LR_dict = dict(zip(['LongLR', 'LongRL', 'ShortLR', 'ShortRL'], [v for v in _out_shuffle_wcorr_Zscore_val.T]))\n",
    "# _out_wcorr_ZScore_LR_dict\n",
    "\n",
    "figure_identifier: str = f\"wcorr (best dir selected for each event) fig\"\n",
    "fig = plt.figure(num=figure_identifier, clear=True, figsize=(6, 2))\n",
    "# for time_bin_size in time_bin_sizes:\n",
    "#     df_tbs = pre_delta_df[pre_delta_df['time_bin_size']==time_bin_size]\n",
    "#     df_tbs['P_Long'].hist(alpha=0.5, label=str(time_bin_size)) \n",
    "\t\n",
    "\n",
    "n_shuffles: int = wcorr_ripple_shuffle.n_completed_shuffles\n",
    "print(f'n_shuffles')\n",
    "\n",
    "_out_dfs = []\n",
    "# for i, (name, v) in enumerate(total_n_shuffles_more_extreme_than_real_dict.items()):\n",
    "# for i, (name, v) in enumerate(_out_p_dict.items()):\n",
    "# for i, (name, v) in enumerate(_out_shuffle_wcorr_arr_ZScores_LR_dict.items()):\n",
    "for i, (name, v) in enumerate(_out_wcorr_ZScore_LR_dict.items()):\n",
    "\n",
    "\t# if i == 0:\n",
    "\tassert np.shape(epoch_start_t) == np.shape(_out_shuffle_wcorr_ZScore_LONG)\n",
    "\tassert np.shape(epoch_start_t) == np.shape(_out_shuffle_wcorr_ZScore_SHORT)\n",
    "\t# curr_is_valid_epoch_shuffle_indicies = np.any(valid_shuffle_indicies[:,:,i]) # (n_shuffles, n_epochs)\n",
    "\t# curr_t = np.squeeze(epoch_start_t[curr_is_valid_epoch_shuffle_indicies])\n",
    "\tcurr_t = np.squeeze(epoch_start_t)\n",
    "\tprint(f'np.shape(curr_t): {np.shape(curr_t)}')\n",
    "\tprint(f'np.shape(v): {np.shape(v)}')\n",
    "\tcurr_shuffle_wcorr_arr = wcorr_ripple_shuffle.all_shuffles_wcorr_array[:,:,i] # (n_shuffles, n_epochs)\n",
    "\n",
    "\t# curr_shuffle_wcorr_df[name] = v\n",
    "\t# curr_shuffle_wcorr_df = pd.DataFrame(np.hstack([curr_shuffle_wcorr_arr, np.repeat(i, n_shuffles)])) # , columns=[]\n",
    "\n",
    "\tn_shuffles, n_epochs = np.shape(curr_shuffle_wcorr_arr)\n",
    "\tprint(f\"{n_shuffles = }, {n_epochs = }\")\n",
    "\t# curr_shuffle_wcorr_df = pd.DataFrame(curr_shuffle_wcorr_arr) # , columns=[]\n",
    "\t# curr_shuffle_wcorr_df = pd.DataFrame(np.hstack([np.atleast_2d(np.repeat(i, n_shuffles)).T, curr_shuffle_wcorr_arr]), columns=(['epoch_idx'] + [f'{int(i)}' for i in np.arange(n_epochs)]))\n",
    "\t# curr_shuffle_wcorr_df = pd.DataFrame(np.hstack([np.atleast_2d(np.repeat(i, n_shuffles)).T, np.atleast_2d(np.arange(n_shuffles)).T, curr_shuffle_wcorr_arr]), columns=(['epoch_idx', 'shuffle_idx'] + [f'{int(i)}' for i in np.arange(n_epochs)]))\n",
    "\n",
    "\tcurr_shuffle_wcorr_df = pd.DataFrame(np.hstack([np.atleast_2d(np.repeat(i, n_shuffles)).T, np.atleast_2d(np.arange(n_shuffles)).T]), columns=(['epoch_idx', 'shuffle_idx']))\n",
    "\n",
    "\tepoch_id_sequence = np.array([f'{int(i)}' for i in np.arange(n_epochs)])\n",
    "\n",
    "\tcurr_shuffle_wcorr_df['epoch_idx'] = np.tile(epoch_id_sequence, n_shuffles)\n",
    "\t\n",
    "\t# curr_shuffle_wcorr_arr\n",
    "\t# \n",
    "\tcurr_shuffle_wcorr_df['epoch_idx'] = curr_shuffle_wcorr_df['epoch_idx'].astype(int)\n",
    "\tcurr_shuffle_wcorr_df['shuffle_idx'] = curr_shuffle_wcorr_df['shuffle_idx'].astype(int)\n",
    "\tcurr_shuffle_wcorr_df['track_id'] = name\n",
    "\t# curr_shuffle_wcorr_df\n",
    "\n",
    "\t_out_dfs.append(curr_shuffle_wcorr_df)\n",
    "\t\n",
    "\t# _flat_v = np.nanmean(v, axis=0)\n",
    "\t# _flat_v = np.abs(v)\n",
    "\t# _flat_v = v\n",
    "\t# _temp_df = pd.DataFrame({'epoch_start_t': curr_t, 'p': v})\n",
    "\t# _temp_df = pd.DataFrame({'epoch_start_t': curr_t, 'flat_Z_corr': _flat_v})\n",
    "\t# plt.scatter(np.arange(np.shape(v)[0]), v, label=name)\n",
    "\t# plt.scatter(epoch_start_t, _flat_v, label=name)\n",
    "\n",
    "\t# _temp_df.hist(column='flat_Z_corr', alpha=0.5, label=str(name)) \n",
    "\n",
    "\t# plot_histograms('Laps', 'One Session', several_time_bin_sizes_time_bin_laps_df, \"several\")\n",
    "\n",
    "\n",
    "all_shuffles_wcorr_df: pd.DataFrame = pd.concat(_out_dfs)\n",
    "all_shuffles_wcorr_df\n",
    "\n",
    "\n",
    "all_shuffles_wcorr_df['epoch_idx'].unique()\n",
    "# plt.title(f'{figure_identifier}')\n",
    "# plt.xlabel('time')\n",
    "# plt.ylabel('Z-scored Wcorr')\n",
    "# plt.legend()\n",
    "# plt.show()"
   ]
  },
  {
   "cell_type": "code",
   "execution_count": null,
   "id": "a9c401f7",
   "metadata": {},
   "outputs": [],
   "source": [
    "# how would I represent the results of 1000 shuffles for each epoch. (n_shuffles, n_epochs)"
   ]
  },
  {
   "cell_type": "code",
   "execution_count": null,
   "id": "3d395c47",
   "metadata": {},
   "outputs": [],
   "source": [
    "\n",
    "curr_shuffle_wcorr_df.co\n",
    "\n",
    "curr_shuffle_wcorr_df.columns[-1] = 'epoch_idx'\n",
    "# curr_shuffle_wcorr_df.set_axis(labels=['n_shuffles', 'n_epochs'])"
   ]
  },
  {
   "cell_type": "code",
   "execution_count": null,
   "id": "bdff2f2b",
   "metadata": {},
   "outputs": [],
   "source": [
    "curr_shuffle_wcorr_df"
   ]
  },
  {
   "cell_type": "code",
   "execution_count": null,
   "id": "76aed53c",
   "metadata": {},
   "outputs": [],
   "source": [
    "import seaborn as sns\n",
    "import matplotlib.pyplot as plt\n",
    "\n",
    "sns.set_theme(style=\"whitegrid\")\n",
    "iris = sns.load_dataset(\"iris\")\n",
    "\n",
    "# \"Melt\" the dataset to \"long-form\" or \"tidy\" representation\n",
    "iris = iris.melt(id_vars=\"species\", var_name=\"measurement\")\n",
    "\n",
    "# Initialize the figure\n",
    "f, ax = plt.subplots()\n",
    "sns.despine(bottom=True, left=True)\n",
    "\n",
    "# Show each observation with a scatterplot\n",
    "sns.stripplot(\n",
    "\tdata=iris, x=\"value\", y=\"measurement\", hue=\"species\",\n",
    "\tdodge=True, alpha=.25, zorder=1, legend=False,\n",
    ")\n",
    "\n",
    "# Show the conditional means, aligning each pointplot in the\n",
    "# center of the strips by adjusting the width allotted to each\n",
    "# category (.8 by default) by the number of hue levels\n",
    "sns.pointplot(\n",
    "\tdata=iris, x=\"value\", y=\"measurement\", hue=\"species\",\n",
    "\tdodge=.8 - .8 / 3, palette=\"dark\", errorbar=None,\n",
    "\tmarkers=\"d\", markersize=4, linestyle=\"none\",\n",
    ")\n",
    "\n",
    "# Improve the legend\n",
    "sns.move_legend(\n",
    "\tax, loc=\"lower right\", ncol=3, frameon=True, columnspacing=1, handletextpad=0,\n",
    ")"
   ]
  },
  {
   "cell_type": "code",
   "execution_count": null,
   "id": "35184d11",
   "metadata": {},
   "outputs": [],
   "source": [
    "_out_shuffle_wcorr_ZScore_LONG\n",
    "_out_shuffle_wcorr_ZScore_SHORT\n",
    "epoch_start_t"
   ]
  },
  {
   "cell_type": "code",
   "execution_count": null,
   "id": "40b378dc",
   "metadata": {},
   "outputs": [],
   "source": [
    "\n",
    "common_kwargs = dict(ylim=(0,1), hue='time_bin_size') # , marginal_kws=dict(bins=25, fill=True)\n",
    "# sns.jointplot(data=a_laps_all_epoch_bins_marginals_df, x='lap_start_t', y='P_Long', kind=\"scatter\", color=\"#4CB391\")\n",
    "pho_jointplot(data=several_time_bin_sizes_laps_df, x='delta_aligned_start_t', y='P_Long', kind=\"scatter\", **common_kwargs, title='Laps: per epoch') #color=\"#4CB391\")\n",
    "pho_jointplot(data=several_time_bin_sizes_ripple_df, x='delta_aligned_start_t', y='P_Long', kind=\"scatter\", **common_kwargs, title='Ripple: per epoch')\n",
    "pho_jointplot(data=several_time_bin_sizes_time_bin_ripple_df, x='delta_aligned_start_t', y='P_Long', kind=\"scatter\", **common_kwargs, title='Ripple: per time bin')\n",
    "pho_jointplot(data=several_time_bin_sizes_time_bin_laps_df, x='delta_aligned_start_t', y='P_Long', kind=\"scatter\", **common_kwargs, title='Laps: per time bin')"
   ]
  },
  {
   "cell_type": "code",
   "execution_count": null,
   "id": "d075a27f",
   "metadata": {},
   "outputs": [],
   "source": [
    "wcorr_ripple_shuffle_all_df"
   ]
  },
  {
   "cell_type": "code",
   "execution_count": null,
   "id": "e2943319",
   "metadata": {},
   "outputs": [],
   "source": [
    "pho_jointplot(data=wcorr_ripple_shuffle_all_df, x='start', y='wcorr_z_long', kind=\"scatter\", title='Ripple: wcorr long per epoch')\n",
    "pho_jointplot(data=wcorr_ripple_shuffle_all_df, x='start', y='wcorr_z_short', kind=\"scatter\", title='Ripple: wcorr short per epoch')\n"
   ]
  },
  {
   "cell_type": "code",
   "execution_count": null,
   "id": "4413d189",
   "metadata": {},
   "outputs": [],
   "source": [
    "a_shuffle_wcorr_arr"
   ]
  },
  {
   "cell_type": "code",
   "execution_count": null,
   "id": "aa72f9ef",
   "metadata": {},
   "outputs": [],
   "source": [
    "real_decoder_ripple_weighted_corr_arr"
   ]
  },
  {
   "cell_type": "code",
   "execution_count": null,
   "id": "1384c8c3",
   "metadata": {},
   "outputs": [],
   "source": [
    "np.sum(np.logical_not(a_decoder_ripple_weighted_corr_df.notna()))\n",
    "\n",
    "a_shuffle_is_more_extreme"
   ]
  },
  {
   "cell_type": "code",
   "execution_count": null,
   "id": "e6c84388",
   "metadata": {},
   "outputs": [],
   "source": [
    "a_decoder_ripple_weighted_corr_df"
   ]
  },
  {
   "cell_type": "code",
   "execution_count": null,
   "id": "49403abe",
   "metadata": {},
   "outputs": [],
   "source": [
    "output_decoder_ripple_weighted_corr_df_dicts = np.hstack([output_extracted_result_tuples[i][-1] for i, v in enumerate(output_extracted_result_tuples)])\n",
    "output_decoder_ripple_weighted_corr_df_dicts"
   ]
  },
  {
   "cell_type": "code",
   "execution_count": null,
   "id": "afd4cc3d",
   "metadata": {},
   "outputs": [],
   "source": [
    "(laps_weighted_corr_merged_df, ripple_weighted_corr_merged_df), (decoder_laps_filter_epochs_decoder_result_dict, decoder_ripple_filter_epochs_decoder_result_dict) = _subfn_compute_complete_df_metrics(directional_merged_decoders_result, track_templates, decoder_laps_filter_epochs_decoder_result_dict, decoder_ripple_filter_epochs_decoder_result_dict,\n",
    "\t\t\t\t\t\t\t\t\t\t\t\t\t\t\t\t\t\t\t\t\t\t\t\t\t\t\t\t\t\t\t\t\t\t\t\t\t\t\t\t\t\t\t\t\t\t\t\t\t\t\tdecoder_laps_df_dict=deepcopy(decoder_laps_weighted_corr_df_dict), decoder_ripple_df_dict=deepcopy(decoder_ripple_weighted_corr_df_dict), active_df_columns = ['wcorr'])\n"
   ]
  },
  {
   "cell_type": "markdown",
   "id": "7a82089d",
   "metadata": {},
   "source": [
    "# 🎯🟢 2024-05-29 - Trial-by-Trial Activity"
   ]
  },
  {
   "cell_type": "code",
   "execution_count": 43,
   "id": "77f3cd82",
   "metadata": {},
   "outputs": [
    {
     "data": {
      "text/plain": [
       "TrialByTrialActivityResult(is_global: bool,\n",
       "\tresult_version: str,\n",
       "\t_VersionedResultMixin_version: str,\n",
       "\tany_decoder_neuron_IDs: numpy.ndarray,\n",
       "\tactive_pf_dt: neuropy.analyses.time_dependent_placefields.PfND_TimeDependent,\n",
       "\tdirectional_lap_epochs_dict: dict,\n",
       "\tdirectional_active_lap_pf_results_dicts: dict\n",
       ")"
      ]
     },
     "execution_count": 43,
     "metadata": {},
     "output_type": "execute_result"
    }
   ],
   "source": [
    "from neuropy.analyses.time_dependent_placefields import PfND_TimeDependent\n",
    "from pyphoplacecellanalysis.Analysis.reliability import TrialByTrialActivity\n",
    "from pyphoplacecellanalysis.General.Pipeline.Stages.ComputationFunctions.MultiContextComputationFunctions.DirectionalPlacefieldGlobalComputationFunctions import TrialByTrialActivityResult\n",
    "\n",
    "# # spikes_df = curr_active_pipeline.sess.spikes_df\n",
    "# rank_order_results = global_computation_results.computed_data['RankOrder'] # : \"RankOrderComputationsContainer\"\n",
    "# minimum_inclusion_fr_Hz: float = rank_order_results.minimum_inclusion_fr_Hz\n",
    "# # included_qclu_values: List[int] = rank_order_results.included_qclu_values\n",
    "# directional_laps_results: DirectionalLapsResult = global_computation_results.computed_data['DirectionalLaps']\n",
    "# track_templates: TrackTemplates = directional_laps_results.get_templates(minimum_inclusion_fr_Hz=minimum_inclusion_fr_Hz) # non-shared-only -- !! Is minimum_inclusion_fr_Hz=None the issue/difference?\n",
    "# # long_LR_decoder, long_RL_decoder, short_LR_decoder, short_RL_decoder = track_templates.get_decoders()\n",
    "\n",
    "# # Unpack all directional variables:\n",
    "# ## {\"even\": \"RL\", \"odd\": \"LR\"}\n",
    "# long_LR_name, short_LR_name, global_LR_name, long_RL_name, short_RL_name, global_RL_name, long_any_name, short_any_name, global_any_name = ['maze1_odd', 'maze2_odd', 'maze_odd', 'maze1_even', 'maze2_even', 'maze_even', 'maze1_any', 'maze2_any', 'maze_any']\n",
    "# # Unpacking for `(long_LR_name, long_RL_name, short_LR_name, short_RL_name)`\n",
    "# long_LR_epochs_obj, long_RL_epochs_obj, short_LR_epochs_obj, short_RL_epochs_obj, global_any_laps_epochs_obj = [curr_active_pipeline.computation_results[an_epoch_name].computation_config.pf_params.computation_epochs for an_epoch_name in (long_LR_name, long_RL_name, short_LR_name, short_RL_name, global_any_name)] # note has global also\n",
    "\n",
    "## INPUTS: curr_active_pipeline, track_templates, global_epoch_name, (long_LR_epochs_obj, long_RL_epochs_obj, short_LR_epochs_obj, short_RL_epochs_obj)\n",
    "any_decoder_neuron_IDs: NDArray = deepcopy(track_templates.any_decoder_neuron_IDs)\n",
    "# long_epoch_name, short_epoch_name, global_epoch_name = curr_active_pipeline.find_LongShortGlobal_epoch_names()\n",
    "\n",
    "# ## Directional Trial-by-Trial Activity:\n",
    "if 'pf1D_dt' not in curr_active_pipeline.computation_results[global_epoch_name].computed_data:\n",
    "\t# if `KeyError: 'pf1D_dt'` recompute\n",
    "\tcurr_active_pipeline.perform_specific_computation(computation_functions_name_includelist=['pfdt_computation'], enabled_filter_names=None, fail_on_exception=True, debug_print=False)\n",
    "\n",
    "active_pf_1D_dt: PfND_TimeDependent = deepcopy(curr_active_pipeline.computation_results[global_epoch_name].computed_data['pf1D_dt'])\n",
    "# active_pf_2D_dt: PfND_TimeDependent = deepcopy(curr_active_pipeline.computation_results[global_epoch_name].computed_data['pf2D_dt'])\n",
    "\n",
    "active_pf_dt: PfND_TimeDependent = active_pf_1D_dt\n",
    "# Limit only to the placefield aclus:\n",
    "active_pf_dt = active_pf_dt.get_by_id(ids=any_decoder_neuron_IDs)\n",
    "\n",
    "# active_pf_dt: PfND_TimeDependent = deepcopy(active_pf_2D_dt) # 2D\n",
    "long_LR_name, long_RL_name, short_LR_name, short_RL_name = track_templates.get_decoder_names()\n",
    "\n",
    "directional_lap_epochs_dict = dict(zip((long_LR_name, long_RL_name, short_LR_name, short_RL_name), (long_LR_epochs_obj, long_RL_epochs_obj, short_LR_epochs_obj, short_RL_epochs_obj)))\n",
    "directional_active_lap_pf_results_dicts: Dict[str, TrialByTrialActivity] = TrialByTrialActivity.directional_compute_trial_by_trial_correlation_matrix(active_pf_dt=active_pf_dt, directional_lap_epochs_dict=directional_lap_epochs_dict, included_neuron_IDs=any_decoder_neuron_IDs)\n",
    "\n",
    "## OUTPUTS: directional_active_lap_pf_results_dicts\n",
    "a_trial_by_trial_result: TrialByTrialActivityResult = TrialByTrialActivityResult(any_decoder_neuron_IDs=any_decoder_neuron_IDs,\n",
    "\t\t\t\t\t\t\t\t\t\t\t\t\t\t\t\t\t\t\t\tactive_pf_dt=active_pf_dt,\n",
    "\t\t\t\t\t\t\t\t\t\t\t\t\t\t\t\t\t\t\t\tdirectional_lap_epochs_dict=directional_lap_epochs_dict,\n",
    "\t\t\t\t\t\t\t\t\t\t\t\t\t\t\t\t\t\t\t\tdirectional_active_lap_pf_results_dicts=directional_active_lap_pf_results_dicts,\n",
    "\t\t\t\t\t\t\t\t\t\t\t\t\t\t\t\t\t\t\t\tis_global=True)  # type: Tuple[Tuple[Dict[str, Any], Dict[str, Any]], Dict[str, BasePositionDecoder], Any]\n",
    "\n",
    "a_trial_by_trial_result\n",
    "\n",
    "# Time-dependent\n",
    "long_pf1D_dt, short_pf1D_dt, global_pf1D_dt = long_results.pf1D_dt, short_results.pf1D_dt, global_results.pf1D_dt\n",
    "long_pf2D_dt, short_pf2D_dt, global_pf2D_dt = long_results.pf2D_dt, short_results.pf2D_dt, global_results.pf2D_dt\n",
    "global_pf1D_dt: PfND_TimeDependent = global_results.pf1D_dt\n",
    "global_pf2D_dt: PfND_TimeDependent = global_results.pf2D_dt"
   ]
  },
  {
   "cell_type": "code",
   "execution_count": 44,
   "id": "af83d268",
   "metadata": {},
   "outputs": [
    {
     "data": {
      "text/plain": [
       "(65, 20, 20)"
      ]
     },
     "execution_count": 44,
     "metadata": {},
     "output_type": "execute_result"
    },
    {
     "data": {
      "text/plain": [
       "(20, 65, 57)"
      ]
     },
     "execution_count": 44,
     "metadata": {},
     "output_type": "execute_result"
    }
   ],
   "source": [
    "aTbyT:TrialByTrialActivity = a_trial_by_trial_result.directional_active_lap_pf_results_dicts['long_LR']\n",
    "aTbyT.C_trial_by_trial_correlation_matrix.shape # (40, 21, 21)\n",
    "aTbyT.z_scored_tuning_map_matrix.shape # (21, 40, 57) (n_epochs, n_neurons, n_pos_bins)"
   ]
  },
  {
   "cell_type": "code",
   "execution_count": null,
   "id": "71633da8",
   "metadata": {},
   "outputs": [],
   "source": [
    "a_trial_by_trial_result.directional_active_lap_pf_results_dicts"
   ]
  },
  {
   "cell_type": "code",
   "execution_count": null,
   "id": "62264383",
   "metadata": {},
   "outputs": [],
   "source": [
    "# a_trial_by_trial_result.active_pf_dt.plot_raw()"
   ]
  },
  {
   "cell_type": "code",
   "execution_count": null,
   "id": "c14366a2",
   "metadata": {},
   "outputs": [],
   "source": [
    "(directional_viewer, directional_image_layer_dict, custom_direction_split_layers_dict) = aTbyT.plot_napari_trial_by_trial_correlation_matrix(directional_active_lap_pf_results_dicts=a_trial_by_trial_result.directional_active_lap_pf_results_dicts)"
   ]
  },
  {
   "cell_type": "code",
   "execution_count": null,
   "id": "cac8288a",
   "metadata": {},
   "outputs": [],
   "source": [
    "n_xbins = len(active_pf_dt.xbin_centers)\n",
    "n_xbins"
   ]
  },
  {
   "cell_type": "code",
   "execution_count": null,
   "id": "5108508a",
   "metadata": {},
   "outputs": [],
   "source": [
    "aTbyT.z_scored_tuning_map_matrix"
   ]
  },
  {
   "cell_type": "code",
   "execution_count": null,
   "id": "18b29c41",
   "metadata": {},
   "outputs": [],
   "source": [
    "a_trial_by_trial_result.active_pf_dt.historical_snapshots"
   ]
  },
  {
   "cell_type": "code",
   "execution_count": null,
   "id": "308530d2",
   "metadata": {},
   "outputs": [],
   "source": [
    "global_pf2D_dt.historical_snapshots"
   ]
  },
  {
   "cell_type": "code",
   "execution_count": null,
   "id": "30be70f2",
   "metadata": {},
   "outputs": [],
   "source": [
    "from pyphoplacecellanalysis.General.Pipeline.Stages.Loading import saveData, loadData\n",
    "\n",
    "saveData('2024-08-22-test_a_trial_by_trial_result_data.pkl', a_trial_by_trial_result)\n"
   ]
  },
  {
   "cell_type": "code",
   "execution_count": null,
   "id": "038c7137",
   "metadata": {},
   "outputs": [],
   "source": [
    "loaded_a_trial_by_trial_result = loadData('test_a_trial_by_trial_result_data.pkl')\n",
    "loaded_a_trial_by_trial_result"
   ]
  },
  {
   "cell_type": "markdown",
   "id": "5148cc20",
   "metadata": {},
   "source": [
    "### :🎯:🟢 2024-08-14- :🚧:🖼️  Normal Matplotlib-based figure output for the `trial_by_trial_correlation_matrix.z_scored_tuning_map_matrix` to show the reliably of each place cell across laps"
   ]
  },
  {
   "cell_type": "code",
   "execution_count": null,
   "id": "5cf525cf",
   "metadata": {},
   "outputs": [],
   "source": [
    "## INPUTS: a_trial_by_trial_result\n",
    "# C_trial_by_trial_correlation_matrix: numpy.ndarray | shape (n_neurons, n_epochs, n_epochs),\n",
    "# z_scored_tuning_map_matrix: numpy.ndarray | shape (n_epochs, n_neurons, n_pos_bins), --- #TODO 2024-08-14 14:33: - [ ] this is 1D pos only\n",
    "# aclu_to_matrix_IDX_map: dict,\n",
    "# neuron_ids: numpy.ndarray | shape (n_neurons)\n",
    "directional_active_lap_pf_results_dicts: Dict[types.DecoderName, TrialByTrialActivity] = deepcopy(a_trial_by_trial_result.directional_active_lap_pf_results_dicts)\n",
    "directional_active_lap_pf_results_dicts\n",
    "\n",
    "a_decoder_name = 'long_LR'\n",
    "active_trial_by_trial_activity_obj = directional_active_lap_pf_results_dicts[a_decoder_name]\n",
    "\n",
    "z_scored_tuning_map_matrix = active_trial_by_trial_activity_obj.z_scored_tuning_map_matrix # shape (n_epochs, n_neurons, n_pos_bins),"
   ]
  },
  {
   "cell_type": "code",
   "execution_count": null,
   "id": "957f022a",
   "metadata": {},
   "outputs": [],
   "source": [
    "from pyphoplacecellanalysis.Pho2D.PyQtPlots.plot_placefields import display_all_pf_2D_pyqtgraph_binned_image_rendering, pyqtplot_plot_image_array\n",
    "# `pyqtplot_plot_image_array` is more general\n",
    "\n",
    "\n",
    "from neuropy.utils.misc import safe_item\n",
    "from neuropy.utils.dynamic_container import overriding_dict_with # used in display_all_pf_2D_pyqtgraph_binned_image_rendering to only get the valid kwargs to pass from the display config\n",
    "from neuropy.utils.matplotlib_helpers import _build_variable_max_value_label, enumTuningMap2DPlotMode, enumTuningMap2DPlotVariables, _determine_best_placefield_2D_layout, _scale_current_placefield_to_acceptable_range, _build_neuron_identity_label # for display_all_pf_2D_pyqtgraph_binned_image_rendering\n",
    "from pyphoplacecellanalysis.GUI.PyQtPlot.BinnedImageRenderingWindow import BasicBinnedImageRenderingWindow # for display_all_pf_2D_pyqtgraph_binned_image_rendering\n",
    "from neuropy.core.neuron_identities import PlotStringBrevityModeEnum # for display_all_pf_2D_pyqtgraph_binned_image_rendering\n",
    "from pyphocorehelpers.indexing_helpers import compute_paginated_grid_config\n",
    "\n",
    "import pyphoplacecellanalysis.External.pyqtgraph as pg\n",
    "# from pyphoplacecellanalysis.External.pyqtgraph.Qt import QtCore, QtGui\n",
    "from pyphoplacecellanalysis.GUI.PyQtPlot.pyqtplot_common import pyqtplot_common_setup\n",
    "\n",
    "from pyphoplacecellanalysis.Pho2D.PyQtPlots.Extensions.pyqtgraph_helpers import LayoutScrollability, pyqtplot_build_image_bounds_extent\n",
    "\n",
    "## INPUTS: a_pf2D_dt\n",
    "active_one_step_decoder = deepcopy(a_pf2D_dt)\n",
    "\n",
    "# Get flat list of images:\n",
    "# images = active_one_step_decoder.ratemap.normalized_tuning_curves # (78, 57, 6)\t- (n_neurons, n_xbins, n_ybins)\n",
    "occupancy = active_one_step_decoder.ratemap.occupancy # (57, 6) - (n_xbins, n_ybins)\n",
    "\n",
    "# Need to go from (n_epochs, n_neurons, n_pos_bins) -> (n_neurons, n_xbins, n_ybins)\n",
    "images = z_scored_tuning_map_matrix.transpose(1, 2, 0) # (71, 57, 22)\n",
    "# images\n",
    "# occupancy\n",
    "\n",
    "# app, win, root_render_widget, plot_array, img_item_array, other_components_array = pyqtplot_plot_image_array(xbin_edges=active_one_step_decoder.xbin, ybin_edges=active_one_step_decoder.ybin, images=images, occupancy=occupancy)\n",
    "# def pyqtplot_plot_image_array(xbin_edges, ybin_edges, images, occupancy, max_num_columns = 5, drop_below_threshold: float=0.0000001, app=None, parent_root_widget=None, root_render_widget=None, debug_print=False):\n",
    "\n",
    "xbin_edges=active_one_step_decoder.xbin\n",
    "ybin_edges=active_one_step_decoder.ybin\n",
    "images=images\n",
    "occupancy=occupancy\n",
    "max_num_columns = 5\n",
    "drop_below_threshold=0.0000001\n",
    "app=None\n",
    "parent_root_widget=None\n",
    "root_render_widget=None\n",
    "debug_print=False\n",
    "\n",
    "root_render_widget, parent_root_widget, app = pyqtplot_common_setup(f'pyqtplot_plot_image_array: {np.shape(images)}', app=app, parent_root_widget=parent_root_widget, root_render_widget=root_render_widget) ## 🚧 TODO: BUG: this makes a new QMainWindow to hold this item, which is inappropriate if it's to be rendered as a child of another control\n",
    "\n",
    "pg.setConfigOptions(imageAxisOrder='col-major') # this causes the placefields to be rendered horizontally, like they were in _temp_pyqtplot_plot_image_array\n",
    "\n",
    "# cmap = pg.ColorMap(pos=np.linspace(0.0, 1.0, 6), color=colors)\n",
    "cmap = pg.colormap.get('jet','matplotlib') # prepare a linear color map\n",
    "\n",
    "image_bounds_extent, x_range, y_range = pyqtplot_build_image_bounds_extent(xbin_edges, ybin_edges, margin=2.0, debug_print=debug_print)\n",
    "# image_aspect_ratio, image_width_height_tuple = compute_data_aspect_ratio(x_range, y_range)\n",
    "# print(f'image_aspect_ratio: {image_aspect_ratio} - xScale/yScale: {float(image_width_height_tuple.width) / float(image_width_height_tuple.height)}')\n",
    "\n",
    "# Compute Images:\n",
    "included_unit_indicies = np.arange(np.shape(images)[0]) # include all unless otherwise specified\n",
    "nMapsToShow = len(included_unit_indicies)\n",
    "\n",
    "# Paging Management: Constrain the subplots values to just those that you need\n",
    "subplot_no_pagination_configuration, included_combined_indicies_pages, page_grid_sizes = compute_paginated_grid_config(nMapsToShow, max_num_columns=max_num_columns, max_subplots_per_page=None, data_indicies=included_unit_indicies, last_figure_subplots_same_layout=True)\n",
    "page_idx = 0 # page_idx is zero here because we only have one page:\n",
    "\n",
    "img_item_array = []\n",
    "other_components_array = []\n",
    "plot_array = []\n",
    "\n",
    "for (a_linear_index, curr_row, curr_col, curr_included_unit_index) in included_combined_indicies_pages[page_idx]:\n",
    "\t# Need to convert to page specific:\n",
    "\tcurr_page_relative_linear_index = np.mod(a_linear_index, int(page_grid_sizes[page_idx].num_rows * page_grid_sizes[page_idx].num_columns))\n",
    "\tcurr_page_relative_row = np.mod(curr_row, page_grid_sizes[page_idx].num_rows)\n",
    "\tcurr_page_relative_col = np.mod(curr_col, page_grid_sizes[page_idx].num_columns)\n",
    "\tis_first_column = (curr_page_relative_col == 0)\n",
    "\tis_first_row = (curr_page_relative_row == 0)\n",
    "\tis_last_column = (curr_page_relative_col == (page_grid_sizes[page_idx].num_columns-1))\n",
    "\tis_last_row = (curr_page_relative_row == (page_grid_sizes[page_idx].num_rows-1))\n",
    "\tif debug_print:\n",
    "\t\tprint(f'a_linear_index: {a_linear_index}, curr_page_relative_linear_index: {curr_page_relative_linear_index}, curr_row: {curr_row}, curr_col: {curr_col}, curr_page_relative_row: {curr_page_relative_row}, curr_page_relative_col: {curr_page_relative_col}, curr_included_unit_index: {curr_included_unit_index}')\n",
    "\n",
    "\tneuron_IDX = curr_included_unit_index\n",
    "\tcurr_cell_identifier_string = f'Cell[{neuron_IDX}]'\n",
    "\tcurr_plot_identifier_string = f'pyqtplot_plot_image_array.{curr_cell_identifier_string}'\n",
    "\n",
    "\t# # Pre-filter the data:\n",
    "\timage = _scale_current_placefield_to_acceptable_range(np.squeeze(images[a_linear_index,:,:]), occupancy=occupancy, drop_below_threshold=drop_below_threshold)\n",
    "\n",
    "\t# Build the image item:\n",
    "\timg_item = pg.ImageItem(image=image, levels=(0,1))\n",
    "\t#     # Viewbox version:\n",
    "\t#     # vb = layout.addViewBox(lockAspect=False)\n",
    "\t#     # # Build the ImageItem (which I'm guessing is like pg.ImageView) to add the image\n",
    "\t#     # imv = pg.ImageItem() # Create it with the current image\n",
    "\t#     # vb.addItem(imv) # add the item to the view box: why do we need the wrapping view box?\n",
    "\t#     # vb.autoRange()\n",
    "\t\n",
    "\t# # plot mode:\n",
    "\tcurr_plot = root_render_widget.addPlot(row=curr_row, col=curr_col, title=curr_cell_identifier_string) # , name=curr_plot_identifier_string \n",
    "\tcurr_plot.setObjectName(curr_plot_identifier_string)\n",
    "\tcurr_plot.showAxes(False)\n",
    "\tif is_last_row:\n",
    "\t\tcurr_plot.showAxes('x', True)\n",
    "\t\tcurr_plot.showAxis('bottom', show=True)\n",
    "\telse:\n",
    "\t\tcurr_plot.showAxes('x', False)\n",
    "\t\tcurr_plot.showAxis('bottom', show=False)\n",
    "\t\t\n",
    "\tif is_first_column:\n",
    "\t\tcurr_plot.showAxes('y', True)\n",
    "\t\tcurr_plot.showAxis('left', show=True)\n",
    "\telse:\n",
    "\t\tcurr_plot.showAxes('y', False)\n",
    "\t\tcurr_plot.showAxis('left', show=False)\n",
    "\t\n",
    "\tcurr_plot.hideButtons() # Hides the auto-scale button\n",
    "\t\n",
    "\tcurr_plot.addItem(img_item, defaultPadding=0.0)  # add ImageItem to PlotItem\n",
    "\n",
    "\t# Update the image:\n",
    "\timg_item.setImage(image, rect=image_bounds_extent, autoLevels=False) # rect: [x, y, w, h]\n",
    "\timg_item.setLookupTable(cmap.getLookupTable(nPts=256), update=False)\n",
    "\n",
    "\tcurr_plot.setRange(xRange=x_range, yRange=y_range, padding=0.0, update=False, disableAutoRange=True)\n",
    "\t# Sets only the panning limits:\n",
    "\tcurr_plot.setLimits(xMin=x_range[0], xMax=x_range[-1], yMin=y_range[0], yMax=y_range[-1])\n",
    "\t# Link Axes to previous item:\n",
    "\tif a_linear_index > 0:\n",
    "\t\tprev_plot_item = plot_array[a_linear_index-1]\n",
    "\t\tcurr_plot.setXLink(prev_plot_item)\n",
    "\t\tcurr_plot.setYLink(prev_plot_item)\n",
    "\t\t\n",
    "\t# Interactive Color Bar:\n",
    "\tbar = pg.ColorBarItem(values= (0, 1), colorMap=cmap, width=5, interactive=False) # prepare interactive color bar\n",
    "\t# Have ColorBarItem control colors of img and appear in 'plot':\n",
    "\tbar.setImageItem(img_item, insert_in=curr_plot)\n",
    "\n",
    "\timg_item_array.append(img_item)\n",
    "\tplot_array.append(curr_plot)\n",
    "\tother_components_array.append({'color_bar':bar}) # note this is a list of Dicts, one for every image\n",
    "\t\n",
    "# Post images loop:\n",
    "enable_show = False\n",
    "\n",
    "if parent_root_widget is not None:\n",
    "\tif enable_show:\n",
    "\t\tparent_root_widget.show()\n",
    "\t\n",
    "\tparent_root_widget.setWindowTitle('pyqtplot image array')\n",
    "\n",
    "# return app, parent_root_widget, root_render_widget, plot_array, img_item_array, other_components_array\n",
    "\n",
    "\n",
    "\n",
    "parent_root_widget.show()\n"
   ]
  },
  {
   "cell_type": "code",
   "execution_count": null,
   "id": "4e5710b2",
   "metadata": {},
   "outputs": [],
   "source": [
    "## Hide all colorbars, they aren't needed:\n",
    "for i, a_plot_components_dict in enumerate(other_components_array):\n",
    "\ta_plot_components_dict['color_bar'].setEnabled(False)\n",
    "\ta_plot_components_dict['color_bar'].hide()\n"
   ]
  },
  {
   "cell_type": "code",
   "execution_count": null,
   "id": "f058d6b6",
   "metadata": {},
   "outputs": [],
   "source": [
    "other_components_array[0]['color_bar'].setEnabled(False)\n",
    "other_components_array[0]['color_bar'].hide()\n"
   ]
  },
  {
   "cell_type": "code",
   "execution_count": null,
   "id": "02dd96f3",
   "metadata": {},
   "outputs": [],
   "source": []
  },
  {
   "cell_type": "code",
   "execution_count": null,
   "id": "13040bd7",
   "metadata": {},
   "outputs": [],
   "source": []
  },
  {
   "cell_type": "code",
   "execution_count": null,
   "id": "60f6e2f3",
   "metadata": {},
   "outputs": [],
   "source": []
  },
  {
   "cell_type": "code",
   "execution_count": null,
   "id": "c22d365d",
   "metadata": {},
   "outputs": [],
   "source": []
  },
  {
   "cell_type": "code",
   "execution_count": null,
   "id": "23960a79",
   "metadata": {},
   "outputs": [],
   "source": []
  },
  {
   "cell_type": "code",
   "execution_count": null,
   "id": "7df3a048",
   "metadata": {},
   "outputs": [],
   "source": [
    "\n",
    "active_pf_2D = deepcopy(a_pf2D_dt)\n",
    "figure_format_config = {}\n",
    "out_all_pf_2D_pyqtgraph_binned_image_fig = display_all_pf_2D_pyqtgraph_binned_image_rendering(active_pf_2D, figure_format_config) # output is BasicBinnedImageRenderingWindow\n",
    "\n",
    "\n",
    "out_all_pf_2D_pyqtgraph_binned_image_fig.params.scrollability_mode.is_scrollable\n",
    "for a_name in out_all_pf_2D_pyqtgraph_binned_image_fig.plot_names:\n",
    "\tlocal_plots_data = out_all_pf_2D_pyqtgraph_binned_image_fig.plots_data[name]\n",
    "\tlocal_plots = out_all_pf_2D_pyqtgraph_binned_image_fig.plots[name]\n",
    "\tnewPlotItem = out_all_pf_2D_pyqtgraph_binned_image_fig.plots[name].mainPlotItem\n",
    "\n",
    "\n",
    "\n",
    "out_all_pf_2D_pyqtgraph_binned_image_fig.toolBarArea\n",
    "\n"
   ]
  },
  {
   "cell_type": "code",
   "execution_count": null,
   "id": "9bdbf1fa",
   "metadata": {},
   "outputs": [],
   "source": [
    "## Build the image data layers for each\n",
    "# for an_epoch_name, (active_laps_df, C_trial_by_trial_correlation_matrix, z_scored_tuning_map_matrix, aclu_to_matrix_IDX_map, neuron_ids) in directional_active_lap_pf_results_dicts.items():\n",
    "for a_decoder_name, active_trial_by_trial_activity_obj in directional_active_lap_pf_results_dicts.items():\n",
    "\t# (active_laps_df, C_trial_by_trial_correlation_matrix, z_scored_tuning_map_matrix, aclu_to_matrix_IDX_map, neuron_ids)\n",
    "\tz_scored_tuning_map_matrix = active_trial_by_trial_activity_obj.z_scored_tuning_map_matrix\n",
    "\tcustom_direction_split_layers_dict[f'{a_decoder_name}_z_scored_tuning_maps'] = dict(blending='translucent', colormap='viridis', name=f'{a_decoder_name}_z_scored_tuning_maps', img_data=z_scored_tuning_map_matrix.transpose(1, 0, 2)) # reshape to be compatibile with C_i's dimensions\n",
    "\tif include_trial_by_trial_correlation_matrix:\n",
    "\t\tC_trial_by_trial_correlation_matrix = active_trial_by_trial_activity_obj.C_trial_by_trial_correlation_matrix\n",
    "\t\tcustom_direction_split_layers_dict[f'{a_decoder_name}_C_trial_by_trial_correlation_matrix'] = dict(blending='translucent', colormap='viridis', name=f'{a_decoder_name}_C_trial_by_trial_correlation_matrix', img_data=C_trial_by_trial_correlation_matrix)\n"
   ]
  },
  {
   "cell_type": "markdown",
   "id": "fa979505",
   "metadata": {},
   "source": [
    "# 2024-06-25 - Advanced Time-dependent decoding:"
   ]
  },
  {
   "cell_type": "code",
   "execution_count": 45,
   "id": "e56621c2",
   "metadata": {},
   "outputs": [],
   "source": [
    "## Directional Versions: 'long_LR':\n",
    "from neuropy.core.epoch import subdivide_epochs, ensure_dataframe\n",
    "\n",
    "## INPUTS: long_LR_epochs_obj, long_LR_results\n",
    "\n",
    "a_pf1D_dt: PfND_TimeDependent = deepcopy(long_LR_results.pf1D_dt)\n",
    "a_pf2D_dt: PfND_TimeDependent = deepcopy(long_LR_results.pf2D_dt)\n",
    "\n",
    "# Example usage\n",
    "df: pd.DataFrame = ensure_dataframe(deepcopy(long_LR_epochs_obj)) \n",
    "df['epoch_type'] = 'lap'\n",
    "df['interval_type_id'] = 666\n",
    "\n",
    "subdivide_bin_size = 0.200  # Specify the size of each sub-epoch in seconds\n",
    "subdivided_df: pd.DataFrame = subdivide_epochs(df, subdivide_bin_size)\n",
    "# print(subdivided_df)\n",
    "\n",
    "## Evolve the ratemaps:\n",
    "_a_pf1D_dt_snapshots = a_pf1D_dt.batch_snapshotting(subdivided_df, reset_at_start=True)\n",
    "_a_pf2D_dt_snapshots = a_pf2D_dt.batch_snapshotting(subdivided_df, reset_at_start=True)\n",
    "# a_pf2D_dt.plot_ratemaps_2D()"
   ]
  },
  {
   "cell_type": "code",
   "execution_count": 46,
   "id": "aaf75670",
   "metadata": {},
   "outputs": [
    {
     "name": "stdout",
     "output_type": "stream",
     "text": [
      "data_aspect_ratio: (26.892546035473558, Width_Height_Tuple(width=216.20231561823698, height=8.039488538312725))\n",
      "nMapsToShow: 80, subplots: RowColTuple(num_rows=40, num_columns=3), max_subplots_per_page: 120\n",
      "resolution_multiplier: 1.0, required_figure_size: (24.0, 27.0), required_figure_size_px: (2400.0, 2700.0)\n",
      "final active_figure_size: (24.0, 27.0), required_figure_size_px: (2400.0, 2700.0) (after constraining by max_screen_figure_size, etc)\n",
      "page_idx: 0\n",
      "self.params.plot_row_offset: 1\n"
     ]
    },
    {
     "name": "stderr",
     "output_type": "stream",
     "text": [
      "C:\\Users\\pho\\repos\\Spike3DWorkEnv\\pyPhoPlaceCellAnalysis\\src\\pyphoplacecellanalysis\\GUI\\PyQtPlot\\BinnedImageRenderingWindow.py:55: RuntimeWarning: All-NaN slice encountered\n",
      "  local_plots_data.matrix_min = np.nanmin(matrix)\n",
      "C:\\Users\\pho\\repos\\Spike3DWorkEnv\\pyPhoPlaceCellAnalysis\\src\\pyphoplacecellanalysis\\GUI\\PyQtPlot\\BinnedImageRenderingWindow.py:56: RuntimeWarning: All-NaN slice encountered\n",
      "  local_plots_data.matrix_max = np.nanmax(matrix)\n",
      "C:\\Users\\pho\\repos\\Spike3DWorkEnv\\pyPhoPlaceCellAnalysis\\src\\pyphoplacecellanalysis\\External\\pyqtgraph\\graphicsItems\\ImageItem.py:504: RuntimeWarning: All-NaN slice encountered\n",
      "  return self._xp.nanmin(data), self._xp.nanmax(data)\n"
     ]
    }
   ],
   "source": [
    "from pyphoplacecellanalysis.GUI.PyQtPlot.BinnedImageRenderingWindow import BasicBinnedImageRenderingWidget, BasicBinnedImageRenderingWindow\n",
    "from pyphoplacecellanalysis.Pho2D.PyQtPlots.plot_placefields import display_all_pf_2D_pyqtgraph_binned_image_rendering\n",
    "\n",
    "active_pf_2D = deepcopy(a_pf2D_dt)\n",
    "figure_format_config = {}\n",
    "out_all_pf_2D_pyqtgraph_binned_image_fig = display_all_pf_2D_pyqtgraph_binned_image_rendering(active_pf_2D, figure_format_config) # output is BasicBinnedImageRenderingWindow"
   ]
  },
  {
   "cell_type": "code",
   "execution_count": null,
   "id": "6e44aa87",
   "metadata": {},
   "outputs": [],
   "source": [
    "for a_name in out_all_pf_2D_pyqtgraph_binned_image_fig.plot_names:\n",
    "\tlocal_plots_data = out_all_pf_2D_pyqtgraph_binned_image_fig.plots_data[name]\n",
    "\tlocal_plots = out_all_pf_2D_pyqtgraph_binned_image_fig.plots[name]\n",
    "\tnewPlotItem = out_all_pf_2D_pyqtgraph_binned_image_fig.plots[name].mainPlotItem\n"
   ]
  },
  {
   "cell_type": "code",
   "execution_count": null,
   "id": "563e5d1a",
   "metadata": {},
   "outputs": [],
   "source": [
    "out_all_pf_2D_pyqtgraph_binned_image_fig.toolBarArea\n"
   ]
  },
  {
   "cell_type": "markdown",
   "id": "c5523071",
   "metadata": {},
   "source": [
    "# 2024-05-30 - Continuous decoded posterior output videos"
   ]
  },
  {
   "cell_type": "code",
   "execution_count": null,
   "id": "20fc2a01",
   "metadata": {},
   "outputs": [],
   "source": [
    "directional_decoders_decode_result: DirectionalDecodersContinuouslyDecodedResult = curr_active_pipeline.global_computation_results.computed_data['DirectionalDecodersDecoded']\n",
    "all_directional_pf1D_Decoder_dict: Dict[str, BasePositionDecoder] = directional_decoders_decode_result.pf1D_Decoder_dict\n",
    "pseudo2D_decoder: BasePositionDecoder = directional_decoders_decode_result.pseudo2D_decoder\n",
    "spikes_df = directional_decoders_decode_result.spikes_df\n",
    "continuously_decoded_result_cache_dict = directional_decoders_decode_result.continuously_decoded_result_cache_dict\n",
    "previously_decoded_keys: List[float] = list(continuously_decoded_result_cache_dict.keys()) # [0.03333]\n",
    "print(F'previously_decoded time_bin_sizes: {previously_decoded_keys}')\n",
    "# continuously_decoded_result_cache_dict = directional_decoders_decode_result.continuously_decoded_result_cache_dict\n",
    "time_bin_size: float = directional_decoders_decode_result.most_recent_decoding_time_bin_size\n",
    "print(f'time_bin_size: {time_bin_size}')\n",
    "\n",
    "continuously_decoded_dict = directional_decoders_decode_result.most_recent_continuously_decoded_dict\n",
    "pseudo2D_decoder_continuously_decoded_result: DecodedFilterEpochsResult = continuously_decoded_dict.get('pseudo2D', None)\n",
    "pseudo2D_decoder_continuously_decoded_result\n",
    "\n",
    "a_decoder_continuously_decoded_result: DecodedFilterEpochsResult = continuously_decoded_dict.get('long_LR', None)"
   ]
  },
  {
   "cell_type": "code",
   "execution_count": null,
   "id": "ba4a8ed8",
   "metadata": {},
   "outputs": [],
   "source": [
    "from pyphocorehelpers.plotting.media_output_helpers import save_array_as_video\n",
    "from pyphoplacecellanalysis.SpecificResults.PendingNotebookCode import save_posterior_to_video\n",
    "\n",
    "a_decoder_continuously_decoded_result: DecodedFilterEpochsResult = continuously_decoded_dict.get('long_LR', None)\n",
    "save_posterior_to_video(a_decoder_continuously_decoded_result=a_decoder_continuously_decoded_result, result_name='continuous_long_LR')\n",
    "\n"
   ]
  },
  {
   "cell_type": "code",
   "execution_count": null,
   "id": "dca8a190",
   "metadata": {},
   "outputs": [],
   "source": [
    "save_posterior_to_video(a_decoder_continuously_decoded_result=pseudo2D_decoder_continuously_decoded_result, result_name='continuous_pseudo2D')\n"
   ]
  },
  {
   "cell_type": "code",
   "execution_count": null,
   "id": "92f828c7",
   "metadata": {},
   "outputs": [],
   "source": [
    "## INPUTS: global_results, global_epoch_name\n",
    "\n",
    "# Get the decoders from the computation result:\n",
    "active_one_step_decoder = global_results['pf2D_Decoder']\n",
    "active_two_step_decoder = global_results.get('pf2D_TwoStepDecoder', None)\n",
    "if active_two_step_decoder is None:\n",
    "\tcurr_active_pipeline.perform_specific_computation(computation_functions_name_includelist=['position_decoding_two_step'], computation_kwargs_list=[{}], enabled_filter_names=[global_epoch_name, global_LR_name, global_RL_name], fail_on_exception=True, debug_print=False)\n",
    "\tactive_two_step_decoder = global_results.get('pf2D_TwoStepDecoder', None)\n",
    "\tassert active_two_step_decoder is not None\n",
    "\n"
   ]
  },
  {
   "cell_type": "code",
   "execution_count": null,
   "id": "c125463a",
   "metadata": {},
   "outputs": [],
   "source": [
    "import cv2\n",
    "from pyphocorehelpers.plotting.media_output_helpers import get_array_as_image\n",
    "from pyphocorehelpers.plotting.media_output_helpers import save_array_as_video\n",
    "\n",
    "def colormap_and_save_as_video(array, video_filename='output.avi', fps=30.0, colormap=cv2.COLORMAP_VIRIDIS):\n",
    "\t# array = ((array - array.min()) / (array.max() - array.min()) * 255).astype(np.uint8)\n",
    "\t# color_array = cv2.applyColorMap(array, colormap)\n",
    "\treturn save_array_as_video(array, video_filename=video_filename, fps=fps, isColor=True, colormap=colormap)\n",
    "\n",
    "# image = get_array_as_image(img_data, desired_height=100, desired_width=None, skip_img_normalization=True)"
   ]
  },
  {
   "cell_type": "code",
   "execution_count": null,
   "id": "0ec9390e",
   "metadata": {},
   "outputs": [],
   "source": [
    "an_input_posterior = deepcopy(active_two_step_decoder.p_x_given_n_and_x_prev)\n",
    "result_name: str = f'two_step_maze_all'\n",
    "\n",
    "# an_input_posterior = deepcopy(active_one_step_decoder.p_x_given_n)\n",
    "# result_name: str = f'one_step_2D_maze_all'\n",
    "\n",
    "\n",
    "n_x_bins, n_y_bins, n_time_bins = np.shape(an_input_posterior)\n",
    "transpose_axes_tuple = (2, 1, 0,)\n",
    "an_input_posterior = np.transpose(an_input_posterior, transpose_axes_tuple)\n",
    "decoding_realtime_FPS: float = 1.0 / float(active_one_step_decoder.time_bin_size)\n",
    "print(f'decoding_realtime_FPS: {decoding_realtime_FPS}')\n",
    "## save video\n",
    "video_out_path = save_array_as_video(array=an_input_posterior, video_filename=f'output/videos/{result_name}.avi', isColor=True, fps=decoding_realtime_FPS, colormap=cv2.COLORMAP_VIRIDIS)\n",
    "# video_out_path = colormap_and_save_as_video(array=an_input_posterior, video_filename=f'output/videos/{result_name}.avi', fps=decoding_realtime_FPS)\n",
    "\n",
    "print(f'video_out_path: {video_out_path}')"
   ]
  },
  {
   "cell_type": "code",
   "execution_count": null,
   "id": "65bc44dd",
   "metadata": {},
   "outputs": [],
   "source": [
    "curr_active_pipeline.perform_specific_computation(computation_functions_name_includelist=['position_decoding_two_step'], computation_kwargs_list=[{}], enabled_filter_names=[global_epoch_name, global_LR_name, global_RL_name], fail_on_exception=True, debug_print=False)\n"
   ]
  },
  {
   "cell_type": "code",
   "execution_count": null,
   "id": "96151def",
   "metadata": {},
   "outputs": [],
   "source": [
    "\n",
    "\n",
    "time_binned_position_df: pd.DataFrame = global_results.get('extended_stats', {}).get('time_binned_position_df', None)\n",
    "time_binned_position_df\n",
    "# active_measured_positions = computation_result.sess.position.to_dataframe()\n"
   ]
  },
  {
   "cell_type": "markdown",
   "id": "4cde2025",
   "metadata": {},
   "source": [
    "# 2024-06-07 - PhoDiba2023Paper figure generation"
   ]
  },
  {
   "cell_type": "code",
   "execution_count": null,
   "id": "2ed9ab23",
   "metadata": {},
   "outputs": [],
   "source": [
    "from pyphoplacecellanalysis.SpecificResults.PhoDiba2023Paper import main_complete_figure_generations\n",
    "\n",
    "main_complete_figure_generations(curr_active_pipeline, save_figure=True, save_figures_only=True, enable_default_neptune_plots=False)"
   ]
  },
  {
   "cell_type": "markdown",
   "id": "327c41f7",
   "metadata": {},
   "source": [
    "# 2024-06-10 - Across Sessions Bar Graphs"
   ]
  },
  {
   "cell_type": "code",
   "execution_count": null,
   "id": "fae95fcd",
   "metadata": {},
   "outputs": [],
   "source": [
    "from pyphoplacecellanalysis.General.Pipeline.Stages.ComputationFunctions.MultiContextComputationFunctions.LongShortTrackComputations import InstantaneousSpikeRateGroupsComputation\n",
    "\n",
    "## long_short_post_decoding:\n",
    "inst_spike_rate_groups_result: InstantaneousSpikeRateGroupsComputation = curr_active_pipeline.global_computation_results.computed_data.long_short_inst_spike_rate_groups\n",
    "inst_spike_rate_groups_result"
   ]
  },
  {
   "cell_type": "code",
   "execution_count": null,
   "id": "7b19e3c5",
   "metadata": {},
   "outputs": [],
   "source": [
    "from pyphoplacecellanalysis.General.Pipeline.Stages.ComputationFunctions.MultiContextComputationFunctions.LongShortTrackComputations import InstantaneousSpikeRateGroupsComputation\n",
    "from pyphoplacecellanalysis.General.Batch.BatchJobCompletion.UserCompletionHelpers.batch_user_completion_helpers import compute_and_export_session_instantaneous_spike_rates_completion_function\n",
    "from pyphoplacecellanalysis.General.Batch.BatchJobCompletion.UserCompletionHelpers.batch_user_completion_helpers import SimpleBatchComputationDummy\n",
    "from pyphoplacecellanalysis.SpecificResults.AcrossSessionResults import InstantaneousFiringRatesDataframeAccessor\n",
    "\n",
    "a_dummy = SimpleBatchComputationDummy(BATCH_DATE_TO_USE, collected_outputs_path, True)\n",
    "\n",
    "## Settings:\n",
    "instantaneous_time_bin_size_seconds: float = 0.0002 # 10ms\n",
    "save_pickle = False\n",
    "save_hdf = True\n",
    "save_across_session_hdf = True\n",
    "\n",
    "_across_session_results_extended_dict = {}\n",
    "## Combine the output of `compute_and_export_session_instantaneous_spike_rates_completion_function` into two dataframes for the laps, one per-epoch and one per-time-bin\n",
    "_across_session_results_extended_dict = _across_session_results_extended_dict | compute_and_export_session_instantaneous_spike_rates_completion_function(a_dummy, None,\n",
    "\t\t\t\t\t\t\t\t\t\t\t\tcurr_session_context=curr_active_pipeline.get_session_context(), curr_session_basedir=curr_active_pipeline.sess.basepath.resolve(), curr_active_pipeline=curr_active_pipeline,\n",
    "\t\t\t\t\t\t\t\t\t\t\t\tacross_session_results_extended_dict=_across_session_results_extended_dict, instantaneous_time_bin_size_seconds=instantaneous_time_bin_size_seconds,\n",
    "\t\t\t\t\t\t\t\t\t\t\t\tsave_hdf=save_hdf, save_pickle=save_pickle, save_across_session_hdf=save_across_session_hdf, #return_full_decoding_results=return_full_decoding_results, desired_shared_decoding_time_bin_sizes=desired_shared_decoding_time_bin_sizes,\n",
    "\t\t\t\t\t\t\t\t\t\t\t\t)\n",
    "\n",
    "# '_perform_long_short_instantaneous_spike_rate_groups_analysis'\n",
    "# global_computation_results = curr_active_pipeline.global_computation_results\n",
    "# global_computation_results.get('computation_config', {})\n",
    "\n",
    "\n",
    "# instantaneous_time_bin_size_seconds: float = global_computation_results.computation_config.instantaneous_time_bin_size_seconds # 0.01 # 10ms\n"
   ]
  },
  {
   "cell_type": "code",
   "execution_count": null,
   "id": "3b4a7920",
   "metadata": {},
   "outputs": [],
   "source": [
    "_across_session_results_extended_dict\n",
    "\n",
    "\n",
    "## Specify the output file:\n",
    "common_file_path = Path('output/active_across_session_scatter_plot_results.h5')\n",
    "print(f'common_file_path: {common_file_path}')\n",
    "InstantaneousFiringRatesDataframeAccessor.add_results_to_inst_fr_results_table(curr_active_pipeline, common_file_path, file_mode='a')\n"
   ]
  },
  {
   "cell_type": "code",
   "execution_count": null,
   "id": "785a76fe",
   "metadata": {},
   "outputs": [],
   "source": [
    "print_keys_if_possible(curr_key='pipeline', curr_value=_out, max_depth=2)"
   ]
  },
  {
   "cell_type": "markdown",
   "id": "868a979a",
   "metadata": {},
   "source": [
    "# New Replay Events from Diba-2009-style quiescent period detection followed by active period:"
   ]
  },
  {
   "cell_type": "code",
   "execution_count": null,
   "id": "0cf6c79f",
   "metadata": {},
   "outputs": [],
   "source": [
    "from neuropy.core.epoch import Epoch, ensure_dataframe\n",
    "from pyphoplacecellanalysis.SpecificResults.PendingNotebookCode import compute_diba_quiescent_style_replay_events, overwrite_replay_epochs_and_recompute, try_load_neuroscope_EVT_file_epochs, replace_replay_epochs, _get_custom_suffix_for_replay_filename, finalize_output_shuffled_wcorr\n",
    "from pyphoplacecellanalysis.General.Pipeline.Stages.ComputationFunctions.MultiContextComputationFunctions.DirectionalPlacefieldGlobalComputationFunctions import get_proper_global_spikes_df\n",
    "from pyphoplacecellanalysis.General.Batch.BatchJobCompletion.UserCompletionHelpers.batch_user_completion_helpers import compute_and_export_session_alternative_replay_wcorr_shuffles_completion_function\n",
    "\n",
    "from pyphoplacecellanalysis.General.Batch.BatchJobCompletion.UserCompletionHelpers.batch_user_completion_helpers import SimpleBatchComputationDummy\n",
    "\n",
    "# %pdb on\n",
    "a_dummy = SimpleBatchComputationDummy(BATCH_DATE_TO_USE, collected_outputs_path, True)\n",
    "a_dummy.should_suppress_errors = False\n",
    "\n",
    "## Settings:\n",
    "\n",
    "# SimpleBatchComputationDummy = make_class('SimpleBatchComputationDummy', attrs=['BATCH_DATE_TO_USE', 'collected_outputs_path'])\n",
    "# a_dummy = SimpleBatchComputationDummy(BATCH_DATE_TO_USE, collected_outputs_path)\n",
    "\n",
    "_across_session_results_extended_dict = {}\n",
    "## Combine the output of `compute_and_export_session_alternative_replay_wcorr_shuffles_completion_function` into two dataframes for the laps, one per-epoch and one per-time-bin\n",
    "_across_session_results_extended_dict = _across_session_results_extended_dict | compute_and_export_session_alternative_replay_wcorr_shuffles_completion_function(a_dummy, None,\n",
    "\t\t\t\t\t\t\t\t\t\t\t\tcurr_session_context=curr_active_pipeline.get_session_context(), curr_session_basedir=curr_active_pipeline.sess.basepath.resolve(), curr_active_pipeline=curr_active_pipeline,\n",
    "\t\t\t\t\t\t\t\t\t\t\t\tacross_session_results_extended_dict=_across_session_results_extended_dict,\n",
    "\t\t\t\t\t\t\t\t\t\t\t\t# save_hdf=save_hdf, return_full_decoding_results=return_full_decoding_results,\n",
    "\t\t\t\t\t\t\t\t\t\t\t\t# desired_shared_decoding_time_bin_sizes=desired_shared_decoding_time_bin_sizes,\n",
    "\t\t\t\t\t\t\t\t\t\t\t\t)\n",
    "\n",
    "\n",
    "# 60m "
   ]
  },
  {
   "cell_type": "code",
   "execution_count": null,
   "id": "ae803054",
   "metadata": {},
   "outputs": [],
   "source": [
    "_across_session_results_extended_dict"
   ]
  },
  {
   "cell_type": "code",
   "execution_count": null,
   "id": "51e318bf",
   "metadata": {},
   "outputs": [],
   "source": [
    "# completed overwrite_replay_epochs_and_recompute(...). custom_save_filepaths: {'pipeline_pkl': WindowsPath('W:/Data/KDIBA/gor01/two/2006-6-07_16-40-19/loadedSessPickle_withNewKamranExportedReplays-qclu_[1,2]-frateThresh_5.0.pkl'), 'global_computation_pkl': 'global_computation_results_withNewKamranExportedReplays-qclu_[1,2]-frateThresh_5.0.pkl', 'pipeline_h5': 'pipeline_withNewKamranExportedReplays-qclu_[1,2]-frateThresh_5.0.h5', 'csv_out_path': WindowsPath('K:/scratch/collected_outputs/2024-07-05_Apogee_withNewKamranExportedReplays-qclu_[1,2]-frateThresh_5.0-2006-6-07_16-40-19_time_bin_size_sweep_results.h5'), 'ripple_csv_out_path': WindowsPath('K:/scratch/collected_outputs/2024-07-05-kdiba_gor01_two_2006-6-07_16-40-19-(ripple_marginals_df).csv'), 'standalone_wcorr_pkl': WindowsPath('W:/Data/KDIBA/gor01/two/2006-6-07_16-40-19/output/2024-07-05_0505PM_withNewKamranExportedReplays-qclu_[1,2]-frateThresh_5.0_standalone_wcorr_ripple_shuffle_data_only_27.pkl'), 'standalone_mat_pkl': WindowsPath('W:/Data/KDIBA/gor01/two/2006-6-07_16-40-19/output/2024-07-05_0505PM_withNewKamranExportedReplays-qclu_[1,2]-frateThresh_5.0_standalone_all_shuffles_wcorr_array.mat')"
   ]
  },
  {
   "cell_type": "markdown",
   "id": "1d33e58e",
   "metadata": {},
   "source": [
    "# Serialize: `replay_epoch_variations and _across_session_results_extended_dict"
   ]
  },
  {
   "cell_type": "code",
   "execution_count": null,
   "id": "b2db50f3",
   "metadata": {},
   "outputs": [],
   "source": [
    "\n",
    "## Extract results and save to pickle:\n",
    "replay_epoch_variations = deepcopy(_across_session_results_extended_dict['compute_and_export_session_alternative_replay_wcorr_shuffles_completion_function']['replay_epoch_variations'])\n",
    "compute_and_export_session_alternative_replay_wcorr_shuffles_completion_function_results: Dict = deepcopy(_across_session_results_extended_dict['compute_and_export_session_alternative_replay_wcorr_shuffles_completion_function'])\n",
    "# compute_and_export_session_alternative_replay_wcorr_shuffles_completion_function_results"
   ]
  },
  {
   "cell_type": "code",
   "execution_count": null,
   "id": "7021df23",
   "metadata": {},
   "outputs": [],
   "source": [
    "from pyphoplacecellanalysis.General.Pipeline.Stages.Loading import saveData\n",
    "# Saving (file mode 'w+b') session pickle file results :... saved session pickle file\n",
    "\n",
    "_specific_out_file_path = curr_active_pipeline.get_output_path().joinpath('compute_and_export_session_alternative_replay_wcorr_shuffles_completion_function_results.pkl').resolve()\n",
    "saveData(_specific_out_file_path, deepcopy(_across_session_results_extended_dict['compute_and_export_session_alternative_replay_wcorr_shuffles_completion_function']))\n",
    "# saveData('output/compute_and_export_session_alternative_replay_wcorr_shuffles_completion_function_results.pkl', deepcopy(_across_session_results_extended_dict['compute_and_export_session_alternative_replay_wcorr_shuffles_completion_function']))"
   ]
  },
  {
   "cell_type": "code",
   "execution_count": null,
   "id": "25445fd5",
   "metadata": {},
   "outputs": [],
   "source": [
    "print_keys_if_possible('compute_and_export_session_alternative_replay_wcorr_shuffles_completion_function', _across_session_results_extended_dict['compute_and_export_session_alternative_replay_wcorr_shuffles_completion_function'], max_depth=4)"
   ]
  },
  {
   "cell_type": "code",
   "execution_count": null,
   "id": "4ccc9e67",
   "metadata": {},
   "outputs": [],
   "source": [
    "_curr_outpaths = compute_and_export_session_alternative_replay_wcorr_shuffles_completion_function_results['replay_epoch_outputs']['diba_quiescent_method_replay_epochs']['custom_save_filepaths']\n",
    "_curr_outpaths\n",
    "# _curr_outpaths['pipeline_pkl'].exists()\n",
    "_curr_outpaths['csv_out_path'].exists()\n"
   ]
  },
  {
   "cell_type": "code",
   "execution_count": null,
   "id": "95b18dc8",
   "metadata": {},
   "outputs": [],
   "source": [
    "def _drop_non_existing_file_values(a_dict):\n",
    "\treturn {k:Path(v).resolve() for k, v in a_dict.items() if Path(v).exists()}\n",
    "\n",
    "# _curr_outpaths_dict = {a_replay_name:v['custom_save_filepaths'] for a_replay_name, v in compute_and_export_session_alternative_replay_wcorr_shuffles_completion_function_results['replay_epoch_outputs'].items()}\n",
    "_curr_outpaths_dict = {a_replay_name:_drop_non_existing_file_values(v['custom_save_filepaths']) for a_replay_name, v in compute_and_export_session_alternative_replay_wcorr_shuffles_completion_function_results['replay_epoch_outputs'].items()}\n",
    "_curr_outpaths_dict"
   ]
  },
  {
   "cell_type": "code",
   "execution_count": null,
   "id": "dcba0279",
   "metadata": {},
   "outputs": [],
   "source": [
    "_drop_non_existing_file_values(_curr_outpaths_dict)"
   ]
  },
  {
   "cell_type": "code",
   "execution_count": null,
   "id": "d61c0743",
   "metadata": {},
   "outputs": [],
   "source": [
    "## Document `compute_and_export_session_alternative_replay_wcorr_shuffles_completion_function_results`\n",
    "doc_printer = DocumentationFilePrinter(doc_output_parent_folder=doc_output_parent_folder, doc_name='compute_and_export_session_alternative_replay_wcorr_shuffles_completion_function_results')\n",
    "doc_printer.save_documentation('compute_and_export_session_alternative_replay_wcorr_shuffles_completion_function_results', compute_and_export_session_alternative_replay_wcorr_shuffles_completion_function_results,\n",
    "\t\t\t\t\t\t\t\tnon_expanded_item_keys=['_reverse_cellID_index_map'])"
   ]
  },
  {
   "cell_type": "code",
   "execution_count": null,
   "id": "fd27d193",
   "metadata": {},
   "outputs": [],
   "source": [
    "from pyphoplacecellanalysis.General.Pipeline.Stages.Loading import loadData\n",
    "\n",
    "compute_and_export_session_alternative_replay_wcorr_shuffles_completion_function_results = loadData('output/compute_and_export_session_alternative_replay_wcorr_shuffles_completion_function_results.pkl')\n",
    "replay_epoch_variations = deepcopy(compute_and_export_session_alternative_replay_wcorr_shuffles_completion_function_results['replay_epoch_variations'])\n",
    "compute_and_export_session_alternative_replay_wcorr_shuffles_completion_function_results"
   ]
  },
  {
   "cell_type": "code",
   "execution_count": null,
   "id": "20b70fe7",
   "metadata": {},
   "outputs": [],
   "source": [
    "# 'standalone_pkl_filepath': WindowsPath('W:/Data/KDIBA/gor01/one/2006-6-09_1-22-43/output/2024-07-01_1000AM_withNewKamranExportedReplays-qclu_[1,2]-frateThresh_5.0_standalone_wcorr_ripple_shuffle_data_only_29.pkl'),\n",
    "# 'standalone_mat_filepath': WindowsPath('W:/Data/KDIBA/gor01/one/2006-6-09_1-22-43/output/2024-07-01_1000AM_withNewKamranExportedReplays-qclu_[1,2]-frateThresh_5.0_standalone_all_shuffles_wcorr_array.mat'),"
   ]
  },
  {
   "cell_type": "code",
   "execution_count": null,
   "id": "2de49582",
   "metadata": {},
   "outputs": [],
   "source": [
    "compute_and_export_session_alternative_replay_wcorr_shuffles_completion_function_results"
   ]
  },
  {
   "cell_type": "code",
   "execution_count": null,
   "id": "e403f3d8",
   "metadata": {},
   "outputs": [],
   "source": [
    "## See how the Long/Short replay detection looks using the Diba-loaded intervals:\n"
   ]
  },
  {
   "cell_type": "code",
   "execution_count": null,
   "id": "413dd9a1",
   "metadata": {},
   "outputs": [],
   "source": [
    "\n",
    "rank_order_results: RankOrderComputationsContainer = curr_active_pipeline.global_computation_results.computed_data['RankOrder']\n",
    "minimum_inclusion_fr_Hz: float = rank_order_results.minimum_inclusion_fr_Hz\n",
    "included_qclu_values: List[int] = rank_order_results.included_qclu_values\n",
    "directional_laps_results: DirectionalLapsResult = curr_active_pipeline.global_computation_results.computed_data['DirectionalLaps']\n",
    "track_templates: TrackTemplates = directional_laps_results.get_templates(minimum_inclusion_fr_Hz=minimum_inclusion_fr_Hz) # non-shared-only -- !! Is minimum_inclusion_fr_Hz=None the issue/difference?\n",
    "# spikes_df = curr_active_pipeline.sess.spikes_df # inferior way\n",
    "spikes_df = get_proper_global_spikes_df(curr_active_pipeline, minimum_inclusion_fr_Hz=minimum_inclusion_fr_Hz)\n",
    "\n",
    "print(f'minimum_inclusion_fr_Hz: {minimum_inclusion_fr_Hz}')\n",
    "print(f'included_qclu_values: {included_qclu_values}')"
   ]
  },
  {
   "cell_type": "code",
   "execution_count": null,
   "id": "02e214f1",
   "metadata": {},
   "outputs": [],
   "source": [
    "_across_session_results_extended_dict['compute_and_export_session_alternative_replay_wcorr_shuffles_completion_function'] #['out_hist_fig_result']\n"
   ]
  },
  {
   "cell_type": "code",
   "execution_count": null,
   "id": "5c91d7ab",
   "metadata": {},
   "outputs": [],
   "source": [
    "## Compute new epochs: \n",
    "included_qclu_values=[1,2]\n",
    "minimum_inclusion_fr_Hz=5.0\n",
    "spikes_df = get_proper_global_spikes_df(curr_active_pipeline, minimum_inclusion_fr_Hz=minimum_inclusion_fr_Hz)\n",
    "(qclu_included_aclus, active_track_templates, active_spikes_df, quiescent_periods), (diba_quiescent_method_replay_epochs_df, diba_quiescent_method_replay_epochs) = compute_diba_quiescent_style_replay_events(curr_active_pipeline=curr_active_pipeline,\n",
    "\t\t\t\t\t\t\t\t\t\t\t\t\t\t\t\t\t\t\t\t\t\t\t\t\t\t\t\t\t\t\t\t\t\t\t\t\t\t\t\t\t\t\tincluded_qclu_values=included_qclu_values, minimum_inclusion_fr_Hz=minimum_inclusion_fr_Hz, spikes_df=spikes_df)\n",
    "\n",
    "## OUTPUTS: diba_quiescent_method_replay_epochs\n"
   ]
  },
  {
   "cell_type": "code",
   "execution_count": null,
   "id": "2787e567",
   "metadata": {},
   "outputs": [],
   "source": [
    "included_qclu_values=[1,2]\n",
    "minimum_inclusion_fr_Hz=5.0\n",
    "spikes_df = get_proper_global_spikes_df(curr_active_pipeline, minimum_inclusion_fr_Hz=minimum_inclusion_fr_Hz)\n",
    "(qclu_included_aclus, active_track_templates, active_spikes_df, quiescent_periods), (diba_quiescent_method_replay_epochs_df, diba_quiescent_method_replay_epochs) = compute_diba_quiescent_style_replay_events(curr_active_pipeline=curr_active_pipeline,\n",
    "\t\t\t\t\t\t\t\t\t\t\t\t\t\t\t\t\t\t\t\t\t\t\t\t\t\t\t\t\t\t\t\t\t\t\t\t\t\t\t\t\t\t\tincluded_qclu_values=included_qclu_values, minimum_inclusion_fr_Hz=minimum_inclusion_fr_Hz, spikes_df=spikes_df)\n",
    "\n",
    "## OUTPUTS: diba_quiescent_method_replay_epochs\n"
   ]
  },
  {
   "cell_type": "code",
   "execution_count": null,
   "id": "a7b2fb25",
   "metadata": {},
   "outputs": [],
   "source": [
    "## FROM .evt file\n",
    "## Load exported epochs from a neuroscope .evt file:\n",
    "diba_evt_file_replay_epochs: Epoch = try_load_neuroscope_EVT_file_epochs(curr_active_pipeline)\n",
    "\n"
   ]
  },
  {
   "cell_type": "code",
   "execution_count": null,
   "id": "e64495b0",
   "metadata": {},
   "outputs": [],
   "source": [
    "\n",
    "## Use `diba_evt_file_replay_epochs` as `new_replay_epochs`\n",
    "new_replay_epochs = deepcopy(diba_evt_file_replay_epochs)\n"
   ]
  },
  {
   "cell_type": "code",
   "execution_count": null,
   "id": "0f6ec361",
   "metadata": {},
   "outputs": [],
   "source": [
    "## Use `diba_quiescent_method_replay_epochs` as `new_replay_epochs`:\n",
    "new_replay_epochs = deepcopy(diba_quiescent_method_replay_epochs)"
   ]
  },
  {
   "cell_type": "code",
   "execution_count": null,
   "id": "08597aa4",
   "metadata": {},
   "outputs": [],
   "source": [
    "new_replay_epochs_df = ensure_dataframe(new_replay_epochs)\n",
    "new_replay_epochs_df\n",
    "\n"
   ]
  },
  {
   "cell_type": "code",
   "execution_count": null,
   "id": "25b99020",
   "metadata": {},
   "outputs": [],
   "source": [
    "with VizTracer(output_file=f\"viztracer_{get_now_time_str()}-overwrite_replay_epochs_and_recompute.json\", min_duration=200, tracer_entries=3000000, ignore_frozen=True) as tracer:\n",
    "\tdid_change, custom_save_filenames, custom_save_filepaths = overwrite_replay_epochs_and_recompute(curr_active_pipeline=curr_active_pipeline, new_replay_epochs=new_replay_epochs)"
   ]
  },
  {
   "cell_type": "code",
   "execution_count": null,
   "id": "19a9a85e",
   "metadata": {},
   "outputs": [],
   "source": [
    "\n",
    "did_change, custom_save_filenames, custom_save_filepaths = overwrite_replay_epochs_and_recompute(curr_active_pipeline=curr_active_pipeline, new_replay_epochs=new_replay_epochs)"
   ]
  },
  {
   "cell_type": "code",
   "execution_count": null,
   "id": "7f64b3dc",
   "metadata": {},
   "outputs": [],
   "source": [
    "new_replay_epochs.metadata"
   ]
  },
  {
   "cell_type": "code",
   "execution_count": null,
   "id": "07ec3a6d",
   "metadata": {},
   "outputs": [],
   "source": [
    "curr_active_pipeline.sess.replay_backup"
   ]
  },
  {
   "cell_type": "code",
   "execution_count": null,
   "id": "a1547be3",
   "metadata": {},
   "outputs": [],
   "source": [
    "## Add ALL of the possible replay periods to the session as a new `replay_epoch_variations` variable:\n",
    "# if not hasattr(curr_active_pipeline.sess, 'replay_epoch_variations'):\n",
    "#     curr_active_pipeline.sess.replay_epoch_variations = {}\n",
    "\n",
    "\n",
    "# curr_active_pipeline.sess.replay_epoch_variations.update({\n",
    "#     'initial_loaded': deepcopy(curr_active_pipeline.sess.replay_backup),\n",
    "#     'diba_evt_file': deepcopy(diba_evt_file_replay_epochs),\n",
    "#     'diba_quiescent_method_replay_epochs': deepcopy(diba_quiescent_method_replay_epochs),\n",
    "# })\n"
   ]
  },
  {
   "cell_type": "code",
   "execution_count": null,
   "id": "3017a73a",
   "metadata": {},
   "outputs": [],
   "source": [
    "from neuropy.core.epoch import Epoch, ensure_Epoch, ensure_dataframe\n",
    "from pyphoplacecellanalysis.SpecificResults.PendingNotebookCode import compute_all_replay_epoch_variations\n",
    "\n",
    "replay_epoch_variations = compute_all_replay_epoch_variations(curr_active_pipeline)\n",
    "replay_epoch_variations\n",
    "## OUTPUT: replay_epoch_variations"
   ]
  },
  {
   "cell_type": "code",
   "execution_count": null,
   "id": "1a3e400e",
   "metadata": {
    "notebookRunGroups": {
     "groupValue": "2"
    },
    "tags": [
     "2024-07-03"
    ]
   },
   "outputs": [],
   "source": [
    "from pyphoplacecellanalysis.General.Pipeline.Stages.ComputationFunctions.MultiContextComputationFunctions.DirectionalPlacefieldGlobalComputationFunctions import CustomDecodeEpochsResult, decoder_name, epoch_split_key, get_proper_global_spikes_df, _compute_arbitrary_epochs_decoding_for_decoder\n",
    "\n",
    "active_decoding_epochs: Epoch = deepcopy(replay_epoch_variations['diba_quiescent_method_replay_epochs'])\n",
    "active_decoding_time_bin_size: float = 0.02 # 20ms\n",
    "minimum_inclusion_fr_Hz: float = active_decoding_epochs.metadata.get('minimum_inclusion_fr_Hz', 1.0)\n",
    "included_qclu_values: List[int] = active_decoding_epochs.metadata.get('included_qclu_values', [1,2])\n",
    "\n",
    "directional_laps_results: DirectionalLapsResult = curr_active_pipeline.global_computation_results.computed_data['DirectionalLaps']\n",
    "track_templates: TrackTemplates = directional_laps_results.get_templates(minimum_inclusion_fr_Hz=minimum_inclusion_fr_Hz) # non-shared-only -- !! Is minimum_inclusion_fr_Hz=None the issue/difference?\n",
    "# spikes_df = curr_active_pipeline.sess.spikes_df # inferior way\n",
    "spikes_df: pd.DataFrame = get_proper_global_spikes_df(curr_active_pipeline, minimum_inclusion_fr_Hz=minimum_inclusion_fr_Hz)\n",
    "## Decode epochs for all four decoders:\n",
    "new_epochs_decoder_result_dict: Dict[str, Optional[\"DecodedFilterEpochsResult\"]] = {}\n",
    "for a_name, a_decoder in track_templates.get_decoders_dict().items():\n",
    "\tnew_epochs_decoder_result_dict[a_name] = _compute_arbitrary_epochs_decoding_for_decoder(a_decoder, spikes_df=deepcopy(spikes_df), decoding_epochs=active_decoding_epochs, desired_epoch_decoding_time_bin_size=active_decoding_time_bin_size)\n",
    "\n",
    "## OUTPUTS: new_epochs_decoder_result_dict,"
   ]
  },
  {
   "cell_type": "code",
   "execution_count": null,
   "id": "01c06f51",
   "metadata": {},
   "outputs": [],
   "source": [
    "## OUTPUTS: new_epochs_decoder_result_dict\n",
    "new_epochs_decoder_result_dict.\n"
   ]
  },
  {
   "cell_type": "code",
   "execution_count": null,
   "id": "c2951da7",
   "metadata": {
    "tags": [
     "2024-07-03"
    ]
   },
   "outputs": [],
   "source": [
    "# rank_order_results = curr_active_pipeline.global_computation_results.computed_data['RankOrder'] # : \"RankOrderComputationsContainer\"\n",
    "# minimum_inclusion_fr_Hz: float = rank_order_results.minimum_inclusion_fr_Hz\n",
    "# included_qclu_values: List[int] = rank_order_results.included_qclu_values\n",
    "directional_laps_results: DirectionalLapsResult = curr_active_pipeline.global_computation_results.computed_data['DirectionalLaps']\n",
    "track_templates: TrackTemplates = directional_laps_results.get_templates(minimum_inclusion_fr_Hz=minimum_inclusion_fr_Hz) # non-shared-only -- !! Is minimum_inclusion_fr_Hz=None the issue/difference?\n",
    "# print(f'minimum_inclusion_fr_Hz: {minimum_inclusion_fr_Hz}')\n",
    "# print(f'included_qclu_values: {included_qclu_values}')\n",
    "\n",
    "# DirectionalMergedDecoders: Get the result after computation:\n",
    "directional_merged_decoders_result: \"DirectionalPseudo2DDecodersResult\" = curr_active_pipeline.global_computation_results.computed_data['DirectionalMergedDecoders']\n",
    "ripple_decoding_time_bin_size: float = directional_merged_decoders_result.ripple_decoding_time_bin_size\n",
    "laps_decoding_time_bin_size: float = directional_merged_decoders_result.laps_decoding_time_bin_size\n",
    "pos_bin_size: float = track_templates.get_decoders()[0].pos_bin_size"
   ]
  },
  {
   "cell_type": "code",
   "execution_count": null,
   "id": "c6d664c4",
   "metadata": {
    "tags": [
     "2024-07-03"
    ]
   },
   "outputs": [],
   "source": [
    "from pyphoplacecellanalysis.General.Pipeline.Stages.ComputationFunctions.MultiContextComputationFunctions.DirectionalPlacefieldGlobalComputationFunctions import _compute_all_df_score_metrics\n",
    "\n",
    "\n",
    "## Recompute the epoch scores/metrics such as radon transform and wcorr:\n",
    "spikes_df: pd.DataFrame = get_proper_global_spikes_df(curr_active_pipeline, minimum_inclusion_fr_Hz=minimum_inclusion_fr_Hz)\n",
    "(decoder_laps_filter_epochs_decoder_result_dict, decoder_ripple_filter_epochs_decoder_result_dict), merged_df_outputs_tuple, raw_dict_outputs_tuple = _compute_all_df_score_metrics(directional_merged_decoders_result, track_templates,\n",
    "\t\t\t\t\t\t\t\t\t\t\t\t\t\t\t\t\t\t\t\t\t\t\t\t\t\t\t\t\t\t\t\t\t\t\t\t\t\t\t\t\t\t\t\t\tdecoder_laps_filter_epochs_decoder_result_dict, decoder_ripple_filter_epochs_decoder_result_dict,\n",
    "\t\t\t\t\t\t\t\t\t\t\t\t\t\t\t\t\t\t\t\t\t\t\t\t\t\t\t\t\t\t\t\t\t\t\t\t\t\t\t\t\t\t\t\t\tspikes_df=deepcopy(spikes_df),\n",
    "\t\t\t\t\t\t\t\t\t\t\t\t\t\t\t\t\t\t\t\t\t\t\t\t\t\t\t\t\t\t\t\t\t\t\t\t\t\t\t\t\t\t\t\t\tshould_skip_radon_transform=should_skip_radon_transform)\n",
    "laps_radon_transform_merged_df, ripple_radon_transform_merged_df, laps_weighted_corr_merged_df, ripple_weighted_corr_merged_df, laps_simple_pf_pearson_merged_df, ripple_simple_pf_pearson_merged_df = merged_df_outputs_tuple\n",
    "decoder_laps_radon_transform_df_dict, decoder_ripple_radon_transform_df_dict, decoder_laps_radon_transform_extras_dict, decoder_ripple_radon_transform_extras_dict, decoder_laps_weighted_corr_df_dict, decoder_ripple_weighted_corr_df_dict = raw_dict_outputs_tuple\n"
   ]
  },
  {
   "cell_type": "code",
   "execution_count": null,
   "id": "e6a6655a",
   "metadata": {},
   "outputs": [],
   "source": [
    "curr_active_pipeline.sess.replay"
   ]
  },
  {
   "cell_type": "code",
   "execution_count": null,
   "id": "f08d9333",
   "metadata": {},
   "outputs": [],
   "source": [
    "## Document `curr_active_pipeline.sess`\n",
    "doc_printer = DocumentationFilePrinter(doc_output_parent_folder=doc_output_parent_folder, doc_name='curr_active_pipeline.sess')\n",
    "doc_printer.save_documentation('curr_active_pipeline.sess', curr_active_pipeline.sess, non_expanded_item_keys=['_reverse_cellID_index_map'])"
   ]
  },
  {
   "cell_type": "code",
   "execution_count": null,
   "id": "a919de85",
   "metadata": {},
   "outputs": [],
   "source": [
    "from benedict import benedict\n",
    "from pyphocorehelpers.gui.PhoUIContainer import PhoUIContainer\n",
    "from pyphoplacecellanalysis.GUI.Qt.Menus.PhoMenuHelper import PhoMenuHelper\n",
    "from pyphoplacecellanalysis.GUI.Qt.Menus.LocalMenus_AddRenderable.LocalMenus_AddRenderable import LocalMenus_AddRenderable\n",
    "from qtpy.QtWidgets import QAction\n",
    "from pyphoplacecellanalysis.GUI.Qt.Menus.LocalMenus_AddRenderable.LocalMenus_AddRenderable import LocalMenus_AddRenderable\n",
    "\n",
    "epoch_variations_name_list = list(replay_epoch_variations.keys())\n",
    "epoch_variations_name_list\n",
    "\n",
    "\n",
    "## GOAL: build (CUSTOM_submenu_addTimeIntervals, CUSTOM_submenu_addTimeIntervals_ONLY_NEW, CUSTOM_submenu_addTimeIntervalCallbacks, CUSTOM_submenu_addTimeIntervals_Connections)\n",
    "\n",
    "## Add new dynamic intervals:\n",
    "\n",
    "# Assuming add_renderables_menu and add_time_intervals_menu are already defined\n",
    "add_renderables_menu: benedict[str, benedict[str, QAction]] = active_2d_plot.ui.menus.custom_context_menus.add_renderables[0].programmatic_actions_dict\n",
    "# print(type(add_renderables_menu))\n",
    "add_renderables_menu\n",
    "add_time_intervals_menu: benedict[str, QAction] = add_renderables_menu['AddTimeIntervals']\n",
    "# print(type(add_time_intervals_menu))\n",
    "add_time_intervals_menu\n",
    "\n",
    "_gui_menu_parent: LocalMenus_AddRenderable = add_time_intervals_menu['Laps'].parent()\n",
    "print(_gui_menu_parent.ui)\n",
    "_gui_menu_parent.ui.menuAdd_Renderable"
   ]
  },
  {
   "cell_type": "code",
   "execution_count": null,
   "id": "fcf9971a",
   "metadata": {},
   "outputs": [],
   "source": [
    "## Epoch/Interval Rectangles:\n",
    "debug_print = True\n",
    "interval_datasource_names = active_2d_plot.interval_datasource_names # ['CustomPBEs', 'PBEs', 'Ripples', 'Laps', 'Replays', 'SessionEpochs']\n",
    "if debug_print:\n",
    "\tprint(f'interval_datasource_names: {interval_datasource_names}')\n",
    "restore_epoch_menu_commands = [f'AddTimeIntervals.{a_name}' for a_name in interval_datasource_names]\n",
    "if debug_print:\n",
    "\tprint(f'restore_epoch_menu_commands: {restore_epoch_menu_commands}')\n",
    "add_renderables_menu = active_2d_plot.ui.menus.custom_context_menus.add_renderables[0].programmatic_actions_dict\n",
    "for a_command in restore_epoch_menu_commands:\n",
    "\tif a_command not in add_renderables_menu:\n",
    "\t\tprint(f\"WARNING: command '{a_command}' is not present in add_renderables_menu, so restore will not work for this item!\")\n",
    "\t# add_renderables_menu[a_command].trigger()\n",
    "\n",
    "variations_epoch_menu_commands = [f'AddTimeIntervals.{a_name}' for a_name in epoch_variations_name_list]\n",
    "if debug_print:\n",
    "\tprint(f'variations_epoch_menu_commands: {variations_epoch_menu_commands}')\n",
    "add_renderables_menu = active_2d_plot.ui.menus.custom_context_menus.add_renderables[0].programmatic_actions_dict\n",
    "for a_command in variations_epoch_menu_commands:\n",
    "\tif a_command not in add_renderables_menu:\n",
    "\t\tprint(f\"WARNING: command '{a_command}' is not present in add_renderables_menu, so restore will not work for this item!\")\n",
    "\t# add_renderables_menu[a_command].trigger()\n",
    "\n",
    "\n",
    "# add_time_intervals_menu"
   ]
  },
  {
   "cell_type": "code",
   "execution_count": null,
   "id": "687de0d0",
   "metadata": {},
   "outputs": [],
   "source": [
    "# from pyphoplacecellanalysis.GUI.PyQtPlot.Widgets.Mixins.RenderTimeEpochs.Specific2DRenderTimeEpochs import Replays_2DRenderTimeEpochs\n",
    "## Callbacks to render the epochs:\n",
    "## INPUTS: destination_plot\n",
    "destination_plot = active_2d_plot\n",
    "\n",
    "# class CustomReplays_2DRenderTimeEpochs(General2DRenderTimeEpochs):\n",
    "#     default_datasource_name = 'NewRipples'\n",
    "\t\n",
    "#     @classmethod\n",
    "#     def build_epochs_dataframe_formatter(cls, **kwargs):\n",
    "#         def _add_interval_dataframe_visualization_columns_general_epoch(active_df):\n",
    "#             ## parameters:\n",
    "#             y_location = 0.0\n",
    "#             height = 2.0\n",
    "#             pen_color = pg.mkColor('cyan')\n",
    "#             brush_color = pg.mkColor('cyan')\n",
    "#             brush_color.setAlphaF(0.5)\n",
    "\t\t\t\n",
    "#             ## Add the missing parameters to the dataframe:\n",
    "#             active_df = cls._update_df_visualization_columns(active_df, y_location, height, pen_color, brush_color, **kwargs)\n",
    "#             return active_df\n",
    "\n",
    "#         return _add_interval_dataframe_visualization_columns_general_epoch\n",
    "\t\n",
    "# from pyphoplacecellanalysis.GUI.PyQtPlot.Widgets.Mixins.RenderTimeEpochs.Specific2DRenderTimeEpochs import General2DRenderTimeEpochs, Ripples_2DRenderTimeEpochs, inline_mkColor\n",
    "# ## Inline Concise: Position Replays, PBEs, and Ripples all below the scatter:\n",
    "# # active_2d_plot.interval_datasources.Replays.update_visualization_properties(lambda active_df, **kwargs: General2DRenderTimeEpochs._update_df_visualization_columns(active_df, y_location=-10.0, height=7.5, pen_color=inline_mkColor('orange', 0.8), brush_color=inline_mkColor('orange', 0.5), **kwargs)) ## Fully inline\n",
    "# # active_2d_plot.interval_datasources.PBEs.update_visualization_properties(lambda active_df, **kwargs: General2DRenderTimeEpochs._update_df_visualization_columns(active_df, y_location=-2.0, height=1.5, pen_color=inline_mkColor('pink', 0.8), brush_color=inline_mkColor('pink', 0.5), **kwargs)) ## Fully inline\n",
    "# # active_2d_plot.interval_datasources.Ripples.update_visualization_properties(lambda active_df, **kwargs: General2DRenderTimeEpochs._update_df_visualization_columns(active_df, y_location=-12.0, height=1.5, pen_color=inline_mkColor('cyan', 0.8), brush_color=inline_mkColor('cyan', 0.5), **kwargs)) ## Fully inline\n",
    "# # active_2d_plot.interval_datasources.SessionEpochs .update_visualization_properties(lambda active_df, **kwargs: General2DRenderTimeEpochs._update_df_visualization_columns(active_df, y_location=-12.0, height=1.5, pen_color=inline_mkColor('cyan', 0.8), brush_color=inline_mkColor('cyan', 0.5), **kwargs)) ## Fully inline\n",
    "# epochs_update_dict = {\n",
    "#     'Replays':dict(y_location=-10.0, height=7.5, pen_color=inline_mkColor('orange', 0.8), brush_color=inline_mkColor('orange', 0.5)),\n",
    "#     'PBEs':dict(y_location=-2.0, height=1.5, pen_color=inline_mkColor('pink', 0.8), brush_color=inline_mkColor('pink', 0.5)),\n",
    "#     'Ripples':dict(y_location=-12.0, height=1.5, pen_color=inline_mkColor('cyan', 0.8), brush_color=inline_mkColor('cyan', 0.5)),\n",
    "#     'SessionEpochs ':dict(y_location=-12.0, height=1.5, pen_color=inline_mkColor('cyan', 0.8), brush_color=inline_mkColor('cyan', 0.5)),\n",
    "# }\n",
    "# active_2d_plot.update_rendered_intervals_visualization_properties(epochs_update_dict)\n",
    "\n",
    "\n",
    "# submenu_addTimeIntervalCallbacks: List[Callable] = [lambda evt=None: Replays_2DRenderTimeEpochs.add_render_time_epochs(curr_sess=v, destination_plot=destination_plot) for k, v in replay_epoch_variations.items()]\n",
    "\n",
    "# CUSTOM_submenu_addTimeIntervalCallbacks: List[Callable] = [lambda evt=None: General2DRenderTimeEpochs.add_render_time_epochs(curr_sess=v, destination_plot=destination_plot, name=interval_name) for interval_name, v in replay_epoch_variations.items()]\n",
    "# CUSTOM_submenu_addTimeIntervalCallbacks"
   ]
  },
  {
   "cell_type": "code",
   "execution_count": null,
   "id": "85a2e867",
   "metadata": {},
   "outputs": [],
   "source": [
    "## INPUTS: destination_plot\n",
    "destination_plot = active_2d_plot\n",
    "\n",
    "# # Define the new intervals and their callbacks\n",
    "# new_intervals = [\n",
    "#     (\"New Interval 1\", lambda: print(\"Interval 1 callback\")),\n",
    "#     (\"New Interval 2\", lambda: print(\"Interval 2 callback\")),\n",
    "#     (\"New Interval 3\", lambda: print(\"Interval 3 callback\")),\n",
    "#     (\"New Interval 4\", lambda: print(\"Interval 4 callback\"))\n",
    "# ]\n",
    "\n",
    "CUSTOM_submenu_addTimeIntervals: List[QAction] = []\n",
    "CUSTOM_submenu_addTimeIntervals_ONLY_NEW: List[QAction] = []\n",
    "CUSTOM_submenu_addTimeIntervalCallbacks: List[Callable] =[]\n",
    "CUSTOM_submenu_addTimeIntervals_Connections = []\n",
    "# only_new_time_intervals_menu: benedict[str, QAction] = benedict()\n",
    "\n",
    "\n",
    "# Add new actions to the add_time_intervals_menu\n",
    "# for interval_name, a_callback in new_intervals:\n",
    "for interval_name, a_replay_epoch in replay_epoch_variations.items():\n",
    "\n",
    "\t# action = QAction(interval_name, add_time_intervals_menu)\n",
    "\tan_action = QAction(interval_name, parent=_gui_menu_parent)  # Set parent to None\n",
    "\tan_action.setText(interval_name)\n",
    "\tan_action.setObjectName(f\"actionAddTimeIntervals_{interval_name}\")\n",
    "\n",
    "\ta_callback = (lambda evt=None: General2DRenderTimeEpochs.add_render_time_epochs(curr_sess=a_replay_epoch, destination_plot=destination_plot, name=interval_name))\n",
    "\tCUSTOM_submenu_addTimeIntervalCallbacks.append(a_callback)\n",
    "\n",
    "\t# QtWidgets.QAction(LocalMenus_AddRenderable)\n",
    "\t_curr_conn = an_action.triggered.connect(a_callback)\n",
    "\tCUSTOM_submenu_addTimeIntervals_Connections.append(_curr_conn)\n",
    "\textracted_menu_path = PhoMenuHelper.parse_QAction_for_menu_path(an_action)\n",
    "\tprint(f'extracted_menu_path: {extracted_menu_path}')\n",
    "\tnew_key: str = '.'.join(extracted_menu_path)\n",
    "\tCUSTOM_submenu_addTimeIntervals.append(an_action)\n",
    "\n",
    "\tif new_key not in add_time_intervals_menu:\n",
    "\t\t## completely new\n",
    "\t\t# only_new_time_intervals_menu[new_key] = an_action\n",
    "\t\tCUSTOM_submenu_addTimeIntervals_ONLY_NEW.append(an_action)\n",
    "\n",
    "\tadd_time_intervals_menu[new_key] = an_action # have to use a string keypath because `out_command_dict[*extracted_menu_path]` is not allowed\n",
    "\t# add_time_intervals_menu.addAction(an_action)\n",
    "\t# Add the action to the actual menu\n",
    "\t_gui_menu_parent.ui.menuAdd_Renderable.addAction(an_action)\n",
    "\n",
    "\n",
    "# add_time_intervals_menu\n",
    "# only_new_time_intervals_menu\n",
    "\n",
    "\n",
    "# cls.add_dynamic_time_intervals(widget, new_intervals)\n",
    "\n",
    "## INPUTS: add_time_intervals_menu, _gui_menu_parent.ui.menuAdd_Renderable\n",
    "\n",
    "\n",
    "## OUTPUTS: CUSTOM_submenu_addTimeIntervals, CUSTOM_submenu_addTimeIntervals_ONLY_NEW, CUSTOM_submenu_addTimeIntervals_Connections"
   ]
  },
  {
   "cell_type": "code",
   "execution_count": null,
   "id": "9386c12f",
   "metadata": {},
   "outputs": [],
   "source": [
    "global_epoch_name: str = curr_active_pipeline.find_LongShortGlobal_epoch_names()[-1]\n",
    "active_2d_plot_renderable_menus_tuple: Tuple = LocalMenus_AddRenderable._build_renderable_menu(destination_plot=active_2d_plot, curr_active_pipeline=curr_active_pipeline, active_config_name=global_epoch_name)\n",
    "widget, renderable_menu, (submenu_addTimeIntervals, submenu_addTimeIntervalCallbacks, submenu_addTimeIntervals_Connections), (submenu_addTimeCurves, submenu_addTimeCurvesCallbacks, submenu_addTimeCurves_Connections), (submenu_addMatplotlibPlot, submenu_addMatplotlibPlotCallbacks, submenu_addMatplotlibPlot_Connections) = active_2d_plot_renderable_menus_tuple ## Unpack\n",
    "\n",
    "# extend: (submenu_addTimeIntervals, submenu_addTimeIntervalCallbacks, submenu_addTimeIntervals_Connections)\n",
    "\n",
    "# my items (CUSTOM_submenu_addTimeIntervals, CUSTOM_submenu_addTimeIntervals_ONLY_NEW, CUSTOM_submenu_addTimeIntervalCallbacks, CUSTOM_submenu_addTimeIntervals_Connections)\n",
    "\n",
    "\n",
    "# submenu_addTimeIntervals\n",
    "# submenu_addTimeIntervals\n",
    "submenu_addTimeIntervals.extend(CUSTOM_submenu_addTimeIntervals_ONLY_NEW)\n",
    "submenu_addTimeIntervalCallbacks.extend(CUSTOM_submenu_addTimeIntervalCallbacks)\n",
    "submenu_addTimeIntervals_Connections.extend(CUSTOM_submenu_addTimeIntervals_Connections)"
   ]
  },
  {
   "cell_type": "code",
   "execution_count": null,
   "id": "b2cd6237",
   "metadata": {},
   "outputs": [],
   "source": [
    "global_epoch_name: str = curr_active_pipeline.find_LongShortGlobal_epoch_names()[-1]\n",
    "global_epoch_name"
   ]
  },
  {
   "cell_type": "code",
   "execution_count": null,
   "id": "39b74d79",
   "metadata": {},
   "outputs": [],
   "source": [
    "from pyphoplacecellanalysis.GUI.Qt.Menus.LocalMenus_AddRenderable.LocalMenus_AddRenderable import LocalMenus_AddRenderable\n",
    "\n",
    "# active_2d_plot = spike_raster_window.spike_raster_plt_2d \n",
    "menuAdd_Renderable: QtWidgets.QMenu = LocalMenus_AddRenderable.add_renderable_context_menu(active_2d_plot=active_2d_plot, curr_active_pipeline=curr_active_pipeline, active_config_name=global_epoch_name)\n",
    "menuAdd_Renderable"
   ]
  },
  {
   "cell_type": "code",
   "execution_count": null,
   "id": "2e40ffd8",
   "metadata": {},
   "outputs": [],
   "source": [
    "def add_renderable_context_menu(active_2d_plot, curr_active_pipeline, active_config_name, override_custom_menu: Optional[QtWidgets.QMenu]=None, additional_menu_items=None) -> QtWidgets.QMenu:\n",
    "\t\"\"\" \n",
    "\tUsage:\n",
    "\t\tactive_2d_plot = spike_raster_window.spike_raster_plt_2d \n",
    "\t\tmenuAdd_Renderable = LocalMenus_AddRenderable.add_renderable_context_menu(active_2d_plot, sess)\n",
    "\t\t\n",
    "\t\"\"\"\n",
    "\tdef _subFn_append_custom_menu_to_context_menu(parent_widget, additional_menu: QtWidgets.QMenu, debug_print=False):\n",
    "\t\t\"\"\" Adds the custom menu, such as one loaded from a .ui file, to the end of the context menu\n",
    "\t\tparent_widget: PlotItem\n",
    "\t\tadditional_menu: QMenu\n",
    "\t\t\n",
    "\t\tExample:\n",
    "\t\t\tfrom pyphoplacecellanalysis.Resources import GuiResources, ActionIcons\n",
    "\t\t\tfrom pyphoplacecellanalysis.GUI.Qt.GlobalApplicationMenus.LocalMenus_AddRenderable import LocalMenus_AddRenderable\n",
    "\t\t\twidget = LocalMenus_AddRenderable()\n",
    "\t\t\tappend_custom_menu_to_context_menu(main_plot_widget, widget.ui.menuAdd_Renderable)\n",
    "\t\t\tappend_custom_menu_to_context_menu(background_static_scroll_plot_widget, widget.ui.menuAdd_Renderable)\n",
    "\t\t\"\"\"\n",
    "\t\t\n",
    "\t\tplot_options_context_menu = parent_widget.getContextMenus(None) # This gets the \"Plot Options\" menu\n",
    "\t\t# top_level_parent_context_menu = parent_context_menus.parent()\n",
    "\t\ttop_level_parent_context_menu = parent_widget.vb.menu # ViewBoxMenu\n",
    "\t\t\n",
    "\t\tactive_parent_menu = top_level_parent_context_menu\n",
    "\t\tactive_parent_menu.addSeparator()\n",
    "\t\tactive_parent_menu.addMenu(additional_menu)\n",
    "\t\tif debug_print:\n",
    "\t\t\tprint(f'parent_context_menus.actions: {[an_action.text() for an_action in active_parent_menu.actions()]}') # parent_context_menus.actions: ['Transforms', 'Downsample', 'Average', 'Alpha', 'Grid', 'Points']\n",
    "\t\t\t\n",
    "\t\t## Build `partial` versions of the functions specific to each raster plotter that can be called with no arguments (capturing the destination plotter and the session\n",
    "\t# build_renderable_menu_to_Spike2DRaster = partial(cls.build_renderable_menu, active_2d_plot, sess) # destination_plot\n",
    "\t# active_2d_plot_renderable_menus = cls._build_renderable_menu(active_2d_plot, sess)\n",
    "\t\n",
    "\n",
    "\n",
    "\tif override_custom_menu is None:\n",
    "\t\tactive_2d_plot_renderable_menus: Tuple = LocalMenus_AddRenderable._build_renderable_menu(active_2d_plot, curr_active_pipeline, active_config_name)\n",
    "\t\tmenuAdd_Renderable: QtWidgets.QMenu = widget_2d_menu.ui.menuAdd_Renderable\n",
    "\telse:\n",
    "\t\tactive_2d_plot_renderable_menus: Tuple = LocalMenus_AddRenderable._build_renderable_menu(active_2d_plot, curr_active_pipeline, active_config_name) # not sure where they should come from, the flat dict?\n",
    "\t\tmenuAdd_Renderable: QtWidgets.QMenu = override_custom_menu\n",
    "\n",
    "\n",
    "\n",
    "\tif additional_menu_items is not None:\n",
    "\t\t## add them\n",
    "\t\traise NotImplementedError()\n",
    "\n",
    "\t# active_2d_plot_renderable_menus: Tuple = LocalMenus_AddRenderable._build_renderable_menu(active_2d_plot, curr_active_pipeline, active_config_name)\n",
    "\twidget_2d_menu: LocalMenus_AddRenderable = active_2d_plot_renderable_menus[0]\n",
    "\t\n",
    "\t# programmatic_actions_dict = widget_2d_menu.programmatic_actions_dict\n",
    "\tprint(f'active_2d_plot_renderable_menus: {active_2d_plot_renderable_menus}, type(active_2d_plot_renderable_menus): {type(active_2d_plot_renderable_menus)}')\n",
    "\tprint(f'widget_2d_menu: {widget_2d_menu}, type(widget_2d_menu): {type(widget_2d_menu)}')\n",
    "\tprint(f'menuAdd_Renderable: {menuAdd_Renderable}, type(menuAdd_Renderable): {type(menuAdd_Renderable)}')\n",
    "\t# print(f'menuAdd_Renderable: {menuAdd_Renderable}, type(menuAdd_Renderable): {type(menuAdd_Renderable)}')\n",
    "\n",
    "\n",
    "\n",
    "\t## Specific to SpikeRaster2D:        \n",
    "\t## Add the custom menu to the context menus of the plots in SpikeRaster2D:        \n",
    "\tmain_plot_widget = active_2d_plot.plots.main_plot_widget # PlotItem\n",
    "\tbackground_static_scroll_plot_widget = active_2d_plot.plots.background_static_scroll_window_plot # PlotItem\n",
    "\t_subFn_append_custom_menu_to_context_menu(main_plot_widget, menuAdd_Renderable)\n",
    "\t_subFn_append_custom_menu_to_context_menu(background_static_scroll_plot_widget, menuAdd_Renderable)\n",
    "\t\n",
    "\t# Add the reference to the context menus to owner, so it isn't released:\n",
    "\t## TODO: currently replaces the dict entry, which we might want to use for other menus\n",
    "\tactive_2d_plot.ui.menus = PhoUIContainer.init_from_dict({'custom_context_menus': PhoUIContainer.init_from_dict({'add_renderables': active_2d_plot_renderable_menus})})\n",
    "\n",
    "\t# # Build final programmatic dict from nested PhoUIContainers:\n",
    "\t# out_final = PhoUIContainer.init_from_dict({})\n",
    "\t# for k, v in programmatic_actions_dict.items_sorted_by_keys(reverse=False):\n",
    "\t#     out_final[k] = PhoUIContainer.init_from_dict(v)\n",
    "\t#     # print(k, v)\n",
    "\t# widget_2d_menu.programmatic_actions_dict = out_final\n",
    "\n",
    "\n",
    "\treturn menuAdd_Renderable # try returning just the menu and not the stupid references to everything # Works when we hold a reference\n",
    "\n",
    "\n",
    "## INPUTS: add_time_intervals_menu, _gui_menu_parent.ui.menuAdd_Renderable\n",
    "\n",
    "menuAdd_Renderable: QtWidgets.QMenu = add_renderable_context_menu(active_2d_plot=active_2d_plot, curr_active_pipeline=curr_active_pipeline, active_config_name=global_epoch_name,\n",
    "\t\t\t\t\t\t\t\t\t\t\t\t\t\t\t\t  override_custom_menu=_gui_menu_parent.ui.menuAdd_Renderable,\n",
    "\t\t\t\t\t\t\t\t\t\t\t\t\t\t\t\t\t# additional_menu_items=add_time_intervals_menu,\n",
    "\t\t\t\t\t\t\t\t\t\t\t\t\t\t\t\t\t)\n",
    "menuAdd_Renderable"
   ]
  },
  {
   "cell_type": "code",
   "execution_count": null,
   "id": "5aba49f9",
   "metadata": {},
   "outputs": [],
   "source": [
    "submenu_addTimeIntervals_Connections"
   ]
  },
  {
   "cell_type": "code",
   "execution_count": null,
   "id": "c3cb1fa0",
   "metadata": {},
   "outputs": [],
   "source": [
    "# Force a refresh of the context menu\n",
    "def rebuild_context_menu():\n",
    "\t_gui_menu_parent.ui.menuAdd_Renderable.clear()\n",
    "\tfor action in add_time_intervals_menu.values():\n",
    "\t\t_gui_menu_parent.ui.menuAdd_Renderable.addAction(action)\n",
    "\n",
    "rebuild_context_menu()"
   ]
  },
  {
   "cell_type": "code",
   "execution_count": null,
   "id": "e01629e3",
   "metadata": {},
   "outputs": [],
   "source": [
    "replay_epochs_key = 'diba_quiescent_method_replay_epochs'\n",
    "a_replay_epochs = replay_epoch_variations[replay_epochs_key]\n",
    "\n",
    "# for replay_epochs_key, a_replay_epochs in replay_epoch_variations.items():\n",
    "_temp_curr_active_pipeline = deepcopy(curr_active_pipeline)\n",
    "did_change, custom_save_filenames, custom_save_filepaths = overwrite_replay_epochs_and_recompute(curr_active_pipeline=_temp_curr_active_pipeline, new_replay_epochs=a_replay_epochs, enable_save_pipeline_pkl=True, enable_save_global_computations_pkl=False, enable_save_h5=False)\n",
    "\n",
    "## modifies `_temp_curr_active_pipeline`\n"
   ]
  },
  {
   "cell_type": "code",
   "execution_count": null,
   "id": "ea1cd763",
   "metadata": {},
   "outputs": [],
   "source": [
    "custom_save_filenames\n"
   ]
  },
  {
   "cell_type": "code",
   "execution_count": null,
   "id": "63846311",
   "metadata": {},
   "outputs": [],
   "source": [
    "\n",
    "\n",
    "custom_save_filepaths = helper_perform_pickle_pipeline(a_curr_active_pipeline=_temp_curr_active_pipeline, custom_save_filenames=custom_save_filenames, custom_save_filepaths=custom_save_filepaths, enable_save_pipeline_pkl=True, enable_save_global_computations_pkl=False, enable_save_h5=False)"
   ]
  },
  {
   "cell_type": "code",
   "execution_count": null,
   "id": "dc661c95",
   "metadata": {},
   "outputs": [],
   "source": [
    "custom_save_filepaths # 'pipeline_pkl': PosixPath('/Users/pho/data/KDIBA/gor01/one/2006-6-09_1-22-43/loadedSessPickle_withNewComputedReplays-qclu_[1, 2]-frateThresh_5.0.pkl'),"
   ]
  },
  {
   "cell_type": "markdown",
   "id": "4bf10b54",
   "metadata": {},
   "source": []
  },
  {
   "cell_type": "markdown",
   "id": "b5df735b",
   "metadata": {},
   "source": [
    "# 🎯🔷💯 2024-07-02 - New epoch decoding and CSV export: "
   ]
  },
  {
   "cell_type": "code",
   "execution_count": null,
   "id": "b4eb4c68",
   "metadata": {},
   "outputs": [],
   "source": [
    "from pyphoplacecellanalysis.General.Pipeline.Stages.ComputationFunctions.MultiContextComputationFunctions.DirectionalPlacefieldGlobalComputationFunctions import DecoderDecodedEpochsResult\n",
    "from pyphoplacecellanalysis.General.Pipeline.Stages.ComputationFunctions.MultiContextComputationFunctions.DirectionalPlacefieldGlobalComputationFunctions import filter_and_update_epochs_and_spikes\n",
    "\n",
    "if ('DirectionalDecodersEpochsEvaluations' in curr_active_pipeline.global_computation_results.computed_data) and (curr_active_pipeline.global_computation_results.computed_data['DirectionalDecodersEpochsEvaluations'] is not None):\n",
    "\tdirectional_decoders_epochs_decode_result: DecoderDecodedEpochsResult = curr_active_pipeline.global_computation_results.computed_data['DirectionalDecodersEpochsEvaluations']\n",
    "\tdirectional_decoders_epochs_decode_result.add_all_extra_epoch_columns(curr_active_pipeline, track_templates=track_templates, required_min_percentage_of_active_cells=0.33333333, debug_print=False)\n",
    "\n",
    "\t## UNPACK HERE via direct property access:\n",
    "\tpos_bin_size: float = directional_decoders_epochs_decode_result.pos_bin_size\n",
    "\tripple_decoding_time_bin_size: float = directional_decoders_epochs_decode_result.ripple_decoding_time_bin_size\n",
    "\tlaps_decoding_time_bin_size: float = directional_decoders_epochs_decode_result.laps_decoding_time_bin_size\n",
    "\tprint(f'{pos_bin_size = }, {ripple_decoding_time_bin_size = }, {laps_decoding_time_bin_size = }') # pos_bin_size = 3.8054171165052444, ripple_decoding_time_bin_size = 0.025, laps_decoding_time_bin_size = 0.2\n",
    "\tdecoder_laps_filter_epochs_decoder_result_dict = directional_decoders_epochs_decode_result.decoder_laps_filter_epochs_decoder_result_dict\n",
    "\tdecoder_ripple_filter_epochs_decoder_result_dict = directional_decoders_epochs_decode_result.decoder_ripple_filter_epochs_decoder_result_dict\n",
    "\tdecoder_laps_radon_transform_df_dict = directional_decoders_epochs_decode_result.decoder_laps_radon_transform_df_dict\n",
    "\tdecoder_ripple_radon_transform_df_dict = directional_decoders_epochs_decode_result.decoder_ripple_radon_transform_df_dict\n",
    "\n",
    "\t# New items:\n",
    "\tdecoder_laps_radon_transform_extras_dict = directional_decoders_epochs_decode_result.decoder_laps_radon_transform_extras_dict\n",
    "\tdecoder_ripple_radon_transform_extras_dict = directional_decoders_epochs_decode_result.decoder_ripple_radon_transform_extras_dict\n",
    "\n",
    "\t# Weighted correlations:\n",
    "\tlaps_weighted_corr_merged_df = directional_decoders_epochs_decode_result.laps_weighted_corr_merged_df\n",
    "\tripple_weighted_corr_merged_df = directional_decoders_epochs_decode_result.ripple_weighted_corr_merged_df\n",
    "\tdecoder_laps_weighted_corr_df_dict = directional_decoders_epochs_decode_result.decoder_laps_weighted_corr_df_dict\n",
    "\tdecoder_ripple_weighted_corr_df_dict = directional_decoders_epochs_decode_result.decoder_ripple_weighted_corr_df_dict\n",
    "\n",
    "\t# Pearson's correlations:\n",
    "\tlaps_simple_pf_pearson_merged_df = directional_decoders_epochs_decode_result.laps_simple_pf_pearson_merged_df\n",
    "\tripple_simple_pf_pearson_merged_df = directional_decoders_epochs_decode_result.ripple_simple_pf_pearson_merged_df"
   ]
  },
  {
   "cell_type": "code",
   "execution_count": null,
   "id": "992bc1db",
   "metadata": {},
   "outputs": [],
   "source": [
    "curr_session_name: str = curr_active_pipeline.session_name # '2006-6-08_14-26-15'\n",
    "CURR_BATCH_OUTPUT_PREFIX: str = f\"{BATCH_DATE_TO_USE}-{curr_session_name}\"\n",
    "print(f'CURR_BATCH_OUTPUT_PREFIX: {CURR_BATCH_OUTPUT_PREFIX}')\n",
    "\n",
    "# active_context = curr_active_pipeline.get_session_context().adding_context_if_missing(custom_\n",
    "\n",
    "# session_name: str = curr_active_pipeline.session_name\n",
    "\n",
    "active_context = curr_active_pipeline.get_session_context()\n",
    "session_name: str = f\"{curr_active_pipeline.session_name}{custom_suffix}\" ## appending this here is a hack, but it makes the correct filename\n",
    "active_context = active_context.adding_context_if_missing(suffix=custom_suffix)\n",
    "session_ctxt_key:str = active_context.get_description(separator='|', subset_includelist=(IdentifyingContext._get_session_context_keys() + ['suffix']))\n",
    "\n",
    "\n",
    "earliest_delta_aligned_t_start, t_delta, latest_delta_aligned_t_end = curr_active_pipeline.find_LongShortDelta_times()\n",
    "\n",
    "active_context\n",
    "session_ctxt_key"
   ]
  },
  {
   "cell_type": "code",
   "execution_count": null,
   "id": "2b1c0fd0",
   "metadata": {},
   "outputs": [],
   "source": [
    "# Shifts the absolute times to delta-relative values, as would be needed to draw on a 'delta_aligned_start_t' axis:\n",
    "delta_relative_t_start, delta_relative_t_delta, delta_relative_t_end = np.array([earliest_delta_aligned_t_start, t_delta, latest_delta_aligned_t_end]) - t_delta\n",
    "# decoder_user_selected_epoch_times_dict, any_good_selected_epoch_times = DecoderDecodedEpochsResult.load_user_selected_epoch_times(curr_active_pipeline)\n",
    "# any_good_selected_epoch_indicies = filtered_ripple_simple_pf_pearson_merged_df.epochs.matching_epoch_times_slice(any_good_selected_epoch_times)\n",
    "# df = filter_epochs_dfs_by_annotation_times(curr_active_pipeline, any_good_selected_epoch_times, ripple_decoding_time_bin_size=ripple_decoding_time_bin_size, filtered_ripple_simple_pf_pearson_merged_df, ripple_weighted_corr_merged_df)\n",
    "# df\n",
    "\n",
    "# collected_outputs_path = self.collected_outputs_path.resolve()\n",
    "\n",
    "collected_outputs_path = collected_outputs_path.resolve()\n",
    "\n",
    "## Export CSVs:\n",
    "t_start, t_delta, t_end = curr_active_pipeline.find_LongShortDelta_times()\n",
    "_output_csv_paths = directional_decoders_epochs_decode_result.export_csvs(parent_output_path=collected_outputs_path, active_context=active_context, session_name=curr_session_name, curr_session_t_delta=t_delta,\n",
    "\t\t\t\t\t\t\t\t\t\t\t\t\t\t\t\t\t\t# user_annotation_selections={'ripple': any_good_selected_epoch_times},\n",
    "\t\t\t\t\t\t\t\t\t\t\t\t\t\t\t\t\t\t# valid_epochs_selections={'ripple': filtered_valid_epoch_times},\n",
    "\t\t\t\t\t\t\t\t\t\t\t\t\t\t\t\t\t\t)\n",
    "\n"
   ]
  },
  {
   "cell_type": "code",
   "execution_count": null,
   "id": "11c7a2a3",
   "metadata": {},
   "outputs": [],
   "source": [
    "\n",
    "print(f'\\t\\tsuccessfully exported directional_decoders_epochs_decode_result to {collected_outputs_path}!')\n",
    "_output_csv_paths_info_str: str = '\\n'.join([f'{a_name}: \"{file_uri_from_path(a_path)}\"' for a_name, a_path in _output_csv_paths.items()])\n",
    "# print(f'\\t\\t\\tCSV Paths: {_output_csv_paths}\\n')\n",
    "print(f'\\t\\t\\tCSV Paths: {_output_csv_paths_info_str}\\n')\n",
    "\n"
   ]
  },
  {
   "cell_type": "code",
   "execution_count": null,
   "id": "6e709f3a",
   "metadata": {},
   "outputs": [],
   "source": [
    "session_name: str = curr_active_pipeline.session_name\n",
    "t_start, t_delta, t_end = curr_active_pipeline.find_LongShortDelta_times()\n",
    "\n",
    "for a_ripple_df in (directional_decoders_epochs_decode_result.ripple_weighted_corr_merged_df, directional_decoders_epochs_decode_result.ripple_simple_pf_pearson_merged_df):\n",
    "\tif ('time_bin_size' not in a_ripple_df.columns) and (ripple_decoding_time_bin_size is not None):\n",
    "\t\t## add the column\n",
    "\t\ta_ripple_df['time_bin_size'] = ripple_decoding_time_bin_size\n",
    "\t\t# ripple_simple_pf_pearson_merged_df['time_bin_size'] = ripple_simple_pf_pearson_merged_df\n",
    "\n",
    "\t# Add the maze_id to the active_filter_epochs so we can see how properties change as a function of which track the replay event occured on:\n",
    "\ta_ripple_df = DecoderDecodedEpochsResult.add_session_df_columns(a_ripple_df, session_name=session_name, time_bin_size=None, curr_session_t_delta=t_delta, time_col='ripple_start_t')\n",
    "\t# df = _add_maze_id_to_epochs(df, t_delta)\n",
    "\t# df[\"time_bin_size\"] = ripple_decoding_time_bin_size\n",
    "\t# df['is_user_annotated_epoch'] = True # if it's filtered here, it's true"
   ]
  },
  {
   "cell_type": "code",
   "execution_count": null,
   "id": "66a00cd9",
   "metadata": {},
   "outputs": [],
   "source": [
    "for a_ripple_df in (ripple_weighted_corr_merged_df, ripple_simple_pf_pearson_merged_df):\n",
    "\tif ('time_bin_size' not in a_ripple_df.columns) and (ripple_decoding_time_bin_size is not None):\n",
    "\t\t## add the column\n",
    "\t\ta_ripple_df['time_bin_size'] = ripple_decoding_time_bin_size\n",
    "\t\t# ripple_simple_pf_pearson_merged_df['time_bin_size'] = ripple_simple_pf_pearson_merged_df\n",
    "\n"
   ]
  },
  {
   "cell_type": "code",
   "execution_count": null,
   "id": "b72763c5",
   "metadata": {},
   "outputs": [],
   "source": [
    "ripple_simple_pf_pearson_merged_df\n",
    "ripple_weighted_corr_merged_df"
   ]
  },
  {
   "cell_type": "code",
   "execution_count": null,
   "id": "86fe34dd",
   "metadata": {},
   "outputs": [],
   "source": [
    "directional_decoders_epochs_decode_result.ripple_weighted_corr_merged_df\n",
    "# directional_decoders_epochs_decode_result.decoder_ripple_weighted_corr_df_dict # vector for each decoder"
   ]
  },
  {
   "cell_type": "code",
   "execution_count": null,
   "id": "ea151325",
   "metadata": {},
   "outputs": [],
   "source": [
    "## Plot: directional_decoders_epochs_decode_result.ripple_weighted_corr_merged_df\n",
    "from pyphoplacecellanalysis.Pho2D.plotly.Extensions.plotly_helpers import plotly_pre_post_delta_scatter\n",
    "\n",
    "ripple_weighted_corr_merged_df = deepcopy(directional_decoders_epochs_decode_result.ripple_weighted_corr_merged_df)\n",
    "ripple_weighted_corr_merged_df\n",
    "\n",
    "session_name: str = curr_active_pipeline.session_name\n",
    "t_start, t_delta, t_end = curr_active_pipeline.find_LongShortDelta_times()\n",
    "\n"
   ]
  },
  {
   "cell_type": "code",
   "execution_count": null,
   "id": "4c440a69",
   "metadata": {},
   "outputs": [],
   "source": [
    "# histogram_bins = 'auto'\n",
    "histogram_bins: int = 25\n",
    "\n",
    "# ripple_weighted_corr_merged_df = ripple_weighted_corr_merged_df[['P_Short','delta_aligned_start_t', 'time_bin_size']]\n",
    "ripple_weighted_corr_merged_df = ripple_weighted_corr_merged_df[['P_Short','delta_aligned_start_t', 'time_bin_size']]\n",
    "new_ripple_fig, new_ripple_fig_context = plotly_pre_post_delta_scatter(data_results_df=ripple_weighted_corr_merged_df, out_scatter_fig=None, histogram_bins=histogram_bins,\n",
    "\t\t\t\t\t\t\t\t\t\t\t\t\t\t\t\t\t\tpx_scatter_kwargs=dict(title='Ripple'), histogram_variable_name='P_Short')\n",
    "\n",
    "# new_laps_fig = new_laps_fig.update_layout(fig_size_kwargs, \n",
    "#     xaxis_title=\"X Axis Title\",\n",
    "#     yaxis_title=\"Y Axis Title\",\n",
    "#     legend_title=\"Legend Title\",\n",
    "#     font=dict(\n",
    "#         family=\"Courier New, monospace\",\n",
    "#         size=18,\n",
    "#         color=\"RebeccaPurple\"\n",
    "#     ),\n",
    "# )\n",
    "# Update x-axis labels\n",
    "# new_laps_fig.update_xaxes(title_text=\"Num Time Bins\", row=1, col=1)\n",
    "# new_laps_fig.update_xaxes(title_text=\"Delta-aligned Event Time (seconds)\", row=1, col=2)\n",
    "# new_laps_fig.update_xaxes(title_text=\"Num Time Bins\", row=1, col=3)\n",
    "\n",
    "\n",
    "_extras_output_dict = {}\n",
    "_extras_output_dict[\"y_mid_line\"] = new_ripple_fig.add_hline(y=0.5, line=dict(color=\"rgba(0.8,0.8,0.8,.75)\", width=2), row='all', col='all')\n",
    "\n",
    "new_ripple_fig\n",
    "\n",
    "\n",
    "\n",
    "# # Update layout to add a title to the legend\n",
    "# new_fig_ripples.update_layout(\n",
    "#     legend_title_text='Is User Selected'  # Add a title to the legend\n",
    "# )\n",
    "\n",
    "# fig_to_clipboard(new_fig_ripples, **fig_size_kwargs)\n",
    "\n",
    "# new_laps_fig_context: IdentifyingContext = new_laps_fig_context.adding_context_if_missing(epoch='withNewKamranExportedReplays', num_sessions=num_sessions, plot_type='scatter+hist', comparison='pre-post-delta', variable_name=variable_name)\n",
    "# figure_out_paths = save_plotly(a_fig=new_laps_fig, a_fig_context=new_laps_fig_context)\n",
    "# new_laps_fig"
   ]
  },
  {
   "cell_type": "code",
   "execution_count": null,
   "id": "aa8cd65e",
   "metadata": {},
   "outputs": [],
   "source": []
  },
  {
   "cell_type": "code",
   "execution_count": null,
   "id": "553f6001",
   "metadata": {},
   "outputs": [],
   "source": []
  },
  {
   "cell_type": "code",
   "execution_count": null,
   "id": "2ca35d31",
   "metadata": {},
   "outputs": [],
   "source": [
    "from pyphocorehelpers.print_helpers import CustomTreeFormatters, DocumentationFilePrinter\n",
    "\n",
    "custom_memory_size_value_formatter = (lambda depth_string, curr_key, curr_value, type_string, type_name, is_omitted_from_expansion=False, value_formatting_fn=DocumentationFilePrinter.value_memory_usage_MB: DocumentationFilePrinter._default_rich_text_formatter(depth_string, curr_key, curr_value, type_string, type_name, is_omitted_from_expansion=is_omitted_from_expansion, value_formatting_fn=DocumentationFilePrinter.value_memory_usage_MB))\n",
    "\n",
    "# _default_plain_text_object_size_formatter = lambda DocumentationFilePrinter._default_rich_text_formatter(*args, **kwargs, value_formatting_fn=DocumentationFilePrinter.value_memory_usage_MB)\n",
    "\n",
    "\n",
    "\n",
    "# def _default_plain_text_object_size_formatter(depth_string, curr_key, curr_value, type_string, type_name, is_omitted_from_expansion=False, value_formatting_fn=None):\n",
    "#     \"\"\"       \"\"\"\n",
    "#     memory_size_str_value: str = f\"{print_object_memory_usage(curr_value, enable_print=False):0.3f} MB\"\n",
    "#     # return CustomTreeFormatters.basic_custom_tree_formatter(depth_string=depth_string, curr_key=curr_key, curr_value=memory_size_str_value, type_string=type_string, type_name=type_name, is_omitted_from_expansion=is_omitted_from_expansion)\n",
    "#     prefix = '├── ' if depth_string else ''\n",
    "#     link_char = '│   ' if depth_string else '    '\n",
    "#     depth_string_with_link = depth_string + link_char\n",
    "#     formatted_string = f\"{depth_string_with_link}{prefix}{curr_key}: {type_name}\"\n",
    "#     if is_omitted_from_expansion:\n",
    "#         formatted_string += ' (children omitted)'\n",
    "\t\n",
    "#     formatted_string += f\"- {memory_size_str_value}\" \n",
    "#     return formatted_string\n",
    "\n",
    "\n",
    "# print_keys_if_possible('global_computation_results', curr_active_pipeline.global_computation_results, max_depth=2,\n",
    "#                        custom_item_formatter=_default_plain_text_object_size_formatter)\n",
    "\n",
    "# print_keys_if_possible('curr_active_pipeline', curr_active_pipeline, max_depth=2,\n",
    "#                        custom_item_formatter=_default_plain_text_object_size_formatter)\n",
    "\n",
    "print_keys_if_possible('curr_active_pipeline', curr_active_pipeline, max_depth=2,\n",
    "\t\t\t\t\t   custom_item_formatter=custom_memory_size_value_formatter)\n",
    "\n",
    "\n",
    "# global_computation_results: pyphoplacecellanalysis.General.Model.ComputationResults.ComputationResult\t  12728.756100654602MB\n",
    "# │   ├── sess: neuropy.core.session.dataSession.DataSession\t  563.4777412414551MB\n",
    "# │   ├── computation_config: neuropy.utils.dynamic_container.DynamicContainer\t  0.000553131103515625MB\n",
    "# │   ├── computed_data: pyphocorehelpers.DataStructure.dynamic_parameters.DynamicParameters\t  12165.277884483337MB\n",
    "# │   ├── accumulated_errors: pyphocorehelpers.DataStructure.dynamic_parameters.DynamicParameters\t  0.0002593994140625MB\n",
    "# │   ├── computation_times: pyphocorehelpers.DataStructure.dynamic_parameters.DynamicParameters\t  0.00142669677734375MB\n"
   ]
  },
  {
   "cell_type": "code",
   "execution_count": null,
   "id": "361b0b0f",
   "metadata": {},
   "outputs": [],
   "source": [
    "from attrs import make_class\n",
    "\n",
    "dummy_pipeline_attrs_names_list = ['sess', 'filtered_sessions', 'filtered_contexts', 'computation_results', 'global_computation_results']\n",
    "SimpleCurrActivePipelineComputationDummy = make_class('SimpleCurrActivePipelineComputationDummy', attrs=dummy_pipeline_attrs_names_list, kw_only=True)\n",
    "\n",
    "\n",
    "# Accessed properties: {'global_computation_results', 'sess', 'filtered_sessions', 'computation_results', 'filtered_contexts', 'find_LongShortGlobal_epoch_names'}\n",
    "# Modified properties: set()\n",
    "\n",
    "\n",
    "# \"\"\"\n",
    "# from pyphoplacecellanalysis.General.Batch.BatchJobCompletion.UserCompletionHelpers.batch_user_completion_helpers import \n",
    "\n",
    "# a_dummy = SimpleCurrActivePipelineComputationDummy(BATCH_DATE_TO_USE, collected_outputs_path, True)\n",
    "\n",
    "\n",
    "# \"\"\"\n"
   ]
  },
  {
   "cell_type": "code",
   "execution_count": null,
   "id": "54a2236f",
   "metadata": {},
   "outputs": [],
   "source": [
    "# curr_active_pipeline.__getstate__()\n",
    "curr_active_pipeline.sess"
   ]
  },
  {
   "cell_type": "code",
   "execution_count": null,
   "id": "c37c774c",
   "metadata": {},
   "outputs": [],
   "source": [
    "# curr_active_pipeline.__getstate__()\n",
    "\n",
    "# _temp_pipeline_dict = get_dict_subset(curr_active_pipeline.__getstate__(), dummy_pipeline_attrs_names_list)\n",
    "_temp_pipeline_dict = get_dict_subset(curr_active_pipeline.stage.__getstate__(), dummy_pipeline_attrs_names_list) | {'sess': deepcopy(curr_active_pipeline.sess)}\n",
    "_temp_pipeline_dict\n",
    "\n",
    "print_keys_if_possible('curr_active_pipeline.stage.__getstate__()', _temp_pipeline_dict, max_depth=2)\n",
    "\n",
    "a_dummy_pipeline: SimpleCurrActivePipelineComputationDummy = SimpleCurrActivePipelineComputationDummy(**_temp_pipeline_dict)\n",
    "a_dummy_pipeline\n",
    "\n"
   ]
  },
  {
   "cell_type": "code",
   "execution_count": null,
   "id": "cf39ec66",
   "metadata": {},
   "outputs": [],
   "source": [
    "\n",
    "\n",
    "a_dummy_pipeline = SimpleCurrActivePipelineComputationDummy(**curr_active_pipeline.__getstate__())\n",
    "a_dummy_pipeline\n"
   ]
  },
  {
   "cell_type": "markdown",
   "id": "a9596e88",
   "metadata": {},
   "source": [
    "## 2024-07-18 - Find Exported .h5 files "
   ]
  },
  {
   "cell_type": "code",
   "execution_count": null,
   "id": "519a4763",
   "metadata": {},
   "outputs": [],
   "source": [
    "# curr_active_pipeline.get_output_path()\n",
    "\n",
    "curr_active_pipeline.h5_export_path\n",
    "\n",
    "## find exported .h5, .pkl, and .csv files:\n"
   ]
  },
  {
   "cell_type": "markdown",
   "id": "aa1f312d",
   "metadata": {},
   "source": [
    "# 2023-12-19 - Transition Matrix Analysis\n",
    "Compute transition matricies from track_templates using `track_templates.compute_decoder_transition_matricies(...)`\n",
    "\n",
    "The transition matrix `T` shows the probability of moving from each position bin to every other position bin after a single time step.\n",
    "For a single row `i`, shows the the probability of transition to each possible position bin (including remaining in the same bin) in the following time step. These probabilities sum to 1.\n",
    "These can be computed by a simple procedure: \n",
    "\tSample the animal's 1D track position at a fixed time step.\n",
    "\tDiscretize these positions into bins of a fixed size (in cm). \n",
    "\tFor each time step after the first, form a `(from, to)` \"edge\" based on the position and the position at the preceeding time step. \n",
    "\tStarting with a matrix `T` of all zeros with size `n_pos_bins x n_pos_bins`\n",
    "\tFor each `(from, to)` edge, increment (add one) the `T[from][to]` entry in the matrix\n",
    "\tFor each row in the matrix, divide each element by the sum of the row. This normalizes the row to a probability (1.0).\n",
    "\n",
    "This matrix `T` can be used in the following way. Consider a state vector representing the animal's position at a given time `t`. This `n_pos_bins x 1` vector would be a vector of all zeros except for a 1.0 in the animal's actual position bin. A prediction for the animal's position in the next time step (`t+1`) can be found by matrix multiplication. \n",
    "\n",
    "This matrix `T` describes the positions after a single timestep (`order == 1`), but this method easily generalizes to a higher order by forming the edges while looking at the positions `t - order` bins in the past. \n",
    "\n",
    "This allows us to obtain a list of `O` transition matricies of increasing order from `order == 0` up to `order == O`.\n",
    "\n",
    "\n",
    "\n",
    "## Sequence Generation\n",
    "Given the occupancy for each template $P_x$ and the transition matrix list for that template, we can generate sample trajectories of any desired length. As an example, we start at a random position bin on the track according to the distribution $P_x$. From here, the 0th order transition matrix's rows correspond to the conditional probabilities for each position.\n",
    "\n",
    "\n",
    "\n"
   ]
  },
  {
   "cell_type": "code",
   "execution_count": null,
   "id": "f25a6215",
   "metadata": {},
   "outputs": [],
   "source": [
    "from neuropy.utils.mixins.binning_helpers import transition_matrix\n",
    "from pyphoplacecellanalysis.Analysis.Decoder.transition_matrix import TransitionMatrixComputations, DecoderListDict, ExpectedVelocityTuple\n",
    "from pyphoplacecellanalysis.Analysis.Decoder.reconstruction import DecodedFilterEpochsResult\n",
    "from pyphoplacecellanalysis.General.Pipeline.Stages.ComputationFunctions.MultiContextComputationFunctions.DirectionalPlacefieldGlobalComputationFunctions import TrackTemplates\n",
    "# Visualization ______________________________________________________________________________________________________ #\n",
    "from pyphoplacecellanalysis.GUI.PyQtPlot.BinnedImageRenderingWindow import BasicBinnedImageRenderingWindow, LayoutScrollability\n",
    "\n",
    "# Compute transition matricies from track_templates using `track_templates.compute_decoder_transition_matricies(...)`\n",
    "directional_laps_results: DirectionalLapsResult = curr_active_pipeline.global_computation_results.computed_data['DirectionalLaps']\n",
    "track_templates: TrackTemplates = directional_laps_results.get_templates(minimum_inclusion_fr_Hz=minimum_inclusion_fr_Hz) # non-shared-only -- !! Is minimum_inclusion_fr_Hz=None the issue/difference?\n",
    "\n",
    "# DirectionalMergedDecoders: Get the result after computation:\n",
    "directional_merged_decoders_result: \"DirectionalPseudo2DDecodersResult\" = curr_active_pipeline.global_computation_results.computed_data['DirectionalMergedDecoders']\n",
    "ripple_decoding_time_bin_size: float = directional_merged_decoders_result.ripple_decoding_time_bin_size\n",
    "laps_decoding_time_bin_size: float = directional_merged_decoders_result.laps_decoding_time_bin_size\n",
    "pos_bin_size: float = track_templates.get_decoders()[0].pos_bin_size\n",
    "\n",
    "## INPUTS: track_templates\n",
    "decoders_dict: Dict[types.DecoderName, BasePositionDecoder] = track_templates.get_decoders_dict()\n",
    "\n",
    "n_powers: int = 400\n",
    "transition_matrix_t_bin_size: float = laps_decoding_time_bin_size\n",
    "\n",
    "## Compute Transition matricies:\n",
    "binned_x_transition_matrix_higher_order_list_dict: Dict[types.DecoderName, List[NDArray]] = track_templates.compute_decoder_transition_matricies(n_powers=n_powers, use_direct_observations_for_order=True)\n",
    "makov_assumed_binned_x_transition_matrix_higher_order_list_dict: Dict[types.DecoderName, List[NDArray]] = track_templates.compute_decoder_transition_matricies(n_powers=n_powers, use_direct_observations_for_order=False)\n",
    "expected_velocity_list_dict: Dict[types.DecoderName, List[ExpectedVelocityTuple]] = TransitionMatrixComputations._compute_expected_velocity_list_dict(binned_x_transition_matrix_higher_order_list_dict=binned_x_transition_matrix_higher_order_list_dict)\n",
    "# OUTPUTS: binned_x_transition_matrix_higher_order_list_dict, makov_assumed_binned_x_transition_matrix_higher_order_list_dict, expected_velocity_list_dict, transition_matrix_t_bin_size\n",
    "\n",
    "## Matrix (instead of list) versions:\n",
    "binned_x_transition_matrix_higher_order_mat_dict: Dict[types.DecoderName, NDArray] = {k: np.stack(v) for k,v in binned_x_transition_matrix_higher_order_list_dict.items()} # (200, 57, 57)\n",
    "makov_assumed_binned_x_transition_matrix_higher_order_mat_dict: Dict[types.DecoderName, NDArray] = {k: np.stack(v) for k,v in makov_assumed_binned_x_transition_matrix_higher_order_list_dict.items()} # (200, 57, 57)\n",
    "_expected_x_dict = TransitionMatrixComputations.compute_expected_positions(binned_x_transition_matrix_higher_order_mat_dict=binned_x_transition_matrix_higher_order_mat_dict, decoders_dict=decoders_dict)\n",
    "# expected_velocity_mat_dict = {k: np.stack(v) for k,v in expected_velocity_list_dict.items()}\n",
    "\n",
    "marginalized_P_x_mat_dict: Dict[types.DecoderName, NDArray] = {} # (200, 57)\n",
    "for a_decoder_name, v in binned_x_transition_matrix_higher_order_mat_dict.items():\n",
    "\tmarginalized_P_x = np.sum(binned_x_transition_matrix_higher_order_mat_dict['long_LR'], axis=1) # (200, 57)\n",
    "\tmarginalized_P_x = marginalized_P_x / np.sum(marginalized_P_x, axis=-1, keepdims=True) # one for each order\n",
    "\tmarginalized_P_x_mat_dict[a_decoder_name] =  marginalized_P_x\n",
    "\n",
    "\n",
    "## OUTPUTS: binned_x_transition_matrix_higher_order_mat_dict, makov_assumed_binned_x_transition_matrix_higher_order_mat_dict, marginalized_P_x_mat_dict\n",
    "\n",
    "_save_context: IdentifyingContext = curr_active_pipeline.build_display_context_for_session('save_transition_matricies', pos_bin_size=pos_bin_size, t_bin_size=transition_matrix_t_bin_size)\n",
    "# _save_path = TransitionMatrixComputations.save_transition_matricies(binned_x_transition_matrix_higher_order_list_dict=binned_x_transition_matrix_higher_order_list_dict, out_context=_save_context, save_path='output/transition_matrix_data.h5')\n",
    "_save_path = TransitionMatrixComputations.save_transition_matricies(binned_x_transition_matrix_higher_order_list_dict=binned_x_transition_matrix_higher_order_mat_dict, out_context=_save_context, save_path='output/transition_matrix_data.h5')\n",
    "print(f'_save_path: {str(_save_path)}')\n"
   ]
  },
  {
   "cell_type": "code",
   "execution_count": null,
   "id": "89835878",
   "metadata": {},
   "outputs": [],
   "source": [
    "# %config_ndarray_preview width=400, height=600\n",
    "\n",
    "T_mat = deepcopy(binned_x_transition_matrix_higher_order_mat_dict['long_LR']) # (200, 57, 57)\n",
    "\n",
    "## Marginalize over all columns to get curr P(x) distribution:\n",
    "# np.sum(T_mat[0, :, :], axis=0)\n",
    "\n",
    "probability_normalized_occupancy = deepcopy(decoders_dict['long_LR'].pf.probability_normalized_occupancy) # BasePositionDecoder\n",
    "\n",
    "\n"
   ]
  },
  {
   "cell_type": "code",
   "execution_count": null,
   "id": "15d6d367",
   "metadata": {},
   "outputs": [],
   "source": [
    "%config_ndarray_preview height=500, width=None\n",
    "\n",
    "from pyphoplacecellanalysis.Analysis.Decoder.transition_matrix import TransitionMatrixComputations\n",
    "\n",
    "## INPUTS: T_mat, probability_normalized_occupancy, \n",
    "# initial_state = 10  # Starting from state 0\n",
    "sequence_length = 10  # Length of each sequence\n",
    "num_sequences = 1000  # Number of sequences to generate\n",
    "# sequences, num_states = TransitionMatrixComputations.sample_sequences(T_mat.copy(), initial_state=10, sequence_length=sequence_length, num_sequences=num_sequences) # (1000, 10)\n",
    "sequences, sequence_likelihoods, num_states = TransitionMatrixComputations.sample_sequences(T_mat.copy(), sequence_length=sequence_length, num_sequences=num_sequences, initial_P_x=probability_normalized_occupancy) # (1000, 10)\n",
    "\n",
    "sequence_frames_occupancy = TransitionMatrixComputations._sequences_index_list_to_matrix_occupancy(sequences=sequences, num_states=num_states)\n",
    "# sequence_frames_occupancy\n",
    "\n",
    "sequence_frames_sparse = TransitionMatrixComputations._sequences_index_list_to_sparse_matrix_stack(sequences=sequences, num_states=num_states)\n",
    "# sequence_frames_sparse\n",
    "\n",
    "\n",
    "## Preview `sequence_frames_sparse`\n",
    "max_num_image_items: int = 5\n",
    "# threshold: float = 1e-3\n",
    "threshold: float = None\n",
    "\n",
    "for i, a_seq_mat in enumerate(sequence_frames_sparse):\n",
    "\tif i < max_num_image_items:\n",
    "\t\timg = a_seq_mat.todense() # .T\n",
    "\t\tif threshold is not None:\n",
    "\t\t\t# Create a masked array, masking values below the threshold\n",
    "\t\t\timg = np.ma.masked_less(img, threshold)\n",
    "\t\tdisplay(img)\n",
    "\t\tdisplay(sequence_likelihoods[i])"
   ]
  },
  {
   "cell_type": "code",
   "execution_count": null,
   "id": "7600d889",
   "metadata": {},
   "outputs": [],
   "source": [
    "## Plot generated sequences cleanly:\n",
    "## INPUT: sequence_length, num_states, sequence_frames_sparse\n",
    "num_sequences = len(sequence_frames_sparse)  # Number of sequences to generate\n",
    "\n",
    "n_t_bins = sequence_length # np.shape(_expected_x)[0]\n",
    "t_bins = np.arange(n_t_bins) # * transition_matrix_t_bin_size\n",
    "xbins = deepcopy(t_bins) ## timestamps it was computed for\n",
    "ybins = deepcopy(decoders_dict[a_decoder_name].xbin_centers) # (57, )\n",
    "arg_dict = dict(xbins=xbins, ybins=ybins, scrollability_mode=LayoutScrollability.NON_SCROLLABLE)\n",
    "\n",
    "out_generated_sequences_viewer: BasicBinnedImageRenderingWindow = BasicBinnedImageRenderingWindow(blended_image, name=f'gen_seq[{a_decoder_name}]', drop_below_threshold=1e-3, window_title= f'TransitionMatrix: Generated Position Sequences', **arg_dict)\n",
    "\n"
   ]
  },
  {
   "cell_type": "code",
   "execution_count": null,
   "id": "810c2f9f",
   "metadata": {},
   "outputs": [],
   "source": [
    "max_num_image_items: int = 25\n",
    "threshold: float = 1e-3\n",
    "\n",
    "out_generated_sequences_viewer = None\n",
    "plot_item = None\n",
    "img_item = None\n",
    "viewbox = None\n",
    "for i, a_seq_mat in enumerate(sequence_frames_sparse):\n",
    "\timg = a_seq_mat.todense().T\n",
    "\tif threshold is not None:\n",
    "\t\t# Create a masked array, masking values below the threshold\n",
    "\t\timg = np.ma.masked_less(img, threshold)\n",
    "\t\t\n",
    "\tif out_generated_sequences_viewer is None:\n",
    "\t\tout_generated_sequences_viewer: BasicBinnedImageRenderingWindow = BasicBinnedImageRenderingWindow(img, name=f'gen_seq[{a_decoder_name}]', drop_below_threshold=1e-3, window_title= f'TransitionMatrix: Generated Position Sequences', **arg_dict)\n",
    "\t\tplot_item = out_generated_sequences_viewer.plots['gen_seq[long_LR]']['mainPlotItem'] #['expected_x[long_LR]']['mainPlotItem']\n",
    "\t\timg_item = out_generated_sequences_viewer.plots['gen_seq[long_LR]']['imageItem']\n",
    "\t\tviewbox = img_item.getViewBox() # win.addViewBox()\n",
    "\t\t# viewbox.setAspectLocked(True)\n",
    "\t\tout_generated_sequences_viewer.plots['gen_seq[long_LR]']['sequenceImageItemsList'] = [] # allocate a new list for the image items\n",
    "\t\tnum_image_items = len(out_generated_sequences_viewer.plots['gen_seq[long_LR]']['sequenceImageItemsList'])\n",
    "\t\t\n",
    "\telse:\n",
    "\t\tassert viewbox is not None\n",
    "\t\tassert plot_item is not None\n",
    "\t\tnum_image_items = len(out_generated_sequences_viewer.plots['gen_seq[long_LR]']['sequenceImageItemsList'])\n",
    "\t\tif num_image_items < max_num_image_items:\n",
    "\t\t\t## add to the viewbox\n",
    "\t\t\timage_item = pg.ImageItem(img)\n",
    "\t\t\t# viewbox.addItem(image_item)\n",
    "\t\t\tplot_item.addItem(image_item)\n",
    "\t\t\t# plot_item.disableAutoRange()\n",
    "\t\t\t# plot_item.setAspectLocked(lock=True, ratio=1)\n",
    "\t\n",
    "\t\t\tout_generated_sequences_viewer.plots['gen_seq[long_LR]']['sequenceImageItemsList'].append(image_item)\n",
    "\n"
   ]
  },
  {
   "cell_type": "code",
   "execution_count": null,
   "id": "c0d98168",
   "metadata": {},
   "outputs": [],
   "source": [
    "from pyphoplacecellanalysis.GUI.PyQtPlot.BinnedImageRenderingWindow import BasicBinnedImageRenderingWindow, BasicBinnedImageRenderingHelpers\n",
    "\n",
    "## Test single:\n",
    "a_decoder_name = 'long_LR'\n",
    "_expected_x = _expected_x_dict[a_decoder_name]\n",
    "\n",
    "## INPUTS: transition_matrix_t_bin_size, _expected_x\n",
    "\n",
    "n_t_bins = np.shape(_expected_x)[0]\n",
    "t_bins = np.arange(n_t_bins) * transition_matrix_t_bin_size\n",
    "xbins = deepcopy(t_bins) ## timestamps it was computed for\n",
    "ybins = deepcopy(decoders_dict[a_decoder_name].xbin_centers) # (57, )\n",
    "arg_dict = dict(xbins=xbins, ybins=ybins, scrollability_mode=LayoutScrollability.NON_SCROLLABLE)\n",
    "out_expected_positions: BasicBinnedImageRenderingWindow = BasicBinnedImageRenderingWindow(_expected_x, name=f'expected_x[{a_decoder_name}]', drop_below_threshold=1e-3, window_title= f'TransitionMatrix: Expected Positions', **arg_dict)\n"
   ]
  },
  {
   "cell_type": "code",
   "execution_count": null,
   "id": "fe7600e9",
   "metadata": {},
   "outputs": [],
   "source": [
    "from pyphoplacecellanalysis.GUI.PyQtPlot.BinnedImageRenderingWindow import BasicBinnedImageRenderingWindow, BasicBinnedImageRenderingHelpers\n",
    "\n",
    "## Test single:\n",
    "a_decoder_name = 'long_LR'\n",
    "_expected_x = _expected_x_dict[a_decoder_name]\n",
    "\n",
    "## INPUTS: transition_matrix_t_bin_size, _expected_x\n",
    "\n",
    "n_t_bins = np.shape(_expected_x)[0]\n",
    "t_bins = np.arange(n_t_bins) * transition_matrix_t_bin_size\n",
    "xbins = deepcopy(t_bins) ## timestamps it was computed for\n",
    "ybins = deepcopy(decoders_dict[a_decoder_name].xbin_centers) # (57, )\n",
    "arg_dict = dict(xbins=xbins, ybins=ybins, scrollability_mode=LayoutScrollability.NON_SCROLLABLE)\n",
    "out_expected_positions: BasicBinnedImageRenderingWindow = BasicBinnedImageRenderingWindow(_expected_x, name=f'expected_x[{a_decoder_name}]', drop_below_threshold=1e-3, window_title= f'TransitionMatrix: Expected Positions', **arg_dict)\n"
   ]
  },
  {
   "cell_type": "code",
   "execution_count": null,
   "id": "1d3b036a",
   "metadata": {},
   "outputs": [],
   "source": [
    "out_expected_positions.plots"
   ]
  },
  {
   "cell_type": "code",
   "execution_count": null,
   "id": "0b14d0aa",
   "metadata": {},
   "outputs": [],
   "source": [
    "plot_item = out_expected_positions.plots['<x>[long_LR]']['mainPlotItem'] #['expected_x[long_LR]']['mainPlotItem']\n",
    "plot_item\n",
    "# plot_item\n",
    "# Hide axes\n",
    "# plot_item.hideAxis('left')\n",
    "# plot_item.hideAxis('bottom')\n",
    "# plot_item.showAxes(True)\n",
    "# show full frame, label tick marks at top and left sides, with some extra space for labels:\n",
    "\n",
    "# plot_item = BasicBinnedImageRenderingHelpers._add_bin_ticks(plot_item=plot_item, xbins=xbins, ybins=ybins, grid_opacity=0.4)\n",
    "# plot_item.showAxes(True, showValues=(True, True, True, True), size=12)\n",
    "\n",
    "# label_style = {'color': '#EEE', 'font-size': '14pt'}\n",
    "# plot_item.setLabel('bottom', \"some x axis label\", **label_style)\n",
    "plot_item.getAxis('left').setHeight(0)\n",
    "plot_item.setLabel('left', \"some y axis label\")\n",
    "# plot_item.getAxis('left').setLabel(**label_style)\n",
    "plot_item.setLabel('bottom', 'Prediction Timestep (t_bin)')"
   ]
  },
  {
   "cell_type": "code",
   "execution_count": null,
   "id": "c2e74a2f",
   "metadata": {},
   "outputs": [],
   "source": [
    "out_expected_positions.plots\n"
   ]
  },
  {
   "cell_type": "code",
   "execution_count": null,
   "id": "ba548edb",
   "metadata": {},
   "outputs": [],
   "source": [
    "left_ax = plot_item.getAxis('left')\n",
    "left_ax"
   ]
  },
  {
   "cell_type": "code",
   "execution_count": null,
   "id": "979e1833",
   "metadata": {},
   "outputs": [],
   "source": [
    "# plot_item.setStyle(dict(autoExpandTextSpace=True, autoReduceTextSpace=True))\n",
    "# Set label with more space on the left axis\n",
    "plot_item.getAxis('left').setLabel(text='Initial Position Bin (x_bin)')\n",
    "\n",
    "# Increase the width of the left axis\n",
    "plot_item.getAxis('left').setWidth(100)"
   ]
  },
  {
   "cell_type": "code",
   "execution_count": null,
   "id": "8cb0754d",
   "metadata": {},
   "outputs": [],
   "source": [
    "plot_item.setLabel('left', \"some y axis label\")\n"
   ]
  },
  {
   "cell_type": "code",
   "execution_count": null,
   "id": "4bedf4a3",
   "metadata": {},
   "outputs": [],
   "source": [
    "# Hide axes\n",
    "# plot_item.showAxis('left')\n",
    "# plot_item.hideAxis('bottom')\n",
    "plot_item.showAxes('left')\n",
    "plot_item.showAxes('bottom')\n"
   ]
  },
  {
   "cell_type": "code",
   "execution_count": null,
   "id": "8c22219a",
   "metadata": {},
   "outputs": [],
   "source": [
    "binned_x_transition_matrix_higher_order_mat_dict\n"
   ]
  },
  {
   "cell_type": "markdown",
   "id": "e2a47034",
   "metadata": {},
   "source": [
    "### 🖼️🎨 TransitionMatrix for fixed markov_order"
   ]
  },
  {
   "cell_type": "code",
   "execution_count": null,
   "id": "4ceb8e4d",
   "metadata": {},
   "outputs": [],
   "source": [
    "from pyphoplacecellanalysis.GUI.PyQtPlot.BinnedImageRenderingWindow import BasicBinnedImageRenderingWidget\n",
    "\n",
    "## INPUTS: binned_x_transition_matrix_higher_order_list_dict, \n",
    "markov_order_idx: int = 5\n",
    "window_title = f'TransitionMatrix: For each decoder (markov order {markov_order_idx+1})'\n",
    "a_spec = [ # two rows: (2 columns, 1 column)\n",
    "\t({'long_LR': binned_x_transition_matrix_higher_order_list_dict['long_LR'][markov_order_idx]}, {'short_LR': binned_x_transition_matrix_higher_order_list_dict['short_LR'][markov_order_idx]},), # single row (2 columns)\n",
    "\t({'long_RL': binned_x_transition_matrix_higher_order_list_dict['long_RL'][markov_order_idx]}, {'short_RL': binned_x_transition_matrix_higher_order_list_dict['short_RL'][markov_order_idx]},), # single row (2 columns)\n",
    "\t# ({'diff':_diff}, )\n",
    "]\n",
    "out_test_markov_test_compare_widget: BasicBinnedImageRenderingWidget = BasicBinnedImageRenderingWidget.init_from_data_spec(a_spec, window_title=window_title)\n",
    "\n",
    "# n_powers: int = 200\n",
    "out_test_markov_test_compare_widget.params.n_powers = n_powers\n",
    "out_test_markov_test_compare_widget.params.curr_markov_order_idx = 11"
   ]
  },
  {
   "cell_type": "code",
   "execution_count": null,
   "id": "2baf317e",
   "metadata": {},
   "outputs": [],
   "source": [
    "# Export BasicBinnedImageRenderingWidget to file:\n",
    "window_title = out_test_markov_test_compare_widget.params.get('window_title', None)\n",
    "graphics_layout = out_test_markov_test_compare_widget.ui.graphics_layout # GraphicsLayoutWidget  \n",
    "final_context = curr_active_pipeline.build_display_context_for_session(display_fn_name='TransitionMatrix_markov_compare', subplot='markov=1')\n",
    "out_fig = curr_active_pipeline.output_figure(final_context, graphics_layout)\n"
   ]
  },
  {
   "cell_type": "markdown",
   "id": "4392b448",
   "metadata": {},
   "source": [
    "#### ⌚🖼️🎨 TransitionMatrix for with slider for markov_order"
   ]
  },
  {
   "cell_type": "code",
   "execution_count": null,
   "id": "b935dd91",
   "metadata": {},
   "outputs": [],
   "source": [
    "from pyphoplacecellanalysis.External.pyqtgraph.dockarea.Dock import Dock, DockDisplayConfig\n",
    "import pyphoplacecellanalysis.External.pyqtgraph as pg\n",
    "from pyphoplacecellanalysis.External.pyqtgraph.Qt import QtCore, QtGui, QtWidgets\n",
    "from pyphoplacecellanalysis.External.pyqtgraph.dockarea.Dock import Dock\n",
    "# from pyphoplacecellanalysis.External.pyqtgraph.dockarea.DockArea import DockArea\n",
    "from pyphoplacecellanalysis.External.pyqtgraph.dockarea.DockDrop import DockDrop\n",
    "from pyphoplacecellanalysis.External.pyqtgraph.dockarea.Dock import DockDisplayConfig\n",
    "from pyphoplacecellanalysis.External.pyqtgraph.dockarea.DockArea import DockArea\n",
    "from pyphoplacecellanalysis.GUI.PyQtPlot.DockingWidgets.DynamicDockDisplayAreaContent import CustomDockDisplayConfig\n",
    "from pyphoplacecellanalysis.GUI.PyQtPlot.Widgets.DockPlanningHelperWidget.DockPlanningHelperWidget import DockPlanningHelperWidget\n",
    "from pyphoplacecellanalysis.GUI.PyQtPlot.Widgets.ContainerBased.DockPlanningHelperWindow import DockPlanningHelperWindow\n",
    "from pyphoplacecellanalysis.GUI.PyQtPlot.BinnedImageRenderingWindow import BasicBinnedImageRenderingWidget, SliderUpdatedBinnedImageRenderingMixin, BasicBinnedImageRenderingMixin, BasicBinnedImageRenderingWindow\n",
    "\n",
    "## INPUTS: binned_x_transition_matrix_higher_order_list_dict, n_powers\n",
    "\n",
    "## Build the main widget:\n",
    "markov_order_idx: int = 0\n",
    "window_title = f'TransitionMatrix: For each decoder (markov order {markov_order_idx+1})'\n",
    "a_spec = [ # two rows: (2 columns, 1 column)\n",
    "\t({'long_LR': binned_x_transition_matrix_higher_order_list_dict['long_LR'][markov_order_idx]}, {'short_LR': binned_x_transition_matrix_higher_order_list_dict['short_LR'][markov_order_idx]},), # single row (2 columns)\n",
    "\t({'long_RL': binned_x_transition_matrix_higher_order_list_dict['long_RL'][markov_order_idx]}, {'short_RL': binned_x_transition_matrix_higher_order_list_dict['short_RL'][markov_order_idx]},), # single row (2 columns)\n",
    "]\n",
    "out_test_markov_order_with_slider_widget: BasicBinnedImageRenderingWidget = BasicBinnedImageRenderingWidget.init_from_data_spec(a_spec, window_title=window_title)\n",
    "out_test_markov_order_with_slider_widget._init_SliderUpdatedBinnedImageRenderingMixin(binned_x_transition_matrix_higher_order_list_dict=deepcopy(binned_x_transition_matrix_higher_order_list_dict), n_powers=n_powers)\n"
   ]
  },
  {
   "cell_type": "markdown",
   "id": "cb158b35",
   "metadata": {},
   "source": [
    "### ✅🖼️🎨 Expected Position <x> predictions for each decoder"
   ]
  },
  {
   "cell_type": "code",
   "execution_count": null,
   "id": "1d9eb81d",
   "metadata": {},
   "outputs": [],
   "source": [
    "from pyphocorehelpers.DataStructure.dynamic_parameters import DynamicParameters\n",
    "from pyphocorehelpers.DataStructure.general_parameter_containers import VisualizationParameters\n",
    "from pyphoplacecellanalysis.GUI.PyQtPlot.BinnedImageRenderingWindow import BasicBinnedImageRenderingWindow, BasicBinnedImageRenderingWidget\n",
    "\n",
    "## INPUTS: _expected_x_dict, \n",
    "window_title = f'TransitionMatrix: Expected Positions <x> for each decoder'\n",
    "a_spec = []\n",
    "\n",
    "## INPUTS: transition_matrix_t_bin_size\n",
    "a_decoder_name = 'long_LR'\n",
    "_expected_x = _expected_x_dict[a_decoder_name]\n",
    "n_t_bins = np.shape(_expected_x)[0]\n",
    "t_bins = np.arange(n_t_bins) * transition_matrix_t_bin_size\n",
    "xbins = deepcopy(t_bins) ## timestamps it was computed for\n",
    "ybins = deepcopy(decoders_dict[a_decoder_name].xbin_centers) # (57, )\n",
    "_common_kwarg_dict = dict(drop_below_threshold=1e-3) # xbins=xbins, ybins=ybins, scrollability_mode=LayoutScrollability.NON_SCROLLABLE\n",
    "\n",
    "for a_decoder_name, _expected_x in _expected_x_dict.items():\n",
    "\t# _expected_x  # (57, 200)\n",
    "\tn_t_bins = np.shape(_expected_x)[0]\n",
    "\tt_bins = np.arange(n_t_bins) * transition_matrix_t_bin_size\n",
    "\txbins = deepcopy(t_bins) ## timestamps it was computed for\n",
    "\tybins = deepcopy(decoders_dict[a_decoder_name].xbin_centers) # (57, )\n",
    "\t_curr_common_kwarg_dict = dict(xbins=xbins, ybins=ybins) # , scrollability_mode=LayoutScrollability.NON_SCROLLABLE\n",
    "\n",
    "\ta_spec.append(\n",
    "\t\t({f'E[x][{a_decoder_name}]':_expected_x, **_curr_common_kwarg_dict},) # Singe\n",
    "\t)\n",
    "\n",
    "out_expected_positions: BasicBinnedImageRenderingWindow = BasicBinnedImageRenderingWindow.init_from_data_spec(a_spec, window_title=window_title, color_bar_mode='each', **_common_kwarg_dict)\n",
    "\n",
    "## Change units to realworld seconds\n",
    "## Show labels\n",
    "for a_plot_name, plot_container in out_expected_positions.plots.data_items():\n",
    "\tprint(a_plot_name, plot_container)\n",
    "\tplot_item = plot_container['mainPlotItem']\n",
    "\tplot_item.setLabel('bottom', 'Prediction Timestep (t_bin)')\n",
    "\tplot_item.setLabel('left', 'Initial Position Bin (x_bin)')\n",
    "\t# Increase the width of the left axis\n",
    "\tplot_item.getAxis('left').setWidth(35)\n"
   ]
  },
  {
   "cell_type": "code",
   "execution_count": null,
   "id": "5d646ce0",
   "metadata": {},
   "outputs": [],
   "source": [
    "# Export BasicBinnedImageRenderingWidget to file:\n",
    "window_title = out_expected_positions.params.get('window_title', None)\n",
    "graphics_layout = out_expected_positions.ui.graphics_layout # GraphicsLayoutWidget  \n",
    "final_context = curr_active_pipeline.build_display_context_for_session(display_fn_name='TransitionMatrix_ExpectedPos_forEachDecoder') # , subplot='markov=1'\n",
    "out_fig = curr_active_pipeline.output_figure(final_context, graphics_layout)\n"
   ]
  },
  {
   "cell_type": "markdown",
   "id": "435060d3",
   "metadata": {},
   "source": [
    "### 2024-08-06 - Expected Velocity and Laplacian"
   ]
  },
  {
   "cell_type": "code",
   "execution_count": null,
   "id": "db1b8b8c",
   "metadata": {},
   "outputs": [],
   "source": [
    "# Laplacian of network\n",
    "A = binned_x_transition_matrix_higher_order_list_dict['long_LR'][0]\n",
    "J = np.copy(A)      # This already sets the non-diagonal elements\n",
    "for i in range(np.shape(A)[0]):\n",
    "\tJ[i,i] = - np.sum(A[:,i]) - A[i,i]\n",
    "\t\n",
    "J"
   ]
  },
  {
   "cell_type": "code",
   "execution_count": null,
   "id": "9bd74956",
   "metadata": {},
   "outputs": [],
   "source": [
    "%%ndarray_preview width=80\n",
    "# %config_ndarray_preview height=200\n",
    "# %config_ndarray_preview width=80\n",
    "\n",
    "\n",
    "# INPUTS: binned_x_transition_matrix_higher_order_list_dict, makov_assumed_binned_x_transition_matrix_higher_order_list_dict, expected_velocity_list_dict, transition_matrix_t_bin_size\n",
    "\n",
    "markov_order_idx: int = 0\n",
    "\n",
    "# V = expected_velocity_list_dict['long_LR'][0].in_combined\n",
    "# V = np.stack([v.in_combined for v in expected_velocity_list_dict['long_LR']])\n",
    "\n",
    "for a_decoder_name, a_velocity_tuple_list in expected_velocity_list_dict.items():\n",
    "\tV = np.stack([v.in_combined for v in a_velocity_tuple_list]) # Stack over orders. This doesn't make much sense actually\n",
    "\t# V\n",
    "\tdisplay(np.atleast_2d(V[markov_order_idx]).T)\n",
    "\t\n",
    "\t"
   ]
  },
  {
   "cell_type": "code",
   "execution_count": null,
   "id": "67c11d2e",
   "metadata": {},
   "outputs": [],
   "source": [
    "from pyphoplacecellanalysis.GUI.PyQtPlot.BinnedImageRenderingWindow import BasicBinnedImageRenderingWindow\n",
    "\n",
    "window_title = 'TransitionMatrix: Expected Velocities from Transition Matrix'\n",
    "a_spec = []\n",
    "\n",
    "for a_decoder_name, a_velocity_tuple_list in expected_velocity_list_dict.items():\n",
    "\tV = np.stack([v.out_fwd for v in a_velocity_tuple_list]) # Stack over orders. This doesn't make much sense actually\n",
    "\t# a_spec.append(({'position':predicited_posteriors}, {f'velocities[{a_decoder_name}]':V})\n",
    "\t# display(a_velocity_tuple_list[0].out_fwd)\n",
    "\t# _disp_mat = np.atleast_2d(a_velocity_tuple_list[0].out_fwd)\n",
    "\t\n",
    "\t_disp_mat = np.stack([a_velocity_tuple_list[0].out_fwd, a_velocity_tuple_list[0].out_bkwd, a_velocity_tuple_list[0].out_combined]) # (3, 57)\n",
    "\t_disp_mat = np.atleast_2d(_disp_mat)\n",
    "\t# display(_disp_mat)\n",
    "\t\n",
    "\t# n_xbins, n_ybins = np.shape(_disp_mat)\n",
    "\t# xbins = deepcopy(xbin_centers)\n",
    "\t# ybins = np.arange(n_ybins)\n",
    "\t\n",
    "\ta_spec.append(\n",
    "\t\t# ({f'velocities[{a_decoder_name}]':V},) # Stack over orders. This doesn't make much sense actually\n",
    "\t\t({f'velocities[{a_decoder_name}]':_disp_mat.T},) # Singe\n",
    "\t\t\n",
    "\t\t# ({f'velocities[{a_decoder_name}]':_disp_mat.T},)\n",
    "\n",
    "\t)\n",
    "\t\n",
    "\t\n",
    "test_pos_bins = deepcopy(xbin_centers)\n",
    "out_test_markov_test_compare = BasicBinnedImageRenderingWindow.init_from_data_spec(a_spec, window_title=window_title, xbins=test_pos_bins) # , xbins=test_pos_bins, ybins=test_pos_bins"
   ]
  },
  {
   "cell_type": "code",
   "execution_count": null,
   "id": "44eb9d5c",
   "metadata": {},
   "outputs": [],
   "source": [
    "from scipy.sparse.csgraph import laplacian\n",
    "\n",
    "# Compute the Laplacian matrix\n",
    "L = laplacian(A, normed=True)\n",
    "A\n",
    "L"
   ]
  },
  {
   "cell_type": "markdown",
   "id": "cb24a4fd",
   "metadata": {},
   "source": [
    "### 🎯 #TODO 2024-08-07 11:14: - [ ] Test transition matricies on laps themselves"
   ]
  },
  {
   "cell_type": "code",
   "execution_count": null,
   "id": "f4b77937",
   "metadata": {},
   "outputs": [],
   "source": [
    "# Inputs: all_directional_pf1D_Decoder, alt_directional_merged_decoders_result\n",
    "from neuropy.utils.mixins.binning_helpers import BinningInfo, BinningContainer\n",
    "from pyphoplacecellanalysis.Analysis.Decoder.reconstruction import DecodedFilterEpochsResult\n",
    "from pyphoplacecellanalysis.General.Pipeline.Stages.ComputationFunctions.MultiContextComputationFunctions.DirectionalPlacefieldGlobalComputationFunctions import TrainTestSplitResult, _do_custom_decode_epochs_dict, TrainTestLapsSplitting, CustomDecodeEpochsResult, decoder_name, epoch_split_key, get_proper_global_spikes_df\n",
    "\n",
    "## INPUTS: transition_matrix_t_bin_size, directional_laps_results, track_templates, directional_laps_results\n",
    "print(f'transition_matrix_t_bin_size: {transition_matrix_t_bin_size}')\n"
   ]
  },
  {
   "cell_type": "markdown",
   "id": "677ebcf7",
   "metadata": {},
   "source": [
    "### Option A) Laps data - not perfectly statistically sound because transition matricies are built from this data. "
   ]
  },
  {
   "cell_type": "code",
   "execution_count": null,
   "id": "77caf3c0",
   "metadata": {},
   "outputs": [],
   "source": [
    "from neuropy.core.epoch import Epoch, ensure_dataframe\n",
    "from pyphoplacecellanalysis.General.Pipeline.Stages.ComputationFunctions.MultiContextComputationFunctions.DirectionalPlacefieldGlobalComputationFunctions import add_laps_groundtruth_information_to_dataframe\n",
    "\n",
    "## INPUTS: decoder_laps_filter_epochs_decoder_result_dict\n",
    "## UPDATES: decoder_laps_filter_epochs_decoder_result_dict\n",
    "# decoder_laps_filter_epochs_decoder_result_dict['long_LR'].filter_epochs # looks like 'lap_dir' column is wrong\n",
    "updated_laps_dfs_dict = {}\n",
    "\n",
    "## Update the .filter_epochs:\n",
    "for k, v in decoder_laps_filter_epochs_decoder_result_dict.items():\n",
    "\tupdated_laps_dfs_dict[k] = Epoch(add_laps_groundtruth_information_to_dataframe(curr_active_pipeline=curr_active_pipeline, result_laps_epochs_df=ensure_dataframe(v.filter_epochs)))\n",
    "\tdecoder_laps_filter_epochs_decoder_result_dict[k].filter_epochs =  updated_laps_dfs_dict[k]\n",
    "\n",
    "# updated_laps_dfs_dict['long_LR']\n",
    "# decoder_laps_filter_epochs_decoder_result_dict['long_LR'].filter_epochs\n",
    "# decoder_laps_filter_epochs_decoder_result_dict: Dict[decoder_name, DecodedFilterEpochsResult]\n",
    "## OUTPUTS: decoder_laps_filter_epochs_decoder_result_dict, updated_laps_dfs_dict\n",
    "# OUTPUTS: active_decoded_results\n",
    "active_decoded_results = deepcopy(decoder_laps_filter_epochs_decoder_result_dict)"
   ]
  },
  {
   "cell_type": "markdown",
   "id": "25f31210",
   "metadata": {},
   "source": [
    "### Option B) TrainTestSplit data - doesn't look great"
   ]
  },
  {
   "cell_type": "code",
   "execution_count": null,
   "id": "88fad64c",
   "metadata": {},
   "outputs": [],
   "source": [
    "directional_train_test_split_result: TrainTestSplitResult = curr_active_pipeline.global_computation_results.computed_data.get('TrainTestSplit', None)\n",
    "if directional_train_test_split_result is None:\n",
    "\t## recompute\n",
    "\tcurr_active_pipeline.perform_specific_computation(computation_functions_name_includelist=['directional_train_test_split'], enabled_filter_names=None, fail_on_exception=True, debug_print=False)\n",
    "\tdirectional_train_test_split_result: TrainTestSplitResult = curr_active_pipeline.global_computation_results.computed_data['TrainTestSplit']\n",
    "\tassert directional_train_test_split_result is not None, f\"faiiled even after recomputation\"\n",
    "\n",
    "training_data_portion: float = directional_train_test_split_result.training_data_portion\n",
    "test_data_portion: float = directional_train_test_split_result.test_data_portion\n",
    "print(f'training_data_portion: {training_data_portion}, test_data_portion: {test_data_portion}')\n",
    "\n",
    "test_epochs_dict: Dict[str, pd.DataFrame] = directional_train_test_split_result.test_epochs_dict\n",
    "train_epochs_dict: Dict[str, pd.DataFrame] = directional_train_test_split_result.train_epochs_dict\n",
    "train_lap_specific_pf1D_Decoder_dict: Dict[str, BasePositionDecoder] = directional_train_test_split_result.train_lap_specific_pf1D_Decoder_dict\n",
    "\n",
    "active_laps_decoding_time_bin_size: float = transition_matrix_t_bin_size\n",
    "global_spikes_df: pd.DataFrame = get_proper_global_spikes_df(curr_active_pipeline)\n",
    "global_measured_position_df: pd.DataFrame = deepcopy(curr_active_pipeline.sess.position.to_dataframe()).dropna(subset=['lap']) # computation_result.sess.position.to_dataframe()\n",
    "\n",
    "## INPUTS: flat_epochs_to_decode_dict, active_laps_decoding_time_bin_size\n",
    "## Decoding of the test epochs (what matters):\n",
    "test_decoder_results_dict: Dict[decoder_name, CustomDecodeEpochsResult] = _do_custom_decode_epochs_dict(global_spikes_df=global_spikes_df, global_measured_position_df=global_measured_position_df, pf1D_Decoder_dict=train_lap_specific_pf1D_Decoder_dict, epochs_to_decode_dict=test_epochs_dict, decoding_time_bin_size=active_laps_decoding_time_bin_size, decoder_and_epoch_keys_independent=False)\n",
    "## INPUTS: test_decoder_results_dict\n",
    "train_decoded_results_dict: Dict[str, DecodedFilterEpochsResult] = {k:v.decoder_result for k, v in test_decoder_results_dict.items()}\n",
    "# a_decoded_measured_diff_df: pd.DataFrame = test_decoder_results_dict['long_LR'].measured_decoded_position_comparion.decoded_measured_diff_df\n",
    "train_decoded_measured_diff_df_dict: Dict[str, pd.DataFrame] = {k:v.measured_decoded_position_comparion.decoded_measured_diff_df for k, v in test_decoder_results_dict.items()}\n",
    "\n",
    "# OUTPUTS: test_epochs_dict, train_epochs_dict, train_lap_specific_pf1D_Decoder_dict, test_decoder_results_dict, global_measured_position_df, train_decoded_results_dict, train_decoded_measured_diff_df_dict\n",
    "train_decoded_results_dict\n",
    "\n",
    "# time_bin_edges, epoch_description_list\n",
    "\n",
    "# OUTPUTS: active_decoded_results\n",
    "active_decoded_results = deepcopy(train_decoded_results_dict)"
   ]
  },
  {
   "cell_type": "markdown",
   "id": "57068d12",
   "metadata": {},
   "source": [
    "### Compute `agreement_with_observation`"
   ]
  },
  {
   "cell_type": "code",
   "execution_count": null,
   "id": "34778a20",
   "metadata": {},
   "outputs": [],
   "source": [
    "%config_ndarray_preview width=400, height=600\n",
    "from pyphoplacecellanalysis.Analysis.Decoder.reconstruction import DecodedFilterEpochsResult\n",
    "# INPUTS: active_decoded_results, binned_x_transition_matrix_higher_order_list_dict, makov_assumed_binned_x_transition_matrix_higher_order_list_dict, expected_velocity_list_dict, transition_matrix_t_bin_size\n",
    "\n",
    "# SINGLE DECODER: ____________________________________________________________________________________________________ #\n",
    "# single decoder for now\n",
    "a_decoder_name = 'long_LR'\n",
    "# a_decoder_name = 'long_RL'\n",
    "a_binned_x_transition_matrix_higher_order_list: List[NDArray] = deepcopy(binned_x_transition_matrix_higher_order_list_dict[a_decoder_name])\n",
    "# single-decoder\n",
    "\n",
    "# an_epoch_idx: int = 2 #2 ## SINGLE EPOCH\n",
    "an_epoch_idx: int = 3 #2 ## SINGLE EPOCH\n",
    "# markov_order_idx: int = 1 ## SINGLE MARKOV ORDER\n",
    "\n",
    "# V = expected_velocity_list_dict['long_LR'][0].in_combined\n",
    "# V = np.stack([v.in_combined for v in expected_velocity_list_dict['long_LR']])\n",
    "\n",
    "predicited_posteriors_list_dict = {}\n",
    "predicited_posteriors_agreement_with_observation_list_dict = {}\n",
    "\n",
    "# for a_decoder_name, a_binned_x_transition_matrix_higher_order_list in binned_x_transition_matrix_higher_order_list_dict.items():\n",
    "# decoder_laps_filter_epochs_decoder_result_dict[a_decoder_name]\n",
    "\n",
    "a_decoded_results: DecodedFilterEpochsResult = active_decoded_results[a_decoder_name]\n",
    "# a_train_decoded_results.\n",
    "# V = np.stack([v.in_combined for v in a_velocity_tuple_list]) # Stack over orders. This doesn't make much sense actually\n",
    "# # V\n",
    "# display(np.atleast_2d(V[markov_order_idx]).T)\n",
    "\n",
    "# a_decoded_results.validate_time_bins()\n",
    "\n",
    "# an_epoch_idx: int # ## SINGLE EPOCH\n",
    "test_posterior = deepcopy(a_decoded_results.p_x_given_n_list[an_epoch_idx])\n",
    "print(f'np.shape(test_posterior): {np.shape(test_posterior)}')\n",
    "test_posterior\n",
    "\n",
    "# ## Traditional\n",
    "# predicited_posteriors: NDArray = TransitionMatrixComputations._perform_forward_prediction(a_binned_x_transition_matrix_higher_order_list, test_posterior=test_posterior, transition_matrix_order_growth_factor=3.0) # (n_pos_bins, (n_time_bins - 1))\n",
    "\n",
    "# growth_order_factors = np.linspace(start=1.0, stop=3.0, num=5)\n",
    "# several_predicited_posteriors: NDArray = [TransitionMatrixComputations._perform_forward_prediction(a_binned_x_transition_matrix_higher_order_list, test_posterior=test_posterior, transition_matrix_order_growth_factor=G) for G in growth_order_factors] # (n_pos_bins, (n_time_bins - 1))\n",
    "\n",
    "# agreement_with_observation = [TransitionMatrixComputations._likelihood_of_observation(test_posterior[:, (a_predicted_timestamp_index + 1)], a_predicted_posterior) for a_predicted_timestamp_index, a_predicted_posterior in enumerate(predicited_posteriors.T)]\n",
    "# agreement_with_observation = np.array(agreement_with_observation)\n",
    "\n",
    "test_posterior_most_likely_index_sequence: NDArray = np.nanargmax(test_posterior, axis=0) # (226,), (n_epoch_bins)\n",
    "\n",
    "sequence_likelihood, sequence_bin_maximal_likelihood, num_states, sequence_length = TransitionMatrixComputations.compute_arbitrary_sequence_likelihood(T_mat.copy(), initial_P_x=probability_normalized_occupancy, test_posterior_most_likely_index_sequence=test_posterior_most_likely_index_sequence)\n",
    "# sequence_likelihood\n"
   ]
  },
  {
   "cell_type": "code",
   "execution_count": null,
   "id": "a30c4c4e",
   "metadata": {},
   "outputs": [],
   "source": [
    "sequence_likelihood"
   ]
  },
  {
   "cell_type": "code",
   "execution_count": null,
   "id": "4093a827",
   "metadata": {},
   "outputs": [],
   "source": [
    "\n",
    "likelihood_per_t_bin: float = np.nansum(sequence_likelihood) / float(sequence_length)\n",
    "likelihood_per_t_bin\n",
    "np.shape(likelihood_per_t_bin)"
   ]
  },
  {
   "cell_type": "code",
   "execution_count": null,
   "id": "7750c137",
   "metadata": {},
   "outputs": [],
   "source": [
    "relative_likelihood_per_t_bin = sequence_likelihood/sequence_bin_maximal_likelihood\n",
    "relative_likelihood_per_t_bin"
   ]
  },
  {
   "cell_type": "code",
   "execution_count": null,
   "id": "cad8371f",
   "metadata": {},
   "outputs": [],
   "source": [
    "plt.get_plot_commands()\n"
   ]
  },
  {
   "cell_type": "code",
   "execution_count": null,
   "id": "ab69b6ed",
   "metadata": {},
   "outputs": [],
   "source": [
    "import matplotlib.pyplot as plt\n",
    "import numpy as np\n",
    "\n",
    "def plot_posterior_with_likelihood(test_posterior, sequence_likelihood):\n",
    "    \"\"\"\n",
    "    Plots a heatmap of the test_posterior with likelihood_per_t_bin values overlaid as points.\n",
    "\n",
    "    Parameters:\n",
    "    - test_posterior (numpy.ndarray): A 2D array of shape (57, 257) representing posterior probabilities.\n",
    "    - likelihood_per_t_bin (numpy.ndarray): A 1D array of shape (257,) representing likelihood values per time bin.\n",
    "\n",
    "    \"\"\"\n",
    "    # Validate the input shapes\n",
    "    if test_posterior.shape != (57, 257):\n",
    "        raise ValueError(\"test_posterior must be of shape (57, 257)\")\n",
    "    \n",
    "    if sequence_likelihood.shape != (257,):\n",
    "        raise ValueError(\"likelihood_per_t_bin must be of shape (257,)\")\n",
    "\n",
    "    # Create the heatmap\n",
    "    # plt.imshow(test_posterior, cmap='viridis', origin='lower', aspect='auto', interpolation='nearest')\n",
    "    \n",
    "    # Create the figure and the first axis\n",
    "    fig, ax1 = plt.subplots()\n",
    "\n",
    "    # Plot the heatmap on the first y-axis\n",
    "    cax = ax1.imshow(test_posterior, cmap='viridis', origin='lower', aspect='auto', interpolation='nearest')\n",
    "    \n",
    "    # Add colorbar\n",
    "    fig.colorbar(cax, ax=ax1, label='Posterior Probability')\n",
    "    \n",
    "\n",
    "    # Overlay the likelihood values\n",
    "    time_bins = np.arange(len(sequence_likelihood))  # X-coordinates are time bins\n",
    "    max_likelihood_indices = np.argmax(test_posterior, axis=0)  # Y-coordinates are max likelihood indices in each time bin\n",
    "    ax1.scatter(time_bins, max_likelihood_indices, color='grey', marker='o', alpha=0.4, label='Posterior Max Likelihood Points')\n",
    "\n",
    "    # plt.plot(time_bins, sequence_likelihood, color='red', marker='o', label='Sequence Likelihood', facecolor='#ff000064', edgecolor='#ff000078', size=6, marker='diamond')\n",
    "    \n",
    "    # Configure the first axis\n",
    "    ax1.set_xlabel('Time Bins')\n",
    "    ax1.set_ylabel('Posterior Indices')\n",
    "    ax1.set_title('Posterior Heatmap with Sequence Likelihood')\n",
    "    \n",
    "\n",
    "    # Create the second y-axis\n",
    "    ax2 = ax1.twinx()\n",
    "    ax2.set_ylim(0.0, 1.0)\n",
    "    ax2.set_ylabel('Sequence Likelihood')\n",
    "\n",
    "    # Overlay the sequence likelihood on the second y-axis\n",
    "    time_bins = np.arange(len(sequence_likelihood))\n",
    "    \n",
    "    ax2.plot(\n",
    "        time_bins, sequence_likelihood, \n",
    "        color='#ff000096', marker='D', \n",
    "        where='mid', linestyle=':', # dotted, steps\n",
    "        label='Sequence Likelihood', \n",
    "        markerfacecolor='#ff000064', \n",
    "        markeredgecolor='#ff000078', \n",
    "        markersize=3\n",
    "    )\n",
    "    \n",
    "\n",
    "    # # Add labels and title\n",
    "    # plt.title('Posterior Heatmap with Likelihood Points')\n",
    "    # plt.xlabel('Time Bins')\n",
    "    # plt.ylabel('Posterior Indices')\n",
    "\n",
    "    # Add legends for the secondary axis\n",
    "    ax2.legend(loc='upper right')\n",
    "\n",
    "    # # Display legend\n",
    "    # plt.legend()\n",
    "\n",
    "    # Display the plot\n",
    "    plt.show()\n",
    "\n",
    "# Example usage (assuming test_posterior and likelihood_per_t_bin are already defined)\n",
    "plot_posterior_with_likelihood(test_posterior, sequence_likelihood)\n",
    "\n"
   ]
  },
  {
   "cell_type": "code",
   "execution_count": null,
   "id": "dd797f2f",
   "metadata": {},
   "outputs": [],
   "source": [
    "\n",
    "# ==================================================================================================================== #\n",
    "# Expanding `_perform_forward_prediction` because it seems to be returning almost entirely the same things:            #\n",
    "# ==================================================================================================================== #\n",
    "\n",
    "debug_print = False\n",
    "transition_matrix_order_start_idx = 1\n",
    "transition_matrix_order_growth_factor = 1.0\n",
    "\n",
    "## INPUTS: a_binned_x_transition_matrix_higher_order_list, test_posterior, transition_matrix_order_start_idx, transition_matrix_order_growth_factor\n",
    "n_time_bins: int = np.shape(test_posterior)[1]\n",
    "n_predicted_time_bins: int = n_time_bins - 1\n",
    "if debug_print:\n",
    "\tprint(f'np.shape(test_posterior): {np.shape(test_posterior)}, n_time_bins: {n_time_bins}, n_predicted_time_bins: {n_predicted_time_bins}')\n",
    "\n",
    "# # Only use the first posterior\n",
    "# an_observed_posterior = np.atleast_2d(test_posterior[:, 0]).T # (n_x, 1)\n",
    "# n_predicted_time_bins: int = 5 # arrbitrary number of time bins to predict in the future\n",
    "\n",
    "specific_observation_t_bin_indicies = np.arange(n_time_bins-1) # all time bins except the last\n",
    "all_t_bins_predicited_corresponding_t_bins = []\n",
    "all_t_bins_predicited_posteriors = []\n",
    "all_t_bins_agreement_with_observation = []\n",
    "\n",
    "should_empty_fill_outputs = True # if `should_empty_fill_outputs == True`, all outputs will be the same size with np.nan values filling the \"missing\" entries.\n",
    "\n",
    "for a_specific_t_bin_idx in specific_observation_t_bin_indicies:\n",
    "\t# # Only use a specific posterior\n",
    "\tan_observed_posterior = np.atleast_2d(test_posterior[:, a_specific_t_bin_idx]).T # (n_x, 1)\n",
    "\tn_predicted_time_bins: int = ((n_time_bins-a_specific_t_bin_idx) - 1) # number of time bins to predict computed by how many remain in the current epoch after the specific_t_bin_idx (in the future)\n",
    "\n",
    "\t# \"\"\" Takes a single observation time bin and returns its best prediction for all future bins\n",
    "\n",
    "\t# \"\"\"\n",
    "\t## INPUTS: n_predicted_time_bins, an_observed_posterior\n",
    "\tan_observed_posterior = np.atleast_2d(an_observed_posterior) # (n_x, 1)\n",
    "\tif np.shape(an_observed_posterior)[-1] != 1:\n",
    "\t\t# last dimension should be 1 (n_x, 1), transpose it\n",
    "\t\tan_observed_posterior = an_observed_posterior.T\n",
    "\t\t\n",
    "\tn_xbins: int = np.shape(an_observed_posterior)[0]\n",
    "\tif debug_print:\n",
    "\t\tprint(f'Single observation at a_specific_t_bin_idx = {a_specific_t_bin_idx}:\\n\\tnp.shape(an_observed_posterior): {np.shape(an_observed_posterior)}, n_predicted_time_bins: {n_predicted_time_bins}')\n",
    "\n",
    "\tpredicited_posteriors = []\n",
    "\t# for a_tbin_idx in np.arange(start=1, stop=n_time_bins):\n",
    "\tfor i in np.arange(n_predicted_time_bins):\n",
    "\t\ta_start_rel_tbin_idx = i + 1 # a_start_rel_tbin_idx: relative to the current observation start t_bin (a_start_rel_tbin_idx == 0 at the observation time)\n",
    "\t\t\n",
    "\t\t# an_observed_posterior = np.atleast_2d(test_posterior[:, i]).T # (n_x, 1)\n",
    "\t\t# an_actual_observed_next_step_posterior = np.atleast_2d(test_posterior[:, a_tbin_idx]).T # (n_x, 1)\n",
    "\n",
    "\t\tif transition_matrix_order_growth_factor is not None:\n",
    "\t\t\ttransition_matrix_order_idx: int = transition_matrix_order_start_idx + int(round(transition_matrix_order_growth_factor * a_start_rel_tbin_idx))\n",
    "\t\telse:\n",
    "\t\t\t## NOTE: transition_matrix_order does seem to do the identity transformation\n",
    "\t\t\ttransition_matrix_order_idx: int = transition_matrix_order_start_idx + a_start_rel_tbin_idx\n",
    "\t\t\t# transition_matrix_order: int = transition_matrix_order_idx + 1 ## order is index + 1\n",
    "\t\t\t\n",
    "\t\tif debug_print:\n",
    "\t\t\tprint(f'\\t{i = }, {a_start_rel_tbin_idx = }, {transition_matrix_order_idx = }')\n",
    "\t\t\t\n",
    "\t\t## single time-bin\n",
    "\t\ta_trans_prob_mat = a_binned_x_transition_matrix_higher_order_list[transition_matrix_order_idx] # (n_x, n_x)\n",
    "\t\ta_next_t_predicted_pos_probs = a_trans_prob_mat @ an_observed_posterior # (n_x, 1)\n",
    "\n",
    "\t\tpredicited_posteriors.append(a_next_t_predicted_pos_probs)\n",
    "\n",
    "\tpredicited_posteriors = np.hstack(predicited_posteriors) # (n_x, n_predicted_time_bins)\n",
    "\t# ## OUTPUTS: predicited_posteriors\n",
    "\t# predicited_posteriors_list_dict[a_decoder_name] = predicited_posteriors\n",
    "\n",
    "\t## Compute the agreement of this time bin with observation:\n",
    "\tagreement_with_observation = []\n",
    "\tfor a_predicted_timestamp_index, a_predicted_posterior in enumerate(predicited_posteriors.T):\n",
    "\t\ta_predicted_timestamp = a_predicted_timestamp_index + 1\n",
    "\t\t# a_predicted_posterior = np.atleast_2d(a_predicted_posterior).T\n",
    "\t\tan_observed_posterior_single_t_bin = test_posterior[:, a_predicted_timestamp]\n",
    "\t\tif debug_print:\n",
    "\t\t\tprint(f'\\t {a_predicted_timestamp} - np.shape(an_observed_posterior_single_t_bin): {np.shape(an_observed_posterior_single_t_bin)}, np.shape(a_predicted_posterior): {np.shape(a_predicted_posterior)}')\n",
    "\t\tagreement_with_observation.append(TransitionMatrixComputations._likelihood_of_observation(an_observed_posterior_single_t_bin, a_predicted_posterior))\n",
    "\tagreement_with_observation = np.array(agreement_with_observation)\n",
    "\tif debug_print:\n",
    "\t\tprint(agreement_with_observation)\n",
    "\n",
    "\t## Build outputs:\n",
    "\tif should_empty_fill_outputs:\n",
    "\t\tn_fill_bins: int = a_specific_t_bin_idx+1\n",
    "\t\tpre_prediction_start_timebins = np.arange(n_fill_bins) # observation is at index `a_specific_t_bin_idx`, so to get the full range before the first prediction (inclusive) we need to do +1\n",
    "\t\tfill_arr = np.full((n_xbins, n_fill_bins), fill_value=np.nan)\n",
    "\t\tall_t_bins_predicited_corresponding_t_bins.append(np.arange(n_predicted_time_bins + n_fill_bins))\n",
    "\t\tpredicited_posteriors = np.concatenate((fill_arr, predicited_posteriors), axis=-1)\n",
    "\t\tagreement_with_observation = np.concatenate((np.full((n_fill_bins,), fill_value=np.nan), agreement_with_observation))\n",
    "\t\tif debug_print:\n",
    "\t\t\tprint(f'\\tnp.shape(agreement_with_observation): {np.shape(agreement_with_observation)}')\n",
    "\telse:\n",
    "\t\tall_t_bins_predicited_corresponding_t_bins.append((np.arange(n_predicted_time_bins)+a_specific_t_bin_idx))\n",
    "\tif debug_print:    \n",
    "\t\tprint(f'\\tnp.shape(predicited_posteriors): {np.shape(predicited_posteriors)}')\n",
    "\tall_t_bins_predicited_posteriors.append(predicited_posteriors)\n",
    "\t\n",
    "\t## OUTPUTS: agreement_with_observation\n",
    "\tall_t_bins_agreement_with_observation.append(agreement_with_observation)\n",
    "\t\n",
    "\n",
    "\t# Aggregate over all predictors we have for the next timestep\n",
    "\t\n",
    "\n",
    "\t# END Expanding `_perform_forward_prediction` ________________________________________________________________________________________________________________ #\n",
    "\n",
    "\n",
    "\t## only for this epoch:\n",
    "\t# predicited_posteriors_agreement_with_observation_list_dict[a_decoder_name] = agreement_with_observation\n",
    "\n",
    "\t# agreement_with_observation\n",
    "\n",
    "\t# # # Compare real:\n",
    "\t# ## Observed posteriors:\n",
    "\t# observed_posteriors = deepcopy(test_posterior[:, 1:])\n",
    "\n",
    "\t# assert np.shape(observed_posteriors) == np.shape(predicited_posteriors)\n",
    "\t# _prediction_observation_diff = observed_posteriors - predicited_posteriors\n",
    "\t# _prediction_observation_diff\n",
    "\n",
    "\n",
    "## Construct into 3D arrays for visualization in Napari and future operations\n",
    "## INPUTS: all_t_bins_predicited_corresponding_t_bins, all_t_bins_predicited_posteriors, all_t_bins_agreement_with_observation\n",
    "all_t_bins_predicited_posteriors: NDArray = np.stack(all_t_bins_predicited_posteriors) # (n_predicted_t_bins, n_x_bins, n_t_bins), single posterior (n_x_bins, n_t_bins)\n",
    "all_t_bins_agreement_with_observation: NDArray = np.stack(all_t_bins_agreement_with_observation) # (n_predicted_t_bins, n_t_bins)\n",
    "all_t_bins_predicited_corresponding_t_bins: NDArray = np.stack(all_t_bins_predicited_corresponding_t_bins) # (n_predicted_t_bins, n_t_bins)\n",
    "\n",
    "## OUTPUTS: all_t_bins_predicited_posteriors, all_t_bins_agreement_with_observation, all_t_bins_predicited_corresponding_t_bins\n",
    "# all_t_bins_predicited_posteriors.shape: (30, 57, 31) (n_t_prediction_bins, n_x_bins, n_t_bins)\n",
    "# test_posterior.shape: (57, 31)\n",
    "\n",
    "n_past_observations: NDArray = np.sum(np.logical_not(np.isnan(all_t_bins_agreement_with_observation)), axis=0) # (n_t_bins,)  -- sum over each predicted time bin to see how many valid past predictions we have # e.g. [ 0  1  2  3  4  5  6  7  8  9 10 11 12 13 14 15 16 17 18 19 20 21 22 23 24 25 26 27 28 29 30]\n",
    "## aggregate over all possible predictions to determine the observed likelihood for each real time bin\n",
    "collided_across_predictions_observation_likelihoods = np.nansum(all_t_bins_agreement_with_observation, axis=0) # (n_t_bins,)\n",
    "# collided_across_predictions_observation_likelihoods\n",
    "\n",
    "## Average across all prediction timesteps and renormalize\n",
    "# all_t_bins_predicited_posteriors # TypeError: Invalid shape (30, 57, 31) for image data\n",
    "\n",
    "_arr: NDArray = np.nansum(deepcopy(all_t_bins_predicited_posteriors), axis=0) # (n_x_bins, n_t_bins)\n",
    "## Divide by the number of observations to prevent over-representation:\n",
    "_arr = _arr / n_past_observations\n",
    "\n",
    "## re normalize over first position\n",
    "_arr = _arr / np.nansum(_arr, axis=0, keepdims=True)\n",
    "# _arr\n",
    "\n",
    "# INPUTS: n_past_observations\n",
    "\n",
    "# `collided_across_prediction_position_likelihoods` - this isn't \"fair\" because it includes the predictions from t+1 timesteps which are very close to the actual observed positions. Mostly exploring how to combine across time bin lags.\n",
    "# collided_across_prediction_position_likelihoods = np.nansum(all_t_bins_predicited_posteriors, axis=-1) # (n_t_prediction_bins, n_x_bins)\n",
    "collided_across_prediction_position_likelihoods = np.nansum(all_t_bins_predicited_posteriors, axis=0) # (n_t_prediction_bins, n_x_bins)\n",
    "collided_across_prediction_position_likelihoods\n",
    "\n"
   ]
  },
  {
   "cell_type": "code",
   "execution_count": null,
   "id": "c11a1a5f",
   "metadata": {},
   "outputs": [],
   "source": [
    "all_t_bins_agreement_with_observation"
   ]
  },
  {
   "cell_type": "code",
   "execution_count": null,
   "id": "f51819b5",
   "metadata": {},
   "outputs": [],
   "source": [
    "## Construct into 3D arrays for visualization in Napari and future operations\n",
    "## INPUTS: all_t_bins_predicited_corresponding_t_bins, all_t_bins_predicited_posteriors, all_t_bins_agreement_with_observation\n",
    "all_t_bins_predicited_posteriors: NDArray # (n_predicted_t_bins, n_x_bins, n_t_bins), single posterior (n_x_bins, n_t_bins)\n",
    "all_t_bins_agreement_with_observation: NDArray # (n_predicted_t_bins, n_t_bins)\n",
    "all_t_bins_predicited_corresponding_t_bins: NDArray # (n_predicted_t_bins, n_t_bins)\n",
    "\n",
    "## OUTPUTS: all_t_bins_predicited_posteriors, all_t_bins_agreement_with_observation, all_t_bins_predicited_corresponding_t_bins\n",
    "# all_t_bins_predicited_posteriors.shape: (30, 57, 31) (n_t_prediction_bins, n_x_bins, n_t_bins)\n",
    "# test_posterior.shape: (57, 31)\n",
    "\n",
    "n_past_observations: NDArray  # (n_t_bins,)  -- sum over each predicted time bin to see how many valid past predictions we have # e.g. [ 0  1  2  3  4  5  6  7  8  9 10 11 12 13 14 15 16 17 18 19 20 21 22 23 24 25 26 27 28 29 30]\n",
    "## aggregate over all possible predictions to determine the observed likelihood for each real time bin\n",
    "collided_across_predictions_observation_likelihoods # (n_t_bins,)\n",
    "\n",
    "## Average across all prediction timesteps and renormalize\n",
    "# all_t_bins_predicited_posteriors # TypeError: Invalid shape (30, 57, 31) for image data\n",
    "_arr: NDArray  # (n_x_bins, n_t_bins)"
   ]
  },
  {
   "cell_type": "code",
   "execution_count": null,
   "id": "624ab93f",
   "metadata": {},
   "outputs": [],
   "source": [
    "collided_across_predictions_observation_likelihoods"
   ]
  },
  {
   "cell_type": "code",
   "execution_count": null,
   "id": "af8d2e1c",
   "metadata": {},
   "outputs": [],
   "source": [
    "# from PyQt5 import QtWidgets, QtCore\n",
    "\n",
    "\n",
    "# class MainWidget(QtWidgets.QWidget):\n",
    "#     def __init__(self, n_tbins, n_xbins, vectorVal):\n",
    "#         super().__init__()\n",
    "#         layout = QtWidgets.QVBoxLayout(self)\n",
    "\n",
    "#         # 1. Rectangular plot drawing the 2D posterior matrix\n",
    "#         self.posterior_matrix_plot = pg.ImageView()\n",
    "#         self.posterior_matrix_plot.setImage(np.random.rand(n_tbins, n_xbins))\n",
    "#         layout.addWidget(self.posterior_matrix_plot)\n",
    "\n",
    "#         # 2. Row vector display\n",
    "#         self.vector_plot = pg.PlotWidget()\n",
    "#         self.vector_plot.plot(vectorVal, pen='r')\n",
    "#         layout.addWidget(self.vector_plot)\n",
    "\n",
    "#         # 3. Scrollable view\n",
    "#         scroll_area = QtWidgets.QScrollArea()\n",
    "#         scroll_area.setWidgetResizable(True)\n",
    "#         scroll_area.setHorizontalScrollBarPolicy(QtCore.Qt.ScrollBarAlwaysOff)\n",
    "#         layout.addWidget(scroll_area)\n",
    "\n",
    "#         # 4. Stack of rectangular plots inside the scrollable view\n",
    "#         scroll_content = QtWidgets.QWidget()\n",
    "#         scroll_layout = QtWidgets.QVBoxLayout(scroll_content)\n",
    "\t\t\n",
    "#         for _ in range(10):  # Adjust the range as needed\n",
    "#             plot_widget = pg.ImageView()\n",
    "#             plot_widget.setImage(np.random.rand(n_tbins, n_xbins))\n",
    "#             scroll_layout.addWidget(plot_widget)\n",
    "\t\t\n",
    "#         scroll_area.setWidget(scroll_content)\n",
    "\n",
    "n_predicted_t_bins, n_x_bins, n_t_bins = np.shape(all_t_bins_predicited_posteriors)\n",
    "print(f'{n_predicted_t_bins = }, {n_x_bins = }, {n_t_bins = }')\n",
    "\n",
    "viewLimits = dict(xMin=0, xMax=n_x_bins, \n",
    "\t\t\t#  minXRange=20, maxXRange=500, \n",
    "\t\t\t yMin=0, yMax=n_t_bins,\n",
    "\t\t\t#  minYRange=1, maxYRange=10,\n",
    "\t\t\t )\n",
    "viewLimits\n",
    "\n",
    "# v4.setLimits(xMin=-100, xMax=1100, \n",
    "#              minXRange=20, maxXRange=500, \n",
    "#              yMin=-10, yMax=10,\n",
    "#              minYRange=1, maxYRange=10)"
   ]
  },
  {
   "cell_type": "code",
   "execution_count": null,
   "id": "16dcba55",
   "metadata": {},
   "outputs": [],
   "source": [
    "\n",
    "a_specific_t_bin_idx = 2\n",
    "an_observed_posterior = np.atleast_2d(test_posterior[:, a_specific_t_bin_idx]).T # (n_x, 1)\n",
    "n_predicted_time_bins: int = ((n_time_bins-a_specific_t_bin_idx) - 1) # number of time bins to predict computed by how many remain in the current epoch after the specific_t_bin_idx (in the future)\n",
    "\n",
    "# \"\"\" Takes a single observation time bin and returns its best prediction for all future bins\n",
    "\n",
    "# \"\"\"\n",
    "## INPUTS: n_predicted_time_bins, an_observed_posterior\n",
    "an_observed_posterior = np.atleast_2d(an_observed_posterior) # (n_x, 1)\n",
    "if np.shape(an_observed_posterior)[-1] != 1:\n",
    "\t# last dimension should be 1 (n_x, 1), transpose it\n",
    "\tan_observed_posterior = an_observed_posterior.T\n",
    "\t\n",
    "n_xbins: int = np.shape(an_observed_posterior)[0]\n",
    "if debug_print:\n",
    "\tprint(f'Single observation at a_specific_t_bin_idx = {a_specific_t_bin_idx}:\\n\\tnp.shape(an_observed_posterior): {np.shape(an_observed_posterior)}, n_predicted_time_bins: {n_predicted_time_bins}')\n",
    "\n",
    "# all_t_bins_predicited_posteriors[0]\n",
    "\n",
    "# n_tbins = 100\n",
    "# n_xbins = 100\n",
    "# vectorVal = np.random.rand(n_tbins)\n",
    "\n",
    "# main_widget = MainWidget(n_tbins, n_xbins, vectorVal)\n",
    "# main_widget.show()\n",
    "\n",
    "\n",
    "# all_t_bins_predicited_posteriors[0] # works to index into the first index, getting correct posterior predictions\n",
    "# all_t_bins_predicited_posteriors[1] # works to index into the first index, getting correct posterior predictions\n",
    "# all_t_bins_predicited_posteriors[2] # works to index into the first index, getting correct posterior predictions"
   ]
  },
  {
   "cell_type": "code",
   "execution_count": null,
   "id": "1c614008",
   "metadata": {},
   "outputs": [],
   "source": [
    "for v in (test_posterior, all_t_bins_predicited_corresponding_t_bins, all_t_bins_predicited_posteriors, all_t_bins_agreement_with_observation, collided_across_predictions_observation_likelihoods, n_past_observations,):\n",
    "\tnp.shape(v)"
   ]
  },
  {
   "cell_type": "code",
   "execution_count": null,
   "id": "85671b89",
   "metadata": {},
   "outputs": [],
   "source": [
    "from pyphoplacecellanalysis.GUI.PyQtPlot.BinnedImageRenderingWindow import BasicBinnedImageRenderingWindow\n",
    "\n",
    "window_title = 'TransitionMatrix: Lap Agreement with predictions'\n",
    "# predicted_posterior_spec_tuple = tuple([{f'pred[{i}]': np.atleast_2d(v)} for i, v in enumerate(all_t_bins_predicited_posteriors)])\n",
    "predicted_posterior_spec_tuple = tuple([({f'pred[{i}]': np.atleast_2d(v), 'rowspan':4}, ) for i, v in enumerate(all_t_bins_predicited_posteriors)])\n",
    "a_spec = [ # two rows: (2 columns, 1 column)\n",
    "\t({'an_observed_posterior': deepcopy(test_posterior), 'rowspan':4}, ),\n",
    "\t({'likelihoods': np.atleast_2d(collided_across_predictions_observation_likelihoods).T, 'rowspan':1}, ),\n",
    "\t*predicted_posterior_spec_tuple,\n",
    "\t# ({f'pred[{i}]': np.atleast_2d(all_t_bins_predicited_posteriors)} for i, v in enumerate(all_t_bins_predicited_posteriors)),\n",
    "\t# ({'measured':test_posterior}, {'predicited_posteriors':predicited_posteriors},), # single row (2 columns)\n",
    "\t# ({'diff':_diff}, )\n",
    "]\n",
    "# for \n",
    "out_predicted_observed_posterior_compare = BasicBinnedImageRenderingWindow.init_from_data_spec(a_spec, window_title=window_title, drop_below_threshold=1e-4)\n"
   ]
  },
  {
   "cell_type": "code",
   "execution_count": null,
   "id": "e3cf524b",
   "metadata": {},
   "outputs": [],
   "source": [
    "out_predicted_observed_posterior_compare.plots"
   ]
  },
  {
   "cell_type": "code",
   "execution_count": null,
   "id": "3c52e922",
   "metadata": {},
   "outputs": [],
   "source": [
    "names_list = [v for v in list(out_predicted_observed_posterior_compare.plots.keys()) if v not in ('name', 'context')]\n",
    "for a_name in names_list:\n",
    "\t# Adjust the size of the text for the item by passing formatted text\n",
    "\ta_plot: pg.PlotItem = out_predicted_observed_posterior_compare.plots[a_name].mainPlotItem # PlotItem \n",
    "\tprint(f'{k}: {a_plot}')\n",
    "\t# no clue why 2 is a good value for this...\n",
    "\t# a_plot.titleLabel.setMaximumHeight(2)\n",
    "\t# a_plot.layout.setRowFixedHeight(0, 2)\n",
    "\t\n"
   ]
  },
  {
   "cell_type": "code",
   "execution_count": null,
   "id": "ecd76506",
   "metadata": {},
   "outputs": [],
   "source": [
    "controlling_plot = None\n",
    "controlled_plot_names = []\n",
    "\n",
    "for i, (k, v) in enumerate(out_predicted_observed_posterior_compare.plots.data_items()):\n",
    "\t# print(k, v)\n",
    "\ta_plot: pg.PlotItem = v['mainPlotItem']\n",
    "\tif controlling_plot is None:\n",
    "\t\tcontrolling_plot = a_plot\n",
    "\telse:\n",
    "\t\tcontrolled_plot_names.append(a_plot)\n",
    "\t\ta_plot.setXLink(controlling_plot)\n",
    "\t\t# a_plot.setYLink(controlling_plot)\n",
    "\t# print(an_item)\n",
    "\t# p4.setYLink(p1)\n",
    "\t\n",
    "controlled_plot_names"
   ]
  },
  {
   "cell_type": "code",
   "execution_count": null,
   "id": "c8bdd2c0",
   "metadata": {},
   "outputs": [],
   "source": [
    "# Manual Sublayout\n",
    "a_spec = [ # two rows: (2 columns, 1 column)\n",
    "\t({'an_observed_posterior': deepcopy(test_posterior), 'rowspan':4}, ),\n",
    "]\n",
    "# for \n",
    "out_predicted_observed_posterior_compare = BasicBinnedImageRenderingWindow.init_from_data_spec(a_spec, window_title=window_title, drop_below_threshold=1e-4)\n",
    "out_predicted_observed_posterior_compare.add_data(row=4, rowspan=1, matrix=np.atleast_2d(collided_across_predictions_observation_likelihoods).T, name='likelihoods', variable_label='likelihoods', drop_below_threshold=1e-4)\n",
    "main_graphics_layout_widget: pg.GraphicsLayoutWidget = out_predicted_observed_posterior_compare.graphics_layout # pyphoplacecellanalysis.External.pyqtgraph.widgets.GraphicsLayoutWidget.GraphicsLayoutWidget\n",
    "\n",
    "# main_graphics_layout_widget.nextRow()\n",
    "a_predicted_sublayout_widget = main_graphics_layout_widget.addLayout(row=6, rowspan=32, col=0, border=(50,0,0)) # , name='predicted layout'\n",
    "## Add a sub-layout into the second row (automatic position)\n",
    "## The added item should avoid the first column, which is already filled\n",
    "# l.nextRow()\n",
    "# a_predicted_sublayout_widget = l.addLayout(colspan=3, border=(50,0,0))\n",
    "a_predicted_sublayout_widget.setContentsMargins(10, 10, 10, 10)\n",
    "a_predicted_sublayout_widget.addLabel(\"Sub-layout: this layout demonstrates the use of shared axes and axis labels\", colspan=3)\n",
    "# a_predicted_sublayout_widget.nextRow()\n",
    "\n",
    "# predicted_posterior_spec_tuple = tuple([({f'pred[{i}]': np.atleast_2d(v), 'rowspan':4}, ) for i, v in enumerate(all_t_bins_predicited_posteriors)])\n",
    "\n",
    "for i, v in enumerate(all_t_bins_predicited_posteriors):\n",
    "\tname_str: str = f'pred[{i}]'\n",
    "\t# , 'rowspan':4\n",
    "\t# a_subplot = a_predicted_sublayout_widget.addPlot(rowspan=4)\n",
    "\t# out_predicted_observed_posterior_compare.add_data(rowspan=4, matrix=np.atleast_2d(v), name=name_str, variable_label=name_str, drop_below_threshold=1e-4, title=name_str) # row=4, , target_layout=a_predicted_sublayout_widget\n",
    "\tout_predicted_observed_posterior_compare.add_data(row=i, rowspan=1, matrix=np.atleast_2d(v), name=name_str, variable_label=name_str, drop_below_threshold=1e-4, title=None, target_layout=a_predicted_sublayout_widget) # row=4, \n",
    "\t# a_predicted_sublayout_widget.nextRow()\n",
    "\t\n",
    "\t\n",
    "# a_predicted_sublayout_widget.addLabel('Vertical Axis Label', angle=-90, rowspan=2)\n",
    "# p21 = a_predicted_sublayout_widget.addPlot()\n",
    "# p22 = a_predicted_sublayout_widget.addPlot()\n",
    "# a_predicted_sublayout_widget.nextRow()\n",
    "# p23 = a_predicted_sublayout_widget.addPlot()\n",
    "# p24 = a_predicted_sublayout_widget.addPlot()\n",
    "# a_predicted_sublayout_widget.nextRow()\n",
    "# a_predicted_sublayout_widget.addLabel(\"HorizontalAxisLabel\", col=1, colspan=2)\n",
    "\n",
    "# ## hide axes on some plots\n",
    "# p21.hideAxis('bottom')\n",
    "# p22.hideAxis('bottom')\n",
    "# p22.hideAxis('left')\n",
    "# p24.hideAxis('left')\n",
    "# p21.hideButtons()\n",
    "# p22.hideButtons()\n",
    "# p23.hideButtons()\n",
    "# p24.hideButtons()"
   ]
  },
  {
   "cell_type": "code",
   "execution_count": null,
   "id": "c10ed286",
   "metadata": {},
   "outputs": [],
   "source": [
    "#         # 3. Scrollable view\n",
    "#         scroll_area = QtWidgets.QScrollArea()\n",
    "#         scroll_area.setWidgetResizable(True)\n",
    "#         scroll_area.setHorizontalScrollBarPolicy(QtCore.Qt.ScrollBarAlwaysOff)\n",
    "#         layout.addWidget(scroll_area)\n",
    "\n",
    "#         # 4. Stack of rectangular plots inside the scrollable view\n",
    "#         scroll_content = QtWidgets.QWidget()\n",
    "#         scroll_layout = QtWidgets.QVBoxLayout(scroll_content)\n",
    "\t\t\n",
    "#         for _ in range(10):  # Adjust the range as needed\n",
    "#             plot_widget = pg.ImageView()\n",
    "#             plot_widget.setImage(np.random.rand(n_tbins, n_xbins))\n",
    "#             scroll_layout.addWidget(plot_widget)\n",
    "\t\t\n",
    "#         scroll_area.setWidget(scroll_content)\n"
   ]
  },
  {
   "cell_type": "code",
   "execution_count": null,
   "id": "995dd870",
   "metadata": {},
   "outputs": [],
   "source": [
    "a_scroll_widget = main_graphics_layout_widget.addScrollBarWidget()\n",
    "a_scroll_widget\n",
    "\t\t\t\t\t\t\t\t\t\t\t   "
   ]
  },
  {
   "cell_type": "code",
   "execution_count": null,
   "id": "e6f67d22",
   "metadata": {},
   "outputs": [],
   "source": [
    "# mainPlotItem = out_predicted_observed_posterior_compare.plots.likelihoods.mainPlotItem # pyphoplacecellanalysis.External.pyqtgraph.graphicsItems.PlotItem.PlotItem.PlotItem\n",
    "# imageItem  = out_predicted_observed_posterior_compare.plots.likelihoods.imageItem # pyphoplacecellanalysis.External.pyqtgraph.graphicsItems.ImageItem.ImageItem \n"
   ]
  },
  {
   "cell_type": "code",
   "execution_count": null,
   "id": "4a91d111",
   "metadata": {},
   "outputs": [],
   "source": [
    "mainPlotItem.layout # PyQt5.QtWidgets.QGraphicsGridLayout\n",
    "\n",
    "\n",
    "# mainPlotItem.layout.getRowSpan()\n",
    "\n",
    "row_span = mainPlotItem.layout.rowSpan()\n",
    "col_span = mainPlotItem.layout.colSpan()\n",
    "\n",
    "row_span, col_span\n"
   ]
  },
  {
   "cell_type": "code",
   "execution_count": null,
   "id": "c7315584",
   "metadata": {},
   "outputs": [],
   "source": [
    "mainPlotItem.layout.setRowSpan(2)\n",
    "\n",
    "# imageItem.getViewBox()"
   ]
  },
  {
   "cell_type": "code",
   "execution_count": null,
   "id": "8e120e11",
   "metadata": {},
   "outputs": [],
   "source": [
    "out_predicted_observed_posterior_compare.plots.an_observed_posterior.mainPlotItem.size() # == mainPlotItem"
   ]
  },
  {
   "cell_type": "code",
   "execution_count": null,
   "id": "ac47b69e",
   "metadata": {},
   "outputs": [],
   "source": [
    "# mainPlotItem.setMaximumHeight(\n",
    "mainPlotItem.size() # \n"
   ]
  },
  {
   "cell_type": "code",
   "execution_count": null,
   "id": "fa6e9a7a",
   "metadata": {},
   "outputs": [],
   "source": [
    "\n",
    "# 'mainPlotItem'\n",
    "# out_test_markov_test_compare.plots['measured']['imageItem']\n",
    "\n",
    "mainPlotItem: pg.PlotItem = out_test_markov_test_compare.plots['measured']['mainPlotItem']\n",
    "mainPlotItem\n",
    "# remove old\n",
    "old_imageItem = out_test_markov_test_compare.plots['measured']['imageItem']\n",
    "mainPlotItem.removeItem(old_imageItem)\n",
    "# Create a view box\n",
    "# vb = win.addViewBox()\n",
    "# vb.setAspectLocked(True)\n",
    "\n",
    "vb = mainPlotItem.getViewBox()\n",
    "vb.setAspectLocked(True)\n",
    "conn = out_test_markov_test_compare.ui.connections['measured']\n",
    "conn.disconnect()\n",
    "out_test_markov_test_compare.remove_data('measured')\n",
    "_add_target = mainPlotItem\n",
    "# _add_target = vb\n",
    "\n",
    "# Mask near-zero values\n",
    "mask_below_value = 1e-3\n",
    "data1_masked = np.ma.masked_where(np.abs(test_posterior) < mask_below_value, test_posterior)\n",
    "data2_masked = np.ma.masked_where(np.abs(predicited_posteriors) < mask_below_value, predicited_posteriors)\n",
    "\n",
    "## remove old objects\n",
    "_add_target.removeItem(img1)\n",
    "_add_target.removeItem(img2)\n",
    "\n",
    "# Create the first image item\n",
    "img1 = pg.ImageItem(data1_masked)\n",
    "lut1 = pg.colormap.get('viridis').getLookupTable(nPts=256, alpha=True)\n",
    "# lut1[:, 3] = np.clip(lut1[:, 3] * 0.5, 0, 255)  # Adjust alpha transparency\n",
    "img1.setLookupTable(lut1)\n",
    "# img1.setOpacity(0.5)  # Adjust overall transparency\n",
    "\n",
    "_add_target.addItem(img1)\n",
    "\n",
    "# Create the second image item\n",
    "img2 = pg.ImageItem(data2_masked)\n",
    "lut2 = pg.colormap.get('plasma').getLookupTable(nPts=256, alpha=True)\n",
    "lut2[:, 3] = np.clip(lut2[:, 3] * 0.5, 0, 255)  # Adjust alpha transparency\n",
    "img2.setLookupTable(lut2)\n",
    "# img2.setOpacity(0.5)  # Adjust overall transparency\n",
    "\n",
    "_add_target.addItem(img2)\n",
    "\n",
    "_add_target.removeItem(img1)\n",
    "_add_target.removeItem(img2)\n",
    "\n",
    "\n"
   ]
  },
  {
   "cell_type": "markdown",
   "id": "072c08be",
   "metadata": {},
   "source": [
    "### ✅🖼️ 2024-08-08 - Napari Stack of Predictions with slider for prediction time bin"
   ]
  },
  {
   "cell_type": "code",
   "execution_count": null,
   "id": "807b16bb",
   "metadata": {},
   "outputs": [],
   "source": [
    "import napari\n",
    "from pyphoplacecellanalysis.GUI.Napari.napari_helpers import napari_plot_directional_trial_by_trial_activity_viz, napari_trial_by_trial_activity_viz, build_aclu_label, napari_export_image_sequence, napari_from_layers_dict\n",
    "\n",
    "n_t_prediction_bins, n_x_bins, n_t_bins = np.shape(all_t_bins_predicited_posteriors)\n",
    "\n",
    "print(f'all_t_bins_predicited_posteriors.shape: {np.shape(all_t_bins_predicited_posteriors)} (n_t_prediction_bins, n_x_bins, n_t_bins)')\n",
    "\n",
    "# Add the 2D image layer, ensuring it overlays on all time points\n",
    "# Set the scale to (1, 1, 1) for the 3D image to keep it as it is\n",
    "# For the 2D image, we need to add an extra dimension\n",
    "print(f'test_posterior.shape: {np.shape(test_posterior)}')\n",
    "# test_posterior_expanded = np.expand_dims(test_posterior, axis=0)  # Add a new axis at the beginning\n",
    "test_posterior_expanded = np.tile(test_posterior, (n_t_prediction_bins,1,1))\n",
    "print(f'test_posterior_expanded.shape: {np.shape(test_posterior_expanded)}')\n",
    "# observed_posterior_scale = (n_t_prediction_bins, 1, 1)\n",
    "observed_posterior_scale = (1, 1, 1)\n",
    "\n",
    "## INPUTS: a_decoder_name, all_t_bins_predicited_posteriors, test_posterior\n",
    "custom_direction_split_layers_dict = {}\n",
    "layers_list_sort_order = ['predicted', 'observed']\n",
    "\n",
    "## Build the image data layers for each\n",
    "custom_direction_split_layers_dict = {\n",
    "\t'predicted': dict(blending='translucent', colormap='red', name=f'{a_decoder_name}_predicted', img_data=all_t_bins_predicited_posteriors), # reshape to be compatibile with C_i's dimensions # .transpose(1, 0, 2)\n",
    "\t'observed': dict(blending='translucent', colormap='viridis', name=f'{a_decoder_name}_observed', img_data=test_posterior_expanded, scale=observed_posterior_scale) # reshape to be compatibile with C_i's dimensions\n",
    "\t# 'observed': dict(blending='translucent', colormap='viridis', name=f'{a_decoder_name}_observed', img_data=test_posterior) # reshape to be compatibile with C_i's dimensions\n",
    "}\n",
    "## sort the layers dict:\n",
    "custom_direction_split_layers_dict = {k:custom_direction_split_layers_dict[k] for k in reversed(layers_list_sort_order) if k in custom_direction_split_layers_dict}\n",
    "\n",
    "viewer, image_layer_dict = napari_from_layers_dict(layers_dict=custom_direction_split_layers_dict, title='Agreement with Prediction', axis_labels=('pred_tbin', 'xbin', 'tbin')) # 'aclu', \n",
    "\n",
    "\n",
    "# viewer, image_layer_dict = napari_from_layers_dict({'predicted':predicited_posteriors, 'observed':test_posterior}) # , 'diff':_prediction_observation_diff\n",
    "viewer"
   ]
  },
  {
   "cell_type": "code",
   "execution_count": null,
   "id": "1f8181ec",
   "metadata": {},
   "outputs": [],
   "source": [
    "viewer: napari.viewer.Viewer = viewer\n",
    "viewer"
   ]
  },
  {
   "cell_type": "code",
   "execution_count": null,
   "id": "6566fb84",
   "metadata": {},
   "outputs": [],
   "source": [
    "viewer.Config"
   ]
  },
  {
   "cell_type": "code",
   "execution_count": null,
   "id": "d4c75f75",
   "metadata": {},
   "outputs": [],
   "source": [
    "_out_img_collided_across_predictions_observation_likelihoods = viewer.add_image(np.atleast_2d(collided_across_predictions_observation_likelihoods))\n"
   ]
  },
  {
   "cell_type": "code",
   "execution_count": null,
   "id": "159ec3b8",
   "metadata": {},
   "outputs": [],
   "source": [
    "from pyphoplacecellanalysis.GUI.Napari.napari_helpers import napari_export_image_sequence\n",
    "from pyphocorehelpers.plotting.media_output_helpers import create_video_from_images, create_gif_from_images\n",
    "\n",
    "desired_save_parent_path = Path(r'C:\\Users\\pho\\Desktop\\2024-08-08 - TransitionMatrix\\PosteriorPredictions').resolve()\n",
    "imageseries_output_directory = napari_export_image_sequence(viewer=viewer, imageseries_output_directory=desired_save_parent_path, slider_axis_IDX=0)\n",
    "video_out_file = desired_save_parent_path.joinpath('output_video.mp4')\n",
    "create_video_from_images(image_folder=imageseries_output_directory, output_video_file=video_out_file, seconds_per_frame=0.2)\n",
    "\n",
    "\n",
    "# Usage:\n",
    "gif_out_file = desired_save_parent_path.joinpath('output_video.gif')\n",
    "create_gif_from_images(image_folder=imageseries_output_directory, output_video_file=gif_out_file, seconds_per_frame=0.2)\n",
    "\n"
   ]
  },
  {
   "cell_type": "markdown",
   "id": "4e9b9c3c",
   "metadata": {},
   "source": [
    "### 2D Napari"
   ]
  },
  {
   "cell_type": "code",
   "execution_count": null,
   "id": "a55ad4c7",
   "metadata": {},
   "outputs": [],
   "source": [
    "import napari\n",
    "from pyphoplacecellanalysis.GUI.Napari.napari_helpers import napari_plot_directional_trial_by_trial_activity_viz, napari_trial_by_trial_activity_viz, build_aclu_label, napari_export_image_sequence, napari_from_layers_dict\n",
    "\n",
    "## INPUTS: a_decoder_name, predicited_posteriors, test_posterior\n",
    "custom_direction_split_layers_dict = {}\n",
    "layers_list_sort_order = ['observed', 'predicted']\n",
    "\n",
    "## Build the image data layers for each\n",
    "custom_direction_split_layers_dict = {\n",
    "\t'predicted': dict(blending='translucent', colormap='viridis', name=f'{a_decoder_name}_predicted', img_data=predicited_posteriors), # reshape to be compatibile with C_i's dimensions # .transpose(1, 0, 2)\n",
    "\t'observed': dict(blending='translucent', colormap='viridis', name=f'{a_decoder_name}_observed', img_data=test_posterior) # reshape to be compatibile with C_i's dimensions\n",
    "}\n",
    "## sort the layers dict:\n",
    "custom_direction_split_layers_dict = {k:custom_direction_split_layers_dict[k] for k in reversed(layers_list_sort_order) if k in custom_direction_split_layers_dict}\n",
    "\n",
    "viewer, image_layer_dict = napari_from_layers_dict(layers_dict=custom_direction_split_layers_dict, title='Agreement with Prediction', axis_labels=('tbin', 'xbin')) # 'aclu', \n",
    "\n",
    "\n",
    "# viewer, image_layer_dict = napari_from_layers_dict({'predicted':predicited_posteriors, 'observed':test_posterior}) # , 'diff':_prediction_observation_diff\n",
    "viewer"
   ]
  },
  {
   "cell_type": "code",
   "execution_count": null,
   "id": "0baa9f6d",
   "metadata": {},
   "outputs": [],
   "source": [
    "%%ndarray_preview height=500, width=200, include_plaintext_repr=False\n",
    "# %config_ndarray_preview width=500\n",
    "\n",
    "## overlay in a different colormap\n",
    "predicited_posteriors"
   ]
  },
  {
   "cell_type": "code",
   "execution_count": null,
   "id": "8b853f1d",
   "metadata": {},
   "outputs": [],
   "source": [
    "%%ndarray_preview height=None, width=100, include_plaintext_repr=True, include_shape=False, horizontal_layout=False\n",
    "# %config_ndarray_preview width=500\n",
    "\n",
    "## overlay in a different colormap\n",
    "predicited_posteriors"
   ]
  },
  {
   "cell_type": "code",
   "execution_count": null,
   "id": "0259fb36",
   "metadata": {},
   "outputs": [],
   "source": [
    "%%ndarray_preview height=None, width=500, include_plaintext_repr=True, include_shape=False, horizontal_layout=True\n",
    "# %config_ndarray_preview width=500\n",
    "\n",
    "## overlay in a different colormap\n",
    "predicited_posteriors"
   ]
  },
  {
   "cell_type": "code",
   "execution_count": null,
   "id": "e8de3d46",
   "metadata": {},
   "outputs": [],
   "source": [
    "predicited_posteriors"
   ]
  },
  {
   "cell_type": "code",
   "execution_count": null,
   "id": "01ea3f33",
   "metadata": {},
   "outputs": [],
   "source": [
    "%config_ndarray_preview width=200\n",
    "\n",
    "## overlay in a different colormap\n",
    "predicited_posteriors\n"
   ]
  },
  {
   "cell_type": "markdown",
   "id": "2689d97d",
   "metadata": {},
   "source": [
    "### 🖼️🎨 Plot laps to observe `agreement_with_observation`:\n",
    "TODO 💯❗ 2024-08-15 22:58: - [ ] PhoPaginatedMultiDecoderDecodedEpochsWindow renders the list of subplots on a page with the first being on the BOTTOM and then increasing up towards the top. This is very counter-intuitive and potentially explains issues with ordering and indexing of plots. 💯❗"
   ]
  },
  {
   "cell_type": "code",
   "execution_count": null,
   "id": "8c0e8dd9",
   "metadata": {},
   "outputs": [],
   "source": [
    "from pyphoplacecellanalysis.General.Pipeline.Stages.DisplayFunctions.DecoderPredictionError import plot_decoded_epoch_slices\n",
    "from pyphoplacecellanalysis.Pho2D.stacked_epoch_slices import PhoPaginatedMultiDecoderDecodedEpochsWindow, DecodedEpochSlicesPaginatedFigureController, EpochSelectionsObject, ClickActionCallbacks\n",
    "\n",
    "laps_app, laps_paginated_multi_decoder_decoded_epochs_window, laps_pagination_controller_dict = PhoPaginatedMultiDecoderDecodedEpochsWindow.init_from_track_templates(curr_active_pipeline, track_templates,\n",
    "\t\t\t\t\t\t\tdecoder_decoded_epochs_result_dict=decoder_laps_filter_epochs_decoder_result_dict, epochs_name='laps',\n",
    "\t\t\t\t\t\t\t# decoder_decoded_epochs_result_dict=decoder_ripple_filter_epochs_decoder_result_dict, epochs_name='ripple',\n",
    "\t\t\t\t\t\t\tincluded_epoch_indicies=None, \n",
    "\tparams_kwargs={'enable_per_epoch_action_buttons': False,\n",
    "\t'skip_plotting_most_likely_positions': True, 'skip_plotting_measured_positions': False, \n",
    "\t'enable_decoded_most_likely_position_curve': False, 'enable_radon_transform_info': False, 'enable_weighted_correlation_info': False,\n",
    "\t# 'enable_decoded_most_likely_position_curve': False, 'enable_radon_transform_info': True, 'enable_weighted_correlation_info': True,\n",
    "\t# 'disable_y_label': True,\n",
    "\t# 'isPaginatorControlWidgetBackedMode': True,\n",
    "\t# 'enable_update_window_title_on_page_change': False, 'build_internal_callbacks': True,\n",
    "\t# 'debug_print': True,\n",
    "\t# 'max_subplots_per_page': 10,\n",
    "\t# 'scrollable_figure': False,\n",
    "\t'max_subplots_per_page': 50,\n",
    "\t'scrollable_figure': True,\n",
    "\t# 'posterior_heatmap_imshow_kwargs': dict(vmin=0.0075),\n",
    "\t'use_AnchoredCustomText': False,\n",
    "\t# 'build_fn': 'insets_view',\n",
    "\t})\n",
    "\n",
    "#TODO 💯❗ 2024-08-15 22:58: - [ ] PhoPaginatedMultiDecoderDecodedEpochsWindow renders the list of subplots on a page with the first being on the BOTTOM and then increasing up towards the top. This is very counter-intuitive and potentially explains issues with ordering and indexing of plots. 💯❗\n",
    "\n"
   ]
  },
  {
   "cell_type": "markdown",
   "id": "0f504490",
   "metadata": {},
   "source": [
    "# 2024-08-15 - Computer Vision Approches to line recognition"
   ]
  },
  {
   "cell_type": "code",
   "execution_count": null,
   "id": "0531682d",
   "metadata": {},
   "outputs": [],
   "source": [
    "from pyphoplacecellanalysis.Analysis.Decoder.reconstruction import DecodedFilterEpochsResult, SingleEpochDecodedResult\n",
    "from pyphoplacecellanalysis.Analysis.Decoder.computer_vision import ComputerVisionComputations\n",
    "\n",
    "# parent_output_folder = Path(r'output/_temp_individual_posteriors').resolve()\n",
    "\n",
    "\n",
    "parent_output_folder = Path(r\"E:\\Dropbox (Personal)\\Active\\Kamran Diba Lab\\Pho-Kamran-Meetings\\2024-08-20 - Finalizing Transition Matrix\\_temp_individual_posteriors\").resolve()\n",
    "posterior_out_folder = parent_output_folder.joinpath(DAY_DATE_TO_USE).resolve()\n",
    "posterior_out_folder.mkdir(parents=True, exist_ok=True)\n",
    "save_path = posterior_out_folder.resolve()\n",
    "_parent_save_context: IdentifyingContext = curr_active_pipeline.build_display_context_for_session('perform_export_all_decoded_posteriors_as_images')\n",
    "out_paths = ComputerVisionComputations.perform_export_all_decoded_posteriors_as_images(decoder_laps_filter_epochs_decoder_result_dict, decoder_ripple_filter_epochs_decoder_result_dict, _save_context=_parent_save_context, parent_output_folder=save_path, desired_height=None)\n",
    "# out_paths\n",
    "\n",
    "fullwidth_path_widget(save_path)\t"
   ]
  },
  {
   "cell_type": "code",
   "execution_count": null,
   "id": "600786d2",
   "metadata": {},
   "outputs": [],
   "source": [
    "%%ndarray_preview height=100, width=None\n"
   ]
  },
  {
   "cell_type": "code",
   "execution_count": null,
   "id": "d7f7d610",
   "metadata": {},
   "outputs": [],
   "source": [
    "%config_ndarray_preview height=300, width=None\n",
    "\n",
    "from ipywidgets import interact, IntSlider, FloatSlider, FloatRangeSlider\n",
    "from pyphocorehelpers.plotting.media_output_helpers import img_data_to_greyscale\n",
    "\n",
    "active_captured_single_epoch_result: SingleEpochDecodedResult = a_decoder_decoded_epochs_result.get_result_for_epoch(active_epoch_idx=28)\n",
    "most_likely_position_indicies = deepcopy(active_captured_single_epoch_result.most_likely_position_indicies)\n",
    "most_likely_position_indicies = np.squeeze(most_likely_position_indicies)\n",
    "t_bin_centers = deepcopy(active_captured_single_epoch_result.time_bin_container.centers)\n",
    "t_bin_indicies = np.arange(len(np.squeeze(most_likely_position_indicies)))\n",
    "# most_likely_position_indicies\n",
    "p_x_given_n = deepcopy(active_captured_single_epoch_result.marginal_x.p_x_given_n)\n",
    "# p_x_given_n_image = active_captured_single_epoch_result.get_posterior_as_image(skip_img_normalization=False, export_grayscale=True)\n",
    "p_x_given_n_image = img_data_to_greyscale(p_x_given_n)\n",
    "\n",
    "active_captured_single_epoch_result.epoch_info_tuple # EpochTuple(Index=28, start=971.8437469999772, stop=983.9541530000279, label='28', duration=12.110406000050716, lap_id=29, lap_dir=1, score=0.36769430044232587, velocity=1.6140523749028528, intercept=1805.019565924132, speed=1.6140523749028528, wcorr=-0.9152062701244238, P_decoder=0.6562437078530542, pearsonr=-0.7228173157676305, travel=0.0324318935144031, coverage=0.19298245614035087, jump=0.0005841121495327102, sequential_correlation=16228.563177472019, monotonicity_score=16228.563177472019, laplacian_smoothness=16228.563177472019, longest_sequence_length=22, longest_sequence_length_ratio=0.4583333333333333, direction_change_bin_ratio=0.19148936170212766, congruent_dir_bins_ratio=0.574468085106383, total_congruent_direction_change=257.92556950947574, total_variation=326.1999849678664, integral_second_derivative=7423.7044320722935, stddev_of_diff=8.368982188902695)\n",
    "\n",
    "# p_x_given_n\n",
    "p_x_given_n_image\n"
   ]
  },
  {
   "cell_type": "code",
   "execution_count": null,
   "id": "38235a45",
   "metadata": {},
   "outputs": [],
   "source": [
    "from pyphoplacecellanalysis.Analysis.Decoder.computer_vision import ComputerVisionComputations\n",
    "\n",
    "\n"
   ]
  },
  {
   "cell_type": "code",
   "execution_count": 39,
   "id": "2c4b3f12",
   "metadata": {},
   "outputs": [
    {
     "name": "stdout",
     "output_type": "stream",
     "text": [
      "a_decoder_name: long_LR, _specific_save_context: kdiba_gor01_one_2006-6-08_14-26-15_save_decoded_posteriors_to_HDF5_long_LR_laps\n",
      "\t file does not exist, so setting allow_append = False\n",
      "a_decoder_name: long_RL, _specific_save_context: kdiba_gor01_one_2006-6-08_14-26-15_save_decoded_posteriors_to_HDF5_long_RL_laps\n",
      "\tsave_path exists, so allow_append = True\n",
      "a_decoder_name: short_LR, _specific_save_context: kdiba_gor01_one_2006-6-08_14-26-15_save_decoded_posteriors_to_HDF5_short_LR_laps\n",
      "\tsave_path exists, so allow_append = True\n",
      "a_decoder_name: short_RL, _specific_save_context: kdiba_gor01_one_2006-6-08_14-26-15_save_decoded_posteriors_to_HDF5_short_RL_laps\n",
      "\tsave_path exists, so allow_append = True\n",
      "a_decoder_name: long_LR, _specific_save_context: kdiba_gor01_one_2006-6-08_14-26-15_save_decoded_posteriors_to_HDF5_long_LR_ripple\n",
      "\tsave_path exists, so allow_append = True\n",
      "a_decoder_name: long_RL, _specific_save_context: kdiba_gor01_one_2006-6-08_14-26-15_save_decoded_posteriors_to_HDF5_long_RL_ripple\n",
      "\tsave_path exists, so allow_append = True\n",
      "a_decoder_name: short_LR, _specific_save_context: kdiba_gor01_one_2006-6-08_14-26-15_save_decoded_posteriors_to_HDF5_short_LR_ripple\n",
      "\tsave_path exists, so allow_append = True\n",
      "a_decoder_name: short_RL, _specific_save_context: kdiba_gor01_one_2006-6-08_14-26-15_save_decoded_posteriors_to_HDF5_short_RL_ripple\n",
      "\tsave_path exists, so allow_append = True\n"
     ]
    },
    {
     "data": {
      "text/plain": [
       "{'laps': {'long_LR': Context(format_name: 'kdiba', animal: 'gor01', exper_name: 'one', session_name: '2006-6-08_14-26-15', display_fn_name: 'save_decoded_posteriors_to_HDF5', decoder_name: 'long_LR', epochs_name: 'laps'),\n",
       "  'long_RL': Context(format_name: 'kdiba', animal: 'gor01', exper_name: 'one', session_name: '2006-6-08_14-26-15', display_fn_name: 'save_decoded_posteriors_to_HDF5', decoder_name: 'long_RL', epochs_name: 'laps'),\n",
       "  'short_LR': Context(format_name: 'kdiba', animal: 'gor01', exper_name: 'one', session_name: '2006-6-08_14-26-15', display_fn_name: 'save_decoded_posteriors_to_HDF5', decoder_name: 'short_LR', epochs_name: 'laps'),\n",
       "  'short_RL': Context(format_name: 'kdiba', animal: 'gor01', exper_name: 'one', session_name: '2006-6-08_14-26-15', display_fn_name: 'save_decoded_posteriors_to_HDF5', decoder_name: 'short_RL', epochs_name: 'laps')},\n",
       " 'ripple': {'long_LR': Context(format_name: 'kdiba', animal: 'gor01', exper_name: 'one', session_name: '2006-6-08_14-26-15', display_fn_name: 'save_decoded_posteriors_to_HDF5', decoder_name: 'long_LR', epochs_name: 'ripple'),\n",
       "  'long_RL': Context(format_name: 'kdiba', animal: 'gor01', exper_name: 'one', session_name: '2006-6-08_14-26-15', display_fn_name: 'save_decoded_posteriors_to_HDF5', decoder_name: 'long_RL', epochs_name: 'ripple'),\n",
       "  'short_LR': Context(format_name: 'kdiba', animal: 'gor01', exper_name: 'one', session_name: '2006-6-08_14-26-15', display_fn_name: 'save_decoded_posteriors_to_HDF5', decoder_name: 'short_LR', epochs_name: 'ripple'),\n",
       "  'short_RL': Context(format_name: 'kdiba', animal: 'gor01', exper_name: 'one', session_name: '2006-6-08_14-26-15', display_fn_name: 'save_decoded_posteriors_to_HDF5', decoder_name: 'short_RL', epochs_name: 'ripple')}}"
      ]
     },
     "execution_count": 39,
     "metadata": {},
     "output_type": "execute_result"
    }
   ],
   "source": [
    "from pyphoplacecellanalysis.Analysis.Decoder.computer_vision import ComputerVisionComputations\n",
    "\n",
    "\n",
    "# save_path = Path('output/all_decoded_epoch_posteriors.h5').resolve()\n",
    "save_path = Path(r\"E:\\Dropbox (Personal)\\Active\\Kamran Diba Lab\\Pho-Kamran-Meetings\\2024-08-20 - Finalizing Transition Matrix/all_decoded_epoch_posteriors.h5\").resolve()\n",
    "_parent_save_context: IdentifyingContext = curr_active_pipeline.build_display_context_for_session('save_decoded_posteriors_to_HDF5')\n",
    "out_contexts = ComputerVisionComputations.perform_save_all_decoded_posteriors_to_HDF5(decoder_laps_filter_epochs_decoder_result_dict, decoder_ripple_filter_epochs_decoder_result_dict, _save_context=_parent_save_context, save_path=save_path)\n",
    "out_contexts"
   ]
  },
  {
   "cell_type": "code",
   "execution_count": null,
   "id": "a3ebe05b",
   "metadata": {},
   "outputs": [],
   "source": [
    "[(type(k), type(v)) for k, v in decoder_laps_filter_epochs_decoder_result_dict.items()]\n",
    "\t\n"
   ]
  },
  {
   "cell_type": "code",
   "execution_count": null,
   "id": "70b214a7",
   "metadata": {},
   "outputs": [],
   "source": [
    "## LOAD\n",
    "import h5py\n",
    "from pyphocorehelpers.Filesystem.HDF5.hdf5_file_helpers import HDF5_Helper\n",
    "\n",
    "\n",
    "\n",
    "# kdiba/gor01/one/2006-6-08_14-26-15/save_decoded_posteriors_to_HDF5/long_LR/laps/00/most_likely_position_indicies[00]\n",
    "\n",
    "\n",
    "\n",
    "load_path = Path('output/all_decoded_epoch_posteriors.h5').resolve()\n",
    "assert load_path.exists()\n",
    "\n",
    "_out_dict = ComputerVisionComputations.load_decoded_posteriors_from_HDF5(load_path=load_path, debug_print=False)"
   ]
  },
  {
   "cell_type": "code",
   "execution_count": null,
   "id": "c7133428",
   "metadata": {},
   "outputs": [],
   "source": [
    "\n",
    "# _out_dict['laps']['long_LR']['p_x_given_n_grey']\n",
    "ripple_0_img = _out_dict['long_LR']['ripple']['p_x_given_n_grey'][0]\n",
    "lap_0_img = _out_dict['long_LR']['laps']['p_x_given_n_grey'][0]\n",
    "lap_0_img"
   ]
  },
  {
   "cell_type": "code",
   "execution_count": null,
   "id": "0552c759",
   "metadata": {},
   "outputs": [],
   "source": [
    "p_x_given_n_image = deepcopy(lap_0_img)\n"
   ]
  },
  {
   "cell_type": "code",
   "execution_count": null,
   "id": "0c671ff5",
   "metadata": {},
   "outputs": [],
   "source": [
    "from pyphoplacecellanalysis.Analysis.Decoder.computer_vision import ComputerVisionComputations\n",
    "\n",
    "app, win, imv = ComputerVisionComputations.plot_pyqtgraph(p_x_given_n_image)"
   ]
  },
  {
   "cell_type": "code",
   "execution_count": null,
   "id": "05a03f0e",
   "metadata": {},
   "outputs": [],
   "source": [
    "imv.getProcessedImage()\n",
    "imv.getLevels()\n",
    "imv.getLookupTable()"
   ]
  },
  {
   "cell_type": "code",
   "execution_count": null,
   "id": "6088707a",
   "metadata": {},
   "outputs": [],
   "source": [
    "from pyphoplacecellanalysis.Analysis.Decoder.computer_vision import ComputerVisionComputations\n",
    "from scipy.ndimage import label\n",
    "\n",
    "def remove_small_regions(img, min_size):\n",
    "    # Step 1: Label connected components\n",
    "    labeled_img, num_features = label(img)\n",
    "\n",
    "    # Step 2: Calculate the size of each connected component\n",
    "    component_sizes = np.bincount(labeled_img.ravel())\n",
    "\n",
    "    # Step 3: Create a mask for large components\n",
    "    large_components = component_sizes >= min_size\n",
    "    large_components_mask = large_components[labeled_img]\n",
    "\n",
    "    # Step 4: Return the image with small regions removed\n",
    "    filtered_img = img * large_components_mask\n",
    "\n",
    "    return filtered_img\n",
    "\n",
    "\n",
    "## Find smallest non-zero value\n",
    "# p_x_given_n_image\n",
    "\n",
    "img = deepcopy(p_x_given_n_image)\n",
    "\n",
    "smallest_nonzero_bw_mask, masked_img = ComputerVisionComputations.smallest_non_zero_values_binarization(img, non_included_index_value=0)\n",
    "smallest_nonzero_bw_mask\n",
    "# masked_img\n",
    "\n",
    "bw_top_values_mask, masked_img = ComputerVisionComputations.top_N_values_binarization(img, top_n=3, non_included_index_value=0)\n",
    "bw_top_values_mask\n",
    "# masked_img\n",
    "\n",
    "# # Display the results\n",
    "# for col in range(img.shape[1]):\n",
    "#     print(f\"Column {col}:\")\n",
    "#     for idx in range(top_n):\n",
    "#         if not np.isnan(top_values[idx, col]):\n",
    "#             print(f\"Index: {top_indices[idx, col]}, Value: {top_values[idx, col]}\")\n",
    "            \n",
    "\n",
    "# Remove small regions\n",
    "# filtered_img = remove_small_regions(masked_img, min_size=3)\n",
    "filtered_img = remove_small_regions(bw_top_values_mask, min_size=5)\n",
    "filtered_img"
   ]
  },
  {
   "cell_type": "code",
   "execution_count": null,
   "id": "f877ed8e",
   "metadata": {},
   "outputs": [],
   "source": [
    "from pyphoplacecellanalysis.General.Pipeline.Stages.DisplayFunctions.DecoderPredictionError import plot_1D_most_likely_position_comparsions\n",
    "from pyphoplacecellanalysis.General.Pipeline.Stages.DisplayFunctions.DecoderPredictionError import _subfn_update_decoded_epoch_slices\n",
    "from pyphoplacecellanalysis.Pho2D.stacked_epoch_slices import DecodedEpochSlicesPaginatedFigureController # `plot_decoded_epoch_slices_paginated`\n",
    "from pyphoplacecellanalysis.General.Pipeline.Stages.DisplayFunctions.DecoderPredictionError import WeightedCorrelationPaginatedPlotDataProvider\n",
    "from pyphoplacecellanalysis.General.Pipeline.Stages.DisplayFunctions.DecoderPredictionError import DecodedPositionsPlotDataProvider, DecodedAndActualPositionsPlotData\n",
    "from pyphoplacecellanalysis.General.Pipeline.Stages.DisplayFunctions.DecoderPredictionError import perform_plot_1D_single_most_likely_position_curve\n",
    "\n",
    "# Inputs: epochs_name, decoder_ripple_filter_epochs_decoder_result_dict, curr_active_pipeline\n",
    "epochs_name = 'ripple'\n",
    "\n",
    "(a_name, a_decoder) = tuple(track_templates.get_decoders_dict().items())[0]\n",
    "\n",
    "# a_decoder_decoded_epochs_result = decoder_ripple_filter_epochs_decoder_result_dict[a_name]\n",
    "\n",
    "# a_decoder_decoded_epochs_result = decoder_ripple_filter_epochs_decoder_result_dict[a_name]\n",
    "a_decoder_decoded_epochs_result = deepcopy(filtered_decoder_filter_epochs_decoder_result_dict[a_name]) ## FILTERED\n",
    "\n",
    "_out_pagination_controller = DecodedEpochSlicesPaginatedFigureController.init_from_decoder_data(active_filter_epochs=a_decoder_decoded_epochs_result.filter_epochs,\n",
    "\t\t\t\t\t\t\t\t\t\t\t\t\t\t\t\t\t\t\t\t\tfilter_epochs_decoder_result= a_decoder_decoded_epochs_result,\n",
    "\t\t\t\t\t\t\t\t\t\t\t\t\t\t\t\t\t\t\t\t\txbin=a_decoder.xbin, global_pos_df=curr_active_pipeline.sess.position.df,\n",
    "\t\t\t\t\t\t\t\t\t\t\t\t\t\t\t\t\t\t\t\t\ta_name=f'DecodedEpochSlices[{a_name}]', active_context=curr_active_pipeline.build_display_context_for_session(display_fn_name='DecodedEpochSlices', epochs=epochs_name, decoder=a_name),\n",
    "\t\t\t\t\t\t\t\t\t\t\t\t\t\t\t\t\t\t\t\t\tmax_subplots_per_page=12,\n",
    "\t\t\t\t\t\t\t\t\t\t\t\t\t\t\t\t\t\t\t\t\tparams_kwargs={'skip_plotting_most_likely_positions': True, 'skip_plotting_measured_positions': True, 'enable_per_epoch_action_buttons': False,\n",
    "\t\t\t\t\t\t\t\t\t\t\t\t\t\t\t\t\t\t\t\t\t\t\t\t\t'enable_decoded_most_likely_position_curve': True, #'enable_radon_transform_info': True, 'enable_weighted_correlation_info': True,\n",
    "\t\t\t\t\t\t\t\t\t\t\t\t\t\t\t\t\t\t\t\t\t\t\t\t\t'enable_radon_transform_info': False, 'enable_weighted_correlation_info': False,\n",
    "\t\t\t\t\t\t\t\t\t\t\t\t\t\t\t\t\t\t\t\t\t\t\t\t\t# 'disable_y_label': True,\n",
    "\t\t\t\t\t\t\t\t\t\t\t\t\t\t\t\t\t\t\t\t\t\t\t\t\t'isPaginatorControlWidgetBackedMode': True,\n",
    "\t\t\t\t\t\t\t\t\t\t\t\t\t\t\t\t\t\t\t\t\t\t\t\t\t'enable_update_window_title_on_page_change': False, 'build_internal_callbacks': True,\n",
    "\t\t\t\t\t\t\t\t\t\t\t\t\t\t\t\t\t\t\t\t\t\t\t\t\t# 'debug_print': True,\n",
    "\t\t\t\t\t\t\t\t\t\t\t\t\t\t\t\t\t\t\t\t\t\t\t\t\t'max_subplots_per_page': 12,\n",
    "\t\t\t\t\t\t\t\t\t\t\t\t\t\t\t\t\t\t\t\t\t\t\t\t\t'scrollable_figure': True,\n",
    "\t\t\t\t\t\t\t\t\t\t\t\t\t\t\t\t\t\t\t\t\t\t\t\t\t# 'posterior_heatmap_imshow_kwargs': dict(vmin=0.0075),\n",
    "\t\t\t\t\t\t\t\t\t\t\t\t\t\t\t\t\t\t\t\t\t\t\t\t\t'use_AnchoredCustomText': True,\n",
    "\t\t\t\t\t\t\t\t\t\t\t\t\t\t\t\t\t\t\t\t\t\t\t\t\t'disable_toolbar': False,\n",
    "\t\t\t\t\t\t\t\t\t\t\t\t\t\t\t\t\t\t\t\t\t\t\t\t\t# 'build_fn': 'insets_view',\n",
    "\t\t\t\t\t\t\t\t\t\t\t\t\t\t\t\t\t\t\t\t\t}, \n",
    "\t\t\t\t\t\t\t\t\t\t\t\t\t\t\t\t\t\t\t\t\t# disable_toolbar=False\n",
    "\t\t\t\t\t\t\t\t\t\t\t\t\t\t\t\t\t\t\t\t\t)\n",
    "\n",
    "_out_pagination_controller.params.should_suppress_callback_exceptions = False\n",
    "_out_pagination_controller.add_data_overlays(a_decoder_decoded_epochs_result)\n",
    "_tmp_out_selections = _out_pagination_controller.restore_selections_from_user_annotations()"
   ]
  },
  {
   "cell_type": "code",
   "execution_count": null,
   "id": "9ce98ec5",
   "metadata": {},
   "outputs": [],
   "source": [
    "fig = _out_pagination_controller.plots.fig\n",
    "# fig.toolbar"
   ]
  },
  {
   "cell_type": "code",
   "execution_count": null,
   "id": "46ca8b2b",
   "metadata": {},
   "outputs": [],
   "source": [
    "# type(_out_pagination_controller)\n",
    "\n",
    "_out_pagination_controller.plot_widget._buildUI_setup_statusbar()"
   ]
  },
  {
   "cell_type": "code",
   "execution_count": null,
   "id": "4a2bf375",
   "metadata": {},
   "outputs": [],
   "source": [
    "\n",
    "# plt.plot(np.squeeze(most_likely_position_indicies))\n",
    "plt.scatter(t_bin_centers, most_likely_position_indicies)\n",
    "\n"
   ]
  },
  {
   "cell_type": "code",
   "execution_count": null,
   "id": "09733224",
   "metadata": {},
   "outputs": [],
   "source": [
    "\n",
    "plt.plot(most_likely_position_indicies) # , title='most likely positions'"
   ]
  },
  {
   "cell_type": "code",
   "execution_count": null,
   "id": "f4ec052e",
   "metadata": {},
   "outputs": [],
   "source": [
    "from scipy.ndimage import gaussian_filter\n",
    "from scipy.ndimage import sobel\n",
    "from pyphoplacecellanalysis.SpecificResults.PendingNotebookCode import plot_grad_quiver\n",
    "\n",
    "# Assuming img is your input image as a NumPy array\n",
    "# sigma controls the extent of the blur; higher sigma means more blurring\n",
    "sigma = 0.5\n",
    "\n",
    "# input_img = p_x_given_n\n",
    "input_img = p_x_given_n_image\n",
    "\n",
    "# Perform Gaussian blur\n",
    "blurred_img = gaussian_filter(input_img, sigma=sigma)\n",
    "blurred_img\n",
    "\n",
    "# Compute the gradient in the x and y directions\n",
    "sobel_x = sobel(blurred_img, axis=0)  # Gradient along the x-axis\n",
    "sobel_y = sobel(blurred_img, axis=1)  # Gradient along the y-axis\n",
    "\n",
    "# Compute the magnitude of the gradient\n",
    "gradient_magnitude = np.hypot(sobel_x, sobel_y)\n",
    "gradient_direction = np.arctan2(sobel_y, sobel_x)\n",
    "\n",
    "# Normalize the gradient direction vectors\n",
    "gx = sobel_x / (gradient_magnitude + 1e-10)  # +1e-10 to avoid division by zero\n",
    "gy = sobel_y / (gradient_magnitude + 1e-10)\n",
    "\n",
    "# Compute the second derivatives (Laplacians)\n",
    "sobel_xx = sobel(sobel_x, axis=0)\n",
    "sobel_yy = sobel(sobel_y, axis=1)\n",
    "sobel_xy = sobel(sobel_x, axis=1)\n",
    "sobel_yx = sobel(sobel_y, axis=0)\n",
    "\n",
    "# Laplacian along the gradient direction\n",
    "laplacian_along_gradient = gx**2 * sobel_xx + 2 * gx * gy * sobel_xy + gy**2 * sobel_yy\n",
    "# laplacian_along_gradient"
   ]
  },
  {
   "cell_type": "code",
   "execution_count": null,
   "id": "12d793d5",
   "metadata": {},
   "outputs": [],
   "source": [
    "_fig = plot_grad_quiver(sobel_x=sobel_x, sobel_y=sobel_y, downsample_step=4)\n",
    "plt.gca().scatter(np.arange(len(np.squeeze(most_likely_position_indicies))), np.squeeze(most_likely_position_indicies))\n",
    "# plt.gca().scatter(t_bin_centers, most_likely_position_indicies)\n",
    "\n",
    "\n",
    "# _fig.ax"
   ]
  },
  {
   "cell_type": "code",
   "execution_count": null,
   "id": "9be9cf6c",
   "metadata": {},
   "outputs": [],
   "source": [
    "## Try raw polynomial fit\n",
    "\n",
    "\n",
    "# y_indicies = deepcopy(active_captured_single_epoch_result.most_likely_positions)\n",
    "\n",
    "y_indicies = deepcopy(most_likely_position_indicies)\n",
    "# x_indicies = np.arange(len(y_indices))\n",
    "x_indicies = np.arange(len(t_bin_centers))\n",
    "# x_indicies = deepcopy(t_bin_centers)\n",
    "# x_indicies\n",
    "# y_indicies\n",
    "# y_indices, x_indices = np.where(user_ridge_binary)\n",
    "\n",
    "# Step 3: Fit a low-order polynomial (e.g., quadratic)\n",
    "# Fit a second-degree polynomial to the ridge points\n",
    "p = Polynomial.fit(x_indices, y_indices, 3)\n",
    "p\n",
    "\n",
    "# Evaluate the polynomial for the x-coordinates of the ridge points\n",
    "x_fit = np.linspace(min(x_indices), max(x_indices), num=1000)\n",
    "y_fit = p(x_fit)\n",
    "# y_fit\n",
    "\n",
    "# Step 4: Visualize the results\n",
    "plt.figure(figsize=(10, 10), num='Raw Polynomial Fit', clear=True)\n",
    "plt.scatter(x_indicies, most_likely_position_indicies)\n",
    "plt.plot(x_fit, y_fit, color='red', linewidth=2)\n",
    "plt.title('Ridge Detection and Polynomial Fit')\n",
    "plt.axis('off')\n",
    "plt.show()"
   ]
  },
  {
   "cell_type": "code",
   "execution_count": null,
   "id": "917ff933",
   "metadata": {},
   "outputs": [],
   "source": [
    "input_img = deepcopy(p_x_given_n_image).astype(float)\n",
    "ComputerVisionComputations.run_interactive(input_img)\n",
    "\n"
   ]
  },
  {
   "cell_type": "code",
   "execution_count": null,
   "id": "52104033",
   "metadata": {},
   "outputs": [],
   "source": [
    "from skimage.feature import hessian_matrix, hessian_matrix_eigvals\n",
    "\n",
    "print(f'sigma: {sigma}')\n",
    "input_img = deepcopy(p_x_given_n_image).astype(float)\n",
    "input_img\n",
    "\n",
    "# laps_blur_sigma = (10, 2)\n",
    "# laps_hessian_sigma = 25\n",
    "\n",
    "ripple_blur_sigma = (5, 5) # 2nd tuple item is blur horizontally\n",
    "ripple_hessian_sigma = 25\n",
    "\n",
    "# active_blur_sigma = laps_blur_sigma\n",
    "# active_hessian_sigma = laps_hessian_sigma\n",
    "\n",
    "active_blur_sigma = ripple_blur_sigma\n",
    "active_hessian_sigma = ripple_hessian_sigma\n",
    "\n",
    "blurred_img = None\n",
    "ridges = None\n",
    "\n",
    "def interactive(blur_v_sigma, blur_h_sigma, hessian_sigma):\n",
    "\tglobal active_blur_sigma, active_hessian_sigma, blurred_img, ridges\n",
    "\n",
    "\tactive_hessian_sigma = hessian_sigma\n",
    "\tactive_blur_sigma = (blur_v_sigma, blur_h_sigma)\n",
    "\t\n",
    "\t# Perform Gaussian blur\n",
    "\tblurred_img = gaussian_filter(input_img, sigma=active_blur_sigma, mode='nearest')\n",
    "\t# blurred_img\n",
    "\n",
    "\t# # Apply Gaussian smoothing to reduce noise\n",
    "\t# blurred_img = cv2.GaussianBlur(input_img, (5, 5), sigmaX=sigma, sigmaY=sigma)\n",
    "\t# blurred_img\n",
    "\n",
    "\t# Convert the image to float (required by Frangi filter)\n",
    "\t# img_float = blurred_img.astype(float)\n",
    "\n",
    "\t# blurred_img = deepcopy(p_x_given_n_image).astype(float)\n",
    "\n",
    "\n",
    "\t# Compute the Hessian matrix\n",
    "\t# mode : {'constant', 'reflect', 'wrap', 'nearest', 'mirror'}, How to handle values outside the image borders.\n",
    "\t# cval : float, Used in conjunction with mode 'constant', the value outside the image boundaries.\n",
    "\n",
    "\tH_out = hessian_matrix(blurred_img, sigma=active_hessian_sigma, mode='nearest')\n",
    "\t# H_out = hessian_matrix(blurred_img, sigma=25, mode='constant', cval=-1.0)\n",
    "\n",
    "\t# Hxx, Hxy, Hyy = H_out\n",
    "\t# Compute the eigenvalues of the Hessian matrix\n",
    "\t# lambda1, lambda2 = hessian_matrix_eigvals(Hxx, Hxy, Hyy)\n",
    "\n",
    "\t# Stack the Hessian components into a single Hessian matrix\n",
    "\t# hessian_matrix_combined = np.array([[Hxx, Hxy], [Hxy, Hyy]])\n",
    "\n",
    "\t# Compute the eigenvalues of the Hessian matrix\n",
    "\tlambda1, lambda2 = hessian_matrix_eigvals(H_out)\n",
    "\n",
    "\t# Ridge detection based on eigenvalues\n",
    "\tridges = np.abs(lambda2)  # Use the second eigenvalue for ridges\n",
    "\n",
    "\t# ridges\n",
    "\n",
    "\tdisplay(blurred_img, ridges, clear=True)\n",
    "\n",
    "\t# global user_ridge_binarization_threshold, user_ridge_binary\n",
    "\t# user_ridge_binarization_threshold = ridge_binarization_threshold\n",
    "\t# user_ridge_binary = ridge_binary\n",
    "\t# # Display the result using matplotlib\n",
    "\t# plt.figure(figsize=(10, 10), num='canny_trial', clear=True)\n",
    "\t# plt.imshow(edges, cmap='gray')\n",
    "\t# plt.title(f'Canny Edge Detection (Low: {low_threshold}, High: {high_threshold})')\n",
    "\t# plt.axis('off')\n",
    "\t# plt.show()\n",
    "\n",
    "# Create interactive sliders for the low and high thresholds\n",
    "ridges = interact(interactive, \n",
    "\t\t blur_v_sigma=FloatSlider(min=0, max=10, step=0.5, value=0, description='blur_v_sigma'),\n",
    "\t\t blur_h_sigma=FloatSlider(min=0, max=10, step=0.5, value=0, description='blur_h_sigma'),\t\t \n",
    "\t\t hessian_sigma=FloatSlider(min=0, max=10, step=0.5, value=0, description='hessian_sigma'))\n"
   ]
  },
  {
   "cell_type": "code",
   "execution_count": null,
   "id": "a0b7a588",
   "metadata": {},
   "outputs": [],
   "source": [
    "ridges"
   ]
  },
  {
   "cell_type": "code",
   "execution_count": null,
   "id": "e8485544",
   "metadata": {},
   "outputs": [],
   "source": [
    "ridge_binary = ComputerVisionComputations.run_binarization_interactive(ridges)\n"
   ]
  },
  {
   "cell_type": "code",
   "execution_count": null,
   "id": "abbfd61e",
   "metadata": {},
   "outputs": [],
   "source": [
    "ridge_binary"
   ]
  },
  {
   "cell_type": "code",
   "execution_count": null,
   "id": "c3470b6b",
   "metadata": {},
   "outputs": [],
   "source": [
    "from numpy.polynomial import Polynomial\n",
    "\n",
    "# Step 2: Extract ridge points\n",
    "# Threshold to get binary image of ridges\n",
    "# ridge_binary = ridges > ridge_binarization_threshold  # Adjust threshold as needed\n",
    "\n",
    "user_ridge_binary = deepcopy(ridges)\n",
    "user_ridge_binarization_threshold: float = 0.0\n",
    "def interactive_binarization(ridge_binarization_threshold):\n",
    "\t# Apply Canny edge detection\n",
    "\t# Threshold to get binary image of ridges\n",
    "\tridge_binary = ridges > ridge_binarization_threshold  # Adjust threshold as needed\n",
    "\tdisplay(ridge_binarization_threshold, ridge_binary, clear=True)\n",
    "\n",
    "\tglobal user_ridge_binarization_threshold, user_ridge_binary\n",
    "\tuser_ridge_binarization_threshold = ridge_binarization_threshold\n",
    "\tuser_ridge_binary = ridge_binary\n",
    "\t# # Display the result using matplotlib\n",
    "\t# plt.figure(figsize=(10, 10), num='canny_trial', clear=True)\n",
    "\t# plt.imshow(edges, cmap='gray')\n",
    "\t# plt.title(f'Canny Edge Detection (Low: {low_threshold}, High: {high_threshold})')\n",
    "\t# plt.axis('off')\n",
    "\t# plt.show()\n",
    "\n",
    "# Create interactive sliders for the low and high thresholds\n",
    "interact(interactive_binarization, \n",
    "\t\t ridge_binarization_threshold=FloatSlider(min=0, max=np.nanmax(ridges), step=np.nanmax(ridges)/100, value=0, description='Binarization Threshold'))\n",
    "\n"
   ]
  },
  {
   "cell_type": "code",
   "execution_count": null,
   "id": "3fa0cf07",
   "metadata": {},
   "outputs": [],
   "source": [
    "user_ridge_binarization_threshold # 0.003984703616333091\n",
    "user_ridge_binary\n"
   ]
  },
  {
   "cell_type": "code",
   "execution_count": null,
   "id": "00d363d8",
   "metadata": {},
   "outputs": [],
   "source": [
    "\n",
    "y_indices, x_indices = np.where(user_ridge_binary)\n",
    "\n",
    "# Step 3: Fit a low-order polynomial (e.g., quadratic)\n",
    "# Fit a second-degree polynomial to the ridge points\n",
    "p = Polynomial.fit(x_indices, y_indices, 2)\n",
    "p\n",
    "\n",
    "# Evaluate the polynomial for the x-coordinates of the ridge points\n",
    "x_fit = np.linspace(min(x_indices), max(x_indices), num=1000)\n",
    "y_fit = p(x_fit)\n",
    "\n",
    "y_fit"
   ]
  },
  {
   "cell_type": "code",
   "execution_count": null,
   "id": "613e98b5",
   "metadata": {},
   "outputs": [],
   "source": [
    "## How about JUST polynomial fit?\n",
    "\n",
    "\n"
   ]
  },
  {
   "cell_type": "code",
   "execution_count": null,
   "id": "166a79ed",
   "metadata": {},
   "outputs": [],
   "source": []
  },
  {
   "cell_type": "code",
   "execution_count": null,
   "id": "0f2d11a8",
   "metadata": {},
   "outputs": [],
   "source": [
    "# Step 4: Visualize the results\n",
    "plt.figure(figsize=(10, 10))\n",
    "plt.imshow(user_ridge_binary, cmap='gray', origin='lower')\n",
    "plt.plot(x_fit, y_fit, color='red', linewidth=2)\n",
    "plt.title('Ridge Detection and Polynomial Fit')\n",
    "plt.axis('off')\n",
    "plt.show()"
   ]
  },
  {
   "cell_type": "code",
   "execution_count": null,
   "id": "6c2ef0b1",
   "metadata": {},
   "outputs": [],
   "source": [
    "import cv2\n",
    "import numpy as np\n",
    "import matplotlib.pyplot as plt\n",
    "from skimage.filters import frangi\n",
    "from skimage import img_as_float\n",
    "\n",
    "# Load the image and convert to grayscale if necessary\n",
    "# img = cv2.imread('path_to_image.jpg', cv2.IMREAD_GRAYSCALE)\n",
    "\n",
    "input_img = p_x_given_n_image\n",
    "\n",
    "# Perform Gaussian blur\n",
    "blurred_img = gaussian_filter(input_img, sigma=sigma)\n",
    "blurred_img\n",
    "\n",
    "\n",
    "# Convert the image to float (required by Frangi filter)\n",
    "img_float = blurred_img.astype(float)\n",
    "\n",
    "# Apply the Frangi filter for ridge detection\n",
    "ridges = frangi(img_float)\n",
    "\n",
    "# Display the ridges using matplotlib\n",
    "plt.figure(figsize=(10, 10))\n",
    "plt.imshow(ridges, cmap='gray', origin='lower', interpolation='nearest')\n",
    "plt.title('Ridge Detection using Frangi Filter')\n",
    "plt.axis('off')\n",
    "plt.show()\n"
   ]
  },
  {
   "cell_type": "code",
   "execution_count": null,
   "id": "cc76345d",
   "metadata": {},
   "outputs": [],
   "source": [
    "# blurred_img.shape\n",
    "blurred_img_uint8"
   ]
  },
  {
   "cell_type": "code",
   "execution_count": null,
   "id": "77813ce3",
   "metadata": {},
   "outputs": [],
   "source": [
    "import cv2\n",
    "import numpy as np\n",
    "import matplotlib.pyplot as plt\n",
    "\n",
    "# Assuming blurred_img is your input image after applying Gaussian blur\n",
    "\n",
    "# If your image was originally in color, convert it to grayscale first\n",
    "# Otherwise, if it's already grayscale, skip this step\n",
    "if len(blurred_img.shape) == 3:  # Check if the image has multiple channels (i.e., color image)\n",
    "\tblurred_img_gray = cv2.cvtColor(blurred_img, cv2.COLOR_BGR2GRAY)\n",
    "else:\n",
    "\tblurred_img_gray = blurred_img\n",
    "\n",
    "# Convert to uint8 if necessary\n",
    "blurred_img_uint8 = np.uint8(blurred_img_gray)\n",
    "\n",
    "# Define the thresholds for the Canny edge detector\n",
    "low_threshold = 5\n",
    "high_threshold = 50\n",
    "\n",
    "# Call the Canny edge detector\n",
    "edges = cv2.Canny(image=blurred_img_uint8, threshold1=low_threshold, threshold2=high_threshold)\n",
    "np.sum(edges)\n",
    "edges\n"
   ]
  },
  {
   "cell_type": "code",
   "execution_count": null,
   "id": "222960df",
   "metadata": {},
   "outputs": [],
   "source": [
    "\n",
    "# Display the result using matplotlib\n",
    "plt.figure(figsize=(10, 10))\n",
    "plt.imshow(edges, cmap='gray', origin='lower')\n",
    "plt.title('Canny Edge Detector')\n",
    "plt.axis('off')\n",
    "plt.show()\n"
   ]
  },
  {
   "cell_type": "code",
   "execution_count": null,
   "id": "cf991746",
   "metadata": {},
   "outputs": [],
   "source": [
    "import cv2\n",
    "import numpy as np\n",
    "import matplotlib.pyplot as plt\n",
    "from ipywidgets import interact, IntSlider\n",
    "\n",
    "# Assuming blurred_img is your input image after applying Gaussian blur\n",
    "\n",
    "# If your image was originally in color, convert it to grayscale first\n",
    "if len(blurred_img.shape) == 3:  # Check if the image has multiple channels (i.e., color image)\n",
    "\tblurred_img_gray = cv2.cvtColor(blurred_img, cv2.COLOR_BGR2GRAY)\n",
    "else:\n",
    "\tblurred_img_gray = blurred_img\n",
    "\n",
    "# Convert to uint8 if necessary\n",
    "blurred_img_uint8 = np.uint8(blurred_img_gray)\n",
    "\n",
    "def canny_edge_detection(low_threshold, high_threshold):\n",
    "\t# Apply Canny edge detection\n",
    "\tedges = cv2.Canny(image=blurred_img_uint8, threshold1=low_threshold, threshold2=high_threshold)\n",
    "\t\n",
    "\t# Display the result using matplotlib\n",
    "\tplt.figure(figsize=(10, 10), num='canny_trial', clear=True)\n",
    "\tplt.imshow(edges, cmap='gray', origin='lower')\n",
    "\tplt.title(f'Canny Edge Detection (Low: {low_threshold}, High: {high_threshold})')\n",
    "\tplt.axis('off')\n",
    "\t# plt.show()\n",
    "\n",
    "# Create interactive sliders for the low and high thresholds\n",
    "interact(canny_edge_detection, \n",
    "\t\t low_threshold=IntSlider(min=0, max=255, step=1, value=50, description='Low Threshold'),\n",
    "\t\t high_threshold=IntSlider(min=0, max=255, step=1, value=150, description='High Threshold'));\n"
   ]
  },
  {
   "cell_type": "code",
   "execution_count": null,
   "id": "c1cc08a7",
   "metadata": {},
   "outputs": [],
   "source": [
    "plt.close()"
   ]
  },
  {
   "cell_type": "code",
   "execution_count": null,
   "id": "717288bf",
   "metadata": {},
   "outputs": [],
   "source": [
    "# Create a grid of coordinates for plotting arrows\n",
    "Y, X = np.meshgrid(np.arange(gradient_magnitude.shape[0]), np.arange(gradient_magnitude.shape[1]), indexing='ij')\n",
    "\n",
    "# Downsample the arrow plot for better visualization (optional)\n",
    "step = 1\n",
    "X_downsampled = X[::step, ::step]\n",
    "Y_downsampled = Y[::step, ::step]\n",
    "sobel_x_downsampled = sobel_x[::step, ::step]\n",
    "sobel_y_downsampled = sobel_y[::step, ::step]\n",
    "\n",
    "# Plotting the gradient magnitude and arrows representing the direction\n",
    "plt.figure(figsize=(10, 10))\n",
    "plt.imshow(gradient_magnitude, cmap='gray', origin='lower')\n",
    "plt.quiver(X_downsampled, Y_downsampled, sobel_x_downsampled, sobel_y_downsampled, \n",
    "\t\t   color='red', angles='xy', scale_units='xy') # , scale=5, width=0.01\n",
    "plt.title('Gradient Magnitude with Direction Arrows')\n",
    "plt.axis('off')\n",
    "plt.show()"
   ]
  },
  {
   "cell_type": "code",
   "execution_count": null,
   "id": "fb1ed731",
   "metadata": {},
   "outputs": [],
   "source": [
    "from scipy.signal import convolve2d\n",
    "from pyphocorehelpers.plotting.media_output_helpers import get_array_as_image\n",
    "\n",
    "posterior_image = active_captured_single_epoch_result.get_posterior_as_image(desired_width=2048, export_grayscale=True)\n",
    "# posterior_image\n",
    "\n",
    "\n",
    "# Define 8x8 blur filter kernel\n",
    "blur_kernel = np.ones((8, 8)) / 64\n",
    "\n",
    "# Apply blur to a 2D matrix\n",
    "blurred_matrix = convolve2d(active_captured_single_epoch_result.p_x_given_n, blur_kernel, mode='same', boundary='wrap') # wrong, the boundary='wrap' messes things up\n",
    "\n",
    "get_array_as_image(blurred_matrix, desired_height=400)\n",
    "\n",
    "\n"
   ]
  },
  {
   "cell_type": "code",
   "execution_count": null,
   "id": "905bb8c9",
   "metadata": {},
   "outputs": [],
   "source": [
    "{i:col for i, col in enumerate(a_decoder_decoded_epochs_result.active_filter_epochs.columns)}\n",
    "\n",
    "column_indicies = np.arange(12, 19)\n",
    "column_indicies"
   ]
  },
  {
   "cell_type": "code",
   "execution_count": null,
   "id": "1cd00ee0",
   "metadata": {},
   "outputs": [],
   "source": [
    "## 💾 Export Paginated Content\n",
    "# laps_paginated_multi_decoder_decoded_epochs_window.export_all_pages(curr_active_pipeline)\n",
    "laps_paginated_multi_decoder_decoded_epochs_window.export_all_pages(curr_active_pipeline)\n",
    "# laps_paginated_multi_decoder_decoded_epochs_window.export_decoder_pagination_controller_figure_page(curr_active_pipeline)\n"
   ]
  },
  {
   "cell_type": "code",
   "execution_count": null,
   "id": "eaa3119f",
   "metadata": {},
   "outputs": [],
   "source": [
    "# \n",
    "# next_pos_likelihood = TransitionMatrixComputations._predicted_probabilities_likelihood(a_binned_x_transition_matrix_higher_order_list, test_posterior, transition_matrix_order=transition_matrix_order)\n",
    "# predicted_probabilities_dict[a_decoder_name] = next_pos_likelihood\n",
    "\t\n",
    "# # next_pos_likelihood\n",
    "# next_pos_likelihood\n",
    "# display(test_posterior)\n",
    "\n",
    "_shared_kwargs = dict(xbins=test_pos_bins, ybins=test_pos_bins)\n",
    "\n",
    "out_test_markov_test_compare = BasicBinnedImageRenderingWindow(_diff, xbins=test_pos_bins, ybins=test_pos_bins,\n",
    "\t\t\t\t\t\t\t\t\t\tname=f'_diff', title=f\"_diff\", variable_label='_diff Matrix', scrollability_mode=LayoutScrollability.NON_SCROLLABLE,\n",
    "\t\t\t\t\t\t\t\t\t\tgrid_opacity=0.4, drop_below_threshold=1e-12)\n",
    "out_test_markov_test_compare.add_data(row=0, col=1, matrix=_measured, title='measured', **_shared_kwargs)\n",
    "out_test_markov_test_compare.add_data(row=0, col=2, matrix=_markov_ideal, title='markov_ideal', **_shared_kwargs)\n",
    "\n",
    "np.sum(np.isnan(_measured))\n",
    "np.sum(np.isnan(_markov_ideal))\n",
    "\n",
    "# T[np.isnan(T)] = float(nan_entries_replace_value)\n",
    "\n",
    "graphics_layout: pg.GraphicsLayout = out_test_markov_test_compare.graphics_layout\n",
    "# vb = l.addViewBox(lockAspect=True)\n",
    "# img = pg.ImageItem(np.random.normal(size=(100,100)))\n",
    "# vb.addItem(img)\n",
    "# vb.autoRange()\n",
    "# graphics_layout.nextColumn()\n",
    "# graphics_layout.setCo1\n"
   ]
  },
  {
   "cell_type": "code",
   "execution_count": null,
   "id": "bb3dd523",
   "metadata": {},
   "outputs": [],
   "source": [
    "# agreement_with_observation: [0.0387324 0.00236179 3.75683e-05 1.06515e-15]"
   ]
  },
  {
   "cell_type": "code",
   "execution_count": null,
   "id": "5c290b27",
   "metadata": {},
   "outputs": [],
   "source": [
    "# 245 * transition_matrix_t_bin_size\n",
    "a_train_decoded_results.time_bin_edges[an_epoch_idx]"
   ]
  },
  {
   "cell_type": "code",
   "execution_count": null,
   "id": "305cda23",
   "metadata": {},
   "outputs": [],
   "source": [
    "[len(v) for v in a_train_decoded_results.time_bin_edges] # [6, 4, 6, 4, 246, 4, 494, 3, 4, 7, 4, 5, 4, 5, 4, 7, 4, 4, 5, 4, 3, 160, 6]\n"
   ]
  },
  {
   "cell_type": "code",
   "execution_count": null,
   "id": "7d020854",
   "metadata": {},
   "outputs": [],
   "source": [
    "a_train_decoded_results.filter_epochs"
   ]
  },
  {
   "cell_type": "code",
   "execution_count": null,
   "id": "62e74e6c",
   "metadata": {},
   "outputs": [],
   "source": [
    "predicited_posteriors_agreement_with_observation_list_dict['long_LR']\n"
   ]
  },
  {
   "cell_type": "code",
   "execution_count": null,
   "id": "376a2c74",
   "metadata": {},
   "outputs": [],
   "source": [
    "import awkward as ak # `simpler_compute_measured_vs_expected_firing_rates` new Awkward array for ragged arrays\n",
    "\n",
    "# np.stack(\n",
    "# [v for k, v in predicited_posteriors_agreement_with_observation_list_dict.items()]\n",
    "\t# )\n",
    "\t\n",
    "{k:(list(np.shape(m) for m in v.p_x_given_n_list)) for k, v in train_decoded_results_dict.items()}\n",
    "\n",
    "# {'long_LR': [(57, 5), (57, 2), (57, 5), (57, 3), (57, 3), (57, 3), (57, 6), (57, 4), (57, 5), (57, 1), (57, 3), (57, 6), (57, 3), (57, 3), (57, 4), (57, 6), (57, 8), (57, 9), (57, 4), (57, 4), (57, 4), (57, 5)],\n",
    "#  'long_RL': [(57, 5), (57, 3), (57, 5), (57, 3), (57, 245), (57, 3), (57, 1), (57, 2), (57, 3), (57, 6), (57, 3), (57, 4), (57, 3), (57, 4), (57, 3), (57, 6), (57, 3), (57, 3), (57, 4), (57, 3), (57, 2), (57, 159), (57, 5)],\n",
    "#  'short_LR': [(57, 4), (57, 3), (57, 2), (57, 4), (57, 5), (57, 4), (57, 5), (57, 4), (57, 3), (57, 3), (57, 2), (57, 216), (57, 1), (57, 101), (57, 2), (57, 4), (57, 3), (57, 5), (57, 3), (57, 2), (57, 3), (57, 3)],\n",
    "#  'short_RL': [(57, 4), (57, 2), (57, 2), (57, 2), (57, 3), (57, 3), (57, 2), (57, 1), (57, 3), (57, 2), (57, 1), (57, 2), (57, 3), (57, 4), (57, 2), (57, 3), (57, 3), (57, 7), (57, 7), (57, 3), (57, 2), (57, 1), (57, 7)]}\n",
    "\n",
    "\n",
    "\n",
    "## Awkward Array (Ragged-array) version:\n",
    "p_x_given_n_arr_dict = {k:ak.Array(v.p_x_given_n_list) for k, v in train_decoded_results_dict.items()}\n",
    "p_x_given_n_arr_dict\n",
    "\n",
    "num_positionbins_in_epoch = {k:ak.num(v, axis=1).to_numpy() for k, v in p_x_given_n_arr_dict.items()}\n",
    "\n",
    "# num_timebins_in_epoch = {k:ak.num(v, axis=-1).to_numpy() for k, v in p_x_given_n_arr_dict.items()}\n",
    "num_timebins_in_epoch = {k:ak.num(v, axis=2).to_numpy() for k, v in p_x_given_n_arr_dict.items()}\n",
    "num_total_flat_timebins: int = np.sum(num_timebins_in_epoch)\n",
    "\n",
    "print(f'num_neurons: {num_neurons}, num_timebins_in_epoch: {num_timebins_in_epoch},\\n\\tnum_total_flat_timebins: {num_total_flat_timebins}')\n",
    "\n",
    "# ragged_expected_num_spikes_arr = ragged_expected_firing_rates_arr * a_decoder_result.decoding_time_bin_size\n",
    "# ragged_observed_from_expected_diff = ragged_expected_num_spikes_arr - ak.Array([v.T for v in a_decoder_result.spkcount])\n",
    "\n",
    "\n",
    "# ## By epoch quantities, this is correct:\n",
    "# observed_from_expected_diff_max = ak.to_regular(ak.max(ragged_observed_from_expected_diff, axis=1)).to_numpy().T # type: 120 * 30 * float64\n",
    "# observed_from_expected_diff_ptp = ak.to_regular(ak.ptp(ragged_observed_from_expected_diff, axis=1)).to_numpy().T # type: 120 * 30 * float64\n",
    "# observed_from_expected_diff_mean = ak.to_regular(ak.mean(ragged_observed_from_expected_diff, axis=1)).to_numpy().T # type: 120 * 30 * float64\n",
    "# observed_from_expected_diff_std = ak.to_regular(ak.std(ragged_observed_from_expected_diff, axis=1)).to_numpy().T # type: 120 * 30 * float64\n"
   ]
  },
  {
   "cell_type": "code",
   "execution_count": null,
   "id": "58e63958",
   "metadata": {},
   "outputs": [],
   "source": [
    "a_train_decoded_results.nbins\n",
    "# np.squeeze(predicited_posteriors)\n"
   ]
  },
  {
   "cell_type": "code",
   "execution_count": null,
   "id": "933a99ff",
   "metadata": {},
   "outputs": [],
   "source": [
    "from pyphoplacecellanalysis.Pho2D.stacked_epoch_slices import PhoPaginatedMultiDecoderDecodedEpochsWindow, DecodedEpochSlicesPaginatedFigureController, EpochSelectionsObject, ClickActionCallbacks\n",
    "## INPUTS train_decoded_results_dict\n",
    "# decoder_decoded_epochs_result_dict: generic\n",
    "app, paginated_multi_decoder_decoded_epochs_window, pagination_controller_dict = PhoPaginatedMultiDecoderDecodedEpochsWindow.init_from_track_templates(curr_active_pipeline, track_templates,\n",
    "\t\t\t\t\t\t\t\t\t\t\t\t\t\t\t\t\t\t\t\t\t\t\t\tdecoder_decoded_epochs_result_dict=train_decoded_results_dict,\n",
    "\t\t\t\t\t\t\t\t\t\t\t\t\t\t\t\t\t\t\t\t\t\t\t\tepochs_name='lap',\n",
    "\t\t\t\t\t\t\t\t\t\t\t\t\t\t\t\t\t\t\t\t\t\t\t\tincluded_epoch_indicies=None, debug_print=False,\n",
    "\t\t\t\t\t\t\t\t\t\t\t\t\t\t\t\t\t\t\t\t\t\t\t\tparams_kwargs={'enable_per_epoch_action_buttons': False,\n",
    "\t\t\t\t\t\t\t\t\t\t\t\t\t\t\t\t\t\t\t\t\t\t\t\t\t'skip_plotting_most_likely_positions': True, 'skip_plotting_measured_positions': False, \n",
    "\t\t\t\t\t\t\t\t\t\t\t\t\t\t\t\t\t\t\t\t\t\t\t\t\t'enable_decoded_most_likely_position_curve': False, 'enable_radon_transform_info': False, 'enable_weighted_correlation_info': False,\n",
    "\t\t\t\t\t\t\t\t\t\t\t\t\t\t\t\t\t\t\t\t\t\t\t\t\t# 'enable_radon_transform_info': False, 'enable_weighted_correlation_info': False,\n",
    "\t\t\t\t\t\t\t\t\t\t\t\t\t\t\t\t\t\t\t\t\t\t\t\t\t# 'disable_y_label': True,\n",
    "\t\t\t\t\t\t\t\t\t\t\t\t\t\t\t\t\t\t\t\t\t\t\t\t\t'isPaginatorControlWidgetBackedMode': True,\n",
    "\t\t\t\t\t\t\t\t\t\t\t\t\t\t\t\t\t\t\t\t\t\t\t\t\t'enable_update_window_title_on_page_change': False, 'build_internal_callbacks': True,\n",
    "\t\t\t\t\t\t\t\t\t\t\t\t\t\t\t\t\t\t\t\t\t\t\t\t\t# 'debug_print': True,\n",
    "\t\t\t\t\t\t\t\t\t\t\t\t\t\t\t\t\t\t\t\t\t\t\t\t\t'max_subplots_per_page': 10,\n",
    "\t\t\t\t\t\t\t\t\t\t\t\t\t\t\t\t\t\t\t\t\t\t\t\t\t'scrollable_figure': True,\n",
    "\t\t\t\t\t\t\t\t\t\t\t\t\t\t\t\t\t\t\t\t\t\t\t\t\t# 'posterior_heatmap_imshow_kwargs': dict(vmin=0.0075),\n",
    "\t\t\t\t\t\t\t\t\t\t\t\t\t\t\t\t\t\t\t\t\t\t\t\t\t'use_AnchoredCustomText': False,\n",
    "\t\t\t\t\t\t\t\t\t\t\t\t\t\t\t\t\t\t\t\t\t\t\t\t\t'should_suppress_callback_exceptions': False,\n",
    "\t\t\t\t\t\t\t\t\t\t\t\t\t\t\t\t\t\t\t\t\t\t\t\t})\n"
   ]
  },
  {
   "cell_type": "code",
   "execution_count": null,
   "id": "16dc0e98",
   "metadata": {},
   "outputs": [],
   "source": [
    "paginated_multi_decoder_decoded_epochs_window.add_data_overlays(\n",
    "\t\n",
    ")"
   ]
  },
  {
   "cell_type": "code",
   "execution_count": null,
   "id": "bdf1fccd",
   "metadata": {},
   "outputs": [],
   "source": [
    "\n",
    "# call the line magic\n",
    "%config_ndarray_preview width=500 \n",
    "\n",
    "## Test directly to one another:\n",
    "# binned_x_transition_matrix_higher_order_list_dict\n",
    "# makov_assumed_binned_x_transition_matrix_higher_order_list_dict\n",
    "\n",
    "# single decoder for now\n",
    "a_decoder_idx = 0\n",
    "a_decoder_name = 'long_LR'\n",
    "transition_matrix_order = 4\n",
    "_measured = binned_x_transition_matrix_higher_order_list_dict[a_decoder_name][transition_matrix_order]\n",
    "_markov_ideal = makov_assumed_binned_x_transition_matrix_higher_order_list_dict[a_decoder_name][transition_matrix_order]\n",
    "\n",
    "# np.sum(_measured, axis=0) # test column normalization\n",
    "# np.sum(_measured, axis=1) # test row normalization\n",
    "\n",
    "# np.sum(_markov_ideal, axis=0)\n",
    "# np.sum(_markov_ideal, axis=1)\n",
    "\n",
    "## test row normalization:\n",
    "assert np.allclose(np.sum(_measured, axis=1), 1), f\"not row normalized!\"\n",
    "assert np.allclose(np.sum(_markov_ideal, axis=1), 1), f\"not row normalized!\"\n",
    "\n",
    "_measured\n",
    "_markov_ideal\n",
    "\n",
    "\n",
    "# M = M / M.sum(axis=1)[:, np.newaxis] # row sum\n",
    "# # M = M / M.sum(axis=0)[np.newaxis,:] # col sum\n",
    "# # ((M.T / M.sum(axis=1, keepdims=True)).T - (M / M.sum(axis=1)[:, np.newaxis]))\n",
    "\n",
    "# M = (M / M.sum(axis=1, keepdims=True)) # row sum\n",
    "\n",
    "# np.sum(M, axis=0)\n",
    "# np.sum(M, axis=1)\n",
    "\n",
    "_diff = np.abs(_measured - _markov_ideal)\n",
    "_diff\n"
   ]
  },
  {
   "cell_type": "markdown",
   "id": "64b664d0",
   "metadata": {},
   "source": [
    "### Generate test position posteriors"
   ]
  },
  {
   "cell_type": "code",
   "execution_count": null,
   "id": "3e5ef856",
   "metadata": {},
   "outputs": [],
   "source": [
    "## Span mode:\n",
    "start_idx: int = 9\n",
    "\n",
    "span_size: int = 5 # span 5 bins sequentially, then step\n",
    "step_size: int = 3\n",
    "num_repeats: int = 4\n",
    "step_arr = np.array(list(np.repeat(1.0, span_size)) + list(np.repeat(0.0, step_size)))\n",
    "step_arr\n",
    "test_posterior = np.tile(step_arr, num_repeats)\n",
    "test_posterior\n",
    "# [5, 3] # 5 ON, 3 OFF (8 total)\n",
    "\n",
    "\n",
    "\n",
    "\n",
    "# stop_idx = (n_generated_t_bins * step_size)"
   ]
  },
  {
   "cell_type": "code",
   "execution_count": null,
   "id": "349a47e9",
   "metadata": {},
   "outputs": [],
   "source": [
    "# call the line magic\n",
    "%config_ndarray_preview width=50 \n",
    "\n",
    "predicted_probabilities_dict = {}\n",
    "# for a_decoder_idx, (a_decoder_name, a_binned_x_transition_matrix_higher_order_list) in enumerate(binned_x_transition_matrix_higher_order_list_dict.items()):\n",
    "# single decoder for now\n",
    "a_decoder_idx = 0\n",
    "a_decoder_name = 'long_LR'\n",
    "a_binned_x_transition_matrix_higher_order_list: List[NDArray] = deepcopy(binned_x_transition_matrix_higher_order_list_dict[a_decoder_name])\n",
    "# single-decoder\n",
    "\n",
    "# test_posterior, (test_tbins, test_pos_bins) = TransitionMatrixComputations._generate_testing_posteriors(decoders_dict, a_decoder_name, test_posterior_type='directly_adjacent_pos_bins')\n",
    "test_posterior, (test_tbins, test_pos_bins) = TransitionMatrixComputations._generate_testing_posteriors(decoders_dict, a_decoder_name, test_posterior_type='step_adjacent_pos_bins', n_generated_t_bins=3, blur_vertical_std_dev=0.1, blur_horizontal_std_dev=0.1)\n",
    "n_xbins = len(test_pos_bins)\n",
    "\n",
    "np.shape(test_posterior)\n",
    "test_posterior\n"
   ]
  },
  {
   "cell_type": "code",
   "execution_count": null,
   "id": "0fea5ce9",
   "metadata": {},
   "outputs": [],
   "source": [
    "# a_tbin_idx = 0\n",
    "# a_next_tbin_idx = a_tbin_idx + 1 # the predicted time-bin index\n",
    "\n",
    "# an_observed_posterior = np.atleast_2d(test_posterior[:, a_tbin_idx]).T # (n_x, 1)\n",
    "# an_actual_observed_next_step_posterior = np.atleast_2d(test_posterior[:, a_next_tbin_idx]).T # (n_x, 1)\n",
    "\n",
    "# an_observed_posterior\n",
    "\n",
    "# ## NOTE: transition_matrix_order does seem to do the identity transformation\n",
    "# transition_matrix_order_idx: int = 4\n",
    "# transition_matrix_order: int = transition_matrix_order_idx + 1 ## order is index + 1\n",
    "\n",
    "# ## single time-bin\n",
    "# a_trans_prob_mat = a_binned_x_transition_matrix_higher_order_list[transition_matrix_order_idx] # (n_x, n_x)\n",
    "# a_next_t_predicted_pos_probs = a_trans_prob_mat @ an_observed_posterior # (n_x, 1)\n",
    "# # a_next_t_predicted_pos_probs\n",
    "\n",
    "# np.hstack([an_observed_posterior, a_next_t_predicted_pos_probs]) # (n_x, 1)\n",
    "\n",
    "# # Compare real:\n",
    "# np.hstack([an_observed_posterior, an_actual_observed_next_step_posterior])\n",
    "\n",
    "\n",
    "predicited_posteriors = TransitionMatrixComputations._perform_forward_prediction(a_binned_x_transition_matrix_higher_order_list, test_posterior, transition_matrix_order_start_idx=1)\n",
    "predicited_posteriors\n",
    "\n",
    "# # Compare real:\n",
    "## Observed posteriors:\n",
    "observed_posteriors = deepcopy(test_posterior[:, 1:])\n",
    "observed_posteriors\n",
    "\n",
    "assert np.shape(observed_posteriors) == np.shape(predicited_posteriors)\n",
    "_prediction_observation_diff = observed_posteriors - predicited_posteriors\n",
    "_prediction_observation_diff\n",
    "# np.hstack([an_observed_posterior, an_actual_observed_next_step_posterior])\n"
   ]
  },
  {
   "cell_type": "code",
   "execution_count": null,
   "id": "013e5308",
   "metadata": {},
   "outputs": [],
   "source": [
    "%config_ndarray_preview height=200\n",
    "\n",
    "def _perform_future_sliding_predictions(a_binned_x_transition_matrix_higher_order_list, test_posterior, transition_matrix_order_start_idx:int=1, max_transition_matrix_order_idx=None):\n",
    "\t\"\"\" takes a a_binned_x_transition_matrix_higher_order_list and a position posterior\n",
    "\t\n",
    "\tUses the first time bin to and the `a_binned_x_transition_matrix_higher_order_list` to predict the future bins:\n",
    "\n",
    "\tUsage:        \n",
    "\t\tpredicited_posteriors = TransitionMatrixComputations._perform_forward_prediction(a_binned_x_transition_matrix_higher_order_list, test_posterior)\n",
    "\t\tpredicited_posteriors\n",
    "\n",
    "\t\t# # Compare real:\n",
    "\t\t## Observed posteriors:\n",
    "\t\tobserved_posteriors = deepcopy(test_posterior[:, 1:])\n",
    "\n",
    "\t\tassert np.shape(observed_posteriors) == np.shape(predicited_posteriors)\n",
    "\t\t_prediction_observation_diff = observed_posteriors - predicited_posteriors\n",
    "\t\t_prediction_observation_diff\n",
    "\n",
    "\t\"\"\"\n",
    "\t# n_time_bins: int = np.shape(test_posterior)[1]\n",
    "\t# n_predicted_time_bins = n_time_bins - 1\n",
    "\tif max_transition_matrix_order_idx is None:\n",
    "\t\tmax_transition_matrix_order_idx = len(a_binned_x_transition_matrix_higher_order_list) - transition_matrix_order_start_idx\n",
    "\t\t\n",
    "\t# print(f'np.shape(test_posterior): {np.shape(test_posterior)}, n_time_bins: {n_time_bins}, n_predicted_time_bins: {n_predicted_time_bins}')\n",
    "\t# Only use the first posterior\n",
    "\tan_initial_observed_posterior = np.atleast_2d(test_posterior[:, 0]).T # (n_x, 1)\n",
    "\ta_following_observed_posterior = np.atleast_2d(test_posterior[:, 1]).T\n",
    "\n",
    "\tpredicited_posteriors = []\n",
    "\t# for a_tbin_idx in np.arange(start=1, stop=n_time_bins):\n",
    "\tfor i in np.arange(transition_matrix_order_start_idx, max_transition_matrix_order_idx):\n",
    "\t\t## NOTE: transition_matrix_order does seem to do the identity transformation\n",
    "\t\ttransition_matrix_order_idx: int = transition_matrix_order_start_idx + i\n",
    "\t\t# transition_matrix_order: int = transition_matrix_order_idx + 1 ## order is index + 1\n",
    "\n",
    "\t\t## single time-bin\n",
    "\t\ta_trans_prob_mat = a_binned_x_transition_matrix_higher_order_list[transition_matrix_order_idx] # (n_x, n_x)\n",
    "\t\t# a_next_t_predicted_pos_probs = a_trans_prob_mat @ an_observed_posterior # (n_x, 1)\n",
    "\t\ta_next_t_predicted_pos_probs = a_trans_prob_mat @ an_initial_observed_posterior # (n_x, 1)\n",
    "\n",
    "\t\t# a_next_t_predicted_pos_probs\n",
    "\t\tpredicited_posteriors.append(a_next_t_predicted_pos_probs)\n",
    "\n",
    "\tpredicited_posteriors = np.hstack(predicited_posteriors) # (n_x, n_predicted_time_bins)\n",
    "\treturn predicited_posteriors, a_following_observed_posterior\n",
    "\n",
    "\n",
    "predicited_posteriors, a_following_observed_posterior = _perform_future_sliding_predictions(a_binned_x_transition_matrix_higher_order_list, test_posterior, transition_matrix_order_start_idx=0, max_transition_matrix_order_idx=15)\n",
    "predicited_posteriors\n",
    "a_following_observed_posterior\n",
    "\n",
    "\n",
    "np.array([np.dot(v, a_following_observed_posterior) for v in predicited_posteriors.T])\n",
    "\n",
    "# # # Compare real:\n",
    "# ## Observed posteriors:\n",
    "# observed_posteriors = deepcopy(test_posterior[:, 1:])\n",
    "# observed_posteriors\n",
    "\n",
    "# assert np.shape(observed_posteriors) == np.shape(predicited_posteriors)\n",
    "# _prediction_observation_diff = observed_posteriors - predicited_posteriors\n",
    "# _prediction_observation_diff\n"
   ]
  },
  {
   "cell_type": "code",
   "execution_count": null,
   "id": "07bdb3b7",
   "metadata": {},
   "outputs": [],
   "source": [
    "test_generated_events = TransitionMatrixComputations._generate_expected_replay_sequences(a_binned_x_transition_matrix_higher_order_list=a_binned_x_transition_matrix_higher_order_list, n_generated_events=5, n_generated_t_bins=10)\n",
    "test_generated_events"
   ]
  },
  {
   "cell_type": "code",
   "execution_count": null,
   "id": "99791cb0",
   "metadata": {},
   "outputs": [],
   "source": [
    "%config_ndarray_preview height=300 \n",
    "for i in test_generated_events:\n",
    "\tdisplay(i)\n"
   ]
  },
  {
   "cell_type": "code",
   "execution_count": null,
   "id": "825fc509",
   "metadata": {},
   "outputs": [],
   "source": [
    "np.stack(test_generated_events)"
   ]
  },
  {
   "cell_type": "code",
   "execution_count": null,
   "id": "7159cb94",
   "metadata": {},
   "outputs": [],
   "source": [
    "test_generated_events[0]\n",
    "test_generated_events[1]\n",
    "test_generated_events[2]"
   ]
  },
  {
   "cell_type": "code",
   "execution_count": null,
   "id": "fec36f9d",
   "metadata": {},
   "outputs": [],
   "source": [
    "window_title = 'TransformMatrix: Fwd Predicted vs. Observed Position Posteriors'\n",
    "a_spec = [ # two rows: (2 columns, 1 column)\n",
    "\t({'predicted':predicited_posteriors}, {'observed':observed_posteriors},), # single row (2 columns)\n",
    "\t({'diff':_prediction_observation_diff}, )\n",
    "]\n",
    "out_test_markov_test_compare = BasicBinnedImageRenderingWindow.init_from_data_spec(a_spec, window_title=window_title, xbins=test_pos_bins, ybins=test_pos_bins)"
   ]
  },
  {
   "cell_type": "code",
   "execution_count": null,
   "id": "ec781160",
   "metadata": {},
   "outputs": [],
   "source": [
    "window_title = 'Transform Matrix: Measured v. Markov Ideal'\n",
    "a_spec = [ # two rows: (2 columns, 1 column)\n",
    "\t({'measured':_measured}, {'markov_ideal':_markov_ideal},), # single row (2 columns)\n",
    "\t({'diff':_diff}, )\n",
    "]\n",
    "out_test_markov_test_compare = BasicBinnedImageRenderingWindow.init_from_data_spec(a_spec, window_title=window_title, xbins=test_pos_bins, ybins=test_pos_bins)\n"
   ]
  },
  {
   "cell_type": "code",
   "execution_count": null,
   "id": "25028ff6",
   "metadata": {},
   "outputs": [],
   "source": [
    "# \n",
    "# next_pos_likelihood = TransitionMatrixComputations._predicted_probabilities_likelihood(a_binned_x_transition_matrix_higher_order_list, test_posterior, transition_matrix_order=transition_matrix_order)\n",
    "# predicted_probabilities_dict[a_decoder_name] = next_pos_likelihood\n",
    "\t\n",
    "# # next_pos_likelihood\n",
    "# next_pos_likelihood\n",
    "# display(test_posterior)\n",
    "\n",
    "_shared_kwargs = dict(xbins=test_pos_bins, ybins=test_pos_bins)\n",
    "\n",
    "out_test_markov_test_compare = BasicBinnedImageRenderingWindow(_diff, xbins=test_pos_bins, ybins=test_pos_bins,\n",
    "\t\t\t\t\t\t\t\t\t\tname=f'_diff', title=f\"_diff\", variable_label='_diff Matrix', scrollability_mode=LayoutScrollability.NON_SCROLLABLE,\n",
    "\t\t\t\t\t\t\t\t\t\tgrid_opacity=0.4, drop_below_threshold=1e-12)\n",
    "out_test_markov_test_compare.add_data(row=0, col=1, matrix=_measured, title='measured', **_shared_kwargs)\n",
    "out_test_markov_test_compare.add_data(row=0, col=2, matrix=_markov_ideal, title='markov_ideal', **_shared_kwargs)\n",
    "\n",
    "np.sum(np.isnan(_measured))\n",
    "np.sum(np.isnan(_markov_ideal))\n",
    "\n",
    "# T[np.isnan(T)] = float(nan_entries_replace_value)\n",
    "\n",
    "graphics_layout: pg.GraphicsLayout = out_test_markov_test_compare.graphics_layout\n",
    "# vb = l.addViewBox(lockAspect=True)\n",
    "# img = pg.ImageItem(np.random.normal(size=(100,100)))\n",
    "# vb.addItem(img)\n",
    "# vb.autoRange()\n",
    "# graphics_layout.nextColumn()\n",
    "# graphics_layout.setCo1\n"
   ]
  },
  {
   "cell_type": "code",
   "execution_count": null,
   "id": "396790dd",
   "metadata": {},
   "outputs": [],
   "source": [
    "from silx.gui.plot.CompareImages import CompareImages\n",
    "\n",
    "window = CompareImages()\n",
    "\n",
    "## Observed posteriors:\n",
    "observed_posteriors = deepcopy(test_posterior[:, 1:])\n",
    "\n",
    "window.setData(predicited_posteriors, observed_posteriors)\n",
    "\n",
    "window.show()"
   ]
  },
  {
   "cell_type": "code",
   "execution_count": null,
   "id": "c3038e36",
   "metadata": {},
   "outputs": [],
   "source": [
    "\n",
    "next_pos_likelihood = TransitionMatrixComputations._predicted_probabilities_likelihood(a_binned_x_transition_matrix_higher_order_list, test_posterior, transition_matrix_order=transition_matrix_order)\n",
    "# predicted_probabilities_dict[a_decoder_name] = next_pos_likelihood\n",
    "  \n",
    "# next_pos_likelihood\n",
    "next_pos_likelihood\n",
    "display(test_posterior)"
   ]
  },
  {
   "cell_type": "markdown",
   "id": "f79ade1d",
   "metadata": {},
   "source": [
    "Attempt at proper reverse likelihoods"
   ]
  },
  {
   "cell_type": "code",
   "execution_count": null,
   "id": "10f414e5",
   "metadata": {},
   "outputs": [],
   "source": [
    "a_tbin_idx = 2\n",
    "start_transition_matrix_order: int = 0\n",
    "# start_transition_matrix_order: int = 10 # start at index 10\n",
    "\n",
    "an_observed_posterior = np.atleast_2d(test_posterior[:, a_tbin_idx]).T # (n_x, 1)\n",
    "an_observed_posterior\n",
    "\n",
    "preceeding_tbin_idxs = np.arange(a_tbin_idx)\n",
    "\n",
    "num_timesteps_back: int = 0\n",
    "t_step_pos_likelihoods = []\n",
    "for a_preceding_tbin_idx in reversed(preceeding_tbin_idxs):\n",
    "\t# num_timesteps_back: num timesteps into the past\n",
    "\tnum_timesteps_back = num_timesteps_back + 1\n",
    "\ttransition_order: int = start_transition_matrix_order + num_timesteps_back\n",
    "\t\n",
    "\tprint(f'{num_timesteps_back = }, {a_preceding_tbin_idx = }, {transition_order = }')\n",
    "\ta_trans_prob_mat = a_binned_x_transition_matrix_higher_order_list[transition_order] # (n_x, n_x)\n",
    "\ta_t_step_pos_likelihood = TransitionMatrixComputations._likelihood_of_observation(an_observed_posterior, (a_trans_prob_mat @ np.atleast_2d(test_posterior[:, a_preceding_tbin_idx]).T)) # past posterior\n",
    "\tt_step_pos_likelihoods.append(a_t_step_pos_likelihood)\n",
    "\t\n",
    "t_step_pos_likelihoods"
   ]
  },
  {
   "cell_type": "code",
   "execution_count": null,
   "id": "ecd14152",
   "metadata": {},
   "outputs": [],
   "source": [
    "next_tbin_idx = a_tbin_idx+1\n",
    "a_next_t_step_obs_posterior = np.atleast_2d(test_posterior[:, next_tbin_idx]).T # (n_x, 1)\n",
    "next_pos_likelihood = TransitionMatrixComputations._likelihood_of_observation(a_next_t_step_obs_posterior, next_pos_likelihood)\n",
    "\n",
    "\n",
    "\n",
    "# predicted_probabilities_dict['long_LR']\n",
    "# predicted_probabilities_dict['long_LR'][0]\n",
    "# predicted_probabilities_dict['long_LR'][0].shape # (58, 58)\n",
    "# np.atleast_2d(test_posterior[:, a_tbin_idx]).T"
   ]
  },
  {
   "cell_type": "code",
   "execution_count": null,
   "id": "8abe31f4",
   "metadata": {},
   "outputs": [],
   "source": [
    "test_posterior"
   ]
  },
  {
   "cell_type": "code",
   "execution_count": null,
   "id": "ba26403e",
   "metadata": {},
   "outputs": [],
   "source": [
    "out_test_posterior = BasicBinnedImageRenderingWindow(test_posterior, test_tbins, test_pos_bins,\n",
    "\t\t\t\t\t\t\t\t\t\tname=f'test_posterior', title=f\"test_posterior\", variable_label='test_posterior Matrix', scrollability_mode=LayoutScrollability.NON_SCROLLABLE,\n",
    "\t\t\t\t\t\t\t\t\t\tgrid_opacity=0.4)\n"
   ]
  },
  {
   "cell_type": "code",
   "execution_count": null,
   "id": "5cf33094",
   "metadata": {},
   "outputs": [],
   "source": [
    "from pyphoplacecellanalysis.General.Pipeline.Stages.DisplayFunctions.DecoderPredictionError import plot_1D_most_likely_position_comparsions\n",
    "\n",
    "curr_time_bins = test_tbins\n",
    "_temp_fig, curr_ax = plot_1D_most_likely_position_comparsions(measured_position_df=None, ax=None, time_window_centers=curr_time_bins, variable_name='test_posterior', xbin=test_pos_bins,\n",
    "\tposterior=test_posterior,\n",
    "\tactive_most_likely_positions_1D=None,\n",
    "\t)"
   ]
  },
  {
   "cell_type": "code",
   "execution_count": null,
   "id": "50cf9e00",
   "metadata": {},
   "outputs": [],
   "source": [
    "_temp_fig, curr_ax = plot_1D_most_likely_position_comparsions(measured_position_df=None, ax=None, time_window_centers=curr_time_bins, variable_name='predicted_probabilities_dict', xbin=test_pos_bins,\n",
    "\tposterior=predicted_probabilities_dict['long_LR'],\n",
    "\tactive_most_likely_positions_1D=None,\n",
    "\t)"
   ]
  },
  {
   "cell_type": "code",
   "execution_count": null,
   "id": "55d068a0",
   "metadata": {},
   "outputs": [],
   "source": [
    "# Visualization ______________________________________________________________________________________________________ #\n",
    "from pyphoplacecellanalysis.GUI.PyQtPlot.BinnedImageRenderingWindow import BasicBinnedImageRenderingWindow, LayoutScrollability\n",
    "\n",
    "out = BasicBinnedImageRenderingWindow(binned_x_transition_matrix_higher_order_list_dict[a_decoder_name][2], a_pf1D.xbin_labels, a_pf1D.xbin_labels, name='binned_x_transition_matrix', title=\"Transition Matrix for binned x (from, to)\", variable_label='Transition Matrix', scrollability_mode=LayoutScrollability.NON_SCROLLABLE)"
   ]
  },
  {
   "cell_type": "code",
   "execution_count": null,
   "id": "413ae0a7",
   "metadata": {},
   "outputs": [],
   "source": [
    "out_decoded = BasicBinnedImageRenderingWindow(decoded_binned_x_transition_matrix_higher_order_list[0], active_one_step_decoder.xbin_centers, active_one_step_decoder.xbin_centers, name='decoded_binned_x_transition_matrix', title=\"DECODED Transition Matrix for binned x (from, to)\", variable_label='Transition Matrix', scrollability_mode=LayoutScrollability.NON_SCROLLABLE)\n"
   ]
  },
  {
   "cell_type": "code",
   "execution_count": null,
   "id": "038b729c",
   "metadata": {},
   "outputs": [],
   "source": [
    "binned_x_transition_matrix_higher_order_list = binned_x_transition_matrix_higher_order_list_dict[a_decoder_name]\n",
    "\n",
    "i = 0\n",
    "out = BasicBinnedImageRenderingWindow(binned_x_transition_matrix_higher_order_list[i], decoders_dict[a_decoder_name].xbin_centers, decoders_dict[a_decoder_name].xbin_centers, name=f'binned_x_transition_matrix[\"{a_decoder_name}\"]', title=f\"Transition Matrix for binned x (from, to) for '{a_decoder_name}'\", variable_label='Transition Matrix', scrollability_mode=LayoutScrollability.NON_SCROLLABLE)\n",
    "\n",
    "# i = np.arange(len(binned_x_transition_matrix_higher_order_list), step=2)\n",
    "for i in np.arange(len(binned_x_transition_matrix_higher_order_list), step=7):\n",
    "\tout.add_data(row=i, col=0, matrix=binned_x_transition_matrix_higher_order_list[i], xbins=decoders_dict[a_decoder_name].xbin_centers, ybins= decoders_dict[a_decoder_name].xbin_centers, name=f'binned_x_transition_matrix[{i}]', title='', variable_label=f'Transition Matrix[{i}]')\n",
    "\n",
    "\n",
    "\n",
    "# out.add_data(row=2, col=0, matrix=short_decoded_binned_x_transition_matrix_higher_order_list[i], xbins=decoders_dict[a_decoder_name].xbin_labels, ybins= decoders_dict[a_decoder_name].xbin_labels, name='short_decoded_binned_x_transition_matrix', title='Short DECODED Transition Matrix', variable_label='short decoded')\n",
    "# out.add_data(row=1, col=0, matrix=binned_x_transition_matrix_higher_order_list[1], xbins=pf1D.xbin_labels, ybins=pf1D.ybin_labels, name='binned_x_transition_matrix^2', title='2nd Order Transition Matrix for binned x (from, to)', variable_label='2nd Order Transition Matrix') # , scrollability_mode=LayoutScrollability.NON_SCROLLABLE\n",
    "# out.add_data(row=2, col=0, matrix=binned_x_transition_matrix_higher_order_list[2], xbins=pf1D.xbin_labels, ybins=pf1D.ybin_labels, name='binned_x_transition_matrix^3', title='3rd Order Transition Matrix for binned x (from, to)', variable_label='3rd Order Transition Matrix') # , scrollability_mode=LayoutScrollability.NON_SCROLLABLE\n"
   ]
  },
  {
   "cell_type": "code",
   "execution_count": null,
   "id": "dd18c2ea",
   "metadata": {},
   "outputs": [],
   "source": [
    "## Computer vision cost function"
   ]
  },
  {
   "cell_type": "code",
   "execution_count": null,
   "id": "a5dd51ff",
   "metadata": {},
   "outputs": [],
   "source": []
  },
  {
   "cell_type": "markdown",
   "id": "70be1913",
   "metadata": {},
   "source": [
    "# 🛑 Time-based Transition Matrix"
   ]
  },
  {
   "cell_type": "code",
   "execution_count": null,
   "id": "d3e3d783",
   "metadata": {},
   "outputs": [],
   "source": [
    "from scipy.sparse import csr_matrix\n",
    "\n",
    "def _time_transition_matrix(df: pd.DataFrame, bin_size=0.25): # \"0.25S\"\n",
    "\t\"\"\" attempts to determine a spike transition matrix from continuously sampled events (like spike times) given a specified bin_size \n",
    "\t\n",
    "\t\"\"\"\n",
    "\t# df[\"bin\"] = pd.cut(df[\"t_rel_seconds\"], bins=pd.timedelta_range(df[\"t_rel_seconds\"].min(), df[\"t_rel_seconds\"].max(), freq=bin_size))\n",
    "\t# df[\"bin\"] = pd.cut(\n",
    "\t# \tpd.to_timedelta(df[\"t_rel_seconds\"], unit=\"s\"),\n",
    "\t# \tbins=pd.timedelta_range(df[\"t_rel_seconds\"].min(), df[\"t_rel_seconds\"].max(), freq=bin_size),\n",
    "\t# )\n",
    "\tdef get_bin(seconds):\n",
    "\t\tbin_number = int(seconds // bin_size)\n",
    "\t\treturn bin_number\n",
    "\n",
    "\tdf[\"bin\"] = df[\"t_rel_seconds\"].apply(get_bin)\n",
    "\n",
    "\ttransition_matrix = csr_matrix((\n",
    "\t\tcounts, (i, j)\n",
    "\t) for i, (bin, group) in df.groupby([\"bin\", \"aclu\"]).agg(counts=(\"aclu\", \"count\")).iterrows()\n",
    "\t\tfor j, counts in group.iteritems()\n",
    "\t)\n",
    "\ttransition_matrix /= transition_matrix.sum(axis=1, keepdims=True)\n",
    "\n",
    "\treturn transition_matrix\n",
    "\n",
    "\n",
    "test_spikes_df = deepcopy(rank_order_results.LR_laps.spikes_df)\n",
    "\n",
    "rank_order_results.LR_laps\n"
   ]
  },
  {
   "cell_type": "code",
   "execution_count": null,
   "id": "3379c99d",
   "metadata": {},
   "outputs": [],
   "source": [
    "a_decoder = deepcopy(track_templates.get_decoders_dict()['long_LR'])\n",
    "filtered_pos_df: pd.DataFrame = deepcopy(a_decoder.pf.filtered_pos_df)\n",
    "filtered_pos_df = filtered_pos_df.dropna(axis='index', how='any', subset=['binned_x']).reset_index(drop=True)\n",
    "filtered_pos_df\n"
   ]
  },
  {
   "cell_type": "code",
   "execution_count": null,
   "id": "541c973c",
   "metadata": {},
   "outputs": [],
   "source": [
    "from scipy.sparse import csr_matrix\n",
    "\n",
    "t_bin_size = 0.25\n",
    "# time_variable_name: str = 't_rel_seconds'\n",
    "time_variable_name: str = 't'\n",
    "\n",
    "df: pd.DataFrame = deepcopy(filtered_pos_df)\n",
    "\n",
    "# df[\"bin\"] = pd.cut(df[\"t_rel_seconds\"], bins=pd.timedelta_range(df[\"t_rel_seconds\"].min(), df[\"t_rel_seconds\"].max(), freq=bin_size))\n",
    "# df[\"bin\"] = pd.cut(\n",
    "# \tpd.to_timedelta(df[\"t_rel_seconds\"], unit=\"s\"),\n",
    "# \tbins=pd.timedelta_range(df[\"t_rel_seconds\"].min(), df[\"t_rel_seconds\"].max(), freq=bin_size),\n",
    "# )\n",
    "def get_bin(seconds):\n",
    "\tbin_number = int(seconds // t_bin_size)\n",
    "\treturn bin_number\n",
    "\n",
    "df[\"bin\"] = df[time_variable_name].apply(get_bin) # .astype(np.int64)\n",
    "transition_matrix = csr_matrix((\n",
    "\tcounts, (i, j)\n",
    ") for i, (bin, group) in df.groupby([\"bin\", \"binned_x\"]).agg(counts=(\"binned_x\", \"count\")).iterrows()\n",
    "\tfor j, counts in group.iteritems()\n",
    ")\n",
    "transition_matrix /= transition_matrix.sum(axis=1, keepdims=True)\n",
    "transition_matrix"
   ]
  },
  {
   "cell_type": "code",
   "execution_count": null,
   "id": "07700fcd",
   "metadata": {},
   "outputs": [],
   "source": [
    "# test_spikes_df = test_spikes_df.spikes.add_binned_time_column()\n",
    "\n",
    "# [['t_rel_seconds', 'aclu', 'flat_spike_idx', 'Probe_Epoch_id']]]\n",
    "\n",
    "\n",
    "# test_spikes_df\n",
    "print(f'list(test_spikes_df.columns): {list(test_spikes_df.columns)}')\n",
    "\n",
    "# spikes_columns_list = [\"t_rel_seconds\", \"aclu\", 'shank', 'cluster', 'aclu', 'qclu', 'x', 'y', 'speed', 'traj', 'lap', 'maze_relative_lap', 'maze_id', 'flat_spike_idx', 'x_loaded', 'y_loaded', 'lin_pos', 'fragile_linear_neuron_IDX', 'PBE_id', 'neuron_IDX', 'Probe_Epoch_id']\n",
    "spikes_columns_list = [\"t_rel_seconds\", \"aclu\"]\n",
    "test_spikes_df = test_spikes_df[spikes_columns_list]\n",
    "# Change column type to object for column: 'aclu'\n",
    "test_spikes_df = test_spikes_df.astype({'aclu': 'int'}).reset_index(drop=True)\n",
    "test_spikes_df"
   ]
  },
  {
   "cell_type": "code",
   "execution_count": null,
   "id": "99ff535b",
   "metadata": {},
   "outputs": [],
   "source": [
    "from pyphoplacecellanalysis.Analysis.Decoder.transition_matrix import TransitionMatrixComputations\n",
    "\n",
    "transition_matrix = TransitionMatrixComputations._compute_time_transition_matrix(df=test_spikes_df, bin_size=0.5) #  bin_size=\"0.25S\"\n",
    "transition_matrix"
   ]
  },
  {
   "cell_type": "code",
   "execution_count": null,
   "id": "36e0d3a1",
   "metadata": {},
   "outputs": [],
   "source": [
    "# from numpy.core.arrayprint import _leading_trailing\n",
    "from pyphocorehelpers.print_helpers import _subfn_display_heatmap, _subfn_create_heatmap\n",
    "\n",
    "# omitted_indicies_list = []\n",
    "# def _leading_trailing(a: NDArray, edgeitems: int, index=()): # , omitted_indicies_list=[]\n",
    "#     \"\"\"\n",
    "#     Keep only the N-D corners (leading and trailing edges) of an array.\n",
    "\n",
    "#     Should be passed a base-class ndarray, since it makes no guarantees about\n",
    "#     preserving subclasses.\n",
    "#     \"\"\"\n",
    "#     global omitted_indicies_list\n",
    "#     axis = len(index)\n",
    "#     if axis == a.ndim:\n",
    "#         return a[index]\n",
    "\n",
    "#     if a.shape[axis] > 2*edgeitems:\n",
    "#         left_edge_idxs = (index + np.index_exp[:edgeitems])\n",
    "#         right_edge_idxs = (index + np.index_exp[-edgeitems:])\n",
    "#         print(f'index: {index}, axis: {axis}, a.shape[axis]: {a.shape[axis]}')\n",
    "#         # omitted_idxs = (left_edge_idxs[-1], right_edge_idxs[0])\n",
    "#         omitted_idxs = (int(edgeitems), int((a.shape[axis]-edgeitems)))\n",
    "#         # omitted_idxs = (index + np.index_exp[edgeitems:-edgeitems])\n",
    "#         omitted_indicies_list.append(omitted_idxs)\n",
    "\t\t\n",
    "#         return np.concatenate((\n",
    "#             _leading_trailing(a, edgeitems, left_edge_idxs),\n",
    "#             _leading_trailing(a, edgeitems, right_edge_idxs)\n",
    "#         ), axis=axis)#, omitted_idxs)\n",
    "#     else:\n",
    "#         # can include all items\n",
    "#         # return (_leading_trailing(a, edgeitems, index + np.index_exp[:]), None)\n",
    "#         return _leading_trailing(a, edgeitems, (index + np.index_exp[:]))\n",
    "\n",
    "\n",
    "omitted_indicies_list = []\n",
    "def _dropping_middle_leading_trailing(a: NDArray, edgeitems: int, index=(), n_fill_middle_items: int = 4): # , omitted_indicies_list=[]\n",
    "\t\"\"\"\n",
    "\tKeep only the N-D corners (leading and trailing edges) of an array.\n",
    "\n",
    "\tShould be passed a base-class ndarray, since it makes no guarantees about\n",
    "\tpreserving subclasses.\n",
    "\t\"\"\"\n",
    "\tglobal omitted_indicies_list\n",
    "\taxis = len(index)\n",
    "\tif axis == a.ndim:\n",
    "\t\treturn a[index]\n",
    "\t\n",
    "\tn_left_fill_middle_items = int(n_fill_middle_items / 2)\n",
    "\tn_right_fill_middle_items = int(n_fill_middle_items / 2)\n",
    "\tn_total_edgeitems: int = (2*edgeitems)\n",
    "\tcurr_axis_size: int = a.shape[axis]\n",
    "\t\n",
    "\tif (curr_axis_size > n_total_edgeitems):\n",
    "\t\tleft_range = (0, (edgeitems-n_left_fill_middle_items))\n",
    "\t\tright_range = ((-edgeitems + n_right_fill_middle_items), n_total_edgeitems)\n",
    "\t\tmiddle_fill_range = ((left_range[-1]+1), (right_range[0]-1))\n",
    "\t\tmiddle_fill_n_xbins = middle_fill_range[-1] - middle_fill_range[0]\n",
    "\t\tprint(f'left_range: {left_range}, right_range: {right_range}, middle_fill_range: {middle_fill_range}, middle_fill_n_xbins: {middle_fill_n_xbins}')\n",
    "\t\t\n",
    "\t\tleft_edge_idxs = (index + np.index_exp[:(edgeitems-n_left_fill_middle_items)])\n",
    "\t\tright_edge_idxs = (index + np.index_exp[(-edgeitems + n_right_fill_middle_items):])\n",
    "\t\tprint(f'axis: {axis}, a.shape[axis]: {a.shape[axis]}') # index: {index}, \n",
    "\t\t# omitted_idxs = (left_edge_idxs[-1], right_edge_idxs[0])\n",
    "\t\tomitted_idxs = (int(edgeitems), int((a.shape[axis]-edgeitems)))\n",
    "\t\t# omitted_idxs = (index + np.index_exp[edgeitems:-edgeitems])\n",
    "\t\tomitted_indicies_list.append(omitted_idxs)\n",
    "\t\t\n",
    "\t\tmiddle_fill_array = np.full((middle_fill_n_xbins, *np.shape(a)[1:]), fill_value=np.nan)\n",
    "\t\t\n",
    "\t\t\n",
    "\t\treturn np.concatenate((\n",
    "\t\t\t_leading_trailing(a, edgeitems, left_edge_idxs),\n",
    "\t\t\tmiddle_fill_array,\n",
    "\t\t\t_leading_trailing(a, edgeitems, right_edge_idxs)\n",
    "\t\t), axis=axis)#, omitted_idxs)\n",
    "\telse:\n",
    "\t\t# can include all items\n",
    "\t\t# return (_leading_trailing(a, edgeitems, index + np.index_exp[:]), None)\n",
    "\t\treturn _leading_trailing(a, edgeitems, (index + np.index_exp[:]))\n",
    "\t\n",
    "\n",
    "\t\n",
    "\n",
    "max_allowed_arr_elements: int = 200\n",
    "\n",
    "arr = deepcopy(long_LR_pf1D_Decoder.p_x_given_n)\n",
    "arr_shape = np.array(np.shape(arr))\n",
    "arr_shape\n",
    "arr_too_large_dim = (arr_shape > max_allowed_arr_elements)\n",
    "arr_too_large_dim\n",
    "\n",
    "any_dim_arr_has_too_large_dimension: bool = np.any(arr_too_large_dim)\n",
    "\n",
    "edgeitems: int = int(max_allowed_arr_elements / 2)\n",
    "print(f'edgeitems: {edgeitems}')\n",
    "\n",
    "removed_items = [(a_len - (edgeitems * 2)) if is_too_large else 0 for a_len, is_too_large in zip(arr_shape, arr_too_large_dim)]\n",
    "# removed_items = arr_shape[arr_too_large_dim] - (edgeitems * 2)\n",
    "removed_items\n",
    "\n",
    "omitted_indicies_list = []\n",
    "# _corners = _leading_trailing(arr, edgeitems=edgeitems)\n",
    "_corners = _dropping_middle_leading_trailing(arr, edgeitems=edgeitems)\n",
    "\n",
    "_left_edge = _corners[:, :edgeitems]\n",
    "_right_edge = _corners[:, edgeitems:]\n",
    "# [_corners[:, :edgeitems], _corners[:, edgeitems:]]\n",
    "_corners\n",
    "\n",
    "omitted_indicies_list = np.array(omitted_indicies_list)\n",
    "omitted_indicies_list = np.squeeze(omitted_indicies_list.flatten()).tolist()\n",
    "omitted_indicies_list\n",
    "\n",
    "omission_indices = deepcopy(omitted_indicies_list)\n",
    "omission_indices = sorted(set(omission_indices))\n",
    "omission_indices\n",
    "\n",
    "ylims = [(0, arr_shape[0],)]\n",
    "ylims\n",
    "\n",
    "xlims = [(0, omission_indices[0],), (omission_indices[-1], arr_shape[1],)]\n",
    "xlims\n",
    "\n",
    "\n",
    "# start_idx = 0\n",
    "# xlims = []\n",
    "# for split_idx in omission_indices:\n",
    "# \txlims.append((start_idx, split_idx,))\n",
    "# \tstart_idx = \n",
    "\n",
    "brokenaxes_kwargs = dict(xlims=xlims) # , ylims=ylims\n",
    "\n",
    "\t\n",
    "_corners\n",
    "\n",
    "# breaks = [(omission_indices[i], omission_indices[i+1]-1) for i in range(len(omission_indices)-1)]\n",
    "\n",
    "# breaks"
   ]
  },
  {
   "cell_type": "code",
   "execution_count": null,
   "id": "8de54768",
   "metadata": {},
   "outputs": [],
   "source": [
    "\n",
    "# _left_edge\n",
    "# _right_edge\n",
    "\n",
    "# display(_subfn_display_heatmap(_corners, omission_indices=omitted_indicies_list))\n",
    "display(_subfn_display_heatmap(_corners, brokenaxes_kwargs=brokenaxes_kwargs))\n",
    "\n",
    "# omission_indices: [100, 35704], breaks: [(100, 35703)]\n"
   ]
  },
  {
   "cell_type": "code",
   "execution_count": null,
   "id": "3581d6b0",
   "metadata": {},
   "outputs": [],
   "source": [
    "from neuropy.utils.mixins.binning_helpers import compute_spanning_bins\n",
    "\n",
    "long_LR_pf1D_Decoder.time_window_centers\n",
    "# long_LR_pf1D_Decoder.decode_specific_epochs\n",
    "long_LR_pf1D_Decoder.p_x_given_n\n",
    "\n",
    "# time_bin_size = 0.25\n",
    "time_bin_size = 0.1\n",
    "manual_time_bin_start_t = curr_active_pipeline.sess.t_start\n",
    "manual_time_bin_end_t = curr_active_pipeline.sess.t_stop\n",
    "\n",
    "print(f'time_bin_size: {time_bin_size}, manual_time_bins: (start_t: {manual_time_bin_start_t}, end_t: {manual_time_bin_end_t})')\n",
    "manual_time_window_edges, manual_time_window_edges_binning_info = compute_spanning_bins(None, bin_size=time_bin_size, variable_start_value=manual_time_bin_start_t, variable_end_value=manual_time_bin_end_t) # np.shape(out_digitized_variable_bins)[0] == np.shape(spikes_df)[0]\n",
    "# debug_print_1D_bin_infos(manual_time_window_edges, 'manual_time_window_edges')\n",
    "\n",
    "## Build the new decoder with custom params:\n",
    "new_decoder_pf_params = deepcopy(active_computation_config.pf_params) # should be a PlacefieldComputationParameters\n",
    "# override some settings before computation:\n",
    "new_decoder_pf_params.time_bin_size = time_bin_size\n",
    "\n",
    "## 1D Decoder\n",
    "new_decoder_pf1D = active_pf_1D\n",
    "new_1D_decoder_spikes_df = new_decoder_pf1D.filtered_spikes_df.copy()\n",
    "new_1D_decoder_spikes_df = new_1D_decoder_spikes_df.spikes.add_binned_time_column(manual_time_window_edges, manual_time_window_edges_binning_info, debug_print=False)\n",
    "new_1D_decoder = BayesianPlacemapPositionDecoder(new_decoder_pf_params.time_bin_size, new_decoder_pf1D, new_1D_decoder_spikes_df, manual_time_window_edges=manual_time_window_edges, manual_time_window_edges_binning_info=manual_time_window_edges_binning_info, debug_print=False)\n",
    "new_1D_decoder.compute_all() #  --> n = self.\n"
   ]
  },
  {
   "cell_type": "code",
   "execution_count": null,
   "id": "32bbdb8c",
   "metadata": {},
   "outputs": [],
   "source": [
    "long_LR_pf1D_Decoder.unit_specific_time_binned_spike_counts.shape"
   ]
  },
  {
   "cell_type": "markdown",
   "id": "b4f09f0b",
   "metadata": {},
   "source": [
    "# 2024-08-07 - :❌ Review Velocity/Density measures I developed for Eloy\n",
    "Needs 'pf2D_TwoStepDecoder'\n"
   ]
  },
  {
   "cell_type": "code",
   "execution_count": null,
   "id": "64b12f15",
   "metadata": {},
   "outputs": [],
   "source": [
    "# Needs 'pf2D_TwoStepDecoder'\n",
    "curr_active_pipeline.perform_specific_computation(computation_functions_name_includelist=['pf2D_TwoStepDecoder', 'EloyAnalysis'], enabled_filter_names=None, fail_on_exception=True, debug_print=False)\n"
   ]
  },
  {
   "cell_type": "code",
   "execution_count": null,
   "id": "c43f6f9c",
   "metadata": {},
   "outputs": [],
   "source": [
    "## Works, displays my velocity/density result for both 2D and 1D:\n",
    "# out_plot_1D, out_plot_2D = curr_active_pipeline.display('_display_speed_vs_PFoverlapDensity_plots', active_config_name)\n",
    "curr_display_function_name = '_display_speed_vs_PFoverlapDensity_plots'\n",
    "plots = curr_active_pipeline.display(curr_display_function_name, global_epoch_name)\n",
    "plots"
   ]
  },
  {
   "cell_type": "markdown",
   "id": "988914c9",
   "metadata": {},
   "source": [
    "# ❌ 2024-08-07 networkx graph from transition matrix Testing"
   ]
  },
  {
   "cell_type": "code",
   "execution_count": null,
   "id": "561391db",
   "metadata": {},
   "outputs": [],
   "source": [
    "\n",
    "import numpy as np\n",
    "import networkx as nx\n",
    "import matplotlib.pyplot as plt\n",
    "\n",
    "# # Example transition matrix A\n",
    "A = np.array([[0, 1, 0, 0],\n",
    "\t\t\t  [0, 0, 1, 0],\n",
    "\t\t\t  [0, 0, 0, 1],\n",
    "\t\t\t  [1, 0, 0, 0]])\n",
    "\n",
    "plt.figure(num=3, figsize=(14,7), clear=True)\n",
    "\n",
    "# Create a graph from the transition matrix\n",
    "G = nx.from_numpy_array(A, create_using=nx.DiGraph)\n",
    "\n",
    "# Define positions for nodes in a straight line\n",
    "pos = {i: (i, 0) for i in range(len(A))}\n",
    "\n",
    "# Draw the nodes\n",
    "nx.draw_networkx_nodes(G, pos, node_size=500, node_color='skyblue')\n",
    "nx.draw_networkx_labels(G, pos)\n",
    "\n",
    "# Draw the edges\n",
    "for (i, j) in G.edges():\n",
    "\tif i < j:\n",
    "\t\trad = 0.3  # Radius for upper loop\n",
    "\telse:\n",
    "\t\trad = -0.3  # Radius for lower loop\n",
    "\tnx.draw_networkx_edges(G, pos, edgelist=[(i, j)], connectionstyle=f\"arc3,rad={rad}\", arrows=True)\n",
    "\n",
    "plt.show()\n",
    "\n"
   ]
  },
  {
   "cell_type": "code",
   "execution_count": null,
   "id": "daae74f1",
   "metadata": {},
   "outputs": [],
   "source": [
    "import networkx as nx  # For the magic\n",
    "import matplotlib.pyplot as plt  # For plotting\n",
    "\n",
    "G = nx.from_numpy_array(A)\n",
    "G\n",
    "\n",
    "\n",
    "plt.figure(num=2, figsize=(14,7), clear=True)\n",
    "nx.draw(G)\n",
    "\n",
    "# \n",
    "\n",
    "# plt.figure(num=2, figsize=(14,7))\n",
    "# node_size = 200\n",
    "# # pos = {state:list(state) for state in states}\n",
    "\n",
    "# nx.draw_networkx_edges(G, pos, width=1.0,alpha=0.5)\n",
    "# nx.draw_networkx_labels(G, pos, font_weight=2)\n",
    "# # nx.draw_networkx_edge_labels(G, pos, edge_labels)\n",
    "# plt.axis('off');\n"
   ]
  },
  {
   "cell_type": "code",
   "execution_count": null,
   "id": "1b5fb969",
   "metadata": {},
   "outputs": [],
   "source": [
    "G = nx.MultiDiGraph()\n",
    "labels={}\n",
    "edge_labels={}\n",
    "num_states = np.shape(A)[0]\n",
    "states = deepcopy(A)\n",
    "state_identifiers = [f\"{s}\" for s in np.arange(num_states)]\n",
    "\n",
    "pos = {}\n",
    "# for i, origin_state in enumerate(states):\n",
    "#     for j, destination_state in enumerate(states):\n",
    "for i in np.arange(num_states):\n",
    "\tfor j in np.arange(num_states):\n",
    "\t\trate = A[i][j]\n",
    "\t\tif rate > 0:\n",
    "\t\t\torigin_state = state_identifiers[i]\n",
    "\t\t\tdestination_state = state_identifiers[j]\n",
    "\t\t\tG.add_edge(origin_state,\n",
    "\t\t\t\t\t   destination_state,\n",
    "\t\t\t\t\t   weight=rate,\n",
    "\t\t\t\t\t   label=\"{:.02f}\".format(rate))\n",
    "\t\t\tedge_labels[(origin_state, destination_state)] = label=\"{:.02f}\".format(rate)\n",
    "\t\t\tpos[(origin_state, destination_state)] = float(j)\n",
    "\n",
    "plt.figure(num=1, figsize=(14,7))\n",
    "node_size = 200\n",
    "# pos = {state:list(state) for state in states}\n",
    "\n",
    "nx.draw_networkx_edges(G, pos, width=1.0,alpha=0.5)\n",
    "nx.draw_networkx_labels(G, pos, font_weight=2)\n",
    "nx.draw_networkx_edge_labels(G, pos, edge_labels)\n",
    "plt.axis('off')"
   ]
  }
 ],
 "metadata": {
  "kernelspec": {
   "display_name": "Python 3 (ipykernel)",
   "language": "python",
   "name": "python3"
  },
  "language_info": {
   "codemirror_mode": {
    "name": "ipython",
    "version": 3
   },
   "file_extension": ".py",
   "mimetype": "text/x-python",
   "name": "python",
   "nbconvert_exporter": "python",
   "pygments_lexer": "ipython3",
   "version": "3.9.13"
  }
 },
 "nbformat": 4,
 "nbformat_minor": 5
}
