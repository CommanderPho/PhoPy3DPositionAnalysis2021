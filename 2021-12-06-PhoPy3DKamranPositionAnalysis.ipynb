{
 "cells": [
  {
   "cell_type": "code",
   "execution_count": 1,
   "id": "f6088dc9",
   "metadata": {
    "tags": []
   },
   "outputs": [
    {
     "data": {
      "application/javascript": [
       "\n",
       "(function(root) {\n",
       "  function now() {\n",
       "    return new Date();\n",
       "  }\n",
       "\n",
       "  var force = true;\n",
       "\n",
       "  if (typeof root._bokeh_onload_callbacks === \"undefined\" || force === true) {\n",
       "    root._bokeh_onload_callbacks = [];\n",
       "    root._bokeh_is_loading = undefined;\n",
       "  }\n",
       "\n",
       "  if (typeof (root._bokeh_timeout) === \"undefined\" || force === true) {\n",
       "    root._bokeh_timeout = Date.now() + 5000;\n",
       "    root._bokeh_failed_load = false;\n",
       "  }\n",
       "\n",
       "  function run_callbacks() {\n",
       "    try {\n",
       "      root._bokeh_onload_callbacks.forEach(function(callback) {\n",
       "        if (callback != null)\n",
       "          callback();\n",
       "      });\n",
       "    } finally {\n",
       "      delete root._bokeh_onload_callbacks\n",
       "    }\n",
       "    console.debug(\"Bokeh: all callbacks have finished\");\n",
       "  }\n",
       "\n",
       "  function load_libs(css_urls, js_urls, js_modules, callback) {\n",
       "    if (css_urls == null) css_urls = [];\n",
       "    if (js_urls == null) js_urls = [];\n",
       "    if (js_modules == null) js_modules = [];\n",
       "\n",
       "    root._bokeh_onload_callbacks.push(callback);\n",
       "    if (root._bokeh_is_loading > 0) {\n",
       "      console.debug(\"Bokeh: BokehJS is being loaded, scheduling callback at\", now());\n",
       "      return null;\n",
       "    }\n",
       "    if (js_urls.length === 0 && js_modules.length === 0) {\n",
       "      run_callbacks();\n",
       "      return null;\n",
       "    }\n",
       "    console.debug(\"Bokeh: BokehJS not loaded, scheduling load and callback at\", now());\n",
       "    root._bokeh_is_loading = css_urls.length + js_urls.length + js_modules.length;\n",
       "\n",
       "    function on_load() {\n",
       "      root._bokeh_is_loading--;\n",
       "      if (root._bokeh_is_loading === 0) {\n",
       "        console.debug(\"Bokeh: all BokehJS libraries/stylesheets loaded\");\n",
       "        run_callbacks()\n",
       "      }\n",
       "    }\n",
       "\n",
       "    function on_error() {\n",
       "      console.error(\"failed to load \" + url);\n",
       "    }\n",
       "\n",
       "    for (var i = 0; i < css_urls.length; i++) {\n",
       "      var url = css_urls[i];\n",
       "      const element = document.createElement(\"link\");\n",
       "      element.onload = on_load;\n",
       "      element.onerror = on_error;\n",
       "      element.rel = \"stylesheet\";\n",
       "      element.type = \"text/css\";\n",
       "      element.href = url;\n",
       "      console.debug(\"Bokeh: injecting link tag for BokehJS stylesheet: \", url);\n",
       "      document.body.appendChild(element);\n",
       "    }\n",
       "\n",
       "    var skip = [];\n",
       "    if (window.requirejs) {\n",
       "      window.requirejs.config({'packages': {}, 'paths': {'tabulator': 'https://unpkg.com/tabulator-tables@4.9.3/dist/js/tabulator', 'moment': 'https://unpkg.com/moment@2.27.0/moment'}, 'shim': {}});\n",
       "      \n",
       "      require([\"tabulator\"], function(Tabulator) {\n",
       "\twindow.Tabulator = Tabulator\n",
       "      })\n",
       "      \n",
       "      require([\"moment\"], function(moment) {\n",
       "\twindow.moment = moment\n",
       "      })\n",
       "      \n",
       "    }\n",
       "    if (((window['Tabulator'] !== undefined) && (!(window['Tabulator'] instanceof HTMLElement))) || window.requirejs) {\n",
       "      var urls = ['https://unpkg.com/tabulator-tables@4.9.3/dist/js/tabulator.js'];\n",
       "      for (var i = 0; i < urls.length; i++) {\n",
       "        skip.push(urls[i])\n",
       "      }\n",
       "    }\n",
       "    if (((window['moment'] !== undefined) && (!(window['moment'] instanceof HTMLElement))) || window.requirejs) {\n",
       "      var urls = ['https://unpkg.com/moment@2.27.0/moment.js'];\n",
       "      for (var i = 0; i < urls.length; i++) {\n",
       "        skip.push(urls[i])\n",
       "      }\n",
       "    }\n",
       "    for (var i = 0; i < js_urls.length; i++) {\n",
       "      var url = js_urls[i];\n",
       "      if (skip.indexOf(url) >= 0) { on_load(); continue; }\n",
       "      var element = document.createElement('script');\n",
       "      element.onload = on_load;\n",
       "      element.onerror = on_error;\n",
       "      element.async = false;\n",
       "      element.src = url;\n",
       "      console.debug(\"Bokeh: injecting script tag for BokehJS library: \", url);\n",
       "      document.head.appendChild(element);\n",
       "    }\n",
       "    for (var i = 0; i < js_modules.length; i++) {\n",
       "      var url = js_modules[i];\n",
       "      if (skip.indexOf(url) >= 0) { on_load(); continue; }\n",
       "      var element = document.createElement('script');\n",
       "      element.onload = on_load;\n",
       "      element.onerror = on_error;\n",
       "      element.async = false;\n",
       "      element.src = url;\n",
       "      element.type = \"module\";\n",
       "      console.debug(\"Bokeh: injecting script tag for BokehJS library: \", url);\n",
       "      document.head.appendChild(element);\n",
       "    }\n",
       "    if (!js_urls.length && !js_modules.length) {\n",
       "      on_load()\n",
       "    }\n",
       "  };\n",
       "\n",
       "  function inject_raw_css(css) {\n",
       "    const element = document.createElement(\"style\");\n",
       "    element.appendChild(document.createTextNode(css));\n",
       "    document.body.appendChild(element);\n",
       "  }\n",
       "\n",
       "  var js_urls = [\"https://unpkg.com/tabulator-tables@4.9.3/dist/js/tabulator.js\", \"https://unpkg.com/moment@2.27.0/moment.js\", \"https://cdn.bokeh.org/bokeh/release/bokeh-2.4.0.min.js\", \"https://cdn.bokeh.org/bokeh/release/bokeh-gl-2.4.0.min.js\", \"https://cdn.bokeh.org/bokeh/release/bokeh-widgets-2.4.0.min.js\", \"https://cdn.bokeh.org/bokeh/release/bokeh-tables-2.4.0.min.js\", \"https://cdn.bokeh.org/bokeh/release/bokeh-mathjax-2.4.0.min.js\", \"https://unpkg.com/@holoviz/panel@0.12.4/dist/panel.min.js\"];\n",
       "  var js_modules = [];\n",
       "  var css_urls = [\"https://unpkg.com/tabulator-tables@4.9.3/dist/css/tabulator_simple.min.css\", \"https://unpkg.com/@holoviz/panel@0.12.4/dist/css/alerts.css\", \"https://unpkg.com/@holoviz/panel@0.12.4/dist/css/card.css\", \"https://unpkg.com/@holoviz/panel@0.12.4/dist/css/dataframe.css\", \"https://unpkg.com/@holoviz/panel@0.12.4/dist/css/json.css\", \"https://unpkg.com/@holoviz/panel@0.12.4/dist/css/loading.css\", \"https://unpkg.com/@holoviz/panel@0.12.4/dist/css/markdown.css\", \"https://unpkg.com/@holoviz/panel@0.12.4/dist/css/widgets.css\"];\n",
       "  var inline_js = [\n",
       "    function(Bokeh) {\n",
       "      inject_raw_css(\"\\n    .bk.pn-loading.arcs:before {\\n      background-image: url(\\\"data:image/svg+xml;base64,PHN2ZyB4bWxucz0iaHR0cDovL3d3dy53My5vcmcvMjAwMC9zdmciIHhtbG5zOnhsaW5rPSJodHRwOi8vd3d3LnczLm9yZy8xOTk5L3hsaW5rIiBzdHlsZT0ibWFyZ2luOiBhdXRvOyBiYWNrZ3JvdW5kOiBub25lOyBkaXNwbGF5OiBibG9jazsgc2hhcGUtcmVuZGVyaW5nOiBhdXRvOyIgdmlld0JveD0iMCAwIDEwMCAxMDAiIHByZXNlcnZlQXNwZWN0UmF0aW89InhNaWRZTWlkIj4gIDxjaXJjbGUgY3g9IjUwIiBjeT0iNTAiIHI9IjMyIiBzdHJva2Utd2lkdGg9IjgiIHN0cm9rZT0iI2MzYzNjMyIgc3Ryb2tlLWRhc2hhcnJheT0iNTAuMjY1NDgyNDU3NDM2NjkgNTAuMjY1NDgyNDU3NDM2NjkiIGZpbGw9Im5vbmUiIHN0cm9rZS1saW5lY2FwPSJyb3VuZCI+ICAgIDxhbmltYXRlVHJhbnNmb3JtIGF0dHJpYnV0ZU5hbWU9InRyYW5zZm9ybSIgdHlwZT0icm90YXRlIiByZXBlYXRDb3VudD0iaW5kZWZpbml0ZSIgZHVyPSIxcyIga2V5VGltZXM9IjA7MSIgdmFsdWVzPSIwIDUwIDUwOzM2MCA1MCA1MCI+PC9hbmltYXRlVHJhbnNmb3JtPiAgPC9jaXJjbGU+PC9zdmc+\\\")\\n    }\\n    \");\n",
       "    },\n",
       "    function(Bokeh) {\n",
       "      Bokeh.set_log_level(\"info\");\n",
       "    },\n",
       "    function(Bokeh) {} // ensure no trailing comma for IE\n",
       "  ];\n",
       "\n",
       "  function run_inline_js() {\n",
       "    if ((root.Bokeh !== undefined) || (force === true)) {\n",
       "      for (var i = 0; i < inline_js.length; i++) {\n",
       "        inline_js[i].call(root, root.Bokeh);\n",
       "      }} else if (Date.now() < root._bokeh_timeout) {\n",
       "      setTimeout(run_inline_js, 100);\n",
       "    } else if (!root._bokeh_failed_load) {\n",
       "      console.log(\"Bokeh: BokehJS failed to load within specified timeout.\");\n",
       "      root._bokeh_failed_load = true;\n",
       "    }\n",
       "  }\n",
       "\n",
       "  if (root._bokeh_is_loading === 0) {\n",
       "    console.debug(\"Bokeh: BokehJS loaded, going straight to plotting\");\n",
       "    run_inline_js();\n",
       "  } else {\n",
       "    load_libs(css_urls, js_urls, js_modules, function() {\n",
       "      console.debug(\"Bokeh: BokehJS plotting callback run at\", now());\n",
       "      run_inline_js();\n",
       "    });\n",
       "  }\n",
       "}(window));"
      ],
      "application/vnd.holoviews_load.v0+json": "\n(function(root) {\n  function now() {\n    return new Date();\n  }\n\n  var force = true;\n\n  if (typeof root._bokeh_onload_callbacks === \"undefined\" || force === true) {\n    root._bokeh_onload_callbacks = [];\n    root._bokeh_is_loading = undefined;\n  }\n\n  if (typeof (root._bokeh_timeout) === \"undefined\" || force === true) {\n    root._bokeh_timeout = Date.now() + 5000;\n    root._bokeh_failed_load = false;\n  }\n\n  function run_callbacks() {\n    try {\n      root._bokeh_onload_callbacks.forEach(function(callback) {\n        if (callback != null)\n          callback();\n      });\n    } finally {\n      delete root._bokeh_onload_callbacks\n    }\n    console.debug(\"Bokeh: all callbacks have finished\");\n  }\n\n  function load_libs(css_urls, js_urls, js_modules, callback) {\n    if (css_urls == null) css_urls = [];\n    if (js_urls == null) js_urls = [];\n    if (js_modules == null) js_modules = [];\n\n    root._bokeh_onload_callbacks.push(callback);\n    if (root._bokeh_is_loading > 0) {\n      console.debug(\"Bokeh: BokehJS is being loaded, scheduling callback at\", now());\n      return null;\n    }\n    if (js_urls.length === 0 && js_modules.length === 0) {\n      run_callbacks();\n      return null;\n    }\n    console.debug(\"Bokeh: BokehJS not loaded, scheduling load and callback at\", now());\n    root._bokeh_is_loading = css_urls.length + js_urls.length + js_modules.length;\n\n    function on_load() {\n      root._bokeh_is_loading--;\n      if (root._bokeh_is_loading === 0) {\n        console.debug(\"Bokeh: all BokehJS libraries/stylesheets loaded\");\n        run_callbacks()\n      }\n    }\n\n    function on_error() {\n      console.error(\"failed to load \" + url);\n    }\n\n    for (var i = 0; i < css_urls.length; i++) {\n      var url = css_urls[i];\n      const element = document.createElement(\"link\");\n      element.onload = on_load;\n      element.onerror = on_error;\n      element.rel = \"stylesheet\";\n      element.type = \"text/css\";\n      element.href = url;\n      console.debug(\"Bokeh: injecting link tag for BokehJS stylesheet: \", url);\n      document.body.appendChild(element);\n    }\n\n    var skip = [];\n    if (window.requirejs) {\n      window.requirejs.config({'packages': {}, 'paths': {'tabulator': 'https://unpkg.com/tabulator-tables@4.9.3/dist/js/tabulator', 'moment': 'https://unpkg.com/moment@2.27.0/moment'}, 'shim': {}});\n      \n      require([\"tabulator\"], function(Tabulator) {\n\twindow.Tabulator = Tabulator\n      })\n      \n      require([\"moment\"], function(moment) {\n\twindow.moment = moment\n      })\n      \n    }\n    if (((window['Tabulator'] !== undefined) && (!(window['Tabulator'] instanceof HTMLElement))) || window.requirejs) {\n      var urls = ['https://unpkg.com/tabulator-tables@4.9.3/dist/js/tabulator.js'];\n      for (var i = 0; i < urls.length; i++) {\n        skip.push(urls[i])\n      }\n    }\n    if (((window['moment'] !== undefined) && (!(window['moment'] instanceof HTMLElement))) || window.requirejs) {\n      var urls = ['https://unpkg.com/moment@2.27.0/moment.js'];\n      for (var i = 0; i < urls.length; i++) {\n        skip.push(urls[i])\n      }\n    }\n    for (var i = 0; i < js_urls.length; i++) {\n      var url = js_urls[i];\n      if (skip.indexOf(url) >= 0) { on_load(); continue; }\n      var element = document.createElement('script');\n      element.onload = on_load;\n      element.onerror = on_error;\n      element.async = false;\n      element.src = url;\n      console.debug(\"Bokeh: injecting script tag for BokehJS library: \", url);\n      document.head.appendChild(element);\n    }\n    for (var i = 0; i < js_modules.length; i++) {\n      var url = js_modules[i];\n      if (skip.indexOf(url) >= 0) { on_load(); continue; }\n      var element = document.createElement('script');\n      element.onload = on_load;\n      element.onerror = on_error;\n      element.async = false;\n      element.src = url;\n      element.type = \"module\";\n      console.debug(\"Bokeh: injecting script tag for BokehJS library: \", url);\n      document.head.appendChild(element);\n    }\n    if (!js_urls.length && !js_modules.length) {\n      on_load()\n    }\n  };\n\n  function inject_raw_css(css) {\n    const element = document.createElement(\"style\");\n    element.appendChild(document.createTextNode(css));\n    document.body.appendChild(element);\n  }\n\n  var js_urls = [\"https://unpkg.com/tabulator-tables@4.9.3/dist/js/tabulator.js\", \"https://unpkg.com/moment@2.27.0/moment.js\", \"https://cdn.bokeh.org/bokeh/release/bokeh-2.4.0.min.js\", \"https://cdn.bokeh.org/bokeh/release/bokeh-gl-2.4.0.min.js\", \"https://cdn.bokeh.org/bokeh/release/bokeh-widgets-2.4.0.min.js\", \"https://cdn.bokeh.org/bokeh/release/bokeh-tables-2.4.0.min.js\", \"https://cdn.bokeh.org/bokeh/release/bokeh-mathjax-2.4.0.min.js\", \"https://unpkg.com/@holoviz/panel@0.12.4/dist/panel.min.js\"];\n  var js_modules = [];\n  var css_urls = [\"https://unpkg.com/tabulator-tables@4.9.3/dist/css/tabulator_simple.min.css\", \"https://unpkg.com/@holoviz/panel@0.12.4/dist/css/alerts.css\", \"https://unpkg.com/@holoviz/panel@0.12.4/dist/css/card.css\", \"https://unpkg.com/@holoviz/panel@0.12.4/dist/css/dataframe.css\", \"https://unpkg.com/@holoviz/panel@0.12.4/dist/css/json.css\", \"https://unpkg.com/@holoviz/panel@0.12.4/dist/css/loading.css\", \"https://unpkg.com/@holoviz/panel@0.12.4/dist/css/markdown.css\", \"https://unpkg.com/@holoviz/panel@0.12.4/dist/css/widgets.css\"];\n  var inline_js = [\n    function(Bokeh) {\n      inject_raw_css(\"\\n    .bk.pn-loading.arcs:before {\\n      background-image: url(\\\"data:image/svg+xml;base64,PHN2ZyB4bWxucz0iaHR0cDovL3d3dy53My5vcmcvMjAwMC9zdmciIHhtbG5zOnhsaW5rPSJodHRwOi8vd3d3LnczLm9yZy8xOTk5L3hsaW5rIiBzdHlsZT0ibWFyZ2luOiBhdXRvOyBiYWNrZ3JvdW5kOiBub25lOyBkaXNwbGF5OiBibG9jazsgc2hhcGUtcmVuZGVyaW5nOiBhdXRvOyIgdmlld0JveD0iMCAwIDEwMCAxMDAiIHByZXNlcnZlQXNwZWN0UmF0aW89InhNaWRZTWlkIj4gIDxjaXJjbGUgY3g9IjUwIiBjeT0iNTAiIHI9IjMyIiBzdHJva2Utd2lkdGg9IjgiIHN0cm9rZT0iI2MzYzNjMyIgc3Ryb2tlLWRhc2hhcnJheT0iNTAuMjY1NDgyNDU3NDM2NjkgNTAuMjY1NDgyNDU3NDM2NjkiIGZpbGw9Im5vbmUiIHN0cm9rZS1saW5lY2FwPSJyb3VuZCI+ICAgIDxhbmltYXRlVHJhbnNmb3JtIGF0dHJpYnV0ZU5hbWU9InRyYW5zZm9ybSIgdHlwZT0icm90YXRlIiByZXBlYXRDb3VudD0iaW5kZWZpbml0ZSIgZHVyPSIxcyIga2V5VGltZXM9IjA7MSIgdmFsdWVzPSIwIDUwIDUwOzM2MCA1MCA1MCI+PC9hbmltYXRlVHJhbnNmb3JtPiAgPC9jaXJjbGU+PC9zdmc+\\\")\\n    }\\n    \");\n    },\n    function(Bokeh) {\n      Bokeh.set_log_level(\"info\");\n    },\n    function(Bokeh) {} // ensure no trailing comma for IE\n  ];\n\n  function run_inline_js() {\n    if ((root.Bokeh !== undefined) || (force === true)) {\n      for (var i = 0; i < inline_js.length; i++) {\n        inline_js[i].call(root, root.Bokeh);\n      }} else if (Date.now() < root._bokeh_timeout) {\n      setTimeout(run_inline_js, 100);\n    } else if (!root._bokeh_failed_load) {\n      console.log(\"Bokeh: BokehJS failed to load within specified timeout.\");\n      root._bokeh_failed_load = true;\n    }\n  }\n\n  if (root._bokeh_is_loading === 0) {\n    console.debug(\"Bokeh: BokehJS loaded, going straight to plotting\");\n    run_inline_js();\n  } else {\n    load_libs(css_urls, js_urls, js_modules, function() {\n      console.debug(\"Bokeh: BokehJS plotting callback run at\", now());\n      run_inline_js();\n    });\n  }\n}(window));"
     },
     "metadata": {},
     "output_type": "display_data"
    },
    {
     "data": {
      "application/javascript": [
       "\n",
       "if ((window.PyViz === undefined) || (window.PyViz instanceof HTMLElement)) {\n",
       "  window.PyViz = {comms: {}, comm_status:{}, kernels:{}, receivers: {}, plot_index: []}\n",
       "}\n",
       "\n",
       "\n",
       "    function JupyterCommManager() {\n",
       "    }\n",
       "\n",
       "    JupyterCommManager.prototype.register_target = function(plot_id, comm_id, msg_handler) {\n",
       "      if (window.comm_manager || ((window.Jupyter !== undefined) && (Jupyter.notebook.kernel != null))) {\n",
       "        var comm_manager = window.comm_manager || Jupyter.notebook.kernel.comm_manager;\n",
       "        comm_manager.register_target(comm_id, function(comm) {\n",
       "          comm.on_msg(msg_handler);\n",
       "        });\n",
       "      } else if ((plot_id in window.PyViz.kernels) && (window.PyViz.kernels[plot_id])) {\n",
       "        window.PyViz.kernels[plot_id].registerCommTarget(comm_id, function(comm) {\n",
       "          comm.onMsg = msg_handler;\n",
       "        });\n",
       "      } else if (typeof google != 'undefined' && google.colab.kernel != null) {\n",
       "        google.colab.kernel.comms.registerTarget(comm_id, (comm) => {\n",
       "          var messages = comm.messages[Symbol.asyncIterator]();\n",
       "          function processIteratorResult(result) {\n",
       "            var message = result.value;\n",
       "            console.log(message)\n",
       "            var content = {data: message.data, comm_id};\n",
       "            var buffers = []\n",
       "            for (var buffer of message.buffers || []) {\n",
       "              buffers.push(new DataView(buffer))\n",
       "            }\n",
       "            var metadata = message.metadata || {};\n",
       "            var msg = {content, buffers, metadata}\n",
       "            msg_handler(msg);\n",
       "            return messages.next().then(processIteratorResult);\n",
       "          }\n",
       "          return messages.next().then(processIteratorResult);\n",
       "        })\n",
       "      }\n",
       "    }\n",
       "\n",
       "    JupyterCommManager.prototype.get_client_comm = function(plot_id, comm_id, msg_handler) {\n",
       "      if (comm_id in window.PyViz.comms) {\n",
       "        return window.PyViz.comms[comm_id];\n",
       "      } else if (window.comm_manager || ((window.Jupyter !== undefined) && (Jupyter.notebook.kernel != null))) {\n",
       "        var comm_manager = window.comm_manager || Jupyter.notebook.kernel.comm_manager;\n",
       "        var comm = comm_manager.new_comm(comm_id, {}, {}, {}, comm_id);\n",
       "        if (msg_handler) {\n",
       "          comm.on_msg(msg_handler);\n",
       "        }\n",
       "      } else if ((plot_id in window.PyViz.kernels) && (window.PyViz.kernels[plot_id])) {\n",
       "        var comm = window.PyViz.kernels[plot_id].connectToComm(comm_id);\n",
       "        comm.open();\n",
       "        if (msg_handler) {\n",
       "          comm.onMsg = msg_handler;\n",
       "        }\n",
       "      } else if (typeof google != 'undefined' && google.colab.kernel != null) {\n",
       "        var comm_promise = google.colab.kernel.comms.open(comm_id)\n",
       "        comm_promise.then((comm) => {\n",
       "          window.PyViz.comms[comm_id] = comm;\n",
       "          if (msg_handler) {\n",
       "            var messages = comm.messages[Symbol.asyncIterator]();\n",
       "            function processIteratorResult(result) {\n",
       "              var message = result.value;\n",
       "              var content = {data: message.data};\n",
       "              var metadata = message.metadata || {comm_id};\n",
       "              var msg = {content, metadata}\n",
       "              msg_handler(msg);\n",
       "              return messages.next().then(processIteratorResult);\n",
       "            }\n",
       "            return messages.next().then(processIteratorResult);\n",
       "          }\n",
       "        }) \n",
       "        var sendClosure = (data, metadata, buffers, disposeOnDone) => {\n",
       "          return comm_promise.then((comm) => {\n",
       "            comm.send(data, metadata, buffers, disposeOnDone);\n",
       "          });\n",
       "        };\n",
       "        var comm = {\n",
       "          send: sendClosure\n",
       "        };\n",
       "      }\n",
       "      window.PyViz.comms[comm_id] = comm;\n",
       "      return comm;\n",
       "    }\n",
       "    window.PyViz.comm_manager = new JupyterCommManager();\n",
       "    \n",
       "\n",
       "\n",
       "var JS_MIME_TYPE = 'application/javascript';\n",
       "var HTML_MIME_TYPE = 'text/html';\n",
       "var EXEC_MIME_TYPE = 'application/vnd.holoviews_exec.v0+json';\n",
       "var CLASS_NAME = 'output';\n",
       "\n",
       "/**\n",
       " * Render data to the DOM node\n",
       " */\n",
       "function render(props, node) {\n",
       "  var div = document.createElement(\"div\");\n",
       "  var script = document.createElement(\"script\");\n",
       "  node.appendChild(div);\n",
       "  node.appendChild(script);\n",
       "}\n",
       "\n",
       "/**\n",
       " * Handle when a new output is added\n",
       " */\n",
       "function handle_add_output(event, handle) {\n",
       "  var output_area = handle.output_area;\n",
       "  var output = handle.output;\n",
       "  if ((output.data == undefined) || (!output.data.hasOwnProperty(EXEC_MIME_TYPE))) {\n",
       "    return\n",
       "  }\n",
       "  var id = output.metadata[EXEC_MIME_TYPE][\"id\"];\n",
       "  var toinsert = output_area.element.find(\".\" + CLASS_NAME.split(' ')[0]);\n",
       "  if (id !== undefined) {\n",
       "    var nchildren = toinsert.length;\n",
       "    var html_node = toinsert[nchildren-1].children[0];\n",
       "    html_node.innerHTML = output.data[HTML_MIME_TYPE];\n",
       "    var scripts = [];\n",
       "    var nodelist = html_node.querySelectorAll(\"script\");\n",
       "    for (var i in nodelist) {\n",
       "      if (nodelist.hasOwnProperty(i)) {\n",
       "        scripts.push(nodelist[i])\n",
       "      }\n",
       "    }\n",
       "\n",
       "    scripts.forEach( function (oldScript) {\n",
       "      var newScript = document.createElement(\"script\");\n",
       "      var attrs = [];\n",
       "      var nodemap = oldScript.attributes;\n",
       "      for (var j in nodemap) {\n",
       "        if (nodemap.hasOwnProperty(j)) {\n",
       "          attrs.push(nodemap[j])\n",
       "        }\n",
       "      }\n",
       "      attrs.forEach(function(attr) { newScript.setAttribute(attr.name, attr.value) });\n",
       "      newScript.appendChild(document.createTextNode(oldScript.innerHTML));\n",
       "      oldScript.parentNode.replaceChild(newScript, oldScript);\n",
       "    });\n",
       "    if (JS_MIME_TYPE in output.data) {\n",
       "      toinsert[nchildren-1].children[1].textContent = output.data[JS_MIME_TYPE];\n",
       "    }\n",
       "    output_area._hv_plot_id = id;\n",
       "    if ((window.Bokeh !== undefined) && (id in Bokeh.index)) {\n",
       "      window.PyViz.plot_index[id] = Bokeh.index[id];\n",
       "    } else {\n",
       "      window.PyViz.plot_index[id] = null;\n",
       "    }\n",
       "  } else if (output.metadata[EXEC_MIME_TYPE][\"server_id\"] !== undefined) {\n",
       "    var bk_div = document.createElement(\"div\");\n",
       "    bk_div.innerHTML = output.data[HTML_MIME_TYPE];\n",
       "    var script_attrs = bk_div.children[0].attributes;\n",
       "    for (var i = 0; i < script_attrs.length; i++) {\n",
       "      toinsert[toinsert.length - 1].childNodes[1].setAttribute(script_attrs[i].name, script_attrs[i].value);\n",
       "    }\n",
       "    // store reference to server id on output_area\n",
       "    output_area._bokeh_server_id = output.metadata[EXEC_MIME_TYPE][\"server_id\"];\n",
       "  }\n",
       "}\n",
       "\n",
       "/**\n",
       " * Handle when an output is cleared or removed\n",
       " */\n",
       "function handle_clear_output(event, handle) {\n",
       "  var id = handle.cell.output_area._hv_plot_id;\n",
       "  var server_id = handle.cell.output_area._bokeh_server_id;\n",
       "  if (((id === undefined) || !(id in PyViz.plot_index)) && (server_id !== undefined)) { return; }\n",
       "  var comm = window.PyViz.comm_manager.get_client_comm(\"hv-extension-comm\", \"hv-extension-comm\", function () {});\n",
       "  if (server_id !== null) {\n",
       "    comm.send({event_type: 'server_delete', 'id': server_id});\n",
       "    return;\n",
       "  } else if (comm !== null) {\n",
       "    comm.send({event_type: 'delete', 'id': id});\n",
       "  }\n",
       "  delete PyViz.plot_index[id];\n",
       "  if ((window.Bokeh !== undefined) & (id in window.Bokeh.index)) {\n",
       "    var doc = window.Bokeh.index[id].model.document\n",
       "    doc.clear();\n",
       "    const i = window.Bokeh.documents.indexOf(doc);\n",
       "    if (i > -1) {\n",
       "      window.Bokeh.documents.splice(i, 1);\n",
       "    }\n",
       "  }\n",
       "}\n",
       "\n",
       "/**\n",
       " * Handle kernel restart event\n",
       " */\n",
       "function handle_kernel_cleanup(event, handle) {\n",
       "  delete PyViz.comms[\"hv-extension-comm\"];\n",
       "  window.PyViz.plot_index = {}\n",
       "}\n",
       "\n",
       "/**\n",
       " * Handle update_display_data messages\n",
       " */\n",
       "function handle_update_output(event, handle) {\n",
       "  handle_clear_output(event, {cell: {output_area: handle.output_area}})\n",
       "  handle_add_output(event, handle)\n",
       "}\n",
       "\n",
       "function register_renderer(events, OutputArea) {\n",
       "  function append_mime(data, metadata, element) {\n",
       "    // create a DOM node to render to\n",
       "    var toinsert = this.create_output_subarea(\n",
       "    metadata,\n",
       "    CLASS_NAME,\n",
       "    EXEC_MIME_TYPE\n",
       "    );\n",
       "    this.keyboard_manager.register_events(toinsert);\n",
       "    // Render to node\n",
       "    var props = {data: data, metadata: metadata[EXEC_MIME_TYPE]};\n",
       "    render(props, toinsert[0]);\n",
       "    element.append(toinsert);\n",
       "    return toinsert\n",
       "  }\n",
       "\n",
       "  events.on('output_added.OutputArea', handle_add_output);\n",
       "  events.on('output_updated.OutputArea', handle_update_output);\n",
       "  events.on('clear_output.CodeCell', handle_clear_output);\n",
       "  events.on('delete.Cell', handle_clear_output);\n",
       "  events.on('kernel_ready.Kernel', handle_kernel_cleanup);\n",
       "\n",
       "  OutputArea.prototype.register_mime_type(EXEC_MIME_TYPE, append_mime, {\n",
       "    safe: true,\n",
       "    index: 0\n",
       "  });\n",
       "}\n",
       "\n",
       "if (window.Jupyter !== undefined) {\n",
       "  try {\n",
       "    var events = require('base/js/events');\n",
       "    var OutputArea = require('notebook/js/outputarea').OutputArea;\n",
       "    if (OutputArea.prototype.mime_types().indexOf(EXEC_MIME_TYPE) == -1) {\n",
       "      register_renderer(events, OutputArea);\n",
       "    }\n",
       "  } catch(err) {\n",
       "  }\n",
       "}\n"
      ],
      "application/vnd.holoviews_load.v0+json": "\nif ((window.PyViz === undefined) || (window.PyViz instanceof HTMLElement)) {\n  window.PyViz = {comms: {}, comm_status:{}, kernels:{}, receivers: {}, plot_index: []}\n}\n\n\n    function JupyterCommManager() {\n    }\n\n    JupyterCommManager.prototype.register_target = function(plot_id, comm_id, msg_handler) {\n      if (window.comm_manager || ((window.Jupyter !== undefined) && (Jupyter.notebook.kernel != null))) {\n        var comm_manager = window.comm_manager || Jupyter.notebook.kernel.comm_manager;\n        comm_manager.register_target(comm_id, function(comm) {\n          comm.on_msg(msg_handler);\n        });\n      } else if ((plot_id in window.PyViz.kernels) && (window.PyViz.kernels[plot_id])) {\n        window.PyViz.kernels[plot_id].registerCommTarget(comm_id, function(comm) {\n          comm.onMsg = msg_handler;\n        });\n      } else if (typeof google != 'undefined' && google.colab.kernel != null) {\n        google.colab.kernel.comms.registerTarget(comm_id, (comm) => {\n          var messages = comm.messages[Symbol.asyncIterator]();\n          function processIteratorResult(result) {\n            var message = result.value;\n            console.log(message)\n            var content = {data: message.data, comm_id};\n            var buffers = []\n            for (var buffer of message.buffers || []) {\n              buffers.push(new DataView(buffer))\n            }\n            var metadata = message.metadata || {};\n            var msg = {content, buffers, metadata}\n            msg_handler(msg);\n            return messages.next().then(processIteratorResult);\n          }\n          return messages.next().then(processIteratorResult);\n        })\n      }\n    }\n\n    JupyterCommManager.prototype.get_client_comm = function(plot_id, comm_id, msg_handler) {\n      if (comm_id in window.PyViz.comms) {\n        return window.PyViz.comms[comm_id];\n      } else if (window.comm_manager || ((window.Jupyter !== undefined) && (Jupyter.notebook.kernel != null))) {\n        var comm_manager = window.comm_manager || Jupyter.notebook.kernel.comm_manager;\n        var comm = comm_manager.new_comm(comm_id, {}, {}, {}, comm_id);\n        if (msg_handler) {\n          comm.on_msg(msg_handler);\n        }\n      } else if ((plot_id in window.PyViz.kernels) && (window.PyViz.kernels[plot_id])) {\n        var comm = window.PyViz.kernels[plot_id].connectToComm(comm_id);\n        comm.open();\n        if (msg_handler) {\n          comm.onMsg = msg_handler;\n        }\n      } else if (typeof google != 'undefined' && google.colab.kernel != null) {\n        var comm_promise = google.colab.kernel.comms.open(comm_id)\n        comm_promise.then((comm) => {\n          window.PyViz.comms[comm_id] = comm;\n          if (msg_handler) {\n            var messages = comm.messages[Symbol.asyncIterator]();\n            function processIteratorResult(result) {\n              var message = result.value;\n              var content = {data: message.data};\n              var metadata = message.metadata || {comm_id};\n              var msg = {content, metadata}\n              msg_handler(msg);\n              return messages.next().then(processIteratorResult);\n            }\n            return messages.next().then(processIteratorResult);\n          }\n        }) \n        var sendClosure = (data, metadata, buffers, disposeOnDone) => {\n          return comm_promise.then((comm) => {\n            comm.send(data, metadata, buffers, disposeOnDone);\n          });\n        };\n        var comm = {\n          send: sendClosure\n        };\n      }\n      window.PyViz.comms[comm_id] = comm;\n      return comm;\n    }\n    window.PyViz.comm_manager = new JupyterCommManager();\n    \n\n\nvar JS_MIME_TYPE = 'application/javascript';\nvar HTML_MIME_TYPE = 'text/html';\nvar EXEC_MIME_TYPE = 'application/vnd.holoviews_exec.v0+json';\nvar CLASS_NAME = 'output';\n\n/**\n * Render data to the DOM node\n */\nfunction render(props, node) {\n  var div = document.createElement(\"div\");\n  var script = document.createElement(\"script\");\n  node.appendChild(div);\n  node.appendChild(script);\n}\n\n/**\n * Handle when a new output is added\n */\nfunction handle_add_output(event, handle) {\n  var output_area = handle.output_area;\n  var output = handle.output;\n  if ((output.data == undefined) || (!output.data.hasOwnProperty(EXEC_MIME_TYPE))) {\n    return\n  }\n  var id = output.metadata[EXEC_MIME_TYPE][\"id\"];\n  var toinsert = output_area.element.find(\".\" + CLASS_NAME.split(' ')[0]);\n  if (id !== undefined) {\n    var nchildren = toinsert.length;\n    var html_node = toinsert[nchildren-1].children[0];\n    html_node.innerHTML = output.data[HTML_MIME_TYPE];\n    var scripts = [];\n    var nodelist = html_node.querySelectorAll(\"script\");\n    for (var i in nodelist) {\n      if (nodelist.hasOwnProperty(i)) {\n        scripts.push(nodelist[i])\n      }\n    }\n\n    scripts.forEach( function (oldScript) {\n      var newScript = document.createElement(\"script\");\n      var attrs = [];\n      var nodemap = oldScript.attributes;\n      for (var j in nodemap) {\n        if (nodemap.hasOwnProperty(j)) {\n          attrs.push(nodemap[j])\n        }\n      }\n      attrs.forEach(function(attr) { newScript.setAttribute(attr.name, attr.value) });\n      newScript.appendChild(document.createTextNode(oldScript.innerHTML));\n      oldScript.parentNode.replaceChild(newScript, oldScript);\n    });\n    if (JS_MIME_TYPE in output.data) {\n      toinsert[nchildren-1].children[1].textContent = output.data[JS_MIME_TYPE];\n    }\n    output_area._hv_plot_id = id;\n    if ((window.Bokeh !== undefined) && (id in Bokeh.index)) {\n      window.PyViz.plot_index[id] = Bokeh.index[id];\n    } else {\n      window.PyViz.plot_index[id] = null;\n    }\n  } else if (output.metadata[EXEC_MIME_TYPE][\"server_id\"] !== undefined) {\n    var bk_div = document.createElement(\"div\");\n    bk_div.innerHTML = output.data[HTML_MIME_TYPE];\n    var script_attrs = bk_div.children[0].attributes;\n    for (var i = 0; i < script_attrs.length; i++) {\n      toinsert[toinsert.length - 1].childNodes[1].setAttribute(script_attrs[i].name, script_attrs[i].value);\n    }\n    // store reference to server id on output_area\n    output_area._bokeh_server_id = output.metadata[EXEC_MIME_TYPE][\"server_id\"];\n  }\n}\n\n/**\n * Handle when an output is cleared or removed\n */\nfunction handle_clear_output(event, handle) {\n  var id = handle.cell.output_area._hv_plot_id;\n  var server_id = handle.cell.output_area._bokeh_server_id;\n  if (((id === undefined) || !(id in PyViz.plot_index)) && (server_id !== undefined)) { return; }\n  var comm = window.PyViz.comm_manager.get_client_comm(\"hv-extension-comm\", \"hv-extension-comm\", function () {});\n  if (server_id !== null) {\n    comm.send({event_type: 'server_delete', 'id': server_id});\n    return;\n  } else if (comm !== null) {\n    comm.send({event_type: 'delete', 'id': id});\n  }\n  delete PyViz.plot_index[id];\n  if ((window.Bokeh !== undefined) & (id in window.Bokeh.index)) {\n    var doc = window.Bokeh.index[id].model.document\n    doc.clear();\n    const i = window.Bokeh.documents.indexOf(doc);\n    if (i > -1) {\n      window.Bokeh.documents.splice(i, 1);\n    }\n  }\n}\n\n/**\n * Handle kernel restart event\n */\nfunction handle_kernel_cleanup(event, handle) {\n  delete PyViz.comms[\"hv-extension-comm\"];\n  window.PyViz.plot_index = {}\n}\n\n/**\n * Handle update_display_data messages\n */\nfunction handle_update_output(event, handle) {\n  handle_clear_output(event, {cell: {output_area: handle.output_area}})\n  handle_add_output(event, handle)\n}\n\nfunction register_renderer(events, OutputArea) {\n  function append_mime(data, metadata, element) {\n    // create a DOM node to render to\n    var toinsert = this.create_output_subarea(\n    metadata,\n    CLASS_NAME,\n    EXEC_MIME_TYPE\n    );\n    this.keyboard_manager.register_events(toinsert);\n    // Render to node\n    var props = {data: data, metadata: metadata[EXEC_MIME_TYPE]};\n    render(props, toinsert[0]);\n    element.append(toinsert);\n    return toinsert\n  }\n\n  events.on('output_added.OutputArea', handle_add_output);\n  events.on('output_updated.OutputArea', handle_update_output);\n  events.on('clear_output.CodeCell', handle_clear_output);\n  events.on('delete.Cell', handle_clear_output);\n  events.on('kernel_ready.Kernel', handle_kernel_cleanup);\n\n  OutputArea.prototype.register_mime_type(EXEC_MIME_TYPE, append_mime, {\n    safe: true,\n    index: 0\n  });\n}\n\nif (window.Jupyter !== undefined) {\n  try {\n    var events = require('base/js/events');\n    var OutputArea = require('notebook/js/outputarea').OutputArea;\n    if (OutputArea.prototype.mime_types().indexOf(EXEC_MIME_TYPE) == -1) {\n      register_renderer(events, OutputArea);\n    }\n  } catch(err) {\n  }\n}\n"
     },
     "metadata": {},
     "output_type": "display_data"
    }
   ],
   "source": [
    "#!/usr/bin/env python3\n",
    "# -*- coding: utf-8 -*-\n",
    "\"\"\"\n",
    "@author: pho\n",
    "\"\"\"\n",
    "%load_ext autoreload\n",
    "%autoreload 2\n",
    "import sys\n",
    "import importlib\n",
    "from threading import Thread\n",
    "import time # for time.sleep\n",
    "from ipygany import PolyMesh, Scene, IsoColor, WarpByScalar\n",
    "import pyvista as pv\n",
    "# from pyvista import _vtk\n",
    "import pyvistaqt as pvqt\n",
    "import colorcet as cc # Colormaps:\n",
    "import numpy as np\n",
    "import pandas as pd\n",
    "import h5py\n",
    "import hdf5storage # conda install hdf5storage\n",
    "from pathlib import Path\n",
    "import bqplot.scales\n",
    "import seaborn as sns\n",
    "from mpl_toolkits import mplot3d\n",
    "# %matplotlib widget\n",
    "import matplotlib.pyplot as plt\n",
    "import matplotlib.cm as cm\n",
    "from matplotlib.colors import Normalize, to_rgba_array\n",
    "# import mplcursors\n",
    "import math # For color map generation\n",
    "from matplotlib.colors import ListedColormap\n",
    "from matplotlib.cm import hsv\n",
    "\n",
    "from copy import deepcopy\n",
    "\n",
    "import ipywidgets as widgets\n",
    "# from PyQt5 import QtWidgets, uic\n",
    "from pyvistaqt import QtInteractor, MainWindow\n",
    "# from pyqt6 import QApplication\n",
    "from IPython.external.qt_for_kernel import QtGui\n",
    "from PyQt5.QtWidgets import QApplication\n",
    "import datetime as dt\n",
    "\n",
    "import panel as pn # for interactive widgets\n",
    "# pn.extension()\n",
    "pn.extension('tabulator')"
   ]
  },
  {
   "cell_type": "code",
   "execution_count": 2,
   "id": "313eba69-5c27-4e2d-8563-2220af614aea",
   "metadata": {},
   "outputs": [],
   "source": [
    "# import PhoPositionalData as pdp\n",
    "# from PhoPositionalData import load_exported, process_data\n",
    "from PhoPositionalData.load_exported import *\n",
    "# from PhoPositionalData.process_data import process_positionalAnalysis_data, gen_2d_histrogram, get_heatmap_color_vectors, process_chunk_equal_poritions_data, extract_spike_timeseries\n",
    "from PhoPositionalData.process_data import *\n",
    "from PhoPositionalData.plot_data import *\n",
    "from PhoPositionalData.plotting.animations import * # make_mp4_from_plotter\n",
    "from PhoPositionalData.import_data import * # build_spike_positions_list, build_cellID_reverse_lookup_map\n",
    "from PhoPositionalData.analysis.interactive_placeCell_config import InteractivePlaceCellConfig, VideoOutputModeConfig, PlottingConfig, PlacefieldComputationParameters  # VideoOutputModeConfig, InteractivePlaceCellConfigs\n",
    "from PhoPositionalData.analysis.interactive_placeCell_config import print_subsession_neuron_differences\n",
    "\n",
    "def debug_print_spike_counts(session):\n",
    "    uniques, indicies, inverse_indicies, count_arr = np.unique(active_epoch_session.spikes_df['aclu'].values, return_index=True, return_inverse=True, return_counts=True)\n",
    "    # count_arr = np.bincount(active_epoch_session.spikes_df['aclu'].values)\n",
    "    print('active_epoch_session.spikes_df unique aclu values: {}'.format(uniques))\n",
    "    print('active_epoch_session.spikes_df unique aclu value counts: {}'.format(count_arr))\n",
    "    print(len(uniques)) # 69 \n",
    "    uniques, indicies, inverse_indicies, count_arr = np.unique(active_epoch_session.spikes_df['unit_id'].values, return_index=True, return_inverse=True, return_counts=True)\n",
    "    # count_arr = np.bincount(active_epoch_session.spikes_df['unit_id'].values)\n",
    "    print('active_epoch_session.spikes_df unique unit_id values: {}'.format(uniques))\n",
    "    print('active_epoch_session.spikes_df unique unit_id value counts: {}'.format(count_arr))\n",
    "    \n",
    "    print(len(uniques)) # 69 \n",
    "    "
   ]
  },
  {
   "cell_type": "code",
   "execution_count": 3,
   "id": "7773a93a-d1a0-4403-93dd-755468f86751",
   "metadata": {},
   "outputs": [
    {
     "name": "stdout",
     "output_type": "stream",
     "text": [
      "neuropy module not found, adding directory to sys.path. \n",
      " >> Updated sys.path.\n"
     ]
    }
   ],
   "source": [
    "# NeuroPy (Diba Lab Python Repo) Loading\n",
    "try:\n",
    "    from neuropy import core\n",
    "    importlib.reload(core)\n",
    "except ImportError:\n",
    "    sys.path.append(r'C:\\Users\\Pho\\repos\\NeuroPy') # Windows\n",
    "    # sys.path.append('/home/pho/repo/BapunAnalysis2021/NeuroPy') # Linux\n",
    "    # sys.path.append(r'/Users/pho/repo/Python Projects/NeuroPy') # MacOS\n",
    "    print('neuropy module not found, adding directory to sys.path. \\n >> Updated sys.path.')\n",
    "    from neuropy import core\n",
    "# from neuropy.core.session.dataSession import SessionConfig, DataSessionLoader, DataSession, processDataSssion\n",
    "\n",
    "from neuropy.core.session.data_session_loader import DataSessionLoader\n",
    "from neuropy.core.session.dataSession import DataSession\n",
    "from neuropy.core.epoch import Epoch, NamedTimerange\n",
    "from neuropy.core import Laps\n",
    "from neuropy.core import Position\n",
    "from neuropy.core import FlattenedSpiketrains\n",
    "from neuropy.core import Neurons\n",
    "from neuropy.utils.misc import print_seconds_human_readable\n",
    "from neuropy.plotting import plot_raster\n",
    "## Data must be pre-processed using the MATLAB script located here: \n",
    "# R:\\data\\KDIBA\\gor01\\one\\IIDataMat_Export_ToPython_2021_11_23.m\n",
    "\n",
    "# From pre-computed .mat files:\n",
    "## 07: \n",
    "basedir = r'R:\\data\\KDIBA\\gor01\\one\\2006-6-07_11-26-53'\n",
    "\n",
    "# ## 08:\n",
    "#basedir = r'R:\\data\\KDIBA\\gor01\\one\\2006-6-08_14-26-15'"
   ]
  },
  {
   "cell_type": "code",
   "execution_count": 4,
   "id": "66abf4fd-c432-4d07-89e1-6ab4b1920da0",
   "metadata": {
    "scrolled": true,
    "tags": []
   },
   "outputs": [],
   "source": [
    "from neuropy.analyses import Pf1D, Pf2D, perform_compute_placefields, plot_all_placefields\n",
    "from neuropy.plotting.spikes import get_neuron_colors\n",
    "\n",
    "should_force_recompute_placefields = True\n",
    "should_display_2D_plots = True\n",
    "\n",
    "def compute_placefields_as_needed(active_session, computation_config=None, active_epoch_placefields1D = None, active_epoch_placefields2D = None, should_force_recompute_placefields=False, should_display_2D_plots=False):\n",
    "    if computation_config is None:\n",
    "        computation_config = PlacefieldComputationParameters(speed_thresh=9, grid_bin=2, smooth=0.5)\n",
    "    active_epoch_placefields1D, active_epoch_placefields2D = perform_compute_placefields(active_session.neurons, active_session.position, computation_config, active_epoch_placefields1D, active_epoch_placefields2D, should_force_recompute_placefields=True)\n",
    "    # Plot the placefields computed and save them out to files:\n",
    "    if should_display_2D_plots:\n",
    "        ax_pf_1D, occupancy_fig, active_pf_2D_figures = plot_all_placefields(active_epoch_placefields1D, active_epoch_placefields2D, active_config)\n",
    "    else:\n",
    "        print('skipping 2D placefield plots')\n",
    "    return active_epoch_placefields1D, active_epoch_placefields2D\n",
    "\n",
    "## Plotting Colors:\n",
    "def build_units_colormap(session):\n",
    "    pf_sort_ind = np.array([int(i) for i in np.arange(len(session.neuron_ids))]) # convert to integer scalar array\n",
    "    pf_colors = get_neuron_colors(pf_sort_ind) # [4 x n_neurons]: colors are by ascending index ID\n",
    "    pf_colormap = pf_colors.T # [n_neurons x 4] Make the colormap from the listed colors, used seemingly only by 'runAnalysis_PCAandICA(...)'\n",
    "    pf_listed_colormap = ListedColormap(pf_colormap)\n",
    "    return pf_sort_ind, pf_colors, pf_colormap, pf_listed_colormap\n",
    "\n",
    "def process_by_good_placefields(session, active_config, active_placefields):\n",
    "    \"\"\"  Filters the session by the units in active_placefields that have good placefields and return an updated session. Also adds generated colors for each good unit to active_config \"\"\"\n",
    "    # Get the cell IDs that have a good place field mapping:\n",
    "    good_placefield_neuronIDs = np.array(active_placefields.ratemap.neuron_ids) # in order of ascending ID\n",
    "    print('good_placefield_neuronIDs: {}; ({} good)'.format(good_placefield_neuronIDs, len(good_placefield_neuronIDs)))\n",
    "\n",
    "    ## Filter by neurons with good placefields only:\n",
    "    good_placefields_session = active_epoch_session.get_by_id(good_placefield_neuronIDs) # Filter by good placefields only, and this fetch also ensures they're returned in the order of sorted ascending index ([ 2  3  5  7  9 12 18 21 22 23 26 27 29 34 38 45 48 53 57])\n",
    "\n",
    "    pf_sort_ind, pf_colors, pf_colormap, pf_listed_colormap = build_units_colormap(session)\n",
    "    active_config.plotting_config.pf_sort_ind = pf_sort_ind\n",
    "    active_config.plotting_config.pf_colors = pf_colors\n",
    "    active_config.plotting_config.active_cells_colormap = pf_colormap\n",
    "    active_config.plotting_config.active_cells_listed_colormap = ListedColormap(active_config.plotting_config.active_cells_colormap)\n",
    "    \n",
    "    return good_placefields_session, active_config, good_placefield_neuronIDs\n",
    "\n",
    "\n",
    "## For building the configs used to filter the session by epoch: \n",
    "def build_configs(session_config, active_epoch, active_subplots_shape = (1,1)):\n",
    "    ## Get the config corresponding to this epoch/session settings:\n",
    "    active_config = InteractivePlaceCellConfig(active_session_config=session_config, active_epochs=active_epoch, video_output_config=None, plotting_config=None) # '3|1    \n",
    "\n",
    "    active_config.video_output_config = VideoOutputModeConfig(active_frame_range=np.arange(100.0, 120.0), \n",
    "                                                              video_output_parent_dir=Path('output', active_sess_config.session_name, active_epoch.name),\n",
    "                                                              active_is_video_output_mode=False)\n",
    "    active_config.plotting_config = PlottingConfig(output_subplots_shape=active_subplots_shape,\n",
    "                                                   output_parent_dir=Path('output', active_sess_config.session_name, active_epoch.name)\n",
    "                                                  )\n",
    "    # Make the directories:\n",
    "    active_config.plotting_config.active_output_parent_dir.mkdir(parents=True, exist_ok=True) # makes the directory if it isn't already there\n",
    "    return active_config\n"
   ]
  },
  {
   "cell_type": "code",
   "execution_count": 5,
   "id": "ccb78ee2-837f-48d6-96fd-10e17c4fbc8d",
   "metadata": {},
   "outputs": [
    {
     "name": "stdout",
     "output_type": "stream",
     "text": [
      "\t basepath: R:\\data\\KDIBA\\gor01\\one\\2006-6-07_11-26-53\n",
      "\t session_name: 2006-6-07_11-26-53\n",
      "Loading matlab import file: R:\\data\\KDIBA\\gor01\\one\\2006-6-07_11-26-53\\2006-6-07_11-26-53.epochs_info.mat...\n",
      "done.\n",
      "Loading matlab import file: R:\\data\\KDIBA\\gor01\\one\\2006-6-07_11-26-53\\2006-6-07_11-26-53.position_info.mat...\n",
      "done.\n",
      "Loading matlab import file: R:\\data\\KDIBA\\gor01\\one\\2006-6-07_11-26-53\\2006-6-07_11-26-53.spikes.mat...\n",
      "done.\n",
      "Loading matlab import file: R:\\data\\KDIBA\\gor01\\one\\2006-6-07_11-26-53\\2006-6-07_11-26-53.laps_info.mat...\n",
      "done.\n",
      "setting laps object.\n",
      "session.laps loaded successfully!\n",
      "computing linear positions for all active epochs for session...\n",
      "Saving updated position results to R:\\data\\KDIBA\\gor01\\one\\2006-6-07_11-26-53\\2006-6-07_11-26-53.position.npy...\n",
      "2006-6-07_11-26-53.position.npy saved\n",
      "done.\n",
      "\n",
      "session.position linear positions computed!\n"
     ]
    }
   ],
   "source": [
    "# KDiba Old Format:\n",
    "sess = DataSessionLoader.kdiba_old_format_session(basedir)"
   ]
  },
  {
   "cell_type": "code",
   "execution_count": 6,
   "id": "c9263fa5-9efe-42aa-8dab-6ea73bf8928b",
   "metadata": {},
   "outputs": [
    {
     "data": {
      "text/plain": [
       "<SessionConfig: {'basepath': 'R:\\\\data\\\\KDIBA\\\\gor01\\\\one\\\\2006-6-07_11-26-53', 'session_name': '2006-6-07_11-26-53', 'session_spec': <SessionFolderSpec: {'required_files': ['2006-6-07_11-26-53.xml', '2006-6-07_11-26-53.spikeII.mat', '2006-6-07_11-26-53.position_info.mat', '2006-6-07_11-26-53.epochs_info.mat'], 'optional_files': [], 'additional_validation_requirements': []};>, 'is_resolved': True, 'resolved_required_files': [WindowsPath('R:/data/KDIBA/gor01/one/2006-6-07_11-26-53/2006-6-07_11-26-53.xml'), WindowsPath('R:/data/KDIBA/gor01/one/2006-6-07_11-26-53/2006-6-07_11-26-53.spikeII.mat'), WindowsPath('R:/data/KDIBA/gor01/one/2006-6-07_11-26-53/2006-6-07_11-26-53.position_info.mat'), WindowsPath('R:/data/KDIBA/gor01/one/2006-6-07_11-26-53/2006-6-07_11-26-53.epochs_info.mat')], 'resolved_optional_files': [], 'absolute_start_timestamp': 506917.63604899996};>"
      ]
     },
     "execution_count": 6,
     "metadata": {},
     "output_type": "execute_result"
    }
   ],
   "source": [
    "active_sess_config = sess.config\n",
    "session_name = sess.name\n",
    "active_sess_config"
   ]
  },
  {
   "cell_type": "code",
   "execution_count": 8,
   "id": "f80ba17b-4157-471f-91f6-266c36a450bc",
   "metadata": {},
   "outputs": [
    {
     "data": {
      "text/html": [
       "<div>\n",
       "<style scoped>\n",
       "    .dataframe tbody tr th:only-of-type {\n",
       "        vertical-align: middle;\n",
       "    }\n",
       "\n",
       "    .dataframe tbody tr th {\n",
       "        vertical-align: top;\n",
       "    }\n",
       "\n",
       "    .dataframe thead th {\n",
       "        text-align: right;\n",
       "    }\n",
       "</style>\n",
       "<table border=\"1\" class=\"dataframe\">\n",
       "  <thead>\n",
       "    <tr style=\"text-align: right;\">\n",
       "      <th></th>\n",
       "      <th>start</th>\n",
       "      <th>stop</th>\n",
       "      <th>label</th>\n",
       "      <th>duration</th>\n",
       "    </tr>\n",
       "  </thead>\n",
       "  <tbody>\n",
       "    <tr>\n",
       "      <th>0</th>\n",
       "      <td>0.000000</td>\n",
       "      <td>1739.153364</td>\n",
       "      <td>maze1</td>\n",
       "      <td>1739.153364</td>\n",
       "    </tr>\n",
       "    <tr>\n",
       "      <th>1</th>\n",
       "      <td>1739.153364</td>\n",
       "      <td>1932.420005</td>\n",
       "      <td>maze2</td>\n",
       "      <td>193.266641</td>\n",
       "    </tr>\n",
       "  </tbody>\n",
       "</table>\n",
       "</div>"
      ],
      "text/plain": [
       "         start         stop  label     duration\n",
       "0     0.000000  1739.153364  maze1  1739.153364\n",
       "1  1739.153364  1932.420005  maze2   193.266641"
      ]
     },
     "execution_count": 8,
     "metadata": {},
     "output_type": "execute_result"
    }
   ],
   "source": [
    "# Setup the placefield computation config\n",
    "# active_config.computation_config = PlacefieldComputationParameters(speed_thresh=3, grid_bin=2, smooth=2)\n",
    "sess.epochs.to_dataframe()"
   ]
  },
  {
   "cell_type": "code",
   "execution_count": 9,
   "id": "cd73e47d-2e5b-401e-a1c9-04c0565b978d",
   "metadata": {},
   "outputs": [
    {
     "data": {},
     "metadata": {},
     "output_type": "display_data"
    },
    {
     "data": {
      "application/vnd.holoviews_exec.v0+json": "",
      "text/html": [
       "<div id='1002'>\n",
       "\n",
       "\n",
       "\n",
       "\n",
       "\n",
       "  <div class=\"bk-root\" id=\"56b1dc06-2780-42e4-9539-7d087ef03bb9\" data-root-id=\"1002\"></div>\n",
       "</div>\n",
       "<script type=\"application/javascript\">(function(root) {\n",
       "  function embed_document(root) {\n",
       "    var docs_json = {\"2428eff0-53cc-414e-84db-4731c7d30e5b\":{\"defs\":[{\"extends\":null,\"module\":null,\"name\":\"ReactiveHTML1\",\"overrides\":[],\"properties\":[]},{\"extends\":null,\"module\":null,\"name\":\"FlexBox1\",\"overrides\":[],\"properties\":[{\"default\":\"flex-start\",\"kind\":null,\"name\":\"align_content\"},{\"default\":\"flex-start\",\"kind\":null,\"name\":\"align_items\"},{\"default\":\"row\",\"kind\":null,\"name\":\"flex_direction\"},{\"default\":\"wrap\",\"kind\":null,\"name\":\"flex_wrap\"},{\"default\":\"flex-start\",\"kind\":null,\"name\":\"justify_content\"}]},{\"extends\":null,\"module\":null,\"name\":\"TemplateActions1\",\"overrides\":[],\"properties\":[{\"default\":0,\"kind\":null,\"name\":\"open_modal\"},{\"default\":0,\"kind\":null,\"name\":\"close_modal\"}]},{\"extends\":null,\"module\":null,\"name\":\"MaterialTemplateActions1\",\"overrides\":[],\"properties\":[{\"default\":0,\"kind\":null,\"name\":\"open_modal\"},{\"default\":0,\"kind\":null,\"name\":\"close_modal\"}]}],\"roots\":{\"references\":[{\"attributes\":{\"client_comm_id\":\"3770b1a7fda1494c9a0ff533ef41bffb\",\"comm_id\":\"19617e71e4c248889007eca849abbef6\",\"plot_id\":\"1002\"},\"id\":\"1044\",\"type\":\"panel.models.comm_manager.CommManager\"},{\"attributes\":{},\"id\":\"1021\",\"type\":\"StringFormatter\"},{\"attributes\":{},\"id\":\"1038\",\"type\":\"UnionRenderers\"},{\"attributes\":{\"margin\":[5,5,5,5],\"name\":\"neurons\"},\"id\":\"1036\",\"type\":\"Spacer\"},{\"attributes\":{},\"id\":\"1022\",\"type\":\"StringEditor\"},{\"attributes\":{\"editor\":{\"id\":\"1022\"},\"field\":\"label\",\"formatter\":{\"id\":\"1021\"},\"title\":\"label\",\"width\":0},\"id\":\"1023\",\"type\":\"TableColumn\"},{\"attributes\":{\"format\":\"0,0.0[00000]\"},\"id\":\"1011\",\"type\":\"NumberFormatter\"},{\"attributes\":{\"child\":{\"id\":\"1034\"},\"name\":\"\",\"title\":\"laps\"},\"id\":\"1035\",\"type\":\"Panel\"},{\"attributes\":{\"data\":{\"duration\":{\"__ndarray__\":\"AMZ7C50sm0AAGBBSiChoQA==\",\"dtype\":\"float64\",\"order\":\"little\",\"shape\":[2]},\"index\":[0,1],\"label\":[\"maze1\",\"maze2\"],\"start\":{\"__ndarray__\":\"AAAAAAAAAAAAxnsLnSybQA==\",\"dtype\":\"float64\",\"order\":\"little\",\"shape\":[2]},\"stop\":{\"__ndarray__\":\"AMZ7C50sm0AAyb0VrjGeQA==\",\"dtype\":\"float64\",\"order\":\"little\",\"shape\":[2]}},\"selected\":{\"id\":\"1004\"},\"selection_policy\":{\"id\":\"1038\"}},\"id\":\"1003\",\"type\":\"ColumnDataSource\"},{\"attributes\":{},\"id\":\"1012\",\"type\":\"NumberEditor\"},{\"attributes\":{\"child\":{\"id\":\"1036\"},\"name\":\"neurons\",\"title\":\"neurons\"},\"id\":\"1037\",\"type\":\"Panel\"},{\"attributes\":{\"margin\":[0,0,0,0],\"tabs\":[{\"id\":\"1033\"},{\"id\":\"1035\"},{\"id\":\"1037\"}]},\"id\":\"1002\",\"type\":\"Tabs\"},{\"attributes\":{\"child\":{\"id\":\"1031\"},\"name\":\"\",\"title\":\"epochs\"},\"id\":\"1033\",\"type\":\"Panel\"},{\"attributes\":{\"editor\":{\"id\":\"1012\"},\"field\":\"start\",\"formatter\":{\"id\":\"1011\"},\"title\":\"start\",\"width\":0},\"id\":\"1013\",\"type\":\"TableColumn\"},{\"attributes\":{\"format\":\"0,0.0[00000]\"},\"id\":\"1026\",\"type\":\"NumberFormatter\"},{\"attributes\":{\"reload\":false},\"id\":\"1051\",\"type\":\"panel.models.location.Location\"},{\"attributes\":{},\"id\":\"1027\",\"type\":\"NumberEditor\"},{\"attributes\":{\"indices\":[]},\"id\":\"1004\",\"type\":\"Selection\"},{\"attributes\":{},\"id\":\"1005\",\"type\":\"NumberFormatter\"},{\"attributes\":{\"format\":\"0,0.0[00000]\"},\"id\":\"1016\",\"type\":\"NumberFormatter\"},{\"attributes\":{},\"id\":\"1007\",\"type\":\"CellEditor\"},{\"attributes\":{\"editor\":{\"id\":\"1027\"},\"field\":\"duration\",\"formatter\":{\"id\":\"1026\"},\"title\":\"duration\",\"width\":0},\"id\":\"1028\",\"type\":\"TableColumn\"},{\"attributes\":{},\"id\":\"1017\",\"type\":\"NumberEditor\"},{\"attributes\":{\"columns\":[{\"id\":\"1008\"},{\"id\":\"1013\"},{\"id\":\"1018\"},{\"id\":\"1023\"},{\"id\":\"1028\"}],\"configuration\":{\"columns\":[{\"field\":\"index\"},{\"field\":\"start\"},{\"field\":\"stop\"},{\"field\":\"label\"},{\"field\":\"duration\"}],\"dataTree\":false,\"selectable\":true},\"height\":90,\"indexes\":[\"index\"],\"layout\":\"fit_data_table\",\"margin\":[5,10,5,10],\"name\":\"\",\"page\":1,\"page_size\":20,\"selectable_rows\":null,\"source\":{\"id\":\"1003\"}},\"id\":\"1031\",\"type\":\"panel.models.tabulator.DataTabulator\"},{\"attributes\":{\"editor\":{\"id\":\"1007\"},\"field\":\"index\",\"formatter\":{\"id\":\"1005\"},\"title\":\"index\",\"width\":0},\"id\":\"1008\",\"type\":\"TableColumn\"},{\"attributes\":{\"editor\":{\"id\":\"1017\"},\"field\":\"stop\",\"formatter\":{\"id\":\"1016\"},\"title\":\"stop\",\"width\":0},\"id\":\"1018\",\"type\":\"TableColumn\"},{\"attributes\":{\"margin\":[5,10,5,10],\"name\":\"\"},\"id\":\"1034\",\"type\":\"Spacer\"}],\"root_ids\":[\"1002\",\"1044\",\"1051\"]},\"title\":\"Bokeh Application\",\"version\":\"2.4.0\"}};\n",
       "    var render_items = [{\"docid\":\"2428eff0-53cc-414e-84db-4731c7d30e5b\",\"root_ids\":[\"1002\"],\"roots\":{\"1002\":\"56b1dc06-2780-42e4-9539-7d087ef03bb9\"}}];\n",
       "    root.Bokeh.embed.embed_items_notebook(docs_json, render_items);\n",
       "  }\n",
       "  if (root.Bokeh !== undefined && root.Bokeh.Panel !== undefined && ( root['Tabulator'] !== undefined)) {\n",
       "    embed_document(root);\n",
       "  } else {\n",
       "    var attempts = 0;\n",
       "    var timer = setInterval(function(root) {\n",
       "      if (root.Bokeh !== undefined && root.Bokeh.Panel !== undefined && (root['Tabulator'] !== undefined)) {\n",
       "        clearInterval(timer);\n",
       "        embed_document(root);\n",
       "      } else if (document.readyState == \"complete\") {\n",
       "        attempts++;\n",
       "        if (attempts > 200) {\n",
       "          clearInterval(timer);\n",
       "          console.log(\"Bokeh: ERROR: Unable to run BokehJS code because BokehJS library is missing\");\n",
       "        }\n",
       "      }\n",
       "    }, 25, root)\n",
       "  }\n",
       "})(window);</script>"
      ],
      "text/plain": [
       "Tabs(dynamic=True)\n",
       "    [0] Tabulator(value=         start  ...)\n",
       "    [1] Tabulator(value=    id        ...)\n",
       "    [2] Str(AxesSubplot, name='neurons')"
      ]
     },
     "execution_count": 9,
     "metadata": {
      "application/vnd.holoviews_exec.v0+json": {
       "id": "1002"
      }
     },
     "output_type": "execute_result"
    },
    {
     "data": {
      "image/png": "[encoded data removed]",
      "text/plain": [
       "<Figure size 432x288 with 1 Axes>"
      ]
     },
     "metadata": {
      "needs_background": "light"
     },
     "output_type": "display_data"
    }
   ],
   "source": [
    "epochs_df_widget = pn.widgets.Tabulator(sess.epochs.to_dataframe())\n",
    "laps_df_widget = pn.widgets.Tabulator(sess.laps.to_dataframe())\n",
    "# position_df_widget = pn.widgets.Tabulator(sess.position.to_dataframe())\n",
    "# position_df_widget = pn.widgets.Tabulator(sess.position.to_dataframe())\n",
    "# tabs = pn.Tabs(('epochs',epochs_df_widget), ('laps',laps_df_widget), ('position',position_df_widget), dynamic=True)\n",
    "neurons_plot = plot_raster(sess.neurons, color='jet',add_vert_jitter=True)\n",
    "\n",
    "tabs = pn.Tabs(('epochs',epochs_df_widget), ('laps',laps_df_widget), ('neurons', neurons_plot), dynamic=True)\n",
    "tabs"
   ]
  },
  {
   "cell_type": "code",
   "execution_count": 7,
   "id": "6736e686-64a7-4253-bb1a-b947979f16a3",
   "metadata": {},
   "outputs": [
    {
     "data": {
      "text/plain": [
       "<AxesSubplot:xlabel='Time (s)', ylabel='Units'>"
      ]
     },
     "execution_count": 7,
     "metadata": {},
     "output_type": "execute_result"
    },
    {
     "data": {
      "image/png": "[encoded data removed]",
      "text/plain": [
       "<Figure size 432x288 with 1 Axes>"
      ]
     },
     "metadata": {
      "needs_background": "light"
     },
     "output_type": "display_data"
    }
   ],
   "source": [
    "neurons_plot = plot_raster(sess.neurons, color='jet', add_vert_jitter=True)\n",
    "# plt.show()\n",
    "neurons_plot"
   ]
  },
  {
   "cell_type": "code",
   "execution_count": null,
   "id": "ec7286f0-b334-47a8-bb67-c85e62e40fa7",
   "metadata": {
    "scrolled": true,
    "tags": []
   },
   "outputs": [],
   "source": [
    "# sess.spikes_df.size # (1014937, 18)\n",
    "# np.sum(sess.neurons.n_spikes) # 1014937\n",
    "print('session dataframe spikes: {}\\n session.neurons.n_spikes summed: {}\\n'.format(sess.spikes_df.shape, np.sum(sess.neurons.n_spikes)))"
   ]
  },
  {
   "cell_type": "markdown",
   "id": "ad898964-122c-40e6-8b4f-7ea60294a87c",
   "metadata": {
    "jp-MarkdownHeadingCollapsed": true,
    "tags": []
   },
   "source": [
    "## Debugging"
   ]
  },
  {
   "cell_type": "code",
   "execution_count": null,
   "id": "d9783830-35dc-417a-9941-2c49b5efc819",
   "metadata": {
    "scrolled": true,
    "tags": []
   },
   "outputs": [],
   "source": [
    "# debug_print_spike_counts(sess)\n",
    "\n",
    "# sess.spikes_df unique aclu values: [ 2  3  4  5  6  7  8  9 10 11 12 13 14 15 16 17 18 19 20 21 22 23 24 25\n",
    "#  26 27 28 29 30 31 32 33 34 35 36 37 38 39 40 41 42 43 44 45 46 47 48 49\n",
    "#  50 51 52 53 54 55 56 57 58 59 60 61 62 63 64 65]\n",
    "# sess.spikes_df unique aclu value counts: [    0     0  1707  1359   554  3066 91337  2707   294  2991   913  1278\n",
    "#   1221  5475  2880 36760 48449   523  2595  3025 34729  3958  5263   790\n",
    "#    663  1070  1078  2954  4044  2581 73951  4871 13444   476  1234 89854\n",
    "#   5822 14961  2682  1184 13575 83972   795 22769  1559  8307  2098   438\n",
    "#   3476 28370 43854  1355  2552  2875 59011  1440 75786  3656   875 17727\n",
    "#  77247   550   408  2627  1734  2799]\n",
    "\n",
    "# sess.spikes_df unique unit_id values: [ 0  1  2  3  4  5  6  7  8  9 10 11 12 13 14 15 16 17 18 19 20 21 22 23\n",
    "#  24 25 26 27 28 29 30 31 32 33 34 35 36 37 38 39 40 41 42 43 44 45 46 47\n",
    "#  48 49 50 51 52 53 54 55 56 57 58 59 60 61 62 63]\n",
    "# sess.spikes_df unique unit_id value counts: [ 1707  1359   554  3066 91337  2707   294  2991   913  1278  1221  5475\n",
    "#   2880 36760 48449   523  2595  3025 34729  3958  5263   790   663  1070\n",
    "#   1078  2954  4044  2581 73951  4871 13444   476  1234 89854  5822 14961\n",
    "#   2682  1184 13575 83972   795 22769  1559  8307  2098   438  3476 28370\n",
    "#  43854  1355  2552  2875 59011  1440 75786  3656   875 17727 77247   550\n",
    "#    408  2627  1734  2799]\n",
    "\n",
    "# sess.neurons.spiketrains\n",
    "# sess.neurons.n_spikes\n",
    "\n",
    "## Note the unit_id seems to have valid spikes for all of them, while the aclu does not!\n",
    "sess.spikes_df # 1014937\n",
    "\n",
    "sess.laps\n",
    "# np.where(np.logical_and((sess.spikes_df.maze_relative_lap == 1), (sess.spikes_df.maze_id == 2)))\n",
    "# sess.spikes_df.lap.values[np.logical_and((sess.spikes_df.maze_relative_lap == 1), (sess.spikes_df.lap_maze == 2))]\n",
    "\n",
    "\n",
    "# test_df = sess.spikes_df\n",
    "# test_df"
   ]
  },
  {
   "cell_type": "code",
   "execution_count": null,
   "id": "065881f6-218a-4e92-a0d8-9e2b7ae9519d",
   "metadata": {
    "scrolled": true,
    "tags": []
   },
   "outputs": [],
   "source": [
    "lap_specific_subsessions = list()\n",
    "lap_grouped_spikes_df = sess.spikes_df.groupby(['lap']) #  as_index=False keeps the original index"
   ]
  },
  {
   "cell_type": "code",
   "execution_count": null,
   "id": "6566deba-051e-4fac-805b-734d4a75d3db",
   "metadata": {
    "scrolled": true,
    "tags": []
   },
   "outputs": [],
   "source": [
    "i = 2\n",
    "curr_lap_id = sess.laps.lap_id[i]\n",
    "curr_lap_times = sess.laps.get_lap_times(i)\n",
    "print('curr_lap_id: {}'.format(curr_lap_id))\n",
    "print('curr_lap_times: {}'.format(curr_lap_times))\n",
    "\n",
    "lap_specific_subsessions.append(sess.time_slice(curr_lap_times[0], curr_lap_times[-1]))\n",
    "# lap_specific_subsessions.append(sess.time_slice(curr_lap_dataframe.t_seconds.values[0], curr_lap_dataframe.t_seconds.values[-1]))"
   ]
  },
  {
   "cell_type": "code",
   "execution_count": null,
   "id": "11c43d53-dcfc-430f-8c14-022549261d8d",
   "metadata": {
    "scrolled": true,
    "tags": []
   },
   "outputs": [],
   "source": [
    "i = 3\n",
    "curr_lap_id = sess.laps.lap_id[i]\n",
    "curr_lap_times = sess.laps.get_lap_times(i)\n",
    "print('curr_lap_id: {}'.format(curr_lap_id))\n",
    "print('curr_lap_times: {}'.format(curr_lap_times))\n",
    "\n",
    "lap_specific_subsessions.append(sess.time_slice(curr_lap_times[0], curr_lap_times[-1]))"
   ]
  },
  {
   "cell_type": "code",
   "execution_count": null,
   "id": "3f48e028-51c4-4b4f-ab6e-cdb8dde958d4",
   "metadata": {},
   "outputs": [],
   "source": [
    "lap_specific_session = DataSession.concat(lap_specific_subsessions)\n",
    "lap_specific_session"
   ]
  },
  {
   "cell_type": "code",
   "execution_count": null,
   "id": "f2700b62-aad3-4252-beeb-fb55cb284e4c",
   "metadata": {},
   "outputs": [],
   "source": [
    "lap_specific_session.neurons.n_spikes # this looks right.\n",
    "\n",
    "lap_specific_session.position.print_debug_str() # this looks right.\n",
    "\n",
    "# len(sess.neurons.n_spikes) # 64 items long\n",
    "# sess.neurons.n_spikes\n",
    "# array([ 1707,  1359,   554,  3066, 91337,  2707,   294,  2991,   913,\n",
    "#         1278,  1221,  5475,  2880, 36760, 48449,   523,  2595,  3025,\n",
    "#        34729,  3958,  5263,   790,   663,  1070,  1078,  2954,  4044,\n",
    "#         2581, 73951,  4871, 13444,   476,  1234, 89854,  5822, 14961,\n",
    "#         2682,  1184, 13575, 83972,   795, 22769,  1559,  8307,  2098,\n",
    "#          438,  3476, 28370, 43854,  1355,  2552,  2875, 59011,  1440,\n",
    "#        75786,  3656,   875, 17727, 77247,   550,   408,  2627,  1734,\n",
    "#         2799])\n",
    "\n"
   ]
  },
  {
   "cell_type": "markdown",
   "id": "d8312b63-1ef4-423c-9bec-59e98f46d0d7",
   "metadata": {
    "tags": []
   },
   "source": [
    "## Laps: Create version of Session that only includes activity during the laps"
   ]
  },
  {
   "cell_type": "code",
   "execution_count": null,
   "id": "dfe03444-11b5-4d92-93ab-128a7120bd96",
   "metadata": {
    "scrolled": true,
    "tags": []
   },
   "outputs": [],
   "source": [
    "sess.laps.lap_id # 1-80"
   ]
  },
  {
   "cell_type": "code",
   "execution_count": null,
   "id": "ef81a4a3-36ac-4265-86ec-0c26f41b2709",
   "metadata": {
    "scrolled": true,
    "tags": []
   },
   "outputs": [],
   "source": [
    "sess.recinfo.eeg_sampling_rate # 1252\n",
    "sess.recinfo.dat_sampling_rate # 32552\n",
    "\n",
    "# np.unique(sess.spikes_df.lap)"
   ]
  },
  {
   "cell_type": "code",
   "execution_count": 10,
   "id": "6dc1055e-bbb6-4d60-9b9a-59e645bd28f6",
   "metadata": {
    "scrolled": true,
    "tags": []
   },
   "outputs": [
    {
     "name": "stdout",
     "output_type": "stream",
     "text": [
      "Constraining to epoch with times (start: 506947.14532797126, end: 506965.2975823573)\n",
      "Constraining to epoch with times (start: 506976.14060016564, end: 506985.41376533784)\n",
      "Constraining to epoch with times (start: 507009.34168396675, end: 507041.43694049394)\n",
      "Constraining to epoch with times (start: 507041.4384457732, end: 507048.94616416923)\n",
      "Constraining to epoch with times (start: 507189.9530116537, end: 507203.835280386)\n",
      "Constraining to epoch with times (start: 507219.35627595923, end: 507226.0595608472)\n",
      "Constraining to epoch with times (start: 507647.7455964639, end: 507674.9084830365)\n",
      "Constraining to epoch with times (start: 507694.50387012365, end: 507700.50084113324)\n",
      "Constraining to epoch with times (start: 507757.0275782715, end: 507771.3734115665)\n",
      "Constraining to epoch with times (start: 507786.09193971055, end: 507792.6239914062)\n",
      "Constraining to epoch with times (start: 507802.8668636018, end: 507818.7573284259)\n",
      "Constraining to epoch with times (start: 507842.0761619266, end: 507848.0489255886)\n",
      "Constraining to epoch with times (start: 507871.60715992685, end: 507877.9149557372)\n",
      "Constraining to epoch with times (start: 507889.2250401865, end: 507894.0884130564)\n",
      "Constraining to epoch with times (start: 507917.6562013097, end: 507931.36299749184)\n",
      "Constraining to epoch with times (start: 507939.805955089, end: 507945.04355880735)\n",
      "Constraining to epoch with times (start: 507968.77800297533, end: 507975.2801026862)\n",
      "Constraining to epoch with times (start: 507991.46895071754, end: 507996.6030588089)\n",
      "Constraining to epoch with times (start: 508025.2313500712, end: 508035.3028661946)\n",
      "Constraining to epoch with times (start: 508043.6793457458, end: 508048.4111449231)\n",
      "Constraining to epoch with times (start: 508074.97870892053, end: 508081.2771351357)\n",
      "Constraining to epoch with times (start: 508091.7622651274, end: 508095.46540563134)\n",
      "Constraining to epoch with times (start: 508113.47806840885, end: 508119.35188300145)\n",
      "Constraining to epoch with times (start: 508127.36138162063, end: 508131.7678561645)\n",
      "Constraining to epoch with times (start: 508203.9770531134, end: 508212.61750948953)\n",
      "Constraining to epoch with times (start: 508225.0372304906, end: 508228.56413044484)\n",
      "Constraining to epoch with times (start: 508244.2191265895, end: 508250.65831177257)\n",
      "Constraining to epoch with times (start: 508278.0512910274, end: 508282.8809640746)\n",
      "Constraining to epoch with times (start: 508314.12561495736, end: 508318.62237553496)\n",
      "Constraining to epoch with times (start: 508336.448506568, end: 508340.80647425674)\n",
      "Constraining to epoch with times (start: 508358.79517544655, end: 508364.4972038871)\n",
      "Constraining to epoch with times (start: 508373.71488876763, end: 508377.81379482895)\n",
      "Constraining to epoch with times (start: 508394.7653586298, end: 508399.73886264337)\n",
      "Constraining to epoch with times (start: 508407.37299377465, end: 508411.38794211904)\n",
      "Constraining to epoch with times (start: 508463.0414145524, end: 508471.4342678553)\n",
      "Constraining to epoch with times (start: 508480.8588825499, end: 508484.58380352275)\n",
      "Constraining to epoch with times (start: 508496.6759880516, end: 508507.3455301088)\n",
      "Constraining to epoch with times (start: 508517.0895404798, end: 508521.7619886475)\n",
      "Constraining to epoch with times (start: 508545.5856743698, end: 508552.2921848561)\n",
      "Constraining to epoch with times (start: 508569.0713788251, end: 508574.50903108105)\n",
      "Constraining to epoch with times (start: 508586.8944378597, end: 508609.34321996593)\n",
      "Constraining to epoch with times (start: 508622.5299575343, end: 508640.184855375)\n",
      "Constraining to epoch with times (start: 508817.5265015361, end: 508829.604862072)\n",
      "Constraining to epoch with times (start: 508843.78164329345, end: 508848.38973309414)\n",
      "filtering by laps: [ 1  2  3  4  5  6  7  8  9 10 11 12 13 14 15 16 17 18 19 20 21 22 23 24\n",
      " 25 26 27 28 29 30 31 32 33 34 35 36 37 38 39 40 41 42 43]\n",
      "!! WARNING: Session.concat(...) is not yet fully implemented, meaning the returned session is not fully valid. Continue with caution.\n",
      "0/932598 total spikes spanning 64/64 units remain in subsession\n"
     ]
    }
   ],
   "source": [
    "# lap_specific_session = sess.filtered_by_laps(np.arange(3, 80))\n",
    "lap_specific_session = deepcopy(sess.filtered_by_laps())\n",
    "# lap_specific_session = sess.filtered_by_laps()\n",
    "# print(lap_specific_session.neurons.n_spikes)\n",
    "print_subsession_neuron_differences(sess.neurons, lap_specific_session.neurons)"
   ]
  },
  {
   "cell_type": "code",
   "execution_count": 11,
   "id": "c2d8b42b-30fc-4bf5-841f-fcaad11fd780",
   "metadata": {
    "scrolled": true,
    "tags": []
   },
   "outputs": [
    {
     "data": {
      "text/plain": [
       "<FlattenedSpiketrains: {'_filename': None, '_metadata': None, '_spikes_df':                  t      t_seconds  t_rel_seconds  shank  cluster  aclu  qclu  \\\n",
       "31364    1904476.0  506976.141522      58.505473    8.0      7.0  49.0   5.0   \n",
       "31365    1904506.0  506976.142443      58.506394    2.0      7.0  15.0   5.0   \n",
       "31366    1904576.0  506976.144594      58.508545    3.0      8.0  30.0   5.0   \n",
       "31367    1904580.0  506976.144717      58.508668    1.0      9.0   6.0   5.0   \n",
       "31368    1904581.0  506976.144747      58.508698    8.0     14.0  54.0   5.0   \n",
       "...            ...            ...            ...    ...      ...   ...   ...   \n",
       "910913  62849216.0  508848.362976    1930.726927    1.0      9.0   6.0   5.0   \n",
       "910914  62849530.0  508848.372622    1930.736573    2.0      7.0  15.0   5.0   \n",
       "910915  62849569.0  508848.373820    1930.737771   11.0      6.0  60.0   5.0   \n",
       "910916  62849739.0  508848.379043    1930.742994    4.0      4.0  35.0   5.0   \n",
       "910917  62850004.0  508848.387183    1930.751134    2.0      8.0  16.0   5.0   \n",
       "\n",
       "                 x           y     speed  traj   lap  maze_relative_lap  \\\n",
       "31364    50.569722  144.492484  4.994783   3.0   2.0                2.0   \n",
       "31365    50.574289  144.492141  4.994097   3.0   2.0                2.0   \n",
       "31366    50.584947  144.491339  4.992496   3.0   2.0                2.0   \n",
       "31367    50.585556  144.491293  4.992405   3.0   2.0                2.0   \n",
       "31368    50.585708  144.491281  4.992382   3.0   2.0                2.0   \n",
       "...            ...         ...       ...   ...   ...                ...   \n",
       "910913  215.473164  139.607164  1.461385   1.0  44.0                2.0   \n",
       "910914  215.477623  139.593891  1.458268   1.0  44.0                2.0   \n",
       "910915  215.478177  139.592242  1.457880   1.0  44.0                2.0   \n",
       "910916  215.480591  139.585056  1.456193   1.0  44.0                2.0   \n",
       "910917  215.484354  139.573854  1.453562   1.0  44.0                2.0   \n",
       "\n",
       "        maze_id                cell_type  flat_spike_idx  x_loaded  y_loaded  \\\n",
       "31364       1.0  NeuronType.CONTAMINATED           31364  0.197481  0.492560   \n",
       "31365       1.0  NeuronType.CONTAMINATED           31365  0.197485  0.492589   \n",
       "31366       1.0  NeuronType.CONTAMINATED           31366  0.197493  0.492656   \n",
       "31367       1.0  NeuronType.CONTAMINATED           31367  0.197494  0.492660   \n",
       "31368       1.0  NeuronType.CONTAMINATED           31368  0.197494  0.492661   \n",
       "...         ...                      ...             ...       ...       ...   \n",
       "910913      2.0  NeuronType.CONTAMINATED          910913  0.761453  0.481649   \n",
       "910914      2.0  NeuronType.CONTAMINATED          910914  0.761458  0.481618   \n",
       "910915      2.0  NeuronType.CONTAMINATED          910915  0.761459  0.481615   \n",
       "910916      2.0  NeuronType.CONTAMINATED          910916  0.761462  0.481598   \n",
       "910917      2.0  NeuronType.CONTAMINATED          910917  0.761465  0.481573   \n",
       "\n",
       "        linear_pos  unit_id  \n",
       "31364          NaN       47  \n",
       "31365          NaN       13  \n",
       "31366          NaN       28  \n",
       "31367          NaN        4  \n",
       "31368          NaN       52  \n",
       "...            ...      ...  \n",
       "910913         NaN        4  \n",
       "910914         NaN       13  \n",
       "910915         NaN       58  \n",
       "910916         NaN       33  \n",
       "910917         NaN       14  \n",
       "\n",
       "[219743 rows x 20 columns], 't_start': 0.0};>"
      ]
     },
     "execution_count": 11,
     "metadata": {},
     "output_type": "execute_result"
    }
   ],
   "source": [
    "lap_specific_session.flattened_spiketrains\n",
    "\n",
    "# lap_specific_session.position"
   ]
  },
  {
   "cell_type": "markdown",
   "id": "fd7aeaa7-ec07-4f3d-b665-2874cd4a589f",
   "metadata": {
    "tags": []
   },
   "source": [
    "# Filter Session by Epoch:"
   ]
  },
  {
   "cell_type": "code",
   "execution_count": 12,
   "id": "ff74b4ac-d60d-400c-a610-fe4e08cd2bcd",
   "metadata": {},
   "outputs": [
    {
     "name": "stdout",
     "output_type": "stream",
     "text": [
      "Constraining to units with type: pyramidal\n",
      "Constraining to epoch with times (start: 0.0, end: 1739.1533641185379)\n",
      "69892/932598 total spikes spanning 40/64 units remain in subsession\n"
     ]
    }
   ],
   "source": [
    "active_epoch = sess.epochs.get_named_timerange('maze1')\n",
    "# active_epoch = sess.epochs.get_named_timerange('maze2')\n",
    "# active_epoch = NamedTimerange(name='maze', start_end_times=[sess.epochs['maze1'][0], sess.epochs['maze2'][1]])\n",
    "\n",
    "active_subplots_shape = (1,1) # Single subplot\n",
    "# active_subplots_shape = '1|2' # 1 subplot on left, two on right                                                   \n",
    "active_config = build_configs(active_sess_config, active_epoch, active_subplots_shape = active_subplots_shape)                                  \n",
    "active_config.computation_config = PlacefieldComputationParameters(speed_thresh=1, grid_bin=2, smooth=0.5)\n",
    "\n",
    "## All Spikes:\n",
    "active_epoch_session = sess.filtered_by_neuron_type('pyramidal').filtered_by_epoch(active_epoch)\n",
    "print_subsession_neuron_differences(sess.neurons, active_epoch_session.neurons)"
   ]
  },
  {
   "cell_type": "code",
   "execution_count": null,
   "id": "ebc29121-d51e-4fa3-96d1-97b48736ac24",
   "metadata": {},
   "outputs": [],
   "source": [
    "## Lap_specific Spikes Only:\n",
    "active_lap_specific_epoch_session = lap_specific_session.filtered_by_neuron_type('pyramidal').filtered_by_epoch(active_epoch)\n",
    "print_subsession_neuron_differences(lap_specific_session.neurons, active_lap_specific_epoch_session.neurons)"
   ]
  },
  {
   "cell_type": "code",
   "execution_count": null,
   "id": "2302da1f-6988-4d2a-ab74-a758bc61dac3",
   "metadata": {},
   "outputs": [],
   "source": [
    "print(sess.neurons.n_spikes)\n",
    "print(active_lap_specific_epoch_session.neurons.n_spikes)"
   ]
  },
  {
   "cell_type": "markdown",
   "id": "212608eb-26af-425d-92c0-a3309bf4727d",
   "metadata": {
    "tags": []
   },
   "source": [
    "## Compute Placefields if needed:"
   ]
  },
  {
   "cell_type": "code",
   "execution_count": null,
   "id": "7e3ca3f8-c2f4-4d8f-94e9-b2f5de765092",
   "metadata": {},
   "outputs": [],
   "source": [
    "## ICA and PCA Analysis\n",
    "should_show_2D_ICA_plots = False\n",
    "from PhoPositionalData.analysis.neuronal_dimensionality_reduction import runAnalysis_PCAandICA\n",
    "active_session_ensembles, template, zsc_template, pca_data = runAnalysis_PCAandICA(active_epoch_session.neurons, bin_size=0.250, frate_thresh=0.1, should_plot=should_show_2D_ICA_plots, active_cells_colormap=active_config.plotting_config.active_cells_colormap)"
   ]
  },
  {
   "cell_type": "code",
   "execution_count": null,
   "id": "f48a9b28-84be-44bd-b6d0-445c8369ad82",
   "metadata": {
    "tags": []
   },
   "outputs": [],
   "source": [
    "try: active_epoch_placefields1D\n",
    "except NameError: active_epoch_placefields1D = None # Checks variable active_epoch_placefields's existance, and sets its value to None if it doesn't exist so it can be checked in the next step\n",
    "try: active_epoch_placefields2D\n",
    "except NameError: active_epoch_placefields2D = None # Checks variable active_epoch_placefields's existance, and sets its value to None if it doesn't exist so it can be checked in the next step\n",
    "\n",
    "active_epoch_placefields1D, active_epoch_placefields2D = compute_placefields_as_needed(active_epoch_session, active_config.computation_config, active_epoch_placefields1D, active_epoch_placefields2D, should_force_recompute_placefields=should_force_recompute_placefields, should_display_2D_plots=should_display_2D_plots)\n",
    "# Focus on the 2D placefields:\n",
    "active_epoch_placefields = active_epoch_placefields2D\n",
    "# Get the updated session using the units that have good placefields\n",
    "active_epoch_session, active_config, good_placefield_neuronIDs = process_by_good_placefields(active_epoch_session, active_config, active_epoch_placefields)"
   ]
  },
  {
   "cell_type": "markdown",
   "id": "6742e705-6578-4b58-bdba-20cb5c4e870a",
   "metadata": {
    "tags": []
   },
   "source": [
    "## Compute the placefields for lap-only filtered Session:"
   ]
  },
  {
   "cell_type": "code",
   "execution_count": null,
   "id": "76c6d208-5a08-440d-b0b9-7e9ba5475ad3",
   "metadata": {
    "tags": []
   },
   "outputs": [],
   "source": [
    "try: active_lap_only_placefields1D\n",
    "except NameError: active_lap_only_placefields1D = None # Checks variable active_epoch_placefields's existance, and sets its value to None if it doesn't exist so it can be checked in the next step\n",
    "try: active_lap_only_placefields2D\n",
    "except NameError: active_lap_only_placefields2D = None # Checks variable active_epoch_placefields's existance, and sets its value to None if it doesn't exist so it can be checked in the next step\n",
    "\n",
    "lap_specific_config = active_config\n",
    "active_lap_only_placefields1D, active_lap_only_placefields2D = compute_placefields_as_needed(active_lap_specific_epoch_session, lap_specific_config.computation_config, active_lap_only_placefields1D, active_lap_only_placefields2D, should_force_recompute_placefields=should_force_recompute_placefields, should_display_2D_plots=True)\n",
    "# Focus on the 2D placefields:\n",
    "active_lap_only_placefields = active_lap_only_placefields2D\n",
    "# Get the updated session using the units that have good placefields\n",
    "lap_specific_session, lap_specific_config, lap_specific_good_placefield_neuronIDs = process_by_good_placefields(active_lap_specific_epoch_session, lap_specific_config, active_lap_only_placefields)"
   ]
  },
  {
   "cell_type": "markdown",
   "id": "bf3f80a3-8ea2-44af-a814-cc6a9f099748",
   "metadata": {
    "jp-MarkdownHeadingCollapsed": true,
    "tags": [
     "debug"
    ]
   },
   "source": [
    "## Debug"
   ]
  },
  {
   "cell_type": "code",
   "execution_count": null,
   "id": "208d9a2f-b950-4945-825d-b663db3e7ecb",
   "metadata": {
    "tags": [
     "debug"
    ]
   },
   "outputs": [],
   "source": [
    "debug_print_spike_counts(active_epoch_session)\n",
    "# active_epoch_session.spikes_df unique aclu values: [ 2  3  4  5  7  8  9 10 11 12 14 17 18 21 22 23 24 25 26 27 28 29 33 34\n",
    "#  38 39 42 44 45 46 47 48 53 55 57 58 61 62 63 64]\n",
    "# active_epoch_session.spikes_df unique aclu value counts: [   0    0  513  473   33  630    0  130  100  631   70  150  349    0\n",
    "#    52    0    0  308  952    0    0 1436  898  342  223   89  109 1261\n",
    "#   684  916    0    0    0  137  293    0    0    0  687  394    0    0\n",
    "#   225    0  495 2123  316  111  396    0    0    0    0  458    0  576\n",
    "#     0  927  382    0    0   89   90   55  370]\n",
    "# active_epoch_session.spikes_df unique unit_id values: [ 0  1  2  3  5  6  7  8  9 10 12 15 16 19 20 21 22 23 24 25 26 27 31 32\n",
    "#  36 37 40 42 43 44 45 46 51 53 55 56 59 60 61 62]\n",
    "# active_epoch_session.spikes_df unique unit_id value counts: [ 513  473   33  630    0  130  100  631   70  150  349    0   52    0\n",
    "#     0  308  952    0    0 1436  898  342  223   89  109 1261  684  916\n",
    "#     0    0    0  137  293    0    0    0  687  394    0    0  225    0\n",
    "#   495 2123  316  111  396    0    0    0    0  458    0  576    0  927\n",
    "#   382    0    0   89   90   55  370]\n",
    "\n",
    "\n",
    "# print(active_epoch_session.epochs.to_dataframe())\n",
    "# print(sess.spikes_df) # max is in 4.2305 x 10^4\n",
    "# print(sess.position.to_dataframe()) # max is in 4.2305 x 10^4 ## NOTE: The only place that I need to be careful with indexing is with sess.position properties, as these appear to be represented in terms of the number of 60Hz samples instead of in seconds like the Neurons and other classes.\n",
    "# print(sess.flattened_spiketrains.spikes_df) # t_seconds is in the same units as the position dataframe, which is NOT seconds, and 't' is a factor of 1x10^4 larger than 't_seconds'\n",
    "# # Get only the rows with a lap != -1:\n",
    "# # spikes_df = spikes_df[(spikes_df.lap != -1)] # 229887 rows × 13 columns\n",
    "# # spikes_df # 932598 rows × 14 columns"
   ]
  },
  {
   "cell_type": "code",
   "execution_count": null,
   "id": "20a62623-e071-45e8-ba19-eb99915b1217",
   "metadata": {},
   "outputs": [],
   "source": [
    "print('pix2cm: {}'.format(DataSessionLoader.pix2cm))"
   ]
  },
  {
   "cell_type": "code",
   "execution_count": null,
   "id": "513c142d-bf5e-4f72-ac00-1e6662a6bf74",
   "metadata": {},
   "outputs": [],
   "source": [
    "active_epoch_session.spikes_df"
   ]
  },
  {
   "cell_type": "code",
   "execution_count": null,
   "id": "833a850f-68bd-4f90-a614-b509cf595dd3",
   "metadata": {},
   "outputs": [],
   "source": [
    "debug_print_spike_counts(active_epoch_session) # 46 neurons after filtering, much better\n",
    "\n",
    "# count_arr = np.bincount(active_epoch_session.spikes_df['unit_id'])\n",
    "# count_arr\n",
    "valid_indicies = np.nonzero(active_epoch_session.spikes_df['unit_id'].values)\n",
    "valid_indicies\n",
    "# count_arr = np.bincount(active_epoch_session.spikes_df['aclu'])\n",
    "# count_arr\n",
    "\n",
    "# len(active_epoch_session.spikes_df['unit_id'].values) # 17766\n",
    "active_epoch_session.neurons.n_spikes\n",
    "\n",
    "# active_epoch_session.neurons.n_spikes # array([ 513,  473,   33,  630,  130,  631,  150,  349,  308,  952, 1436,\n",
    "#         # 898,  342,  223, 1261,  684,  916,  137,  293,  687,  394,  225,\n",
    "#         # 495, 2123,  316,  111,  396,  458,  576,  927,  382])\n",
    "        \n",
    "# array([   0,    0,  513,  473,   33,  630,    0,  130,    0,  631,    0,\n",
    "#         150,  349,    0,    0,    0,    0,  308,  952,    0,    0, 1436,\n",
    "#         898,  342,  223,    0,    0, 1261,  684,  916,    0,    0,    0,\n",
    "#         137,  293,    0,    0,    0,  687,  394,    0,    0,  225,    0,\n",
    "#         495, 2123,  316,  111,  396,    0,    0,    0,    0,  458,    0,\n",
    "#         576,    0,  927,  382], dtype=int64)"
   ]
  },
  {
   "cell_type": "code",
   "execution_count": null,
   "id": "c57fccde-9f7e-47b1-869d-122b0ebfc8bc",
   "metadata": {},
   "outputs": [],
   "source": [
    "active_lap_specific_epoch_session.spikes_df"
   ]
  },
  {
   "cell_type": "markdown",
   "id": "d4bca1e4-77d4-4a42-9883-57f0ff6431d4",
   "metadata": {
    "tags": []
   },
   "source": [
    "## Main Spike/Placemap plotting:"
   ]
  },
  {
   "cell_type": "markdown",
   "id": "3ad08080-abb6-4373-b426-520cb0ac95f3",
   "metadata": {
    "tags": []
   },
   "source": [
    "# 3D Plots"
   ]
  },
  {
   "cell_type": "markdown",
   "id": "8dd9ebb1-1e31-44e1-8600-339b06db84a0",
   "metadata": {
    "tags": []
   },
   "source": [
    "## Tuning Curves 3D Plot:"
   ]
  },
  {
   "cell_type": "code",
   "execution_count": null,
   "id": "dc59a148-4799-48e5-ba8a-69516a44ec4c",
   "metadata": {
    "scrolled": true,
    "tags": []
   },
   "outputs": [],
   "source": [
    "from PhoGui.InteractivePlotter.InteractivePlaceCellTuningCurvesDataExplorer import InteractivePlaceCellTuningCurvesDataExplorer\n",
    "try: pActiveTuningCurvesPlotter\n",
    "except NameError: pActiveTuningCurvesPlotter = None # Checks variable p's existance, and sets its value to None if it doesn't exist so it can be checked in the next step\n",
    "ipcDataExplorer = InteractivePlaceCellTuningCurvesDataExplorer(active_config, active_epoch_session, active_epoch_placefields, active_config.plotting_config.pf_colors, extant_plotter=pActiveTuningCurvesPlotter)\n",
    "pActiveTuningCurvesPlotter = ipcDataExplorer.plot(pActiveTuningCurvesPlotter) # [2, 17449]"
   ]
  },
  {
   "cell_type": "markdown",
   "id": "57076118-8e5f-496e-b06f-d1be2491d590",
   "metadata": {
    "pycharm": {
     "name": "#%%\n"
    },
    "tags": []
   },
   "source": [
    "## Interactive 3D Spike and Behavior Browser: "
   ]
  },
  {
   "cell_type": "code",
   "execution_count": null,
   "id": "14318f45-b618-43a5-9f77-201cfac02b9d",
   "metadata": {
    "pycharm": {
     "name": "#%%\n"
    },
    "tags": []
   },
   "outputs": [],
   "source": [
    "import PhoGui\n",
    "from PhoGui.InteractivePlotter.PhoInteractivePlotter import PhoInteractivePlotter\n",
    "from PhoGui.InteractivePlotter.shared_helpers import InteractivePyvistaPlotterBuildIfNeededMixin\n",
    "from PhoGui.InteractivePlotter.InteractivePlaceCellDataExplorer import InteractivePlaceCellDataExplorer\n",
    "\n",
    "active_config.plotting_config.show_legend = True\n",
    "\n",
    "try: pActiveInteractivePlaceSpikesPlotter\n",
    "except NameError: pActiveInteractivePlaceSpikesPlotter = None # Checks variable p's existance, and sets its value to None if it doesn't exist so it can be checked in the next step\n",
    "ipspikesDataExplorer = InteractivePlaceCellDataExplorer(active_config, active_epoch_session, extant_plotter=pActiveInteractivePlaceSpikesPlotter)\n",
    "pActiveInteractivePlaceSpikesPlotter = ipspikesDataExplorer.plot(pActivePlotter=pActiveInteractivePlaceSpikesPlotter)"
   ]
  },
  {
   "cell_type": "markdown",
   "id": "44166cc3-20d5-4c7e-a2c0-1b205c874174",
   "metadata": {
    "jp-MarkdownHeadingCollapsed": true,
    "tags": []
   },
   "source": [
    "## Debugging Index Issues:"
   ]
  },
  {
   "cell_type": "code",
   "execution_count": null,
   "id": "646febe2-b13c-4657-846c-779aa7c05fff",
   "metadata": {
    "scrolled": true,
    "tags": []
   },
   "outputs": [],
   "source": [
    "# def plot_placefields2D(pTuningCurves, active_placefields, pf_colors: np.ndarray, zScalingFactor=10.0, show_legend=False):\n",
    "\n",
    "#     # .threshold().elevation()\n",
    "\n",
    "#     curr_tuning_curves = active_placefields.ratemap.normalized_tuning_curves\n",
    "#     # curr_tuning_curves[curr_tuning_curves < 0.1] = np.nan\n",
    "#     curr_tuning_curves = curr_tuning_curves * zScalingFactor\n",
    "\n",
    "#     num_curr_tuning_curves = len(curr_tuning_curves)\n",
    "#     # Get the cell IDs that have a good place field mapping:\n",
    "#     good_placefield_neuronIDs = np.array(active_placefields.ratemap.neuron_ids) # in order of ascending ID\n",
    "#     tuningCurvePlot_x, tuningCurvePlot_y = np.meshgrid(active_placefields.ratemap.xbin_centers, active_placefields.ratemap.ybin_centers)\n",
    "\n",
    "#     pdata_currActiveNeuronTuningCurve = pv.StructuredGrid(tuningCurvePlot_x, tuningCurvePlot_y, curr_active_neuron_tuning_Curve)\n",
    "#     pdata_currActiveNeuronTuningCurve[\"Elevation\"] = curr_active_neuron_tuning_Curve.ravel(order=\"F\")\n",
    "        \n",
    "#     return pTuningCurves\n",
    "\n",
    "# plot_placefields2D(pTuningCurves, active_epoch_placefields\n",
    "\n",
    "# ipcDataExplorer.plots['spikes_pf_active']['cellID']\n",
    "\n",
    "# only_active_colormap = ipcDataExplorer.active_config.plotting_config.active_cells_listed_colormap.copy()\n",
    "# only_active_colormap\n",
    "test_full_pc_data = ipcDataExplorer.plots_data['spikes_pf_active']['historical_spikes_pc']\n",
    "\n",
    "# test_subset = test_full_pc_data.GetCellGhostArray()\n",
    "# test_subset = test_full_pc_data.GetCellData() # vtkmodules.vtkCommonDataModel.vtkCellData\n",
    "# test_subset = test_full_pc_data[test_full_pc_data['cellID'] == 55] # vtkmodules.vtkCommonDataModel.vtkCellData\n",
    "\n",
    "# test_subset = test_full_pc_data.GetGhostArray() # [test_full_pc_data['cellID'] == 55] # vtkmodules.vtkCommonDataModel.vtkCellData\n",
    "\n",
    "\n",
    "unique_ids = np.unique(test_full_pc_data['cellID']) # array([ 0,  1,  2,  3,  5,  7,  9, 10, 15, 16, 19, 20, 21, 22, 25, 26, 27, 31, 32, 36, 37, 40, 42, 43, 44, 45, 46, 51, 53, 55, 56])\n",
    "# count_arr = np.bincount(test_full_pc_data['cellID'])\n",
    "count_arr\n",
    "# array([ 3591,  3311,   231,  4410,     0,   910,     0,  4417,     0,\n",
    "#         1050,  2443,     0,     0,     0,     0,  2156,  6664,     0,\n",
    "#            0, 10052,  6286,  2394,  1561,     0,     0,  8827,  4788,\n",
    "#         6412,     0,     0,     0,   959,  2051,     0,     0,     0,\n",
    "#         4809,  2758,     0,     0,  1575,     0,  3465, 14861,  2212,\n",
    "#          777,  2772,     0,     0,     0,     0,  3206,     0,  4032,\n",
    "#            0,  6489,  2674], dtype=int64)\n",
    "\n",
    "# good_placefield_neuronIDs: [  5   8  10  13  14  16  19  21  23  25  28  31  32  33  36  37  41  49\n",
    "#   52  53  54  55  57  59  60  61  62  63  64  66  68  69  74  75  76  78\n",
    "#   83  86  88  89  90  92  96  98 105 108]; (46 good)\n",
    "\n",
    "# 1, 4, 6, 7, 8, 11, 18, 19, 21 ## CONCLUSION: the ones that work are indeed the non-zero entries, but the checkboxes work in reverse order to this array that's printed. Meaning you start at the end and work back.\n",
    "# len(count_arr) # 107\n",
    "print(unique_ids) # [  3   6   8  11  12  14  17  19  21  23  26  29  30  31  34  35  39  47\n",
    "  # 50  51  52  53  55  57  58  59  60  61  62  64  66  67  72  73  74  76\n",
    "  # 81  84  86  87  88  90  94  96 103 106]\n",
    "\n",
    "\n",
    "# uniques, indicies, inverse_indicies, count_arr = np.unique(active_epoch_session.spikes_df['aclu'].values, return_index=True, return_inverse=True, return_counts=True)\n",
    "# # count_arr = np.bincount(active_epoch_session.spikes_df['aclu'].values)\n",
    "# print('active_epoch_session.spikes_df unique aclu values: {}'.format(uniques))\n",
    "# print('active_epoch_session.spikes_df unique aclu value counts: {}'.format(count_arr))\n",
    "# print(len(uniques)) # 46 \n",
    "# uniques, indicies, inverse_indicies, count_arr = np.unique(active_epoch_session.spikes_df['unit_id'].values, return_index=True, return_inverse=True, return_counts=True)\n",
    "# # count_arr = np.bincount(active_epoch_session.spikes_df['unit_id'].values)\n",
    "# print('active_epoch_session.spikes_df unique unit_id values: {}'.format(uniques))\n",
    "# print('active_epoch_session.spikes_df unique unit_id value counts: {}'.format(count_arr))\n",
    "# print(len(uniques)) # 46 "
   ]
  },
  {
   "cell_type": "code",
   "execution_count": null,
   "id": "53837d28-4831-4655-8db6-f6b104ab0e38",
   "metadata": {},
   "outputs": [],
   "source": [
    "# pActiveTuningCurvesPlotter.export_obj('export.obj')\n",
    "# pActiveTuningCurvesPlotter.export_gltf('export.gltf')\n",
    "\n",
    "ipcDataExplorer.update_placefield_spike_visibility([38], True) # seems to work"
   ]
  },
  {
   "cell_type": "code",
   "execution_count": null,
   "id": "b9b25f57-c2f7-424d-8ba2-95d15deb3522",
   "metadata": {},
   "outputs": [],
   "source": [
    "ipcDataExplorer.update_placefield_spike_visibility([53], True) # seems to work"
   ]
  },
  {
   "cell_type": "code",
   "execution_count": null,
   "id": "b4ac6e02-fee8-4c30-811f-4d29de766b01",
   "metadata": {},
   "outputs": [],
   "source": [
    "ipcDataExplorer.update_placefield_spike_visibility([44, 53], True) # seems to work\n",
    "\n",
    "# test_subset\n",
    "# test_subset"
   ]
  },
  {
   "cell_type": "code",
   "execution_count": null,
   "id": "4fc26f9e-d03b-42c0-90e0-dfe4dfd3b2de",
   "metadata": {},
   "outputs": [],
   "source": [
    "ipcDataExplorer.update_placefield_spike_visibility([53, 44], False) # seems to work"
   ]
  },
  {
   "cell_type": "code",
   "execution_count": null,
   "id": "5e1bdbd9-9d3a-4c55-8b22-417adb733cad",
   "metadata": {},
   "outputs": [],
   "source": [
    "ipcDataExplorer.gui['tuningCurveSpikeVisibilityCallbacks'][1](False)\n",
    "# ipcDataExplorer.get_cell_index([2, 3])"
   ]
  },
  {
   "cell_type": "code",
   "execution_count": null,
   "id": "9e00b059-3073-45fb-94df-3b0c7b818d07",
   "metadata": {},
   "outputs": [],
   "source": [
    "mesh = ipcDataExplorer.plots_data['spikes_pf_active']['historical_spikes_pc'].cast_to_unstructured_grid()\n",
    "# mesh.n_cells\n",
    "mesh_unique_ids = np.unique(mesh['cellID'])\n",
    "print('n_cells: {}'.format(mesh.n_cells)) # 122143\n",
    "print('cellIDs of mesh: {}'.format(mesh_unique_ids))\n",
    "# np.unique(mesh['cellID']) # array([ 0,  1,  2,  3,  5,  7,  9, 10, 15, 16, 19, 20, 21, 22, 25, 26, 27, 31, 32, 36, 37, 40, 42, 43, 44, 45, 46, 51, 53, 55, 56])\n",
    "# ipcDataExplorer.hide_placefield_spikes([0,1,2,3], should_invert=True)\n",
    "# ipcDataExplorer.hide_placefield_spikes([23,2,34], should_invert=True)\n",
    "\n",
    "# ipcDataExplorer.hide_placefield_spikes([34], should_invert=True)\n",
    "ipcDataExplorer.hide_placefield_spikes([38], should_invert=False)"
   ]
  },
  {
   "cell_type": "code",
   "execution_count": null,
   "id": "182a1565-0a1f-423a-900f-c97e9cbbbb15",
   "metadata": {},
   "outputs": [],
   "source": [
    "# the list of spike times that occured for this cell:\n",
    "i = 2\n",
    "active_epoch_session.neurons.neuron_ids[i]\n",
    "active_epoch_session.neurons.spiketrains[i]\n",
    "\n",
    "# spikes_df = FlattenedSpiketrains.build_spike_dataframe(sess)\n"
   ]
  },
  {
   "cell_type": "code",
   "execution_count": null,
   "id": "34b2bd34-f09b-4c72-b02c-3650eea21f6e",
   "metadata": {
    "pycharm": {
     "name": "#%%\n"
    },
    "tags": []
   },
   "outputs": [],
   "source": [
    "## Timestamp Fixing:\n",
    "def tt(position_timestamps, t_begin, SampleRate):\n",
    "    return ((position_timestamps - t_begin) / (1e6 * SampleRate))\n",
    "\n",
    "# sess.laps.lap_start_stop_flat_idx\n",
    "\n",
    "sess.recinfo.dat_sampling_rate\n"
   ]
  },
  {
   "cell_type": "markdown",
   "id": "239326ba-1294-4655-9f34-10f25316b656",
   "metadata": {
    "tags": []
   },
   "source": [
    "# Programmatically change the animal position trail:"
   ]
  },
  {
   "cell_type": "code",
   "execution_count": null,
   "id": "ab94d5a6-bf27-4ad3-bb25-fd50654d4092",
   "metadata": {},
   "outputs": [],
   "source": [
    "def lines_from_points(points):\n",
    "    \"\"\"Given an array of points, make a line set\"\"\"\n",
    "    poly = pv.PolyData()\n",
    "    poly.points = points\n",
    "    cells = np.full((len(points)-1, 3), 2, dtype=np.int_)\n",
    "    cells[:, 1] = np.arange(0, len(points)-1, dtype=np.int_)\n",
    "    cells[:, 2] = np.arange(1, len(points), dtype=np.int_)\n",
    "    poly.lines = cells\n",
    "    return poly\n",
    "\n",
    "\n",
    "\n",
    "def plot_lap_trajectory_path(ipspikesDataExplorer, curr_lap_position_traces):\n",
    "    num_lap_samples = np.shape(curr_lap_position_traces)[1]\n",
    "    lap_fixed_z = np.full_like(curr_lap_position_traces[0,:], 0.9)\n",
    "    plot_name = 'lap_location_trail'\n",
    "    fade_values = ipspikesDataExplorer.params.active_trail_opacity_values\n",
    "    # size_values = ipspikesDataExplorer.params.active_trail_size_values\n",
    "    trail_fade_values = None\n",
    "    size_values = None\n",
    "    trail_fade_values = np.linspace(0.0, 0.6, num_lap_samples)\n",
    "    size_values = np.linspace(0.2, 0.6, num_lap_samples) # fade from a scale of 0.2 to 0.6\n",
    "    ipspikesDataExplorer.perform_plot_location_trail(plot_name, curr_lap_position_traces[0,:], curr_lap_position_traces[1,:], lap_fixed_z,\n",
    "                                                 trail_fade_values=trail_fade_values, trail_point_size_values=size_values,\n",
    "                                                 render=True, color='red')\n",
    "\n",
    "def plot_lap_trajectory_path_spline(ipspikesDataExplorer, curr_lap_position_traces):\n",
    "    num_lap_samples = np.shape(curr_lap_position_traces)[1]\n",
    "    lap_fixed_z = np.full_like(curr_lap_position_traces[0,:], 0.9)\n",
    "    curr_lap_points = np.column_stack((curr_lap_position_traces[0,:], curr_lap_position_traces[1,:], lap_fixed_z))\n",
    "    plot_name = 'lap_location_trail_spline'\n",
    "    fade_values = ipspikesDataExplorer.params.active_trail_opacity_values\n",
    "    # size_values = ipspikesDataExplorer.params.active_trail_size_values\n",
    "    trail_fade_values = None\n",
    "    size_values = None\n",
    "    trail_fade_values = np.linspace(0.0, 0.6, num_lap_samples)\n",
    "    size_values = np.linspace(0.2, 0.6, num_lap_samples) # fade from a scale of 0.2 to 0.6\n",
    "    line = lines_from_points(curr_lap_points)\n",
    "    line[\"scalars\"] = np.arange(line.n_points)\n",
    "    tube = line.tube(radius=0.5)\n",
    "    # tube.plot(smooth_shading=True)\n",
    "    ipspikesDataExplorer.p.add_mesh(tube, name=plot_name, render_lines_as_tubes=True, show_scalar_bar=False, color='red')\n",
    "    # ipspikesDataExplorer.perform_plot_location_trail(plot_name, curr_lap_position_traces[0,:], curr_lap_position_traces[1,:], lap_fixed_z,\n",
    "    #                                              trail_fade_values=trail_fade_values, trail_point_size_values=size_values,\n",
    "    #                                              render=True, color='red')\n",
    "\n",
    "    \n",
    "# def hide_lap_trajectory_path(ipspikesDataExplorer):\n",
    "    \n",
    "def get_lap_times(curr_lap_id):\n",
    "    return sess.laps.get_lap_times(curr_lap_id)\n",
    "    \n",
    "## ACTIVE: Laps and Spikes:\n",
    "\n",
    "# def visually_indicate_current_lap(\n",
    "curr_lap_id = 0\n",
    "\n",
    "# curr_lap_t_start, curr_lap_t_stop = get_lap_times(curr_lap_id)\n",
    "# curr_lap_subsession = lap_specific_subsessions[curr_lap_id]\n",
    "# # curr_lap_dataframe = lap_specific_dataframes[curr_lap_id] # the subset dataframe for this lap\n",
    "# # curr_lap_spike_t_seconds = curr_lap_dataframe.t_seconds\n",
    "# # curr_lap_spike_indicies = lap_spike_indicies[curr_lap_id] # all spike indicies that occured within the lap\n",
    "# # curr_lap_position_traces = curr_lap_subsession.position.traces # the animal positions that were traversed during this lap\n",
    "\n",
    "# curr_lap_num_spikes = len(curr_lap_spike_indicies)\n",
    "# print('lap[{}]: ({}, {}): {} spikes.'.format(curr_lap_id, curr_lap_t_start, curr_lap_t_stop, curr_lap_num_spikes))\n",
    "\n",
    "# test_flat_times = active_epoch_session.flattened_spiketrains.flattened_spike_times\n",
    "# print(test_flat_times)\n",
    "# sess.position"
   ]
  },
  {
   "cell_type": "code",
   "execution_count": null,
   "id": "b63d6212-1270-4da7-b2bb-4c14c46615b4",
   "metadata": {},
   "outputs": [],
   "source": [
    "int_input = pn.widgets.IntInput(name='IntInput', value=5, step=1, start=0, end=20)\n",
    "curr_lap_id = int_input.value\n",
    "int_input\n"
   ]
  },
  {
   "cell_type": "code",
   "execution_count": null,
   "id": "b0e9a0b7-fcf2-442c-a36d-d72e89a73a9b",
   "metadata": {},
   "outputs": [],
   "source": [
    "def get_lap_position(curr_lap_id):\n",
    "    curr_position_df = sess.position.to_dataframe()\n",
    "    curr_lap_t_start, curr_lap_t_stop = get_lap_times(curr_lap_id)\n",
    "    print('lap[{}]: ({}, {}): '.format(curr_lap_id, curr_lap_t_start, curr_lap_t_stop))\n",
    "\n",
    "    curr_lap_position_df_is_included = curr_position_df['t'].between(curr_lap_t_start, curr_lap_t_stop, inclusive=True) # returns a boolean array indicating inclusion in teh current lap\n",
    "    curr_lap_position_df = curr_position_df[curr_lap_position_df_is_included] \n",
    "    # curr_position_df.query('-0.5 <= t < 0.5')\n",
    "    curr_lap_position_traces = curr_lap_position_df[['x','y']].to_numpy().T\n",
    "    print('\\t {} positions.'.format(np.shape(curr_lap_position_traces)))\n",
    "    # print('\\t {} spikes.'.format(curr_lap_num_spikes))\n",
    "    return curr_lap_position_traces\n",
    "\n",
    "# ipspikesDataExplorer.on_programmatic_data_update(active_included_all_historical_indicies=curr_lap_spike_indicies, active_included_recent_only_indicies=curr_lap_spike_indicies) # index 145937 is out of bounds for axis 0 with size 19647\n",
    "# ipspikesDataExplorer.on_programmatic_data_update(active_included_all_historical_indicies=curr_lap_spike_t_seconds, active_included_recent_only_indicies=curr_lap_spike_t_seconds) # \n",
    "# ipspikesDataExplorer.on_programmatic_data_update(active_included_all_historical_indicies=curr_lap_spike_t_seconds.values, active_included_recent_only_indicies=curr_lap_spike_t_seconds.values) # \n",
    "\n",
    "curr_lap_id = int_input.value\n",
    "\n",
    "# plot_lap_trajectory_path(ipspikesDataExplorer, curr_lap_position_traces)\n",
    "plot_lap_trajectory_path_spline(ipspikesDataExplorer, curr_lap_position_traces)\n",
    "# curr_lap_t_start\n",
    "## TODO: enable showing/hiding the spikes for this data range programmatically in InteractivePlaceCellDataExplorer. \n",
    "# ipspikesDataExplorer.\n",
    "# curr_lap_spike_t_seconds\n",
    "# curr_lap_spike_indicies\n",
    "# active_epoch_session.flattened_spiketrains.spikes_df.t_seconds.values[curr_lap_spike_indicies] # index 145937 is out of bounds for axis 0 with size 19647"
   ]
  },
  {
   "cell_type": "code",
   "execution_count": null,
   "id": "73ec4b96-adf6-4966-8476-86a7f4f126cc",
   "metadata": {},
   "outputs": [],
   "source": [
    "# From the laps and position dataframe, extract which lap every position belongs to:\n",
    "\n",
    "# curr_lap_position_df_is_included = curr_position_df['t'].between(laps_df['start'], laps_df['stop'], inclusive=True) # returns a boolean array indicating inclusion in teh current lap\n",
    "# curr_lap_position_df = curr_position_df[curr_lap_position_df_is_included] \n",
    "# curr_position_df['lap'] = np.NaN\n",
    "\n",
    "def compute_position_laps(sess):\n",
    "    \"\"\" laps_position_traces, curr_position_df = compute_position_laps(sess) \"\"\"\n",
    "    curr_position_df = sess.position.to_dataframe() # get the position dataframe from the session\n",
    "    curr_position_df['lap'] = np.NaN # set all 'lap' column to NaN\n",
    "    lap_position_traces = []\n",
    "    lap_position_dataframes = []\n",
    "\n",
    "    for i in np.arange(len(sess.laps.lap_id)):\n",
    "        curr_lap_id = sess.laps.lap_id[i]\n",
    "        curr_lap_t_start, curr_lap_t_stop = sess.laps.get_lap_times(i)\n",
    "        print('lap[{}]: ({}, {}): '.format(curr_lap_id, curr_lap_t_start, curr_lap_t_stop))\n",
    "        curr_lap_position_df_is_included = curr_position_df['t'].between(curr_lap_t_start, curr_lap_t_stop, inclusive=True) # returns a boolean array indicating inclusion in teh current lap\n",
    "        curr_lap_position_df = curr_position_df[curr_lap_position_df_is_included]\n",
    "        lap_position_dataframes.append(curr_lap_position_df)\n",
    "        curr_position_df.loc[curr_lap_position_df_is_included, ['lap']] = curr_lap_id\n",
    "        # curr_position_df.query('-0.5 <= t < 0.5')\n",
    "        curr_lap_position_traces = curr_lap_position_df[['x','y']].to_numpy().T\n",
    "        lap_position_traces.append(curr_lap_position_traces)\n",
    "    \n",
    "    # return the extracted traces and the updated curr_position_df\n",
    "    return lap_position_traces, curr_position_df\n",
    "\n",
    "laps_position_traces, curr_position_df = compute_position_laps(sess)"
   ]
  },
  {
   "cell_type": "code",
   "execution_count": null,
   "id": "0062556b-6cfa-4789-815e-04da7208a8ac",
   "metadata": {},
   "outputs": [],
   "source": [
    "# lap_position_traces\n",
    "curr_position_df"
   ]
  },
  {
   "cell_type": "code",
   "execution_count": null,
   "id": "1d6e941d-0bdc-4f17-b4eb-088950d3c16a",
   "metadata": {},
   "outputs": [],
   "source": [
    "from PhoGui.InteractivePlotter.InteractiveCustomDataExplorer import InteractiveCustomDataExplorer\n",
    "active_laps_config = InteractivePlaceCellConfig(active_session_config=sess.config, active_epochs=None, video_output_config=None, plotting_config=None) # '3|1    \n",
    "active_laps_config.plotting_config = PlottingConfig(output_subplots_shape='1|5', output_parent_dir=Path('output', sess.config.session_name, 'custom_laps'))\n",
    "\n",
    "try: pActiveInteractiveLapsPlotter\n",
    "except NameError: pActiveInteractiveLapsPlotter = None # Checks variable p's existance, and sets its value to None if it doesn't exist so it can be checked in the next step\n",
    "iplapsDataExplorer = InteractiveCustomDataExplorer(active_laps_config, sess, extant_plotter=pActiveInteractiveLapsPlotter)\n",
    "pActiveInteractiveLapsPlotter = iplapsDataExplorer.plot(pActivePlotter=pActiveInteractiveLapsPlotter)"
   ]
  },
  {
   "cell_type": "code",
   "execution_count": null,
   "id": "290ecb48-251e-48eb-9bf5-7cd77edf3da8",
   "metadata": {},
   "outputs": [],
   "source": [
    "len(sess.laps.lap_id) # 44"
   ]
  },
  {
   "cell_type": "code",
   "execution_count": null,
   "id": "876756ea-69ee-4cbc-bbd4-ff37050899f9",
   "metadata": {},
   "outputs": [],
   "source": [
    "for i in np.arange(len(sess.laps.lap_id)):\n",
    "    curr_lap_id = sess.laps.lap_id[i]\n",
    "    curr_lap_t_start, curr_lap_t_stop = sess.laps.get_lap_times(i)\n",
    "    curr_lap_position_traces = laps_position_traces[i]\n",
    "    plot_lap_trajectory_path_spline(iplapsDataExplorer, curr_lap_position_traces, curr_lap_id)"
   ]
  },
  {
   "cell_type": "code",
   "execution_count": null,
   "id": "86277544-9199-4b81-b85b-169fa1307a32",
   "metadata": {},
   "outputs": [],
   "source": [
    "# p = pv.Plotter(shape=(5, 1), border=True)\n",
    "p = pActiveInteractiveLapsPlotter\n",
    "num_laps_to_show = len(sess.laps.lap_id)\n",
    "num_laps_to_show = 5\n",
    "flat_lap_id_index = np.arange(len(sess.laps.lap_id))\n",
    "# subplot_lap_id_index = np.reshape([4,11])\n",
    "for i in np.arange(num_laps_to_show):\n",
    "    curr_lap_id = sess.laps.lap_id[i]\n",
    "    p.subplot(i, 0)\n",
    "    # curr_lap_t_start, curr_lap_t_stop = sess.laps.get_lap_times(i)\n",
    "    plot_lap_trajectory_path_spline(iplapsDataExplorer, laps_position_traces[i], curr_lap_id)\n",
    "    \n",
    "p.link_views()  # link all the views\n",
    "p.show()"
   ]
  },
  {
   "cell_type": "code",
   "execution_count": null,
   "id": "de7b66cf-6ebf-44e9-b77c-ea7f4ab1a12f",
   "metadata": {},
   "outputs": [],
   "source": [
    "# p = pv.Plotter(shape=(4, 11), border=True)\n",
    "p = pActiveInteractiveLapsPlotter\n",
    "p.subplot(0, 0)\n",
    "p.add_mesh(mesh, scalars='Elevation', cmap=\"fire\",\n",
    "           lighting=True, scalar_bar_args={'title': \"Colorcet Fire\"})\n",
    "\n",
    "\n",
    "p.subplot(0, 1)\n",
    "p.add_mesh(mesh, scalars='Elevation', cmap=\"fire\",\n",
    "           lighting=False, scalar_bar_args={'title': \"Colorcet Fire (No Lighting)\"})\n",
    "\n",
    "p.subplot(1, 0)\n",
    "p.add_mesh(mesh, scalars='Elevation', cmap=\"hot\",\n",
    "           lighting=True, scalar_bar_args={'title': \"Matplotlib Hot\"})\n",
    "\n",
    "p.subplot(1, 1)\n",
    "p.add_mesh(mesh, scalars='Elevation', cmap=\"hot\",\n",
    "           lighting=False, scalar_bar_args={'title': \"Matplotlib Hot (No Lighting)\"})\n",
    "\n",
    "p.show()"
   ]
  },
  {
   "cell_type": "code",
   "execution_count": null,
   "id": "5a6cbda2-d6d0-47da-bc80-5da30d9a0267",
   "metadata": {},
   "outputs": [],
   "source": [
    "# ipspikesDataExplorer.spikes_main_historical.SetVisibility(0)\n",
    "\n",
    "# ipspikesDataExplorer.spikes_main_historical.SetVisibility(1)\n",
    "# bool(ipspikesDataExplorer.spikes_main_historical.GetVisibility())\n",
    "\n",
    "ipspikesDataExplorer.toggle_plot_visibility('spikes_main_historical')\n",
    "# toggle_visibility(ipspikesDataExplorer.spikes_main_historical)"
   ]
  },
  {
   "cell_type": "code",
   "execution_count": null,
   "id": "8438878a-e656-4e88-b768-65a796dd76c4",
   "metadata": {},
   "outputs": [],
   "source": [
    "ipspikesDataExplorer.toggle_plot_visibility('lap_location_trail')"
   ]
  },
  {
   "cell_type": "code",
   "execution_count": null,
   "id": "1ab035fb-3417-463f-aa54-2021466569ac",
   "metadata": {},
   "outputs": [],
   "source": [
    "# ipspikesDataExplorer.spikes_main_recent_only.SetVisibility(True)\n",
    "toggle_visibility(ipspikesDataExplorer.spikes_main_recent_only)"
   ]
  },
  {
   "cell_type": "code",
   "execution_count": null,
   "id": "70dcef6a-bee6-4739-9eef-bbfa7d62cae4",
   "metadata": {},
   "outputs": [],
   "source": [
    "# ipspikesDataExplorer.animal_location_trail.SetVisibility(0)\n",
    "# toggle_visibility(ipspikesDataExplorer.animal_location_trail)\n",
    "ipspikesDataExplorer.toggle_plot_visibility('animal_location_trail')\n",
    "ipspikesDataExplorer.toggle_plot_visibility('animal_current_location_point')"
   ]
  },
  {
   "cell_type": "markdown",
   "id": "cb1c336e-45c0-4eae-8a71-fced00d17313",
   "metadata": {
    "tags": []
   },
   "source": [
    "# Programmatically change the animals location point indicator:"
   ]
  },
  {
   "cell_type": "code",
   "execution_count": null,
   "id": "90554b89-1a4f-43c0-a888-920d262d9557",
   "metadata": {},
   "outputs": [],
   "source": [
    "# .GetPosition() returns the actor's position, which is usually (0.0, 0.0, 0.0), and does not relate to the actor's data points\n",
    "# curr_animal_point = ipspikesDataExplorer.animal_location_trail.GetPosition()\n",
    "# curr_animal_point = ipspikesDataExplorer.animal_location_trail.GetXRange() # (44.23604202270508, 245.9059600830078)\n",
    "# print(curr_animal_point)\n",
    "# curr_animal_point = ipspikesDataExplorer.animal_location_trail.GetYRange() # (135.27638244628906, 145.448974609375)\n",
    "# print(curr_animal_point)\n",
    "# curr_animal_point = ipspikesDataExplorer.animal_location_trail.GetZRange() # (1.100000023841858, 1.100000023841858)\n",
    "\n",
    "curr_animal_point = np.array(ipspikesDataExplorer.animal_location_trail.GetCenter()) # (206.27755737304688, 140.15452575683594, 1.100000023841858)\n",
    "print('curr_animal_point: {}'.format(curr_animal_point))\n",
    "curr_animal_point # curr_animal_poin\n",
    "\n",
    "# curr_animal_point = np.array([0, 0, 0])\n",
    "\n",
    "# curr_animal_point = np.column_stack((self.x[active_window_sample_indicies], self.y[active_window_sample_indicies], self.z_fixed))\n",
    "# ipspikesDataExplorer.on_programmatic_data_update(curr_animal_point=curr_animal_point)\n",
    "\n",
    "curr_debug_point = np.array(ipspikesDataExplorer.animal_location_trail.GetCenter()) # (206.27755737304688, 140.15452575683594, 1.100000023841858)\n",
    "ipspikesDataExplorer.perform_plot_location_point('debug_point_plot', curr_animal_point, color='r')\n",
    "\n",
    "curr_animal_point = np.array(ipspikesDataExplorer.animal_location_trail.GetCenter()) # not updated\n",
    "print('new curr_animal_point: {}'.format(curr_animal_point))"
   ]
  },
  {
   "cell_type": "code",
   "execution_count": null,
   "id": "64ac6391-89e5-4452-bbdb-12338332da7f",
   "metadata": {},
   "outputs": [],
   "source": [
    "# ipspikesDataExplorer.flattened_spike_positions_list\n",
    "\n",
    "active_epoch_session.flattened_spiketrains.time_slice(curr_lap_spike_t_seconds.values[0], curr_lap_spike_t_seconds.values[-1]).spikes_df"
   ]
  },
  {
   "cell_type": "code",
   "execution_count": null,
   "id": "176ffb93-dd70-4eae-86dc-4498d39f7c64",
   "metadata": {},
   "outputs": [],
   "source": [
    "curr_lap_dataframe"
   ]
  },
  {
   "cell_type": "code",
   "execution_count": null,
   "id": "964a1bec-6aa9-4942-b590-5b9e407106ee",
   "metadata": {},
   "outputs": [],
   "source": [
    "active_epoch_session.time_slice"
   ]
  },
  {
   "cell_type": "code",
   "execution_count": null,
   "id": "f9639c15-312d-4bbb-938a-0bc8a0d51a0e",
   "metadata": {},
   "outputs": [],
   "source": []
  },
  {
   "cell_type": "code",
   "execution_count": null,
   "id": "c5b81d4e-b4ff-4e2f-bb2b-dc753c1a0ff0",
   "metadata": {},
   "outputs": [],
   "source": []
  }
 ],
 "metadata": {
  "celltoolbar": "Tags",
  "interpreter": {
   "hash": "fde6e68fa8f5f4f0920a88ee99edd8d4121f14a57a7800ceb19ed197f25c05dc"
  },
  "kernelspec": {
   "display_name": "Python 3 (ipykernel)",
   "language": "python",
   "name": "python3"
  },
  "language_info": {
   "codemirror_mode": {
    "name": "ipython",
    "version": 3
   },
   "file_extension": ".py",
   "mimetype": "text/x-python",
   "name": "python",
   "nbconvert_exporter": "python",
   "pygments_lexer": "ipython3",
   "version": "3.9.7"
  }
 },
 "nbformat": 4,
 "nbformat_minor": 5
}
