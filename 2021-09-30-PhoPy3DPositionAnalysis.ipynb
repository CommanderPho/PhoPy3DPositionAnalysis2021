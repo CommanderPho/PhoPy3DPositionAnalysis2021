{
 "cells": [
  {
   "cell_type": "code",
   "execution_count": 1,
   "id": "6fed6c0b-a0c5-4be7-a3aa-367492f0d0e3",
   "metadata": {
    "tags": []
   },
   "outputs": [],
   "source": [
    "#!/usr/bin/env python3\n",
    "# -*- coding: utf-8 -*-\n",
    "\"\"\"\n",
    "@author: pho\n",
    "\"\"\"\n",
    "import sys\n",
    "import ipyvolume as ipv\n",
    "import numpy as np\n",
    "import h5py\n",
    "import hdf5storage # conda install hdf5storage\n",
    "from pathlib import Path\n",
    "import bqplot.scales\n",
    "import seaborn as sns\n",
    "from mpl_toolkits import mplot3d\n",
    "import matplotlib.pyplot as plt\n",
    "import matplotlib.cm as cm\n",
    "from matplotlib.colors import Normalize\n",
    "# import mplcursors\n",
    "from scipy.ndimage.filters import gaussian_filter\n",
    "import ipywidgets as widgets\n",
    "# Imports PIL module\n",
    "import PIL # For applying the binary mask as a image texture to a mesh\n",
    "# import opencv\n",
    "from IPython.display import display # For manual display customization"
   ]
  },
  {
   "cell_type": "code",
   "execution_count": 2,
   "id": "6e44906c-e962-4fd2-9477-0ae2c14353b5",
   "metadata": {
    "tags": []
   },
   "outputs": [
    {
     "name": "stdout",
     "output_type": "stream",
     "text": [
      "Loading matlab import file: /Users/pho/repo/Python Projects/PhoNeuronGillespie2021CodeRepo/PhoMatlabDataScripting/ExportedData/RoyMaze1/positionAnalysis.mat...\n"
     ]
    },
    {
     "ename": "FileNotFoundError",
     "evalue": "[Errno 2] No such file or directory: '/Users/pho/repo/Python Projects/PhoNeuronGillespie2021CodeRepo/PhoMatlabDataScripting/ExportedData/RoyMaze1/positionAnalysis.mat'",
     "output_type": "error",
     "traceback": [
      "\u001b[1;31m---------------------------------------------------------------------------\u001b[0m",
      "\u001b[1;31mFileNotFoundError\u001b[0m                         Traceback (most recent call last)",
      "\u001b[1;32m~\\anaconda3\\envs\\phoviz\\lib\\site-packages\\hdf5storage\\__init__.py\u001b[0m in \u001b[0;36mloadmat\u001b[1;34m(file_name, mdict, appendmat, variable_names, marshaller_collection, **keywords)\u001b[0m\n\u001b[0;32m   1772\u001b[0m             \u001b[0mdata\u001b[0m \u001b[1;33m=\u001b[0m \u001b[0mdict\u001b[0m\u001b[1;33m(\u001b[0m\u001b[1;33m)\u001b[0m\u001b[1;33m\u001b[0m\u001b[1;33m\u001b[0m\u001b[0m\n\u001b[1;32m-> 1773\u001b[1;33m             \u001b[1;32mwith\u001b[0m \u001b[0mh5py\u001b[0m\u001b[1;33m.\u001b[0m\u001b[0mFile\u001b[0m\u001b[1;33m(\u001b[0m\u001b[0mfilename\u001b[0m\u001b[1;33m,\u001b[0m \u001b[0mmode\u001b[0m\u001b[1;33m=\u001b[0m\u001b[1;34m'r'\u001b[0m\u001b[1;33m)\u001b[0m \u001b[1;32mas\u001b[0m \u001b[0mf\u001b[0m\u001b[1;33m:\u001b[0m\u001b[1;33m\u001b[0m\u001b[1;33m\u001b[0m\u001b[0m\n\u001b[0m\u001b[0;32m   1774\u001b[0m                 \u001b[1;32mfor\u001b[0m \u001b[0mk\u001b[0m \u001b[1;32min\u001b[0m \u001b[0mf\u001b[0m\u001b[1;33m:\u001b[0m\u001b[1;33m\u001b[0m\u001b[1;33m\u001b[0m\u001b[0m\n",
      "\u001b[1;32m~\\anaconda3\\envs\\phoviz\\lib\\site-packages\\h5py\\_hl\\files.py\u001b[0m in \u001b[0;36m__init__\u001b[1;34m(self, name, mode, driver, libver, userblock_size, swmr, rdcc_nslots, rdcc_nbytes, rdcc_w0, track_order, fs_strategy, fs_persist, fs_threshold, **kwds)\u001b[0m\n\u001b[0;32m    443\u001b[0m                 \u001b[0mfapl\u001b[0m \u001b[1;33m=\u001b[0m \u001b[0mmake_fapl\u001b[0m\u001b[1;33m(\u001b[0m\u001b[0mdriver\u001b[0m\u001b[1;33m,\u001b[0m \u001b[0mlibver\u001b[0m\u001b[1;33m,\u001b[0m \u001b[0mrdcc_nslots\u001b[0m\u001b[1;33m,\u001b[0m \u001b[0mrdcc_nbytes\u001b[0m\u001b[1;33m,\u001b[0m \u001b[0mrdcc_w0\u001b[0m\u001b[1;33m,\u001b[0m \u001b[1;33m**\u001b[0m\u001b[0mkwds\u001b[0m\u001b[1;33m)\u001b[0m\u001b[1;33m\u001b[0m\u001b[1;33m\u001b[0m\u001b[0m\n\u001b[1;32m--> 444\u001b[1;33m                 fid = make_fid(name, mode, userblock_size,\n\u001b[0m\u001b[0;32m    445\u001b[0m                                fapl, fcpl=make_fcpl(track_order=track_order, fs_strategy=fs_strategy,\n",
      "\u001b[1;32m~\\anaconda3\\envs\\phoviz\\lib\\site-packages\\h5py\\_hl\\files.py\u001b[0m in \u001b[0;36mmake_fid\u001b[1;34m(name, mode, userblock_size, fapl, fcpl, swmr)\u001b[0m\n\u001b[0;32m    198\u001b[0m             \u001b[0mflags\u001b[0m \u001b[1;33m|=\u001b[0m \u001b[0mh5f\u001b[0m\u001b[1;33m.\u001b[0m\u001b[0mACC_SWMR_READ\u001b[0m\u001b[1;33m\u001b[0m\u001b[1;33m\u001b[0m\u001b[0m\n\u001b[1;32m--> 199\u001b[1;33m         \u001b[0mfid\u001b[0m \u001b[1;33m=\u001b[0m \u001b[0mh5f\u001b[0m\u001b[1;33m.\u001b[0m\u001b[0mopen\u001b[0m\u001b[1;33m(\u001b[0m\u001b[0mname\u001b[0m\u001b[1;33m,\u001b[0m \u001b[0mflags\u001b[0m\u001b[1;33m,\u001b[0m \u001b[0mfapl\u001b[0m\u001b[1;33m=\u001b[0m\u001b[0mfapl\u001b[0m\u001b[1;33m)\u001b[0m\u001b[1;33m\u001b[0m\u001b[1;33m\u001b[0m\u001b[0m\n\u001b[0m\u001b[0;32m    200\u001b[0m     \u001b[1;32melif\u001b[0m \u001b[0mmode\u001b[0m \u001b[1;33m==\u001b[0m \u001b[1;34m'r+'\u001b[0m\u001b[1;33m:\u001b[0m\u001b[1;33m\u001b[0m\u001b[1;33m\u001b[0m\u001b[0m\n",
      "\u001b[1;32mh5py\\_objects.pyx\u001b[0m in \u001b[0;36mh5py._objects.with_phil.wrapper\u001b[1;34m()\u001b[0m\n",
      "\u001b[1;32mh5py\\_objects.pyx\u001b[0m in \u001b[0;36mh5py._objects.with_phil.wrapper\u001b[1;34m()\u001b[0m\n",
      "\u001b[1;32mh5py\\h5f.pyx\u001b[0m in \u001b[0;36mh5py.h5f.open\u001b[1;34m()\u001b[0m\n",
      "\u001b[1;31mFileNotFoundError\u001b[0m: [Errno 2] Unable to open file (unable to open file: name = '/Users/pho/repo/Python Projects/PhoNeuronGillespie2021CodeRepo/PhoMatlabDataScripting/ExportedData/RoyMaze1/positionAnalysis.mat', errno = 2, error message = 'No such file or directory', flags = 0, o_flags = 0)",
      "\nDuring handling of the above exception, another exception occurred:\n",
      "\u001b[1;31mFileNotFoundError\u001b[0m                         Traceback (most recent call last)",
      "\u001b[1;32m~\\anaconda3\\envs\\phoviz\\lib\\site-packages\\scipy\\io\\matlab\\mio.py\u001b[0m in \u001b[0;36m_open_file\u001b[1;34m(file_like, appendmat, mode)\u001b[0m\n\u001b[0;32m     38\u001b[0m     \u001b[1;32mtry\u001b[0m\u001b[1;33m:\u001b[0m\u001b[1;33m\u001b[0m\u001b[1;33m\u001b[0m\u001b[0m\n\u001b[1;32m---> 39\u001b[1;33m         \u001b[1;32mreturn\u001b[0m \u001b[0mopen\u001b[0m\u001b[1;33m(\u001b[0m\u001b[0mfile_like\u001b[0m\u001b[1;33m,\u001b[0m \u001b[0mmode\u001b[0m\u001b[1;33m)\u001b[0m\u001b[1;33m,\u001b[0m \u001b[1;32mTrue\u001b[0m\u001b[1;33m\u001b[0m\u001b[1;33m\u001b[0m\u001b[0m\n\u001b[0m\u001b[0;32m     40\u001b[0m     \u001b[1;32mexcept\u001b[0m \u001b[0mIOError\u001b[0m \u001b[1;32mas\u001b[0m \u001b[0me\u001b[0m\u001b[1;33m:\u001b[0m\u001b[1;33m\u001b[0m\u001b[1;33m\u001b[0m\u001b[0m\n",
      "\u001b[1;31mFileNotFoundError\u001b[0m: [Errno 2] No such file or directory: '/Users/pho/repo/Python Projects/PhoNeuronGillespie2021CodeRepo/PhoMatlabDataScripting/ExportedData/RoyMaze1/positionAnalysis.mat'",
      "\nDuring handling of the above exception, another exception occurred:\n",
      "\u001b[1;31mFileNotFoundError\u001b[0m                         Traceback (most recent call last)",
      "\u001b[1;32m~\\AppData\\Local\\Temp/ipykernel_3872/3276402273.py\u001b[0m in \u001b[0;36m<module>\u001b[1;34m\u001b[0m\n\u001b[0;32m      1\u001b[0m \u001b[0mmat_import_file\u001b[0m \u001b[1;33m=\u001b[0m \u001b[1;34m'/Users/pho/repo/Python Projects/PhoNeuronGillespie2021CodeRepo/PhoMatlabDataScripting/ExportedData/RoyMaze1/positionAnalysis.mat'\u001b[0m\u001b[1;33m\u001b[0m\u001b[1;33m\u001b[0m\u001b[0m\n\u001b[0;32m      2\u001b[0m \u001b[0mprint\u001b[0m\u001b[1;33m(\u001b[0m\u001b[1;34m'Loading matlab import file: {}...'\u001b[0m\u001b[1;33m.\u001b[0m\u001b[0mformat\u001b[0m\u001b[1;33m(\u001b[0m\u001b[0mmat_import_file\u001b[0m\u001b[1;33m)\u001b[0m\u001b[1;33m)\u001b[0m\u001b[1;33m\u001b[0m\u001b[1;33m\u001b[0m\u001b[0m\n\u001b[1;32m----> 3\u001b[1;33m \u001b[0mdata\u001b[0m \u001b[1;33m=\u001b[0m \u001b[0mhdf5storage\u001b[0m\u001b[1;33m.\u001b[0m\u001b[0mloadmat\u001b[0m\u001b[1;33m(\u001b[0m\u001b[0mmat_import_file\u001b[0m\u001b[1;33m,\u001b[0m \u001b[0mappendmat\u001b[0m\u001b[1;33m=\u001b[0m\u001b[1;32mFalse\u001b[0m\u001b[1;33m)\u001b[0m\u001b[1;33m\u001b[0m\u001b[1;33m\u001b[0m\u001b[0m\n\u001b[0m\u001b[0;32m      4\u001b[0m \u001b[1;31m# np.shape(data)\u001b[0m\u001b[1;33m\u001b[0m\u001b[1;33m\u001b[0m\u001b[0m\n\u001b[0;32m      5\u001b[0m \u001b[0mprint\u001b[0m\u001b[1;33m(\u001b[0m\u001b[1;34m'done.'\u001b[0m\u001b[1;33m)\u001b[0m\u001b[1;33m\u001b[0m\u001b[1;33m\u001b[0m\u001b[0m\n",
      "\u001b[1;32m~\\anaconda3\\envs\\phoviz\\lib\\site-packages\\hdf5storage\\__init__.py\u001b[0m in \u001b[0;36mloadmat\u001b[1;34m(file_name, mdict, appendmat, variable_names, marshaller_collection, **keywords)\u001b[0m\n\u001b[0;32m   1805\u001b[0m     \u001b[1;32mexcept\u001b[0m \u001b[0mOSError\u001b[0m\u001b[1;33m:\u001b[0m\u001b[1;33m\u001b[0m\u001b[1;33m\u001b[0m\u001b[0m\n\u001b[0;32m   1806\u001b[0m         \u001b[1;32mimport\u001b[0m \u001b[0mscipy\u001b[0m\u001b[1;33m.\u001b[0m\u001b[0mio\u001b[0m\u001b[1;33m\u001b[0m\u001b[1;33m\u001b[0m\u001b[0m\n\u001b[1;32m-> 1807\u001b[1;33m         return scipy.io.loadmat(file_name, mdict, appendmat=appendmat,\n\u001b[0m\u001b[0;32m   1808\u001b[0m                                 \u001b[0mvariable_names\u001b[0m\u001b[1;33m=\u001b[0m\u001b[0mvariable_names\u001b[0m\u001b[1;33m,\u001b[0m\u001b[1;33m\u001b[0m\u001b[1;33m\u001b[0m\u001b[0m\n\u001b[0;32m   1809\u001b[0m                                 **keywords)\n",
      "\u001b[1;32m~\\anaconda3\\envs\\phoviz\\lib\\site-packages\\scipy\\io\\matlab\\mio.py\u001b[0m in \u001b[0;36mloadmat\u001b[1;34m(file_name, mdict, appendmat, **kwargs)\u001b[0m\n\u001b[0;32m    222\u001b[0m     \"\"\"\n\u001b[0;32m    223\u001b[0m     \u001b[0mvariable_names\u001b[0m \u001b[1;33m=\u001b[0m \u001b[0mkwargs\u001b[0m\u001b[1;33m.\u001b[0m\u001b[0mpop\u001b[0m\u001b[1;33m(\u001b[0m\u001b[1;34m'variable_names'\u001b[0m\u001b[1;33m,\u001b[0m \u001b[1;32mNone\u001b[0m\u001b[1;33m)\u001b[0m\u001b[1;33m\u001b[0m\u001b[1;33m\u001b[0m\u001b[0m\n\u001b[1;32m--> 224\u001b[1;33m     \u001b[1;32mwith\u001b[0m \u001b[0m_open_file_context\u001b[0m\u001b[1;33m(\u001b[0m\u001b[0mfile_name\u001b[0m\u001b[1;33m,\u001b[0m \u001b[0mappendmat\u001b[0m\u001b[1;33m)\u001b[0m \u001b[1;32mas\u001b[0m \u001b[0mf\u001b[0m\u001b[1;33m:\u001b[0m\u001b[1;33m\u001b[0m\u001b[1;33m\u001b[0m\u001b[0m\n\u001b[0m\u001b[0;32m    225\u001b[0m         \u001b[0mMR\u001b[0m\u001b[1;33m,\u001b[0m \u001b[0m_\u001b[0m \u001b[1;33m=\u001b[0m \u001b[0mmat_reader_factory\u001b[0m\u001b[1;33m(\u001b[0m\u001b[0mf\u001b[0m\u001b[1;33m,\u001b[0m \u001b[1;33m**\u001b[0m\u001b[0mkwargs\u001b[0m\u001b[1;33m)\u001b[0m\u001b[1;33m\u001b[0m\u001b[1;33m\u001b[0m\u001b[0m\n\u001b[0;32m    226\u001b[0m         \u001b[0mmatfile_dict\u001b[0m \u001b[1;33m=\u001b[0m \u001b[0mMR\u001b[0m\u001b[1;33m.\u001b[0m\u001b[0mget_variables\u001b[0m\u001b[1;33m(\u001b[0m\u001b[0mvariable_names\u001b[0m\u001b[1;33m)\u001b[0m\u001b[1;33m\u001b[0m\u001b[1;33m\u001b[0m\u001b[0m\n",
      "\u001b[1;32m~\\anaconda3\\envs\\phoviz\\lib\\contextlib.py\u001b[0m in \u001b[0;36m__enter__\u001b[1;34m(self)\u001b[0m\n\u001b[0;32m    117\u001b[0m         \u001b[1;32mdel\u001b[0m \u001b[0mself\u001b[0m\u001b[1;33m.\u001b[0m\u001b[0margs\u001b[0m\u001b[1;33m,\u001b[0m \u001b[0mself\u001b[0m\u001b[1;33m.\u001b[0m\u001b[0mkwds\u001b[0m\u001b[1;33m,\u001b[0m \u001b[0mself\u001b[0m\u001b[1;33m.\u001b[0m\u001b[0mfunc\u001b[0m\u001b[1;33m\u001b[0m\u001b[1;33m\u001b[0m\u001b[0m\n\u001b[0;32m    118\u001b[0m         \u001b[1;32mtry\u001b[0m\u001b[1;33m:\u001b[0m\u001b[1;33m\u001b[0m\u001b[1;33m\u001b[0m\u001b[0m\n\u001b[1;32m--> 119\u001b[1;33m             \u001b[1;32mreturn\u001b[0m \u001b[0mnext\u001b[0m\u001b[1;33m(\u001b[0m\u001b[0mself\u001b[0m\u001b[1;33m.\u001b[0m\u001b[0mgen\u001b[0m\u001b[1;33m)\u001b[0m\u001b[1;33m\u001b[0m\u001b[1;33m\u001b[0m\u001b[0m\n\u001b[0m\u001b[0;32m    120\u001b[0m         \u001b[1;32mexcept\u001b[0m \u001b[0mStopIteration\u001b[0m\u001b[1;33m:\u001b[0m\u001b[1;33m\u001b[0m\u001b[1;33m\u001b[0m\u001b[0m\n\u001b[0;32m    121\u001b[0m             \u001b[1;32mraise\u001b[0m \u001b[0mRuntimeError\u001b[0m\u001b[1;33m(\u001b[0m\u001b[1;34m\"generator didn't yield\"\u001b[0m\u001b[1;33m)\u001b[0m \u001b[1;32mfrom\u001b[0m \u001b[1;32mNone\u001b[0m\u001b[1;33m\u001b[0m\u001b[1;33m\u001b[0m\u001b[0m\n",
      "\u001b[1;32m~\\anaconda3\\envs\\phoviz\\lib\\site-packages\\scipy\\io\\matlab\\mio.py\u001b[0m in \u001b[0;36m_open_file_context\u001b[1;34m(file_like, appendmat, mode)\u001b[0m\n\u001b[0;32m     15\u001b[0m \u001b[1;33m@\u001b[0m\u001b[0mcontextmanager\u001b[0m\u001b[1;33m\u001b[0m\u001b[1;33m\u001b[0m\u001b[0m\n\u001b[0;32m     16\u001b[0m \u001b[1;32mdef\u001b[0m \u001b[0m_open_file_context\u001b[0m\u001b[1;33m(\u001b[0m\u001b[0mfile_like\u001b[0m\u001b[1;33m,\u001b[0m \u001b[0mappendmat\u001b[0m\u001b[1;33m,\u001b[0m \u001b[0mmode\u001b[0m\u001b[1;33m=\u001b[0m\u001b[1;34m'rb'\u001b[0m\u001b[1;33m)\u001b[0m\u001b[1;33m:\u001b[0m\u001b[1;33m\u001b[0m\u001b[1;33m\u001b[0m\u001b[0m\n\u001b[1;32m---> 17\u001b[1;33m     \u001b[0mf\u001b[0m\u001b[1;33m,\u001b[0m \u001b[0mopened\u001b[0m \u001b[1;33m=\u001b[0m \u001b[0m_open_file\u001b[0m\u001b[1;33m(\u001b[0m\u001b[0mfile_like\u001b[0m\u001b[1;33m,\u001b[0m \u001b[0mappendmat\u001b[0m\u001b[1;33m,\u001b[0m \u001b[0mmode\u001b[0m\u001b[1;33m)\u001b[0m\u001b[1;33m\u001b[0m\u001b[1;33m\u001b[0m\u001b[0m\n\u001b[0m\u001b[0;32m     18\u001b[0m     \u001b[1;32mtry\u001b[0m\u001b[1;33m:\u001b[0m\u001b[1;33m\u001b[0m\u001b[1;33m\u001b[0m\u001b[0m\n\u001b[0;32m     19\u001b[0m         \u001b[1;32myield\u001b[0m \u001b[0mf\u001b[0m\u001b[1;33m\u001b[0m\u001b[1;33m\u001b[0m\u001b[0m\n",
      "\u001b[1;32m~\\anaconda3\\envs\\phoviz\\lib\\site-packages\\scipy\\io\\matlab\\mio.py\u001b[0m in \u001b[0;36m_open_file\u001b[1;34m(file_like, appendmat, mode)\u001b[0m\n\u001b[0;32m     43\u001b[0m             \u001b[1;32mif\u001b[0m \u001b[0mappendmat\u001b[0m \u001b[1;32mand\u001b[0m \u001b[1;32mnot\u001b[0m \u001b[0mfile_like\u001b[0m\u001b[1;33m.\u001b[0m\u001b[0mendswith\u001b[0m\u001b[1;33m(\u001b[0m\u001b[1;34m'.mat'\u001b[0m\u001b[1;33m)\u001b[0m\u001b[1;33m:\u001b[0m\u001b[1;33m\u001b[0m\u001b[1;33m\u001b[0m\u001b[0m\n\u001b[0;32m     44\u001b[0m                 \u001b[0mfile_like\u001b[0m \u001b[1;33m+=\u001b[0m \u001b[1;34m'.mat'\u001b[0m\u001b[1;33m\u001b[0m\u001b[1;33m\u001b[0m\u001b[0m\n\u001b[1;32m---> 45\u001b[1;33m             \u001b[1;32mreturn\u001b[0m \u001b[0mopen\u001b[0m\u001b[1;33m(\u001b[0m\u001b[0mfile_like\u001b[0m\u001b[1;33m,\u001b[0m \u001b[0mmode\u001b[0m\u001b[1;33m)\u001b[0m\u001b[1;33m,\u001b[0m \u001b[1;32mTrue\u001b[0m\u001b[1;33m\u001b[0m\u001b[1;33m\u001b[0m\u001b[0m\n\u001b[0m\u001b[0;32m     46\u001b[0m         \u001b[1;32melse\u001b[0m\u001b[1;33m:\u001b[0m\u001b[1;33m\u001b[0m\u001b[1;33m\u001b[0m\u001b[0m\n\u001b[0;32m     47\u001b[0m             raise IOError(\n",
      "\u001b[1;31mFileNotFoundError\u001b[0m: [Errno 2] No such file or directory: '/Users/pho/repo/Python Projects/PhoNeuronGillespie2021CodeRepo/PhoMatlabDataScripting/ExportedData/RoyMaze1/positionAnalysis.mat'"
     ]
    }
   ],
   "source": [
    "mat_import_file = '/Users/pho/repo/Python Projects/PhoNeuronGillespie2021CodeRepo/PhoMatlabDataScripting/ExportedData/RoyMaze1/positionAnalysis.mat'\n",
    "print('Loading matlab import file: {}...'.format(mat_import_file))\n",
    "data = hdf5storage.loadmat(mat_import_file, appendmat=False)\n",
    "# np.shape(data)\n",
    "print('done.')"
   ]
  },
  {
   "cell_type": "code",
   "execution_count": null,
   "id": "a2be168e-f3b5-48ed-a7a5-05a76f2bd9a0",
   "metadata": {
    "tags": []
   },
   "outputs": [],
   "source": [
    "# data.keys()\n",
    "t = np.squeeze(data['positionalAnalysis']['track_position']['t'])\n",
    "x = np.squeeze(data['positionalAnalysis']['track_position']['x'])\n",
    "y = np.squeeze(data['positionalAnalysis']['track_position']['y'])\n",
    "speeds = np.squeeze(data['positionalAnalysis']['track_position']['speeds'])\n",
    "dt = np.squeeze(data['positionalAnalysis']['displacement']['dt'])\n",
    "dx = np.squeeze(data['positionalAnalysis']['displacement']['dx'])\n",
    "dy = np.squeeze(data['positionalAnalysis']['displacement']['dy'])\n",
    "\n",
    "print('shapes - t: {}, x: {}, y: {}'.format(np.shape(t), np.shape(x), np.shape(y))) \n",
    "\n",
    "extrema_min, extrema_max = np.nanmin(x), np.nanmax(x)\n",
    "print('for x: extrema_min: {}, extrema_max: {}'.format(extrema_min, extrema_max))\n",
    "extrema_min, extrema_max = np.nanmin(y), np.nanmax(y)\n",
    "print('for y: extrema_min: {}, extrema_max: {}'.format(extrema_min, extrema_max))\n",
    " "
   ]
  },
  {
   "cell_type": "code",
   "execution_count": null,
   "id": "0f23e050-232c-4f0c-93ed-9641c4ab5948",
   "metadata": {
    "scrolled": true,
    "tags": []
   },
   "outputs": [],
   "source": [
    "# Create a representation of the general maze layout by binning the data and then building a mask from all the points the animal ever traversed in the maze\n",
    "# Output: negligably_traversed_maze_regions - an 80x80 binary mask that specifies which maze regions are never traversed.\n",
    "def gen_2d_histrogram(x, y, sigma, bins=80):\n",
    "    heatmap, xedges, yedges = np.histogram2d(x, y, bins=bins, density=False)\n",
    "#     heatmap = gaussian_filter(heatmap, sigma=sigma)\n",
    "\n",
    "    extent = [xedges[0], xedges[-1], yedges[0], yedges[-1]]\n",
    "    return heatmap.T, extent, xedges, yedges\n",
    "\n",
    " \n",
    "# For the 1.6m track, we want bins of ~2cm -> 80 bins\n",
    "num_position_bins = 80\n",
    "# position_bins = np.linspace(0.0, 1.6, num_position_bins)\n",
    "# digitized_x = np.digitize(x, position_bins)\n",
    "# digitized_y = np.digitize(y, position_bins)\n",
    "\n",
    "smoothing_sigma = 2\n",
    "img, extent, xedges, yedges = gen_2d_histrogram(x, y, smoothing_sigma)\n",
    "\n",
    "## Get the histogram x that corresponds to each x, etc.\n",
    "digitized_x = np.digitize(x, xedges)-1\n",
    "digitized_y = np.digitize(y, yedges)-1\n",
    "\n",
    "get_point_heatmap_value = lambda i, : img.T[(digitized_x[i]-1), (digitized_y[i]-1)]\n",
    "point_heatmap_value = np.array(list(map(get_point_heatmap_value, range(0, len(digitized_x)))))\n",
    "\n",
    "\n",
    "# Convert the values into a actual color vectors\n",
    "cmap = cm.jet\n",
    "norm = Normalize(vmin=np.min(point_heatmap_value), vmax=np.max(point_heatmap_value))\n",
    "point_colors = cmap(norm(point_heatmap_value))\n",
    "\n",
    "print('point_heatmap_value: {}'.format(point_heatmap_value))\n",
    "\n",
    "# Want to build a color value for each point.\n",
    "# for i in arange(0, len(x):\n",
    "#     for j in arange(0, len(y):\n",
    "                    \n",
    "                \n",
    "\n",
    "# print('img: {}'.format(np.shape(img)))\n",
    "# img_mask = np.nonzero(img)\n",
    "negligably_traversed_maze_regions = np.where(img < 25)\n",
    "# print('negligably_traversed_maze_regions: {}'.format(np.shape(negligably_traversed_maze_regions)))\n",
    "img_mask = img\n",
    "img_mask[negligably_traversed_maze_regions] = np.nan\n",
    "boosted_img = pow(img, 2)\n",
    "# print('np.shape(img): {}, img: {}'.format(np.shape(img), img))\n",
    "\n",
    "fig, ax = plt.subplots(figsize=(15,6))\n",
    "plt.imshow(img, extent=extent, origin='lower', cmap=cm.jet)\n",
    "# plt.imshow(img, origin='lower', cmap=cm.jet)\n",
    "# plt.imshow(img_mask, extent=extent, origin='lower', cmap=cm.jet)\n",
    "# plt.imshow(img_mask, extent=extent, origin='lower')\n",
    "plt.colorbar()\n",
    "plt.title('Non-negligably Traversed Maze Regions')\n",
    "\n",
    "# extrema_min, extrema_max = np.nanmin(digitized_x), np.nanmax(digitized_x)\n",
    "# print('for digitized_x: extrema_min: {}, extrema_max: {}'.format(extrema_min, extrema_max))\n",
    "# extrema_min, extrema_max = np.nanmin(digitized_y), np.nanmax(digitized_y)\n",
    "# print('for digitized_y: extrema_min: {}, extrema_max: {}'.format(extrema_min, extrema_max))\n",
    "\n",
    "\n",
    "# print('({}, {})'.format(digitized_x, digitized_y))\n",
    "# z_values = np.zeros([80, 80])\n",
    "# z_values[digitized_x-1, digitized_y-1] = 1.0\n",
    "\n",
    "# xx, yy = np.meshgrid(position_bins, position_bins)\n",
    "\n",
    "# # xx, yy = np.meshgrid(digitized_x, digitized_y)\n",
    "\n",
    "# plt.imshow(z_values, cmap='hot', interpolation='nearest')\n",
    "# plt.hexbin(x, y, C=z_values, gridsize=gridsize, cmap=CM.jet, bins=None)\n",
    "# ax = sns.heatmap(z_values, linewidth=0.5)\n",
    "sns.jointplot(x=x, y=y, kind='hex')\n",
    "\n",
    "plt.show()\n",
    "# np.sum("
   ]
  },
  {
   "cell_type": "code",
   "execution_count": 3,
   "id": "d98ea5dc-2af5-45de-837c-3e58c9874d7b",
   "metadata": {},
   "outputs": [
    {
     "ename": "NameError",
     "evalue": "name 'x' is not defined",
     "output_type": "error",
     "traceback": [
      "\u001b[1;31m---------------------------------------------------------------------------\u001b[0m",
      "\u001b[1;31mNameError\u001b[0m                                 Traceback (most recent call last)",
      "\u001b[1;32m~\\AppData\\Local\\Temp/ipykernel_3872/699281170.py\u001b[0m in \u001b[0;36m<module>\u001b[1;34m\u001b[0m\n\u001b[0;32m     11\u001b[0m \u001b[0mfig\u001b[0m \u001b[1;33m=\u001b[0m \u001b[0mipv\u001b[0m\u001b[1;33m.\u001b[0m\u001b[0mfigure\u001b[0m\u001b[1;33m(\u001b[0m\u001b[1;33m)\u001b[0m\u001b[1;33m\u001b[0m\u001b[1;33m\u001b[0m\u001b[0m\n\u001b[0;32m     12\u001b[0m \u001b[1;31m# z = point_heatmap_value\u001b[0m\u001b[1;33m\u001b[0m\u001b[1;33m\u001b[0m\u001b[0m\n\u001b[1;32m---> 13\u001b[1;33m \u001b[0mz\u001b[0m \u001b[1;33m=\u001b[0m \u001b[0mnp\u001b[0m\u001b[1;33m.\u001b[0m\u001b[0mzeros_like\u001b[0m\u001b[1;33m(\u001b[0m\u001b[0mx\u001b[0m\u001b[1;33m)\u001b[0m\u001b[1;33m\u001b[0m\u001b[1;33m\u001b[0m\u001b[0m\n\u001b[0m\u001b[0;32m     14\u001b[0m \u001b[0mscatter\u001b[0m \u001b[1;33m=\u001b[0m \u001b[0mipv\u001b[0m\u001b[1;33m.\u001b[0m\u001b[0mscatter\u001b[0m\u001b[1;33m(\u001b[0m\u001b[0mx\u001b[0m\u001b[1;33m,\u001b[0m \u001b[0my\u001b[0m\u001b[1;33m,\u001b[0m \u001b[0mz\u001b[0m\u001b[1;33m,\u001b[0m \u001b[0mcolor\u001b[0m\u001b[1;33m=\u001b[0m\u001b[0mpoint_colors\u001b[0m\u001b[1;33m,\u001b[0m \u001b[0mmarker\u001b[0m\u001b[1;33m=\u001b[0m\u001b[1;34m'diamond'\u001b[0m\u001b[1;33m,\u001b[0m \u001b[0msize\u001b[0m\u001b[1;33m=\u001b[0m\u001b[1;36m0.2\u001b[0m\u001b[1;33m)\u001b[0m\u001b[1;33m\u001b[0m\u001b[1;33m\u001b[0m\u001b[0m\n\u001b[0;32m     15\u001b[0m \u001b[0mscatter\u001b[0m\u001b[1;33m.\u001b[0m\u001b[0mconnected\u001b[0m \u001b[1;33m=\u001b[0m \u001b[1;32mFalse\u001b[0m  \u001b[1;31m# draw connecting lines\u001b[0m\u001b[1;33m\u001b[0m\u001b[1;33m\u001b[0m\u001b[0m\n",
      "\u001b[1;31mNameError\u001b[0m: name 'x' is not defined"
     ]
    }
   ],
   "source": [
    "## Plot the raw position points\n",
    "\n",
    "# # matplotlib version:\n",
    "# ax = plt.axes(projection='3d')\n",
    "# # z = np.zeros_like(x)\n",
    "# z = point_heatmap_value\n",
    "# ax.scatter3D(x, y, z, color=point_colors, s=1);\n",
    "\n",
    "# ipyvolume version:\n",
    "# Plot basic data:\n",
    "fig = ipv.figure()\n",
    "# z = point_heatmap_value\n",
    "z = np.zeros_like(x)\n",
    "scatter = ipv.scatter(x, y, z, color=point_colors, marker='diamond', size=0.2)\n",
    "scatter.connected = False  # draw connecting lines\n",
    "\n",
    "ipv.show()"
   ]
  },
  {
   "cell_type": "code",
   "execution_count": 16,
   "id": "1ec511db-6d68-4c13-a2b8-719f773c459f",
   "metadata": {},
   "outputs": [],
   "source": [
    "# Projected Maze 2D Outline:\n",
    "maze_outline_x = x\n",
    "maze_outline_y = y\n"
   ]
  },
  {
   "cell_type": "code",
   "execution_count": 38,
   "id": "4dfad602-8c2e-40f6-bef7-6ad737463d48",
   "metadata": {},
   "outputs": [
    {
     "name": "stdout",
     "output_type": "stream",
     "text": [
      "shapes - t_fixedSegements: (10819, 30), x_fixedSegements: (10819, 30), y_fixedSegements: (10819, 30)\n"
     ]
    }
   ],
   "source": [
    "# Split the position data into equal sized chunks to be displayed at a single time. These will look like portions of the trajectory and be used to animate. # Chunk the data to create the animation.\n",
    "# curr_view_window_length = 150 # View 5 seconds at a time (30fps)\n",
    "curr_view_window_length = 30 # View 5 seconds at a time (30fps)\n",
    "# The original length 324574 / 30 = 10819\n",
    "\n",
    "trimmed_elements = np.remainder(np.size(x), curr_view_window_length) # Compute the number of elements that need to be droppped to be able to evently divide the original arrays into evenly sized chunks of length `curr_view_window_length`\n",
    "# e.g. np.remainder(324574, 150) = 124\n",
    "\n",
    "# drop 124 extra elements that make it no wrap evenly\n",
    "trimmed_length = np.size(x) - trimmed_elements\n",
    "# e.g. trimmed_length = 324574 - 124 # 324574 - 124\n",
    "other_reshaped_dimension = np.floor_divide(np.size(x), curr_view_window_length) # e.g. 2163\n",
    "\n",
    "t_fixedSegements = t[0:trimmed_length].reshape(other_reshaped_dimension, curr_view_window_length)\n",
    "x_fixedSegements = x[0:trimmed_length].reshape(other_reshaped_dimension, curr_view_window_length)\n",
    "y_fixedSegements = y[0:trimmed_length].reshape(other_reshaped_dimension, curr_view_window_length)\n",
    "\n",
    "speeds_fixedSegements = speeds[0:trimmed_length].reshape(other_reshaped_dimension, curr_view_window_length)\n",
    "dt_fixedSegements = dt[0:trimmed_length].reshape(other_reshaped_dimension, curr_view_window_length)\n",
    "dx_fixedSegements = dx[0:trimmed_length].reshape(other_reshaped_dimension, curr_view_window_length)\n",
    "dy_fixedSegements = dy[0:trimmed_length].reshape(other_reshaped_dimension, curr_view_window_length)\n",
    "\n",
    "print('shapes - t_fixedSegements: {}, x_fixedSegements: {}, y_fixedSegements: {}'.format(np.shape(t_fixedSegements), np.shape(x_fixedSegements), np.shape(y_fixedSegements)))\n"
   ]
  },
  {
   "cell_type": "code",
   "execution_count": null,
   "id": "0bbc6283-a393-4b69-ac92-3a92fe17ddda",
   "metadata": {},
   "outputs": [],
   "source": []
  },
  {
   "cell_type": "code",
   "execution_count": null,
   "id": "359f6cbf",
   "metadata": {},
   "outputs": [],
   "source": [
    "# scales = {\n",
    "#     'x': bqplot.scales.LinearScale(min=10**-3, max=10**3),\n",
    "#     'y': bqplot.scales.LinearScale(min=-3, max=3),\n",
    "#     'z': bqplot.scales.LinearScale(min=-3, max=3),\n",
    "# }\n",
    "# color_scale = bqplot.scales.ColorScale(min=0, max=3, colors=[\"#f00\", \"#0f0\", \"#00f\"])"
   ]
  },
  {
   "cell_type": "code",
   "execution_count": null,
   "id": "175f75fc-a224-4b61-bec8-570538d9c894",
   "metadata": {},
   "outputs": [],
   "source": []
  },
  {
   "cell_type": "code",
   "execution_count": 48,
   "id": "d9e43018-2965-488c-b5ec-4ee1719d878f",
   "metadata": {},
   "outputs": [
    {
     "name": "stdout",
     "output_type": "stream",
     "text": [
      "ShaderMaterial(opacity=0.1, transparent=True)\n"
     ]
    },
    {
     "data": {
      "application/vnd.jupyter.widget-view+json": {
       "model_id": "dfa66a75e3ae460e8beced44d7d099d6",
       "version_major": 2,
       "version_minor": 0
      },
      "text/plain": [
       "VBox(children=(Figure(animation=200.0, box_center=[0.5, 0.5, 0.5], box_size=[1.0, 1.0, 1.0], camera=Perspectiv…"
      ]
     },
     "metadata": {},
     "output_type": "display_data"
    }
   ],
   "source": [
    "# Plot basic data:\n",
    "fig = ipv.figure()\n",
    "# fig = ipv.figure(scales=scales)\n",
    "\n",
    "# Plot the 2D entire path history on the floor to give a rough outline of where the active trajectory segement is in the maze\n",
    "z = np.zeros_like(x)\n",
    "scatter = ipv.scatter(x, z, y, color=point_colors, marker='diamond', size=0.2)\n",
    "scatter.connected = False  # draw connecting lines\n",
    "scatter.material.transparent = True\n",
    "scatter.material.opacity = 0.1\n",
    "scatter.line_material.transparent = True\n",
    "scatter.line_material.opacity = 0.1\n",
    "\n",
    "# scatter.draw_lines = False\n",
    "# scatter.draw_cats = True\n",
    "print(scatter.material)\n",
    "\n",
    "# u = np.array([X/5 +np.sin(k/1*np.pi)*4. for k in range(len(X))])\n",
    "# u = np.linspace(-1.0, 1.0, len(X))\n",
    "# v = np.linspace(-1.0, 1.0, len(X))\n",
    "# v = np.array([-Y/5*(1-k/7.) + Z*(k/7.) for k in range(len(X))])\n",
    "# u = np.array([0.0, 1.0, 1.0, 0.0])\n",
    "# v = np.array([0.0, 0.0, 1.0, 1.0])\n",
    "# mesh = ipv.plot_mesh(X, Z, Y, u=u, v=v, texture=im, wireframe=False)\n",
    "# ipv.plot_surface(X, Z, Y, color=\"black\")\n",
    "# ipv.plot_wireframe(X, Z, Y, color=\"grey\")\n",
    "\n",
    "# ipv.pylab.plot_surface()\n",
    "\n",
    "\n",
    "# colors = np.zeros([\n",
    "# s = ipv.scatter(maze_outline_x, (0.0 * maze_outline_x), maze_outline_y, marker='sphere', size=1, color='black')\n",
    "# ipv.animation_control(s, interval=200) # shows controls for animation controls\n",
    "\n",
    "# z_fixedSegments = t_fixedSegements # Use time as the z-axis\n",
    "z_fixedSegments = np.zeros_like(x_fixedSegements) # Use a constant zero z-axis offsets (so it's on the plane)\n",
    "motion_plot = ipv.scatter(x_fixedSegements, z_fixedSegments, y_fixedSegements, marker='sphere', size=1)\n",
    "# motion_plot = ipv.quiver(x_fixedSegements, z_fixedSegments, y_fixedSegements, dx_fixedSegements, dt_fixedSegements, dy_fixedSegements, size=2.0, size_selected=2, color_selected=\"blue\")\n",
    "ipv.animation_control(motion_plot, interval=200) # shows controls for animation controls\n",
    "\n",
    "ipv.show()"
   ]
  },
  {
   "cell_type": "code",
   "execution_count": null,
   "id": "f1830ada-995d-4882-86df-2bdef7c4a16b",
   "metadata": {},
   "outputs": [],
   "source": []
  },
  {
   "cell_type": "code",
   "execution_count": null,
   "id": "18775a14-358b-4760-851f-0c415a5a42cb",
   "metadata": {},
   "outputs": [],
   "source": []
  },
  {
   "cell_type": "code",
   "execution_count": null,
   "id": "11f24c00-0c09-41de-a6c8-cd5c058a3df5",
   "metadata": {},
   "outputs": [],
   "source": []
  },
  {
   "cell_type": "code",
   "execution_count": null,
   "id": "39668079-0575-4123-834c-7f18cedfc252",
   "metadata": {},
   "outputs": [],
   "source": [
    "x, y, z, u, v, w = np.random.random((6, 1000))*2-1\n",
    "selected = np.random.randint(0, 1000, 100)\n",
    "ipv.figure()\n",
    "quiver = ipv.quiver(x, y, z, u, v, w, size=5, size_selected=8, selected=selected)\n",
    "\n",
    "from ipywidgets import FloatSlider, ColorPicker, VBox, jslink\n",
    "size = FloatSlider(min=0, max=30, step=0.1)\n",
    "size_selected = FloatSlider(min=0, max=30, step=0.1)\n",
    "color = ColorPicker()\n",
    "color_selected = ColorPicker()\n",
    "jslink((quiver, 'size'), (size, 'value'))\n",
    "jslink((quiver, 'size_selected'), (size_selected, 'value'))\n",
    "jslink((quiver, 'color'), (color, 'value'))\n",
    "jslink((quiver, 'color_selected'), (color_selected, 'value'))\n",
    "VBox([ipv.gcc(), size, size_selected, color, color_selected])"
   ]
  },
  {
   "cell_type": "code",
   "execution_count": null,
   "id": "60015f88-fd3b-4938-8153-6ee88d993c0e",
   "metadata": {},
   "outputs": [],
   "source": []
  },
  {
   "cell_type": "code",
   "execution_count": null,
   "id": "25b45662-fcb2-4064-852b-1751a1aadbe9",
   "metadata": {},
   "outputs": [],
   "source": []
  }
 ],
 "metadata": {
  "celltoolbar": "Tags",
  "kernelspec": {
   "display_name": "Python 3 (ipykernel)",
   "language": "python",
   "name": "python3"
  },
  "language_info": {
   "codemirror_mode": {
    "name": "ipython",
    "version": 3
   },
   "file_extension": ".py",
   "mimetype": "text/x-python",
   "name": "python",
   "nbconvert_exporter": "python",
   "pygments_lexer": "ipython3",
   "version": "3.9.7"
  }
 },
 "nbformat": 4,
 "nbformat_minor": 5
}
