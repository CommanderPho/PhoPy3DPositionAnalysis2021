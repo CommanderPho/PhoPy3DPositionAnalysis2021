{
 "cells": [
  {
   "cell_type": "code",
   "execution_count": 1,
   "id": "1d70a2ce",
   "metadata": {},
   "outputs": [
    {
     "ename": "ModuleNotFoundError",
     "evalue": "No module named 'panel'",
     "output_type": "error",
     "traceback": [
      "\u001b[1;31m---------------------------------------------------------------------------\u001b[0m",
      "\u001b[1;31mModuleNotFoundError\u001b[0m                       Traceback (most recent call last)",
      "\u001b[1;32m~\\AppData\\Local\\Temp/ipykernel_7292/437788808.py\u001b[0m in \u001b[0;36m<module>\u001b[1;34m\u001b[0m\n\u001b[0;32m     13\u001b[0m \u001b[1;32mimport\u001b[0m \u001b[0mhdf5storage\u001b[0m \u001b[1;31m# conda install hdf5storage\u001b[0m\u001b[1;33m\u001b[0m\u001b[1;33m\u001b[0m\u001b[0m\n\u001b[0;32m     14\u001b[0m \u001b[1;32mfrom\u001b[0m \u001b[0mpathlib\u001b[0m \u001b[1;32mimport\u001b[0m \u001b[0mPath\u001b[0m\u001b[1;33m\u001b[0m\u001b[1;33m\u001b[0m\u001b[0m\n\u001b[1;32m---> 15\u001b[1;33m \u001b[1;32mimport\u001b[0m \u001b[0mpanel\u001b[0m\u001b[1;33m\u001b[0m\u001b[1;33m\u001b[0m\u001b[0m\n\u001b[0m\u001b[0;32m     16\u001b[0m \u001b[1;31m# from itkwidgets import view\u001b[0m\u001b[1;33m\u001b[0m\u001b[1;33m\u001b[0m\u001b[1;33m\u001b[0m\u001b[0m\n",
      "\u001b[1;31mModuleNotFoundError\u001b[0m: No module named 'panel'"
     ]
    }
   ],
   "source": [
    "#!/usr/bin/env python3\n",
    "# -*- coding: utf-8 -*-\n",
    "\"\"\"\n",
    "@author: pho\n",
    "\"\"\"\n",
    "import sys\n",
    "from threading import Thread\n",
    "from ipygany import PolyMesh, Scene, IsoColor, WarpByScalar\n",
    "import pyvista as pv\n",
    "import pyvistaqt as pvqt # conda install -c conda-forge pyvistaqt\n",
    "import numpy as np\n",
    "import h5py\n",
    "import hdf5storage # conda install hdf5storage\n",
    "from pathlib import Path\n",
    "import panel\n",
    "# from itkwidgets import view"
   ]
  },
  {
   "cell_type": "code",
   "execution_count": null,
   "id": "92034790",
   "metadata": {},
   "outputs": [],
   "source": [
    "# https://qtdocs.pyvista.org\n",
    "sphere = pv.Sphere()\n",
    "\n",
    "plotter = pvqt.BackgroundPlotter() # Use just like you would a pv.Plotter() instance\n",
    "plotter.add_mesh(sphere)\n",
    "\n",
    "plotter.show()"
   ]
  },
  {
   "cell_type": "code",
   "execution_count": null,
   "id": "d0b10e82",
   "metadata": {},
   "outputs": [],
   "source": [
    "## Make a spline from points:\n",
    "# Make the xyz points\n",
    "theta = np.linspace(-10 * np.pi, 10 * np.pi, 100)\n",
    "z = np.linspace(-2, 2, 100)\n",
    "r = z**2 + 1\n",
    "x = r * np.sin(theta)\n",
    "y = r * np.cos(theta)\n",
    "points = np.column_stack((x, y, z))\n",
    "\n",
    "spline = pv.Spline(points, 500).tube(radius=0.1)\n",
    "spline.plot(scalars='arc_length', show_scalar_bar=False)"
   ]
  },
  {
   "cell_type": "code",
   "execution_count": 2,
   "id": "3b00eced",
   "metadata": {},
   "outputs": [
    {
     "ename": "NameError",
     "evalue": "name 'sphere' is not defined",
     "output_type": "error",
     "traceback": [
      "\u001b[1;31m---------------------------------------------------------------------------\u001b[0m",
      "\u001b[1;31mNameError\u001b[0m                                 Traceback (most recent call last)",
      "\u001b[1;32m~\\AppData\\Local\\Temp/ipykernel_7292/1410646535.py\u001b[0m in \u001b[0;36m<module>\u001b[1;34m\u001b[0m\n\u001b[0;32m      1\u001b[0m \u001b[1;31m# can now operate on the sphere and have it updated in the background\u001b[0m\u001b[1;33m\u001b[0m\u001b[1;33m\u001b[0m\u001b[1;33m\u001b[0m\u001b[0m\n\u001b[1;32m----> 2\u001b[1;33m \u001b[0msphere\u001b[0m\u001b[1;33m.\u001b[0m\u001b[0mpoints\u001b[0m \u001b[1;33m*=\u001b[0m \u001b[1;36m0.5\u001b[0m\u001b[1;33m\u001b[0m\u001b[1;33m\u001b[0m\u001b[0m\n\u001b[0m",
      "\u001b[1;31mNameError\u001b[0m: name 'sphere' is not defined"
     ]
    }
   ],
   "source": [
    "# can now operate on the sphere and have it updated in the background\n",
    "sphere.points *= 0.5"
   ]
  },
  {
   "cell_type": "code",
   "execution_count": 9,
   "id": "1afeafa4",
   "metadata": {},
   "outputs": [
    {
     "data": {
      "text/plain": [
       "(vtkmodules.vtkRenderingOpenGL2.vtkOpenGLActor)000001D817A0A948"
      ]
     },
     "execution_count": 9,
     "metadata": {},
     "output_type": "execute_result"
    }
   ],
   "source": [
    "mp = pvqt.MultiPlotter(nrows=2, ncols=2)\n",
    "mp[0, 0].add_mesh(pv.Sphere())\n",
    "mp[0, 1].add_mesh(pv.Cylinder())\n",
    "mp[1, 0].add_mesh(pv.Cube())\n",
    "mp[1, 1].add_mesh(pv.Cone())\n",
    "\n"
   ]
  },
  {
   "cell_type": "code",
   "execution_count": 2,
   "id": "c441228f",
   "metadata": {},
   "outputs": [],
   "source": [
    "## Slider with Callback Function Example:\n",
    "\n",
    "p = pvqt.BackgroundPlotter() # Use just like you would a pv.Plotter() instance\n",
    "\n",
    "def on_slider_update_mesh(value):\n",
    "    res = int(value)\n",
    "    sphere = pv.Sphere(phi_resolution=res, theta_resolution=res)\n",
    "    p.add_mesh(sphere, name='sphere', show_edges=True)\n",
    "    return\n",
    "\n",
    "p.add_slider_widget(on_slider_update_mesh, [5, 100], title='Resolution')\n",
    "p.show()\n"
   ]
  },
  {
   "cell_type": "code",
   "execution_count": 4,
   "id": "13bcf2d2",
   "metadata": {},
   "outputs": [
    {
     "ename": "InvalidCameraError",
     "evalue": "Invalid camera description\nCamera description must be one of the following:\n\nIterable containing position, focal_point, and view up.  For example:\n[(2.0, 5.0, 13.0), (0.0, 0.0, 0.0), (-0.7, -0.5, 0.3)]\n\nIterable containing a view vector.  For example:\n[-1.0, 2.0, -5.0]\n\nA string containing the plane orthogonal to the view direction.  For example:\n'xy'\n",
     "output_type": "error",
     "traceback": [
      "\u001b[1;31m---------------------------------------------------------------------------\u001b[0m",
      "\u001b[1;31mInvalidCameraError\u001b[0m                        Traceback (most recent call last)",
      "\u001b[1;32m<ipython-input-4-c04d96325a10>\u001b[0m in \u001b[0;36m<module>\u001b[1;34m\u001b[0m\n\u001b[0;32m     15\u001b[0m \u001b[1;31m# plot each face with a different color\u001b[0m\u001b[1;33m\u001b[0m\u001b[1;33m\u001b[0m\u001b[1;33m\u001b[0m\u001b[0m\n\u001b[0;32m     16\u001b[0m \u001b[1;31m# surf.plot(scalars=np.arange(3), cpos=[-1, 1, 0.5])\u001b[0m\u001b[1;33m\u001b[0m\u001b[1;33m\u001b[0m\u001b[1;33m\u001b[0m\u001b[0m\n\u001b[1;32m---> 17\u001b[1;33m \u001b[0msurf\u001b[0m\u001b[1;33m.\u001b[0m\u001b[0mplot\u001b[0m\u001b[1;33m(\u001b[0m\u001b[0mscalars\u001b[0m\u001b[1;33m=\u001b[0m\u001b[0mnp\u001b[0m\u001b[1;33m.\u001b[0m\u001b[0marange\u001b[0m\u001b[1;33m(\u001b[0m\u001b[1;36m3\u001b[0m\u001b[1;33m)\u001b[0m\u001b[1;33m,\u001b[0m \u001b[0mcpos\u001b[0m\u001b[1;33m=\u001b[0m\u001b[1;33m[\u001b[0m\u001b[1;33m-\u001b[0m\u001b[1;36m1\u001b[0m\u001b[1;33m,\u001b[0m \u001b[1;36m1\u001b[0m\u001b[1;33m]\u001b[0m\u001b[1;33m)\u001b[0m\u001b[1;33m\u001b[0m\u001b[1;33m\u001b[0m\u001b[0m\n\u001b[0m",
      "\u001b[1;32m~\\anaconda3\\envs\\viz3d\\lib\\site-packages\\pyvista\\plotting\\helpers.py\u001b[0m in \u001b[0;36mplot\u001b[1;34m(var_item, off_screen, full_screen, screenshot, interactive, cpos, window_size, show_bounds, show_axes, notebook, background, text, return_img, eye_dome_lighting, volume, parallel_projection, use_ipyvtk, jupyter_backend, return_viewer, return_cpos, jupyter_kwargs, theme, hidden_line_removal, anti_aliasing, zoom, **kwargs)\u001b[0m\n\u001b[0;32m    230\u001b[0m         \u001b[0mplotter\u001b[0m\u001b[1;33m.\u001b[0m\u001b[0mcamera_set\u001b[0m \u001b[1;33m=\u001b[0m \u001b[1;32mFalse\u001b[0m\u001b[1;33m\u001b[0m\u001b[1;33m\u001b[0m\u001b[0m\n\u001b[0;32m    231\u001b[0m     \u001b[1;32melse\u001b[0m\u001b[1;33m:\u001b[0m\u001b[1;33m\u001b[0m\u001b[1;33m\u001b[0m\u001b[0m\n\u001b[1;32m--> 232\u001b[1;33m         \u001b[0mplotter\u001b[0m\u001b[1;33m.\u001b[0m\u001b[0mcamera_position\u001b[0m \u001b[1;33m=\u001b[0m \u001b[0mcpos\u001b[0m\u001b[1;33m\u001b[0m\u001b[1;33m\u001b[0m\u001b[0m\n\u001b[0m\u001b[0;32m    233\u001b[0m \u001b[1;33m\u001b[0m\u001b[0m\n\u001b[0;32m    234\u001b[0m     \u001b[1;32mif\u001b[0m \u001b[0mzoom\u001b[0m \u001b[1;32mis\u001b[0m \u001b[1;32mnot\u001b[0m \u001b[1;32mNone\u001b[0m\u001b[1;33m:\u001b[0m\u001b[1;33m\u001b[0m\u001b[1;33m\u001b[0m\u001b[0m\n",
      "\u001b[1;32m~\\anaconda3\\envs\\viz3d\\lib\\site-packages\\pyvista\\plotting\\plotting.py\u001b[0m in \u001b[0;36mcamera_position\u001b[1;34m(self, camera_location)\u001b[0m\n\u001b[0;32m   1102\u001b[0m     \u001b[1;32mdef\u001b[0m \u001b[0mcamera_position\u001b[0m\u001b[1;33m(\u001b[0m\u001b[0mself\u001b[0m\u001b[1;33m,\u001b[0m \u001b[0mcamera_location\u001b[0m\u001b[1;33m)\u001b[0m\u001b[1;33m:\u001b[0m\u001b[1;33m\u001b[0m\u001b[1;33m\u001b[0m\u001b[0m\n\u001b[0;32m   1103\u001b[0m         \u001b[1;34m\"\"\"Set camera position of the active render window.\"\"\"\u001b[0m\u001b[1;33m\u001b[0m\u001b[1;33m\u001b[0m\u001b[0m\n\u001b[1;32m-> 1104\u001b[1;33m         \u001b[0mself\u001b[0m\u001b[1;33m.\u001b[0m\u001b[0mrenderer\u001b[0m\u001b[1;33m.\u001b[0m\u001b[0mcamera_position\u001b[0m \u001b[1;33m=\u001b[0m \u001b[0mcamera_location\u001b[0m\u001b[1;33m\u001b[0m\u001b[1;33m\u001b[0m\u001b[0m\n\u001b[0m\u001b[0;32m   1105\u001b[0m \u001b[1;33m\u001b[0m\u001b[0m\n\u001b[0;32m   1106\u001b[0m     \u001b[1;33m@\u001b[0m\u001b[0mproperty\u001b[0m\u001b[1;33m\u001b[0m\u001b[1;33m\u001b[0m\u001b[0m\n",
      "\u001b[1;32m~\\anaconda3\\envs\\viz3d\\lib\\site-packages\\pyvista\\plotting\\renderer.py\u001b[0m in \u001b[0;36mcamera_position\u001b[1;34m(self, camera_location)\u001b[0m\n\u001b[0;32m    187\u001b[0m         \u001b[1;32melif\u001b[0m \u001b[0misinstance\u001b[0m\u001b[1;33m(\u001b[0m\u001b[0mcamera_location\u001b[0m\u001b[1;33m[\u001b[0m\u001b[1;36m0\u001b[0m\u001b[1;33m]\u001b[0m\u001b[1;33m,\u001b[0m \u001b[1;33m(\u001b[0m\u001b[0mint\u001b[0m\u001b[1;33m,\u001b[0m \u001b[0mfloat\u001b[0m\u001b[1;33m)\u001b[0m\u001b[1;33m)\u001b[0m\u001b[1;33m:\u001b[0m\u001b[1;33m\u001b[0m\u001b[1;33m\u001b[0m\u001b[0m\n\u001b[0;32m    188\u001b[0m             \u001b[1;32mif\u001b[0m \u001b[0mlen\u001b[0m\u001b[1;33m(\u001b[0m\u001b[0mcamera_location\u001b[0m\u001b[1;33m)\u001b[0m \u001b[1;33m!=\u001b[0m \u001b[1;36m3\u001b[0m\u001b[1;33m:\u001b[0m\u001b[1;33m\u001b[0m\u001b[1;33m\u001b[0m\u001b[0m\n\u001b[1;32m--> 189\u001b[1;33m                 \u001b[1;32mraise\u001b[0m \u001b[0mpyvista\u001b[0m\u001b[1;33m.\u001b[0m\u001b[0mcore\u001b[0m\u001b[1;33m.\u001b[0m\u001b[0merrors\u001b[0m\u001b[1;33m.\u001b[0m\u001b[0mInvalidCameraError\u001b[0m\u001b[1;33m\u001b[0m\u001b[1;33m\u001b[0m\u001b[0m\n\u001b[0m\u001b[0;32m    190\u001b[0m             \u001b[0mself\u001b[0m\u001b[1;33m.\u001b[0m\u001b[0mview_vector\u001b[0m\u001b[1;33m(\u001b[0m\u001b[0mcamera_location\u001b[0m\u001b[1;33m)\u001b[0m\u001b[1;33m\u001b[0m\u001b[1;33m\u001b[0m\u001b[0m\n\u001b[0;32m    191\u001b[0m         \u001b[1;32melse\u001b[0m\u001b[1;33m:\u001b[0m\u001b[1;33m\u001b[0m\u001b[1;33m\u001b[0m\u001b[0m\n",
      "\u001b[1;31mInvalidCameraError\u001b[0m: Invalid camera description\nCamera description must be one of the following:\n\nIterable containing position, focal_point, and view up.  For example:\n[(2.0, 5.0, 13.0), (0.0, 0.0, 0.0), (-0.7, -0.5, 0.3)]\n\nIterable containing a view vector.  For example:\n[-1.0, 2.0, -5.0]\n\nA string containing the plane orthogonal to the view direction.  For example:\n'xy'\n"
     ]
    }
   ],
   "source": [
    "# mesh points\n",
    "vertices = np.array([[0, 0, 0],\n",
    "                     [1, 0, 0],\n",
    "                     [1, 1, 0],\n",
    "                     [0, 1, 0],\n",
    "                     [0.5, 0.5, -1]])\n",
    "\n",
    "# mesh faces\n",
    "faces = np.hstack([[4, 0, 1, 2, 3],  # square\n",
    "                   [3, 0, 1, 4],     # triangle\n",
    "                   [3, 1, 2, 4]])    # triangle\n",
    "\n",
    "surf = pv.PolyData(vertices, faces)\n",
    "\n",
    "# plot each face with a different color\n",
    "# surf.plot(scalars=np.arange(3), cpos=[-1, 1, 0.5])\n",
    "surf.plot(scalars=np.arange(3), cpos=[-1, 1])\n"
   ]
  },
  {
   "cell_type": "code",
   "execution_count": 18,
   "id": "32813c61",
   "metadata": {},
   "outputs": [],
   "source": [
    "## Cylindrical Plotting Test:\n",
    "## From https://notebook.community/nicoguaro/AdvancedMath/notebooks/vector_calculus-pyvista\n",
    "red = (0.9, 0.1, 0.1)\n",
    "blue = (0.2, 0.5, 0.7)\n",
    "green = (0.3, 0.7, 0.3)\n",
    "\n",
    "# Cylinder\n",
    "phi, z = np.mgrid[0:2*np.pi:31j, -2:2*np.pi:31j]\n",
    "x = 2*np.cos(phi)\n",
    "y = 2*np.sin(phi)\n",
    "cylinder = pv.StructuredGrid(x, y, z)\n",
    "\n",
    "# Vertical plane\n",
    "rho, z = np.mgrid[0:3:31j, -2:2*np.pi:31j]\n",
    "x = rho*np.cos(np.pi/4)\n",
    "y = rho*np.sin(np.pi/4)\n",
    "vert_plane = pv.StructuredGrid(x, y, z)\n",
    "\n",
    "# Horizontal plane\n",
    "rho, phi = np.mgrid[0:3:31j, 0:2*np.pi:31j]\n",
    "x = rho*np.cos(phi)\n",
    "y = rho*np.sin(phi)\n",
    "z = np.ones_like(x)\n",
    "hor_plane = pv.StructuredGrid(x, y, z)\n",
    "\n",
    "# view(geometries=[cylinder, vert_plane, hor_plane],\n",
    "#      geometry_colors=[blue, red, green])\n",
    "\n",
    "# scene = Scene([cylinder, vert_plane, hor_plane])\n",
    "\n",
    "# cylinder.to_surface()\n",
    "\n",
    "# cylinder.plot()\n",
    "\n",
    "plotter = pv.Plotter(notebook=False) # Use just like you would a pv.Plotter() instance\n",
    "plotter.add_mesh(cylinder, color=blue)\n",
    "plotter.add_mesh(vert_plane, color=red)\n",
    "plotter.add_mesh(hor_plane, color=green)\n",
    "\n",
    "\n",
    "plotter.show()"
   ]
  },
  {
   "cell_type": "code",
   "execution_count": 33,
   "id": "63571ca7-b00d-400e-8ed9-a1656558740f",
   "metadata": {},
   "outputs": [],
   "source": [
    "cyl_geo = pv.Cylinder()\n",
    "# Compute the normals in-place and use them to warp the globe\n",
    "normals = cyl_geo.compute_normals(inplace=True)  # this activates the normals as well\n",
    "\n",
    "centers = cyl_geo.cell_centers()\n",
    "# Now use those normals to warp the surface\n",
    "# warp = mesh.warp_by_scalar(factor=0.5e-5)\n",
    "\n",
    "\n",
    "p = pv.Plotter(notebook=True) # Use just like you would a pv.Plotter() instance\n",
    "p = pvqt.BackgroundPlotter()\n",
    "p.add_mesh(cyl_geo, color=\"tan\", show_edges=True, render_points_as_spheres=True)\n",
    "p.add_mesh(centers, color=\"red\", point_size=8.0, render_points_as_spheres=True)\n",
    "p.add_mesh(cyl_geo.points, color=\"green\", point_size=5.0, render_points_as_spheres=True)\n",
    "# p.show(jupyter_backend='panel')\n",
    "# p.show(jupyter_backend='pythreejs')\n",
    "# p.show(jupyter_backend=None)\n",
    "p.show()"
   ]
  },
  {
   "cell_type": "code",
   "execution_count": null,
   "id": "9b832d59-d3e5-4aa8-ad69-ee3ca1b3a391",
   "metadata": {},
   "outputs": [],
   "source": []
  }
 ],
 "metadata": {
  "kernelspec": {
   "display_name": "Python 3 (ipykernel)",
   "language": "python",
   "name": "python3"
  },
  "language_info": {
   "codemirror_mode": {
    "name": "ipython",
    "version": 3
   },
   "file_extension": ".py",
   "mimetype": "text/x-python",
   "name": "python",
   "nbconvert_exporter": "python",
   "pygments_lexer": "ipython3",
   "version": "3.8.12"
  }
 },
 "nbformat": 4,
 "nbformat_minor": 5
}
