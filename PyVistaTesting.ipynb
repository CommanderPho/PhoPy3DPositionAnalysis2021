{
 "cells": [
  {
   "cell_type": "code",
   "execution_count": 1,
   "id": "1d70a2ce",
   "metadata": {},
   "outputs": [],
   "source": [
    "#!/usr/bin/env python3\n",
    "# -*- coding: utf-8 -*-\n",
    "\"\"\"\n",
    "@author: pho\n",
    "\"\"\"\n",
    "import sys\n",
    "from threading import Thread\n",
    "from ipygany import PolyMesh, Scene, IsoColor, WarpByScalar\n",
    "import pyvista as pv\n",
    "import pyvistaqt as pvqt # conda install -c conda-forge pyvistaqt\n",
    "import numpy as np\n",
    "import h5py\n",
    "import hdf5storage # conda install hdf5storage\n",
    "from pathlib import Path"
   ]
  },
  {
   "cell_type": "code",
   "execution_count": 7,
   "id": "92034790",
   "metadata": {},
   "outputs": [],
   "source": [
    "# https://qtdocs.pyvista.org\n",
    "sphere = pv.Sphere()\n",
    "\n",
    "plotter = pvqt.BackgroundPlotter() # Use just like you would a pv.Plotter() instance\n",
    "plotter.add_mesh(sphere)\n",
    "\n",
    "plotter.show()"
   ]
  },
  {
   "cell_type": "code",
   "execution_count": 13,
   "id": "d0b10e82",
   "metadata": {},
   "outputs": [
    {
     "data": {
      "application/vnd.jupyter.widget-view+json": {
       "model_id": "1d50f6b2b16f4ad1ba31de273f9a3f79",
       "version_major": 2,
       "version_minor": 0
      },
      "text/plain": [
       "ViewInteractiveWidget(height=768, layout=Layout(height='auto', width='100%'), width=1024)"
      ]
     },
     "metadata": {},
     "output_type": "display_data"
    }
   ],
   "source": [
    "## Make a spline from points:\n",
    "# Make the xyz points\n",
    "theta = np.linspace(-10 * np.pi, 10 * np.pi, 100)\n",
    "z = np.linspace(-2, 2, 100)\n",
    "r = z**2 + 1\n",
    "x = r * np.sin(theta)\n",
    "y = r * np.cos(theta)\n",
    "points = np.column_stack((x, y, z))\n",
    "\n",
    "spline = pv.Spline(points, 500).tube(radius=0.1)\n",
    "spline.plot(scalars='arc_length', show_scalar_bar=False)"
   ]
  },
  {
   "cell_type": "code",
   "execution_count": 8,
   "id": "3b00eced",
   "metadata": {},
   "outputs": [],
   "source": [
    "# can now operate on the sphere and have it updated in the background\n",
    "sphere.points *= 0.5"
   ]
  },
  {
   "cell_type": "code",
   "execution_count": 9,
   "id": "1afeafa4",
   "metadata": {},
   "outputs": [
    {
     "data": {
      "text/plain": [
       "(vtkmodules.vtkRenderingOpenGL2.vtkOpenGLActor)000001D817A0A948"
      ]
     },
     "execution_count": 9,
     "metadata": {},
     "output_type": "execute_result"
    }
   ],
   "source": [
    "mp = pvqt.MultiPlotter(nrows=2, ncols=2)\n",
    "mp[0, 0].add_mesh(pv.Sphere())\n",
    "mp[0, 1].add_mesh(pv.Cylinder())\n",
    "mp[1, 0].add_mesh(pv.Cube())\n",
    "mp[1, 1].add_mesh(pv.Cone())\n",
    "\n"
   ]
  },
  {
   "cell_type": "code",
   "execution_count": 2,
   "id": "df4a3a52",
   "metadata": {},
   "outputs": [],
   "source": [
    "## Slider with Callback Function Example:\n",
    "\n",
    "p = pvqt.BackgroundPlotter() # Use just like you would a pv.Plotter() instance\n",
    "\n",
    "def on_slider_update_mesh(value):\n",
    "    res = int(value)\n",
    "    sphere = pv.Sphere(phi_resolution=res, theta_resolution=res)\n",
    "    p.add_mesh(sphere, name='sphere', show_edges=True)\n",
    "    return\n",
    "\n",
    "p.add_slider_widget(on_slider_update_mesh, [5, 100], title='Resolution')\n",
    "p.show()"
   ]
  }
 ],
 "metadata": {
  "kernelspec": {
   "display_name": "Python 3",
   "language": "python",
   "name": "python3"
  },
  "language_info": {
   "codemirror_mode": {
    "name": "ipython",
    "version": 3
   },
   "file_extension": ".py",
   "mimetype": "text/x-python",
   "name": "python",
   "nbconvert_exporter": "python",
   "pygments_lexer": "ipython3",
   "version": "3.6.13"
  }
 },
 "nbformat": 4,
 "nbformat_minor": 5
}
