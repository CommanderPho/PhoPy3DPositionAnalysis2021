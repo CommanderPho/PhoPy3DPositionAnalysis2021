{
 "cells": [
  {
   "cell_type": "markdown",
   "id": "7dd392e0-1cc6-407a-8c0c-18f66153a51b",
   "metadata": {},
   "source": [
    "# Imports"
   ]
  },
  {
   "cell_type": "code",
   "execution_count": null,
   "id": "e8063c28-10a2-4e3d-a524-a09b38b4db06",
   "metadata": {},
   "outputs": [],
   "source": [
    "%pdb off\n",
    "%load_ext autoreload\n",
    "%autoreload 2\n",
    "import sys\n",
    "import importlib\n",
    "from pathlib import Path\n",
    "\n",
    "import numpy as np\n",
    "\n",
    "# required to enable non-blocking interaction:\n",
    "# %gui qt\n",
    "# !env QT_API=\"pyqt5\"\n",
    "%gui qt5\n",
    "# %gui qt6\n",
    "# from PyQt5.Qt import QApplication\n",
    "# # start qt event loop\n",
    "# _instance = QApplication.instance()\n",
    "# if not _instance:\n",
    "#     _instance = QApplication([])\n",
    "# app = _instance\n",
    "\n",
    "from copy import deepcopy\n",
    "from numba import jit\n",
    "import numpy as np\n",
    "import pandas as pd\n",
    "from benedict import benedict # https://github.com/fabiocaccamo/python-benedict#usage\n",
    "\n",
    "# Pho's Formatting Preferences\n",
    "# from pyphocorehelpers.preferences_helpers import set_pho_preferences, set_pho_preferences_concise, set_pho_preferences_verbose\n",
    "# set_pho_preferences_concise()\n",
    "\n",
    "## Pho's Custom Libraries:\n",
    "\n",
    "# pyPhoPlaceCellAnalysis:\n",
    "from pyphoplacecellanalysis.General.Pipeline.NeuropyPipeline import NeuropyPipeline # get_neuron_identities\n",
    "\n",
    "# NeuroPy (Diba Lab Python Repo) Loading\n",
    "# from neuropy import core\n",
    "from neuropy.analyses.placefields import PlacefieldComputationParameters\n",
    "from neuropy.core.epoch import NamedTimerange\n",
    "from neuropy.core.session.Formats.BaseDataSessionFormats import DataSessionFormatRegistryHolder\n",
    "from neuropy.core.session.Formats.Specific.BapunDataSessionFormat import BapunDataSessionFormatRegisteredClass\n",
    "from neuropy.core.session.Formats.Specific.KDibaOldDataSessionFormat import KDibaOldDataSessionFormatRegisteredClass\n",
    "from neuropy.core.session.Formats.Specific.RachelDataSessionFormat import RachelDataSessionFormat\n",
    "from neuropy.core.session.Formats.Specific.HiroDataSessionFormat import HiroDataSessionFormatRegisteredClass\n",
    "\n",
    "## For computation parameters:\n",
    "from neuropy.analyses.placefields import PlacefieldComputationParameters\n",
    "from neuropy.utils.dynamic_container import DynamicContainer\n",
    "from neuropy.utils.result_context import IdentifyingContext\n",
    "\n",
    "from PendingNotebookCode import _perform_batch_plot, _build_batch_plot_kwargs, find_local_session_paths, batch_load_session, batch_programmatic_figures, SessionBatchProgress\n",
    "\n",
    "# def build_eloy_computation_configs(sess, **kwargs):\n",
    "#     \"\"\" OPTIONALLY can be overriden by implementors to provide specific filter functions \"\"\"\n",
    "#     # (4.0, 4.0)cm bins, (6.0, 6.0)cm gaussian smoothing\n",
    "#     # peak frate > 2Hz \n",
    "#     # return [DynamicContainer(pf_params=PlacefieldComputationParameters(speed_thresh=10.0, grid_bin=(4.0, 4.0), smooth=(6.0, 6.0), frate_thresh=0.2, time_bin_size=1.0, computation_epochs = None), spike_analysis=None)]\n",
    "#     # return [DynamicContainer(pf_params=PlacefieldComputationParameters(speed_thresh=10.0, grid_bin=(4.0, 4.0), smooth=(2.5, 2.5), frate_thresh=0.2, time_bin_size=1.0, computation_epochs = None), spike_analysis=None)]\n",
    "#     # return [DynamicContainer(pf_params=PlacefieldComputationParameters(speed_thresh=10.0, grid_bin=(4.0, 4.0), smooth=(0.2, 0.2), frate_thresh=0.2, time_bin_size=1.0, computation_epochs = None), spike_analysis=None)]\n",
    "#     return [DynamicContainer(pf_params=PlacefieldComputationParameters(speed_thresh=10.0, grid_bin=(4.0, 4.0), smooth=(0.2, 0.2), frate_thresh=0.2, time_bin_size=0.025, computation_epochs = None), spike_analysis=None)]\n",
    "\n",
    "\n",
    "session_batch_status = {}\n",
    "enable_saving_to_disk = False\n",
    "\n",
    "global_data_root_parent_path = Path(r'W:\\Data') # Windows Apogee\n",
    "# global_data_root_parent_path = Path(r'/media/MAX/Data') # Diba Lab Workstation Linux\n",
    "# global_data_root_parent_path = Path(r'/Volumes/MoverNew/data') # rMBP\n",
    "assert global_data_root_parent_path.exists(), f\"global_data_root_parent_path: {global_data_root_parent_path} does not exist! Is the right computer's config commented out above?\""
   ]
  },
  {
   "cell_type": "markdown",
   "id": "60fde1ef-b6bc-4500-866e-00a69be7f8de",
   "metadata": {},
   "source": [
    "# Load Pipeline"
   ]
  },
  {
   "cell_type": "code",
   "execution_count": null,
   "id": "d9983bae-c681-4fed-a552-e59630485b0f",
   "metadata": {},
   "outputs": [],
   "source": [
    "# ==================================================================================================================== #\n",
    "# Load Data                                                                                                            #\n",
    "# ==================================================================================================================== #\n",
    "\n",
    "# %%viztracer\n",
    "active_data_mode_name = 'kdiba'\n",
    "\n",
    "## Data must be pre-processed using the MATLAB script located here: \n",
    "#     neuropy/data_session_pre_processing_scripts/KDIBA/IIDataMat_Export_ToPython_2022_08_01.m\n",
    "# From pre-computed .mat files:\n",
    "\n",
    "local_session_root_parent_context = IdentifyingContext(format_name=active_data_mode_name) # , animal_name='', configuration_name='one', session_name=self.session_name\n",
    "local_session_root_parent_path = global_data_root_parent_path.joinpath('KDIBA')\n",
    "\n",
    "## Animal `gor01`:\n",
    "local_session_parent_context = local_session_root_parent_context.adding_context(collision_prefix='animal', animal='gor01', exper_name='one') # IdentifyingContext<('kdiba', 'gor01', 'one')>\n",
    "local_session_parent_path = local_session_root_parent_path.joinpath(local_session_parent_context.animal, local_session_parent_context.exper_name) # 'gor01', 'one'\n",
    "local_session_paths_list, local_session_names_list =  find_local_session_paths(local_session_parent_path, blacklist=['PhoHelpers', 'Spike3D-Minimal-Test', 'Unused'])\n",
    "\n",
    "# local_session_parent_context = local_session_root_parent_context.adding_context(collision_prefix='animal', animal='gor01', exper_name='two')\n",
    "# local_session_parent_path = local_session_root_parent_path.joinpath(local_session_parent_context.animal, local_session_parent_context.exper_name)\n",
    "# local_session_paths_list, local_session_names_list =  find_local_session_paths(local_session_parent_path, blacklist=[])\n",
    "\n",
    "### Animal `vvp01`:\n",
    "# local_session_parent_context = local_session_root_parent_context.adding_context(collision_prefix='animal', animal='vvp01', exper_name='one')\n",
    "# local_session_parent_path = local_session_root_parent_path.joinpath(local_session_parent_context.animal, local_session_parent_context.exper_name)\n",
    "# local_session_paths_list, local_session_names_list =  find_local_session_paths(local_session_parent_path, blacklist=[])\n",
    "\n",
    "# local_session_parent_context = local_session_root_parent_context.adding_context(collision_prefix='animal', animal='vvp01', exper_name='two')\n",
    "# local_session_parent_path = local_session_root_parent_path.joinpath(local_session_parent_context.animal, local_session_parent_context.exper_name)\n",
    "# local_session_paths_list, local_session_names_list =  find_local_session_paths(local_session_parent_path, blacklist=[])\n",
    "\n",
    "## Build session contexts list:\n",
    "local_session_contexts_list = [local_session_parent_context.adding_context(collision_prefix='sess', session_name=a_name) for a_name in local_session_names_list] # [IdentifyingContext<('kdiba', 'gor01', 'one', '2006-6-07_11-26-53')>, ..., IdentifyingContext<('kdiba', 'gor01', 'one', '2006-6-13_14-42-6')>]\n",
    "\n",
    "## Initialize `session_batch_status` with the NOT_STARTED status if it doesn't already have a different status\n",
    "for curr_session_basedir in local_session_paths_list:\n",
    "    curr_session_status = session_batch_status.get(curr_session_basedir, None)\n",
    "    if curr_session_status is None:\n",
    "        session_batch_status[curr_session_basedir] = SessionBatchProgress.NOT_STARTED # set to not started if not present\n",
    "        # session_batch_status[curr_session_basedir] = SessionBatchProgress.COMPLETED # set to not started if not present\n",
    "        \n",
    "\n",
    "session_batch_status"
   ]
  },
  {
   "cell_type": "code",
   "execution_count": null,
   "id": "dd04382a-07bb-4270-a3c5-7ca0c0a71518",
   "metadata": {
    "scrolled": true,
    "tags": []
   },
   "outputs": [],
   "source": [
    "## Run batch queue\n",
    "for curr_sess_ctx, curr_session_basedir, curr_session_name in zip(local_session_contexts_list, local_session_paths_list, local_session_names_list):\n",
    "    print(f'curr_session_basedir: {str(curr_session_basedir)}')\n",
    "    curr_session_status = session_batch_status.get(curr_session_basedir, None)\n",
    "    if curr_session_status.name != SessionBatchProgress.COMPLETED.name:\n",
    "        session_batch_status[curr_session_basedir] = SessionBatchProgress.NOT_STARTED\n",
    "        try:\n",
    "            session_batch_status[curr_session_basedir] = SessionBatchProgress.RUNNING\n",
    "            curr_active_pipeline = batch_load_session(global_data_root_parent_path, active_data_mode_name, curr_session_basedir, force_reload=False)\n",
    "            active_identifying_session_ctx, active_session_figures_out_path, active_out_figures_list = batch_programmatic_figures(curr_active_pipeline)\n",
    "            session_batch_status[curr_session_basedir] = SessionBatchProgress.COMPLETED\n",
    "            print(f'completed processing for {curr_session_basedir}: {active_identifying_session_ctx}')\n",
    "        except Exception as e:\n",
    "            print(f'ERROR processing {curr_session_basedir} with error {e}')\n",
    "            session_batch_status[curr_session_basedir] = SessionBatchProgress.ABORTED\n",
    "            # raise e\n",
    "    else:\n",
    "        print(f'\\t already completed')\n",
    "\n",
    "print(f'session_batch_status: {session_batch_status}')\n",
    "print('!!! done running batch !!!')"
   ]
  },
  {
   "cell_type": "markdown",
   "id": "e1ab8feb-f917-4ac4-be40-20083a25f005",
   "metadata": {
    "tags": []
   },
   "source": [
    "# 🟢 Single basedir (non-batch) testing:"
   ]
  },
  {
   "cell_type": "code",
   "execution_count": null,
   "id": "cba147e2-ff54-49c8-8229-8fe69391fad7",
   "metadata": {
    "tags": []
   },
   "outputs": [],
   "source": [
    "%pdb on\n",
    "basedir = local_session_paths_list[1] # NOT 3\n",
    "print(f'basedir: {str(basedir)}')\n",
    "\n",
    "# ==================================================================================================================== #\n",
    "# Load Pipeline                                                                                                        #\n",
    "# ==================================================================================================================== #\n",
    "curr_active_pipeline = batch_load_session(global_data_root_parent_path, active_data_mode_name, basedir, skip_save=False, force_reload=True)\n",
    "## SAVE AFTERWARDS!\n",
    "# curr_active_pipeline = batch_load_session(global_data_root_parent_path, active_data_mode_name, basedir, skip_save=False, force_reload=False, active_pickle_filename='loadedSessPickle - full-good.pkl')"
   ]
  },
  {
   "cell_type": "code",
   "execution_count": null,
   "id": "36607a38-4575-4098-ae52-a8794a269f02",
   "metadata": {},
   "outputs": [],
   "source": [
    "active_identifying_session_ctx, curr_session_figures_out_path, active_out_figures_list = batch_programmatic_figures(curr_active_pipeline)"
   ]
  },
  {
   "cell_type": "code",
   "execution_count": null,
   "id": "5ab6cd4b-fa64-4093-bb5a-8edbd586fc8f",
   "metadata": {},
   "outputs": [],
   "source": [
    "from pyphoplacecellanalysis.General.Pipeline.NeuropyPipeline import NeuropyPipeline # for batch_load_session\n",
    "\n",
    "global_unfiltered_session = curr_active_pipeline.sess\n",
    "# ((22.736279243974774, 261.696733348342), (49.989466271998936, 151.2870218547401))\n",
    "first_filtered_session = curr_active_pipeline.filtered_sessions[curr_active_pipeline.filtered_session_names[0]]\n",
    "# ((22.736279243974774, 261.696733348342), (125.5644705153173, 151.21507349463707))\n",
    "second_filtered_session = curr_active_pipeline.filtered_sessions[curr_active_pipeline.filtered_session_names[1]]\n",
    "# ((71.67666779621361, 224.37820920766043), (110.51617463644946, 151.2870218547401))\n",
    "\n",
    "\n",
    "## Compute shared grid_bin_bounds for all epochs from the global positions:\n",
    "grid_bin_bounding_session = global_unfiltered_session\n",
    "# grid_bin_bounds = PlacefieldComputationParameters.compute_grid_bin_bounds(curr_active_pipeline.sess.position.x, curr_active_pipeline.sess.position.y)\n",
    "grid_bin_bounds = PlacefieldComputationParameters.compute_grid_bin_bounds(grid_bin_bounding_session.position.x, grid_bin_bounding_session.position.y)\n",
    "grid_bin_bounds"
   ]
  },
  {
   "cell_type": "code",
   "execution_count": null,
   "id": "71d1d358-8a99-4f1d-99f5-dc016a99befe",
   "metadata": {},
   "outputs": [],
   "source": []
  },
  {
   "cell_type": "markdown",
   "id": "9ec4e913-d02a-40bd-9a9d-d109af03c087",
   "metadata": {
    "tags": []
   },
   "source": [
    "## 🗨️ 2022-10-26 - Jonathan Firing Rate Analyses"
   ]
  },
  {
   "cell_type": "code",
   "execution_count": null,
   "id": "de6212a2-d9b0-4b56-8c41-1de0bc01d613",
   "metadata": {},
   "outputs": [],
   "source": [
    "# ==================================================================================================================== #\n",
    "# Perform missing global computations                                                                                  #\n",
    "# ==================================================================================================================== #\n",
    "curr_active_pipeline.perform_specific_computation(computation_functions_name_whitelist=['_perform_jonathan_replay_firing_rate_analyses'], fail_on_exception=True, debug_print=True) # , '_perform_short_long_pf_overlap_analyses'\n",
    "\n",
    "## Get global 'jonathan_firing_rate_analysis' results:\n",
    "curr_jonathan_firing_rate_analysis = curr_active_pipeline.global_computation_results.computed_data['jonathan_firing_rate_analysis']\n",
    "neuron_replay_stats_df, rdf, aclu_to_idx, irdf = curr_jonathan_firing_rate_analysis['neuron_replay_stats_df'], curr_jonathan_firing_rate_analysis['rdf']['rdf'], curr_jonathan_firing_rate_analysis['rdf']['aclu_to_idx'], curr_jonathan_firing_rate_analysis['irdf']['irdf']\n",
    "\n",
    "from pyphoplacecellanalysis.General.Mixins.CrossComputationComparisonHelpers import SplitPartitionMembership\n",
    "short_only_df = neuron_replay_stats_df[neuron_replay_stats_df.track_membership == SplitPartitionMembership.RIGHT_ONLY]\n",
    "short_only_aclus = short_only_df.index.values.tolist()\n",
    "long_only_df = neuron_replay_stats_df[neuron_replay_stats_df.track_membership == SplitPartitionMembership.LEFT_ONLY]\n",
    "long_only_aclus = long_only_df.index.values.tolist()\n",
    "shared_df = neuron_replay_stats_df[neuron_replay_stats_df.track_membership == SplitPartitionMembership.SHARED]\n",
    "shared_aclus = shared_df.index.values.tolist()\n",
    "print(f'shared_aclus: {shared_aclus}')\n",
    "print(f'long_only_aclus: {long_only_aclus}')\n",
    "print(f'short_only_aclus: {short_only_aclus}')\n",
    "\n",
    "active_identifying_session_ctx = curr_active_pipeline.sess.get_context() # 'bapun_RatN_Day4_2019-10-15_11-30-06'"
   ]
  },
  {
   "cell_type": "markdown",
   "id": "100b3e55-3243-4346-aa00-9b6fd705e7ff",
   "metadata": {},
   "source": [
    "## 2022-12-09 - Pho Surprise/KL-Divergence Metrics"
   ]
  },
  {
   "cell_type": "code",
   "execution_count": null,
   "id": "4520c524-3b82-47fa-811c-77a2d48b68ac",
   "metadata": {},
   "outputs": [],
   "source": [
    "%pdb off"
   ]
  },
  {
   "cell_type": "code",
   "execution_count": null,
   "id": "163c0069-0248-47cf-9234-399c061fb2ab",
   "metadata": {},
   "outputs": [],
   "source": [
    "include_whitelist = curr_active_pipeline.active_completed_computation_result_names # ['maze', 'sprinkle']\n",
    "long_epoch_name = include_whitelist[0] # 'maze1_PYR'\n",
    "short_epoch_name = include_whitelist[1] # 'maze2_PYR'\n",
    "if len(include_whitelist) > 2:\n",
    "    global_epoch_name = include_whitelist[-1] # 'maze_PYR'\n",
    "else:\n",
    "    print(f'WARNING: no global_epoch detected.')\n",
    "    global_epoch_name = '' # None\n",
    "long_results = curr_active_pipeline.computation_results[long_epoch_name]['computed_data']\n",
    "short_results = curr_active_pipeline.computation_results[short_epoch_name]['computed_data']\n",
    "global_results = curr_active_pipeline.computation_results[global_epoch_name]['computed_data']\n",
    "\n",
    "long_pf1D = long_results.pf1D\n",
    "short_pf1D = short_results.pf1D\n",
    "global_pf1D = global_results.pf1D\n",
    "\n",
    "## Get the normalized_tuning_curves only for the shared aclus (that are common across (long/short/global):\n",
    "long_is_included = np.isin(long_pf1D.ratemap.neuron_ids, shared_aclus)  #.shape # (104, 63)\n",
    "long_incl_aclus = np.array(long_pf1D.ratemap.neuron_ids)[long_is_included] #.shape # (98,)\n",
    "long_incl_curves = long_pf1D.ratemap.normalized_tuning_curves[long_is_included]  #.shape # (98, 63)\n",
    "assert long_incl_aclus.shape[0] == long_incl_curves.shape[0] # (98,) == (98, 63)\n",
    "\n",
    "short_is_included = np.isin(short_pf1D.ratemap.neuron_ids, shared_aclus)\n",
    "short_incl_aclus = np.array(short_pf1D.ratemap.neuron_ids)[short_is_included] #.shape (98,)\n",
    "short_incl_curves = short_pf1D.ratemap.normalized_tuning_curves[short_is_included]  #.shape # (98, 40)\n",
    "assert short_incl_aclus.shape[0] == short_incl_curves.shape[0] # (98,) == (98, 63)\n",
    "# assert short_incl_curves.shape[1] == long_incl_curves.shape[1] # short and long should have the same bins\n",
    "\n",
    "global_is_included = np.isin(global_pf1D.ratemap.neuron_ids, shared_aclus)\n",
    "global_incl_aclus = np.array(global_pf1D.ratemap.neuron_ids)[global_is_included] #.shape (98,)\n",
    "global_incl_curves = global_pf1D.ratemap.normalized_tuning_curves[global_is_included]  #.shape # (98, 63)\n",
    "assert global_incl_aclus.shape[0] == global_incl_curves.shape[0] # (98,) == (98, 63)\n",
    "assert global_incl_curves.shape[1] == long_incl_curves.shape[1] # global and long should have the same bins\n",
    "\n",
    "assert np.alltrue(np.isin(long_incl_aclus, short_incl_aclus))\n",
    "assert np.alltrue(np.isin(long_incl_aclus, global_incl_aclus))"
   ]
  },
  {
   "cell_type": "code",
   "execution_count": null,
   "id": "07d0fd4f-060a-4dbc-bf3b-d37ab376800f",
   "metadata": {},
   "outputs": [],
   "source": [
    "short_pf1D.ratemap.never_visited_occupancy_mask"
   ]
  },
  {
   "cell_type": "code",
   "execution_count": null,
   "id": "52f14a19-5e61-4b75-8f44-428a95cff0e7",
   "metadata": {},
   "outputs": [],
   "source": [
    "short_pf1D.nan_never_visited_occupancy"
   ]
  },
  {
   "cell_type": "code",
   "execution_count": null,
   "id": "f3a26839-a44d-4332-b673-c98f21a2f993",
   "metadata": {},
   "outputs": [],
   "source": [
    "short_pf1D.xbin"
   ]
  },
  {
   "cell_type": "code",
   "execution_count": null,
   "id": "e11fe6ac-c585-4816-817f-5034ca2cd21e",
   "metadata": {},
   "outputs": [],
   "source": [
    "long_pf1D.xbin"
   ]
  },
  {
   "cell_type": "code",
   "execution_count": null,
   "id": "3d8d7db4-85c4-4d21-b28a-26bbba7c53c8",
   "metadata": {},
   "outputs": [],
   "source": [
    "short_pf1D.bin_info # {'mode': 'bin_size', 'xstep': 3.793023081021702, 'xnum_bins': 41}"
   ]
  },
  {
   "cell_type": "code",
   "execution_count": null,
   "id": "19763c91-6e4a-404b-a483-42cd735b6aac",
   "metadata": {},
   "outputs": [],
   "source": [
    "short_pf1D.config"
   ]
  },
  {
   "cell_type": "code",
   "execution_count": null,
   "id": "100fc13d-05a7-412a-a993-72c60e10e40f",
   "metadata": {},
   "outputs": [],
   "source": [
    "long_pf1D.bin_info"
   ]
  },
  {
   "cell_type": "code",
   "execution_count": null,
   "id": "3ef9f6c1-71e4-4445-8805-75b70b28516f",
   "metadata": {},
   "outputs": [],
   "source": [
    "long_pf1D.config"
   ]
  },
  {
   "cell_type": "code",
   "execution_count": null,
   "id": "5bddad26-d6dc-4ec1-9310-43d2351b43ae",
   "metadata": {},
   "outputs": [],
   "source": [
    "bak_short_pf1D = deepcopy(short_pf1D)"
   ]
  },
  {
   "cell_type": "code",
   "execution_count": null,
   "id": "d8135bab-8474-42cc-a2e8-4f08ca456037",
   "metadata": {},
   "outputs": [],
   "source": [
    "from neuropy.analyses.placefields import PfND\n",
    "\n",
    "## Allow overriding PfND's bins:\n",
    "# TODO: 2022-12-09 - We want to be able to have both long/short track placefields have the same bins. \n",
    "xbin, ybin, bin_info, grid_bin = long_pf1D.xbin, long_pf1D.ybin, long_pf1D.bin_info, long_pf1D.config.grid_bin\n",
    "## Apply to the short dataframe:\n",
    "short_pf1D.xbin, short_pf1D.ybin, short_pf1D.bin_info, short_pf1D.config.grid_bin = xbin, ybin, bin_info, grid_bin\n",
    "## Updates (replacing) the 'binned_x' (and if 2D 'binned_y') columns to the position dataframe:\n",
    "short_pf1D._filtered_pos_df, _, _, _ = PfND.build_position_df_discretized_binned_positions(short_pf1D._filtered_pos_df, short_pf1D.config, xbin_values=short_pf1D.xbin, ybin_values=short_pf1D.ybin, debug_print=False) # Finishes setup\n",
    "short_pf1D.compute() # does compute"
   ]
  },
  {
   "cell_type": "code",
   "execution_count": null,
   "id": "c92754a2-8390-4d47-bd04-bc6bcdc61aea",
   "metadata": {},
   "outputs": [],
   "source": [
    "short_pf1D.bin_info"
   ]
  },
  {
   "cell_type": "code",
   "execution_count": null,
   "id": "b00c7059-4ca0-4ea4-8ec9-c4347194e139",
   "metadata": {},
   "outputs": [],
   "source": [
    "short_pf1D.xbin.shape"
   ]
  },
  {
   "cell_type": "code",
   "execution_count": null,
   "id": "ddd7a575-1f5a-408d-89ac-aa33f32a0058",
   "metadata": {},
   "outputs": [],
   "source": [
    "short_pf1D.config"
   ]
  },
  {
   "cell_type": "code",
   "execution_count": null,
   "id": "b09d357f-2878-4e87-a2a7-c94dccd4df17",
   "metadata": {},
   "outputs": [],
   "source": [
    "np.nanmin(x)"
   ]
  },
  {
   "cell_type": "code",
   "execution_count": null,
   "id": "53f8481c-f4cc-4682-8348-6cff71e8ae2b",
   "metadata": {},
   "outputs": [],
   "source": [
    "long_incl_curves"
   ]
  },
  {
   "cell_type": "code",
   "execution_count": null,
   "id": "da99033c-8875-4e4c-b7c1-748cf27ec27a",
   "metadata": {},
   "outputs": [],
   "source": [
    "short_incl_curves"
   ]
  },
  {
   "cell_type": "code",
   "execution_count": null,
   "id": "7761edc8-b4d9-49b8-b30f-08928c8ca7d3",
   "metadata": {},
   "outputs": [],
   "source": [
    "## Compute the relative entropy (KL-Divergence) between each pair of tuning curves between {long, global} (in both directions)\n",
    "from scipy import stats\n",
    "from scipy.special import rel_entr # alternative\n",
    "\n",
    "n_shared = global_incl_aclus.shape[0]\n",
    "# long_short_relative_entropy = np.zeros((n_shared,))\n",
    "long_global_relative_entropy = np.zeros((n_shared,))\n",
    "global_long_relative_entropy = np.zeros((n_shared,))\n",
    "\n",
    "for i, (P, Q) in enumerate(zip(long_incl_curves, global_incl_curves)):\n",
    "    # ValueError: operands could not be broadcast together with shapes (63,) (40,) -- This is occuring because the bins are different on the long vs. short track :[\n",
    "    # long_short_relative_entropy[i] = sum(rel_entr(P, Q))\n",
    "    long_global_relative_entropy[i] = sum(rel_entr(P, Q)) \n",
    "    global_long_relative_entropy[i] = sum(rel_entr(Q, P)) \n",
    "    \n",
    "    \n",
    "# kld = stats.entropy(distributions.T[:,:,None], distributions.T[:,None,:]) # alternative\n",
    "\n",
    "relative_entropy_metrics = pd.DataFrame({'aclu':global_incl_aclus, 'long_global_rel_entropy': long_global_relative_entropy, 'global_long_rel_entropy':global_long_relative_entropy}).set_index('aclu')\n",
    "relative_entropy_metrics\n",
    "\n"
   ]
  },
  {
   "cell_type": "markdown",
   "id": "24407397-0394-4e6a-ad9a-a1099d9b2bd9",
   "metadata": {
    "tags": []
   },
   "source": [
    "## 🗨️ 2022-11-05 - Pho-Jonathan Batch Outputs of Firing Rate Figures\n",
    "====================================================================================================================\n",
    "Batch Output of Figures                                                                                             \n",
    "===================================================================================================================="
   ]
  },
  {
   "cell_type": "code",
   "execution_count": null,
   "id": "8a658120-33ca-49c1-a8ce-bc240c0e11a6",
   "metadata": {},
   "outputs": [],
   "source": [
    "# %matplotlib qt\n",
    "\n",
    "# ==================================================================================================================== #\n",
    "# Output Figures to File                                                                                               #\n",
    "# ==================================================================================================================== #\n",
    "## PDF Output\n",
    "# %matplotlib qtagg\n",
    "import matplotlib\n",
    "# configure backend here\n",
    "# matplotlib.use('Qt5Agg')\n",
    "# backend_qt5agg\n",
    "matplotlib.use('AGG') # non-interactive backend ## 2022-08-16 - Surprisingly this works to make the matplotlib figures render only to .png file, not appear on the screen!\n",
    "\n",
    "n_max_page_rows = 10\n",
    "_batch_plot_kwargs_list = _build_batch_plot_kwargs(long_only_aclus, short_only_aclus, shared_aclus, active_identifying_session_ctx, n_max_page_rows=n_max_page_rows)\n",
    "active_out_figures_list = _perform_batch_plot(curr_active_pipeline, _batch_plot_kwargs_list, figures_parent_out_path=None, write_pdf=False, write_png=True, progress_print=True, debug_print=False)"
   ]
  },
  {
   "cell_type": "code",
   "execution_count": null,
   "id": "5c5add5b-cf1a-4ca0-bb95-890753bef4e5",
   "metadata": {},
   "outputs": [],
   "source": []
  },
  {
   "cell_type": "code",
   "execution_count": null,
   "id": "b4f2f020-36a7-4b96-afc4-7066e2655e31",
   "metadata": {},
   "outputs": [],
   "source": [
    "active_identifying_session_ctx = curr_active_pipeline.sess.get_context() # 'bapun_RatN_Day4_2019-10-15_11-30-06'\n",
    "\n",
    "## Add the filter to the active context\n",
    "    # active_identifying_filtered_session_ctx = active_identifying_session_ctx.adding_context('filter', filter_name=active_config_name) # 'bapun_RatN_Day4_2019-10-15_11-30-06_maze'\n",
    "active_identifying_filtered_session_ctx = curr_active_pipeline.filtered_contexts[active_config_name] # 'bapun_RatN_Day4_2019-10-15_11-30-06_maze'\n",
    "print(f'active_identifying_filtered_session_ctx: {active_identifying_filtered_session_ctx}')\n",
    "\n",
    "active_identifying_filtered_session_ctx.adding_context('display_fn', display_fn_name='figure_format_config_widget') # IdentifyingContext<('kdiba', '2006-6-07_11-26-53', 'maze1_PYR', 'figure_format_config_widget')>"
   ]
  },
  {
   "cell_type": "code",
   "execution_count": null,
   "id": "828b7338-2021-420e-b25e-51ebf1510408",
   "metadata": {},
   "outputs": [],
   "source": [
    "active_identifying_session_ctx.to_dict() # {'format_name': 'kdiba', 'session_name': '2006-6-07_11-26-53'}"
   ]
  },
  {
   "cell_type": "code",
   "execution_count": null,
   "id": "9cc9eb05-efad-4ecf-82bc-e7f8b2b63adf",
   "metadata": {},
   "outputs": [],
   "source": [
    "IdentifyingContext(format_name=self.format_name, animal_name='', configuration_name='one', session_name=self.session_name)"
   ]
  },
  {
   "cell_type": "markdown",
   "id": "53cd05b7-ade9-420e-8b14-3e71474431f5",
   "metadata": {
    "pycharm": {
     "name": "#%%\n"
    },
    "tags": []
   },
   "source": [
    "## ❌🆖 BROKEN Individual Plotting Outputs:"
   ]
  },
  {
   "cell_type": "markdown",
   "id": "9655181f-dc58-470a-b496-0fc9cd3c0883",
   "metadata": {
    "tags": []
   },
   "source": [
    "### Common Config"
   ]
  },
  {
   "cell_type": "code",
   "execution_count": null,
   "id": "c237c97f-d090-4c87-9263-6fa2ae166b3c",
   "metadata": {
    "tags": []
   },
   "outputs": [],
   "source": [
    "# display matplotlib figures in a qt backed window. Works in Jupyter notebooks\n",
    "from neuropy.utils.matplotlib_helpers import enumTuningMap2DPlotVariables # for getting the variant name from the dict\n",
    "\n",
    "from pyphocorehelpers.plotting.figure_management import PhoActiveFigureManager2D, capture_new_figures_decorator\n",
    "fig_man = PhoActiveFigureManager2D(name=f'fig_man') # Initialize a new figure manager\n",
    "from pyphoplacecellanalysis.GUI.PyQtPlot.Widgets.DockAreaWrapper import DockAreaWrapper\n",
    "\n",
    "\n",
    "## PDF Output, NOTE this is single plot stuff: uses active_config_name\n",
    "from matplotlib.backends import backend_pdf\n",
    "from pyphoplacecellanalysis.General.Mixins.ExportHelpers import create_daily_programmatic_display_function_testing_folder_if_needed, build_pdf_metadata_from_display_context, programmatic_display_to_PDF\n",
    "\n",
    "# # ## OPTIONS/SETTINGS:\n",
    "# # enable_saving_to_disk = True\n",
    "# # # enable_saving_to_disk = False\n",
    "# # # open_folders_in_system_teafile_manager = True\n",
    "# # open_folders_in_system_file_manager = False\n",
    "\n",
    "# ## Old Individual Plotting Function Configs, still used as of 2022-08-10:\n",
    "# # figure_format_config = dict(subplots=(20, 8), max_screen_figure_size=(2256, 2048)) # bad way\n",
    "# # figure_format_config = dict(subplots=(None, 8), max_screen_figure_size=(None, 1868)) # good way\n",
    "# figure_format_config = dict(subplots=(None, 8), max_screen_figure_size=(None, None)) # good way\n",
    "# # figure_format_config = dict(subplots=(20, 8), max_screen_figure_size=(None, 1868))\n",
    "\n",
    "# # figure_format_config = dict(subplots=(6, 6), max_screen_figure_size=(2256, 2048)) # bad way\n",
    "# # RowColTuple(subplots[0], subplots[1])\n",
    "\n",
    "# ## Add explicit column/row widths to fix window sizing issue:\n",
    "# # figure_format_config = (dict(fig_column_width=1.0, fig_row_height=1.0) | figure_format_config)\n",
    "# figure_format_config = (dict(fig_column_width=2.0, fig_row_height=2.0) | figure_format_config)\n",
    "# # figure_format_config = (dict(fig_column_width=5.0, fig_row_height=5.0) | figure_format_config)\n",
    "\n",
    "# ## Add additional default options:\n",
    "# figure_format_config = (dict(enable_spike_overlay=False, debug_print=True, enable_saving_to_disk=enable_saving_to_disk) | figure_format_config)\n",
    "# figure_format_config\n",
    "\n",
    "# NOTE: if you want the outputs to be rendered to the same PDF, you must wrap all the plotting in the backend_pdf context:\n",
    "def wrap_display_function_to_save_pdf(curr_display_function_name='_display_normal', filter_name='maze'):\n",
    "    \"\"\" implicitly captures: active_identifying_filtered_session_ctx, _get_curr_figure_format_config \n",
    "    \n",
    "    Usage:\n",
    "        wrap_display_function_to_save_pdf(curr_display_function_name='_display_normal', filter_name=active_config_name)\n",
    "    \"\"\"\n",
    "    built_pdf_metadata, curr_pdf_save_path = _build_pdf_pages_output_info(curr_display_function_name) # but this is specific to a given display function, right?\n",
    "    active_identifying_display_ctx = active_identifying_filtered_session_ctx.adding_context('display_fn', display_fn_name=curr_display_function_name)\n",
    "    figure_format_config = _get_curr_figure_format_config() # Fetch the context from the GUI\n",
    "    figure_format_config['enable_saving_to_disk'] = False # don't use the in-built figure export/saving to disk functionality as we want to wrap the output figure with the Pdf saving, not write to a .png\n",
    "    with backend_pdf.PdfPages(curr_pdf_save_path, keep_empty=False, metadata=built_pdf_metadata) as pdf:\n",
    "        # set_rasterized,  Axes.set_rasterization_zorder\n",
    "        # fig0, figList1 = curr_active_pipeline.display(curr_display_function_name, filter_name, debug_print=False, enable_saving_to_disk=enable_saving_to_disk)\n",
    "        ## TODO: main display function call done here:\n",
    "        out_figures_list = curr_active_pipeline.display(curr_display_function_name, filter_name, **figure_format_config)\n",
    "        if not isinstance(out_figures_list, (list, tuple)):\n",
    "            # not a list, just a scalar object\n",
    "            plots = [out_figures_list] # make a single-element list\n",
    "        else:\n",
    "            # it is a list\n",
    "            if len(out_figures_list) == 2:\n",
    "                fig0, figList1 = out_figures_list # unpack\n",
    "                plots = [fig0, *figList1]\n",
    "            else:\n",
    "                # otherwise just try and set the plots to the list\n",
    "                plots = out_figures_list\n",
    "                \n",
    "        for i, a_fig in enumerate(plots):\n",
    "            pdf.savefig(a_fig, transparent=True)\n",
    "            pdf.attach_note(f'Page {i + 1}') \n",
    "\n",
    "            "
   ]
  },
  {
   "cell_type": "code",
   "execution_count": null,
   "id": "3ef74be0-2881-4316-bc9a-e7ee30e6cb70",
   "metadata": {
    "tags": []
   },
   "outputs": [],
   "source": [
    "active_identifying_session_ctx = curr_active_pipeline.sess.get_context() # 'bapun_RatN_Day4_2019-10-15_11-30-06'\n",
    "\n",
    "## MATPLOTLIB Imports:\n",
    "import matplotlib\n",
    "# configure backend here\n",
    "matplotlib.use('Qt5Agg')\n",
    "# backend_qt5agg\n",
    "# matplotlib.use('AGG') # non-interactive backend\n",
    "## 2022-08-16 - Surprisingly this works to make the matplotlib figures render only to .png file, not appear on the screen!\n",
    "import matplotlib.pyplot as plt\n",
    "import matplotlib as mpl\n",
    "from neuropy.utils.matplotlib_helpers import enumTuningMap2DPlotVariables # for getting the variant name from the dict\n",
    "_bak_rcParams = mpl.rcParams.copy()\n",
    "mpl.rcParams['toolbar'] = 'None' # disable toolbars\n",
    "\n",
    "def process_session_plots(curr_active_pipeline, active_config_name, debug_print=False):\n",
    "    \"\"\" Unwrap single config \n",
    "    UNUSED AND UNTESTED\n",
    "    \"\"\"\n",
    "    print(f'active_config_name: {active_config_name}')\n",
    "\n",
    "    ## Add the filter to the active context\n",
    "    # active_identifying_filtered_session_ctx = active_identifying_session_ctx.adding_context('filter', filter_name=active_config_name) # 'bapun_RatN_Day4_2019-10-15_11-30-06_maze'\n",
    "    active_identifying_filtered_session_ctx = curr_active_pipeline.filtered_contexts[active_config_name] # 'bapun_RatN_Day4_2019-10-15_11-30-06_maze'\n",
    "\n",
    "    # Get relevant variables:\n",
    "    # curr_active_pipeline is set above, and usable here\n",
    "    sess: DataSession = curr_active_pipeline.filtered_sessions[active_config_name]\n",
    "\n",
    "    active_computation_results = curr_active_pipeline.computation_results[active_config_name]\n",
    "    active_computed_data = curr_active_pipeline.computation_results[active_config_name].computed_data\n",
    "    active_computation_config = curr_active_pipeline.computation_results[active_config_name].computation_config\n",
    "    active_computation_errors = curr_active_pipeline.computation_results[active_config_name].accumulated_errors\n",
    "    print(f'active_computed_data.keys(): {list(active_computed_data.keys())}')\n",
    "    print(f'active_computation_errors: {active_computation_errors}')\n",
    "    active_pf_1D = curr_active_pipeline.computation_results[active_config_name].computed_data['pf1D']\n",
    "    active_pf_2D = curr_active_pipeline.computation_results[active_config_name].computed_data['pf2D']\n",
    "    active_pf_1D_dt = curr_active_pipeline.computation_results[active_config_name].computed_data.get('pf1D_dt', None)\n",
    "    active_pf_2D_dt = curr_active_pipeline.computation_results[active_config_name].computed_data.get('pf2D_dt', None)\n",
    "    active_firing_rate_trends = curr_active_pipeline.computation_results[active_config_name].computed_data.get('firing_rate_trends', None)\n",
    "    active_one_step_decoder = curr_active_pipeline.computation_results[active_config_name].computed_data.get('pf2D_Decoder', None)\n",
    "    active_two_step_decoder = curr_active_pipeline.computation_results[active_config_name].computed_data.get('pf2D_TwoStepDecoder', None)\n",
    "    active_extended_stats = curr_active_pipeline.computation_results[active_config_name].computed_data.get('extended_stats', None)\n",
    "    active_eloy_analysis = curr_active_pipeline.computation_results[active_config_name].computed_data.get('EloyAnalysis', None)\n",
    "    active_simpler_pf_densities_analysis = curr_active_pipeline.computation_results[active_config_name].computed_data.get('SimplerNeuronMeetingThresholdFiringAnalysis', None)\n",
    "    active_ratemap_peaks_analysis = curr_active_pipeline.computation_results[active_config_name].computed_data.get('RatemapPeaksAnalysis', None)\n",
    "    active_peak_prominence_2d_results = curr_active_pipeline.computation_results[active_config_name].computed_data.get('RatemapPeaksAnalysis', {}).get('PeakProminence2D', None)\n",
    "    active_measured_positions = curr_active_pipeline.computation_results[active_config_name].sess.position.to_dataframe()\n",
    "    curr_spikes_df = sess.spikes_df\n",
    "\n",
    "    curr_active_config = curr_active_pipeline.active_configs[active_config_name]\n",
    "    curr_active_display_config = curr_active_config.plotting_config\n",
    "\n",
    "    active_display_output = curr_active_pipeline.display_output[active_identifying_filtered_session_ctx]\n",
    "    print(f'active_display_output: {active_display_output}')\n",
    "\n",
    "    # Create `master_dock_win` - centralized plot output window to collect individual figures/controls in (2022-08-18)\n",
    "    display_output = active_display_output | curr_active_pipeline.display('_display_context_nested_docks', active_identifying_session_ctx, enable_gui=False, debug_print=True) # returns {'master_dock_win': master_dock_win, 'app': app, 'out_items': out_items}\n",
    "    master_dock_win = display_output['master_dock_win']\n",
    "    app = display_output['app']\n",
    "    out_items = display_output['out_items']\n",
    "\n",
    "    def _get_curr_figure_format_config():\n",
    "        \"\"\" Aims to fetch the current figure_format_config and context from the figure_format_config widget:    \n",
    "        Implicitly captures: `out_items`, `active_config_name`, `active_identifying_filtered_session_ctx` \n",
    "        \"\"\"\n",
    "        ## Get the figure_format_config from the figure_format_config widget:\n",
    "        # Fetch the context from the GUI:\n",
    "        _curr_gui_session_ctx, _curr_gui_out_display_items = out_items[active_config_name]\n",
    "        _curr_gui_figure_format_config_widget = _curr_gui_out_display_items[active_identifying_filtered_session_ctx.adding_context('display_fn', display_fn_name='figure_format_config_widget')] # [0] is seemingly not needed to unpack the tuple\n",
    "        if _curr_gui_figure_format_config_widget is not None:\n",
    "            # has GUI for config\n",
    "            figure_format_config = _curr_gui_figure_format_config_widget.figure_format_config\n",
    "        else:\n",
    "            # has non-GUI provider of figure_format_config\n",
    "            figure_format_config = _curr_gui_figure_format_config_widget.figure_format_config\n",
    "\n",
    "        if debug_print:\n",
    "            print(f'recovered gui figure_format_config: {figure_format_config}')\n",
    "\n",
    "        return figure_format_config\n",
    "\n",
    "    figure_format_config = _get_curr_figure_format_config()\n",
    "\n",
    "    ## PDF Output, NOTE this is single plot stuff: uses active_config_name\n",
    "    from matplotlib.backends import backend_pdf\n",
    "    from pyphoplacecellanalysis.General.Mixins.ExportHelpers import build_pdf_export_metadata\n",
    "\n",
    "    filter_name = active_config_name\n",
    "    _build_pdf_pages_output_info, programmatic_display_function_testing_output_parent_path = build_pdf_export_metadata(curr_active_pipeline.sess.get_description(), filter_name=filter_name)\n",
    "    print(f'Figure Output path: {str(programmatic_display_function_testing_output_parent_path)}')\n",
    "    \n",
    "    \n",
    "    ## Test getting figure save paths:\n",
    "    _test_fig_path = curr_active_config.plotting_config.get_figure_save_path('test')\n",
    "    print(f'_test_fig_path: {_test_fig_path}\\n\\t exists? {_test_fig_path.exists()}')\n",
    "\n",
    "    return active_identifying_filtered_session_ctx, programmatic_display_function_testing_output_parent_path\n",
    "    \n",
    "\n",
    "# active_config_name = 'maze1'\n",
    "# active_config_name = 'maze2'\n",
    "# active_config_name = 'maze'\n",
    "# active_config_name = 'sprinkle'\n",
    "\n",
    "# active_config_name = 'maze_PYR'\n",
    "\n",
    "# active_config_name = 'maze1_rippleOnly'\n",
    "# active_config_name = 'maze2_rippleOnly'\n",
    "\n",
    "# active_config_name = curr_active_pipeline.active_config_names[0] # get the first name by default\n",
    "active_config_name = curr_active_pipeline.active_config_names[-1] # get the last name\n",
    "\n",
    "active_identifying_filtered_session_ctx, programmatic_display_function_testing_output_parent_path = process_session_plots(curr_active_pipeline, active_config_name)"
   ]
  },
  {
   "cell_type": "markdown",
   "id": "44dd1ae1-a5cd-4a03-bc11-dbb77dc161b8",
   "metadata": {
    "tags": []
   },
   "source": [
    "### Single (Session, Filter) Context Plotting:"
   ]
  },
  {
   "cell_type": "markdown",
   "id": "774fe569-bbb0-4112-816d-bdbcba78dab5",
   "metadata": {
    "tags": []
   },
   "source": [
    "#### Utility:"
   ]
  },
  {
   "cell_type": "code",
   "execution_count": null,
   "id": "cc39ef8c-731a-47e5-9471-8f64d9e5511d",
   "metadata": {
    "scrolled": true
   },
   "outputs": [],
   "source": [
    "# Reload display functions:\n",
    "curr_active_pipeline.reload_default_display_functions()\n",
    "curr_active_pipeline.registered_display_function_names # ['_display_1d_placefield_validations', '_display_2d_placefield_result_plot_ratemaps_2D', '_display_2d_placefield_result_plot_raw', '_display_normal', '_display_placemaps_pyqtplot_2D', '_display_decoder_result', '_display_plot_most_likely_position_comparisons', '_display_two_step_decoder_prediction_error_2D', '_display_two_step_decoder_prediction_error_animated_2D', '_display_spike_rasters_pyqtplot_2D', '_display_spike_rasters_pyqtplot_3D', '_display_spike_rasters_pyqtplot_3D_with_2D_controls', '_display_spike_rasters_vedo_3D', '_display_spike_rasters_vedo_3D_with_2D_controls', '_display_spike_rasters_window', '_display_speed_vs_PFoverlapDensity_plots', '_display_3d_image_plotter', '_display_3d_interactive_custom_data_explorer', '_display_3d_interactive_spike_and_behavior_browser', '_display_3d_interactive_tuning_curves_plotter']\n",
    "print(curr_active_pipeline.registered_display_function_names)"
   ]
  },
  {
   "cell_type": "code",
   "execution_count": null,
   "id": "5b986994-a44b-43e0-9022-ceeecb075386",
   "metadata": {
    "scrolled": true
   },
   "outputs": [],
   "source": [
    "## Test getting figure save paths:\n",
    "_test_fig_path = curr_active_config.plotting_config.get_figure_save_path('test')\n",
    "print(f'_test_fig_path: {_test_fig_path}\\n\\t exists? {_test_fig_path.exists()}')"
   ]
  },
  {
   "cell_type": "code",
   "execution_count": null,
   "id": "6f563259-19f3-4d85-bb53-ae88e389cde9",
   "metadata": {},
   "outputs": [],
   "source": [
    "%matplotlib --list \n",
    "# Available matplotlib backends: ['tk', 'gtk', 'gtk3', 'gtk4', 'wx', 'qt4', 'qt5', 'qt6', 'qt', 'osx', 'nbagg', 'notebook', 'agg', 'svg', 'pdf', 'ps', 'inline', 'ipympl', 'widget']"
   ]
  },
  {
   "cell_type": "code",
   "execution_count": null,
   "id": "e3ed2748-0817-42dc-93b8-6648d3c16caf",
   "metadata": {},
   "outputs": [],
   "source": [
    "%matplotlib qt\n",
    "## NOTE THAT ONCE THIS IS SET TO qt, it cannot be undone!"
   ]
  },
  {
   "cell_type": "markdown",
   "id": "4a062f0e-dfdf-4f95-a412-7cb8bbafb7c0",
   "metadata": {
    "tags": []
   },
   "source": [
    "### Systematic Display Function Testing"
   ]
  },
  {
   "cell_type": "markdown",
   "id": "7811d710-3ada-437f-827d-0eeacbcbe16b",
   "metadata": {
    "tags": []
   },
   "source": [
    "#### Matplotlib-based plots:"
   ]
  },
  {
   "cell_type": "code",
   "execution_count": null,
   "id": "de4d9f10-e1ca-485d-af0f-4cd9a40562ae",
   "metadata": {
    "pycharm": {
     "name": "#%%\n"
    }
   },
   "outputs": [],
   "source": [
    "import matplotlib\n",
    "# matplotlib.use('AGG') # non-interactive backend\n",
    "# %matplotlib -l\n",
    "\n",
    "matplotlib.use('Qt5Agg') # non-interactive backend\n",
    "## 2022-08-16 - Surprisingly this works to make the matplotlib figures render only to .png file, not appear on the screen!\n",
    "\n",
    "curr_active_pipeline.filtered_session_names # ['maze', 'sprinkle']\n",
    "active_config_name = 'maze'\n",
    "\n",
    "# active_display_to_pdf_fn = wrap_display_function_to_save_pdf\n",
    "active_display_to_pdf_fn = programmatic_display_to_PDF"
   ]
  },
  {
   "cell_type": "code",
   "execution_count": null,
   "id": "0217fa1d-86bd-4a3f-9413-3ae52901aef9",
   "metadata": {
    "scrolled": true
   },
   "outputs": [],
   "source": [
    "%%capture\n",
    "active_display_to_pdf_fn(curr_active_pipeline, curr_display_function_name='_display_1d_placefield_validations', filter_name=active_config_name) # 🔇🆖❌Working"
   ]
  },
  {
   "cell_type": "code",
   "execution_count": null,
   "id": "b0d9db48-c37b-4e67-8486-ddc1b0c7fba0",
   "metadata": {
    "scrolled": true
   },
   "outputs": [],
   "source": [
    "# %%capture\n",
    "active_display_to_pdf_fn(curr_active_pipeline, curr_display_function_name='_display_2d_placefield_result_plot_raw', debug_print=True) # 🔇🆖❌Working"
   ]
  },
  {
   "cell_type": "code",
   "execution_count": null,
   "id": "24c52598-3352-4b11-bb72-9dea8e55e527",
   "metadata": {
    "scrolled": true
   },
   "outputs": [],
   "source": [
    "# %%capture\n",
    "active_display_to_pdf_fn(curr_active_pipeline, curr_display_function_name='_display_1d_placefields', debug_print=True) # 🐞🔇🆖❌"
   ]
  },
  {
   "cell_type": "code",
   "execution_count": null,
   "id": "b0c73699-e9b2-4bef-b7cf-6e3f98c108eb",
   "metadata": {
    "tags": []
   },
   "outputs": [],
   "source": [
    "# curr_active_pipeline.display('_display_1d_placefields', debug_print=True)\n",
    "active_display_output = curr_active_pipeline.display('_display_1d_placefields', active_identifying_filtered_session_ctx, debug_print=True) # 🟢✅ This works and shows the plot, but doesn't save to PDF"
   ]
  },
  {
   "cell_type": "code",
   "execution_count": null,
   "id": "bca4c701-a343-44c4-a2d7-68d6b975b6a6",
   "metadata": {
    "tags": []
   },
   "outputs": [],
   "source": [
    "active_display_to_pdf_fn(curr_active_pipeline, curr_display_function_name='_display_normal', debug_print=True) # 🐞🔇🆖❌ PDF appears and then disappears even with matplotlib.use('Qt5Agg')"
   ]
  },
  {
   "cell_type": "code",
   "execution_count": null,
   "id": "e7038ae4-17ce-491c-a1d3-e934537ed550",
   "metadata": {
    "scrolled": true
   },
   "outputs": [],
   "source": [
    "# %%capture\n",
    "active_display_to_pdf_fn(curr_active_pipeline, curr_display_function_name='_display_2d_placefield_result_plot_ratemaps_2D') #  🐞🔇🆖❌ PDF appears and then disappears even with matplotlib.use('Qt5Agg')"
   ]
  },
  {
   "cell_type": "code",
   "execution_count": null,
   "id": "c2f8696f-45c6-4870-93f6-713246d455fe",
   "metadata": {
    "scrolled": true
   },
   "outputs": [],
   "source": [
    "%%capture\n",
    "active_display_to_pdf_fn(curr_active_pipeline, curr_display_function_name='_display_normal', filter_name=active_config_name) # 🐞🔇🆖❌ PDF appears and then disappears even with matplotlib.use('Qt5Agg')"
   ]
  },
  {
   "cell_type": "markdown",
   "id": "1b16c86e-5dc1-4918-a115-7ae99eae1084",
   "metadata": {
    "jp-MarkdownHeadingCollapsed": true,
    "tags": []
   },
   "source": [
    "### 🐞👁️‍🗨️🔜 TODO: FINISH THIS UP AND FIGURE OUT WHATEVER THE HELL I'M DOING HERE"
   ]
  },
  {
   "cell_type": "code",
   "execution_count": null,
   "id": "0b62efd2-f8f3-4dc7-baa9-67fcbdf3f983",
   "metadata": {
    "scrolled": true
   },
   "outputs": [],
   "source": [
    "curr_display_function_name = '_display_2d_placefield_result_plot_ratemaps_2D'\n",
    "built_pdf_metadata, curr_pdf_save_path = _build_pdf_pages_output_info(curr_display_function_name)\n",
    "out_fig_list = []\n",
    "active_identifying_display_ctx = active_identifying_filtered_session_ctx.adding_context('display_fn', display_fn_name=curr_display_function_name)\n",
    "figure_format_config = _get_curr_figure_format_config() # Fetch the context from the GUI\n",
    "figure_format_config['enable_saving_to_disk'] = False # don't use the in-built figure export/saving to disk functionality as we want to wrap the output figure with the Pdf saving, not write to a .png\n",
    "with backend_pdf.PdfPages(curr_pdf_save_path, keep_empty=False, metadata=built_pdf_metadata) as pdf:\n",
    "    ## TypeError: neuropy.utils.debug_helpers.safely_accepts_kwargs.<locals>._safe_kwargs_fn() got multiple values for keyword argument 'computation_config'\n",
    "    for filter_name in curr_active_pipeline.filtered_session_names:\n",
    "        print(f'filter_name: {filter_name}')\n",
    "        active_identifying_ctx = active_identifying_display_ctx.adding_context('plot_variable', variable_name=enumTuningMap2DPlotVariables.SPIKES_MAPS)\n",
    "        active_identifying_ctx_string = active_identifying_ctx.get_description(separator='|') # Get final discription string\n",
    "        out_fig_list.extend(curr_active_pipeline.display(curr_display_function_name, filter_name, plot_variable=enumTuningMap2DPlotVariables.SPIKES_MAPS, fignum=active_identifying_ctx_string, **figure_format_config)) # works!\n",
    "        active_identifying_ctx = active_identifying_display_ctx.adding_context('plot_variable', variable_name=enumTuningMap2DPlotVariables.TUNING_MAPS)\n",
    "        active_identifying_ctx_string = active_identifying_ctx.get_description(separator='|') # Get final discription string\n",
    "        out_fig_list.extend(curr_active_pipeline.display(curr_display_function_name, filter_name, plot_variable=enumTuningMap2DPlotVariables.TUNING_MAPS, fignum=active_identifying_ctx_string, **figure_format_config))\n",
    "        for a_fig in out_fig_list:\n",
    "            pdf.savefig(a_fig, transparent=True)\n",
    "            \n",
    "# 🐞🔇🆖❌ NameError: name '_build_pdf_pages_output_info' is not defined"
   ]
  },
  {
   "cell_type": "code",
   "execution_count": null,
   "id": "ee9fad5b-4871-46a6-b4a4-b50480bca489",
   "metadata": {
    "scrolled": true
   },
   "outputs": [],
   "source": [
    "%%capture\n",
    "curr_display_function_name = '_display_decoder_result'\n",
    "built_pdf_metadata, curr_pdf_save_path = _build_pdf_pages_output_info(curr_display_function_name)\n",
    "with backend_pdf.PdfPages(curr_pdf_save_path, keep_empty=False, metadata=built_pdf_metadata) as pdf:\n",
    "    plots = curr_active_pipeline.display(curr_display_function_name, filter_name)\n",
    "    print(plots)\n",
    "    # pdf.savefig(a_fig)\n",
    "    \n",
    "    \n",
    "# 🐞🔇🆖❌ NameError: name '_build_pdf_pages_output_info' is not defined"
   ]
  },
  {
   "cell_type": "markdown",
   "id": "c229b27a-32fb-4032-b0a1-f40034bf6bb5",
   "metadata": {
    "tags": []
   },
   "source": [
    "#### PyQtGraph-based plots:"
   ]
  },
  {
   "cell_type": "markdown",
   "id": "d11a9839-3fd4-4fd8-988c-61144c84051a",
   "metadata": {
    "tags": []
   },
   "source": [
    "#### PyQtGraph-based Pf2D Viewers:"
   ]
  },
  {
   "cell_type": "code",
   "execution_count": null,
   "id": "68fa3058-24c9-49e1-af41-cad50df2d829",
   "metadata": {},
   "outputs": [],
   "source": [
    "# 🟢✅ Nearly Completely Working - Needs subplot labels changed to match standardized matplotlib version, needs color scheme set consistently to matplotlib version, needs colorbars removed\n",
    "from pyphoplacecellanalysis.GUI.PyQtPlot.BinnedImageRenderingWindow import BasicBinnedImageRenderingWindow, add_bin_ticks, build_binned_imageItem\n",
    "from neuropy.utils.matplotlib_helpers import _build_variable_max_value_label, enumTuningMap2DPlotMode, enumTuningMap2DPlotVariables, _determine_best_placefield_2D_layout, _scale_current_placefield_to_acceptable_range\n",
    "from pyphoplacecellanalysis.Pho2D.PyQtPlots.plot_placefields import display_all_pf_2D_pyqtgraph_binned_image_rendering\n",
    "\n",
    "# NOTE FILTER SPECIFIC: active_config_name and active_pf_2D depend on active_config_name\n",
    "\n",
    "## Get the figure_format_config from the figure_format_config widget:\n",
    "active_identifying_display_ctx = active_identifying_filtered_session_ctx.adding_context('display_fn', display_fn_name='display_all_pf_2D_pyqtgraph_binned_image_rendering')\n",
    "figure_format_config = _get_curr_figure_format_config() # Fetch the context from the GUI\n",
    "out_all_pf_2D_pyqtgraph_binned_image_fig = display_all_pf_2D_pyqtgraph_binned_image_rendering(active_pf_2D, figure_format_config)"
   ]
  },
  {
   "cell_type": "code",
   "execution_count": null,
   "id": "6cd7686d-b854-44bf-a6e3-fb7c338380b6",
   "metadata": {},
   "outputs": [],
   "source": [
    "out_all_pf_2D_pyqtgraph_binned_image_fig.setWindowTitle(f'{active_identifying_display_ctx.get_description()}')"
   ]
  },
  {
   "cell_type": "code",
   "execution_count": null,
   "id": "158ffab7-de5e-43af-8162-bff293df838b",
   "metadata": {},
   "outputs": [],
   "source": [
    "images = active_one_step_decoder.ratemap.normalized_tuning_curves\n",
    "images.shape # (66, 41, 63)"
   ]
  },
  {
   "cell_type": "code",
   "execution_count": null,
   "id": "1048f102-f9d2-4c2e-96d7-4d8eb820a7fe",
   "metadata": {},
   "outputs": [],
   "source": [
    "# 🟢🚧🟨 Almost Working - Needs subplot labels changed from Cell[i] to the appropriate standardized titles. Needs other minor refinements.\n",
    "# 🚧 pyqtplot_plot_image_array needs major improvements to achieve feature pairity with display_all_pf_2D_pyqtgraph_binned_image_rendering, so probably just use display_all_pf_2D_pyqtgraph_binned_image_rendering.  \n",
    "from pyphoplacecellanalysis.Pho2D.PyQtPlots.plot_placefields import pyqtplot_plot_image_array\n",
    "\n",
    "# Get the decoders from the computation result:       \n",
    "# Get flat list of images:\n",
    "images = active_one_step_decoder.ratemap.normalized_tuning_curves # (43, 63, 63)\n",
    "occupancy = active_one_step_decoder.ratemap.occupancy\n",
    "\n",
    "active_identifying_display_ctx = active_identifying_filtered_session_ctx.adding_context('display_fn', display_fn_name='pyqtplot_plot_image_array')\n",
    "figure_format_config = _get_curr_figure_format_config() # Fetch the context from the GUI\n",
    "## Get final discription string:\n",
    "active_identifying_ctx_string = active_identifying_display_ctx.get_description(separator='|')\n",
    "print(f'active_identifying_ctx_string: {active_identifying_ctx_string}')\n",
    "\n",
    "## Build the widget:\n",
    "app, parent_root_widget, root_render_widget, plot_array, img_item_array, other_components_array = pyqtplot_plot_image_array(active_one_step_decoder.xbin, active_one_step_decoder.ybin, images, occupancy, \n",
    "                                                                        app=None, parent_root_widget=None, root_render_widget=None, max_num_columns=8)\n",
    "parent_root_widget.show()\n",
    "if master_dock_win is not None:\n",
    "    # if there's an open master_dock_win, add this widget as a child dock\n",
    "    master_dock_win.add_display_dock(identifier=active_identifying_ctx_string, widget=parent_root_widget, dockIsClosable=True)"
   ]
  },
  {
   "cell_type": "markdown",
   "id": "9c4fc1d3-0100-4bf1-8a9e-1ea7203d2b9c",
   "metadata": {
    "tags": []
   },
   "source": [
    "#### Decoder Plots:"
   ]
  },
  {
   "cell_type": "code",
   "execution_count": null,
   "id": "23a1e343-5737-4435-be8b-369483624fa4",
   "metadata": {
    "pycharm": {
     "name": "#%%\n"
    }
   },
   "outputs": [],
   "source": [
    "# Must switch back to the interactive backend here for the interactive/animated decoder plots:\n",
    "matplotlib.use('Qt5Agg')\n",
    "# backend_qt5agg\n",
    "import matplotlib.pyplot as plt\n",
    "# plt.switch_backend('Qt5Agg')"
   ]
  },
  {
   "cell_type": "code",
   "execution_count": null,
   "id": "8180d131-f7a6-44f4-b63d-b1d3ef9bb409",
   "metadata": {
    "pycharm": {
     "name": "#%%\n"
    }
   },
   "outputs": [],
   "source": [
    "curr_active_pipeline.display('_display_two_step_decoder_prediction_error_animated_2D', active_config_name, variable_name='p_x_given_n')"
   ]
  },
  {
   "cell_type": "code",
   "execution_count": null,
   "id": "840af86d-030a-4ba5-973d-316e94c16a61",
   "metadata": {
    "pycharm": {
     "name": "#%%\n"
    }
   },
   "outputs": [],
   "source": [
    "# ## MATPLOTLIB Imports:\n",
    "# import matplotlib\n",
    "# # configure backend here\n",
    "# matplotlib.use('Qt5Agg')\n",
    "# import matplotlib.pyplot as plt\n",
    "# import matplotlib as mpl\n",
    "## This plot looks phenominal, and the slider works!\n",
    "curr_active_pipeline.display('_display_two_step_decoder_prediction_error_2D', active_config_name, variable_name='p_x_given_n') # NOW: TypeError: _temp_debug_two_step_plots_animated_imshow() missing 1 required positional argument: 'time_binned_position_df'"
   ]
  },
  {
   "cell_type": "code",
   "execution_count": null,
   "id": "cd163714-1838-4c8d-9796-dc3823b11f0f",
   "metadata": {
    "pycharm": {
     "name": "#%%\n"
    }
   },
   "outputs": [],
   "source": [
    "curr_active_pipeline.display('_display_two_step_decoder_prediction_error_2D', active_config_name, variable_name='p_x_given_n_and_x_prev')  # this one doesn't work!"
   ]
  },
  {
   "cell_type": "code",
   "execution_count": null,
   "id": "78308cc1-7dea-49aa-814a-d2784de14981",
   "metadata": {},
   "outputs": [],
   "source": [
    "# Get the decoders from the computation result:\n",
    "# active_one_step_decoder = computation_result.computed_data['pf2D_Decoder']\n",
    "# active_two_step_decoder = computation_result.computed_data.get('pf2D_TwoStepDecoder', None)\n",
    "# active_measured_positions = computation_result.sess.position.to_dataframe()\n",
    "\n",
    "active_one_step_decoder # BayesianPlacemapPositionDecoder\n",
    "active_two_step_decoder\n",
    "\n",
    "## SAVE OUT THE RESULTS of the decoder:"
   ]
  },
  {
   "cell_type": "code",
   "execution_count": null,
   "id": "7ea8058a-d9a2-4a75-9de8-a6a3af0e690a",
   "metadata": {},
   "outputs": [],
   "source": []
  },
  {
   "cell_type": "code",
   "execution_count": null,
   "id": "fd4cd691-4c3f-48d2-b5d3-150231fdba4e",
   "metadata": {},
   "outputs": [],
   "source": [
    "## PDF Output, NOTE this is single plot stuff: uses active_config_name\n",
    "from matplotlib.backends import backend_pdf\n",
    "from pyphoplacecellanalysis.General.Mixins.ExportHelpers import create_daily_programmatic_display_function_testing_folder_if_needed, build_pdf_metadata_from_display_context, programmatic_display_to_PDF"
   ]
  },
  {
   "cell_type": "code",
   "execution_count": null,
   "id": "0f2967bd-dcf4-495c-8341-ae00e2230590",
   "metadata": {},
   "outputs": [],
   "source": [
    "## 2022-10-04 Modern Programmatic PDF outputs:\n",
    "# programmatic_display_to_PDF(curr_active_pipeline, curr_display_function_name='_display_plot_decoded_epoch_slices',  debug_print=False)\n",
    "programmatic_display_to_PDF(curr_active_pipeline, curr_display_function_name='_display_plot_decoded_epoch_slices', filter_epochs='ripple', decoding_time_bin_size=0.02, debug_test_max_num_slices=128, debug_print=True)"
   ]
  },
  {
   "cell_type": "code",
   "execution_count": null,
   "id": "fcf583b3-0a6b-44be-90ac-ed8803bdd100",
   "metadata": {},
   "outputs": [],
   "source": [
    "programmatic_display_to_PDF(curr_active_pipeline, curr_display_function_name='_display_plot_decoded_epoch_slices', filter_epochs='laps', debug_test_max_num_slices=128, debug_print=False)"
   ]
  },
  {
   "cell_type": "markdown",
   "id": "7aef1b4c-44bf-44ed-b0c3-9ecaa20ddb6a",
   "metadata": {
    "jp-MarkdownHeadingCollapsed": true,
    "pycharm": {
     "name": "#%%\n"
    },
    "tags": []
   },
   "source": [
    "### 🔜 2022-08-10 👁️‍🗨️ NOW: Plot animal positions on the computed posteriors:\n",
    "The process of plotting the animal position on the decoder plot needs to be refined. Currently it works by re-implementing \n",
    "\n",
    "🔜 NEXT STEP: TODO: Make a \"Datasource\" like approach perhaps to provide the actual animal position at each point in time?\n",
    "🐞🔜 BUG TODO: Noticed that for Bapun Day5 data, it looks like the current position point is being plotted incorrectly (it doesn't even move across the space much)"
   ]
  },
  {
   "cell_type": "code",
   "execution_count": null,
   "id": "2334b22e-4e6a-4c54-946e-2745f3ed2df5",
   "metadata": {
    "pycharm": {
     "name": "#%%\n"
    }
   },
   "outputs": [],
   "source": [
    "## Get the current positions at each of the time_window_centers:\n",
    "# active_resampled_measured_positions\n",
    "time_binned_pos_df = active_computed_data.extended_stats.time_binned_position_df\n",
    "active_resampled_pos_df = time_binned_pos_df  # 1717 rows × 16 columns\n",
    "active_resampled_measured_positions = active_resampled_pos_df[['x','y']].to_numpy() # The measured positions resampled (interpolated) at the window centers. \n",
    "# np.shape(active_resampled_measured_positions) # (1911, 2)\n",
    "active_one_step_decoder.active_time_window_centers.shape # (1911,)\n",
    "print(f'active_one_step_decoder.active_time_window_centers.shape: {active_one_step_decoder.active_time_window_centers.shape}')\n",
    "# Note this has 2900 rows × 24 columns and active_one_step_decoder.active_time_window_centers.shape is (2892,) for some reason. Shouldn't they be the same?"
   ]
  },
  {
   "cell_type": "code",
   "execution_count": null,
   "id": "52b41282-cdd9-4964-bbd0-2e0c809bc58e",
   "metadata": {
    "pycharm": {
     "name": "#%%\n"
    }
   },
   "outputs": [],
   "source": [
    "active_resampled_pos_df"
   ]
  },
  {
   "cell_type": "code",
   "execution_count": null,
   "id": "8a9393f2-0d56-46b5-ab94-eea2718d7e6a",
   "metadata": {},
   "outputs": [],
   "source": [
    "import matplotlib.pyplot as plt\n",
    "from matplotlib.widgets import Slider\n",
    "\n",
    "from PendingNotebookCode import _temp_debug_two_step_plots_animated_imshow\n",
    "\n",
    "# Get the decoders from the computation result:\n",
    "# active_one_step_decoder = computation_result.computed_data['pf2D_Decoder']\n",
    "# active_two_step_decoder = computation_result.computed_data.get('pf2D_TwoStepDecoder', None)\n",
    "# active_measured_positions = computation_result.sess.position.to_dataframe()\n",
    "\n",
    "def _debug_on_frame_update(new_frame_idx, ax):\n",
    "    print(f'_debug_on_frame_update(new_frame_idx: {new_frame_idx}, ax: {ax})')\n",
    "    pass\n",
    "\n",
    "# active_resampled_pos_df = active_computed_data.extended_stats.time_binned_position_df  # 1717 rows × 16 columns\n",
    "\n",
    "# Simple plot type 1:\n",
    "# plotted_variable_name = kwargs.get('variable_name', 'p_x_given_n') # Tries to get the user-provided variable name, otherwise defaults to 'p_x_given_n'\n",
    "plotted_variable_name = 'p_x_given_n' # Tries to get the user-provided variable name, otherwise defaults to 'p_x_given_n'\n",
    "_temp_debug_two_step_plots_animated_imshow(active_one_step_decoder, active_two_step_decoder, active_computed_data.extended_stats.time_binned_position_df, variable_name=plotted_variable_name, update_callback_function=_debug_on_frame_update) # Works"
   ]
  },
  {
   "cell_type": "code",
   "execution_count": null,
   "id": "5a7ef2e8-6e1c-48d5-9e76-b9f446ebe6ff",
   "metadata": {},
   "outputs": [],
   "source": []
  },
  {
   "cell_type": "code",
   "execution_count": null,
   "id": "991f9dbb-f65e-42b5-964a-3a88b5276bda",
   "metadata": {},
   "outputs": [],
   "source": []
  },
  {
   "cell_type": "code",
   "execution_count": null,
   "id": "792a48ab-9f8b-4215-b7e8-20e418c86518",
   "metadata": {},
   "outputs": [],
   "source": []
  },
  {
   "cell_type": "code",
   "execution_count": null,
   "id": "eef20765-0f3e-4348-a12f-fceccf0ccb85",
   "metadata": {
    "scrolled": true
   },
   "outputs": [],
   "source": [
    "curr_display_function_name = '_display_spike_rasters_pyqtplot_2D'\n",
    "curr_active_pipeline.display(curr_display_function_name, filter_name, debug_print=False, enable_saving_to_disk=enable_saving_to_disk) "
   ]
  },
  {
   "cell_type": "code",
   "execution_count": null,
   "id": "3b6322ea-88f5-475a-808d-340cd86ebff5",
   "metadata": {
    "scrolled": true
   },
   "outputs": [],
   "source": [
    "## Works, displays my velocity/density result for both 2D and 1D:\n",
    "# out_plot_1D, out_plot_2D = curr_active_pipeline.display('_display_speed_vs_PFoverlapDensity_plots', active_config_name)\n",
    "curr_display_function_name = '_display_speed_vs_PFoverlapDensity_plots'\n",
    "plots = curr_active_pipeline.display(curr_display_function_name, filter_name)\n",
    "plots"
   ]
  },
  {
   "cell_type": "code",
   "execution_count": null,
   "id": "01598d95-1b12-4d7f-9231-5c5384e68d77",
   "metadata": {
    "tags": []
   },
   "outputs": [],
   "source": [
    "curr_display_function_name = '_display_placemaps_pyqtplot_2D'\n",
    "out_plots = curr_active_pipeline.display(curr_display_function_name, filter_name, max_num_columns=8)    \n",
    "out_plots[1].show()"
   ]
  },
  {
   "cell_type": "code",
   "execution_count": null,
   "id": "e3321301-d9a1-46b9-b0a5-2d6a64e781c7",
   "metadata": {
    "tags": []
   },
   "outputs": [],
   "source": [
    "# a_plot = plots[0] # PlotWidget \n",
    "# a_plot_item = a_plot.plotItem # PlotItem\n",
    "# a_plot.scene() # GraphicsScene\n",
    "export_pyqtgraph_plot(plots[0])"
   ]
  }
 ],
 "metadata": {
  "kernelspec": {
   "display_name": "Python [conda env:phoviz_ultimate]",
   "language": "python",
   "name": "conda-env-phoviz_ultimate-py"
  },
  "language_info": {
   "codemirror_mode": {
    "name": "ipython",
    "version": 3
   },
   "file_extension": ".py",
   "mimetype": "text/x-python",
   "name": "python",
   "nbconvert_exporter": "python",
   "pygments_lexer": "ipython3",
   "version": "3.9.13"
  }
 },
 "nbformat": 4,
 "nbformat_minor": 5
}
