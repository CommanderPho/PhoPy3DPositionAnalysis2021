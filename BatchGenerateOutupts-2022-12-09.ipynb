{
 "cells": [
  {
   "cell_type": "markdown",
   "id": "7dd392e0-1cc6-407a-8c0c-18f66153a51b",
   "metadata": {},
   "source": [
    "# Imports"
   ]
  },
  {
   "cell_type": "code",
   "execution_count": 1,
   "id": "e8063c28-10a2-4e3d-a524-a09b38b4db06",
   "metadata": {},
   "outputs": [
    {
     "name": "stdout",
     "output_type": "stream",
     "text": [
      "Automatic pdb calling has been turned OFF\n"
     ]
    },
    {
     "name": "stderr",
     "output_type": "stream",
     "text": [
      "C:\\Users\\pho\\miniconda3\\envs\\phoviz_ultimate\\lib\\site-packages\\outdated\\utils.py:14: OutdatedPackageWarning: The package outdated is out of date. Your version is 0.2.1, the latest is 0.2.2.\n",
      "Set the environment variable OUTDATED_IGNORE=1 to disable these warnings.\n",
      "  return warn(\n"
     ]
    },
    {
     "name": "stdout",
     "output_type": "stream",
     "text": [
      "build_module_logger(module_name=\"Spike3D.pipeline\"):\n",
      "\t Module logger com.PhoHale.Spike3D.pipeline has file logging enabled and will log to EXTERNAL\\TESTING\\Logging\\debug_com.PhoHale.Spike3D.pipeline.log\n"
     ]
    }
   ],
   "source": [
    "%pdb off\n",
    "# %load_ext viztracer\n",
    "%load_ext autoreload\n",
    "%autoreload 2\n",
    "import sys\n",
    "import importlib\n",
    "from pathlib import Path\n",
    "\n",
    "import numpy as np\n",
    "\n",
    "# required to enable non-blocking interaction:\n",
    "# %gui qt\n",
    "# !env QT_API=\"pyqt5\"\n",
    "%gui qt5\n",
    "# %gui qt6\n",
    "# from PyQt5.Qt import QApplication\n",
    "# # start qt event loop\n",
    "# _instance = QApplication.instance()\n",
    "# if not _instance:\n",
    "#     _instance = QApplication([])\n",
    "# app = _instance\n",
    "\n",
    "from copy import deepcopy\n",
    "from numba import jit\n",
    "import numpy as np\n",
    "import pandas as pd\n",
    "from benedict import benedict # https://github.com/fabiocaccamo/python-benedict#usage\n",
    "\n",
    "# Pho's Formatting Preferences\n",
    "# from pyphocorehelpers.preferences_helpers import set_pho_preferences, set_pho_preferences_concise, set_pho_preferences_verbose\n",
    "# set_pho_preferences_concise()\n",
    "\n",
    "## Pho's Custom Libraries:\n",
    "\n",
    "# pyPhoPlaceCellAnalysis:\n",
    "from pyphoplacecellanalysis.General.Pipeline.NeuropyPipeline import NeuropyPipeline # get_neuron_identities\n",
    "\n",
    "# NeuroPy (Diba Lab Python Repo) Loading\n",
    "# from neuropy import core\n",
    "from neuropy.analyses.placefields import PlacefieldComputationParameters\n",
    "from neuropy.core.epoch import NamedTimerange\n",
    "from neuropy.core.session.Formats.BaseDataSessionFormats import DataSessionFormatRegistryHolder\n",
    "from neuropy.core.session.Formats.Specific.BapunDataSessionFormat import BapunDataSessionFormatRegisteredClass\n",
    "from neuropy.core.session.Formats.Specific.KDibaOldDataSessionFormat import KDibaOldDataSessionFormatRegisteredClass\n",
    "from neuropy.core.session.Formats.Specific.RachelDataSessionFormat import RachelDataSessionFormat\n",
    "from neuropy.core.session.Formats.Specific.HiroDataSessionFormat import HiroDataSessionFormatRegisteredClass\n",
    "\n",
    "## For computation parameters:\n",
    "from neuropy.analyses.placefields import PlacefieldComputationParameters\n",
    "from neuropy.utils.dynamic_container import DynamicContainer\n",
    "from neuropy.utils.result_context import IdentifyingContext\n",
    "\n",
    "from PendingNotebookCode import _perform_batch_plot, _build_batch_plot_kwargs, find_local_session_paths, batch_load_session, batch_programmatic_figures, SessionBatchProgress, batch_extended_programmatic_figures\n",
    "\n",
    "session_batch_status = {}\n",
    "enable_saving_to_disk = False\n",
    "\n",
    "global_data_root_parent_path = Path(r'W:\\Data') # Windows Apogee\n",
    "# global_data_root_parent_path = Path(r'/media/MAX/Data') # Diba Lab Workstation Linux\n",
    "# global_data_root_parent_path = Path(r'/Volumes/MoverNew/data') # rMBP\n",
    "assert global_data_root_parent_path.exists(), f\"global_data_root_parent_path: {global_data_root_parent_path} does not exist! Is the right computer's config commented out above?\""
   ]
  },
  {
   "cell_type": "markdown",
   "id": "60fde1ef-b6bc-4500-866e-00a69be7f8de",
   "metadata": {},
   "source": [
    "# Load Pipeline"
   ]
  },
  {
   "cell_type": "code",
   "execution_count": 2,
   "id": "d9983bae-c681-4fed-a552-e59630485b0f",
   "metadata": {},
   "outputs": [
    {
     "name": "stdout",
     "output_type": "stream",
     "text": [
      "local_session_names_list: ['2006-6-07_11-26-53', '2006-6-08_14-26-15', '2006-6-09_1-22-43', '2006-6-09_3-23-37', '2006-6-12_15-55-31', '2006-6-13_14-42-6']\n"
     ]
    },
    {
     "data": {
      "text/plain": [
       "{WindowsPath('W:/Data/KDIBA/gor01/one/2006-6-07_11-26-53'): <SessionBatchProgress.NOT_STARTED: 'NOT_STARTED'>,\n",
       " WindowsPath('W:/Data/KDIBA/gor01/one/2006-6-08_14-26-15'): <SessionBatchProgress.NOT_STARTED: 'NOT_STARTED'>,\n",
       " WindowsPath('W:/Data/KDIBA/gor01/one/2006-6-09_1-22-43'): <SessionBatchProgress.NOT_STARTED: 'NOT_STARTED'>,\n",
       " WindowsPath('W:/Data/KDIBA/gor01/one/2006-6-09_3-23-37'): <SessionBatchProgress.NOT_STARTED: 'NOT_STARTED'>,\n",
       " WindowsPath('W:/Data/KDIBA/gor01/one/2006-6-12_15-55-31'): <SessionBatchProgress.NOT_STARTED: 'NOT_STARTED'>,\n",
       " WindowsPath('W:/Data/KDIBA/gor01/one/2006-6-13_14-42-6'): <SessionBatchProgress.NOT_STARTED: 'NOT_STARTED'>}"
      ]
     },
     "execution_count": 2,
     "metadata": {},
     "output_type": "execute_result"
    }
   ],
   "source": [
    "# ==================================================================================================================== #\n",
    "# Load Data                                                                                                            #\n",
    "# ==================================================================================================================== #\n",
    "\n",
    "active_data_mode_name = 'kdiba'\n",
    "\n",
    "## Data must be pre-processed using the MATLAB script located here: \n",
    "#     neuropy/data_session_pre_processing_scripts/KDIBA/IIDataMat_Export_ToPython_2022_08_01.m\n",
    "# From pre-computed .mat files:\n",
    "\n",
    "local_session_root_parent_context = IdentifyingContext(format_name=active_data_mode_name) # , animal_name='', configuration_name='one', session_name=self.session_name\n",
    "local_session_root_parent_path = global_data_root_parent_path.joinpath('KDIBA')\n",
    "\n",
    "## Animal `gor01`:\n",
    "local_session_parent_context = local_session_root_parent_context.adding_context(collision_prefix='animal', animal='gor01', exper_name='one') # IdentifyingContext<('kdiba', 'gor01', 'one')>\n",
    "local_session_parent_path = local_session_root_parent_path.joinpath(local_session_parent_context.animal, local_session_parent_context.exper_name) # 'gor01', 'one'\n",
    "local_session_paths_list, local_session_names_list =  find_local_session_paths(local_session_parent_path, blacklist=['PhoHelpers', 'Spike3D-Minimal-Test', 'Unused'])\n",
    "\n",
    "# local_session_parent_context = local_session_root_parent_context.adding_context(collision_prefix='animal', animal='gor01', exper_name='two')\n",
    "# local_session_parent_path = local_session_root_parent_path.joinpath(local_session_parent_context.animal, local_session_parent_context.exper_name)\n",
    "# local_session_paths_list, local_session_names_list =  find_local_session_paths(local_session_parent_path, blacklist=[])\n",
    "\n",
    "### Animal `vvp01`:\n",
    "# local_session_parent_context = local_session_root_parent_context.adding_context(collision_prefix='animal', animal='vvp01', exper_name='one')\n",
    "# local_session_parent_path = local_session_root_parent_path.joinpath(local_session_parent_context.animal, local_session_parent_context.exper_name)\n",
    "# local_session_paths_list, local_session_names_list =  find_local_session_paths(local_session_parent_path, blacklist=[])\n",
    "\n",
    "# local_session_parent_context = local_session_root_parent_context.adding_context(collision_prefix='animal', animal='vvp01', exper_name='two')\n",
    "# local_session_parent_path = local_session_root_parent_path.joinpath(local_session_parent_context.animal, local_session_parent_context.exper_name)\n",
    "# local_session_paths_list, local_session_names_list =  find_local_session_paths(local_session_parent_path, blacklist=[])\n",
    "\n",
    "## Build session contexts list:\n",
    "local_session_contexts_list = [local_session_parent_context.adding_context(collision_prefix='sess', session_name=a_name) for a_name in local_session_names_list] # [IdentifyingContext<('kdiba', 'gor01', 'one', '2006-6-07_11-26-53')>, ..., IdentifyingContext<('kdiba', 'gor01', 'one', '2006-6-13_14-42-6')>]\n",
    "\n",
    "## Initialize `session_batch_status` with the NOT_STARTED status if it doesn't already have a different status\n",
    "for curr_session_basedir in local_session_paths_list:\n",
    "    curr_session_status = session_batch_status.get(curr_session_basedir, None)\n",
    "    if curr_session_status is None:\n",
    "        session_batch_status[curr_session_basedir] = SessionBatchProgress.NOT_STARTED # set to not started if not present\n",
    "        # session_batch_status[curr_session_basedir] = SessionBatchProgress.COMPLETED # set to not started if not present\n",
    "        \n",
    "\n",
    "session_batch_status"
   ]
  },
  {
   "cell_type": "code",
   "execution_count": null,
   "id": "dd04382a-07bb-4270-a3c5-7ca0c0a71518",
   "metadata": {
    "scrolled": true,
    "tags": []
   },
   "outputs": [],
   "source": [
    "## Run batch queue\n",
    "for curr_sess_ctx, curr_session_basedir, curr_session_name in zip(local_session_contexts_list, local_session_paths_list, local_session_names_list):\n",
    "    print(f'curr_session_basedir: {str(curr_session_basedir)}')\n",
    "    curr_session_status = session_batch_status.get(curr_session_basedir, None)\n",
    "    if curr_session_status.name != SessionBatchProgress.COMPLETED.name:\n",
    "        session_batch_status[curr_session_basedir] = SessionBatchProgress.NOT_STARTED\n",
    "        try:\n",
    "            session_batch_status[curr_session_basedir] = SessionBatchProgress.RUNNING\n",
    "            curr_active_pipeline = batch_load_session(global_data_root_parent_path, active_data_mode_name, curr_session_basedir, force_reload=False)\n",
    "            active_identifying_session_ctx, active_session_figures_out_path, active_out_figures_list = batch_programmatic_figures(curr_active_pipeline)\n",
    "            batch_extended_programmatic_figures(curr_active_pipeline)\n",
    "            session_batch_status[curr_session_basedir] = SessionBatchProgress.COMPLETED\n",
    "            print(f'completed processing for {curr_session_basedir}: {active_identifying_session_ctx}')\n",
    "        except Exception as e:\n",
    "            print(f'ERROR processing {curr_session_basedir} with error {e}')\n",
    "            session_batch_status[curr_session_basedir] = SessionBatchProgress.ABORTED\n",
    "            # raise e\n",
    "    else:\n",
    "        print(f'\\t already completed')\n",
    "\n",
    "print(f'session_batch_status: {session_batch_status}')\n",
    "print('!!! done running batch !!!')"
   ]
  },
  {
   "cell_type": "markdown",
   "id": "e1ab8feb-f917-4ac4-be40-20083a25f005",
   "metadata": {
    "tags": []
   },
   "source": [
    "# 🟢 Single basedir (non-batch) testing:"
   ]
  },
  {
   "cell_type": "code",
   "execution_count": 4,
   "id": "cba147e2-ff54-49c8-8229-8fe69391fad7",
   "metadata": {
    "tags": []
   },
   "outputs": [
    {
     "name": "stdout",
     "output_type": "stream",
     "text": [
      "basedir: W:\\Data\\KDIBA\\gor01\\one\\2006-6-09_1-22-43\n",
      "Loading loaded session pickle file results : W:\\Data\\KDIBA\\gor01\\one\\2006-6-09_1-22-43\\loadedSessPickle.pkl... done.\n",
      "Loading pickled pipeline success: W:\\Data\\KDIBA\\gor01\\one\\2006-6-09_1-22-43\\loadedSessPickle.pkl.\n",
      "property already present in pickled version. No need to save.\n",
      "is_common_filter_name: [ True  True  True]\n",
      "is_novel_filter_name: [False False False]\n",
      "common_filter_names: ['maze1' 'maze2' 'maze']\n",
      "changed_filters_names_list: []\n",
      "WARNING: skipping computation because overwrite_extant_results=False and active_computation_results[maze1] already exists and is non-None\n",
      "\t TODO: this will prevent recomputation even when the blacklist/whitelist or computation function definitions change. Rework so that this is smarter.\n",
      "updating computation_results...\n",
      "done.\n",
      "WARNING: skipping computation because overwrite_extant_results=False and active_computation_results[maze2] already exists and is non-None\n",
      "\t TODO: this will prevent recomputation even when the blacklist/whitelist or computation function definitions change. Rework so that this is smarter.\n",
      "updating computation_results...\n",
      "done.\n",
      "WARNING: skipping computation because overwrite_extant_results=False and active_computation_results[maze] already exists and is non-None\n",
      "\t TODO: this will prevent recomputation even when the blacklist/whitelist or computation function definitions change. Rework so that this is smarter.\n",
      "updating computation_results...\n",
      "done.\n",
      "skip_save == True, so not saving at the end of batch_load_session\n"
     ]
    }
   ],
   "source": [
    "basedir = local_session_paths_list[2] # NOT 3\n",
    "print(f'basedir: {str(basedir)}')\n",
    "\n",
    "# ==================================================================================================================== #\n",
    "# Load Pipeline                                                                                                        #\n",
    "# ==================================================================================================================== #\n",
    "curr_active_pipeline = batch_load_session(global_data_root_parent_path, active_data_mode_name, basedir, skip_save=True, force_reload=False)\n",
    "## SAVE AFTERWARDS!\n",
    "# curr_active_pipeline = batch_load_session(global_data_root_parent_path, active_data_mode_name, basedir, skip_save=False, force_reload=False, active_pickle_filename='loadedSessPickle - full-good.pkl')"
   ]
  },
  {
   "cell_type": "code",
   "execution_count": null,
   "id": "0500d00a-ae74-4ce0-897d-72d30007f92e",
   "metadata": {},
   "outputs": [],
   "source": [
    "active_identifying_session_ctx, curr_session_figures_out_path, active_out_figures_list = batch_programmatic_figures(curr_active_pipeline)"
   ]
  },
  {
   "cell_type": "code",
   "execution_count": null,
   "id": "af76646b-2701-442e-84b3-14ffcf3c0c57",
   "metadata": {},
   "outputs": [],
   "source": [
    "batch_extended_programmatic_figures(curr_active_pipeline)"
   ]
  },
  {
   "cell_type": "code",
   "execution_count": null,
   "id": "71d1d358-8a99-4f1d-99f5-dc016a99befe",
   "metadata": {},
   "outputs": [],
   "source": []
  },
  {
   "cell_type": "markdown",
   "id": "9ec4e913-d02a-40bd-9a9d-d109af03c087",
   "metadata": {
    "tags": []
   },
   "source": [
    "## 🗨️ 2022-10-26 - Jonathan Firing Rate Analyses"
   ]
  },
  {
   "cell_type": "code",
   "execution_count": 5,
   "id": "d9a228fb-4a9d-4980-8657-325fcddfd23d",
   "metadata": {},
   "outputs": [
    {
     "name": "stdout",
     "output_type": "stream",
     "text": [
      "global_computation_results is None. Building initial global_computation_results...\n",
      "Performing _execute_computation_functions(...) with 2 registered_computation_functions...\n",
      "include_whitelist: ['maze1', 'maze2', 'maze']\n",
      "long_epoch_name: maze1, short_epoch_name: maze2, global_epoch_name: maze\n",
      "Time window 382 has no spikes.\n",
      "Time window 396 has no spikes.\n",
      "include_whitelist: ['maze1', 'maze2', 'maze']\n",
      "long_epoch_name: maze1, short_epoch_name: maze2, global_epoch_name: maze\n",
      "_execute_computation_functions(...): \n",
      "\taccumulated_errors: None\n",
      "shared_aclus: [2, 3, 4, 5, 6, 7, 8, 9, 10, 11, 12, 13, 14, 15, 16, 17, 18, 19, 20, 21, 22, 23, 24, 25, 26, 27, 28, 29, 30, 31, 32, 33, 34, 35, 36, 37, 38, 39, 40, 41, 42, 43, 44, 46, 47, 48, 49, 50, 51, 52, 53, 54, 55, 56, 57, 58, 59, 60, 61, 63, 64, 65, 66, 67, 68, 69, 70, 71, 72, 73, 74, 75, 76, 77, 78, 79, 80, 81, 82, 83, 84, 85, 86, 87, 88, 89, 90, 91, 92, 93, 94, 95, 96, 97, 98, 99, 100, 101, 102, 103, 104]\n",
      "long_only_aclus: [45]\n",
      "short_only_aclus: [62]\n"
     ]
    }
   ],
   "source": [
    "# ==================================================================================================================== #\n",
    "# Perform missing global computations                                                                                  #\n",
    "# ==================================================================================================================== #\n",
    "curr_active_pipeline.perform_specific_computation(computation_functions_name_whitelist=['_perform_jonathan_replay_firing_rate_analyses', '_perform_short_long_pf_overlap_analyses'], fail_on_exception=True, debug_print=True) # \n",
    "\n",
    "## Get global 'jonathan_firing_rate_analysis' results:\n",
    "curr_jonathan_firing_rate_analysis = curr_active_pipeline.global_computation_results.computed_data['jonathan_firing_rate_analysis']\n",
    "neuron_replay_stats_df, rdf, aclu_to_idx, irdf = curr_jonathan_firing_rate_analysis['neuron_replay_stats_df'], curr_jonathan_firing_rate_analysis['rdf']['rdf'], curr_jonathan_firing_rate_analysis['rdf']['aclu_to_idx'], curr_jonathan_firing_rate_analysis['irdf']['irdf']\n",
    "\n",
    "from pyphoplacecellanalysis.General.Mixins.CrossComputationComparisonHelpers import SplitPartitionMembership\n",
    "short_only_df = neuron_replay_stats_df[neuron_replay_stats_df.track_membership == SplitPartitionMembership.RIGHT_ONLY]\n",
    "short_only_aclus = short_only_df.index.values.tolist()\n",
    "long_only_df = neuron_replay_stats_df[neuron_replay_stats_df.track_membership == SplitPartitionMembership.LEFT_ONLY]\n",
    "long_only_aclus = long_only_df.index.values.tolist()\n",
    "shared_df = neuron_replay_stats_df[neuron_replay_stats_df.track_membership == SplitPartitionMembership.SHARED]\n",
    "shared_aclus = shared_df.index.values.tolist()\n",
    "print(f'shared_aclus: {shared_aclus}')\n",
    "print(f'long_only_aclus: {long_only_aclus}')\n",
    "print(f'short_only_aclus: {short_only_aclus}')\n",
    "\n",
    "active_identifying_session_ctx = curr_active_pipeline.sess.get_context() # 'bapun_RatN_Day4_2019-10-15_11-30-06'"
   ]
  },
  {
   "cell_type": "code",
   "execution_count": 6,
   "id": "23b1b3af-acea-40f3-b48e-e993b9fa04b8",
   "metadata": {},
   "outputs": [],
   "source": [
    "short_long_pf_overlap_analyses = curr_active_pipeline.global_computation_results.computed_data.short_long_pf_overlap_analyses\n",
    "conv_overlap_dict = short_long_pf_overlap_analyses['conv_overlap_dict']\n",
    "conv_overlap_scalars_df = short_long_pf_overlap_analyses['conv_overlap_scalars_df']\n",
    "prod_overlap_dict = short_long_pf_overlap_analyses['product_overlap_dict']\n",
    "relative_entropy_overlap_dict = short_long_pf_overlap_analyses['relative_entropy_overlap_dict']\n",
    "relative_entropy_overlap_scalars_df = short_long_pf_overlap_analyses['relative_entropy_overlap_scalars_df']"
   ]
  },
  {
   "cell_type": "code",
   "execution_count": null,
   "id": "ef7845dc-454a-4184-bcac-ddc01f013399",
   "metadata": {},
   "outputs": [],
   "source": [
    "relative_entropy_overlap_scalars_df"
   ]
  },
  {
   "cell_type": "code",
   "execution_count": null,
   "id": "9d58042f-505f-41a0-994e-3d476a939f1e",
   "metadata": {},
   "outputs": [],
   "source": [
    "relative_entropy_overlap_dict"
   ]
  },
  {
   "cell_type": "code",
   "execution_count": null,
   "id": "6a12fcfa-e392-4f83-ac7f-70765ea3773d",
   "metadata": {},
   "outputs": [],
   "source": [
    "short_xbins = short_results.pf1D.xbin_centers # .shape # (40,)\n",
    "# short_curves = short_results.pf1D.ratemap.tuning_curves # .shape # (64, 40)\n",
    "short_curves = short_results.pf1D.ratemap.normalized_tuning_curves # .shape # (64, 40)\n",
    "\n",
    "long_xbins = long_results.pf1D.xbin_centers # .shape # (63,)\n",
    "# long_curves = long_results.pf1D.ratemap.tuning_curves # .shape # (64, 63)\n",
    "long_curves = long_results.pf1D.ratemap.normalized_tuning_curves # .shape # (64, 63)\n",
    "\n",
    "pf_overlap_conv_results = []\n",
    "# for i, a_pair in enumerate(pf_neurons_diff.shared.pairs):\n",
    "i = 5\n",
    "curr_aclu = pf_neurons_diff.either[i]\n",
    "a_pair = pf_neurons_diff.shared.pairs[i]\n",
    "long_idx, short_idx = a_pair\n",
    "if long_idx is None or short_idx is None:\n",
    "    # missing entry, answer is zero\n",
    "    overlap_results_dict = None\n",
    "else:        \n",
    "    curr_cell_valid_subset = list(conv_overlap_dict.values())[i]['valid_subset']\n",
    "    # curr_cell_valid_subset = list(conv_overlap_dict.values())[i]['full']\n",
    "    x, convolved_result, normalized_convolved_result, area = curr_cell_valid_subset['x'], curr_cell_valid_subset['convolved_result'], curr_cell_valid_subset['normalized_convolved_result'], curr_cell_valid_subset['area']\n",
    "    \n",
    "    curr_cell_prod_overlap = list(prod_overlap_dict.values())[i] \n",
    "    prod_x, prod_overlap_dot_product, prod_normalized_overlap_dot_product, prod_area, prod_peak_max, prod_extrapolated_short_curve = curr_cell_prod_overlap['x'], curr_cell_prod_overlap['overlap_dot_product'], curr_cell_prod_overlap['normalized_overlap_dot_product'], curr_cell_prod_overlap['area'], curr_cell_prod_overlap['peak_max'], curr_cell_prod_overlap['extrapolated_short_curve'] # Extract variables from the `curr_cell_prod_overlap` dictionary to the local workspace\n",
    "\n",
    "    long_curve = long_curves[long_idx]\n",
    "    short_curve = short_curves[short_idx]\n",
    "        \n",
    "    overlap_result = {'conv': normalized_convolved_result, 'dot_product': prod_overlap_dot_product}\n",
    "    overlap_results_dict = _test_plot_conv(long_xbins, long_curve, short_xbins, short_curve, x, overlap_result)\n",
    "    overlap_results_dict.figures.suptitle(f'aclu: {curr_aclu} - overlap_area: {area}')\n",
    "pf_overlap_conv_results.append(overlap_results_dict)\n",
    "\n",
    "\n",
    "pf_overlap_conv_results"
   ]
  },
  {
   "cell_type": "code",
   "execution_count": null,
   "id": "4a168705-ac8d-407c-82ce-64ba025d9aba",
   "metadata": {},
   "outputs": [],
   "source": [
    "conv_overlap_scalars_df"
   ]
  },
  {
   "cell_type": "code",
   "execution_count": null,
   "id": "3d1396a0-0048-49a2-b51c-7ddc20f9ff7b",
   "metadata": {},
   "outputs": [],
   "source": [
    "conv_overlap_scalars_df"
   ]
  },
  {
   "cell_type": "code",
   "execution_count": null,
   "id": "e02b56f2-b0f4-462b-aa86-f7eb600f6d0b",
   "metadata": {},
   "outputs": [],
   "source": []
  },
  {
   "cell_type": "markdown",
   "id": "3c429125-a200-4d1a-937f-6a4c064cfef2",
   "metadata": {
    "tags": []
   },
   "source": [
    "## 🟢 2022-11-21 - 1D Ratemaps Before and After Track change (Long vs. Short track)\n",
    "Working metrics for comparing overlaps of 1D placefields before and after track change"
   ]
  },
  {
   "cell_type": "code",
   "execution_count": 17,
   "id": "89dc0672-c6c3-444e-8ac6-0f43d539d5a8",
   "metadata": {},
   "outputs": [
    {
     "name": "stdout",
     "output_type": "stream",
     "text": [
      "Automatic pdb calling has been turned OFF\n",
      "long_only_aclus: [45]\n",
      "short_only_aclus: [62]\n",
      "n_neurons: 103\n",
      "shared_fragile_neuron_IDXs: [  0   1   2   3   4   5   6   7   8   9  10  11  12  13  14  15  16  17\n",
      "  18  19  20  21  22  23  24  25  26  27  28  29  30  31  32  33  34  35\n",
      "  36  37  38  39  40  41  42  43  44  45  46  47  48  49  50  51  52  53\n",
      "  54  55  56  57  58  59  60  61  62  63  64  65  66  67  68  69  70  71\n",
      "  72  73  74  75  76  77  78  79  80  81  82  83  84  85  86  87  88  89\n",
      "  90  91  92  93  94  95  96  97  98  99 100 101 102].\t np.shape: (103,)\n",
      "curr_any_context_neurons: [  2   3   4   5   6   7   8   9  10  11  12  13  14  15  16  17  18  19\n",
      "  20  21  22  23  24  25  26  27  28  29  30  31  32  33  34  35  36  37\n",
      "  38  39  40  41  42  43  44  45  46  47  48  49  50  51  52  53  54  55\n",
      "  56  57  58  59  60  61  62  63  64  65  66  67  68  69  70  71  72  73\n",
      "  74  75  76  77  78  79  80  81  82  83  84  85  86  87  88  89  90  91\n",
      "  92  93  94  95  96  97  98  99 100 101 102 103 104].\t np.shape: (103,)\n"
     ]
    }
   ],
   "source": [
    "%pdb off\n",
    "%matplotlib qt\n",
    "import matplotlib as mpl\n",
    "import matplotlib.pyplot as plt\n",
    "from pyphocorehelpers.plotting.figure_management import PhoActiveFigureManager2D\n",
    "from pyphoplacecellanalysis.General.Mixins.CrossComputationComparisonHelpers import _find_any_context_neurons, _compare_computation_results\n",
    "from neuropy.utils.colors_util import get_neuron_colors\n",
    "from neuropy.core.neuron_identities import PlotStringBrevityModeEnum\n",
    "\n",
    "from neuropy.analyses.placefields import PfND # for re-binning pf1D\n",
    "\n",
    "from neuropy.plotting.figure import Fig\n",
    "from neuropy.plotting.ratemaps import plot_ratemap_1D\n",
    "\n",
    "from pyphoplacecellanalysis.General.Mixins.CrossComputationComparisonHelpers import build_neurons_color_map\n",
    "\n",
    "include_whitelist = curr_active_pipeline.active_completed_computation_result_names # ['maze', 'sprinkle']\n",
    "long_epoch_name = include_whitelist[0] # 'maze1_PYR'\n",
    "short_epoch_name = include_whitelist[1] # 'maze2_PYR'\n",
    "if len(include_whitelist) > 2:\n",
    "    global_epoch_name = include_whitelist[-1] # 'maze_PYR'\n",
    "else:\n",
    "    print(f'WARNING: no global_epoch detected.')\n",
    "    global_epoch_name = '' # None\n",
    "long_results = curr_active_pipeline.computation_results[long_epoch_name]['computed_data']\n",
    "short_results = curr_active_pipeline.computation_results[short_epoch_name]['computed_data']\n",
    "global_results = curr_active_pipeline.computation_results[global_epoch_name]['computed_data']\n",
    "\n",
    "long_pf1D = long_results.pf1D\n",
    "short_pf1D = short_results.pf1D\n",
    "global_pf1D = global_results.pf1D\n",
    "\n",
    "## Allow overriding PfND's bins:\n",
    "# TODO: 2022-12-09 - We want to be able to have both long/short track placefields have the same bins. \n",
    "if (len(short_pf1D.xbin) < len(long_pf1D.xbin)):\n",
    "    print(f'short_pf1D will be re-binned to match long_pf1D...')\n",
    "    bak_short_pf1D = deepcopy(short_pf1D) # Backup the original first\n",
    "    xbin, ybin, bin_info, grid_bin = long_pf1D.xbin, long_pf1D.ybin, long_pf1D.bin_info, long_pf1D.config.grid_bin\n",
    "    ## Apply to the short dataframe:\n",
    "    short_pf1D.xbin, short_pf1D.ybin, short_pf1D.bin_info, short_pf1D.config.grid_bin = xbin, ybin, bin_info, grid_bin\n",
    "    ## Updates (replacing) the 'binned_x' (and if 2D 'binned_y') columns to the position dataframe:\n",
    "    short_pf1D._filtered_pos_df, _, _, _ = PfND.build_position_df_discretized_binned_positions(short_pf1D._filtered_pos_df, short_pf1D.config, xbin_values=short_pf1D.xbin, ybin_values=short_pf1D.ybin, debug_print=False) # Finishes setup\n",
    "    short_pf1D.compute() # does compute\n",
    "    print(f'done.') ## Successfully re-bins pf1D:\n",
    "\n",
    "## Get the normalized_tuning_curves only for the shared aclus (that are common across (long/short/global):\n",
    "long_is_included = np.isin(long_pf1D.ratemap.neuron_ids, shared_aclus)  #.shape # (104, 63)\n",
    "long_incl_aclus = np.array(long_pf1D.ratemap.neuron_ids)[long_is_included] #.shape # (98,)\n",
    "long_incl_curves = long_pf1D.ratemap.normalized_tuning_curves[long_is_included]  #.shape # (98, 63)\n",
    "assert long_incl_aclus.shape[0] == long_incl_curves.shape[0] # (98,) == (98, 63)\n",
    "\n",
    "short_is_included = np.isin(short_pf1D.ratemap.neuron_ids, shared_aclus)\n",
    "short_incl_aclus = np.array(short_pf1D.ratemap.neuron_ids)[short_is_included] #.shape (98,)\n",
    "short_incl_curves = short_pf1D.ratemap.normalized_tuning_curves[short_is_included]  #.shape # (98, 40)\n",
    "assert short_incl_aclus.shape[0] == short_incl_curves.shape[0] # (98,) == (98, 63)\n",
    "# assert short_incl_curves.shape[1] == long_incl_curves.shape[1] # short and long should have the same bins\n",
    "\n",
    "global_is_included = np.isin(global_pf1D.ratemap.neuron_ids, shared_aclus)\n",
    "global_incl_aclus = np.array(global_pf1D.ratemap.neuron_ids)[global_is_included] #.shape (98,)\n",
    "global_incl_curves = global_pf1D.ratemap.normalized_tuning_curves[global_is_included]  #.shape # (98, 63)\n",
    "assert global_incl_aclus.shape[0] == global_incl_curves.shape[0] # (98,) == (98, 63)\n",
    "assert global_incl_curves.shape[1] == long_incl_curves.shape[1] # global and long should have the same bins\n",
    "\n",
    "assert np.alltrue(np.isin(long_incl_aclus, short_incl_aclus))\n",
    "assert np.alltrue(np.isin(long_incl_aclus, global_incl_aclus))\n",
    "\n",
    "\n",
    "## get shared neuron info:\n",
    "pf_neurons_diff = _compare_computation_results(long_results.pf1D.ratemap.neuron_ids, short_results.pf1D.ratemap.neuron_ids)\n",
    "curr_any_context_neurons = pf_neurons_diff.either\n",
    "long_only_aclus = pf_neurons_diff.lhs_only\n",
    "short_only_aclus = pf_neurons_diff.rhs_only\n",
    "print(f'long_only_aclus: {long_only_aclus}\\nshort_only_aclus: {short_only_aclus}')\n",
    "n_neurons = pf_neurons_diff.shared.n_neurons\n",
    "shared_fragile_neuron_IDXs = pf_neurons_diff.shared.shared_fragile_neuron_IDXs\n",
    "\n",
    "neurons_colors_array = build_neurons_color_map(n_neurons, sortby=shared_fragile_neuron_IDXs, cmap=None)\n",
    "\n",
    "sort_idx = shared_fragile_neuron_IDXs.copy()    \n",
    "print(f'n_neurons: {n_neurons}')\n",
    "print(f'shared_fragile_neuron_IDXs: {shared_fragile_neuron_IDXs}.\\t np.shape: {np.shape(shared_fragile_neuron_IDXs)}')\n",
    "print(f'curr_any_context_neurons: {curr_any_context_neurons}.\\t np.shape: {np.shape(curr_any_context_neurons)}')"
   ]
  },
  {
   "cell_type": "code",
   "execution_count": 23,
   "id": "0ac96293-d40d-4da1-a507-e36a3e2535d6",
   "metadata": {},
   "outputs": [],
   "source": [
    "from pyphoplacecellanalysis.General.Pipeline.Stages.ComputationFunctions.MultiContextComputationFunctions.MultiContextComputationFunctions import compute_relative_entropy_divergence_overlap\n",
    "\n",
    "relative_entropy_overlap_dict, relative_entropy_overlap_scalars_df = compute_relative_entropy_divergence_overlap(long_results, short_results, debug_print=False)\n",
    "relative_entropy_overlap_scalars_df"
   ]
  },
  {
   "cell_type": "code",
   "execution_count": 27,
   "id": "8b57ce2b-508c-4bd1-b5c0-9ce977b5a99c",
   "metadata": {},
   "outputs": [],
   "source": [
    "aclu_keys = list(relative_entropy_overlap_dict.keys())\n",
    "\n",
    "len(aclu_keys) # 103"
   ]
  },
  {
   "cell_type": "code",
   "execution_count": 37,
   "id": "f1bfe834-cc7f-44fc-96e9-745560aae6fe",
   "metadata": {},
   "outputs": [
    {
     "data": {
      "text/plain": [
       "array([[ 0.00000000e+00,  0.00000000e+00,  0.00000000e+00, ...,\n",
       "         0.00000000e+00,  0.00000000e+00,  0.00000000e+00],\n",
       "       [ 0.00000000e+00, -2.58258502e-06, -1.29260471e-05, ...,\n",
       "         0.00000000e+00,  0.00000000e+00,  0.00000000e+00],\n",
       "       [ 0.00000000e+00, -1.75731319e-06, -9.82737300e-06, ...,\n",
       "         0.00000000e+00,  0.00000000e+00,  0.00000000e+00],\n",
       "       ...,\n",
       "       [-1.06353961e-05, -7.46884887e-05, -3.54054052e-04, ...,\n",
       "         0.00000000e+00,  0.00000000e+00,  0.00000000e+00],\n",
       "       [ 0.00000000e+00,  0.00000000e+00, -2.97476808e-06, ...,\n",
       "         0.00000000e+00,  0.00000000e+00,  0.00000000e+00],\n",
       "       [-9.01277068e-07, -4.76866205e-06, -1.89809518e-05, ...,\n",
       "         0.00000000e+00,  0.00000000e+00,  0.00000000e+00]])"
      ]
     },
     "execution_count": 37,
     "metadata": {},
     "output_type": "execute_result"
    }
   ],
   "source": [
    "aclu_keys = [k for k,v in relative_entropy_overlap_dict.items() if v is not None]\n",
    "# len(aclu_keys) # 101\n",
    "short_long_rel_entr_curves = np.vstack([v['short_long_rel_entr_curve'] for k,v in relative_entropy_overlap_dict.items() if v is not None])\n",
    "short_long_rel_entr_curves # .shape # (101, 63)"
   ]
  },
  {
   "cell_type": "code",
   "execution_count": 46,
   "id": "ad2a724f-b5da-440c-88c3-f354fc8b50d9",
   "metadata": {},
   "outputs": [],
   "source": [
    "## Time Dependent 1D Placefields:\n",
    "from neuropy.analyses.time_dependent_placefields import PfND_TimeDependent\n",
    "\n",
    "computation_result = curr_active_pipeline.computation_results[global_epoch_name]\n",
    "active_session, pf_computation_config = computation_result.sess, computation_result.computation_config.pf_params\n",
    "active_session_spikes_df, active_pos, computation_config, active_epoch_placefields1D, active_epoch_placefields2D, included_epochs, should_force_recompute_placefields = active_session.spikes_df, active_session.position, pf_computation_config, None, None, pf_computation_config.computation_epochs, True"
   ]
  },
  {
   "cell_type": "code",
   "execution_count": 55,
   "id": "4d89b3d2-2b62-49c9-8562-0446c7b7e424",
   "metadata": {},
   "outputs": [],
   "source": [
    "active_pf_1D = global_pf1D\n",
    "active_pf_1D_dt = PfND_TimeDependent(deepcopy(active_session_spikes_df), deepcopy(active_pos.linear_pos_obj), epochs=included_epochs,\n",
    "                                    speed_thresh=computation_config.speed_thresh, frate_thresh=computation_config.frate_thresh,\n",
    "                                    grid_bin=computation_config.grid_bin, grid_bin_bounds=computation_config.grid_bin_bounds, smooth=computation_config.smooth)\n",
    "\n"
   ]
  },
  {
   "cell_type": "code",
   "execution_count": 51,
   "id": "caf12afd-5499-4791-b11a-6c52742751cf",
   "metadata": {},
   "outputs": [],
   "source": [
    "active_pf_1D_dt"
   ]
  },
  {
   "cell_type": "code",
   "execution_count": 56,
   "id": "0c3885ef-d823-4293-ba73-04c00b2c029a",
   "metadata": {},
   "outputs": [],
   "source": [
    "## Update the time-dependent pf:\n",
    "active_pf_1D_dt.reset()\n",
    "\n",
    "## Find the neuron_IDs that are included in the active_pf_1D for filtering the active_pf_1D_dt's results:\n",
    "is_pf_1D_included_neuron = np.isin(active_pf_1D_dt.included_neuron_IDs, active_pf_1D.included_neuron_IDs)\n",
    "pf_1D_included_neuron_indx = active_pf_1D_dt._included_thresh_neurons_indx[is_pf_1D_included_neuron]\n",
    "active_pf_1D_dt._included_thresh_neurons_indx = pf_1D_included_neuron_indx\n",
    "active_pf_1D_dt._peak_frate_filter_function = lambda list_: [list_[_] for _ in active_pf_1D_dt._included_thresh_neurons_indx]\n",
    "\n",
    "earliest_pos_t = active_pf_1D_dt.all_time_filtered_pos_df['t'].values[0]\n",
    "print(f'earliest_pos_t: {earliest_pos_t}')\n",
    "# active_pf_1D_dt.update(t=earliest_pos_t)\n",
    "# active_pf_1D_dt.step(num_seconds_to_advance=6000.0)\n",
    "\n",
    "last_pos_t = active_pf_1D_dt.all_time_filtered_pos_df['t'].values[-1]\n",
    "print(f'last_pos_t: {last_pos_t}')\n",
    "# active_pf_1D_dt.update(t=last_pos_t)"
   ]
  },
  {
   "cell_type": "code",
   "execution_count": 57,
   "id": "f34cdecf-302f-4463-88c2-20178797a309",
   "metadata": {},
   "outputs": [],
   "source": [
    "active_pf_1D_dt.xbin"
   ]
  },
  {
   "cell_type": "code",
   "execution_count": 58,
   "id": "457ab597-a935-4a3a-b16a-29bbca255cef",
   "metadata": {},
   "outputs": [],
   "source": [
    "active_pf_1D_dt.ybin"
   ]
  },
  {
   "cell_type": "code",
   "execution_count": 59,
   "id": "081f7376-3a51-4623-94c7-5fb288266876",
   "metadata": {},
   "outputs": [
    {
     "data": {
      "text/plain": [
       "<PlacefieldComputationParameters: {'speed_thresh': 10.0, 'grid_bin': (3.8054171165052444, 1.4477079927649104), 'grid_bin_bounds': (None, None), 'smooth': (2.0, 2.0), 'frate_thresh': 0.2};>"
      ]
     },
     "execution_count": 59,
     "metadata": {},
     "output_type": "execute_result"
    }
   ],
   "source": [
    "active_pf_1D_dt.config"
   ]
  },
  {
   "cell_type": "code",
   "execution_count": 66,
   "id": "24a74d31-e591-499c-b61a-931d58b12217",
   "metadata": {},
   "outputs": [
    {
     "name": "stdout",
     "output_type": "stream",
     "text": [
      "ndim: 1, position_column_names: ('x',), binned_column_names: ('binned_x',)\n",
      "ERROR: 2D!!!\n",
      "ndim: 2, position_column_names: ('x', 'y'), binned_column_names: ('binned_x', 'binned_y')\n",
      "np.isscalar(bin_size): 1.4477079927649104\n"
     ]
    },
    {
     "ename": "ValueError",
     "evalue": "operands could not be broadcast together with shapes (103,63,61) (63,) ",
     "output_type": "error",
     "traceback": [
      "\u001b[1;31m---------------------------------------------------------------------------\u001b[0m",
      "\u001b[1;31mValueError\u001b[0m                                Traceback (most recent call last)",
      "Cell \u001b[1;32mIn [66], line 2\u001b[0m\n\u001b[0;32m      1\u001b[0m \u001b[38;5;66;03m# active_pf_1D_dt.update(t=earliest_pos_t+(60.0 * 5.0))\u001b[39;00m\n\u001b[1;32m----> 2\u001b[0m \u001b[43mactive_pf_1D_dt\u001b[49m\u001b[38;5;241;43m.\u001b[39;49m\u001b[43mupdate\u001b[49m\u001b[43m(\u001b[49m\u001b[43mt\u001b[49m\u001b[38;5;241;43m=\u001b[39;49m\u001b[38;5;241;43m3000000.0\u001b[39;49m\u001b[43m)\u001b[49m\n\u001b[0;32m      3\u001b[0m \u001b[38;5;28mprint\u001b[39m(\u001b[38;5;124mf\u001b[39m\u001b[38;5;124m'\u001b[39m\u001b[38;5;124mpost-update time: \u001b[39m\u001b[38;5;132;01m{\u001b[39;00mactive_pf_1D_dt\u001b[38;5;241m.\u001b[39mlast_t\u001b[38;5;132;01m}\u001b[39;00m\u001b[38;5;124m'\u001b[39m)\n",
      "File \u001b[1;32mc:\\users\\pho\\repos\\neuropy\\neuropy\\analyses\\time_dependent_placefields.py:286\u001b[0m, in \u001b[0;36mPfND_TimeDependent.update\u001b[1;34m(self, t, start_relative_t, should_snapshot)\u001b[0m\n\u001b[0;32m    283\u001b[0m     \u001b[38;5;28mself\u001b[39m\u001b[38;5;241m.\u001b[39m_display_additive_update(t)\n\u001b[0;32m    284\u001b[0m \u001b[38;5;28;01melse\u001b[39;00m:\n\u001b[0;32m    285\u001b[0m     \u001b[38;5;66;03m# non-additive mode, recompute:\u001b[39;00m\n\u001b[1;32m--> 286\u001b[0m     \u001b[38;5;28;43mself\u001b[39;49m\u001b[38;5;241;43m.\u001b[39;49m\u001b[43mcomplete_time_range_computation\u001b[49m\u001b[43m(\u001b[49m\u001b[38;5;241;43m0.0\u001b[39;49m\u001b[43m,\u001b[49m\u001b[43m \u001b[49m\u001b[43mt\u001b[49m\u001b[43m)\u001b[49m\n\u001b[0;32m    288\u001b[0m \u001b[38;5;28;01mif\u001b[39;00m should_snapshot:\n\u001b[0;32m    289\u001b[0m     \u001b[38;5;28mself\u001b[39m\u001b[38;5;241m.\u001b[39msnapshot()\n",
      "File \u001b[1;32mc:\\users\\pho\\repos\\neuropy\\neuropy\\analyses\\time_dependent_placefields.py:506\u001b[0m, in \u001b[0;36mPfND_TimeDependent.complete_time_range_computation\u001b[1;34m(self, start_time, end_time, assign_results_to_member_variables)\u001b[0m\n\u001b[0;32m    504\u001b[0m \u001b[38;5;28;01mdef\u001b[39;00m \u001b[38;5;21mcomplete_time_range_computation\u001b[39m(\u001b[38;5;28mself\u001b[39m, start_time, end_time, assign_results_to_member_variables\u001b[38;5;241m=\u001b[39m\u001b[38;5;28;01mTrue\u001b[39;00m):\n\u001b[0;32m    505\u001b[0m     \u001b[38;5;124;03m\"\"\" recomputes the entire time period from start_time to end_time with few other assumptions \"\"\"\u001b[39;00m\n\u001b[1;32m--> 506\u001b[0m     computed_out_results \u001b[38;5;241m=\u001b[39m \u001b[43mPfND_TimeDependent\u001b[49m\u001b[38;5;241;43m.\u001b[39;49m\u001b[43mperform_time_range_computation\u001b[49m\u001b[43m(\u001b[49m\u001b[38;5;28;43mself\u001b[39;49m\u001b[38;5;241;43m.\u001b[39;49m\u001b[43mall_time_filtered_spikes_df\u001b[49m\u001b[43m,\u001b[49m\u001b[43m \u001b[49m\u001b[38;5;28;43mself\u001b[39;49m\u001b[38;5;241;43m.\u001b[39;49m\u001b[43mall_time_filtered_pos_df\u001b[49m\u001b[43m,\u001b[49m\u001b[43m \u001b[49m\u001b[43mposition_srate\u001b[49m\u001b[38;5;241;43m=\u001b[39;49m\u001b[38;5;28;43mself\u001b[39;49m\u001b[38;5;241;43m.\u001b[39;49m\u001b[43mposition_srate\u001b[49m\u001b[43m,\u001b[49m\n\u001b[0;32m    507\u001b[0m \u001b[43m                                                         \u001b[49m\u001b[43mxbin\u001b[49m\u001b[38;5;241;43m=\u001b[39;49m\u001b[38;5;28;43mself\u001b[39;49m\u001b[38;5;241;43m.\u001b[39;49m\u001b[43mxbin\u001b[49m\u001b[43m,\u001b[49m\u001b[43m \u001b[49m\u001b[43mybin\u001b[49m\u001b[38;5;241;43m=\u001b[39;49m\u001b[38;5;28;43mself\u001b[39;49m\u001b[38;5;241;43m.\u001b[39;49m\u001b[43mybin\u001b[49m\u001b[43m,\u001b[49m\n\u001b[0;32m    508\u001b[0m \u001b[43m                                                         \u001b[49m\u001b[43mstart_time\u001b[49m\u001b[38;5;241;43m=\u001b[39;49m\u001b[43mstart_time\u001b[49m\u001b[43m,\u001b[49m\u001b[43m \u001b[49m\u001b[43mend_time\u001b[49m\u001b[38;5;241;43m=\u001b[39;49m\u001b[43mend_time\u001b[49m\u001b[43m,\u001b[49m\n\u001b[0;32m    509\u001b[0m \u001b[43m                                                         \u001b[49m\u001b[43mincluded_neuron_IDs\u001b[49m\u001b[38;5;241;43m=\u001b[39;49m\u001b[38;5;28;43mself\u001b[39;49m\u001b[38;5;241;43m.\u001b[39;49m\u001b[43mincluded_neuron_IDs\u001b[49m\u001b[43m,\u001b[49m\u001b[43m \u001b[49m\u001b[43mactive_computation_config\u001b[49m\u001b[38;5;241;43m=\u001b[39;49m\u001b[38;5;28;43mself\u001b[39;49m\u001b[38;5;241;43m.\u001b[39;49m\u001b[43mconfig\u001b[49m\u001b[43m,\u001b[49m\u001b[43m \u001b[49m\u001b[43moverride_smooth\u001b[49m\u001b[38;5;241;43m=\u001b[39;49m\u001b[38;5;28;43mself\u001b[39;49m\u001b[38;5;241;43m.\u001b[39;49m\u001b[43msmooth\u001b[49m\u001b[43m)\u001b[49m \u001b[38;5;66;03m# previously active_computation_config=None\u001b[39;00m\n\u001b[0;32m    511\u001b[0m     \u001b[38;5;28;01mif\u001b[39;00m assign_results_to_member_variables:\n\u001b[0;32m    512\u001b[0m         \u001b[38;5;66;03m# Unwrap the returned variables from the output dictionary and assign them to the member variables:        \u001b[39;00m\n\u001b[0;32m    513\u001b[0m         \u001b[38;5;28mself\u001b[39m\u001b[38;5;241m.\u001b[39mcurr_seconds_occupancy \u001b[38;5;241m=\u001b[39m computed_out_results\u001b[38;5;241m.\u001b[39mseconds_occupancy\n",
      "File \u001b[1;32mc:\\users\\pho\\repos\\neuropy\\neuropy\\analyses\\time_dependent_placefields.py:708\u001b[0m, in \u001b[0;36mPfND_TimeDependent.perform_time_range_computation\u001b[1;34m(cls, spikes_df, pos_df, position_srate, xbin, ybin, start_time, end_time, included_neuron_IDs, active_computation_config, override_smooth)\u001b[0m\n\u001b[0;32m    706\u001b[0m \u001b[38;5;28;01melse\u001b[39;00m:\n\u001b[0;32m    707\u001b[0m     smoothed_spikes_maps_matrix \u001b[38;5;241m=\u001b[39m \u001b[38;5;28;01mNone\u001b[39;00m\n\u001b[1;32m--> 708\u001b[0m     occupancy_weighted_tuning_maps_matrix \u001b[38;5;241m=\u001b[39m \u001b[43mPfND_TimeDependent\u001b[49m\u001b[38;5;241;43m.\u001b[39;49m\u001b[43mcompute_occupancy_weighted_tuning_map\u001b[49m\u001b[43m(\u001b[49m\u001b[43mseconds_occupancy\u001b[49m\u001b[43m,\u001b[49m\u001b[43m \u001b[49m\u001b[43mspikes_maps_matrix\u001b[49m\u001b[43m)\u001b[49m\n\u001b[0;32m    710\u001b[0m \u001b[38;5;66;03m# Smooth the final tuning map if needed and valid smooth parameter. Default True.            \u001b[39;00m\n\u001b[0;32m    711\u001b[0m \u001b[38;5;28;01mif\u001b[39;00m (\u001b[38;5;28mcls\u001b[39m\u001b[38;5;241m.\u001b[39mshould_smooth_final_tuning_map \u001b[38;5;129;01mand\u001b[39;00m (smooth \u001b[38;5;129;01mis\u001b[39;00m \u001b[38;5;129;01mnot\u001b[39;00m \u001b[38;5;28;01mNone\u001b[39;00m) \u001b[38;5;129;01mand\u001b[39;00m ((smooth[\u001b[38;5;241m0\u001b[39m] \u001b[38;5;241m>\u001b[39m \u001b[38;5;241m0.0\u001b[39m) \u001b[38;5;241m&\u001b[39m (smooth[\u001b[38;5;241m1\u001b[39m] \u001b[38;5;241m>\u001b[39m \u001b[38;5;241m0.0\u001b[39m))): \n",
      "File \u001b[1;32mc:\\users\\pho\\repos\\neuropy\\neuropy\\analyses\\time_dependent_placefields.py:376\u001b[0m, in \u001b[0;36mPfND_TimeDependent.compute_occupancy_weighted_tuning_map\u001b[1;34m(cls, curr_seconds_occupancy_map, curr_spikes_maps_matrix, debug_print)\u001b[0m\n\u001b[0;32m    370\u001b[0m \u001b[38;5;66;03m## Simple occupancy shuffle:\u001b[39;00m\n\u001b[0;32m    371\u001b[0m \u001b[38;5;66;03m# occupancy_weighted_tuning_maps_matrix = curr_spikes_maps_matrix / curr_seconds_occupancy_map # dividing by positions with zero occupancy result in a warning and the result being set to NaN. Set to 0.0 instead.\u001b[39;00m\n\u001b[0;32m    372\u001b[0m \u001b[38;5;66;03m# occupancy_weighted_tuning_maps_matrix = np.nan_to_num(occupancy_weighted_tuning_maps_matrix, copy=True, nan=0.0) # set any NaN values to 0.0, as this is the correct weighted occupancy\u001b[39;00m\n\u001b[0;32m    373\u001b[0m \n\u001b[0;32m    374\u001b[0m \u001b[38;5;66;03m## More advanced occumancy shuffle:\u001b[39;00m\n\u001b[0;32m    375\u001b[0m curr_seconds_occupancy_map[curr_seconds_occupancy_map \u001b[38;5;241m==\u001b[39m \u001b[38;5;241m0.0\u001b[39m] \u001b[38;5;241m=\u001b[39m np\u001b[38;5;241m.\u001b[39mnan \u001b[38;5;66;03m# pre-set the zero occupancy locations to NaN to avoid a warning in the next step. They'll be replaced with zero afterwards anyway\u001b[39;00m\n\u001b[1;32m--> 376\u001b[0m occupancy_weighted_tuning_maps_matrix \u001b[38;5;241m=\u001b[39m \u001b[43mcurr_spikes_maps_matrix\u001b[49m\u001b[43m \u001b[49m\u001b[38;5;241;43m/\u001b[39;49m\u001b[43m \u001b[49m\u001b[43mcurr_seconds_occupancy_map\u001b[49m \u001b[38;5;66;03m# dividing by positions with zero occupancy result in a warning and the result being set to NaN. Set to 0.0 instead.\u001b[39;00m\n\u001b[0;32m    377\u001b[0m occupancy_weighted_tuning_maps_matrix \u001b[38;5;241m=\u001b[39m np\u001b[38;5;241m.\u001b[39mnan_to_num(occupancy_weighted_tuning_maps_matrix, copy\u001b[38;5;241m=\u001b[39m\u001b[38;5;28;01mTrue\u001b[39;00m, nan\u001b[38;5;241m=\u001b[39m\u001b[38;5;241m0.0\u001b[39m) \u001b[38;5;66;03m# set any NaN values to 0.0, as this is the correct weighted occupancy\u001b[39;00m\n\u001b[0;32m    378\u001b[0m curr_seconds_occupancy_map[np\u001b[38;5;241m.\u001b[39misnan(curr_seconds_occupancy_map)] \u001b[38;5;241m=\u001b[39m \u001b[38;5;241m0.0\u001b[39m \u001b[38;5;66;03m# restore these entries back to zero\u001b[39;00m\n",
      "\u001b[1;31mValueError\u001b[0m: operands could not be broadcast together with shapes (103,63,61) (63,) "
     ]
    }
   ],
   "source": [
    "# active_pf_1D_dt.update(t=earliest_pos_t+(60.0 * 5.0))\n",
    "active_pf_1D_dt.update(t=3000000.0)\n",
    "print(f'post-update time: {active_pf_1D_dt.last_t}')\n",
    "\n",
    "# earliest_pos_t: 22.26785500004189\n",
    "# last_pos_t: 1739.1316560000414\n",
    "# post-update time: 322.2678550000419"
   ]
  },
  {
   "cell_type": "code",
   "execution_count": 51,
   "id": "a1b78db0-b508-4304-bca2-65347993f3d8",
   "metadata": {},
   "outputs": [],
   "source": [
    "active_pf_2D_dt.reset()\n",
    "active_pf_2D_dt.update(t=45.0, start_relative_t=True)"
   ]
  },
  {
   "cell_type": "code",
   "execution_count": 51,
   "id": "3080a9eb-77b0-4e65-b65e-cdf400472875",
   "metadata": {},
   "outputs": [
    {
     "data": {
      "text/plain": [
       "<PfND_TimeDependent: {'config': <PlacefieldComputationParameters: {'speed_thresh': 10.0, 'grid_bin': (3.8054171165052444, 1.4477079927649104), 'grid_bin_bounds': (None, None), 'smooth': (2.0, 2.0), 'frate_thresh': 0.2};>, 'position_srate': 29.96972244523928, 'ndim': 1, '_included_thresh_neurons_indx': array([  0,   1,   2,   3,   4,   5,   6,   7,   8,   9,  10,  11,  12,\n",
       "        13,  14,  15,  16,  17,  18,  19,  20,  21,  22,  23,  24,  25,\n",
       "        26,  27,  28,  29,  30,  31,  32,  33,  34,  35,  36,  37,  38,\n",
       "        39,  40,  41,  42,  43,  44,  45,  46,  47,  48,  49,  50,  51,\n",
       "        52,  53,  54,  55,  56,  57,  58,  59,  60,  61,  62,  63,  64,\n",
       "        65,  66,  67,  68,  69,  70,  71,  72,  73,  74,  75,  76,  77,\n",
       "        78,  79,  80,  81,  82,  83,  84,  85,  86,  87,  88,  89,  90,\n",
       "        91,  92,  93,  94,  95,  96,  97,  98,  99, 100, 101, 102]), '_peak_frate_filter_function': <function PfND_TimeDependent.__init__.<locals>.<lambda> at 0x000001E146189820>, '_filtered_pos_df':                  t    lin_pos          x     speed binned_x\n",
       "0         0.150794  27.752915  27.752915  0.000000       30\n",
       "1         0.184080  27.873635  27.873635  3.617929       30\n",
       "2         0.217780  28.088848  28.088848  6.449877       30\n",
       "3         0.251359  28.354823  28.354823  7.971204       30\n",
       "4         0.285226  28.621418  28.621418  7.989777       30\n",
       "...            ...        ...        ...       ...      ...\n",
       "52051  1736.935197 -36.252242 -36.252242  0.013724       13\n",
       "52052  1736.969326 -36.252452 -36.252452  0.006289       13\n",
       "52053  1737.002913 -36.252533 -36.252533  0.002440       13\n",
       "52054  1737.036467 -36.252559 -36.252559  0.000793       13\n",
       "52055  1737.070450 -36.252566 -36.252566  0.000207       13\n",
       "\n",
       "[52056 rows x 5 columns], '_filtered_spikes_df':                  t      t_seconds  t_rel_seconds  shank  cluster  aclu  qclu  \\\n",
       "142         8254.0  643040.787357       0.253563     12        7    98     1   \n",
       "143         8300.0  643040.788770       0.254976      8       19    64     5   \n",
       "144         8323.0  643040.789476       0.255682      7       11    49     5   \n",
       "145         8387.0  643040.791443       0.257649      1       12     7     5   \n",
       "146         8390.0  643040.791535       0.257741     12        7    98     1   \n",
       "...            ...            ...            ...    ...      ...   ...   ...   \n",
       "865737  56290137.0  644769.765917    1729.232123      9       15    76     5   \n",
       "865738  56290172.0  644769.766992    1729.233198     12        2    94     5   \n",
       "865739  56290204.0  644769.767976    1729.234182      7       12    50     5   \n",
       "865740  56290347.0  644769.772368    1729.238574      3       26    37     5   \n",
       "865741  56290352.0  644769.772522    1729.238728      9        8    73     5   \n",
       "\n",
       "                x           y      speed  ...                cell_type  \\\n",
       "142     28.372171   65.810894  10.117847  ...     NeuronType.PYRAMIDAL   \n",
       "143     28.383295   65.813701  10.236586  ...  NeuronType.CONTAMINATED   \n",
       "144     28.388856   65.815104  10.295955  ...  NeuronType.CONTAMINATED   \n",
       "145     28.404333   65.819009  10.461157  ...  NeuronType.CONTAMINATED   \n",
       "146     28.405059   65.819192  10.468901  ...     NeuronType.PYRAMIDAL   \n",
       "...           ...         ...        ...  ...                      ...   \n",
       "865737 -36.306812  140.943072  11.246169  ...  NeuronType.CONTAMINATED   \n",
       "865738 -36.305734  140.938586  11.051534  ...  NeuronType.CONTAMINATED   \n",
       "865739 -36.304750  140.934485  10.873583  ...  NeuronType.CONTAMINATED   \n",
       "865740 -36.300348  140.916157  10.078364  ...  NeuronType.CONTAMINATED   \n",
       "865741 -36.300194  140.915517  10.050559  ...  NeuronType.CONTAMINATED   \n",
       "\n",
       "        flat_spike_idx  x_loaded  y_loaded    lin_pos  \\\n",
       "142                142  0.497666  0.247145  28.372171   \n",
       "143                143  0.497637  0.247165  28.383295   \n",
       "144                144  0.497622  0.247174  28.388856   \n",
       "145                145  0.497582  0.247201  28.404333   \n",
       "146                146  0.497580  0.247203  28.405059   \n",
       "...                ...       ...       ...        ...   \n",
       "865737          865737  0.717259  0.496717 -36.306812   \n",
       "865738          865738  0.717239  0.496713 -36.305734   \n",
       "865739          865739  0.717222  0.496709 -36.304750   \n",
       "865740          865740  0.717141  0.496692 -36.300348   \n",
       "865741          865741  0.717138  0.496691 -36.300194   \n",
       "\n",
       "        fragile_linear_neuron_IDX  PBE_id     scISI  neuron_IDX  binned_x  \n",
       "142                            96      -1  0.030382          96        30  \n",
       "143                            62      -1  0.004915          62        30  \n",
       "144                            47      -1  0.011151          47        30  \n",
       "145                             5      -1  0.005591           5        30  \n",
       "146                            96      -1  0.004178          96        30  \n",
       "...                           ...     ...       ...         ...       ...  \n",
       "865737                         74      -1  0.029399          74        13  \n",
       "865738                         92      -1  0.198543          92        13  \n",
       "865739                         48      -1  0.039414          48        13  \n",
       "865740                         35      -1  0.008755          35        13  \n",
       "865741                         71      -1  0.009062          71        13  \n",
       "\n",
       "[328658 rows x 24 columns], 'xbin': array([-83.23955369, -79.43413657, -75.62871946, -71.82330234,\n",
       "       -68.01788522, -64.21246811, -60.40705099, -56.60163387,\n",
       "       -52.79621676, -48.99079964, -45.18538252, -41.37996541,\n",
       "       -37.57454829, -33.76913117, -29.96371406, -26.15829694,\n",
       "       -22.35287982, -18.54746271, -14.74204559, -10.93662847,\n",
       "        -7.13121136,  -3.32579424,   0.47962287,   4.28503999,\n",
       "         8.09045711,  11.89587422,  15.70129134,  19.50670846,\n",
       "        23.31212557,  27.11754269,  30.92295981,  34.72837692,\n",
       "        38.53379404,  42.33921116,  46.14462827,  49.95004539,\n",
       "        53.75546251,  57.56087962,  61.36629674,  65.17171386,\n",
       "        68.97713097,  72.78254809,  76.5879652 ,  80.39338232,\n",
       "        84.19879944,  88.00421655,  91.80963367,  95.61505079,\n",
       "        99.4204679 , 103.22588502, 107.03130214, 110.83671925,\n",
       "       114.64213637, 118.44755349, 122.2529706 , 126.05838772,\n",
       "       129.86380484, 133.66922195, 137.47463907, 141.28005619,\n",
       "       145.0854733 , 148.89089042, 152.69630753, 156.50172465]), 'ybin': None, 'bin_info': {'mode': 'bin_size', 'xstep': 3.8054171165052444, 'xnum_bins': 64}, 'last_t': 0.0, 'fragile_linear_neuron_IDXs': array([  0,   1,   2,   3,   4,   5,   6,   7,   8,   9,  10,  11,  12,\n",
       "        13,  14,  15,  16,  17,  18,  19,  20,  21,  22,  23,  24,  25,\n",
       "        26,  27,  28,  29,  30,  31,  32,  33,  34,  35,  36,  37,  38,\n",
       "        39,  40,  41,  42,  43,  44,  45,  46,  47,  48,  49,  50,  51,\n",
       "        52,  53,  54,  55,  56,  57,  58,  59,  60,  61,  62,  63,  64,\n",
       "        65,  66,  67,  68,  69,  70,  71,  72,  73,  74,  75,  76,  77,\n",
       "        78,  79,  80,  81,  82,  83,  84,  85,  86,  87,  88,  89,  90,\n",
       "        91,  92,  93,  94,  95,  96,  97,  98,  99, 100, 101, 102]), 'n_fragile_linear_neuron_IDXs': 103, 'curr_spikes_maps_matrix': array([[0, 0, 0, ..., 0, 0, 0],\n",
       "       [0, 0, 0, ..., 0, 0, 0],\n",
       "       [0, 0, 0, ..., 0, 0, 0],\n",
       "       ...,\n",
       "       [0, 0, 0, ..., 0, 0, 0],\n",
       "       [0, 0, 0, ..., 0, 0, 0],\n",
       "       [0, 0, 0, ..., 0, 0, 0]]), 'curr_smoothed_spikes_maps_matrix': None, 'curr_num_pos_samples_occupancy_map': array([0, 0, 0, 0, 0, 0, 0, 0, 0, 0, 0, 0, 0, 0, 0, 0, 0, 0, 0, 0, 0, 0,\n",
       "       0, 0, 0, 0, 0, 0, 0, 0, 0, 0, 0, 0, 0, 0, 0, 0, 0, 0, 0, 0, 0, 0,\n",
       "       0, 0, 0, 0, 0, 0, 0, 0, 0, 0, 0, 0, 0, 0, 0, 0, 0, 0, 0]), 'curr_num_pos_samples_smoothed_occupancy_map': None, 'curr_seconds_occupancy': array([0., 0., 0., 0., 0., 0., 0., 0., 0., 0., 0., 0., 0., 0., 0., 0., 0.,\n",
       "       0., 0., 0., 0., 0., 0., 0., 0., 0., 0., 0., 0., 0., 0., 0., 0., 0.,\n",
       "       0., 0., 0., 0., 0., 0., 0., 0., 0., 0., 0., 0., 0., 0., 0., 0., 0.,\n",
       "       0., 0., 0., 0., 0., 0., 0., 0., 0., 0., 0., 0.]), 'curr_normalized_occupancy': array([0., 0., 0., 0., 0., 0., 0., 0., 0., 0., 0., 0., 0., 0., 0., 0., 0.,\n",
       "       0., 0., 0., 0., 0., 0., 0., 0., 0., 0., 0., 0., 0., 0., 0., 0., 0.,\n",
       "       0., 0., 0., 0., 0., 0., 0., 0., 0., 0., 0., 0., 0., 0., 0., 0., 0.,\n",
       "       0., 0., 0., 0., 0., 0., 0., 0., 0., 0., 0., 0.]), 'curr_occupancy_weighted_tuning_maps_matrix': array([[0., 0., 0., ..., 0., 0., 0.],\n",
       "       [0., 0., 0., ..., 0., 0., 0.],\n",
       "       [0., 0., 0., ..., 0., 0., 0.],\n",
       "       ...,\n",
       "       [0., 0., 0., ..., 0., 0., 0.],\n",
       "       [0., 0., 0., ..., 0., 0., 0.],\n",
       "       [0., 0., 0., ..., 0., 0., 0.]]), 'historical_snapshots': OrderedDict()};>"
      ]
     },
     "execution_count": 51,
     "metadata": {},
     "output_type": "execute_result"
    }
   ],
   "source": [
    "from pyphoplacecellanalysis.GUI.Qt.Menus.SpecificMenus.CreateLinkedWidget_MenuProvider import CreateNewTimeSynchronizedPlotterCommand\n",
    "\n",
    "curr_window.ui.menus.global_window_menus.create_linked_widget.actions_dict['actionCreateNewTimeSynchronizedOccupancyPlotter'] = CreateNewTimeSynchronizedPlotterCommand(spike_raster_window, active_pf_2D_dt, plotter_type='occupancy', display_output=display_output)"
   ]
  },
  {
   "cell_type": "code",
   "execution_count": null,
   "id": "088f7892-24ef-4215-b6a9-80e04ee281e6",
   "metadata": {},
   "outputs": [],
   "source": [
    "plt.plot(short_long_rel_entr_curves.T)"
   ]
  },
  {
   "cell_type": "code",
   "execution_count": null,
   "id": "bad76fa2-b320-46ea-a797-785af5cde375",
   "metadata": {},
   "outputs": [],
   "source": []
  },
  {
   "cell_type": "code",
   "execution_count": null,
   "id": "96a65a7b-f73d-441a-8e80-62d4e2acd91e",
   "metadata": {},
   "outputs": [],
   "source": []
  },
  {
   "cell_type": "code",
   "execution_count": 18,
   "id": "28739947-375a-4c68-95fa-ccc54eb9824a",
   "metadata": {},
   "outputs": [],
   "source": [
    "active_identifying_session_ctx = curr_active_pipeline.sess.get_context() # 'bapun_RatN_Day4_2019-10-15_11-30-06'\n",
    "\n",
    "long_single_cell_pfmap_processing_fn = None\n",
    "short_single_cell_pfmap_processing_fn = None\n",
    "\n",
    "# long_single_cell_pfmap_processing_fn = lambda i, aclu, pfmap: 0.5 * pfmap # flip over the y-axis\n",
    "# short_single_cell_pfmap_processing_fn = lambda i, aclu, pfmap: -0.5 * pfmap # flip over the y-axis\n",
    "\n",
    "# pad = 1\n",
    "# long_single_cell_pfmap_processing_fn = lambda i, aclu, pfmap: (0.5 * pfmap) + (0.5*pad) # shift the baseline up by half\n",
    "# short_single_cell_pfmap_processing_fn = lambda i, aclu, pfmap: (-0.5 * pfmap * pad) + (0.5*pad) # flip over the y-axis, shift the baseline down by half\n",
    "\n",
    "# pad = 1\n",
    "# long_single_cell_pfmap_processing_fn = lambda i, aclu, pfmap: (0.5 * pfmap * pad) + (0.5*pad) # shift the baseline up by half\n",
    "# short_single_cell_pfmap_processing_fn = lambda i, aclu, pfmap: (0.5 * pfmap * pad) + (0.5*pad) # flip over the y-axis, shift the baseline down by half\n",
    "# long_single_cell_pfmap_processing_fn = lambda i, aclu, pfmap: (0.5 * pfmap * pad) # shift the baseline up by half\n",
    "# short_single_cell_pfmap_processing_fn = lambda i, aclu, pfmap: (0.5 * pfmap * pad) # flip over the y-axis, shift the baseline down by half\n",
    "\n",
    "\n",
    "# long_single_cell_pfmap_processing_fn = lambda i, aclu, pfmap: (1.0 * pfmap * pad) # shift the baseline up by half\n",
    "# short_single_cell_pfmap_processing_fn = lambda i, aclu, pfmap: (-1.0 * pfmap * pad) + (1.0*pad) # this does not work and results in short being fully filled. I think this is because the fill_between gets reversed since everything is below baseline\n",
    "\n",
    "\n",
    "out = curr_active_pipeline.display('_display_short_long_pf1D_comparison', active_identifying_session_ctx, single_figure=True, debug_print=False, fignum='Short v Long pf1D Comparison',\n",
    "                                   long_kwargs={'sortby': sort_idx, 'single_cell_pfmap_processing_fn': long_single_cell_pfmap_processing_fn},\n",
    "                                   short_kwargs={'sortby': sort_idx, 'single_cell_pfmap_processing_fn': short_single_cell_pfmap_processing_fn, 'curve_hatch_style': {'hatch':'///', 'edgecolor':'k'}},\n",
    "                                  )\n",
    "ax = out.axes[0]"
   ]
  },
  {
   "cell_type": "code",
   "execution_count": 19,
   "id": "c7b1728b-2da7-47fd-8055-b31900805e98",
   "metadata": {},
   "outputs": [],
   "source": [
    "## Overlap Scalar Comparisons: plots a comparison of a specific type of scalar values for all cells\n",
    "from pyphoplacecellanalysis.General.Pipeline.Stages.DisplayFunctions.MultiContextComparingDisplayFunctions.MultiContextComparingDisplayFunctions import PlacefieldOverlapMetricMode\n",
    "\n",
    "active_identifying_session_ctx = curr_active_pipeline.sess.get_context() # 'bapun_RatN_Day4_2019-10-15_11-30-06'\n",
    "\n",
    "# overlap_metric_mode = PlacefieldOverlapMetricMode.POLY\n",
    "# overlap_metric_mode = PlacefieldOverlapMetricMode.PRODUCT\n",
    "# overlap_metric_mode = PlacefieldOverlapMetricMode.CONVOLUTION\n",
    "overlap_metric_mode = PlacefieldOverlapMetricMode.REL_ENTROPY\n",
    "\n",
    "out = curr_active_pipeline.display('_display_short_long_pf1D_scalar_overlap_comparison', active_identifying_session_ctx, overlap_metric_mode=overlap_metric_mode, variant_name='_area')"
   ]
  },
  {
   "cell_type": "markdown",
   "id": "100b3e55-3243-4346-aa00-9b6fd705e7ff",
   "metadata": {
    "tags": []
   },
   "source": [
    "## 2022-12-09 - Pho Surprise/KL-Divergence Metrics"
   ]
  },
  {
   "cell_type": "code",
   "execution_count": null,
   "id": "07d0fd4f-060a-4dbc-bf3b-d37ab376800f",
   "metadata": {},
   "outputs": [],
   "source": [
    "short_pf1D.ratemap.never_visited_occupancy_mask"
   ]
  },
  {
   "cell_type": "code",
   "execution_count": null,
   "id": "52f14a19-5e61-4b75-8f44-428a95cff0e7",
   "metadata": {},
   "outputs": [],
   "source": [
    "short_pf1D.nan_never_visited_occupancy"
   ]
  },
  {
   "cell_type": "code",
   "execution_count": null,
   "id": "f3a26839-a44d-4332-b673-c98f21a2f993",
   "metadata": {},
   "outputs": [],
   "source": [
    "short_pf1D.xbin"
   ]
  },
  {
   "cell_type": "code",
   "execution_count": null,
   "id": "e11fe6ac-c585-4816-817f-5034ca2cd21e",
   "metadata": {},
   "outputs": [],
   "source": [
    "long_pf1D.xbin"
   ]
  },
  {
   "cell_type": "code",
   "execution_count": null,
   "id": "3d8d7db4-85c4-4d21-b28a-26bbba7c53c8",
   "metadata": {},
   "outputs": [],
   "source": [
    "short_pf1D.bin_info # {'mode': 'bin_size', 'xstep': 3.793023081021702, 'xnum_bins': 41}"
   ]
  },
  {
   "cell_type": "code",
   "execution_count": null,
   "id": "19763c91-6e4a-404b-a483-42cd735b6aac",
   "metadata": {},
   "outputs": [],
   "source": [
    "short_pf1D.config"
   ]
  },
  {
   "cell_type": "code",
   "execution_count": null,
   "id": "100fc13d-05a7-412a-a993-72c60e10e40f",
   "metadata": {},
   "outputs": [],
   "source": [
    "long_pf1D.bin_info"
   ]
  },
  {
   "cell_type": "code",
   "execution_count": null,
   "id": "3ef9f6c1-71e4-4445-8805-75b70b28516f",
   "metadata": {},
   "outputs": [],
   "source": [
    "long_pf1D.config"
   ]
  },
  {
   "cell_type": "code",
   "execution_count": 10,
   "id": "5bddad26-d6dc-4ec1-9310-43d2351b43ae",
   "metadata": {},
   "outputs": [],
   "source": []
  },
  {
   "cell_type": "code",
   "execution_count": 11,
   "id": "bf0d5ffb-7ba4-4653-afa0-e37a7226e603",
   "metadata": {},
   "outputs": [],
   "source": []
  },
  {
   "cell_type": "code",
   "execution_count": 12,
   "id": "c92754a2-8390-4d47-bd04-bc6bcdc61aea",
   "metadata": {},
   "outputs": [
    {
     "data": {
      "text/plain": [
       "{'mode': 'bin_size', 'xstep': 3.8054171165052444, 'xnum_bins': 64}"
      ]
     },
     "execution_count": 12,
     "metadata": {},
     "output_type": "execute_result"
    }
   ],
   "source": [
    "short_pf1D.bin_info"
   ]
  },
  {
   "cell_type": "code",
   "execution_count": 13,
   "id": "b00c7059-4ca0-4ea4-8ec9-c4347194e139",
   "metadata": {},
   "outputs": [
    {
     "data": {
      "text/plain": [
       "(64,)"
      ]
     },
     "execution_count": 13,
     "metadata": {},
     "output_type": "execute_result"
    }
   ],
   "source": [
    "short_pf1D.xbin.shape"
   ]
  },
  {
   "cell_type": "code",
   "execution_count": 14,
   "id": "ddd7a575-1f5a-408d-89ac-aa33f32a0058",
   "metadata": {},
   "outputs": [
    {
     "data": {
      "text/plain": [
       "<PlacefieldComputationParameters: {'speed_thresh': 10.0, 'grid_bin': (3.8054171165052444, 1.4477079927649104), 'grid_bin_bounds': (None, None), 'smooth': (2.0, 2.0), 'frate_thresh': 0.2};>"
      ]
     },
     "execution_count": 14,
     "metadata": {},
     "output_type": "execute_result"
    }
   ],
   "source": [
    "short_pf1D.config"
   ]
  },
  {
   "cell_type": "code",
   "execution_count": null,
   "id": "53f8481c-f4cc-4682-8348-6cff71e8ae2b",
   "metadata": {},
   "outputs": [],
   "source": [
    "long_incl_curves"
   ]
  },
  {
   "cell_type": "code",
   "execution_count": null,
   "id": "da99033c-8875-4e4c-b7c1-748cf27ec27a",
   "metadata": {},
   "outputs": [],
   "source": [
    "short_incl_curves"
   ]
  },
  {
   "cell_type": "code",
   "execution_count": null,
   "id": "c14714b0-1254-461f-8bcd-ffba4526876f",
   "metadata": {},
   "outputs": [],
   "source": []
  },
  {
   "cell_type": "code",
   "execution_count": null,
   "id": "87836f58-68a1-40eb-9b00-663605df8913",
   "metadata": {},
   "outputs": [],
   "source": []
  },
  {
   "cell_type": "code",
   "execution_count": null,
   "id": "c3662f09-f5df-4a2f-ae1e-92567823c5d7",
   "metadata": {},
   "outputs": [],
   "source": [
    "# %matplotlib qt\n",
    "\n",
    "# ==================================================================================================================== #\n",
    "# Output Figures to File                                                                                               #\n",
    "# ==================================================================================================================== #\n",
    "## PDF Output\n",
    "# %matplotlib qtagg\n",
    "import matplotlib\n",
    "# configure backend here\n",
    "# matplotlib.use('Qt5Agg')\n",
    "# backend_qt5agg\n",
    "matplotlib.use('AGG') # non-interactive backend ## 2022-08-16 - Surprisingly this works to make the matplotlib figures render only to .png file, not appear on the screen!\n",
    "\n",
    "n_max_page_rows = 10\n",
    "_batch_plot_kwargs_list = _build_batch_plot_kwargs(long_only_aclus, short_only_aclus, shared_aclus, active_identifying_session_ctx, n_max_page_rows=n_max_page_rows)\n",
    "active_out_figures_list = _perform_batch_plot(curr_active_pipeline, _batch_plot_kwargs_list, figures_parent_out_path=None, write_pdf=False, write_png=True, progress_print=True, debug_print=False)"
   ]
  },
  {
   "cell_type": "markdown",
   "id": "53cd05b7-ade9-420e-8b14-3e71474431f5",
   "metadata": {
    "pycharm": {
     "name": "#%%\n"
    },
    "tags": []
   },
   "source": [
    "## ❌🆖 BROKEN Individual Plotting Outputs:"
   ]
  },
  {
   "cell_type": "markdown",
   "id": "9655181f-dc58-470a-b496-0fc9cd3c0883",
   "metadata": {
    "tags": []
   },
   "source": [
    "### Common Config"
   ]
  },
  {
   "cell_type": "code",
   "execution_count": null,
   "id": "ad892ba6-4657-4370-957c-d2926c32826c",
   "metadata": {
    "tags": []
   },
   "outputs": [],
   "source": [
    "## MATPLOTLIB Imports:\n",
    "import matplotlib\n",
    "# configure backend here\n",
    "matplotlib.use('Qt5Agg')\n",
    "# backend_qt5agg\n",
    "# matplotlib.use('AGG') # non-interactive backend\n",
    "## 2022-08-16 - Surprisingly this works to make the matplotlib figures render only to .png file, not appear on the screen!\n",
    "import matplotlib.pyplot as plt\n",
    "import matplotlib as mpl\n",
    "from matplotlib.backends import backend_pdf\n",
    "\n",
    "from neuropy.utils.matplotlib_helpers import enumTuningMap2DPlotVariables # for getting the variant name from the dict\n",
    "_bak_rcParams = mpl.rcParams.copy()\n",
    "mpl.rcParams['toolbar'] = 'None' # disable toolbars\n",
    "\n",
    "from pyphoplacecellanalysis.General.Mixins.ExportHelpers import create_daily_programmatic_display_function_testing_folder_if_needed, build_pdf_metadata_from_display_context, programmatic_display_to_PDF\n",
    "\n",
    "# from pyphocorehelpers.plotting.figure_management import PhoActiveFigureManager2D, capture_new_figures_decorator\n",
    "# fig_man = PhoActiveFigureManager2D(name=f'fig_man') # Initialize a new figure manager\n",
    "\n",
    "active_identifying_session_ctx = curr_active_pipeline.sess.get_context() # 'bapun_RatN_Day4_2019-10-15_11-30-06'"
   ]
  },
  {
   "cell_type": "code",
   "execution_count": null,
   "id": "ff0e2d2e-b547-4fc9-a610-9cb834776a16",
   "metadata": {
    "tags": []
   },
   "outputs": [],
   "source": [
    "def process_session_plots(curr_active_pipeline, active_config_name, debug_print=False):\n",
    "    \"\"\" Unwrap single config \n",
    "    UNUSED AND UNTESTED\n",
    "    \"\"\"\n",
    "    print(f'active_config_name: {active_config_name}')\n",
    "\n",
    "    ## Add the filter to the active context\n",
    "    # active_identifying_filtered_session_ctx = active_identifying_session_ctx.adding_context('filter', filter_name=active_config_name) # 'bapun_RatN_Day4_2019-10-15_11-30-06_maze'\n",
    "    active_identifying_filtered_session_ctx = curr_active_pipeline.filtered_contexts[active_config_name] # 'bapun_RatN_Day4_2019-10-15_11-30-06_maze'\n",
    "\n",
    "    # Get relevant variables:\n",
    "    # curr_active_pipeline is set above, and usable here\n",
    "    sess: DataSession = curr_active_pipeline.filtered_sessions[active_config_name]\n",
    "\n",
    "    active_computation_results = curr_active_pipeline.computation_results[active_config_name]\n",
    "    active_computed_data = curr_active_pipeline.computation_results[active_config_name].computed_data\n",
    "    active_computation_config = curr_active_pipeline.computation_results[active_config_name].computation_config\n",
    "    active_computation_errors = curr_active_pipeline.computation_results[active_config_name].accumulated_errors\n",
    "    print(f'active_computed_data.keys(): {list(active_computed_data.keys())}')\n",
    "    print(f'active_computation_errors: {active_computation_errors}')\n",
    "    active_pf_1D = curr_active_pipeline.computation_results[active_config_name].computed_data['pf1D']\n",
    "    active_pf_2D = curr_active_pipeline.computation_results[active_config_name].computed_data['pf2D']\n",
    "    active_pf_1D_dt = curr_active_pipeline.computation_results[active_config_name].computed_data.get('pf1D_dt', None)\n",
    "    active_pf_2D_dt = curr_active_pipeline.computation_results[active_config_name].computed_data.get('pf2D_dt', None)\n",
    "    active_firing_rate_trends = curr_active_pipeline.computation_results[active_config_name].computed_data.get('firing_rate_trends', None)\n",
    "    active_one_step_decoder = curr_active_pipeline.computation_results[active_config_name].computed_data.get('pf2D_Decoder', None)\n",
    "    active_two_step_decoder = curr_active_pipeline.computation_results[active_config_name].computed_data.get('pf2D_TwoStepDecoder', None)\n",
    "    active_extended_stats = curr_active_pipeline.computation_results[active_config_name].computed_data.get('extended_stats', None)\n",
    "    active_eloy_analysis = curr_active_pipeline.computation_results[active_config_name].computed_data.get('EloyAnalysis', None)\n",
    "    active_simpler_pf_densities_analysis = curr_active_pipeline.computation_results[active_config_name].computed_data.get('SimplerNeuronMeetingThresholdFiringAnalysis', None)\n",
    "    active_ratemap_peaks_analysis = curr_active_pipeline.computation_results[active_config_name].computed_data.get('RatemapPeaksAnalysis', None)\n",
    "    active_peak_prominence_2d_results = curr_active_pipeline.computation_results[active_config_name].computed_data.get('RatemapPeaksAnalysis', {}).get('PeakProminence2D', None)\n",
    "    active_measured_positions = curr_active_pipeline.computation_results[active_config_name].sess.position.to_dataframe()\n",
    "    curr_spikes_df = sess.spikes_df\n",
    "\n",
    "    curr_active_config = curr_active_pipeline.active_configs[active_config_name]\n",
    "    curr_active_display_config = curr_active_config.plotting_config\n",
    "\n",
    "    active_display_output = curr_active_pipeline.display_output[active_identifying_filtered_session_ctx]\n",
    "    print(f'active_display_output: {active_display_output}')\n",
    "\n",
    "    # Create `master_dock_win` - centralized plot output window to collect individual figures/controls in (2022-08-18)\n",
    "    display_output = active_display_output | curr_active_pipeline.display('_display_context_nested_docks', active_identifying_session_ctx, enable_gui=False, debug_print=True) # returns {'master_dock_win': master_dock_win, 'app': app, 'out_items': out_items}\n",
    "    master_dock_win = display_output['master_dock_win']\n",
    "    app = display_output['app']\n",
    "    out_items = display_output['out_items']\n",
    "\n",
    "    def _get_curr_figure_format_config():\n",
    "        \"\"\" Aims to fetch the current figure_format_config and context from the figure_format_config widget:    \n",
    "        Implicitly captures: `out_items`, `active_config_name`, `active_identifying_filtered_session_ctx` \n",
    "        \"\"\"\n",
    "        ## Get the figure_format_config from the figure_format_config widget:\n",
    "        # Fetch the context from the GUI:\n",
    "        _curr_gui_session_ctx, _curr_gui_out_display_items = out_items[active_config_name]\n",
    "        _curr_gui_figure_format_config_widget = _curr_gui_out_display_items[active_identifying_filtered_session_ctx.adding_context('display_fn', display_fn_name='figure_format_config_widget')] # [0] is seemingly not needed to unpack the tuple\n",
    "        if _curr_gui_figure_format_config_widget is not None:\n",
    "            # has GUI for config\n",
    "            figure_format_config = _curr_gui_figure_format_config_widget.figure_format_config\n",
    "        else:\n",
    "            # has non-GUI provider of figure_format_config\n",
    "            figure_format_config = _curr_gui_figure_format_config_widget.figure_format_config\n",
    "\n",
    "        if debug_print:\n",
    "            print(f'recovered gui figure_format_config: {figure_format_config}')\n",
    "\n",
    "        return figure_format_config\n",
    "\n",
    "    figure_format_config = _get_curr_figure_format_config()\n",
    "\n",
    "    ## PDF Output, NOTE this is single plot stuff: uses active_config_name\n",
    "    from matplotlib.backends import backend_pdf\n",
    "    from pyphoplacecellanalysis.General.Mixins.ExportHelpers import build_pdf_export_metadata\n",
    "\n",
    "    filter_name = active_config_name\n",
    "    _build_pdf_pages_output_info, programmatic_display_function_testing_output_parent_path = build_pdf_export_metadata(curr_active_pipeline.sess.get_description(), filter_name=filter_name)\n",
    "    print(f'Figure Output path: {str(programmatic_display_function_testing_output_parent_path)}')\n",
    "    \n",
    "    \n",
    "    ## Test getting figure save paths:\n",
    "    _test_fig_path = curr_active_config.plotting_config.get_figure_save_path('test')\n",
    "    print(f'_test_fig_path: {_test_fig_path}\\n\\t exists? {_test_fig_path.exists()}')\n",
    "\n",
    "    return active_identifying_filtered_session_ctx, programmatic_display_function_testing_output_parent_path\n",
    "    \n",
    "\n",
    "# active_config_name = 'maze1'\n",
    "# active_config_name = 'maze2'\n",
    "# active_config_name = 'maze'\n",
    "# active_config_name = 'sprinkle'\n",
    "\n",
    "# active_config_name = 'maze_PYR'\n",
    "\n",
    "# active_config_name = 'maze1_rippleOnly'\n",
    "# active_config_name = 'maze2_rippleOnly'\n",
    "\n",
    "# active_config_name = curr_active_pipeline.active_config_names[0] # get the first name by default\n",
    "active_config_name = curr_active_pipeline.active_config_names[-1] # get the last name\n",
    "\n",
    "active_identifying_filtered_session_ctx, programmatic_display_function_testing_output_parent_path = process_session_plots(curr_active_pipeline, active_config_name)"
   ]
  },
  {
   "cell_type": "markdown",
   "id": "44dd1ae1-a5cd-4a03-bc11-dbb77dc161b8",
   "metadata": {
    "tags": []
   },
   "source": [
    "### Single (Session, Filter) Context Plotting:"
   ]
  },
  {
   "cell_type": "markdown",
   "id": "774fe569-bbb0-4112-816d-bdbcba78dab5",
   "metadata": {
    "tags": []
   },
   "source": [
    "#### Utility:"
   ]
  },
  {
   "cell_type": "code",
   "execution_count": null,
   "id": "cc39ef8c-731a-47e5-9471-8f64d9e5511d",
   "metadata": {
    "scrolled": true
   },
   "outputs": [],
   "source": [
    "# Reload display functions:\n",
    "curr_active_pipeline.reload_default_display_functions()\n",
    "curr_active_pipeline.registered_display_function_names # ['_display_1d_placefield_validations', '_display_2d_placefield_result_plot_ratemaps_2D', '_display_2d_placefield_result_plot_raw', '_display_normal', '_display_placemaps_pyqtplot_2D', '_display_decoder_result', '_display_plot_most_likely_position_comparisons', '_display_two_step_decoder_prediction_error_2D', '_display_two_step_decoder_prediction_error_animated_2D', '_display_spike_rasters_pyqtplot_2D', '_display_spike_rasters_pyqtplot_3D', '_display_spike_rasters_pyqtplot_3D_with_2D_controls', '_display_spike_rasters_vedo_3D', '_display_spike_rasters_vedo_3D_with_2D_controls', '_display_spike_rasters_window', '_display_speed_vs_PFoverlapDensity_plots', '_display_3d_image_plotter', '_display_3d_interactive_custom_data_explorer', '_display_3d_interactive_spike_and_behavior_browser', '_display_3d_interactive_tuning_curves_plotter']\n",
    "print(curr_active_pipeline.registered_display_function_names)"
   ]
  },
  {
   "cell_type": "code",
   "execution_count": null,
   "id": "6f563259-19f3-4d85-bb53-ae88e389cde9",
   "metadata": {},
   "outputs": [],
   "source": [
    "%matplotlib --list \n",
    "# Available matplotlib backends: ['tk', 'gtk', 'gtk3', 'gtk4', 'wx', 'qt4', 'qt5', 'qt6', 'qt', 'osx', 'nbagg', 'notebook', 'agg', 'svg', 'pdf', 'ps', 'inline', 'ipympl', 'widget']"
   ]
  },
  {
   "cell_type": "code",
   "execution_count": null,
   "id": "e3ed2748-0817-42dc-93b8-6648d3c16caf",
   "metadata": {},
   "outputs": [],
   "source": [
    "%matplotlib qt\n",
    "## NOTE THAT ONCE THIS IS SET TO qt, it cannot be undone!"
   ]
  },
  {
   "cell_type": "markdown",
   "id": "4a062f0e-dfdf-4f95-a412-7cb8bbafb7c0",
   "metadata": {
    "tags": []
   },
   "source": [
    "### Systematic Display Function Testing"
   ]
  },
  {
   "cell_type": "markdown",
   "id": "7811d710-3ada-437f-827d-0eeacbcbe16b",
   "metadata": {
    "tags": []
   },
   "source": [
    "#### Matplotlib-based plots:"
   ]
  },
  {
   "cell_type": "code",
   "execution_count": null,
   "id": "de4d9f10-e1ca-485d-af0f-4cd9a40562ae",
   "metadata": {
    "pycharm": {
     "name": "#%%\n"
    }
   },
   "outputs": [],
   "source": [
    "import matplotlib\n",
    "# matplotlib.use('AGG') # non-interactive backend\n",
    "# %matplotlib -l\n",
    "\n",
    "matplotlib.use('Qt5Agg') # non-interactive backend\n",
    "## 2022-08-16 - Surprisingly this works to make the matplotlib figures render only to .png file, not appear on the screen!\n",
    "\n",
    "curr_active_pipeline.filtered_session_names # ['maze', 'sprinkle']\n",
    "active_config_name = 'maze'\n",
    "\n",
    "active_display_to_pdf_fn = programmatic_display_to_PDF"
   ]
  },
  {
   "cell_type": "code",
   "execution_count": null,
   "id": "0217fa1d-86bd-4a3f-9413-3ae52901aef9",
   "metadata": {
    "scrolled": true
   },
   "outputs": [],
   "source": [
    "%%capture\n",
    "active_display_to_pdf_fn(curr_active_pipeline, curr_display_function_name='_display_1d_placefield_validations') # 🟢✅ Now seems to be working and saving to PDF!! Still using matplotlib.use('Qt5Agg') mode and plots still appear. Moderate visual improvements can still be made (titles overlap and stuff). Works with %%capture\n",
    "\n",
    "# active_display_to_pdf_fn(curr_active_pipeline, curr_display_function_name='_display_1d_placefield_validations', filter_name=active_config_name) # 🟢✅ Now seems to be working and saving to PDF!! Still using matplotlib.use('Qt5Agg') mode and plots still appear. Moderate visual improvements can still be made (titles overlap and stuff). Works with %%capture"
   ]
  },
  {
   "cell_type": "code",
   "execution_count": null,
   "id": "b0d9db48-c37b-4e67-8486-ddc1b0c7fba0",
   "metadata": {
    "scrolled": true
   },
   "outputs": [],
   "source": [
    "# %%capture\n",
    "active_display_to_pdf_fn(curr_active_pipeline, curr_display_function_name='_display_2d_placefield_result_plot_raw', debug_print=False) # 🔇🆖❌ IndexError: index 80 is out of bounds for GridSpec with size 80"
   ]
  },
  {
   "cell_type": "code",
   "execution_count": null,
   "id": "24c52598-3352-4b11-bb72-9dea8e55e527",
   "metadata": {
    "scrolled": true
   },
   "outputs": [],
   "source": [
    "# %%capture\n",
    "active_display_to_pdf_fn(curr_active_pipeline, curr_display_function_name='_display_1d_placefields', debug_print=False) # 🟢✅ Now seems to be working and saving to PDF!! Still using matplotlib.use('Qt5Agg') mode and plots still appear."
   ]
  },
  {
   "cell_type": "code",
   "execution_count": null,
   "id": "282bf408-5a13-47a3-a3c9-5c3d55454b4a",
   "metadata": {
    "tags": []
   },
   "outputs": [],
   "source": [
    "active_display_to_pdf_fn(curr_active_pipeline, curr_display_function_name='_display_1d_placefields', debug_print=True)"
   ]
  },
  {
   "cell_type": "code",
   "execution_count": null,
   "id": "bca4c701-a343-44c4-a2d7-68d6b975b6a6",
   "metadata": {
    "tags": []
   },
   "outputs": [],
   "source": [
    "active_display_to_pdf_fn(curr_active_pipeline, curr_display_function_name='_display_normal', debug_print=True) # 🐞❌ TypeError: unhashable type: 'list'"
   ]
  },
  {
   "cell_type": "code",
   "execution_count": null,
   "id": "e7038ae4-17ce-491c-a1d3-e934537ed550",
   "metadata": {
    "tags": []
   },
   "outputs": [],
   "source": [
    "# %%capture\n",
    "active_display_to_pdf_fn(curr_active_pipeline, curr_display_function_name='_display_2d_placefield_result_plot_ratemaps_2D') #  🟢✅ Now seems to be working and saving to PDF!! Still using matplotlib.use('Qt5Agg') mode and plots still appear."
   ]
  },
  {
   "cell_type": "code",
   "execution_count": null,
   "id": "c2f8696f-45c6-4870-93f6-713246d455fe",
   "metadata": {
    "scrolled": true
   },
   "outputs": [],
   "source": [
    "%%capture\n",
    "active_display_to_pdf_fn(curr_active_pipeline, curr_display_function_name='_display_normal', filter_name=active_config_name) # 🐞❌ TypeError: unhashable type: 'list'"
   ]
  },
  {
   "cell_type": "markdown",
   "id": "1b16c86e-5dc1-4918-a115-7ae99eae1084",
   "metadata": {
    "tags": []
   },
   "source": [
    "### 🐞👁️‍🗨️🔜 TODO: FINISH THIS UP AND FIGURE OUT WHATEVER THE HELL I'M DOING HERE"
   ]
  },
  {
   "cell_type": "code",
   "execution_count": null,
   "id": "0b62efd2-f8f3-4dc7-baa9-67fcbdf3f983",
   "metadata": {
    "scrolled": true
   },
   "outputs": [],
   "source": [
    "curr_display_function_name = '_display_2d_placefield_result_plot_ratemaps_2D'\n",
    "built_pdf_metadata, curr_pdf_save_path = _build_pdf_pages_output_info(curr_display_function_name)\n",
    "out_fig_list = []\n",
    "active_identifying_display_ctx = active_identifying_filtered_session_ctx.adding_context('display_fn', display_fn_name=curr_display_function_name)\n",
    "figure_format_config = _get_curr_figure_format_config() # Fetch the context from the GUI\n",
    "figure_format_config['enable_saving_to_disk'] = False # don't use the in-built figure export/saving to disk functionality as we want to wrap the output figure with the Pdf saving, not write to a .png\n",
    "with backend_pdf.PdfPages(curr_pdf_save_path, keep_empty=False, metadata=built_pdf_metadata) as pdf:\n",
    "    ## TypeError: neuropy.utils.debug_helpers.safely_accepts_kwargs.<locals>._safe_kwargs_fn() got multiple values for keyword argument 'computation_config'\n",
    "    for filter_name in curr_active_pipeline.filtered_session_names:\n",
    "        print(f'filter_name: {filter_name}')\n",
    "        active_identifying_ctx = active_identifying_display_ctx.adding_context('plot_variable', variable_name=enumTuningMap2DPlotVariables.SPIKES_MAPS)\n",
    "        active_identifying_ctx_string = active_identifying_ctx.get_description(separator='|') # Get final discription string\n",
    "        out_fig_list.extend(curr_active_pipeline.display(curr_display_function_name, filter_name, plot_variable=enumTuningMap2DPlotVariables.SPIKES_MAPS, fignum=active_identifying_ctx_string, **figure_format_config)) # works!\n",
    "        active_identifying_ctx = active_identifying_display_ctx.adding_context('plot_variable', variable_name=enumTuningMap2DPlotVariables.TUNING_MAPS)\n",
    "        active_identifying_ctx_string = active_identifying_ctx.get_description(separator='|') # Get final discription string\n",
    "        out_fig_list.extend(curr_active_pipeline.display(curr_display_function_name, filter_name, plot_variable=enumTuningMap2DPlotVariables.TUNING_MAPS, fignum=active_identifying_ctx_string, **figure_format_config))\n",
    "        for a_fig in out_fig_list:\n",
    "            pdf.savefig(a_fig, transparent=True)\n",
    "            \n",
    "# 🐞🔇🆖❌ NameError: name '_build_pdf_pages_output_info' is not defined"
   ]
  },
  {
   "cell_type": "code",
   "execution_count": null,
   "id": "ee9fad5b-4871-46a6-b4a4-b50480bca489",
   "metadata": {
    "scrolled": true
   },
   "outputs": [],
   "source": [
    "%%capture\n",
    "curr_display_function_name = '_display_decoder_result'\n",
    "built_pdf_metadata, curr_pdf_save_path = _build_pdf_pages_output_info(curr_display_function_name)\n",
    "with backend_pdf.PdfPages(curr_pdf_save_path, keep_empty=False, metadata=built_pdf_metadata) as pdf:\n",
    "    plots = curr_active_pipeline.display(curr_display_function_name, filter_name)\n",
    "    print(plots)\n",
    "    # pdf.savefig(a_fig)\n",
    "    \n",
    "    \n",
    "# 🐞🔇🆖❌ NameError: name '_build_pdf_pages_output_info' is not defined"
   ]
  },
  {
   "cell_type": "markdown",
   "id": "c229b27a-32fb-4032-b0a1-f40034bf6bb5",
   "metadata": {
    "tags": []
   },
   "source": [
    "#### PyQtGraph-based plots:"
   ]
  },
  {
   "cell_type": "markdown",
   "id": "d11a9839-3fd4-4fd8-988c-61144c84051a",
   "metadata": {
    "tags": []
   },
   "source": [
    "#### PyQtGraph-based Pf2D Viewers:"
   ]
  },
  {
   "cell_type": "code",
   "execution_count": null,
   "id": "68fa3058-24c9-49e1-af41-cad50df2d829",
   "metadata": {},
   "outputs": [],
   "source": [
    "# 🟢✅ Nearly Completely Working - Needs subplot labels changed to match standardized matplotlib version, needs color scheme set consistently to matplotlib version, needs colorbars removed\n",
    "from pyphoplacecellanalysis.GUI.PyQtPlot.BinnedImageRenderingWindow import BasicBinnedImageRenderingWindow, add_bin_ticks, build_binned_imageItem\n",
    "from neuropy.utils.matplotlib_helpers import _build_variable_max_value_label, enumTuningMap2DPlotMode, enumTuningMap2DPlotVariables, _determine_best_placefield_2D_layout, _scale_current_placefield_to_acceptable_range\n",
    "from pyphoplacecellanalysis.Pho2D.PyQtPlots.plot_placefields import display_all_pf_2D_pyqtgraph_binned_image_rendering\n",
    "\n",
    "# NOTE FILTER SPECIFIC: active_config_name and active_pf_2D depend on active_config_name\n",
    "\n",
    "## Get the figure_format_config from the figure_format_config widget:\n",
    "active_identifying_display_ctx = active_identifying_filtered_session_ctx.adding_context('display_fn', display_fn_name='display_all_pf_2D_pyqtgraph_binned_image_rendering')\n",
    "figure_format_config = _get_curr_figure_format_config() # Fetch the context from the GUI\n",
    "out_all_pf_2D_pyqtgraph_binned_image_fig = display_all_pf_2D_pyqtgraph_binned_image_rendering(active_pf_2D, figure_format_config)"
   ]
  },
  {
   "cell_type": "code",
   "execution_count": null,
   "id": "6cd7686d-b854-44bf-a6e3-fb7c338380b6",
   "metadata": {},
   "outputs": [],
   "source": [
    "out_all_pf_2D_pyqtgraph_binned_image_fig.setWindowTitle(f'{active_identifying_display_ctx.get_description()}')"
   ]
  },
  {
   "cell_type": "code",
   "execution_count": null,
   "id": "158ffab7-de5e-43af-8162-bff293df838b",
   "metadata": {},
   "outputs": [],
   "source": [
    "images = active_one_step_decoder.ratemap.normalized_tuning_curves\n",
    "images.shape # (66, 41, 63)"
   ]
  },
  {
   "cell_type": "code",
   "execution_count": null,
   "id": "1048f102-f9d2-4c2e-96d7-4d8eb820a7fe",
   "metadata": {},
   "outputs": [],
   "source": [
    "# 🟢🚧🟨 Almost Working - Needs subplot labels changed from Cell[i] to the appropriate standardized titles. Needs other minor refinements.\n",
    "# 🚧 pyqtplot_plot_image_array needs major improvements to achieve feature pairity with display_all_pf_2D_pyqtgraph_binned_image_rendering, so probably just use display_all_pf_2D_pyqtgraph_binned_image_rendering.  \n",
    "from pyphoplacecellanalysis.Pho2D.PyQtPlots.plot_placefields import pyqtplot_plot_image_array\n",
    "\n",
    "# Get the decoders from the computation result:       \n",
    "# Get flat list of images:\n",
    "images = active_one_step_decoder.ratemap.normalized_tuning_curves # (43, 63, 63)\n",
    "occupancy = active_one_step_decoder.ratemap.occupancy\n",
    "\n",
    "active_identifying_display_ctx = active_identifying_filtered_session_ctx.adding_context('display_fn', display_fn_name='pyqtplot_plot_image_array')\n",
    "figure_format_config = _get_curr_figure_format_config() # Fetch the context from the GUI\n",
    "## Get final discription string:\n",
    "active_identifying_ctx_string = active_identifying_display_ctx.get_description(separator='|')\n",
    "print(f'active_identifying_ctx_string: {active_identifying_ctx_string}')\n",
    "\n",
    "## Build the widget:\n",
    "app, parent_root_widget, root_render_widget, plot_array, img_item_array, other_components_array = pyqtplot_plot_image_array(active_one_step_decoder.xbin, active_one_step_decoder.ybin, images, occupancy, \n",
    "                                                                        app=None, parent_root_widget=None, root_render_widget=None, max_num_columns=8)\n",
    "parent_root_widget.show()\n",
    "if master_dock_win is not None:\n",
    "    # if there's an open master_dock_win, add this widget as a child dock\n",
    "    master_dock_win.add_display_dock(identifier=active_identifying_ctx_string, widget=parent_root_widget, dockIsClosable=True)"
   ]
  },
  {
   "cell_type": "markdown",
   "id": "9c4fc1d3-0100-4bf1-8a9e-1ea7203d2b9c",
   "metadata": {
    "tags": []
   },
   "source": [
    "#### Decoder Plots:"
   ]
  },
  {
   "cell_type": "code",
   "execution_count": null,
   "id": "23a1e343-5737-4435-be8b-369483624fa4",
   "metadata": {
    "pycharm": {
     "name": "#%%\n"
    }
   },
   "outputs": [],
   "source": [
    "# Must switch back to the interactive backend here for the interactive/animated decoder plots:\n",
    "matplotlib.use('Qt5Agg')\n",
    "# backend_qt5agg\n",
    "import matplotlib.pyplot as plt\n",
    "# plt.switch_backend('Qt5Agg')"
   ]
  },
  {
   "cell_type": "code",
   "execution_count": null,
   "id": "8180d131-f7a6-44f4-b63d-b1d3ef9bb409",
   "metadata": {
    "pycharm": {
     "name": "#%%\n"
    }
   },
   "outputs": [],
   "source": [
    "curr_active_pipeline.display('_display_two_step_decoder_prediction_error_animated_2D', active_config_name, variable_name='p_x_given_n')"
   ]
  },
  {
   "cell_type": "code",
   "execution_count": null,
   "id": "840af86d-030a-4ba5-973d-316e94c16a61",
   "metadata": {
    "pycharm": {
     "name": "#%%\n"
    }
   },
   "outputs": [],
   "source": [
    "# ## MATPLOTLIB Imports:\n",
    "# import matplotlib\n",
    "# # configure backend here\n",
    "# matplotlib.use('Qt5Agg')\n",
    "# import matplotlib.pyplot as plt\n",
    "# import matplotlib as mpl\n",
    "## This plot looks phenominal, and the slider works!\n",
    "curr_active_pipeline.display('_display_two_step_decoder_prediction_error_2D', active_config_name, variable_name='p_x_given_n') # NOW: TypeError: _temp_debug_two_step_plots_animated_imshow() missing 1 required positional argument: 'time_binned_position_df'"
   ]
  },
  {
   "cell_type": "code",
   "execution_count": null,
   "id": "cd163714-1838-4c8d-9796-dc3823b11f0f",
   "metadata": {
    "pycharm": {
     "name": "#%%\n"
    }
   },
   "outputs": [],
   "source": [
    "curr_active_pipeline.display('_display_two_step_decoder_prediction_error_2D', active_config_name, variable_name='p_x_given_n_and_x_prev')  # this one doesn't work!"
   ]
  },
  {
   "cell_type": "code",
   "execution_count": null,
   "id": "78308cc1-7dea-49aa-814a-d2784de14981",
   "metadata": {},
   "outputs": [],
   "source": [
    "# Get the decoders from the computation result:\n",
    "# active_one_step_decoder = computation_result.computed_data['pf2D_Decoder']\n",
    "# active_two_step_decoder = computation_result.computed_data.get('pf2D_TwoStepDecoder', None)\n",
    "# active_measured_positions = computation_result.sess.position.to_dataframe()\n",
    "\n",
    "active_one_step_decoder # BayesianPlacemapPositionDecoder\n",
    "active_two_step_decoder\n",
    "\n",
    "## SAVE OUT THE RESULTS of the decoder:"
   ]
  },
  {
   "cell_type": "code",
   "execution_count": null,
   "id": "7ea8058a-d9a2-4a75-9de8-a6a3af0e690a",
   "metadata": {},
   "outputs": [],
   "source": []
  },
  {
   "cell_type": "code",
   "execution_count": null,
   "id": "fd4cd691-4c3f-48d2-b5d3-150231fdba4e",
   "metadata": {},
   "outputs": [],
   "source": [
    "## PDF Output, NOTE this is single plot stuff: uses active_config_name\n",
    "from matplotlib.backends import backend_pdf\n",
    "from pyphoplacecellanalysis.General.Mixins.ExportHelpers import create_daily_programmatic_display_function_testing_folder_if_needed, build_pdf_metadata_from_display_context, programmatic_display_to_PDF"
   ]
  },
  {
   "cell_type": "code",
   "execution_count": null,
   "id": "0f2967bd-dcf4-495c-8341-ae00e2230590",
   "metadata": {},
   "outputs": [],
   "source": [
    "## 2022-10-04 Modern Programmatic PDF outputs:\n",
    "# programmatic_display_to_PDF(curr_active_pipeline, curr_display_function_name='_display_plot_decoded_epoch_slices',  debug_print=False)\n",
    "programmatic_display_to_PDF(curr_active_pipeline, curr_display_function_name='_display_plot_decoded_epoch_slices', filter_epochs='ripple', decoding_time_bin_size=0.02, debug_test_max_num_slices=128, debug_print=True)"
   ]
  },
  {
   "cell_type": "code",
   "execution_count": null,
   "id": "fcf583b3-0a6b-44be-90ac-ed8803bdd100",
   "metadata": {},
   "outputs": [],
   "source": [
    "programmatic_display_to_PDF(curr_active_pipeline, curr_display_function_name='_display_plot_decoded_epoch_slices', filter_epochs='laps', debug_test_max_num_slices=128, debug_print=False)"
   ]
  },
  {
   "cell_type": "markdown",
   "id": "7aef1b4c-44bf-44ed-b0c3-9ecaa20ddb6a",
   "metadata": {
    "jp-MarkdownHeadingCollapsed": true,
    "pycharm": {
     "name": "#%%\n"
    },
    "tags": []
   },
   "source": [
    "### 🔜 2022-08-10 👁️‍🗨️ NOW: Plot animal positions on the computed posteriors:\n",
    "The process of plotting the animal position on the decoder plot needs to be refined. Currently it works by re-implementing \n",
    "\n",
    "🔜 NEXT STEP: TODO: Make a \"Datasource\" like approach perhaps to provide the actual animal position at each point in time?\n",
    "🐞🔜 BUG TODO: Noticed that for Bapun Day5 data, it looks like the current position point is being plotted incorrectly (it doesn't even move across the space much)"
   ]
  },
  {
   "cell_type": "code",
   "execution_count": null,
   "id": "2334b22e-4e6a-4c54-946e-2745f3ed2df5",
   "metadata": {
    "pycharm": {
     "name": "#%%\n"
    }
   },
   "outputs": [],
   "source": [
    "## Get the current positions at each of the time_window_centers:\n",
    "# active_resampled_measured_positions\n",
    "time_binned_pos_df = active_computed_data.extended_stats.time_binned_position_df\n",
    "active_resampled_pos_df = time_binned_pos_df  # 1717 rows × 16 columns\n",
    "active_resampled_measured_positions = active_resampled_pos_df[['x','y']].to_numpy() # The measured positions resampled (interpolated) at the window centers. \n",
    "# np.shape(active_resampled_measured_positions) # (1911, 2)\n",
    "active_one_step_decoder.active_time_window_centers.shape # (1911,)\n",
    "print(f'active_one_step_decoder.active_time_window_centers.shape: {active_one_step_decoder.active_time_window_centers.shape}')\n",
    "# Note this has 2900 rows × 24 columns and active_one_step_decoder.active_time_window_centers.shape is (2892,) for some reason. Shouldn't they be the same?"
   ]
  },
  {
   "cell_type": "code",
   "execution_count": null,
   "id": "52b41282-cdd9-4964-bbd0-2e0c809bc58e",
   "metadata": {
    "pycharm": {
     "name": "#%%\n"
    }
   },
   "outputs": [],
   "source": [
    "active_resampled_pos_df"
   ]
  },
  {
   "cell_type": "code",
   "execution_count": null,
   "id": "8a9393f2-0d56-46b5-ab94-eea2718d7e6a",
   "metadata": {},
   "outputs": [],
   "source": [
    "import matplotlib.pyplot as plt\n",
    "from matplotlib.widgets import Slider\n",
    "\n",
    "from PendingNotebookCode import _temp_debug_two_step_plots_animated_imshow\n",
    "\n",
    "# Get the decoders from the computation result:\n",
    "# active_one_step_decoder = computation_result.computed_data['pf2D_Decoder']\n",
    "# active_two_step_decoder = computation_result.computed_data.get('pf2D_TwoStepDecoder', None)\n",
    "# active_measured_positions = computation_result.sess.position.to_dataframe()\n",
    "\n",
    "def _debug_on_frame_update(new_frame_idx, ax):\n",
    "    print(f'_debug_on_frame_update(new_frame_idx: {new_frame_idx}, ax: {ax})')\n",
    "    pass\n",
    "\n",
    "# active_resampled_pos_df = active_computed_data.extended_stats.time_binned_position_df  # 1717 rows × 16 columns\n",
    "\n",
    "# Simple plot type 1:\n",
    "# plotted_variable_name = kwargs.get('variable_name', 'p_x_given_n') # Tries to get the user-provided variable name, otherwise defaults to 'p_x_given_n'\n",
    "plotted_variable_name = 'p_x_given_n' # Tries to get the user-provided variable name, otherwise defaults to 'p_x_given_n'\n",
    "_temp_debug_two_step_plots_animated_imshow(active_one_step_decoder, active_two_step_decoder, active_computed_data.extended_stats.time_binned_position_df, variable_name=plotted_variable_name, update_callback_function=_debug_on_frame_update) # Works"
   ]
  },
  {
   "cell_type": "code",
   "execution_count": null,
   "id": "5a7ef2e8-6e1c-48d5-9e76-b9f446ebe6ff",
   "metadata": {},
   "outputs": [],
   "source": []
  },
  {
   "cell_type": "code",
   "execution_count": null,
   "id": "991f9dbb-f65e-42b5-964a-3a88b5276bda",
   "metadata": {},
   "outputs": [],
   "source": []
  },
  {
   "cell_type": "code",
   "execution_count": null,
   "id": "792a48ab-9f8b-4215-b7e8-20e418c86518",
   "metadata": {},
   "outputs": [],
   "source": []
  },
  {
   "cell_type": "code",
   "execution_count": null,
   "id": "eef20765-0f3e-4348-a12f-fceccf0ccb85",
   "metadata": {
    "scrolled": true
   },
   "outputs": [],
   "source": [
    "curr_display_function_name = '_display_spike_rasters_pyqtplot_2D'\n",
    "curr_active_pipeline.display(curr_display_function_name, filter_name, debug_print=False, enable_saving_to_disk=enable_saving_to_disk) "
   ]
  },
  {
   "cell_type": "code",
   "execution_count": null,
   "id": "3b6322ea-88f5-475a-808d-340cd86ebff5",
   "metadata": {
    "scrolled": true
   },
   "outputs": [],
   "source": [
    "## Works, displays my velocity/density result for both 2D and 1D:\n",
    "# out_plot_1D, out_plot_2D = curr_active_pipeline.display('_display_speed_vs_PFoverlapDensity_plots', active_config_name)\n",
    "curr_display_function_name = '_display_speed_vs_PFoverlapDensity_plots'\n",
    "plots = curr_active_pipeline.display(curr_display_function_name, filter_name)\n",
    "plots"
   ]
  },
  {
   "cell_type": "code",
   "execution_count": null,
   "id": "01598d95-1b12-4d7f-9231-5c5384e68d77",
   "metadata": {
    "tags": []
   },
   "outputs": [],
   "source": [
    "curr_display_function_name = '_display_placemaps_pyqtplot_2D'\n",
    "out_plots = curr_active_pipeline.display(curr_display_function_name, filter_name, max_num_columns=8)    \n",
    "out_plots[1].show()"
   ]
  },
  {
   "cell_type": "code",
   "execution_count": null,
   "id": "e3321301-d9a1-46b9-b0a5-2d6a64e781c7",
   "metadata": {
    "tags": []
   },
   "outputs": [],
   "source": [
    "# a_plot = plots[0] # PlotWidget \n",
    "# a_plot_item = a_plot.plotItem # PlotItem\n",
    "# a_plot.scene() # GraphicsScene\n",
    "export_pyqtgraph_plot(plots[0])"
   ]
  }
 ],
 "metadata": {
  "kernelspec": {
   "display_name": "Python [conda env:phoviz_ultimate]",
   "language": "python",
   "name": "conda-env-phoviz_ultimate-py"
  },
  "language_info": {
   "codemirror_mode": {
    "name": "ipython",
    "version": 3
   },
   "file_extension": ".py",
   "mimetype": "text/x-python",
   "name": "python",
   "nbconvert_exporter": "python",
   "pygments_lexer": "ipython3",
   "version": "3.9.13"
  }
 },
 "nbformat": 4,
 "nbformat_minor": 5
}
