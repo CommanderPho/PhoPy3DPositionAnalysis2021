{
 "cells": [
  {
   "cell_type": "code",
   "execution_count": 17,
   "id": "713df827-456e-4e24-b605-a535b5f35386",
   "metadata": {},
   "outputs": [],
   "source": [
    "from pathlib import Path\n",
    "# import pickle\n",
    "import dill as pickle # requires mamba install dill -c conda-forge\n",
    "import dill.detect\n",
    "import pandas as pd\n",
    "import numpy as np\n",
    "\n",
    "from pyphoplacecellanalysis.General.Pipeline.Stages.Loading import loadData, saveData\n",
    "\n",
    "finalized_computation_results_out_pickle_test_file = Path(r'R:\\data\\KDIBA\\gor01\\one\\2006-6-07_11-26-53\\export\\computation_results.pkl')"
   ]
  },
  {
   "cell_type": "markdown",
   "id": "d80b4de9-1ce2-4b17-9150-d2b98eba5c07",
   "metadata": {},
   "source": [
    "Load Pickled data saved with:\n",
    "```python\n",
    "from pyphoplacecellanalysis.General.Pipeline.Stages.Loading import loadData, saveData\n",
    "finalized_computation_results_out_pickle_test_file = export_output_parent_dir.joinpath('computation_results.pkl')\n",
    "print(f'finalized_computation_results_out_pickle_test_file: {str(finalized_computation_results_out_pickle_test_file)}')\n",
    "saveData(finalized_computation_results_out_pickle_test_file, db=active_computed_data)\n",
    "```\n",
    "Saving (file mode 'w+b') loaded session pickle file results to R:\\data\\KDIBA\\gor01\\one\\2006-6-07_11-26-53\\export\\computation_results.pkl... to_dict(...): ['_save_intermediate_spikes_maps', 'config', 'position_srate', 'ndim', '_included_thresh_neurons_indx', '_peak_frate_filter_function', 'ratemap', 'ratemap_spiketrains', 'ratemap_spiketrains_pos', '_filtered_pos_df', '_filtered_spikes_df', 'xbin', 'ybin', 'bin_info']\n",
    "to_dict(...): ['_save_intermediate_spikes_maps', 'config', 'position_srate', 'ndim', '_included_thresh_neurons_indx', '_peak_frate_filter_function', 'ratemap', 'ratemap_spiketrains', 'ratemap_spiketrains_pos', '_filtered_pos_df', '_filtered_spikes_df', 'xbin', 'ybin', 'bin_info']\n",
    "done.\n"
   ]
  },
  {
   "cell_type": "code",
   "execution_count": 18,
   "id": "92a0273a-e130-4bc8-847b-0c6d5f464844",
   "metadata": {},
   "outputs": [
    {
     "name": "stdout",
     "output_type": "stream",
     "text": [
      "Loading saved session pickle file results to R:\\data\\KDIBA\\gor01\\one\\2006-6-07_11-26-53\\export\\computation_results.pkl... done.\n"
     ]
    },
    {
     "data": {
      "text/plain": [
       "{'curr_active_pipeline': <pyphoplacecellanalysis.General.Pipeline.NeuropyPipeline.NeuropyPipeline at 0x235c3ecc6d0>}"
      ]
     },
     "execution_count": 18,
     "metadata": {},
     "output_type": "execute_result"
    }
   ],
   "source": [
    "db = loadData(finalized_computation_results_out_pickle_test_file, debug_print=False)\n",
    "db"
   ]
  },
  {
   "cell_type": "code",
   "execution_count": 12,
   "id": "a407c43b-fd22-4e3f-9527-344c07c2b784",
   "metadata": {},
   "outputs": [
    {
     "name": "stdout",
     "output_type": "stream",
     "text": [
      "['pf1D', 'pf2D', 'pf1D_dt', 'pf2D_dt', 'pf2D_Decoder', 'pf2D_TwoStepDecoder', 'EloyAnalysis', 'SimplerNeuronMeetingThresholdFiringAnalysis', 'RatemapPeaksAnalysis', 'extended_stats', 'placefield_overlap', 'firing_rate_trends']\n"
     ]
    }
   ],
   "source": [
    "# list(db.keys())\n",
    "active_computed_data = db['active_computed_data']\n",
    "print(list(active_computed_data.keys())) # ['pf1D', 'pf2D', 'pf1D_dt', 'pf2D_dt', 'pf2D_Decoder', 'pf2D_TwoStepDecoder', 'EloyAnalysis', 'SimplerNeuronMeetingThresholdFiringAnalysis', 'RatemapPeaksAnalysis', 'extended_stats', 'placefield_overlap', 'firing_rate_trends']"
   ]
  },
  {
   "cell_type": "code",
   "execution_count": 5,
   "id": "3d2eea2c-6493-4ec6-afff-18ead502b4aa",
   "metadata": {},
   "outputs": [],
   "source": [
    "active_one_step_decoder = db['active_one_step_decoder'] # BayesianPlacemapPositionDecoder\n",
    "active_two_step_decoder = db['active_two_step_decoder'] # BayesianPlacemapPositionDecoder"
   ]
  },
  {
   "cell_type": "code",
   "execution_count": null,
   "id": "746ab647-69d1-488c-be44-8eb857aed902",
   "metadata": {},
   "outputs": [],
   "source": [
    "active_one_step_decoder.active_time_window_centers"
   ]
  },
  {
   "cell_type": "code",
   "execution_count": 6,
   "id": "60f9160e-c280-40e4-b934-c3c4ac6dd0c9",
   "metadata": {},
   "outputs": [
    {
     "data": {
      "text/plain": [
       "<BayesianPlacemapPositionDecoder: dict_keys(['time_bin_size', 'pf', 'spikes_df', 'debug_print', 'neuron_IDXs', 'neuron_IDs', 'F', 'P_x', 'unit_specific_time_binned_spike_counts', 'time_window_edges', 'time_window_edges_binning_info', 'total_spike_counts_per_window', 'time_window_centers', 'time_window_center_binning_info', 'flat_p_x_given_n', 'p_x_given_n', 'most_likely_position_flat_indicies', 'most_likely_position_indicies']);>"
      ]
     },
     "execution_count": 6,
     "metadata": {},
     "output_type": "execute_result"
    }
   ],
   "source": [
    "active_one_step_decoder"
   ]
  },
  {
   "cell_type": "code",
   "execution_count": null,
   "id": "604587d3-9be1-40c2-b73f-665bffcd6461",
   "metadata": {},
   "outputs": [],
   "source": []
  }
 ],
 "metadata": {
  "kernelspec": {
   "display_name": "Python [conda env:phoviz_ultimate]",
   "language": "python",
   "name": "conda-env-phoviz_ultimate-py"
  },
  "language_info": {
   "codemirror_mode": {
    "name": "ipython",
    "version": 3
   },
   "file_extension": ".py",
   "mimetype": "text/x-python",
   "name": "python",
   "nbconvert_exporter": "python",
   "pygments_lexer": "ipython3",
   "version": "3.9.13"
  }
 },
 "nbformat": 4,
 "nbformat_minor": 5
}
