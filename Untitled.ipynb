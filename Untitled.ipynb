{
 "cells": [
  {
   "cell_type": "code",
   "execution_count": 7,
   "id": "713df827-456e-4e24-b605-a535b5f35386",
   "metadata": {},
   "outputs": [],
   "source": [
    "from pathlib import Path\n",
    "# import pickle\n",
    "import dill as pickle # requires mamba install dill -c conda-forge\n",
    "import dill.detect\n",
    "import pandas as pd\n",
    "import numpy as np\n",
    "\n",
    "from pyphoplacecellanalysis.General.Pipeline.Stages.Loading import loadData, saveData\n",
    "\n",
    "finalized_computation_results_out_pickle_test_file = Path(r'R:\\data\\KDIBA\\gor01\\one\\2006-6-07_11-26-53\\export\\computation_results.pkl')"
   ]
  },
  {
   "cell_type": "markdown",
   "id": "d80b4de9-1ce2-4b17-9150-d2b98eba5c07",
   "metadata": {},
   "source": [
    "Load Pickled data saved with:\n",
    "```python\n",
    "from pyphoplacecellanalysis.General.Pipeline.Stages.Loading import loadData, saveData\n",
    "finalized_computation_results_out_pickle_test_file = export_output_parent_dir.joinpath('computation_results.pkl')\n",
    "print(f'finalized_computation_results_out_pickle_test_file: {str(finalized_computation_results_out_pickle_test_file)}')\n",
    "saveData(finalized_computation_results_out_pickle_test_file, db=active_computed_data)\n",
    "```\n",
    "Saving (file mode 'w+b') loaded session pickle file results to R:\\data\\KDIBA\\gor01\\one\\2006-6-07_11-26-53\\export\\computation_results.pkl... to_dict(...): ['_save_intermediate_spikes_maps', 'config', 'position_srate', 'ndim', '_included_thresh_neurons_indx', '_peak_frate_filter_function', 'ratemap', 'ratemap_spiketrains', 'ratemap_spiketrains_pos', '_filtered_pos_df', '_filtered_spikes_df', 'xbin', 'ybin', 'bin_info']\n",
    "to_dict(...): ['_save_intermediate_spikes_maps', 'config', 'position_srate', 'ndim', '_included_thresh_neurons_indx', '_peak_frate_filter_function', 'ratemap', 'ratemap_spiketrains', 'ratemap_spiketrains_pos', '_filtered_pos_df', '_filtered_spikes_df', 'xbin', 'ybin', 'bin_info']\n",
    "done.\n"
   ]
  },
  {
   "cell_type": "code",
   "execution_count": 8,
   "id": "5aa4f5a3-e13a-4882-8d2e-31114b701920",
   "metadata": {},
   "outputs": [
    {
     "name": "stdout",
     "output_type": "stream",
     "text": [
      "Loading saved session pickle file results to R:\\data\\KDIBA\\gor01\\one\\2006-6-07_11-26-53\\export\\computation_results.pkl... done.\n"
     ]
    },
    {
     "ename": "EOFError",
     "evalue": "Ran out of input",
     "output_type": "error",
     "traceback": [
      "\u001b[1;31m---------------------------------------------------------------------------\u001b[0m",
      "\u001b[1;31mEOFError\u001b[0m                                  Traceback (most recent call last)",
      "Input \u001b[1;32mIn [8]\u001b[0m, in \u001b[0;36m<cell line: 1>\u001b[1;34m()\u001b[0m\n\u001b[1;32m----> 1\u001b[0m db \u001b[38;5;241m=\u001b[39m \u001b[43mloadData\u001b[49m\u001b[43m(\u001b[49m\u001b[43mfinalized_computation_results_out_pickle_test_file\u001b[49m\u001b[43m,\u001b[49m\u001b[43m \u001b[49m\u001b[43mdebug_print\u001b[49m\u001b[38;5;241;43m=\u001b[39;49m\u001b[38;5;28;43;01mFalse\u001b[39;49;00m\u001b[43m)\u001b[49m\n\u001b[0;32m      2\u001b[0m db\n",
      "File \u001b[1;32mc:\\users\\pho\\repos\\pyphoplacecellanalysis\\src\\pyphoplacecellanalysis\\General\\Pipeline\\Stages\\Loading.py:38\u001b[0m, in \u001b[0;36mloadData\u001b[1;34m(pkl_path, debug_print)\u001b[0m\n\u001b[0;32m     36\u001b[0m \u001b[38;5;28;01mwith\u001b[39;00m ProgressMessagePrinter(pkl_path, \u001b[38;5;124m'\u001b[39m\u001b[38;5;124mLoading\u001b[39m\u001b[38;5;124m'\u001b[39m, \u001b[38;5;124m'\u001b[39m\u001b[38;5;124msaved session pickle file\u001b[39m\u001b[38;5;124m'\u001b[39m):\n\u001b[0;32m     37\u001b[0m     \u001b[38;5;28;01mwith\u001b[39;00m \u001b[38;5;28mopen\u001b[39m(pkl_path, \u001b[38;5;124m'\u001b[39m\u001b[38;5;124mrb\u001b[39m\u001b[38;5;124m'\u001b[39m) \u001b[38;5;28;01mas\u001b[39;00m dbfile:\n\u001b[1;32m---> 38\u001b[0m         db \u001b[38;5;241m=\u001b[39m \u001b[43mpickle\u001b[49m\u001b[38;5;241;43m.\u001b[39;49m\u001b[43mload\u001b[49m\u001b[43m(\u001b[49m\u001b[43mdbfile\u001b[49m\u001b[43m)\u001b[49m\n\u001b[0;32m     39\u001b[0m         \u001b[38;5;28;01mif\u001b[39;00m debug_print:\n\u001b[0;32m     40\u001b[0m             \u001b[38;5;28;01mfor\u001b[39;00m keys \u001b[38;5;129;01min\u001b[39;00m db:\n",
      "File \u001b[1;32m~\\miniconda3\\envs\\phoviz_ultimate\\lib\\site-packages\\dill\\_dill.py:373\u001b[0m, in \u001b[0;36mload\u001b[1;34m(file, ignore, **kwds)\u001b[0m\n\u001b[0;32m    367\u001b[0m \u001b[38;5;28;01mdef\u001b[39;00m \u001b[38;5;21mload\u001b[39m(file, ignore\u001b[38;5;241m=\u001b[39m\u001b[38;5;28;01mNone\u001b[39;00m, \u001b[38;5;241m*\u001b[39m\u001b[38;5;241m*\u001b[39mkwds):\n\u001b[0;32m    368\u001b[0m     \u001b[38;5;124;03m\"\"\"\u001b[39;00m\n\u001b[0;32m    369\u001b[0m \u001b[38;5;124;03m    Unpickle an object from a file.\u001b[39;00m\n\u001b[0;32m    370\u001b[0m \n\u001b[0;32m    371\u001b[0m \u001b[38;5;124;03m    See :func:`loads` for keyword arguments.\u001b[39;00m\n\u001b[0;32m    372\u001b[0m \u001b[38;5;124;03m    \"\"\"\u001b[39;00m\n\u001b[1;32m--> 373\u001b[0m     \u001b[38;5;28;01mreturn\u001b[39;00m \u001b[43mUnpickler\u001b[49m\u001b[43m(\u001b[49m\u001b[43mfile\u001b[49m\u001b[43m,\u001b[49m\u001b[43m \u001b[49m\u001b[43mignore\u001b[49m\u001b[38;5;241;43m=\u001b[39;49m\u001b[43mignore\u001b[49m\u001b[43m,\u001b[49m\u001b[43m \u001b[49m\u001b[38;5;241;43m*\u001b[39;49m\u001b[38;5;241;43m*\u001b[39;49m\u001b[43mkwds\u001b[49m\u001b[43m)\u001b[49m\u001b[38;5;241;43m.\u001b[39;49m\u001b[43mload\u001b[49m\u001b[43m(\u001b[49m\u001b[43m)\u001b[49m\n",
      "File \u001b[1;32m~\\miniconda3\\envs\\phoviz_ultimate\\lib\\site-packages\\dill\\_dill.py:646\u001b[0m, in \u001b[0;36mUnpickler.load\u001b[1;34m(self)\u001b[0m\n\u001b[0;32m    645\u001b[0m \u001b[38;5;28;01mdef\u001b[39;00m \u001b[38;5;21mload\u001b[39m(\u001b[38;5;28mself\u001b[39m): \u001b[38;5;66;03m#NOTE: if settings change, need to update attributes\u001b[39;00m\n\u001b[1;32m--> 646\u001b[0m     obj \u001b[38;5;241m=\u001b[39m \u001b[43mStockUnpickler\u001b[49m\u001b[38;5;241;43m.\u001b[39;49m\u001b[43mload\u001b[49m\u001b[43m(\u001b[49m\u001b[38;5;28;43mself\u001b[39;49m\u001b[43m)\u001b[49m\n\u001b[0;32m    647\u001b[0m     \u001b[38;5;28;01mif\u001b[39;00m \u001b[38;5;28mtype\u001b[39m(obj)\u001b[38;5;241m.\u001b[39m\u001b[38;5;18m__module__\u001b[39m \u001b[38;5;241m==\u001b[39m \u001b[38;5;28mgetattr\u001b[39m(_main_module, \u001b[38;5;124m'\u001b[39m\u001b[38;5;124m__name__\u001b[39m\u001b[38;5;124m'\u001b[39m, \u001b[38;5;124m'\u001b[39m\u001b[38;5;124m__main__\u001b[39m\u001b[38;5;124m'\u001b[39m):\n\u001b[0;32m    648\u001b[0m         \u001b[38;5;28;01mif\u001b[39;00m \u001b[38;5;129;01mnot\u001b[39;00m \u001b[38;5;28mself\u001b[39m\u001b[38;5;241m.\u001b[39m_ignore:\n\u001b[0;32m    649\u001b[0m             \u001b[38;5;66;03m# point obj class to main\u001b[39;00m\n",
      "\u001b[1;31mEOFError\u001b[0m: Ran out of input"
     ]
    }
   ],
   "source": [
    "db = loadData(finalized_computation_results_out_pickle_test_file, debug_print=False)\n",
    "db"
   ]
  },
  {
   "cell_type": "code",
   "execution_count": 3,
   "id": "59e4d462-b3bd-427e-96e1-d9d632d623a6",
   "metadata": {},
   "outputs": [
    {
     "ename": "TypeError",
     "evalue": "_trace() missing 1 required positional argument: 'boolean'",
     "output_type": "error",
     "traceback": [
      "\u001b[1;31m---------------------------------------------------------------------------\u001b[0m",
      "\u001b[1;31mTypeError\u001b[0m                                 Traceback (most recent call last)",
      "Input \u001b[1;32mIn [3]\u001b[0m, in \u001b[0;36m<cell line: 1>\u001b[1;34m()\u001b[0m\n\u001b[1;32m----> 1\u001b[0m \u001b[38;5;28;01mwith\u001b[39;00m \u001b[43mdill\u001b[49m\u001b[38;5;241;43m.\u001b[39;49m\u001b[43mdetect\u001b[49m\u001b[38;5;241;43m.\u001b[39;49m\u001b[43mtrace\u001b[49m\u001b[43m(\u001b[49m\u001b[43m)\u001b[49m:\n\u001b[0;32m      2\u001b[0m     db \u001b[38;5;241m=\u001b[39m loadData(finalized_computation_results_out_pickle_test_file, debug_print\u001b[38;5;241m=\u001b[39m\u001b[38;5;28;01mFalse\u001b[39;00m)\n\u001b[0;32m      3\u001b[0m     db\n",
      "\u001b[1;31mTypeError\u001b[0m: _trace() missing 1 required positional argument: 'boolean'"
     ]
    }
   ],
   "source": [
    "with dill.detect.trace():\n",
    "    db = loadData(finalized_computation_results_out_pickle_test_file, debug_print=False)\n",
    "    db"
   ]
  },
  {
   "cell_type": "code",
   "execution_count": null,
   "id": "3d2eea2c-6493-4ec6-afff-18ead502b4aa",
   "metadata": {},
   "outputs": [],
   "source": [
    "active_one_step_decoder = db['active_one_step_decoder'] # BayesianPlacemapPositionDecoder"
   ]
  },
  {
   "cell_type": "code",
   "execution_count": null,
   "id": "746ab647-69d1-488c-be44-8eb857aed902",
   "metadata": {},
   "outputs": [],
   "source": [
    "active_one_step_decoder.active_time_window_centers"
   ]
  },
  {
   "cell_type": "code",
   "execution_count": null,
   "id": "60f9160e-c280-40e4-b934-c3c4ac6dd0c9",
   "metadata": {},
   "outputs": [],
   "source": []
  }
 ],
 "metadata": {
  "kernelspec": {
   "display_name": "Python [conda env:phoviz_ultimate]",
   "language": "python",
   "name": "conda-env-phoviz_ultimate-py"
  },
  "language_info": {
   "codemirror_mode": {
    "name": "ipython",
    "version": 3
   },
   "file_extension": ".py",
   "mimetype": "text/x-python",
   "name": "python",
   "nbconvert_exporter": "python",
   "pygments_lexer": "ipython3",
   "version": "3.9.13"
  }
 },
 "nbformat": 4,
 "nbformat_minor": 5
}
