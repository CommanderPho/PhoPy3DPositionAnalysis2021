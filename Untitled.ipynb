{
 "cells": [
  {
   "cell_type": "code",
   "execution_count": 3,
   "id": "c3edb7cb-65be-452b-af89-7424d19a3b21",
   "metadata": {},
   "outputs": [],
   "source": [
    "\"\"\"\n",
    "@author: pho\n",
    "\"\"\"\n",
    "%load_ext autoreload\n",
    "%autoreload 2\n",
    "import sys\n",
    "import importlib\n",
    "from pyphocorehelpers.DataStructure.dynamic_parameters import DynamicParameters"
   ]
  },
  {
   "cell_type": "code",
   "execution_count": 4,
   "id": "7e7bcd5f-0291-49e5-b96e-ea97f43e6c17",
   "metadata": {},
   "outputs": [
    {
     "name": "stdout",
     "output_type": "stream",
     "text": [
      "DynamicParameters.__setitem__(self, key, value): key prop0, value 9\n",
      "DynamicParameters.__setitem__(self, key, value): key prop1, value tree\n",
      "DynamicParameters.__setitem__(self, key, value): key prop2, value JORB\n",
      "DynamicParameters.__setitem__(self, key, value): key prop9, value []\n"
     ]
    }
   ],
   "source": [
    "test2 = DynamicParameters(prop0=9, prop1='tree', prop2='JORB', prop9=list())"
   ]
  },
  {
   "cell_type": "code",
   "execution_count": 5,
   "id": "f4ac4926-cd54-4bd7-80f5-d4a35f4c0e6d",
   "metadata": {},
   "outputs": [
    {
     "data": {
      "text/plain": [
       "{'_mapping': {'prop0': 9, 'prop1': 'tree', 'prop2': 'JORB', 'prop9': []},\n",
       " '_keys_at_init': ['prop0', 'prop1', 'prop2', 'prop9']}"
      ]
     },
     "execution_count": 5,
     "metadata": {},
     "output_type": "execute_result"
    }
   ],
   "source": [
    "test2.__dict__"
   ]
  },
  {
   "cell_type": "code",
   "execution_count": 6,
   "id": "e7b55d01-604c-44dd-8f5e-713e38747738",
   "metadata": {},
   "outputs": [
    {
     "data": {
      "text/plain": [
       "['prop0', 'prop1', 'prop2', 'prop9']"
      ]
     },
     "execution_count": 6,
     "metadata": {},
     "output_type": "execute_result"
    }
   ],
   "source": [
    "list(test2.keys())"
   ]
  },
  {
   "cell_type": "code",
   "execution_count": null,
   "id": "f803eb39-79c2-4f3e-96d6-425f87fe6dbc",
   "metadata": {},
   "outputs": [],
   "source": [
    "list(test2.keys()), ['prop0', 'prop1', 'prop2', 'prop9']"
   ]
  },
  {
   "cell_type": "code",
   "execution_count": null,
   "id": "66ee5c88-bfc8-4676-8d6c-56994be14faa",
   "metadata": {},
   "outputs": [],
   "source": []
  },
  {
   "cell_type": "code",
   "execution_count": null,
   "id": "bb0536d2-6145-4565-81b1-57df893f48e0",
   "metadata": {},
   "outputs": [],
   "source": [
    "test2"
   ]
  },
  {
   "cell_type": "code",
   "execution_count": null,
   "id": "c5b12c2f-e4bc-4ed0-8249-7add7ab88b0e",
   "metadata": {},
   "outputs": [],
   "source": [
    "list(test2.keys())"
   ]
  },
  {
   "cell_type": "code",
   "execution_count": null,
   "id": "fa03a118-ca11-409d-b408-381bd333b1ab",
   "metadata": {},
   "outputs": [],
   "source": [
    "test2.__dir__()"
   ]
  },
  {
   "cell_type": "code",
   "execution_count": null,
   "id": "dfc62082-4d87-4e44-afd3-1409e2c00dce",
   "metadata": {},
   "outputs": [],
   "source": [
    "# list(test2.values()), [9, 'tree', 'JORB', [], 9]\n",
    "\n",
    "# list(test2.keys()), ['prop0', 'prop1', 'prop2', 'prop9', 'propA']"
   ]
  },
  {
   "cell_type": "code",
   "execution_count": 12,
   "id": "89587cac-ae33-40b8-a8aa-7655fc5e6428",
   "metadata": {},
   "outputs": [],
   "source": [
    "# active_unit_test = TestDynamicParametersMethods()\n",
    "# active_unit_test.run()\n",
    "\n",
    "# test2._keys_at_init\n",
    "\n",
    "test2.all_attributes\n",
    "# test2.original_attributes"
   ]
  },
  {
   "cell_type": "code",
   "execution_count": 8,
   "id": "c9d75a1e-ffe0-4a37-977f-6d8e15827ff1",
   "metadata": {},
   "outputs": [
    {
     "name": "stdout",
     "output_type": "stream",
     "text": [
      "DynamicParameters.__setitem__(self, key, value): key propA, value 9\n",
      "DynamicParameters.__getattr__(self, item): item _ipython_canary_method_should_not_exist_\n",
      "DynamicParameters.__getitem__(self, key): key _ipython_canary_method_should_not_exist_\n",
      "DynamicParameters.__getattr__(self, item: _ipython_canary_method_should_not_exist_) KeyError: Attribute could not be found in dictionary either!\n",
      "\t KeyError: '_ipython_canary_method_should_not_exist_'\n",
      "DynamicParameters.__getattr__(self, item): item _ipython_canary_method_should_not_exist_\n",
      "DynamicParameters.__getitem__(self, key): key _ipython_canary_method_should_not_exist_\n",
      "DynamicParameters.__getattr__(self, item: _ipython_canary_method_should_not_exist_) KeyError: Attribute could not be found in dictionary either!\n",
      "\t KeyError: '_ipython_canary_method_should_not_exist_'\n",
      "DynamicParameters.__getattr__(self, item): item _ipython_canary_method_should_not_exist_\n",
      "DynamicParameters.__getitem__(self, key): key _ipython_canary_method_should_not_exist_\n",
      "DynamicParameters.__getattr__(self, item: _ipython_canary_method_should_not_exist_) KeyError: Attribute could not be found in dictionary either!\n",
      "\t KeyError: '_ipython_canary_method_should_not_exist_'\n",
      "DynamicParameters.__getattr__(self, item): item _ipython_canary_method_should_not_exist_\n",
      "DynamicParameters.__getitem__(self, key): key _ipython_canary_method_should_not_exist_\n",
      "DynamicParameters.__getattr__(self, item: _ipython_canary_method_should_not_exist_) KeyError: Attribute could not be found in dictionary either!\n",
      "\t KeyError: '_ipython_canary_method_should_not_exist_'\n",
      "DynamicParameters.__getattr__(self, item): item _ipython_canary_method_should_not_exist_\n",
      "DynamicParameters.__getitem__(self, key): key _ipython_canary_method_should_not_exist_\n",
      "DynamicParameters.__getattr__(self, item: _ipython_canary_method_should_not_exist_) KeyError: Attribute could not be found in dictionary either!\n",
      "\t KeyError: '_ipython_canary_method_should_not_exist_'\n",
      "DynamicParameters.__getattr__(self, item): item _ipython_canary_method_should_not_exist_\n",
      "DynamicParameters.__getitem__(self, key): key _ipython_canary_method_should_not_exist_\n",
      "DynamicParameters.__getattr__(self, item: _ipython_canary_method_should_not_exist_) KeyError: Attribute could not be found in dictionary either!\n",
      "\t KeyError: '_ipython_canary_method_should_not_exist_'\n",
      "DynamicParameters.__getattr__(self, item): item _ipython_canary_method_should_not_exist_\n",
      "DynamicParameters.__getitem__(self, key): key _ipython_canary_method_should_not_exist_\n",
      "DynamicParameters.__getattr__(self, item: _ipython_canary_method_should_not_exist_) KeyError: Attribute could not be found in dictionary either!\n",
      "\t KeyError: '_ipython_canary_method_should_not_exist_'\n",
      "DynamicParameters.__getattr__(self, item): item _ipython_canary_method_should_not_exist_\n",
      "DynamicParameters.__getitem__(self, key): key _ipython_canary_method_should_not_exist_\n",
      "DynamicParameters.__getattr__(self, item: _ipython_canary_method_should_not_exist_) KeyError: Attribute could not be found in dictionary either!\n",
      "\t KeyError: '_ipython_canary_method_should_not_exist_'\n",
      "DynamicParameters.__getattr__(self, item): item _ipython_canary_method_should_not_exist_\n",
      "DynamicParameters.__getitem__(self, key): key _ipython_canary_method_should_not_exist_\n",
      "DynamicParameters.__getattr__(self, item: _ipython_canary_method_should_not_exist_) KeyError: Attribute could not be found in dictionary either!\n",
      "\t KeyError: '_ipython_canary_method_should_not_exist_'\n",
      "DynamicParameters.__getattr__(self, item): item _ipython_canary_method_should_not_exist_\n",
      "DynamicParameters.__getitem__(self, key): key _ipython_canary_method_should_not_exist_\n",
      "DynamicParameters.__getattr__(self, item: _ipython_canary_method_should_not_exist_) KeyError: Attribute could not be found in dictionary either!\n",
      "\t KeyError: '_ipython_canary_method_should_not_exist_'\n",
      "DynamicParameters.__getattr__(self, item): item _ipython_canary_method_should_not_exist_\n",
      "DynamicParameters.__getitem__(self, key): key _ipython_canary_method_should_not_exist_\n",
      "DynamicParameters.__getattr__(self, item: _ipython_canary_method_should_not_exist_) KeyError: Attribute could not be found in dictionary either!\n",
      "\t KeyError: '_ipython_canary_method_should_not_exist_'\n"
     ]
    },
    {
     "data": {
      "text/plain": [
       "DynamicParameters({'prop0': 9, 'prop1': 'tree', 'prop2': 'JORB', 'prop9': [], 'propA': 9})"
      ]
     },
     "execution_count": 8,
     "metadata": {},
     "output_type": "execute_result"
    }
   ],
   "source": [
    "test2['propA'] = 9\n",
    "test2"
   ]
  },
  {
   "cell_type": "code",
   "execution_count": 9,
   "id": "a8464d76-cb95-4049-9ffd-229598fb50f0",
   "metadata": {},
   "outputs": [
    {
     "data": {
      "text/plain": [
       "['propA']"
      ]
     },
     "execution_count": 9,
     "metadata": {},
     "output_type": "execute_result"
    }
   ],
   "source": [
    "test2.dynamically_added_attributes"
   ]
  },
  {
   "cell_type": "code",
   "execution_count": null,
   "id": "96bc33f0-741c-4bb0-91b5-ccf8c7974e11",
   "metadata": {},
   "outputs": [],
   "source": []
  }
 ],
 "metadata": {
  "kernelspec": {
   "display_name": "Python 3 (ipykernel)",
   "language": "python",
   "name": "python3"
  },
  "language_info": {
   "codemirror_mode": {
    "name": "ipython",
    "version": 3
   },
   "file_extension": ".py",
   "mimetype": "text/x-python",
   "name": "python",
   "nbconvert_exporter": "python",
   "pygments_lexer": "ipython3",
   "version": "3.9.9"
  }
 },
 "nbformat": 4,
 "nbformat_minor": 5
}
