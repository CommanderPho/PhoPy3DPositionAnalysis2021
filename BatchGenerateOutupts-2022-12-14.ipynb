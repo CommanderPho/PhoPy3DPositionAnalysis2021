{
 "cells": [
  {
   "cell_type": "markdown",
   "id": "7dd392e0-1cc6-407a-8c0c-18f66153a51b",
   "metadata": {},
   "source": [
    "# Imports"
   ]
  },
  {
   "cell_type": "code",
   "execution_count": 1,
   "id": "e8063c28-10a2-4e3d-a524-a09b38b4db06",
   "metadata": {},
   "outputs": [
    {
     "name": "stdout",
     "output_type": "stream",
     "text": [
      "Automatic pdb calling has been turned OFF\n"
     ]
    },
    {
     "name": "stderr",
     "output_type": "stream",
     "text": [
      "C:\\Users\\pho\\miniconda3\\envs\\phoviz_ultimate\\lib\\site-packages\\outdated\\utils.py:14: OutdatedPackageWarning: The package outdated is out of date. Your version is 0.2.1, the latest is 0.2.2.\n",
      "Set the environment variable OUTDATED_IGNORE=1 to disable these warnings.\n",
      "  return warn(\n"
     ]
    },
    {
     "name": "stdout",
     "output_type": "stream",
     "text": [
      "build_module_logger(module_name=\"Spike3D.pipeline\"):\n",
      "\t Module logger com.PhoHale.Spike3D.pipeline has file logging enabled and will log to EXTERNAL\\TESTING\\Logging\\debug_com.PhoHale.Spike3D.pipeline.log\n"
     ]
    }
   ],
   "source": [
    "%config IPCompleter.use_jedi = False\n",
    "%pdb off\n",
    "%load_ext viztracer\n",
    "%load_ext autoreload\n",
    "%autoreload 2\n",
    "import sys\n",
    "import importlib\n",
    "from pathlib import Path\n",
    "from benedict import benedict\n",
    "import numpy as np\n",
    "\n",
    "# required to enable non-blocking interaction:\n",
    "# %gui qt\n",
    "# !env QT_API=\"pyqt5\"\n",
    "%gui qt5\n",
    "# %gui qt6\n",
    "# from PyQt5.Qt import QApplication\n",
    "# # start qt event loop\n",
    "# _instance = QApplication.instance()\n",
    "# if not _instance:\n",
    "#     _instance = QApplication([])\n",
    "# app = _instance\n",
    "\n",
    "from copy import deepcopy\n",
    "from numba import jit\n",
    "import numpy as np\n",
    "import pandas as pd\n",
    "from benedict import benedict # https://github.com/fabiocaccamo/python-benedict#usage\n",
    "\n",
    "# Pho's Formatting Preferences\n",
    "# from pyphocorehelpers.preferences_helpers import set_pho_preferences, set_pho_preferences_concise, set_pho_preferences_verbose\n",
    "# set_pho_preferences_concise()\n",
    "\n",
    "## Pho's Custom Libraries:\n",
    "from pyphocorehelpers.general_helpers import CodeConversion\n",
    "from pyphocorehelpers.print_helpers import print_keys_if_possible, print_value_overview_only, document_active_variables\n",
    "\n",
    "# pyPhoPlaceCellAnalysis:\n",
    "from pyphoplacecellanalysis.General.Pipeline.NeuropyPipeline import NeuropyPipeline # get_neuron_identities\n",
    "\n",
    "# NeuroPy (Diba Lab Python Repo) Loading\n",
    "# from neuropy import core\n",
    "from neuropy.analyses.placefields import PlacefieldComputationParameters\n",
    "from neuropy.core.epoch import NamedTimerange\n",
    "from neuropy.core.session.Formats.BaseDataSessionFormats import DataSessionFormatRegistryHolder\n",
    "from neuropy.core.session.Formats.Specific.BapunDataSessionFormat import BapunDataSessionFormatRegisteredClass\n",
    "from neuropy.core.session.Formats.Specific.KDibaOldDataSessionFormat import KDibaOldDataSessionFormatRegisteredClass\n",
    "from neuropy.core.session.Formats.Specific.RachelDataSessionFormat import RachelDataSessionFormat\n",
    "from neuropy.core.session.Formats.Specific.HiroDataSessionFormat import HiroDataSessionFormatRegisteredClass\n",
    "\n",
    "## For computation parameters:\n",
    "from neuropy.analyses.placefields import PlacefieldComputationParameters\n",
    "from neuropy.utils.dynamic_container import DynamicContainer\n",
    "from neuropy.utils.result_context import IdentifyingContext\n",
    "from neuropy.core.session.Formats.BaseDataSessionFormats import find_local_session_paths\n",
    "\n",
    "# from PendingNotebookCode import _perform_batch_plot, _build_batch_plot_kwargs\n",
    "from pyphoplacecellanalysis.General.NonInteractiveWrapper import batch_load_session, SessionBatchProgress, batch_programmatic_figures, batch_extended_programmatic_figures\n",
    "\n",
    "session_batch_status = {}\n",
    "enable_saving_to_disk = False\n",
    "\n",
    "global_data_root_parent_path = Path(r'W:\\Data') # Windows Apogee\n",
    "# global_data_root_parent_path = Path(r'/media/MAX/Data') # Diba Lab Workstation Linux\n",
    "# global_data_root_parent_path = Path(r'/Volumes/MoverNew/data') # rMBP\n",
    "assert global_data_root_parent_path.exists(), f\"global_data_root_parent_path: {global_data_root_parent_path} does not exist! Is the right computer's config commented out above?\""
   ]
  },
  {
   "cell_type": "markdown",
   "id": "60fde1ef-b6bc-4500-866e-00a69be7f8de",
   "metadata": {
    "tags": []
   },
   "source": [
    "# Load Pipeline"
   ]
  },
  {
   "cell_type": "code",
   "execution_count": 2,
   "id": "d9983bae-c681-4fed-a552-e59630485b0f",
   "metadata": {},
   "outputs": [
    {
     "name": "stdout",
     "output_type": "stream",
     "text": [
      "local_session_names_list: ['2006-6-07_11-26-53', '2006-6-08_14-26-15', '2006-6-09_1-22-43', '2006-6-09_3-23-37', '2006-6-12_15-55-31', '2006-6-13_14-42-6']\n"
     ]
    },
    {
     "data": {
      "text/plain": [
       "{WindowsPath('W:/Data/KDIBA/gor01/one/2006-6-07_11-26-53'): <SessionBatchProgress.NOT_STARTED: 'NOT_STARTED'>,\n",
       " WindowsPath('W:/Data/KDIBA/gor01/one/2006-6-08_14-26-15'): <SessionBatchProgress.NOT_STARTED: 'NOT_STARTED'>,\n",
       " WindowsPath('W:/Data/KDIBA/gor01/one/2006-6-09_1-22-43'): <SessionBatchProgress.NOT_STARTED: 'NOT_STARTED'>,\n",
       " WindowsPath('W:/Data/KDIBA/gor01/one/2006-6-09_3-23-37'): <SessionBatchProgress.NOT_STARTED: 'NOT_STARTED'>,\n",
       " WindowsPath('W:/Data/KDIBA/gor01/one/2006-6-12_15-55-31'): <SessionBatchProgress.NOT_STARTED: 'NOT_STARTED'>,\n",
       " WindowsPath('W:/Data/KDIBA/gor01/one/2006-6-13_14-42-6'): <SessionBatchProgress.NOT_STARTED: 'NOT_STARTED'>}"
      ]
     },
     "execution_count": 2,
     "metadata": {},
     "output_type": "execute_result"
    }
   ],
   "source": [
    "# ==================================================================================================================== #\n",
    "# Load Data                                                                                                            #\n",
    "# ==================================================================================================================== #\n",
    "\n",
    "active_data_mode_name = 'kdiba'\n",
    "\n",
    "## Data must be pre-processed using the MATLAB script located here: \n",
    "#     neuropy/data_session_pre_processing_scripts/KDIBA/IIDataMat_Export_ToPython_2022_08_01.m\n",
    "# From pre-computed .mat files:\n",
    "\n",
    "local_session_root_parent_context = IdentifyingContext(format_name=active_data_mode_name) # , animal_name='', configuration_name='one', session_name=self.session_name\n",
    "local_session_root_parent_path = global_data_root_parent_path.joinpath('KDIBA')\n",
    "\n",
    "## Animal `gor01`:\n",
    "local_session_parent_context = local_session_root_parent_context.adding_context(collision_prefix='animal', animal='gor01', exper_name='one') # IdentifyingContext<('kdiba', 'gor01', 'one')>\n",
    "local_session_parent_path = local_session_root_parent_path.joinpath(local_session_parent_context.animal, local_session_parent_context.exper_name) # 'gor01', 'one'\n",
    "local_session_paths_list, local_session_names_list =  find_local_session_paths(local_session_parent_path, blacklist=['PhoHelpers', 'Spike3D-Minimal-Test', 'Unused'])\n",
    "\n",
    "# local_session_parent_context = local_session_root_parent_context.adding_context(collision_prefix='animal', animal='gor01', exper_name='two')\n",
    "# local_session_parent_path = local_session_root_parent_path.joinpath(local_session_parent_context.animal, local_session_parent_context.exper_name)\n",
    "# local_session_paths_list, local_session_names_list =  find_local_session_paths(local_session_parent_path, blacklist=[])\n",
    "\n",
    "### Animal `vvp01`:\n",
    "# local_session_parent_context = local_session_root_parent_context.adding_context(collision_prefix='animal', animal='vvp01', exper_name='one')\n",
    "# local_session_parent_path = local_session_root_parent_path.joinpath(local_session_parent_context.animal, local_session_parent_context.exper_name)\n",
    "# local_session_paths_list, local_session_names_list =  find_local_session_paths(local_session_parent_path, blacklist=[])\n",
    "\n",
    "# local_session_parent_context = local_session_root_parent_context.adding_context(collision_prefix='animal', animal='vvp01', exper_name='two')\n",
    "# local_session_parent_path = local_session_root_parent_path.joinpath(local_session_parent_context.animal, local_session_parent_context.exper_name)\n",
    "# local_session_paths_list, local_session_names_list =  find_local_session_paths(local_session_parent_path, blacklist=[])\n",
    "\n",
    "## Build session contexts list:\n",
    "local_session_contexts_list = [local_session_parent_context.adding_context(collision_prefix='sess', session_name=a_name) for a_name in local_session_names_list] # [IdentifyingContext<('kdiba', 'gor01', 'one', '2006-6-07_11-26-53')>, ..., IdentifyingContext<('kdiba', 'gor01', 'one', '2006-6-13_14-42-6')>]\n",
    "\n",
    "## Initialize `session_batch_status` with the NOT_STARTED status if it doesn't already have a different status\n",
    "for curr_session_basedir in local_session_paths_list:\n",
    "    curr_session_status = session_batch_status.get(curr_session_basedir, None)\n",
    "    if curr_session_status is None:\n",
    "        session_batch_status[curr_session_basedir] = SessionBatchProgress.NOT_STARTED # set to not started if not present\n",
    "        # session_batch_status[curr_session_basedir] = SessionBatchProgress.COMPLETED # set to not started if not present\n",
    "        \n",
    "\n",
    "session_batch_status"
   ]
  },
  {
   "cell_type": "code",
   "execution_count": null,
   "id": "dd04382a-07bb-4270-a3c5-7ca0c0a71518",
   "metadata": {
    "scrolled": true,
    "tags": []
   },
   "outputs": [],
   "source": [
    "## Run batch queue\n",
    "for curr_sess_ctx, curr_session_basedir, curr_session_name in zip(local_session_contexts_list, local_session_paths_list, local_session_names_list):\n",
    "    print(f'curr_session_basedir: {str(curr_session_basedir)}')\n",
    "    curr_session_status = session_batch_status.get(curr_session_basedir, None)\n",
    "    if curr_session_status.name != SessionBatchProgress.COMPLETED.name:\n",
    "        session_batch_status[curr_session_basedir] = SessionBatchProgress.NOT_STARTED\n",
    "        try:\n",
    "            session_batch_status[curr_session_basedir] = SessionBatchProgress.RUNNING\n",
    "            curr_active_pipeline = batch_load_session(global_data_root_parent_path, active_data_mode_name, curr_session_basedir, force_reload=False)\n",
    "            active_identifying_session_ctx, active_session_figures_out_path, active_out_figures_list = batch_programmatic_figures(curr_active_pipeline)\n",
    "            batch_extended_programmatic_figures(curr_active_pipeline)\n",
    "            session_batch_status[curr_session_basedir] = SessionBatchProgress.COMPLETED\n",
    "            print(f'completed processing for {curr_session_basedir}: {active_identifying_session_ctx}')\n",
    "        except Exception as e:\n",
    "            print(f'ERROR processing {curr_session_basedir} with error {e}')\n",
    "            session_batch_status[curr_session_basedir] = SessionBatchProgress.ABORTED\n",
    "            # raise e\n",
    "    else:\n",
    "        print(f'\\t already completed')\n",
    "\n",
    "print(f'session_batch_status: {session_batch_status}')\n",
    "print('!!! done running batch !!!')"
   ]
  },
  {
   "cell_type": "markdown",
   "id": "e1ab8feb-f917-4ac4-be40-20083a25f005",
   "metadata": {
    "tags": []
   },
   "source": [
    "# 🟢 Single basedir (non-batch) testing:"
   ]
  },
  {
   "cell_type": "code",
   "execution_count": 3,
   "id": "cba147e2-ff54-49c8-8229-8fe69391fad7",
   "metadata": {
    "tags": []
   },
   "outputs": [
    {
     "name": "stdout",
     "output_type": "stream",
     "text": [
      "basedir: W:\\Data\\KDIBA\\gor01\\one\\2006-6-08_14-26-15\n",
      "Loading loaded session pickle file results : W:\\Data\\KDIBA\\gor01\\one\\2006-6-08_14-26-15\\loadedSessPickle.pkl... WARNING: failed to unpickle PfND_TimeDependent - just resetting. Snapshots will not be loaded.\n",
      "WARNING: failed to unpickle PfND_TimeDependent - just resetting. Snapshots will not be loaded.\n",
      "WARNING: failed to unpickle PfND_TimeDependent - just resetting. Snapshots will not be loaded.\n",
      "WARNING: failed to unpickle PfND_TimeDependent - just resetting. Snapshots will not be loaded.\n",
      "WARNING: failed to unpickle PfND_TimeDependent - just resetting. Snapshots will not be loaded.\n",
      "WARNING: failed to unpickle PfND_TimeDependent - just resetting. Snapshots will not be loaded.\n",
      "done.\n",
      "Loading pickled pipeline success: W:\\Data\\KDIBA\\gor01\\one\\2006-6-08_14-26-15\\loadedSessPickle.pkl.\n",
      "property already present in pickled version. No need to save.\n",
      "is_common_filter_name: [ True  True  True]\n",
      "is_novel_filter_name: [False False False]\n",
      "common_filter_names: ['maze1' 'maze2' 'maze']\n",
      "prev_filter_src != active_filter_src\n",
      "prev_filter_src:\n",
      "    def build_global_epoch_filter_config_dict(cls, sess, global_epoch_name='maze', first_included_epoch_name=None, last_included_epoch_name=None, debug_print=False):\n",
      "        \"\"\" builds the 'global' filter for the entire session that includes by default the times from all other epochs in sess. \n",
      "        e.g. builds the 'maze' epoch from ['maze1', 'maze2'] epochs\n",
      "\n",
      "        Usage:\n",
      "            global_epoch_filter_fn_dict, global_named_timerange = build_global_epoch_filter_config_dict(sess, global_epoch_name='maze', first_included_epoch_name=None, last_included_epoch_name=None, debug_print=True)\n",
      "            global_epoch_filter_fn_dict\n",
      "\n",
      "        \"\"\"\n",
      "        all_epoch_names = list(sess.epochs.get_unique_labels()) # all_epoch_names # ['maze1', 'maze2']\n",
      "        if global_epoch_name in all_epoch_names:\n",
      "            global_epoch_name = f\"{global_epoch_name}_GLOBAL\"\n",
      "            print('WARNING: name collision \"{global_epoch_name}\" already exists in all_epoch_names: {all_epoch_names}! Using {global_epoch_name} instead.')\n",
      "        \n",
      "        if first_included_epoch_name is not None:\n",
      "            # global_start_end_times[0] = sess.epochs[first_included_epoch_name][0] # 'maze1'\n",
      "            pass\n",
      "        else:\n",
      "            first_included_epoch_name = sess.epochs.get_unique_labels()[0]\n",
      "            \n",
      "        if last_included_epoch_name is not None:\n",
      "            # global_start_end_times[1] = sess.epochs[last_included_epoch_name][1] # 'maze2'\n",
      "            pass\n",
      "        else:\n",
      "            last_included_epoch_name = sess.epochs.get_unique_labels()[-1]\n",
      "    \n",
      "        # global_start_end_times = [epochs.t_start, epochs.t_stop]\n",
      "        global_start_end_times = [sess.epochs[first_included_epoch_name][0], sess.epochs[last_included_epoch_name][1]]\n",
      "        # global_start_end_times_fn = lambda x: [sess.epochs[first_included_epoch_name][0], sess.epochs[last_included_epoch_name][1]]\n",
      "        \n",
      "        global_named_timerange = NamedTimerange(name=global_epoch_name, start_end_times=global_start_end_times)\n",
      "        # global_epoch_filter_fn = (lambda x: (x.filtered_by_epoch(NamedTimerange(name=global_epoch_name, start_end_times=[x.epochs['maze1'][0], x.epochs['maze2'][1]])), NamedTimerange(name=global_epoch_name, start_end_times=[x.epochs['maze1'][0], x.epochs['maze2'][1]])))\n",
      "        if debug_print:\n",
      "            print(f'global_named_timerange: {global_named_timerange}, first_included_epoch_name: {first_included_epoch_name}, last_included_epoch_name: {last_included_epoch_name}')\n",
      "        global_epoch_filter_fn = (lambda x: (x.filtered_by_epoch(NamedTimerange(name=global_epoch_name, start_end_times=[x.epochs[(first_included_epoch_name or x.epochs.get_unique_labels()[0])][0], x.epochs[(last_included_epoch_name or x.epochs.get_unique_labels()[-1])][1]])), NamedTimerange(name=global_epoch_name, start_end_times=[x.epochs[(first_included_epoch_name or x.epochs.get_unique_labels()[0])][0], x.epochs[(last_included_epoch_name or x.epochs.get_unique_labels()[-1])][1]])))\n",
      "        return {global_epoch_name: global_epoch_filter_fn}, global_named_timerange\n",
      "\n",
      "active_filter_src:\n",
      "        epoch_filter_configs_dict = {f'{an_epoch_name}{filter_name_suffix}':lambda a_sess, epoch_name=an_epoch_name: (a_sess.filtered_by_epoch(a_sess.epochs.get_named_timerange(epoch_name)), a_sess.epochs.get_named_timerange(epoch_name)) for an_epoch_name in epoch_name_whitelist}\n",
      "\n",
      "prev_filter_src != active_filter_src\n",
      "prev_filter_src:\n",
      "    def build_global_epoch_filter_config_dict(cls, sess, global_epoch_name='maze', first_included_epoch_name=None, last_included_epoch_name=None, debug_print=False):\n",
      "        \"\"\" builds the 'global' filter for the entire session that includes by default the times from all other epochs in sess. \n",
      "        e.g. builds the 'maze' epoch from ['maze1', 'maze2'] epochs\n",
      "\n",
      "        Usage:\n",
      "            global_epoch_filter_fn_dict, global_named_timerange = build_global_epoch_filter_config_dict(sess, global_epoch_name='maze', first_included_epoch_name=None, last_included_epoch_name=None, debug_print=True)\n",
      "            global_epoch_filter_fn_dict\n",
      "\n",
      "        \"\"\"\n",
      "        all_epoch_names = list(sess.epochs.get_unique_labels()) # all_epoch_names # ['maze1', 'maze2']\n",
      "        if global_epoch_name in all_epoch_names:\n",
      "            global_epoch_name = f\"{global_epoch_name}_GLOBAL\"\n",
      "            print('WARNING: name collision \"{global_epoch_name}\" already exists in all_epoch_names: {all_epoch_names}! Using {global_epoch_name} instead.')\n",
      "        \n",
      "        if first_included_epoch_name is not None:\n",
      "            # global_start_end_times[0] = sess.epochs[first_included_epoch_name][0] # 'maze1'\n",
      "            pass\n",
      "        else:\n",
      "            first_included_epoch_name = sess.epochs.get_unique_labels()[0]\n",
      "            \n",
      "        if last_included_epoch_name is not None:\n",
      "            # global_start_end_times[1] = sess.epochs[last_included_epoch_name][1] # 'maze2'\n",
      "            pass\n",
      "        else:\n",
      "            last_included_epoch_name = sess.epochs.get_unique_labels()[-1]\n",
      "    \n",
      "        # global_start_end_times = [epochs.t_start, epochs.t_stop]\n",
      "        global_start_end_times = [sess.epochs[first_included_epoch_name][0], sess.epochs[last_included_epoch_name][1]]\n",
      "        # global_start_end_times_fn = lambda x: [sess.epochs[first_included_epoch_name][0], sess.epochs[last_included_epoch_name][1]]\n",
      "        \n",
      "        global_named_timerange = NamedTimerange(name=global_epoch_name, start_end_times=global_start_end_times)\n",
      "        # global_epoch_filter_fn = (lambda x: (x.filtered_by_epoch(NamedTimerange(name=global_epoch_name, start_end_times=[x.epochs['maze1'][0], x.epochs['maze2'][1]])), NamedTimerange(name=global_epoch_name, start_end_times=[x.epochs['maze1'][0], x.epochs['maze2'][1]])))\n",
      "        if debug_print:\n",
      "            print(f'global_named_timerange: {global_named_timerange}, first_included_epoch_name: {first_included_epoch_name}, last_included_epoch_name: {last_included_epoch_name}')\n",
      "        global_epoch_filter_fn = (lambda x: (x.filtered_by_epoch(NamedTimerange(name=global_epoch_name, start_end_times=[x.epochs[(first_included_epoch_name or x.epochs.get_unique_labels()[0])][0], x.epochs[(last_included_epoch_name or x.epochs.get_unique_labels()[-1])][1]])), NamedTimerange(name=global_epoch_name, start_end_times=[x.epochs[(first_included_epoch_name or x.epochs.get_unique_labels()[0])][0], x.epochs[(last_included_epoch_name or x.epochs.get_unique_labels()[-1])][1]])))\n",
      "        return {global_epoch_name: global_epoch_filter_fn}, global_named_timerange\n",
      "\n",
      "active_filter_src:\n",
      "        epoch_filter_configs_dict = {f'{an_epoch_name}{filter_name_suffix}':lambda a_sess, epoch_name=an_epoch_name: (a_sess.filtered_by_epoch(a_sess.epochs.get_named_timerange(epoch_name)), a_sess.epochs.get_named_timerange(epoch_name)) for an_epoch_name in epoch_name_whitelist}\n",
      "\n",
      "prev_filter_src != active_filter_src\n",
      "prev_filter_src:\n",
      "    def get_registry_known_data_session_type_dict(cls, override_data_basepath=None):\n",
      "        \"\"\" returns a dict<str, KnownDataSessionTypeProperties> with keys corresponding to the registered short-names of the data_session_type (like 'kdiba', or 'bapun') and values of KnownDataSessionTypeProperties. \"\"\"\n",
      "        return {a_class._session_class_name:a_class.get_known_data_session_type_properties(override_basepath=override_data_basepath) for a_class_name, a_class in cls.get_registry().items() if a_class_name != 'DataSessionFormatBaseRegisteredClass'}\n",
      "\n",
      "active_filter_src:\n",
      "        global_epoch_filter_fn = (lambda x: (x.filtered_by_epoch(NamedTimerange(name=global_epoch_name, start_end_times=[x.epochs[(first_included_epoch_name or x.epochs.get_unique_labels()[0])][0], x.epochs[(last_included_epoch_name or x.epochs.get_unique_labels()[-1])][1]])), NamedTimerange(name=global_epoch_name, start_end_times=[x.epochs[(first_included_epoch_name or x.epochs.get_unique_labels()[0])][0], x.epochs[(last_included_epoch_name or x.epochs.get_unique_labels()[-1])][1]])))\n",
      "\n",
      "changed_filters_names_list: ['maze1', 'maze2', 'maze']\n",
      "WARNING: changed_filters_names_list > 0!: ['maze1', 'maze2', 'maze'] but these filters are in the changed_filters_ignore_list: ['maze1', 'maze2', 'maze']\n",
      "ignored_changed_filters_list: ['maze1', 'maze2', 'maze']\n",
      "WARNING: skipping computation because overwrite_extant_results=False and active_computation_results[maze1] already exists and is non-None\n",
      "\t TODO: this will prevent recomputation even when the blacklist/whitelist or computation function definitions change. Rework so that this is smarter.\n",
      "updating computation_results...\n",
      "done.\n",
      "WARNING: skipping computation because overwrite_extant_results=False and active_computation_results[maze2] already exists and is non-None\n",
      "\t TODO: this will prevent recomputation even when the blacklist/whitelist or computation function definitions change. Rework so that this is smarter.\n",
      "updating computation_results...\n",
      "done.\n",
      "WARNING: skipping computation because overwrite_extant_results=False and active_computation_results[maze] already exists and is non-None\n",
      "\t TODO: this will prevent recomputation even when the blacklist/whitelist or computation function definitions change. Rework so that this is smarter.\n",
      "updating computation_results...\n",
      "done.\n",
      "finalized_loaded_sess_pickle_path: W:\\Data\\KDIBA\\gor01\\one\\2006-6-08_14-26-15\\loadedSessPickle.pkl\n",
      "Saving (file mode 'w+b') saved session pickle file results : W:\\Data\\KDIBA\\gor01\\one\\2006-6-08_14-26-15\\20221213152417-loadedSessPickle.pkl... done.\n",
      "moving new output at 'W:\\Data\\KDIBA\\gor01\\one\\2006-6-08_14-26-15\\20221213152417-loadedSessPickle.pkl' -> to desired location: 'W:\\Data\\KDIBA\\gor01\\one\\2006-6-08_14-26-15\\loadedSessPickle.pkl'\n"
     ]
    }
   ],
   "source": [
    "# %pdb on\n",
    "basedir = local_session_paths_list[1] # NOT 3\n",
    "print(f'basedir: {str(basedir)}')\n",
    "\n",
    "# ==================================================================================================================== #\n",
    "# Load Pipeline                                                                                                        #\n",
    "# ==================================================================================================================== #\n",
    "curr_active_pipeline = batch_load_session(global_data_root_parent_path, active_data_mode_name, basedir, skip_save=False, force_reload=False)\n",
    "## SAVE AFTERWARDS!\n",
    "# curr_active_pipeline = batch_load_session(global_data_root_parent_path, active_data_mode_name, basedir, skip_save=False, force_reload=False, active_pickle_filename='loadedSessPickle - full-good.pkl')"
   ]
  },
  {
   "cell_type": "code",
   "execution_count": 4,
   "id": "0500d00a-ae74-4ce0-897d-72d30007f92e",
   "metadata": {},
   "outputs": [
    {
     "name": "stdout",
     "output_type": "stream",
     "text": [
      "global_computation_results is None. Building initial global_computation_results...\n",
      "Performing _execute_computation_functions(...) with 2 registered_computation_functions...\n",
      "include_whitelist: ['maze1', 'maze2', 'maze']\n",
      "long_epoch_name: maze1, short_epoch_name: maze2, global_epoch_name: maze\n",
      "Time window 375 has no spikes.\n",
      "Time window 690 has no spikes.\n",
      "include_whitelist: ['maze1', 'maze2', 'maze']\n",
      "long_epoch_name: maze1, short_epoch_name: maze2, global_epoch_name: maze\n",
      "_execute_computation_functions(...): \n",
      "\taccumulated_errors: None\n",
      "shared_aclus: [3, 5, 6, 7, 9, 10, 11, 12, 14, 15, 17, 18, 19, 20, 21, 22, 23, 24, 25, 26, 27, 28, 29, 30, 31, 32, 33, 34, 35, 36, 37, 38, 39, 40, 41, 42, 43, 44, 45, 46, 47, 48, 49, 50, 51, 52, 53, 54, 55, 56, 57, 59, 60, 61, 62, 63, 64, 65, 66, 67, 68, 69, 70, 71, 72, 73, 74, 75, 76, 77, 78, 79, 80, 81, 82, 83, 84, 85, 86, 87, 88, 89, 90, 91, 92, 93, 94, 95, 96, 98, 99, 100, 101, 102, 103, 104, 106, 107, 108]\n",
      "long_only_aclus: [2, 8, 16, 97, 105, 109]\n",
      "short_only_aclus: [4, 13, 58]\n",
      "curr_session_parent_out_path: C:\\Users\\pho\\repos\\PhoPy3DPositionAnalysis2021\\EXTERNAL\\Screenshots\\ProgrammaticDisplayFunctionTesting\\2022-12-13\\kdiba\\gor01\\one\\2006-6-08_14-26-15\n",
      "include_whitelist: ['maze1', 'maze2', 'maze']\n",
      "long_epoch_name: maze1, short_epoch_name: maze2, global_epoch_name: maze\n",
      "WARNING: aclu 105 is not present in the pf1D_all ratemaps. Which contain aclus: [2, 3, 4, 5, 6, 7, 8, 9, 10, 11, 12, 14, 15, 16, 17, 18, 20, 21, 22, 23, 24, 25, 26, 27, 28, 29, 30, 31, 32, 33, 34, 35, 36, 37, 38, 39, 40, 41, 42, 43, 44, 45, 46, 47, 48, 49, 50, 51, 52, 53, 54, 55, 56, 57, 58, 59, 60, 61, 62, 63, 64, 65, 66, 67, 68, 69, 70, 71, 72, 73, 74, 75, 76, 77, 78, 79, 80, 81, 82, 83, 84, 85, 86, 87, 88, 89, 90, 91, 92, 93, 94, 95, 96, 97, 98, 99, 100, 101, 102, 103, 104, 106, 107, 108, 109]\n"
     ]
    },
    {
     "name": "stderr",
     "output_type": "stream",
     "text": [
      "c:\\users\\pho\\repos\\pyphoplacecellanalysis\\src\\pyphoplacecellanalysis\\General\\Pipeline\\Stages\\DisplayFunctions\\MultiContextComparingDisplayFunctions\\MultiContextComparingDisplayFunctions.py:999: UserWarning: Matplotlib is currently using agg, which is a non-GUI backend, so cannot show the figure.\n",
      "  fig.show()\n"
     ]
    },
    {
     "name": "stdout",
     "output_type": "stream",
     "text": [
      "\t saved C:\\Users\\pho\\repos\\PhoPy3DPositionAnalysis2021\\EXTERNAL\\Screenshots\\ProgrammaticDisplayFunctionTesting\\2022-12-13\\kdiba\\gor01\\one\\2006-6-08_14-26-15\\kdiba_gor01_one_2006-6-08_14-26-15_batch_plot_test_long_only_[2, 8, 16, 97, 105, 109].png\n",
      "include_whitelist: ['maze1', 'maze2', 'maze']\n",
      "long_epoch_name: maze1, short_epoch_name: maze2, global_epoch_name: maze\n",
      "WARNING: aclu 13 is not present in the pf1D_all ratemaps. Which contain aclus: [2, 3, 4, 5, 6, 7, 8, 9, 10, 11, 12, 14, 15, 16, 17, 18, 20, 21, 22, 23, 24, 25, 26, 27, 28, 29, 30, 31, 32, 33, 34, 35, 36, 37, 38, 39, 40, 41, 42, 43, 44, 45, 46, 47, 48, 49, 50, 51, 52, 53, 54, 55, 56, 57, 58, 59, 60, 61, 62, 63, 64, 65, 66, 67, 68, 69, 70, 71, 72, 73, 74, 75, 76, 77, 78, 79, 80, 81, 82, 83, 84, 85, 86, 87, 88, 89, 90, 91, 92, 93, 94, 95, 96, 97, 98, 99, 100, 101, 102, 103, 104, 106, 107, 108, 109]\n"
     ]
    },
    {
     "name": "stderr",
     "output_type": "stream",
     "text": [
      "c:\\users\\pho\\repos\\pyphoplacecellanalysis\\src\\pyphoplacecellanalysis\\General\\Pipeline\\Stages\\DisplayFunctions\\MultiContextComparingDisplayFunctions\\MultiContextComparingDisplayFunctions.py:999: UserWarning: Matplotlib is currently using agg, which is a non-GUI backend, so cannot show the figure.\n",
      "  fig.show()\n"
     ]
    },
    {
     "name": "stdout",
     "output_type": "stream",
     "text": [
      "\t saved C:\\Users\\pho\\repos\\PhoPy3DPositionAnalysis2021\\EXTERNAL\\Screenshots\\ProgrammaticDisplayFunctionTesting\\2022-12-13\\kdiba\\gor01\\one\\2006-6-08_14-26-15\\kdiba_gor01_one_2006-6-08_14-26-15_batch_plot_test_short_only_[4, 13, 58].png\n",
      "include_whitelist: ['maze1', 'maze2', 'maze']\n",
      "long_epoch_name: maze1, short_epoch_name: maze2, global_epoch_name: maze\n"
     ]
    },
    {
     "name": "stderr",
     "output_type": "stream",
     "text": [
      "c:\\users\\pho\\repos\\pyphoplacecellanalysis\\src\\pyphoplacecellanalysis\\General\\Pipeline\\Stages\\DisplayFunctions\\MultiContextComparingDisplayFunctions\\MultiContextComparingDisplayFunctions.py:999: UserWarning: Matplotlib is currently using agg, which is a non-GUI backend, so cannot show the figure.\n",
      "  fig.show()\n"
     ]
    },
    {
     "name": "stdout",
     "output_type": "stream",
     "text": [
      "\t saved C:\\Users\\pho\\repos\\PhoPy3DPositionAnalysis2021\\EXTERNAL\\Screenshots\\ProgrammaticDisplayFunctionTesting\\2022-12-13\\kdiba\\gor01\\one\\2006-6-08_14-26-15\\kdiba_gor01_one_2006-6-08_14-26-15_batch_plot_test_shared_1of10_[3, 5, 6, 7, 9, 10, 11, 12, 14, 15].png\n",
      "include_whitelist: ['maze1', 'maze2', 'maze']\n",
      "long_epoch_name: maze1, short_epoch_name: maze2, global_epoch_name: maze\n",
      "WARNING: aclu 19 is not present in the pf1D_all ratemaps. Which contain aclus: [2, 3, 4, 5, 6, 7, 8, 9, 10, 11, 12, 14, 15, 16, 17, 18, 20, 21, 22, 23, 24, 25, 26, 27, 28, 29, 30, 31, 32, 33, 34, 35, 36, 37, 38, 39, 40, 41, 42, 43, 44, 45, 46, 47, 48, 49, 50, 51, 52, 53, 54, 55, 56, 57, 58, 59, 60, 61, 62, 63, 64, 65, 66, 67, 68, 69, 70, 71, 72, 73, 74, 75, 76, 77, 78, 79, 80, 81, 82, 83, 84, 85, 86, 87, 88, 89, 90, 91, 92, 93, 94, 95, 96, 97, 98, 99, 100, 101, 102, 103, 104, 106, 107, 108, 109]\n"
     ]
    },
    {
     "name": "stderr",
     "output_type": "stream",
     "text": [
      "c:\\users\\pho\\repos\\pyphoplacecellanalysis\\src\\pyphoplacecellanalysis\\General\\Pipeline\\Stages\\DisplayFunctions\\MultiContextComparingDisplayFunctions\\MultiContextComparingDisplayFunctions.py:999: UserWarning: Matplotlib is currently using agg, which is a non-GUI backend, so cannot show the figure.\n",
      "  fig.show()\n"
     ]
    },
    {
     "name": "stdout",
     "output_type": "stream",
     "text": [
      "\t saved C:\\Users\\pho\\repos\\PhoPy3DPositionAnalysis2021\\EXTERNAL\\Screenshots\\ProgrammaticDisplayFunctionTesting\\2022-12-13\\kdiba\\gor01\\one\\2006-6-08_14-26-15\\kdiba_gor01_one_2006-6-08_14-26-15_batch_plot_test_shared_2of10_[17, 18, 19, 20, 21, 22, 23, 24, 25, 26].png\n",
      "include_whitelist: ['maze1', 'maze2', 'maze']\n",
      "long_epoch_name: maze1, short_epoch_name: maze2, global_epoch_name: maze\n"
     ]
    },
    {
     "name": "stderr",
     "output_type": "stream",
     "text": [
      "c:\\users\\pho\\repos\\pyphoplacecellanalysis\\src\\pyphoplacecellanalysis\\General\\Pipeline\\Stages\\DisplayFunctions\\MultiContextComparingDisplayFunctions\\MultiContextComparingDisplayFunctions.py:999: UserWarning: Matplotlib is currently using agg, which is a non-GUI backend, so cannot show the figure.\n",
      "  fig.show()\n"
     ]
    },
    {
     "name": "stdout",
     "output_type": "stream",
     "text": [
      "\t saved C:\\Users\\pho\\repos\\PhoPy3DPositionAnalysis2021\\EXTERNAL\\Screenshots\\ProgrammaticDisplayFunctionTesting\\2022-12-13\\kdiba\\gor01\\one\\2006-6-08_14-26-15\\kdiba_gor01_one_2006-6-08_14-26-15_batch_plot_test_shared_3of10_[27, 28, 29, 30, 31, 32, 33, 34, 35, 36].png\n",
      "include_whitelist: ['maze1', 'maze2', 'maze']\n",
      "long_epoch_name: maze1, short_epoch_name: maze2, global_epoch_name: maze\n"
     ]
    },
    {
     "name": "stderr",
     "output_type": "stream",
     "text": [
      "c:\\users\\pho\\repos\\pyphoplacecellanalysis\\src\\pyphoplacecellanalysis\\General\\Pipeline\\Stages\\DisplayFunctions\\MultiContextComparingDisplayFunctions\\MultiContextComparingDisplayFunctions.py:999: UserWarning: Matplotlib is currently using agg, which is a non-GUI backend, so cannot show the figure.\n",
      "  fig.show()\n"
     ]
    },
    {
     "name": "stdout",
     "output_type": "stream",
     "text": [
      "\t saved C:\\Users\\pho\\repos\\PhoPy3DPositionAnalysis2021\\EXTERNAL\\Screenshots\\ProgrammaticDisplayFunctionTesting\\2022-12-13\\kdiba\\gor01\\one\\2006-6-08_14-26-15\\kdiba_gor01_one_2006-6-08_14-26-15_batch_plot_test_shared_4of10_[37, 38, 39, 40, 41, 42, 43, 44, 45, 46].png\n",
      "include_whitelist: ['maze1', 'maze2', 'maze']\n",
      "long_epoch_name: maze1, short_epoch_name: maze2, global_epoch_name: maze\n"
     ]
    },
    {
     "name": "stderr",
     "output_type": "stream",
     "text": [
      "c:\\users\\pho\\repos\\pyphoplacecellanalysis\\src\\pyphoplacecellanalysis\\General\\Pipeline\\Stages\\DisplayFunctions\\MultiContextComparingDisplayFunctions\\MultiContextComparingDisplayFunctions.py:999: UserWarning: Matplotlib is currently using agg, which is a non-GUI backend, so cannot show the figure.\n",
      "  fig.show()\n"
     ]
    },
    {
     "name": "stdout",
     "output_type": "stream",
     "text": [
      "\t saved C:\\Users\\pho\\repos\\PhoPy3DPositionAnalysis2021\\EXTERNAL\\Screenshots\\ProgrammaticDisplayFunctionTesting\\2022-12-13\\kdiba\\gor01\\one\\2006-6-08_14-26-15\\kdiba_gor01_one_2006-6-08_14-26-15_batch_plot_test_shared_5of10_[47, 48, 49, 50, 51, 52, 53, 54, 55, 56].png\n",
      "include_whitelist: ['maze1', 'maze2', 'maze']\n",
      "long_epoch_name: maze1, short_epoch_name: maze2, global_epoch_name: maze\n"
     ]
    },
    {
     "name": "stderr",
     "output_type": "stream",
     "text": [
      "c:\\users\\pho\\repos\\pyphoplacecellanalysis\\src\\pyphoplacecellanalysis\\General\\Pipeline\\Stages\\DisplayFunctions\\MultiContextComparingDisplayFunctions\\MultiContextComparingDisplayFunctions.py:999: UserWarning: Matplotlib is currently using agg, which is a non-GUI backend, so cannot show the figure.\n",
      "  fig.show()\n"
     ]
    },
    {
     "name": "stdout",
     "output_type": "stream",
     "text": [
      "\t saved C:\\Users\\pho\\repos\\PhoPy3DPositionAnalysis2021\\EXTERNAL\\Screenshots\\ProgrammaticDisplayFunctionTesting\\2022-12-13\\kdiba\\gor01\\one\\2006-6-08_14-26-15\\kdiba_gor01_one_2006-6-08_14-26-15_batch_plot_test_shared_6of10_[57, 59, 60, 61, 62, 63, 64, 65, 66, 67].png\n",
      "include_whitelist: ['maze1', 'maze2', 'maze']\n",
      "long_epoch_name: maze1, short_epoch_name: maze2, global_epoch_name: maze\n"
     ]
    },
    {
     "name": "stderr",
     "output_type": "stream",
     "text": [
      "c:\\users\\pho\\repos\\pyphoplacecellanalysis\\src\\pyphoplacecellanalysis\\General\\Pipeline\\Stages\\DisplayFunctions\\MultiContextComparingDisplayFunctions\\MultiContextComparingDisplayFunctions.py:999: UserWarning: Matplotlib is currently using agg, which is a non-GUI backend, so cannot show the figure.\n",
      "  fig.show()\n"
     ]
    },
    {
     "name": "stdout",
     "output_type": "stream",
     "text": [
      "\t saved C:\\Users\\pho\\repos\\PhoPy3DPositionAnalysis2021\\EXTERNAL\\Screenshots\\ProgrammaticDisplayFunctionTesting\\2022-12-13\\kdiba\\gor01\\one\\2006-6-08_14-26-15\\kdiba_gor01_one_2006-6-08_14-26-15_batch_plot_test_shared_7of10_[68, 69, 70, 71, 72, 73, 74, 75, 76, 77].png\n",
      "include_whitelist: ['maze1', 'maze2', 'maze']\n",
      "long_epoch_name: maze1, short_epoch_name: maze2, global_epoch_name: maze\n"
     ]
    },
    {
     "name": "stderr",
     "output_type": "stream",
     "text": [
      "c:\\users\\pho\\repos\\pyphoplacecellanalysis\\src\\pyphoplacecellanalysis\\General\\Pipeline\\Stages\\DisplayFunctions\\MultiContextComparingDisplayFunctions\\MultiContextComparingDisplayFunctions.py:999: UserWarning: Matplotlib is currently using agg, which is a non-GUI backend, so cannot show the figure.\n",
      "  fig.show()\n"
     ]
    },
    {
     "name": "stdout",
     "output_type": "stream",
     "text": [
      "\t saved C:\\Users\\pho\\repos\\PhoPy3DPositionAnalysis2021\\EXTERNAL\\Screenshots\\ProgrammaticDisplayFunctionTesting\\2022-12-13\\kdiba\\gor01\\one\\2006-6-08_14-26-15\\kdiba_gor01_one_2006-6-08_14-26-15_batch_plot_test_shared_8of10_[78, 79, 80, 81, 82, 83, 84, 85, 86, 87].png\n",
      "include_whitelist: ['maze1', 'maze2', 'maze']\n",
      "long_epoch_name: maze1, short_epoch_name: maze2, global_epoch_name: maze\n"
     ]
    },
    {
     "name": "stderr",
     "output_type": "stream",
     "text": [
      "c:\\users\\pho\\repos\\pyphoplacecellanalysis\\src\\pyphoplacecellanalysis\\General\\Pipeline\\Stages\\DisplayFunctions\\MultiContextComparingDisplayFunctions\\MultiContextComparingDisplayFunctions.py:999: UserWarning: Matplotlib is currently using agg, which is a non-GUI backend, so cannot show the figure.\n",
      "  fig.show()\n"
     ]
    },
    {
     "name": "stdout",
     "output_type": "stream",
     "text": [
      "\t saved C:\\Users\\pho\\repos\\PhoPy3DPositionAnalysis2021\\EXTERNAL\\Screenshots\\ProgrammaticDisplayFunctionTesting\\2022-12-13\\kdiba\\gor01\\one\\2006-6-08_14-26-15\\kdiba_gor01_one_2006-6-08_14-26-15_batch_plot_test_shared_9of10_[88, 89, 90, 91, 92, 93, 94, 95, 96, 98].png\n",
      "include_whitelist: ['maze1', 'maze2', 'maze']\n",
      "long_epoch_name: maze1, short_epoch_name: maze2, global_epoch_name: maze\n"
     ]
    },
    {
     "name": "stderr",
     "output_type": "stream",
     "text": [
      "c:\\users\\pho\\repos\\pyphoplacecellanalysis\\src\\pyphoplacecellanalysis\\General\\Pipeline\\Stages\\DisplayFunctions\\MultiContextComparingDisplayFunctions\\MultiContextComparingDisplayFunctions.py:999: UserWarning: Matplotlib is currently using agg, which is a non-GUI backend, so cannot show the figure.\n",
      "  fig.show()\n"
     ]
    },
    {
     "name": "stdout",
     "output_type": "stream",
     "text": [
      "\t saved C:\\Users\\pho\\repos\\PhoPy3DPositionAnalysis2021\\EXTERNAL\\Screenshots\\ProgrammaticDisplayFunctionTesting\\2022-12-13\\kdiba\\gor01\\one\\2006-6-08_14-26-15\\kdiba_gor01_one_2006-6-08_14-26-15_batch_plot_test_shared_10of10_[99, 100, 101, 102, 103, 104, 106, 107, 108].png\n"
     ]
    }
   ],
   "source": [
    "active_identifying_session_ctx, curr_session_figures_out_path, active_out_figures_list = batch_programmatic_figures(curr_active_pipeline)"
   ]
  },
  {
   "cell_type": "code",
   "execution_count": 5,
   "id": "af76646b-2701-442e-84b3-14ffcf3c0c57",
   "metadata": {},
   "outputs": [
    {
     "name": "stderr",
     "output_type": "stream",
     "text": [
      "c:\\users\\pho\\repos\\pyphoplacecellanalysis\\src\\pyphoplacecellanalysis\\General\\Pipeline\\Stages\\DisplayFunctions\\Ratemaps.py:58: UserWarning: Matplotlib is currently using agg, which is a non-GUI backend, so cannot show the figure.\n",
      "  active_figure.show()\n",
      "c:\\users\\pho\\repos\\pyphoplacecellanalysis\\src\\pyphoplacecellanalysis\\General\\Pipeline\\Stages\\DisplayFunctions\\Ratemaps.py:58: UserWarning: Matplotlib is currently using agg, which is a non-GUI backend, so cannot show the figure.\n",
      "  active_figure.show()\n",
      "c:\\users\\pho\\repos\\pyphoplacecellanalysis\\src\\pyphoplacecellanalysis\\General\\Pipeline\\Stages\\DisplayFunctions\\Ratemaps.py:58: UserWarning: Matplotlib is currently using agg, which is a non-GUI backend, so cannot show the figure.\n",
      "  active_figure.show()\n",
      "c:\\users\\pho\\repos\\pyphoplacecellanalysis\\src\\pyphoplacecellanalysis\\General\\Mixins\\ExportHelpers.py:339: UserWarning: This figure includes Axes that are not compatible with tight_layout, so results might be incorrect.\n",
      "  pdf.savefig(a_fig, transparent=True)\n",
      "c:\\users\\pho\\repos\\pyphoplacecellanalysis\\src\\pyphoplacecellanalysis\\General\\Mixins\\ExportHelpers.py:339: UserWarning: This figure includes Axes that are not compatible with tight_layout, so results might be incorrect.\n",
      "  pdf.savefig(a_fig, transparent=True)\n",
      "c:\\users\\pho\\repos\\pyphoplacecellanalysis\\src\\pyphoplacecellanalysis\\General\\Mixins\\ExportHelpers.py:339: UserWarning: This figure includes Axes that are not compatible with tight_layout, so results might be incorrect.\n",
      "  pdf.savefig(a_fig, transparent=True)\n"
     ]
    }
   ],
   "source": [
    "batch_extended_programmatic_figures(curr_active_pipeline)"
   ]
  },
  {
   "cell_type": "markdown",
   "id": "9ec4e913-d02a-40bd-9a9d-d109af03c087",
   "metadata": {
    "tags": []
   },
   "source": [
    "###  Compute Required Global Computations Manually:"
   ]
  },
  {
   "cell_type": "code",
   "execution_count": 6,
   "id": "608c93b2-9869-48cb-8980-c3dbebad9814",
   "metadata": {},
   "outputs": [
    {
     "name": "stdout",
     "output_type": "stream",
     "text": [
      "Performing _execute_computation_functions(...) with 2 registered_computation_functions...\n",
      "include_whitelist: ['maze1', 'maze2', 'maze']\n",
      "long_epoch_name: maze1, short_epoch_name: maze2, global_epoch_name: maze\n",
      "Time window 375 has no spikes.\n",
      "Time window 690 has no spikes.\n",
      "include_whitelist: ['maze1', 'maze2', 'maze']\n",
      "long_epoch_name: maze1, short_epoch_name: maze2, global_epoch_name: maze\n",
      "_execute_computation_functions(...): \n",
      "\taccumulated_errors: None\n",
      "shared_aclus: [3, 5, 6, 7, 9, 10, 11, 12, 14, 15, 17, 18, 19, 20, 21, 22, 23, 24, 25, 26, 27, 28, 29, 30, 31, 32, 33, 34, 35, 36, 37, 38, 39, 40, 41, 42, 43, 44, 45, 46, 47, 48, 49, 50, 51, 52, 53, 54, 55, 56, 57, 59, 60, 61, 62, 63, 64, 65, 66, 67, 68, 69, 70, 71, 72, 73, 74, 75, 76, 77, 78, 79, 80, 81, 82, 83, 84, 85, 86, 87, 88, 89, 90, 91, 92, 93, 94, 95, 96, 98, 99, 100, 101, 102, 103, 104, 106, 107, 108]\n",
      "long_only_aclus: [2, 8, 16, 97, 105, 109]\n",
      "short_only_aclus: [4, 13, 58]\n"
     ]
    }
   ],
   "source": [
    "# ==================================================================================================================== #\n",
    "# Perform missing global computations                                                                                  #\n",
    "# ==================================================================================================================== #\n",
    "curr_active_pipeline.perform_specific_computation(computation_functions_name_whitelist=['_perform_jonathan_replay_firing_rate_analyses', '_perform_short_long_pf_overlap_analyses'], fail_on_exception=True, debug_print=True) # \n",
    "\n",
    "## Get global 'jonathan_firing_rate_analysis' results:\n",
    "curr_jonathan_firing_rate_analysis = curr_active_pipeline.global_computation_results.computed_data['jonathan_firing_rate_analysis']\n",
    "neuron_replay_stats_df, rdf, aclu_to_idx, irdf = curr_jonathan_firing_rate_analysis['neuron_replay_stats_df'], curr_jonathan_firing_rate_analysis['rdf']['rdf'], curr_jonathan_firing_rate_analysis['rdf']['aclu_to_idx'], curr_jonathan_firing_rate_analysis['irdf']['irdf']\n",
    "\n",
    "## Get global `short_long_pf_overlap_analyses` results:\n",
    "short_long_pf_overlap_analyses = curr_active_pipeline.global_computation_results.computed_data.short_long_pf_overlap_analyses\n",
    "conv_overlap_dict = short_long_pf_overlap_analyses['conv_overlap_dict']\n",
    "conv_overlap_scalars_df = short_long_pf_overlap_analyses['conv_overlap_scalars_df']\n",
    "prod_overlap_dict = short_long_pf_overlap_analyses['product_overlap_dict']\n",
    "relative_entropy_overlap_dict = short_long_pf_overlap_analyses['relative_entropy_overlap_dict']\n",
    "relative_entropy_overlap_scalars_df = short_long_pf_overlap_analyses['relative_entropy_overlap_scalars_df']\n",
    "\n",
    "from pyphoplacecellanalysis.General.Mixins.CrossComputationComparisonHelpers import SplitPartitionMembership\n",
    "short_only_df = neuron_replay_stats_df[neuron_replay_stats_df.track_membership == SplitPartitionMembership.RIGHT_ONLY]\n",
    "short_only_aclus = short_only_df.index.values.tolist()\n",
    "long_only_df = neuron_replay_stats_df[neuron_replay_stats_df.track_membership == SplitPartitionMembership.LEFT_ONLY]\n",
    "long_only_aclus = long_only_df.index.values.tolist()\n",
    "shared_df = neuron_replay_stats_df[neuron_replay_stats_df.track_membership == SplitPartitionMembership.SHARED]\n",
    "shared_aclus = shared_df.index.values.tolist()\n",
    "print(f'shared_aclus: {shared_aclus}')\n",
    "print(f'long_only_aclus: {long_only_aclus}')\n",
    "print(f'short_only_aclus: {short_only_aclus}')\n",
    "\n",
    "active_identifying_session_ctx = curr_active_pipeline.sess.get_context() # 'bapun_RatN_Day4_2019-10-15_11-30-06'"
   ]
  },
  {
   "cell_type": "code",
   "execution_count": 112,
   "id": "c9d3705d-504d-45c8-8b3c-4d81b31102b1",
   "metadata": {},
   "outputs": [
    {
     "name": "stdout",
     "output_type": "stream",
     "text": [
      "Performing run_specific_computations_single_context on filtered_session with filter named \"maze\"...\n"
     ]
    }
   ],
   "source": [
    "# %%viztracer\n",
    "curr_active_pipeline.perform_specific_computation(computation_functions_name_whitelist=['_perform_firing_rate_trends_computation', '_perform_time_dependent_pf_sequential_surprise_computation'], enabled_filter_names=['maze'], fail_on_exception=True, debug_print=False) # \n",
    "active_extended_stats = curr_active_pipeline.computation_results['maze'].computed_data['extended_stats']\n",
    "time_binned_pos_df = active_extended_stats['time_binned_position_df']\n",
    "sequential_surprise = active_extended_stats['sequential_surprise']\n",
    "post_update_times = sequential_surprise['post_update_times']\n",
    "pf_overlap_results = sequential_surprise['pf_overlap_results']\n",
    "flat_relative_entropy_results = sequential_surprise['flat_relative_entropy_results']\n",
    "flat_jensen_shannon_distance_results = sequential_surprise['flat_jensen_shannon_distance_results'] # flat_jensen_shannon_distance_results\n",
    "difference_snapshots = sequential_surprise['difference_snapshots']\n",
    "# sequential_surprise"
   ]
  },
  {
   "cell_type": "code",
   "execution_count": null,
   "id": "03ff3858-33f0-466f-83c6-9c43f5d8d8dd",
   "metadata": {},
   "outputs": [],
   "source": [
    "compute_time_binned_spiking_activity\n"
   ]
  },
  {
   "cell_type": "code",
   "execution_count": null,
   "id": "562fe302-864e-4ecd-aa0b-ec182d1055e4",
   "metadata": {},
   "outputs": [],
   "source": [
    "extended_stats"
   ]
  },
  {
   "cell_type": "code",
   "execution_count": null,
   "id": "adda15c4-a7ef-4695-b545-900734ee2db1",
   "metadata": {},
   "outputs": [],
   "source": [
    "curr_active_pipeline.computation_results.\n",
    "\n",
    "self.unit_specific_time_binned_spike_counts\n"
   ]
  },
  {
   "cell_type": "code",
   "execution_count": null,
   "id": "8c486c42-15d2-44a8-9d9a-c9dc788fc706",
   "metadata": {},
   "outputs": [],
   "source": [
    "time_binned_pos_df"
   ]
  },
  {
   "cell_type": "code",
   "execution_count": null,
   "id": "406a4fc3-42be-4d78-b164-5fef12c3d77a",
   "metadata": {},
   "outputs": [],
   "source": [
    "curr_computations_results = curr_active_pipeline.computation_results['maze']\n",
    "\n",
    "# Index Mapping:\n",
    "curr_neuron_IDs = np.array(curr_computations_results.computed_data['pf2D_Decoder'].neuron_IDs)\n",
    "# curr_neuron_IDXs = curr_computations_results.computed_data['pf2D_Decoder'].neuron_IDXs\n",
    "\n",
    "# # need to filter spike_raster_plt_3d_vedo.cell_ids to only include the ones present in curr_neuron_IDs\n",
    "# is_included_in_computation_result_neuron_IDs = np.isin(active_curve_plotter_3d.cell_ids, curr_neuron_IDs)\n",
    "# included_neuron_ids = active_curve_plotter_3d.cell_ids[is_included_in_computation_result_neuron_IDs]\n",
    "# # excluded_neuron_ids = active_curve_plotter_3d.cell_ids[~is_included_in_computation_result_neuron_IDs]\n",
    "\n",
    "included_neuron_ids = curr_neuron_IDs\n",
    "# Data Mapping:\n",
    "data_values_column_names = [str(an_id) for an_id in included_neuron_ids]\n",
    "\n",
    "proper_time_windows = np.atleast_2d(curr_computations_results.computed_data['pf2D_Decoder'].time_window_centers) \n",
    "proper_time_windows.shape # (1, 62911)"
   ]
  },
  {
   "cell_type": "code",
   "execution_count": null,
   "id": "f3373a32-72cc-4f88-8bc0-346dad4e2b17",
   "metadata": {},
   "outputs": [],
   "source": [
    "## TODO: HACK: This is wrong, it should be the time_window_centers, but for some reason there are too few of them now!\n",
    "proper_time_windows = np.atleast_2d(curr_computations_results.computed_data['pf2D_Decoder'].time_window_edges) \n",
    "\n",
    "proper_time_windows.shape # (1, 62912)"
   ]
  },
  {
   "cell_type": "code",
   "execution_count": null,
   "id": "9ff6f02f-dbdc-4aa2-8e1f-5be49c868c38",
   "metadata": {},
   "outputs": [],
   "source": [
    "active_plot_df = curr_computations_results.computed_data['pf2D_Decoder'].unit_specific_time_binned_spike_counts\n",
    "active_plot_df.shape # (107, 62289)\n",
    "\n"
   ]
  },
  {
   "cell_type": "code",
   "execution_count": null,
   "id": "a2c2fc66-60d4-4438-b24b-8d97b9b2f4e8",
   "metadata": {},
   "outputs": [],
   "source": [
    "active_plot_df = pd.DataFrame(np.concatenate((proper_time_windows, curr_computations_results.computed_data['pf2D_Decoder'].unit_specific_time_binned_spike_counts)).T, columns=(['t'] + data_values_column_names))\n",
    "active_plot_df"
   ]
  },
  {
   "cell_type": "code",
   "execution_count": null,
   "id": "a320d69e-23cc-4c14-b36c-d547757a3c70",
   "metadata": {},
   "outputs": [],
   "source": [
    "flat_relative_entropy_results.shape # (149, 63) - (nSnapshots, nXbins)"
   ]
  },
  {
   "cell_type": "code",
   "execution_count": null,
   "id": "a986997f-2862-46f9-881d-c4092433fb3b",
   "metadata": {},
   "outputs": [],
   "source": [
    "flat_jensen_shannon_distance_results.shape # (149, 63) - (nSnapshots, nXbins)"
   ]
  },
  {
   "cell_type": "code",
   "execution_count": null,
   "id": "8cc28ea8-9552-48a4-a976-62c1dd3bdb9f",
   "metadata": {},
   "outputs": [],
   "source": [
    "flat_jensen_shannon_distance_results"
   ]
  },
  {
   "cell_type": "code",
   "execution_count": null,
   "id": "e1996503-2b3b-4623-a603-8918e37cb4f2",
   "metadata": {},
   "outputs": [],
   "source": [
    "surprise_across_all_positions = np.sum(flat_relative_entropy_results, axis=1) # sum across all position bins\n",
    "# surprise_across_all_positions.shape # (149,) - (nSnapshots)\n",
    "surprise_across_all_positions"
   ]
  },
  {
   "cell_type": "code",
   "execution_count": null,
   "id": "195f181a-9ca6-459f-973b-cfbfbfcb0b55",
   "metadata": {},
   "outputs": [],
   "source": [
    "flat_jensen_shannon_distance_across_all_positions = np.sum(flat_jensen_shannon_distance_results, axis=1) # sum across all position bins\n",
    "flat_jensen_shannon_distance_across_all_positions.shape # (149,) - (nSnapshots)"
   ]
  },
  {
   "cell_type": "code",
   "execution_count": null,
   "id": "3cab241e-2656-46a0-9e14-03ae4701893b",
   "metadata": {},
   "outputs": [],
   "source": [
    "post_update_times.shape # (149,)"
   ]
  },
  {
   "cell_type": "code",
   "execution_count": null,
   "id": "caf8673a-bac6-404b-a4d7-7242eef630e1",
   "metadata": {},
   "outputs": [],
   "source": [
    "flat_relative_entropy_results"
   ]
  },
  {
   "cell_type": "code",
   "execution_count": null,
   "id": "08cdbdd9-8b43-4497-a351-d3e604ba8a41",
   "metadata": {},
   "outputs": [],
   "source": [
    "pf_overlap_results"
   ]
  },
  {
   "cell_type": "code",
   "execution_count": null,
   "id": "ae9a2c34-5cc2-4c42-ab6d-3beb2afd2a39",
   "metadata": {},
   "outputs": [],
   "source": [
    "difference_snapshots"
   ]
  },
  {
   "cell_type": "code",
   "execution_count": null,
   "id": "1b22f972-13b0-4c72-9d32-8238502d36d2",
   "metadata": {},
   "outputs": [],
   "source": [
    "curr_active_pipeline.display"
   ]
  },
  {
   "cell_type": "code",
   "execution_count": null,
   "id": "c3f62cd6-14c1-4da7-9656-da45e65c1963",
   "metadata": {},
   "outputs": [],
   "source": []
  },
  {
   "cell_type": "markdown",
   "id": "3753fe07-c952-4e9e-b98f-9a757342bfd3",
   "metadata": {},
   "source": [
    "Let $x$ be the position\n",
    "\n",
    "https://notesonai.com/KL+Divergence\n",
    "https://observablehq.com/@stwind/forward-and-reverse-kl-divergences\n",
    "https://notesonai.com/Maximum+Likelihood+Estimation\n",
    "\n",
    "Alternative Measures:\n",
    "    https://notesonai.com/Jensen%E2%80%93Shannon+Divergence - overcomes becoming infinity when the distributions don't overlap\n",
    "\n",
    "https://stats.stackexchange.com/questions/188903/intuition-on-the-kullback-leibler-kl-divergence\n",
    "https://blogs.rstudio.com/ai/posts/2020-02-19-kl-divergence/\n",
    "https://www.linkedin.com/pulse/kl-divergence-some-interesting-facts-niraj-kumar\n",
    "\n",
    "- [ ] Try Wasserstein distance: https://stats.stackexchange.com/questions/351947/whats-the-maximum-value-of-kullback-leibler-kl-divergence/352008#352008\n"
   ]
  },
  {
   "cell_type": "code",
   "execution_count": null,
   "id": "6bc27d20-67b4-42ff-80d2-4c9bf7122908",
   "metadata": {},
   "outputs": [],
   "source": [
    "%matplotlib qt\n",
    "import matplotlib as mpl\n",
    "import matplotlib.pyplot as plt\n",
    "def _simple_surprise_plot():\n",
    "    plt.plot(post_update_times, flat_relative_entropy_results)\n",
    "    "
   ]
  },
  {
   "cell_type": "code",
   "execution_count": null,
   "id": "05ffdd5a-6108-4cc3-9f32-001d123fa356",
   "metadata": {},
   "outputs": [],
   "source": [
    "plt.plot(post_update_times, flat_relative_entropy_results)"
   ]
  },
  {
   "cell_type": "code",
   "execution_count": null,
   "id": "329dfa38-76ee-4448-b6bb-13ad76c5dc71",
   "metadata": {},
   "outputs": [],
   "source": [
    "plt.plot(post_update_times.T, surprise_across_all_positions)"
   ]
  },
  {
   "cell_type": "code",
   "execution_count": null,
   "id": "455c53f5-26cf-4935-be1e-30ff7d0de486",
   "metadata": {},
   "outputs": [],
   "source": [
    "plt.plot(post_update_times.T, flat_jensen_shannon_distance_across_all_positions)"
   ]
  },
  {
   "cell_type": "code",
   "execution_count": null,
   "id": "2699a721-61dd-4006-9a9f-cceffa41bf87",
   "metadata": {},
   "outputs": [],
   "source": [
    "# flat_relative_entropy_results.shape # (1, 63)"
   ]
  },
  {
   "cell_type": "markdown",
   "id": "3c429125-a200-4d1a-937f-6a4c064cfef2",
   "metadata": {
    "jp-MarkdownHeadingCollapsed": true,
    "tags": []
   },
   "source": [
    "## 🟢 2022-11-21 - 1D Ratemaps Before and After Track change (Long vs. Short track)\n",
    "Working metrics for comparing overlaps of 1D placefields before and after track change"
   ]
  },
  {
   "cell_type": "code",
   "execution_count": null,
   "id": "c477bb6d-6d82-40ce-8406-2c95ff878e26",
   "metadata": {},
   "outputs": [],
   "source": [
    "%pdb off\n",
    "%matplotlib qt\n",
    "import matplotlib as mpl\n",
    "import matplotlib.pyplot as plt\n",
    "from pyphocorehelpers.plotting.figure_management import PhoActiveFigureManager2D\n",
    "from pyphoplacecellanalysis.General.Mixins.CrossComputationComparisonHelpers import _find_any_context_neurons, _compare_computation_results\n",
    "from neuropy.utils.colors_util import get_neuron_colors\n",
    "from neuropy.core.neuron_identities import PlotStringBrevityModeEnum\n",
    "\n",
    "from neuropy.analyses.placefields import PfND # for re-binning pf1D\n",
    "\n",
    "from neuropy.plotting.figure import Fig\n",
    "from neuropy.plotting.ratemaps import plot_ratemap_1D\n",
    "\n",
    "from pyphoplacecellanalysis.General.Mixins.CrossComputationComparisonHelpers import build_neurons_color_map\n",
    "\n",
    "\n",
    "\n",
    "def find_epoch_names(curr_active_pipeline):\n",
    "    include_whitelist = curr_active_pipeline.active_completed_computation_result_names # ['maze', 'sprinkle']\n",
    "    long_epoch_name = include_whitelist[0] # 'maze1_PYR'\n",
    "    short_epoch_name = include_whitelist[1] # 'maze2_PYR'\n",
    "    global_epoch_name = include_whitelist[-1] # 'maze_PYR'\n",
    "    return long_epoch_name, short_epoch_name, global_epoch_name\n",
    "    \n",
    "\n",
    "curr_active_pipeline.active_completed_computation_result_names\n",
    "long_epoch_name, short_epoch_name, global_epoch_name = find_epoch_names(curr_active_pipeline)\n",
    "long_results = curr_active_pipeline.computation_results[long_epoch_name]['computed_data']\n",
    "short_results = curr_active_pipeline.computation_results[short_epoch_name]['computed_data']\n",
    "global_results = curr_active_pipeline.computation_results[global_epoch_name]['computed_data']\n",
    "\n",
    "long_pf1D = long_results.pf1D\n",
    "short_pf1D = short_results.pf1D\n",
    "global_pf1D = global_results.pf1D\n",
    "\n",
    "\n",
    "curr_active_pipeline.active_completed_computation_result_names\n",
    "long_epoch_name, short_epoch_name, global_epoch_name = find_epoch_names(curr_active_pipeline)\n",
    "long_results = curr_active_pipeline.computation_results[long_epoch_name]['computed_data']\n",
    "short_results = curr_active_pipeline.computation_results[short_epoch_name]['computed_data']\n",
    "global_results = curr_active_pipeline.computation_results[global_epoch_name]['computed_data']\n",
    "\n",
    "long_pf1D = long_results.pf1D\n",
    "short_pf1D = short_results.pf1D\n",
    "global_pf1D = global_results.pf1D\n",
    "\n",
    "## Allow overriding PfND's bins:\n",
    "# TODO: 2022-12-09 - We want to be able to have both long/short track placefields have the same bins. \n",
    "if (len(short_pf1D.xbin) < len(long_pf1D.xbin)):\n",
    "    print(f'short_pf1D will be re-binned to match long_pf1D...')\n",
    "    bak_short_pf1D = deepcopy(short_pf1D) # Backup the original first\n",
    "    xbin, ybin, bin_info, grid_bin = long_pf1D.xbin, long_pf1D.ybin, long_pf1D.bin_info, long_pf1D.config.grid_bin\n",
    "    ## Apply to the short dataframe:\n",
    "    short_pf1D.xbin, short_pf1D.ybin, short_pf1D.bin_info, short_pf1D.config.grid_bin = xbin, ybin, bin_info, grid_bin\n",
    "    ## Updates (replacing) the 'binned_x' (and if 2D 'binned_y') columns to the position dataframe:\n",
    "    short_pf1D._filtered_pos_df, _, _, _ = PfND.build_position_df_discretized_binned_positions(short_pf1D._filtered_pos_df, short_pf1D.config, xbin_values=short_pf1D.xbin, ybin_values=short_pf1D.ybin, debug_print=False) # Finishes setup\n",
    "    short_pf1D.compute() # does compute\n",
    "    print(f'done.') ## Successfully re-bins pf1D:\n",
    "\n",
    "    \n",
    "## get shared neuron info:\n",
    "# this must be done after we rebuild the short_pf1D bins (if we need to) so they continue to match:\n",
    "pf_neurons_diff = _compare_computation_results(long_results.pf1D.ratemap.neuron_ids, short_results.pf1D.ratemap.neuron_ids)\n",
    "\n",
    "shared_aclus = pf_neurons_diff.intersection #.shape (56,)\n",
    "print(f'shared_aclus: {shared_aclus}.\\t np.shape: {np.shape(shared_aclus)}')\n",
    "# curr_any_context_neurons = pf_neurons_diff.either\n",
    "long_only_aclus = pf_neurons_diff.lhs_only\n",
    "short_only_aclus = pf_neurons_diff.rhs_only\n",
    "print(f'long_only_aclus: {long_only_aclus}.\\t np.shape: {np.shape(long_only_aclus)}')\n",
    "print(f'short_only_aclus: {short_only_aclus}.\\t np.shape: {np.shape(short_only_aclus)}')\n",
    "\n",
    "## Get the normalized_tuning_curves only for the shared aclus (that are common across (long/short/global):\n",
    "long_is_included = np.isin(long_pf1D.ratemap.neuron_ids, shared_aclus)  #.shape # (104, 63)\n",
    "long_incl_aclus = np.array(long_pf1D.ratemap.neuron_ids)[long_is_included] #.shape # (98,)\n",
    "long_incl_curves = long_pf1D.ratemap.normalized_tuning_curves[long_is_included]  #.shape # (98, 63)\n",
    "assert long_incl_aclus.shape[0] == long_incl_curves.shape[0] # (98,) == (98, 63)\n",
    "\n",
    "short_is_included = np.isin(short_pf1D.ratemap.neuron_ids, shared_aclus)\n",
    "short_incl_aclus = np.array(short_pf1D.ratemap.neuron_ids)[short_is_included] #.shape (98,)\n",
    "short_incl_curves = short_pf1D.ratemap.normalized_tuning_curves[short_is_included]  #.shape # (98, 40)\n",
    "assert short_incl_aclus.shape[0] == short_incl_curves.shape[0] # (98,) == (98, 63)\n",
    "# assert short_incl_curves.shape[1] == long_incl_curves.shape[1] # short and long should have the same bins\n",
    "\n",
    "global_is_included = np.isin(global_pf1D.ratemap.neuron_ids, shared_aclus)\n",
    "global_incl_aclus = np.array(global_pf1D.ratemap.neuron_ids)[global_is_included] #.shape (98,)\n",
    "global_incl_curves = global_pf1D.ratemap.normalized_tuning_curves[global_is_included]  #.shape # (98, 63)\n",
    "assert global_incl_aclus.shape[0] == global_incl_curves.shape[0] # (98,) == (98, 63)\n",
    "assert global_incl_curves.shape[1] == long_incl_curves.shape[1] # global and long should have the same bins\n",
    "\n",
    "assert np.alltrue(np.isin(long_incl_aclus, short_incl_aclus))\n",
    "assert np.alltrue(np.isin(long_incl_aclus, global_incl_aclus))"
   ]
  },
  {
   "cell_type": "code",
   "execution_count": null,
   "id": "093c42e4-b5a9-4e8d-bc76-ac4c41bbaa0a",
   "metadata": {},
   "outputs": [],
   "source": [
    "global_results.pf2D_Decoder.time_window_edges.shape # (62912,)"
   ]
  },
  {
   "cell_type": "code",
   "execution_count": null,
   "id": "68ec533c-311e-482a-beb6-2a4d751f7a64",
   "metadata": {},
   "outputs": [],
   "source": [
    "curr_active_pipeline.sess.spikes_df"
   ]
  },
  {
   "cell_type": "code",
   "execution_count": null,
   "id": "1ac5f589-e2f2-4349-bf29-7495eb0bed58",
   "metadata": {},
   "outputs": [],
   "source": [
    "global_results.pf2D_Decoder.spikes_df.binned_time"
   ]
  },
  {
   "cell_type": "code",
   "execution_count": null,
   "id": "6635bef7-3f7b-4d9a-b2d1-f28d48f5b2b6",
   "metadata": {},
   "outputs": [],
   "source": [
    "from pyphoplacecellanalysis.General.Pipeline.Stages.ComputationFunctions.MultiContextComputationFunctions.MultiContextComputationFunctions import compute_relative_entropy_divergence_overlap\n",
    "\n",
    "relative_entropy_overlap_dict, relative_entropy_overlap_scalars_df = compute_relative_entropy_divergence_overlap(long_results, short_results, debug_print=False)\n",
    "relative_entropy_overlap_scalars_df\n",
    "\n",
    "aclu_keys = [k for k,v in relative_entropy_overlap_dict.items() if v is not None]\n",
    "# len(aclu_keys) # 101\n",
    "short_long_rel_entr_curves = np.vstack([v['short_long_rel_entr_curve'] for k,v in relative_entropy_overlap_dict.items() if v is not None])\n",
    "short_long_rel_entr_curves # .shape # (101, 63)"
   ]
  },
  {
   "cell_type": "code",
   "execution_count": null,
   "id": "8ba2cfd7-e192-44ee-8976-44ee4994ff64",
   "metadata": {},
   "outputs": [],
   "source": [
    "from PendingNotebookCode import Plot\n",
    "plot = Plot(curr_active_pipeline)\n",
    "plot"
   ]
  },
  {
   "cell_type": "code",
   "execution_count": null,
   "id": "f131e643-be52-43a3-a79b-6df6529c1ec2",
   "metadata": {},
   "outputs": [],
   "source": [
    "plot._display_1d_placefields"
   ]
  },
  {
   "cell_type": "code",
   "execution_count": null,
   "id": "8fb69475-7add-4c96-afd2-37bb93b27b8c",
   "metadata": {},
   "outputs": [],
   "source": [
    "plot._display_3d_image_plotter"
   ]
  },
  {
   "cell_type": "code",
   "execution_count": null,
   "id": "5f721be2-3aa0-4914-8e03-96ae8291ffdd",
   "metadata": {},
   "outputs": [],
   "source": [
    "curr_active_pipeline.display('_display_1d_placefield_validations', active_session_configuration_context=curr_active_pipeline.filtered_contexts.maze)"
   ]
  },
  {
   "cell_type": "code",
   "execution_count": null,
   "id": "cd809f42-1ab1-4656-b5e5-5fea032347e3",
   "metadata": {},
   "outputs": [],
   "source": [
    "list(curr_active_pipeline.filtered_contexts.values())[-1]"
   ]
  },
  {
   "cell_type": "code",
   "execution_count": null,
   "id": "ec64c65a-30f6-4007-ba88-c73f565df1de",
   "metadata": {},
   "outputs": [],
   "source": []
  },
  {
   "cell_type": "markdown",
   "id": "4213a9ce-5f73-475a-be83-22fea1a4eebc",
   "metadata": {
    "tags": []
   },
   "source": [
    "# 🚀📌✳️⛳ 2022-12-09 Almost got relative entropy working for iterative `pf_1D_dt` (to see how much surprise a given lap, or intra-lap period, generates):\n",
    "\n",
    "ACTIVE FOR MONDAY: \n",
    "Only running into a small issue where I'm not sure what the correct neuron_IDs for the snapshotted-values are."
   ]
  },
  {
   "cell_type": "code",
   "execution_count": null,
   "id": "afc6852f-5d81-471c-929e-b4e102ae0743",
   "metadata": {
    "tags": []
   },
   "outputs": [],
   "source": [
    "## Newest way of dropping bad laps:\n",
    "from neuropy.utils.efficient_interval_search import get_non_overlapping_epochs, drop_overlapping\n",
    "from neuropy.core.epoch import Epoch\n",
    "from pyphocorehelpers.print_helpers import print_object_memory_usage  # used in batch_snapshotting(...) to show object memory usage\n",
    "\n",
    "from neuropy.analyses.laps import _build_new_lap_and_intra_lap_intervals # for _perform_time_dependent_pf_sequential_surprise_computation\n",
    "\n",
    "sess = curr_active_pipeline.sess\n",
    "sess, combined_records_list = _build_new_lap_and_intra_lap_intervals(sess)"
   ]
  },
  {
   "cell_type": "code",
   "execution_count": 174,
   "id": "52c5d1ac-1ccd-453f-89b6-00adba4a3784",
   "metadata": {},
   "outputs": [],
   "source": [
    "from neuropy.analyses.time_dependent_placefields import PfND_TimeDependent\n",
    "\n",
    "global_epoch_name = curr_active_pipeline.active_completed_computation_result_names[-1] # 'maze'\n",
    "global_results = curr_active_pipeline.computation_results[global_epoch_name]['computed_data']\n",
    "\n",
    "## Get existing `pf1D_dt`:\n",
    "active_pf_1D_dt = global_results.pf1D_dt\n",
    "\n",
    "# ## Make new pf_1D_dt:\n",
    "computation_result = curr_active_pipeline.computation_results[global_epoch_name]\n",
    "active_session, pf_computation_config = computation_result.sess, computation_result.computation_config.pf_params\n",
    "active_session_spikes_df, active_pos, computation_config, active_epoch_placefields1D, active_epoch_placefields2D, included_epochs, should_force_recompute_placefields = active_session.spikes_df, active_session.position, pf_computation_config, None, None, pf_computation_config.computation_epochs, True\n",
    "active_pf_1D_dt = PfND_TimeDependent(deepcopy(active_session_spikes_df), deepcopy(active_pos.linear_pos_obj), epochs=included_epochs,\n",
    "                                    speed_thresh=computation_config.speed_thresh, frate_thresh=computation_config.frate_thresh,\n",
    "                                    grid_bin=computation_config.grid_bin, grid_bin_bounds=computation_config.grid_bin_bounds, smooth=computation_config.smooth)\n",
    "\n"
   ]
  },
  {
   "cell_type": "code",
   "execution_count": null,
   "id": "bbb66068-b670-4eb1-80f4-32dd9d117895",
   "metadata": {
    "tags": []
   },
   "outputs": [],
   "source": [
    "_out_snapshots = active_pf_1D_dt.batch_snapshotting(combined_records_list, reset_at_start=True, debug_print=False)"
   ]
  },
  {
   "cell_type": "code",
   "execution_count": null,
   "id": "ab7e6104-bbf6-43c6-8609-8eb8d36e282b",
   "metadata": {
    "tags": []
   },
   "outputs": [],
   "source": [
    "_out_snapshots"
   ]
  },
  {
   "cell_type": "code",
   "execution_count": null,
   "id": "b7fdd6a9-63d5-47e6-a8e9-cfd2218b9f53",
   "metadata": {
    "tags": []
   },
   "outputs": [],
   "source": [
    "print_object_memory_usage(_out_snapshots) # object size: 11.900370 MB"
   ]
  },
  {
   "cell_type": "code",
   "execution_count": null,
   "id": "98dff342-6c92-4827-84da-9f281cf95f18",
   "metadata": {},
   "outputs": [],
   "source": [
    "    'flat_relative_entropy_results'\n",
    "pf_overlap_results, flat_relative_entropy_results = compute_snapshot_differences(active_pf_1D_dt)"
   ]
  },
  {
   "cell_type": "code",
   "execution_count": null,
   "id": "2e571080-2b8e-4924-98cc-dc7fdb608be1",
   "metadata": {},
   "outputs": [],
   "source": [
    "flat_relative_entropy_results = np.vstack(flat_relative_entropy_results)"
   ]
  },
  {
   "cell_type": "code",
   "execution_count": null,
   "id": "3db12532-ba56-4e8f-b64f-bfac5a73afdc",
   "metadata": {},
   "outputs": [],
   "source": [
    "sess.epochs"
   ]
  },
  {
   "cell_type": "code",
   "execution_count": null,
   "id": "8eefaffa-d9a6-4499-86a9-03414ae1abad",
   "metadata": {},
   "outputs": [],
   "source": []
  },
  {
   "cell_type": "code",
   "execution_count": null,
   "id": "cd730158-4d91-4a37-8d94-4d33ce5ade99",
   "metadata": {},
   "outputs": [],
   "source": [
    "flat_relative_entropy_results.shape # (149, 63) (n_windows, n_locations)"
   ]
  },
  {
   "cell_type": "code",
   "execution_count": null,
   "id": "2082c157-b481-4691-93b7-275fa7f29b98",
   "metadata": {},
   "outputs": [],
   "source": [
    "len(snapshot_times) # we'll call the time being analyzed between snapshots: t, t+1 the snapshot t+1 since it incldues the contribution of these timepoints"
   ]
  },
  {
   "cell_type": "code",
   "execution_count": null,
   "id": "bdb05d09-251a-43e8-b493-d7cd50250ddb",
   "metadata": {},
   "outputs": [],
   "source": [
    "plt.plot(snapshot_times[1:], flat_relative_entropy_results)"
   ]
  },
  {
   "cell_type": "code",
   "execution_count": null,
   "id": "77243e72-28e4-418d-a797-db3871057c8c",
   "metadata": {},
   "outputs": [],
   "source": [
    "plt.axvline(1211.55808)"
   ]
  },
  {
   "cell_type": "markdown",
   "id": "49c95b1d-2a47-4e3c-b8ee-d439198e9a7d",
   "metadata": {
    "jp-MarkdownHeadingCollapsed": true,
    "tags": []
   },
   "source": [
    "## `active_pf_nD`, `active_pf_nD_dt` visualizations"
   ]
  },
  {
   "cell_type": "code",
   "execution_count": null,
   "id": "64faa259-d3fa-4df0-8f65-d3fc20132314",
   "metadata": {},
   "outputs": [],
   "source": [
    "from pyphoplacecellanalysis.Pho2D.PyQtPlots.TimeSynchronizedPlotters.TimeSynchronizedOccupancyPlotter import TimeSynchronizedOccupancyPlotter\n",
    "\n",
    "curr_sync_occupancy_plotter = TimeSynchronizedOccupancyPlotter(active_pf_2D_dt)\n",
    "curr_sync_occupancy_plotter.show()"
   ]
  },
  {
   "cell_type": "code",
   "execution_count": null,
   "id": "cab755fe-3b7a-4797-bafd-d33d666c84b3",
   "metadata": {},
   "outputs": [],
   "source": [
    "active_pf_1D_dt.plot_ratemaps_1D(**({'subplots': (None, 9), 'resolution_multiplier': 1.0, 'enable_spike_overlay': False}));"
   ]
  },
  {
   "cell_type": "code",
   "execution_count": null,
   "id": "27682783-c1f0-487b-abda-231d0faf7de7",
   "metadata": {},
   "outputs": [],
   "source": [
    "active_pf_1D.plot_ratemaps_1D(**({'subplots': (None, 9), 'resolution_multiplier': 1.0, 'enable_spike_overlay': False}));"
   ]
  },
  {
   "cell_type": "code",
   "execution_count": null,
   "id": "bf582372-8835-4cad-ba36-6478441d195d",
   "metadata": {},
   "outputs": [],
   "source": [
    "active_pf_2D_dt.update(t=3000000.0)"
   ]
  },
  {
   "cell_type": "code",
   "execution_count": null,
   "id": "8273f9b8-5e95-4713-97ca-02cc5843644d",
   "metadata": {},
   "outputs": [],
   "source": [
    "active_pf_2D_dt.plot_ratemaps_2D(**({'subplots': (None, 9), 'resolution_multiplier': 1.0, 'enable_spike_overlay': False}));"
   ]
  },
  {
   "cell_type": "code",
   "execution_count": null,
   "id": "f4ef9219-087b-43df-a56f-d640385b9374",
   "metadata": {},
   "outputs": [],
   "source": [
    "active_pf_2D.plot_ratemaps_2D(**({'subplots': (None, 9), 'resolution_multiplier': 1.0, 'enable_spike_overlay': False}));"
   ]
  },
  {
   "cell_type": "code",
   "execution_count": null,
   "id": "ec0e0852-84c1-4e02-bae8-6e59d079c122",
   "metadata": {},
   "outputs": [],
   "source": [
    "active_pf_2D_dt.plot_ratemaps_2D(**({'subplots': (None, 9), 'resolution_multiplier': 1.0, 'enable_spike_overlay': False}))"
   ]
  },
  {
   "cell_type": "code",
   "execution_count": null,
   "id": "00ba5ca1-5263-4ed6-b7fa-ea1cba869715",
   "metadata": {},
   "outputs": [],
   "source": [
    "active_pf_2D.plot_ratemaps_2D(**({'subplots': (None, 9), 'resolution_multiplier': 1.0, 'enable_spike_overlay': False}))"
   ]
  },
  {
   "cell_type": "markdown",
   "id": "6d633f44-df72-4e3c-a1c2-4272558f508d",
   "metadata": {
    "tags": []
   },
   "source": [
    "## Laps and `stacked_epoch_slices_view`"
   ]
  },
  {
   "cell_type": "code",
   "execution_count": null,
   "id": "32253045-63dd-4385-ab61-cb73aa24996e",
   "metadata": {},
   "outputs": [],
   "source": [
    "from pyphoplacecellanalysis.GUI.PyVista.InteractivePlotter.Mixins.LapsVisualizationMixin import LapsVisualizationMixin\n",
    "from pyphoplacecellanalysis.Pho2D.stacked_epoch_slices import stacked_epoch_slices_view, stacked_epoch_slices_view_viewbox\n",
    "\n",
    "sess = curr_active_pipeline.sess\n",
    "curr_position_df, lap_specific_position_dfs = LapsVisualizationMixin._compute_laps_specific_position_dfs(sess)\n",
    "lap_specific_position_dfs = [curr_position_df.groupby('lap').get_group(i)[['t','x','y','lin_pos']] for i in sess.laps.lap_id] # dataframes split for each ID:\n",
    "laps_position_times_list = [np.squeeze(lap_pos_df[['t']].to_numpy()) for lap_pos_df in lap_specific_position_dfs]\n",
    "laps_position_traces_list = [lap_pos_df[['x','y']].to_numpy().T for lap_pos_df in lap_specific_position_dfs]\n",
    "\n",
    "## Build Epochs:\n",
    "epochs = sess.laps.to_dataframe()\n",
    "epoch_slices = epochs[['start', 'stop']].to_numpy()\n",
    "epoch_description_list = [f'lap {epoch_tuple.lap_id} (maze: {epoch_tuple.maze_id}, direction: {epoch_tuple.lap_dir})' for epoch_tuple in epochs[['lap_id','maze_id','lap_dir']].itertuples()]\n",
    "# print(f'epoch_description_list: {epoch_description_list}') # epoch_descriptions: ['lap 41 (maze: 2, direction: 1)', 'lap 42 (maze: 2, direction: 0)', ..., 'lap 79 (maze: 2, direction: 1)']\n",
    "\n",
    "stacked_epoch_slices_view_laps_containers = stacked_epoch_slices_view(epoch_slices, laps_position_times_list, laps_position_traces_list, epoch_description_list, name='stacked_epoch_slices_view_laps')\n",
    "# params, plots_data, plots, ui = stacked_epoch_slices_view_laps_containers"
   ]
  },
  {
   "cell_type": "code",
   "execution_count": null,
   "id": "f21f3dc0-a3f0-4596-bf8d-6195a0ab400f",
   "metadata": {},
   "outputs": [],
   "source": []
  },
  {
   "cell_type": "code",
   "execution_count": null,
   "id": "a9f9df68-e032-4176-9381-5deb899b87f5",
   "metadata": {},
   "outputs": [],
   "source": [
    "import matplotlib.pyplot as plt\n",
    "from neuropy.utils.misc import is_iterable\n",
    "from neuropy.plotting.figure import pretty_plot\n",
    "from scipy.ndimage import gaussian_filter, gaussian_filter1d, interpolation\n",
    "\n",
    "from neuropy.analyses.laps import estimation_session_laps # Newest pho laps estimation\n",
    "from pyphoplacecellanalysis.Analysis.reliability import compute_lap_to_lap_reliability\n",
    "\n",
    "from pyphoplacecellanalysis.PhoPositionalData.plotting.laps import _plot_position_curves_figure\n",
    "from pyphoplacecellanalysis.PhoPositionalData.plotting.laps import plot_laps_2d\n",
    "\n",
    "curr_result_label = 'maze1'\n",
    "sess = curr_active_pipeline.filtered_sessions[curr_result_label]\n",
    "sess = curr_active_pipeline.sess"
   ]
  },
  {
   "cell_type": "code",
   "execution_count": null,
   "id": "fad99826-10ab-4979-ab0e-f186016b3b50",
   "metadata": {},
   "outputs": [],
   "source": [
    "# ## Approach: try to compute brand-new laps using estimation_session_laps(sess):\n",
    "# sess = estimation_session_laps(sess)"
   ]
  },
  {
   "cell_type": "code",
   "execution_count": null,
   "id": "d608ab32-6ddc-4cd3-92eb-02fd41333906",
   "metadata": {},
   "outputs": [],
   "source": [
    "active_pf_1D_dt.snapshot()"
   ]
  },
  {
   "cell_type": "code",
   "execution_count": null,
   "id": "73669756-4a9d-4bc7-8d41-72d4d807104d",
   "metadata": {},
   "outputs": [],
   "source": [
    "even_lap_specific_epochs.to_dataframe()"
   ]
  },
  {
   "cell_type": "code",
   "execution_count": null,
   "id": "6c67af28-8cd8-46e8-a683-7e2f4ccd8a76",
   "metadata": {},
   "outputs": [],
   "source": [
    "curr_active_pipeline.sess.laps.to_dataframe()"
   ]
  },
  {
   "cell_type": "code",
   "execution_count": null,
   "id": "bab47e75-79d4-419e-b181-8ca27e277d66",
   "metadata": {},
   "outputs": [],
   "source": [
    "pos_df = sess.position.to_dataframe()\n",
    "hardcoded_track_midpoint_x = 150.0"
   ]
  },
  {
   "cell_type": "code",
   "execution_count": null,
   "id": "f881cd5d-2dcd-42bc-ae8f-3bb67daf3c1b",
   "metadata": {},
   "outputs": [],
   "source": [
    "pos_df.x.aggregate(['nanmin','mean', 'median','nanmax'])"
   ]
  },
  {
   "cell_type": "code",
   "execution_count": null,
   "id": "62324d83-c5da-40cc-ae99-37771b916c28",
   "metadata": {},
   "outputs": [],
   "source": [
    "# %pdb off\n",
    "fig, out_axes_list = _plot_position_curves_figure(sess.position, include_velocity=True, include_accel=True, figsize=(24, 10))\n",
    "ax0 = out_axes_list[0]"
   ]
  },
  {
   "cell_type": "code",
   "execution_count": null,
   "id": "d1644c1d-8704-4c98-b272-e5901b9b0e85",
   "metadata": {},
   "outputs": [],
   "source": [
    "assert set(['x','velocity_x_smooth']).issubset(pos_df.columns), 'pos_df requires the columns \"x\", and \"velocity_x_smooth\" at a minimum'\n",
    "zero_centered_x = pos_df['x'] - hardcoded_track_midpoint_x\n",
    "zero_crossings_x = np.diff(np.sign(zero_centered_x))\n",
    "# Find ascending crossings:\n",
    "asc_crossing_midpoints = np.where(zero_crossings_x > 0)[0] # (24,), corresponding to increasing positions\n",
    "# find descending crossings:\n",
    "desc_crossing_midpoints = np.where(zero_crossings_x < 0)[0] # (24,)\n",
    "print(f'desc_crossings_x: {np.shape(desc_crossing_midpoints)}, asc_crossings_x: {np.shape(asc_crossing_midpoints)}') # desc_crossings_x: (24,), asc_crossings_x: (24,)\n",
    "# desc_crossings_x: (43,), asc_crossings_x: (42,)\n",
    "\n",
    "desc_crossing_beginings = np.zeros_like(desc_crossing_midpoints)\n",
    "desc_crossing_endings = np.zeros_like(desc_crossing_midpoints)\n",
    "\n",
    "asc_crossing_beginings = np.zeros_like(asc_crossing_midpoints)\n",
    "asc_crossing_endings = np.zeros_like(asc_crossing_midpoints)"
   ]
  },
  {
   "cell_type": "code",
   "execution_count": null,
   "id": "c284cc55-aaa2-44e1-b630-65d0f4e5b0eb",
   "metadata": {},
   "outputs": [],
   "source": [
    "# desc_crossings_x: (43,), asc_crossings_x: (42,)"
   ]
  },
  {
   "cell_type": "code",
   "execution_count": null,
   "id": "a4354dc6-3d81-4e53-a116-353a0a2372ba",
   "metadata": {},
   "outputs": [],
   "source": [
    "zero_crossings_x.nonzero()[0].shape # (85,)"
   ]
  },
  {
   "cell_type": "code",
   "execution_count": null,
   "id": "6c0f63d1-aa70-4514-92eb-dd5bc174aacf",
   "metadata": {},
   "outputs": [],
   "source": [
    "if len(desc_crossing_midpoints) > len(asc_crossing_midpoints):\n",
    "    print(f'WARNING: must drop last desc_crossing_midpoint.')\n",
    "    assert len(desc_crossing_midpoints) > 1\n",
    "    desc_crossing_midpoints = desc_crossing_midpoints[:-1] # all but the very last which is dropped\n",
    "    \n",
    "elif len(asc_crossing_midpoints) > len(desc_crossing_midpoints):\n",
    "    print(f'WARNING: must drop last asc_crossing_midpoints.')\n",
    "    assert len(asc_crossing_midpoints) > 1\n",
    "    asc_crossing_midpoints = asc_crossing_midpoints[:-1] # all but the very last which is dropped\n",
    "    \n",
    "assert len(asc_crossing_midpoints) == len(desc_crossing_midpoints), f\"desc_crossings_x: {np.shape(desc_crossing_midpoints)}, asc_crossings_x: {np.shape(asc_crossing_midpoints)}\"\n",
    "desc_crossing_midpoints, asc_crossing_midpoints"
   ]
  },
  {
   "cell_type": "code",
   "execution_count": null,
   "id": "64e34273-05a7-4e86-9b03-f0e059aad7f7",
   "metadata": {},
   "outputs": [],
   "source": [
    "is_starting_with_ascend = (asc_crossing_midpoints[0] < desc_crossing_midpoints[0]) # True if the animal is starting at the lower half (bottom) of the track, meaning the first motion is an ascending one\n",
    "is_starting_with_ascend"
   ]
  },
  {
   "cell_type": "code",
   "execution_count": null,
   "id": "87ca1a8d-d5c4-4056-bd2c-2e8918dce99f",
   "metadata": {},
   "outputs": [],
   "source": [
    "desc_crossing_midpoints, asc_crossing_midpoints"
   ]
  },
  {
   "cell_type": "code",
   "execution_count": null,
   "id": "d6f3b8f1-0c0a-4890-bea4-744373dacb33",
   "metadata": {},
   "outputs": [],
   "source": [
    "debug_draw = False\n",
    "\n",
    "# testing-only, work on a single crossing:\n",
    "for a_desc_crossing_i in np.arange(len(desc_crossing_midpoints)):\n",
    "    a_desc_crossing = desc_crossing_midpoints[a_desc_crossing_i]\n",
    "    # print(f'a_desc_crossing: {a_desc_crossing}')\n",
    "    # pos_df.loc[a_desc_crossing:, :]\n",
    "    curr_remainder_pos_df = pos_df.loc[a_desc_crossing:, :]\n",
    "    # pos_df.loc[a_desc_crossing:, ['velocity_x_smooth']]\n",
    "    curr_next_transition_points = curr_remainder_pos_df[curr_remainder_pos_df['velocity_x_smooth'] > 0.0].index # the first increasing\n",
    "    curr_next_transition_point = curr_next_transition_points[0] # desc endings\n",
    "    desc_crossing_endings[a_desc_crossing_i] = curr_next_transition_point\n",
    "\n",
    "    # Preceeding points:\n",
    "    curr_preceeding_pos_df = pos_df.loc[0:a_desc_crossing, :]\n",
    "    curr_prev_transition_points = curr_preceeding_pos_df[curr_preceeding_pos_df['velocity_x_smooth'] > 0.0].index # the last increasing # TODO: this is not quite right.\n",
    "    curr_prev_transition_point = curr_prev_transition_points[-1] # Get last (nearest to curr_preceeding_pos_df's end) point. desc beginings\n",
    "    desc_crossing_beginings[a_desc_crossing_i] = curr_prev_transition_point\n",
    "    if debug_draw:\n",
    "        ax0.scatter(curr_points[curr_next_transition_point,0], curr_points[curr_next_transition_point,1], s=15, c='orange')\n",
    "        ax0.vlines(curr_points[curr_next_transition_point,0], 0, 1, transform=ax0.get_xaxis_transform(), colors='r')"
   ]
  },
  {
   "cell_type": "code",
   "execution_count": null,
   "id": "3cddb042-579a-4fe7-bb5d-6e1f55f023a8",
   "metadata": {},
   "outputs": [],
   "source": [
    "for a_asc_crossing_i in np.arange(len(asc_crossing_midpoints)):\n",
    "    an_asc_crossing = asc_crossing_midpoints[a_asc_crossing_i]\n",
    "    # print(f'a_desc_crossing: {a_desc_crossing}')\n",
    "    # pos_df.loc[a_desc_crossing:, :]\n",
    "    curr_remainder_pos_df = pos_df.loc[an_asc_crossing:, :]\n",
    "    # pos_df.loc[a_desc_crossing:, ['velocity_x_smooth']]\n",
    "    curr_next_transition_points = curr_remainder_pos_df[curr_remainder_pos_df['velocity_x_smooth'] < 0.0].index # the first decreasing\n",
    "    curr_next_transition_point = curr_next_transition_points[0] # asc endings\n",
    "    asc_crossing_endings[a_asc_crossing_i] = curr_next_transition_point\n",
    "    if debug_draw:\n",
    "        ax0.scatter(curr_points[curr_next_transition_point,0], curr_points[curr_next_transition_point,1], s=15, c='orange')\n",
    "        ax0.vlines(curr_points[curr_next_transition_point,0], 0, 1, transform=ax0.get_xaxis_transform(), colors='g')\n",
    "\n",
    "    # Preceeding points:\n",
    "    curr_preceeding_pos_df = pos_df.loc[0:an_asc_crossing, :]\n",
    "    curr_prev_transition_points = curr_preceeding_pos_df[curr_preceeding_pos_df['velocity_x_smooth'] < 0.0].index #\n",
    "    curr_prev_transition_point = curr_prev_transition_points[-1] # Get last (nearest to curr_preceeding_pos_df's end) point. desc beginings\n",
    "    asc_crossing_beginings[a_asc_crossing_i] = curr_prev_transition_point"
   ]
  },
  {
   "cell_type": "code",
   "execution_count": null,
   "id": "49375f96-3fc4-4165-8b31-802c8b193ab0",
   "metadata": {},
   "outputs": [],
   "source": [
    "## Outputs\n",
    "desc_crossing_beginings, desc_crossing_midpoints, desc_crossing_endings, asc_crossing_beginings, asc_crossing_midpoints, asc_crossing_endings"
   ]
  },
  {
   "cell_type": "code",
   "execution_count": null,
   "id": "556f657e-3b3e-4257-92c9-59d1cde7e56c",
   "metadata": {},
   "outputs": [],
   "source": []
  },
  {
   "cell_type": "code",
   "execution_count": null,
   "id": "1d9ee62a-91c9-4ac9-b1fc-92586c8d82ff",
   "metadata": {},
   "outputs": [],
   "source": [
    "curr_laps = sess.laps\n",
    "curr_laps.from_estimated_laps()"
   ]
  },
  {
   "cell_type": "code",
   "execution_count": null,
   "id": "273e02a3-057c-44cb-bc6f-44e7baadc567",
   "metadata": {},
   "outputs": [],
   "source": [
    "curr_laps_df = sess.laps.to_dataframe()\n",
    "curr_laps_df"
   ]
  },
  {
   "cell_type": "code",
   "execution_count": null,
   "id": "ab44ff03-dd61-4e18-b75f-2739bb562918",
   "metadata": {},
   "outputs": [],
   "source": []
  },
  {
   "cell_type": "code",
   "execution_count": null,
   "id": "2ec15352-ca62-4be7-952e-128f8b7dde45",
   "metadata": {},
   "outputs": [],
   "source": [
    "pos_df = sess.compute_position_laps() # ensures the laps are computed if they need to be:\n",
    "position_obj = sess.position\n",
    "position_obj.compute_higher_order_derivatives()\n",
    "pos_df = position_obj.compute_smoothed_position_info(N=20) ## Smooth the velocity curve to apply meaningful logic to it\n",
    "pos_df = position_obj.to_dataframe()\n",
    "pos_df"
   ]
  },
  {
   "cell_type": "markdown",
   "id": "3a7d35f7-e385-4a17-a91c-abc8b67e4dbb",
   "metadata": {
    "jp-MarkdownHeadingCollapsed": true,
    "tags": []
   },
   "source": [
    "## Missing 'start_position_index' and 'end_position_index' for laps:"
   ]
  },
  {
   "cell_type": "code",
   "execution_count": null,
   "id": "b3b9e07d-bdeb-4494-979b-3b0b3cec0f4c",
   "metadata": {},
   "outputs": [],
   "source": [
    "# fig, out_axes_list = plot_laps_2d(sess, legacy_plotting_mode=True)\n",
    "fig, out_axes_list = plot_laps_2d(sess, legacy_plotting_mode=False)\n",
    "out_axes_list[0].set_title('New Pho Position Thresholding Estimated Laps')\n",
    "\n",
    "curr_cell_idx = 2 \n",
    "# curr_cell_idx = 3 # good for end platform analysis\n",
    "curr_cell_ID = sess.spikes_df.spikes.neuron_ids[curr_cell_idx]\n",
    "print(f'curr_cell_idx: {curr_cell_idx}, curr_cell_ID: {curr_cell_ID}')\n",
    "\n",
    "# pre-filter by spikes that occur in one of the included laps for the filtered_spikes_df\n",
    "filtered_spikes_df = sess.spikes_df.copy()\n",
    "time_variable_name = filtered_spikes_df.spikes.time_variable_name # 't_rel_seconds'\n",
    "\n",
    "lap_ids = sess.laps.lap_id\n",
    "# lap_flat_idxs = sess.laps.get_lap_flat_indicies(lap_ids)\n",
    "\n",
    "out_indicies, out_digitized_position_bins, out_within_lap_spikes_overlap = compute_lap_to_lap_reliability(curr_active_pipeline.computation_results[curr_result_label].computed_data['pf2D'], filtered_spikes_df, lap_ids, curr_cell_idx, debug_print=False, plot_results=True);\n",
    "\n",
    "# compute_reliability_metrics(out_indicies, out_digitized_position_bins, out_within_lap_spikes_overlap, debug_print=False, plot_results=False)\n",
    "\n",
    "# # curr_kdiba_pipeline.computation_results['maze1'].computed_data['pf2D'].plotRaw_v_time(curr_cell_idx)\n",
    "# _test_plotRaw_v_time(curr_kdiba_pipeline.computation_results[curr_result_label].computed_data['pf2D'], curr_cell_idx)"
   ]
  },
  {
   "cell_type": "code",
   "execution_count": null,
   "id": "2db190a7-2b3d-4f63-be72-a5204a43dad7",
   "metadata": {},
   "outputs": [],
   "source": []
  },
  {
   "cell_type": "markdown",
   "id": "05348578-ac0c-4da1-a9c9-36794e5997c8",
   "metadata": {
    "tags": []
   },
   "source": [
    "# `_display_short_long_pf1D_comparison` and `_display_short_long_pf1D_scalar_overlap_comparison`"
   ]
  },
  {
   "cell_type": "code",
   "execution_count": null,
   "id": "28739947-375a-4c68-95fa-ccc54eb9824a",
   "metadata": {},
   "outputs": [],
   "source": [
    "active_identifying_session_ctx = curr_active_pipeline.sess.get_context() # 'bapun_RatN_Day4_2019-10-15_11-30-06'\n",
    "\n",
    "long_single_cell_pfmap_processing_fn = None\n",
    "short_single_cell_pfmap_processing_fn = None\n",
    "\n",
    "# long_single_cell_pfmap_processing_fn = lambda i, aclu, pfmap: 0.5 * pfmap # flip over the y-axis\n",
    "# short_single_cell_pfmap_processing_fn = lambda i, aclu, pfmap: -0.5 * pfmap # flip over the y-axis\n",
    "\n",
    "# pad = 1\n",
    "# long_single_cell_pfmap_processing_fn = lambda i, aclu, pfmap: (0.5 * pfmap) + (0.5*pad) # shift the baseline up by half\n",
    "# short_single_cell_pfmap_processing_fn = lambda i, aclu, pfmap: (-0.5 * pfmap * pad) + (0.5*pad) # flip over the y-axis, shift the baseline down by half\n",
    "\n",
    "# pad = 1\n",
    "# long_single_cell_pfmap_processing_fn = lambda i, aclu, pfmap: (0.5 * pfmap * pad) + (0.5*pad) # shift the baseline up by half\n",
    "# short_single_cell_pfmap_processing_fn = lambda i, aclu, pfmap: (0.5 * pfmap * pad) + (0.5*pad) # flip over the y-axis, shift the baseline down by half\n",
    "# long_single_cell_pfmap_processing_fn = lambda i, aclu, pfmap: (0.5 * pfmap * pad) # shift the baseline up by half\n",
    "# short_single_cell_pfmap_processing_fn = lambda i, aclu, pfmap: (0.5 * pfmap * pad) # flip over the y-axis, shift the baseline down by half\n",
    "\n",
    "\n",
    "# long_single_cell_pfmap_processing_fn = lambda i, aclu, pfmap: (1.0 * pfmap * pad) # shift the baseline up by half\n",
    "# short_single_cell_pfmap_processing_fn = lambda i, aclu, pfmap: (-1.0 * pfmap * pad) + (1.0*pad) # this does not work and results in short being fully filled. I think this is because the fill_between gets reversed since everything is below baseline\n",
    "\n",
    "\n",
    "out = curr_active_pipeline.display('_display_short_long_pf1D_comparison', active_identifying_session_ctx, single_figure=True, debug_print=False, fignum='Short v Long pf1D Comparison',\n",
    "                                   long_kwargs={'sortby': sort_idx, 'single_cell_pfmap_processing_fn': long_single_cell_pfmap_processing_fn},\n",
    "                                   short_kwargs={'sortby': sort_idx, 'single_cell_pfmap_processing_fn': short_single_cell_pfmap_processing_fn, 'curve_hatch_style': {'hatch':'///', 'edgecolor':'k'}},\n",
    "                                  )\n",
    "ax = out.axes[0]"
   ]
  },
  {
   "cell_type": "code",
   "execution_count": null,
   "id": "e882c022-7426-4143-bade-93ee7802d1b1",
   "metadata": {},
   "outputs": [],
   "source": [
    "## Overlap Scalar Comparisons: plots a comparison of a specific type of scalar values for all cells\n",
    "from pyphoplacecellanalysis.General.Pipeline.Stages.DisplayFunctions.MultiContextComparingDisplayFunctions.MultiContextComparingDisplayFunctions import PlacefieldOverlapMetricMode\n",
    "\n",
    "active_identifying_session_ctx = curr_active_pipeline.sess.get_context() # 'bapun_RatN_Day4_2019-10-15_11-30-06'\n",
    "\n",
    "# overlap_metric_mode = PlacefieldOverlapMetricMode.POLY\n",
    "# overlap_metric_mode = PlacefieldOverlapMetricMode.PRODUCT\n",
    "# overlap_metric_mode = PlacefieldOverlapMetricMode.CONVOLUTION\n",
    "overlap_metric_mode = PlacefieldOverlapMetricMode.REL_ENTROPY\n",
    "\n",
    "out = curr_active_pipeline.display('_display_short_long_pf1D_scalar_overlap_comparison', active_identifying_session_ctx, overlap_metric_mode=overlap_metric_mode, variant_name='_area')"
   ]
  },
  {
   "cell_type": "code",
   "execution_count": null,
   "id": "2ff7d434-25c8-425e-8578-00ba8f333588",
   "metadata": {},
   "outputs": [],
   "source": [
    "from pyphoplacecellanalysis.Pho2D.PyQtPlots.TimeSynchronizedPlotters.TimeSynchronizedOccupancyPlotter import TimeSynchronizedOccupancyPlotter\n",
    "from pyphoplacecellanalysis.Pho2D.PyQtPlots.TimeSynchronizedPlotters.TimeSynchronizedPlacefieldsPlotter import TimeSynchronizedPlacefieldsPlotter\n",
    "\n",
    "curr_placefields_plotter = TimeSynchronizedPlacefieldsPlotter(active_pf_2D_dt)\n",
    "curr_placefields_plotter.show()"
   ]
  },
  {
   "cell_type": "markdown",
   "id": "100b3e55-3243-4346-aa00-9b6fd705e7ff",
   "metadata": {
    "tags": []
   },
   "source": [
    "## 2022-12-09 - Pho Surprise/KL-Divergence Metrics"
   ]
  },
  {
   "cell_type": "markdown",
   "id": "53cd05b7-ade9-420e-8b14-3e71474431f5",
   "metadata": {
    "pycharm": {
     "name": "#%%\n"
    },
    "tags": []
   },
   "source": [
    "## ❌🆖 BROKEN Individual Plotting Outputs:"
   ]
  },
  {
   "cell_type": "markdown",
   "id": "9655181f-dc58-470a-b496-0fc9cd3c0883",
   "metadata": {
    "jp-MarkdownHeadingCollapsed": true,
    "tags": []
   },
   "source": [
    "### Common Config"
   ]
  },
  {
   "cell_type": "code",
   "execution_count": null,
   "id": "ad892ba6-4657-4370-957c-d2926c32826c",
   "metadata": {
    "tags": []
   },
   "outputs": [],
   "source": [
    "## MATPLOTLIB Imports:\n",
    "import matplotlib\n",
    "# configure backend here\n",
    "matplotlib.use('Qt5Agg')\n",
    "# backend_qt5agg\n",
    "# matplotlib.use('AGG') # non-interactive backend\n",
    "## 2022-08-16 - Surprisingly this works to make the matplotlib figures render only to .png file, not appear on the screen!\n",
    "import matplotlib.pyplot as plt\n",
    "import matplotlib as mpl\n",
    "from matplotlib.backends import backend_pdf\n",
    "\n",
    "from neuropy.utils.matplotlib_helpers import enumTuningMap2DPlotVariables # for getting the variant name from the dict\n",
    "_bak_rcParams = mpl.rcParams.copy()\n",
    "mpl.rcParams['toolbar'] = 'None' # disable toolbars\n",
    "\n",
    "from pyphoplacecellanalysis.General.Mixins.ExportHelpers import create_daily_programmatic_display_function_testing_folder_if_needed, build_pdf_metadata_from_display_context, programmatic_display_to_PDF\n",
    "\n",
    "# from pyphocorehelpers.plotting.figure_management import PhoActiveFigureManager2D, capture_new_figures_decorator\n",
    "# fig_man = PhoActiveFigureManager2D(name=f'fig_man') # Initialize a new figure manager\n",
    "\n",
    "active_identifying_session_ctx = curr_active_pipeline.sess.get_context() # 'bapun_RatN_Day4_2019-10-15_11-30-06'"
   ]
  },
  {
   "cell_type": "code",
   "execution_count": null,
   "id": "ff0e2d2e-b547-4fc9-a610-9cb834776a16",
   "metadata": {
    "tags": []
   },
   "outputs": [],
   "source": []
  },
  {
   "cell_type": "markdown",
   "id": "44dd1ae1-a5cd-4a03-bc11-dbb77dc161b8",
   "metadata": {
    "jp-MarkdownHeadingCollapsed": true,
    "tags": []
   },
   "source": [
    "### Single (Session, Filter) Context Plotting:"
   ]
  },
  {
   "cell_type": "markdown",
   "id": "774fe569-bbb0-4112-816d-bdbcba78dab5",
   "metadata": {
    "tags": []
   },
   "source": [
    "#### Utility:"
   ]
  },
  {
   "cell_type": "code",
   "execution_count": null,
   "id": "cc39ef8c-731a-47e5-9471-8f64d9e5511d",
   "metadata": {
    "scrolled": true
   },
   "outputs": [],
   "source": [
    "# Reload display functions:\n",
    "curr_active_pipeline.reload_default_display_functions()\n",
    "curr_active_pipeline.registered_display_function_names # ['_display_1d_placefield_validations', '_display_2d_placefield_result_plot_ratemaps_2D', '_display_2d_placefield_result_plot_raw', '_display_normal', '_display_placemaps_pyqtplot_2D', '_display_decoder_result', '_display_plot_most_likely_position_comparisons', '_display_two_step_decoder_prediction_error_2D', '_display_two_step_decoder_prediction_error_animated_2D', '_display_spike_rasters_pyqtplot_2D', '_display_spike_rasters_pyqtplot_3D', '_display_spike_rasters_pyqtplot_3D_with_2D_controls', '_display_spike_rasters_vedo_3D', '_display_spike_rasters_vedo_3D_with_2D_controls', '_display_spike_rasters_window', '_display_speed_vs_PFoverlapDensity_plots', '_display_3d_image_plotter', '_display_3d_interactive_custom_data_explorer', '_display_3d_interactive_spike_and_behavior_browser', '_display_3d_interactive_tuning_curves_plotter']\n",
    "print(curr_active_pipeline.registered_display_function_names)"
   ]
  },
  {
   "cell_type": "code",
   "execution_count": null,
   "id": "6f563259-19f3-4d85-bb53-ae88e389cde9",
   "metadata": {},
   "outputs": [],
   "source": [
    "%matplotlib --list \n",
    "# Available matplotlib backends: ['tk', 'gtk', 'gtk3', 'gtk4', 'wx', 'qt4', 'qt5', 'qt6', 'qt', 'osx', 'nbagg', 'notebook', 'agg', 'svg', 'pdf', 'ps', 'inline', 'ipympl', 'widget']"
   ]
  },
  {
   "cell_type": "code",
   "execution_count": null,
   "id": "e3ed2748-0817-42dc-93b8-6648d3c16caf",
   "metadata": {},
   "outputs": [],
   "source": [
    "%matplotlib qt\n",
    "## NOTE THAT ONCE THIS IS SET TO qt, it cannot be undone!"
   ]
  },
  {
   "cell_type": "markdown",
   "id": "4a062f0e-dfdf-4f95-a412-7cb8bbafb7c0",
   "metadata": {
    "jp-MarkdownHeadingCollapsed": true,
    "tags": []
   },
   "source": [
    "### Systematic Display Function Testing"
   ]
  },
  {
   "cell_type": "markdown",
   "id": "7811d710-3ada-437f-827d-0eeacbcbe16b",
   "metadata": {
    "tags": []
   },
   "source": [
    "#### Matplotlib-based plots:"
   ]
  },
  {
   "cell_type": "code",
   "execution_count": null,
   "id": "de4d9f10-e1ca-485d-af0f-4cd9a40562ae",
   "metadata": {
    "pycharm": {
     "name": "#%%\n"
    }
   },
   "outputs": [],
   "source": [
    "import matplotlib\n",
    "# matplotlib.use('AGG') # non-interactive backend\n",
    "# %matplotlib -l\n",
    "\n",
    "matplotlib.use('Qt5Agg') # non-interactive backend\n",
    "## 2022-08-16 - Surprisingly this works to make the matplotlib figures render only to .png file, not appear on the screen!\n",
    "\n",
    "curr_active_pipeline.filtered_session_names # ['maze', 'sprinkle']\n",
    "active_config_name = 'maze'\n",
    "\n",
    "active_display_to_pdf_fn = programmatic_display_to_PDF"
   ]
  },
  {
   "cell_type": "code",
   "execution_count": null,
   "id": "0217fa1d-86bd-4a3f-9413-3ae52901aef9",
   "metadata": {
    "scrolled": true
   },
   "outputs": [],
   "source": [
    "%%capture\n",
    "active_display_to_pdf_fn(curr_active_pipeline, curr_display_function_name='_display_1d_placefield_validations') # 🟢✅ Now seems to be working and saving to PDF!! Still using matplotlib.use('Qt5Agg') mode and plots still appear. Moderate visual improvements can still be made (titles overlap and stuff). Works with %%capture\n",
    "\n",
    "# active_display_to_pdf_fn(curr_active_pipeline, curr_display_function_name='_display_1d_placefield_validations', filter_name=active_config_name) # 🟢✅ Now seems to be working and saving to PDF!! Still using matplotlib.use('Qt5Agg') mode and plots still appear. Moderate visual improvements can still be made (titles overlap and stuff). Works with %%capture"
   ]
  },
  {
   "cell_type": "code",
   "execution_count": null,
   "id": "b0d9db48-c37b-4e67-8486-ddc1b0c7fba0",
   "metadata": {
    "scrolled": true
   },
   "outputs": [],
   "source": [
    "# %%capture\n",
    "active_display_to_pdf_fn(curr_active_pipeline, curr_display_function_name='_display_2d_placefield_result_plot_raw', debug_print=False) # 🔇🆖❌ IndexError: index 80 is out of bounds for GridSpec with size 80"
   ]
  },
  {
   "cell_type": "code",
   "execution_count": null,
   "id": "24c52598-3352-4b11-bb72-9dea8e55e527",
   "metadata": {
    "scrolled": true
   },
   "outputs": [],
   "source": [
    "# %%capture\n",
    "active_display_to_pdf_fn(curr_active_pipeline, curr_display_function_name='_display_1d_placefields', debug_print=False) # 🟢✅ Now seems to be working and saving to PDF!! Still using matplotlib.use('Qt5Agg') mode and plots still appear."
   ]
  },
  {
   "cell_type": "code",
   "execution_count": null,
   "id": "282bf408-5a13-47a3-a3c9-5c3d55454b4a",
   "metadata": {
    "tags": []
   },
   "outputs": [],
   "source": [
    "active_display_to_pdf_fn(curr_active_pipeline, curr_display_function_name='_display_1d_placefields', debug_print=True)"
   ]
  },
  {
   "cell_type": "code",
   "execution_count": null,
   "id": "bca4c701-a343-44c4-a2d7-68d6b975b6a6",
   "metadata": {
    "tags": []
   },
   "outputs": [],
   "source": [
    "active_display_to_pdf_fn(curr_active_pipeline, curr_display_function_name='_display_normal', debug_print=True) # 🐞❌ TypeError: unhashable type: 'list'"
   ]
  },
  {
   "cell_type": "code",
   "execution_count": null,
   "id": "e7038ae4-17ce-491c-a1d3-e934537ed550",
   "metadata": {
    "tags": []
   },
   "outputs": [],
   "source": [
    "# %%capture\n",
    "active_display_to_pdf_fn(curr_active_pipeline, curr_display_function_name='_display_2d_placefield_result_plot_ratemaps_2D') #  🟢✅ Now seems to be working and saving to PDF!! Still using matplotlib.use('Qt5Agg') mode and plots still appear."
   ]
  },
  {
   "cell_type": "code",
   "execution_count": null,
   "id": "c2f8696f-45c6-4870-93f6-713246d455fe",
   "metadata": {
    "scrolled": true
   },
   "outputs": [],
   "source": [
    "%%capture\n",
    "active_display_to_pdf_fn(curr_active_pipeline, curr_display_function_name='_display_normal', filter_name=active_config_name) # 🐞❌ TypeError: unhashable type: 'list'"
   ]
  },
  {
   "cell_type": "markdown",
   "id": "1b16c86e-5dc1-4918-a115-7ae99eae1084",
   "metadata": {
    "jp-MarkdownHeadingCollapsed": true,
    "tags": []
   },
   "source": [
    "### 🐞👁️‍🗨️🔜 TODO: FINISH THIS UP AND FIGURE OUT WHATEVER THE HELL I'M DOING HERE"
   ]
  },
  {
   "cell_type": "code",
   "execution_count": null,
   "id": "0b62efd2-f8f3-4dc7-baa9-67fcbdf3f983",
   "metadata": {
    "scrolled": true
   },
   "outputs": [],
   "source": [
    "curr_display_function_name = '_display_2d_placefield_result_plot_ratemaps_2D'\n",
    "built_pdf_metadata, curr_pdf_save_path = _build_pdf_pages_output_info(curr_display_function_name)\n",
    "out_fig_list = []\n",
    "active_identifying_display_ctx = active_identifying_filtered_session_ctx.adding_context('display_fn', display_fn_name=curr_display_function_name)\n",
    "figure_format_config = _get_curr_figure_format_config() # Fetch the context from the GUI\n",
    "figure_format_config['enable_saving_to_disk'] = False # don't use the in-built figure export/saving to disk functionality as we want to wrap the output figure with the Pdf saving, not write to a .png\n",
    "with backend_pdf.PdfPages(curr_pdf_save_path, keep_empty=False, metadata=built_pdf_metadata) as pdf:\n",
    "    ## TypeError: neuropy.utils.debug_helpers.safely_accepts_kwargs.<locals>._safe_kwargs_fn() got multiple values for keyword argument 'computation_config'\n",
    "    for filter_name in curr_active_pipeline.filtered_session_names:\n",
    "        print(f'filter_name: {filter_name}')\n",
    "        active_identifying_ctx = active_identifying_display_ctx.adding_context('plot_variable', variable_name=enumTuningMap2DPlotVariables.SPIKES_MAPS)\n",
    "        active_identifying_ctx_string = active_identifying_ctx.get_description(separator='|') # Get final discription string\n",
    "        out_fig_list.extend(curr_active_pipeline.display(curr_display_function_name, filter_name, plot_variable=enumTuningMap2DPlotVariables.SPIKES_MAPS, fignum=active_identifying_ctx_string, **figure_format_config)) # works!\n",
    "        active_identifying_ctx = active_identifying_display_ctx.adding_context('plot_variable', variable_name=enumTuningMap2DPlotVariables.TUNING_MAPS)\n",
    "        active_identifying_ctx_string = active_identifying_ctx.get_description(separator='|') # Get final discription string\n",
    "        out_fig_list.extend(curr_active_pipeline.display(curr_display_function_name, filter_name, plot_variable=enumTuningMap2DPlotVariables.TUNING_MAPS, fignum=active_identifying_ctx_string, **figure_format_config))\n",
    "        for a_fig in out_fig_list:\n",
    "            pdf.savefig(a_fig, transparent=True)\n",
    "            \n",
    "# 🐞🔇🆖❌ NameError: name '_build_pdf_pages_output_info' is not defined"
   ]
  },
  {
   "cell_type": "code",
   "execution_count": null,
   "id": "ee9fad5b-4871-46a6-b4a4-b50480bca489",
   "metadata": {
    "scrolled": true
   },
   "outputs": [],
   "source": [
    "%%capture\n",
    "curr_display_function_name = '_display_decoder_result'\n",
    "built_pdf_metadata, curr_pdf_save_path = _build_pdf_pages_output_info(curr_display_function_name)\n",
    "with backend_pdf.PdfPages(curr_pdf_save_path, keep_empty=False, metadata=built_pdf_metadata) as pdf:\n",
    "    plots = curr_active_pipeline.display(curr_display_function_name, filter_name)\n",
    "    print(plots)\n",
    "    # pdf.savefig(a_fig)\n",
    "    \n",
    "    \n",
    "# 🐞🔇🆖❌ NameError: name '_build_pdf_pages_output_info' is not defined"
   ]
  },
  {
   "cell_type": "markdown",
   "id": "d11a9839-3fd4-4fd8-988c-61144c84051a",
   "metadata": {
    "tags": []
   },
   "source": [
    "#### PyQtGraph-based Pf2D Viewers:"
   ]
  },
  {
   "cell_type": "code",
   "execution_count": null,
   "id": "68fa3058-24c9-49e1-af41-cad50df2d829",
   "metadata": {},
   "outputs": [],
   "source": [
    "# 🟢✅ Nearly Completely Working - Needs subplot labels changed to match standardized matplotlib version, needs color scheme set consistently to matplotlib version, needs colorbars removed\n",
    "from pyphoplacecellanalysis.GUI.PyQtPlot.BinnedImageRenderingWindow import BasicBinnedImageRenderingWindow, add_bin_ticks, build_binned_imageItem\n",
    "from neuropy.utils.matplotlib_helpers import _build_variable_max_value_label, enumTuningMap2DPlotMode, enumTuningMap2DPlotVariables, _determine_best_placefield_2D_layout, _scale_current_placefield_to_acceptable_range\n",
    "from pyphoplacecellanalysis.Pho2D.PyQtPlots.plot_placefields import display_all_pf_2D_pyqtgraph_binned_image_rendering\n",
    "\n",
    "# NOTE FILTER SPECIFIC: active_config_name and active_pf_2D depend on active_config_name\n",
    "\n",
    "## Get the figure_format_config from the figure_format_config widget:\n",
    "active_identifying_display_ctx = active_identifying_filtered_session_ctx.adding_context('display_fn', display_fn_name='display_all_pf_2D_pyqtgraph_binned_image_rendering')\n",
    "figure_format_config = _get_curr_figure_format_config() # Fetch the context from the GUI\n",
    "out_all_pf_2D_pyqtgraph_binned_image_fig = display_all_pf_2D_pyqtgraph_binned_image_rendering(active_pf_2D, figure_format_config)"
   ]
  },
  {
   "cell_type": "code",
   "execution_count": null,
   "id": "6cd7686d-b854-44bf-a6e3-fb7c338380b6",
   "metadata": {},
   "outputs": [],
   "source": [
    "out_all_pf_2D_pyqtgraph_binned_image_fig.setWindowTitle(f'{active_identifying_display_ctx.get_description()}')"
   ]
  },
  {
   "cell_type": "code",
   "execution_count": null,
   "id": "158ffab7-de5e-43af-8162-bff293df838b",
   "metadata": {},
   "outputs": [],
   "source": [
    "images = active_one_step_decoder.ratemap.normalized_tuning_curves\n",
    "images.shape # (66, 41, 63)"
   ]
  },
  {
   "cell_type": "code",
   "execution_count": null,
   "id": "1048f102-f9d2-4c2e-96d7-4d8eb820a7fe",
   "metadata": {},
   "outputs": [],
   "source": [
    "# 🟢🚧🟨 Almost Working - Needs subplot labels changed from Cell[i] to the appropriate standardized titles. Needs other minor refinements.\n",
    "# 🚧 pyqtplot_plot_image_array needs major improvements to achieve feature pairity with display_all_pf_2D_pyqtgraph_binned_image_rendering, so probably just use display_all_pf_2D_pyqtgraph_binned_image_rendering.  \n",
    "from pyphoplacecellanalysis.Pho2D.PyQtPlots.plot_placefields import pyqtplot_plot_image_array\n",
    "\n",
    "# Get the decoders from the computation result:       \n",
    "# Get flat list of images:\n",
    "images = active_one_step_decoder.ratemap.normalized_tuning_curves # (43, 63, 63)\n",
    "occupancy = active_one_step_decoder.ratemap.occupancy\n",
    "\n",
    "active_identifying_display_ctx = active_identifying_filtered_session_ctx.adding_context('display_fn', display_fn_name='pyqtplot_plot_image_array')\n",
    "figure_format_config = _get_curr_figure_format_config() # Fetch the context from the GUI\n",
    "## Get final discription string:\n",
    "active_identifying_ctx_string = active_identifying_display_ctx.get_description(separator='|')\n",
    "print(f'active_identifying_ctx_string: {active_identifying_ctx_string}')\n",
    "\n",
    "## Build the widget:\n",
    "app, parent_root_widget, root_render_widget, plot_array, img_item_array, other_components_array = pyqtplot_plot_image_array(active_one_step_decoder.xbin, active_one_step_decoder.ybin, images, occupancy, \n",
    "                                                                        app=None, parent_root_widget=None, root_render_widget=None, max_num_columns=8)\n",
    "parent_root_widget.show()\n",
    "if master_dock_win is not None:\n",
    "    # if there's an open master_dock_win, add this widget as a child dock\n",
    "    master_dock_win.add_display_dock(identifier=active_identifying_ctx_string, widget=parent_root_widget, dockIsClosable=True)"
   ]
  },
  {
   "cell_type": "markdown",
   "id": "9c4fc1d3-0100-4bf1-8a9e-1ea7203d2b9c",
   "metadata": {
    "tags": []
   },
   "source": [
    "#### Decoder Plots:"
   ]
  },
  {
   "cell_type": "code",
   "execution_count": null,
   "id": "23a1e343-5737-4435-be8b-369483624fa4",
   "metadata": {
    "pycharm": {
     "name": "#%%\n"
    }
   },
   "outputs": [],
   "source": [
    "# Must switch back to the interactive backend here for the interactive/animated decoder plots:\n",
    "matplotlib.use('Qt5Agg')\n",
    "# backend_qt5agg\n",
    "import matplotlib.pyplot as plt\n",
    "# plt.switch_backend('Qt5Agg')"
   ]
  },
  {
   "cell_type": "code",
   "execution_count": null,
   "id": "8180d131-f7a6-44f4-b63d-b1d3ef9bb409",
   "metadata": {
    "pycharm": {
     "name": "#%%\n"
    }
   },
   "outputs": [],
   "source": [
    "curr_active_pipeline.display('_display_two_step_decoder_prediction_error_animated_2D', active_config_name, variable_name='p_x_given_n')"
   ]
  },
  {
   "cell_type": "code",
   "execution_count": null,
   "id": "840af86d-030a-4ba5-973d-316e94c16a61",
   "metadata": {
    "pycharm": {
     "name": "#%%\n"
    }
   },
   "outputs": [],
   "source": [
    "# ## MATPLOTLIB Imports:\n",
    "# import matplotlib\n",
    "# # configure backend here\n",
    "# matplotlib.use('Qt5Agg')\n",
    "# import matplotlib.pyplot as plt\n",
    "# import matplotlib as mpl\n",
    "## This plot looks phenominal, and the slider works!\n",
    "curr_active_pipeline.display('_display_two_step_decoder_prediction_error_2D', active_config_name, variable_name='p_x_given_n') # NOW: TypeError: _temp_debug_two_step_plots_animated_imshow() missing 1 required positional argument: 'time_binned_position_df'"
   ]
  },
  {
   "cell_type": "code",
   "execution_count": null,
   "id": "cd163714-1838-4c8d-9796-dc3823b11f0f",
   "metadata": {
    "pycharm": {
     "name": "#%%\n"
    }
   },
   "outputs": [],
   "source": [
    "curr_active_pipeline.display('_display_two_step_decoder_prediction_error_2D', active_config_name, variable_name='p_x_given_n_and_x_prev')  # this one doesn't work!"
   ]
  },
  {
   "cell_type": "code",
   "execution_count": null,
   "id": "78308cc1-7dea-49aa-814a-d2784de14981",
   "metadata": {},
   "outputs": [],
   "source": [
    "# Get the decoders from the computation result:\n",
    "# active_one_step_decoder = computation_result.computed_data['pf2D_Decoder']\n",
    "# active_two_step_decoder = computation_result.computed_data.get('pf2D_TwoStepDecoder', None)\n",
    "# active_measured_positions = computation_result.sess.position.to_dataframe()\n",
    "\n",
    "active_one_step_decoder # BayesianPlacemapPositionDecoder\n",
    "active_two_step_decoder\n",
    "\n",
    "## SAVE OUT THE RESULTS of the decoder:"
   ]
  },
  {
   "cell_type": "code",
   "execution_count": null,
   "id": "7ea8058a-d9a2-4a75-9de8-a6a3af0e690a",
   "metadata": {},
   "outputs": [],
   "source": []
  },
  {
   "cell_type": "code",
   "execution_count": null,
   "id": "fd4cd691-4c3f-48d2-b5d3-150231fdba4e",
   "metadata": {},
   "outputs": [],
   "source": [
    "## PDF Output, NOTE this is single plot stuff: uses active_config_name\n",
    "from matplotlib.backends import backend_pdf\n",
    "from pyphoplacecellanalysis.General.Mixins.ExportHelpers import create_daily_programmatic_display_function_testing_folder_if_needed, build_pdf_metadata_from_display_context, programmatic_display_to_PDF"
   ]
  },
  {
   "cell_type": "code",
   "execution_count": null,
   "id": "0f2967bd-dcf4-495c-8341-ae00e2230590",
   "metadata": {},
   "outputs": [],
   "source": [
    "## 2022-10-04 Modern Programmatic PDF outputs:\n",
    "# programmatic_display_to_PDF(curr_active_pipeline, curr_display_function_name='_display_plot_decoded_epoch_slices',  debug_print=False)\n",
    "programmatic_display_to_PDF(curr_active_pipeline, curr_display_function_name='_display_plot_decoded_epoch_slices', filter_epochs='ripple', decoding_time_bin_size=0.02, debug_test_max_num_slices=128, debug_print=True)"
   ]
  },
  {
   "cell_type": "code",
   "execution_count": null,
   "id": "fcf583b3-0a6b-44be-90ac-ed8803bdd100",
   "metadata": {},
   "outputs": [],
   "source": [
    "programmatic_display_to_PDF(curr_active_pipeline, curr_display_function_name='_display_plot_decoded_epoch_slices', filter_epochs='laps', debug_test_max_num_slices=128, debug_print=False)"
   ]
  },
  {
   "cell_type": "markdown",
   "id": "7aef1b4c-44bf-44ed-b0c3-9ecaa20ddb6a",
   "metadata": {
    "pycharm": {
     "name": "#%%\n"
    },
    "tags": []
   },
   "source": [
    "### 🔜 2022-08-10 👁️‍🗨️ NOW: Plot animal positions on the computed posteriors:\n",
    "The process of plotting the animal position on the decoder plot needs to be refined. Currently it works by re-implementing \n",
    "\n",
    "🔜 NEXT STEP: TODO: Make a \"Datasource\" like approach perhaps to provide the actual animal position at each point in time?\n",
    "🐞🔜 BUG TODO: Noticed that for Bapun Day5 data, it looks like the current position point is being plotted incorrectly (it doesn't even move across the space much)"
   ]
  },
  {
   "cell_type": "code",
   "execution_count": 172,
   "id": "a6e206f5-e582-4b4b-ae56-d235ef79c0b5",
   "metadata": {
    "pycharm": {
     "name": "#%%\n"
    }
   },
   "outputs": [
    {
     "name": "stdout",
     "output_type": "stream",
     "text": [
      "unit_specific_binned_spike_counts_df.shape: (4153, 108)\n",
      "nCells: 108, nTimeBins: 4153\n"
     ]
    }
   ],
   "source": [
    "from pyphoplacecellanalysis.Analysis.Decoder.reconstruction import ZhangReconstructionImplementation\n",
    "from neuropy.utils.mixins.binning_helpers import BinningContainer\n",
    "from pyphocorehelpers.indexing_helpers import build_pairwise_indicies\n",
    "\n",
    "\n",
    "global_epoch_name = 'maze'\n",
    "sess =  curr_active_pipeline.computation_results[global_epoch_name].sess\n",
    "active_one_step_decoder = curr_active_pipeline.computation_results[global_epoch_name].computed_data.get('pf2D_Decoder', None)\n",
    "active_two_step_decoder = curr_active_pipeline.computation_results[global_epoch_name].computed_data.get('pf2D_TwoStepDecoder', None)\n",
    "active_extended_stats = curr_active_pipeline.computation_results[global_epoch_name].computed_data.get('extended_stats', None)\n",
    "active_firing_rate_trends = curr_active_pipeline.computation_results[global_epoch_name].computed_data.get('firing_rate_trends', None)\n",
    "time_bin_size_seconds, all_session_spikes, pf_included_spikes_only = active_firing_rate_trends['time_bin_size_seconds'], active_firing_rate_trends['all_session_spikes'], active_firing_rate_trends['pf_included_spikes_only']\n",
    "\n",
    "active_time_binning_container, active_time_window_edges, active_time_window_edges_binning_info, active_time_binned_unit_specific_binned_spike_rate, active_time_binned_unit_specific_binned_spike_counts = pf_included_spikes_only['time_binning_container'], pf_included_spikes_only['time_window_edges'], pf_included_spikes_only['time_window_edges_binning_info'], pf_included_spikes_only['time_binned_unit_specific_binned_spike_rate'], pf_included_spikes_only['time_binned_unit_specific_binned_spike_counts']\n",
    "\n",
    "ZhangReconstructionImplementation._validate_time_binned_spike_rate_df(active_time_binning_container.centers, active_time_binned_unit_specific_binned_spike_counts)"
   ]
  },
  {
   "cell_type": "code",
   "execution_count": 111,
   "id": "e3e970db-653e-48d6-b484-eb2a41df2af7",
   "metadata": {
    "pycharm": {
     "name": "#%%\n"
    }
   },
   "outputs": [],
   "source": [
    "## time_binned_unit_specific_binned_spike_rate mode:\n",
    "try:  \n",
    "    time_bins = active_firing_rate_trends.all_session_spikes.time_binning_container.centers # .shape # (4188,)\n",
    "    time_binned_unit_specific_binned_spike_rate_df = active_firing_rate_trends.all_session_spikes.time_binned_unit_specific_binned_spike_rate\n",
    "except KeyError:\n",
    "    time_bins, time_binned_unit_specific_binned_spike_rate_df = {}, {}\n",
    "\n",
    "ZhangReconstructionImplementation._validate_time_binned_spike_rate_df(time_bins, time_binned_unit_specific_binned_spike_rate_df)"
   ]
  },
  {
   "cell_type": "code",
   "execution_count": 155,
   "id": "e0e7c9a7-eaa6-44bf-aa69-a14d6015c113",
   "metadata": {
    "pycharm": {
     "name": "#%%\n"
    }
   },
   "outputs": [
    {
     "data": {
      "text/html": [
       "<div>\n",
       "<style scoped>\n",
       "    .dataframe tbody tr th:only-of-type {\n",
       "        vertical-align: middle;\n",
       "    }\n",
       "\n",
       "    .dataframe tbody tr th {\n",
       "        vertical-align: top;\n",
       "    }\n",
       "\n",
       "    .dataframe thead th {\n",
       "        text-align: right;\n",
       "    }\n",
       "</style>\n",
       "<table border=\"1\" class=\"dataframe\">\n",
       "  <thead>\n",
       "    <tr style=\"text-align: right;\">\n",
       "      <th></th>\n",
       "      <th>2</th>\n",
       "      <th>3</th>\n",
       "      <th>4</th>\n",
       "      <th>5</th>\n",
       "      <th>6</th>\n",
       "      <th>7</th>\n",
       "      <th>8</th>\n",
       "      <th>9</th>\n",
       "      <th>10</th>\n",
       "      <th>11</th>\n",
       "      <th>...</th>\n",
       "      <th>100</th>\n",
       "      <th>101</th>\n",
       "      <th>102</th>\n",
       "      <th>103</th>\n",
       "      <th>104</th>\n",
       "      <th>105</th>\n",
       "      <th>106</th>\n",
       "      <th>107</th>\n",
       "      <th>108</th>\n",
       "      <th>109</th>\n",
       "    </tr>\n",
       "  </thead>\n",
       "  <tbody>\n",
       "    <tr>\n",
       "      <th>1</th>\n",
       "      <td>0</td>\n",
       "      <td>0</td>\n",
       "      <td>0</td>\n",
       "      <td>0</td>\n",
       "      <td>20</td>\n",
       "      <td>0</td>\n",
       "      <td>1</td>\n",
       "      <td>0</td>\n",
       "      <td>1</td>\n",
       "      <td>0</td>\n",
       "      <td>...</td>\n",
       "      <td>0</td>\n",
       "      <td>0</td>\n",
       "      <td>0</td>\n",
       "      <td>7</td>\n",
       "      <td>21</td>\n",
       "      <td>0</td>\n",
       "      <td>14</td>\n",
       "      <td>1</td>\n",
       "      <td>9</td>\n",
       "      <td>0</td>\n",
       "    </tr>\n",
       "    <tr>\n",
       "      <th>2</th>\n",
       "      <td>0</td>\n",
       "      <td>0</td>\n",
       "      <td>0</td>\n",
       "      <td>2</td>\n",
       "      <td>40</td>\n",
       "      <td>0</td>\n",
       "      <td>1</td>\n",
       "      <td>0</td>\n",
       "      <td>1</td>\n",
       "      <td>5</td>\n",
       "      <td>...</td>\n",
       "      <td>0</td>\n",
       "      <td>3</td>\n",
       "      <td>0</td>\n",
       "      <td>20</td>\n",
       "      <td>37</td>\n",
       "      <td>0</td>\n",
       "      <td>25</td>\n",
       "      <td>1</td>\n",
       "      <td>17</td>\n",
       "      <td>0</td>\n",
       "    </tr>\n",
       "    <tr>\n",
       "      <th>3</th>\n",
       "      <td>0</td>\n",
       "      <td>0</td>\n",
       "      <td>0</td>\n",
       "      <td>2</td>\n",
       "      <td>62</td>\n",
       "      <td>0</td>\n",
       "      <td>1</td>\n",
       "      <td>1</td>\n",
       "      <td>1</td>\n",
       "      <td>6</td>\n",
       "      <td>...</td>\n",
       "      <td>1</td>\n",
       "      <td>3</td>\n",
       "      <td>0</td>\n",
       "      <td>36</td>\n",
       "      <td>47</td>\n",
       "      <td>0</td>\n",
       "      <td>29</td>\n",
       "      <td>2</td>\n",
       "      <td>22</td>\n",
       "      <td>0</td>\n",
       "    </tr>\n",
       "    <tr>\n",
       "      <th>4</th>\n",
       "      <td>0</td>\n",
       "      <td>0</td>\n",
       "      <td>0</td>\n",
       "      <td>2</td>\n",
       "      <td>66</td>\n",
       "      <td>0</td>\n",
       "      <td>1</td>\n",
       "      <td>1</td>\n",
       "      <td>1</td>\n",
       "      <td>6</td>\n",
       "      <td>...</td>\n",
       "      <td>1</td>\n",
       "      <td>3</td>\n",
       "      <td>0</td>\n",
       "      <td>39</td>\n",
       "      <td>52</td>\n",
       "      <td>0</td>\n",
       "      <td>30</td>\n",
       "      <td>2</td>\n",
       "      <td>22</td>\n",
       "      <td>0</td>\n",
       "    </tr>\n",
       "    <tr>\n",
       "      <th>5</th>\n",
       "      <td>0</td>\n",
       "      <td>0</td>\n",
       "      <td>0</td>\n",
       "      <td>2</td>\n",
       "      <td>66</td>\n",
       "      <td>0</td>\n",
       "      <td>1</td>\n",
       "      <td>1</td>\n",
       "      <td>1</td>\n",
       "      <td>6</td>\n",
       "      <td>...</td>\n",
       "      <td>1</td>\n",
       "      <td>3</td>\n",
       "      <td>0</td>\n",
       "      <td>39</td>\n",
       "      <td>52</td>\n",
       "      <td>0</td>\n",
       "      <td>30</td>\n",
       "      <td>2</td>\n",
       "      <td>22</td>\n",
       "      <td>0</td>\n",
       "    </tr>\n",
       "    <tr>\n",
       "      <th>...</th>\n",
       "      <td>...</td>\n",
       "      <td>...</td>\n",
       "      <td>...</td>\n",
       "      <td>...</td>\n",
       "      <td>...</td>\n",
       "      <td>...</td>\n",
       "      <td>...</td>\n",
       "      <td>...</td>\n",
       "      <td>...</td>\n",
       "      <td>...</td>\n",
       "      <td>...</td>\n",
       "      <td>...</td>\n",
       "      <td>...</td>\n",
       "      <td>...</td>\n",
       "      <td>...</td>\n",
       "      <td>...</td>\n",
       "      <td>...</td>\n",
       "      <td>...</td>\n",
       "      <td>...</td>\n",
       "      <td>...</td>\n",
       "      <td>...</td>\n",
       "    </tr>\n",
       "    <tr>\n",
       "      <th>4149</th>\n",
       "      <td>93</td>\n",
       "      <td>538</td>\n",
       "      <td>201</td>\n",
       "      <td>977</td>\n",
       "      <td>15246</td>\n",
       "      <td>925</td>\n",
       "      <td>184</td>\n",
       "      <td>440</td>\n",
       "      <td>880</td>\n",
       "      <td>308</td>\n",
       "      <td>...</td>\n",
       "      <td>412</td>\n",
       "      <td>1965</td>\n",
       "      <td>392</td>\n",
       "      <td>8864</td>\n",
       "      <td>11614</td>\n",
       "      <td>28</td>\n",
       "      <td>13221</td>\n",
       "      <td>752</td>\n",
       "      <td>1841</td>\n",
       "      <td>135</td>\n",
       "    </tr>\n",
       "    <tr>\n",
       "      <th>4150</th>\n",
       "      <td>93</td>\n",
       "      <td>538</td>\n",
       "      <td>201</td>\n",
       "      <td>977</td>\n",
       "      <td>15246</td>\n",
       "      <td>925</td>\n",
       "      <td>184</td>\n",
       "      <td>440</td>\n",
       "      <td>880</td>\n",
       "      <td>308</td>\n",
       "      <td>...</td>\n",
       "      <td>412</td>\n",
       "      <td>1965</td>\n",
       "      <td>392</td>\n",
       "      <td>8864</td>\n",
       "      <td>11614</td>\n",
       "      <td>28</td>\n",
       "      <td>13221</td>\n",
       "      <td>752</td>\n",
       "      <td>1841</td>\n",
       "      <td>135</td>\n",
       "    </tr>\n",
       "    <tr>\n",
       "      <th>4151</th>\n",
       "      <td>93</td>\n",
       "      <td>538</td>\n",
       "      <td>201</td>\n",
       "      <td>977</td>\n",
       "      <td>15246</td>\n",
       "      <td>925</td>\n",
       "      <td>184</td>\n",
       "      <td>440</td>\n",
       "      <td>880</td>\n",
       "      <td>308</td>\n",
       "      <td>...</td>\n",
       "      <td>412</td>\n",
       "      <td>1965</td>\n",
       "      <td>392</td>\n",
       "      <td>8864</td>\n",
       "      <td>11614</td>\n",
       "      <td>28</td>\n",
       "      <td>13221</td>\n",
       "      <td>752</td>\n",
       "      <td>1841</td>\n",
       "      <td>135</td>\n",
       "    </tr>\n",
       "    <tr>\n",
       "      <th>4152</th>\n",
       "      <td>93</td>\n",
       "      <td>538</td>\n",
       "      <td>201</td>\n",
       "      <td>984</td>\n",
       "      <td>15252</td>\n",
       "      <td>925</td>\n",
       "      <td>184</td>\n",
       "      <td>440</td>\n",
       "      <td>880</td>\n",
       "      <td>308</td>\n",
       "      <td>...</td>\n",
       "      <td>412</td>\n",
       "      <td>1965</td>\n",
       "      <td>392</td>\n",
       "      <td>8878</td>\n",
       "      <td>11621</td>\n",
       "      <td>28</td>\n",
       "      <td>13231</td>\n",
       "      <td>752</td>\n",
       "      <td>1844</td>\n",
       "      <td>135</td>\n",
       "    </tr>\n",
       "    <tr>\n",
       "      <th>4153</th>\n",
       "      <td>93</td>\n",
       "      <td>538</td>\n",
       "      <td>201</td>\n",
       "      <td>984</td>\n",
       "      <td>15254</td>\n",
       "      <td>925</td>\n",
       "      <td>184</td>\n",
       "      <td>440</td>\n",
       "      <td>880</td>\n",
       "      <td>308</td>\n",
       "      <td>...</td>\n",
       "      <td>412</td>\n",
       "      <td>1965</td>\n",
       "      <td>393</td>\n",
       "      <td>8879</td>\n",
       "      <td>11622</td>\n",
       "      <td>28</td>\n",
       "      <td>13233</td>\n",
       "      <td>752</td>\n",
       "      <td>1846</td>\n",
       "      <td>135</td>\n",
       "    </tr>\n",
       "  </tbody>\n",
       "</table>\n",
       "<p>4153 rows × 108 columns</p>\n",
       "</div>"
      ],
      "text/plain": [
       "      2    3    4    5      6    7    8    9    10   11   ...  100   101  102  \\\n",
       "1       0    0    0    0     20    0    1    0    1    0  ...    0     0    0   \n",
       "2       0    0    0    2     40    0    1    0    1    5  ...    0     3    0   \n",
       "3       0    0    0    2     62    0    1    1    1    6  ...    1     3    0   \n",
       "4       0    0    0    2     66    0    1    1    1    6  ...    1     3    0   \n",
       "5       0    0    0    2     66    0    1    1    1    6  ...    1     3    0   \n",
       "...   ...  ...  ...  ...    ...  ...  ...  ...  ...  ...  ...  ...   ...  ...   \n",
       "4149   93  538  201  977  15246  925  184  440  880  308  ...  412  1965  392   \n",
       "4150   93  538  201  977  15246  925  184  440  880  308  ...  412  1965  392   \n",
       "4151   93  538  201  977  15246  925  184  440  880  308  ...  412  1965  392   \n",
       "4152   93  538  201  984  15252  925  184  440  880  308  ...  412  1965  392   \n",
       "4153   93  538  201  984  15254  925  184  440  880  308  ...  412  1965  393   \n",
       "\n",
       "       103    104  105    106  107   108  109  \n",
       "1        7     21    0     14    1     9    0  \n",
       "2       20     37    0     25    1    17    0  \n",
       "3       36     47    0     29    2    22    0  \n",
       "4       39     52    0     30    2    22    0  \n",
       "5       39     52    0     30    2    22    0  \n",
       "...    ...    ...  ...    ...  ...   ...  ...  \n",
       "4149  8864  11614   28  13221  752  1841  135  \n",
       "4150  8864  11614   28  13221  752  1841  135  \n",
       "4151  8864  11614   28  13221  752  1841  135  \n",
       "4152  8878  11621   28  13231  752  1844  135  \n",
       "4153  8879  11622   28  13233  752  1846  135  \n",
       "\n",
       "[4153 rows x 108 columns]"
      ]
     },
     "execution_count": 155,
     "metadata": {},
     "output_type": "execute_result"
    }
   ],
   "source": [
    "cum_time = active_time_binning_container.centers.cumsum()\n",
    "cum_spike_counts = time_binned_unit_specific_binned_spike_counts.cumsum(axis=0)\n",
    "cum_spike_counts"
   ]
  },
  {
   "cell_type": "code",
   "execution_count": 156,
   "id": "d500560f-79dd-4cde-abae-f923c7a8d4d8",
   "metadata": {
    "pycharm": {
     "name": "#%%\n"
    }
   },
   "outputs": [
    {
     "data": {
      "text/html": [
       "<div>\n",
       "<style scoped>\n",
       "    .dataframe tbody tr th:only-of-type {\n",
       "        vertical-align: middle;\n",
       "    }\n",
       "\n",
       "    .dataframe tbody tr th {\n",
       "        vertical-align: top;\n",
       "    }\n",
       "\n",
       "    .dataframe thead th {\n",
       "        text-align: right;\n",
       "    }\n",
       "</style>\n",
       "<table border=\"1\" class=\"dataframe\">\n",
       "  <thead>\n",
       "    <tr style=\"text-align: right;\">\n",
       "      <th></th>\n",
       "      <th>2</th>\n",
       "      <th>3</th>\n",
       "      <th>4</th>\n",
       "      <th>5</th>\n",
       "      <th>6</th>\n",
       "      <th>7</th>\n",
       "      <th>8</th>\n",
       "      <th>9</th>\n",
       "      <th>10</th>\n",
       "      <th>11</th>\n",
       "      <th>...</th>\n",
       "      <th>100</th>\n",
       "      <th>101</th>\n",
       "      <th>102</th>\n",
       "      <th>103</th>\n",
       "      <th>104</th>\n",
       "      <th>105</th>\n",
       "      <th>106</th>\n",
       "      <th>107</th>\n",
       "      <th>108</th>\n",
       "      <th>109</th>\n",
       "    </tr>\n",
       "  </thead>\n",
       "  <tbody>\n",
       "    <tr>\n",
       "      <th>1</th>\n",
       "      <td>0.000000</td>\n",
       "      <td>0.000000</td>\n",
       "      <td>0.000000</td>\n",
       "      <td>0.000000</td>\n",
       "      <td>11.434423</td>\n",
       "      <td>0.000000</td>\n",
       "      <td>0.571721</td>\n",
       "      <td>0.000000</td>\n",
       "      <td>0.571721</td>\n",
       "      <td>0.000000</td>\n",
       "      <td>...</td>\n",
       "      <td>0.000000</td>\n",
       "      <td>0.000000</td>\n",
       "      <td>0.000000</td>\n",
       "      <td>4.002048</td>\n",
       "      <td>12.006144</td>\n",
       "      <td>0.000000</td>\n",
       "      <td>8.004096</td>\n",
       "      <td>0.571721</td>\n",
       "      <td>5.145490</td>\n",
       "      <td>0.000000</td>\n",
       "    </tr>\n",
       "    <tr>\n",
       "      <th>2</th>\n",
       "      <td>0.000000</td>\n",
       "      <td>0.000000</td>\n",
       "      <td>0.000000</td>\n",
       "      <td>0.500224</td>\n",
       "      <td>10.004479</td>\n",
       "      <td>0.000000</td>\n",
       "      <td>0.250112</td>\n",
       "      <td>0.000000</td>\n",
       "      <td>0.250112</td>\n",
       "      <td>1.250560</td>\n",
       "      <td>...</td>\n",
       "      <td>0.000000</td>\n",
       "      <td>0.750336</td>\n",
       "      <td>0.000000</td>\n",
       "      <td>5.002240</td>\n",
       "      <td>9.254143</td>\n",
       "      <td>0.000000</td>\n",
       "      <td>6.252800</td>\n",
       "      <td>0.250112</td>\n",
       "      <td>4.251904</td>\n",
       "      <td>0.000000</td>\n",
       "    </tr>\n",
       "    <tr>\n",
       "      <th>3</th>\n",
       "      <td>0.000000</td>\n",
       "      <td>0.000000</td>\n",
       "      <td>0.000000</td>\n",
       "      <td>0.296414</td>\n",
       "      <td>9.188842</td>\n",
       "      <td>0.000000</td>\n",
       "      <td>0.148207</td>\n",
       "      <td>0.148207</td>\n",
       "      <td>0.148207</td>\n",
       "      <td>0.889243</td>\n",
       "      <td>...</td>\n",
       "      <td>0.148207</td>\n",
       "      <td>0.444621</td>\n",
       "      <td>0.000000</td>\n",
       "      <td>5.335457</td>\n",
       "      <td>6.965735</td>\n",
       "      <td>0.000000</td>\n",
       "      <td>4.298007</td>\n",
       "      <td>0.296414</td>\n",
       "      <td>3.260557</td>\n",
       "      <td>0.000000</td>\n",
       "    </tr>\n",
       "    <tr>\n",
       "      <th>4</th>\n",
       "      <td>0.000000</td>\n",
       "      <td>0.000000</td>\n",
       "      <td>0.000000</td>\n",
       "      <td>0.200072</td>\n",
       "      <td>6.602365</td>\n",
       "      <td>0.000000</td>\n",
       "      <td>0.100036</td>\n",
       "      <td>0.100036</td>\n",
       "      <td>0.100036</td>\n",
       "      <td>0.600215</td>\n",
       "      <td>...</td>\n",
       "      <td>0.100036</td>\n",
       "      <td>0.300107</td>\n",
       "      <td>0.000000</td>\n",
       "      <td>3.901397</td>\n",
       "      <td>5.201863</td>\n",
       "      <td>0.000000</td>\n",
       "      <td>3.001075</td>\n",
       "      <td>0.200072</td>\n",
       "      <td>2.200788</td>\n",
       "      <td>0.000000</td>\n",
       "    </tr>\n",
       "    <tr>\n",
       "      <th>5</th>\n",
       "      <td>0.000000</td>\n",
       "      <td>0.000000</td>\n",
       "      <td>0.000000</td>\n",
       "      <td>0.145502</td>\n",
       "      <td>4.801564</td>\n",
       "      <td>0.000000</td>\n",
       "      <td>0.072751</td>\n",
       "      <td>0.072751</td>\n",
       "      <td>0.072751</td>\n",
       "      <td>0.436506</td>\n",
       "      <td>...</td>\n",
       "      <td>0.072751</td>\n",
       "      <td>0.218253</td>\n",
       "      <td>0.000000</td>\n",
       "      <td>2.837288</td>\n",
       "      <td>3.783050</td>\n",
       "      <td>0.000000</td>\n",
       "      <td>2.182529</td>\n",
       "      <td>0.145502</td>\n",
       "      <td>1.600521</td>\n",
       "      <td>0.000000</td>\n",
       "    </tr>\n",
       "    <tr>\n",
       "      <th>...</th>\n",
       "      <td>...</td>\n",
       "      <td>...</td>\n",
       "      <td>...</td>\n",
       "      <td>...</td>\n",
       "      <td>...</td>\n",
       "      <td>...</td>\n",
       "      <td>...</td>\n",
       "      <td>...</td>\n",
       "      <td>...</td>\n",
       "      <td>...</td>\n",
       "      <td>...</td>\n",
       "      <td>...</td>\n",
       "      <td>...</td>\n",
       "      <td>...</td>\n",
       "      <td>...</td>\n",
       "      <td>...</td>\n",
       "      <td>...</td>\n",
       "      <td>...</td>\n",
       "      <td>...</td>\n",
       "      <td>...</td>\n",
       "      <td>...</td>\n",
       "    </tr>\n",
       "    <tr>\n",
       "      <th>4149</th>\n",
       "      <td>0.000022</td>\n",
       "      <td>0.000125</td>\n",
       "      <td>0.000047</td>\n",
       "      <td>0.000227</td>\n",
       "      <td>0.003538</td>\n",
       "      <td>0.000215</td>\n",
       "      <td>0.000043</td>\n",
       "      <td>0.000102</td>\n",
       "      <td>0.000204</td>\n",
       "      <td>0.000071</td>\n",
       "      <td>...</td>\n",
       "      <td>0.000096</td>\n",
       "      <td>0.000456</td>\n",
       "      <td>0.000091</td>\n",
       "      <td>0.002057</td>\n",
       "      <td>0.002695</td>\n",
       "      <td>0.000006</td>\n",
       "      <td>0.003068</td>\n",
       "      <td>0.000174</td>\n",
       "      <td>0.000427</td>\n",
       "      <td>0.000031</td>\n",
       "    </tr>\n",
       "    <tr>\n",
       "      <th>4150</th>\n",
       "      <td>0.000022</td>\n",
       "      <td>0.000125</td>\n",
       "      <td>0.000047</td>\n",
       "      <td>0.000227</td>\n",
       "      <td>0.003536</td>\n",
       "      <td>0.000215</td>\n",
       "      <td>0.000043</td>\n",
       "      <td>0.000102</td>\n",
       "      <td>0.000204</td>\n",
       "      <td>0.000071</td>\n",
       "      <td>...</td>\n",
       "      <td>0.000096</td>\n",
       "      <td>0.000456</td>\n",
       "      <td>0.000091</td>\n",
       "      <td>0.002056</td>\n",
       "      <td>0.002694</td>\n",
       "      <td>0.000006</td>\n",
       "      <td>0.003066</td>\n",
       "      <td>0.000174</td>\n",
       "      <td>0.000427</td>\n",
       "      <td>0.000031</td>\n",
       "    </tr>\n",
       "    <tr>\n",
       "      <th>4151</th>\n",
       "      <td>0.000022</td>\n",
       "      <td>0.000125</td>\n",
       "      <td>0.000047</td>\n",
       "      <td>0.000226</td>\n",
       "      <td>0.003534</td>\n",
       "      <td>0.000214</td>\n",
       "      <td>0.000043</td>\n",
       "      <td>0.000102</td>\n",
       "      <td>0.000204</td>\n",
       "      <td>0.000071</td>\n",
       "      <td>...</td>\n",
       "      <td>0.000096</td>\n",
       "      <td>0.000456</td>\n",
       "      <td>0.000091</td>\n",
       "      <td>0.002055</td>\n",
       "      <td>0.002692</td>\n",
       "      <td>0.000006</td>\n",
       "      <td>0.003065</td>\n",
       "      <td>0.000174</td>\n",
       "      <td>0.000427</td>\n",
       "      <td>0.000031</td>\n",
       "    </tr>\n",
       "    <tr>\n",
       "      <th>4152</th>\n",
       "      <td>0.000022</td>\n",
       "      <td>0.000125</td>\n",
       "      <td>0.000047</td>\n",
       "      <td>0.000228</td>\n",
       "      <td>0.003534</td>\n",
       "      <td>0.000214</td>\n",
       "      <td>0.000043</td>\n",
       "      <td>0.000102</td>\n",
       "      <td>0.000204</td>\n",
       "      <td>0.000071</td>\n",
       "      <td>...</td>\n",
       "      <td>0.000095</td>\n",
       "      <td>0.000455</td>\n",
       "      <td>0.000091</td>\n",
       "      <td>0.002057</td>\n",
       "      <td>0.002693</td>\n",
       "      <td>0.000006</td>\n",
       "      <td>0.003066</td>\n",
       "      <td>0.000174</td>\n",
       "      <td>0.000427</td>\n",
       "      <td>0.000031</td>\n",
       "    </tr>\n",
       "    <tr>\n",
       "      <th>4153</th>\n",
       "      <td>0.000022</td>\n",
       "      <td>0.000125</td>\n",
       "      <td>0.000047</td>\n",
       "      <td>0.000228</td>\n",
       "      <td>0.003533</td>\n",
       "      <td>0.000214</td>\n",
       "      <td>0.000043</td>\n",
       "      <td>0.000102</td>\n",
       "      <td>0.000204</td>\n",
       "      <td>0.000071</td>\n",
       "      <td>...</td>\n",
       "      <td>0.000095</td>\n",
       "      <td>0.000455</td>\n",
       "      <td>0.000091</td>\n",
       "      <td>0.002056</td>\n",
       "      <td>0.002691</td>\n",
       "      <td>0.000006</td>\n",
       "      <td>0.003065</td>\n",
       "      <td>0.000174</td>\n",
       "      <td>0.000428</td>\n",
       "      <td>0.000031</td>\n",
       "    </tr>\n",
       "  </tbody>\n",
       "</table>\n",
       "<p>4153 rows × 108 columns</p>\n",
       "</div>"
      ],
      "text/plain": [
       "           2         3         4         5          6         7         8    \\\n",
       "1     0.000000  0.000000  0.000000  0.000000  11.434423  0.000000  0.571721   \n",
       "2     0.000000  0.000000  0.000000  0.500224  10.004479  0.000000  0.250112   \n",
       "3     0.000000  0.000000  0.000000  0.296414   9.188842  0.000000  0.148207   \n",
       "4     0.000000  0.000000  0.000000  0.200072   6.602365  0.000000  0.100036   \n",
       "5     0.000000  0.000000  0.000000  0.145502   4.801564  0.000000  0.072751   \n",
       "...        ...       ...       ...       ...        ...       ...       ...   \n",
       "4149  0.000022  0.000125  0.000047  0.000227   0.003538  0.000215  0.000043   \n",
       "4150  0.000022  0.000125  0.000047  0.000227   0.003536  0.000215  0.000043   \n",
       "4151  0.000022  0.000125  0.000047  0.000226   0.003534  0.000214  0.000043   \n",
       "4152  0.000022  0.000125  0.000047  0.000228   0.003534  0.000214  0.000043   \n",
       "4153  0.000022  0.000125  0.000047  0.000228   0.003533  0.000214  0.000043   \n",
       "\n",
       "           9         10        11   ...       100       101       102  \\\n",
       "1     0.000000  0.571721  0.000000  ...  0.000000  0.000000  0.000000   \n",
       "2     0.000000  0.250112  1.250560  ...  0.000000  0.750336  0.000000   \n",
       "3     0.148207  0.148207  0.889243  ...  0.148207  0.444621  0.000000   \n",
       "4     0.100036  0.100036  0.600215  ...  0.100036  0.300107  0.000000   \n",
       "5     0.072751  0.072751  0.436506  ...  0.072751  0.218253  0.000000   \n",
       "...        ...       ...       ...  ...       ...       ...       ...   \n",
       "4149  0.000102  0.000204  0.000071  ...  0.000096  0.000456  0.000091   \n",
       "4150  0.000102  0.000204  0.000071  ...  0.000096  0.000456  0.000091   \n",
       "4151  0.000102  0.000204  0.000071  ...  0.000096  0.000456  0.000091   \n",
       "4152  0.000102  0.000204  0.000071  ...  0.000095  0.000455  0.000091   \n",
       "4153  0.000102  0.000204  0.000071  ...  0.000095  0.000455  0.000091   \n",
       "\n",
       "           103        104       105       106       107       108       109  \n",
       "1     4.002048  12.006144  0.000000  8.004096  0.571721  5.145490  0.000000  \n",
       "2     5.002240   9.254143  0.000000  6.252800  0.250112  4.251904  0.000000  \n",
       "3     5.335457   6.965735  0.000000  4.298007  0.296414  3.260557  0.000000  \n",
       "4     3.901397   5.201863  0.000000  3.001075  0.200072  2.200788  0.000000  \n",
       "5     2.837288   3.783050  0.000000  2.182529  0.145502  1.600521  0.000000  \n",
       "...        ...        ...       ...       ...       ...       ...       ...  \n",
       "4149  0.002057   0.002695  0.000006  0.003068  0.000174  0.000427  0.000031  \n",
       "4150  0.002056   0.002694  0.000006  0.003066  0.000174  0.000427  0.000031  \n",
       "4151  0.002055   0.002692  0.000006  0.003065  0.000174  0.000427  0.000031  \n",
       "4152  0.002057   0.002693  0.000006  0.003066  0.000174  0.000427  0.000031  \n",
       "4153  0.002056   0.002691  0.000006  0.003065  0.000174  0.000428  0.000031  \n",
       "\n",
       "[4153 rows x 108 columns]"
      ]
     },
     "execution_count": 156,
     "metadata": {},
     "output_type": "execute_result"
    }
   ],
   "source": [
    "cum_spike_rates = cum_spike_counts.astype('float').copy()\n",
    "cum_spike_rates = cum_spike_rates / cum_time[:,None] # not sure this is right: no this is wrong, as not all time (cummulative time) is spent in this bine\n",
    "cum_spike_rates"
   ]
  },
  {
   "cell_type": "code",
   "execution_count": 141,
   "id": "24d27da6-72ef-4a5e-bea9-9cba6908b83c",
   "metadata": {
    "pycharm": {
     "name": "#%%\n"
    }
   },
   "outputs": [],
   "source": []
  },
  {
   "cell_type": "code",
   "execution_count": 148,
   "id": "0c74c3ab-fb2e-4de8-b1ae-a8f587ffda3b",
   "metadata": {
    "pycharm": {
     "name": "#%%\n"
    }
   },
   "outputs": [],
   "source": [
    "import hvplot\n",
    "import hvplot.pandas\n",
    "\n",
    "pd.options.plotting.backend = 'hvplot'\n",
    "\n",
    "data = np.random.normal(size=[50, 2])\n",
    "\n",
    "df = pd.DataFrame(data, columns=['x', 'y'])\n",
    "\n",
    "df.plot(kind='scatter', x='x', y='y')\n",
    "\n",
    "# pd.options.plotting.backend # 'matplotlib'\n",
    "\n",
    "pd.set_option('plotting.backend', 'hvplot')"
   ]
  },
  {
   "cell_type": "code",
   "execution_count": 152,
   "id": "2519c589-4158-45dc-980e-6649d5944ad1",
   "metadata": {
    "pycharm": {
     "name": "#%%\n"
    }
   },
   "outputs": [],
   "source": [
    "cum_spike_rates.plot(x='index', y='2')"
   ]
  },
  {
   "cell_type": "markdown",
   "id": "ff70fc8b-1214-4902-bbb9-873e82b072b4",
   "metadata": {
    "jp-MarkdownHeadingCollapsed": true,
    "pycharm": {
     "name": "#%%\n"
    },
    "tags": []
   },
   "source": [
    "### Testing `ZhangReconstructionImplementation.time_bin_spike_counts_N_i(...)` and `ZhangReconstructionImplementation.compute_time_binned_spiking_activity(...)`"
   ]
  },
  {
   "cell_type": "code",
   "execution_count": 105,
   "id": "36b2709a-d331-4b78-946a-30a08e07b071",
   "metadata": {
    "pycharm": {
     "name": "#%%\n"
    }
   },
   "outputs": [],
   "source": [
    "time_bin_size_seconds = 0.5"
   ]
  },
  {
   "cell_type": "code",
   "execution_count": 106,
   "id": "5d016bbf-f949-418c-adb0-6ae7ed08ccc9",
   "metadata": {
    "pycharm": {
     "name": "#%%\n"
    }
   },
   "outputs": [
    {
     "name": "stdout",
     "output_type": "stream",
     "text": [
      "unit_specific_binned_spike_counts.shape: (108, 4188)\n",
      "nCells: 108, nTimeBins: 4188\n"
     ]
    }
   ],
   "source": [
    "# from `_setup_time_bin_spike_counts_N_i`: using `ZhangReconstructionImplementation.time_bin_spike_counts_N_i(...)` this one now works too, but its output is transposed compared to the `_perform_firing_rate_trends_computation` version:\n",
    "active_session_spikes_df = sess.spikes_df.copy()\n",
    "unit_specific_binned_spike_counts, time_window_edges, time_window_edges_binning_info = ZhangReconstructionImplementation.time_bin_spike_counts_N_i(active_session_spikes_df.copy(), time_bin_size=time_bin_size_seconds, debug_print=False)  # np.shape(unit_specific_spike_counts): (4188, 108)\n",
    "time_binning_container = BinningContainer(edges=time_window_edges, edge_info=time_window_edges_binning_info)\n",
    "ZhangReconstructionImplementation._validate_time_binned_spike_counts(time_binning_container, unit_specific_binned_spike_counts)"
   ]
  },
  {
   "cell_type": "code",
   "execution_count": 107,
   "id": "37434deb-7978-4857-afa0-058969f6f743",
   "metadata": {
    "pycharm": {
     "name": "#%%\n"
    }
   },
   "outputs": [
    {
     "name": "stdout",
     "output_type": "stream",
     "text": [
      "unit_specific_binned_spike_counts.shape: (108, 4188)\n",
      "nCells: 108, nTimeBins: 4188\n"
     ]
    }
   ],
   "source": [
    "# Test `ZhangReconstructionImplementation.time_bin_spike_counts_N_i(...)` with manual bins -- `_setup_time_bin_spike_counts_N_i`: using `ZhangReconstructionImplementation.time_bin_spike_counts_N_i(...)` this one now works too, but its output is transposed compared to the `_perform_firing_rate_trends_computation` version:\n",
    "extant_time_window_edges = deepcopy(time_binning_container.edges)\n",
    "extant_time_window_edges_binning_info = deepcopy(time_binning_container.edge_info)\n",
    "active_session_spikes_df = sess.spikes_df.copy()\n",
    "unit_specific_binned_spike_counts, time_window_edges, time_window_edges_binning_info = ZhangReconstructionImplementation.time_bin_spike_counts_N_i(active_session_spikes_df.copy(), time_bin_size=time_bin_size_seconds,\n",
    "                                                                                                                                                   time_window_edges=extant_time_window_edges, time_window_edges_binning_info=extant_time_window_edges_binning_info, debug_print=False)  # np.shape(unit_specific_spike_counts): (4188, 108)\n",
    "time_binning_container = BinningContainer(edges=time_window_edges, edge_info=time_window_edges_binning_info)\n",
    "ZhangReconstructionImplementation._validate_time_binned_spike_counts(time_binning_container, unit_specific_binned_spike_counts)"
   ]
  },
  {
   "cell_type": "code",
   "execution_count": 108,
   "id": "374ead33-f492-41f3-ba32-c9484b31f9cb",
   "metadata": {
    "pycharm": {
     "name": "#%%\n"
    }
   },
   "outputs": [],
   "source": [
    "# from `_perform_firing_rate_trends_computation`: using `ZhangReconstructionImplementation.compute_time_binned_spiking_activity(...)` this one now all makes sense:\n",
    "active_session_spikes_df = sess.spikes_df.copy()\n",
    "unit_specific_binned_spike_count_df, sess_time_window_edges, sess_time_window_edges_binning_info = ZhangReconstructionImplementation.compute_time_binned_spiking_activity(active_session_spikes_df.copy(), max_time_bin_size=time_bin_size_seconds, debug_print=False) # np.shape(unit_specific_spike_counts): (4188, 108)\n",
    "sess_time_binning_container = BinningContainer(edges=sess_time_window_edges, edge_info=sess_time_window_edges_binning_info)\n",
    "ZhangReconstructionImplementation._validate_time_binned_spike_rate_df(sess_time_binning_container.centers, unit_specific_binned_spike_count_df)"
   ]
  },
  {
   "cell_type": "code",
   "execution_count": 152,
   "id": "cda254c5-9983-4877-bef6-ab35a567156a",
   "metadata": {
    "pycharm": {
     "name": "#%%\n"
    }
   },
   "outputs": [],
   "source": []
  },
  {
   "cell_type": "markdown",
   "id": "847e4180-3a58-4fcf-91fe-cc42335798e1",
   "metadata": {
    "pycharm": {
     "name": "#%%\n"
    }
   },
   "source": [
    "# Finally 2022-12-13 - Efficient PfND_TimeDependent batch snapshots:"
   ]
  },
  {
   "cell_type": "code",
   "execution_count": 164,
   "id": "d40ba234-55f3-48ee-8cfb-7fc2034bf05b",
   "metadata": {
    "pycharm": {
     "name": "#%%\n"
    }
   },
   "outputs": [
    {
     "data": {
      "text/plain": [
       "4154"
      ]
     },
     "execution_count": 164,
     "metadata": {},
     "output_type": "execute_result"
    }
   ],
   "source": [
    "active_time_binning_container.edge_info.num_bins"
   ]
  },
  {
   "cell_type": "code",
   "execution_count": 162,
   "id": "17162684-8946-4a59-9178-face6a47619e",
   "metadata": {
    "pycharm": {
     "name": "#%%\n"
    }
   },
   "outputs": [],
   "source": [
    "left_edges = active_time_binning_container.edges[:-1] # all except the last (rightmost edge)\n",
    "right_edges = left_edges + active_time_binning_container.edge_info.step\n",
    "# interleave them:"
   ]
  },
  {
   "cell_type": "code",
   "execution_count": 173,
   "id": "dffc9486-2f14-4ead-8779-d34d1c96c3b9",
   "metadata": {
    "pycharm": {
     "name": "#%%\n"
    }
   },
   "outputs": [
    {
     "data": {
      "text/plain": [
       "array([[1.49910451e+00, 1.99910451e+00],\n",
       "       [1.99910451e+00, 2.49910451e+00],\n",
       "       [2.49910451e+00, 2.99910451e+00],\n",
       "       ...,\n",
       "       [2.07649910e+03, 2.07699910e+03],\n",
       "       [2.07699910e+03, 2.07749910e+03],\n",
       "       [2.07749910e+03, 2.07799910e+03]])"
      ]
     },
     "execution_count": 173,
     "metadata": {},
     "output_type": "execute_result"
    }
   ],
   "source": [
    "out_pair_indicies = build_pairwise_indicies(np.arange(active_time_binning_container.edge_info.num_bins))\n",
    "time_intervals = active_time_binning_container.edges[out_pair_indicies] # .shape # (4153, 2)\n",
    "time_intervals"
   ]
  },
  {
   "cell_type": "code",
   "execution_count": 152,
   "id": "a9f0de4e-b237-4456-8055-2cbd603bb571",
   "metadata": {
    "pycharm": {
     "name": "#%%\n"
    }
   },
   "outputs": [],
   "source": [
    "time_intervals"
   ]
  },
  {
   "cell_type": "code",
   "execution_count": 176,
   "id": "ba34f36c-22d9-422c-81b2-b31f9bc732ba",
   "metadata": {
    "pycharm": {
     "name": "#%%\n"
    }
   },
   "outputs": [],
   "source": [
    "from neuropy.analyses.time_dependent_placefields import PfND_TimeDependent\n",
    "from pyphoplacecellanalysis.General.Pipeline.Stages.ComputationFunctions.ExtendedStats import compute_snapshot_differences\n",
    "\n",
    "global_epoch_name = curr_active_pipeline.active_completed_computation_result_names[-1] # 'maze'\n",
    "global_results = curr_active_pipeline.computation_results[global_epoch_name]['computed_data']\n",
    "\n",
    "# ## Make new pf_1D_dt:\n",
    "computation_result = curr_active_pipeline.computation_results[global_epoch_name]\n",
    "active_session, pf_computation_config = computation_result.sess, computation_result.computation_config.pf_params\n",
    "active_session_spikes_df, active_pos, computation_config, active_epoch_placefields1D, active_epoch_placefields2D, included_epochs, should_force_recompute_placefields = active_session.spikes_df, active_session.position, pf_computation_config, None, None, pf_computation_config.computation_epochs, True\n",
    "active_pf_1D_dt = PfND_TimeDependent(deepcopy(active_session_spikes_df), deepcopy(active_pos.linear_pos_obj), epochs=included_epochs,\n",
    "                                    speed_thresh=computation_config.speed_thresh, frate_thresh=computation_config.frate_thresh,\n",
    "                                    grid_bin=computation_config.grid_bin, grid_bin_bounds=computation_config.grid_bin_bounds, smooth=computation_config.smooth)\n"
   ]
  },
  {
   "cell_type": "code",
   "execution_count": 178,
   "id": "eab49d52-add5-402c-98ad-fc47d9386644",
   "metadata": {
    "pycharm": {
     "name": "#%%\n"
    }
   },
   "outputs": [],
   "source": [
    "out_list_t = []\n",
    "out_list = []\n",
    "for start_t, end_t in time_intervals:\n",
    "    out_list_t.append(end_t)\n",
    "    out_list.append(active_pf_1D_dt.complete_time_range_computation(start_t, end_t, assign_results_to_member_variables=False))\n",
    "    \n",
    "out_list # len(out_list) # 4153\n",
    "out_list_t = np.array(out_list_t)\n",
    "historical_snapshots = {float(t):v for t, v in zip(out_list_t, out_list)} # build a dict<float:PlacefieldSnapshot>\n",
    " # {1.9991045125061646: <neuropy.analyses.time_dependent_placefields.PlacefieldSnapshot at 0x16c2b74fb20>, 2.4991045125061646: <neuropy.analyses.time_dependent_placefields.PlacefieldSnapshot at 0x168acfb3bb0>, ...}\n"
   ]
  },
  {
   "cell_type": "code",
   "execution_count": 216,
   "id": "8c9889e4-3a1f-428e-90c5-aa1e0f525fbe",
   "metadata": {
    "pycharm": {
     "name": "#%%\n"
    }
   },
   "outputs": [],
   "source": [
    "post_update_times, pf_overlap_results, flat_relative_entropy_results, flat_jensen_shannon_distance_results = compute_snapshot_differences(historical_snapshots)\n",
    "relative_entropy_result_dicts_list = [a_val_dict['relative_entropy_result_dict'] for a_val_dict in pf_overlap_results]\n",
    "long_short_rel_entr_curves_list = [a_val_dict['long_short_rel_entr_curve'] for a_val_dict in relative_entropy_result_dicts_list] # [0].shape # (108, 63) = (n_neurons, n_xbins)\n",
    "short_long_rel_entr_curves_list = [a_val_dict['short_long_rel_entr_curve'] for a_val_dict in relative_entropy_result_dicts_list]\n",
    "long_short_rel_entr_curves_frames = np.stack([a_val_dict['long_short_rel_entr_curve'] for a_val_dict in relative_entropy_result_dicts_list]) # build a 3D array (4152, 108, 63) = (n_post_update_times, n_neurons, n_xbins)\n",
    "short_long_rel_entr_curves_frames = np.stack([a_val_dict['short_long_rel_entr_curve'] for a_val_dict in relative_entropy_result_dicts_list]) # build a 3D array (4152, 108, 63) = (n_post_update_times, n_neurons, n_xbins)"
   ]
  },
  {
   "cell_type": "code",
   "execution_count": 195,
   "id": "e4205079-dbba-40b9-b2a7-e5e9379e55a6",
   "metadata": {
    "pycharm": {
     "name": "#%%\n"
    }
   },
   "outputs": [],
   "source": [
    "post_update_times.shape # (4152,)"
   ]
  },
  {
   "cell_type": "code",
   "execution_count": 198,
   "id": "e3930c21-fd29-40c4-9c13-bc53fdb2272c",
   "metadata": {
    "pycharm": {
     "name": "#%%\n"
    }
   },
   "outputs": [],
   "source": [
    "len(flat_relative_entropy_results) # len(flat_relative_entropy_results) # 4152"
   ]
  },
  {
   "cell_type": "code",
   "execution_count": null,
   "id": "458399d6-1027-4c77-b447-cc507afd76cd",
   "metadata": {
    "pycharm": {
     "name": "#%%\n"
    }
   },
   "outputs": [],
   "source": []
  },
  {
   "cell_type": "code",
   "execution_count": 209,
   "id": "c24e7165-9735-4232-824d-0a9c549d7afa",
   "metadata": {
    "pycharm": {
     "name": "#%%\n"
    }
   },
   "outputs": [
    {
     "data": {
      "text/plain": [
       "(4152, 108, 63)"
      ]
     },
     "execution_count": 209,
     "metadata": {},
     "output_type": "execute_result"
    }
   ],
   "source": []
  },
  {
   "cell_type": "code",
   "execution_count": 204,
   "id": "55d43581-e9c6-43cb-81c6-e3d597cd0456",
   "metadata": {
    "pycharm": {
     "name": "#%%\n"
    }
   },
   "outputs": [
    {
     "data": {
      "text/plain": [
       "(108, 63)"
      ]
     },
     "execution_count": 204,
     "metadata": {},
     "output_type": "execute_result"
    }
   ],
   "source": [
    "long_short_rel_entr_curves_frames"
   ]
  },
  {
   "cell_type": "code",
   "execution_count": 200,
   "id": "a25837e0-7f86-4c47-bc9b-3d41dde32378",
   "metadata": {
    "pycharm": {
     "name": "#%%\n"
    }
   },
   "outputs": [
    {
     "data": {
      "text/plain": [
       "array([[inf, inf, inf, ...,  0.,  0.,  0.],\n",
       "       [inf, inf, inf, ...,  0.,  0.,  0.],\n",
       "       [inf, inf, inf, ...,  0.,  0.,  0.],\n",
       "       ...,\n",
       "       [ 0.,  0.,  0., ...,  0.,  0.,  0.],\n",
       "       [ 0.,  0.,  0., ...,  0.,  0.,  0.],\n",
       "       [ 0.,  0.,  0., ...,  0.,  0.,  0.]])"
      ]
     },
     "execution_count": 200,
     "metadata": {},
     "output_type": "execute_result"
    }
   ],
   "source": [
    "flat_relative_entropy_results"
   ]
  },
  {
   "cell_type": "code",
   "execution_count": 198,
   "id": "c1549106-bdf5-48c4-8e9c-70a9b72c9708",
   "metadata": {
    "pycharm": {
     "name": "#%%\n"
    }
   },
   "outputs": [
    {
     "data": {
      "text/plain": [
       "4152"
      ]
     },
     "execution_count": 198,
     "metadata": {},
     "output_type": "execute_result"
    }
   ],
   "source": []
  },
  {
   "cell_type": "code",
   "execution_count": 194,
   "id": "9b184be5-5afa-4b9c-8b1f-249282304da2",
   "metadata": {
    "pycharm": {
     "name": "#%%\n"
    }
   },
   "outputs": [
    {
     "data": {
      "text/plain": [
       "(4152, 63)"
      ]
     },
     "execution_count": 194,
     "metadata": {},
     "output_type": "execute_result"
    }
   ],
   "source": [
    "flat_jensen_shannon_distance_results.shape # (4152, 63)"
   ]
  },
  {
   "cell_type": "code",
   "execution_count": 182,
   "id": "72cad45c-2745-4bf1-8a8c-bac85b2dff7b",
   "metadata": {
    "pycharm": {
     "name": "#%%\n"
    }
   },
   "outputs": [],
   "source": [
    "from pyphocorehelpers.print_helpers import print_object_memory_usage, print_dataframe_memory_usage"
   ]
  },
  {
   "cell_type": "code",
   "execution_count": 219,
   "id": "58e8f8c9-1a10-4f1c-b0e0-ea327d358a1b",
   "metadata": {
    "pycharm": {
     "name": "#%%\n"
    }
   },
   "outputs": [
    {
     "name": "stdout",
     "output_type": "stream",
     "text": [
      "object size: 215.532120 MB\n"
     ]
    },
    {
     "data": {
      "text/plain": [
       "215.53211975097656"
      ]
     },
     "execution_count": 219,
     "metadata": {},
     "output_type": "execute_result"
    }
   ],
   "source": [
    "print_object_memory_usage(long_short_rel_entr_curves_frames)"
   ]
  },
  {
   "cell_type": "code",
   "execution_count": 183,
   "id": "50d0fcc7-e87f-47b0-b86b-b6a606621fe6",
   "metadata": {
    "pycharm": {
     "name": "#%%\n"
    }
   },
   "outputs": [],
   "source": [
    "print_object_memory_usage(out_list) # object size: 331.506809 MB"
   ]
  },
  {
   "cell_type": "code",
   "execution_count": 184,
   "id": "d01dedd6-ebf3-4532-a06b-350eee24c032",
   "metadata": {
    "pycharm": {
     "name": "#%%\n"
    }
   },
   "outputs": [],
   "source": [
    "print_object_memory_usage(out_list_t)"
   ]
  },
  {
   "cell_type": "code",
   "execution_count": 186,
   "id": "ec0e72f3-3325-4cd5-8b21-a0e9cf1be205",
   "metadata": {
    "pycharm": {
     "name": "#%%\n"
    }
   },
   "outputs": [],
   "source": [
    "print_object_memory_usage(out_list[0])"
   ]
  },
  {
   "cell_type": "code",
   "execution_count": 187,
   "id": "5e421a11-caee-4e62-b186-ffca03c0cbc3",
   "metadata": {
    "pycharm": {
     "name": "#%%\n"
    }
   },
   "outputs": [],
   "source": [
    "a_snapshot = out_list[0]\n",
    "a_snapshot"
   ]
  },
  {
   "cell_type": "code",
   "execution_count": null,
   "id": "e951c955-2bc6-40b4-b7f5-51920be2dd78",
   "metadata": {
    "pycharm": {
     "name": "#%%\n"
    }
   },
   "outputs": [],
   "source": [
    "a_snapshot.to_dict()"
   ]
  },
  {
   "cell_type": "code",
   "execution_count": 179,
   "id": "0027d9bf-1a19-41a9-b4e8-ae136c0b2c6e",
   "metadata": {
    "pycharm": {
     "name": "#%%\n"
    }
   },
   "outputs": [],
   "source": [
    "len(out_list) # 4153"
   ]
  },
  {
   "cell_type": "code",
   "execution_count": 181,
   "id": "3025f6b5-b492-42c0-84cd-85abce1c1e8c",
   "metadata": {
    "pycharm": {
     "name": "#%%\n"
    }
   },
   "outputs": [],
   "source": [
    "out_list_t = np.array(out_list_t)\n",
    "out_list_t.shape"
   ]
  },
  {
   "cell_type": "code",
   "execution_count": 189,
   "id": "b1564fee-1741-4342-9862-02f40256b379",
   "metadata": {
    "pycharm": {
     "name": "#%%\n"
    }
   },
   "outputs": [
    {
     "name": "stdout",
     "output_type": "stream",
     "text": [
      "object size: 200.256337 MB\n"
     ]
    },
    {
     "data": {
      "text/plain": [
       "200.25633716583252"
      ]
     },
     "execution_count": 189,
     "metadata": {},
     "output_type": "execute_result"
    }
   ],
   "source": [
    "print_object_memory_usage(active_pf_1D_dt) # object size: 200.256337 MB"
   ]
  },
  {
   "cell_type": "code",
   "execution_count": 152,
   "id": "edd987a6-5c30-4f51-88d6-0ea87081a457",
   "metadata": {
    "pycharm": {
     "name": "#%%\n"
    }
   },
   "outputs": [
    {
     "data": {},
     "metadata": {},
     "output_type": "display_data"
    },
    {
     "data": {
      "application/vnd.holoviews_exec.v0+json": "",
      "text/html": [
       "<div id='18127'>\n",
       "  <div class=\"bk-root\" id=\"f71b21b0-e500-40dd-9f52-ab1b4537ee4b\" data-root-id=\"18127\"></div>\n",
       "</div>\n",
       "<script type=\"application/javascript\">(function(root) {\n",
       "  function embed_document(root) {\n",
       "    var docs_json = {\"f476d790-b5b6-4e3a-a9ef-3ab927015e50\":{\"defs\":[{\"extends\":null,\"module\":null,\"name\":\"ReactiveHTML1\",\"overrides\":[],\"properties\":[]},{\"extends\":null,\"module\":null,\"name\":\"FlexBox1\",\"overrides\":[],\"properties\":[{\"default\":\"flex-start\",\"kind\":null,\"name\":\"align_content\"},{\"default\":\"flex-start\",\"kind\":null,\"name\":\"align_items\"},{\"default\":\"row\",\"kind\":null,\"name\":\"flex_direction\"},{\"default\":\"wrap\",\"kind\":null,\"name\":\"flex_wrap\"},{\"default\":\"flex-start\",\"kind\":null,\"name\":\"justify_content\"}]},{\"extends\":null,\"module\":null,\"name\":\"GridStack1\",\"overrides\":[],\"properties\":[{\"default\":\"warn\",\"kind\":null,\"name\":\"mode\"},{\"default\":null,\"kind\":null,\"name\":\"ncols\"},{\"default\":null,\"kind\":null,\"name\":\"nrows\"},{\"default\":true,\"kind\":null,\"name\":\"allow_resize\"},{\"default\":true,\"kind\":null,\"name\":\"allow_drag\"},{\"default\":[],\"kind\":null,\"name\":\"state\"}]},{\"extends\":null,\"module\":null,\"name\":\"click1\",\"overrides\":[],\"properties\":[{\"default\":\"\",\"kind\":null,\"name\":\"terminal_output\"},{\"default\":\"\",\"kind\":null,\"name\":\"debug_name\"},{\"default\":0,\"kind\":null,\"name\":\"clears\"}]},{\"extends\":null,\"module\":null,\"name\":\"TemplateActions1\",\"overrides\":[],\"properties\":[{\"default\":0,\"kind\":null,\"name\":\"open_modal\"},{\"default\":0,\"kind\":null,\"name\":\"close_modal\"}]},{\"extends\":null,\"module\":null,\"name\":\"MaterialTemplateActions1\",\"overrides\":[],\"properties\":[{\"default\":0,\"kind\":null,\"name\":\"open_modal\"},{\"default\":0,\"kind\":null,\"name\":\"close_modal\"}]}],\"roots\":{\"references\":[{\"attributes\":{\"axis_label\":\"2\",\"coordinates\":null,\"formatter\":{\"id\":\"18175\"},\"group\":null,\"major_label_policy\":{\"id\":\"18176\"},\"ticker\":{\"id\":\"18146\"}},\"id\":\"18145\",\"type\":\"LinearAxis\"},{\"attributes\":{},\"id\":\"18137\",\"type\":\"LinearScale\"},{\"attributes\":{\"below\":[{\"id\":\"18141\"}],\"center\":[{\"id\":\"18144\"},{\"id\":\"18148\"}],\"height\":300,\"left\":[{\"id\":\"18145\"}],\"margin\":[5,5,5,5],\"min_border_bottom\":10,\"min_border_left\":10,\"min_border_right\":10,\"min_border_top\":10,\"renderers\":[{\"id\":\"18168\"}],\"sizing_mode\":\"fixed\",\"title\":{\"id\":\"18133\"},\"toolbar\":{\"id\":\"18155\"},\"width\":700,\"x_range\":{\"id\":\"18129\"},\"x_scale\":{\"id\":\"18137\"},\"y_range\":{\"id\":\"18130\"},\"y_scale\":{\"id\":\"18139\"}},\"id\":\"18132\",\"subtype\":\"Figure\",\"type\":\"Plot\"},{\"attributes\":{},\"id\":\"18153\",\"type\":\"ResetTool\"},{\"attributes\":{},\"id\":\"18176\",\"type\":\"AllLabels\"},{\"attributes\":{\"overlay\":{\"id\":\"18154\"}},\"id\":\"18152\",\"type\":\"BoxZoomTool\"},{\"attributes\":{},\"id\":\"18175\",\"type\":\"BasicTickFormatter\"},{\"attributes\":{},\"id\":\"18173\",\"type\":\"AllLabels\"},{\"attributes\":{},\"id\":\"18150\",\"type\":\"PanTool\"},{\"attributes\":{\"coordinates\":null,\"group\":null,\"text_color\":\"black\",\"text_font_size\":\"12pt\"},\"id\":\"18133\",\"type\":\"Title\"},{\"attributes\":{\"children\":[{\"id\":\"18128\"},{\"id\":\"18132\"},{\"id\":\"18197\"}],\"margin\":[0,0,0,0],\"name\":\"Row19918\",\"tags\":[\"embedded\"]},\"id\":\"18127\",\"type\":\"Row\"},{\"attributes\":{\"end\":4153.0,\"reset_end\":4153.0,\"reset_start\":1.0,\"start\":1.0,\"tags\":[[[\"index\",\"index\",null]]]},\"id\":\"18129\",\"type\":\"Range1d\"},{\"attributes\":{},\"id\":\"18142\",\"type\":\"BasicTicker\"},{\"attributes\":{\"data\":{\"2\":{\"__ndarray__\":\"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\",\"dtype\":\"float64\",\"order\":\"little\",\"shape\":[4153]},\"A_2\":{\"__ndarray__\":\"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\",\"dtype\":\"float64\",\"order\":\"little\",\"shape\":[4153]},\"index\":[1,2,3,4,5,6,7,8,9,10,11,12,13,14,15,16,17,18,19,20,21,22,23,24,25,26,27,28,29,30,31,32,33,34,35,36,37,38,39,40,41,42,43,44,45,46,47,48,49,50,51,52,53,54,55,56,57,58,59,60,61,62,63,64,65,66,67,68,69,70,71,72,73,74,75,76,77,78,79,80,81,82,83,84,85,86,87,88,89,90,91,92,93,94,95,96,97,98,99,100,101,102,103,104,105,106,107,108,109,110,111,112,113,114,115,116,117,118,119,120,121,122,123,124,125,126,127,128,129,130,131,132,133,134,135,136,137,138,139,140,141,142,143,144,145,146,147,148,149,150,151,152,153,154,155,156,157,158,159,160,161,162,163,164,165,166,167,168,169,170,171,172,173,174,175,176,177,178,179,180,181,182,183,184,185,186,187,188,189,190,191,192,193,194,195,196,197,198,199,200,201,202,203,204,205,206,207,208,209,210,211,212,213,214,215,216,217,218,219,220,221,222,223,224,225,226,227,228,229,230,231,232,233,234,235,236,237,238,239,240,241,242,243,244,245,246,247,248,249,250,251,252,253,254,255,256,257,258,259,260,261,262,263,264,265,266,267,268,269,270,271,272,273,274,275,276,277,278,279,280,281,282,283,284,285,286,287,288,289,290,291,292,293,294,295,296,297,298,299,300,301,302,303,304,305,306,307,308,309,310,311,312,313,314,315,316,317,318,319,320,321,322,323,324,325,326,327,328,329,330,331,332,333,334,335,336,337,338,339,340,341,342,343,344,345,346,347,348,349,350,351,352,353,354,355,356,357,358,359,360,361,362,363,364,365,366,367,368,369,370,371,372,373,374,375,376,377,378,379,380,381,382,383,384,385,386,387,388,389,390,391,392,393,394,395,396,397,398,399,400,401,402,403,404,405,406,407,408,409,410,411,412,413,414,415,416,417,418,419,420,421,422,423,424,425,426,427,428,429,430,431,432,433,434,435,436,437,438,439,440,441,442,443,444,445,446,447,448,449,450,451,452,453,454,455,456,457,458,459,460,461,462,463,464,465,466,467,468,469,470,471,472,473,474,475,476,477,478,479,480,481,482,483,484,485,486,487,488,489,490,491,492,493,494,495,496,497,498,499,500,501,502,503,504,505,506,507,508,509,510,511,512,513,514,515,516,517,518,519,520,521,522,523,524,525,526,527,528,529,530,531,532,533,534,535,536,537,538,539,540,541,542,543,544,545,546,547,548,549,550,551,552,553,554,555,556,557,558,559,560,561,562,563,564,565,566,567,568,569,570,571,572,573,574,575,576,577,578,579,580,581,582,583,584,585,586,587,588,589,590,591,592,593,594,595,596,597,598,599,600,601,602,603,604,605,606,607,608,609,610,611,612,613,614,615,616,617,618,619,620,621,622,623,624,625,626,627,628,629,630,631,632,633,634,635,636,637,638,639,640,641,642,643,644,645,646,647,648,649,650,651,652,653,654,655,656,657,658,659,660,661,662,663,664,665,666,667,668,669,670,671,672,673,674,675,676,677,678,679,680,681,682,683,684,685,686,687,688,689,690,691,692,693,694,695,696,697,698,699,700,701,702,703,704,705,706,707,708,709,710,711,712,713,714,715,716,717,718,719,720,721,722,723,724,725,726,727,728,729,730,731,732,733,734,735,736,737,738,739,740,741,742,743,744,745,746,747,748,749,750,751,752,753,754,755,756,757,758,759,760,761,762,763,764,765,766,767,768,769,770,771,772,773,774,775,776,777,778,779,780,781,782,783,784,785,786,787,788,789,790,791,792,793,794,795,796,797,798,799,800,801,802,803,804,805,806,807,808,809,810,811,812,813,814,815,816,817,818,819,820,821,822,823,824,825,826,827,828,829,830,831,832,833,834,835,836,837,838,839,840,841,842,843,844,845,846,847,848,849,850,851,852,853,854,855,856,857,858,859,860,861,862,863,864,865,866,867,868,869,870,871,872,873,874,875,876,877,878,879,880,881,882,883,884,885,886,887,888,889,890,891,892,893,894,895,896,897,898,899,900,901,902,903,904,905,906,907,908,909,910,911,912,913,914,915,916,917,918,919,920,921,922,923,924,925,926,927,928,929,930,931,932,933,934,935,936,937,938,939,940,941,942,943,944,945,946,947,948,949,950,951,952,953,954,955,956,957,958,959,960,961,962,963,964,965,966,967,968,969,970,971,972,973,974,975,976,977,978,979,980,981,982,983,984,985,986,987,988,989,990,991,992,993,994,995,996,997,998,999,1000,1001,1002,1003,1004,1005,1006,1007,1008,1009,1010,1011,1012,1013,1014,1015,1016,1017,1018,1019,1020,1021,1022,1023,1024,1025,1026,1027,1028,1029,1030,1031,1032,1033,1034,1035,1036,1037,1038,1039,1040,1041,1042,1043,1044,1045,1046,1047,1048,1049,1050,1051,1052,1053,1054,1055,1056,1057,1058,1059,1060,1061,1062,1063,1064,1065,1066,1067,1068,1069,1070,1071,1072,1073,1074,1075,1076,1077,1078,1079,1080,1081,1082,1083,1084,1085,1086,1087,1088,1089,1090,1091,1092,1093,1094,1095,1096,1097,1098,1099,1100,1101,1102,1103,1104,1105,1106,1107,1108,1109,1110,1111,1112,1113,1114,1115,1116,1117,1118,1119,1120,1121,1122,1123,1124,1125,1126,1127,1128,1129,1130,1131,1132,1133,1134,1135,1136,1137,1138,1139,1140,1141,1142,1143,1144,1145,1146,1147,1148,1149,1150,1151,1152,1153,1154,1155,1156,1157,1158,1159,1160,1161,1162,1163,1164,1165,1166,1167,1168,1169,1170,1171,1172,1173,1174,1175,1176,1177,1178,1179,1180,1181,1182,1183,1184,1185,1186,1187,1188,1189,1190,1191,1192,1193,1194,1195,1196,1197,1198,1199,1200,1201,1202,1203,1204,1205,1206,1207,1208,1209,1210,1211,1212,1213,1214,1215,1216,1217,1218,1219,1220,1221,1222,1223,1224,1225,1226,1227,1228,1229,1230,1231,1232,1233,1234,1235,1236,1237,1238,1239,1240,1241,1242,1243,1244,1245,1246,1247,1248,1249,1250,1251,1252,1253,1254,1255,1256,1257,1258,1259,1260,1261,1262,1263,1264,1265,1266,1267,1268,1269,1270,1271,1272,1273,1274,1275,1276,1277,1278,1279,1280,1281,1282,1283,1284,1285,1286,1287,1288,1289,1290,1291,1292,1293,1294,1295,1296,1297,1298,1299,1300,1301,1302,1303,1304,1305,1306,1307,1308,1309,1310,1311,1312,1313,1314,1315,1316,1317,1318,1319,1320,1321,1322,1323,1324,1325,1326,1327,1328,1329,1330,1331,1332,1333,1334,1335,1336,1337,1338,1339,1340,1341,1342,1343,1344,1345,1346,1347,1348,1349,1350,1351,1352,1353,1354,1355,1356,1357,1358,1359,1360,1361,1362,1363,1364,1365,1366,1367,1368,1369,1370,1371,1372,1373,1374,1375,1376,1377,1378,1379,1380,1381,1382,1383,1384,1385,1386,1387,1388,1389,1390,1391,1392,1393,1394,1395,1396,1397,1398,1399,1400,1401,1402,1403,1404,1405,1406,1407,1408,1409,1410,1411,1412,1413,1414,1415,1416,1417,1418,1419,1420,1421,1422,1423,1424,1425,1426,1427,1428,1429,1430,1431,1432,1433,1434,1435,1436,1437,1438,1439,1440,1441,1442,1443,1444,1445,1446,1447,1448,1449,1450,1451,1452,1453,1454,1455,1456,1457,1458,1459,1460,1461,1462,1463,1464,1465,1466,1467,1468,1469,1470,1471,1472,1473,1474,1475,1476,1477,1478,1479,1480,1481,1482,1483,1484,1485,1486,1487,1488,1489,1490,1491,1492,1493,1494,1495,1496,1497,1498,1499,1500,1501,1502,1503,1504,1505,1506,1507,1508,1509,1510,1511,1512,1513,1514,1515,1516,1517,1518,1519,1520,1521,1522,1523,1524,1525,1526,1527,1528,1529,1530,1531,1532,1533,1534,1535,1536,1537,1538,1539,1540,1541,1542,1543,1544,1545,1546,1547,1548,1549,1550,1551,1552,1553,1554,1555,1556,1557,1558,1559,1560,1561,1562,1563,1564,1565,1566,1567,1568,1569,1570,1571,1572,1573,1574,1575,1576,1577,1578,1579,1580,1581,1582,1583,1584,1585,1586,1587,1588,1589,1590,1591,1592,1593,1594,1595,1596,1597,1598,1599,1600,1601,1602,1603,1604,1605,1606,1607,1608,1609,1610,1611,1612,1613,1614,1615,1616,1617,1618,1619,1620,1621,1622,1623,1624,1625,1626,1627,1628,1629,1630,1631,1632,1633,1634,1635,1636,1637,1638,1639,1640,1641,1642,1643,1644,1645,1646,1647,1648,1649,1650,1651,1652,1653,1654,1655,1656,1657,1658,1659,1660,1661,1662,1663,1664,1665,1666,1667,1668,1669,1670,1671,1672,1673,1674,1675,1676,1677,1678,1679,1680,1681,1682,1683,1684,1685,1686,1687,1688,1689,1690,1691,1692,1693,1694,1695,1696,1697,1698,1699,1700,1701,1702,1703,1704,1705,1706,1707,1708,1709,1710,1711,1712,1713,1714,1715,1716,1717,1718,1719,1720,1721,1722,1723,1724,1725,1726,1727,1728,1729,1730,1731,1732,1733,1734,1735,1736,1737,1738,1739,1740,1741,1742,1743,1744,1745,1746,1747,1748,1749,1750,1751,1752,1753,1754,1755,1756,1757,1758,1759,1760,1761,1762,1763,1764,1765,1766,1767,1768,1769,1770,1771,1772,1773,1774,1775,1776,1777,1778,1779,1780,1781,1782,1783,1784,1785,1786,1787,1788,1789,1790,1791,1792,1793,1794,1795,1796,1797,1798,1799,1800,1801,1802,1803,1804,1805,1806,1807,1808,1809,1810,1811,1812,1813,1814,1815,1816,1817,1818,1819,1820,1821,1822,1823,1824,1825,1826,1827,1828,1829,1830,1831,1832,1833,1834,1835,1836,1837,1838,1839,1840,1841,1842,1843,1844,1845,1846,1847,1848,1849,1850,1851,1852,1853,1854,1855,1856,1857,1858,1859,1860,1861,1862,1863,1864,1865,1866,1867,1868,1869,1870,1871,1872,1873,1874,1875,1876,1877,1878,1879,1880,1881,1882,1883,1884,1885,1886,1887,1888,1889,1890,1891,1892,1893,1894,1895,1896,1897,1898,1899,1900,1901,1902,1903,1904,1905,1906,1907,1908,1909,1910,1911,1912,1913,1914,1915,1916,1917,1918,1919,1920,1921,1922,1923,1924,1925,1926,1927,1928,1929,1930,1931,1932,1933,1934,1935,1936,1937,1938,1939,1940,1941,1942,1943,1944,1945,1946,1947,1948,1949,1950,1951,1952,1953,1954,1955,1956,1957,1958,1959,1960,1961,1962,1963,1964,1965,1966,1967,1968,1969,1970,1971,1972,1973,1974,1975,1976,1977,1978,1979,1980,1981,1982,1983,1984,1985,1986,1987,1988,1989,1990,1991,1992,1993,1994,1995,1996,1997,1998,1999,2000,2001,2002,2003,2004,2005,2006,2007,2008,2009,2010,2011,2012,2013,2014,2015,2016,2017,2018,2019,2020,2021,2022,2023,2024,2025,2026,2027,2028,2029,2030,2031,2032,2033,2034,2035,2036,2037,2038,2039,2040,2041,2042,2043,2044,2045,2046,2047,2048,2049,2050,2051,2052,2053,2054,2055,2056,2057,2058,2059,2060,2061,2062,2063,2064,2065,2066,2067,2068,2069,2070,2071,2072,2073,2074,2075,2076,2077,2078,2079,2080,2081,2082,2083,2084,2085,2086,2087,2088,2089,2090,2091,2092,2093,2094,2095,2096,2097,2098,2099,2100,2101,2102,2103,2104,2105,2106,2107,2108,2109,2110,2111,2112,2113,2114,2115,2116,2117,2118,2119,2120,2121,2122,2123,2124,2125,2126,2127,2128,2129,2130,2131,2132,2133,2134,2135,2136,2137,2138,2139,2140,2141,2142,2143,2144,2145,2146,2147,2148,2149,2150,2151,2152,2153,2154,2155,2156,2157,2158,2159,2160,2161,2162,2163,2164,2165,2166,2167,2168,2169,2170,2171,2172,2173,2174,2175,2176,2177,2178,2179,2180,2181,2182,2183,2184,2185,2186,2187,2188,2189,2190,2191,2192,2193,2194,2195,2196,2197,2198,2199,2200,2201,2202,2203,2204,2205,2206,2207,2208,2209,2210,2211,2212,2213,2214,2215,2216,2217,2218,2219,2220,2221,2222,2223,2224,2225,2226,2227,2228,2229,2230,2231,2232,2233,2234,2235,2236,2237,2238,2239,2240,2241,2242,2243,2244,2245,2246,2247,2248,2249,2250,2251,2252,2253,2254,2255,2256,2257,2258,2259,2260,2261,2262,2263,2264,2265,2266,2267,2268,2269,2270,2271,2272,2273,2274,2275,2276,2277,2278,2279,2280,2281,2282,2283,2284,2285,2286,2287,2288,2289,2290,2291,2292,2293,2294,2295,2296,2297,2298,2299,2300,2301,2302,2303,2304,2305,2306,2307,2308,2309,2310,2311,2312,2313,2314,2315,2316,2317,2318,2319,2320,2321,2322,2323,2324,2325,2326,2327,2328,2329,2330,2331,2332,2333,2334,2335,2336,2337,2338,2339,2340,2341,2342,2343,2344,2345,2346,2347,2348,2349,2350,2351,2352,2353,2354,2355,2356,2357,2358,2359,2360,2361,2362,2363,2364,2365,2366,2367,2368,2369,2370,2371,2372,2373,2374,2375,2376,2377,2378,2379,2380,2381,2382,2383,2384,2385,2386,2387,2388,2389,2390,2391,2392,2393,2394,2395,2396,2397,2398,2399,2400,2401,2402,2403,2404,2405,2406,2407,2408,2409,2410,2411,2412,2413,2414,2415,2416,2417,2418,2419,2420,2421,2422,2423,2424,2425,2426,2427,2428,2429,2430,2431,2432,2433,2434,2435,2436,2437,2438,2439,2440,2441,2442,2443,2444,2445,2446,2447,2448,2449,2450,2451,2452,2453,2454,2455,2456,2457,2458,2459,2460,2461,2462,2463,2464,2465,2466,2467,2468,2469,2470,2471,2472,2473,2474,2475,2476,2477,2478,2479,2480,2481,2482,2483,2484,2485,2486,2487,2488,2489,2490,2491,2492,2493,2494,2495,2496,2497,2498,2499,2500,2501,2502,2503,2504,2505,2506,2507,2508,2509,2510,2511,2512,2513,2514,2515,2516,2517,2518,2519,2520,2521,2522,2523,2524,2525,2526,2527,2528,2529,2530,2531,2532,2533,2534,2535,2536,2537,2538,2539,2540,2541,2542,2543,2544,2545,2546,2547,2548,2549,2550,2551,2552,2553,2554,2555,2556,2557,2558,2559,2560,2561,2562,2563,2564,2565,2566,2567,2568,2569,2570,2571,2572,2573,2574,2575,2576,2577,2578,2579,2580,2581,2582,2583,2584,2585,2586,2587,2588,2589,2590,2591,2592,2593,2594,2595,2596,2597,2598,2599,2600,2601,2602,2603,2604,2605,2606,2607,2608,2609,2610,2611,2612,2613,2614,2615,2616,2617,2618,2619,2620,2621,2622,2623,2624,2625,2626,2627,2628,2629,2630,2631,2632,2633,2634,2635,2636,2637,2638,2639,2640,2641,2642,2643,2644,2645,2646,2647,2648,2649,2650,2651,2652,2653,2654,2655,2656,2657,2658,2659,2660,2661,2662,2663,2664,2665,2666,2667,2668,2669,2670,2671,2672,2673,2674,2675,2676,2677,2678,2679,2680,2681,2682,2683,2684,2685,2686,2687,2688,2689,2690,2691,2692,2693,2694,2695,2696,2697,2698,2699,2700,2701,2702,2703,2704,2705,2706,2707,2708,2709,2710,2711,2712,2713,2714,2715,2716,2717,2718,2719,2720,2721,2722,2723,2724,2725,2726,2727,2728,2729,2730,2731,2732,2733,2734,2735,2736,2737,2738,2739,2740,2741,2742,2743,2744,2745,2746,2747,2748,2749,2750,2751,2752,2753,2754,2755,2756,2757,2758,2759,2760,2761,2762,2763,2764,2765,2766,2767,2768,2769,2770,2771,2772,2773,2774,2775,2776,2777,2778,2779,2780,2781,2782,2783,2784,2785,2786,2787,2788,2789,2790,2791,2792,2793,2794,2795,2796,2797,2798,2799,2800,2801,2802,2803,2804,2805,2806,2807,2808,2809,2810,2811,2812,2813,2814,2815,2816,2817,2818,2819,2820,2821,2822,2823,2824,2825,2826,2827,2828,2829,2830,2831,2832,2833,2834,2835,2836,2837,2838,2839,2840,2841,2842,2843,2844,2845,2846,2847,2848,2849,2850,2851,2852,2853,2854,2855,2856,2857,2858,2859,2860,2861,2862,2863,2864,2865,2866,2867,2868,2869,2870,2871,2872,2873,2874,2875,2876,2877,2878,2879,2880,2881,2882,2883,2884,2885,2886,2887,2888,2889,2890,2891,2892,2893,2894,2895,2896,2897,2898,2899,2900,2901,2902,2903,2904,2905,2906,2907,2908,2909,2910,2911,2912,2913,2914,2915,2916,2917,2918,2919,2920,2921,2922,2923,2924,2925,2926,2927,2928,2929,2930,2931,2932,2933,2934,2935,2936,2937,2938,2939,2940,2941,2942,2943,2944,2945,2946,2947,2948,2949,2950,2951,2952,2953,2954,2955,2956,2957,2958,2959,2960,2961,2962,2963,2964,2965,2966,2967,2968,2969,2970,2971,2972,2973,2974,2975,2976,2977,2978,2979,2980,2981,2982,2983,2984,2985,2986,2987,2988,2989,2990,2991,2992,2993,2994,2995,2996,2997,2998,2999,3000,3001,3002,3003,3004,3005,3006,3007,3008,3009,3010,3011,3012,3013,3014,3015,3016,3017,3018,3019,3020,3021,3022,3023,3024,3025,3026,3027,3028,3029,3030,3031,3032,3033,3034,3035,3036,3037,3038,3039,3040,3041,3042,3043,3044,3045,3046,3047,3048,3049,3050,3051,3052,3053,3054,3055,3056,3057,3058,3059,3060,3061,3062,3063,3064,3065,3066,3067,3068,3069,3070,3071,3072,3073,3074,3075,3076,3077,3078,3079,3080,3081,3082,3083,3084,3085,3086,3087,3088,3089,3090,3091,3092,3093,3094,3095,3096,3097,3098,3099,3100,3101,3102,3103,3104,3105,3106,3107,3108,3109,3110,3111,3112,3113,3114,3115,3116,3117,3118,3119,3120,3121,3122,3123,3124,3125,3126,3127,3128,3129,3130,3131,3132,3133,3134,3135,3136,3137,3138,3139,3140,3141,3142,3143,3144,3145,3146,3147,3148,3149,3150,3151,3152,3153,3154,3155,3156,3157,3158,3159,3160,3161,3162,3163,3164,3165,3166,3167,3168,3169,3170,3171,3172,3173,3174,3175,3176,3177,3178,3179,3180,3181,3182,3183,3184,3185,3186,3187,3188,3189,3190,3191,3192,3193,3194,3195,3196,3197,3198,3199,3200,3201,3202,3203,3204,3205,3206,3207,3208,3209,3210,3211,3212,3213,3214,3215,3216,3217,3218,3219,3220,3221,3222,3223,3224,3225,3226,3227,3228,3229,3230,3231,3232,3233,3234,3235,3236,3237,3238,3239,3240,3241,3242,3243,3244,3245,3246,3247,3248,3249,3250,3251,3252,3253,3254,3255,3256,3257,3258,3259,3260,3261,3262,3263,3264,3265,3266,3267,3268,3269,3270,3271,3272,3273,3274,3275,3276,3277,3278,3279,3280,3281,3282,3283,3284,3285,3286,3287,3288,3289,3290,3291,3292,3293,3294,3295,3296,3297,3298,3299,3300,3301,3302,3303,3304,3305,3306,3307,3308,3309,3310,3311,3312,3313,3314,3315,3316,3317,3318,3319,3320,3321,3322,3323,3324,3325,3326,3327,3328,3329,3330,3331,3332,3333,3334,3335,3336,3337,3338,3339,3340,3341,3342,3343,3344,3345,3346,3347,3348,3349,3350,3351,3352,3353,3354,3355,3356,3357,3358,3359,3360,3361,3362,3363,3364,3365,3366,3367,3368,3369,3370,3371,3372,3373,3374,3375,3376,3377,3378,3379,3380,3381,3382,3383,3384,3385,3386,3387,3388,3389,3390,3391,3392,3393,3394,3395,3396,3397,3398,3399,3400,3401,3402,3403,3404,3405,3406,3407,3408,3409,3410,3411,3412,3413,3414,3415,3416,3417,3418,3419,3420,3421,3422,3423,3424,3425,3426,3427,3428,3429,3430,3431,3432,3433,3434,3435,3436,3437,3438,3439,3440,3441,3442,3443,3444,3445,3446,3447,3448,3449,3450,3451,3452,3453,3454,3455,3456,3457,3458,3459,3460,3461,3462,3463,3464,3465,3466,3467,3468,3469,3470,3471,3472,3473,3474,3475,3476,3477,3478,3479,3480,3481,3482,3483,3484,3485,3486,3487,3488,3489,3490,3491,3492,3493,3494,3495,3496,3497,3498,3499,3500,3501,3502,3503,3504,3505,3506,3507,3508,3509,3510,3511,3512,3513,3514,3515,3516,3517,3518,3519,3520,3521,3522,3523,3524,3525,3526,3527,3528,3529,3530,3531,3532,3533,3534,3535,3536,3537,3538,3539,3540,3541,3542,3543,3544,3545,3546,3547,3548,3549,3550,3551,3552,3553,3554,3555,3556,3557,3558,3559,3560,3561,3562,3563,3564,3565,3566,3567,3568,3569,3570,3571,3572,3573,3574,3575,3576,3577,3578,3579,3580,3581,3582,3583,3584,3585,3586,3587,3588,3589,3590,3591,3592,3593,3594,3595,3596,3597,3598,3599,3600,3601,3602,3603,3604,3605,3606,3607,3608,3609,3610,3611,3612,3613,3614,3615,3616,3617,3618,3619,3620,3621,3622,3623,3624,3625,3626,3627,3628,3629,3630,3631,3632,3633,3634,3635,3636,3637,3638,3639,3640,3641,3642,3643,3644,3645,3646,3647,3648,3649,3650,3651,3652,3653,3654,3655,3656,3657,3658,3659,3660,3661,3662,3663,3664,3665,3666,3667,3668,3669,3670,3671,3672,3673,3674,3675,3676,3677,3678,3679,3680,3681,3682,3683,3684,3685,3686,3687,3688,3689,3690,3691,3692,3693,3694,3695,3696,3697,3698,3699,3700,3701,3702,3703,3704,3705,3706,3707,3708,3709,3710,3711,3712,3713,3714,3715,3716,3717,3718,3719,3720,3721,3722,3723,3724,3725,3726,3727,3728,3729,3730,3731,3732,3733,3734,3735,3736,3737,3738,3739,3740,3741,3742,3743,3744,3745,3746,3747,3748,3749,3750,3751,3752,3753,3754,3755,3756,3757,3758,3759,3760,3761,3762,3763,3764,3765,3766,3767,3768,3769,3770,3771,3772,3773,3774,3775,3776,3777,3778,3779,3780,3781,3782,3783,3784,3785,3786,3787,3788,3789,3790,3791,3792,3793,3794,3795,3796,3797,3798,3799,3800,3801,3802,3803,3804,3805,3806,3807,3808,3809,3810,3811,3812,3813,3814,3815,3816,3817,3818,3819,3820,3821,3822,3823,3824,3825,3826,3827,3828,3829,3830,3831,3832,3833,3834,3835,3836,3837,3838,3839,3840,3841,3842,3843,3844,3845,3846,3847,3848,3849,3850,3851,3852,3853,3854,3855,3856,3857,3858,3859,3860,3861,3862,3863,3864,3865,3866,3867,3868,3869,3870,3871,3872,3873,3874,3875,3876,3877,3878,3879,3880,3881,3882,3883,3884,3885,3886,3887,3888,3889,3890,3891,3892,3893,3894,3895,3896,3897,3898,3899,3900,3901,3902,3903,3904,3905,3906,3907,3908,3909,3910,3911,3912,3913,3914,3915,3916,3917,3918,3919,3920,3921,3922,3923,3924,3925,3926,3927,3928,3929,3930,3931,3932,3933,3934,3935,3936,3937,3938,3939,3940,3941,3942,3943,3944,3945,3946,3947,3948,3949,3950,3951,3952,3953,3954,3955,3956,3957,3958,3959,3960,3961,3962,3963,3964,3965,3966,3967,3968,3969,3970,3971,3972,3973,3974,3975,3976,3977,3978,3979,3980,3981,3982,3983,3984,3985,3986,3987,3988,3989,3990,3991,3992,3993,3994,3995,3996,3997,3998,3999,4000,4001,4002,4003,4004,4005,4006,4007,4008,4009,4010,4011,4012,4013,4014,4015,4016,4017,4018,4019,4020,4021,4022,4023,4024,4025,4026,4027,4028,4029,4030,4031,4032,4033,4034,4035,4036,4037,4038,4039,4040,4041,4042,4043,4044,4045,4046,4047,4048,4049,4050,4051,4052,4053,4054,4055,4056,4057,4058,4059,4060,4061,4062,4063,4064,4065,4066,4067,4068,4069,4070,4071,4072,4073,4074,4075,4076,4077,4078,4079,4080,4081,4082,4083,4084,4085,4086,4087,4088,4089,4090,4091,4092,4093,4094,4095,4096,4097,4098,4099,4100,4101,4102,4103,4104,4105,4106,4107,4108,4109,4110,4111,4112,4113,4114,4115,4116,4117,4118,4119,4120,4121,4122,4123,4124,4125,4126,4127,4128,4129,4130,4131,4132,4133,4134,4135,4136,4137,4138,4139,4140,4141,4142,4143,4144,4145,4146,4147,4148,4149,4150,4151,4152,4153]},\"selected\":{\"id\":\"18163\"},\"selection_policy\":{\"id\":\"18184\"}},\"id\":\"18162\",\"type\":\"ColumnDataSource\"},{\"attributes\":{\"line_alpha\":0.1,\"line_color\":\"#30a2da\",\"line_width\":2,\"x\":{\"field\":\"index\"},\"y\":{\"field\":\"2\"}},\"id\":\"18166\",\"type\":\"Line\"},{\"attributes\":{\"line_alpha\":0.2,\"line_color\":\"#30a2da\",\"line_width\":2,\"x\":{\"field\":\"index\"},\"y\":{\"field\":\"2\"}},\"id\":\"18167\",\"type\":\"Line\"},{\"attributes\":{\"tools\":[{\"id\":\"18131\"},{\"id\":\"18149\"},{\"id\":\"18150\"},{\"id\":\"18151\"},{\"id\":\"18152\"},{\"id\":\"18153\"}]},\"id\":\"18155\",\"type\":\"Toolbar\"},{\"attributes\":{\"bottom_units\":\"screen\",\"coordinates\":null,\"fill_alpha\":0.5,\"fill_color\":\"lightgrey\",\"group\":null,\"left_units\":\"screen\",\"level\":\"overlay\",\"line_alpha\":1.0,\"line_color\":\"black\",\"line_dash\":[4,4],\"line_width\":2,\"right_units\":\"screen\",\"syncable\":false,\"top_units\":\"screen\"},\"id\":\"18154\",\"type\":\"BoxAnnotation\"},{\"attributes\":{\"axis\":{\"id\":\"18145\"},\"coordinates\":null,\"dimension\":1,\"grid_line_color\":null,\"group\":null,\"ticker\":null},\"id\":\"18148\",\"type\":\"Grid\"},{\"attributes\":{\"margin\":[5,5,5,5],\"name\":\"HSpacer19923\",\"sizing_mode\":\"stretch_width\"},\"id\":\"18197\",\"type\":\"Spacer\"},{\"attributes\":{},\"id\":\"18139\",\"type\":\"LinearScale\"},{\"attributes\":{},\"id\":\"18149\",\"type\":\"SaveTool\"},{\"attributes\":{\"margin\":[5,5,5,5],\"name\":\"HSpacer19922\",\"sizing_mode\":\"stretch_width\"},\"id\":\"18128\",\"type\":\"Spacer\"},{\"attributes\":{\"end\":0.275070377738054,\"reset_end\":0.275070377738054,\"reset_start\":-0.02500639797618673,\"start\":-0.02500639797618673,\"tags\":[[[\"2\",\"2\",null]]]},\"id\":\"18130\",\"type\":\"Range1d\"},{\"attributes\":{\"callback\":null,\"renderers\":[{\"id\":\"18168\"}],\"tags\":[\"hv_created\"],\"tooltips\":[[\"index\",\"@{index}\"],[\"2\",\"@{A_2}\"]]},\"id\":\"18131\",\"type\":\"HoverTool\"},{\"attributes\":{},\"id\":\"18146\",\"type\":\"BasicTicker\"},{\"attributes\":{\"axis\":{\"id\":\"18141\"},\"coordinates\":null,\"grid_line_color\":null,\"group\":null,\"ticker\":null},\"id\":\"18144\",\"type\":\"Grid\"},{\"attributes\":{\"coordinates\":null,\"data_source\":{\"id\":\"18162\"},\"glyph\":{\"id\":\"18165\"},\"group\":null,\"hover_glyph\":null,\"muted_glyph\":{\"id\":\"18167\"},\"nonselection_glyph\":{\"id\":\"18166\"},\"selection_glyph\":{\"id\":\"18170\"},\"view\":{\"id\":\"18169\"}},\"id\":\"18168\",\"type\":\"GlyphRenderer\"},{\"attributes\":{\"axis_label\":\"\",\"coordinates\":null,\"formatter\":{\"id\":\"18172\"},\"group\":null,\"major_label_policy\":{\"id\":\"18173\"},\"ticker\":{\"id\":\"18142\"}},\"id\":\"18141\",\"type\":\"LinearAxis\"},{\"attributes\":{\"line_color\":\"#30a2da\",\"line_width\":2,\"x\":{\"field\":\"index\"},\"y\":{\"field\":\"2\"}},\"id\":\"18170\",\"type\":\"Line\"},{\"attributes\":{},\"id\":\"18163\",\"type\":\"Selection\"},{\"attributes\":{},\"id\":\"18184\",\"type\":\"UnionRenderers\"},{\"attributes\":{\"source\":{\"id\":\"18162\"}},\"id\":\"18169\",\"type\":\"CDSView\"},{\"attributes\":{},\"id\":\"18151\",\"type\":\"WheelZoomTool\"},{\"attributes\":{},\"id\":\"18172\",\"type\":\"BasicTickFormatter\"},{\"attributes\":{\"line_color\":\"#30a2da\",\"line_width\":2,\"x\":{\"field\":\"index\"},\"y\":{\"field\":\"2\"}},\"id\":\"18165\",\"type\":\"Line\"}],\"root_ids\":[\"18127\"]},\"title\":\"Bokeh Application\",\"version\":\"2.4.3\"}};\n",
       "    var render_items = [{\"docid\":\"f476d790-b5b6-4e3a-a9ef-3ab927015e50\",\"root_ids\":[\"18127\"],\"roots\":{\"18127\":\"f71b21b0-e500-40dd-9f52-ab1b4537ee4b\"}}];\n",
       "    root.Bokeh.embed.embed_items_notebook(docs_json, render_items);\n",
       "  }\n",
       "  if (root.Bokeh !== undefined && root.Bokeh.Panel !== undefined) {\n",
       "    embed_document(root);\n",
       "  } else {\n",
       "    var attempts = 0;\n",
       "    var timer = setInterval(function(root) {\n",
       "      if (root.Bokeh !== undefined && root.Bokeh.Panel !== undefined) {\n",
       "        clearInterval(timer);\n",
       "        embed_document(root);\n",
       "      } else if (document.readyState == \"complete\") {\n",
       "        attempts++;\n",
       "        if (attempts > 200) {\n",
       "          clearInterval(timer);\n",
       "          console.log(\"Bokeh: ERROR: Unable to run BokehJS code because BokehJS library is missing\");\n",
       "        }\n",
       "      }\n",
       "    }, 25, root)\n",
       "  }\n",
       "})(window);</script>"
      ],
      "text/plain": [
       ":Curve   [index]   (2)"
      ]
     },
     "execution_count": 152,
     "metadata": {
      "application/vnd.holoviews_exec.v0+json": {
       "id": "18127"
      }
     },
     "output_type": "execute_result"
    }
   ],
   "source": [
    "# Static version uses the static variables of `active_pf_1D_dt`\n",
    "computed_out_results = PfND_TimeDependent.perform_time_range_computation(active_pf_1D_dt.all_time_filtered_spikes_df, active_pf_1D_dt.all_time_filtered_pos_df, position_srate=active_pf_1D_dt.position_srate,\n",
    "                                                             xbin=active_pf_1D_dt.xbin, ybin=active_pf_1D_dt.ybin,\n",
    "                                                             start_time=start_t, end_time=end_t,\n",
    "                                                             included_neuron_IDs=active_pf_1D_dt.included_neuron_IDs, active_computation_config=active_pf_1D_dt.config, override_smooth=active_pf_1D_dt.smooth) # previously active_computation_config=None"
   ]
  },
  {
   "cell_type": "code",
   "execution_count": 108,
   "id": "e85965e1-ca95-4a9b-b029-8693e7ae099d",
   "metadata": {
    "pycharm": {
     "name": "#%%\n"
    }
   },
   "outputs": [
    {
     "name": "stdout",
     "output_type": "stream",
     "text": [
      "unit_specific_binned_spike_counts_df.shape: (4188, 108)\n",
      "nCells: 108, nTimeBins: 4188\n"
     ]
    }
   ],
   "source": []
  },
  {
   "cell_type": "code",
   "execution_count": 13,
   "id": "4cf28ec1-2fff-4214-944d-5b51b785a186",
   "metadata": {
    "pycharm": {
     "name": "#%%\n"
    }
   },
   "outputs": [],
   "source": [
    "# active_one_step_decoder.time_binning_container\n",
    "n_neurons = np.shape(self.unit_specific_time_binned_spike_counts)[0] > len(self.neuron_IDXs)"
   ]
  },
  {
   "cell_type": "code",
   "execution_count": null,
   "id": "58abd918-6a97-4189-b23c-be5be28750aa",
   "metadata": {
    "pycharm": {
     "name": "#%%\n"
    }
   },
   "outputs": [],
   "source": [
    "## Get the current positions at each of the time_window_centers:\n",
    "# active_resampled_measured_positions\n",
    "# active_extended_stats = active_computed_data.extended_stats\n",
    "time_binned_pos_df = active_extended_stats.time_binned_position_df\n",
    "active_resampled_pos_df = time_binned_pos_df  # 1717 rows × 16 columns\n",
    "active_resampled_pos_df"
   ]
  },
  {
   "cell_type": "code",
   "execution_count": null,
   "id": "9055e1a1-4975-41f4-89c8-fd499ce5e400",
   "metadata": {
    "pycharm": {
     "name": "#%%\n"
    }
   },
   "outputs": [],
   "source": []
  },
  {
   "cell_type": "code",
   "execution_count": null,
   "id": "c3c0a808-f99d-43ce-b8e1-0fc5bf21e552",
   "metadata": {
    "pycharm": {
     "name": "#%%\n"
    }
   },
   "outputs": [],
   "source": [
    "active_extended_stats.time_binned_position_mean"
   ]
  },
  {
   "cell_type": "code",
   "execution_count": null,
   "id": "834d5071-f03c-4049-b5df-faa9b5a55629",
   "metadata": {
    "pycharm": {
     "name": "#%%\n"
    }
   },
   "outputs": [],
   "source": []
  },
  {
   "cell_type": "code",
   "execution_count": null,
   "id": "f1c89f30-1512-4b6b-9683-a6dfccd49f38",
   "metadata": {
    "pycharm": {
     "name": "#%%\n"
    }
   },
   "outputs": [],
   "source": [
    "active_resampled_measured_positions = active_resampled_pos_df[['x','y']].to_numpy() # The measured positions resampled (interpolated) at the window centers. \n",
    "# np.shape(active_resampled_measured_positions) # (1911, 2)\n",
    "active_one_step_decoder.active_time_window_centers.shape # (1911,)\n",
    "print(f'active_one_step_decoder.active_time_window_centers.shape: {active_one_step_decoder.active_time_window_centers.shape}')\n",
    "# Note this has 2900 rows × 24 columns and active_one_step_decoder.active_time_window_centers.shape is (2892,) for some reason. Shouldn't they be the same?"
   ]
  },
  {
   "cell_type": "code",
   "execution_count": null,
   "id": "4960d6eb-3b33-440f-b326-35f5449c5f32",
   "metadata": {
    "pycharm": {
     "name": "#%%\n"
    }
   },
   "outputs": [],
   "source": [
    "active_resampled_pos_df # (62911,)"
   ]
  },
  {
   "cell_type": "code",
   "execution_count": null,
   "id": "d239e72b-696b-41d5-a9ad-05358a8de258",
   "metadata": {
    "pycharm": {
     "name": "#%%\n"
    }
   },
   "outputs": [],
   "source": []
  },
  {
   "cell_type": "code",
   "execution_count": null,
   "id": "9d081d0e-5077-4961-823f-45e29047c3d8",
   "metadata": {
    "pycharm": {
     "name": "#%%\n"
    }
   },
   "outputs": [],
   "source": [
    "active_resampled_measured_positions.shape"
   ]
  },
  {
   "cell_type": "code",
   "execution_count": null,
   "id": "8a9393f2-0d56-46b5-ab94-eea2718d7e6a",
   "metadata": {},
   "outputs": [],
   "source": [
    "import matplotlib.pyplot as plt\n",
    "from matplotlib.widgets import Slider\n",
    "\n",
    "from PendingNotebookCode import _temp_debug_two_step_plots_animated_imshow\n",
    "\n",
    "# Get the decoders from the computation result:\n",
    "# active_one_step_decoder = computation_result.computed_data['pf2D_Decoder']\n",
    "# active_two_step_decoder = computation_result.computed_data.get('pf2D_TwoStepDecoder', None)\n",
    "# active_measured_positions = computation_result.sess.position.to_dataframe()\n",
    "\n",
    "def _debug_on_frame_update(new_frame_idx, ax):\n",
    "    print(f'_debug_on_frame_update(new_frame_idx: {new_frame_idx}, ax: {ax})')\n",
    "    pass\n",
    "\n",
    "# active_resampled_pos_df = active_computed_data.extended_stats.time_binned_position_df  # 1717 rows × 16 columns\n",
    "\n",
    "# Simple plot type 1:\n",
    "# plotted_variable_name = kwargs.get('variable_name', 'p_x_given_n') # Tries to get the user-provided variable name, otherwise defaults to 'p_x_given_n'\n",
    "plotted_variable_name = 'p_x_given_n' # Tries to get the user-provided variable name, otherwise defaults to 'p_x_given_n'\n",
    "_temp_debug_two_step_plots_animated_imshow(active_one_step_decoder, active_two_step_decoder, active_computed_data.extended_stats.time_binned_position_df, variable_name=plotted_variable_name, update_callback_function=_debug_on_frame_update) # Works"
   ]
  },
  {
   "cell_type": "code",
   "execution_count": null,
   "id": "5a7ef2e8-6e1c-48d5-9e76-b9f446ebe6ff",
   "metadata": {},
   "outputs": [],
   "source": []
  },
  {
   "cell_type": "code",
   "execution_count": null,
   "id": "991f9dbb-f65e-42b5-964a-3a88b5276bda",
   "metadata": {},
   "outputs": [],
   "source": []
  },
  {
   "cell_type": "code",
   "execution_count": null,
   "id": "792a48ab-9f8b-4215-b7e8-20e418c86518",
   "metadata": {},
   "outputs": [],
   "source": []
  },
  {
   "cell_type": "code",
   "execution_count": 221,
   "id": "eef20765-0f3e-4348-a12f-fceccf0ccb85",
   "metadata": {
    "scrolled": true
   },
   "outputs": [
    {
     "name": "stdout",
     "output_type": "stream",
     "text": [
      "build_module_logger(module_name=\"Spike3D.display.SpikeRasterBase\"):\n",
      "\t Module logger com.PhoHale.Spike3D.display.SpikeRasterBase has file logging enabled and will log to EXTERNAL\\TESTING\\Logging\\debug_com.PhoHale.Spike3D.display.SpikeRasterBase.log\n"
     ]
    },
    {
     "data": {
      "text/plain": [
       "{'spike_raster_plt_2d': <pyphoplacecellanalysis.GUI.PyQtPlot.Widgets.SpikeRasterWidgets.Spike2DRaster.Spike2DRaster at 0x16c3666e040>,\n",
       " 'spike_raster_plt_3d': None,\n",
       " 'spike_raster_window': <pyphoplacecellanalysis.GUI.Qt.SpikeRasterWindows.Spike3DRasterWindowWidget.Spike3DRasterWindowWidget at 0x16c6d1a3280>}"
      ]
     },
     "execution_count": 221,
     "metadata": {},
     "output_type": "execute_result"
    }
   ],
   "source": [
    "curr_display_function_name = '_display_spike_rasters_pyqtplot_2D'\n",
    "curr_active_pipeline.display(curr_display_function_name, global_epoch_name, debug_print=False, enable_saving_to_disk=enable_saving_to_disk) "
   ]
  },
  {
   "cell_type": "code",
   "execution_count": null,
   "id": "3b6322ea-88f5-475a-808d-340cd86ebff5",
   "metadata": {
    "scrolled": true
   },
   "outputs": [],
   "source": [
    "## Works, displays my velocity/density result for both 2D and 1D:\n",
    "# out_plot_1D, out_plot_2D = curr_active_pipeline.display('_display_speed_vs_PFoverlapDensity_plots', active_config_name)\n",
    "curr_display_function_name = '_display_speed_vs_PFoverlapDensity_plots'\n",
    "plots = curr_active_pipeline.display(curr_display_function_name, global_epoch_name)\n",
    "plots"
   ]
  },
  {
   "cell_type": "code",
   "execution_count": null,
   "id": "01598d95-1b12-4d7f-9231-5c5384e68d77",
   "metadata": {
    "tags": []
   },
   "outputs": [],
   "source": [
    "curr_display_function_name = '_display_placemaps_pyqtplot_2D'\n",
    "out_plots = curr_active_pipeline.display(curr_display_function_name, global_epoch_name, max_num_columns=8)    \n",
    "out_plots[1].show()"
   ]
  },
  {
   "cell_type": "code",
   "execution_count": null,
   "id": "e3321301-d9a1-46b9-b0a5-2d6a64e781c7",
   "metadata": {
    "tags": []
   },
   "outputs": [],
   "source": [
    "# a_plot = plots[0] # PlotWidget \n",
    "# a_plot_item = a_plot.plotItem # PlotItem\n",
    "# a_plot.scene() # GraphicsScene\n",
    "export_pyqtgraph_plot(plots[0])"
   ]
  }
 ],
 "metadata": {
  "kernelspec": {
   "display_name": "Python [conda env:phoviz_ultimate]",
   "language": "python",
   "name": "conda-env-phoviz_ultimate-py"
  },
  "language_info": {
   "codemirror_mode": {
    "name": "ipython",
    "version": 3
   },
   "file_extension": ".py",
   "mimetype": "text/x-python",
   "name": "python",
   "nbconvert_exporter": "python",
   "pygments_lexer": "ipython3",
   "version": "3.9.13"
  }
 },
 "nbformat": 4,
 "nbformat_minor": 5
}
