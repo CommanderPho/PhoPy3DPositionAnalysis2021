{
 "cells": [
  {
   "cell_type": "code",
   "execution_count": 1,
   "id": "a564014c-3e62-4e4a-a71a-6b109cbfc7ab",
   "metadata": {},
   "outputs": [],
   "source": [
    "## Giving up, I never got copying working\n",
    "\n",
    "from pyphocorehelpers.DataStructure.dynamic_parameters import DynamicParameters\n",
    "from pyphocorehelpers.indexing_helpers import get_dict_subset\n",
    "import numpy as np\n",
    "from copy import copy, deepcopy\n",
    "\n",
    "# DynamicParameters.debug_enabled = True\n",
    "# DynamicParameters.debug_enabled = False"
   ]
  },
  {
   "cell_type": "code",
   "execution_count": 2,
   "id": "61d7b127-16d1-46de-ab83-c99959012cc3",
   "metadata": {},
   "outputs": [
    {
     "data": {
      "text/plain": [
       "DynamicParameters({'name': 'lolwat', 'config': {'speed_thresh': 10.0, 'grid_bin': (3.776841861770752, 1.043326930905373), 'smooth': (2.0, 2.0), 'frate_thresh': 0.2}, 'position_srate': 29.96976228983933, 'ndim': 2, 'xbin': array([ 23.9233,  27.7002,  31.477 ,  35.2539,  39.0307,  42.8075,\n",
       "        46.5844,  50.3612,  54.1381,  57.9149,  61.6917,  65.4686,\n",
       "        69.2454,  73.0223,  76.7991,  80.576 ,  84.3528,  88.1296,\n",
       "        91.9065,  95.6833,  99.4602, 103.237 , 107.014 , 110.791 ,\n",
       "       114.568 , 118.344 , 122.121 , 125.898 , 129.675 , 133.452 ,\n",
       "       137.229 , 141.005 , 144.782 , 148.559 , 152.336 , 156.113 ,\n",
       "       159.89  , 163.666 , 167.443 , 171.22  , 174.997 , 178.774 ,\n",
       "       182.551 , 186.328 , 190.104 , 193.881 , 197.658 , 201.435 ,\n",
       "       205.212 , 208.989 , 212.765 , 216.542 , 220.319 , 224.096 ,\n",
       "       227.873 , 231.65  , 235.426 , 239.203 , 242.98  , 246.757 ,\n",
       "       250.534 , 254.311 , 258.088 , 261.864 , 265.641 ]), 'ybin': array([123.86 , 124.903, 125.946, 126.99 , 128.033, 129.076, 130.12 ,\n",
       "       131.163, 132.206, 133.25 , 134.293, 135.336, 136.38 , 137.423,\n",
       "       138.466, 139.51 , 140.553, 141.596, 142.64 , 143.683, 144.726,\n",
       "       145.77 , 146.813, 147.856, 148.9  , 149.943, 150.986, 152.03 ,\n",
       "       153.073, 154.116]), 'bin_info': {'mode': 'bin_size', 'xstep': 3.776841861770752, 'xnum_bins': 65, 'ystep': 1.043326930905373, 'ynum_bins': 30}})"
      ]
     },
     "execution_count": 2,
     "metadata": {},
     "output_type": "execute_result"
    }
   ],
   "source": [
    "test_obj = DynamicParameters.init_from_dict({'name': \"lolwat\",\n",
    "                                          'config': {'speed_thresh': 10.0, 'grid_bin': (3.776841861770752, 1.043326930905373), 'smooth': (2.0, 2.0), 'frate_thresh': 0.2},\n",
    "                                          'position_srate': 29.96976228983933, 'ndim': 2,\n",
    "                                          'xbin': np.array([23.9233, 27.7002, 31.477, 35.2539, 39.0307, 42.8075, 46.5844, 50.3612, 54.1381, 57.9149, 61.6917, 65.4686, 69.2454, 73.0223, 76.7991, 80.576, 84.3528, 88.1296, 91.9065, 95.6833, 99.4602, 103.237, 107.014, 110.791, 114.568, 118.344, 122.121, 125.898, 129.675, 133.452, 137.229, 141.005, 144.782, 148.559, 152.336, 156.113, 159.89, 163.666, 167.443, 171.22, 174.997, 178.774, 182.551, 186.328, 190.104, 193.881, 197.658, 201.435, 205.212, 208.989, 212.765, 216.542, 220.319, 224.096, 227.873, 231.65, 235.426, 239.203, 242.98, 246.757, 250.534, 254.311, 258.088, 261.864, 265.641]),\n",
    "                                          'ybin': np.array([123.86, 124.903, 125.946, 126.99, 128.033, 129.076, 130.12, 131.163, 132.206, 133.25, 134.293, 135.336, 136.38, 137.423, 138.466, 139.51, 140.553, 141.596, 142.64, 143.683, 144.726, 145.77, 146.813, 147.856, 148.9, 149.943, 150.986, 152.03, 153.073, 154.116]),\n",
    "                                          'bin_info': {'mode': 'bin_size', 'xstep': 3.776841861770752, 'xnum_bins': 65, 'ystep': 1.043326930905373, 'ynum_bins': 30}\n",
    "                                         })\n",
    "\n",
    "test_obj"
   ]
  },
  {
   "cell_type": "code",
   "execution_count": null,
   "id": "e3ca1754-c9fa-44a4-a668-1628de073cdc",
   "metadata": {},
   "outputs": [],
   "source": [
    "test_obj.to_dict()"
   ]
  },
  {
   "cell_type": "code",
   "execution_count": null,
   "id": "d5d59afc-1120-49ea-b9d9-40bf02740f81",
   "metadata": {},
   "outputs": [],
   "source": [
    "print(list(test_obj.keys())) # ['name', 'config', 'position_srate', 'ndim', 'xbin', 'ybin', 'bin_info']"
   ]
  },
  {
   "cell_type": "code",
   "execution_count": null,
   "id": "6df9f3b0-ae5a-4d76-a3e8-839ba90f1158",
   "metadata": {},
   "outputs": [],
   "source": [
    "_curr_active_params = deepcopy(test_obj)\n",
    "_curr_active_params"
   ]
  },
  {
   "cell_type": "code",
   "execution_count": null,
   "id": "6196ceda-69b3-4990-8b02-d62a52dd7674",
   "metadata": {},
   "outputs": [],
   "source": [
    "# _curr_active_params = test_obj.copy()\n",
    "_curr_active_params = copy(test_obj)\n",
    "_curr_active_params"
   ]
  },
  {
   "cell_type": "code",
   "execution_count": null,
   "id": "4286c0fc-8542-45b1-8460-cb86b712a14e",
   "metadata": {},
   "outputs": [],
   "source": []
  },
  {
   "cell_type": "code",
   "execution_count": null,
   "id": "2db65e45-9d27-45f6-9664-af631c8b4760",
   "metadata": {},
   "outputs": [],
   "source": [
    "_temp_input_params = get_dict_subset(test_obj, ['name', 'config', 'position_srate', 'ndim'])\n",
    "_temp_input_params"
   ]
  },
  {
   "cell_type": "code",
   "execution_count": null,
   "id": "b42e42f9-b830-406c-94c5-769a32e701b8",
   "metadata": {},
   "outputs": [],
   "source": []
  }
 ],
 "metadata": {
  "kernelspec": {
   "display_name": "Python [conda env:phoviz_ultimate]",
   "language": "python",
   "name": "conda-env-phoviz_ultimate-py"
  },
  "language_info": {
   "codemirror_mode": {
    "name": "ipython",
    "version": 3
   },
   "file_extension": ".py",
   "mimetype": "text/x-python",
   "name": "python",
   "nbconvert_exporter": "python",
   "pygments_lexer": "ipython3",
   "version": "3.9.12"
  }
 },
 "nbformat": 4,
 "nbformat_minor": 5
}
