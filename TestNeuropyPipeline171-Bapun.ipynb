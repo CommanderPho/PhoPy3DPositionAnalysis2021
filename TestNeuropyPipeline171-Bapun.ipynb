{
 "cells": [
  {
   "cell_type": "code",
   "execution_count": 1,
   "id": "83f14b23-a7ec-4769-b07e-2c8152ef97da",
   "metadata": {
    "scene__Default Scene": true,
    "tags": [
     "ActiveScene"
    ]
   },
   "outputs": [
    {
     "name": "stdout",
     "output_type": "stream",
     "text": [
      "Automatic pdb calling has been turned OFF\n"
     ]
    }
   ],
   "source": [
    "\"\"\"\n",
    "@author: pho\n",
    "\"\"\"\n",
    "## Automatic debugger on exception raised\n",
    "%pdb off\n",
    "%load_ext autoreload\n",
    "%autoreload 2\n",
    "# You need to load the extension first\n",
    "%load_ext viztracer\n",
    "\n",
    "import sys\n",
    "import importlib\n",
    "from pathlib import Path\n",
    "from copy import deepcopy\n",
    "\n",
    "from numba import jit\n",
    "import numpy as np\n",
    "import pandas as pd\n",
    "\n",
    "import pickle\n",
    "\n",
    "%config Completer.use_jedi = False\n",
    "\n",
    "# # required to enable non-blocking interaction:\n",
    "%gui qt5\n",
    "\n",
    "import pyphoplacecellanalysis.External.pyqtgraph as pg # Used to plot Speed vs. Pf Desnity Metrics\n",
    "from pyphoplacecellanalysis.External.pyqtgraph.Qt import QtCore, QtGui\n",
    "import pyphoplacecellanalysis.External.pyqtgraph.opengl as gl # for 3D raster plot\n",
    "\n",
    "# Pho's Formatting Preferences\n",
    "from pyphocorehelpers.preferences_helpers import set_pho_preferences, set_pho_preferences_concise, set_pho_preferences_verbose\n",
    "# set_pho_preferences()\n",
    "# np.set_printoptions(edgeitems=30, linewidth=100000, formatter=dict(float=lambda x: \"%g\" % x))\n",
    "# np.set_printoptions(edgeitems=None, linewidth=100000, formatter=None)\n",
    "set_pho_preferences_concise()\n",
    "\n",
    "# For Progress bars:\n",
    "# from tqdm.notebook import tqdm, trange\n",
    "\n",
    "## Pho's Custom Libraries:\n",
    "from pyphocorehelpers.general_helpers import get_arguments_as_optional_dict, inspect_callable_arguments\n",
    "from pyphocorehelpers.indexing_helpers import partition, build_spanning_bins, compute_spanning_bins, compute_position_grid_size, compute_paginated_grid_config\n",
    "from pyphocorehelpers.print_helpers import PrettyPrintable, WrappingMessagePrinter, print_keys_if_possible, debug_dump_object_member_shapes\n",
    "from pyphocorehelpers.DataStructure.dynamic_parameters import DynamicParameters\n",
    "from pyphocorehelpers.performance_timing_helpers import WrappingPerformanceTimer\n",
    "from pyphocorehelpers.gui.interaction_helpers import CallbackWrapper\n",
    "from pyphocorehelpers.Filesystem.open_in_system_file_manager import reveal_in_system_file_manager\n",
    "\n",
    "# pyPhoPlaceCellAnalysis:\n",
    "from pyphoplacecellanalysis.General.Pipeline.NeuropyPipeline import NeuropyPipeline # get_neuron_identities\n",
    "# from pyphoplacecellanalysis.General.SessionSelectionAndFiltering import batch_filter_session, build_custom_epochs_filters\n",
    "from neuropy.core.session.KnownDataSessionTypeProperties import KnownDataSessionTypeProperties\n",
    "\n",
    "from pyphoplacecellanalysis.General.Pipeline.Stages.ComputationFunctions.ComputationFunctionRegistryHolder import ComputationFunctionRegistryHolder\n",
    "from pyphoplacecellanalysis.General.Pipeline.Stages.DisplayFunctions.DisplayFunctionRegistryHolder import DisplayFunctionRegistryHolder\n",
    "\n",
    "# NeuroPy (Diba Lab Python Repo) Loading\n",
    "# from neuropy import core\n",
    "from neuropy.core.session.data_session_loader import DataSessionLoader\n",
    "from neuropy.core.session.dataSession import DataSession\n",
    "from neuropy.analyses.placefields import PlacefieldComputationParameters\n",
    "\n",
    "from neuropy.core.laps import Laps  # Used for adding laps in KDiba mode\n",
    "from neuropy.utils.efficient_interval_search import get_non_overlapping_epochs, drop_overlapping # Used for adding laps in KDiba mode\n",
    "\n",
    "from neuropy.core.epoch import NamedTimerange\n",
    "\n",
    "from neuropy.core.session.Formats.BaseDataSessionFormats import DataSessionFormatRegistryHolder, DataSessionFormatBaseRegisteredClass\n",
    "from neuropy.core.session.Formats.Specific.BapunDataSessionFormat import BapunDataSessionFormatRegisteredClass\n",
    "from neuropy.core.session.Formats.Specific.KDibaOldDataSessionFormat import KDibaOldDataSessionFormatRegisteredClass\n",
    "from neuropy.core.session.Formats.Specific.RachelDataSessionFormat import RachelDataSessionFormat\n",
    "from neuropy.core.session.Formats.Specific.HiroDataSessionFormat import HiroDataSessionFormatRegisteredClass\n",
    "\n",
    "## Plotting Helpers:\n",
    "from pyphoplacecellanalysis.GUI.PyQtPlot.pyqtplot_Matrix import MatrixRenderingWindow\n",
    "from pyphoplacecellanalysis.GUI.PyQtPlot.BinnedImageRenderingWindow import BasicBinnedImageRenderingWindow\n",
    "from pyphoplacecellanalysis.Pho2D.PyQtPlots.plot_placefields import pyqtplot_plot_image_array, pyqtplot_plot_image\n",
    "\n",
    "known_data_session_type_properties_dict = DataSessionFormatRegistryHolder.get_registry_known_data_session_type_dict()\n",
    "active_data_session_types_registered_classes_dict = DataSessionFormatRegistryHolder.get_registry_data_session_type_class_name_dict()\n",
    "# DataSessionFormatRegistryHolder.get_registry()\n",
    "\n",
    "enable_saving_to_disk = False\n",
    "# common_parent_foldername = Path(r'R:\\Dropbox (Personal)\\Active\\Kamran Diba Lib\\Pho-Kamran-Meetings\\Final Placemaps 2021-01-14')\n",
    "common_parent_foldername = Path(r'R:\\Dropbox (Personal)\\Active\\Kamran Diba Lib\\Pho-Kamran-Meetings\\2022-01-16')\n",
    "\n",
    "## Concise Numpy Array Printing:\n",
    "# np.set_string_function(lambda x:f'np.array[{np.shape(x)}]', repr=True)\n",
    "# # with np.printoptions(precision=2, edgeitems=2, linewidth=144):\n",
    "# with np.printoptions(precision=3, edgeitems=2, linewidth=100000):\n",
    "#     # active_computed_data['pf2D'].ratemap\n",
    "#     print(active_computed_data['pf2D'])\n",
    "#     # print(active_computed_data['pf2D'].ratemap)\n",
    "        \n",
    "# np.set_string_function(lambda x:f'np.array[{np.shape(x)}]', repr=True)\n",
    "# np.set_string_function(None, repr=True)\n",
    "\n",
    "from pyphocorehelpers.general_helpers import get_arguments_as_optional_dict, CodeConversion\n",
    "from pyphoplacecellanalysis.General.Pipeline.Stages.Loading import loadData, saveData\n",
    "\n",
    "## For computation parameters:\n",
    "from neuropy.analyses.placefields import PlacefieldComputationParameters\n",
    "from neuropy.utils.dynamic_container import DynamicContainer, override_dict, overriding_dict_with, get_dict_subset\n",
    "from neuropy.utils.position_util import compute_position_grid_size\n",
    "\n",
    "# def build_eloy_computation_configs(sess, **kwargs):\n",
    "#     \"\"\" OPTIONALLY can be overriden by implementors to provide specific filter functions \"\"\"\n",
    "#     # (4.0, 4.0)cm bins, (6.0, 6.0)cm gaussian smoothing\n",
    "#     # peak frate > 2Hz \n",
    "#     # return [DynamicContainer(pf_params=PlacefieldComputationParameters(speed_thresh=10.0, grid_bin=(4.0, 4.0), smooth=(6.0, 6.0), frate_thresh=0.2, time_bin_size=1.0, computation_epochs = None), spike_analysis=None)]\n",
    "#     # return [DynamicContainer(pf_params=PlacefieldComputationParameters(speed_thresh=10.0, grid_bin=(4.0, 4.0), smooth=(2.5, 2.5), frate_thresh=0.2, time_bin_size=1.0, computation_epochs = None), spike_analysis=None)]\n",
    "#     return [DynamicContainer(pf_params=PlacefieldComputationParameters(speed_thresh=10.0, grid_bin=(4.0, 4.0), smooth=(0.2, 0.2), frate_thresh=0.2, time_bin_size=1.0, computation_epochs = None), spike_analysis=None)]\n",
    "\n",
    "\n",
    "def build_eloy_computation_configs(sess, **kwargs):\n",
    "    \"\"\" OPTIONALLY can be overriden by implementors to provide specific filter functions \"\"\"\n",
    "    # (4.0, 4.0)cm bins, (6.0, 6.0)cm gaussian smoothing\n",
    "    # peak frate > 2Hz \n",
    "    # return [DynamicContainer(pf_params=PlacefieldComputationParameters(speed_thresh=10.0, grid_bin=(4.0, 4.0), smooth=(6.0, 6.0), frate_thresh=0.2, time_bin_size=1.0, computation_epochs = None), spike_analysis=None)]\n",
    "    # return [DynamicContainer(pf_params=PlacefieldComputationParameters(speed_thresh=10.0, grid_bin=(4.0, 4.0), smooth=(2.5, 2.5), frate_thresh=0.2, time_bin_size=1.0, computation_epochs = None), spike_analysis=None)]\n",
    "    return [DynamicContainer(pf_params=PlacefieldComputationParameters(speed_thresh=10.0, grid_bin=(4.0, 4.0), smooth=(0.2, 0.2), frate_thresh=0.2, time_bin_size=1.0, computation_epochs = None), spike_analysis=None)]\n",
    "\n"
   ]
  },
  {
   "cell_type": "markdown",
   "id": "1d84bd3a-4e2b-4482-91b8-18695ad60c80",
   "metadata": {
    "scene__Default Scene": true,
    "tags": [
     "main_run",
     "ActiveScene"
    ]
   },
   "source": [
    "# Load Appropriate Data and begin pipeline"
   ]
  },
  {
   "cell_type": "markdown",
   "id": "8eceb354-7fa7-4064-ba26-4e989b9f3354",
   "metadata": {
    "tags": []
   },
   "source": [
    "## Bapun Format:"
   ]
  },
  {
   "cell_type": "code",
   "execution_count": 2,
   "id": "e20e28a1-9bf0-49eb-8ad3-cd3b4ab43f1d",
   "metadata": {
    "pycharm": {
     "is_executing": false
    },
    "scrolled": true
   },
   "outputs": [
    {
     "name": "stdout",
     "output_type": "stream",
     "text": [
      "finalized_loaded_sess_pickle_path: W:\\Data\\Bapun\\RatS\\Day5TwoNovel\\loadedSessPickle.pkl\n",
      "Loading saved session pickle file results to W:\\Data\\Bapun\\RatS\\Day5TwoNovel\\loadedSessPickle.pkl... done.\n",
      "Loading pickled pipeline success: W:\\Data\\Bapun\\RatS\\Day5TwoNovel\\loadedSessPickle.pkl.\n",
      "Applying session filter named \"maze1\"...\n"
     ]
    },
    {
     "name": "stderr",
     "output_type": "stream",
     "text": [
      "WARNING: SpikesAccessor.set_time_variable_name(new_time_variable_name: t_seconds) has been called. Be careful!\n",
      "\t time variable changed from 't_rel_seconds' to 't_seconds'.\n"
     ]
    },
    {
     "name": "stdout",
     "output_type": "stream",
     "text": [
      "\t time variable changed!\n",
      "Applying session filter named \"maze2\"...\n"
     ]
    },
    {
     "name": "stderr",
     "output_type": "stream",
     "text": [
      "WARNING: SpikesAccessor.set_time_variable_name(new_time_variable_name: t_seconds) has been called. Be careful!\n",
      "\t no change in time_variable_name. It will remain t_seconds.\n"
     ]
    },
    {
     "name": "stdout",
     "output_type": "stream",
     "text": [
      "Performing evaluate_single_computation_params on filtered_session with filter named \"maze1\"...\n",
      "due to blacklist, including only 9 out of 12 registered computation functions.\n",
      "Recomputing active_epoch_placefields... \t done.\n",
      "Recomputing active_epoch_placefields2D... \t done.\n",
      "Recomputing active_epoch_time_dependent_placefields... \t done.\n",
      "Recomputing active_epoch_time_dependent_placefields2D... \t done.\n",
      "Performing evaluate_single_computation_params on filtered_session with filter named \"maze2\"...\n",
      "due to blacklist, including only 9 out of 12 registered computation functions.\n",
      "Recomputing active_epoch_placefields... \t done.\n",
      "Recomputing active_epoch_placefields2D... \t done.\n",
      "Recomputing active_epoch_time_dependent_placefields... \t done.\n",
      "Recomputing active_epoch_time_dependent_placefields2D... \t done.\n"
     ]
    }
   ],
   "source": [
    "active_data_mode_name = 'bapun'\n",
    "active_data_mode_registered_class = active_data_session_types_registered_classes_dict[active_data_mode_name]\n",
    "active_data_mode_type_properties = known_data_session_type_properties_dict[active_data_mode_name]\n",
    "# basedir = r'R:\\data\\Bapun\\RatS\\Day5TwoNovel'\n",
    "basedir = r'W:\\Data\\Bapun\\RatS\\Day5TwoNovel'\n",
    "\n",
    "curr_active_pipeline = NeuropyPipeline.try_init_from_saved_pickle_or_reload_if_needed(active_data_mode_name, active_data_mode_type_properties, override_basepath=Path(basedir)) # damn this file is 21.1 GB!\n",
    "active_session_filter_configurations = active_data_mode_registered_class.build_default_filter_functions(sess=curr_active_pipeline.sess) # build_filters_pyramidal_epochs(sess=curr_kdiba_pipeline.sess)\n",
    "active_session_computation_configs = active_data_mode_registered_class.build_default_computation_configs(sess=curr_active_pipeline.sess)\n",
    "\n",
    "curr_active_pipeline.filter_sessions(active_session_filter_configurations)\n",
    "curr_active_pipeline.perform_computations(active_session_computation_configs[0], computation_functions_name_blacklist=['_perform_spike_burst_detection_computation', '_perform_velocity_vs_pf_density_computation', '_perform_velocity_vs_pf_simplified_count_density_computation']) # SpikeAnalysisComputations._perform_spike_burst_detection_computation\n",
    "## _perform_velocity_vs_pf_density_computation: causes AssertionError: After AOC normalization the sum over each cell should be 1.0, but it is not! [nan nan nan nan nan nan nan nan nan nan nan nan nan nan nan nan nan nan nan nan nan nan nan nan nan nan nan nan nan nan nan nan nan nan nan nan nan nan nan nan nan] with 1D placefields!\n",
    "curr_active_pipeline.prepare_for_display(root_output_dir=r'W:\\Data\\Output', should_smooth_maze=False) # TODO: pass a display config"
   ]
  },
  {
   "cell_type": "code",
   "execution_count": null,
   "id": "6e613429-ced7-4aa0-b70f-3be7d868dfec",
   "metadata": {
    "pycharm": {
     "is_executing": false
    },
    "scrolled": true
   },
   "outputs": [],
   "source": [
    "# saveData(finalized_loaded_sess_pickle_path, db=curr_active_pipeline) # 589 MB"
   ]
  },
  {
   "cell_type": "markdown",
   "id": "1c703940-bbc4-4014-9e54-2b88b8c79391",
   "metadata": {
    "jp-MarkdownHeadingCollapsed": true,
    "tags": []
   },
   "source": [
    "## Rachel Format:"
   ]
  },
  {
   "cell_type": "code",
   "execution_count": null,
   "id": "03ef84d7-a972-4578-9199-0bda4c627fb6",
   "metadata": {},
   "outputs": [],
   "source": [
    "active_data_mode_name = 'rachel'\n",
    "active_data_mode_registered_class = active_data_session_types_registered_classes_dict[active_data_mode_name]\n",
    "active_data_mode_type_properties = known_data_session_type_properties_dict[active_data_mode_name]\n",
    "basedir = r'R:\\data\\Rachel\\merged_M1_20211123_raw_phy' # Windows\n",
    "\n",
    "curr_active_pipeline = NeuropyPipeline.try_init_from_saved_pickle_or_reload_if_needed(active_data_mode_name, active_data_mode_type_properties, override_basepath=Path(basedir))\n",
    "active_session_filter_configurations = active_data_mode_registered_class.build_default_filter_functions(sess=curr_active_pipeline.sess) # build_filters_pyramidal_epochs(sess=curr_kdiba_pipeline.sess)\n",
    "active_session_computation_configs = active_data_mode_registered_class.build_default_computation_configs(sess=curr_active_pipeline.sess)"
   ]
  },
  {
   "cell_type": "code",
   "execution_count": null,
   "id": "277eb000-0a85-4b32-8348-1d0a2042c8a0",
   "metadata": {
    "pycharm": {
     "is_executing": false
    },
    "scrolled": true
   },
   "outputs": [],
   "source": [
    "curr_active_pipeline.filter_sessions(active_session_filter_configurations)\n",
    "curr_active_pipeline.perform_computations(active_session_computation_configs[0], computation_functions_name_blacklist=['_perform_spike_burst_detection_computation']) # Causes \"IndexError: index 59 is out of bounds for axis 0 with size 59\"\n",
    "curr_active_pipeline.prepare_for_display(should_smooth_maze=True) # TODO: pass a display config"
   ]
  },
  {
   "cell_type": "markdown",
   "id": "a4940269-23e4-46dc-a4ae-61d512ac5e41",
   "metadata": {
    "jp-MarkdownHeadingCollapsed": true,
    "tags": []
   },
   "source": [
    "## KDiba Format:"
   ]
  },
  {
   "cell_type": "code",
   "execution_count": null,
   "id": "2faf2adb-8751-43d2-8262-6f6d3eaf7698",
   "metadata": {
    "tags": [
     "main_run",
     "ActiveScene"
    ]
   },
   "outputs": [],
   "source": [
    "%%viztracer\n",
    "# %%cache\n",
    "# from cached_property import cached_property\n",
    "active_data_mode_name = 'kdiba'\n",
    "active_data_mode_registered_class = active_data_session_types_registered_classes_dict[active_data_mode_name]\n",
    "active_data_mode_type_properties = known_data_session_type_properties_dict[active_data_mode_name]\n",
    "\n",
    "## Data must be pre-processed using the MATLAB script located here: \n",
    "#     neuropy/data_session_pre_processing_scripts/KDIBA/IIDataMat_Export_ToPython_2022_08_01.m\n",
    "# From pre-computed .mat files:\n",
    "## 07:\n",
    "# basedir = r'/run/media/halechr/MoverNew/data/KDIBA/gor01/one/2006-6-07_11-26-53' # Lab Linux Workstation\n",
    "# basedir = r'/home/halechr/Data/KDIBA/gor01/one/2006-6-07_11-26-53' # Lab Linux Workstation\n",
    "# basedir = r'R:\\data\\KDIBA\\gor01\\one\\2006-6-07_11-26-53' # Apogee Windows (R: MoverNew)\n",
    "basedir = r'W:\\Data\\KDIBA\\gor01\\one\\2006-6-07_11-26-53' # Apogee Windows (W: Wiser)\n",
    "## 08:\n",
    "# basedir = r'R:\\data\\KDIBA\\gor01\\one\\2006-6-08_14-26-15' # Apogee Windows\n",
    "\n",
    "curr_active_pipeline = NeuropyPipeline.try_init_from_saved_pickle_or_reload_if_needed(active_data_mode_name, active_data_mode_type_properties, override_basepath=Path(basedir), override_post_load_functions=[])\n",
    "# active_session_filter_configurations = active_data_mode_registered_class.build_default_filter_functions(sess=curr_active_pipeline.sess) # build_filters_pyramidal_epochs(sess=curr_kdiba_pipeline.sess)\n",
    "active_session_filter_configurations = active_data_mode_registered_class.build_filters_pyramidal_epochs(sess=curr_active_pipeline.sess, epoch_name_whitelist=['maze1','maze2','maze'])\n",
    "# active_session_filter_configurations = active_data_mode_registered_class.build_filters_pyramidal_epochs(sess=curr_active_pipeline.sess, epoch_name_whitelist=['maze2'])\n",
    "\n",
    "# sess.epochs.t_start = 22.26 # exclude the first short period where the animal isn't on the maze yet\n",
    "# active_session_filter_configurations = {'maze1': lambda x: (x.filtered_by_neuron_type('pyramidal').filtered_by_epoch(x.epochs.get_named_timerange('maze1')), x.epochs.get_named_timerange('maze1')),\n",
    "# 'maze2': lambda x: (x.filtered_by_neuron_type('pyramidal').filtered_by_epoch(x.epochs.get_named_timerange('maze2')), x.epochs.get_named_timerange('maze2')),\n",
    "# 'maze': lambda x: (x.filtered_by_neuron_type('pyramidal').filtered_by_epoch(NamedTimerange(name='maze', start_end_times=[x.epochs['maze1'][0], x.epochs['maze2'][1]])), NamedTimerange(name='maze', start_end_times=[x.epochs['maze1'][0], x.epochs['maze2'][1]]))\n",
    "#                 }\n",
    "\n",
    "active_session_computation_configs = active_data_mode_registered_class.build_default_computation_configs(sess=curr_active_pipeline.sess)\n",
    "# active_session_computation_configs[0].pf_params.smooth = (0.0, 0.0)\n",
    "# active_session_computation_configs = build_eloy_computation_configs(sess=curr_active_pipeline.sess)\n",
    "curr_active_pipeline.filter_sessions(active_session_filter_configurations)\n",
    "curr_active_pipeline.perform_computations(active_session_computation_configs[0], computation_functions_name_whitelist=['_perform_baseline_placefield_computation', '_perform_time_dependent_placefield_computation', \n",
    "                                                                                                                       '_perform_position_decoding_computation', '_perform_two_step_position_decoding_computation'], fail_on_exception=True, debug_print=False) # '_perform_pf_find_ratemap_peaks_peak_prominence2d_computation'\n",
    "# curr_active_pipeline.perform_computations(active_session_computation_configs[0], computation_functions_name_blacklist=['_perform_spike_burst_detection_computation'], debug_print=False, fail_on_exception=False) # whitelist: ['_perform_baseline_placefield_computation']\n",
    "curr_active_pipeline.prepare_for_display(root_output_dir=r'W:\\Data\\Output', should_smooth_maze=True) # TODO: pass a display config"
   ]
  },
  {
   "cell_type": "markdown",
   "id": "9b01c8b9-ffc2-4816-9de5-bfedc221699b",
   "metadata": {
    "jp-MarkdownHeadingCollapsed": true,
    "tags": []
   },
   "source": [
    "## Hiro Format:"
   ]
  },
  {
   "cell_type": "code",
   "execution_count": null,
   "id": "3c378a70-2365-49b1-8aa9-7e13a2e9c88c",
   "metadata": {
    "tags": []
   },
   "outputs": [],
   "source": [
    "active_data_mode_name = 'hiro'\n",
    "active_data_mode_registered_class = active_data_session_types_registered_classes_dict[active_data_mode_name]\n",
    "active_data_mode_type_properties = known_data_session_type_properties_dict[active_data_mode_name]\n",
    "## For data located at:\n",
    "# W:\\Data\\Rotation_3_Kamran Diba Lab\\DataProcessingProject\\Hiro_Datasets\n",
    "\n",
    "## Data must be pre-processed using the MATLAB script located here: \n",
    "#     ./neuropy/data_session_pre_processing_scripts/HIRO/PhoDibaProcess_ComputeSingleExperiment.m\n",
    "## ALT: alternatively, the original files are located here:\n",
    "#     C:\\Users\\pho\\repos\\PhoDibaLab_REM_HiddenMarkovModel\\PhoDibaProcess_ComputeSingleExperiment.m\n",
    "#     C:\\Users\\pho\\repos\\PhoDibaLab_REM_HiddenMarkovModel\\DEVELOPMENT\\NeuroPyExporting2022\\PhoNeuroPyConvert_ExportAllToPython_MAIN.m\n",
    "\n",
    "# From pre-computed .mat files:\n",
    "## RoyMaze1: \n",
    "# basedir = r'R:\\rMBP Python Repos 2022-07-07\\PhoNeuronGillespie2021CodeRepo\\PhoMatlabDataScripting\\ExportedData\\RoyMaze1' # WINDOWS\n",
    "# basedir = r'R:\\data\\Hiro\\RoyMaze1' # WINDOWS (R: MoverNew)\n",
    "basedir = r'W:\\Data\\Hiro\\RoyMaze1' # Apogee Windows (W: Wiser)\n",
    "\n",
    "## RoyMaze2:\n",
    "# basedir = r'R:\\rMBP Python Repos 2022-07-07\\PhoNeuronGillespie2021CodeRepo\\PhoMatlabDataScripting\\ExportedData\\RoyMaze2' # WINDOWS\n",
    "# basedir = r'R:\\data\\Hiro\\RoyMaze2' # WINDOWS\n",
    "curr_active_pipeline = NeuropyPipeline.try_init_from_saved_pickle_or_reload_if_needed(active_data_mode_name, active_data_mode_type_properties, override_basepath=Path(basedir))"
   ]
  },
  {
   "cell_type": "code",
   "execution_count": null,
   "id": "f0c7b805-be1e-44f6-ae3d-09863d3524c0",
   "metadata": {
    "tags": []
   },
   "outputs": [],
   "source": [
    "from neuropy.utils.misc import convert_dataframe_columns_to_datatype_if_possible, add_explicit_dataframe_columns_from_lookup_df\n",
    "\n",
    "## Finish setting up the spikes_df:\n",
    "curr_active_pipeline.sess.spikes_df.spikes.set_time_variable_name(\"t_seconds\")\n",
    "curr_active_pipeline.sess.flattened_spiketrains._spikes_df = add_explicit_dataframe_columns_from_lookup_df(curr_active_pipeline.sess.spikes_df, curr_active_pipeline.sess.neurons._extended_neuron_properties_df).sort_values(by=['t_seconds']) # Need to re-sort by timestamps once done\n",
    "convert_dataframe_columns_to_datatype_if_possible(curr_active_pipeline.sess.spikes_df, {'int':['shank', 'cluster', 'aclu', 'qclu', 'traj', 'lap']})"
   ]
  },
  {
   "cell_type": "code",
   "execution_count": null,
   "id": "c3b697d5-ce22-472e-803c-609e2544d38d",
   "metadata": {
    "scrolled": true
   },
   "outputs": [],
   "source": [
    "# active_session_filter_configurations = active_data_mode_registered_class.build_default_filter_functions(sess=curr_active_pipeline.sess) # build_filters_pyramidal_epochs(sess=curr_kdiba_pipeline.sess)\n",
    "# active_session_filter_configurations = active_data_mode_registered_class.build_track_only_filter_functions(sess=curr_active_pipeline.sess)\n",
    "active_session_filter_configurations = active_data_mode_registered_class.build_filters_track_only_pyramidal(sess=curr_active_pipeline.sess)\n",
    "active_session_computation_configs = active_data_mode_registered_class.build_default_computation_configs(sess=curr_active_pipeline.sess)\n",
    "# active_session_computation_configs"
   ]
  },
  {
   "cell_type": "code",
   "execution_count": null,
   "id": "75acaafe-aa57-4c63-8bba-612d1a9bb0db",
   "metadata": {
    "scrolled": true
   },
   "outputs": [],
   "source": [
    "post_filter_fn = active_session_filter_configurations['track']\n",
    "\n",
    "\n",
    "active_session_filter_configurations['track'] = lambda x: (x.filtered_by_neuron_type('pyramidal').filtered_by_epoch(x.epochs.get_named_timerange('maze1')), x.epochs.get_named_timerange('maze1'))"
   ]
  },
  {
   "cell_type": "code",
   "execution_count": null,
   "id": "5c76ee6b-1984-467e-9eac-d12ababa4c4d",
   "metadata": {
    "scrolled": true
   },
   "outputs": [],
   "source": [
    "curr_active_pipeline.sess.flattened_spiketrains._time_variable_name"
   ]
  },
  {
   "cell_type": "code",
   "execution_count": null,
   "id": "c358fa03-ee09-456f-9c4a-c00fad5aae68",
   "metadata": {
    "scrolled": true
   },
   "outputs": [],
   "source": [
    "curr_active_pipeline.filter_sessions(active_session_filter_configurations)"
   ]
  },
  {
   "cell_type": "code",
   "execution_count": null,
   "id": "2fdc73b0-2a1b-4aeb-9815-2e28579b55e4",
   "metadata": {
    "scrolled": true
   },
   "outputs": [],
   "source": [
    "curr_active_pipeline.perform_computations(active_session_computation_configs[0], computation_functions_name_blacklist=['_perform_spike_burst_detection_computation', '_perform_velocity_vs_pf_density_computation', '_perform_velocity_vs_pf_simplified_count_density_computation'], fail_on_exception=True)\n",
    "curr_active_pipeline.prepare_for_display(should_smooth_maze=True) # TODO: pass a display config"
   ]
  },
  {
   "cell_type": "code",
   "execution_count": null,
   "id": "e0c218ea-c669-498e-8234-b0e567de7916",
   "metadata": {
    "scene__Default Scene": true,
    "tags": [
     "ActiveScene"
    ]
   },
   "outputs": [],
   "source": [
    "def _debug_print_spikes_df_column_info(spikes_df):\n",
    "    print(f'.columns: {list(spikes_df.columns)}')\n",
    "    print(f'.spikes.time_variable_name: {spikes_df.spikes.time_variable_name}')    "
   ]
  },
  {
   "cell_type": "code",
   "execution_count": null,
   "id": "62259452-5a25-4fa2-bb99-b426ea8bc278",
   "metadata": {
    "tags": []
   },
   "outputs": [],
   "source": [
    "# curr_active_pipeline.sess.spikes_df.columns\n",
    "# curr_active_pipeline.sess.spikes_df.spikes.time_variable_name\n",
    "_debug_print_spikes_df_column_info(curr_active_pipeline.sess.spikes_df)"
   ]
  },
  {
   "cell_type": "code",
   "execution_count": null,
   "id": "71817e25-1730-4165-960c-b47dbd9ac9fc",
   "metadata": {
    "tags": []
   },
   "outputs": [],
   "source": [
    "# curr_active_pipeline.filtered_sessions['track'].spikes_df.columns\n",
    "# curr_active_pipeline.filtered_sessions['track'].spikes_df.spikes.time_variable_name\n",
    "_debug_print_spikes_df_column_info(curr_active_pipeline.filtered_sessions['track'].spikes_df)"
   ]
  },
  {
   "cell_type": "code",
   "execution_count": null,
   "id": "5d7bab5b-dcce-4691-9e7c-588a1dcfc02f",
   "metadata": {
    "scrolled": true
   },
   "outputs": [],
   "source": [
    "curr_active_pipeline.sess.neurons._extended_neuron_properties_df"
   ]
  },
  {
   "cell_type": "code",
   "execution_count": null,
   "id": "716fe7a2-b1eb-4574-b89e-ae18504709c4",
   "metadata": {
    "scrolled": true
   },
   "outputs": [],
   "source": [
    "from neuropy.utils.debug_helpers import debug_print_placefield, debug_print_spike_counts, debug_print_subsession_neuron_differences\n",
    "from neuropy.utils.misc import print_seconds_human_readable\n",
    "\n",
    "\n",
    "debug_print_spike_counts(sess)"
   ]
  },
  {
   "cell_type": "markdown",
   "id": "a4ace56f-40c3-41fa-a7cf-f539c51fdce0",
   "metadata": {
    "jp-MarkdownHeadingCollapsed": true,
    "tags": []
   },
   "source": [
    "### Logging detour:"
   ]
  },
  {
   "cell_type": "code",
   "execution_count": null,
   "id": "6d6eeaab-0f5a-4595-af4a-c7f35928133f",
   "metadata": {
    "tags": []
   },
   "outputs": [],
   "source": [
    "## TODO: ONLY RUN ONCE!\n",
    "import logging\n",
    "logging.captureWarnings(False)\n",
    "logger = logging.getLogger(\"com.PhoHale\")\n",
    "logger.setLevel(logging.DEBUG)\n",
    "logger.addHandler(logging.StreamHandler(stream=sys.stdout))"
   ]
  },
  {
   "cell_type": "code",
   "execution_count": null,
   "id": "1793073d-813d-46ed-b7c7-828d47fc3f4d",
   "metadata": {
    "tags": []
   },
   "outputs": [],
   "source": [
    "root_logger = logging.root"
   ]
  },
  {
   "cell_type": "code",
   "execution_count": null,
   "id": "eb8ba447-0a1c-46f5-bb8f-cc88ab01a82b",
   "metadata": {
    "tags": []
   },
   "outputs": [],
   "source": [
    "root_logger.handlers"
   ]
  },
  {
   "cell_type": "code",
   "execution_count": null,
   "id": "b7c6dac4-eebe-4fd2-97d1-611f78bf12a5",
   "metadata": {
    "tags": []
   },
   "outputs": [],
   "source": [
    "# logger.removeHandler(logging.StreamHandler(stream=sys.stdout))\n",
    "for a_handler in logger.handlers:\n",
    "    logger.removeHandler(a_handler)"
   ]
  },
  {
   "cell_type": "code",
   "execution_count": null,
   "id": "ee985b54-164d-447b-93c9-a437eb3c4986",
   "metadata": {
    "tags": []
   },
   "outputs": [],
   "source": [
    "logger.info('creating an instance of auxiliary_module.Auxiliary')\n",
    "logger.debug('UOS')\n",
    "logger.warning('OH NO!')"
   ]
  },
  {
   "cell_type": "markdown",
   "id": "75cbbfa0",
   "metadata": {
    "tags": []
   },
   "source": [
    "# Common: Display\n",
    "Common visualization and display functions for both forms of data/pipelines:"
   ]
  },
  {
   "cell_type": "code",
   "execution_count": 3,
   "id": "1055d5ea-611c-44a2-a04e-e2bc4a475b3f",
   "metadata": {
    "scene__Default Scene": true,
    "tags": [
     "ActiveScene",
     "main_run"
    ]
   },
   "outputs": [
    {
     "name": "stdout",
     "output_type": "stream",
     "text": [
      "active_computed_data.keys(): ['pf1D', 'pf2D', 'pf1D_dt', 'pf2D_dt', 'pf2D_Decoder', 'pf2D_TwoStepDecoder', 'RatemapPeaksAnalysis', 'extended_stats', 'placefield_overlap', 'firing_rate_trends']\n",
      "active_computation_errors: {}\n"
     ]
    }
   ],
   "source": [
    "# %%viztracer\n",
    "# active_config_name = 'maze1'\n",
    "active_config_name = 'maze2'\n",
    "# active_config_name = 'maze'\n",
    "\n",
    "# Get relevant variables:\n",
    "# curr_active_pipeline is set above, and usable here\n",
    "sess: DataSession = curr_active_pipeline.filtered_sessions[active_config_name]\n",
    "\n",
    "active_computation_results = curr_active_pipeline.computation_results[active_config_name]\n",
    "active_computed_data = curr_active_pipeline.computation_results[active_config_name].computed_data\n",
    "active_computation_config = curr_active_pipeline.computation_results[active_config_name].computation_config\n",
    "active_computation_errors = curr_active_pipeline.computation_results[active_config_name].accumulated_errors\n",
    "print(f'active_computed_data.keys(): {list(active_computed_data.keys())}')\n",
    "print(f'active_computation_errors: {active_computation_errors}')\n",
    "active_pf_1D = curr_active_pipeline.computation_results[active_config_name].computed_data['pf1D']\n",
    "active_pf_2D = curr_active_pipeline.computation_results[active_config_name].computed_data['pf2D']    \n",
    "active_pf_1D_dt = curr_active_pipeline.computation_results[active_config_name].computed_data.get('pf1D_dt', None)\n",
    "active_pf_2D_dt = curr_active_pipeline.computation_results[active_config_name].computed_data.get('pf2D_dt', None)\n",
    "active_firing_rate_trends = curr_active_pipeline.computation_results[active_config_name].computed_data.get('firing_rate_trends', None)\n",
    "active_one_step_decoder = curr_active_pipeline.computation_results[active_config_name].computed_data.get('pf2D_Decoder', None)\n",
    "active_two_step_decoder = curr_active_pipeline.computation_results[active_config_name].computed_data.get('pf2D_TwoStepDecoder', None)\n",
    "active_eloy_analysis = curr_active_pipeline.computation_results[active_config_name].computed_data.get('EloyAnalysis', None)\n",
    "active_simpler_pf_densities_analysis = curr_active_pipeline.computation_results[active_config_name].computed_data.get('SimplerNeuronMeetingThresholdFiringAnalysis', None)\n",
    "active_ratemap_peaks_analysis = curr_active_pipeline.computation_results[active_config_name].computed_data.get('RatemapPeaksAnalysis', None)\n",
    "active_peak_prominence_2d_results = curr_active_pipeline.computation_results[active_config_name].computed_data.get('RatemapPeaksAnalysis', {}).get('PeakProminence2D', None)\n",
    "active_measured_positions = curr_active_pipeline.computation_results[active_config_name].sess.position.to_dataframe()\n",
    "curr_spikes_df = sess.spikes_df\n",
    "\n",
    "curr_active_config = curr_active_pipeline.active_configs[active_config_name]\n",
    "curr_active_display_config = curr_active_config.plotting_config\n",
    "\n",
    "display_output = dict()"
   ]
  },
  {
   "cell_type": "code",
   "execution_count": null,
   "id": "946aba66-7b1f-4e4e-ba8a-f5dde1262009",
   "metadata": {
    "scene__Default Scene": true,
    "tags": [
     "ActiveScene"
    ]
   },
   "outputs": [],
   "source": [
    "list(active_computation_errors.values())[0]"
   ]
  },
  {
   "cell_type": "code",
   "execution_count": null,
   "id": "17e80419-8f0e-4ddf-825b-d138f99553bb",
   "metadata": {
    "scene__Default Scene": true,
    "tags": [
     "ActiveScene"
    ]
   },
   "outputs": [],
   "source": [
    "err_fn = list(active_computation_errors.keys())[0]\n",
    "err_fn"
   ]
  },
  {
   "cell_type": "code",
   "execution_count": null,
   "id": "3cc85692-9fc8-46fd-a723-dc7c8272133a",
   "metadata": {
    "scene__Default Scene": true,
    "tags": [
     "ActiveScene"
    ]
   },
   "outputs": [],
   "source": [
    "err_fn.__name__ # '_perform_pf_find_ratemap_peaks_peak_prominence2d_computation'"
   ]
  },
  {
   "cell_type": "code",
   "execution_count": null,
   "id": "24bb9de8-d854-4b6d-9140-5cf8fa832964",
   "metadata": {
    "scene__Default Scene": true,
    "tags": [
     "ActiveScene"
    ]
   },
   "outputs": [],
   "source": [
    "# sess.epochs #  20756  24004  maze2      3248\n",
    "curr_active_pipeline.filtered_epochs\n",
    "# sess.spikes_df # ['flat_spike_idx', 't_seconds', 'aclu', 'unit_id', 'shank_id', 'flattened_spike_linear_unit_spike_idx', 'cell_type', 'x', 'y', 'lin_pos', 'speed', 'fragile_linear_neuron_IDX', 'neuron_IDX', 't', 'PBE_id', 'scISI', 'shank', 'qclu', 'cluster']"
   ]
  },
  {
   "cell_type": "code",
   "execution_count": null,
   "id": "2827e872-bf16-41c1-83d9-a75e4b24febc",
   "metadata": {
    "scene__Default Scene": true,
    "tags": [
     "ActiveScene"
    ]
   },
   "outputs": [],
   "source": [
    "print(list(curr_spikes_df.columns)) # ['flat_spike_idx', 't_seconds', 'aclu', 'unit_id', 'shank', 'intra_unit_spike_idx', 'cell_type', 'x', 'y', 'lin_pos', 'speed', 'fragile_linear_neuron_IDX', 'neuron_IDX', 't', 'PBE_id', 'scISI', 'qclu', 'cluster']\n",
    "active_computation_results.sess.spikes_df['t']"
   ]
  },
  {
   "cell_type": "code",
   "execution_count": null,
   "id": "68a27c9d-34b1-4bcc-aed3-457d4c3d98c1",
   "metadata": {
    "scene__Default Scene": true,
    "tags": [
     "ActiveScene"
    ]
   },
   "outputs": [],
   "source": [
    "_debug_print_spikes_df_column_info(active_computation_results.sess.spikes_df)"
   ]
  },
  {
   "cell_type": "code",
   "execution_count": null,
   "id": "8aa70920-edc2-47e8-8e94-899276ce7cb9",
   "metadata": {
    "scene__Default Scene": true,
    "tags": [
     "ActiveScene"
    ]
   },
   "outputs": [],
   "source": [
    "_debug_print_spikes_df_column_info(active_computation_results.sess.spikes_df)"
   ]
  },
  {
   "cell_type": "code",
   "execution_count": null,
   "id": "1933fc66-56e3-4870-bb2a-6d5d69f0e2dc",
   "metadata": {
    "scene__Default Scene": true,
    "tags": [
     "ActiveScene"
    ]
   },
   "outputs": [],
   "source": []
  },
  {
   "cell_type": "markdown",
   "id": "47694715-4894-42e2-8731-d146748c1d05",
   "metadata": {
    "jp-MarkdownHeadingCollapsed": true,
    "scene__Default Scene": true,
    "tags": [
     "ActiveScene"
    ]
   },
   "source": [
    "# Main Visualization GUIs"
   ]
  },
  {
   "cell_type": "markdown",
   "id": "c664c89c-1e98-4184-bac1-ed93301be0b4",
   "metadata": {
    "pycharm": {
     "is_executing": false,
     "name": "#%%\n"
    },
    "tags": []
   },
   "source": [
    "## 3D Interactive Spike Raster Window"
   ]
  },
  {
   "cell_type": "code",
   "execution_count": null,
   "id": "633d7e18-332a-4e3d-90cd-f252e5120a26",
   "metadata": {
    "pycharm": {
     "is_executing": false,
     "name": "#%%\n"
    },
    "scene__Default Scene": true,
    "tags": [
     "ActiveScene",
     "gui",
     "launch",
     "main_run"
    ]
   },
   "outputs": [],
   "source": [
    "from pyphoplacecellanalysis.GUI.Qt.SpikeRasterWindows.Spike3DRasterWindowWidget import Spike3DRasterWindowWidget\n",
    "\n",
    "display_output = display_output | curr_active_pipeline.display('_display_spike_rasters_window', active_config_name, active_config_name=active_config_name)\n",
    "spike_raster_window = display_output['spike_raster_window']"
   ]
  },
  {
   "cell_type": "code",
   "execution_count": null,
   "id": "961fc78f-825c-45f8-85cd-40265476b514",
   "metadata": {
    "pycharm": {
     "is_executing": false,
     "name": "#%%\n"
    }
   },
   "outputs": [],
   "source": [
    "spike_raster_window = Spike3DRasterWindowWidget(curr_spikes_df, application_name=f'Spike Raster Window - {active_config_name}')\n",
    "# Set Window Title Options:\n",
    "spike_raster_window.setWindowFilePath(str(sess.filePrefix.resolve()))\n",
    "spike_raster_window.setWindowTitle(f'Spike Raster Window - {active_config_name} - {str(sess.filePrefix.resolve())}')"
   ]
  },
  {
   "cell_type": "code",
   "execution_count": null,
   "id": "3d80d4b4-245f-4846-9f90-09406f6de827",
   "metadata": {
    "pycharm": {
     "is_executing": false,
     "name": "#%%\n"
    }
   },
   "outputs": [],
   "source": [
    "## Set the colors of the raster window from the tuning curve window:\n",
    "spike_raster_window.update_neurons_color_data(updated_neuron_render_configs=provided_neuron_id_to_color_map)"
   ]
  },
  {
   "cell_type": "code",
   "execution_count": null,
   "id": "0171a604-4f5a-4a22-b227-3915fee3c759",
   "metadata": {
    "pycharm": {
     "is_executing": false,
     "name": "#%%\n"
    }
   },
   "outputs": [],
   "source": [
    "# Setup Connections Menu:\n",
    "root_window, menuConnections, actions_dict = ConnectionControlsMenuMixin.try_add_connections_menu(spike_raster_window) # none of these properties need to be "
   ]
  },
  {
   "cell_type": "markdown",
   "id": "01c287e4-bb8b-4626-8942-603ab3f63c86",
   "metadata": {
    "jp-MarkdownHeadingCollapsed": true,
    "pycharm": {
     "is_executing": false,
     "name": "#%%\n"
    },
    "tags": []
   },
   "source": [
    "### Test building a second spike_raster_window for a different epoch:"
   ]
  },
  {
   "cell_type": "code",
   "execution_count": null,
   "id": "8110cf85-ca28-41b1-990e-a0041e52fcf8",
   "metadata": {
    "pycharm": {
     "is_executing": false,
     "name": "#%%\n"
    }
   },
   "outputs": [],
   "source": [
    "secondary_active_config_name = 'maze2'\n",
    "secondary_spikes_df = curr_active_pipeline.filtered_sessions[secondary_active_config_name].spikes_df\n",
    "spike_raster_window_second_epoch = Spike3DRasterWindowWidget(secondary_spikes_df, application_name=f'Spike Raster Window - {secondary_active_config_name}', type_of_3d_plotter='vedo')\n",
    "# Set Window Title Options:\n",
    "spike_raster_window_second_epoch.setWindowFilePath(str(sess.filePrefix.resolve()))\n",
    "spike_raster_window_second_epoch.setWindowTitle(f'Spike Raster Window - {secondary_active_config_name} - {str(sess.filePrefix.resolve())}')\n",
    "spike_raster_window_second_epoch"
   ]
  },
  {
   "cell_type": "code",
   "execution_count": null,
   "id": "bf55174f-5b7c-473b-934d-cdbce2f55782",
   "metadata": {
    "pycharm": {
     "is_executing": false,
     "name": "#%%\n"
    }
   },
   "outputs": [],
   "source": [
    "spike_raster_window.spikes_df # has scISI column!\n"
   ]
  },
  {
   "cell_type": "code",
   "execution_count": null,
   "id": "57313baa-25c0-4079-a87b-a3ee5ddfc8fe",
   "metadata": {
    "pycharm": {
     "is_executing": false,
     "name": "#%%\n"
    }
   },
   "outputs": [],
   "source": [
    "spike_raster_window.connection_man"
   ]
  },
  {
   "cell_type": "code",
   "execution_count": null,
   "id": "b7852860-7ee4-42aa-8666-dec67d5c6e08",
   "metadata": {
    "pycharm": {
     "is_executing": false,
     "name": "#%%\n"
    }
   },
   "outputs": [],
   "source": [
    "spike_raster_window.connection_man.active_connections"
   ]
  },
  {
   "cell_type": "code",
   "execution_count": null,
   "id": "471b8f08-3c3b-49cc-9d49-291abe408beb",
   "metadata": {
    "pycharm": {
     "is_executing": false,
     "name": "#%%\n"
    }
   },
   "outputs": [],
   "source": [
    "spike_raster_window.connection_man.get_available_drivers()"
   ]
  },
  {
   "cell_type": "markdown",
   "id": "a3ce34d1-7b04-40f3-96a2-408676eb967f",
   "metadata": {
    "jp-MarkdownHeadingCollapsed": true,
    "pycharm": {
     "is_executing": false,
     "name": "#%%\n"
    },
    "tags": []
   },
   "source": [
    "### 2D Raster Plot Interactivity Testing/Extras"
   ]
  },
  {
   "cell_type": "code",
   "execution_count": null,
   "id": "553ff9bc-533b-47eb-9257-9b4eebc10dc5",
   "metadata": {
    "pycharm": {
     "is_executing": false,
     "name": "#%%\n"
    }
   },
   "outputs": [],
   "source": [
    "# spike_raster_window.render_window_duration\n",
    "# spike_raster_window.spikes_window.active_window_end_time\n",
    "spike_raster_window.spikes_window.window_duration"
   ]
  },
  {
   "cell_type": "code",
   "execution_count": null,
   "id": "b3e1d674-569b-445e-90f7-eac577c20fd0",
   "metadata": {
    "pycharm": {
     "is_executing": false,
     "name": "#%%\n"
    }
   },
   "outputs": [],
   "source": [
    "### Debug printing for color properties of spike_raster_window\n",
    "_debug_params = spike_raster_window.spike_raster_plt_2d.params\n",
    "# _debug_params.neuron_colors\n",
    "# _debug_params.config_items\n",
    "# spike_raster_window.params"
   ]
  },
  {
   "cell_type": "code",
   "execution_count": null,
   "id": "93222276-7cd0-480e-a353-5cdf6fb0557c",
   "metadata": {
    "pycharm": {
     "is_executing": false,
     "name": "#%%\n"
    }
   },
   "outputs": [],
   "source": [
    "# Wanted to try to set setClickable(True) on the children widgets\n",
    "\n",
    "# spike_raster_window.spike_raster_plt_2d.plots # {'name': '', 'preview_overview_scatter_plot': <pyphoplacecellanalysis.External.pyqtgraph.graphicsItems.ScatterPlotItem.ScatterPlotItem object at 0x0000020AA96D9E50>}\n",
    "# spike_raster_window.spike_raster_plt_2d.plots.main_plot_widget # <pyphoplacecellanalysis.External.pyqtgraph.graphicsItems.PlotItem.PlotItem.PlotItem at 0x20aecdf0ee0>\n",
    "# spike_raster_window.spike_raster_plt_2d.plots.main_plot_widget.curves # [<pyphoplacecellanalysis.External.pyqtgraph.graphicsItems.ScatterPlotItem.ScatterPlotItem at 0x20aa92a5820>]\n",
    "\n",
    "# Static Background Overview Scatter Plot:\n",
    "active_overview_scatter_plot = spike_raster_window.spike_raster_plt_2d.plots.preview_overview_scatter_plot # ScatterPlotItem \n",
    "# active_overview_scatter_plot.addPoints(hoverable=True)\n",
    "\n",
    "## Main Scatter Plot \n",
    "main_scatter_plot = spike_raster_window.spike_raster_plt_2d.plots.main_plot_widget.curves[0] # ScatterPlotItem \n",
    "# main_scatter_plot.setAcceptHoverEvents(True)\n",
    "\n",
    "# Common Tick Label\n",
    "vtick = QtGui.QPainterPath()\n",
    "vtick.moveTo(0, -0.5)\n",
    "vtick.lineTo(0, 0.5)\n",
    "\n",
    "# # Highlights the hovered spikes white:\n",
    "# main_scatter_plot.addPoints(hoverable=True,\n",
    "#     hoverSymbol=vtick, # hoverSymbol='s',\n",
    "#     hoverSize=7, # default is 5\n",
    "#     hoverPen=pg.mkPen('w', width=2),\n",
    "#     hoverBrush=pg.mkBrush('w'))\n",
    "\n",
    "# Highlights the hovered spikes white:\n",
    "main_scatter_plot.addPoints(hoverable=True,\n",
    "    # hoverSymbol=vtick, # hoverSymbol='s',\n",
    "    hoverSize=7, # default is 5\n",
    "    )\n",
    "\n",
    "\n",
    "## Clickable/Selectable Spikes:\n",
    "# Will make all plots clickable\n",
    "clickedPen = pg.mkPen('#DDD', width=2)\n",
    "lastClicked = []\n",
    "def _test_scatter_plot_clicked(plot, points):\n",
    "    global lastClicked\n",
    "    for p in lastClicked:\n",
    "        p.resetPen()\n",
    "    print(\"clicked points\", points)\n",
    "    for p in points:\n",
    "        p.setPen(clickedPen)\n",
    "    lastClicked = points\n",
    "        \n",
    "## Hoverable Spikes:\n",
    "def _test_scatter_plot_hovered(plt, points, ev):\n",
    "    # sigHovered(self, points, ev)\n",
    "    print(f'_test_scatter_plot_hovered(plt: {plt}, points: {points}, ev: {ev})')\n",
    "    if (len(points) > 0):\n",
    "        curr_point = points[0]\n",
    "        # self.\n",
    "        # curr_point.index\n",
    "\n",
    "main_scatter_hovered_connection = main_scatter_plot.sigHovered.connect(_test_scatter_plot_hovered)\n",
    "main_scatter_clicked_connection = main_scatter_plot.sigClicked.connect(_test_scatter_plot_clicked)\n",
    "\n",
    "# tip\n",
    "# .sigHovered \n",
    "# TypeError: 'VisualizationParameters' object is not subscriptable"
   ]
  },
  {
   "cell_type": "code",
   "execution_count": null,
   "id": "17dba03e-6715-4152-a3ca-45320e551d7a",
   "metadata": {
    "pycharm": {
     "is_executing": false,
     "name": "#%%\n"
    }
   },
   "outputs": [],
   "source": [
    "## Test Adding ROIs of interest to the 2D Raster Plot:\n",
    "rois = []\n",
    "rois.append(pg.MultiRectROI([[20, 90], [50, 60], [60, 90]], width=5, pen=(2,9)))\n",
    "\n",
    "def update(roi):\n",
    "    img1b.setImage(roi.getArrayRegion(arr, img1a), levels=(0, arr.max()))\n",
    "    v1b.autoRange()\n",
    "    \n",
    "for roi in rois:\n",
    "    roi.sigRegionChanged.connect(update)\n",
    "    v1a.addItem(roi)"
   ]
  },
  {
   "cell_type": "code",
   "execution_count": null,
   "id": "27412504-b512-4896-b955-a9d910a8752b",
   "metadata": {
    "pycharm": {
     "is_executing": false,
     "name": "#%%\n"
    }
   },
   "outputs": [],
   "source": [
    "curve.curve.setClickable(True)"
   ]
  },
  {
   "cell_type": "markdown",
   "id": "54772efe-ce98-40b6-9153-8ce533cdb0a8",
   "metadata": {
    "pycharm": {
     "is_executing": false,
     "name": "#%%\n"
    },
    "tags": []
   },
   "source": [
    "## ipcDataExplorer - 3D Interactive Tuning Curves Plotter"
   ]
  },
  {
   "cell_type": "code",
   "execution_count": null,
   "id": "bd6b4aa0-49aa-4835-bb93-8757b26b6d86",
   "metadata": {
    "pycharm": {
     "is_executing": false,
     "name": "#%%\n"
    },
    "tags": []
   },
   "outputs": [],
   "source": [
    "pActiveTuningCurvesPlotter = None\n",
    "\n",
    "zScalingFactor = 2000.0 # worked well before with default params\n",
    "# zScalingFactor = 50.0 # worked well before with default params\n",
    "display_output = display_output | curr_active_pipeline.display('_display_3d_interactive_tuning_curves_plotter', active_config_name, extant_plotter=display_output.get('pActiveTuningCurvesPlotter', None), panel_controls_mode='Qt', should_nan_non_visited_elements=False, zScalingFactor=zScalingFactor, separate_window=False)\n",
    "ipcDataExplorer = display_output['ipcDataExplorer']\n",
    "display_output['pActiveTuningCurvesPlotter'] = display_output.pop('plotter') # rename the key from the generic \"plotter\" to \"pActiveSpikesBehaviorPlotter\" to avoid collisions with others\n",
    "pActiveTuningCurvesPlotter = display_output['pActiveTuningCurvesPlotter']\n",
    "root_dockAreaWindow, placefieldControlsContainerWidget, pf_widgets = display_output['pane'] # for Qt mode:"
   ]
  },
  {
   "cell_type": "markdown",
   "id": "5d03258f-0f26-4b45-9c90-17767d1c2b8e",
   "metadata": {
    "jp-MarkdownHeadingCollapsed": true,
    "pycharm": {
     "is_executing": false,
     "name": "#%%\n"
    },
    "tags": []
   },
   "source": [
    "### Setup Extra Buttons"
   ]
  },
  {
   "cell_type": "code",
   "execution_count": null,
   "id": "60dc5178-7972-4974-8ec4-9034c5100a94",
   "metadata": {},
   "outputs": [],
   "source": [
    "ipcDataExplorer.occupancy_plotting_config.barOpacity = 0.25"
   ]
  },
  {
   "cell_type": "code",
   "execution_count": null,
   "id": "4f24e744-f8d6-4b86-8ed9-e640fd6b6552",
   "metadata": {},
   "outputs": [],
   "source": [
    "placefieldControlsContainerWidget.ui.end_button_helper_connections"
   ]
  },
  {
   "cell_type": "code",
   "execution_count": null,
   "id": "82e97563-caee-44ca-9e0d-29dbab4aa111",
   "metadata": {},
   "outputs": [],
   "source": [
    "ipcDataExplorer.plots\n",
    "\n",
    "\n",
    "ipcDataExplorer.zScalingFactor = 100"
   ]
  },
  {
   "cell_type": "markdown",
   "id": "29e3fc2b-7184-474d-8831-a086357110e4",
   "metadata": {},
   "source": [
    "### Prototype updating the displayed placefield values with those generated from a time-dependent pf_2D_dt"
   ]
  },
  {
   "cell_type": "code",
   "execution_count": null,
   "id": "f2f788fc-380a-4e39-a7b5-c7f6e6d6e063",
   "metadata": {},
   "outputs": [],
   "source": [
    "## Update the time-dependent pf:\n",
    "active_pf_2D_dt.reset()\n",
    "\n",
    "## Find the neuron_IDs that are included in the active_pf_2D for filtering the active_pf_2D_dt's results:\n",
    "is_pf_2D_included_neuron = np.isin(active_pf_2D_dt.included_neuron_IDs, active_pf_2D.included_neuron_IDs)\n",
    "pf_2D_included_neuron_indx = active_pf_2D_dt._included_thresh_neurons_indx[is_pf_2D_included_neuron]\n",
    "active_pf_2D_dt._included_thresh_neurons_indx = pf_2D_included_neuron_indx\n",
    "active_pf_2D_dt._peak_frate_filter_function = lambda list_: [list_[_] for _ in active_pf_2D_dt._included_thresh_neurons_indx]\n",
    "\n",
    "earliest_pos_t = active_pf_2D_dt.all_time_filtered_pos_df['t'].values[0]\n",
    "print(f'earliest_pos_t: {earliest_pos_t}')\n",
    "# active_pf_2D_dt.update(t=earliest_pos_t)\n",
    "# active_pf_2D_dt.step(num_seconds_to_advance=6000.0)\n",
    "\n",
    "last_pos_t = active_pf_2D_dt.all_time_filtered_pos_df['t'].values[-1]\n",
    "print(f'last_pos_t: {last_pos_t}')\n",
    "# active_pf_2D_dt.update(t=last_pos_t)\n",
    "\n",
    "# active_pf_2D_dt.update(t=earliest_pos_t+(60.0 * 5.0))\n",
    "active_pf_2D_dt.update(t=3000000.0)\n",
    "print(f'post-update time: {active_pf_2D_dt.last_t}')\n",
    "\n",
    "# earliest_pos_t: 22.26785500004189\n",
    "# last_pos_t: 1739.1316560000414\n",
    "# post-update time: 322.2678550000419"
   ]
  },
  {
   "cell_type": "code",
   "execution_count": null,
   "id": "1870f174-dd49-45cd-803c-be610f5b3f75",
   "metadata": {},
   "outputs": [],
   "source": []
  },
  {
   "cell_type": "code",
   "execution_count": null,
   "id": "44a37c29-bb01-4799-9cb0-0d181b9d2f4e",
   "metadata": {},
   "outputs": [],
   "source": [
    "## Asserts to make sure that the fully-updated dt is equal to the normal:\n",
    "assert active_pf_2D_dt.all_time_filtered_pos_df.shape == active_pf_2D_dt.filtered_pos_df.shape, f\"active_pf_2D_dt.all_time_filtered_pos_df.shape: {active_pf_2D_dt.all_time_filtered_pos_df.shape}\\nactive_pf_2D_dt.filtered_pos_df.shape: {active_pf_2D_dt.filtered_pos_df.shape} \"\n",
    "assert active_pf_2D_dt.all_time_filtered_spikes_df.shape == active_pf_2D_dt.filtered_spikes_df.shape, f\"active_pf_2D_dt.all_time_filtered_spikes_df.shape: {active_pf_2D_dt.all_time_filtered_spikes_df.shape}\\nactive_pf_2D_dt.filtered_spikes_df.shape: {active_pf_2D_dt.filtered_spikes_df.shape} \"\n",
    "# Occupancies are equal:\n",
    "\n",
    "assert np.isclose(active_pf_2D_dt.ratemap.occupancy, active_pf_2D.ratemap.occupancy).all(), f\"active_pf_2D_dt.ratemap.occupancy: {active_pf_2D_dt.ratemap.occupancy}\\nactive_pf_2D.ratemap.occupancy: {active_pf_2D.ratemap.occupancy}\"\n",
    "# assert (active_pf_2D_dt.ratemap.occupancy == active_pf_2D.ratemap.occupancy).all(), f\"active_pf_2D_dt.ratemap.occupancy: {active_pf_2D_dt.ratemap.occupancy}\\nactive_pf_2D.ratemap.occupancy: {active_pf_2D.ratemap.occupancy}\"\n",
    "assert (active_pf_2D_dt.ratemap.spikes_maps == active_pf_2D.ratemap.spikes_maps).all(), f\"active_pf_2D_dt.ratemap.spikes_maps: {active_pf_2D_dt.ratemap.spikes_maps}\\nactive_pf_2D.ratemap.spikes_maps: {active_pf_2D.ratemap.spikes_maps}\""
   ]
  },
  {
   "cell_type": "code",
   "execution_count": null,
   "id": "89708ed5-0a40-49b7-8d43-1dc53ed0589d",
   "metadata": {},
   "outputs": [],
   "source": [
    "assert (active_pf_2D_dt.ratemap.tuning_curves == active_pf_2D.ratemap.tuning_curves).all(), f\"active_pf_2D_dt.ratemap.tuning_curves: {active_pf_2D_dt.ratemap.tuning_curves}\\nactive_pf_2D.ratemap.tuning_curves: {active_pf_2D.ratemap.tuning_curves}\""
   ]
  },
  {
   "cell_type": "code",
   "execution_count": null,
   "id": "b2942eff-1c2e-40ff-9a29-86cafcee30c3",
   "metadata": {},
   "outputs": [],
   "source": [
    "active_pf_2D_dt.should_smooth_final_tuning_map"
   ]
  },
  {
   "cell_type": "code",
   "execution_count": null,
   "id": "b8163855-008b-4ec6-b774-3be9d6f03aaa",
   "metadata": {},
   "outputs": [],
   "source": [
    "PfND_ .should_smooth_spikes_map"
   ]
  },
  {
   "cell_type": "code",
   "execution_count": null,
   "id": "1d724020-6ae4-44d3-8eb6-0c39b3003fbc",
   "metadata": {},
   "outputs": [],
   "source": [
    "active_pf_2D_dt.plot_ratemaps_2D(**({'subplots': (None, 9), 'resolution_multiplier': 1.0, 'enable_spike_overlay': False}))"
   ]
  },
  {
   "cell_type": "code",
   "execution_count": null,
   "id": "4ec985f3-19c5-4b54-a509-d629d96b9faf",
   "metadata": {},
   "outputs": [],
   "source": [
    "active_pf_2D.plot_ratemaps_2D(**({'subplots': (None, 9), 'resolution_multiplier': 1.0, 'enable_spike_overlay': False}))"
   ]
  },
  {
   "cell_type": "code",
   "execution_count": null,
   "id": "83bc5aeb-092b-4095-82d0-d5fdb5546b84",
   "metadata": {},
   "outputs": [],
   "source": [
    "from pyphoplacecellanalysis.Pho2D.PyQtPlots.plot_placefields import pyqtplot_plot_image_array, pyqtplot_common_setup\n",
    "# Get flat list of images:\n",
    "images = active_pf_2D.ratemap.tuning_curves # (43, 63, 63)\n",
    "occupancy = active_pf_2D.ratemap.occupancy\n",
    "\n",
    "# images = active_pf_2D_dt.ratemap.tuning_curves # (43, 63, 63)\n",
    "# images = active_pf_2D_dt.curr_occupancy_weighted_tuning_maps_matrix[active_pf_2D_dt._included_thresh_neurons_indx,:,:] # (43, 63, 63)\n",
    "# images = active_pf_2D_dt.curr_smoothed_spikes_maps_matrix[active_pf_2D_dt._included_thresh_neurons_indx,:,:] # (43, 63, 63)\n",
    "# images = active_one_step_decoder.ratemap.normalized_tuning_curves[0:40,:,:] # (43, 63, 63)\n",
    "# occupancy = active_pf_2D_dt.ratemap.occupancy\n",
    "# occupancy = active_pf_2D_dt.curr_seconds_occupancy\n",
    "app, parent_root_widget, root_render_widget, plot_array, img_item_array, other_components_array = pyqtplot_plot_image_array(active_pf_2D_dt.xbin, active_pf_2D_dt.ybin, images, occupancy, \n",
    "                                                                        app=None, parent_root_widget=None, root_render_widget=None)\n",
    "\n",
    "parent_root_widget.show()"
   ]
  },
  {
   "cell_type": "code",
   "execution_count": null,
   "id": "2037c96d-e840-4505-98fa-8725762228c6",
   "metadata": {},
   "outputs": [],
   "source": [
    "def debug_show_placefields(pf_type: str, images, occupancy):\n",
    "    if pf_type == 'dt':\n",
    "        active_pfs = active_pf_2D_dt\n",
    "    else:\n",
    "        active_pfs =  active_pf_2D\n",
    "    app, parent_root_widget, root_render_widget, plot_array, img_item_array, other_components_array = pyqtplot_plot_image_array(active_pfs.xbin, active_pfs.ybin, images, occupancy, \n",
    "                                                                        app=None, parent_root_widget=None, root_render_widget=None)\n",
    "    parent_root_widget.show()\n",
    "    return dict(app=app, parent_root_widget=parent_root_widget, root_render_widget=root_render_widget, plot_array=plot_array, img_item_array=img_item_array, other_components_array=other_components_array)\n",
    "\n",
    "\n",
    "debug_pf_dict = debug_show_placefields('', active_pf_2D.ratemap.tuning_curves, active_pf_2D.ratemap.occupancy)"
   ]
  },
  {
   "cell_type": "code",
   "execution_count": null,
   "id": "d6b05ced-4c59-442e-93ff-6d755ae1aed3",
   "metadata": {},
   "outputs": [],
   "source": [
    "debug_pf_dt_dict = debug_show_placefields('dt', active_pf_2D_dt.ratemap.tuning_curves, active_pf_2D_dt.ratemap.occupancy)"
   ]
  },
  {
   "cell_type": "code",
   "execution_count": null,
   "id": "eb50a3c2-e0ed-468b-ada9-8c36f3e3113c",
   "metadata": {},
   "outputs": [],
   "source": [
    "active_pf_2D.should_smooth_spatial_occupancy_map\n",
    "active_pf_2D_dt.should_smooth_spatial_occupancy_map\n",
    "\n",
    "active_pf_2D_dt.included_neuron_IDs"
   ]
  },
  {
   "cell_type": "code",
   "execution_count": null,
   "id": "e5159ac7-f1bd-442b-a4b7-fd9d4c905ef0",
   "metadata": {},
   "outputs": [],
   "source": [
    "\n",
    "\n",
    "assert (active_pf_2D_dt.ratemap.spikes_maps == active_pf_2D.ratemap.spikes_maps).all(), f\"active_pf_2D_dt.ratemap.spikes_maps: {active_pf_2D_dt.ratemap.spikes_maps}\\nactive_pf_2D.ratemap.spikes_maps: {active_pf_2D.ratemap.spikes_maps}\""
   ]
  },
  {
   "cell_type": "code",
   "execution_count": null,
   "id": "610b54be-e4a1-43d9-928c-1941b6c4533c",
   "metadata": {},
   "outputs": [],
   "source": [
    "active_pf_2D_dt._included_thresh_neurons_indx"
   ]
  },
  {
   "cell_type": "code",
   "execution_count": null,
   "id": "2e8edaf6-6dea-4b70-bdfc-65b2f61f6055",
   "metadata": {},
   "outputs": [],
   "source": [
    "active_pf_2D.ratemap.occupancy"
   ]
  },
  {
   "cell_type": "code",
   "execution_count": null,
   "id": "e1ef0af9-dbc2-464b-84f4-4149349af8bd",
   "metadata": {},
   "outputs": [],
   "source": [
    "active_pf_2D_dt.curr_seconds_occupancy"
   ]
  },
  {
   "cell_type": "code",
   "execution_count": null,
   "id": "cb9f0ceb-a26b-41ed-9f68-a44c2816c233",
   "metadata": {},
   "outputs": [],
   "source": [
    "active_pf_2D_dt.ratemap.occupancy"
   ]
  },
  {
   "cell_type": "code",
   "execution_count": null,
   "id": "cf8f0e6f-c7af-46df-a9c0-614bb3f61692",
   "metadata": {},
   "outputs": [],
   "source": [
    "active_pf_2D.ratemap.tuning_curves"
   ]
  },
  {
   "cell_type": "code",
   "execution_count": null,
   "id": "f0a42c12-29e0-4f59-8783-c407de973c88",
   "metadata": {},
   "outputs": [],
   "source": [
    "active_pf_2D_dt.curr_occupancy_weighted_tuning_maps_matrix"
   ]
  },
  {
   "cell_type": "code",
   "execution_count": null,
   "id": "ef17b126-2918-482c-ba58-b67af241b023",
   "metadata": {},
   "outputs": [],
   "source": [
    "[len(dim_nonzeros) for dim_nonzeros in active_pf_2D_dt.curr_occupancy_weighted_tuning_maps_matrix[~active_pf_2D_dt._included_thresh_neurons_indx,:,:].nonzero()] # [4602, 4602, 4602], there are [2441, 2441, 2441] outside the included"
   ]
  },
  {
   "cell_type": "code",
   "execution_count": null,
   "id": "bda3c07d-85c5-44ab-b023-e5212817f04d",
   "metadata": {},
   "outputs": [],
   "source": [
    "[len(dim_nonzeros) for dim_nonzeros in active_pf_2D.ratemap.tuning_curves.nonzero()] # [67595, 67595, 67595]"
   ]
  },
  {
   "cell_type": "code",
   "execution_count": null,
   "id": "8e9c0184-e77a-4c58-9004-a4ac1e23261e",
   "metadata": {},
   "outputs": [],
   "source": [
    "active_pf_2D_dt.ratemap.tuning_curves"
   ]
  },
  {
   "cell_type": "code",
   "execution_count": null,
   "id": "a20a9670-2eff-4373-b7df-08d9d416b59f",
   "metadata": {},
   "outputs": [],
   "source": [
    "active_pf_2D.ratemap.spikes_maps.nonzero()"
   ]
  },
  {
   "cell_type": "code",
   "execution_count": null,
   "id": "ac0ec831-5abc-4ffd-82e0-dfee9128f641",
   "metadata": {},
   "outputs": [],
   "source": [
    "[len(dim_nonzeros) for dim_nonzeros in active_pf_2D.ratemap.tuning_curves.nonzero()] # [67595, 67595, 67595]"
   ]
  },
  {
   "cell_type": "code",
   "execution_count": null,
   "id": "a3b16910-31dc-4972-869e-af29f9c5329c",
   "metadata": {},
   "outputs": [],
   "source": [
    "active_pf_2D_dt.last_t"
   ]
  },
  {
   "cell_type": "code",
   "execution_count": null,
   "id": "e77498f5-56ca-4903-bd5f-a05c4d1373d8",
   "metadata": {},
   "outputs": [],
   "source": [
    "active_pf_2D_dt.ratemap.tuning_curves"
   ]
  },
  {
   "cell_type": "code",
   "execution_count": null,
   "id": "9a29600a-5933-46b5-9b55-d954245fa8f3",
   "metadata": {},
   "outputs": [],
   "source": [
    "active_pf_2D_dt.curr_occupancy_weighted_tuning_maps_matrix"
   ]
  },
  {
   "cell_type": "code",
   "execution_count": null,
   "id": "41cd1ae2-b6cf-4dbe-bdb1-94fb4df33fb0",
   "metadata": {},
   "outputs": [],
   "source": [
    "active_pf_2D_dt.ratemap.neuron_ids"
   ]
  },
  {
   "cell_type": "code",
   "execution_count": null,
   "id": "7275a411-b27d-409f-a831-1a920c132326",
   "metadata": {},
   "outputs": [],
   "source": [
    "# %pdb on\n",
    "pActiveTuningCurvesPlotter_dup = None\n",
    "display_output = display_output | curr_active_pipeline.display('_display_3d_interactive_tuning_curves_plotter', active_config_name, override_pf2D=active_pf_2D_dt , extant_plotter=display_output.get('pActiveTuningCurvesPlotter_dup', None),\n",
    "                                                               panel_controls_mode='Qt', should_nan_non_visited_elements=False, zScalingFactor=2000.0) # Works now!\n",
    "ipcDataExplorer_dup = display_output['ipcDataExplorer']\n",
    "display_output['pActiveTuningCurvesPlotter_dup'] = display_output.pop('plotter') # rename the key from the generic \"plotter\" to \"pActiveSpikesBehaviorPlotter\" to avoid collisions with others\n",
    "pActiveTuningCurvesPlotter_dup = display_output['pActiveTuningCurvesPlotter_dup']\n",
    "root_dockAreaWindow_dup, placefieldControlsContainerWidget_dup, pf_widgets_dup = display_output['pane'] # for Qt mode:"
   ]
  },
  {
   "cell_type": "code",
   "execution_count": null,
   "id": "a862a0e1-be53-4c5a-af97-7e8ef0eedbd3",
   "metadata": {},
   "outputs": [],
   "source": [
    "# %pdb on\n",
    "# %pdb off\n",
    "from pyphoplacecellanalysis.GUI.PyVista.InteractivePlotter.InteractivePlaceCellTuningCurvesDataExplorer import InteractivePlaceCellTuningCurvesDataExplorer\n",
    "from pyphoplacecellanalysis.GUI.Qt.Mixins.Menus.ConnectionControlsMenuMixin import ConnectionControlsMenuMixin\n",
    "\n",
    "from pyphocorehelpers.gui.Qt.widget_positioning_helpers import WidgetPositioningHelpers\n",
    "from pyphoplacecellanalysis.General.Configs.DynamicConfigs import PlottingConfig, InteractivePlaceCellConfig\n",
    "from pyphocorehelpers.mixins.member_enumerating import AllFunctionEnumeratingMixin\n",
    "from pyphoplacecellanalysis.General.Pipeline.Stages.DisplayFunctions.DisplayFunctionRegistryHolder import DisplayFunctionRegistryHolder\n",
    "\n",
    "pActiveTuningCurvesPlotter_dup = None\n",
    "from pyphoplacecellanalysis.GUI.PyQtPlot.Widgets.DockAreaWrapper import DockAreaWrapper\n",
    "\n",
    "# Qt-based Placefield controls:\n",
    "from pyphoplacecellanalysis.GUI.Qt.PlacefieldVisualSelectionControls.qt_placefield import build_all_placefield_output_panels\n",
    "# ipcDataExplorer_dup = InteractivePlaceCellTuningCurvesDataExplorer(curr_active_config, sess, active_computed_data['pf2D'], curr_active_config.plotting_config.pf_colors, **({'extant_plotter':None}))\n",
    "ipcDataExplorer_dup = InteractivePlaceCellTuningCurvesDataExplorer(curr_active_config, sess, active_computed_data['pf2D_dt'], curr_active_config.plotting_config.pf_colors, **({'extant_plotter':None}))\n",
    "\n",
    "# ipcDataExplorer_dup = InteractivePlaceCellTuningCurvesDataExplorer(curr_active_config, sess, active_pf_2D_dt, curr_active_config.plotting_config.pf_colors, **({'extant_plotter':None}))\n",
    "pActiveTuningCurvesPlotter_dup = ipcDataExplorer_dup.plot(pActiveTuningCurvesPlotter_dup) # [2, 17449]\n",
    "# Update the ipcDataExplorer's colors for spikes and placefields from its configs on init:\n",
    "ipcDataExplorer_dup.on_config_update({neuron_id:a_config.color for neuron_id, a_config in ipcDataExplorer_dup.active_neuron_render_configs_map.items()}, defer_update=False)\n",
    "\n",
    "# build the output panels if desired:\n",
    "# pane: (placefieldControlsContainerWidget, pf_widgets)\n",
    "placefieldControlsContainerWidget_dup, pf_widgets = build_all_placefield_output_panels(ipcDataExplorer_dup)\n",
    "placefieldControlsContainerWidget_dup.show()\n",
    "\n",
    "# Adds the placefield controls container widget and each individual pf widget to the ipcDataExplorer.ui in case it needs to reference them later:\n",
    "ipcDataExplorer_dup.ui['placefieldControlsContainerWidget'] = placefieldControlsContainerWidget_dup\n",
    "\n",
    "# Visually align the widgets:\n",
    "WidgetPositioningHelpers.align_window_edges(ipcDataExplorer_dup.p, placefieldControlsContainerWidget_dup, relative_position = 'above', resize_to_main=(1.0, None))\n",
    "\n",
    "# Wrap:\n",
    "active_root_main_widget = ipcDataExplorer_dup.p.window()\n",
    "root_dockAreaWindow, app = DockAreaWrapper.wrap_with_dockAreaWindow(active_root_main_widget, placefieldControlsContainerWidget_dup, title=ipcDataExplorer_dup.data_explorer_name)\n",
    "\n",
    "pane = (root_dockAreaWindow, placefieldControlsContainerWidget_dup, pf_widgets)\n",
    "\n"
   ]
  },
  {
   "cell_type": "code",
   "execution_count": null,
   "id": "d588baed-7c11-4838-a5eb-b13ef900279f",
   "metadata": {},
   "outputs": [],
   "source": [
    "# ## Update existing open ipcDataExplorer by overwriting (TODO):\n",
    "# ipcDataExplorer.params.active_epoch_placefields = active_pf_2D_dt"
   ]
  },
  {
   "cell_type": "code",
   "execution_count": null,
   "id": "1e14b649-76a2-44b8-ac9b-9e9df4fa6450",
   "metadata": {},
   "outputs": [],
   "source": []
  },
  {
   "cell_type": "markdown",
   "id": "bb64e0d4-73ed-475e-92a5-816e0e0bc33f",
   "metadata": {
    "jp-MarkdownHeadingCollapsed": true,
    "pycharm": {
     "is_executing": false,
     "name": "#%%\n"
    },
    "tags": []
   },
   "source": [
    "### Optional Duplicate ipcDataExplorer plotter for comparison"
   ]
  },
  {
   "cell_type": "code",
   "execution_count": null,
   "id": "79271397-1108-43cc-a7f9-12221ff539d0",
   "metadata": {
    "pycharm": {
     "is_executing": false,
     "name": "#%%\n"
    },
    "tags": []
   },
   "outputs": [],
   "source": [
    "pActiveTuningCurvesPlotter_dup = None\n",
    "display_output = display_output | curr_active_pipeline.display('_display_3d_interactive_tuning_curves_plotter', active_config_name, override_pf2D= , extant_plotter=display_output.get('pActiveTuningCurvesPlotter_dup', None),\n",
    "                                                               panel_controls_mode='Qt', should_nan_non_visited_elements=False, zScalingFactor=2000.0) # Works now!\n",
    "ipcDataExplorer_dup = display_output['ipcDataExplorer']\n",
    "display_output['pActiveTuningCurvesPlotter_dup'] = display_output.pop('plotter') # rename the key from the generic \"plotter\" to \"pActiveSpikesBehaviorPlotter\" to avoid collisions with others\n",
    "pActiveTuningCurvesPlotter_dup = display_output['pActiveTuningCurvesPlotter_dup']\n",
    "root_dockAreaWindow_dup, placefieldControlsContainerWidget_dup, pf_widgets_dup = display_output['pane'] # for Qt mode:"
   ]
  },
  {
   "cell_type": "markdown",
   "id": "03c7f6f6-519c-4eef-9661-7ff9262d4d6e",
   "metadata": {
    "jp-MarkdownHeadingCollapsed": true,
    "tags": []
   },
   "source": [
    "### Render computed contours and peaks to ipcDataExplorer:"
   ]
  },
  {
   "cell_type": "code",
   "execution_count": null,
   "id": "5bb8fdf3-4e20-4c96-aeec-92eba1adbc74",
   "metadata": {},
   "outputs": [],
   "source": [
    "from pyphoplacecellanalysis.PhoPositionalData.plotting.peak_prominences import render_all_neuron_peak_prominence_2d_results_on_pyvista_plotter\n",
    "## Call the function to add the 3D plot components to the pyvista plotter\n",
    "render_all_neuron_peak_prominence_2d_results_on_pyvista_plotter(ipcDataExplorer, active_peak_prominence_2d_results, debug_print=False)"
   ]
  },
  {
   "cell_type": "code",
   "execution_count": null,
   "id": "171e6a5b-045a-4838-a90c-9d6edf0b4522",
   "metadata": {
    "pycharm": {
     "is_executing": false,
     "name": "#%%\n"
    }
   },
   "outputs": [],
   "source": [
    "## Set the colors of the raster window from the tuning curve window:\n",
    "spike_raster_window.update_neurons_color_data(updated_neuron_render_configs=ipcDataExplorer.active_neuron_render_configs_map)"
   ]
  },
  {
   "cell_type": "code",
   "execution_count": null,
   "id": "05215ea8-1ea0-405c-a3f9-27c50b4381fd",
   "metadata": {
    "pycharm": {
     "is_executing": false,
     "name": "#%%\n"
    }
   },
   "outputs": [],
   "source": [
    "ipcDataExplorer.p.enable_depth_peeling(10, occlusion_ratio=0) # This fixes many of the rendering issues of the placefields, but does slow things way down. \n",
    "# ipcDataExplorer.p.enable_depth_peeling(number_of_peels=4, occlusion_ratio=0)\n",
    "# ipcDataExplorer.p.disable_depth_peeling()\n",
    "# ipcDataExplorer.p.enable_depth_peeling(10)"
   ]
  },
  {
   "cell_type": "code",
   "execution_count": null,
   "id": "1b73687a-2e03-4229-aacb-cc4e515b5b8b",
   "metadata": {
    "pycharm": {
     "is_executing": false,
     "name": "#%%\n"
    }
   },
   "outputs": [],
   "source": [
    "## Change background color:\n",
    "ipcDataExplorer.params.plotter_backgrounds"
   ]
  },
  {
   "cell_type": "code",
   "execution_count": null,
   "id": "59f93993-a516-4220-989a-a1b9a1680ed2",
   "metadata": {
    "pycharm": {
     "is_executing": false,
     "name": "#%%\n"
    }
   },
   "outputs": [],
   "source": [
    "ipcDataExplorer.set_background('Deep Space (Dark)')"
   ]
  },
  {
   "cell_type": "code",
   "execution_count": null,
   "id": "2f230154-b169-4f44-b990-5fd2bf20816d",
   "metadata": {
    "pycharm": {
     "is_executing": false,
     "name": "#%%\n"
    }
   },
   "outputs": [],
   "source": [
    "ipcDataExplorer.set_background('Purple Paradise')"
   ]
  },
  {
   "cell_type": "code",
   "execution_count": null,
   "id": "2c81c8aa-0165-443a-a529-5d5a613da343",
   "metadata": {
    "pycharm": {
     "is_executing": false,
     "name": "#%%\n"
    }
   },
   "outputs": [],
   "source": [
    "ipcDataExplorer.plot_placefields()"
   ]
  },
  {
   "cell_type": "code",
   "execution_count": null,
   "id": "a2925b1e-762d-49e8-9aa7-849ab19d9a63",
   "metadata": {
    "pycharm": {
     "is_executing": false,
     "name": "#%%\n"
    }
   },
   "outputs": [],
   "source": [
    "ipcDataExplorer.params.zScalingFactor"
   ]
  },
  {
   "cell_type": "code",
   "execution_count": null,
   "id": "616ba60d-0756-489a-a407-bd765035f879",
   "metadata": {},
   "outputs": [],
   "source": [
    "# ipcDataExplorer.toggle_plot_visibility() # Looks like it works for generally specified plot key\n",
    "# ipcDataExplorer.get_plot_objects_list\n",
    "\n",
    "# ['main', 'points', 'peaks']\n",
    "list(ipcDataExplorer.tuning_curve_plot_actors[2].keys())\n",
    "# 'tuningCurvePlotActors'"
   ]
  },
  {
   "cell_type": "code",
   "execution_count": null,
   "id": "94d703b8-edb2-472d-a97f-74c0c594c3cf",
   "metadata": {},
   "outputs": [],
   "source": [
    "curr_tuning_curve_data = ipcDataExplorer.plots_data['tuningCurvePlotData'][2]\n",
    "curr_pdata = curr_tuning_curve_data['pdata_currActiveNeuronTuningCurve'] # StructuredGrid\n",
    "curr_pdata_points = curr_tuning_curve_data['pdata_currActiveNeuronTuningCurve_Points'] # UnstructuredGrid\n",
    "curr_pdata_points\n",
    "# curr_pdata\n",
    "# {'curr_active_neuron_ID': 2,\n",
    "#  'curr_active_neuron_pf_identifier': 'pf[2]',\n",
    "#  'curr_active_neuron_tuning_Curve': array([[0.437126, 0.818305, 1.48319, ..., 0.0155238, 0.0067005, 0.00294359],\n",
    "#         [0.347969, 0.64914, 1.17457, ..., 0.0388841, 0.0167967, 0.00739304],\n",
    "#         [0.228976, 0.415578, 0.741638, ..., 0.0922773, 0.0399187, 0.0176301],\n",
    "#         ...,\n",
    "#         [0, 0, 0, ..., 0.0989772, 0.0683015, 0.0467108],\n",
    "#         [0, 0, 0, ..., 0.0407058, 0.0284058, 0.0195678],\n",
    "#         [0, 0, 0, ..., 0.0158926, 0.0112009, 0.00776478]]),\n",
    "#  'pdata_currActiveNeuronTuningCurve': StructuredGrid (0x24d816a7f40)\n",
    "#    N Cells:\t1764\n",
    "#    N Points:\t1856\n",
    "#    X Bounds:\t2.581e+01, 2.638e+02\n",
    "#    Y Bounds:\t1.244e+02, 1.536e+02\n",
    "#    Z Bounds:\t0.000e+00, 1.703e+01\n",
    "#    Dimensions:\t29, 64, 1\n",
    "#    N Arrays:\t3,\n",
    "#  'pdata_currActiveNeuronTuningCurve_Points': UnstructuredGrid (0x24d815b4dc0)\n",
    "#    N Cells:\t1716\n",
    "#    N Points:\t1812\n",
    "#    X Bounds:\t2.581e+01, 2.638e+02\n",
    "#    Y Bounds:\t1.244e+02, 1.536e+02\n",
    "#    Z Bounds:\t0.000e+00, 1.703e+01\n",
    "#    N Arrays:\t3,\n",
    "#  'lut': <vtkmodules.vtkCommonCore.vtkLookupTable(0x0000024D9A888950) at 0x0000024DAA8F35E0>,\n",
    "#  'peaks':\n",
    "#  ...\n",
    "\n",
    "surf = curr_pdata.extract_surface() # <class 'pyvista.core.pointset.PolyData'>\n",
    "surf\n",
    "\n",
    "# surf = curr_pdata_points.reconstruct_surface() # this does not work at all\n",
    "# surf\n",
    "# curr_pdata_points.length\n",
    "\n",
    "# active_points_data = curr_pdata_points.points.copy()\n",
    "# active_points_data = curr_pdata.copy()\n",
    "active_points_data = surf.copy()\n",
    "origin = active_points_data.center.copy()\n",
    "origin[-1] = origin[-1] - (active_points_data.length/3.0)\n",
    "origin\n",
    "projected = active_points_data.project_points_to_plane(origin=origin)\n",
    "projected"
   ]
  },
  {
   "cell_type": "code",
   "execution_count": null,
   "id": "c6ad079b-a48a-40df-8e2b-1554c40dbb6a",
   "metadata": {},
   "outputs": [],
   "source": [
    "edges = curr_pdata.extract_all_edges()\n",
    "edges.plot(line_width=1, color='k')"
   ]
  },
  {
   "cell_type": "code",
   "execution_count": null,
   "id": "6c69e63a-417b-4aa8-ae6f-022dd38172d8",
   "metadata": {},
   "outputs": [],
   "source": [
    "# non_visited_mask = active_placefields.never_visited_occupancy_mask\n",
    "non_visited_mask = ipcDataExplorer.params.active_epoch_placefields.never_visited_occupancy_mask.copy()\n",
    "non_visited_mask"
   ]
  },
  {
   "cell_type": "code",
   "execution_count": null,
   "id": "025eff68-851b-4dc0-9443-577e9bff1128",
   "metadata": {},
   "outputs": [],
   "source": [
    "flat_non_visited_mask = non_visited_mask.T.copy().ravel(order=\"F\")\n",
    "# flat_non_visited_mask.shape # (1856,)"
   ]
  },
  {
   "cell_type": "code",
   "execution_count": null,
   "id": "9fe38f1d-c08d-4596-bdfc-6fb043b7e716",
   "metadata": {},
   "outputs": [],
   "source": [
    "# Only if VTK > 9.1.X does this return a PointData, otherwise returns None\n",
    "# _ = curr_pdata.hide_points(ind=flat_non_visited_mask)\n",
    "curr_pdata.hide_cells(flat_non_visited_mask, inplace=True)\n",
    "# curr_updated_pdata_points = curr_pdata_points.hide_points(non_visited_mask).copy()\n",
    "# curr_updated_pdata_points\n",
    "# List or array of point indices to be hidden. The array can also be a boolean array of the same size as the number of points.\n"
   ]
  },
  {
   "cell_type": "code",
   "execution_count": null,
   "id": "42ddd7fa-79c5-4327-b1d6-356dab63d2af",
   "metadata": {},
   "outputs": [],
   "source": [
    "import pyvista as pv\n",
    "pl = pv.Plotter(shape=(1,2))\n",
    "pl.add_mesh(curr_pdata_points)\n",
    "pl.add_title('points')\n",
    "pl.subplot(0,1)\n",
    "pl.add_mesh(curr_pdata, color=True, show_edges=True)\n",
    "pl.add_mesh(surf, color=True, show_edges=True)\n",
    "pl.add_mesh(projected)\n",
    "pl.add_mesh(curr_pdata)\n",
    "pl.add_title('reconstructed from points')\n",
    "pl.show()"
   ]
  },
  {
   "cell_type": "code",
   "execution_count": null,
   "id": "d10263fd-80b8-495a-96f3-3bdcd24d579f",
   "metadata": {},
   "outputs": [],
   "source": [
    "curr_tuning_curve_plot = ipcDataExplorer.tuning_curve_plot_actors[2]['main']\n",
    "curr_tuning_curve_plot.GetShaderProperty()"
   ]
  },
  {
   "cell_type": "code",
   "execution_count": null,
   "id": "292d8616-2a6d-47df-9a9f-c48b1a8f8369",
   "metadata": {},
   "outputs": [],
   "source": [
    "sess_spikes_df"
   ]
  },
  {
   "cell_type": "markdown",
   "id": "172de269-4476-4326-afb4-25f85d1b3fde",
   "metadata": {
    "jp-MarkdownHeadingCollapsed": true,
    "tags": []
   },
   "source": [
    "### Test Programmatically Adding GUI/UI controls for additional plots (Occupancy, etc)"
   ]
  },
  {
   "cell_type": "code",
   "execution_count": null,
   "id": "ecac9586-f8f6-46a9-9db1-699e55ab9b87",
   "metadata": {},
   "outputs": [],
   "source": [
    "# ipcDataExplorer.ui.placefieldControlsContainerWidget # PlacefieldVisualSelectionControlsBarWidget\n",
    "# ipcDataExplorer.ui.placefieldControlsContainerWidget.ui.pf_layout # QHBoxLayout \n",
    "curr_neuron_widget = ipcDataExplorer.ui.placefieldControlsContainerWidget.ui.pf_widgets[0] # Grab single neuron widget (PlacefieldVisualSelectionWidget)\n",
    "curr_layout = curr_neuron_widget.ui.groupBox.layout() # QVBoxLayout "
   ]
  },
  {
   "cell_type": "code",
   "execution_count": null,
   "id": "fbe608c3-4fce-447e-8838-3ad7fc0a5af4",
   "metadata": {},
   "outputs": [],
   "source": [
    "chkbtnProminenceMetrics = curr_neuron_widget.build_ui_toggle_button(name='chkbtnProminenceMetrics', text='prominences', parent=curr_neuron_widget.ui.groupBox)\n",
    "curr_layout.addWidget(chkbtnProminenceMetrics)"
   ]
  },
  {
   "cell_type": "markdown",
   "id": "227459be-04d7-45c9-afbf-a24738457975",
   "metadata": {},
   "source": [
    "<!-- ### Occupancy Toggle -->"
   ]
  },
  {
   "cell_type": "code",
   "execution_count": null,
   "id": "2c33a867-30b8-42c5-8ffb-b200668a5daf",
   "metadata": {},
   "outputs": [],
   "source": [
    "# ipcDataExplorer.on_occupancy_plot_update_visibility\n",
    "ipcDataExplorer.occupancy_plotting_config.isVisible = False"
   ]
  },
  {
   "cell_type": "code",
   "execution_count": null,
   "id": "b22f2eb1-48d2-4ee8-866f-f4c9c935f2d3",
   "metadata": {
    "pycharm": {
     "is_executing": false,
     "name": "#%%\n"
    }
   },
   "outputs": [],
   "source": [
    "ipcDataExplorer.plot_occupancy_bars()"
   ]
  },
  {
   "cell_type": "code",
   "execution_count": null,
   "id": "b3cf8d81-d70e-4b02-b824-e175f409b236",
   "metadata": {
    "pycharm": {
     "is_executing": false,
     "name": "#%%\n"
    }
   },
   "outputs": [],
   "source": [
    "ipcDataExplorer.occupancy_plotting_config.labelsAreVisible = True # Setting this to true renders the labels at each occupancy bin"
   ]
  },
  {
   "cell_type": "code",
   "execution_count": null,
   "id": "98ba03ff-5740-40e8-b975-2b2c2750b713",
   "metadata": {
    "pycharm": {
     "is_executing": false,
     "name": "#%%\n"
    }
   },
   "outputs": [],
   "source": [
    "ipcDataExplorer.occupancy_plotting_config.labelsShowPoints = True"
   ]
  },
  {
   "cell_type": "code",
   "execution_count": null,
   "id": "c8e7eec0-acd1-41d5-964a-8692f7e42c09",
   "metadata": {
    "pycharm": {
     "is_executing": false,
     "name": "#%%\n"
    }
   },
   "outputs": [],
   "source": [
    "ipcDataExplorer.params.should_nan_non_visited_elements = False"
   ]
  },
  {
   "cell_type": "code",
   "execution_count": null,
   "id": "023b14ee-1686-4855-acd4-ae3fe24e001a",
   "metadata": {
    "pycharm": {
     "is_executing": false,
     "name": "#%%\n"
    }
   },
   "outputs": [],
   "source": [
    "filtered_indices = sess_spikes_df.index.values[active_pf_2D.filtered_spikes_df.index]\n",
    "# filtered_sess_spikes_df = sess_spikes_df[sess_spikes_df.index == active_pf_2D.filtered_spikes_df.index]\n",
    "# filtered_sess_spikes_df = sess_spikes_df[sess_spikes_df['flat_spike_idx'] == active_pf_2D.filtered_spikes_df.flat_spike_idx]\n",
    "# filtered_sess_spikes_df"
   ]
  },
  {
   "cell_type": "code",
   "execution_count": null,
   "id": "a7e42890-2a5a-4a5d-be5b-ad3b7b9f8c6b",
   "metadata": {
    "pycharm": {
     "is_executing": false,
     "name": "#%%\n"
    }
   },
   "outputs": [],
   "source": [
    "ipcDataExplorer.occupancy_plotting_config.isVisible = False"
   ]
  },
  {
   "cell_type": "code",
   "execution_count": null,
   "id": "4cad4711-3f5d-44c3-9fc1-bd1465a86a70",
   "metadata": {
    "pycharm": {
     "is_executing": false,
     "name": "#%%\n"
    }
   },
   "outputs": [],
   "source": [
    "ipcDataExplorer.occupancy_plotting_config"
   ]
  },
  {
   "cell_type": "markdown",
   "id": "70496ef4-87e4-4e2b-ba6d-bcbd8b3adc81",
   "metadata": {
    "jp-MarkdownHeadingCollapsed": true,
    "pycharm": {
     "is_executing": false,
     "name": "#%%\n"
    },
    "tags": []
   },
   "source": [
    "### Explore Mesh/Cell Picking in ipcDataExplorer"
   ]
  },
  {
   "cell_type": "code",
   "execution_count": null,
   "id": "efcdc58e-09e6-4b58-bf08-6c64fa41b5a6",
   "metadata": {
    "pycharm": {
     "is_executing": false,
     "name": "#%%\n"
    }
   },
   "outputs": [],
   "source": [
    "## Make the legend pickable:\n",
    "import pyvista as pv\n",
    "\n",
    "def callback(point):\n",
    "    \"\"\"Create a cube and a label at the click point.\"\"\"\n",
    "    mesh = pv.Cube(center=point, x_length=0.05, y_length=0.05, z_length=0.05)\n",
    "    ipcDataExplorer.p.add_mesh(mesh, style='wireframe', color='r')\n",
    "    ipcDataExplorer.p.add_point_labels(point, [f\"{point[0]:.2f}, {point[1]:.2f}, {point[2]:.2f}\"])\n",
    "\n",
    "\n",
    "ipcDataExplorer.p.enable_surface_picking(callback=callback, left_clicking=True, show_point=False)\n",
    "# ipcDataExplorer.p.enable_surface_picking("
   ]
  },
  {
   "cell_type": "code",
   "execution_count": null,
   "id": "b4748c03-f688-4d0f-a40c-dabe75ee9e34",
   "metadata": {
    "pycharm": {
     "is_executing": false,
     "name": "#%%\n"
    }
   },
   "outputs": [],
   "source": [
    "def mesh_picked_callback(mesh):\n",
    "    \"\"\"TODO: highlight the mesh or something - label at the click point.\"\"\"\n",
    "    print(f'mesh_picked_callback(mesh: {mesh})')\n",
    "    # mesh = pv.Cube(center=point, x_length=0.05, y_length=0.05, z_length=0.05)\n",
    "    # ipcDataExplorer.p.add_mesh(mesh, style='wireframe', color='r')\n",
    "    # ipcDataExplorer.p.add_point_labels(point, [f\"{point[0]:.2f}, {point[1]:.2f}, {point[2]:.2f}\"])\n",
    "\n",
    "ipcDataExplorer.p.enable_mesh_picking(callback=mesh_picked_callback, left_clicking=True, show=True)"
   ]
  },
  {
   "cell_type": "markdown",
   "id": "e7e92907-c05c-4ad1-b291-2e941433a87e",
   "metadata": {
    "jp-MarkdownHeadingCollapsed": true,
    "pycharm": {
     "is_executing": false,
     "name": "#%%\n"
    },
    "tags": []
   },
   "source": [
    "### Other"
   ]
  },
  {
   "cell_type": "code",
   "execution_count": null,
   "id": "46d9eb58-f053-4b19-8630-c2087b5c9bad",
   "metadata": {
    "pycharm": {
     "name": "#%%\n"
    }
   },
   "outputs": [],
   "source": [
    "# Here we look at the population burst events for each epoch ('maze1' vs. 'maze2')\n",
    "# curr_active_pipeline.sess.\n",
    "\n",
    "# get only the spikes that occur during PBEs:\n",
    "pbe_only_spikes_df = sess.spikes_df[(sess.spikes_df.PBE_id > -1)]\n",
    "pbe_only_spikes_df\n",
    "\n",
    "curr_active_pipeline.sess.pbe #[10960 rows x 4 columns]"
   ]
  },
  {
   "cell_type": "code",
   "execution_count": null,
   "id": "16de2901-e7ea-40fe-8807-d5bfb57b01bd",
   "metadata": {
    "pycharm": {
     "name": "#%%\n"
    }
   },
   "outputs": [],
   "source": [
    "app, win, w = curr_active_pipeline.display('_display_placemaps_pyqtplot_2D', active_config_name)\n",
    "win.show(); pg.exec()"
   ]
  },
  {
   "cell_type": "markdown",
   "id": "5780219e-f3f0-4184-ad7e-c2d6111adadb",
   "metadata": {
    "jp-MarkdownHeadingCollapsed": true,
    "pycharm": {
     "is_executing": false,
     "name": "#%%\n"
    },
    "tags": []
   },
   "source": [
    "## ipspikesDataExplorer - 3D Interactive Spike and Behavior Plotter"
   ]
  },
  {
   "cell_type": "code",
   "execution_count": null,
   "id": "3ac70061-9e27-48cc-ae89-b01836c3d4c2",
   "metadata": {
    "pycharm": {
     "is_executing": false,
     "name": "#%%\n"
    },
    "scrolled": true
   },
   "outputs": [],
   "source": [
    "pActiveSpikesBehaviorPlotter = None\n",
    "display_output = display_output | curr_active_pipeline.display('_display_3d_interactive_spike_and_behavior_browser', active_config_name, extant_plotter=display_output.get('pActiveSpikesBehaviorPlotter', None)) # Works now!\n",
    "ipspikesDataExplorer = display_output['ipspikesDataExplorer']\n",
    "display_output['pActiveSpikesBehaviorPlotter'] = display_output.pop('plotter') # rename the key from the generic \"plotter\" to \"pActiveSpikesBehaviorPlotter\" to avoid collisions with others\n",
    "pActiveSpikesBehaviorPlotter = display_output['pActiveSpikesBehaviorPlotter']"
   ]
  },
  {
   "cell_type": "code",
   "execution_count": null,
   "id": "a1c468be-a227-4ad8-96bb-23577e1f588e",
   "metadata": {
    "pycharm": {
     "is_executing": false,
     "name": "#%%\n"
    },
    "scrolled": true
   },
   "outputs": [],
   "source": [
    "## Sync ipspikesDataExplorer to raster window:\n",
    "extra_interactive_spike_behavior_browser_sync_connection = spike_raster_window.connect_additional_controlled_plotter(controlled_plt=ipspikesDataExplorer)\n",
    "# extra_interactive_spike_behavior_browser_sync_connection = _connect_additional_controlled_plotter(spike_raster_window.spike_raster_plt_2d, ipspikesDataExplorer)"
   ]
  },
  {
   "cell_type": "markdown",
   "id": "7c7485f6-3d15-4681-9dc1-722b4ca67d90",
   "metadata": {
    "pycharm": {
     "is_executing": false,
     "name": "#%%\n"
    }
   },
   "source": [
    "### Test Programmatic Updating of the ipspikesDataExplorer"
   ]
  },
  {
   "cell_type": "code",
   "execution_count": null,
   "id": "843919bd-e5f6-4ae0-b85d-775988be9312",
   "metadata": {
    "pycharm": {
     "is_executing": false,
     "name": "#%%\n"
    },
    "scrolled": true
   },
   "outputs": [],
   "source": [
    "ipspikesDataExplorer.spikes_main_historical.VisibilityOff()\n",
    "# ipspikesDataExplorer."
   ]
  },
  {
   "cell_type": "code",
   "execution_count": null,
   "id": "7d2a1570-cba6-4169-8da9-13bf495467e3",
   "metadata": {
    "pycharm": {
     "is_executing": false,
     "name": "#%%\n"
    },
    "scrolled": true
   },
   "outputs": [],
   "source": [
    "np.shape(ipspikesDataExplorer.params.flattened_spike_positions_list) # (2, 102139)\n",
    "np.shape(ipspikesDataExplorer.flattened_spike_times) # (102139,)\n",
    "\n",
    "recent_spikes_mesh = ipspikesDataExplorer.plots['spikes_main_recent_only']\n",
    "# ipspikesDataExplorer.plots.keys() # dict_keys(['spikes_main_historical', 'spikes_main_recent_only', 'animal_location_trail', 'animal_current_location_point', 'maze_bg'])\n",
    "# , show_edges=True"
   ]
  },
  {
   "cell_type": "code",
   "execution_count": null,
   "id": "c65e6082-7879-4482-91b9-2fb298090554",
   "metadata": {
    "pycharm": {
     "is_executing": false,
     "name": "#%%\n"
    },
    "scrolled": true
   },
   "outputs": [],
   "source": [
    "ipspikesDataExplorer.spikes_main_historical.AddPosition((0.0, 0.0, (-1.1*10)))"
   ]
  },
  {
   "cell_type": "markdown",
   "id": "eff8fd05-723a-4f80-8a3e-bf8a3821bf7d",
   "metadata": {},
   "source": [
    "## TimeSynchronizedPlotters - for plotting time-dependent placefields (active_pf_2D_dt) "
   ]
  },
  {
   "cell_type": "code",
   "execution_count": null,
   "id": "b3e7a2a7-0cb8-4b9f-bad6-c24577ba972c",
   "metadata": {},
   "outputs": [],
   "source": [
    "active_pf_2D_dt.reset()\n",
    "active_pf_2D_dt.update(t=45.0)"
   ]
  },
  {
   "cell_type": "markdown",
   "id": "b3e449ca-daff-4ca7-9dad-964cf27927e0",
   "metadata": {},
   "source": [
    "### TimeSynchronizedOccupancyPlotter"
   ]
  },
  {
   "cell_type": "code",
   "execution_count": null,
   "id": "c9382649-22d0-4e12-b520-5e1d3ee9c9cc",
   "metadata": {},
   "outputs": [],
   "source": [
    "from pyphoplacecellanalysis.Pho2D.PyQtPlots.TimeSynchronizedPlotters.TimeSynchronizedOccupancyPlotter import TimeSynchronizedOccupancyPlotter\n",
    "curr_sync_occupancy_plotter = TimeSynchronizedOccupancyPlotter(active_pf_2D_dt)\n",
    "curr_sync_occupancy_plotter.show()"
   ]
  },
  {
   "cell_type": "code",
   "execution_count": null,
   "id": "b4515354-3249-4460-beae-4f4347e776a4",
   "metadata": {},
   "outputs": [],
   "source": [
    "# Control Occupancy Plotter by spike_raster_window:\n",
    "occupancy_raster_window_sync_connection = spike_raster_window.connection_man.connect_drivable_to_driver(drivable=curr_sync_occupancy_plotter, driver=spike_raster_window.spike_raster_plt_2d,\n",
    "                                                       custom_connect_function=(lambda driver, drivable: pg.SignalProxy(driver.window_scrolled, delay=0.2, rateLimit=60, slot=drivable.on_window_changed_rate_limited)))"
   ]
  },
  {
   "cell_type": "code",
   "execution_count": null,
   "id": "a37a4657-2d1c-410d-bd3a-06abd004bad7",
   "metadata": {},
   "outputs": [],
   "source": [
    "# curr_sync_occupancy_plotter.occupancy_mode_to_render = 'num_pos_samples_occupancy'\n",
    "curr_sync_occupancy_plotter.occupancy_mode_to_render = 'curr_num_pos_samples_smoothed_occupancy_map'\n",
    "\n"
   ]
  },
  {
   "cell_type": "markdown",
   "id": "95e8ba70-173a-4719-abc3-1856582027d6",
   "metadata": {},
   "source": [
    "### TimeSynchronizedPlacefieldsPlotter"
   ]
  },
  {
   "cell_type": "code",
   "execution_count": null,
   "id": "7a184c43-26be-494d-84dc-af41e6906002",
   "metadata": {},
   "outputs": [],
   "source": [
    "from pyphoplacecellanalysis.Pho2D.PyQtPlots.TimeSynchronizedPlotters.TimeSynchronizedPlacefieldsPlotter import TimeSynchronizedPlacefieldsPlotter\n",
    "curr_placefields_plotter = TimeSynchronizedPlacefieldsPlotter(active_pf_2D_dt)\n",
    "curr_placefields_plotter.show()"
   ]
  },
  {
   "cell_type": "code",
   "execution_count": null,
   "id": "fe768323-7090-4dca-939e-2d502d079de1",
   "metadata": {},
   "outputs": [],
   "source": [
    "# Control Placefields Plotter by spike_raster_window:\n",
    "placefields_raster_window_sync_connection = spike_raster_window.connection_man.connect_drivable_to_driver(drivable=curr_placefields_plotter, driver=spike_raster_window.spike_raster_plt_2d,\n",
    "                                                       custom_connect_function=(lambda driver, drivable: pg.SignalProxy(driver.window_scrolled, delay=0.2, rateLimit=60, slot=drivable.on_window_changed_rate_limited)))"
   ]
  },
  {
   "cell_type": "markdown",
   "id": "eb18a15d-dd8c-4973-8316-7e9e2a622e11",
   "metadata": {
    "jp-MarkdownHeadingCollapsed": true,
    "pycharm": {
     "is_executing": false,
     "name": "#%%\n"
    },
    "tags": []
   },
   "source": [
    "## Updated Color Config Handling"
   ]
  },
  {
   "cell_type": "code",
   "execution_count": null,
   "id": "bda8eb46-1aca-4646-9190-50cffa7552b5",
   "metadata": {
    "pycharm": {
     "is_executing": false,
     "name": "#%%\n"
    }
   },
   "outputs": [],
   "source": [
    "ipcDataExplorer.active_neuron_render_configs"
   ]
  },
  {
   "cell_type": "code",
   "execution_count": null,
   "id": "b2aa52bc-eaa3-4c3b-bddd-2602b120ad63",
   "metadata": {
    "pycharm": {
     "is_executing": false,
     "name": "#%%\n"
    }
   },
   "outputs": [],
   "source": [
    "# [SingleNeuronPlottingExtended(color='#843c39', extended_values_dictionary={}, isVisible=False, name='2', spikesVisible=False),\n",
    "#  SingleNeuronPlottingExtended(color='#9d514e', extended_values_dictionary={}, isVisible=False, name='3', spikesVisible=False),\n",
    "#  ...\n",
    "# ]"
   ]
  },
  {
   "cell_type": "code",
   "execution_count": null,
   "id": "a56ee0e0-6db3-4b25-8d24-05b7a7190311",
   "metadata": {
    "pycharm": {
     "is_executing": false,
     "name": "#%%\n"
    }
   },
   "outputs": [],
   "source": [
    "test_updated_configs_colors_map[3] = '#333333'"
   ]
  },
  {
   "cell_type": "code",
   "execution_count": null,
   "id": "42b57cec-6199-4917-98b8-3aae10460e07",
   "metadata": {
    "pycharm": {
     "is_executing": false,
     "name": "#%%\n"
    }
   },
   "outputs": [],
   "source": [
    "# Test applying changes to configs:\n",
    "active_configs_map, updated_ids_list, updated_configs_list = _test_apply_updated_colors_map_to_configs(active_configs_map, test_updated_configs_colors_map)\n",
    "# active_configs_map"
   ]
  },
  {
   "cell_type": "code",
   "execution_count": null,
   "id": "bb99d50f-d3dd-43d0-8507-0f5740540b30",
   "metadata": {
    "pycharm": {
     "is_executing": false,
     "name": "#%%\n"
    }
   },
   "outputs": [],
   "source": [
    "## Test applying it to the Qt widgets:\n",
    "# ipcDataExplorer.find_rows_matching_cell_ids\n",
    "\n",
    "ipcDataExplorer.active_neuron_render_configs"
   ]
  },
  {
   "cell_type": "code",
   "execution_count": null,
   "id": "61d060ca-b27f-43e1-bd20-1b560f525f0a",
   "metadata": {
    "pycharm": {
     "is_executing": false,
     "name": "#%%\n"
    }
   },
   "outputs": [],
   "source": [
    "test_updated_configs_colors_map"
   ]
  },
  {
   "cell_type": "code",
   "execution_count": null,
   "id": "56380160-73d7-4a2b-8f34-9ada12680466",
   "metadata": {
    "pycharm": {
     "is_executing": false,
     "name": "#%%\n"
    }
   },
   "outputs": [],
   "source": [
    "# updated_ids_list\n",
    "updated_configs_list"
   ]
  },
  {
   "cell_type": "code",
   "execution_count": null,
   "id": "ccccf2a9-c29c-4a78-ba95-b7c547f65db5",
   "metadata": {
    "pycharm": {
     "is_executing": false,
     "name": "#%%\n"
    }
   },
   "outputs": [],
   "source": [
    "# ipcDataExplorer.update_spikes()\n",
    "# ipcDataExplorer.gui.\n",
    "# placefieldControlsContainerWidget\n",
    "\n",
    "ipcDataExplorer.neuron_id_pf_widgets_map = _build_id_index_configs_dict(pf_widgets)\n",
    "apply_updated_configs_to_pf_widgets(ipcDataExplorer.neuron_id_pf_widgets_map, active_configs_map)\n",
    "\n",
    "\n",
    "# neuron_id_pf_widgets_map\n",
    "\n",
    "# for a_pf_ctrl_widget in pf_widgets:\n",
    "#     print(f'{a_pf_ctrl_widget.name}')\n",
    "#     # int(a_config.name)"
   ]
  },
  {
   "cell_type": "code",
   "execution_count": null,
   "id": "7744eaee-a85c-48ce-8732-a3eba59c2733",
   "metadata": {
    "pycharm": {
     "is_executing": false,
     "name": "#%%\n"
    }
   },
   "outputs": [],
   "source": [
    "test_updated_colors_map = {3: '#999999'}\n",
    "ipcDataExplorer.on_config_update(test_updated_colors_map)"
   ]
  },
  {
   "cell_type": "code",
   "execution_count": null,
   "id": "c4874af9-e994-45b4-8c39-1697b633838d",
   "metadata": {
    "pycharm": {
     "is_executing": false,
     "name": "#%%\n"
    }
   },
   "outputs": [],
   "source": [
    "# Need to rebuild the spikes colors and such upon updating the configs. \n",
    "# should take a config and produce the changes needed to recolor the neurons.\n",
    "ipcDataExplorer.update_spikes_df_color_columns(test_updated_colors_map)\n",
    "ipcDataExplorer.update_rendered_placefields(test_updated_colors_map)"
   ]
  },
  {
   "cell_type": "code",
   "execution_count": null,
   "id": "2f7679d0-1be4-4693-945b-6916bd5a4556",
   "metadata": {
    "pycharm": {
     "is_executing": false,
     "name": "#%%\n"
    }
   },
   "outputs": [],
   "source": [
    "_test_neuron_id = 3\n",
    "pdata_currActiveNeuronTuningCurve_plotActor = ipcDataExplorer.plots['tuningCurvePlotActors'][_test_neuron_id]['main'] # get the main plot actor from the CascadingDynamicPlotsList\n",
    "pdata_currActiveNeuronTuningCurve_Points_plotActor = ipcDataExplorer.plots['tuningCurvePlotActors'][_test_neuron_id]['points']\n",
    "\n",
    "# add_mesh"
   ]
  },
  {
   "cell_type": "code",
   "execution_count": null,
   "id": "ff8972a9-fb3f-44c8-8854-1178c71e8d72",
   "metadata": {
    "pycharm": {
     "is_executing": false,
     "name": "#%%\n"
    }
   },
   "outputs": [],
   "source": [
    "ipcDataExplorer.enable_overwrite_invalid_fragile_linear_neuron_IDXs = True"
   ]
  },
  {
   "cell_type": "code",
   "execution_count": null,
   "id": "e820c498-5865-471b-a7bc-2c4c5c650f89",
   "metadata": {
    "pycharm": {
     "is_executing": false,
     "name": "#%%\n"
    }
   },
   "outputs": [],
   "source": [
    "ipcDataExplorer.helper_setup_neuron_colors_and_order(ipcDataExplorer, debug_print=True)"
   ]
  },
  {
   "cell_type": "code",
   "execution_count": null,
   "id": "462f77cc-7376-4382-8345-149eba514ad8",
   "metadata": {
    "pycharm": {
     "is_executing": false,
     "name": "#%%\n"
    }
   },
   "outputs": [],
   "source": [
    "from vedo.io import exportWindow, write\n",
    "# exportWindow('testOutFilePho.html')\n",
    "# exportWindow('testOutFilePho.x3d')\n",
    "\n",
    "# pActiveTuningCurvesPlotter.save('testPlotterSavePho.obj')\n",
    "# write(pActiveTuningCurvesPlotter,'testPlotterSavePho.obj')\n",
    "# pActiveTuningCurvesPlotter.write_frame('testPlotter_write_frame_Pho')\n",
    "# pActiveTuningCurvesPlotter.export('testPlotterSavePho.x3d')\n",
    "\n",
    "output_path = Path(r'C:\\Users\\pho\\repos\\PhoPy3DPositionAnalysis2021\\output\\2006-6-07_11-26-53\\maze1')\n",
    "final_output_path = output_path.joinpath('testPlotter_export_obj_Pho')\n",
    "\n",
    "\n",
    "## Success, but ugly:\n",
    "pActiveTuningCurvesPlotter.export_vtkjs(final_output_path.with_suffix('.vtkjs'))\n",
    "# pActiveTuningCurvesPlotter.export_gltf(final_output_path.with_suffix('.gltf'))\n",
    "# pActiveTuningCurvesPlotter.export_html(final_output_path.with_suffix('.html')) ## First export that actually works with BackgroundPlotter\n",
    "# pActiveTuningCurvesPlotter.export_obj(final_output_path.with_suffix('.obj')) ## Works for exporting .obj files"
   ]
  },
  {
   "cell_type": "code",
   "execution_count": null,
   "id": "1097b8b4-5fbc-4124-a187-dcee9ccf7090",
   "metadata": {
    "pycharm": {
     "is_executing": false,
     "name": "#%%\n"
    }
   },
   "outputs": [],
   "source": [
    "import pyvista as pv\n",
    "pv.vtk_version_info"
   ]
  },
  {
   "cell_type": "code",
   "execution_count": null,
   "id": "270d1a2c-7f56-495a-bd6e-30e76414bef7",
   "metadata": {
    "pycharm": {
     "is_executing": false,
     "name": "#%%\n"
    }
   },
   "outputs": [],
   "source": [
    "# ipcDataExplorer.p.enable_cell_picking(callback=)\n",
    "ipcDataExplorer.pyqtConfigure()"
   ]
  },
  {
   "cell_type": "code",
   "execution_count": null,
   "id": "7d35fb45-9c61-412f-a522-03c90609f59e",
   "metadata": {
    "pycharm": {
     "is_executing": false,
     "name": "#%%\n"
    }
   },
   "outputs": [],
   "source": [
    "p.enable_point_picking()"
   ]
  },
  {
   "cell_type": "code",
   "execution_count": null,
   "id": "03458494-5342-4fd0-b866-2191409d1dac",
   "metadata": {
    "pycharm": {
     "is_executing": false,
     "name": "#%%\n"
    }
   },
   "outputs": [],
   "source": [
    "ipcDataExplorer.active_config # pf_neuron_identities, pf_colors, pf_sort_ind\n",
    "\n",
    "# ipcDataExplorer.active_config.keys()\n",
    "np.shape(ipcDataExplorer.active_config.plotting_config['pf_colormap']) # (39, 4)\n",
    "\n",
    "# print_keys_if_possible('plotting_config', ipcDataExplorer.active_config.plotting_config)\n",
    "\n",
    "print_keys_if_possible('ipcDataExplorer', ipcDataExplorer)\n",
    "\n",
    "# - plotting_config: <class 'pyphoplacecellanalysis.General.Configs.DynamicConfigs.PlottingConfig'>\n",
    "    # - pf_neuron_identities: <class 'list'> - (39,)\n",
    "    # - pf_sort_ind: <class 'numpy.ndarray'> - (39,)\n",
    "    # - pf_colors: <class 'numpy.ndarray'> - (4, 39)\n",
    "    # - pf_colormap: <class 'numpy.ndarray'> - (39, 4)"
   ]
  },
  {
   "cell_type": "code",
   "execution_count": null,
   "id": "d4ec2318-647c-4f2a-8d93-8bf622273d41",
   "metadata": {
    "pycharm": {
     "is_executing": false,
     "name": "#%%\n"
    }
   },
   "outputs": [],
   "source": [
    "len(ipcDataExplorer.params.neuron_colors_hex) # 39"
   ]
  },
  {
   "cell_type": "code",
   "execution_count": null,
   "id": "e191dfb3-7e9b-42d3-9505-5adfabf920e7",
   "metadata": {
    "pycharm": {
     "is_executing": false,
     "name": "#%%\n"
    }
   },
   "outputs": [],
   "source": [
    "# np.shape(ipcDataExplorer.params.neuron_colors) # (4, 39)\n",
    "# len(ipcDataExplorer.params.reverse_cellID_to_tuning_curve_idx_lookup_map) # 39\n",
    "\n",
    "# for neuron_id, tuning_curve_idx in ipcDataExplorer.params.reverse_cellID_to_tuning_curve_idx_lookup_map.items():\n",
    "#     curr_color = ipcDataExplorer.params.neuron_colors[:, tuning_curve_idx]\n",
    "    \n",
    "\n",
    "\n",
    "final_perfect_colormap = {int(neuron_id):ipcDataExplorer.params.neuron_colors_hex[tuning_curve_idx] for neuron_id, tuning_curve_idx in ipcDataExplorer.params.reverse_cellID_to_tuning_curve_idx_lookup_map.items()}\n",
    "# final_perfect_colormap = {int(neuron_id):list(np.squeeze(ipcDataExplorer.params.neuron_colors[:, tuning_curve_idx])) for neuron_id, tuning_curve_idx in ipcDataExplorer.params.reverse_cellID_to_tuning_curve_idx_lookup_map.items()}\n",
    "# final_perfect_colormap = {int(neuron_id):QtGui.QColor(*np.squeeze(ipcDataExplorer.params.neuron_colors[:, tuning_curve_idx])) for neuron_id, tuning_curve_idx in ipcDataExplorer.params.reverse_cellID_to_tuning_curve_idx_lookup_map.items()}\n",
    "final_perfect_colormap"
   ]
  },
  {
   "cell_type": "code",
   "execution_count": null,
   "id": "7f30b8c2-9baf-45e5-b3b7-f3dd8d884dfe",
   "metadata": {
    "pycharm": {
     "is_executing": false,
     "name": "#%%\n"
    }
   },
   "outputs": [],
   "source": [
    "len(final_perfect_colormap) # 39"
   ]
  },
  {
   "cell_type": "code",
   "execution_count": null,
   "id": "dda1cd93-54cc-4868-a04b-af2e2b56eab8",
   "metadata": {
    "pycharm": {
     "is_executing": false,
     "name": "#%%\n"
    }
   },
   "outputs": [],
   "source": [
    "ipcDataExplorer.on_config_update(updated_colors_map=final_perfect_colormap)"
   ]
  },
  {
   "cell_type": "code",
   "execution_count": null,
   "id": "7e33c762-3348-4b7d-ab39-80ec465458c2",
   "metadata": {
    "pycharm": {
     "is_executing": false,
     "name": "#%%\n"
    }
   },
   "outputs": [],
   "source": [
    "partial_perfect_colormap = {24: [0.9098039215686274, 0.8075259642318465, 0.6095686274509803, 1.0],\n",
    " 25: [1.0, 0.9148351648351648, 0.75, 1.0],\n",
    " 26: [0.388235294117647, 0.4745098039215686, 0.22352941176470587, 1.0],\n",
    " 27: [0.48533923796791445, 0.5796078431372549, 0.3053719008264463, 1.0]}\n",
    "ipcDataExplorer.on_update_spikes_colors(neuron_id_color_update_dict=partial_perfect_colormap)"
   ]
  },
  {
   "cell_type": "code",
   "execution_count": null,
   "id": "643a492d-982d-433b-8063-2ab1dff1705a",
   "metadata": {
    "pycharm": {
     "is_executing": false,
     "name": "#%%\n"
    }
   },
   "outputs": [],
   "source": [
    "QtGui.QColor(*(0.5176470588235295, 0.23529411764705882, 0.22352941176470587, 1.0))"
   ]
  },
  {
   "cell_type": "code",
   "execution_count": null,
   "id": "07042754-37ac-4dd3-9507-742df5537e24",
   "metadata": {
    "pycharm": {
     "is_executing": false,
     "name": "#%%\n"
    }
   },
   "outputs": [],
   "source": [
    "# don't use this one!\n",
    "len(ipcDataExplorer.params.reverse_cellID_idx_lookup_map) # 40"
   ]
  },
  {
   "cell_type": "code",
   "execution_count": null,
   "id": "83ba315a-744f-4700-b9fc-9f49717c9e8f",
   "metadata": {
    "pycharm": {
     "is_executing": false,
     "name": "#%%\n"
    }
   },
   "outputs": [],
   "source": [
    "ipcDataExplorer.active_neuron_render_configs # confirmed same configs as active_tuning_curve_render_configs"
   ]
  },
  {
   "cell_type": "code",
   "execution_count": null,
   "id": "6059bd2a-85d4-405d-8314-6f450238d56b",
   "metadata": {
    "pycharm": {
     "is_executing": false,
     "name": "#%%\n"
    }
   },
   "outputs": [],
   "source": [
    "# ipcDataExplorer.setup_spike_rendering_mixin()\n",
    "\n",
    "ipcDataExplorer.spikes_df # first many entries all look like R G B columns are 0.0 even if rgb_hex isn't and is different!\n",
    "\n",
    "# np.count_nonzero(ipcDataExplorer.spikes_df.R.to_numpy()) # 5989\n",
    "ipcDataExplorer.spikes_df.columns\n",
    "\n",
    "ipcDataExplorer.spikes_df[['aclu', 'fragile_linear_neuron_IDX', 'neuron_IDX']] ## BREAKTHROUGH: 'fragile_linear_neuron_IDX' and 'neuron_IDX' are definitely not equal (but I think they should be)"
   ]
  },
  {
   "cell_type": "code",
   "execution_count": null,
   "id": "9a23d626-59d6-4e01-befb-e75e4cd234c1",
   "metadata": {
    "pycharm": {
     "is_executing": false,
     "name": "#%%\n"
    }
   },
   "outputs": [],
   "source": [
    "np.unique(ipcDataExplorer.spikes_df['fragile_linear_neuron_IDX'])\n",
    "## MAJOR CONCERN: 'fragile_linear_neuron_IDX' values make no sense at all. They aren't even equal to 'aclu'\n",
    "# array([ 0,  1,  2,  3,  5,  6,  7,  8,  9, 10, 12, 15, 16, 19, 20, 21, 22, 23, 24, 25, 26, 27, 31, 32, 36, 37, 40, 42, 43, 44, 45, 46, 51, 53, 55, 56, 59, 60, 61, 62])"
   ]
  },
  {
   "cell_type": "code",
   "execution_count": null,
   "id": "398a9428-b946-45da-9fac-8ef991f940b4",
   "metadata": {
    "pycharm": {
     "is_executing": false,
     "name": "#%%\n"
    }
   },
   "outputs": [],
   "source": [
    "np.unique(ipcDataExplorer.spikes_df['neuron_IDX'])"
   ]
  },
  {
   "cell_type": "code",
   "execution_count": null,
   "id": "893cde2a-0c9f-49f0-898f-a5582c39c3ac",
   "metadata": {
    "pycharm": {
     "is_executing": false,
     "name": "#%%\n"
    }
   },
   "outputs": [],
   "source": [
    "ipcDataExplorer.spikes_df['old_fragile_linear_neuron_IDX']"
   ]
  },
  {
   "cell_type": "code",
   "execution_count": null,
   "id": "f9bd9fd7-ffe6-41a9-b716-db326360f00b",
   "metadata": {
    "pycharm": {
     "is_executing": false,
     "name": "#%%\n"
    }
   },
   "outputs": [],
   "source": [
    "ipcDataExplorer.spikes_df[['aclu', 'fragile_linear_neuron_IDX', 'neuron_IDX', 'old_fragile_linear_neuron_IDX']] ## GOOD: after rebuilding the 'fragile_linear_neuron_IDX' and 'neuron_IDX' columns now match as expected."
   ]
  },
  {
   "cell_type": "code",
   "execution_count": null,
   "id": "fa2dc6a4-97f6-4dc1-86b7-477ab0f7ec1d",
   "metadata": {
    "pycharm": {
     "is_executing": false,
     "name": "#%%\n"
    }
   },
   "outputs": [],
   "source": [
    "ipcDataExplorer.neuron_ids"
   ]
  },
  {
   "cell_type": "code",
   "execution_count": null,
   "id": "5d819b67-053a-4fe1-89e1-26a183be6e9f",
   "metadata": {
    "pycharm": {
     "is_executing": false,
     "name": "#%%\n"
    }
   },
   "outputs": [],
   "source": [
    "# ipcDataExplorer.update_active_spikes(\n",
    "ipcDataExplorer.update_spikes()"
   ]
  },
  {
   "cell_type": "code",
   "execution_count": null,
   "id": "ea8ef463-a283-4d0b-a9bd-8a57823c22ec",
   "metadata": {
    "pycharm": {
     "is_executing": false,
     "name": "#%%\n"
    }
   },
   "outputs": [],
   "source": [
    "## Rebuild the IDXs\n",
    "ipcDataExplorer.spikes_df.spikes._obj, neuron_id_to_new_IDX_map_new_method = ipcDataExplorer.spikes_df.spikes.rebuild_fragile_linear_neuron_IDXs(debug_print=True)\n",
    "new_neuron_IDXs = list(neuron_id_to_new_IDX_map_new_method.values())"
   ]
  },
  {
   "cell_type": "code",
   "execution_count": null,
   "id": "c515da07-d574-4d9c-8b77-1bdbbc80a2c9",
   "metadata": {
    "pycharm": {
     "is_executing": false,
     "name": "#%%\n"
    }
   },
   "outputs": [],
   "source": [
    "ipcDataExplorer.params.cell_spike_opaque_colors_dict # this is what spikes_df's 'R', 'G', 'B' columns set from.\n",
    "# keys are neuron_IDX format"
   ]
  },
  {
   "cell_type": "code",
   "execution_count": null,
   "id": "e925ff62-a230-4907-92a7-1f43b0cca1fb",
   "metadata": {
    "pycharm": {
     "is_executing": false,
     "name": "#%%\n"
    }
   },
   "outputs": [],
   "source": [
    "# Disable the bar on the docks:\n",
    "dDisplayItem1 = root_dockAreaWindow.dynamic_display_dict['Dock1 - Controls']['Dock1 - Controls']['dock']\n",
    "dDisplayItem2 = root_dockAreaWindow.dynamic_display_dict['Dock2 - Content']['Dock2 - Content']['dock']\n",
    "\n",
    "dDisplayItem1.hideTitleBar()\n",
    "dDisplayItem2.hideTitleBar()"
   ]
  },
  {
   "cell_type": "code",
   "execution_count": null,
   "id": "f1eef3b5-5827-4deb-b165-6df85bce61e4",
   "metadata": {
    "pycharm": {
     "is_executing": false,
     "name": "#%%\n"
    }
   },
   "outputs": [],
   "source": [
    "ipcDataExplorer.params.end_button_helper_obj.btn_show_all_callback(True)"
   ]
  },
  {
   "cell_type": "code",
   "execution_count": null,
   "id": "f48ba047-fc62-4846-ad1c-69649990098d",
   "metadata": {
    "pycharm": {
     "is_executing": false,
     "name": "#%%\n"
    }
   },
   "outputs": [],
   "source": [
    "# ipcDataExplorer.update_tuning_curve_configs()\n",
    "ipcDataExplorer.update_neuron_render_configs()"
   ]
  },
  {
   "cell_type": "code",
   "execution_count": null,
   "id": "d1c59dcb-0bcf-4212-8c7b-dce729909565",
   "metadata": {
    "pycharm": {
     "is_executing": false,
     "name": "#%%\n"
    },
    "scrolled": true
   },
   "outputs": [],
   "source": [
    "# ipcDataExplorer.params.cell_spike_colors_dict\n",
    "# ipcDataExplorer.active_neuron_render_configs\n",
    "\n",
    "active_placefields = ipcDataExplorer.params.active_epoch_placefields\n",
    "# ipcDataExplorer.params.pf_color\n",
    "pf_colors = ipcDataExplorer.params.pf_colors\n",
    "if np.shape(pf_colors)[1] > 3:\n",
    "    opaque_pf_colors = pf_colors[0:3,:].copy() # get only the RGB values, discarding any potnential alpha information\n",
    "else:\n",
    "    opaque_pf_colors = pf_colors.copy()\n",
    "\n",
    "occupancy = active_placefields.ratemap.occupancy.copy()\n",
    "# curr_tuning_curves = active_placefields.ratemap.tuning_curves.copy() # (39, 59, 21)\n",
    "curr_tuning_curves = active_placefields.ratemap.normalized_tuning_curves.copy() # (39, 59, 21)\n",
    "good_placefield_neuronIDs = ipcDataExplorer.params.pf_unit_ids\n",
    "# np.shape(curr_tuning_curves) # (39, 59, 21)\n",
    "# np.isnan(curr_tuning_curves)\n",
    "# np.count_nonzero(np.isnan(curr_tuning_curves))\n",
    "\n",
    "\n",
    "# Never Visited Mask\n",
    "# occupancy"
   ]
  },
  {
   "cell_type": "code",
   "execution_count": null,
   "id": "35581810-d1b5-4098-9d63-c110ace2cda7",
   "metadata": {
    "pycharm": {
     "is_executing": false,
     "name": "#%%\n"
    },
    "scrolled": true
   },
   "outputs": [],
   "source": [
    "# never_visited_occupancy_mask\n",
    "i = 0\n",
    "curr_active_neuron_ID = good_placefield_neuronIDs[i]\n",
    "curr_active_neuron_color = pf_colors[:, i]\n",
    "curr_active_neuron_opaque_color = opaque_pf_colors[:,i]\n",
    "curr_active_neuron_pf_identifier = 'pf[{}]'.format(curr_active_neuron_ID)\n",
    "curr_active_neuron_tuning_Curve = np.squeeze(curr_tuning_curves[i,:,:]).T.copy() # A single tuning curve, (21, 59)\n",
    "# curr_active_neuron_tuning_Curve"
   ]
  },
  {
   "cell_type": "code",
   "execution_count": null,
   "id": "391ba34c-757b-4270-b7b4-6d15bcc605a9",
   "metadata": {
    "pycharm": {
     "is_executing": false,
     "name": "#%%\n"
    }
   },
   "outputs": [],
   "source": [
    "curr_active_plot_actor = ipcDataExplorer.plots['tuningCurvePlotActors'][i]\n",
    "curr_active_plot_data = ipcDataExplorer.plots_data['tuningCurvePlotData'][i]\n",
    "curr_active_plot_data\n",
    "pdata_currActiveNeuronTuningCurve = curr_active_plot_data['pdata_currActiveNeuronTuningCurve'] # StructuredGrid\n",
    "\n",
    "# Test Extracting Points:\n",
    "curr_mesh_extracted_pts = pdata_currActiveNeuronTuningCurve.extract_points(pdata_currActiveNeuronTuningCurve.points[:, 2] > 0)\n",
    "type(curr_mesh_extracted_pts) # UnstructuredGrid"
   ]
  },
  {
   "cell_type": "code",
   "execution_count": null,
   "id": "3ceec384-e5bb-4140-99a0-c5066b0ef05e",
   "metadata": {
    "pycharm": {
     "is_executing": false,
     "name": "#%%\n"
    },
    "scrolled": true
   },
   "outputs": [],
   "source": [
    "# Add labels to points on the yz plane (where x == 0)\n",
    "points = pdata_currActiveNeuronTuningCurve.points\n",
    "# mask = points[:, 0] == 0\n",
    "mask = points[:, 2] > 0.1\n",
    "pActiveTuningCurvesPlotter.add_point_labels(points[mask], points[mask].tolist(), point_size=20, font_size=36)"
   ]
  },
  {
   "cell_type": "code",
   "execution_count": null,
   "id": "ac2979d7-5d5d-4984-bdbe-a6f7006b03a8",
   "metadata": {
    "pycharm": {
     "is_executing": false,
     "name": "#%%\n"
    },
    "scrolled": true
   },
   "outputs": [],
   "source": [
    "np.shape(never_visited_occupancy_mask) # (59, 21)\n",
    "np.sum(curr_active_neuron_tuning_Curve[~never_visited_occupancy_mask.T]) # (735,), 7.9040396441924194\n",
    "curr_active_neuron_tuning_Curve[~never_visited_occupancy_mask.T] = np.nan # set non-visited locations to NaN\n",
    "# NOTE: the sum of all visited locations is 36.44356525201446 and those non-visited locations is 7.9040396441924194\n",
    "curr_active_neuron_tuning_Curve"
   ]
  },
  {
   "cell_type": "code",
   "execution_count": null,
   "id": "6ee82014-0295-4c1a-94d7-7986b1cf8d02",
   "metadata": {
    "pycharm": {
     "is_executing": false,
     "name": "#%%\n"
    },
    "scrolled": true
   },
   "outputs": [],
   "source": [
    "curr_active_pipeline.active_configs[active_config_name].keys()"
   ]
  },
  {
   "cell_type": "code",
   "execution_count": null,
   "id": "5d16525f-8079-4241-87a5-940a4b0bca90",
   "metadata": {
    "pycharm": {
     "is_executing": false,
     "name": "#%%\n"
    },
    "scrolled": true
   },
   "outputs": [],
   "source": [
    "\n",
    "updated_video_output_config = curr_active_pipeline.active_configs[active_config_name]['video_output_config']\n",
    "updated_video_output_config.active_frame_range = np.arange(100, 480, 1)\n",
    "updated_video_output_config"
   ]
  },
  {
   "cell_type": "code",
   "execution_count": null,
   "id": "46f6fda6-b3c2-44e1-871a-72b136edd617",
   "metadata": {
    "pycharm": {
     "is_executing": false,
     "name": "#%%\n"
    },
    "scrolled": true
   },
   "outputs": [],
   "source": [
    "# Enable video output by setting: active_is_video_output_mode\n",
    "updated_video_output_config.active_is_video_output_mode = True\n"
   ]
  },
  {
   "cell_type": "code",
   "execution_count": null,
   "id": "42e9d25a-98b4-4769-bc7d-7e4b1f1868e3",
   "metadata": {
    "pycharm": {
     "is_executing": false,
     "name": "#%%\n"
    },
    "scrolled": true
   },
   "outputs": [],
   "source": [
    "import pyvista as pv\n",
    "from pyvista import examples\n",
    "# Download skybox\n",
    "cubemap = examples.download_sky_box_cube_map()\n",
    "ipspikesDataExplorer.p.add_actor(cubemap.to_skybox())\n",
    "ipspikesDataExplorer.p.set_environment_texture(cubemap)  # For reflecting the environment off the mesh"
   ]
  },
  {
   "cell_type": "code",
   "execution_count": null,
   "id": "6cd25037-40c1-4192-9a5b-5f6c4ec2850d",
   "metadata": {
    "pycharm": {
     "is_executing": false,
     "name": "#%%\n"
    },
    "scrolled": true
   },
   "outputs": [],
   "source": [
    "ipspikesDataExplorer.p.enable_shadows()"
   ]
  },
  {
   "cell_type": "code",
   "execution_count": null,
   "id": "843dbbfb-ff6e-42cd-9d10-936cba53adc4",
   "metadata": {
    "pycharm": {
     "is_executing": false,
     "name": "#%%\n"
    },
    "scrolled": true
   },
   "outputs": [],
   "source": [
    "ipspikesDataExplorer.p.render()"
   ]
  },
  {
   "cell_type": "code",
   "execution_count": null,
   "id": "ab74897c-df19-4af9-9e98-a73cbeebd56e",
   "metadata": {
    "pycharm": {
     "is_executing": false,
     "name": "#%%\n"
    },
    "scrolled": true
   },
   "outputs": [],
   "source": [
    "# recent_spikes_mesh.\n",
    "ipspikesDataExplorer.params.longer_spikes_window.duration_seconds = 10.0"
   ]
  },
  {
   "cell_type": "code",
   "execution_count": null,
   "id": "622347fd-9722-4017-a75e-4f1b2aa9afe1",
   "metadata": {
    "pycharm": {
     "is_executing": false,
     "name": "#%%\n"
    },
    "scrolled": true
   },
   "outputs": [],
   "source": [
    "ipspikesDataExplorer.p.enable_depth_peeling(number_of_peels=6, occlusion_ratio=0) # Supposedly helps with translucency"
   ]
  },
  {
   "cell_type": "code",
   "execution_count": null,
   "id": "fbf101d4-2ae4-44f1-81ea-be10a78c0086",
   "metadata": {
    "pycharm": {
     "is_executing": false,
     "name": "#%%\n"
    },
    "scrolled": true
   },
   "outputs": [],
   "source": [
    "# spike_raster_window.spikes_window.on_window_changed()\n",
    "# spike_raster_window.spikes_window.update_window_start(500.0) # doesn't update anything\n",
    "# spike_raster_window.spike_raster_plt_2d.spikes_window.update_window_start(500.0) # doesn't update anything\n",
    "spike_raster_window.spike_raster_plt_2d.update_scroll_window_region(500.0, 700.0, block_signals=False)"
   ]
  },
  {
   "cell_type": "code",
   "execution_count": null,
   "id": "528139f7-d4ee-4a56-b20c-a957b322abdc",
   "metadata": {
    "pycharm": {
     "is_executing": false,
     "name": "#%%\n"
    },
    "scrolled": true
   },
   "outputs": [],
   "source": [
    "# spike_raster_window.spike_3d_to_2d_window_connection.disconnect(spike_raster_window.spike_raster_plt_3d.spikes_window.update_window_start_end)\n",
    "spike_raster_window.spike_raster_plt_2d.window_scrolled.disconnect(spike_raster_window.spike_raster_plt_3d.spikes_window.update_window_start_end)"
   ]
  },
  {
   "cell_type": "code",
   "execution_count": null,
   "id": "7a43771d-61c9-4485-a985-01e4dc662fc6",
   "metadata": {
    "pycharm": {
     "is_executing": false,
     "name": "#%%\n"
    },
    "scrolled": true
   },
   "outputs": [],
   "source": [
    "spike_raster_window.spike_raster_plt_2d.window_scrolled.disconnect()"
   ]
  },
  {
   "cell_type": "code",
   "execution_count": null,
   "id": "1e0693e0-a8a6-4d37-9ad1-3a34c225b02e",
   "metadata": {
    "pycharm": {
     "is_executing": false,
     "name": "#%%\n"
    },
    "scrolled": true
   },
   "outputs": [],
   "source": [
    "spike_raster_window.spike_raster_plt_2d.ui.scroll_window_region.sigRegionChanged.disconnect()"
   ]
  },
  {
   "cell_type": "code",
   "execution_count": null,
   "id": "73a8efe2-c97a-47ee-8241-e9ac1cbfab4d",
   "metadata": {
    "pycharm": {
     "is_executing": false,
     "name": "#%%\n"
    },
    "scrolled": true
   },
   "outputs": [],
   "source": [
    "## Need to the spike indicies that are currently visible in the raster window to programmatically update ipspikesDataExplorer's displayed spikes.\n",
    "# active_epoch_session.flattened_spiketrains.time_slice(curr_lap_spike_t_seconds.values[0], curr_lap_spike_t_seconds.values[-1]).spikes_df\n",
    "# spike_raster_window.spike_raster_plt_2d.spikes_window\n",
    "# curr_win_start, curr_win_end = spike_raster_window.spike_raster_plt_3d.spikes_window.active_time_window\n",
    "# spike_raster_window.spike_raster_plt_3d.spikes_window.active_windowed_df\n",
    "\n",
    "# spike_raster_window.spike_raster_plt_3d.spikes_window.active_windowed_df.index\n",
    "# ipspikesDataExplorer.params.curr_view_window_length_samples # 299\n",
    "# np.shape(ipspikesDataExplorer.params.pre_computed_window_sample_indicies) # (51157, 299)\n",
    "\n",
    "# np.shape(ipspikesDataExplorer.params.active_trail_opacity_values) # (299,)\n",
    "## Hopefully ipspikesDataExplorer's slider will adjust automatically?"
   ]
  },
  {
   "cell_type": "code",
   "execution_count": null,
   "id": "44f54da9-25c1-49dc-b692-fd5f602beecd",
   "metadata": {
    "pycharm": {
     "is_executing": false,
     "name": "#%%\n"
    },
    "scrolled": true
   },
   "outputs": [],
   "source": [
    "## Test disabling the user-slider:\n",
    "# ipspikesDataExplorer.interface_properties\n",
    "# interactive_timestamp_slider_actor\n",
    "# add_slider_widget\n",
    "\n",
    "## When building widgets:\n",
    "# self.p.add_callback(self.interface_properties, interval=16)  # to be smooth on 60Hz\n",
    "\n",
    "# Removes all slider widgets:\n",
    "# ipspikesDataExplorer.p.clear_slider_widgets()\n",
    "# ipspikesDataExplorer.p.clear_button_widgets() # removes the play/pause toggle checkbox so that it can be driven externally\n",
    "# ipspikesDataExplorer.p.update()\n",
    "# ipspikesDataExplorer.p.render()\n",
    "\n",
    "# ipspikesDataExplorer.p.button_widgets\n",
    "# ipspikesDataExplorer.p.receivers()\n",
    "\n",
    "# For the callback, it looks like I can check the timer here:\n",
    "callback_timer = ipspikesDataExplorer.p._callback_timer  # QTimer\n",
    "callback_timer.isActive()\n",
    "# callback_timer.isSignalConnected()\n",
    "# callback_timer.stop()\n",
    "\n",
    "ipspikesDataExplorer"
   ]
  },
  {
   "cell_type": "code",
   "execution_count": null,
   "id": "b13c74b9-65e1-40a6-81c0-f1cda66a324f",
   "metadata": {
    "pycharm": {
     "is_executing": false,
     "name": "#%%\n"
    },
    "scrolled": true
   },
   "outputs": [],
   "source": [
    "spike_raster_window.animation_active_time_window.window_duration"
   ]
  },
  {
   "cell_type": "code",
   "execution_count": null,
   "id": "6e9568e1-ae37-44f4-8326-c88362601889",
   "metadata": {
    "pycharm": {
     "is_executing": false,
     "name": "#%%\n"
    },
    "scrolled": true
   },
   "outputs": [],
   "source": [
    "# Get the times that fall within the current plot window:\n",
    "curr_win_start, curr_win_end = spike_raster_window.spike_raster_plt_3d.spikes_window.active_time_window\n",
    "# np.shape(ipspikesDataExplorer.t) # (51455,)\n",
    "\n",
    "# active_window_sample_indicies\n",
    "active_included_all_window_position_indicies = ((ipspikesDataExplorer.t > curr_win_start) & (ipspikesDataExplorer.t < curr_win_end)) # Two Sided Range Mode\n",
    "# active_included_all_window_position_indicies\n",
    "print(f'np.shape(active_included_all_window_position_indicies): {np.shape(active_included_all_window_position_indicies)}') # (51455,)\n",
    "\n",
    "# active_included_all_window_position_indicies = np.where(active_included_all_window_position_indicies) # was a boolean area, but get the indices where true instead\n",
    "active_included_all_window_position_indicies = np.squeeze(active_included_all_window_position_indicies.nonzero()) # was a boolean area, but get the indices where true instead.  (1106,)\n",
    "print(f'np.shape(active_included_all_window_position_indicies): {np.shape(active_included_all_window_position_indicies)}; active_included_all_window_position_indicies: {active_included_all_window_position_indicies}')\n",
    "\n",
    "active_num_samples = len(active_included_all_window_position_indicies)\n",
    "\n",
    "## TODO: I think active_included_all_window_position_indicies better be the same length as .params.active_trail_opacity_values and .params.active_trail_size_values\n",
    "# ipspikesDataExplorer.params.curr_view_window_length_samples\n",
    "\n",
    "max_num_samples = ipspikesDataExplorer.params.curr_view_window_length_samples # 299\n",
    "if active_num_samples > max_num_samples:\n",
    "    print(f'len(active_included_all_window_position_indicies) ({active_num_samples}) > max_num_samples ({max_num_samples}). Cutting.')\n",
    "    active_included_all_window_position_indicies = active_included_all_window_position_indicies[-max_num_samples:] # get only the last (meaning most recent) max_num_samples samples from the indicies that should be displayed\n",
    "    active_num_samples = max_num_samples # cut down to the max number of samples\n",
    "    \n",
    "print(f'np.shape(active_included_all_window_position_indicies): {np.shape(active_included_all_window_position_indicies)}, active_num_samples: {active_num_samples}') # np.shape(active_included_all_window_position_indicies): (1, 1106), active_num_samples: 1    \n",
    "\n",
    "# print(f'np.shape(active_included_all_window_position_indicies): {np.shape(active_included_all_window_position_indicies)}, active_num_samples: {active_num_samples}')    \n",
    "# ipspikesDataExplorer.x[active_included_all_window_position_indicies], ipspikesDataExplorer.y[active_included_all_window_position_indicies], ipspikesDataExplorer.z_fixed[-active_num_samples:]\n",
    "\n",
    "## Animal Position and Location Trail Plotting:\n",
    "ipspikesDataExplorer.perform_plot_location_trail('animal_location_trail', ipspikesDataExplorer.x[active_included_all_window_position_indicies], ipspikesDataExplorer.y[active_included_all_window_position_indicies], ipspikesDataExplorer.z_fixed[-active_num_samples:],\n",
    "                                     trail_fade_values=ipspikesDataExplorer.params.active_trail_opacity_values, trail_point_size_values=ipspikesDataExplorer.params.active_trail_size_values,\n",
    "                                     render=False)\n",
    "\n",
    "## Animal Current Position:\n",
    "curr_animal_point = [ipspikesDataExplorer.x[active_included_all_window_position_indicies[-1]], ipspikesDataExplorer.y[active_included_all_window_position_indicies[-1]], ipspikesDataExplorer.z_fixed[-1]]\n",
    "ipspikesDataExplorer.perform_plot_location_point('animal_current_location_point', curr_animal_point, render=False)\n",
    "\n",
    "\n",
    "\n",
    "# curr_time_fixedSegments = ipspikesDataExplorer.t[active_window_sample_indicies] # New Way"
   ]
  },
  {
   "cell_type": "code",
   "execution_count": null,
   "id": "c88ef53b-5282-4c49-80bc-83ca9ae6ab8b",
   "metadata": {
    "pycharm": {
     "is_executing": false,
     "name": "#%%\n"
    },
    "scrolled": true
   },
   "outputs": [],
   "source": [
    "curr_win_start, curr_win_end = spike_raster_window.spike_raster_plt_3d.spikes_window.active_time_window\n",
    "ipspikesDataExplorer.on_active_window_update_mesh(curr_win_start, curr_win_end, enable_position_mesh_updates=True, render=True)\n",
    "\n",
    "# ipspikesDataExplorer.on_programmatic_data_update(self, active_included_all_historical_indicies=None, active_included_recent_only_indicies=None, active_window_sample_indicies=None, curr_animal_point=None)\n",
    "\n",
    "### Lap Example of programmatic updating:\n",
    "# curr_lap_id = 0\n",
    "\n",
    "# curr_lap_t_start, curr_lap_t_stop = get_lap_times(curr_lap_id)\n",
    "# curr_lap_subsession = lap_specific_subsessions[curr_lap_id]\n",
    "# curr_lap_dataframe = lap_specific_dataframes[curr_lap_id] # the subset dataframe for this lap\n",
    "# curr_lap_spike_t_seconds = curr_lap_dataframe.t_seconds\n",
    "# curr_lap_spike_indicies = lap_spike_indicies[curr_lap_id] # all spike indicies that occured within the lap\n",
    "# curr_lap_position_traces = curr_lap_subsession.position.traces # the animal positions that were traversed during this lap\n",
    "\n",
    "# curr_lap_num_spikes = len(curr_lap_spike_indicies)\n",
    "# print('lap[{}]: ({}, {}): {} spikes.'.format(curr_lap_id, curr_lap_t_start, curr_lap_t_stop, curr_lap_num_spikes))\n",
    "\n",
    "# ipspikesDataExplorer.on_programmatic_data_update(active_included_all_historical_indicies=curr_lap_spike_indicies, active_included_recent_only_indicies=curr_lap_spike_indicies) # index 145937 is out of bounds for axis 0 with size 19647\n",
    "# ipspikesDataExplorer.on_programmatic_data_update(active_included_all_historical_indicies=curr_lap_spike_t_seconds, active_included_recent_only_indicies=curr_lap_spike_t_seconds) # \n",
    "# ipspikesDataExplorer.on_programmatic_data_update(active_included_all_historical_indicies=curr_lap_spike_t_seconds.values, active_included_recent_only_indicies=curr_lap_spike_t_seconds.values) # "
   ]
  },
  {
   "cell_type": "code",
   "execution_count": null,
   "id": "4cffabec-1266-482a-9018-c458e6dfa3f2",
   "metadata": {
    "pycharm": {
     "is_executing": false,
     "name": "#%%\n"
    },
    "scrolled": true
   },
   "outputs": [],
   "source": [
    "## Can Programmaticallyt set the visibility on the different plotted elements:\n",
    "ipspikesDataExplorer.toggle_plot_visibility('spikes_main_historical')\n",
    "# ipspikesDataExplorer.toggle_plot_visibility('spikes_main_recent_only')\n",
    "# ipspikesDataExplorer.toggle_plot_visibility('animal_location_trail')\n",
    "# ipspikesDataExplorer.toggle_plot_visibility('animal_current_location_point')\n",
    "# toggle_visibility(ipspikesDataExplorer.spikes_main_recent_only)\n",
    "# toggle_visibility(ipspikesDataExplorer.animal_location_trail)\n",
    "# toggle_visibility(ipspikesDataExplorer.animal_current_location_point)"
   ]
  },
  {
   "cell_type": "code",
   "execution_count": null,
   "id": "2740e3d9-2072-44f1-86a8-4a558d307a37",
   "metadata": {
    "pycharm": {
     "is_executing": false,
     "name": "#%%\n"
    }
   },
   "outputs": [],
   "source": [
    "import pyvista as pv\n",
    "from pyvistaqt import BackgroundPlotter\n",
    "\n",
    "## Test Adding Points:\n",
    "\n",
    "\n",
    "# curr_mesh_extracted_pts # UnstructuredGrid\n",
    "curr_points_actor = curr_mesh_extracted_pts.plot(show_edges=True, line_width=3, point_size=20, )\n",
    "\n",
    "pl = BackgroundPlotter()\n",
    "curr_points_actor = pl.add_points(curr_mesh_extracted_pts, render_points_as_spheres=True, point_size=2.0, color='black')\n",
    "pl.show()\n"
   ]
  },
  {
   "cell_type": "markdown",
   "id": "a07d8a4d-3339-4f57-bb2e-3c62c181f77e",
   "metadata": {
    "pycharm": {
     "name": "#%%\n"
    },
    "tags": []
   },
   "source": [
    "# Individual Plotting Tests:"
   ]
  },
  {
   "cell_type": "markdown",
   "id": "08c07005-5574-41bc-9e5c-f9c82818df2e",
   "metadata": {
    "tags": []
   },
   "source": [
    "### Common Config"
   ]
  },
  {
   "cell_type": "code",
   "execution_count": 14,
   "id": "1a0a08d8-97ed-4240-b552-2bfe6048617c",
   "metadata": {
    "scrolled": true
   },
   "outputs": [
    {
     "name": "stdout",
     "output_type": "stream",
     "text": [
      "Figure Output path: C:\\Users\\pho\\repos\\PhoPy3DPositionAnalysis2021\\EXTERNAL\\Screenshots\\ProgrammaticDisplayFunctionTesting\\2022-08-08\n"
     ]
    }
   ],
   "source": [
    "## MATPLOTLIB Imports:\n",
    "import matplotlib\n",
    "# configure backend here\n",
    "matplotlib.use('Qt5Agg')\n",
    "import matplotlib.pyplot as plt\n",
    "# display matplotlib figures in a qt backed window. Works in Jupyter notebooks\n",
    "from matplotlib.backends import backend_pdf, backend_pgf, backend_ps\n",
    "\n",
    "from datetime import datetime # for getting the current date to set the ouptut folder name\n",
    "from PendingNotebookCode import _build_programmatic_display_function_testing_pdf_metadata\n",
    "\n",
    "## PYQTGRAPH Imports:\n",
    "from pyphoplacecellanalysis.General.Mixins.ExportHelpers import export_pyqtgraph_plot\n",
    "\n",
    "enable_saving_to_disk = True\n",
    "# enable_saving_to_disk = False\n",
    "\n",
    "filter_name = active_config_name\n",
    "\n",
    "out_day_date_folder_name = datetime.today().strftime('%Y-%m-%d') # A string with the day's date like '2022-01-16'\n",
    "_build_pdf_pages_output_info, programmatic_display_function_testing_output_parent_path = _build_programmatic_display_function_testing_pdf_metadata(curr_active_pipeline, filter_name=filter_name,\n",
    "                                                                                                                                                   out_path=Path(r'C:\\Users\\pho\\repos\\PhoPy3DPositionAnalysis2021\\EXTERNAL\\Screenshots\\ProgrammaticDisplayFunctionTesting').joinpath(out_day_date_folder_name))\n",
    "print(f'Figure Output path: {str(programmatic_display_function_testing_output_parent_path)}')\n",
    "reveal_in_system_file_manager(programmatic_display_function_testing_output_parent_path)"
   ]
  },
  {
   "cell_type": "markdown",
   "id": "0ea41eed-55e1-4a46-8b2a-5215be482212",
   "metadata": {
    "jp-MarkdownHeadingCollapsed": true,
    "tags": []
   },
   "source": [
    "### Utility:"
   ]
  },
  {
   "cell_type": "code",
   "execution_count": null,
   "id": "82de15b7-8404-43f5-89f0-dd54d3538233",
   "metadata": {
    "scrolled": true
   },
   "outputs": [],
   "source": [
    "# Reload display functions:\n",
    "curr_active_pipeline.reload_default_display_functions()\n",
    "curr_active_pipeline.registered_display_function_names # ['_display_1d_placefield_validations', '_display_2d_placefield_result_plot_ratemaps_2D', '_display_2d_placefield_result_plot_raw', '_display_normal', '_display_placemaps_pyqtplot_2D', '_display_decoder_result', '_display_plot_most_likely_position_comparisons', '_display_two_step_decoder_prediction_error_2D', '_display_two_step_decoder_prediction_error_animated_2D', '_display_spike_rasters_pyqtplot_2D', '_display_spike_rasters_pyqtplot_3D', '_display_spike_rasters_pyqtplot_3D_with_2D_controls', '_display_spike_rasters_vedo_3D', '_display_spike_rasters_vedo_3D_with_2D_controls', '_display_spike_rasters_window', '_display_speed_vs_PFoverlapDensity_plots', '_display_3d_image_plotter', '_display_3d_interactive_custom_data_explorer', '_display_3d_interactive_spike_and_behavior_browser', '_display_3d_interactive_tuning_curves_plotter']\n",
    "print(curr_active_pipeline.registered_display_function_names)"
   ]
  },
  {
   "cell_type": "code",
   "execution_count": null,
   "id": "49254b40-041b-4733-ab30-0ab6f0396d72",
   "metadata": {
    "scrolled": true
   },
   "outputs": [],
   "source": [
    "## Test getting figure save paths:\n",
    "_test_fig_path = curr_active_config.plotting_config.get_figure_save_path('test')\n",
    "print(f'_test_fig_path: {_test_fig_path}\\n\\t exists? {_test_fig_path.exists()}')"
   ]
  },
  {
   "cell_type": "code",
   "execution_count": null,
   "id": "42f3eb11-e517-4e2e-8886-168f8c284cbf",
   "metadata": {},
   "outputs": [],
   "source": [
    "%matplotlib --list \n",
    "# Available matplotlib backends: ['tk', 'gtk', 'gtk3', 'gtk4', 'wx', 'qt4', 'qt5', 'qt6', 'qt', 'osx', 'nbagg', 'notebook', 'agg', 'svg', 'pdf', 'ps', 'inline', 'ipympl', 'widget']"
   ]
  },
  {
   "cell_type": "code",
   "execution_count": null,
   "id": "832c0030-b46b-4c62-961d-b6b69272d8a6",
   "metadata": {},
   "outputs": [],
   "source": [
    "%matplotlib qt\n",
    "## NOTE THAT ONCE THIS IS SET TO qt, it cannot be undone!"
   ]
  },
  {
   "cell_type": "markdown",
   "id": "6abc004f-a5d9-4979-8cde-f202597ba1ba",
   "metadata": {
    "pycharm": {
     "name": "#%%\n"
    },
    "tags": []
   },
   "source": [
    "## Old Individual Plotting Functions:"
   ]
  },
  {
   "cell_type": "code",
   "execution_count": 15,
   "id": "b1debecb-aa4d-4e6f-8954-b069cb6277f2",
   "metadata": {},
   "outputs": [
    {
     "name": "stdout",
     "output_type": "stream",
     "text": [
      "Old Individual Plotting Function Figure Output path: W:\\Data\\Output\\2022-08-08\\RatS-Day5TwoNovel-2020-12-04_07-55-09\\maze1\\speedThresh_10.00-gridBin_2.74-smooth_2.00-frateThresh_0.20-time_bin_size_1.00-computation_epochs_None\n"
     ]
    }
   ],
   "source": [
    "# from neuropy.plotting.ratemaps import enumTuningMap2DPlotVariables # for getting the variant name from the dict\n",
    "from neuropy.utils.matplotlib_helpers import enumTuningMap2DPlotVariables # for getting the variant name from the dict\n",
    "\n",
    "# figure_format_config = dict(subplots=(20, 8), max_screen_figure_size=(2256, 2048)) # bad way\n",
    "figure_format_config = dict(max_screen_figure_size=(None, 1868)) # good way\n",
    "## Add additional default options:\n",
    "figure_format_config = (dict(enable_spike_overlay=False, debug_print=False, enable_saving_to_disk=enable_saving_to_disk) | figure_format_config)\n",
    "# plots_fig_nums_dict: a dictionary of the indicies for each plot\n",
    "plots_fig_nums_dict = {filter_name:((float(i+1)*10.0) + np.array([0, 1])) for i, filter_name in enumerate(curr_active_pipeline.active_config_names)} # {'maze1': array([10, 11]), 'maze2': array([20, 21])}\n",
    "\n",
    "curr_fig_save_path = curr_active_config.plotting_config.get_figure_save_path()\n",
    "print(f'Old Individual Plotting Function Figure Output path: {str(curr_fig_save_path)}')\n",
    "reveal_in_system_file_manager(curr_fig_save_path)"
   ]
  },
  {
   "cell_type": "markdown",
   "id": "7da1e6c6-57ee-4242-95bd-2099edd1fcbd",
   "metadata": {},
   "source": [
    "### Plots for each maze:"
   ]
  },
  {
   "cell_type": "code",
   "execution_count": 13,
   "id": "6068a5e4-f3d1-44be-9fb9-c0c5929de2e0",
   "metadata": {},
   "outputs": [
    {
     "name": "stdout",
     "output_type": "stream",
     "text": [
      "Saving 2D Placefield image out to \"W:\\Data\\Output\\2022-08-05\\RatS-Day5TwoNovel-2020-12-04_07-55-09\\maze1\\speedThresh_10.00-gridBin_2.74-smooth_2.00-frateThresh_0.20-time_bin_size_1.00-computation_epochs_None\\_display_2d_placefield_result_plot_ratemaps_2D-SPIKES_MAPS.png\".........done.\n",
      "Saving 2D Placefield image out to \"W:\\Data\\Output\\2022-08-05\\RatS-Day5TwoNovel-2020-12-04_07-55-09\\maze1\\speedThresh_10.00-gridBin_2.74-smooth_2.00-frateThresh_0.20-time_bin_size_1.00-computation_epochs_None\\_display_2d_placefield_result_plot_ratemaps_2D-TUNING_MAPS.png\".........done.\n",
      "Saving 2D Placefield image out to \"W:\\Data\\Output\\2022-08-05\\RatS-Day5TwoNovel-2020-12-04_07-55-09\\maze2\\speedThresh_10.00-gridBin_2.74-smooth_2.00-frateThresh_0.20-time_bin_size_1.00-computation_epochs_None\\_display_2d_placefield_result_plot_ratemaps_2D-SPIKES_MAPS.png\".........done.\n",
      "Saving 2D Placefield image out to \"W:\\Data\\Output\\2022-08-05\\RatS-Day5TwoNovel-2020-12-04_07-55-09\\maze2\\speedThresh_10.00-gridBin_2.74-smooth_2.00-frateThresh_0.20-time_bin_size_1.00-computation_epochs_None\\_display_2d_placefield_result_plot_ratemaps_2D-TUNING_MAPS.png\".........done.\n"
     ]
    }
   ],
   "source": [
    "def _display_specified__display_2d_placefield_result_plot_ratemaps_2D(filter_name):\n",
    "    curr_active_pipeline.display('_display_2d_placefield_result_plot_ratemaps_2D', filter_name, plot_variable=enumTuningMap2DPlotVariables.SPIKES_MAPS, fignum=plots_fig_nums_dict[filter_name][0], **figure_format_config) # works!\n",
    "    curr_active_pipeline.display('_display_2d_placefield_result_plot_ratemaps_2D', filter_name, plot_variable=enumTuningMap2DPlotVariables.TUNING_MAPS, fignum=plots_fig_nums_dict[filter_name][1], **figure_format_config)\n",
    "\n",
    "## Plots for each maze programmatically:\n",
    "for i, filter_name in enumerate(curr_active_pipeline.active_config_names):\n",
    "    _display_specified__display_2d_placefield_result_plot_ratemaps_2D(filter_name=filter_name)\n",
    "    \n"
   ]
  },
  {
   "cell_type": "code",
   "execution_count": null,
   "id": "a65ebe4f-b775-4858-be1b-712707326753",
   "metadata": {},
   "outputs": [],
   "source": [
    "filter_name = 'maze1'\n",
    "curr_active_pipeline.display('_display_2d_placefield_result_plot_ratemaps_2D', filter_name, plot_variable=enumTuningMap2DPlotVariables.SPIKES_MAPS, fignum=plots_fig_nums_dict[filter_name][0], **figure_format_config) # works!\n",
    "curr_active_pipeline.display('_display_2d_placefield_result_plot_ratemaps_2D', filter_name, plot_variable=enumTuningMap2DPlotVariables.TUNING_MAPS, fignum=plots_fig_nums_dict[filter_name][1], **figure_format_config) "
   ]
  },
  {
   "cell_type": "code",
   "execution_count": null,
   "id": "794ad5c3-328d-41a9-b7c2-2bc6f7aaf2f7",
   "metadata": {},
   "outputs": [],
   "source": [
    "filter_name = 'maze2'\n",
    "curr_active_pipeline.display('_display_2d_placefield_result_plot_ratemaps_2D', filter_name, plot_variable=enumTuningMap2DPlotVariables.SPIKES_MAPS, fignum=plots_fig_nums_dict[filter_name][0], **figure_format_config) # works!\n",
    "curr_active_pipeline.display('_display_2d_placefield_result_plot_ratemaps_2D', filter_name, plot_variable=enumTuningMap2DPlotVariables.TUNING_MAPS, fignum=plots_fig_nums_dict[filter_name][1], **figure_format_config)"
   ]
  },
  {
   "cell_type": "code",
   "execution_count": null,
   "id": "ae97a4fd-7ddc-4e63-8a5d-a5d4e8dae075",
   "metadata": {},
   "outputs": [],
   "source": [
    "filter_name = 'maze'\n",
    "curr_active_pipeline.display('_display_2d_placefield_result_plot_ratemaps_2D', filter_name, plot_variable=enumTuningMap2DPlotVariables.SPIKES_MAPS, fignum=plots_fig_nums_dict[filter_name][0], **figure_format_config) # works!\n",
    "curr_active_pipeline.display('_display_2d_placefield_result_plot_ratemaps_2D', filter_name, plot_variable=enumTuningMap2DPlotVariables.TUNING_MAPS, fignum=plots_fig_nums_dict[filter_name][1], **figure_format_config)"
   ]
  },
  {
   "cell_type": "code",
   "execution_count": null,
   "id": "a3ea60a8-6faf-4fa0-b657-83abd72bdc7b",
   "metadata": {},
   "outputs": [],
   "source": [
    "filter_name = 'track'\n",
    "curr_active_pipeline.display('_display_2d_placefield_result_plot_ratemaps_2D', filter_name, plot_variable=enumTuningMap2DPlotVariables.SPIKES_MAPS, fignum=plots_fig_nums_dict[filter_name][0], **figure_format_config) # works!\n",
    "curr_active_pipeline.display('_display_2d_placefield_result_plot_ratemaps_2D', filter_name, plot_variable=enumTuningMap2DPlotVariables.TUNING_MAPS, fignum=plots_fig_nums_dict[filter_name][1], **figure_format_config)"
   ]
  },
  {
   "cell_type": "code",
   "execution_count": null,
   "id": "1af93d4f-5fa7-4d30-995a-1c77626cdb63",
   "metadata": {},
   "outputs": [],
   "source": [
    " _display_specified__display_2d_placefield_result_plot_ratemaps_2D(filter_name='maze1')"
   ]
  },
  {
   "cell_type": "code",
   "execution_count": null,
   "id": "81189ce9-ad86-4c47-bc72-0d2fa101d9f8",
   "metadata": {
    "scrolled": true
   },
   "outputs": [],
   "source": [
    "# TODO: WARNING: creates new figures, which means many open windows when using %matplotlib qt\n",
    "curr_active_pipeline.display(DefaultDisplayFunctions._display_1d_placefield_validations, 'maze1') # works!"
   ]
  },
  {
   "cell_type": "markdown",
   "id": "2c5931d5-08ff-4e74-83e7-b123c8e8892c",
   "metadata": {
    "tags": []
   },
   "source": [
    "## Systematic Display Function Testing"
   ]
  },
  {
   "cell_type": "markdown",
   "id": "6f70f924-ee90-4679-bdba-d0f6ba3b7715",
   "metadata": {},
   "source": [
    "### Matplotlib-based plots:"
   ]
  },
  {
   "cell_type": "code",
   "execution_count": null,
   "id": "89d7a04e-6f04-42ab-9a7c-58b4f48976bd",
   "metadata": {
    "pycharm": {
     "name": "#%%\n"
    }
   },
   "outputs": [],
   "source": [
    "%%capture\n",
    "#The above hides the output in JupyterLab Notebooks, must be first line in the cell to hide the output of\n",
    "curr_display_function_name = '_display_1d_placefield_validations'\n",
    "built_pdf_metadata, curr_pdf_save_path = _build_pdf_pages_output_info(curr_display_function_name)\n",
    "with backend_pdf.PdfPages(curr_pdf_save_path, keep_empty=False, metadata=built_pdf_metadata) as pdf:\n",
    "    # plt.ioff() # disable displaying the plots inline in the Jupyter-lab notebook. NOTE: does not work in Jupyter-Lab, figures still show\n",
    "    plots = curr_active_pipeline.display(curr_display_function_name, active_config_name) # works, but generates a TON of plots!\n",
    "    # plt.ion()\n",
    "    for fig_idx, a_fig in enumerate(plots):\n",
    "        # print(f'saving fig: {fig_idx+1}/{len(plots)}')\n",
    "        pdf.savefig(a_fig)\n",
    "        # pdf.savefig(a_fig, transparent=True)\n",
    "    # When no figure is specified the current figure is saved\n",
    "    # pdf.savefig()"
   ]
  },
  {
   "cell_type": "code",
   "execution_count": 14,
   "id": "e063f67f-a950-4b2f-95e7-e9d3242de25c",
   "metadata": {
    "scrolled": true
   },
   "outputs": [],
   "source": [
    "%%capture\n",
    "curr_display_function_name = '_display_2d_placefield_result_plot_raw'\n",
    "built_pdf_metadata, curr_pdf_save_path = _build_pdf_pages_output_info(curr_display_function_name)\n",
    "with backend_pdf.PdfPages(curr_pdf_save_path, keep_empty=False, metadata=built_pdf_metadata) as pdf:\n",
    "    a_fig = curr_active_pipeline.display(curr_display_function_name, filter_name)\n",
    "    pdf.savefig(a_fig)\n",
    "\n",
    "# Issue with unexpected kwargs passed to plots. Solve generally.\n",
    "# TypeError: plot_raw() got an unexpected keyword argument 'enable_saving_to_disk'"
   ]
  },
  {
   "cell_type": "code",
   "execution_count": 15,
   "id": "6b04ed7e-8737-47e7-bc61-2c0515ff68db",
   "metadata": {
    "scrolled": true
   },
   "outputs": [
    {
     "name": "stdout",
     "output_type": "stream",
     "text": [
      "plot_all_placefields(...): active_epoch_placefields1D does not exist. Skipping it.\n"
     ]
    }
   ],
   "source": [
    "# %%capture\n",
    "curr_display_function_name = '_display_normal'\n",
    "built_pdf_metadata, curr_pdf_save_path = _build_pdf_pages_output_info(curr_display_function_name)\n",
    "with backend_pdf.PdfPages(curr_pdf_save_path, keep_empty=False, metadata=built_pdf_metadata) as pdf:\n",
    "    fig0, figList1 = curr_active_pipeline.display(curr_display_function_name, filter_name, debug_print=False, enable_saving_to_disk=enable_saving_to_disk)\n",
    "    plots = [fig0, *figList1]\n",
    "    for a_fig in plots:\n",
    "        pdf.savefig(a_fig)"
   ]
  },
  {
   "cell_type": "code",
   "execution_count": null,
   "id": "3106bd7c-0785-4807-91a8-81c157dc7f7c",
   "metadata": {
    "scrolled": true
   },
   "outputs": [],
   "source": [
    "curr_active_pipeline.filtered_session_names"
   ]
  },
  {
   "cell_type": "code",
   "execution_count": null,
   "id": "8c897525-0d60-42f0-b97a-5507ddd956bd",
   "metadata": {
    "scrolled": true
   },
   "outputs": [],
   "source": [
    "curr_display_function_name = '_display_2d_placefield_result_plot_ratemaps_2D'\n",
    "built_pdf_metadata, curr_pdf_save_path = _build_pdf_pages_output_info(curr_display_function_name)\n",
    "out_fig_list = []\n",
    "figure_format_config['enable_saving_to_disk'] = False # don't use the in-built figure export/saving to disk functionality as we want to wrap the output figure with the Pdf saving, not write to a .png\n",
    "with backend_pdf.PdfPages(curr_pdf_save_path, keep_empty=False, metadata=built_pdf_metadata) as pdf:    \n",
    "    for filter_name in curr_active_pipeline.filtered_session_names:\n",
    "        print(f'filter_name: {filter_name}')\n",
    "        out_fig_list.extend(curr_active_pipeline.display(curr_display_function_name, filter_name, plot_variable=enumTuningMap2DPlotVariables.SPIKES_MAPS, fignum=plots_fig_nums_dict[filter_name][0], **figure_format_config)) # works!\n",
    "        out_fig_list.extend(curr_active_pipeline.display(curr_display_function_name, filter_name, plot_variable=enumTuningMap2DPlotVariables.TUNING_MAPS, fignum=plots_fig_nums_dict[filter_name][1], **figure_format_config))\n",
    "        for a_fig in out_fig_list:\n",
    "            pdf.savefig(a_fig)"
   ]
  },
  {
   "cell_type": "code",
   "execution_count": null,
   "id": "208ccda9-0c1a-4743-8ad7-3c7a90f96c04",
   "metadata": {
    "scrolled": true
   },
   "outputs": [],
   "source": [
    "%%capture\n",
    "curr_display_function_name = '_display_decoder_result'\n",
    "built_pdf_metadata, curr_pdf_save_path = _build_pdf_pages_output_info(curr_display_function_name)\n",
    "with backend_pdf.PdfPages(curr_pdf_save_path, keep_empty=False, metadata=built_pdf_metadata) as pdf:\n",
    "    plots = curr_active_pipeline.display(curr_display_function_name, filter_name)\n",
    "    print(plots)\n",
    "    # pdf.savefig(a_fig)"
   ]
  },
  {
   "cell_type": "markdown",
   "id": "0be6f5f0-f4d0-4ce6-acde-c78e23847386",
   "metadata": {
    "tags": []
   },
   "source": [
    "### PyQtGraph-based plots:"
   ]
  },
  {
   "cell_type": "markdown",
   "id": "34852f9f-58a4-4e87-8e63-ccd8bee8c835",
   "metadata": {},
   "source": [
    "#### Decoder Plots:"
   ]
  },
  {
   "cell_type": "code",
   "execution_count": null,
   "id": "e4e7ed55-06a3-4d7d-982b-5c9176807f61",
   "metadata": {
    "scrolled": true
   },
   "outputs": [],
   "source": [
    "curr_display_function_name = '_display_two_step_decoder_prediction_error_2D'\n",
    "built_pdf_metadata, curr_pdf_save_path = _build_pdf_pages_output_info(curr_display_function_name)\n",
    "out_fig_list = []\n",
    "figure_format_config['enable_saving_to_disk'] = False # don't use the in-built figure export/saving to disk functionality as we want to wrap the output figure with the Pdf saving, not write to a .png\n",
    "with backend_pdf.PdfPages(curr_pdf_save_path, keep_empty=False, metadata=built_pdf_metadata) as pdf:    \n",
    "    for filter_name in curr_active_pipeline.filtered_session_names:\n",
    "        print(f'filter_name: {filter_name}')\n",
    "        out_fig_list.extend(curr_active_pipeline.display(curr_display_function_name, filter_name, plot_variable=enumTuningMap2DPlotVariables.SPIKES_MAPS, fignum=plots_fig_nums_dict[filter_name][0], **figure_format_config)) # works!\n",
    "        out_fig_list.extend(curr_active_pipeline.display(curr_display_function_name, filter_name, plot_variable=enumTuningMap2DPlotVariables.TUNING_MAPS, fignum=plots_fig_nums_dict[filter_name][1], **figure_format_config))\n",
    "        for a_fig in out_fig_list:\n",
    "            pdf.savefig(a_fig)"
   ]
  },
  {
   "cell_type": "code",
   "execution_count": null,
   "id": "f0c49ccf",
   "metadata": {
    "pycharm": {
     "name": "#%%\n"
    }
   },
   "outputs": [],
   "source": [
    "curr_active_pipeline.display('_display_two_step_decoder_prediction_error_animated_2D', active_config_name, variable_name='p_x_given_n')"
   ]
  },
  {
   "cell_type": "code",
   "execution_count": 17,
   "id": "61f43c17-baff-4d1f-9b8b-5620c1c1529b",
   "metadata": {
    "pycharm": {
     "name": "#%%\n"
    }
   },
   "outputs": [],
   "source": [
    "## This plot looks phenominal, and the slider works!\n",
    "curr_active_pipeline.display('_display_two_step_decoder_prediction_error_2D', active_config_name, variable_name='p_x_given_n') # works!"
   ]
  },
  {
   "cell_type": "code",
   "execution_count": 18,
   "id": "8d36faf2-93e3-4e3c-8637-5d5f1cf65cd0",
   "metadata": {
    "pycharm": {
     "name": "#%%\n"
    }
   },
   "outputs": [],
   "source": [
    "curr_active_pipeline.display('_display_two_step_decoder_prediction_error_2D', active_config_name, variable_name='p_x_given_n_and_x_prev') # this one doesn't work!"
   ]
  },
  {
   "cell_type": "code",
   "execution_count": 17,
   "id": "157c3b8a-02db-4349-bd57-049cb73bb3e1",
   "metadata": {
    "pycharm": {
     "name": "#%%\n"
    }
   },
   "outputs": [],
   "source": []
  },
  {
   "cell_type": "code",
   "execution_count": 21,
   "id": "173df475-532d-46c0-b97d-e559fd4e3f32",
   "metadata": {},
   "outputs": [
    {
     "data": {
      "text/plain": [
       "DynamicParameters({'xbin': array([-81.6236, -78.8836, -76.1436, -73.4036, -70.6636, -67.9236, -65.1836, -62.4437, -59.7037, -56.9637, -54.2237, -51.4837, -48.7437, -46.0037, -43.2637, -40.5237, -37.7837, -35.0437, -32.3037, -29.5638, -26.8238, -24.0838, -21.3438, -18.6038, -15.8638, -13.1238, -10.3838, -7.64382, -4.90383, -2.16384, 0.576152, 3.31614, 6.05614, 8.79613, 11.5361, 14.2761, 17.0161, 19.7561, 22.4961, 25.2361, 27.9761, 30.7161, 33.4561, 36.196, 38.936, 41.676, 44.416, 47.156, 49.896, 52.636, 55.376, 58.116, 60.856, 63.596, 66.336, 69.0759, 71.8159, 74.5559, 77.2959, 80.0359, 82.7759, 85.5159, 88.2559]), 'ybin': array([-80.7709, -77.8034, -74.836, -71.8685, -68.9011, -65.9336, -62.9662, -59.9987, -57.0312, -54.0638, -51.0963, -48.1289, -45.1614, -42.194, -39.2265, -36.2591, -33.2916, -30.3241, -27.3567, -24.3892, -21.4218, -18.4543, -15.4869, -12.5194, -9.55195, -6.58449, -3.61704, -0.64958, 2.31788, 5.28533, 8.25279, 11.2202, 14.1877, 17.1552, 20.1226, 23.0901, 26.0575, 29.025, 31.9924, 34.9599, 37.9273, 40.8948, 43.8623, 46.8297, 49.7972, 52.7646, 55.7321, 58.6995, 61.667, 64.6345, 67.6019, 70.5694, 73.5368, 76.5043, 79.4717, 82.4392, 85.4066, 88.3741, 91.3416, 94.309, 97.2765, 100.244, 103.211]), 'avg_speed_per_pos': array([[nan, nan, nan, ..., nan, nan, 0],\n",
       "       [nan, nan, nan, ..., 9.88338, nan, 0],\n",
       "       [nan, nan, 1.49561, ..., 9.13765, nan, 0],\n",
       "       ...,\n",
       "       [nan, nan, nan, ..., nan, nan, 0],\n",
       "       [nan, nan, nan, ..., nan, nan, 0],\n",
       "       [0, 0, 0, ..., 0, 0, 0]]), 'K': 0.8389818862717011, 'V': 1.0, 'sigma_t_all': array([[nan, nan, nan, ..., nan, nan, 0],\n",
       "       [nan, nan, nan, ..., 8.29197, nan, 0],\n",
       "       [nan, nan, 1.25479, ..., 7.66632, nan, 0],\n",
       "       ...,\n",
       "       [nan, nan, nan, ..., nan, nan, 0],\n",
       "       [nan, nan, nan, ..., nan, nan, 0],\n",
       "       [0, 0, 0, ..., 0, 0, 0]]), 'flat_sigma_t_all': array([nan, nan, nan, ..., 0, 0, 0]), 'C': 1.0, 'k': 1.0, 'all_x': array([[[-81.6236, -80.7709],\n",
       "        [-81.6236, -77.8034],\n",
       "        [-81.6236, -74.836],\n",
       "        ...,\n",
       "        [-81.6236, 97.2765],\n",
       "        [-81.6236, 100.244],\n",
       "        [-81.6236, 103.211]],\n",
       "\n",
       "       [[-78.8836, -80.7709],\n",
       "        [-78.8836, -77.8034],\n",
       "        [-78.8836, -74.836],\n",
       "        ...,\n",
       "        [-78.8836, 97.2765],\n",
       "        [-78.8836, 100.244],\n",
       "        [-78.8836, 103.211]],\n",
       "\n",
       "       [[-76.1436, -80.7709],\n",
       "        [-76.1436, -77.8034],\n",
       "        [-76.1436, -74.836],\n",
       "        ...,\n",
       "        [-76.1436, 97.2765],\n",
       "        [-76.1436, 100.244],\n",
       "        [-76.1436, 103.211]],\n",
       "\n",
       "       ...,\n",
       "\n",
       "       [[82.7759, -80.7709],\n",
       "        [82.7759, -77.8034],\n",
       "        [82.7759, -74.836],\n",
       "        ...,\n",
       "        [82.7759, 97.2765],\n",
       "        [82.7759, 100.244],\n",
       "        [82.7759, 103.211]],\n",
       "\n",
       "       [[85.5159, -80.7709],\n",
       "        [85.5159, -77.8034],\n",
       "        [85.5159, -74.836],\n",
       "        ...,\n",
       "        [85.5159, 97.2765],\n",
       "        [85.5159, 100.244],\n",
       "        [85.5159, 103.211]],\n",
       "\n",
       "       [[88.2559, -80.7709],\n",
       "        [88.2559, -77.8034],\n",
       "        [88.2559, -74.836],\n",
       "        ...,\n",
       "        [88.2559, 97.2765],\n",
       "        [88.2559, 100.244],\n",
       "        [88.2559, 103.211]]]), 'flat_all_x': [(-81.62359888092934, -80.77089187315039), (-81.62359888092934, -77.8034358831483), (-81.62359888092934, -74.83597989314617), (-81.62359888092934, -71.86852390314408), (-81.62359888092934, -68.90106791314196), (-81.62359888092934, -65.93361192313986), (-81.62359888092934, -62.96615593313775), (-81.62359888092934, -59.99869994313564), (-81.62359888092934, -57.03124395313353), (-81.62359888092934, -54.063787963131425), (-81.62359888092934, -51.09633197312932), (-81.62359888092934, -48.12887598312721), (-81.62359888092934, -45.1614199931251), (-81.62359888092934, -42.19396400312299), (-81.62359888092934, -39.226508013120885), (-81.62359888092934, -36.25905202311878), (-81.62359888092934, -33.29159603311667), (-81.62359888092934, -30.32414004311456), (-81.62359888092934, -27.356684053112453), (-81.62359888092934, -24.389228063110345), (-81.62359888092934, -21.421772073108237), (-81.62359888092934, -18.45431608310613), (-81.62359888092934, -15.48686009310402), (-81.62359888092934, -12.519404103101913), (-81.62359888092934, -9.551948113099805), (-81.62359888092934, -6.5844921230976965), (-81.62359888092934, -3.6170361330955885), (-81.62359888092934, -0.6495801430934804), (-81.62359888092934, 2.3178758469086276), (-81.62359888092934, 5.285331836910736), (-81.62359888092934, 8.252787826912844), (-81.62359888092934, 11.220243816914952), (-81.62359888092934, 14.18769980691706), (-81.62359888092934, 17.155155796919168), (-81.62359888092934, 20.122611786921276), (-81.62359888092934, 23.090067776923384), (-81.62359888092934, 26.05752376692549), (-81.62359888092934, 29.0249797569276), (-81.62359888092934, 31.992435746929708), (-81.62359888092934, 34.959891736931816), (-81.62359888092934, 37.927347726933924), (-81.62359888092934, 40.89480371693603), (-81.62359888092934, 43.86225970693814), (-81.62359888092934, 46.82971569694025), (-81.62359888092934, 49.79717168694236), (-81.62359888092934, 52.76462767694447), (-81.62359888092934, 55.732083666946565), (-81.62359888092934, 58.69953965694867), (-81.62359888092934, 61.666995646950795), (-81.62359888092934, 64.6344516369529), (-81.62359888092934, 67.601907626955), (-81.62359888092934, 70.5693636169571), (-81.62359888092934, 73.53681960695923), (-81.62359888092934, 76.50427559696134), (-81.62359888092934, 79.47173158696343), (-81.62359888092934, 82.43918757696554), (-81.62359888092934, 85.40664356696766), (-81.62359888092934, 88.37409955696977), (-81.62359888092934, 91.34155554697186), (-81.62359888092934, 94.30901153697397), (-81.62359888092934, 97.27646752697609), (-81.62359888092934, 100.2439235169782), (-81.62359888092934, 103.2113795069803), (-78.88360717042161, -80.77089187315039), (-78.88360717042161, -77.8034358831483), (-78.88360717042161, -74.83597989314617), (-78.88360717042161, -71.86852390314408), (-78.88360717042161, -68.90106791314196), (-78.88360717042161, -65.93361192313986), (-78.88360717042161, -62.96615593313775), (-78.88360717042161, -59.99869994313564), (-78.88360717042161, -57.03124395313353), (-78.88360717042161, -54.063787963131425), (-78.88360717042161, -51.09633197312932), (-78.88360717042161, -48.12887598312721), (-78.88360717042161, -45.1614199931251), (-78.88360717042161, -42.19396400312299), (-78.88360717042161, -39.226508013120885), (-78.88360717042161, -36.25905202311878), (-78.88360717042161, -33.29159603311667), (-78.88360717042161, -30.32414004311456), (-78.88360717042161, -27.356684053112453), (-78.88360717042161, -24.389228063110345), (-78.88360717042161, -21.421772073108237), (-78.88360717042161, -18.45431608310613), (-78.88360717042161, -15.48686009310402), (-78.88360717042161, -12.519404103101913), (-78.88360717042161, -9.551948113099805), (-78.88360717042161, -6.5844921230976965), (-78.88360717042161, -3.6170361330955885), (-78.88360717042161, -0.6495801430934804), (-78.88360717042161, 2.3178758469086276), (-78.88360717042161, 5.285331836910736), (-78.88360717042161, 8.252787826912844), (-78.88360717042161, 11.220243816914952), (-78.88360717042161, 14.18769980691706), (-78.88360717042161, 17.155155796919168), (-78.88360717042161, 20.122611786921276), (-78.88360717042161, 23.090067776923384), (-78.88360717042161, 26.05752376692549), (-78.88360717042161, 29.0249797569276), (-78.88360717042161, 31.992435746929708), (-78.88360717042161, 34.959891736931816), (-78.88360717042161, 37.927347726933924), (-78.88360717042161, 40.89480371693603), (-78.88360717042161, 43.86225970693814), (-78.88360717042161, 46.82971569694025), (-78.88360717042161, 49.79717168694236), (-78.88360717042161, 52.76462767694447), (-78.88360717042161, 55.732083666946565), (-78.88360717042161, 58.69953965694867), (-78.88360717042161, 61.666995646950795), (-78.88360717042161, 64.6344516369529), (-78.88360717042161, 67.601907626955), (-78.88360717042161, 70.5693636169571), (-78.88360717042161, 73.53681960695923), (-78.88360717042161, 76.50427559696134), (-78.88360717042161, 79.47173158696343), (-78.88360717042161, 82.43918757696554), (-78.88360717042161, 85.40664356696766), (-78.88360717042161, 88.37409955696977), (-78.88360717042161, 91.34155554697186), (-78.88360717042161, 94.30901153697397), (-78.88360717042161, 97.27646752697609), (-78.88360717042161, 100.2439235169782), (-78.88360717042161, 103.2113795069803), (-76.14361545991386, -80.77089187315039), (-76.14361545991386, -77.8034358831483), (-76.14361545991386, -74.83597989314617), (-76.14361545991386, -71.86852390314408), (-76.14361545991386, -68.90106791314196), (-76.14361545991386, -65.93361192313986), (-76.14361545991386, -62.96615593313775), (-76.14361545991386, -59.99869994313564), (-76.14361545991386, -57.03124395313353), (-76.14361545991386, -54.063787963131425), (-76.14361545991386, -51.09633197312932), (-76.14361545991386, -48.12887598312721), (-76.14361545991386, -45.1614199931251), (-76.14361545991386, -42.19396400312299), (-76.14361545991386, -39.226508013120885), (-76.14361545991386, -36.25905202311878), (-76.14361545991386, -33.29159603311667), (-76.14361545991386, -30.32414004311456), (-76.14361545991386, -27.356684053112453), (-76.14361545991386, -24.389228063110345), (-76.14361545991386, -21.421772073108237), (-76.14361545991386, -18.45431608310613), (-76.14361545991386, -15.48686009310402), (-76.14361545991386, -12.519404103101913), (-76.14361545991386, -9.551948113099805), (-76.14361545991386, -6.5844921230976965), (-76.14361545991386, -3.6170361330955885), (-76.14361545991386, -0.6495801430934804), (-76.14361545991386, 2.3178758469086276), (-76.14361545991386, 5.285331836910736), (-76.14361545991386, 8.252787826912844), (-76.14361545991386, 11.220243816914952), (-76.14361545991386, 14.18769980691706), (-76.14361545991386, 17.155155796919168), (-76.14361545991386, 20.122611786921276), (-76.14361545991386, 23.090067776923384), (-76.14361545991386, 26.05752376692549), (-76.14361545991386, 29.0249797569276), (-76.14361545991386, 31.992435746929708), (-76.14361545991386, 34.959891736931816), (-76.14361545991386, 37.927347726933924), (-76.14361545991386, 40.89480371693603), (-76.14361545991386, 43.86225970693814), (-76.14361545991386, 46.82971569694025), (-76.14361545991386, 49.79717168694236), (-76.14361545991386, 52.76462767694447), (-76.14361545991386, 55.732083666946565), (-76.14361545991386, 58.69953965694867), (-76.14361545991386, 61.666995646950795), (-76.14361545991386, 64.6344516369529), (-76.14361545991386, 67.601907626955), (-76.14361545991386, 70.5693636169571), (-76.14361545991386, 73.53681960695923), (-76.14361545991386, 76.50427559696134), (-76.14361545991386, 79.47173158696343), (-76.14361545991386, 82.43918757696554), (-76.14361545991386, 85.40664356696766), (-76.14361545991386, 88.37409955696977), (-76.14361545991386, 91.34155554697186), (-76.14361545991386, 94.30901153697397), (-76.14361545991386, 97.27646752697609), (-76.14361545991386, 100.2439235169782), (-76.14361545991386, 103.2113795069803), (-73.40362374940614, -80.77089187315039), (-73.40362374940614, -77.8034358831483), (-73.40362374940614, -74.83597989314617), (-73.40362374940614, -71.86852390314408), (-73.40362374940614, -68.90106791314196), (-73.40362374940614, -65.93361192313986), (-73.40362374940614, -62.96615593313775), (-73.40362374940614, -59.99869994313564), (-73.40362374940614, -57.03124395313353), (-73.40362374940614, -54.063787963131425), (-73.40362374940614, -51.09633197312932), (-73.40362374940614, -48.12887598312721), (-73.40362374940614, -45.1614199931251), (-73.40362374940614, -42.19396400312299), (-73.40362374940614, -39.226508013120885), (-73.40362374940614, -36.25905202311878), (-73.40362374940614, -33.29159603311667), (-73.40362374940614, -30.32414004311456), (-73.40362374940614, -27.356684053112453), (-73.40362374940614, -24.389228063110345), (-73.40362374940614, -21.421772073108237), (-73.40362374940614, -18.45431608310613), (-73.40362374940614, -15.48686009310402), (-73.40362374940614, -12.519404103101913), (-73.40362374940614, -9.551948113099805), (-73.40362374940614, -6.5844921230976965), (-73.40362374940614, -3.6170361330955885), (-73.40362374940614, -0.6495801430934804), (-73.40362374940614, 2.3178758469086276), (-73.40362374940614, 5.285331836910736), (-73.40362374940614, 8.252787826912844), (-73.40362374940614, 11.220243816914952), (-73.40362374940614, 14.18769980691706), (-73.40362374940614, 17.155155796919168), (-73.40362374940614, 20.122611786921276), (-73.40362374940614, 23.090067776923384), (-73.40362374940614, 26.05752376692549), (-73.40362374940614, 29.0249797569276), (-73.40362374940614, 31.992435746929708), (-73.40362374940614, 34.959891736931816), (-73.40362374940614, 37.927347726933924), (-73.40362374940614, 40.89480371693603), (-73.40362374940614, 43.86225970693814), (-73.40362374940614, 46.82971569694025), (-73.40362374940614, 49.79717168694236), (-73.40362374940614, 52.76462767694447), (-73.40362374940614, 55.732083666946565), (-73.40362374940614, 58.69953965694867), (-73.40362374940614, 61.666995646950795), (-73.40362374940614, 64.6344516369529), (-73.40362374940614, 67.601907626955), (-73.40362374940614, 70.5693636169571), (-73.40362374940614, 73.53681960695923), (-73.40362374940614, 76.50427559696134), (-73.40362374940614, 79.47173158696343), (-73.40362374940614, 82.43918757696554), (-73.40362374940614, 85.40664356696766), (-73.40362374940614, 88.37409955696977), (-73.40362374940614, 91.34155554697186), (-73.40362374940614, 94.30901153697397), (-73.40362374940614, 97.27646752697609), (-73.40362374940614, 100.2439235169782), (-73.40362374940614, 103.2113795069803), (-70.66363203889838, -80.77089187315039), (-70.66363203889838, -77.8034358831483), (-70.66363203889838, -74.83597989314617), (-70.66363203889838, -71.86852390314408), (-70.66363203889838, -68.90106791314196), (-70.66363203889838, -65.93361192313986), (-70.66363203889838, -62.96615593313775), (-70.66363203889838, -59.99869994313564), (-70.66363203889838, -57.03124395313353), (-70.66363203889838, -54.063787963131425), (-70.66363203889838, -51.09633197312932), (-70.66363203889838, -48.12887598312721), (-70.66363203889838, -45.1614199931251), (-70.66363203889838, -42.19396400312299), (-70.66363203889838, -39.226508013120885), (-70.66363203889838, -36.25905202311878), (-70.66363203889838, -33.29159603311667), (-70.66363203889838, -30.32414004311456), (-70.66363203889838, -27.356684053112453), (-70.66363203889838, -24.389228063110345), (-70.66363203889838, -21.421772073108237), (-70.66363203889838, -18.45431608310613), (-70.66363203889838, -15.48686009310402), (-70.66363203889838, -12.519404103101913), (-70.66363203889838, -9.551948113099805), (-70.66363203889838, -6.5844921230976965), (-70.66363203889838, -3.6170361330955885), (-70.66363203889838, -0.6495801430934804), (-70.66363203889838, 2.3178758469086276), (-70.66363203889838, 5.285331836910736), (-70.66363203889838, 8.252787826912844), (-70.66363203889838, 11.220243816914952), (-70.66363203889838, 14.18769980691706), (-70.66363203889838, 17.155155796919168), (-70.66363203889838, 20.122611786921276), (-70.66363203889838, 23.090067776923384), (-70.66363203889838, 26.05752376692549), (-70.66363203889838, 29.0249797569276), (-70.66363203889838, 31.992435746929708), (-70.66363203889838, 34.959891736931816), (-70.66363203889838, 37.927347726933924), (-70.66363203889838, 40.89480371693603), (-70.66363203889838, 43.86225970693814), (-70.66363203889838, 46.82971569694025), (-70.66363203889838, 49.79717168694236), (-70.66363203889838, 52.76462767694447), (-70.66363203889838, 55.732083666946565), (-70.66363203889838, 58.69953965694867), (-70.66363203889838, 61.666995646950795), (-70.66363203889838, 64.6344516369529), (-70.66363203889838, 67.601907626955), (-70.66363203889838, 70.5693636169571), (-70.66363203889838, 73.53681960695923), (-70.66363203889838, 76.50427559696134), (-70.66363203889838, 79.47173158696343), (-70.66363203889838, 82.43918757696554), (-70.66363203889838, 85.40664356696766), (-70.66363203889838, 88.37409955696977), (-70.66363203889838, 91.34155554697186), (-70.66363203889838, 94.30901153697397), (-70.66363203889838, 97.27646752697609), (-70.66363203889838, 100.2439235169782), (-70.66363203889838, 103.2113795069803), (-67.92364032839066, -80.77089187315039), (-67.92364032839066, -77.8034358831483), (-67.92364032839066, -74.83597989314617), (-67.92364032839066, -71.86852390314408), (-67.92364032839066, -68.90106791314196), (-67.92364032839066, -65.93361192313986), (-67.92364032839066, -62.96615593313775), (-67.92364032839066, -59.99869994313564), (-67.92364032839066, -57.03124395313353), (-67.92364032839066, -54.063787963131425), (-67.92364032839066, -51.09633197312932), (-67.92364032839066, -48.12887598312721), (-67.92364032839066, -45.1614199931251), (-67.92364032839066, -42.19396400312299), (-67.92364032839066, -39.226508013120885), (-67.92364032839066, -36.25905202311878), (-67.92364032839066, -33.29159603311667), (-67.92364032839066, -30.32414004311456), (-67.92364032839066, -27.356684053112453), (-67.92364032839066, -24.389228063110345), (-67.92364032839066, -21.421772073108237), (-67.92364032839066, -18.45431608310613), (-67.92364032839066, -15.48686009310402), (-67.92364032839066, -12.519404103101913), (-67.92364032839066, -9.551948113099805), (-67.92364032839066, -6.5844921230976965), (-67.92364032839066, -3.6170361330955885), (-67.92364032839066, -0.6495801430934804), (-67.92364032839066, 2.3178758469086276), (-67.92364032839066, 5.285331836910736), (-67.92364032839066, 8.252787826912844), (-67.92364032839066, 11.220243816914952), (-67.92364032839066, 14.18769980691706), (-67.92364032839066, 17.155155796919168), (-67.92364032839066, 20.122611786921276), (-67.92364032839066, 23.090067776923384), (-67.92364032839066, 26.05752376692549), (-67.92364032839066, 29.0249797569276), (-67.92364032839066, 31.992435746929708), (-67.92364032839066, 34.959891736931816), (-67.92364032839066, 37.927347726933924), (-67.92364032839066, 40.89480371693603), (-67.92364032839066, 43.86225970693814), (-67.92364032839066, 46.82971569694025), (-67.92364032839066, 49.79717168694236), (-67.92364032839066, 52.76462767694447), (-67.92364032839066, 55.732083666946565), (-67.92364032839066, 58.69953965694867), (-67.92364032839066, 61.666995646950795), (-67.92364032839066, 64.6344516369529), (-67.92364032839066, 67.601907626955), (-67.92364032839066, 70.5693636169571), (-67.92364032839066, 73.53681960695923), (-67.92364032839066, 76.50427559696134), (-67.92364032839066, 79.47173158696343), (-67.92364032839066, 82.43918757696554), (-67.92364032839066, 85.40664356696766), (-67.92364032839066, 88.37409955696977), (-67.92364032839066, 91.34155554697186), (-67.92364032839066, 94.30901153697397), (-67.92364032839066, 97.27646752697609), (-67.92364032839066, 100.2439235169782), (-67.92364032839066, 103.2113795069803), (-65.18364861788291, -80.77089187315039), (-65.18364861788291, -77.8034358831483), (-65.18364861788291, -74.83597989314617), (-65.18364861788291, -71.86852390314408), (-65.18364861788291, -68.90106791314196), (-65.18364861788291, -65.93361192313986), (-65.18364861788291, -62.96615593313775), (-65.18364861788291, -59.99869994313564), (-65.18364861788291, -57.03124395313353), (-65.18364861788291, -54.063787963131425), (-65.18364861788291, -51.09633197312932), (-65.18364861788291, -48.12887598312721), (-65.18364861788291, -45.1614199931251), (-65.18364861788291, -42.19396400312299), (-65.18364861788291, -39.226508013120885), (-65.18364861788291, -36.25905202311878), (-65.18364861788291, -33.29159603311667), (-65.18364861788291, -30.32414004311456), (-65.18364861788291, -27.356684053112453), (-65.18364861788291, -24.389228063110345), (-65.18364861788291, -21.421772073108237), (-65.18364861788291, -18.45431608310613), (-65.18364861788291, -15.48686009310402), (-65.18364861788291, -12.519404103101913), (-65.18364861788291, -9.551948113099805), (-65.18364861788291, -6.5844921230976965), (-65.18364861788291, -3.6170361330955885), (-65.18364861788291, -0.6495801430934804), (-65.18364861788291, 2.3178758469086276), (-65.18364861788291, 5.285331836910736), (-65.18364861788291, 8.252787826912844), (-65.18364861788291, 11.220243816914952), (-65.18364861788291, 14.18769980691706), (-65.18364861788291, 17.155155796919168), (-65.18364861788291, 20.122611786921276), (-65.18364861788291, 23.090067776923384), (-65.18364861788291, 26.05752376692549), (-65.18364861788291, 29.0249797569276), (-65.18364861788291, 31.992435746929708), (-65.18364861788291, 34.959891736931816), (-65.18364861788291, 37.927347726933924), (-65.18364861788291, 40.89480371693603), (-65.18364861788291, 43.86225970693814), (-65.18364861788291, 46.82971569694025), (-65.18364861788291, 49.79717168694236), (-65.18364861788291, 52.76462767694447), (-65.18364861788291, 55.732083666946565), (-65.18364861788291, 58.69953965694867), (-65.18364861788291, 61.666995646950795), (-65.18364861788291, 64.6344516369529), (-65.18364861788291, 67.601907626955), (-65.18364861788291, 70.5693636169571), (-65.18364861788291, 73.53681960695923), (-65.18364861788291, 76.50427559696134), (-65.18364861788291, 79.47173158696343), (-65.18364861788291, 82.43918757696554), (-65.18364861788291, 85.40664356696766), (-65.18364861788291, 88.37409955696977), (-65.18364861788291, 91.34155554697186), (-65.18364861788291, 94.30901153697397), (-65.18364861788291, 97.27646752697609), (-65.18364861788291, 100.2439235169782), (-65.18364861788291, 103.2113795069803), (-62.44365690737518, -80.77089187315039), (-62.44365690737518, -77.8034358831483), (-62.44365690737518, -74.83597989314617), (-62.44365690737518, -71.86852390314408), (-62.44365690737518, -68.90106791314196), (-62.44365690737518, -65.93361192313986), (-62.44365690737518, -62.96615593313775), (-62.44365690737518, -59.99869994313564), (-62.44365690737518, -57.03124395313353), (-62.44365690737518, -54.063787963131425), (-62.44365690737518, -51.09633197312932), (-62.44365690737518, -48.12887598312721), (-62.44365690737518, -45.1614199931251), (-62.44365690737518, -42.19396400312299), (-62.44365690737518, -39.226508013120885), (-62.44365690737518, -36.25905202311878), (-62.44365690737518, -33.29159603311667), (-62.44365690737518, -30.32414004311456), (-62.44365690737518, -27.356684053112453), (-62.44365690737518, -24.389228063110345), (-62.44365690737518, -21.421772073108237), (-62.44365690737518, -18.45431608310613), (-62.44365690737518, -15.48686009310402), (-62.44365690737518, -12.519404103101913), (-62.44365690737518, -9.551948113099805), (-62.44365690737518, -6.5844921230976965), (-62.44365690737518, -3.6170361330955885), (-62.44365690737518, -0.6495801430934804), (-62.44365690737518, 2.3178758469086276), (-62.44365690737518, 5.285331836910736), (-62.44365690737518, 8.252787826912844), (-62.44365690737518, 11.220243816914952), (-62.44365690737518, 14.18769980691706), (-62.44365690737518, 17.155155796919168), (-62.44365690737518, 20.122611786921276), (-62.44365690737518, 23.090067776923384), (-62.44365690737518, 26.05752376692549), (-62.44365690737518, 29.0249797569276), (-62.44365690737518, 31.992435746929708), (-62.44365690737518, 34.959891736931816), (-62.44365690737518, 37.927347726933924), (-62.44365690737518, 40.89480371693603), (-62.44365690737518, 43.86225970693814), (-62.44365690737518, 46.82971569694025), (-62.44365690737518, 49.79717168694236), (-62.44365690737518, 52.76462767694447), (-62.44365690737518, 55.732083666946565), (-62.44365690737518, 58.69953965694867), (-62.44365690737518, 61.666995646950795), (-62.44365690737518, 64.6344516369529), (-62.44365690737518, 67.601907626955), (-62.44365690737518, 70.5693636169571), (-62.44365690737518, 73.53681960695923), (-62.44365690737518, 76.50427559696134), (-62.44365690737518, 79.47173158696343), (-62.44365690737518, 82.43918757696554), (-62.44365690737518, 85.40664356696766), (-62.44365690737518, 88.37409955696977), (-62.44365690737518, 91.34155554697186), (-62.44365690737518, 94.30901153697397), (-62.44365690737518, 97.27646752697609), (-62.44365690737518, 100.2439235169782), (-62.44365690737518, 103.2113795069803), (-59.70366519686744, -80.77089187315039), (-59.70366519686744, -77.8034358831483), (-59.70366519686744, -74.83597989314617), (-59.70366519686744, -71.86852390314408), (-59.70366519686744, -68.90106791314196), (-59.70366519686744, -65.93361192313986), (-59.70366519686744, -62.96615593313775), (-59.70366519686744, -59.99869994313564), (-59.70366519686744, -57.03124395313353), (-59.70366519686744, -54.063787963131425), (-59.70366519686744, -51.09633197312932), (-59.70366519686744, -48.12887598312721), (-59.70366519686744, -45.1614199931251), (-59.70366519686744, -42.19396400312299), (-59.70366519686744, -39.226508013120885), (-59.70366519686744, -36.25905202311878), (-59.70366519686744, -33.29159603311667), (-59.70366519686744, -30.32414004311456), (-59.70366519686744, -27.356684053112453), (-59.70366519686744, -24.389228063110345), (-59.70366519686744, -21.421772073108237), (-59.70366519686744, -18.45431608310613), (-59.70366519686744, -15.48686009310402), (-59.70366519686744, -12.519404103101913), (-59.70366519686744, -9.551948113099805), (-59.70366519686744, -6.5844921230976965), (-59.70366519686744, -3.6170361330955885), (-59.70366519686744, -0.6495801430934804), (-59.70366519686744, 2.3178758469086276), (-59.70366519686744, 5.285331836910736), (-59.70366519686744, 8.252787826912844), (-59.70366519686744, 11.220243816914952), (-59.70366519686744, 14.18769980691706), (-59.70366519686744, 17.155155796919168), (-59.70366519686744, 20.122611786921276), (-59.70366519686744, 23.090067776923384), (-59.70366519686744, 26.05752376692549), (-59.70366519686744, 29.0249797569276), (-59.70366519686744, 31.992435746929708), (-59.70366519686744, 34.959891736931816), (-59.70366519686744, 37.927347726933924), (-59.70366519686744, 40.89480371693603), (-59.70366519686744, 43.86225970693814), (-59.70366519686744, 46.82971569694025), (-59.70366519686744, 49.79717168694236), (-59.70366519686744, 52.76462767694447), (-59.70366519686744, 55.732083666946565), (-59.70366519686744, 58.69953965694867), (-59.70366519686744, 61.666995646950795), (-59.70366519686744, 64.6344516369529), (-59.70366519686744, 67.601907626955), (-59.70366519686744, 70.5693636169571), (-59.70366519686744, 73.53681960695923), (-59.70366519686744, 76.50427559696134), (-59.70366519686744, 79.47173158696343), (-59.70366519686744, 82.43918757696554), (-59.70366519686744, 85.40664356696766), (-59.70366519686744, 88.37409955696977), (-59.70366519686744, 91.34155554697186), (-59.70366519686744, 94.30901153697397), (-59.70366519686744, 97.27646752697609), (-59.70366519686744, 100.2439235169782), (-59.70366519686744, 103.2113795069803), (-56.9636734863597, -80.77089187315039), (-56.9636734863597, -77.8034358831483), (-56.9636734863597, -74.83597989314617), (-56.9636734863597, -71.86852390314408), (-56.9636734863597, -68.90106791314196), (-56.9636734863597, -65.93361192313986), (-56.9636734863597, -62.96615593313775), (-56.9636734863597, -59.99869994313564), (-56.9636734863597, -57.03124395313353), (-56.9636734863597, -54.063787963131425), (-56.9636734863597, -51.09633197312932), (-56.9636734863597, -48.12887598312721), (-56.9636734863597, -45.1614199931251), (-56.9636734863597, -42.19396400312299), (-56.9636734863597, -39.226508013120885), (-56.9636734863597, -36.25905202311878), (-56.9636734863597, -33.29159603311667), (-56.9636734863597, -30.32414004311456), (-56.9636734863597, -27.356684053112453), (-56.9636734863597, -24.389228063110345), (-56.9636734863597, -21.421772073108237), (-56.9636734863597, -18.45431608310613), (-56.9636734863597, -15.48686009310402), (-56.9636734863597, -12.519404103101913), (-56.9636734863597, -9.551948113099805), (-56.9636734863597, -6.5844921230976965), (-56.9636734863597, -3.6170361330955885), (-56.9636734863597, -0.6495801430934804), (-56.9636734863597, 2.3178758469086276), (-56.9636734863597, 5.285331836910736), (-56.9636734863597, 8.252787826912844), (-56.9636734863597, 11.220243816914952), (-56.9636734863597, 14.18769980691706), (-56.9636734863597, 17.155155796919168), (-56.9636734863597, 20.122611786921276), (-56.9636734863597, 23.090067776923384), (-56.9636734863597, 26.05752376692549), (-56.9636734863597, 29.0249797569276), (-56.9636734863597, 31.992435746929708), (-56.9636734863597, 34.959891736931816), (-56.9636734863597, 37.927347726933924), (-56.9636734863597, 40.89480371693603), (-56.9636734863597, 43.86225970693814), (-56.9636734863597, 46.82971569694025), (-56.9636734863597, 49.79717168694236), (-56.9636734863597, 52.76462767694447), (-56.9636734863597, 55.732083666946565), (-56.9636734863597, 58.69953965694867), (-56.9636734863597, 61.666995646950795), (-56.9636734863597, 64.6344516369529), (-56.9636734863597, 67.601907626955), (-56.9636734863597, 70.5693636169571), (-56.9636734863597, 73.53681960695923), (-56.9636734863597, 76.50427559696134), (-56.9636734863597, 79.47173158696343), (-56.9636734863597, 82.43918757696554), (-56.9636734863597, 85.40664356696766), (-56.9636734863597, 88.37409955696977), (-56.9636734863597, 91.34155554697186), (-56.9636734863597, 94.30901153697397), (-56.9636734863597, 97.27646752697609), (-56.9636734863597, 100.2439235169782), (-56.9636734863597, 103.2113795069803), (-54.223681775851965, -80.77089187315039), (-54.223681775851965, -77.8034358831483), (-54.223681775851965, -74.83597989314617), (-54.223681775851965, -71.86852390314408), (-54.223681775851965, -68.90106791314196), (-54.223681775851965, -65.93361192313986), (-54.223681775851965, -62.96615593313775), (-54.223681775851965, -59.99869994313564), (-54.223681775851965, -57.03124395313353), (-54.223681775851965, -54.063787963131425), (-54.223681775851965, -51.09633197312932), (-54.223681775851965, -48.12887598312721), (-54.223681775851965, -45.1614199931251), (-54.223681775851965, -42.19396400312299), (-54.223681775851965, -39.226508013120885), (-54.223681775851965, -36.25905202311878), (-54.223681775851965, -33.29159603311667), (-54.223681775851965, -30.32414004311456), (-54.223681775851965, -27.356684053112453), (-54.223681775851965, -24.389228063110345), (-54.223681775851965, -21.421772073108237), (-54.223681775851965, -18.45431608310613), (-54.223681775851965, -15.48686009310402), (-54.223681775851965, -12.519404103101913), (-54.223681775851965, -9.551948113099805), (-54.223681775851965, -6.5844921230976965), (-54.223681775851965, -3.6170361330955885), (-54.223681775851965, -0.6495801430934804), (-54.223681775851965, 2.3178758469086276), (-54.223681775851965, 5.285331836910736), (-54.223681775851965, 8.252787826912844), (-54.223681775851965, 11.220243816914952), (-54.223681775851965, 14.18769980691706), (-54.223681775851965, 17.155155796919168), (-54.223681775851965, 20.122611786921276), (-54.223681775851965, 23.090067776923384), (-54.223681775851965, 26.05752376692549), (-54.223681775851965, 29.0249797569276), (-54.223681775851965, 31.992435746929708), (-54.223681775851965, 34.959891736931816), (-54.223681775851965, 37.927347726933924), (-54.223681775851965, 40.89480371693603), (-54.223681775851965, 43.86225970693814), (-54.223681775851965, 46.82971569694025), (-54.223681775851965, 49.79717168694236), (-54.223681775851965, 52.76462767694447), (-54.223681775851965, 55.732083666946565), (-54.223681775851965, 58.69953965694867), (-54.223681775851965, 61.666995646950795), (-54.223681775851965, 64.6344516369529), (-54.223681775851965, 67.601907626955), (-54.223681775851965, 70.5693636169571), (-54.223681775851965, 73.53681960695923), (-54.223681775851965, 76.50427559696134), (-54.223681775851965, 79.47173158696343), (-54.223681775851965, 82.43918757696554), (-54.223681775851965, 85.40664356696766), (-54.223681775851965, 88.37409955696977), (-54.223681775851965, 91.34155554697186), (-54.223681775851965, 94.30901153697397), (-54.223681775851965, 97.27646752697609), (-54.223681775851965, 100.2439235169782), (-54.223681775851965, 103.2113795069803), (-51.48369006534423, -80.77089187315039), (-51.48369006534423, -77.8034358831483), (-51.48369006534423, -74.83597989314617), (-51.48369006534423, -71.86852390314408), (-51.48369006534423, -68.90106791314196), (-51.48369006534423, -65.93361192313986), (-51.48369006534423, -62.96615593313775), (-51.48369006534423, -59.99869994313564), (-51.48369006534423, -57.03124395313353), (-51.48369006534423, -54.063787963131425), (-51.48369006534423, -51.09633197312932), (-51.48369006534423, -48.12887598312721), (-51.48369006534423, -45.1614199931251), (-51.48369006534423, -42.19396400312299), (-51.48369006534423, -39.226508013120885), (-51.48369006534423, -36.25905202311878), (-51.48369006534423, -33.29159603311667), (-51.48369006534423, -30.32414004311456), (-51.48369006534423, -27.356684053112453), (-51.48369006534423, -24.389228063110345), (-51.48369006534423, -21.421772073108237), (-51.48369006534423, -18.45431608310613), (-51.48369006534423, -15.48686009310402), (-51.48369006534423, -12.519404103101913), (-51.48369006534423, -9.551948113099805), (-51.48369006534423, -6.5844921230976965), (-51.48369006534423, -3.6170361330955885), (-51.48369006534423, -0.6495801430934804), (-51.48369006534423, 2.3178758469086276), (-51.48369006534423, 5.285331836910736), (-51.48369006534423, 8.252787826912844), (-51.48369006534423, 11.220243816914952), (-51.48369006534423, 14.18769980691706), (-51.48369006534423, 17.155155796919168), (-51.48369006534423, 20.122611786921276), (-51.48369006534423, 23.090067776923384), (-51.48369006534423, 26.05752376692549), (-51.48369006534423, 29.0249797569276), (-51.48369006534423, 31.992435746929708), (-51.48369006534423, 34.959891736931816), (-51.48369006534423, 37.927347726933924), (-51.48369006534423, 40.89480371693603), (-51.48369006534423, 43.86225970693814), (-51.48369006534423, 46.82971569694025), (-51.48369006534423, 49.79717168694236), (-51.48369006534423, 52.76462767694447), (-51.48369006534423, 55.732083666946565), (-51.48369006534423, 58.69953965694867), (-51.48369006534423, 61.666995646950795), (-51.48369006534423, 64.6344516369529), (-51.48369006534423, 67.601907626955), (-51.48369006534423, 70.5693636169571), (-51.48369006534423, 73.53681960695923), (-51.48369006534423, 76.50427559696134), (-51.48369006534423, 79.47173158696343), (-51.48369006534423, 82.43918757696554), (-51.48369006534423, 85.40664356696766), (-51.48369006534423, 88.37409955696977), (-51.48369006534423, 91.34155554697186), (-51.48369006534423, 94.30901153697397), (-51.48369006534423, 97.27646752697609), (-51.48369006534423, 100.2439235169782), (-51.48369006534423, 103.2113795069803), (-48.74369835483649, -80.77089187315039), (-48.74369835483649, -77.8034358831483), (-48.74369835483649, -74.83597989314617), (-48.74369835483649, -71.86852390314408), (-48.74369835483649, -68.90106791314196), (-48.74369835483649, -65.93361192313986), (-48.74369835483649, -62.96615593313775), (-48.74369835483649, -59.99869994313564), (-48.74369835483649, -57.03124395313353), (-48.74369835483649, -54.063787963131425), (-48.74369835483649, -51.09633197312932), (-48.74369835483649, -48.12887598312721), (-48.74369835483649, -45.1614199931251), (-48.74369835483649, -42.19396400312299), (-48.74369835483649, -39.226508013120885), (-48.74369835483649, -36.25905202311878), (-48.74369835483649, -33.29159603311667), (-48.74369835483649, -30.32414004311456), (-48.74369835483649, -27.356684053112453), (-48.74369835483649, -24.389228063110345), (-48.74369835483649, -21.421772073108237), (-48.74369835483649, -18.45431608310613), (-48.74369835483649, -15.48686009310402), (-48.74369835483649, -12.519404103101913), (-48.74369835483649, -9.551948113099805), (-48.74369835483649, -6.5844921230976965), (-48.74369835483649, -3.6170361330955885), (-48.74369835483649, -0.6495801430934804), (-48.74369835483649, 2.3178758469086276), (-48.74369835483649, 5.285331836910736), (-48.74369835483649, 8.252787826912844), (-48.74369835483649, 11.220243816914952), (-48.74369835483649, 14.18769980691706), (-48.74369835483649, 17.155155796919168), (-48.74369835483649, 20.122611786921276), (-48.74369835483649, 23.090067776923384), (-48.74369835483649, 26.05752376692549), (-48.74369835483649, 29.0249797569276), (-48.74369835483649, 31.992435746929708), (-48.74369835483649, 34.959891736931816), (-48.74369835483649, 37.927347726933924), (-48.74369835483649, 40.89480371693603), (-48.74369835483649, 43.86225970693814), (-48.74369835483649, 46.82971569694025), (-48.74369835483649, 49.79717168694236), (-48.74369835483649, 52.76462767694447), (-48.74369835483649, 55.732083666946565), (-48.74369835483649, 58.69953965694867), (-48.74369835483649, 61.666995646950795), (-48.74369835483649, 64.6344516369529), (-48.74369835483649, 67.601907626955), (-48.74369835483649, 70.5693636169571), (-48.74369835483649, 73.53681960695923), (-48.74369835483649, 76.50427559696134), (-48.74369835483649, 79.47173158696343), (-48.74369835483649, 82.43918757696554), (-48.74369835483649, 85.40664356696766), (-48.74369835483649, 88.37409955696977), (-48.74369835483649, 91.34155554697186), (-48.74369835483649, 94.30901153697397), (-48.74369835483649, 97.27646752697609), (-48.74369835483649, 100.2439235169782), (-48.74369835483649, 103.2113795069803), (-46.00370664432875, -80.77089187315039), (-46.00370664432875, -77.8034358831483), (-46.00370664432875, -74.83597989314617), (-46.00370664432875, -71.86852390314408), (-46.00370664432875, -68.90106791314196), (-46.00370664432875, -65.93361192313986), (-46.00370664432875, -62.96615593313775), (-46.00370664432875, -59.99869994313564), (-46.00370664432875, -57.03124395313353), (-46.00370664432875, -54.063787963131425), (-46.00370664432875, -51.09633197312932), (-46.00370664432875, -48.12887598312721), (-46.00370664432875, -45.1614199931251), (-46.00370664432875, -42.19396400312299), (-46.00370664432875, -39.226508013120885), (-46.00370664432875, -36.25905202311878), (-46.00370664432875, -33.29159603311667), (-46.00370664432875, -30.32414004311456), (-46.00370664432875, -27.356684053112453), (-46.00370664432875, -24.389228063110345), (-46.00370664432875, -21.421772073108237), (-46.00370664432875, -18.45431608310613), (-46.00370664432875, -15.48686009310402), (-46.00370664432875, -12.519404103101913), (-46.00370664432875, -9.551948113099805), (-46.00370664432875, -6.5844921230976965), (-46.00370664432875, -3.6170361330955885), (-46.00370664432875, -0.6495801430934804), (-46.00370664432875, 2.3178758469086276), (-46.00370664432875, 5.285331836910736), (-46.00370664432875, 8.252787826912844), (-46.00370664432875, 11.220243816914952), (-46.00370664432875, 14.18769980691706), (-46.00370664432875, 17.155155796919168), (-46.00370664432875, 20.122611786921276), (-46.00370664432875, 23.090067776923384), (-46.00370664432875, 26.05752376692549), (-46.00370664432875, 29.0249797569276), (-46.00370664432875, 31.992435746929708), (-46.00370664432875, 34.959891736931816), (-46.00370664432875, 37.927347726933924), (-46.00370664432875, 40.89480371693603), (-46.00370664432875, 43.86225970693814), (-46.00370664432875, 46.82971569694025), (-46.00370664432875, 49.79717168694236), (-46.00370664432875, 52.76462767694447), (-46.00370664432875, 55.732083666946565), (-46.00370664432875, 58.69953965694867), (-46.00370664432875, 61.666995646950795), (-46.00370664432875, 64.6344516369529), (-46.00370664432875, 67.601907626955), (-46.00370664432875, 70.5693636169571), (-46.00370664432875, 73.53681960695923), (-46.00370664432875, 76.50427559696134), (-46.00370664432875, 79.47173158696343), (-46.00370664432875, 82.43918757696554), (-46.00370664432875, 85.40664356696766), (-46.00370664432875, 88.37409955696977), (-46.00370664432875, 91.34155554697186), (-46.00370664432875, 94.30901153697397), (-46.00370664432875, 97.27646752697609), (-46.00370664432875, 100.2439235169782), (-46.00370664432875, 103.2113795069803), (-43.263714933821014, -80.77089187315039), (-43.263714933821014, -77.8034358831483), (-43.263714933821014, -74.83597989314617), (-43.263714933821014, -71.86852390314408), (-43.263714933821014, -68.90106791314196), (-43.263714933821014, -65.93361192313986), (-43.263714933821014, -62.96615593313775), (-43.263714933821014, -59.99869994313564), (-43.263714933821014, -57.03124395313353), (-43.263714933821014, -54.063787963131425), (-43.263714933821014, -51.09633197312932), (-43.263714933821014, -48.12887598312721), (-43.263714933821014, -45.1614199931251), (-43.263714933821014, -42.19396400312299), (-43.263714933821014, -39.226508013120885), (-43.263714933821014, -36.25905202311878), (-43.263714933821014, -33.29159603311667), (-43.263714933821014, -30.32414004311456), (-43.263714933821014, -27.356684053112453), (-43.263714933821014, -24.389228063110345), (-43.263714933821014, -21.421772073108237), (-43.263714933821014, -18.45431608310613), (-43.263714933821014, -15.48686009310402), (-43.263714933821014, -12.519404103101913), (-43.263714933821014, -9.551948113099805), (-43.263714933821014, -6.5844921230976965), (-43.263714933821014, -3.6170361330955885), (-43.263714933821014, -0.6495801430934804), (-43.263714933821014, 2.3178758469086276), (-43.263714933821014, 5.285331836910736), (-43.263714933821014, 8.252787826912844), (-43.263714933821014, 11.220243816914952), (-43.263714933821014, 14.18769980691706), (-43.263714933821014, 17.155155796919168), (-43.263714933821014, 20.122611786921276), (-43.263714933821014, 23.090067776923384), (-43.263714933821014, 26.05752376692549), (-43.263714933821014, 29.0249797569276), (-43.263714933821014, 31.992435746929708), (-43.263714933821014, 34.959891736931816), (-43.263714933821014, 37.927347726933924), (-43.263714933821014, 40.89480371693603), (-43.263714933821014, 43.86225970693814), (-43.263714933821014, 46.82971569694025), (-43.263714933821014, 49.79717168694236), (-43.263714933821014, 52.76462767694447), (-43.263714933821014, 55.732083666946565), (-43.263714933821014, 58.69953965694867), (-43.263714933821014, 61.666995646950795), (-43.263714933821014, 64.6344516369529), (-43.263714933821014, 67.601907626955), (-43.263714933821014, 70.5693636169571), (-43.263714933821014, 73.53681960695923), (-43.263714933821014, 76.50427559696134), (-43.263714933821014, 79.47173158696343), (-43.263714933821014, 82.43918757696554), (-43.263714933821014, 85.40664356696766), (-43.263714933821014, 88.37409955696977), (-43.263714933821014, 91.34155554697186), (-43.263714933821014, 94.30901153697397), (-43.263714933821014, 97.27646752697609), (-43.263714933821014, 100.2439235169782), (-43.263714933821014, 103.2113795069803), (-40.523723223313276, -80.77089187315039), (-40.523723223313276, -77.8034358831483), (-40.523723223313276, -74.83597989314617), (-40.523723223313276, -71.86852390314408), (-40.523723223313276, -68.90106791314196), (-40.523723223313276, -65.93361192313986), (-40.523723223313276, -62.96615593313775), (-40.523723223313276, -59.99869994313564), (-40.523723223313276, -57.03124395313353), (-40.523723223313276, -54.063787963131425), (-40.523723223313276, -51.09633197312932), (-40.523723223313276, -48.12887598312721), (-40.523723223313276, -45.1614199931251), (-40.523723223313276, -42.19396400312299), (-40.523723223313276, -39.226508013120885), (-40.523723223313276, -36.25905202311878), (-40.523723223313276, -33.29159603311667), (-40.523723223313276, -30.32414004311456), (-40.523723223313276, -27.356684053112453), (-40.523723223313276, -24.389228063110345), (-40.523723223313276, -21.421772073108237), (-40.523723223313276, -18.45431608310613), (-40.523723223313276, -15.48686009310402), (-40.523723223313276, -12.519404103101913), (-40.523723223313276, -9.551948113099805), (-40.523723223313276, -6.5844921230976965), (-40.523723223313276, -3.6170361330955885), (-40.523723223313276, -0.6495801430934804), (-40.523723223313276, 2.3178758469086276), (-40.523723223313276, 5.285331836910736), (-40.523723223313276, 8.252787826912844), (-40.523723223313276, 11.220243816914952), (-40.523723223313276, 14.18769980691706), (-40.523723223313276, 17.155155796919168), (-40.523723223313276, 20.122611786921276), (-40.523723223313276, 23.090067776923384), (-40.523723223313276, 26.05752376692549), (-40.523723223313276, 29.0249797569276), (-40.523723223313276, 31.992435746929708), (-40.523723223313276, 34.959891736931816), (-40.523723223313276, 37.927347726933924), (-40.523723223313276, 40.89480371693603), (-40.523723223313276, 43.86225970693814), (-40.523723223313276, 46.82971569694025), (-40.523723223313276, 49.79717168694236), (-40.523723223313276, 52.76462767694447), (-40.523723223313276, 55.732083666946565), (-40.523723223313276, 58.69953965694867), (-40.523723223313276, 61.666995646950795), (-40.523723223313276, 64.6344516369529), (-40.523723223313276, 67.601907626955), (-40.523723223313276, 70.5693636169571), (-40.523723223313276, 73.53681960695923), (-40.523723223313276, 76.50427559696134), (-40.523723223313276, 79.47173158696343), (-40.523723223313276, 82.43918757696554), (-40.523723223313276, 85.40664356696766), (-40.523723223313276, 88.37409955696977), (-40.523723223313276, 91.34155554697186), (-40.523723223313276, 94.30901153697397), (-40.523723223313276, 97.27646752697609), (-40.523723223313276, 100.2439235169782), (-40.523723223313276, 103.2113795069803), (-37.78373151280554, -80.77089187315039), (-37.78373151280554, -77.8034358831483), (-37.78373151280554, -74.83597989314617), (-37.78373151280554, -71.86852390314408), (-37.78373151280554, -68.90106791314196), (-37.78373151280554, -65.93361192313986), (-37.78373151280554, -62.96615593313775), (-37.78373151280554, -59.99869994313564), (-37.78373151280554, -57.03124395313353), (-37.78373151280554, -54.063787963131425), (-37.78373151280554, -51.09633197312932), (-37.78373151280554, -48.12887598312721), (-37.78373151280554, -45.1614199931251), (-37.78373151280554, -42.19396400312299), (-37.78373151280554, -39.226508013120885), (-37.78373151280554, -36.25905202311878), (-37.78373151280554, -33.29159603311667), (-37.78373151280554, -30.32414004311456), (-37.78373151280554, -27.356684053112453), (-37.78373151280554, -24.389228063110345), (-37.78373151280554, -21.421772073108237), (-37.78373151280554, -18.45431608310613), (-37.78373151280554, -15.48686009310402), (-37.78373151280554, -12.519404103101913), (-37.78373151280554, -9.551948113099805), (-37.78373151280554, -6.5844921230976965), (-37.78373151280554, -3.6170361330955885), (-37.78373151280554, -0.6495801430934804), (-37.78373151280554, 2.3178758469086276), (-37.78373151280554, 5.285331836910736), (-37.78373151280554, 8.252787826912844), (-37.78373151280554, 11.220243816914952), (-37.78373151280554, 14.18769980691706), (-37.78373151280554, 17.155155796919168), (-37.78373151280554, 20.122611786921276), (-37.78373151280554, 23.090067776923384), (-37.78373151280554, 26.05752376692549), (-37.78373151280554, 29.0249797569276), (-37.78373151280554, 31.992435746929708), (-37.78373151280554, 34.959891736931816), (-37.78373151280554, 37.927347726933924), (-37.78373151280554, 40.89480371693603), (-37.78373151280554, 43.86225970693814), (-37.78373151280554, 46.82971569694025), (-37.78373151280554, 49.79717168694236), (-37.78373151280554, 52.76462767694447), (-37.78373151280554, 55.732083666946565), (-37.78373151280554, 58.69953965694867), (-37.78373151280554, 61.666995646950795), (-37.78373151280554, 64.6344516369529), (-37.78373151280554, 67.601907626955), (-37.78373151280554, 70.5693636169571), (-37.78373151280554, 73.53681960695923), (-37.78373151280554, 76.50427559696134), (-37.78373151280554, 79.47173158696343), (-37.78373151280554, 82.43918757696554), (-37.78373151280554, 85.40664356696766), (-37.78373151280554, 88.37409955696977), (-37.78373151280554, 91.34155554697186), (-37.78373151280554, 94.30901153697397), (-37.78373151280554, 97.27646752697609), (-37.78373151280554, 100.2439235169782), (-37.78373151280554, 103.2113795069803), (-35.0437398022978, -80.77089187315039), (-35.0437398022978, -77.8034358831483), (-35.0437398022978, -74.83597989314617), (-35.0437398022978, -71.86852390314408), (-35.0437398022978, -68.90106791314196), (-35.0437398022978, -65.93361192313986), (-35.0437398022978, -62.96615593313775), (-35.0437398022978, -59.99869994313564), (-35.0437398022978, -57.03124395313353), (-35.0437398022978, -54.063787963131425), (-35.0437398022978, -51.09633197312932), (-35.0437398022978, -48.12887598312721), (-35.0437398022978, -45.1614199931251), (-35.0437398022978, -42.19396400312299), (-35.0437398022978, -39.226508013120885), (-35.0437398022978, -36.25905202311878), (-35.0437398022978, -33.29159603311667), (-35.0437398022978, -30.32414004311456), (-35.0437398022978, -27.356684053112453), (-35.0437398022978, -24.389228063110345), (-35.0437398022978, -21.421772073108237), (-35.0437398022978, -18.45431608310613), (-35.0437398022978, -15.48686009310402), (-35.0437398022978, -12.519404103101913), (-35.0437398022978, -9.551948113099805), (-35.0437398022978, -6.5844921230976965), (-35.0437398022978, -3.6170361330955885), (-35.0437398022978, -0.6495801430934804), (-35.0437398022978, 2.3178758469086276), (-35.0437398022978, 5.285331836910736), (-35.0437398022978, 8.252787826912844), (-35.0437398022978, 11.220243816914952), (-35.0437398022978, 14.18769980691706), (-35.0437398022978, 17.155155796919168), (-35.0437398022978, 20.122611786921276), (-35.0437398022978, 23.090067776923384), (-35.0437398022978, 26.05752376692549), (-35.0437398022978, 29.0249797569276), (-35.0437398022978, 31.992435746929708), (-35.0437398022978, 34.959891736931816), (-35.0437398022978, 37.927347726933924), (-35.0437398022978, 40.89480371693603), (-35.0437398022978, 43.86225970693814), (-35.0437398022978, 46.82971569694025), (-35.0437398022978, 49.79717168694236), (-35.0437398022978, 52.76462767694447), (-35.0437398022978, 55.732083666946565), (-35.0437398022978, 58.69953965694867), (-35.0437398022978, 61.666995646950795), (-35.0437398022978, 64.6344516369529), (-35.0437398022978, 67.601907626955), (-35.0437398022978, 70.5693636169571), (-35.0437398022978, 73.53681960695923), (-35.0437398022978, 76.50427559696134), (-35.0437398022978, 79.47173158696343), (-35.0437398022978, 82.43918757696554), (-35.0437398022978, 85.40664356696766), (-35.0437398022978, 88.37409955696977), (-35.0437398022978, 91.34155554697186), (-35.0437398022978, 94.30901153697397), (-35.0437398022978, 97.27646752697609), (-35.0437398022978, 100.2439235169782), (-35.0437398022978, 103.2113795069803), (-32.30374809179006, -80.77089187315039), (-32.30374809179006, -77.8034358831483), (-32.30374809179006, -74.83597989314617), (-32.30374809179006, -71.86852390314408), (-32.30374809179006, -68.90106791314196), (-32.30374809179006, -65.93361192313986), (-32.30374809179006, -62.96615593313775), (-32.30374809179006, -59.99869994313564), (-32.30374809179006, -57.03124395313353), (-32.30374809179006, -54.063787963131425), (-32.30374809179006, -51.09633197312932), (-32.30374809179006, -48.12887598312721), (-32.30374809179006, -45.1614199931251), (-32.30374809179006, -42.19396400312299), (-32.30374809179006, -39.226508013120885), (-32.30374809179006, -36.25905202311878), (-32.30374809179006, -33.29159603311667), (-32.30374809179006, -30.32414004311456), (-32.30374809179006, -27.356684053112453), (-32.30374809179006, -24.389228063110345), (-32.30374809179006, -21.421772073108237), (-32.30374809179006, -18.45431608310613), (-32.30374809179006, -15.48686009310402), (-32.30374809179006, -12.519404103101913), (-32.30374809179006, -9.551948113099805), (-32.30374809179006, -6.5844921230976965), (-32.30374809179006, -3.6170361330955885), (-32.30374809179006, -0.6495801430934804), (-32.30374809179006, 2.3178758469086276), (-32.30374809179006, 5.285331836910736), (-32.30374809179006, 8.252787826912844), (-32.30374809179006, 11.220243816914952), (-32.30374809179006, 14.18769980691706), (-32.30374809179006, 17.155155796919168), (-32.30374809179006, 20.122611786921276), (-32.30374809179006, 23.090067776923384), (-32.30374809179006, 26.05752376692549), (-32.30374809179006, 29.0249797569276), (-32.30374809179006, 31.992435746929708), (-32.30374809179006, 34.959891736931816), (-32.30374809179006, 37.927347726933924), (-32.30374809179006, 40.89480371693603), (-32.30374809179006, 43.86225970693814), (-32.30374809179006, 46.82971569694025), (-32.30374809179006, 49.79717168694236), (-32.30374809179006, 52.76462767694447), (-32.30374809179006, 55.732083666946565), (-32.30374809179006, 58.69953965694867), (-32.30374809179006, 61.666995646950795), (-32.30374809179006, 64.6344516369529), (-32.30374809179006, 67.601907626955), (-32.30374809179006, 70.5693636169571), (-32.30374809179006, 73.53681960695923), (-32.30374809179006, 76.50427559696134), (-32.30374809179006, 79.47173158696343), (-32.30374809179006, 82.43918757696554), (-32.30374809179006, 85.40664356696766), (-32.30374809179006, 88.37409955696977), (-32.30374809179006, 91.34155554697186), (-32.30374809179006, 94.30901153697397), (-32.30374809179006, 97.27646752697609), (-32.30374809179006, 100.2439235169782), (-32.30374809179006, 103.2113795069803), (-29.563756381282325, -80.77089187315039), (-29.563756381282325, -77.8034358831483), (-29.563756381282325, -74.83597989314617), (-29.563756381282325, -71.86852390314408), (-29.563756381282325, -68.90106791314196), (-29.563756381282325, -65.93361192313986), (-29.563756381282325, -62.96615593313775), (-29.563756381282325, -59.99869994313564), (-29.563756381282325, -57.03124395313353), (-29.563756381282325, -54.063787963131425), (-29.563756381282325, -51.09633197312932), (-29.563756381282325, -48.12887598312721), (-29.563756381282325, -45.1614199931251), (-29.563756381282325, -42.19396400312299), (-29.563756381282325, -39.226508013120885), (-29.563756381282325, -36.25905202311878), (-29.563756381282325, -33.29159603311667), (-29.563756381282325, -30.32414004311456), (-29.563756381282325, -27.356684053112453), (-29.563756381282325, -24.389228063110345), (-29.563756381282325, -21.421772073108237), (-29.563756381282325, -18.45431608310613), (-29.563756381282325, -15.48686009310402), (-29.563756381282325, -12.519404103101913), (-29.563756381282325, -9.551948113099805), (-29.563756381282325, -6.5844921230976965), (-29.563756381282325, -3.6170361330955885), (-29.563756381282325, -0.6495801430934804), (-29.563756381282325, 2.3178758469086276), (-29.563756381282325, 5.285331836910736), (-29.563756381282325, 8.252787826912844), (-29.563756381282325, 11.220243816914952), (-29.563756381282325, 14.18769980691706), (-29.563756381282325, 17.155155796919168), (-29.563756381282325, 20.122611786921276), (-29.563756381282325, 23.090067776923384), (-29.563756381282325, 26.05752376692549), (-29.563756381282325, 29.0249797569276), (-29.563756381282325, 31.992435746929708), (-29.563756381282325, 34.959891736931816), (-29.563756381282325, 37.927347726933924), (-29.563756381282325, 40.89480371693603), (-29.563756381282325, 43.86225970693814), (-29.563756381282325, 46.82971569694025), (-29.563756381282325, 49.79717168694236), (-29.563756381282325, 52.76462767694447), (-29.563756381282325, 55.732083666946565), (-29.563756381282325, 58.69953965694867), (-29.563756381282325, 61.666995646950795), (-29.563756381282325, 64.6344516369529), (-29.563756381282325, 67.601907626955), (-29.563756381282325, 70.5693636169571), (-29.563756381282325, 73.53681960695923), (-29.563756381282325, 76.50427559696134), (-29.563756381282325, 79.47173158696343), (-29.563756381282325, 82.43918757696554), (-29.563756381282325, 85.40664356696766), (-29.563756381282325, 88.37409955696977), (-29.563756381282325, 91.34155554697186), (-29.563756381282325, 94.30901153697397), (-29.563756381282325, 97.27646752697609), (-29.563756381282325, 100.2439235169782), (-29.563756381282325, 103.2113795069803), (-26.823764670774587, -80.77089187315039), (-26.823764670774587, -77.8034358831483), (-26.823764670774587, -74.83597989314617), (-26.823764670774587, -71.86852390314408), (-26.823764670774587, -68.90106791314196), (-26.823764670774587, -65.93361192313986), (-26.823764670774587, -62.96615593313775), (-26.823764670774587, -59.99869994313564), (-26.823764670774587, -57.03124395313353), (-26.823764670774587, -54.063787963131425), (-26.823764670774587, -51.09633197312932), (-26.823764670774587, -48.12887598312721), (-26.823764670774587, -45.1614199931251), (-26.823764670774587, -42.19396400312299), (-26.823764670774587, -39.226508013120885), (-26.823764670774587, -36.25905202311878), (-26.823764670774587, -33.29159603311667), (-26.823764670774587, -30.32414004311456), (-26.823764670774587, -27.356684053112453), (-26.823764670774587, -24.389228063110345), (-26.823764670774587, -21.421772073108237), (-26.823764670774587, -18.45431608310613), (-26.823764670774587, -15.48686009310402), (-26.823764670774587, -12.519404103101913), (-26.823764670774587, -9.551948113099805), (-26.823764670774587, -6.5844921230976965), (-26.823764670774587, -3.6170361330955885), (-26.823764670774587, -0.6495801430934804), (-26.823764670774587, 2.3178758469086276), (-26.823764670774587, 5.285331836910736), (-26.823764670774587, 8.252787826912844), (-26.823764670774587, 11.220243816914952), (-26.823764670774587, 14.18769980691706), (-26.823764670774587, 17.155155796919168), (-26.823764670774587, 20.122611786921276), (-26.823764670774587, 23.090067776923384), (-26.823764670774587, 26.05752376692549), (-26.823764670774587, 29.0249797569276), (-26.823764670774587, 31.992435746929708), (-26.823764670774587, 34.959891736931816), (-26.823764670774587, 37.927347726933924), (-26.823764670774587, 40.89480371693603), (-26.823764670774587, 43.86225970693814), (-26.823764670774587, 46.82971569694025), (-26.823764670774587, 49.79717168694236), (-26.823764670774587, 52.76462767694447), (-26.823764670774587, 55.732083666946565), (-26.823764670774587, 58.69953965694867), (-26.823764670774587, 61.666995646950795), (-26.823764670774587, 64.6344516369529), (-26.823764670774587, 67.601907626955), (-26.823764670774587, 70.5693636169571), (-26.823764670774587, 73.53681960695923), (-26.823764670774587, 76.50427559696134), (-26.823764670774587, 79.47173158696343), (-26.823764670774587, 82.43918757696554), (-26.823764670774587, 85.40664356696766), (-26.823764670774587, 88.37409955696977), (-26.823764670774587, 91.34155554697186), (-26.823764670774587, 94.30901153697397), (-26.823764670774587, 97.27646752697609), (-26.823764670774587, 100.2439235169782), (-26.823764670774587, 103.2113795069803), (-24.08377296026685, -80.77089187315039), (-24.08377296026685, -77.8034358831483), (-24.08377296026685, -74.83597989314617), (-24.08377296026685, -71.86852390314408), (-24.08377296026685, -68.90106791314196), (-24.08377296026685, -65.93361192313986), (-24.08377296026685, -62.96615593313775), (-24.08377296026685, -59.99869994313564), (-24.08377296026685, -57.03124395313353), (-24.08377296026685, -54.063787963131425), (-24.08377296026685, -51.09633197312932), (-24.08377296026685, -48.12887598312721), (-24.08377296026685, -45.1614199931251), (-24.08377296026685, -42.19396400312299), (-24.08377296026685, -39.226508013120885), (-24.08377296026685, -36.25905202311878), (-24.08377296026685, -33.29159603311667), (-24.08377296026685, -30.32414004311456), (-24.08377296026685, -27.356684053112453), (-24.08377296026685, -24.389228063110345), (-24.08377296026685, -21.421772073108237), (-24.08377296026685, -18.45431608310613), (-24.08377296026685, -15.48686009310402), (-24.08377296026685, -12.519404103101913), (-24.08377296026685, -9.551948113099805), (-24.08377296026685, -6.5844921230976965), (-24.08377296026685, -3.6170361330955885), (-24.08377296026685, -0.6495801430934804), (-24.08377296026685, 2.3178758469086276), (-24.08377296026685, 5.285331836910736), (-24.08377296026685, 8.252787826912844), (-24.08377296026685, 11.220243816914952), (-24.08377296026685, 14.18769980691706), (-24.08377296026685, 17.155155796919168), (-24.08377296026685, 20.122611786921276), (-24.08377296026685, 23.090067776923384), (-24.08377296026685, 26.05752376692549), (-24.08377296026685, 29.0249797569276), (-24.08377296026685, 31.992435746929708), (-24.08377296026685, 34.959891736931816), (-24.08377296026685, 37.927347726933924), (-24.08377296026685, 40.89480371693603), (-24.08377296026685, 43.86225970693814), (-24.08377296026685, 46.82971569694025), (-24.08377296026685, 49.79717168694236), (-24.08377296026685, 52.76462767694447), (-24.08377296026685, 55.732083666946565), (-24.08377296026685, 58.69953965694867), (-24.08377296026685, 61.666995646950795), (-24.08377296026685, 64.6344516369529), (-24.08377296026685, 67.601907626955), (-24.08377296026685, 70.5693636169571), (-24.08377296026685, 73.53681960695923), (-24.08377296026685, 76.50427559696134), (-24.08377296026685, 79.47173158696343), (-24.08377296026685, 82.43918757696554), (-24.08377296026685, 85.40664356696766), (-24.08377296026685, 88.37409955696977), (-24.08377296026685, 91.34155554697186), (-24.08377296026685, 94.30901153697397), (-24.08377296026685, 97.27646752697609), (-24.08377296026685, 100.2439235169782), (-24.08377296026685, 103.2113795069803), (-21.34378124975911, -80.77089187315039), (-21.34378124975911, -77.8034358831483), (-21.34378124975911, -74.83597989314617), (-21.34378124975911, -71.86852390314408), (-21.34378124975911, -68.90106791314196), (-21.34378124975911, -65.93361192313986), (-21.34378124975911, -62.96615593313775), (-21.34378124975911, -59.99869994313564), (-21.34378124975911, -57.03124395313353), (-21.34378124975911, -54.063787963131425), (-21.34378124975911, -51.09633197312932), (-21.34378124975911, -48.12887598312721), (-21.34378124975911, -45.1614199931251), (-21.34378124975911, -42.19396400312299), (-21.34378124975911, -39.226508013120885), (-21.34378124975911, -36.25905202311878), (-21.34378124975911, -33.29159603311667), (-21.34378124975911, -30.32414004311456), (-21.34378124975911, -27.356684053112453), (-21.34378124975911, -24.389228063110345), (-21.34378124975911, -21.421772073108237), (-21.34378124975911, -18.45431608310613), (-21.34378124975911, -15.48686009310402), (-21.34378124975911, -12.519404103101913), (-21.34378124975911, -9.551948113099805), (-21.34378124975911, -6.5844921230976965), (-21.34378124975911, -3.6170361330955885), (-21.34378124975911, -0.6495801430934804), (-21.34378124975911, 2.3178758469086276), (-21.34378124975911, 5.285331836910736), (-21.34378124975911, 8.252787826912844), (-21.34378124975911, 11.220243816914952), (-21.34378124975911, 14.18769980691706), (-21.34378124975911, 17.155155796919168), (-21.34378124975911, 20.122611786921276), (-21.34378124975911, 23.090067776923384), (-21.34378124975911, 26.05752376692549), (-21.34378124975911, 29.0249797569276), (-21.34378124975911, 31.992435746929708), (-21.34378124975911, 34.959891736931816), (-21.34378124975911, 37.927347726933924), (-21.34378124975911, 40.89480371693603), (-21.34378124975911, 43.86225970693814), (-21.34378124975911, 46.82971569694025), (-21.34378124975911, 49.79717168694236), (-21.34378124975911, 52.76462767694447), (-21.34378124975911, 55.732083666946565), (-21.34378124975911, 58.69953965694867), (-21.34378124975911, 61.666995646950795), (-21.34378124975911, 64.6344516369529), (-21.34378124975911, 67.601907626955), (-21.34378124975911, 70.5693636169571), (-21.34378124975911, 73.53681960695923), (-21.34378124975911, 76.50427559696134), (-21.34378124975911, 79.47173158696343), (-21.34378124975911, 82.43918757696554), (-21.34378124975911, 85.40664356696766), (-21.34378124975911, 88.37409955696977), (-21.34378124975911, 91.34155554697186), (-21.34378124975911, 94.30901153697397), (-21.34378124975911, 97.27646752697609), (-21.34378124975911, 100.2439235169782), (-21.34378124975911, 103.2113795069803), (-18.603789539251373, -80.77089187315039), (-18.603789539251373, -77.8034358831483), (-18.603789539251373, -74.83597989314617), (-18.603789539251373, -71.86852390314408), (-18.603789539251373, -68.90106791314196), (-18.603789539251373, -65.93361192313986), (-18.603789539251373, -62.96615593313775), (-18.603789539251373, -59.99869994313564), (-18.603789539251373, -57.03124395313353), (-18.603789539251373, -54.063787963131425), (-18.603789539251373, -51.09633197312932), (-18.603789539251373, -48.12887598312721), (-18.603789539251373, -45.1614199931251), (-18.603789539251373, -42.19396400312299), (-18.603789539251373, -39.226508013120885), (-18.603789539251373, -36.25905202311878), (-18.603789539251373, -33.29159603311667), (-18.603789539251373, -30.32414004311456), (-18.603789539251373, -27.356684053112453), (-18.603789539251373, -24.389228063110345), (-18.603789539251373, -21.421772073108237), (-18.603789539251373, -18.45431608310613), (-18.603789539251373, -15.48686009310402), (-18.603789539251373, -12.519404103101913), (-18.603789539251373, -9.551948113099805), (-18.603789539251373, -6.5844921230976965), (-18.603789539251373, -3.6170361330955885), (-18.603789539251373, -0.6495801430934804), (-18.603789539251373, 2.3178758469086276), (-18.603789539251373, 5.285331836910736), (-18.603789539251373, 8.252787826912844), (-18.603789539251373, 11.220243816914952), (-18.603789539251373, 14.18769980691706), (-18.603789539251373, 17.155155796919168), (-18.603789539251373, 20.122611786921276), (-18.603789539251373, 23.090067776923384), (-18.603789539251373, 26.05752376692549), (-18.603789539251373, 29.0249797569276), (-18.603789539251373, 31.992435746929708), (-18.603789539251373, 34.959891736931816), (-18.603789539251373, 37.927347726933924), (-18.603789539251373, 40.89480371693603), (-18.603789539251373, 43.86225970693814), (-18.603789539251373, 46.82971569694025), (-18.603789539251373, 49.79717168694236), (-18.603789539251373, 52.76462767694447), (-18.603789539251373, 55.732083666946565), (-18.603789539251373, 58.69953965694867), (-18.603789539251373, 61.666995646950795), (-18.603789539251373, 64.6344516369529), (-18.603789539251373, 67.601907626955), (-18.603789539251373, 70.5693636169571), (-18.603789539251373, 73.53681960695923), (-18.603789539251373, 76.50427559696134), (-18.603789539251373, 79.47173158696343), (-18.603789539251373, 82.43918757696554), (-18.603789539251373, 85.40664356696766), (-18.603789539251373, 88.37409955696977), (-18.603789539251373, 91.34155554697186), (-18.603789539251373, 94.30901153697397), (-18.603789539251373, 97.27646752697609), (-18.603789539251373, 100.2439235169782), (-18.603789539251373, 103.2113795069803), (-15.863797828743635, -80.77089187315039), (-15.863797828743635, -77.8034358831483), (-15.863797828743635, -74.83597989314617), (-15.863797828743635, -71.86852390314408), (-15.863797828743635, -68.90106791314196), (-15.863797828743635, -65.93361192313986), (-15.863797828743635, -62.96615593313775), (-15.863797828743635, -59.99869994313564), (-15.863797828743635, -57.03124395313353), (-15.863797828743635, -54.063787963131425), (-15.863797828743635, -51.09633197312932), (-15.863797828743635, -48.12887598312721), (-15.863797828743635, -45.1614199931251), (-15.863797828743635, -42.19396400312299), (-15.863797828743635, -39.226508013120885), (-15.863797828743635, -36.25905202311878), (-15.863797828743635, -33.29159603311667), (-15.863797828743635, -30.32414004311456), (-15.863797828743635, -27.356684053112453), (-15.863797828743635, -24.389228063110345), (-15.863797828743635, -21.421772073108237), (-15.863797828743635, -18.45431608310613), (-15.863797828743635, -15.48686009310402), (-15.863797828743635, -12.519404103101913), (-15.863797828743635, -9.551948113099805), (-15.863797828743635, -6.5844921230976965), (-15.863797828743635, -3.6170361330955885), (-15.863797828743635, -0.6495801430934804), (-15.863797828743635, 2.3178758469086276), (-15.863797828743635, 5.285331836910736), (-15.863797828743635, 8.252787826912844), (-15.863797828743635, 11.220243816914952), (-15.863797828743635, 14.18769980691706), (-15.863797828743635, 17.155155796919168), (-15.863797828743635, 20.122611786921276), (-15.863797828743635, 23.090067776923384), (-15.863797828743635, 26.05752376692549), (-15.863797828743635, 29.0249797569276), (-15.863797828743635, 31.992435746929708), (-15.863797828743635, 34.959891736931816), (-15.863797828743635, 37.927347726933924), (-15.863797828743635, 40.89480371693603), (-15.863797828743635, 43.86225970693814), (-15.863797828743635, 46.82971569694025), (-15.863797828743635, 49.79717168694236), (-15.863797828743635, 52.76462767694447), (-15.863797828743635, 55.732083666946565), (-15.863797828743635, 58.69953965694867), (-15.863797828743635, 61.666995646950795), (-15.863797828743635, 64.6344516369529), (-15.863797828743635, 67.601907626955), (-15.863797828743635, 70.5693636169571), (-15.863797828743635, 73.53681960695923), (-15.863797828743635, 76.50427559696134), (-15.863797828743635, 79.47173158696343), (-15.863797828743635, 82.43918757696554), (-15.863797828743635, 85.40664356696766), (-15.863797828743635, 88.37409955696977), (-15.863797828743635, 91.34155554697186), (-15.863797828743635, 94.30901153697397), (-15.863797828743635, 97.27646752697609), (-15.863797828743635, 100.2439235169782), (-15.863797828743635, 103.2113795069803), (-13.123806118235898, -80.77089187315039), (-13.123806118235898, -77.8034358831483), (-13.123806118235898, -74.83597989314617), (-13.123806118235898, -71.86852390314408), (-13.123806118235898, -68.90106791314196), (-13.123806118235898, -65.93361192313986), (-13.123806118235898, -62.96615593313775), (-13.123806118235898, -59.99869994313564), (-13.123806118235898, -57.03124395313353), (-13.123806118235898, -54.063787963131425), (-13.123806118235898, -51.09633197312932), (-13.123806118235898, -48.12887598312721), (-13.123806118235898, -45.1614199931251), (-13.123806118235898, -42.19396400312299), (-13.123806118235898, -39.226508013120885), (-13.123806118235898, -36.25905202311878), (-13.123806118235898, -33.29159603311667), (-13.123806118235898, -30.32414004311456), (-13.123806118235898, -27.356684053112453), (-13.123806118235898, -24.389228063110345), (-13.123806118235898, -21.421772073108237), (-13.123806118235898, -18.45431608310613), (-13.123806118235898, -15.48686009310402), (-13.123806118235898, -12.519404103101913), (-13.123806118235898, -9.551948113099805), (-13.123806118235898, -6.5844921230976965), (-13.123806118235898, -3.6170361330955885), (-13.123806118235898, -0.6495801430934804), (-13.123806118235898, 2.3178758469086276), (-13.123806118235898, 5.285331836910736), (-13.123806118235898, 8.252787826912844), (-13.123806118235898, 11.220243816914952), (-13.123806118235898, 14.18769980691706), (-13.123806118235898, 17.155155796919168), (-13.123806118235898, 20.122611786921276), (-13.123806118235898, 23.090067776923384), (-13.123806118235898, 26.05752376692549), (-13.123806118235898, 29.0249797569276), (-13.123806118235898, 31.992435746929708), (-13.123806118235898, 34.959891736931816), (-13.123806118235898, 37.927347726933924), (-13.123806118235898, 40.89480371693603), (-13.123806118235898, 43.86225970693814), (-13.123806118235898, 46.82971569694025), (-13.123806118235898, 49.79717168694236), (-13.123806118235898, 52.76462767694447), (-13.123806118235898, 55.732083666946565), (-13.123806118235898, 58.69953965694867), (-13.123806118235898, 61.666995646950795), (-13.123806118235898, 64.6344516369529), (-13.123806118235898, 67.601907626955), (-13.123806118235898, 70.5693636169571), (-13.123806118235898, 73.53681960695923), (-13.123806118235898, 76.50427559696134), (-13.123806118235898, 79.47173158696343), (-13.123806118235898, 82.43918757696554), (-13.123806118235898, 85.40664356696766), (-13.123806118235898, 88.37409955696977), (-13.123806118235898, 91.34155554697186), (-13.123806118235898, 94.30901153697397), (-13.123806118235898, 97.27646752697609), (-13.123806118235898, 100.2439235169782), (-13.123806118235898, 103.2113795069803), (-10.38381440772816, -80.77089187315039), (-10.38381440772816, -77.8034358831483), (-10.38381440772816, -74.83597989314617), (-10.38381440772816, -71.86852390314408), (-10.38381440772816, -68.90106791314196), (-10.38381440772816, -65.93361192313986), (-10.38381440772816, -62.96615593313775), (-10.38381440772816, -59.99869994313564), (-10.38381440772816, -57.03124395313353), (-10.38381440772816, -54.063787963131425), (-10.38381440772816, -51.09633197312932), (-10.38381440772816, -48.12887598312721), (-10.38381440772816, -45.1614199931251), (-10.38381440772816, -42.19396400312299), (-10.38381440772816, -39.226508013120885), (-10.38381440772816, -36.25905202311878), (-10.38381440772816, -33.29159603311667), (-10.38381440772816, -30.32414004311456), (-10.38381440772816, -27.356684053112453), (-10.38381440772816, -24.389228063110345), (-10.38381440772816, -21.421772073108237), (-10.38381440772816, -18.45431608310613), (-10.38381440772816, -15.48686009310402), (-10.38381440772816, -12.519404103101913), (-10.38381440772816, -9.551948113099805), (-10.38381440772816, -6.5844921230976965), (-10.38381440772816, -3.6170361330955885), (-10.38381440772816, -0.6495801430934804), (-10.38381440772816, 2.3178758469086276), (-10.38381440772816, 5.285331836910736), (-10.38381440772816, 8.252787826912844), (-10.38381440772816, 11.220243816914952), (-10.38381440772816, 14.18769980691706), (-10.38381440772816, 17.155155796919168), (-10.38381440772816, 20.122611786921276), (-10.38381440772816, 23.090067776923384), (-10.38381440772816, 26.05752376692549), (-10.38381440772816, 29.0249797569276), (-10.38381440772816, 31.992435746929708), (-10.38381440772816, 34.959891736931816), (-10.38381440772816, 37.927347726933924), (-10.38381440772816, 40.89480371693603), (-10.38381440772816, 43.86225970693814), (-10.38381440772816, 46.82971569694025), (-10.38381440772816, 49.79717168694236), (-10.38381440772816, 52.76462767694447), (-10.38381440772816, 55.732083666946565), (-10.38381440772816, 58.69953965694867), (-10.38381440772816, 61.666995646950795), (-10.38381440772816, 64.6344516369529), (-10.38381440772816, 67.601907626955), (-10.38381440772816, 70.5693636169571), (-10.38381440772816, 73.53681960695923), (-10.38381440772816, 76.50427559696134), (-10.38381440772816, 79.47173158696343), (-10.38381440772816, 82.43918757696554), (-10.38381440772816, 85.40664356696766), (-10.38381440772816, 88.37409955696977), (-10.38381440772816, 91.34155554697186), (-10.38381440772816, 94.30901153697397), (-10.38381440772816, 97.27646752697609), (-10.38381440772816, 100.2439235169782), (-10.38381440772816, 103.2113795069803), (-7.643822697220422, -80.77089187315039), (-7.643822697220422, -77.8034358831483), (-7.643822697220422, -74.83597989314617), (-7.643822697220422, -71.86852390314408), (-7.643822697220422, -68.90106791314196), (-7.643822697220422, -65.93361192313986), (-7.643822697220422, -62.96615593313775), (-7.643822697220422, -59.99869994313564), (-7.643822697220422, -57.03124395313353), (-7.643822697220422, -54.063787963131425), (-7.643822697220422, -51.09633197312932), (-7.643822697220422, -48.12887598312721), (-7.643822697220422, -45.1614199931251), (-7.643822697220422, -42.19396400312299), (-7.643822697220422, -39.226508013120885), (-7.643822697220422, -36.25905202311878), (-7.643822697220422, -33.29159603311667), (-7.643822697220422, -30.32414004311456), (-7.643822697220422, -27.356684053112453), (-7.643822697220422, -24.389228063110345), (-7.643822697220422, -21.421772073108237), (-7.643822697220422, -18.45431608310613), (-7.643822697220422, -15.48686009310402), (-7.643822697220422, -12.519404103101913), (-7.643822697220422, -9.551948113099805), (-7.643822697220422, -6.5844921230976965), (-7.643822697220422, -3.6170361330955885), (-7.643822697220422, -0.6495801430934804), (-7.643822697220422, 2.3178758469086276), (-7.643822697220422, 5.285331836910736), (-7.643822697220422, 8.252787826912844), (-7.643822697220422, 11.220243816914952), (-7.643822697220422, 14.18769980691706), (-7.643822697220422, 17.155155796919168), (-7.643822697220422, 20.122611786921276), (-7.643822697220422, 23.090067776923384), (-7.643822697220422, 26.05752376692549), (-7.643822697220422, 29.0249797569276), (-7.643822697220422, 31.992435746929708), (-7.643822697220422, 34.959891736931816), (-7.643822697220422, 37.927347726933924), (-7.643822697220422, 40.89480371693603), (-7.643822697220422, 43.86225970693814), (-7.643822697220422, 46.82971569694025), (-7.643822697220422, 49.79717168694236), (-7.643822697220422, 52.76462767694447), (-7.643822697220422, 55.732083666946565), (-7.643822697220422, 58.69953965694867), (-7.643822697220422, 61.666995646950795), (-7.643822697220422, 64.6344516369529), (-7.643822697220422, 67.601907626955), (-7.643822697220422, 70.5693636169571), (-7.643822697220422, 73.53681960695923), (-7.643822697220422, 76.50427559696134), (-7.643822697220422, 79.47173158696343), (-7.643822697220422, 82.43918757696554), (-7.643822697220422, 85.40664356696766), (-7.643822697220422, 88.37409955696977), (-7.643822697220422, 91.34155554697186), (-7.643822697220422, 94.30901153697397), (-7.643822697220422, 97.27646752697609), (-7.643822697220422, 100.2439235169782), (-7.643822697220422, 103.2113795069803), (-4.903830986712684, -80.77089187315039), (-4.903830986712684, -77.8034358831483), (-4.903830986712684, -74.83597989314617), (-4.903830986712684, -71.86852390314408), (-4.903830986712684, -68.90106791314196), (-4.903830986712684, -65.93361192313986), (-4.903830986712684, -62.96615593313775), (-4.903830986712684, -59.99869994313564), (-4.903830986712684, -57.03124395313353), (-4.903830986712684, -54.063787963131425), (-4.903830986712684, -51.09633197312932), (-4.903830986712684, -48.12887598312721), (-4.903830986712684, -45.1614199931251), (-4.903830986712684, -42.19396400312299), (-4.903830986712684, -39.226508013120885), (-4.903830986712684, -36.25905202311878), (-4.903830986712684, -33.29159603311667), (-4.903830986712684, -30.32414004311456), (-4.903830986712684, -27.356684053112453), (-4.903830986712684, -24.389228063110345), (-4.903830986712684, -21.421772073108237), (-4.903830986712684, -18.45431608310613), (-4.903830986712684, -15.48686009310402), (-4.903830986712684, -12.519404103101913), (-4.903830986712684, -9.551948113099805), (-4.903830986712684, -6.5844921230976965), (-4.903830986712684, -3.6170361330955885), (-4.903830986712684, -0.6495801430934804), (-4.903830986712684, 2.3178758469086276), (-4.903830986712684, 5.285331836910736), (-4.903830986712684, 8.252787826912844), (-4.903830986712684, 11.220243816914952), (-4.903830986712684, 14.18769980691706), (-4.903830986712684, 17.155155796919168), (-4.903830986712684, 20.122611786921276), (-4.903830986712684, 23.090067776923384), (-4.903830986712684, 26.05752376692549), (-4.903830986712684, 29.0249797569276), (-4.903830986712684, 31.992435746929708), (-4.903830986712684, 34.959891736931816), (-4.903830986712684, 37.927347726933924), (-4.903830986712684, 40.89480371693603), (-4.903830986712684, 43.86225970693814), (-4.903830986712684, 46.82971569694025), (-4.903830986712684, 49.79717168694236), (-4.903830986712684, 52.76462767694447), (-4.903830986712684, 55.732083666946565), (-4.903830986712684, 58.69953965694867), (-4.903830986712684, 61.666995646950795), (-4.903830986712684, 64.6344516369529), (-4.903830986712684, 67.601907626955), (-4.903830986712684, 70.5693636169571), (-4.903830986712684, 73.53681960695923), (-4.903830986712684, 76.50427559696134), (-4.903830986712684, 79.47173158696343), (-4.903830986712684, 82.43918757696554), (-4.903830986712684, 85.40664356696766), (-4.903830986712684, 88.37409955696977), (-4.903830986712684, 91.34155554697186), (-4.903830986712684, 94.30901153697397), (-4.903830986712684, 97.27646752697609), (-4.903830986712684, 100.2439235169782), (-4.903830986712684, 103.2113795069803), (-2.1638392762049463, -80.77089187315039), (-2.1638392762049463, -77.8034358831483), (-2.1638392762049463, -74.83597989314617), (-2.1638392762049463, -71.86852390314408), (-2.1638392762049463, -68.90106791314196), (-2.1638392762049463, -65.93361192313986), (-2.1638392762049463, -62.96615593313775), (-2.1638392762049463, -59.99869994313564), (-2.1638392762049463, -57.03124395313353), (-2.1638392762049463, -54.063787963131425), (-2.1638392762049463, -51.09633197312932), (-2.1638392762049463, -48.12887598312721), (-2.1638392762049463, -45.1614199931251), (-2.1638392762049463, -42.19396400312299), (-2.1638392762049463, -39.226508013120885), (-2.1638392762049463, -36.25905202311878), (-2.1638392762049463, -33.29159603311667), (-2.1638392762049463, -30.32414004311456), (-2.1638392762049463, -27.356684053112453), (-2.1638392762049463, -24.389228063110345), (-2.1638392762049463, -21.421772073108237), (-2.1638392762049463, -18.45431608310613), (-2.1638392762049463, -15.48686009310402), (-2.1638392762049463, -12.519404103101913), (-2.1638392762049463, -9.551948113099805), (-2.1638392762049463, -6.5844921230976965), (-2.1638392762049463, -3.6170361330955885), (-2.1638392762049463, -0.6495801430934804), (-2.1638392762049463, 2.3178758469086276), (-2.1638392762049463, 5.285331836910736), (-2.1638392762049463, 8.252787826912844), (-2.1638392762049463, 11.220243816914952), (-2.1638392762049463, 14.18769980691706), (-2.1638392762049463, 17.155155796919168), (-2.1638392762049463, 20.122611786921276), (-2.1638392762049463, 23.090067776923384), (-2.1638392762049463, 26.05752376692549), (-2.1638392762049463, 29.0249797569276), (-2.1638392762049463, 31.992435746929708), (-2.1638392762049463, 34.959891736931816), (-2.1638392762049463, 37.927347726933924), (-2.1638392762049463, 40.89480371693603), (-2.1638392762049463, 43.86225970693814), (-2.1638392762049463, 46.82971569694025), (-2.1638392762049463, 49.79717168694236), (-2.1638392762049463, 52.76462767694447), (-2.1638392762049463, 55.732083666946565), (-2.1638392762049463, 58.69953965694867), (-2.1638392762049463, 61.666995646950795), (-2.1638392762049463, 64.6344516369529), (-2.1638392762049463, 67.601907626955), (-2.1638392762049463, 70.5693636169571), (-2.1638392762049463, 73.53681960695923), (-2.1638392762049463, 76.50427559696134), (-2.1638392762049463, 79.47173158696343), (-2.1638392762049463, 82.43918757696554), (-2.1638392762049463, 85.40664356696766), (-2.1638392762049463, 88.37409955696977), (-2.1638392762049463, 91.34155554697186), (-2.1638392762049463, 94.30901153697397), (-2.1638392762049463, 97.27646752697609), (-2.1638392762049463, 100.2439235169782), (-2.1638392762049463, 103.2113795069803), (0.5761524343027915, -80.77089187315039), (0.5761524343027915, -77.8034358831483), (0.5761524343027915, -74.83597989314617), (0.5761524343027915, -71.86852390314408), (0.5761524343027915, -68.90106791314196), (0.5761524343027915, -65.93361192313986), (0.5761524343027915, -62.96615593313775), (0.5761524343027915, -59.99869994313564), (0.5761524343027915, -57.03124395313353), (0.5761524343027915, -54.063787963131425), (0.5761524343027915, -51.09633197312932), (0.5761524343027915, -48.12887598312721), (0.5761524343027915, -45.1614199931251), (0.5761524343027915, -42.19396400312299), (0.5761524343027915, -39.226508013120885), (0.5761524343027915, -36.25905202311878), (0.5761524343027915, -33.29159603311667), (0.5761524343027915, -30.32414004311456), (0.5761524343027915, -27.356684053112453), (0.5761524343027915, -24.389228063110345), (0.5761524343027915, -21.421772073108237), (0.5761524343027915, -18.45431608310613), (0.5761524343027915, -15.48686009310402), (0.5761524343027915, -12.519404103101913), (0.5761524343027915, -9.551948113099805), (0.5761524343027915, -6.5844921230976965), (0.5761524343027915, -3.6170361330955885), (0.5761524343027915, -0.6495801430934804), (0.5761524343027915, 2.3178758469086276), (0.5761524343027915, 5.285331836910736), (0.5761524343027915, 8.252787826912844), (0.5761524343027915, 11.220243816914952), (0.5761524343027915, 14.18769980691706), (0.5761524343027915, 17.155155796919168), (0.5761524343027915, 20.122611786921276), (0.5761524343027915, 23.090067776923384), (0.5761524343027915, 26.05752376692549), (0.5761524343027915, 29.0249797569276), (0.5761524343027915, 31.992435746929708), (0.5761524343027915, 34.959891736931816), (0.5761524343027915, 37.927347726933924), (0.5761524343027915, 40.89480371693603), (0.5761524343027915, 43.86225970693814), (0.5761524343027915, 46.82971569694025), (0.5761524343027915, 49.79717168694236), (0.5761524343027915, 52.76462767694447), (0.5761524343027915, 55.732083666946565), (0.5761524343027915, 58.69953965694867), (0.5761524343027915, 61.666995646950795), (0.5761524343027915, 64.6344516369529), (0.5761524343027915, 67.601907626955), (0.5761524343027915, 70.5693636169571), (0.5761524343027915, 73.53681960695923), (0.5761524343027915, 76.50427559696134), (0.5761524343027915, 79.47173158696343), (0.5761524343027915, 82.43918757696554), (0.5761524343027915, 85.40664356696766), (0.5761524343027915, 88.37409955696977), (0.5761524343027915, 91.34155554697186), (0.5761524343027915, 94.30901153697397), (0.5761524343027915, 97.27646752697609), (0.5761524343027915, 100.2439235169782), (0.5761524343027915, 103.2113795069803), (3.3161441448105293, -80.77089187315039), (3.3161441448105293, -77.8034358831483), (3.3161441448105293, -74.83597989314617), (3.3161441448105293, -71.86852390314408), (3.3161441448105293, -68.90106791314196), (3.3161441448105293, -65.93361192313986), (3.3161441448105293, -62.96615593313775), (3.3161441448105293, -59.99869994313564), (3.3161441448105293, -57.03124395313353), (3.3161441448105293, -54.063787963131425), (3.3161441448105293, -51.09633197312932), (3.3161441448105293, -48.12887598312721), (3.3161441448105293, -45.1614199931251), (3.3161441448105293, -42.19396400312299), (3.3161441448105293, -39.226508013120885), (3.3161441448105293, -36.25905202311878), (3.3161441448105293, -33.29159603311667), (3.3161441448105293, -30.32414004311456), (3.3161441448105293, -27.356684053112453), (3.3161441448105293, -24.389228063110345), (3.3161441448105293, -21.421772073108237), (3.3161441448105293, -18.45431608310613), (3.3161441448105293, -15.48686009310402), (3.3161441448105293, -12.519404103101913), (3.3161441448105293, -9.551948113099805), (3.3161441448105293, -6.5844921230976965), (3.3161441448105293, -3.6170361330955885), (3.3161441448105293, -0.6495801430934804), (3.3161441448105293, 2.3178758469086276), (3.3161441448105293, 5.285331836910736), (3.3161441448105293, 8.252787826912844), (3.3161441448105293, 11.220243816914952), (3.3161441448105293, 14.18769980691706), (3.3161441448105293, 17.155155796919168), (3.3161441448105293, 20.122611786921276), (3.3161441448105293, 23.090067776923384), (3.3161441448105293, 26.05752376692549), (3.3161441448105293, 29.0249797569276), (3.3161441448105293, 31.992435746929708), (3.3161441448105293, 34.959891736931816), (3.3161441448105293, 37.927347726933924), (3.3161441448105293, 40.89480371693603), (3.3161441448105293, 43.86225970693814), (3.3161441448105293, 46.82971569694025), (3.3161441448105293, 49.79717168694236), (3.3161441448105293, 52.76462767694447), (3.3161441448105293, 55.732083666946565), (3.3161441448105293, 58.69953965694867), (3.3161441448105293, 61.666995646950795), (3.3161441448105293, 64.6344516369529), (3.3161441448105293, 67.601907626955), (3.3161441448105293, 70.5693636169571), (3.3161441448105293, 73.53681960695923), (3.3161441448105293, 76.50427559696134), (3.3161441448105293, 79.47173158696343), (3.3161441448105293, 82.43918757696554), (3.3161441448105293, 85.40664356696766), (3.3161441448105293, 88.37409955696977), (3.3161441448105293, 91.34155554697186), (3.3161441448105293, 94.30901153697397), (3.3161441448105293, 97.27646752697609), (3.3161441448105293, 100.2439235169782), (3.3161441448105293, 103.2113795069803), (6.056135855318267, -80.77089187315039), (6.056135855318267, -77.8034358831483), (6.056135855318267, -74.83597989314617), (6.056135855318267, -71.86852390314408), (6.056135855318267, -68.90106791314196), (6.056135855318267, -65.93361192313986), (6.056135855318267, -62.96615593313775), (6.056135855318267, -59.99869994313564), (6.056135855318267, -57.03124395313353), (6.056135855318267, -54.063787963131425), (6.056135855318267, -51.09633197312932), (6.056135855318267, -48.12887598312721), (6.056135855318267, -45.1614199931251), (6.056135855318267, -42.19396400312299), (6.056135855318267, -39.226508013120885), (6.056135855318267, -36.25905202311878), (6.056135855318267, -33.29159603311667), (6.056135855318267, -30.32414004311456), (6.056135855318267, -27.356684053112453), (6.056135855318267, -24.389228063110345), (6.056135855318267, -21.421772073108237), (6.056135855318267, -18.45431608310613), (6.056135855318267, -15.48686009310402), (6.056135855318267, -12.519404103101913), (6.056135855318267, -9.551948113099805), (6.056135855318267, -6.5844921230976965), (6.056135855318267, -3.6170361330955885), (6.056135855318267, -0.6495801430934804), (6.056135855318267, 2.3178758469086276), (6.056135855318267, 5.285331836910736), (6.056135855318267, 8.252787826912844), (6.056135855318267, 11.220243816914952), (6.056135855318267, 14.18769980691706), (6.056135855318267, 17.155155796919168), (6.056135855318267, 20.122611786921276), (6.056135855318267, 23.090067776923384), (6.056135855318267, 26.05752376692549), (6.056135855318267, 29.0249797569276), (6.056135855318267, 31.992435746929708), (6.056135855318267, 34.959891736931816), (6.056135855318267, 37.927347726933924), (6.056135855318267, 40.89480371693603), (6.056135855318267, 43.86225970693814), (6.056135855318267, 46.82971569694025), (6.056135855318267, 49.79717168694236), (6.056135855318267, 52.76462767694447), (6.056135855318267, 55.732083666946565), (6.056135855318267, 58.69953965694867), (6.056135855318267, 61.666995646950795), (6.056135855318267, 64.6344516369529), (6.056135855318267, 67.601907626955), (6.056135855318267, 70.5693636169571), (6.056135855318267, 73.53681960695923), (6.056135855318267, 76.50427559696134), (6.056135855318267, 79.47173158696343), (6.056135855318267, 82.43918757696554), (6.056135855318267, 85.40664356696766), (6.056135855318267, 88.37409955696977), (6.056135855318267, 91.34155554697186), (6.056135855318267, 94.30901153697397), (6.056135855318267, 97.27646752697609), (6.056135855318267, 100.2439235169782), (6.056135855318267, 103.2113795069803), (8.796127565826005, -80.77089187315039), (8.796127565826005, -77.8034358831483), (8.796127565826005, -74.83597989314617), (8.796127565826005, -71.86852390314408), (8.796127565826005, -68.90106791314196), (8.796127565826005, -65.93361192313986), (8.796127565826005, -62.96615593313775), (8.796127565826005, -59.99869994313564), (8.796127565826005, -57.03124395313353), (8.796127565826005, -54.063787963131425), (8.796127565826005, -51.09633197312932), (8.796127565826005, -48.12887598312721), (8.796127565826005, -45.1614199931251), (8.796127565826005, -42.19396400312299), (8.796127565826005, -39.226508013120885), (8.796127565826005, -36.25905202311878), (8.796127565826005, -33.29159603311667), (8.796127565826005, -30.32414004311456), (8.796127565826005, -27.356684053112453), (8.796127565826005, -24.389228063110345), (8.796127565826005, -21.421772073108237), (8.796127565826005, -18.45431608310613), (8.796127565826005, -15.48686009310402), (8.796127565826005, -12.519404103101913), (8.796127565826005, -9.551948113099805), (8.796127565826005, -6.5844921230976965), (8.796127565826005, -3.6170361330955885), (8.796127565826005, -0.6495801430934804), (8.796127565826005, 2.3178758469086276), (8.796127565826005, 5.285331836910736), (8.796127565826005, 8.252787826912844), (8.796127565826005, 11.220243816914952), (8.796127565826005, 14.18769980691706), (8.796127565826005, 17.155155796919168), (8.796127565826005, 20.122611786921276), (8.796127565826005, 23.090067776923384), (8.796127565826005, 26.05752376692549), (8.796127565826005, 29.0249797569276), (8.796127565826005, 31.992435746929708), (8.796127565826005, 34.959891736931816), (8.796127565826005, 37.927347726933924), (8.796127565826005, 40.89480371693603), (8.796127565826005, 43.86225970693814), (8.796127565826005, 46.82971569694025), (8.796127565826005, 49.79717168694236), (8.796127565826005, 52.76462767694447), (8.796127565826005, 55.732083666946565), (8.796127565826005, 58.69953965694867), (8.796127565826005, 61.666995646950795), (8.796127565826005, 64.6344516369529), (8.796127565826005, 67.601907626955), (8.796127565826005, 70.5693636169571), (8.796127565826005, 73.53681960695923), (8.796127565826005, 76.50427559696134), (8.796127565826005, 79.47173158696343), (8.796127565826005, 82.43918757696554), (8.796127565826005, 85.40664356696766), (8.796127565826005, 88.37409955696977), (8.796127565826005, 91.34155554697186), (8.796127565826005, 94.30901153697397), (8.796127565826005, 97.27646752697609), (8.796127565826005, 100.2439235169782), (8.796127565826005, 103.2113795069803), (11.536119276333743, -80.77089187315039), (11.536119276333743, -77.8034358831483), (11.536119276333743, -74.83597989314617), (11.536119276333743, -71.86852390314408), (11.536119276333743, -68.90106791314196), (11.536119276333743, -65.93361192313986), (11.536119276333743, -62.96615593313775), (11.536119276333743, -59.99869994313564), (11.536119276333743, -57.03124395313353), (11.536119276333743, -54.063787963131425), (11.536119276333743, -51.09633197312932), (11.536119276333743, -48.12887598312721), (11.536119276333743, -45.1614199931251), (11.536119276333743, -42.19396400312299), (11.536119276333743, -39.226508013120885), (11.536119276333743, -36.25905202311878), (11.536119276333743, -33.29159603311667), (11.536119276333743, -30.32414004311456), (11.536119276333743, -27.356684053112453), (11.536119276333743, -24.389228063110345), (11.536119276333743, -21.421772073108237), (11.536119276333743, -18.45431608310613), (11.536119276333743, -15.48686009310402), (11.536119276333743, -12.519404103101913), (11.536119276333743, -9.551948113099805), (11.536119276333743, -6.5844921230976965), (11.536119276333743, -3.6170361330955885), (11.536119276333743, -0.6495801430934804), (11.536119276333743, 2.3178758469086276), (11.536119276333743, 5.285331836910736), (11.536119276333743, 8.252787826912844), (11.536119276333743, 11.220243816914952), (11.536119276333743, 14.18769980691706), (11.536119276333743, 17.155155796919168), (11.536119276333743, 20.122611786921276), (11.536119276333743, 23.090067776923384), (11.536119276333743, 26.05752376692549), (11.536119276333743, 29.0249797569276), (11.536119276333743, 31.992435746929708), (11.536119276333743, 34.959891736931816), (11.536119276333743, 37.927347726933924), (11.536119276333743, 40.89480371693603), (11.536119276333743, 43.86225970693814), (11.536119276333743, 46.82971569694025), (11.536119276333743, 49.79717168694236), (11.536119276333743, 52.76462767694447), (11.536119276333743, 55.732083666946565), (11.536119276333743, 58.69953965694867), (11.536119276333743, 61.666995646950795), (11.536119276333743, 64.6344516369529), (11.536119276333743, 67.601907626955), (11.536119276333743, 70.5693636169571), (11.536119276333743, 73.53681960695923), (11.536119276333743, 76.50427559696134), (11.536119276333743, 79.47173158696343), (11.536119276333743, 82.43918757696554), (11.536119276333743, 85.40664356696766), (11.536119276333743, 88.37409955696977), (11.536119276333743, 91.34155554697186), (11.536119276333743, 94.30901153697397), (11.536119276333743, 97.27646752697609), (11.536119276333743, 100.2439235169782), (11.536119276333743, 103.2113795069803), (14.27611098684148, -80.77089187315039), (14.27611098684148, -77.8034358831483), (14.27611098684148, -74.83597989314617), (14.27611098684148, -71.86852390314408), (14.27611098684148, -68.90106791314196), (14.27611098684148, -65.93361192313986), (14.27611098684148, -62.96615593313775), (14.27611098684148, -59.99869994313564), (14.27611098684148, -57.03124395313353), (14.27611098684148, -54.063787963131425), (14.27611098684148, -51.09633197312932), (14.27611098684148, -48.12887598312721), (14.27611098684148, -45.1614199931251), (14.27611098684148, -42.19396400312299), (14.27611098684148, -39.226508013120885), (14.27611098684148, -36.25905202311878), (14.27611098684148, -33.29159603311667), (14.27611098684148, -30.32414004311456), (14.27611098684148, -27.356684053112453), (14.27611098684148, -24.389228063110345), (14.27611098684148, -21.421772073108237), (14.27611098684148, -18.45431608310613), (14.27611098684148, -15.48686009310402), (14.27611098684148, -12.519404103101913), (14.27611098684148, -9.551948113099805), (14.27611098684148, -6.5844921230976965), (14.27611098684148, -3.6170361330955885), (14.27611098684148, -0.6495801430934804), (14.27611098684148, 2.3178758469086276), (14.27611098684148, 5.285331836910736), (14.27611098684148, 8.252787826912844), (14.27611098684148, 11.220243816914952), (14.27611098684148, 14.18769980691706), (14.27611098684148, 17.155155796919168), (14.27611098684148, 20.122611786921276), (14.27611098684148, 23.090067776923384), (14.27611098684148, 26.05752376692549), (14.27611098684148, 29.0249797569276), (14.27611098684148, 31.992435746929708), (14.27611098684148, 34.959891736931816), (14.27611098684148, 37.927347726933924), (14.27611098684148, 40.89480371693603), (14.27611098684148, 43.86225970693814), (14.27611098684148, 46.82971569694025), (14.27611098684148, 49.79717168694236), (14.27611098684148, 52.76462767694447), (14.27611098684148, 55.732083666946565), (14.27611098684148, 58.69953965694867), (14.27611098684148, 61.666995646950795), (14.27611098684148, 64.6344516369529), (14.27611098684148, 67.601907626955), (14.27611098684148, 70.5693636169571), (14.27611098684148, 73.53681960695923), (14.27611098684148, 76.50427559696134), (14.27611098684148, 79.47173158696343), (14.27611098684148, 82.43918757696554), (14.27611098684148, 85.40664356696766), (14.27611098684148, 88.37409955696977), (14.27611098684148, 91.34155554697186), (14.27611098684148, 94.30901153697397), (14.27611098684148, 97.27646752697609), (14.27611098684148, 100.2439235169782), (14.27611098684148, 103.2113795069803), (17.01610269734922, -80.77089187315039), (17.01610269734922, -77.8034358831483), (17.01610269734922, -74.83597989314617), (17.01610269734922, -71.86852390314408), (17.01610269734922, -68.90106791314196), (17.01610269734922, -65.93361192313986), (17.01610269734922, -62.96615593313775), (17.01610269734922, -59.99869994313564), (17.01610269734922, -57.03124395313353), (17.01610269734922, -54.063787963131425), (17.01610269734922, -51.09633197312932), (17.01610269734922, -48.12887598312721), (17.01610269734922, -45.1614199931251), (17.01610269734922, -42.19396400312299), (17.01610269734922, -39.226508013120885), (17.01610269734922, -36.25905202311878), (17.01610269734922, -33.29159603311667), (17.01610269734922, -30.32414004311456), (17.01610269734922, -27.356684053112453), (17.01610269734922, -24.389228063110345), (17.01610269734922, -21.421772073108237), (17.01610269734922, -18.45431608310613), (17.01610269734922, -15.48686009310402), (17.01610269734922, -12.519404103101913), (17.01610269734922, -9.551948113099805), (17.01610269734922, -6.5844921230976965), (17.01610269734922, -3.6170361330955885), (17.01610269734922, -0.6495801430934804), (17.01610269734922, 2.3178758469086276), (17.01610269734922, 5.285331836910736), (17.01610269734922, 8.252787826912844), (17.01610269734922, 11.220243816914952), (17.01610269734922, 14.18769980691706), (17.01610269734922, 17.155155796919168), (17.01610269734922, 20.122611786921276), (17.01610269734922, 23.090067776923384), (17.01610269734922, 26.05752376692549), (17.01610269734922, 29.0249797569276), (17.01610269734922, 31.992435746929708), (17.01610269734922, 34.959891736931816), (17.01610269734922, 37.927347726933924), (17.01610269734922, 40.89480371693603), (17.01610269734922, 43.86225970693814), (17.01610269734922, 46.82971569694025), (17.01610269734922, 49.79717168694236), (17.01610269734922, 52.76462767694447), (17.01610269734922, 55.732083666946565), (17.01610269734922, 58.69953965694867), (17.01610269734922, 61.666995646950795), (17.01610269734922, 64.6344516369529), (17.01610269734922, 67.601907626955), (17.01610269734922, 70.5693636169571), (17.01610269734922, 73.53681960695923), (17.01610269734922, 76.50427559696134), (17.01610269734922, 79.47173158696343), (17.01610269734922, 82.43918757696554), (17.01610269734922, 85.40664356696766), (17.01610269734922, 88.37409955696977), (17.01610269734922, 91.34155554697186), (17.01610269734922, 94.30901153697397), (17.01610269734922, 97.27646752697609), (17.01610269734922, 100.2439235169782), (17.01610269734922, 103.2113795069803), (19.756094407856956, -80.77089187315039), (19.756094407856956, -77.8034358831483), (19.756094407856956, -74.83597989314617), (19.756094407856956, -71.86852390314408), (19.756094407856956, -68.90106791314196), (19.756094407856956, -65.93361192313986), (19.756094407856956, -62.96615593313775), (19.756094407856956, -59.99869994313564), (19.756094407856956, -57.03124395313353), (19.756094407856956, -54.063787963131425), (19.756094407856956, -51.09633197312932), (19.756094407856956, -48.12887598312721), (19.756094407856956, -45.1614199931251), (19.756094407856956, -42.19396400312299), (19.756094407856956, -39.226508013120885), (19.756094407856956, -36.25905202311878), (19.756094407856956, -33.29159603311667), (19.756094407856956, -30.32414004311456), (19.756094407856956, -27.356684053112453), (19.756094407856956, -24.389228063110345), (19.756094407856956, -21.421772073108237), (19.756094407856956, -18.45431608310613), (19.756094407856956, -15.48686009310402), (19.756094407856956, -12.519404103101913), (19.756094407856956, -9.551948113099805), (19.756094407856956, -6.5844921230976965), (19.756094407856956, -3.6170361330955885), (19.756094407856956, -0.6495801430934804), (19.756094407856956, 2.3178758469086276), (19.756094407856956, 5.285331836910736), (19.756094407856956, 8.252787826912844), (19.756094407856956, 11.220243816914952), (19.756094407856956, 14.18769980691706), (19.756094407856956, 17.155155796919168), (19.756094407856956, 20.122611786921276), (19.756094407856956, 23.090067776923384), (19.756094407856956, 26.05752376692549), (19.756094407856956, 29.0249797569276), (19.756094407856956, 31.992435746929708), (19.756094407856956, 34.959891736931816), (19.756094407856956, 37.927347726933924), (19.756094407856956, 40.89480371693603), (19.756094407856956, 43.86225970693814), (19.756094407856956, 46.82971569694025), (19.756094407856956, 49.79717168694236), (19.756094407856956, 52.76462767694447), (19.756094407856956, 55.732083666946565), (19.756094407856956, 58.69953965694867), (19.756094407856956, 61.666995646950795), (19.756094407856956, 64.6344516369529), (19.756094407856956, 67.601907626955), (19.756094407856956, 70.5693636169571), (19.756094407856956, 73.53681960695923), (19.756094407856956, 76.50427559696134), (19.756094407856956, 79.47173158696343), (19.756094407856956, 82.43918757696554), (19.756094407856956, 85.40664356696766), (19.756094407856956, 88.37409955696977), (19.756094407856956, 91.34155554697186), (19.756094407856956, 94.30901153697397), (19.756094407856956, 97.27646752697609), (19.756094407856956, 100.2439235169782), (19.756094407856956, 103.2113795069803), (22.496086118364694, -80.77089187315039), (22.496086118364694, -77.8034358831483), (22.496086118364694, -74.83597989314617), (22.496086118364694, -71.86852390314408), (22.496086118364694, -68.90106791314196), (22.496086118364694, -65.93361192313986), (22.496086118364694, -62.96615593313775), (22.496086118364694, -59.99869994313564), (22.496086118364694, -57.03124395313353), (22.496086118364694, -54.063787963131425), (22.496086118364694, -51.09633197312932), (22.496086118364694, -48.12887598312721), (22.496086118364694, -45.1614199931251), (22.496086118364694, -42.19396400312299), (22.496086118364694, -39.226508013120885), (22.496086118364694, -36.25905202311878), (22.496086118364694, -33.29159603311667), (22.496086118364694, -30.32414004311456), (22.496086118364694, -27.356684053112453), (22.496086118364694, -24.389228063110345), (22.496086118364694, -21.421772073108237), (22.496086118364694, -18.45431608310613), (22.496086118364694, -15.48686009310402), (22.496086118364694, -12.519404103101913), (22.496086118364694, -9.551948113099805), (22.496086118364694, -6.5844921230976965), (22.496086118364694, -3.6170361330955885), (22.496086118364694, -0.6495801430934804), (22.496086118364694, 2.3178758469086276), (22.496086118364694, 5.285331836910736), (22.496086118364694, 8.252787826912844), (22.496086118364694, 11.220243816914952), (22.496086118364694, 14.18769980691706), (22.496086118364694, 17.155155796919168), (22.496086118364694, 20.122611786921276), (22.496086118364694, 23.090067776923384), (22.496086118364694, 26.05752376692549), (22.496086118364694, 29.0249797569276), (22.496086118364694, 31.992435746929708), (22.496086118364694, 34.959891736931816), (22.496086118364694, 37.927347726933924), (22.496086118364694, 40.89480371693603), (22.496086118364694, 43.86225970693814), (22.496086118364694, 46.82971569694025), (22.496086118364694, 49.79717168694236), (22.496086118364694, 52.76462767694447), (22.496086118364694, 55.732083666946565), (22.496086118364694, 58.69953965694867), (22.496086118364694, 61.666995646950795), (22.496086118364694, 64.6344516369529), (22.496086118364694, 67.601907626955), (22.496086118364694, 70.5693636169571), (22.496086118364694, 73.53681960695923), (22.496086118364694, 76.50427559696134), (22.496086118364694, 79.47173158696343), (22.496086118364694, 82.43918757696554), (22.496086118364694, 85.40664356696766), (22.496086118364694, 88.37409955696977), (22.496086118364694, 91.34155554697186), (22.496086118364694, 94.30901153697397), (22.496086118364694, 97.27646752697609), (22.496086118364694, 100.2439235169782), (22.496086118364694, 103.2113795069803), (25.236077828872432, -80.77089187315039), (25.236077828872432, -77.8034358831483), (25.236077828872432, -74.83597989314617), (25.236077828872432, -71.86852390314408), (25.236077828872432, -68.90106791314196), (25.236077828872432, -65.93361192313986), (25.236077828872432, -62.96615593313775), (25.236077828872432, -59.99869994313564), (25.236077828872432, -57.03124395313353), (25.236077828872432, -54.063787963131425), (25.236077828872432, -51.09633197312932), (25.236077828872432, -48.12887598312721), (25.236077828872432, -45.1614199931251), (25.236077828872432, -42.19396400312299), (25.236077828872432, -39.226508013120885), (25.236077828872432, -36.25905202311878), (25.236077828872432, -33.29159603311667), (25.236077828872432, -30.32414004311456), (25.236077828872432, -27.356684053112453), (25.236077828872432, -24.389228063110345), (25.236077828872432, -21.421772073108237), (25.236077828872432, -18.45431608310613), (25.236077828872432, -15.48686009310402), (25.236077828872432, -12.519404103101913), (25.236077828872432, -9.551948113099805), (25.236077828872432, -6.5844921230976965), (25.236077828872432, -3.6170361330955885), (25.236077828872432, -0.6495801430934804), (25.236077828872432, 2.3178758469086276), (25.236077828872432, 5.285331836910736), (25.236077828872432, 8.252787826912844), (25.236077828872432, 11.220243816914952), (25.236077828872432, 14.18769980691706), (25.236077828872432, 17.155155796919168), (25.236077828872432, 20.122611786921276), (25.236077828872432, 23.090067776923384), (25.236077828872432, 26.05752376692549), (25.236077828872432, 29.0249797569276), (25.236077828872432, 31.992435746929708), (25.236077828872432, 34.959891736931816), (25.236077828872432, 37.927347726933924), (25.236077828872432, 40.89480371693603), (25.236077828872432, 43.86225970693814), (25.236077828872432, 46.82971569694025), (25.236077828872432, 49.79717168694236), (25.236077828872432, 52.76462767694447), (25.236077828872432, 55.732083666946565), (25.236077828872432, 58.69953965694867), (25.236077828872432, 61.666995646950795), (25.236077828872432, 64.6344516369529), (25.236077828872432, 67.601907626955), (25.236077828872432, 70.5693636169571), (25.236077828872432, 73.53681960695923), (25.236077828872432, 76.50427559696134), (25.236077828872432, 79.47173158696343), (25.236077828872432, 82.43918757696554), (25.236077828872432, 85.40664356696766), (25.236077828872432, 88.37409955696977), (25.236077828872432, 91.34155554697186), (25.236077828872432, 94.30901153697397), (25.236077828872432, 97.27646752697609), (25.236077828872432, 100.2439235169782), (25.236077828872432, 103.2113795069803), (27.97606953938017, -80.77089187315039), (27.97606953938017, -77.8034358831483), (27.97606953938017, -74.83597989314617), (27.97606953938017, -71.86852390314408), (27.97606953938017, -68.90106791314196), (27.97606953938017, -65.93361192313986), (27.97606953938017, -62.96615593313775), (27.97606953938017, -59.99869994313564), (27.97606953938017, -57.03124395313353), (27.97606953938017, -54.063787963131425), (27.97606953938017, -51.09633197312932), (27.97606953938017, -48.12887598312721), (27.97606953938017, -45.1614199931251), (27.97606953938017, -42.19396400312299), (27.97606953938017, -39.226508013120885), (27.97606953938017, -36.25905202311878), (27.97606953938017, -33.29159603311667), (27.97606953938017, -30.32414004311456), (27.97606953938017, -27.356684053112453), (27.97606953938017, -24.389228063110345), (27.97606953938017, -21.421772073108237), (27.97606953938017, -18.45431608310613), (27.97606953938017, -15.48686009310402), (27.97606953938017, -12.519404103101913), (27.97606953938017, -9.551948113099805), (27.97606953938017, -6.5844921230976965), (27.97606953938017, -3.6170361330955885), (27.97606953938017, -0.6495801430934804), (27.97606953938017, 2.3178758469086276), (27.97606953938017, 5.285331836910736), (27.97606953938017, 8.252787826912844), (27.97606953938017, 11.220243816914952), (27.97606953938017, 14.18769980691706), (27.97606953938017, 17.155155796919168), (27.97606953938017, 20.122611786921276), (27.97606953938017, 23.090067776923384), (27.97606953938017, 26.05752376692549), (27.97606953938017, 29.0249797569276), (27.97606953938017, 31.992435746929708), (27.97606953938017, 34.959891736931816), (27.97606953938017, 37.927347726933924), (27.97606953938017, 40.89480371693603), (27.97606953938017, 43.86225970693814), (27.97606953938017, 46.82971569694025), (27.97606953938017, 49.79717168694236), (27.97606953938017, 52.76462767694447), (27.97606953938017, 55.732083666946565), (27.97606953938017, 58.69953965694867), (27.97606953938017, 61.666995646950795), (27.97606953938017, 64.6344516369529), (27.97606953938017, 67.601907626955), (27.97606953938017, 70.5693636169571), (27.97606953938017, 73.53681960695923), (27.97606953938017, 76.50427559696134), (27.97606953938017, 79.47173158696343), (27.97606953938017, 82.43918757696554), (27.97606953938017, 85.40664356696766), (27.97606953938017, 88.37409955696977), (27.97606953938017, 91.34155554697186), (27.97606953938017, 94.30901153697397), (27.97606953938017, 97.27646752697609), (27.97606953938017, 100.2439235169782), (27.97606953938017, 103.2113795069803), (30.716061249887908, -80.77089187315039), (30.716061249887908, -77.8034358831483), (30.716061249887908, -74.83597989314617), (30.716061249887908, -71.86852390314408), (30.716061249887908, -68.90106791314196), (30.716061249887908, -65.93361192313986), (30.716061249887908, -62.96615593313775), (30.716061249887908, -59.99869994313564), (30.716061249887908, -57.03124395313353), (30.716061249887908, -54.063787963131425), (30.716061249887908, -51.09633197312932), (30.716061249887908, -48.12887598312721), (30.716061249887908, -45.1614199931251), (30.716061249887908, -42.19396400312299), (30.716061249887908, -39.226508013120885), (30.716061249887908, -36.25905202311878), (30.716061249887908, -33.29159603311667), (30.716061249887908, -30.32414004311456), (30.716061249887908, -27.356684053112453), (30.716061249887908, -24.389228063110345), (30.716061249887908, -21.421772073108237), (30.716061249887908, -18.45431608310613), (30.716061249887908, -15.48686009310402), (30.716061249887908, -12.519404103101913), (30.716061249887908, -9.551948113099805), (30.716061249887908, -6.5844921230976965), (30.716061249887908, -3.6170361330955885), (30.716061249887908, -0.6495801430934804), (30.716061249887908, 2.3178758469086276), (30.716061249887908, 5.285331836910736), (30.716061249887908, 8.252787826912844), (30.716061249887908, 11.220243816914952), (30.716061249887908, 14.18769980691706), (30.716061249887908, 17.155155796919168), (30.716061249887908, 20.122611786921276), (30.716061249887908, 23.090067776923384), (30.716061249887908, 26.05752376692549), (30.716061249887908, 29.0249797569276), (30.716061249887908, 31.992435746929708), (30.716061249887908, 34.959891736931816), (30.716061249887908, 37.927347726933924), (30.716061249887908, 40.89480371693603), (30.716061249887908, 43.86225970693814), (30.716061249887908, 46.82971569694025), (30.716061249887908, 49.79717168694236), (30.716061249887908, 52.76462767694447), (30.716061249887908, 55.732083666946565), (30.716061249887908, 58.69953965694867), (30.716061249887908, 61.666995646950795), (30.716061249887908, 64.6344516369529), (30.716061249887908, 67.601907626955), (30.716061249887908, 70.5693636169571), (30.716061249887908, 73.53681960695923), (30.716061249887908, 76.50427559696134), (30.716061249887908, 79.47173158696343), (30.716061249887908, 82.43918757696554), (30.716061249887908, 85.40664356696766), (30.716061249887908, 88.37409955696977), (30.716061249887908, 91.34155554697186), (30.716061249887908, 94.30901153697397), (30.716061249887908, 97.27646752697609), (30.716061249887908, 100.2439235169782), (30.716061249887908, 103.2113795069803), (33.456052960395645, -80.77089187315039), (33.456052960395645, -77.8034358831483), (33.456052960395645, -74.83597989314617), (33.456052960395645, -71.86852390314408), (33.456052960395645, -68.90106791314196), (33.456052960395645, -65.93361192313986), (33.456052960395645, -62.96615593313775), (33.456052960395645, -59.99869994313564), (33.456052960395645, -57.03124395313353), (33.456052960395645, -54.063787963131425), (33.456052960395645, -51.09633197312932), (33.456052960395645, -48.12887598312721), (33.456052960395645, -45.1614199931251), (33.456052960395645, -42.19396400312299), (33.456052960395645, -39.226508013120885), (33.456052960395645, -36.25905202311878), (33.456052960395645, -33.29159603311667), (33.456052960395645, -30.32414004311456), (33.456052960395645, -27.356684053112453), (33.456052960395645, -24.389228063110345), (33.456052960395645, -21.421772073108237), (33.456052960395645, -18.45431608310613), (33.456052960395645, -15.48686009310402), (33.456052960395645, -12.519404103101913), (33.456052960395645, -9.551948113099805), (33.456052960395645, -6.5844921230976965), (33.456052960395645, -3.6170361330955885), (33.456052960395645, -0.6495801430934804), (33.456052960395645, 2.3178758469086276), (33.456052960395645, 5.285331836910736), (33.456052960395645, 8.252787826912844), (33.456052960395645, 11.220243816914952), (33.456052960395645, 14.18769980691706), (33.456052960395645, 17.155155796919168), (33.456052960395645, 20.122611786921276), (33.456052960395645, 23.090067776923384), (33.456052960395645, 26.05752376692549), (33.456052960395645, 29.0249797569276), (33.456052960395645, 31.992435746929708), (33.456052960395645, 34.959891736931816), (33.456052960395645, 37.927347726933924), (33.456052960395645, 40.89480371693603), (33.456052960395645, 43.86225970693814), (33.456052960395645, 46.82971569694025), (33.456052960395645, 49.79717168694236), (33.456052960395645, 52.76462767694447), (33.456052960395645, 55.732083666946565), (33.456052960395645, 58.69953965694867), (33.456052960395645, 61.666995646950795), (33.456052960395645, 64.6344516369529), (33.456052960395645, 67.601907626955), (33.456052960395645, 70.5693636169571), (33.456052960395645, 73.53681960695923), (33.456052960395645, 76.50427559696134), (33.456052960395645, 79.47173158696343), (33.456052960395645, 82.43918757696554), (33.456052960395645, 85.40664356696766), (33.456052960395645, 88.37409955696977), (33.456052960395645, 91.34155554697186), (33.456052960395645, 94.30901153697397), (33.456052960395645, 97.27646752697609), (33.456052960395645, 100.2439235169782), (33.456052960395645, 103.2113795069803), (36.19604467090338, -80.77089187315039), (36.19604467090338, -77.8034358831483), (36.19604467090338, -74.83597989314617), (36.19604467090338, -71.86852390314408), (36.19604467090338, -68.90106791314196), (36.19604467090338, -65.93361192313986), (36.19604467090338, -62.96615593313775), (36.19604467090338, -59.99869994313564), (36.19604467090338, -57.03124395313353), (36.19604467090338, -54.063787963131425), (36.19604467090338, -51.09633197312932), (36.19604467090338, -48.12887598312721), (36.19604467090338, -45.1614199931251), (36.19604467090338, -42.19396400312299), (36.19604467090338, -39.226508013120885), (36.19604467090338, -36.25905202311878), (36.19604467090338, -33.29159603311667), (36.19604467090338, -30.32414004311456), (36.19604467090338, -27.356684053112453), (36.19604467090338, -24.389228063110345), (36.19604467090338, -21.421772073108237), (36.19604467090338, -18.45431608310613), (36.19604467090338, -15.48686009310402), (36.19604467090338, -12.519404103101913), (36.19604467090338, -9.551948113099805), (36.19604467090338, -6.5844921230976965), (36.19604467090338, -3.6170361330955885), (36.19604467090338, -0.6495801430934804), (36.19604467090338, 2.3178758469086276), (36.19604467090338, 5.285331836910736), (36.19604467090338, 8.252787826912844), (36.19604467090338, 11.220243816914952), (36.19604467090338, 14.18769980691706), (36.19604467090338, 17.155155796919168), (36.19604467090338, 20.122611786921276), (36.19604467090338, 23.090067776923384), (36.19604467090338, 26.05752376692549), (36.19604467090338, 29.0249797569276), (36.19604467090338, 31.992435746929708), (36.19604467090338, 34.959891736931816), (36.19604467090338, 37.927347726933924), (36.19604467090338, 40.89480371693603), (36.19604467090338, 43.86225970693814), (36.19604467090338, 46.82971569694025), (36.19604467090338, 49.79717168694236), (36.19604467090338, 52.76462767694447), (36.19604467090338, 55.732083666946565), (36.19604467090338, 58.69953965694867), (36.19604467090338, 61.666995646950795), (36.19604467090338, 64.6344516369529), (36.19604467090338, 67.601907626955), (36.19604467090338, 70.5693636169571), (36.19604467090338, 73.53681960695923), (36.19604467090338, 76.50427559696134), (36.19604467090338, 79.47173158696343), (36.19604467090338, 82.43918757696554), (36.19604467090338, 85.40664356696766), (36.19604467090338, 88.37409955696977), (36.19604467090338, 91.34155554697186), (36.19604467090338, 94.30901153697397), (36.19604467090338, 97.27646752697609), (36.19604467090338, 100.2439235169782), (36.19604467090338, 103.2113795069803), (38.93603638141112, -80.77089187315039), (38.93603638141112, -77.8034358831483), (38.93603638141112, -74.83597989314617), (38.93603638141112, -71.86852390314408), (38.93603638141112, -68.90106791314196), (38.93603638141112, -65.93361192313986), (38.93603638141112, -62.96615593313775), (38.93603638141112, -59.99869994313564), (38.93603638141112, -57.03124395313353), (38.93603638141112, -54.063787963131425), (38.93603638141112, -51.09633197312932), (38.93603638141112, -48.12887598312721), (38.93603638141112, -45.1614199931251), (38.93603638141112, -42.19396400312299), (38.93603638141112, -39.226508013120885), (38.93603638141112, -36.25905202311878), (38.93603638141112, -33.29159603311667), (38.93603638141112, -30.32414004311456), (38.93603638141112, -27.356684053112453), (38.93603638141112, -24.389228063110345), (38.93603638141112, -21.421772073108237), (38.93603638141112, -18.45431608310613), (38.93603638141112, -15.48686009310402), (38.93603638141112, -12.519404103101913), (38.93603638141112, -9.551948113099805), (38.93603638141112, -6.5844921230976965), (38.93603638141112, -3.6170361330955885), (38.93603638141112, -0.6495801430934804), (38.93603638141112, 2.3178758469086276), (38.93603638141112, 5.285331836910736), (38.93603638141112, 8.252787826912844), (38.93603638141112, 11.220243816914952), (38.93603638141112, 14.18769980691706), (38.93603638141112, 17.155155796919168), (38.93603638141112, 20.122611786921276), (38.93603638141112, 23.090067776923384), (38.93603638141112, 26.05752376692549), (38.93603638141112, 29.0249797569276), (38.93603638141112, 31.992435746929708), (38.93603638141112, 34.959891736931816), (38.93603638141112, 37.927347726933924), (38.93603638141112, 40.89480371693603), (38.93603638141112, 43.86225970693814), (38.93603638141112, 46.82971569694025), (38.93603638141112, 49.79717168694236), (38.93603638141112, 52.76462767694447), (38.93603638141112, 55.732083666946565), (38.93603638141112, 58.69953965694867), (38.93603638141112, 61.666995646950795), (38.93603638141112, 64.6344516369529), (38.93603638141112, 67.601907626955), (38.93603638141112, 70.5693636169571), (38.93603638141112, 73.53681960695923), (38.93603638141112, 76.50427559696134), (38.93603638141112, 79.47173158696343), (38.93603638141112, 82.43918757696554), (38.93603638141112, 85.40664356696766), (38.93603638141112, 88.37409955696977), (38.93603638141112, 91.34155554697186), (38.93603638141112, 94.30901153697397), (38.93603638141112, 97.27646752697609), (38.93603638141112, 100.2439235169782), (38.93603638141112, 103.2113795069803), (41.67602809191886, -80.77089187315039), (41.67602809191886, -77.8034358831483), (41.67602809191886, -74.83597989314617), (41.67602809191886, -71.86852390314408), (41.67602809191886, -68.90106791314196), (41.67602809191886, -65.93361192313986), (41.67602809191886, -62.96615593313775), (41.67602809191886, -59.99869994313564), (41.67602809191886, -57.03124395313353), (41.67602809191886, -54.063787963131425), (41.67602809191886, -51.09633197312932), (41.67602809191886, -48.12887598312721), (41.67602809191886, -45.1614199931251), (41.67602809191886, -42.19396400312299), (41.67602809191886, -39.226508013120885), (41.67602809191886, -36.25905202311878), (41.67602809191886, -33.29159603311667), (41.67602809191886, -30.32414004311456), (41.67602809191886, -27.356684053112453), (41.67602809191886, -24.389228063110345), (41.67602809191886, -21.421772073108237), (41.67602809191886, -18.45431608310613), (41.67602809191886, -15.48686009310402), (41.67602809191886, -12.519404103101913), (41.67602809191886, -9.551948113099805), (41.67602809191886, -6.5844921230976965), (41.67602809191886, -3.6170361330955885), (41.67602809191886, -0.6495801430934804), (41.67602809191886, 2.3178758469086276), (41.67602809191886, 5.285331836910736), (41.67602809191886, 8.252787826912844), (41.67602809191886, 11.220243816914952), (41.67602809191886, 14.18769980691706), (41.67602809191886, 17.155155796919168), (41.67602809191886, 20.122611786921276), (41.67602809191886, 23.090067776923384), (41.67602809191886, 26.05752376692549), (41.67602809191886, 29.0249797569276), (41.67602809191886, 31.992435746929708), (41.67602809191886, 34.959891736931816), (41.67602809191886, 37.927347726933924), (41.67602809191886, 40.89480371693603), (41.67602809191886, 43.86225970693814), (41.67602809191886, 46.82971569694025), (41.67602809191886, 49.79717168694236), (41.67602809191886, 52.76462767694447), (41.67602809191886, 55.732083666946565), (41.67602809191886, 58.69953965694867), (41.67602809191886, 61.666995646950795), (41.67602809191886, 64.6344516369529), (41.67602809191886, 67.601907626955), (41.67602809191886, 70.5693636169571), (41.67602809191886, 73.53681960695923), (41.67602809191886, 76.50427559696134), (41.67602809191886, 79.47173158696343), (41.67602809191886, 82.43918757696554), (41.67602809191886, 85.40664356696766), (41.67602809191886, 88.37409955696977), (41.67602809191886, 91.34155554697186), (41.67602809191886, 94.30901153697397), (41.67602809191886, 97.27646752697609), (41.67602809191886, 100.2439235169782), (41.67602809191886, 103.2113795069803), (44.41601980242659, -80.77089187315039), (44.41601980242659, -77.8034358831483), (44.41601980242659, -74.83597989314617), (44.41601980242659, -71.86852390314408), (44.41601980242659, -68.90106791314196), (44.41601980242659, -65.93361192313986), (44.41601980242659, -62.96615593313775), (44.41601980242659, -59.99869994313564), (44.41601980242659, -57.03124395313353), (44.41601980242659, -54.063787963131425), (44.41601980242659, -51.09633197312932), (44.41601980242659, -48.12887598312721), (44.41601980242659, -45.1614199931251), (44.41601980242659, -42.19396400312299), (44.41601980242659, -39.226508013120885), (44.41601980242659, -36.25905202311878), (44.41601980242659, -33.29159603311667), (44.41601980242659, -30.32414004311456), (44.41601980242659, -27.356684053112453), (44.41601980242659, -24.389228063110345), (44.41601980242659, -21.421772073108237), (44.41601980242659, -18.45431608310613), (44.41601980242659, -15.48686009310402), (44.41601980242659, -12.519404103101913), (44.41601980242659, -9.551948113099805), (44.41601980242659, -6.5844921230976965), (44.41601980242659, -3.6170361330955885), (44.41601980242659, -0.6495801430934804), (44.41601980242659, 2.3178758469086276), (44.41601980242659, 5.285331836910736), (44.41601980242659, 8.252787826912844), (44.41601980242659, 11.220243816914952), (44.41601980242659, 14.18769980691706), (44.41601980242659, 17.155155796919168), (44.41601980242659, 20.122611786921276), (44.41601980242659, 23.090067776923384), (44.41601980242659, 26.05752376692549), (44.41601980242659, 29.0249797569276), (44.41601980242659, 31.992435746929708), (44.41601980242659, 34.959891736931816), (44.41601980242659, 37.927347726933924), (44.41601980242659, 40.89480371693603), (44.41601980242659, 43.86225970693814), (44.41601980242659, 46.82971569694025), (44.41601980242659, 49.79717168694236), (44.41601980242659, 52.76462767694447), (44.41601980242659, 55.732083666946565), (44.41601980242659, 58.69953965694867), (44.41601980242659, 61.666995646950795), (44.41601980242659, 64.6344516369529), (44.41601980242659, 67.601907626955), (44.41601980242659, 70.5693636169571), (44.41601980242659, 73.53681960695923), (44.41601980242659, 76.50427559696134), (44.41601980242659, 79.47173158696343), (44.41601980242659, 82.43918757696554), (44.41601980242659, 85.40664356696766), (44.41601980242659, 88.37409955696977), (44.41601980242659, 91.34155554697186), (44.41601980242659, 94.30901153697397), (44.41601980242659, 97.27646752697609), (44.41601980242659, 100.2439235169782), (44.41601980242659, 103.2113795069803), (47.15601151293433, -80.77089187315039), (47.15601151293433, -77.8034358831483), (47.15601151293433, -74.83597989314617), (47.15601151293433, -71.86852390314408), (47.15601151293433, -68.90106791314196), (47.15601151293433, -65.93361192313986), (47.15601151293433, -62.96615593313775), (47.15601151293433, -59.99869994313564), (47.15601151293433, -57.03124395313353), (47.15601151293433, -54.063787963131425), (47.15601151293433, -51.09633197312932), (47.15601151293433, -48.12887598312721), (47.15601151293433, -45.1614199931251), (47.15601151293433, -42.19396400312299), (47.15601151293433, -39.226508013120885), (47.15601151293433, -36.25905202311878), (47.15601151293433, -33.29159603311667), (47.15601151293433, -30.32414004311456), (47.15601151293433, -27.356684053112453), (47.15601151293433, -24.389228063110345), (47.15601151293433, -21.421772073108237), (47.15601151293433, -18.45431608310613), (47.15601151293433, -15.48686009310402), (47.15601151293433, -12.519404103101913), (47.15601151293433, -9.551948113099805), (47.15601151293433, -6.5844921230976965), (47.15601151293433, -3.6170361330955885), (47.15601151293433, -0.6495801430934804), (47.15601151293433, 2.3178758469086276), (47.15601151293433, 5.285331836910736), (47.15601151293433, 8.252787826912844), (47.15601151293433, 11.220243816914952), (47.15601151293433, 14.18769980691706), (47.15601151293433, 17.155155796919168), (47.15601151293433, 20.122611786921276), (47.15601151293433, 23.090067776923384), (47.15601151293433, 26.05752376692549), (47.15601151293433, 29.0249797569276), (47.15601151293433, 31.992435746929708), (47.15601151293433, 34.959891736931816), (47.15601151293433, 37.927347726933924), (47.15601151293433, 40.89480371693603), (47.15601151293433, 43.86225970693814), (47.15601151293433, 46.82971569694025), (47.15601151293433, 49.79717168694236), (47.15601151293433, 52.76462767694447), (47.15601151293433, 55.732083666946565), (47.15601151293433, 58.69953965694867), (47.15601151293433, 61.666995646950795), (47.15601151293433, 64.6344516369529), (47.15601151293433, 67.601907626955), (47.15601151293433, 70.5693636169571), (47.15601151293433, 73.53681960695923), (47.15601151293433, 76.50427559696134), (47.15601151293433, 79.47173158696343), (47.15601151293433, 82.43918757696554), (47.15601151293433, 85.40664356696766), (47.15601151293433, 88.37409955696977), (47.15601151293433, 91.34155554697186), (47.15601151293433, 94.30901153697397), (47.15601151293433, 97.27646752697609), (47.15601151293433, 100.2439235169782), (47.15601151293433, 103.2113795069803), (49.89600322344208, -80.77089187315039), (49.89600322344208, -77.8034358831483), (49.89600322344208, -74.83597989314617), (49.89600322344208, -71.86852390314408), (49.89600322344208, -68.90106791314196), (49.89600322344208, -65.93361192313986), (49.89600322344208, -62.96615593313775), (49.89600322344208, -59.99869994313564), (49.89600322344208, -57.03124395313353), (49.89600322344208, -54.063787963131425), (49.89600322344208, -51.09633197312932), (49.89600322344208, -48.12887598312721), (49.89600322344208, -45.1614199931251), (49.89600322344208, -42.19396400312299), (49.89600322344208, -39.226508013120885), (49.89600322344208, -36.25905202311878), (49.89600322344208, -33.29159603311667), (49.89600322344208, -30.32414004311456), (49.89600322344208, -27.356684053112453), (49.89600322344208, -24.389228063110345), (49.89600322344208, -21.421772073108237), (49.89600322344208, -18.45431608310613), (49.89600322344208, -15.48686009310402), (49.89600322344208, -12.519404103101913), (49.89600322344208, -9.551948113099805), (49.89600322344208, -6.5844921230976965), (49.89600322344208, -3.6170361330955885), (49.89600322344208, -0.6495801430934804), (49.89600322344208, 2.3178758469086276), (49.89600322344208, 5.285331836910736), (49.89600322344208, 8.252787826912844), (49.89600322344208, 11.220243816914952), (49.89600322344208, 14.18769980691706), (49.89600322344208, 17.155155796919168), (49.89600322344208, 20.122611786921276), (49.89600322344208, 23.090067776923384), (49.89600322344208, 26.05752376692549), (49.89600322344208, 29.0249797569276), (49.89600322344208, 31.992435746929708), (49.89600322344208, 34.959891736931816), (49.89600322344208, 37.927347726933924), (49.89600322344208, 40.89480371693603), (49.89600322344208, 43.86225970693814), (49.89600322344208, 46.82971569694025), (49.89600322344208, 49.79717168694236), (49.89600322344208, 52.76462767694447), (49.89600322344208, 55.732083666946565), (49.89600322344208, 58.69953965694867), (49.89600322344208, 61.666995646950795), (49.89600322344208, 64.6344516369529), (49.89600322344208, 67.601907626955), (49.89600322344208, 70.5693636169571), (49.89600322344208, 73.53681960695923), (49.89600322344208, 76.50427559696134), (49.89600322344208, 79.47173158696343), (49.89600322344208, 82.43918757696554), (49.89600322344208, 85.40664356696766), (49.89600322344208, 88.37409955696977), (49.89600322344208, 91.34155554697186), (49.89600322344208, 94.30901153697397), (49.89600322344208, 97.27646752697609), (49.89600322344208, 100.2439235169782), (49.89600322344208, 103.2113795069803), (52.63599493394982, -80.77089187315039), (52.63599493394982, -77.8034358831483), (52.63599493394982, -74.83597989314617), (52.63599493394982, -71.86852390314408), (52.63599493394982, -68.90106791314196), (52.63599493394982, -65.93361192313986), (52.63599493394982, -62.96615593313775), (52.63599493394982, -59.99869994313564), (52.63599493394982, -57.03124395313353), (52.63599493394982, -54.063787963131425), (52.63599493394982, -51.09633197312932), (52.63599493394982, -48.12887598312721), (52.63599493394982, -45.1614199931251), (52.63599493394982, -42.19396400312299), (52.63599493394982, -39.226508013120885), (52.63599493394982, -36.25905202311878), (52.63599493394982, -33.29159603311667), (52.63599493394982, -30.32414004311456), (52.63599493394982, -27.356684053112453), (52.63599493394982, -24.389228063110345), (52.63599493394982, -21.421772073108237), (52.63599493394982, -18.45431608310613), (52.63599493394982, -15.48686009310402), (52.63599493394982, -12.519404103101913), (52.63599493394982, -9.551948113099805), (52.63599493394982, -6.5844921230976965), (52.63599493394982, -3.6170361330955885), (52.63599493394982, -0.6495801430934804), (52.63599493394982, 2.3178758469086276), (52.63599493394982, 5.285331836910736), (52.63599493394982, 8.252787826912844), (52.63599493394982, 11.220243816914952), (52.63599493394982, 14.18769980691706), (52.63599493394982, 17.155155796919168), (52.63599493394982, 20.122611786921276), (52.63599493394982, 23.090067776923384), (52.63599493394982, 26.05752376692549), (52.63599493394982, 29.0249797569276), (52.63599493394982, 31.992435746929708), (52.63599493394982, 34.959891736931816), (52.63599493394982, 37.927347726933924), (52.63599493394982, 40.89480371693603), (52.63599493394982, 43.86225970693814), (52.63599493394982, 46.82971569694025), (52.63599493394982, 49.79717168694236), (52.63599493394982, 52.76462767694447), (52.63599493394982, 55.732083666946565), (52.63599493394982, 58.69953965694867), (52.63599493394982, 61.666995646950795), (52.63599493394982, 64.6344516369529), (52.63599493394982, 67.601907626955), (52.63599493394982, 70.5693636169571), (52.63599493394982, 73.53681960695923), (52.63599493394982, 76.50427559696134), (52.63599493394982, 79.47173158696343), (52.63599493394982, 82.43918757696554), (52.63599493394982, 85.40664356696766), (52.63599493394982, 88.37409955696977), (52.63599493394982, 91.34155554697186), (52.63599493394982, 94.30901153697397), (52.63599493394982, 97.27646752697609), (52.63599493394982, 100.2439235169782), (52.63599493394982, 103.2113795069803), (55.37598664445754, -80.77089187315039), (55.37598664445754, -77.8034358831483), (55.37598664445754, -74.83597989314617), (55.37598664445754, -71.86852390314408), (55.37598664445754, -68.90106791314196), (55.37598664445754, -65.93361192313986), (55.37598664445754, -62.96615593313775), (55.37598664445754, -59.99869994313564), (55.37598664445754, -57.03124395313353), (55.37598664445754, -54.063787963131425), (55.37598664445754, -51.09633197312932), (55.37598664445754, -48.12887598312721), (55.37598664445754, -45.1614199931251), (55.37598664445754, -42.19396400312299), (55.37598664445754, -39.226508013120885), (55.37598664445754, -36.25905202311878), (55.37598664445754, -33.29159603311667), (55.37598664445754, -30.32414004311456), (55.37598664445754, -27.356684053112453), (55.37598664445754, -24.389228063110345), (55.37598664445754, -21.421772073108237), (55.37598664445754, -18.45431608310613), (55.37598664445754, -15.48686009310402), (55.37598664445754, -12.519404103101913), (55.37598664445754, -9.551948113099805), (55.37598664445754, -6.5844921230976965), (55.37598664445754, -3.6170361330955885), (55.37598664445754, -0.6495801430934804), (55.37598664445754, 2.3178758469086276), (55.37598664445754, 5.285331836910736), (55.37598664445754, 8.252787826912844), (55.37598664445754, 11.220243816914952), (55.37598664445754, 14.18769980691706), (55.37598664445754, 17.155155796919168), (55.37598664445754, 20.122611786921276), (55.37598664445754, 23.090067776923384), (55.37598664445754, 26.05752376692549), (55.37598664445754, 29.0249797569276), (55.37598664445754, 31.992435746929708), (55.37598664445754, 34.959891736931816), (55.37598664445754, 37.927347726933924), (55.37598664445754, 40.89480371693603), (55.37598664445754, 43.86225970693814), (55.37598664445754, 46.82971569694025), (55.37598664445754, 49.79717168694236), (55.37598664445754, 52.76462767694447), (55.37598664445754, 55.732083666946565), (55.37598664445754, 58.69953965694867), (55.37598664445754, 61.666995646950795), (55.37598664445754, 64.6344516369529), (55.37598664445754, 67.601907626955), (55.37598664445754, 70.5693636169571), (55.37598664445754, 73.53681960695923), (55.37598664445754, 76.50427559696134), (55.37598664445754, 79.47173158696343), (55.37598664445754, 82.43918757696554), (55.37598664445754, 85.40664356696766), (55.37598664445754, 88.37409955696977), (55.37598664445754, 91.34155554697186), (55.37598664445754, 94.30901153697397), (55.37598664445754, 97.27646752697609), (55.37598664445754, 100.2439235169782), (55.37598664445754, 103.2113795069803), (58.11597835496528, -80.77089187315039), (58.11597835496528, -77.8034358831483), (58.11597835496528, -74.83597989314617), (58.11597835496528, -71.86852390314408), (58.11597835496528, -68.90106791314196), (58.11597835496528, -65.93361192313986), (58.11597835496528, -62.96615593313775), (58.11597835496528, -59.99869994313564), (58.11597835496528, -57.03124395313353), (58.11597835496528, -54.063787963131425), (58.11597835496528, -51.09633197312932), (58.11597835496528, -48.12887598312721), (58.11597835496528, -45.1614199931251), (58.11597835496528, -42.19396400312299), (58.11597835496528, -39.226508013120885), (58.11597835496528, -36.25905202311878), (58.11597835496528, -33.29159603311667), (58.11597835496528, -30.32414004311456), (58.11597835496528, -27.356684053112453), (58.11597835496528, -24.389228063110345), (58.11597835496528, -21.421772073108237), (58.11597835496528, -18.45431608310613), (58.11597835496528, -15.48686009310402), (58.11597835496528, -12.519404103101913), (58.11597835496528, -9.551948113099805), (58.11597835496528, -6.5844921230976965), (58.11597835496528, -3.6170361330955885), (58.11597835496528, -0.6495801430934804), (58.11597835496528, 2.3178758469086276), (58.11597835496528, 5.285331836910736), (58.11597835496528, 8.252787826912844), (58.11597835496528, 11.220243816914952), (58.11597835496528, 14.18769980691706), (58.11597835496528, 17.155155796919168), (58.11597835496528, 20.122611786921276), (58.11597835496528, 23.090067776923384), (58.11597835496528, 26.05752376692549), (58.11597835496528, 29.0249797569276), (58.11597835496528, 31.992435746929708), (58.11597835496528, 34.959891736931816), (58.11597835496528, 37.927347726933924), (58.11597835496528, 40.89480371693603), (58.11597835496528, 43.86225970693814), (58.11597835496528, 46.82971569694025), (58.11597835496528, 49.79717168694236), (58.11597835496528, 52.76462767694447), (58.11597835496528, 55.732083666946565), (58.11597835496528, 58.69953965694867), (58.11597835496528, 61.666995646950795), (58.11597835496528, 64.6344516369529), (58.11597835496528, 67.601907626955), (58.11597835496528, 70.5693636169571), (58.11597835496528, 73.53681960695923), (58.11597835496528, 76.50427559696134), (58.11597835496528, 79.47173158696343), (58.11597835496528, 82.43918757696554), (58.11597835496528, 85.40664356696766), (58.11597835496528, 88.37409955696977), (58.11597835496528, 91.34155554697186), (58.11597835496528, 94.30901153697397), (58.11597835496528, 97.27646752697609), (58.11597835496528, 100.2439235169782), (58.11597835496528, 103.2113795069803), (60.85597006547303, -80.77089187315039), (60.85597006547303, -77.8034358831483), (60.85597006547303, -74.83597989314617), (60.85597006547303, -71.86852390314408), (60.85597006547303, -68.90106791314196), (60.85597006547303, -65.93361192313986), (60.85597006547303, -62.96615593313775), (60.85597006547303, -59.99869994313564), (60.85597006547303, -57.03124395313353), (60.85597006547303, -54.063787963131425), (60.85597006547303, -51.09633197312932), (60.85597006547303, -48.12887598312721), (60.85597006547303, -45.1614199931251), (60.85597006547303, -42.19396400312299), (60.85597006547303, -39.226508013120885), (60.85597006547303, -36.25905202311878), (60.85597006547303, -33.29159603311667), (60.85597006547303, -30.32414004311456), (60.85597006547303, -27.356684053112453), (60.85597006547303, -24.389228063110345), (60.85597006547303, -21.421772073108237), (60.85597006547303, -18.45431608310613), (60.85597006547303, -15.48686009310402), (60.85597006547303, -12.519404103101913), (60.85597006547303, -9.551948113099805), (60.85597006547303, -6.5844921230976965), (60.85597006547303, -3.6170361330955885), (60.85597006547303, -0.6495801430934804), (60.85597006547303, 2.3178758469086276), (60.85597006547303, 5.285331836910736), (60.85597006547303, 8.252787826912844), (60.85597006547303, 11.220243816914952), (60.85597006547303, 14.18769980691706), (60.85597006547303, 17.155155796919168), (60.85597006547303, 20.122611786921276), (60.85597006547303, 23.090067776923384), (60.85597006547303, 26.05752376692549), (60.85597006547303, 29.0249797569276), (60.85597006547303, 31.992435746929708), (60.85597006547303, 34.959891736931816), (60.85597006547303, 37.927347726933924), (60.85597006547303, 40.89480371693603), (60.85597006547303, 43.86225970693814), (60.85597006547303, 46.82971569694025), (60.85597006547303, 49.79717168694236), (60.85597006547303, 52.76462767694447), (60.85597006547303, 55.732083666946565), (60.85597006547303, 58.69953965694867), (60.85597006547303, 61.666995646950795), (60.85597006547303, 64.6344516369529), (60.85597006547303, 67.601907626955), (60.85597006547303, 70.5693636169571), (60.85597006547303, 73.53681960695923), (60.85597006547303, 76.50427559696134), (60.85597006547303, 79.47173158696343), (60.85597006547303, 82.43918757696554), (60.85597006547303, 85.40664356696766), (60.85597006547303, 88.37409955696977), (60.85597006547303, 91.34155554697186), (60.85597006547303, 94.30901153697397), (60.85597006547303, 97.27646752697609), (60.85597006547303, 100.2439235169782), (60.85597006547303, 103.2113795069803), (63.59596177598077, -80.77089187315039), (63.59596177598077, -77.8034358831483), (63.59596177598077, -74.83597989314617), (63.59596177598077, -71.86852390314408), (63.59596177598077, -68.90106791314196), (63.59596177598077, -65.93361192313986), (63.59596177598077, -62.96615593313775), (63.59596177598077, -59.99869994313564), (63.59596177598077, -57.03124395313353), (63.59596177598077, -54.063787963131425), (63.59596177598077, -51.09633197312932), (63.59596177598077, -48.12887598312721), (63.59596177598077, -45.1614199931251), (63.59596177598077, -42.19396400312299), (63.59596177598077, -39.226508013120885), (63.59596177598077, -36.25905202311878), (63.59596177598077, -33.29159603311667), (63.59596177598077, -30.32414004311456), (63.59596177598077, -27.356684053112453), (63.59596177598077, -24.389228063110345), (63.59596177598077, -21.421772073108237), (63.59596177598077, -18.45431608310613), (63.59596177598077, -15.48686009310402), (63.59596177598077, -12.519404103101913), (63.59596177598077, -9.551948113099805), (63.59596177598077, -6.5844921230976965), (63.59596177598077, -3.6170361330955885), (63.59596177598077, -0.6495801430934804), (63.59596177598077, 2.3178758469086276), (63.59596177598077, 5.285331836910736), (63.59596177598077, 8.252787826912844), (63.59596177598077, 11.220243816914952), (63.59596177598077, 14.18769980691706), (63.59596177598077, 17.155155796919168), (63.59596177598077, 20.122611786921276), (63.59596177598077, 23.090067776923384), (63.59596177598077, 26.05752376692549), (63.59596177598077, 29.0249797569276), (63.59596177598077, 31.992435746929708), (63.59596177598077, 34.959891736931816), (63.59596177598077, 37.927347726933924), (63.59596177598077, 40.89480371693603), (63.59596177598077, 43.86225970693814), (63.59596177598077, 46.82971569694025), (63.59596177598077, 49.79717168694236), (63.59596177598077, 52.76462767694447), (63.59596177598077, 55.732083666946565), (63.59596177598077, 58.69953965694867), (63.59596177598077, 61.666995646950795), (63.59596177598077, 64.6344516369529), (63.59596177598077, 67.601907626955), (63.59596177598077, 70.5693636169571), (63.59596177598077, 73.53681960695923), (63.59596177598077, 76.50427559696134), (63.59596177598077, 79.47173158696343), (63.59596177598077, 82.43918757696554), (63.59596177598077, 85.40664356696766), (63.59596177598077, 88.37409955696977), (63.59596177598077, 91.34155554697186), (63.59596177598077, 94.30901153697397), (63.59596177598077, 97.27646752697609), (63.59596177598077, 100.2439235169782), (63.59596177598077, 103.2113795069803), (66.33595348648849, -80.77089187315039), (66.33595348648849, -77.8034358831483), (66.33595348648849, -74.83597989314617), (66.33595348648849, -71.86852390314408), (66.33595348648849, -68.90106791314196), (66.33595348648849, -65.93361192313986), (66.33595348648849, -62.96615593313775), (66.33595348648849, -59.99869994313564), (66.33595348648849, -57.03124395313353), (66.33595348648849, -54.063787963131425), (66.33595348648849, -51.09633197312932), (66.33595348648849, -48.12887598312721), (66.33595348648849, -45.1614199931251), (66.33595348648849, -42.19396400312299), (66.33595348648849, -39.226508013120885), (66.33595348648849, -36.25905202311878), (66.33595348648849, -33.29159603311667), (66.33595348648849, -30.32414004311456), (66.33595348648849, -27.356684053112453), (66.33595348648849, -24.389228063110345), (66.33595348648849, -21.421772073108237), (66.33595348648849, -18.45431608310613), (66.33595348648849, -15.48686009310402), (66.33595348648849, -12.519404103101913), (66.33595348648849, -9.551948113099805), (66.33595348648849, -6.5844921230976965), (66.33595348648849, -3.6170361330955885), (66.33595348648849, -0.6495801430934804), (66.33595348648849, 2.3178758469086276), (66.33595348648849, 5.285331836910736), (66.33595348648849, 8.252787826912844), (66.33595348648849, 11.220243816914952), (66.33595348648849, 14.18769980691706), (66.33595348648849, 17.155155796919168), (66.33595348648849, 20.122611786921276), (66.33595348648849, 23.090067776923384), (66.33595348648849, 26.05752376692549), (66.33595348648849, 29.0249797569276), (66.33595348648849, 31.992435746929708), (66.33595348648849, 34.959891736931816), (66.33595348648849, 37.927347726933924), (66.33595348648849, 40.89480371693603), (66.33595348648849, 43.86225970693814), (66.33595348648849, 46.82971569694025), (66.33595348648849, 49.79717168694236), (66.33595348648849, 52.76462767694447), (66.33595348648849, 55.732083666946565), (66.33595348648849, 58.69953965694867), (66.33595348648849, 61.666995646950795), (66.33595348648849, 64.6344516369529), (66.33595348648849, 67.601907626955), (66.33595348648849, 70.5693636169571), (66.33595348648849, 73.53681960695923), (66.33595348648849, 76.50427559696134), (66.33595348648849, 79.47173158696343), (66.33595348648849, 82.43918757696554), (66.33595348648849, 85.40664356696766), (66.33595348648849, 88.37409955696977), (66.33595348648849, 91.34155554697186), (66.33595348648849, 94.30901153697397), (66.33595348648849, 97.27646752697609), (66.33595348648849, 100.2439235169782), (66.33595348648849, 103.2113795069803), (69.07594519699623, -80.77089187315039), (69.07594519699623, -77.8034358831483), (69.07594519699623, -74.83597989314617), (69.07594519699623, -71.86852390314408), (69.07594519699623, -68.90106791314196), (69.07594519699623, -65.93361192313986), (69.07594519699623, -62.96615593313775), (69.07594519699623, -59.99869994313564), (69.07594519699623, -57.03124395313353), (69.07594519699623, -54.063787963131425), (69.07594519699623, -51.09633197312932), (69.07594519699623, -48.12887598312721), (69.07594519699623, -45.1614199931251), (69.07594519699623, -42.19396400312299), (69.07594519699623, -39.226508013120885), (69.07594519699623, -36.25905202311878), (69.07594519699623, -33.29159603311667), (69.07594519699623, -30.32414004311456), (69.07594519699623, -27.356684053112453), (69.07594519699623, -24.389228063110345), (69.07594519699623, -21.421772073108237), (69.07594519699623, -18.45431608310613), (69.07594519699623, -15.48686009310402), (69.07594519699623, -12.519404103101913), (69.07594519699623, -9.551948113099805), (69.07594519699623, -6.5844921230976965), (69.07594519699623, -3.6170361330955885), (69.07594519699623, -0.6495801430934804), (69.07594519699623, 2.3178758469086276), (69.07594519699623, 5.285331836910736), (69.07594519699623, 8.252787826912844), (69.07594519699623, 11.220243816914952), (69.07594519699623, 14.18769980691706), (69.07594519699623, 17.155155796919168), (69.07594519699623, 20.122611786921276), (69.07594519699623, 23.090067776923384), (69.07594519699623, 26.05752376692549), (69.07594519699623, 29.0249797569276), (69.07594519699623, 31.992435746929708), (69.07594519699623, 34.959891736931816), (69.07594519699623, 37.927347726933924), (69.07594519699623, 40.89480371693603), (69.07594519699623, 43.86225970693814), (69.07594519699623, 46.82971569694025), (69.07594519699623, 49.79717168694236), (69.07594519699623, 52.76462767694447), (69.07594519699623, 55.732083666946565), (69.07594519699623, 58.69953965694867), (69.07594519699623, 61.666995646950795), (69.07594519699623, 64.6344516369529), (69.07594519699623, 67.601907626955), (69.07594519699623, 70.5693636169571), (69.07594519699623, 73.53681960695923), (69.07594519699623, 76.50427559696134), (69.07594519699623, 79.47173158696343), (69.07594519699623, 82.43918757696554), (69.07594519699623, 85.40664356696766), (69.07594519699623, 88.37409955696977), (69.07594519699623, 91.34155554697186), (69.07594519699623, 94.30901153697397), (69.07594519699623, 97.27646752697609), (69.07594519699623, 100.2439235169782), (69.07594519699623, 103.2113795069803), (71.81593690750398, -80.77089187315039), (71.81593690750398, -77.8034358831483), (71.81593690750398, -74.83597989314617), (71.81593690750398, -71.86852390314408), (71.81593690750398, -68.90106791314196), (71.81593690750398, -65.93361192313986), (71.81593690750398, -62.96615593313775), (71.81593690750398, -59.99869994313564), (71.81593690750398, -57.03124395313353), (71.81593690750398, -54.063787963131425), (71.81593690750398, -51.09633197312932), (71.81593690750398, -48.12887598312721), (71.81593690750398, -45.1614199931251), (71.81593690750398, -42.19396400312299), (71.81593690750398, -39.226508013120885), (71.81593690750398, -36.25905202311878), (71.81593690750398, -33.29159603311667), (71.81593690750398, -30.32414004311456), (71.81593690750398, -27.356684053112453), (71.81593690750398, -24.389228063110345), (71.81593690750398, -21.421772073108237), (71.81593690750398, -18.45431608310613), (71.81593690750398, -15.48686009310402), (71.81593690750398, -12.519404103101913), (71.81593690750398, -9.551948113099805), (71.81593690750398, -6.5844921230976965), (71.81593690750398, -3.6170361330955885), (71.81593690750398, -0.6495801430934804), (71.81593690750398, 2.3178758469086276), (71.81593690750398, 5.285331836910736), (71.81593690750398, 8.252787826912844), (71.81593690750398, 11.220243816914952), (71.81593690750398, 14.18769980691706), (71.81593690750398, 17.155155796919168), (71.81593690750398, 20.122611786921276), (71.81593690750398, 23.090067776923384), (71.81593690750398, 26.05752376692549), (71.81593690750398, 29.0249797569276), (71.81593690750398, 31.992435746929708), (71.81593690750398, 34.959891736931816), (71.81593690750398, 37.927347726933924), (71.81593690750398, 40.89480371693603), (71.81593690750398, 43.86225970693814), (71.81593690750398, 46.82971569694025), (71.81593690750398, 49.79717168694236), (71.81593690750398, 52.76462767694447), (71.81593690750398, 55.732083666946565), (71.81593690750398, 58.69953965694867), (71.81593690750398, 61.666995646950795), (71.81593690750398, 64.6344516369529), (71.81593690750398, 67.601907626955), (71.81593690750398, 70.5693636169571), (71.81593690750398, 73.53681960695923), (71.81593690750398, 76.50427559696134), (71.81593690750398, 79.47173158696343), (71.81593690750398, 82.43918757696554), (71.81593690750398, 85.40664356696766), (71.81593690750398, 88.37409955696977), (71.81593690750398, 91.34155554697186), (71.81593690750398, 94.30901153697397), (71.81593690750398, 97.27646752697609), (71.81593690750398, 100.2439235169782), (71.81593690750398, 103.2113795069803), (74.55592861801172, -80.77089187315039), (74.55592861801172, -77.8034358831483), (74.55592861801172, -74.83597989314617), (74.55592861801172, -71.86852390314408), (74.55592861801172, -68.90106791314196), (74.55592861801172, -65.93361192313986), (74.55592861801172, -62.96615593313775), (74.55592861801172, -59.99869994313564), (74.55592861801172, -57.03124395313353), (74.55592861801172, -54.063787963131425), (74.55592861801172, -51.09633197312932), (74.55592861801172, -48.12887598312721), (74.55592861801172, -45.1614199931251), (74.55592861801172, -42.19396400312299), (74.55592861801172, -39.226508013120885), (74.55592861801172, -36.25905202311878), (74.55592861801172, -33.29159603311667), (74.55592861801172, -30.32414004311456), (74.55592861801172, -27.356684053112453), (74.55592861801172, -24.389228063110345), (74.55592861801172, -21.421772073108237), (74.55592861801172, -18.45431608310613), (74.55592861801172, -15.48686009310402), (74.55592861801172, -12.519404103101913), (74.55592861801172, -9.551948113099805), (74.55592861801172, -6.5844921230976965), (74.55592861801172, -3.6170361330955885), (74.55592861801172, -0.6495801430934804), (74.55592861801172, 2.3178758469086276), (74.55592861801172, 5.285331836910736), (74.55592861801172, 8.252787826912844), (74.55592861801172, 11.220243816914952), (74.55592861801172, 14.18769980691706), (74.55592861801172, 17.155155796919168), (74.55592861801172, 20.122611786921276), (74.55592861801172, 23.090067776923384), (74.55592861801172, 26.05752376692549), (74.55592861801172, 29.0249797569276), (74.55592861801172, 31.992435746929708), (74.55592861801172, 34.959891736931816), (74.55592861801172, 37.927347726933924), (74.55592861801172, 40.89480371693603), (74.55592861801172, 43.86225970693814), (74.55592861801172, 46.82971569694025), (74.55592861801172, 49.79717168694236), (74.55592861801172, 52.76462767694447), (74.55592861801172, 55.732083666946565), (74.55592861801172, 58.69953965694867), (74.55592861801172, 61.666995646950795), (74.55592861801172, 64.6344516369529), (74.55592861801172, 67.601907626955), (74.55592861801172, 70.5693636169571), (74.55592861801172, 73.53681960695923), (74.55592861801172, 76.50427559696134), (74.55592861801172, 79.47173158696343), (74.55592861801172, 82.43918757696554), (74.55592861801172, 85.40664356696766), (74.55592861801172, 88.37409955696977), (74.55592861801172, 91.34155554697186), (74.55592861801172, 94.30901153697397), (74.55592861801172, 97.27646752697609), (74.55592861801172, 100.2439235169782), (74.55592861801172, 103.2113795069803), (77.29592032851944, -80.77089187315039), (77.29592032851944, -77.8034358831483), (77.29592032851944, -74.83597989314617), (77.29592032851944, -71.86852390314408), (77.29592032851944, -68.90106791314196), (77.29592032851944, -65.93361192313986), (77.29592032851944, -62.96615593313775), (77.29592032851944, -59.99869994313564), (77.29592032851944, -57.03124395313353), (77.29592032851944, -54.063787963131425), (77.29592032851944, -51.09633197312932), (77.29592032851944, -48.12887598312721), (77.29592032851944, -45.1614199931251), (77.29592032851944, -42.19396400312299), (77.29592032851944, -39.226508013120885), (77.29592032851944, -36.25905202311878), (77.29592032851944, -33.29159603311667), (77.29592032851944, -30.32414004311456), (77.29592032851944, -27.356684053112453), (77.29592032851944, -24.389228063110345), (77.29592032851944, -21.421772073108237), (77.29592032851944, -18.45431608310613), (77.29592032851944, -15.48686009310402), (77.29592032851944, -12.519404103101913), (77.29592032851944, -9.551948113099805), (77.29592032851944, -6.5844921230976965), (77.29592032851944, -3.6170361330955885), (77.29592032851944, -0.6495801430934804), (77.29592032851944, 2.3178758469086276), (77.29592032851944, 5.285331836910736), (77.29592032851944, 8.252787826912844), (77.29592032851944, 11.220243816914952), (77.29592032851944, 14.18769980691706), (77.29592032851944, 17.155155796919168), (77.29592032851944, 20.122611786921276), (77.29592032851944, 23.090067776923384), (77.29592032851944, 26.05752376692549), (77.29592032851944, 29.0249797569276), (77.29592032851944, 31.992435746929708), (77.29592032851944, 34.959891736931816), (77.29592032851944, 37.927347726933924), (77.29592032851944, 40.89480371693603), (77.29592032851944, 43.86225970693814), (77.29592032851944, 46.82971569694025), (77.29592032851944, 49.79717168694236), (77.29592032851944, 52.76462767694447), (77.29592032851944, 55.732083666946565), (77.29592032851944, 58.69953965694867), (77.29592032851944, 61.666995646950795), (77.29592032851944, 64.6344516369529), (77.29592032851944, 67.601907626955), (77.29592032851944, 70.5693636169571), (77.29592032851944, 73.53681960695923), (77.29592032851944, 76.50427559696134), (77.29592032851944, 79.47173158696343), (77.29592032851944, 82.43918757696554), (77.29592032851944, 85.40664356696766), (77.29592032851944, 88.37409955696977), (77.29592032851944, 91.34155554697186), (77.29592032851944, 94.30901153697397), (77.29592032851944, 97.27646752697609), (77.29592032851944, 100.2439235169782), (77.29592032851944, 103.2113795069803), (80.03591203902718, -80.77089187315039), (80.03591203902718, -77.8034358831483), (80.03591203902718, -74.83597989314617), (80.03591203902718, -71.86852390314408), (80.03591203902718, -68.90106791314196), (80.03591203902718, -65.93361192313986), (80.03591203902718, -62.96615593313775), (80.03591203902718, -59.99869994313564), (80.03591203902718, -57.03124395313353), (80.03591203902718, -54.063787963131425), (80.03591203902718, -51.09633197312932), (80.03591203902718, -48.12887598312721), (80.03591203902718, -45.1614199931251), (80.03591203902718, -42.19396400312299), (80.03591203902718, -39.226508013120885), (80.03591203902718, -36.25905202311878), (80.03591203902718, -33.29159603311667), (80.03591203902718, -30.32414004311456), (80.03591203902718, -27.356684053112453), (80.03591203902718, -24.389228063110345), (80.03591203902718, -21.421772073108237), (80.03591203902718, -18.45431608310613), (80.03591203902718, -15.48686009310402), (80.03591203902718, -12.519404103101913), (80.03591203902718, -9.551948113099805), (80.03591203902718, -6.5844921230976965), (80.03591203902718, -3.6170361330955885), (80.03591203902718, -0.6495801430934804), (80.03591203902718, 2.3178758469086276), (80.03591203902718, 5.285331836910736), (80.03591203902718, 8.252787826912844), (80.03591203902718, 11.220243816914952), (80.03591203902718, 14.18769980691706), (80.03591203902718, 17.155155796919168), (80.03591203902718, 20.122611786921276), (80.03591203902718, 23.090067776923384), (80.03591203902718, 26.05752376692549), (80.03591203902718, 29.0249797569276), (80.03591203902718, 31.992435746929708), (80.03591203902718, 34.959891736931816), (80.03591203902718, 37.927347726933924), (80.03591203902718, 40.89480371693603), (80.03591203902718, 43.86225970693814), (80.03591203902718, 46.82971569694025), (80.03591203902718, 49.79717168694236), (80.03591203902718, 52.76462767694447), (80.03591203902718, 55.732083666946565), (80.03591203902718, 58.69953965694867), (80.03591203902718, 61.666995646950795), (80.03591203902718, 64.6344516369529), (80.03591203902718, 67.601907626955), (80.03591203902718, 70.5693636169571), (80.03591203902718, 73.53681960695923), (80.03591203902718, 76.50427559696134), (80.03591203902718, 79.47173158696343), (80.03591203902718, 82.43918757696554), (80.03591203902718, 85.40664356696766), (80.03591203902718, 88.37409955696977), (80.03591203902718, 91.34155554697186), (80.03591203902718, 94.30901153697397), (80.03591203902718, 97.27646752697609), (80.03591203902718, 100.2439235169782), (80.03591203902718, 103.2113795069803), (82.77590374953493, -80.77089187315039), (82.77590374953493, -77.8034358831483), (82.77590374953493, -74.83597989314617), (82.77590374953493, -71.86852390314408), (82.77590374953493, -68.90106791314196), (82.77590374953493, -65.93361192313986), (82.77590374953493, -62.96615593313775), (82.77590374953493, -59.99869994313564), (82.77590374953493, -57.03124395313353), (82.77590374953493, -54.063787963131425), (82.77590374953493, -51.09633197312932), (82.77590374953493, -48.12887598312721), (82.77590374953493, -45.1614199931251), (82.77590374953493, -42.19396400312299), (82.77590374953493, -39.226508013120885), (82.77590374953493, -36.25905202311878), (82.77590374953493, -33.29159603311667), (82.77590374953493, -30.32414004311456), (82.77590374953493, -27.356684053112453), (82.77590374953493, -24.389228063110345), (82.77590374953493, -21.421772073108237), (82.77590374953493, -18.45431608310613), (82.77590374953493, -15.48686009310402), (82.77590374953493, -12.519404103101913), (82.77590374953493, -9.551948113099805), (82.77590374953493, -6.5844921230976965), (82.77590374953493, -3.6170361330955885), (82.77590374953493, -0.6495801430934804), (82.77590374953493, 2.3178758469086276), (82.77590374953493, 5.285331836910736), (82.77590374953493, 8.252787826912844), (82.77590374953493, 11.220243816914952), (82.77590374953493, 14.18769980691706), (82.77590374953493, 17.155155796919168), (82.77590374953493, 20.122611786921276), (82.77590374953493, 23.090067776923384), (82.77590374953493, 26.05752376692549), (82.77590374953493, 29.0249797569276), (82.77590374953493, 31.992435746929708), (82.77590374953493, 34.959891736931816), (82.77590374953493, 37.927347726933924), (82.77590374953493, 40.89480371693603), (82.77590374953493, 43.86225970693814), (82.77590374953493, 46.82971569694025), (82.77590374953493, 49.79717168694236), (82.77590374953493, 52.76462767694447), (82.77590374953493, 55.732083666946565), (82.77590374953493, 58.69953965694867), (82.77590374953493, 61.666995646950795), (82.77590374953493, 64.6344516369529), (82.77590374953493, 67.601907626955), (82.77590374953493, 70.5693636169571), (82.77590374953493, 73.53681960695923), (82.77590374953493, 76.50427559696134), (82.77590374953493, 79.47173158696343), (82.77590374953493, 82.43918757696554), (82.77590374953493, 85.40664356696766), (82.77590374953493, 88.37409955696977), (82.77590374953493, 91.34155554697186), (82.77590374953493, 94.30901153697397), (82.77590374953493, 97.27646752697609), (82.77590374953493, 100.2439235169782), (82.77590374953493, 103.2113795069803), (85.51589546004267, -80.77089187315039), (85.51589546004267, -77.8034358831483), (85.51589546004267, -74.83597989314617), (85.51589546004267, -71.86852390314408), (85.51589546004267, -68.90106791314196), (85.51589546004267, -65.93361192313986), (85.51589546004267, -62.96615593313775), (85.51589546004267, -59.99869994313564), (85.51589546004267, -57.03124395313353), (85.51589546004267, -54.063787963131425), (85.51589546004267, -51.09633197312932), (85.51589546004267, -48.12887598312721), (85.51589546004267, -45.1614199931251), (85.51589546004267, -42.19396400312299), (85.51589546004267, -39.226508013120885), (85.51589546004267, -36.25905202311878), (85.51589546004267, -33.29159603311667), (85.51589546004267, -30.32414004311456), (85.51589546004267, -27.356684053112453), (85.51589546004267, -24.389228063110345), (85.51589546004267, -21.421772073108237), (85.51589546004267, -18.45431608310613), (85.51589546004267, -15.48686009310402), (85.51589546004267, -12.519404103101913), (85.51589546004267, -9.551948113099805), (85.51589546004267, -6.5844921230976965), (85.51589546004267, -3.6170361330955885), (85.51589546004267, -0.6495801430934804), (85.51589546004267, 2.3178758469086276), (85.51589546004267, 5.285331836910736), (85.51589546004267, 8.252787826912844), (85.51589546004267, 11.220243816914952), (85.51589546004267, 14.18769980691706), (85.51589546004267, 17.155155796919168), (85.51589546004267, 20.122611786921276), (85.51589546004267, 23.090067776923384), (85.51589546004267, 26.05752376692549), (85.51589546004267, 29.0249797569276), (85.51589546004267, 31.992435746929708), (85.51589546004267, 34.959891736931816), (85.51589546004267, 37.927347726933924), (85.51589546004267, 40.89480371693603), (85.51589546004267, 43.86225970693814), (85.51589546004267, 46.82971569694025), (85.51589546004267, 49.79717168694236), (85.51589546004267, 52.76462767694447), (85.51589546004267, 55.732083666946565), (85.51589546004267, 58.69953965694867), (85.51589546004267, 61.666995646950795), (85.51589546004267, 64.6344516369529), (85.51589546004267, 67.601907626955), (85.51589546004267, 70.5693636169571), (85.51589546004267, 73.53681960695923), (85.51589546004267, 76.50427559696134), (85.51589546004267, 79.47173158696343), (85.51589546004267, 82.43918757696554), (85.51589546004267, 85.40664356696766), (85.51589546004267, 88.37409955696977), (85.51589546004267, 91.34155554697186), (85.51589546004267, 94.30901153697397), (85.51589546004267, 97.27646752697609), (85.51589546004267, 100.2439235169782), (85.51589546004267, 103.2113795069803), (88.2558871705504, -80.77089187315039), (88.2558871705504, -77.8034358831483), (88.2558871705504, -74.83597989314617), (88.2558871705504, -71.86852390314408), (88.2558871705504, -68.90106791314196), (88.2558871705504, -65.93361192313986), (88.2558871705504, -62.96615593313775), (88.2558871705504, -59.99869994313564), (88.2558871705504, -57.03124395313353), (88.2558871705504, -54.063787963131425), (88.2558871705504, -51.09633197312932), (88.2558871705504, -48.12887598312721), (88.2558871705504, -45.1614199931251), (88.2558871705504, -42.19396400312299), (88.2558871705504, -39.226508013120885), (88.2558871705504, -36.25905202311878), (88.2558871705504, -33.29159603311667), (88.2558871705504, -30.32414004311456), (88.2558871705504, -27.356684053112453), (88.2558871705504, -24.389228063110345), (88.2558871705504, -21.421772073108237), (88.2558871705504, -18.45431608310613), (88.2558871705504, -15.48686009310402), (88.2558871705504, -12.519404103101913), (88.2558871705504, -9.551948113099805), (88.2558871705504, -6.5844921230976965), (88.2558871705504, -3.6170361330955885), (88.2558871705504, -0.6495801430934804), (88.2558871705504, 2.3178758469086276), (88.2558871705504, 5.285331836910736), (88.2558871705504, 8.252787826912844), (88.2558871705504, 11.220243816914952), (88.2558871705504, 14.18769980691706), (88.2558871705504, 17.155155796919168), (88.2558871705504, 20.122611786921276), (88.2558871705504, 23.090067776923384), (88.2558871705504, 26.05752376692549), (88.2558871705504, 29.0249797569276), (88.2558871705504, 31.992435746929708), (88.2558871705504, 34.959891736931816), (88.2558871705504, 37.927347726933924), (88.2558871705504, 40.89480371693603), (88.2558871705504, 43.86225970693814), (88.2558871705504, 46.82971569694025), (88.2558871705504, 49.79717168694236), (88.2558871705504, 52.76462767694447), (88.2558871705504, 55.732083666946565), (88.2558871705504, 58.69953965694867), (88.2558871705504, 61.666995646950795), (88.2558871705504, 64.6344516369529), (88.2558871705504, 67.601907626955), (88.2558871705504, 70.5693636169571), (88.2558871705504, 73.53681960695923), (88.2558871705504, 76.50427559696134), (88.2558871705504, 79.47173158696343), (88.2558871705504, 82.43918757696554), (88.2558871705504, 85.40664356696766), (88.2558871705504, 88.37409955696977), (88.2558871705504, 91.34155554697186), (88.2558871705504, 94.30901153697397), (88.2558871705504, 97.27646752697609), (88.2558871705504, 100.2439235169782), (88.2558871705504, 103.2113795069803)], 'original_all_x_shape': (63, 63), 'flat_p_x_given_n_and_x_prev': array([[nan, nan, nan, ..., nan, nan, nan],\n",
       "       [nan, nan, nan, ..., nan, nan, nan],\n",
       "       [nan, nan, nan, ..., nan, nan, nan],\n",
       "       ...,\n",
       "       [nan, 0, 0, ..., 0, 0, 0],\n",
       "       [nan, 0, 0, ..., 0, 0, 0],\n",
       "       [nan, 0, 0, ..., 0, 0, 0]]), 'p_x_given_n_and_x_prev': array([[[nan, nan, nan, ..., nan, nan, nan],\n",
       "        [nan, nan, nan, ..., nan, nan, nan],\n",
       "        [nan, nan, nan, ..., nan, nan, nan],\n",
       "        ...,\n",
       "        [nan, nan, nan, ..., nan, nan, nan],\n",
       "        [nan, nan, nan, ..., nan, nan, nan],\n",
       "        [nan, 0, 0, ..., 0, 0, 0]],\n",
       "\n",
       "       [[nan, nan, nan, ..., nan, nan, nan],\n",
       "        [nan, nan, nan, ..., nan, nan, nan],\n",
       "        [nan, nan, nan, ..., nan, nan, nan],\n",
       "        ...,\n",
       "        [nan, 4.71582e-72, 7.04411e-70, ..., 1.06827e-87, 4.60579e-108, 2.93862e-119],\n",
       "        [nan, nan, nan, ..., nan, nan, nan],\n",
       "        [nan, 0, 0, ..., 0, 0, 0]],\n",
       "\n",
       "       [[nan, nan, nan, ..., nan, nan, nan],\n",
       "        [nan, nan, nan, ..., nan, nan, nan],\n",
       "        [nan, 0, 0, ..., 0, 0, 0],\n",
       "        ...,\n",
       "        [nan, 4.52801e-76, 1.72783e-74, ..., 4.37348e-89, 1.10899e-105, 1.06557e-116],\n",
       "        [nan, nan, nan, ..., nan, nan, nan],\n",
       "        [nan, 0, 0, ..., 0, 0, 0]],\n",
       "\n",
       "       ...,\n",
       "\n",
       "       [[nan, nan, nan, ..., nan, nan, nan],\n",
       "        [nan, nan, nan, ..., nan, nan, nan],\n",
       "        [nan, nan, nan, ..., nan, nan, nan],\n",
       "        ...,\n",
       "        [nan, nan, nan, ..., nan, nan, nan],\n",
       "        [nan, nan, nan, ..., nan, nan, nan],\n",
       "        [nan, 0, 0, ..., 0, 0, 0]],\n",
       "\n",
       "       [[nan, nan, nan, ..., nan, nan, nan],\n",
       "        [nan, nan, nan, ..., nan, nan, nan],\n",
       "        [nan, nan, nan, ..., nan, nan, nan],\n",
       "        ...,\n",
       "        [nan, nan, nan, ..., nan, nan, nan],\n",
       "        [nan, nan, nan, ..., nan, nan, nan],\n",
       "        [nan, 0, 0, ..., 0, 0, 0]],\n",
       "\n",
       "       [[nan, 0, 0, ..., 0, 0, 0],\n",
       "        [nan, 0, 0, ..., 0, 0, 0],\n",
       "        [nan, 0, 0, ..., 0, 0, 0],\n",
       "        ...,\n",
       "        [nan, 0, 0, ..., 0, 0, 0],\n",
       "        [nan, 0, 0, ..., 0, 0, 0],\n",
       "        [nan, 0, 0, ..., 0, 0, 0]]]), 'most_likely_position_indicies': array([[0, 0, 0, ..., 0, 0, 0],\n",
       "       [0, 0, 0, ..., 0, 0, 0]], dtype=int64), 'most_likely_positions': array([[-81.6236, -81.6236, -81.6236, ..., -81.6236, -81.6236, -81.6236],\n",
       "       [-80.7709, -80.7709, -80.7709, ..., -80.7709, -80.7709, -80.7709]]), 'all_scaling_factors_k': array([nan, 1, 1, ..., 1, 1, 1]), 'most_likely_position_flat_indicies': array([0, 0, 0, ..., 0, 0, 0], dtype=int64)})"
      ]
     },
     "execution_count": 21,
     "metadata": {},
     "output_type": "execute_result"
    }
   ],
   "source": [
    "# Get the decoders from the computation result:\n",
    "# active_one_step_decoder = computation_result.computed_data['pf2D_Decoder']\n",
    "# active_two_step_decoder = computation_result.computed_data.get('pf2D_TwoStepDecoder', None)\n",
    "# active_measured_positions = computation_result.sess.position.to_dataframe()\n",
    "\n",
    "active_one_step_decoder # BayesianPlacemapPositionDecoder\n",
    "active_two_step_decoder\n",
    "\n",
    "\n",
    "## SAVE OUT THE RESULTS of the decoder:\n",
    "\n"
   ]
  },
  {
   "cell_type": "code",
   "execution_count": null,
   "id": "0df61fb1-3aaf-41d2-8e00-efe2c7667757",
   "metadata": {},
   "outputs": [],
   "source": []
  },
  {
   "cell_type": "code",
   "execution_count": 17,
   "id": "6e248ee9-5672-4531-a8ab-2a34883805ef",
   "metadata": {
    "pycharm": {
     "name": "#%%\n"
    }
   },
   "outputs": [],
   "source": []
  },
  {
   "cell_type": "code",
   "execution_count": null,
   "id": "5249ee97-6127-4815-b0a9-63adc3c7b858",
   "metadata": {
    "scrolled": true
   },
   "outputs": [],
   "source": [
    "curr_display_function_name = '_display_spike_rasters_pyqtplot_2D'\n",
    "curr_active_pipeline.display(curr_display_function_name, filter_name, debug_print=False, enable_saving_to_disk=enable_saving_to_disk) "
   ]
  },
  {
   "cell_type": "code",
   "execution_count": null,
   "id": "76ecbf71-92fb-41ac-ae91-704815fa401d",
   "metadata": {
    "scrolled": true
   },
   "outputs": [],
   "source": [
    "## Works, displays my velocity/density result for both 2D and 1D:\n",
    "# out_plot_1D, out_plot_2D = curr_active_pipeline.display('_display_speed_vs_PFoverlapDensity_plots', active_config_name)\n",
    "curr_display_function_name = '_display_speed_vs_PFoverlapDensity_plots'\n",
    "plots = curr_active_pipeline.display(curr_display_function_name, filter_name)\n",
    "plots"
   ]
  },
  {
   "cell_type": "code",
   "execution_count": null,
   "id": "0167194d-fd65-414a-b98c-d52bb5431980",
   "metadata": {
    "tags": []
   },
   "outputs": [],
   "source": [
    "curr_display_function_name = '_display_placemaps_pyqtplot_2D'\n",
    "out_plots = curr_active_pipeline.display(curr_display_function_name, filter_name)    \n",
    "out_plots[1].show()"
   ]
  },
  {
   "cell_type": "code",
   "execution_count": null,
   "id": "4d0f0334-c55b-47e3-9566-24fa03d5b6b5",
   "metadata": {
    "tags": []
   },
   "outputs": [],
   "source": [
    "## KNOWN BAD, locks up, do not execute:\n",
    "curr_display_function_name = 'display_firing_rate_trends'\n",
    "plots = curr_active_pipeline.display(curr_display_function_name, filter_name)"
   ]
  },
  {
   "cell_type": "code",
   "execution_count": null,
   "id": "92072248-64cf-4ccf-93b0-f20104cf15c2",
   "metadata": {
    "tags": []
   },
   "outputs": [],
   "source": [
    "# a_plot = plots[0] # PlotWidget \n",
    "# a_plot_item = a_plot.plotItem # PlotItem\n",
    "# a_plot.scene() # GraphicsScene\n",
    "export_pyqtgraph_plot(plots[0])"
   ]
  },
  {
   "cell_type": "markdown",
   "id": "3fcfe3c2-0531-48ca-88c9-e291377650c4",
   "metadata": {
    "jp-MarkdownHeadingCollapsed": true,
    "tags": []
   },
   "source": [
    "### 3D (PyVista/Vedo/etc)-based plots:"
   ]
  },
  {
   "cell_type": "code",
   "execution_count": null,
   "id": "b0beb5b7-aa10-464e-a0a5-17682f66829b",
   "metadata": {
    "pycharm": {
     "is_executing": false,
     "name": "#%%\n"
    }
   },
   "outputs": [],
   "source": [
    "curr_active_pipeline.display('_display_3d_interactive_spike_and_behavior_browser', active_config_name) # this works now!"
   ]
  },
  {
   "cell_type": "code",
   "execution_count": null,
   "id": "ade9db56-3c6a-4216-ac7a-b763dfb42541",
   "metadata": {
    "pycharm": {
     "is_executing": false,
     "name": "#%%\n"
    }
   },
   "outputs": [],
   "source": [
    "display_dict = curr_active_pipeline.display('_display_3d_interactive_custom_data_explorer', active_config_name) # does not work, missing color info?\n",
    "iplapsDataExplorer = display_dict['iplapsDataExplorer']\n",
    "# plotter is available at\n",
    "p = display_dict['plotter']\n",
    "iplapsDataExplorer"
   ]
  },
  {
   "cell_type": "code",
   "execution_count": null,
   "id": "701c4ecf-15c2-4197-927f-8f1a63c7ac20",
   "metadata": {},
   "outputs": [],
   "source": [
    "# curr_kdiba_pipeline.display(DefaultDisplayFunctions._display_3d_interactive_custom_data_explorer, 'maze1') # works!\n",
    "curr_active_pipeline.display('_display_3d_interactive_tuning_curves_plotter', 'maze1') # works!"
   ]
  },
  {
   "cell_type": "markdown",
   "id": "7c3136f4",
   "metadata": {
    "jp-MarkdownHeadingCollapsed": true,
    "pycharm": {
     "name": "#%% md\n"
    },
    "tags": []
   },
   "source": [
    "# Common: Optional Saving"
   ]
  },
  {
   "cell_type": "code",
   "execution_count": null,
   "id": "e233f5fd-047d-4e64-ade2-9414c0a2426d",
   "metadata": {
    "pycharm": {
     "name": "#%%\n"
    },
    "tags": []
   },
   "outputs": [],
   "source": [
    "import pickle\n",
    "from pyphoplacecellanalysis.General.Mixins.ExportHelpers import _test_save_pipeline_data_to_h5, get_h5_data_keys, save_some_pipeline_data_to_h5, load_pipeline_data_from_h5  #ExportHelpers\n",
    "# Define Saving/Loading Directory and paths:\n",
    "# finalized_output_cache_file='data/pipeline_cache_store.h5'\n",
    "export_output_parent_dir = curr_active_pipeline.sess.basepath.joinpath('export') # R:\\data\\Hiro\\RoyMaze1\\export\\\n",
    "export_output_parent_dir.mkdir(exist_ok=True, parents=False) # Create the R:\\data\\Hiro\\RoyMaze1\\export\\ directory if it doesn't exist.\n",
    "finalized_output_cache_file = export_output_parent_dir.joinpath('pipeline_cache_store.h5')\n",
    "print(f'finalized_output_cache_file: {str(finalized_output_cache_file)}')"
   ]
  },
  {
   "cell_type": "code",
   "execution_count": null,
   "id": "bf1c7148-17db-435f-9ccf-5407fa9ea257",
   "metadata": {
    "pycharm": {
     "name": "#%%\n"
    },
    "tags": []
   },
   "outputs": [],
   "source": [
    "# List existing keys in the file:\n",
    "out_keys = get_h5_data_keys(finalized_output_cache_file=finalized_output_cache_file)\n",
    "print(out_keys)"
   ]
  },
  {
   "cell_type": "code",
   "execution_count": null,
   "id": "c6c4d1d0-a11e-4003-b6af-39d9a999b98f",
   "metadata": {
    "pycharm": {
     "name": "#%%\n"
    },
    "tags": []
   },
   "outputs": [],
   "source": [
    "# active_config_name = 'maze1'\n",
    "# active_config_name = 'maze'\n",
    "active_config_name = 'track'\n",
    "\n",
    "desired_spikes_df_key = f'/filtered_sessions/{active_config_name}/spikes_df'\n",
    "desired_positions_df_key = f'/filtered_sessions/{active_config_name}/pos_df'\n",
    "# desired_spikes_df_key = f'/filtered_sessions/{active_config_name}/spikes_df'\n",
    "\n",
    "# Get relevant variables:\n",
    "# curr_active_pipeline is set above, and usable here\n",
    "sess: DataSession = curr_active_pipeline.filtered_sessions[active_config_name]\n",
    "active_computed_data = curr_active_pipeline.computation_results[active_config_name].computed_data\n",
    "print(f'active_computed_data.keys(): {active_computed_data.keys()}')\n",
    "pf = curr_active_pipeline.computation_results[active_config_name].computed_data['pf1D']\n",
    "active_one_step_decoder = curr_active_pipeline.computation_results[active_config_name].computed_data['pf2D_Decoder']\n",
    "active_two_step_decoder = curr_active_pipeline.computation_results[active_config_name].computed_data.get('pf2D_TwoStepDecoder', None)\n",
    "active_measured_positions = curr_active_pipeline.computation_results[active_config_name].sess.position.to_dataframe()"
   ]
  },
  {
   "cell_type": "code",
   "execution_count": null,
   "id": "85eeff2a-223e-41e0-857b-bb520484a1c0",
   "metadata": {
    "pycharm": {
     "name": "#%%\n"
    },
    "tags": []
   },
   "outputs": [],
   "source": [
    "# desired_positions_df_key\n",
    "output_save_result = save_some_pipeline_data_to_h5(curr_active_pipeline, finalized_output_cache_file=finalized_output_cache_file)\n",
    "output_save_result"
   ]
  },
  {
   "cell_type": "code",
   "execution_count": null,
   "id": "9dc6bc10-def1-4b7d-a880-f6abfbdc4fed",
   "metadata": {
    "pycharm": {
     "name": "#%%\n"
    },
    "tags": []
   },
   "outputs": [],
   "source": [
    "finalized_output_cache_file = _test_save_pipeline_data_to_h5(curr_active_pipeline, finalized_output_cache_file=finalized_output_cache_file, enable_dry_run=False, enable_debug_print=True)\n",
    "finalized_output_cache_file"
   ]
  },
  {
   "cell_type": "code",
   "execution_count": null,
   "id": "81f66af6-30db-4c59-8f0c-96b07ec3b789",
   "metadata": {
    "pycharm": {
     "name": "#%%\n"
    },
    "tags": []
   },
   "outputs": [],
   "source": [
    "# Load the saved .h5 spikes dataframe for testing:\n",
    "desired_spikes_df_key = f'/filtered_sessions/{active_config_name}/spikes_df'\n",
    "desired_positions_df_key = f'/filtered_sessions/{active_config_name}/pos_df'    \n",
    "spikes_df, pos_df = load_pipeline_data_from_h5(finalized_output_cache_file=finalized_output_cache_file, desired_spikes_df_key=desired_spikes_df_key, desired_positions_df_key=desired_positions_df_key)\n"
   ]
  },
  {
   "cell_type": "code",
   "execution_count": null,
   "id": "9c34c96d-5a22-4429-80ea-65729522f66c",
   "metadata": {
    "pycharm": {
     "is_executing": false,
     "name": "#%%\n"
    },
    "tags": []
   },
   "outputs": [],
   "source": [
    "print(f't_start: {curr_active_pipeline.sess.epochs.t_start}')\n",
    "print(f't_stop: {curr_active_pipeline.sess.epochs.t_stop}')\n",
    "# curr_active_pipeline.sess.epochs.t_stop"
   ]
  },
  {
   "cell_type": "code",
   "execution_count": null,
   "id": "a4f5cda1-d77f-4b13-bdc2-34de69597139",
   "metadata": {
    "pycharm": {
     "is_executing": false,
     "name": "#%%\n"
    },
    "tags": []
   },
   "outputs": [],
   "source": [
    "curr_sess.epochs.t_start\n",
    "print(f't_start: {sess.epochs.t_start}')\n",
    "print(f't_stop: {sess.epochs.t_stop}')"
   ]
  },
  {
   "cell_type": "markdown",
   "id": "91ad4fc2-7f79-4153-97a0-61a27ef05b9f",
   "metadata": {
    "pycharm": {
     "name": "#%%\n"
    }
   },
   "source": [
    "## Test saving out custom computation result:"
   ]
  },
  {
   "cell_type": "code",
   "execution_count": null,
   "id": "20420a8d-1030-4d0c-b0c2-c014b52998ff",
   "metadata": {
    "pycharm": {
     "name": "#%%\n"
    },
    "tags": []
   },
   "outputs": [],
   "source": [
    "# computation_results[active_config_name].computed_data\n",
    "computation_cache_identifier_key = f'computation_results/{active_config_name}/computed_data'\n",
    "computation_cache_key = 'burst_detection/burst_intervals'\n",
    "# active_burst_intervals\n",
    "\n",
    "filtered_burst_intervals = active_burst_intervals\n",
    "# Rebuild a single dataframe from: .groupby('aclu').get_group(a_cell_id)\n",
    "for (a_cell_id, curr_pyburst_interval_df) in active_burst_intervals.items():\n",
    "    # loop through the cell_ids  \n",
    "    # Filter to only zero- and first-order bursts:\n",
    "    # curr_pyburst_interval_df = curr_pyburst_interval_df[curr_pyburst_interval_df['burst_level'] < 2]\n",
    "    # add the 'aclu' column\n",
    "    # curr_pyburst_interval_df['aclu'] = a_cell_id\n",
    "    filtered_burst_intervals[a_cell_id] = curr_pyburst_interval_df\n",
    "\n",
    "## Concatinate the separate dataframes for each neuron into a single dataframe with an 'aclu' column so that it can be cached/saved to disk:\n",
    "# pd.concat([s1, s2], keys=['s1', 's2'])\n",
    "filtered_combined_df = pd.concat(filtered_burst_intervals.values(), keys=list(filtered_burst_intervals.keys()), names=['aclu', 'cell_burst_id'])\n",
    "# pd.concat(filtered_burst_intervals.values(), keys=list(filtered_burst_intervals.keys()), names=['aclu', 'cell_burst_id'], ignore_index=True)\n",
    "print_dataframe_memory_usage(filtered_combined_df)\n",
    "# filtered_combined_df\n",
    "\n",
    "# Define Saving/Loading Directory and paths:\n",
    "finalized_computation_cache_file = export_output_parent_dir.joinpath('computation_results_cache_store.h5')\n",
    "print(f'finalized_computation_cache_file: {str(finalized_computation_cache_file)}')\n",
    "computation_cache_identifier_key = f'computation_results/{active_config_name}/computed_data'\n",
    "filtered_combined_df.to_hdf(finalized_computation_cache_file, key=f'{computation_cache_identifier_key}/{computation_cache_key}')"
   ]
  },
  {
   "cell_type": "code",
   "execution_count": null,
   "id": "1bf110a2-ea48-4e3d-8415-0df70fbdee70",
   "metadata": {
    "scene__Default Scene": true,
    "tags": [
     "ActiveScene"
    ]
   },
   "outputs": [],
   "source": [
    "# _test_computation_result_output_path = Path('output', active_data_mode_name, sess.name) # active_data_mode_name: 'kdiba'; sess.name: '2006-6-07_11-26-53'\n",
    "# _test_computation_result_output_path = Path('output') # active_data_mode_name: 'kdiba'; sess.name: '2006-6-07_11-26-53'\n",
    "# finalized_computation_results_out_file=_test_computation_result_output_path.joinpath('computation_results_store.h5')\n",
    "finalized_computation_results_out_file = export_output_parent_dir.joinpath('computation_results_store.h5')\n",
    "print(f'finalized_computation_results_out_file: {str(finalized_computation_results_out_file)}')\n",
    "\n",
    "# Do particular key:\n",
    "computation_result_recording_session_identifier_path = f'{active_data_mode_name}/{sess.name}' # 'kdiba/2006-6-07_11-26-53'\n",
    "\n",
    "## Specific Config:\n",
    "# active_config_name = 'maze1'\n",
    "# active_config_name = 'maze2'\n",
    "# active_config_name = 'maze'\n",
    "active_config_name = 'track'\n",
    "computation_result_identifier_path = f'{computation_result_recording_session_identifier_path}/computation_results/{active_config_name}' # 'kdiba/2006-6-07_11-26-53/computation_results/maze1'\n",
    "computation_result_identifier_computed_data_path = f'{computation_result_identifier_path}/computed_data' # 'kdiba/2006-6-07_11-26-53/computation_results/maze1/computed_data'\n",
    "# computation_result_key = 'burst_detection/burst_intervals'\n",
    "\n",
    "print(f'computation_result_identifier_path: \"{computation_result_identifier_path}\"')\n",
    "\n",
    "# Get relevant variables:\n",
    "# curr_active_pipeline is set above, and usable here\n",
    "sess: DataSession = curr_active_pipeline.filtered_sessions[active_config_name]\n",
    "\n",
    "active_computation_results = curr_active_pipeline.computation_results[active_config_name]\n",
    "active_computed_data = curr_active_pipeline.computation_results[active_config_name].computed_data\n",
    "active_computation_config = curr_active_pipeline.computation_results[active_config_name].computation_config\n",
    "active_computation_errors = curr_active_pipeline.computation_results[active_config_name].accumulated_errors\n",
    "# print(f'active_computed_data.keys(): {list(active_computed_data.keys())}')\n",
    "# print(f'active_computation_errors: {active_computation_errors}')\n",
    "active_pf_1D = curr_active_pipeline.computation_results[active_config_name].computed_data['pf1D']\n",
    "active_pf_2D = curr_active_pipeline.computation_results[active_config_name].computed_data['pf2D']    \n",
    "active_pf_1D_dt = curr_active_pipeline.computation_results[active_config_name].computed_data.get('pf1D_dt', None)\n",
    "active_pf_2D_dt = curr_active_pipeline.computation_results[active_config_name].computed_data.get('pf2D_dt', None)\n",
    "active_one_step_decoder = curr_active_pipeline.computation_results[active_config_name].computed_data.get('pf2D_Decoder', None)\n",
    "active_two_step_decoder = curr_active_pipeline.computation_results[active_config_name].computed_data.get('pf2D_TwoStepDecoder', None)\n",
    "active_eloy_analysis = curr_active_pipeline.computation_results[active_config_name].computed_data.get('EloyAnalysis', None)\n",
    "active_simpler_pf_densities_analysis = curr_active_pipeline.computation_results[active_config_name].computed_data.get('SimplerNeuronMeetingThresholdFiringAnalysis', None)\n",
    "active_ratemap_peaks_analysis = curr_active_pipeline.computation_results[active_config_name].computed_data.get('RatemapPeaksAnalysis', None)\n",
    "active_peak_prominence_2d_results = curr_active_pipeline.computation_results[active_config_name].computed_data.get('RatemapPeaksAnalysis', {}).get('PeakProminence2D', None)\n",
    "active_measured_positions = curr_active_pipeline.computation_results[active_config_name].sess.position.to_dataframe()\n",
    "curr_spikes_df = sess.spikes_df\n",
    "\n",
    "curr_active_config = curr_active_pipeline.active_configs[active_config_name]\n",
    "curr_active_display_config = curr_active_config.plotting_config"
   ]
  },
  {
   "cell_type": "code",
   "execution_count": null,
   "id": "3d0e8dfb-e30d-49d8-8b38-92659bede1fb",
   "metadata": {
    "scene__Default Scene": true,
    "tags": [
     "ActiveScene"
    ]
   },
   "outputs": [],
   "source": [
    "from pyphoplacecellanalysis.General.Pipeline.Stages.Loading import loadData, saveData\n",
    "finalized_computation_results_out_pickle_test_file = export_output_parent_dir.joinpath('computation_results.pkl')\n",
    "print(f'finalized_computation_results_out_pickle_test_file: {str(finalized_computation_results_out_pickle_test_file)}')"
   ]
  },
  {
   "cell_type": "code",
   "execution_count": null,
   "id": "ce77642f-990e-444a-aaa7-68aad4390e0b",
   "metadata": {
    "scene__Default Scene": true,
    "tags": [
     "ActiveScene"
    ]
   },
   "outputs": [],
   "source": [
    "saveData(finalized_computation_results_out_pickle_test_file, db=active_computed_data)\n",
    "# saveData(finalized_computation_results_out_pickle_test_file, db={'pf2D': active_pf_2D, 'RatemapPeaksAnalysis': active_ratemap_peaks_analysis})"
   ]
  },
  {
   "cell_type": "code",
   "execution_count": null,
   "id": "571b98b0-f9fd-41d6-8a06-e0ad15279ae5",
   "metadata": {
    "scene__Default Scene": true,
    "tags": [
     "ActiveScene"
    ]
   },
   "outputs": [],
   "source": [
    "db = loadData(finalized_computation_results_out_pickle_test_file, debug_print=False)\n",
    "db"
   ]
  },
  {
   "cell_type": "code",
   "execution_count": null,
   "id": "e5fb46dc-3695-4362-b496-42cd8213a483",
   "metadata": {
    "scene__Default Scene": true,
    "tags": [
     "ActiveScene"
    ]
   },
   "outputs": [],
   "source": [
    "active_pf_1D.str_for_filename() # 'pf1D-speedThresh_10.00-gridBin_4.00-smooth_2.50-frateThresh_0.20'\n",
    "active_pf_1D.to_pickle()\n"
   ]
  },
  {
   "cell_type": "code",
   "execution_count": null,
   "id": "009b7f92-f70b-4cbf-97ca-1ac859a7786d",
   "metadata": {
    "pycharm": {
     "is_executing": false
    },
    "scrolled": true,
    "tags": []
   },
   "outputs": [],
   "source": [
    "## Note that pickling the whole spikes_df dataframe when done is very quick, especially to load!\n",
    "active_file_suffix = '.spikes_df_full.pkl'\n",
    "spikes_df_save_path = curr_active_pipeline.sess.filePrefix.with_suffix(active_file_suffix)\n",
    "print(f'spikes_df_save_path: {spikes_df_save_path}')"
   ]
  },
  {
   "cell_type": "code",
   "execution_count": null,
   "id": "7574f86c-0b1c-4460-a088-5e83de722964",
   "metadata": {
    "pycharm": {
     "is_executing": false
    },
    "scrolled": true,
    "tags": []
   },
   "outputs": [],
   "source": [
    "curr_active_pipeline.sess.spikes_df.to_pickle(spikes_df_save_path)  # where to save it, usually as a .pkl"
   ]
  },
  {
   "cell_type": "code",
   "execution_count": null,
   "id": "3b8dd47f-e50f-411e-9e7c-0a59a4fab66e",
   "metadata": {
    "pycharm": {
     "is_executing": false
    },
    "scrolled": true,
    "tags": []
   },
   "outputs": [],
   "source": [
    "loaded_spikes_df = pd.read_pickle(spikes_df_save_path)\n",
    "loaded_spikes_df"
   ]
  },
  {
   "cell_type": "code",
   "execution_count": null,
   "id": "89545f5a-bef2-42db-a5fa-13ab7bd623ef",
   "metadata": {
    "pycharm": {
     "is_executing": false
    },
    "scrolled": true,
    "tags": []
   },
   "outputs": [],
   "source": []
  },
  {
   "cell_type": "markdown",
   "id": "1b953e0e-5baf-456b-afe5-1d4e488d717f",
   "metadata": {
    "pycharm": {
     "name": "#%%\n"
    }
   },
   "source": [
    "## Test building interactive export Parameters tree GUI to select computation results to save out :"
   ]
  },
  {
   "cell_type": "code",
   "execution_count": null,
   "id": "8834bbeb-71b2-4af1-9819-bd4f32e316f4",
   "metadata": {
    "pycharm": {
     "name": "#%%\n"
    },
    "tags": [
     "gui",
     "launch"
    ]
   },
   "outputs": [],
   "source": [
    "from pyphoplacecellanalysis.GUI.PyQtPlot.Params.ParameterTrees.ExportPipelineParametersTree import build_export_parameters_tree\n",
    "## Build the actual ParameterTree widget, the core GUI\n",
    "title = 'ExportParamsTest'\n",
    "app = pg.mkQApp(title)\n",
    "p = build_export_parameters_tree(curr_active_pipeline, parameter_names='ExportParams', finalized_output_cache_file='data/pipeline_cache_store.h5', include_state_save_restore_buttons=False, debug_print=True)\n",
    "\n",
    "paramTree = ParameterTree()\n",
    "paramTree.setParameters(p, showTop=False)\n",
    "paramTree.show()\n",
    "paramTree.setWindowTitle(f'PhoParamTreeApp: pyqtgraph ParameterTree: {title}')\n",
    "paramTree.resize(800,600)"
   ]
  },
  {
   "cell_type": "markdown",
   "id": "44aa38a3-402a-49dc-9a1a-425831c368cc",
   "metadata": {
    "pycharm": {
     "is_executing": false,
     "name": "#%%\n"
    },
    "tags": []
   },
   "source": [
    "# Testing burst detection: Calculate the spiking profile using pyspike and display the outputs:"
   ]
  },
  {
   "cell_type": "markdown",
   "id": "71ef63a9-ee2d-4aa7-8f00-b086ead49b6e",
   "metadata": {
    "pycharm": {
     "is_executing": false,
     "name": "#%%\n"
    },
    "tags": []
   },
   "source": [
    "### pybursts"
   ]
  },
  {
   "cell_type": "code",
   "execution_count": null,
   "id": "47f27070-910d-4cb3-9499-06822c1e6088",
   "metadata": {
    "pycharm": {
     "name": "#%%\n"
    }
   },
   "outputs": [],
   "source": [
    "from pybursts import pybursts\n",
    "import matplotlib.pyplot as plt\n",
    "from indexed import IndexedOrderedDict\n",
    "from pyphocorehelpers.print_helpers import print_dataframe_memory_usage\n",
    "from copy import deepcopy\n",
    "\n",
    "active_burst_info = active_computed_data['burst_detection']\n",
    "active_burst_intervals = deepcopy(active_burst_info['burst_intervals'])\n",
    "filtered_burst_intervals = active_burst_intervals"
   ]
  },
  {
   "cell_type": "code",
   "execution_count": null,
   "id": "c5a08c35-b90c-4d26-af35-78151c643627",
   "metadata": {
    "pycharm": {
     "name": "#%%\n"
    }
   },
   "outputs": [],
   "source": [
    "# bursting_interval_datasource = Render2DEventRectanglesHelper.build_interval_datasource_from_active_burst_intervals(active_burst_intervals=filtered_burst_intervals)\n",
    "bursting_interval_datasource = Render2DEventRectanglesHelper.build_burst_event_rectangle_datasource(spike_raster_window.spike_raster_plt_2d, active_burst_intervals, datasource_name='active_burst_intervals_datasource', included_burst_levels=[1,2,3,4,5])\n",
    "# bursting_interval_datasource"
   ]
  },
  {
   "cell_type": "code",
   "execution_count": null,
   "id": "29a5f19a-4275-4c85-9289-ac03001be155",
   "metadata": {
    "pycharm": {
     "name": "#%%\n"
    }
   },
   "outputs": [],
   "source": [
    "active_bursts_interval_rects_item = Render2DEventRectanglesHelper.build_IntervalRectsItem_from_interval_datasource(bursting_interval_datasource)\n",
    "active_bursts_interval_rects_item.setToolTip('Bursting')\n",
    "active_bursts_interval_rects_item"
   ]
  },
  {
   "cell_type": "markdown",
   "id": "3717416c-e58f-4c91-be79-9915d5c2d243",
   "metadata": {
    "pycharm": {
     "name": "#%%\n"
    },
    "tags": []
   },
   "source": [
    "## Plot the burst periods as rectangles on the 2D Raster Plot:"
   ]
  },
  {
   "cell_type": "code",
   "execution_count": null,
   "id": "dfb88674-ff13-4e95-836b-a636e08afde6",
   "metadata": {
    "pycharm": {
     "is_executing": false,
     "name": "#%%\n"
    }
   },
   "outputs": [],
   "source": [
    "# from pyphoplacecellanalysis.GUI.PyQtPlot.Widgets.Mixins.Render2DEventRectanglesHelper import Render2DEventRectanglesHelper\n",
    "\n",
    "# rect_return_dict = Render2DEventRectanglesHelper.add_event_rectangles(spike_raster_window.spike_raster_plt_2d, active_burst_intervals, included_burst_levels=[1]) # {'interval_rects_item': active_interval_rects_item}\n",
    "rect_return_dict = Render2DEventRectanglesHelper.add_event_rectangles(spike_raster_window.spike_raster_plt_2d, active_burst_intervals, included_burst_levels=[1,2,3,4,5]) # {'interval_rects_item': active_interval_rects_item}\n",
    "\n",
    "active_interval_rects_item = rect_return_dict['interval_rects_item']"
   ]
  },
  {
   "cell_type": "markdown",
   "id": "14511d03-97ac-46ac-b912-0e27cdadc7e9",
   "metadata": {
    "pycharm": {
     "is_executing": false,
     "name": "#%%\n"
    }
   },
   "source": [
    "#### Plot the result:"
   ]
  },
  {
   "cell_type": "code",
   "execution_count": null,
   "id": "a70a0f71-4139-461e-8582-d20b1a8728ed",
   "metadata": {
    "pycharm": {
     "is_executing": false,
     "name": "#%%\n"
    }
   },
   "outputs": [],
   "source": [
    "main_plot_widget = spike_raster_window.spike_raster_plt_2d.plots.main_plot_widget # PlotItem\n",
    "background_static_scroll_plot_widget = spike_raster_window.spike_raster_plt_2d.plots.background_static_scroll_window_plot # PlotItem"
   ]
  },
  {
   "cell_type": "code",
   "execution_count": null,
   "id": "425293be-df76-4095-917a-66825d6676bf",
   "metadata": {
    "pycharm": {
     "is_executing": false,
     "name": "#%%\n"
    }
   },
   "outputs": [],
   "source": [
    "## Remove the active_interval_rects_item:\n",
    "main_plot_widget.removeItem(active_interval_rects_item)\n",
    "active_interval_rects_item = None"
   ]
  },
  {
   "cell_type": "code",
   "execution_count": null,
   "id": "1f539ee8-01fd-416b-94c6-655489d551d0",
   "metadata": {
    "pycharm": {
     "is_executing": false,
     "name": "#%%\n"
    }
   },
   "outputs": [],
   "source": [
    "## Add the active_interval_rects_item to the background_static_scroll_window_plot: \n",
    "background_static_scroll_plot_widget.addItem(active_interval_rects_item)"
   ]
  },
  {
   "cell_type": "code",
   "execution_count": null,
   "id": "747b732a-7c05-4eca-84de-e8d78e991a23",
   "metadata": {
    "pycharm": {
     "is_executing": false,
     "name": "#%%\n"
    }
   },
   "outputs": [],
   "source": [
    "## Remove the active_interval_rects_item:\n",
    "background_static_scroll_plot_widget.removeItem(active_interval_rects_item)\n",
    "active_interval_rects_item = None"
   ]
  },
  {
   "cell_type": "markdown",
   "id": "3c7ca802-f4af-493c-a083-5e5baaf44986",
   "metadata": {
    "pycharm": {
     "is_executing": false,
     "name": "#%%\n"
    },
    "tags": []
   },
   "source": [
    "## Scratch"
   ]
  },
  {
   "cell_type": "code",
   "execution_count": null,
   "id": "cbe6ed1f-b6ba-453a-a1cd-bf4ec753ebed",
   "metadata": {
    "pycharm": {
     "is_executing": false,
     "name": "#%%\n"
    }
   },
   "outputs": [],
   "source": [
    "active_burst_intervals_neuron_IDXs_list = spike_raster_window.spike_raster_plt_2d.find_neuron_IDXs_from_cell_ids(list(filtered_burst_intervals.keys()))\n",
    "# { spike_raster_window.spike_raster_plt_2d.get_neuron_id_and_idx(neuron_id=a_neuron_id)[0] for i, a_neuron_id in enumerate(list(filtered_burst_intervals.keys()))}\n",
    "neuron_id_qcolors_map = {a_neuron_id:spike_raster_window.spike_raster_plt_2d.params.neuron_qcolors_map[spike_raster_window.spike_raster_plt_2d.get_neuron_id_and_idx(neuron_id=a_neuron_id)[0]] for i, a_neuron_id in enumerate(list(filtered_burst_intervals.keys()))}\n",
    "neuron_id_qcolors_map"
   ]
  },
  {
   "cell_type": "code",
   "execution_count": null,
   "id": "a215fe3e-2fec-4d6f-bab4-8101dd2645cf",
   "metadata": {
    "pycharm": {
     "is_executing": false,
     "name": "#%%\n"
    }
   },
   "outputs": [],
   "source": [
    "spike_raster_window.spike_raster_plt_2d.plots.scatter_plot"
   ]
  },
  {
   "cell_type": "code",
   "execution_count": null,
   "id": "24900b6f-2c69-4f73-9ef7-27d6d8dcafc6",
   "metadata": {
    "pycharm": {
     "is_executing": false,
     "name": "#%%\n"
    }
   },
   "outputs": [],
   "source": [
    "spike_raster_plt_3d.ui.spinRenderWindowDuration.setValue(scroll_window_width)"
   ]
  },
  {
   "cell_type": "code",
   "execution_count": null,
   "id": "eede1f8e-903d-4054-ac26-624ea7355a8c",
   "metadata": {
    "pycharm": {
     "is_executing": false,
     "name": "#%%\n"
    }
   },
   "outputs": [],
   "source": [
    "spike_raster_plt_3d.ui.spinTemporalZoomFactor.setValue(10.0)"
   ]
  },
  {
   "cell_type": "code",
   "execution_count": null,
   "id": "b8c9312d-1f9d-4201-a987-f4f76712eca5",
   "metadata": {
    "pycharm": {
     "is_executing": false,
     "name": "#%%\n"
    }
   },
   "outputs": [],
   "source": [
    "spike_raster_plt.animation_time_step # 0.03 (seconds)"
   ]
  },
  {
   "cell_type": "code",
   "execution_count": null,
   "id": "0d278473-b6e9-4962-ba85-192575a5d42c",
   "metadata": {
    "pycharm": {
     "is_executing": false,
     "name": "#%%\n"
    }
   },
   "outputs": [],
   "source": [
    "# spike_raster_plt.params.spike_start_z # -10\n",
    "spike_raster_plt.params.spike_end_z = -8.0 # -6.0"
   ]
  },
  {
   "cell_type": "code",
   "execution_count": null,
   "id": "3d987938-b257-4075-b2fe-33c91dc0f545",
   "metadata": {
    "pycharm": {
     "is_executing": false,
     "name": "#%%\n"
    }
   },
   "outputs": [],
   "source": [
    "spike_raster_plt.animation_time_step = 0.06"
   ]
  },
  {
   "cell_type": "code",
   "execution_count": null,
   "id": "e6217bb9-a229-48f7-9b5b-c06db732c0e7",
   "metadata": {
    "pycharm": {
     "is_executing": false,
     "name": "#%%\n"
    }
   },
   "outputs": [],
   "source": [
    "spike_raster_plt.shift_animation_frame_val(-3)"
   ]
  },
  {
   "cell_type": "markdown",
   "id": "469c4171-ea23-4f0f-bcc0-a7ab3544dfbe",
   "metadata": {
    "tags": []
   },
   "source": [
    "\n",
    "# Testing: Position Decoding:"
   ]
  },
  {
   "cell_type": "code",
   "execution_count": null,
   "id": "33b19634-f684-485c-8422-777cc5440c1d",
   "metadata": {
    "pycharm": {
     "name": "#%%\n"
    }
   },
   "outputs": [],
   "source": [
    "# win.close()\n",
    "\n",
    "# np.set_printoptions(edgeitems=5, linewidth=100000, formatter=dict(float=lambda x: \"%g\" % x))\n",
    "\n",
    "np.set_string_function(lambda x:f'np.array[{np.shape(x)}]', repr=True)\n",
    "# with np.printoptions(precision=2, edgeitems=2, linewidth=144):\n",
    "with np.printoptions(precision=3, edgeitems=2, linewidth=100000):\n",
    "    # active_computed_data['pf2D'].ratemap\n",
    "    print(active_computed_data['pf2D'])\n",
    "    # print(active_computed_data['pf2D'].ratemap)\n",
    "    \n",
    "    \n",
    "\n",
    "\n",
    "np.set_string_function(None) # restore default"
   ]
  },
  {
   "cell_type": "code",
   "execution_count": null,
   "id": "26cd14b2-919d-49e1-a18b-c068675af421",
   "metadata": {
    "pycharm": {
     "name": "#%%\n"
    }
   },
   "outputs": [],
   "source": [
    "len(active_computed_data['pf2D'].ratemap_spiketrains)\n",
    "\n",
    "#.tuning_curves"
   ]
  },
  {
   "cell_type": "code",
   "execution_count": null,
   "id": "b37445b3-c614-4b68-b6ab-ee7a26c29af4",
   "metadata": {},
   "outputs": [],
   "source": [
    "## Stock Decoder:\n",
    "from neuropy.analyses.decoders import Decode1d\n",
    "\n",
    "def stock_1d_decoder(sess, pf, curr_result_label):\n",
    "    maze1 = sess.paradigm[curr_result_label]\n",
    "    # rpls = sess.ripple.time_slice(maze1[0], maze1[1])\n",
    "    rpls = None\n",
    "    pf_neurons = sess.neurons.get_by_id(pf.ratemap.neuron_ids)\n",
    "    decode = Decode1d(neurons=pf_neurons, ratemap = pf.ratemap, epochs=rpls, bin_size=0.02)\n",
    "    return decode\n",
    "\n",
    "def validate_stock_1d_decoder(sess, decode):\n",
    "    # Plot to validate decoder:\n",
    "    np.shape(decode.decoded_position) # (85845,)\n",
    "    plt.plot(decode.decoded_position)\n",
    "    ax = plt.gca()\n",
    "    # ax.xlim() # (-4292.2, 90136.2)\n",
    "    ax.set_xlim(10000, 12000)\n",
    "\n",
    "np.shape(decode.posterior) # (48, 85845)"
   ]
  },
  {
   "cell_type": "markdown",
   "id": "c545afc1-63d6-4f45-a186-5acae5b2dab3",
   "metadata": {},
   "source": [
    "<!-- % $$\\int_{a}^b f(x)dx$$ -->\n",
    "<!-- Euler's identity: $ e^{i \\pi} + 1 = 0 $ -->\n",
    "\n",
    "## One-step Bayesian Decoder:\n",
    "$$P(\\overrightarrow{x}_{t}|\\overrightarrow{n}_{t})$$\n",
    "\n",
    "$$P(\\overrightarrow{n}|\\overrightarrow{x})$$ : probability for the numbers of spikes $\\overrightarrow{n}$ to occur given we know the animal is at location $\\overrightarrow{x}$\n",
    "\n",
    "## Two-step Bayesian Decoder:\n",
    "$$P(\\overrightarrow{x}_{t}|\\overrightarrow{n}_{t}, \\overrightarrow{x}_{t-1}) = k P(\\overrightarrow{x}_{t}|\\overrightarrow{n}_{t}) P(\\overrightarrow{x}_{t-1}|\\overrightarrow{x}_{t})$$"
   ]
  },
  {
   "cell_type": "code",
   "execution_count": null,
   "id": "7a0b8e04-3f5d-49e9-af1b-786326567330",
   "metadata": {},
   "outputs": [],
   "source": [
    "\n",
    "# active_two_step_decoder['most_likely_positions'].shape # (2, 1717)\n",
    "\n",
    "active_two_step_decoder['most_likely_position_indicies'].shape # (2, 1717)\n",
    "np.max(active_two_step_decoder['most_likely_position_indicies'], axis=1) # array([0, 1])\n",
    "active_two_step_decoder['most_likely_position_indicies']\n",
    "# active_two_step_decoder['p_x_given_n_and_x_prev'].shape # (59, 21, 1717)\n",
    "\n",
    "# np.nanmax(active_two_step_decoder['p_x_given_n_and_x_prev'], axis=(1, 2)) # (59,)\n",
    "# np.nanmax(active_two_step_decoder['p_x_given_n_and_x_prev'], axis=-1).shape # (59, 21)\n",
    "\n",
    "# np.nanmax(active_two_step_decoder['p_x_given_n_and_x_prev'], axis=-1)\n",
    "# np.max(active_two_step_decoder['most_likely_positions'], axis=1) # array([ 36.30101033, 128.49991842])\n",
    "\n",
    "\n",
    "# np.max(active_one_step_decoder.most_likely_positions, axis=0) # array([244.02731273, 148.3231301 ])"
   ]
  },
  {
   "cell_type": "markdown",
   "id": "93be34e2-9062-4e08-bedb-0d7ec4ceca9c",
   "metadata": {},
   "source": [
    "## PyQtPlot Exploration"
   ]
  },
  {
   "cell_type": "code",
   "execution_count": null,
   "id": "08d4e875-52e9-4bf4-b742-db1bfaab77d7",
   "metadata": {},
   "outputs": [],
   "source": [
    "from pyphoplacecellanalysis.Pho2D.PyQtPlots.plot_placefields import pyqtplot_plot_image_array, pyqtplot_plot_image\n",
    "\n",
    "# test single image plot:\n",
    "curr_im = np.squeeze(active_one_step_decoder.ratemap.normalized_tuning_curves[0,:,:]) # (43, 63, 63)\n",
    "app, win, imv = pyqtplot_plot_image(active_one_step_decoder.xbin, active_one_step_decoder.ybin, curr_im)\n",
    "win.show()"
   ]
  },
  {
   "cell_type": "markdown",
   "id": "27b53720-b44c-4a75-9a5c-6bbd73723eb1",
   "metadata": {},
   "source": [
    "### Custom DataTree Widget that displays a nested hierarchy of data:\n"
   ]
  },
  {
   "cell_type": "code",
   "execution_count": null,
   "id": "0d1ca503-d09b-48b1-957e-b5317a2cc40a",
   "metadata": {},
   "outputs": [],
   "source": [
    "# d = {\n",
    "#     'active_sess_config':curr_active_pipeline.active_sess_config.__dict__,\n",
    "#     'active_configs':curr_active_pipeline.active_configs,\n",
    "#     'active_session_computation_configs':active_session_computation_configs[0].__dict__\n",
    "# }\n",
    "d = {\n",
    "    \"computed_data\": curr_active_pipeline.computation_results['maze1'].computed_data,\n",
    "    # \"computation_results['maze1']'\": curr_active_pipeline.computation_results['maze1'],\n",
    "}\n",
    "# d = {\n",
    "#     'active_session_computation_configs':active_session_computation_configs,\n",
    "#     'active_two_step_decoder': active_two_step_decoder,\n",
    "#     'active_extended_stats': active_extended_stats\n",
    "# }\n",
    "\n",
    "from pyphoplacecellanalysis.GUI.PyQtPlot.pyqtplot_DataTreeWidget import plot_dataTreeWidget\n",
    "tree, app = plot_dataTreeWidget(data=d, title='PhoOutputDataTreeApp')\n",
    "tree.show()"
   ]
  },
  {
   "cell_type": "code",
   "execution_count": null,
   "id": "8445c7c7-0be5-4d7a-94eb-6a0b65d09c6b",
   "metadata": {},
   "outputs": [],
   "source": [
    "# tree.show()\n",
    "tree = None\n",
    "app = None"
   ]
  },
  {
   "cell_type": "code",
   "execution_count": null,
   "id": "b58d03c2",
   "metadata": {
    "pycharm": {
     "name": "#%%\n"
    }
   },
   "outputs": [],
   "source": [
    "tree.resize(1920, 1200) # pyqtgraph.widgets.DataTreeWidget.DataTreeWidget\n",
    "tree.resizeColumnToContents(2)\n",
    "# setFormat(format, column=None)\n",
    "# tree.resizeColumnToContents(1)\n",
    "# tree.expandToDepth\n",
    "print(tree.dumpObjectInfo())\n",
    "# tree.expandAll()\n",
    "# tree.nodes # a dict\n",
    "\n",
    "# tree.hideColumn(2) # hides the value column\n",
    "# print(tree.children()[0].dumpObjectInfo())\n",
    "# # tree.children()[1] # <PyQt5.QtWidgets.QStyledItemDelegate at 0x197b467fca0>\n",
    "# # tree.children()[2]\n",
    "# # tree.children()[3].dumpObjectTree() # QAbstractItemModel\n",
    "# print(tree.children()[3].dumpObjectInfo())\n",
    "# # listAllItems()\n",
    "# # tree.itemFromIndex(0)\n",
    "# # tree.findChild()\n",
    "# # listAllItems()\n",
    "# tree.collapseAll()"
   ]
  },
  {
   "cell_type": "code",
   "execution_count": null,
   "id": "61328be8",
   "metadata": {},
   "outputs": [],
   "source": [
    "# InteractivePlaceCellConfig\n",
    "from pprint import pprint\n",
    "pprint(curr_active_pipeline.active_configs['maze1'].__dict__)\n"
   ]
  },
  {
   "cell_type": "code",
   "execution_count": null,
   "id": "6943e136",
   "metadata": {
    "pycharm": {
     "name": "#%%\n"
    }
   },
   "outputs": [],
   "source": [
    "from pyphoplacecellanalysis.GUI.PyQtPlot.Params.pyqtplot_ParamTreeWidget import plot_paramTreeWidget\n",
    "param_tree, param_tree_app = plot_paramTreeWidget(title='PhoMainParamTreeApp')"
   ]
  },
  {
   "cell_type": "code",
   "execution_count": null,
   "id": "827ddf63",
   "metadata": {
    "pycharm": {
     "name": "#%%\n"
    }
   },
   "outputs": [],
   "source": [
    "from pyphoplacecellanalysis.GUI.PyQtPlot.Flowchart.pyqtplot_Flowchart import plot_flowchartWidget\n",
    "pipeline_flowchart_window, pipeline_flowchart_app = plot_flowchartWidget(title='PhoMainPipelineFlowchartApp')"
   ]
  },
  {
   "cell_type": "markdown",
   "id": "d94ac6af-9c53-4d2d-9b3e-32a939acb346",
   "metadata": {
    "jp-MarkdownHeadingCollapsed": true,
    "tags": []
   },
   "source": [
    "## Placefield Overlap Detection:"
   ]
  },
  {
   "cell_type": "code",
   "execution_count": null,
   "id": "bd695e68-fdb2-4994-aaed-98b38327698a",
   "metadata": {},
   "outputs": [],
   "source": [
    "# Test Placefield Overlap Detection:\n",
    "def compute_placefield_overlap(pf):\n",
    "    return np.squeeze(np.prod(pf, axis=0))\n",
    "\n",
    "\n",
    "active_pf_overlap_results = curr_active_pipeline.computation_results[active_config_name].computed_data['placefield_overlap']\n",
    "all_pairwise_neuron_IDs_combinations = active_pf_overlap_results['all_pairwise_neuron_IDs_combinations']\n",
    "total_pairwise_overlaps = active_pf_overlap_results['total_pairwise_overlaps']\n",
    "all_pairwise_overlaps = active_pf_overlap_results['all_pairwise_overlaps']\n",
    "\n",
    "print_keys_if_possible('active_pf_overlap_results', active_pf_overlap_results)"
   ]
  },
  {
   "cell_type": "code",
   "execution_count": null,
   "id": "503eefc7-973b-47ef-b39d-3e200f4753bf",
   "metadata": {},
   "outputs": [],
   "source": [
    "# active_placefield_overlap\n",
    "# total_pairwise_overlaps\n",
    "# all_pairwise_overlaps\n",
    "\n",
    "\n",
    "# top_pairwise_overlaps = all_pairwise_overlaps[0:9,:,:]\n",
    "\n",
    "top_pairwise_overlaps = np.squeeze(all_pairwise_overlaps[2,:,:])\n",
    "\n",
    "from pyphoplacecellanalysis.GUI.PyQtPlot.pyqtplot_Matrix import MatrixRenderingWindow\n",
    "print(f'np.shape(top_pairwise_overlaps): {np.shape(top_pairwise_overlaps)}')\n",
    "pg.mkQApp(\"Correlation matrix display\")\n",
    "main_window = MatrixRenderingWindow(matrix=top_pairwise_overlaps, columns=[f'{i}' for i in np.arange(np.shape(top_pairwise_overlaps)[-1])])\n",
    "\n",
    "# compute_placefield_overlap(active_one_step_decoder.pf.ratemap.normalized_tuning_curves)"
   ]
  },
  {
   "cell_type": "markdown",
   "id": "956ba612-a388-4927-bffa-d2914ad63d3d",
   "metadata": {
    "tags": []
   },
   "source": [
    "# Pho Scratch Workspace"
   ]
  },
  {
   "cell_type": "markdown",
   "id": "906620ba-f022-4f7b-9ff4-10ebad786ca6",
   "metadata": {
    "jp-MarkdownHeadingCollapsed": true,
    "tags": []
   },
   "source": [
    "## Working firing rates fresh from spikes_df"
   ]
  },
  {
   "cell_type": "code",
   "execution_count": null,
   "id": "4aca2fa8-26b6-4ae3-900a-8c28ca8c6274",
   "metadata": {},
   "outputs": [],
   "source": [
    "print(f'time_bin_size_seconds: {time_bin_size_seconds}')\n",
    "\n",
    "active_filter_name = 'maze1'\n",
    "active_spikes_df = curr_active_pipeline.filtered_sessions[active_filter_name].spikes_df.copy()\n",
    "print(f'active_filter_name: {active_filter_name}')\n",
    "unit_specific_binned_spike_rate, max_spike_rates, time_window_edges, time_window_edges_binning_info = simple_time_binned_firing_rates(active_spikes_df)\n",
    "print(f'\\tmax_spike_rates: {max_spike_rates.to_numpy()}')"
   ]
  },
  {
   "cell_type": "code",
   "execution_count": null,
   "id": "a612ad94-d833-4fa4-8b16-e8d5e2d61619",
   "metadata": {},
   "outputs": [],
   "source": [
    "active_filter_name = 'maze2'\n",
    "active_spikes_df = curr_active_pipeline.filtered_sessions[active_filter_name].spikes_df.copy()\n",
    "print(f'active_filter_name: {active_filter_name}')\n",
    "unit_specific_binned_spike_rate, max_spike_rates, time_window_edges, time_window_edges_binning_info = simple_time_binned_firing_rates(active_spikes_df)\n",
    "print(f'\\tmax_spike_rates: {max_spike_rates.to_numpy()}')"
   ]
  },
  {
   "cell_type": "code",
   "execution_count": null,
   "id": "f9070046-1a19-424a-8b9d-05f9e3e44066",
   "metadata": {},
   "outputs": [],
   "source": [
    "active_filter_name = 'maze'\n",
    "active_spikes_df = curr_active_pipeline.filtered_sessions[active_filter_name].spikes_df.copy()\n",
    "print(f'active_filter_name: {active_filter_name}')\n",
    "unit_specific_binned_spike_rate, max_spike_rates, time_window_edges, time_window_edges_binning_info = simple_time_binned_firing_rates(active_spikes_df)\n",
    "print(f'\\tmax_spike_rates: {max_spike_rates.to_numpy()}')"
   ]
  },
  {
   "cell_type": "markdown",
   "id": "b3beb83c-bbc8-41e7-8ce3-5b36ae7da5dc",
   "metadata": {},
   "source": [
    "KDiba Data:\n",
    "time_bin_size_seconds: 0.5\n",
    "active_filter_name: maze1\n",
    "\tmax_spike_rates: [28 30 32 24 34 16 36 26 22 36 32 30 88 60 28 26 40 40 26 44 36 26 38 14 22 24 10 22 40 24 24 26 18 48 40 14 38 20 48 44]\n",
    "active_filter_name: maze2\n",
    "\tmax_spike_rates: [6 10 8 18 30 6 18 14 12 14 24 4 10 48 24 12 6 16 16 16 32 26 14 10 14 10 6 12 30 12 4 16 22 18 20 4 10 6 36 24]\n",
    "active_filter_name: maze\n",
    "\tmax_spike_rates: [28 30 32 24 34 16 36 26 22 36 32 30 88 60 28 26 40 40 26 44 36 32 38 14 22 24 10 22 40 24 24 26 20 48 40 14 38 20 48 44]\n"
   ]
  },
  {
   "cell_type": "code",
   "execution_count": null,
   "id": "4255db2b-2371-456d-81d2-d0523f4baf2b",
   "metadata": {},
   "outputs": [],
   "source": [
    "unit_specific_binned_spike_counts"
   ]
  },
  {
   "cell_type": "markdown",
   "id": "3ade57d9-0761-4c29-a9f3-159de108134d",
   "metadata": {},
   "source": [
    "time_bin_size_seconds: 0.25\n",
    "\tmax_spike_rates: [36 36 36 36 60 20 40 48 40 48 40 44 100 92 36 32 80 52 32 48 52 36 68 24 44 36 16 32 44 36 48 36 36 52 48 28 40 24 72 52]\n",
    "\n",
    "time_bin_size_seconds: 0.5\n",
    "\tmax_spike_rates: [28 30 32 24 34 16 36 26 22 36 32 30 88 60 28 26 40 40 26 44 36 26 38 14 22 24 10 22 40 24 24 26 18 48 40 14 38 20 48 44]\n",
    "    \n",
    "time_bin_size_seconds: 1.0\n",
    "\tmax_spike_rates: [16 21 18 17 22 12 22 18 16 25 25 25 65 48 19 20 30 32 20 30 24 21 26 8 11 17 5 14 30 14 17 25 11 30 26 11 27 10 37 38]\n",
    "\n",
    "time_bin_size_seconds: 10.0\n",
    "\tmax_spike_rates: # array([3.6, 5.6, 2.5, 6.2, 7.2, 2.3, 7.4, 4.8, 3.3, 5.2, 15.3, 4.3, 21.8, 12.4, 7.5, 5.4, 4.8, 4.3, 4.9, 6, 9.5, 7.7, 2.6, 2.3, 4.1, 2.8, 1.3, 5.1, 11.5, 5.1, 3.2, 9.4, 3.7, 8.8, 9.7, 2.9, 5.2, 1.7, 12, 5.9])\n",
    "    # Filtered pf only spikes: array([2.6, 3.9, 2, 3.6, 3.8, 1.3, 3.7, 1.8, 2, 2.6, 2.3, 1.4, 5.7, 6.1, 3.1, 2.7, 4.9, 3.3, 3.9, 3.3, 5.9, 2.7, 2.6, 1.4, 1.4, 2.9, 1, 2.3, 5.4, 2.4, 0.9, 3.6, 1.4, 4.5, 3.4, 0.8, 2.8, 1.1, 2.6, 4.9])"
   ]
  },
  {
   "cell_type": "code",
   "execution_count": null,
   "id": "9da6709d-07a5-441f-8380-fae8e7de2b3e",
   "metadata": {},
   "outputs": [],
   "source": [
    "# active_computation_results[filter_name]\n",
    "active_firing_rate_trends = active_computed_data['firing_rate_trends']\n",
    "active_firing_rate_trends.keys() # ['active_rolling_window_times', 'mean_firing_rates', 'desired_window_length_seconds', 'desired_window_length_bins', 'active_firing_rates_df', 'moving_mean_firing_rates_df']"
   ]
  },
  {
   "cell_type": "code",
   "execution_count": null,
   "id": "9c1bbd85-7b2b-482d-a18d-1f0f707b2bfe",
   "metadata": {},
   "outputs": [],
   "source": [
    "moving_mean_firing_rates_df = active_firing_rate_trends['moving_mean_firing_rates_df']\n",
    "moving_mean_firing_rates_df"
   ]
  },
  {
   "cell_type": "markdown",
   "id": "e0ccae49-e366-4dae-bf34-f3e4a1a0968b",
   "metadata": {
    "jp-MarkdownHeadingCollapsed": true,
    "tags": []
   },
   "source": [
    "## New 2022-07-31 Firing Rate Across-Session Printing with explicit time binning"
   ]
  },
  {
   "cell_type": "code",
   "execution_count": null,
   "id": "2f3ca698-606e-450e-9414-f1462960f12a",
   "metadata": {},
   "outputs": [],
   "source": [
    "from pyphocorehelpers.general_helpers import CodeConversion\n",
    "from pyphocorehelpers.print_helpers import document_active_variables, print_keys_if_possible\n",
    "# CodeConversion"
   ]
  },
  {
   "cell_type": "code",
   "execution_count": null,
   "id": "9872383b-c592-40d0-87da-f96b6b3dcfb0",
   "metadata": {},
   "outputs": [],
   "source": [
    "# print_keys_if_possible('active_firing_rate_trends', active_firing_rate_trends, additional_excluded_item_classes=['pandas.core.series.Series'])\n",
    "print_keys_if_possible('active_firing_rate_trends', active_firing_rate_trends)"
   ]
  },
  {
   "cell_type": "code",
   "execution_count": null,
   "id": "263000e9-c219-4466-b340-1a80da6f499f",
   "metadata": {},
   "outputs": [],
   "source": [
    "### Reformat long class strings to suscint class names:\n",
    "import re ## required for strip_type_str_to_classname(...)\n",
    "\n",
    "def _format_curr_value(depth_string, curr_key, type_string, type_name):\n",
    "    return f\"{depth_string}['{curr_key}']: {type_name}\"\n",
    "        \n",
    "print_keys_if_possible('active_firing_rate_trends', active_firing_rate_trends, custom_item_formatter=_format_curr_value)"
   ]
  },
  {
   "cell_type": "code",
   "execution_count": null,
   "id": "27be304d-782a-4f23-85e7-82197b462574",
   "metadata": {},
   "outputs": [],
   "source": [
    "document_active_variables(active_firing_rate_trends, enable_print=True)"
   ]
  },
  {
   "cell_type": "code",
   "execution_count": null,
   "id": "98a36da3-730a-43d0-808b-8b4ac2c5d4bf",
   "metadata": {},
   "outputs": [],
   "source": [
    "active_firing_rate_trends = curr_active_pipeline.computation_results[active_config_name].computed_data.get('firing_rate_trends', None)"
   ]
  },
  {
   "cell_type": "code",
   "execution_count": null,
   "id": "35466cc7-79f3-4abb-9524-50406dabaa5b",
   "metadata": {},
   "outputs": [],
   "source": [
    "active_firing_rate_trends.all_session_spikes."
   ]
  },
  {
   "cell_type": "code",
   "execution_count": null,
   "id": "44fc3383-f07e-4d56-b4e3-43e1a388bb68",
   "metadata": {},
   "outputs": [],
   "source": [
    "def _print_active_firing_rate_trends_result_overview(active_firing_rate_trends):\n",
    "    def _print_single_result(a_trends_set):\n",
    "        # a_trends_set['time_window_edges']\n",
    "        # a_trends_set['time_window_edges_binning_info']\n",
    "        binned_rates = a_trends_set['time_binned_unit_specific_binned_spike_rate']\n",
    "        mins = a_trends_set['min_spike_rates'].to_numpy()\n",
    "        means = binned_rates.mean().to_numpy()\n",
    "        medians = a_trends_set['median_spike_rates'].to_numpy()\n",
    "        maxs = a_trends_set['max_spike_rates'].to_numpy()\n",
    "        # print(f\"\\t\\tmins: {mins}\") # all zero, which is reasonable I suppose\n",
    "        print(f\"\\t\\tmeans: {means}\") # non-zero, which is good.\n",
    "        # print(f\"\\t\\tmedians: {medians}\") # also all zero, which doesn't seem super reasonable\n",
    "        print(f\"\\t\\tmaxs: {maxs}\")\n",
    "    print(f\"time_bin_size_seconds: {active_firing_rate_trends['time_bin_size_seconds']}\")\n",
    "    print(f\"\\tall_session_spikes: \")\n",
    "    _print_single_result(active_firing_rate_trends['all_session_spikes'])\n",
    "    print(f\"\\tpf_included_spikes_only: \")\n",
    "    _print_single_result(active_firing_rate_trends['pf_included_spikes_only'])\n",
    "    \n",
    "\n",
    "_print_active_firing_rate_trends_result_overview(active_firing_rate_trends)"
   ]
  },
  {
   "cell_type": "code",
   "execution_count": null,
   "id": "46a16a5b-5c10-464d-9976-f57d2e11b783",
   "metadata": {},
   "outputs": [],
   "source": [
    "computation_result_names = list(curr_active_pipeline.computation_results.keys()) # ['maze1', 'maze2']\n",
    "for a_result_name, a_computation_result in curr_active_pipeline.computation_results.items():\n",
    "    print(f'>> {a_result_name}') ## e.g. 'maze1'\n",
    "    active_firing_rate_trends = a_computation_result.computed_data.get('firing_rate_trends', None)\n",
    "    _print_active_firing_rate_trends_result_overview(active_firing_rate_trends)\n",
    "\n",
    "\n",
    "# def across_epoch_computation_function(computation_results):\n",
    "#     \"\"\" an example of a function that operates across all computation_results. Computed after all computations are complete. \"\"\"\n"
   ]
  },
  {
   "cell_type": "markdown",
   "id": "6bdb4bac-056c-418e-a2bb-a4c2f2f7b85a",
   "metadata": {
    "jp-MarkdownHeadingCollapsed": true,
    "tags": []
   },
   "source": [
    "## Compute the firing rates in the windows corresponding to the sampling rate of the position bins, or better yet for the entire duration spent in a single position bin (splitting on bin-index changes"
   ]
  },
  {
   "cell_type": "code",
   "execution_count": null,
   "id": "92b1e85c-ad46-498d-b868-7697330b3e9a",
   "metadata": {},
   "outputs": [],
   "source": [
    "from neuropy.utils.mixins.binning_helpers import build_df_discretized_binned_position_columns\n",
    "active_pf_2D.filtered_spikes_df, (xbin, ybin), bin_info = build_df_discretized_binned_position_columns(active_pf_2D.filtered_spikes_df.copy(), bin_values=(active_pf_2D.xbin, active_pf_2D.ybin), active_computation_config=active_computation_config, force_recompute=False, debug_print=False)\n",
    "bin_info['mode'] = active_pf_2D.bin_info['mode'] # get the original mode used to compute the bins\n",
    "active_pf_2D.bin_info = bin_info # replace the bin_info with the updated version\n",
    "# active_pf_2D.filtered_spikes_df"
   ]
  },
  {
   "cell_type": "code",
   "execution_count": null,
   "id": "f624acea-07ed-4f39-9610-c2608240fe36",
   "metadata": {},
   "outputs": [],
   "source": [
    "# sess.spikes_df # no 'binned_x' column\n",
    "active_pf_2D.filtered_spikes_df"
   ]
  },
  {
   "cell_type": "code",
   "execution_count": null,
   "id": "1c0df89f-1c6b-4343-a6fd-db40a491108e",
   "metadata": {},
   "outputs": [],
   "source": [
    "#### Need to compute the best-known transition times between position bins for all spikes as not to truncate the starts/ends of the bins (which would happen if doing a single cell at a time)\n",
    "# active_df.binned_x\n",
    "active_df['_binned_x_transitions'] = active_df['binned_x'].diff()\n",
    "active_df_filtered_binned_x_transitions_only = active_df[active_df['_binned_x_transitions'] != 0] # get only the transition points (for binned_x)\n",
    "active_df_filtered_binned_x_transitions_only\n",
    "\n",
    "active_df_filtered_binned_x_transitions_only = active_df_filtered_binned_x_transitions_only[['t_rel_seconds', 'binned_x']]\n",
    "# Get durations spent in the bin:\n",
    "active_df_filtered_binned_x_transitions_only['bin_occupied_duration'] = active_df_filtered_binned_x_transitions_only['t_rel_seconds'].diff() # How long the animal spent in this bin before transitioning (along its axis)\n",
    "active_df_filtered_binned_x_transitions_only\n"
   ]
  },
  {
   "cell_type": "code",
   "execution_count": null,
   "id": "79e719f7-199a-4f0b-abb1-9426771afb3b",
   "metadata": {},
   "outputs": [],
   "source": [
    "transition_start_spike_index = active_df_filtered_binned_x_transitions_only.index\n",
    "transition_end_spike_index = transition_start_spike_index - 1 # the end of each occurs at the time of the previous one"
   ]
  },
  {
   "cell_type": "code",
   "execution_count": null,
   "id": "93538d28-dd33-4f70-964d-d0b1e2eed0e6",
   "metadata": {},
   "outputs": [],
   "source": [
    "#### In general, for each neuron, get the spikes that occured during each bin_occupation_event 'i' (from t_rel_seconds[i] to (t_rel_seconds[i] + bin_occupied_duration[i])) and divide by the bin_occupied_duration[i]\n",
    "# This will give the bin_occupation_event's spike_rate for each neuron which we can filter on (to find the neuron's that fire > 1Hz for this bin_occupation_event)\n",
    "\n",
    "\"\"\"\n",
    "Along a given axis (x or y), an animal occupies a single bin at each time given by (binned_x or binned_y). \n",
    "When the animal changes bins and a transition occurs along a given axis, it is said to terminate the occupation of the previous bin and start the occupation of the new bin.\n",
    "\n",
    "These (start_t, bin_occupied_duration, binned_x) tuples denote a unique event, termed a `bin_occupation_event`.\n",
    "\n",
    "Within a given bin_occupation_event each neuron has an instantaneous bin firing rate given by: (number of spikes it fired during the event) / bin_occupied_duration\n",
    "\n",
    "\"\"\""
   ]
  },
  {
   "cell_type": "markdown",
   "id": "188d6f5f-d947-4f08-8822-49a9c9082e12",
   "metadata": {
    "jp-MarkdownHeadingCollapsed": true,
    "tags": []
   },
   "source": [
    "## Change to simplier non-time-dependent version:"
   ]
  },
  {
   "cell_type": "code",
   "execution_count": null,
   "id": "186ad30e-0bd1-4ea2-a466-1733afb6467a",
   "metadata": {},
   "outputs": [],
   "source": [
    "# Plot from the active_simpler_pf_densities_analysis\n",
    "out_app, out_win, out_imageView = pyqtplot_plot_image(active_pf_2D_dt.xbin_labels, active_pf_2D_dt.ybin_labels, active_simpler_pf_densities_analysis.n_neurons_meeting_firing_critiera_by_position_bins_2D)"
   ]
  },
  {
   "cell_type": "code",
   "execution_count": null,
   "id": "dc13c704-bb9f-4e78-8df5-5c036bc90282",
   "metadata": {},
   "outputs": [],
   "source": [
    "# out = BinnedImageRenderingWindow(active_pf_2D_dt.curr_firing_maps_matrix, active_pf_2D_dt.xbin_labels, active_pf_2D_dt.ybin_labels)\n",
    "out = BasicBinnedImageRenderingWindow(active_pf_2D_dt.curr_firing_maps_matrix, active_pf_2D_dt.xbin_labels, active_pf_2D_dt.ybin_labels)\n",
    "# pyqtplot_plot_image(active_pf_2D_dt.xbin_labels, active_pf_2D_dt.ybin_labels, active_pf_2D_dt.curr_firing_maps_matrix)"
   ]
  },
  {
   "cell_type": "code",
   "execution_count": null,
   "id": "4640c635-505b-4260-873e-2a74750949c4",
   "metadata": {},
   "outputs": [],
   "source": [
    "# Compute the updated counts:\n",
    "current_spike_per_unit_per_bin_counts = active_df.value_counts(subset=['fragile_linear_neuron_IDX', 'binned_x', 'binned_y'], normalize=False, sort=False, ascending=True, dropna=True) # dropna=True\n",
    "current_spike_per_unit_per_bin_counts # pandas.core.series.Series"
   ]
  },
  {
   "cell_type": "code",
   "execution_count": null,
   "id": "1827525d-84aa-49ca-b6f5-833a8b60b0db",
   "metadata": {},
   "outputs": [],
   "source": [
    "type(current_spike_per_unit_per_bin_counts) # pandas.core.series.Series\n",
    "# current_spike_per_unit_per_bin_counts[0]\n",
    "\n",
    "pd.DataFrame(current_spike_per_unit_per_bin_counts)"
   ]
  },
  {
   "cell_type": "code",
   "execution_count": null,
   "id": "3a9c5ac1-7d8d-4b22-b23b-13834535e62c",
   "metadata": {},
   "outputs": [],
   "source": [
    "debug_print = True\n",
    "for (fragile_linear_neuron_IDX, xbin_label, ybin_label), count in current_spike_per_unit_per_bin_counts.iteritems():\n",
    "    if debug_print:\n",
    "        print(f'fragile_linear_neuron_IDX: {fragile_linear_neuron_IDX}, xbin_label: {xbin_label}, ybin_label: {ybin_label}, count: {count}')\n",
    "    try:\n",
    "        last_firing_maps_matrix[fragile_linear_neuron_IDX, xbin_label-1, ybin_label-1] += count\n",
    "    except IndexError as e:\n",
    "        print(f'e: {e}\\n active_current_spike_df: {np.shape(active_current_spike_df)}, current_spike_per_unit_per_bin_counts: {np.shape(current_spike_per_unit_per_bin_counts)}\\n last_firing_maps_matrix: {np.shape(last_firing_maps_matrix)}\\n count: {count}')\n",
    "        print(f' last_firing_maps_matrix[fragile_linear_neuron_IDX: {fragile_linear_neuron_IDX}, (xbin_label-1): {xbin_label-1}, (ybin_label-1): {ybin_label-1}] += count: {count}')\n",
    "        raise e\n",
    "        "
   ]
  },
  {
   "cell_type": "code",
   "execution_count": null,
   "id": "887c0848-4672-409d-af60-d110e96b92a4",
   "metadata": {},
   "outputs": [],
   "source": [
    "## Now want it arranged by-bin instead of by-neuron:\n",
    "\n",
    "\n",
    "## LATER: Also need to collapse over all binned_y for each binned_x (marginalize) - I think"
   ]
  },
  {
   "cell_type": "markdown",
   "id": "d6f4a4e8-4ffc-4f8b-85f9-e0e98bc309e2",
   "metadata": {
    "jp-MarkdownHeadingCollapsed": true,
    "tags": []
   },
   "source": [
    "## Get 2D Heatmaps of Velocity and Occupancy working:\n",
    "NOTE: This works great, and is the best figure for overall Eloy pf_Density/velocity analyeses."
   ]
  },
  {
   "cell_type": "code",
   "execution_count": null,
   "id": "bb049fc0-6fd7-40de-80b3-b74576db9cda",
   "metadata": {},
   "outputs": [],
   "source": [
    "from pyphoplacecellanalysis.GUI.PyQtPlot.BinnedImageRenderingWindow import BasicBinnedImageRenderingWindow, add_bin_ticks, build_binned_imageItem\n",
    "\n",
    "def display_all_eloy_pf_density_measures_results(active_pf_2D, active_eloy_analysis, active_simpler_pf_densities_analysis, active_peak_prominence_2d_results):\n",
    "    # active_xbins = active_pf_2D.xbin\n",
    "    # active_ybins = active_pf_2D.ybin\n",
    "    \n",
    "    # # *bin_indicies:\n",
    "    # xbin_indicies = active_pf_2D.xbin_labels -1\n",
    "    # ybin_indicies = active_pf_2D.ybin_labels -1\n",
    "    # active_xbins = xbin_indicies\n",
    "    # active_ybins = ybin_indicies\n",
    "    \n",
    "    # *bin_centers: these seem to work\n",
    "    active_xbins = active_pf_2D.xbin_centers\n",
    "    active_ybins = active_pf_2D.ybin_centers\n",
    "    \n",
    "    out = BasicBinnedImageRenderingWindow(active_eloy_analysis.avg_2D_speed_per_pos, active_xbins, active_ybins, name='avg_velocity', title=\"Avg Velocity per Pos (X, Y)\", variable_label='Avg Velocity')\n",
    "    out.add_data(row=2, col=0, matrix=active_eloy_analysis.pf_overlapDensity_2D, xbins=active_xbins, ybins=active_ybins, name='pf_overlapDensity', title='pf overlapDensity metric', variable_label='pf overlapDensity')\n",
    "    out.add_data(row=3, col=0, matrix=active_pf_2D.ratemap.occupancy, xbins=active_xbins, ybins=active_ybins, name='occupancy_seconds', title='Seconds Occupancy', variable_label='seconds')\n",
    "    out.add_data(row=4, col=0, matrix=active_simpler_pf_densities_analysis.n_neurons_meeting_firing_critiera_by_position_bins_2D, xbins=active_xbins, ybins=active_ybins, name='n_neurons_meeting_firing_critiera_by_position_bins_2D', title='# neurons > 1Hz per Pos (X, Y)', variable_label='# neurons')\n",
    "    # out.add_data(row=5, col=0, matrix=active_peak_prominence_2d_results.peak_counts.raw, xbins=active_pf_2D.xbin_labels, ybins=active_pf_2D.ybin_labels, name='pf_peak_counts_map', title='# pf peaks per Pos (X, Y)', variable_label='# pf peaks')\n",
    "    # out.add_data(row=6, col=0, matrix=active_peak_prominence_2d_results.peak_counts.gaussian_blurred, xbins=active_pf_2D.xbin_labels, ybins=active_pf_2D.ybin_labels, name='pf_peak_counts_map_blurred gaussian', title='Gaussian blurred # pf peaks per Pos (X, Y)', variable_label='Gaussian blurred # pf peaks')\n",
    "    out.add_data(row=5, col=0, matrix=active_peak_prominence_2d_results.peak_counts.raw, xbins=active_xbins, ybins=active_ybins, name='pf_peak_counts_map', title='# pf peaks per Pos (X, Y)', variable_label='# pf peaks')\n",
    "    out.add_data(row=6, col=0, matrix=active_peak_prominence_2d_results.peak_counts.gaussian_blurred, xbins=active_xbins, ybins=active_ybins, name='pf_peak_counts_map_blurred gaussian', title='Gaussian blurred # pf peaks per Pos (X, Y)', variable_label='Gaussian blurred # pf peaks')\n",
    "\n",
    "    return out\n",
    "    \n",
    "out_all_eloy_pf_density_fig = display_all_eloy_pf_density_measures_results(active_pf_2D, active_eloy_analysis, active_simpler_pf_densities_analysis, active_peak_prominence_2d_results)"
   ]
  },
  {
   "cell_type": "code",
   "execution_count": null,
   "id": "81e89336-3cb6-48a1-819b-18018b528172",
   "metadata": {},
   "outputs": [],
   "source": [
    "out_all_eloy_pf_density_fig.close()"
   ]
  },
  {
   "cell_type": "markdown",
   "id": "24d12a65-a8d5-43ed-aab5-d6f143fbde58",
   "metadata": {
    "jp-MarkdownHeadingCollapsed": true,
    "tags": []
   },
   "source": [
    "## Test getting prominences with peak_prominence2d"
   ]
  },
  {
   "cell_type": "code",
   "execution_count": null,
   "id": "06220324-167f-4817-a520-d9204abdb5e5",
   "metadata": {
    "scrolled": true,
    "tags": []
   },
   "outputs": [],
   "source": [
    "curr_display_function_name = '_display_pf_peak_prominence2d_default_quadrant_plots'\n",
    "out_figs, out_axes, out_idxs = curr_active_pipeline.display(curr_display_function_name, active_config_name) "
   ]
  },
  {
   "cell_type": "code",
   "execution_count": null,
   "id": "d171d2cc-3554-400f-a18b-c37448f8f450",
   "metadata": {
    "scrolled": true,
    "tags": []
   },
   "outputs": [],
   "source": [
    "curr_display_function_name = 'plot_Prominence'\n",
    "built_pdf_metadata, curr_pdf_save_path = _build_pdf_pages_output_info(curr_display_function_name)\n",
    "with backend_pdf.PdfPages(curr_pdf_save_path, keep_empty=False, metadata=built_pdf_metadata) as pdf:\n",
    "    for an_idx, a_fig in zip(active_peak_prominence_2d_results.neuron_extended_ids, out_figs):\n",
    "        a_fig.suptitle(f'neuron: {an_idx.id}', fontsize=16)\n",
    "        pdf.savefig(a_fig)"
   ]
  },
  {
   "cell_type": "code",
   "execution_count": null,
   "id": "0c0931b4-c50e-4238-a934-35a1c71fa71f",
   "metadata": {
    "scrolled": true,
    "tags": []
   },
   "outputs": [],
   "source": [
    "curr_display_function_name = '_display_pf_peak_prominence2d_plots'\n",
    "figure, ax = curr_active_pipeline.display(curr_display_function_name, active_config_name, neuron_id=2) "
   ]
  },
  {
   "cell_type": "markdown",
   "id": "115ecb17-a0d2-44d1-9797-ef342c84e74c",
   "metadata": {
    "jp-MarkdownHeadingCollapsed": true,
    "tags": []
   },
   "source": [
    "# Quantitatively Analyzing the prominence computation results\n",
    "For a single neuron:\n",
    "Care about:\n",
    " - Pf Num of Peaks: expresses whether a cell responds selectively to a single location, is bi-modal, tri-modal, etc.\n",
    " - Peak Locations: (to determine the number of peaks per bin or region)\n",
    " - Peak Prominences/Relative heights\n",
    "   Pf Sizes: defined by our bounding boxes\n",
    "   Stability??\n",
    "\n",
    "QuantPeakResult"
   ]
  },
  {
   "cell_type": "code",
   "execution_count": null,
   "id": "10e0ca25-4ba8-4327-9d18-5b420648cb28",
   "metadata": {},
   "outputs": [],
   "source": [
    "list(active_peak_prominence_2d_results.keys())\n",
    "active_peak_prominence_2d_results.filtered_flat_peaks_df.columns # ['neuron_id', 'neuron_peak_firing_rate', 'summit_idx', 'summit_slice_idx', 'slice_level_multiplier', 'summit_slice_level', 'peak_relative_height', 'peak_prominence', 'peak_center_x', 'peak_center_y', 'summit_slice_x_width', 'summit_slice_y_width', 'summit_slice_center_x', 'summit_slice_center_y', 'peak_height', 'peak_center_binned_x', 'peak_center_binned_y', 'peak_center_avg_speed', 'peak_nearest_directional_boundary_bins', 'peak_nearest_directional_boundary_displacements', 'peak_nearest_directional_boundary_distances', 'nearest_directional_boundary_direction_idx', 'nearest_directional_boundary_direction_distance', 'nearest_x_boundary_distance', 'nearest_y_boundary_distance']"
   ]
  },
  {
   "cell_type": "markdown",
   "id": "c9607cb7-30e8-4d82-bfe2-c07693871572",
   "metadata": {
    "jp-MarkdownHeadingCollapsed": true,
    "tags": []
   },
   "source": [
    "### Test distance to boundary by computing the distance to the nearest never-occupied bin"
   ]
  },
  {
   "cell_type": "code",
   "execution_count": null,
   "id": "fa1c106e-4dee-4ba1-a29c-ce4324fe73f6",
   "metadata": {},
   "outputs": [],
   "source": [
    "# active_peak_prominence_2d_results.filtered_flat_peaks_df\n",
    "# active_eloy_analysis.avg_2D_speed_per_pos\n",
    "# active_peak_prominence_2d_results.filtered_flat_peaks_df\n",
    "subfiltered_peaks_df = active_peak_prominence_2d_results.filtered_flat_peaks_df[active_peak_prominence_2d_results.filtered_flat_peaks_df['summit_idx']==1].copy()\n",
    "subfiltered_peaks_df"
   ]
  },
  {
   "cell_type": "code",
   "execution_count": null,
   "id": "5b6d3bf5-f91f-492b-b05d-6fa339dbb869",
   "metadata": {},
   "outputs": [],
   "source": [
    "# # correlated with 'summit_slice_x_width', 'summit_slice_y_width'\n",
    "x_distances = subfiltered_peaks_df['nearest_x_boundary_distance'].values # find the distance to nearest wall vertically\n",
    "y_distances = subfiltered_peaks_df['nearest_y_boundary_distance'].values # find the distance to nearest wall horizontally\n",
    "x_widths = subfiltered_peaks_df['summit_slice_x_width'].values\n",
    "y_widths = subfiltered_peaks_df['summit_slice_y_width'].values\n",
    "# Convert the pf widths in cm to fractional number of bins\"\n",
    "x_width_num_bins = x_widths / float(active_pf_2D.bin_info['xstep'])\n",
    "y_width_num_bins = y_widths / float(active_pf_2D.bin_info['ystep'])\n",
    "\n",
    "peak_center_xy_points_pos_list = subfiltered_peaks_df[['peak_center_x', 'peak_center_y']].values\n",
    "slice_center_xy_points_pos_list = subfiltered_peaks_df[['summit_slice_center_x', 'summit_slice_center_y']].values\n",
    "slice_center_xy_points_pos_list.shape # (40, 2)\n",
    "\n",
    "peak_aclu = subfiltered_peaks_df.neuron_id.values"
   ]
  },
  {
   "cell_type": "code",
   "execution_count": null,
   "id": "66cba163-c350-496f-9bda-8cf9f42b520b",
   "metadata": {},
   "outputs": [],
   "source": [
    "## MICE ARE FRIGGIN' NUMBER 1!!\n",
    "\n",
    "\n",
    "# Validation Function: This function accepts several related parameters, and returns True if the data should be rendered on that subfigure, and False if it shouldn't. This allows passing a single datasource to be plotted on all subfigures without duplication, or a non-linear subset of figures, etc.\n",
    "def is_data_rendered_on_subplot(neuron_id, neuron_idx):\n",
    "    return True\n",
    "\n",
    "# peak_aclu\n",
    "\n",
    "\n"
   ]
  },
  {
   "cell_type": "code",
   "execution_count": null,
   "id": "a6adc4b9-b850-4253-98bc-6be9c24dbc71",
   "metadata": {},
   "outputs": [],
   "source": [
    "import matplotlib.pyplot as plt\n",
    "\n",
    "## Plots for analyzing the distance from ends of maze:\n",
    "fig, ax = plt.subplots(num=10, clear=True)\n",
    "im = ax.scatter(x_distances, x_width_num_bins)\n",
    "im2 = ax.scatter(x_distances, y_width_num_bins, c='r')\n",
    "lgd = ax.legend(['x_size', 'y_size'])\n",
    "ax.set_xlabel('distance from nearest x boundary [# bins]')\n",
    "ax.set_ylabel('placefield width [# bins]')\n",
    "fig.show()"
   ]
  },
  {
   "cell_type": "code",
   "execution_count": null,
   "id": "03ea421c-f6a3-4bd7-b81c-54dba18b7749",
   "metadata": {},
   "outputs": [],
   "source": [
    "## Plots for analyzing the distance from sides of track\n",
    "fig, ax = plt.subplots(num=11, clear=True)\n",
    "im = ax.scatter(y_distances, x_width_num_bins)\n",
    "im2 = ax.scatter(y_distances, y_width_num_bins, c='r')\n",
    "lgd = ax.legend(['x_size', 'y_size'])\n",
    "ax.set_xlabel('distance from nearest y boundary [# bins]')\n",
    "ax.set_ylabel('placefield width [# bins]')\n",
    "fig.show()"
   ]
  },
  {
   "cell_type": "markdown",
   "id": "759e7c3c-d7cd-44e6-bad9-84eb10d8c549",
   "metadata": {
    "jp-MarkdownHeadingCollapsed": true,
    "tags": []
   },
   "source": [
    "## Render a figure to display the computed distances and their relations to the widths:"
   ]
  },
  {
   "cell_type": "markdown",
   "id": "55f8fc02-1bdc-4c50-b538-c64c7205ed02",
   "metadata": {
    "tags": []
   },
   "source": [
    "### Trying to add annotations to the normal 2D MATPLOTLIB heatmaps with `annotate` command:"
   ]
  },
  {
   "cell_type": "code",
   "execution_count": null,
   "id": "963a6bf2-d6e9-4157-a00a-ce351251cf54",
   "metadata": {},
   "outputs": [],
   "source": [
    "## NEW DICT FORMAT:\n",
    "# 1 point for each neuron_id:\n",
    "peaks_overlay_points_data_dict = {aclu:dict(is_enabled=True, points_data=peak_center_xy_points_pos_list[aclu == peak_aclu,:], plot_opts={'markersize': 22, 'marker': '*', 'markeredgecolor': 'grey', 'linestyle': 'none', 'markerfacecolor': 'white', 'alpha': 0.85, 'label': 'peaks_overlay_points'},\n",
    "                                                                             scatter_opts={'s': 22, 'c': 'white', 'alpha': 0.85, 'marker': '*', 'label': 'peaks_overlay_sc'}, plots={}) for aclu in peak_aclu} # active_pf_2D.included_neuron_IDs\n",
    "slice_center_overlay_points_data_dict = {aclu:dict(is_enabled=True, points_data=slice_center_xy_points_pos_list[aclu == peak_aclu,:], plot_opts={'markersize': 20, 'marker': '^', 'markeredgecolor': 'grey', 'linestyle': 'none', 'markerfacecolor': 'white', 'alpha': 0.8, 'label': 'slice_center_overlay_points'},\n",
    "                                                                             scatter_opts={'s': 20, 'c': 'white', 'alpha': 0.8, 'marker': '^', 'label': 'slice_center_overlay_sc'}, plots={}) for aclu in peak_aclu} # active_pf_2D.included_neuron_IDs\n",
    "\n",
    "extended_overlay_points_datasource_dicts = {'peaks_overlay_points': peaks_overlay_points_data_dict, 'slice_center_overlay_points': slice_center_overlay_points_data_dict}\n",
    "\n",
    "# filter_name = 'maze1'\n",
    "figure_format_config['enable_saving_to_disk'] = False\n",
    "# curr_active_pipeline.display('_display_2d_placefield_result_plot_ratemaps_2D', filter_name, plot_variable=enumTuningMap2DPlotVariables.SPIKES_MAPS, fignum=plots_fig_nums_dict[filter_name][0], **figure_format_config) # works!\n",
    "curr_active_pipeline.display('_display_2d_placefield_result_plot_ratemaps_2D', filter_name, plot_variable=enumTuningMap2DPlotVariables.TUNING_MAPS, fignum=plots_fig_nums_dict[filter_name][1], **figure_format_config, extended_overlay_points_datasource_dicts=extended_overlay_points_datasource_dicts)"
   ]
  },
  {
   "cell_type": "code",
   "execution_count": null,
   "id": "947e8786-8dd7-4e67-ae4e-5ebc71af0e20",
   "metadata": {},
   "outputs": [],
   "source": [
    "curr_display_function_name = '_display_normal'\n",
    "built_pdf_metadata, curr_pdf_save_path = _build_pdf_pages_output_info(curr_display_function_name)\n",
    "with backend_pdf.PdfPages(curr_pdf_save_path, keep_empty=False, metadata=built_pdf_metadata) as pdf:\n",
    "    fig0, figList1 = curr_active_pipeline.display(curr_display_function_name, filter_name, debug_print=False, enable_saving_to_disk=False, extended_overlay_points_datasource_dicts=extended_overlay_points_datasource_dicts)\n",
    "    plots = [fig0, *figList1]\n",
    "    for a_fig in plots:\n",
    "        pdf.savefig(a_fig)"
   ]
  },
  {
   "cell_type": "code",
   "execution_count": null,
   "id": "eaaf86b9-9fee-4ea6-b9f2-01e94eb7d86d",
   "metadata": {},
   "outputs": [],
   "source": [
    "fig = figList1[0]\n",
    "ax_list = fig.axes\n",
    "\n",
    "curr_neuron_IDX = 0\n",
    "curr_ax = ax_list[curr_neuron_IDX]\n",
    "curr_peak_center = peak_center_xy_points_pos_list[curr_neuron_IDX, :]\n",
    "curr_edge_pos = \n",
    "\n",
    "# curr_ax_peak_center_point_annotation = curr_ax.annotate('EXAMPLETEXT', curr_peak_center)\n",
    "curr_ax.annotate('', tuple(curr_peak_center), (0.4, 0.8), arrowprops={'arrowstyle':'<->'})\n",
    "\n",
    "# curr_ax.annotate('', (0.4, 0.2), (0.4, 0.8), arrowprops={'arrowstyle':'<->'})"
   ]
  },
  {
   "cell_type": "code",
   "execution_count": null,
   "id": "73604250-798e-47d4-a92d-f6272c40f82a",
   "metadata": {},
   "outputs": [],
   "source": [
    "from pyphoplacecellanalysis.GUI.PyQtPlot.BinnedImageRenderingWindow import BasicBinnedImageRenderingWindow, add_bin_ticks, build_binned_imageItem\n",
    "\n",
    "# out.add_data(row=5, col=0, matrix=active_peak_prominence_2d_results.peak_counts.raw, xbins=active_xbins, ybins=active_ybins, name='pf_peak_counts_map', title='# pf peaks per Pos (X, Y)', variable_label='# pf peaks')\n",
    "\n",
    "\n",
    "# # *bin_centers: these seem to work\n",
    "# active_xbins = active_pf_2D.xbin_centers\n",
    "# active_ybins = active_pf_2D.ybin_centers\n",
    "\n",
    "\n",
    "# out.add_data(row=5, col=0, matrix=active_peak_prominence_2d_results.peak_counts.raw, xbins=active_xbins, ybins=active_ybins, name='pf_peak_counts_map', title='# pf peaks per Pos (X, Y)', variable_label='# pf peaks')\n",
    "# out = BasicBinnedImageRenderingWindow(active_eloy_analysis.avg_2D_speed_per_pos, active_xbins, active_ybins, name='avg_velocity', title=\"Avg Velocity per Pos (X, Y)\", variable_label='Avg Velocity')\n",
    "# out.add_data(row=2, col=0, matrix=active_eloy_analysis.pf_overlapDensity_2D, xbins=active_xbins, ybins=active_ybins, name='pf_overlapDensity', title='pf overlapDensity metric', variable_label='pf overlapDensity')"
   ]
  },
  {
   "cell_type": "markdown",
   "id": "3fc92a85-6741-4e46-aff1-438f1236aa8b",
   "metadata": {
    "jp-MarkdownHeadingCollapsed": true,
    "tags": []
   },
   "source": [
    "### Use Pandas' df.corr() method"
   ]
  },
  {
   "cell_type": "code",
   "execution_count": null,
   "id": "1c503212-2cb4-4243-beb8-505012ffc9c9",
   "metadata": {
    "scrolled": true,
    "tags": []
   },
   "outputs": [],
   "source": [
    "subset_variable_names = ['neuron_peak_firing_rate', 'summit_slice_level', 'peak_relative_height', 'peak_prominence', 'peak_center_x', 'peak_center_y', 'summit_slice_x_width', 'summit_slice_y_width', 'summit_slice_center_x', 'summit_slice_center_y', 'peak_height', 'peak_center_avg_speed']\n",
    "active_input_matrix = active_peak_prominence_2d_results.filtered_flat_peaks_df[subset_variable_names].copy()\n",
    "\n",
    "# active_corr_matrix = active_input_matrix.corr(method='pearson') # default\n",
    "active_corr_matrix = active_input_matrix.corr(method='spearman') # spearman\n",
    "active_corr_matrix"
   ]
  },
  {
   "cell_type": "code",
   "execution_count": null,
   "id": "f0c0ea5e-97b0-4d48-a695-e10618c31cf3",
   "metadata": {
    "tags": []
   },
   "outputs": [],
   "source": [
    "## Plot correlation matrix using imshow:\n",
    "import matplotlib\n",
    "%matplotlib inline\n",
    "import matplotlib.pyplot as plt\n",
    "\n",
    "def _plot_df_correlation_matrix(active_corr_matrix):\n",
    "    \"\"\"\n",
    "    Usage:\n",
    "        subset_variable_names = ['neuron_peak_firing_rate', 'summit_slice_level', 'peak_relative_height', 'peak_prominence', 'peak_center_x', 'peak_center_y', 'summit_slice_x_width', 'summit_slice_y_width', 'summit_slice_center_x', 'summit_slice_center_y', 'peak_height', 'peak_center_avg_speed']\n",
    "        active_input_matrix = active_peak_prominence_2d_results.filtered_flat_peaks_df[subset_variable_names].copy()\n",
    "\n",
    "        # active_corr_matrix = active_input_matrix.corr(method='pearson') # default\n",
    "        active_corr_matrix = active_input_matrix.corr(method='spearman') # spearman\n",
    "        fig, ax, im = _plot_df_correlation_matrix(active_corr_matrix)\n",
    "        \n",
    "    \"\"\"\n",
    "    corr_matrix = active_corr_matrix.copy().round(decimals=2)\n",
    "    matrix_column_names = corr_matrix.columns\n",
    "    n_columns = len(matrix_column_names)\n",
    "\n",
    "    fig, ax = plt.subplots()\n",
    "    im = ax.imshow(corr_matrix)\n",
    "    im.set_clim(-1, 1)\n",
    "    ax.grid(False)\n",
    "    ax.xaxis.set(ticks=tuple(np.arange(n_columns)), ticklabels=tuple(matrix_column_names))\n",
    "    ax.yaxis.set(ticks=tuple(np.arange(n_columns)), ticklabels=tuple(matrix_column_names))\n",
    "    plt.xticks(rotation=45, ha='right')\n",
    "    # ax.set_ylim(2.5, -0.5)\n",
    "    ## Add Labels:\n",
    "    for i in range(n_columns):\n",
    "        for j in range(n_columns):\n",
    "            ax.text(j, i, corr_matrix.iat[i, j], ha='center', va='center', color='r')\n",
    "            # ax.text(j, i, corr_matrix[i, j], ha='center', va='center', color='r')\n",
    "\n",
    "    cbar = ax.figure.colorbar(im, ax=ax, format='% .2f')\n",
    "    plt.show()\n",
    "    return fig, ax, im\n",
    "\n",
    "fig, ax, im = _plot_df_correlation_matrix(active_corr_matrix)"
   ]
  },
  {
   "cell_type": "code",
   "execution_count": null,
   "id": "8f84cdae-1e42-44d2-9ee0-7c202e4ffe76",
   "metadata": {
    "scrolled": true,
    "tags": []
   },
   "outputs": [],
   "source": [
    "from pyphocorehelpers.general_helpers import get_arguments_as_optional_dict, CodeConversion, inspect_callable_arguments\n",
    "\n",
    "# CodeConversion.get_arguments_as_optional_dict(size=3, mode='constant') # , **({'size': 3, 'mode': 'constant'} | kwargs)\n",
    "# CodeConversion.get_arguments_as_optional_dict(sigma=3) # , **({'sigma': 3} | kwargs)\n",
    "# CodeConversion.get_arguments_as_optional_dict(slice_level_multiplier=0.5, minimum_included_peak_height=0.2) # , **({'slice_level_multiplier': 0.5, 'minimum_included_peak_height': 0.2} | kwargs)\n",
    "\n",
    "# # _perform_pf_find_ratemap_peaks_peak_prominence2d_computation(...): optional arguments\n",
    "# {'summits_analysis':{'slice_level_multiplier': 0.5, 'minimum_included_peak_height': 0.2},\n",
    "#  'uniform_filter':{'size': 3, 'mode': 'constant'},\n",
    "#  'gaussian_filter':{'sigma': 3}}\n",
    "\n",
    "\n",
    "pf_summits_analysis_peak_counts_results = active_peak_prominence_2d_results.peak_counts"
   ]
  },
  {
   "cell_type": "code",
   "execution_count": null,
   "id": "52a636e9-aefb-4818-8e2e-66712b9b64fc",
   "metadata": {},
   "outputs": [],
   "source": [
    "## Renders the active_peak_prominence_2d_results.peak_counts with varying methods of blurring:\n",
    "pf_summits_analysis_peak_counts_results = active_peak_prominence_2d_results.peak_counts\n",
    "out_peak_counts_fig = BasicBinnedImageRenderingWindow(pf_summits_analysis_peak_counts_results.raw, active_pf_2D.xbin_labels, active_pf_2D.ybin_labels, name='pf_peak_counts_map', title=\"# pf peaks per Pos (X, Y)\", variable_label='# pf peaks')\n",
    "out_peak_counts_fig.add_data(row=5, col=0, matrix=pf_summits_analysis_peak_counts_results.uniform_blurred, xbins=active_pf_2D.xbin_labels, ybins=active_pf_2D.ybin_labels, name='pf_peak_counts_map_blurred', title='blurred # pf peaks per Pos (X, Y)', variable_label='blurred # pf peaks')\n",
    "out_peak_counts_fig.add_data(row=6, col=0, matrix=pf_summits_analysis_peak_counts_results.gaussian_blurred, xbins=active_pf_2D.xbin_labels, ybins=active_pf_2D.ybin_labels, name='pf_peak_counts_map_blurred gaussian', title='Gaussian blurred # pf peaks per Pos (X, Y)', variable_label='Gaussian blurred # pf peaks')"
   ]
  },
  {
   "cell_type": "code",
   "execution_count": null,
   "id": "3f1e9e54-a749-4da1-8855-b800afc563cf",
   "metadata": {},
   "outputs": [],
   "source": [
    "## Add to existing plot:\n",
    "out.add_data(row=5, col=0, matrix=active_peak_prominence_2d_results.peak_counts.raw, xbins=active_pf_2D.xbin_labels, ybins=active_pf_2D.ybin_labels, name='pf_peak_counts_map', title='# pf peaks per Pos (X, Y)', variable_label='# pf peaks')\n",
    "out.add_data(row=6, col=0, matrix=active_peak_prominence_2d_results.peak_counts.gaussian_blurred, xbins=active_pf_2D.xbin_labels, ybins=active_pf_2D.ybin_labels, name='pf_peak_counts_map_blurred gaussian', title='Gaussian blurred # pf peaks per Pos (X, Y)', variable_label='Gaussian blurred # pf peaks')"
   ]
  },
  {
   "cell_type": "code",
   "execution_count": null,
   "id": "a4aad3fb-d100-4bef-accc-529b8fd3c2c0",
   "metadata": {},
   "outputs": [],
   "source": [
    "## TODO: now that I have an filtered_summits_analysis_df['peak_center_avg_speed'] associated with each peak, can now look at things like:\n",
    "# size vs. avg_speed\n",
    "# ??DENSITY?? vs. avg speed\n",
    "\n",
    "# Find non-NAN speeds only:\n",
    "good_indicies = np.isfinite(active_eloy_analysis.avg_2D_speed_per_pos)\n",
    "masked_avg_2D_speed_per_pos = np.ma.array(active_eloy_analysis.avg_2D_speed_per_pos, mask=~good_indicies)\n",
    "masked_peak_counts_gaussian_blurred = np.ma.array(active_peak_prominence_2d_results.peak_counts.gaussian_blurred, mask=~good_indicies)\n",
    "\n",
    "## Compute correlation between pf_peak_counts_map_blurred_gaussian and \n",
    "from scipy import signal\n",
    "# METHOD 0: Fill in the missing values with the mean:\n",
    "# filled_avg_2D_speed_per_pos = masked_avg_2D_speed_per_pos.filled(masked_avg_2D_speed_per_pos.mean())\n",
    "# filled_peak_counts_gaussian_blurred = masked_peak_counts_gaussian_blurred.filled(masked_peak_counts_gaussian_blurred.mean())\n",
    "# METHOD 1: Fill in the missing values with zeros:\n",
    "filled_avg_2D_speed_per_pos = masked_avg_2D_speed_per_pos.filled(0.0)\n",
    "filled_peak_counts_gaussian_blurred = masked_peak_counts_gaussian_blurred.filled(0.0)\n",
    "\n",
    "## Compute the correlation\n",
    "corr = signal.correlate2d(filled_peak_counts_gaussian_blurred, filled_avg_2D_speed_per_pos, boundary='symm', mode='same')\n",
    "## Show the corr plot in the open out_peak_counts_fig \n",
    "out.add_data(row=7, col=0, matrix=corr, xbins=active_pf_2D.xbin_labels, ybins=active_pf_2D.ybin_labels, name='correlate2d(gauss_peak_counts, avg_2d_speed)', title='correlate2d(gauss_peak_counts, avg_2d_speed) per Pos (X, Y)', variable_label='corr')"
   ]
  },
  {
   "cell_type": "code",
   "execution_count": null,
   "id": "5d7d7f30-5f3e-45e5-b6ee-b3fa28b3f88c",
   "metadata": {},
   "outputs": [],
   "source": [
    "## Flatten all valid indicies of each variable to a matrix, to compute the relation between the variables as if each position was a separate independent sample\n",
    "def compute_flattened_finite_variable_vectors(xbins, ybins, avg_2D_speed_per_pos, matrix):\n",
    "    \"\"\" Flatten all valid indicies of each variable to a matrix, to compute the relation between the variables as if each position was a separate independent sample \n",
    "    Inputs:\n",
    "        avg_2D_speed_per_pos: TODO: refactor, basically just the matrix with NaNs in it\n",
    "        matrix: a matrix of the same size as avg_2D_speed_per_pos with either no NaNs or at worst NaNs in the same positions as avg_2D_speed_per_pos\n",
    "    \n",
    "    Usage:\n",
    "        \n",
    "good_indicies, flat_valid_xbin_centers, flat_valid_ybin_centers, flat_valid_avg_2D_speed_per_pos, flat_valid_peak_counts_gaussian_blurred = compute_flattened_finite_variable_vectors(xbins=active_peak_prominence_2d_results.xx, ybins=active_peak_prominence_2d_results.yy, avg_2D_speed_per_pos=active_eloy_analysis.avg_2D_speed_per_pos, matrix=pf_summits_analysis_peak_counts_results.gaussian_blurred)\n",
    "    \"\"\"\n",
    "    # Find non-NAN speeds only:\n",
    "    good_indicies = np.isfinite(avg_2D_speed_per_pos)\n",
    "\n",
    "    flat_valid_avg_2D_speed_per_pos = avg_2D_speed_per_pos[good_indicies].flatten()\n",
    "    flat_valid_peak_counts_gaussian_blurred = matrix[good_indicies].flatten()\n",
    "\n",
    "    # Build the mesh of flattened x and y positions for each bin\n",
    "    n_xbins = np.shape(avg_2D_speed_per_pos)[0] \n",
    "    n_ybins = np.shape(avg_2D_speed_per_pos)[1]\n",
    "    x_pos_mat = np.repeat(np.atleast_2d(xbins), axis=0, repeats=n_ybins).T #.shape # (7, 60)\n",
    "    y_pos_mat = np.repeat(np.atleast_2d(ybins).T, axis=1, repeats=n_xbins).T\n",
    "    assert np.shape(x_pos_mat) == np.shape(y_pos_mat) == np.shape(avg_2D_speed_per_pos)\n",
    "    flat_valid_xbin_centers = x_pos_mat[good_indicies].flatten()\n",
    "    flat_valid_ybin_centers = y_pos_mat[good_indicies].flatten()\n",
    "    assert np.shape(flat_valid_xbin_centers) == np.shape(flat_valid_ybin_centers) == np.shape(flat_valid_peak_counts_gaussian_blurred)\n",
    "    return good_indicies, flat_valid_xbin_centers, flat_valid_ybin_centers, flat_valid_avg_2D_speed_per_pos, flat_valid_peak_counts_gaussian_blurred\n",
    "\n",
    "good_indicies, flat_valid_xbin_centers, flat_valid_ybin_centers, flat_valid_avg_2D_speed_per_pos, flat_valid_peak_counts_gaussian_blurred = compute_flattened_finite_variable_vectors(xbins=active_peak_prominence_2d_results.xx, ybins=active_peak_prominence_2d_results.yy, avg_2D_speed_per_pos=active_eloy_analysis.avg_2D_speed_per_pos, matrix=active_peak_prominence_2d_results.peak_counts.gaussian_blurred)"
   ]
  },
  {
   "cell_type": "code",
   "execution_count": null,
   "id": "47fb67fb-f284-41e5-8dc0-b5015297c60c",
   "metadata": {},
   "outputs": [],
   "source": [
    "import scipy.stats"
   ]
  },
  {
   "cell_type": "markdown",
   "id": "2acce724-6a4f-4764-80e2-aa5a9b9ceded",
   "metadata": {
    "jp-MarkdownHeadingCollapsed": true,
    "tags": []
   },
   "source": [
    "### Linear Correlations"
   ]
  },
  {
   "cell_type": "code",
   "execution_count": null,
   "id": "f06a986a-2054-4d47-860b-a1d8d8fbf643",
   "metadata": {},
   "outputs": [],
   "source": [
    "from scipy.stats import linregress\n",
    "\n",
    "x = flat_valid_avg_2D_speed_per_pos.copy()\n",
    "y = flat_valid_peak_counts_gaussian_blurred.copy()\n",
    "result = linregress(x, y)\n",
    "print(f'y = {result.slope:.6f}x + {result.intercept:.6f}')\n",
    "# print(result.intercept, result.intercept_stderr)\n",
    "print(f'p: {result.pvalue}')\n",
    "print(f\"R-squared: {result.rvalue**2:.6f}\")\n",
    "\n",
    "## Calculate 95% confidence interval on slope and intercept:\n",
    "# Two-sided inverse Students t-distribution\n",
    "# p - probability, df - degrees of freedom\n",
    "from scipy.stats import t\n",
    "\n",
    "tinv = lambda p, df: abs(t.ppf(p/2, df))\n",
    "ts = tinv(0.05, len(x)-2)\n",
    "print(f\"slope (95%): {result.slope:.6f} +/- {ts*result.stderr:.6f}\")\n",
    "print(f\"intercept (95%): {result.intercept:.6f}\"\n",
    "      f\" +/- {ts*result.intercept_stderr:.6f}\")"
   ]
  },
  {
   "cell_type": "code",
   "execution_count": null,
   "id": "fe904efd-8665-428b-b5d9-77115995559e",
   "metadata": {},
   "outputs": [],
   "source": [
    "## Plot linear regression outputs:\n",
    "import matplotlib\n",
    "%matplotlib inline\n",
    "import matplotlib.pyplot as plt\n",
    "plt.plot(x, y, 'o', label='original data')\n",
    "plt.xlabel('Velocity cm/sec')\n",
    "plt.ylabel('blurred peak count')\n",
    "plt.title('Linear Regressionf for animal speed vs. blurred peak count')\n",
    "plt.plot(x, result.intercept + result.slope*x, 'r', label='fitted line')\n",
    "plt.legend()\n",
    "plt.show()"
   ]
  },
  {
   "cell_type": "markdown",
   "id": "f9d2b65b-4f2a-4e8b-89a4-d7edb386ce75",
   "metadata": {
    "jp-MarkdownHeadingCollapsed": true,
    "tags": []
   },
   "source": [
    "### Rank Correlations"
   ]
  },
  {
   "cell_type": "code",
   "execution_count": null,
   "id": "aa6419ec-d897-47d8-97e3-2bb95701afa6",
   "metadata": {},
   "outputs": [],
   "source": [
    "x = flat_valid_avg_2D_speed_per_pos.copy()\n",
    "y = flat_valid_peak_counts_gaussian_blurred.copy()\n",
    "# scipy.stats.rankdata(flat_valid_avg_2D_speed_per_pos)\n",
    "rho, p = scipy.stats.spearmanr(x, y)\n",
    "print(f'spearman rho: {rho:.6f}, p={p:.6f}')"
   ]
  },
  {
   "cell_type": "code",
   "execution_count": null,
   "id": "ff751c95-8863-49c5-ba58-44d3a9759455",
   "metadata": {},
   "outputs": [],
   "source": [
    "tau, p = scipy.stats.kendalltau(x, y)\n",
    "print(f'kendalltau kau: {tau:.6f}, p={p:.6f}')"
   ]
  },
  {
   "cell_type": "markdown",
   "id": "942c1178-4200-42be-86eb-3ed5da66974d",
   "metadata": {
    "jp-MarkdownHeadingCollapsed": true,
    "tags": []
   },
   "source": [
    "## Testing Variable Viewers"
   ]
  },
  {
   "cell_type": "code",
   "execution_count": null,
   "id": "a23eabdc-2380-4f3e-92a2-5e5e631640d5",
   "metadata": {},
   "outputs": [],
   "source": [
    "from pyphocorehelpers.gui.tkinter.tk_tree_view import tk_tree_view"
   ]
  },
  {
   "cell_type": "code",
   "execution_count": null,
   "id": "9bb18c64-ada3-47b3-a8eb-3a3b5efcc2ca",
   "metadata": {},
   "outputs": [],
   "source": [
    "def visualise_dict(d, lvl=0):\n",
    "    # go through the dictionary alphabetically \n",
    "    for k in sorted(d):\n",
    "        # print the table header if we're at the beginning\n",
    "        if lvl == 0 and k == sorted(d)[0]:\n",
    "            print('{:<25} {:<15} {:<10}'.format('KEY','LEVEL','TYPE'))\n",
    "            print('-'*79)\n",
    "\n",
    "        indent = '  '*lvl # indent the table to visualise hierarchy\n",
    "        t = str(type(d[k]))\n",
    "\n",
    "        # print details of each entry\n",
    "        print(\"{:<25} {:<15} {:<10}\".format(indent+str(k),lvl,t))\n",
    "\n",
    "        # if the entry is a dictionary\n",
    "        if type(d[k])==dict:\n",
    "            # visualise THAT dictionary with +1 indent\n",
    "            visualise_dict(d[k],lvl+1)"
   ]
  },
  {
   "cell_type": "code",
   "execution_count": null,
   "id": "2e011369-eb23-4480-81af-d845d2d8e7a9",
   "metadata": {},
   "outputs": [],
   "source": [
    "from pyphocorehelpers.print_helpers import print_value_overview_only, print_keys_if_possible, pprint, debug_dump_object_member_shapes"
   ]
  },
  {
   "cell_type": "code",
   "execution_count": null,
   "id": "a0cc1d39-d2c1-42e3-9597-de6d22d2b33f",
   "metadata": {},
   "outputs": [],
   "source": [
    "# tk_tree_view(peaks[1])\n",
    "# tk_tree_view(peaks)\n",
    "\n",
    "# tk_tree_view(ipcDataExplorer.plots.to_dict())\n",
    "visualise_dict(ipcDataExplorer.plots)"
   ]
  },
  {
   "cell_type": "code",
   "execution_count": null,
   "id": "588008aa-5d3b-47de-bb19-ae880861302b",
   "metadata": {},
   "outputs": [],
   "source": [
    "str(type(tuningCurvePlotData[2]['pdata_currActiveNeuronTuningCurve']))\n",
    "\n",
    "# pyvista.core.pointset.StructuredGrid"
   ]
  },
  {
   "cell_type": "code",
   "execution_count": null,
   "id": "992502de-1bee-4160-ad1c-70d82fe47433",
   "metadata": {},
   "outputs": [],
   "source": [
    "# print_keys_if_possible('plots_data', ipcDataExplorer.plots_data) # RenderPlotsData\n",
    "tuningCurvePlotData = ipcDataExplorer.plots_data['tuningCurvePlotData']\n",
    "# - tuningCurvePlotData: <class 'indexed.IndexedOrderedDict'>\n",
    "# \t- 2: <class 'dict'>\n",
    "# \t\t- curr_active_neuron_ID: <class 'numpy.int32'>\n",
    "# \t\t- curr_active_neuron_pf_identifier: <class 'str'>\n",
    "# \t\t- curr_active_neuron_tuning_Curve: <class 'numpy.ndarray'> - (29, 64)\n",
    "# \t\t- pdata_currActiveNeuronTuningCurve: <class 'pyvista.core.pointset.StructuredGrid'> - OMITTED TYPE WITH NO SHAPE\n",
    "# \t\t- pdata_currActiveNeuronTuningCurve_Points: <class 'pyvista.core.pointset.UnstructuredGrid'> - OMITTED TYPE WITH NO SHAPE\n",
    "# \t\t- lut: <class 'vtkmodules.vtkCommonCore.vtkLookupTable'>\n",
    "        \n",
    "# 'occupancyPlotData'\n",
    "# tuningCurvePlotData.shape\n",
    "print_keys_if_possible('tuningCurvePlotData', tuningCurvePlotData) # RenderPlotsData"
   ]
  },
  {
   "cell_type": "code",
   "execution_count": null,
   "id": "c5772862-44a8-4858-96c4-41d067d8167e",
   "metadata": {},
   "outputs": [],
   "source": [
    "print_keys_if_possible('ipcDataExplorer.plots', ipcDataExplorer.plots, additional_excluded_item_classes=[\"<class 'vtkmodules.vtkRenderingOpenGL2.vtkOpenGLActor'>\", \"<class 'vtkmodules.vtkRenderingAnnotation.vtkLegendBoxActor'>\"]) # RenderPlots\n",
    "# pcDataExplorer.plots: <class 'pyphocorehelpers.DataStructure.general_parameter_containers.RenderPlots'>\n",
    "# \t- name: <class 'str'>\n",
    "# \t- occupancyPlotActor: <class 'NoneType'>\n",
    "# \t- maze_bg: <class 'vtkmodules.vtkRenderingOpenGL2.vtkOpenGLActor'> - OMITTED TYPE WITH NO SHAPE\n",
    "# \t- tuningCurvePlotActors: <class 'indexed.IndexedOrderedDict'>\n",
    "# \t\t- 2: <class 'pyphocorehelpers.gui.PyVista.CascadingDynamicPlotsList.CascadingDynamicPlotsList'>\n",
    "# \t\t\t- main: <class 'vtkmodules.vtkRenderingOpenGL2.vtkOpenGLActor'> - OMITTED TYPE WITH NO SHAPE\n",
    "# \t\t\t- points: <class 'vtkmodules.vtkRenderingOpenGL2.vtkOpenGLActor'> - OMITTED TYPE WITH NO SHAPE\n",
    "#           ...\n",
    "#         - 64: <class 'pyphocorehelpers.gui.PyVista.CascadingDynamicPlotsList.CascadingDynamicPlotsList'>\n",
    "# \t\t\t- main: <class 'vtkmodules.vtkRenderingOpenGL2.vtkOpenGLActor'> - OMITTED TYPE WITH NO SHAPE\n",
    "# \t\t\t- points: <class 'vtkmodules.vtkRenderingOpenGL2.vtkOpenGLActor'> - OMITTED TYPE WITH NO SHAPE\n",
    "# \t- tuningCurvePlotLegendActor: <class 'vtkmodules.vtkRenderingAnnotation.vtkLegendBoxActor'> - OMITTED TYPE WITH NO SHAPE\n",
    "# \t- spikes_pf_active: <class 'vtkmodules.vtkRenderingOpenGL2.vtkOpenGLActor'> - OMITTED TYPE WITH NO SHAPE\n",
    "        \n",
    "active_tuning_curve_plot_actors = ipcDataExplorer.plots['tuningCurvePlotActors']\n"
   ]
  },
  {
   "cell_type": "code",
   "execution_count": null,
   "id": "058cd8e9-7ab0-43f6-a637-2ccdc8a4c433",
   "metadata": {},
   "outputs": [],
   "source": [
    "debug_dump_object_member_shapes(tuningCurvePlotData)"
   ]
  },
  {
   "cell_type": "code",
   "execution_count": null,
   "id": "fa2d5c06-ca30-4a3d-9198-95678bec99ea",
   "metadata": {},
   "outputs": [],
   "source": [
    "visualise_dict(ipcDataExplorer.plots, lvl=1)"
   ]
  },
  {
   "cell_type": "code",
   "execution_count": null,
   "id": "fa7bfd15-f0da-49fb-b796-d66f4072c4cb",
   "metadata": {},
   "outputs": [],
   "source": [
    "active_neuron_id = 2\n",
    "tuning_curve_is_visible = ipcDataExplorer.plots['tuningCurvePlotActors'][active_neuron_id].main.GetVisibility()\n",
    "tuning_curve_is_visible"
   ]
  },
  {
   "cell_type": "code",
   "execution_count": null,
   "id": "e7e0e0bf-c80b-4a3d-842e-46a29f488d08",
   "metadata": {},
   "outputs": [],
   "source": [
    "# ipcDataExplorer.p.remove_actor(contours_mesh)"
   ]
  },
  {
   "cell_type": "markdown",
   "id": "0aa19041-694d-441e-a42a-b977988ecb06",
   "metadata": {
    "jp-MarkdownHeadingCollapsed": true,
    "tags": []
   },
   "source": [
    "## Vedo display of contours testing"
   ]
  },
  {
   "cell_type": "code",
   "execution_count": null,
   "id": "4f69797c-6760-4311-a8b3-2e88519485c5",
   "metadata": {},
   "outputs": [],
   "source": [
    "plt = plot(active_peak_prominence_2d_results.xx, active_peak_prominence_2d_results.yy, slab, c='summer') # use a colormap\n",
    "show(plt, viewup='z').close()"
   ]
  },
  {
   "cell_type": "code",
   "execution_count": null,
   "id": "f27024f6-0b89-4411-983c-563bfe3b4986",
   "metadata": {},
   "outputs": [],
   "source": [
    "'''Draw a z = f(x,y) surface specified as\n",
    "a string or as a reference to an external function.\n",
    "Red points indicate where the function does not exist!'''\n",
    "from vedo import dataurl, sin, cos, log, show, Text2D\n",
    "from vedo.pyplot import plot\n",
    "\n",
    "doc = Text2D(__doc__, pos='bottom-left', c='darkgreen', font='Quikhand')\n",
    "\n",
    "############################################################### REAL\n",
    "def f(x, y):\n",
    "    return sin(2*x*y) * cos(3*y)/2\n",
    "f1 = plot(f, c='summer') # use a colormap\n",
    "\n",
    "# red dots are shown where the function does not exist (y>x):\n",
    "def f(x, y):\n",
    "    return sin(3*x) * log(x-y)/3\n",
    "f2 = plot(f, texture=dataurl+'textures/paper3.jpg')\n",
    "\n",
    "# specify x and y ranges and z vertical limits:\n",
    "def f(x, y):\n",
    "    return log(x**2+y**2-1)\n",
    "f3 = plot(\n",
    "    f,\n",
    "    xlim=[-2,2],\n",
    "    ylim=[-1,8],\n",
    "    zlim=[-1,None],\n",
    "    texture=dataurl+'textures/paper1.jpg',\n",
    ")\n",
    "\n",
    "show([(f1, 'y = sin(2*x*y) * cos(3*y) /2', doc),\n",
    "      (f2, 'y = sin(3*x)*log(x-y)/3'),\n",
    "      (f3, 'y = log(x**2+y**2-1)'),\n",
    "     ], N=3, sharecam=False,\n",
    ").close()\n",
    "\n",
    "############################################################## COMPLEX\n",
    "comment = \"\"\"Vertical axis shows the real part of complex z:\n",
    "    z = sin(log(x\\doty))\n",
    "Color map the value of the imaginary part\n",
    "(green=positive, purple=negative)\"\"\"\n",
    "\n",
    "plt = plot(lambda x,y: sin(log(x*y))/25, mode='complex')\n",
    "\n",
    "show(plt, comment, viewup='z').close()"
   ]
  },
  {
   "cell_type": "code",
   "execution_count": null,
   "id": "f3535fc5-5806-4435-a2ee-96134abb2b44",
   "metadata": {},
   "outputs": [],
   "source": [
    "isol = mesh0.isolines(n=10).color('w')\n",
    "isob = mesh0.isobands(n=5).addScalarBar(title=\"H=Elevation\")\n",
    "\n",
    "# make a copy and interpolate the Scalars from points to cells\n",
    "mesh1 = mesh0.clone(deep=False).mapPointsToCells()\n",
    "printc('Mesh cell arrays :', mesh1.celldata.keys())\n",
    "\n",
    "gvecs = mesh1.gradient(on='cells')\n",
    "cc = mesh1.cellCenters()\n",
    "ars = Arrows(cc, cc + gvecs*0.01, c='bone_r').lighting('off')\n",
    "ars.addScalarBar3D(title='|\\nablaH|~\\dot~0.01 [arb.units]')\n",
    "\n",
    "# colormap the gradient magnitude directly on the mesh\n",
    "mesh2 = mesh1.clone(deep=False).lw(0.1).cmap('jet', mag(gvecs), on='cells')\n",
    "mesh2.addScalarBar3D(title='|\\nablaH| [arb.units]')\n",
    "\n",
    "plt = Plotter(N=4, size=(1200,900), axes=11)\n",
    "plt.at(0).show(mesh0, isol, __doc__)\n",
    "plt.at(1).show(isob)\n",
    "plt.at(2).show(mesh1, isol, ars, \"Arrows=\\nablaH\")\n",
    "plt.at(3).show(mesh2, \"Color=|\\nablaH|\")\n",
    "plt.interactive().close()"
   ]
  },
  {
   "cell_type": "markdown",
   "id": "a7d8b658-d56f-4ed5-abf5-c0331c6b5595",
   "metadata": {
    "jp-MarkdownHeadingCollapsed": true,
    "tags": []
   },
   "source": [
    "# 2022-08-02 - New Simple Time-Dependent Placefield Overhaul\n",
    "Idea: use simple dataframes and operations on them to easily get the placefield results for a given time range."
   ]
  },
  {
   "cell_type": "code",
   "execution_count": null,
   "id": "4d797ecb-f440-4838-9cb4-284cb0f4bcee",
   "metadata": {},
   "outputs": [],
   "source": [
    "from scipy.ndimage import gaussian_filter\n",
    "from neuropy.core.ratemap import Ratemap\n",
    "from neuropy.analyses.placefields import _normalized_occupancy\n",
    "from neuropy.analyses.time_dependent_placefields import PfND_TimeDependent"
   ]
  },
  {
   "cell_type": "code",
   "execution_count": null,
   "id": "d52aa91d-1c15-4f88-a20c-9b4bee0350dc",
   "metadata": {},
   "outputs": [],
   "source": [
    "PfND_TimeDependent.should_smooth_spatial_occupancy_map"
   ]
  },
  {
   "cell_type": "code",
   "execution_count": null,
   "id": "b84dca36-d4c3-46c3-83e0-c1b99e2e78c9",
   "metadata": {},
   "outputs": [],
   "source": [
    "PfND_TimeDependent.should_smooth_spikes_map"
   ]
  },
  {
   "cell_type": "code",
   "execution_count": null,
   "id": "f1d40d1d-e710-41e8-8229-f7698ca47919",
   "metadata": {},
   "outputs": [],
   "source": [
    "from neuropy.analyses.time_dependent_placefields import PfND_TimeDependent\n",
    "\n",
    "## Test arbitrarily slicing by first _test_arbitrary_end_time seconds\n",
    "_test_arbitrary_start_time = 0.0\n",
    "# _test_arbitrary_end_time = 60.0 * 10.0\n",
    "_test_arbitrary_end_time = 2000.0 # end of session\n",
    "\n",
    "# out_dict = PfND_TimeDependent.perform_time_range_computation(spikes_df, pos_df, position_srate, xbin, ybin, start_time, end_time, included_neuron_IDs, active_computation_config)\n",
    "out_dict = PfND_TimeDependent.perform_time_range_computation(sess.spikes_df, sess.position.to_dataframe(), position_srate=sess.position_sampling_rate,\n",
    "                                                             xbin=active_pf_2D.xbin, ybin=active_pf_2D.ybin,\n",
    "                                                             start_time=_test_arbitrary_start_time, end_time=_test_arbitrary_end_time,\n",
    "                                                             included_neuron_IDs=active_pf_2D.included_neuron_IDs, active_computation_config=curr_active_config.computation_config, override_smooth=(0.0, 0.0))\n",
    "# out_dict\n",
    "# out_dict.seconds_occupancy\n",
    "# out_dict.smoothed_spikes_maps_matrix\n",
    "# with np.printoptions(edgeitems=9, formatter=dict(float=lambda x: \"%.3g\" % x)):\n",
    "#     print(out_dict.occupancy_weighted_tuning_maps_matrix)\n",
    "# print(out_dict.occupancy_weighted_tuning_maps_matrix)"
   ]
  },
  {
   "cell_type": "code",
   "execution_count": null,
   "id": "234cd789-b01f-4b08-af40-a5528a8ab128",
   "metadata": {},
   "outputs": [],
   "source": [
    "np.max(out_dict.seconds_occupancy)"
   ]
  },
  {
   "cell_type": "code",
   "execution_count": null,
   "id": "57bb116a-baa5-417c-a15a-8b5da52edb19",
   "metadata": {},
   "outputs": [],
   "source": [
    "np.sum(out_dict.seconds_occupancy)"
   ]
  },
  {
   "cell_type": "code",
   "execution_count": null,
   "id": "d66bccd5-edca-44b8-86cc-e4a520accd20",
   "metadata": {},
   "outputs": [],
   "source": [
    "np.max(out_dict.smoothed_spikes_maps_matrix) # 114"
   ]
  },
  {
   "cell_type": "code",
   "execution_count": null,
   "id": "ea8afea6-ec15-41e4-b315-639552102cba",
   "metadata": {},
   "outputs": [],
   "source": [
    "np.sum(out_dict.smoothed_spikes_maps_matrix, (1,2)) # num spikes per map"
   ]
  },
  {
   "cell_type": "code",
   "execution_count": null,
   "id": "e6968c09-fd8f-4e80-bf47-243d13246f39",
   "metadata": {},
   "outputs": [],
   "source": [
    "np.sum(out_dict.spikes_maps_matrix, (1,2)) # num spikes per map"
   ]
  },
  {
   "cell_type": "code",
   "execution_count": null,
   "id": "765f26c7-9468-4d76-b763-c7e1183f9f90",
   "metadata": {},
   "outputs": [],
   "source": [
    "np.max(out_dict.occupancy_weighted_tuning_maps_matrix, (1,2))"
   ]
  },
  {
   "cell_type": "code",
   "execution_count": null,
   "id": "fb9e3dd8-084f-4a4b-9701-c0fcdb7987ba",
   "metadata": {},
   "outputs": [],
   "source": [
    "np.sum(out_dict.occupancy_weighted_tuning_maps_matrix, (1,2)) # array([inf, inf, inf, inf, inf, inf, inf, inf, inf, inf, inf, 1.79769e+308, inf, inf, inf, inf, inf, inf, inf, inf, inf, inf, inf, inf, inf, inf, 1.79769e+308, inf, inf, inf, 17.443, inf, inf, inf, inf, inf, inf, 1.79769e+308, inf, inf])"
   ]
  },
  {
   "cell_type": "code",
   "execution_count": null,
   "id": "8df88870-91fc-426a-a28f-fb934ebebecb",
   "metadata": {},
   "outputs": [],
   "source": [
    "from pyphoplacecellanalysis.Pho2D.PyQtPlots.plot_placefields import pyqtplot_plot_image_array, pyqtplot_common_setup\n",
    "# Get flat list of images:\n",
    "# images = occupancy_weighted_tuning_maps_matrix # (43, 63, 63)\n",
    "# occupancy = seconds_occupancy\n",
    "\n",
    "\n",
    "# out_dict.smoothed_spikes_maps_matrix\n",
    "\n",
    "images = out_dict.occupancy_weighted_tuning_maps_matrix # (43, 63, 63)\n",
    "occupancy = out_dict.seconds_occupancy\n",
    "\n",
    "# images = active_pf_2D_dt.ratemap.tuning_curves # (43, 63, 63)\n",
    "# images = active_pf_2D_dt.curr_occupancy_weighted_tuning_maps_matrix[active_pf_2D_dt._included_thresh_neurons_indx,:,:] # (43, 63, 63)\n",
    "# images = active_pf_2D_dt.curr_smoothed_spikes_maps_matrix[active_pf_2D_dt._included_thresh_neurons_indx,:,:] # (43, 63, 63)\n",
    "# images = active_one_step_decoder.ratemap.normalized_tuning_curves[0:40,:,:] # (43, 63, 63)\n",
    "# occupancy = active_pf_2D_dt.ratemap.occupancy\n",
    "# occupancy = active_pf_2D_dt.curr_seconds_occupancy\n",
    "app, parent_root_widget, root_render_widget, plot_array, img_item_array, other_components_array = pyqtplot_plot_image_array(active_pf_2D_dt.xbin, active_pf_2D_dt.ybin, images, occupancy, \n",
    "                                                                        app=None, parent_root_widget=None, root_render_widget=None)\n",
    "\n",
    "parent_root_widget.show()"
   ]
  },
  {
   "cell_type": "code",
   "execution_count": null,
   "id": "d06013c2-70ba-42ce-b81b-2a36e282c4d8",
   "metadata": {},
   "outputs": [],
   "source": [
    "active_pf_2D_dt.update(t=40.0, should_snapshot=False)"
   ]
  },
  {
   "cell_type": "code",
   "execution_count": null,
   "id": "74486cc0-df4e-4b6b-92c1-cf6904e1df61",
   "metadata": {},
   "outputs": [],
   "source": []
  },
  {
   "cell_type": "code",
   "execution_count": null,
   "id": "02b7a7d9-e829-4b76-8e91-51d4f50db817",
   "metadata": {},
   "outputs": [],
   "source": [
    "active_pf_2D_dt.snapshot()"
   ]
  },
  {
   "cell_type": "code",
   "execution_count": null,
   "id": "e3e94322-bcec-4e7b-8cb8-dc35f9cb0149",
   "metadata": {},
   "outputs": [],
   "source": [
    "# Bin the x, y positions\n",
    "active_pf_2D.build_position_df_discretized_binned_positions(active_pos_df="
   ]
  },
  {
   "cell_type": "code",
   "execution_count": null,
   "id": "33d93b15-0b39-4cf7-a4cf-2371ff7ce59f",
   "metadata": {},
   "outputs": [],
   "source": [
    "from pyphocorehelpers.general_helpers import CodeConversion"
   ]
  },
  {
   "cell_type": "code",
   "execution_count": null,
   "id": "42be281c-d423-4986-ac01-73c6a6fb0a50",
   "metadata": {},
   "outputs": [],
   "source": [
    "CodeConversion.convert_defn_lines_to_dictionary(multiline_dict_defn=\"\"\"{'num_position_samples_occupancy': num_position_samples_occupancy, 'seconds_occupancy': seconds_occupancy,\n",
    "         'spikes_maps_matrix': spikes_maps_matrix, 'smoothed_spikes_maps_matrix': smoothed_spikes_maps_matrix,\n",
    "         'occupancy_weighted_tuning_maps_matrix':occupancy_weighted_tuning_maps_matrix}\"\"\")"
   ]
  },
  {
   "cell_type": "code",
   "execution_count": null,
   "id": "22e99649-6a2a-4810-8593-887cdbf412d1",
   "metadata": {},
   "outputs": [],
   "source": []
  }
 ],
 "metadata": {
  "interpreter": {
   "hash": "bb76371bb80daaa456787a5f74a5afc9bd3e021c2669334ff0bb72cb94135a74"
  },
  "kernelspec": {
   "display_name": "Python [conda env:phoviz_ultimate]",
   "language": "python",
   "name": "conda-env-phoviz_ultimate-py"
  },
  "language_info": {
   "codemirror_mode": {
    "name": "ipython",
    "version": 3
   },
   "file_extension": ".py",
   "mimetype": "text/x-python",
   "name": "python",
   "nbconvert_exporter": "python",
   "pygments_lexer": "ipython3",
   "version": "3.9.13"
  },
  "scenes_data": {
   "active_scene": "Default Scene",
   "init_scene": null,
   "scenes": [
    "Default Scene"
   ]
  },
  "toc-autonumbering": true,
  "toc-showcode": false,
  "toc-showmarkdowntxt": false,
  "toc-showtags": false
 },
 "nbformat": 4,
 "nbformat_minor": 5
}
