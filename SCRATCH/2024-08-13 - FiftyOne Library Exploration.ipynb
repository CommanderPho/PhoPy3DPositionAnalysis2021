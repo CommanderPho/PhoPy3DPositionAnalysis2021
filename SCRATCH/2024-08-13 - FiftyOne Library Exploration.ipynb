{
 "cells": [
  {
   "cell_type": "code",
   "execution_count": 1,
   "metadata": {
    "notebookRunGroups": {
     "groupValue": "1"
    }
   },
   "outputs": [
    {
     "name": "stdout",
     "output_type": "stream",
     "text": [
      "Automatic pdb calling has been turned OFF\n"
     ]
    }
   ],
   "source": [
    "%config IPCompleter.use_jedi = False\n",
    "# %xmode Verbose\n",
    "# %xmode context\n",
    "%pdb off\n",
    "# %load_ext viztracer\n",
    "# from viztracer import VizTracer\n",
    "%load_ext autoreload\n",
    "%autoreload 3\n",
    "import sys\n",
    "from pathlib import Path\n",
    "\n",
    "# required to enable non-blocking interaction:\n",
    "%gui qt5\n",
    "\n",
    "from copy import deepcopy\n",
    "# from numba import jit\n",
    "import numpy as np\n",
    "import pandas as pd\n",
    "pd.options.mode.chained_assignment = None  # default='warn'\n",
    "# pd.options.mode.dtype_backend = 'pyarrow' # use new pyarrow backend instead of numpy\n",
    "from attrs import define, field, fields, Factory\n",
    "import tables as tb\n",
    "from datetime import datetime, timedelta\n",
    "\n",
    "# Pho's Formatting Preferences\n",
    "import builtins\n",
    "\n",
    "import IPython\n",
    "from IPython.core.formatters import PlainTextFormatter\n",
    "from IPython import get_ipython\n",
    "\n",
    "from pyphocorehelpers.preferences_helpers import set_pho_preferences, set_pho_preferences_concise, set_pho_preferences_verbose\n",
    "set_pho_preferences_concise()\n",
    "# Jupyter-lab enable printing for any line on its own (instead of just the last one in the cell)\n",
    "from IPython.core.interactiveshell import InteractiveShell\n",
    "InteractiveShell.ast_node_interactivity = \"all\"\n",
    "\n",
    "# BEGIN PPRINT CUSTOMIZATION ___________________________________________________________________________________________ #\n",
    "\n",
    "\n",
    "## IPython pprint\n",
    "from pyphocorehelpers.pprint import wide_pprint, wide_pprint_ipython, wide_pprint_jupyter, MAX_LINE_LENGTH\n",
    "\n",
    "# Override default pprint\n",
    "builtins.pprint = wide_pprint\n",
    "\n",
    "text_formatter: PlainTextFormatter = IPython.get_ipython().display_formatter.formatters['text/plain']\n",
    "text_formatter.max_width = MAX_LINE_LENGTH\n",
    "text_formatter.for_type(object, wide_pprint_jupyter)\n",
    "\n",
    "\n",
    "# END PPRINT CUSTOMIZATION ___________________________________________________________________________________________ #\n",
    "\n",
    "from pyphocorehelpers.print_helpers import get_now_time_str, get_now_day_str\n",
    "\n",
    "## Pho's Custom Libraries:\n",
    "from pyphocorehelpers.Filesystem.path_helpers import find_first_extant_path, file_uri_from_path\n",
    "from pyphocorehelpers.Filesystem.open_in_system_file_manager import reveal_in_system_file_manager\n",
    "\n",
    "# NeuroPy (Diba Lab Python Repo) Loading\n",
    "# from neuropy import core\n",
    "from typing import Dict, List, Tuple, Optional, Callable, Union, Any\n",
    "from typing_extensions import TypeAlias\n",
    "from nptyping import NDArray\n",
    "import neuropy.utils.type_aliases as types\n",
    "\n",
    "from neuropy.analyses.placefields import PlacefieldComputationParameters\n",
    "from neuropy.core.epoch import NamedTimerange, Epoch\n",
    "from neuropy.core.ratemap import Ratemap\n",
    "from neuropy.core.session.Formats.BaseDataSessionFormats import DataSessionFormatRegistryHolder\n",
    "from neuropy.core.session.Formats.Specific.KDibaOldDataSessionFormat import KDibaOldDataSessionFormatRegisteredClass\n",
    "from neuropy.utils.matplotlib_helpers import matplotlib_file_only, matplotlib_configuration, matplotlib_configuration_update\n",
    "from neuropy.core.neuron_identities import NeuronIdentityTable, neuronTypesList, neuronTypesEnum\n",
    "from neuropy.utils.mixins.AttrsClassHelpers import AttrsBasedClassHelperMixin, serialized_field, serialized_attribute_field, non_serialized_field, custom_define\n",
    "from neuropy.utils.mixins.HDF5_representable import HDF_DeserializationMixin, post_deserialize, HDF_SerializationMixin, HDFMixin, HDF_Converter\n",
    "\n",
    "## For computation parameters:\n",
    "from neuropy.analyses.placefields import PlacefieldComputationParameters\n",
    "from neuropy.utils.dynamic_container import DynamicContainer\n",
    "from neuropy.utils.result_context import IdentifyingContext\n",
    "from neuropy.core.session.Formats.BaseDataSessionFormats import find_local_session_paths\n",
    "from neuropy.core.neurons import NeuronType\n",
    "from neuropy.core.user_annotations import UserAnnotationsManager\n",
    "from neuropy.core.position import Position\n",
    "from neuropy.core.session.dataSession import DataSession\n",
    "from neuropy.analyses.time_dependent_placefields import PfND_TimeDependent, PlacefieldSnapshot\n",
    "from neuropy.utils.debug_helpers import debug_print_placefield, debug_print_subsession_neuron_differences, debug_print_ratemap, debug_print_spike_counts, debug_plot_2d_binning, print_aligned_columns\n",
    "from neuropy.utils.debug_helpers import parameter_sweeps, _plot_parameter_sweep, compare_placefields_info\n",
    "from neuropy.utils.indexing_helpers import NumpyHelpers, union_of_arrays, intersection_of_arrays, find_desired_sort_indicies, paired_incremental_sorting\n",
    "from pyphocorehelpers.print_helpers import print_object_memory_usage, print_dataframe_memory_usage, print_value_overview_only, DocumentationFilePrinter, print_keys_if_possible, generate_html_string, document_active_variables\n",
    "\n",
    "## Pho Programming Helpers:\n",
    "import inspect\n",
    "from pyphocorehelpers.print_helpers import DocumentationFilePrinter, TypePrintMode, print_keys_if_possible, debug_dump_object_member_shapes, print_value_overview_only, document_active_variables\n",
    "from pyphocorehelpers.programming_helpers import IPythonHelpers, PythonDictionaryDefinitionFormat, MemoryManagement, inspect_callable_arguments, get_arguments_as_optional_dict, GeneratedClassDefinitionType, CodeConversion\n",
    "from pyphocorehelpers.gui.Qt.TopLevelWindowHelper import TopLevelWindowHelper, print_widget_hierarchy\n",
    "from pyphocorehelpers.indexing_helpers import reorder_columns, reorder_columns_relative, dict_to_full_array\n",
    "from pyphocorehelpers.programming_helpers import CodeConversion, SourceCodeParsing, GeneratedClassDefinitionType\n",
    "\n",
    "# doc_output_parent_folder: Path = Path('EXTERNAL/DEVELOPER_NOTES/DataStructureDocumentation').resolve() # ../.\n",
    "# print(f\"doc_output_parent_folder: {doc_output_parent_folder}\")\n",
    "# assert doc_output_parent_folder.exists()\n",
    "\n",
    "# pyPhoPlaceCellAnalysis:\n",
    "from pyphoplacecellanalysis.General.Pipeline.NeuropyPipeline import NeuropyPipeline # get_neuron_identities\n",
    "from pyphoplacecellanalysis.General.Mixins.ExportHelpers import export_pyqtgraph_plot\n",
    "from pyphoplacecellanalysis.General.Batch.NonInteractiveProcessing import batch_load_session, batch_extended_computations, batch_extended_programmatic_figures\n",
    "from pyphoplacecellanalysis.General.Pipeline.NeuropyPipeline import PipelineSavingScheme\n",
    "\n",
    "import pyphoplacecellanalysis.External.pyqtgraph as pg\n",
    "\n",
    "from pyphoplacecellanalysis.General.Batch.NonInteractiveProcessing import batch_perform_all_plots\n",
    "from pyphoplacecellanalysis.General.Pipeline.Stages.ComputationFunctions.MultiContextComputationFunctions.LongShortTrackComputations import JonathanFiringRateAnalysisResult\n",
    "from pyphoplacecellanalysis.General.Mixins.CrossComputationComparisonHelpers import _find_any_context_neurons\n",
    "from pyphoplacecellanalysis.General.Batch.runBatch import BatchSessionCompletionHandler # for `post_compute_validate(...)`\n",
    "from pyphoplacecellanalysis.Analysis.Decoder.reconstruction import BasePositionDecoder\n",
    "from pyphoplacecellanalysis.SpecificResults.AcrossSessionResults import AcrossSessionsResults\n",
    "from pyphoplacecellanalysis.General.Pipeline.Stages.ComputationFunctions.SpikeAnalysis import SpikeRateTrends # for `_perform_long_short_instantaneous_spike_rate_groups_analysis`\n",
    "from pyphoplacecellanalysis.General.Pipeline.Stages.ComputationFunctions.MultiContextComputationFunctions.LongShortTrackComputations import SingleBarResult, InstantaneousSpikeRateGroupsComputation, TruncationCheckingResults # for `BatchSessionCompletionHandler`, `AcrossSessionsAggregator`\n",
    "from pyphoplacecellanalysis.General.Mixins.CrossComputationComparisonHelpers import SplitPartitionMembership\n",
    "from pyphoplacecellanalysis.General.Pipeline.Stages.ComputationFunctions.MultiContextComputationFunctions.DirectionalPlacefieldGlobalComputationFunctions import DirectionalPlacefieldGlobalComputationFunctions, DirectionalLapsResult, TrackTemplates\n",
    "from pyphoplacecellanalysis.General.Pipeline.Stages.ComputationFunctions.MultiContextComputationFunctions.RankOrderComputations import RankOrderGlobalComputationFunctions\n",
    "from pyphoplacecellanalysis.General.Pipeline.Stages.ComputationFunctions.MultiContextComputationFunctions.DirectionalPlacefieldGlobalComputationFunctions import TrackTemplates\n",
    "from pyphoplacecellanalysis.General.Pipeline.Stages.ComputationFunctions.MultiContextComputationFunctions.RankOrderComputations import RankOrderComputationsContainer, RankOrderResult\n",
    "from pyphoplacecellanalysis.General.Pipeline.Stages.ComputationFunctions.MultiContextComputationFunctions.RankOrderComputations import RankOrderAnalyses\n",
    "\n",
    "\n",
    "# Plotting\n",
    "# import pylustrator # customization of figures\n",
    "import matplotlib\n",
    "import matplotlib as mpl\n",
    "import matplotlib.pyplot as plt\n",
    "_bak_rcParams = mpl.rcParams.copy()\n",
    "\n",
    "matplotlib.use('Qt5Agg')\n",
    "# %matplotlib inline\n",
    "# %matplotlib auto\n",
    "\n",
    "# _restore_previous_matplotlib_settings_callback = matplotlib_configuration_update(is_interactive=True, backend='Qt5Agg')\n",
    "_restore_previous_matplotlib_settings_callback = matplotlib_configuration_update(is_interactive=True, backend='Qt5Agg')\n",
    "\n",
    "from silx.gui import qt\n",
    "from silx.gui.plot import Plot2D, Plot1D\n",
    "from silx.gui.colors import Colormap\n",
    "from silx.gui.plot.items import ImageBase\n",
    "\n",
    "# import pylustrator # call `pylustrator.start()` before creating your first figure in code.\n",
    "from pyphoplacecellanalysis.Pho2D.matplotlib.visualize_heatmap import visualize_heatmap\n",
    "from pyphoplacecellanalysis.Pho2D.matplotlib.visualize_heatmap import visualize_heatmap_pyqtgraph # used in `plot_kourosh_activity_style_figure`\n",
    "from pyphoplacecellanalysis.General.Pipeline.Stages.DisplayFunctions.SpikeRasters import plot_multiple_raster_plot, plot_raster_plot\n",
    "from pyphoplacecellanalysis.General.Mixins.DataSeriesColorHelpers import UnitColoringMode, DataSeriesColorHelpers\n",
    "from pyphoplacecellanalysis.General.Pipeline.Stages.DisplayFunctions.SpikeRasters import _build_default_tick, build_scatter_plot_kwargs\n",
    "from pyphoplacecellanalysis.GUI.PyQtPlot.Widgets.Mixins.Render2DScrollWindowPlot import Render2DScrollWindowPlotMixin, ScatterItemData\n",
    "from pyphoplacecellanalysis.General.Batch.NonInteractiveProcessing import batch_extended_programmatic_figures, batch_programmatic_figures\n",
    "from pyphoplacecellanalysis.General.Pipeline.Stages.ComputationFunctions.SpikeAnalysis import SpikeRateTrends\n",
    "from pyphoplacecellanalysis.General.Mixins.SpikesRenderingBaseMixin import SpikeEmphasisState\n",
    "\n",
    "# from pyphoplacecellanalysis.SpecificResults.PhoDiba2023Paper import PAPER_FIGURE_figure_1_add_replay_epoch_rasters, PAPER_FIGURE_figure_1_full, PAPER_FIGURE_figure_3, main_complete_figure_generations\n",
    "# from pyphoplacecellanalysis.SpecificResults.fourthYearPresentation import *\n",
    "\n",
    "from dotenv import load_dotenv\n",
    "import os\n",
    "\n",
    "load_dotenv()\n",
    "# api_key = os.getenv('MY_API_KEY')\n",
    "\n",
    "import cv2\n",
    "import numpy as np\n",
    "import fiftyone as fo\n",
    "\n",
    "posterior_images_path = Path(r\"C:\\Users\\pho\\repos\\Spike3DWorkEnv\\Spike3D\\output\\_temp_individual_posteriors\\2024-08-13\").resolve()\n",
    "assert posterior_images_path.exists()\n",
    "assert posterior_images_path.is_dir()\n",
    "\n"
   ]
  },
  {
   "cell_type": "code",
   "execution_count": 2,
   "metadata": {},
   "outputs": [
    {
     "name": "stdout",
     "output_type": "stream",
     "text": [
      "Dataset already downloaded\n"
     ]
    },
    {
     "name": "stderr",
     "output_type": "stream",
     "text": [
      "INFO:fiftyone.zoo.datasets:Dataset already downloaded\n"
     ]
    },
    {
     "name": "stdout",
     "output_type": "stream",
     "text": [
      "Loading 'quickstart'\n"
     ]
    },
    {
     "name": "stderr",
     "output_type": "stream",
     "text": [
      "INFO:fiftyone.zoo.datasets:Loading 'quickstart'\n"
     ]
    },
    {
     "name": "stdout",
     "output_type": "stream",
     "text": [
      " 100% |█████████████████| 200/200 [1.6s elapsed, 0s remaining, 124.5 samples/s]         \n"
     ]
    },
    {
     "name": "stderr",
     "output_type": "stream",
     "text": [
      "INFO:eta.core.utils: 100% |█████████████████| 200/200 [1.6s elapsed, 0s remaining, 124.5 samples/s]         \n"
     ]
    },
    {
     "name": "stdout",
     "output_type": "stream",
     "text": [
      "Dataset 'quickstart' created\n"
     ]
    },
    {
     "name": "stderr",
     "output_type": "stream",
     "text": [
      "INFO:fiftyone.zoo.datasets:Dataset 'quickstart' created\n"
     ]
    },
    {
     "data": {
      "text/html": [
       "\n",
       "        <iframe\n",
       "            width=\"100%\"\n",
       "            height=\"800\"\n",
       "            src=\"http://localhost:5151/?notebook=True&subscription=5e8670e5-ae5a-4e6b-8e66-f4982cf04b07\"\n",
       "            frameborder=\"0\"\n",
       "            allowfullscreen\n",
       "            \n",
       "        ></iframe>\n",
       "        "
      ],
      "text/plain": [
       "<IPython.lib.display.IFrame object at 0x00000273B2FE28E0>"
      ]
     },
     "metadata": {},
     "output_type": "display_data"
    }
   ],
   "source": [
    "import fiftyone.zoo as foz\n",
    "\n",
    "## INPUTS: posterior_images_path\n",
    "sample_dataset = foz.load_zoo_dataset(\"quickstart\")\n",
    "sample_session = fo.launch_app(sample_dataset)\n"
   ]
  },
  {
   "cell_type": "code",
   "execution_count": 4,
   "metadata": {},
   "outputs": [
    {
     "data": {
      "text/html": [
       "\n",
       "<style>\n",
       "@import url(\"https://fonts.googleapis.com/css2?family=Palanquin&display=swap\");\n",
       "\n",
       "body, html {\n",
       "  margin: 0;\n",
       "  padding: 0;\n",
       "  width: 100%;\n",
       "}\n",
       "\n",
       "#focontainer-54964337-985c-4709-a61f-f3c28ff4e834 {\n",
       "  position: relative;\n",
       "  height: 800px;\n",
       "  display: block !important;\n",
       "}\n",
       "#foactivate-54964337-985c-4709-a61f-f3c28ff4e834 {\n",
       "  font-weight: bold;\n",
       "  cursor: pointer;\n",
       "  font-size: 24px;\n",
       "  border-radius: 3px;\n",
       "  text-align: center;\n",
       "  padding: 0.5em;\n",
       "  color: rgb(255, 255, 255);\n",
       "  font-family: \"Palanquin\", sans-serif;\n",
       "  position: absolute;\n",
       "  left: 50%;\n",
       "  top: 50%;\n",
       "  width: 160px;\n",
       "  margin-left: -80px;\n",
       "  margin-top: -23px;\n",
       "  background: hsla(210,11%,15%, 0.8);\n",
       "  border: none;\n",
       "}\n",
       "#foactivate-54964337-985c-4709-a61f-f3c28ff4e834:focus {\n",
       "  outline: none;\n",
       "}\n",
       "#fooverlay-54964337-985c-4709-a61f-f3c28ff4e834 {\n",
       "  width: 100%;\n",
       "  height: 100%;\n",
       "  background: hsla(208, 7%, 46%, 0.7);\n",
       "  position: absolute;\n",
       "  top: 0;\n",
       "  left: 0;\n",
       "  display: none;\n",
       "  cursor: pointer;\n",
       "}\n",
       "</style>\n",
       "\n",
       "<div id=\"focontainer-54964337-985c-4709-a61f-f3c28ff4e834\">\n",
       "   <div id=\"fooverlay-54964337-985c-4709-a61f-f3c28ff4e834\" style=\"display: none;\">\n",
       "      <button id=\"foactivate-54964337-985c-4709-a61f-f3c28ff4e834\" >Activate</button>\n",
       "   </div>\n",
       "   <img src='data:image/jpeg;base64,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' style=\"width: 100%; max-width: 2830px;\"/>\n",
       "</div>\n",
       "\n",
       "<script type=\"text/javascript\">\n",
       "   (function() {\n",
       "     var container = document.getElementById(\"focontainer-54964337-985c-4709-a61f-f3c28ff4e834\");\n",
       "     var overlay = document.getElementById(\"fooverlay-54964337-985c-4709-a61f-f3c28ff4e834\");\n",
       "     fetch(`http://localhost:5151/fiftyone`)\n",
       "     .then(() => {\n",
       "        overlay.addEventListener(\"click\", () => {\n",
       "          fetch(`http://localhost:5151/event`, {\n",
       "            method: \"POST\",\n",
       "            body: JSON.stringify({\n",
       "              event: \"reactivate_notebook_cell\",\n",
       "              data: { subscription: \"54964337-985c-4709-a61f-f3c28ff4e834\" },\n",
       "              subscription: \"54964337-985c-4709-a61f-f3c28ff4e834\"\n",
       "            })\n",
       "          })\n",
       "        });\n",
       "        container.addEventListener(\"mouseenter\", () => overlay.style.display = \"block\");\n",
       "        container.addEventListener(\"mouseleave\", () => overlay.style.display = \"none\");\n",
       "     });\n",
       "   })();\n",
       "</script>"
      ],
      "text/plain": [
       "<IPython.core.display.HTML object>"
      ]
     },
     "metadata": {},
     "output_type": "display_data"
    }
   ],
   "source": [
    "import fiftyone as fo\n",
    "\n",
    "# session = fo.launch_app(desktop=True)\n",
    "session = fo.launch_app(browser=True)"
   ]
  },
  {
   "cell_type": "code",
   "execution_count": 5,
   "metadata": {},
   "outputs": [
    {
     "name": "stdout",
     "output_type": "stream",
     "text": [
      " 100% |█████████████████| 336/336 [33.3ms elapsed, 0s remaining, 10.1K samples/s]  \n"
     ]
    },
    {
     "name": "stderr",
     "output_type": "stream",
     "text": [
      "INFO:eta.core.utils: 100% |█████████████████| 336/336 [33.3ms elapsed, 0s remaining, 10.1K samples/s]  \n"
     ]
    }
   ],
   "source": [
    "\n",
    "name = \"test-exported-posteriors-dataset\"\n",
    "dataset_dir = posterior_images_path.resolve().as_posix()\n",
    "debug_print = False\n",
    "# dataset_dir = posterior_images_path.resolve().as_posix()\n",
    "processed_images_folder = posterior_images_path.joinpath('processed').resolve()\n",
    "\n",
    "# Check if the dataset already exists\n",
    "if name in fo.list_datasets():\n",
    "    dataset = fo.load_dataset(name)\n",
    "else:\n",
    "    # Create the dataset\n",
    "    dataset = fo.Dataset.from_dir(\n",
    "        dataset_dir=dataset_dir,\n",
    "        dataset_type=fo.types.ImageDirectory,\n",
    "        name=name,\n",
    "    )    \n",
    "\n",
    "# # View summary info about the dataset\n",
    "# print(dataset)\n",
    "\n",
    "# # Print the first few samples in the dataset\n",
    "# print(dataset.head())\n"
   ]
  },
  {
   "cell_type": "code",
   "execution_count": null,
   "metadata": {},
   "outputs": [],
   "source": [
    "session = fo.launch_app(dataset)"
   ]
  },
  {
   "cell_type": "markdown",
   "metadata": {},
   "source": [
    "## Automatic screenshots as you work\n",
    "\n",
    "Notebooks are great for many reasons, one of which is the ability to share your work with others. FiftyOne is designed to help you write notebooks that capture your work on visual datasets, using a feature we call **automatic screenshotting**.\n",
    "\n",
    "Whenever you open a new App instance in a notebook cell, e.g., by updating your [Session](https://voxel51.com/docs/fiftyone/api/fiftyone.core.session.html#fiftyone.core.session.Session) object, any previous App instances will be automatically replaced with a static screenshot. In fact, that's what you're seeing below; screenshots of the Apps we opened when we created this notebook!\n",
    "\n",
    "The cell below issues a [session.show()](https://voxel51.com/docs/fiftyone/api/fiftyone.core.session.html#fiftyone.core.session.Session.show) command, which opens a new App instance in the cell's output. When you run the cell for yourself, notice that the App instance in the previous cell is automatically replaced with a screenshot of its current state. You can reactivate old App instances by hovering over them and clicking anywhere.\n",
    "\n",
    "After running the cell below, try double-clicking on an image in the grid to expand the sample."
   ]
  },
  {
   "cell_type": "code",
   "execution_count": null,
   "metadata": {},
   "outputs": [],
   "source": [
    "session.show()"
   ]
  },
  {
   "cell_type": "code",
   "execution_count": 10,
   "metadata": {},
   "outputs": [
    {
     "data": {
      "text/html": [
       "\n",
       "<style>\n",
       "@import url(\"https://fonts.googleapis.com/css2?family=Palanquin&display=swap\");\n",
       "\n",
       "body, html {\n",
       "  margin: 0;\n",
       "  padding: 0;\n",
       "  width: 100%;\n",
       "}\n",
       "\n",
       "#focontainer-52efdfbe-7b89-4e00-8b86-6544cbc77c36 {\n",
       "  position: relative;\n",
       "  height: 800px;\n",
       "  display: block !important;\n",
       "}\n",
       "#foactivate-52efdfbe-7b89-4e00-8b86-6544cbc77c36 {\n",
       "  font-weight: bold;\n",
       "  cursor: pointer;\n",
       "  font-size: 24px;\n",
       "  border-radius: 3px;\n",
       "  text-align: center;\n",
       "  padding: 0.5em;\n",
       "  color: rgb(255, 255, 255);\n",
       "  font-family: \"Palanquin\", sans-serif;\n",
       "  position: absolute;\n",
       "  left: 50%;\n",
       "  top: 50%;\n",
       "  width: 160px;\n",
       "  margin-left: -80px;\n",
       "  margin-top: -23px;\n",
       "  background: hsla(210,11%,15%, 0.8);\n",
       "  border: none;\n",
       "}\n",
       "#foactivate-52efdfbe-7b89-4e00-8b86-6544cbc77c36:focus {\n",
       "  outline: none;\n",
       "}\n",
       "#fooverlay-52efdfbe-7b89-4e00-8b86-6544cbc77c36 {\n",
       "  width: 100%;\n",
       "  height: 100%;\n",
       "  background: hsla(208, 7%, 46%, 0.7);\n",
       "  position: absolute;\n",
       "  top: 0;\n",
       "  left: 0;\n",
       "  display: none;\n",
       "  cursor: pointer;\n",
       "}\n",
       "</style>\n",
       "\n",
       "<div id=\"focontainer-52efdfbe-7b89-4e00-8b86-6544cbc77c36\">\n",
       "   <div id=\"fooverlay-52efdfbe-7b89-4e00-8b86-6544cbc77c36\" style=\"display: none;\">\n",
       "      <button id=\"foactivate-52efdfbe-7b89-4e00-8b86-6544cbc77c36\" >Activate</button>\n",
       "   </div>\n",
       "   <img src='data:image/jpeg;base64,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' style=\"width: 100%; max-width: 2830px;\"/>\n",
       "</div>\n",
       "\n",
       "<script type=\"text/javascript\">\n",
       "   (function() {\n",
       "     var container = document.getElementById(\"focontainer-52efdfbe-7b89-4e00-8b86-6544cbc77c36\");\n",
       "     var overlay = document.getElementById(\"fooverlay-52efdfbe-7b89-4e00-8b86-6544cbc77c36\");\n",
       "     fetch(`http://localhost:5151/fiftyone`)\n",
       "     .then(() => {\n",
       "        overlay.addEventListener(\"click\", () => {\n",
       "          fetch(`http://localhost:5151/event`, {\n",
       "            method: \"POST\",\n",
       "            body: JSON.stringify({\n",
       "              event: \"reactivate_notebook_cell\",\n",
       "              data: { subscription: \"52efdfbe-7b89-4e00-8b86-6544cbc77c36\" },\n",
       "              subscription: \"52efdfbe-7b89-4e00-8b86-6544cbc77c36\"\n",
       "            })\n",
       "          })\n",
       "        });\n",
       "        container.addEventListener(\"mouseenter\", () => overlay.style.display = \"block\");\n",
       "        container.addEventListener(\"mouseleave\", () => overlay.style.display = \"none\");\n",
       "     });\n",
       "   })();\n",
       "</script>"
      ],
      "text/plain": [
       "<IPython.core.display.HTML object>"
      ]
     },
     "metadata": {},
     "output_type": "display_data"
    },
    {
     "data": {
      "text/html": [
       "\n",
       "        <iframe\n",
       "            width=\"100%\"\n",
       "            height=\"800\"\n",
       "            src=\"http://localhost:5151/?notebook=True&subscription=7475d903-113b-4066-9b16-81eb9590eb3e\"\n",
       "            frameborder=\"0\"\n",
       "            allowfullscreen\n",
       "            \n",
       "        ></iframe>\n",
       "        "
      ],
      "text/plain": [
       "<IPython.lib.display.IFrame object at 0x00000273B2EEE520>"
      ]
     },
     "metadata": {},
     "output_type": "display_data"
    }
   ],
   "source": [
    "import cv2\n",
    "import numpy as np\n",
    "\n",
    "\n",
    "\n",
    "## INPUTS: dataset\n",
    "\n",
    "def apply_laplacian(image_path):\n",
    "    # Read the image\n",
    "    image = cv2.imread(image_path, cv2.IMREAD_COLOR)\n",
    "    \n",
    "    # Convert to grayscale\n",
    "    gray = cv2.cvtColor(image, cv2.COLOR_BGR2GRAY)\n",
    "    \n",
    "    # Apply the Laplacian edge detector\n",
    "    laplacian = cv2.Laplacian(gray, cv2.CV_64F)\n",
    "    \n",
    "    # Convert back to uint8\n",
    "    abs_laplacian = np.uint8(np.absolute(laplacian))\n",
    "    \n",
    "    return abs_laplacian\n",
    "\n",
    "\n",
    "\n",
    "dataset2 = dataset.clone()\n",
    "dataset2.add_sample_field(\"processed_img_path\", fo.StringField)\n",
    "\n",
    "# Apply the Laplacian edge detector to each image in the dataset\n",
    "for sample in dataset2:\n",
    "    # Get the file path of the image\n",
    "    image_path = sample.filepath\n",
    "    \n",
    "    # Apply the Laplacian edge detector\n",
    "    laplacian_image = apply_laplacian(image_path)\n",
    "    \n",
    "    raw_img_path = Path(image_path).resolve()\n",
    "    # processed_img_path = processed_images_folder.joinpath(raw_img_path.name)\n",
    "    processed_img_path = processed_images_folder.joinpath(f\"{raw_img_path.stem}_laplacian\").with_suffix(raw_img_path.suffix)\n",
    "    if debug_print:\n",
    "        print(f'image_path: {image_path}')\n",
    "        print(f'processed_img_path: {processed_img_path}')\n",
    "        \n",
    "    # processed_img_path.with_suffix(\"_laplacian\")\n",
    "    # raw_img_path\n",
    "    \n",
    "    # # Save the result as a new image\n",
    "    # output_path = image_path.replace(\".jpg\", \"_laplacian.jpg\")\n",
    "    output_path = processed_img_path.as_posix()\n",
    "    _is_success = cv2.imwrite(output_path, laplacian_image)\n",
    "    \n",
    "    # print(sample)\n",
    "    sample[\"processed_img_path\"] = output_path\n",
    "    # Add the new image to the dataset\n",
    "    sample[\"laplacian\"] = output_path # fo.Image(filepath=output_path)\n",
    "    sample.save()\n",
    "    \n",
    "\n",
    "session2 = fo.launch_app(dataset2)\n",
    "session2.show()\n"
   ]
  },
  {
   "cell_type": "code",
   "execution_count": 11,
   "metadata": {},
   "outputs": [],
   "source": [
    "def perform_laplacian_edge_detection(dataset, processed_images_folder, debug_print=False):\n",
    "    _computation_id_key: str = \"laplacian\"\n",
    "    \n",
    "    def apply_laplacian(image_path):\n",
    "        # Read the image\n",
    "        image = cv2.imread(image_path, cv2.IMREAD_COLOR)\n",
    "        \n",
    "        # Convert to grayscale\n",
    "        gray = cv2.cvtColor(image, cv2.COLOR_BGR2GRAY)\n",
    "        \n",
    "        # Apply the Laplacian edge detector\n",
    "        laplacian = cv2.Laplacian(gray, cv2.CV_64F)\n",
    "        \n",
    "        # Convert back to uint8\n",
    "        abs_laplacian = np.uint8(np.absolute(laplacian))\n",
    "        \n",
    "        return abs_laplacian\n",
    "\n",
    "\n",
    "    dataset2 = dataset.clone()\n",
    "    dataset2.add_sample_field(\"processed_img_path\", fo.StringField)\n",
    "\n",
    "    # Apply the Laplacian edge detector to each image in the dataset\n",
    "    for sample in dataset2:\n",
    "        # Get the file path of the image\n",
    "        image_path = sample.filepath\n",
    "        \n",
    "        # Apply the Laplacian edge detector\n",
    "        laplacian_image = apply_laplacian(image_path)\n",
    "        \n",
    "        raw_img_path = Path(image_path).resolve()\n",
    "        # processed_img_path = processed_images_folder.joinpath(raw_img_path.name)\n",
    "        processed_img_path = processed_images_folder.joinpath(f\"{raw_img_path.stem}_{_computation_id_key}\").with_suffix(raw_img_path.suffix)\n",
    "        if debug_print:\n",
    "            print(f'image_path: {image_path}')\n",
    "            print(f'processed_img_path: {processed_img_path}')\n",
    "            \n",
    "        # processed_img_path.with_suffix(\"_laplacian\")\n",
    "        # raw_img_path\n",
    "        \n",
    "        # # Save the result as a new image\n",
    "        # output_path = image_path.replace(\".jpg\", \"_laplacian.jpg\")\n",
    "        output_path = processed_img_path.as_posix()\n",
    "        _is_success = cv2.imwrite(output_path, laplacian_image)\n",
    "        \n",
    "        # print(sample)\n",
    "        sample[\"processed_img_path\"] = output_path\n",
    "        # Add the new image to the dataset\n",
    "        sample[_computation_id_key] = output_path # fo.Image(filepath=output_path)\n",
    "        sample.save()\n",
    "        \n",
    "    return dataset2\n",
    "\n",
    "dataset2 = perform_laplacian_edge_detection(dataset, processed_images_folder=processed_images_folder, debug_print=False)\n",
    "# session2 = fo.launch_app(dataset2)\n",
    "# session2.show()\n"
   ]
  },
  {
   "cell_type": "code",
   "execution_count": null,
   "metadata": {},
   "outputs": [],
   "source": [
    "import cv2\n",
    "\n",
    "\n",
    "def perform_ridge_detection(dataset, processed_images_folder, debug_print=False):\n",
    "    _computation_id_key: str = \"ridges\"\n",
    "    \n",
    "    def apply_ridge_detection(image_path):\n",
    "        # Read the image\n",
    "        image = cv2.imread(image_path, cv2.IMREAD_COLOR)\n",
    "        \n",
    "        # Convert to grayscale\n",
    "        gray = cv2.cvtColor(image, cv2.COLOR_BGR2GRAY)\n",
    "        \n",
    "        # Apply the ridge detection filter\n",
    "        ridge_filter = cv2.ximgproc.RidgeDetectionFilter_create()\n",
    "        ridges = ridge_filter.getRidgeFilteredImage(gray)\n",
    "        \n",
    "        # Convert back to uint8\n",
    "        abs_ridges = np.uint8(np.absolute(ridges))\n",
    "        \n",
    "        return abs_ridges\n",
    "\n",
    "\n",
    "    dataset2 = dataset.clone()\n",
    "\n",
    "    # Apply the Ridge Detection Filter to each image in the dataset\n",
    "    for sample in dataset2:\n",
    "        # Get the file path of the image\n",
    "        image_path = sample.filepath\n",
    "        \n",
    "        # Apply the ridge detection\n",
    "        ridges_image = apply_ridge_detection(image_path)\n",
    "        \n",
    "        raw_img_path = Path(image_path).resolve()\n",
    "        # processed_img_path = processed_images_folder.joinpath(raw_img_path.name)\n",
    "        processed_img_path = processed_images_folder.joinpath(f\"{raw_img_path.stem}_{_computation_id_key}\").with_suffix(raw_img_path.suffix)\n",
    "        if debug_print:\n",
    "            print(f'image_path: {image_path}')\n",
    "            print(f'processed_img_path: {processed_img_path}')\n",
    "            \n",
    "        # processed_img_path.with_suffix(\"_laplacian\")\n",
    "        # raw_img_path\n",
    "        \n",
    "        # # Save the result as a new image\n",
    "        # output_path = image_path.replace(\".jpg\", \"_laplacian.jpg\")\n",
    "        output_path = processed_img_path.as_posix()\n",
    "        _is_success = cv2.imwrite(output_path, ridges_image)\n",
    "        \n",
    "        # print(sample)\n",
    "        sample[\"processed_img_path\"] = output_path\n",
    "        # Add the new image to the dataset\n",
    "        sample[_computation_id_key] = output_path # fo.Image(filepath=output_path)\n",
    "        sample.save()\n",
    "\n",
    "    return dataset2\n",
    "\n",
    "dataset3 = perform_ridge_detection(dataset, processed_images_folder=processed_images_folder, debug_print=False)\n",
    "# session3 = fo.launch_app(dataset3)\n",
    "# session3.show()"
   ]
  },
  {
   "cell_type": "code",
   "execution_count": 8,
   "metadata": {},
   "outputs": [
    {
     "data": {
      "text/html": [
       "\n",
       "<style>\n",
       "@import url(\"https://fonts.googleapis.com/css2?family=Palanquin&display=swap\");\n",
       "\n",
       "body, html {\n",
       "  margin: 0;\n",
       "  padding: 0;\n",
       "  width: 100%;\n",
       "}\n",
       "\n",
       "#focontainer-48cbfb01-dd22-4545-ab91-66e2e19a6aac {\n",
       "  position: relative;\n",
       "  height: 800px;\n",
       "  display: block !important;\n",
       "}\n",
       "#foactivate-48cbfb01-dd22-4545-ab91-66e2e19a6aac {\n",
       "  font-weight: bold;\n",
       "  cursor: pointer;\n",
       "  font-size: 24px;\n",
       "  border-radius: 3px;\n",
       "  text-align: center;\n",
       "  padding: 0.5em;\n",
       "  color: rgb(255, 255, 255);\n",
       "  font-family: \"Palanquin\", sans-serif;\n",
       "  position: absolute;\n",
       "  left: 50%;\n",
       "  top: 50%;\n",
       "  width: 160px;\n",
       "  margin-left: -80px;\n",
       "  margin-top: -23px;\n",
       "  background: hsla(210,11%,15%, 0.8);\n",
       "  border: none;\n",
       "}\n",
       "#foactivate-48cbfb01-dd22-4545-ab91-66e2e19a6aac:focus {\n",
       "  outline: none;\n",
       "}\n",
       "#fooverlay-48cbfb01-dd22-4545-ab91-66e2e19a6aac {\n",
       "  width: 100%;\n",
       "  height: 100%;\n",
       "  background: hsla(208, 7%, 46%, 0.7);\n",
       "  position: absolute;\n",
       "  top: 0;\n",
       "  left: 0;\n",
       "  display: none;\n",
       "  cursor: pointer;\n",
       "}\n",
       "</style>\n",
       "\n",
       "<div id=\"focontainer-48cbfb01-dd22-4545-ab91-66e2e19a6aac\">\n",
       "   <div id=\"fooverlay-48cbfb01-dd22-4545-ab91-66e2e19a6aac\" style=\"display: none;\">\n",
       "      <button id=\"foactivate-48cbfb01-dd22-4545-ab91-66e2e19a6aac\" >Activate</button>\n",
       "   </div>\n",
       "   <img src='data:image/jpeg;base64,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' style=\"width: 100%; max-width: 2830px;\"/>\n",
       "</div>\n",
       "\n",
       "<script type=\"text/javascript\">\n",
       "   (function() {\n",
       "     var container = document.getElementById(\"focontainer-48cbfb01-dd22-4545-ab91-66e2e19a6aac\");\n",
       "     var overlay = document.getElementById(\"fooverlay-48cbfb01-dd22-4545-ab91-66e2e19a6aac\");\n",
       "     fetch(`http://localhost:5151/fiftyone`)\n",
       "     .then(() => {\n",
       "        overlay.addEventListener(\"click\", () => {\n",
       "          fetch(`http://localhost:5151/event`, {\n",
       "            method: \"POST\",\n",
       "            body: JSON.stringify({\n",
       "              event: \"reactivate_notebook_cell\",\n",
       "              data: { subscription: \"48cbfb01-dd22-4545-ab91-66e2e19a6aac\" },\n",
       "              subscription: \"48cbfb01-dd22-4545-ab91-66e2e19a6aac\"\n",
       "            })\n",
       "          })\n",
       "        });\n",
       "        container.addEventListener(\"mouseenter\", () => overlay.style.display = \"block\");\n",
       "        container.addEventListener(\"mouseleave\", () => overlay.style.display = \"none\");\n",
       "     });\n",
       "   })();\n",
       "</script>"
      ],
      "text/plain": [
       "<IPython.core.display.HTML object>"
      ]
     },
     "metadata": {},
     "output_type": "display_data"
    }
   ],
   "source": [
    "session.dataset = dataset2"
   ]
  },
  {
   "cell_type": "code",
   "execution_count": null,
   "metadata": {},
   "outputs": [],
   "source": [
    "\n",
    "\n",
    "import requests\n",
    "\n",
    "\n",
    "api_key = 'swBzQ0x.72AzLyKaC3DNvFSbrDHN4FwOaB1PGU7P'\n",
    "\n",
    "json = {\"name\": \"My Dataset\"}\n",
    "headers = {\"Authorization\": f\"ApiKey {api_key}\"}\n",
    "url = \"https://darwin.v7labs.com/api/datasets\"\n",
    "\n",
    "result = requests.post(url, json=json, headers=headers)\n",
    "print(result.json())\n"
   ]
  },
  {
   "cell_type": "code",
   "execution_count": null,
   "metadata": {},
   "outputs": [],
   "source": [
    "\n",
    "processed_ds_name = \"test-exported-posteriors-processed-dataset\"\n",
    "processed_dataset_dir = processed_images_folder.resolve().as_posix()\n",
    "\n",
    "# Check if the dataset already exists\n",
    "if processed_ds_name in fo.list_datasets():\n",
    "    processed_dataset = fo.load_dataset(processed_ds_name)\n",
    "else:\n",
    "    # Create the dataset\n",
    "    processed_dataset = fo.Dataset.from_dir(\n",
    "        dataset_dir=processed_dataset_dir,\n",
    "        dataset_type=fo.types.ImageDirectory,\n",
    "        name=processed_ds_name,\n",
    "    )    \n",
    "\n",
    "# View summary info about the dataset\n",
    "print(processed_dataset)\n",
    "\n",
    "# Print the first few samples in the dataset\n",
    "print(processed_dataset.head())\n",
    "\n",
    "session2 = fo.launch_app(processed_dataset)\n",
    "# session2.show()\n",
    "session2\n"
   ]
  },
  {
   "cell_type": "markdown",
   "metadata": {},
   "source": [
    "## Dataset Views\n",
    "\n",
    "The power of FiftyOne truly comes alive when using [dataset views](https://voxel51.com/docs/fiftyone/user_guide/using_views.html).\n",
    "\n",
    "Think of a [Dataset](https://voxel51.com/docs/fiftyone/api/fiftyone.core.dataset.html#fiftyone.core.dataset.Dataset) as the root view into your all of your data. Creating a [DatasetView](https://voxel51.com/docs/fiftyone/api/fiftyone.core.view.html#fiftyone.core.view.DatasetView) allows you to study a specific subset of the samples and/or fields of your dataset.\n",
    "\n",
    "Dataset views can be created and modified both in Python and in the App. The active view in the App is always available via the [Session.view](https://voxel51.com/docs/fiftyone/api/fiftyone.core.session.html#fiftyone.core.session.Session.view) property of your session. This means that if you update your view in the App, its state will be captured by [Session.view](https://voxel51.com/docs/fiftyone/api/fiftyone.core.session.html#fiftyone.core.session.Session.view). Or, you can create a view programmatically in Python and open it in the App by setting the [Session.view](https://voxel51.com/docs/fiftyone/api/fiftyone.core.session.html#fiftyone.core.session.Session.view) property.\n",
    "\n",
    "Let's start by creating a view into our dataset via the App. We'll sort the dataset by the `uniqueness` field to show the most unique images first. To do this, we will click `+ add stage` in the View Bar and add a `SortBy` stage with `uniqueness` as the field, and `reverse` equal to `True`."
   ]
  },
  {
   "cell_type": "code",
   "execution_count": null,
   "metadata": {},
   "outputs": [],
   "source": [
    "session.show()"
   ]
  },
  {
   "cell_type": "markdown",
   "metadata": {},
   "source": [
    "We can then access the view in Python and, for example, print the most unique sample:"
   ]
  },
  {
   "cell_type": "code",
   "execution_count": null,
   "metadata": {},
   "outputs": [],
   "source": [
    "print(session.view.first())"
   ]
  },
  {
   "cell_type": "code",
   "execution_count": null,
   "metadata": {},
   "outputs": [],
   "source": []
  },
  {
   "cell_type": "markdown",
   "metadata": {},
   "source": [
    "## Complex views in Python\n",
    "\n",
    "Sometimes you may be interested in creating a [complex view](https://voxel51.com/docs/fiftyone/user_guide/using_views.html#view-stages) into a dataset that is specified by a series of conditions or complex filtering operations.\n",
    "\n",
    "You can achieve this in FiftyOne by [chaining view stages](https://voxel51.com/docs/fiftyone/user_guide/using_views.html#tips-tricks) together to define the view you want.\n",
    "\n",
    "As an example, let's create a view that contains only the 25 most unique samples in the dataset, and only predictions on those samples with confidence > 0.5.\n",
    "\n",
    "Remember that, because we are working in a notebook, any time we change our [Session](https://voxel51.com/docs/fiftyone/api/fiftyone.core.session.html#fiftyone.core.session.Session) object, a new App will be displayed in the cell's output."
   ]
  },
  {
   "cell_type": "code",
   "execution_count": null,
   "metadata": {},
   "outputs": [],
   "source": [
    "from fiftyone import ViewField as F\n",
    "\n",
    "session.view = (\n",
    "    dataset\n",
    "    .sort_by(\"uniqueness\", reverse=True)\n",
    "    .limit(25)\n",
    "    .filter_labels(\"predictions\", F(\"confidence\") > 0.5)\n",
    ")"
   ]
  },
  {
   "cell_type": "code",
   "execution_count": null,
   "metadata": {},
   "outputs": [],
   "source": [
    "# Evaluate the objects in the `predictions` field with respect to the\n",
    "# objects in the `ground_truth` field\n",
    "results = sample_dataset.evaluate_detections(\n",
    "    \"predictions\",\n",
    "    gt_field=\"ground_truth\",\n",
    "    eval_key=\"eval_predictions\",\n",
    ")\n",
    "sample_session.show()\n",
    "\n",
    "# # Detection evaluation\n",
    "# dataset.evaluate_detections(\n",
    "#     \"predictions\",\n",
    "#     gt_field=\"ground_truth\",\n",
    "#     eval_key=eval_key,\n",
    "#     ...,\n",
    "# )\n"
   ]
  },
  {
   "cell_type": "markdown",
   "metadata": {},
   "source": [
    "## Further reading\n",
    "\n",
    "This quickstart touched on only a few of the possibilities of using FiftyOne. If you'd like to learn more, check out these [tutorials](https://voxel51.com/docs/fiftyone/tutorials/index.html) and [recipes](https://voxel51.com/docs/fiftyone/recipes/index.html) to see more concrete use cases and best practices.\n",
    "\n",
    "And did we mention that FiftyOne is open source? Check out the project [on GitHub](https://github.com/voxel51/fiftyone) and [leave an issue](https://github.com/voxel51/fiftyone/issues/new/choose) if you think something is missing.\n",
    "\n",
    "Thanks for tuning in!"
   ]
  },
  {
   "cell_type": "markdown",
   "metadata": {},
   "source": [
    "# Plugins"
   ]
  },
  {
   "cell_type": "code",
   "execution_count": null,
   "metadata": {
    "vscode": {
     "languageId": "powershell"
    }
   },
   "outputs": [],
   "source": [
    "fiftyone plugins download https://github.com/voxel51/fiftyone-plugins --plugin-names @voxel51/evaluation\n",
    "fiftyone plugins download https://github.com/voxel51/fiftyone-plugins --plugin-names @voxel51/annotation\n",
    "fiftyone plugins download https://github.com/voxel51/fiftyone-plugins --plugin-names @voxel51/io\n",
    "\n",
    "## Community\n",
    "# fiftyone plugins download https://github.com/voxel51/fiftyone-plugins --plugin-names @voxel51/evaluation @voxel51/annotation @voxel51/io @danielgural/outlier_detection @jacobmarks/clustering @danielgural/clustering_algorithms\n",
    "\n",
    "fiftyone plugins download https://github.com/danielgural/outlier_detection\n",
    "fiftyone plugins download https://github.com/danielgural/clustering_algorithms\n",
    "fiftyone plugins download https://github.com/jacobmarks/clustering-plugin\n"
   ]
  },
  {
   "cell_type": "code",
   "execution_count": null,
   "metadata": {
    "vscode": {
     "languageId": "powershell"
    }
   },
   "outputs": [],
   "source": [
    "# List all plugins you've downloaded\n",
    "fiftyone plugins list\n",
    "\n",
    "# List the available operators\n",
    "fiftyone operators list\n"
   ]
  },
  {
   "cell_type": "markdown",
   "metadata": {
    "vscode": {
     "languageId": "powershell"
    }
   },
   "source": [
    "# Testing Annotations with Darwin V7\n",
    "https://darwin.v7labs.com/datasets"
   ]
  },
  {
   "cell_type": "code",
   "execution_count": null,
   "metadata": {
    "vscode": {
     "languageId": "powershell"
    }
   },
   "outputs": [],
   "source": [
    "import fiftyone as fo\n",
    "import fiftyone.zoo as foz\n",
    "\n",
    "dataset = foz.load_zoo_dataset(\"quickstart\")\n",
    "view = dataset.take(1)\n",
    "\n",
    "anno_key = \"v7_new_field\"\n",
    "\n",
    "view.annotate(\n",
    "    anno_key,\n",
    "    backend=\"darwin\",\n",
    "    label_field=\"new_classifications\",\n",
    "    label_type=\"classifications\",\n",
    "    classes=[\"dog\", \"cat\", \"person\"],\n",
    "    dataset_slug=anno_key,\n",
    "    launch_editor=True,\n",
    ")\n",
    "print(dataset.get_annotation_info(anno_key))\n",
    "\n",
    "# Create annotations in V7\n",
    "\n",
    "dataset.load_annotations(anno_key, cleanup=True)\n",
    "dataset.delete_annotation_run(anno_key)"
   ]
  },
  {
   "cell_type": "code",
   "execution_count": null,
   "metadata": {
    "vscode": {
     "languageId": "powershell"
    }
   },
   "outputs": [],
   "source": [
    "import fiftyone as fo\n",
    "import fiftyone.zoo as foz\n",
    "\n",
    "dataset = foz.load_zoo_dataset(\"quickstart\")\n",
    "view = dataset.take(1)\n",
    "\n",
    "anno_key = \"v7_new_field\"\n",
    "\n",
    "label_schema = {\n",
    "    \"new_classifications\": {\n",
    "        \"type\": \"classifications\",\n",
    "        \"classes\": [\"dog\", \"cat\", \"person\"],\n",
    "    }\n",
    "}\n",
    "\n",
    "view.annotate(\n",
    "    anno_key,\n",
    "    backend=\"darwin\",\n",
    "    label_schema=label_schema,\n",
    "    dataset_slug=anno_key,\n",
    "    launch_editor=True,\n",
    ")\n",
    "print(dataset.get_annotation_info(anno_key))\n",
    "\n",
    "# Create annotations in V7\n",
    "\n",
    "dataset.load_annotations(anno_key, cleanup=True)\n",
    "dataset.delete_annotation_run(anno_key)"
   ]
  }
 ],
 "metadata": {
  "kernelspec": {
   "display_name": ".venv",
   "language": "python",
   "name": "python3"
  },
  "language_info": {
   "codemirror_mode": {
    "name": "ipython",
    "version": 3
   },
   "file_extension": ".py",
   "mimetype": "text/x-python",
   "name": "python",
   "nbconvert_exporter": "python",
   "pygments_lexer": "ipython3",
   "version": "3.9.13"
  },
  "orig_nbformat": 4
 },
 "nbformat": 4,
 "nbformat_minor": 2
}
