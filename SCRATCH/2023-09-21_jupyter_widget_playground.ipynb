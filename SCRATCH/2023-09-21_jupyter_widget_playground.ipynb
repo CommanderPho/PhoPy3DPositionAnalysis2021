{
 "cells": [
  {
   "cell_type": "code",
   "execution_count": 1,
   "metadata": {},
   "outputs": [
    {
     "name": "stdout",
     "output_type": "stream",
     "text": [
      "Automatic pdb calling has been turned OFF\n"
     ]
    }
   ],
   "source": [
    "%config IPCompleter.use_jedi = False\n",
    "%pdb off\n",
    "# %load_ext viztracer\n",
    "# from viztracer import VizTracer\n",
    "%load_ext autoreload\n",
    "%autoreload 3\n",
    "import sys\n",
    "from pathlib import Path\n",
    "\n",
    "# required to enable non-blocking interaction:\n",
    "%gui qt5\n",
    "\n",
    "from copy import deepcopy\n",
    "from numba import jit\n",
    "import numpy as np\n",
    "import pandas as pd\n",
    "pd.options.mode.chained_assignment = None  # default='warn'\n",
    "# pd.options.mode.dtype_backend = 'pyarrow' # use new pyarrow backend instead of numpy\n",
    "from attrs import define, field, fields, Factory\n",
    "import tables as tb\n",
    "from datetime import datetime, timedelta\n",
    "\n",
    "# Pho's Formatting Preferences\n",
    "from pyphocorehelpers.preferences_helpers import set_pho_preferences, set_pho_preferences_concise, set_pho_preferences_verbose\n",
    "set_pho_preferences_concise()\n",
    "\n",
    "## Pho's Custom Libraries:\n",
    "from pyphocorehelpers.Filesystem.path_helpers import find_first_extant_path\n",
    "from pyphocorehelpers.Filesystem.open_in_system_file_manager import reveal_in_system_file_manager\n",
    "\n",
    "# Jupyter Widget Interactive\n",
    "import ipywidgets as widgets\n",
    "from IPython.display import display\n",
    "from pyphocorehelpers.Filesystem.open_in_system_file_manager import reveal_in_system_file_manager\n",
    "# from pyphoplacecellanalysis.GUI.IPyWidgets.pipeline_ipywidgets import interactive_pipeline_widget, fullwidth_path_widget, interactive_pipeline_files\n"
   ]
  },
  {
   "cell_type": "code",
   "execution_count": 2,
   "metadata": {},
   "outputs": [
    {
     "data": {
      "application/vnd.jupyter.widget-view+json": {
       "model_id": "ad0b5f4369564c1cbc8f9ec3ff6c4251",
       "version_major": 2,
       "version_minor": 0
      },
      "text/plain": [
       "GridBox(children=(Button(description='Widget 1', layout=Layout(height='100px', width='150px'), style=ButtonSty…"
      ]
     },
     "metadata": {},
     "output_type": "display_data"
    }
   ],
   "source": [
    "\n",
    "# Create some placeholder widgets of varying sizes\n",
    "widget1 = widgets.Button(description=\"Widget 1\", layout=widgets.Layout(width='150px', height='100px'))\n",
    "widget2 = widgets.Button(description=\"Widget 2\", layout=widgets.Layout(width='200px', height='150px'))\n",
    "widget3 = widgets.Button(description=\"Widget 3\", layout=widgets.Layout(width='100px', height='200px'))\n",
    "widget4 = widgets.Button(description=\"Widget 4\", layout=widgets.Layout(width='250px', height='150px'))\n",
    "widget5 = widgets.Button(description=\"Widget 5\", layout=widgets.Layout(width='100px', height='100px'))\n",
    "widget6 = widgets.Button(description=\"Widget 6\", layout=widgets.Layout(width='150px', height='200px'))\n",
    "\n",
    "# Define a GridBox layout with a varying number of columns\n",
    "grid = widgets.GridBox(\n",
    "    [widget1, widget2, widget3, widget4, widget5, widget6],\n",
    "    layout=widgets.Layout(grid_template_columns=\"repeat(3, 200px)\", grid_gap=\"10px\")\n",
    ")\n",
    "\n",
    "# Display the grid\n",
    "display(grid)\n",
    "\n",
    "# _pipeline_jupyter_widget = interactive_pipeline_widget(curr_active_pipeline=curr_active_pipeline)\n",
    "# display(_pipeline_jupyter_widget)\n",
    "# _pipeline_jupyter_widget"
   ]
  },
  {
   "cell_type": "code",
   "execution_count": null,
   "metadata": {},
   "outputs": [],
   "source": [
    "# <i class=\"fa-solid fa-clone\"></i>\n",
    "# form_item_layout = ipywidgets.Layout(\n",
    "#     display='flex',\n",
    "#     flex_flow='row',\n",
    "#     justify_content='space-between'\n",
    "# )\n",
    "\n",
    "icons = ['clock-rotate-left', 'folder-tree', 'rev', 'file-import', 'file-export', 'upload', 'download', 'file-zipper', 'box-archive', 'message', 'road', 'file-arrow-up', 'file-arrow-down']\n",
    "rendering_icons = ['vector-square', 'draw-polygon', 'object-group']\n",
    "\n",
    "button = widgets.Button(\n",
    "    description='Click me',\n",
    "\tlayout=widgets.Layout(flex='0 1 auto', width='auto', margin='0px'),\n",
    "    disabled=False,\n",
    "    button_style='', # 'success', 'info', 'warning', 'danger' or ''\n",
    "    tooltip='Click me',\n",
    "    icon='check' # (FontAwesome names without the `fa-` prefix)\n",
    ")\n",
    "secondary_button = widgets.Button(\n",
    "    description='',\n",
    "\tlayout=widgets.Layout(flex='0 1 auto', width='auto', margin='0px'), # means it won't grow beyond its content's width, can shrink if needed, and its basis is auto.\n",
    "    disabled=False,\n",
    "    button_style='info', # 'success', 'info', 'warning', 'danger' or ''\n",
    "    tooltip='Click me',\n",
    "    icon='clone' # (FontAwesome names without the `fa-` prefix)\n",
    ")\n",
    "another_button = widgets.Button(description='', layout=widgets.Layout(flex='0 1 auto', width='auto', margin='0px'), disabled=False, button_style='info', tooltip='Click me', icon='clone')\n",
    "\n",
    "# widgets.HBox([button, secondary_button])\n",
    "\n",
    "items_auto = [button, secondary_button, another_button]\n",
    "box_layout = widgets.Layout(display='flex', flex_flow='row', align_items='stretch', width='70%')\n",
    "box_auto = widgets.Box(children=items_auto, layout=box_layout)\n",
    "box_auto"
   ]
  }
 ],
 "metadata": {
  "kernelspec": {
   "display_name": ".venv",
   "language": "python",
   "name": "python3"
  },
  "language_info": {
   "codemirror_mode": {
    "name": "ipython",
    "version": 3
   },
   "file_extension": ".py",
   "mimetype": "text/x-python",
   "name": "python",
   "nbconvert_exporter": "python",
   "pygments_lexer": "ipython3",
   "version": "3.9.13"
  },
  "orig_nbformat": 4
 },
 "nbformat": 4,
 "nbformat_minor": 2
}
