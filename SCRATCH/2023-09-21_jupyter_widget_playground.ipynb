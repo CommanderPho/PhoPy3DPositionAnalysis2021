{
 "cells": [
  {
   "cell_type": "code",
   "execution_count": 1,
   "metadata": {},
   "outputs": [
    {
     "name": "stdout",
     "output_type": "stream",
     "text": [
      "Automatic pdb calling has been turned OFF\n"
     ]
    },
    {
     "name": "stderr",
     "output_type": "stream",
     "text": [
      "INFO:com.PhoHale.Spike3D.pipeline:==========================================================================================\n",
      "========== Module Logger INIT \"com.PhoHale.Spike3D.pipeline\" ==============================\n"
     ]
    },
    {
     "name": "stdout",
     "output_type": "stream",
     "text": [
      "build_module_logger(module_name=\"Spike3D.pipeline\"):\n",
      "\t Module logger com.PhoHale.Spike3D.pipeline has file logging enabled and will log to EXTERNAL\\TESTING\\Logging\\debug_com.PhoHale.Spike3D.pipeline.log\n"
     ]
    },
    {
     "ename": "NameError",
     "evalue": "name 'curr_active_pipeline' is not defined",
     "output_type": "error",
     "traceback": [
      "\u001b[1;31m---------------------------------------------------------------------------\u001b[0m",
      "\u001b[1;31mNameError\u001b[0m                                 Traceback (most recent call last)",
      "\u001b[1;32mc:\\Users\\pho\\repos\\Spike3DWorkEnv\\Spike3D\\SCRATCH\\2023-09-21_jupyter_widget_playground.ipynb Cell 1\u001b[0m line \u001b[0;36m3\n\u001b[0;32m     <a href='vscode-notebook-cell:/c%3A/Users/pho/repos/Spike3DWorkEnv/Spike3D/SCRATCH/2023-09-21_jupyter_widget_playground.ipynb#W0sZmlsZQ%3D%3D?line=33'>34</a>\u001b[0m \u001b[39mfrom\u001b[39;00m \u001b[39mpyphocorehelpers\u001b[39;00m\u001b[39m.\u001b[39;00m\u001b[39mFilesystem\u001b[39;00m\u001b[39m.\u001b[39;00m\u001b[39mopen_in_system_file_manager\u001b[39;00m \u001b[39mimport\u001b[39;00m reveal_in_system_file_manager\n\u001b[0;32m     <a href='vscode-notebook-cell:/c%3A/Users/pho/repos/Spike3DWorkEnv/Spike3D/SCRATCH/2023-09-21_jupyter_widget_playground.ipynb#W0sZmlsZQ%3D%3D?line=34'>35</a>\u001b[0m \u001b[39mfrom\u001b[39;00m \u001b[39mpyphoplacecellanalysis\u001b[39;00m\u001b[39m.\u001b[39;00m\u001b[39mGUI\u001b[39;00m\u001b[39m.\u001b[39;00m\u001b[39mIPyWidgets\u001b[39;00m\u001b[39m.\u001b[39;00m\u001b[39mpipeline_ipywidgets\u001b[39;00m \u001b[39mimport\u001b[39;00m interactive_pipeline_widget, fullwidth_path_widget, interactive_pipeline_files\n\u001b[1;32m---> <a href='vscode-notebook-cell:/c%3A/Users/pho/repos/Spike3DWorkEnv/Spike3D/SCRATCH/2023-09-21_jupyter_widget_playground.ipynb#W0sZmlsZQ%3D%3D?line=36'>37</a>\u001b[0m _pipeline_jupyter_widget \u001b[39m=\u001b[39m interactive_pipeline_widget(curr_active_pipeline\u001b[39m=\u001b[39mcurr_active_pipeline)\n\u001b[0;32m     <a href='vscode-notebook-cell:/c%3A/Users/pho/repos/Spike3DWorkEnv/Spike3D/SCRATCH/2023-09-21_jupyter_widget_playground.ipynb#W0sZmlsZQ%3D%3D?line=37'>38</a>\u001b[0m \u001b[39m# display(_pipeline_jupyter_widget)\u001b[39;00m\n\u001b[0;32m     <a href='vscode-notebook-cell:/c%3A/Users/pho/repos/Spike3DWorkEnv/Spike3D/SCRATCH/2023-09-21_jupyter_widget_playground.ipynb#W0sZmlsZQ%3D%3D?line=38'>39</a>\u001b[0m _pipeline_jupyter_widget\n",
      "\u001b[1;31mNameError\u001b[0m: name 'curr_active_pipeline' is not defined"
     ]
    }
   ],
   "source": [
    "%config IPCompleter.use_jedi = False\n",
    "%pdb off\n",
    "# %load_ext viztracer\n",
    "# from viztracer import VizTracer\n",
    "%load_ext autoreload\n",
    "%autoreload 3\n",
    "import sys\n",
    "from pathlib import Path\n",
    "\n",
    "# required to enable non-blocking interaction:\n",
    "%gui qt5\n",
    "\n",
    "from copy import deepcopy\n",
    "from numba import jit\n",
    "import numpy as np\n",
    "import pandas as pd\n",
    "pd.options.mode.chained_assignment = None  # default='warn'\n",
    "# pd.options.mode.dtype_backend = 'pyarrow' # use new pyarrow backend instead of numpy\n",
    "from attrs import define, field, fields, Factory\n",
    "import tables as tb\n",
    "from datetime import datetime, timedelta\n",
    "\n",
    "# Pho's Formatting Preferences\n",
    "from pyphocorehelpers.preferences_helpers import set_pho_preferences, set_pho_preferences_concise, set_pho_preferences_verbose\n",
    "set_pho_preferences_concise()\n",
    "\n",
    "## Pho's Custom Libraries:\n",
    "from pyphocorehelpers.Filesystem.path_helpers import find_first_extant_path\n",
    "from pyphocorehelpers.Filesystem.open_in_system_file_manager import reveal_in_system_file_manager\n",
    "\n",
    "# Jupyter Widget Interactive\n",
    "import ipywidgets as widgets\n",
    "from IPython.display import display\n",
    "from pyphocorehelpers.Filesystem.open_in_system_file_manager import reveal_in_system_file_manager\n",
    "from pyphoplacecellanalysis.GUI.IPyWidgets.pipeline_ipywidgets import interactive_pipeline_widget, fullwidth_path_widget, interactive_pipeline_files\n",
    "\n",
    "_pipeline_jupyter_widget = interactive_pipeline_widget(curr_active_pipeline=curr_active_pipeline)\n",
    "# display(_pipeline_jupyter_widget)\n",
    "_pipeline_jupyter_widget"
   ]
  },
  {
   "cell_type": "code",
   "execution_count": 2,
   "metadata": {},
   "outputs": [
    {
     "data": {
      "application/vnd.jupyter.widget-view+json": {
       "model_id": "e81137ec1f784304b7d2cec81779e1b0",
       "version_major": 2,
       "version_minor": 0
      },
      "text/plain": [
       "Box(children=(Button(description='Click me', icon='check', layout=Layout(flex='0 1 auto', margin='0px', width=…"
      ]
     },
     "execution_count": 2,
     "metadata": {},
     "output_type": "execute_result"
    }
   ],
   "source": [
    "# <i class=\"fa-solid fa-clone\"></i>\n",
    "# form_item_layout = ipywidgets.Layout(\n",
    "#     display='flex',\n",
    "#     flex_flow='row',\n",
    "#     justify_content='space-between'\n",
    "# )\n",
    "\n",
    "icons = ['clock-rotate-left', 'folder-tree', 'rev', 'file-import', 'file-export', 'upload', 'download', 'file-zipper', 'box-archive', 'message', 'road', 'file-arrow-up', 'file-arrow-down']\n",
    "rendering_icons = ['vector-square', 'draw-polygon', 'object-group']\n",
    "\n",
    "button = widgets.Button(\n",
    "    description='Click me',\n",
    "\tlayout=widgets.Layout(flex='0 1 auto', width='auto', margin='0px'),\n",
    "    disabled=False,\n",
    "    button_style='', # 'success', 'info', 'warning', 'danger' or ''\n",
    "    tooltip='Click me',\n",
    "    icon='check' # (FontAwesome names without the `fa-` prefix)\n",
    ")\n",
    "secondary_button = widgets.Button(\n",
    "    description='',\n",
    "\tlayout=widgets.Layout(flex='0 1 auto', width='auto', margin='0px'), # means it won't grow beyond its content's width, can shrink if needed, and its basis is auto.\n",
    "    disabled=False,\n",
    "    button_style='info', # 'success', 'info', 'warning', 'danger' or ''\n",
    "    tooltip='Click me',\n",
    "    icon='clone' # (FontAwesome names without the `fa-` prefix)\n",
    ")\n",
    "another_button = widgets.Button(description='', layout=widgets.Layout(flex='0 1 auto', width='auto', margin='0px'), disabled=False, button_style='info', tooltip='Click me', icon='clone')\n",
    "\n",
    "# widgets.HBox([button, secondary_button])\n",
    "\n",
    "items_auto = [button, secondary_button, another_button]\n",
    "box_layout = widgets.Layout(display='flex', flex_flow='row', align_items='stretch', width='70%')\n",
    "box_auto = widgets.Box(children=items_auto, layout=box_layout)\n",
    "box_auto"
   ]
  }
 ],
 "metadata": {
  "kernelspec": {
   "display_name": ".venv",
   "language": "python",
   "name": "python3"
  },
  "language_info": {
   "codemirror_mode": {
    "name": "ipython",
    "version": 3
   },
   "file_extension": ".py",
   "mimetype": "text/x-python",
   "name": "python",
   "nbconvert_exporter": "python",
   "pygments_lexer": "ipython3",
   "version": "3.9.13"
  },
  "orig_nbformat": 4
 },
 "nbformat": 4,
 "nbformat_minor": 2
}
