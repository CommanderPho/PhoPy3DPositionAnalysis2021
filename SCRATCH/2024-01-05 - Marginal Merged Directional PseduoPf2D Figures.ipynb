{
 "cells": [
  {
   "cell_type": "code",
   "execution_count": null,
   "metadata": {},
   "outputs": [],
   "source": [
    "import pandas as pd\n",
    "import plotly.express as px\n",
    "from pathlib import Path\n",
    "\n",
    "laps_csv = Path('/home/halechr/FastData/collected_outputs/2024-01-04-kdiba_gor01_one_2006-6-09_1-22-43-(laps_marginals_df).csv').resolve()\n",
    "ripple_csv = Path('/home/halechr/FastData/collected_outputs/2024-01-04-kdiba_gor01_one_2006-6-09_1-22-43-(ripple_marginals_df).csv').resolve()\n",
    "\n",
    "# Load your data into a Pandas DataFrame\n",
    "df = pd.read_csv(laps_csv)\n",
    "\n",
    "# Create a bubble chart using Plotly Express\n",
    "fig = px.scatter(df, x='lap_start_t', y='P_Long') # , size='size_column', color='category_column'\n",
    "\n",
    "# Show the plot\n",
    "fig.show()"
   ]
  },
  {
   "cell_type": "code",
   "execution_count": null,
   "metadata": {},
   "outputs": [],
   "source": [
    "import pandas as pd\n",
    "import plotly.express as px\n",
    "from pathlib import Path\n",
    "\n",
    "def plot_laps_and_ripples(laps_csv, ripple_csv):\n",
    "    # Load data into Pandas DataFrames\n",
    "    laps_df = pd.read_csv(laps_csv)\n",
    "    ripple_df = pd.read_csv(ripple_csv)\n",
    "\n",
    "    # Create a bubble chart for laps\n",
    "    fig_laps = px.scatter(laps_df, x='lap_start_t', y='P_Long') \n",
    "\n",
    "    # Create a bubble chart for ripples\n",
    "    fig_ripples = px.scatter(ripple_df, x='ripple_start_t', y='P_Long') \n",
    "\n",
    "    # Return both figures\n",
    "    return fig_laps, fig_ripples\n",
    "\n",
    "# Example usage:\n",
    "laps_csv = Path('/home/halechr/FastData/collected_outputs/2024-01-04-kdiba_gor01_one_2006-6-09_1-22-43-(laps_marginals_df).csv').resolve()\n",
    "ripple_csv = Path('/home/halechr/FastData/collected_outputs/2024-01-04-kdiba_gor01_one_2006-6-09_1-22-43-(ripple_marginals_df).csv').resolve()\n",
    "\n",
    "fig_laps, fig_ripples = plot_laps_and_ripples(laps_csv, ripple_csv)\n",
    "\n",
    "# Show both plots\n",
    "fig_laps.show()\n",
    "fig_ripples.show()\n",
    "\n",
    "# Alternative CSVs for a different session in the same directory:\n",
    "laps_csv = Path('/home/halechr/FastData/collected_outputs/2024-01-04-kdiba_gor01_one_2006-6-12_15-55-31-(laps_marginals_df).csv').resolve()\n",
    "ripple_csv = Path('/home/halechr/FastData/collected_outputs/2024-01-04-kdiba_gor01_one_2006-6-12_15-55-31-(ripple_marginals_df).csv').resolve()\n",
    "\n",
    "\n"
   ]
  },
  {
   "cell_type": "code",
   "execution_count": 2,
   "metadata": {},
   "outputs": [
    {
     "name": "stdout",
     "output_type": "stream",
     "text": [
      "plot_all_sessions(directory: C:\\Users\\pho\\Desktop\\collected_outputs)\n",
      "\tfigures_folder: C:\\Users\\pho\\Desktop\\collected_outputs\\figures\n",
      "processing session_name: kdiba_gor01_one_2006\n",
      "\tsaving figures...\n",
      "\tsaving \"C:\\Users\\pho\\Desktop\\collected_outputs\\figures\\kdiba_gor01_one_2006_laps_marginal.png\"...\n",
      "\tsaving \"C:\\Users\\pho\\Desktop\\collected_outputs\\figures\\kdiba_gor01_one_2006_ripples_marginal.png\"...\n",
      "processing session_name: kdiba_gor01_one_2006\n",
      "\tsaving figures...\n",
      "\tsaving \"C:\\Users\\pho\\Desktop\\collected_outputs\\figures\\kdiba_gor01_one_2006_laps_marginal.png\"...\n",
      "\tsaving \"C:\\Users\\pho\\Desktop\\collected_outputs\\figures\\kdiba_gor01_one_2006_ripples_marginal.png\"...\n",
      "processing session_name: kdiba_gor01_one_2006\n",
      "\tsaving figures...\n",
      "\tsaving \"C:\\Users\\pho\\Desktop\\collected_outputs\\figures\\kdiba_gor01_one_2006_laps_marginal.png\"...\n",
      "\tsaving \"C:\\Users\\pho\\Desktop\\collected_outputs\\figures\\kdiba_gor01_one_2006_ripples_marginal.png\"...\n",
      "processing session_name: kdiba_gor01_two_2006\n",
      "\tsaving figures...\n",
      "\tsaving \"C:\\Users\\pho\\Desktop\\collected_outputs\\figures\\kdiba_gor01_two_2006_laps_marginal.png\"...\n",
      "\tsaving \"C:\\Users\\pho\\Desktop\\collected_outputs\\figures\\kdiba_gor01_two_2006_ripples_marginal.png\"...\n",
      "processing session_name: kdiba_pin01_one_11\n",
      "\tsaving figures...\n",
      "\tsaving \"C:\\Users\\pho\\Desktop\\collected_outputs\\figures\\kdiba_pin01_one_11_laps_marginal.png\"...\n",
      "\tsaving \"C:\\Users\\pho\\Desktop\\collected_outputs\\figures\\kdiba_pin01_one_11_ripples_marginal.png\"...\n",
      "processing session_name: kdiba_pin01_one_11\n",
      "\tsaving figures...\n",
      "\tsaving \"C:\\Users\\pho\\Desktop\\collected_outputs\\figures\\kdiba_pin01_one_11_laps_marginal.png\"...\n",
      "\tsaving \"C:\\Users\\pho\\Desktop\\collected_outputs\\figures\\kdiba_pin01_one_11_ripples_marginal.png\"...\n",
      "processing session_name: kdiba_pin01_one_fet11\n",
      "\tsaving figures...\n",
      "\tsaving \"C:\\Users\\pho\\Desktop\\collected_outputs\\figures\\kdiba_pin01_one_fet11_laps_marginal.png\"...\n",
      "\tsaving \"C:\\Users\\pho\\Desktop\\collected_outputs\\figures\\kdiba_pin01_one_fet11_ripples_marginal.png\"...\n",
      "processing session_name: kdiba_vvp01_one_2006\n",
      "\tsaving figures...\n",
      "\tsaving \"C:\\Users\\pho\\Desktop\\collected_outputs\\figures\\kdiba_vvp01_one_2006_laps_marginal.png\"...\n",
      "\tsaving \"C:\\Users\\pho\\Desktop\\collected_outputs\\figures\\kdiba_vvp01_one_2006_ripples_marginal.png\"...\n",
      "processing session_name: kdiba_vvp01_one_2006\n",
      "\tsaving figures...\n",
      "\tsaving \"C:\\Users\\pho\\Desktop\\collected_outputs\\figures\\kdiba_vvp01_one_2006_laps_marginal.png\"...\n",
      "\tsaving \"C:\\Users\\pho\\Desktop\\collected_outputs\\figures\\kdiba_vvp01_one_2006_ripples_marginal.png\"...\n"
     ]
    },
    {
     "data": {
      "application/vnd.plotly.v1+json": {
       "config": {
        "plotlyServerURL": "https://plot.ly"
       },
       "data": [
        {
         "hovertemplate": "lap_start_t=%{x}<br>P_Long=%{y}<extra></extra>",
         "legendgroup": "",
         "marker": {
          "color": "#636efa",
          "symbol": "circle"
         },
         "mode": "markers",
         "name": "",
         "orientation": "v",
         "showlegend": false,
         "type": "scatter",
         "x": [
          5.635866999975406,
          31.86253599997144,
          135.80169799993746,
          161.4588249999797,
          234.46598300000187,
          255.120847000042,
          294.0262070000172,
          314.0474329999415,
          499.299262000015,
          511.5791899999604,
          530.199254999985,
          558.3601999999955,
          584.3530060000485,
          599.2680110000074,
          616.8189990000101,
          645.746662999969,
          678.3138549999567,
          692.4283270000014,
          712.481599999941,
          734.3370720000239,
          750.487770000007,
          763.1330900000175,
          782.2524370000465,
          804.7419039999368,
          825.6948009999469,
          848.6870399999898,
          923.89484600001,
          941.8459550000262,
          971.8437469999772,
          997.2021759999916,
          1010.4823659999528,
          1035.5080799999414,
          1052.4248229999794,
          1068.0394739999902,
          1086.991663999972,
          1104.6100650000153,
          1123.5293059999822,
          1163.4365710000277,
          1179.0186919999542,
          1195.0345380000072,
          1237.7116199999582,
          1258.365557000041,
          1330.5371880000455,
          1342.8171239999356,
          1362.870562999975,
          1380.2544739999576,
          1394.3353489999429,
          1405.6136730000144,
          1413.8558600000106,
          1431.5052300000098,
          1551.660543999984,
          1561.971652999986,
          1574.651853000047,
          1588.5318210000405,
          1603.6802609999431,
          1610.7875860000495,
          1627.471716,
          1637.848449000041,
          1649.8277859999798,
          1665.0759609999368,
          1678.8888199999928,
          1692.6359879999654,
          1706.9501839999575,
          1714.8241269999417,
          1743.6891189999878,
          1751.995573000051,
          1894.741761000012,
          1901.381424000021,
          1917.864164000028,
          1928.8740830000024,
          1939.685820000013,
          1953.1667240000097,
          1971.9844929999672,
          1979.192745000008,
          1998.978808999993,
          2002.883509999956,
          2019.1314589999383,
          2026.0065960000504,
          2037.6175029999577,
          2057.637436000048
         ],
         "xaxis": "x",
         "y": [
          0.7859222970892616,
          0.8920902464948448,
          0.808181809887119,
          0.8946721055802893,
          0.6730357288579727,
          0.9042512270042578,
          0.8481038815078791,
          0.8917188610573898,
          0.8242366681800176,
          0.8506871493890484,
          0.7987559705848235,
          0.8473010498360313,
          0.7444584688089964,
          0.9340264878755894,
          0.7823821872632438,
          0.8165357002737825,
          0.7672930067243394,
          0.9657992141044136,
          0.7757607300933331,
          0.8095877221803642,
          0.8852691473377338,
          0.8935208499666565,
          0.7487150537997661,
          0.8349961695662225,
          0.7693533881021366,
          0.9421621369434132,
          0.7451736249169942,
          0.7710128609703686,
          0.7180768317793742,
          0.898391727814528,
          0.764754484282188,
          0.8932362950965064,
          0.8414205040133712,
          0.8183471019823162,
          0.7572152939405518,
          0.8632504361514644,
          0.7365456943705408,
          0.9029728994191096,
          0.8085651302789927,
          0.7742821727267222,
          0.6030231651961198,
          0.4719484524147179,
          0.4074089580142637,
          0.3839109491510441,
          0.3214422559541907,
          0.3410492332774417,
          0.3221750566971101,
          0.3148511546528099,
          0.2964952105991135,
          0.3338466836499152,
          0.3519072138954658,
          0.3366687139170019,
          0.3145169243876556,
          0.2569547343648261,
          0.3680011046830254,
          0.3243166306915254,
          0.3403086596646568,
          0.3494686860107492,
          0.3079077490540356,
          0.3312415652580627,
          0.388104141528089,
          0.2664369675847428,
          0.2849707701362887,
          0.3657907074946587,
          0.2964918369377727,
          0.3145879125506028,
          0.379175507099017,
          0.3243112784858342,
          0.3674504347181797,
          0.2632921558073247,
          0.3570174444147337,
          0.2693610697860473,
          0.3838476995924639,
          0.3764428431968003,
          0.272586759259033,
          0.2794901114971056,
          0.2932554322408977,
          0.3524014741618378,
          0.3293187013581472,
          0.267827747207749
         ],
         "yaxis": "y"
        }
       ],
       "layout": {
        "legend": {
         "tracegroupgap": 0
        },
        "template": {
         "data": {
          "bar": [
           {
            "error_x": {
             "color": "#2a3f5f"
            },
            "error_y": {
             "color": "#2a3f5f"
            },
            "marker": {
             "line": {
              "color": "#E5ECF6",
              "width": 0.5
             },
             "pattern": {
              "fillmode": "overlay",
              "size": 10,
              "solidity": 0.2
             }
            },
            "type": "bar"
           }
          ],
          "barpolar": [
           {
            "marker": {
             "line": {
              "color": "#E5ECF6",
              "width": 0.5
             },
             "pattern": {
              "fillmode": "overlay",
              "size": 10,
              "solidity": 0.2
             }
            },
            "type": "barpolar"
           }
          ],
          "carpet": [
           {
            "aaxis": {
             "endlinecolor": "#2a3f5f",
             "gridcolor": "white",
             "linecolor": "white",
             "minorgridcolor": "white",
             "startlinecolor": "#2a3f5f"
            },
            "baxis": {
             "endlinecolor": "#2a3f5f",
             "gridcolor": "white",
             "linecolor": "white",
             "minorgridcolor": "white",
             "startlinecolor": "#2a3f5f"
            },
            "type": "carpet"
           }
          ],
          "choropleth": [
           {
            "colorbar": {
             "outlinewidth": 0,
             "ticks": ""
            },
            "type": "choropleth"
           }
          ],
          "contour": [
           {
            "colorbar": {
             "outlinewidth": 0,
             "ticks": ""
            },
            "colorscale": [
             [
              0,
              "#0d0887"
             ],
             [
              0.1111111111111111,
              "#46039f"
             ],
             [
              0.2222222222222222,
              "#7201a8"
             ],
             [
              0.3333333333333333,
              "#9c179e"
             ],
             [
              0.4444444444444444,
              "#bd3786"
             ],
             [
              0.5555555555555556,
              "#d8576b"
             ],
             [
              0.6666666666666666,
              "#ed7953"
             ],
             [
              0.7777777777777778,
              "#fb9f3a"
             ],
             [
              0.8888888888888888,
              "#fdca26"
             ],
             [
              1,
              "#f0f921"
             ]
            ],
            "type": "contour"
           }
          ],
          "contourcarpet": [
           {
            "colorbar": {
             "outlinewidth": 0,
             "ticks": ""
            },
            "type": "contourcarpet"
           }
          ],
          "heatmap": [
           {
            "colorbar": {
             "outlinewidth": 0,
             "ticks": ""
            },
            "colorscale": [
             [
              0,
              "#0d0887"
             ],
             [
              0.1111111111111111,
              "#46039f"
             ],
             [
              0.2222222222222222,
              "#7201a8"
             ],
             [
              0.3333333333333333,
              "#9c179e"
             ],
             [
              0.4444444444444444,
              "#bd3786"
             ],
             [
              0.5555555555555556,
              "#d8576b"
             ],
             [
              0.6666666666666666,
              "#ed7953"
             ],
             [
              0.7777777777777778,
              "#fb9f3a"
             ],
             [
              0.8888888888888888,
              "#fdca26"
             ],
             [
              1,
              "#f0f921"
             ]
            ],
            "type": "heatmap"
           }
          ],
          "heatmapgl": [
           {
            "colorbar": {
             "outlinewidth": 0,
             "ticks": ""
            },
            "colorscale": [
             [
              0,
              "#0d0887"
             ],
             [
              0.1111111111111111,
              "#46039f"
             ],
             [
              0.2222222222222222,
              "#7201a8"
             ],
             [
              0.3333333333333333,
              "#9c179e"
             ],
             [
              0.4444444444444444,
              "#bd3786"
             ],
             [
              0.5555555555555556,
              "#d8576b"
             ],
             [
              0.6666666666666666,
              "#ed7953"
             ],
             [
              0.7777777777777778,
              "#fb9f3a"
             ],
             [
              0.8888888888888888,
              "#fdca26"
             ],
             [
              1,
              "#f0f921"
             ]
            ],
            "type": "heatmapgl"
           }
          ],
          "histogram": [
           {
            "marker": {
             "pattern": {
              "fillmode": "overlay",
              "size": 10,
              "solidity": 0.2
             }
            },
            "type": "histogram"
           }
          ],
          "histogram2d": [
           {
            "colorbar": {
             "outlinewidth": 0,
             "ticks": ""
            },
            "colorscale": [
             [
              0,
              "#0d0887"
             ],
             [
              0.1111111111111111,
              "#46039f"
             ],
             [
              0.2222222222222222,
              "#7201a8"
             ],
             [
              0.3333333333333333,
              "#9c179e"
             ],
             [
              0.4444444444444444,
              "#bd3786"
             ],
             [
              0.5555555555555556,
              "#d8576b"
             ],
             [
              0.6666666666666666,
              "#ed7953"
             ],
             [
              0.7777777777777778,
              "#fb9f3a"
             ],
             [
              0.8888888888888888,
              "#fdca26"
             ],
             [
              1,
              "#f0f921"
             ]
            ],
            "type": "histogram2d"
           }
          ],
          "histogram2dcontour": [
           {
            "colorbar": {
             "outlinewidth": 0,
             "ticks": ""
            },
            "colorscale": [
             [
              0,
              "#0d0887"
             ],
             [
              0.1111111111111111,
              "#46039f"
             ],
             [
              0.2222222222222222,
              "#7201a8"
             ],
             [
              0.3333333333333333,
              "#9c179e"
             ],
             [
              0.4444444444444444,
              "#bd3786"
             ],
             [
              0.5555555555555556,
              "#d8576b"
             ],
             [
              0.6666666666666666,
              "#ed7953"
             ],
             [
              0.7777777777777778,
              "#fb9f3a"
             ],
             [
              0.8888888888888888,
              "#fdca26"
             ],
             [
              1,
              "#f0f921"
             ]
            ],
            "type": "histogram2dcontour"
           }
          ],
          "mesh3d": [
           {
            "colorbar": {
             "outlinewidth": 0,
             "ticks": ""
            },
            "type": "mesh3d"
           }
          ],
          "parcoords": [
           {
            "line": {
             "colorbar": {
              "outlinewidth": 0,
              "ticks": ""
             }
            },
            "type": "parcoords"
           }
          ],
          "pie": [
           {
            "automargin": true,
            "type": "pie"
           }
          ],
          "scatter": [
           {
            "fillpattern": {
             "fillmode": "overlay",
             "size": 10,
             "solidity": 0.2
            },
            "type": "scatter"
           }
          ],
          "scatter3d": [
           {
            "line": {
             "colorbar": {
              "outlinewidth": 0,
              "ticks": ""
             }
            },
            "marker": {
             "colorbar": {
              "outlinewidth": 0,
              "ticks": ""
             }
            },
            "type": "scatter3d"
           }
          ],
          "scattercarpet": [
           {
            "marker": {
             "colorbar": {
              "outlinewidth": 0,
              "ticks": ""
             }
            },
            "type": "scattercarpet"
           }
          ],
          "scattergeo": [
           {
            "marker": {
             "colorbar": {
              "outlinewidth": 0,
              "ticks": ""
             }
            },
            "type": "scattergeo"
           }
          ],
          "scattergl": [
           {
            "marker": {
             "colorbar": {
              "outlinewidth": 0,
              "ticks": ""
             }
            },
            "type": "scattergl"
           }
          ],
          "scattermapbox": [
           {
            "marker": {
             "colorbar": {
              "outlinewidth": 0,
              "ticks": ""
             }
            },
            "type": "scattermapbox"
           }
          ],
          "scatterpolar": [
           {
            "marker": {
             "colorbar": {
              "outlinewidth": 0,
              "ticks": ""
             }
            },
            "type": "scatterpolar"
           }
          ],
          "scatterpolargl": [
           {
            "marker": {
             "colorbar": {
              "outlinewidth": 0,
              "ticks": ""
             }
            },
            "type": "scatterpolargl"
           }
          ],
          "scatterternary": [
           {
            "marker": {
             "colorbar": {
              "outlinewidth": 0,
              "ticks": ""
             }
            },
            "type": "scatterternary"
           }
          ],
          "surface": [
           {
            "colorbar": {
             "outlinewidth": 0,
             "ticks": ""
            },
            "colorscale": [
             [
              0,
              "#0d0887"
             ],
             [
              0.1111111111111111,
              "#46039f"
             ],
             [
              0.2222222222222222,
              "#7201a8"
             ],
             [
              0.3333333333333333,
              "#9c179e"
             ],
             [
              0.4444444444444444,
              "#bd3786"
             ],
             [
              0.5555555555555556,
              "#d8576b"
             ],
             [
              0.6666666666666666,
              "#ed7953"
             ],
             [
              0.7777777777777778,
              "#fb9f3a"
             ],
             [
              0.8888888888888888,
              "#fdca26"
             ],
             [
              1,
              "#f0f921"
             ]
            ],
            "type": "surface"
           }
          ],
          "table": [
           {
            "cells": {
             "fill": {
              "color": "#EBF0F8"
             },
             "line": {
              "color": "white"
             }
            },
            "header": {
             "fill": {
              "color": "#C8D4E3"
             },
             "line": {
              "color": "white"
             }
            },
            "type": "table"
           }
          ]
         },
         "layout": {
          "annotationdefaults": {
           "arrowcolor": "#2a3f5f",
           "arrowhead": 0,
           "arrowwidth": 1
          },
          "autotypenumbers": "strict",
          "coloraxis": {
           "colorbar": {
            "outlinewidth": 0,
            "ticks": ""
           }
          },
          "colorscale": {
           "diverging": [
            [
             0,
             "#8e0152"
            ],
            [
             0.1,
             "#c51b7d"
            ],
            [
             0.2,
             "#de77ae"
            ],
            [
             0.3,
             "#f1b6da"
            ],
            [
             0.4,
             "#fde0ef"
            ],
            [
             0.5,
             "#f7f7f7"
            ],
            [
             0.6,
             "#e6f5d0"
            ],
            [
             0.7,
             "#b8e186"
            ],
            [
             0.8,
             "#7fbc41"
            ],
            [
             0.9,
             "#4d9221"
            ],
            [
             1,
             "#276419"
            ]
           ],
           "sequential": [
            [
             0,
             "#0d0887"
            ],
            [
             0.1111111111111111,
             "#46039f"
            ],
            [
             0.2222222222222222,
             "#7201a8"
            ],
            [
             0.3333333333333333,
             "#9c179e"
            ],
            [
             0.4444444444444444,
             "#bd3786"
            ],
            [
             0.5555555555555556,
             "#d8576b"
            ],
            [
             0.6666666666666666,
             "#ed7953"
            ],
            [
             0.7777777777777778,
             "#fb9f3a"
            ],
            [
             0.8888888888888888,
             "#fdca26"
            ],
            [
             1,
             "#f0f921"
            ]
           ],
           "sequentialminus": [
            [
             0,
             "#0d0887"
            ],
            [
             0.1111111111111111,
             "#46039f"
            ],
            [
             0.2222222222222222,
             "#7201a8"
            ],
            [
             0.3333333333333333,
             "#9c179e"
            ],
            [
             0.4444444444444444,
             "#bd3786"
            ],
            [
             0.5555555555555556,
             "#d8576b"
            ],
            [
             0.6666666666666666,
             "#ed7953"
            ],
            [
             0.7777777777777778,
             "#fb9f3a"
            ],
            [
             0.8888888888888888,
             "#fdca26"
            ],
            [
             1,
             "#f0f921"
            ]
           ]
          },
          "colorway": [
           "#636efa",
           "#EF553B",
           "#00cc96",
           "#ab63fa",
           "#FFA15A",
           "#19d3f3",
           "#FF6692",
           "#B6E880",
           "#FF97FF",
           "#FECB52"
          ],
          "font": {
           "color": "#2a3f5f"
          },
          "geo": {
           "bgcolor": "white",
           "lakecolor": "white",
           "landcolor": "#E5ECF6",
           "showlakes": true,
           "showland": true,
           "subunitcolor": "white"
          },
          "hoverlabel": {
           "align": "left"
          },
          "hovermode": "closest",
          "mapbox": {
           "style": "light"
          },
          "paper_bgcolor": "white",
          "plot_bgcolor": "#E5ECF6",
          "polar": {
           "angularaxis": {
            "gridcolor": "white",
            "linecolor": "white",
            "ticks": ""
           },
           "bgcolor": "#E5ECF6",
           "radialaxis": {
            "gridcolor": "white",
            "linecolor": "white",
            "ticks": ""
           }
          },
          "scene": {
           "xaxis": {
            "backgroundcolor": "#E5ECF6",
            "gridcolor": "white",
            "gridwidth": 2,
            "linecolor": "white",
            "showbackground": true,
            "ticks": "",
            "zerolinecolor": "white"
           },
           "yaxis": {
            "backgroundcolor": "#E5ECF6",
            "gridcolor": "white",
            "gridwidth": 2,
            "linecolor": "white",
            "showbackground": true,
            "ticks": "",
            "zerolinecolor": "white"
           },
           "zaxis": {
            "backgroundcolor": "#E5ECF6",
            "gridcolor": "white",
            "gridwidth": 2,
            "linecolor": "white",
            "showbackground": true,
            "ticks": "",
            "zerolinecolor": "white"
           }
          },
          "shapedefaults": {
           "line": {
            "color": "#2a3f5f"
           }
          },
          "ternary": {
           "aaxis": {
            "gridcolor": "white",
            "linecolor": "white",
            "ticks": ""
           },
           "baxis": {
            "gridcolor": "white",
            "linecolor": "white",
            "ticks": ""
           },
           "bgcolor": "#E5ECF6",
           "caxis": {
            "gridcolor": "white",
            "linecolor": "white",
            "ticks": ""
           }
          },
          "title": {
           "x": 0.05
          },
          "xaxis": {
           "automargin": true,
           "gridcolor": "white",
           "linecolor": "white",
           "ticks": "",
           "title": {
            "standoff": 15
           },
           "zerolinecolor": "white",
           "zerolinewidth": 2
          },
          "yaxis": {
           "automargin": true,
           "gridcolor": "white",
           "linecolor": "white",
           "ticks": "",
           "title": {
            "standoff": 15
           },
           "zerolinecolor": "white",
           "zerolinewidth": 2
          }
         }
        },
        "title": {
         "text": "Laps - Session: kdiba_gor01_one_2006"
        },
        "xaxis": {
         "anchor": "y",
         "domain": [
          0,
          1
         ],
         "title": {
          "text": "lap_start_t"
         }
        },
        "yaxis": {
         "anchor": "x",
         "domain": [
          0,
          1
         ],
         "title": {
          "text": "P_Long"
         }
        }
       }
      }
     },
     "metadata": {},
     "output_type": "display_data"
    },
    {
     "data": {
      "application/vnd.plotly.v1+json": {
       "config": {
        "plotlyServerURL": "https://plot.ly"
       },
       "data": [
        {
         "hovertemplate": "ripple_start_t=%{x}<br>P_Long=%{y}<extra></extra>",
         "legendgroup": "",
         "marker": {
          "color": "#636efa",
          "symbol": "circle"
         },
         "mode": "markers",
         "name": "",
         "orientation": "v",
         "showlegend": false,
         "type": "scatter",
         "x": [
          40.18717686412856,
          41.01191628188826,
          43.42970192397479,
          44.189867934794165,
          44.58873621060047,
          45.13711864978541,
          45.37971436558291,
          45.99432909092866,
          47.136958905961365,
          53.62130246590823,
          54.2413239084417,
          56.076658648788,
          57.517978870891966,
          60.99154893239029,
          61.39714488468599,
          63.616141508566216,
          64.8765824631555,
          68.42913360428065,
          69.89036037609912,
          71.01701579929795,
          72.44150146993343,
          72.60692858521361,
          75.43215337884612,
          75.97887693881057,
          77.73513843957335,
          79.06933807651512,
          80.53259236738086,
          81.42393271101173,
          82.11270547832828,
          83.10394721082412,
          85.18513398524374,
          91.57839279191104,
          93.9214674322866,
          95.29790704755578,
          146.62476460821927,
          146.972361230175,
          147.88391532353126,
          168.1553571044933,
          170.01926143025048,
          170.9857735753758,
          171.51001010695472,
          172.0057384930551,
          172.61946233885828,
          179.6001794047188,
          180.55259107705209,
          181.69227177358695,
          182.40055173099967,
          187.55256957316303,
          188.79725117585625,
          191.17642179771792,
          192.2470439694589,
          193.6476294924505,
          195.43203049874865,
          196.43562166497577,
          196.7094903247198,
          197.78985073161311,
          198.3746056322707,
          200.4138903481653,
          204.16218922904227,
          210.71172059560195,
          211.2652947121533,
          217.6339468114311,
          218.1074032089673,
          218.7308038498741,
          240.48835559003052,
          241.69159593398217,
          242.53753214073367,
          263.52072523743846,
          264.3497654529056,
          266.0746004098328,
          267.60596090578474,
          268.031739887665,
          282.8725028493209,
          289.79644938430283,
          293.6657542830799,
          303.68252739449963,
          305.15002104325686,
          306.0097505230224,
          320.3834161236882,
          321.8353040203219,
          323.9683768481482,
          325.4952522264793,
          334.2719210127834,
          335.7344687439036,
          336.2438982431777,
          337.661441197386,
          338.4253857663134,
          339.8382285628468,
          341.70892200502567,
          344.0327352152672,
          345.57374178629834,
          347.54783869558014,
          349.59805972583126,
          350.4017866742797,
          354.33434402092826,
          355.5464317202568,
          356.2139462584164,
          364.5512271097396,
          366.002285566763,
          367.8531646191841,
          368.74106432462577,
          371.9963381778216,
          372.9838935122825,
          380.2587851474527,
          382.6801650277339,
          383.3367739715613,
          388.9788062828593,
          390.0027340786765,
          393.8348677965114,
          396.6232593288878,
          398.6011347962776,
          399.4331855701748,
          400.02279422828,
          401.39379640633706,
          401.9765237879474,
          408.4134664123412,
          409.8039757803781,
          412.0090869712876,
          418.8519020278473,
          419.6513896185206,
          421.3471941902535,
          423.7594195151469,
          425.0517478134716,
          427.09831316571217,
          427.4117798851803,
          431.349006669363,
          431.7573059801944,
          432.066041822196,
          432.8584945364855,
          434.1020394997904,
          436.82889890356455,
          437.433406754164,
          437.87242604931816,
          442.07089557976,
          442.87078253016807,
          443.66630724282,
          444.8690867869882,
          446.05527753965,
          446.7299498342909,
          447.3267469687853,
          449.6167681962252,
          450.2456984341843,
          451.8908457518555,
          456.2300742502557,
          485.0464639762649,
          486.62943404575344,
          487.1746830465272,
          489.0533944047056,
          491.1764832376503,
          505.1781605487922,
          506.9299062119098,
          518.5373908288311,
          519.0428574500838,
          520.2642225847812,
          522.2332814164693,
          523.1170646441169,
          523.8508421883453,
          542.6856946249027,
          543.3249160576379,
          544.7929319461109,
          545.7439919391181,
          546.4092639185255,
          548.4058785762172,
          549.9276237171143,
          550.6099452876952,
          551.200813465286,
          555.2229502858827,
          555.9870177346747,
          557.4730355337961,
          565.6714927762514,
          566.7957213205518,
          568.4564743902301,
          571.0609146568459,
          577.354917194345,
          593.7204051351873,
          595.3418059051037,
          597.2838004307123,
          605.7753877630457,
          607.6728997514583,
          609.0080824278994,
          609.2087146451231,
          616.6023082996253,
          628.4228974474827,
          628.9665797291091,
          630.8579477206804,
          634.9993702403735,
          635.28251633537,
          637.0686683808453,
          663.5660064943368,
          663.8426399525488,
          664.5054543332662,
          668.2819541597273,
          686.6125073343283,
          688.1642966199433,
          689.0633169596549,
          697.646419125027,
          698.6310867809225,
          700.4977559051476,
          701.5541547242319,
          702.992126467987,
          710.962948626955,
          723.0092067793012,
          724.5876302911201,
          726.2700409496902,
          727.8944215581287,
          728.279465841013,
          741.5870251074666,
          743.1663702188525,
          744.1219767695293,
          749.2468688655645,
          749.621068994049,
          756.6267306871014,
          759.1377514814958,
          759.8392730422784,
          760.8865480261156,
          761.4340703057824,
          769.4421250856249,
          770.4333053781884,
          770.8081506262533,
          773.0242595715681,
          773.7267027319176,
          792.5440447775181,
          793.8551122662611,
          794.9052442085231,
          799.0352081740275,
          799.3660931244958,
          799.9268557174364,
          812.3640871096868,
          812.8183435170213,
          813.9961784339976,
          815.2674021031708,
          816.5825860697078,
          836.7703466136009,
          838.5046126056695,
          841.4415045420174,
          842.3525978354737,
          844.7022465525661,
          854.0122142657638,
          854.8058036194416,
          855.1077503449051,
          856.0213626769837,
          857.2980852234177,
          858.0319856476272,
          866.9338076498825,
          867.6548671207856,
          868.726748811896,
          869.7839156306582,
          873.3771400308469,
          874.618780355202,
          875.4859747911105,
          877.5203443096252,
          878.106266569579,
          879.001815551077,
          879.7016167927068,
          880.8655662768288,
          881.9749877888244,
          884.7213236627867,
          885.4726115980884,
          886.560774880927,
          887.3643789495109,
          888.0128163774498,
          889.0956651030574,
          893.3818401885219,
          894.8113946566591,
          895.54578660056,
          895.7560341728386,
          897.7576254681917,
          898.6978105866583,
          899.6865332805319,
          900.5764605049044,
          903.5285281133838,
          904.7792308330536,
          905.1085797843988,
          906.0677805732704,
          906.4738987653982,
          907.4688883359776,
          908.9745362050598,
          909.2314781534952,
          909.7037671916188,
          911.215251857764,
          912.1846209614304,
          913.8276793202384,
          914.4281014128356,
          917.296641384135,
          919.9342285137392,
          938.2488380166468,
          938.6704083607764,
          951.7261251962044,
          956.8065040350192,
          957.6652197553776,
          967.7377803582932,
          970.36467693327,
          986.0615136965644,
          986.502929150476,
          1002.7722021006048,
          1003.2831061590696,
          1004.646704820916,
          1006.0013025273802,
          1025.2325656409375,
          1025.800916070002,
          1029.762227321742,
          1030.8758267515805,
          1041.536060653627,
          1043.859720263863,
          1049.408486702945,
          1061.703515287838,
          1062.6002623486563,
          1064.5033346542623,
          1074.9269325174391,
          1077.024892403162,
          1078.142976950854,
          1078.7693267101422,
          1100.946421275381,
          1101.918954537483,
          1102.8357617480217,
          1110.2428107557353,
          1110.753561214311,
          1111.0125306816772,
          1111.9411343660904,
          1113.0496957185678,
          1113.8701036185955,
          1121.0726496907882,
          1131.4107231176458,
          1132.9212861843407,
          1133.103087051306,
          1134.4650882739809,
          1136.947447322891,
          1137.873685568804,
          1150.1741515907925,
          1151.658418350853,
          1151.971147790784,
          1152.5580223702127,
          1153.4512673529098,
          1153.8317343582166,
          1158.408551214845,
          1158.8209055637708,
          1168.0025866227224,
          1169.1610065095592,
          1171.1243514242817,
          1171.8088848339394,
          1189.8647706293268,
          1191.678478500573,
          1204.4712937107545,
          1204.9615232197102,
          1206.2270636918256,
          1219.6921857575653,
          1221.712178323418,
          1222.880950844963,
          1223.7830124631291,
          1245.3215921553783,
          1247.1164072364336,
          1247.8728561291937,
          1252.4050061287126,
          1265.8960251412354,
          1266.817532509449,
          1267.9948759066174,
          1276.405024560634,
          1280.9326587225078,
          1282.3512461561477,
          1283.289864555583,
          1284.7387726138113,
          1285.3687780512264,
          1286.5487326470902,
          1288.5806445666822,
          1289.3009053179994,
          1289.805911139469,
          1296.292036458501,
          1297.249670528225,
          1299.4992335364225,
          1300.263700344949,
          1301.960211476311,
          1302.9019940341825,
          1303.7325395289809,
          1304.7208628628869,
          1305.322943834588,
          1306.5185041824589,
          1307.8926397989271,
          1308.4035745774163,
          1309.0571422427893,
          1311.0796538471477,
          1311.825381465489,
          1312.7003787774593,
          1314.7682330786483,
          1316.8469008143293,
          1318.3050863078097,
          1320.3644004534,
          1325.176040869905,
          1337.1665422507797,
          1337.996995585621,
          1346.5928465444597,
          1348.788219500566,
          1349.2178384804863,
          1350.585400020238,
          1352.2054183909204,
          1352.895419957582,
          1353.2649506482994,
          1367.6545906409156,
          1368.4819719771622,
          1370.0166502314387,
          1378.883420731756,
          1384.4603881163057,
          1385.2373579585692,
          1385.4617981635963,
          1387.3365159237292,
          1388.514166520792,
          1389.2361475910293,
          1400.554464996094,
          1401.2297516902909,
          1401.8962524691597,
          1410.606688969419,
          1412.8892145208083,
          1423.9368274243316,
          1424.4992181764685,
          1425.5671369896736,
          1436.0121159617556,
          1436.470918926876,
          1436.9121193409665,
          1444.6999118336244,
          1446.284479342401,
          1446.7802077285014,
          1448.2546133736614,
          1450.0631602877984,
          1452.838495826698,
          1453.568802012829,
          1454.7468519696267,
          1455.906654255814,
          1456.6988612102575,
          1458.2298837862909,
          1459.7187278240451,
          1460.6376854334958,
          1461.532282095519,
          1462.9671511208871,
          1464.0666807978414,
          1467.9341424977174,
          1469.0033515503164,
          1472.3882637372008,
          1474.1138359737815,
          1474.7740084356628,
          1476.9449590041768,
          1477.3435815201374,
          1478.2462268178351,
          1480.376319807372,
          1481.1272391029634,
          1482.601306828088,
          1485.1448600857984,
          1485.887853625347,
          1486.9356815690408,
          1492.9343421775848,
          1493.482601736905,
          1494.7866036292398,
          1496.109651911887,
          1498.893589046551,
          1501.7752771710511,
          1504.2998454784974,
          1507.34775943798,
          1510.9529339121657,
          1512.0764251769288,
          1513.6191213470884,
          1514.5671093417332,
          1515.4171005864628,
          1519.637350585661,
          1522.342337360722,
          1523.4087816147369,
          1524.7825178713538,
          1526.1444576540962,
          1530.5465392401677,
          1533.4032827375922,
          1536.6013867000584,
          1539.0197867418174,
          1539.6310222689062,
          1540.9990446085576,
          1542.4588582611177,
          1544.0001413119026,
          1547.1920398377115,
          1549.9494963458274,
          1570.1596210383575,
          1584.0858807881596,
          1584.5136258490384,
          1592.1177435556892,
          1593.505488125258,
          1595.7039330796106,
          1618.0256880508969,
          1620.6010057723615,
          1633.0297277288046,
          1633.8345605967334,
          1635.4356247369433,
          1644.7288807788864,
          1645.230323082069,
          1645.7393839414,
          1646.1947769883554,
          1656.150294451043,
          1657.3193741724826,
          1658.4986836486496,
          1661.5027601905167,
          1670.4153034674237,
          1670.848854605341,
          1672.3000973823946,
          1678.603592395084,
          1683.3024597491603,
          1686.0487956231227,
          1688.8977055244611,
          1697.4682124962565,
          1699.039478251827,
          1699.6910798382014,
          1711.3087327699177,
          1721.8193910685368,
          1722.613963461714,
          1724.504010493867,
          1726.5798519911475,
          1732.0770395766012,
          1735.089686994208,
          1737.9290122603998,
          1738.681191075244,
          1740.0911461933283,
          1756.7282909550704,
          1757.1905959984288,
          1758.1446051100502,
          1766.2906847791746,
          1768.1132400060303,
          1769.958036501543,
          1771.5558136034524,
          1773.073442266323,
          1773.5510151418855,
          1774.4367337283911,
          1778.7316640093925,
          1780.3569047772326,
          1781.819452508469,
          1787.6742207108764,
          1789.7614593221806,
          1792.4238067590632,
          1795.8994657794246,
          1797.0363202374429,
          1797.6000626687892,
          1802.02748824202,
          1807.3398644019617,
          1808.4362606406207,
          1811.138329017209,
          1812.169875369058,
          1812.7952420888469,
          1818.493983491091,
          1819.311810912332,
          1820.159498158377,
          1821.9392911671891,
          1823.6060960737525,
          1824.5429941539187,
          1826.419800873031,
          1829.890974775888,
          1830.3056945635471,
          1830.707081877976,
          1832.0603586251384,
          1832.5435532577103,
          1835.038845420233,
          1836.2542201578617,
          1838.4011784185425,
          1840.474500877084,
          1841.2498425600352,
          1841.946080283611,
          1848.991524356301,
          1850.880680509028,
          1853.5746695298003,
          1854.4999554561216,
          1855.422169383848,
          1857.0769320566903,
          1858.982984200702,
          1859.245087106596,
          1861.0268461942903,
          1862.271282037138,
          1865.2742526595248,
          1866.8093917137007,
          1870.4667287210468,
          1872.2747226753272,
          1874.524654323352,
          1876.3226950027747,
          1878.149766067276,
          1879.3274781043876,
          1880.4551780070176,
          1885.974176781252,
          1889.6817102429925,
          1892.267718518968,
          1892.8614436549835,
          1893.568126173108,
          1907.774091379717,
          1909.40833310294,
          1915.87381459272,
          1917.15926161455,
          1917.4412403501335,
          1923.40349777753,
          1925.0501196542757,
          1925.717787792557,
          1934.2130000828763,
          1964.8949530138636,
          1966.049164262833,
          1966.7027626482304,
          1971.050715622143,
          1977.6023973876145,
          1978.9671634088736,
          1991.163150764536,
          1992.141152183758,
          1992.924050982925,
          1998.4526651122144,
          2009.7911348269556,
          2011.812663391931,
          2018.306622307049,
          2024.9071488475893,
          2033.3439624479504,
          2033.5834861652693,
          2034.6551528165585,
          2043.8921912872463,
          2045.0954316310815,
          2051.142291895114,
          2053.276532082469
         ],
         "xaxis": "x",
         "y": [
          0.5721312273752601,
          0.508114257050981,
          0.6281146626827689,
          0.5377821388637891,
          0.4672056079824949,
          0.6809761165402093,
          0.6560051749631511,
          0.6383092704827266,
          0.5892495806818205,
          0.706530501462121,
          0.8055240405728255,
          0.6460583799589663,
          0.6377174840212383,
          0.6609986736605287,
          0.5218636975512323,
          0.6406143383879397,
          0.7003807300642576,
          0.5956729751638948,
          0.5715543927914025,
          0.7760281935174774,
          0.6812179832980625,
          0.6507017368454154,
          0.6751288744159166,
          0.6668473442287369,
          0.6921478763153752,
          0.5769075922230789,
          0.7890335807294876,
          0.6393936525707112,
          0.470244644568814,
          0.5295518273859126,
          0.600977128571982,
          0.6343642464632678,
          0.5852133360376144,
          0.5556891226571123,
          0.5807150841417467,
          0.5610685464844211,
          0.5748660087661598,
          0.5087646940637869,
          0.5816569779350208,
          0.6347203560189771,
          0.6622455335218213,
          0.5509059637577308,
          0.564415061848843,
          0.5430123264233153,
          0.4914265203991194,
          0.6443439035044987,
          0.7327455789685955,
          0.7463259556849204,
          0.671565094142964,
          0.5420319431956334,
          0.6369971676797297,
          0.6756835173266659,
          0.652560383218031,
          0.6222154118415141,
          0.6381277304180382,
          0.6227829073757652,
          0.5506730122947261,
          0.6377240966673478,
          0.7763714587139463,
          0.6030544840850597,
          0.6120889042233062,
          0.552917137664792,
          0.5342960150522992,
          0.5058950899280641,
          0.68171802732146,
          0.6934862570651246,
          0.8648056712894938,
          0.4838599604562635,
          0.608213408328806,
          0.6949865043357145,
          0.618340914512577,
          0.7684339565295785,
          0.6641044077976667,
          0.6212846550440809,
          0.4530022912345101,
          0.6912429904311258,
          0.7095505858371564,
          0.6302911424160322,
          0.5376222911654562,
          0.5921150063666037,
          0.547901401022963,
          0.7809926276410342,
          0.6218381840100484,
          0.6998744685626952,
          0.4956829322926462,
          0.5626465378172177,
          0.5391804558568386,
          0.5743740510367039,
          0.6475310426108801,
          0.6075526286815986,
          0.72849459549332,
          0.6868556493084736,
          0.5848229979780195,
          0.4908847510979992,
          0.3983319694558749,
          0.761445442274759,
          0.6440423795637281,
          0.6681045605179953,
          0.4984468324836171,
          0.6113991187228649,
          0.543800259334488,
          0.5944913082392107,
          0.6644521049841345,
          0.5814270190210413,
          0.6484295836778885,
          0.5693835509406293,
          0.4788908088902604,
          0.4801323122664758,
          0.4973288175819867,
          0.5809100310243155,
          0.718317200589093,
          0.6982614199505736,
          0.6237749673186854,
          0.5755995269577897,
          0.6077219838618935,
          0.5387546250812932,
          0.6231925261140038,
          0.734903981853686,
          0.6196586806013165,
          0.6741074283695193,
          0.6446026427313907,
          0.5368164173345221,
          0.5996829719396174,
          0.4772594440434727,
          0.7867770352770552,
          0.663750482167905,
          0.4565862294895478,
          0.6696768623991314,
          0.4444723763032217,
          0.7380164307128219,
          0.461933424678562,
          0.5661548410206737,
          0.3816306039170979,
          0.5677683748510551,
          0.7826952210759801,
          0.5872288527700574,
          0.6433913085454018,
          0.5592848376347926,
          0.6365276418915324,
          0.8052315823765429,
          0.6698097138580748,
          0.7377582036535131,
          0.5372592961889424,
          0.6378477060898785,
          0.6660040451122942,
          0.7616784295585742,
          0.5029734245905446,
          0.8169072798749654,
          0.558605941293747,
          0.8638955850936388,
          0.8896778689967855,
          0.6219534635161232,
          0.5947569042232873,
          0.7333394429989996,
          0.6082808094248242,
          0.7429980280960089,
          0.5841238755976552,
          0.4727279060283592,
          0.8962781479428497,
          0.5002138192433416,
          0.5127304824794486,
          0.9007720882271149,
          0.6337054902000675,
          0.6137764552717366,
          0.4980403285556762,
          0.5107073254298085,
          0.4446543379810221,
          0.52578104810076,
          0.8053908895726176,
          0.4610701162848669,
          0.6031858509697688,
          0.4922067254330999,
          0.7050440511793263,
          0.5527418907591287,
          0.5933422513060728,
          0.6429397129656912,
          0.6893372048566513,
          0.7037044983009783,
          0.6266144073613877,
          0.8173706251841262,
          0.7473924422869852,
          0.7305727394437912,
          0.7495480110708485,
          0.5363379953109033,
          0.6350286446909875,
          0.4803388944075522,
          0.6018590687969413,
          0.5894343562063398,
          0.6646836196798116,
          0.5733202532084671,
          0.5044700162807821,
          0.5809980580480225,
          0.6148293384740037,
          0.9308668462302978,
          0.6428271437657899,
          0.5809158306435738,
          0.50949401367602,
          0.6953011029976257,
          0.7012481735866182,
          0.6903299919584898,
          0.6837635378683716,
          0.6080467191603571,
          0.4810148495355245,
          0.546751557280685,
          0.6607843743495699,
          0.7444877151209465,
          0.5116072205930858,
          0.5736125539049889,
          0.6759852982914768,
          0.7445510493012316,
          0.6656520939286084,
          0.819463553417013,
          0.8278108031191918,
          0.5345974177133478,
          0.6882846224833364,
          0.5110927978548278,
          0.5444331006373772,
          0.6221065558445339,
          0.9624787647621654,
          0.6312362802247574,
          0.4526648661037934,
          0.5840349027996526,
          0.4842758391583905,
          0.6655861761029269,
          0.9044190209978096,
          0.8085349754440574,
          0.6791059636504501,
          0.5959612769686518,
          0.4583041992338587,
          0.6584914043196111,
          0.7385699903153442,
          0.7335051021859037,
          0.5499496503034691,
          0.7127495787431906,
          0.630421166065817,
          0.6774747915971773,
          0.7792678262679424,
          0.5989745041975151,
          0.696412250974659,
          0.4066432048819306,
          0.7298841964733398,
          0.7176469326521897,
          0.5311964457849704,
          0.5783300187810199,
          0.6496133176743727,
          0.6717480434064259,
          0.6228973447327025,
          0.6813029336160352,
          0.6359527245297487,
          0.6921447207591296,
          0.5664148026550136,
          0.7119896583114282,
          0.5413801141044879,
          0.5168156449994494,
          0.4724134188003109,
          0.531305415481996,
          0.602992731627145,
          0.5776027684833679,
          0.4958643577405945,
          0.7276388885405582,
          0.3944921495885621,
          0.6200583898904629,
          0.4609126837230447,
          0.6755990564668208,
          0.7556045703227492,
          0.6843394898099315,
          0.6475016723366158,
          0.4070221522005484,
          0.6170597923223458,
          0.7193401577528333,
          0.5272788695670644,
          0.5488184941011103,
          0.5182289471297554,
          0.6668903236552841,
          0.2998816354994569,
          0.6409955826284586,
          0.6285424585042942,
          0.5649522602334132,
          0.6635145849940478,
          0.6661015934760214,
          0.6433530935512961,
          0.7260739187317706,
          0.6084017951410579,
          0.5014314622596018,
          0.7311589883080456,
          0.7666973174735843,
          0.5735151622130686,
          0.58283442045869,
          0.6278814809278759,
          0.5354917503913669,
          0.5980147970443362,
          0.5353730206683509,
          0.6875990746687368,
          0.6534392778315412,
          0.6013568073489505,
          0.5470412855112479,
          0.6190748525648406,
          0.5015625248474967,
          0.5954774026669124,
          0.7977610607199508,
          0.7246878757721245,
          0.5391023497989834,
          0.5785929666724968,
          0.6538433970837245,
          0.4801243303044886,
          0.6290588439631186,
          0.650408453067283,
          0.6272124368276697,
          0.5953707990301014,
          0.5370878635999291,
          0.554410918938945,
          0.5667801182859299,
          0.6307369269481262,
          0.4884703342226414,
          0.5334363282905867,
          0.5005783579993522,
          0.7126594647098375,
          0.6492086365144709,
          0.6528664185394072,
          0.5375527559578246,
          0.5135678497776085,
          0.5649660083546426,
          0.5967210624726923,
          0.7399021558205383,
          0.671827983228231,
          0.5178836725857949,
          0.60361638258232,
          0.6147227095790352,
          0.5539293383363991,
          0.7202649035802338,
          0.7483195779653761,
          0.6652972403266224,
          0.7437918392008567,
          0.5342177972551727,
          0.5767082712114988,
          0.6183454400606008,
          0.4852866209953958,
          0.5750202458065967,
          0.6848085029998764,
          0.4147910883629748,
          0.5963409169167615,
          0.631960162320705,
          0.4705980481389664,
          0.5164175318949742,
          0.7233754617249522,
          0.4666570054242134,
          0.4902620699774954,
          0.7734024753969604,
          0.6086967717855578,
          0.6103083679538784,
          0.6040257960430595,
          0.5953631881573205,
          0.6197980597449212,
          0.5803825015067493,
          0.5586537680600567,
          0.4705693286387866,
          0.4488417364270768,
          0.5017002908607491,
          0.4483359347410358,
          0.4242248740425536,
          0.3676135454650618,
          0.5653691432621216,
          0.4886341872864853,
          0.5147785250480919,
          0.3906604025302841,
          0.5835601895312219,
          0.4543996159505906,
          0.6137139097585359,
          0.5087815252096706,
          0.5917606815802028,
          0.5234665490935531,
          0.600610079123952,
          0.4612141479792115,
          0.5736917029826618,
          0.5138060990935563,
          0.4194440338677043,
          0.5132795608793276,
          0.3201722807134272,
          0.5616776987880221,
          0.5595270317562305,
          0.3458708733668375,
          0.6744070733824213,
          0.4147862049997686,
          0.5165727564784797,
          0.431400067136386,
          0.4278315189373791,
          0.5040846367863665,
          0.5087941673859557,
          0.4931877747210879,
          0.752608956604263,
          0.5977466817791698,
          0.387159147697327,
          0.5278412179409079,
          0.529386138732613,
          0.3559714319058495,
          0.6175128383257451,
          0.7549824592312685,
          0.4932367960153502,
          0.569120923898823,
          0.4537729235819834,
          0.466371847131492,
          0.0270566309145127,
          0.5907853018107863,
          0.4416848288766496,
          0.4787071909581403,
          0.384257755802452,
          0.566989331940434,
          0.517571869544883,
          0.4583906633194321,
          0.6836106964375259,
          0.4053151853918993,
          0.5780953770070505,
          0.5353481297661016,
          0.5943201257115115,
          0.3807328393687347,
          0.6315433141860465,
          0.3378450875623732,
          0.5989174496581823,
          0.6247060898371941,
          0.2257332812146499,
          0.4116211432903239,
          0.3850806606799906,
          0.2164974215795019,
          0.4903168721178748,
          0.3835774322259918,
          0.147294362131006,
          0.5482273694254196,
          0.4720603571782594,
          0.0199939075108058,
          0.4511622039535068,
          0.3208136541856395,
          0.5594258951027901,
          0.5050569086207504,
          0.6116952823649896,
          0.7351188170370133,
          0.4323127098777998,
          0.4458020935424893,
          0.6629629713917179,
          0.5610442167680637,
          0.4442744943438357,
          0.6834979217812964,
          0.4551041563955208,
          0.4924308802036988,
          0.2950753847861077,
          0.2327321247343992,
          0.508729527340401,
          0.6206476923501263,
          0.6425499182629635,
          0.5221137302676381,
          0.7251066549605338,
          0.5117140636972405,
          0.6162870762571167,
          0.5045501217451291,
          0.4730564100141273,
          0.6715779398420816,
          0.636809359396479,
          0.3174630464892449,
          0.4603149813154277,
          0.4348773967265504,
          0.3787328830048458,
          0.5454902144975092,
          0.3619945552391614,
          0.5077785297447416,
          0.4929558301006324,
          0.5905263605082091,
          0.5449509928305405,
          0.4870115465598039,
          0.6779257907232475,
          0.3072662507499433,
          0.7587227775030112,
          0.4187627754534424,
          0.504171832014369,
          0.6200687878826524,
          0.4967848000543896,
          0.4041025538936816,
          0.3728539149814279,
          0.4589203796577847,
          0.2568103767512714,
          0.4729560878388579,
          0.387736765673712,
          0.3413459660474062,
          0.4215239731438074,
          0.3995799058985451,
          0.4195220995681921,
          0.6514961134545527,
          0.7086178312373357,
          0.2651700175365021,
          0.550029112758578,
          0.3290101687058974,
          0.346236225408644,
          0.7034852302345709,
          0.6116448834809859,
          0.3991455422124488,
          0.2984067711447146,
          0.8210700154174491,
          0.4645183241162444,
          0.3594126699901086,
          0.4830070996461149,
          0.7230596425602341,
          0.5467015949168731,
          0.6434029563360536,
          0.5903448725369068,
          0.4647130260204516,
          0.4941722597565188,
          0.8650561051933275,
          0.4524104448718,
          0.5143054559694783,
          0.3857995299599742,
          0.2518152260599947,
          0.4547127868037818,
          0.3668332811647399,
          0.4039640703075043,
          0.5591112529447844,
          0.4759581313127443,
          0.4587725946695195,
          0.5203561736035686,
          0.5796217213855145,
          0.4243508308033084,
          0.4614472715724655,
          0.4337388599959138,
          0.4558922830242377,
          0.6586656305668285,
          0.3751547112663543,
          0.1672245726516947,
          0.4329504438172529,
          0.3949379659288619,
          0.449339471242162,
          0.4682240971337586,
          0.4151239358197331,
          0.4031659528669201,
          0.6244093166886443,
          0.1860139001587316,
          0.4974270420595328,
          0.574862037122093,
          0.3665861786700403,
          0.6378587702234995,
          0.3903430733056254,
          0.6736969205456744,
          0.4458484607777259,
          0.5510620417700745,
          0.5437104368650464,
          0.510923986254679,
          0.4665759917128171,
          0.329802997580258,
          0.5180145628016644,
          0.3885868812675795,
          0.4750423278033795,
          0.211635881213615,
          0.573830397027835,
          0.6506591719873488,
          0.559668142388123,
          0.3010317578533885,
          0.7232097368841452,
          0.4293323645788205,
          0.2239413537337651,
          0.6673870181740406,
          0.4708194370550274,
          0.53059346684759,
          0.5638884666115057,
          0.667875390027253,
          0.111508604237738,
          0.4170336946648126,
          0.4908188765885846,
          0.3811930403726682,
          0.500994206241914,
          0.4062081635487384,
          0.362667949565887,
          0.5617334089859786,
          0.4521360952974994,
          0.4588581371498016,
          0.5321530297066801,
          0.5352424415033918,
          0.5629565204658212,
          0.3769543420606628,
          0.3965752329711925,
          0.1444848263256387,
          0.383482722194857,
          0.394969488277675,
          0.5047176747495644,
          0.3696625737104841,
          0.3842275432905147,
          0.6684624675733085,
          0.5369082724471043,
          0.2989756454228083,
          0.26345204556229,
          0.4987564787723658,
          0.5899052190232719,
          0.4191635075304779,
          0.5528376048510728,
          0.7200528267537014,
          0.3500478832070074,
          0.6348830166463044,
          0.3597284586111975,
          0.4930669129875347,
          0.5667918747896804,
          0.5771221803484919,
          0.5974415043062044,
          0.6072796206890105,
          0.4264872954365005,
          0.4803245126656017,
          0.3207371512291345,
          0.4042545129340213,
          0.4880783480562065,
          0.5742079170954563,
          0.3857984029229504,
          0.5463242840275189,
          0.3617571015903111,
          0.6109218181992971,
          0.4266604809668305,
          0.2564648687884097,
          0.4464090900856496
         ],
         "yaxis": "y"
        }
       ],
       "layout": {
        "legend": {
         "tracegroupgap": 0
        },
        "template": {
         "data": {
          "bar": [
           {
            "error_x": {
             "color": "#2a3f5f"
            },
            "error_y": {
             "color": "#2a3f5f"
            },
            "marker": {
             "line": {
              "color": "#E5ECF6",
              "width": 0.5
             },
             "pattern": {
              "fillmode": "overlay",
              "size": 10,
              "solidity": 0.2
             }
            },
            "type": "bar"
           }
          ],
          "barpolar": [
           {
            "marker": {
             "line": {
              "color": "#E5ECF6",
              "width": 0.5
             },
             "pattern": {
              "fillmode": "overlay",
              "size": 10,
              "solidity": 0.2
             }
            },
            "type": "barpolar"
           }
          ],
          "carpet": [
           {
            "aaxis": {
             "endlinecolor": "#2a3f5f",
             "gridcolor": "white",
             "linecolor": "white",
             "minorgridcolor": "white",
             "startlinecolor": "#2a3f5f"
            },
            "baxis": {
             "endlinecolor": "#2a3f5f",
             "gridcolor": "white",
             "linecolor": "white",
             "minorgridcolor": "white",
             "startlinecolor": "#2a3f5f"
            },
            "type": "carpet"
           }
          ],
          "choropleth": [
           {
            "colorbar": {
             "outlinewidth": 0,
             "ticks": ""
            },
            "type": "choropleth"
           }
          ],
          "contour": [
           {
            "colorbar": {
             "outlinewidth": 0,
             "ticks": ""
            },
            "colorscale": [
             [
              0,
              "#0d0887"
             ],
             [
              0.1111111111111111,
              "#46039f"
             ],
             [
              0.2222222222222222,
              "#7201a8"
             ],
             [
              0.3333333333333333,
              "#9c179e"
             ],
             [
              0.4444444444444444,
              "#bd3786"
             ],
             [
              0.5555555555555556,
              "#d8576b"
             ],
             [
              0.6666666666666666,
              "#ed7953"
             ],
             [
              0.7777777777777778,
              "#fb9f3a"
             ],
             [
              0.8888888888888888,
              "#fdca26"
             ],
             [
              1,
              "#f0f921"
             ]
            ],
            "type": "contour"
           }
          ],
          "contourcarpet": [
           {
            "colorbar": {
             "outlinewidth": 0,
             "ticks": ""
            },
            "type": "contourcarpet"
           }
          ],
          "heatmap": [
           {
            "colorbar": {
             "outlinewidth": 0,
             "ticks": ""
            },
            "colorscale": [
             [
              0,
              "#0d0887"
             ],
             [
              0.1111111111111111,
              "#46039f"
             ],
             [
              0.2222222222222222,
              "#7201a8"
             ],
             [
              0.3333333333333333,
              "#9c179e"
             ],
             [
              0.4444444444444444,
              "#bd3786"
             ],
             [
              0.5555555555555556,
              "#d8576b"
             ],
             [
              0.6666666666666666,
              "#ed7953"
             ],
             [
              0.7777777777777778,
              "#fb9f3a"
             ],
             [
              0.8888888888888888,
              "#fdca26"
             ],
             [
              1,
              "#f0f921"
             ]
            ],
            "type": "heatmap"
           }
          ],
          "heatmapgl": [
           {
            "colorbar": {
             "outlinewidth": 0,
             "ticks": ""
            },
            "colorscale": [
             [
              0,
              "#0d0887"
             ],
             [
              0.1111111111111111,
              "#46039f"
             ],
             [
              0.2222222222222222,
              "#7201a8"
             ],
             [
              0.3333333333333333,
              "#9c179e"
             ],
             [
              0.4444444444444444,
              "#bd3786"
             ],
             [
              0.5555555555555556,
              "#d8576b"
             ],
             [
              0.6666666666666666,
              "#ed7953"
             ],
             [
              0.7777777777777778,
              "#fb9f3a"
             ],
             [
              0.8888888888888888,
              "#fdca26"
             ],
             [
              1,
              "#f0f921"
             ]
            ],
            "type": "heatmapgl"
           }
          ],
          "histogram": [
           {
            "marker": {
             "pattern": {
              "fillmode": "overlay",
              "size": 10,
              "solidity": 0.2
             }
            },
            "type": "histogram"
           }
          ],
          "histogram2d": [
           {
            "colorbar": {
             "outlinewidth": 0,
             "ticks": ""
            },
            "colorscale": [
             [
              0,
              "#0d0887"
             ],
             [
              0.1111111111111111,
              "#46039f"
             ],
             [
              0.2222222222222222,
              "#7201a8"
             ],
             [
              0.3333333333333333,
              "#9c179e"
             ],
             [
              0.4444444444444444,
              "#bd3786"
             ],
             [
              0.5555555555555556,
              "#d8576b"
             ],
             [
              0.6666666666666666,
              "#ed7953"
             ],
             [
              0.7777777777777778,
              "#fb9f3a"
             ],
             [
              0.8888888888888888,
              "#fdca26"
             ],
             [
              1,
              "#f0f921"
             ]
            ],
            "type": "histogram2d"
           }
          ],
          "histogram2dcontour": [
           {
            "colorbar": {
             "outlinewidth": 0,
             "ticks": ""
            },
            "colorscale": [
             [
              0,
              "#0d0887"
             ],
             [
              0.1111111111111111,
              "#46039f"
             ],
             [
              0.2222222222222222,
              "#7201a8"
             ],
             [
              0.3333333333333333,
              "#9c179e"
             ],
             [
              0.4444444444444444,
              "#bd3786"
             ],
             [
              0.5555555555555556,
              "#d8576b"
             ],
             [
              0.6666666666666666,
              "#ed7953"
             ],
             [
              0.7777777777777778,
              "#fb9f3a"
             ],
             [
              0.8888888888888888,
              "#fdca26"
             ],
             [
              1,
              "#f0f921"
             ]
            ],
            "type": "histogram2dcontour"
           }
          ],
          "mesh3d": [
           {
            "colorbar": {
             "outlinewidth": 0,
             "ticks": ""
            },
            "type": "mesh3d"
           }
          ],
          "parcoords": [
           {
            "line": {
             "colorbar": {
              "outlinewidth": 0,
              "ticks": ""
             }
            },
            "type": "parcoords"
           }
          ],
          "pie": [
           {
            "automargin": true,
            "type": "pie"
           }
          ],
          "scatter": [
           {
            "fillpattern": {
             "fillmode": "overlay",
             "size": 10,
             "solidity": 0.2
            },
            "type": "scatter"
           }
          ],
          "scatter3d": [
           {
            "line": {
             "colorbar": {
              "outlinewidth": 0,
              "ticks": ""
             }
            },
            "marker": {
             "colorbar": {
              "outlinewidth": 0,
              "ticks": ""
             }
            },
            "type": "scatter3d"
           }
          ],
          "scattercarpet": [
           {
            "marker": {
             "colorbar": {
              "outlinewidth": 0,
              "ticks": ""
             }
            },
            "type": "scattercarpet"
           }
          ],
          "scattergeo": [
           {
            "marker": {
             "colorbar": {
              "outlinewidth": 0,
              "ticks": ""
             }
            },
            "type": "scattergeo"
           }
          ],
          "scattergl": [
           {
            "marker": {
             "colorbar": {
              "outlinewidth": 0,
              "ticks": ""
             }
            },
            "type": "scattergl"
           }
          ],
          "scattermapbox": [
           {
            "marker": {
             "colorbar": {
              "outlinewidth": 0,
              "ticks": ""
             }
            },
            "type": "scattermapbox"
           }
          ],
          "scatterpolar": [
           {
            "marker": {
             "colorbar": {
              "outlinewidth": 0,
              "ticks": ""
             }
            },
            "type": "scatterpolar"
           }
          ],
          "scatterpolargl": [
           {
            "marker": {
             "colorbar": {
              "outlinewidth": 0,
              "ticks": ""
             }
            },
            "type": "scatterpolargl"
           }
          ],
          "scatterternary": [
           {
            "marker": {
             "colorbar": {
              "outlinewidth": 0,
              "ticks": ""
             }
            },
            "type": "scatterternary"
           }
          ],
          "surface": [
           {
            "colorbar": {
             "outlinewidth": 0,
             "ticks": ""
            },
            "colorscale": [
             [
              0,
              "#0d0887"
             ],
             [
              0.1111111111111111,
              "#46039f"
             ],
             [
              0.2222222222222222,
              "#7201a8"
             ],
             [
              0.3333333333333333,
              "#9c179e"
             ],
             [
              0.4444444444444444,
              "#bd3786"
             ],
             [
              0.5555555555555556,
              "#d8576b"
             ],
             [
              0.6666666666666666,
              "#ed7953"
             ],
             [
              0.7777777777777778,
              "#fb9f3a"
             ],
             [
              0.8888888888888888,
              "#fdca26"
             ],
             [
              1,
              "#f0f921"
             ]
            ],
            "type": "surface"
           }
          ],
          "table": [
           {
            "cells": {
             "fill": {
              "color": "#EBF0F8"
             },
             "line": {
              "color": "white"
             }
            },
            "header": {
             "fill": {
              "color": "#C8D4E3"
             },
             "line": {
              "color": "white"
             }
            },
            "type": "table"
           }
          ]
         },
         "layout": {
          "annotationdefaults": {
           "arrowcolor": "#2a3f5f",
           "arrowhead": 0,
           "arrowwidth": 1
          },
          "autotypenumbers": "strict",
          "coloraxis": {
           "colorbar": {
            "outlinewidth": 0,
            "ticks": ""
           }
          },
          "colorscale": {
           "diverging": [
            [
             0,
             "#8e0152"
            ],
            [
             0.1,
             "#c51b7d"
            ],
            [
             0.2,
             "#de77ae"
            ],
            [
             0.3,
             "#f1b6da"
            ],
            [
             0.4,
             "#fde0ef"
            ],
            [
             0.5,
             "#f7f7f7"
            ],
            [
             0.6,
             "#e6f5d0"
            ],
            [
             0.7,
             "#b8e186"
            ],
            [
             0.8,
             "#7fbc41"
            ],
            [
             0.9,
             "#4d9221"
            ],
            [
             1,
             "#276419"
            ]
           ],
           "sequential": [
            [
             0,
             "#0d0887"
            ],
            [
             0.1111111111111111,
             "#46039f"
            ],
            [
             0.2222222222222222,
             "#7201a8"
            ],
            [
             0.3333333333333333,
             "#9c179e"
            ],
            [
             0.4444444444444444,
             "#bd3786"
            ],
            [
             0.5555555555555556,
             "#d8576b"
            ],
            [
             0.6666666666666666,
             "#ed7953"
            ],
            [
             0.7777777777777778,
             "#fb9f3a"
            ],
            [
             0.8888888888888888,
             "#fdca26"
            ],
            [
             1,
             "#f0f921"
            ]
           ],
           "sequentialminus": [
            [
             0,
             "#0d0887"
            ],
            [
             0.1111111111111111,
             "#46039f"
            ],
            [
             0.2222222222222222,
             "#7201a8"
            ],
            [
             0.3333333333333333,
             "#9c179e"
            ],
            [
             0.4444444444444444,
             "#bd3786"
            ],
            [
             0.5555555555555556,
             "#d8576b"
            ],
            [
             0.6666666666666666,
             "#ed7953"
            ],
            [
             0.7777777777777778,
             "#fb9f3a"
            ],
            [
             0.8888888888888888,
             "#fdca26"
            ],
            [
             1,
             "#f0f921"
            ]
           ]
          },
          "colorway": [
           "#636efa",
           "#EF553B",
           "#00cc96",
           "#ab63fa",
           "#FFA15A",
           "#19d3f3",
           "#FF6692",
           "#B6E880",
           "#FF97FF",
           "#FECB52"
          ],
          "font": {
           "color": "#2a3f5f"
          },
          "geo": {
           "bgcolor": "white",
           "lakecolor": "white",
           "landcolor": "#E5ECF6",
           "showlakes": true,
           "showland": true,
           "subunitcolor": "white"
          },
          "hoverlabel": {
           "align": "left"
          },
          "hovermode": "closest",
          "mapbox": {
           "style": "light"
          },
          "paper_bgcolor": "white",
          "plot_bgcolor": "#E5ECF6",
          "polar": {
           "angularaxis": {
            "gridcolor": "white",
            "linecolor": "white",
            "ticks": ""
           },
           "bgcolor": "#E5ECF6",
           "radialaxis": {
            "gridcolor": "white",
            "linecolor": "white",
            "ticks": ""
           }
          },
          "scene": {
           "xaxis": {
            "backgroundcolor": "#E5ECF6",
            "gridcolor": "white",
            "gridwidth": 2,
            "linecolor": "white",
            "showbackground": true,
            "ticks": "",
            "zerolinecolor": "white"
           },
           "yaxis": {
            "backgroundcolor": "#E5ECF6",
            "gridcolor": "white",
            "gridwidth": 2,
            "linecolor": "white",
            "showbackground": true,
            "ticks": "",
            "zerolinecolor": "white"
           },
           "zaxis": {
            "backgroundcolor": "#E5ECF6",
            "gridcolor": "white",
            "gridwidth": 2,
            "linecolor": "white",
            "showbackground": true,
            "ticks": "",
            "zerolinecolor": "white"
           }
          },
          "shapedefaults": {
           "line": {
            "color": "#2a3f5f"
           }
          },
          "ternary": {
           "aaxis": {
            "gridcolor": "white",
            "linecolor": "white",
            "ticks": ""
           },
           "baxis": {
            "gridcolor": "white",
            "linecolor": "white",
            "ticks": ""
           },
           "bgcolor": "#E5ECF6",
           "caxis": {
            "gridcolor": "white",
            "linecolor": "white",
            "ticks": ""
           }
          },
          "title": {
           "x": 0.05
          },
          "xaxis": {
           "automargin": true,
           "gridcolor": "white",
           "linecolor": "white",
           "ticks": "",
           "title": {
            "standoff": 15
           },
           "zerolinecolor": "white",
           "zerolinewidth": 2
          },
          "yaxis": {
           "automargin": true,
           "gridcolor": "white",
           "linecolor": "white",
           "ticks": "",
           "title": {
            "standoff": 15
           },
           "zerolinecolor": "white",
           "zerolinewidth": 2
          }
         }
        },
        "title": {
         "text": "Ripples - Session: kdiba_gor01_one_2006"
        },
        "xaxis": {
         "anchor": "y",
         "domain": [
          0,
          1
         ],
         "title": {
          "text": "ripple_start_t"
         }
        },
        "yaxis": {
         "anchor": "x",
         "domain": [
          0,
          1
         ],
         "title": {
          "text": "P_Long"
         }
        }
       }
      }
     },
     "metadata": {},
     "output_type": "display_data"
    },
    {
     "data": {
      "application/vnd.plotly.v1+json": {
       "config": {
        "plotlyServerURL": "https://plot.ly"
       },
       "data": [
        {
         "hovertemplate": "lap_start_t=%{x}<br>P_Long=%{y}<extra></extra>",
         "legendgroup": "",
         "marker": {
          "color": "#636efa",
          "symbol": "circle"
         },
         "mode": "markers",
         "name": "",
         "orientation": "v",
         "showlegend": false,
         "type": "scatter",
         "x": [
          3.054774000076577,
          6.356765000033192,
          45.19598900002893,
          65.78501800005324,
          84.30338400008623,
          106.42597800004296,
          244.12987900001465,
          260.41408900008537,
          281.3021789999912,
          308.8955410000636,
          357.84533300006296,
          370.6238660000963,
          399.6536330000963,
          415.704158000066,
          428.2848109999904,
          441.1640250000637,
          462.8844779999927,
          480.80257900001016,
          491.3133510000771,
          503.55904200009536,
          514.0368710000766,
          528.4499579999829,
          536.0578740000492,
          546.4034540000139,
          555.4117989999941,
          565.5539519999875,
          574.0627129999921,
          584.5415960000828,
          644.3000650000758,
          684.4070870000869,
          841.0995350000449,
          855.0143010000465,
          872.7311740000732,
          890.0149020000827,
          905.4977090000176,
          918.2433310000924,
          922.3144350000656,
          936.1631970000452,
          944.403188000084,
          957.917912999983,
          964.5910110000988,
          982.8411990000168,
          995.8208260000685,
          1014.0395880000432,
          1039.9332799999977,
          1049.142888000002,
          1064.0253169999924,
          1070.097265999997,
          1087.5484220000217,
          1095.5216270000674,
          1108.035390999983,
          1120.9815200000303,
          1151.4447970000328,
          1172.9018730000826,
          1182.977337000077,
          1201.461907000048,
          1334.7641140000196,
          1354.2495070000878,
          1380.8437930000946,
          1391.020092000021,
          1395.924374000053,
          1402.365312000038,
          1472.7363130000886,
          1478.2419409999857,
          1487.88522200007,
          1493.0233280000975,
          1500.496809000033,
          1509.338183999993,
          1513.543972000014,
          1522.6192799999844,
          1528.959893000079,
          1535.2649669999955,
          1540.50487100007,
          1557.6551810000092,
          1561.2590880000498,
          1579.4448100000154,
          1584.0488190000178,
          1593.0237690000797,
          1604.6685200000647,
          1608.8396100000243,
          1620.117293999996,
          1628.7922030000482,
          1645.8121180000016,
          1652.750230000005
         ],
         "xaxis": "x",
         "y": [
          0.6273873653090264,
          0.4670744322843156,
          0.6989329135054531,
          0.8992452728812366,
          0.8160173674505354,
          0.8602634514378364,
          0.8462380553335532,
          0.6400383630600395,
          0.7917638964996444,
          0.9531872913346344,
          0.7788574871597707,
          0.8890205735770348,
          0.6751381955649675,
          0.9093110554812026,
          0.7998596718576604,
          0.9080438879207604,
          0.794399246061422,
          0.7811305408007838,
          0.8216500971208476,
          0.9522749531100684,
          0.7523616170910608,
          0.933029613681196,
          0.8513900085291041,
          0.8935291954464438,
          0.7269529354957858,
          0.8585572447072064,
          0.8111112025739551,
          0.8528042554973501,
          0.7040348800431532,
          0.8935436038846023,
          0.7926531213711548,
          0.928929829517949,
          0.8595961342912006,
          0.8098387575861089,
          0.8139525516285282,
          0.911704365088828,
          0.7720673224319795,
          0.8849900423818856,
          0.7862518711265254,
          0.7979412767012393,
          0.8234514515585979,
          0.7386277035277123,
          0.8149452674103989,
          0.7102180124930783,
          0.4133272265493939,
          0.4093844439934865,
          0.288222432838899,
          0.3234209343999474,
          0.3231193469674686,
          0.3485958910816449,
          0.2390811140139155,
          0.294155542105015,
          0.2390062981843677,
          0.2235452192476344,
          0.2453240774255605,
          0.2992536094776914,
          0.2582648030543016,
          0.2138786400858603,
          0.1662578782072145,
          0.1613023129591902,
          0.2032602751130031,
          0.2968410769640199,
          0.1816551736076796,
          0.2019480515972117,
          0.2231184279040929,
          0.260013453619223,
          0.1918543482296135,
          0.2550774269972761,
          0.1939570784136456,
          0.1434572643219123,
          0.2386380818110623,
          0.2366158818742842,
          0.2600209374021084,
          0.1864527783764865,
          0.2753222193056758,
          0.192625769673694,
          0.3395042158660883,
          0.2327874858410249,
          0.2526931734445389,
          0.1669941477509986,
          0.2622027557145018,
          0.1188992077643519,
          0.2028041100756063,
          0.2118327092535222
         ],
         "yaxis": "y"
        }
       ],
       "layout": {
        "legend": {
         "tracegroupgap": 0
        },
        "template": {
         "data": {
          "bar": [
           {
            "error_x": {
             "color": "#2a3f5f"
            },
            "error_y": {
             "color": "#2a3f5f"
            },
            "marker": {
             "line": {
              "color": "#E5ECF6",
              "width": 0.5
             },
             "pattern": {
              "fillmode": "overlay",
              "size": 10,
              "solidity": 0.2
             }
            },
            "type": "bar"
           }
          ],
          "barpolar": [
           {
            "marker": {
             "line": {
              "color": "#E5ECF6",
              "width": 0.5
             },
             "pattern": {
              "fillmode": "overlay",
              "size": 10,
              "solidity": 0.2
             }
            },
            "type": "barpolar"
           }
          ],
          "carpet": [
           {
            "aaxis": {
             "endlinecolor": "#2a3f5f",
             "gridcolor": "white",
             "linecolor": "white",
             "minorgridcolor": "white",
             "startlinecolor": "#2a3f5f"
            },
            "baxis": {
             "endlinecolor": "#2a3f5f",
             "gridcolor": "white",
             "linecolor": "white",
             "minorgridcolor": "white",
             "startlinecolor": "#2a3f5f"
            },
            "type": "carpet"
           }
          ],
          "choropleth": [
           {
            "colorbar": {
             "outlinewidth": 0,
             "ticks": ""
            },
            "type": "choropleth"
           }
          ],
          "contour": [
           {
            "colorbar": {
             "outlinewidth": 0,
             "ticks": ""
            },
            "colorscale": [
             [
              0,
              "#0d0887"
             ],
             [
              0.1111111111111111,
              "#46039f"
             ],
             [
              0.2222222222222222,
              "#7201a8"
             ],
             [
              0.3333333333333333,
              "#9c179e"
             ],
             [
              0.4444444444444444,
              "#bd3786"
             ],
             [
              0.5555555555555556,
              "#d8576b"
             ],
             [
              0.6666666666666666,
              "#ed7953"
             ],
             [
              0.7777777777777778,
              "#fb9f3a"
             ],
             [
              0.8888888888888888,
              "#fdca26"
             ],
             [
              1,
              "#f0f921"
             ]
            ],
            "type": "contour"
           }
          ],
          "contourcarpet": [
           {
            "colorbar": {
             "outlinewidth": 0,
             "ticks": ""
            },
            "type": "contourcarpet"
           }
          ],
          "heatmap": [
           {
            "colorbar": {
             "outlinewidth": 0,
             "ticks": ""
            },
            "colorscale": [
             [
              0,
              "#0d0887"
             ],
             [
              0.1111111111111111,
              "#46039f"
             ],
             [
              0.2222222222222222,
              "#7201a8"
             ],
             [
              0.3333333333333333,
              "#9c179e"
             ],
             [
              0.4444444444444444,
              "#bd3786"
             ],
             [
              0.5555555555555556,
              "#d8576b"
             ],
             [
              0.6666666666666666,
              "#ed7953"
             ],
             [
              0.7777777777777778,
              "#fb9f3a"
             ],
             [
              0.8888888888888888,
              "#fdca26"
             ],
             [
              1,
              "#f0f921"
             ]
            ],
            "type": "heatmap"
           }
          ],
          "heatmapgl": [
           {
            "colorbar": {
             "outlinewidth": 0,
             "ticks": ""
            },
            "colorscale": [
             [
              0,
              "#0d0887"
             ],
             [
              0.1111111111111111,
              "#46039f"
             ],
             [
              0.2222222222222222,
              "#7201a8"
             ],
             [
              0.3333333333333333,
              "#9c179e"
             ],
             [
              0.4444444444444444,
              "#bd3786"
             ],
             [
              0.5555555555555556,
              "#d8576b"
             ],
             [
              0.6666666666666666,
              "#ed7953"
             ],
             [
              0.7777777777777778,
              "#fb9f3a"
             ],
             [
              0.8888888888888888,
              "#fdca26"
             ],
             [
              1,
              "#f0f921"
             ]
            ],
            "type": "heatmapgl"
           }
          ],
          "histogram": [
           {
            "marker": {
             "pattern": {
              "fillmode": "overlay",
              "size": 10,
              "solidity": 0.2
             }
            },
            "type": "histogram"
           }
          ],
          "histogram2d": [
           {
            "colorbar": {
             "outlinewidth": 0,
             "ticks": ""
            },
            "colorscale": [
             [
              0,
              "#0d0887"
             ],
             [
              0.1111111111111111,
              "#46039f"
             ],
             [
              0.2222222222222222,
              "#7201a8"
             ],
             [
              0.3333333333333333,
              "#9c179e"
             ],
             [
              0.4444444444444444,
              "#bd3786"
             ],
             [
              0.5555555555555556,
              "#d8576b"
             ],
             [
              0.6666666666666666,
              "#ed7953"
             ],
             [
              0.7777777777777778,
              "#fb9f3a"
             ],
             [
              0.8888888888888888,
              "#fdca26"
             ],
             [
              1,
              "#f0f921"
             ]
            ],
            "type": "histogram2d"
           }
          ],
          "histogram2dcontour": [
           {
            "colorbar": {
             "outlinewidth": 0,
             "ticks": ""
            },
            "colorscale": [
             [
              0,
              "#0d0887"
             ],
             [
              0.1111111111111111,
              "#46039f"
             ],
             [
              0.2222222222222222,
              "#7201a8"
             ],
             [
              0.3333333333333333,
              "#9c179e"
             ],
             [
              0.4444444444444444,
              "#bd3786"
             ],
             [
              0.5555555555555556,
              "#d8576b"
             ],
             [
              0.6666666666666666,
              "#ed7953"
             ],
             [
              0.7777777777777778,
              "#fb9f3a"
             ],
             [
              0.8888888888888888,
              "#fdca26"
             ],
             [
              1,
              "#f0f921"
             ]
            ],
            "type": "histogram2dcontour"
           }
          ],
          "mesh3d": [
           {
            "colorbar": {
             "outlinewidth": 0,
             "ticks": ""
            },
            "type": "mesh3d"
           }
          ],
          "parcoords": [
           {
            "line": {
             "colorbar": {
              "outlinewidth": 0,
              "ticks": ""
             }
            },
            "type": "parcoords"
           }
          ],
          "pie": [
           {
            "automargin": true,
            "type": "pie"
           }
          ],
          "scatter": [
           {
            "fillpattern": {
             "fillmode": "overlay",
             "size": 10,
             "solidity": 0.2
            },
            "type": "scatter"
           }
          ],
          "scatter3d": [
           {
            "line": {
             "colorbar": {
              "outlinewidth": 0,
              "ticks": ""
             }
            },
            "marker": {
             "colorbar": {
              "outlinewidth": 0,
              "ticks": ""
             }
            },
            "type": "scatter3d"
           }
          ],
          "scattercarpet": [
           {
            "marker": {
             "colorbar": {
              "outlinewidth": 0,
              "ticks": ""
             }
            },
            "type": "scattercarpet"
           }
          ],
          "scattergeo": [
           {
            "marker": {
             "colorbar": {
              "outlinewidth": 0,
              "ticks": ""
             }
            },
            "type": "scattergeo"
           }
          ],
          "scattergl": [
           {
            "marker": {
             "colorbar": {
              "outlinewidth": 0,
              "ticks": ""
             }
            },
            "type": "scattergl"
           }
          ],
          "scattermapbox": [
           {
            "marker": {
             "colorbar": {
              "outlinewidth": 0,
              "ticks": ""
             }
            },
            "type": "scattermapbox"
           }
          ],
          "scatterpolar": [
           {
            "marker": {
             "colorbar": {
              "outlinewidth": 0,
              "ticks": ""
             }
            },
            "type": "scatterpolar"
           }
          ],
          "scatterpolargl": [
           {
            "marker": {
             "colorbar": {
              "outlinewidth": 0,
              "ticks": ""
             }
            },
            "type": "scatterpolargl"
           }
          ],
          "scatterternary": [
           {
            "marker": {
             "colorbar": {
              "outlinewidth": 0,
              "ticks": ""
             }
            },
            "type": "scatterternary"
           }
          ],
          "surface": [
           {
            "colorbar": {
             "outlinewidth": 0,
             "ticks": ""
            },
            "colorscale": [
             [
              0,
              "#0d0887"
             ],
             [
              0.1111111111111111,
              "#46039f"
             ],
             [
              0.2222222222222222,
              "#7201a8"
             ],
             [
              0.3333333333333333,
              "#9c179e"
             ],
             [
              0.4444444444444444,
              "#bd3786"
             ],
             [
              0.5555555555555556,
              "#d8576b"
             ],
             [
              0.6666666666666666,
              "#ed7953"
             ],
             [
              0.7777777777777778,
              "#fb9f3a"
             ],
             [
              0.8888888888888888,
              "#fdca26"
             ],
             [
              1,
              "#f0f921"
             ]
            ],
            "type": "surface"
           }
          ],
          "table": [
           {
            "cells": {
             "fill": {
              "color": "#EBF0F8"
             },
             "line": {
              "color": "white"
             }
            },
            "header": {
             "fill": {
              "color": "#C8D4E3"
             },
             "line": {
              "color": "white"
             }
            },
            "type": "table"
           }
          ]
         },
         "layout": {
          "annotationdefaults": {
           "arrowcolor": "#2a3f5f",
           "arrowhead": 0,
           "arrowwidth": 1
          },
          "autotypenumbers": "strict",
          "coloraxis": {
           "colorbar": {
            "outlinewidth": 0,
            "ticks": ""
           }
          },
          "colorscale": {
           "diverging": [
            [
             0,
             "#8e0152"
            ],
            [
             0.1,
             "#c51b7d"
            ],
            [
             0.2,
             "#de77ae"
            ],
            [
             0.3,
             "#f1b6da"
            ],
            [
             0.4,
             "#fde0ef"
            ],
            [
             0.5,
             "#f7f7f7"
            ],
            [
             0.6,
             "#e6f5d0"
            ],
            [
             0.7,
             "#b8e186"
            ],
            [
             0.8,
             "#7fbc41"
            ],
            [
             0.9,
             "#4d9221"
            ],
            [
             1,
             "#276419"
            ]
           ],
           "sequential": [
            [
             0,
             "#0d0887"
            ],
            [
             0.1111111111111111,
             "#46039f"
            ],
            [
             0.2222222222222222,
             "#7201a8"
            ],
            [
             0.3333333333333333,
             "#9c179e"
            ],
            [
             0.4444444444444444,
             "#bd3786"
            ],
            [
             0.5555555555555556,
             "#d8576b"
            ],
            [
             0.6666666666666666,
             "#ed7953"
            ],
            [
             0.7777777777777778,
             "#fb9f3a"
            ],
            [
             0.8888888888888888,
             "#fdca26"
            ],
            [
             1,
             "#f0f921"
            ]
           ],
           "sequentialminus": [
            [
             0,
             "#0d0887"
            ],
            [
             0.1111111111111111,
             "#46039f"
            ],
            [
             0.2222222222222222,
             "#7201a8"
            ],
            [
             0.3333333333333333,
             "#9c179e"
            ],
            [
             0.4444444444444444,
             "#bd3786"
            ],
            [
             0.5555555555555556,
             "#d8576b"
            ],
            [
             0.6666666666666666,
             "#ed7953"
            ],
            [
             0.7777777777777778,
             "#fb9f3a"
            ],
            [
             0.8888888888888888,
             "#fdca26"
            ],
            [
             1,
             "#f0f921"
            ]
           ]
          },
          "colorway": [
           "#636efa",
           "#EF553B",
           "#00cc96",
           "#ab63fa",
           "#FFA15A",
           "#19d3f3",
           "#FF6692",
           "#B6E880",
           "#FF97FF",
           "#FECB52"
          ],
          "font": {
           "color": "#2a3f5f"
          },
          "geo": {
           "bgcolor": "white",
           "lakecolor": "white",
           "landcolor": "#E5ECF6",
           "showlakes": true,
           "showland": true,
           "subunitcolor": "white"
          },
          "hoverlabel": {
           "align": "left"
          },
          "hovermode": "closest",
          "mapbox": {
           "style": "light"
          },
          "paper_bgcolor": "white",
          "plot_bgcolor": "#E5ECF6",
          "polar": {
           "angularaxis": {
            "gridcolor": "white",
            "linecolor": "white",
            "ticks": ""
           },
           "bgcolor": "#E5ECF6",
           "radialaxis": {
            "gridcolor": "white",
            "linecolor": "white",
            "ticks": ""
           }
          },
          "scene": {
           "xaxis": {
            "backgroundcolor": "#E5ECF6",
            "gridcolor": "white",
            "gridwidth": 2,
            "linecolor": "white",
            "showbackground": true,
            "ticks": "",
            "zerolinecolor": "white"
           },
           "yaxis": {
            "backgroundcolor": "#E5ECF6",
            "gridcolor": "white",
            "gridwidth": 2,
            "linecolor": "white",
            "showbackground": true,
            "ticks": "",
            "zerolinecolor": "white"
           },
           "zaxis": {
            "backgroundcolor": "#E5ECF6",
            "gridcolor": "white",
            "gridwidth": 2,
            "linecolor": "white",
            "showbackground": true,
            "ticks": "",
            "zerolinecolor": "white"
           }
          },
          "shapedefaults": {
           "line": {
            "color": "#2a3f5f"
           }
          },
          "ternary": {
           "aaxis": {
            "gridcolor": "white",
            "linecolor": "white",
            "ticks": ""
           },
           "baxis": {
            "gridcolor": "white",
            "linecolor": "white",
            "ticks": ""
           },
           "bgcolor": "#E5ECF6",
           "caxis": {
            "gridcolor": "white",
            "linecolor": "white",
            "ticks": ""
           }
          },
          "title": {
           "x": 0.05
          },
          "xaxis": {
           "automargin": true,
           "gridcolor": "white",
           "linecolor": "white",
           "ticks": "",
           "title": {
            "standoff": 15
           },
           "zerolinecolor": "white",
           "zerolinewidth": 2
          },
          "yaxis": {
           "automargin": true,
           "gridcolor": "white",
           "linecolor": "white",
           "ticks": "",
           "title": {
            "standoff": 15
           },
           "zerolinecolor": "white",
           "zerolinewidth": 2
          }
         }
        },
        "title": {
         "text": "Laps - Session: kdiba_gor01_one_2006"
        },
        "xaxis": {
         "anchor": "y",
         "domain": [
          0,
          1
         ],
         "title": {
          "text": "lap_start_t"
         }
        },
        "yaxis": {
         "anchor": "x",
         "domain": [
          0,
          1
         ],
         "title": {
          "text": "P_Long"
         }
        }
       }
      }
     },
     "metadata": {},
     "output_type": "display_data"
    },
    {
     "data": {
      "application/vnd.plotly.v1+json": {
       "config": {
        "plotlyServerURL": "https://plot.ly"
       },
       "data": [
        {
         "hovertemplate": "ripple_start_t=%{x}<br>P_Long=%{y}<extra></extra>",
         "legendgroup": "",
         "marker": {
          "color": "#636efa",
          "symbol": "circle"
         },
         "mode": "markers",
         "name": "",
         "orientation": "v",
         "showlegend": false,
         "type": "scatter",
         "x": [
          42.65807735896669,
          55.72380890941713,
          73.6811757151736,
          92.64250232698396,
          93.02705509006046,
          93.92500023031609,
          102.92730730120093,
          104.49123098037671,
          105.40014315512964,
          113.21343323471956,
          114.50287385447882,
          120.6450889497064,
          121.67666602157988,
          124.31151907250752,
          125.06013436918148,
          125.65158622642048,
          131.14078661589883,
          132.5113894341048,
          136.24242368375417,
          138.88990264828317,
          139.59842836554162,
          142.33831304265186,
          142.86715757194906,
          144.2646710963454,
          145.93310416222084,
          146.28429502237125,
          147.49235840386245,
          148.45370959164575,
          149.95935746072792,
          151.22707905166317,
          152.67027319280896,
          154.4987573765684,
          158.81540668650996,
          159.41220382088795,
          161.09615047869738,
          161.6538717931835,
          162.7205003669951,
          163.24919129628688,
          169.95631618227344,
          171.70385320764035,
          172.22587790037505,
          173.47387726127636,
          173.7590508753201,
          181.37895865389143,
          186.4591224528849,
          188.6830649941694,
          190.5350806859788,
          191.60855981637724,
          196.8249053056352,
          198.26217048964463,
          198.88206905231343,
          199.30158115760423,
          202.72271220583931,
          203.36678739613853,
          204.087908306974,
          209.6530484976247,
          212.30359946051607,
          213.3869397059316,
          214.0767569526797,
          215.21014005236796,
          221.33859259460587,
          251.4167749545304,
          254.318830428645,
          256.79009956342634,
          291.68996777478606,
          292.7381950779818,
          293.4114235332236,
          293.79299645801075,
          301.9567401180975,
          307.07960469520185,
          307.42889091628604,
          315.64571870933287,
          316.3692050589016,
          322.8617508546449,
          328.12952159764245,
          329.68410640163347,
          334.3272169844713,
          357.1643611318432,
          366.17742019705474,
          376.5934916641563,
          384.0252088190755,
          385.1890661431244,
          386.2801478245528,
          406.36223162256647,
          407.3466227985919,
          437.8170993576059,
          438.2666863275226,
          439.3154051504098,
          440.00986111490056,
          471.1967584271915,
          473.42300496739335,
          497.0116520900047,
          499.0330884950236,
          510.94285775721073,
          522.501006079372,
          523.465029905783,
          533.0426915620919,
          534.5835445331177,
          551.8084240340395,
          553.4382727994816,
          564.1489796356764,
          571.3044626921182,
          571.6154410928721,
          580.8729083529906,
          582.5077644760022,
          582.7646142644808,
          591.9071273434674,
          597.9591485648416,
          599.0789534314536,
          599.7098804684356,
          600.0818687579595,
          601.4220587918535,
          602.5719078031834,
          604.1707293846412,
          606.7703158934601,
          607.3244122498436,
          608.0399114035536,
          608.9930910755647,
          610.2311064415844,
          610.4427056933055,
          611.0195348379202,
          613.1447740697768,
          614.1593629902927,
          616.5439403294586,
          618.1179401634727,
          618.7250592127675,
          624.225748876459,
          625.9645307061728,
          626.9695964314742,
          630.1155993007123,
          632.115992516512,
          633.6662150828633,
          634.5129500093171,
          636.0975789579097,
          637.7847819341114,
          640.6174102438381,
          641.0301025125664,
          642.0792821353534,
          662.9845693518873,
          664.9414323499659,
          665.3522814196767,
          667.211762067629,
          667.7949809689308,
          670.2157464495394,
          671.7426525476621,
          674.294684521039,
          675.9719342223834,
          677.2570740444353,
          678.4919252520194,
          679.1557841121685,
          681.6733482632553,
          689.091886544833,
          697.8557450978551,
          700.2879076926038,
          701.5022993908497,
          702.6568485596217,
          703.5286817131564,
          705.7070972378133,
          706.097025998286,
          706.7716982928105,
          711.9948328986065,
          717.3389120824868,
          721.9851868235273,
          722.6784447085811,
          723.8078034903156,
          724.2848848461872,
          724.8915123754414,
          725.8863483461319,
          730.3069848028244,
          731.0367073091911,
          736.3677612197353,
          736.7543107817182,
          742.3080231382046,
          743.2502050558105,
          743.5170695591951,
          744.3532368111191,
          745.2201547672739,
          745.8108079048106,
          746.9064054238843,
          752.7057240545982,
          753.5104954825947,
          760.9808583777631,
          761.2960146963596,
          764.1524509938899,
          765.5455408405978,
          767.8251479935134,
          770.0446975771338,
          770.5704393879278,
          771.3415417131037,
          772.3346880845493,
          772.8521969396388,
          777.3738714244682,
          778.3725781132234,
          778.7359340870753,
          779.7070235100109,
          780.3494398209732,
          783.5821037659189,
          783.9164600748336,
          785.086246355786,
          786.7730499721365,
          790.0383385403547,
          805.5504253181862,
          808.1372937535634,
          808.7992172547383,
          811.4017221622635,
          813.7875590206822,
          818.6475526924478,
          821.3128799677361,
          824.0835153491935,
          826.5460600083461,
          849.8651699889451,
          860.2006936571561,
          878.7335072084097,
          880.2287102829432,
          881.0619284162531,
          895.4900912690209,
          896.8536284909351,
          911.9029187056004,
          913.3626401983202,
          933.0930723362836,
          933.6993312259438,
          942.0704040598356,
          950.6775906931144,
          963.6543264489156,
          963.9733227655524,
          977.3638259896544,
          978.5308781920468,
          992.6290776939132,
          993.8681375394808,
          994.4941800989908,
          1002.4737881734036,
          1018.428549924516,
          1022.03624343744,
          1034.5797966951504,
          1035.3388567864895,
          1036.543049449916,
          1037.4609318599105,
          1037.9776112755062,
          1047.0470107918372,
          1069.0982763016364,
          1085.0796108391369,
          1085.5961980946597,
          1106.0218541966751,
          1115.84699604637,
          1116.44357814081,
          1117.3992461315356,
          1117.6498597632162,
          1129.1596855502576,
          1131.053142500692,
          1131.640385720064,
          1132.191594397882,
          1132.878247486311,
          1133.6133459899577,
          1135.513284857152,
          1136.1924422694135,
          1136.7520682228496,
          1139.1303786853096,
          1139.3095069135306,
          1140.1954405398574,
          1143.0739337861305,
          1145.140467128018,
          1146.623996608425,
          1161.0011335673044,
          1166.5375812926795,
          1178.262477689539,
          1178.7775596658466,
          1186.899339827476,
          1188.4663355052471,
          1191.562602719874,
          1197.5247372672893,
          1205.3015934454745,
          1208.839276114246,
          1209.8492263171356,
          1211.506723068538,
          1213.4361838406185,
          1214.680619683466,
          1215.0383231804008,
          1215.6009289722424,
          1217.3467456784565,
          1217.9866429507963,
          1219.706316950265,
          1221.8660240046447,
          1223.235735943308,
          1224.1516522744205,
          1225.522224372602,
          1226.4053932003444,
          1230.2627173054498,
          1230.711075475905,
          1231.1676051621323,
          1231.5555985633982,
          1233.967608848587,
          1242.967673360603,
          1243.2866696772398,
          1244.0380190524738,
          1249.6214683536673,
          1250.9676795044215,
          1252.5618009283207,
          1259.6401768241776,
          1261.34372283204,
          1262.0877915710444,
          1262.5227865482448,
          1264.4280706928112,
          1267.9177073061,
          1273.424049446825,
          1277.0497448703973,
          1281.4095864782576,
          1284.1807133795228,
          1284.9596800205763,
          1286.2167110570008,
          1294.8132071355358,
          1299.6551988964202,
          1302.650520242867,
          1310.7411196205069,
          1315.4580503253965,
          1316.0564141790385,
          1317.977058315766,
          1323.5991226371843,
          1324.224673677003,
          1325.1093170640524,
          1331.4713643667055,
          1331.7068637660705,
          1332.2831399510617,
          1340.5859222599538,
          1347.3427213603863,
          1348.8895340084564,
          1349.5069749723189,
          1351.6222302094102,
          1352.0288399212295,
          1358.7216185745783,
          1370.1637067961274,
          1373.0089917393634,
          1375.5738339461386,
          1410.7411810605554,
          1411.3753029757645,
          1417.841091665323,
          1420.4921955879545,
          1422.7508824315155,
          1423.6745401985245,
          1425.646394549054,
          1427.9621284033635,
          1429.0591390416955,
          1431.6200798104985,
          1433.393974582199,
          1433.9791595626157,
          1439.2945770011283,
          1439.5359131975565,
          1439.9662387372227,
          1440.8523566835793,
          1443.2595746510196,
          1445.1461196051678,
          1448.1748028544243,
          1448.7352582474705,
          1449.4783132269513,
          1450.8943201820366,
          1453.444386076415,
          1454.6946894362336,
          1454.8804531811038,
          1460.1500671231188,
          1465.144522165996,
          1470.2957412885737,
          1476.8781430382514,
          1477.5671922855545,
          1498.9632926906925,
          1505.164428715827,
          1521.5285035372945,
          1533.9688376479317,
          1552.7552139492473,
          1554.4688053919235,
          1568.0800317029934,
          1599.0133355450816,
          1607.8498775807675,
          1625.7069129180163,
          1632.888692280976,
          1658.7792185449507,
          1669.415705899126,
          1670.1107148233568,
          1671.3160441261716,
          1671.7169399209088,
          1672.7778238577305,
          1673.4365217604209,
          1676.3927058469271,
          1677.501267199288,
          1678.088940498419,
          1679.3729129610583,
          1680.6959612435894,
          1681.0088750033174,
          1683.5023854066385,
          1684.585909971967,
          1688.9067064797273,
          1693.342057808768,
          1693.9502827774268,
          1696.829851223156,
          1699.2252419966972,
          1702.0402370353695,
          1705.0530994927976,
          1707.7120677314233,
          1712.4140992439352,
          1712.756350588752,
          1714.3077712343074,
          1716.015833079815,
          1717.6865394243505,
          1721.2918060584925,
          1721.934529569582,
          1725.278891377151,
          1725.8979605002096,
          1728.437550880015,
          1729.6890830391785,
          1731.1114797509508,
          1731.7899920435157,
          1733.7299590501934,
          1734.9610316999024,
          1736.8927964709
         ],
         "xaxis": "x",
         "y": [
          0.4390565492203125,
          0.5037653685246465,
          0.5053887806679719,
          0.5540344517960794,
          0.5171652977838007,
          0.4506148293994904,
          0.5540584696047858,
          0.6014978808124232,
          0.6995125247183445,
          0.5405263198831236,
          0.4991086707676261,
          0.649777799777345,
          0.6516798582600445,
          0.3529458002502701,
          0.7219857990837464,
          0.5248621773274301,
          0.8358840428162969,
          0.7619687163145775,
          0.562821969911037,
          0.6500313853086487,
          0.6666081596527272,
          0.4670602742386107,
          0.6179694415556596,
          0.7431354860202524,
          0.4255586744447014,
          0.8296033445019068,
          0.52145531541061,
          0.5240390655970953,
          0.5765778723798487,
          0.789409385370831,
          0.7730289815384485,
          0.5521357180689452,
          0.6439262594737288,
          0.8391424369602423,
          0.6538906169154381,
          0.5637365162449576,
          0.8378915763760378,
          0.659418963553348,
          0.5844737819238094,
          0.5117737938628466,
          0.4993445978256598,
          0.6022606943240224,
          0.691712175060837,
          0.5084047053928975,
          0.5989861948228179,
          0.549240736354785,
          0.5608430814434953,
          0.6880938991344029,
          0.4899478836695816,
          0.5207330297279626,
          0.6115882907695575,
          0.6742831533740338,
          0.5340125373758313,
          0.6832167520643687,
          0.5222282576214032,
          0.5655819588971226,
          0.497087965189697,
          0.6284869536925622,
          0.7260048397542311,
          0.458023622339562,
          0.5230674124077911,
          0.5550872017410649,
          0.6842658841433771,
          0.6921429161611259,
          0.5959921306975983,
          0.5723597513514032,
          0.5385286548889078,
          0.6482086833359583,
          0.5149868628295613,
          0.723840561887525,
          0.5686853604340868,
          0.6130441889206679,
          0.583190196129843,
          0.4395518663184923,
          0.5927242611345477,
          0.4375207942162691,
          0.6031374346052886,
          0.5354784783798692,
          0.628360308798203,
          0.5160909608868053,
          0.4567348965393791,
          0.638554424108178,
          0.5392940817601835,
          0.7273314531417053,
          0.5887850134817094,
          0.4799857498477397,
          0.5691206570284141,
          0.513157740178076,
          0.5670883095233114,
          0.4379234050555459,
          0.5937248848892874,
          0.6086909916025258,
          0.623448129686828,
          0.7040829685166846,
          0.5939695059854045,
          0.5634784673740525,
          0.7306085495991643,
          0.5058988314293578,
          0.556515936938692,
          0.6052327727335441,
          0.6515749328886513,
          0.6122731917362714,
          0.6988425431326039,
          0.6118664816097266,
          0.8411010936421799,
          0.7360190030143371,
          0.6813012088091924,
          0.5937145701347343,
          0.7054615039156826,
          0.5882391622925793,
          0.559749185640337,
          0.4541319473989248,
          0.7111662406151591,
          0.5588089726362756,
          0.6286205871234611,
          0.7120647074185346,
          0.7165905136751185,
          0.4648356053688716,
          0.5147721130638387,
          0.554926505957408,
          0.5042953644343257,
          0.6448849794149597,
          0.4406520447303404,
          0.5062014053583017,
          0.5065618849987696,
          0.8212670922119709,
          0.7055388755701526,
          0.4804452786050887,
          0.6270410242702675,
          0.5121706780549494,
          0.5046362883142168,
          0.709473923419668,
          0.7284988914226462,
          0.4893283828510421,
          0.66036336249971,
          0.7670214103431504,
          0.4974818636640606,
          0.6163198856371592,
          0.534305107920545,
          0.6250257419457979,
          0.5860085312461064,
          0.6741601260508021,
          0.62205291582035,
          0.6755871738345914,
          0.4919009136797705,
          0.7552178589708861,
          0.6189954277578695,
          0.5920314046351324,
          0.5636815581082222,
          0.5321614856995343,
          0.5747514996149772,
          0.5169060085406276,
          0.7570416463294718,
          0.8162044275422956,
          0.5546480113363765,
          0.8257285274712804,
          0.6317081119844885,
          0.8125386163021892,
          0.6048229122053956,
          0.5438313513407232,
          0.4503010339653148,
          0.602983166335759,
          0.5078524381475717,
          0.5457811159265946,
          0.6015930654130216,
          0.3873279116563722,
          0.8822190500619467,
          0.6038496528418272,
          0.7855338406948078,
          0.6612250511161668,
          0.4494504023220491,
          0.4642406763952966,
          0.5762056993753882,
          0.6426737171285438,
          0.7140792979588156,
          0.7687728504540372,
          0.5366622918677664,
          0.5963767804334228,
          0.5872150316211785,
          0.590006602972503,
          0.538123451668401,
          0.6761244008619373,
          0.6598326580158352,
          0.6123296584392539,
          0.6110380713623085,
          0.5654058597110319,
          0.5976793297073022,
          0.7336582712693218,
          0.6023886465661197,
          0.5778582488322214,
          0.6983101178674135,
          0.6916192089405708,
          0.8280271828419524,
          0.5001522095260574,
          0.7189189930067021,
          0.4961514020785508,
          0.5282744850778482,
          0.8300590540088552,
          0.4226944304915669,
          0.4782661369357439,
          0.5015496875991633,
          0.5544127736106622,
          0.8707718820919725,
          0.6789120942878397,
          0.6976453724508096,
          0.8020897698731276,
          0.7484683218711925,
          0.6944901216121885,
          0.7125745737092392,
          0.6298261810174232,
          0.4751348018311433,
          0.5512503841592492,
          0.5401633173656938,
          0.5244864186317314,
          0.6095314951426817,
          0.5945764608924533,
          0.5379521966482581,
          0.5853336169716763,
          0.7230959818099052,
          0.5627048557152681,
          0.5881493787577046,
          0.5084587549009373,
          0.4621948566521973,
          0.7265437282764532,
          0.5501254466637818,
          0.7621134795675881,
          0.5173655654234592,
          0.5320068666868869,
          0.649557233200123,
          0.6189689696607172,
          0.5117979718200457,
          0.5195287917021812,
          0.4554800272517716,
          0.7187952379074751,
          0.5904057694290173,
          0.4624928492902875,
          0.4928861170745741,
          0.6321306951959761,
          0.6043140267606488,
          0.5082500054219719,
          0.6596018127112467,
          0.4505176550604315,
          0.4725710787537708,
          0.5072617177570994,
          0.6102327772366993,
          0.6153657116212227,
          0.5246688963845947,
          0.4705415724669337,
          0.7929816505943408,
          0.489327567303838,
          0.5356925240556629,
          0.4513792571410618,
          0.2740061458819362,
          0.4146202755262794,
          0.516486819907932,
          0.5211370592560465,
          0.3790228236215487,
          0.6647207264705592,
          0.5713292684052351,
          0.4625924820021308,
          0.4069053114647842,
          0.5233091275463712,
          0.5693586974429939,
          0.4677425364974857,
          0.5467562587110056,
          0.5443985217940843,
          0.621264241963338,
          0.6896676409840773,
          0.4686292667816888,
          0.4152321802547912,
          0.4525649565742922,
          0.4547309392887551,
          0.5070314221871826,
          0.42516851374483,
          0.432668840153375,
          0.6425579989695,
          0.6854747180495708,
          0.4429175798084358,
          0.4992104728149462,
          0.3799420395132222,
          0.3543218245401068,
          0.2875031539242998,
          0.2930283529716529,
          0.6207970815216274,
          0.426933704538711,
          0.5733631602995471,
          0.4274353376178763,
          0.5983245259832404,
          0.4785026490608255,
          0.6341678404385616,
          0.5260976416710903,
          0.5325728900798593,
          0.7575950364321576,
          0.4932555354565959,
          0.4766487744769631,
          0.5259221304931514,
          0.5339918653265793,
          0.5054795536254123,
          0.5399894564506564,
          0.5233700239510832,
          0.547816003621075,
          0.4771058648748237,
          0.4608602130669011,
          0.5628041810074124,
          0.5676857745763496,
          0.5432499809948612,
          0.5476549835316729,
          0.4448984833078453,
          0.5490506588321984,
          0.5262003722511517,
          0.4872900539740512,
          0.5281749287429189,
          0.6120878967614807,
          0.4503328068642959,
          0.4348556854023716,
          0.5590131721719281,
          0.5227607543851811,
          0.5668973680871885,
          0.5025169894748128,
          0.5389791550727319,
          0.4673637203610185,
          0.3649232288252823,
          0.7001624465048704,
          0.5368433021449467,
          0.4364343508433356,
          0.5421785626226148,
          0.2765120941940812,
          0.5257999195873816,
          0.535244455518724,
          0.4795975667859044,
          0.7679917677262578,
          0.4847496319889415,
          0.5298165330527014,
          0.5634301633499273,
          0.5539092154260888,
          0.5066418279836543,
          0.5493522790226926,
          0.6032245450598477,
          0.4514909543836762,
          0.4825585017915965,
          0.4434574932343417,
          0.5003538055256699,
          0.6809153098833162,
          0.4767841567791745,
          0.5708631834132487,
          0.5761326844476867,
          0.5462888639738668,
          0.5220924962921882,
          0.5062798635315933,
          0.5179941901853656,
          0.4712344936286404,
          0.6139884953105635,
          0.4859509243422688,
          0.3582966459350813,
          0.4740467563623947,
          0.618785836488021,
          0.4835288483623661,
          0.4300737288515264,
          0.4415549941715376,
          0.4772525270205341,
          0.4802076243232392,
          0.4767606891106555,
          0.4956827473318611,
          0.6035063263284538,
          0.6009413323811308,
          0.5097139984900644,
          0.419658446115085,
          0.4885841187539994,
          0.5897833050463129,
          0.5852826061078316,
          0.7059440847291354,
          0.6617984789611121,
          0.5540932358696307,
          0.554223801396242,
          0.4288095351556797,
          0.573210103198759,
          0.413528894180358,
          0.530578992806136,
          0.5492459306899422,
          0.4943068872448727,
          0.4852169310890643,
          0.6124622596079262,
          0.4862158473898506,
          0.4849777703216354,
          0.6102937210259585,
          0.4644541618012952,
          0.5555153424635842,
          0.3385614735149904,
          0.4603756718374998,
          0.5069248194182174,
          0.62815110576109,
          0.555838465066537,
          0.2946121084973487,
          0.5268077394313054,
          0.400832103241628,
          0.3599782352229098,
          0.4749811251806358,
          0.4435181158381349,
          0.4858442159795672,
          0.398162832103123,
          0.3381591945767468,
          0.3102927808180721,
          0.5813961259228856,
          0.4586216649269296,
          0.4909941946679107,
          0.595627502400517,
          0.4670262994165925,
          0.4164402920885197,
          0.5683035200565488,
          0.4116863874473948,
          0.4899644358464232,
          0.5250608961328256
         ],
         "yaxis": "y"
        }
       ],
       "layout": {
        "legend": {
         "tracegroupgap": 0
        },
        "template": {
         "data": {
          "bar": [
           {
            "error_x": {
             "color": "#2a3f5f"
            },
            "error_y": {
             "color": "#2a3f5f"
            },
            "marker": {
             "line": {
              "color": "#E5ECF6",
              "width": 0.5
             },
             "pattern": {
              "fillmode": "overlay",
              "size": 10,
              "solidity": 0.2
             }
            },
            "type": "bar"
           }
          ],
          "barpolar": [
           {
            "marker": {
             "line": {
              "color": "#E5ECF6",
              "width": 0.5
             },
             "pattern": {
              "fillmode": "overlay",
              "size": 10,
              "solidity": 0.2
             }
            },
            "type": "barpolar"
           }
          ],
          "carpet": [
           {
            "aaxis": {
             "endlinecolor": "#2a3f5f",
             "gridcolor": "white",
             "linecolor": "white",
             "minorgridcolor": "white",
             "startlinecolor": "#2a3f5f"
            },
            "baxis": {
             "endlinecolor": "#2a3f5f",
             "gridcolor": "white",
             "linecolor": "white",
             "minorgridcolor": "white",
             "startlinecolor": "#2a3f5f"
            },
            "type": "carpet"
           }
          ],
          "choropleth": [
           {
            "colorbar": {
             "outlinewidth": 0,
             "ticks": ""
            },
            "type": "choropleth"
           }
          ],
          "contour": [
           {
            "colorbar": {
             "outlinewidth": 0,
             "ticks": ""
            },
            "colorscale": [
             [
              0,
              "#0d0887"
             ],
             [
              0.1111111111111111,
              "#46039f"
             ],
             [
              0.2222222222222222,
              "#7201a8"
             ],
             [
              0.3333333333333333,
              "#9c179e"
             ],
             [
              0.4444444444444444,
              "#bd3786"
             ],
             [
              0.5555555555555556,
              "#d8576b"
             ],
             [
              0.6666666666666666,
              "#ed7953"
             ],
             [
              0.7777777777777778,
              "#fb9f3a"
             ],
             [
              0.8888888888888888,
              "#fdca26"
             ],
             [
              1,
              "#f0f921"
             ]
            ],
            "type": "contour"
           }
          ],
          "contourcarpet": [
           {
            "colorbar": {
             "outlinewidth": 0,
             "ticks": ""
            },
            "type": "contourcarpet"
           }
          ],
          "heatmap": [
           {
            "colorbar": {
             "outlinewidth": 0,
             "ticks": ""
            },
            "colorscale": [
             [
              0,
              "#0d0887"
             ],
             [
              0.1111111111111111,
              "#46039f"
             ],
             [
              0.2222222222222222,
              "#7201a8"
             ],
             [
              0.3333333333333333,
              "#9c179e"
             ],
             [
              0.4444444444444444,
              "#bd3786"
             ],
             [
              0.5555555555555556,
              "#d8576b"
             ],
             [
              0.6666666666666666,
              "#ed7953"
             ],
             [
              0.7777777777777778,
              "#fb9f3a"
             ],
             [
              0.8888888888888888,
              "#fdca26"
             ],
             [
              1,
              "#f0f921"
             ]
            ],
            "type": "heatmap"
           }
          ],
          "heatmapgl": [
           {
            "colorbar": {
             "outlinewidth": 0,
             "ticks": ""
            },
            "colorscale": [
             [
              0,
              "#0d0887"
             ],
             [
              0.1111111111111111,
              "#46039f"
             ],
             [
              0.2222222222222222,
              "#7201a8"
             ],
             [
              0.3333333333333333,
              "#9c179e"
             ],
             [
              0.4444444444444444,
              "#bd3786"
             ],
             [
              0.5555555555555556,
              "#d8576b"
             ],
             [
              0.6666666666666666,
              "#ed7953"
             ],
             [
              0.7777777777777778,
              "#fb9f3a"
             ],
             [
              0.8888888888888888,
              "#fdca26"
             ],
             [
              1,
              "#f0f921"
             ]
            ],
            "type": "heatmapgl"
           }
          ],
          "histogram": [
           {
            "marker": {
             "pattern": {
              "fillmode": "overlay",
              "size": 10,
              "solidity": 0.2
             }
            },
            "type": "histogram"
           }
          ],
          "histogram2d": [
           {
            "colorbar": {
             "outlinewidth": 0,
             "ticks": ""
            },
            "colorscale": [
             [
              0,
              "#0d0887"
             ],
             [
              0.1111111111111111,
              "#46039f"
             ],
             [
              0.2222222222222222,
              "#7201a8"
             ],
             [
              0.3333333333333333,
              "#9c179e"
             ],
             [
              0.4444444444444444,
              "#bd3786"
             ],
             [
              0.5555555555555556,
              "#d8576b"
             ],
             [
              0.6666666666666666,
              "#ed7953"
             ],
             [
              0.7777777777777778,
              "#fb9f3a"
             ],
             [
              0.8888888888888888,
              "#fdca26"
             ],
             [
              1,
              "#f0f921"
             ]
            ],
            "type": "histogram2d"
           }
          ],
          "histogram2dcontour": [
           {
            "colorbar": {
             "outlinewidth": 0,
             "ticks": ""
            },
            "colorscale": [
             [
              0,
              "#0d0887"
             ],
             [
              0.1111111111111111,
              "#46039f"
             ],
             [
              0.2222222222222222,
              "#7201a8"
             ],
             [
              0.3333333333333333,
              "#9c179e"
             ],
             [
              0.4444444444444444,
              "#bd3786"
             ],
             [
              0.5555555555555556,
              "#d8576b"
             ],
             [
              0.6666666666666666,
              "#ed7953"
             ],
             [
              0.7777777777777778,
              "#fb9f3a"
             ],
             [
              0.8888888888888888,
              "#fdca26"
             ],
             [
              1,
              "#f0f921"
             ]
            ],
            "type": "histogram2dcontour"
           }
          ],
          "mesh3d": [
           {
            "colorbar": {
             "outlinewidth": 0,
             "ticks": ""
            },
            "type": "mesh3d"
           }
          ],
          "parcoords": [
           {
            "line": {
             "colorbar": {
              "outlinewidth": 0,
              "ticks": ""
             }
            },
            "type": "parcoords"
           }
          ],
          "pie": [
           {
            "automargin": true,
            "type": "pie"
           }
          ],
          "scatter": [
           {
            "fillpattern": {
             "fillmode": "overlay",
             "size": 10,
             "solidity": 0.2
            },
            "type": "scatter"
           }
          ],
          "scatter3d": [
           {
            "line": {
             "colorbar": {
              "outlinewidth": 0,
              "ticks": ""
             }
            },
            "marker": {
             "colorbar": {
              "outlinewidth": 0,
              "ticks": ""
             }
            },
            "type": "scatter3d"
           }
          ],
          "scattercarpet": [
           {
            "marker": {
             "colorbar": {
              "outlinewidth": 0,
              "ticks": ""
             }
            },
            "type": "scattercarpet"
           }
          ],
          "scattergeo": [
           {
            "marker": {
             "colorbar": {
              "outlinewidth": 0,
              "ticks": ""
             }
            },
            "type": "scattergeo"
           }
          ],
          "scattergl": [
           {
            "marker": {
             "colorbar": {
              "outlinewidth": 0,
              "ticks": ""
             }
            },
            "type": "scattergl"
           }
          ],
          "scattermapbox": [
           {
            "marker": {
             "colorbar": {
              "outlinewidth": 0,
              "ticks": ""
             }
            },
            "type": "scattermapbox"
           }
          ],
          "scatterpolar": [
           {
            "marker": {
             "colorbar": {
              "outlinewidth": 0,
              "ticks": ""
             }
            },
            "type": "scatterpolar"
           }
          ],
          "scatterpolargl": [
           {
            "marker": {
             "colorbar": {
              "outlinewidth": 0,
              "ticks": ""
             }
            },
            "type": "scatterpolargl"
           }
          ],
          "scatterternary": [
           {
            "marker": {
             "colorbar": {
              "outlinewidth": 0,
              "ticks": ""
             }
            },
            "type": "scatterternary"
           }
          ],
          "surface": [
           {
            "colorbar": {
             "outlinewidth": 0,
             "ticks": ""
            },
            "colorscale": [
             [
              0,
              "#0d0887"
             ],
             [
              0.1111111111111111,
              "#46039f"
             ],
             [
              0.2222222222222222,
              "#7201a8"
             ],
             [
              0.3333333333333333,
              "#9c179e"
             ],
             [
              0.4444444444444444,
              "#bd3786"
             ],
             [
              0.5555555555555556,
              "#d8576b"
             ],
             [
              0.6666666666666666,
              "#ed7953"
             ],
             [
              0.7777777777777778,
              "#fb9f3a"
             ],
             [
              0.8888888888888888,
              "#fdca26"
             ],
             [
              1,
              "#f0f921"
             ]
            ],
            "type": "surface"
           }
          ],
          "table": [
           {
            "cells": {
             "fill": {
              "color": "#EBF0F8"
             },
             "line": {
              "color": "white"
             }
            },
            "header": {
             "fill": {
              "color": "#C8D4E3"
             },
             "line": {
              "color": "white"
             }
            },
            "type": "table"
           }
          ]
         },
         "layout": {
          "annotationdefaults": {
           "arrowcolor": "#2a3f5f",
           "arrowhead": 0,
           "arrowwidth": 1
          },
          "autotypenumbers": "strict",
          "coloraxis": {
           "colorbar": {
            "outlinewidth": 0,
            "ticks": ""
           }
          },
          "colorscale": {
           "diverging": [
            [
             0,
             "#8e0152"
            ],
            [
             0.1,
             "#c51b7d"
            ],
            [
             0.2,
             "#de77ae"
            ],
            [
             0.3,
             "#f1b6da"
            ],
            [
             0.4,
             "#fde0ef"
            ],
            [
             0.5,
             "#f7f7f7"
            ],
            [
             0.6,
             "#e6f5d0"
            ],
            [
             0.7,
             "#b8e186"
            ],
            [
             0.8,
             "#7fbc41"
            ],
            [
             0.9,
             "#4d9221"
            ],
            [
             1,
             "#276419"
            ]
           ],
           "sequential": [
            [
             0,
             "#0d0887"
            ],
            [
             0.1111111111111111,
             "#46039f"
            ],
            [
             0.2222222222222222,
             "#7201a8"
            ],
            [
             0.3333333333333333,
             "#9c179e"
            ],
            [
             0.4444444444444444,
             "#bd3786"
            ],
            [
             0.5555555555555556,
             "#d8576b"
            ],
            [
             0.6666666666666666,
             "#ed7953"
            ],
            [
             0.7777777777777778,
             "#fb9f3a"
            ],
            [
             0.8888888888888888,
             "#fdca26"
            ],
            [
             1,
             "#f0f921"
            ]
           ],
           "sequentialminus": [
            [
             0,
             "#0d0887"
            ],
            [
             0.1111111111111111,
             "#46039f"
            ],
            [
             0.2222222222222222,
             "#7201a8"
            ],
            [
             0.3333333333333333,
             "#9c179e"
            ],
            [
             0.4444444444444444,
             "#bd3786"
            ],
            [
             0.5555555555555556,
             "#d8576b"
            ],
            [
             0.6666666666666666,
             "#ed7953"
            ],
            [
             0.7777777777777778,
             "#fb9f3a"
            ],
            [
             0.8888888888888888,
             "#fdca26"
            ],
            [
             1,
             "#f0f921"
            ]
           ]
          },
          "colorway": [
           "#636efa",
           "#EF553B",
           "#00cc96",
           "#ab63fa",
           "#FFA15A",
           "#19d3f3",
           "#FF6692",
           "#B6E880",
           "#FF97FF",
           "#FECB52"
          ],
          "font": {
           "color": "#2a3f5f"
          },
          "geo": {
           "bgcolor": "white",
           "lakecolor": "white",
           "landcolor": "#E5ECF6",
           "showlakes": true,
           "showland": true,
           "subunitcolor": "white"
          },
          "hoverlabel": {
           "align": "left"
          },
          "hovermode": "closest",
          "mapbox": {
           "style": "light"
          },
          "paper_bgcolor": "white",
          "plot_bgcolor": "#E5ECF6",
          "polar": {
           "angularaxis": {
            "gridcolor": "white",
            "linecolor": "white",
            "ticks": ""
           },
           "bgcolor": "#E5ECF6",
           "radialaxis": {
            "gridcolor": "white",
            "linecolor": "white",
            "ticks": ""
           }
          },
          "scene": {
           "xaxis": {
            "backgroundcolor": "#E5ECF6",
            "gridcolor": "white",
            "gridwidth": 2,
            "linecolor": "white",
            "showbackground": true,
            "ticks": "",
            "zerolinecolor": "white"
           },
           "yaxis": {
            "backgroundcolor": "#E5ECF6",
            "gridcolor": "white",
            "gridwidth": 2,
            "linecolor": "white",
            "showbackground": true,
            "ticks": "",
            "zerolinecolor": "white"
           },
           "zaxis": {
            "backgroundcolor": "#E5ECF6",
            "gridcolor": "white",
            "gridwidth": 2,
            "linecolor": "white",
            "showbackground": true,
            "ticks": "",
            "zerolinecolor": "white"
           }
          },
          "shapedefaults": {
           "line": {
            "color": "#2a3f5f"
           }
          },
          "ternary": {
           "aaxis": {
            "gridcolor": "white",
            "linecolor": "white",
            "ticks": ""
           },
           "baxis": {
            "gridcolor": "white",
            "linecolor": "white",
            "ticks": ""
           },
           "bgcolor": "#E5ECF6",
           "caxis": {
            "gridcolor": "white",
            "linecolor": "white",
            "ticks": ""
           }
          },
          "title": {
           "x": 0.05
          },
          "xaxis": {
           "automargin": true,
           "gridcolor": "white",
           "linecolor": "white",
           "ticks": "",
           "title": {
            "standoff": 15
           },
           "zerolinecolor": "white",
           "zerolinewidth": 2
          },
          "yaxis": {
           "automargin": true,
           "gridcolor": "white",
           "linecolor": "white",
           "ticks": "",
           "title": {
            "standoff": 15
           },
           "zerolinecolor": "white",
           "zerolinewidth": 2
          }
         }
        },
        "title": {
         "text": "Ripples - Session: kdiba_gor01_one_2006"
        },
        "xaxis": {
         "anchor": "y",
         "domain": [
          0,
          1
         ],
         "title": {
          "text": "ripple_start_t"
         }
        },
        "yaxis": {
         "anchor": "x",
         "domain": [
          0,
          1
         ],
         "title": {
          "text": "P_Long"
         }
        }
       }
      }
     },
     "metadata": {},
     "output_type": "display_data"
    },
    {
     "data": {
      "application/vnd.plotly.v1+json": {
       "config": {
        "plotlyServerURL": "https://plot.ly"
       },
       "data": [
        {
         "hovertemplate": "lap_start_t=%{x}<br>P_Long=%{y}<extra></extra>",
         "legendgroup": "",
         "marker": {
          "color": "#636efa",
          "symbol": "circle"
         },
         "mode": "markers",
         "name": "",
         "orientation": "v",
         "showlegend": false,
         "type": "scatter",
         "x": [
          36.30772099993192,
          63.03551499999594,
          72.00999699998647,
          89.96247699996457,
          116.05457599996588,
          144.88411499990616,
          156.02872399997432,
          181.7885369999567,
          195.7694509999128,
          209.91466199990828,
          223.13059899990915,
          241.24824200000148,
          249.7557039998937,
          259.7653369999025,
          268.1403679999057,
          284.5918739999179,
          296.1709379999665,
          305.34484999999404,
          310.2159499999834,
          333.6070859999163,
          342.74984699999914,
          352.46083799994085,
          369.710447999998,
          378.620450999937,
          400.60837899998296,
          415.6555789998965,
          426.10090099996887,
          435.64392099995166,
          451.4601449999027,
          467.9105399999535,
          489.4970619999804,
          512.8542729999172,
          554.9639859999297,
          572.2156139999861,
          579.821646999917,
          593.0348339999327,
          601.0768729998963,
          619.4946919999784,
          630.039243999985,
          641.0837169999722,
          673.617409999948,
          723.7670289999805,
          741.5183869999601,
          749.3249049999285,
          763.3746279999614,
          780.8246019999497,
          790.0003819999984,
          797.9088939999929,
          804.7151479999302,
          814.4911829999182,
          821.5653969999403,
          827.9058179999702,
          840.2167979999213,
          848.2599029999692,
          857.3015769999474,
          863.6420569999609,
          872.6506019999506,
          885.128318999894,
          895.0404540000018,
          912.3239309999626,
          919.331405999954,
          928.4060179999796,
          952.9655379999896,
          958.8049949998968,
          966.9454069999048,
          974.6198029998924,
          982.7622639999026,
          992.371541999979,
          1036.0824379998958,
          1050.162129999953,
          1067.3135259998962,
          1073.0853829999687,
          1086.898688999936,
          1098.2110359999351
         ],
         "xaxis": "x",
         "y": [
          0.7580161959197943,
          0.9450187291534324,
          0.748581660375836,
          0.802010827279654,
          0.832117719800522,
          0.8896990723868898,
          0.8689051650581924,
          0.8828742365207195,
          0.8818654788681888,
          0.8620282618213495,
          0.7965899654711619,
          0.7409919885551486,
          0.6777064519171928,
          0.8396462221042296,
          0.6933368111163702,
          0.8576599437267599,
          0.7408638877112524,
          0.7228229456963338,
          0.6210853715212428,
          0.7693791955769183,
          0.6491482660305699,
          0.8276486288141606,
          0.7577508755437209,
          0.8166270934983031,
          0.816202506001827,
          0.716592429918694,
          0.6209909952080304,
          0.7520777964688725,
          0.8097439147207384,
          0.736690794490125,
          0.759686566574198,
          0.8175263406208232,
          0.7958629215072652,
          0.820405967055574,
          0.7095301396260683,
          0.638532781487669,
          0.6148336125812569,
          0.7458890297754247,
          0.6432708157331642,
          0.749110729515346,
          0.3847563517650452,
          0.2972883995979047,
          0.3521926891775833,
          0.3286454921873217,
          0.3208245464045196,
          0.3253092337830148,
          0.3829938222877097,
          0.2678196984338338,
          0.3016547435226015,
          0.2378083932159387,
          0.3761706946741958,
          0.3407565702312316,
          0.3283121042656438,
          0.2446020817385384,
          0.3367927407232384,
          0.3603122662646658,
          0.3465588756861841,
          0.259225364899658,
          0.3430788545833283,
          0.2556832887044891,
          0.2829467782429927,
          0.2879205587482557,
          0.3514556832960964,
          0.3039378899858744,
          0.2820686310091309,
          0.2838956492386817,
          0.3668683102344753,
          0.2095260864958213,
          0.3995793650446074,
          0.27369431719264,
          0.2912512430844282,
          0.2981727767465577,
          0.3403285933355797,
          0.3281645207507391
         ],
         "yaxis": "y"
        }
       ],
       "layout": {
        "legend": {
         "tracegroupgap": 0
        },
        "template": {
         "data": {
          "bar": [
           {
            "error_x": {
             "color": "#2a3f5f"
            },
            "error_y": {
             "color": "#2a3f5f"
            },
            "marker": {
             "line": {
              "color": "#E5ECF6",
              "width": 0.5
             },
             "pattern": {
              "fillmode": "overlay",
              "size": 10,
              "solidity": 0.2
             }
            },
            "type": "bar"
           }
          ],
          "barpolar": [
           {
            "marker": {
             "line": {
              "color": "#E5ECF6",
              "width": 0.5
             },
             "pattern": {
              "fillmode": "overlay",
              "size": 10,
              "solidity": 0.2
             }
            },
            "type": "barpolar"
           }
          ],
          "carpet": [
           {
            "aaxis": {
             "endlinecolor": "#2a3f5f",
             "gridcolor": "white",
             "linecolor": "white",
             "minorgridcolor": "white",
             "startlinecolor": "#2a3f5f"
            },
            "baxis": {
             "endlinecolor": "#2a3f5f",
             "gridcolor": "white",
             "linecolor": "white",
             "minorgridcolor": "white",
             "startlinecolor": "#2a3f5f"
            },
            "type": "carpet"
           }
          ],
          "choropleth": [
           {
            "colorbar": {
             "outlinewidth": 0,
             "ticks": ""
            },
            "type": "choropleth"
           }
          ],
          "contour": [
           {
            "colorbar": {
             "outlinewidth": 0,
             "ticks": ""
            },
            "colorscale": [
             [
              0,
              "#0d0887"
             ],
             [
              0.1111111111111111,
              "#46039f"
             ],
             [
              0.2222222222222222,
              "#7201a8"
             ],
             [
              0.3333333333333333,
              "#9c179e"
             ],
             [
              0.4444444444444444,
              "#bd3786"
             ],
             [
              0.5555555555555556,
              "#d8576b"
             ],
             [
              0.6666666666666666,
              "#ed7953"
             ],
             [
              0.7777777777777778,
              "#fb9f3a"
             ],
             [
              0.8888888888888888,
              "#fdca26"
             ],
             [
              1,
              "#f0f921"
             ]
            ],
            "type": "contour"
           }
          ],
          "contourcarpet": [
           {
            "colorbar": {
             "outlinewidth": 0,
             "ticks": ""
            },
            "type": "contourcarpet"
           }
          ],
          "heatmap": [
           {
            "colorbar": {
             "outlinewidth": 0,
             "ticks": ""
            },
            "colorscale": [
             [
              0,
              "#0d0887"
             ],
             [
              0.1111111111111111,
              "#46039f"
             ],
             [
              0.2222222222222222,
              "#7201a8"
             ],
             [
              0.3333333333333333,
              "#9c179e"
             ],
             [
              0.4444444444444444,
              "#bd3786"
             ],
             [
              0.5555555555555556,
              "#d8576b"
             ],
             [
              0.6666666666666666,
              "#ed7953"
             ],
             [
              0.7777777777777778,
              "#fb9f3a"
             ],
             [
              0.8888888888888888,
              "#fdca26"
             ],
             [
              1,
              "#f0f921"
             ]
            ],
            "type": "heatmap"
           }
          ],
          "heatmapgl": [
           {
            "colorbar": {
             "outlinewidth": 0,
             "ticks": ""
            },
            "colorscale": [
             [
              0,
              "#0d0887"
             ],
             [
              0.1111111111111111,
              "#46039f"
             ],
             [
              0.2222222222222222,
              "#7201a8"
             ],
             [
              0.3333333333333333,
              "#9c179e"
             ],
             [
              0.4444444444444444,
              "#bd3786"
             ],
             [
              0.5555555555555556,
              "#d8576b"
             ],
             [
              0.6666666666666666,
              "#ed7953"
             ],
             [
              0.7777777777777778,
              "#fb9f3a"
             ],
             [
              0.8888888888888888,
              "#fdca26"
             ],
             [
              1,
              "#f0f921"
             ]
            ],
            "type": "heatmapgl"
           }
          ],
          "histogram": [
           {
            "marker": {
             "pattern": {
              "fillmode": "overlay",
              "size": 10,
              "solidity": 0.2
             }
            },
            "type": "histogram"
           }
          ],
          "histogram2d": [
           {
            "colorbar": {
             "outlinewidth": 0,
             "ticks": ""
            },
            "colorscale": [
             [
              0,
              "#0d0887"
             ],
             [
              0.1111111111111111,
              "#46039f"
             ],
             [
              0.2222222222222222,
              "#7201a8"
             ],
             [
              0.3333333333333333,
              "#9c179e"
             ],
             [
              0.4444444444444444,
              "#bd3786"
             ],
             [
              0.5555555555555556,
              "#d8576b"
             ],
             [
              0.6666666666666666,
              "#ed7953"
             ],
             [
              0.7777777777777778,
              "#fb9f3a"
             ],
             [
              0.8888888888888888,
              "#fdca26"
             ],
             [
              1,
              "#f0f921"
             ]
            ],
            "type": "histogram2d"
           }
          ],
          "histogram2dcontour": [
           {
            "colorbar": {
             "outlinewidth": 0,
             "ticks": ""
            },
            "colorscale": [
             [
              0,
              "#0d0887"
             ],
             [
              0.1111111111111111,
              "#46039f"
             ],
             [
              0.2222222222222222,
              "#7201a8"
             ],
             [
              0.3333333333333333,
              "#9c179e"
             ],
             [
              0.4444444444444444,
              "#bd3786"
             ],
             [
              0.5555555555555556,
              "#d8576b"
             ],
             [
              0.6666666666666666,
              "#ed7953"
             ],
             [
              0.7777777777777778,
              "#fb9f3a"
             ],
             [
              0.8888888888888888,
              "#fdca26"
             ],
             [
              1,
              "#f0f921"
             ]
            ],
            "type": "histogram2dcontour"
           }
          ],
          "mesh3d": [
           {
            "colorbar": {
             "outlinewidth": 0,
             "ticks": ""
            },
            "type": "mesh3d"
           }
          ],
          "parcoords": [
           {
            "line": {
             "colorbar": {
              "outlinewidth": 0,
              "ticks": ""
             }
            },
            "type": "parcoords"
           }
          ],
          "pie": [
           {
            "automargin": true,
            "type": "pie"
           }
          ],
          "scatter": [
           {
            "fillpattern": {
             "fillmode": "overlay",
             "size": 10,
             "solidity": 0.2
            },
            "type": "scatter"
           }
          ],
          "scatter3d": [
           {
            "line": {
             "colorbar": {
              "outlinewidth": 0,
              "ticks": ""
             }
            },
            "marker": {
             "colorbar": {
              "outlinewidth": 0,
              "ticks": ""
             }
            },
            "type": "scatter3d"
           }
          ],
          "scattercarpet": [
           {
            "marker": {
             "colorbar": {
              "outlinewidth": 0,
              "ticks": ""
             }
            },
            "type": "scattercarpet"
           }
          ],
          "scattergeo": [
           {
            "marker": {
             "colorbar": {
              "outlinewidth": 0,
              "ticks": ""
             }
            },
            "type": "scattergeo"
           }
          ],
          "scattergl": [
           {
            "marker": {
             "colorbar": {
              "outlinewidth": 0,
              "ticks": ""
             }
            },
            "type": "scattergl"
           }
          ],
          "scattermapbox": [
           {
            "marker": {
             "colorbar": {
              "outlinewidth": 0,
              "ticks": ""
             }
            },
            "type": "scattermapbox"
           }
          ],
          "scatterpolar": [
           {
            "marker": {
             "colorbar": {
              "outlinewidth": 0,
              "ticks": ""
             }
            },
            "type": "scatterpolar"
           }
          ],
          "scatterpolargl": [
           {
            "marker": {
             "colorbar": {
              "outlinewidth": 0,
              "ticks": ""
             }
            },
            "type": "scatterpolargl"
           }
          ],
          "scatterternary": [
           {
            "marker": {
             "colorbar": {
              "outlinewidth": 0,
              "ticks": ""
             }
            },
            "type": "scatterternary"
           }
          ],
          "surface": [
           {
            "colorbar": {
             "outlinewidth": 0,
             "ticks": ""
            },
            "colorscale": [
             [
              0,
              "#0d0887"
             ],
             [
              0.1111111111111111,
              "#46039f"
             ],
             [
              0.2222222222222222,
              "#7201a8"
             ],
             [
              0.3333333333333333,
              "#9c179e"
             ],
             [
              0.4444444444444444,
              "#bd3786"
             ],
             [
              0.5555555555555556,
              "#d8576b"
             ],
             [
              0.6666666666666666,
              "#ed7953"
             ],
             [
              0.7777777777777778,
              "#fb9f3a"
             ],
             [
              0.8888888888888888,
              "#fdca26"
             ],
             [
              1,
              "#f0f921"
             ]
            ],
            "type": "surface"
           }
          ],
          "table": [
           {
            "cells": {
             "fill": {
              "color": "#EBF0F8"
             },
             "line": {
              "color": "white"
             }
            },
            "header": {
             "fill": {
              "color": "#C8D4E3"
             },
             "line": {
              "color": "white"
             }
            },
            "type": "table"
           }
          ]
         },
         "layout": {
          "annotationdefaults": {
           "arrowcolor": "#2a3f5f",
           "arrowhead": 0,
           "arrowwidth": 1
          },
          "autotypenumbers": "strict",
          "coloraxis": {
           "colorbar": {
            "outlinewidth": 0,
            "ticks": ""
           }
          },
          "colorscale": {
           "diverging": [
            [
             0,
             "#8e0152"
            ],
            [
             0.1,
             "#c51b7d"
            ],
            [
             0.2,
             "#de77ae"
            ],
            [
             0.3,
             "#f1b6da"
            ],
            [
             0.4,
             "#fde0ef"
            ],
            [
             0.5,
             "#f7f7f7"
            ],
            [
             0.6,
             "#e6f5d0"
            ],
            [
             0.7,
             "#b8e186"
            ],
            [
             0.8,
             "#7fbc41"
            ],
            [
             0.9,
             "#4d9221"
            ],
            [
             1,
             "#276419"
            ]
           ],
           "sequential": [
            [
             0,
             "#0d0887"
            ],
            [
             0.1111111111111111,
             "#46039f"
            ],
            [
             0.2222222222222222,
             "#7201a8"
            ],
            [
             0.3333333333333333,
             "#9c179e"
            ],
            [
             0.4444444444444444,
             "#bd3786"
            ],
            [
             0.5555555555555556,
             "#d8576b"
            ],
            [
             0.6666666666666666,
             "#ed7953"
            ],
            [
             0.7777777777777778,
             "#fb9f3a"
            ],
            [
             0.8888888888888888,
             "#fdca26"
            ],
            [
             1,
             "#f0f921"
            ]
           ],
           "sequentialminus": [
            [
             0,
             "#0d0887"
            ],
            [
             0.1111111111111111,
             "#46039f"
            ],
            [
             0.2222222222222222,
             "#7201a8"
            ],
            [
             0.3333333333333333,
             "#9c179e"
            ],
            [
             0.4444444444444444,
             "#bd3786"
            ],
            [
             0.5555555555555556,
             "#d8576b"
            ],
            [
             0.6666666666666666,
             "#ed7953"
            ],
            [
             0.7777777777777778,
             "#fb9f3a"
            ],
            [
             0.8888888888888888,
             "#fdca26"
            ],
            [
             1,
             "#f0f921"
            ]
           ]
          },
          "colorway": [
           "#636efa",
           "#EF553B",
           "#00cc96",
           "#ab63fa",
           "#FFA15A",
           "#19d3f3",
           "#FF6692",
           "#B6E880",
           "#FF97FF",
           "#FECB52"
          ],
          "font": {
           "color": "#2a3f5f"
          },
          "geo": {
           "bgcolor": "white",
           "lakecolor": "white",
           "landcolor": "#E5ECF6",
           "showlakes": true,
           "showland": true,
           "subunitcolor": "white"
          },
          "hoverlabel": {
           "align": "left"
          },
          "hovermode": "closest",
          "mapbox": {
           "style": "light"
          },
          "paper_bgcolor": "white",
          "plot_bgcolor": "#E5ECF6",
          "polar": {
           "angularaxis": {
            "gridcolor": "white",
            "linecolor": "white",
            "ticks": ""
           },
           "bgcolor": "#E5ECF6",
           "radialaxis": {
            "gridcolor": "white",
            "linecolor": "white",
            "ticks": ""
           }
          },
          "scene": {
           "xaxis": {
            "backgroundcolor": "#E5ECF6",
            "gridcolor": "white",
            "gridwidth": 2,
            "linecolor": "white",
            "showbackground": true,
            "ticks": "",
            "zerolinecolor": "white"
           },
           "yaxis": {
            "backgroundcolor": "#E5ECF6",
            "gridcolor": "white",
            "gridwidth": 2,
            "linecolor": "white",
            "showbackground": true,
            "ticks": "",
            "zerolinecolor": "white"
           },
           "zaxis": {
            "backgroundcolor": "#E5ECF6",
            "gridcolor": "white",
            "gridwidth": 2,
            "linecolor": "white",
            "showbackground": true,
            "ticks": "",
            "zerolinecolor": "white"
           }
          },
          "shapedefaults": {
           "line": {
            "color": "#2a3f5f"
           }
          },
          "ternary": {
           "aaxis": {
            "gridcolor": "white",
            "linecolor": "white",
            "ticks": ""
           },
           "baxis": {
            "gridcolor": "white",
            "linecolor": "white",
            "ticks": ""
           },
           "bgcolor": "#E5ECF6",
           "caxis": {
            "gridcolor": "white",
            "linecolor": "white",
            "ticks": ""
           }
          },
          "title": {
           "x": 0.05
          },
          "xaxis": {
           "automargin": true,
           "gridcolor": "white",
           "linecolor": "white",
           "ticks": "",
           "title": {
            "standoff": 15
           },
           "zerolinecolor": "white",
           "zerolinewidth": 2
          },
          "yaxis": {
           "automargin": true,
           "gridcolor": "white",
           "linecolor": "white",
           "ticks": "",
           "title": {
            "standoff": 15
           },
           "zerolinecolor": "white",
           "zerolinewidth": 2
          }
         }
        },
        "title": {
         "text": "Laps - Session: kdiba_gor01_one_2006"
        },
        "xaxis": {
         "anchor": "y",
         "domain": [
          0,
          1
         ],
         "title": {
          "text": "lap_start_t"
         }
        },
        "yaxis": {
         "anchor": "x",
         "domain": [
          0,
          1
         ],
         "title": {
          "text": "P_Long"
         }
        }
       }
      }
     },
     "metadata": {},
     "output_type": "display_data"
    },
    {
     "data": {
      "application/vnd.plotly.v1+json": {
       "config": {
        "plotlyServerURL": "https://plot.ly"
       },
       "data": [
        {
         "hovertemplate": "ripple_start_t=%{x}<br>P_Long=%{y}<extra></extra>",
         "legendgroup": "",
         "marker": {
          "color": "#636efa",
          "symbol": "circle"
         },
         "mode": "markers",
         "name": "",
         "orientation": "v",
         "showlegend": false,
         "type": "scatter",
         "x": [
          5.696836763177998,
          27.174099366762675,
          96.86656160431448,
          121.20142786484212,
          125.18313718622085,
          125.77956568088848,
          127.87251820927486,
          130.52890596922953,
          132.27650443441237,
          148.42179152811875,
          153.5056724450551,
          165.03601918148345,
          167.53413758252282,
          175.0223487885669,
          186.17864899651613,
          190.14054392813705,
          214.1290423659375,
          229.4573621979216,
          232.12680595100392,
          232.50029951985923,
          248.32778837624937,
          257.4532518638298,
          279.0651601586724,
          294.06007600121666,
          295.9191572894342,
          320.8021295092767,
          323.21481563407,
          339.45834523730446,
          383.35305556317326,
          396.4621637313394,
          406.0921415208141,
          422.88503660284914,
          435.5050211814232,
          442.6495679235086,
          458.06639202998485,
          474.8230068106204,
          478.8597970638657,
          495.7091861969093,
          497.2506535676075,
          498.1436835103668,
          500.226805643877,
          518.398966579698,
          533.2427400996676,
          535.373478208785,
          535.6538287852891,
          536.7972880398156,
          540.199004058144,
          541.2640966328327,
          544.9355955530191,
          545.3550462182611,
          549.9044915687991,
          564.5677851812216,
          587.240915332688,
          587.920011304901,
          615.09137659322,
          625.9915950123686,
          628.0847625805764,
          659.0948971033795,
          679.3458793748869,
          683.0109885382699,
          685.3902820401127,
          686.735694471281,
          693.6937401888426,
          694.509939450887,
          697.9841853519902,
          701.9943720988231,
          704.1025002995739,
          705.2988593669143,
          706.6135825337842,
          710.4212631442351,
          712.0747355778003,
          713.5096046030521,
          717.7937214495614,
          721.2997318145353,
          734.2202499993145,
          735.2181886882754,
          736.0269844342256,
          738.1171107239788,
          739.3676905636676,
          745.8142485431163,
          747.3501248767134,
          761.1802617956419,
          769.0905348656233,
          770.6948860441335,
          793.5402324273018,
          794.9678822564892,
          811.4449451802066,
          812.6678770340513,
          827.2364609349752,
          835.6428003108595,
          844.6169064361602,
          846.192350109457,
          863.0844400207279,
          869.0441169693368,
          877.0023439348442,
          892.3357940040296,
          892.7914328108309,
          906.0226529163774,
          907.6281407343922,
          909.8543565545696,
          926.7004279292888,
          942.961007124046,
          943.8075884504942,
          946.198432666366,
          947.2814042719548,
          948.659963565995,
          958.0087306194472,
          972.7584702676396,
          988.8634220219684,
          1006.6929322531214,
          1007.6135180218844,
          1010.1174117799384,
          1011.1691718813964,
          1011.5683166369564,
          1013.3905032241018,
          1015.6968982032269,
          1016.9110748615348,
          1021.8438748959452,
          1022.6336242515828,
          1026.135518138646,
          1028.1721302157966,
          1030.4905367088504,
          1034.2698934937362,
          1042.556240611244,
          1064.2788637292106,
          1064.9692339358153,
          1066.0726650507422,
          1072.363319110009,
          1078.64460357395,
          1079.5288168812403,
          1094.6250779519323,
          1107.1022146036848,
          1108.4538631916512
         ],
         "xaxis": "x",
         "y": [
          0.5917685722121723,
          0.5184360234496498,
          0.5073120573832149,
          0.5133802692843605,
          0.7146214901096369,
          0.6345451767137682,
          0.6731739576293473,
          0.7707552347750817,
          0.6456281881819885,
          0.4527000961895228,
          0.6273996285508691,
          0.6106886969251248,
          0.5022071861802636,
          0.5101781017832638,
          0.5168918211601333,
          0.7188460415287601,
          0.7378451690511615,
          0.7140362099681509,
          0.8240837555043645,
          0.5023738357854534,
          0.5567896684046938,
          0.5437096072606071,
          0.7404635492339648,
          0.5229891644654177,
          0.4809515290601904,
          0.5533326263998185,
          0.488522161075214,
          0.485723258010262,
          0.6367232684266879,
          0.4959810491516916,
          0.5524934790017375,
          0.6251377890389155,
          0.5574653748401789,
          0.5179750355984175,
          0.812112603805685,
          0.5486953846293979,
          0.5287219314636358,
          0.5924232322249968,
          0.6066271955015748,
          0.6841359925326109,
          0.6280702371798315,
          0.513003462215702,
          0.4757517012658972,
          0.647467673977965,
          0.6901478016974614,
          0.7862376924076866,
          0.6120846274037982,
          0.609811312633785,
          0.5660262390711343,
          0.4871355643709346,
          0.7179159231307907,
          0.5569938858835627,
          0.7380636453266888,
          0.6308551665587987,
          0.7293266378458234,
          0.5506867818109706,
          0.5724390269044163,
          0.564601800744483,
          0.5312649452112115,
          0.5458500949954136,
          0.6917696777903486,
          0.6616267816419106,
          0.6519241564870394,
          0.5624514507070845,
          0.6060493227132278,
          0.6828329221219921,
          0.6426502372390863,
          0.4749317603277732,
          0.600020662201385,
          0.5637992127148755,
          0.5625454265886999,
          0.6331932575850224,
          0.6602944004131359,
          0.5291505640595147,
          0.5981035808026538,
          0.6698142985603064,
          0.4551371846285951,
          0.5854787471314533,
          0.5760051806530877,
          0.7597103074368379,
          0.8484570887252315,
          0.5093264045986127,
          0.6679455038719122,
          0.4821371565074216,
          0.6861290503906935,
          0.546001412949907,
          0.7862184414701172,
          0.5360412933973079,
          0.6697473865608734,
          0.4688539745210795,
          0.8259442045392049,
          0.8414140574007252,
          0.6779069577819374,
          0.5251648149537181,
          0.6804765617114018,
          0.64522804721464,
          0.4869838013424207,
          0.5977496203300523,
          0.4692148468211468,
          0.5444037606757003,
          0.6595441426203482,
          0.5813886924693845,
          0.5350549582095232,
          0.5139879534341564,
          0.5482920124632541,
          0.56409091009787,
          0.5688372470204613,
          0.7306171929849635,
          0.7484821226923031,
          0.5097265415860607,
          0.4476052755054837,
          0.4860583033133963,
          0.340649200339752,
          0.4702459405456194,
          0.4545536429640667,
          0.4930832315829734,
          0.3780704530089056,
          0.4959593854287758,
          0.2742379839890052,
          0.4372582711363608,
          0.5005653345964203,
          0.5339231167355346,
          0.0823916589140121,
          0.7317958335611623,
          0.4929456464624637,
          0.4129766667612722,
          0.2023734477447804,
          0.5808499461592168,
          0.581819890469341,
          0.4483485934186526,
          0.6758919187377025,
          0.446834569466279,
          0.4548076120447817
         ],
         "yaxis": "y"
        }
       ],
       "layout": {
        "legend": {
         "tracegroupgap": 0
        },
        "template": {
         "data": {
          "bar": [
           {
            "error_x": {
             "color": "#2a3f5f"
            },
            "error_y": {
             "color": "#2a3f5f"
            },
            "marker": {
             "line": {
              "color": "#E5ECF6",
              "width": 0.5
             },
             "pattern": {
              "fillmode": "overlay",
              "size": 10,
              "solidity": 0.2
             }
            },
            "type": "bar"
           }
          ],
          "barpolar": [
           {
            "marker": {
             "line": {
              "color": "#E5ECF6",
              "width": 0.5
             },
             "pattern": {
              "fillmode": "overlay",
              "size": 10,
              "solidity": 0.2
             }
            },
            "type": "barpolar"
           }
          ],
          "carpet": [
           {
            "aaxis": {
             "endlinecolor": "#2a3f5f",
             "gridcolor": "white",
             "linecolor": "white",
             "minorgridcolor": "white",
             "startlinecolor": "#2a3f5f"
            },
            "baxis": {
             "endlinecolor": "#2a3f5f",
             "gridcolor": "white",
             "linecolor": "white",
             "minorgridcolor": "white",
             "startlinecolor": "#2a3f5f"
            },
            "type": "carpet"
           }
          ],
          "choropleth": [
           {
            "colorbar": {
             "outlinewidth": 0,
             "ticks": ""
            },
            "type": "choropleth"
           }
          ],
          "contour": [
           {
            "colorbar": {
             "outlinewidth": 0,
             "ticks": ""
            },
            "colorscale": [
             [
              0,
              "#0d0887"
             ],
             [
              0.1111111111111111,
              "#46039f"
             ],
             [
              0.2222222222222222,
              "#7201a8"
             ],
             [
              0.3333333333333333,
              "#9c179e"
             ],
             [
              0.4444444444444444,
              "#bd3786"
             ],
             [
              0.5555555555555556,
              "#d8576b"
             ],
             [
              0.6666666666666666,
              "#ed7953"
             ],
             [
              0.7777777777777778,
              "#fb9f3a"
             ],
             [
              0.8888888888888888,
              "#fdca26"
             ],
             [
              1,
              "#f0f921"
             ]
            ],
            "type": "contour"
           }
          ],
          "contourcarpet": [
           {
            "colorbar": {
             "outlinewidth": 0,
             "ticks": ""
            },
            "type": "contourcarpet"
           }
          ],
          "heatmap": [
           {
            "colorbar": {
             "outlinewidth": 0,
             "ticks": ""
            },
            "colorscale": [
             [
              0,
              "#0d0887"
             ],
             [
              0.1111111111111111,
              "#46039f"
             ],
             [
              0.2222222222222222,
              "#7201a8"
             ],
             [
              0.3333333333333333,
              "#9c179e"
             ],
             [
              0.4444444444444444,
              "#bd3786"
             ],
             [
              0.5555555555555556,
              "#d8576b"
             ],
             [
              0.6666666666666666,
              "#ed7953"
             ],
             [
              0.7777777777777778,
              "#fb9f3a"
             ],
             [
              0.8888888888888888,
              "#fdca26"
             ],
             [
              1,
              "#f0f921"
             ]
            ],
            "type": "heatmap"
           }
          ],
          "heatmapgl": [
           {
            "colorbar": {
             "outlinewidth": 0,
             "ticks": ""
            },
            "colorscale": [
             [
              0,
              "#0d0887"
             ],
             [
              0.1111111111111111,
              "#46039f"
             ],
             [
              0.2222222222222222,
              "#7201a8"
             ],
             [
              0.3333333333333333,
              "#9c179e"
             ],
             [
              0.4444444444444444,
              "#bd3786"
             ],
             [
              0.5555555555555556,
              "#d8576b"
             ],
             [
              0.6666666666666666,
              "#ed7953"
             ],
             [
              0.7777777777777778,
              "#fb9f3a"
             ],
             [
              0.8888888888888888,
              "#fdca26"
             ],
             [
              1,
              "#f0f921"
             ]
            ],
            "type": "heatmapgl"
           }
          ],
          "histogram": [
           {
            "marker": {
             "pattern": {
              "fillmode": "overlay",
              "size": 10,
              "solidity": 0.2
             }
            },
            "type": "histogram"
           }
          ],
          "histogram2d": [
           {
            "colorbar": {
             "outlinewidth": 0,
             "ticks": ""
            },
            "colorscale": [
             [
              0,
              "#0d0887"
             ],
             [
              0.1111111111111111,
              "#46039f"
             ],
             [
              0.2222222222222222,
              "#7201a8"
             ],
             [
              0.3333333333333333,
              "#9c179e"
             ],
             [
              0.4444444444444444,
              "#bd3786"
             ],
             [
              0.5555555555555556,
              "#d8576b"
             ],
             [
              0.6666666666666666,
              "#ed7953"
             ],
             [
              0.7777777777777778,
              "#fb9f3a"
             ],
             [
              0.8888888888888888,
              "#fdca26"
             ],
             [
              1,
              "#f0f921"
             ]
            ],
            "type": "histogram2d"
           }
          ],
          "histogram2dcontour": [
           {
            "colorbar": {
             "outlinewidth": 0,
             "ticks": ""
            },
            "colorscale": [
             [
              0,
              "#0d0887"
             ],
             [
              0.1111111111111111,
              "#46039f"
             ],
             [
              0.2222222222222222,
              "#7201a8"
             ],
             [
              0.3333333333333333,
              "#9c179e"
             ],
             [
              0.4444444444444444,
              "#bd3786"
             ],
             [
              0.5555555555555556,
              "#d8576b"
             ],
             [
              0.6666666666666666,
              "#ed7953"
             ],
             [
              0.7777777777777778,
              "#fb9f3a"
             ],
             [
              0.8888888888888888,
              "#fdca26"
             ],
             [
              1,
              "#f0f921"
             ]
            ],
            "type": "histogram2dcontour"
           }
          ],
          "mesh3d": [
           {
            "colorbar": {
             "outlinewidth": 0,
             "ticks": ""
            },
            "type": "mesh3d"
           }
          ],
          "parcoords": [
           {
            "line": {
             "colorbar": {
              "outlinewidth": 0,
              "ticks": ""
             }
            },
            "type": "parcoords"
           }
          ],
          "pie": [
           {
            "automargin": true,
            "type": "pie"
           }
          ],
          "scatter": [
           {
            "fillpattern": {
             "fillmode": "overlay",
             "size": 10,
             "solidity": 0.2
            },
            "type": "scatter"
           }
          ],
          "scatter3d": [
           {
            "line": {
             "colorbar": {
              "outlinewidth": 0,
              "ticks": ""
             }
            },
            "marker": {
             "colorbar": {
              "outlinewidth": 0,
              "ticks": ""
             }
            },
            "type": "scatter3d"
           }
          ],
          "scattercarpet": [
           {
            "marker": {
             "colorbar": {
              "outlinewidth": 0,
              "ticks": ""
             }
            },
            "type": "scattercarpet"
           }
          ],
          "scattergeo": [
           {
            "marker": {
             "colorbar": {
              "outlinewidth": 0,
              "ticks": ""
             }
            },
            "type": "scattergeo"
           }
          ],
          "scattergl": [
           {
            "marker": {
             "colorbar": {
              "outlinewidth": 0,
              "ticks": ""
             }
            },
            "type": "scattergl"
           }
          ],
          "scattermapbox": [
           {
            "marker": {
             "colorbar": {
              "outlinewidth": 0,
              "ticks": ""
             }
            },
            "type": "scattermapbox"
           }
          ],
          "scatterpolar": [
           {
            "marker": {
             "colorbar": {
              "outlinewidth": 0,
              "ticks": ""
             }
            },
            "type": "scatterpolar"
           }
          ],
          "scatterpolargl": [
           {
            "marker": {
             "colorbar": {
              "outlinewidth": 0,
              "ticks": ""
             }
            },
            "type": "scatterpolargl"
           }
          ],
          "scatterternary": [
           {
            "marker": {
             "colorbar": {
              "outlinewidth": 0,
              "ticks": ""
             }
            },
            "type": "scatterternary"
           }
          ],
          "surface": [
           {
            "colorbar": {
             "outlinewidth": 0,
             "ticks": ""
            },
            "colorscale": [
             [
              0,
              "#0d0887"
             ],
             [
              0.1111111111111111,
              "#46039f"
             ],
             [
              0.2222222222222222,
              "#7201a8"
             ],
             [
              0.3333333333333333,
              "#9c179e"
             ],
             [
              0.4444444444444444,
              "#bd3786"
             ],
             [
              0.5555555555555556,
              "#d8576b"
             ],
             [
              0.6666666666666666,
              "#ed7953"
             ],
             [
              0.7777777777777778,
              "#fb9f3a"
             ],
             [
              0.8888888888888888,
              "#fdca26"
             ],
             [
              1,
              "#f0f921"
             ]
            ],
            "type": "surface"
           }
          ],
          "table": [
           {
            "cells": {
             "fill": {
              "color": "#EBF0F8"
             },
             "line": {
              "color": "white"
             }
            },
            "header": {
             "fill": {
              "color": "#C8D4E3"
             },
             "line": {
              "color": "white"
             }
            },
            "type": "table"
           }
          ]
         },
         "layout": {
          "annotationdefaults": {
           "arrowcolor": "#2a3f5f",
           "arrowhead": 0,
           "arrowwidth": 1
          },
          "autotypenumbers": "strict",
          "coloraxis": {
           "colorbar": {
            "outlinewidth": 0,
            "ticks": ""
           }
          },
          "colorscale": {
           "diverging": [
            [
             0,
             "#8e0152"
            ],
            [
             0.1,
             "#c51b7d"
            ],
            [
             0.2,
             "#de77ae"
            ],
            [
             0.3,
             "#f1b6da"
            ],
            [
             0.4,
             "#fde0ef"
            ],
            [
             0.5,
             "#f7f7f7"
            ],
            [
             0.6,
             "#e6f5d0"
            ],
            [
             0.7,
             "#b8e186"
            ],
            [
             0.8,
             "#7fbc41"
            ],
            [
             0.9,
             "#4d9221"
            ],
            [
             1,
             "#276419"
            ]
           ],
           "sequential": [
            [
             0,
             "#0d0887"
            ],
            [
             0.1111111111111111,
             "#46039f"
            ],
            [
             0.2222222222222222,
             "#7201a8"
            ],
            [
             0.3333333333333333,
             "#9c179e"
            ],
            [
             0.4444444444444444,
             "#bd3786"
            ],
            [
             0.5555555555555556,
             "#d8576b"
            ],
            [
             0.6666666666666666,
             "#ed7953"
            ],
            [
             0.7777777777777778,
             "#fb9f3a"
            ],
            [
             0.8888888888888888,
             "#fdca26"
            ],
            [
             1,
             "#f0f921"
            ]
           ],
           "sequentialminus": [
            [
             0,
             "#0d0887"
            ],
            [
             0.1111111111111111,
             "#46039f"
            ],
            [
             0.2222222222222222,
             "#7201a8"
            ],
            [
             0.3333333333333333,
             "#9c179e"
            ],
            [
             0.4444444444444444,
             "#bd3786"
            ],
            [
             0.5555555555555556,
             "#d8576b"
            ],
            [
             0.6666666666666666,
             "#ed7953"
            ],
            [
             0.7777777777777778,
             "#fb9f3a"
            ],
            [
             0.8888888888888888,
             "#fdca26"
            ],
            [
             1,
             "#f0f921"
            ]
           ]
          },
          "colorway": [
           "#636efa",
           "#EF553B",
           "#00cc96",
           "#ab63fa",
           "#FFA15A",
           "#19d3f3",
           "#FF6692",
           "#B6E880",
           "#FF97FF",
           "#FECB52"
          ],
          "font": {
           "color": "#2a3f5f"
          },
          "geo": {
           "bgcolor": "white",
           "lakecolor": "white",
           "landcolor": "#E5ECF6",
           "showlakes": true,
           "showland": true,
           "subunitcolor": "white"
          },
          "hoverlabel": {
           "align": "left"
          },
          "hovermode": "closest",
          "mapbox": {
           "style": "light"
          },
          "paper_bgcolor": "white",
          "plot_bgcolor": "#E5ECF6",
          "polar": {
           "angularaxis": {
            "gridcolor": "white",
            "linecolor": "white",
            "ticks": ""
           },
           "bgcolor": "#E5ECF6",
           "radialaxis": {
            "gridcolor": "white",
            "linecolor": "white",
            "ticks": ""
           }
          },
          "scene": {
           "xaxis": {
            "backgroundcolor": "#E5ECF6",
            "gridcolor": "white",
            "gridwidth": 2,
            "linecolor": "white",
            "showbackground": true,
            "ticks": "",
            "zerolinecolor": "white"
           },
           "yaxis": {
            "backgroundcolor": "#E5ECF6",
            "gridcolor": "white",
            "gridwidth": 2,
            "linecolor": "white",
            "showbackground": true,
            "ticks": "",
            "zerolinecolor": "white"
           },
           "zaxis": {
            "backgroundcolor": "#E5ECF6",
            "gridcolor": "white",
            "gridwidth": 2,
            "linecolor": "white",
            "showbackground": true,
            "ticks": "",
            "zerolinecolor": "white"
           }
          },
          "shapedefaults": {
           "line": {
            "color": "#2a3f5f"
           }
          },
          "ternary": {
           "aaxis": {
            "gridcolor": "white",
            "linecolor": "white",
            "ticks": ""
           },
           "baxis": {
            "gridcolor": "white",
            "linecolor": "white",
            "ticks": ""
           },
           "bgcolor": "#E5ECF6",
           "caxis": {
            "gridcolor": "white",
            "linecolor": "white",
            "ticks": ""
           }
          },
          "title": {
           "x": 0.05
          },
          "xaxis": {
           "automargin": true,
           "gridcolor": "white",
           "linecolor": "white",
           "ticks": "",
           "title": {
            "standoff": 15
           },
           "zerolinecolor": "white",
           "zerolinewidth": 2
          },
          "yaxis": {
           "automargin": true,
           "gridcolor": "white",
           "linecolor": "white",
           "ticks": "",
           "title": {
            "standoff": 15
           },
           "zerolinecolor": "white",
           "zerolinewidth": 2
          }
         }
        },
        "title": {
         "text": "Ripples - Session: kdiba_gor01_one_2006"
        },
        "xaxis": {
         "anchor": "y",
         "domain": [
          0,
          1
         ],
         "title": {
          "text": "ripple_start_t"
         }
        },
        "yaxis": {
         "anchor": "x",
         "domain": [
          0,
          1
         ],
         "title": {
          "text": "P_Long"
         }
        }
       }
      }
     },
     "metadata": {},
     "output_type": "display_data"
    },
    {
     "data": {
      "application/vnd.plotly.v1+json": {
       "config": {
        "plotlyServerURL": "https://plot.ly"
       },
       "data": [
        {
         "hovertemplate": "lap_start_t=%{x}<br>P_Long=%{y}<extra></extra>",
         "legendgroup": "",
         "marker": {
          "color": "#636efa",
          "symbol": "circle"
         },
         "mode": "markers",
         "name": "",
         "orientation": "v",
         "showlegend": false,
         "type": "scatter",
         "x": [
          30.19828000001144,
          50.483949000015855,
          174.27681399998255,
          197.7318530000048,
          241.1440419999417,
          244.48079199995848,
          262.86566499993205,
          282.1843799999915,
          306.74147399992216,
          336.33952299994417,
          355.39244399999734,
          391.59379800001625,
          402.671544999932,
          428.331460999907,
          438.8094599999022,
          531.8031849999679,
          541.2792989999289,
          564.1015659999102,
          579.6500879999949,
          592.5637850000057,
          607.3131009999197,
          631.3026289999252,
          656.1285940000089,
          681.3859640000155,
          698.6039349999046,
          712.1503409999423,
          722.2282189999241,
          750.3896049999166,
          770.4430229999125,
          805.64611099998,
          816.4572629999602,
          849.622820999939,
          879.3198619999457,
          1069.679100999958,
          1080.4565769999754,
          1100.8761519999243,
          1114.622520999983,
          1139.4144749999978,
          1151.5937679999042,
          1166.5426739999093,
          1219.3628849999511,
          1306.684853999992,
          1340.9838400000008,
          1363.9417389999144,
          1372.5844959999667,
          1395.3058210000163,
          1413.9583169999532,
          1432.4110499999952,
          1436.5482049999991,
          1474.6526319999248,
          1484.862960999948,
          1503.8159469999373,
          1512.4255089999642,
          1527.3062699999427,
          1543.6232919999163,
          1577.2570500000147,
          1584.330558000016,
          1603.5165109999944,
          1627.774722000002,
          1635.14828199998,
          1644.390236999956,
          1674.454740999965,
          1678.7915449999273,
          1692.9731139999349,
          1710.4236519999104,
          1808.8894499999003,
          1814.5622069999808,
          1841.055258999928,
          1853.367694000015,
          1873.1205579999369,
          1881.062833999982,
          1945.4601309999125,
          1974.6245939999355,
          2092.0420359999407,
          2096.6805339999264,
          2355.1064819999738,
          2385.2049619999016,
          2412.7986109999474,
          2423.843232999905,
          2568.2552300000098,
          2575.1618759999983
         ],
         "xaxis": "x",
         "y": [
          0.5895586084548721,
          0.6433180466234751,
          0.5926616504395418,
          0.7060288075444273,
          0.6925238055451115,
          0.6583403599984117,
          0.7015950092026769,
          0.7585937702865347,
          0.7379689404279565,
          0.644080412014019,
          0.7429335837199622,
          0.7634232470340867,
          0.6809601787085311,
          0.722339592035638,
          0.72083909509499,
          0.8398444146013293,
          0.6773138984551657,
          0.787547152639047,
          0.7531761036863294,
          0.7659874746862267,
          0.7226892262241362,
          0.8296219800991226,
          0.6048464889743859,
          0.6800056175102971,
          0.7600562452074072,
          0.7727241581727528,
          0.6417330992645757,
          0.7237511058245294,
          0.6510321773227864,
          0.774349160324755,
          0.6729859683026826,
          0.696354569917954,
          0.7745530232322717,
          0.590217210228043,
          0.7066949726059452,
          0.6709944997083603,
          0.6546209351243025,
          0.7293352847578695,
          0.6820050217494481,
          0.6537613145664699,
          0.7306106518652602,
          0.5643971215668394,
          0.5305051781279002,
          0.3928849592664205,
          0.4761868056219429,
          0.414363973416546,
          0.4053102210506548,
          0.3445931881097107,
          0.3949844325204995,
          0.4062848258465222,
          0.4241952371679736,
          0.3555323003073637,
          0.3839586166105208,
          0.4244469640063726,
          0.4024516266379104,
          0.3764331635089741,
          0.3856102206077524,
          0.3259183405338518,
          0.4210082381422607,
          0.3659136273380259,
          0.5009828809753748,
          0.3659574107338528,
          0.4059440694549392,
          0.3709145506167691,
          0.3694810027498325,
          0.2895514309896886,
          0.3465874303240268,
          0.3759241294823779,
          0.3751723521909011,
          0.3783552880747187,
          0.3701850168676753,
          0.3662381624250949,
          0.3467136820148226,
          0.3743076138534478,
          0.3652770271623239,
          0.3144930236194567,
          0.3515484674813074,
          0.2995533194541894,
          0.3384484395144331,
          0.3795483294718299,
          0.4226687277257318
         ],
         "yaxis": "y"
        }
       ],
       "layout": {
        "legend": {
         "tracegroupgap": 0
        },
        "template": {
         "data": {
          "bar": [
           {
            "error_x": {
             "color": "#2a3f5f"
            },
            "error_y": {
             "color": "#2a3f5f"
            },
            "marker": {
             "line": {
              "color": "#E5ECF6",
              "width": 0.5
             },
             "pattern": {
              "fillmode": "overlay",
              "size": 10,
              "solidity": 0.2
             }
            },
            "type": "bar"
           }
          ],
          "barpolar": [
           {
            "marker": {
             "line": {
              "color": "#E5ECF6",
              "width": 0.5
             },
             "pattern": {
              "fillmode": "overlay",
              "size": 10,
              "solidity": 0.2
             }
            },
            "type": "barpolar"
           }
          ],
          "carpet": [
           {
            "aaxis": {
             "endlinecolor": "#2a3f5f",
             "gridcolor": "white",
             "linecolor": "white",
             "minorgridcolor": "white",
             "startlinecolor": "#2a3f5f"
            },
            "baxis": {
             "endlinecolor": "#2a3f5f",
             "gridcolor": "white",
             "linecolor": "white",
             "minorgridcolor": "white",
             "startlinecolor": "#2a3f5f"
            },
            "type": "carpet"
           }
          ],
          "choropleth": [
           {
            "colorbar": {
             "outlinewidth": 0,
             "ticks": ""
            },
            "type": "choropleth"
           }
          ],
          "contour": [
           {
            "colorbar": {
             "outlinewidth": 0,
             "ticks": ""
            },
            "colorscale": [
             [
              0,
              "#0d0887"
             ],
             [
              0.1111111111111111,
              "#46039f"
             ],
             [
              0.2222222222222222,
              "#7201a8"
             ],
             [
              0.3333333333333333,
              "#9c179e"
             ],
             [
              0.4444444444444444,
              "#bd3786"
             ],
             [
              0.5555555555555556,
              "#d8576b"
             ],
             [
              0.6666666666666666,
              "#ed7953"
             ],
             [
              0.7777777777777778,
              "#fb9f3a"
             ],
             [
              0.8888888888888888,
              "#fdca26"
             ],
             [
              1,
              "#f0f921"
             ]
            ],
            "type": "contour"
           }
          ],
          "contourcarpet": [
           {
            "colorbar": {
             "outlinewidth": 0,
             "ticks": ""
            },
            "type": "contourcarpet"
           }
          ],
          "heatmap": [
           {
            "colorbar": {
             "outlinewidth": 0,
             "ticks": ""
            },
            "colorscale": [
             [
              0,
              "#0d0887"
             ],
             [
              0.1111111111111111,
              "#46039f"
             ],
             [
              0.2222222222222222,
              "#7201a8"
             ],
             [
              0.3333333333333333,
              "#9c179e"
             ],
             [
              0.4444444444444444,
              "#bd3786"
             ],
             [
              0.5555555555555556,
              "#d8576b"
             ],
             [
              0.6666666666666666,
              "#ed7953"
             ],
             [
              0.7777777777777778,
              "#fb9f3a"
             ],
             [
              0.8888888888888888,
              "#fdca26"
             ],
             [
              1,
              "#f0f921"
             ]
            ],
            "type": "heatmap"
           }
          ],
          "heatmapgl": [
           {
            "colorbar": {
             "outlinewidth": 0,
             "ticks": ""
            },
            "colorscale": [
             [
              0,
              "#0d0887"
             ],
             [
              0.1111111111111111,
              "#46039f"
             ],
             [
              0.2222222222222222,
              "#7201a8"
             ],
             [
              0.3333333333333333,
              "#9c179e"
             ],
             [
              0.4444444444444444,
              "#bd3786"
             ],
             [
              0.5555555555555556,
              "#d8576b"
             ],
             [
              0.6666666666666666,
              "#ed7953"
             ],
             [
              0.7777777777777778,
              "#fb9f3a"
             ],
             [
              0.8888888888888888,
              "#fdca26"
             ],
             [
              1,
              "#f0f921"
             ]
            ],
            "type": "heatmapgl"
           }
          ],
          "histogram": [
           {
            "marker": {
             "pattern": {
              "fillmode": "overlay",
              "size": 10,
              "solidity": 0.2
             }
            },
            "type": "histogram"
           }
          ],
          "histogram2d": [
           {
            "colorbar": {
             "outlinewidth": 0,
             "ticks": ""
            },
            "colorscale": [
             [
              0,
              "#0d0887"
             ],
             [
              0.1111111111111111,
              "#46039f"
             ],
             [
              0.2222222222222222,
              "#7201a8"
             ],
             [
              0.3333333333333333,
              "#9c179e"
             ],
             [
              0.4444444444444444,
              "#bd3786"
             ],
             [
              0.5555555555555556,
              "#d8576b"
             ],
             [
              0.6666666666666666,
              "#ed7953"
             ],
             [
              0.7777777777777778,
              "#fb9f3a"
             ],
             [
              0.8888888888888888,
              "#fdca26"
             ],
             [
              1,
              "#f0f921"
             ]
            ],
            "type": "histogram2d"
           }
          ],
          "histogram2dcontour": [
           {
            "colorbar": {
             "outlinewidth": 0,
             "ticks": ""
            },
            "colorscale": [
             [
              0,
              "#0d0887"
             ],
             [
              0.1111111111111111,
              "#46039f"
             ],
             [
              0.2222222222222222,
              "#7201a8"
             ],
             [
              0.3333333333333333,
              "#9c179e"
             ],
             [
              0.4444444444444444,
              "#bd3786"
             ],
             [
              0.5555555555555556,
              "#d8576b"
             ],
             [
              0.6666666666666666,
              "#ed7953"
             ],
             [
              0.7777777777777778,
              "#fb9f3a"
             ],
             [
              0.8888888888888888,
              "#fdca26"
             ],
             [
              1,
              "#f0f921"
             ]
            ],
            "type": "histogram2dcontour"
           }
          ],
          "mesh3d": [
           {
            "colorbar": {
             "outlinewidth": 0,
             "ticks": ""
            },
            "type": "mesh3d"
           }
          ],
          "parcoords": [
           {
            "line": {
             "colorbar": {
              "outlinewidth": 0,
              "ticks": ""
             }
            },
            "type": "parcoords"
           }
          ],
          "pie": [
           {
            "automargin": true,
            "type": "pie"
           }
          ],
          "scatter": [
           {
            "fillpattern": {
             "fillmode": "overlay",
             "size": 10,
             "solidity": 0.2
            },
            "type": "scatter"
           }
          ],
          "scatter3d": [
           {
            "line": {
             "colorbar": {
              "outlinewidth": 0,
              "ticks": ""
             }
            },
            "marker": {
             "colorbar": {
              "outlinewidth": 0,
              "ticks": ""
             }
            },
            "type": "scatter3d"
           }
          ],
          "scattercarpet": [
           {
            "marker": {
             "colorbar": {
              "outlinewidth": 0,
              "ticks": ""
             }
            },
            "type": "scattercarpet"
           }
          ],
          "scattergeo": [
           {
            "marker": {
             "colorbar": {
              "outlinewidth": 0,
              "ticks": ""
             }
            },
            "type": "scattergeo"
           }
          ],
          "scattergl": [
           {
            "marker": {
             "colorbar": {
              "outlinewidth": 0,
              "ticks": ""
             }
            },
            "type": "scattergl"
           }
          ],
          "scattermapbox": [
           {
            "marker": {
             "colorbar": {
              "outlinewidth": 0,
              "ticks": ""
             }
            },
            "type": "scattermapbox"
           }
          ],
          "scatterpolar": [
           {
            "marker": {
             "colorbar": {
              "outlinewidth": 0,
              "ticks": ""
             }
            },
            "type": "scatterpolar"
           }
          ],
          "scatterpolargl": [
           {
            "marker": {
             "colorbar": {
              "outlinewidth": 0,
              "ticks": ""
             }
            },
            "type": "scatterpolargl"
           }
          ],
          "scatterternary": [
           {
            "marker": {
             "colorbar": {
              "outlinewidth": 0,
              "ticks": ""
             }
            },
            "type": "scatterternary"
           }
          ],
          "surface": [
           {
            "colorbar": {
             "outlinewidth": 0,
             "ticks": ""
            },
            "colorscale": [
             [
              0,
              "#0d0887"
             ],
             [
              0.1111111111111111,
              "#46039f"
             ],
             [
              0.2222222222222222,
              "#7201a8"
             ],
             [
              0.3333333333333333,
              "#9c179e"
             ],
             [
              0.4444444444444444,
              "#bd3786"
             ],
             [
              0.5555555555555556,
              "#d8576b"
             ],
             [
              0.6666666666666666,
              "#ed7953"
             ],
             [
              0.7777777777777778,
              "#fb9f3a"
             ],
             [
              0.8888888888888888,
              "#fdca26"
             ],
             [
              1,
              "#f0f921"
             ]
            ],
            "type": "surface"
           }
          ],
          "table": [
           {
            "cells": {
             "fill": {
              "color": "#EBF0F8"
             },
             "line": {
              "color": "white"
             }
            },
            "header": {
             "fill": {
              "color": "#C8D4E3"
             },
             "line": {
              "color": "white"
             }
            },
            "type": "table"
           }
          ]
         },
         "layout": {
          "annotationdefaults": {
           "arrowcolor": "#2a3f5f",
           "arrowhead": 0,
           "arrowwidth": 1
          },
          "autotypenumbers": "strict",
          "coloraxis": {
           "colorbar": {
            "outlinewidth": 0,
            "ticks": ""
           }
          },
          "colorscale": {
           "diverging": [
            [
             0,
             "#8e0152"
            ],
            [
             0.1,
             "#c51b7d"
            ],
            [
             0.2,
             "#de77ae"
            ],
            [
             0.3,
             "#f1b6da"
            ],
            [
             0.4,
             "#fde0ef"
            ],
            [
             0.5,
             "#f7f7f7"
            ],
            [
             0.6,
             "#e6f5d0"
            ],
            [
             0.7,
             "#b8e186"
            ],
            [
             0.8,
             "#7fbc41"
            ],
            [
             0.9,
             "#4d9221"
            ],
            [
             1,
             "#276419"
            ]
           ],
           "sequential": [
            [
             0,
             "#0d0887"
            ],
            [
             0.1111111111111111,
             "#46039f"
            ],
            [
             0.2222222222222222,
             "#7201a8"
            ],
            [
             0.3333333333333333,
             "#9c179e"
            ],
            [
             0.4444444444444444,
             "#bd3786"
            ],
            [
             0.5555555555555556,
             "#d8576b"
            ],
            [
             0.6666666666666666,
             "#ed7953"
            ],
            [
             0.7777777777777778,
             "#fb9f3a"
            ],
            [
             0.8888888888888888,
             "#fdca26"
            ],
            [
             1,
             "#f0f921"
            ]
           ],
           "sequentialminus": [
            [
             0,
             "#0d0887"
            ],
            [
             0.1111111111111111,
             "#46039f"
            ],
            [
             0.2222222222222222,
             "#7201a8"
            ],
            [
             0.3333333333333333,
             "#9c179e"
            ],
            [
             0.4444444444444444,
             "#bd3786"
            ],
            [
             0.5555555555555556,
             "#d8576b"
            ],
            [
             0.6666666666666666,
             "#ed7953"
            ],
            [
             0.7777777777777778,
             "#fb9f3a"
            ],
            [
             0.8888888888888888,
             "#fdca26"
            ],
            [
             1,
             "#f0f921"
            ]
           ]
          },
          "colorway": [
           "#636efa",
           "#EF553B",
           "#00cc96",
           "#ab63fa",
           "#FFA15A",
           "#19d3f3",
           "#FF6692",
           "#B6E880",
           "#FF97FF",
           "#FECB52"
          ],
          "font": {
           "color": "#2a3f5f"
          },
          "geo": {
           "bgcolor": "white",
           "lakecolor": "white",
           "landcolor": "#E5ECF6",
           "showlakes": true,
           "showland": true,
           "subunitcolor": "white"
          },
          "hoverlabel": {
           "align": "left"
          },
          "hovermode": "closest",
          "mapbox": {
           "style": "light"
          },
          "paper_bgcolor": "white",
          "plot_bgcolor": "#E5ECF6",
          "polar": {
           "angularaxis": {
            "gridcolor": "white",
            "linecolor": "white",
            "ticks": ""
           },
           "bgcolor": "#E5ECF6",
           "radialaxis": {
            "gridcolor": "white",
            "linecolor": "white",
            "ticks": ""
           }
          },
          "scene": {
           "xaxis": {
            "backgroundcolor": "#E5ECF6",
            "gridcolor": "white",
            "gridwidth": 2,
            "linecolor": "white",
            "showbackground": true,
            "ticks": "",
            "zerolinecolor": "white"
           },
           "yaxis": {
            "backgroundcolor": "#E5ECF6",
            "gridcolor": "white",
            "gridwidth": 2,
            "linecolor": "white",
            "showbackground": true,
            "ticks": "",
            "zerolinecolor": "white"
           },
           "zaxis": {
            "backgroundcolor": "#E5ECF6",
            "gridcolor": "white",
            "gridwidth": 2,
            "linecolor": "white",
            "showbackground": true,
            "ticks": "",
            "zerolinecolor": "white"
           }
          },
          "shapedefaults": {
           "line": {
            "color": "#2a3f5f"
           }
          },
          "ternary": {
           "aaxis": {
            "gridcolor": "white",
            "linecolor": "white",
            "ticks": ""
           },
           "baxis": {
            "gridcolor": "white",
            "linecolor": "white",
            "ticks": ""
           },
           "bgcolor": "#E5ECF6",
           "caxis": {
            "gridcolor": "white",
            "linecolor": "white",
            "ticks": ""
           }
          },
          "title": {
           "x": 0.05
          },
          "xaxis": {
           "automargin": true,
           "gridcolor": "white",
           "linecolor": "white",
           "ticks": "",
           "title": {
            "standoff": 15
           },
           "zerolinecolor": "white",
           "zerolinewidth": 2
          },
          "yaxis": {
           "automargin": true,
           "gridcolor": "white",
           "linecolor": "white",
           "ticks": "",
           "title": {
            "standoff": 15
           },
           "zerolinecolor": "white",
           "zerolinewidth": 2
          }
         }
        },
        "title": {
         "text": "Laps - Session: kdiba_gor01_two_2006"
        },
        "xaxis": {
         "anchor": "y",
         "domain": [
          0,
          1
         ],
         "title": {
          "text": "lap_start_t"
         }
        },
        "yaxis": {
         "anchor": "x",
         "domain": [
          0,
          1
         ],
         "title": {
          "text": "P_Long"
         }
        }
       }
      }
     },
     "metadata": {},
     "output_type": "display_data"
    },
    {
     "data": {
      "application/vnd.plotly.v1+json": {
       "config": {
        "plotlyServerURL": "https://plot.ly"
       },
       "data": [
        {
         "hovertemplate": "ripple_start_t=%{x}<br>P_Long=%{y}<extra></extra>",
         "legendgroup": "",
         "marker": {
          "color": "#636efa",
          "symbol": "circle"
         },
         "mode": "markers",
         "name": "",
         "orientation": "v",
         "showlegend": false,
         "type": "scatter",
         "x": [
          49.10730797704309,
          64.08305454952642,
          64.80568073946051,
          66.66159786924254,
          67.96645992109552,
          68.57195081119426,
          72.58468731667381,
          84.13718316168524,
          88.16257630079053,
          88.46074446802959,
          89.09833774156868,
          91.22683329181746,
          92.24329613137525,
          94.14246699912474,
          95.27068914135452,
          98.99428915488534,
          100.85478356236126,
          101.99157658033072,
          102.38006150140428,
          103.60333127505146,
          105.41863658558576,
          107.08184725407044,
          108.97207860625348,
          114.0544235240668,
          124.10646317747889,
          125.37725676677655,
          128.21652059315238,
          142.6575551192509,
          144.89839365205262,
          172.51667327142786,
          204.12323628889865,
          206.48246964102145,
          222.09596308681648,
          223.20400219946168,
          225.34208238485732,
          235.5763529848773,
          237.58255227771588,
          260.96224206732586,
          269.9147827635752,
          270.93904847919475,
          272.4621452994179,
          273.6768749173498,
          292.623670976609,
          304.440266526537,
          304.76021516276523,
          305.760150650749,
          313.06969442835543,
          314.24845094478223,
          316.0288890731754,
          362.0535695084836,
          364.0876318271039,
          380.7458504980896,
          409.48371994437184,
          412.248672128655,
          423.5273300339468,
          425.0123955137096,
          426.2728364682989,
          448.20162140077446,
          448.5360391495051,
          452.2098727885168,
          452.96773480053525,
          457.0380712765036,
          457.92996457987465,
          461.1414624555037,
          461.78464676626027,
          463.27785304177087,
          463.6797625959152,
          464.8349261644762,
          469.4015747064259,
          470.14026744815055,
          470.93342672206927,
          472.2065243101679,
          472.5330777430208,
          473.4761198202614,
          476.70918312482536,
          478.2248764288379,
          478.723093133769,
          482.04951447062194,
          483.35489876230713,
          487.2051572708879,
          488.2964232722297,
          489.42507549433503,
          491.5496696064947,
          495.07687676057685,
          495.5449264409253,
          497.0786830956349,
          506.1335827795556,
          510.9789537386969,
          513.858798664296,
          515.4166090666549,
          518.111427526921,
          518.5200340376468,
          521.8230160266394,
          522.092461008695,
          523.8478930698475,
          524.8677965475945,
          525.5196438939311,
          528.4832929365803,
          548.587495123269,
          549.5229186442448,
          550.0511794937775,
          557.0867624515668,
          558.9859025991755,
          560.5533590766136,
          562.4648486579536,
          562.7019454966066,
          572.2484263688093,
          587.5846105166711,
          589.2632118972251,
          615.9700295833172,
          620.9211387283867,
          623.155618224293,
          650.5215331729269,
          664.0966635025106,
          670.1135410618735,
          672.9626352831256,
          677.9930634275079,
          695.935039521195,
          705.7719164047157,
          706.4210603924002,
          721.892688950873,
          731.4634693306871,
          762.790818411042,
          776.6407082799124,
          778.0944700955879,
          779.3937411103398,
          785.0751257215161,
          785.3502846206538,
          788.9113144774456,
          790.7550972133176,
          792.9165860266658,
          802.2254478204995,
          802.9115786692128,
          803.5918112809304,
          804.1924484134652,
          813.7036627436755,
          822.1614580933237,
          822.8698916506255,
          824.3470313743455,
          825.6454422295792,
          826.6349636429222,
          830.5353264459409,
          831.6206634902628,
          832.2256321405293,
          834.013074425282,
          834.9684659361374,
          837.047225831775,
          837.642609847011,
          841.186129312613,
          843.0233072520932,
          863.044043241418,
          870.9305083235959,
          871.5175057830056,
          873.0006359036779,
          875.543636201648,
          876.2699795097578,
          887.2394407733809,
          887.6475557644153,
          888.2267810679041,
          889.3796713575721,
          890.8702664343873,
          891.6456081174547,
          893.9887134777382,
          897.8768497270066,
          898.3031202288112,
          905.1691903133178,
          910.5709616276436,
          911.801727077458,
          913.0358410056216,
          914.0584785620448,
          915.0453273367602,
          922.1907649582718,
          922.8159166382392,
          928.0896470580484,
          928.6015955959448,
          929.6608513736865,
          931.2433299233672,
          934.7607066824568,
          946.773203572142,
          948.1003683325836,
          950.183275426156,
          953.9422341416356,
          954.5598287053872,
          954.8777805425924,
          956.2956306966952,
          961.2234233735362,
          961.650830514729,
          964.806264419225,
          967.6375103296014,
          968.6162797485013,
          969.6319745883812,
          970.7232098696986,
          971.2785350254272,
          973.8502892286052,
          974.709619348636,
          976.1899539506994,
          976.5397931316402,
          977.3631194300252,
          977.8224753548856,
          979.717499024584,
          979.9883571260144,
          980.2333182805452,
          981.8230160266394,
          982.605331146042,
          983.5861280838726,
          987.7827544151804,
          988.2349833037006,
          989.7250561406836,
          990.3922020391328,
          996.1495571713896,
          996.5255390588428,
          997.3653312688692,
          999.1419293993386,
          1001.6336580435744,
          1002.7747211393436,
          1004.180498339585,
          1005.2522878708552,
          1006.8400195378345,
          1008.7572844761888,
          1009.9937024031532,
          1014.0956804630114,
          1015.4069937116,
          1017.4242829188006,
          1019.242199427914,
          1021.0679188132052,
          1022.4692723357584,
          1024.8317312861327,
          1027.3749773439486,
          1030.9227668875828,
          1031.675621542032,
          1033.0520304373931,
          1034.8164020139957,
          1035.1238476166036,
          1036.6578807511833,
          1041.8546883303206,
          1043.1738658949034,
          1044.949450265849,
          1046.6178526115837,
          1052.4334221140016,
          1054.255055741407,
          1061.2597651149845,
          1068.5572359387295,
          1090.449955609627,
          1096.1201581464848,
          1096.3957471253816,
          1098.090507217683,
          1121.1021101556253,
          1121.8455030551413,
          1123.012401657645,
          1129.6463208211353,
          1136.294401897234,
          1138.585406164173,
          1147.8544241385534,
          1149.2643485366134,
          1157.124486592249,
          1158.4408993582474,
          1159.1206711701816,
          1160.6416483114008,
          1165.3039896043483,
          1166.183533473988,
          1179.7108635080513,
          1184.869578306796,
          1185.9003259390593,
          1186.706111126463,
          1188.420101928874,
          1193.98785331822,
          1200.6972822030075,
          1210.4607383240946,
          1211.2142995382892,
          1212.5813388383249,
          1214.6108238792513,
          1215.5386902841274,
          1225.787429996766,
          1226.509810426971,
          1232.910257709911,
          1233.7624607936011,
          1234.4008835067507,
          1238.5361005895538,
          1239.971768334508,
          1240.520734453341,
          1244.6043726825155,
          1246.063909855322,
          1246.8489897733089,
          1248.0346582862549,
          1248.317742941319,
          1252.536211181432,
          1257.6516108023934,
          1259.2913206828523,
          1259.7245031810598,
          1263.1493206275627,
          1264.9198054810986,
          1266.5914027051767,
          1266.8730742409823,
          1269.481999625219,
          1270.4450711321551,
          1271.197618586826,
          1273.3520110837417,
          1274.120901570073,
          1274.8678272677353,
          1275.4689559199614,
          1280.626933439053,
          1284.4240770948818,
          1284.9223245197209,
          1286.9634831546573,
          1288.4569044701057,
          1288.770432629506,
          1292.4840793681797,
          1299.4527542002031,
          1302.2930625060108,
          1304.491753220209,
          1305.327275352436,
          1317.227398539544,
          1317.7059851745144,
          1326.5447697690688,
          1329.8460621588165,
          1330.4897687091725,
          1333.4931079715025,
          1350.2829310550587,
          1351.2460332820192,
          1360.2358680391917,
          1360.5792253034888,
          1362.0842894928064,
          1370.1272421748145,
          1380.0837733970257,
          1380.751441535307,
          1381.9583068373613,
          1388.70232642442,
          1393.2320188251324,
          1420.3861502022482,
          1421.8762844793964,
          1422.8925937189488,
          1423.4224827276776,
          1431.94349980494,
          1446.6073156570783,
          1448.171055016457,
          1451.2576147160726,
          1451.682195618749,
          1453.5779565681005,
          1455.0066201565787,
          1457.5841189969797,
          1459.2703082136577,
          1460.8494690050138,
          1461.8183465889888,
          1462.9681956003187,
          1463.5530733807243,
          1465.750750335632,
          1466.4348843853222,
          1469.972352014156,
          1482.486844166764,
          1490.8446766874986,
          1492.3859290183757,
          1492.6954021399142,
          1493.932557346532,
          1499.5871541313827,
          1503.175371174235,
          1511.1950073881308,
          1511.9743733890357,
          1525.509168379358,
          1537.3124314560555,
          1541.530408176477,
          1549.236362630967,
          1558.468209424289,
          1559.0661124781473,
          1560.657407663413,
          1561.3122041281313,
          1561.8179165092297,
          1562.8004030461889,
          1563.9085035987664,
          1564.5121820097556,
          1572.459994900506,
          1572.9206717845518,
          1573.6099975116083,
          1574.8716058257269,
          1593.435845920816,
          1598.4112238534726,
          1599.008328187745,
          1620.6365180740831,
          1621.4997189121789,
          1631.978459147038,
          1632.9539415275212,
          1634.2226461579558,
          1655.9911034925608,
          1663.2901717553614,
          1669.9256269180914,
          1670.634736314998,
          1672.4562777824467,
          1690.6172873639734,
          1715.8362440518104,
          1717.3382976828143,
          1720.771532404935,
          1721.5982993416255,
          1722.780220016488,
          1730.887961145374,
          1731.4525022963062,
          1732.0931061283918,
          1732.910104110022,
          1734.80967433739,
          1738.509988602833,
          1738.831135318498,
          1740.4160714669852,
          1741.1612461253535,
          1742.7005938172806,
          1743.251710335142,
          1744.3354499401755,
          1745.8331720533315,
          1746.2540665578565,
          1747.4760768122503,
          1748.9650130098453,
          1750.0353587018326,
          1751.0310855520656,
          1753.8423020327464,
          1754.4257974140346,
          1755.3255857533077,
          1758.7668076714035,
          1760.0991641092114,
          1761.731316873571,
          1765.0429311780026,
          1768.766039671842,
          1769.9042458089534,
          1771.5011013114126,
          1772.2781940335408,
          1776.0566906590248,
          1776.5679326371755,
          1778.1377545534633,
          1779.4827061848482,
          1781.1392506166594,
          1794.1789623403456,
          1798.6353261386976,
          1801.527520497912,
          1804.1595780302305,
          1806.4919621160952,
          1823.8375711551637,
          1825.1287628141,
          1829.7647156404564,
          1830.5366474052423,
          1832.471269134665,
          1834.6991745539708,
          1835.601850571809,
          1836.209799060598,
          1839.396690228837,
          1840.7898722356183,
          1849.037604332785,
          1850.228034443222,
          1860.3845220431683,
          1861.4110610375649,
          1862.2343566160416,
          1864.680711843539,
          1865.4785712749,
          1865.7086025171448,
          1871.004267005832,
          1878.7022957043955,
          1880.4269463414091,
          1890.28087281622,
          1892.4131469244603,
          1893.094577615615,
          1894.3454339350571,
          1895.252902270528,
          1897.7465969936457,
          1897.9786250349132,
          1904.6180430755485,
          1905.1989579781657,
          1906.7894851637536,
          1907.107037641108,
          1909.7805364324013,
          1910.947312154924,
          1911.7116560835857,
          1914.0217681808865,
          1915.2934219297024,
          1916.6980317706475,
          1917.093858767883,
          1919.4552732388256,
          1921.856715849368,
          1923.3689377950504,
          1927.839340626262,
          1928.639319736627,
          1929.983595528407,
          1932.2338343762092,
          1933.349737804965,
          1934.84168456099,
          1938.8679992995455,
          1941.5793758312936,
          1943.5183290785644,
          1943.9121592770096,
          1945.2110616519349,
          1964.470740751014,
          1967.738179718028,
          1970.8113455045968,
          1973.619090626948,
          1980.678635172546,
          1983.3345314126927,
          1986.5690078366315,
          1987.566301406012,
          1989.754086525878,
          1990.27758577792,
          1994.072425434948,
          1996.332771157613,
          1999.2674819750248,
          2001.1064723934976,
          2003.6338054995283,
          2004.970063375309,
          2006.439062303165,
          2008.202942360076,
          2009.083530709264,
          2011.219583375496,
          2013.648243892123,
          2015.081331158406,
          2018.8761093753856,
          2019.3032093168003,
          2024.042780650081,
          2027.4383526715685,
          2028.4600071884925,
          2036.9733749895825,
          2038.0265789304397,
          2038.5312775520144,
          2042.3890931766944,
          2043.5803220068335,
          2046.7688106143612,
          2050.284804974217,
          2050.893552182475,
          2051.248275840888,
          2054.6745985666057,
          2055.091806672979,
          2056.743282307405,
          2060.8630165180657,
          2064.36693792406,
          2070.8192712605232,
          2073.3547144423937,
          2075.609376968001,
          2077.674343590741,
          2086.9822837851243,
          2088.8123654080555,
          2089.480770825874,
          2091.064386014943,
          2091.8676214438165,
          2111.527428337955,
          2112.2602842827328,
          2112.9885015098844,
          2117.191947677755,
          2119.100334540592,
          2120.5963363345945,
          2123.229960586177,
          2124.053870564326,
          2125.548305639298,
          2128.6042375146644,
          2129.153019313584,
          2129.397427508491,
          2132.6609957575565,
          2134.977589771501,
          2139.2817053277977,
          2140.454072087537,
          2146.3805714531336,
          2147.531034864136,
          2149.3900239922805,
          2150.611112647108,
          2151.0804218468256,
          2153.028621809324,
          2155.699785881676,
          2157.119602114777,
          2158.3531630832003,
          2158.852485707496,
          2163.98456627992,
          2167.334181204904,
          2168.669947560993,
          2170.2587544274284,
          2171.8264566648286,
          2173.443003677181,
          2174.647442100453,
          2175.71812571236,
          2181.881138236844,
          2183.171899815905,
          2183.9662264492363,
          2186.421459752135,
          2187.8121227201773,
          2191.2555564771174,
          2192.122750913142,
          2193.779326064978,
          2194.5592450256227,
          2198.072536026826,
          2200.6535369453486,
          2201.190307230572,
          2201.847131214221,
          2203.726456972072,
          2204.539338475792,
          2210.0833125973586,
          2211.4085727188503,
          2212.4699481753632,
          2212.7383486779872,
          2214.238006150117,
          2214.654692016775,
          2217.346837838413,
          2217.9279063409194,
          2219.7253019006457,
          2221.5281963375164,
          2221.8763151993044,
          2228.202665880206,
          2229.3504566525808,
          2235.375782207586,
          2238.166262698825,
          2240.222443406121,
          2241.365718340734,
          2242.6681535139214,
          2243.5024161267797,
          2244.8336052051745,
          2245.964868625975,
          2248.6126547902822,
          2249.704350871383,
          2257.696062619565,
          2259.834204244893,
          2261.241671044263,
          2276.62980268558,
          2277.9294116201345,
          2280.355215178104,
          2280.896439861041,
          2281.925037094392,
          2284.230387594085,
          2287.8695383707527,
          2288.806590051041,
          2290.8130965436576,
          2291.2609017543728,
          2305.615090885083,
          2307.2223297421588,
          2307.6603352779057,
          2308.1525615858845,
          2312.929734179983,
          2313.885310010752,
          2317.030022640596,
          2328.2534767341567,
          2330.009891834925,
          2331.2681516706944,
          2331.8407107375097,
          2333.100137932692,
          2335.649005747633,
          2337.830861910596,
          2339.7462836499326,
          2340.7321801050566,
          2342.0444149532123,
          2345.465822481434,
          2347.914358827751,
          2348.5164397995686,
          2349.268587894505,
          2349.621007554,
          2367.486583046848,
          2368.8405970735475,
          2370.297215847764,
          2372.2906049072044,
          2376.0932781602023,
          2379.6902811186155,
          2382.253034366411,
          2383.648551091901,
          2391.7528208625736,
          2392.088958930457,
          2399.603742922889,
          2401.4242399107898,
          2403.111535046832,
          2410.629237437737,
          2411.7382903100224,
          2418.3305531747174,
          2418.648689331836,
          2422.595162831247,
          2435.007848955924,
          2437.312677215901,
          2438.1647574196104,
          2440.573572826339,
          2442.9741552772466,
          2443.884972090833,
          2444.5902722097235,
          2446.913931820076,
          2448.736702086753,
          2450.251258751377,
          2451.0625428159256,
          2452.071694299346,
          2453.380918588955,
          2456.244481922826,
          2456.4666795689845,
          2457.492727043689,
          2458.5904749616748,
          2460.983561736415,
          2462.0589455057634,
          2462.666463914793,
          2464.373174080858,
          2465.28469745419,
          2470.819240540499,
          2472.9979939850746,
          2474.7177908645244,
          2477.4389056313084,
          2481.222686093999,
          2482.1319054684136,
          2484.4108982216567,
          2487.038624236244,
          2490.4219697039807,
          2492.8659594926285,
          2501.506385148736,
          2503.348263245658,
          2505.3349860684248,
          2507.006706172484,
          2509.6614350533346,
          2511.4111839174293,
          2513.817449565511,
          2514.8284442478325,
          2516.9217654160457,
          2520.186746784369,
          2521.9462646035245,
          2525.535096046049,
          2530.7247151489137,
          2531.2187232159777,
          2535.2449150745524,
          2541.24658624176,
          2543.093778896029,
          2543.8724383373046,
          2544.215580561664,
          2552.469395215623,
          2553.1851401291788,
          2553.543550185743,
          2556.1119559106883,
          2556.596747982432,
          2559.389348152676,
          2585.469324559672,
          2586.462870290969
         ],
         "xaxis": "x",
         "y": [
          0.5531299997131487,
          0.6529943999947488,
          0.6818338186085533,
          0.6855426968939451,
          0.5638321519301116,
          0.5520144287947284,
          0.5311871540287425,
          0.5820684252618761,
          0.7350182808439756,
          0.5466479236655968,
          0.6797101581031468,
          0.5555715522919039,
          0.6136891618769891,
          0.6953400153367567,
          0.6294721312813356,
          0.6855356988908042,
          0.6363311027295927,
          0.5430448696828101,
          0.6355805710083503,
          0.5475793235349928,
          0.702071541151714,
          0.563663717672589,
          0.5355310124180074,
          0.497614053609175,
          0.6046968331796223,
          0.4980699650975171,
          0.5249830065548345,
          0.5187183668439582,
          0.5989912909031071,
          0.5778629153584922,
          0.4942860388796756,
          0.6938832238973249,
          0.6669163117903145,
          0.5555369009725036,
          0.595806307846121,
          0.6804446445913281,
          0.5732527656154569,
          0.6679719212723034,
          0.6215446682225152,
          0.6772886622499554,
          0.5797495235157593,
          0.548811480460792,
          0.6491044693071885,
          0.5983442732969754,
          0.4521593980652167,
          0.6392980025286885,
          0.474390937204361,
          0.5366659040647884,
          0.7191608603130253,
          0.7653541266606021,
          0.768998105742172,
          0.6555555046470359,
          0.7770967398116646,
          0.5508201807007789,
          0.6092277218024317,
          0.5893339680150067,
          0.5996904439382869,
          0.6667443488877859,
          0.619415466397569,
          0.6268005617154134,
          0.7523105934133956,
          0.5875842231952455,
          0.4880908437964466,
          0.7196516819379312,
          0.6637187794244978,
          0.6009661763863297,
          0.5909678631478449,
          0.6038887117744255,
          0.5320519496656168,
          0.5929289503389443,
          0.4731700304215758,
          0.8453115629355274,
          0.4661227963000046,
          0.6390652833504044,
          0.5871953648823616,
          0.633507758275282,
          0.6892335869701717,
          0.7579339337117916,
          0.5953952193848852,
          0.6421817973952472,
          0.5269121430750844,
          0.6492895072730048,
          0.5580712477071413,
          0.5747791652151141,
          0.6566628731538927,
          0.718182851139391,
          0.5114952582834592,
          0.63307361249349,
          0.5771396865624435,
          0.5871670901039245,
          0.6627064211702984,
          0.6134865169793687,
          0.6807261808509408,
          0.7838835066510403,
          0.548755134043899,
          0.6635473873127634,
          0.6874219686823044,
          0.6657383959703622,
          0.8470118783039721,
          0.6241514925992863,
          0.4725998298115264,
          0.5739159352255979,
          0.6008634575183341,
          0.7561523132523423,
          0.7288109624680366,
          0.5764893038262434,
          0.6306601982837057,
          0.5302620749841277,
          0.640999760406277,
          0.6613706252221015,
          0.4650627894185707,
          0.5390229383649422,
          0.7125081162130534,
          0.8488888958937848,
          0.6083869015238645,
          0.5788183000053282,
          0.6170712155168241,
          0.5205794924788978,
          0.6367200914515423,
          0.4972887499128248,
          0.5325916084269415,
          0.5820184206675189,
          0.6762889006889242,
          0.7788613763814991,
          0.6760058271974622,
          0.6899468103593721,
          0.7159744147031589,
          0.5861234619672715,
          0.562774409205341,
          0.8514993611734959,
          0.6477243778052701,
          0.5882938826681757,
          0.6872298020034094,
          0.5503282514244834,
          0.6427913195434809,
          0.6613654346723379,
          0.5345810210316466,
          0.5438231614941723,
          0.5988233553444077,
          0.4545852176403835,
          0.5246111727816275,
          0.5677711216760667,
          0.6161736811168713,
          0.7180459969926335,
          0.5409961975770907,
          0.6687391954184603,
          0.5450364241943156,
          0.5961620210002748,
          0.616979190203,
          0.5327070748567468,
          0.5562586038450824,
          0.6527365123152864,
          0.5823661682851484,
          0.5858284420285114,
          0.549921233500021,
          0.5043635435676955,
          0.530713949524693,
          0.5206681810337578,
          0.6312718358372242,
          0.6380683592661879,
          0.607175377881813,
          0.4873187615736905,
          0.6062562394149034,
          0.5909886563606678,
          0.6710749896990746,
          0.5496303622567272,
          0.6317379488959018,
          0.5912927528789081,
          0.6339338739203594,
          0.6195267189173542,
          0.6132316914155772,
          0.6305221625912127,
          0.6076370222316861,
          0.6200507430393996,
          0.4744791770819439,
          0.6053897172585775,
          0.5921277124694332,
          0.6333045746185445,
          0.5673157668224494,
          0.5916891348359581,
          0.6531627683519843,
          0.593145026006795,
          0.6113869701075597,
          0.5227772553829153,
          0.5557115523765285,
          0.6871013378298118,
          0.6533643115053195,
          0.5735653117387297,
          0.6512813699121898,
          0.6437152531058186,
          0.6472968177464458,
          0.5636335118945965,
          0.6036933531008053,
          0.6040644451658068,
          0.7206139334458792,
          0.5266877645313498,
          0.5325899369791127,
          0.541634604524159,
          0.682617290254239,
          0.538434159869677,
          0.739869225730194,
          0.6105328382333988,
          0.595542047838364,
          0.6613772593806083,
          0.5785834444705342,
          0.7114947088302904,
          0.7414061205574973,
          0.5515689057165915,
          0.537056891968947,
          0.5195576113079928,
          0.5419808785008403,
          0.6522394394260439,
          0.8016467403695395,
          0.6135005933989816,
          0.5090417662185066,
          0.5226394070293303,
          0.678508989275917,
          0.5376830342482017,
          0.5350411192777472,
          0.5531900889943019,
          0.6627166708042393,
          0.8976789617339467,
          0.5855641905768743,
          0.713656288527591,
          0.6083146930071646,
          0.6860141453667004,
          0.5595064608389966,
          0.6889263703741505,
          0.7558229062867102,
          0.6578461801657256,
          0.6652505452269446,
          0.7922808381140292,
          0.5903756297185677,
          0.6504339801900418,
          0.540679292978405,
          0.680416487692354,
          0.5366232588914294,
          0.5028570311967242,
          0.6616258880835009,
          0.5146646750929617,
          0.5858091947045484,
          0.5514391926153238,
          0.5690733699917514,
          0.6021491679294738,
          0.6465244029289663,
          0.5391027057967703,
          0.5672848338560188,
          0.5599387943650805,
          0.584241137058537,
          0.5980798334121483,
          0.5555713515261869,
          0.5119571878619795,
          0.6805948424724002,
          0.5023602139692872,
          0.6941608187294721,
          0.4838490460416763,
          0.616779763079623,
          0.5078287853220581,
          0.6124222440382545,
          0.5869433266229467,
          0.5690163270399048,
          0.5203147581556359,
          0.580043193799844,
          0.8359429670302252,
          0.6559263258804922,
          0.747397715007279,
          0.5800960912818737,
          0.5502149978693802,
          0.6658495383942883,
          0.5460832931700397,
          0.6296021238869788,
          0.5386351593771057,
          0.5813045904277971,
          0.5243995431245593,
          0.5388328406105249,
          0.5956378545287444,
          0.5228153271532507,
          0.5319727758973434,
          0.5660275626665557,
          0.7656807137309746,
          0.5802650650226088,
          0.649598197488107,
          0.7534890503294406,
          0.722008921812183,
          0.4757881829584884,
          0.5898310014499586,
          0.5562331274013937,
          0.4743131273895645,
          0.7101724992249602,
          0.6426142605886703,
          0.5070684287430725,
          0.6745788072992184,
          0.5551912423606824,
          0.5581360268297448,
          0.682915009838643,
          0.5192579058900968,
          0.5291775715035211,
          0.5264499979423657,
          0.5428565389661544,
          0.5234914928880628,
          0.547573165588711,
          0.6210644719283873,
          0.5372223410991716,
          0.6288804201300854,
          0.5347797882036842,
          0.5540300538540718,
          0.6571292913727751,
          0.5203038817824065,
          0.5463261438211784,
          0.5426392125243201,
          0.7984067028283219,
          0.5400019947650697,
          0.5588008856545924,
          0.6719033360172508,
          0.6921911056094698,
          0.5019493915102288,
          0.6617988501786354,
          0.5150905357374203,
          0.4621143395046392,
          0.6102682962791781,
          0.6573666838039344,
          0.7496561779033992,
          0.5029840336020934,
          0.4934915241233566,
          0.588095778468415,
          0.5619347952082028,
          0.4543303446464677,
          0.6020883441914747,
          0.5158210811613522,
          0.5714414494377994,
          0.6018963276073974,
          0.5073138875457887,
          0.5640594214338653,
          0.4346020968191773,
          0.5940564052049868,
          0.5970851562447153,
          0.4670380165308953,
          0.5379657711885584,
          0.7379372465239398,
          0.4985374813664165,
          0.5429597427038095,
          0.6381933461332513,
          0.4071191502424447,
          0.518563289043128,
          0.5422115289643666,
          0.478461691955679,
          0.5020277180475331,
          0.6092359138052156,
          0.5204705753164767,
          0.5524811049477142,
          0.4757212281403176,
          0.5596892343167956,
          0.5151098743402912,
          0.5771925395009274,
          0.468691709333463,
          0.5448519966263384,
          0.6037224775353431,
          0.519888448058858,
          0.6368105576277425,
          0.4822059496397228,
          0.5674959332334483,
          0.4573224520626615,
          0.5502153430351722,
          0.5696564312373208,
          0.6107852121703965,
          0.6043548685010529,
          0.5505849922706676,
          0.4906099689077332,
          0.5661093232391552,
          0.5028900790584696,
          0.4878805976884228,
          0.6255392115773604,
          0.4758098573486543,
          0.642660361225891,
          0.4086745813923492,
          0.4764986029362359,
          0.5470869375886916,
          0.5429874114935984,
          0.4574388651264924,
          0.450318112170983,
          0.5265098324609883,
          0.4704784510071018,
          0.5300620159446933,
          0.6344449999414381,
          0.5279667074371172,
          0.6714119558188651,
          0.4187112226189466,
          0.4958107627080639,
          0.4813395740045209,
          0.5970182262631721,
          0.4277642806352148,
          0.5540016842723264,
          0.5635606237271482,
          0.6152437236911252,
          0.4730897389869311,
          0.6444552706295199,
          0.5434068400906725,
          0.4418988609147391,
          0.5465576237043149,
          0.6445575490347804,
          0.4393593842764757,
          0.6734903931260631,
          0.5702799984852712,
          0.5398992746125225,
          0.5814343418026368,
          0.4915508764758741,
          0.5495749569602878,
          0.4938786847375989,
          0.572824587673147,
          0.4670110638155187,
          0.5977293314328364,
          0.6517846997732882,
          0.5620978561588406,
          0.5101755674712765,
          0.5363375998710735,
          0.5591330782959073,
          0.5042253378963287,
          0.5000929741783589,
          0.5186845320587042,
          0.7144737316427788,
          0.3619484235330734,
          0.3524863631202696,
          0.5267549991825324,
          0.480569002890637,
          0.4826993738787413,
          0.5882505154119395,
          0.5280833007924223,
          0.431866872212779,
          0.5946163489495836,
          0.5191918257707251,
          0.424078056315152,
          0.639112499085396,
          0.6855269896659855,
          0.4586672631763578,
          0.4745362426470915,
          0.2558347352420629,
          0.4749104162942362,
          0.4939902399126201,
          0.3981600310317578,
          0.5234665022320993,
          0.4483806595112879,
          0.4650408505216709,
          0.6583609497927593,
          0.5323588291016218,
          0.542660837331835,
          0.6666968488172088,
          0.5886422577202861,
          0.4422402192178455,
          0.4633924281387656,
          0.4136856244953933,
          0.4684233795618185,
          0.476493757677386,
          0.501919053035795,
          0.6864528350892558,
          0.3328553547047059,
          0.61907399776479,
          0.4831447653403909,
          0.6135794600900546,
          0.6304523349923431,
          0.5550324756316192,
          0.6609606432148999,
          0.5567482218636666,
          0.5075110602390231,
          0.4855368515544043,
          0.4012848458211905,
          0.595772772885674,
          0.4867110556305828,
          0.4214118068123057,
          0.5816839962660342,
          0.6806375701282188,
          0.546321558615058,
          0.4662650967163367,
          0.4230927716372183,
          0.5927616831652278,
          0.4697171932368724,
          0.6159213336158074,
          0.5749141346880221,
          0.5037520527279226,
          0.591753396273713,
          0.500482472596939,
          0.4389429664080146,
          0.6379624722673997,
          0.5335220102388097,
          0.4128315716805795,
          0.5742420191948505,
          0.4719872344838032,
          0.5153528727762939,
          0.4745583953759498,
          0.4820976699076035,
          0.4137617858605392,
          0.5201704408081039,
          0.4585375088078652,
          0.5087945420356501,
          0.5043014057006713,
          0.4317055052109141,
          0.5428792388160527,
          0.5308070439515412,
          0.6633115618544139,
          0.4987795226049454,
          0.4791070314833857,
          0.5147628475618296,
          0.5293679182297876,
          0.4807576171471979,
          0.5340421510268402,
          0.5340761187557272,
          0.5082971056874154,
          0.4772793259113752,
          0.5363151459525235,
          0.5350463634491138,
          0.2719433302761697,
          0.5203887537219827,
          0.474342956339834,
          0.5236049091005112,
          0.5897139066893946,
          0.459321149813464,
          0.6876583444948011,
          0.4946815225701144,
          0.517920702610741,
          0.6271861478140651,
          0.4846576816644801,
          0.5672332675088962,
          0.4606809698658012,
          0.657610111932019,
          0.4898811691629976,
          0.5465438376743018,
          0.4876587522618341,
          0.5356768714858469,
          0.5051442222491157,
          0.5031698220356333,
          0.471106095848102,
          0.4652249622485819,
          0.5176848008253734,
          0.5871516556438497,
          0.5079019105709787,
          0.518118961001739,
          0.4993708800429433,
          0.4249595637649253,
          0.5450281858908405,
          0.4151573071844676,
          0.3602572749190811,
          0.567340858111182,
          0.689009390982444,
          0.554404256041417,
          0.4590859474490182,
          0.4909580391038868,
          0.5603170203176905,
          0.4329291487283664,
          0.495948638682693,
          0.4630624406073985,
          0.3215164350763253,
          0.4671029262990611,
          0.4630748144689026,
          0.5479525295144926,
          0.550731652554349,
          0.4718325718859174,
          0.633904213448231,
          0.6657952908687172,
          0.5454828929432685,
          0.5128294491664172,
          0.4908517507386229,
          0.5177339263567782,
          0.5114025687632726,
          0.5056784562633104,
          0.4668737958924817,
          0.5250266586039892,
          0.5073894014404003,
          0.472722134829209,
          0.4935253666881055,
          0.4550280763974478,
          0.4842441250382739,
          0.3742897239790003,
          0.5101202139417985,
          0.5104218896924212,
          0.5653994950942051,
          0.5390029417107434,
          0.411767682621525,
          0.5593274709910886,
          0.4001913621076559,
          0.4628987938308125,
          0.5369724688684642,
          0.5184957495292858,
          0.5307387493702961,
          0.5593392315812197,
          0.50139377491293,
          0.5672542034753414,
          0.3656470090800612,
          0.6350247157002453,
          0.4691259381844357,
          0.639601502593169,
          0.3937664838245411,
          0.5915685466278607,
          0.5561575383417999,
          0.6425311547734981,
          0.4779016805476763,
          0.5087203391223755,
          0.485022032630017,
          0.5120156330678031,
          0.4944075563010114,
          0.4281355228235822,
          0.5392432131565292,
          0.5334324647967426,
          0.370878585478331,
          0.5019226787132438,
          0.3643549214926996,
          0.6237659199337862,
          0.5196483326334268,
          0.5201356767053075,
          0.6217541225084389,
          0.530836234017712,
          0.5309210452263797,
          0.4427629739196994,
          0.6943724243652115,
          0.3401002501407762,
          0.486958884463117,
          0.5294498474121775,
          0.5211986766004613,
          0.4900814472837105,
          0.4826517968133978,
          0.5377584595218835,
          0.6540286739810351,
          0.6317071456157726,
          0.5048749624489614,
          0.5081771623916909,
          0.4645630538879478,
          0.472208200549116,
          0.4586668869434138,
          0.525901079662446,
          0.6043136853958466,
          0.5176287118483026,
          0.3314073734277018,
          0.5573987043809284,
          0.4975713831002635,
          0.5582396597761065,
          0.4785533255877653,
          0.3237249568720025,
          0.4829573586766168,
          0.5222054161988684,
          0.5997626655561368,
          0.6431549024120993,
          0.536584416388118,
          0.4498426674704944,
          0.3212478915707968,
          0.5751798100075689,
          0.5948225493583116,
          0.4636480864827966,
          0.513017762337168,
          0.4811072210607361,
          0.2075251247109241,
          0.6378889288982337,
          0.4995132698562296,
          0.4297354759957789,
          0.5240632058556446,
          0.5342111424429065,
          0.5164033896574028,
          0.5349345182536923,
          0.5341171394855786,
          0.5265414430817815,
          0.481121796337713,
          0.4931319231779767,
          0.5385568871198709,
          0.6329472066869724,
          0.4927906079440773,
          0.6065040845072579,
          0.5396492851440327,
          0.4776092948131012,
          0.5344784473578169,
          0.6070504734735588,
          0.4187746803155103,
          0.4730045038531781,
          0.5464075690968007,
          0.4672667877233713,
          0.4441791866566266,
          0.5156449619049698,
          0.5903482699113751,
          0.4724203634569298,
          0.5428137019835202,
          0.117509853990083,
          0.7057451615391368,
          0.6157225806517255,
          0.4646259108415369,
          0.5489131265497722,
          0.4931758154702948,
          0.4766220762871694,
          0.5875331761512491,
          0.4776420206090649,
          0.4661030484045045,
          0.540939368739838,
          0.5408599737440205,
          0.5699655621954511,
          0.4154614667862379,
          0.4332862329135569,
          0.5169115557599075,
          0.4683409504797439,
          0.5234425138464286,
          0.5213682493982739,
          0.5645253471893966,
          0.4564947291301645,
          0.5237713115943496,
          0.5285460618302387,
          0.4162117562428898,
          0.6018298013597607,
          0.5579826051992987,
          0.5679711193664075,
          0.6320185300111788,
          0.5888305048136548,
          0.5309489719827877,
          0.4741450496109162,
          0.6205521467425179,
          0.170837022681503,
          0.7521850698854844,
          0.5119267422299154,
          0.4747550281726144,
          0.5681253355923447,
          0.4677485783395966,
          0.5432032605827195,
          0.5895660582526685,
          0.6947267089093536,
          0.4917886299334204
         ],
         "yaxis": "y"
        }
       ],
       "layout": {
        "legend": {
         "tracegroupgap": 0
        },
        "template": {
         "data": {
          "bar": [
           {
            "error_x": {
             "color": "#2a3f5f"
            },
            "error_y": {
             "color": "#2a3f5f"
            },
            "marker": {
             "line": {
              "color": "#E5ECF6",
              "width": 0.5
             },
             "pattern": {
              "fillmode": "overlay",
              "size": 10,
              "solidity": 0.2
             }
            },
            "type": "bar"
           }
          ],
          "barpolar": [
           {
            "marker": {
             "line": {
              "color": "#E5ECF6",
              "width": 0.5
             },
             "pattern": {
              "fillmode": "overlay",
              "size": 10,
              "solidity": 0.2
             }
            },
            "type": "barpolar"
           }
          ],
          "carpet": [
           {
            "aaxis": {
             "endlinecolor": "#2a3f5f",
             "gridcolor": "white",
             "linecolor": "white",
             "minorgridcolor": "white",
             "startlinecolor": "#2a3f5f"
            },
            "baxis": {
             "endlinecolor": "#2a3f5f",
             "gridcolor": "white",
             "linecolor": "white",
             "minorgridcolor": "white",
             "startlinecolor": "#2a3f5f"
            },
            "type": "carpet"
           }
          ],
          "choropleth": [
           {
            "colorbar": {
             "outlinewidth": 0,
             "ticks": ""
            },
            "type": "choropleth"
           }
          ],
          "contour": [
           {
            "colorbar": {
             "outlinewidth": 0,
             "ticks": ""
            },
            "colorscale": [
             [
              0,
              "#0d0887"
             ],
             [
              0.1111111111111111,
              "#46039f"
             ],
             [
              0.2222222222222222,
              "#7201a8"
             ],
             [
              0.3333333333333333,
              "#9c179e"
             ],
             [
              0.4444444444444444,
              "#bd3786"
             ],
             [
              0.5555555555555556,
              "#d8576b"
             ],
             [
              0.6666666666666666,
              "#ed7953"
             ],
             [
              0.7777777777777778,
              "#fb9f3a"
             ],
             [
              0.8888888888888888,
              "#fdca26"
             ],
             [
              1,
              "#f0f921"
             ]
            ],
            "type": "contour"
           }
          ],
          "contourcarpet": [
           {
            "colorbar": {
             "outlinewidth": 0,
             "ticks": ""
            },
            "type": "contourcarpet"
           }
          ],
          "heatmap": [
           {
            "colorbar": {
             "outlinewidth": 0,
             "ticks": ""
            },
            "colorscale": [
             [
              0,
              "#0d0887"
             ],
             [
              0.1111111111111111,
              "#46039f"
             ],
             [
              0.2222222222222222,
              "#7201a8"
             ],
             [
              0.3333333333333333,
              "#9c179e"
             ],
             [
              0.4444444444444444,
              "#bd3786"
             ],
             [
              0.5555555555555556,
              "#d8576b"
             ],
             [
              0.6666666666666666,
              "#ed7953"
             ],
             [
              0.7777777777777778,
              "#fb9f3a"
             ],
             [
              0.8888888888888888,
              "#fdca26"
             ],
             [
              1,
              "#f0f921"
             ]
            ],
            "type": "heatmap"
           }
          ],
          "heatmapgl": [
           {
            "colorbar": {
             "outlinewidth": 0,
             "ticks": ""
            },
            "colorscale": [
             [
              0,
              "#0d0887"
             ],
             [
              0.1111111111111111,
              "#46039f"
             ],
             [
              0.2222222222222222,
              "#7201a8"
             ],
             [
              0.3333333333333333,
              "#9c179e"
             ],
             [
              0.4444444444444444,
              "#bd3786"
             ],
             [
              0.5555555555555556,
              "#d8576b"
             ],
             [
              0.6666666666666666,
              "#ed7953"
             ],
             [
              0.7777777777777778,
              "#fb9f3a"
             ],
             [
              0.8888888888888888,
              "#fdca26"
             ],
             [
              1,
              "#f0f921"
             ]
            ],
            "type": "heatmapgl"
           }
          ],
          "histogram": [
           {
            "marker": {
             "pattern": {
              "fillmode": "overlay",
              "size": 10,
              "solidity": 0.2
             }
            },
            "type": "histogram"
           }
          ],
          "histogram2d": [
           {
            "colorbar": {
             "outlinewidth": 0,
             "ticks": ""
            },
            "colorscale": [
             [
              0,
              "#0d0887"
             ],
             [
              0.1111111111111111,
              "#46039f"
             ],
             [
              0.2222222222222222,
              "#7201a8"
             ],
             [
              0.3333333333333333,
              "#9c179e"
             ],
             [
              0.4444444444444444,
              "#bd3786"
             ],
             [
              0.5555555555555556,
              "#d8576b"
             ],
             [
              0.6666666666666666,
              "#ed7953"
             ],
             [
              0.7777777777777778,
              "#fb9f3a"
             ],
             [
              0.8888888888888888,
              "#fdca26"
             ],
             [
              1,
              "#f0f921"
             ]
            ],
            "type": "histogram2d"
           }
          ],
          "histogram2dcontour": [
           {
            "colorbar": {
             "outlinewidth": 0,
             "ticks": ""
            },
            "colorscale": [
             [
              0,
              "#0d0887"
             ],
             [
              0.1111111111111111,
              "#46039f"
             ],
             [
              0.2222222222222222,
              "#7201a8"
             ],
             [
              0.3333333333333333,
              "#9c179e"
             ],
             [
              0.4444444444444444,
              "#bd3786"
             ],
             [
              0.5555555555555556,
              "#d8576b"
             ],
             [
              0.6666666666666666,
              "#ed7953"
             ],
             [
              0.7777777777777778,
              "#fb9f3a"
             ],
             [
              0.8888888888888888,
              "#fdca26"
             ],
             [
              1,
              "#f0f921"
             ]
            ],
            "type": "histogram2dcontour"
           }
          ],
          "mesh3d": [
           {
            "colorbar": {
             "outlinewidth": 0,
             "ticks": ""
            },
            "type": "mesh3d"
           }
          ],
          "parcoords": [
           {
            "line": {
             "colorbar": {
              "outlinewidth": 0,
              "ticks": ""
             }
            },
            "type": "parcoords"
           }
          ],
          "pie": [
           {
            "automargin": true,
            "type": "pie"
           }
          ],
          "scatter": [
           {
            "fillpattern": {
             "fillmode": "overlay",
             "size": 10,
             "solidity": 0.2
            },
            "type": "scatter"
           }
          ],
          "scatter3d": [
           {
            "line": {
             "colorbar": {
              "outlinewidth": 0,
              "ticks": ""
             }
            },
            "marker": {
             "colorbar": {
              "outlinewidth": 0,
              "ticks": ""
             }
            },
            "type": "scatter3d"
           }
          ],
          "scattercarpet": [
           {
            "marker": {
             "colorbar": {
              "outlinewidth": 0,
              "ticks": ""
             }
            },
            "type": "scattercarpet"
           }
          ],
          "scattergeo": [
           {
            "marker": {
             "colorbar": {
              "outlinewidth": 0,
              "ticks": ""
             }
            },
            "type": "scattergeo"
           }
          ],
          "scattergl": [
           {
            "marker": {
             "colorbar": {
              "outlinewidth": 0,
              "ticks": ""
             }
            },
            "type": "scattergl"
           }
          ],
          "scattermapbox": [
           {
            "marker": {
             "colorbar": {
              "outlinewidth": 0,
              "ticks": ""
             }
            },
            "type": "scattermapbox"
           }
          ],
          "scatterpolar": [
           {
            "marker": {
             "colorbar": {
              "outlinewidth": 0,
              "ticks": ""
             }
            },
            "type": "scatterpolar"
           }
          ],
          "scatterpolargl": [
           {
            "marker": {
             "colorbar": {
              "outlinewidth": 0,
              "ticks": ""
             }
            },
            "type": "scatterpolargl"
           }
          ],
          "scatterternary": [
           {
            "marker": {
             "colorbar": {
              "outlinewidth": 0,
              "ticks": ""
             }
            },
            "type": "scatterternary"
           }
          ],
          "surface": [
           {
            "colorbar": {
             "outlinewidth": 0,
             "ticks": ""
            },
            "colorscale": [
             [
              0,
              "#0d0887"
             ],
             [
              0.1111111111111111,
              "#46039f"
             ],
             [
              0.2222222222222222,
              "#7201a8"
             ],
             [
              0.3333333333333333,
              "#9c179e"
             ],
             [
              0.4444444444444444,
              "#bd3786"
             ],
             [
              0.5555555555555556,
              "#d8576b"
             ],
             [
              0.6666666666666666,
              "#ed7953"
             ],
             [
              0.7777777777777778,
              "#fb9f3a"
             ],
             [
              0.8888888888888888,
              "#fdca26"
             ],
             [
              1,
              "#f0f921"
             ]
            ],
            "type": "surface"
           }
          ],
          "table": [
           {
            "cells": {
             "fill": {
              "color": "#EBF0F8"
             },
             "line": {
              "color": "white"
             }
            },
            "header": {
             "fill": {
              "color": "#C8D4E3"
             },
             "line": {
              "color": "white"
             }
            },
            "type": "table"
           }
          ]
         },
         "layout": {
          "annotationdefaults": {
           "arrowcolor": "#2a3f5f",
           "arrowhead": 0,
           "arrowwidth": 1
          },
          "autotypenumbers": "strict",
          "coloraxis": {
           "colorbar": {
            "outlinewidth": 0,
            "ticks": ""
           }
          },
          "colorscale": {
           "diverging": [
            [
             0,
             "#8e0152"
            ],
            [
             0.1,
             "#c51b7d"
            ],
            [
             0.2,
             "#de77ae"
            ],
            [
             0.3,
             "#f1b6da"
            ],
            [
             0.4,
             "#fde0ef"
            ],
            [
             0.5,
             "#f7f7f7"
            ],
            [
             0.6,
             "#e6f5d0"
            ],
            [
             0.7,
             "#b8e186"
            ],
            [
             0.8,
             "#7fbc41"
            ],
            [
             0.9,
             "#4d9221"
            ],
            [
             1,
             "#276419"
            ]
           ],
           "sequential": [
            [
             0,
             "#0d0887"
            ],
            [
             0.1111111111111111,
             "#46039f"
            ],
            [
             0.2222222222222222,
             "#7201a8"
            ],
            [
             0.3333333333333333,
             "#9c179e"
            ],
            [
             0.4444444444444444,
             "#bd3786"
            ],
            [
             0.5555555555555556,
             "#d8576b"
            ],
            [
             0.6666666666666666,
             "#ed7953"
            ],
            [
             0.7777777777777778,
             "#fb9f3a"
            ],
            [
             0.8888888888888888,
             "#fdca26"
            ],
            [
             1,
             "#f0f921"
            ]
           ],
           "sequentialminus": [
            [
             0,
             "#0d0887"
            ],
            [
             0.1111111111111111,
             "#46039f"
            ],
            [
             0.2222222222222222,
             "#7201a8"
            ],
            [
             0.3333333333333333,
             "#9c179e"
            ],
            [
             0.4444444444444444,
             "#bd3786"
            ],
            [
             0.5555555555555556,
             "#d8576b"
            ],
            [
             0.6666666666666666,
             "#ed7953"
            ],
            [
             0.7777777777777778,
             "#fb9f3a"
            ],
            [
             0.8888888888888888,
             "#fdca26"
            ],
            [
             1,
             "#f0f921"
            ]
           ]
          },
          "colorway": [
           "#636efa",
           "#EF553B",
           "#00cc96",
           "#ab63fa",
           "#FFA15A",
           "#19d3f3",
           "#FF6692",
           "#B6E880",
           "#FF97FF",
           "#FECB52"
          ],
          "font": {
           "color": "#2a3f5f"
          },
          "geo": {
           "bgcolor": "white",
           "lakecolor": "white",
           "landcolor": "#E5ECF6",
           "showlakes": true,
           "showland": true,
           "subunitcolor": "white"
          },
          "hoverlabel": {
           "align": "left"
          },
          "hovermode": "closest",
          "mapbox": {
           "style": "light"
          },
          "paper_bgcolor": "white",
          "plot_bgcolor": "#E5ECF6",
          "polar": {
           "angularaxis": {
            "gridcolor": "white",
            "linecolor": "white",
            "ticks": ""
           },
           "bgcolor": "#E5ECF6",
           "radialaxis": {
            "gridcolor": "white",
            "linecolor": "white",
            "ticks": ""
           }
          },
          "scene": {
           "xaxis": {
            "backgroundcolor": "#E5ECF6",
            "gridcolor": "white",
            "gridwidth": 2,
            "linecolor": "white",
            "showbackground": true,
            "ticks": "",
            "zerolinecolor": "white"
           },
           "yaxis": {
            "backgroundcolor": "#E5ECF6",
            "gridcolor": "white",
            "gridwidth": 2,
            "linecolor": "white",
            "showbackground": true,
            "ticks": "",
            "zerolinecolor": "white"
           },
           "zaxis": {
            "backgroundcolor": "#E5ECF6",
            "gridcolor": "white",
            "gridwidth": 2,
            "linecolor": "white",
            "showbackground": true,
            "ticks": "",
            "zerolinecolor": "white"
           }
          },
          "shapedefaults": {
           "line": {
            "color": "#2a3f5f"
           }
          },
          "ternary": {
           "aaxis": {
            "gridcolor": "white",
            "linecolor": "white",
            "ticks": ""
           },
           "baxis": {
            "gridcolor": "white",
            "linecolor": "white",
            "ticks": ""
           },
           "bgcolor": "#E5ECF6",
           "caxis": {
            "gridcolor": "white",
            "linecolor": "white",
            "ticks": ""
           }
          },
          "title": {
           "x": 0.05
          },
          "xaxis": {
           "automargin": true,
           "gridcolor": "white",
           "linecolor": "white",
           "ticks": "",
           "title": {
            "standoff": 15
           },
           "zerolinecolor": "white",
           "zerolinewidth": 2
          },
          "yaxis": {
           "automargin": true,
           "gridcolor": "white",
           "linecolor": "white",
           "ticks": "",
           "title": {
            "standoff": 15
           },
           "zerolinecolor": "white",
           "zerolinewidth": 2
          }
         }
        },
        "title": {
         "text": "Ripples - Session: kdiba_gor01_two_2006"
        },
        "xaxis": {
         "anchor": "y",
         "domain": [
          0,
          1
         ],
         "title": {
          "text": "ripple_start_t"
         }
        },
        "yaxis": {
         "anchor": "x",
         "domain": [
          0,
          1
         ],
         "title": {
          "text": "P_Long"
         }
        }
       }
      }
     },
     "metadata": {},
     "output_type": "display_data"
    },
    {
     "data": {
      "application/vnd.plotly.v1+json": {
       "config": {
        "plotlyServerURL": "https://plot.ly"
       },
       "data": [
        {
         "hovertemplate": "lap_start_t=%{x}<br>P_Long=%{y}<extra></extra>",
         "legendgroup": "",
         "marker": {
          "color": "#636efa",
          "symbol": "circle"
         },
         "mode": "markers",
         "name": "",
         "orientation": "v",
         "showlegend": false,
         "type": "scatter",
         "x": [
          60.77767799999992,
          62.34325200000012,
          105.8501540000002,
          228.0436020000002,
          251.09851500000013,
          255.3013430000001,
          282.62583900000027,
          304.2823149999999,
          334.9823100000003,
          349.5026459999999,
          375.05464699999993,
          385.66723,
          475.4227770000002,
          491.4383740000003,
          551.2693750000003,
          579.4341800000002,
          607.2542579999999,
          615.2618219999999,
          637.9847770000001,
          645.7629940000002,
          657.4697590000001,
          726.5165609999999,
          755.3745020000001,
          764.6143860000002,
          797.120578,
          809.3278009999999,
          822.3784820000001,
          829.6136340000003,
          855.2779439999999,
          866.388825,
          878.5274480000003,
          890.1426420000003,
          930.746181,
          936.285394,
          958.1133299999996,
          966.3842390000004,
          979.001791,
          987.97298,
          1007.622124,
          1021.978079,
          1199.9248760000005,
          1247.0032809999998,
          1263.4525710000005,
          1274.6263400000005,
          1293.618793,
          1302.7938559999998,
          1353.643246,
          1365.221199,
          1374.5306240000004,
          1404.160574,
          1458.3504180000004,
          1475.09395,
          1499.1602559999997,
          1516.740596,
          1551.940242,
          1566.5251670000002,
          1648.3394050000002,
          1661.7178760000002,
          1670.0895219999998,
          1688.9506990000004,
          1693.9180499999998,
          1711.3701180000005,
          1720.005799,
          1732.287062,
          1738.1568540000003,
          1759.9885259999996,
          1764.1873470000005,
          1774.5347930000005,
          1783.6738010000004,
          1813.307896,
          1819.874987,
          1826.252806,
          1835.565931,
          1847.0398040000005,
          1853.543137,
          1885.744335,
          1893.9482060000005,
          1900.698371,
          1909.50513,
          1914.939772,
          1924.820662
         ],
         "xaxis": "x",
         "y": [
          0.5327696244538048,
          0.5994840813605269,
          0.6112461960548953,
          0.5887051695463684,
          0.5157835907068071,
          0.5352239613071312,
          0.5960026918155741,
          0.6010875387324405,
          0.5711623492698866,
          0.5452138616869124,
          0.6012988407791047,
          0.6127181305175617,
          0.589721650963851,
          0.5823134121402684,
          0.6859727121184068,
          0.5396816658429371,
          0.5524247518481994,
          0.5553945421572793,
          0.6207598669069659,
          0.5683854580540557,
          0.5758241576003978,
          0.5398322735450655,
          0.5556577528440526,
          0.6598357491424451,
          0.5750832064097718,
          0.560969811639675,
          0.580068665913366,
          0.5611508641272968,
          0.6001560361058539,
          0.5870569724828354,
          0.5447793195937658,
          0.6426004418139023,
          0.5138364886040936,
          0.5750420374266111,
          0.6093707643680666,
          0.5532349000266187,
          0.5684702635302933,
          0.6134522184095434,
          0.5102418059514711,
          0.6999809062390687,
          0.3472035197259923,
          0.3128787944373697,
          0.2447889657845093,
          0.3869522400097998,
          0.2454820704877138,
          0.3373626799418661,
          0.2306713736283047,
          0.3659697433605356,
          0.2510695734711756,
          0.2924968867123829,
          0.2621665342879443,
          0.4028867637502969,
          0.3067940468904467,
          0.3584464452748607,
          0.2528346565183209,
          0.371873732388173,
          0.3154039783008766,
          0.3126783143060838,
          0.2414207154268877,
          0.3012196400876621,
          0.3460006077505975,
          0.2655987551075108,
          0.3267064810240239,
          0.2286268402979385,
          0.2828903990530379,
          0.2538994585644132,
          0.2567024244698275,
          0.2479602833358074,
          0.2886622732683067,
          0.2585309310971229,
          0.3078223982343865,
          0.2593884112418843,
          0.2792607407134838,
          0.2393946186292949,
          0.3060259623657251,
          0.2727318837486502,
          0.3387026083834722,
          0.3062128741799413,
          0.2877531711339951,
          0.2790435847690022,
          0.2985294698908575
         ],
         "yaxis": "y"
        }
       ],
       "layout": {
        "legend": {
         "tracegroupgap": 0
        },
        "template": {
         "data": {
          "bar": [
           {
            "error_x": {
             "color": "#2a3f5f"
            },
            "error_y": {
             "color": "#2a3f5f"
            },
            "marker": {
             "line": {
              "color": "#E5ECF6",
              "width": 0.5
             },
             "pattern": {
              "fillmode": "overlay",
              "size": 10,
              "solidity": 0.2
             }
            },
            "type": "bar"
           }
          ],
          "barpolar": [
           {
            "marker": {
             "line": {
              "color": "#E5ECF6",
              "width": 0.5
             },
             "pattern": {
              "fillmode": "overlay",
              "size": 10,
              "solidity": 0.2
             }
            },
            "type": "barpolar"
           }
          ],
          "carpet": [
           {
            "aaxis": {
             "endlinecolor": "#2a3f5f",
             "gridcolor": "white",
             "linecolor": "white",
             "minorgridcolor": "white",
             "startlinecolor": "#2a3f5f"
            },
            "baxis": {
             "endlinecolor": "#2a3f5f",
             "gridcolor": "white",
             "linecolor": "white",
             "minorgridcolor": "white",
             "startlinecolor": "#2a3f5f"
            },
            "type": "carpet"
           }
          ],
          "choropleth": [
           {
            "colorbar": {
             "outlinewidth": 0,
             "ticks": ""
            },
            "type": "choropleth"
           }
          ],
          "contour": [
           {
            "colorbar": {
             "outlinewidth": 0,
             "ticks": ""
            },
            "colorscale": [
             [
              0,
              "#0d0887"
             ],
             [
              0.1111111111111111,
              "#46039f"
             ],
             [
              0.2222222222222222,
              "#7201a8"
             ],
             [
              0.3333333333333333,
              "#9c179e"
             ],
             [
              0.4444444444444444,
              "#bd3786"
             ],
             [
              0.5555555555555556,
              "#d8576b"
             ],
             [
              0.6666666666666666,
              "#ed7953"
             ],
             [
              0.7777777777777778,
              "#fb9f3a"
             ],
             [
              0.8888888888888888,
              "#fdca26"
             ],
             [
              1,
              "#f0f921"
             ]
            ],
            "type": "contour"
           }
          ],
          "contourcarpet": [
           {
            "colorbar": {
             "outlinewidth": 0,
             "ticks": ""
            },
            "type": "contourcarpet"
           }
          ],
          "heatmap": [
           {
            "colorbar": {
             "outlinewidth": 0,
             "ticks": ""
            },
            "colorscale": [
             [
              0,
              "#0d0887"
             ],
             [
              0.1111111111111111,
              "#46039f"
             ],
             [
              0.2222222222222222,
              "#7201a8"
             ],
             [
              0.3333333333333333,
              "#9c179e"
             ],
             [
              0.4444444444444444,
              "#bd3786"
             ],
             [
              0.5555555555555556,
              "#d8576b"
             ],
             [
              0.6666666666666666,
              "#ed7953"
             ],
             [
              0.7777777777777778,
              "#fb9f3a"
             ],
             [
              0.8888888888888888,
              "#fdca26"
             ],
             [
              1,
              "#f0f921"
             ]
            ],
            "type": "heatmap"
           }
          ],
          "heatmapgl": [
           {
            "colorbar": {
             "outlinewidth": 0,
             "ticks": ""
            },
            "colorscale": [
             [
              0,
              "#0d0887"
             ],
             [
              0.1111111111111111,
              "#46039f"
             ],
             [
              0.2222222222222222,
              "#7201a8"
             ],
             [
              0.3333333333333333,
              "#9c179e"
             ],
             [
              0.4444444444444444,
              "#bd3786"
             ],
             [
              0.5555555555555556,
              "#d8576b"
             ],
             [
              0.6666666666666666,
              "#ed7953"
             ],
             [
              0.7777777777777778,
              "#fb9f3a"
             ],
             [
              0.8888888888888888,
              "#fdca26"
             ],
             [
              1,
              "#f0f921"
             ]
            ],
            "type": "heatmapgl"
           }
          ],
          "histogram": [
           {
            "marker": {
             "pattern": {
              "fillmode": "overlay",
              "size": 10,
              "solidity": 0.2
             }
            },
            "type": "histogram"
           }
          ],
          "histogram2d": [
           {
            "colorbar": {
             "outlinewidth": 0,
             "ticks": ""
            },
            "colorscale": [
             [
              0,
              "#0d0887"
             ],
             [
              0.1111111111111111,
              "#46039f"
             ],
             [
              0.2222222222222222,
              "#7201a8"
             ],
             [
              0.3333333333333333,
              "#9c179e"
             ],
             [
              0.4444444444444444,
              "#bd3786"
             ],
             [
              0.5555555555555556,
              "#d8576b"
             ],
             [
              0.6666666666666666,
              "#ed7953"
             ],
             [
              0.7777777777777778,
              "#fb9f3a"
             ],
             [
              0.8888888888888888,
              "#fdca26"
             ],
             [
              1,
              "#f0f921"
             ]
            ],
            "type": "histogram2d"
           }
          ],
          "histogram2dcontour": [
           {
            "colorbar": {
             "outlinewidth": 0,
             "ticks": ""
            },
            "colorscale": [
             [
              0,
              "#0d0887"
             ],
             [
              0.1111111111111111,
              "#46039f"
             ],
             [
              0.2222222222222222,
              "#7201a8"
             ],
             [
              0.3333333333333333,
              "#9c179e"
             ],
             [
              0.4444444444444444,
              "#bd3786"
             ],
             [
              0.5555555555555556,
              "#d8576b"
             ],
             [
              0.6666666666666666,
              "#ed7953"
             ],
             [
              0.7777777777777778,
              "#fb9f3a"
             ],
             [
              0.8888888888888888,
              "#fdca26"
             ],
             [
              1,
              "#f0f921"
             ]
            ],
            "type": "histogram2dcontour"
           }
          ],
          "mesh3d": [
           {
            "colorbar": {
             "outlinewidth": 0,
             "ticks": ""
            },
            "type": "mesh3d"
           }
          ],
          "parcoords": [
           {
            "line": {
             "colorbar": {
              "outlinewidth": 0,
              "ticks": ""
             }
            },
            "type": "parcoords"
           }
          ],
          "pie": [
           {
            "automargin": true,
            "type": "pie"
           }
          ],
          "scatter": [
           {
            "fillpattern": {
             "fillmode": "overlay",
             "size": 10,
             "solidity": 0.2
            },
            "type": "scatter"
           }
          ],
          "scatter3d": [
           {
            "line": {
             "colorbar": {
              "outlinewidth": 0,
              "ticks": ""
             }
            },
            "marker": {
             "colorbar": {
              "outlinewidth": 0,
              "ticks": ""
             }
            },
            "type": "scatter3d"
           }
          ],
          "scattercarpet": [
           {
            "marker": {
             "colorbar": {
              "outlinewidth": 0,
              "ticks": ""
             }
            },
            "type": "scattercarpet"
           }
          ],
          "scattergeo": [
           {
            "marker": {
             "colorbar": {
              "outlinewidth": 0,
              "ticks": ""
             }
            },
            "type": "scattergeo"
           }
          ],
          "scattergl": [
           {
            "marker": {
             "colorbar": {
              "outlinewidth": 0,
              "ticks": ""
             }
            },
            "type": "scattergl"
           }
          ],
          "scattermapbox": [
           {
            "marker": {
             "colorbar": {
              "outlinewidth": 0,
              "ticks": ""
             }
            },
            "type": "scattermapbox"
           }
          ],
          "scatterpolar": [
           {
            "marker": {
             "colorbar": {
              "outlinewidth": 0,
              "ticks": ""
             }
            },
            "type": "scatterpolar"
           }
          ],
          "scatterpolargl": [
           {
            "marker": {
             "colorbar": {
              "outlinewidth": 0,
              "ticks": ""
             }
            },
            "type": "scatterpolargl"
           }
          ],
          "scatterternary": [
           {
            "marker": {
             "colorbar": {
              "outlinewidth": 0,
              "ticks": ""
             }
            },
            "type": "scatterternary"
           }
          ],
          "surface": [
           {
            "colorbar": {
             "outlinewidth": 0,
             "ticks": ""
            },
            "colorscale": [
             [
              0,
              "#0d0887"
             ],
             [
              0.1111111111111111,
              "#46039f"
             ],
             [
              0.2222222222222222,
              "#7201a8"
             ],
             [
              0.3333333333333333,
              "#9c179e"
             ],
             [
              0.4444444444444444,
              "#bd3786"
             ],
             [
              0.5555555555555556,
              "#d8576b"
             ],
             [
              0.6666666666666666,
              "#ed7953"
             ],
             [
              0.7777777777777778,
              "#fb9f3a"
             ],
             [
              0.8888888888888888,
              "#fdca26"
             ],
             [
              1,
              "#f0f921"
             ]
            ],
            "type": "surface"
           }
          ],
          "table": [
           {
            "cells": {
             "fill": {
              "color": "#EBF0F8"
             },
             "line": {
              "color": "white"
             }
            },
            "header": {
             "fill": {
              "color": "#C8D4E3"
             },
             "line": {
              "color": "white"
             }
            },
            "type": "table"
           }
          ]
         },
         "layout": {
          "annotationdefaults": {
           "arrowcolor": "#2a3f5f",
           "arrowhead": 0,
           "arrowwidth": 1
          },
          "autotypenumbers": "strict",
          "coloraxis": {
           "colorbar": {
            "outlinewidth": 0,
            "ticks": ""
           }
          },
          "colorscale": {
           "diverging": [
            [
             0,
             "#8e0152"
            ],
            [
             0.1,
             "#c51b7d"
            ],
            [
             0.2,
             "#de77ae"
            ],
            [
             0.3,
             "#f1b6da"
            ],
            [
             0.4,
             "#fde0ef"
            ],
            [
             0.5,
             "#f7f7f7"
            ],
            [
             0.6,
             "#e6f5d0"
            ],
            [
             0.7,
             "#b8e186"
            ],
            [
             0.8,
             "#7fbc41"
            ],
            [
             0.9,
             "#4d9221"
            ],
            [
             1,
             "#276419"
            ]
           ],
           "sequential": [
            [
             0,
             "#0d0887"
            ],
            [
             0.1111111111111111,
             "#46039f"
            ],
            [
             0.2222222222222222,
             "#7201a8"
            ],
            [
             0.3333333333333333,
             "#9c179e"
            ],
            [
             0.4444444444444444,
             "#bd3786"
            ],
            [
             0.5555555555555556,
             "#d8576b"
            ],
            [
             0.6666666666666666,
             "#ed7953"
            ],
            [
             0.7777777777777778,
             "#fb9f3a"
            ],
            [
             0.8888888888888888,
             "#fdca26"
            ],
            [
             1,
             "#f0f921"
            ]
           ],
           "sequentialminus": [
            [
             0,
             "#0d0887"
            ],
            [
             0.1111111111111111,
             "#46039f"
            ],
            [
             0.2222222222222222,
             "#7201a8"
            ],
            [
             0.3333333333333333,
             "#9c179e"
            ],
            [
             0.4444444444444444,
             "#bd3786"
            ],
            [
             0.5555555555555556,
             "#d8576b"
            ],
            [
             0.6666666666666666,
             "#ed7953"
            ],
            [
             0.7777777777777778,
             "#fb9f3a"
            ],
            [
             0.8888888888888888,
             "#fdca26"
            ],
            [
             1,
             "#f0f921"
            ]
           ]
          },
          "colorway": [
           "#636efa",
           "#EF553B",
           "#00cc96",
           "#ab63fa",
           "#FFA15A",
           "#19d3f3",
           "#FF6692",
           "#B6E880",
           "#FF97FF",
           "#FECB52"
          ],
          "font": {
           "color": "#2a3f5f"
          },
          "geo": {
           "bgcolor": "white",
           "lakecolor": "white",
           "landcolor": "#E5ECF6",
           "showlakes": true,
           "showland": true,
           "subunitcolor": "white"
          },
          "hoverlabel": {
           "align": "left"
          },
          "hovermode": "closest",
          "mapbox": {
           "style": "light"
          },
          "paper_bgcolor": "white",
          "plot_bgcolor": "#E5ECF6",
          "polar": {
           "angularaxis": {
            "gridcolor": "white",
            "linecolor": "white",
            "ticks": ""
           },
           "bgcolor": "#E5ECF6",
           "radialaxis": {
            "gridcolor": "white",
            "linecolor": "white",
            "ticks": ""
           }
          },
          "scene": {
           "xaxis": {
            "backgroundcolor": "#E5ECF6",
            "gridcolor": "white",
            "gridwidth": 2,
            "linecolor": "white",
            "showbackground": true,
            "ticks": "",
            "zerolinecolor": "white"
           },
           "yaxis": {
            "backgroundcolor": "#E5ECF6",
            "gridcolor": "white",
            "gridwidth": 2,
            "linecolor": "white",
            "showbackground": true,
            "ticks": "",
            "zerolinecolor": "white"
           },
           "zaxis": {
            "backgroundcolor": "#E5ECF6",
            "gridcolor": "white",
            "gridwidth": 2,
            "linecolor": "white",
            "showbackground": true,
            "ticks": "",
            "zerolinecolor": "white"
           }
          },
          "shapedefaults": {
           "line": {
            "color": "#2a3f5f"
           }
          },
          "ternary": {
           "aaxis": {
            "gridcolor": "white",
            "linecolor": "white",
            "ticks": ""
           },
           "baxis": {
            "gridcolor": "white",
            "linecolor": "white",
            "ticks": ""
           },
           "bgcolor": "#E5ECF6",
           "caxis": {
            "gridcolor": "white",
            "linecolor": "white",
            "ticks": ""
           }
          },
          "title": {
           "x": 0.05
          },
          "xaxis": {
           "automargin": true,
           "gridcolor": "white",
           "linecolor": "white",
           "ticks": "",
           "title": {
            "standoff": 15
           },
           "zerolinecolor": "white",
           "zerolinewidth": 2
          },
          "yaxis": {
           "automargin": true,
           "gridcolor": "white",
           "linecolor": "white",
           "ticks": "",
           "title": {
            "standoff": 15
           },
           "zerolinecolor": "white",
           "zerolinewidth": 2
          }
         }
        },
        "title": {
         "text": "Laps - Session: kdiba_pin01_one_11"
        },
        "xaxis": {
         "anchor": "y",
         "domain": [
          0,
          1
         ],
         "title": {
          "text": "lap_start_t"
         }
        },
        "yaxis": {
         "anchor": "x",
         "domain": [
          0,
          1
         ],
         "title": {
          "text": "P_Long"
         }
        }
       }
      }
     },
     "metadata": {},
     "output_type": "display_data"
    },
    {
     "data": {
      "application/vnd.plotly.v1+json": {
       "config": {
        "plotlyServerURL": "https://plot.ly"
       },
       "data": [
        {
         "hovertemplate": "ripple_start_t=%{x}<br>P_Long=%{y}<extra></extra>",
         "legendgroup": "",
         "marker": {
          "color": "#636efa",
          "symbol": "circle"
         },
         "mode": "markers",
         "name": "",
         "orientation": "v",
         "showlegend": false,
         "type": "scatter",
         "x": [
          7.852396619573028,
          12.251283327342662,
          12.969332239701544,
          56.54166705066609,
          56.91113630149812,
          100.40789995115485,
          114.26205989782513,
          120.32538607340211,
          154.24556326627135,
          167.38548357863235,
          188.98080308182895,
          199.82978056715228,
          201.7203191191961,
          206.11723974797317,
          215.48188903327264,
          226.48280756080248,
          234.8780263024505,
          263.0946390555446,
          311.77490853124664,
          313.498023169012,
          327.75234163080086,
          341.8456566550235,
          355.73938394143534,
          356.469106447817,
          358.3506133244855,
          394.1534033134572,
          399.2242896771636,
          403.5179911587884,
          403.8338540370669,
          406.7152349617995,
          410.322774874739,
          413.2229564298459,
          419.1160324525913,
          425.7299221862795,
          435.2963096082895,
          436.6819344988494,
          439.75141388727616,
          440.91880400957234,
          442.585608916168,
          449.0898283060078,
          449.92510467834654,
          454.06440751902346,
          462.27585931476005,
          466.1185299873128,
          490.9999969280011,
          498.2639829688405,
          510.8922005031932,
          513.6827424344356,
          522.2950900249134,
          528.4585940692,
          529.2084996052481,
          538.8679685796001,
          544.5533467886867,
          561.8097142734259,
          562.199673753767,
          591.2509177595298,
          602.3740711044752,
          644.7472820493917,
          645.1291621738692,
          671.6719044239849,
          689.7892301879137,
          696.4833298005351,
          702.7061848544336,
          705.6829513303287,
          709.1937232928135,
          713.6624058048478,
          714.5962933266978,
          719.0654980784648,
          720.156333999957,
          721.1276999026172,
          733.0519382774073,
          741.0851834443856,
          743.6525446898968,
          748.5951751192702,
          761.4252536702697,
          774.222492558084,
          780.7242236291972,
          785.7982434312989,
          786.470304527204,
          789.2329219927437,
          792.8899210803602,
          803.7034169838503,
          828.0748093056973,
          889.0442705693335,
          897.6286015341557,
          908.3564501214972,
          922.1629940925468,
          944.7039975915532,
          973.0373155648948,
          995.102527947506,
          1032.8790462059278,
          1037.410796845672,
          1043.2393916214314,
          1049.1092740560516,
          1051.9432540450534,
          1052.680533667567,
          1058.9108229576586,
          1059.401083186645,
          1062.9345264975218,
          1065.6738274950003,
          1073.5464993041924,
          1074.2745322114397,
          1075.22396404533,
          1083.8529311472994,
          1091.4046098408398,
          1093.1843414096174,
          1095.4521828084817,
          1098.1846946894366,
          1099.351286092142,
          1100.0216268689264,
          1103.582994645507,
          1119.8398260020094,
          1123.2312201056156,
          1125.9495700738198,
          1127.290958187029,
          1128.6873043521,
          1130.5843862607944,
          1133.1481532681455,
          1134.3990710276755,
          1135.6741039748597,
          1141.0434964257292,
          1143.9195320731988,
          1153.1366947140125,
          1170.3293182313892,
          1172.1238875525696,
          1172.5406041392107,
          1175.5127626174665,
          1176.1502944510494,
          1176.9095388623164,
          1180.8259682171038,
          1181.649908915247,
          1182.639983288328,
          1188.2998024705012,
          1189.3388444985112,
          1207.5365644612784,
          1211.4992273923954,
          1222.7310066017244,
          1227.2765505144062,
          1232.1933761569917,
          1235.7350217036685,
          1236.9188777375348,
          1239.9932108834764,
          1241.863842885712,
          1243.6885177914792,
          1262.7142027703285,
          1285.506495740674,
          1298.954476055308,
          1309.3714691218083,
          1310.2334411604788,
          1310.7246537089777,
          1318.280756080252,
          1319.9324160346032,
          1324.42478365451,
          1325.4768202358682,
          1326.142921654824,
          1327.0910939693604,
          1329.192433053474,
          1339.7163009452545,
          1343.6281223024016,
          1345.256742268548,
          1345.6512175865764,
          1346.4471723790475,
          1347.9564759262848,
          1348.94679605924,
          1386.7629123773886,
          1398.2773768819825,
          1413.0416470826767,
          1418.2322492250878,
          1422.473112333767,
          1422.9086295507814,
          1428.0451338008916,
          1434.4603881162811,
          1437.5012364793674,
          1437.9544791273065,
          1439.5859560519905,
          1440.2465278737773,
          1452.9099197901205,
          1455.017157111215,
          1455.4460388116286,
          1456.1171783080044,
          1456.8573763290233,
          1466.8040464363276,
          1480.1575013593592,
          1491.5936606240466,
          1494.6146638772923,
          1505.992516611832,
          1521.417604394187,
          1534.400146227125,
          1535.7162517932793,
          1536.070207452054,
          1560.1187634591934,
          1576.508335867732,
          1578.6721286798702,
          1586.1026170354608,
          1602.710086292435,
          1606.6435652384944,
          1609.7955892246591,
          1612.1255771517044,
          1613.2887586361558,
          1613.5195271580014,
          1614.026867698244,
          1616.0586260179834,
          1617.69400438067,
          1618.3041647082673,
          1618.7825055833564,
          1623.847770189941,
          1625.6460259092346,
          1625.9300628838082,
          1627.1128744382086,
          1627.6831602262218,
          1628.1586748627587,
          1629.0241489796354,
          1631.8380073789403,
          1633.149812147296,
          1636.7406403887917,
          1637.9061565920474,
          1638.344254287742,
          1640.9270984053255,
          1641.6201105305036,
          1642.1806580835037,
          1642.7665189035424,
          1656.3126188479391,
          1683.716749457024,
          1726.6958813717083,
          1737.4553715428492,
          1744.145999797248,
          1759.2891702839452,
          1772.738655877808,
          1781.1745478786315,
          1781.9036559853284,
          1789.6762728057474,
          1791.1044448745242,
          1796.934084129749,
          1797.5725990028295,
          1798.652836529748,
          1800.1738443909908,
          1800.485836551251,
          1801.1298810215012,
          1802.091508689148,
          1803.645110453704,
          1804.920542760682,
          1808.953953815575,
          1809.3997315073373,
          1811.196266907512,
          1812.86021485557,
          1832.9119165890988,
          1863.907612719302,
          1864.5618255043448,
          1866.0305479523597,
          1867.960746004098,
          1868.6749549184224,
          1879.7427201317269,
          1880.710952595992,
          1882.128679870116,
          1906.7090602449607,
          1923.1736201351068,
          1931.671443624221,
          1934.96066306014,
          1938.352026443763,
          1938.8290463595283
         ],
         "xaxis": "x",
         "y": [
          0.4946813177227698,
          0.5395141913557634,
          0.5367154671256975,
          0.6488459741943091,
          0.4726600954730111,
          0.6232163222232727,
          0.4817126715192577,
          0.45314748777691,
          0.4852113993655922,
          0.4678206312146173,
          0.5062915265279951,
          0.5129577846345884,
          0.4359444986151425,
          0.5161581476744884,
          0.6724369107172996,
          0.4765256760277092,
          0.4774668890148413,
          0.4713750868419698,
          0.5227058591719966,
          0.5044854106865644,
          0.6569239068789701,
          0.5090790458834736,
          0.5906149536725951,
          0.5958069819297642,
          0.5477833076278396,
          0.6384146131233684,
          0.6457172397558276,
          0.549294687374101,
          0.603199636701854,
          0.5185413886406519,
          null,
          0.6478823681593133,
          0.6193142650153504,
          0.4976163082886627,
          0.5891528952576968,
          0.4975483988205211,
          0.6867335787756202,
          0.6791194121976712,
          0.593518817239455,
          0.7176620681303202,
          0.8144284534962766,
          0.5720967735296018,
          0.6449223952250893,
          0.554215014532928,
          0.6013414164744261,
          0.4384707291441979,
          0.6057945614473852,
          0.72286017738687,
          0.6525326805706375,
          0.5362180052823191,
          0.4948707844965715,
          0.6251862336385124,
          0.5472189287920105,
          0.5502853126410948,
          0.5629919660359659,
          0.6879707689783927,
          0.5460918654844809,
          0.5658263383872492,
          0.5277958705589032,
          0.4038102947262906,
          0.6657965105043883,
          0.4691642543693753,
          0.6155682878123058,
          0.5173053853011611,
          0.5478842755010164,
          0.4983448283889691,
          0.5924713316552671,
          0.5821169748123708,
          0.5974974962068385,
          0.5259928717411426,
          0.4580775881748563,
          0.5553707844392681,
          0.6278685041769001,
          0.486285724560573,
          0.5546255339238889,
          0.5219873318780428,
          0.5057110696047737,
          0.5064948971803455,
          0.5416478013868269,
          0.6172977617839943,
          0.5114770537566589,
          0.4731789093554881,
          0.5472410989774052,
          0.4370894738116507,
          0.5437487164638559,
          0.6203924506630265,
          0.5784653223725792,
          0.4752681422559833,
          null,
          0.490076709375118,
          0.4773353353752978,
          0.6890289042852206,
          0.4415999081239671,
          0.5670154456595431,
          0.7746733029127821,
          0.5712419935600942,
          0.7364116765073013,
          0.554770271223317,
          0.5748120796674264,
          0.5195037034580514,
          0.5814589527893085,
          0.484508615390422,
          null,
          0.6037166215043827,
          0.4820188993921169,
          0.4719772933138392,
          0.5931392823153083,
          0.5023513851134809,
          0.4333314402705094,
          0.5882554135644006,
          0.5580972909755495,
          0.5838432034638343,
          0.5307703413793955,
          0.6174493997718961,
          0.582809997148124,
          0.5240051168314257,
          0.561653056301132,
          0.6309458530777449,
          0.5478997526031366,
          0.589282630613266,
          0.6715365688807329,
          0.5786013383504452,
          0.6608605584128537,
          0.5111671957635038,
          0.7229471947473076,
          0.5791102054439358,
          0.5954681887078789,
          0.5537289681960585,
          0.6439413171414082,
          0.4773442053339997,
          0.6425550769849805,
          0.5859764061134054,
          0.5612289198718684,
          0.4746555383304313,
          0.4254580002669064,
          0.5019040157394532,
          0.5305450673644465,
          0.513173009185342,
          0.3791330001442344,
          0.4554034710873351,
          0.4547332315090052,
          null,
          0.6566595260318726,
          0.5125742727563911,
          0.5702179821777545,
          0.4382471674586551,
          0.5000384651020805,
          0.4217449856924514,
          0.5417609543115046,
          0.4491418185154636,
          0.435436787029193,
          0.4726653769900908,
          0.5390052556119934,
          0.4708288488139071,
          0.4618149500673182,
          0.4618255287922444,
          0.5005411926983074,
          0.5021872197685715,
          0.5159489538165727,
          0.4842807324061615,
          0.309333855857026,
          0.4640389051588786,
          0.4993345377709433,
          0.4697850418454884,
          0.4173394962122713,
          0.4691090757571444,
          0.4364875218784224,
          0.4038419601061001,
          0.5097683808524095,
          0.4382173476956021,
          0.5189196605994884,
          0.5163691930188958,
          0.5939079824371604,
          0.4672154494333687,
          0.6740401528304565,
          0.4009973382564918,
          0.5940696206818965,
          0.3066876690120736,
          0.4757564757469519,
          0.4825755514575445,
          0.324045871449809,
          0.3818618293858537,
          0.4697998831983276,
          0.6997848155257294,
          0.4924656871404412,
          0.4741876622939407,
          0.4316200751208347,
          0.4435794931514176,
          0.3271648683934857,
          0.4836993095380776,
          0.438537417280632,
          0.4371161467407489,
          0.4755195277823327,
          0.4521779841326748,
          0.4696798769251901,
          0.396723969937665,
          0.5066209436733393,
          0.5777692247888154,
          0.4874924256867473,
          0.4301330274376205,
          0.4623373259809029,
          0.6269745556067972,
          0.391694924740543,
          0.5550591247050316,
          0.4921292783389708,
          0.6009128316879111,
          0.3996150750184817,
          0.4730767437405417,
          0.6630475585008154,
          0.4071632946393941,
          0.3913807786257293,
          0.3772228642613064,
          0.4269424265676109,
          0.499195828290154,
          0.597335147307073,
          0.5944185290703942,
          0.4988369963702996,
          0.3984736601543245,
          0.4590774669893709,
          0.690037841107659,
          0.5218704049854009,
          0.4290618202332812,
          0.4191516538408782,
          0.4684076436034768,
          0.4241835155299223,
          0.6464779574980651,
          0.5054429940090661,
          0.554057871123442,
          0.4414825630104782,
          0.4803156603859154,
          0.4917354866858092,
          0.4562562068063219,
          0.6014893470259817,
          0.6284545175846085,
          0.3950181356745163,
          0.3332532531580492,
          0.4684837698794427,
          0.3963645557057248,
          0.5051389937960872,
          0.4907894759433531,
          0.4802351718475871,
          0.502515485262554,
          0.4782104302444335,
          0.5067309992616129,
          0.5155237554580644,
          0.4017169554737522,
          0.5406362202980151,
          0.4978748915087516,
          0.4976227100867558,
          0.1936470000956187,
          0.4863147697546987,
          0.4289290656065631,
          0.5069592802794995,
          0.4258891880024324,
          0.4606632881821155,
          0.5193572611562169,
          0.4229236142613777,
          0.4848429601620874,
          0.241007844653586,
          0.6000309648023008
         ],
         "yaxis": "y"
        }
       ],
       "layout": {
        "legend": {
         "tracegroupgap": 0
        },
        "template": {
         "data": {
          "bar": [
           {
            "error_x": {
             "color": "#2a3f5f"
            },
            "error_y": {
             "color": "#2a3f5f"
            },
            "marker": {
             "line": {
              "color": "#E5ECF6",
              "width": 0.5
             },
             "pattern": {
              "fillmode": "overlay",
              "size": 10,
              "solidity": 0.2
             }
            },
            "type": "bar"
           }
          ],
          "barpolar": [
           {
            "marker": {
             "line": {
              "color": "#E5ECF6",
              "width": 0.5
             },
             "pattern": {
              "fillmode": "overlay",
              "size": 10,
              "solidity": 0.2
             }
            },
            "type": "barpolar"
           }
          ],
          "carpet": [
           {
            "aaxis": {
             "endlinecolor": "#2a3f5f",
             "gridcolor": "white",
             "linecolor": "white",
             "minorgridcolor": "white",
             "startlinecolor": "#2a3f5f"
            },
            "baxis": {
             "endlinecolor": "#2a3f5f",
             "gridcolor": "white",
             "linecolor": "white",
             "minorgridcolor": "white",
             "startlinecolor": "#2a3f5f"
            },
            "type": "carpet"
           }
          ],
          "choropleth": [
           {
            "colorbar": {
             "outlinewidth": 0,
             "ticks": ""
            },
            "type": "choropleth"
           }
          ],
          "contour": [
           {
            "colorbar": {
             "outlinewidth": 0,
             "ticks": ""
            },
            "colorscale": [
             [
              0,
              "#0d0887"
             ],
             [
              0.1111111111111111,
              "#46039f"
             ],
             [
              0.2222222222222222,
              "#7201a8"
             ],
             [
              0.3333333333333333,
              "#9c179e"
             ],
             [
              0.4444444444444444,
              "#bd3786"
             ],
             [
              0.5555555555555556,
              "#d8576b"
             ],
             [
              0.6666666666666666,
              "#ed7953"
             ],
             [
              0.7777777777777778,
              "#fb9f3a"
             ],
             [
              0.8888888888888888,
              "#fdca26"
             ],
             [
              1,
              "#f0f921"
             ]
            ],
            "type": "contour"
           }
          ],
          "contourcarpet": [
           {
            "colorbar": {
             "outlinewidth": 0,
             "ticks": ""
            },
            "type": "contourcarpet"
           }
          ],
          "heatmap": [
           {
            "colorbar": {
             "outlinewidth": 0,
             "ticks": ""
            },
            "colorscale": [
             [
              0,
              "#0d0887"
             ],
             [
              0.1111111111111111,
              "#46039f"
             ],
             [
              0.2222222222222222,
              "#7201a8"
             ],
             [
              0.3333333333333333,
              "#9c179e"
             ],
             [
              0.4444444444444444,
              "#bd3786"
             ],
             [
              0.5555555555555556,
              "#d8576b"
             ],
             [
              0.6666666666666666,
              "#ed7953"
             ],
             [
              0.7777777777777778,
              "#fb9f3a"
             ],
             [
              0.8888888888888888,
              "#fdca26"
             ],
             [
              1,
              "#f0f921"
             ]
            ],
            "type": "heatmap"
           }
          ],
          "heatmapgl": [
           {
            "colorbar": {
             "outlinewidth": 0,
             "ticks": ""
            },
            "colorscale": [
             [
              0,
              "#0d0887"
             ],
             [
              0.1111111111111111,
              "#46039f"
             ],
             [
              0.2222222222222222,
              "#7201a8"
             ],
             [
              0.3333333333333333,
              "#9c179e"
             ],
             [
              0.4444444444444444,
              "#bd3786"
             ],
             [
              0.5555555555555556,
              "#d8576b"
             ],
             [
              0.6666666666666666,
              "#ed7953"
             ],
             [
              0.7777777777777778,
              "#fb9f3a"
             ],
             [
              0.8888888888888888,
              "#fdca26"
             ],
             [
              1,
              "#f0f921"
             ]
            ],
            "type": "heatmapgl"
           }
          ],
          "histogram": [
           {
            "marker": {
             "pattern": {
              "fillmode": "overlay",
              "size": 10,
              "solidity": 0.2
             }
            },
            "type": "histogram"
           }
          ],
          "histogram2d": [
           {
            "colorbar": {
             "outlinewidth": 0,
             "ticks": ""
            },
            "colorscale": [
             [
              0,
              "#0d0887"
             ],
             [
              0.1111111111111111,
              "#46039f"
             ],
             [
              0.2222222222222222,
              "#7201a8"
             ],
             [
              0.3333333333333333,
              "#9c179e"
             ],
             [
              0.4444444444444444,
              "#bd3786"
             ],
             [
              0.5555555555555556,
              "#d8576b"
             ],
             [
              0.6666666666666666,
              "#ed7953"
             ],
             [
              0.7777777777777778,
              "#fb9f3a"
             ],
             [
              0.8888888888888888,
              "#fdca26"
             ],
             [
              1,
              "#f0f921"
             ]
            ],
            "type": "histogram2d"
           }
          ],
          "histogram2dcontour": [
           {
            "colorbar": {
             "outlinewidth": 0,
             "ticks": ""
            },
            "colorscale": [
             [
              0,
              "#0d0887"
             ],
             [
              0.1111111111111111,
              "#46039f"
             ],
             [
              0.2222222222222222,
              "#7201a8"
             ],
             [
              0.3333333333333333,
              "#9c179e"
             ],
             [
              0.4444444444444444,
              "#bd3786"
             ],
             [
              0.5555555555555556,
              "#d8576b"
             ],
             [
              0.6666666666666666,
              "#ed7953"
             ],
             [
              0.7777777777777778,
              "#fb9f3a"
             ],
             [
              0.8888888888888888,
              "#fdca26"
             ],
             [
              1,
              "#f0f921"
             ]
            ],
            "type": "histogram2dcontour"
           }
          ],
          "mesh3d": [
           {
            "colorbar": {
             "outlinewidth": 0,
             "ticks": ""
            },
            "type": "mesh3d"
           }
          ],
          "parcoords": [
           {
            "line": {
             "colorbar": {
              "outlinewidth": 0,
              "ticks": ""
             }
            },
            "type": "parcoords"
           }
          ],
          "pie": [
           {
            "automargin": true,
            "type": "pie"
           }
          ],
          "scatter": [
           {
            "fillpattern": {
             "fillmode": "overlay",
             "size": 10,
             "solidity": 0.2
            },
            "type": "scatter"
           }
          ],
          "scatter3d": [
           {
            "line": {
             "colorbar": {
              "outlinewidth": 0,
              "ticks": ""
             }
            },
            "marker": {
             "colorbar": {
              "outlinewidth": 0,
              "ticks": ""
             }
            },
            "type": "scatter3d"
           }
          ],
          "scattercarpet": [
           {
            "marker": {
             "colorbar": {
              "outlinewidth": 0,
              "ticks": ""
             }
            },
            "type": "scattercarpet"
           }
          ],
          "scattergeo": [
           {
            "marker": {
             "colorbar": {
              "outlinewidth": 0,
              "ticks": ""
             }
            },
            "type": "scattergeo"
           }
          ],
          "scattergl": [
           {
            "marker": {
             "colorbar": {
              "outlinewidth": 0,
              "ticks": ""
             }
            },
            "type": "scattergl"
           }
          ],
          "scattermapbox": [
           {
            "marker": {
             "colorbar": {
              "outlinewidth": 0,
              "ticks": ""
             }
            },
            "type": "scattermapbox"
           }
          ],
          "scatterpolar": [
           {
            "marker": {
             "colorbar": {
              "outlinewidth": 0,
              "ticks": ""
             }
            },
            "type": "scatterpolar"
           }
          ],
          "scatterpolargl": [
           {
            "marker": {
             "colorbar": {
              "outlinewidth": 0,
              "ticks": ""
             }
            },
            "type": "scatterpolargl"
           }
          ],
          "scatterternary": [
           {
            "marker": {
             "colorbar": {
              "outlinewidth": 0,
              "ticks": ""
             }
            },
            "type": "scatterternary"
           }
          ],
          "surface": [
           {
            "colorbar": {
             "outlinewidth": 0,
             "ticks": ""
            },
            "colorscale": [
             [
              0,
              "#0d0887"
             ],
             [
              0.1111111111111111,
              "#46039f"
             ],
             [
              0.2222222222222222,
              "#7201a8"
             ],
             [
              0.3333333333333333,
              "#9c179e"
             ],
             [
              0.4444444444444444,
              "#bd3786"
             ],
             [
              0.5555555555555556,
              "#d8576b"
             ],
             [
              0.6666666666666666,
              "#ed7953"
             ],
             [
              0.7777777777777778,
              "#fb9f3a"
             ],
             [
              0.8888888888888888,
              "#fdca26"
             ],
             [
              1,
              "#f0f921"
             ]
            ],
            "type": "surface"
           }
          ],
          "table": [
           {
            "cells": {
             "fill": {
              "color": "#EBF0F8"
             },
             "line": {
              "color": "white"
             }
            },
            "header": {
             "fill": {
              "color": "#C8D4E3"
             },
             "line": {
              "color": "white"
             }
            },
            "type": "table"
           }
          ]
         },
         "layout": {
          "annotationdefaults": {
           "arrowcolor": "#2a3f5f",
           "arrowhead": 0,
           "arrowwidth": 1
          },
          "autotypenumbers": "strict",
          "coloraxis": {
           "colorbar": {
            "outlinewidth": 0,
            "ticks": ""
           }
          },
          "colorscale": {
           "diverging": [
            [
             0,
             "#8e0152"
            ],
            [
             0.1,
             "#c51b7d"
            ],
            [
             0.2,
             "#de77ae"
            ],
            [
             0.3,
             "#f1b6da"
            ],
            [
             0.4,
             "#fde0ef"
            ],
            [
             0.5,
             "#f7f7f7"
            ],
            [
             0.6,
             "#e6f5d0"
            ],
            [
             0.7,
             "#b8e186"
            ],
            [
             0.8,
             "#7fbc41"
            ],
            [
             0.9,
             "#4d9221"
            ],
            [
             1,
             "#276419"
            ]
           ],
           "sequential": [
            [
             0,
             "#0d0887"
            ],
            [
             0.1111111111111111,
             "#46039f"
            ],
            [
             0.2222222222222222,
             "#7201a8"
            ],
            [
             0.3333333333333333,
             "#9c179e"
            ],
            [
             0.4444444444444444,
             "#bd3786"
            ],
            [
             0.5555555555555556,
             "#d8576b"
            ],
            [
             0.6666666666666666,
             "#ed7953"
            ],
            [
             0.7777777777777778,
             "#fb9f3a"
            ],
            [
             0.8888888888888888,
             "#fdca26"
            ],
            [
             1,
             "#f0f921"
            ]
           ],
           "sequentialminus": [
            [
             0,
             "#0d0887"
            ],
            [
             0.1111111111111111,
             "#46039f"
            ],
            [
             0.2222222222222222,
             "#7201a8"
            ],
            [
             0.3333333333333333,
             "#9c179e"
            ],
            [
             0.4444444444444444,
             "#bd3786"
            ],
            [
             0.5555555555555556,
             "#d8576b"
            ],
            [
             0.6666666666666666,
             "#ed7953"
            ],
            [
             0.7777777777777778,
             "#fb9f3a"
            ],
            [
             0.8888888888888888,
             "#fdca26"
            ],
            [
             1,
             "#f0f921"
            ]
           ]
          },
          "colorway": [
           "#636efa",
           "#EF553B",
           "#00cc96",
           "#ab63fa",
           "#FFA15A",
           "#19d3f3",
           "#FF6692",
           "#B6E880",
           "#FF97FF",
           "#FECB52"
          ],
          "font": {
           "color": "#2a3f5f"
          },
          "geo": {
           "bgcolor": "white",
           "lakecolor": "white",
           "landcolor": "#E5ECF6",
           "showlakes": true,
           "showland": true,
           "subunitcolor": "white"
          },
          "hoverlabel": {
           "align": "left"
          },
          "hovermode": "closest",
          "mapbox": {
           "style": "light"
          },
          "paper_bgcolor": "white",
          "plot_bgcolor": "#E5ECF6",
          "polar": {
           "angularaxis": {
            "gridcolor": "white",
            "linecolor": "white",
            "ticks": ""
           },
           "bgcolor": "#E5ECF6",
           "radialaxis": {
            "gridcolor": "white",
            "linecolor": "white",
            "ticks": ""
           }
          },
          "scene": {
           "xaxis": {
            "backgroundcolor": "#E5ECF6",
            "gridcolor": "white",
            "gridwidth": 2,
            "linecolor": "white",
            "showbackground": true,
            "ticks": "",
            "zerolinecolor": "white"
           },
           "yaxis": {
            "backgroundcolor": "#E5ECF6",
            "gridcolor": "white",
            "gridwidth": 2,
            "linecolor": "white",
            "showbackground": true,
            "ticks": "",
            "zerolinecolor": "white"
           },
           "zaxis": {
            "backgroundcolor": "#E5ECF6",
            "gridcolor": "white",
            "gridwidth": 2,
            "linecolor": "white",
            "showbackground": true,
            "ticks": "",
            "zerolinecolor": "white"
           }
          },
          "shapedefaults": {
           "line": {
            "color": "#2a3f5f"
           }
          },
          "ternary": {
           "aaxis": {
            "gridcolor": "white",
            "linecolor": "white",
            "ticks": ""
           },
           "baxis": {
            "gridcolor": "white",
            "linecolor": "white",
            "ticks": ""
           },
           "bgcolor": "#E5ECF6",
           "caxis": {
            "gridcolor": "white",
            "linecolor": "white",
            "ticks": ""
           }
          },
          "title": {
           "x": 0.05
          },
          "xaxis": {
           "automargin": true,
           "gridcolor": "white",
           "linecolor": "white",
           "ticks": "",
           "title": {
            "standoff": 15
           },
           "zerolinecolor": "white",
           "zerolinewidth": 2
          },
          "yaxis": {
           "automargin": true,
           "gridcolor": "white",
           "linecolor": "white",
           "ticks": "",
           "title": {
            "standoff": 15
           },
           "zerolinecolor": "white",
           "zerolinewidth": 2
          }
         }
        },
        "title": {
         "text": "Ripples - Session: kdiba_pin01_one_11"
        },
        "xaxis": {
         "anchor": "y",
         "domain": [
          0,
          1
         ],
         "title": {
          "text": "ripple_start_t"
         }
        },
        "yaxis": {
         "anchor": "x",
         "domain": [
          0,
          1
         ],
         "title": {
          "text": "P_Long"
         }
        }
       }
      }
     },
     "metadata": {},
     "output_type": "display_data"
    },
    {
     "data": {
      "application/vnd.plotly.v1+json": {
       "config": {
        "plotlyServerURL": "https://plot.ly"
       },
       "data": [
        {
         "hovertemplate": "lap_start_t=%{x}<br>P_Long=%{y}<extra></extra>",
         "legendgroup": "",
         "marker": {
          "color": "#636efa",
          "symbol": "circle"
         },
         "mode": "markers",
         "name": "",
         "orientation": "v",
         "showlegend": false,
         "type": "scatter",
         "x": [
          36.41092299999946,
          62.23865800000021,
          82.85872999999992,
          89.32935299999917,
          96.73123099999977,
          115.32303300000058,
          143.91084000000046,
          149.88650000000052,
          156.85976499999924,
          162.8068289999992,
          177.6532819999993,
          183.4942740000006,
          212.74901200000025,
          229.1048609999998,
          238.24220500000047,
          247.22485899999992,
          279.3860590000004,
          304.58155799999986,
          310.1871169999995,
          320.95778000000064,
          367.73619999999937,
          375.4115949999996,
          415.9608219999991,
          422.7967750000007,
          431.9765349999998,
          448.8857260000004,
          472.68231299999934,
          481.8904079999993,
          487.660468,
          494.3389069999994,
          501.0805899999996,
          566.5061960000003,
          571.2438750000001,
          585.1930140000004,
          591.1033210000005,
          601.7043279999998,
          617.5574550000001,
          625.368758999999,
          633.8790009999993,
          641.7125550000001,
          657.0944340000005,
          670.6831939999993,
          676.5872479999998,
          681.1567369999993,
          689.865534999999,
          698.2373320000006,
          717.8297689999999,
          722.565709999999,
          729.5772679999991,
          764.6081670000003,
          769.0822879999996,
          778.8511120000003,
          783.9580000000005,
          790.4692909999994,
          795.8338359999998,
          801.3137999999999,
          807.6464309999992,
          814.3292199999996,
          819.2607759999992,
          825.1074819999994,
          834.2418550000002,
          841.0803350000006,
          848.7959790000004,
          855.1279739999991,
          860.3331870000002,
          864.7472830000006,
          870.8833169999998,
          876.9839849999989,
          883.0303700000004,
          888.9657950000001,
          894.6749949999994,
          900.5404859999999,
          906.6460700000008,
          911.5168680000006,
          918.590850999999,
          923.769596,
          929.5744269999996,
          934.716645999999,
          940.218986,
          946.8603789999996,
          952.2620659999992,
          956.4340950000004,
          963.0040420000004,
          971.1164129999996
         ],
         "xaxis": "x",
         "y": [
          0.616870544789667,
          0.7199693440794799,
          0.553129555805177,
          0.6885806586810297,
          0.5604445266205109,
          0.6711513246999881,
          0.5940837390426874,
          0.659015395647044,
          0.5548927274120301,
          0.3843924910663556,
          0.7382917969388048,
          0.592225663625824,
          0.7077328291773493,
          0.5105190881288033,
          0.7169607679234211,
          0.6380022120339913,
          0.655888268525995,
          0.5737855309114809,
          0.5998931750730915,
          0.6855841326971714,
          0.7407149844845101,
          0.5704641691537569,
          0.6876565706856503,
          0.5933521002379467,
          0.6347675750644772,
          0.4754419431582086,
          0.6881583381558074,
          0.5539660236365733,
          0.6052440361296493,
          0.5593333721440891,
          0.5809025582963416,
          0.5625113030394061,
          0.6206014257066489,
          0.5698093542493412,
          0.5520019075915343,
          0.5921920884312397,
          0.5280896715121797,
          0.5549579978941885,
          0.6299945163552582,
          0.5790745577116989,
          0.6582106449379634,
          0.5226675404267431,
          0.4178494407399287,
          0.4409588298627404,
          0.4068483802267189,
          0.3847995243833755,
          0.3329617044103635,
          0.3407123611548663,
          0.3405081746827257,
          0.2878415043514321,
          0.3562525981911332,
          0.2315321432428194,
          0.3161256581492913,
          0.2749536385709403,
          0.284580140148351,
          0.2667211332962962,
          0.2601908811155738,
          0.253004745942619,
          0.3163239881167703,
          0.2819073709115864,
          0.3487288776474018,
          0.2465784220539571,
          0.3134356185726015,
          0.2394115548229014,
          0.3392468502356238,
          0.2632360740181254,
          0.3300524679746232,
          0.2135929514433273,
          0.263198606333553,
          0.2819660505404556,
          0.3293762702574818,
          0.2627454039493923,
          0.2672373487610919,
          0.2904625605528841,
          0.2608319258320754,
          0.274062141675931,
          0.311799703225703,
          0.2504144788151498,
          0.3216505183548763,
          0.3124549252494106,
          0.2592445573975478,
          0.2601036635592757,
          0.3001760984946341,
          0.3140114350929564
         ],
         "yaxis": "y"
        }
       ],
       "layout": {
        "legend": {
         "tracegroupgap": 0
        },
        "template": {
         "data": {
          "bar": [
           {
            "error_x": {
             "color": "#2a3f5f"
            },
            "error_y": {
             "color": "#2a3f5f"
            },
            "marker": {
             "line": {
              "color": "#E5ECF6",
              "width": 0.5
             },
             "pattern": {
              "fillmode": "overlay",
              "size": 10,
              "solidity": 0.2
             }
            },
            "type": "bar"
           }
          ],
          "barpolar": [
           {
            "marker": {
             "line": {
              "color": "#E5ECF6",
              "width": 0.5
             },
             "pattern": {
              "fillmode": "overlay",
              "size": 10,
              "solidity": 0.2
             }
            },
            "type": "barpolar"
           }
          ],
          "carpet": [
           {
            "aaxis": {
             "endlinecolor": "#2a3f5f",
             "gridcolor": "white",
             "linecolor": "white",
             "minorgridcolor": "white",
             "startlinecolor": "#2a3f5f"
            },
            "baxis": {
             "endlinecolor": "#2a3f5f",
             "gridcolor": "white",
             "linecolor": "white",
             "minorgridcolor": "white",
             "startlinecolor": "#2a3f5f"
            },
            "type": "carpet"
           }
          ],
          "choropleth": [
           {
            "colorbar": {
             "outlinewidth": 0,
             "ticks": ""
            },
            "type": "choropleth"
           }
          ],
          "contour": [
           {
            "colorbar": {
             "outlinewidth": 0,
             "ticks": ""
            },
            "colorscale": [
             [
              0,
              "#0d0887"
             ],
             [
              0.1111111111111111,
              "#46039f"
             ],
             [
              0.2222222222222222,
              "#7201a8"
             ],
             [
              0.3333333333333333,
              "#9c179e"
             ],
             [
              0.4444444444444444,
              "#bd3786"
             ],
             [
              0.5555555555555556,
              "#d8576b"
             ],
             [
              0.6666666666666666,
              "#ed7953"
             ],
             [
              0.7777777777777778,
              "#fb9f3a"
             ],
             [
              0.8888888888888888,
              "#fdca26"
             ],
             [
              1,
              "#f0f921"
             ]
            ],
            "type": "contour"
           }
          ],
          "contourcarpet": [
           {
            "colorbar": {
             "outlinewidth": 0,
             "ticks": ""
            },
            "type": "contourcarpet"
           }
          ],
          "heatmap": [
           {
            "colorbar": {
             "outlinewidth": 0,
             "ticks": ""
            },
            "colorscale": [
             [
              0,
              "#0d0887"
             ],
             [
              0.1111111111111111,
              "#46039f"
             ],
             [
              0.2222222222222222,
              "#7201a8"
             ],
             [
              0.3333333333333333,
              "#9c179e"
             ],
             [
              0.4444444444444444,
              "#bd3786"
             ],
             [
              0.5555555555555556,
              "#d8576b"
             ],
             [
              0.6666666666666666,
              "#ed7953"
             ],
             [
              0.7777777777777778,
              "#fb9f3a"
             ],
             [
              0.8888888888888888,
              "#fdca26"
             ],
             [
              1,
              "#f0f921"
             ]
            ],
            "type": "heatmap"
           }
          ],
          "heatmapgl": [
           {
            "colorbar": {
             "outlinewidth": 0,
             "ticks": ""
            },
            "colorscale": [
             [
              0,
              "#0d0887"
             ],
             [
              0.1111111111111111,
              "#46039f"
             ],
             [
              0.2222222222222222,
              "#7201a8"
             ],
             [
              0.3333333333333333,
              "#9c179e"
             ],
             [
              0.4444444444444444,
              "#bd3786"
             ],
             [
              0.5555555555555556,
              "#d8576b"
             ],
             [
              0.6666666666666666,
              "#ed7953"
             ],
             [
              0.7777777777777778,
              "#fb9f3a"
             ],
             [
              0.8888888888888888,
              "#fdca26"
             ],
             [
              1,
              "#f0f921"
             ]
            ],
            "type": "heatmapgl"
           }
          ],
          "histogram": [
           {
            "marker": {
             "pattern": {
              "fillmode": "overlay",
              "size": 10,
              "solidity": 0.2
             }
            },
            "type": "histogram"
           }
          ],
          "histogram2d": [
           {
            "colorbar": {
             "outlinewidth": 0,
             "ticks": ""
            },
            "colorscale": [
             [
              0,
              "#0d0887"
             ],
             [
              0.1111111111111111,
              "#46039f"
             ],
             [
              0.2222222222222222,
              "#7201a8"
             ],
             [
              0.3333333333333333,
              "#9c179e"
             ],
             [
              0.4444444444444444,
              "#bd3786"
             ],
             [
              0.5555555555555556,
              "#d8576b"
             ],
             [
              0.6666666666666666,
              "#ed7953"
             ],
             [
              0.7777777777777778,
              "#fb9f3a"
             ],
             [
              0.8888888888888888,
              "#fdca26"
             ],
             [
              1,
              "#f0f921"
             ]
            ],
            "type": "histogram2d"
           }
          ],
          "histogram2dcontour": [
           {
            "colorbar": {
             "outlinewidth": 0,
             "ticks": ""
            },
            "colorscale": [
             [
              0,
              "#0d0887"
             ],
             [
              0.1111111111111111,
              "#46039f"
             ],
             [
              0.2222222222222222,
              "#7201a8"
             ],
             [
              0.3333333333333333,
              "#9c179e"
             ],
             [
              0.4444444444444444,
              "#bd3786"
             ],
             [
              0.5555555555555556,
              "#d8576b"
             ],
             [
              0.6666666666666666,
              "#ed7953"
             ],
             [
              0.7777777777777778,
              "#fb9f3a"
             ],
             [
              0.8888888888888888,
              "#fdca26"
             ],
             [
              1,
              "#f0f921"
             ]
            ],
            "type": "histogram2dcontour"
           }
          ],
          "mesh3d": [
           {
            "colorbar": {
             "outlinewidth": 0,
             "ticks": ""
            },
            "type": "mesh3d"
           }
          ],
          "parcoords": [
           {
            "line": {
             "colorbar": {
              "outlinewidth": 0,
              "ticks": ""
             }
            },
            "type": "parcoords"
           }
          ],
          "pie": [
           {
            "automargin": true,
            "type": "pie"
           }
          ],
          "scatter": [
           {
            "fillpattern": {
             "fillmode": "overlay",
             "size": 10,
             "solidity": 0.2
            },
            "type": "scatter"
           }
          ],
          "scatter3d": [
           {
            "line": {
             "colorbar": {
              "outlinewidth": 0,
              "ticks": ""
             }
            },
            "marker": {
             "colorbar": {
              "outlinewidth": 0,
              "ticks": ""
             }
            },
            "type": "scatter3d"
           }
          ],
          "scattercarpet": [
           {
            "marker": {
             "colorbar": {
              "outlinewidth": 0,
              "ticks": ""
             }
            },
            "type": "scattercarpet"
           }
          ],
          "scattergeo": [
           {
            "marker": {
             "colorbar": {
              "outlinewidth": 0,
              "ticks": ""
             }
            },
            "type": "scattergeo"
           }
          ],
          "scattergl": [
           {
            "marker": {
             "colorbar": {
              "outlinewidth": 0,
              "ticks": ""
             }
            },
            "type": "scattergl"
           }
          ],
          "scattermapbox": [
           {
            "marker": {
             "colorbar": {
              "outlinewidth": 0,
              "ticks": ""
             }
            },
            "type": "scattermapbox"
           }
          ],
          "scatterpolar": [
           {
            "marker": {
             "colorbar": {
              "outlinewidth": 0,
              "ticks": ""
             }
            },
            "type": "scatterpolar"
           }
          ],
          "scatterpolargl": [
           {
            "marker": {
             "colorbar": {
              "outlinewidth": 0,
              "ticks": ""
             }
            },
            "type": "scatterpolargl"
           }
          ],
          "scatterternary": [
           {
            "marker": {
             "colorbar": {
              "outlinewidth": 0,
              "ticks": ""
             }
            },
            "type": "scatterternary"
           }
          ],
          "surface": [
           {
            "colorbar": {
             "outlinewidth": 0,
             "ticks": ""
            },
            "colorscale": [
             [
              0,
              "#0d0887"
             ],
             [
              0.1111111111111111,
              "#46039f"
             ],
             [
              0.2222222222222222,
              "#7201a8"
             ],
             [
              0.3333333333333333,
              "#9c179e"
             ],
             [
              0.4444444444444444,
              "#bd3786"
             ],
             [
              0.5555555555555556,
              "#d8576b"
             ],
             [
              0.6666666666666666,
              "#ed7953"
             ],
             [
              0.7777777777777778,
              "#fb9f3a"
             ],
             [
              0.8888888888888888,
              "#fdca26"
             ],
             [
              1,
              "#f0f921"
             ]
            ],
            "type": "surface"
           }
          ],
          "table": [
           {
            "cells": {
             "fill": {
              "color": "#EBF0F8"
             },
             "line": {
              "color": "white"
             }
            },
            "header": {
             "fill": {
              "color": "#C8D4E3"
             },
             "line": {
              "color": "white"
             }
            },
            "type": "table"
           }
          ]
         },
         "layout": {
          "annotationdefaults": {
           "arrowcolor": "#2a3f5f",
           "arrowhead": 0,
           "arrowwidth": 1
          },
          "autotypenumbers": "strict",
          "coloraxis": {
           "colorbar": {
            "outlinewidth": 0,
            "ticks": ""
           }
          },
          "colorscale": {
           "diverging": [
            [
             0,
             "#8e0152"
            ],
            [
             0.1,
             "#c51b7d"
            ],
            [
             0.2,
             "#de77ae"
            ],
            [
             0.3,
             "#f1b6da"
            ],
            [
             0.4,
             "#fde0ef"
            ],
            [
             0.5,
             "#f7f7f7"
            ],
            [
             0.6,
             "#e6f5d0"
            ],
            [
             0.7,
             "#b8e186"
            ],
            [
             0.8,
             "#7fbc41"
            ],
            [
             0.9,
             "#4d9221"
            ],
            [
             1,
             "#276419"
            ]
           ],
           "sequential": [
            [
             0,
             "#0d0887"
            ],
            [
             0.1111111111111111,
             "#46039f"
            ],
            [
             0.2222222222222222,
             "#7201a8"
            ],
            [
             0.3333333333333333,
             "#9c179e"
            ],
            [
             0.4444444444444444,
             "#bd3786"
            ],
            [
             0.5555555555555556,
             "#d8576b"
            ],
            [
             0.6666666666666666,
             "#ed7953"
            ],
            [
             0.7777777777777778,
             "#fb9f3a"
            ],
            [
             0.8888888888888888,
             "#fdca26"
            ],
            [
             1,
             "#f0f921"
            ]
           ],
           "sequentialminus": [
            [
             0,
             "#0d0887"
            ],
            [
             0.1111111111111111,
             "#46039f"
            ],
            [
             0.2222222222222222,
             "#7201a8"
            ],
            [
             0.3333333333333333,
             "#9c179e"
            ],
            [
             0.4444444444444444,
             "#bd3786"
            ],
            [
             0.5555555555555556,
             "#d8576b"
            ],
            [
             0.6666666666666666,
             "#ed7953"
            ],
            [
             0.7777777777777778,
             "#fb9f3a"
            ],
            [
             0.8888888888888888,
             "#fdca26"
            ],
            [
             1,
             "#f0f921"
            ]
           ]
          },
          "colorway": [
           "#636efa",
           "#EF553B",
           "#00cc96",
           "#ab63fa",
           "#FFA15A",
           "#19d3f3",
           "#FF6692",
           "#B6E880",
           "#FF97FF",
           "#FECB52"
          ],
          "font": {
           "color": "#2a3f5f"
          },
          "geo": {
           "bgcolor": "white",
           "lakecolor": "white",
           "landcolor": "#E5ECF6",
           "showlakes": true,
           "showland": true,
           "subunitcolor": "white"
          },
          "hoverlabel": {
           "align": "left"
          },
          "hovermode": "closest",
          "mapbox": {
           "style": "light"
          },
          "paper_bgcolor": "white",
          "plot_bgcolor": "#E5ECF6",
          "polar": {
           "angularaxis": {
            "gridcolor": "white",
            "linecolor": "white",
            "ticks": ""
           },
           "bgcolor": "#E5ECF6",
           "radialaxis": {
            "gridcolor": "white",
            "linecolor": "white",
            "ticks": ""
           }
          },
          "scene": {
           "xaxis": {
            "backgroundcolor": "#E5ECF6",
            "gridcolor": "white",
            "gridwidth": 2,
            "linecolor": "white",
            "showbackground": true,
            "ticks": "",
            "zerolinecolor": "white"
           },
           "yaxis": {
            "backgroundcolor": "#E5ECF6",
            "gridcolor": "white",
            "gridwidth": 2,
            "linecolor": "white",
            "showbackground": true,
            "ticks": "",
            "zerolinecolor": "white"
           },
           "zaxis": {
            "backgroundcolor": "#E5ECF6",
            "gridcolor": "white",
            "gridwidth": 2,
            "linecolor": "white",
            "showbackground": true,
            "ticks": "",
            "zerolinecolor": "white"
           }
          },
          "shapedefaults": {
           "line": {
            "color": "#2a3f5f"
           }
          },
          "ternary": {
           "aaxis": {
            "gridcolor": "white",
            "linecolor": "white",
            "ticks": ""
           },
           "baxis": {
            "gridcolor": "white",
            "linecolor": "white",
            "ticks": ""
           },
           "bgcolor": "#E5ECF6",
           "caxis": {
            "gridcolor": "white",
            "linecolor": "white",
            "ticks": ""
           }
          },
          "title": {
           "x": 0.05
          },
          "xaxis": {
           "automargin": true,
           "gridcolor": "white",
           "linecolor": "white",
           "ticks": "",
           "title": {
            "standoff": 15
           },
           "zerolinecolor": "white",
           "zerolinewidth": 2
          },
          "yaxis": {
           "automargin": true,
           "gridcolor": "white",
           "linecolor": "white",
           "ticks": "",
           "title": {
            "standoff": 15
           },
           "zerolinecolor": "white",
           "zerolinewidth": 2
          }
         }
        },
        "title": {
         "text": "Laps - Session: kdiba_pin01_one_11"
        },
        "xaxis": {
         "anchor": "y",
         "domain": [
          0,
          1
         ],
         "title": {
          "text": "lap_start_t"
         }
        },
        "yaxis": {
         "anchor": "x",
         "domain": [
          0,
          1
         ],
         "title": {
          "text": "P_Long"
         }
        }
       }
      }
     },
     "metadata": {},
     "output_type": "display_data"
    },
    {
     "data": {
      "application/vnd.plotly.v1+json": {
       "config": {
        "plotlyServerURL": "https://plot.ly"
       },
       "data": [
        {
         "hovertemplate": "ripple_start_t=%{x}<br>P_Long=%{y}<extra></extra>",
         "legendgroup": "",
         "marker": {
          "color": "#636efa",
          "symbol": "circle"
         },
         "mode": "markers",
         "name": "",
         "orientation": "v",
         "showlegend": false,
         "type": "scatter",
         "x": [
          47.61612922054155,
          59.95954178071406,
          113.33053781476336,
          125.02551294693694,
          126.6666973866504,
          127.11877267518868,
          136.93893788726382,
          139.44605724361827,
          156.09914567723715,
          168.78336574291643,
          169.44363036485993,
          191.0716052113385,
          191.9830364246845,
          226.48418996009423,
          253.11936864288327,
          277.7573182682536,
          309.2435203873174,
          385.8587310803305,
          399.1914500139774,
          400.2312600415953,
          411.0417146666423,
          421.3278713201289,
          511.6575889113137,
          565.398115636166,
          584.4058601441993,
          599.7165467051273,
          612.44868994627,
          639.917547562216,
          650.5690877086272,
          653.6721133198771,
          654.3011049978359,
          656.4921157160388,
          670.0089702354071,
          679.5890894903878,
          695.3834314836822,
          706.2287225708951,
          708.2989423109411,
          710.9575419097382,
          744.9442893085234,
          748.0416624426689,
          749.0870942274069,
          749.7676033189873,
          760.3610212551575,
          789.1890538552034,
          832.4520998645257,
          854.4873602624721,
          923.3863867461696,
          933.829676119205
         ],
         "xaxis": "x",
         "y": [
          0.4575537493966044,
          0.480804370424109,
          0.6859928296480166,
          0.5297823899510178,
          0.4450259547657487,
          0.5928285277049726,
          0.6399517748852908,
          0.6397405073079719,
          0.4679980421069161,
          0.4752739276083827,
          0.4790613713897673,
          0.5803031523139365,
          0.517720584537843,
          0.5033057237302028,
          0.4884576925046964,
          0.6855103851304242,
          0.5048912295511735,
          0.4806701039937672,
          0.4834999795527316,
          0.476352487633315,
          0.5267751205250383,
          0.4776245241251161,
          0.5597051666869886,
          0.590314983493038,
          0.5349613001858102,
          0.4987162083142876,
          0.6126259689282613,
          0.4880940000027208,
          0.5820506010605155,
          0.6273225400883115,
          0.4982068172265957,
          0.5319462711106204,
          0.5780972690361006,
          0.4814383329012178,
          0.469428477792292,
          0.527389015160546,
          0.4913668016143456,
          0.4925975685596841,
          0.436612095327505,
          0.4571425355958268,
          0.446275162208244,
          0.6176760046277922,
          0.4823830525722338,
          0.4722609858201496,
          0.4330818138059445,
          0.4645131943587049,
          0.4732536612959374,
          0.4912958829193397
         ],
         "yaxis": "y"
        }
       ],
       "layout": {
        "legend": {
         "tracegroupgap": 0
        },
        "template": {
         "data": {
          "bar": [
           {
            "error_x": {
             "color": "#2a3f5f"
            },
            "error_y": {
             "color": "#2a3f5f"
            },
            "marker": {
             "line": {
              "color": "#E5ECF6",
              "width": 0.5
             },
             "pattern": {
              "fillmode": "overlay",
              "size": 10,
              "solidity": 0.2
             }
            },
            "type": "bar"
           }
          ],
          "barpolar": [
           {
            "marker": {
             "line": {
              "color": "#E5ECF6",
              "width": 0.5
             },
             "pattern": {
              "fillmode": "overlay",
              "size": 10,
              "solidity": 0.2
             }
            },
            "type": "barpolar"
           }
          ],
          "carpet": [
           {
            "aaxis": {
             "endlinecolor": "#2a3f5f",
             "gridcolor": "white",
             "linecolor": "white",
             "minorgridcolor": "white",
             "startlinecolor": "#2a3f5f"
            },
            "baxis": {
             "endlinecolor": "#2a3f5f",
             "gridcolor": "white",
             "linecolor": "white",
             "minorgridcolor": "white",
             "startlinecolor": "#2a3f5f"
            },
            "type": "carpet"
           }
          ],
          "choropleth": [
           {
            "colorbar": {
             "outlinewidth": 0,
             "ticks": ""
            },
            "type": "choropleth"
           }
          ],
          "contour": [
           {
            "colorbar": {
             "outlinewidth": 0,
             "ticks": ""
            },
            "colorscale": [
             [
              0,
              "#0d0887"
             ],
             [
              0.1111111111111111,
              "#46039f"
             ],
             [
              0.2222222222222222,
              "#7201a8"
             ],
             [
              0.3333333333333333,
              "#9c179e"
             ],
             [
              0.4444444444444444,
              "#bd3786"
             ],
             [
              0.5555555555555556,
              "#d8576b"
             ],
             [
              0.6666666666666666,
              "#ed7953"
             ],
             [
              0.7777777777777778,
              "#fb9f3a"
             ],
             [
              0.8888888888888888,
              "#fdca26"
             ],
             [
              1,
              "#f0f921"
             ]
            ],
            "type": "contour"
           }
          ],
          "contourcarpet": [
           {
            "colorbar": {
             "outlinewidth": 0,
             "ticks": ""
            },
            "type": "contourcarpet"
           }
          ],
          "heatmap": [
           {
            "colorbar": {
             "outlinewidth": 0,
             "ticks": ""
            },
            "colorscale": [
             [
              0,
              "#0d0887"
             ],
             [
              0.1111111111111111,
              "#46039f"
             ],
             [
              0.2222222222222222,
              "#7201a8"
             ],
             [
              0.3333333333333333,
              "#9c179e"
             ],
             [
              0.4444444444444444,
              "#bd3786"
             ],
             [
              0.5555555555555556,
              "#d8576b"
             ],
             [
              0.6666666666666666,
              "#ed7953"
             ],
             [
              0.7777777777777778,
              "#fb9f3a"
             ],
             [
              0.8888888888888888,
              "#fdca26"
             ],
             [
              1,
              "#f0f921"
             ]
            ],
            "type": "heatmap"
           }
          ],
          "heatmapgl": [
           {
            "colorbar": {
             "outlinewidth": 0,
             "ticks": ""
            },
            "colorscale": [
             [
              0,
              "#0d0887"
             ],
             [
              0.1111111111111111,
              "#46039f"
             ],
             [
              0.2222222222222222,
              "#7201a8"
             ],
             [
              0.3333333333333333,
              "#9c179e"
             ],
             [
              0.4444444444444444,
              "#bd3786"
             ],
             [
              0.5555555555555556,
              "#d8576b"
             ],
             [
              0.6666666666666666,
              "#ed7953"
             ],
             [
              0.7777777777777778,
              "#fb9f3a"
             ],
             [
              0.8888888888888888,
              "#fdca26"
             ],
             [
              1,
              "#f0f921"
             ]
            ],
            "type": "heatmapgl"
           }
          ],
          "histogram": [
           {
            "marker": {
             "pattern": {
              "fillmode": "overlay",
              "size": 10,
              "solidity": 0.2
             }
            },
            "type": "histogram"
           }
          ],
          "histogram2d": [
           {
            "colorbar": {
             "outlinewidth": 0,
             "ticks": ""
            },
            "colorscale": [
             [
              0,
              "#0d0887"
             ],
             [
              0.1111111111111111,
              "#46039f"
             ],
             [
              0.2222222222222222,
              "#7201a8"
             ],
             [
              0.3333333333333333,
              "#9c179e"
             ],
             [
              0.4444444444444444,
              "#bd3786"
             ],
             [
              0.5555555555555556,
              "#d8576b"
             ],
             [
              0.6666666666666666,
              "#ed7953"
             ],
             [
              0.7777777777777778,
              "#fb9f3a"
             ],
             [
              0.8888888888888888,
              "#fdca26"
             ],
             [
              1,
              "#f0f921"
             ]
            ],
            "type": "histogram2d"
           }
          ],
          "histogram2dcontour": [
           {
            "colorbar": {
             "outlinewidth": 0,
             "ticks": ""
            },
            "colorscale": [
             [
              0,
              "#0d0887"
             ],
             [
              0.1111111111111111,
              "#46039f"
             ],
             [
              0.2222222222222222,
              "#7201a8"
             ],
             [
              0.3333333333333333,
              "#9c179e"
             ],
             [
              0.4444444444444444,
              "#bd3786"
             ],
             [
              0.5555555555555556,
              "#d8576b"
             ],
             [
              0.6666666666666666,
              "#ed7953"
             ],
             [
              0.7777777777777778,
              "#fb9f3a"
             ],
             [
              0.8888888888888888,
              "#fdca26"
             ],
             [
              1,
              "#f0f921"
             ]
            ],
            "type": "histogram2dcontour"
           }
          ],
          "mesh3d": [
           {
            "colorbar": {
             "outlinewidth": 0,
             "ticks": ""
            },
            "type": "mesh3d"
           }
          ],
          "parcoords": [
           {
            "line": {
             "colorbar": {
              "outlinewidth": 0,
              "ticks": ""
             }
            },
            "type": "parcoords"
           }
          ],
          "pie": [
           {
            "automargin": true,
            "type": "pie"
           }
          ],
          "scatter": [
           {
            "fillpattern": {
             "fillmode": "overlay",
             "size": 10,
             "solidity": 0.2
            },
            "type": "scatter"
           }
          ],
          "scatter3d": [
           {
            "line": {
             "colorbar": {
              "outlinewidth": 0,
              "ticks": ""
             }
            },
            "marker": {
             "colorbar": {
              "outlinewidth": 0,
              "ticks": ""
             }
            },
            "type": "scatter3d"
           }
          ],
          "scattercarpet": [
           {
            "marker": {
             "colorbar": {
              "outlinewidth": 0,
              "ticks": ""
             }
            },
            "type": "scattercarpet"
           }
          ],
          "scattergeo": [
           {
            "marker": {
             "colorbar": {
              "outlinewidth": 0,
              "ticks": ""
             }
            },
            "type": "scattergeo"
           }
          ],
          "scattergl": [
           {
            "marker": {
             "colorbar": {
              "outlinewidth": 0,
              "ticks": ""
             }
            },
            "type": "scattergl"
           }
          ],
          "scattermapbox": [
           {
            "marker": {
             "colorbar": {
              "outlinewidth": 0,
              "ticks": ""
             }
            },
            "type": "scattermapbox"
           }
          ],
          "scatterpolar": [
           {
            "marker": {
             "colorbar": {
              "outlinewidth": 0,
              "ticks": ""
             }
            },
            "type": "scatterpolar"
           }
          ],
          "scatterpolargl": [
           {
            "marker": {
             "colorbar": {
              "outlinewidth": 0,
              "ticks": ""
             }
            },
            "type": "scatterpolargl"
           }
          ],
          "scatterternary": [
           {
            "marker": {
             "colorbar": {
              "outlinewidth": 0,
              "ticks": ""
             }
            },
            "type": "scatterternary"
           }
          ],
          "surface": [
           {
            "colorbar": {
             "outlinewidth": 0,
             "ticks": ""
            },
            "colorscale": [
             [
              0,
              "#0d0887"
             ],
             [
              0.1111111111111111,
              "#46039f"
             ],
             [
              0.2222222222222222,
              "#7201a8"
             ],
             [
              0.3333333333333333,
              "#9c179e"
             ],
             [
              0.4444444444444444,
              "#bd3786"
             ],
             [
              0.5555555555555556,
              "#d8576b"
             ],
             [
              0.6666666666666666,
              "#ed7953"
             ],
             [
              0.7777777777777778,
              "#fb9f3a"
             ],
             [
              0.8888888888888888,
              "#fdca26"
             ],
             [
              1,
              "#f0f921"
             ]
            ],
            "type": "surface"
           }
          ],
          "table": [
           {
            "cells": {
             "fill": {
              "color": "#EBF0F8"
             },
             "line": {
              "color": "white"
             }
            },
            "header": {
             "fill": {
              "color": "#C8D4E3"
             },
             "line": {
              "color": "white"
             }
            },
            "type": "table"
           }
          ]
         },
         "layout": {
          "annotationdefaults": {
           "arrowcolor": "#2a3f5f",
           "arrowhead": 0,
           "arrowwidth": 1
          },
          "autotypenumbers": "strict",
          "coloraxis": {
           "colorbar": {
            "outlinewidth": 0,
            "ticks": ""
           }
          },
          "colorscale": {
           "diverging": [
            [
             0,
             "#8e0152"
            ],
            [
             0.1,
             "#c51b7d"
            ],
            [
             0.2,
             "#de77ae"
            ],
            [
             0.3,
             "#f1b6da"
            ],
            [
             0.4,
             "#fde0ef"
            ],
            [
             0.5,
             "#f7f7f7"
            ],
            [
             0.6,
             "#e6f5d0"
            ],
            [
             0.7,
             "#b8e186"
            ],
            [
             0.8,
             "#7fbc41"
            ],
            [
             0.9,
             "#4d9221"
            ],
            [
             1,
             "#276419"
            ]
           ],
           "sequential": [
            [
             0,
             "#0d0887"
            ],
            [
             0.1111111111111111,
             "#46039f"
            ],
            [
             0.2222222222222222,
             "#7201a8"
            ],
            [
             0.3333333333333333,
             "#9c179e"
            ],
            [
             0.4444444444444444,
             "#bd3786"
            ],
            [
             0.5555555555555556,
             "#d8576b"
            ],
            [
             0.6666666666666666,
             "#ed7953"
            ],
            [
             0.7777777777777778,
             "#fb9f3a"
            ],
            [
             0.8888888888888888,
             "#fdca26"
            ],
            [
             1,
             "#f0f921"
            ]
           ],
           "sequentialminus": [
            [
             0,
             "#0d0887"
            ],
            [
             0.1111111111111111,
             "#46039f"
            ],
            [
             0.2222222222222222,
             "#7201a8"
            ],
            [
             0.3333333333333333,
             "#9c179e"
            ],
            [
             0.4444444444444444,
             "#bd3786"
            ],
            [
             0.5555555555555556,
             "#d8576b"
            ],
            [
             0.6666666666666666,
             "#ed7953"
            ],
            [
             0.7777777777777778,
             "#fb9f3a"
            ],
            [
             0.8888888888888888,
             "#fdca26"
            ],
            [
             1,
             "#f0f921"
            ]
           ]
          },
          "colorway": [
           "#636efa",
           "#EF553B",
           "#00cc96",
           "#ab63fa",
           "#FFA15A",
           "#19d3f3",
           "#FF6692",
           "#B6E880",
           "#FF97FF",
           "#FECB52"
          ],
          "font": {
           "color": "#2a3f5f"
          },
          "geo": {
           "bgcolor": "white",
           "lakecolor": "white",
           "landcolor": "#E5ECF6",
           "showlakes": true,
           "showland": true,
           "subunitcolor": "white"
          },
          "hoverlabel": {
           "align": "left"
          },
          "hovermode": "closest",
          "mapbox": {
           "style": "light"
          },
          "paper_bgcolor": "white",
          "plot_bgcolor": "#E5ECF6",
          "polar": {
           "angularaxis": {
            "gridcolor": "white",
            "linecolor": "white",
            "ticks": ""
           },
           "bgcolor": "#E5ECF6",
           "radialaxis": {
            "gridcolor": "white",
            "linecolor": "white",
            "ticks": ""
           }
          },
          "scene": {
           "xaxis": {
            "backgroundcolor": "#E5ECF6",
            "gridcolor": "white",
            "gridwidth": 2,
            "linecolor": "white",
            "showbackground": true,
            "ticks": "",
            "zerolinecolor": "white"
           },
           "yaxis": {
            "backgroundcolor": "#E5ECF6",
            "gridcolor": "white",
            "gridwidth": 2,
            "linecolor": "white",
            "showbackground": true,
            "ticks": "",
            "zerolinecolor": "white"
           },
           "zaxis": {
            "backgroundcolor": "#E5ECF6",
            "gridcolor": "white",
            "gridwidth": 2,
            "linecolor": "white",
            "showbackground": true,
            "ticks": "",
            "zerolinecolor": "white"
           }
          },
          "shapedefaults": {
           "line": {
            "color": "#2a3f5f"
           }
          },
          "ternary": {
           "aaxis": {
            "gridcolor": "white",
            "linecolor": "white",
            "ticks": ""
           },
           "baxis": {
            "gridcolor": "white",
            "linecolor": "white",
            "ticks": ""
           },
           "bgcolor": "#E5ECF6",
           "caxis": {
            "gridcolor": "white",
            "linecolor": "white",
            "ticks": ""
           }
          },
          "title": {
           "x": 0.05
          },
          "xaxis": {
           "automargin": true,
           "gridcolor": "white",
           "linecolor": "white",
           "ticks": "",
           "title": {
            "standoff": 15
           },
           "zerolinecolor": "white",
           "zerolinewidth": 2
          },
          "yaxis": {
           "automargin": true,
           "gridcolor": "white",
           "linecolor": "white",
           "ticks": "",
           "title": {
            "standoff": 15
           },
           "zerolinecolor": "white",
           "zerolinewidth": 2
          }
         }
        },
        "title": {
         "text": "Ripples - Session: kdiba_pin01_one_11"
        },
        "xaxis": {
         "anchor": "y",
         "domain": [
          0,
          1
         ],
         "title": {
          "text": "ripple_start_t"
         }
        },
        "yaxis": {
         "anchor": "x",
         "domain": [
          0,
          1
         ],
         "title": {
          "text": "P_Long"
         }
        }
       }
      }
     },
     "metadata": {},
     "output_type": "display_data"
    },
    {
     "data": {
      "application/vnd.plotly.v1+json": {
       "config": {
        "plotlyServerURL": "https://plot.ly"
       },
       "data": [
        {
         "hovertemplate": "lap_start_t=%{x}<br>P_Long=%{y}<extra></extra>",
         "legendgroup": "",
         "marker": {
          "color": "#636efa",
          "symbol": "circle"
         },
         "mode": "markers",
         "name": "",
         "orientation": "v",
         "showlegend": false,
         "type": "scatter",
         "x": [
          36.559134000001,
          85.80491200000142,
          111.4665700000005,
          145.69924700000047,
          186.27964500000053,
          231.7572080000009,
          270.130376000001,
          276.79659000000174,
          279.40311100000145,
          298.82284100000106,
          313.34361400000125,
          357.450562,
          391.3205510000007,
          415.571978,
          430.750924,
          433.99395,
          465.4558710000001,
          485.2104710000003,
          527.6544200000008,
          560.8516380000001,
          593.9903780000004,
          619.9451730000001,
          635.7973010000005,
          657.6523900000011,
          685.2081590000016,
          951.6770490000016,
          1066.7933550000016,
          1221.1505460000008,
          1235.4304420000008,
          1250.9097550000006,
          1266.698233000001,
          1279.5777280000002,
          1294.0925990000014,
          1322.1886540000014,
          1339.4021110000012,
          1359.8935440000005,
          1387.5191790000008,
          1398.3927520000016,
          1426.751905000001,
          1433.6617260000005,
          1453.3869030000003,
          1470.838208000001,
          1501.463887,
          1537.2636650000004,
          1554.986007000001,
          1564.997870000001,
          1589.0214180000005,
          1625.060273000001,
          1634.8997870000003,
          1649.3507760000011,
          2068.942527000001,
          2138.269729000001,
          2361.259806,
          2405.8399580000005,
          2434.272299,
          2463.8303320000014,
          2522.893257000001,
          2535.1364510000003,
          2596.433696,
          2605.5439020000013,
          2621.225272000001,
          2631.903122000001,
          2649.9536080000016,
          2672.773597000001,
          2687.258279000001,
          2707.5081310000005,
          2719.59454,
          2738.113743,
          2753.285589000001,
          2819.6959210000005,
          2954.95643,
          3003.23755
         ],
         "xaxis": "x",
         "y": [
          0.5152004235143848,
          0.4698266040039914,
          0.7475396512432112,
          0.7409556052466486,
          0.7540867188094533,
          0.7519919335024136,
          0.6998258552217435,
          0.6847759201284475,
          0.4440858511578885,
          0.7172015831292555,
          0.8256820618425477,
          0.7347050724180874,
          0.6050887937058107,
          0.46108598982696,
          0.7557894265966965,
          0.7316403352982285,
          0.6941856197298261,
          0.7064431457767918,
          0.6734371939662541,
          0.7393738557414279,
          0.6908184368308072,
          0.7607559849219916,
          0.7535612153344544,
          0.7311472184008541,
          0.6144230260751247,
          0.7290816546682102,
          0.6371225447167876,
          0.7889076350729873,
          0.7650911227952019,
          0.6383166206675023,
          0.64215765750415,
          0.5838638919014613,
          0.676080014158065,
          0.5482374662703695,
          0.6779696511052017,
          0.5806205905807299,
          0.6856549841074565,
          0.642894249198153,
          0.4253785260266814,
          0.6403229158640559,
          0.5967948068587665,
          0.5990603116168535,
          0.548805995724523,
          0.6168655612221621,
          0.5071400272511588,
          0.606705632169408,
          0.6642172824835666,
          0.603820694583281,
          0.5472309383211216,
          0.4995259688895899,
          0.394139276740909,
          0.1924178840616225,
          0.33599714491291,
          0.278623401726208,
          0.3322127287569683,
          0.2458760179324147,
          0.3330002913137793,
          0.2523817441737583,
          0.2177929655687129,
          0.2258425929050801,
          0.2774979659950859,
          0.3325942425424172,
          0.2835510767307623,
          0.3413331047647452,
          0.1946521154520237,
          0.312242941085606,
          0.3534081075527147,
          0.3157244839079672,
          0.3644883126517113,
          0.3100898325279281,
          0.481536674202714,
          0.3028519668642815
         ],
         "yaxis": "y"
        }
       ],
       "layout": {
        "legend": {
         "tracegroupgap": 0
        },
        "template": {
         "data": {
          "bar": [
           {
            "error_x": {
             "color": "#2a3f5f"
            },
            "error_y": {
             "color": "#2a3f5f"
            },
            "marker": {
             "line": {
              "color": "#E5ECF6",
              "width": 0.5
             },
             "pattern": {
              "fillmode": "overlay",
              "size": 10,
              "solidity": 0.2
             }
            },
            "type": "bar"
           }
          ],
          "barpolar": [
           {
            "marker": {
             "line": {
              "color": "#E5ECF6",
              "width": 0.5
             },
             "pattern": {
              "fillmode": "overlay",
              "size": 10,
              "solidity": 0.2
             }
            },
            "type": "barpolar"
           }
          ],
          "carpet": [
           {
            "aaxis": {
             "endlinecolor": "#2a3f5f",
             "gridcolor": "white",
             "linecolor": "white",
             "minorgridcolor": "white",
             "startlinecolor": "#2a3f5f"
            },
            "baxis": {
             "endlinecolor": "#2a3f5f",
             "gridcolor": "white",
             "linecolor": "white",
             "minorgridcolor": "white",
             "startlinecolor": "#2a3f5f"
            },
            "type": "carpet"
           }
          ],
          "choropleth": [
           {
            "colorbar": {
             "outlinewidth": 0,
             "ticks": ""
            },
            "type": "choropleth"
           }
          ],
          "contour": [
           {
            "colorbar": {
             "outlinewidth": 0,
             "ticks": ""
            },
            "colorscale": [
             [
              0,
              "#0d0887"
             ],
             [
              0.1111111111111111,
              "#46039f"
             ],
             [
              0.2222222222222222,
              "#7201a8"
             ],
             [
              0.3333333333333333,
              "#9c179e"
             ],
             [
              0.4444444444444444,
              "#bd3786"
             ],
             [
              0.5555555555555556,
              "#d8576b"
             ],
             [
              0.6666666666666666,
              "#ed7953"
             ],
             [
              0.7777777777777778,
              "#fb9f3a"
             ],
             [
              0.8888888888888888,
              "#fdca26"
             ],
             [
              1,
              "#f0f921"
             ]
            ],
            "type": "contour"
           }
          ],
          "contourcarpet": [
           {
            "colorbar": {
             "outlinewidth": 0,
             "ticks": ""
            },
            "type": "contourcarpet"
           }
          ],
          "heatmap": [
           {
            "colorbar": {
             "outlinewidth": 0,
             "ticks": ""
            },
            "colorscale": [
             [
              0,
              "#0d0887"
             ],
             [
              0.1111111111111111,
              "#46039f"
             ],
             [
              0.2222222222222222,
              "#7201a8"
             ],
             [
              0.3333333333333333,
              "#9c179e"
             ],
             [
              0.4444444444444444,
              "#bd3786"
             ],
             [
              0.5555555555555556,
              "#d8576b"
             ],
             [
              0.6666666666666666,
              "#ed7953"
             ],
             [
              0.7777777777777778,
              "#fb9f3a"
             ],
             [
              0.8888888888888888,
              "#fdca26"
             ],
             [
              1,
              "#f0f921"
             ]
            ],
            "type": "heatmap"
           }
          ],
          "heatmapgl": [
           {
            "colorbar": {
             "outlinewidth": 0,
             "ticks": ""
            },
            "colorscale": [
             [
              0,
              "#0d0887"
             ],
             [
              0.1111111111111111,
              "#46039f"
             ],
             [
              0.2222222222222222,
              "#7201a8"
             ],
             [
              0.3333333333333333,
              "#9c179e"
             ],
             [
              0.4444444444444444,
              "#bd3786"
             ],
             [
              0.5555555555555556,
              "#d8576b"
             ],
             [
              0.6666666666666666,
              "#ed7953"
             ],
             [
              0.7777777777777778,
              "#fb9f3a"
             ],
             [
              0.8888888888888888,
              "#fdca26"
             ],
             [
              1,
              "#f0f921"
             ]
            ],
            "type": "heatmapgl"
           }
          ],
          "histogram": [
           {
            "marker": {
             "pattern": {
              "fillmode": "overlay",
              "size": 10,
              "solidity": 0.2
             }
            },
            "type": "histogram"
           }
          ],
          "histogram2d": [
           {
            "colorbar": {
             "outlinewidth": 0,
             "ticks": ""
            },
            "colorscale": [
             [
              0,
              "#0d0887"
             ],
             [
              0.1111111111111111,
              "#46039f"
             ],
             [
              0.2222222222222222,
              "#7201a8"
             ],
             [
              0.3333333333333333,
              "#9c179e"
             ],
             [
              0.4444444444444444,
              "#bd3786"
             ],
             [
              0.5555555555555556,
              "#d8576b"
             ],
             [
              0.6666666666666666,
              "#ed7953"
             ],
             [
              0.7777777777777778,
              "#fb9f3a"
             ],
             [
              0.8888888888888888,
              "#fdca26"
             ],
             [
              1,
              "#f0f921"
             ]
            ],
            "type": "histogram2d"
           }
          ],
          "histogram2dcontour": [
           {
            "colorbar": {
             "outlinewidth": 0,
             "ticks": ""
            },
            "colorscale": [
             [
              0,
              "#0d0887"
             ],
             [
              0.1111111111111111,
              "#46039f"
             ],
             [
              0.2222222222222222,
              "#7201a8"
             ],
             [
              0.3333333333333333,
              "#9c179e"
             ],
             [
              0.4444444444444444,
              "#bd3786"
             ],
             [
              0.5555555555555556,
              "#d8576b"
             ],
             [
              0.6666666666666666,
              "#ed7953"
             ],
             [
              0.7777777777777778,
              "#fb9f3a"
             ],
             [
              0.8888888888888888,
              "#fdca26"
             ],
             [
              1,
              "#f0f921"
             ]
            ],
            "type": "histogram2dcontour"
           }
          ],
          "mesh3d": [
           {
            "colorbar": {
             "outlinewidth": 0,
             "ticks": ""
            },
            "type": "mesh3d"
           }
          ],
          "parcoords": [
           {
            "line": {
             "colorbar": {
              "outlinewidth": 0,
              "ticks": ""
             }
            },
            "type": "parcoords"
           }
          ],
          "pie": [
           {
            "automargin": true,
            "type": "pie"
           }
          ],
          "scatter": [
           {
            "fillpattern": {
             "fillmode": "overlay",
             "size": 10,
             "solidity": 0.2
            },
            "type": "scatter"
           }
          ],
          "scatter3d": [
           {
            "line": {
             "colorbar": {
              "outlinewidth": 0,
              "ticks": ""
             }
            },
            "marker": {
             "colorbar": {
              "outlinewidth": 0,
              "ticks": ""
             }
            },
            "type": "scatter3d"
           }
          ],
          "scattercarpet": [
           {
            "marker": {
             "colorbar": {
              "outlinewidth": 0,
              "ticks": ""
             }
            },
            "type": "scattercarpet"
           }
          ],
          "scattergeo": [
           {
            "marker": {
             "colorbar": {
              "outlinewidth": 0,
              "ticks": ""
             }
            },
            "type": "scattergeo"
           }
          ],
          "scattergl": [
           {
            "marker": {
             "colorbar": {
              "outlinewidth": 0,
              "ticks": ""
             }
            },
            "type": "scattergl"
           }
          ],
          "scattermapbox": [
           {
            "marker": {
             "colorbar": {
              "outlinewidth": 0,
              "ticks": ""
             }
            },
            "type": "scattermapbox"
           }
          ],
          "scatterpolar": [
           {
            "marker": {
             "colorbar": {
              "outlinewidth": 0,
              "ticks": ""
             }
            },
            "type": "scatterpolar"
           }
          ],
          "scatterpolargl": [
           {
            "marker": {
             "colorbar": {
              "outlinewidth": 0,
              "ticks": ""
             }
            },
            "type": "scatterpolargl"
           }
          ],
          "scatterternary": [
           {
            "marker": {
             "colorbar": {
              "outlinewidth": 0,
              "ticks": ""
             }
            },
            "type": "scatterternary"
           }
          ],
          "surface": [
           {
            "colorbar": {
             "outlinewidth": 0,
             "ticks": ""
            },
            "colorscale": [
             [
              0,
              "#0d0887"
             ],
             [
              0.1111111111111111,
              "#46039f"
             ],
             [
              0.2222222222222222,
              "#7201a8"
             ],
             [
              0.3333333333333333,
              "#9c179e"
             ],
             [
              0.4444444444444444,
              "#bd3786"
             ],
             [
              0.5555555555555556,
              "#d8576b"
             ],
             [
              0.6666666666666666,
              "#ed7953"
             ],
             [
              0.7777777777777778,
              "#fb9f3a"
             ],
             [
              0.8888888888888888,
              "#fdca26"
             ],
             [
              1,
              "#f0f921"
             ]
            ],
            "type": "surface"
           }
          ],
          "table": [
           {
            "cells": {
             "fill": {
              "color": "#EBF0F8"
             },
             "line": {
              "color": "white"
             }
            },
            "header": {
             "fill": {
              "color": "#C8D4E3"
             },
             "line": {
              "color": "white"
             }
            },
            "type": "table"
           }
          ]
         },
         "layout": {
          "annotationdefaults": {
           "arrowcolor": "#2a3f5f",
           "arrowhead": 0,
           "arrowwidth": 1
          },
          "autotypenumbers": "strict",
          "coloraxis": {
           "colorbar": {
            "outlinewidth": 0,
            "ticks": ""
           }
          },
          "colorscale": {
           "diverging": [
            [
             0,
             "#8e0152"
            ],
            [
             0.1,
             "#c51b7d"
            ],
            [
             0.2,
             "#de77ae"
            ],
            [
             0.3,
             "#f1b6da"
            ],
            [
             0.4,
             "#fde0ef"
            ],
            [
             0.5,
             "#f7f7f7"
            ],
            [
             0.6,
             "#e6f5d0"
            ],
            [
             0.7,
             "#b8e186"
            ],
            [
             0.8,
             "#7fbc41"
            ],
            [
             0.9,
             "#4d9221"
            ],
            [
             1,
             "#276419"
            ]
           ],
           "sequential": [
            [
             0,
             "#0d0887"
            ],
            [
             0.1111111111111111,
             "#46039f"
            ],
            [
             0.2222222222222222,
             "#7201a8"
            ],
            [
             0.3333333333333333,
             "#9c179e"
            ],
            [
             0.4444444444444444,
             "#bd3786"
            ],
            [
             0.5555555555555556,
             "#d8576b"
            ],
            [
             0.6666666666666666,
             "#ed7953"
            ],
            [
             0.7777777777777778,
             "#fb9f3a"
            ],
            [
             0.8888888888888888,
             "#fdca26"
            ],
            [
             1,
             "#f0f921"
            ]
           ],
           "sequentialminus": [
            [
             0,
             "#0d0887"
            ],
            [
             0.1111111111111111,
             "#46039f"
            ],
            [
             0.2222222222222222,
             "#7201a8"
            ],
            [
             0.3333333333333333,
             "#9c179e"
            ],
            [
             0.4444444444444444,
             "#bd3786"
            ],
            [
             0.5555555555555556,
             "#d8576b"
            ],
            [
             0.6666666666666666,
             "#ed7953"
            ],
            [
             0.7777777777777778,
             "#fb9f3a"
            ],
            [
             0.8888888888888888,
             "#fdca26"
            ],
            [
             1,
             "#f0f921"
            ]
           ]
          },
          "colorway": [
           "#636efa",
           "#EF553B",
           "#00cc96",
           "#ab63fa",
           "#FFA15A",
           "#19d3f3",
           "#FF6692",
           "#B6E880",
           "#FF97FF",
           "#FECB52"
          ],
          "font": {
           "color": "#2a3f5f"
          },
          "geo": {
           "bgcolor": "white",
           "lakecolor": "white",
           "landcolor": "#E5ECF6",
           "showlakes": true,
           "showland": true,
           "subunitcolor": "white"
          },
          "hoverlabel": {
           "align": "left"
          },
          "hovermode": "closest",
          "mapbox": {
           "style": "light"
          },
          "paper_bgcolor": "white",
          "plot_bgcolor": "#E5ECF6",
          "polar": {
           "angularaxis": {
            "gridcolor": "white",
            "linecolor": "white",
            "ticks": ""
           },
           "bgcolor": "#E5ECF6",
           "radialaxis": {
            "gridcolor": "white",
            "linecolor": "white",
            "ticks": ""
           }
          },
          "scene": {
           "xaxis": {
            "backgroundcolor": "#E5ECF6",
            "gridcolor": "white",
            "gridwidth": 2,
            "linecolor": "white",
            "showbackground": true,
            "ticks": "",
            "zerolinecolor": "white"
           },
           "yaxis": {
            "backgroundcolor": "#E5ECF6",
            "gridcolor": "white",
            "gridwidth": 2,
            "linecolor": "white",
            "showbackground": true,
            "ticks": "",
            "zerolinecolor": "white"
           },
           "zaxis": {
            "backgroundcolor": "#E5ECF6",
            "gridcolor": "white",
            "gridwidth": 2,
            "linecolor": "white",
            "showbackground": true,
            "ticks": "",
            "zerolinecolor": "white"
           }
          },
          "shapedefaults": {
           "line": {
            "color": "#2a3f5f"
           }
          },
          "ternary": {
           "aaxis": {
            "gridcolor": "white",
            "linecolor": "white",
            "ticks": ""
           },
           "baxis": {
            "gridcolor": "white",
            "linecolor": "white",
            "ticks": ""
           },
           "bgcolor": "#E5ECF6",
           "caxis": {
            "gridcolor": "white",
            "linecolor": "white",
            "ticks": ""
           }
          },
          "title": {
           "x": 0.05
          },
          "xaxis": {
           "automargin": true,
           "gridcolor": "white",
           "linecolor": "white",
           "ticks": "",
           "title": {
            "standoff": 15
           },
           "zerolinecolor": "white",
           "zerolinewidth": 2
          },
          "yaxis": {
           "automargin": true,
           "gridcolor": "white",
           "linecolor": "white",
           "ticks": "",
           "title": {
            "standoff": 15
           },
           "zerolinecolor": "white",
           "zerolinewidth": 2
          }
         }
        },
        "title": {
         "text": "Laps - Session: kdiba_pin01_one_fet11"
        },
        "xaxis": {
         "anchor": "y",
         "domain": [
          0,
          1
         ],
         "title": {
          "text": "lap_start_t"
         }
        },
        "yaxis": {
         "anchor": "x",
         "domain": [
          0,
          1
         ],
         "title": {
          "text": "P_Long"
         }
        }
       }
      }
     },
     "metadata": {},
     "output_type": "display_data"
    },
    {
     "data": {
      "application/vnd.plotly.v1+json": {
       "config": {
        "plotlyServerURL": "https://plot.ly"
       },
       "data": [
        {
         "hovertemplate": "ripple_start_t=%{x}<br>P_Long=%{y}<extra></extra>",
         "legendgroup": "",
         "marker": {
          "color": "#636efa",
          "symbol": "circle"
         },
         "mode": "markers",
         "name": "",
         "orientation": "v",
         "showlegend": false,
         "type": "scatter",
         "x": [
          1.4891512375543243,
          3.4908961326618737,
          12.9829104727487,
          46.10657991343032,
          53.35013716472895,
          64.18750249599725,
          64.91532036335593,
          65.71468507408099,
          68.35420756264466,
          71.66791082602867,
          72.77315442014515,
          80.51121125826103,
          80.83140565431859,
          83.54382666556194,
          85.3563978975235,
          93.1366025540592,
          97.1200629145278,
          98.41736785030662,
          102.7326347608905,
          107.04055959523248,
          111.26228415371044,
          127.40668036777788,
          132.36709766804415,
          135.95651279026606,
          140.6391907127345,
          151.41253559678262,
          157.27476875531647,
          159.71682318498642,
          175.34662894252506,
          180.52724709004903,
          195.5383216443788,
          199.1596855502412,
          199.75196684699225,
          200.03667966121972,
          201.14837445203196,
          211.10223303565544,
          213.54336586579663,
          215.74540505835284,
          219.25860389959416,
          219.7437338912077,
          243.38528082673656,
          247.4660006574068,
          248.0423690023072,
          254.67846928462316,
          267.60264314744745,
          274.5250536831718,
          282.9550474470161,
          284.6359528263929,
          319.41632029884204,
          320.0859852359754,
          325.4391268151667,
          326.6549009126902,
          345.78549463782656,
          349.52608280264394,
          351.40209080212844,
          369.1565213918602,
          372.2071079899615,
          399.27015461368137,
          403.4144340918101,
          405.0853861962805,
          427.5982809096786,
          437.5784972398087,
          439.4944104988608,
          443.0858224200583,
          445.00397823796266,
          449.0124446656282,
          450.3511908601886,
          456.0388730680952,
          459.2578051800028,
          459.74465549073466,
          460.9114312133461,
          475.2241790852204,
          492.9846000718844,
          497.025322483034,
          506.7150199219086,
          508.2541832938568,
          508.92888630840935,
          511.1497875713085,
          511.91148958131816,
          512.3665447083276,
          514.2316471133963,
          515.1912472620807,
          516.7156343215956,
          517.2182747042425,
          525.4035223533974,
          525.8457979669511,
          526.7361859910725,
          535.2045490152705,
          535.8951649816754,
          537.504769277557,
          539.8311015264753,
          557.211823507545,
          568.5985543175393,
          579.3137769913465,
          580.3323902298162,
          580.8637230777731,
          583.2093781967978,
          584.0847441486112,
          585.539704043671,
          588.1675222182294,
          589.5632847035977,
          598.2132642748074,
          616.948860442184,
          640.6831202902431,
          641.1636115642305,
          641.689291935083,
          653.7026797042272,
          673.6792096362424,
          674.1791773802597,
          691.3670085800914,
          704.8694247068524,
          710.1318194525084,
          712.88058220514,
          713.7879276605818,
          716.7218090384322,
          721.5295787368559,
          722.5877285950828,
          723.8802719332998,
          728.8351289164129,
          732.8463908626472,
          734.4208207765387,
          736.7532048623598,
          737.0270120821697,
          740.1254911357482,
          742.3025242611075,
          745.7266044279786,
          747.8347326286166,
          754.0264376184623,
          756.0087060435417,
          756.6999978496005,
          760.7138402745131,
          765.5763837048908,
          767.3535347949892,
          767.8977393163568,
          769.3892559927008,
          773.387369785667,
          776.9092623824563,
          784.7840845905484,
          786.3168889257522,
          786.9059753441397,
          787.4737420934434,
          789.7340570961624,
          793.6176160677805,
          794.3360336199512,
          795.4603543242974,
          796.3259206011298,
          807.5136166330267,
          808.0760995450364,
          814.2870352450373,
          815.057000930814,
          827.9329751383157,
          829.7292647786162,
          834.2238135174084,
          836.1293741417594,
          838.383852347466,
          840.6249059200472,
          844.9085619668149,
          852.7467659536542,
          854.7234126216117,
          855.2212914066986,
          858.4200712089223,
          859.5680770211438,
          863.0950691353246,
          863.8033798126689,
          866.3113286086009,
          872.2379201341846,
          873.8440837918279,
          876.94747804289,
          878.3405986096132,
          885.743438979358,
          887.2206401430321,
          893.5064711646864,
          895.2841752145014,
          895.8852424267552,
          897.0889742904455,
          900.5503792382042,
          901.1276077426646,
          901.4168671145636,
          901.7816976477698,
          904.1237892486188,
          906.8724291213166,
          909.1095198159256,
          909.8724199053212,
          913.6701165208996,
          916.4240709508758,
          917.6352984907262,
          923.8584914644524,
          927.833995348994,
          929.843358800199,
          931.0319149916596,
          932.2600385228598,
          933.325899097139,
          938.1207049621972,
          946.3640441016104,
          947.2001499135222,
          949.1447556378862,
          953.445829915734,
          956.7947690010768,
          959.6977767947374,
          960.3669194921368,
          961.1687725215888,
          962.3867891779628,
          962.9434352929602,
          963.4428807972454,
          965.6438140703668,
          968.2177801124964,
          969.3090461137672,
          971.5312068960228,
          974.1523588339916,
          974.8230375306048,
          977.1126286783328,
          978.437366560067,
          979.094282703727,
          980.4685719200916,
          981.1958675477164,
          983.1615471812876,
          985.1885131834806,
          986.6706909846052,
          988.8130719677064,
          989.7916570666712,
          991.0530810608216,
          991.936219168654,
          996.2113964997644,
          996.9221954958356,
          999.306557795042,
          1000.30695408284,
          1001.1433670945972,
          1001.793678441636,
          1003.4522196724648,
          1007.7528945905178,
          1010.4522288884582,
          1012.1005096445388,
          1012.569388764472,
          1013.8530540272368,
          1015.4507389692208,
          1019.1912042541026,
          1019.4752412286762,
          1021.7732496520948,
          1022.1983220744588,
          1026.018720758415,
          1027.332768085622,
          1031.455666454698,
          1032.3176999333373,
          1034.150884274748,
          1034.57134869947,
          1036.2468473616136,
          1040.479170314664,
          1042.9954749463177,
          1045.9846830158422,
          1046.8761769593984,
          1050.2031205360015,
          1053.6344198991774,
          1054.3239299461477,
          1076.7505015037425,
          1080.6573769434217,
          1083.296285032302,
          1083.7027718641802,
          1085.1486386438974,
          1086.755109501384,
          1087.0279336816966,
          1088.8400748338809,
          1091.0421447464214,
          1092.514492152579,
          1095.240706436758,
          1095.535864045636,
          1096.0272301940568,
          1097.2591630033094,
          1097.7951960088594,
          1098.164143019958,
          1099.7467751696513,
          1100.1782373487422,
          1102.0726773387887,
          1107.7741835396173,
          1108.1096457678595,
          1110.6467785488494,
          1112.594917071403,
          1113.4407303983462,
          1114.0524881651254,
          1119.148564915935,
          1122.897170996648,
          1130.4996912641582,
          1133.7454419223322,
          1138.4681172643232,
          1139.7993677827235,
          1141.5032209903493,
          1143.1989948421142,
          1145.608178888613,
          1146.7406096688082,
          1147.2557530850536,
          1151.6572509914877,
          1173.110306247523,
          1173.8590751441534,
          1174.477622027458,
          1177.1773864051777,
          1177.95450984729,
          1185.6284847982151,
          1193.6699014810092,
          1194.2135223226778,
          1195.346198862746,
          1206.3192850845262,
          1207.9713751186555,
          1214.655152816562,
          1216.968398352179,
          1225.4563607263426,
          1231.0774112883646,
          1257.8500311807838,
          1258.30345814863,
          1278.2123119552944,
          1287.615822020698,
          1288.701220504974,
          1307.8569738972292,
          1316.4632389308226,
          1319.8011802617948,
          1320.6494204674964,
          1326.075829209174,
          1329.5054696931984,
          1355.0170956712464,
          1366.1768672374435,
          1366.7041143274928,
          1367.3875418175794,
          1382.8393559862488,
          1394.511506170109,
          1405.34500078336,
          1405.8254920573472,
          1408.5583418581282,
          1410.844615247555,
          1413.064195551131,
          1414.862912070188,
          1415.4978327051103,
          1416.479121162689,
          1416.9912233004925,
          1461.5718187152288,
          1462.4720985742842,
          1466.284847982159,
          1485.328350551883,
          1485.9569735900277,
          1489.918069801948,
          1491.0247572353237,
          1494.400023347187,
          1497.464986897925,
          1498.1610095815631,
          1544.85421831464,
          1562.9261092218312,
          1578.8280940400164,
          1595.3932618786494,
          1614.7424282918764,
          1618.612869830211,
          1619.7968794639964,
          1620.9999047680485,
          1659.5962165267374,
          1660.170373032768,
          1661.0531117808075,
          1661.4657426095382,
          1663.9940587550427,
          1664.9403571505372,
          1665.9670497448717,
          1666.656928431652,
          1667.70767477367,
          1669.3669532841195,
          1670.2044722153114,
          1671.6852061771733,
          1674.101609419975,
          1674.835694164125,
          1675.9801671781534,
          1677.3673895078955,
          1677.6556044003282,
          1678.7702483096327,
          1681.0234362760002,
          1682.6122738625163,
          1683.2843963983887,
          1686.4626859711043,
          1686.808439394079,
          1689.0419665705122,
          1691.3392991542787,
          1694.0181125027266,
          1696.037490668803,
          1697.5472550158065,
          1698.7420780840566,
          1700.595353295179,
          1701.5995281410396,
          1704.7383118139842,
          1706.2153593777348,
          1707.4091072465362,
          1707.623839936594,
          1708.4144801717866,
          1709.521474805004,
          1710.190003102718,
          1710.585461460243,
          1711.284832622165,
          1714.1412381996852,
          1715.3465675025564,
          1716.9428086052812,
          1720.5147440564506,
          1721.870570562267,
          1722.561708768406,
          1723.9722782861936,
          1725.7999944704025,
          1729.0924395046711,
          1731.5668727977609,
          1732.2095348687162,
          1733.7280544112346,
          1738.0141373367603,
          1740.2567883485244,
          1742.065796062312,
          1743.0947004955142,
          1746.494419714856,
          1748.3057007074804,
          1749.3257885051953,
          1749.6972238350208,
          1750.5969507343616,
          1751.483406600495,
          1752.397817652316,
          1752.8454078231498,
          1755.4302487397108,
          1760.8686075552723,
          1761.6090206161823,
          1762.4748633728686,
          1764.1539255531898,
          1764.8352948043284,
          1769.9690342558551,
          1770.7439151391154,
          1774.2042448874254,
          1777.116499396352,
          1777.9391191351715,
          1783.7723526285554,
          1784.7379124541894,
          1785.5523606771894,
          1786.2802092645345,
          1790.117350339915,
          1794.4984194568096,
          1796.0546017000431,
          1797.3449331993943,
          1798.1294601577156,
          1801.7889168440745,
          1807.785427053861,
          1809.0065157086628,
          1810.1231871369275,
          1811.6633028283868,
          1812.3619059907032,
          1813.330353494859,
          1813.7734585479884,
          1818.4354004810737,
          1821.3901407282483,
          1821.9004611069631,
          1822.235831175254,
          1823.087573459161,
          1824.5378639166136,
          1824.82804488804,
          1825.5055741411447,
          1826.2793798249568,
          1829.249172864424,
          1830.9437486368008,
          1831.2605945545747,
          1832.8035979245576,
          1834.444751644287,
          1834.8575667929251,
          1836.9149762995312,
          1844.4769769077864,
          1845.976818699868,
          1846.8279158641071,
          1849.7443175709088,
          1851.7448951066128,
          1855.9585095892417,
          1856.893042230762,
          1858.5310932320808,
          1865.700000921599,
          1866.9095695823,
          1869.8643405494568,
          1871.3242463619863,
          1871.6122769345147,
          1874.5992424451888,
          1875.109163464107,
          1876.732407433008,
          1878.7740575876812,
          1879.3975196684696,
          1883.754043517929,
          1884.950341145426,
          1886.5941367838025,
          1887.821953115159,
          1891.2209657748665,
          1898.3706120342467,
          1902.603365067078,
          1903.1253590398155,
          1904.901926450213,
          1905.721412750636,
          1906.0369684290708,
          1909.0822711898763,
          1913.483523336436,
          1915.2253771646083,
          1915.586029779952,
          1918.497977089035,
          1919.9441510685936,
          1921.0315463518475,
          1923.8632530620143,
          1927.9040983531013,
          1932.861812294752,
          1934.571840219216,
          1934.9597414606123,
          1935.7324105050047,
          1939.349934412834,
          1949.209574804696,
          1949.9135539642596,
          1950.614491845381,
          1968.9131269564768,
          1973.078142423992,
          1977.679166628266,
          1979.254856061514,
          1984.716377745213,
          1988.9719864463425,
          1989.5226421644077,
          1992.4463552274665,
          1993.1776137330617,
          2004.2625514175743,
          2007.0157378479416,
          2010.632002236416,
          2011.8286070637528,
          2015.067415005484,
          2017.769729141899,
          2024.331118422468,
          2028.073764826233,
          2028.8771538548956,
          2032.17316240734,
          2032.784735854215,
          2043.566590173907,
          2046.6589559506135,
          2047.9047434727709,
          2053.384482107145,
          2056.251731839113,
          2057.074413017899,
          2057.675203750296,
          2082.047179751844,
          2083.17027165682,
          2085.420234024841,
          2087.642210487187,
          2088.098863053383,
          2088.4906042928105,
          2089.7579572439263,
          2090.750120575938,
          2093.6580742870647,
          2095.0434841377373,
          2096.822263387001,
          2100.001443839259,
          2100.605982409736,
          2103.5025697266847,
          2105.2680779427446,
          2106.168787881579,
          2107.493433603362,
          2108.622085825493,
          2110.5979644938434,
          2112.550803173988,
          2120.8068911068717,
          2123.401685298337,
          2123.909240878469,
          2124.374402880305,
          2130.829838935122,
          2137.3381133628864,
          2144.43780892784,
          2146.876453439256,
          2155.0923903526946,
          2155.6973897229364,
          2156.510824186458,
          2158.5734253704068,
          2163.0767907446825,
          2165.061086688724,
          2167.036596717262,
          2169.387382073659,
          2169.707914389546,
          2170.616949444122,
          2171.5801438309663,
          2172.8363454277915,
          2173.858737224328,
          2174.960386580282,
          2175.441707293845,
          2176.0938925599257,
          2178.7839801426016,
          2179.4148150196143,
          2183.0484361991985,
          2184.379563837663,
          2186.843490896133,
          2187.623133376956,
          2188.747054721507,
          2191.778625649344,
          2192.360185671585,
          2193.3025826290777,
          2202.0325263193463,
          2202.592674512549,
          2205.33271278965,
          2208.880072253401,
          2216.5351851339856,
          2217.600892108343,
          2218.610381511484,
          2220.3557066978774,
          2221.679215780241,
          2222.5126489535232,
          2224.5170050472934,
          2225.414458667796,
          2227.382073660377,
          2228.898965043729,
          2233.052276197235,
          2249.9035699693704,
          2251.435237665157,
          2253.9103160779177,
          2254.492367619907,
          2257.2545242856813,
          2260.44691433118,
          2261.88209055637,
          2262.530650864306,
          2264.1210244500344,
          2269.1162474924804,
          2270.640941751839,
          2272.6295384936748,
          2274.892249655168,
          2281.041653226672,
          2285.433873697857,
          2287.465693457565,
          2288.69781058672,
          2289.10869037635,
          2293.603239115142,
          2299.280015728631,
          2301.648219316112,
          2309.5245160834475,
          2309.951400984882,
          2310.802129509309,
          2317.7345240399245,
          2320.7970914318885,
          2334.726668939944,
          2340.9736084615124,
          2346.1689414815028,
          2350.9083899349043,
          2351.8964675090083,
          2369.6685928096813,
          2377.551617253572,
          2378.3418274089854,
          2380.1377176894894,
          2384.39089951186,
          2387.0753038974453,
          2388.4960724500106,
          2389.999600640205,
          2393.337081171412,
          2400.829593175249,
          2401.3040940523024,
          2418.6010733562507,
          2431.78802596453,
          2440.659895982133,
          2463.3210760596085,
          2473.913910316078,
          2476.391999287296,
          2477.325886809147,
          2479.567309021537,
          2483.1136547258084,
          2484.433846049871,
          2485.733731464328,
          2499.691939997725,
          2527.603288267115,
          2528.0023408628003,
          2529.2139370424647,
          2542.360093511632,
          2542.9077693912222,
          2547.662731436681,
          2548.2367343427923,
          2558.369936194593,
          2566.714774162036,
          2585.7751420031277,
          2592.2006875132483,
          2593.144006070268,
          2610.717403792689,
          2627.642118327236,
          2628.241250180481,
          2628.6191367070023,
          2638.9187487136005,
          2640.086169555881,
          2657.687276704115,
          2658.165095339471,
          2668.893435446562,
          2681.317395805492,
          2711.802126437311,
          2712.290604907212,
          2714.253396862261,
          2717.783276654962,
          2718.2398063412184,
          2744.049446886684,
          2759.9774208115614,
          2760.859545159912,
          2767.2831245910384,
          2773.4452155160507,
          2774.028127217598,
          2774.591470289168,
          2775.125414335788,
          2780.365997892608,
          2792.725937804318,
          2793.317205341591,
          2795.0726066828247,
          2803.0608470728457,
          2803.4432494370576,
          2804.318093149135,
          2807.3603239115146,
          2808.4383803195487,
          2816.432703266457,
          2826.9205673366687,
          2830.6034940910104,
          2831.8127248318838,
          2832.9842007120897,
          2840.1551359205696,
          2842.683206306197,
          2843.17199197594,
          2850.943257117051,
          2851.9608258760563,
          2853.3634081979344,
          2881.272728948361,
          2882.5240153477025,
          2885.968954383896,
          2886.7677661349026,
          2887.8566359774013,
          2892.4059584481474,
          2894.9648716979864,
          2902.6157145007546,
          2903.5544250601342,
          2905.483916552233,
          2907.135852986443,
          2912.867925571621,
          2920.275650418868,
          2921.479075082714,
          2922.756934268449,
          2927.854055498723,
          2928.386217786256,
          2932.058453986072,
          2936.251823999064,
          2945.0689202847134,
          2946.325828441175,
          2947.266259319674,
          2949.156828591704,
          2953.521616116932,
          2959.0637777593456,
          2961.1088992722434,
          2961.7605622985902,
          2963.232233865096,
          2963.9965163537818,
          2971.701334168916,
          2972.297363303749,
          2972.903038513645,
          2973.368937795105,
          2975.506649340594,
          2977.519637749947,
          2978.2208521109224,
          2980.3154327984976,
          2980.98890701368,
          2983.0120637378222,
          2983.723384973626,
          2984.0507064060384,
          2984.5964776466026,
          2985.790563435232,
          2986.9537449196814,
          2989.0319825756237,
          2989.806371939137,
          2990.469186319777,
          2991.025770994804,
          2999.291842922576,
          3000.1379941693467,
          3000.934809121378,
          3001.5581483222268,
          3002.376713023122,
          3014.8816512605954,
          3015.7601199308174,
          3016.7962742803065,
          3018.429195044251
         ],
         "xaxis": "x",
         "y": [
          0.5149017111111773,
          0.5436580497100527,
          0.5186550721828467,
          0.5092744016231452,
          0.6261122708999566,
          0.5775505643996759,
          0.5343389024403032,
          0.6308727309704318,
          0.6466981997715793,
          0.57206671494199,
          0.651902962610707,
          0.6530164879223141,
          0.6689776549599012,
          0.5841734836979602,
          0.5708142758045909,
          0.5538085136654699,
          0.6045267215057771,
          0.5689005468053919,
          0.5975145870033008,
          0.6158207126152683,
          0.6500454538793884,
          0.6029349483773492,
          0.5587201397169922,
          0.5773279948917333,
          0.6338076551632301,
          0.5322238972166775,
          0.5897684435702958,
          0.5256382521048231,
          0.5492998258637225,
          0.6772368779605613,
          0.5665228794246596,
          0.5410586973334537,
          0.6454220848501308,
          0.6244510913266481,
          0.5102883174413402,
          0.5425518211762914,
          0.5496581912424482,
          0.5324447056163143,
          0.6257743821622185,
          0.5769689708053839,
          0.5179027887413802,
          0.554256454566313,
          0.5520646220251932,
          0.5572346201157063,
          0.6862834972842093,
          0.6466649282343665,
          0.4759779624254189,
          0.5247259480120702,
          0.4863350980435653,
          0.582305229228344,
          0.608994775780306,
          0.6417233943645811,
          0.5441951767205508,
          0.6084121320048435,
          0.4917509838045157,
          0.6235110468064033,
          0.4916267077080686,
          0.5464087817398415,
          0.526393808179285,
          0.521392234420739,
          0.5497933707519476,
          0.6140343357786286,
          0.5347160598722226,
          0.5514705262232588,
          0.5623281732110786,
          0.6254141085881391,
          0.6167957695937082,
          0.6622833333624699,
          0.6864195882420993,
          0.61633758969739,
          0.5763799116199415,
          0.5516668755672568,
          0.5547152795582492,
          0.5575118171037864,
          0.5381371582701769,
          0.6612777709596875,
          0.6182803855237918,
          0.6918298624169338,
          0.5939755082326056,
          0.5665820158653437,
          0.5776502710632666,
          0.6155572401152175,
          0.4935587650932941,
          0.6570602313814181,
          0.561434277813138,
          0.5383521259885928,
          0.6006676034969747,
          0.5363359660461178,
          0.5174652694273384,
          0.5282007585115168,
          0.5292761692303992,
          0.5326745677207653,
          0.5904931035531865,
          0.573442884459705,
          0.7268964315013983,
          0.5971882339166767,
          0.7330060016018757,
          0.6294254749556699,
          0.5378138580135894,
          0.5109526437839713,
          0.6447064616503821,
          0.5309901024657045,
          0.6184289274664589,
          0.5985900757549482,
          0.5606478572902729,
          0.5606772205749996,
          0.5046449832241892,
          0.6171386915431949,
          0.6070600485868892,
          0.5740743927301879,
          0.5555470568776396,
          0.6443946871722736,
          0.6027547900038897,
          0.4899481456227661,
          0.547088803290215,
          0.6176385846397761,
          0.6333234240832138,
          0.625753331177958,
          0.6232272326792461,
          0.5446288347883481,
          0.5732828889085589,
          0.5924024181463688,
          0.5857253070337076,
          0.6765588276454725,
          0.5974822980237531,
          0.697892104542854,
          0.6211359462652637,
          0.5357994502562622,
          0.536915030322158,
          0.6894118398949587,
          0.5782700848174399,
          0.571814716902114,
          0.5714701455340849,
          0.643791981983214,
          0.5731510834980198,
          0.6373109954736881,
          0.6299909466964796,
          0.5413466753893199,
          0.6136187572974351,
          0.5881220567591307,
          0.6206490880625872,
          0.5968900903297044,
          0.7164598688826992,
          0.592240553787273,
          0.7321320635036545,
          0.627583830515606,
          0.6289897727569169,
          0.7788813309371888,
          0.5215310150439858,
          0.5530642791070295,
          0.5524326984932967,
          0.6045179892008564,
          0.7792681532704577,
          0.5350170653398986,
          0.6097595189695876,
          0.608049603918237,
          0.6028194928396869,
          0.5562938841933964,
          0.5431371545734586,
          0.5555359271432724,
          0.6477117587795629,
          0.6174012581495057,
          0.6167929166153185,
          0.6070908430856977,
          0.5503343811850175,
          0.5812861351048227,
          0.6036065686983973,
          0.6445655331711024,
          0.6495615410408502,
          0.5303230552067152,
          0.7427126394315179,
          0.7188621403708871,
          0.5454788962357466,
          0.6106724358013575,
          0.5319140156997281,
          0.5475931398010214,
          0.5979771074347806,
          0.5832609671566323,
          0.6237940400539109,
          0.5233095510447521,
          0.6185314161889655,
          0.4898709843286079,
          0.6038689693787573,
          0.6056266300307677,
          0.5857810220056694,
          0.5530594117840434,
          0.551235837592666,
          0.53454503679036,
          0.6085385851627478,
          0.6385795005851053,
          0.6465997399713476,
          0.7295679458544962,
          0.7164676870682151,
          0.5902581371144161,
          0.6007737523183447,
          0.5960010610801463,
          0.6224083045069195,
          0.5584944794950542,
          0.5639924882525539,
          0.5604832174960103,
          0.5936302500323339,
          0.5316515584074738,
          0.7953626353627528,
          0.6115117063114872,
          0.6589893252806269,
          0.5748973916440862,
          0.526215064595796,
          0.6659054535098097,
          0.7122871178817227,
          0.7198565170681109,
          0.6061179590325915,
          0.5881163366865492,
          0.7119189312018266,
          0.5010080290908112,
          0.5832464162511801,
          0.6767238702243741,
          0.6748868049885954,
          0.6085779298825827,
          0.5753842315616977,
          0.5593780288260494,
          0.5906093317036306,
          0.5507174965893855,
          0.5853777589740189,
          0.5880643370824311,
          0.5380217743450068,
          0.6434913075655804,
          0.5959242201954292,
          0.6134535961606621,
          0.7568840036450006,
          0.6843795939879765,
          0.6000245804738072,
          0.5991914160310335,
          0.5833212480983117,
          0.5344625778860118,
          0.6224801381383345,
          0.715688375134367,
          0.5982098109203273,
          0.6438385912386092,
          0.5551558624300593,
          0.5292482310154355,
          0.5742192703275742,
          0.591810680806195,
          0.6217729794785845,
          0.6528595768376826,
          0.5938711964415723,
          0.6544226891798217,
          0.6088132777538592,
          0.6210001153312567,
          0.6473044113111872,
          0.551796628225211,
          0.5704114908941074,
          0.666778684925853,
          0.578471974774977,
          0.6330492757282995,
          0.8564101874461643,
          0.4855467006053874,
          0.5891819171842928,
          0.5487822316056671,
          0.6597962196491313,
          0.5544686820505482,
          0.6621714765941168,
          0.7746637092196038,
          0.6058049041920791,
          0.6789486483568066,
          0.563050013393997,
          0.556049681254664,
          0.5841960485406971,
          0.5808848994522693,
          0.5434194081573125,
          0.5940502695029184,
          0.5326922745546684,
          0.5769158920235917,
          0.6354991263502962,
          0.5557391161120776,
          0.6073116142084894,
          0.6733388143403073,
          0.5580353283556829,
          0.5707619945827632,
          null,
          0.5543968264263223,
          0.5574863429621496,
          0.6347773453902268,
          0.5700395382554055,
          0.6555011147594189,
          0.5684549998652383,
          0.6017588219986795,
          0.5486102075750635,
          0.5648623117016088,
          0.5376334793563107,
          null,
          0.613971601860196,
          0.5630350799327367,
          0.5572991400037087,
          0.5546351106725268,
          0.5511510231290061,
          0.5933097039846592,
          0.5494208281183147,
          0.6043985880288973,
          0.6386741587318814,
          0.6152581776492705,
          0.5780372075621922,
          0.586721926413028,
          0.6584748201947088,
          0.568282163968953,
          0.6432206327650822,
          0.527677993911339,
          0.5456076184839931,
          0.5518616475575475,
          0.5340864888042434,
          0.5567063536644746,
          0.5654063389075901,
          0.6707242102289834,
          0.6322622246407824,
          0.4717916104883938,
          0.4886728161333012,
          0.5645606222189335,
          0.5945747027870834,
          0.4962181071635272,
          0.587652455497081,
          0.529013956448172,
          0.5342543265431683,
          0.5714186028479773,
          0.7294645815326116,
          0.5118596514686645,
          0.5739969332153176,
          0.5522921583786549,
          0.6946202320725369,
          0.6845003184179225,
          0.5318674760679942,
          0.6178611103613035,
          0.6379679256834818,
          0.6707521220948419,
          0.5194418204204148,
          0.536299675647456,
          0.5761058841158203,
          0.6443345176073094,
          0.6752993910134842,
          0.5825652946528513,
          0.4604198386423537,
          0.5218843379408349,
          0.5748953820367018,
          0.5787605920810176,
          0.5260964738948027,
          0.5652382741815365,
          0.5674868322780174,
          0.4484665689446734,
          0.537750309993093,
          0.5034813965335725,
          0.5681256537526475,
          0.583871834871353,
          0.5217688183124393,
          0.5596040673888553,
          0.55777736969786,
          0.5129428199963084,
          0.4914825892277608,
          0.5028431197669272,
          0.5624112944319353,
          0.519639180180816,
          0.4957872106033684,
          0.5435305191854763,
          0.6075827608202665,
          0.6333333833354025,
          0.5291971010044695,
          0.5429808438001826,
          0.622836350606311,
          0.701774181626273,
          0.5830685582218509,
          0.5530722118528267,
          0.5918985444564163,
          0.5632577722660527,
          0.6219940616878724,
          0.5190871466527921,
          0.5045223938475231,
          0.563594216227474,
          0.53934740482341,
          0.6562532937559074,
          0.552002625235591,
          0.5937926497188912,
          0.6081253439886548,
          0.6381961586951562,
          0.5850275005718872,
          0.4956108048515231,
          0.7413707563483929,
          0.5620703292785815,
          0.4972339206439997,
          0.7181944361278982,
          0.5479513849419724,
          0.5133028522770089,
          0.4662387922385351,
          0.5261002093462336,
          0.5971123378174044,
          0.4959081495224936,
          0.4895107415492977,
          0.5628120466194669,
          0.5259673136489587,
          0.4927027237558012,
          0.6743674124599911,
          0.474510167762564,
          0.5804166231487371,
          0.5841028371416096,
          0.5428552496307586,
          0.5546221419621472,
          0.5803926482438772,
          0.6305344867759307,
          0.5430738380310518,
          0.5006500140506437,
          0.5500939768635932,
          0.534405324795382,
          0.4994018049190281,
          0.5863024406546966,
          0.5944686938187577,
          0.6583442792001172,
          0.6208161143973701,
          0.4668793963740955,
          0.5019572238386303,
          0.5698010161329549,
          0.6503340331021283,
          0.538346042941917,
          0.5357482026688742,
          0.5645441212166529,
          0.7846035802497431,
          0.6098269921416496,
          0.5993055321715698,
          0.5878134773039279,
          0.7109432070136366,
          0.5664950136184401,
          0.5618300889176274,
          0.5656239909972838,
          0.5000011082908331,
          0.5428582574208932,
          0.6104652731858824,
          0.6802884537458743,
          0.6564195295054203,
          0.5509654656338874,
          0.501623476568193,
          0.8772045620837281,
          0.5373177169252514,
          0.5101741239332612,
          0.5082505563858922,
          0.9102592781243204,
          0.5291181606389395,
          0.5004934554575664,
          0.6934270027552821,
          0.5471602391947841,
          0.5639780369960644,
          0.5742806425042526,
          0.7178859926498776,
          0.5853877313577073,
          0.5238991757210217,
          0.4567792690521875,
          0.6804738561208689,
          0.8377428097504257,
          0.8793566264108325,
          0.7060346803152794,
          0.6291966145205085,
          0.5973899685010382,
          0.5494435648508371,
          0.4980717575973425,
          0.5314492418274263,
          0.510482364679118,
          0.5316536371273672,
          0.6155194724166718,
          0.5938451380743455,
          0.5106609712075043,
          0.5842196403136932,
          0.5376996099904108,
          0.5118231062610027,
          0.6037748749631926,
          0.663420448586061,
          0.5825627785150281,
          0.6363544022567754,
          0.5258495764687001,
          0.6791336662487348,
          0.5819906186497065,
          0.8822500654868979,
          0.6001456367099044,
          0.5790889885019391,
          0.6341283690291333,
          0.7120063991396234,
          0.6428071618241014,
          0.61418010418624,
          0.5709712275165468,
          0.5593942499920261,
          0.6573295787973804,
          0.6265344425630883,
          0.6198480077006372,
          0.5298217283973524,
          0.589002407370928,
          0.6891837473177973,
          0.6413765556296913,
          0.6271354617228507,
          0.4881426147033315,
          0.6189041004958739,
          0.5884295439776223,
          0.6354771357485465,
          0.5149285243476467,
          0.6147858268684803,
          0.6056968823911435,
          0.670603640162737,
          0.5567412915798444,
          0.5577306475120142,
          0.5263602914111621,
          0.5291722843765406,
          0.538187861875629,
          0.5579733688427027,
          0.6045349081379203,
          0.5989084558879536,
          0.5866649760698169,
          0.8701496579928107,
          0.7986313301129897,
          0.7893418622757635,
          0.6076376205703937,
          0.5605327058111235,
          0.621625785830144,
          0.7593083454526817,
          0.5517547497483162,
          0.8090001838667903,
          0.5382546469115762,
          0.6718106938997419,
          0.6430586020165211,
          0.4660893293329698,
          0.5607039170242627,
          0.3448991078281713,
          0.5870089964729874,
          0.5598985060343166,
          0.5325364467715566,
          0.5100316030319978,
          0.633795516181207,
          0.5054030093489433,
          0.5213829217878456,
          0.3481428588176947,
          0.550476293314188,
          0.4935204250848997,
          0.5542986565395556,
          0.2045761514564592,
          0.5470835067925603,
          0.5508643570137847,
          0.4875501360903386,
          0.4386811493640765,
          0.509129693667676,
          0.6094505914466852,
          0.7514178958724641,
          0.4551581383998356,
          0.6565540802438112,
          0.5606533070811441,
          0.4599384715978591,
          0.4713133540937652,
          0.5779743639773608,
          0.4859756741050452,
          0.4184844368913948,
          0.4560791062181133,
          0.3714321484715111,
          0.572140311074385,
          0.5443525378857765,
          0.4677817873799226,
          0.5968260779051477,
          0.5091099930234041,
          0.537602210146553,
          0.5719620975854371,
          0.5644744587409299,
          0.7000086886937468,
          0.5502629138458528,
          0.548951898423431,
          0.5194834479237789,
          0.612432928057536,
          0.6001979103468043,
          0.5402160022512642,
          0.5531054597698081,
          0.5338453172767763,
          0.5560339299016867,
          0.507331886716142,
          0.5086444168544244,
          0.4879342731866561,
          0.6273574915404889,
          0.7523248926539041,
          0.5150245393458776,
          0.5129326872333554,
          0.7486912612940011,
          0.5385695394444512,
          0.5563457886215619,
          0.469402291608102,
          0.5067919648523079,
          0.4890755739858966,
          0.5024652231151111,
          0.4888900026973697,
          0.3552773605378304,
          0.6393323694210605,
          0.5631661797662252,
          0.6587154359282225,
          0.4360230402636555,
          0.5491060962508792,
          0.5406358919472373,
          0.5113576428717166,
          0.6410924880492571,
          0.5790208969857458,
          0.4780525463506785,
          0.6564272227392912,
          0.4952633581608456,
          0.551429904469263,
          0.5871079828860456,
          0.6081525061487236,
          0.5858538317694946,
          0.5694004331223657,
          0.5000958185619985,
          0.3316301247412835,
          0.5445664164168457,
          0.5110849358078309,
          0.4901308864881025,
          0.6563577724684518,
          0.5594673643117687,
          0.4845325020854522,
          0.5392513519520582,
          0.4862642301726781,
          0.4737855395059596,
          0.4868947057400207,
          0.3159230446952355,
          0.5924492499094474,
          0.5338450575791712,
          0.4420254522684157,
          0.5283568296091911,
          0.4404037073529154,
          0.5566006821649827,
          0.7430923634841904,
          0.5410300109718962,
          0.6901370313902754,
          0.527496389160436,
          0.4992042637654857,
          0.4915021276889124,
          0.5070393670772534,
          0.4841777585009368,
          0.5400973353902961,
          0.3980515402838622,
          0.4753838663119477,
          0.5310787343669707,
          0.5332402692343957,
          0.4864336210311811,
          0.6923994251599929,
          0.5123587584114011,
          0.4425011289342249,
          0.5274821457036792,
          0.5112553351397855,
          0.4766468070719143,
          0.5265283233435214,
          0.5130621234730487,
          0.5140299605159702,
          0.4904805918205741,
          0.5633011169553838,
          0.5749275983238772,
          0.5867589764906971,
          0.57721169723468,
          0.5380039261018333,
          0.5789231289543333,
          0.2162515128306882,
          0.5567040874058508,
          0.5259228652242269,
          0.6480762786695655,
          0.487203721015829,
          0.5095337856569984,
          0.5397292061448354,
          0.5218081057198575,
          0.5469496939013643,
          0.5265580067586818,
          0.6581853120025134,
          0.4913767165834822,
          0.5036996087572178,
          0.4773295607131423,
          0.517496902836078,
          0.5549095287900221,
          0.5926084915768334,
          0.4979201521200563,
          0.4981056701566113,
          0.6109247611251786,
          0.5841301778553116,
          0.5208200459448635,
          0.5094777811596813,
          0.4787792970899202,
          0.5660441821700399,
          0.5164344469721412,
          0.4435038305343312,
          0.5157136959386722,
          0.5431917288594224,
          0.6474021392336523,
          0.5718890963515172,
          0.4106255838733622,
          0.5371596820802964,
          0.4819469820245765,
          0.5418422504748267,
          0.4017386365354206,
          0.5381492888513159,
          0.5034722442337534,
          0.6541598574977119,
          0.5383206164077479,
          0.4725945350171645,
          0.592000743506397,
          0.4989090709199749,
          0.5859895159955014,
          0.3832308218500913,
          0.5137445332153464,
          0.5069667893423275,
          0.4975797432052402,
          0.4535279639745905,
          0.5633661937335571,
          0.512627957209837,
          0.5301257713739276,
          0.5018036105093575,
          0.5281062566774203,
          0.5032304969560971,
          0.5324408205384235,
          0.5374046921508367,
          0.4805902939347823,
          0.492616706301687,
          0.5647907873096119,
          0.5579646318766822,
          0.4064508494591612,
          0.5813097451707149,
          0.62708120570412,
          0.5609734085151069,
          0.6034572397140399,
          0.4736449465224356,
          0.4354452806042706,
          0.5515478199711482,
          0.6340505367076166,
          0.4292059701468181,
          0.5837006260801599,
          0.6213860376916038,
          0.3047886148480309,
          0.4883894808666024,
          0.5005727557850831,
          0.4971743914445783,
          0.5478129083864683,
          0.5752901622097694,
          0.465919580446587,
          0.5496466761681128,
          0.534583909615583,
          0.4888093128110025,
          0.5094840782965085,
          0.5038398327740963,
          0.6174108267527385,
          0.5391002909914308,
          0.4831347169947251,
          0.5620945423448429,
          0.5285284812083908,
          0.567373080315969,
          0.6035106777709203,
          0.5531389885368249,
          0.2706720473668088,
          0.475432696087145,
          0.5539669604281883,
          0.4967951756924898,
          0.4494219705956402,
          0.4595874190786033,
          0.579717990511101,
          0.601356913301583,
          0.6573554904163165,
          0.362586752625578,
          0.7480692808312529,
          0.4766159874067927,
          0.4980940000794659,
          0.4815555537121714,
          0.4065273823894346,
          0.4549869687889347,
          0.5059280899739412,
          0.510117944727573,
          0.4795053515953371,
          0.5017254208068552
         ],
         "yaxis": "y"
        }
       ],
       "layout": {
        "legend": {
         "tracegroupgap": 0
        },
        "template": {
         "data": {
          "bar": [
           {
            "error_x": {
             "color": "#2a3f5f"
            },
            "error_y": {
             "color": "#2a3f5f"
            },
            "marker": {
             "line": {
              "color": "#E5ECF6",
              "width": 0.5
             },
             "pattern": {
              "fillmode": "overlay",
              "size": 10,
              "solidity": 0.2
             }
            },
            "type": "bar"
           }
          ],
          "barpolar": [
           {
            "marker": {
             "line": {
              "color": "#E5ECF6",
              "width": 0.5
             },
             "pattern": {
              "fillmode": "overlay",
              "size": 10,
              "solidity": 0.2
             }
            },
            "type": "barpolar"
           }
          ],
          "carpet": [
           {
            "aaxis": {
             "endlinecolor": "#2a3f5f",
             "gridcolor": "white",
             "linecolor": "white",
             "minorgridcolor": "white",
             "startlinecolor": "#2a3f5f"
            },
            "baxis": {
             "endlinecolor": "#2a3f5f",
             "gridcolor": "white",
             "linecolor": "white",
             "minorgridcolor": "white",
             "startlinecolor": "#2a3f5f"
            },
            "type": "carpet"
           }
          ],
          "choropleth": [
           {
            "colorbar": {
             "outlinewidth": 0,
             "ticks": ""
            },
            "type": "choropleth"
           }
          ],
          "contour": [
           {
            "colorbar": {
             "outlinewidth": 0,
             "ticks": ""
            },
            "colorscale": [
             [
              0,
              "#0d0887"
             ],
             [
              0.1111111111111111,
              "#46039f"
             ],
             [
              0.2222222222222222,
              "#7201a8"
             ],
             [
              0.3333333333333333,
              "#9c179e"
             ],
             [
              0.4444444444444444,
              "#bd3786"
             ],
             [
              0.5555555555555556,
              "#d8576b"
             ],
             [
              0.6666666666666666,
              "#ed7953"
             ],
             [
              0.7777777777777778,
              "#fb9f3a"
             ],
             [
              0.8888888888888888,
              "#fdca26"
             ],
             [
              1,
              "#f0f921"
             ]
            ],
            "type": "contour"
           }
          ],
          "contourcarpet": [
           {
            "colorbar": {
             "outlinewidth": 0,
             "ticks": ""
            },
            "type": "contourcarpet"
           }
          ],
          "heatmap": [
           {
            "colorbar": {
             "outlinewidth": 0,
             "ticks": ""
            },
            "colorscale": [
             [
              0,
              "#0d0887"
             ],
             [
              0.1111111111111111,
              "#46039f"
             ],
             [
              0.2222222222222222,
              "#7201a8"
             ],
             [
              0.3333333333333333,
              "#9c179e"
             ],
             [
              0.4444444444444444,
              "#bd3786"
             ],
             [
              0.5555555555555556,
              "#d8576b"
             ],
             [
              0.6666666666666666,
              "#ed7953"
             ],
             [
              0.7777777777777778,
              "#fb9f3a"
             ],
             [
              0.8888888888888888,
              "#fdca26"
             ],
             [
              1,
              "#f0f921"
             ]
            ],
            "type": "heatmap"
           }
          ],
          "heatmapgl": [
           {
            "colorbar": {
             "outlinewidth": 0,
             "ticks": ""
            },
            "colorscale": [
             [
              0,
              "#0d0887"
             ],
             [
              0.1111111111111111,
              "#46039f"
             ],
             [
              0.2222222222222222,
              "#7201a8"
             ],
             [
              0.3333333333333333,
              "#9c179e"
             ],
             [
              0.4444444444444444,
              "#bd3786"
             ],
             [
              0.5555555555555556,
              "#d8576b"
             ],
             [
              0.6666666666666666,
              "#ed7953"
             ],
             [
              0.7777777777777778,
              "#fb9f3a"
             ],
             [
              0.8888888888888888,
              "#fdca26"
             ],
             [
              1,
              "#f0f921"
             ]
            ],
            "type": "heatmapgl"
           }
          ],
          "histogram": [
           {
            "marker": {
             "pattern": {
              "fillmode": "overlay",
              "size": 10,
              "solidity": 0.2
             }
            },
            "type": "histogram"
           }
          ],
          "histogram2d": [
           {
            "colorbar": {
             "outlinewidth": 0,
             "ticks": ""
            },
            "colorscale": [
             [
              0,
              "#0d0887"
             ],
             [
              0.1111111111111111,
              "#46039f"
             ],
             [
              0.2222222222222222,
              "#7201a8"
             ],
             [
              0.3333333333333333,
              "#9c179e"
             ],
             [
              0.4444444444444444,
              "#bd3786"
             ],
             [
              0.5555555555555556,
              "#d8576b"
             ],
             [
              0.6666666666666666,
              "#ed7953"
             ],
             [
              0.7777777777777778,
              "#fb9f3a"
             ],
             [
              0.8888888888888888,
              "#fdca26"
             ],
             [
              1,
              "#f0f921"
             ]
            ],
            "type": "histogram2d"
           }
          ],
          "histogram2dcontour": [
           {
            "colorbar": {
             "outlinewidth": 0,
             "ticks": ""
            },
            "colorscale": [
             [
              0,
              "#0d0887"
             ],
             [
              0.1111111111111111,
              "#46039f"
             ],
             [
              0.2222222222222222,
              "#7201a8"
             ],
             [
              0.3333333333333333,
              "#9c179e"
             ],
             [
              0.4444444444444444,
              "#bd3786"
             ],
             [
              0.5555555555555556,
              "#d8576b"
             ],
             [
              0.6666666666666666,
              "#ed7953"
             ],
             [
              0.7777777777777778,
              "#fb9f3a"
             ],
             [
              0.8888888888888888,
              "#fdca26"
             ],
             [
              1,
              "#f0f921"
             ]
            ],
            "type": "histogram2dcontour"
           }
          ],
          "mesh3d": [
           {
            "colorbar": {
             "outlinewidth": 0,
             "ticks": ""
            },
            "type": "mesh3d"
           }
          ],
          "parcoords": [
           {
            "line": {
             "colorbar": {
              "outlinewidth": 0,
              "ticks": ""
             }
            },
            "type": "parcoords"
           }
          ],
          "pie": [
           {
            "automargin": true,
            "type": "pie"
           }
          ],
          "scatter": [
           {
            "fillpattern": {
             "fillmode": "overlay",
             "size": 10,
             "solidity": 0.2
            },
            "type": "scatter"
           }
          ],
          "scatter3d": [
           {
            "line": {
             "colorbar": {
              "outlinewidth": 0,
              "ticks": ""
             }
            },
            "marker": {
             "colorbar": {
              "outlinewidth": 0,
              "ticks": ""
             }
            },
            "type": "scatter3d"
           }
          ],
          "scattercarpet": [
           {
            "marker": {
             "colorbar": {
              "outlinewidth": 0,
              "ticks": ""
             }
            },
            "type": "scattercarpet"
           }
          ],
          "scattergeo": [
           {
            "marker": {
             "colorbar": {
              "outlinewidth": 0,
              "ticks": ""
             }
            },
            "type": "scattergeo"
           }
          ],
          "scattergl": [
           {
            "marker": {
             "colorbar": {
              "outlinewidth": 0,
              "ticks": ""
             }
            },
            "type": "scattergl"
           }
          ],
          "scattermapbox": [
           {
            "marker": {
             "colorbar": {
              "outlinewidth": 0,
              "ticks": ""
             }
            },
            "type": "scattermapbox"
           }
          ],
          "scatterpolar": [
           {
            "marker": {
             "colorbar": {
              "outlinewidth": 0,
              "ticks": ""
             }
            },
            "type": "scatterpolar"
           }
          ],
          "scatterpolargl": [
           {
            "marker": {
             "colorbar": {
              "outlinewidth": 0,
              "ticks": ""
             }
            },
            "type": "scatterpolargl"
           }
          ],
          "scatterternary": [
           {
            "marker": {
             "colorbar": {
              "outlinewidth": 0,
              "ticks": ""
             }
            },
            "type": "scatterternary"
           }
          ],
          "surface": [
           {
            "colorbar": {
             "outlinewidth": 0,
             "ticks": ""
            },
            "colorscale": [
             [
              0,
              "#0d0887"
             ],
             [
              0.1111111111111111,
              "#46039f"
             ],
             [
              0.2222222222222222,
              "#7201a8"
             ],
             [
              0.3333333333333333,
              "#9c179e"
             ],
             [
              0.4444444444444444,
              "#bd3786"
             ],
             [
              0.5555555555555556,
              "#d8576b"
             ],
             [
              0.6666666666666666,
              "#ed7953"
             ],
             [
              0.7777777777777778,
              "#fb9f3a"
             ],
             [
              0.8888888888888888,
              "#fdca26"
             ],
             [
              1,
              "#f0f921"
             ]
            ],
            "type": "surface"
           }
          ],
          "table": [
           {
            "cells": {
             "fill": {
              "color": "#EBF0F8"
             },
             "line": {
              "color": "white"
             }
            },
            "header": {
             "fill": {
              "color": "#C8D4E3"
             },
             "line": {
              "color": "white"
             }
            },
            "type": "table"
           }
          ]
         },
         "layout": {
          "annotationdefaults": {
           "arrowcolor": "#2a3f5f",
           "arrowhead": 0,
           "arrowwidth": 1
          },
          "autotypenumbers": "strict",
          "coloraxis": {
           "colorbar": {
            "outlinewidth": 0,
            "ticks": ""
           }
          },
          "colorscale": {
           "diverging": [
            [
             0,
             "#8e0152"
            ],
            [
             0.1,
             "#c51b7d"
            ],
            [
             0.2,
             "#de77ae"
            ],
            [
             0.3,
             "#f1b6da"
            ],
            [
             0.4,
             "#fde0ef"
            ],
            [
             0.5,
             "#f7f7f7"
            ],
            [
             0.6,
             "#e6f5d0"
            ],
            [
             0.7,
             "#b8e186"
            ],
            [
             0.8,
             "#7fbc41"
            ],
            [
             0.9,
             "#4d9221"
            ],
            [
             1,
             "#276419"
            ]
           ],
           "sequential": [
            [
             0,
             "#0d0887"
            ],
            [
             0.1111111111111111,
             "#46039f"
            ],
            [
             0.2222222222222222,
             "#7201a8"
            ],
            [
             0.3333333333333333,
             "#9c179e"
            ],
            [
             0.4444444444444444,
             "#bd3786"
            ],
            [
             0.5555555555555556,
             "#d8576b"
            ],
            [
             0.6666666666666666,
             "#ed7953"
            ],
            [
             0.7777777777777778,
             "#fb9f3a"
            ],
            [
             0.8888888888888888,
             "#fdca26"
            ],
            [
             1,
             "#f0f921"
            ]
           ],
           "sequentialminus": [
            [
             0,
             "#0d0887"
            ],
            [
             0.1111111111111111,
             "#46039f"
            ],
            [
             0.2222222222222222,
             "#7201a8"
            ],
            [
             0.3333333333333333,
             "#9c179e"
            ],
            [
             0.4444444444444444,
             "#bd3786"
            ],
            [
             0.5555555555555556,
             "#d8576b"
            ],
            [
             0.6666666666666666,
             "#ed7953"
            ],
            [
             0.7777777777777778,
             "#fb9f3a"
            ],
            [
             0.8888888888888888,
             "#fdca26"
            ],
            [
             1,
             "#f0f921"
            ]
           ]
          },
          "colorway": [
           "#636efa",
           "#EF553B",
           "#00cc96",
           "#ab63fa",
           "#FFA15A",
           "#19d3f3",
           "#FF6692",
           "#B6E880",
           "#FF97FF",
           "#FECB52"
          ],
          "font": {
           "color": "#2a3f5f"
          },
          "geo": {
           "bgcolor": "white",
           "lakecolor": "white",
           "landcolor": "#E5ECF6",
           "showlakes": true,
           "showland": true,
           "subunitcolor": "white"
          },
          "hoverlabel": {
           "align": "left"
          },
          "hovermode": "closest",
          "mapbox": {
           "style": "light"
          },
          "paper_bgcolor": "white",
          "plot_bgcolor": "#E5ECF6",
          "polar": {
           "angularaxis": {
            "gridcolor": "white",
            "linecolor": "white",
            "ticks": ""
           },
           "bgcolor": "#E5ECF6",
           "radialaxis": {
            "gridcolor": "white",
            "linecolor": "white",
            "ticks": ""
           }
          },
          "scene": {
           "xaxis": {
            "backgroundcolor": "#E5ECF6",
            "gridcolor": "white",
            "gridwidth": 2,
            "linecolor": "white",
            "showbackground": true,
            "ticks": "",
            "zerolinecolor": "white"
           },
           "yaxis": {
            "backgroundcolor": "#E5ECF6",
            "gridcolor": "white",
            "gridwidth": 2,
            "linecolor": "white",
            "showbackground": true,
            "ticks": "",
            "zerolinecolor": "white"
           },
           "zaxis": {
            "backgroundcolor": "#E5ECF6",
            "gridcolor": "white",
            "gridwidth": 2,
            "linecolor": "white",
            "showbackground": true,
            "ticks": "",
            "zerolinecolor": "white"
           }
          },
          "shapedefaults": {
           "line": {
            "color": "#2a3f5f"
           }
          },
          "ternary": {
           "aaxis": {
            "gridcolor": "white",
            "linecolor": "white",
            "ticks": ""
           },
           "baxis": {
            "gridcolor": "white",
            "linecolor": "white",
            "ticks": ""
           },
           "bgcolor": "#E5ECF6",
           "caxis": {
            "gridcolor": "white",
            "linecolor": "white",
            "ticks": ""
           }
          },
          "title": {
           "x": 0.05
          },
          "xaxis": {
           "automargin": true,
           "gridcolor": "white",
           "linecolor": "white",
           "ticks": "",
           "title": {
            "standoff": 15
           },
           "zerolinecolor": "white",
           "zerolinewidth": 2
          },
          "yaxis": {
           "automargin": true,
           "gridcolor": "white",
           "linecolor": "white",
           "ticks": "",
           "title": {
            "standoff": 15
           },
           "zerolinecolor": "white",
           "zerolinewidth": 2
          }
         }
        },
        "title": {
         "text": "Ripples - Session: kdiba_pin01_one_fet11"
        },
        "xaxis": {
         "anchor": "y",
         "domain": [
          0,
          1
         ],
         "title": {
          "text": "ripple_start_t"
         }
        },
        "yaxis": {
         "anchor": "x",
         "domain": [
          0,
          1
         ],
         "title": {
          "text": "P_Long"
         }
        }
       }
      }
     },
     "metadata": {},
     "output_type": "display_data"
    },
    {
     "data": {
      "application/vnd.plotly.v1+json": {
       "config": {
        "plotlyServerURL": "https://plot.ly"
       },
       "data": [
        {
         "hovertemplate": "lap_start_t=%{x}<br>P_Long=%{y}<extra></extra>",
         "legendgroup": "",
         "marker": {
          "color": "#636efa",
          "symbol": "circle"
         },
         "mode": "markers",
         "name": "",
         "orientation": "v",
         "showlegend": false,
         "type": "scatter",
         "x": [
          35.66246300000057,
          55.54917299999215,
          102.53001299999596,
          140.46945599999162,
          159.88720399999875,
          182.74421699999948,
          197.95900000000256,
          213.30934799999525,
          216.9793229999923,
          229.4257780000044,
          243.30492599999707,
          275.40486700000474,
          295.4586019999988,
          307.9028529999923,
          358.1878169999982,
          382.84678399999393,
          427.5585370000044,
          446.1756800000003,
          473.9381339999964,
          487.58592299999145,
          503.56681799999205,
          513.2438929999917,
          524.2552889999934,
          535.1658909999969,
          545.5429149999982,
          559.5912870000029,
          582.679999,
          588.3869669999985,
          596.6286149999942,
          609.8745209999906,
          615.213281999997,
          642.5419450000045,
          652.6842380000016,
          669.4020940000046,
          688.9223570000031,
          696.6961480000027,
          714.8806360000017,
          741.6076210000028,
          752.6196610000043,
          771.472133999996,
          780.0800119999913,
          790.0568889999995,
          799.7662980000023,
          858.9924319999991,
          920.2873739999924,
          938.6048789999912,
          958.5586049999984,
          982.5160909999976,
          993.5958339999924,
          1004.3058279999968,
          1039.940804999991,
          1055.9916499999963,
          1079.949219999995,
          1088.1902239999908,
          1095.9651650000014,
          1111.614512,
          1118.620419999992,
          1130.3663789999991,
          1134.736646999998,
          1150.552802999999,
          1159.1286589999945,
          1166.5011419999937,
          1175.6121189999976,
          1188.7245750000002,
          1199.434613999998,
          1217.8867349999928,
          1224.1940069999982,
          1232.6693359999915,
          1240.409262999994,
          1251.0876509999944,
          1261.6653209999931,
          1269.839638999998,
          1273.943367999993,
          1282.686183999991,
          1286.6889359999914,
          1294.8989069999952,
          1300.5708119999908,
          1311.0140180000017,
          1320.0571510000009,
          1334.1043380000046,
          1339.9102049999929,
          1346.9514999999956,
          1353.623332999996,
          1361.1313119999977,
          1373.8113909999956,
          1382.453628000003
         ],
         "xaxis": "x",
         "y": [
          0.5241570801400908,
          0.6899268379150912,
          0.7546388396194205,
          0.6559366335902489,
          0.7510306437275783,
          0.6480064326652079,
          0.7781922783425924,
          0.5993515157948437,
          0.4980627517681308,
          0.8034231654240911,
          0.6359050296015755,
          0.7397444712133491,
          0.6599848722296323,
          0.6518603986946332,
          0.7039764796169987,
          0.6446210745863665,
          0.7957643744414841,
          0.5752546256897908,
          0.6121450309131707,
          0.6455176217867981,
          0.6755649817989704,
          0.6581048021526201,
          0.7044575692167208,
          0.6056789187378135,
          0.7195155325085809,
          0.5184085522073345,
          0.5279014630907205,
          0.6391812298841055,
          0.6763935259661042,
          0.5665915019950314,
          0.6480988173254983,
          0.6802446597167049,
          0.6795896505861787,
          0.6181741485120554,
          0.7046195192429022,
          0.6082002014152607,
          0.6997801409232116,
          0.6131991340117919,
          0.6755079150751304,
          0.5804928117187457,
          0.8491690809892113,
          0.5371960221236238,
          0.6827207404989478,
          0.5608110125787638,
          0.4845032456440801,
          0.409995239903028,
          0.2342197011520542,
          0.3422084256005875,
          0.1952963077525789,
          0.331835750263739,
          0.2927701743997088,
          0.3242620062963285,
          0.1664838025298827,
          0.3543293908788175,
          0.1964003916859002,
          0.3940567038971218,
          0.2648817452381637,
          0.358718929310079,
          0.2618327588336595,
          0.3767010076027662,
          0.1822879995727644,
          0.3236172175484195,
          0.2757106846749642,
          0.315142662495208,
          0.3530761245820395,
          0.2653184782744545,
          0.2566929968455441,
          0.3347838624774864,
          0.2764020425978365,
          0.4244030719019523,
          0.1898189289423159,
          0.3655088162886495,
          0.2264308154979717,
          0.3196897465514719,
          0.299238524433653,
          0.2781469922552532,
          0.3038689038250776,
          0.3239482934276964,
          0.2181373189213469,
          0.325068094666593,
          0.2874993343096752,
          0.3260934927007112,
          0.3032712086516321,
          0.2943624182605759,
          0.2066887861087639,
          0.3554628673730463
         ],
         "yaxis": "y"
        }
       ],
       "layout": {
        "legend": {
         "tracegroupgap": 0
        },
        "template": {
         "data": {
          "bar": [
           {
            "error_x": {
             "color": "#2a3f5f"
            },
            "error_y": {
             "color": "#2a3f5f"
            },
            "marker": {
             "line": {
              "color": "#E5ECF6",
              "width": 0.5
             },
             "pattern": {
              "fillmode": "overlay",
              "size": 10,
              "solidity": 0.2
             }
            },
            "type": "bar"
           }
          ],
          "barpolar": [
           {
            "marker": {
             "line": {
              "color": "#E5ECF6",
              "width": 0.5
             },
             "pattern": {
              "fillmode": "overlay",
              "size": 10,
              "solidity": 0.2
             }
            },
            "type": "barpolar"
           }
          ],
          "carpet": [
           {
            "aaxis": {
             "endlinecolor": "#2a3f5f",
             "gridcolor": "white",
             "linecolor": "white",
             "minorgridcolor": "white",
             "startlinecolor": "#2a3f5f"
            },
            "baxis": {
             "endlinecolor": "#2a3f5f",
             "gridcolor": "white",
             "linecolor": "white",
             "minorgridcolor": "white",
             "startlinecolor": "#2a3f5f"
            },
            "type": "carpet"
           }
          ],
          "choropleth": [
           {
            "colorbar": {
             "outlinewidth": 0,
             "ticks": ""
            },
            "type": "choropleth"
           }
          ],
          "contour": [
           {
            "colorbar": {
             "outlinewidth": 0,
             "ticks": ""
            },
            "colorscale": [
             [
              0,
              "#0d0887"
             ],
             [
              0.1111111111111111,
              "#46039f"
             ],
             [
              0.2222222222222222,
              "#7201a8"
             ],
             [
              0.3333333333333333,
              "#9c179e"
             ],
             [
              0.4444444444444444,
              "#bd3786"
             ],
             [
              0.5555555555555556,
              "#d8576b"
             ],
             [
              0.6666666666666666,
              "#ed7953"
             ],
             [
              0.7777777777777778,
              "#fb9f3a"
             ],
             [
              0.8888888888888888,
              "#fdca26"
             ],
             [
              1,
              "#f0f921"
             ]
            ],
            "type": "contour"
           }
          ],
          "contourcarpet": [
           {
            "colorbar": {
             "outlinewidth": 0,
             "ticks": ""
            },
            "type": "contourcarpet"
           }
          ],
          "heatmap": [
           {
            "colorbar": {
             "outlinewidth": 0,
             "ticks": ""
            },
            "colorscale": [
             [
              0,
              "#0d0887"
             ],
             [
              0.1111111111111111,
              "#46039f"
             ],
             [
              0.2222222222222222,
              "#7201a8"
             ],
             [
              0.3333333333333333,
              "#9c179e"
             ],
             [
              0.4444444444444444,
              "#bd3786"
             ],
             [
              0.5555555555555556,
              "#d8576b"
             ],
             [
              0.6666666666666666,
              "#ed7953"
             ],
             [
              0.7777777777777778,
              "#fb9f3a"
             ],
             [
              0.8888888888888888,
              "#fdca26"
             ],
             [
              1,
              "#f0f921"
             ]
            ],
            "type": "heatmap"
           }
          ],
          "heatmapgl": [
           {
            "colorbar": {
             "outlinewidth": 0,
             "ticks": ""
            },
            "colorscale": [
             [
              0,
              "#0d0887"
             ],
             [
              0.1111111111111111,
              "#46039f"
             ],
             [
              0.2222222222222222,
              "#7201a8"
             ],
             [
              0.3333333333333333,
              "#9c179e"
             ],
             [
              0.4444444444444444,
              "#bd3786"
             ],
             [
              0.5555555555555556,
              "#d8576b"
             ],
             [
              0.6666666666666666,
              "#ed7953"
             ],
             [
              0.7777777777777778,
              "#fb9f3a"
             ],
             [
              0.8888888888888888,
              "#fdca26"
             ],
             [
              1,
              "#f0f921"
             ]
            ],
            "type": "heatmapgl"
           }
          ],
          "histogram": [
           {
            "marker": {
             "pattern": {
              "fillmode": "overlay",
              "size": 10,
              "solidity": 0.2
             }
            },
            "type": "histogram"
           }
          ],
          "histogram2d": [
           {
            "colorbar": {
             "outlinewidth": 0,
             "ticks": ""
            },
            "colorscale": [
             [
              0,
              "#0d0887"
             ],
             [
              0.1111111111111111,
              "#46039f"
             ],
             [
              0.2222222222222222,
              "#7201a8"
             ],
             [
              0.3333333333333333,
              "#9c179e"
             ],
             [
              0.4444444444444444,
              "#bd3786"
             ],
             [
              0.5555555555555556,
              "#d8576b"
             ],
             [
              0.6666666666666666,
              "#ed7953"
             ],
             [
              0.7777777777777778,
              "#fb9f3a"
             ],
             [
              0.8888888888888888,
              "#fdca26"
             ],
             [
              1,
              "#f0f921"
             ]
            ],
            "type": "histogram2d"
           }
          ],
          "histogram2dcontour": [
           {
            "colorbar": {
             "outlinewidth": 0,
             "ticks": ""
            },
            "colorscale": [
             [
              0,
              "#0d0887"
             ],
             [
              0.1111111111111111,
              "#46039f"
             ],
             [
              0.2222222222222222,
              "#7201a8"
             ],
             [
              0.3333333333333333,
              "#9c179e"
             ],
             [
              0.4444444444444444,
              "#bd3786"
             ],
             [
              0.5555555555555556,
              "#d8576b"
             ],
             [
              0.6666666666666666,
              "#ed7953"
             ],
             [
              0.7777777777777778,
              "#fb9f3a"
             ],
             [
              0.8888888888888888,
              "#fdca26"
             ],
             [
              1,
              "#f0f921"
             ]
            ],
            "type": "histogram2dcontour"
           }
          ],
          "mesh3d": [
           {
            "colorbar": {
             "outlinewidth": 0,
             "ticks": ""
            },
            "type": "mesh3d"
           }
          ],
          "parcoords": [
           {
            "line": {
             "colorbar": {
              "outlinewidth": 0,
              "ticks": ""
             }
            },
            "type": "parcoords"
           }
          ],
          "pie": [
           {
            "automargin": true,
            "type": "pie"
           }
          ],
          "scatter": [
           {
            "fillpattern": {
             "fillmode": "overlay",
             "size": 10,
             "solidity": 0.2
            },
            "type": "scatter"
           }
          ],
          "scatter3d": [
           {
            "line": {
             "colorbar": {
              "outlinewidth": 0,
              "ticks": ""
             }
            },
            "marker": {
             "colorbar": {
              "outlinewidth": 0,
              "ticks": ""
             }
            },
            "type": "scatter3d"
           }
          ],
          "scattercarpet": [
           {
            "marker": {
             "colorbar": {
              "outlinewidth": 0,
              "ticks": ""
             }
            },
            "type": "scattercarpet"
           }
          ],
          "scattergeo": [
           {
            "marker": {
             "colorbar": {
              "outlinewidth": 0,
              "ticks": ""
             }
            },
            "type": "scattergeo"
           }
          ],
          "scattergl": [
           {
            "marker": {
             "colorbar": {
              "outlinewidth": 0,
              "ticks": ""
             }
            },
            "type": "scattergl"
           }
          ],
          "scattermapbox": [
           {
            "marker": {
             "colorbar": {
              "outlinewidth": 0,
              "ticks": ""
             }
            },
            "type": "scattermapbox"
           }
          ],
          "scatterpolar": [
           {
            "marker": {
             "colorbar": {
              "outlinewidth": 0,
              "ticks": ""
             }
            },
            "type": "scatterpolar"
           }
          ],
          "scatterpolargl": [
           {
            "marker": {
             "colorbar": {
              "outlinewidth": 0,
              "ticks": ""
             }
            },
            "type": "scatterpolargl"
           }
          ],
          "scatterternary": [
           {
            "marker": {
             "colorbar": {
              "outlinewidth": 0,
              "ticks": ""
             }
            },
            "type": "scatterternary"
           }
          ],
          "surface": [
           {
            "colorbar": {
             "outlinewidth": 0,
             "ticks": ""
            },
            "colorscale": [
             [
              0,
              "#0d0887"
             ],
             [
              0.1111111111111111,
              "#46039f"
             ],
             [
              0.2222222222222222,
              "#7201a8"
             ],
             [
              0.3333333333333333,
              "#9c179e"
             ],
             [
              0.4444444444444444,
              "#bd3786"
             ],
             [
              0.5555555555555556,
              "#d8576b"
             ],
             [
              0.6666666666666666,
              "#ed7953"
             ],
             [
              0.7777777777777778,
              "#fb9f3a"
             ],
             [
              0.8888888888888888,
              "#fdca26"
             ],
             [
              1,
              "#f0f921"
             ]
            ],
            "type": "surface"
           }
          ],
          "table": [
           {
            "cells": {
             "fill": {
              "color": "#EBF0F8"
             },
             "line": {
              "color": "white"
             }
            },
            "header": {
             "fill": {
              "color": "#C8D4E3"
             },
             "line": {
              "color": "white"
             }
            },
            "type": "table"
           }
          ]
         },
         "layout": {
          "annotationdefaults": {
           "arrowcolor": "#2a3f5f",
           "arrowhead": 0,
           "arrowwidth": 1
          },
          "autotypenumbers": "strict",
          "coloraxis": {
           "colorbar": {
            "outlinewidth": 0,
            "ticks": ""
           }
          },
          "colorscale": {
           "diverging": [
            [
             0,
             "#8e0152"
            ],
            [
             0.1,
             "#c51b7d"
            ],
            [
             0.2,
             "#de77ae"
            ],
            [
             0.3,
             "#f1b6da"
            ],
            [
             0.4,
             "#fde0ef"
            ],
            [
             0.5,
             "#f7f7f7"
            ],
            [
             0.6,
             "#e6f5d0"
            ],
            [
             0.7,
             "#b8e186"
            ],
            [
             0.8,
             "#7fbc41"
            ],
            [
             0.9,
             "#4d9221"
            ],
            [
             1,
             "#276419"
            ]
           ],
           "sequential": [
            [
             0,
             "#0d0887"
            ],
            [
             0.1111111111111111,
             "#46039f"
            ],
            [
             0.2222222222222222,
             "#7201a8"
            ],
            [
             0.3333333333333333,
             "#9c179e"
            ],
            [
             0.4444444444444444,
             "#bd3786"
            ],
            [
             0.5555555555555556,
             "#d8576b"
            ],
            [
             0.6666666666666666,
             "#ed7953"
            ],
            [
             0.7777777777777778,
             "#fb9f3a"
            ],
            [
             0.8888888888888888,
             "#fdca26"
            ],
            [
             1,
             "#f0f921"
            ]
           ],
           "sequentialminus": [
            [
             0,
             "#0d0887"
            ],
            [
             0.1111111111111111,
             "#46039f"
            ],
            [
             0.2222222222222222,
             "#7201a8"
            ],
            [
             0.3333333333333333,
             "#9c179e"
            ],
            [
             0.4444444444444444,
             "#bd3786"
            ],
            [
             0.5555555555555556,
             "#d8576b"
            ],
            [
             0.6666666666666666,
             "#ed7953"
            ],
            [
             0.7777777777777778,
             "#fb9f3a"
            ],
            [
             0.8888888888888888,
             "#fdca26"
            ],
            [
             1,
             "#f0f921"
            ]
           ]
          },
          "colorway": [
           "#636efa",
           "#EF553B",
           "#00cc96",
           "#ab63fa",
           "#FFA15A",
           "#19d3f3",
           "#FF6692",
           "#B6E880",
           "#FF97FF",
           "#FECB52"
          ],
          "font": {
           "color": "#2a3f5f"
          },
          "geo": {
           "bgcolor": "white",
           "lakecolor": "white",
           "landcolor": "#E5ECF6",
           "showlakes": true,
           "showland": true,
           "subunitcolor": "white"
          },
          "hoverlabel": {
           "align": "left"
          },
          "hovermode": "closest",
          "mapbox": {
           "style": "light"
          },
          "paper_bgcolor": "white",
          "plot_bgcolor": "#E5ECF6",
          "polar": {
           "angularaxis": {
            "gridcolor": "white",
            "linecolor": "white",
            "ticks": ""
           },
           "bgcolor": "#E5ECF6",
           "radialaxis": {
            "gridcolor": "white",
            "linecolor": "white",
            "ticks": ""
           }
          },
          "scene": {
           "xaxis": {
            "backgroundcolor": "#E5ECF6",
            "gridcolor": "white",
            "gridwidth": 2,
            "linecolor": "white",
            "showbackground": true,
            "ticks": "",
            "zerolinecolor": "white"
           },
           "yaxis": {
            "backgroundcolor": "#E5ECF6",
            "gridcolor": "white",
            "gridwidth": 2,
            "linecolor": "white",
            "showbackground": true,
            "ticks": "",
            "zerolinecolor": "white"
           },
           "zaxis": {
            "backgroundcolor": "#E5ECF6",
            "gridcolor": "white",
            "gridwidth": 2,
            "linecolor": "white",
            "showbackground": true,
            "ticks": "",
            "zerolinecolor": "white"
           }
          },
          "shapedefaults": {
           "line": {
            "color": "#2a3f5f"
           }
          },
          "ternary": {
           "aaxis": {
            "gridcolor": "white",
            "linecolor": "white",
            "ticks": ""
           },
           "baxis": {
            "gridcolor": "white",
            "linecolor": "white",
            "ticks": ""
           },
           "bgcolor": "#E5ECF6",
           "caxis": {
            "gridcolor": "white",
            "linecolor": "white",
            "ticks": ""
           }
          },
          "title": {
           "x": 0.05
          },
          "xaxis": {
           "automargin": true,
           "gridcolor": "white",
           "linecolor": "white",
           "ticks": "",
           "title": {
            "standoff": 15
           },
           "zerolinecolor": "white",
           "zerolinewidth": 2
          },
          "yaxis": {
           "automargin": true,
           "gridcolor": "white",
           "linecolor": "white",
           "ticks": "",
           "title": {
            "standoff": 15
           },
           "zerolinecolor": "white",
           "zerolinewidth": 2
          }
         }
        },
        "title": {
         "text": "Laps - Session: kdiba_vvp01_one_2006"
        },
        "xaxis": {
         "anchor": "y",
         "domain": [
          0,
          1
         ],
         "title": {
          "text": "lap_start_t"
         }
        },
        "yaxis": {
         "anchor": "x",
         "domain": [
          0,
          1
         ],
         "title": {
          "text": "P_Long"
         }
        }
       }
      }
     },
     "metadata": {},
     "output_type": "display_data"
    },
    {
     "data": {
      "application/vnd.plotly.v1+json": {
       "config": {
        "plotlyServerURL": "https://plot.ly"
       },
       "data": [
        {
         "hovertemplate": "ripple_start_t=%{x}<br>P_Long=%{y}<extra></extra>",
         "legendgroup": "",
         "marker": {
          "color": "#636efa",
          "symbol": "circle"
         },
         "mode": "markers",
         "name": "",
         "orientation": "v",
         "showlegend": false,
         "type": "scatter",
         "x": [
          80.50359270216723,
          89.9441510685865,
          101.45520565494373,
          124.52981528073724,
          157.37912454188336,
          159.0025221107062,
          195.3511447802157,
          234.75290380652584,
          239.5232872840716,
          260.01827839064936,
          262.079742935166,
          264.5174044070882,
          265.8312674143963,
          267.33264520569355,
          317.35464071441675,
          318.0728125067108,
          318.7167955370096,
          319.90292484971,
          328.8505196285405,
          332.9861975110689,
          345.3959345172916,
          346.3585759444104,
          349.5439311135124,
          356.0717434512626,
          356.65170603433216,
          362.42276227954426,
          364.8400564018957,
          369.2739331717603,
          374.3399657779373,
          378.8919608873112,
          379.8613299910066,
          395.24669683369575,
          421.526629618369,
          508.3566651613946,
          577.7830923350557,
          580.2094488527655,
          581.0318842716806,
          587.8370059074514,
          624.831823446104,
          665.8671483560174,
          666.3671468200191,
          681.2870751810115,
          694.7980314634187,
          723.5578042584093,
          748.4607751880831,
          760.4729034378688,
          816.7599325389165,
          825.7688751263486,
          828.5404013873194,
          835.9194644892268,
          836.6001271807472,
          837.7147403700656,
          845.1611723974784,
          846.2105363402079,
          847.5906930735655,
          853.3873390656954,
          853.8740357764909,
          855.7408892206586,
          868.8786591341341,
          872.931915298861,
          881.325843801169,
          882.1261915513896,
          887.3533504750812,
          894.5254530429665,
          897.6654040753201,
          900.1251839359174,
          902.7963787282642,
          905.21717492881,
          908.0444272412568,
          930.561530592502,
          956.9765391480178,
          963.7671916712134,
          965.2305074019824,
          970.3422513447732,
          971.1593722064137,
          972.1738689669874,
          998.0514621176408,
          1013.8985810439336,
          1017.2320679771948,
          1019.3232694664912,
          1019.813867615303,
          1021.4443615004856,
          1022.431886114864,
          1023.0759305851244,
          1024.169531305204,
          1027.6481394441507,
          1029.5029813744768,
          1034.661419693366,
          1045.9575879897166,
          1048.1676450981613,
          1054.074667993773,
          1065.716743313038,
          1066.555429603628,
          1067.6782757487235,
          1069.4767772278865,
          1071.6576196313108,
          1073.5199265177944,
          1077.5235391879396,
          1101.046998503938,
          1102.9987927046168,
          1103.7724755085071,
          1109.531213040027,
          1115.2785534573777,
          1134.1773649011884,
          1164.378273598326,
          1172.139923384355,
          1181.8358877000285,
          1197.6886898233934,
          1207.4110426055413,
          1208.1932655650453,
          1222.4253120382346,
          1223.07774306419,
          1229.700818073179,
          1257.2898829875776,
          1258.0110653383308,
          1265.0202598296164,
          1279.9572377818986,
          1300.1751960702968,
          1315.480813833812,
          1330.3308235106233,
          1346.081082326491,
          1352.037195756959,
          1369.0021227509133,
          1387.2449703705788
         ],
         "xaxis": "x",
         "y": [
          0.7443084378063957,
          0.5524819343352937,
          0.8306225904114193,
          0.5827699610954835,
          0.646315176960359,
          0.4848532767807771,
          0.603795434492398,
          0.5046497625175738,
          0.5462176586303702,
          0.6506142614576256,
          0.5144296781043391,
          0.6214743319582792,
          0.4755191597443005,
          0.6510134845784028,
          0.5106373834497498,
          0.519117080230931,
          0.7880540946729988,
          0.6859625300646214,
          0.5233155446277797,
          0.6918062833688796,
          0.7093400336669592,
          0.7674756129848018,
          0.6956279974666434,
          0.5466364445248333,
          0.5723916856701364,
          0.5473951887547639,
          0.5320735705822723,
          0.5350180030076715,
          0.6631359037035373,
          0.6129140214452272,
          0.5033820569371653,
          0.5316943926265655,
          0.6539992634633567,
          0.6572151527156309,
          0.740337388789273,
          0.5570122274000886,
          0.6429864767217377,
          0.5615910597499748,
          0.5487706290826433,
          0.5425024578252514,
          0.5288211380967828,
          0.6433616689912695,
          0.5612092153443711,
          0.2707594202338559,
          0.6029267453185185,
          0.5548816911427088,
          0.6488548369854741,
          0.5518631195568984,
          0.6245962080149982,
          0.5442657366372484,
          0.675084544417857,
          0.5071434199337516,
          0.8480647949252039,
          0.6026333538823663,
          0.6486987996949429,
          0.6587807682020707,
          0.408745077543558,
          0.647531915978631,
          0.7102453881146513,
          0.4582948084789421,
          0.5833969396065888,
          0.5129358133290546,
          0.6907438460600521,
          0.5953196810541597,
          0.6904910513761056,
          0.628294306063763,
          0.6330130513995431,
          0.6540198907354622,
          0.7230550047343095,
          0.4638866886368353,
          0.6650239243182455,
          0.5362838814725212,
          0.4890451081755943,
          0.3547931747273624,
          0.6655496435153917,
          0.4830702825349043,
          0.5209621002373266,
          0.4909269308030601,
          0.76448326186718,
          0.5110392804480133,
          0.7164564015957274,
          0.6208636014508064,
          0.1715321712513829,
          0.5301834878169394,
          0.4529904624611486,
          0.4836028517050144,
          0.530108200547247,
          0.578120985189763,
          0.4373162073321298,
          0.552079220805126,
          0.5805497417743504,
          0.5189286616239547,
          0.5028644580256619,
          0.5196316540994843,
          0.8700423603331693,
          0.4226860662928743,
          0.535441279055967,
          0.6497958157750181,
          0.4945877419733137,
          0.3055188992693667,
          0.4820545635942726,
          0.4228267968643673,
          0.9077101945561123,
          0.5778617802835226,
          0.4678171033852961,
          0.4883847256276042,
          0.3316002435987622,
          0.527487928853562,
          0.4858953532663491,
          0.5605285689333829,
          0.7201696266745274,
          0.8926089842186283,
          0.3769756201010862,
          0.5624559676000933,
          0.6192591578774382,
          0.510499968039789,
          0.5060793869566819,
          0.535940557168838,
          0.4794778399753018,
          0.5800780330225687,
          0.5274663987200843,
          0.5094769323633063,
          0.8032020027749944,
          0.4862179947721678
         ],
         "yaxis": "y"
        }
       ],
       "layout": {
        "legend": {
         "tracegroupgap": 0
        },
        "template": {
         "data": {
          "bar": [
           {
            "error_x": {
             "color": "#2a3f5f"
            },
            "error_y": {
             "color": "#2a3f5f"
            },
            "marker": {
             "line": {
              "color": "#E5ECF6",
              "width": 0.5
             },
             "pattern": {
              "fillmode": "overlay",
              "size": 10,
              "solidity": 0.2
             }
            },
            "type": "bar"
           }
          ],
          "barpolar": [
           {
            "marker": {
             "line": {
              "color": "#E5ECF6",
              "width": 0.5
             },
             "pattern": {
              "fillmode": "overlay",
              "size": 10,
              "solidity": 0.2
             }
            },
            "type": "barpolar"
           }
          ],
          "carpet": [
           {
            "aaxis": {
             "endlinecolor": "#2a3f5f",
             "gridcolor": "white",
             "linecolor": "white",
             "minorgridcolor": "white",
             "startlinecolor": "#2a3f5f"
            },
            "baxis": {
             "endlinecolor": "#2a3f5f",
             "gridcolor": "white",
             "linecolor": "white",
             "minorgridcolor": "white",
             "startlinecolor": "#2a3f5f"
            },
            "type": "carpet"
           }
          ],
          "choropleth": [
           {
            "colorbar": {
             "outlinewidth": 0,
             "ticks": ""
            },
            "type": "choropleth"
           }
          ],
          "contour": [
           {
            "colorbar": {
             "outlinewidth": 0,
             "ticks": ""
            },
            "colorscale": [
             [
              0,
              "#0d0887"
             ],
             [
              0.1111111111111111,
              "#46039f"
             ],
             [
              0.2222222222222222,
              "#7201a8"
             ],
             [
              0.3333333333333333,
              "#9c179e"
             ],
             [
              0.4444444444444444,
              "#bd3786"
             ],
             [
              0.5555555555555556,
              "#d8576b"
             ],
             [
              0.6666666666666666,
              "#ed7953"
             ],
             [
              0.7777777777777778,
              "#fb9f3a"
             ],
             [
              0.8888888888888888,
              "#fdca26"
             ],
             [
              1,
              "#f0f921"
             ]
            ],
            "type": "contour"
           }
          ],
          "contourcarpet": [
           {
            "colorbar": {
             "outlinewidth": 0,
             "ticks": ""
            },
            "type": "contourcarpet"
           }
          ],
          "heatmap": [
           {
            "colorbar": {
             "outlinewidth": 0,
             "ticks": ""
            },
            "colorscale": [
             [
              0,
              "#0d0887"
             ],
             [
              0.1111111111111111,
              "#46039f"
             ],
             [
              0.2222222222222222,
              "#7201a8"
             ],
             [
              0.3333333333333333,
              "#9c179e"
             ],
             [
              0.4444444444444444,
              "#bd3786"
             ],
             [
              0.5555555555555556,
              "#d8576b"
             ],
             [
              0.6666666666666666,
              "#ed7953"
             ],
             [
              0.7777777777777778,
              "#fb9f3a"
             ],
             [
              0.8888888888888888,
              "#fdca26"
             ],
             [
              1,
              "#f0f921"
             ]
            ],
            "type": "heatmap"
           }
          ],
          "heatmapgl": [
           {
            "colorbar": {
             "outlinewidth": 0,
             "ticks": ""
            },
            "colorscale": [
             [
              0,
              "#0d0887"
             ],
             [
              0.1111111111111111,
              "#46039f"
             ],
             [
              0.2222222222222222,
              "#7201a8"
             ],
             [
              0.3333333333333333,
              "#9c179e"
             ],
             [
              0.4444444444444444,
              "#bd3786"
             ],
             [
              0.5555555555555556,
              "#d8576b"
             ],
             [
              0.6666666666666666,
              "#ed7953"
             ],
             [
              0.7777777777777778,
              "#fb9f3a"
             ],
             [
              0.8888888888888888,
              "#fdca26"
             ],
             [
              1,
              "#f0f921"
             ]
            ],
            "type": "heatmapgl"
           }
          ],
          "histogram": [
           {
            "marker": {
             "pattern": {
              "fillmode": "overlay",
              "size": 10,
              "solidity": 0.2
             }
            },
            "type": "histogram"
           }
          ],
          "histogram2d": [
           {
            "colorbar": {
             "outlinewidth": 0,
             "ticks": ""
            },
            "colorscale": [
             [
              0,
              "#0d0887"
             ],
             [
              0.1111111111111111,
              "#46039f"
             ],
             [
              0.2222222222222222,
              "#7201a8"
             ],
             [
              0.3333333333333333,
              "#9c179e"
             ],
             [
              0.4444444444444444,
              "#bd3786"
             ],
             [
              0.5555555555555556,
              "#d8576b"
             ],
             [
              0.6666666666666666,
              "#ed7953"
             ],
             [
              0.7777777777777778,
              "#fb9f3a"
             ],
             [
              0.8888888888888888,
              "#fdca26"
             ],
             [
              1,
              "#f0f921"
             ]
            ],
            "type": "histogram2d"
           }
          ],
          "histogram2dcontour": [
           {
            "colorbar": {
             "outlinewidth": 0,
             "ticks": ""
            },
            "colorscale": [
             [
              0,
              "#0d0887"
             ],
             [
              0.1111111111111111,
              "#46039f"
             ],
             [
              0.2222222222222222,
              "#7201a8"
             ],
             [
              0.3333333333333333,
              "#9c179e"
             ],
             [
              0.4444444444444444,
              "#bd3786"
             ],
             [
              0.5555555555555556,
              "#d8576b"
             ],
             [
              0.6666666666666666,
              "#ed7953"
             ],
             [
              0.7777777777777778,
              "#fb9f3a"
             ],
             [
              0.8888888888888888,
              "#fdca26"
             ],
             [
              1,
              "#f0f921"
             ]
            ],
            "type": "histogram2dcontour"
           }
          ],
          "mesh3d": [
           {
            "colorbar": {
             "outlinewidth": 0,
             "ticks": ""
            },
            "type": "mesh3d"
           }
          ],
          "parcoords": [
           {
            "line": {
             "colorbar": {
              "outlinewidth": 0,
              "ticks": ""
             }
            },
            "type": "parcoords"
           }
          ],
          "pie": [
           {
            "automargin": true,
            "type": "pie"
           }
          ],
          "scatter": [
           {
            "fillpattern": {
             "fillmode": "overlay",
             "size": 10,
             "solidity": 0.2
            },
            "type": "scatter"
           }
          ],
          "scatter3d": [
           {
            "line": {
             "colorbar": {
              "outlinewidth": 0,
              "ticks": ""
             }
            },
            "marker": {
             "colorbar": {
              "outlinewidth": 0,
              "ticks": ""
             }
            },
            "type": "scatter3d"
           }
          ],
          "scattercarpet": [
           {
            "marker": {
             "colorbar": {
              "outlinewidth": 0,
              "ticks": ""
             }
            },
            "type": "scattercarpet"
           }
          ],
          "scattergeo": [
           {
            "marker": {
             "colorbar": {
              "outlinewidth": 0,
              "ticks": ""
             }
            },
            "type": "scattergeo"
           }
          ],
          "scattergl": [
           {
            "marker": {
             "colorbar": {
              "outlinewidth": 0,
              "ticks": ""
             }
            },
            "type": "scattergl"
           }
          ],
          "scattermapbox": [
           {
            "marker": {
             "colorbar": {
              "outlinewidth": 0,
              "ticks": ""
             }
            },
            "type": "scattermapbox"
           }
          ],
          "scatterpolar": [
           {
            "marker": {
             "colorbar": {
              "outlinewidth": 0,
              "ticks": ""
             }
            },
            "type": "scatterpolar"
           }
          ],
          "scatterpolargl": [
           {
            "marker": {
             "colorbar": {
              "outlinewidth": 0,
              "ticks": ""
             }
            },
            "type": "scatterpolargl"
           }
          ],
          "scatterternary": [
           {
            "marker": {
             "colorbar": {
              "outlinewidth": 0,
              "ticks": ""
             }
            },
            "type": "scatterternary"
           }
          ],
          "surface": [
           {
            "colorbar": {
             "outlinewidth": 0,
             "ticks": ""
            },
            "colorscale": [
             [
              0,
              "#0d0887"
             ],
             [
              0.1111111111111111,
              "#46039f"
             ],
             [
              0.2222222222222222,
              "#7201a8"
             ],
             [
              0.3333333333333333,
              "#9c179e"
             ],
             [
              0.4444444444444444,
              "#bd3786"
             ],
             [
              0.5555555555555556,
              "#d8576b"
             ],
             [
              0.6666666666666666,
              "#ed7953"
             ],
             [
              0.7777777777777778,
              "#fb9f3a"
             ],
             [
              0.8888888888888888,
              "#fdca26"
             ],
             [
              1,
              "#f0f921"
             ]
            ],
            "type": "surface"
           }
          ],
          "table": [
           {
            "cells": {
             "fill": {
              "color": "#EBF0F8"
             },
             "line": {
              "color": "white"
             }
            },
            "header": {
             "fill": {
              "color": "#C8D4E3"
             },
             "line": {
              "color": "white"
             }
            },
            "type": "table"
           }
          ]
         },
         "layout": {
          "annotationdefaults": {
           "arrowcolor": "#2a3f5f",
           "arrowhead": 0,
           "arrowwidth": 1
          },
          "autotypenumbers": "strict",
          "coloraxis": {
           "colorbar": {
            "outlinewidth": 0,
            "ticks": ""
           }
          },
          "colorscale": {
           "diverging": [
            [
             0,
             "#8e0152"
            ],
            [
             0.1,
             "#c51b7d"
            ],
            [
             0.2,
             "#de77ae"
            ],
            [
             0.3,
             "#f1b6da"
            ],
            [
             0.4,
             "#fde0ef"
            ],
            [
             0.5,
             "#f7f7f7"
            ],
            [
             0.6,
             "#e6f5d0"
            ],
            [
             0.7,
             "#b8e186"
            ],
            [
             0.8,
             "#7fbc41"
            ],
            [
             0.9,
             "#4d9221"
            ],
            [
             1,
             "#276419"
            ]
           ],
           "sequential": [
            [
             0,
             "#0d0887"
            ],
            [
             0.1111111111111111,
             "#46039f"
            ],
            [
             0.2222222222222222,
             "#7201a8"
            ],
            [
             0.3333333333333333,
             "#9c179e"
            ],
            [
             0.4444444444444444,
             "#bd3786"
            ],
            [
             0.5555555555555556,
             "#d8576b"
            ],
            [
             0.6666666666666666,
             "#ed7953"
            ],
            [
             0.7777777777777778,
             "#fb9f3a"
            ],
            [
             0.8888888888888888,
             "#fdca26"
            ],
            [
             1,
             "#f0f921"
            ]
           ],
           "sequentialminus": [
            [
             0,
             "#0d0887"
            ],
            [
             0.1111111111111111,
             "#46039f"
            ],
            [
             0.2222222222222222,
             "#7201a8"
            ],
            [
             0.3333333333333333,
             "#9c179e"
            ],
            [
             0.4444444444444444,
             "#bd3786"
            ],
            [
             0.5555555555555556,
             "#d8576b"
            ],
            [
             0.6666666666666666,
             "#ed7953"
            ],
            [
             0.7777777777777778,
             "#fb9f3a"
            ],
            [
             0.8888888888888888,
             "#fdca26"
            ],
            [
             1,
             "#f0f921"
            ]
           ]
          },
          "colorway": [
           "#636efa",
           "#EF553B",
           "#00cc96",
           "#ab63fa",
           "#FFA15A",
           "#19d3f3",
           "#FF6692",
           "#B6E880",
           "#FF97FF",
           "#FECB52"
          ],
          "font": {
           "color": "#2a3f5f"
          },
          "geo": {
           "bgcolor": "white",
           "lakecolor": "white",
           "landcolor": "#E5ECF6",
           "showlakes": true,
           "showland": true,
           "subunitcolor": "white"
          },
          "hoverlabel": {
           "align": "left"
          },
          "hovermode": "closest",
          "mapbox": {
           "style": "light"
          },
          "paper_bgcolor": "white",
          "plot_bgcolor": "#E5ECF6",
          "polar": {
           "angularaxis": {
            "gridcolor": "white",
            "linecolor": "white",
            "ticks": ""
           },
           "bgcolor": "#E5ECF6",
           "radialaxis": {
            "gridcolor": "white",
            "linecolor": "white",
            "ticks": ""
           }
          },
          "scene": {
           "xaxis": {
            "backgroundcolor": "#E5ECF6",
            "gridcolor": "white",
            "gridwidth": 2,
            "linecolor": "white",
            "showbackground": true,
            "ticks": "",
            "zerolinecolor": "white"
           },
           "yaxis": {
            "backgroundcolor": "#E5ECF6",
            "gridcolor": "white",
            "gridwidth": 2,
            "linecolor": "white",
            "showbackground": true,
            "ticks": "",
            "zerolinecolor": "white"
           },
           "zaxis": {
            "backgroundcolor": "#E5ECF6",
            "gridcolor": "white",
            "gridwidth": 2,
            "linecolor": "white",
            "showbackground": true,
            "ticks": "",
            "zerolinecolor": "white"
           }
          },
          "shapedefaults": {
           "line": {
            "color": "#2a3f5f"
           }
          },
          "ternary": {
           "aaxis": {
            "gridcolor": "white",
            "linecolor": "white",
            "ticks": ""
           },
           "baxis": {
            "gridcolor": "white",
            "linecolor": "white",
            "ticks": ""
           },
           "bgcolor": "#E5ECF6",
           "caxis": {
            "gridcolor": "white",
            "linecolor": "white",
            "ticks": ""
           }
          },
          "title": {
           "x": 0.05
          },
          "xaxis": {
           "automargin": true,
           "gridcolor": "white",
           "linecolor": "white",
           "ticks": "",
           "title": {
            "standoff": 15
           },
           "zerolinecolor": "white",
           "zerolinewidth": 2
          },
          "yaxis": {
           "automargin": true,
           "gridcolor": "white",
           "linecolor": "white",
           "ticks": "",
           "title": {
            "standoff": 15
           },
           "zerolinecolor": "white",
           "zerolinewidth": 2
          }
         }
        },
        "title": {
         "text": "Ripples - Session: kdiba_vvp01_one_2006"
        },
        "xaxis": {
         "anchor": "y",
         "domain": [
          0,
          1
         ],
         "title": {
          "text": "ripple_start_t"
         }
        },
        "yaxis": {
         "anchor": "x",
         "domain": [
          0,
          1
         ],
         "title": {
          "text": "P_Long"
         }
        }
       }
      }
     },
     "metadata": {},
     "output_type": "display_data"
    },
    {
     "data": {
      "application/vnd.plotly.v1+json": {
       "config": {
        "plotlyServerURL": "https://plot.ly"
       },
       "data": [
        {
         "hovertemplate": "lap_start_t=%{x}<br>P_Long=%{y}<extra></extra>",
         "legendgroup": "",
         "marker": {
          "color": "#636efa",
          "symbol": "circle"
         },
         "mode": "markers",
         "name": "",
         "orientation": "v",
         "showlegend": false,
         "type": "scatter",
         "x": [
          6.892083000013372,
          44.0628040000156,
          59.51090500000282,
          65.48380600000382,
          93.74632900001598,
          112.4971399999922,
          136.88858400000026,
          148.76665800000774,
          169.9884290000191,
          183.60191600001417,
          209.02756300001056,
          220.30687299999408,
          247.26661700001569,
          257.81113899999764,
          285.672350000008,
          295.7817550000036,
          328.6155340000114,
          346.86645100000896,
          371.62582499999553,
          416.7040060000145,
          424.8469139999943,
          448.0689190000121,
          456.9782390000182,
          476.4636440000031,
          482.2706900000048,
          545.4994780000125,
          562.5505760000087,
          572.3939900000114,
          606.3297569999995,
          615.9717630000087,
          623.9123580000014,
          675.197673000017,
          692.6821599999967,
          697.587755000015,
          724.2801020000188,
          732.8886740000162,
          760.5176780000038,
          772.8632090000028,
          834.158018999995,
          846.0701939999999,
          856.4805329999945,
          870.2949200000148,
          963.1873300000152,
          977.202965000004,
          999.325383999996,
          1007.2662940000008,
          1052.7117619999915,
          1062.454377999995,
          1128.7552570000116,
          1144.9050810000044,
          1156.4493840000068,
          1164.290398000012,
          1176.402157000004,
          1182.141380999994,
          1200.027109000017,
          1208.16810000001,
          1214.842512000003,
          1221.0479829999967,
          1227.8886439999917,
          1235.3638130000036,
          1241.035143999994,
          1246.106140000018,
          1253.2144109999936,
          1257.4840980000154,
          1267.661718999996,
          1274.501562999998,
          1280.0082549999934,
          1285.1127909999925,
          1293.6540310000128,
          1298.259473999991,
          1303.4648309999902,
          1311.538774000015,
          1317.0118530000036,
          1323.7855960000015,
          1328.856501000002,
          1334.162295999995,
          1342.8043520000065,
          1348.4103880000184,
          1355.7846800000116,
          1362.7249280000106,
          1366.195143000019,
          1376.2043570000096,
          1383.0445070000133,
          1400.5621319999918
         ],
         "xaxis": "x",
         "y": [
          0.7045033617471158,
          0.7082925766393309,
          0.7344276361570958,
          0.6516972963594387,
          0.7099696872383283,
          0.7282705073549599,
          0.6705601634843903,
          0.7312527788802604,
          0.7834700998867816,
          0.7485255309657232,
          0.7357187553191075,
          0.7670417540618328,
          0.740113720678293,
          0.7716440303749448,
          0.7172066276270317,
          0.7643258948621652,
          0.8154577027006482,
          0.732889143394159,
          0.7022413986014105,
          0.758646263956608,
          0.7862322198019829,
          0.72776570863492,
          0.8262803660747504,
          0.7502326116364249,
          0.7669842991857082,
          0.7582446715149206,
          0.8886951124599832,
          0.6715116958767704,
          0.8793606643298973,
          0.6947157076841958,
          0.7334271203345303,
          0.6867871477086037,
          0.7585689695130368,
          0.597967141304957,
          0.6575782350897758,
          0.6541811135447022,
          0.6520259683974805,
          0.5808837836211146,
          0.7852232019000793,
          0.6637891046854879,
          0.7376771625335529,
          0.642986661628322,
          0.4078471842255103,
          0.469643759527257,
          0.2096412095149801,
          0.3199147059391285,
          0.1921488437073807,
          0.3464632690781679,
          0.2052786131463883,
          0.3457893687982434,
          0.206271855203158,
          0.3561941899474011,
          0.1175098083978004,
          0.3307463605977673,
          0.1402486387850856,
          0.3525331900022141,
          0.211721727186871,
          0.334463804676778,
          0.1852481262538587,
          0.357082975532604,
          0.1652460059014784,
          0.2601572033387109,
          0.183778609837157,
          0.2702774241321116,
          0.2034795061270194,
          0.2987286204670711,
          0.1658126982585795,
          0.3453544429043991,
          0.0776438726131507,
          0.3300109033625863,
          0.1865337817328576,
          0.3765016006707399,
          0.2581288630193146,
          0.4203823969930996,
          0.2182481826357681,
          0.3532113795851465,
          0.1854354188332938,
          0.3207737491178022,
          0.3132671863946306,
          0.3797806828430952,
          0.3827167620820461,
          0.3960293171646634,
          0.1023491750158342,
          0.4193331647830898
         ],
         "yaxis": "y"
        }
       ],
       "layout": {
        "legend": {
         "tracegroupgap": 0
        },
        "template": {
         "data": {
          "bar": [
           {
            "error_x": {
             "color": "#2a3f5f"
            },
            "error_y": {
             "color": "#2a3f5f"
            },
            "marker": {
             "line": {
              "color": "#E5ECF6",
              "width": 0.5
             },
             "pattern": {
              "fillmode": "overlay",
              "size": 10,
              "solidity": 0.2
             }
            },
            "type": "bar"
           }
          ],
          "barpolar": [
           {
            "marker": {
             "line": {
              "color": "#E5ECF6",
              "width": 0.5
             },
             "pattern": {
              "fillmode": "overlay",
              "size": 10,
              "solidity": 0.2
             }
            },
            "type": "barpolar"
           }
          ],
          "carpet": [
           {
            "aaxis": {
             "endlinecolor": "#2a3f5f",
             "gridcolor": "white",
             "linecolor": "white",
             "minorgridcolor": "white",
             "startlinecolor": "#2a3f5f"
            },
            "baxis": {
             "endlinecolor": "#2a3f5f",
             "gridcolor": "white",
             "linecolor": "white",
             "minorgridcolor": "white",
             "startlinecolor": "#2a3f5f"
            },
            "type": "carpet"
           }
          ],
          "choropleth": [
           {
            "colorbar": {
             "outlinewidth": 0,
             "ticks": ""
            },
            "type": "choropleth"
           }
          ],
          "contour": [
           {
            "colorbar": {
             "outlinewidth": 0,
             "ticks": ""
            },
            "colorscale": [
             [
              0,
              "#0d0887"
             ],
             [
              0.1111111111111111,
              "#46039f"
             ],
             [
              0.2222222222222222,
              "#7201a8"
             ],
             [
              0.3333333333333333,
              "#9c179e"
             ],
             [
              0.4444444444444444,
              "#bd3786"
             ],
             [
              0.5555555555555556,
              "#d8576b"
             ],
             [
              0.6666666666666666,
              "#ed7953"
             ],
             [
              0.7777777777777778,
              "#fb9f3a"
             ],
             [
              0.8888888888888888,
              "#fdca26"
             ],
             [
              1,
              "#f0f921"
             ]
            ],
            "type": "contour"
           }
          ],
          "contourcarpet": [
           {
            "colorbar": {
             "outlinewidth": 0,
             "ticks": ""
            },
            "type": "contourcarpet"
           }
          ],
          "heatmap": [
           {
            "colorbar": {
             "outlinewidth": 0,
             "ticks": ""
            },
            "colorscale": [
             [
              0,
              "#0d0887"
             ],
             [
              0.1111111111111111,
              "#46039f"
             ],
             [
              0.2222222222222222,
              "#7201a8"
             ],
             [
              0.3333333333333333,
              "#9c179e"
             ],
             [
              0.4444444444444444,
              "#bd3786"
             ],
             [
              0.5555555555555556,
              "#d8576b"
             ],
             [
              0.6666666666666666,
              "#ed7953"
             ],
             [
              0.7777777777777778,
              "#fb9f3a"
             ],
             [
              0.8888888888888888,
              "#fdca26"
             ],
             [
              1,
              "#f0f921"
             ]
            ],
            "type": "heatmap"
           }
          ],
          "heatmapgl": [
           {
            "colorbar": {
             "outlinewidth": 0,
             "ticks": ""
            },
            "colorscale": [
             [
              0,
              "#0d0887"
             ],
             [
              0.1111111111111111,
              "#46039f"
             ],
             [
              0.2222222222222222,
              "#7201a8"
             ],
             [
              0.3333333333333333,
              "#9c179e"
             ],
             [
              0.4444444444444444,
              "#bd3786"
             ],
             [
              0.5555555555555556,
              "#d8576b"
             ],
             [
              0.6666666666666666,
              "#ed7953"
             ],
             [
              0.7777777777777778,
              "#fb9f3a"
             ],
             [
              0.8888888888888888,
              "#fdca26"
             ],
             [
              1,
              "#f0f921"
             ]
            ],
            "type": "heatmapgl"
           }
          ],
          "histogram": [
           {
            "marker": {
             "pattern": {
              "fillmode": "overlay",
              "size": 10,
              "solidity": 0.2
             }
            },
            "type": "histogram"
           }
          ],
          "histogram2d": [
           {
            "colorbar": {
             "outlinewidth": 0,
             "ticks": ""
            },
            "colorscale": [
             [
              0,
              "#0d0887"
             ],
             [
              0.1111111111111111,
              "#46039f"
             ],
             [
              0.2222222222222222,
              "#7201a8"
             ],
             [
              0.3333333333333333,
              "#9c179e"
             ],
             [
              0.4444444444444444,
              "#bd3786"
             ],
             [
              0.5555555555555556,
              "#d8576b"
             ],
             [
              0.6666666666666666,
              "#ed7953"
             ],
             [
              0.7777777777777778,
              "#fb9f3a"
             ],
             [
              0.8888888888888888,
              "#fdca26"
             ],
             [
              1,
              "#f0f921"
             ]
            ],
            "type": "histogram2d"
           }
          ],
          "histogram2dcontour": [
           {
            "colorbar": {
             "outlinewidth": 0,
             "ticks": ""
            },
            "colorscale": [
             [
              0,
              "#0d0887"
             ],
             [
              0.1111111111111111,
              "#46039f"
             ],
             [
              0.2222222222222222,
              "#7201a8"
             ],
             [
              0.3333333333333333,
              "#9c179e"
             ],
             [
              0.4444444444444444,
              "#bd3786"
             ],
             [
              0.5555555555555556,
              "#d8576b"
             ],
             [
              0.6666666666666666,
              "#ed7953"
             ],
             [
              0.7777777777777778,
              "#fb9f3a"
             ],
             [
              0.8888888888888888,
              "#fdca26"
             ],
             [
              1,
              "#f0f921"
             ]
            ],
            "type": "histogram2dcontour"
           }
          ],
          "mesh3d": [
           {
            "colorbar": {
             "outlinewidth": 0,
             "ticks": ""
            },
            "type": "mesh3d"
           }
          ],
          "parcoords": [
           {
            "line": {
             "colorbar": {
              "outlinewidth": 0,
              "ticks": ""
             }
            },
            "type": "parcoords"
           }
          ],
          "pie": [
           {
            "automargin": true,
            "type": "pie"
           }
          ],
          "scatter": [
           {
            "fillpattern": {
             "fillmode": "overlay",
             "size": 10,
             "solidity": 0.2
            },
            "type": "scatter"
           }
          ],
          "scatter3d": [
           {
            "line": {
             "colorbar": {
              "outlinewidth": 0,
              "ticks": ""
             }
            },
            "marker": {
             "colorbar": {
              "outlinewidth": 0,
              "ticks": ""
             }
            },
            "type": "scatter3d"
           }
          ],
          "scattercarpet": [
           {
            "marker": {
             "colorbar": {
              "outlinewidth": 0,
              "ticks": ""
             }
            },
            "type": "scattercarpet"
           }
          ],
          "scattergeo": [
           {
            "marker": {
             "colorbar": {
              "outlinewidth": 0,
              "ticks": ""
             }
            },
            "type": "scattergeo"
           }
          ],
          "scattergl": [
           {
            "marker": {
             "colorbar": {
              "outlinewidth": 0,
              "ticks": ""
             }
            },
            "type": "scattergl"
           }
          ],
          "scattermapbox": [
           {
            "marker": {
             "colorbar": {
              "outlinewidth": 0,
              "ticks": ""
             }
            },
            "type": "scattermapbox"
           }
          ],
          "scatterpolar": [
           {
            "marker": {
             "colorbar": {
              "outlinewidth": 0,
              "ticks": ""
             }
            },
            "type": "scatterpolar"
           }
          ],
          "scatterpolargl": [
           {
            "marker": {
             "colorbar": {
              "outlinewidth": 0,
              "ticks": ""
             }
            },
            "type": "scatterpolargl"
           }
          ],
          "scatterternary": [
           {
            "marker": {
             "colorbar": {
              "outlinewidth": 0,
              "ticks": ""
             }
            },
            "type": "scatterternary"
           }
          ],
          "surface": [
           {
            "colorbar": {
             "outlinewidth": 0,
             "ticks": ""
            },
            "colorscale": [
             [
              0,
              "#0d0887"
             ],
             [
              0.1111111111111111,
              "#46039f"
             ],
             [
              0.2222222222222222,
              "#7201a8"
             ],
             [
              0.3333333333333333,
              "#9c179e"
             ],
             [
              0.4444444444444444,
              "#bd3786"
             ],
             [
              0.5555555555555556,
              "#d8576b"
             ],
             [
              0.6666666666666666,
              "#ed7953"
             ],
             [
              0.7777777777777778,
              "#fb9f3a"
             ],
             [
              0.8888888888888888,
              "#fdca26"
             ],
             [
              1,
              "#f0f921"
             ]
            ],
            "type": "surface"
           }
          ],
          "table": [
           {
            "cells": {
             "fill": {
              "color": "#EBF0F8"
             },
             "line": {
              "color": "white"
             }
            },
            "header": {
             "fill": {
              "color": "#C8D4E3"
             },
             "line": {
              "color": "white"
             }
            },
            "type": "table"
           }
          ]
         },
         "layout": {
          "annotationdefaults": {
           "arrowcolor": "#2a3f5f",
           "arrowhead": 0,
           "arrowwidth": 1
          },
          "autotypenumbers": "strict",
          "coloraxis": {
           "colorbar": {
            "outlinewidth": 0,
            "ticks": ""
           }
          },
          "colorscale": {
           "diverging": [
            [
             0,
             "#8e0152"
            ],
            [
             0.1,
             "#c51b7d"
            ],
            [
             0.2,
             "#de77ae"
            ],
            [
             0.3,
             "#f1b6da"
            ],
            [
             0.4,
             "#fde0ef"
            ],
            [
             0.5,
             "#f7f7f7"
            ],
            [
             0.6,
             "#e6f5d0"
            ],
            [
             0.7,
             "#b8e186"
            ],
            [
             0.8,
             "#7fbc41"
            ],
            [
             0.9,
             "#4d9221"
            ],
            [
             1,
             "#276419"
            ]
           ],
           "sequential": [
            [
             0,
             "#0d0887"
            ],
            [
             0.1111111111111111,
             "#46039f"
            ],
            [
             0.2222222222222222,
             "#7201a8"
            ],
            [
             0.3333333333333333,
             "#9c179e"
            ],
            [
             0.4444444444444444,
             "#bd3786"
            ],
            [
             0.5555555555555556,
             "#d8576b"
            ],
            [
             0.6666666666666666,
             "#ed7953"
            ],
            [
             0.7777777777777778,
             "#fb9f3a"
            ],
            [
             0.8888888888888888,
             "#fdca26"
            ],
            [
             1,
             "#f0f921"
            ]
           ],
           "sequentialminus": [
            [
             0,
             "#0d0887"
            ],
            [
             0.1111111111111111,
             "#46039f"
            ],
            [
             0.2222222222222222,
             "#7201a8"
            ],
            [
             0.3333333333333333,
             "#9c179e"
            ],
            [
             0.4444444444444444,
             "#bd3786"
            ],
            [
             0.5555555555555556,
             "#d8576b"
            ],
            [
             0.6666666666666666,
             "#ed7953"
            ],
            [
             0.7777777777777778,
             "#fb9f3a"
            ],
            [
             0.8888888888888888,
             "#fdca26"
            ],
            [
             1,
             "#f0f921"
            ]
           ]
          },
          "colorway": [
           "#636efa",
           "#EF553B",
           "#00cc96",
           "#ab63fa",
           "#FFA15A",
           "#19d3f3",
           "#FF6692",
           "#B6E880",
           "#FF97FF",
           "#FECB52"
          ],
          "font": {
           "color": "#2a3f5f"
          },
          "geo": {
           "bgcolor": "white",
           "lakecolor": "white",
           "landcolor": "#E5ECF6",
           "showlakes": true,
           "showland": true,
           "subunitcolor": "white"
          },
          "hoverlabel": {
           "align": "left"
          },
          "hovermode": "closest",
          "mapbox": {
           "style": "light"
          },
          "paper_bgcolor": "white",
          "plot_bgcolor": "#E5ECF6",
          "polar": {
           "angularaxis": {
            "gridcolor": "white",
            "linecolor": "white",
            "ticks": ""
           },
           "bgcolor": "#E5ECF6",
           "radialaxis": {
            "gridcolor": "white",
            "linecolor": "white",
            "ticks": ""
           }
          },
          "scene": {
           "xaxis": {
            "backgroundcolor": "#E5ECF6",
            "gridcolor": "white",
            "gridwidth": 2,
            "linecolor": "white",
            "showbackground": true,
            "ticks": "",
            "zerolinecolor": "white"
           },
           "yaxis": {
            "backgroundcolor": "#E5ECF6",
            "gridcolor": "white",
            "gridwidth": 2,
            "linecolor": "white",
            "showbackground": true,
            "ticks": "",
            "zerolinecolor": "white"
           },
           "zaxis": {
            "backgroundcolor": "#E5ECF6",
            "gridcolor": "white",
            "gridwidth": 2,
            "linecolor": "white",
            "showbackground": true,
            "ticks": "",
            "zerolinecolor": "white"
           }
          },
          "shapedefaults": {
           "line": {
            "color": "#2a3f5f"
           }
          },
          "ternary": {
           "aaxis": {
            "gridcolor": "white",
            "linecolor": "white",
            "ticks": ""
           },
           "baxis": {
            "gridcolor": "white",
            "linecolor": "white",
            "ticks": ""
           },
           "bgcolor": "#E5ECF6",
           "caxis": {
            "gridcolor": "white",
            "linecolor": "white",
            "ticks": ""
           }
          },
          "title": {
           "x": 0.05
          },
          "xaxis": {
           "automargin": true,
           "gridcolor": "white",
           "linecolor": "white",
           "ticks": "",
           "title": {
            "standoff": 15
           },
           "zerolinecolor": "white",
           "zerolinewidth": 2
          },
          "yaxis": {
           "automargin": true,
           "gridcolor": "white",
           "linecolor": "white",
           "ticks": "",
           "title": {
            "standoff": 15
           },
           "zerolinecolor": "white",
           "zerolinewidth": 2
          }
         }
        },
        "title": {
         "text": "Laps - Session: kdiba_vvp01_one_2006"
        },
        "xaxis": {
         "anchor": "y",
         "domain": [
          0,
          1
         ],
         "title": {
          "text": "lap_start_t"
         }
        },
        "yaxis": {
         "anchor": "x",
         "domain": [
          0,
          1
         ],
         "title": {
          "text": "P_Long"
         }
        }
       }
      }
     },
     "metadata": {},
     "output_type": "display_data"
    },
    {
     "data": {
      "application/vnd.plotly.v1+json": {
       "config": {
        "plotlyServerURL": "https://plot.ly"
       },
       "data": [
        {
         "hovertemplate": "ripple_start_t=%{x}<br>P_Long=%{y}<extra></extra>",
         "legendgroup": "",
         "marker": {
          "color": "#636efa",
          "symbol": "circle"
         },
         "mode": "markers",
         "name": "",
         "orientation": "v",
         "showlegend": false,
         "type": "scatter",
         "x": [
          22.45922690088628,
          182.33008008700563,
          313.21982299146475,
          391.9552962789021,
          396.0429281060351,
          396.8336912211671,
          401.1777427569905,
          406.4788139628654,
          505.4081917910371,
          508.0419696425379,
          509.26714405525126,
          512.0890203704475,
          514.5854491722421,
          516.2180934563512,
          519.8936166944623,
          522.8474660621141,
          527.9539261676255,
          543.2059989985428,
          601.9069430236705,
          655.0589362898318,
          658.6528979697323,
          680.5316707678139,
          690.3895908405248,
          720.3506379004975,
          804.9783270510961,
          806.9131945404515,
          808.748836480605,
          810.9119227330957,
          813.7899244595901,
          819.828367447888,
          843.2253525886335,
          904.0035512302128,
          908.7955308567034,
          918.9571794139338,
          925.8418965289602,
          927.7501297919372,
          969.8697779866634,
          1025.4715978385357,
          1027.97367911748,
          1047.588235474832,
          1057.770128501725,
          1068.2165205931524,
          1081.0439572255127,
          1085.0106137545954,
          1087.3190362526802,
          1134.5763867768983,
          1134.9219558799523,
          1139.8973030926136,
          1155.7057762786571,
          1161.526230258576,
          1180.673351335252,
          1193.5557460194686,
          1245.5595491535205,
          1271.99255961983,
          1405.9796756584255
         ],
         "xaxis": "x",
         "y": [
          0.5447014282690057,
          0.5542024129199787,
          0.5518721851741243,
          0.7113887860196652,
          0.6726984450562112,
          0.7764455177394679,
          0.6980771711585675,
          0.5609145133442333,
          0.6428972391925617,
          0.7810789482112596,
          0.5662816881893495,
          0.746841449155753,
          0.6533732601904854,
          0.6813618066019124,
          0.5035203635069845,
          0.5936135345648123,
          0.518508110621421,
          0.7103629697404904,
          0.7733851178634042,
          0.5800311574288229,
          0.6415962618087799,
          0.5482543866070659,
          0.5127296774817498,
          0.4466277972583062,
          0.6875974256431315,
          0.5483417910345454,
          0.6276235544311544,
          0.5750585272790979,
          0.6806423918078032,
          0.5173669447777839,
          0.5572177232542004,
          0.6651271839200545,
          0.5384422227043447,
          0.5885421863965141,
          0.5967848578392976,
          0.6894532527622221,
          0.4441403470458859,
          0.2812393448578827,
          0.6558885571612578,
          0.4930237337651162,
          0.4643666227161729,
          0.5073713012512461,
          0.4452924353357904,
          0.5992349745369023,
          0.5687989383160932,
          0.5142669659005475,
          0.4576651583679985,
          0.5372563266107903,
          0.6251624670399695,
          0.6821960402916506,
          0.6744561349024226,
          0.6206430823425229,
          0.5816187554880617,
          0.6904137185079803,
          0.5463061206342484
         ],
         "yaxis": "y"
        }
       ],
       "layout": {
        "legend": {
         "tracegroupgap": 0
        },
        "template": {
         "data": {
          "bar": [
           {
            "error_x": {
             "color": "#2a3f5f"
            },
            "error_y": {
             "color": "#2a3f5f"
            },
            "marker": {
             "line": {
              "color": "#E5ECF6",
              "width": 0.5
             },
             "pattern": {
              "fillmode": "overlay",
              "size": 10,
              "solidity": 0.2
             }
            },
            "type": "bar"
           }
          ],
          "barpolar": [
           {
            "marker": {
             "line": {
              "color": "#E5ECF6",
              "width": 0.5
             },
             "pattern": {
              "fillmode": "overlay",
              "size": 10,
              "solidity": 0.2
             }
            },
            "type": "barpolar"
           }
          ],
          "carpet": [
           {
            "aaxis": {
             "endlinecolor": "#2a3f5f",
             "gridcolor": "white",
             "linecolor": "white",
             "minorgridcolor": "white",
             "startlinecolor": "#2a3f5f"
            },
            "baxis": {
             "endlinecolor": "#2a3f5f",
             "gridcolor": "white",
             "linecolor": "white",
             "minorgridcolor": "white",
             "startlinecolor": "#2a3f5f"
            },
            "type": "carpet"
           }
          ],
          "choropleth": [
           {
            "colorbar": {
             "outlinewidth": 0,
             "ticks": ""
            },
            "type": "choropleth"
           }
          ],
          "contour": [
           {
            "colorbar": {
             "outlinewidth": 0,
             "ticks": ""
            },
            "colorscale": [
             [
              0,
              "#0d0887"
             ],
             [
              0.1111111111111111,
              "#46039f"
             ],
             [
              0.2222222222222222,
              "#7201a8"
             ],
             [
              0.3333333333333333,
              "#9c179e"
             ],
             [
              0.4444444444444444,
              "#bd3786"
             ],
             [
              0.5555555555555556,
              "#d8576b"
             ],
             [
              0.6666666666666666,
              "#ed7953"
             ],
             [
              0.7777777777777778,
              "#fb9f3a"
             ],
             [
              0.8888888888888888,
              "#fdca26"
             ],
             [
              1,
              "#f0f921"
             ]
            ],
            "type": "contour"
           }
          ],
          "contourcarpet": [
           {
            "colorbar": {
             "outlinewidth": 0,
             "ticks": ""
            },
            "type": "contourcarpet"
           }
          ],
          "heatmap": [
           {
            "colorbar": {
             "outlinewidth": 0,
             "ticks": ""
            },
            "colorscale": [
             [
              0,
              "#0d0887"
             ],
             [
              0.1111111111111111,
              "#46039f"
             ],
             [
              0.2222222222222222,
              "#7201a8"
             ],
             [
              0.3333333333333333,
              "#9c179e"
             ],
             [
              0.4444444444444444,
              "#bd3786"
             ],
             [
              0.5555555555555556,
              "#d8576b"
             ],
             [
              0.6666666666666666,
              "#ed7953"
             ],
             [
              0.7777777777777778,
              "#fb9f3a"
             ],
             [
              0.8888888888888888,
              "#fdca26"
             ],
             [
              1,
              "#f0f921"
             ]
            ],
            "type": "heatmap"
           }
          ],
          "heatmapgl": [
           {
            "colorbar": {
             "outlinewidth": 0,
             "ticks": ""
            },
            "colorscale": [
             [
              0,
              "#0d0887"
             ],
             [
              0.1111111111111111,
              "#46039f"
             ],
             [
              0.2222222222222222,
              "#7201a8"
             ],
             [
              0.3333333333333333,
              "#9c179e"
             ],
             [
              0.4444444444444444,
              "#bd3786"
             ],
             [
              0.5555555555555556,
              "#d8576b"
             ],
             [
              0.6666666666666666,
              "#ed7953"
             ],
             [
              0.7777777777777778,
              "#fb9f3a"
             ],
             [
              0.8888888888888888,
              "#fdca26"
             ],
             [
              1,
              "#f0f921"
             ]
            ],
            "type": "heatmapgl"
           }
          ],
          "histogram": [
           {
            "marker": {
             "pattern": {
              "fillmode": "overlay",
              "size": 10,
              "solidity": 0.2
             }
            },
            "type": "histogram"
           }
          ],
          "histogram2d": [
           {
            "colorbar": {
             "outlinewidth": 0,
             "ticks": ""
            },
            "colorscale": [
             [
              0,
              "#0d0887"
             ],
             [
              0.1111111111111111,
              "#46039f"
             ],
             [
              0.2222222222222222,
              "#7201a8"
             ],
             [
              0.3333333333333333,
              "#9c179e"
             ],
             [
              0.4444444444444444,
              "#bd3786"
             ],
             [
              0.5555555555555556,
              "#d8576b"
             ],
             [
              0.6666666666666666,
              "#ed7953"
             ],
             [
              0.7777777777777778,
              "#fb9f3a"
             ],
             [
              0.8888888888888888,
              "#fdca26"
             ],
             [
              1,
              "#f0f921"
             ]
            ],
            "type": "histogram2d"
           }
          ],
          "histogram2dcontour": [
           {
            "colorbar": {
             "outlinewidth": 0,
             "ticks": ""
            },
            "colorscale": [
             [
              0,
              "#0d0887"
             ],
             [
              0.1111111111111111,
              "#46039f"
             ],
             [
              0.2222222222222222,
              "#7201a8"
             ],
             [
              0.3333333333333333,
              "#9c179e"
             ],
             [
              0.4444444444444444,
              "#bd3786"
             ],
             [
              0.5555555555555556,
              "#d8576b"
             ],
             [
              0.6666666666666666,
              "#ed7953"
             ],
             [
              0.7777777777777778,
              "#fb9f3a"
             ],
             [
              0.8888888888888888,
              "#fdca26"
             ],
             [
              1,
              "#f0f921"
             ]
            ],
            "type": "histogram2dcontour"
           }
          ],
          "mesh3d": [
           {
            "colorbar": {
             "outlinewidth": 0,
             "ticks": ""
            },
            "type": "mesh3d"
           }
          ],
          "parcoords": [
           {
            "line": {
             "colorbar": {
              "outlinewidth": 0,
              "ticks": ""
             }
            },
            "type": "parcoords"
           }
          ],
          "pie": [
           {
            "automargin": true,
            "type": "pie"
           }
          ],
          "scatter": [
           {
            "fillpattern": {
             "fillmode": "overlay",
             "size": 10,
             "solidity": 0.2
            },
            "type": "scatter"
           }
          ],
          "scatter3d": [
           {
            "line": {
             "colorbar": {
              "outlinewidth": 0,
              "ticks": ""
             }
            },
            "marker": {
             "colorbar": {
              "outlinewidth": 0,
              "ticks": ""
             }
            },
            "type": "scatter3d"
           }
          ],
          "scattercarpet": [
           {
            "marker": {
             "colorbar": {
              "outlinewidth": 0,
              "ticks": ""
             }
            },
            "type": "scattercarpet"
           }
          ],
          "scattergeo": [
           {
            "marker": {
             "colorbar": {
              "outlinewidth": 0,
              "ticks": ""
             }
            },
            "type": "scattergeo"
           }
          ],
          "scattergl": [
           {
            "marker": {
             "colorbar": {
              "outlinewidth": 0,
              "ticks": ""
             }
            },
            "type": "scattergl"
           }
          ],
          "scattermapbox": [
           {
            "marker": {
             "colorbar": {
              "outlinewidth": 0,
              "ticks": ""
             }
            },
            "type": "scattermapbox"
           }
          ],
          "scatterpolar": [
           {
            "marker": {
             "colorbar": {
              "outlinewidth": 0,
              "ticks": ""
             }
            },
            "type": "scatterpolar"
           }
          ],
          "scatterpolargl": [
           {
            "marker": {
             "colorbar": {
              "outlinewidth": 0,
              "ticks": ""
             }
            },
            "type": "scatterpolargl"
           }
          ],
          "scatterternary": [
           {
            "marker": {
             "colorbar": {
              "outlinewidth": 0,
              "ticks": ""
             }
            },
            "type": "scatterternary"
           }
          ],
          "surface": [
           {
            "colorbar": {
             "outlinewidth": 0,
             "ticks": ""
            },
            "colorscale": [
             [
              0,
              "#0d0887"
             ],
             [
              0.1111111111111111,
              "#46039f"
             ],
             [
              0.2222222222222222,
              "#7201a8"
             ],
             [
              0.3333333333333333,
              "#9c179e"
             ],
             [
              0.4444444444444444,
              "#bd3786"
             ],
             [
              0.5555555555555556,
              "#d8576b"
             ],
             [
              0.6666666666666666,
              "#ed7953"
             ],
             [
              0.7777777777777778,
              "#fb9f3a"
             ],
             [
              0.8888888888888888,
              "#fdca26"
             ],
             [
              1,
              "#f0f921"
             ]
            ],
            "type": "surface"
           }
          ],
          "table": [
           {
            "cells": {
             "fill": {
              "color": "#EBF0F8"
             },
             "line": {
              "color": "white"
             }
            },
            "header": {
             "fill": {
              "color": "#C8D4E3"
             },
             "line": {
              "color": "white"
             }
            },
            "type": "table"
           }
          ]
         },
         "layout": {
          "annotationdefaults": {
           "arrowcolor": "#2a3f5f",
           "arrowhead": 0,
           "arrowwidth": 1
          },
          "autotypenumbers": "strict",
          "coloraxis": {
           "colorbar": {
            "outlinewidth": 0,
            "ticks": ""
           }
          },
          "colorscale": {
           "diverging": [
            [
             0,
             "#8e0152"
            ],
            [
             0.1,
             "#c51b7d"
            ],
            [
             0.2,
             "#de77ae"
            ],
            [
             0.3,
             "#f1b6da"
            ],
            [
             0.4,
             "#fde0ef"
            ],
            [
             0.5,
             "#f7f7f7"
            ],
            [
             0.6,
             "#e6f5d0"
            ],
            [
             0.7,
             "#b8e186"
            ],
            [
             0.8,
             "#7fbc41"
            ],
            [
             0.9,
             "#4d9221"
            ],
            [
             1,
             "#276419"
            ]
           ],
           "sequential": [
            [
             0,
             "#0d0887"
            ],
            [
             0.1111111111111111,
             "#46039f"
            ],
            [
             0.2222222222222222,
             "#7201a8"
            ],
            [
             0.3333333333333333,
             "#9c179e"
            ],
            [
             0.4444444444444444,
             "#bd3786"
            ],
            [
             0.5555555555555556,
             "#d8576b"
            ],
            [
             0.6666666666666666,
             "#ed7953"
            ],
            [
             0.7777777777777778,
             "#fb9f3a"
            ],
            [
             0.8888888888888888,
             "#fdca26"
            ],
            [
             1,
             "#f0f921"
            ]
           ],
           "sequentialminus": [
            [
             0,
             "#0d0887"
            ],
            [
             0.1111111111111111,
             "#46039f"
            ],
            [
             0.2222222222222222,
             "#7201a8"
            ],
            [
             0.3333333333333333,
             "#9c179e"
            ],
            [
             0.4444444444444444,
             "#bd3786"
            ],
            [
             0.5555555555555556,
             "#d8576b"
            ],
            [
             0.6666666666666666,
             "#ed7953"
            ],
            [
             0.7777777777777778,
             "#fb9f3a"
            ],
            [
             0.8888888888888888,
             "#fdca26"
            ],
            [
             1,
             "#f0f921"
            ]
           ]
          },
          "colorway": [
           "#636efa",
           "#EF553B",
           "#00cc96",
           "#ab63fa",
           "#FFA15A",
           "#19d3f3",
           "#FF6692",
           "#B6E880",
           "#FF97FF",
           "#FECB52"
          ],
          "font": {
           "color": "#2a3f5f"
          },
          "geo": {
           "bgcolor": "white",
           "lakecolor": "white",
           "landcolor": "#E5ECF6",
           "showlakes": true,
           "showland": true,
           "subunitcolor": "white"
          },
          "hoverlabel": {
           "align": "left"
          },
          "hovermode": "closest",
          "mapbox": {
           "style": "light"
          },
          "paper_bgcolor": "white",
          "plot_bgcolor": "#E5ECF6",
          "polar": {
           "angularaxis": {
            "gridcolor": "white",
            "linecolor": "white",
            "ticks": ""
           },
           "bgcolor": "#E5ECF6",
           "radialaxis": {
            "gridcolor": "white",
            "linecolor": "white",
            "ticks": ""
           }
          },
          "scene": {
           "xaxis": {
            "backgroundcolor": "#E5ECF6",
            "gridcolor": "white",
            "gridwidth": 2,
            "linecolor": "white",
            "showbackground": true,
            "ticks": "",
            "zerolinecolor": "white"
           },
           "yaxis": {
            "backgroundcolor": "#E5ECF6",
            "gridcolor": "white",
            "gridwidth": 2,
            "linecolor": "white",
            "showbackground": true,
            "ticks": "",
            "zerolinecolor": "white"
           },
           "zaxis": {
            "backgroundcolor": "#E5ECF6",
            "gridcolor": "white",
            "gridwidth": 2,
            "linecolor": "white",
            "showbackground": true,
            "ticks": "",
            "zerolinecolor": "white"
           }
          },
          "shapedefaults": {
           "line": {
            "color": "#2a3f5f"
           }
          },
          "ternary": {
           "aaxis": {
            "gridcolor": "white",
            "linecolor": "white",
            "ticks": ""
           },
           "baxis": {
            "gridcolor": "white",
            "linecolor": "white",
            "ticks": ""
           },
           "bgcolor": "#E5ECF6",
           "caxis": {
            "gridcolor": "white",
            "linecolor": "white",
            "ticks": ""
           }
          },
          "title": {
           "x": 0.05
          },
          "xaxis": {
           "automargin": true,
           "gridcolor": "white",
           "linecolor": "white",
           "ticks": "",
           "title": {
            "standoff": 15
           },
           "zerolinecolor": "white",
           "zerolinewidth": 2
          },
          "yaxis": {
           "automargin": true,
           "gridcolor": "white",
           "linecolor": "white",
           "ticks": "",
           "title": {
            "standoff": 15
           },
           "zerolinecolor": "white",
           "zerolinewidth": 2
          }
         }
        },
        "title": {
         "text": "Ripples - Session: kdiba_vvp01_one_2006"
        },
        "xaxis": {
         "anchor": "y",
         "domain": [
          0,
          1
         ],
         "title": {
          "text": "ripple_start_t"
         }
        },
        "yaxis": {
         "anchor": "x",
         "domain": [
          0,
          1
         ],
         "title": {
          "text": "P_Long"
         }
        }
       }
      }
     },
     "metadata": {},
     "output_type": "display_data"
    }
   ],
   "source": [
    "import pandas as pd\n",
    "import plotly.express as px\n",
    "from pathlib import Path\n",
    "\n",
    "def plot_all_sessions(directory, save_figures=False, figure_save_extension='.png'):\n",
    "    if not isinstance(directory, Path):\n",
    "        directory = Path(directory).resolve()\n",
    "    assert directory.exists()\n",
    "    print(f'plot_all_sessions(directory: {directory})')\n",
    "    if save_figures:\n",
    "        # Create a 'figures' subfolder if it doesn't exist\n",
    "        figures_folder = Path(directory, 'figures')\n",
    "        figures_folder.mkdir(parents=False, exist_ok=True)\n",
    "        assert figures_folder.exists()\n",
    "        print(f'\\tfigures_folder: {figures_folder}')\n",
    "    \n",
    "    # Get all CSV files in the specified directory\n",
    "    # all_csv_files = Path(directory).glob('*-(laps|ripple)_marginals_df).csv')\n",
    "    all_csv_files = sorted(Path(directory).glob('*_marginals_df).csv'))\n",
    "\n",
    "    # Separate the CSV files into laps and ripple lists\n",
    "    laps_files = [file for file in all_csv_files if 'laps' in file.stem]\n",
    "    ripple_files = [file for file in all_csv_files if 'ripple' in file.stem]\n",
    "\n",
    "    # Create an empty list to store the figures\n",
    "    all_figures = []\n",
    "\n",
    "    # Iterate through the pairs and create figures\n",
    "    for laps_file, ripple_file in zip(laps_files, ripple_files):\n",
    "        session_name = laps_file.stem.split('-')[3]  # Extract session name from the filename\n",
    "        print(f'processing session_name: {session_name}')\n",
    "        \n",
    "        laps_df = pd.read_csv(laps_file)\n",
    "        ripple_df = pd.read_csv(ripple_file)\n",
    "\n",
    "        # SEPERATELY _________________________________________________________________________________________________________ #\n",
    "        # Create a bubble chart for laps\n",
    "        fig_laps = px.scatter(laps_df, x='lap_start_t', y='P_Long', title=f\"Laps - Session: {session_name}\")\n",
    "\n",
    "        # Create a bubble chart for ripples\n",
    "        fig_ripples = px.scatter(ripple_df, x='ripple_start_t', y='P_Long', title=f\"Ripples - Session: {session_name}\")\n",
    "\n",
    "        if save_figures:\n",
    "            # Save the figures to the 'figures' subfolder\n",
    "            print(f'\\tsaving figures...')\n",
    "            fig_laps_name = Path(figures_folder, f\"{session_name}_laps_marginal{figure_save_extension}\").resolve()\n",
    "            print(f'\\tsaving \"{fig_laps_name}\"...')\n",
    "            fig_laps.write_image(fig_laps_name)\n",
    "            fig_ripple_name = Path(figures_folder, f\"{session_name}_ripples_marginal{figure_save_extension}\").resolve()\n",
    "            print(f'\\tsaving \"{fig_ripple_name}\"...')\n",
    "            fig_ripples.write_image(fig_ripple_name)\n",
    "        \n",
    "        # Append both figures to the list\n",
    "        all_figures.append((fig_laps, fig_ripples))\n",
    "        \n",
    "        # # COMBINED ___________________________________________________________________________________________________________ #\n",
    "        # # Create a subplot with laps and ripples stacked vertically\n",
    "        # fig_combined = px.subplots.make_subplots(rows=2, cols=1, shared_xaxes=True, vertical_spacing=0.05,\n",
    "        #                                         subplot_titles=[f\"Laps - Session: {session_name}\", f\"Ripples - Session: {session_name}\"])\n",
    "\n",
    "        # # Add scatter traces to the subplots\n",
    "        # fig_combined.add_trace(px.scatter(laps_df, x='lap_start_t', y='P_Long').data[0], row=1, col=1)\n",
    "        # fig_combined.add_trace(px.scatter(ripple_df, x='ripple_start_t', y='P_Long').data[0], row=2, col=1)\n",
    "\n",
    "        # # Update layout for better visualization\n",
    "        # fig_combined.update_layout(height=600, width=800, title_text=f\"Combined Plot - Session: {session_name}\")\n",
    "\n",
    "        # # Save the figure to the 'figures' subfolder\n",
    "        # figure_filename = Path(figures_folder, f\"{session_name}_marginal.png\")\n",
    "        # fig_combined.write_image(figure_filename)\n",
    "        \n",
    "        # all_figures.append(fig_combined)\n",
    "        \n",
    "        \n",
    "    return all_figures\n",
    "\n",
    "# Example usage:\n",
    "# directory = '/home/halechr/FastData/collected_outputs/'\n",
    "directory = r'C:\\Users\\pho\\Desktop\\collected_outputs'\n",
    "\n",
    "all_session_figures = plot_all_sessions(directory, save_figures=True)\n",
    "\n",
    "# Show figures for all sessions\n",
    "for fig_laps, fig_ripples in all_session_figures:\n",
    "    fig_laps.show()\n",
    "    fig_ripples.show()\n"
   ]
  },
  {
   "cell_type": "code",
   "execution_count": null,
   "metadata": {},
   "outputs": [],
   "source": []
  }
 ],
 "metadata": {
  "kernelspec": {
   "display_name": ".venv",
   "language": "python",
   "name": "python3"
  },
  "language_info": {
   "codemirror_mode": {
    "name": "ipython",
    "version": 3
   },
   "file_extension": ".py",
   "mimetype": "text/x-python",
   "name": "python",
   "nbconvert_exporter": "python",
   "pygments_lexer": "ipython3",
   "version": "3.9.13"
  }
 },
 "nbformat": 4,
 "nbformat_minor": 2
}
