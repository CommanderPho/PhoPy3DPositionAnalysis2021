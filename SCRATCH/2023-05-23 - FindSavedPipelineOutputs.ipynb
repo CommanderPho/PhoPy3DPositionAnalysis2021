{
 "cells": [
  {
   "cell_type": "code",
   "execution_count": null,
   "id": "e2dd5d37-e658-4133-afa0-a8641b5fecda",
   "metadata": {},
   "outputs": [],
   "source": [
    "# 2023-05-23 - This code was created to quickly backup all of the good `loadedSessPickle.pkl` files from the session folders into the './output' subfolder in the session:\n",
    "# p: /nfs/turbo/umms-kdiba/Data/KDIBA/pin01/one/11-03_12-3-25/output/loadedSessPickle.pkl already in output folder.\n",
    "# p: /nfs/turbo/umms-kdiba/Data/KDIBA/pin01/one/11-09_21-17-16/output/loadedSessPickle.pkl already in output folder.\n",
    "# p: /nfs/turbo/umms-kdiba/Data/KDIBA/pin01/one/fet11-04_21-20-3/output/loadedSessPickle.pkl already in output folder.\n",
    "# p: /nfs/turbo/umms-kdiba/Data/KDIBA/pin01/one/11-03_21-26-8/output/loadedSessPickle.pkl already in output folder.\n",
    "# p: /nfs/turbo/umms-kdiba/Data/KDIBA/pin01/one/11-09_22-4-5/output/loadedSessPickle.pkl already in output folder.\n",
    "# ..."
   ]
  },
  {
   "cell_type": "code",
   "execution_count": 38,
   "id": "c08951e7-4fef-4226-b3cd-75627533e944",
   "metadata": {},
   "outputs": [
    {
     "name": "stdout",
     "output_type": "stream",
     "text": [
      "The autoreload extension is already loaded. To reload it, use:\n",
      "  %reload_ext autoreload\n"
     ]
    }
   ],
   "source": [
    "%config IPCompleter.use_jedi = False\n",
    "%load_ext autoreload\n",
    "%autoreload 3\n",
    "import os\n",
    "import sys\n",
    "from pathlib import Path\n",
    "import numpy as np\n",
    "import pandas as pd\n",
    "from copy import deepcopy\n",
    "from datetime import datetime, timedelta\n",
    "from typing import Optional, Dict, List\n",
    "\n",
    "\n",
    "## Pho's Custom Libraries:\n",
    "from pyphocorehelpers.Filesystem.path_helpers import find_first_extant_path\n",
    "from pyphocorehelpers.Filesystem.path_helpers import discover_data_files, generate_copydict, copy_movedict, copy_file, FileList\n",
    "from pyphocorehelpers.Filesystem.path_helpers import convert_filelist_to_new_parent\n",
    "from pyphocorehelpers.function_helpers import function_attributes\n",
    "from pyphocorehelpers.Filesystem.metadata_helpers import FilesystemMetadata, get_files_metadata\n",
    "\n",
    "# import glob # for finding .whl file after building binary repo\n",
    "from pyphoplacecellanalysis.General.Batch.runBatch import BatchRun\n",
    "\n",
    "global_data_root_parent_path = find_first_extant_path([Path(r'W:\\Data'), Path(r'/home/halechr/FastData'), Path(r'/media/MAX/Data'), Path(r'/Volumes/MoverNew/data'), Path(r'/home/halechr/turbo/Data')])\n",
    "assert global_data_root_parent_path.exists(), f\"global_data_root_parent_path: {global_data_root_parent_path} does not exist! Is the right computer's config commented out above?\"\n",
    "\n",
    "completed_pipeline_filename = 'loadedSessPickle.pkl'\n",
    "completed_global_computations_filename = 'global_computation_results.pkl'"
   ]
  },
  {
   "cell_type": "markdown",
   "id": "29978b7c-a1cc-4e6b-bf40-d2f1af0ecee6",
   "metadata": {},
   "source": [
    "## Old (Pre 2023-09-21):"
   ]
  },
  {
   "cell_type": "code",
   "execution_count": null,
   "id": "636c4083-b7b0-4a4a-ad63-7db9400ff058",
   "metadata": {},
   "outputs": [],
   "source": [
    "# Use glob to find the first generated .whl file in the dist/ directory\n",
    "found_whl_files = glob.glob('*.whl')\n",
    "found_whl_files = [a for a in found_whl_files if not a.endswith('current.whl')] # exclude the symlink from the search"
   ]
  },
  {
   "cell_type": "code",
   "execution_count": null,
   "id": "baa314cd",
   "metadata": {},
   "outputs": [],
   "source": [
    "external_computed_ripple_filepath = session.basepath.joinpath('ripple_df.pkl')\n",
    "## try the '.ripple.npy' ripples:\n",
    "active_file_suffix = '.ripple.npy'\n",
    "external_computed_ripple_filepath = fp.with_suffix(active_file_suffix)\n",
    "\n"
   ]
  },
  {
   "cell_type": "code",
   "execution_count": null,
   "id": "d6db0613-f7f6-48a7-9beb-2f17b3eb941e",
   "metadata": {},
   "outputs": [],
   "source": [
    "## Moves all previously saved loadedSessPickle.pkl files to the output folder.\n",
    "correctly_placed_output_files = []\n",
    "search_path: Path = Path(\"/home/halechr/turbo/Data/KDIBA/\").resolve()\n",
    "assert search_path.exists()\n",
    "for p in search_path.rglob(completed_pipeline_filename):\n",
    "    if p.parent.name != 'output':\n",
    "        # If not already in the 'output/' subfolder, move it there.\n",
    "        print(f'p: {p}')\n",
    "        curr_output_dir = p.parent.joinpath('output')\n",
    "        curr_output_dir.mkdir(exist_ok=True)\n",
    "        # print(f'curr_output_dir: {curr_output_dir}')\n",
    "        new_path = p.replace(curr_output_dir.joinpath(p.name))\n",
    "        print(f'\\t new_path: {new_path}')\n",
    "        correctly_placed_output_files.append(p)\n",
    "    else:\n",
    "        print(f'p: {p} already in output folder.')\n",
    "        correctly_placed_output_files.append(p)\n",
    "    \n",
    "correctly_placed_output_files"
   ]
  },
  {
   "cell_type": "code",
   "execution_count": null,
   "id": "90f2c19e",
   "metadata": {},
   "outputs": [],
   "source": [
    "completed_pipeline_filename"
   ]
  },
  {
   "cell_type": "code",
   "execution_count": 3,
   "id": "ee1a6d66",
   "metadata": {},
   "outputs": [],
   "source": [
    "\n",
    "## Build Pickle Path:\n",
    "pkl_path = 'global_batch_result_2023-06-08.pkl'\n",
    "csv_path = 'global_batch_result_2023-06-08.csv'\n",
    "h5_path = 'global_batch_result_2023-06-08.h5'\n",
    "\n",
    "global_batch_result_file_path = Path(global_data_root_parent_path).joinpath(h5_path).resolve() # Use Default\n",
    "\n",
    "batch_progress_df = BatchRun.load_batch_progress_df_from_h5(global_batch_result_file_path)\n",
    "batch_progress_df\n",
    "\n",
    "updated_batch_progress_df = BatchRun.rebuild_basedirs(batch_progress_df, global_data_root_parent_path)\n",
    "updated_batch_progress_df\n",
    "\n",
    "updated_good_only_batch_progress_df = updated_batch_progress_df[updated_batch_progress_df['locally_is_ready']].copy()\n",
    "updated_good_only_batch_progress_df"
   ]
  },
  {
   "cell_type": "code",
   "execution_count": null,
   "id": "f55b760a",
   "metadata": {},
   "outputs": [],
   "source": [
    "# Generate code that can be pasted into the current \"ReviewOfWork-*.ipynb\" notebook to load the good sessions:\n",
    "print(\",\\n\".join([a_ctxt.get_initialization_code_string() for a_ctxt in updated_good_only_batch_progress_df['context'].to_list()]))\n"
   ]
  },
  {
   "cell_type": "markdown",
   "id": "b23cecbf",
   "metadata": {},
   "source": [
    "# 2023-09-21 - Mirror Slow Data files to much faster SSD: , Path(r'/home/halechr/FastData')"
   ]
  },
  {
   "cell_type": "code",
   "execution_count": 28,
   "id": "35d6bc86",
   "metadata": {},
   "outputs": [],
   "source": [
    "from typing import Optional, Dict, List\n",
    "from datetime import datetime, timedelta\n",
    "from pyphocorehelpers.Filesystem.metadata_helpers import FilesystemMetadata, get_file_metadata\n",
    "from pyphocorehelpers.Filesystem.path_helpers import discover_data_files, generate_copydict, copy_movedict, copy_file\n"
   ]
  },
  {
   "cell_type": "code",
   "execution_count": 22,
   "id": "98d60f36",
   "metadata": {},
   "outputs": [],
   "source": [
    "\n",
    "source_data_root = Path(r'/media/MAX/Data')\n",
    "dest_data_root = Path(r'/home/halechr/FastData')\n",
    "assert source_data_root.exists(), f\"source_data_root: {source_data_root} does not exist! Is the right computer's config commented out above?\"\n",
    "assert dest_data_root.exists(), f\"dest_data_root: {dest_data_root} does not exist! Is the right computer's config commented out above?\"\n",
    "\n",
    "oldest_modified_date = (datetime.now() - timedelta(days=5))"
   ]
  },
  {
   "cell_type": "code",
   "execution_count": 9,
   "id": "525c05c9",
   "metadata": {},
   "outputs": [
    {
     "data": {
      "text/plain": [
       "[PosixPath('/media/MAX/Data/Bapun/RatN/Day4OpenField/loadedSessPickle.pkl'),\n",
       " PosixPath('/media/MAX/Data/Bapun/RatS/Day5TwoNovel/loadedSessPickle.pkl'),\n",
       " PosixPath('/media/MAX/Data/KDIBA/gor01/one/2006-6-07_11-26-53/loadedSessPickle.pkl'),\n",
       " PosixPath('/media/MAX/Data/KDIBA/gor01/one/2006-6-08_14-26-15/loadedSessPickle.pkl'),\n",
       " PosixPath('/media/MAX/Data/KDIBA/gor01/one/2006-6-09_1-22-43/loadedSessPickle.pkl'),\n",
       " PosixPath('/media/MAX/Data/KDIBA/gor01/one/2006-6-12_15-55-31/loadedSessPickle.pkl'),\n",
       " PosixPath('/media/MAX/Data/KDIBA/gor01/one/2006-6-13_14-42-6/loadedSessPickle.pkl'),\n",
       " PosixPath('/media/MAX/Data/KDIBA/gor01/two/2006-6-07_16-40-19/loadedSessPickle.pkl'),\n",
       " PosixPath('/media/MAX/Data/KDIBA/gor01/two/2006-6-08_15-46-47/loadedSessPickle.pkl'),\n",
       " PosixPath('/media/MAX/Data/KDIBA/gor01/two/2006-6-08_21-16-25/loadedSessPickle.pkl'),\n",
       " PosixPath('/media/MAX/Data/KDIBA/gor01/two/2006-6-09_22-24-40/loadedSessPickle.pkl'),\n",
       " PosixPath('/media/MAX/Data/KDIBA/gor01/two/2006-6-12_16-53-46/loadedSessPickle.pkl'),\n",
       " PosixPath('/media/MAX/Data/KDIBA/gor01/two/2006-6-13_15-22-3/loadedSessPickle.pkl'),\n",
       " PosixPath('/media/MAX/Data/KDIBA/pin01/one/11-02_17-46-44/loadedSessPickle.pkl'),\n",
       " PosixPath('/media/MAX/Data/KDIBA/pin01/one/11-02_19-28-0/loadedSessPickle.pkl'),\n",
       " PosixPath('/media/MAX/Data/KDIBA/pin01/one/11-03_12-3-25/loadedSessPickle.pkl'),\n",
       " PosixPath('/media/MAX/Data/KDIBA/pin01/one/11-03_21-26-8/loadedSessPickle.pkl'),\n",
       " PosixPath('/media/MAX/Data/KDIBA/pin01/one/11-05_19-26-43/loadedSessPickle.pkl'),\n",
       " PosixPath('/media/MAX/Data/KDIBA/pin01/one/11-09_11-43-50/loadedSessPickle.pkl'),\n",
       " PosixPath('/media/MAX/Data/KDIBA/pin01/one/11-09_12-15-3/loadedSessPickle.pkl'),\n",
       " PosixPath('/media/MAX/Data/KDIBA/pin01/one/11-09_21-17-16/loadedSessPickle.pkl'),\n",
       " PosixPath('/media/MAX/Data/KDIBA/pin01/one/11-09_22-4-5/loadedSessPickle.pkl'),\n",
       " PosixPath('/media/MAX/Data/KDIBA/pin01/one/fet11-01_12-58-54/loadedSessPickle.pkl'),\n",
       " PosixPath('/media/MAX/Data/KDIBA/pin01/one/fet11-03_20-28-3/loadedSessPickle.pkl'),\n",
       " PosixPath('/media/MAX/Data/KDIBA/pin01/one/fet11-04_21-20-3/loadedSessPickle.pkl'),\n",
       " PosixPath('/media/MAX/Data/KDIBA/vvp01/one/2006-4-09_17-29-30/loadedSessPickle.pkl'),\n",
       " PosixPath('/media/MAX/Data/KDIBA/vvp01/one/2006-4-10_12-25-50/loadedSessPickle.pkl'),\n",
       " PosixPath('/media/MAX/Data/KDIBA/vvp01/one/2006-4-17_12-33-47/loadedSessPickle.pkl'),\n",
       " PosixPath('/media/MAX/Data/KDIBA/vvp01/one/2006-4-18_13-6-1/loadedSessPickle.pkl'),\n",
       " PosixPath('/media/MAX/Data/KDIBA/vvp01/one/2006-4-18_15-23-32/loadedSessPickle.pkl'),\n",
       " PosixPath('/media/MAX/Data/KDIBA/vvp01/one/2006-4-19_13-34-40/loadedSessPickle.pkl'),\n",
       " PosixPath('/media/MAX/Data/KDIBA/vvp01/one/2006-4-27_14-43-12/loadedSessPickle.pkl'),\n",
       " PosixPath('/media/MAX/Data/KDIBA/vvp01/two/2006-4-09_16-40-54/loadedSessPickle.pkl'),\n",
       " PosixPath('/media/MAX/Data/KDIBA/vvp01/two/2006-4-10_12-58-3/loadedSessPickle.pkl'),\n",
       " PosixPath('/media/MAX/Data/KDIBA/vvp01/two/2006-4-11_12-48-38/loadedSessPickle.pkl'),\n",
       " PosixPath('/media/MAX/Data/KDIBA/vvp01/two/2006-4-11_16-2-46/loadedSessPickle.pkl'),\n",
       " PosixPath('/media/MAX/Data/KDIBA/vvp01/two/2006-4-12_15-25-59/loadedSessPickle.pkl'),\n",
       " PosixPath('/media/MAX/Data/KDIBA/vvp01/two/2006-4-16_14-49-24/loadedSessPickle.pkl'),\n",
       " PosixPath('/media/MAX/Data/KDIBA/vvp01/two/2006-4-16_18-47-52/loadedSessPickle.pkl'),\n",
       " PosixPath('/media/MAX/Data/KDIBA/vvp01/two/2006-4-17_12-52-15/loadedSessPickle.pkl'),\n",
       " PosixPath('/media/MAX/Data/KDIBA/vvp01/two/2006-4-19_13-50-7/loadedSessPickle.pkl'),\n",
       " PosixPath('/media/MAX/Data/KDIBA/vvp01/two/2006-4-19_16-37-40/loadedSessPickle.pkl'),\n",
       " PosixPath('/media/MAX/Data/KDIBA/vvp01/two/2006-4-21_11-19-2/loadedSessPickle.pkl'),\n",
       " PosixPath('/media/MAX/Data/KDIBA/vvp01/two/2006-4-25_13-20-55/loadedSessPickle.pkl'),\n",
       " PosixPath('/media/MAX/Data/KDIBA/vvp01/two/2006-4-26_13-51-50/loadedSessPickle.pkl'),\n",
       " PosixPath('/media/MAX/Data/KDIBA/vvp01/two/2006-4-28_12-38-13/loadedSessPickle.pkl'),\n",
       " PosixPath('/media/MAX/Data/Rachel/Data/vvp01/one/2006-4-09_17-29-30/loadedSessPickle.pkl')]"
      ]
     },
     "execution_count": 9,
     "metadata": {},
     "output_type": "execute_result"
    }
   ],
   "source": [
    "# Find the files and build the movedicts:\n",
    "found_session_pickle_files = discover_data_files(source_data_root, glob_pattern='loadedSessPickle.pkl', recursive=True)\n",
    "found_global_computation_results_files = discover_data_files(source_data_root, glob_pattern=f'output/{completed_global_computations_filename}', recursive=True)\n",
    "file_movedict_session_pickle_files = generate_copydict(source_data_root, dest_data_root, found_files=found_session_pickle_files, only_files_newer_than=oldest_modified_date)\n",
    "file_movedict_global_computation_results_pickle_files = generate_copydict(source_data_root, dest_data_root, found_files=found_global_computation_results_files, only_files_newer_than=oldest_modified_date)"
   ]
  },
  {
   "cell_type": "markdown",
   "id": "f6a22684",
   "metadata": {},
   "source": [
    "### Actually perform copy operations. This will take a while"
   ]
  },
  {
   "cell_type": "code",
   "execution_count": 37,
   "id": "e0548870",
   "metadata": {},
   "outputs": [
    {
     "name": "stdout",
     "output_type": "stream",
     "text": [
      "moving \"/media/MAX/Data/KDIBA/gor01/one/2006-6-08_14-26-15/output/global_computation_results.pkl\"\n",
      "\t\t -> \"/home/halechr/FastData/KDIBA/gor01/one/2006-6-08_14-26-15/output/global_computation_results.pkl\"...\n",
      "done.\n",
      "moving \"/media/MAX/Data/KDIBA/gor01/one/2006-6-09_1-22-43/output/global_computation_results.pkl\"\n",
      "\t\t -> \"/home/halechr/FastData/KDIBA/gor01/one/2006-6-09_1-22-43/output/global_computation_results.pkl\"...\n",
      "done.\n",
      "moving \"/media/MAX/Data/KDIBA/gor01/two/2006-6-07_16-40-19/output/global_computation_results.pkl\"\n",
      "\t\t -> \"/home/halechr/FastData/KDIBA/gor01/two/2006-6-07_16-40-19/output/global_computation_results.pkl\"...\n",
      "done.\n",
      "done copying 3 of 3 files.\n"
     ]
    },
    {
     "data": {
      "text/plain": [
       "{PosixPath('/media/MAX/Data/KDIBA/gor01/one/2006-6-08_14-26-15/output/global_computation_results.pkl'): PosixPath('/home/halechr/FastData/KDIBA/gor01/one/2006-6-08_14-26-15/output/global_computation_results.pkl'),\n",
       " PosixPath('/media/MAX/Data/KDIBA/gor01/one/2006-6-09_1-22-43/output/global_computation_results.pkl'): PosixPath('/home/halechr/FastData/KDIBA/gor01/one/2006-6-09_1-22-43/output/global_computation_results.pkl'),\n",
       " PosixPath('/media/MAX/Data/KDIBA/gor01/two/2006-6-07_16-40-19/output/global_computation_results.pkl'): PosixPath('/home/halechr/FastData/KDIBA/gor01/two/2006-6-07_16-40-19/output/global_computation_results.pkl')}"
      ]
     },
     "execution_count": 37,
     "metadata": {},
     "output_type": "execute_result"
    }
   ],
   "source": [
    "moved_files_dict_session_pickle_files = copy_movedict(file_movedict_session_pickle_files)\n",
    "moved_files_dict_session_pickle_files\n",
    "\n",
    "# moved_files_dict = copy_files(filelist_source, filelist_dest)"
   ]
  },
  {
   "cell_type": "code",
   "execution_count": null,
   "id": "7732c1a1",
   "metadata": {},
   "outputs": [],
   "source": [
    "moved_files_dict_global_computation_results_pickle_files = copy_movedict(file_movedict_global_computation_results_pickle_files)\n",
    "moved_files_dict_global_computation_results_pickle_files"
   ]
  },
  {
   "cell_type": "markdown",
   "id": "d66727ff",
   "metadata": {},
   "source": [
    "# 2023-11-20 - Discovery of folder modification times from matching files"
   ]
  },
  {
   "cell_type": "code",
   "execution_count": null,
   "id": "403b3229",
   "metadata": {},
   "outputs": [],
   "source": [
    "Write a python function that\n"
   ]
  },
  {
   "cell_type": "code",
   "execution_count": null,
   "id": "3c1abc33",
   "metadata": {},
   "outputs": [],
   "source": [
    "\n",
    "def determine_directory_modification_time(target_"
   ]
  }
 ],
 "metadata": {
  "kernelspec": {
   "display_name": "Python 3 (ipykernel)",
   "language": "python",
   "name": "python3"
  },
  "language_info": {
   "codemirror_mode": {
    "name": "ipython",
    "version": 3
   },
   "file_extension": ".py",
   "mimetype": "text/x-python",
   "name": "python",
   "nbconvert_exporter": "python",
   "pygments_lexer": "ipython3",
   "version": "3.9.13"
  }
 },
 "nbformat": 4,
 "nbformat_minor": 5
}
