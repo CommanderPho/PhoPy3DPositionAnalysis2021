{
 "cells": [
  {
   "cell_type": "code",
   "execution_count": null,
   "id": "e2dd5d37-e658-4133-afa0-a8641b5fecda",
   "metadata": {},
   "outputs": [],
   "source": [
    "# 2023-05-23 - This code was created to quickly backup all of the good `loadedSessPickle.pkl` files from the session folders into the './outputs' subfolder in the session:\n",
    "# p: /nfs/turbo/umms-kdiba/Data/KDIBA/pin01/one/11-03_12-3-25/outputs/loadedSessPickle.pkl already in outputs folder.\n",
    "# p: /nfs/turbo/umms-kdiba/Data/KDIBA/pin01/one/11-09_21-17-16/outputs/loadedSessPickle.pkl already in outputs folder.\n",
    "# p: /nfs/turbo/umms-kdiba/Data/KDIBA/pin01/one/fet11-04_21-20-3/outputs/loadedSessPickle.pkl already in outputs folder.\n",
    "# p: /nfs/turbo/umms-kdiba/Data/KDIBA/pin01/one/11-03_21-26-8/outputs/loadedSessPickle.pkl already in outputs folder.\n",
    "# p: /nfs/turbo/umms-kdiba/Data/KDIBA/pin01/one/11-09_22-4-5/outputs/loadedSessPickle.pkl already in outputs folder.\n",
    "# ..."
   ]
  },
  {
   "cell_type": "code",
   "execution_count": 7,
   "id": "c08951e7-4fef-4226-b3cd-75627533e944",
   "metadata": {},
   "outputs": [],
   "source": [
    "import os\n",
    "from pathlib import Path\n",
    "# import glob # for finding .whl file after building binary repo"
   ]
  },
  {
   "cell_type": "code",
   "execution_count": null,
   "id": "29978b7c-a1cc-4e6b-bf40-d2f1af0ecee6",
   "metadata": {},
   "outputs": [],
   "source": [
    "./KDIBA/vvp01/one/2006-4-18_13-6-1/loadedSessPickle.pkl"
   ]
  },
  {
   "cell_type": "code",
   "execution_count": null,
   "id": "636c4083-b7b0-4a4a-ad63-7db9400ff058",
   "metadata": {},
   "outputs": [],
   "source": [
    "# Use glob to find the first generated .whl file in the dist/ directory\n",
    "found_whl_files = glob.glob('*.whl')\n",
    "found_whl_files = [a for a in found_whl_files if not a.endswith('current.whl')] # exclude the symlink from the search"
   ]
  },
  {
   "cell_type": "code",
   "execution_count": null,
   "id": "bd2088d8",
   "metadata": {},
   "outputs": [],
   "source": [
    "completed_pipeline_filename = 'loadedSessPickle.pkl'\n",
    "completed_global_computations_filename = 'global_computation_results.pkl'"
   ]
  },
  {
   "cell_type": "code",
   "execution_count": 20,
   "id": "d6db0613-f7f6-48a7-9beb-2f17b3eb941e",
   "metadata": {},
   "outputs": [
    {
     "name": "stdout",
     "output_type": "stream",
     "text": [
      "p: /nfs/turbo/umms-kdiba/Data/KDIBA/pin01/one/11-03_12-3-25/outputs/loadedSessPickle.pkl already in outputs folder.\n",
      "p: /nfs/turbo/umms-kdiba/Data/KDIBA/pin01/one/11-09_21-17-16/outputs/loadedSessPickle.pkl already in outputs folder.\n",
      "p: /nfs/turbo/umms-kdiba/Data/KDIBA/pin01/one/fet11-04_21-20-3/outputs/loadedSessPickle.pkl already in outputs folder.\n",
      "p: /nfs/turbo/umms-kdiba/Data/KDIBA/pin01/one/11-03_21-26-8/outputs/loadedSessPickle.pkl already in outputs folder.\n",
      "p: /nfs/turbo/umms-kdiba/Data/KDIBA/pin01/one/11-09_22-4-5/outputs/loadedSessPickle.pkl already in outputs folder.\n",
      "p: /nfs/turbo/umms-kdiba/Data/KDIBA/pin01/one/fet11-01_12-58-54/outputs/loadedSessPickle.pkl already in outputs folder.\n",
      "p: /nfs/turbo/umms-kdiba/Data/KDIBA/pin01/one/11-05_19-26-43/outputs/loadedSessPickle.pkl already in outputs folder.\n",
      "p: /nfs/turbo/umms-kdiba/Data/KDIBA/pin01/one/11-09_11-43-50/outputs/loadedSessPickle.pkl already in outputs folder.\n",
      "p: /nfs/turbo/umms-kdiba/Data/KDIBA/pin01/one/11-02_19-28-0/outputs/loadedSessPickle.pkl already in outputs folder.\n",
      "p: /nfs/turbo/umms-kdiba/Data/KDIBA/vvp01/one/2006-4-18_13-6-1/outputs/loadedSessPickle.pkl already in outputs folder.\n",
      "p: /nfs/turbo/umms-kdiba/Data/KDIBA/vvp01/one/2006-4-27_14-43-12/outputs/loadedSessPickle.pkl already in outputs folder.\n",
      "p: /nfs/turbo/umms-kdiba/Data/KDIBA/vvp01/one/2006-4-19_13-34-40/outputs/loadedSessPickle.pkl already in outputs folder.\n",
      "p: /nfs/turbo/umms-kdiba/Data/KDIBA/vvp01/one/2006-4-09_17-29-30/outputs/loadedSessPickle.pkl already in outputs folder.\n",
      "p: /nfs/turbo/umms-kdiba/Data/KDIBA/vvp01/one/2006-4-18_15-23-32/outputs/loadedSessPickle.pkl already in outputs folder.\n",
      "p: /nfs/turbo/umms-kdiba/Data/KDIBA/vvp01/one/2006-4-17_12-33-47/outputs/loadedSessPickle.pkl already in outputs folder.\n",
      "p: /nfs/turbo/umms-kdiba/Data/KDIBA/vvp01/two/2006-4-26_13-51-50/outputs/loadedSessPickle.pkl already in outputs folder.\n",
      "p: /nfs/turbo/umms-kdiba/Data/KDIBA/vvp01/two/2006-4-25_13-20-55/outputs/loadedSessPickle.pkl already in outputs folder.\n",
      "p: /nfs/turbo/umms-kdiba/Data/KDIBA/vvp01/two/2006-4-11_16-2-46/outputs/loadedSessPickle.pkl already in outputs folder.\n",
      "p: /nfs/turbo/umms-kdiba/Data/KDIBA/vvp01/two/2006-4-16_14-49-24/outputs/loadedSessPickle.pkl already in outputs folder.\n",
      "p: /nfs/turbo/umms-kdiba/Data/KDIBA/vvp01/two/2006-4-17_12-52-15/outputs/loadedSessPickle.pkl already in outputs folder.\n",
      "p: /nfs/turbo/umms-kdiba/Data/KDIBA/vvp01/two/2006-4-19_13-50-7/outputs/loadedSessPickle.pkl already in outputs folder.\n",
      "p: /nfs/turbo/umms-kdiba/Data/KDIBA/vvp01/two/2006-4-12_15-25-59/outputs/loadedSessPickle.pkl already in outputs folder.\n",
      "p: /nfs/turbo/umms-kdiba/Data/KDIBA/vvp01/two/2006-4-11_12-48-38/outputs/loadedSessPickle.pkl already in outputs folder.\n",
      "p: /nfs/turbo/umms-kdiba/Data/KDIBA/vvp01/two/2006-4-09_16-40-54/outputs/loadedSessPickle.pkl already in outputs folder.\n",
      "p: /nfs/turbo/umms-kdiba/Data/KDIBA/vvp01/two/2006-4-16_18-47-52/outputs/loadedSessPickle.pkl already in outputs folder.\n",
      "p: /nfs/turbo/umms-kdiba/Data/KDIBA/vvp01/two/2006-4-21_11-19-2/outputs/loadedSessPickle.pkl already in outputs folder.\n",
      "p: /nfs/turbo/umms-kdiba/Data/KDIBA/vvp01/two/2006-4-10_12-58-3/outputs/loadedSessPickle.pkl already in outputs folder.\n",
      "p: /nfs/turbo/umms-kdiba/Data/KDIBA/vvp01/two/2006-4-19_16-37-40/outputs/loadedSessPickle.pkl already in outputs folder.\n",
      "p: /nfs/turbo/umms-kdiba/Data/KDIBA/gor01/one/2006-6-13_14-42-6/outputs/loadedSessPickle.pkl already in outputs folder.\n",
      "p: /nfs/turbo/umms-kdiba/Data/KDIBA/gor01/one/2006-6-09_3-23-37/outputs/loadedSessPickle.pkl already in outputs folder.\n",
      "p: /nfs/turbo/umms-kdiba/Data/KDIBA/gor01/one/2006-6-09_1-22-43/outputs/loadedSessPickle.pkl already in outputs folder.\n",
      "p: /nfs/turbo/umms-kdiba/Data/KDIBA/gor01/one/2006-6-07_11-26-53/outputs/loadedSessPickle.pkl already in outputs folder.\n",
      "p: /nfs/turbo/umms-kdiba/Data/KDIBA/gor01/one/2006-6-12_15-55-31/outputs/loadedSessPickle.pkl already in outputs folder.\n",
      "p: /nfs/turbo/umms-kdiba/Data/KDIBA/gor01/one/2006-6-08_14-26-15/outputs/loadedSessPickle.pkl already in outputs folder.\n",
      "p: /nfs/turbo/umms-kdiba/Data/KDIBA/gor01/two/2006-6-08_15-46-47/outputs/loadedSessPickle.pkl already in outputs folder.\n",
      "p: /nfs/turbo/umms-kdiba/Data/KDIBA/gor01/two/2006-6-08_21-16-25/outputs/loadedSessPickle.pkl already in outputs folder.\n",
      "p: /nfs/turbo/umms-kdiba/Data/KDIBA/gor01/two/2006-6-13_15-22-3/outputs/loadedSessPickle.pkl already in outputs folder.\n",
      "p: /nfs/turbo/umms-kdiba/Data/KDIBA/gor01/two/2006-6-07_16-40-19/outputs/loadedSessPickle.pkl already in outputs folder.\n",
      "p: /nfs/turbo/umms-kdiba/Data/KDIBA/gor01/two/2006-6-12_16-53-46/outputs/loadedSessPickle.pkl already in outputs folder.\n",
      "p: /nfs/turbo/umms-kdiba/Data/KDIBA/gor01/two/2006-6-09_22-24-40/outputs/loadedSessPickle.pkl already in outputs folder.\n"
     ]
    },
    {
     "data": {
      "text/plain": [
       "[PosixPath('/nfs/turbo/umms-kdiba/Data/KDIBA/pin01/one/11-03_12-3-25/outputs/loadedSessPickle.pkl'),\n",
       " PosixPath('/nfs/turbo/umms-kdiba/Data/KDIBA/pin01/one/11-09_21-17-16/outputs/loadedSessPickle.pkl'),\n",
       " PosixPath('/nfs/turbo/umms-kdiba/Data/KDIBA/pin01/one/fet11-04_21-20-3/outputs/loadedSessPickle.pkl'),\n",
       " PosixPath('/nfs/turbo/umms-kdiba/Data/KDIBA/pin01/one/11-03_21-26-8/outputs/loadedSessPickle.pkl'),\n",
       " PosixPath('/nfs/turbo/umms-kdiba/Data/KDIBA/pin01/one/11-09_22-4-5/outputs/loadedSessPickle.pkl'),\n",
       " PosixPath('/nfs/turbo/umms-kdiba/Data/KDIBA/pin01/one/fet11-01_12-58-54/outputs/loadedSessPickle.pkl'),\n",
       " PosixPath('/nfs/turbo/umms-kdiba/Data/KDIBA/pin01/one/11-05_19-26-43/outputs/loadedSessPickle.pkl'),\n",
       " PosixPath('/nfs/turbo/umms-kdiba/Data/KDIBA/pin01/one/11-09_11-43-50/outputs/loadedSessPickle.pkl'),\n",
       " PosixPath('/nfs/turbo/umms-kdiba/Data/KDIBA/pin01/one/11-02_19-28-0/outputs/loadedSessPickle.pkl'),\n",
       " PosixPath('/nfs/turbo/umms-kdiba/Data/KDIBA/vvp01/one/2006-4-18_13-6-1/outputs/loadedSessPickle.pkl'),\n",
       " PosixPath('/nfs/turbo/umms-kdiba/Data/KDIBA/vvp01/one/2006-4-27_14-43-12/outputs/loadedSessPickle.pkl'),\n",
       " PosixPath('/nfs/turbo/umms-kdiba/Data/KDIBA/vvp01/one/2006-4-19_13-34-40/outputs/loadedSessPickle.pkl'),\n",
       " PosixPath('/nfs/turbo/umms-kdiba/Data/KDIBA/vvp01/one/2006-4-09_17-29-30/outputs/loadedSessPickle.pkl'),\n",
       " PosixPath('/nfs/turbo/umms-kdiba/Data/KDIBA/vvp01/one/2006-4-18_15-23-32/outputs/loadedSessPickle.pkl'),\n",
       " PosixPath('/nfs/turbo/umms-kdiba/Data/KDIBA/vvp01/one/2006-4-17_12-33-47/outputs/loadedSessPickle.pkl'),\n",
       " PosixPath('/nfs/turbo/umms-kdiba/Data/KDIBA/vvp01/two/2006-4-26_13-51-50/outputs/loadedSessPickle.pkl'),\n",
       " PosixPath('/nfs/turbo/umms-kdiba/Data/KDIBA/vvp01/two/2006-4-25_13-20-55/outputs/loadedSessPickle.pkl'),\n",
       " PosixPath('/nfs/turbo/umms-kdiba/Data/KDIBA/vvp01/two/2006-4-11_16-2-46/outputs/loadedSessPickle.pkl'),\n",
       " PosixPath('/nfs/turbo/umms-kdiba/Data/KDIBA/vvp01/two/2006-4-16_14-49-24/outputs/loadedSessPickle.pkl'),\n",
       " PosixPath('/nfs/turbo/umms-kdiba/Data/KDIBA/vvp01/two/2006-4-17_12-52-15/outputs/loadedSessPickle.pkl'),\n",
       " PosixPath('/nfs/turbo/umms-kdiba/Data/KDIBA/vvp01/two/2006-4-19_13-50-7/outputs/loadedSessPickle.pkl'),\n",
       " PosixPath('/nfs/turbo/umms-kdiba/Data/KDIBA/vvp01/two/2006-4-12_15-25-59/outputs/loadedSessPickle.pkl'),\n",
       " PosixPath('/nfs/turbo/umms-kdiba/Data/KDIBA/vvp01/two/2006-4-11_12-48-38/outputs/loadedSessPickle.pkl'),\n",
       " PosixPath('/nfs/turbo/umms-kdiba/Data/KDIBA/vvp01/two/2006-4-09_16-40-54/outputs/loadedSessPickle.pkl'),\n",
       " PosixPath('/nfs/turbo/umms-kdiba/Data/KDIBA/vvp01/two/2006-4-16_18-47-52/outputs/loadedSessPickle.pkl'),\n",
       " PosixPath('/nfs/turbo/umms-kdiba/Data/KDIBA/vvp01/two/2006-4-21_11-19-2/outputs/loadedSessPickle.pkl'),\n",
       " PosixPath('/nfs/turbo/umms-kdiba/Data/KDIBA/vvp01/two/2006-4-10_12-58-3/outputs/loadedSessPickle.pkl'),\n",
       " PosixPath('/nfs/turbo/umms-kdiba/Data/KDIBA/vvp01/two/2006-4-19_16-37-40/outputs/loadedSessPickle.pkl'),\n",
       " PosixPath('/nfs/turbo/umms-kdiba/Data/KDIBA/gor01/one/2006-6-13_14-42-6/outputs/loadedSessPickle.pkl'),\n",
       " PosixPath('/nfs/turbo/umms-kdiba/Data/KDIBA/gor01/one/2006-6-09_3-23-37/outputs/loadedSessPickle.pkl'),\n",
       " PosixPath('/nfs/turbo/umms-kdiba/Data/KDIBA/gor01/one/2006-6-09_1-22-43/outputs/loadedSessPickle.pkl'),\n",
       " PosixPath('/nfs/turbo/umms-kdiba/Data/KDIBA/gor01/one/2006-6-07_11-26-53/outputs/loadedSessPickle.pkl'),\n",
       " PosixPath('/nfs/turbo/umms-kdiba/Data/KDIBA/gor01/one/2006-6-12_15-55-31/outputs/loadedSessPickle.pkl'),\n",
       " PosixPath('/nfs/turbo/umms-kdiba/Data/KDIBA/gor01/one/2006-6-08_14-26-15/outputs/loadedSessPickle.pkl'),\n",
       " PosixPath('/nfs/turbo/umms-kdiba/Data/KDIBA/gor01/two/2006-6-08_15-46-47/outputs/loadedSessPickle.pkl'),\n",
       " PosixPath('/nfs/turbo/umms-kdiba/Data/KDIBA/gor01/two/2006-6-08_21-16-25/outputs/loadedSessPickle.pkl'),\n",
       " PosixPath('/nfs/turbo/umms-kdiba/Data/KDIBA/gor01/two/2006-6-13_15-22-3/outputs/loadedSessPickle.pkl'),\n",
       " PosixPath('/nfs/turbo/umms-kdiba/Data/KDIBA/gor01/two/2006-6-07_16-40-19/outputs/loadedSessPickle.pkl'),\n",
       " PosixPath('/nfs/turbo/umms-kdiba/Data/KDIBA/gor01/two/2006-6-12_16-53-46/outputs/loadedSessPickle.pkl'),\n",
       " PosixPath('/nfs/turbo/umms-kdiba/Data/KDIBA/gor01/two/2006-6-09_22-24-40/outputs/loadedSessPickle.pkl')]"
      ]
     },
     "execution_count": 20,
     "metadata": {},
     "output_type": "execute_result"
    }
   ],
   "source": [
    "## Moves all previously saved loadedSessPickle.pkl files to the outputs folder.\n",
    "correctly_placed_output_files = []\n",
    "search_path = Path(\"/home/halechr/turbo/Data/KDIBA/\").resolve()\n",
    "assert search_path.exists()\n",
    "for p in search_path.rglob(completed_pipeline_filename):\n",
    "    if p.parent.name != 'outputs':\n",
    "        # If not already in the 'outputs/' subfolder, move it there.\n",
    "        print(f'p: {p}')\n",
    "        curr_output_dir = p.parent.joinpath('outputs')\n",
    "        curr_output_dir.mkdir(exist_ok=True)\n",
    "        # print(f'curr_output_dir: {curr_output_dir}')\n",
    "        new_path = p.replace(curr_output_dir.joinpath(p.name))\n",
    "        print(f'\\t new_path: {new_path}')\n",
    "        correctly_placed_output_files.append(p)\n",
    "    else:\n",
    "        print(f'p: {p} already in outputs folder.')\n",
    "        correctly_placed_output_files.append(p)\n",
    "    \n",
    "correctly_placed_output_files"
   ]
  },
  {
   "cell_type": "code",
   "execution_count": null,
   "id": "0247e456-9178-440f-9131-377449784e9a",
   "metadata": {},
   "outputs": [],
   "source": []
  }
 ],
 "metadata": {
  "kernelspec": {
   "display_name": "Python 3 (ipykernel)",
   "language": "python",
   "name": "python3"
  },
  "language_info": {
   "codemirror_mode": {
    "name": "ipython",
    "version": 3
   },
   "file_extension": ".py",
   "mimetype": "text/x-python",
   "name": "python",
   "nbconvert_exporter": "python",
   "pygments_lexer": "ipython3",
   "version": "3.9.12"
  }
 },
 "nbformat": 4,
 "nbformat_minor": 5
}
