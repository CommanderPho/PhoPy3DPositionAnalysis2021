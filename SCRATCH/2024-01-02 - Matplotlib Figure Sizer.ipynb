{
 "cells": [
  {
   "cell_type": "code",
   "execution_count": 4,
   "metadata": {},
   "outputs": [
    {
     "data": {
      "application/vnd.jupyter.widget-view+json": {
       "model_id": "c0b442d75e22416bba3eada02d6c9b27",
       "version_major": 2,
       "version_minor": 0
      },
      "text/plain": [
       "interactive(children=(IntSlider(value=10, description='w', max=20, min=1), IntSlider(value=10, description='h'…"
      ]
     },
     "execution_count": 4,
     "metadata": {},
     "output_type": "execute_result"
    }
   ],
   "source": [
    "import matplotlib.pyplot as plt\n",
    "from ipywidgets import interactive\n",
    "\n",
    "def display_interactive_figure(width, height):\n",
    "    \"\"\" 2024-01-02 - Renders an interactive figure with two sliders.\n",
    "    \n",
    "    \"\"\"\n",
    "    def update_figure(w, h):\n",
    "        fig, ax = plt.subplots(figsize=(w, h))\n",
    "        ax.set_title('Interactive Figure')\n",
    "        ax.plot([0, 1, 2, 1, 0], [0, 1, 0, -1, 0])  # Example plot, a skewed square, rendering as a diamond\n",
    "        plt.show()\n",
    "\n",
    "    max_size = 20\n",
    "    interactive_plot = interactive(update_figure, w=(1, max_size), h=(1, max_size))\n",
    "    return interactive_plot\n",
    "\n",
    "\n",
    "display_interactive_figure(20, 6)\n"
   ]
  },
  {
   "cell_type": "code",
   "execution_count": null,
   "metadata": {},
   "outputs": [],
   "source": []
  }
 ],
 "metadata": {
  "kernelspec": {
   "display_name": ".venv",
   "language": "python",
   "name": "python3"
  },
  "language_info": {
   "codemirror_mode": {
    "name": "ipython",
    "version": 3
   },
   "file_extension": ".py",
   "mimetype": "text/x-python",
   "name": "python",
   "nbconvert_exporter": "python",
   "pygments_lexer": "ipython3",
   "version": "3.9.13"
  }
 },
 "nbformat": 4,
 "nbformat_minor": 2
}
