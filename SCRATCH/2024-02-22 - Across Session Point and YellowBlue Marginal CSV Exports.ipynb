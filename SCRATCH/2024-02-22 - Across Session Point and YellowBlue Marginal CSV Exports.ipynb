{
 "cells": [
  {
   "cell_type": "markdown",
   "metadata": {},
   "source": [
    "This notebook allows collecting results across multiple pipeline runs. Concatenating across sessions and bin sizes. \n",
    "It takes CSVs, then determines the most recent one from the filename. \n",
    "\n",
    "There are two major sets of decoded epochs - Laps and Ripples/Replays\n",
    "There are two sets of marginals for the decoded epochs - the \"by epoch\" and \"by time bin\" marginals.\n",
    "The \"by time bin\" epochs are a larger granulation, with each epoch consisting of one or more time bin.\n",
    "\n",
    "\n",
    "```python\n",
    "\n",
    "# 2024-01-23 - \n",
    "# C:/Users/pho/repos/Spike3DWorkEnv/Spike3D/output/collected_outputs/2024-01-23_GL-fet11-01_12-58-54_time_bin_size_sweep_results.h5\n",
    "# C:/Users/pho/repos/Spike3DWorkEnv/Spike3D/output/collected_outputs/2024-01-23_GL-11-03_12-3-25_time_bin_size_sweep_results.h5\n",
    "# C:/Users/pho/repos/Spike3DWorkEnv/Spike3D/output/collected_outputs/2024-01-23_GL-11-02_17-46-44_time_bin_size_sweep_results.h5\n",
    "# C:/Users/pho/repos/Spike3DWorkEnv/Spike3D/output/collected_outputs/2024-01-23_GL-11-02_19-28-0_time_bin_size_sweep_results.h5\n",
    "# C:/Users/pho/repos/Spike3DWorkEnv/Spike3D/output/collected_outputs/2024-01-23_GL-2006-4-10_12-58-3_time_bin_size_sweep_results.h5\n",
    "# C:/Users/pho/repos/Spike3DWorkEnv/Spike3D/output/collected_outputs/2024-01-23_GL-2006-4-10_12-25-50_time_bin_size_sweep_results.h5\n",
    "# C:/Users/pho/repos/Spike3DWorkEnv/Spike3D/output/collected_outputs/2024-01-23_GL-2006-4-09_16-40-54_time_bin_size_sweep_results.h5\n",
    "# C:/Users/pho/repos/Spike3DWorkEnv/Spike3D/output/collected_outputs/2024-01-23_GL-2006-6-09_22-24-40_time_bin_size_sweep_results.h5\n",
    "# C:/Users/pho/repos/Spike3DWorkEnv/Spike3D/output/collected_outputs/2024-01-23_GL-2006-6-12_16-53-46_time_bin_size_sweep_results.h5\n",
    "# C:/Users/pho/repos/Spike3DWorkEnv/Spike3D/output/collected_outputs/2024-01-23_GL-2006-4-09_17-29-30_time_bin_size_sweep_results.h5\n",
    "# C:/Users/pho/repos/Spike3DWorkEnv/Spike3D/output/collected_outputs/2024-01-23_GL-2006-6-08_14-26-15_time_bin_size_sweep_results.h5\n",
    "# C:/Users/pho/repos/Spike3DWorkEnv/Spike3D/output/collected_outputs/2024-01-23_GL-2006-6-09_1-22-43_time_bin_size_sweep_results.h5\n",
    "# C:/Users/pho/repos/Spike3DWorkEnv/Spike3D/output/collected_outputs/2024-01-23_GL-2006-6-07_16-40-19_time_bin_size_sweep_results.h5\n",
    "# C:/Users/pho/repos/Spike3DWorkEnv/Spike3D/output/collected_outputs/2024-01-23_GL-2006-6-08_21-16-25_time_bin_size_sweep_results.h5\n",
    "# C:/Users/pho/repos/Spike3DWorkEnv/Spike3D/output/collected_outputs/2024-01-23_GL-2006-6-12_15-55-31_time_bin_size_sweep_results.h5\n",
    "\n",
    "\n",
    "\n",
    "# found_session_export_paths = [Path(v).resolve() for v in  [\"C:/Users/pho/repos/Spike3DWorkEnv/Spike3D/output/collected_outputs/2024-01-12_0420PM-kdiba_pin01_one_fet11-01_12-58-54-(laps_marginals_df).csv\",\n",
    "# \"C:/Users/pho/repos/Spike3DWorkEnv/Spike3D/output/collected_outputs/2024-01-12_0420PM-kdiba_pin01_one_fet11-01_12-58-54-(ripple_marginals_df).csv\",\n",
    "# \"C:/Users/pho/repos/Spike3DWorkEnv/Spike3D/output/collected_outputs/2024-01-12_0645PM-kdiba_pin01_one_fet11-01_12-58-54-(laps_marginals_df).csv\",\n",
    "# \"C:/Users/pho/repos/Spike3DWorkEnv/Spike3D/output/collected_outputs/2024-01-12_0645PM-kdiba_pin01_one_fet11-01_12-58-54-(ripple_marginals_df).csv\",\n",
    "# \"C:/Users/pho/repos/Spike3DWorkEnv/Spike3D/output/collected_outputs/2024-01-12_0828PM-kdiba_pin01_one_fet11-01_12-58-54-(laps_marginals_df).csv\",\n",
    "# \"C:/Users/pho/repos/Spike3DWorkEnv/Spike3D/output/collected_outputs/2024-01-12_0828PM-kdiba_pin01_one_fet11-01_12-58-54-(ripple_marginals_df).csv\",\n",
    "# ]]\n",
    "\n",
    "[\n",
    "    \"2024-02-19_0430PM-kdiba_vvp01_one_2006-4-10_12-25-50-(ripple_simple_pf_pearson_merged_df)_tbin-0.025.csv\",\n",
    "    \"2024-02-17_0210AM-kdiba_vvp01_one_2006-4-09_17-29-30-(laps_simple_pf_pearson_merged_df)_tbin-0.025.csv\",\n",
    "    \"2024-02-19_0430PM-kdiba_vvp01_one_2006-4-10_12-25-50-(laps_weighted_corr_merged_df)_tbin-0.025.csv\",\n",
    "    \"2024-02-19_0430PM-kdiba_vvp01_one_2006-4-10_12-25-50-(ripple_weighted_corr_merged_df)_tbin-0.025.csv\",\n",
    "]\n",
    "\n",
    "```"
   ]
  },
  {
   "cell_type": "code",
   "execution_count": 1,
   "metadata": {
    "notebookRunGroups": {
     "groupValue": "1"
    }
   },
   "outputs": [
    {
     "name": "stdout",
     "output_type": "stream",
     "text": [
      "Automatic pdb calling has been turned OFF\n"
     ]
    },
    {
     "name": "stderr",
     "output_type": "stream",
     "text": [
      "/home/halechr/repos/Spike3D/.venv/lib/python3.9/site-packages/outdated/utils.py:14: OutdatedPackageWarning: The package pingouin is out of date. Your version is 0.5.3, the latest is 0.5.4.\n",
      "Set the environment variable OUTDATED_IGNORE=1 to disable these warnings.\n",
      "  return warn(\n"
     ]
    },
    {
     "name": "stdout",
     "output_type": "stream",
     "text": [
      "TODAY_DAY_DATE: 2024-02-22\n"
     ]
    }
   ],
   "source": [
    "%config IPCompleter.use_jedi = False\n",
    "%pdb off\n",
    "%load_ext autoreload\n",
    "%autoreload 3\n",
    "\n",
    "# required to enable non-blocking interaction:\n",
    "%gui qt5\n",
    "\n",
    "import sys\n",
    "from copy import deepcopy\n",
    "from typing import List, Dict, Tuple, Optional, Union, Callable\n",
    "import numpy as np\n",
    "import pandas as pd\n",
    "import re\n",
    "from pathlib import Path\n",
    "from datetime import datetime\n",
    "import plotly.express as px\n",
    "import plotly.graph_objects as go\n",
    "from plotly.subplots import make_subplots\n",
    "\n",
    "# Plotting\n",
    "# import pylustrator # customization of figures\n",
    "import matplotlib\n",
    "import matplotlib as mpl\n",
    "import matplotlib.pyplot as plt\n",
    "_bak_rcParams = mpl.rcParams.copy()\n",
    "\n",
    "matplotlib.use('Qt5Agg')\n",
    "# %matplotlib inline\n",
    "# %matplotlib auto\n",
    "\n",
    "# _restore_previous_matplotlib_settings_callback = matplotlib_configuration_update(is_interactive=True, backend='Qt5Agg')\n",
    "# _restore_previous_matplotlib_settings_callback = matplotlib_configuration_update(is_interactive=True, backend='Qt5Agg')\n",
    "import seaborn as sns\n",
    "\n",
    "# from ..PendingNotebookCode import plot_across_sessions_scatter_results, plot_histograms, plot_stacked_histograms\n",
    "from pyphocorehelpers.Filesystem.path_helpers import find_first_extant_path\n",
    "from pyphoplacecellanalysis.SpecificResults.PendingNotebookCode import find_csv_files, find_HDF5_files, find_most_recent_files, process_csv_file, plot_across_sessions_scatter_results, plot_histograms, plot_stacked_histograms\n",
    "\n",
    "debug_print: bool = False\n",
    "\n",
    "TODAY_DAY_DATE: str = f\"2024-02-22\"\n",
    "\n",
    "print(f'TODAY_DAY_DATE: {TODAY_DAY_DATE}')"
   ]
  },
  {
   "cell_type": "markdown",
   "metadata": {},
   "source": [
    "# Definitions"
   ]
  },
  {
   "cell_type": "code",
   "execution_count": 2,
   "metadata": {
    "notebookRunGroups": {
     "groupValue": "1"
    }
   },
   "outputs": [
    {
     "name": "stdout",
     "output_type": "stream",
     "text": [
      "collected_outputs_directory: /home/halechr/cloud/turbo/Data/Output/collected_outputs\n"
     ]
    },
    {
     "ename": "TypeError",
     "evalue": "float() argument must be a string or a number, not 'PosixPath'",
     "output_type": "error",
     "traceback": [
      "\u001b[0;31m---------------------------------------------------------------------------\u001b[0m",
      "\u001b[0;31mTypeError\u001b[0m                                 Traceback (most recent call last)",
      "\u001b[1;32m/home/halechr/repos/Spike3D/SCRATCH/2024-02-22 - Across Session Point and YellowBlue Marginal CSV Exports.ipynb Cell 4\u001b[0m line \u001b[0;36m2\n\u001b[1;32m     <a href='vscode-notebook-cell:/home/halechr/repos/Spike3D/SCRATCH/2024-02-22%20-%20Across%20Session%20Point%20and%20YellowBlue%20Marginal%20CSV%20Exports.ipynb#W3sZmlsZQ%3D%3D?line=17'>18</a>\u001b[0m \u001b[39massert\u001b[39;00m t_delta_csv_path\u001b[39m.\u001b[39mexists()\n\u001b[1;32m     <a href='vscode-notebook-cell:/home/halechr/repos/Spike3D/SCRATCH/2024-02-22%20-%20Across%20Session%20Point%20and%20YellowBlue%20Marginal%20CSV%20Exports.ipynb#W3sZmlsZQ%3D%3D?line=19'>20</a>\u001b[0m \u001b[39m## Find the files:\u001b[39;00m\n\u001b[0;32m---> <a href='vscode-notebook-cell:/home/halechr/repos/Spike3D/SCRATCH/2024-02-22%20-%20Across%20Session%20Point%20and%20YellowBlue%20Marginal%20CSV%20Exports.ipynb#W3sZmlsZQ%3D%3D?line=20'>21</a>\u001b[0m csv_files \u001b[39m=\u001b[39m find_csv_files(collected_outputs_directory)\n\u001b[1;32m     <a href='vscode-notebook-cell:/home/halechr/repos/Spike3D/SCRATCH/2024-02-22%20-%20Across%20Session%20Point%20and%20YellowBlue%20Marginal%20CSV%20Exports.ipynb#W3sZmlsZQ%3D%3D?line=21'>22</a>\u001b[0m h5_files \u001b[39m=\u001b[39m find_HDF5_files(collected_outputs_directory)\n\u001b[1;32m     <a href='vscode-notebook-cell:/home/halechr/repos/Spike3D/SCRATCH/2024-02-22%20-%20Across%20Session%20Point%20and%20YellowBlue%20Marginal%20CSV%20Exports.ipynb#W3sZmlsZQ%3D%3D?line=23'>24</a>\u001b[0m csv_sessions \u001b[39m=\u001b[39m find_most_recent_files(found_session_export_paths\u001b[39m=\u001b[39mcsv_files)\n",
      "File \u001b[0;32m~/repos/pyPhoPlaceCellAnalysis/src/pyphoplacecellanalysis/SpecificResults/PendingNotebookCode.py:2445\u001b[0m, in \u001b[0;36mfind_csv_files\u001b[0;34m(directory, recurrsive)\u001b[0m\n\u001b[1;32m   2444\u001b[0m \u001b[39mdef\u001b[39;00m \u001b[39mfind_csv_files\u001b[39m(directory: \u001b[39mstr\u001b[39m, recurrsive: \u001b[39mbool\u001b[39m\u001b[39m=\u001b[39m\u001b[39mFalse\u001b[39;00m):\n\u001b[0;32m-> 2445\u001b[0m     directory_path \u001b[39m=\u001b[39m Path(directory) \u001b[39m# Convert string path to a Path object\u001b[39;00m\n\u001b[1;32m   2446\u001b[0m     \u001b[39mif\u001b[39;00m recurrsive:\n\u001b[1;32m   2447\u001b[0m         \u001b[39mreturn\u001b[39;00m \u001b[39mlist\u001b[39m(directory_path\u001b[39m.\u001b[39mglob(\u001b[39m'\u001b[39m\u001b[39m**/*.csv\u001b[39m\u001b[39m'\u001b[39m)) \u001b[39m# Return a list of all .csv files in the directory and its subdirectories\u001b[39;00m\n",
      "File \u001b[0;32m~/repos/Spike3D/.venv/lib/python3.9/site-packages/matplotlib/path.py:129\u001b[0m, in \u001b[0;36mPath.__init__\u001b[0;34m(self, vertices, codes, _interpolation_steps, closed, readonly)\u001b[0m\n\u001b[1;32m     99\u001b[0m \u001b[39mdef\u001b[39;00m \u001b[39m__init__\u001b[39m(\u001b[39mself\u001b[39m, vertices, codes\u001b[39m=\u001b[39m\u001b[39mNone\u001b[39;00m, _interpolation_steps\u001b[39m=\u001b[39m\u001b[39m1\u001b[39m,\n\u001b[1;32m    100\u001b[0m              closed\u001b[39m=\u001b[39m\u001b[39mFalse\u001b[39;00m, readonly\u001b[39m=\u001b[39m\u001b[39mFalse\u001b[39;00m):\n\u001b[1;32m    101\u001b[0m \u001b[39m    \u001b[39m\u001b[39m\"\"\"\u001b[39;00m\n\u001b[1;32m    102\u001b[0m \u001b[39m    Create a new path with the given vertices and codes.\u001b[39;00m\n\u001b[1;32m    103\u001b[0m \n\u001b[0;32m   (...)\u001b[0m\n\u001b[1;32m    127\u001b[0m \u001b[39m        and codes as read-only arrays.\u001b[39;00m\n\u001b[1;32m    128\u001b[0m \u001b[39m    \"\"\"\u001b[39;00m\n\u001b[0;32m--> 129\u001b[0m     vertices \u001b[39m=\u001b[39m _to_unmasked_float_array(vertices)\n\u001b[1;32m    130\u001b[0m     _api\u001b[39m.\u001b[39mcheck_shape((\u001b[39mNone\u001b[39;00m, \u001b[39m2\u001b[39m), vertices\u001b[39m=\u001b[39mvertices)\n\u001b[1;32m    132\u001b[0m     \u001b[39mif\u001b[39;00m codes \u001b[39mis\u001b[39;00m \u001b[39mnot\u001b[39;00m \u001b[39mNone\u001b[39;00m:\n",
      "File \u001b[0;32m~/repos/Spike3D/.venv/lib/python3.9/site-packages/matplotlib/cbook.py:1345\u001b[0m, in \u001b[0;36m_to_unmasked_float_array\u001b[0;34m(x)\u001b[0m\n\u001b[1;32m   1343\u001b[0m     \u001b[39mreturn\u001b[39;00m np\u001b[39m.\u001b[39mma\u001b[39m.\u001b[39masarray(x, \u001b[39mfloat\u001b[39m)\u001b[39m.\u001b[39mfilled(np\u001b[39m.\u001b[39mnan)\n\u001b[1;32m   1344\u001b[0m \u001b[39melse\u001b[39;00m:\n\u001b[0;32m-> 1345\u001b[0m     \u001b[39mreturn\u001b[39;00m np\u001b[39m.\u001b[39;49masarray(x, \u001b[39mfloat\u001b[39;49m)\n",
      "\u001b[0;31mTypeError\u001b[0m: float() argument must be a string or a number, not 'PosixPath'"
     ]
    }
   ],
   "source": [
    "## Load across session t_delta CSV, which contains the t_delta for each session:\n",
    "\n",
    "# t_delta_csv_path = Path(r'C:\\Users\\pho\\repos\\Spike3DWorkEnv\\Spike3D\\output\\collected_outputs\\2024-01-18_GL_t_split_df.csv').resolve() # Apogee\n",
    "# t_delta_csv_path = Path('/home/halechr/cloud/turbo/Data/Output/collected_outputs/2024-01-18_GL_t_split_df.csv').resolve() # GL\n",
    "\n",
    "# collected_outputs_directory = '/home/halechr/FastData/collected_outputs/'\n",
    "# collected_outputs_directory = r'C:\\Users\\pho\\Desktop\\collected_outputs'\n",
    "# collected_outputs_directory = r'C:/Users/pho/repos/Spike3DWorkEnv/Spike3D/output/collected_outputs' # APOGEE\n",
    "# collected_outputs_directory = '/home/halechr/cloud/turbo/Data/Output/collected_outputs' # GL\n",
    "\n",
    "known_collected_outputs_paths = [Path(v).resolve() for v in [r'C:/Users/pho/repos/Spike3DWorkEnv/Spike3D/output/collected_outputs', '/home/halechr/cloud/turbo/Data/Output/collected_outputs', '/home/halechr/FastData/collected_outputs/']]\n",
    "collected_outputs_directory = find_first_extant_path(known_collected_outputs_paths)\n",
    "assert collected_outputs_directory.exists(), f\"collected_outputs_directory: {collected_outputs_directory} does not exist! Is the right computer's config commented out above?\"\n",
    "# fullwidth_path_widget(scripts_output_path, file_name_label='Scripts Output Path:')\n",
    "print(f'collected_outputs_directory: {collected_outputs_directory}')\n",
    "\n",
    "t_delta_csv_path = collected_outputs_directory.joinpath('2024-01-18_GL_t_split_df.csv').resolve() # GL\n",
    "assert t_delta_csv_path.exists()\n",
    "\n",
    "## Find the files:\n",
    "csv_files = find_csv_files(collected_outputs_directory)\n",
    "h5_files = find_HDF5_files(collected_outputs_directory)\n",
    "\n",
    "csv_sessions = find_most_recent_files(found_session_export_paths=csv_files)\n",
    "h5_sessions = find_most_recent_files(found_session_export_paths=h5_files)\n",
    "\n",
    "## The CSV containing the session delta time:\n",
    "t_delta_df = pd.read_csv(t_delta_csv_path, index_col=0) # Assuming that your CSV file has an index column\n",
    "# adds `delta_aligned_t_start`, `delta_aligned_t_end` columns\n",
    "t_delta_df['delta_aligned_t_start'] = t_delta_df['t_start'] - t_delta_df['t_delta']\n",
    "t_delta_df['delta_aligned_t_end'] = t_delta_df['t_end'] - t_delta_df['t_delta']\n",
    "\n",
    "# computes `earliest_delta_aligned_t_start`, latest_delta_aligned_t_end\n",
    "earliest_delta_aligned_t_start: float = np.nanmin(t_delta_df['delta_aligned_t_start'])\n",
    "latest_delta_aligned_t_end: float = np.nanmax(t_delta_df['delta_aligned_t_end'])\n",
    "print(f'earliest_delta_aligned_t_start: {earliest_delta_aligned_t_start}, latest_delta_aligned_t_end: {latest_delta_aligned_t_end}')\n",
    "t_delta_dict = t_delta_df.to_dict(orient='index')\n",
    "# t_delta_df\n",
    "\n",
    "# csv_sessions\n",
    "# Extract each of the separate files from the sessions:\n",
    "\n",
    "final_sessions = {}\n",
    "final_sessions_loaded_laps_dict = {}\n",
    "final_sessions_loaded_ripple_dict = {}\n",
    "final_sessions_loaded_laps_time_bin_dict = {}\n",
    "final_sessions_loaded_ripple_time_bin_dict = {}\n",
    "final_sessions_loaded_laps_new_dict = {}\n",
    "final_sessions_loaded_ripple_new_dict = {}\n",
    "\n",
    "for session_str, session_dict in csv_sessions.items():\n",
    "    final_sessions[session_str] = {}\n",
    "    for file_type, (an_decoding_time_bin_size_str, a_path, an_export_datetime) in session_dict.items():\n",
    "        final_sessions[session_str][file_type] = a_path\n",
    "        \n",
    "    session_name: str = str(session_str)  # Extract session name from the filename\n",
    "    if debug_print:\n",
    "        print(f'processing session_name: {session_name}')\n",
    "    curr_session_t_delta: Optional[float] = t_delta_dict.get(session_name, {}).get('t_delta', None)\n",
    "    if curr_session_t_delta is None:\n",
    "        print(f'WARN: curr_session_t_split is None for session_str = \"{session_str}\"')\n",
    "\n",
    "    # finds each of the four exports:\n",
    "    try:\n",
    "        laps_file = final_sessions[session_str]['laps_marginals_df']\n",
    "        final_sessions_loaded_laps_dict[session_str] = process_csv_file(laps_file, session_name, curr_session_t_delta, 'lap_start_t')\n",
    "    except BaseException as e:\n",
    "        print(f'session {session_str} did not fully work. (error {e}. Skipping.') \n",
    "        pass\n",
    "                \n",
    "    try:\n",
    "        ripple_file = final_sessions[session_str]['ripple_marginals_df']\n",
    "        final_sessions_loaded_ripple_dict[session_str] = process_csv_file(ripple_file, session_name, curr_session_t_delta, 'ripple_start_t')\n",
    "    except BaseException as e:\n",
    "        print(f'session {session_str} did not fully work. (error {e}. Skipping.') \n",
    "        pass\n",
    "        \n",
    "    try:\n",
    "        laps_time_bin_file = final_sessions[session_str]['laps_time_bin_marginals_df']\n",
    "        final_sessions_loaded_laps_time_bin_dict[session_str] = process_csv_file(laps_time_bin_file, session_name, curr_session_t_delta, 't_bin_center')\n",
    "    except BaseException as e:\n",
    "        print(f'session {session_str} did not fully work. (error {e}. Skipping.') \n",
    "        pass   \n",
    "\n",
    "    try:\n",
    "        ripple_time_bin_file = final_sessions[session_str]['ripple_time_bin_marginals_df']\n",
    "        final_sessions_loaded_ripple_time_bin_dict[session_str] = process_csv_file(ripple_time_bin_file, session_name, curr_session_t_delta, 't_bin_center')\n",
    "    except BaseException as e:\n",
    "        print(f'session {session_str} did not fully work. (error {e}. Skipping.') \n",
    "        pass\n",
    "\n",
    "    # 2024-02-19 NEW laps_simple_pf_pearson_merged_df ____________________________________________________________________ #\n",
    "    # Allowed time_bin_size = 0.025\n",
    "    try:\n",
    "        laps_file = final_sessions[session_str]['laps_simple_pf_pearson_merged_df']\n",
    "        final_sessions_loaded_laps_new_dict[session_str] = process_csv_file(laps_file, session_name, curr_session_t_delta, 'lap_start_t')\n",
    "    except BaseException as e:\n",
    "        print(f'session {session_str} did not fully work. (error {e}. Skipping.') \n",
    "        pass\n",
    "                \n",
    "    try:\n",
    "        ripple_file = final_sessions[session_str]['ripple_simple_pf_pearson_merged_df']\n",
    "        final_sessions_loaded_ripple_new_dict[session_str] = process_csv_file(ripple_file, session_name, curr_session_t_delta, 'ripple_start_t')\n",
    "    except BaseException as e:\n",
    "        print(f'session {session_str} did not fully work. (error {e}. Skipping.') \n",
    "        pass\n",
    "        \n",
    "\n",
    "\n",
    "\n",
    "\n",
    "## Build across_sessions join dataframes:\n",
    "all_sessions_laps_df: pd.DataFrame = pd.concat(list(final_sessions_loaded_laps_dict.values()), axis='index', ignore_index=True)\n",
    "all_sessions_ripple_df: pd.DataFrame = pd.concat(list(final_sessions_loaded_ripple_dict.values()), axis='index', ignore_index=True)\n",
    "# Add 'epoch_idx' column for compatibility:\n",
    "all_sessions_laps_df['epoch_idx'] = all_sessions_laps_df['lap_idx']\n",
    "all_sessions_ripple_df['epoch_idx'] = all_sessions_ripple_df['ripple_idx']\n",
    "\n",
    "# *_time_bin marginals:\n",
    "all_sessions_laps_time_bin_df: pd.DataFrame = pd.concat(list(final_sessions_loaded_laps_time_bin_dict.values()), axis='index', ignore_index=True)\n",
    "all_sessions_ripple_time_bin_df: pd.DataFrame = pd.concat(list(final_sessions_loaded_ripple_time_bin_dict.values()), axis='index', ignore_index=True)\n",
    "\n",
    "\n",
    "# NEW ________________________________________________________________________________________________________________ #\n",
    "all_sessions_new_laps_df: pd.DataFrame = pd.concat(list(final_sessions_loaded_laps_new_dict.values()), axis='index', ignore_index=True)\n",
    "all_sessions_new_ripple_df: pd.DataFrame = pd.concat(list(final_sessions_loaded_ripple_new_dict.values()), axis='index', ignore_index=True)\n",
    "\n",
    "\n",
    "if 'time_bin_size' not in all_sessions_laps_df:\n",
    "    print('Uh-oh! time_bin_size is missing! This must be old exports!')\n",
    "    print(f'\\tTry to determine the time_bin_size from the filenames: {csv_sessions}')\n",
    "    ## manual correction UwU\n",
    "    time_bin_size: float = 0.025\n",
    "    print(f'WARNING! MANUAL OVERRIDE TIME BIN SIZE SET: time_bin_size = {time_bin_size}. Assigning to dataframes....')\n",
    "    all_sessions_laps_df['time_bin_size'] = time_bin_size\n",
    "    all_sessions_ripple_df['time_bin_size'] = time_bin_size\n",
    "    all_sessions_laps_time_bin_df['time_bin_size'] = time_bin_size\n",
    "    all_sessions_ripple_time_bin_df['time_bin_size'] = time_bin_size\n",
    "    print(f'\\tdone.')\n",
    "else:\n",
    "    # Filter rows based on column: 'time_bin_size'\n",
    "    all_sessions_laps_df = all_sessions_laps_df[all_sessions_laps_df['time_bin_size'].notna()]\n",
    "    all_sessions_ripple_df = all_sessions_ripple_df[all_sessions_ripple_df['time_bin_size'].notna()]\n",
    "    all_sessions_laps_time_bin_df = all_sessions_laps_time_bin_df[all_sessions_laps_time_bin_df['time_bin_size'].notna()]\n",
    "    all_sessions_ripple_time_bin_df = all_sessions_ripple_time_bin_df[all_sessions_ripple_time_bin_df['time_bin_size'].notna()]\n",
    "\n",
    "\n",
    "## Drop the weird 'Unnamed: 0' column:\n",
    "\n",
    "# Rename column 'Unnamed: 0' to 'abs_time_bin_index'\n",
    "all_sessions_laps_df = all_sessions_laps_df.rename(columns={'Unnamed: 0': 'abs_time_bin_index'})\n",
    "all_sessions_ripple_df = all_sessions_ripple_df.rename(columns={'Unnamed: 0': 'abs_time_bin_index'})\n",
    "all_sessions_laps_time_bin_df = all_sessions_laps_time_bin_df.rename(columns={'Unnamed: 0': 'abs_time_bin_index'})\n",
    "all_sessions_ripple_time_bin_df = all_sessions_ripple_time_bin_df.rename(columns={'Unnamed: 0': 'abs_time_bin_index'})\n",
    "all_sessions_new_laps_df = all_sessions_new_laps_df.rename(columns={'Unnamed: 0': 'abs_time_bin_index'})\n",
    "all_sessions_new_ripple_df = all_sessions_new_ripple_df.rename(columns={'Unnamed: 0': 'abs_time_bin_index'})\n",
    "\n",
    "\n",
    "# Drop column: 'abs_time_bin_index'\n",
    "all_sessions_laps_df = all_sessions_laps_df.drop(columns=['abs_time_bin_index'])\n",
    "all_sessions_ripple_df = all_sessions_ripple_df.drop(columns=['abs_time_bin_index'])\n",
    "all_sessions_laps_time_bin_df = all_sessions_laps_time_bin_df.drop(columns=['abs_time_bin_index'])\n",
    "all_sessions_ripple_time_bin_df = all_sessions_ripple_time_bin_df.drop(columns=['abs_time_bin_index'])\n",
    "all_sessions_new_laps_df = all_sessions_new_laps_df.drop(columns=['abs_time_bin_index'])\n",
    "all_sessions_new_ripple_df = all_sessions_new_ripple_df.drop(columns=['abs_time_bin_index'])\n",
    "\n",
    "all_sessions_laps_time_bin_df"
   ]
  },
  {
   "cell_type": "code",
   "execution_count": null,
   "metadata": {},
   "outputs": [],
   "source": [
    "all_sessions_new_ripple_df"
   ]
  },
  {
   "cell_type": "code",
   "execution_count": null,
   "metadata": {},
   "outputs": [],
   "source": [
    "all_sessions_new_laps_df"
   ]
  },
  {
   "cell_type": "code",
   "execution_count": null,
   "metadata": {},
   "outputs": [],
   "source": []
  },
  {
   "cell_type": "code",
   "execution_count": null,
   "metadata": {},
   "outputs": [],
   "source": []
  },
  {
   "cell_type": "code",
   "execution_count": null,
   "metadata": {},
   "outputs": [],
   "source": [
    "csv_files"
   ]
  },
  {
   "cell_type": "code",
   "execution_count": null,
   "metadata": {
    "notebookRunGroups": {
     "groupValue": "1"
    },
    "tags": [
     "parameters"
    ]
   },
   "outputs": [],
   "source": [
    "final_output_path = Path(\"../output/\").resolve()\n",
    "\n",
    "# final_sessions\n",
    "# {'kdiba_gor01_one_2006-6-08_14-26-15': {'ripple_marginals_df': WindowsPath('C:/Users/pho/repos/Spike3DWorkEnv/Spike3D/output/collected_outputs/2024-01-17_0540PM-kdiba_gor01_one_2006-6-08_14-26-15-(ripple_marginals_df).csv'),\n",
    "#   'laps_marginals_df': WindowsPath('C:/Users/pho/repos/Spike3DWorkEnv/Spike3D/output/collected_outputs/2024-01-17_0540PM-kdiba_gor01_one_2006-6-08_14-26-15-(laps_marginals_df).csv')},\n",
    "#  'kdiba_gor01_one_2006-6-09_1-22-43': {'ripple_marginals_df': WindowsPath('C:/Users/pho/repos/Spike3DWorkEnv/Spike3D/output/collected_outputs/2024-01-12_0838PM-kdiba_gor01_one_2006-6-09_1-22-43-(ripple_marginals_df).csv'),\n",
    "#   'laps_marginals_df': WindowsPath('C:/Users/pho/repos/Spike3DWorkEnv/Spike3D/output/collected_outputs/2024-01-12_0838PM-kdiba_gor01_one_2006-6-09_1-22-43-(laps_marginals_df).csv')},\n",
    "#  'kdiba_pin01_one_fet11-01_12-58-54': {'ripple_marginals_df': WindowsPath('C:/Users/pho/repos/Spike3DWorkEnv/Spike3D/output/collected_outputs/2024-01-12_0828PM-kdiba_pin01_one_fet11-01_12-58-54-(ripple_marginals_df).csv'),\n",
    "#   'laps_marginals_df': WindowsPath('C:/Users/pho/repos/Spike3DWorkEnv/Spike3D/output/collected_outputs/2024-01-12_0828PM-kdiba_pin01_one_fet11-01_12-58-54-(laps_marginals_df).csv')}}\n",
    "\n",
    "# Save out the four dataframes to CSVs:\n",
    "final_dfs_dict = {\"AcrossSession_Laps_per-Epoch\": all_sessions_laps_df, \"AcrossSession_Ripple_per-Epoch\": all_sessions_ripple_df,\n",
    "\t\t\t\t   \"AcrossSession_Laps_per-TimeBin\": all_sessions_laps_time_bin_df, \"AcrossSession_Ripple_per-TimeBin\": all_sessions_ripple_time_bin_df,\n",
    "\t\t\t\t   \"AcrossSession_NEW_Laps_per-Epoch\": all_sessions_new_laps_df, \"AcrossSession_NEW_Ripple_per-Epoch\": all_sessions_new_ripple_df,\n",
    "\t\t\t\t   }\n",
    "\n",
    "final_csv_export_paths = {}\n",
    "for a_name, a_final_df in final_dfs_dict.items():\n",
    "\t# save out one final DF to csv.\n",
    "\tout_csv_filename: str = f\"{TODAY_DAY_DATE}_{a_name}.csv\"\n",
    "\ta_final_csv_export_path = final_output_path.joinpath(out_csv_filename).resolve()\n",
    "\ta_final_df.to_csv(a_final_csv_export_path) # save to CSV.\n",
    "\tfinal_csv_export_paths[a_name] = a_final_csv_export_path\n",
    "\t\n",
    "final_csv_export_paths\n"
   ]
  },
  {
   "cell_type": "code",
   "execution_count": null,
   "metadata": {},
   "outputs": [],
   "source": [
    "all_sessions_new_laps_df, all_sessions_new_ripple_df"
   ]
  },
  {
   "cell_type": "code",
   "execution_count": null,
   "metadata": {},
   "outputs": [],
   "source": [
    "all_sessions_laps_df"
   ]
  },
  {
   "cell_type": "markdown",
   "metadata": {},
   "source": [
    "# 2024-02-08 - Temporal Timecourse of Long/Short Replays after Delta using cross-correlations and auto-correlations"
   ]
  },
  {
   "cell_type": "code",
   "execution_count": null,
   "metadata": {
    "notebookRunGroups": {
     "groupValue": "3"
    }
   },
   "outputs": [],
   "source": [
    "from pyphocorehelpers.indexing_helpers import partition_df\n",
    "\n",
    "def _split_is_post_delta(df):\n",
    "    df['is_post_delta'] = (df['delta_aligned_start_t'] > 0.0)\n",
    "    return partition_df(df, partitionColumn='is_post_delta')[-1] # [-1] gets the actual dataframe list\n",
    "\n",
    "def _split_long_likely(df):\n",
    "    df['is_long_likely'] = (df['P_Long'] > 0.5)\n",
    "    return partition_df(df, partitionColumn='is_long_likely')[-1] # [-1] gets the actual dataframe list\n",
    "\n",
    "def _split_on_pre_post_delta_and_likely_track(df):\n",
    "    pre_delta_ripple_df, post_delta_ripple_df = _split_is_post_delta(df)\n",
    "    pre_delta_long_likely_ripple_df, pre_delta_short_likely_ripple_df = _split_long_likely(pre_delta_ripple_df)\n",
    "    post_delta_long_likely_ripple_df, post_delta_short_likely_ripple_df = _split_long_likely(post_delta_ripple_df)\n",
    "    return (pre_delta_ripple_df, post_delta_ripple_df), (pre_delta_long_likely_ripple_df, pre_delta_short_likely_ripple_df), (post_delta_long_likely_ripple_df, post_delta_short_likely_ripple_df)\n",
    "\n",
    "\n",
    "# only allow one time bin size\n",
    "# active_time_bin_size = 0.10\n",
    "\n",
    "# active_time_bin_size = 0.025\n",
    "active_time_bin_size = 0.03\n",
    "\n",
    "## Get only those after the delta, which occurs at t=0 relative to delta_aligned_start_t:\n",
    "filtered_all_sessions_laps_df = all_sessions_laps_df[all_sessions_laps_df['time_bin_size'] == active_time_bin_size].copy()\n",
    "filtered_all_sessions_laps_df['is_long_likely'] = (filtered_all_sessions_laps_df['P_Long'] > 0.5)\n",
    "(pre_delta_laps_df, post_delta_laps_df), (pre_delta_long_likely_laps_df, pre_delta_short_likely_laps_df), (post_delta_long_likely_laps_df, post_delta_short_likely_laps_df) = _split_on_pre_post_delta_and_likely_track(filtered_all_sessions_laps_df)\n",
    "\n",
    "filtered_all_sessions_ripple_df = all_sessions_ripple_df[all_sessions_ripple_df['time_bin_size'] == active_time_bin_size].copy().drop(columns=['time_bin_size'])\n",
    "filtered_all_sessions_ripple_df['is_long_likely'] = (filtered_all_sessions_ripple_df['P_Long'] > 0.5)\n",
    "(pre_delta_ripple_df, post_delta_ripple_df), (pre_delta_long_likely_ripple_df, pre_delta_short_likely_ripple_df), (post_delta_long_likely_ripple_df, post_delta_short_likely_ripple_df) = _split_on_pre_post_delta_and_likely_track(filtered_all_sessions_ripple_df)\n"
   ]
  },
  {
   "cell_type": "code",
   "execution_count": null,
   "metadata": {},
   "outputs": [],
   "source": [
    "laps_df_dict = {\n",
    "\t\"all_post_delta_laps\": filtered_all_sessions_laps_df,\n",
    "\t\"long_likely_laps_df\": long_likely_laps_df,\n",
    "\t\"short_likely_laps_df\": short_likely_laps_df,\n",
    "}\n",
    "\t\n",
    "ripples_df_dict = {\n",
    "\t\"all_post_delta_ripple\": filtered_all_sessions_ripple_df,\n",
    "\t\"long_likely_ripple_df\": long_likely_ripple_df,\n",
    "\t\"short_likely_ripple_df\": short_likely_ripple_df,\n",
    "}\n",
    "\n",
    "all_sessions_laps_df, all_sessions_ripple_df\n",
    "all_sessions_laps_time_bin_df, all_sessions_ripple_time_bin_df\n",
    "earliest_delta_aligned_t_start, latest_delta_aligned_t_end"
   ]
  },
  {
   "cell_type": "code",
   "execution_count": null,
   "metadata": {},
   "outputs": [],
   "source": [
    "from statsmodels.graphics.tsaplots import plot_acf\n",
    "import matplotlib.pyplot as plt\n",
    "# import proplot as pplt\n",
    "# %matplotlib inline\n",
    "# %matplotlib auto\n",
    "%matplotlib qt\n"
   ]
  },
  {
   "cell_type": "code",
   "execution_count": null,
   "metadata": {},
   "outputs": [],
   "source": [
    "def plot_laps(laps_df_dict):\n",
    "    \"\"\"\n",
    "    Consolidates the laps plots into a single figure\n",
    "    Args:\n",
    "        laps_df_dict (dict): A dictionary with keys as plot titles and values as DataFrame with 'delta_aligned_start_t' column\n",
    "    \"\"\"\n",
    "    fig, axs = plt.subplots(3, figsize=(10, 15))\n",
    "    fig.suptitle('Laps Plots')\n",
    "    \n",
    "    for i, (title, df) in enumerate(laps_df_dict.items()):\n",
    "        pd.plotting.autocorrelation_plot(df.delta_aligned_start_t, ax=axs[i])\n",
    "        axs[i].set_title(title)\n",
    "        axs[i].set_xlabel('Lag (seconds)')\n",
    "        \n",
    "    plt.tight_layout()\n",
    "    plt.subplots_adjust(top=0.95)\n",
    "    plt.show()\n",
    "\n",
    "def plot_ripples(ripples_df_dict):\n",
    "    \"\"\"\n",
    "    Consolidates the ripple plots into a single figure\n",
    "    Args:\n",
    "        ripples_df_dict (dict): A dictionary with keys as plot titles and values as DataFrame with 'delta_aligned_start_t' column\n",
    "    \"\"\"\n",
    "    fig, axs = plt.subplots(3, figsize=(10, 15))\n",
    "    fig.suptitle('Ripples Plots')\n",
    "    \n",
    "    for i, (title, df) in enumerate(ripples_df_dict.items()):\n",
    "        pd.plotting.autocorrelation_plot(df.delta_aligned_start_t, ax=axs[i])\n",
    "        axs[i].set_title(title)\n",
    "        axs[i].set_xlabel('Lag (seconds)')\n",
    "        \n",
    "    plt.tight_layout()\n",
    "    plt.subplots_adjust(top=0.95)\n",
    "    plt.show()\n",
    "\n",
    "## BODY\n",
    "def _plot_all_signal_correlations(filtered_all_sessions_laps_df, long_likely_laps_df, short_likely_laps_df, filtered_all_sessions_ripple_df, long_likely_ripple_df, short_likely_ripple_df):\n",
    "    laps_df_dict = {\n",
    "        \"all_post_delta_laps\": filtered_all_sessions_laps_df,\n",
    "        \"long_likely_laps_df\": long_likely_laps_df,\n",
    "        \"short_likely_laps_df\": short_likely_laps_df,\n",
    "    }\n",
    "    plot_laps(laps_df_dict)\n",
    "        \n",
    "    ripples_df_dict = {\n",
    "        \"all_post_delta_ripple\": filtered_all_sessions_ripple_df,\n",
    "        \"long_likely_ripple_df\": long_likely_ripple_df,\n",
    "        \"short_likely_ripple_df\": short_likely_ripple_df,\n",
    "    }\n",
    "    plot_ripples(ripples_df_dict)\n",
    "\n",
    "\n",
    "\n",
    "## Inputs: pre_delta_long_likely_laps_df, pre_delta_short_likely_laps_df, pre_delta_long_likely_ripple_df, pre_delta_short_likely_ripple_df\n",
    "# long_likely_laps_df = pre_delta_long_likely_laps_df.copy()\n",
    "# short_likely_laps_df = pre_delta_short_likely_laps_df.copy()\n",
    "\n",
    "# long_likely_ripple_df = pre_delta_long_likely_ripple_df.copy()\n",
    "# short_likely_ripple_df = pre_delta_short_likely_ripple_df.copy()\n",
    "\n",
    "## Inputs: pre_delta_long_likely_laps_df, pre_delta_short_likely_laps_df, pre_delta_long_likely_ripple_df, pre_delta_short_likely_ripple_df\n",
    "\n",
    "# _plot_all_signal_correlations(filtered_all_sessions_laps_df, long_likely_laps_df, short_likely_laps_df, filtered_all_sessions_ripple_df, long_likely_ripple_df, short_likely_ripple_df)\n",
    "# plt.suptitle('Pre-$\\Delta$ Time Correlations')\n",
    "\n",
    "# _plot_all_signal_correlations(filtered_all_sessions_laps_df, pre_delta_long_likely_laps_df.copy(), pre_delta_short_likely_laps_df.copy(), filtered_all_sessions_ripple_df, pre_delta_long_likely_ripple_df.copy(), pre_delta_short_likely_ripple_df.copy())\n",
    "_plot_all_signal_correlations(filtered_all_sessions_laps_df, post_delta_long_likely_laps_df.copy(), post_delta_short_likely_laps_df.copy(), filtered_all_sessions_ripple_df, post_delta_long_likely_ripple_df.copy(), post_delta_short_likely_ripple_df.copy())\n",
    "plt.suptitle('Post-$\\Delta$ Time Correlations - All Sessions')"
   ]
  },
  {
   "cell_type": "code",
   "execution_count": null,
   "metadata": {},
   "outputs": [],
   "source": [
    "import seaborn as sns\n",
    "import matplotlib.pyplot as plt\n",
    "\n",
    "# sns.kdeplot(filtered_all_sessions_ripple_df['delta_aligned_start_t'])\n",
    "# sns.kdeplot(filtered_all_sessions_ripple_df['delta_aligned_start_t'])\n",
    "# sns.kdeplot(filtered_all_sessions_ripple_df, x='delta_aligned_start_t', hue='is_post_delta', y='is_long_likely')\n",
    "sns.kdeplot(filtered_all_sessions_ripple_df, x='delta_aligned_start_t', hue='is_long_likely')\n",
    "plt.show()"
   ]
  },
  {
   "cell_type": "code",
   "execution_count": null,
   "metadata": {},
   "outputs": [],
   "source": [
    "sns.kdeplot(long_likely_ripple_df, x='delta_aligned_start_t')\n",
    "plt.show()"
   ]
  },
  {
   "cell_type": "code",
   "execution_count": null,
   "metadata": {},
   "outputs": [],
   "source": [
    "sns.kdeplot(short_likely_ripple_df['delta_aligned_start_t'])\n",
    "plt.show()"
   ]
  },
  {
   "cell_type": "code",
   "execution_count": null,
   "metadata": {},
   "outputs": [],
   "source": [
    "sns.kdeplot(post_delta_long_likely_ripple_df['delta_aligned_start_t'])\n",
    "plt.show()"
   ]
  },
  {
   "cell_type": "code",
   "execution_count": null,
   "metadata": {},
   "outputs": [],
   "source": [
    "sns.kdeplot(post_delta_short_likely_ripple_df['delta_aligned_start_t'])"
   ]
  },
  {
   "cell_type": "code",
   "execution_count": null,
   "metadata": {},
   "outputs": [],
   "source": [
    "# Assuming series1 and series2 are your two pandas Series\n",
    "correlation = long_likely_ripple_df.delta_aligned_start_t.corr(short_likely_ripple_df.delta_aligned_start_t)\n",
    "print('Correlation: ', correlation)\n",
    "\n",
    "# # Scatter plot\n",
    "# plt.scatter(long_likely_ripple_df.delta_aligned_start_t, short_likely_ripple_df.delta_aligned_start_t)\n",
    "# plt.title('Scatter Plot')\n",
    "# plt.xlabel('Series 1')\n",
    "# plt.ylabel('Series 2')\n",
    "# plt.show()"
   ]
  },
  {
   "cell_type": "code",
   "execution_count": null,
   "metadata": {},
   "outputs": [],
   "source": [
    "\n",
    " # delta_aligned_start_t\n",
    "\n",
    "# filtered_all_sessions_laps_df.delta_aligned_start_t.autocorr()\n",
    "\n",
    "# plot_acf(filtered_all_sessions_laps_df.delta_aligned_start_t)\n",
    "plt.show()"
   ]
  },
  {
   "cell_type": "code",
   "execution_count": null,
   "metadata": {},
   "outputs": [],
   "source": [
    "plt.close('all')"
   ]
  },
  {
   "cell_type": "code",
   "execution_count": null,
   "metadata": {
    "notebookRunGroups": {
     "groupValue": "3"
    }
   },
   "outputs": [],
   "source": [
    "import pycorrelate as pyc\n",
    "\n",
    "# compute lags in timestamp units (not in seconds!)\n",
    "# to avoid floating point inacuracies\n",
    "# bins_per_dec = 10\n",
    "# unit = np.timedelta64()\n",
    "\n",
    "# bins = pyc.make_loglags(1, 8, bins_per_dec)[bins_per_dec//2:]\n",
    "# Convert the float array to timedelta64 by multiplying with '1s'\n",
    "# bins = (bins * 1e9).astype('timedelta64[ns]')\n",
    "\n",
    "unit = 1e9\n",
    "# convert_to_time_units = lambda t: (t * 1e9).astype('timedelta64[ns]')\n",
    "convert_to_time_units = lambda t: (t) #.astype('timedelta64[ns]')\n",
    "\n",
    "# compute lags in sec. then convert to timestamp units\n",
    "# bins = pyc.make_loglags(-1, 5, 20)\n",
    "# bins = pyc.make_loglags(-1, 5, 5)\n",
    "bins = pyc.make_loglags(-1, 2, 5)\n",
    "\n",
    "# Convert the float array to timedelta64 by multiplying with '1s'\n",
    "# bins = (bins * 1e9).astype('timedelta64[ns]')\n",
    "bins = convert_to_time_units(bins)\n",
    "\n",
    "long_likely_epoch_times = convert_to_time_units(deepcopy(long_likely_laps_df['delta_aligned_start_t'].to_numpy()))\n",
    "short_likely_epoch_times = convert_to_time_units(deepcopy(short_likely_laps_df['delta_aligned_start_t'].to_numpy()))\n",
    "\n",
    "# long_likely_epoch_times = convert_to_time_units(deepcopy(long_likely_ripples_df['delta_aligned_start_t'].to_numpy()))\n",
    "# short_likely_epoch_times = convert_to_time_units(deepcopy(short_likely_ripples_df['delta_aligned_start_t'].to_numpy()))\n",
    "\n",
    "long_likely_autocorrelation = pyc.pcorrelate(long_likely_epoch_times, long_likely_epoch_times, bins)\n",
    "short_likely_autocorrelation = pyc.pcorrelate(short_likely_epoch_times, short_likely_epoch_times, bins)\n",
    "long_short_likely_cross_correlation = pyc.pcorrelate(long_likely_epoch_times, short_likely_epoch_times, bins)\n",
    "\n",
    "long_likely_autocorrelation\n",
    "short_likely_autocorrelation\n",
    "long_short_likely_cross_correlation"
   ]
  },
  {
   "cell_type": "code",
   "execution_count": null,
   "metadata": {},
   "outputs": [],
   "source": [
    "import plotly.express as px\n",
    "import plotly.io as pio\n",
    "pio.renderers.default = \"notebook\"\n",
    "\n",
    "# Convert data to DataFrame\n",
    "t_bins = deepcopy(bins.astype('float'))  # convert timedelta64[ns] to float\n",
    "t_bins = (t_bins[1:] + t_bins[:-1]) / 2\n",
    "\n",
    "df1 = pd.DataFrame({'Bins': t_bins, 'Correlation': long_likely_autocorrelation, 'Type': 'Long Autocorrelation'})\n",
    "df2 = pd.DataFrame({'Bins': t_bins, 'Correlation': short_likely_autocorrelation, 'Type': 'Short Autocorrelation'})\n",
    "df3 = pd.DataFrame({'Bins': t_bins, 'Correlation': long_short_likely_cross_correlation, 'Type': 'Cross Correlation'})\n",
    "\n",
    "df = pd.concat([df1, df2, df3])\n",
    "\n",
    "# Plot using Plotly Express\n",
    "fig = px.line(df, x=\"Bins\", y=\"Correlation\", color=\"Type\", facet_row=\"Type\", \n",
    "              labels={'Bins': 'Bins (seconds)', 'Correlation': 'Correlation'},\n",
    "              title='Correlation vs Bins')\n",
    "# fig.update_xaxes(type=\"log\")\n",
    "fig.update_yaxes(type=\"log\")\n",
    "\n",
    "fig"
   ]
  },
  {
   "cell_type": "code",
   "execution_count": null,
   "metadata": {},
   "outputs": [],
   "source": [
    "G = long_short_likely_cross_correlation.copy()\n",
    "# bins_unit = bins*unit\n",
    "bins_unit = bins.copy()\n",
    "fig, ax = plt.subplots(figsize=(10, 6))\n",
    "plt.plot(bins_unit, np.hstack((G[:1], G)), drawstyle='steps-pre')\n",
    "plt.xlabel('Time (s)')\n",
    "#for x in bins[1:]: plt.axvline(x*unit, lw=0.2)  # to mark bins\n",
    "plt.grid(True); plt.grid(True, which='minor', lw=0.3)\n",
    "plt.xscale('log')\n",
    "# plt.xlim(30e-9, 2)\n",
    "plt.title('Cross-correlation of Long and Short')\n",
    "\n",
    "long_short_likely_cross_correlation"
   ]
  },
  {
   "cell_type": "code",
   "execution_count": null,
   "metadata": {},
   "outputs": [],
   "source": [
    "# Tweak here matplotlib style\n",
    "import matplotlib.pyplot as plt\n",
    "import matplotlib as mpl\n",
    "mpl.rcParams['font.sans-serif'].insert(0, 'Arial')\n",
    "mpl.rcParams['font.size'] = 10\n",
    "# %config InlineBackend.figure_format = 'retina'\n",
    "# %matplotlib qt\n",
    "# matplotlib.use('Qt5Agg')\n",
    "\n",
    "def plot_correlate(G):\n",
    "    fig, ax = plt.subplots(figsize=(10, 6))\n",
    "    plt.plot(bins, np.hstack((G[:1], G)), drawstyle='steps-pre')\n",
    "    plt.xlabel('Time (s)')\n",
    "    #for x in bins[1:]: plt.axvline(x*unit, lw=0.2)  # to mark bins\n",
    "    plt.grid(True); plt.grid(True, which='minor', lw=0.3)\n",
    "    plt.xscale('log')\n",
    "    plt.xlim(30e-9, 2)\n",
    "    return fig, ax\n",
    "\n",
    "# fig, ax = plot_correlate(long_likely_autocorrelation)\n",
    "fig, ax = plot_correlate(long_short_likely_cross_correlation)\n",
    "# fig.show()\n",
    "fig"
   ]
  },
  {
   "cell_type": "markdown",
   "metadata": {},
   "source": [
    "# Plotting functions"
   ]
  },
  {
   "cell_type": "code",
   "execution_count": null,
   "metadata": {
    "notebookRunGroups": {
     "groupValue": "2"
    }
   },
   "outputs": [],
   "source": [
    "from pyphoplacecellanalysis.General.Model.Configs.LongShortDisplayConfig import PlottingHelpers\n",
    "from pyphoplacecellanalysis.SpecificResults.PendingNotebookCode import plot_across_sessions_scatter_results\n",
    "\n",
    "# Example usage:\n",
    "all_session_figures = plot_across_sessions_scatter_results(collected_outputs_directory, concatenated_laps_df=all_sessions_laps_df, concatenated_ripple_df=all_sessions_ripple_df,\n",
    "\t\t\t\t\t\t\t\t\t\t\t\t\t\t#    enabled_time_bin_sizes=[0.03, 0.10],\n",
    "\t\t\t\t\t\t\t\t\t\t\t\t\t\t   earliest_delta_aligned_t_start=earliest_delta_aligned_t_start, latest_delta_aligned_t_end=latest_delta_aligned_t_end,\n",
    "\t\t\t\t\t\t\t\t\t\t\t\t\t\t   laps_title_prefix=f\"Laps\", ripple_title_prefix=f\"Ripples\", save_figures=True, figure_save_extension=['.html','.png'])\n",
    "fig_laps, fig_ripples = all_session_figures[0]\n",
    "\n",
    "\n",
    "# fig_laps.show()\n",
    "# fig_ripples.show()\n",
    "# fig_laps.write_html(f\"../output/{TODAY_DAY_DATE}_AcrossSession_fig_laps.html\")\n",
    "# fig_ripples.write_html(f\"../output/{TODAY_DAY_DATE}_AcrossSession_fig_ripples.html\")"
   ]
  },
  {
   "cell_type": "code",
   "execution_count": null,
   "metadata": {
    "notebookRunGroups": {
     "groupValue": "2"
    }
   },
   "outputs": [],
   "source": [
    "all_time_bin_session_figures = plot_across_sessions_scatter_results(collected_outputs_directory, concatenated_laps_df=all_sessions_laps_time_bin_df, concatenated_ripple_df=all_sessions_ripple_time_bin_df,\n",
    "\t\t\t\t\t\t\t\t\t\t\t\t\t\t#    enabled_time_bin_sizes=[0.03, 0.10],\n",
    "\t\t\t\t\t\t\t\t\t\t\t\t\t\t   earliest_delta_aligned_t_start=earliest_delta_aligned_t_start, latest_delta_aligned_t_end=latest_delta_aligned_t_end,\n",
    "\t\t\t\t\t\t\t\t\t\t\t\t\t\t   main_plot_mode='separate_row_per_session',\n",
    "\t\t\t\t\t\t\t\t\t\t\t\t\t\t   laps_title_prefix=f\"Laps_per_time_bin\", ripple_title_prefix=f\"Ripples_per_time_bin\", save_figures=True, figure_save_extension=['.html','.png'])\n",
    "fig_time_bin_laps, fig_time_bin_ripples = all_time_bin_session_figures[0]\n",
    "# fig_time_bin_laps.show()\n",
    "# fig_time_bin_ripples.show()\n",
    "\n",
    "# for fig_time_bin_laps, fig_time_bin_ripples in all_time_bin_session_figures:\n",
    "#     fig_time_bin_laps.show()\n",
    "#     fig_time_bin_ripples.show()\n",
    "#     # fig_laps.write_html(\"../output/2024-01-18_AcrossSession_fig_laps.html\")\n",
    "#     # fig_ripples.write_html(\"../output/2024-01-18_AcrossSession_fig_ripples.html\")\n",
    "#     fig_time_bin_laps.write_html(\"../output/2024-01-23_AcrossSession_fig_time_bin_laps.html\")\n",
    "#     fig_time_bin_ripples.write_html(\"../output/2024-01-23_AcrossSession_fig_time_bin_ripples.html\")\n"
   ]
  },
  {
   "cell_type": "code",
   "execution_count": null,
   "metadata": {},
   "outputs": [],
   "source": [
    "from pyphoplacecellanalysis.SpecificResults.PendingNotebookCode import plot_across_sessions_scatter_results, _helper_build_figure\n",
    "\n",
    "## Test collapsed histograms-only results:\n",
    "histograms_only_all_time_bin_session_figures = plot_across_sessions_scatter_results(collected_outputs_directory, concatenated_laps_df=all_sessions_laps_time_bin_df, concatenated_ripple_df=all_sessions_ripple_time_bin_df,\n",
    "\t\t\t\t\t\t\t\t\t\t\t\t\t\t#    enabled_time_bin_sizes=[0.03, 0.10],\n",
    "\t\t\t\t\t\t\t\t\t\t\t\t\t\t\t# enabled_time_bin_sizes=[0.03, 0.058, 0.10], # [0.03 , 0.044, 0.058, 0.072, 0.086, 0.1]\n",
    "\t\t\t\t\t\t\t\t\t\t\t\t\t\t   earliest_delta_aligned_t_start=earliest_delta_aligned_t_start, latest_delta_aligned_t_end=latest_delta_aligned_t_end,\n",
    "\t\t\t\t\t\t\t\t\t\t\t\t\t\t   main_plot_mode='default',\n",
    "\t\t\t\t\t\t\t\t\t\t\t\t\t\t   laps_title_prefix=f\"Laps_per_time_bin\", ripple_title_prefix=f\"Ripples_per_time_bin\", save_figures=False, figure_save_extension=['.html','.png'])\n",
    "histograms_only_fig_time_bin_laps, histograms_only_fig_time_bin_ripples = histograms_only_all_time_bin_session_figures[0]\n",
    "histograms_only_fig_time_bin_laps.show()\n"
   ]
  },
  {
   "cell_type": "code",
   "execution_count": null,
   "metadata": {},
   "outputs": [],
   "source": [
    "import plotly.subplots as sp\n",
    "import plotly.graph_objs as go\n",
    "\n",
    "from pyphoplacecellanalysis.SpecificResults.PendingNotebookCode import complete_plotly_figure\n",
    "\n",
    "# data_results_df: pd.DataFrame = deepcopy(all_sessions_laps_df) # all_sessions_laps_time_bin_df\n",
    "# histogram_bins = 'auto'\n",
    "histogram_bins: int = 25\n",
    "\n",
    "new_laps_fig = complete_plotly_figure(data_results_df=deepcopy(all_sessions_laps_df), out_scatter_fig=fig_laps, histogram_bins=histogram_bins)\n",
    "new_laps_fig"
   ]
  },
  {
   "cell_type": "markdown",
   "metadata": {},
   "source": [
    "# Dash-based Interactivity"
   ]
  },
  {
   "cell_type": "code",
   "execution_count": null,
   "metadata": {
    "tags": [
     "Dash",
     "interactive"
    ]
   },
   "outputs": [],
   "source": [
    "from typing import List, Dict, Optional, Tuple, Union\n",
    "from dash import Dash, html, dash_table, dcc, callback, Output, Input, State\n",
    "from dash.dash_table import DataTable, FormatTemplate\n",
    "from dash.dash_table.Format import Format, Padding\n",
    "\n",
    "import dash_bootstrap_components as dbc\n",
    "import pandas as pd\n",
    "from pathlib import Path\n",
    "# import plotly.express as px\n",
    "import plotly.io as pio\n",
    "template: str = 'plotly_dark' # set plotl template\n",
    "pio.templates.default = template\n",
    "from pyphoplacecellanalysis.SpecificResults.PendingNotebookCode import plot_across_sessions_scatter_results, _helper_build_figure\n",
    "from pyphoplacecellanalysis.SpecificResults.PendingNotebookCode import plot_blue_yellow_points\n",
    "from pyphoplacecellanalysis.SpecificResults.PendingNotebookCode import _build_dash_app\n",
    "    \n",
    "# Incorporate data\n",
    "final_csv_export_paths = {'AcrossSession_Laps_per-Epoch': Path('C:/Users/pho/repos/Spike3DWorkEnv/Spike3D/output/2024-01-30_AcrossSession_Laps_per-Epoch.csv'),\n",
    " 'AcrossSession_Ripple_per-Epoch': Path('C:/Users/pho/repos/Spike3DWorkEnv/Spike3D/output/2024-01-30_AcrossSession_Ripple_per-Epoch.csv'),\n",
    " 'AcrossSession_Laps_per-TimeBin': Path('C:/Users/pho/repos/Spike3DWorkEnv/Spike3D/output/2024-01-30_AcrossSession_Laps_per-TimeBin.csv'),\n",
    " 'AcrossSession_Ripple_per-TimeBin': Path('C:/Users/pho/repos/Spike3DWorkEnv/Spike3D/output/2024-01-30_AcrossSession_Ripple_per-TimeBin.csv')}\n",
    "\n",
    "final_dfs_dict = {a_name:pd.read_csv(a_path.resolve()) for a_name, a_path in final_csv_export_paths.items()}\n",
    "app = _build_dash_app(final_dfs_dict, earliest_delta_aligned_t_start=earliest_delta_aligned_t_start, latest_delta_aligned_t_end=latest_delta_aligned_t_end)\n",
    "\n",
    "# Run the app\n",
    "if __name__ == '__main__':\n",
    "    print(\"Starting the app.\")  # Add this line to check if it's executed\n",
    "    app.run(port=\"8054\", debug=True, use_reloader=False)  # Turn off reloader if inside Jupyter)"
   ]
  },
  {
   "cell_type": "code",
   "execution_count": null,
   "metadata": {},
   "outputs": [],
   "source": [
    "a_df = deepcopy(final_dfs_dict['AcrossSession_Laps_per-TimeBin'])\n",
    "a_df\n",
    "# print(list(a_df.columns))\n",
    "# ['Unnamed: 0.1', 'Unnamed: 0', 'P_LR', 'P_RL', 'P_Long', 'P_Short', 'epoch_idx', 't_bin_center', 'session_name', 'delta_aligned_start_t', 'time_bin_size']\n",
    "\n",
    "yellow_blue_relevent_columns = ['epoch_idx', 'session_name', 'time_bin_size', 'delta_aligned_start_t', 'P_Long', 'P_Short', 'P_LR', 'P_RL']\n",
    "a_df = a_df[yellow_blue_relevent_columns]\n",
    "\n",
    "# filter by time_bin_size first:\n",
    "a_single_selected_time_bin_size: float = 0.1 # time_bin_size\n",
    "a_df = a_df[a_df.time_bin_size.astype(float) == a_single_selected_time_bin_size]\n",
    "\n",
    "## Filter by selected epoch index:\n",
    "selected_epoch_idxs = [5, 6, 9]\n",
    "a_df = a_df[a_df.epoch_idx.isin(selected_epoch_idxs)]\n",
    "\n",
    "# filter by selected epoch index:\n",
    "a_single_epoch_row_idx: int = 0\n",
    "a_single_epoch_idx = selected_epoch_idxs[a_single_epoch_row_idx]\n",
    "a_single_epoch_df = a_df[a_df.epoch_idx == a_single_epoch_idx]\n",
    "a_single_epoch_df\n",
    "\n",
    "## filter by session:\n",
    "a_single_session_name: str = 'kdiba_vvp01_one_2006-4-10_12-25-50'\n",
    "a_single_epoch_df = a_single_epoch_df[a_single_epoch_df.session_name == a_single_session_name]\n",
    "a_single_epoch_df\n"
   ]
  },
  {
   "cell_type": "code",
   "execution_count": null,
   "metadata": {},
   "outputs": [],
   "source": [
    "from pyphoplacecellanalysis.SpecificResults.PendingNotebookCode import plotly_plot_1D_most_likely_position_comparsions\n",
    "from pyphoplacecellanalysis.SpecificResults.PendingNotebookCode import plot_blue_yellow_points\n",
    "\n",
    "# def plot_blue_yellow(a_df, selected_epoch_idxs, a_single_session_name: str):\n",
    "\n",
    "specific_point_list = [{'session_name': 'kdiba_vvp01_one_2006-4-10_12-25-50', 'time_bin_size': 0.03, 'epoch_idx': 0, 'delta_aligned_start_t': -713.908702568122}]\n",
    "\n",
    "# def plot_blue_yellow(a_df, selected_epoch_idxs, a_single_session_name: str):\n",
    "\n",
    "## Takes: a_df, selected_epoch_idxs, a_single_session_name\n",
    "a_df\n",
    "a_single_session_name: str = 'kdiba_vvp01_one_2006-4-10_12-25-50' # #TODO 2024-01-30 16:01: - [ ] Hardcoded session:\n",
    "selected_epoch_idxs = [5, 6, 9]\n",
    "fig = plot_blue_yellow_points(a_df, selected_epoch_idxs=selected_epoch_idxs, a_single_session_name=a_single_session_name)\n",
    "fig.show()\n"
   ]
  },
  {
   "cell_type": "markdown",
   "metadata": {},
   "source": [
    "# Matplotlib-based versions:"
   ]
  },
  {
   "cell_type": "code",
   "execution_count": null,
   "metadata": {},
   "outputs": [],
   "source": [
    "from pyphoplacecellanalysis.SpecificResults.PendingNotebookCode import plot_histograms\n",
    "\n",
    "matplotlib.use('Qt5Agg')"
   ]
  },
  {
   "cell_type": "code",
   "execution_count": null,
   "metadata": {},
   "outputs": [],
   "source": [
    "# from Spike3D.PendingNotebookCode import plot_stacked_histograms\n",
    "\n",
    "# You can use it like this:'long_best_dir_simple_pearsonr'\n",
    "plot_histograms(all_sessions_laps_time_bin_df, 'Laps', 'All Sessions', \"75 ms\")\n",
    "plot_histograms(all_sessions_ripple_time_bin_df, 'Ripples', 'All Sessions', \"75 ms\")"
   ]
  },
  {
   "cell_type": "code",
   "execution_count": null,
   "metadata": {},
   "outputs": [],
   "source": [
    "## all_sessions_new_laps_df, all_sessions_new_ripple_df\n",
    "plot_histograms(all_sessions_new_laps_df, 'New Laps', 'All Sessions', \"25 ms\")\n",
    "plot_histograms(all_sessions_new_ripple_df, 'New Ripples', 'All Sessions', \"25 ms\")\n"
   ]
  },
  {
   "cell_type": "code",
   "execution_count": null,
   "metadata": {},
   "outputs": [],
   "source": [
    "all_sessions_new_laps_df"
   ]
  },
  {
   "cell_type": "code",
   "execution_count": null,
   "metadata": {},
   "outputs": [],
   "source": [
    "len(all_sessions_new_laps_df['session_name'].unique()) # 10 sessions\n",
    "\n"
   ]
  },
  {
   "cell_type": "code",
   "execution_count": null,
   "metadata": {},
   "outputs": [],
   "source": [
    "from pyphoplacecellanalysis.SpecificResults.PendingNotebookCode import plot_stacked_histograms\n",
    "\n",
    "# You can use it like this:\n",
    "num_unique_sessions: int = all_sessions_laps_time_bin_df.session_name.nunique(dropna=True) # number of unique sessions, ignoring the NA entries\n",
    "num_unique_time_bins: int = all_sessions_laps_time_bin_df.time_bin_size.nunique(dropna=True)\n",
    "plot_stacked_histograms(all_sessions_laps_time_bin_df, 'Laps', f'{num_unique_sessions} Sessions', f\"{num_unique_time_bins} tbin sizes\")\n",
    "\n",
    "num_unique_sessions: int = all_sessions_ripple_time_bin_df.session_name.nunique(dropna=True) # number of unique sessions, ignoring the NA entries\n",
    "num_unique_time_bins: int = all_sessions_ripple_time_bin_df.time_bin_size.nunique(dropna=True)\n",
    "plot_stacked_histograms(all_sessions_ripple_time_bin_df, 'Ripples', f'{num_unique_sessions} Sessions', f\"{num_unique_time_bins} tbin sizes\")"
   ]
  },
  {
   "cell_type": "markdown",
   "metadata": {},
   "source": [
    "## 2024-02-20 - New Pearsonr analysis"
   ]
  },
  {
   "cell_type": "code",
   "execution_count": null,
   "metadata": {},
   "outputs": [],
   "source": [
    "new_column_names = ['long_LR_pf_peak_x_pearsonr', 'long_RL_pf_peak_x_pearsonr', 'short_LR_pf_peak_x_pearsonr', 'short_RL_pf_peak_x_pearsonr']\n",
    "\n",
    "\n",
    "def _add_best_direction_columns(_temp_all_sessions_new_ripple_df):\n",
    "    \"\"\" Get the most-likely direction to determine which correlation to use\n",
    "    \n",
    "    \"\"\"\n",
    "    ## Get the most-likely direction to determine which correlation to use\n",
    "    # _temp_all_sessions_new_ripple_df['best_dir_simple_pearsonr'] = pd.NA\n",
    "\n",
    "    # _temp_all_sessions_new_ripple_df[_temp_all_sessions_new_ripple_df['P_LR'] > 0.5] # LR-likely plots\n",
    "\n",
    "    ## Adds two new columns using the best direction as determined by the decoder: ['long_best_dir_simple_pearsonr', 'short_best_dir_simple_pearsonr']\n",
    "    # Using numpy where\n",
    "    _temp_all_sessions_new_ripple_df['long_best_dir_simple_pearsonr'] = np.where((_temp_all_sessions_new_ripple_df['P_LR'] > 0.5), _temp_all_sessions_new_ripple_df['long_LR_pf_peak_x_pearsonr'], _temp_all_sessions_new_ripple_df['long_RL_pf_peak_x_pearsonr'])\n",
    "    _temp_all_sessions_new_ripple_df['short_best_dir_simple_pearsonr'] = np.where((_temp_all_sessions_new_ripple_df['P_LR'] > 0.5), _temp_all_sessions_new_ripple_df['short_LR_pf_peak_x_pearsonr'], _temp_all_sessions_new_ripple_df['short_RL_pf_peak_x_pearsonr'])\n",
    "    ## Define a difference of the absolutes\n",
    "    _temp_all_sessions_new_ripple_df['long_short_diff_best_dir_simple_pearsonr'] = (_temp_all_sessions_new_ripple_df['long_best_dir_simple_pearsonr'].abs() - _temp_all_sessions_new_ripple_df['short_best_dir_simple_pearsonr'].abs())\n",
    "    return _temp_all_sessions_new_ripple_df\n",
    "\n",
    "\n",
    "## Drop the dang NaN columns:\n",
    "_temp_all_sessions_new_ripple_df= _add_best_direction_columns(all_sessions_new_ripple_df.dropna(subset=new_column_names))\n",
    "_temp_all_sessions_new_laps_df= _add_best_direction_columns(all_sessions_new_laps_df.dropna(subset=new_column_names))\n",
    "_temp_all_sessions_new_laps_df"
   ]
  },
  {
   "cell_type": "code",
   "execution_count": null,
   "metadata": {},
   "outputs": [],
   "source": []
  },
  {
   "cell_type": "code",
   "execution_count": null,
   "metadata": {},
   "outputs": [],
   "source": [
    "['long_best_dir_simple_pearsonr_abs']\n",
    "\n",
    "plot_histograms(_temp_all_sessions_new_laps_df, 'Laps', 'Some Sessions', \"25 ms\", column='long_best_dir_simple_pearsonr')"
   ]
  },
  {
   "cell_type": "code",
   "execution_count": null,
   "metadata": {},
   "outputs": [],
   "source": []
  },
  {
   "cell_type": "code",
   "execution_count": null,
   "metadata": {},
   "outputs": [],
   "source": [
    "## Get only high-confidence replays:\n",
    "_temp_high_confidence_ripple_df = _temp_all_sessions_new_ripple_df[_temp_all_sessions_new_ripple_df['P_Long'] > 0.85]\n",
    "# plot_histograms(_temp_high_confidence_ripple_df, 'Ripple', 'Some Sessions', \"25 ms\", column='long_best_dir_simple_pearsonr')\n",
    "plot_histograms(_temp_high_confidence_ripple_df, 'Ripple', 'Some Sessions', \"25 ms\", column='long_best_dir_simple_pearsonr')\n",
    "\n"
   ]
  },
  {
   "cell_type": "code",
   "execution_count": null,
   "metadata": {},
   "outputs": [],
   "source": []
  },
  {
   "cell_type": "code",
   "execution_count": null,
   "metadata": {},
   "outputs": [],
   "source": [
    "# _temp_all_sessions_new_ripple_df\n",
    "\n",
    "plt.scatter(x='delta_aligned_start_t', y='long_best_dir_simple_pearsonr', data=_temp_all_sessions_new_ripple_df)\n",
    "plt.show()"
   ]
  },
  {
   "cell_type": "code",
   "execution_count": null,
   "metadata": {},
   "outputs": [],
   "source": [
    "# plt.scatter(x='delta_aligned_start_t', y='long_best_dir_simple_pearsonr', data=_temp_all_sessions_new_ripple_df)\n",
    "\n",
    "# pile\n",
    "plt.figure()\n",
    "plt.ion()\n",
    "# plt.scatter(x=_temp_all_sessions_new_ripple_df['delta_aligned_start_t'], y=_temp_all_sessions_new_ripple_df['long_best_dir_simple_pearsonr'])\n",
    "plt.scatter(x=_temp_all_sessions_new_ripple_df['delta_aligned_start_t'], y=_temp_all_sessions_new_ripple_df['long_short_diff_best_dir_simple_pearsonr'])\n",
    "plt.show()\n"
   ]
  },
  {
   "cell_type": "code",
   "execution_count": null,
   "metadata": {},
   "outputs": [],
   "source": [
    "# plot_histograms(_temp_all_sessions_new_ripple_df, 'Ripple', 'Some Sessions', \"25 ms\", column='long_short_diff_best_dir_simple_pearsonr')\n",
    "\n",
    "\n",
    "\n"
   ]
  },
  {
   "cell_type": "code",
   "execution_count": null,
   "metadata": {},
   "outputs": [],
   "source": [
    "import scipy.stats as stats\n",
    "\n",
    "data_results_df: pd.DataFrame = deepcopy(_temp_all_sessions_new_ripple_df)\n",
    "column = 'long_short_diff_best_dir_simple_pearsonr' # REJECT (t-statistic: 2.0498849677801947, p-value: 0.04048207344769608)\n",
    "# column = 'short_best_dir_simple_pearsonr' # FAIL\n",
    "# column = 'long_best_dir_simple_pearsonr' # FAIL (t-statistic: 0.5238142457664882, p-value: 0.600455893577746)\n",
    "\n",
    "# get the pre-delta epochs\n",
    "pre_delta_df = data_results_df[data_results_df['delta_aligned_start_t'] <= 0]\n",
    "post_delta_df = data_results_df[data_results_df['delta_aligned_start_t'] > 0]\n",
    "\n",
    "# Perform the t-test for two independent samples\n",
    "# T_result = stats.ttest_ind(pre_delta_df[column].to_numpy(), post_delta_df[column].to_numpy(), equal_var=False)\n",
    "T_result = stats.ttest_ind(pre_delta_df[column].to_numpy(), post_delta_df[column].to_numpy(), equal_var=False) # Welch's t-test\n",
    "t_statistic, p_value = T_result\n",
    "\n",
    "print(f\"t-statistic: {t_statistic}\")\n",
    "print(f\"p-value: {p_value}\")\n",
    "\n",
    "# Decision making\n",
    "alpha = 0.05  # commonly used significance level\n",
    "if p_value < alpha:\n",
    "    print(\"Reject the null hypothesis. There is a significant difference between the two group means.\")\n",
    "else:\n",
    "    print(\"Fail to reject the null hypothesis. There is no significant difference between the two group means.\")\n"
   ]
  },
  {
   "cell_type": "code",
   "execution_count": null,
   "metadata": {},
   "outputs": [],
   "source": []
  },
  {
   "cell_type": "code",
   "execution_count": null,
   "metadata": {},
   "outputs": [],
   "source": [
    "\n",
    "all_sessions_new_ripple_df\n"
   ]
  },
  {
   "cell_type": "code",
   "execution_count": null,
   "metadata": {},
   "outputs": [],
   "source": [
    "plt.show()"
   ]
  },
  {
   "cell_type": "code",
   "execution_count": null,
   "metadata": {},
   "outputs": [],
   "source": [
    "time_bin_sizes: int = all_sessions_laps_time_bin_df['time_bin_size'].unique()\n",
    "time_bin_sizes"
   ]
  },
  {
   "cell_type": "code",
   "execution_count": null,
   "metadata": {},
   "outputs": [],
   "source": [
    "all_sessions_laps_time_bin_df.hist(column='P_Long')\n",
    "plt.show()"
   ]
  },
  {
   "cell_type": "code",
   "execution_count": null,
   "metadata": {},
   "outputs": [],
   "source": [
    "from pyphoplacecellanalysis.General.Pipeline.Stages.ComputationFunctions.MultiContextComputationFunctions.DirectionalPlacefieldGlobalComputationFunctions import plot_all_epoch_bins_marginal_predictions\n",
    "from attrs import define, field, Factory\n",
    "from neuropy.utils.result_context import IdentifyingContext\n",
    "\n",
    "@define(slots=False)\n",
    "class TwoCSV:\n",
    "\t\"\"\" simple class wrapper to emulate the object that holds the other dfs \"\"\"\n",
    "\tlaps_all_epoch_bins_marginals_df = field()\n",
    "\tripple_all_epoch_bins_marginals_df = field()\n",
    "\n",
    "save_figure = True\n",
    "def _perform_write_to_file_callback(final_context, fig):\n",
    "\tprint(f'final_context: {final_context}')\n",
    "\t# if save_figure:\n",
    "\t# \tfig.save_fig(\n",
    "\t# \t# return owning_pipeline_reference.output_figure(final_context, fig)\n",
    "\t# else:\n",
    "\t# \tpass # do nothing, don't save\n",
    "\t\n",
    "# all_sessions_laps_time_bin_df\n",
    "\n",
    "collector = plot_all_epoch_bins_marginal_predictions(TwoCSV(laps_all_epoch_bins_marginals_df=all_sessions_laps_df, ripple_all_epoch_bins_marginals_df=all_sessions_ripple_df), t_start=None, t_split=0.0, t_end=None,\n",
    "\t\t\t\t\t\t\t\t\t\t\t\t\tactive_context=IdentifyingContext(), perform_write_to_file_callback=_perform_write_to_file_callback)\n",
    "collector\n",
    "\n",
    "\n",
    "result = tuple(collector.figures)\n",
    "result[0]"
   ]
  },
  {
   "cell_type": "code",
   "execution_count": null,
   "metadata": {},
   "outputs": [],
   "source": [
    "result[0].show()"
   ]
  },
  {
   "cell_type": "code",
   "execution_count": null,
   "metadata": {},
   "outputs": [],
   "source": [
    "result[1]"
   ]
  },
  {
   "cell_type": "code",
   "execution_count": null,
   "metadata": {},
   "outputs": [],
   "source": [
    "all_sessions_laps_df, all_sessions_ripple_df"
   ]
  },
  {
   "cell_type": "code",
   "execution_count": null,
   "metadata": {},
   "outputs": [],
   "source": []
  }
 ],
 "metadata": {
  "kernelspec": {
   "display_name": ".venv_yellow",
   "language": "python",
   "name": "python3"
  },
  "language_info": {
   "codemirror_mode": {
    "name": "ipython",
    "version": 3
   },
   "file_extension": ".py",
   "mimetype": "text/x-python",
   "name": "python",
   "nbconvert_exporter": "python",
   "pygments_lexer": "ipython3",
   "version": "3.9.13"
  }
 },
 "nbformat": 4,
 "nbformat_minor": 2
}
