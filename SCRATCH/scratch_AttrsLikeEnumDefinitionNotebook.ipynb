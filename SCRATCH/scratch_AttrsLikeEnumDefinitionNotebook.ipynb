{
 "cells": [
  {
   "cell_type": "markdown",
   "metadata": {},
   "source": [
    "\n",
    "```python\n",
    "from enum import Enum\n",
    "\n",
    "## How I'd like my enum definitions to be declared. `define_enum(...)` is analagous to `attrs.define(...)` which enables specifying various properties alongside the Enum member definitions using a syntax similar to `attrs.field(...)`\n",
    "# The resultant enum should be comparable and have all the same properties as a native enum.Enum value but in addition have members exposed.\n",
    "@define_enum(raw_value_type=str)\n",
    "class PipelineSavingScheme:\n",
    "\t\"\"\" \n",
    "\tPipelineSavingScheme.SKIP_SAVING.shouldSave -> bool >>> False\n",
    "\tPipelineSavingScheme.TEMP_THEN_OVERWRITE.shouldSave -> bool >>> True\n",
    "\tPipelineSavingScheme.OVERWRITE_IN_PLACE.shouldSave -> bool >>> True\n",
    "\t\"\"\"\n",
    "\tSKIP_SAVING = enum_member(raw_value=\"skip_saving\", shouldSave=False) # note that `shouldSave` here is not part of the enum definition, it's a property that returns a custom value for this enum_member.\n",
    "    TEMP_THEN_OVERWRITE = enum_member(raw_value=\"temp_then_overwrite\", shouldSave=True) # saves to a temporary filename if extant exists, then compares and overwrites if needed. Prevents ruining the real pickle if pickling is interrupted/fails.\n",
    "    OVERWRITE_IN_PLACE = enum_member(raw_value=\"overwrite_in_place\", shouldSave=True)\n",
    "\n",
    "```\n"
   ]
  },
  {
   "cell_type": "code",
   "execution_count": null,
   "metadata": {},
   "outputs": [],
   "source": [
    "from enum import Enum\n",
    "\n",
    "class enum_member:\n",
    "    def __init__(self, raw_value, **additional_properties):\n",
    "        self.raw_value = raw_value\n",
    "        self.additional_properties = additional_properties\n",
    "        \n",
    "# ## loses type information, making it an instance of enum.EnumMeta instead of the original class. Native enum.Enum preserves the original class type.\n",
    "# def define_enum(raw_value_type=str):\n",
    "#     def wrapper(cls):\n",
    "#         members = {}\n",
    "#         additional_properties = {}\n",
    "#         for name, value in cls.__dict__.items():\n",
    "#             if isinstance(value, enum_member):\n",
    "#                 members[name] = value.raw_value\n",
    "#                 additional_properties[name] = value.additional_properties\n",
    "#         new_enum = Enum(cls.__name__, members)\n",
    "#         for name, enum_member_instance in new_enum.__members__.items():\n",
    "#             for prop_name, prop_value in additional_properties[name].items():\n",
    "#                 setattr(enum_member_instance, prop_name, prop_value)\n",
    "#         return new_enum\n",
    "#     return wrapper\n",
    "\n",
    "## preserves type information and isinstance\n",
    "def define_enum(raw_value_type=str):\n",
    "    def wrapper(cls):\n",
    "\t\t# Create the Enum class\n",
    "        enum_class = Enum(cls.__name__, [(name, value.raw_value) for name, value in cls.__dict__.items() if isinstance(value, enum_member)])\n",
    "        \n",
    "        # Modify the Enum class to add custom attributes\n",
    "        for name, value in cls.__dict__.items():\n",
    "            if isinstance(value, enum_member):\n",
    "                enum_member_instance = getattr(enum_class, name)\n",
    "                for prop_name, prop_value in value.additional_properties.items():\n",
    "                    setattr(enum_member_instance, prop_name, prop_value)\n",
    "\n",
    "        # Set the Enum class as a subclass of the original class\n",
    "        cls.__bases__ = (enum_class,)\n",
    "        return cls\n",
    "    return wrapper\n"
   ]
  },
  {
   "cell_type": "code",
   "execution_count": null,
   "metadata": {},
   "outputs": [],
   "source": [
    "\n",
    "@define_enum(raw_value_type=str)\n",
    "class PipelineSavingScheme:\n",
    "    SKIP_SAVING = enum_member(raw_value=\"skip_saving\", shouldSave=False)\n",
    "    TEMP_THEN_OVERWRITE = enum_member(raw_value=\"temp_then_overwrite\", shouldSave=True)\n",
    "    OVERWRITE_IN_PLACE = enum_member(raw_value=\"overwrite_in_place\", shouldSave=True)\n",
    "\n",
    "# Example usage\n",
    "print(PipelineSavingScheme.SKIP_SAVING.shouldSave) # Output: False\n"
   ]
  },
  {
   "cell_type": "code",
   "execution_count": 1,
   "metadata": {},
   "outputs": [
    {
     "ename": "TypeError",
     "evalue": "CombinedEnumClass: cannot extend enumeration 'PipelineSavingScheme'",
     "output_type": "error",
     "traceback": [
      "\u001b[1;31m---------------------------------------------------------------------------\u001b[0m",
      "\u001b[1;31mTypeError\u001b[0m                                 Traceback (most recent call last)",
      "Cell \u001b[1;32mIn[1], line 29\u001b[0m\n\u001b[0;32m     25\u001b[0m         \u001b[39mself\u001b[39m\u001b[39m.\u001b[39mraw_value \u001b[39m=\u001b[39m raw_value\n\u001b[0;32m     26\u001b[0m         \u001b[39mself\u001b[39m\u001b[39m.\u001b[39madditional_properties \u001b[39m=\u001b[39m additional_properties\n\u001b[0;32m     28\u001b[0m \u001b[39m@define_enum\u001b[39;49m(raw_value_type\u001b[39m=\u001b[39;49m\u001b[39mstr\u001b[39;49m)\n\u001b[1;32m---> 29\u001b[0m \u001b[39mclass\u001b[39;49;00m \u001b[39mPipelineSavingScheme\u001b[39;49;00m:\n\u001b[0;32m     30\u001b[0m     SKIP_SAVING \u001b[39m=\u001b[39;49m enum_member(raw_value\u001b[39m=\u001b[39;49m\u001b[39m\"\u001b[39;49m\u001b[39mskip_saving\u001b[39;49m\u001b[39m\"\u001b[39;49m, shouldSave\u001b[39m=\u001b[39;49m\u001b[39mFalse\u001b[39;49;00m)\n\u001b[0;32m     31\u001b[0m     TEMP_THEN_OVERWRITE \u001b[39m=\u001b[39;49m enum_member(raw_value\u001b[39m=\u001b[39;49m\u001b[39m\"\u001b[39;49m\u001b[39mtemp_then_overwrite\u001b[39;49m\u001b[39m\"\u001b[39;49m, shouldSave\u001b[39m=\u001b[39;49m\u001b[39mTrue\u001b[39;49;00m)\n",
      "Cell \u001b[1;32mIn[1], line 9\u001b[0m, in \u001b[0;36mdefine_enum.<locals>.wrapper\u001b[1;34m(cls)\u001b[0m\n\u001b[0;32m      6\u001b[0m enum_class \u001b[39m=\u001b[39m Enum(\u001b[39mcls\u001b[39m\u001b[39m.\u001b[39m\u001b[39m__name__\u001b[39m, {name: value\u001b[39m.\u001b[39mraw_value \u001b[39mfor\u001b[39;00m name, value \u001b[39min\u001b[39;00m \u001b[39mcls\u001b[39m\u001b[39m.\u001b[39m\u001b[39m__dict__\u001b[39m\u001b[39m.\u001b[39mitems() \u001b[39mif\u001b[39;00m \u001b[39misinstance\u001b[39m(value, enum_member)})\n\u001b[0;32m      8\u001b[0m \u001b[39m# Create a new class that inherits from both the original class and the Enum class\u001b[39;00m\n\u001b[1;32m----> 9\u001b[0m \u001b[39mclass\u001b[39;00m \u001b[39mCombinedEnumClass\u001b[39;00m(\u001b[39mcls\u001b[39m, enum_class):\n\u001b[0;32m     10\u001b[0m     \u001b[39mpass\u001b[39;00m\n\u001b[0;32m     12\u001b[0m \u001b[39m# Add custom attributes to the new class\u001b[39;00m\n",
      "File \u001b[1;32m~\\.pyenv\\pyenv-win\\versions\\3.9.13\\lib\\enum.py:167\u001b[0m, in \u001b[0;36mEnumMeta.__prepare__\u001b[1;34m(metacls, cls, bases, **kwds)\u001b[0m\n\u001b[0;32m    164\u001b[0m \u001b[39m@classmethod\u001b[39m\n\u001b[0;32m    165\u001b[0m \u001b[39mdef\u001b[39;00m \u001b[39m__prepare__\u001b[39m(metacls, \u001b[39mcls\u001b[39m, bases, \u001b[39m*\u001b[39m\u001b[39m*\u001b[39mkwds):\n\u001b[0;32m    166\u001b[0m     \u001b[39m# check that previous enum members do not exist\u001b[39;00m\n\u001b[1;32m--> 167\u001b[0m     metacls\u001b[39m.\u001b[39;49m_check_for_existing_members(\u001b[39mcls\u001b[39;49m, bases)\n\u001b[0;32m    168\u001b[0m     \u001b[39m# create the namespace dict\u001b[39;00m\n\u001b[0;32m    169\u001b[0m     enum_dict \u001b[39m=\u001b[39m _EnumDict()\n",
      "File \u001b[1;32m~\\.pyenv\\pyenv-win\\versions\\3.9.13\\lib\\enum.py:566\u001b[0m, in \u001b[0;36mEnumMeta._check_for_existing_members\u001b[1;34m(class_name, bases)\u001b[0m\n\u001b[0;32m    564\u001b[0m \u001b[39mfor\u001b[39;00m base \u001b[39min\u001b[39;00m chain\u001b[39m.\u001b[39m\u001b[39m__mro__\u001b[39m:\n\u001b[0;32m    565\u001b[0m     \u001b[39mif\u001b[39;00m \u001b[39missubclass\u001b[39m(base, Enum) \u001b[39mand\u001b[39;00m base\u001b[39m.\u001b[39m_member_names_:\n\u001b[1;32m--> 566\u001b[0m         \u001b[39mraise\u001b[39;00m \u001b[39mTypeError\u001b[39;00m(\n\u001b[0;32m    567\u001b[0m                 \u001b[39m\"\u001b[39m\u001b[39m%s\u001b[39;00m\u001b[39m: cannot extend enumeration \u001b[39m\u001b[39m%r\u001b[39;00m\u001b[39m\"\u001b[39m\n\u001b[0;32m    568\u001b[0m                 \u001b[39m%\u001b[39m (class_name, base\u001b[39m.\u001b[39m\u001b[39m__name__\u001b[39m)\n\u001b[0;32m    569\u001b[0m                 )\n",
      "\u001b[1;31mTypeError\u001b[0m: CombinedEnumClass: cannot extend enumeration 'PipelineSavingScheme'"
     ]
    }
   ],
   "source": [
    "from enum import Enum\n",
    "\n",
    "def define_enum(raw_value_type=str):\n",
    "    def wrapper(cls):\n",
    "        # Create an Enum class with the specified members\n",
    "        enum_class = Enum(cls.__name__, {name: value.raw_value for name, value in cls.__dict__.items() if isinstance(value, enum_member)})\n",
    "\n",
    "        # Create a new class that inherits from both the original class and the Enum class\n",
    "        class CombinedEnumClass(cls, enum_class):\n",
    "            pass\n",
    "\n",
    "        # Add custom attributes to the new class\n",
    "        for name, value in cls.__dict__.items():\n",
    "            if isinstance(value, enum_member):\n",
    "                enum_member_instance = getattr(CombinedEnumClass, name)\n",
    "                for prop_name, prop_value in value.additional_properties.items():\n",
    "                    setattr(enum_member_instance, prop_name, prop_value)\n",
    "\n",
    "        return CombinedEnumClass\n",
    "\n",
    "    return wrapper\n",
    "\n",
    "class enum_member:\n",
    "    def __init__(self, raw_value, **additional_properties):\n",
    "        self.raw_value = raw_value\n",
    "        self.additional_properties = additional_properties\n",
    "\n",
    "@define_enum(raw_value_type=str)\n",
    "class PipelineSavingScheme:\n",
    "    SKIP_SAVING = enum_member(raw_value=\"skip_saving\", shouldSave=False)\n",
    "    TEMP_THEN_OVERWRITE = enum_member(raw_value=\"temp_then_overwrite\", shouldSave=True)\n",
    "    OVERWRITE_IN_PLACE = enum_member(raw_value=\"overwrite_in_place\", shouldSave=True)\n",
    "\n",
    "# Example usage\n",
    "print(PipelineSavingScheme.SKIP_SAVING.shouldSave) # Output: False\n"
   ]
  },
  {
   "cell_type": "code",
   "execution_count": null,
   "metadata": {},
   "outputs": [],
   "source": [
    "\n",
    "\n",
    "\n",
    "@define_enum(raw_value_type=str)\n",
    "class PipelineSavingScheme:\n",
    "    SKIP_SAVING = enum_member(raw_value=\"skip_saving\", shouldSave=False)\n",
    "    TEMP_THEN_OVERWRITE = enum_member(raw_value=\"temp_then_overwrite\", shouldSave=True)\n",
    "    OVERWRITE_IN_PLACE = enum_member(raw_value=\"overwrite_in_place\", shouldSave=True)\n",
    "\n",
    "# Example usage\n",
    "print(PipelineSavingScheme.SKIP_SAVING.shouldSave) # Output: False\n",
    "print(isinstance(PipelineSavingScheme.SKIP_SAVING, PipelineSavingScheme)) # Output: True\n",
    "print(type(PipelineSavingScheme)) # Output: <class '__main__.PipelineSavingScheme'>\n"
   ]
  },
  {
   "cell_type": "code",
   "execution_count": null,
   "metadata": {},
   "outputs": [],
   "source": []
  }
 ],
 "metadata": {
  "kernelspec": {
   "display_name": ".venv",
   "language": "python",
   "name": "python3"
  },
  "language_info": {
   "codemirror_mode": {
    "name": "ipython",
    "version": 3
   },
   "file_extension": ".py",
   "mimetype": "text/x-python",
   "name": "python",
   "nbconvert_exporter": "python",
   "pygments_lexer": "ipython3",
   "version": "3.9.13"
  },
  "orig_nbformat": 4
 },
 "nbformat": 4,
 "nbformat_minor": 2
}
