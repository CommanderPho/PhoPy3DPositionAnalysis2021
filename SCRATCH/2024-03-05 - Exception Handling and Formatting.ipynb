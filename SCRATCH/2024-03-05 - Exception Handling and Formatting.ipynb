{
 "cells": [
  {
   "cell_type": "code",
   "execution_count": 1,
   "metadata": {},
   "outputs": [
    {
     "name": "stdout",
     "output_type": "stream",
     "text": [
      "Automatic pdb calling has been turned OFF\n"
     ]
    }
   ],
   "source": [
    "%config IPCompleter.use_jedi = False\n",
    "%pdb off\n",
    "%load_ext autoreload\n",
    "%autoreload 3\n",
    "import sys\n",
    "from copy import deepcopy\n",
    "from typing import List, Dict, Optional, Union, Callable\n",
    "from pathlib import Path\n",
    "import pathlib\n",
    "import numpy as np\n",
    "import pandas as pd\n",
    "from datetime import datetime, timedelta\n",
    "from attrs import define, field, Factory\n",
    "\n",
    "from pyphocorehelpers.exception_helpers import ExceptionPrintingContext, CapturedException\n"
   ]
  },
  {
   "cell_type": "code",
   "execution_count": 2,
   "metadata": {},
   "outputs": [
    {
     "name": "stdout",
     "output_type": "stream",
     "text": [
      "C:\\Users\\pho\\AppData\\Local\\Temp\\ipykernel_24092\\917720012.py:3: ZeroDivisionError: division by zero\n",
      "Continuing execution...\n"
     ]
    }
   ],
   "source": [
    "\n",
    "\n",
    "# Example Usage\n",
    "with ExceptionPrintingContext():\n",
    "    1 / 0  # This will raise a ZeroDivisionError, which will be handled within our context manager\n",
    "\n",
    "# Execution will continue here, as ExceptionPrintingContext suppressed the ZeroDivisionError.\n",
    "print('Continuing execution...')\n"
   ]
  },
  {
   "cell_type": "code",
   "execution_count": 5,
   "metadata": {},
   "outputs": [
    {
     "name": "stdout",
     "output_type": "stream",
     "text": [
      "C:\\Users\\pho\\AppData\\Local\\Temp\\ipykernel_24092\\4182600662.py:2: ZeroDivisionError: division by zero\n"
     ]
    },
    {
     "ename": "ZeroDivisionError",
     "evalue": "division by zero",
     "output_type": "error",
     "traceback": [
      "\u001b[1;31m---------------------------------------------------------------------------\u001b[0m",
      "\u001b[1;31mZeroDivisionError\u001b[0m                         Traceback (most recent call last)",
      "Cell \u001b[1;32mIn[5], line 2\u001b[0m\n\u001b[0;32m      1\u001b[0m \u001b[39mwith\u001b[39;00m ExceptionPrintingContext(suppress\u001b[39m=\u001b[39m\u001b[39mFalse\u001b[39;00m):\n\u001b[1;32m----> 2\u001b[0m     \u001b[39m1\u001b[39;49m \u001b[39m/\u001b[39;49m \u001b[39m0\u001b[39;49m  \u001b[39m# This will raise a ZeroDivisionError, which will be handled within our context manager but re-raised because suppress=False\u001b[39;00m\n",
      "\u001b[1;31mZeroDivisionError\u001b[0m: division by zero"
     ]
    }
   ],
   "source": [
    "with ExceptionPrintingContext(suppress=False):\n",
    "    1 / 0  # This will raise a ZeroDivisionError, which will be handled within our context manager but re-raised because suppress=False\n"
   ]
  },
  {
   "cell_type": "code",
   "execution_count": 4,
   "metadata": {},
   "outputs": [
    {
     "name": "stdout",
     "output_type": "stream",
     "text": [
      "\ta_prefix: C:\\Users\\pho\\AppData\\Local\\Temp\\ipykernel_24092\\298737068.py:2: ZeroDivisionError: division by zero\n"
     ]
    }
   ],
   "source": [
    "\n",
    "with ExceptionPrintingContext(suppress=True, exception_print_fn=(lambda formatted_exception_str: print(f'\\ta_prefix: {formatted_exception_str}'))):\n",
    "    1 / 0\n",
    "\n",
    "# prints: \"a_prefix: /tmp/ipykernel_102148/4108766447.py:2: ZeroDivisionError: division by zero\""
   ]
  },
  {
   "cell_type": "code",
   "execution_count": null,
   "metadata": {},
   "outputs": [],
   "source": []
  }
 ],
 "metadata": {
  "kernelspec": {
   "display_name": ".venv",
   "language": "python",
   "name": "python3"
  },
  "language_info": {
   "codemirror_mode": {
    "name": "ipython",
    "version": 3
   },
   "file_extension": ".py",
   "mimetype": "text/x-python",
   "name": "python",
   "nbconvert_exporter": "python",
   "pygments_lexer": "ipython3",
   "version": "3.9.13"
  }
 },
 "nbformat": 4,
 "nbformat_minor": 2
}
