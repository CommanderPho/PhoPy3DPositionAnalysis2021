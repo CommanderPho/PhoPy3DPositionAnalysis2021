{
 "cells": [
  {
   "cell_type": "code",
   "execution_count": null,
   "metadata": {},
   "outputs": [],
   "source": [
    "# Symlinkers\n",
    "import sys\n",
    "import os\n",
    "import shutil\n",
    "from pathlib import Path\n",
    "from typing import Dict, Optional, Tuple\n",
    "from attrs import define, field, Factory\n",
    "from pyphocorehelpers.Filesystem.symbolic_link_helpers import SymlinkManager\n",
    "\n",
    "\n",
    "_venv_symlinker = SymlinkManager(\n",
    "    alternative_destination_directories={\n",
    "        'pypoetry': Path(r'K:\\FastSwap\\Environments\\pypoetry\\pypoetry\\Cache\\virtualenvs\\spike3d-UP7QTzFM-py3.9'),\n",
    "        'original': Path(r'K:\\FastSwap\\Environments\\.venv_original')\n",
    "    },\n",
    "    target_symlink_location=Path(r'C:\\Users\\pho\\repos\\Spike3DWorkEnv\\Spike3D\\.venv')\n",
    ")\n",
    "_venv_symlinker\n",
    "\n",
    "_venv_symlinker.current_symlink_target()"
   ]
  },
  {
   "cell_type": "code",
   "execution_count": null,
   "metadata": {},
   "outputs": [],
   "source": [
    "_venv_symlinker"
   ]
  },
  {
   "cell_type": "code",
   "execution_count": null,
   "metadata": {},
   "outputs": [],
   "source": [
    "## Copy\n",
    "real_folder = Path(r\"C:\\Users\\pho\\.pyenv\\pyenv-win\\versions\\3.9.13new\").resolve()\n",
    "destination_storage_parent_folder = Path(r'K:\\FastSwap\\Environments\\pyenv\\versions').resolve()\n",
    "\n",
    "_new_pyenv_symlinker = SymlinkManager.version_real_folder(real_folder, destination_storage_parent_folder=destination_storage_parent_folder, override_destination_storage_name='3.9.13new')\n",
    "_new_pyenv_symlinker"
   ]
  },
  {
   "cell_type": "code",
   "execution_count": null,
   "metadata": {},
   "outputs": [],
   "source": [
    "'pyenv which python'\n",
    "C:\\Users\\pho\\.pyenv\\pyenv-win\\versions\\3.9.13\\python.exe\n"
   ]
  },
  {
   "cell_type": "code",
   "execution_count": null,
   "metadata": {},
   "outputs": [],
   "source": [
    "# Windows:\n",
    "'echo %PYENV_ROOT%\\versions\\'\n",
    "\n",
    "# Linux:\n",
    "echo \"$PYENV_ROOT/versions/\" "
   ]
  }
 ],
 "metadata": {
  "kernelspec": {
   "display_name": ".venv",
   "language": "python",
   "name": "python3"
  },
  "language_info": {
   "codemirror_mode": {
    "name": "ipython",
    "version": 3
   },
   "file_extension": ".py",
   "mimetype": "text/x-python",
   "name": "python",
   "nbconvert_exporter": "python",
   "pygments_lexer": "ipython3",
   "version": "3.9.13"
  }
 },
 "nbformat": 4,
 "nbformat_minor": 2
}
