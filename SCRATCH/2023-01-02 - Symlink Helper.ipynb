{
 "cells": [
  {
   "cell_type": "code",
   "execution_count": 1,
   "metadata": {},
   "outputs": [
    {
     "name": "stdout",
     "output_type": "stream",
     "text": [
      "equivalent to key: \"pypoetry\"\n"
     ]
    },
    {
     "data": {
      "text/plain": [
       "('pypoetry',\n",
       " WindowsPath('K:/FastSwap/Environments/pypoetry/pypoetry/Cache/virtualenvs/spike3d-UP7QTzFM-py3.9'))"
      ]
     },
     "execution_count": 1,
     "metadata": {},
     "output_type": "execute_result"
    }
   ],
   "source": [
    "# Symlinkers\n",
    "import sys\n",
    "import os\n",
    "import shutil\n",
    "from pathlib import Path\n",
    "from typing import Dict, Optional, Tuple\n",
    "from attrs import define, field, Factory\n",
    "\n",
    "@define(slots=False)\n",
    "class SymlinkManager:\n",
    "    \"\"\" stores references to multiple alternative versions of a filesystem directory (such as a .venv folder) and allows easily switching between these by modifying a symbolic link at a given location \n",
    "    \n",
    "    \n",
    "    \"\"\"\n",
    "    alternative_destination_directories: Dict[str, Path] = field() # the list of filesystem directories that will be symlinked to. The key is a shortname, otherwise the full path will be used.\n",
    "    target_symlink_location: Path = field() # the location the symlink will be created\n",
    "    \n",
    "\n",
    "    def current_symlink_target(self) -> Tuple[Optional[str], Optional[Path]]:\n",
    "        \"\"\" returns the current target the `target_symlink_location` points to. \"\"\"\n",
    "        if os.path.islink(self.target_symlink_location):\n",
    "            found_target_path = Path(os.readlink(self.target_symlink_location)).resolve()\n",
    "            found_known_destination_key = self.try_find_path_key_in_known_alternative_destination_directories(found_target_path)\n",
    "            return (found_known_destination_key, found_target_path)\n",
    "        else:\n",
    "            return (None, None)\n",
    "\n",
    "    def try_find_path_key_in_known_alternative_destination_directories(self, test_target_path: Path, debug_print=True) -> Optional[str]:\n",
    "        found_known_destination_keys = [k for k, v in self.alternative_destination_directories.items() if v.resolve() == test_target_path]\n",
    "        if len(found_known_destination_keys) > 0:\n",
    "            if debug_print:\n",
    "                print(f'equivalent to key: \"{found_known_destination_keys[0]}\"')\n",
    "            return found_known_destination_keys[0]\n",
    "        else:\n",
    "            if debug_print:\n",
    "                print(f'path \"{test_target_path}\" not found in self.alternative_destination_directories')\n",
    "            return None # key not found\n",
    "        \n",
    "        \n",
    "    def establish_symlink(self, new_target_path: Path):\n",
    "        # Symlink the whl file to a generic version:\n",
    "        new_target_path = new_target_path.resolve()\n",
    "        found_known_destination_key = self.try_find_path_key_in_known_alternative_destination_directories(new_target_path)\n",
    "        if found_known_destination_key is None:\n",
    "            print(f'WARNING: new_target_path: \"{new_target_path}\" is not in self.alternative_destination_directories. Adding.')\n",
    "            self.alternative_destination_directories[str(new_target_path)] = new_target_path\n",
    "\n",
    "\n",
    "        symlink_path = self.target_symlink_location.resolve() # the path to the symlink\n",
    "        # dst_path = 'current.whl'\n",
    "        # Create the symbolic link\n",
    "        try:\n",
    "            print(f'\\t symlinking {new_target_path} to {symlink_path}')\n",
    "            os.symlink(new_target_path, symlink_path)\n",
    "        except FileExistsError as e:\n",
    "            print(f'\\t WARNING: symlink {symlink_path} already exists. Removing it.')\n",
    "            # Remove the symlink\n",
    "            os.unlink(symlink_path)\n",
    "            # Create the symlink\n",
    "            os.symlink(new_target_path, symlink_path)\n",
    "        except Exception as e:\n",
    "            raise e\n",
    "        \n",
    "\n",
    "    @classmethod\n",
    "    def version_real_folder(cls, real_folder_path: Path, destination_storage_parent_folder: Path, override_destination_storage_name: Optional[str]=None) -> \"SymlinkManager\":\n",
    "        \"\"\" takes a real (non-symlink) folder path that will be moved to a different destination and then symlinked back to the directory with the same name. \n",
    "        \n",
    "        \"\"\"\n",
    "        # Ensure that `real_folder_path` isn't already a symlink\n",
    "        if os.path.islink(real_folder_path):\n",
    "            raise ValueError(\"The provided path is already a symlink.\")\n",
    "\n",
    "        if override_destination_storage_name is None:\n",
    "            override_destination_storage_name = real_folder_path.name\n",
    "            \n",
    "        destination_storage_folder: Path = destination_storage_parent_folder.joinpath(override_destination_storage_name).resolve()\n",
    "\n",
    "        # destination_storage_folder should not already exist:\n",
    "        assert (not destination_storage_folder.exists()), f\"destination_storage_folder: {destination_storage_folder} already exists! Cannot symlink here. Specify a `override_destination_storage_name` if needed.\"\n",
    "        \n",
    "        # Make a full recursive copy of `real_folder_path` to the destination location (`destination_storage_folder`)\n",
    "        shutil.copytree(real_folder_path, destination_storage_folder)\n",
    "\n",
    "        # Replace the real directory at `real_folder_path` with a symlink back to the new_copy_destination\n",
    "        if os.path.exists(real_folder_path):\n",
    "            shutil.rmtree(real_folder_path)\n",
    "        \n",
    "        os.symlink(destination_storage_folder, real_folder_path)\n",
    "\n",
    "        # Return a new SymlinkManager instance\n",
    "        return cls(\n",
    "            alternative_destination_directories={override_destination_storage_name: destination_storage_folder},\n",
    "            target_symlink_location=real_folder_path\n",
    "        )\n",
    "\n",
    "\n",
    "_venv_symlinker = SymlinkManager(\n",
    "    alternative_destination_directories={\n",
    "        'pypoetry': Path(r'K:\\FastSwap\\Environments\\pypoetry\\pypoetry\\Cache\\virtualenvs\\spike3d-UP7QTzFM-py3.9'),\n",
    "        'original': Path(r'K:\\FastSwap\\Environments\\.venv_original')\n",
    "    },\n",
    "    target_symlink_location=Path(r'C:\\Users\\pho\\repos\\Spike3DWorkEnv\\Spike3D\\.venv')\n",
    ")\n",
    "_venv_symlinker\n",
    "\n",
    "_venv_symlinker.current_symlink_target()"
   ]
  },
  {
   "cell_type": "code",
   "execution_count": null,
   "metadata": {},
   "outputs": [],
   "source": [
    "_venv_symlinker"
   ]
  },
  {
   "cell_type": "code",
   "execution_count": 3,
   "metadata": {},
   "outputs": [],
   "source": [
    "## Copy\n",
    "real_folder = Path(r\"C:\\Users\\pho\\.pyenv\\pyenv-win\\versions\\3.9.13new\").resolve()\n",
    "destination_storage_parent_folder = Path(r'K:\\FastSwap\\Environments\\pyenv\\versions').resolve()\n",
    "\n",
    "SymlinkManager.version_real_folder(real_folder, destination_storage_parent_folder=destination_storage_parent_folder, override_destination_storage_name='3.9.13new')"
   ]
  },
  {
   "cell_type": "code",
   "execution_count": null,
   "metadata": {},
   "outputs": [],
   "source": [
    "'pyenv which python'\n",
    "C:\\Users\\pho\\.pyenv\\pyenv-win\\versions\\3.9.13\\python.exe\n"
   ]
  },
  {
   "cell_type": "code",
   "execution_count": null,
   "metadata": {},
   "outputs": [],
   "source": [
    "# Windows:\n",
    "'echo %PYENV_ROOT%\\versions\\'\n",
    "\n",
    "# Linux:\n",
    "echo \"$PYENV_ROOT/versions/\" "
   ]
  }
 ],
 "metadata": {
  "kernelspec": {
   "display_name": ".venv",
   "language": "python",
   "name": "python3"
  },
  "language_info": {
   "codemirror_mode": {
    "name": "ipython",
    "version": 3
   },
   "file_extension": ".py",
   "mimetype": "text/x-python",
   "name": "python",
   "nbconvert_exporter": "python",
   "pygments_lexer": "ipython3",
   "version": "3.9.13"
  }
 },
 "nbformat": 4,
 "nbformat_minor": 2
}
