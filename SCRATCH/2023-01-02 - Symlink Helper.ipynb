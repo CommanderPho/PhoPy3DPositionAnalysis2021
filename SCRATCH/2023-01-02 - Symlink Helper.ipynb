{
 "cells": [
  {
   "cell_type": "code",
   "execution_count": 2,
   "metadata": {},
   "outputs": [],
   "source": [
    "# Symlinkers\n",
    "import sys\n",
    "import os\n",
    "import shutil\n",
    "from typing import List, Dict, Optional, Tuple\n",
    "from pathlib import Path\n",
    "from typing import Dict, Optional, Tuple\n",
    "from attrs import define, field, Factory\n",
    "from pyphocorehelpers.Filesystem.symbolic_link_helpers import SymlinkManager\n",
    "\n",
    "\n",
    "# _venv_symlinker = SymlinkManager(\n",
    "#     alternative_destination_directories={\n",
    "#         'pypoetry': Path(r'K:\\FastSwap\\Environments\\pypoetry\\pypoetry\\Cache\\virtualenvs\\spike3d-UP7QTzFM-py3.9'),\n",
    "#         'original': Path(r'K:\\FastSwap\\Environments\\.venv_original')\n",
    "#     },\n",
    "#     target_symlink_location=Path(r'C:\\Users\\pho\\repos\\Spike3DWorkEnv\\Spike3D\\.venv')\n",
    "# )\n",
    "# _venv_symlinker\n",
    "\n",
    "# _venv_symlinker.current_symlink_target()"
   ]
  },
  {
   "cell_type": "code",
   "execution_count": null,
   "metadata": {},
   "outputs": [],
   "source": [
    "_venv_symlinker"
   ]
  },
  {
   "cell_type": "code",
   "execution_count": null,
   "metadata": {},
   "outputs": [],
   "source": [
    "## Copy\n",
    "real_folder = Path(r\"C:\\Users\\pho\\.pyenv\\pyenv-win\\versions\\3.9.13new\").resolve()\n",
    "destination_storage_parent_folder = Path(r'K:\\FastSwap\\Environments\\pyenv\\versions').resolve()\n",
    "\n",
    "_new_pyenv_symlinker = SymlinkManager.version_real_folder(real_folder, destination_storage_parent_folder=destination_storage_parent_folder, override_destination_storage_name='3.9.13new')\n",
    "_new_pyenv_symlinker"
   ]
  },
  {
   "cell_type": "code",
   "execution_count": null,
   "metadata": {},
   "outputs": [],
   "source": [
    "## FastSwap a data directory on a spinning disk to a faster SSD\n",
    "\n",
    "a_slow_path: Path = Path('/media/halechr/MAX/Data')\n",
    "a_fastswapped_path: Path = Path('/home/halechr/FastData')\n",
    "# a_fastswapped_path: Path = Path('/media/halechr/FedoraSSD/home/halechr/FastData')\n",
    "\n"
   ]
  },
  {
   "cell_type": "code",
   "execution_count": null,
   "metadata": {},
   "outputs": [],
   "source": [
    "## Specific Animal Folder to copy:\n",
    "a_slow_path: Path = Path('/media/halechr/MAX/Data')\n",
    "a_fastswapped_path: Path = Path('/home/halechr/FastData')\n",
    "\n",
    "## The .pkl files should be copied, the rest should be symlinked.\n",
    "\n",
    "'loadedSessPickle.pkl'\n",
    "'output/global_computation_results.pkl'"
   ]
  },
  {
   "cell_type": "code",
   "execution_count": null,
   "metadata": {},
   "outputs": [],
   "source": [
    "## Start by mirroring the whole directory structure as symlinks. Localize only the .pkl files should be copied\n",
    "\n",
    "\n",
    "\n",
    "\n",
    "a_symlink_path: Path = Path('/home/halechr/FastData/KDIBA/pin01/one')\n",
    "print(f'existing_symlink_folder_path: {a_symlink_path}')\n",
    "assert a_symlink_path.exists()\n",
    "desired_local_folder_paths: List[Path] = [Path(v) for v in ['/home/halechr/FastData/KDIBA/vvp01/one/2006-4-18_13-6-1/output/global_computation_results.pkl', '/home/halechr/FastData/KDIBA/vvp01/one/2006-4-18_13-6-1/loadedSessPickle.pkl',\n",
    "\t\t\t\t\t\t\t\t\t\t\t\t\t\t\t'/home/halechr/FastData/KDIBA/vvp01/one/2006-4-18_13-6-1/output/global_computation_results.pkl', '/home/halechr/FastData/KDIBA/vvp01/one/2006-4-18_13-6-1/loadedSessPickle.pkl',\n",
    "\t\t\t\t\t\t\t\t\t\t\t\t\t\t\t'/home/halechr/FastData/KDIBA/vvp01/one/2006-4-18_13-6-1/output/global_computation_results.pkl', '/home/halechr/FastData/KDIBA/vvp01/one/2006-4-18_13-6-1/loadedSessPickle.pkl',\n",
    "\t\t\t\t\t\t\t\t\t\t\t\t\t\t\t]]\n",
    "make_specific_items_local(a_symlink_path, desired_local_folder_paths=desired_local_folder_paths, dryrun=True)\n",
    "\n"
   ]
  },
  {
   "cell_type": "code",
   "execution_count": null,
   "metadata": {},
   "outputs": [],
   "source": [
    "'pyenv which python'\n",
    "C:\\Users\\pho\\.pyenv\\pyenv-win\\versions\\3.9.13\\python.exe\n"
   ]
  },
  {
   "cell_type": "code",
   "execution_count": null,
   "metadata": {},
   "outputs": [],
   "source": [
    "# Windows:\n",
    "'echo %PYENV_ROOT%\\versions\\'\n",
    "\n",
    "# Linux:\n",
    "echo \"$PYENV_ROOT/versions/\" "
   ]
  }
 ],
 "metadata": {
  "kernelspec": {
   "display_name": ".venv",
   "language": "python",
   "name": "python3"
  },
  "language_info": {
   "codemirror_mode": {
    "name": "ipython",
    "version": 3
   },
   "file_extension": ".py",
   "mimetype": "text/x-python",
   "name": "python",
   "nbconvert_exporter": "python",
   "pygments_lexer": "ipython3",
   "version": "3.9.13"
  }
 },
 "nbformat": 4,
 "nbformat_minor": 2
}
