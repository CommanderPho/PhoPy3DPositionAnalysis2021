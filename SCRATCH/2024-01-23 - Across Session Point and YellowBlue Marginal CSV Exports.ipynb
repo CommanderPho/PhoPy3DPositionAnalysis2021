{
 "cells": [
  {
   "cell_type": "code",
   "execution_count": 1,
   "metadata": {
    "notebookRunGroups": {
     "groupValue": "1"
    }
   },
   "outputs": [
    {
     "name": "stdout",
     "output_type": "stream",
     "text": [
      "Automatic pdb calling has been turned OFF\n"
     ]
    }
   ],
   "source": [
    "%config IPCompleter.use_jedi = False\n",
    "%pdb off\n",
    "%load_ext autoreload\n",
    "%autoreload 3\n",
    "import sys\n",
    "from copy import deepcopy\n",
    "from typing import List, Dict, Tuple, Optional, Union, Callable\n",
    "import pandas as pd\n",
    "import re\n",
    "from pathlib import Path\n",
    "from datetime import datetime\n",
    "import plotly.express as px\n",
    "import plotly.graph_objects as go\n",
    "from plotly.subplots import make_subplots\n",
    "\n",
    "# Plotting\n",
    "# import pylustrator # customization of figures\n",
    "import matplotlib\n",
    "import matplotlib as mpl\n",
    "import matplotlib.pyplot as plt\n",
    "_bak_rcParams = mpl.rcParams.copy()\n",
    "\n",
    "# matplotlib.use('Qt5Agg')\n",
    "%matplotlib inline\n",
    "# %matplotlib auto\n",
    "\n",
    "# _restore_previous_matplotlib_settings_callback = matplotlib_configuration_update(is_interactive=True, backend='Qt5Agg')\n",
    "# _restore_previous_matplotlib_settings_callback = matplotlib_configuration_update(is_interactive=True, backend='Qt5Agg')\n",
    "import seaborn as sns\n"
   ]
  },
  {
   "cell_type": "markdown",
   "metadata": {},
   "source": [
    "# Definitions"
   ]
  },
  {
   "cell_type": "code",
   "execution_count": 2,
   "metadata": {
    "notebookRunGroups": {
     "groupValue": "1"
    }
   },
   "outputs": [],
   "source": [
    "def find_csv_files(directory: str, recurrsive: bool=False):\n",
    "    directory_path = Path(directory) # Convert string path to a Path object\n",
    "    if recurrsive:\n",
    "        return list(directory_path.glob('**/*.csv')) # Return a list of all .csv files in the directory and its subdirectories\n",
    "    else:\n",
    "        return list(directory_path.glob('*.csv')) # Return a list of all .csv files in the directory and its subdirectories\n",
    "    \n",
    "\n",
    "def find_HDF5_files(directory: str):\n",
    "    directory_path = Path(directory) # Convert string path to a Path object\n",
    "    return list(directory_path.glob('**/*.h5')) # Return a list of all .h5 files in the directory and its subdirectories\n",
    "\n",
    "\n",
    "# 2024-01-23 - \n",
    "# C:/Users/pho/repos/Spike3DWorkEnv/Spike3D/output/collected_outputs/2024-01-23_GL-fet11-01_12-58-54_time_bin_size_sweep_results.h5\n",
    "# C:/Users/pho/repos/Spike3DWorkEnv/Spike3D/output/collected_outputs/2024-01-23_GL-11-03_12-3-25_time_bin_size_sweep_results.h5\n",
    "# C:/Users/pho/repos/Spike3DWorkEnv/Spike3D/output/collected_outputs/2024-01-23_GL-11-02_17-46-44_time_bin_size_sweep_results.h5\n",
    "# C:/Users/pho/repos/Spike3DWorkEnv/Spike3D/output/collected_outputs/2024-01-23_GL-11-02_19-28-0_time_bin_size_sweep_results.h5\n",
    "# C:/Users/pho/repos/Spike3DWorkEnv/Spike3D/output/collected_outputs/2024-01-23_GL-2006-4-10_12-58-3_time_bin_size_sweep_results.h5\n",
    "# C:/Users/pho/repos/Spike3DWorkEnv/Spike3D/output/collected_outputs/2024-01-23_GL-2006-4-10_12-25-50_time_bin_size_sweep_results.h5\n",
    "# C:/Users/pho/repos/Spike3DWorkEnv/Spike3D/output/collected_outputs/2024-01-23_GL-2006-4-09_16-40-54_time_bin_size_sweep_results.h5\n",
    "# C:/Users/pho/repos/Spike3DWorkEnv/Spike3D/output/collected_outputs/2024-01-23_GL-2006-6-09_22-24-40_time_bin_size_sweep_results.h5\n",
    "# C:/Users/pho/repos/Spike3DWorkEnv/Spike3D/output/collected_outputs/2024-01-23_GL-2006-6-12_16-53-46_time_bin_size_sweep_results.h5\n",
    "# C:/Users/pho/repos/Spike3DWorkEnv/Spike3D/output/collected_outputs/2024-01-23_GL-2006-4-09_17-29-30_time_bin_size_sweep_results.h5\n",
    "# C:/Users/pho/repos/Spike3DWorkEnv/Spike3D/output/collected_outputs/2024-01-23_GL-2006-6-08_14-26-15_time_bin_size_sweep_results.h5\n",
    "# C:/Users/pho/repos/Spike3DWorkEnv/Spike3D/output/collected_outputs/2024-01-23_GL-2006-6-09_1-22-43_time_bin_size_sweep_results.h5\n",
    "# C:/Users/pho/repos/Spike3DWorkEnv/Spike3D/output/collected_outputs/2024-01-23_GL-2006-6-07_16-40-19_time_bin_size_sweep_results.h5\n",
    "# C:/Users/pho/repos/Spike3DWorkEnv/Spike3D/output/collected_outputs/2024-01-23_GL-2006-6-08_21-16-25_time_bin_size_sweep_results.h5\n",
    "# C:/Users/pho/repos/Spike3DWorkEnv/Spike3D/output/collected_outputs/2024-01-23_GL-2006-6-12_15-55-31_time_bin_size_sweep_results.h5\n",
    "\n",
    "\n",
    "\n",
    "# found_session_export_paths = [Path(v).resolve() for v in  [\"C:/Users/pho/repos/Spike3DWorkEnv/Spike3D/output/collected_outputs/2024-01-12_0420PM-kdiba_pin01_one_fet11-01_12-58-54-(laps_marginals_df).csv\",\n",
    "# \"C:/Users/pho/repos/Spike3DWorkEnv/Spike3D/output/collected_outputs/2024-01-12_0420PM-kdiba_pin01_one_fet11-01_12-58-54-(ripple_marginals_df).csv\",\n",
    "# \"C:/Users/pho/repos/Spike3DWorkEnv/Spike3D/output/collected_outputs/2024-01-12_0645PM-kdiba_pin01_one_fet11-01_12-58-54-(laps_marginals_df).csv\",\n",
    "# \"C:/Users/pho/repos/Spike3DWorkEnv/Spike3D/output/collected_outputs/2024-01-12_0645PM-kdiba_pin01_one_fet11-01_12-58-54-(ripple_marginals_df).csv\",\n",
    "# \"C:/Users/pho/repos/Spike3DWorkEnv/Spike3D/output/collected_outputs/2024-01-12_0828PM-kdiba_pin01_one_fet11-01_12-58-54-(laps_marginals_df).csv\",\n",
    "# \"C:/Users/pho/repos/Spike3DWorkEnv/Spike3D/output/collected_outputs/2024-01-12_0828PM-kdiba_pin01_one_fet11-01_12-58-54-(ripple_marginals_df).csv\",\n",
    "# ]]\n",
    "\n",
    "def parse_filename(path: Path, debug_print:bool=False) -> Tuple[datetime, str, str]:\n",
    "    \"\"\" \n",
    "    # from the found_session_export_paths, get the most recently exported laps_csv, ripple_csv (by comparing `export_datetime`) for each session (`session_str`)\n",
    "    a_export_filename: str = \"2024-01-12_0420PM-kdiba_pin01_one_fet11-01_12-58-54-(laps_marginals_df).csv\"\n",
    "    export_datetime = \"2024-01-12_0420PM\"\n",
    "    session_str = \"kdiba_pin01_one_fet11-01_12-58-54\"\n",
    "    export_file_type = \"(laps_marginals_df)\" # .csv\n",
    "\n",
    "    # return laps_csv, ripple_csv\n",
    "    laps_csv = Path(\"C:/Users/pho/repos/Spike3DWorkEnv/Spike3D/output/collected_outputs/2024-01-12_0828PM-kdiba_pin01_one_fet11-01_12-58-54-(laps_marginals_df).csv\").resolve()\n",
    "    ripple_csv = Path(\"C:/Users/pho/repos/Spike3DWorkEnv/Spike3D/output/collected_outputs/2024-01-12_0828PM-kdiba_pin01_one_fet11-01_12-58-54-(ripple_marginals_df).csv\").resolve()\n",
    "\n",
    "    \"\"\"\n",
    "    filename = path.stem   # Get filename without extension\n",
    "    decoding_time_bin_size_str = None\n",
    "    \n",
    "    pattern = r\"(?P<export_datetime_str>.*_\\d{2}\\d{2}[APMF]{2})-(?P<session_str>.*)-(?P<export_file_type>\\(?.+\\)?)(?:_tbin-(?P<decoding_time_bin_size_str>[^)]+))\"\n",
    "    match = re.match(pattern, filename)\n",
    "    \n",
    "    if match is not None:\n",
    "        # export_datetime_str, session_str, export_file_type = match.groups()\n",
    "        export_datetime_str, session_str, export_file_type, decoding_time_bin_size_str = match.group('export_datetime_str'), match.group('session_str'), match.group('export_file_type'), match.group('decoding_time_bin_size_str')\n",
    "    \n",
    "        # parse the datetime from the export_datetime_str and convert it to datetime object\n",
    "        export_datetime = datetime.strptime(export_datetime_str, \"%Y-%m-%d_%I%M%p\")\n",
    "\n",
    "    else:\n",
    "        if debug_print:\n",
    "            print(f'did not match pattern with time.')\n",
    "        # day_date_only_pattern = r\"(.*(?:_\\d{2}\\d{2}[APMF]{2})?)-(.*)-(\\(.+\\))\"\n",
    "        day_date_only_pattern = r\"(\\d{4}-\\d{2}-\\d{2})-(.*)-(\\(?.+\\)?)\" # \n",
    "        day_date_only_match = re.match(day_date_only_pattern, filename) # '2024-01-04-kdiba_gor01_one_2006-6-08_14-26'        \n",
    "        if day_date_only_match is not None:\n",
    "            export_datetime_str, session_str, export_file_type = day_date_only_match.groups()\n",
    "            # print(export_datetime_str, session_str, export_file_type)\n",
    "            # parse the datetime from the export_datetime_str and convert it to datetime object\n",
    "            export_datetime = datetime.strptime(export_datetime_str, \"%Y-%m-%d\")\n",
    "        \n",
    "        else:\n",
    "            # Try H5 pattern:\n",
    "            # matches '2024-01-04-kdiba_gor01_one_2006-6-08_14-26'\n",
    "            day_date_with_variant_suffix_pattern = r\"(?P<export_datetime_str>\\d{4}-\\d{2}-\\d{2})_?(?P<variant_suffix>[^-_]*)-(?P<session_str>.+?)_(?P<export_file_type>[A-Za-z_]+)\"\n",
    "            day_date_with_variant_suffix_match = re.match(day_date_with_variant_suffix_pattern, filename) # '2024-01-04-kdiba_gor01_one_2006-6-08_14-26'\n",
    "            if day_date_with_variant_suffix_match is not None:\n",
    "                export_datetime_str, session_str, export_file_type = day_date_with_variant_suffix_match.group('export_datetime_str'), day_date_with_variant_suffix_match.group('session_str'), day_date_with_variant_suffix_match.group('export_file_type')\n",
    "                # parse the datetime from the export_datetime_str and convert it to datetime object\n",
    "                export_datetime = datetime.strptime(export_datetime_str, \"%Y-%m-%d\")\n",
    "        \n",
    "            else:\n",
    "                print(f'ERR: Could not parse filename: \"{filename}\"') # 2024-01-18_GL_t_split_df\n",
    "                return None, None, None # used to return ValueError when it couldn't parse, but we'd rather skip unparsable files\n",
    "\n",
    "        \n",
    "    if export_file_type[0] == '(' and export_file_type[-1] == ')':\n",
    "        # Trim the brackets from the file type if they're present:\n",
    "        export_file_type = export_file_type[1:-1]\n",
    "\n",
    "    return export_datetime, session_str, export_file_type, decoding_time_bin_size_str\n",
    "\n",
    "\n",
    "def find_most_recent_files(found_session_export_paths: List[Path], debug_print: bool = False) -> Dict[str, Dict[str, Tuple[Path, datetime]]]:\n",
    "    \"\"\"\n",
    "    Returns a dictionary representing the most recent files for each session type among a list of provided file paths.\n",
    "\n",
    "    Parameters:\n",
    "    found_session_export_paths (List[Path]): A list of Paths representing files to be checked.\n",
    "    debug_print (bool): A flag to trigger debugging print statements within the function. Default is False.\n",
    "\n",
    "    Returns:\n",
    "    Dict[str, Dict[str, Tuple[Path, datetime]]]: A nested dictionary where the main keys represent \n",
    "    different session types. The inner dictionary's keys represent file types and values are the most recent \n",
    "    Path and datetime for this combination of session and file type.\n",
    "    \n",
    "    # now sessions is a dictionary where the key is the session_str and the value is another dictionary.\n",
    "    # This inner dictionary's key is the file type and the value is the most recent path for this combination of session and file type\n",
    "    # Thus, laps_csv and ripple_csv can be obtained from the dictionary for each session\n",
    "\n",
    "    \"\"\"\n",
    "    # Function 'parse_filename' should be defined in the global scope\n",
    "    parsed_paths = [(*parse_filename(p), p) for p in found_session_export_paths if (parse_filename(p)[0] is not None)]\n",
    "    parsed_paths.sort(reverse=True)\n",
    "\n",
    "    if debug_print:\n",
    "        print(f'parsed_paths: {parsed_paths}')\n",
    "\n",
    "    sessions = {}\n",
    "    for export_datetime, session_str, file_type, path, decoding_time_bin_size_str in parsed_paths:\n",
    "        if session_str not in sessions:\n",
    "            sessions[session_str] = {}\n",
    "\n",
    "        if (file_type not in sessions[session_str]) or (sessions[session_str][file_type][-1] < export_datetime):\n",
    "            sessions[session_str][file_type] = (path, decoding_time_bin_size_str, export_datetime)\n",
    "    \n",
    "    return sessions\n",
    "    \n",
    "# \n",
    "\n",
    "debug_print: bool = False"
   ]
  },
  {
   "cell_type": "code",
   "execution_count": 3,
   "metadata": {
    "notebookRunGroups": {
     "groupValue": "1"
    }
   },
   "outputs": [
    {
     "name": "stdout",
     "output_type": "stream",
     "text": [
      "ERR: Could not parse filename: \"2024-01-18_GL_t_split_df\"\n"
     ]
    },
    {
     "data": {
      "text/plain": [
       "{'kdiba_pin01_one_fet11-01_12-58-54': {'laps_time_bin_marginals_df': ('0.075',\n",
       "   WindowsPath('C:/Users/pho/repos/Spike3DWorkEnv/Spike3D/output/collected_outputs/2024-01-24_0440PM-kdiba_pin01_one_fet11-01_12-58-54-(laps_time_bin_marginals_df)_tbin-0.075.csv'),\n",
       "   datetime.datetime(2024, 1, 24, 16, 40)),\n",
       "  'laps_marginals_df': ('0.075',\n",
       "   WindowsPath('C:/Users/pho/repos/Spike3DWorkEnv/Spike3D/output/collected_outputs/2024-01-24_0440PM-kdiba_pin01_one_fet11-01_12-58-54-(laps_marginals_df)_tbin-0.075.csv'),\n",
       "   datetime.datetime(2024, 1, 24, 16, 40))},\n",
       " 'kdiba_vvp01_two_2006-4-10_12-58-3': {'laps_time_bin_marginals_df': ('0.075',\n",
       "   WindowsPath('C:/Users/pho/repos/Spike3DWorkEnv/Spike3D/output/collected_outputs/2024-01-24_0437PM-kdiba_vvp01_two_2006-4-10_12-58-3-(laps_time_bin_marginals_df)_tbin-0.075.csv'),\n",
       "   datetime.datetime(2024, 1, 24, 16, 37)),\n",
       "  'laps_marginals_df': ('0.075',\n",
       "   WindowsPath('C:/Users/pho/repos/Spike3DWorkEnv/Spike3D/output/collected_outputs/2024-01-24_0437PM-kdiba_vvp01_two_2006-4-10_12-58-3-(laps_marginals_df)_tbin-0.075.csv'),\n",
       "   datetime.datetime(2024, 1, 24, 16, 37))},\n",
       " 'kdiba_pin01_one_11-03_12-3-25': {'ripple_time_bin_marginals_df': ('0.075',\n",
       "   WindowsPath('C:/Users/pho/repos/Spike3DWorkEnv/Spike3D/output/collected_outputs/2024-01-24_0437PM-kdiba_pin01_one_11-03_12-3-25-(ripple_time_bin_marginals_df)_tbin-0.075.csv'),\n",
       "   datetime.datetime(2024, 1, 24, 16, 37)),\n",
       "  'ripple_marginals_df': ('0.075',\n",
       "   WindowsPath('C:/Users/pho/repos/Spike3DWorkEnv/Spike3D/output/collected_outputs/2024-01-24_0437PM-kdiba_pin01_one_11-03_12-3-25-(ripple_marginals_df)_tbin-0.075.csv'),\n",
       "   datetime.datetime(2024, 1, 24, 16, 37)),\n",
       "  'laps_time_bin_marginals_df': ('0.075',\n",
       "   WindowsPath('C:/Users/pho/repos/Spike3DWorkEnv/Spike3D/output/collected_outputs/2024-01-24_0437PM-kdiba_pin01_one_11-03_12-3-25-(laps_time_bin_marginals_df)_tbin-0.075.csv'),\n",
       "   datetime.datetime(2024, 1, 24, 16, 37)),\n",
       "  'laps_marginals_df': ('0.075',\n",
       "   WindowsPath('C:/Users/pho/repos/Spike3DWorkEnv/Spike3D/output/collected_outputs/2024-01-24_0437PM-kdiba_pin01_one_11-03_12-3-25-(laps_marginals_df)_tbin-0.075.csv'),\n",
       "   datetime.datetime(2024, 1, 24, 16, 37))},\n",
       " 'kdiba_pin01_one_11-02_19-28-0': {'laps_time_bin_marginals_df': ('0.075',\n",
       "   WindowsPath('C:/Users/pho/repos/Spike3DWorkEnv/Spike3D/output/collected_outputs/2024-01-24_0437PM-kdiba_pin01_one_11-02_19-28-0-(laps_time_bin_marginals_df)_tbin-0.075.csv'),\n",
       "   datetime.datetime(2024, 1, 24, 16, 37)),\n",
       "  'laps_marginals_df': ('0.075',\n",
       "   WindowsPath('C:/Users/pho/repos/Spike3DWorkEnv/Spike3D/output/collected_outputs/2024-01-24_0437PM-kdiba_pin01_one_11-02_19-28-0-(laps_marginals_df)_tbin-0.075.csv'),\n",
       "   datetime.datetime(2024, 1, 24, 16, 37))},\n",
       " 'kdiba_pin01_one_11-02_17-46-44': {'laps_time_bin_marginals_df': ('0.075',\n",
       "   WindowsPath('C:/Users/pho/repos/Spike3DWorkEnv/Spike3D/output/collected_outputs/2024-01-24_0437PM-kdiba_pin01_one_11-02_17-46-44-(laps_time_bin_marginals_df)_tbin-0.075.csv'),\n",
       "   datetime.datetime(2024, 1, 24, 16, 37)),\n",
       "  'laps_marginals_df': ('0.075',\n",
       "   WindowsPath('C:/Users/pho/repos/Spike3DWorkEnv/Spike3D/output/collected_outputs/2024-01-24_0437PM-kdiba_pin01_one_11-02_17-46-44-(laps_marginals_df)_tbin-0.075.csv'),\n",
       "   datetime.datetime(2024, 1, 24, 16, 37))},\n",
       " 'kdiba_vvp01_two_2006-4-09_16-40-54': {'laps_time_bin_marginals_df': ('0.075',\n",
       "   WindowsPath('C:/Users/pho/repos/Spike3DWorkEnv/Spike3D/output/collected_outputs/2024-01-24_0435PM-kdiba_vvp01_two_2006-4-09_16-40-54-(laps_time_bin_marginals_df)_tbin-0.075.csv'),\n",
       "   datetime.datetime(2024, 1, 24, 16, 35)),\n",
       "  'laps_marginals_df': ('0.075',\n",
       "   WindowsPath('C:/Users/pho/repos/Spike3DWorkEnv/Spike3D/output/collected_outputs/2024-01-24_0435PM-kdiba_vvp01_two_2006-4-09_16-40-54-(laps_marginals_df)_tbin-0.075.csv'),\n",
       "   datetime.datetime(2024, 1, 24, 16, 35))},\n",
       " 'kdiba_vvp01_one_2006-4-10_12-25-50': {'laps_time_bin_marginals_df': ('0.075',\n",
       "   WindowsPath('C:/Users/pho/repos/Spike3DWorkEnv/Spike3D/output/collected_outputs/2024-01-24_0435PM-kdiba_vvp01_one_2006-4-10_12-25-50-(laps_time_bin_marginals_df)_tbin-0.075.csv'),\n",
       "   datetime.datetime(2024, 1, 24, 16, 35)),\n",
       "  'laps_marginals_df': ('0.075',\n",
       "   WindowsPath('C:/Users/pho/repos/Spike3DWorkEnv/Spike3D/output/collected_outputs/2024-01-24_0435PM-kdiba_vvp01_one_2006-4-10_12-25-50-(laps_marginals_df)_tbin-0.075.csv'),\n",
       "   datetime.datetime(2024, 1, 24, 16, 35))},\n",
       " 'kdiba_vvp01_one_2006-4-09_17-29-30': {'laps_time_bin_marginals_df': ('0.075',\n",
       "   WindowsPath('C:/Users/pho/repos/Spike3DWorkEnv/Spike3D/output/collected_outputs/2024-01-24_0435PM-kdiba_vvp01_one_2006-4-09_17-29-30-(laps_time_bin_marginals_df)_tbin-0.075.csv'),\n",
       "   datetime.datetime(2024, 1, 24, 16, 35)),\n",
       "  'laps_marginals_df': ('0.075',\n",
       "   WindowsPath('C:/Users/pho/repos/Spike3DWorkEnv/Spike3D/output/collected_outputs/2024-01-24_0435PM-kdiba_vvp01_one_2006-4-09_17-29-30-(laps_marginals_df)_tbin-0.075.csv'),\n",
       "   datetime.datetime(2024, 1, 24, 16, 35))},\n",
       " 'kdiba_gor01_two_2006-6-09_22-24-40': {'laps_time_bin_marginals_df': ('0.075',\n",
       "   WindowsPath('C:/Users/pho/repos/Spike3DWorkEnv/Spike3D/output/collected_outputs/2024-01-24_0435PM-kdiba_gor01_two_2006-6-09_22-24-40-(laps_time_bin_marginals_df)_tbin-0.075.csv'),\n",
       "   datetime.datetime(2024, 1, 24, 16, 35)),\n",
       "  'laps_marginals_df': ('0.075',\n",
       "   WindowsPath('C:/Users/pho/repos/Spike3DWorkEnv/Spike3D/output/collected_outputs/2024-01-24_0435PM-kdiba_gor01_two_2006-6-09_22-24-40-(laps_marginals_df)_tbin-0.075.csv'),\n",
       "   datetime.datetime(2024, 1, 24, 16, 35))},\n",
       " 'kdiba_gor01_two_2006-6-07_16-40-19': {'laps_time_bin_marginals_df': ('0.075',\n",
       "   WindowsPath('C:/Users/pho/repos/Spike3DWorkEnv/Spike3D/output/collected_outputs/2024-01-24_0435PM-kdiba_gor01_two_2006-6-07_16-40-19-(laps_time_bin_marginals_df)_tbin-0.075.csv'),\n",
       "   datetime.datetime(2024, 1, 24, 16, 35)),\n",
       "  'laps_marginals_df': ('0.075',\n",
       "   WindowsPath('C:/Users/pho/repos/Spike3DWorkEnv/Spike3D/output/collected_outputs/2024-01-24_0435PM-kdiba_gor01_two_2006-6-07_16-40-19-(laps_marginals_df)_tbin-0.075.csv'),\n",
       "   datetime.datetime(2024, 1, 24, 16, 35))},\n",
       " 'kdiba_gor01_one_2006-6-09_1-22-43': {'laps_time_bin_marginals_df': ('0.075',\n",
       "   WindowsPath('C:/Users/pho/repos/Spike3DWorkEnv/Spike3D/output/collected_outputs/2024-01-24_0435PM-kdiba_gor01_one_2006-6-09_1-22-43-(laps_time_bin_marginals_df)_tbin-0.075.csv'),\n",
       "   datetime.datetime(2024, 1, 24, 16, 35)),\n",
       "  'laps_marginals_df': ('0.075',\n",
       "   WindowsPath('C:/Users/pho/repos/Spike3DWorkEnv/Spike3D/output/collected_outputs/2024-01-24_0435PM-kdiba_gor01_one_2006-6-09_1-22-43-(laps_marginals_df)_tbin-0.075.csv'),\n",
       "   datetime.datetime(2024, 1, 24, 16, 35))},\n",
       " 'kdiba_gor01_one_2006-6-08_14-26-15': {'laps_time_bin_marginals_df': ('0.075',\n",
       "   WindowsPath('C:/Users/pho/repos/Spike3DWorkEnv/Spike3D/output/collected_outputs/2024-01-24_0435PM-kdiba_gor01_one_2006-6-08_14-26-15-(laps_time_bin_marginals_df)_tbin-0.075.csv'),\n",
       "   datetime.datetime(2024, 1, 24, 16, 35)),\n",
       "  'laps_marginals_df': ('0.075',\n",
       "   WindowsPath('C:/Users/pho/repos/Spike3DWorkEnv/Spike3D/output/collected_outputs/2024-01-24_0435PM-kdiba_gor01_one_2006-6-08_14-26-15-(laps_marginals_df)_tbin-0.075.csv'),\n",
       "   datetime.datetime(2024, 1, 24, 16, 35))},\n",
       " 'kdiba_gor01_two_2006-6-12_16-53-46': {'laps_time_bin_marginals_df': ('0.075',\n",
       "   WindowsPath('C:/Users/pho/repos/Spike3DWorkEnv/Spike3D/output/collected_outputs/2024-01-24_0433PM-kdiba_gor01_two_2006-6-12_16-53-46-(laps_time_bin_marginals_df)_tbin-0.075.csv'),\n",
       "   datetime.datetime(2024, 1, 24, 16, 33)),\n",
       "  'laps_marginals_df': ('0.075',\n",
       "   WindowsPath('C:/Users/pho/repos/Spike3DWorkEnv/Spike3D/output/collected_outputs/2024-01-24_0433PM-kdiba_gor01_two_2006-6-12_16-53-46-(laps_marginals_df)_tbin-0.075.csv'),\n",
       "   datetime.datetime(2024, 1, 24, 16, 33))},\n",
       " 'kdiba_gor01_two_2006-6-08_21-16-25': {'laps_time_bin_marginals_df': ('0.075',\n",
       "   WindowsPath('C:/Users/pho/repos/Spike3DWorkEnv/Spike3D/output/collected_outputs/2024-01-24_0433PM-kdiba_gor01_two_2006-6-08_21-16-25-(laps_time_bin_marginals_df)_tbin-0.075.csv'),\n",
       "   datetime.datetime(2024, 1, 24, 16, 33)),\n",
       "  'laps_marginals_df': ('0.075',\n",
       "   WindowsPath('C:/Users/pho/repos/Spike3DWorkEnv/Spike3D/output/collected_outputs/2024-01-24_0433PM-kdiba_gor01_two_2006-6-08_21-16-25-(laps_marginals_df)_tbin-0.075.csv'),\n",
       "   datetime.datetime(2024, 1, 24, 16, 33))},\n",
       " 'kdiba_gor01_one_2006-6-12_15-55-31': {'laps_time_bin_marginals_df': ('0.075',\n",
       "   WindowsPath('C:/Users/pho/repos/Spike3DWorkEnv/Spike3D/output/collected_outputs/2024-01-24_0432PM-kdiba_gor01_one_2006-6-12_15-55-31-(laps_time_bin_marginals_df)_tbin-0.075.csv'),\n",
       "   datetime.datetime(2024, 1, 24, 16, 32)),\n",
       "  'laps_marginals_df': ('0.075',\n",
       "   WindowsPath('C:/Users/pho/repos/Spike3DWorkEnv/Spike3D/output/collected_outputs/2024-01-24_0432PM-kdiba_gor01_one_2006-6-12_15-55-31-(laps_marginals_df)_tbin-0.075.csv'),\n",
       "   datetime.datetime(2024, 1, 24, 16, 32))}}"
      ]
     },
     "execution_count": 3,
     "metadata": {},
     "output_type": "execute_result"
    }
   ],
   "source": [
    "## Load across session t_delta CSV, which contains the t_delta for each session:\n",
    "t_delta_csv_path = Path(r'C:\\Users\\pho\\repos\\Spike3DWorkEnv\\Spike3D\\output\\collected_outputs\\2024-01-18_GL_t_split_df.csv').resolve() # Apogee\n",
    "# t_delta_csv_path = Path('/home/halechr/cloud/turbo/Data/Output/collected_outputs/2024-01-18_GL_t_split_df.csv').resolve() # GL\n",
    "\n",
    "# collected_outputs_directory = '/home/halechr/FastData/collected_outputs/'\n",
    "# collected_outputs_directory = r'C:\\Users\\pho\\Desktop\\collected_outputs'\n",
    "collected_outputs_directory = r'C:/Users/pho/repos/Spike3DWorkEnv/Spike3D/output/collected_outputs' # APOGEE\n",
    "# collected_outputs_directory = '/home/halechr/cloud/turbo/Data/Output/collected_outputs' # GL\n",
    "\n",
    "## Find the files:\n",
    "csv_files = find_csv_files(collected_outputs_directory)\n",
    "h5_files = find_HDF5_files(collected_outputs_directory)\n",
    "\n",
    "csv_sessions = find_most_recent_files(found_session_export_paths=csv_files)\n",
    "h5_sessions = find_most_recent_files(found_session_export_paths=h5_files)\n",
    "\n",
    "\n",
    "## The CSV containing the session delta time:\n",
    "t_delta_df = pd.read_csv(t_delta_csv_path, index_col=0) # Assuming that your CSV file has an index column\n",
    "t_delta_dict = t_delta_df.to_dict(orient='index')\n",
    "# t_delta_df\n",
    "\n",
    "csv_sessions"
   ]
  },
  {
   "cell_type": "code",
   "execution_count": 4,
   "metadata": {
    "notebookRunGroups": {
     "groupValue": "1"
    }
   },
   "outputs": [
    {
     "name": "stdout",
     "output_type": "stream",
     "text": [
      "session kdiba_pin01_one_fet11-01_12-58-54 did not fully work. (error 'ripple_marginals_df'. Skipping.\n",
      "session kdiba_pin01_one_fet11-01_12-58-54 did not fully work. (error 'ripple_time_bin_marginals_df'. Skipping.\n",
      "session kdiba_vvp01_two_2006-4-10_12-58-3 did not fully work. (error 'ripple_marginals_df'. Skipping.\n",
      "session kdiba_vvp01_two_2006-4-10_12-58-3 did not fully work. (error 'ripple_time_bin_marginals_df'. Skipping.\n",
      "session kdiba_pin01_one_11-02_19-28-0 did not fully work. (error 'ripple_marginals_df'. Skipping.\n",
      "session kdiba_pin01_one_11-02_19-28-0 did not fully work. (error 'ripple_time_bin_marginals_df'. Skipping.\n",
      "session kdiba_pin01_one_11-02_17-46-44 did not fully work. (error 'ripple_marginals_df'. Skipping.\n",
      "session kdiba_pin01_one_11-02_17-46-44 did not fully work. (error 'ripple_time_bin_marginals_df'. Skipping.\n",
      "session kdiba_vvp01_two_2006-4-09_16-40-54 did not fully work. (error 'ripple_marginals_df'. Skipping.\n",
      "session kdiba_vvp01_two_2006-4-09_16-40-54 did not fully work. (error 'ripple_time_bin_marginals_df'. Skipping.\n",
      "session kdiba_vvp01_one_2006-4-10_12-25-50 did not fully work. (error 'ripple_marginals_df'. Skipping.\n",
      "session kdiba_vvp01_one_2006-4-10_12-25-50 did not fully work. (error 'ripple_time_bin_marginals_df'. Skipping.\n",
      "session kdiba_vvp01_one_2006-4-09_17-29-30 did not fully work. (error 'ripple_marginals_df'. Skipping.\n",
      "session kdiba_vvp01_one_2006-4-09_17-29-30 did not fully work. (error 'ripple_time_bin_marginals_df'. Skipping.\n",
      "session kdiba_gor01_two_2006-6-09_22-24-40 did not fully work. (error 'ripple_marginals_df'. Skipping.\n",
      "session kdiba_gor01_two_2006-6-09_22-24-40 did not fully work. (error 'ripple_time_bin_marginals_df'. Skipping.\n",
      "session kdiba_gor01_two_2006-6-07_16-40-19 did not fully work. (error 'ripple_marginals_df'. Skipping.\n",
      "session kdiba_gor01_two_2006-6-07_16-40-19 did not fully work. (error 'ripple_time_bin_marginals_df'. Skipping.\n",
      "session kdiba_gor01_one_2006-6-09_1-22-43 did not fully work. (error 'ripple_marginals_df'. Skipping.\n",
      "session kdiba_gor01_one_2006-6-09_1-22-43 did not fully work. (error 'ripple_time_bin_marginals_df'. Skipping.\n",
      "session kdiba_gor01_one_2006-6-08_14-26-15 did not fully work. (error 'ripple_marginals_df'. Skipping.\n",
      "session kdiba_gor01_one_2006-6-08_14-26-15 did not fully work. (error 'ripple_time_bin_marginals_df'. Skipping.\n",
      "session kdiba_gor01_two_2006-6-12_16-53-46 did not fully work. (error 'ripple_marginals_df'. Skipping.\n",
      "session kdiba_gor01_two_2006-6-12_16-53-46 did not fully work. (error 'ripple_time_bin_marginals_df'. Skipping.\n",
      "session kdiba_gor01_two_2006-6-08_21-16-25 did not fully work. (error 'ripple_marginals_df'. Skipping.\n",
      "session kdiba_gor01_two_2006-6-08_21-16-25 did not fully work. (error 'ripple_time_bin_marginals_df'. Skipping.\n",
      "session kdiba_gor01_one_2006-6-12_15-55-31 did not fully work. (error 'ripple_marginals_df'. Skipping.\n",
      "session kdiba_gor01_one_2006-6-12_15-55-31 did not fully work. (error 'ripple_time_bin_marginals_df'. Skipping.\n"
     ]
    }
   ],
   "source": [
    "# Extract each of the separate files from the sessions:\n",
    "def process_csv_file(file: str, session_name: str, curr_session_t_delta: Optional[float], time_col: str) -> pd.DataFrame:\n",
    "    df = pd.read_csv(file)\n",
    "    df['session_name'] = session_name \n",
    "    if curr_session_t_delta is not None:\n",
    "        df['delta_aligned_start_t'] = df[time_col] - curr_session_t_delta\n",
    "    return df\n",
    "    \n",
    "final_sessions = {}\n",
    "final_sessions_loaded_laps_dict = {}\n",
    "final_sessions_loaded_ripple_dict = {}\n",
    "final_sessions_loaded_laps_time_bin_dict = {}\n",
    "final_sessions_loaded_ripple_time_bin_dict = {}\n",
    "\n",
    "for session_str, session_dict in csv_sessions.items():\n",
    "    # try:\n",
    "        final_sessions[session_str] = {}\n",
    "        for file_type, (an_decoding_time_bin_size_str, a_path, an_export_datetime) in session_dict.items():\n",
    "            final_sessions[session_str][file_type] = a_path\n",
    "            \n",
    "        session_name: str = str(session_str)  # Extract session name from the filename\n",
    "        if debug_print:\n",
    "            print(f'processing session_name: {session_name}')\n",
    "        curr_session_t_delta: Optional[float] = t_delta_dict.get(session_name, {}).get('t_delta', None)\n",
    "        if curr_session_t_delta is None:\n",
    "            print(f'WARN: curr_session_t_split is None for session_str = \"{session_str}\"')\n",
    "\n",
    "        # finds each of the four exports:\n",
    "        try:\n",
    "            laps_file = final_sessions[session_str]['laps_marginals_df']\n",
    "            final_sessions_loaded_laps_dict[session_str] = process_csv_file(laps_file, session_name, curr_session_t_delta, 'lap_start_t')\n",
    "        except BaseException as e:\n",
    "            print(f'session {session_str} did not fully work. (error {e}. Skipping.') \n",
    "            pass   \n",
    "                    \n",
    "        try:\n",
    "            ripple_file = final_sessions[session_str]['ripple_marginals_df']\n",
    "            final_sessions_loaded_ripple_dict[session_str] = process_csv_file(ripple_file, session_name, curr_session_t_delta, 'ripple_start_t')\n",
    "        except BaseException as e:\n",
    "            print(f'session {session_str} did not fully work. (error {e}. Skipping.') \n",
    "            pass   \n",
    "            \n",
    "\n",
    "        try:\n",
    "            laps_time_bin_file = final_sessions[session_str]['laps_time_bin_marginals_df']\n",
    "            final_sessions_loaded_laps_time_bin_dict[session_str] = process_csv_file(laps_time_bin_file, session_name, curr_session_t_delta, 't_bin_center')\n",
    "        except BaseException as e:\n",
    "            print(f'session {session_str} did not fully work. (error {e}. Skipping.') \n",
    "            pass   \n",
    "\n",
    "\n",
    "        try:\n",
    "            ripple_time_bin_file = final_sessions[session_str]['ripple_time_bin_marginals_df']\n",
    "            final_sessions_loaded_ripple_time_bin_dict[session_str] = process_csv_file(ripple_time_bin_file, session_name, curr_session_t_delta, 't_bin_center')\n",
    "        except BaseException as e:\n",
    "            print(f'session {session_str} did not fully work. (error {e}. Skipping.') \n",
    "            pass   \n"
   ]
  },
  {
   "cell_type": "code",
   "execution_count": null,
   "metadata": {},
   "outputs": [],
   "source": [
    "final_sessions_loaded_laps_time_bin_dict"
   ]
  },
  {
   "cell_type": "code",
   "execution_count": null,
   "metadata": {},
   "outputs": [],
   "source": [
    "final_sessions_loaded_laps_dict"
   ]
  },
  {
   "cell_type": "code",
   "execution_count": 5,
   "metadata": {},
   "outputs": [
    {
     "data": {
      "text/html": [
       "<div>\n",
       "<style scoped>\n",
       "    .dataframe tbody tr th:only-of-type {\n",
       "        vertical-align: middle;\n",
       "    }\n",
       "\n",
       "    .dataframe tbody tr th {\n",
       "        vertical-align: top;\n",
       "    }\n",
       "\n",
       "    .dataframe thead th {\n",
       "        text-align: right;\n",
       "    }\n",
       "</style>\n",
       "<table border=\"1\" class=\"dataframe\">\n",
       "  <thead>\n",
       "    <tr style=\"text-align: right;\">\n",
       "      <th></th>\n",
       "      <th>Unnamed: 0</th>\n",
       "      <th>P_LR</th>\n",
       "      <th>P_RL</th>\n",
       "      <th>P_Long</th>\n",
       "      <th>P_Short</th>\n",
       "      <th>epoch_idx</th>\n",
       "      <th>t_bin_center</th>\n",
       "      <th>session_name</th>\n",
       "      <th>delta_aligned_start_t</th>\n",
       "    </tr>\n",
       "  </thead>\n",
       "  <tbody>\n",
       "    <tr>\n",
       "      <th>0</th>\n",
       "      <td>0</td>\n",
       "      <td>0.009468</td>\n",
       "      <td>0.990532</td>\n",
       "      <td>0.982776</td>\n",
       "      <td>0.017224</td>\n",
       "      <td>0</td>\n",
       "      <td>36.596634</td>\n",
       "      <td>kdiba_pin01_one_fet11-01_12-58-54</td>\n",
       "      <td>-2020.629314</td>\n",
       "    </tr>\n",
       "    <tr>\n",
       "      <th>1</th>\n",
       "      <td>1</td>\n",
       "      <td>0.850686</td>\n",
       "      <td>0.149314</td>\n",
       "      <td>0.903014</td>\n",
       "      <td>0.096986</td>\n",
       "      <td>0</td>\n",
       "      <td>36.671634</td>\n",
       "      <td>kdiba_pin01_one_fet11-01_12-58-54</td>\n",
       "      <td>-2020.554314</td>\n",
       "    </tr>\n",
       "    <tr>\n",
       "      <th>2</th>\n",
       "      <td>2</td>\n",
       "      <td>0.276146</td>\n",
       "      <td>0.723854</td>\n",
       "      <td>0.591059</td>\n",
       "      <td>0.408941</td>\n",
       "      <td>0</td>\n",
       "      <td>36.746634</td>\n",
       "      <td>kdiba_pin01_one_fet11-01_12-58-54</td>\n",
       "      <td>-2020.479314</td>\n",
       "    </tr>\n",
       "    <tr>\n",
       "      <th>3</th>\n",
       "      <td>3</td>\n",
       "      <td>0.518187</td>\n",
       "      <td>0.481813</td>\n",
       "      <td>0.627628</td>\n",
       "      <td>0.372372</td>\n",
       "      <td>0</td>\n",
       "      <td>36.821634</td>\n",
       "      <td>kdiba_pin01_one_fet11-01_12-58-54</td>\n",
       "      <td>-2020.404314</td>\n",
       "    </tr>\n",
       "    <tr>\n",
       "      <th>4</th>\n",
       "      <td>4</td>\n",
       "      <td>0.549743</td>\n",
       "      <td>0.450257</td>\n",
       "      <td>0.478148</td>\n",
       "      <td>0.521852</td>\n",
       "      <td>0</td>\n",
       "      <td>36.896634</td>\n",
       "      <td>kdiba_pin01_one_fet11-01_12-58-54</td>\n",
       "      <td>-2020.329314</td>\n",
       "    </tr>\n",
       "    <tr>\n",
       "      <th>...</th>\n",
       "      <td>...</td>\n",
       "      <td>...</td>\n",
       "      <td>...</td>\n",
       "      <td>...</td>\n",
       "      <td>...</td>\n",
       "      <td>...</td>\n",
       "      <td>...</td>\n",
       "      <td>...</td>\n",
       "      <td>...</td>\n",
       "    </tr>\n",
       "    <tr>\n",
       "      <th>86833</th>\n",
       "      <td>4728</td>\n",
       "      <td>0.658531</td>\n",
       "      <td>0.341469</td>\n",
       "      <td>0.243500</td>\n",
       "      <td>0.756500</td>\n",
       "      <td>73</td>\n",
       "      <td>1102.523536</td>\n",
       "      <td>kdiba_gor01_one_2006-6-12_15-55-31</td>\n",
       "      <td>446.458727</td>\n",
       "    </tr>\n",
       "    <tr>\n",
       "      <th>86834</th>\n",
       "      <td>4729</td>\n",
       "      <td>0.000028</td>\n",
       "      <td>0.999972</td>\n",
       "      <td>0.127611</td>\n",
       "      <td>0.872389</td>\n",
       "      <td>73</td>\n",
       "      <td>1102.598536</td>\n",
       "      <td>kdiba_gor01_one_2006-6-12_15-55-31</td>\n",
       "      <td>446.533727</td>\n",
       "    </tr>\n",
       "    <tr>\n",
       "      <th>86835</th>\n",
       "      <td>4730</td>\n",
       "      <td>0.333369</td>\n",
       "      <td>0.666631</td>\n",
       "      <td>0.000424</td>\n",
       "      <td>0.999576</td>\n",
       "      <td>73</td>\n",
       "      <td>1102.673536</td>\n",
       "      <td>kdiba_gor01_one_2006-6-12_15-55-31</td>\n",
       "      <td>446.608727</td>\n",
       "    </tr>\n",
       "    <tr>\n",
       "      <th>86836</th>\n",
       "      <td>4731</td>\n",
       "      <td>0.250547</td>\n",
       "      <td>0.749453</td>\n",
       "      <td>0.380665</td>\n",
       "      <td>0.619335</td>\n",
       "      <td>73</td>\n",
       "      <td>1102.748536</td>\n",
       "      <td>kdiba_gor01_one_2006-6-12_15-55-31</td>\n",
       "      <td>446.683727</td>\n",
       "    </tr>\n",
       "    <tr>\n",
       "      <th>86837</th>\n",
       "      <td>4732</td>\n",
       "      <td>0.781264</td>\n",
       "      <td>0.218736</td>\n",
       "      <td>0.192833</td>\n",
       "      <td>0.807167</td>\n",
       "      <td>73</td>\n",
       "      <td>1102.823536</td>\n",
       "      <td>kdiba_gor01_one_2006-6-12_15-55-31</td>\n",
       "      <td>446.758727</td>\n",
       "    </tr>\n",
       "  </tbody>\n",
       "</table>\n",
       "<p>86838 rows × 9 columns</p>\n",
       "</div>"
      ],
      "text/plain": [
       "       Unnamed: 0      P_LR      P_RL    P_Long   P_Short  epoch_idx  \\\n",
       "0               0  0.009468  0.990532  0.982776  0.017224          0   \n",
       "1               1  0.850686  0.149314  0.903014  0.096986          0   \n",
       "2               2  0.276146  0.723854  0.591059  0.408941          0   \n",
       "3               3  0.518187  0.481813  0.627628  0.372372          0   \n",
       "4               4  0.549743  0.450257  0.478148  0.521852          0   \n",
       "...           ...       ...       ...       ...       ...        ...   \n",
       "86833        4728  0.658531  0.341469  0.243500  0.756500         73   \n",
       "86834        4729  0.000028  0.999972  0.127611  0.872389         73   \n",
       "86835        4730  0.333369  0.666631  0.000424  0.999576         73   \n",
       "86836        4731  0.250547  0.749453  0.380665  0.619335         73   \n",
       "86837        4732  0.781264  0.218736  0.192833  0.807167         73   \n",
       "\n",
       "       t_bin_center                        session_name  delta_aligned_start_t  \n",
       "0         36.596634   kdiba_pin01_one_fet11-01_12-58-54           -2020.629314  \n",
       "1         36.671634   kdiba_pin01_one_fet11-01_12-58-54           -2020.554314  \n",
       "2         36.746634   kdiba_pin01_one_fet11-01_12-58-54           -2020.479314  \n",
       "3         36.821634   kdiba_pin01_one_fet11-01_12-58-54           -2020.404314  \n",
       "4         36.896634   kdiba_pin01_one_fet11-01_12-58-54           -2020.329314  \n",
       "...             ...                                 ...                    ...  \n",
       "86833   1102.523536  kdiba_gor01_one_2006-6-12_15-55-31             446.458727  \n",
       "86834   1102.598536  kdiba_gor01_one_2006-6-12_15-55-31             446.533727  \n",
       "86835   1102.673536  kdiba_gor01_one_2006-6-12_15-55-31             446.608727  \n",
       "86836   1102.748536  kdiba_gor01_one_2006-6-12_15-55-31             446.683727  \n",
       "86837   1102.823536  kdiba_gor01_one_2006-6-12_15-55-31             446.758727  \n",
       "\n",
       "[86838 rows x 9 columns]"
      ]
     },
     "execution_count": 5,
     "metadata": {},
     "output_type": "execute_result"
    }
   ],
   "source": [
    "\n",
    "## Build across_sessions join dataframes:\n",
    "all_sessions_laps_df: pd.DataFrame = pd.concat(list(final_sessions_loaded_laps_dict.values()), axis='index', ignore_index=True)\n",
    "all_sessions_ripple_df: pd.DataFrame = pd.concat(list(final_sessions_loaded_ripple_dict.values()), axis='index', ignore_index=True)\n",
    "\n",
    "# *_time_bin marginals:\n",
    "all_sessions_laps_time_bin_df: pd.DataFrame = pd.concat(list(final_sessions_loaded_laps_time_bin_dict.values()), axis='index', ignore_index=True)\n",
    "all_sessions_ripple_time_bin_df: pd.DataFrame = pd.concat(list(final_sessions_loaded_ripple_time_bin_dict.values()), axis='index', ignore_index=True)\n",
    "\n",
    "\n",
    "all_sessions_laps_time_bin_df"
   ]
  },
  {
   "cell_type": "code",
   "execution_count": null,
   "metadata": {},
   "outputs": [],
   "source": [
    "# final_sessions\n",
    "# {'kdiba_gor01_one_2006-6-08_14-26-15': {'ripple_marginals_df': WindowsPath('C:/Users/pho/repos/Spike3DWorkEnv/Spike3D/output/collected_outputs/2024-01-17_0540PM-kdiba_gor01_one_2006-6-08_14-26-15-(ripple_marginals_df).csv'),\n",
    "#   'laps_marginals_df': WindowsPath('C:/Users/pho/repos/Spike3DWorkEnv/Spike3D/output/collected_outputs/2024-01-17_0540PM-kdiba_gor01_one_2006-6-08_14-26-15-(laps_marginals_df).csv')},\n",
    "#  'kdiba_gor01_one_2006-6-09_1-22-43': {'ripple_marginals_df': WindowsPath('C:/Users/pho/repos/Spike3DWorkEnv/Spike3D/output/collected_outputs/2024-01-12_0838PM-kdiba_gor01_one_2006-6-09_1-22-43-(ripple_marginals_df).csv'),\n",
    "#   'laps_marginals_df': WindowsPath('C:/Users/pho/repos/Spike3DWorkEnv/Spike3D/output/collected_outputs/2024-01-12_0838PM-kdiba_gor01_one_2006-6-09_1-22-43-(laps_marginals_df).csv')},\n",
    "#  'kdiba_pin01_one_fet11-01_12-58-54': {'ripple_marginals_df': WindowsPath('C:/Users/pho/repos/Spike3DWorkEnv/Spike3D/output/collected_outputs/2024-01-12_0828PM-kdiba_pin01_one_fet11-01_12-58-54-(ripple_marginals_df).csv'),\n",
    "#   'laps_marginals_df': WindowsPath('C:/Users/pho/repos/Spike3DWorkEnv/Spike3D/output/collected_outputs/2024-01-12_0828PM-kdiba_pin01_one_fet11-01_12-58-54-(laps_marginals_df).csv')}}\n",
    "\n",
    "\n",
    "\n",
    "all_sessions_laps_df\n",
    "all_sessions_laps_time_bin_df\n",
    "\n",
    "final_output_path = Path(\"../output/\").resolve()\n",
    "\n",
    "# final_output_path.joinpath(\"2024-01-23_AcrossSession_fig_laps.html\").resolve()\n",
    "\n",
    "final_csv_export_path_laps = final_output_path.joinpath(\"2024-01-23_AcrossSession_Laps.csv\").resolve()\n",
    "# all_sessions_laps_df.to_csv(final_csv_export_path_laps)\n",
    "\n",
    "final_csv_export_path_ripple = final_output_path.joinpath(\"2024-01-23_AcrossSession_Ripple.csv\").resolve()\n",
    "# all_sessions_ripple_df.to_csv(final_csv_export_path_ripple)\n",
    "\n",
    "final_csv_export_path_laps, final_csv_export_path_ripple\n"
   ]
  },
  {
   "cell_type": "code",
   "execution_count": 6,
   "metadata": {},
   "outputs": [],
   "source": [
    "def plot_across_sessions_results(directory, concatenated_laps_df, concatenated_ripple_df, save_figures=False, figure_save_extension='.png'):\n",
    "    \"\"\" takes the directory containing the .csv pairs that were exported by `export_marginals_df_csv`\n",
    "    Produces and then saves figures out the the f'{directory}/figures/' subfolder\n",
    "\n",
    "    \"\"\"\n",
    "    if not isinstance(directory, Path):\n",
    "        directory = Path(directory).resolve()\n",
    "    assert directory.exists()\n",
    "    print(f'plot_across_sessions_results(directory: {directory})')\n",
    "    if save_figures:\n",
    "        # Create a 'figures' subfolder if it doesn't exist\n",
    "        figures_folder = Path(directory, 'figures')\n",
    "        figures_folder.mkdir(parents=False, exist_ok=True)\n",
    "        assert figures_folder.exists()\n",
    "        print(f'\\tfigures_folder: {figures_folder}')\n",
    "    \n",
    "    # Create an empty list to store the figures\n",
    "    all_figures = []\n",
    "\n",
    "    ## delta_t aligned:\n",
    "    # Create a bubble chart for laps\n",
    "    fig_laps = px.scatter(concatenated_laps_df, x='delta_aligned_start_t', y='P_Long', title=f\"Laps - Session: {session_name}\", color='session_name')\n",
    "    # Create a bubble chart for ripples\n",
    "    fig_ripples = px.scatter(concatenated_ripple_df, x='delta_aligned_start_t', y='P_Long', title=f\"Ripples - Session: {session_name}\", color='session_name')\n",
    "\n",
    "    # # Create a bubble chart for laps\n",
    "    # fig_laps = px.scatter(concatenated_laps_df, x='lap_start_t', y='P_Long', title=f\"Laps - Session: {session_name}\", color='session_name')\n",
    "    # # Create a bubble chart for ripples\n",
    "    # fig_ripples = px.scatter(concatenated_ripple_df, x='ripple_start_t', y='P_Long', title=f\"Ripples - Session: {session_name}\", color='session_name')\n",
    "\n",
    "    if save_figures:\n",
    "        # Save the figures to the 'figures' subfolder\n",
    "        print(f'\\tsaving figures...')\n",
    "        fig_laps_name = Path(figures_folder, f\"{session_name}_laps_marginal{figure_save_extension}\").resolve()\n",
    "        print(f'\\tsaving \"{fig_laps_name}\"...')\n",
    "        fig_laps.write_image(fig_laps_name)\n",
    "        fig_ripple_name = Path(figures_folder, f\"{session_name}_ripples_marginal{figure_save_extension}\").resolve()\n",
    "        print(f'\\tsaving \"{fig_ripple_name}\"...')\n",
    "        fig_ripples.write_image(fig_ripple_name)\n",
    "    \n",
    "    # Append both figures to the list\n",
    "    all_figures.append((fig_laps, fig_ripples))\n",
    "    \n",
    "    return all_figures\n",
    "\n",
    "\n",
    "# Plot the time_bin marginals:\n",
    "\n",
    "\n",
    "\n",
    "def plot_across_sessions_results_with_histogram_gpt3(directory, concatenated_laps_df, concatenated_ripple_df, save_figures=False, figure_save_extension='.png'):\n",
    "    \"\"\" takes the directory containing the .csv pairs that were exported by `export_marginals_df_csv`\n",
    "    Produces and then saves figures out the the f'{directory}/figures/' subfolder\n",
    "\n",
    "    \"\"\"\n",
    "    if not isinstance(directory, Path):\n",
    "        directory = Path(directory).resolve()\n",
    "    assert directory.exists()\n",
    "    print(f'plot_across_sessions_results(directory: {directory})')\n",
    "    if save_figures:\n",
    "        # Create a 'figures' subfolder if it doesn't exist\n",
    "        figures_folder = Path(directory, 'figures')\n",
    "        figures_folder.mkdir(parents=False, exist_ok=True)\n",
    "        assert figures_folder.exists()\n",
    "        print(f'\\tfigures_folder: {figures_folder}')\n",
    "    \n",
    "    # Create an empty list to store the figures\n",
    "    all_figures = []\n",
    "\n",
    "    ## delta_t aligned:\n",
    "    # Create a bubble chart for laps\n",
    "    fig_laps = px.scatter(concatenated_laps_df, x='delta_aligned_start_t', y='P_Long', title=f\"Laps - Session: {session_name}\", color='session_name')\n",
    "    # Create a bubble chart for ripples\n",
    "    fig_ripples = px.scatter(concatenated_ripple_df, x='delta_aligned_start_t', y='P_Long', title=f\"Ripples - Session: {session_name}\", color='session_name')\n",
    "\n",
    "    # Create a histogram for laps\n",
    "    fig_hist_laps = px.histogram(concatenated_laps_df, x='delta_aligned_start_t', nbins=50, title=f\"Laps - Session: {session_name}\")\n",
    "    \n",
    "    # Assign numerical values to session_name for color\n",
    "    session_name_to_color = {name: i for i, name in enumerate(concatenated_laps_df['session_name'].unique())}\n",
    "\n",
    "    # Create subplots with shared y-axis\n",
    "    fig = make_subplots(rows=1, cols=2, subplot_titles=[f\"Laps - Session: {session_name}\", f\"Ripples - Session: {session_name}\"])\n",
    "    \n",
    "    # Add histogram to the left subplot\n",
    "    fig.add_trace(go.Histogram(x=concatenated_laps_df['delta_aligned_start_t'], nbinsx=50, name='Histogram'), row=1, col=1)\n",
    "    fig.update_yaxes(title_text='Count', row=1, col=1)\n",
    "    \n",
    "    # Add bubble chart to the right subplot\n",
    "    fig.add_trace(go.Scatter(x=concatenated_laps_df['delta_aligned_start_t'], y=concatenated_laps_df['P_Long'], mode='markers', marker=dict(color=concatenated_laps_df['session_name'].map(session_name_to_color))), row=1, col=2)\n",
    "    fig.update_xaxes(title_text='delta_aligned_start_t', row=1, col=2)\n",
    "    fig.update_yaxes(title_text='P_Long', row=1, col=2)\n",
    "\n",
    "    if save_figures:\n",
    "        # Save the figure to the 'figures' subfolder\n",
    "        print(f'\\tsaving figures...')\n",
    "        fig_name = Path(figures_folder, f\"{session_name}_combined_plot{figure_save_extension}\").resolve()\n",
    "        print(f'\\tsaving \"{fig_name}\"...')\n",
    "        fig.write_image(fig_name)\n",
    "    \n",
    "    # Append the figure to the list\n",
    "    all_figures.append(fig)\n",
    "    \n",
    "    return all_figures\n",
    "\n",
    "\n",
    "def plot_across_sessions_results_with_histogram_new(directory, concatenated_laps_df, concatenated_ripple_df, save_figures=False, figure_save_extension='.png'):\n",
    "    \"\"\" takes the directory containing the .csv pairs that were exported by `export_marginals_df_csv`\n",
    "    Produces and then saves figures out the the f'{directory}/figures/' subfolder\n",
    "\n",
    "    \"\"\"\n",
    "\n",
    "    # Your existing code (not modified)\n",
    "\n",
    "    ## delta_t aligned:\n",
    "    # Create subplot with 2 rows and 1 column\n",
    "    fig_laps = make_subplots(rows=2, cols=1)\n",
    "    # Add scatter plot to first row, first column\n",
    "    fig_laps.add_trace(\n",
    "        go.Scatter(x=concatenated_laps_df['delta_aligned_start_t'], y=concatenated_laps_df['P_Long'], mode='markers', name='Scatter'), \n",
    "        row=1, col=1\n",
    "    )\n",
    "    # add histogram to second row, first column\n",
    "    fig_laps.add_trace(\n",
    "        go.Histogram(x=concatenated_laps_df['delta_aligned_start_t'], name='Histogram'), \n",
    "        row=2, col=1\n",
    "    )\n",
    "    # Same for ripples\n",
    "    fig_ripples = make_subplots(rows=2, cols=1)\n",
    "    fig_ripples.add_trace(\n",
    "        go.Scatter(x=concatenated_ripple_df['delta_aligned_start_t'], y=concatenated_ripple_df['P_Long'], mode='markers', name='Scatter'), \n",
    "        row=1, col=1\n",
    "    )\n",
    "    fig_ripples.add_trace(\n",
    "        go.Histogram(x=concatenated_ripple_df['delta_aligned_start_t'], name='Histogram'), \n",
    "        row=2, col=1\n",
    "    )\n",
    "    # Your existing code continues from here (not modified)\n",
    "    if not isinstance(directory, Path):\n",
    "        directory = Path(directory).resolve()\n",
    "    assert directory.exists()\n",
    "    print(f'plot_across_sessions_results(directory: {directory})')\n",
    "    if save_figures:\n",
    "        # Create a 'figures' subfolder if it doesn't exist\n",
    "        figures_folder = Path(directory, 'figures')\n",
    "        figures_folder.mkdir(parents=False, exist_ok=True)\n",
    "        assert figures_folder.exists()\n",
    "        print(f'\\tfigures_folder: {figures_folder}')\n",
    "    \n",
    "    # Create an empty list to store the figures\n",
    "    all_figures = []\n",
    "\n",
    "    ## delta_t aligned:\n",
    "    # Create a bubble chart for laps\n",
    "    fig_laps = px.scatter(concatenated_laps_df, x='delta_aligned_start_t', y='P_Long', title=f\"Laps - Session: {session_name}\", color='session_name')\n",
    "    # Create a bubble chart for ripples\n",
    "    fig_ripples = px.scatter(concatenated_ripple_df, x='delta_aligned_start_t', y='P_Long', title=f\"Ripples - Session: {session_name}\", color='session_name')\n",
    "\n",
    "    if save_figures:\n",
    "        # Save the figures to the 'figures' subfolder\n",
    "        print(f'\\tsaving figures...')\n",
    "        fig_laps_name = Path(figures_folder, f\"{session_name}_laps_marginal{figure_save_extension}\").resolve()\n",
    "        print(f'\\tsaving \"{fig_laps_name}\"...')\n",
    "        fig_laps.write_image(fig_laps_name)\n",
    "        fig_ripple_name = Path(figures_folder, f\"{session_name}_ripples_marginal{figure_save_extension}\").resolve()\n",
    "        print(f'\\tsaving \"{fig_ripple_name}\"...')\n",
    "        fig_ripples.write_image(fig_ripple_name)\n",
    "    \n",
    "    # Append both figures to the list\n",
    "    all_figures.append((fig_laps, fig_ripples))\n",
    "    \n",
    "    return all_figures"
   ]
  },
  {
   "cell_type": "code",
   "execution_count": 7,
   "metadata": {},
   "outputs": [
    {
     "name": "stdout",
     "output_type": "stream",
     "text": [
      "plot_across_sessions_results(directory: C:\\Users\\pho\\repos\\Spike3DWorkEnv\\Spike3D\\output\\collected_outputs)\n",
      "\tfigures_folder: C:\\Users\\pho\\repos\\Spike3DWorkEnv\\Spike3D\\output\\collected_outputs\\figures\n",
      "\tsaving figures...\n",
      "\tsaving \"C:\\Users\\pho\\repos\\Spike3DWorkEnv\\Spike3D\\output\\collected_outputs\\figures\\kdiba_gor01_one_2006-6-12_15-55-31_laps_marginal.png\"...\n",
      "\tsaving \"C:\\Users\\pho\\repos\\Spike3DWorkEnv\\Spike3D\\output\\collected_outputs\\figures\\kdiba_gor01_one_2006-6-12_15-55-31_ripples_marginal.png\"...\n"
     ]
    },
    {
     "data": {
      "application/vnd.plotly.v1+json": {
       "config": {
        "plotlyServerURL": "https://plot.ly"
       },
       "data": [
        {
         "hovertemplate": "session_name=kdiba_pin01_one_fet11-01_12-58-54<br>delta_aligned_start_t=%{x}<br>P_Long=%{y}<extra></extra>",
         "legendgroup": "kdiba_pin01_one_fet11-01_12-58-54",
         "marker": {
          "color": "#636efa",
          "symbol": "circle"
         },
         "mode": "markers",
         "name": "kdiba_pin01_one_fet11-01_12-58-54",
         "showlegend": true,
         "type": "scattergl",
         "x": [
          -2020.6668144970754,
          -1971.421036497075,
          -1945.7593784970759,
          -1911.526701497076,
          -1870.9463034970759,
          -1825.4687404970755,
          -1787.0955724970754,
          -1780.4293584970746,
          -1777.822837497075,
          -1758.4031074970753,
          -1743.8823344970751,
          -1699.7753864970764,
          -1665.9053974970757,
          -1641.6539704970764,
          -1626.4750244970764,
          -1623.2319984970763,
          -1591.7700774970763,
          -1572.015477497076,
          -1529.5715284970756,
          -1496.3743104970763,
          -1463.235570497076,
          -1437.2807754970763,
          -1421.4286474970759,
          -1399.5735584970753,
          -1372.0177894970748,
          -1105.5488994970747,
          -990.4325934970748,
          -836.0754024970756,
          -821.7955064970756,
          -806.3161934970758,
          -790.5277154970754,
          -777.6482204970762,
          -763.133349497075,
          -735.037294497075,
          -717.8238374970751,
          -697.3324044970759,
          -669.7067694970756,
          -658.8331964970748,
          -630.4740434970754,
          -623.5642224970759,
          -603.8390454970761,
          -586.3877404970754,
          -555.7620614970763,
          -519.962283497076,
          -502.2399414970753,
          -492.22807849707533,
          -468.2045304970759,
          -432.1656754970754,
          -422.3261614970761,
          -407.87517249707525,
          11.716578502924676,
          81.04378050292462,
          304.03385750292364,
          348.6140095029241,
          377.0463505029238,
          406.604383502925,
          465.6673085029247,
          477.9105025029239,
          539.2077475029237,
          548.3179535029249,
          563.9993235029247,
          574.6771735029247,
          592.7276595029252,
          615.5476485029244,
          630.0323305029247,
          650.2821825029241,
          662.3685915029237,
          680.8877945029235,
          696.0596405029246,
          762.4699725029241,
          897.7304815029238,
          946.0116015029234
         ],
         "xaxis": "x",
         "y": [
          0.5152004235143848,
          0.4698266040039914,
          0.7475396512432112,
          0.7409556052466486,
          0.7540867188094533,
          0.7519919335024136,
          0.6998258552217435,
          0.6847759201284475,
          0.4440858511578885,
          0.7172015831292555,
          0.8256820618425477,
          0.7347050724180874,
          0.6050887937058107,
          0.46108598982696,
          0.7557894265966965,
          0.7316403352982285,
          0.6941856197298262,
          0.7064431457767918,
          0.6734371939662541,
          0.7393738557414279,
          0.6908184368308072,
          0.7607559849219916,
          0.7535612153344544,
          0.7311472184008541,
          0.6144230260751247,
          0.7290816546682102,
          0.6371225447167876,
          0.7889076350729873,
          0.7650911227952019,
          0.6383166206675023,
          0.64215765750415,
          0.5838638919014613,
          0.676080014158065,
          0.5482374662703695,
          0.6779696511052017,
          0.5806205905807299,
          0.6856549841074565,
          0.642894249198153,
          0.4253785260266814,
          0.6403229158640559,
          0.5967948068587665,
          0.5990603116168535,
          0.548805995724523,
          0.6168655612221621,
          0.5071400272511588,
          0.606705632169408,
          0.6642172824835666,
          0.603820694583281,
          0.5472309383211216,
          0.4995259688895899,
          0.394139276740909,
          0.1924178840616225,
          0.33599714491291,
          0.278623401726208,
          0.3322127287569683,
          0.2458760179324147,
          0.3330002913137793,
          0.2523817441737583,
          0.2177929655687129,
          0.2258425929050801,
          0.2774979659950859,
          0.3325942425424172,
          0.2835510767307623,
          0.3413331047647452,
          0.1946521154520237,
          0.312242941085606,
          0.3534081075527147,
          0.3157244839079672,
          0.3644883126517113,
          0.3100898325279281,
          0.481536674202714,
          0.3028519668642815
         ],
         "yaxis": "y"
        },
        {
         "hovertemplate": "session_name=kdiba_vvp01_two_2006-4-10_12-58-3<br>delta_aligned_start_t=%{x}<br>P_Long=%{y}<extra></extra>",
         "legendgroup": "kdiba_vvp01_two_2006-4-10_12-58-3",
         "marker": {
          "color": "#EF553B",
          "symbol": "circle"
         },
         "mode": "markers",
         "name": "kdiba_vvp01_two_2006-4-10_12-58-3",
         "showlegend": true,
         "type": "scattergl",
         "x": [
          -902.3012540632918,
          -881.9799000633067,
          -853.2508740632912,
          -837.8349570633146,
          -814.2140360632912,
          -798.7314280633001,
          -789.0198090632913,
          -772.9713430633129,
          -756.5544730632975,
          -732.6641850633024,
          -728.5931570632966,
          -697.8952550633113,
          -676.8738980632917,
          -647.4787850632857,
          -630.9612260632858,
          -616.6480530633127,
          -606.035648063291,
          -578.1749000633137,
          -560.5575870632894,
          -545.8433180633003,
          -534.2299370632974,
          -520.6826050633099,
          -491.6868210633112,
          -477.80654006329144,
          -470.4991290633044,
          -459.62160906329524,
          -448.61054806329787,
          -441.33711506330303,
          -413.3763470633131,
          -409.1042780633144,
          -386.31450906328985,
          -378.5391720632907,
          -362.1898740633043,
          -288.75020006331044,
          -265.8276020633058,
          -108.36784106330026,
          -90.38315806331241,
          -69.12886706329311,
          -44.135945063288204,
          -14.541225063294405,
          49.92529993670155,
          85.05961693669076,
          97.47371193670563,
          119.19376793669642,
          129.0381399366887,
          145.62278993669304,
          152.49545793668938,
          174.3168319367104,
          179.95516793671402,
          198.30849193671008,
          203.8472739366988,
          230.64077093670483,
          241.35005893668824,
          250.66094093670824,
          256.23173693669344,
          263.37414693669405,
          268.04459793670674,
          273.4493869366996,
          280.85668193671165,
          289.8986719367093,
          295.3395449366943,
          301.1774429366923,
          310.58784693668724,
          315.99328693668906,
          323.46768193668674,
          329.27379393670697,
          335.9474569367011,
          344.18835593669803,
          349.5937459366977,
          369.514507936692,
          378.9562949367099,
          383.126550936693,
          388.53272193670284,
          394.07153593670216,
          398.70915093668725,
          409.2204149366879,
          422.0995329366996,
          439.11617793669564,
          486.63217193671164,
          491.8361649367142,
          514.6591599367092
         ],
         "xaxis": "x",
         "y": [
          0.5991260470585696,
          0.4949276189239533,
          0.6676604926898497,
          0.5758228950497827,
          0.5627913818365194,
          0.5853369484221694,
          0.6353650848193686,
          0.6556730033623887,
          0.711445648109703,
          0.7027303060337771,
          0.5746951357934332,
          0.6187770772090213,
          0.681921207687265,
          0.4184239578393872,
          0.528141086176186,
          0.6738041029832628,
          0.6919459715410207,
          0.5906854918833555,
          0.6671332544183374,
          0.5678181356387177,
          0.721444107888788,
          0.6474039001770971,
          0.7090661011514786,
          0.6145114971640024,
          0.6693887602316103,
          0.6386670618078243,
          0.5063674193769445,
          0.5538881144569309,
          0.5536398566345377,
          0.5427982846370705,
          0.612696181214222,
          0.6805115202569234,
          0.4267554973187302,
          0.5437290624609836,
          0.6544804301257607,
          0.5607039634931056,
          0.6848488507547226,
          0.5172275602639285,
          0.665170214142681,
          0.6292123357329859,
          0.3703418182519254,
          0.4308177489900291,
          0.2634699142195499,
          0.3891121940546432,
          0.2941042940925567,
          0.3791378053008112,
          0.3431805106602637,
          0.3754631477155029,
          0.1947311009233261,
          0.3199857979232723,
          0.3466652513694279,
          0.3551272160878436,
          0.3011400175033235,
          0.3916394690403985,
          0.3213694990870993,
          0.2714467845669239,
          0.2990657325357759,
          0.2832349599053229,
          0.334702729937227,
          0.3134522561534795,
          0.3068473266202802,
          0.3193633827666919,
          0.2899892335322223,
          0.2734275075757143,
          0.2914778679941123,
          0.2808072567181379,
          0.2817850777401303,
          0.2640859841128167,
          0.3460308415511983,
          0.2782140853536418,
          0.2638201224660618,
          0.2675883616534775,
          0.3600686878078474,
          0.3178519562311049,
          0.3000902506154915,
          0.2722430359507682,
          0.3352155916392645,
          0.3135928241042429,
          0.2918767608067312,
          0.2523252202572978,
          0.2726133236782385
         ],
         "yaxis": "y"
        },
        {
         "hovertemplate": "session_name=kdiba_pin01_one_11-03_12-3-25<br>delta_aligned_start_t=%{x}<br>P_Long=%{y}<extra></extra>",
         "legendgroup": "kdiba_pin01_one_11-03_12-3-25",
         "marker": {
          "color": "#00cc96",
          "symbol": "circle"
         },
         "mode": "markers",
         "name": "kdiba_pin01_one_11-03_12-3-25",
         "showlegend": true,
         "type": "scattergl",
         "x": [
          -632.6493348192216,
          -606.8215998192209,
          -586.2015278192212,
          -579.7309048192219,
          -572.3290268192213,
          -553.7372248192205,
          -525.1494178192206,
          -519.1737578192206,
          -512.2004928192218,
          -506.2534288192219,
          -491.40697581922177,
          -485.5659838192205,
          -456.31124581922086,
          -439.9553968192213,
          -430.8180528192206,
          -421.83539881922115,
          -389.6741988192207,
          -364.4786998192212,
          -358.8731408192216,
          -348.10247781922044,
          -301.3240578192217,
          -293.6486628192215,
          -253.09943581922198,
          -246.26348281922037,
          -237.0837228192213,
          -220.1745318192207,
          -196.37794481922174,
          -187.16984981922178,
          -181.3997898192211,
          -174.7213508192217,
          -167.9796678192215,
          -102.5540618192208,
          -97.81638281922096,
          -83.86724381922068,
          -77.95693681922057,
          -67.35592981922127,
          -51.50280281922096,
          -43.69149881922203,
          -35.181256819221744,
          -27.347702819221013,
          -11.965823819220532,
          1.622936180778197,
          7.526990180778739,
          12.09647918077826,
          20.80527718077792,
          29.177074180779528,
          48.76951118077886,
          53.505452180777866,
          60.517010180778016,
          95.54790918077924,
          100.02203018077853,
          109.7908541807792,
          114.89774218077946,
          121.40903318077835,
          126.77357818077871,
          132.25354218077882,
          138.58617318077813,
          145.26896218077854,
          150.2005181807781,
          156.04722418077836,
          165.18159718077914,
          172.02007718077948,
          179.73572118077936,
          186.067716180778,
          191.2729291807791,
          195.68702518077953,
          201.82305918077873,
          207.92372718077786,
          213.97011218077932,
          219.905537180779,
          225.61473718077832,
          231.4802281807788,
          237.58581218077973,
          242.45661018077953,
          249.53059318077794,
          254.7093381807789,
          260.5141691807785,
          265.65638818077787,
          271.1587281807789,
          277.80012118077855,
          283.20180818077813,
          287.37383718077933,
          293.9437841807793,
          302.05615518077855
         ],
         "xaxis": "x",
         "y": [
          0.616870544789667,
          0.7199693440794799,
          0.553129555805177,
          0.6885806586810297,
          0.5604445266205109,
          0.6711513246999881,
          0.5940837390426874,
          0.659015395647044,
          0.5548927274120301,
          0.3843924910663556,
          0.7382917969388048,
          0.592225663625824,
          0.7077328291773493,
          0.5105190881288033,
          0.7169607679234211,
          0.6380022120339913,
          0.655888268525995,
          0.5737855309114809,
          0.5998931750730915,
          0.6855841326971714,
          0.7407149844845101,
          0.5704641691537569,
          0.6876565706856503,
          0.5933521002379467,
          0.6347675750644772,
          0.4754419431582086,
          0.6881583381558074,
          0.5539660236365733,
          0.6052440361296493,
          0.5593333721440891,
          0.5809025582963416,
          0.5625113030394061,
          0.6206014257066489,
          0.5698093542493412,
          0.5520019075915343,
          0.5921920884312397,
          0.5280896715121797,
          0.5549579978941885,
          0.6299945163552582,
          0.5790745577116989,
          0.6582106449379634,
          0.5226675404267431,
          0.4178494407399287,
          0.4409588298627404,
          0.4068483802267189,
          0.3847995243833755,
          0.3329617044103635,
          0.3407123611548663,
          0.3405081746827257,
          0.2878415043514321,
          0.3562525981911332,
          0.2315321432428194,
          0.3161256581492913,
          0.2749536385709403,
          0.284580140148351,
          0.2667211332962962,
          0.2601908811155738,
          0.253004745942619,
          0.3163239881167703,
          0.2819073709115864,
          0.3487288776474018,
          0.2465784220539571,
          0.3134356185726015,
          0.2394115548229014,
          0.3392468502356238,
          0.2632360740181254,
          0.3300524679746232,
          0.2135929514433273,
          0.263198606333553,
          0.2819660505404556,
          0.3293762702574818,
          0.2627454039493923,
          0.2672373487610919,
          0.2904625605528841,
          0.2608319258320754,
          0.274062141675931,
          0.311799703225703,
          0.2504144788151498,
          0.3216505183548763,
          0.3124549252494106,
          0.2592445573975478,
          0.2601036635592757,
          0.3001760984946341,
          0.3140114350929564
         ],
         "yaxis": "y"
        },
        {
         "hovertemplate": "session_name=kdiba_pin01_one_11-02_19-28-0<br>delta_aligned_start_t=%{x}<br>P_Long=%{y}<extra></extra>",
         "legendgroup": "kdiba_pin01_one_11-02_19-28-0",
         "marker": {
          "color": "#ab63fa",
          "symbol": "circle"
         },
         "mode": "markers",
         "name": "kdiba_pin01_one_11-02_19-28-0",
         "showlegend": true,
         "type": "scattergl",
         "x": [
          -753.6804791553768,
          -716.872219155377,
          -681.1776501553759,
          -627.5563281553768,
          -611.9029571553765,
          -553.3842161553766,
          -532.861693155377,
          -506.2344321553773,
          -494.5217661553761,
          -483.61350615537594,
          -480.67040715537587,
          -469.65841915537567,
          -462.85924915537726,
          -430.96029015537715,
          -419.4440381553759,
          -412.80160615537716,
          -407.9692401553766,
          -406.4339751553761,
          -392.25392815537634,
          -383.8797371553773,
          -377.565753155377,
          -369.48938115537567,
          -361.6570131553763,
          -352.97636915537623,
          -340.1976151553772,
          -333.48850315537675,
          -306.762226155377,
          -297.7511701553758,
          -287.1765271553758,
          -258.6857671553771,
          -217.87244915537667,
          -209.86400315537685,
          -201.8257811553758,
          -174.7983021553773,
          -132.22203615537728,
          -124.58527815537673,
          -117.4049941553767,
          -85.07358015537648,
          -61.252939155376225,
          -52.60605615537679,
          -45.23361315537659,
          -37.661909155376634,
          -26.578879155376853,
          -16.003377155377166,
          4.243630844623112,
          23.068585844623158,
          38.4833878446243,
          44.620619844623434,
          50.561418844623404,
          57.23766284462363,
          63.37860284462295,
          78.25919584462281,
          83.73205084462279,
          89.37137584462289,
          97.71444684462404,
          103.67735584462389,
          120.59658484462307,
          124.5385828446233,
          130.90628784462388,
          137.84722384462304,
          143.55740884462284,
          178.8292118446243,
          183.76618484462426,
          188.70453584462302,
          194.57326184462363,
          200.34623184462362,
          205.37868584462387,
          213.73061584462266,
          222.86447484462406,
          227.5685408446243,
          233.88237384462263,
          239.41945584462337,
          245.31993184462408,
          250.92789884462377,
          256.3386718446234,
          262.3778378446241,
          267.6104908446232,
          273.75612884462316,
          279.4882018446242,
          285.6278588446239,
          294.27182184462276,
          299.3767778446236,
          304.85048984462264,
          312.0289398446239,
          316.12598884462386,
          321.9676338446243,
          327.60778384462355,
          334.57797584462423,
          344.59302184462285,
          349.8928858446234,
          355.27119984462297,
          360.37135484462306,
          366.47601584462427,
          372.61753184462395
         ],
         "xaxis": "x",
         "y": [
          0.6951880064115254,
          0.6028123976092188,
          0.7286502981289597,
          0.7033223230123457,
          0.7025415237477515,
          0.710689366278428,
          0.6651641991274903,
          0.6856328939176183,
          0.7606849065253511,
          0.4695764435782993,
          0.8166626098161461,
          0.6424158792792889,
          0.7610762760988031,
          0.7480070585812338,
          0.7324783042754583,
          0.6763396534953594,
          0.5376131554618195,
          0.6006185328669886,
          0.7214455415051967,
          0.569242318075761,
          0.6762964448566703,
          0.5629970210113705,
          0.664801228744923,
          0.7447168406921367,
          0.6897220990674809,
          0.5725383239577498,
          0.7422338439159097,
          0.6651353601934055,
          0.6490392292969247,
          0.6053139692730263,
          0.5801874961405912,
          0.6145616495303741,
          0.6232175625326214,
          0.7028395458409392,
          0.6240047253747173,
          0.5987558456872045,
          0.6517248362121824,
          0.5684459569127013,
          0.6076782677806228,
          0.5558551157861451,
          0.647441717317473,
          0.5180321994373872,
          0.6050286968346554,
          0.6182789985141012,
          0.3639001198157408,
          0.4671197390273784,
          0.3025138072628805,
          0.3816127568109569,
          0.2880241045804748,
          0.3349072524812455,
          0.2651745618557736,
          0.3915363305939853,
          0.2867128344648108,
          0.3442454128903475,
          0.2863919869021161,
          0.3208079844412809,
          0.2620637765869902,
          0.3004669854654507,
          0.2845174739940341,
          0.4042338357380302,
          0.2495189876341758,
          0.4035566791016999,
          0.2255511498013457,
          0.4065595840957298,
          0.3292684171024681,
          0.3637465998926572,
          0.2801630963575818,
          0.3745506037542818,
          0.312096235798427,
          0.3450949394632776,
          0.3662550142985565,
          0.3362729326088914,
          0.2572400530029199,
          0.3724441357935578,
          0.2957728760883462,
          0.3581483385096591,
          0.3299451577860922,
          0.377705182176337,
          0.350280171515447,
          0.3043048724796672,
          0.3029963110341335,
          0.3500214045417345,
          0.2566671183687399,
          0.2912946294582015,
          0.2441230109071247,
          0.3088337975499612,
          0.3312287573487477,
          0.3170346897883313,
          0.3887717951784566,
          0.3171847141875424,
          0.3397395137994243,
          0.3574291336733926,
          0.3012843399158562,
          0.3623202456772174
         ],
         "yaxis": "y"
        },
        {
         "hovertemplate": "session_name=kdiba_pin01_one_11-02_17-46-44<br>delta_aligned_start_t=%{x}<br>P_Long=%{y}<extra></extra>",
         "legendgroup": "kdiba_pin01_one_11-02_17-46-44",
         "marker": {
          "color": "#FFA15A",
          "symbol": "circle"
         },
         "mode": "markers",
         "name": "kdiba_pin01_one_11-02_17-46-44",
         "showlegend": true,
         "type": "scattergl",
         "x": [
          -1083.450725621622,
          -1081.8851516216218,
          -1038.3782496216218,
          -916.1848016216218,
          -893.1298886216218,
          -888.9270606216219,
          -861.6025646216217,
          -839.946088621622,
          -809.2460936216216,
          -794.725757621622,
          -769.173756621622,
          -758.561173621622,
          -668.8056266216217,
          -652.7900296216217,
          -592.9590286216217,
          -564.7942236216218,
          -536.974145621622,
          -528.966581621622,
          -506.24362662162184,
          -498.4654096216218,
          -486.7586446216219,
          -417.71184262162205,
          -388.85390162162184,
          -379.61401762162177,
          -347.10782562162194,
          -334.90060262162206,
          -321.8499216216219,
          -314.6147696216217,
          -288.95045962162203,
          -277.83957862162197,
          -265.7009556216217,
          -254.0857616216217,
          -213.482222621622,
          -207.94300962162197,
          -186.1150736216224,
          -177.84416462162153,
          -165.22661262162194,
          -156.25542362162196,
          -136.60627962162198,
          -122.25032462162198,
          55.69647237837853,
          102.77487737837782,
          119.22416737837852,
          130.39793637837852,
          149.39038937837813,
          158.5654523783778,
          209.41484237837813,
          220.9927953783781,
          230.30222037837848,
          259.93217037837803,
          314.1220143783785,
          330.865546378378,
          354.9318523783777,
          372.51219237837813,
          407.71183837837793,
          422.2967633783783,
          504.1110013783782,
          517.4894723783782,
          525.8611183783778,
          544.7222953783785,
          549.6896463783778,
          567.1417143783785,
          575.7773953783781,
          588.0586583783781,
          593.9284503783783,
          615.7601223783777,
          619.9589433783785,
          630.3063893783785,
          639.4453973783784,
          669.0794923783781,
          675.646583378378,
          682.024402378378,
          691.3375273783781,
          702.8114003783785,
          709.3147333783779,
          741.5159313783781,
          749.7198023783785,
          756.469967378378,
          765.276726378378,
          770.711368378378,
          780.5922583783781
         ],
         "xaxis": "x",
         "y": [
          0.5327696244538048,
          0.5994840813605269,
          0.6112461960548953,
          0.5887051695463684,
          0.5157835907068071,
          0.5352239613071312,
          0.5960026918155742,
          0.6010875387324405,
          0.5711623492698866,
          0.5452138616869124,
          0.6012988407791047,
          0.6127181305175617,
          0.589721650963851,
          0.5823134121402684,
          0.6859727121184068,
          0.5396816658429371,
          0.5524247518481994,
          0.5553945421572793,
          0.6207598669069659,
          0.5683854580540557,
          0.5758241576003978,
          0.5398322735450655,
          0.5556577528440526,
          0.6598357491424451,
          0.5750832064097718,
          0.560969811639675,
          0.580068665913366,
          0.5611508641272968,
          0.6001560361058539,
          0.5870569724828354,
          0.5447793195937658,
          0.6426004418139023,
          0.5138364886040936,
          0.5750420374266111,
          0.6093707643680666,
          0.5532349000266187,
          0.5684702635302933,
          0.6134522184095434,
          0.5102418059514711,
          0.6999809062390687,
          0.3472035197259923,
          0.3128787944373697,
          0.2447889657845093,
          0.3869522400097998,
          0.2454820704877138,
          0.3373626799418661,
          0.2306713736283047,
          0.3659697433605356,
          0.2510695734711756,
          0.2924968867123829,
          0.2621665342879443,
          0.4028867637502969,
          0.3067940468904467,
          0.3584464452748607,
          0.2528346565183209,
          0.371873732388173,
          0.3154039783008766,
          0.3126783143060838,
          0.2414207154268877,
          0.3012196400876621,
          0.3460006077505975,
          0.2655987551075108,
          0.3267064810240239,
          0.2286268402979385,
          0.2828903990530379,
          0.2538994585644132,
          0.2567024244698275,
          0.2479602833358074,
          0.2886622732683067,
          0.2585309310971229,
          0.3078223982343865,
          0.2593884112418843,
          0.2792607407134838,
          0.2393946186292949,
          0.3060259623657251,
          0.2727318837486502,
          0.3387026083834722,
          0.3062128741799413,
          0.2877531711339951,
          0.2790435847690022,
          0.2985294698908575
         ],
         "yaxis": "y"
        },
        {
         "hovertemplate": "session_name=kdiba_vvp01_two_2006-4-09_16-40-54<br>delta_aligned_start_t=%{x}<br>P_Long=%{y}<extra></extra>",
         "legendgroup": "kdiba_vvp01_two_2006-4-09_16-40-54",
         "marker": {
          "color": "#19d3f3",
          "symbol": "circle"
         },
         "mode": "markers",
         "name": "kdiba_vvp01_two_2006-4-09_16-40-54",
         "showlegend": true,
         "type": "scattergl",
         "x": [
          -874.0469819620191,
          -848.6560619620138,
          -828.4679209620224,
          -788.7615629620266,
          -768.7425979620164,
          -727.4663219620268,
          -707.512667962015,
          -683.7554029620221,
          -674.6130839620162,
          -652.7914399620201,
          -603.8756119620227,
          -582.7873739620261,
          -565.7368349620226,
          -545.3824619620134,
          -534.7722589620241,
          -515.3544489620251,
          -504.00871996201727,
          -494.59963196201693,
          -474.97900296201965,
          -460.5971179620244,
          -445.9485889620262,
          -430.6675979620193,
          -418.1221509620225,
          -387.690765962019,
          -375.67980096202496,
          -361.2643449620225,
          -341.37751396202634,
          -314.9175569620272,
          -302.10523396202166,
          -287.1888619620147,
          -275.01015696201625,
          -265.6004489620243,
          -254.32278896201728,
          -242.01138796201826,
          -226.86349396202388,
          -212.91523196201865,
          -198.53338496202173,
          -184.98687396201387,
          -176.1435959620137,
          -165.1661659620147,
          -151.08674396201945,
          -140.9753519620133,
          -126.26174496201543,
          -113.51513896201459,
          -65.36697296201578,
          -50.3853269620156,
          -40.50744796202321,
          -16.517303962027427,
          54.75461603798635,
          80.380580037978,
          91.19038403798208,
          100.76728903797652,
          107.4409520379852,
          121.05481003798218,
          132.23223703798453,
          140.7074040379814,
          150.71720003797986,
          156.02341903798538,
          164.665128037974,
          175.21035303798294,
          180.6147350379763,
          190.72389503798354,
          198.49855603798665,
          206.67365403797908,
          219.38663103798194,
          234.96987303797528,
          241.80975003798108,
          250.0503340379803,
          254.2888630379748,
          273.0753780379748,
          278.6472810379785,
          293.89512703797686,
          298.4337670379757,
          305.5409050379826,
          311.2137870379813,
          322.5573850379735,
          327.3298890379813,
          332.63531703797366,
          341.4429700379844,
          350.9538050379781,
          357.3601090379816,
          362.86465903797966,
          367.43570003798254,
          377.6125710379856,
          384.2860900379749,
          395.4981890379861,
          400.50345303797803,
          407.2444720379865,
          418.3881380379755,
          423.6600710379864,
          427.7626160379732,
          441.0436840379846,
          445.7158280379808,
          487.9246500379818,
          495.39897803797817,
          522.3916970379796,
          527.8985150379742,
          541.3788840379859
         ],
         "xaxis": "x",
         "y": [
          0.5411557416941349,
          0.6206364131170914,
          0.6426597924395105,
          0.6242401884045023,
          0.7029849523586957,
          0.5705743955765514,
          0.7196850381666657,
          0.6446700986992486,
          0.664821101009641,
          0.5317354442283372,
          0.7788153399150586,
          0.5200220524681702,
          0.6662657807676113,
          0.54828320493554,
          0.6921107478063036,
          0.523689957783835,
          0.7161728060142261,
          0.5301577589270898,
          0.6414688689633059,
          0.5046046974644643,
          0.8000591692747934,
          0.5498911769762977,
          0.5906242986729525,
          0.5765867137547466,
          0.754125411096557,
          0.4864592965888075,
          0.7681549474799779,
          0.5468287561507738,
          0.6867573100063474,
          0.5498501777833584,
          0.6312117425206711,
          0.5259319738136856,
          0.6146820313422137,
          0.5495848833795101,
          0.6821963185676277,
          0.5518997367505306,
          0.5703654684097692,
          0.5363024377657837,
          0.6480296271675527,
          0.5920905827449382,
          0.7024583376487591,
          0.4982907582285757,
          0.7264226751860623,
          0.5314195564278075,
          0.7603743834407626,
          0.5078523627375479,
          0.6263478726683,
          0.48160778396386,
          0.5052108260515826,
          0.5605319802714631,
          0.442138858428422,
          0.4456192143714463,
          0.4350764052930588,
          0.4004786746108903,
          0.4506243496768101,
          0.4796177652103757,
          0.4808439628320502,
          0.4062380639614333,
          0.4865599786947167,
          0.3706045847749609,
          0.4549607363638308,
          0.3514008764081912,
          0.3954489826367078,
          0.3124782886528608,
          0.4448117639177207,
          0.3248460747159556,
          0.431804934939326,
          0.4090714273251239,
          0.395199948723469,
          0.3570889229688165,
          0.4018017298073161,
          0.3861022580197128,
          0.3910325568971158,
          0.3784227253325286,
          0.4327681801983166,
          0.409624997312297,
          0.4079569813841079,
          0.3575727013866501,
          0.4282421670748276,
          0.3346383341830602,
          0.3782859598177928,
          0.3237425011279669,
          0.393489467402923,
          0.3374966331017319,
          0.3619134022701918,
          0.3439082787665732,
          0.394605388196069,
          0.3384784984975423,
          0.4052481106176199,
          0.2956769748380303,
          0.385437848357947,
          0.4275481893315866,
          0.3924296481371623,
          0.3391809654682685,
          0.456600923788391,
          0.3274812087255674,
          0.3773327673585728,
          0.3569706161893193
         ],
         "yaxis": "y"
        },
        {
         "hovertemplate": "session_name=kdiba_vvp01_one_2006-4-10_12-25-50<br>delta_aligned_start_t=%{x}<br>P_Long=%{y}<extra></extra>",
         "legendgroup": "kdiba_vvp01_one_2006-4-10_12-25-50",
         "marker": {
          "color": "#FF6692",
          "symbol": "circle"
         },
         "mode": "markers",
         "name": "kdiba_vvp01_one_2006-4-10_12-25-50",
         "showlegend": true,
         "type": "scattergl",
         "x": [
          -877.0050485681277,
          -839.8343275681254,
          -824.3862265681382,
          -818.4133255681372,
          -790.1508025681251,
          -771.3999915681488,
          -747.0085475681408,
          -735.1304735681333,
          -713.908702568122,
          -700.2952155681269,
          -674.8695685681305,
          -663.590258568147,
          -636.6305145681254,
          -626.0859925681434,
          -598.224781568133,
          -588.1153765681374,
          -555.2815975681297,
          -537.0306805681321,
          -512.2713065681455,
          -467.19312556812656,
          -459.05021756814676,
          -435.82821256812895,
          -426.9188925681228,
          -407.43348756813793,
          -401.6264415681363,
          -338.3976535681286,
          -321.3465555681323,
          -311.50314156812965,
          -277.56737456814153,
          -267.9253685681324,
          -259.98477356813964,
          -208.6994585681241,
          -191.2149715681444,
          -186.30937656812603,
          -159.61702956812223,
          -151.00845756812487,
          -123.37945356813725,
          -111.03392256813822,
          -49.73911256814608,
          -37.82693756814115,
          -27.416598568146583,
          -13.602211568126222,
          79.29019843187416,
          93.305833431863,
          115.42825243185496,
          123.36916243185976,
          168.81463043185045,
          178.55724643185386,
          244.85812543187058,
          261.0079494318634,
          272.5522524318658,
          280.39326643187087,
          292.50502543186303,
          298.24424943185295,
          316.1299774318759,
          324.27096843186905,
          330.94538043186185,
          337.1508514318557,
          343.99151243185065,
          351.4666814318625,
          357.138012431853,
          362.209008431877,
          369.3172794318525,
          373.5869664318743,
          383.76458743185503,
          390.60443143185694,
          396.1111234318523,
          401.21565943185146,
          409.7568994318717,
          414.36234243185004,
          419.5676994318492,
          427.64164243187406,
          433.11472143186256,
          439.8884644318605,
          444.959369431861,
          450.2651644318539,
          458.9072204318654,
          464.5132564318774,
          471.8875484318705,
          478.8277964318695,
          482.29801143187797,
          492.3072254318686,
          499.1473754318722,
          516.6650004318508
         ],
         "xaxis": "x",
         "y": [
          0.7045033617471158,
          0.7082925766393309,
          0.7344276361570958,
          0.6516972963594387,
          0.7099696872383283,
          0.7282705073549599,
          0.6705601634843903,
          0.7312527788802604,
          0.7834700998867816,
          0.7485255309657232,
          0.7357187553191075,
          0.7670417540618328,
          0.740113720678293,
          0.7716440303749448,
          0.7172066276270317,
          0.7643258948621652,
          0.8154577027006482,
          0.732889143394159,
          0.7022413986014105,
          0.758646263956608,
          0.7862322198019829,
          0.72776570863492,
          0.8262803660747504,
          0.7502326116364249,
          0.7669842991857082,
          0.7582446715149206,
          0.8886951124599832,
          0.6715116958767704,
          0.8793606643298973,
          0.6947157076841958,
          0.7334271203345303,
          0.6867871477086037,
          0.7585689695130368,
          0.597967141304957,
          0.6575782350897758,
          0.6541811135447022,
          0.6520259683974805,
          0.5808837836211146,
          0.7852232019000793,
          0.6637891046854879,
          0.7376771625335529,
          0.642986661628322,
          0.4078471842255103,
          0.469643759527257,
          0.2096412095149801,
          0.3199147059391285,
          0.1921488437073807,
          0.3464632690781679,
          0.2052786131463883,
          0.3457893687982434,
          0.206271855203158,
          0.3561941899474011,
          0.1175098083978004,
          0.3307463605977673,
          0.1402486387850856,
          0.3525331900022141,
          0.211721727186871,
          0.334463804676778,
          0.1852481262538587,
          0.357082975532604,
          0.1652460059014784,
          0.2601572033387109,
          0.183778609837157,
          0.2702774241321116,
          0.2034795061270194,
          0.2987286204670711,
          0.1658126982585795,
          0.3453544429043991,
          0.0776438726131507,
          0.3300109033625863,
          0.1865337817328576,
          0.3765016006707399,
          0.2581288630193146,
          0.4203823969930996,
          0.2182481826357681,
          0.3532113795851465,
          0.1854354188332938,
          0.3207737491178022,
          0.3132671863946306,
          0.3797806828430952,
          0.3827167620820461,
          0.3960293171646634,
          0.1023491750158342,
          0.4193331647830898
         ],
         "yaxis": "y"
        },
        {
         "hovertemplate": "session_name=kdiba_vvp01_one_2006-4-09_17-29-30<br>delta_aligned_start_t=%{x}<br>P_Long=%{y}<extra></extra>",
         "legendgroup": "kdiba_vvp01_one_2006-4-09_17-29-30",
         "marker": {
          "color": "#B6E880",
          "symbol": "circle"
         },
         "mode": "markers",
         "name": "kdiba_vvp01_one_2006-4-09_17-29-30",
         "showlegend": true,
         "type": "scattergl",
         "x": [
          -837.9620351772173,
          -818.0753251772257,
          -771.0944851772219,
          -733.1550421772263,
          -713.7372941772192,
          -690.8802811772184,
          -675.6654981772153,
          -660.3151501772227,
          -656.6451751772256,
          -644.1987201772135,
          -630.3195721772208,
          -598.2196311772132,
          -578.1658961772191,
          -565.7216451772256,
          -515.4366811772197,
          -490.77771417722397,
          -446.0659611772135,
          -427.4488181772176,
          -399.6863641772215,
          -386.03857517722645,
          -370.05768017722585,
          -360.38060517722624,
          -349.36920917722455,
          -338.458607177221,
          -328.0815831772197,
          -314.033211177215,
          -290.94449917721795,
          -285.23753117721935,
          -276.99588317722373,
          -263.74997717722727,
          -258.4112161772209,
          -231.0825531772134,
          -220.94026017721626,
          -204.22240417721332,
          -184.7021411772148,
          -176.92835017721518,
          -158.74386217721622,
          -132.01687717721506,
          -121.00483717721363,
          -102.1523641772219,
          -93.54448617722664,
          -83.5676091772184,
          -73.85820017721562,
          -14.632066177218803,
          46.66287582277448,
          64.98038082277333,
          84.93410682278045,
          108.89159282277967,
          119.97133582277445,
          130.68132982277893,
          166.31630682277319,
          182.3671518227784,
          206.32472182277706,
          214.56572582277295,
          222.34066682278353,
          237.9900138227822,
          244.9959218227741,
          256.74188082278124,
          261.11214882278,
          276.928304822781,
          285.5041608227766,
          292.8766438227758,
          301.9876208227797,
          315.1000768227823,
          325.81011582278006,
          344.26223682277487,
          350.56950882278034,
          359.0448378227736,
          366.7847648227762,
          377.46315282277646,
          388.0408228227752,
          396.2151408227801,
          400.318869822775,
          409.06168582277314,
          413.06443782277347,
          421.27440882277733,
          426.94631382277294,
          437.38951982278377,
          446.432652822783,
          460.47983982278674,
          466.28570682277496,
          473.3270018227777,
          479.998834822778,
          487.5068138227798,
          500.18689282277774,
          508.82912982278503
         ],
         "xaxis": "x",
         "y": [
          0.5241570801400908,
          0.6899268379150912,
          0.7546388396194205,
          0.6559366335902489,
          0.7510306437275783,
          0.6480064326652079,
          0.7781922783425924,
          0.5993515157948437,
          0.4980627517681308,
          0.8034231654240911,
          0.6359050296015755,
          0.7397444712133491,
          0.6599848722296323,
          0.6518603986946332,
          0.7039764796169987,
          0.6446210745863665,
          0.7957643744414841,
          0.5752546256897908,
          0.6121450309131707,
          0.6455176217867981,
          0.6755649817989704,
          0.6581048021526201,
          0.7044575692167208,
          0.6056789187378135,
          0.7195155325085809,
          0.5184085522073345,
          0.5279014630907205,
          0.6391812298841055,
          0.6763935259661042,
          0.5665915019950314,
          0.6480988173254983,
          0.6802446597167049,
          0.6795896505861787,
          0.6181741485120554,
          0.7046195192429022,
          0.6082002014152607,
          0.6997801409232116,
          0.6131991340117919,
          0.6755079150751304,
          0.5804928117187457,
          0.8491690809892113,
          0.5371960221236238,
          0.6827207404989478,
          0.5608110125787638,
          0.4845032456440801,
          0.409995239903028,
          0.2342197011520542,
          0.3422084256005875,
          0.1952963077525789,
          0.331835750263739,
          0.2927701743997088,
          0.3242620062963285,
          0.1664838025298827,
          0.3543293908788175,
          0.1964003916859002,
          0.3940567038971218,
          0.2648817452381637,
          0.358718929310079,
          0.2618327588336595,
          0.3767010076027662,
          0.1822879995727644,
          0.3236172175484195,
          0.2757106846749642,
          0.315142662495208,
          0.3530761245820395,
          0.2653184782744545,
          0.2566929968455441,
          0.3347838624774864,
          0.2764020425978365,
          0.4244030719019523,
          0.1898189289423159,
          0.3655088162886495,
          0.2264308154979717,
          0.3196897465514719,
          0.299238524433653,
          0.2781469922552532,
          0.3038689038250776,
          0.3239482934276964,
          0.2181373189213469,
          0.325068094666593,
          0.2874993343096752,
          0.3260934927007112,
          0.3032712086516321,
          0.2943624182605759,
          0.2066887861087639,
          0.3554628673730463
         ],
         "yaxis": "y"
        },
        {
         "hovertemplate": "session_name=kdiba_gor01_two_2006-6-09_22-24-40<br>delta_aligned_start_t=%{x}<br>P_Long=%{y}<extra></extra>",
         "legendgroup": "kdiba_gor01_two_2006-6-09_22-24-40",
         "marker": {
          "color": "#FF97FF",
          "symbol": "circle"
         },
         "mode": "markers",
         "name": "kdiba_gor01_two_2006-6-09_22-24-40",
         "showlegend": true,
         "type": "scattergl",
         "x": [
          -905.6443950069369,
          -890.8620520069961,
          -846.9846910069463,
          -823.495969006908,
          -806.4790770069229,
          -794.5332550070015,
          -760.1975400069495,
          -753.7904720068908,
          -738.9767190068959,
          -727.5639840069924,
          -702.4728690069168,
          -694.7659760069799,
          -681.0174640069016,
          -673.9102170069235,
          -661.3977590069408,
          -650.8541080069261,
          -610.5132620069197,
          -602.3724700069287,
          -588.65879600693,
          -581.0508400069083,
          -571.9751680069602,
          -561.9987580069572,
          -488.85798600700207,
          -483.38542600697826,
          -470.4395360070047,
          -457.459262006916,
          -448.58397600695014,
          -436.6379500069887,
          -414.9513850068905,
          -387.9570370069704,
          -379.4146860069594,
          -294.4618270068894,
          -275.44317400699936,
          -268.53669400699425,
          -234.53487200697407,
          -202.6038460069102,
          -185.38581900694396,
          -158.9591510070021,
          -141.20736800692964,
          -130.93172400689207,
          -100.6332720069912,
          -90.55641200696107,
          -71.40496900689311,
          -58.925867006997464,
          -44.24325600697182,
          -33.09944700694166,
          -13.04301900695998,
          8.644119993085269,
          24.65923899307404,
          39.97519699309498,
          49.583506993018204,
          56.82617199304525,
          74.47500299301487,
          82.48413599305798,
          114.85142299300094,
          123.49233599309821,
          134.57009599299647,
          199.13615999300953,
          333.6715179930908,
          345.2824369930896,
          359.86413799307786,
          368.1048439930893,
          384.7219239930856,
          393.99862399301503,
          406.0426739930409,
          439.2757349930472,
          454.32619599299517,
          462.2335369930373,
          473.8447349930649,
          481.1192929930986,
          708.7487549930812,
          715.8230329930085,
          730.8717189930613,
          855.930041993037,
          863.2036579929992,
          911.8192629930564,
          921.7636349929963,
          957.1652689930053,
          969.6440859930589,
          999.040723993094,
          1004.6463979930853,
          1396.1410929930862,
          1404.1485899930121,
          1439.417016993044,
          1447.9949689930072,
          1466.112503993092,
          1647.2265149930022,
          1654.0016269930638
         ],
         "xaxis": "x",
         "y": [
          0.4184193339417171,
          0.7898137667506087,
          0.7537264269455399,
          0.8381328531324429,
          0.8229419124109087,
          0.8779044955706224,
          0.7624223065122462,
          0.7505865447466801,
          0.7357274416635334,
          0.8612656746896397,
          0.6985257129136629,
          0.9315428626024096,
          0.7304907200238496,
          0.8452028809835753,
          0.7265918491099733,
          0.8856580200183972,
          0.8018476165612555,
          0.793374969800978,
          0.7606956913269953,
          0.8682344384103967,
          0.814941434661428,
          0.9463267923067424,
          0.7960168324819522,
          0.8326041397771016,
          0.6957423578986778,
          0.9092076695699332,
          0.7172532858980437,
          0.868603671359002,
          0.7793030869458982,
          0.8367610458327862,
          0.772130736699546,
          0.8325098300323954,
          0.650608548973196,
          0.758638056899512,
          0.8631066162327997,
          0.7316276795702269,
          0.7225096672673749,
          0.7596264150088958,
          0.6949257069351717,
          0.7875981481266213,
          0.7002846814380401,
          0.7623877844881164,
          0.6565235885437763,
          0.8011155686208915,
          0.59898273043961,
          0.8495894016973083,
          0.7022977761567396,
          0.4733931470306309,
          0.4089561345144333,
          0.4750847687651582,
          0.3401414431765118,
          0.5961938299582923,
          0.4074626255086191,
          0.397609850935918,
          0.3746531700367322,
          0.378962498500425,
          0.2887577878307658,
          0.3847013659483717,
          0.3324808921214915,
          0.3050940933189918,
          0.3261247425986239,
          0.4284444779244669,
          0.3071071931602418,
          0.2604252181945455,
          0.2870667637957222,
          0.2942098410288665,
          0.3251617069380127,
          0.248148652001931,
          0.3182633262374538,
          0.4650684296314373,
          0.3084756187576566,
          0.2322222571849445,
          0.3329783464163282,
          0.2188440057672707,
          0.2605079759069378,
          0.2827527388902173,
          0.2902665107428151,
          0.2976462470695528,
          0.2764236970708816,
          0.30604620827174,
          0.2168085642556725,
          0.3472486264638139,
          0.2132643181403459,
          0.2808513928936507,
          0.2388297240642528,
          0.2637252352355796,
          0.1336883460719955,
          0.2034168580959643
         ],
         "yaxis": "y"
        },
        {
         "hovertemplate": "session_name=kdiba_gor01_two_2006-6-07_16-40-19<br>delta_aligned_start_t=%{x}<br>P_Long=%{y}<extra></extra>",
         "legendgroup": "kdiba_gor01_two_2006-6-07_16-40-19",
         "marker": {
          "color": "#FECB52",
          "symbol": "circle"
         },
         "mode": "markers",
         "name": "kdiba_gor01_two_2006-6-07_16-40-19",
         "showlegend": true,
         "type": "scattergl",
         "x": [
          -1206.067965363618,
          -1185.7822963636136,
          -1061.9894313636469,
          -1038.5343923636246,
          -995.1222033636877,
          -991.785453363671,
          -973.4005803636974,
          -954.0818653636379,
          -929.5247713637073,
          -899.9267223636853,
          -880.8738013636321,
          -844.6724473636132,
          -833.5947003636975,
          -807.9347843637224,
          -797.4567853637272,
          -704.4630603636615,
          -694.9869463637006,
          -672.1646793637192,
          -656.6161573636346,
          -643.7024603636237,
          -628.9531443637097,
          -604.9636163637042,
          -580.1376513636205,
          -554.8802813636139,
          -537.6623103637248,
          -524.1159043636872,
          -514.0380263637053,
          -485.8766403637128,
          -465.8232223637169,
          -430.6201343636494,
          -419.8089823636692,
          -386.64342436369043,
          -356.9463833636837,
          -166.5871443636713,
          -155.80966836365405,
          -135.3900933637051,
          -121.64372436364647,
          -96.85177036363166,
          -84.67247736372519,
          -69.72357136372011,
          -16.903360363678303,
          70.41860863636248,
          104.71759463637136,
          127.67549363628495,
          136.31825063633732,
          159.03957563638687,
          177.69207163632382,
          196.14480463636573,
          200.28195963636972,
          238.38638663629536,
          248.59671563631855,
          267.5497016363079,
          276.1592636363348,
          291.0400246363133,
          307.3570466362869,
          340.9908046363853,
          348.0643126363866,
          367.25026563636493,
          391.5084766363725,
          398.8820366363507,
          408.12399163632654,
          438.1884956363356,
          442.52529963629786,
          456.70686863630544,
          474.15740663628094,
          572.6232046362709,
          578.2959616363514,
          604.7890136362985,
          617.1014486363856,
          636.8543126363074,
          644.7965886363527,
          709.1938856362831,
          738.3583486363061,
          855.7757906363113,
          860.414288636297,
          1118.8402366363443,
          1148.9387166362721,
          1176.532365636318,
          1187.5769876362756,
          1331.9889846363803,
          1338.8956306363689
         ],
         "xaxis": "x",
         "y": [
          0.5895586084548721,
          0.6433180466234751,
          0.5926616504395418,
          0.7060288075444273,
          0.6925238055451115,
          0.6583403599984118,
          0.7015950092026769,
          0.7585937702865347,
          0.7379689404279565,
          0.644080412014019,
          0.7429335837199622,
          0.7634232470340867,
          0.6809601787085311,
          0.722339592035638,
          0.72083909509499,
          0.8398444146013293,
          0.6773138984551657,
          0.787547152639047,
          0.7531761036863294,
          0.7659874746862267,
          0.7226892262241362,
          0.8296219800991226,
          0.6048464889743859,
          0.6800056175102971,
          0.7600562452074072,
          0.7727241581727528,
          0.6417330992645757,
          0.7237511058245294,
          0.6510321773227864,
          0.774349160324755,
          0.6729859683026826,
          0.696354569917954,
          0.7745530232322717,
          0.590217210228043,
          0.7066949726059452,
          0.6709944997083603,
          0.6546209351243025,
          0.7293352847578695,
          0.6820050217494481,
          0.6537613145664699,
          0.7306106518652602,
          0.5643971215668394,
          0.5305051781279002,
          0.3928849592664205,
          0.4761868056219429,
          0.414363973416546,
          0.4053102210506548,
          0.3445931881097107,
          0.3949844325204995,
          0.4062848258465222,
          0.4241952371679736,
          0.3555323003073637,
          0.3839586166105208,
          0.4244469640063726,
          0.4024516266379104,
          0.3764331635089741,
          0.3856102206077524,
          0.3259183405338518,
          0.4210082381422607,
          0.3659136273380259,
          0.5009828809753748,
          0.3659574107338528,
          0.4059440694549392,
          0.3709145506167691,
          0.3694810027498325,
          0.2895514309896886,
          0.3465874303240268,
          0.3759241294823779,
          0.3751723521909011,
          0.3783552880747187,
          0.3701850168676753,
          0.3662381624250949,
          0.3467136820148226,
          0.3743076138534478,
          0.3652770271623239,
          0.3144930236194567,
          0.3515484674813074,
          0.2995533194541894,
          0.3384484395144331,
          0.3795483294718299,
          0.4226687277257318
         ],
         "yaxis": "y"
        },
        {
         "hovertemplate": "session_name=kdiba_gor01_one_2006-6-09_1-22-43<br>delta_aligned_start_t=%{x}<br>P_Long=%{y}<extra></extra>",
         "legendgroup": "kdiba_gor01_one_2006-6-09_1-22-43",
         "marker": {
          "color": "#636efa",
          "symbol": "circle"
         },
         "mode": "markers",
         "name": "kdiba_gor01_one_2006-6-09_1-22-43",
         "showlegend": true,
         "type": "scattergl",
         "x": [
          -1026.2618347618263,
          -1022.9598437618697,
          -984.120619761874,
          -963.5315907618497,
          -945.0132247618167,
          -922.8906307618599,
          -785.1867297618883,
          -768.9025197618175,
          -748.0144297619117,
          -720.4210677618394,
          -671.4712757618399,
          -658.6927427618066,
          -629.6629757618066,
          -613.612450761837,
          -601.0317977619125,
          -588.1525837618392,
          -566.4321307619102,
          -548.5140297618927,
          -538.0032577618258,
          -525.7575667618075,
          -515.2797377618263,
          -500.86665076192,
          -493.2587347618537,
          -482.913154761889,
          -473.90480976190884,
          -463.7626567619154,
          -455.2538957619108,
          -444.7750127618201,
          -385.01654376182705,
          -344.909521761816,
          -188.21707376185805,
          -174.30230776185635,
          -156.58543476182967,
          -139.30170676182024,
          -123.81889976188529,
          -111.07327776181046,
          -107.0021737618373,
          -93.15341176185768,
          -84.91342076181888,
          -71.39869576191995,
          -64.72559776180412,
          -46.47540976188611,
          -33.49578276183445,
          -15.277020761859717,
          10.616671238094796,
          19.826279238099005,
          34.70870823808946,
          40.780657238094136,
          58.231813238118775,
          66.20501823816448,
          78.71878223808017,
          91.66491123812739,
          122.12818823812995,
          143.58526423817966,
          153.660728238174,
          172.1452982381452,
          305.4475052381167,
          324.93289823818486,
          351.5271842381917,
          361.703483238118,
          366.60776523815,
          373.0487032381352,
          443.41970423818566,
          448.9253322380828,
          458.568613238167,
          463.70671923819464,
          471.18020023813006,
          480.02157523809,
          484.22736323811114,
          493.30267123808153,
          499.6432842381762,
          505.9483582380926,
          511.188262238167,
          528.3385722381063,
          531.9424792381469,
          550.1282012381125,
          554.7322102381149,
          563.7071602381768,
          575.3519112381618,
          579.5230012381214,
          590.8006852380931,
          599.4755942381453,
          616.4955092380987,
          623.4336212381022
         ],
         "xaxis": "x",
         "y": [
          0.6273873653090264,
          0.4670744322843156,
          0.6989329135054531,
          0.8992452728812366,
          0.8160173674505354,
          0.8602634514378364,
          0.8462380553335532,
          0.6400383630600395,
          0.7917638964996444,
          0.9531872913346344,
          0.7788574871597707,
          0.8890205735770348,
          0.6751381955649675,
          0.9093110554812026,
          0.7998596718576604,
          0.9080438879207604,
          0.794399246061422,
          0.7811305408007838,
          0.8216500971208476,
          0.9522749531100684,
          0.7523616170910608,
          0.933029613681196,
          0.8513900085291041,
          0.8935291954464438,
          0.7269529354957858,
          0.8585572447072064,
          0.8111112025739551,
          0.8528042554973501,
          0.7040348800431532,
          0.8935436038846023,
          0.7926531213711548,
          0.928929829517949,
          0.8595961342912006,
          0.8098387575861089,
          0.8139525516285282,
          0.911704365088828,
          0.7720673224319795,
          0.8849900423818856,
          0.7862518711265254,
          0.7979412767012393,
          0.8234514515585979,
          0.7386277035277123,
          0.8149452674103989,
          0.7102180124930783,
          0.4133272265493939,
          0.4093844439934865,
          0.288222432838899,
          0.3234209343999474,
          0.3231193469674686,
          0.3485958910816449,
          0.2390811140139155,
          0.294155542105015,
          0.2390062981843677,
          0.2235452192476344,
          0.2453240774255605,
          0.2992536094776914,
          0.2582648030543016,
          0.2138786400858603,
          0.1662578782072145,
          0.1613023129591902,
          0.2032602751130031,
          0.2968410769640199,
          0.1816551736076796,
          0.2019480515972117,
          0.2231184279040929,
          0.260013453619223,
          0.1918543482296135,
          0.2550774269972761,
          0.1939570784136456,
          0.1434572643219123,
          0.2386380818110623,
          0.2366158818742842,
          0.2600209374021084,
          0.1864527783764865,
          0.2753222193056758,
          0.192625769673694,
          0.3395042158660883,
          0.2327874858410249,
          0.2526931734445389,
          0.1669941477509986,
          0.2622027557145018,
          0.1188992077643519,
          0.2028041100756063,
          0.2118327092535222
         ],
         "yaxis": "y"
        },
        {
         "hovertemplate": "session_name=kdiba_gor01_one_2006-6-08_14-26-15<br>delta_aligned_start_t=%{x}<br>P_Long=%{y}<extra></extra>",
         "legendgroup": "kdiba_gor01_one_2006-6-08_14-26-15",
         "marker": {
          "color": "#EF553B",
          "symbol": "circle"
         },
         "mode": "markers",
         "name": "kdiba_gor01_one_2006-6-08_14-26-15",
         "showlegend": true,
         "type": "scattergl",
         "x": [
          -1205.9222130310955,
          -1179.6955440310994,
          -1075.7563820311334,
          -1050.0992550310912,
          -977.092097031069,
          -956.4372330310289,
          -917.5318730310537,
          -897.5106470311293,
          -712.2588180310559,
          -699.9788900311105,
          -681.3588250310859,
          -653.1978800310753,
          -627.2050740310224,
          -612.2900690310635,
          -594.7390810310608,
          -565.8114170311019,
          -533.2442250311142,
          -519.1297530310694,
          -499.0764800311299,
          -477.22100803104695,
          -461.07031003106385,
          -448.4249900310533,
          -429.3056430310244,
          -406.8161760311341,
          -385.86327903112397,
          -362.87104003108107,
          -287.6632340310608,
          -269.7121250310447,
          -239.7143330310937,
          -214.35590403107926,
          -201.07571403111808,
          -176.05000003112946,
          -159.1332570310915,
          -143.5186060310807,
          -124.56641603109892,
          -106.94801503105555,
          -88.02877403108869,
          -48.12150903104316,
          -32.53938803111669,
          -16.5235420310637,
          26.153539968887344,
          46.80747696897015,
          118.97910796897463,
          131.25904396886472,
          151.31248296890408,
          168.6963939688867,
          182.77726896887202,
          194.05559296894353,
          202.29777996893972,
          219.9471499689389,
          340.10246396891307,
          350.4135729689151,
          363.09377296897605,
          376.97374096896965,
          392.12218096887227,
          399.22950596897863,
          415.91363596892916,
          426.29036896897014,
          438.26970596890897,
          453.51788096886594,
          467.330739968922,
          481.0779079688946,
          495.39210396888666,
          503.2660469688708,
          532.131038968917,
          540.4374929689802,
          683.1836809689412,
          689.8233439689502,
          706.3060839689572,
          717.3160029689316,
          728.1277399689423,
          741.6086439689388,
          760.4264129688963,
          767.6346649689372,
          787.420728968922,
          791.3254299688851,
          807.5733789688675,
          814.4485159689796,
          826.0594229688868,
          846.0793559689773
         ],
         "xaxis": "x",
         "y": [
          0.7859222970892616,
          0.8920902464948448,
          0.808181809887119,
          0.8946721055802893,
          0.6730357288579727,
          0.9042512270042578,
          0.8481038815078791,
          0.8917188610573898,
          0.8242366681800176,
          0.8506871493890484,
          0.7987559705848235,
          0.8473010498360313,
          0.7444584688089964,
          0.9340264878755894,
          0.7823821872632438,
          0.8165357002737825,
          0.7672930067243394,
          0.9657992141044136,
          0.7757607300933331,
          0.8095877221803642,
          0.8852691473377338,
          0.8935208499666565,
          0.7487150537997661,
          0.8349961695662225,
          0.7693533881021366,
          0.9421621369434132,
          0.7451736249169942,
          0.7710128609703686,
          0.7180768317793742,
          0.898391727814528,
          0.764754484282188,
          0.8932362950965064,
          0.8414205040133712,
          0.8183471019823162,
          0.7572152939405518,
          0.8632504361514644,
          0.7365456943705408,
          0.9029728994191096,
          0.8085651302789927,
          0.7742821727267222,
          0.6030231651961198,
          0.4719484524147179,
          0.4074089580142637,
          0.3839109491510441,
          0.3214422559541907,
          0.3410492332774417,
          0.3221750566971101,
          0.3148511546528099,
          0.2964952105991135,
          0.3338466836499152,
          0.3519072138954658,
          0.3366687139170019,
          0.3145169243876556,
          0.2569547343648261,
          0.3680011046830254,
          0.3243166306915254,
          0.3403086596646568,
          0.3494686860107492,
          0.3079077490540356,
          0.3312415652580627,
          0.388104141528089,
          0.2664369675847428,
          0.2849707701362887,
          0.3657907074946587,
          0.2964918369377727,
          0.3145879125506028,
          0.379175507099017,
          0.3243112784858342,
          0.3674504347181797,
          0.2632921558073247,
          0.3570174444147337,
          0.2693610697860473,
          0.3838476995924639,
          0.3764428431968003,
          0.272586759259033,
          0.2794901114971056,
          0.2932554322408977,
          0.3524014741618378,
          0.3293187013581472,
          0.267827747207749
         ],
         "yaxis": "y"
        },
        {
         "hovertemplate": "session_name=kdiba_gor01_two_2006-6-12_16-53-46<br>delta_aligned_start_t=%{x}<br>P_Long=%{y}<extra></extra>",
         "legendgroup": "kdiba_gor01_two_2006-6-12_16-53-46",
         "marker": {
          "color": "#00cc96",
          "symbol": "circle"
         },
         "mode": "markers",
         "name": "kdiba_gor01_two_2006-6-12_16-53-46",
         "showlegend": true,
         "type": "scattergl",
         "x": [
          -443.10192333569285,
          -412.43713433563244,
          -403.0947373356903,
          -384.3420153356856,
          -371.7943933357019,
          -348.305799335707,
          -340.2642933357274,
          -323.5814043356804,
          -315.5055533356499,
          -302.79190833563916,
          -299.12259633571375,
          -282.60651133570354,
          -274.29718533565756,
          -262.51946933567524,
          -255.3122623356758,
          -244.46805233566553,
          -236.49285233567937,
          -220.61057433567473,
          -207.1970483356854,
          -198.8211963357171,
          -191.48113533563446,
          -178.83423333568498,
          -173.36312433565035,
          -163.8853333357256,
          -148.80306933564134,
          -141.09477233572397,
          -131.28734333568718,
          -124.58044733572751,
          -117.03916233568452,
          -103.32383333565667,
          -96.01749333564658,
          -89.71215633570677,
          -81.23697233572597,
          -69.8247393356869,
          -61.28351933567319,
          -54.842023335630074,
          -42.16269633569755,
          -36.32332133571617,
          -28.38339933566749,
          -13.40216233569663,
          9.489281664369628,
          25.337820664281026,
          30.00805066432804,
          40.8202626643469,
          49.628198664286174,
          62.241833664360456,
          70.4159956643125,
          78.85728566430043,
          83.83100466430187,
          91.17116466432344,
          97.21090166433714,
          105.31737266434357,
          113.2609606643673,
          121.93568866432179,
          126.17307966435328,
          140.48694466426969,
          157.2035666643642,
          163.87849166430533,
          167.11372666433454,
          175.4226066643605,
          178.8589066643035,
          192.60665766429156,
          198.24602266435977,
          208.2893566642888,
          211.75960966432467,
          221.13493566436227,
          226.04085666430183,
          232.61356566427276,
          237.91965366434306,
          244.99172866437584,
          249.59681266429834,
          256.10440266435035,
          260.1755196643062,
          267.34907366428524,
          272.219135664287,
          277.29164366435725,
          282.99667466431856,
          289.27052066428587,
          295.3772296643583,
          303.8518266642932,
          314.0284026643494
         ],
         "xaxis": "x",
         "y": [
          0.7755569914668711,
          0.7973499379191347,
          0.7790400850665898,
          0.7822807821096582,
          0.861961563784187,
          0.6945354502400845,
          0.8049293684264325,
          0.7344041131574797,
          0.8255512192139458,
          0.7353778820931037,
          0.6918347362574027,
          0.7219833651965181,
          0.8542101345613489,
          0.5930451944859149,
          0.79800423094662,
          0.7016161747333108,
          0.7651542334506283,
          0.6189450264259565,
          0.9096245263971948,
          0.7742351688105615,
          0.7962636195006112,
          0.7013460828481742,
          0.7523669452916911,
          0.7763403280414523,
          0.7205552379866187,
          0.6996998454798735,
          0.7347891004638814,
          0.6639790127255412,
          0.7121931185522667,
          0.7667265571137185,
          0.7994782094976526,
          0.7029739964876,
          0.8420326815535396,
          0.7345950757386586,
          0.7395671827060526,
          0.6633391941450048,
          0.8506175416756826,
          0.6967674938188946,
          0.7551405753686244,
          0.6500495663882788,
          0.3405007312192082,
          0.4029458752226926,
          0.3113773606072506,
          0.3741151470230658,
          0.2910827024963698,
          0.3731107406340654,
          0.2546397890884334,
          0.3420745791486141,
          0.2842292658649008,
          0.2798484221635029,
          0.3048956094161951,
          0.2500429799043123,
          0.2719330036231274,
          0.2549134801920319,
          0.2917754194022652,
          0.3052879250565017,
          0.2567738727919804,
          0.2825490115568737,
          0.2710476247644351,
          0.24732412103128,
          0.1864767624016025,
          0.307036043049379,
          0.2143940650812733,
          0.3388709264643869,
          0.3321439313022564,
          0.3228621584510485,
          0.3053886781988317,
          0.2612598160362465,
          0.253142071870983,
          0.2686651116746212,
          0.2055684542964803,
          0.2779531384383052,
          0.241312505288723,
          0.2503541581157444,
          0.2321144484612046,
          0.2735529178989985,
          0.2350177399442065,
          0.2874090690540243,
          0.3207661423130613,
          0.2992140568872804,
          0.2659718459985068
         ],
         "yaxis": "y"
        },
        {
         "hovertemplate": "session_name=kdiba_gor01_two_2006-6-08_21-16-25<br>delta_aligned_start_t=%{x}<br>P_Long=%{y}<extra></extra>",
         "legendgroup": "kdiba_gor01_two_2006-6-08_21-16-25",
         "marker": {
          "color": "#ab63fa",
          "symbol": "circle"
         },
         "mode": "markers",
         "name": "kdiba_gor01_two_2006-6-08_21-16-25",
         "showlegend": true,
         "type": "scattergl",
         "x": [
          -681.3187374055851,
          -642.013205405674,
          -612.3160064056283,
          -571.1753944056109,
          -551.5221394055989,
          -517.9883074056124,
          -505.2757074056426,
          -493.12842940562405,
          -481.31803640560247,
          -459.32995040563395,
          -445.48268940567505,
          -431.76668140559923,
          -423.85909940558486,
          -409.4445004055742,
          -400.0360034055775,
          -380.2485954056028,
          -370.2386594056152,
          -351.65294240566436,
          -335.30449840566143,
          -323.29073640564457,
          -313.615811405587,
          -291.9928054056363,
          -281.9498124056263,
          -263.1975244056666,
          -226.52776640560478,
          -192.66093240561895,
          -187.45421940565575,
          -170.10408940562047,
          -155.9896234056214,
          -144.71126740565524,
          -136.60395440564025,
          -113.84815540560521,
          -88.08764640567824,
          -79.21159440558404,
          -64.09744940558448,
          -49.082022405578755,
          -42.27475540561136,
          -17.584108405630104,
          36.83782759436872,
          64.29815859440714,
          73.30691559438128,
          86.78929659433197,
          96.83217259438243,
          105.24073559441604,
          115.91744459432084,
          125.42739959433675,
          136.57212359434925,
          152.25313559442293,
          157.9937805943191,
          171.44055559439585,
          189.3244325943524,
          221.35694659431465,
          227.4635365944124,
          236.37208859436203,
          244.11272859433666,
          253.79024059441883,
          263.6005525944056,
          270.3728065943578,
          278.3474465943872,
          287.79044359433465,
          296.0321595943532,
          316.1852445943514,
          323.02538259432185,
          327.3970235943559,
          335.5734455944041,
          345.11606259434484,
          351.75480659434106,
          357.2606495943621,
          365.1359855943592,
          374.91216559440363,
          381.4191815943925,
          389.92683959438,
          402.1056875943905,
          408.9801555944141,
          420.3573335943511,
          435.03972359432373,
          441.7132355943322,
          460.9976655943319
         ],
         "xaxis": "x",
         "y": [
          0.7950886613331598,
          0.8128563729393694,
          0.8780801931133315,
          0.7806251690763427,
          0.7024076034009035,
          0.7673017783612384,
          0.8261777294435829,
          0.7511132582401558,
          0.7995713640295645,
          0.7783538811515017,
          0.7508870906472436,
          0.7851109158786924,
          0.6854243326158149,
          0.7612556166450574,
          0.7686572863534369,
          0.802654510612872,
          0.7776596796418214,
          0.858771506187349,
          0.7761511087265115,
          0.8301103070605772,
          0.7529985063682464,
          0.7759464685926422,
          0.6772785431623592,
          0.7451986913562071,
          0.8036737976015176,
          0.8172295858662206,
          0.6707333583589645,
          0.7585193845752397,
          0.7834633182839849,
          0.75140115839008,
          0.7468532657061874,
          0.827508865850164,
          0.7319595500161923,
          0.7497912724425894,
          0.7257186793563055,
          0.69294697338256,
          0.7112310825740309,
          0.8617589487472528,
          0.481079380721886,
          0.5183443335601914,
          0.433465458728338,
          0.3755135146136802,
          0.3832938823289376,
          0.3744626756342514,
          0.3804229128200825,
          0.2775728269180333,
          0.3875914193106898,
          0.3265821883845958,
          0.4053786542957021,
          0.25000017841687,
          0.3366539338661547,
          0.2602138986374165,
          0.2795126059285741,
          0.2883469377737752,
          0.4233154309025655,
          0.192433866109836,
          0.366522497621099,
          0.2430603572478017,
          0.3241443411849041,
          0.1827075702939901,
          0.3049459710853754,
          0.2082681680035145,
          0.2940330582070285,
          0.3972112266367621,
          0.3533832656776869,
          0.2265342899921437,
          0.3481039350042014,
          0.1998762757628512,
          0.3162262667468463,
          0.2467954950915196,
          0.337740739643951,
          0.1965470116984295,
          0.3778902104290826,
          0.1924224971908901,
          0.309724349878527,
          0.2674580250218158,
          0.3323651899110559,
          0.1878741917845622
         ],
         "yaxis": "y"
        },
        {
         "hovertemplate": "session_name=kdiba_gor01_one_2006-6-12_15-55-31<br>delta_aligned_start_t=%{x}<br>P_Long=%{y}<extra></extra>",
         "legendgroup": "kdiba_gor01_one_2006-6-12_15-55-31",
         "marker": {
          "color": "#FFA15A",
          "symbol": "circle"
         },
         "mode": "markers",
         "name": "kdiba_gor01_one_2006-6-12_15-55-31",
         "showlegend": true,
         "type": "scattergl",
         "x": [
          -619.757087878068,
          -593.029293878004,
          -584.0548118780134,
          -566.1023318780353,
          -540.010232878034,
          -511.18069387809373,
          -500.0360848780256,
          -474.2762718780432,
          -460.2953578780871,
          -446.1501468780916,
          -432.93420987809077,
          -414.8165668779984,
          -406.30910487810615,
          -396.2994718780974,
          -387.9244408780942,
          -371.472934878082,
          -359.8938708780334,
          -350.71995887800585,
          -345.8488588780165,
          -322.4577228780836,
          -313.31496187800076,
          -303.60397087805904,
          -286.3543608780019,
          -277.4443578780629,
          -255.45642987801693,
          -240.40922987810342,
          -229.96390787803102,
          -220.42088787804823,
          -204.6046638780972,
          -188.15426887804637,
          -166.56774687801948,
          -143.21053587808274,
          -101.10082287807018,
          -83.8491948780138,
          -76.2431618780829,
          -63.02997487806715,
          -54.9879358781036,
          -36.57011687802151,
          -26.025564878014848,
          -14.981091878027655,
          17.5526011219481,
          67.70222012198064,
          85.45357812196016,
          93.26009612192865,
          107.30981912196148,
          124.75979312194977,
          133.93557312199846,
          141.84408512199298,
          148.6503391219303,
          158.42637412191834,
          165.50058812194038,
          171.84100912197027,
          184.15198912192136,
          192.1950941219693,
          201.23676812194753,
          207.57724812196102,
          216.5857931219507,
          229.06351012189407,
          238.97564512200188,
          256.2591221219627,
          263.2665971219541,
          272.34120912197966,
          296.9007291219897,
          302.74018612189695,
          310.8805981219049,
          318.5549941218925,
          326.69745512190275,
          336.30673312197905,
          380.0176291218959,
          394.0973211219532,
          411.24871712189633,
          417.0205741219688,
          430.8338801219361,
          442.1462271219352
         ],
         "xaxis": "x",
         "y": [
          0.7580161959197943,
          0.9450187291534324,
          0.748581660375836,
          0.802010827279654,
          0.832117719800522,
          0.8896990723868898,
          0.8689051650581924,
          0.8828742365207195,
          0.8818654788681888,
          0.8620282618213495,
          0.7965899654711619,
          0.7409919885551486,
          0.6777064519171928,
          0.8396462221042296,
          0.6933368111163702,
          0.8576599437267599,
          0.7408638877112524,
          0.7228229456963338,
          0.6210853715212428,
          0.7693791955769183,
          0.6491482660305699,
          0.8276486288141606,
          0.7577508755437209,
          0.8166270934983031,
          0.816202506001827,
          0.716592429918694,
          0.6209909952080304,
          0.7520777964688725,
          0.8097439147207384,
          0.736690794490125,
          0.759686566574198,
          0.8175263406208232,
          0.7958629215072652,
          0.820405967055574,
          0.7095301396260683,
          0.638532781487669,
          0.6148336125812569,
          0.7458890297754247,
          0.6432708157331642,
          0.749110729515346,
          0.3847563517650452,
          0.2972883995979047,
          0.3521926891775833,
          0.3286454921873217,
          0.3208245464045196,
          0.3253092337830148,
          0.3829938222877097,
          0.2678196984338338,
          0.3016547435226015,
          0.2378083932159387,
          0.3761706946741958,
          0.3407565702312316,
          0.3283121042656438,
          0.2446020817385384,
          0.3367927407232384,
          0.3603122662646658,
          0.3465588756861841,
          0.259225364899658,
          0.3430788545833283,
          0.2556832887044891,
          0.2829467782429927,
          0.2879205587482557,
          0.3514556832960964,
          0.3039378899858744,
          0.2820686310091309,
          0.2838956492386817,
          0.3668683102344753,
          0.2095260864958213,
          0.3995793650446074,
          0.27369431719264,
          0.2912512430844282,
          0.2981727767465577,
          0.3403285933355797,
          0.3281645207507391
         ],
         "yaxis": "y"
        }
       ],
       "layout": {
        "legend": {
         "title": {
          "text": "session_name"
         },
         "tracegroupgap": 0
        },
        "template": {
         "data": {
          "bar": [
           {
            "error_x": {
             "color": "#2a3f5f"
            },
            "error_y": {
             "color": "#2a3f5f"
            },
            "marker": {
             "line": {
              "color": "#E5ECF6",
              "width": 0.5
             },
             "pattern": {
              "fillmode": "overlay",
              "size": 10,
              "solidity": 0.2
             }
            },
            "type": "bar"
           }
          ],
          "barpolar": [
           {
            "marker": {
             "line": {
              "color": "#E5ECF6",
              "width": 0.5
             },
             "pattern": {
              "fillmode": "overlay",
              "size": 10,
              "solidity": 0.2
             }
            },
            "type": "barpolar"
           }
          ],
          "carpet": [
           {
            "aaxis": {
             "endlinecolor": "#2a3f5f",
             "gridcolor": "white",
             "linecolor": "white",
             "minorgridcolor": "white",
             "startlinecolor": "#2a3f5f"
            },
            "baxis": {
             "endlinecolor": "#2a3f5f",
             "gridcolor": "white",
             "linecolor": "white",
             "minorgridcolor": "white",
             "startlinecolor": "#2a3f5f"
            },
            "type": "carpet"
           }
          ],
          "choropleth": [
           {
            "colorbar": {
             "outlinewidth": 0,
             "ticks": ""
            },
            "type": "choropleth"
           }
          ],
          "contour": [
           {
            "colorbar": {
             "outlinewidth": 0,
             "ticks": ""
            },
            "colorscale": [
             [
              0,
              "#0d0887"
             ],
             [
              0.1111111111111111,
              "#46039f"
             ],
             [
              0.2222222222222222,
              "#7201a8"
             ],
             [
              0.3333333333333333,
              "#9c179e"
             ],
             [
              0.4444444444444444,
              "#bd3786"
             ],
             [
              0.5555555555555556,
              "#d8576b"
             ],
             [
              0.6666666666666666,
              "#ed7953"
             ],
             [
              0.7777777777777778,
              "#fb9f3a"
             ],
             [
              0.8888888888888888,
              "#fdca26"
             ],
             [
              1,
              "#f0f921"
             ]
            ],
            "type": "contour"
           }
          ],
          "contourcarpet": [
           {
            "colorbar": {
             "outlinewidth": 0,
             "ticks": ""
            },
            "type": "contourcarpet"
           }
          ],
          "heatmap": [
           {
            "colorbar": {
             "outlinewidth": 0,
             "ticks": ""
            },
            "colorscale": [
             [
              0,
              "#0d0887"
             ],
             [
              0.1111111111111111,
              "#46039f"
             ],
             [
              0.2222222222222222,
              "#7201a8"
             ],
             [
              0.3333333333333333,
              "#9c179e"
             ],
             [
              0.4444444444444444,
              "#bd3786"
             ],
             [
              0.5555555555555556,
              "#d8576b"
             ],
             [
              0.6666666666666666,
              "#ed7953"
             ],
             [
              0.7777777777777778,
              "#fb9f3a"
             ],
             [
              0.8888888888888888,
              "#fdca26"
             ],
             [
              1,
              "#f0f921"
             ]
            ],
            "type": "heatmap"
           }
          ],
          "heatmapgl": [
           {
            "colorbar": {
             "outlinewidth": 0,
             "ticks": ""
            },
            "colorscale": [
             [
              0,
              "#0d0887"
             ],
             [
              0.1111111111111111,
              "#46039f"
             ],
             [
              0.2222222222222222,
              "#7201a8"
             ],
             [
              0.3333333333333333,
              "#9c179e"
             ],
             [
              0.4444444444444444,
              "#bd3786"
             ],
             [
              0.5555555555555556,
              "#d8576b"
             ],
             [
              0.6666666666666666,
              "#ed7953"
             ],
             [
              0.7777777777777778,
              "#fb9f3a"
             ],
             [
              0.8888888888888888,
              "#fdca26"
             ],
             [
              1,
              "#f0f921"
             ]
            ],
            "type": "heatmapgl"
           }
          ],
          "histogram": [
           {
            "marker": {
             "pattern": {
              "fillmode": "overlay",
              "size": 10,
              "solidity": 0.2
             }
            },
            "type": "histogram"
           }
          ],
          "histogram2d": [
           {
            "colorbar": {
             "outlinewidth": 0,
             "ticks": ""
            },
            "colorscale": [
             [
              0,
              "#0d0887"
             ],
             [
              0.1111111111111111,
              "#46039f"
             ],
             [
              0.2222222222222222,
              "#7201a8"
             ],
             [
              0.3333333333333333,
              "#9c179e"
             ],
             [
              0.4444444444444444,
              "#bd3786"
             ],
             [
              0.5555555555555556,
              "#d8576b"
             ],
             [
              0.6666666666666666,
              "#ed7953"
             ],
             [
              0.7777777777777778,
              "#fb9f3a"
             ],
             [
              0.8888888888888888,
              "#fdca26"
             ],
             [
              1,
              "#f0f921"
             ]
            ],
            "type": "histogram2d"
           }
          ],
          "histogram2dcontour": [
           {
            "colorbar": {
             "outlinewidth": 0,
             "ticks": ""
            },
            "colorscale": [
             [
              0,
              "#0d0887"
             ],
             [
              0.1111111111111111,
              "#46039f"
             ],
             [
              0.2222222222222222,
              "#7201a8"
             ],
             [
              0.3333333333333333,
              "#9c179e"
             ],
             [
              0.4444444444444444,
              "#bd3786"
             ],
             [
              0.5555555555555556,
              "#d8576b"
             ],
             [
              0.6666666666666666,
              "#ed7953"
             ],
             [
              0.7777777777777778,
              "#fb9f3a"
             ],
             [
              0.8888888888888888,
              "#fdca26"
             ],
             [
              1,
              "#f0f921"
             ]
            ],
            "type": "histogram2dcontour"
           }
          ],
          "mesh3d": [
           {
            "colorbar": {
             "outlinewidth": 0,
             "ticks": ""
            },
            "type": "mesh3d"
           }
          ],
          "parcoords": [
           {
            "line": {
             "colorbar": {
              "outlinewidth": 0,
              "ticks": ""
             }
            },
            "type": "parcoords"
           }
          ],
          "pie": [
           {
            "automargin": true,
            "type": "pie"
           }
          ],
          "scatter": [
           {
            "fillpattern": {
             "fillmode": "overlay",
             "size": 10,
             "solidity": 0.2
            },
            "type": "scatter"
           }
          ],
          "scatter3d": [
           {
            "line": {
             "colorbar": {
              "outlinewidth": 0,
              "ticks": ""
             }
            },
            "marker": {
             "colorbar": {
              "outlinewidth": 0,
              "ticks": ""
             }
            },
            "type": "scatter3d"
           }
          ],
          "scattercarpet": [
           {
            "marker": {
             "colorbar": {
              "outlinewidth": 0,
              "ticks": ""
             }
            },
            "type": "scattercarpet"
           }
          ],
          "scattergeo": [
           {
            "marker": {
             "colorbar": {
              "outlinewidth": 0,
              "ticks": ""
             }
            },
            "type": "scattergeo"
           }
          ],
          "scattergl": [
           {
            "marker": {
             "colorbar": {
              "outlinewidth": 0,
              "ticks": ""
             }
            },
            "type": "scattergl"
           }
          ],
          "scattermapbox": [
           {
            "marker": {
             "colorbar": {
              "outlinewidth": 0,
              "ticks": ""
             }
            },
            "type": "scattermapbox"
           }
          ],
          "scatterpolar": [
           {
            "marker": {
             "colorbar": {
              "outlinewidth": 0,
              "ticks": ""
             }
            },
            "type": "scatterpolar"
           }
          ],
          "scatterpolargl": [
           {
            "marker": {
             "colorbar": {
              "outlinewidth": 0,
              "ticks": ""
             }
            },
            "type": "scatterpolargl"
           }
          ],
          "scatterternary": [
           {
            "marker": {
             "colorbar": {
              "outlinewidth": 0,
              "ticks": ""
             }
            },
            "type": "scatterternary"
           }
          ],
          "surface": [
           {
            "colorbar": {
             "outlinewidth": 0,
             "ticks": ""
            },
            "colorscale": [
             [
              0,
              "#0d0887"
             ],
             [
              0.1111111111111111,
              "#46039f"
             ],
             [
              0.2222222222222222,
              "#7201a8"
             ],
             [
              0.3333333333333333,
              "#9c179e"
             ],
             [
              0.4444444444444444,
              "#bd3786"
             ],
             [
              0.5555555555555556,
              "#d8576b"
             ],
             [
              0.6666666666666666,
              "#ed7953"
             ],
             [
              0.7777777777777778,
              "#fb9f3a"
             ],
             [
              0.8888888888888888,
              "#fdca26"
             ],
             [
              1,
              "#f0f921"
             ]
            ],
            "type": "surface"
           }
          ],
          "table": [
           {
            "cells": {
             "fill": {
              "color": "#EBF0F8"
             },
             "line": {
              "color": "white"
             }
            },
            "header": {
             "fill": {
              "color": "#C8D4E3"
             },
             "line": {
              "color": "white"
             }
            },
            "type": "table"
           }
          ]
         },
         "layout": {
          "annotationdefaults": {
           "arrowcolor": "#2a3f5f",
           "arrowhead": 0,
           "arrowwidth": 1
          },
          "autotypenumbers": "strict",
          "coloraxis": {
           "colorbar": {
            "outlinewidth": 0,
            "ticks": ""
           }
          },
          "colorscale": {
           "diverging": [
            [
             0,
             "#8e0152"
            ],
            [
             0.1,
             "#c51b7d"
            ],
            [
             0.2,
             "#de77ae"
            ],
            [
             0.3,
             "#f1b6da"
            ],
            [
             0.4,
             "#fde0ef"
            ],
            [
             0.5,
             "#f7f7f7"
            ],
            [
             0.6,
             "#e6f5d0"
            ],
            [
             0.7,
             "#b8e186"
            ],
            [
             0.8,
             "#7fbc41"
            ],
            [
             0.9,
             "#4d9221"
            ],
            [
             1,
             "#276419"
            ]
           ],
           "sequential": [
            [
             0,
             "#0d0887"
            ],
            [
             0.1111111111111111,
             "#46039f"
            ],
            [
             0.2222222222222222,
             "#7201a8"
            ],
            [
             0.3333333333333333,
             "#9c179e"
            ],
            [
             0.4444444444444444,
             "#bd3786"
            ],
            [
             0.5555555555555556,
             "#d8576b"
            ],
            [
             0.6666666666666666,
             "#ed7953"
            ],
            [
             0.7777777777777778,
             "#fb9f3a"
            ],
            [
             0.8888888888888888,
             "#fdca26"
            ],
            [
             1,
             "#f0f921"
            ]
           ],
           "sequentialminus": [
            [
             0,
             "#0d0887"
            ],
            [
             0.1111111111111111,
             "#46039f"
            ],
            [
             0.2222222222222222,
             "#7201a8"
            ],
            [
             0.3333333333333333,
             "#9c179e"
            ],
            [
             0.4444444444444444,
             "#bd3786"
            ],
            [
             0.5555555555555556,
             "#d8576b"
            ],
            [
             0.6666666666666666,
             "#ed7953"
            ],
            [
             0.7777777777777778,
             "#fb9f3a"
            ],
            [
             0.8888888888888888,
             "#fdca26"
            ],
            [
             1,
             "#f0f921"
            ]
           ]
          },
          "colorway": [
           "#636efa",
           "#EF553B",
           "#00cc96",
           "#ab63fa",
           "#FFA15A",
           "#19d3f3",
           "#FF6692",
           "#B6E880",
           "#FF97FF",
           "#FECB52"
          ],
          "font": {
           "color": "#2a3f5f"
          },
          "geo": {
           "bgcolor": "white",
           "lakecolor": "white",
           "landcolor": "#E5ECF6",
           "showlakes": true,
           "showland": true,
           "subunitcolor": "white"
          },
          "hoverlabel": {
           "align": "left"
          },
          "hovermode": "closest",
          "mapbox": {
           "style": "light"
          },
          "paper_bgcolor": "white",
          "plot_bgcolor": "#E5ECF6",
          "polar": {
           "angularaxis": {
            "gridcolor": "white",
            "linecolor": "white",
            "ticks": ""
           },
           "bgcolor": "#E5ECF6",
           "radialaxis": {
            "gridcolor": "white",
            "linecolor": "white",
            "ticks": ""
           }
          },
          "scene": {
           "xaxis": {
            "backgroundcolor": "#E5ECF6",
            "gridcolor": "white",
            "gridwidth": 2,
            "linecolor": "white",
            "showbackground": true,
            "ticks": "",
            "zerolinecolor": "white"
           },
           "yaxis": {
            "backgroundcolor": "#E5ECF6",
            "gridcolor": "white",
            "gridwidth": 2,
            "linecolor": "white",
            "showbackground": true,
            "ticks": "",
            "zerolinecolor": "white"
           },
           "zaxis": {
            "backgroundcolor": "#E5ECF6",
            "gridcolor": "white",
            "gridwidth": 2,
            "linecolor": "white",
            "showbackground": true,
            "ticks": "",
            "zerolinecolor": "white"
           }
          },
          "shapedefaults": {
           "line": {
            "color": "#2a3f5f"
           }
          },
          "ternary": {
           "aaxis": {
            "gridcolor": "white",
            "linecolor": "white",
            "ticks": ""
           },
           "baxis": {
            "gridcolor": "white",
            "linecolor": "white",
            "ticks": ""
           },
           "bgcolor": "#E5ECF6",
           "caxis": {
            "gridcolor": "white",
            "linecolor": "white",
            "ticks": ""
           }
          },
          "title": {
           "x": 0.05
          },
          "xaxis": {
           "automargin": true,
           "gridcolor": "white",
           "linecolor": "white",
           "ticks": "",
           "title": {
            "standoff": 15
           },
           "zerolinecolor": "white",
           "zerolinewidth": 2
          },
          "yaxis": {
           "automargin": true,
           "gridcolor": "white",
           "linecolor": "white",
           "ticks": "",
           "title": {
            "standoff": 15
           },
           "zerolinecolor": "white",
           "zerolinewidth": 2
          }
         }
        },
        "title": {
         "text": "Laps - Session: kdiba_gor01_one_2006-6-12_15-55-31"
        },
        "xaxis": {
         "anchor": "y",
         "domain": [
          0,
          1
         ],
         "title": {
          "text": "delta_aligned_start_t"
         }
        },
        "yaxis": {
         "anchor": "x",
         "domain": [
          0,
          1
         ],
         "title": {
          "text": "P_Long"
         }
        }
       }
      }
     },
     "metadata": {},
     "output_type": "display_data"
    },
    {
     "data": {
      "application/vnd.plotly.v1+json": {
       "config": {
        "plotlyServerURL": "https://plot.ly"
       },
       "data": [
        {
         "hovertemplate": "session_name=kdiba_pin01_one_11-03_12-3-25<br>delta_aligned_start_t=%{x}<br>P_Long=%{y}<extra></extra>",
         "legendgroup": "kdiba_pin01_one_11-03_12-3-25",
         "marker": {
          "color": "#636efa",
          "symbol": "circle"
         },
         "mode": "markers",
         "name": "kdiba_pin01_one_11-03_12-3-25",
         "orientation": "v",
         "showlegend": true,
         "type": "scatter",
         "x": [
          -621.4441285986795,
          -609.100716038507,
          -555.7297200044577,
          -544.0347448722841,
          -542.3935604325707,
          -541.9414851440324,
          -532.1213199319573,
          -529.6142005756028,
          -512.9611121419839,
          -500.27689207630465,
          -499.61662745436115,
          -477.9886526078826,
          -477.07722139453654,
          -442.57606785912685,
          -415.9408891763378,
          -391.3029395509675,
          -359.8167374319037,
          -283.2015267388906,
          -269.8688078052437,
          -268.8289977776258,
          -258.0185431525788,
          -247.73238649909217,
          -157.40266890790735,
          -103.66214218305504,
          -84.65439767502176,
          -69.34371111409382,
          -56.61156787295113,
          -29.142710257005092,
          -18.491170110593885,
          -15.38814449934398,
          -14.759152821385214,
          -12.568142103182254,
          0.9487124161860265,
          10.5288316711667,
          26.323173664461137,
          37.16846475167404,
          39.23868449172005,
          41.89728409051713,
          75.88403148930229,
          78.98140462344782,
          80.02683640818577,
          80.70734549976623,
          91.30076343593646,
          120.1287960359823,
          163.39184204530466,
          185.427102443251,
          254.3261289269485,
          264.76941829998395
         ],
         "xaxis": "x",
         "y": [
          0.5199444126288334,
          0.7240188063264269,
          8.298164875664098e-14,
          0.5702299602905261,
          0.6359535777720942,
          0.5741150212277376,
          0.9999963143240254,
          1,
          0.5430149870120723,
          0.4351257276039544,
          0.5367394929687688,
          0.9575203584118976,
          0.6785271998242952,
          0.6825245444369993,
          0.4160042708088351,
          0.9877456631847924,
          0.4856787557863975,
          0.4681847639285593,
          0.3356286123745543,
          0.5513811145240596,
          0.582627089005353,
          0.4316539971550165,
          0.8151339591224721,
          0.5686470118507267,
          0.5701493002725354,
          0.5416170842543658,
          0.9336848532475486,
          0.6062439560080648,
          0.9480270149031164,
          0.6572470173037851,
          0.3931475660714776,
          0.5855572209945746,
          0.8986685987711375,
          0.3984969898500721,
          0.3765062350356561,
          0.631176115318703,
          0.4786877748811762,
          0.5613447716959035,
          0.2002062961868034,
          null,
          null,
          0.9470338675213904,
          2.9638167217857984e-7,
          0.4689291469366858,
          0.3887425234954287,
          0.2974894758920428,
          0.1559320714700328,
          0.521900019960017
         ],
         "yaxis": "y"
        }
       ],
       "layout": {
        "legend": {
         "title": {
          "text": "session_name"
         },
         "tracegroupgap": 0
        },
        "template": {
         "data": {
          "bar": [
           {
            "error_x": {
             "color": "#2a3f5f"
            },
            "error_y": {
             "color": "#2a3f5f"
            },
            "marker": {
             "line": {
              "color": "#E5ECF6",
              "width": 0.5
             },
             "pattern": {
              "fillmode": "overlay",
              "size": 10,
              "solidity": 0.2
             }
            },
            "type": "bar"
           }
          ],
          "barpolar": [
           {
            "marker": {
             "line": {
              "color": "#E5ECF6",
              "width": 0.5
             },
             "pattern": {
              "fillmode": "overlay",
              "size": 10,
              "solidity": 0.2
             }
            },
            "type": "barpolar"
           }
          ],
          "carpet": [
           {
            "aaxis": {
             "endlinecolor": "#2a3f5f",
             "gridcolor": "white",
             "linecolor": "white",
             "minorgridcolor": "white",
             "startlinecolor": "#2a3f5f"
            },
            "baxis": {
             "endlinecolor": "#2a3f5f",
             "gridcolor": "white",
             "linecolor": "white",
             "minorgridcolor": "white",
             "startlinecolor": "#2a3f5f"
            },
            "type": "carpet"
           }
          ],
          "choropleth": [
           {
            "colorbar": {
             "outlinewidth": 0,
             "ticks": ""
            },
            "type": "choropleth"
           }
          ],
          "contour": [
           {
            "colorbar": {
             "outlinewidth": 0,
             "ticks": ""
            },
            "colorscale": [
             [
              0,
              "#0d0887"
             ],
             [
              0.1111111111111111,
              "#46039f"
             ],
             [
              0.2222222222222222,
              "#7201a8"
             ],
             [
              0.3333333333333333,
              "#9c179e"
             ],
             [
              0.4444444444444444,
              "#bd3786"
             ],
             [
              0.5555555555555556,
              "#d8576b"
             ],
             [
              0.6666666666666666,
              "#ed7953"
             ],
             [
              0.7777777777777778,
              "#fb9f3a"
             ],
             [
              0.8888888888888888,
              "#fdca26"
             ],
             [
              1,
              "#f0f921"
             ]
            ],
            "type": "contour"
           }
          ],
          "contourcarpet": [
           {
            "colorbar": {
             "outlinewidth": 0,
             "ticks": ""
            },
            "type": "contourcarpet"
           }
          ],
          "heatmap": [
           {
            "colorbar": {
             "outlinewidth": 0,
             "ticks": ""
            },
            "colorscale": [
             [
              0,
              "#0d0887"
             ],
             [
              0.1111111111111111,
              "#46039f"
             ],
             [
              0.2222222222222222,
              "#7201a8"
             ],
             [
              0.3333333333333333,
              "#9c179e"
             ],
             [
              0.4444444444444444,
              "#bd3786"
             ],
             [
              0.5555555555555556,
              "#d8576b"
             ],
             [
              0.6666666666666666,
              "#ed7953"
             ],
             [
              0.7777777777777778,
              "#fb9f3a"
             ],
             [
              0.8888888888888888,
              "#fdca26"
             ],
             [
              1,
              "#f0f921"
             ]
            ],
            "type": "heatmap"
           }
          ],
          "heatmapgl": [
           {
            "colorbar": {
             "outlinewidth": 0,
             "ticks": ""
            },
            "colorscale": [
             [
              0,
              "#0d0887"
             ],
             [
              0.1111111111111111,
              "#46039f"
             ],
             [
              0.2222222222222222,
              "#7201a8"
             ],
             [
              0.3333333333333333,
              "#9c179e"
             ],
             [
              0.4444444444444444,
              "#bd3786"
             ],
             [
              0.5555555555555556,
              "#d8576b"
             ],
             [
              0.6666666666666666,
              "#ed7953"
             ],
             [
              0.7777777777777778,
              "#fb9f3a"
             ],
             [
              0.8888888888888888,
              "#fdca26"
             ],
             [
              1,
              "#f0f921"
             ]
            ],
            "type": "heatmapgl"
           }
          ],
          "histogram": [
           {
            "marker": {
             "pattern": {
              "fillmode": "overlay",
              "size": 10,
              "solidity": 0.2
             }
            },
            "type": "histogram"
           }
          ],
          "histogram2d": [
           {
            "colorbar": {
             "outlinewidth": 0,
             "ticks": ""
            },
            "colorscale": [
             [
              0,
              "#0d0887"
             ],
             [
              0.1111111111111111,
              "#46039f"
             ],
             [
              0.2222222222222222,
              "#7201a8"
             ],
             [
              0.3333333333333333,
              "#9c179e"
             ],
             [
              0.4444444444444444,
              "#bd3786"
             ],
             [
              0.5555555555555556,
              "#d8576b"
             ],
             [
              0.6666666666666666,
              "#ed7953"
             ],
             [
              0.7777777777777778,
              "#fb9f3a"
             ],
             [
              0.8888888888888888,
              "#fdca26"
             ],
             [
              1,
              "#f0f921"
             ]
            ],
            "type": "histogram2d"
           }
          ],
          "histogram2dcontour": [
           {
            "colorbar": {
             "outlinewidth": 0,
             "ticks": ""
            },
            "colorscale": [
             [
              0,
              "#0d0887"
             ],
             [
              0.1111111111111111,
              "#46039f"
             ],
             [
              0.2222222222222222,
              "#7201a8"
             ],
             [
              0.3333333333333333,
              "#9c179e"
             ],
             [
              0.4444444444444444,
              "#bd3786"
             ],
             [
              0.5555555555555556,
              "#d8576b"
             ],
             [
              0.6666666666666666,
              "#ed7953"
             ],
             [
              0.7777777777777778,
              "#fb9f3a"
             ],
             [
              0.8888888888888888,
              "#fdca26"
             ],
             [
              1,
              "#f0f921"
             ]
            ],
            "type": "histogram2dcontour"
           }
          ],
          "mesh3d": [
           {
            "colorbar": {
             "outlinewidth": 0,
             "ticks": ""
            },
            "type": "mesh3d"
           }
          ],
          "parcoords": [
           {
            "line": {
             "colorbar": {
              "outlinewidth": 0,
              "ticks": ""
             }
            },
            "type": "parcoords"
           }
          ],
          "pie": [
           {
            "automargin": true,
            "type": "pie"
           }
          ],
          "scatter": [
           {
            "fillpattern": {
             "fillmode": "overlay",
             "size": 10,
             "solidity": 0.2
            },
            "type": "scatter"
           }
          ],
          "scatter3d": [
           {
            "line": {
             "colorbar": {
              "outlinewidth": 0,
              "ticks": ""
             }
            },
            "marker": {
             "colorbar": {
              "outlinewidth": 0,
              "ticks": ""
             }
            },
            "type": "scatter3d"
           }
          ],
          "scattercarpet": [
           {
            "marker": {
             "colorbar": {
              "outlinewidth": 0,
              "ticks": ""
             }
            },
            "type": "scattercarpet"
           }
          ],
          "scattergeo": [
           {
            "marker": {
             "colorbar": {
              "outlinewidth": 0,
              "ticks": ""
             }
            },
            "type": "scattergeo"
           }
          ],
          "scattergl": [
           {
            "marker": {
             "colorbar": {
              "outlinewidth": 0,
              "ticks": ""
             }
            },
            "type": "scattergl"
           }
          ],
          "scattermapbox": [
           {
            "marker": {
             "colorbar": {
              "outlinewidth": 0,
              "ticks": ""
             }
            },
            "type": "scattermapbox"
           }
          ],
          "scatterpolar": [
           {
            "marker": {
             "colorbar": {
              "outlinewidth": 0,
              "ticks": ""
             }
            },
            "type": "scatterpolar"
           }
          ],
          "scatterpolargl": [
           {
            "marker": {
             "colorbar": {
              "outlinewidth": 0,
              "ticks": ""
             }
            },
            "type": "scatterpolargl"
           }
          ],
          "scatterternary": [
           {
            "marker": {
             "colorbar": {
              "outlinewidth": 0,
              "ticks": ""
             }
            },
            "type": "scatterternary"
           }
          ],
          "surface": [
           {
            "colorbar": {
             "outlinewidth": 0,
             "ticks": ""
            },
            "colorscale": [
             [
              0,
              "#0d0887"
             ],
             [
              0.1111111111111111,
              "#46039f"
             ],
             [
              0.2222222222222222,
              "#7201a8"
             ],
             [
              0.3333333333333333,
              "#9c179e"
             ],
             [
              0.4444444444444444,
              "#bd3786"
             ],
             [
              0.5555555555555556,
              "#d8576b"
             ],
             [
              0.6666666666666666,
              "#ed7953"
             ],
             [
              0.7777777777777778,
              "#fb9f3a"
             ],
             [
              0.8888888888888888,
              "#fdca26"
             ],
             [
              1,
              "#f0f921"
             ]
            ],
            "type": "surface"
           }
          ],
          "table": [
           {
            "cells": {
             "fill": {
              "color": "#EBF0F8"
             },
             "line": {
              "color": "white"
             }
            },
            "header": {
             "fill": {
              "color": "#C8D4E3"
             },
             "line": {
              "color": "white"
             }
            },
            "type": "table"
           }
          ]
         },
         "layout": {
          "annotationdefaults": {
           "arrowcolor": "#2a3f5f",
           "arrowhead": 0,
           "arrowwidth": 1
          },
          "autotypenumbers": "strict",
          "coloraxis": {
           "colorbar": {
            "outlinewidth": 0,
            "ticks": ""
           }
          },
          "colorscale": {
           "diverging": [
            [
             0,
             "#8e0152"
            ],
            [
             0.1,
             "#c51b7d"
            ],
            [
             0.2,
             "#de77ae"
            ],
            [
             0.3,
             "#f1b6da"
            ],
            [
             0.4,
             "#fde0ef"
            ],
            [
             0.5,
             "#f7f7f7"
            ],
            [
             0.6,
             "#e6f5d0"
            ],
            [
             0.7,
             "#b8e186"
            ],
            [
             0.8,
             "#7fbc41"
            ],
            [
             0.9,
             "#4d9221"
            ],
            [
             1,
             "#276419"
            ]
           ],
           "sequential": [
            [
             0,
             "#0d0887"
            ],
            [
             0.1111111111111111,
             "#46039f"
            ],
            [
             0.2222222222222222,
             "#7201a8"
            ],
            [
             0.3333333333333333,
             "#9c179e"
            ],
            [
             0.4444444444444444,
             "#bd3786"
            ],
            [
             0.5555555555555556,
             "#d8576b"
            ],
            [
             0.6666666666666666,
             "#ed7953"
            ],
            [
             0.7777777777777778,
             "#fb9f3a"
            ],
            [
             0.8888888888888888,
             "#fdca26"
            ],
            [
             1,
             "#f0f921"
            ]
           ],
           "sequentialminus": [
            [
             0,
             "#0d0887"
            ],
            [
             0.1111111111111111,
             "#46039f"
            ],
            [
             0.2222222222222222,
             "#7201a8"
            ],
            [
             0.3333333333333333,
             "#9c179e"
            ],
            [
             0.4444444444444444,
             "#bd3786"
            ],
            [
             0.5555555555555556,
             "#d8576b"
            ],
            [
             0.6666666666666666,
             "#ed7953"
            ],
            [
             0.7777777777777778,
             "#fb9f3a"
            ],
            [
             0.8888888888888888,
             "#fdca26"
            ],
            [
             1,
             "#f0f921"
            ]
           ]
          },
          "colorway": [
           "#636efa",
           "#EF553B",
           "#00cc96",
           "#ab63fa",
           "#FFA15A",
           "#19d3f3",
           "#FF6692",
           "#B6E880",
           "#FF97FF",
           "#FECB52"
          ],
          "font": {
           "color": "#2a3f5f"
          },
          "geo": {
           "bgcolor": "white",
           "lakecolor": "white",
           "landcolor": "#E5ECF6",
           "showlakes": true,
           "showland": true,
           "subunitcolor": "white"
          },
          "hoverlabel": {
           "align": "left"
          },
          "hovermode": "closest",
          "mapbox": {
           "style": "light"
          },
          "paper_bgcolor": "white",
          "plot_bgcolor": "#E5ECF6",
          "polar": {
           "angularaxis": {
            "gridcolor": "white",
            "linecolor": "white",
            "ticks": ""
           },
           "bgcolor": "#E5ECF6",
           "radialaxis": {
            "gridcolor": "white",
            "linecolor": "white",
            "ticks": ""
           }
          },
          "scene": {
           "xaxis": {
            "backgroundcolor": "#E5ECF6",
            "gridcolor": "white",
            "gridwidth": 2,
            "linecolor": "white",
            "showbackground": true,
            "ticks": "",
            "zerolinecolor": "white"
           },
           "yaxis": {
            "backgroundcolor": "#E5ECF6",
            "gridcolor": "white",
            "gridwidth": 2,
            "linecolor": "white",
            "showbackground": true,
            "ticks": "",
            "zerolinecolor": "white"
           },
           "zaxis": {
            "backgroundcolor": "#E5ECF6",
            "gridcolor": "white",
            "gridwidth": 2,
            "linecolor": "white",
            "showbackground": true,
            "ticks": "",
            "zerolinecolor": "white"
           }
          },
          "shapedefaults": {
           "line": {
            "color": "#2a3f5f"
           }
          },
          "ternary": {
           "aaxis": {
            "gridcolor": "white",
            "linecolor": "white",
            "ticks": ""
           },
           "baxis": {
            "gridcolor": "white",
            "linecolor": "white",
            "ticks": ""
           },
           "bgcolor": "#E5ECF6",
           "caxis": {
            "gridcolor": "white",
            "linecolor": "white",
            "ticks": ""
           }
          },
          "title": {
           "x": 0.05
          },
          "xaxis": {
           "automargin": true,
           "gridcolor": "white",
           "linecolor": "white",
           "ticks": "",
           "title": {
            "standoff": 15
           },
           "zerolinecolor": "white",
           "zerolinewidth": 2
          },
          "yaxis": {
           "automargin": true,
           "gridcolor": "white",
           "linecolor": "white",
           "ticks": "",
           "title": {
            "standoff": 15
           },
           "zerolinecolor": "white",
           "zerolinewidth": 2
          }
         }
        },
        "title": {
         "text": "Ripples - Session: kdiba_gor01_one_2006-6-12_15-55-31"
        },
        "xaxis": {
         "anchor": "y",
         "domain": [
          0,
          1
         ],
         "title": {
          "text": "delta_aligned_start_t"
         }
        },
        "yaxis": {
         "anchor": "x",
         "domain": [
          0,
          1
         ],
         "title": {
          "text": "P_Long"
         }
        }
       }
      }
     },
     "metadata": {},
     "output_type": "display_data"
    }
   ],
   "source": [
    "\n",
    "# Example usage:\n",
    "all_session_figures = plot_across_sessions_results(collected_outputs_directory, concatenated_laps_df=all_sessions_laps_df, concatenated_ripple_df=all_sessions_ripple_df, save_figures=True)\n",
    "\n",
    "# Show figures for all sessions\n",
    "for fig_laps, fig_ripples in all_session_figures:\n",
    "    fig_laps.show()\n",
    "    fig_ripples.show()\n",
    "\n",
    "    fig_laps.write_html(\"../output/2024-01-23_AcrossSession_fig_laps.html\")\n",
    "    fig_ripples.write_html(\"../output/2024-01-23_AcrossSession_fig_ripples.html\")\n"
   ]
  },
  {
   "cell_type": "code",
   "execution_count": null,
   "metadata": {},
   "outputs": [],
   "source": [
    "\n",
    "active_plot_fn = plot_across_sessions_results_with_histogram_gpt3\n",
    "# active_plot_fn = plot_across_sessions_results_with_histogram_new\n",
    "all_time_bin_session_figures = active_plot_fn(collected_outputs_directory, concatenated_laps_df=all_sessions_laps_time_bin_df, concatenated_ripple_df=all_sessions_ripple_time_bin_df, save_figures=False)\n",
    "all_time_bin_session_figures\n"
   ]
  },
  {
   "cell_type": "code",
   "execution_count": null,
   "metadata": {},
   "outputs": [],
   "source": [
    "all_time_bin_session_figures[0].show()"
   ]
  },
  {
   "cell_type": "code",
   "execution_count": null,
   "metadata": {},
   "outputs": [],
   "source": [
    "for fig_time_bin_laps, fig_time_bin_ripples in all_time_bin_session_figures:\n",
    "    fig_time_bin_laps.show()\n",
    "    fig_time_bin_ripples.show()\n",
    "    # fig_laps.write_html(\"../output/2024-01-18_AcrossSession_fig_laps.html\")\n",
    "    # fig_ripples.write_html(\"../output/2024-01-18_AcrossSession_fig_ripples.html\")\n",
    "    fig_time_bin_laps.write_html(\"../output/2024-01-23_AcrossSession_fig_time_bin_laps.html\")\n",
    "    fig_time_bin_ripples.write_html(\"../output/2024-01-23_AcrossSession_fig_time_bin_ripples.html\")"
   ]
  },
  {
   "cell_type": "code",
   "execution_count": null,
   "metadata": {},
   "outputs": [],
   "source": []
  },
  {
   "cell_type": "code",
   "execution_count": 8,
   "metadata": {},
   "outputs": [
    {
     "data": {
      "image/png": "[encoded data removed]",
      "text/plain": [
       "<Figure size 640x480 with 1 Axes>"
      ]
     },
     "metadata": {},
     "output_type": "display_data"
    },
    {
     "data": {
      "image/png": "[encoded data removed]",
      "text/plain": [
       "<Figure size 640x480 with 1 Axes>"
      ]
     },
     "metadata": {},
     "output_type": "display_data"
    }
   ],
   "source": [
    "data_type = 'Laps'\n",
    "session_spec = 'All Sessions'\n",
    "data_results_df = all_sessions_laps_time_bin_df\n",
    "time_bin_duration_str = \"75 ms\"\n",
    "\n",
    "# get the pre-delta epochs\n",
    "pre_delta_df = data_results_df[data_results_df['delta_aligned_start_t'] <= 0]\n",
    "post_delta_df = data_results_df[data_results_df['delta_aligned_start_t'] > 0]\n",
    "\n",
    "descriptor_str: str = '|'.join([data_type, session_spec, time_bin_duration_str])\n",
    "pre_delta_df.hist(column='P_Long')\n",
    "plt.title(f'{descriptor_str} - pre-$\\Delta$ time bins')\n",
    "plt.show()\n",
    "\n",
    "post_delta_df.hist(column='P_Long')\n",
    "plt.title(f'{descriptor_str} - post-$\\Delta$ time bins')\n",
    "plt.show()"
   ]
  },
  {
   "cell_type": "code",
   "execution_count": 9,
   "metadata": {},
   "outputs": [
    {
     "data": {
      "image/png": "[encoded data removed]",
      "text/plain": [
       "<Figure size 640x480 with 1 Axes>"
      ]
     },
     "metadata": {},
     "output_type": "display_data"
    },
    {
     "data": {
      "image/png": "[encoded data removed]",
      "text/plain": [
       "<Figure size 640x480 with 1 Axes>"
      ]
     },
     "metadata": {},
     "output_type": "display_data"
    }
   ],
   "source": [
    "data_type = 'Ripples'\n",
    "session_spec = 'All Sessions'\n",
    "data_results_df = all_sessions_ripple_time_bin_df\n",
    "time_bin_duration_str = \"75 ms\"\n",
    "\n",
    "# get the pre-delta epochs\n",
    "pre_delta_df = data_results_df[data_results_df['delta_aligned_start_t'] <= 0]\n",
    "post_delta_df = data_results_df[data_results_df['delta_aligned_start_t'] > 0]\n",
    "\n",
    "descriptor_str: str = '|'.join([data_type, session_spec, time_bin_duration_str])\n",
    "pre_delta_df.hist(column='P_Long')\n",
    "plt.title(f'{descriptor_str} - pre-$\\Delta$ time bins')\n",
    "plt.show()\n",
    "\n",
    "post_delta_df.hist(column='P_Long')\n",
    "plt.title(f'{descriptor_str} - post-$\\Delta$ time bins')\n",
    "plt.show()"
   ]
  },
  {
   "cell_type": "code",
   "execution_count": 10,
   "metadata": {},
   "outputs": [
    {
     "data": {
      "image/png": "[encoded data removed]",
      "text/plain": [
       "<Figure size 640x480 with 1 Axes>"
      ]
     },
     "metadata": {},
     "output_type": "display_data"
    }
   ],
   "source": [
    "all_sessions_laps_time_bin_df.hist(column='P_Long')\n",
    "plt.show()"
   ]
  },
  {
   "cell_type": "code",
   "execution_count": null,
   "metadata": {},
   "outputs": [],
   "source": [
    "from pyphoplacecellanalysis.General.Pipeline.Stages.ComputationFunctions.MultiContextComputationFunctions.DirectionalPlacefieldGlobalComputationFunctions import plot_all_epoch_bins_marginal_predictions\n",
    "from attrs import define, field, Factory\n",
    "from neuropy.utils.result_context import IdentifyingContext\n",
    "\n",
    "@define(slots=False)\n",
    "class TwoCSV:\n",
    "\t\"\"\" simple class wrapper to emulate the object that holds the other dfs \"\"\"\n",
    "\tlaps_all_epoch_bins_marginals_df = field()\n",
    "\tripple_all_epoch_bins_marginals_df = field()\n",
    "\n",
    "save_figure = True\n",
    "def _perform_write_to_file_callback(final_context, fig):\n",
    "\tprint(f'final_context: {final_context}')\n",
    "\t# if save_figure:\n",
    "\t# \tfig.save_fig(\n",
    "\t# \t# return owning_pipeline_reference.output_figure(final_context, fig)\n",
    "\t# else:\n",
    "\t# \tpass # do nothing, don't save\n",
    "\t\n",
    "# all_sessions_laps_time_bin_df\n",
    "\n",
    "collector = plot_all_epoch_bins_marginal_predictions(TwoCSV(laps_all_epoch_bins_marginals_df=all_sessions_laps_df, ripple_all_epoch_bins_marginals_df=all_sessions_ripple_df), t_start=None, t_split=0.0, t_end=None,\n",
    "\t\t\t\t\t\t\t\t\t\t\t\t\tactive_context=IdentifyingContext(), perform_write_to_file_callback=_perform_write_to_file_callback)\n",
    "collector\n",
    "\n"
   ]
  },
  {
   "cell_type": "code",
   "execution_count": null,
   "metadata": {},
   "outputs": [],
   "source": [
    "result = tuple(collector.figures)\n"
   ]
  },
  {
   "cell_type": "code",
   "execution_count": null,
   "metadata": {},
   "outputs": [],
   "source": [
    "result[0].show()"
   ]
  },
  {
   "cell_type": "markdown",
   "metadata": {},
   "source": [
    "# HDF5 files"
   ]
  },
  {
   "cell_type": "code",
   "execution_count": null,
   "metadata": {},
   "outputs": [],
   "source": [
    "from neuropy.utils.result_context import IdentifyingContext\n",
    "from pyphoplacecellanalysis.SpecificResults.AcrossSessionResults import H5FileAggregator\n",
    "\n",
    "h5_sessions = find_most_recent_files(found_session_export_paths=h5_files)\n",
    "h5_sessions\n",
    "\n",
    "final_sessions = {}\n",
    "time_bin_size_sweep_results_files = {}\n",
    "\n",
    "# final_sessions_loaded_laps_dict = {}\n",
    "# final_sessions_loaded_ripple_dict = {}\n",
    "# final_sessions_loaded_laps_time_bin_dict = {}\n",
    "# final_sessions_loaded_ripple_time_bin_dict = {}\n",
    "\n",
    "for session_str, session_dict in h5_sessions.items():\n",
    "    final_sessions[session_str] = {}\n",
    "    for file_type, (a_path, an_export_datetime) in session_dict.items():\n",
    "        final_sessions[session_str][file_type] = a_path\n",
    "        \n",
    "    session_name: str = str(session_str)  # Extract session name from the filename\n",
    "    if debug_print:\n",
    "        print(f'processing session_name: {session_name}')\n",
    "    curr_session_t_delta: Optional[float] = t_delta_dict.get(session_name, {}).get('t_delta', None)\n",
    "    if curr_session_t_delta is None:\n",
    "        print(f'WARN: curr_session_t_split is None for session_str = \"{session_str}\"')\n",
    "\n",
    "    # finds each of the four exports:\n",
    "    time_bin_size_sweep_results_file = final_sessions[session_str]['time_bin_size_sweep_results']\n",
    "    time_bin_size_sweep_results_files[session_str] = Path(time_bin_size_sweep_results_file).resolve()\n",
    "    # ripple_file = final_sessions[session_str]['ripple_marginals_df']\n",
    "    # laps_time_bin_file = final_sessions[session_str]['laps_time_bin_marginals_df']\n",
    "    # ripple_time_bin_file = final_sessions[session_str]['ripple_time_bin_marginals_df']\n",
    "    \n",
    "\n",
    "\n",
    "session_identifiers = [\n",
    "    IdentifyingContext(format_name='kdiba',animal='gor01',exper_name='one',session_name='2006-6-08_14-26-15'), # prev completed\n",
    "    IdentifyingContext(format_name='kdiba',animal='gor01',exper_name='one',session_name='2006-6-09_1-22-43'), # prev completed\n",
    "    IdentifyingContext(format_name='kdiba',animal='gor01',exper_name='one',session_name='2006-6-12_15-55-31'), # prev completed\n",
    "    IdentifyingContext(format_name='kdiba',animal='gor01',exper_name='two',session_name='2006-6-07_16-40-19'), # prev completed\n",
    "    IdentifyingContext(format_name='kdiba',animal='gor01',exper_name='two',session_name='2006-6-08_21-16-25'),\n",
    "    IdentifyingContext(format_name='kdiba',animal='gor01',exper_name='two',session_name='2006-6-09_22-24-40'),\n",
    "    IdentifyingContext(format_name='kdiba',animal='gor01',exper_name='two',session_name='2006-6-12_16-53-46'),\n",
    "    IdentifyingContext(format_name='kdiba',animal='vvp01',exper_name='one',session_name='2006-4-09_17-29-30'),\n",
    "    IdentifyingContext(format_name='kdiba',animal='vvp01',exper_name='one',session_name='2006-4-10_12-25-50'),\n",
    "    IdentifyingContext(format_name='kdiba',animal='vvp01',exper_name='two',session_name='2006-4-09_16-40-54'),\n",
    "    IdentifyingContext(format_name='kdiba',animal='vvp01',exper_name='two',session_name='2006-4-10_12-58-3'),\n",
    "    IdentifyingContext(format_name='kdiba',animal='pin01',exper_name='one',session_name='11-02_17-46-44'), # prev completed\n",
    "    IdentifyingContext(format_name='kdiba',animal='pin01',exper_name='one',session_name='11-02_19-28-0'),\n",
    "    IdentifyingContext(format_name='kdiba',animal='pin01',exper_name='one',session_name='11-03_12-3-25'),\n",
    "    IdentifyingContext(format_name='kdiba',animal='pin01',exper_name='one',session_name='fet11-01_12-58-54'), # prev completed\n",
    "]\n",
    "\n",
    "# Keys are like: \"/kdiba|gor01|two|2006-6-12_16-53-46\"\n",
    "included_h5_paths = list(time_bin_size_sweep_results_files.values())\n",
    "session_group_keys: List[str] = [(\"/\" + a_ctxt.get_description(separator=\"|\", include_property_names=False)) for a_ctxt in session_identifiers] # 'kdiba/gor01/one/2006-6-08_14-26-15'\n",
    "laps_decoding_accuracy_results_table_keys = [f\"{session_group_key}/laps_decoding_accuracy_results/table\" for session_group_key in session_group_keys]\n",
    "a_loader = H5FileAggregator.init_from_file_lists(file_list=included_h5_paths, table_key_list=laps_decoding_accuracy_results_table_keys)\n",
    "_out_table = a_loader.load_and_consolidate()\n",
    "_out_table"
   ]
  }
 ],
 "metadata": {
  "kernelspec": {
   "display_name": ".venv_yellow",
   "language": "python",
   "name": "python3"
  },
  "language_info": {
   "codemirror_mode": {
    "name": "ipython",
    "version": 3
   },
   "file_extension": ".py",
   "mimetype": "text/x-python",
   "name": "python",
   "nbconvert_exporter": "python",
   "pygments_lexer": "ipython3",
   "version": "3.9.13"
  }
 },
 "nbformat": 4,
 "nbformat_minor": 2
}
