{
 "cells": [
  {
   "cell_type": "code",
   "execution_count": 1,
   "metadata": {
    "notebookRunGroups": {
     "groupValue": "1"
    }
   },
   "outputs": [
    {
     "name": "stdout",
     "output_type": "stream",
     "text": [
      "Automatic pdb calling has been turned OFF\n",
      "DAY_DATE_STR: 2024-05-03, DAY_DATE_TO_USE: 2024-05-03\n",
      "NOW_DATETIME: 2024-05-03_0532PM, NOW_DATETIME_TO_USE: 2024-05-03_0532PM\n",
      "global_data_root_parent_path changed to W:\\Data\n"
     ]
    }
   ],
   "source": [
    "%config IPCompleter.use_jedi = False\n",
    "# %xmode Verbose\n",
    "# %xmode context\n",
    "%pdb off\n",
    "# %load_ext viztracer\n",
    "# from viztracer import VizTracer\n",
    "%load_ext autoreload\n",
    "%autoreload 3\n",
    "import sys\n",
    "from pathlib import Path\n",
    "\n",
    "# required to enable non-blocking interaction:\n",
    "%gui qt5\n",
    "\n",
    "from copy import deepcopy\n",
    "# from numba import jit\n",
    "import numpy as np\n",
    "import pandas as pd\n",
    "pd.options.mode.chained_assignment = None  # default='warn'\n",
    "# pd.options.mode.dtype_backend = 'pyarrow' # use new pyarrow backend instead of numpy\n",
    "from attrs import define, field, fields, Factory\n",
    "import tables as tb\n",
    "from datetime import datetime, timedelta\n",
    "\n",
    "# Pho's Formatting Preferences\n",
    "import builtins\n",
    "\n",
    "import IPython\n",
    "from IPython.core.formatters import PlainTextFormatter\n",
    "from IPython import get_ipython\n",
    "\n",
    "from pyphocorehelpers.preferences_helpers import set_pho_preferences, set_pho_preferences_concise, set_pho_preferences_verbose\n",
    "set_pho_preferences_concise()\n",
    "# Jupyter-lab enable printing for any line on its own (instead of just the last one in the cell)\n",
    "from IPython.core.interactiveshell import InteractiveShell\n",
    "InteractiveShell.ast_node_interactivity = \"all\"\n",
    "\n",
    "# BEGIN PPRINT CUSTOMIZATION ___________________________________________________________________________________________ #\n",
    "\n",
    "\n",
    "## IPython pprint\n",
    "from pyphocorehelpers.pprint import wide_pprint, wide_pprint_ipython, wide_pprint_jupyter, MAX_LINE_LENGTH\n",
    "\n",
    "# Override default pprint\n",
    "builtins.pprint = wide_pprint\n",
    "\n",
    "text_formatter: PlainTextFormatter = IPython.get_ipython().display_formatter.formatters['text/plain']\n",
    "text_formatter.max_width = MAX_LINE_LENGTH\n",
    "text_formatter.for_type(object, wide_pprint_jupyter)\n",
    "\n",
    "\n",
    "# END PPRINT CUSTOMIZATION ___________________________________________________________________________________________ #\n",
    "\n",
    "from pyphocorehelpers.print_helpers import get_now_time_str, get_now_day_str\n",
    "\n",
    "## Pho's Custom Libraries:\n",
    "from pyphocorehelpers.Filesystem.path_helpers import find_first_extant_path, file_uri_from_path\n",
    "from pyphocorehelpers.Filesystem.open_in_system_file_manager import reveal_in_system_file_manager\n",
    "\n",
    "# NeuroPy (Diba Lab Python Repo) Loading\n",
    "# from neuropy import core\n",
    "from typing import Dict, List, Tuple, Optional, Callable, Union, Any\n",
    "from typing_extensions import TypeAlias\n",
    "from nptyping import NDArray\n",
    "import neuropy.utils.type_aliases as types\n",
    "\n",
    "from neuropy.analyses.placefields import PlacefieldComputationParameters\n",
    "from neuropy.core.epoch import NamedTimerange, Epoch\n",
    "from neuropy.core.ratemap import Ratemap\n",
    "from neuropy.core.session.Formats.BaseDataSessionFormats import DataSessionFormatRegistryHolder\n",
    "from neuropy.core.session.Formats.Specific.KDibaOldDataSessionFormat import KDibaOldDataSessionFormatRegisteredClass\n",
    "from neuropy.utils.matplotlib_helpers import matplotlib_file_only, matplotlib_configuration, matplotlib_configuration_update\n",
    "from neuropy.core.neuron_identities import NeuronIdentityTable, neuronTypesList, neuronTypesEnum\n",
    "from neuropy.utils.mixins.AttrsClassHelpers import AttrsBasedClassHelperMixin, serialized_field, serialized_attribute_field, non_serialized_field, custom_define\n",
    "from neuropy.utils.mixins.HDF5_representable import HDF_DeserializationMixin, post_deserialize, HDF_SerializationMixin, HDFMixin, HDF_Converter\n",
    "\n",
    "## For computation parameters:\n",
    "from neuropy.analyses.placefields import PlacefieldComputationParameters\n",
    "from neuropy.utils.dynamic_container import DynamicContainer\n",
    "from neuropy.utils.result_context import IdentifyingContext\n",
    "from neuropy.core.session.Formats.BaseDataSessionFormats import find_local_session_paths\n",
    "from neuropy.core.neurons import NeuronType\n",
    "from neuropy.core.user_annotations import UserAnnotationsManager\n",
    "from neuropy.core.position import Position\n",
    "from neuropy.core.session.dataSession import DataSession\n",
    "from neuropy.analyses.time_dependent_placefields import PfND_TimeDependent, PlacefieldSnapshot\n",
    "from neuropy.utils.debug_helpers import debug_print_placefield, debug_print_subsession_neuron_differences, debug_print_ratemap, debug_print_spike_counts, debug_plot_2d_binning, print_aligned_columns\n",
    "from neuropy.utils.debug_helpers import parameter_sweeps, _plot_parameter_sweep, compare_placefields_info\n",
    "from neuropy.utils.indexing_helpers import NumpyHelpers, union_of_arrays, intersection_of_arrays, find_desired_sort_indicies, paired_incremental_sorting\n",
    "from pyphocorehelpers.print_helpers import print_object_memory_usage, print_dataframe_memory_usage, print_value_overview_only, DocumentationFilePrinter, print_keys_if_possible, generate_html_string, document_active_variables\n",
    "\n",
    "## Pho Programming Helpers:\n",
    "import inspect\n",
    "from pyphocorehelpers.print_helpers import DocumentationFilePrinter, TypePrintMode, print_keys_if_possible, debug_dump_object_member_shapes, print_value_overview_only, document_active_variables\n",
    "from pyphocorehelpers.programming_helpers import IPythonHelpers, PythonDictionaryDefinitionFormat, MemoryManagement, inspect_callable_arguments, get_arguments_as_optional_dict, GeneratedClassDefinitionType, CodeConversion\n",
    "from pyphocorehelpers.gui.Qt.TopLevelWindowHelper import TopLevelWindowHelper, print_widget_hierarchy\n",
    "from pyphocorehelpers.indexing_helpers import reorder_columns, reorder_columns_relative, dict_to_full_array\n",
    "# doc_output_parent_folder: Path = Path('EXTERNAL/DEVELOPER_NOTES/DataStructureDocumentation').resolve() # ../.\n",
    "# print(f\"doc_output_parent_folder: {doc_output_parent_folder}\")\n",
    "# assert doc_output_parent_folder.exists()\n",
    "\n",
    "# pyPhoPlaceCellAnalysis:\n",
    "from pyphoplacecellanalysis.General.Pipeline.NeuropyPipeline import NeuropyPipeline # get_neuron_identities\n",
    "from pyphoplacecellanalysis.General.Mixins.ExportHelpers import export_pyqtgraph_plot\n",
    "from pyphoplacecellanalysis.General.Batch.NonInteractiveProcessing import batch_load_session, batch_extended_computations, batch_extended_programmatic_figures\n",
    "from pyphoplacecellanalysis.General.Pipeline.NeuropyPipeline import PipelineSavingScheme\n",
    "\n",
    "import pyphoplacecellanalysis.External.pyqtgraph as pg\n",
    "\n",
    "from pyphoplacecellanalysis.General.Batch.NonInteractiveProcessing import batch_perform_all_plots\n",
    "from pyphoplacecellanalysis.General.Pipeline.Stages.ComputationFunctions.MultiContextComputationFunctions.LongShortTrackComputations import JonathanFiringRateAnalysisResult\n",
    "from pyphoplacecellanalysis.General.Mixins.CrossComputationComparisonHelpers import _find_any_context_neurons\n",
    "from pyphoplacecellanalysis.General.Batch.runBatch import BatchSessionCompletionHandler # for `post_compute_validate(...)`\n",
    "from pyphoplacecellanalysis.Analysis.Decoder.reconstruction import BasePositionDecoder\n",
    "from pyphoplacecellanalysis.SpecificResults.AcrossSessionResults import AcrossSessionsResults\n",
    "from pyphoplacecellanalysis.General.Pipeline.Stages.ComputationFunctions.SpikeAnalysis import SpikeRateTrends # for `_perform_long_short_instantaneous_spike_rate_groups_analysis`\n",
    "from pyphoplacecellanalysis.General.Pipeline.Stages.ComputationFunctions.MultiContextComputationFunctions.LongShortTrackComputations import SingleBarResult, InstantaneousSpikeRateGroupsComputation, TruncationCheckingResults # for `BatchSessionCompletionHandler`, `AcrossSessionsAggregator`\n",
    "from pyphoplacecellanalysis.General.Mixins.CrossComputationComparisonHelpers import SplitPartitionMembership\n",
    "from pyphoplacecellanalysis.General.Pipeline.Stages.ComputationFunctions.MultiContextComputationFunctions.DirectionalPlacefieldGlobalComputationFunctions import DirectionalPlacefieldGlobalComputationFunctions, DirectionalLapsResult, TrackTemplates\n",
    "from pyphoplacecellanalysis.General.Pipeline.Stages.ComputationFunctions.MultiContextComputationFunctions.RankOrderComputations import RankOrderGlobalComputationFunctions\n",
    "from pyphoplacecellanalysis.General.Pipeline.Stages.ComputationFunctions.MultiContextComputationFunctions.DirectionalPlacefieldGlobalComputationFunctions import TrackTemplates\n",
    "from pyphoplacecellanalysis.General.Pipeline.Stages.ComputationFunctions.MultiContextComputationFunctions.RankOrderComputations import RankOrderComputationsContainer, RankOrderResult\n",
    "from pyphoplacecellanalysis.General.Pipeline.Stages.ComputationFunctions.MultiContextComputationFunctions.RankOrderComputations import RankOrderAnalyses\n",
    "\n",
    "\n",
    "# Plotting\n",
    "# import pylustrator # customization of figures\n",
    "import matplotlib\n",
    "import matplotlib as mpl\n",
    "import matplotlib.pyplot as plt\n",
    "_bak_rcParams = mpl.rcParams.copy()\n",
    "\n",
    "matplotlib.use('Qt5Agg')\n",
    "# %matplotlib inline\n",
    "# %matplotlib auto\n",
    "\n",
    "# _restore_previous_matplotlib_settings_callback = matplotlib_configuration_update(is_interactive=True, backend='Qt5Agg')\n",
    "_restore_previous_matplotlib_settings_callback = matplotlib_configuration_update(is_interactive=True, backend='Qt5Agg')\n",
    "\n",
    "# import pylustrator # call `pylustrator.start()` before creating your first figure in code.\n",
    "from pyphoplacecellanalysis.Pho2D.matplotlib.visualize_heatmap import visualize_heatmap\n",
    "from pyphoplacecellanalysis.Pho2D.matplotlib.visualize_heatmap import visualize_heatmap_pyqtgraph # used in `plot_kourosh_activity_style_figure`\n",
    "from pyphoplacecellanalysis.General.Pipeline.Stages.DisplayFunctions.SpikeRasters import plot_multiple_raster_plot, plot_raster_plot\n",
    "from pyphoplacecellanalysis.General.Mixins.DataSeriesColorHelpers import UnitColoringMode, DataSeriesColorHelpers\n",
    "from pyphoplacecellanalysis.General.Pipeline.Stages.DisplayFunctions.SpikeRasters import _build_default_tick, build_scatter_plot_kwargs\n",
    "from pyphoplacecellanalysis.GUI.PyQtPlot.Widgets.Mixins.Render2DScrollWindowPlot import Render2DScrollWindowPlotMixin, ScatterItemData\n",
    "from pyphoplacecellanalysis.General.Batch.NonInteractiveProcessing import batch_extended_programmatic_figures, batch_programmatic_figures\n",
    "from pyphoplacecellanalysis.General.Pipeline.Stages.ComputationFunctions.SpikeAnalysis import SpikeRateTrends\n",
    "from pyphoplacecellanalysis.General.Mixins.SpikesRenderingBaseMixin import SpikeEmphasisState\n",
    "\n",
    "from pyphoplacecellanalysis.SpecificResults.PhoDiba2023Paper import PAPER_FIGURE_figure_1_add_replay_epoch_rasters, PAPER_FIGURE_figure_1_full, PAPER_FIGURE_figure_3, main_complete_figure_generations\n",
    "from pyphoplacecellanalysis.SpecificResults.fourthYearPresentation import *\n",
    "\n",
    "# Jupyter Widget Interactive\n",
    "import ipywidgets as widgets\n",
    "from IPython.display import display, HTML\n",
    "from pyphocorehelpers.Filesystem.open_in_system_file_manager import reveal_in_system_file_manager\n",
    "from pyphoplacecellanalysis.GUI.IPyWidgets.pipeline_ipywidgets import interactive_pipeline_widget, interactive_pipeline_files\n",
    "from pyphocorehelpers.gui.Jupyter.simple_widgets import fullwidth_path_widget, render_colors\n",
    "\n",
    "from datetime import datetime, date, timedelta\n",
    "from pyphocorehelpers.print_helpers import get_now_day_str, get_now_rounded_time_str\n",
    "\n",
    "DAY_DATE_STR: str = date.today().strftime(\"%Y-%m-%d\")\n",
    "DAY_DATE_TO_USE = f'{DAY_DATE_STR}' # used for filenames throught the notebook\n",
    "print(f'DAY_DATE_STR: {DAY_DATE_STR}, DAY_DATE_TO_USE: {DAY_DATE_TO_USE}')\n",
    "\n",
    "NOW_DATETIME: str = get_now_rounded_time_str()\n",
    "NOW_DATETIME_TO_USE = f'{NOW_DATETIME}' # used for filenames throught the notebook\n",
    "print(f'NOW_DATETIME: {NOW_DATETIME}, NOW_DATETIME_TO_USE: {NOW_DATETIME_TO_USE}')\n",
    "\n",
    "\n",
    "from pyphocorehelpers.gui.Jupyter.simple_widgets import build_global_data_root_parent_path_selection_widget\n",
    "all_paths = [Path('/Volumes/SwapSSD/Data'), Path('/Users/pho/data'), Path(r'/media/MAX/Data'), Path(r'/media/halechr/MAX/Data'), Path(r'/home/halechr/FastData'), Path(r'W:\\Data'), Path(r'/home/halechr/cloud/turbo/Data'), Path(r'/Volumes/MoverNew/data'), Path(r'/home/halechr/turbo/Data')]\n",
    "global_data_root_parent_path = None\n",
    "def on_user_update_path_selection(new_path: Path):\n",
    "    global global_data_root_parent_path\n",
    "    new_global_data_root_parent_path = new_path.resolve()\n",
    "    global_data_root_parent_path = new_global_data_root_parent_path\n",
    "    print(f'global_data_root_parent_path changed to {global_data_root_parent_path}')\n",
    "    assert global_data_root_parent_path.exists(), f\"global_data_root_parent_path: {global_data_root_parent_path} does not exist! Is the right computer's config commented out above?\"\n",
    "            \n",
    "global_data_root_parent_path_widget = build_global_data_root_parent_path_selection_widget(all_paths, on_user_update_path_selection)\n",
    "global_data_root_parent_path_widget\n",
    "\n",
    "from pyphoplacecellanalysis.Analysis.Decoder.heuristic_replay_scoring import HeuristicReplayScoring\n"
   ]
  },
  {
   "cell_type": "code",
   "execution_count": 2,
   "metadata": {
    "notebookRunGroups": {
     "groupValue": "1"
    }
   },
   "outputs": [
    {
     "data": {
      "text/plain": [
       "<PyQt5.QtWidgets.QApplication object at 0x000002E0E3901A60>"
      ]
     },
     "execution_count": 2,
     "metadata": {},
     "output_type": "execute_result"
    },
    {
     "name": "stdout",
     "output_type": "stream",
     "text": [
      "Loading loaded session pickle file results : W:\\Data\\KDIBA\\gor01\\one\\2006-6-09_1-22-43\\output\\2024-04-28_CustomDecodingResults.pkl... done.\n",
      "xbin_centers: [38.9801 42.7855 46.5909 50.3963 54.2018 58.0072 61.8126 65.618 69.4234 73.2289 77.0343 80.8397 84.6451 88.4505 92.2559 96.0614 99.8668 103.672 107.478 111.283 115.088 118.894 122.699 126.505 130.31 134.116 137.921 141.726 145.532 149.337 153.143 156.948 160.753 164.559 168.364 172.17 175.975 179.781 183.586 187.391 191.197 195.002 198.808 202.613 206.418 210.224 214.029 217.835 221.64 225.446 229.251 233.056 236.862 240.667 244.473 248.278 252.083]\n"
     ]
    }
   ],
   "source": [
    "import pyphoplacecellanalysis.External.pyqtgraph as pg\n",
    "from pyphoplacecellanalysis.External.pyqtgraph.Qt import QtGui, QtCore, QtWidgets\n",
    "# from pyphoplacecellanalysis.External.pyqtgraph.parametertree.parameterTypes.file import popupFilePicker\n",
    "from pyphoplacecellanalysis.External.pyqtgraph.widgets.FileDialog import FileDialog\n",
    "\n",
    "from silx.gui import qt\n",
    "from silx.gui.dialog.ImageFileDialog import ImageFileDialog\n",
    "from silx.gui.dialog.DataFileDialog import DataFileDialog\n",
    "import silx.io\n",
    "\n",
    "from pyphoplacecellanalysis.GUI.IPyWidgets.pipeline_ipywidgets import saveFile\n",
    "\n",
    "app = pg.mkQApp('Radon Transform Debugger')\n",
    "app\n",
    "\n",
    "from pyphoplacecellanalysis.General.Pipeline.Stages.Loading import loadData\n",
    "\n",
    "from pyphoplacecellanalysis.Analysis.Decoder.reconstruction import DecodedFilterEpochsResult\n",
    "from pyphoplacecellanalysis.General.Pipeline.Stages.ComputationFunctions.MultiContextComputationFunctions.DirectionalPlacefieldGlobalComputationFunctions import DecoderDecodedEpochsResult\n",
    "\n",
    "\n",
    "# load_path = Path(r\"W:\\Data\\KDIBA\\gor01\\one\\2006-6-09_1-22-43\\output\\2024-02-13_CustomDecodingResults.pkl\").resolve()\n",
    "# load_path = Path(r\"W:\\Data\\KDIBA\\gor01\\one\\2006-6-09_1-22-43\\output\\2024-02-13_9pm_CustomDecodingResults.pkl\").resolve()\n",
    "# load_path = Path(r\"W:\\Data\\KDIBA\\gor01\\one\\2006-6-09_1-22-43\\output\\2024-02-14_CustomDecodingResults.pkl\").resolve()\n",
    "# load_path = Path(r\"W:\\Data\\KDIBA\\gor01\\one\\2006-6-08_14-26-15\\output\\2024-02-15_CustomDecodingResults.pkl\").resolve()\n",
    "# load_path = Path(\"/media/halechr/MAX/Data/KDIBA/gor01/one/2006-6-08_14-26-15/output/2024-02-15_CustomDecodingResults.pkl\").resolve()\n",
    "# load_path = Path(\"/Users/pho/data/KDIBA/gor01/one/2006-6-09_1-22-43/output/2024-02-16_CustomDecodingResults.pkl\").resolve()\n",
    "# load_path = Path(\"/Users/pho/data/KDIBA/gor01/one/2006-6-09_1-22-43/output/2024-02-14_CustomDecodingResults.pkl\").resolve()\n",
    "# load_path = Path(\"/Users/pho/data/KDIBA/gor01/one/2006-6-09_1-22-43/output/2024-04-25_CustomDecodingResults.pkl\").resolve()\n",
    "# load_path = Path(r\"W:\\Data\\KDIBA\\gor01\\one\\2006-6-09_1-22-43\\output\\2024-04-25_CustomDecodingResults.pkl\").resolve() # APOGEE\n",
    "load_path = Path(r\"W:\\Data\\KDIBA\\gor01\\one\\2006-6-09_1-22-43\\output\\2024-04-28_CustomDecodingResults.pkl\").resolve()\n",
    "# load_path = Path(r\"W:\\Data\\KDIBA\\gor01\\two\\2006-6-09_22-24-40\\output\\2024-04-28_CustomDecodingResults.pkl\").resolve() # APOGEE\n",
    "\n",
    "\n",
    "assert load_path.exists()\n",
    "# loaded_dict = loadData(load_path, debug_print=False)\n",
    "# print_keys_if_possible('loaded_dict', loaded_dict)\n",
    "\n",
    "base_loaded_dict = loadData(load_path, debug_print=False)\n",
    "xbin = base_loaded_dict.pop('xbin', None)\n",
    "xbin_centers = base_loaded_dict.pop('xbin_centers', None)\n",
    "# ybin = deepcopy(long_pf2D.ybin)\n",
    "# ybin_centers = deepcopy(long_pf2D.ybin_centers)\n",
    "print(f\"xbin_centers: {xbin_centers}\")\n",
    "\n",
    "loaded_dict = base_loaded_dict['directional_decoders_epochs_decode_result']\n",
    "\n",
    "\n",
    "## UNPACK HERE:\n",
    "pos_bin_size: float = loaded_dict['pos_bin_size'] # 3.8632841399651463\n",
    "ripple_decoding_time_bin_size = loaded_dict['ripple_decoding_time_bin_size']\n",
    "laps_decoding_time_bin_size = loaded_dict['laps_decoding_time_bin_size']\n",
    "decoder_laps_filter_epochs_decoder_result_dict = loaded_dict['decoder_laps_filter_epochs_decoder_result_dict']\n",
    "decoder_ripple_filter_epochs_decoder_result_dict = loaded_dict['decoder_ripple_filter_epochs_decoder_result_dict']\n",
    "decoder_laps_radon_transform_df_dict = loaded_dict['decoder_laps_radon_transform_df_dict']\n",
    "decoder_ripple_radon_transform_df_dict = loaded_dict['decoder_ripple_radon_transform_df_dict']\n",
    "## New 2024-02-14 - Noon:\n",
    "decoder_laps_radon_transform_extras_dict = loaded_dict['decoder_laps_radon_transform_extras_dict']\n",
    "decoder_ripple_radon_transform_extras_dict = loaded_dict['decoder_ripple_radon_transform_extras_dict']\n",
    "\n",
    "laps_weighted_corr_merged_df = loaded_dict['laps_weighted_corr_merged_df']\n",
    "ripple_weighted_corr_merged_df = loaded_dict['ripple_weighted_corr_merged_df']\n",
    "laps_simple_pf_pearson_merged_df = loaded_dict['laps_simple_pf_pearson_merged_df']\n",
    "ripple_simple_pf_pearson_merged_df = loaded_dict['ripple_simple_pf_pearson_merged_df']\n",
    "\n",
    "_VersionedResultMixin_version = loaded_dict.pop('_VersionedResultMixin_version', None)\n",
    "\n",
    "# ## saved with:\n",
    "# save_dict = {\n",
    "# 'directional_decoders_epochs_decode_result': directional_decoders_epochs_decode_result.__getstate__(),\n",
    "# 'xbin': xbin, 'xbin_centers': xbin_centers\n",
    "# }\n",
    "\n",
    "\n",
    "\n",
    "\n",
    "directional_decoders_epochs_decode_result: DecoderDecodedEpochsResult = DecoderDecodedEpochsResult(**loaded_dict)\n",
    "# {'ripple_decoding_time_bin_size':ripple_decoding_time_bin_size, 'laps_decoding_time_bin_size':laps_decoding_time_bin_size, 'decoder_laps_filter_epochs_decoder_result_dict':decoder_laps_filter_epochs_decoder_result_dict, 'decoder_ripple_filter_epochs_decoder_result_dict':decoder_ripple_filter_epochs_decoder_result_dict, 'decoder_laps_radon_transform_df_dict':decoder_laps_radon_transform_df_dict, 'decoder_ripple_radon_transform_df_dict':decoder_ripple_radon_transform_df_dict}\n",
    "\n",
    "# pos_bin_size\n",
    "\n",
    "\n",
    "epoch_type_selector_dict = {'laps': {'decoder_filter_epochs_decoder_result_dict': decoder_laps_filter_epochs_decoder_result_dict, #'decoder_laps_radon_transform_df_dict': decoder_laps_radon_transform_df_dict,\n",
    "          'decoder_radon_transform_extras_dict': decoder_laps_radon_transform_extras_dict},\n",
    "'ripple': {'decoder_filter_epochs_decoder_result_dict': decoder_ripple_filter_epochs_decoder_result_dict, #'decoder_laps_radon_transform_df_dict': decoder_laps_radon_transform_df_dict,\n",
    "          'decoder_radon_transform_extras_dict': decoder_ripple_radon_transform_extras_dict},\n",
    "}\n"
   ]
  },
  {
   "cell_type": "code",
   "execution_count": 75,
   "metadata": {},
   "outputs": [
    {
     "data": {
      "text/plain": [
       "DecodedFilterEpochsResult(decoding_time_bin_size: float,\n",
       "\tfilter_epochs: pandas.core.frame.DataFrame,\n",
       "\tnum_filter_epochs: int,\n",
       "\tmost_likely_positions_list: list | shape (n_epochs),\n",
       "\tp_x_given_n_list: list | shape (n_epochs),\n",
       "\tmarginal_x_list: list | shape (n_epochs),\n",
       "\tmarginal_y_list: list | shape (n_epochs),\n",
       "\tmost_likely_position_indicies_list: list | shape (n_epochs),\n",
       "\tspkcount: list | shape (n_epochs),\n",
       "\tnbins: numpy.ndarray | shape (n_epochs),\n",
       "\ttime_bin_containers: list | shape (n_epochs),\n",
       "\ttime_bin_edges: list | shape (n_epochs),\n",
       "\tepoch_description_list: list | shape (n_epochs)\n",
       ")"
      ]
     },
     "execution_count": 75,
     "metadata": {},
     "output_type": "execute_result"
    }
   ],
   "source": [
    "# a_decoder_decoded_epochs_result: DecodedFilterEpochsResult = deepcopy(directional_decoders_epochs_decode_result.decoder_laps_filter_epochs_decoder_result_dict['long_LR'])\n",
    "a_decoder_decoded_epochs_result: DecodedFilterEpochsResult = deepcopy(directional_decoders_epochs_decode_result.decoder_ripple_filter_epochs_decoder_result_dict['long_LR'])\n",
    "a_decoder_decoded_epochs_result"
   ]
  },
  {
   "cell_type": "markdown",
   "metadata": {},
   "source": [
    "## 2024-05-03 Heuristic "
   ]
  },
  {
   "cell_type": "code",
   "execution_count": 52,
   "metadata": {},
   "outputs": [
    {
     "data": {
      "image/png": "[encoded data removed]",
      "text/plain": [
       "<PIL.Image.Image image mode=RGB size=400x844>"
      ]
     },
     "execution_count": 52,
     "metadata": {},
     "output_type": "execute_result"
    }
   ],
   "source": [
    "from pyphoplacecellanalysis.Analysis.Decoder.reconstruction import SingleEpochDecodedResult\n",
    "from pyphocorehelpers.plotting.media_output_helpers import get_array_as_image\n",
    "\n",
    "active_captured_single_epoch_result: SingleEpochDecodedResult = a_decoder_decoded_epochs_result.get_result_for_epoch(active_epoch_idx=4)\n",
    "posterior_image = active_captured_single_epoch_result.get_posterior_as_image(desired_width=400)\n",
    "posterior_image"
   ]
  },
  {
   "cell_type": "code",
   "execution_count": 53,
   "metadata": {},
   "outputs": [
    {
     "data": {
      "image/png": "[encoded data removed]",
      "text/plain": [
       "<PIL.Image.Image image mode=RGB size=400x844>"
      ]
     },
     "execution_count": 53,
     "metadata": {},
     "output_type": "execute_result"
    }
   ],
   "source": [
    "from scipy.signal import convolve2d\n",
    "\n",
    "# Define 8x8 blur filter kernel\n",
    "blur_kernel = np.ones((8, 8)) / 64\n",
    "\n",
    "# Apply blur to a 2D matrix\n",
    "blurred_matrix = convolve2d(active_captured_single_epoch_result.p_x_given_n, blur_kernel, mode='same', boundary='fill') # 'wrap'\n",
    "\n",
    "get_array_as_image(blurred_matrix, desired_width=400)\n",
    "\n"
   ]
  },
  {
   "cell_type": "code",
   "execution_count": null,
   "metadata": {},
   "outputs": [
    {
     "name": "stdout",
     "output_type": "stream",
     "text": [
      "Slider value: 95\n"
     ]
    },
    {
     "data": {
      "image/png": "[encoded data removed]",
      "text/plain": [
       "<PIL.Image.Image image mode=RGB size=80x200>"
      ]
     },
     "metadata": {},
     "output_type": "display_data"
    },
    {
     "data": {
      "image/png": "[encoded data removed]",
      "text/plain": [
       "<PIL.Image.Image image mode=RGB size=80x200>"
      ]
     },
     "metadata": {},
     "output_type": "display_data"
    }
   ],
   "source": [
    "import ipywidgets as widgets\n",
    "from IPython.display import display, Image, clear_output\n",
    "\n",
    "## Interactive update.\n",
    "\n",
    "active_captured_single_epoch_result: SingleEpochDecodedResult = a_decoder_decoded_epochs_result.get_result_for_epoch(active_epoch_idx=12)\n",
    "\n",
    "def on_slider_change(change):\n",
    "    clear_output(wait=True)  # Clear previous output\n",
    "    print(\"Slider value:\", change.new)\n",
    "    active_captured_single_epoch_result = a_decoder_decoded_epochs_result.get_result_for_epoch(active_epoch_idx=change.new)\n",
    "    posterior_image = active_captured_single_epoch_result.get_posterior_as_image(desired_height=200, skip_img_normalization=False)\n",
    "    # display(posterior_image)\n",
    "    \n",
    "    # Apply blur to a 2D matrix\n",
    "    blurred_matrix = convolve2d(active_captured_single_epoch_result.p_x_given_n, blur_kernel, mode='same', boundary='fill') # 'wrap'\n",
    "    blurred_image = get_array_as_image(blurred_matrix, desired_height=200)\n",
    "    # display(widgets.HBox([Image(posterior_image), Image(blurred_image)]))\n",
    "    display(posterior_image, blurred_image)\n",
    "\n",
    "slider = widgets.IntSlider(value=12, min=0, max=(a_decoder_decoded_epochs_result.num_filter_epochs-1))\n",
    "slider.observe(on_slider_change, names='value')\n",
    "out = widgets.Output()\n",
    "display(slider, out)\n",
    "# display(slider)\n",
    "\n",
    "# looking good epochs: 12\n"
   ]
  },
  {
   "cell_type": "code",
   "execution_count": null,
   "metadata": {},
   "outputs": [],
   "source": []
  },
  {
   "cell_type": "code",
   "execution_count": 72,
   "metadata": {},
   "outputs": [
    {
     "data": {
      "text/plain": [
       "array([0.732143, 0.75, 0.732143, 0.642857, 0.642857, 0.553571])"
      ]
     },
     "execution_count": 72,
     "metadata": {},
     "output_type": "execute_result"
    },
    {
     "data": {
      "text/plain": [
       "<matplotlib.collections.LineCollection object at 0x000002E101D9D880>"
      ]
     },
     "execution_count": 72,
     "metadata": {},
     "output_type": "execute_result"
    },
    {
     "data": {
      "text/plain": [
       "[<matplotlib.lines.Line2D object at 0x000002E10214D580>]"
      ]
     },
     "execution_count": 72,
     "metadata": {},
     "output_type": "execute_result"
    },
    {
     "data": {
      "text/plain": [
       "<matplotlib.collections.PathCollection object at 0x000002E0C9CAB130>"
      ]
     },
     "execution_count": 72,
     "metadata": {},
     "output_type": "execute_result"
    }
   ],
   "source": [
    "# *position_relative\": mapped between the ends of the track, 0.0 to 1.0\n",
    "most_likely_position_relative = (np.squeeze(active_captured_single_epoch_result.most_likely_position_indicies) / float(active_captured_single_epoch_result.n_xbins-1))\n",
    "most_likely_position_relative\n",
    "\n",
    "\n",
    "plt.hlines([0], colors='k', xmin=active_captured_single_epoch_result.time_bin_edges[0], xmax=active_captured_single_epoch_result.time_bin_edges[-1])\n",
    "plt.step(active_captured_single_epoch_result.time_bin_container.centers[1:], np.diff(most_likely_position_relative))\n",
    "plt.scatter(active_captured_single_epoch_result.time_bin_container.centers, most_likely_position_relative, color='r')\n"
   ]
  },
  {
   "cell_type": "code",
   "execution_count": null,
   "metadata": {},
   "outputs": [],
   "source": [
    "import pyphoplacecellanalysis.External.pyqtgraph as pg\n",
    "from pyphoplacecellanalysis.External.pyqtgraph.Qt import QtGui, QtCore, QtWidgets\n",
    "# from pyphoplacecellanalysis.External.pyqtgraph.parametertree.parameterTypes.file import popupFilePicker\n",
    "from pyphoplacecellanalysis.External.pyqtgraph.widgets.FileDialog import FileDialog\n",
    "\n",
    "from silx.gui import qt\n",
    "from silx.gui.dialog.ImageFileDialog import ImageFileDialog\n",
    "from silx.gui.dialog.DataFileDialog import DataFileDialog\n",
    "import silx.io\n",
    "\n",
    "from pyphoplacecellanalysis.GUI.IPyWidgets.pipeline_ipywidgets import saveFile\n",
    "\n",
    "app = pg.mkQApp('silx_testing')\n",
    "app"
   ]
  },
  {
   "cell_type": "code",
   "execution_count": null,
   "metadata": {},
   "outputs": [
    {
     "ename": "TypeError",
     "evalue": "addImage() got an unexpected keyword argument 'vmin'",
     "output_type": "error",
     "traceback": [
      "\u001b[1;31m---------------------------------------------------------------------------\u001b[0m\n",
      "\u001b[1;31mTypeError\u001b[0m                                 Traceback (most recent call last)\n",
      "Cell \u001b[1;32mIn[48], line 6\u001b[0m\n",
      "\u001b[0;32m      4\u001b[0m matrix \u001b[38;5;241m=\u001b[39m np\u001b[38;5;241m.\u001b[39mrandom\u001b[38;5;241m.\u001b[39mrand(\u001b[38;5;241m10\u001b[39m, \u001b[38;5;241m10\u001b[39m)  \u001b[38;5;66;03m# Example 2D matrix\u001b[39;00m\n",
      "\u001b[0;32m      5\u001b[0m plot \u001b[38;5;241m=\u001b[39m Plot2D()\n",
      "\u001b[1;32m----> 6\u001b[0m \u001b[43mplot\u001b[49m\u001b[38;5;241;43m.\u001b[39;49m\u001b[43maddImage\u001b[49m\u001b[43m(\u001b[49m\u001b[43mmatrix\u001b[49m\u001b[43m,\u001b[49m\u001b[43m \u001b[49m\u001b[43mcolormap\u001b[49m\u001b[38;5;241;43m=\u001b[39;49m\u001b[38;5;124;43m\"\u001b[39;49m\u001b[38;5;124;43mviridis\u001b[39;49m\u001b[38;5;124;43m\"\u001b[39;49m\u001b[43m,\u001b[49m\u001b[43m \u001b[49m\u001b[43mvmin\u001b[49m\u001b[38;5;241;43m=\u001b[39;49m\u001b[38;5;241;43m0\u001b[39;49m\u001b[43m,\u001b[49m\u001b[43m \u001b[49m\u001b[43mvmax\u001b[49m\u001b[38;5;241;43m=\u001b[39;49m\u001b[38;5;241;43m1\u001b[39;49m\u001b[43m)\u001b[49m\n",
      "\u001b[0;32m      7\u001b[0m plot\u001b[38;5;241m.\u001b[39mshow()\n",
      "\n",
      "\u001b[1;31mTypeError\u001b[0m: addImage() got an unexpected keyword argument 'vmin'"
     ]
    }
   ],
   "source": [
    "import numpy as np\n",
    "from silx.gui.plot import Plot2D\n",
    "\n",
    "matrix = np.random.rand(10, 10)  # Example 2D matrix\n",
    "plot = Plot2D()\n",
    "plot.addImage(matrix, colormap=\"viridis\", vmin=0, vmax=1)\n",
    "plot.show()"
   ]
  },
  {
   "cell_type": "code",
   "execution_count": null,
   "metadata": {},
   "outputs": [
    {
     "data": {
      "text/plain": [
       "0.3620689655172414"
      ]
     },
     "metadata": {},
     "output_type": "display_data"
    }
   ],
   "source": [
    "from pyphoplacecellanalysis.Analysis.Decoder.heuristic_replay_scoring import HeuristicReplayScoring\n",
    "\n",
    "HeuristicReplayScoring.bin_wise_track_coverage_score_fn(a_result=a_decoder_decoded_epochs_result, an_epoch_idx=active_captured_single_epoch_result.epoch_data_index, a_decoder_track_length=170.0)\n",
    "\n",
    "# np.diff(active_captured_single_epoch_result.most_likely_position_indicies)"
   ]
  },
  {
   "cell_type": "code",
   "execution_count": 3,
   "metadata": {},
   "outputs": [
    {
     "ename": "NameError",
     "evalue": "name 'a_decoder_decoded_epochs_result' is not defined",
     "output_type": "error",
     "traceback": [
      "\u001b[1;31m---------------------------------------------------------------------------\u001b[0m",
      "\u001b[1;31mNameError\u001b[0m                                 Traceback (most recent call last)",
      "Cell \u001b[1;32mIn[3], line 1\u001b[0m\n\u001b[1;32m----> 1\u001b[0m HeuristicReplayScoring\u001b[38;5;241m.\u001b[39mbin_wise_track_coverage_score_fn(a_result\u001b[38;5;241m=\u001b[39m\u001b[43ma_decoder_decoded_epochs_result\u001b[49m, an_epoch_idx\u001b[38;5;241m=\u001b[39mactive_captured_single_epoch_result\u001b[38;5;241m.\u001b[39mepoch_data_index, a_decoder_track_length\u001b[38;5;241m=\u001b[39m\u001b[38;5;241m170.0\u001b[39m)\n",
      "\u001b[1;31mNameError\u001b[0m: name 'a_decoder_decoded_epochs_result' is not defined"
     ]
    }
   ],
   "source": []
  },
  {
   "cell_type": "code",
   "execution_count": null,
   "metadata": {},
   "outputs": [],
   "source": [
    "HeuristicReplayScoring.bin_wise_track_coverage_score_fn(a_result=a_decoder_decoded_epochs_result, an_epoch_idx=active_captured_single_epoch_result.epoch_data"
   ]
  },
  {
   "cell_type": "code",
   "execution_count": null,
   "metadata": {},
   "outputs": [],
   "source": [
    "_index, a_decoder_track_length=170.0)\n"
   ]
  },
  {
   "cell_type": "code",
   "execution_count": 5,
   "metadata": {},
   "outputs": [
    {
     "name": "stderr",
     "output_type": "stream",
     "text": [
      "k:\\FastSwap\\AppData\\VSCode\\black\\.venv_black\\lib\\site-packages\\numpy\\lib\\nanfunctions.py:1217: RuntimeWarning: All-NaN slice encountered\n",
      "  r, k = function_base._ureduce(a, func=_nanmedian, axis=axis, out=out,\n"
     ]
    }
   ],
   "source": [
    "from pyphoplacecellanalysis.GUI.Silx.RadonTransformDebuggerWidget import RadonTransformDebugger, RadonDebugValue\n",
    "\n",
    "## GOOD\n",
    "\n",
    "# active_decoder_name: str = 'long_LR'\n",
    "# active_epoch_idx: int = 3\n",
    "\n",
    "# ## INPUTS: decoder_laps_radon_transform_extras_dict, decoder_laps_filter_epochs_decoder_result_dict\n",
    "# result: DecodedFilterEpochsResult = decoder_laps_filter_epochs_decoder_result_dict[active_decoder_name]\n",
    "# active_filter_epochs: pd.DataFrame = result.active_filter_epochs.to_dataframe()\n",
    "# num_neighbours, neighbors_arr = np.squeeze(deepcopy(decoder_laps_radon_transform_extras_dict[active_decoder_name]))\n",
    "\n",
    "dbgr = RadonTransformDebugger(pos_bin_size=pos_bin_size, xbin=xbin, xbin_centers=xbin_centers, **epoch_type_selector_dict['ripple'],\n",
    "                            active_epoch_idx=9)\n",
    "dbgr.build_GUI()\n"
   ]
  },
  {
   "cell_type": "code",
   "execution_count": null,
   "metadata": {},
   "outputs": [],
   "source": [
    "dbgr3 = RadonTransformDebugger(pos_bin_size=pos_bin_size, xbin=xbin, xbin_centers=xbin_centers, **epoch_type_selector_dict['ripple'],\n",
    "                            active_epoch_idx=43)\n",
    "dbgr3.build_GUI()"
   ]
  },
  {
   "cell_type": "code",
   "execution_count": null,
   "metadata": {},
   "outputs": [],
   "source": [
    "active_filter_epochs = deepcopy(dbgr.active_filter_epochs)\n",
    "active_filter_epochs\n"
   ]
  },
  {
   "cell_type": "code",
   "execution_count": null,
   "metadata": {},
   "outputs": [],
   "source": [
    "active_filter_epochs['intercept']\n"
   ]
  },
  {
   "cell_type": "code",
   "execution_count": null,
   "metadata": {},
   "outputs": [],
   "source": [
    "\n",
    "active_filter_epochs['duration']"
   ]
  },
  {
   "cell_type": "code",
   "execution_count": null,
   "metadata": {},
   "outputs": [],
   "source": [
    "dbgr.neighbors_arr[0].shape"
   ]
  },
  {
   "cell_type": "code",
   "execution_count": null,
   "metadata": {},
   "outputs": [],
   "source": [
    "only_compute_current_active_epoch_time_bins: bool = True\n",
    "\n",
    "## INPUTS: dbgr\n",
    "\n",
    "NP: int = [np.shape(p)[0] for p in dbgr.result.p_x_given_n_list][0] # just get the first one, they're all the same\n",
    "NT: NDArray = np.array([np.shape(p)[1] for p in dbgr.result.p_x_given_n_list]) # These are all different, depends on the length of the epoch.\n",
    "if only_compute_current_active_epoch_time_bins:\n",
    "    NT = NT[dbgr.active_epoch_idx] # an int\n",
    "\n",
    "\n",
    "if debug_print:\n",
    "    print(f'NP: {NP}, NT: {NT}')\n",
    "\n",
    "# 1-indexed: this was what the author provided, but it seems to be 1-indexed.\n",
    "# index_space_t_mid = ((NT + 1) / 2)\n",
    "# index_space_x_mid = ((NP+1)/2)\n",
    "\n",
    "# 0-indexed\n",
    "index_space_t_mid = ((NT) / 2)\n",
    "index_space_x_mid = ((NP)/2)\n",
    "\n",
    "if debug_print:\n",
    "    print(f'index_space_t_mid: {index_space_t_mid}, index_space_x_mid: {index_space_x_mid}')\n",
    "\n",
    "\n",
    "active_time_window_centers = deepcopy(dbgr.result.time_window_centers[dbgr.active_epoch_idx]) # will need this either way later\n",
    "\n",
    "if only_compute_current_active_epoch_time_bins:\n",
    "    ## only active index's bin:    \n",
    "    real_space_t_mid = ((active_time_window_centers[0]+active_time_window_centers[-1]) / 2)\n",
    "else:\n",
    "    ## all bins:\n",
    "    real_space_t_mid = np.array([((active_time_window_centers[0]+active_time_window_centers[-1]) / 2) for active_time_window_centers in dbgr.result.time_window_centers])\n",
    "\n",
    "real_space_x_mid = ((dbgr.xbin[-1]+dbgr.xbin[0])/2)\n",
    "\n",
    "\n",
    "## Conversion functions:\n",
    "convert_real_space_x_to_index_space_ri = lambda x: (((x - real_space_x_mid)/dbgr.pos_bin_size) + index_space_x_mid)\n",
    "\n",
    "# ## WORKING NOW:\n",
    "# convert_real_space_x_to_index_space_ri(dbgr.xbin)\n",
    "# convert_real_space_x_to_index_space_ri(dbgr.xbin_centers)\n",
    "\n",
    "convert_real_time_t_to_index_time_ci = lambda t: (((t - real_space_t_mid)/dbgr.time_bin_size) + index_space_t_mid)\n",
    "\n"
   ]
  },
  {
   "cell_type": "code",
   "execution_count": 7,
   "metadata": {},
   "outputs": [],
   "source": [
    "from pyphoplacecellanalysis.GUI.PyQtPlot.BinnedImageRenderingWindow import BasicBinnedImageRenderingWindow, LayoutScrollability\n",
    "\n",
    "# a posterior:\n",
    "xbin_labels = [str(v) for v in dbgr.xbin_centers]\n",
    "a_posterior = dbgr.result.p_x_given_n_list[dbgr.active_epoch_idx]\n",
    "active_time_window_centers = deepcopy(dbgr.result.time_window_centers[dbgr.active_epoch_idx])\n",
    "\n",
    "\n",
    "out = BasicBinnedImageRenderingWindow(a_posterior, active_time_window_centers, xbin_labels, name='posterior', title=f\"Posterior for epoch[{dbgr.active_epoch_idx}]\", variable_label='Avg Velocity', scrollability_mode=LayoutScrollability.SCROLLABLE)\n",
    "# out.add_data(row=1, col=0, matrix=active_eloy_analysis.pf_overlapDensity_2D, xbins=active_pf_2D_dt.xbin_labels, ybins=active_pf_2D_dt.ybin_labels, name='pf_overlapDensity', title='pf overlapDensity metric', variable_label='pf overlapDensity')\n",
    "# out.add_data(row=2, col=0, matrix=active_pf_2D.ratemap.occupancy, xbins=active_pf_2D.xbin, ybins=active_pf_2D.ybin, name='occupancy_seconds', title='Seconds Occupancy', variable_label='seconds')"
   ]
  },
  {
   "cell_type": "code",
   "execution_count": null,
   "metadata": {},
   "outputs": [],
   "source": [
    "dbgr2 = RadonTransformDebugger(pos_bin_size=pos_bin_size, xbin=xbin, xbin_centers=xbin_centers, decoder_laps_filter_epochs_decoder_result_dict=decoder_laps_filter_epochs_decoder_result_dict, decoder_laps_radon_transform_extras_dict=decoder_laps_radon_transform_extras_dict,\n",
    "                                active_epoch_idx=3)\n",
    "dbgr2.build_GUI()\n",
    "\n",
    "# without y[1] transforms:\n",
    "# position-frame line info:\n",
    "# \tstart_point: [0.0, 180.94939296367374],\t end_point: [6.438022000016645, 31.86580701670244],\t band_width: 15.221668466020978\n",
    "# index-frame line info:\n",
    "# \tstart_point: [0.0, 47.55047539436387],\t end_point: [257.5208800006658, 31.86580701670244],\t band_width: 15.221668466020978\n",
    "\n",
    "## with y[1] transforms:\n",
    "# position-frame line info:\n",
    "# \tstart_point: [0.0, 180.94939296367374],\t end_point: [6.438022000016645, 31.86580701670244],\t band_width: 15.221668466020978\n",
    "# index-frame line info:\n",
    "# \tstart_point: [0.0, 47.55047539436387],\t end_point: [257.5208800006658, 8.373801357672672],\t band_width: 15.221668466020978\n"
   ]
  },
  {
   "cell_type": "code",
   "execution_count": null,
   "metadata": {},
   "outputs": [],
   "source": [
    "dbgr2.band_roi.setInteractionMode(dbgr2.band_roi.BoundedMode)"
   ]
  },
  {
   "cell_type": "code",
   "execution_count": null,
   "metadata": {},
   "outputs": [],
   "source": [
    "dbgr.window.plot.setKeepDataAspectRatio(False)"
   ]
  },
  {
   "cell_type": "code",
   "execution_count": null,
   "metadata": {},
   "outputs": [],
   "source": [
    "dbgr.window.plot.resetZoom()"
   ]
  },
  {
   "cell_type": "code",
   "execution_count": null,
   "metadata": {},
   "outputs": [],
   "source": [
    "dbgr.update_GUI()"
   ]
  },
  {
   "cell_type": "code",
   "execution_count": null,
   "metadata": {},
   "outputs": [],
   "source": [
    "dbgr.active_epoch_idx = 5\n",
    "dbgr.update_GUI()\n"
   ]
  },
  {
   "cell_type": "code",
   "execution_count": null,
   "metadata": {},
   "outputs": [],
   "source": [
    "dbgr.active_epoch_idx = 6\n",
    "dbgr.update_GUI()\n"
   ]
  },
  {
   "cell_type": "code",
   "execution_count": null,
   "metadata": {},
   "outputs": [],
   "source": [
    "dbgr.active_epoch_idx = 12\n",
    "dbgr.update_GUI()\n"
   ]
  },
  {
   "cell_type": "code",
   "execution_count": null,
   "metadata": {},
   "outputs": [],
   "source": [
    "\n",
    "# a_posterior, (start_point, end_point, band_width), (active_num_neighbors, active_neighbors_arr) = dbgr.on_update_epoch_idx(active_epoch_idx=5)\n",
    "an_epoch_debug_value = dbgr.on_update_epoch_idx(active_epoch_idx=1)\n",
    "a_posterior, ((active_num_neighbors, active_neighbors_arr), (start_point, end_point, band_width)) = an_epoch_debug_value.a_posterior, ((an_epoch_debug_value.active_num_neighbors, an_epoch_debug_value.active_neighbors_arr), (an_epoch_debug_value.start_point, an_epoch_debug_value.end_point, an_epoch_debug_value.band_width))\n",
    "\n",
    "# dbgr.active_radon_values\n"
   ]
  },
  {
   "cell_type": "code",
   "execution_count": null,
   "metadata": {},
   "outputs": [],
   "source": [
    "np.shape(an_epoch_debug_value.active_neighbors_arr)\n"
   ]
  },
  {
   "cell_type": "code",
   "execution_count": null,
   "metadata": {},
   "outputs": [],
   "source": [
    "dbgr.active_epoch_idx = 16\n",
    "dbgr.update_GUI()"
   ]
  },
  {
   "cell_type": "code",
   "execution_count": null,
   "metadata": {},
   "outputs": [],
   "source": [
    "plot = dbgr.window.plot\n",
    "plot.getDefaultColormap().setName('viridis')\n",
    "plot.setKeepDataAspectRatio(True)"
   ]
  },
  {
   "cell_type": "code",
   "execution_count": null,
   "metadata": {
    "notebookRunGroups": {
     "groupValue": ""
    }
   },
   "outputs": [],
   "source": [
    "# import functools\n",
    "\n",
    "# from silx.gui import qt\n",
    "# from silx.gui.data.DataViewerFrame import DataViewerFrame\n",
    "# from silx.gui.plot import PlotWindow, ImageView\n",
    "# from silx.gui.plot.Profile import ProfileToolBar\n",
    "\n",
    "# from silx.gui.plot.tools.roi import RegionOfInterestManager\n",
    "# from silx.gui.plot.tools.roi import RegionOfInterestTableWidget\n",
    "# from silx.gui.plot.tools.roi import RoiModeSelectorAction\n",
    "# from silx.gui.plot.items.roi import RectangleROI, BandROI, LineROI\n",
    "# from silx.gui.plot.items import LineMixIn, SymbolMixIn, FillMixIn\n",
    "# from silx.gui.plot.actions import control as control_actions\n",
    "\n",
    "# from silx.gui.plot.ROIStatsWidget import ROIStatsWidget\n",
    "# from silx.gui.plot.StatsWidget import UpdateModeWidget\n",
    "# from silx.gui.plot import Plot2D\n",
    "\n",
    "# from RadonTransformDebuggerWidget import _RoiStatsDisplayExWindow, roi_radon_transform_score\n",
    "\n",
    "\n",
    "# # define stats to display\n",
    "# STATS = [\n",
    "#     # ('sum', np.sum),\n",
    "#     # ('mean', np.mean),\n",
    "#     ('shape', np.shape),\n",
    "#     ('score', roi_radon_transform_score),\n",
    "#     ('prev_score', (lambda arr: dbgr.active_radon_values.active_epoch_info_tuple.score)),\n",
    "#     ('prev_shape', (lambda arr: np.shape(dbgr.active_radon_values.active_neighbors_arr))),\n",
    "# ]\n",
    "\n",
    "\n",
    "# \"\"\"set up the roi stats example for images\"\"\"\n",
    "# # app = qt.QApplication([])\n",
    "\n",
    "\n",
    "# # rectangle_roi, polygon_roi, arc_roi = get_2D_rois()\n",
    "\n",
    "# ## INPUTS: band_roi\n",
    "\n",
    "# ## Get the current data for this index:\n",
    "# an_epoch_debug_value = dbgr.on_update_epoch_idx(active_epoch_idx=5)\n",
    "\n",
    "\n",
    "\n",
    "# ## Build the BandROI:\n",
    "# band_roi = BandROI()\n",
    "# band_roi.setGeometry(begin=dbgr.active_radon_values.start_point, end=dbgr.active_radon_values.end_point, width=dbgr.active_radon_values.band_width)\n",
    "# band_roi.setName('Radon ROI')\n",
    "\n",
    "\n",
    "# window = _RoiStatsDisplayExWindow()\n",
    "# window.setRois(rois2D=(band_roi,))\n",
    "\n",
    "\n",
    "# def _perform_update_band_ROI(start_point: Tuple[float, float], end_point: Tuple[float, float], band_width: float):\n",
    "#     \"\"\" Call to update the band ROI: \n",
    "#     `_perform_update_band_ROI(start_point=tuple(start_point), end_point=tuple(end_point), band_width=float(band_width))`\n",
    "\n",
    "#     captures: window, band_roi \n",
    "#     \"\"\"\n",
    "#     band_roi.setGeometry(begin=start_point, end=end_point, width=band_width)\n",
    "#     window.setRois(rois2D=(band_roi,))\n",
    "\n",
    "\n",
    "# # Create the thread that calls submitToQtMainThread\n",
    "# # updateThread = UpdateThread(window.plot)\n",
    "# # updateThread.start()  # Start updating the plot\n",
    "\n",
    "\n",
    "# # define some image and curve\n",
    "# window.plot.addImage(dbgr.active_radon_values.a_posterior, legend='P_x_given_n')\n",
    "# # window.plot.addImage(numpy.random.random(10000).reshape(100, 100), legend='img2', origin=(0, 100))\n",
    "# window.setStats(STATS)\n",
    "\n",
    "# # add some couple (plotItem, roi) to be displayed by default\n",
    "# img1_item = window.plot.getImage('P_x_given_n')\n",
    "# # img2_item = window.plot.getImage('img2')\n",
    "# # window.addItem(item=img2_item, roi=band_roi)\n",
    "# window.addItem(item=img1_item, roi=band_roi)\n",
    "# # window.addItem(item=img1_item, roi=arc_roi)\n",
    "\n",
    "# update_mode: str = 'auto'\n",
    "# window.setUpdateMode(update_mode)\n",
    "\n",
    "# window.show()\n",
    "# # app.exec()\n",
    "# # updateThread.stop()  # Stop updating the plot"
   ]
  },
  {
   "cell_type": "code",
   "execution_count": null,
   "metadata": {},
   "outputs": [],
   "source": [
    "for index in (5, 6, 7, 8):\n",
    "    window._curveRoiWidget.roiTable.setColumnHidden(index, False)\n",
    "    \n"
   ]
  },
  {
   "cell_type": "code",
   "execution_count": null,
   "metadata": {},
   "outputs": [],
   "source": [
    "# roi.computeProfile()\n",
    "\n",
    "curr_geo = band_roi.getGeometry()\n",
    "print(curr_geo)\n",
    "\n",
    "curr_geo.begin\n",
    "curr_geo.slope\n",
    "curr_geo.intercept\n",
    "curr_geo.edgesIntercept\n",
    "curr_geo.edgesIntercept\n",
    "curr_geo.corners\n",
    "\n",
    "\n",
    "roi_min_y_idx = int(np.rint(min(curr_geo.begin[1], curr_geo.end[1])))\n",
    "roi_max_y_idx = int(np.rint(max(curr_geo.begin[1], curr_geo.end[1])))\n",
    "\n",
    "roi_min_y_idx\n",
    "roi_max_y_idx\n",
    "\n",
    "y = lambda t: (curr_geo.slope * t) + curr_geo.intercept\n",
    "\n",
    "\n",
    "\n",
    "\n",
    "# (x1, y1), (x2, y2) = curr_geo.begin, curr_geo.end"
   ]
  },
  {
   "cell_type": "code",
   "execution_count": null,
   "metadata": {},
   "outputs": [],
   "source": [
    "posterior_n_pos, posterior_n_t = np.shape(dbgr.active_radon_values.a_posterior)\n",
    "# posterior_n_pos\n",
    "posterior_pos_max_idx = (posterior_n_pos - 1)\n",
    "\n",
    "\n",
    "y_low_range = np.arange(start=0, stop=roi_min_y_idx)\n",
    "y_high_range = np.arange(start=posterior_pos_max_idx, stop=roi_max_y_idx)\n",
    "\n",
    "y_low_range\n",
    "y_high_range\n"
   ]
  },
  {
   "cell_type": "code",
   "execution_count": null,
   "metadata": {},
   "outputs": [],
   "source": [
    "\n",
    "y_line =\n",
    "y_line = np.rint(y_line).astype(\"int\")\n",
    "\n",
    "# if line falls outside of array in a given bin, replace that with median posterior value of that bin across all positions\n",
    "t_out = np.where((y_line < 0) | (y_line > (posterior_n_pos - 1)))\n",
    "t_in = np.where((y_line >= 0) & (y_line <= (posterior_n_pos - 1)))\n",
    "\n"
   ]
  },
  {
   "cell_type": "code",
   "execution_count": null,
   "metadata": {},
   "outputs": [],
   "source": [
    "## Get the current data for this index:\n",
    "new_epoch_idx: int = 9\n",
    "an_epoch_debug_value = dbgr.on_update_epoch_idx(active_epoch_idx=new_epoch_idx)\n",
    "\n",
    "window.plot.addImage(an_epoch_debug_value.a_posterior)\n",
    "_perform_update_band_ROI(start_point=tuple(dbgr.active_radon_values.start_point), end_point=tuple(dbgr.active_radon_values.end_point), band_width=float(dbgr.active_radon_values.band_width))\n"
   ]
  },
  {
   "cell_type": "code",
   "execution_count": null,
   "metadata": {},
   "outputs": [],
   "source": [
    "_perform_update_band_ROI(start_point=tuple(an_epoch_debug_value.start_point), end_point=tuple(an_epoch_debug_value.end_point), band_width=float(an_epoch_debug_value.band_width))"
   ]
  },
  {
   "cell_type": "markdown",
   "metadata": {},
   "source": [
    "## 2024-04-25 - Prev Implementation from scratch but without ROI stats values table"
   ]
  },
  {
   "cell_type": "code",
   "execution_count": null,
   "metadata": {},
   "outputs": [],
   "source": [
    "\n",
    "# from silx import DataViewerFrame\n",
    "\n",
    "# viewer: DataViewerFrame = DataViewerFrame()\n",
    "# viewer.setData(a_posterior)\n",
    "# viewer.setVisible(True)\n",
    "\n",
    "## INPUTS: a_posterior, start_point, end_point, band_width\n",
    "\n",
    "plot = ImageView()  # Create a PlotWindow\n",
    "plot.getDefaultColormap().setName('viridis')\n",
    "plot.setKeepDataAspectRatio(True)\n",
    "plot.setImage(a_posterior)\n",
    "\n",
    "toolbar = ProfileToolBar(plot=plot)  # Create a profile toolbar\n",
    "toolbar.addAction(control_actions.OpenGLAction(parent=toolbar, plot=plot))\n",
    "plot.addToolBar(toolbar)  # Add it to plot\n",
    "\n",
    "profile_man = toolbar.getProfileManager()\n",
    "roi_man = profile_man.getRoiManager()\n",
    "roi_man.setColor('pink')  # Set the color of ROI\n",
    "\n",
    "# Set the name of each created region of interest\n",
    "def updateAddedRegionOfInterest(roi):\n",
    "    \"\"\"Called for each added region of interest: set the name\"\"\"\n",
    "    if roi.getName() == '':\n",
    "        roi.setName('ROI %d' % len(roi_man.getRois()))\n",
    "    if isinstance(roi, LineMixIn):\n",
    "        roi.setLineWidth(1)\n",
    "        roi.setLineStyle('--')\n",
    "    if isinstance(roi, SymbolMixIn):\n",
    "        roi.setSymbolSize(5)\n",
    "    roi.setSelectable(True)\n",
    "    roi.setEditable(True)\n",
    "\n",
    "\n",
    "roi_man.sigRoiAdded.connect(updateAddedRegionOfInterest)\n",
    "\n",
    "band_roi = BandROI()\n",
    "band_roi.setGeometry(begin=start_point, end=end_point, width=band_width)\n",
    "band_roi.setName('Radon ROI')\n",
    "\n",
    "def _perform_update_band_ROI(start_point: Tuple[float, float], end_point: Tuple[float, float], band_width: float):\n",
    "    \"\"\" Call to update the band ROI: \n",
    "    `_perform_update_band_ROI(start_point=tuple(start_point), end_point=tuple(end_point), band_width=float(band_width))`\n",
    "\n",
    "    captures: band_roi \n",
    "    \"\"\"\n",
    "    band_roi.setGeometry(begin=start_point, end=end_point, width=band_width)\n",
    "    \n",
    "\n",
    "roi_man.addRoi(band_roi)\n",
    "roi_man.setColor(color='pink')\n",
    "roi_man.setCurrentRoi(roi=band_roi)\n",
    "\n",
    "# Create the table widget displaying\n",
    "roiTable = RegionOfInterestTableWidget()\n",
    "roiTable.setRegionOfInterestManager(roi_man)\n",
    "\n",
    "## Profile form GUI is done by:\n",
    "# self.lineAction = self._manager.createProfileAction(rois.ProfileImageLineROI, self)\n",
    "# self.freeLineAction = self._manager.createProfileAction(rois.ProfileImageDirectedLineROI, self)\n",
    "\n",
    "# Create a toolbar containing buttons for all ROI 'drawing' modes\n",
    "roiToolbar = qt.QToolBar()  # The layout to store the buttons\n",
    "roiToolbar.setIconSize(qt.QSize(16, 16))\n",
    "\n",
    "for roiClass in roi_man.getSupportedRoiClasses():\n",
    "    # Create a tool button and associate it with the QAction of each mode\n",
    "    action = roi_man.getInteractionModeAction(roiClass)\n",
    "    roiToolbar.addAction(action)\n",
    "\n",
    "roiToolbarEdit = AutoHideToolBar()\n",
    "modeSelectorAction = RoiModeSelectorAction()\n",
    "modeSelectorAction.setRoiManager(roi_man)\n",
    "roiToolbarEdit.addAction(modeSelectorAction)\n",
    "\n",
    "# Add the region of interest table and the buttons to a dock widget\n",
    "widget = qt.QWidget()\n",
    "layout = qt.QVBoxLayout()\n",
    "widget.setLayout(layout)\n",
    "layout.addWidget(roiToolbar)\n",
    "layout.addWidget(roiToolbarEdit)\n",
    "layout.addWidget(roiTable)\n",
    "\n",
    "\n",
    "def roiDockVisibilityChanged(visible):\n",
    "    \"\"\"Handle change of visibility of the roi dock widget\n",
    "\n",
    "    If dock becomes hidden, ROI interaction is stopped.\n",
    "    \"\"\"\n",
    "    if not visible:\n",
    "        roi_man.stop()\n",
    "\n",
    "dock = qt.QDockWidget('RadonTransform ROI')\n",
    "dock.setWidget(widget)\n",
    "dock.visibilityChanged.connect(roiDockVisibilityChanged)\n",
    "plot.addTabbedDockWidget(dock)\n",
    "\n",
    "# Show the widget and start the application\n",
    "plot.show()  # To display the PlotWindow with the profile toolbar\n"
   ]
  },
  {
   "cell_type": "code",
   "execution_count": null,
   "metadata": {},
   "outputs": [],
   "source": [
    "\n",
    "\n",
    "_perform_update_band_ROI(start_point=tuple(start_point), end_point=tuple(end_point), band_width=float(band_width))\n"
   ]
  },
  {
   "cell_type": "code",
   "execution_count": null,
   "metadata": {},
   "outputs": [],
   "source": [
    "\n",
    "# profile_man.\n",
    "# roi_man.getRois()\n",
    "\n",
    "# roi = profile_man.getCurrentRoi()\n",
    "roi = roi_man.getCurrentRoi()\n",
    "roi"
   ]
  },
  {
   "cell_type": "code",
   "execution_count": null,
   "metadata": {},
   "outputs": [],
   "source": [
    "# roi.computeProfile()\n",
    "\n",
    "curr_geo = band_roi.getGeometry()\n",
    "print(curr_geo)\n",
    "\n",
    "curr_geo.begin\n",
    "curr_geo.slope\n",
    "curr_geo.intercept\n",
    "curr_geo.edgesIntercept\n",
    "curr_geo.edgesIntercept\n",
    "\n",
    "y = lambda t: (curr_geo.slope * t) + curr_geo.intercept\n",
    "\n",
    "\n",
    "\n",
    "\n",
    "# (x1, y1), (x2, y2) = curr_geo.begin, curr_geo.end"
   ]
  },
  {
   "cell_type": "code",
   "execution_count": null,
   "metadata": {},
   "outputs": [],
   "source": [
    "# roi = profile_man.getCurrentRoi()\n",
    "# (x1, y1), (x2, y2) = roi.getEndPoints() # (array([27.0929, 67.4479]), array([463.253, -0.58816]))\n",
    "\n",
    "## BAND\n",
    "(x1, y1), (x2, y2) = curr_geo.begin, curr_geo.end\n",
    "\n",
    "# Compute slope/intercept\n",
    "slope = (y2 - y1) / (x2 - x1)\n",
    "intercept = y2 - (slope * x1)\n",
    "print(f'slope: {slope}')\n",
    "print(f'intercept: {intercept}')"
   ]
  },
  {
   "cell_type": "code",
   "execution_count": null,
   "metadata": {},
   "outputs": [],
   "source": [
    "neighbors = roi.getProfileLineWidth()\n",
    "neighbors"
   ]
  },
  {
   "cell_type": "code",
   "execution_count": null,
   "metadata": {},
   "outputs": [],
   "source": [
    "dx: float = pos_bin_size\n",
    "dt: float = laps_decoding_time_bin_size\n",
    "intercept_real_units: float = intercept * dx\n",
    "slope_real_units: float = slope * (dx / dt)\n",
    "\n",
    "print(f'intercept_real_units: {intercept_real_units}, slope_real_units: {slope_real_units}')"
   ]
  },
  {
   "cell_type": "code",
   "execution_count": null,
   "metadata": {},
   "outputs": [],
   "source": [
    "arr = deepcopy(a_posterior)\n",
    "posterior_mean = compute_score(arr, y_line)\n"
   ]
  },
  {
   "cell_type": "code",
   "execution_count": null,
   "metadata": {},
   "outputs": [],
   "source": [
    "# viewer.getReachableViews()\n",
    "imgView = viewer.currentAvailableViews()[1] # returns `[<silx.gui.data.DataViews._RawView object at 0x7f03b42270a0>, <silx.gui.data.DataViews._ImageView object at 0x7f03b4227e20>, <silx.gui.data.DataViews._Plot1dView object at 0x7f03b42271f0>]`\n",
    "imgView.getWidget()\n",
    "# viewer.getProfileManager()\n"
   ]
  },
  {
   "cell_type": "code",
   "execution_count": null,
   "metadata": {},
   "outputs": [],
   "source": [
    "from pyphoplacecellanalysis.GUI.IPyWidgets.pipeline_ipywidgets import openDialogAtHome\n",
    "dialog, result = openDialogAtHome()"
   ]
  },
  {
   "cell_type": "code",
   "execution_count": null,
   "metadata": {},
   "outputs": [],
   "source": [
    "dialog = DataFileDialog()\n",
    "dialog"
   ]
  },
  {
   "cell_type": "code",
   "execution_count": null,
   "metadata": {},
   "outputs": [],
   "source": [
    "# class SaveAsManager:\n",
    "# \t@QtCore.pyqtSlot(object)\n",
    "# \tdef _on_save_file(self, fileName=None):\n",
    "# \t\tprint(f'_on_save_file(fileName: {fileName})')\n",
    "\n",
    "\n",
    "# \tdef saveFile(self, on_save_file_callback, fileName=None, startDir=None, suggestedFileName='custom_node.pEval'):\n",
    "# \t\t\"\"\"Save this Custom Eval Node to a .pEval file\n",
    "# \t\t\"\"\"\n",
    "# \t\tif fileName is None:\n",
    "# \t\t\tif startDir is None:\n",
    "# \t\t\t\tstartDir = '.'\n",
    "# \t\t\tfileDialog = FileDialog(None, \"Save h5 as..\", startDir, \"H5py File (*.h5)\")\n",
    "# \t\t\tfileDialog.setDefaultSuffix(\"h5\")\n",
    "# \t\t\tfileDialog.setAcceptMode(QtWidgets.QFileDialog.AcceptMode.AcceptSave) \n",
    "# \t\t\tfileDialog.show()\n",
    "# \t\t\tfileDialog.fileSelected.connect(on_save_file_callback)\n",
    "# \t\t\treturn fileDialog\n",
    "# \t\t# configfile.writeConfigFile(self.eval_node.saveState(), fileName)\n",
    "# \t\t# self.sigFileSaved.emit(fileName)\n",
    "\n",
    "# \tfileDialog = saveFile(_on_save_file, fileName=None, startDir=None, suggestedFileName='test_file_name.h5')\n",
    "# \tfileDialog.exec_()\n",
    "\n",
    "\n",
    "# @QtCore.pyqtSlot(object)\n",
    "# def _on_save_file(fileName=None):\n",
    "# \tprint(f'_on_save_file(fileName: {fileName})')\n",
    "\n",
    "# def saveFile(on_save_file_callback, fileName=None, startDir=None, suggestedFileName='custom_node.pEval'):\n",
    "# \t\"\"\"Save this Custom Eval Node to a .pEval file\n",
    "# \t\"\"\"\n",
    "# \tif startDir is None:\n",
    "# \t\tstartDir = '.'\n",
    "# \tfileDialog = FileDialog(None, \"Save h5 as..\", startDir, \"H5py File (*.h5)\")\n",
    "# \tfileDialog.setDefaultSuffix(\"h5\")\n",
    "# \tfileDialog.setAcceptMode(QtWidgets.QFileDialog.AcceptMode.AcceptSave) \n",
    "# \tfileDialog.show()\n",
    "# \tfileDialog.fileSelected.connect(on_save_file_callback)\n",
    "# \tfileDialog.exec_() # open modally\n",
    "# \treturn fileDialog\n",
    "# configfile.writeConfigFile(self.eval_node.saveState(), fileName)\n",
    "# self.sigFileSaved.emit(fileName)\n",
    "\n",
    "# lambda fileName: print(f'_on_save_file(fileName: {fileName})')\n",
    "\n",
    "fileDialog = saveFile(lambda fileName: print(f'_on_save_file(fileName: {fileName})'), caption=\"Save as..\",, startDir=None, suggestedFileName='test_file_name.h5')\n",
    "# fileDialog.exec_()"
   ]
  },
  {
   "cell_type": "code",
   "execution_count": null,
   "metadata": {},
   "outputs": [],
   "source": [
    "fileDialog = saveFile(lambda fileName: print(f'_on_save_file(fileName: {fileName})'), caption=\"Save pickle as..\", startDir=None, suggestedFileName='test.pkl', filter=\"Pickle File (*.pkl)\", default_suffix=\"pkl\")"
   ]
  },
  {
   "cell_type": "code",
   "execution_count": null,
   "metadata": {},
   "outputs": [],
   "source": [
    "fileDialog = saveFile(lambda fileName: print(f'_on_save_file(fileName: {fileName})'), caption=\"Save HDF5 file as..\", startDir=None, suggestedFileName='test.h5', filter=\"H5py File (*.h5)\", default_suffix=\"h5\")"
   ]
  },
  {
   "cell_type": "code",
   "execution_count": null,
   "metadata": {},
   "outputs": [],
   "source": [
    "fileName = QtWidgets.QFileDialog.getSaveFileName(\n",
    "            self,\n",
    "            f\"{translate('TableWidget', 'Save As')}...\",\n",
    "            \"\",\n",
    "            f\"{translate('TableWidget', 'Tab-separated values')} (*.tsv)\"\n",
    "        )\n",
    "        if isinstance(fileName, tuple):\n",
    "            fileName = fileName[0]  # Qt4/5 API difference\n",
    "        if fileName == '':\n",
    "            return\n",
    "        with open(fileName, 'w') as fd:\n",
    "            fd.write(data)"
   ]
  },
  {
   "cell_type": "markdown",
   "metadata": {},
   "source": [
    "# 2024-04-25 - Interactive Posterior Constructor"
   ]
  },
  {
   "cell_type": "code",
   "execution_count": null,
   "metadata": {},
   "outputs": [],
   "source": [
    "import sys\n",
    "from PyQt5.QtWidgets import (QApplication, QMainWindow, QWidget, QVBoxLayout, \n",
    "                             QPushButton, QLabel, QGridLayout, QMessageBox)\n",
    "from PyQt5.QtCore import Qt\n",
    "from PyQt5.QtGui import QPainter, QColor, QBrush\n",
    "\n",
    "class WeightPainter(QMainWindow):\n",
    "    def __init__(self, n=5, m=5):\n",
    "        super().__init__()\n",
    "        self.n = n  # Rows\n",
    "        self.m = m  # Columns\n",
    "        self.weights = [[0.0 for _ in range(self.m)] for _ in range(self.n)]\n",
    "        self.current_tool = None\n",
    "        self.init_ui()\n",
    "\n",
    "    def init_ui(self):\n",
    "        self.central_widget = QWidget()\n",
    "        self.setCentralWidget(self.central_widget)\n",
    "\n",
    "        self.layout = QVBoxLayout()\n",
    "        self.buttons_layout = QGridLayout()\n",
    "        self.grid_layout = QGridLayout()\n",
    "        self.layout.addLayout(self.buttons_layout)\n",
    "        self.layout.addLayout(self.grid_layout)\n",
    "        self.central_widget.setLayout(self.layout)\n",
    "\n",
    "        # Add buttons\n",
    "        self.paint_button = QPushButton('Paint Weights', self)\n",
    "        self.erase_button = QPushButton('Erase Weights', self)\n",
    "        self.buttons_layout.addWidget(self.paint_button, 0, 0)\n",
    "        self.buttons_layout.addWidget(self.erase_button, 0, 1)\n",
    "\n",
    "        # Connect buttons to methods\n",
    "        self.paint_button.clicked.connect(lambda: self.select_tool('paint'))\n",
    "        self.erase_button.clicked.connect(lambda: self.select_tool('erase'))\n",
    "\n",
    "        # Create labels for the matrix\n",
    "        self.labels = [[QLabel('0.00', self) for _ in range(self.m)] for _ in range(self.n)]\n",
    "        for i in range(self.n):\n",
    "            for j in range(self.m):\n",
    "                label = self.labels[i][j]\n",
    "                label.setStyleSheet(\"QLabel { background-color: white; }\")\n",
    "                label.setAlignment(Qt.AlignCenter)\n",
    "                self.grid_layout.addWidget(label, i, j)\n",
    "\n",
    "        # Click event\n",
    "        for row in self.labels:\n",
    "            for label in row:\n",
    "                label.mousePressEvent = self.cell_clicked\n",
    "\n",
    "        # Window settings\n",
    "        self.setGeometry(300, 300, 350, 250)\n",
    "        self.setWindowTitle('Weight Painter')\n",
    "        self.show()\n",
    "\n",
    "    def select_tool(self, tool):\n",
    "        self.current_tool = tool\n",
    "        if tool == 'paint':\n",
    "            self.paint_button.setEnabled(False)\n",
    "            self.erase_button.setEnabled(True)\n",
    "        elif tool == 'erase':\n",
    "            self.paint_button.setEnabled(True)\n",
    "            self.erase_button.setEnabled(False)\n",
    "\n",
    "    def cell_clicked(self, event):\n",
    "        if self.current_tool is None:\n",
    "            QMessageBox.information(self, 'No tool selected',\n",
    "                                    \"Please select a tool before editing the weights.\")\n",
    "            return\n",
    "        \n",
    "        label = event.widget()\n",
    "        i, j = self.get_label_position(label)\n",
    "        if self.current_tool == 'paint':\n",
    "            self.weights[i][j] += 0.1  # Increment weight\n",
    "        elif self.current_tool == 'erase':\n",
    "            self.weights[i][j] -= 0.1  # Decrement weight\n",
    "            if self.weights[i][j] < 0:\n",
    "                self.weights[i][j] = 0  # Prevent negative weights\n",
    "\n",
    "        self.renormalize_column(j)\n",
    "        self.update_labels()\n",
    "\n",
    "    def get_label_position(self, label):\n",
    "        for i, row in enumerate(self.labels):\n",
    "            if label in row:\n",
    "                return i, row.index(label)\n",
    "\n",
    "    def renormalize_column(self, column):\n",
    "        column_sum = sum(self.weights[i][column] for i in range(self.n))\n",
    "        if column_sum == 0:\n",
    "            return  # Avoid division by zero\n",
    "        for i in range(self.n):\n",
    "            self.weights[i][column] /= column_sum\n",
    "\n",
    "    def update_labels(self):\n",
    "        for i in range(self.n):\n",
    "            for j in range(self.m):\n",
    "                self.labels[i][j].setText(f\"{self.weights[i][j]:.2f}\")\n",
    "\n",
    "# def main():\n",
    "#     app = QApplication(sys.argv)\n",
    "#     ex = WeightPainter()\n",
    "#     sys.exit(app.exec_())\n",
    "\n",
    "# if __name__ == '__main__':\n",
    "#     main()\n",
    "                \n",
    "ex = WeightPainter()\n",
    "ex.show()\n",
    "ex"
   ]
  },
  {
   "cell_type": "code",
   "execution_count": null,
   "metadata": {},
   "outputs": [],
   "source": [
    "ex.show()"
   ]
  },
  {
   "cell_type": "code",
   "execution_count": null,
   "metadata": {},
   "outputs": [],
   "source": []
  }
 ],
 "metadata": {
  "kernelspec": {
   "display_name": ".venv",
   "language": "python",
   "name": "python3"
  },
  "language_info": {
   "codemirror_mode": {
    "name": "ipython",
    "version": 3
   },
   "file_extension": ".py",
   "mimetype": "text/x-python",
   "name": "python",
   "nbconvert_exporter": "python",
   "pygments_lexer": "ipython3",
   "version": "3.9.13"
  },
  "orig_nbformat": 4
 },
 "nbformat": 4,
 "nbformat_minor": 2
}
