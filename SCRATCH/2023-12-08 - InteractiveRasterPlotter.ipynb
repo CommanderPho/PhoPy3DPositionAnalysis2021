{
 "cells": [
  {
   "cell_type": "code",
   "execution_count": 12,
   "metadata": {
    "notebookRunGroups": {
     "groupValue": "1"
    }
   },
   "outputs": [
    {
     "name": "stdout",
     "output_type": "stream",
     "text": [
      "Automatic pdb calling has been turned OFF\n",
      "The viztracer extension is already loaded. To reload it, use:\n",
      "  %reload_ext viztracer\n",
      "The autoreload extension is already loaded. To reload it, use:\n",
      "  %reload_ext autoreload\n"
     ]
    }
   ],
   "source": [
    "%config IPCompleter.use_jedi = False\n",
    "%pdb off\n",
    "%load_ext viztracer\n",
    "from viztracer import VizTracer\n",
    "%load_ext autoreload\n",
    "%autoreload 3\n",
    "import sys\n",
    "from typing import Dict, List, Tuple, Optional\n",
    "from pathlib import Path\n",
    "\n",
    "# required to enable non-blocking interaction:\n",
    "%gui qt5\n",
    "\n",
    "import matplotlib.pyplot as plt\n",
    "from nptyping.ndarray import NDArray\n",
    "import numpy as np\n",
    "import pandas as pd\n",
    "import ipywidgets as widgets\n",
    "from IPython.display import display\n",
    "import scipy\n",
    "import scipy.stats\n",
    "\n",
    "%matplotlib widget\n",
    "import matplotlib.patches as patches\n",
    "from matplotlib.widgets import Button\n",
    "\n",
    "\n",
    "from neuropy.core.user_annotations import metadata_attributes, function_attributes\n",
    "\n",
    "from pyphoplacecellanalysis.General.Pipeline.Stages.ComputationFunctions.MultiContextComputationFunctions.RankOrderComputations import RankOrderAnalyses\n",
    "\n",
    "\n",
    "@function_attributes(short_name=None, tags=['spearman', 'rank-order'], input_requires=[], output_provides=[], uses=[], used_by=[], creation_date='2023-12-08 12:33', related_items=[])\n",
    "def calculate_spearman_correlation(spikes_df, shared_aclus_only_neuron_IDs, active_aclu_to_fragile_linear_neuron_IDX_dict, long_pf_peak_ranks, epoch_id:int=0, rank_alignment: str = 'first'):\n",
    "    \"\"\" \n",
    "    Used to compute the spearman rank-order correlation from \n",
    "    \n",
    "    History copied from `pyphoplacecellanalysis.General.Pipeline.Stages.ComputationFunctions.MultiContextComputationFunctions.RankOrderComputations.RankOrderAnalyses.compute_shuffled_rankorder_analyses`\n",
    "        On 2023-12-08 \n",
    "    \n",
    "    \"\"\"\n",
    "    if len(spikes_df) < 2:\n",
    "        return None\n",
    "\n",
    "    output_dict = {}\n",
    "\n",
    "    epoch_ranked_aclus_dict, epoch_ranked_fragile_linear_neuron_IDX_dict, epoch_selected_spikes_fragile_linear_neuron_IDX_dict, selected_spikes_only_df = RankOrderAnalyses.select_and_rank_spikes(spikes_df, active_aclu_to_fragile_linear_neuron_IDX_dict, rank_alignment, time_variable_name_override='t')\n",
    "\n",
    "    ## TODO: might need to get the specific aclus that are active in the epoch and limit to the intersection of those and the current decoder:\n",
    "    epoch_spikes_active_aclus = np.array(list(epoch_ranked_aclus_dict[epoch_id].keys())) # get the actual aclus instead of the indicies here.\n",
    "    epoch_spikes_active_ranks = np.array(list(epoch_ranked_aclus_dict[epoch_id].values()))\n",
    "    ## 2. Now get the template aclus to filter the epoch_active_aclus by (note there are way more `epoch_active_aclus` (like 81) than template ones.\n",
    "    # shared_aclus_only_neuron_IDs # (for now). In the future the `template_aclus` might be template-specific instead of shared:\n",
    "    template_aclus: NDArray = shared_aclus_only_neuron_IDs\n",
    "    is_epoch_aclu_included_in_template: NDArray[np.bool_] = np.isin(epoch_spikes_active_aclus, template_aclus) # a bool array indicating whether each aclu active in the epoch (spikes_df) is included in the template.\n",
    "\n",
    "\n",
    "    # BEGIN 2023-11-22 NEW Implementation: _______________________________________________________________________________ #\n",
    "\n",
    "    # Chop the template down to the active spikes AND chop the active spikes down to the template:\n",
    "    actually_included_epoch_aclus = epoch_spikes_active_aclus[is_epoch_aclu_included_in_template] # note this must be strictly smaller than the template aclus, AND strictly less than the epoch_active_aclus.\n",
    "    actually_included_epoch_ranks = epoch_spikes_active_ranks[is_epoch_aclu_included_in_template]\n",
    "\n",
    "    #TODO 2023-11-22 11:30: - [ ] Does chopping the template down vs. leaving those entries in there change the spearman?\n",
    "\n",
    "    # long_pf_peak_ranks, short_pf_peak_ranks\n",
    "    assert np.shape(long_pf_peak_ranks) == np.shape(shared_aclus_only_neuron_IDs)\n",
    "    # assert np.shape(short_pf_peak_ranks) == np.shape(shared_aclus_only_neuron_IDs)\n",
    "    \n",
    "    # Chop the other direction:\n",
    "    is_template_aclu_actually_active_in_epoch: NDArray = np.isin(template_aclus, actually_included_epoch_aclus) # a bool array indicating whether each aclu in the template is active in  in the epoch (spikes_df). Used for indexing into the template peak_ranks (`long_pf_peak_ranks`, `short_pf_peak_ranks`)\n",
    "    template_epoch_actually_included_aclus: NDArray = np.array(template_aclus)[is_template_aclu_actually_active_in_epoch] ## `actually_included_template_aclus`: the final aclus for this template actually active in this epoch\n",
    "\n",
    "    epoch_active_long_pf_peak_ranks = np.array(long_pf_peak_ranks)[is_template_aclu_actually_active_in_epoch]\n",
    "    # epoch_active_short_pf_peak_ranks = np.array(short_pf_peak_ranks)[is_template_aclu_actually_active_in_epoch]\n",
    "    #TODO 2023-11-22 11:35: - [ ] Is there the possibility that the template doesn't have spikes that are present in the epoch? I think so in general.\n",
    "    # assert np.shape(epoch_active_short_pf_peak_ranks) == np.shape(actually_included_epoch_ranks), f\"np.shape(epoch_active_short_pf_peak_ranks): {np.shape(epoch_active_short_pf_peak_ranks)}, np.shape(actually_included_epoch_ranks): {np.shape(actually_included_epoch_ranks)}\\n\\tTODO 2023-11-22 11:35: - [ ] Is there the possibility that the template doesn't have spikes that are present in the epoch? I think so in general.\" # \n",
    "    # assert np.shape(epoch_active_short_pf_peak_ranks) == np.shape(epoch_active_long_pf_peak_ranks)\n",
    "    # NEW 2023-11-22 - So now have: actually_included_epoch_aclus, actually_included_epoch_ranks, (actually_included_template_aclus, epoch_active_long_pf_peak_ranks, epoch_active_short_pf_peak_ranks)\n",
    "\n",
    "    # END NEW:\n",
    "\n",
    "    # 4. Final step is getting the actual indicies into the template aclus (the template-relative neuronIDXs):\n",
    "    _template_aclu_list = list(template_aclus) # convert to a temporary basic python list so that `.index(aclu)` works in the next line.\n",
    "    template_epoch_neuron_IDXs: NDArray[int] = np.array([_template_aclu_list.index(aclu) for aclu in actually_included_epoch_aclus]) # should be the appropriate neuronIDXs in the template-relative array\n",
    "\n",
    "    epoch_ranked_fragile_linear_neuron_IDXs_array = epoch_ranked_fragile_linear_neuron_IDX_dict[epoch_id]\n",
    "    epoch_neuron_IDX_ranks = np.squeeze(epoch_ranked_fragile_linear_neuron_IDXs_array[is_epoch_aclu_included_in_template,1]) # the ranks just for this epoch, just for this template\n",
    "    \n",
    "\n",
    "    # FINAL NOTE: `actually_included_template_aclus`, `template_epoch_neuron_IDXs` contain the actual IDX and aclus for this template active during this epoch\n",
    "\n",
    "    # Note that now (after boolean slicing), both `epoch_neuron_IDXs` and `epoch_neuron_IDX_ranks` can be LESS than the `shared_aclus_only_neuron_IDs`. They are indexed?\n",
    "    # Instead of `epoch_neuron_IDXs`, use `template_epoch_neuron_IDXs` to the get neuron_IDXs relative to this template:`\n",
    "    assert np.size(template_epoch_neuron_IDXs) == np.size(epoch_neuron_IDX_ranks), f\"{np.size(epoch_neuron_IDX_ranks)} and len(template_epoch_neuron_IDXs): {np.size(template_epoch_neuron_IDXs)}\"\n",
    "\n",
    "    #TODO 2023-11-22 08:35: - [ ] keep da' indicies we actually use for this template/epoch. They're needed in the RankOrderRastersDebugger.\n",
    "    output_dict[epoch_id] = (template_epoch_neuron_IDXs, template_epoch_actually_included_aclus, epoch_neuron_IDX_ranks) # might need multiple for each templates if they aren't clipped to shared.\n",
    "\n",
    "    ## EPOCH SPECIFIC:\n",
    "    long_spearmanr_rank_stats_results = []\n",
    "    short_spearmanr_rank_stats_results = []\n",
    "\n",
    "    # The \"real\" result for this epoch:\n",
    "    # active_epoch_aclu_long_ranks = relative_re_ranking(long_pf_peak_ranks, template_epoch_neuron_IDXs, disable_re_ranking=disable_re_ranking) # encountering np.shape(epoch_neuron_IDXs): (41,) but np.shape(long_pf_peak_ranks): (34,)\n",
    "    # real_long_rank_stats = scipy.stats.spearmanr(active_epoch_aclu_long_ranks, epoch_neuron_IDX_ranks)\n",
    "    # NEW 2023-11-22: epoch_active_long_pf_peak_ranks mode:\n",
    "    active_epoch_aclu_long_ranks = epoch_active_long_pf_peak_ranks\n",
    "    real_long_rank_stats = scipy.stats.spearmanr(active_epoch_aclu_long_ranks, actually_included_epoch_ranks)\n",
    "    real_long_result_corr_value = real_long_rank_stats.statistic\n",
    "\n",
    "    return real_long_result_corr_value #, output_dict\n",
    "\n",
    "@metadata_attributes(short_name=None, tags=['interactive', 'matplotlib', 'widget', 'jupyter', 'raster', 'spikes', 'debug', 'rank-order', 'spearman'], input_requires=[], output_provides=[], uses=[], used_by=[], creation_date='2023-12-08 12:31', related_items=[])\n",
    "class InteractiveRasterBuilderWidget:\n",
    "    \"\"\" displays an interactive raster plot widget that allows you to click to add \"spikes\" and assess the effects on spearman rank-order\n",
    "    \n",
    "    💚 2023-12-08 - Add interactivity to raster plot so I can click and drop a spike.\n",
    "    \n",
    "    \"\"\"\n",
    "    def __init__(self, num_neurons=10, time_window=100):\n",
    "        self.num_neurons = num_neurons\n",
    "        self.time_window = time_window\n",
    "        self.epoch_id = 0\n",
    "        self.erase_mode = False  # initialize erase mode to False\n",
    "        \n",
    "        self.shared_aclus_only_neuron_IDs = np.arange(self.num_neurons)\n",
    "        self.active_aclu_to_fragile_linear_neuron_IDX_dict = dict(zip(self.shared_aclus_only_neuron_IDs, np.arange(self.num_neurons))) # 1:1 mapping\n",
    "\n",
    "        self.long_pf_peak_ranks = np.arange(self.num_neurons)+1 # ranks are 1-indexed\n",
    "        \n",
    "        self.spikes_df = pd.DataFrame(columns=['t', 'aclu', 'Probe_Epoch_id', 'added_order'])\n",
    "        self.fig, self.ax = plt.subplots()\n",
    "        self.neuron_lines = [self.ax.plot([], [], 'o', color=plt.cm.jet(i / self.num_neurons))[0] for i in range(self.num_neurons)]\n",
    "        self.setup_plot()\n",
    "        self.connect_events()\n",
    "\n",
    "    def setup_plot(self):\n",
    "        self.ax.set_xlim(0, self.time_window)\n",
    "        self.ax.set_ylim(0, self.num_neurons)\n",
    "        self.ax.set_xlabel('Time (ms)')\n",
    "        self.ax.set_ylabel('Neuron')\n",
    "        self.correlation_text = self.ax.text(0.5, 1.05, '', transform=self.ax.transAxes, ha='center')\n",
    "\n",
    "        self.colors = plt.cm.jet(np.linspace(0, 1, self.num_neurons))\n",
    "        self.neuron_lines = [self.ax.plot([], [], 'o', color=self.colors[i])[0] for i in range(self.num_neurons)]\n",
    "        self.highlight_rect = patches.Rectangle((0, -0.5), self.time_window, 1, color='gray', alpha=0.3, visible=False) # used to highlight the currently hovered line\n",
    "        self.ax.add_patch(self.highlight_rect)\n",
    "        \n",
    "        # had cell line hover rects:\n",
    "        for i in range(self.num_neurons):\n",
    "            line, = self.ax.plot([], [], 'o', color=self.colors[i], label=f'Neuron {i+1}')\n",
    "            self.neuron_lines.append(line)\n",
    "    \n",
    "        # Add buttons\n",
    "        ax_clear = plt.axes([0.7, 0.05, 0.1, 0.075])\n",
    "        ax_save = plt.axes([0.81, 0.05, 0.1, 0.075])\n",
    "        ax_erase = plt.axes([0.1, 0.05, 0.1, 0.075])\n",
    "        \n",
    "        self.btn_clear = Button(ax_clear, 'Clear')\n",
    "        self.btn_save = Button(ax_save, 'Save')\n",
    "        self.btn_erase = Button(ax_erase, 'Erase')  # create erase button\n",
    "        self.btn_erase.on_clicked(self.toggle_erase_mode)  # connect erase button to toggle_erase_mode function\n",
    "        self.btn_clear.on_clicked(self.clear_spikes)\n",
    "        self.btn_save.on_clicked(self.save_figure)\n",
    "\n",
    "        # Output widgets\n",
    "        self.click_catcher = widgets.Output()\n",
    "        display(self.click_catcher)\n",
    "        self.accumulated_saved_output = widgets.Output()\n",
    "        display(self.accumulated_saved_output)\n",
    "\n",
    "    def connect_events(self):\n",
    "        self.fig.canvas.mpl_connect('button_press_event', self.on_click)\n",
    "        self.fig.canvas.mpl_connect('motion_notify_event', self.on_motion)\n",
    "\n",
    "    def toggle_erase_mode(self, event):\n",
    "        self.erase_mode = not self.erase_mode  # toggle erase mode\n",
    "        if self.erase_mode:\n",
    "            self.btn_erase.label.set_text('Add')  # change button label to 'Add' when in erase mode\n",
    "        else:\n",
    "            self.btn_erase.label.set_text('Erase')  # change button label back to 'Erase' when not in erase mode\n",
    "            \n",
    "    def on_click(self, event):\n",
    "        \"\"\" when the user clicks within the plot object. \"\"\"\n",
    "        if self.erase_mode:  # check if in erase mode\n",
    "            self.erase_spike(event)  # call erase_spike function\n",
    "        else:\n",
    "            self.update_plot({'type': 'change', 'name': 'value', 'new': (event.xdata, event.ydata)})\n",
    "        \n",
    "    def erase_spike(self, event):\n",
    "        x, y = event.xdata, event.ydata\n",
    "        neuron_index = int(y)\n",
    "        if 0 <= neuron_index < self.num_neurons:\n",
    "            self.spikes_df = self.spikes_df[(self.spikes_df['t'] != x) | (self.spikes_df['aclu'] != neuron_index)]\n",
    "            self.spikes_df = self.spikes_df.sort_values(['t', 'aclu'])\n",
    "            for i in range(self.num_neurons):\n",
    "                neuron_data = self.spikes_df[self.spikes_df['aclu'] == i]\n",
    "                self.neuron_lines[i].set_data(neuron_data['t'], neuron_data['aclu'])\n",
    "            \n",
    "            correlation = calculate_spearman_correlation(self.spikes_df, shared_aclus_only_neuron_IDs=self.shared_aclus_only_neuron_IDs, active_aclu_to_fragile_linear_neuron_IDX_dict=self.active_aclu_to_fragile_linear_neuron_IDX_dict, long_pf_peak_ranks=self.long_pf_peak_ranks, epoch_id=self.epoch_id)\n",
    "            if correlation is not None:\n",
    "                self.correlation_text.set_text(f'Spearman Correlation: {correlation:.2f}')\n",
    "            else:\n",
    "                self.correlation_text.set_text('Insufficient data for Spearman Correlation')\n",
    "\n",
    "            self.fig.canvas.draw()\n",
    "            \n",
    "\n",
    "    def on_motion(self, event):\n",
    "        \"\"\" when the user's hover moves within the plot object. \"\"\"\n",
    "        if event.inaxes == self.ax:\n",
    "            neuron_index = int(event.ydata)\n",
    "            if 0 <= neuron_index < self.num_neurons:\n",
    "                self.highlight_rect.set_y(neuron_index - 0.5)\n",
    "                self.highlight_rect.set_facecolor(self.colors[neuron_index])\n",
    "                self.highlight_rect.set_visible(True)\n",
    "                self.fig.canvas.draw_idle()\n",
    "            else:\n",
    "                self.highlight_rect.set_visible(False)\n",
    "                self.fig.canvas.draw_idle()\n",
    "\n",
    "\n",
    "    def update_plot(self, change):\n",
    "        \"\"\" called with the matplotlib click event to update the plot. \"\"\"\n",
    "        if change['type'] == 'change' and change['name'] == 'value':\n",
    "            x, y = change['new']\n",
    "            neuron_index = int(y)\n",
    "            if 0 <= neuron_index < self.num_neurons:\n",
    "                self.spikes_df = self.spikes_df.append({'t': x, 'aclu': neuron_index, 'Probe_Epoch_id': self.epoch_id, 'neuron_type': 'pyr', 'added_order': len(self.spikes_df)}, ignore_index=True)\n",
    "                self.spikes_df = self.spikes_df.sort_values(['t', 'aclu'])\n",
    "                for i in range(self.num_neurons):\n",
    "                    neuron_data = self.spikes_df[self.spikes_df['aclu'] == i]\n",
    "                    self.neuron_lines[i].set_data(neuron_data['t'], neuron_data['aclu'])\n",
    "                \n",
    "                correlation = calculate_spearman_correlation(self.spikes_df, shared_aclus_only_neuron_IDs=self.shared_aclus_only_neuron_IDs, active_aclu_to_fragile_linear_neuron_IDX_dict=self.active_aclu_to_fragile_linear_neuron_IDX_dict, long_pf_peak_ranks=self.long_pf_peak_ranks, epoch_id=self.epoch_id)\n",
    "                if correlation is not None:\n",
    "                    self.correlation_text.set_text(f'Spearman Correlation: {correlation:.2f}')\n",
    "                else:\n",
    "                    self.correlation_text.set_text('Insufficient data for Spearman Correlation')\n",
    "\n",
    "                self.fig.canvas.draw()\n",
    "\n",
    "    def clear_spikes(self, event):\n",
    "        self.spikes_df = pd.DataFrame(columns=['t', 'aclu', 'Probe_Epoch_id', 'added_order'])\n",
    "        for line in self.neuron_lines:\n",
    "            line.set_data([], [])\n",
    "        self.fig.canvas.draw()\n",
    "\n",
    "    def save_figure(self, event):\n",
    "        with self.accumulated_saved_output:\n",
    "            self.accumulated_saved_output.clear_output(wait=True)\n",
    "            display(self.fig)\n",
    "\n"
   ]
  },
  {
   "cell_type": "code",
   "execution_count": 13,
   "metadata": {
    "notebookRunGroups": {
     "groupValue": "1"
    }
   },
   "outputs": [
    {
     "data": {
      "application/vnd.jupyter.widget-view+json": {
       "model_id": "77ee0ea140c946508b2ba0b506e4376f",
       "version_major": 2,
       "version_minor": 0
      },
      "text/plain": [
       "Output()"
      ]
     },
     "metadata": {},
     "output_type": "display_data"
    },
    {
     "data": {
      "application/vnd.jupyter.widget-view+json": {
       "model_id": "06c6684a75394d63b6de58371a941736",
       "version_major": 2,
       "version_minor": 0
      },
      "text/plain": [
       "Output()"
      ]
     },
     "metadata": {},
     "output_type": "display_data"
    },
    {
     "data": {
      "text/plain": [
       "<__main__.InteractiveRasterBuilderWidget at 0x1bae175b520>"
      ]
     },
     "execution_count": 13,
     "metadata": {},
     "output_type": "execute_result"
    },
    {
     "data": {
      "application/vnd.jupyter.widget-view+json": {
       "model_id": "c7e7e9cc911e4cab9f1b28241aabd90e",
       "version_major": 2,
       "version_minor": 0
      },
      "image/png": "[encoded data removed]",
      "text/html": [
       "\n",
       "            <div style=\"display: inline-block;\">\n",
       "                <div class=\"jupyter-widgets widget-label\" style=\"text-align: center;\">\n",
       "                    Figure\n",
       "                </div>\n",
       "                <img src='data:image/png;base64,iVBORw0KGgoAAAANSUhEUgAAAoAAAAHgCAYAAAA10dzkAAAAOXRFWHRTb2Z0d2FyZQBNYXRwbG90bGliIHZlcnNpb24zLjguMiwgaHR0cHM6Ly9tYXRwbG90bGliLm9yZy8g+/7EAAAACXBIWXMAAA9hAAAPYQGoP6dpAAAqjUlEQVR4nO3de3yMd97/8fdEiJBkaAhSkWZL65SQCkrcrUNW7tK0VFltUKp12IhTu0W7WC1C9+5W1W61uoveK+juEqeiepCyjilpqUoVlWAdWmQEjUjm94fb/HYk1DaSazLf1/PxmEflmpnMJzPM9ep1mNicTqdTAAAAMIaP1QMAAACgfBGAAAAAhiEAAQAADEMAAgAAGIYABAAAMAwBCAAAYBgCEAAAwDAEIAAAgGEIQAAAAMMQgAAAAIYhAAEAAAxDAAIAABiGAAQAADAMAQgAAGAYAhAAAMAwBCAAAIBhCEAAAADDEIAAAACGIQABAAAMQwACAAAYhgAEAAAwDAEIAABgGAIQAADAMAQgAACAYQhAAAAAwxCAAAAAhiEAAQAADEMAAgAAGIYABAAAMAwBCAAAYBgCEAAAwDAEIAAAgGEIQAAAAMMQgAAAAIYhAAEAAAxDAAIAABiGAAQAADAMAQgAAGAYAhAAAMAwBCAAAIBhCEAAAADDEIAAAACGIQABAAAMQwACAAAYhgAEAAAwDAEIAABgGAIQAADAMAQgAACAYQhAAAAAwxCAAAAAhiEAAQAADEMAAgAAGMZrA/Czzz5TQkKCQkNDZbPZlJaW5na90+nUpEmTVK9ePfn7+ysuLk4HDhywZlgAAIBy5LUBeOHCBbVo0UJ//OMfS7z+1Vdf1ezZszV37lxt375d1atXV3x8vH788cdynhQAAKB82ZxOp9PqIcqazWbT8uXL1aNHD0lXt/6Fhobqueee0/PPPy9Jys3NVZ06dbRgwQL17dvXwmkBAADKltduAbyZw4cP68SJE4qLi3Mts9vtatu2rbZu3WrhZAAAAGXP1+oBrHDixAlJUp06ddyW16lTx3VdSfLz85Wfn+/6uqioSGfOnFFwcLBsNlvZDAsAAG4rp9Op8+fPKzQ0VD4+Rm4LMzMAf66UlBRNmTLF6jEAAMBtkJOTo/r161s9hiWMDMC6detKkk6ePKl69eq5lp88eVItW7a84f0mTJigsWPHur7Ozc1VgwYNlJOTo6CgoDKbFwAA3D4Oh0NhYWEKDAy0ehTLGBmAERERqlu3rj7++GNX8DkcDm3fvl3Dhw+/4f38/Pzk5+dXbHlQUBABCABABWPy4VteG4B5eXn69ttvXV8fPnxYmZmZuuOOO9SgQQONHj1aU6dOVaNGjRQREaGJEycqNDTUdaYwAACAt/LaAMzIyFCnTp1cX1/bdfvUU09pwYIFeuGFF3ThwgUNGTJE586dU4cOHbRu3TpVrVrVqpEBAADKhRGfA1hWHA6H7Ha7cnNz2QUMAEAFwfrb0M8BBAAAMBkBCAAAYBgCEAAAwDAEIAAAgGEIQAAAAMMQgAAAAIYhAAEAAAxDAAIAABiGAAQAADAMAQgAAGAYAhAAAMAwBCAAAIBhCEAAAADDEIAAAACGIQABAAAMQwACAAAYhgAEAAAwDAEIAABgGAIQAADAMAQgAACAYQhAAAAAwxCAAAAAhiEAAQAADEMAAgAAGIYABAAAMAwBCAAAYBgCEAAAwDAEIAAAgGEIQAAAAMMQgAAAAIYhAAEAAAxDAAIAABiGAAQAADAMAQgAAGAYAhAAAMAwBCAAAIBhCEAAAADDEIAAAACGIQABAAAMQwACAAAYhgAEAAAwDAEIAABgGAIQAADAMAQgAACAYQhAAAAAwxCAAAAAhiEAAQAADEMAAgAAGIYABAAAMAwBCAAAYBgCEAAAwDAEIAAAgGEIQAAAAMMQgAAAAIYhAAEAAAxDAAIAABiGAAQAADAMAQgAAGAYAhAAAMAwBCAAAIBhCEAAAADDEIAAAACGIQABAAAMY2wAFhYWauLEiYqIiJC/v7/uvvtuvfLKK3I6nVaPBgAAUKZ8rR7AKjNnztRbb72lhQsXqlmzZsrIyNCgQYNkt9s1cuRIq8cDAAAoM8YG4JYtW/Too4+qe/fukqS77rpLixcv1o4dOyyeDAAAoGwZuwu4ffv2+vjjj/XNN99Ikr744gtt3rxZDz30kMWTAQAAlC1jtwCOHz9eDodDjRs3VqVKlVRYWKhp06YpMTHxhvfJz89Xfn6+62uHw1EeowIAANxWxm4BfP/997Vo0SKlpqZq165dWrhwof7nf/5HCxcuvOF9UlJSZLfbXZewsLBynBgAAOD2sDkNPe01LCxM48ePV1JSkmvZ1KlT9de//lX79+8v8T4lbQEMCwtTbm6ugoKCynxmAABQeg6HQ3a73ej1t7G7gC9evCgfH/cNoJUqVVJRUdEN7+Pn5yc/P7+yHg0AAKBMGRuACQkJmjZtmho0aKBmzZpp9+7d+sMf/qCnn37a6tEAAADKlLG7gM+fP6+JEydq+fLlOnXqlEJDQ/XEE09o0qRJqlKlyi19DzYhAwBQ8bD+NjgAbwf+AgEAUPGw/jb4LGAAAABTEYAAAACGIQABAAAMQwACAAAYhgAEAAAwDAEIAABgGAIQAADAMAQgAACAYQhAAAAAwxCAAAAAhiEAAQAADEMAAgAAGIYABAAAMAwBCAAAYBgCEAAAwDAEIAAAgGEIQAAAAMMQgAAAAIYhAAEAAAxDAAIAABiGAAQAADAMAQgAAGAYAhAAAMAwBCAAAIBhCEAAAADDEIAAAACGIQABAAAMQwACAAAYhgAEAAAwDAEIAABgGAIQAADAMAQgAACAYQhAAAAAwxCAAAAAhiEAAQAADEMAAgAAGIYABAAAMAwBCAAAYBgCEAAAwDAEIAAAgGEIQAAAAMMQgAAAAIYhAAEAAAxDAAIAABiGAAQAADAMAQgAAGAYAhAAAMAwBCAAAIBhCEAAAADDEIAAAACGIQABAAAMQwACAAAYhgAEAAAwDAEIAABgGAIQAADAMAQgAACAYQhAAAAAwxCAAAAAhiEAAQAADEMAAgAAGIYABAAAMAwBCAAAYBgCEAAAwDBGB+CxY8fUr18/BQcHy9/fX5GRkcrIyLB6LAAAgDLla/UAVjl79qxiY2PVqVMnrV27VrVr19aBAwdUs2ZNq0cDAAAoU8YG4MyZMxUWFqb58+e7lkVERFg4EQAAQPkwdhfwypUrFRMTo969eyskJETR0dGaN2/eTe+Tn58vh8PhdgEAAKhojA3AQ4cO6a233lKjRo20fv16DR8+XCNHjtTChQtveJ+UlBTZ7XbXJSwsrBwnBgAAuD1sTqfTafUQVqhSpYpiYmK0ZcsW17KRI0dq586d2rp1a4n3yc/PV35+vutrh8OhsLAw5ebmKigoqMxnBgAApedwOGS3241efxu7BbBevXpq2rSp27ImTZooOzv7hvfx8/NTUFCQ2wUAAKCiMTYAY2NjlZWV5bbsm2++UXh4uEUTAQAAlA9jA3DMmDHatm2bpk+frm+//Vapqal65513lJSUZPVoAAAAZcrYAGzdurWWL1+uxYsXq3nz5nrllVc0a9YsJSYmWj0aAABAmTL2JJDbgYNIAQCoeFh/G7wFEAAAwFQEIAAAgGEIQAAAAMMQgAAAAIYhAAEAAAxDAAIAABiGAAQAADAMAQgAAGAYAhAAAMAwvlYPUJKioiJ9++23OnXqlIqKityue+CBByyaCgAAwDt4XABu27ZNTz75pI4cOaLrf0udzWZTYWGhRZMBAAB4B48LwGHDhikmJkZr1qxRvXr1ZLPZrB4JAADAq3hcAB44cEB///vf1bBhQ6tHAQAA8EoedxJI27Zt9e2331o9BgAAgNfyuC2AycnJeu6553TixAlFRkaqcuXKbtdHRUVZNBkAAIB3sDmvP9PCYj4+xTdK2mw2OZ1OjzsJxOFwyG63Kzc3V0FBQVaPAwAAbgHrbw/cAnj48GGrRwAAAPBqHheA4eHhVo8AAADg1TwuACXp4MGDmjVrlr7++mtJUtOmTTVq1CjdfffdFk8GAABQ8XncWcDr169X06ZNtWPHDkVFRSkqKkrbt29Xs2bNtGHDBqvHAwAAqPA87iSQ6OhoxcfHa8aMGW7Lx48frw8//FC7du2yaLLiOIgUAICKh/W3B24B/PrrrzV48OBiy59++mnt27fPgokAAAC8i8cFYO3atZWZmVlseWZmpkJCQsp/IAAAAC/jcSeBPPvssxoyZIgOHTqk9u3bS5L++c9/aubMmRo7dqzF0wEAAFR8HncMoNPp1KxZs/Taa6/p+PHjkqTQ0FD95je/0ciRI2Wz2Sye8P/jGAIAACoe1t8etgXwypUrSk1N1ZNPPqkxY8bo/PnzkqTAwECLJwMAAPAeHnUMoK+vr4YNG6Yff/xR0tXwI/4AAABuL48KQElq06aNdu/ebfUYAAAAXsujdgFL0q9//Ws999xzOnr0qFq1aqXq1au7XR8VFWXRZAAAAN7B404C8fEpvlHSZrPJ6XTKZrOpsLDQgqlKxkGkAABUPKy/PXAL4OHDh60eAQAAwKt5XACGh4dbPQIAAIBX87gAfO+99256/YABA8ppEgAAAO/kcccA1qxZ0+3rgoICXbx4UVWqVFG1atV05swZiyYrjmMIAACoeFh/e+DHwJw9e9btkpeXp6ysLHXo0EGLFy+2ejwAAIAKz+MCsCSNGjXSjBkzNGrUKKtHAQAAqPAqRABKV39LyLXfDQwAAICfz+NOAlm5cqXb106nU//61780Z84cxcbGWjQVAACA9/C4AOzRo4fb1zabTbVr11bnzp312muvWTMUAACAF/G4ACwqKrJ6BAAAAK/msccAXr58WVlZWbpy5YrVowAAAHgVjwvAixcv6umnn1a1atXUrFkzZWdnS5KSk5M1Y8YMi6cDAACo+DwuACdMmKAvv/xSGzduVNWqVV3L4+LitHTpUgsnAwAA8A4edwxgWlqali5dqvvvv182m821vFmzZjp48KCFkwEAAHgHj9sCePr0aYWEhBRbfuHCBbcgBAAAwM/jcQEYExOjNWvWuL6+Fn3vvvuu2rVrZ9VYAAAAXsPjdgFPnz5dDz30kPbt26crV67ojTfe0L59+7Rlyxalp6dbPR4AAECF53FbADt06KDMzExduXJFkZGR+vDDDxUSEqKtW7eqVatWVo8HAABQ4dmcTqfT6iEqKofDIbvdrtzcXAUFBVk9DgAAuAWsvz1oF7CPj89PnuRhs9n4YGgAAIBS8pgAXL58+Q2v27p1q2bPns2viQMAALgNPCYAH3300WLLsrKyNH78eK1atUqJiYl6+eWXLZgMAADAu3jcSSCSdPz4cT377LOKjIzUlStXlJmZqYULFyo8PNzq0QAAACo8jwrA3NxcjRs3Tg0bNtRXX32ljz/+WKtWrVLz5s2tHg0AAMBreMwu4FdffVUzZ85U3bp1tXjx4hJ3CQMAAKD0POZjYHx8fOTv76+4uDhVqlTphrdbtmxZOU51c5xGDgBAxcP624O2AA4YMIDf9QsAAFAOPCYAFyxYYPUIAAAARvCok0AAAABQ9ghAAAAAwxCAAAAAhiEAAQAADEMAAgAAGIYA/D8zZsyQzWbT6NGjrR4FAACgTBGAknbu3Km3335bUVFRVo8CAABQ5owPwLy8PCUmJmrevHmqWbOm1eMAAACUOeMDMCkpSd27d1dcXNxP3jY/P18Oh8PtAgAAUNF4zG8CscKSJUu0a9cu7dy585Zun5KSoilTppTxVAAAAGXL2C2AOTk5GjVqlBYtWqSqVave0n0mTJig3Nxc1yUnJ6eMpwQAALj9bE6n02n1EFZIS0tTz549ValSJdeywsJC2Ww2+fj4KD8/3+26kjgcDtntduXm5iooKKisRwYAALcB62+DdwF36dJFe/bscVs2aNAgNW7cWOPGjfvJ+AMAAKiojA3AwMBANW/e3G1Z9erVFRwcXGw5AACANzH2GEAAAABTGbsFsCQbN260egQAAIAyxxZAAAAAwxCAAAAAhiEAAQAADEMAAgAAGIYABAAAMAwBCAAAYBgCEAAAwDAEIAAAgGEIQAAAAMMQgAAAAIYhAAEAAAxDAAIAABiGAAQAADAMAQgAAGAYAhAAAMAwBCAAAIBhCEAAAADDEIAAAACGIQABAAAMQwACAAAYhgAEAAAwDAEIAABgGAIQAADAMAQgAACAYQhAAAAAwxCAAAAAhiEAAQAADEMAAgAAGIYABAAAMAwBCAAAYBgCEAAAwDAEIAAAgGEIQAAAAMMQgAAAAIYhAAEAAAxDAAIAABiGAAQAADAMAQgAAGAYAhAAAMAwBCAAAIBhCEAAAADDEIAAAACGIQABAAAMQwACAAAYhgAEAAAwDAEIAABgGAIQAADAMAQgAACAYQhAAAAAwxCAAAAAhiEAAQAADEMAAgAAGIYABAAAMAwBCAAAYBgCEAAAwDAEIAAAgGEIQAAAAMMQgAAAAIYhAAEAAAxDAAIAABiGAAQAADAMAQgAAGAYAhAAAMAwRgdgSkqKWrdurcDAQIWEhKhHjx7KysqyeiwAAIAyZXQApqenKykpSdu2bdOGDRtUUFCgrl276sKFC1aPBgAAUGZsTqfTafUQnuL06dMKCQlRenq6HnjggZ+8vcPhkN1uV25uroKCgsphQgAAUFqsvyVfqwfwJLm5uZKkO+64o8Tr8/PzlZ+f7/ra4XCUy1wAAAC3k9G7gP9dUVGRRo8erdjYWDVv3rzE26SkpMhut7suYWFh5TwlAABA6bEL+P8MHz5ca9eu1ebNm1W/fv0Sb1PSFsCwsDCjNyEDAFDRsAuYXcCSpBEjRmj16tX67LPPbhh/kuTn5yc/P79ynAwAAOD2MzoAnU6nkpOTtXz5cm3cuFERERFWjwQAAFDmjA7ApKQkpaamasWKFQoMDNSJEyckSXa7Xf7+/hZPBwAAUDaMPgbQZrOVuHz+/PkaOHDgT96fYwgAAKh4WH8bvgXQ4PYFAAAG42NgAAAADEMAAgAAGIYABAAAMAwBCAAAYBgCEAAAwDAEIAAAgGEIQAAAAMMQgAAAAIYhAAEAAAxDAAIAABiGAAQAADAMAQgAAGAYAhAAAMAwBCAAAIBhCEAAAADDEIAAAACGIQABAAAMQwACAAAYhgAEAAAwDAEIAABgGAIQAADAMAQgAACAYQhAAAAAwxCAAAAAhiEAAQAADEMAAgAAGIYABAAAMAwBCAAAYBgCEAAAwDAEIAAAgGEIQAAAAMMQgAAAAIYhAAEAAAxDAAIAABiGAAQAADAMAQgAAGAYAhAAAMAwBCAAAIBhCEAAAADDEIAAAACGIQABAAAMQwACAAAYhgAEAAAwDAEIAABgGAIQAADAMAQgAACAYQhAAAAAwxCAAAAAhiEAAQAADEMAAgAAGIYABAAAMAwBCAAAYBgCEAAAwDAEIAAAgGEIQAAAAMMQgAAAAIYhAAEAAAxDAAIAABiGAAQAADCMr9UDWKmoqEjHjx9XYGCgbDbbf3x/h8Ph9t+Kxul06vz58woNDZWPD/8vAMAcpX3/r+hu9P5vyvNyo/W3SetFm9PpdFo9hFWOHj2qsLAwq8ewXE5OjurXr2/1GABQbnj/v+r693+el6tMWC8avQUwMDBQkpSenq6AgACLpyl/eXl5evDBB13PAwCYgvf/kt//eV7MWS8aHYDXNm8HBAQY+Rf9Gm/ezA8AJeH9/6rr3/95Xq4yYb3o3Tu4AQAAUIzRAfiPf/zD6hEAAADKndEB+Mc//tHqEQAAAMqdsccAXr58Wbt377Z6DI9QUT/GBgB+Lt73rrr+eeB5MYexAfj999+rqKjI6jE8Aqf8A4CZeP83l7EBiP8vJydHQUFBVo9RKg6HQ2FhYV7xs1R0vBaehdejZNeeF9Nd//eC58UcxgZgrVq15OPjw1ZASUFBQV6zYvCmn6Wi47XwLLweKAl/L8xl7EkgVapUUXR0tNVjAAAAlDtjA1CSkpKSrB4BAOCl7r33Xn300UdWjwGUyNhdwJLUq1cvPf300z/rvuPHj9fy5cuLLe/QoYP+/Oc/l3Y0/If8/Pw0efJk+fn5WT2K8XgtPAuvR9k5ffq05s6dq40bN+rkyZMKDg5WkyZN9NRTT6ldu3ZWj2epM2fO6I033lB6erq+//572e12NW7cWL/+9a/VqlUrq8eDDA/A0vqv//ovpaSkuC2rUqVKibctKChQ5cqVy2MsI/n5+el3v/ud1WNAvBaehtejbBw9elRPPPGEgoKC9MILL+iee+7RlStXtHnzZk2ZMkXr1q0rlzk8dd2SnJysgoICzZgxQ2FhYfrhhx+0detWnTt3zurR8H+M3gVcWlWqVFHt2rXdLna7XdLVTf+pqakaNmyYWrZsqblz56qwsFAvvviiOnfurKioKMXHx2vhwoVu33P79u16/PHH1bJlS8XExKhv3746duyY6/qPPvpIPXv2VGRkpLp06aI5c+boypUr5fpzA4DppkyZIpvNpr/97W+Kj49XRESEGjVqpEGDBun9998v8T7/+te/NGrUKMXExKhNmzYaPny4jh496rr+yy+/1KBBg9S2bVu1atVK/fr101dffeX2PUpat3gah8OhjIwMPf/887r//vt15513KioqSkOHDlWXLl0kSfPnz1dCQoJatmypBx98UL/73e904cIFSVJeXp6ioqKUnp7u9n03bNig6OhoXbp0SdJPP5+4OQKwDM2ZM0e//OUvtWrVKvXq1UtFRUWqW7eu3njjDa1Zs0ZJSUl6/fXX9cEHH0iSrly5oqSkJLVu3VorV67U0qVL9atf/cr1S6kzMjI0btw4DRgwQB988IFefvllLVu2zCPfAADAW507d06bNm1SYmKiqlWrVuz6ks6qLSgo0ODBg1W9enUtWrRIixcvVrVq1fTMM8/o8uXLkqQLFy6oR48eSk1N1fvvv6/w8HANGTJEeXl5bt/r+nWLp6lWrZqqVaumjz76yPWzXc9ms+mll17S6tWrNWPGDG3btk2///3vJUkBAQHq2LGjVq9e7XafVatWKS4uTv7+/rf0fOLm2AVcChs3bix2JvHQoUM1bNgwSdLDDz9c7B/nyJEjXX8OCwtTZmam1q1bp27duikvL0/nz59Xp06d1KBBA0nS3Xff7br9nDlzNGTIEPXs2dN1/1GjRun3v/+9RowYUSY/IwDAXXZ2tpxOp37xi1/c8n0++OADFRUVadq0aa7/qU9JSVHr1q21Y8cOdejQodhxg6+88opiYmK0c+dOderUybW8pHWLJ/H19dWMGTM0ceJELVmyRE2bNlWbNm3UrVs3NW7cWJI0cOBA1+3r16+v0aNHa/Lkya7DFR555BH95je/0aVLl+Tv76+8vDxt3LhRc+bMkXRrzydujgAshbZt2xY7tubaLmBJat68ebH7LFq0SP/4xz90/Phx5efnq6CgwPUPokaNGnrsscc0ePBgxcbGql27dnrooYcUEhIiSdq/f7927drltsWvsLBQ+fn5rn8kAICy5XQ6/+P77N+/X9nZ2brvvvvclufn5ys7O1vS1d9QNWvWLO3YsUM//PCDioqKdOnSJR0/ftztPiWtWzxNfHy8OnbsqIyMDGVmZmrTpk169913NXXqVD322GPasmWL3n77bR06dEh5eXnF1mUPPPCAKleurE8++UTdu3fX+vXrFRAQoPbt20u6tecTN8cu4FLw9/dXeHi426VGjRqu66/fNbBmzRrNnDlTvXr10l/+8helpaXpscceU0FBges2KSkpWrp0qaKjo7V27VrFx8crMzNTknTx4kUlJycrLS3NdVm1apU+/PBDI87wu/Z/d4GBgQoJCVGPHj2UlZXldpsff/xRSUlJCg4OVkBAgHr16qWTJ09aNLE5ZsyYIZvNptGjR7uW8VqUr2PHjqlfv34KDg6Wv7+/IiMjlZGR4bre6XRq0qRJqlevnvz9/RUXF6cDBw5YOHHFFR4eLpvNpkOHDt3yfS5evKhmzZq5vX+npaVp/fr1SkhIkCSNGzdOX3/9tV566SUtWbJEaWlpqlGjhts6Qiq+bvFUfn5+io2NVVJSkpYsWaKePXvqzTff1NGjRzV06FDde++9evPNN7Vs2TJNmjRJklw/a5UqVRQfH69Vq1ZJklavXq1u3brJ1/fqdqtbeT5L484771SNGjU0ePDgYrvgvQUBWI527dql6OhoJSYmqmnTpgoPDy/x/1SaNm2qoUOHasmSJbrnnntcx0E0bdpUhw8fLhad4eHh8vHx/pcyPT1dSUlJ2rZtmzZs2KCCggJ17drVdeCwJI0ZM0arVq3S3/72N6Wnp+v48eN67LHHLJza++3cuVNvv/22oqKi3JbzWpSfs2fPKjY2VpUrV9batWu1b98+vfbaa6pZs6brNq+++qpmz56tuXPnavv27apevbri4+P1448/Wjh5xVSjRg116NBBixYt0sWLF4td73A4ii1r1qyZjhw5ouDg4GLv34GBgZKuriP69++vBx98UI0aNVKVKlV09uzZMv95ykvDhg118eJFffXVV3I6nRo/frxatmypiIgInTp1qtjtExIStHnzZh04cEDbtm1zC7tbeT5LY8WKFVq9erU+++wzDRkypNTfzxN5fzWUocuXL+v06dNulzNnztzw9uHh4dq7d682bdqkw4cPa9asWdqzZ4/r+pycHL322mvavXu3jh07ps2bN+u7775zHWeSlJSkFStWaM6cOTpw4IAOHjyoNWvW6PXXXy/zn9UTrFu3TgMHDlSzZs3UokULLViwQNnZ2fr8888lSbm5ufrzn/+sP/zhD+rcubNatWql+fPna8uWLdq2bZvF03unvLw8JSYmat68eW6xwWtRvmbOnKmwsDDNnz9fbdq0UUREhLp27eo6htjpdGrWrFn67W9/q0cffVRRUVF67733dPz4caWlpVk7fAU1efJkFRUVqXfv3lq/fr2+++47HTx4UO+9955+9atfFbt9QkKCatasqeHDhysjI0M5OTnavn27pk6dqhMnTkiS7rrrLq1cuVIHDx7UF198oeeff15Vq1Yt7x+t1M6ePasBAwZoxYoV2r9/v3JycrR27Vq9++676tKli8LDw1VQUKD//d//VU5OjtLS0rRkyZJi36d169aqVauWnn/+edWvX18tWrRwXXcrz2dpxMTEqEOHDnrzzTe1ZMmSYrvhvQEBWAqbNm1Shw4d3C5PPvnkDW/ft29fde3aVWPGjFGfPn107tw5t9v7+/vr0KFDSk5OVnx8vCZNmqTExET17dtX0tXPHZw7d642b96sxx9/XH369NGCBQt05513lvnP6olyc3MlSXfccYck6fPPP1dBQYHi4uJct2ncuLEaNGigrVu3WjKjt0tKSlL37t3dnnOJ16K8rVy5UjExMerdu7dCQkIUHR2tefPmua4/fPiwTpw44fZ62O12tW3bltfjZwoLC9OyZcvUtm1bzZw5Uw8//LAGDRqkrVu3lvi5i/7+/vrrX/+q0NBQjRgxQt26ddNLL72k/Px8BQQESJKmTZum3Nxc9ezZUy+88IL69++v4ODgcv7JSq969epq0aKFFi5cqH79+ikhIUFvvPGGevfurUmTJqlx48aaMGGC5s2bp4cfflirVq3S2LFji30fm82m7t27a//+/cV2697K83k7xMXFycfHR9u3b79t39NT2Jw/52hWL+FwOGS32/X555/f1r8wFUVeXp5atWql3NzcCvfLwIuKivTII4/o3Llz2rx5syQpNTVVgwYNUn5+vttt27Rpo06dOmnmzJlWjOq1lixZomnTpmnnzp2qWrWqOnbsqJYtW2rWrFm8FuXs2laisWPHqnfv3tq5c6dGjRqluXPn6qmnntKWLVsUGxur48ePq169eq779enTRzabTUuXLrVqdMvw/l/y+z/PS/HnJSQkRFOmTNHw4cMtnu724ixgVEhJSUnau3evK/5QvnJycjRq1Cht2LChQu6i8jZFRUWKiYnR9OnTJUnR0dHau3evKwAB4HrsAkaFM2LECK1evVqffvqp6tev71pet25dXb58udivGjp58qTq1q1bzlN6t88//1ynTp3SfffdJ19fX/n6+io9PV2zZ8+Wr6+v6tSpw2tRjurVq6emTZu6LWvSpInrJLNrz/n1Z2HzegA3d+XKFZ05c8Yr/50QgKgwnE6nRowYoeXLl+uTTz5RRESE2/WtWrVS5cqV9fHHH7uWZWVlKTs72/hfzH67denSRXv27FFmZqbrEhMTo8TERNefeS3KT2xsbLGPRPrmm28UHh4uSYqIiFDdunXdXg+Hw6Ht27fzegA38cknn6ioqEht27a1epTbjl3AqDCSkpKUmpqqFStWKDAw0HWml91ul7+/v+x2uwYPHqyxY8fqjjvuUFBQkJKTk9WuXTvdf//9Fk/vXQIDA4t9GG316tUVHBzsWs5rUX7GjBmj9u3ba/r06erTp4927Nihd955R++8844kuT6jcerUqWrUqJEiIiI0ceJEhYaGqkePHtYOD3igjIwM+fn5acSIEerbt69CQ0OtHum2IwBRYbz11luSpI4dO7otnz9/vuvXCr3++uvy8fFRr169lJ+fr/j4eP3pT38q50kh8VqUp9atW2v58uWaMGGCXn75ZUVERGjWrFlKTEx03eaFF17QhQsXNGTIEJ07d04dOnTQunXrOIYTKMEjjzyiSpUqqVevXpo9e7bV45QJzgLmbKcKeRYwAJQG7/+cBVwSk9aLHAMIAABgGAIQAADAMAQgAACAYQhAAAAAwxCAAAAAhiEAAQAADGP05wBe+wScvLw8iyexxrWf2+BPAgJgKN7/S37/53kxZ71odACeP39ekvTggw9aPIm1zp8/L7vdbvUYAFBueP+/6vr3f56Xq0xYLxr9QdBFRUU6fvy4AgMDZbPZrB6n3DmdTp0/f16hoaHy8eFoAFQcAwcO1Llz55SWlmbJ4/fv319NmjTRiy++WCbff9++feratauysrJUvXr1MnkM0/H+X/L7P8+LOetFowMQgOf5qZXO5MmTNWbMGDmdTtWoUaN8hvo3X3zxhTp37qwjR46U6W9KePzxx9WiRQtNnDixzB4DgLkIQAAe5cSJE64/L126VJMmTVJWVpZrWUBAgKW/ouqZZ56Rr6+v5s6dW6aPs2bNGj377LPKzs6Wr6/RR+sAKAPevX0TQIVTt25d18Vut8tms7ktCwgI0MCBA9WjRw/XfTp27Kjk5GSNHj1aNWvWVJ06dTRv3jxduHBBgwYNUmBgoBo2bKi1a9e6PdbevXv10EMPKSAgQHXq1FH//v31/fff33C2wsJC/f3vf1dCQoLb8rvuuktTp07VgAEDFBAQoPDwcK1cuVKnT5/Wo48+qoCAAEVFRSkjI8N1nyNHjighIUE1a9ZU9erV1axZM33wwQeu63/5y1/qzJkzSk9PL+UzCgDFEYAAvMLChQtVq1Yt7dixQ8nJyRo+fLh69+6t9u3ba9euXeratav69++vixcvSpLOnTunzp07Kzo6WhkZGVq3bp1OnjypPn363PAxvvzyS+Xm5iomJqbYda+//rpiY2O1e/dude/eXf3799eAAQPUr18/7dq1S3fffbcGDBjgOrswKSlJ+fn5+uyzz7Rnzx7NnDnTbctmlSpV1LJlS23atOk2P1MAQAAC8BItWrTQb3/7WzVq1EgTJkxQ1apVVatWLT377LNq1KiRJk2apB9++EFffvmlJGnOnDmKjo7W9OnT1bhxY0VHR+svf/mLPv30U33zzTclPsaRI0dUqVIlhYSEFLuuW7duGjp0qOuxHA6HWrdurd69e+uee+7RuHHj9PXXX+vkyZOSpOzsbMXGxioyMlK/+MUv9PDDD+uBBx5w+56hoaE6cuTIbX6mAIAABOAloqKiXH+uVKmSgoODFRkZ6VpWp04dSdKpU6ckXT2Z49NPP3UdUxgQEKDGjRtLkg4ePFjiY1y6dEl+fn4lnqjy749/7bFu9vgjR47U1KlTFRsbq8mTJ7vC9N/5+/u7tlgCwO1EAALwCpUrV3b72mazuS27Fm1FRUWSrn7ga0JCgjIzM90uBw4cKLYl7ppatWrp4sWLunz58k0f/9pj3ezxn3nmGR06dEj9+/fXnj17FBMTozfffNPte545c0a1a9e+tScAAP4DBCAAI91333366quvdNddd6lhw4Zulxt99l7Lli0lXf2cvtshLCxMw4YN07Jly/Tcc89p3rx5btfv3btX0dHRt+WxAODfEYAAjJSUlKQzZ87oiSee0M6dO3Xw4EGtX79egwYNUmFhYYn3qV27tu677z5t3ry51I8/evRorV+/XocPH9auXbv06aefqkmTJq7rv/vuOx07dkxxcXGlfiwAuB4BCMBIoaGh+uc//6nCwkJ17dpVkZGRGj16tGrUqHHT3wDwzDPPaNGiRaV+/MLCQiUlJalJkyb67//+b91zzz3605/+5Lp+8eLF6tq1q8LDw0v9WABwPT4IGgD+A5cuXdK9996rpUuXql27dmXyGJcvX1ajRo2Umpqq2NjYMnkMAGZjCyAA/Af8/f313nvv3fQDo0srOztbL774IvEHoMywBRAAAMAwbAEEAAAwDAEIAABgGAIQAADAMAQgAACAYQhAAAAAwxCAAAAAhiEAAQAADEMAAgAAGIYABAAAMMz/AwB/9fj2Jl3mAAAAAElFTkSuQmCC' width=640.0/>\n",
       "            </div>\n",
       "        "
      ],
      "text/plain": [
       "Canvas(toolbar=Toolbar(toolitems=[('Home', 'Reset original view', 'home', 'home'), ('Back', 'Back to previous …"
      ]
     },
     "metadata": {},
     "output_type": "display_data"
    }
   ],
   "source": [
    "# Usage\n",
    "plot = InteractiveRasterBuilderWidget()\n",
    "plot"
   ]
  },
  {
   "cell_type": "code",
   "execution_count": null,
   "metadata": {},
   "outputs": [],
   "source": [
    "\n",
    "\n"
   ]
  },
  {
   "cell_type": "markdown",
   "metadata": {},
   "source": [
    "write a python script that generates an interactive raster plot with 10 rows (each corresponding to a different neuron) where you can click anywhere to add a \"spike\". Each row should be a different color, and 100ms should be shown.\n",
    "Use a pd.DataFrame named `spikes_df` with the columns ['t', 'aclu'] where 'aclu' refers to the neuron_id instead of `spike_data` to hold the spikes.\n",
    "I'd like to use `np.spearman` to compute the rank-order value of the spike data each time the plot is updated and display that value as a label on the plot"
   ]
  },
  {
   "cell_type": "markdown",
   "metadata": {},
   "source": [
    "great, can you suggest a modification that highlights the currently hovered row with a faint highlight of the spike color, to make it easier to see what unit spikes will be created for?"
   ]
  }
 ],
 "metadata": {
  "kernelspec": {
   "display_name": ".venv",
   "language": "python",
   "name": "python3"
  },
  "language_info": {
   "codemirror_mode": {
    "name": "ipython",
    "version": 3
   },
   "file_extension": ".py",
   "mimetype": "text/x-python",
   "name": "python",
   "nbconvert_exporter": "python",
   "pygments_lexer": "ipython3",
   "version": "3.9.13"
  }
 },
 "nbformat": 4,
 "nbformat_minor": 2
}
