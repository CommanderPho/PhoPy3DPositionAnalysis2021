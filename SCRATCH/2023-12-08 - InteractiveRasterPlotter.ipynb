{
 "cells": [
  {
   "cell_type": "code",
   "execution_count": 1,
   "metadata": {
    "notebookRunGroups": {
     "groupValue": "1"
    }
   },
   "outputs": [
    {
     "name": "stdout",
     "output_type": "stream",
     "text": [
      "Automatic pdb calling has been turned OFF\n"
     ]
    },
    {
     "data": {
      "text/plain": [
       "<pyphoplacecellanalysis.GUI.IPyWidgets.InteractiveRasterBuilderWidget.InteractiveRasterBuilderWidget at 0x103f684f0>"
      ]
     },
     "metadata": {},
     "output_type": "display_data"
    }
   ],
   "source": [
    "%config IPCompleter.use_jedi = False\n",
    "%pdb off\n",
    "%load_ext viztracer\n",
    "from viztracer import VizTracer\n",
    "%load_ext autoreload\n",
    "%autoreload 3\n",
    "import sys\n",
    "from typing import Dict, List, Tuple, Optional\n",
    "from pathlib import Path\n",
    "\n",
    "# required to enable non-blocking interaction:\n",
    "%gui qt5\n",
    "\n",
    "import matplotlib.pyplot as plt\n",
    "from nptyping.ndarray import NDArray\n",
    "import numpy as np\n",
    "import pandas as pd\n",
    "import ipywidgets as widgets\n",
    "from IPython.display import display\n",
    "import scipy\n",
    "import scipy.stats\n",
    "\n",
    "%matplotlib widget\n",
    "import matplotlib.patches as patches\n",
    "from matplotlib.widgets import Button\n",
    "\n",
    "from neuropy.core.user_annotations import metadata_attributes, function_attributes\n",
    "\n",
    "from pyphoplacecellanalysis.General.Pipeline.Stages.ComputationFunctions.MultiContextComputationFunctions.RankOrderComputations import RankOrderAnalyses\n",
    "from pyphoplacecellanalysis.GUI.IPyWidgets.InteractiveRasterBuilderWidget import InteractiveRasterBuilderWidget, Metric\n",
    "\n",
    "\n",
    "@function_attributes(short_name=None, tags=['spearman', 'rank-order'], input_requires=[], output_provides=[], uses=[], used_by=[], creation_date='2023-12-08 12:33', related_items=[])\n",
    "def calculate_spearman_correlation(spikes_df, shared_aclus_only_neuron_IDs, active_aclu_to_fragile_linear_neuron_IDX_dict, long_pf_peak_ranks, epoch_id:int=0, rank_alignment: str = 'first'):\n",
    "    \"\"\" \n",
    "    Used to compute the spearman rank-order correlation from \n",
    "    \n",
    "    History copied from `pyphoplacecellanalysis.General.Pipeline.Stages.ComputationFunctions.MultiContextComputationFunctions.RankOrderComputations.RankOrderAnalyses.compute_shuffled_rankorder_analyses`\n",
    "        On 2023-12-08 \n",
    "    \n",
    "    \"\"\"\n",
    "    if len(spikes_df) < 2:\n",
    "        return None\n",
    "\n",
    "    output_dict = {}\n",
    "\n",
    "    epoch_ranked_aclus_dict, epoch_ranked_fragile_linear_neuron_IDX_dict, epoch_selected_spikes_fragile_linear_neuron_IDX_dict, selected_spikes_only_df = RankOrderAnalyses.select_and_rank_spikes(spikes_df, active_aclu_to_fragile_linear_neuron_IDX_dict, rank_alignment, time_variable_name_override='t')\n",
    "\n",
    "    ## TODO: might need to get the specific aclus that are active in the epoch and limit to the intersection of those and the current decoder:\n",
    "    epoch_spikes_active_aclus = np.array(list(epoch_ranked_aclus_dict[epoch_id].keys())) # get the actual aclus instead of the indicies here.\n",
    "    epoch_spikes_active_ranks = np.array(list(epoch_ranked_aclus_dict[epoch_id].values()))\n",
    "    ## 2. Now get the template aclus to filter the epoch_active_aclus by (note there are way more `epoch_active_aclus` (like 81) than template ones.\n",
    "    # shared_aclus_only_neuron_IDs # (for now). In the future the `template_aclus` might be template-specific instead of shared:\n",
    "    template_aclus: NDArray = shared_aclus_only_neuron_IDs\n",
    "    is_epoch_aclu_included_in_template: NDArray[np.bool_] = np.isin(epoch_spikes_active_aclus, template_aclus) # a bool array indicating whether each aclu active in the epoch (spikes_df) is included in the template.\n",
    "\n",
    "\n",
    "    # BEGIN 2023-11-22 NEW Implementation: _______________________________________________________________________________ #\n",
    "\n",
    "    # Chop the template down to the active spikes AND chop the active spikes down to the template:\n",
    "    actually_included_epoch_aclus = epoch_spikes_active_aclus[is_epoch_aclu_included_in_template] # note this must be strictly smaller than the template aclus, AND strictly less than the epoch_active_aclus.\n",
    "    actually_included_epoch_ranks = epoch_spikes_active_ranks[is_epoch_aclu_included_in_template]\n",
    "\n",
    "    assert np.shape(long_pf_peak_ranks) == np.shape(shared_aclus_only_neuron_IDs)\n",
    "    \n",
    "    # Chop the other direction:\n",
    "    is_template_aclu_actually_active_in_epoch: NDArray = np.isin(template_aclus, actually_included_epoch_aclus) # a bool array indicating whether each aclu in the template is active in  in the epoch (spikes_df). Used for indexing into the template peak_ranks (`long_pf_peak_ranks`, `short_pf_peak_ranks`)\n",
    "    template_epoch_actually_included_aclus: NDArray = np.array(template_aclus)[is_template_aclu_actually_active_in_epoch] ## `actually_included_template_aclus`: the final aclus for this template actually active in this epoch\n",
    "    epoch_active_long_pf_peak_ranks = np.array(long_pf_peak_ranks)[is_template_aclu_actually_active_in_epoch]\n",
    "\n",
    "    # END NEW:\n",
    "\n",
    "    # 4. Final step is getting the actual indicies into the template aclus (the template-relative neuronIDXs):\n",
    "    _template_aclu_list = list(template_aclus) # convert to a temporary basic python list so that `.index(aclu)` works in the next line.\n",
    "    template_epoch_neuron_IDXs: NDArray[int] = np.array([_template_aclu_list.index(aclu) for aclu in actually_included_epoch_aclus]) # should be the appropriate neuronIDXs in the template-relative array\n",
    "\n",
    "    epoch_ranked_fragile_linear_neuron_IDXs_array = epoch_ranked_fragile_linear_neuron_IDX_dict[epoch_id]\n",
    "    epoch_neuron_IDX_ranks = np.squeeze(epoch_ranked_fragile_linear_neuron_IDXs_array[is_epoch_aclu_included_in_template,1]) # the ranks just for this epoch, just for this template\n",
    "    \n",
    "    # FINAL NOTE: `actually_included_template_aclus`, `template_epoch_neuron_IDXs` contain the actual IDX and aclus for this template active during this epoch\n",
    "\n",
    "    # Note that now (after boolean slicing), both `epoch_neuron_IDXs` and `epoch_neuron_IDX_ranks` can be LESS than the `shared_aclus_only_neuron_IDs`. They are indexed?\n",
    "    # Instead of `epoch_neuron_IDXs`, use `template_epoch_neuron_IDXs` to the get neuron_IDXs relative to this template:`\n",
    "    assert np.size(template_epoch_neuron_IDXs) == np.size(epoch_neuron_IDX_ranks), f\"{np.size(epoch_neuron_IDX_ranks)} and len(template_epoch_neuron_IDXs): {np.size(template_epoch_neuron_IDXs)}\"\n",
    "\n",
    "    #TODO 2023-11-22 08:35: - [ ] keep da' indicies we actually use for this template/epoch. They're needed in the RankOrderRastersDebugger.\n",
    "    output_dict[epoch_id] = (template_epoch_neuron_IDXs, template_epoch_actually_included_aclus, epoch_neuron_IDX_ranks) # might need multiple for each templates if they aren't clipped to shared.\n",
    "\n",
    "    ## EPOCH SPECIFIC:\n",
    "    long_spearmanr_rank_stats_results = []\n",
    "    short_spearmanr_rank_stats_results = []\n",
    "\n",
    "    # The \"real\" result for this epoch:\n",
    "    active_epoch_aclu_long_ranks = epoch_active_long_pf_peak_ranks\n",
    "    real_long_rank_stats = scipy.stats.spearmanr(active_epoch_aclu_long_ranks, actually_included_epoch_ranks)\n",
    "    real_long_result_corr_value = real_long_rank_stats.statistic\n",
    "\n",
    "    return real_long_result_corr_value #, output_dict\n",
    "\n",
    "# Usage\n",
    "plot = InteractiveRasterBuilderWidget()\n",
    "display(plot)\n"
   ]
  },
  {
   "cell_type": "code",
   "execution_count": 2,
   "metadata": {
    "notebookRunGroups": {
     "groupValue": "1"
    }
   },
   "outputs": [
    {
     "ename": "AttributeError",
     "evalue": "'InteractiveRasterBuilderWidget' object has no attribute 'correlation_text'",
     "output_type": "error",
     "traceback": [
      "\u001b[0;31m---------------------------------------------------------------------------\u001b[0m",
      "\u001b[0;31mAttributeError\u001b[0m                            Traceback (most recent call last)",
      "Cell \u001b[0;32mIn[2], line 1\u001b[0m\n\u001b[0;32m----> 1\u001b[0m \u001b[38;5;28mtype\u001b[39m(\u001b[43mplot\u001b[49m\u001b[38;5;241;43m.\u001b[39;49m\u001b[43mcorrelation_text\u001b[49m)\n",
      "\u001b[0;31mAttributeError\u001b[0m: 'InteractiveRasterBuilderWidget' object has no attribute 'correlation_text'"
     ]
    }
   ],
   "source": [
    "type(plot.correlation_text)"
   ]
  },
  {
   "cell_type": "markdown",
   "metadata": {},
   "source": [
    "write a python script that generates an interactive raster plot with 10 rows (each corresponding to a different neuron) where you can click anywhere to add a \"spike\". Each row should be a different color, and 100ms should be shown.\n",
    "Use a pd.DataFrame named `spikes_df` with the columns ['t', 'aclu'] where 'aclu' refers to the neuron_id instead of `spike_data` to hold the spikes.\n",
    "I'd like to use `np.spearman` to compute the rank-order value of the spike data each time the plot is updated and display that value as a label on the plot"
   ]
  },
  {
   "cell_type": "markdown",
   "metadata": {},
   "source": [
    "great, can you suggest a modification that highlights the currently hovered row with a faint highlight of the spike color, to make it easier to see what unit spikes will be created for?"
   ]
  }
 ],
 "metadata": {
  "kernelspec": {
   "display_name": ".venv",
   "language": "python",
   "name": "python3"
  },
  "language_info": {
   "codemirror_mode": {
    "name": "ipython",
    "version": 3
   },
   "file_extension": ".py",
   "mimetype": "text/x-python",
   "name": "python",
   "nbconvert_exporter": "python",
   "pygments_lexer": "ipython3",
   "version": "3.9.13"
  }
 },
 "nbformat": 4,
 "nbformat_minor": 2
}
