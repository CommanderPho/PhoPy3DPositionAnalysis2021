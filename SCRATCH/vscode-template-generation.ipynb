{
 "cells": [
  {
   "cell_type": "code",
   "execution_count": 3,
   "metadata": {},
   "outputs": [
    {
     "name": "stdout",
     "output_type": "stream",
     "text": [
      "\"📍\": {'scope': 'python', 'prefix': 'emo', 'body': ['📍$1']},\n",
      "\"🎯\": {'scope': 'python', 'prefix': 'emo', 'body': ['🎯$1']},\n",
      "\"📌\": {'scope': 'python', 'prefix': 'emo', 'body': ['📌$1']},\n"
     ]
    },
    {
     "data": {
      "text/plain": [
       "'{\"📍\": {\"scope\": \"python\", \"prefix\": \"emo\", \"body\": [\"📍$1\"]}, \"🎯\": {\"scope\": \"python\", \"prefix\": \"emo\", \"body\": [\"🎯$1\"]}, \"📌\": {\"scope\": \"python\", \"prefix\": \"emo\", \"body\": [\"📌$1\"]}}'"
      ]
     },
     "execution_count": 3,
     "metadata": {},
     "output_type": "execute_result"
    }
   ],
   "source": [
    "def generate_snippets(emoji_list, prefix, scope):\n",
    "    \"\"\" supposed to generate emoji snippets like:\n",
    "        ```markdown\n",
    "            \"bullseye 🎯\": {\n",
    "                \"scope\": \"python\",\n",
    "                \"prefix\": \"emo\",\n",
    "                \"body\": [\"🎯$1\"]\n",
    "            },\n",
    "        ```\n",
    "    \"\"\"\n",
    "    code_snippets = {}\n",
    "    for emoji in emoji_list:\n",
    "        snippet_name = emoji.strip()\n",
    "        snippet_entry = {\n",
    "            \"scope\": scope,\n",
    "            \"prefix\": prefix,\n",
    "            \"body\": [f\"{emoji}$1\"]\n",
    "        }\n",
    "        code_snippets[snippet_name] = snippet_entry\n",
    "    return code_snippets\n",
    "\n",
    "# Example usage:\n",
    "emoji_list = \"📍🎯📌\"\n",
    "prefix = \"emo\"\n",
    "scope = \"python\"\n",
    "snippets = generate_snippets(emoji_list, prefix, scope)\n",
    "\n",
    "\n",
    "formatted_snippets = str(snippets).replace(\"'\", '\"')\n",
    "\n",
    "# Output the generated snippets\n",
    "string_arr = []\n",
    "for name, entry in snippets.items():\n",
    "    for k, v in entry.items():\n",
    "        string_item: str = f'\"{name}\": {entry},'.replace(\"'\", '\"')\n",
    "        print(string_item)\n",
    "        string_arr.append(string_item)\n",
    "\n",
    "    # string_item: str = f'\"{name}\": {entry},'.replace(\"'\", '\"')\n",
    "    # print(string_item)\n",
    "    # string_arr.append(string_item)\n",
    "\n",
    "'\\n'.join(string_arr)\n",
    "# You can copy and paste the output into your VSCode .code-snippets file.\n",
    "formatted_snippets"
   ]
  },
  {
   "cell_type": "code",
   "execution_count": 4,
   "metadata": {},
   "outputs": [
    {
     "name": "stdout",
     "output_type": "stream",
     "text": [
      "{\"📍\": {\"scope\": \"python\", \"prefix\": \"emo\", \"body\": [\"📍$1\"]}, \"🎯\": {\"scope\": \"python\", \"prefix\": \"emo\", \"body\": [\"🎯$1\"]}, \"📌\": {\"scope\": \"python\", \"prefix\": \"emo\", \"body\": [\"📌$1\"]}}\n"
     ]
    }
   ],
   "source": [
    "print(formatted_snippets)"
   ]
  },
  {
   "cell_type": "code",
   "execution_count": 7,
   "metadata": {},
   "outputs": [
    {
     "data": {
      "text/plain": [
       "{'scope': 'python', 'prefix': 'emo', 'body': ['📍$1']}"
      ]
     },
     "execution_count": 7,
     "metadata": {},
     "output_type": "execute_result"
    }
   ],
   "source": [
    "a_snippet_dict = snippets['📍']\n",
    "a_snippet_dict."
   ]
  },
  {
   "cell_type": "code",
   "execution_count": 1,
   "metadata": {},
   "outputs": [
    {
     "name": "stdout",
     "output_type": "stream",
     "text": [
      "['replay_ax_odd', 'suffix_str', 'replay_ax_even', 'suffix_str', '_display_replay_z_score_diff_outputs', 'variable_name', '_display_replay_z_score_raw_outputs', 'variable_name']\n"
     ]
    }
   ],
   "source": [
    "import re\n",
    "\n",
    "def extract_assigned_variables(code_snippet):\n",
    "    # Use regular expressions to find all variable assignments\n",
    "    pattern = r'\\b(\\w+)\\s*=\\s*'\n",
    "    matches = re.findall(pattern, code_snippet)\n",
    "\n",
    "    return matches\n",
    "\n",
    "# Example usage:\n",
    "python_snippet_example = \"\"\"\n",
    "replay_fig_odd, replay_ax_odd = RankOrderAnalyses._plot_ripple_events_shuffle_analysis(odd_ripple_evts_long_short_z_score_diff_values, global_replays, suffix_str='_odd')\n",
    "replay_fig_even, replay_ax_even = RankOrderAnalyses._plot_ripple_events_shuffle_analysis(even_ripple_evts_long_short_z_score_diff_values, global_replays, suffix_str='_even')\n",
    "_display_replay_z_score_diff_outputs = RankOrderAnalyses._perform_plot_z_score_diff(global_replays.labels.astype(float), even_ripple_evts_long_short_z_score_diff_values[1:], odd_ripple_evts_long_short_z_score_diff_values[1:], variable_name='Ripple')\n",
    "_display_replay_z_score_raw_outputs = RankOrderAnalyses._perform_plot_z_score_raw(global_replays.labels.astype(float), odd_ripple_evts_long_z_score_values[1:], even_ripple_evts_long_z_score_values[1:], odd_ripple_evts_short_z_score_values[1:], even_ripple_evts_short_z_score_values[1:], variable_name='Ripple')\n",
    "\"\"\"\n",
    "\n",
    "result = extract_assigned_variables(python_snippet_example)\n",
    "print(result) # ['replay_ax_odd', 'suffix_str', 'replay_ax_even', 'suffix_str', '_display_replay_z_score_diff_outputs', 'variable_name', '_display_replay_z_score_raw_outputs', 'variable_name']\n"
   ]
  },
  {
   "cell_type": "markdown",
   "metadata": {},
   "source": [
    "# Pydoc"
   ]
  },
  {
   "cell_type": "code",
   "execution_count": 1,
   "metadata": {},
   "outputs": [
    {
     "ename": "AttributeError",
     "evalue": "module 'neuropy' has no attribute '__bases__'",
     "output_type": "error",
     "traceback": [
      "\u001b[1;31m---------------------------------------------------------------------------\u001b[0m",
      "\u001b[1;31mAttributeError\u001b[0m                            Traceback (most recent call last)",
      "\u001b[1;32mc:\\Users\\pho\\repos\\Spike3DWorkEnv\\Spike3D\\SCRATCH\\vscode-template-generation.ipynb Cell 6\u001b[0m line \u001b[0;36m7\n\u001b[0;32m      <a href='vscode-notebook-cell:/c%3A/Users/pho/repos/Spike3DWorkEnv/Spike3D/SCRATCH/vscode-template-generation.ipynb#W5sZmlsZQ%3D%3D?line=3'>4</a>\u001b[0m library_name \u001b[39m=\u001b[39m \u001b[39m'\u001b[39m\u001b[39mneuropy\u001b[39m\u001b[39m'\u001b[39m\n\u001b[0;32m      <a href='vscode-notebook-cell:/c%3A/Users/pho/repos/Spike3DWorkEnv/Spike3D/SCRATCH/vscode-template-generation.ipynb#W5sZmlsZQ%3D%3D?line=4'>5</a>\u001b[0m \u001b[39mimport\u001b[39;00m \u001b[39mneuropy\u001b[39;00m\n\u001b[1;32m----> <a href='vscode-notebook-cell:/c%3A/Users/pho/repos/Spike3DWorkEnv/Spike3D/SCRATCH/vscode-template-generation.ipynb#W5sZmlsZQ%3D%3D?line=6'>7</a>\u001b[0m functions \u001b[39m=\u001b[39m [name \u001b[39mfor\u001b[39;00m name, obj \u001b[39min\u001b[39;00m pydoc\u001b[39m.\u001b[39;49mallmethods(neuropy) \u001b[39mif\u001b[39;00m \u001b[39mcallable\u001b[39m(obj)]\n\u001b[0;32m      <a href='vscode-notebook-cell:/c%3A/Users/pho/repos/Spike3DWorkEnv/Spike3D/SCRATCH/vscode-template-generation.ipynb#W5sZmlsZQ%3D%3D?line=8'>9</a>\u001b[0m \u001b[39mfor\u001b[39;00m function \u001b[39min\u001b[39;00m functions:\n\u001b[0;32m     <a href='vscode-notebook-cell:/c%3A/Users/pho/repos/Spike3DWorkEnv/Spike3D/SCRATCH/vscode-template-generation.ipynb#W5sZmlsZQ%3D%3D?line=9'>10</a>\u001b[0m     \u001b[39mprint\u001b[39m(function)\n",
      "File \u001b[1;32m~\\.pyenv\\pyenv-win\\versions\\3.9.13\\lib\\pydoc.py:254\u001b[0m, in \u001b[0;36mallmethods\u001b[1;34m(cl)\u001b[0m\n\u001b[0;32m    252\u001b[0m \u001b[39mfor\u001b[39;00m key, value \u001b[39min\u001b[39;00m inspect\u001b[39m.\u001b[39mgetmembers(cl, inspect\u001b[39m.\u001b[39misroutine):\n\u001b[0;32m    253\u001b[0m     methods[key] \u001b[39m=\u001b[39m \u001b[39m1\u001b[39m\n\u001b[1;32m--> 254\u001b[0m \u001b[39mfor\u001b[39;00m base \u001b[39min\u001b[39;00m cl\u001b[39m.\u001b[39;49m\u001b[39m__bases__\u001b[39;49m:\n\u001b[0;32m    255\u001b[0m     methods\u001b[39m.\u001b[39mupdate(allmethods(base)) \u001b[39m# all your base are belong to us\u001b[39;00m\n\u001b[0;32m    256\u001b[0m \u001b[39mfor\u001b[39;00m key \u001b[39min\u001b[39;00m methods\u001b[39m.\u001b[39mkeys():\n",
      "\u001b[1;31mAttributeError\u001b[0m: module 'neuropy' has no attribute '__bases__'"
     ]
    }
   ],
   "source": [
    "import pydoc\n",
    "\n",
    "# Replace 'your_library_name' with the actual library name\n",
    "library_name = 'neuropy'\n",
    "import neuropy\n",
    "\n",
    "functions = [name for name, obj in pydoc.allmethods(neuropy) if callable(obj)]\n",
    "\n",
    "for function in functions:\n",
    "    print(function)\n"
   ]
  },
  {
   "cell_type": "code",
   "execution_count": 4,
   "metadata": {},
   "outputs": [],
   "source": [
    "import inspect\n",
    "\n",
    "# Replace 'your_library_name' with the actual library name\n",
    "library_name = 'neuropy'\n",
    "functions = [name for name, obj in inspect.getmembers(library_name) if inspect.isfunction(obj)]\n",
    "\n",
    "for function in functions:\n",
    "    print(function)\n"
   ]
  },
  {
   "cell_type": "code",
   "execution_count": 1,
   "metadata": {},
   "outputs": [
    {
     "data": {
      "text/plain": [
       "'\\nodd_outputs = compute_shuffled_rankorder_analyses(global_spikes_df, deepcopy(global_laps), odd_shuffle_helper, rank_alignment=rank_alignment, debug_print=False)\\neven_outputs = compute_shuffled_rankorder_analyses(global_spikes_df, deepcopy(global_laps), even_shuffle_helper, rank_alignment=rank_alignment, debug_print=False)\\n\\n# Unwrap\\nodd_laps_epoch_ranked_aclus_stats_dict, odd_laps_epoch_selected_spikes_fragile_linear_neuron_IDX_dict, (odd_laps_long_z_score_values, odd_laps_short_z_score_values, odd_laps_long_short_z_score_diff_values) = odd_outputs\\neven_laps_epoch_ranked_aclus_stats_dict, even_laps_epoch_selected_spikes_fragile_linear_neuron_IDX_dict, (even_laps_long_z_score_values, even_laps_short_z_score_values, even_laps_long_short_z_score_diff_values) = even_outputs\\n\\n'"
      ]
     },
     "execution_count": 1,
     "metadata": {},
     "output_type": "execute_result"
    }
   ],
   "source": [
    "\"\"\"\n",
    "odd_outputs = compute_shuffled_rankorder_analyses(global_spikes_df, deepcopy(global_laps), odd_shuffle_helper, rank_alignment=rank_alignment, debug_print=False)\n",
    "even_outputs = compute_shuffled_rankorder_analyses(global_spikes_df, deepcopy(global_laps), even_shuffle_helper, rank_alignment=rank_alignment, debug_print=False)\n",
    "\n",
    "# Unwrap\n",
    "odd_laps_epoch_ranked_aclus_stats_dict, odd_laps_epoch_selected_spikes_fragile_linear_neuron_IDX_dict, (odd_laps_long_z_score_values, odd_laps_short_z_score_values, odd_laps_long_short_z_score_diff_values) = odd_outputs\n",
    "even_laps_epoch_ranked_aclus_stats_dict, even_laps_epoch_selected_spikes_fragile_linear_neuron_IDX_dict, (even_laps_long_z_score_values, even_laps_short_z_score_values, even_laps_long_short_z_score_diff_values) = even_outputs\n",
    "\n",
    "\"\"\""
   ]
  },
  {
   "cell_type": "code",
   "execution_count": 14,
   "metadata": {},
   "outputs": [
    {
     "name": "stdout",
     "output_type": "stream",
     "text": [
      "with VizTracer(output_file=f\\\"viztracer_$CURRENT_YEAR-$CURRENT_MONTH-$CURRENT_DATE $CURRENT_HOUR:$CURRENT_MINUTE-${1:purpose}.json\\\", min_duration=200, tracer_entries=3000000, ignore_frozen=True) as tracer:\n"
     ]
    }
   ],
   "source": [
    "# input_code = \"\"\"\n",
    "# with VizTracer(output_file=f\"viztracer_$CURRENT_YEAR-$CURRENT_MONTH-$CURRENT_DATE $CURRENT_HOUR:$CURRENT_MINUTE-${1:purpose}.json\", min_duration=200, tracer_entries=3000000, ignore_frozen=True) as tracer:\n",
    "# \t${2:The code to run.}\n",
    "# \"\"\"\n",
    "\n",
    "# replace '\"' in each output line by its escaped version '\\\"' \n",
    "# 'with VizTracer(output_file=f\"vizt.json\") as tracer:'.replace('\"', '\\\"')\n",
    "\n",
    "print('with VizTracer(output_file=f\"viztracer_$CURRENT_YEAR-$CURRENT_MONTH-$CURRENT_DATE $CURRENT_HOUR:$CURRENT_MINUTE-${1:purpose}.json\", min_duration=200, tracer_entries=3000000, ignore_frozen=True) as tracer:'.replace('\"', '\\\\\"')) # with VizTracer(output_file=f\\\"vizt.json\\\") as tracer:\n",
    "\n",
    "\n",
    "# 'with VizTracer(output_file=f\"viztracer_$CURRENT_YEAR-$CURRENT_MONTH-$CURRENT_DATE $CURRENT_HOUR:$CURRENT_MINUTE-${1:purpose}.json\", min_duration=200, tracer_entries=3000000, ignore_frozen=True) as tracer:'.replace('\"', '\\\"')\n",
    "\n"
   ]
  },
  {
   "cell_type": "markdown",
   "metadata": {},
   "source": [
    "# Multiple Independent VSCode Instances using `--user-data-dir`"
   ]
  },
  {
   "cell_type": "code",
   "execution_count": null,
   "metadata": {},
   "outputs": [],
   "source": [
    "`Developer: Open User Data Folder`\n",
    "\n",
    "`C:\\Users\\pho\\AppData\\Roaming\\Code`\n",
    "\n"
   ]
  },
  {
   "cell_type": "code",
   "execution_count": null,
   "metadata": {},
   "outputs": [],
   "source": [
    "code --user-data-dir=\"K:\\FastSwap\\AppData\\CodeBlue\"\n"
   ]
  }
 ],
 "metadata": {
  "kernelspec": {
   "display_name": ".venv",
   "language": "python",
   "name": "python3"
  },
  "language_info": {
   "codemirror_mode": {
    "name": "ipython",
    "version": 3
   },
   "file_extension": ".py",
   "mimetype": "text/x-python",
   "name": "python",
   "nbconvert_exporter": "python",
   "pygments_lexer": "ipython3",
   "version": "3.9.13"
  }
 },
 "nbformat": 4,
 "nbformat_minor": 2
}
