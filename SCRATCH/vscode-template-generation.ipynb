{
 "cells": [
  {
   "cell_type": "code",
   "execution_count": 3,
   "metadata": {},
   "outputs": [
    {
     "name": "stdout",
     "output_type": "stream",
     "text": [
      "\"📍\": {'scope': 'python', 'prefix': 'emo', 'body': ['📍$1']},\n",
      "\"🎯\": {'scope': 'python', 'prefix': 'emo', 'body': ['🎯$1']},\n",
      "\"📌\": {'scope': 'python', 'prefix': 'emo', 'body': ['📌$1']},\n"
     ]
    },
    {
     "data": {
      "text/plain": [
       "'{\"📍\": {\"scope\": \"python\", \"prefix\": \"emo\", \"body\": [\"📍$1\"]}, \"🎯\": {\"scope\": \"python\", \"prefix\": \"emo\", \"body\": [\"🎯$1\"]}, \"📌\": {\"scope\": \"python\", \"prefix\": \"emo\", \"body\": [\"📌$1\"]}}'"
      ]
     },
     "execution_count": 3,
     "metadata": {},
     "output_type": "execute_result"
    }
   ],
   "source": [
    "def generate_snippets(emoji_list, prefix, scope):\n",
    "    \"\"\" supposed to generate emoji snippets like:\n",
    "        ```markdown\n",
    "            \"bullseye 🎯\": {\n",
    "                \"scope\": \"python\",\n",
    "                \"prefix\": \"emo\",\n",
    "                \"body\": [\"🎯$1\"]\n",
    "            },\n",
    "        ```\n",
    "    \"\"\"\n",
    "    code_snippets = {}\n",
    "    for emoji in emoji_list:\n",
    "        snippet_name = emoji.strip()\n",
    "        snippet_entry = {\n",
    "            \"scope\": scope,\n",
    "            \"prefix\": prefix,\n",
    "            \"body\": [f\"{emoji}$1\"]\n",
    "        }\n",
    "        code_snippets[snippet_name] = snippet_entry\n",
    "    return code_snippets\n",
    "\n",
    "# Example usage:\n",
    "emoji_list = \"📍🎯📌\"\n",
    "prefix = \"emo\"\n",
    "scope = \"python\"\n",
    "snippets = generate_snippets(emoji_list, prefix, scope)\n",
    "\n",
    "\n",
    "formatted_snippets = str(snippets).replace(\"'\", '\"')\n",
    "\n",
    "# Output the generated snippets\n",
    "string_arr = []\n",
    "for name, entry in snippets.items():\n",
    "    for k, v in entry.items():\n",
    "        string_item: str = f'\"{name}\": {entry},'.replace(\"'\", '\"')\n",
    "        print(string_item)\n",
    "        string_arr.append(string_item)\n",
    "\n",
    "    # string_item: str = f'\"{name}\": {entry},'.replace(\"'\", '\"')\n",
    "    # print(string_item)\n",
    "    # string_arr.append(string_item)\n",
    "\n",
    "'\\n'.join(string_arr)\n",
    "# You can copy and paste the output into your VSCode .code-snippets file.\n",
    "formatted_snippets"
   ]
  },
  {
   "cell_type": "code",
   "execution_count": 4,
   "metadata": {},
   "outputs": [
    {
     "name": "stdout",
     "output_type": "stream",
     "text": [
      "{\"📍\": {\"scope\": \"python\", \"prefix\": \"emo\", \"body\": [\"📍$1\"]}, \"🎯\": {\"scope\": \"python\", \"prefix\": \"emo\", \"body\": [\"🎯$1\"]}, \"📌\": {\"scope\": \"python\", \"prefix\": \"emo\", \"body\": [\"📌$1\"]}}\n"
     ]
    }
   ],
   "source": [
    "print(formatted_snippets)"
   ]
  },
  {
   "cell_type": "code",
   "execution_count": 7,
   "metadata": {},
   "outputs": [
    {
     "data": {
      "text/plain": [
       "{'scope': 'python', 'prefix': 'emo', 'body': ['📍$1']}"
      ]
     },
     "execution_count": 7,
     "metadata": {},
     "output_type": "execute_result"
    }
   ],
   "source": [
    "a_snippet_dict = snippets['📍']\n",
    "a_snippet_dict."
   ]
  },
  {
   "cell_type": "code",
   "execution_count": 1,
   "metadata": {},
   "outputs": [
    {
     "name": "stdout",
     "output_type": "stream",
     "text": [
      "['replay_ax_odd', 'suffix_str', 'replay_ax_even', 'suffix_str', '_display_replay_z_score_diff_outputs', 'variable_name', '_display_replay_z_score_raw_outputs', 'variable_name']\n"
     ]
    }
   ],
   "source": [
    "import re\n",
    "\n",
    "def extract_assigned_variables(code_snippet):\n",
    "    # Use regular expressions to find all variable assignments\n",
    "    pattern = r'\\b(\\w+)\\s*=\\s*'\n",
    "    matches = re.findall(pattern, code_snippet)\n",
    "\n",
    "    return matches\n",
    "\n",
    "# Example usage:\n",
    "python_snippet_example = \"\"\"\n",
    "replay_fig_odd, replay_ax_odd = RankOrderAnalyses._plot_ripple_events_shuffle_analysis(odd_ripple_evts_long_short_z_score_diff_values, global_replays, suffix_str='_odd')\n",
    "replay_fig_even, replay_ax_even = RankOrderAnalyses._plot_ripple_events_shuffle_analysis(even_ripple_evts_long_short_z_score_diff_values, global_replays, suffix_str='_even')\n",
    "_display_replay_z_score_diff_outputs = RankOrderAnalyses._perform_plot_z_score_diff(global_replays.labels.astype(float), even_ripple_evts_long_short_z_score_diff_values[1:], odd_ripple_evts_long_short_z_score_diff_values[1:], variable_name='Ripple')\n",
    "_display_replay_z_score_raw_outputs = RankOrderAnalyses._perform_plot_z_score_raw(global_replays.labels.astype(float), odd_ripple_evts_long_z_score_values[1:], even_ripple_evts_long_z_score_values[1:], odd_ripple_evts_short_z_score_values[1:], even_ripple_evts_short_z_score_values[1:], variable_name='Ripple')\n",
    "\"\"\"\n",
    "\n",
    "result = extract_assigned_variables(python_snippet_example)\n",
    "print(result) # ['replay_ax_odd', 'suffix_str', 'replay_ax_even', 'suffix_str', '_display_replay_z_score_diff_outputs', 'variable_name', '_display_replay_z_score_raw_outputs', 'variable_name']\n"
   ]
  },
  {
   "cell_type": "code",
   "execution_count": null,
   "metadata": {},
   "outputs": [],
   "source": []
  }
 ],
 "metadata": {
  "kernelspec": {
   "display_name": ".venv",
   "language": "python",
   "name": "python3"
  },
  "language_info": {
   "codemirror_mode": {
    "name": "ipython",
    "version": 3
   },
   "file_extension": ".py",
   "mimetype": "text/x-python",
   "name": "python",
   "nbconvert_exporter": "python",
   "pygments_lexer": "ipython3",
   "version": "3.9.13"
  }
 },
 "nbformat": 4,
 "nbformat_minor": 2
}
