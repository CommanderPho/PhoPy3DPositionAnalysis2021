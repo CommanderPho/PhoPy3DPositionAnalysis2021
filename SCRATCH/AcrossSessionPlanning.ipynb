{
 "cells": [
  {
   "cell_type": "code",
   "execution_count": 1,
   "metadata": {},
   "outputs": [],
   "source": [
    "import pandas as pd\n",
    "import numpy as np\n",
    "import tables as tb\n",
    "from tables import (\n",
    "    Int8Col, Int16Col, Int32Col, Int64Col,\n",
    "    UInt8Col, UInt16Col, UInt32Col, UInt64Col,\n",
    "    Float32Col, Float64Col,\n",
    "    TimeCol, ComplexCol, StringCol, BoolCol, EnumCol\n",
    ")\n",
    "\n",
    "from neuropy.core.neurons import NeuronType, Neurons"
   ]
  },
  {
   "cell_type": "code",
   "execution_count": null,
   "metadata": {},
   "outputs": [],
   "source": [
    "pd.DataFrame({'long_laps': [2, 10, 10], 'short_laps': [10, 11, 10], 'num_replays': [20, 100, 500]})"
   ]
  },
  {
   "cell_type": "markdown",
   "metadata": {},
   "source": [
    "## Neuron Info\n",
    "\n",
    "# `Quantifiers: զ`\n",
    "# զSESS := per session\n",
    "# զEPCS := per epcoch in ['long', 'short', 'all']\n",
    "\n",
    "['num_pyr', 'num_inter', 'num_BAD', 'num_total'] # զSESS\n",
    "['num_pf1D', 'num_pf2D'] ## proportion that are place cells, զEPCS\n",
    "\n",
    "['num_pyr', 'num_inter', 'num_BAD', 'num_total']: UInt16Col()\n",
    "\n",
    "# Each neuron can be uniquely identified by:\n",
    "['session_context', 'aclus', 'qclus', 'shank_ids', 'cluster_ids']\n",
    "\n",
    "\n",
    "## CONCLUSION: Sounds like I need a simple collection that stores a table of neuron properties. Probably shouldn't store the derived properties (fragile_linear_neruon_IDX)\n",
    "\n",
    "# Existing `neuropy.core.Neurons` object holds mostly spikes\n",
    "- Neuron info\n",
    "- Spikes\n",
    "- Aggregate measures like firing rate\n",
    "\n",
    "Convenience properties for use in visualizations, etc like\n",
    "\t- aclu_to_neuron_type_map\n",
    "\t- reverse_cellID_index_map\n",
    "\t- \n",
    "\n",
    "## Replays Info\n",
    "'num_replays', 'num_PBEs'"
   ]
  },
  {
   "cell_type": "markdown",
   "metadata": {},
   "source": []
  },
  {
   "cell_type": "code",
   "execution_count": null,
   "metadata": {},
   "outputs": [],
   "source": [
    "# ==================================================================================================================== #\n",
    "# 2023-08-01 PyTables Test                                                                                             #\n",
    "# ==================================================================================================================== #\n",
    "\n",
    "import tables as tb\n",
    "from tables import (\n",
    "    Int8Col, Int16Col, Int32Col, Int64Col,\n",
    "    UInt8Col, UInt16Col, UInt32Col, UInt64Col,\n",
    "    Float32Col, Float64Col,\n",
    "    TimeCol, ComplexCol, StringCol, BoolCol, EnumCol\n",
    ")\n",
    "\n",
    "# UInt8 255\n",
    "# UInt16 65535\n",
    "# UInt32 4,294,967,295\n",
    "\n",
    "\n",
    "\n",
    "# Custom Column Definition:\n",
    "# class NeuronTypeCol(Int32Col):\n",
    "#     def __init__(self, *args, **kwargs):\n",
    "#         super().__init__(*args, **kwargs)\n",
    "\n",
    "#     def from_enum(self, value):\n",
    "#         return value.value\n",
    "\n",
    "#     def to_enum(self, value):\n",
    "#         return NeuronType(value)\n",
    "\n",
    "\n",
    "# class NeuronTable(IsDescription):\n",
    "#     neuron_type = Int32Col()\n",
    "\n",
    "\n",
    "\n",
    "# Table Definition:\n",
    "class NeuronTable(tb.IsDescription):\n",
    "    neuron_type = Int32Col()\n",
    "\n",
    "\n",
    "with tb.open_file('neurons.h5', mode='w') as h5file:\n",
    "    group = h5file.create_group(\"/\", 'neurons', 'Neuron data')\n",
    "    table = h5file.create_table(group, 'table', NeuronTable, \"Neuron types\")\n",
    "\n",
    "    # Serialization\n",
    "    row = table.row\n",
    "    row['neuron_type'] = NeuronType.PYRAMIDAL.value\n",
    "    row.append()\n",
    "    table.flush()\n",
    "\n",
    "    # Deserialization\n",
    "    for r in table.iterrows():\n",
    "        neuron_type = NeuronType(r['neuron_type'])\n",
    "        print(neuron_type)  # Output will be NeuronType.PYRAMIDAL"
   ]
  },
  {
   "cell_type": "markdown",
   "metadata": {},
   "source": []
  }
 ],
 "metadata": {
  "kernelspec": {
   "display_name": ".venv",
   "language": "python",
   "name": "python3"
  },
  "language_info": {
   "codemirror_mode": {
    "name": "ipython",
    "version": 3
   },
   "file_extension": ".py",
   "mimetype": "text/x-python",
   "name": "python",
   "nbconvert_exporter": "python",
   "pygments_lexer": "ipython3",
   "version": "3.9.13"
  },
  "orig_nbformat": 4
 },
 "nbformat": 4,
 "nbformat_minor": 2
}
