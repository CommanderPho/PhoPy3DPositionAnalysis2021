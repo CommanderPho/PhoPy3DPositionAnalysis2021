{
 "cells": [
  {
   "cell_type": "code",
   "execution_count": null,
   "id": "0056bc66-7629-4ef7-8c87-f28f8fcd9dc8",
   "metadata": {
    "autorun": true,
    "tags": [
     "imports",
     "REQUIRED",
     "ACTIVE"
    ]
   },
   "outputs": [],
   "source": [
    "%config IPCompleter.use_jedi = False\n",
    "%pdb off\n",
    "%load_ext autoreload\n",
    "%autoreload 3\n",
    "from pathlib import Path\n",
    "import pathlib\n",
    "import numpy as np\n",
    "import pandas as pd\n",
    "\n",
    "# required to enable non-blocking interaction:\n",
    "%gui qt5\n",
    "\n",
    "## Pho's Custom Libraries:\n",
    "from pyphocorehelpers.Filesystem.path_helpers import find_first_extant_path\n",
    "from pyphocorehelpers.function_helpers import function_attributes\n",
    "\n",
    "# pyPhoPlaceCellAnalysis:\n",
    "# NeuroPy (Diba Lab Python Repo) Loading\n",
    "from neuropy.core.session.Formats.BaseDataSessionFormats import DataSessionFormatRegistryHolder\n",
    "from neuropy.core.session.Formats.Specific.BapunDataSessionFormat import BapunDataSessionFormatRegisteredClass\n",
    "from neuropy.core.session.Formats.Specific.KDibaOldDataSessionFormat import KDibaOldDataSessionFormatRegisteredClass\n",
    "from neuropy.core.session.Formats.Specific.RachelDataSessionFormat import RachelDataSessionFormat\n",
    "from neuropy.core.session.Formats.Specific.HiroDataSessionFormat import HiroDataSessionFormatRegisteredClass\n",
    "\n",
    "## For computation parameters:\n",
    "from neuropy.utils.result_context import IdentifyingContext\n",
    "from neuropy.core.session.Formats.BaseDataSessionFormats import find_local_session_paths\n",
    "\n",
    "# from PendingNotebookCode import _perform_batch_plot, _build_batch_plot_kwargs\n",
    "# from pyphoplacecellanalysis.General.Batch.NonInteractiveProcessing import batch_load_session, batch_extended_computations, SessionBatchProgress, batch_programmatic_figures, batch_extended_programmatic_figures\n",
    "# from pyphoplacecellanalysis.General.Pipeline.NeuropyPipeline import PipelineSavingScheme\n",
    "from pyphoplacecellanalysis.General.Pipeline.Stages.Loading import saveData, loadData\n",
    "import pyphoplacecellanalysis.General.Batch.runBatch\n",
    "from pyphoplacecellanalysis.General.Batch.runBatch import BatchRun, BatchResultDataframeAccessor, run_diba_batch, BatchComputationProcessOptions, BatchSessionCompletionHandler\n",
    "from pyphoplacecellanalysis.General.Pipeline.NeuropyPipeline import PipelineSavingScheme\n",
    "from pyphoplacecellanalysis.General.Model.user_annotations import UserAnnotationsManager\n",
    "\n",
    "from pyphocorehelpers.Filesystem.path_helpers import set_posix_windows"
   ]
  },
  {
   "cell_type": "code",
   "execution_count": null,
   "id": "8ef5938c",
   "metadata": {
    "tags": []
   },
   "outputs": [],
   "source": [
    "# active_global_batch_result_filename='global_batch_result_2023-07-12.pkl'\n",
    "# active_global_batch_result_filename='global_batch_result_2023-07-07.pkl'\n",
    "# active_global_batch_result_filename='global_batch_result_2023-07-07_extra.pkl'\n",
    "active_global_batch_result_filename='global_batch_result_2023-07-19.pkl'\n",
    "debug_print = False\n",
    "enable_neptune = False\n",
    "\n",
    "if enable_neptune:\n",
    "    import neptune # for logging progress and results\n",
    "    from neptune.types import File\n",
    "    from pyphoplacecellanalysis.General.Batch.NeptuneAiHelpers import set_environment_variables, neptune_output_figures\n",
    "    neptune_kwargs = {'project':\"commander.pho/PhoDibaLongShort2023\",\n",
    "    'api_token':\"eyJhcGlfYWRkcmVzcyI6Imh0dHBzOi8vYXBwLm5lcHR1bmUuYWkiLCJhcGlfdXJsIjoiaHR0cHM6Ly9hcHAubmVwdHVuZS5haSIsImFwaV9rZXkiOiIxOGIxODU2My1lZTNhLTQ2ZWMtOTkzNS02ZTRmNzM5YmNjNjIifQ==\"}\n",
    "    set_environment_variables(neptune_kwargs)"
   ]
  },
  {
   "cell_type": "code",
   "execution_count": null,
   "id": "fd2d3eda-cb38-464a-a90a-df4df90d5893",
   "metadata": {
    "tags": []
   },
   "outputs": [],
   "source": [
    "\"\"\" \n",
    "from pyphoplacecellanalysis.General.Batch.runBatch import main, BatchRun, run_diba_batch, run_specific_batch\n",
    "\n",
    "\"\"\"\n",
    "known_global_data_root_parent_paths = [Path(r'W:\\Data'), Path(r'/media/MAX/Data'), Path(r'/Volumes/MoverNew/data'), Path(r'/home/halechr/turbo/Data'), Path(r'/nfs/turbo/umms-kdiba/Data')]\n",
    "global_data_root_parent_path = find_first_extant_path(known_global_data_root_parent_paths)\n",
    "assert global_data_root_parent_path.exists(), f\"global_data_root_parent_path: {global_data_root_parent_path} does not exist! Is the right computer's config commented out above?\"\n",
    "\n",
    "## NEPTUNE:\n",
    "if enable_neptune:\n",
    "\tproject = neptune.init_project(**neptune_kwargs)\n",
    "\tproject[\"general/global_batch_result_filename\"] = active_global_batch_result_filename\n",
    "\tproject[\"general/global_data_root_parent_path\"] = global_data_root_parent_path.as_posix()\n",
    "\n",
    "## TODO: load the batch result initially:\n",
    "\n",
    "## Build Pickle Path:\n",
    "global_batch_result_file_path = Path(global_data_root_parent_path).joinpath(active_global_batch_result_filename).resolve() # Use Default\n",
    "\n",
    "if enable_neptune:\n",
    "\trun = neptune.init_run() # rember to run.stop()\n",
    "\trun['parameters/global_batch_result_file_path'] = global_batch_result_file_path.as_posix()\n",
    "\t# project[\"general/data_analysis\"].upload(\"data_analysis.ipynb\")\n",
    "\trun[\"dataset/latest\"].track_files(f\"file://{global_batch_result_file_path}\") # \"s3://datasets/images\"\n",
    "\n",
    "# try to load an existing batch result:\n",
    "with set_posix_windows():\n",
    "\tglobal_batch_run = BatchRun.try_init_from_file(global_data_root_parent_path, active_global_batch_result_filename=active_global_batch_result_filename,\n",
    "\t\t\t\t\t\t\tskip_root_path_conversion=False, debug_print=debug_print) # on_needs_create_callback_fn=run_diba_batch\n",
    "\n",
    "batch_progress_df = global_batch_run.to_dataframe(expand_context=True, good_only=False) # all\n",
    "good_only_batch_progress_df = global_batch_run.to_dataframe(expand_context=True, good_only=True)\n",
    "batch_progress_df.batch_results.build_all_columns()\n",
    "good_only_batch_progress_df.batch_results.build_all_columns()\n",
    "if enable_neptune:\n",
    "\trun[\"dataset/global_batch_run_progress_df\"].upload(File.as_html(batch_progress_df)) # \"path/to/test_preds.csv\"\n",
    "\trun[\"dataset/global_batch_run_good_only_df\"].upload(File.as_html(good_only_batch_progress_df)) # \"path/to/test_preds.csv\"\n",
    "\n",
    "with pd.option_context('display.max_rows', None, 'display.max_columns', None):  # more options can be specified also\n",
    "    # display(batch_progress_df)\n",
    "    display(good_only_batch_progress_df)"
   ]
  },
  {
   "cell_type": "code",
   "execution_count": null,
   "id": "3f001aa6",
   "metadata": {},
   "outputs": [],
   "source": [
    "df = deepcopy(good_only_batch_progress_df)\n",
    "df.batch_results._build_minimal_session_identifiers_list()\n",
    "df\n"
   ]
  },
  {
   "cell_type": "code",
   "execution_count": null,
   "id": "b52a3e8f",
   "metadata": {},
   "outputs": [],
   "source": [
    "## Get Uniques:\n",
    "# good_only_batch_progress_df['format_name']\n",
    "# good_only_batch_progress_df['animal']\n",
    "# Reset index to work with columns\n",
    "df.reset_index(inplace=True)\n",
    "\n",
    "# Extract unique values for each column\n",
    "unique_format_names = df['format_name'].unique()\n",
    "unique_animals = df['animal'].unique()\n",
    "unique_exper_names = df['exper_name'].unique()\n",
    "unique_session_names = df['session_name'].unique()\n",
    "\n",
    "# Create mapping to shorthand notation for each column\n",
    "format_name_mapping = {name: f'f{i}' for i, name in enumerate(unique_format_names)}\n",
    "animal_mapping = {name: f'a{i}' for i, name in enumerate(unique_animals)}\n",
    "exper_name_mapping = {name: f'e{i}' for i, name in enumerate(unique_exper_names)}\n",
    "session_name_mapping = {name: f's{i}' for i, name in enumerate(unique_session_names)}\n",
    "\n",
    "# df['format_name'].replace(format_name_mapping, inplace=True)\n",
    "# df['animal'].replace(animal_mapping, inplace=True)\n",
    "# df['exper_name'].replace(exper_name_mapping, inplace=True)\n",
    "# df['session_name'].replace(session_name_mapping, inplace=True)\n",
    "\n",
    "\n",
    "\n",
    "\n",
    "# df['context_minimal_name'] = [f\"{animal_mapping[ctx.animal]}{exper_name_mapping[ctx.exper_name]}{session_name_mapping[ctx.session_name]}\" for ctx in df['context']] # no [one, two]\n",
    "\n",
    "## Working one method:\n",
    "# df['context_minimal_name'] = [f\"{animal_mapping[ctx.animal]}{session_name_mapping[ctx.session_name]}\" for ctx in df['context']]\n",
    "\n",
    "\n",
    "# # Set the first four columns as a multi-index\n",
    "# df.set_index(['format_name', 'animal', 'exper_name', 'session_name'], inplace=True)\n",
    "\n",
    "# # Sort the DataFrame by the multi-index\n",
    "# df.sort_index(inplace=True)\n",
    "\n",
    "df.head()\n",
    "# Define a function to create a hierarchical mapping\n",
    "def create_nested_mapping(df, parent_col, child_col):\n",
    "    mapping = {}\n",
    "    unique_parents = df[parent_col].unique()\n",
    "    \n",
    "    for i, parent in enumerate(unique_parents):\n",
    "        subset = df[df[parent_col] == parent]\n",
    "        unique_children = subset[child_col].unique()\n",
    "        child_mapping = {child: f'{parent[0]}{i}{child_col[0]}{j}' for j, child in enumerate(unique_children)}\n",
    "        mapping[parent] = child_mapping\n",
    "    \n",
    "    return mapping\n",
    "\n",
    "\"\"\" \n",
    "{'gor01': {'2006-6-08_14-26-15': 'g0s0',\n",
    "   '2006-6-12_15-55-31': 'g0s1',\n",
    "   '2006-6-13_14-42-6': 'g0s2',\n",
    "   '2006-6-07_16-40-19': 'g0s3',\n",
    "   '2006-6-08_21-16-25': 'g0s4',\n",
    "   '2006-6-09_22-24-40': 'g0s5',\n",
    "   '2006-6-12_16-53-46': 'g0s6',\n",
    "   '2006-6-13_15-22-3': 'g0s7'},\n",
    "  'vvp01': {'2006-4-10_12-25-50': 'v1s0',\n",
    "   '2006-4-09_16-40-54': 'v1s1',\n",
    "   '2006-4-10_12-58-3': 'v1s2',\n",
    "   '2006-4-12_15-25-59': 'v1s3',\n",
    "   '2006-4-16_18-47-52': 'v1s4',\n",
    "   '2006-4-17_12-52-15': 'v1s5',\n",
    "   '2006-4-25_13-20-55': 'v1s6',\n",
    "   '2006-4-28_12-38-13': 'v1s7'},\n",
    "  'pin01': {'11-02_17-46-44': 'p2s0',\n",
    "   '11-02_19-28-0': 'p2s1',\n",
    "   '11-03_12-3-25': 'p2s2',\n",
    "   '11-09_11-43-50': 'p2s3',\n",
    "   '11-09_12-15-3': 'p2s4',\n",
    "   '11-09_21-17-16': 'p2s5',\n",
    "   '11-09_22-4-5': 'p2s6',\n",
    "   'fet11-01_12-58-54': 'p2s7',\n",
    "   'fet11-03_20-28-3': 'p2s8'}})\n",
    "\n",
    "\"\"\"\n",
    "# Create a mapping for 'session_name' within each 'animal'\n",
    "# animal_session_mapping = {animal: {session: f'{animal[0]}{i}s{j}' for j, session in enumerate(df[df['animal'] == animal]['session_name'].unique())} for i, animal in enumerate(df['animal'].unique())} # 'g0s0'\n",
    "animal_session_mapping = {animal: {session: f'{animal_mapping[animal]}s{j}' for j, session in enumerate(df[df['animal'] == animal]['session_name'].unique())} for i, animal in enumerate(df['animal'].unique())} # 'g0s0'\n",
    "\n",
    "# Replace original values with shorthand notation\n",
    "for animal, session_mapping in animal_session_mapping.items():\n",
    "    # df.loc[df['animal'] == animal, 'session_name'] = df.loc[df['animal'] == animal, 'session_name'].replace(session_mapping)\n",
    "    df.loc[df['animal'] == animal, 'context_minimal_name'] = df.loc[df['animal'] == animal, 'session_name'].replace(session_mapping)\n",
    "\n",
    "# Drop 'exper_name' column as it's not needed\n",
    "df.drop(columns='exper_name', inplace=True)\n",
    "\n",
    "# Display the updated DataFrame and the mappings\n",
    "# df.head()\n",
    "\n",
    "df\n",
    "\n",
    "\n",
    "# # Create a nested mapping for 'exper_name' within each 'animal'\n",
    "# # animal_exper_mapping = create_nested_mapping(df, 'animal', 'exper_name')\n",
    "# animal_session_name_mapping = create_nested_mapping(df, 'animal', 'session_name')\n",
    "\n",
    "# # Create a nested mapping for 'session_name' within each 'exper_name' within each 'animal'\n",
    "# animal_exper_session_mapping = {animal: create_nested_mapping(df[df['animal'] == animal], 'exper_name', 'session_name') for animal in df['animal'].unique()}\n",
    "\n",
    "# # Replace original values with shorthand notation\n",
    "# for animal, exper_mapping in animal_exper_mapping.items():\n",
    "#     df.loc[df['animal'] == animal, 'exper_name'] = df.loc[df['animal'] == animal, 'exper_name'].replace(exper_mapping)\n",
    "    \n",
    "# for animal, exper_session_mapping in animal_exper_session_mapping.items():\n",
    "#     for exper, session_mapping in exper_session_mapping.items():\n",
    "#         df.loc[(df['animal'] == animal) & (df['exper_name'] == exper), 'session_name'] = df.loc[(df['animal'] == animal) & (df['exper_name'] == exper), 'session_name'].replace(session_mapping)\n",
    "\n",
    "# # Display the updated DataFrame and the mappings\n",
    "# df.head(), animal_exper_mapping, animal_exper_session_mapping\n"
   ]
  },
  {
   "cell_type": "code",
   "execution_count": null,
   "id": "b9b9568c",
   "metadata": {},
   "outputs": [],
   "source": [
    "df.head()"
   ]
  },
  {
   "cell_type": "code",
   "execution_count": null,
   "id": "af480a8a",
   "metadata": {},
   "outputs": [],
   "source": [
    "# Export CSV:\n",
    "# pickle path is: `global_batch_result_file_path`\n",
    "global_batch_result_CSV_export_file_path = Path(global_data_root_parent_path).joinpath(active_global_batch_result_filename.replace('.pkl', '.csv')).resolve() # Use Default\n",
    "print(f'global_batch_result_CSV_export_file_path: {global_batch_result_CSV_export_file_path}')\n",
    "good_only_batch_progress_df.to_csv(global_batch_result_CSV_export_file_path)\n",
    "            "
   ]
  },
  {
   "cell_type": "code",
   "execution_count": null,
   "id": "3f3684b4",
   "metadata": {},
   "outputs": [],
   "source": [
    "important_column_names = ['context', 'basedirs', 'n_long_laps', 'n_long_replays', 'n_short_laps', 'n_short_replays', 'is_ready', 'has_user_replay_annotations']\n",
    "# file_column_names = ['basedirs', 'global_computation_result_file', 'loaded_session_pickle_file', 'ripple_result_file']\n",
    "good_only_batch_progress_df[important_column_names]\n",
    "\n",
    "# change is_ready to show why it isn't ready.\n",
    "# batch_progress_df['is_ready'] = np.logical_and(batch_progress_df['has_user_replay_annotations'], batch_progress_df['is_ready'])\n",
    "\n",
    "included_session_contexts = batch_progress_df[np.logical_and(batch_progress_df['has_user_replay_annotations'], batch_progress_df['is_ready'])]['context'].to_numpy().tolist()\n",
    "included_session_contexts"
   ]
  },
  {
   "cell_type": "markdown",
   "id": "c12f42b4",
   "metadata": {
    "jp-MarkdownHeadingCollapsed": true,
    "tags": []
   },
   "source": [
    "# Build `global_batch_run` pre-loading results (before execution)"
   ]
  },
  {
   "cell_type": "code",
   "execution_count": null,
   "id": "496a7c6a",
   "metadata": {
    "tags": []
   },
   "outputs": [],
   "source": [
    "# global_batch_result = loadData('global_batch_result.pkl')\n",
    "global_batch_run = run_diba_batch(global_data_root_parent_path, execute_all=False, extant_batch_run=global_batch_run, debug_print=False)\n",
    "# print(f'global_batch_result: {global_batch_run}')\n",
    "global_batch_run"
   ]
  },
  {
   "cell_type": "markdown",
   "id": "ab824348",
   "metadata": {
    "tags": []
   },
   "source": [
    "# Run Batch Executions/Computations"
   ]
  },
  {
   "cell_type": "code",
   "execution_count": null,
   "id": "2bd73b8d",
   "metadata": {
    "scrolled": true,
    "tags": []
   },
   "outputs": [],
   "source": [
    "## I got it doing the bare-minimum loading and computations, so it should be ready to update the laps and constraint the placefields to those. Then we should be able to set up the replays at the same time.\n",
    "# finally, we then finish by computing.\n",
    "\n",
    "included_session_contexts = batch_progress_df[np.logical_and(batch_progress_df['has_user_replay_annotations'], batch_progress_df['is_ready'])]['context'].to_numpy().tolist()\n",
    "# included_session_contexts\n",
    "\n",
    "# No Reloading\n",
    "result_handler = BatchSessionCompletionHandler(force_reload_all=False,\n",
    "                                                session_computations_options=BatchComputationProcessOptions(should_load=True, should_compute=False, should_save=False),\n",
    "                                                global_computations_options=BatchComputationProcessOptions(should_load=True, should_compute=False, should_save=False),\n",
    "                                                should_perform_figure_generation_to_file=False, saving_mode=PipelineSavingScheme.SKIP_SAVING, force_global_recompute=False)\n",
    "\n",
    "# Forced Reloading:\n",
    "# result_handler = BatchSessionCompletionHandler(force_reload_all=True,\n",
    "#                                                 session_computations_options=BatchComputationProcessOptions(should_load=False, should_compute=True, should_save=True),\n",
    "#                                                 global_computations_options=BatchComputationProcessOptions(should_load=False, should_compute=True, should_save=True),\n",
    "#                                                 should_perform_figure_generation_to_file=False, saving_mode=PipelineSavingScheme.OVERWRITE_IN_PLACE, force_global_recompute=True)\n",
    "\n",
    "# multiprocessing_kwargs = dict(use_multiprocessing=False, num_processes=1)\n",
    "multiprocessing_kwargs = dict(use_multiprocessing=True, num_processes=4)\n",
    "\n",
    "## Execute with the custom arguments.\n",
    "active_computation_functions_name_includelist=['_perform_baseline_placefield_computation',\n",
    "                                        # '_perform_time_dependent_placefield_computation',\n",
    "                                        '_perform_extended_statistics_computation',\n",
    "                                        '_perform_position_decoding_computation', \n",
    "                                        '_perform_firing_rate_trends_computation',\n",
    "                                        '_perform_pf_find_ratemap_peaks_computation',\n",
    "                                        # '_perform_time_dependent_pf_sequential_surprise_computation'\n",
    "                                        '_perform_two_step_position_decoding_computation',\n",
    "                                        # '_perform_recursive_latent_placefield_decoding'\n",
    "                                    ]\n",
    "# active_computation_functions_name_includelist=['_perform_baseline_placefield_computation']\n",
    "global_batch_run.execute_all(force_reload=result_handler.force_reload_all, saving_mode=result_handler.saving_mode, skip_extended_batch_computations=True, post_run_callback_fn=result_handler.on_complete_success_execution_session,\n",
    "                             fail_on_exception=False, included_session_contexts=included_session_contexts,\n",
    "                                                                                        **{'computation_functions_name_includelist': active_computation_functions_name_includelist,\n",
    "                                                                                            'active_session_computation_configs': None,\n",
    "                                                                                            'allow_processing_previously_completed': True}, **multiprocessing_kwargs) # can override `active_session_computation_configs` if we want to set custom ones like only the laps.)\n",
    "\n",
    "# 4m 39.8s"
   ]
  },
  {
   "cell_type": "code",
   "execution_count": null,
   "id": "7714fb35-7e2f-4bc3-8598-f768b05fd6c4",
   "metadata": {
    "tags": []
   },
   "outputs": [],
   "source": [
    "# Can override the output filepath like this:\n",
    "active_global_batch_result_filename='global_batch_result_2023-07-19.pkl'\n",
    "global_batch_result_file_path = Path(global_data_root_parent_path).joinpath(active_global_batch_result_filename).resolve() # Use Default"
   ]
  },
  {
   "cell_type": "code",
   "execution_count": null,
   "id": "a8ab00d2-66a4-4087-81ed-7db2aec94aaf",
   "metadata": {
    "tags": []
   },
   "outputs": [],
   "source": [
    "# Save to file:\n",
    "saveData(global_batch_result_file_path, global_batch_run) # Update the global batch run dictionary"
   ]
  },
  {
   "cell_type": "code",
<<<<<<< HEAD
   "execution_count": 26,
   "id": "4961afee-4f8a-4759-b278-ff94722fb4b1",
=======
   "execution_count": null,
   "id": "511725ed-4794-44f4-b398-cf25dcb06201",
>>>>>>> 4ed04e8113a097d816c47a3506e8227ab38afbae
   "metadata": {
    "tags": []
   },
   "outputs": [],
   "source": [
    "# list(global_batch_run.session_batch_outputs.keys())\n",
    "\n",
    "# Somewhere in there there are `InstantaneousSpikeRateGroupsComputation` results to extract\n",
    "across_sessions_instantaneous_fr_dict = {} # InstantaneousSpikeRateGroupsComputation\n",
    "\n",
    "for a_ctxt, a_result in global_batch_run.session_batch_outputs.items():\n",
    "    if a_result is not None:\n",
    "        a_good_result = a_result.get('across_sessions_batch_results', {}).get('inst_fr_comps', None)\n",
    "        if a_good_result is not None:\n",
    "            across_sessions_instantaneous_fr_dict[a_ctxt] = a_good_result\n",
    "            # print(a_result['across_sessions_batch_results']['inst_fr_comps'])\n",
    "            \n",
    "num_sessions = len(across_sessions_instantaneous_fr_dict)\n",
    "print(f'num_sessions: {num_sessions}')\n",
    "# When done, `result_handler.across_sessions_instantaneous_fr_dict` is now equivalent to what it would have been before. It can be saved using the normal `.save_across_sessions_data(...)`"
   ]
  },
  {
   "cell_type": "code",
<<<<<<< HEAD
   "execution_count": 27,
   "id": "f03fe0f2-1bf8-405a-9aea-2a9a3814dddf",
   "metadata": {
    "tags": []
   },
   "outputs": [
    {
     "data": {
      "text/plain": [
       "{Context(format_name: 'kdiba'\n",
       "         animal: 'gor01'\n",
       "         exper_name: 'one'\n",
       "         session_name: '2006-6-08_14-26-15'): InstantaneousSpikeRateGroupsComputation(instantaneous_time_bin_size_seconds=0.01, active_identifying_session_ctx=IdentifyingContext<('kdiba', 'gor01', 'one', '2006-6-08_14-26-15')>, LxC_aclus=array([  2,   8,  19,  28,  36,  54,  63,  68,  73,  74,  97, 109]), SxC_aclus=array([ 4, 13, 21, 23, 52, 58, 67, 70, 81]), Fig2_Replay_FR=[SingleBarResult(mean=6.914014745431879, std=4.3264242995120235, values=array([ 6.78415746,  2.86210319,  4.16243354,  0.20778244, 14.98953648,\n",
       "         7.04299586, 13.94415563,  5.95542999,  8.48132204,  9.39868589,\n",
       "         7.76685339,  1.37272105]), LxC_aclus=array([  2,   8,  19,  28,  36,  54,  63,  68,  73,  74,  97, 109]), SxC_aclus=array([ 4, 13, 21, 23, 52, 58, 67, 70, 81])), SingleBarResult(mean=7.2438767815998455, std=6.718507319252358, values=array([ 0.        ,  6.74755078,  8.14857438,  1.18640459, 22.87473149,\n",
       "         5.36528386, 18.063651  ,  7.56900379,  5.63899424,  9.42122651,\n",
       "         0.95555037,  0.95555037]), LxC_aclus=array([  2,   8,  19,  28,  36,  54,  63,  68,  73,  74,  97, 109]), SxC_aclus=array([ 4, 13, 21, 23, 52, 58, 67, 70, 81])), SingleBarResult(mean=2.3210651753735356, std=1.4745458399845257, values=array([0.        , 1.24669463, 3.3687894 , 0.71188811, 4.70402483,\n",
       "        2.12209478, 4.12054109, 1.87004194, 2.74551179]), LxC_aclus=array([  2,   8,  19,  28,  36,  54,  63,  68,  73,  74,  97, 109]), SxC_aclus=array([ 4, 13, 21, 23, 52, 58, 67, 70, 81])), SingleBarResult(mean=10.694699392635753, std=6.657000420193613, values=array([22.01374998,  3.01154377,  4.53886427,  5.20166249, 19.31707598,\n",
       "        17.68827312,  8.28532555,  7.36507195,  8.83072743]), LxC_aclus=array([  2,   8,  19,  28,  36,  54,  63,  68,  73,  74,  97, 109]), SxC_aclus=array([ 4, 13, 21, 23, 52, 58, 67, 70, 81]))], Fig2_Laps_FR=[SingleBarResult(mean=46.23109084305082, std=22.84223344563325, values=array([34.76008552, 42.44555255,  4.98677851, 14.97045388, 34.868866  ,\n",
       "        58.06594993, 72.06217233, 78.76278234, 33.38138055, 70.64045957,\n",
       "        71.20123265, 38.62737628]), LxC_aclus=array([  2,   8,  19,  28,  36,  54,  63,  68,  73,  74,  97, 109]), SxC_aclus=array([ 4, 13, 21, 23, 52, 58, 67, 70, 81])), SingleBarResult(mean=28.788143886058858, std=23.651527975207852, values=array([ 1.04984811,  4.42307445, 37.93536046,  8.63412963, 47.17784926,\n",
       "        57.77317532, 60.15518467, 67.19560832, 13.69396914, 33.7715019 ,\n",
       "         5.24924053,  8.39878485]), LxC_aclus=array([  2,   8,  19,  28,  36,  54,  63,  68,  73,  74,  97, 109]), SxC_aclus=array([ 4, 13, 21, 23, 52, 58, 67, 70, 81])), SingleBarResult(mean=25.184241089418222, std=16.334044945001715, values=array([ 3.9894228 ,  2.9920671 , 28.77595503,  7.72139413, 46.71840499,\n",
       "        21.985472  , 30.70292229, 35.58858987, 48.18394158]), LxC_aclus=array([  2,   8,  19,  28,  36,  54,  63,  68,  73,  74,  97, 109]), SxC_aclus=array([ 4, 13, 21, 23, 52, 58, 67, 70, 81])), SingleBarResult(mean=53.76468539416068, std=23.107381020838563, values=array([64.78047329, 15.55832058, 32.99265534, 55.17962672, 89.42266111,\n",
       "        87.15486019, 54.55187926, 33.97119382, 50.27049824]), LxC_aclus=array([  2,   8,  19,  28,  36,  54,  63,  68,  73,  74,  97, 109]), SxC_aclus=array([ 4, 13, 21, 23, 52, 58, 67, 70, 81]))]),\n",
       " Context(format_name: 'kdiba'\n",
       "         animal: 'gor01'\n",
       "         exper_name: 'one'\n",
       "         session_name: '2006-6-12_15-55-31'): InstantaneousSpikeRateGroupsComputation(instantaneous_time_bin_size_seconds=0.01, active_identifying_session_ctx=IdentifyingContext<('kdiba', 'gor01', 'one', '2006-6-12_15-55-31')>, LxC_aclus=array([ 3, 34]), SxC_aclus=array([30, 31, 33]), Fig2_Replay_FR=[SingleBarResult(mean=24.202959454875316, std=24.202959454875316, values=array([48.40591891,  0.        ]), LxC_aclus=array([ 3, 34]), SxC_aclus=array([30, 31, 33])), SingleBarResult(mean=9.489294058207747, std=6.069788797624038, values=array([15.55908286,  3.41950526]), LxC_aclus=array([ 3, 34]), SxC_aclus=array([30, 31, 33])), SingleBarResult(mean=12.456624097251378, std=15.885880601450383, values=array([ 0.        , 34.87648304,  2.49338925]), LxC_aclus=array([ 3, 34]), SxC_aclus=array([30, 31, 33])), SingleBarResult(mean=8.636067667379796, std=10.642046567865409, values=array([ 0.        , 23.62853283,  2.27967017]), LxC_aclus=array([ 3, 34]), SxC_aclus=array([30, 31, 33]))], Fig2_Laps_FR=[SingleBarResult(mean=44.53505783980256, std=9.645241373070444, values=array([54.18029921, 34.88981647]), LxC_aclus=array([ 3, 34]), SxC_aclus=array([30, 31, 33])), SingleBarResult(mean=26.649820830013656, std=16.08958399585809, values=array([42.73940483, 10.56023683]), LxC_aclus=array([ 3, 34]), SxC_aclus=array([30, 31, 33])), SingleBarResult(mean=16.46178092086152, std=18.260259784367754, values=array([ 2.04586166, 42.22483648,  5.11464462]), LxC_aclus=array([ 3, 34]), SxC_aclus=array([30, 31, 33])), SingleBarResult(mean=59.90909598908127, std=12.934793550517215, values=array([54.85882139, 77.6603415 , 47.20812508]), LxC_aclus=array([ 3, 34]), SxC_aclus=array([30, 31, 33]))]),\n",
       " Context(format_name: 'kdiba'\n",
       "         animal: 'gor01'\n",
       "         exper_name: 'one'\n",
       "         session_name: '2006-6-13_14-42-6'): InstantaneousSpikeRateGroupsComputation(instantaneous_time_bin_size_seconds=0.01, active_identifying_session_ctx=IdentifyingContext<('kdiba', 'gor01', 'one', '2006-6-13_14-42-6')>, LxC_aclus=array([ 5,  7, 16, 18, 27, 32, 33]), SxC_aclus=array([19, 26, 28, 37]), Fig2_Replay_FR=[SingleBarResult(mean=11.806245783253136, std=14.123849461631396, values=array([ 0.        ,  0.        ,  9.97355701, 42.69409434,  4.98677851,\n",
       "        20.00251213,  4.98677851]), LxC_aclus=array([ 5,  7, 16, 18, 27, 32, 33]), SxC_aclus=array([19, 26, 28, 37])), SingleBarResult(mean=10.24789343390872, std=8.998449911791568, values=array([ 1.6622595 , 10.02783527, 11.59838362, 30.87242583,  3.69714824,\n",
       "         6.21995222,  7.65724936]), LxC_aclus=array([ 5,  7, 16, 18, 27, 32, 33]), SxC_aclus=array([19, 26, 28, 37])), SingleBarResult(mean=0.0, std=0.0, values=array([0., 0., 0., 0.]), LxC_aclus=array([ 5,  7, 16, 18, 27, 32, 33]), SxC_aclus=array([19, 26, 28, 37])), SingleBarResult(mean=14.333021326043887, std=21.74240778389848, values=array([ 2.0164227, 51.9911436,  1.6622595,  1.6622595]), LxC_aclus=array([ 5,  7, 16, 18, 27, 32, 33]), SxC_aclus=array([19, 26, 28, 37]))], Fig2_Laps_FR=[SingleBarResult(mean=50.54892890971217, std=18.184155592267565, values=array([25.86775672, 70.07942004, 51.99288717, 63.80409061, 68.03717867,\n",
       "        52.4404805 , 21.62068867]), LxC_aclus=array([ 5,  7, 16, 18, 27, 32, 33]), SxC_aclus=array([19, 26, 28, 37])), SingleBarResult(mean=28.810067525215157, std=14.845606161119488, values=array([ 5.11464462, 31.35207767, 46.22683611, 37.69722761, 29.48074118,\n",
       "        42.85663795,  8.94230752]), LxC_aclus=array([ 5,  7, 16, 18, 27, 32, 33]), SxC_aclus=array([19, 26, 28, 37])), SingleBarResult(mean=11.863540116833066, std=6.674919879902406, values=array([16.75025017, 19.15558112,  2.09969621,  9.44863296]), LxC_aclus=array([ 5,  7, 16, 18, 27, 32, 33]), SxC_aclus=array([19, 26, 28, 37])), SingleBarResult(mean=59.83345541219681, std=17.953401291366944, values=array([36.58212123, 87.04802616, 58.15798056, 57.5456937 ]), LxC_aclus=array([ 5,  7, 16, 18, 27, 32, 33]), SxC_aclus=array([19, 26, 28, 37]))]),\n",
       " Context(format_name: 'kdiba'\n",
       "         animal: 'gor01'\n",
       "         exper_name: 'two'\n",
       "         session_name: '2006-6-07_16-40-19'): InstantaneousSpikeRateGroupsComputation(instantaneous_time_bin_size_seconds=0.01, active_identifying_session_ctx=IdentifyingContext<('kdiba', 'gor01', 'two', '2006-6-07_16-40-19')>, LxC_aclus=array([12, 21, 48]), SxC_aclus=array([ 3, 18, 19, 65]), Fig2_Replay_FR=[SingleBarResult(mean=9.006180165286324, std=11.614862126023414, values=array([ 0.31915382, 25.42277137,  1.2766153 ]), LxC_aclus=array([12, 21, 48]), SxC_aclus=array([ 3, 18, 19, 65])), SingleBarResult(mean=4.626527301275732, std=5.83159228188442, values=array([ 1.02729261, 12.8522893 ,  0.        ]), LxC_aclus=array([12, 21, 48]), SxC_aclus=array([ 3, 18, 19, 65])), SingleBarResult(mean=1.325009442188413, std=1.1717237656730073, values=array([0.31915382, 2.42765335, 0.        , 2.55323059]), LxC_aclus=array([12, 21, 48]), SxC_aclus=array([ 3, 18, 19, 65])), SingleBarResult(mean=9.829991024354872, std=8.702673051456646, values=array([ 5.4780404 ,  5.5474975 , 24.83341998,  3.46100622]), LxC_aclus=array([12, 21, 48]), SxC_aclus=array([ 3, 18, 19, 65]))], Fig2_Laps_FR=[SingleBarResult(mean=33.20297608161101, std=21.369166452265823, values=array([ 2.9920671 , 47.64688215, 48.96997899]), LxC_aclus=array([12, 21, 48]), SxC_aclus=array([ 3, 18, 19, 65])), SingleBarResult(mean=23.944269058721233, std=11.28808804243783, values=array([11.19271548, 38.63748587, 22.00260583]), LxC_aclus=array([12, 21, 48]), SxC_aclus=array([ 3, 18, 19, 65])), SingleBarResult(mean=9.538916212758854, std=8.23315465117025, values=array([ 1.9947114 ,  8.79627034,  4.21300035, 23.15168276]), LxC_aclus=array([12, 21, 48]), SxC_aclus=array([ 3, 18, 19, 65])), SingleBarResult(mean=70.62100948088676, std=27.27098464635149, values=array([ 69.9998375 ,  37.93185138, 113.26723508,  61.28511396]), LxC_aclus=array([12, 21, 48]), SxC_aclus=array([ 3, 18, 19, 65]))]),\n",
       " Context(format_name: 'kdiba'\n",
       "         animal: 'gor01'\n",
       "         exper_name: 'two'\n",
       "         session_name: '2006-6-08_21-16-25'): InstantaneousSpikeRateGroupsComputation(instantaneous_time_bin_size_seconds=0.01, active_identifying_session_ctx=IdentifyingContext<('kdiba', 'gor01', 'two', '2006-6-08_21-16-25')>, LxC_aclus=array([ 19,  23,  26,  36,  54,  60,  73,  78,  90, 101, 103]), SxC_aclus=array([ 4,  8, 16, 82]), Fig2_Replay_FR=[SingleBarResult(mean=10.969960820303214, std=11.711536161736369, values=array([ 5.47292255,  4.19939243,  7.57261877, 10.56704307,  2.09969621,\n",
       "         8.39878485,  0.        , 18.07109983,  0.        , 40.74398893,\n",
       "        23.54402238]), LxC_aclus=array([ 19,  23,  26,  36,  54,  60,  73,  78,  90, 101, 103]), SxC_aclus=array([ 4,  8, 16, 82])), SingleBarResult(mean=6.893482118257679, std=5.548532841258247, values=array([ 7.93504395,  0.84881336, 10.00408664, 10.17521856,  1.69762673,\n",
       "         1.69762673,  1.69762673,  8.96499136,  3.39525345, 20.22820154,\n",
       "         9.18381425]), LxC_aclus=array([ 19,  23,  26,  36,  54,  60,  73,  78,  90, 101, 103]), SxC_aclus=array([ 4,  8, 16, 82])), SingleBarResult(mean=6.169595334323413, std=3.7937708139284747, values=array([6.29908864, 9.97980348, 0.        , 8.39948922]), LxC_aclus=array([ 19,  23,  26,  36,  54,  60,  73,  78,  90, 101, 103]), SxC_aclus=array([ 4,  8, 16, 82])), SingleBarResult(mean=5.212023422032596, std=1.570200614349282, values=array([6.45652487, 6.23741723, 5.6077115 , 2.54644009]), LxC_aclus=array([ 19,  23,  26,  36,  54,  60,  73,  78,  90, 101, 103]), SxC_aclus=array([ 4,  8, 16, 82]))], Fig2_Laps_FR=[SingleBarResult(mean=58.09540635512263, std=21.054507567264867, values=array([19.27352092, 54.98277295, 63.04089674, 59.16805043, 40.96297833,\n",
       "        49.52912122, 88.932819  , 48.60818907, 41.21331257, 88.67267027,\n",
       "        84.66513841]), LxC_aclus=array([ 19,  23,  26,  36,  54,  60,  73,  78,  90, 101, 103]), SxC_aclus=array([ 4,  8, 16, 82])), SingleBarResult(mean=21.596543809358447, std=14.356097703584835, values=array([ 7.58276417, 10.78222379, 37.77312506, 21.22259314, 20.27941046,\n",
       "        26.53131204,  4.31288952, 22.46012797,  2.15644476, 33.95657928,\n",
       "        50.50451171]), LxC_aclus=array([ 19,  23,  26,  36,  54,  60,  73,  78,  90, 101, 103]), SxC_aclus=array([ 4,  8, 16, 82])), SingleBarResult(mean=22.37107043680415, std=12.575385159706524, values=array([16.8833252 , 22.08818462,  8.14329472, 42.36947721]), LxC_aclus=array([ 19,  23,  26,  36,  54,  60,  73,  78,  90, 101, 103]), SxC_aclus=array([ 4,  8, 16, 82])), SingleBarResult(mean=63.35201732364581, std=8.704999577060946, values=array([60.5093422 , 78.2569103 , 57.56878369, 57.07303311]), LxC_aclus=array([ 19,  23,  26,  36,  54,  60,  73,  78,  90, 101, 103]), SxC_aclus=array([ 4,  8, 16, 82]))]),\n",
       " Context(format_name: 'kdiba'\n",
       "         animal: 'gor01'\n",
       "         exper_name: 'two'\n",
       "         session_name: '2006-6-09_22-24-40'): InstantaneousSpikeRateGroupsComputation(instantaneous_time_bin_size_seconds=0.01, active_identifying_session_ctx=IdentifyingContext<('kdiba', 'gor01', 'two', '2006-6-09_22-24-40')>, LxC_aclus=array([ 6, 15, 16, 32, 91, 95]), SxC_aclus=array([ 3,  7, 10, 11, 12, 23, 37, 64, 75, 80]), Fig2_Replay_FR=[SingleBarResult(mean=5.2147047739289, std=3.466854076505668, values=array([ 1.5844921 ,  1.95329688,  2.13719079, 10.34142823,  8.27637082,\n",
       "         6.99544983]), LxC_aclus=array([ 6, 15, 16, 32, 91, 95]), SxC_aclus=array([ 3,  7, 10, 11, 12, 23, 37, 64, 75, 80])), SingleBarResult(mean=2.7914316529409384, std=2.1541528837444828, values=array([1.47388851, 1.55909783, 1.46327342, 7.05478642, 4.11093052,\n",
       "        1.08661322]), LxC_aclus=array([ 6, 15, 16, 32, 91, 95]), SxC_aclus=array([ 3,  7, 10, 11, 12, 23, 37, 64, 75, 80])), SingleBarResult(mean=5.879935864609902, std=6.059438967290871, values=array([20.81086393,  2.56928137,  2.8498267 ,  1.42479386,  0.71239693,\n",
       "         6.34783097,  2.84958772,  4.70647216, 13.52693307,  3.00137195]), LxC_aclus=array([ 6, 15, 16, 32, 91, 95]), SxC_aclus=array([ 3,  7, 10, 11, 12, 23, 37, 64, 75, 80])), SingleBarResult(mean=13.833888660988924, std=13.856925808498348, values=array([54.60969741,  7.3460576 , 10.32666962,  6.52287228,  8.91554966,\n",
       "         5.8600048 , 12.55725806,  7.16825118, 14.99902211, 10.03350389]), LxC_aclus=array([ 6, 15, 16, 32, 91, 95]), SxC_aclus=array([ 3,  7, 10, 11, 12, 23, 37, 64, 75, 80]))], Fig2_Laps_FR=[SingleBarResult(mean=45.87585660924065, std=22.738431217730962, values=array([ 5.07348076, 47.50329294, 36.20077215, 52.11629656, 53.1379205 ,\n",
       "        81.22337674]), LxC_aclus=array([ 6, 15, 16, 32, 91, 95]), SxC_aclus=array([ 3,  7, 10, 11, 12, 23, 37, 64, 75, 80])), SingleBarResult(mean=9.829048042757181, std=7.490753135899874, values=array([ 3.60807354,  8.19167811,  6.19663213, 25.9739224 ,  9.80470566,\n",
       "         5.19927643]), LxC_aclus=array([ 6, 15, 16, 32, 91, 95]), SxC_aclus=array([ 3,  7, 10, 11, 12, 23, 37, 64, 75, 80])), SingleBarResult(mean=27.617654995488046, std=15.656856410047522, values=array([56.13612552, 24.07967261, 27.00889486,  7.82016956, 18.27310947,\n",
       "        32.60495226, 15.45948982, 30.69904759, 53.54734141, 10.54774685]), LxC_aclus=array([ 6, 15, 16, 32, 91, 95]), SxC_aclus=array([ 3,  7, 10, 11, 12, 23, 37, 64, 75, 80])), SingleBarResult(mean=42.70242600396509, std=19.42052372669217, values=array([86.32535675, 33.5725079 , 27.99109354, 52.92907857, 49.92068692,\n",
       "        20.93208312, 38.49074987, 27.75744286, 63.13024895, 25.97501156]), LxC_aclus=array([ 6, 15, 16, 32, 91, 95]), SxC_aclus=array([ 3,  7, 10, 11, 12, 23, 37, 64, 75, 80]))]),\n",
       " Context(format_name: 'kdiba'\n",
       "         animal: 'gor01'\n",
       "         exper_name: 'two'\n",
       "         session_name: '2006-6-12_16-53-46'): InstantaneousSpikeRateGroupsComputation(instantaneous_time_bin_size_seconds=0.01, active_identifying_session_ctx=IdentifyingContext<('kdiba', 'gor01', 'two', '2006-6-12_16-53-46')>, LxC_aclus=array([38, 51, 53, 59, 60]), SxC_aclus=array([7, 8]), Fig2_Replay_FR=[SingleBarResult(mean=7.9078245119120325, std=7.15175912302829, values=array([ 0.        , 17.52851399,  1.37566304,  5.50265214, 15.13229339]), LxC_aclus=array([38, 51, 53, 59, 60]), SxC_aclus=array([7, 8])), SingleBarResult(mean=6.18134443940657, std=4.101165825879492, values=array([ 0.        , 12.38662232,  4.72661493,  8.35336294,  5.44012201]), LxC_aclus=array([38, 51, 53, 59, 60]), SxC_aclus=array([7, 8])), SingleBarResult(mean=4.149449075517267, std=1.1050224222768545, values=array([3.04442665, 5.2544715 ]), LxC_aclus=array([38, 51, 53, 59, 60]), SxC_aclus=array([7, 8])), SingleBarResult(mean=23.755781408484715, std=1.690667259749267, values=array([22.06511415, 25.44644867]), LxC_aclus=array([38, 51, 53, 59, 60]), SxC_aclus=array([7, 8]))], Fig2_Laps_FR=[SingleBarResult(mean=49.22466128507469, std=14.970395446703769, values=array([27.433886  , 48.10972095, 40.04161993, 60.50929668, 70.02878288]), LxC_aclus=array([38, 51, 53, 59, 60]), SxC_aclus=array([7, 8])), SingleBarResult(mean=15.964272263669164, std=10.607755053191475, values=array([ 1.04984811, 27.51973279, 18.70648913,  6.29908864, 26.24620266]), LxC_aclus=array([38, 51, 53, 59, 60]), SxC_aclus=array([7, 8])), SingleBarResult(mean=21.101399096024295, std=9.228743175678387, values=array([30.33014227, 11.87265592]), LxC_aclus=array([38, 51, 53, 59, 60]), SxC_aclus=array([7, 8])), SingleBarResult(mean=54.35855195854023, std=2.306678586702567, values=array([56.66523055, 52.05187337]), LxC_aclus=array([38, 51, 53, 59, 60]), SxC_aclus=array([7, 8]))]),\n",
       " Context(format_name: 'kdiba'\n",
       "         animal: 'gor01'\n",
       "         exper_name: 'two'\n",
       "         session_name: '2006-6-13_15-22-3'): InstantaneousSpikeRateGroupsComputation(instantaneous_time_bin_size_seconds=0.01, active_identifying_session_ctx=IdentifyingContext<('kdiba', 'gor01', 'two', '2006-6-13_15-22-3')>, LxC_aclus=array([ 4,  5,  7, 11, 17, 28]), SxC_aclus=array([ 3, 10, 13]), Fig2_Replay_FR=[SingleBarResult(mean=7.48470480475995, std=7.254071645489161, values=array([ 0.        , 21.64709739,  6.45344853,  8.82883729,  0.        ,\n",
       "         7.97884561]), LxC_aclus=array([ 4,  5,  7, 11, 17, 28]), SxC_aclus=array([ 3, 10, 13])), SingleBarResult(mean=3.3245190033452725, std=3.4575519533364183, values=array([0.        , 5.69917543, 0.        , 0.        , 8.54876315,\n",
       "        5.69917543]), LxC_aclus=array([ 4,  5,  7, 11, 17, 28]), SxC_aclus=array([ 3, 10, 13])), SingleBarResult(mean=0.0, std=0.0, values=array([0., 0., 0.]), LxC_aclus=array([ 4,  5,  7, 11, 17, 28]), SxC_aclus=array([ 3, 10, 13])), SingleBarResult(mean=9.82955461705802, std=7.468185732868385, values=array([ 0.        , 18.09031298, 11.39835087]), LxC_aclus=array([ 4,  5,  7, 11, 17, 28]), SxC_aclus=array([ 3, 10, 13]))], Fig2_Laps_FR=[SingleBarResult(mean=41.753440150526465, std=17.961740203885537, values=array([13.78297606, 41.74691295, 42.43071437, 73.89296559, 31.97561187,\n",
       "        46.69146007]), LxC_aclus=array([ 4,  5,  7, 11, 17, 28]), SxC_aclus=array([ 3, 10, 13])), SingleBarResult(mean=17.074256349936345, std=14.23332309007635, values=array([ 5.14764233, 28.35405468,  7.56343245,  2.57382116, 42.46694995,\n",
       "        16.33963753]), LxC_aclus=array([ 4,  5,  7, 11, 17, 28]), SxC_aclus=array([ 3, 10, 13])), SingleBarResult(mean=10.869744878625239, std=5.287992848109972, values=array([ 3.9966599 , 16.85870382, 11.75387091]), LxC_aclus=array([ 4,  5,  7, 11, 17, 28]), SxC_aclus=array([ 3, 10, 13])), SingleBarResult(mean=78.56030414681595, std=13.073180033136587, values=array([62.31687228, 79.03510926, 94.3289309 ]), LxC_aclus=array([ 4,  5,  7, 11, 17, 28]), SxC_aclus=array([ 3, 10, 13]))]),\n",
       " Context(format_name: 'kdiba'\n",
       "         animal: 'vvp01'\n",
       "         exper_name: 'one'\n",
       "         session_name: '2006-4-10_12-25-50'): InstantaneousSpikeRateGroupsComputation(instantaneous_time_bin_size_seconds=0.01, active_identifying_session_ctx=IdentifyingContext<('kdiba', 'vvp01', 'one', '2006-4-10_12-25-50')>, LxC_aclus=array([19, 23]), SxC_aclus=array([29, 36]), Fig2_Replay_FR=[SingleBarResult(mean=13.905988408544463, std=0.4130830417954963, values=array([14.31907145, 13.49290537]), LxC_aclus=array([19, 23]), SxC_aclus=array([29, 36])), SingleBarResult(mean=34.83034865320395, std=3.0061680214395476, values=array([31.82418063, 37.83651667]), LxC_aclus=array([19, 23]), SxC_aclus=array([29, 36])), SingleBarResult(mean=2.099696212639119, std=2.099696212639119, values=array([0.        , 4.19939243]), LxC_aclus=array([19, 23]), SxC_aclus=array([29, 36])), SingleBarResult(mean=0.0, std=0.0, values=array([0., 0.]), LxC_aclus=array([19, 23]), SxC_aclus=array([29, 36]))], Fig2_Laps_FR=[SingleBarResult(mean=62.50691310904556, std=18.39018000474416, values=array([80.89709311, 44.1167331 ]), LxC_aclus=array([19, 23]), SxC_aclus=array([29, 36])), SingleBarResult(mean=3.4907449535125354, std=2.493389252508954, values=array([5.98413421, 0.9973557 ]), LxC_aclus=array([19, 23]), SxC_aclus=array([29, 36])), SingleBarResult(mean=14.802030535023965, std=14.802030535023965, values=array([ 0.        , 29.60406107]), LxC_aclus=array([19, 23]), SxC_aclus=array([29, 36])), SingleBarResult(mean=43.63160350042402, std=16.51329596150611, values=array([60.14489946, 27.11830754]), LxC_aclus=array([19, 23]), SxC_aclus=array([29, 36]))]),\n",
       " Context(format_name: 'kdiba'\n",
       "         animal: 'vvp01'\n",
       "         exper_name: 'one'\n",
       "         session_name: '2006-4-18_15-23-32'): InstantaneousSpikeRateGroupsComputation(instantaneous_time_bin_size_seconds=0.01, active_identifying_session_ctx=IdentifyingContext<('kdiba', 'vvp01', 'one', '2006-4-18_15-23-32')>, LxC_aclus=array([ 2,  6,  9, 14, 16, 17, 28, 29, 37, 39, 42]), SxC_aclus=array([10, 36]), Fig2_Replay_FR=[SingleBarResult(mean=11.532162118048074, std=17.21204739155779, values=array([19.94711402,  0.        ,  0.        , 34.96679099,  0.        ,\n",
       "         0.        , 51.99276427,  0.        ,  0.        , 19.94711402,\n",
       "         0.        ]), LxC_aclus=array([ 2,  6,  9, 14, 16, 17, 28, 29, 37, 39, 42]), SxC_aclus=array([10, 36])), SingleBarResult(mean=5.331072933890089, std=4.661746501081129, values=array([ 6.64903801,  6.64903801, 10.68188342,  0.        ,  0.        ,\n",
       "         6.64903801, 14.71472882,  6.64903801,  0.        ,  0.        ,\n",
       "         6.64903801]), LxC_aclus=array([ 2,  6,  9, 14, 16, 17, 28, 29, 37, 39, 42]), SxC_aclus=array([10, 36])), SingleBarResult(mean=0.0, std=0.0, values=array([0., 0.]), LxC_aclus=array([ 2,  6,  9, 14, 16, 17, 28, 29, 37, 39, 42]), SxC_aclus=array([10, 36])), SingleBarResult(mean=10.681883415342936, std=10.681883415342936, values=array([ 0.        , 21.36376683]), LxC_aclus=array([ 2,  6,  9, 14, 16, 17, 28, 29, 37, 39, 42]), SxC_aclus=array([10, 36]))], Fig2_Laps_FR=[SingleBarResult(mean=57.13639883270113, std=19.416736277372515, values=array([31.01885194, 64.7864601 , 49.43854203, 69.91133387, 28.87117053,\n",
       "        87.40533076, 58.87509864, 49.79299555, 40.11547428, 90.63179177,\n",
       "        57.65333769]), LxC_aclus=array([ 2,  6,  9, 14, 16, 17, 28, 29, 37, 39, 42]), SxC_aclus=array([10, 36])), SingleBarResult(mean=10.436511344141913, std=10.85364080494239, values=array([ 2.57382116,  9.55675581,  2.57382116,  1.28691058,  0.        ,\n",
       "         4.64128247, 39.21217281, 10.29528466, 20.67461306, 13.92384741,\n",
       "        10.06311566]), LxC_aclus=array([ 2,  6,  9, 14, 16, 17, 28, 29, 37, 39, 42]), SxC_aclus=array([10, 36])), SingleBarResult(mean=23.228494206075094, std=8.436499825674108, values=array([14.79199438, 31.66499403]), LxC_aclus=array([ 2,  6,  9, 14, 16, 17, 28, 29, 37, 39, 42]), SxC_aclus=array([10, 36])), SingleBarResult(mean=46.54193117820059, std=14.617313532493922, values=array([31.92461765, 61.15924471]), LxC_aclus=array([ 2,  6,  9, 14, 16, 17, 28, 29, 37, 39, 42]), SxC_aclus=array([10, 36]))]),\n",
       " Context(format_name: 'kdiba'\n",
       "         animal: 'vvp01'\n",
       "         exper_name: 'two'\n",
       "         session_name: '2006-4-09_16-40-54'): InstantaneousSpikeRateGroupsComputation(instantaneous_time_bin_size_seconds=0.01, active_identifying_session_ctx=IdentifyingContext<('kdiba', 'vvp01', 'two', '2006-4-09_16-40-54')>, LxC_aclus=array([12, 14, 17, 25]), SxC_aclus=array([30]), Fig2_Replay_FR=[SingleBarResult(mean=8.377400324684425, std=5.074781382345248, values=array([12.95535036, 13.70283396,  4.95169183,  1.89972514]), LxC_aclus=array([12, 14, 17, 25]), SxC_aclus=array([30])), SingleBarResult(mean=15.114575419803295, std=19.80185581973327, values=array([ 2.216346  ,  4.432692  ,  4.432692  , 49.37657167]), LxC_aclus=array([12, 14, 17, 25]), SxC_aclus=array([30])), SingleBarResult(mean=0.0, std=0.0, values=array([0.]), LxC_aclus=array([12, 14, 17, 25]), SxC_aclus=array([30])), SingleBarResult(mean=0.0, std=0.0, values=array([0.]), LxC_aclus=array([12, 14, 17, 25]), SxC_aclus=array([30]))], Fig2_Laps_FR=[SingleBarResult(mean=48.01113235858588, std=12.013244567885879, values=array([47.32359666, 46.14915063, 32.40272669, 66.16905546]), LxC_aclus=array([12, 14, 17, 25]), SxC_aclus=array([30])), SingleBarResult(mean=6.347434087305931, std=1.715462221589997, values=array([8.16773265, 7.09230721, 3.5461536 , 6.58354289]), LxC_aclus=array([12, 14, 17, 25]), SxC_aclus=array([30])), SingleBarResult(mean=9.751922409812797, std=0.0, values=array([9.75192241]), LxC_aclus=array([12, 14, 17, 25]), SxC_aclus=array([30])), SingleBarResult(mean=35.22238431606162, std=0.0, values=array([35.22238432]), LxC_aclus=array([12, 14, 17, 25]), SxC_aclus=array([30]))]),\n",
       " Context(format_name: 'kdiba'\n",
       "         animal: 'vvp01'\n",
       "         exper_name: 'two'\n",
       "         session_name: '2006-4-10_12-58-3'): InstantaneousSpikeRateGroupsComputation(instantaneous_time_bin_size_seconds=0.01, active_identifying_session_ctx=IdentifyingContext<('kdiba', 'vvp01', 'two', '2006-4-10_12-58-3')>, LxC_aclus=array([ 7, 14, 16, 30, 32, 35, 40]), SxC_aclus=array([ 9, 42]), Fig2_Replay_FR=[SingleBarResult(mean=13.452656733612342, std=7.112494800761327, values=array([26.44560981, 19.39556096,  6.04458001, 11.30142624, 15.27971173,\n",
       "         4.35999262, 11.34171577]), LxC_aclus=array([ 7, 14, 16, 30, 32, 35, 40]), SxC_aclus=array([ 9, 42])), SingleBarResult(mean=6.475486137292944, std=4.79253845345392, values=array([17.79200475,  4.00570628,  5.01447756,  7.03034034,  4.00570628,\n",
       "         4.98677851,  2.49338925]), LxC_aclus=array([ 7, 14, 16, 30, 32, 35, 40]), SxC_aclus=array([ 9, 42])), SingleBarResult(mean=8.570668972631216, std=8.570668972631216, values=array([17.14133795,  0.        ]), LxC_aclus=array([ 7, 14, 16, 30, 32, 35, 40]), SxC_aclus=array([ 9, 42])), SingleBarResult(mean=13.111143762544547, std=13.111143762544547, values=array([26.22228753,  0.        ]), LxC_aclus=array([ 7, 14, 16, 30, 32, 35, 40]), SxC_aclus=array([ 9, 42]))], Fig2_Laps_FR=[SingleBarResult(mean=43.216162205748965, std=17.32387271627846, values=array([21.58640766, 62.79775105, 29.20634596, 53.70506869, 55.61269067,\n",
       "        20.22875475, 59.37611666]), LxC_aclus=array([ 7, 14, 16, 30, 32, 35, 40]), SxC_aclus=array([ 9, 42])), SingleBarResult(mean=11.190073515499819, std=10.686281937388966, values=array([21.19149904,  4.432692  , 16.62259502,  0.        ,  0.        ,\n",
       "         6.21300591, 29.87072264]), LxC_aclus=array([ 7, 14, 16, 30, 32, 35, 40]), SxC_aclus=array([ 9, 42])), SingleBarResult(mean=9.878856500502351, std=5.04269901070005, values=array([ 4.83615749, 14.92155551]), LxC_aclus=array([ 7, 14, 16, 30, 32, 35, 40]), SxC_aclus=array([ 9, 42])), SingleBarResult(mean=18.36545915859555, std=8.055390950328968, values=array([10.31006821, 26.42085011]), LxC_aclus=array([ 7, 14, 16, 30, 32, 35, 40]), SxC_aclus=array([ 9, 42]))]),\n",
       " Context(format_name: 'kdiba'\n",
       "         animal: 'vvp01'\n",
       "         exper_name: 'two'\n",
       "         session_name: '2006-4-12_15-25-59'): InstantaneousSpikeRateGroupsComputation(instantaneous_time_bin_size_seconds=0.01, active_identifying_session_ctx=IdentifyingContext<('kdiba', 'vvp01', 'two', '2006-4-12_15-25-59')>, LxC_aclus=array([24, 27, 38]), SxC_aclus=array([ 9, 35, 39, 42]), Fig2_Replay_FR=[SingleBarResult(mean=16.09294196411945, std=9.81391695356368, values=array([ 7.97884561, 29.90142743, 10.39855285]), LxC_aclus=array([24, 27, 38]), SxC_aclus=array([ 9, 35, 39, 42])), SingleBarResult(mean=22.049218137785246, std=15.61800588554651, values=array([34.19505261, 31.95260181,  0.        ]), LxC_aclus=array([24, 27, 38]), SxC_aclus=array([ 9, 35, 39, 42])), SingleBarResult(mean=16.550231429003095, std=12.987353948550922, values=array([10.39855285,  7.97884561,  8.82883729, 38.99468996]), LxC_aclus=array([24, 27, 38]), SxC_aclus=array([ 9, 35, 39, 42])), SingleBarResult(mean=9.413422275548228, std=4.65569679390783, values=array([ 5.69917543,  5.69917543,  9.15781193, 17.0975263 ]), LxC_aclus=array([24, 27, 38]), SxC_aclus=array([ 9, 35, 39, 42]))], Fig2_Laps_FR=[SingleBarResult(mean=38.29082275472424, std=13.586419888196856, values=array([19.07862087, 47.66308168, 48.13076571]), LxC_aclus=array([24, 27, 38]), SxC_aclus=array([ 9, 35, 39, 42])), SingleBarResult(mean=10.854651939306954, std=7.5202888677264506, values=array([20.9881163 ,  2.9920671 ,  8.58377242]), LxC_aclus=array([24, 27, 38]), SxC_aclus=array([ 9, 35, 39, 42])), SingleBarResult(mean=17.047219710593506, std=10.179878051330258, values=array([ 7.17186618,  7.78094022, 21.72252457, 31.51354786]), LxC_aclus=array([24, 27, 38]), SxC_aclus=array([ 9, 35, 39, 42])), SingleBarResult(mean=35.48103486549156, std=9.759296269841814, values=array([23.6660674 , 49.99674589, 30.45444735, 37.80687882]), LxC_aclus=array([24, 27, 38]), SxC_aclus=array([ 9, 35, 39, 42]))]),\n",
       " Context(format_name: 'kdiba'\n",
       "         animal: 'vvp01'\n",
       "         exper_name: 'two'\n",
       "         session_name: '2006-4-16_14-49-24'): InstantaneousSpikeRateGroupsComputation(instantaneous_time_bin_size_seconds=0.01, active_identifying_session_ctx=IdentifyingContext<('kdiba', 'vvp01', 'two', '2006-4-16_14-49-24')>, LxC_aclus=array([ 3,  7,  8, 11, 15, 18, 23, 25, 26, 36]), SxC_aclus=array([17, 35]), Fig2_Replay_FR=[SingleBarResult(mean=14.155684478289455, std=10.454718098074126, values=array([ 3.626748  , 20.33347388, 25.42752556, 21.87891331,  3.626748  ,\n",
       "        10.88024401,  3.626748  , 21.59702056,  0.        , 30.55942346]), LxC_aclus=array([ 3,  7,  8, 11, 15, 18, 23, 25, 26, 36]), SxC_aclus=array([17, 35])), SingleBarResult(mean=12.011914986551371, std=13.48773522790562, values=array([ 9.97355701,  0.        , 42.13000347, 28.12136135,  9.97355701,\n",
       "        19.94711402,  0.        ,  0.        ,  0.        ,  9.97355701]), LxC_aclus=array([ 3,  7,  8, 11, 15, 18, 23, 25, 26, 36]), SxC_aclus=array([17, 35])), SingleBarResult(mean=15.852272428380875, std=8.5987764210821, values=array([ 7.25349601, 24.45104885]), LxC_aclus=array([ 3,  7,  8, 11, 15, 18, 23, 25, 26, 36]), SxC_aclus=array([17, 35])), SingleBarResult(mean=4.986778505017908, std=4.986778505017908, values=array([9.97355701, 0.        ]), LxC_aclus=array([ 3,  7,  8, 11, 15, 18, 23, 25, 26, 36]), SxC_aclus=array([17, 35]))], Fig2_Laps_FR=[SingleBarResult(mean=49.45599185322728, std=21.317775981264678, values=array([35.8943857 , 33.52655334, 52.40666699, 77.46381213, 25.18188973,\n",
       "        76.38233256, 62.96521076, 53.19540907, 10.71276363, 66.83089463]), LxC_aclus=array([ 3,  7,  8, 11, 15, 18, 23, 25, 26, 36]), SxC_aclus=array([17, 35])), SingleBarResult(mean=11.068517988943078, std=8.82847722234153, values=array([ 5.69917543, 14.8550755 , 32.4029542 ,  6.94948432, 11.39835087,\n",
       "        18.82588862,  4.27438158,  5.13856273,  0.        , 11.14130663]), LxC_aclus=array([ 3,  7,  8, 11, 15, 18, 23, 25, 26, 36]), SxC_aclus=array([17, 35])), SingleBarResult(mean=13.280579833078907, std=2.2541407563296643, values=array([11.02643908, 15.53472059]), LxC_aclus=array([ 3,  7,  8, 11, 15, 18, 23, 25, 26, 36]), SxC_aclus=array([17, 35])), SingleBarResult(mean=44.27247163344404, std=11.986511047859334, values=array([56.25898268, 32.28596059]), LxC_aclus=array([ 3,  7,  8, 11, 15, 18, 23, 25, 26, 36]), SxC_aclus=array([17, 35]))]),\n",
       " Context(format_name: 'kdiba'\n",
       "         animal: 'vvp01'\n",
       "         exper_name: 'two'\n",
       "         session_name: '2006-4-16_18-47-52'): InstantaneousSpikeRateGroupsComputation(instantaneous_time_bin_size_seconds=0.01, active_identifying_session_ctx=IdentifyingContext<('kdiba', 'vvp01', 'two', '2006-4-16_18-47-52')>, LxC_aclus=array([ 5,  6,  7, 17, 20, 21, 31]), SxC_aclus=array([ 9, 13, 18, 30, 32, 41]), Fig2_Replay_FR=[SingleBarResult(mean=16.264416890468365, std=20.31460287803396, values=array([13.29807601,  0.        ,  0.        , 13.29807601, 60.65861418,\n",
       "        26.59615203,  0.        ]), LxC_aclus=array([ 5,  6,  7, 17, 20, 21, 31]), SxC_aclus=array([ 9, 13, 18, 30, 32, 41])), SingleBarResult(mean=5.69917543430618, std=5.538602966287236, values=array([ 6.64903801,  0.        ,  0.        , 13.29807601,  6.64903801,\n",
       "        13.29807601,  0.        ]), LxC_aclus=array([ 5,  6,  7, 17, 20, 21, 31]), SxC_aclus=array([ 9, 13, 18, 30, 32, 41])), SingleBarResult(mean=0.0, std=0.0, values=array([0., 0., 0., 0., 0., 0.]), LxC_aclus=array([ 5,  6,  7, 17, 20, 21, 31]), SxC_aclus=array([ 9, 13, 18, 30, 32, 41])), SingleBarResult(mean=10.073583526093985, std=6.507436044865578, values=array([10.68188342,  0.        , 21.36376683,  6.64903801, 13.29807601,\n",
       "         8.44873689]), LxC_aclus=array([ 5,  6,  7, 17, 20, 21, 31]), SxC_aclus=array([ 9, 13, 18, 30, 32, 41]))], Fig2_Laps_FR=[SingleBarResult(mean=52.39908770412212, std=19.58034867675861, values=array([45.16384681, 61.95581244, 23.15896542, 30.04235448, 83.00695475,\n",
       "        67.82229895, 55.64338108]), LxC_aclus=array([ 5,  6,  7, 17, 20, 21, 31]), SxC_aclus=array([ 9, 13, 18, 30, 32, 41])), SingleBarResult(mean=6.2128732605373385, std=5.129365915934934, values=array([ 3.14954432,  5.24924053,  0.        ,  1.04984811,  7.71470026,\n",
       "        15.36891956, 10.95786005]), LxC_aclus=array([ 5,  6,  7, 17, 20, 21, 31]), SxC_aclus=array([ 9, 13, 18, 30, 32, 41])), SingleBarResult(mean=4.396996048913663, std=4.858677597555169, values=array([10.0747465 , 11.55791694,  0.        ,  0.        ,  4.74931286,\n",
       "         0.        ]), LxC_aclus=array([ 5,  6,  7, 17, 20, 21, 31]), SxC_aclus=array([ 9, 13, 18, 30, 32, 41])), SingleBarResult(mean=48.86549628287077, std=29.320135187277124, values=array([108.53214877,  37.55820818,  44.70842072,  55.55449486,\n",
       "         30.93890289,  15.90080227]), LxC_aclus=array([ 5,  6,  7, 17, 20, 21, 31]), SxC_aclus=array([ 9, 13, 18, 30, 32, 41]))]),\n",
       " Context(format_name: 'kdiba'\n",
       "         animal: 'vvp01'\n",
       "         exper_name: 'two'\n",
       "         session_name: '2006-4-17_12-52-15'): InstantaneousSpikeRateGroupsComputation(instantaneous_time_bin_size_seconds=0.01, active_identifying_session_ctx=IdentifyingContext<('kdiba', 'vvp01', 'two', '2006-4-17_12-52-15')>, LxC_aclus=array([12, 14, 27, 30, 33, 34]), SxC_aclus=array([40]), Fig2_Replay_FR=[SingleBarResult(mean=10.62072578090464, std=8.919590854664236, values=array([18.63901772,  0.        ,  6.64903801,  0.        , 15.76443583,\n",
       "        22.67186313]), LxC_aclus=array([12, 14, 27, 30, 33, 34]), SxC_aclus=array([40])), SingleBarResult(mean=4.450784756392889, std=5.0870616806011535, values=array([ 4.03284541,  0.        ,  0.        ,  0.        , 10.68188342,\n",
       "        11.98997971]), LxC_aclus=array([12, 14, 27, 30, 33, 34]), SxC_aclus=array([40])), SingleBarResult(mean=0.0, std=0.0, values=array([0.]), LxC_aclus=array([12, 14, 27, 30, 33, 34]), SxC_aclus=array([40])), SingleBarResult(mean=3.3245190033452716, std=0.0, values=array([3.324519]), LxC_aclus=array([12, 14, 27, 30, 33, 34]), SxC_aclus=array([40]))], Fig2_Laps_FR=[SingleBarResult(mean=39.89613893080749, std=22.065681707255383, values=array([ 7.22583976, 41.47858141, 76.19763967, 26.55553476, 31.25688568,\n",
       "        56.6623523 ]), LxC_aclus=array([12, 14, 27, 30, 33, 34]), SxC_aclus=array([40])), SingleBarResult(mean=10.29501825929225, std=7.021378587510845, values=array([ 8.43125907,  0.        , 20.04931323,  3.88864207, 12.31990114,\n",
       "        17.08099404]), LxC_aclus=array([12, 14, 27, 30, 33, 34]), SxC_aclus=array([40])), SingleBarResult(mean=6.04549475864744, std=0.0, values=array([6.04549476]), LxC_aclus=array([12, 14, 27, 30, 33, 34]), SxC_aclus=array([40])), SingleBarResult(mean=94.15035312354101, std=0.0, values=array([94.15035312]), LxC_aclus=array([12, 14, 27, 30, 33, 34]), SxC_aclus=array([40]))]),\n",
       " Context(format_name: 'kdiba'\n",
       "         animal: 'vvp01'\n",
       "         exper_name: 'two'\n",
       "         session_name: '2006-4-19_13-50-7'): InstantaneousSpikeRateGroupsComputation(instantaneous_time_bin_size_seconds=0.01, active_identifying_session_ctx=IdentifyingContext<('kdiba', 'vvp01', 'two', '2006-4-19_13-50-7')>, LxC_aclus=array([ 2,  5,  9, 11, 12, 39]), SxC_aclus=array([ 4,  6,  7, 22, 35]), Fig2_Replay_FR=[SingleBarResult(mean=7.993319809574673, std=17.873606460104643, values=array([ 0.        ,  0.        ,  0.        ,  0.        ,  0.        ,\n",
       "        47.95991886]), LxC_aclus=array([ 2,  5,  9, 11, 12, 39]), SxC_aclus=array([ 4,  6,  7, 22, 35])), SingleBarResult(mean=3.3245190033452716, std=7.433850483969878, values=array([ 0.        ,  0.        ,  0.        ,  0.        ,  0.        ,\n",
       "        19.94711402]), LxC_aclus=array([ 2,  5,  9, 11, 12, 39]), SxC_aclus=array([ 4,  6,  7, 22, 35])), SingleBarResult(mean=2.6596152026762168, std=5.3192304053524335, values=array([ 0.        ,  0.        ,  0.        , 13.29807601,  0.        ]), LxC_aclus=array([ 2,  5,  9, 11, 12, 39]), SxC_aclus=array([ 4,  6,  7, 22, 35])), SingleBarResult(mean=6.40913004920576, std=12.81826009841152, values=array([ 0.        ,  0.        ,  0.        , 32.04565025,  0.        ]), LxC_aclus=array([ 2,  5,  9, 11, 12, 39]), SxC_aclus=array([ 4,  6,  7, 22, 35]))], Fig2_Laps_FR=[SingleBarResult(mean=48.7469828172319, std=16.040868917929284, values=array([28.92676047, 70.18011328, 42.04098202, 31.44575033, 52.99502437,\n",
       "        66.89326644]), LxC_aclus=array([ 2,  5,  9, 11, 12, 39]), SxC_aclus=array([ 4,  6,  7, 22, 35])), SingleBarResult(mean=5.901897481444355, std=6.249434757573282, values=array([ 3.06878677,  0.        ,  1.02292892,  2.04585785, 14.95280641,\n",
       "        14.32100494]), LxC_aclus=array([ 2,  5,  9, 11, 12, 39]), SxC_aclus=array([ 4,  6,  7, 22, 35])), SingleBarResult(mean=9.045363849384561, std=3.8131595276937764, values=array([ 6.13757354,  6.13757354,  6.13757354, 11.25221817, 15.56188045]), LxC_aclus=array([ 2,  5,  9, 11, 12, 39]), SxC_aclus=array([ 4,  6,  7, 22, 35])), SingleBarResult(mean=56.761987935479205, std=20.550797653585402, values=array([84.17947682, 77.12735715, 36.5827764 , 51.82098376, 34.09934554]), LxC_aclus=array([ 2,  5,  9, 11, 12, 39]), SxC_aclus=array([ 4,  6,  7, 22, 35]))]),\n",
       " Context(format_name: 'kdiba'\n",
       "         animal: 'vvp01'\n",
       "         exper_name: 'two'\n",
       "         session_name: '2006-4-21_11-19-2'): InstantaneousSpikeRateGroupsComputation(instantaneous_time_bin_size_seconds=0.01, active_identifying_session_ctx=IdentifyingContext<('kdiba', 'vvp01', 'two', '2006-4-21_11-19-2')>, LxC_aclus=array([ 3,  6,  7,  9, 34, 44, 45]), SxC_aclus=array([ 5, 13, 17]), Fig2_Replay_FR=[SingleBarResult(mean=15.649304848314648, std=21.969700792075987, values=array([ 0.        , 67.95092253, 15.95769122,  9.67882898,  0.        ,\n",
       "         7.97884561,  7.97884561]), LxC_aclus=array([ 3,  6,  7,  9, 34, 44, 45]), SxC_aclus=array([ 5, 13, 17])), SingleBarResult(mean=4.017337335567366, std=9.840426596772168, values=array([ 0.        , 28.12136135,  0.        ,  0.        ,  0.        ,\n",
       "         0.        ,  0.        ]), LxC_aclus=array([ 3,  6,  7,  9, 34, 44, 45]), SxC_aclus=array([ 5, 13, 17])), SingleBarResult(mean=0.0, std=0.0, values=array([0., 0., 0.]), LxC_aclus=array([ 3,  6,  7,  9, 34, 44, 45]), SxC_aclus=array([ 5, 13, 17])), SingleBarResult(mean=3.324519003345273, std=4.70157986289797, values=array([0.        , 0.        , 9.97355701]), LxC_aclus=array([ 3,  6,  7,  9, 34, 44, 45]), SxC_aclus=array([ 5, 13, 17]))], Fig2_Laps_FR=[SingleBarResult(mean=78.08220744425897, std=19.839115580977122, values=array([114.66197384,  86.24895209,  87.70630394,  51.38723729,\n",
       "         71.98704727,  79.02023346,  55.56370423]), LxC_aclus=array([ 3,  6,  7,  9, 34, 44, 45]), SxC_aclus=array([ 5, 13, 17])), SingleBarResult(mean=8.722851716958747, std=9.945306825009629, values=array([ 2.00285314, 18.20988328, 28.38027933,  2.49338925,  1.24669463,\n",
       "         0.        ,  8.72686238]), LxC_aclus=array([ 3,  6,  7,  9, 34, 44, 45]), SxC_aclus=array([ 5, 13, 17])), SingleBarResult(mean=7.886960965407223, std=10.163025032275042, values=array([22.23608904,  0.        ,  1.42479386]), LxC_aclus=array([ 3,  6,  7,  9, 34, 44, 45]), SxC_aclus=array([ 5, 13, 17])), SingleBarResult(mean=61.75707406046962, std=18.6996039041736, values=array([77.37322141, 35.46617767, 72.4318231 ]), LxC_aclus=array([ 3,  6,  7,  9, 34, 44, 45]), SxC_aclus=array([ 5, 13, 17]))]),\n",
       " Context(format_name: 'kdiba'\n",
       "         animal: 'vvp01'\n",
       "         exper_name: 'two'\n",
       "         session_name: '2006-4-25_13-20-55'): InstantaneousSpikeRateGroupsComputation(instantaneous_time_bin_size_seconds=0.01, active_identifying_session_ctx=IdentifyingContext<('kdiba', 'vvp01', 'two', '2006-4-25_13-20-55')>, LxC_aclus=array([26, 30, 54]), SxC_aclus=array([ 6,  8, 19, 31, 32, 43, 47]), Fig2_Replay_FR=[SingleBarResult(mean=18.70415162800965, std=16.507746563426515, values=array([ 0.        , 40.15476367, 15.95769122]), LxC_aclus=array([26, 30, 54]), SxC_aclus=array([ 6,  8, 19, 31, 32, 43, 47])), SingleBarResult(mean=5.106667086831886, std=7.221917852721958, values=array([ 0.        , 15.32000126,  0.        ]), LxC_aclus=array([26, 30, 54]), SxC_aclus=array([ 6,  8, 19, 31, 32, 43, 47])), SingleBarResult(mean=2.2796701737224727, std=5.584028707461942, values=array([ 0.        ,  0.        ,  0.        ,  0.        ,  0.        ,\n",
       "         0.        , 15.95769122]), LxC_aclus=array([26, 30, 54]), SxC_aclus=array([ 6,  8, 19, 31, 32, 43, 47])), SingleBarResult(mean=10.070563004302425, std=6.417312168363424, values=array([13.07997787,  0.        ,  7.25349601, 20.37376341,  3.626748  ,\n",
       "        14.50699201, 11.65296373]), LxC_aclus=array([26, 30, 54]), SxC_aclus=array([ 6,  8, 19, 31, 32, 43, 47]))], Fig2_Laps_FR=[SingleBarResult(mean=82.8472375740899, std=32.52467721397692, values=array([ 57.85292867, 128.78456747,  61.90421659]), LxC_aclus=array([26, 30, 54]), SxC_aclus=array([ 6,  8, 19, 31, 32, 43, 47])), SingleBarResult(mean=8.2621761701515, std=6.277248651076298, values=array([ 9.58112812, 15.20540039,  0.        ]), LxC_aclus=array([26, 30, 54]), SxC_aclus=array([ 6,  8, 19, 31, 32, 43, 47])), SingleBarResult(mean=8.886203642793028, std=13.637840708939823, values=array([ 0.        , 14.77564001,  0.        ,  0.        ,  0.        ,\n",
       "         7.719046  , 39.70873949]), LxC_aclus=array([26, 30, 54]), SxC_aclus=array([ 6,  8, 19, 31, 32, 43, 47])), SingleBarResult(mean=50.51209787461046, std=14.181286549883366, values=array([58.05094011, 55.90515942, 52.49686263, 32.64050764, 25.98665844,\n",
       "        61.13557906, 67.36897783]), LxC_aclus=array([26, 30, 54]), SxC_aclus=array([ 6,  8, 19, 31, 32, 43, 47]))]),\n",
       " Context(format_name: 'kdiba'\n",
       "         animal: 'vvp01'\n",
       "         exper_name: 'two'\n",
       "         session_name: '2006-4-28_12-38-13'): InstantaneousSpikeRateGroupsComputation(instantaneous_time_bin_size_seconds=0.01, active_identifying_session_ctx=IdentifyingContext<('kdiba', 'vvp01', 'two', '2006-4-28_12-38-13')>, LxC_aclus=array([14]), SxC_aclus=array([11, 15, 35, 37, 40, 42, 44]), Fig2_Replay_FR=[SingleBarResult(mean=0.0, std=0.0, values=array([0.]), LxC_aclus=array([14]), SxC_aclus=array([11, 15, 35, 37, 40, 42, 44])), SingleBarResult(mean=4.432692004460362, std=0.0, values=array([4.432692]), LxC_aclus=array([14]), SxC_aclus=array([11, 15, 35, 37, 40, 42, 44])), SingleBarResult(mean=4.951691834866708, std=8.120649117801708, values=array([21.36376683,  0.        ,  0.        ,  0.        , 13.29807601,\n",
       "         0.        ,  0.        ]), LxC_aclus=array([14]), SxC_aclus=array([11, 15, 35, 37, 40, 42, 44])), SingleBarResult(mean=15.104661562272852, std=9.925537694989083, values=array([14.24399822,  4.43417901, 29.28471563,  9.80981922,  4.432692  ,\n",
       "        30.22915084, 13.29807601]), LxC_aclus=array([14]), SxC_aclus=array([11, 15, 35, 37, 40, 42, 44]))], Fig2_Laps_FR=[SingleBarResult(mean=10.228291905926158, std=0.0, values=array([10.22829191]), LxC_aclus=array([14]), SxC_aclus=array([11, 15, 35, 37, 40, 42, 44])), SingleBarResult(mean=0.0, std=0.0, values=array([0.]), LxC_aclus=array([14]), SxC_aclus=array([11, 15, 35, 37, 40, 42, 44])), SingleBarResult(mean=13.192480034272903, std=8.028257286920564, values=array([13.73396919, 14.89567964,  3.68922453, 25.5732231 ,  7.37845287,\n",
       "         4.30966228, 22.76714863]), LxC_aclus=array([14]), SxC_aclus=array([11, 15, 35, 37, 40, 42, 44])), SingleBarResult(mean=51.15853723302985, std=14.410811468463063, values=array([33.32385474, 67.60465648, 40.13474161, 54.91289302, 39.05067047,\n",
       "        47.98936343, 75.09358089]), LxC_aclus=array([14]), SxC_aclus=array([11, 15, 35, 37, 40, 42, 44]))]),\n",
       " Context(format_name: 'kdiba'\n",
       "         animal: 'pin01'\n",
       "         exper_name: 'one'\n",
       "         session_name: '11-02_17-46-44'): InstantaneousSpikeRateGroupsComputation(instantaneous_time_bin_size_seconds=0.01, active_identifying_session_ctx=IdentifyingContext<('kdiba', 'pin01', 'one', '11-02_17-46-44')>, LxC_aclus=array([ 8, 10, 27, 33, 34]), SxC_aclus=array([17, 18, 20, 40]), Fig2_Replay_FR=[SingleBarResult(mean=8.54020126692247, std=6.866702042809184, values=array([ 8.99248479,  7.4810042 ,  2.49338925, 21.24073885,  2.49338925]), LxC_aclus=array([ 8, 10, 27, 33, 34]), SxC_aclus=array([17, 18, 20, 40])), SingleBarResult(mean=7.7204266312327805, std=8.643330422322483, values=array([ 4.05704014,  1.35234671,  0.67617336, 24.13709844,  8.37947451]), LxC_aclus=array([ 8, 10, 27, 33, 34]), SxC_aclus=array([17, 18, 20, 40])), SingleBarResult(mean=4.496451502613511, std=1.176597789047493, values=array([4.98761494, 2.49338925, 4.98677851, 5.51802331]), LxC_aclus=array([ 8, 10, 27, 33, 34]), SxC_aclus=array([17, 18, 20, 40])), SingleBarResult(mean=10.565884856766814, std=3.6147886791704598, values=array([11.52453796, 15.74959822,  5.81950672,  9.16989652]), LxC_aclus=array([ 8, 10, 27, 33, 34]), SxC_aclus=array([17, 18, 20, 40]))], Fig2_Laps_FR=[SingleBarResult(mean=41.74563560424557, std=17.093180248528697, values=array([72.47731882, 30.80433722, 47.32404746, 33.74253463, 24.37993989]), LxC_aclus=array([ 8, 10, 27, 33, 34]), SxC_aclus=array([17, 18, 20, 40])), SingleBarResult(mean=6.198637739996014, std=3.6800061463761407, values=array([9.73029952, 2.5362324 , 0.97302995, 8.58172716, 9.17189966]), LxC_aclus=array([ 8, 10, 27, 33, 34]), SxC_aclus=array([17, 18, 20, 40])), SingleBarResult(mean=7.934292609132415, std=6.024198040021387, values=array([ 3.9966599 ,  6.21300591, 18.20298562,  3.324519  ]), LxC_aclus=array([ 8, 10, 27, 33, 34]), SxC_aclus=array([17, 18, 20, 40])), SingleBarResult(mean=38.5369055722722, std=10.224617711103646, values=array([54.85761781, 26.68582285, 35.47485874, 37.1293229 ]), LxC_aclus=array([ 8, 10, 27, 33, 34]), SxC_aclus=array([17, 18, 20, 40]))]),\n",
       " Context(format_name: 'kdiba'\n",
       "         animal: 'pin01'\n",
       "         exper_name: 'one'\n",
       "         session_name: '11-05_19-26-43'): InstantaneousSpikeRateGroupsComputation(instantaneous_time_bin_size_seconds=0.01, active_identifying_session_ctx=IdentifyingContext<('kdiba', 'pin01', 'one', '11-05_19-26-43')>, LxC_aclus=array([ 7, 10]), SxC_aclus=array([16]), Fig2_Replay_FR=[SingleBarResult(mean=34.66184284406695, std=21.36376683068587, values=array([13.29807601, 56.02560967]), LxC_aclus=array([ 7, 10]), SxC_aclus=array([16])), SingleBarResult(mean=11.445029892435347, std=11.445029892435347, values=array([ 0.        , 22.89005978]), LxC_aclus=array([ 7, 10]), SxC_aclus=array([16])), SingleBarResult(mean=0.0, std=0.0, values=array([0.]), LxC_aclus=array([ 7, 10]), SxC_aclus=array([16])), SingleBarResult(mean=53.24792000428769, std=0.0, values=array([53.24792]), LxC_aclus=array([ 7, 10]), SxC_aclus=array([16]))], Fig2_Laps_FR=[SingleBarResult(mean=64.49761742561876, std=8.857570239857957, values=array([55.64004719, 73.35518767]), LxC_aclus=array([ 7, 10]), SxC_aclus=array([16])), SingleBarResult(mean=10.187496781288749, std=6.56074877763936, values=array([ 3.626748  , 16.74824556]), LxC_aclus=array([ 7, 10]), SxC_aclus=array([16])), SingleBarResult(mean=1.7345316539192728, std=0.0, values=array([1.73453165]), LxC_aclus=array([ 7, 10]), SxC_aclus=array([16])), SingleBarResult(mean=72.78187797338425, std=0.0, values=array([72.78187797]), LxC_aclus=array([ 7, 10]), SxC_aclus=array([16]))]),\n",
       " Context(format_name: 'kdiba'\n",
       "         animal: 'pin01'\n",
       "         exper_name: 'one'\n",
       "         session_name: '11-09_11-43-50'): InstantaneousSpikeRateGroupsComputation(instantaneous_time_bin_size_seconds=0.01, active_identifying_session_ctx=IdentifyingContext<('kdiba', 'pin01', 'one', '11-09_11-43-50')>, LxC_aclus=array([19]), SxC_aclus=array([4]), Fig2_Replay_FR=[SingleBarResult(mean=19.94711402007163, std=0.0, values=array([19.94711402]), LxC_aclus=array([19]), SxC_aclus=array([4])), SingleBarResult(mean=0.0, std=0.0, values=array([0.]), LxC_aclus=array([19]), SxC_aclus=array([4])), SingleBarResult(mean=19.947114020071634, std=0.0, values=array([19.94711402]), LxC_aclus=array([19]), SxC_aclus=array([4])), SingleBarResult(mean=42.01920725606462, std=0.0, values=array([42.01920726]), LxC_aclus=array([19]), SxC_aclus=array([4]))], Fig2_Laps_FR=[SingleBarResult(mean=54.40430426283903, std=0.0, values=array([54.40430426]), LxC_aclus=array([19]), SxC_aclus=array([4])), SingleBarResult(mean=12.729665235201047, std=0.0, values=array([12.72966524]), LxC_aclus=array([19]), SxC_aclus=array([4])), SingleBarResult(mean=25.35644605388512, std=0.0, values=array([25.35644605]), LxC_aclus=array([19]), SxC_aclus=array([4])), SingleBarResult(mean=18.06894962082406, std=0.0, values=array([18.06894962]), LxC_aclus=array([19]), SxC_aclus=array([4]))]),\n",
       " Context(format_name: 'kdiba'\n",
       "         animal: 'pin01'\n",
       "         exper_name: 'one'\n",
       "         session_name: '11-09_22-4-5'): InstantaneousSpikeRateGroupsComputation(instantaneous_time_bin_size_seconds=0.01, active_identifying_session_ctx=IdentifyingContext<('kdiba', 'pin01', 'one', '11-09_22-4-5')>, LxC_aclus=array([13, 16, 19, 26, 29]), SxC_aclus=array([22, 30]), Fig2_Replay_FR=[SingleBarResult(mean=22.392874828045898, std=23.846095272418744, values=array([30.47593469,  7.97884561, 65.53074824,  7.97884561,  0.        ]), LxC_aclus=array([13, 16, 19, 26, 29]), SxC_aclus=array([22, 30])), SingleBarResult(mean=2.659615202676218, std=5.319230405352436, values=array([ 0.        ,  0.        , 13.29807601,  0.        ,  0.        ]), LxC_aclus=array([13, 16, 19, 26, 29]), SxC_aclus=array([22, 30])), SingleBarResult(mean=0.0, std=0.0, values=array([0., 0.]), LxC_aclus=array([13, 16, 19, 26, 29]), SxC_aclus=array([22, 30])), SingleBarResult(mean=24.688285834031134, std=16.622595016726358, values=array([ 8.06569082, 41.31088085]), LxC_aclus=array([13, 16, 19, 26, 29]), SxC_aclus=array([22, 30]))], Fig2_Laps_FR=[SingleBarResult(mean=51.44255791305254, std=21.21232728577382, values=array([61.28504757, 58.85281959, 82.11866172, 29.52954957, 25.42671112]), LxC_aclus=array([13, 16, 19, 26, 29]), SxC_aclus=array([22, 30])), SingleBarResult(mean=5.760683317806627, std=5.692158917102936, values=array([ 1.73453165,  5.17413937, 16.6911506 ,  0.86726583,  4.33632913]), LxC_aclus=array([13, 16, 19, 26, 29]), SxC_aclus=array([22, 30])), SingleBarResult(mean=5.697695243767579, std=5.697695243767579, values=array([11.39539049,  0.        ]), LxC_aclus=array([13, 16, 19, 26, 29]), SxC_aclus=array([22, 30])), SingleBarResult(mean=29.709691795184064, std=0.6239462760448351, values=array([30.33363807, 29.08574552]), LxC_aclus=array([13, 16, 19, 26, 29]), SxC_aclus=array([22, 30]))]),\n",
       " Context(format_name: 'kdiba'\n",
       "         animal: 'pin01'\n",
       "         exper_name: 'one'\n",
       "         session_name: 'fet11-01_12-58-54'): InstantaneousSpikeRateGroupsComputation(instantaneous_time_bin_size_seconds=0.01, active_identifying_session_ctx=IdentifyingContext<('kdiba', 'pin01', 'one', 'fet11-01_12-58-54')>, LxC_aclus=array([ 6, 10, 16, 19]), SxC_aclus=array([24]), Fig2_Replay_FR=[SingleBarResult(mean=9.621439492000706, std=3.6676968719516974, values=array([ 6.04920669,  8.16317771,  8.51262215, 15.76075141]), LxC_aclus=array([ 6, 10, 16, 19]), SxC_aclus=array([24])), SingleBarResult(mean=4.220954384421619, std=3.1010826988768163, values=array([0.9973557 , 2.3271633 , 4.39270734, 9.16659119]), LxC_aclus=array([ 6, 10, 16, 19]), SxC_aclus=array([24])), SingleBarResult(mean=4.201844084948274, std=0.0, values=array([4.20184408]), LxC_aclus=array([ 6, 10, 16, 19]), SxC_aclus=array([24])), SingleBarResult(mean=33.95235990688945, std=0.0, values=array([33.95235991]), LxC_aclus=array([ 6, 10, 16, 19]), SxC_aclus=array([24]))], Fig2_Laps_FR=[SingleBarResult(mean=36.4624125303696, std=13.177925965783405, values=array([30.87348123, 31.81669463, 24.41235439, 58.74711988]), LxC_aclus=array([ 6, 10, 16, 19]), SxC_aclus=array([24])), SingleBarResult(mean=6.665488605134945, std=6.017058529823763, values=array([ 3.19153824,  3.19153824,  3.19153824, 17.08733969]), LxC_aclus=array([ 6, 10, 16, 19]), SxC_aclus=array([24])), SingleBarResult(mean=7.566146697268552, std=0.0, values=array([7.5661467]), LxC_aclus=array([ 6, 10, 16, 19]), SxC_aclus=array([24])), SingleBarResult(mean=82.45622114507489, std=0.0, values=array([82.45622115]), LxC_aclus=array([ 6, 10, 16, 19]), SxC_aclus=array([24]))]),\n",
       " Context(format_name: 'kdiba'\n",
       "         animal: 'pin01'\n",
       "         exper_name: 'one'\n",
       "         session_name: 'fet11-03_20-28-3'): InstantaneousSpikeRateGroupsComputation(instantaneous_time_bin_size_seconds=0.01, active_identifying_session_ctx=IdentifyingContext<('kdiba', 'pin01', 'one', 'fet11-03_20-28-3')>, LxC_aclus=array([ 7,  9, 24, 25]), SxC_aclus=array([29]), Fig2_Replay_FR=[SingleBarResult(mean=8.594852040356356, std=6.773251174370344, values=array([16.0020097 , 14.38797566,  0.        ,  3.9894228 ]), LxC_aclus=array([ 7,  9, 24, 25]), SxC_aclus=array([29])), SingleBarResult(mean=5.199276426610043, std=4.690652383402983, values=array([ 3.9894228, 12.8182601,  3.9894228,  0.       ]), LxC_aclus=array([ 7,  9, 24, 25]), SxC_aclus=array([29])), SingleBarResult(mean=0.0, std=0.0, values=array([0.]), LxC_aclus=array([ 7,  9, 24, 25]), SxC_aclus=array([29])), SingleBarResult(mean=0.0, std=0.0, values=array([0.]), LxC_aclus=array([ 7,  9, 24, 25]), SxC_aclus=array([29]))], Fig2_Laps_FR=[SingleBarResult(mean=35.95253965863399, std=11.668481069228088, values=array([48.79644581, 46.02476632, 21.69951751, 27.28942899]), LxC_aclus=array([ 7,  9, 24, 25]), SxC_aclus=array([29])), SingleBarResult(mean=9.94334790563839, std=8.871348711875164, values=array([ 6.59190531, 24.21718563,  0.        ,  8.96430068]), LxC_aclus=array([ 7,  9, 24, 25]), SxC_aclus=array([29])), SingleBarResult(mean=4.533435004561735, std=0.0, values=array([4.533435]), LxC_aclus=array([ 7,  9, 24, 25]), SxC_aclus=array([29])), SingleBarResult(mean=21.409572522663503, std=0.0, values=array([21.40957252]), LxC_aclus=array([ 7,  9, 24, 25]), SxC_aclus=array([29]))])}"
      ]
     },
     "execution_count": 27,
     "metadata": {},
     "output_type": "execute_result"
    }
   ],
   "source": [
    "across_sessions_instantaneous_fr_dict"
   ]
  },
  {
   "cell_type": "code",
   "execution_count": 9,
=======
   "execution_count": null,
>>>>>>> 4ed04e8113a097d816c47a3506e8227ab38afbae
   "id": "b2131bc6-efb9-4768-87de-374d857c8227",
   "metadata": {
    "tags": []
   },
   "outputs": [],
   "source": [
    "inst_fr_output_filename='across_session_result_long_short_inst_firing_rate_2023-07-19.pkl'\n",
    "global_batch_result_inst_fr_file_path = Path(global_data_root_parent_path).joinpath(inst_fr_output_filename).resolve() # Use Default\n",
    "print(f'global_batch_result_inst_fr_file_path: {global_batch_result_inst_fr_file_path}')\n",
    "# Save the all sessions instantaneous firing rate dict to the path:\n",
    "saveData(global_batch_result_inst_fr_file_path, across_sessions_instantaneous_fr_dict)"
   ]
  },
  {
   "cell_type": "code",
   "execution_count": null,
   "id": "cf462d87-76a1-4a3b-b077-5215f433deb2",
   "metadata": {},
   "outputs": [],
   "source": [
    "## Save the instantaneous firing rate results dict: (# Dict[IdentifyingContext] = InstantaneousSpikeRateGroupsComputation)\n",
    "#TODO 2023-07-12 10:12: - [ ] New save way after we save out current result and reload\n",
    "result_handler.save_across_sessions_data(global_data_root_parent_path=global_data_root_parent_path, inst_fr_output_filename='across_session_result_long_short_inst_firing_rate_2023-07-19.pkl')\n",
    "num_sessions = len(result_handler.across_sessions_instantaneous_fr_dict)\n",
    "print(f'num_sessions: {num_sessions}')"
   ]
  },
  {
   "cell_type": "markdown",
   "id": "be651cc7",
   "metadata": {
    "tags": []
   },
   "source": [
    "# 2023-07-14 - Load Saved across-sessions-data and testing Batch-computed inst_firing_rates:"
   ]
  },
  {
   "cell_type": "code",
<<<<<<< HEAD
   "execution_count": 15,
   "id": "42eac61c-038f-4246-ade4-cb3d4a38aa11",
=======
   "execution_count": null,
   "id": "28ad5bf6",
>>>>>>> 4ed04e8113a097d816c47a3506e8227ab38afbae
   "metadata": {},
   "outputs": [],
   "source": [
    "from neuropy.utils.matplotlib_helpers import matplotlib_configuration_update\n",
    "from pyphoplacecellanalysis.General.Batch.PhoDiba2023Paper import PaperFigureTwo, InstantaneousSpikeRateGroupsComputation\n",
    "from pyphoplacecellanalysis.General.Pipeline.Stages.ComputationFunctions.SpikeAnalysis import SpikeRateTrends\n",
    "\n",
    "## Load the saved across-session results:\n",
    "# inst_fr_output_filename = 'long_short_inst_firing_rate_result_handlers_2023-07-12.pkl'\n",
    "# inst_fr_output_filename = 'across_session_result_long_short_inst_firing_rate.pkl'\n",
    "inst_fr_output_filename='across_session_result_long_short_inst_firing_rate_2023-07-19.pkl'\n",
    "across_session_inst_fr_computation, across_sessions_instantaneous_fr_dict, across_sessions_instantaneous_frs_list = BatchSessionCompletionHandler.load_across_sessions_data(global_data_root_parent_path=global_data_root_parent_path, inst_fr_output_filename=inst_fr_output_filename)\n",
    "# across_sessions_instantaneous_fr_dict = loadData(global_batch_result_inst_fr_file_path)\n",
    "num_sessions = len(across_sessions_instantaneous_fr_dict)\n",
    "print(f'num_sessions: {num_sessions}')"
   ]
  },
  {
   "cell_type": "code",
<<<<<<< HEAD
   "execution_count": 22,
   "id": "ecc26f96-9dbf-4e9c-9bb4-255cb6ec7b78",
   "metadata": {},
   "outputs": [
    {
     "data": {
      "text/plain": [
       "4"
      ]
     },
     "execution_count": 22,
     "metadata": {},
     "output_type": "execute_result"
    }
   ],
   "source": [
    "len(across_session_inst_fr_computation.Fig2_Replay_FR)"
   ]
  },
  {
   "cell_type": "code",
   "execution_count": 25,
   "id": "a693f9cf-0b8e-4c8a-84bb-f88045505297",
   "metadata": {},
   "outputs": [
    {
     "data": {
      "text/plain": [
       "array([  2,   8,  19,  28,  36,  54,  63,  68,  73,  74,  97, 109])"
      ]
     },
     "execution_count": 25,
     "metadata": {},
     "output_type": "execute_result"
    }
   ],
   "source": [
    "across_session_inst_fr_computation.Fig2_Replay_FR[0].LxC_aclus"
   ]
  },
  {
   "cell_type": "code",
   "execution_count": 24,
   "id": "27a720bd-5cca-4671-a26d-0a26cb951c02",
   "metadata": {},
   "outputs": [
    {
     "data": {
      "text/plain": [
       "array([  2,   8,  19,  28,  36,  54,  63,  68,  73,  74,  97, 109])"
      ]
     },
     "execution_count": 24,
     "metadata": {},
     "output_type": "execute_result"
    }
   ],
   "source": [
    "across_session_inst_fr_computation.Fig2_Replay_FR[1].LxC_aclus"
   ]
  },
  {
   "cell_type": "code",
   "execution_count": 16,
=======
   "execution_count": null,
>>>>>>> 4ed04e8113a097d816c47a3506e8227ab38afbae
   "id": "63258151",
   "metadata": {},
   "outputs": [],
   "source": [
    "## Aggregate across all of the sessions to build a new combined `InstantaneousSpikeRateGroupsComputation`, which can be used to plot the \"PaperFigureTwo\", bar plots for many sessions.\n",
    "global_multi_session_context = IdentifyingContext(format_name='kdiba', num_sessions=num_sessions) # some global context across all of the sessions, not sure what to put here.\n",
    "\n",
    "# To correctly aggregate results across sessions, it only makes sense to combine entries at the `.cell_agg_inst_fr_list` variable and lower (as the number of cells can be added across sessions, treated as unique for each session).\n",
    "\n",
    "## Display the aggregate across sessions:\n",
    "_out_fig_2 = PaperFigureTwo(instantaneous_time_bin_size_seconds=0.01) # WARNING: we didn't save this info\n",
    "_out_fig_2.computation_result = across_session_inst_fr_computation\n",
    "_out_fig_2.active_identifying_session_ctx = across_session_inst_fr_computation.active_identifying_session_ctx\n",
    "# Set callback, the only self-specific property\n",
    "# _out_fig_2._pipeline_file_callback_fn = curr_active_pipeline.output_figure # lambda args, kwargs: self.write_to_file(args, kwargs, curr_active_pipeline)"
   ]
  },
  {
   "cell_type": "code",
<<<<<<< HEAD
   "execution_count": 17,
=======
   "execution_count": null,
>>>>>>> 4ed04e8113a097d816c47a3506e8227ab38afbae
   "id": "96c498f8",
   "metadata": {},
   "outputs": [],
   "source": [
    "from pyphoplacecellanalysis.General.Mixins.ExportHelpers import FigureOutputManager, FigureOutputLocation, ContextToPathMode\n",
    "\n",
    "registered_output_files = {}\n",
    "\n",
    "def output_figure(final_context: IdentifyingContext, fig, write_vector_format:bool=False, write_png:bool=True, debug_print=True):\n",
    "    \"\"\" outputs the figure using the provided context. \"\"\"\n",
    "    from pyphoplacecellanalysis.General.Mixins.ExportHelpers import build_and_write_to_file\n",
    "    def register_output_file(output_path, output_metadata=None):\n",
    "        \"\"\" registers a new output file for the pipeline \"\"\"\n",
    "        print(f'register_output_file(output_path: {output_path}, ...)')\n",
    "        registered_output_files[output_path] = output_metadata or {}\n",
    "\n",
    "    fig_out_man = FigureOutputManager(figure_output_location=FigureOutputLocation.DAILY_PROGRAMMATIC_OUTPUT_FOLDER, context_to_path_mode=ContextToPathMode.HIERARCHY_UNIQUE)\n",
    "    active_out_figure_paths = build_and_write_to_file(fig, final_context, fig_out_man, write_vector_format=write_vector_format, write_png=write_png, register_output_file_fn=register_output_file)\n",
    "    return active_out_figure_paths, final_context\n",
    "\n",
    "\n",
    "# Set callback, the only self-specific property\n",
    "_out_fig_2._pipeline_file_callback_fn = output_figure"
   ]
  },
  {
   "cell_type": "code",
<<<<<<< HEAD
   "execution_count": 18,
   "id": "a694ec1c",
   "metadata": {},
   "outputs": [
    {
     "ename": "AttributeError",
     "evalue": "'InstantaneousSpikeRateGroupsComputation' object has no attribute 'LxC_aclus'",
     "output_type": "error",
     "traceback": [
      "\u001b[0;31m---------------------------------------------------------------------------\u001b[0m",
      "\u001b[0;31mAttributeError\u001b[0m                            Traceback (most recent call last)",
      "Cell \u001b[0;32mIn[18], line 4\u001b[0m\n\u001b[1;32m      2\u001b[0m restore_previous_matplotlib_settings_callback \u001b[38;5;241m=\u001b[39m matplotlib_configuration_update(is_interactive\u001b[38;5;241m=\u001b[39m\u001b[38;5;28;01mTrue\u001b[39;00m, backend\u001b[38;5;241m=\u001b[39m\u001b[38;5;124m'\u001b[39m\u001b[38;5;124mQt5Agg\u001b[39m\u001b[38;5;124m'\u001b[39m)\n\u001b[1;32m      3\u001b[0m \u001b[38;5;66;03m# Perform interactive Matplotlib operations with 'Qt5Agg' backend\u001b[39;00m\n\u001b[0;32m----> 4\u001b[0m _fig_2_theta_out, _fig_2_replay_out \u001b[38;5;241m=\u001b[39m \u001b[43m_out_fig_2\u001b[49m\u001b[38;5;241;43m.\u001b[39;49m\u001b[43mdisplay\u001b[49m\u001b[43m(\u001b[49m\u001b[43mactive_context\u001b[49m\u001b[38;5;241;43m=\u001b[39;49m\u001b[43mglobal_multi_session_context\u001b[49m\u001b[43m,\u001b[49m\u001b[43m \u001b[49m\u001b[43mtitle_modifier_fn\u001b[49m\u001b[38;5;241;43m=\u001b[39;49m\u001b[38;5;28;43;01mlambda\u001b[39;49;00m\u001b[43m \u001b[49m\u001b[43moriginal_title\u001b[49m\u001b[43m:\u001b[49m\u001b[43m \u001b[49m\u001b[38;5;124;43mf\u001b[39;49m\u001b[38;5;124;43m\"\u001b[39;49m\u001b[38;5;132;43;01m{\u001b[39;49;00m\u001b[43moriginal_title\u001b[49m\u001b[38;5;132;43;01m}\u001b[39;49;00m\u001b[38;5;124;43m (\u001b[39;49m\u001b[38;5;132;43;01m{\u001b[39;49;00m\u001b[43mnum_sessions\u001b[49m\u001b[38;5;132;43;01m}\u001b[39;49;00m\u001b[38;5;124;43m sessions)\u001b[39;49m\u001b[38;5;124;43m\"\u001b[39;49m\u001b[43m,\u001b[49m\u001b[43m \u001b[49m\u001b[43msave_figure\u001b[49m\u001b[38;5;241;43m=\u001b[39;49m\u001b[38;5;28;43;01mTrue\u001b[39;49;00m\u001b[43m)\u001b[49m\n\u001b[1;32m      6\u001b[0m _out_fig_2\u001b[38;5;241m.\u001b[39mperform_save()\n",
      "File \u001b[0;32m~/repos/NeuroPy/neuropy/utils/result_context.py:424\u001b[0m, in \u001b[0;36mproviding_context.<locals>.decorator.<locals>.wrapper\u001b[0;34m(*args, **kwargs)\u001b[0m\n\u001b[1;32m    422\u001b[0m     result \u001b[38;5;241m=\u001b[39m func(\u001b[38;5;241m*\u001b[39margs, \u001b[38;5;241m*\u001b[39m\u001b[38;5;241m*\u001b[39mkwargs)\n\u001b[1;32m    423\u001b[0m \u001b[38;5;28;01mexcept\u001b[39;00m \u001b[38;5;167;01mException\u001b[39;00m \u001b[38;5;28;01mas\u001b[39;00m e:\n\u001b[0;32m--> 424\u001b[0m     \u001b[38;5;28;01mraise\u001b[39;00m e\n\u001b[1;32m    425\u001b[0m \u001b[38;5;66;03m## TODO: update the returned context poentially?\u001b[39;00m\n\u001b[1;32m    426\u001b[0m \u001b[38;5;28;01mreturn\u001b[39;00m result\n",
      "File \u001b[0;32m~/repos/NeuroPy/neuropy/utils/result_context.py:418\u001b[0m, in \u001b[0;36mproviding_context.<locals>.decorator.<locals>.wrapper\u001b[0;34m(*args, **kwargs)\u001b[0m\n\u001b[1;32m    416\u001b[0m func\u001b[38;5;241m.\u001b[39mactive_context \u001b[38;5;241m=\u001b[39m updated_context\n\u001b[1;32m    417\u001b[0m \u001b[38;5;28;01mtry\u001b[39;00m:\n\u001b[0;32m--> 418\u001b[0m     result \u001b[38;5;241m=\u001b[39m \u001b[43mfunc\u001b[49m\u001b[43m(\u001b[49m\u001b[38;5;241;43m*\u001b[39;49m\u001b[43margs\u001b[49m\u001b[43m,\u001b[49m\u001b[43m \u001b[49m\u001b[38;5;241;43m*\u001b[39;49m\u001b[38;5;241;43m*\u001b[39;49m\u001b[43mkwargs\u001b[49m\u001b[43m)\u001b[49m\n\u001b[1;32m    419\u001b[0m \u001b[38;5;28;01mexcept\u001b[39;00m \u001b[38;5;167;01mTypeError\u001b[39;00m \u001b[38;5;28;01mas\u001b[39;00m e:\n\u001b[1;32m    420\u001b[0m     \u001b[38;5;66;03m# TypeError: __init__() got an unexpected keyword argument 'active_context'\u001b[39;00m\n\u001b[1;32m    421\u001b[0m     \u001b[38;5;28;01mdel\u001b[39;00m kwargs[\u001b[38;5;124m'\u001b[39m\u001b[38;5;124mactive_context\u001b[39m\u001b[38;5;124m'\u001b[39m] \u001b[38;5;66;03m# remove from the **kwargs, it can't handle it\u001b[39;00m\n",
      "File \u001b[0;32m~/repos/pyPhoPlaceCellAnalysis/src/pyphoplacecellanalysis/General/Batch/PhoDiba2023Paper.py:979\u001b[0m, in \u001b[0;36mPaperFigureTwo.display\u001b[0;34m(self, defer_show, save_figure, enable_tiny_point_labels, enable_hover_labels, **kwargs)\u001b[0m\n\u001b[1;32m    972\u001b[0m _fig_2_replay_out \u001b[38;5;241m=\u001b[39m \u001b[38;5;28mself\u001b[39m\u001b[38;5;241m.\u001b[39mfig_2_Replay_FR_matplotlib(\u001b[38;5;28mself\u001b[39m\u001b[38;5;241m.\u001b[39mcomputation_result\u001b[38;5;241m.\u001b[39mFig2_Replay_FR, defer_show\u001b[38;5;241m=\u001b[39mdefer_show,\n\u001b[1;32m    973\u001b[0m                                                     active_context\u001b[38;5;241m=\u001b[39mactive_context, top_margin\u001b[38;5;241m=\u001b[39mtop_margin,\n\u001b[1;32m    974\u001b[0m                                                     left_margin\u001b[38;5;241m=\u001b[39mleft_margin, bottom_margin\u001b[38;5;241m=\u001b[39mbottom_margin,\n\u001b[1;32m    975\u001b[0m                                                     title_modifier\u001b[38;5;241m=\u001b[39mtitle_modifier)\n\u001b[1;32m    978\u001b[0m \u001b[38;5;28;01mif\u001b[39;00m enable_hover_labels \u001b[38;5;129;01mor\u001b[39;00m enable_tiny_point_labels:\n\u001b[0;32m--> 979\u001b[0m     LxC_aclus \u001b[38;5;241m=\u001b[39m \u001b[38;5;28;43mself\u001b[39;49m\u001b[38;5;241;43m.\u001b[39;49m\u001b[43mcomputation_result\u001b[49m\u001b[38;5;241;43m.\u001b[39;49m\u001b[43mLxC_aclus\u001b[49m\n\u001b[1;32m    980\u001b[0m     SxC_aclus \u001b[38;5;241m=\u001b[39m \u001b[38;5;28mself\u001b[39m\u001b[38;5;241m.\u001b[39mcomputation_result\u001b[38;5;241m.\u001b[39mSxC_aclus\n\u001b[1;32m    981\u001b[0m     _fig_2_theta_out \u001b[38;5;241m=\u001b[39m \u001b[38;5;28mself\u001b[39m\u001b[38;5;241m.\u001b[39madd_optional_aclu_labels(_fig_2_theta_out, LxC_aclus, SxC_aclus, enable_tiny_point_labels\u001b[38;5;241m=\u001b[39menable_tiny_point_labels, enable_hover_labels\u001b[38;5;241m=\u001b[39menable_hover_labels)\n",
      "\u001b[0;31mAttributeError\u001b[0m: 'InstantaneousSpikeRateGroupsComputation' object has no attribute 'LxC_aclus'"
     ]
    }
   ],
=======
   "execution_count": null,
   "id": "a694ec1c",
   "metadata": {},
   "outputs": [],
>>>>>>> 4ed04e8113a097d816c47a3506e8227ab38afbae
   "source": [
    "# Showing\n",
    "restore_previous_matplotlib_settings_callback = matplotlib_configuration_update(is_interactive=True, backend='Qt5Agg')\n",
    "# Perform interactive Matplotlib operations with 'Qt5Agg' backend\n",
    "_fig_2_theta_out, _fig_2_replay_out = _out_fig_2.display(active_context=global_multi_session_context, title_modifier_fn=lambda original_title: f\"{original_title} ({num_sessions} sessions)\", save_figure=True)\n",
    "\t\n",
    "_out_fig_2.perform_save()"
   ]
  },
  {
   "cell_type": "markdown",
   "id": "32781c8b",
   "metadata": {
    "jp-MarkdownHeadingCollapsed": true,
    "tags": []
   },
   "source": [
    "## Single Session testing:\n"
   ]
  },
  {
   "cell_type": "code",
   "execution_count": null,
   "id": "9311a987",
   "metadata": {},
   "outputs": [],
   "source": [
    "_test_out = global_batch_run.execute_session(session_context=curr_sess_context, force_reload=True, skip_extended_batch_computations=True, computation_functions_name_includelist =['_perform_baseline_placefield_computation'], active_session_computation_configs=None) # can override `active_session_computation_configs` if we want to set custom ones like only the laps.)\n",
    "_test_out\n",
    "\n",
    "# global_batch_run.execute_session(session_context=curr_sess_context, force_reload=True, skip_extended_batch_computations=True, **{'computation_functions_name_includelist': ['_perform_baseline_placefield_computation'], 'active_session_computation_configs': None}) # can override `active_session_computation_configs` if we want to set custom ones like only the laps.)\n",
    "\n",
    "# 23.5s"
   ]
  },
  {
   "cell_type": "code",
   "execution_count": null,
   "id": "ddf2bb67",
   "metadata": {
    "tags": []
   },
   "outputs": [],
   "source": [
    "\n",
    "full_good_dirs = [k for k, v in global_batch_run.session_batch_errors.items() if v is None]\n",
    "bad_dirs = [k for k, v in global_batch_run.session_batch_errors.items() if v is not None]\n",
    "full_good_dirs\n",
    "bad_dirs"
   ]
  },
  {
   "cell_type": "code",
   "execution_count": null,
   "id": "9d5f73f9",
   "metadata": {
    "tags": []
   },
   "outputs": [],
   "source": [
    "global_batch_run.session_batch_status"
   ]
  },
  {
   "cell_type": "code",
   "execution_count": null,
   "id": "0dcad70a",
   "metadata": {},
   "outputs": [],
   "source": [
    "global_batch_run.session_batch_status\n",
    "global_batch_run.session_batch_errors"
   ]
  },
  {
   "cell_type": "markdown",
   "id": "15faf2bb",
   "metadata": {
    "tags": []
   },
   "source": [
    "# Get good sessions for use in the specific session processing notebook:"
   ]
  },
  {
   "cell_type": "code",
   "execution_count": null,
   "id": "ed516134",
   "metadata": {
    "tags": []
   },
   "outputs": [],
   "source": [
    "batch_progress_df = global_batch_run.to_dataframe(expand_context=True, good_only=False) # all\n",
    "good_only_batch_progress_df = global_batch_run.to_dataframe(expand_context=True, good_only=True)\n",
    "good_only_batch_progress_df"
   ]
  },
  {
   "cell_type": "code",
   "execution_count": null,
   "id": "bdf02efc",
   "metadata": {
    "tags": []
   },
   "outputs": [],
   "source": [
    "## Get the list of sessions that are completely ready to process:\n",
    "full_good_ready_to_process_sessions = list(good_only_batch_progress_df['context'].to_numpy())\n",
    "full_good_ready_to_process_sessions\n",
    "# Get good sessions for use in the specific session processing notebook:"
   ]
  },
  {
   "cell_type": "code",
   "execution_count": null,
   "id": "8f1ad809",
   "metadata": {
    "tags": []
   },
   "outputs": [],
   "source": [
    "run[\"good_sessions_list\"].extend(full_good_ready_to_process_sessions)"
   ]
  },
  {
   "cell_type": "code",
   "execution_count": null,
   "id": "c636e3b9",
   "metadata": {
    "tags": []
   },
   "outputs": [],
   "source": [
    "run.stop()\n",
    "project.stop()"
   ]
  },
  {
   "cell_type": "code",
   "execution_count": null,
   "id": "8caf1322",
   "metadata": {
    "tags": []
   },
   "outputs": [],
   "source": [
    "\n",
    "print(\",\\n\".join([ctx.get_initialization_code_string() for ctx in full_good_ready_to_process_sessions])) # List definitions\n",
    "\n",
    "# [IdentifyingContext(format_name='kdiba',animal='gor01',exper_name='one',session_name='2006-6-08_14-26-15'),\n",
    "# IdentifyingContext(format_name='kdiba',animal='gor01',exper_name='one',session_name='2006-6-09_1-22-43'),\n",
    "# IdentifyingContext(format_name='kdiba',animal='gor01',exper_name='one',session_name='2006-6-12_15-55-31'),\n",
    "# IdentifyingContext(format_name='kdiba',animal='gor01',exper_name='one',session_name='2006-6-13_14-42-6'),\n",
    "# IdentifyingContext(format_name='kdiba',animal='gor01',exper_name='two',session_name='2006-6-07_16-40-19'),\n",
    "# IdentifyingContext(format_name='kdiba',animal='gor01',exper_name='two',session_name='2006-6-12_16-53-46'),\n",
    "# IdentifyingContext(format_name='kdiba',animal='vvp01',exper_name='one',session_name='2006-4-09_17-29-30')]"
   ]
  },
  {
   "cell_type": "code",
   "execution_count": null,
   "id": "ee5a4bfe",
   "metadata": {
    "tags": []
   },
   "outputs": [],
   "source": [
    "print(\"\\ncurr_context = \".join([ctx.get_initialization_code_string() for ctx in full_good_ready_to_process_sessions])) # Line definitions\n",
    "\n",
    "# curr_context = IdentifyingContext(format_name='kdiba',animal='gor01',exper_name='one',session_name='2006-6-08_14-26-15')\n",
    "# curr_context = IdentifyingContext(format_name='kdiba',animal='gor01',exper_name='one',session_name='2006-6-09_1-22-43')\n",
    "# curr_context = IdentifyingContext(format_name='kdiba',animal='gor01',exper_name='one',session_name='2006-6-12_15-55-31')\n",
    "# curr_context = IdentifyingContext(format_name='kdiba',animal='gor01',exper_name='one',session_name='2006-6-13_14-42-6')\n",
    "# curr_context = IdentifyingContext(format_name='kdiba',animal='gor01',exper_name='two',session_name='2006-6-07_16-40-19')\n",
    "# curr_context = IdentifyingContext(format_name='kdiba',animal='gor01',exper_name='two',session_name='2006-6-12_16-53-46')\n",
    "# curr_context = IdentifyingContext(format_name='kdiba',animal='vvp01',exper_name='one',session_name='2006-4-09_17-29-30')"
   ]
  },
  {
   "cell_type": "code",
   "execution_count": null,
   "id": "e5689d1d-6400-4f87-be0e-a184a1d5bee4",
   "metadata": {
    "tags": []
   },
   "outputs": [],
   "source": [
    "good_only_batch_progress_df"
   ]
  },
  {
   "cell_type": "code",
   "execution_count": null,
   "id": "7c82aedf-b024-4f07-b1a9-350730b4db8c",
   "metadata": {
    "tags": []
   },
   "outputs": [],
   "source": [
    "from datetime import datetime\n",
    "\n",
    "# datetime object containing current date and time\n",
    "save_time = datetime.now()\n",
    " \n",
    "print(\"save_time =\", save_time)\n",
    "\n",
    "# dd/mm/YY H:M:S\n",
    "dt_string = save_time.strftime(\"%Y-%m-%d_%I-%M%p\")\n",
    "print(\"date and time =\", dt_string)"
   ]
  },
  {
   "cell_type": "code",
   "execution_count": null,
   "id": "ac7bc6bd-5b34-41d0-b906-b0ad9927b08d",
   "metadata": {
    "tags": []
   },
   "outputs": [],
   "source": [
    "## Get output file paths:\n",
    "completed_pipeline_filename = 'loadedSessPickle.pkl'\n",
    "completed_global_computations_filename = 'outputs/global_computation_results.pkl'\n",
    "\n",
    "full_good_ready_to_process_session_paths = list(good_only_batch_progress_df['basedirs'].to_numpy())\n",
    "session_paths_output_folders = [sess_path.joinpath('outputs').resolve() for sess_path in full_good_ready_to_process_session_paths]\n",
    "\n",
    "\n",
    "\n",
    "completed_pipeline_file_paths = [sess_path.joinpath(completed_pipeline_filename).resolve() for sess_path in full_good_ready_to_process_session_paths]\n",
    "completed_global_computations_file_paths = [sess_path.joinpath(completed_global_computations_filename).resolve() for sess_path in full_good_ready_to_process_session_paths]\n",
    "completed_global_computations_file_paths"
   ]
  }
 ],
 "metadata": {
  "kernelspec": {
   "display_name": "Python 3 (ipykernel)",
   "language": "python",
   "name": "python3"
  },
  "language_info": {
   "codemirror_mode": {
    "name": "ipython",
    "version": 3
   },
   "file_extension": ".py",
   "mimetype": "text/x-python",
   "name": "python",
   "nbconvert_exporter": "python",
   "pygments_lexer": "ipython3",
   "version": "3.9.12"
  },
  "toc-showmarkdowntxt": false,
  "toc-showtags": false
 },
 "nbformat": 4,
 "nbformat_minor": 5
}
