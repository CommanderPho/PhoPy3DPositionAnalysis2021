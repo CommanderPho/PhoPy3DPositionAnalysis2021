{
 "cells": [
  {
   "cell_type": "code",
   "execution_count": 2,
   "id": "0056bc66-7629-4ef7-8c87-f28f8fcd9dc8",
   "metadata": {
    "autorun": true,
    "tags": [
     "imports",
     "REQUIRED",
     "ACTIVE"
    ]
   },
   "outputs": [
    {
     "name": "stdout",
     "output_type": "stream",
     "text": [
      "Automatic pdb calling has been turned OFF\n",
      "The autoreload extension is already loaded. To reload it, use:\n",
      "  %reload_ext autoreload\n",
      "build_module_logger(module_name=\"Spike3D.pipeline\"):\n",
      "\t Module logger com.PhoHale.Spike3D.pipeline has file logging enabled and will log to EXTERNAL/TESTING/Logging/debug_com.PhoHale.Spike3D.pipeline.log\n"
     ]
    }
   ],
   "source": [
    "%config IPCompleter.use_jedi = False\n",
    "%pdb off\n",
    "%load_ext autoreload\n",
    "%autoreload 3\n",
    "from pathlib import Path\n",
    "import pathlib\n",
    "import numpy as np\n",
    "import pandas as pd\n",
    "\n",
    "# required to enable non-blocking interaction:\n",
    "%gui qt5\n",
    "\n",
    "## Pho's Custom Libraries:\n",
    "from pyphocorehelpers.Filesystem.path_helpers import find_first_extant_path\n",
    "from pyphocorehelpers.function_helpers import function_attributes\n",
    "\n",
    "# pyPhoPlaceCellAnalysis:\n",
    "# NeuroPy (Diba Lab Python Repo) Loading\n",
    "from neuropy.core.session.Formats.BaseDataSessionFormats import DataSessionFormatRegistryHolder\n",
    "from neuropy.core.session.Formats.Specific.BapunDataSessionFormat import BapunDataSessionFormatRegisteredClass\n",
    "from neuropy.core.session.Formats.Specific.KDibaOldDataSessionFormat import KDibaOldDataSessionFormatRegisteredClass\n",
    "from neuropy.core.session.Formats.Specific.RachelDataSessionFormat import RachelDataSessionFormat\n",
    "from neuropy.core.session.Formats.Specific.HiroDataSessionFormat import HiroDataSessionFormatRegisteredClass\n",
    "\n",
    "## For computation parameters:\n",
    "from neuropy.utils.result_context import IdentifyingContext\n",
    "from neuropy.core.session.Formats.BaseDataSessionFormats import find_local_session_paths\n",
    "\n",
    "# from PendingNotebookCode import _perform_batch_plot, _build_batch_plot_kwargs\n",
    "# from pyphoplacecellanalysis.General.Batch.NonInteractiveProcessing import batch_load_session, batch_extended_computations, SessionBatchProgress, batch_programmatic_figures, batch_extended_programmatic_figures\n",
    "# from pyphoplacecellanalysis.General.Pipeline.NeuropyPipeline import PipelineSavingScheme\n",
    "from pyphoplacecellanalysis.General.Pipeline.Stages.Loading import saveData, loadData\n",
    "import pyphoplacecellanalysis.General.Batch.runBatch\n",
    "from pyphoplacecellanalysis.General.Batch.runBatch import BatchRun, BatchResultDataframeAccessor, run_diba_batch, BatchComputationProcessOptions, BatchSessionCompletionHandler\n",
    "from pyphoplacecellanalysis.General.Pipeline.NeuropyPipeline import PipelineSavingScheme\n",
    "from pyphoplacecellanalysis.General.Model.user_annotations import UserAnnotationsManager\n",
    "\n",
    "from pyphocorehelpers.Filesystem.path_helpers import set_posix_windows"
   ]
  },
  {
   "cell_type": "code",
   "execution_count": 3,
   "id": "8ef5938c",
   "metadata": {
    "tags": []
   },
   "outputs": [],
   "source": [
    "# active_global_batch_result_filename='global_batch_result_2023-07-12.pkl'\n",
    "# active_global_batch_result_filename='global_batch_result_2023-07-07.pkl'\n",
    "# active_global_batch_result_filename='global_batch_result_2023-07-07_extra.pkl'\n",
    "active_global_batch_result_filename='global_batch_result_2023-07-18.pkl'\n",
    "debug_print = False\n",
    "enable_neptune = False\n",
    "\n",
    "if enable_neptune:\n",
    "    import neptune # for logging progress and results\n",
    "    from neptune.types import File\n",
    "    from pyphoplacecellanalysis.General.Batch.NeptuneAiHelpers import set_environment_variables, neptune_output_figures\n",
    "    neptune_kwargs = {'project':\"commander.pho/PhoDibaLongShort2023\",\n",
    "    'api_token':\"eyJhcGlfYWRkcmVzcyI6Imh0dHBzOi8vYXBwLm5lcHR1bmUuYWkiLCJhcGlfdXJsIjoiaHR0cHM6Ly9hcHAubmVwdHVuZS5haSIsImFwaV9rZXkiOiIxOGIxODU2My1lZTNhLTQ2ZWMtOTkzNS02ZTRmNzM5YmNjNjIifQ==\"}\n",
    "    set_environment_variables(neptune_kwargs)"
   ]
  },
  {
   "cell_type": "code",
   "execution_count": 4,
   "id": "fd2d3eda-cb38-464a-a90a-df4df90d5893",
   "metadata": {
    "tags": []
   },
   "outputs": [
    {
     "name": "stdout",
     "output_type": "stream",
     "text": [
      "Loading loaded session pickle file results : /nfs/turbo/umms-kdiba/Data/global_batch_result_2023-07-18.pkl... done.\n",
      "Failure loading /nfs/turbo/umms-kdiba/Data/global_batch_result_2023-07-18.pkl.\n",
      "creating new batch_run\n",
      "local_session_names_list: ['2006-6-07_11-26-53', '2006-6-08_14-26-15', '2006-6-09_1-22-43', '2006-6-09_3-23-37', '2006-6-12_15-55-31', '2006-6-13_14-42-6']\n",
      "local_session_names_list: ['2006-6-07_16-40-19', '2006-6-08_15-46-47', '2006-6-08_21-16-25', '2006-6-09_22-24-40', '2006-6-12_16-53-46', '2006-6-13_15-22-3']\n",
      "local_session_names_list: ['2006-4-09_17-29-30', '2006-4-10_12-25-50', '2006-4-10_21-2-40', '2006-4-11_15-16-59', '2006-4-12_14-39-31', '2006-4-12_17-53-55', '2006-4-16_15-12-23', '2006-4-17_12-33-47', '2006-4-18_13-6-1', '2006-4-18_15-23-32', '2006-4-19_13-34-40', '2006-4-19_16-48-9', '2006-4-21_10-24-35', '2006-4-25_14-28-51', '2006-4-25_17-17-6', '2006-4-26_13-22-13', '2006-4-27_14-43-12', '2006-4-28_12-17-27', '2006-4-28_16-48-29']\n",
      "local_session_names_list: ['2006-4-09_16-40-54', '2006-4-10_12-58-3', '2006-4-10_19-11-57', '2006-4-11_12-48-38', '2006-4-11_16-2-46', '2006-4-12_14-59-23', '2006-4-12_15-25-59', '2006-4-16_14-49-24', '2006-4-16_18-47-52', '2006-4-17_12-52-15', '2006-4-18_13-28-57', '2006-4-18_15-38-2', '2006-4-19_13-50-7', '2006-4-19_16-37-40', '2006-4-21_11-19-2', '2006-4-25_13-20-55', '2006-4-25_17-33-28', '2006-4-26_13-51-50', '2006-4-27_18-21-57', '2006-4-28_12-38-13', '2006-4-28_17-6-14']\n",
      "local_session_names_list: ['11-02_17-46-44', '11-02_19-28-0', '11-03_12-3-25', '11-03_21-26-8', '11-05_19-26-43', '11-09_11-43-50', '11-09_12-15-3', '11-09_21-17-16', '11-09_22-4-5', '11-19_12-35-59', '11-19_13-2-0', '11-19_13-55-7', 'fet11-01_12-58-54', 'fet11-03_11-0-53', 'fet11-03_20-28-3', 'fet11-04_21-20-3', 'redundant', 'showclus', 'sleep', 'tmaze']\n",
      "Saving (file mode 'w+b') saved session pickle file results : /nfs/turbo/umms-kdiba/Data/global_batch_result_2023-07-18.pkl... done.\n"
     ]
    },
    {
     "data": {
      "text/html": [
       "<div>\n",
       "<style scoped>\n",
       "    .dataframe tbody tr th:only-of-type {\n",
       "        vertical-align: middle;\n",
       "    }\n",
       "\n",
       "    .dataframe tbody tr th {\n",
       "        vertical-align: top;\n",
       "    }\n",
       "\n",
       "    .dataframe thead th {\n",
       "        text-align: right;\n",
       "    }\n",
       "</style>\n",
       "<table border=\"1\" class=\"dataframe\">\n",
       "  <thead>\n",
       "    <tr style=\"text-align: right;\">\n",
       "      <th></th>\n",
       "      <th>format_name</th>\n",
       "      <th>animal</th>\n",
       "      <th>exper_name</th>\n",
       "      <th>session_name</th>\n",
       "      <th>context</th>\n",
       "      <th>basedirs</th>\n",
       "      <th>status</th>\n",
       "      <th>errors</th>\n",
       "      <th>n_long_laps</th>\n",
       "      <th>n_long_replays</th>\n",
       "      <th>n_short_laps</th>\n",
       "      <th>n_short_replays</th>\n",
       "      <th>is_ready</th>\n",
       "      <th>global_computation_result_file</th>\n",
       "      <th>loaded_session_pickle_file</th>\n",
       "      <th>ripple_result_file</th>\n",
       "      <th>has_user_replay_annotations</th>\n",
       "    </tr>\n",
       "  </thead>\n",
       "  <tbody>\n",
       "  </tbody>\n",
       "</table>\n",
       "</div>"
      ],
      "text/plain": [
       "Empty DataFrame\n",
       "Columns: [format_name, animal, exper_name, session_name, context, basedirs, status, errors, n_long_laps, n_long_replays, n_short_laps, n_short_replays, is_ready, global_computation_result_file, loaded_session_pickle_file, ripple_result_file, has_user_replay_annotations]\n",
       "Index: []"
      ]
     },
     "metadata": {},
     "output_type": "display_data"
    }
   ],
   "source": [
    "\"\"\" \n",
    "from pyphoplacecellanalysis.General.Batch.runBatch import main, BatchRun, run_diba_batch, run_specific_batch\n",
    "\n",
    "\"\"\"\n",
    "known_global_data_root_parent_paths = [Path(r'W:\\Data'), Path(r'/media/MAX/Data'), Path(r'/Volumes/MoverNew/data'), Path(r'/home/halechr/turbo/Data'), Path(r'/nfs/turbo/umms-kdiba/Data')]\n",
    "global_data_root_parent_path = find_first_extant_path(known_global_data_root_parent_paths)\n",
    "assert global_data_root_parent_path.exists(), f\"global_data_root_parent_path: {global_data_root_parent_path} does not exist! Is the right computer's config commented out above?\"\n",
    "\n",
    "## NEPTUNE:\n",
    "if enable_neptune:\n",
    "\tproject = neptune.init_project(**neptune_kwargs)\n",
    "\tproject[\"general/global_batch_result_filename\"] = active_global_batch_result_filename\n",
    "\tproject[\"general/global_data_root_parent_path\"] = global_data_root_parent_path.as_posix()\n",
    "\n",
    "## TODO: load the batch result initially:\n",
    "\n",
    "## Build Pickle Path:\n",
    "global_batch_result_file_path = Path(global_data_root_parent_path).joinpath(active_global_batch_result_filename).resolve() # Use Default\n",
    "\n",
    "if enable_neptune:\n",
    "\trun = neptune.init_run() # rember to run.stop()\n",
    "\trun['parameters/global_batch_result_file_path'] = global_batch_result_file_path.as_posix()\n",
    "\t# project[\"general/data_analysis\"].upload(\"data_analysis.ipynb\")\n",
    "\trun[\"dataset/latest\"].track_files(f\"file://{global_batch_result_file_path}\") # \"s3://datasets/images\"\n",
    "\n",
    "# try to load an existing batch result:\n",
    "# with set_posix_windows():\n",
    "global_batch_run = BatchRun.try_init_from_file(global_data_root_parent_path, active_global_batch_result_filename=active_global_batch_result_filename,\n",
    "\t\t\t\t\t\tskip_root_path_conversion=False, debug_print=debug_print) # on_needs_create_callback_fn=run_diba_batch\n",
    "\n",
    "batch_progress_df = global_batch_run.to_dataframe(expand_context=True, good_only=False) # all\n",
    "good_only_batch_progress_df = global_batch_run.to_dataframe(expand_context=True, good_only=True)\n",
    "batch_progress_df.batch_results.build_all_columns()\n",
    "good_only_batch_progress_df.batch_results.build_all_columns()\n",
    "if enable_neptune:\n",
    "\trun[\"dataset/global_batch_run_progress_df\"].upload(File.as_html(batch_progress_df)) # \"path/to/test_preds.csv\"\n",
    "\trun[\"dataset/global_batch_run_good_only_df\"].upload(File.as_html(good_only_batch_progress_df)) # \"path/to/test_preds.csv\"\n",
    "\n",
    "with pd.option_context('display.max_rows', None, 'display.max_columns', None):  # more options can be specified also\n",
    "    # display(batch_progress_df)\n",
    "    display(good_only_batch_progress_df)"
   ]
  },
  {
   "cell_type": "code",
   "execution_count": null,
   "id": "3f001aa6",
   "metadata": {},
   "outputs": [],
   "source": [
    "# Export CSV:\n",
    "# pickle path is: `global_batch_result_file_path`\n",
    "global_batch_result_CSV_export_file_path = Path(global_data_root_parent_path).joinpath(active_global_batch_result_filename.replace('.pkl', '.csv')).resolve() # Use Default\n",
    "print(f'global_batch_result_CSV_export_file_path: {global_batch_result_CSV_export_file_path}')\n",
    "good_only_batch_progress_df.to_csv(global_batch_result_CSV_export_file_path)\n",
    "            "
   ]
  },
  {
   "cell_type": "code",
   "execution_count": null,
   "id": "3f3684b4",
   "metadata": {},
   "outputs": [],
   "source": [
    "important_column_names = ['context', 'basedirs', 'n_long_laps', 'n_long_replays', 'n_short_laps', 'n_short_replays', 'is_ready', 'has_user_replay_annotations']\n",
    "# file_column_names = ['basedirs', 'global_computation_result_file', 'loaded_session_pickle_file', 'ripple_result_file']\n",
    "good_only_batch_progress_df[important_column_names]\n",
    "\n",
    "# change is_ready to show why it isn't ready.\n",
    "batch_progress_df['is_ready'] = np.logical_and(batch_progress_df['has_user_replay_annotations'], batch_progress_df['is_ready'])"
   ]
  },
  {
   "cell_type": "markdown",
   "id": "c12f42b4",
   "metadata": {
    "tags": []
   },
   "source": [
    "# Build `global_batch_run` pre-loading results (before execution)"
   ]
  },
  {
   "cell_type": "code",
   "execution_count": 5,
   "id": "496a7c6a",
   "metadata": {
    "tags": []
   },
   "outputs": [
    {
     "name": "stdout",
     "output_type": "stream",
     "text": [
      "resusing extant_batch_run: BatchRun(global_data_root_parent_path=PosixPath('/home/halechr/turbo/Data'), session_batch_status={IdentifyingContext<('kdiba', 'gor01', 'one', '2006-6-07_11-26-53')>: <SessionBatchProgress.NOT_STARTED: 'NOT_STARTED'>, IdentifyingContext<('kdiba', 'gor01', 'one', '2006-6-08_14-26-15')>: <SessionBatchProgress.NOT_STARTED: 'NOT_STARTED'>, IdentifyingContext<('kdiba', 'gor01', 'one', '2006-6-09_1-22-43')>: <SessionBatchProgress.NOT_STARTED: 'NOT_STARTED'>, IdentifyingContext<('kdiba', 'gor01', 'one', '2006-6-09_3-23-37')>: <SessionBatchProgress.NOT_STARTED: 'NOT_STARTED'>, IdentifyingContext<('kdiba', 'gor01', 'one', '2006-6-12_15-55-31')>: <SessionBatchProgress.NOT_STARTED: 'NOT_STARTED'>, IdentifyingContext<('kdiba', 'gor01', 'one', '2006-6-13_14-42-6')>: <SessionBatchProgress.NOT_STARTED: 'NOT_STARTED'>, IdentifyingContext<('kdiba', 'gor01', 'two', '2006-6-07_16-40-19')>: <SessionBatchProgress.NOT_STARTED: 'NOT_STARTED'>, IdentifyingContext<('kdiba', 'gor01', 'two', '2006-6-08_15-46-47')>: <SessionBatchProgress.NOT_STARTED: 'NOT_STARTED'>, IdentifyingContext<('kdiba', 'gor01', 'two', '2006-6-08_21-16-25')>: <SessionBatchProgress.NOT_STARTED: 'NOT_STARTED'>, IdentifyingContext<('kdiba', 'gor01', 'two', '2006-6-09_22-24-40')>: <SessionBatchProgress.NOT_STARTED: 'NOT_STARTED'>, IdentifyingContext<('kdiba', 'gor01', 'two', '2006-6-12_16-53-46')>: <SessionBatchProgress.NOT_STARTED: 'NOT_STARTED'>, IdentifyingContext<('kdiba', 'gor01', 'two', '2006-6-13_15-22-3')>: <SessionBatchProgress.NOT_STARTED: 'NOT_STARTED'>, IdentifyingContext<('kdiba', 'vvp01', 'one', '2006-4-09_17-29-30')>: <SessionBatchProgress.NOT_STARTED: 'NOT_STARTED'>, IdentifyingContext<('kdiba', 'vvp01', 'one', '2006-4-10_12-25-50')>: <SessionBatchProgress.NOT_STARTED: 'NOT_STARTED'>, IdentifyingContext<('kdiba', 'vvp01', 'one', '2006-4-10_21-2-40')>: <SessionBatchProgress.NOT_STARTED: 'NOT_STARTED'>, IdentifyingContext<('kdiba', 'vvp01', 'one', '2006-4-11_15-16-59')>: <SessionBatchProgress.NOT_STARTED: 'NOT_STARTED'>, IdentifyingContext<('kdiba', 'vvp01', 'one', '2006-4-12_14-39-31')>: <SessionBatchProgress.NOT_STARTED: 'NOT_STARTED'>, IdentifyingContext<('kdiba', 'vvp01', 'one', '2006-4-12_17-53-55')>: <SessionBatchProgress.NOT_STARTED: 'NOT_STARTED'>, IdentifyingContext<('kdiba', 'vvp01', 'one', '2006-4-16_15-12-23')>: <SessionBatchProgress.NOT_STARTED: 'NOT_STARTED'>, IdentifyingContext<('kdiba', 'vvp01', 'one', '2006-4-17_12-33-47')>: <SessionBatchProgress.NOT_STARTED: 'NOT_STARTED'>, IdentifyingContext<('kdiba', 'vvp01', 'one', '2006-4-18_13-6-1')>: <SessionBatchProgress.NOT_STARTED: 'NOT_STARTED'>, IdentifyingContext<('kdiba', 'vvp01', 'one', '2006-4-18_15-23-32')>: <SessionBatchProgress.NOT_STARTED: 'NOT_STARTED'>, IdentifyingContext<('kdiba', 'vvp01', 'one', '2006-4-19_13-34-40')>: <SessionBatchProgress.NOT_STARTED: 'NOT_STARTED'>, IdentifyingContext<('kdiba', 'vvp01', 'one', '2006-4-19_16-48-9')>: <SessionBatchProgress.NOT_STARTED: 'NOT_STARTED'>, IdentifyingContext<('kdiba', 'vvp01', 'one', '2006-4-21_10-24-35')>: <SessionBatchProgress.NOT_STARTED: 'NOT_STARTED'>, IdentifyingContext<('kdiba', 'vvp01', 'one', '2006-4-25_14-28-51')>: <SessionBatchProgress.NOT_STARTED: 'NOT_STARTED'>, IdentifyingContext<('kdiba', 'vvp01', 'one', '2006-4-25_17-17-6')>: <SessionBatchProgress.NOT_STARTED: 'NOT_STARTED'>, IdentifyingContext<('kdiba', 'vvp01', 'one', '2006-4-26_13-22-13')>: <SessionBatchProgress.NOT_STARTED: 'NOT_STARTED'>, IdentifyingContext<('kdiba', 'vvp01', 'one', '2006-4-27_14-43-12')>: <SessionBatchProgress.NOT_STARTED: 'NOT_STARTED'>, IdentifyingContext<('kdiba', 'vvp01', 'one', '2006-4-28_12-17-27')>: <SessionBatchProgress.NOT_STARTED: 'NOT_STARTED'>, IdentifyingContext<('kdiba', 'vvp01', 'one', '2006-4-28_16-48-29')>: <SessionBatchProgress.NOT_STARTED: 'NOT_STARTED'>, IdentifyingContext<('kdiba', 'vvp01', 'two', '2006-4-09_16-40-54')>: <SessionBatchProgress.NOT_STARTED: 'NOT_STARTED'>, IdentifyingContext<('kdiba', 'vvp01', 'two', '2006-4-10_12-58-3')>: <SessionBatchProgress.NOT_STARTED: 'NOT_STARTED'>, IdentifyingContext<('kdiba', 'vvp01', 'two', '2006-4-10_19-11-57')>: <SessionBatchProgress.NOT_STARTED: 'NOT_STARTED'>, IdentifyingContext<('kdiba', 'vvp01', 'two', '2006-4-11_12-48-38')>: <SessionBatchProgress.NOT_STARTED: 'NOT_STARTED'>, IdentifyingContext<('kdiba', 'vvp01', 'two', '2006-4-11_16-2-46')>: <SessionBatchProgress.NOT_STARTED: 'NOT_STARTED'>, IdentifyingContext<('kdiba', 'vvp01', 'two', '2006-4-12_14-59-23')>: <SessionBatchProgress.NOT_STARTED: 'NOT_STARTED'>, IdentifyingContext<('kdiba', 'vvp01', 'two', '2006-4-12_15-25-59')>: <SessionBatchProgress.NOT_STARTED: 'NOT_STARTED'>, IdentifyingContext<('kdiba', 'vvp01', 'two', '2006-4-16_14-49-24')>: <SessionBatchProgress.NOT_STARTED: 'NOT_STARTED'>, IdentifyingContext<('kdiba', 'vvp01', 'two', '2006-4-16_18-47-52')>: <SessionBatchProgress.NOT_STARTED: 'NOT_STARTED'>, IdentifyingContext<('kdiba', 'vvp01', 'two', '2006-4-17_12-52-15')>: <SessionBatchProgress.NOT_STARTED: 'NOT_STARTED'>, IdentifyingContext<('kdiba', 'vvp01', 'two', '2006-4-18_13-28-57')>: <SessionBatchProgress.NOT_STARTED: 'NOT_STARTED'>, IdentifyingContext<('kdiba', 'vvp01', 'two', '2006-4-18_15-38-2')>: <SessionBatchProgress.NOT_STARTED: 'NOT_STARTED'>, IdentifyingContext<('kdiba', 'vvp01', 'two', '2006-4-19_13-50-7')>: <SessionBatchProgress.NOT_STARTED: 'NOT_STARTED'>, IdentifyingContext<('kdiba', 'vvp01', 'two', '2006-4-19_16-37-40')>: <SessionBatchProgress.NOT_STARTED: 'NOT_STARTED'>, IdentifyingContext<('kdiba', 'vvp01', 'two', '2006-4-21_11-19-2')>: <SessionBatchProgress.NOT_STARTED: 'NOT_STARTED'>, IdentifyingContext<('kdiba', 'vvp01', 'two', '2006-4-25_13-20-55')>: <SessionBatchProgress.NOT_STARTED: 'NOT_STARTED'>, IdentifyingContext<('kdiba', 'vvp01', 'two', '2006-4-25_17-33-28')>: <SessionBatchProgress.NOT_STARTED: 'NOT_STARTED'>, IdentifyingContext<('kdiba', 'vvp01', 'two', '2006-4-26_13-51-50')>: <SessionBatchProgress.NOT_STARTED: 'NOT_STARTED'>, IdentifyingContext<('kdiba', 'vvp01', 'two', '2006-4-27_18-21-57')>: <SessionBatchProgress.NOT_STARTED: 'NOT_STARTED'>, IdentifyingContext<('kdiba', 'vvp01', 'two', '2006-4-28_12-38-13')>: <SessionBatchProgress.NOT_STARTED: 'NOT_STARTED'>, IdentifyingContext<('kdiba', 'vvp01', 'two', '2006-4-28_17-6-14')>: <SessionBatchProgress.NOT_STARTED: 'NOT_STARTED'>, IdentifyingContext<('kdiba', 'pin01', 'one', '11-02_17-46-44')>: <SessionBatchProgress.NOT_STARTED: 'NOT_STARTED'>, IdentifyingContext<('kdiba', 'pin01', 'one', '11-02_19-28-0')>: <SessionBatchProgress.NOT_STARTED: 'NOT_STARTED'>, IdentifyingContext<('kdiba', 'pin01', 'one', '11-03_12-3-25')>: <SessionBatchProgress.NOT_STARTED: 'NOT_STARTED'>, IdentifyingContext<('kdiba', 'pin01', 'one', '11-03_21-26-8')>: <SessionBatchProgress.NOT_STARTED: 'NOT_STARTED'>, IdentifyingContext<('kdiba', 'pin01', 'one', '11-05_19-26-43')>: <SessionBatchProgress.NOT_STARTED: 'NOT_STARTED'>, IdentifyingContext<('kdiba', 'pin01', 'one', '11-09_11-43-50')>: <SessionBatchProgress.NOT_STARTED: 'NOT_STARTED'>, IdentifyingContext<('kdiba', 'pin01', 'one', '11-09_12-15-3')>: <SessionBatchProgress.NOT_STARTED: 'NOT_STARTED'>, IdentifyingContext<('kdiba', 'pin01', 'one', '11-09_21-17-16')>: <SessionBatchProgress.NOT_STARTED: 'NOT_STARTED'>, IdentifyingContext<('kdiba', 'pin01', 'one', '11-09_22-4-5')>: <SessionBatchProgress.NOT_STARTED: 'NOT_STARTED'>, IdentifyingContext<('kdiba', 'pin01', 'one', '11-19_12-35-59')>: <SessionBatchProgress.NOT_STARTED: 'NOT_STARTED'>, IdentifyingContext<('kdiba', 'pin01', 'one', '11-19_13-2-0')>: <SessionBatchProgress.NOT_STARTED: 'NOT_STARTED'>, IdentifyingContext<('kdiba', 'pin01', 'one', '11-19_13-55-7')>: <SessionBatchProgress.NOT_STARTED: 'NOT_STARTED'>, IdentifyingContext<('kdiba', 'pin01', 'one', 'fet11-01_12-58-54')>: <SessionBatchProgress.NOT_STARTED: 'NOT_STARTED'>, IdentifyingContext<('kdiba', 'pin01', 'one', 'fet11-03_11-0-53')>: <SessionBatchProgress.NOT_STARTED: 'NOT_STARTED'>, IdentifyingContext<('kdiba', 'pin01', 'one', 'fet11-03_20-28-3')>: <SessionBatchProgress.NOT_STARTED: 'NOT_STARTED'>, IdentifyingContext<('kdiba', 'pin01', 'one', 'fet11-04_21-20-3')>: <SessionBatchProgress.NOT_STARTED: 'NOT_STARTED'>, IdentifyingContext<('kdiba', 'pin01', 'one', 'redundant')>: <SessionBatchProgress.NOT_STARTED: 'NOT_STARTED'>, IdentifyingContext<('kdiba', 'pin01', 'one', 'showclus')>: <SessionBatchProgress.NOT_STARTED: 'NOT_STARTED'>, IdentifyingContext<('kdiba', 'pin01', 'one', 'sleep')>: <SessionBatchProgress.NOT_STARTED: 'NOT_STARTED'>, IdentifyingContext<('kdiba', 'pin01', 'one', 'tmaze')>: <SessionBatchProgress.NOT_STARTED: 'NOT_STARTED'>}, session_batch_basedirs={IdentifyingContext<('kdiba', 'gor01', 'one', '2006-6-07_11-26-53')>: PosixPath('/nfs/turbo/umms-kdiba/Data/KDIBA/gor01/one/2006-6-07_11-26-53'), IdentifyingContext<('kdiba', 'gor01', 'one', '2006-6-08_14-26-15')>: PosixPath('/nfs/turbo/umms-kdiba/Data/KDIBA/gor01/one/2006-6-08_14-26-15'), IdentifyingContext<('kdiba', 'gor01', 'one', '2006-6-09_1-22-43')>: PosixPath('/nfs/turbo/umms-kdiba/Data/KDIBA/gor01/one/2006-6-09_1-22-43'), IdentifyingContext<('kdiba', 'gor01', 'one', '2006-6-09_3-23-37')>: PosixPath('/nfs/turbo/umms-kdiba/Data/KDIBA/gor01/one/2006-6-09_3-23-37'), IdentifyingContext<('kdiba', 'gor01', 'one', '2006-6-12_15-55-31')>: PosixPath('/nfs/turbo/umms-kdiba/Data/KDIBA/gor01/one/2006-6-12_15-55-31'), IdentifyingContext<('kdiba', 'gor01', 'one', '2006-6-13_14-42-6')>: PosixPath('/nfs/turbo/umms-kdiba/Data/KDIBA/gor01/one/2006-6-13_14-42-6'), IdentifyingContext<('kdiba', 'gor01', 'two', '2006-6-07_16-40-19')>: PosixPath('/nfs/turbo/umms-kdiba/Data/KDIBA/gor01/two/2006-6-07_16-40-19'), IdentifyingContext<('kdiba', 'gor01', 'two', '2006-6-08_15-46-47')>: PosixPath('/nfs/turbo/umms-kdiba/Data/KDIBA/gor01/two/2006-6-08_15-46-47'), IdentifyingContext<('kdiba', 'gor01', 'two', '2006-6-08_21-16-25')>: PosixPath('/nfs/turbo/umms-kdiba/Data/KDIBA/gor01/two/2006-6-08_21-16-25'), IdentifyingContext<('kdiba', 'gor01', 'two', '2006-6-09_22-24-40')>: PosixPath('/nfs/turbo/umms-kdiba/Data/KDIBA/gor01/two/2006-6-09_22-24-40'), IdentifyingContext<('kdiba', 'gor01', 'two', '2006-6-12_16-53-46')>: PosixPath('/nfs/turbo/umms-kdiba/Data/KDIBA/gor01/two/2006-6-12_16-53-46'), IdentifyingContext<('kdiba', 'gor01', 'two', '2006-6-13_15-22-3')>: PosixPath('/nfs/turbo/umms-kdiba/Data/KDIBA/gor01/two/2006-6-13_15-22-3'), IdentifyingContext<('kdiba', 'vvp01', 'one', '2006-4-09_17-29-30')>: PosixPath('/nfs/turbo/umms-kdiba/Data/KDIBA/vvp01/one/2006-4-09_17-29-30'), IdentifyingContext<('kdiba', 'vvp01', 'one', '2006-4-10_12-25-50')>: PosixPath('/nfs/turbo/umms-kdiba/Data/KDIBA/vvp01/one/2006-4-10_12-25-50'), IdentifyingContext<('kdiba', 'vvp01', 'one', '2006-4-10_21-2-40')>: PosixPath('/nfs/turbo/umms-kdiba/Data/KDIBA/vvp01/one/2006-4-10_21-2-40'), IdentifyingContext<('kdiba', 'vvp01', 'one', '2006-4-11_15-16-59')>: PosixPath('/nfs/turbo/umms-kdiba/Data/KDIBA/vvp01/one/2006-4-11_15-16-59'), IdentifyingContext<('kdiba', 'vvp01', 'one', '2006-4-12_14-39-31')>: PosixPath('/nfs/turbo/umms-kdiba/Data/KDIBA/vvp01/one/2006-4-12_14-39-31'), IdentifyingContext<('kdiba', 'vvp01', 'one', '2006-4-12_17-53-55')>: PosixPath('/nfs/turbo/umms-kdiba/Data/KDIBA/vvp01/one/2006-4-12_17-53-55'), IdentifyingContext<('kdiba', 'vvp01', 'one', '2006-4-16_15-12-23')>: PosixPath('/nfs/turbo/umms-kdiba/Data/KDIBA/vvp01/one/2006-4-16_15-12-23'), IdentifyingContext<('kdiba', 'vvp01', 'one', '2006-4-17_12-33-47')>: PosixPath('/nfs/turbo/umms-kdiba/Data/KDIBA/vvp01/one/2006-4-17_12-33-47'), IdentifyingContext<('kdiba', 'vvp01', 'one', '2006-4-18_13-6-1')>: PosixPath('/nfs/turbo/umms-kdiba/Data/KDIBA/vvp01/one/2006-4-18_13-6-1'), IdentifyingContext<('kdiba', 'vvp01', 'one', '2006-4-18_15-23-32')>: PosixPath('/nfs/turbo/umms-kdiba/Data/KDIBA/vvp01/one/2006-4-18_15-23-32'), IdentifyingContext<('kdiba', 'vvp01', 'one', '2006-4-19_13-34-40')>: PosixPath('/nfs/turbo/umms-kdiba/Data/KDIBA/vvp01/one/2006-4-19_13-34-40'), IdentifyingContext<('kdiba', 'vvp01', 'one', '2006-4-19_16-48-9')>: PosixPath('/nfs/turbo/umms-kdiba/Data/KDIBA/vvp01/one/2006-4-19_16-48-9'), IdentifyingContext<('kdiba', 'vvp01', 'one', '2006-4-21_10-24-35')>: PosixPath('/nfs/turbo/umms-kdiba/Data/KDIBA/vvp01/one/2006-4-21_10-24-35'), IdentifyingContext<('kdiba', 'vvp01', 'one', '2006-4-25_14-28-51')>: PosixPath('/nfs/turbo/umms-kdiba/Data/KDIBA/vvp01/one/2006-4-25_14-28-51'), IdentifyingContext<('kdiba', 'vvp01', 'one', '2006-4-25_17-17-6')>: PosixPath('/nfs/turbo/umms-kdiba/Data/KDIBA/vvp01/one/2006-4-25_17-17-6'), IdentifyingContext<('kdiba', 'vvp01', 'one', '2006-4-26_13-22-13')>: PosixPath('/nfs/turbo/umms-kdiba/Data/KDIBA/vvp01/one/2006-4-26_13-22-13'), IdentifyingContext<('kdiba', 'vvp01', 'one', '2006-4-27_14-43-12')>: PosixPath('/nfs/turbo/umms-kdiba/Data/KDIBA/vvp01/one/2006-4-27_14-43-12'), IdentifyingContext<('kdiba', 'vvp01', 'one', '2006-4-28_12-17-27')>: PosixPath('/nfs/turbo/umms-kdiba/Data/KDIBA/vvp01/one/2006-4-28_12-17-27'), IdentifyingContext<('kdiba', 'vvp01', 'one', '2006-4-28_16-48-29')>: PosixPath('/nfs/turbo/umms-kdiba/Data/KDIBA/vvp01/one/2006-4-28_16-48-29'), IdentifyingContext<('kdiba', 'vvp01', 'two', '2006-4-09_16-40-54')>: PosixPath('/nfs/turbo/umms-kdiba/Data/KDIBA/vvp01/two/2006-4-09_16-40-54'), IdentifyingContext<('kdiba', 'vvp01', 'two', '2006-4-10_12-58-3')>: PosixPath('/nfs/turbo/umms-kdiba/Data/KDIBA/vvp01/two/2006-4-10_12-58-3'), IdentifyingContext<('kdiba', 'vvp01', 'two', '2006-4-10_19-11-57')>: PosixPath('/nfs/turbo/umms-kdiba/Data/KDIBA/vvp01/two/2006-4-10_19-11-57'), IdentifyingContext<('kdiba', 'vvp01', 'two', '2006-4-11_12-48-38')>: PosixPath('/nfs/turbo/umms-kdiba/Data/KDIBA/vvp01/two/2006-4-11_12-48-38'), IdentifyingContext<('kdiba', 'vvp01', 'two', '2006-4-11_16-2-46')>: PosixPath('/nfs/turbo/umms-kdiba/Data/KDIBA/vvp01/two/2006-4-11_16-2-46'), IdentifyingContext<('kdiba', 'vvp01', 'two', '2006-4-12_14-59-23')>: PosixPath('/nfs/turbo/umms-kdiba/Data/KDIBA/vvp01/two/2006-4-12_14-59-23'), IdentifyingContext<('kdiba', 'vvp01', 'two', '2006-4-12_15-25-59')>: PosixPath('/nfs/turbo/umms-kdiba/Data/KDIBA/vvp01/two/2006-4-12_15-25-59'), IdentifyingContext<('kdiba', 'vvp01', 'two', '2006-4-16_14-49-24')>: PosixPath('/nfs/turbo/umms-kdiba/Data/KDIBA/vvp01/two/2006-4-16_14-49-24'), IdentifyingContext<('kdiba', 'vvp01', 'two', '2006-4-16_18-47-52')>: PosixPath('/nfs/turbo/umms-kdiba/Data/KDIBA/vvp01/two/2006-4-16_18-47-52'), IdentifyingContext<('kdiba', 'vvp01', 'two', '2006-4-17_12-52-15')>: PosixPath('/nfs/turbo/umms-kdiba/Data/KDIBA/vvp01/two/2006-4-17_12-52-15'), IdentifyingContext<('kdiba', 'vvp01', 'two', '2006-4-18_13-28-57')>: PosixPath('/nfs/turbo/umms-kdiba/Data/KDIBA/vvp01/two/2006-4-18_13-28-57'), IdentifyingContext<('kdiba', 'vvp01', 'two', '2006-4-18_15-38-2')>: PosixPath('/nfs/turbo/umms-kdiba/Data/KDIBA/vvp01/two/2006-4-18_15-38-2'), IdentifyingContext<('kdiba', 'vvp01', 'two', '2006-4-19_13-50-7')>: PosixPath('/nfs/turbo/umms-kdiba/Data/KDIBA/vvp01/two/2006-4-19_13-50-7'), IdentifyingContext<('kdiba', 'vvp01', 'two', '2006-4-19_16-37-40')>: PosixPath('/nfs/turbo/umms-kdiba/Data/KDIBA/vvp01/two/2006-4-19_16-37-40'), IdentifyingContext<('kdiba', 'vvp01', 'two', '2006-4-21_11-19-2')>: PosixPath('/nfs/turbo/umms-kdiba/Data/KDIBA/vvp01/two/2006-4-21_11-19-2'), IdentifyingContext<('kdiba', 'vvp01', 'two', '2006-4-25_13-20-55')>: PosixPath('/nfs/turbo/umms-kdiba/Data/KDIBA/vvp01/two/2006-4-25_13-20-55'), IdentifyingContext<('kdiba', 'vvp01', 'two', '2006-4-25_17-33-28')>: PosixPath('/nfs/turbo/umms-kdiba/Data/KDIBA/vvp01/two/2006-4-25_17-33-28'), IdentifyingContext<('kdiba', 'vvp01', 'two', '2006-4-26_13-51-50')>: PosixPath('/nfs/turbo/umms-kdiba/Data/KDIBA/vvp01/two/2006-4-26_13-51-50'), IdentifyingContext<('kdiba', 'vvp01', 'two', '2006-4-27_18-21-57')>: PosixPath('/nfs/turbo/umms-kdiba/Data/KDIBA/vvp01/two/2006-4-27_18-21-57'), IdentifyingContext<('kdiba', 'vvp01', 'two', '2006-4-28_12-38-13')>: PosixPath('/nfs/turbo/umms-kdiba/Data/KDIBA/vvp01/two/2006-4-28_12-38-13'), IdentifyingContext<('kdiba', 'vvp01', 'two', '2006-4-28_17-6-14')>: PosixPath('/nfs/turbo/umms-kdiba/Data/KDIBA/vvp01/two/2006-4-28_17-6-14'), IdentifyingContext<('kdiba', 'pin01', 'one', '11-02_17-46-44')>: PosixPath('/nfs/turbo/umms-kdiba/Data/KDIBA/pin01/one/11-02_17-46-44'), IdentifyingContext<('kdiba', 'pin01', 'one', '11-02_19-28-0')>: PosixPath('/nfs/turbo/umms-kdiba/Data/KDIBA/pin01/one/11-02_19-28-0'), IdentifyingContext<('kdiba', 'pin01', 'one', '11-03_12-3-25')>: PosixPath('/nfs/turbo/umms-kdiba/Data/KDIBA/pin01/one/11-03_12-3-25'), IdentifyingContext<('kdiba', 'pin01', 'one', '11-03_21-26-8')>: PosixPath('/nfs/turbo/umms-kdiba/Data/KDIBA/pin01/one/11-03_21-26-8'), IdentifyingContext<('kdiba', 'pin01', 'one', '11-05_19-26-43')>: PosixPath('/nfs/turbo/umms-kdiba/Data/KDIBA/pin01/one/11-05_19-26-43'), IdentifyingContext<('kdiba', 'pin01', 'one', '11-09_11-43-50')>: PosixPath('/nfs/turbo/umms-kdiba/Data/KDIBA/pin01/one/11-09_11-43-50'), IdentifyingContext<('kdiba', 'pin01', 'one', '11-09_12-15-3')>: PosixPath('/nfs/turbo/umms-kdiba/Data/KDIBA/pin01/one/11-09_12-15-3'), IdentifyingContext<('kdiba', 'pin01', 'one', '11-09_21-17-16')>: PosixPath('/nfs/turbo/umms-kdiba/Data/KDIBA/pin01/one/11-09_21-17-16'), IdentifyingContext<('kdiba', 'pin01', 'one', '11-09_22-4-5')>: PosixPath('/nfs/turbo/umms-kdiba/Data/KDIBA/pin01/one/11-09_22-4-5'), IdentifyingContext<('kdiba', 'pin01', 'one', '11-19_12-35-59')>: PosixPath('/nfs/turbo/umms-kdiba/Data/KDIBA/pin01/one/11-19_12-35-59'), IdentifyingContext<('kdiba', 'pin01', 'one', '11-19_13-2-0')>: PosixPath('/nfs/turbo/umms-kdiba/Data/KDIBA/pin01/one/11-19_13-2-0'), IdentifyingContext<('kdiba', 'pin01', 'one', '11-19_13-55-7')>: PosixPath('/nfs/turbo/umms-kdiba/Data/KDIBA/pin01/one/11-19_13-55-7'), IdentifyingContext<('kdiba', 'pin01', 'one', 'fet11-01_12-58-54')>: PosixPath('/nfs/turbo/umms-kdiba/Data/KDIBA/pin01/one/fet11-01_12-58-54'), IdentifyingContext<('kdiba', 'pin01', 'one', 'fet11-03_11-0-53')>: PosixPath('/nfs/turbo/umms-kdiba/Data/KDIBA/pin01/one/fet11-03_11-0-53'), IdentifyingContext<('kdiba', 'pin01', 'one', 'fet11-03_20-28-3')>: PosixPath('/nfs/turbo/umms-kdiba/Data/KDIBA/pin01/one/fet11-03_20-28-3'), IdentifyingContext<('kdiba', 'pin01', 'one', 'fet11-04_21-20-3')>: PosixPath('/nfs/turbo/umms-kdiba/Data/KDIBA/pin01/one/fet11-04_21-20-3'), IdentifyingContext<('kdiba', 'pin01', 'one', 'redundant')>: PosixPath('/nfs/turbo/umms-kdiba/Data/KDIBA/pin01/one/redundant'), IdentifyingContext<('kdiba', 'pin01', 'one', 'showclus')>: PosixPath('/nfs/turbo/umms-kdiba/Data/KDIBA/pin01/one/showclus'), IdentifyingContext<('kdiba', 'pin01', 'one', 'sleep')>: PosixPath('/nfs/turbo/umms-kdiba/Data/KDIBA/pin01/one/sleep'), IdentifyingContext<('kdiba', 'pin01', 'one', 'tmaze')>: PosixPath('/nfs/turbo/umms-kdiba/Data/KDIBA/pin01/one/tmaze')}, session_batch_errors={IdentifyingContext<('kdiba', 'gor01', 'one', '2006-6-07_11-26-53')>: None, IdentifyingContext<('kdiba', 'gor01', 'one', '2006-6-08_14-26-15')>: None, IdentifyingContext<('kdiba', 'gor01', 'one', '2006-6-09_1-22-43')>: None, IdentifyingContext<('kdiba', 'gor01', 'one', '2006-6-09_3-23-37')>: None, IdentifyingContext<('kdiba', 'gor01', 'one', '2006-6-12_15-55-31')>: None, IdentifyingContext<('kdiba', 'gor01', 'one', '2006-6-13_14-42-6')>: None, IdentifyingContext<('kdiba', 'gor01', 'two', '2006-6-07_16-40-19')>: None, IdentifyingContext<('kdiba', 'gor01', 'two', '2006-6-08_15-46-47')>: None, IdentifyingContext<('kdiba', 'gor01', 'two', '2006-6-08_21-16-25')>: None, IdentifyingContext<('kdiba', 'gor01', 'two', '2006-6-09_22-24-40')>: None, IdentifyingContext<('kdiba', 'gor01', 'two', '2006-6-12_16-53-46')>: None, IdentifyingContext<('kdiba', 'gor01', 'two', '2006-6-13_15-22-3')>: None, IdentifyingContext<('kdiba', 'vvp01', 'one', '2006-4-09_17-29-30')>: None, IdentifyingContext<('kdiba', 'vvp01', 'one', '2006-4-10_12-25-50')>: None, IdentifyingContext<('kdiba', 'vvp01', 'one', '2006-4-10_21-2-40')>: None, IdentifyingContext<('kdiba', 'vvp01', 'one', '2006-4-11_15-16-59')>: None, IdentifyingContext<('kdiba', 'vvp01', 'one', '2006-4-12_14-39-31')>: None, IdentifyingContext<('kdiba', 'vvp01', 'one', '2006-4-12_17-53-55')>: None, IdentifyingContext<('kdiba', 'vvp01', 'one', '2006-4-16_15-12-23')>: None, IdentifyingContext<('kdiba', 'vvp01', 'one', '2006-4-17_12-33-47')>: None, IdentifyingContext<('kdiba', 'vvp01', 'one', '2006-4-18_13-6-1')>: None, IdentifyingContext<('kdiba', 'vvp01', 'one', '2006-4-18_15-23-32')>: None, IdentifyingContext<('kdiba', 'vvp01', 'one', '2006-4-19_13-34-40')>: None, IdentifyingContext<('kdiba', 'vvp01', 'one', '2006-4-19_16-48-9')>: None, IdentifyingContext<('kdiba', 'vvp01', 'one', '2006-4-21_10-24-35')>: None, IdentifyingContext<('kdiba', 'vvp01', 'one', '2006-4-25_14-28-51')>: None, IdentifyingContext<('kdiba', 'vvp01', 'one', '2006-4-25_17-17-6')>: None, IdentifyingContext<('kdiba', 'vvp01', 'one', '2006-4-26_13-22-13')>: None, IdentifyingContext<('kdiba', 'vvp01', 'one', '2006-4-27_14-43-12')>: None, IdentifyingContext<('kdiba', 'vvp01', 'one', '2006-4-28_12-17-27')>: None, IdentifyingContext<('kdiba', 'vvp01', 'one', '2006-4-28_16-48-29')>: None, IdentifyingContext<('kdiba', 'vvp01', 'two', '2006-4-09_16-40-54')>: None, IdentifyingContext<('kdiba', 'vvp01', 'two', '2006-4-10_12-58-3')>: None, IdentifyingContext<('kdiba', 'vvp01', 'two', '2006-4-10_19-11-57')>: None, IdentifyingContext<('kdiba', 'vvp01', 'two', '2006-4-11_12-48-38')>: None, IdentifyingContext<('kdiba', 'vvp01', 'two', '2006-4-11_16-2-46')>: None, IdentifyingContext<('kdiba', 'vvp01', 'two', '2006-4-12_14-59-23')>: None, IdentifyingContext<('kdiba', 'vvp01', 'two', '2006-4-12_15-25-59')>: None, IdentifyingContext<('kdiba', 'vvp01', 'two', '2006-4-16_14-49-24')>: None, IdentifyingContext<('kdiba', 'vvp01', 'two', '2006-4-16_18-47-52')>: None, IdentifyingContext<('kdiba', 'vvp01', 'two', '2006-4-17_12-52-15')>: None, IdentifyingContext<('kdiba', 'vvp01', 'two', '2006-4-18_13-28-57')>: None, IdentifyingContext<('kdiba', 'vvp01', 'two', '2006-4-18_15-38-2')>: None, IdentifyingContext<('kdiba', 'vvp01', 'two', '2006-4-19_13-50-7')>: None, IdentifyingContext<('kdiba', 'vvp01', 'two', '2006-4-19_16-37-40')>: None, IdentifyingContext<('kdiba', 'vvp01', 'two', '2006-4-21_11-19-2')>: None, IdentifyingContext<('kdiba', 'vvp01', 'two', '2006-4-25_13-20-55')>: None, IdentifyingContext<('kdiba', 'vvp01', 'two', '2006-4-25_17-33-28')>: None, IdentifyingContext<('kdiba', 'vvp01', 'two', '2006-4-26_13-51-50')>: None, IdentifyingContext<('kdiba', 'vvp01', 'two', '2006-4-27_18-21-57')>: None, IdentifyingContext<('kdiba', 'vvp01', 'two', '2006-4-28_12-38-13')>: None, IdentifyingContext<('kdiba', 'vvp01', 'two', '2006-4-28_17-6-14')>: None, IdentifyingContext<('kdiba', 'pin01', 'one', '11-02_17-46-44')>: None, IdentifyingContext<('kdiba', 'pin01', 'one', '11-02_19-28-0')>: None, IdentifyingContext<('kdiba', 'pin01', 'one', '11-03_12-3-25')>: None, IdentifyingContext<('kdiba', 'pin01', 'one', '11-03_21-26-8')>: None, IdentifyingContext<('kdiba', 'pin01', 'one', '11-05_19-26-43')>: None, IdentifyingContext<('kdiba', 'pin01', 'one', '11-09_11-43-50')>: None, IdentifyingContext<('kdiba', 'pin01', 'one', '11-09_12-15-3')>: None, IdentifyingContext<('kdiba', 'pin01', 'one', '11-09_21-17-16')>: None, IdentifyingContext<('kdiba', 'pin01', 'one', '11-09_22-4-5')>: None, IdentifyingContext<('kdiba', 'pin01', 'one', '11-19_12-35-59')>: None, IdentifyingContext<('kdiba', 'pin01', 'one', '11-19_13-2-0')>: None, IdentifyingContext<('kdiba', 'pin01', 'one', '11-19_13-55-7')>: None, IdentifyingContext<('kdiba', 'pin01', 'one', 'fet11-01_12-58-54')>: None, IdentifyingContext<('kdiba', 'pin01', 'one', 'fet11-03_11-0-53')>: None, IdentifyingContext<('kdiba', 'pin01', 'one', 'fet11-03_20-28-3')>: None, IdentifyingContext<('kdiba', 'pin01', 'one', 'fet11-04_21-20-3')>: None, IdentifyingContext<('kdiba', 'pin01', 'one', 'redundant')>: None, IdentifyingContext<('kdiba', 'pin01', 'one', 'showclus')>: None, IdentifyingContext<('kdiba', 'pin01', 'one', 'sleep')>: None, IdentifyingContext<('kdiba', 'pin01', 'one', 'tmaze')>: None}, session_batch_outputs={IdentifyingContext<('kdiba', 'gor01', 'one', '2006-6-07_11-26-53')>: None, IdentifyingContext<('kdiba', 'gor01', 'one', '2006-6-08_14-26-15')>: None, IdentifyingContext<('kdiba', 'gor01', 'one', '2006-6-09_1-22-43')>: None, IdentifyingContext<('kdiba', 'gor01', 'one', '2006-6-09_3-23-37')>: None, IdentifyingContext<('kdiba', 'gor01', 'one', '2006-6-12_15-55-31')>: None, IdentifyingContext<('kdiba', 'gor01', 'one', '2006-6-13_14-42-6')>: None, IdentifyingContext<('kdiba', 'gor01', 'two', '2006-6-07_16-40-19')>: None, IdentifyingContext<('kdiba', 'gor01', 'two', '2006-6-08_15-46-47')>: None, IdentifyingContext<('kdiba', 'gor01', 'two', '2006-6-08_21-16-25')>: None, IdentifyingContext<('kdiba', 'gor01', 'two', '2006-6-09_22-24-40')>: None, IdentifyingContext<('kdiba', 'gor01', 'two', '2006-6-12_16-53-46')>: None, IdentifyingContext<('kdiba', 'gor01', 'two', '2006-6-13_15-22-3')>: None, IdentifyingContext<('kdiba', 'vvp01', 'one', '2006-4-09_17-29-30')>: None, IdentifyingContext<('kdiba', 'vvp01', 'one', '2006-4-10_12-25-50')>: None, IdentifyingContext<('kdiba', 'vvp01', 'one', '2006-4-10_21-2-40')>: None, IdentifyingContext<('kdiba', 'vvp01', 'one', '2006-4-11_15-16-59')>: None, IdentifyingContext<('kdiba', 'vvp01', 'one', '2006-4-12_14-39-31')>: None, IdentifyingContext<('kdiba', 'vvp01', 'one', '2006-4-12_17-53-55')>: None, IdentifyingContext<('kdiba', 'vvp01', 'one', '2006-4-16_15-12-23')>: None, IdentifyingContext<('kdiba', 'vvp01', 'one', '2006-4-17_12-33-47')>: None, IdentifyingContext<('kdiba', 'vvp01', 'one', '2006-4-18_13-6-1')>: None, IdentifyingContext<('kdiba', 'vvp01', 'one', '2006-4-18_15-23-32')>: None, IdentifyingContext<('kdiba', 'vvp01', 'one', '2006-4-19_13-34-40')>: None, IdentifyingContext<('kdiba', 'vvp01', 'one', '2006-4-19_16-48-9')>: None, IdentifyingContext<('kdiba', 'vvp01', 'one', '2006-4-21_10-24-35')>: None, IdentifyingContext<('kdiba', 'vvp01', 'one', '2006-4-25_14-28-51')>: None, IdentifyingContext<('kdiba', 'vvp01', 'one', '2006-4-25_17-17-6')>: None, IdentifyingContext<('kdiba', 'vvp01', 'one', '2006-4-26_13-22-13')>: None, IdentifyingContext<('kdiba', 'vvp01', 'one', '2006-4-27_14-43-12')>: None, IdentifyingContext<('kdiba', 'vvp01', 'one', '2006-4-28_12-17-27')>: None, IdentifyingContext<('kdiba', 'vvp01', 'one', '2006-4-28_16-48-29')>: None, IdentifyingContext<('kdiba', 'vvp01', 'two', '2006-4-09_16-40-54')>: None, IdentifyingContext<('kdiba', 'vvp01', 'two', '2006-4-10_12-58-3')>: None, IdentifyingContext<('kdiba', 'vvp01', 'two', '2006-4-10_19-11-57')>: None, IdentifyingContext<('kdiba', 'vvp01', 'two', '2006-4-11_12-48-38')>: None, IdentifyingContext<('kdiba', 'vvp01', 'two', '2006-4-11_16-2-46')>: None, IdentifyingContext<('kdiba', 'vvp01', 'two', '2006-4-12_14-59-23')>: None, IdentifyingContext<('kdiba', 'vvp01', 'two', '2006-4-12_15-25-59')>: None, IdentifyingContext<('kdiba', 'vvp01', 'two', '2006-4-16_14-49-24')>: None, IdentifyingContext<('kdiba', 'vvp01', 'two', '2006-4-16_18-47-52')>: None, IdentifyingContext<('kdiba', 'vvp01', 'two', '2006-4-17_12-52-15')>: None, IdentifyingContext<('kdiba', 'vvp01', 'two', '2006-4-18_13-28-57')>: None, IdentifyingContext<('kdiba', 'vvp01', 'two', '2006-4-18_15-38-2')>: None, IdentifyingContext<('kdiba', 'vvp01', 'two', '2006-4-19_13-50-7')>: None, IdentifyingContext<('kdiba', 'vvp01', 'two', '2006-4-19_16-37-40')>: None, IdentifyingContext<('kdiba', 'vvp01', 'two', '2006-4-21_11-19-2')>: None, IdentifyingContext<('kdiba', 'vvp01', 'two', '2006-4-25_13-20-55')>: None, IdentifyingContext<('kdiba', 'vvp01', 'two', '2006-4-25_17-33-28')>: None, IdentifyingContext<('kdiba', 'vvp01', 'two', '2006-4-26_13-51-50')>: None, IdentifyingContext<('kdiba', 'vvp01', 'two', '2006-4-27_18-21-57')>: None, IdentifyingContext<('kdiba', 'vvp01', 'two', '2006-4-28_12-38-13')>: None, IdentifyingContext<('kdiba', 'vvp01', 'two', '2006-4-28_17-6-14')>: None, IdentifyingContext<('kdiba', 'pin01', 'one', '11-02_17-46-44')>: None, IdentifyingContext<('kdiba', 'pin01', 'one', '11-02_19-28-0')>: None, IdentifyingContext<('kdiba', 'pin01', 'one', '11-03_12-3-25')>: None, IdentifyingContext<('kdiba', 'pin01', 'one', '11-03_21-26-8')>: None, IdentifyingContext<('kdiba', 'pin01', 'one', '11-05_19-26-43')>: None, IdentifyingContext<('kdiba', 'pin01', 'one', '11-09_11-43-50')>: None, IdentifyingContext<('kdiba', 'pin01', 'one', '11-09_12-15-3')>: None, IdentifyingContext<('kdiba', 'pin01', 'one', '11-09_21-17-16')>: None, IdentifyingContext<('kdiba', 'pin01', 'one', '11-09_22-4-5')>: None, IdentifyingContext<('kdiba', 'pin01', 'one', '11-19_12-35-59')>: None, IdentifyingContext<('kdiba', 'pin01', 'one', '11-19_13-2-0')>: None, IdentifyingContext<('kdiba', 'pin01', 'one', '11-19_13-55-7')>: None, IdentifyingContext<('kdiba', 'pin01', 'one', 'fet11-01_12-58-54')>: None, IdentifyingContext<('kdiba', 'pin01', 'one', 'fet11-03_11-0-53')>: None, IdentifyingContext<('kdiba', 'pin01', 'one', 'fet11-03_20-28-3')>: None, IdentifyingContext<('kdiba', 'pin01', 'one', 'fet11-04_21-20-3')>: None, IdentifyingContext<('kdiba', 'pin01', 'one', 'redundant')>: None, IdentifyingContext<('kdiba', 'pin01', 'one', 'showclus')>: None, IdentifyingContext<('kdiba', 'pin01', 'one', 'sleep')>: None, IdentifyingContext<('kdiba', 'pin01', 'one', 'tmaze')>: None}, enable_saving_to_disk=False)\n",
      "local_session_names_list: ['2006-6-07_11-26-53', '2006-6-08_14-26-15', '2006-6-09_1-22-43', '2006-6-09_3-23-37', '2006-6-12_15-55-31', '2006-6-13_14-42-6']\n",
      "EXTANT SESSION! curr_session_context: kdiba_gor01_one_2006-6-07_11-26-53 curr_session_status: SessionBatchProgress.NOT_STARTED, curr_session_errors: None\n",
      "EXTANT SESSION! curr_session_context: kdiba_gor01_one_2006-6-08_14-26-15 curr_session_status: SessionBatchProgress.NOT_STARTED, curr_session_errors: None\n",
      "EXTANT SESSION! curr_session_context: kdiba_gor01_one_2006-6-09_1-22-43 curr_session_status: SessionBatchProgress.NOT_STARTED, curr_session_errors: None\n",
      "EXTANT SESSION! curr_session_context: kdiba_gor01_one_2006-6-09_3-23-37 curr_session_status: SessionBatchProgress.NOT_STARTED, curr_session_errors: None\n",
      "EXTANT SESSION! curr_session_context: kdiba_gor01_one_2006-6-12_15-55-31 curr_session_status: SessionBatchProgress.NOT_STARTED, curr_session_errors: None\n",
      "EXTANT SESSION! curr_session_context: kdiba_gor01_one_2006-6-13_14-42-6 curr_session_status: SessionBatchProgress.NOT_STARTED, curr_session_errors: None\n",
      "local_session_names_list: ['2006-6-07_16-40-19', '2006-6-08_15-46-47', '2006-6-08_21-16-25', '2006-6-09_22-24-40', '2006-6-12_16-53-46', '2006-6-13_15-22-3']\n",
      "EXTANT SESSION! curr_session_context: kdiba_gor01_two_2006-6-07_16-40-19 curr_session_status: SessionBatchProgress.NOT_STARTED, curr_session_errors: None\n",
      "EXTANT SESSION! curr_session_context: kdiba_gor01_two_2006-6-08_15-46-47 curr_session_status: SessionBatchProgress.NOT_STARTED, curr_session_errors: None\n",
      "EXTANT SESSION! curr_session_context: kdiba_gor01_two_2006-6-08_21-16-25 curr_session_status: SessionBatchProgress.NOT_STARTED, curr_session_errors: None\n",
      "EXTANT SESSION! curr_session_context: kdiba_gor01_two_2006-6-09_22-24-40 curr_session_status: SessionBatchProgress.NOT_STARTED, curr_session_errors: None\n",
      "EXTANT SESSION! curr_session_context: kdiba_gor01_two_2006-6-12_16-53-46 curr_session_status: SessionBatchProgress.NOT_STARTED, curr_session_errors: None\n",
      "EXTANT SESSION! curr_session_context: kdiba_gor01_two_2006-6-13_15-22-3 curr_session_status: SessionBatchProgress.NOT_STARTED, curr_session_errors: None\n",
      "local_session_names_list: ['2006-4-09_17-29-30', '2006-4-10_12-25-50', '2006-4-10_21-2-40', '2006-4-11_15-16-59', '2006-4-12_14-39-31', '2006-4-12_17-53-55', '2006-4-16_15-12-23', '2006-4-17_12-33-47', '2006-4-18_13-6-1', '2006-4-18_15-23-32', '2006-4-19_13-34-40', '2006-4-19_16-48-9', '2006-4-21_10-24-35', '2006-4-25_14-28-51', '2006-4-25_17-17-6', '2006-4-26_13-22-13', '2006-4-27_14-43-12', '2006-4-28_12-17-27', '2006-4-28_16-48-29']\n",
      "EXTANT SESSION! curr_session_context: kdiba_vvp01_one_2006-4-09_17-29-30 curr_session_status: SessionBatchProgress.NOT_STARTED, curr_session_errors: None\n",
      "EXTANT SESSION! curr_session_context: kdiba_vvp01_one_2006-4-10_12-25-50 curr_session_status: SessionBatchProgress.NOT_STARTED, curr_session_errors: None\n",
      "EXTANT SESSION! curr_session_context: kdiba_vvp01_one_2006-4-10_21-2-40 curr_session_status: SessionBatchProgress.NOT_STARTED, curr_session_errors: None\n",
      "EXTANT SESSION! curr_session_context: kdiba_vvp01_one_2006-4-11_15-16-59 curr_session_status: SessionBatchProgress.NOT_STARTED, curr_session_errors: None\n",
      "EXTANT SESSION! curr_session_context: kdiba_vvp01_one_2006-4-12_14-39-31 curr_session_status: SessionBatchProgress.NOT_STARTED, curr_session_errors: None\n",
      "EXTANT SESSION! curr_session_context: kdiba_vvp01_one_2006-4-12_17-53-55 curr_session_status: SessionBatchProgress.NOT_STARTED, curr_session_errors: None\n",
      "EXTANT SESSION! curr_session_context: kdiba_vvp01_one_2006-4-16_15-12-23 curr_session_status: SessionBatchProgress.NOT_STARTED, curr_session_errors: None\n",
      "EXTANT SESSION! curr_session_context: kdiba_vvp01_one_2006-4-17_12-33-47 curr_session_status: SessionBatchProgress.NOT_STARTED, curr_session_errors: None\n",
      "EXTANT SESSION! curr_session_context: kdiba_vvp01_one_2006-4-18_13-6-1 curr_session_status: SessionBatchProgress.NOT_STARTED, curr_session_errors: None\n",
      "EXTANT SESSION! curr_session_context: kdiba_vvp01_one_2006-4-18_15-23-32 curr_session_status: SessionBatchProgress.NOT_STARTED, curr_session_errors: None\n",
      "EXTANT SESSION! curr_session_context: kdiba_vvp01_one_2006-4-19_13-34-40 curr_session_status: SessionBatchProgress.NOT_STARTED, curr_session_errors: None\n",
      "EXTANT SESSION! curr_session_context: kdiba_vvp01_one_2006-4-19_16-48-9 curr_session_status: SessionBatchProgress.NOT_STARTED, curr_session_errors: None\n",
      "EXTANT SESSION! curr_session_context: kdiba_vvp01_one_2006-4-21_10-24-35 curr_session_status: SessionBatchProgress.NOT_STARTED, curr_session_errors: None\n",
      "EXTANT SESSION! curr_session_context: kdiba_vvp01_one_2006-4-25_14-28-51 curr_session_status: SessionBatchProgress.NOT_STARTED, curr_session_errors: None\n",
      "EXTANT SESSION! curr_session_context: kdiba_vvp01_one_2006-4-25_17-17-6 curr_session_status: SessionBatchProgress.NOT_STARTED, curr_session_errors: None\n",
      "EXTANT SESSION! curr_session_context: kdiba_vvp01_one_2006-4-26_13-22-13 curr_session_status: SessionBatchProgress.NOT_STARTED, curr_session_errors: None\n",
      "EXTANT SESSION! curr_session_context: kdiba_vvp01_one_2006-4-27_14-43-12 curr_session_status: SessionBatchProgress.NOT_STARTED, curr_session_errors: None\n",
      "EXTANT SESSION! curr_session_context: kdiba_vvp01_one_2006-4-28_12-17-27 curr_session_status: SessionBatchProgress.NOT_STARTED, curr_session_errors: None\n",
      "EXTANT SESSION! curr_session_context: kdiba_vvp01_one_2006-4-28_16-48-29 curr_session_status: SessionBatchProgress.NOT_STARTED, curr_session_errors: None\n",
      "local_session_names_list: ['2006-4-09_16-40-54', '2006-4-10_12-58-3', '2006-4-10_19-11-57', '2006-4-11_12-48-38', '2006-4-11_16-2-46', '2006-4-12_14-59-23', '2006-4-12_15-25-59', '2006-4-16_14-49-24', '2006-4-16_18-47-52', '2006-4-17_12-52-15', '2006-4-18_13-28-57', '2006-4-18_15-38-2', '2006-4-19_13-50-7', '2006-4-19_16-37-40', '2006-4-21_11-19-2', '2006-4-25_13-20-55', '2006-4-25_17-33-28', '2006-4-26_13-51-50', '2006-4-27_18-21-57', '2006-4-28_12-38-13', '2006-4-28_17-6-14']\n",
      "EXTANT SESSION! curr_session_context: kdiba_vvp01_two_2006-4-09_16-40-54 curr_session_status: SessionBatchProgress.NOT_STARTED, curr_session_errors: None\n",
      "EXTANT SESSION! curr_session_context: kdiba_vvp01_two_2006-4-10_12-58-3 curr_session_status: SessionBatchProgress.NOT_STARTED, curr_session_errors: None\n",
      "EXTANT SESSION! curr_session_context: kdiba_vvp01_two_2006-4-10_19-11-57 curr_session_status: SessionBatchProgress.NOT_STARTED, curr_session_errors: None\n",
      "EXTANT SESSION! curr_session_context: kdiba_vvp01_two_2006-4-11_12-48-38 curr_session_status: SessionBatchProgress.NOT_STARTED, curr_session_errors: None\n",
      "EXTANT SESSION! curr_session_context: kdiba_vvp01_two_2006-4-11_16-2-46 curr_session_status: SessionBatchProgress.NOT_STARTED, curr_session_errors: None\n",
      "EXTANT SESSION! curr_session_context: kdiba_vvp01_two_2006-4-12_14-59-23 curr_session_status: SessionBatchProgress.NOT_STARTED, curr_session_errors: None\n",
      "EXTANT SESSION! curr_session_context: kdiba_vvp01_two_2006-4-12_15-25-59 curr_session_status: SessionBatchProgress.NOT_STARTED, curr_session_errors: None\n",
      "EXTANT SESSION! curr_session_context: kdiba_vvp01_two_2006-4-16_14-49-24 curr_session_status: SessionBatchProgress.NOT_STARTED, curr_session_errors: None\n",
      "EXTANT SESSION! curr_session_context: kdiba_vvp01_two_2006-4-16_18-47-52 curr_session_status: SessionBatchProgress.NOT_STARTED, curr_session_errors: None\n",
      "EXTANT SESSION! curr_session_context: kdiba_vvp01_two_2006-4-17_12-52-15 curr_session_status: SessionBatchProgress.NOT_STARTED, curr_session_errors: None\n",
      "EXTANT SESSION! curr_session_context: kdiba_vvp01_two_2006-4-18_13-28-57 curr_session_status: SessionBatchProgress.NOT_STARTED, curr_session_errors: None\n",
      "EXTANT SESSION! curr_session_context: kdiba_vvp01_two_2006-4-18_15-38-2 curr_session_status: SessionBatchProgress.NOT_STARTED, curr_session_errors: None\n",
      "EXTANT SESSION! curr_session_context: kdiba_vvp01_two_2006-4-19_13-50-7 curr_session_status: SessionBatchProgress.NOT_STARTED, curr_session_errors: None\n",
      "EXTANT SESSION! curr_session_context: kdiba_vvp01_two_2006-4-19_16-37-40 curr_session_status: SessionBatchProgress.NOT_STARTED, curr_session_errors: None\n",
      "EXTANT SESSION! curr_session_context: kdiba_vvp01_two_2006-4-21_11-19-2 curr_session_status: SessionBatchProgress.NOT_STARTED, curr_session_errors: None\n",
      "EXTANT SESSION! curr_session_context: kdiba_vvp01_two_2006-4-25_13-20-55 curr_session_status: SessionBatchProgress.NOT_STARTED, curr_session_errors: None\n",
      "EXTANT SESSION! curr_session_context: kdiba_vvp01_two_2006-4-25_17-33-28 curr_session_status: SessionBatchProgress.NOT_STARTED, curr_session_errors: None\n",
      "EXTANT SESSION! curr_session_context: kdiba_vvp01_two_2006-4-26_13-51-50 curr_session_status: SessionBatchProgress.NOT_STARTED, curr_session_errors: None\n",
      "EXTANT SESSION! curr_session_context: kdiba_vvp01_two_2006-4-27_18-21-57 curr_session_status: SessionBatchProgress.NOT_STARTED, curr_session_errors: None\n",
      "EXTANT SESSION! curr_session_context: kdiba_vvp01_two_2006-4-28_12-38-13 curr_session_status: SessionBatchProgress.NOT_STARTED, curr_session_errors: None\n",
      "EXTANT SESSION! curr_session_context: kdiba_vvp01_two_2006-4-28_17-6-14 curr_session_status: SessionBatchProgress.NOT_STARTED, curr_session_errors: None\n",
      "local_session_names_list: ['11-02_17-46-44', '11-02_19-28-0', '11-03_12-3-25', '11-03_21-26-8', '11-05_19-26-43', '11-09_11-43-50', '11-09_12-15-3', '11-09_21-17-16', '11-09_22-4-5', '11-19_12-35-59', '11-19_13-2-0', '11-19_13-55-7', 'fet11-01_12-58-54', 'fet11-03_11-0-53', 'fet11-03_20-28-3', 'fet11-04_21-20-3', 'redundant', 'showclus', 'sleep', 'tmaze']\n",
      "EXTANT SESSION! curr_session_context: kdiba_pin01_one_11-02_17-46-44 curr_session_status: SessionBatchProgress.NOT_STARTED, curr_session_errors: None\n",
      "EXTANT SESSION! curr_session_context: kdiba_pin01_one_11-02_19-28-0 curr_session_status: SessionBatchProgress.NOT_STARTED, curr_session_errors: None\n",
      "EXTANT SESSION! curr_session_context: kdiba_pin01_one_11-03_12-3-25 curr_session_status: SessionBatchProgress.NOT_STARTED, curr_session_errors: None\n",
      "EXTANT SESSION! curr_session_context: kdiba_pin01_one_11-03_21-26-8 curr_session_status: SessionBatchProgress.NOT_STARTED, curr_session_errors: None\n",
      "EXTANT SESSION! curr_session_context: kdiba_pin01_one_11-05_19-26-43 curr_session_status: SessionBatchProgress.NOT_STARTED, curr_session_errors: None\n",
      "EXTANT SESSION! curr_session_context: kdiba_pin01_one_11-09_11-43-50 curr_session_status: SessionBatchProgress.NOT_STARTED, curr_session_errors: None\n",
      "EXTANT SESSION! curr_session_context: kdiba_pin01_one_11-09_12-15-3 curr_session_status: SessionBatchProgress.NOT_STARTED, curr_session_errors: None\n",
      "EXTANT SESSION! curr_session_context: kdiba_pin01_one_11-09_21-17-16 curr_session_status: SessionBatchProgress.NOT_STARTED, curr_session_errors: None\n",
      "EXTANT SESSION! curr_session_context: kdiba_pin01_one_11-09_22-4-5 curr_session_status: SessionBatchProgress.NOT_STARTED, curr_session_errors: None\n",
      "EXTANT SESSION! curr_session_context: kdiba_pin01_one_11-19_12-35-59 curr_session_status: SessionBatchProgress.NOT_STARTED, curr_session_errors: None\n",
      "EXTANT SESSION! curr_session_context: kdiba_pin01_one_11-19_13-2-0 curr_session_status: SessionBatchProgress.NOT_STARTED, curr_session_errors: None\n",
      "EXTANT SESSION! curr_session_context: kdiba_pin01_one_11-19_13-55-7 curr_session_status: SessionBatchProgress.NOT_STARTED, curr_session_errors: None\n",
      "EXTANT SESSION! curr_session_context: kdiba_pin01_one_fet11-01_12-58-54 curr_session_status: SessionBatchProgress.NOT_STARTED, curr_session_errors: None\n",
      "EXTANT SESSION! curr_session_context: kdiba_pin01_one_fet11-03_11-0-53 curr_session_status: SessionBatchProgress.NOT_STARTED, curr_session_errors: None\n",
      "EXTANT SESSION! curr_session_context: kdiba_pin01_one_fet11-03_20-28-3 curr_session_status: SessionBatchProgress.NOT_STARTED, curr_session_errors: None\n",
      "EXTANT SESSION! curr_session_context: kdiba_pin01_one_fet11-04_21-20-3 curr_session_status: SessionBatchProgress.NOT_STARTED, curr_session_errors: None\n",
      "EXTANT SESSION! curr_session_context: kdiba_pin01_one_redundant curr_session_status: SessionBatchProgress.NOT_STARTED, curr_session_errors: None\n",
      "EXTANT SESSION! curr_session_context: kdiba_pin01_one_showclus curr_session_status: SessionBatchProgress.NOT_STARTED, curr_session_errors: None\n",
      "EXTANT SESSION! curr_session_context: kdiba_pin01_one_sleep curr_session_status: SessionBatchProgress.NOT_STARTED, curr_session_errors: None\n",
      "EXTANT SESSION! curr_session_context: kdiba_pin01_one_tmaze curr_session_status: SessionBatchProgress.NOT_STARTED, curr_session_errors: None\n"
     ]
    },
    {
     "data": {
      "text/plain": [
       "BatchRun(global_data_root_parent_path=PosixPath('/home/halechr/turbo/Data'), session_batch_status={IdentifyingContext<('kdiba', 'gor01', 'one', '2006-6-07_11-26-53')>: <SessionBatchProgress.NOT_STARTED: 'NOT_STARTED'>, IdentifyingContext<('kdiba', 'gor01', 'one', '2006-6-08_14-26-15')>: <SessionBatchProgress.NOT_STARTED: 'NOT_STARTED'>, IdentifyingContext<('kdiba', 'gor01', 'one', '2006-6-09_1-22-43')>: <SessionBatchProgress.NOT_STARTED: 'NOT_STARTED'>, IdentifyingContext<('kdiba', 'gor01', 'one', '2006-6-09_3-23-37')>: <SessionBatchProgress.NOT_STARTED: 'NOT_STARTED'>, IdentifyingContext<('kdiba', 'gor01', 'one', '2006-6-12_15-55-31')>: <SessionBatchProgress.NOT_STARTED: 'NOT_STARTED'>, IdentifyingContext<('kdiba', 'gor01', 'one', '2006-6-13_14-42-6')>: <SessionBatchProgress.NOT_STARTED: 'NOT_STARTED'>, IdentifyingContext<('kdiba', 'gor01', 'two', '2006-6-07_16-40-19')>: <SessionBatchProgress.NOT_STARTED: 'NOT_STARTED'>, IdentifyingContext<('kdiba', 'gor01', 'two', '2006-6-08_15-46-47')>: <SessionBatchProgress.NOT_STARTED: 'NOT_STARTED'>, IdentifyingContext<('kdiba', 'gor01', 'two', '2006-6-08_21-16-25')>: <SessionBatchProgress.NOT_STARTED: 'NOT_STARTED'>, IdentifyingContext<('kdiba', 'gor01', 'two', '2006-6-09_22-24-40')>: <SessionBatchProgress.NOT_STARTED: 'NOT_STARTED'>, IdentifyingContext<('kdiba', 'gor01', 'two', '2006-6-12_16-53-46')>: <SessionBatchProgress.NOT_STARTED: 'NOT_STARTED'>, IdentifyingContext<('kdiba', 'gor01', 'two', '2006-6-13_15-22-3')>: <SessionBatchProgress.NOT_STARTED: 'NOT_STARTED'>, IdentifyingContext<('kdiba', 'vvp01', 'one', '2006-4-09_17-29-30')>: <SessionBatchProgress.NOT_STARTED: 'NOT_STARTED'>, IdentifyingContext<('kdiba', 'vvp01', 'one', '2006-4-10_12-25-50')>: <SessionBatchProgress.NOT_STARTED: 'NOT_STARTED'>, IdentifyingContext<('kdiba', 'vvp01', 'one', '2006-4-10_21-2-40')>: <SessionBatchProgress.NOT_STARTED: 'NOT_STARTED'>, IdentifyingContext<('kdiba', 'vvp01', 'one', '2006-4-11_15-16-59')>: <SessionBatchProgress.NOT_STARTED: 'NOT_STARTED'>, IdentifyingContext<('kdiba', 'vvp01', 'one', '2006-4-12_14-39-31')>: <SessionBatchProgress.NOT_STARTED: 'NOT_STARTED'>, IdentifyingContext<('kdiba', 'vvp01', 'one', '2006-4-12_17-53-55')>: <SessionBatchProgress.NOT_STARTED: 'NOT_STARTED'>, IdentifyingContext<('kdiba', 'vvp01', 'one', '2006-4-16_15-12-23')>: <SessionBatchProgress.NOT_STARTED: 'NOT_STARTED'>, IdentifyingContext<('kdiba', 'vvp01', 'one', '2006-4-17_12-33-47')>: <SessionBatchProgress.NOT_STARTED: 'NOT_STARTED'>, IdentifyingContext<('kdiba', 'vvp01', 'one', '2006-4-18_13-6-1')>: <SessionBatchProgress.NOT_STARTED: 'NOT_STARTED'>, IdentifyingContext<('kdiba', 'vvp01', 'one', '2006-4-18_15-23-32')>: <SessionBatchProgress.NOT_STARTED: 'NOT_STARTED'>, IdentifyingContext<('kdiba', 'vvp01', 'one', '2006-4-19_13-34-40')>: <SessionBatchProgress.NOT_STARTED: 'NOT_STARTED'>, IdentifyingContext<('kdiba', 'vvp01', 'one', '2006-4-19_16-48-9')>: <SessionBatchProgress.NOT_STARTED: 'NOT_STARTED'>, IdentifyingContext<('kdiba', 'vvp01', 'one', '2006-4-21_10-24-35')>: <SessionBatchProgress.NOT_STARTED: 'NOT_STARTED'>, IdentifyingContext<('kdiba', 'vvp01', 'one', '2006-4-25_14-28-51')>: <SessionBatchProgress.NOT_STARTED: 'NOT_STARTED'>, IdentifyingContext<('kdiba', 'vvp01', 'one', '2006-4-25_17-17-6')>: <SessionBatchProgress.NOT_STARTED: 'NOT_STARTED'>, IdentifyingContext<('kdiba', 'vvp01', 'one', '2006-4-26_13-22-13')>: <SessionBatchProgress.NOT_STARTED: 'NOT_STARTED'>, IdentifyingContext<('kdiba', 'vvp01', 'one', '2006-4-27_14-43-12')>: <SessionBatchProgress.NOT_STARTED: 'NOT_STARTED'>, IdentifyingContext<('kdiba', 'vvp01', 'one', '2006-4-28_12-17-27')>: <SessionBatchProgress.NOT_STARTED: 'NOT_STARTED'>, IdentifyingContext<('kdiba', 'vvp01', 'one', '2006-4-28_16-48-29')>: <SessionBatchProgress.NOT_STARTED: 'NOT_STARTED'>, IdentifyingContext<('kdiba', 'vvp01', 'two', '2006-4-09_16-40-54')>: <SessionBatchProgress.NOT_STARTED: 'NOT_STARTED'>, IdentifyingContext<('kdiba', 'vvp01', 'two', '2006-4-10_12-58-3')>: <SessionBatchProgress.NOT_STARTED: 'NOT_STARTED'>, IdentifyingContext<('kdiba', 'vvp01', 'two', '2006-4-10_19-11-57')>: <SessionBatchProgress.NOT_STARTED: 'NOT_STARTED'>, IdentifyingContext<('kdiba', 'vvp01', 'two', '2006-4-11_12-48-38')>: <SessionBatchProgress.NOT_STARTED: 'NOT_STARTED'>, IdentifyingContext<('kdiba', 'vvp01', 'two', '2006-4-11_16-2-46')>: <SessionBatchProgress.NOT_STARTED: 'NOT_STARTED'>, IdentifyingContext<('kdiba', 'vvp01', 'two', '2006-4-12_14-59-23')>: <SessionBatchProgress.NOT_STARTED: 'NOT_STARTED'>, IdentifyingContext<('kdiba', 'vvp01', 'two', '2006-4-12_15-25-59')>: <SessionBatchProgress.NOT_STARTED: 'NOT_STARTED'>, IdentifyingContext<('kdiba', 'vvp01', 'two', '2006-4-16_14-49-24')>: <SessionBatchProgress.NOT_STARTED: 'NOT_STARTED'>, IdentifyingContext<('kdiba', 'vvp01', 'two', '2006-4-16_18-47-52')>: <SessionBatchProgress.NOT_STARTED: 'NOT_STARTED'>, IdentifyingContext<('kdiba', 'vvp01', 'two', '2006-4-17_12-52-15')>: <SessionBatchProgress.NOT_STARTED: 'NOT_STARTED'>, IdentifyingContext<('kdiba', 'vvp01', 'two', '2006-4-18_13-28-57')>: <SessionBatchProgress.NOT_STARTED: 'NOT_STARTED'>, IdentifyingContext<('kdiba', 'vvp01', 'two', '2006-4-18_15-38-2')>: <SessionBatchProgress.NOT_STARTED: 'NOT_STARTED'>, IdentifyingContext<('kdiba', 'vvp01', 'two', '2006-4-19_13-50-7')>: <SessionBatchProgress.NOT_STARTED: 'NOT_STARTED'>, IdentifyingContext<('kdiba', 'vvp01', 'two', '2006-4-19_16-37-40')>: <SessionBatchProgress.NOT_STARTED: 'NOT_STARTED'>, IdentifyingContext<('kdiba', 'vvp01', 'two', '2006-4-21_11-19-2')>: <SessionBatchProgress.NOT_STARTED: 'NOT_STARTED'>, IdentifyingContext<('kdiba', 'vvp01', 'two', '2006-4-25_13-20-55')>: <SessionBatchProgress.NOT_STARTED: 'NOT_STARTED'>, IdentifyingContext<('kdiba', 'vvp01', 'two', '2006-4-25_17-33-28')>: <SessionBatchProgress.NOT_STARTED: 'NOT_STARTED'>, IdentifyingContext<('kdiba', 'vvp01', 'two', '2006-4-26_13-51-50')>: <SessionBatchProgress.NOT_STARTED: 'NOT_STARTED'>, IdentifyingContext<('kdiba', 'vvp01', 'two', '2006-4-27_18-21-57')>: <SessionBatchProgress.NOT_STARTED: 'NOT_STARTED'>, IdentifyingContext<('kdiba', 'vvp01', 'two', '2006-4-28_12-38-13')>: <SessionBatchProgress.NOT_STARTED: 'NOT_STARTED'>, IdentifyingContext<('kdiba', 'vvp01', 'two', '2006-4-28_17-6-14')>: <SessionBatchProgress.NOT_STARTED: 'NOT_STARTED'>, IdentifyingContext<('kdiba', 'pin01', 'one', '11-02_17-46-44')>: <SessionBatchProgress.NOT_STARTED: 'NOT_STARTED'>, IdentifyingContext<('kdiba', 'pin01', 'one', '11-02_19-28-0')>: <SessionBatchProgress.NOT_STARTED: 'NOT_STARTED'>, IdentifyingContext<('kdiba', 'pin01', 'one', '11-03_12-3-25')>: <SessionBatchProgress.NOT_STARTED: 'NOT_STARTED'>, IdentifyingContext<('kdiba', 'pin01', 'one', '11-03_21-26-8')>: <SessionBatchProgress.NOT_STARTED: 'NOT_STARTED'>, IdentifyingContext<('kdiba', 'pin01', 'one', '11-05_19-26-43')>: <SessionBatchProgress.NOT_STARTED: 'NOT_STARTED'>, IdentifyingContext<('kdiba', 'pin01', 'one', '11-09_11-43-50')>: <SessionBatchProgress.NOT_STARTED: 'NOT_STARTED'>, IdentifyingContext<('kdiba', 'pin01', 'one', '11-09_12-15-3')>: <SessionBatchProgress.NOT_STARTED: 'NOT_STARTED'>, IdentifyingContext<('kdiba', 'pin01', 'one', '11-09_21-17-16')>: <SessionBatchProgress.NOT_STARTED: 'NOT_STARTED'>, IdentifyingContext<('kdiba', 'pin01', 'one', '11-09_22-4-5')>: <SessionBatchProgress.NOT_STARTED: 'NOT_STARTED'>, IdentifyingContext<('kdiba', 'pin01', 'one', '11-19_12-35-59')>: <SessionBatchProgress.NOT_STARTED: 'NOT_STARTED'>, IdentifyingContext<('kdiba', 'pin01', 'one', '11-19_13-2-0')>: <SessionBatchProgress.NOT_STARTED: 'NOT_STARTED'>, IdentifyingContext<('kdiba', 'pin01', 'one', '11-19_13-55-7')>: <SessionBatchProgress.NOT_STARTED: 'NOT_STARTED'>, IdentifyingContext<('kdiba', 'pin01', 'one', 'fet11-01_12-58-54')>: <SessionBatchProgress.NOT_STARTED: 'NOT_STARTED'>, IdentifyingContext<('kdiba', 'pin01', 'one', 'fet11-03_11-0-53')>: <SessionBatchProgress.NOT_STARTED: 'NOT_STARTED'>, IdentifyingContext<('kdiba', 'pin01', 'one', 'fet11-03_20-28-3')>: <SessionBatchProgress.NOT_STARTED: 'NOT_STARTED'>, IdentifyingContext<('kdiba', 'pin01', 'one', 'fet11-04_21-20-3')>: <SessionBatchProgress.NOT_STARTED: 'NOT_STARTED'>, IdentifyingContext<('kdiba', 'pin01', 'one', 'redundant')>: <SessionBatchProgress.NOT_STARTED: 'NOT_STARTED'>, IdentifyingContext<('kdiba', 'pin01', 'one', 'showclus')>: <SessionBatchProgress.NOT_STARTED: 'NOT_STARTED'>, IdentifyingContext<('kdiba', 'pin01', 'one', 'sleep')>: <SessionBatchProgress.NOT_STARTED: 'NOT_STARTED'>, IdentifyingContext<('kdiba', 'pin01', 'one', 'tmaze')>: <SessionBatchProgress.NOT_STARTED: 'NOT_STARTED'>}, session_batch_basedirs={IdentifyingContext<('kdiba', 'gor01', 'one', '2006-6-07_11-26-53')>: PosixPath('/nfs/turbo/umms-kdiba/Data/KDIBA/gor01/one/2006-6-07_11-26-53'), IdentifyingContext<('kdiba', 'gor01', 'one', '2006-6-08_14-26-15')>: PosixPath('/nfs/turbo/umms-kdiba/Data/KDIBA/gor01/one/2006-6-08_14-26-15'), IdentifyingContext<('kdiba', 'gor01', 'one', '2006-6-09_1-22-43')>: PosixPath('/nfs/turbo/umms-kdiba/Data/KDIBA/gor01/one/2006-6-09_1-22-43'), IdentifyingContext<('kdiba', 'gor01', 'one', '2006-6-09_3-23-37')>: PosixPath('/nfs/turbo/umms-kdiba/Data/KDIBA/gor01/one/2006-6-09_3-23-37'), IdentifyingContext<('kdiba', 'gor01', 'one', '2006-6-12_15-55-31')>: PosixPath('/nfs/turbo/umms-kdiba/Data/KDIBA/gor01/one/2006-6-12_15-55-31'), IdentifyingContext<('kdiba', 'gor01', 'one', '2006-6-13_14-42-6')>: PosixPath('/nfs/turbo/umms-kdiba/Data/KDIBA/gor01/one/2006-6-13_14-42-6'), IdentifyingContext<('kdiba', 'gor01', 'two', '2006-6-07_16-40-19')>: PosixPath('/nfs/turbo/umms-kdiba/Data/KDIBA/gor01/two/2006-6-07_16-40-19'), IdentifyingContext<('kdiba', 'gor01', 'two', '2006-6-08_15-46-47')>: PosixPath('/nfs/turbo/umms-kdiba/Data/KDIBA/gor01/two/2006-6-08_15-46-47'), IdentifyingContext<('kdiba', 'gor01', 'two', '2006-6-08_21-16-25')>: PosixPath('/nfs/turbo/umms-kdiba/Data/KDIBA/gor01/two/2006-6-08_21-16-25'), IdentifyingContext<('kdiba', 'gor01', 'two', '2006-6-09_22-24-40')>: PosixPath('/nfs/turbo/umms-kdiba/Data/KDIBA/gor01/two/2006-6-09_22-24-40'), IdentifyingContext<('kdiba', 'gor01', 'two', '2006-6-12_16-53-46')>: PosixPath('/nfs/turbo/umms-kdiba/Data/KDIBA/gor01/two/2006-6-12_16-53-46'), IdentifyingContext<('kdiba', 'gor01', 'two', '2006-6-13_15-22-3')>: PosixPath('/nfs/turbo/umms-kdiba/Data/KDIBA/gor01/two/2006-6-13_15-22-3'), IdentifyingContext<('kdiba', 'vvp01', 'one', '2006-4-09_17-29-30')>: PosixPath('/nfs/turbo/umms-kdiba/Data/KDIBA/vvp01/one/2006-4-09_17-29-30'), IdentifyingContext<('kdiba', 'vvp01', 'one', '2006-4-10_12-25-50')>: PosixPath('/nfs/turbo/umms-kdiba/Data/KDIBA/vvp01/one/2006-4-10_12-25-50'), IdentifyingContext<('kdiba', 'vvp01', 'one', '2006-4-10_21-2-40')>: PosixPath('/nfs/turbo/umms-kdiba/Data/KDIBA/vvp01/one/2006-4-10_21-2-40'), IdentifyingContext<('kdiba', 'vvp01', 'one', '2006-4-11_15-16-59')>: PosixPath('/nfs/turbo/umms-kdiba/Data/KDIBA/vvp01/one/2006-4-11_15-16-59'), IdentifyingContext<('kdiba', 'vvp01', 'one', '2006-4-12_14-39-31')>: PosixPath('/nfs/turbo/umms-kdiba/Data/KDIBA/vvp01/one/2006-4-12_14-39-31'), IdentifyingContext<('kdiba', 'vvp01', 'one', '2006-4-12_17-53-55')>: PosixPath('/nfs/turbo/umms-kdiba/Data/KDIBA/vvp01/one/2006-4-12_17-53-55'), IdentifyingContext<('kdiba', 'vvp01', 'one', '2006-4-16_15-12-23')>: PosixPath('/nfs/turbo/umms-kdiba/Data/KDIBA/vvp01/one/2006-4-16_15-12-23'), IdentifyingContext<('kdiba', 'vvp01', 'one', '2006-4-17_12-33-47')>: PosixPath('/nfs/turbo/umms-kdiba/Data/KDIBA/vvp01/one/2006-4-17_12-33-47'), IdentifyingContext<('kdiba', 'vvp01', 'one', '2006-4-18_13-6-1')>: PosixPath('/nfs/turbo/umms-kdiba/Data/KDIBA/vvp01/one/2006-4-18_13-6-1'), IdentifyingContext<('kdiba', 'vvp01', 'one', '2006-4-18_15-23-32')>: PosixPath('/nfs/turbo/umms-kdiba/Data/KDIBA/vvp01/one/2006-4-18_15-23-32'), IdentifyingContext<('kdiba', 'vvp01', 'one', '2006-4-19_13-34-40')>: PosixPath('/nfs/turbo/umms-kdiba/Data/KDIBA/vvp01/one/2006-4-19_13-34-40'), IdentifyingContext<('kdiba', 'vvp01', 'one', '2006-4-19_16-48-9')>: PosixPath('/nfs/turbo/umms-kdiba/Data/KDIBA/vvp01/one/2006-4-19_16-48-9'), IdentifyingContext<('kdiba', 'vvp01', 'one', '2006-4-21_10-24-35')>: PosixPath('/nfs/turbo/umms-kdiba/Data/KDIBA/vvp01/one/2006-4-21_10-24-35'), IdentifyingContext<('kdiba', 'vvp01', 'one', '2006-4-25_14-28-51')>: PosixPath('/nfs/turbo/umms-kdiba/Data/KDIBA/vvp01/one/2006-4-25_14-28-51'), IdentifyingContext<('kdiba', 'vvp01', 'one', '2006-4-25_17-17-6')>: PosixPath('/nfs/turbo/umms-kdiba/Data/KDIBA/vvp01/one/2006-4-25_17-17-6'), IdentifyingContext<('kdiba', 'vvp01', 'one', '2006-4-26_13-22-13')>: PosixPath('/nfs/turbo/umms-kdiba/Data/KDIBA/vvp01/one/2006-4-26_13-22-13'), IdentifyingContext<('kdiba', 'vvp01', 'one', '2006-4-27_14-43-12')>: PosixPath('/nfs/turbo/umms-kdiba/Data/KDIBA/vvp01/one/2006-4-27_14-43-12'), IdentifyingContext<('kdiba', 'vvp01', 'one', '2006-4-28_12-17-27')>: PosixPath('/nfs/turbo/umms-kdiba/Data/KDIBA/vvp01/one/2006-4-28_12-17-27'), IdentifyingContext<('kdiba', 'vvp01', 'one', '2006-4-28_16-48-29')>: PosixPath('/nfs/turbo/umms-kdiba/Data/KDIBA/vvp01/one/2006-4-28_16-48-29'), IdentifyingContext<('kdiba', 'vvp01', 'two', '2006-4-09_16-40-54')>: PosixPath('/nfs/turbo/umms-kdiba/Data/KDIBA/vvp01/two/2006-4-09_16-40-54'), IdentifyingContext<('kdiba', 'vvp01', 'two', '2006-4-10_12-58-3')>: PosixPath('/nfs/turbo/umms-kdiba/Data/KDIBA/vvp01/two/2006-4-10_12-58-3'), IdentifyingContext<('kdiba', 'vvp01', 'two', '2006-4-10_19-11-57')>: PosixPath('/nfs/turbo/umms-kdiba/Data/KDIBA/vvp01/two/2006-4-10_19-11-57'), IdentifyingContext<('kdiba', 'vvp01', 'two', '2006-4-11_12-48-38')>: PosixPath('/nfs/turbo/umms-kdiba/Data/KDIBA/vvp01/two/2006-4-11_12-48-38'), IdentifyingContext<('kdiba', 'vvp01', 'two', '2006-4-11_16-2-46')>: PosixPath('/nfs/turbo/umms-kdiba/Data/KDIBA/vvp01/two/2006-4-11_16-2-46'), IdentifyingContext<('kdiba', 'vvp01', 'two', '2006-4-12_14-59-23')>: PosixPath('/nfs/turbo/umms-kdiba/Data/KDIBA/vvp01/two/2006-4-12_14-59-23'), IdentifyingContext<('kdiba', 'vvp01', 'two', '2006-4-12_15-25-59')>: PosixPath('/nfs/turbo/umms-kdiba/Data/KDIBA/vvp01/two/2006-4-12_15-25-59'), IdentifyingContext<('kdiba', 'vvp01', 'two', '2006-4-16_14-49-24')>: PosixPath('/nfs/turbo/umms-kdiba/Data/KDIBA/vvp01/two/2006-4-16_14-49-24'), IdentifyingContext<('kdiba', 'vvp01', 'two', '2006-4-16_18-47-52')>: PosixPath('/nfs/turbo/umms-kdiba/Data/KDIBA/vvp01/two/2006-4-16_18-47-52'), IdentifyingContext<('kdiba', 'vvp01', 'two', '2006-4-17_12-52-15')>: PosixPath('/nfs/turbo/umms-kdiba/Data/KDIBA/vvp01/two/2006-4-17_12-52-15'), IdentifyingContext<('kdiba', 'vvp01', 'two', '2006-4-18_13-28-57')>: PosixPath('/nfs/turbo/umms-kdiba/Data/KDIBA/vvp01/two/2006-4-18_13-28-57'), IdentifyingContext<('kdiba', 'vvp01', 'two', '2006-4-18_15-38-2')>: PosixPath('/nfs/turbo/umms-kdiba/Data/KDIBA/vvp01/two/2006-4-18_15-38-2'), IdentifyingContext<('kdiba', 'vvp01', 'two', '2006-4-19_13-50-7')>: PosixPath('/nfs/turbo/umms-kdiba/Data/KDIBA/vvp01/two/2006-4-19_13-50-7'), IdentifyingContext<('kdiba', 'vvp01', 'two', '2006-4-19_16-37-40')>: PosixPath('/nfs/turbo/umms-kdiba/Data/KDIBA/vvp01/two/2006-4-19_16-37-40'), IdentifyingContext<('kdiba', 'vvp01', 'two', '2006-4-21_11-19-2')>: PosixPath('/nfs/turbo/umms-kdiba/Data/KDIBA/vvp01/two/2006-4-21_11-19-2'), IdentifyingContext<('kdiba', 'vvp01', 'two', '2006-4-25_13-20-55')>: PosixPath('/nfs/turbo/umms-kdiba/Data/KDIBA/vvp01/two/2006-4-25_13-20-55'), IdentifyingContext<('kdiba', 'vvp01', 'two', '2006-4-25_17-33-28')>: PosixPath('/nfs/turbo/umms-kdiba/Data/KDIBA/vvp01/two/2006-4-25_17-33-28'), IdentifyingContext<('kdiba', 'vvp01', 'two', '2006-4-26_13-51-50')>: PosixPath('/nfs/turbo/umms-kdiba/Data/KDIBA/vvp01/two/2006-4-26_13-51-50'), IdentifyingContext<('kdiba', 'vvp01', 'two', '2006-4-27_18-21-57')>: PosixPath('/nfs/turbo/umms-kdiba/Data/KDIBA/vvp01/two/2006-4-27_18-21-57'), IdentifyingContext<('kdiba', 'vvp01', 'two', '2006-4-28_12-38-13')>: PosixPath('/nfs/turbo/umms-kdiba/Data/KDIBA/vvp01/two/2006-4-28_12-38-13'), IdentifyingContext<('kdiba', 'vvp01', 'two', '2006-4-28_17-6-14')>: PosixPath('/nfs/turbo/umms-kdiba/Data/KDIBA/vvp01/two/2006-4-28_17-6-14'), IdentifyingContext<('kdiba', 'pin01', 'one', '11-02_17-46-44')>: PosixPath('/nfs/turbo/umms-kdiba/Data/KDIBA/pin01/one/11-02_17-46-44'), IdentifyingContext<('kdiba', 'pin01', 'one', '11-02_19-28-0')>: PosixPath('/nfs/turbo/umms-kdiba/Data/KDIBA/pin01/one/11-02_19-28-0'), IdentifyingContext<('kdiba', 'pin01', 'one', '11-03_12-3-25')>: PosixPath('/nfs/turbo/umms-kdiba/Data/KDIBA/pin01/one/11-03_12-3-25'), IdentifyingContext<('kdiba', 'pin01', 'one', '11-03_21-26-8')>: PosixPath('/nfs/turbo/umms-kdiba/Data/KDIBA/pin01/one/11-03_21-26-8'), IdentifyingContext<('kdiba', 'pin01', 'one', '11-05_19-26-43')>: PosixPath('/nfs/turbo/umms-kdiba/Data/KDIBA/pin01/one/11-05_19-26-43'), IdentifyingContext<('kdiba', 'pin01', 'one', '11-09_11-43-50')>: PosixPath('/nfs/turbo/umms-kdiba/Data/KDIBA/pin01/one/11-09_11-43-50'), IdentifyingContext<('kdiba', 'pin01', 'one', '11-09_12-15-3')>: PosixPath('/nfs/turbo/umms-kdiba/Data/KDIBA/pin01/one/11-09_12-15-3'), IdentifyingContext<('kdiba', 'pin01', 'one', '11-09_21-17-16')>: PosixPath('/nfs/turbo/umms-kdiba/Data/KDIBA/pin01/one/11-09_21-17-16'), IdentifyingContext<('kdiba', 'pin01', 'one', '11-09_22-4-5')>: PosixPath('/nfs/turbo/umms-kdiba/Data/KDIBA/pin01/one/11-09_22-4-5'), IdentifyingContext<('kdiba', 'pin01', 'one', '11-19_12-35-59')>: PosixPath('/nfs/turbo/umms-kdiba/Data/KDIBA/pin01/one/11-19_12-35-59'), IdentifyingContext<('kdiba', 'pin01', 'one', '11-19_13-2-0')>: PosixPath('/nfs/turbo/umms-kdiba/Data/KDIBA/pin01/one/11-19_13-2-0'), IdentifyingContext<('kdiba', 'pin01', 'one', '11-19_13-55-7')>: PosixPath('/nfs/turbo/umms-kdiba/Data/KDIBA/pin01/one/11-19_13-55-7'), IdentifyingContext<('kdiba', 'pin01', 'one', 'fet11-01_12-58-54')>: PosixPath('/nfs/turbo/umms-kdiba/Data/KDIBA/pin01/one/fet11-01_12-58-54'), IdentifyingContext<('kdiba', 'pin01', 'one', 'fet11-03_11-0-53')>: PosixPath('/nfs/turbo/umms-kdiba/Data/KDIBA/pin01/one/fet11-03_11-0-53'), IdentifyingContext<('kdiba', 'pin01', 'one', 'fet11-03_20-28-3')>: PosixPath('/nfs/turbo/umms-kdiba/Data/KDIBA/pin01/one/fet11-03_20-28-3'), IdentifyingContext<('kdiba', 'pin01', 'one', 'fet11-04_21-20-3')>: PosixPath('/nfs/turbo/umms-kdiba/Data/KDIBA/pin01/one/fet11-04_21-20-3'), IdentifyingContext<('kdiba', 'pin01', 'one', 'redundant')>: PosixPath('/nfs/turbo/umms-kdiba/Data/KDIBA/pin01/one/redundant'), IdentifyingContext<('kdiba', 'pin01', 'one', 'showclus')>: PosixPath('/nfs/turbo/umms-kdiba/Data/KDIBA/pin01/one/showclus'), IdentifyingContext<('kdiba', 'pin01', 'one', 'sleep')>: PosixPath('/nfs/turbo/umms-kdiba/Data/KDIBA/pin01/one/sleep'), IdentifyingContext<('kdiba', 'pin01', 'one', 'tmaze')>: PosixPath('/nfs/turbo/umms-kdiba/Data/KDIBA/pin01/one/tmaze')}, session_batch_errors={IdentifyingContext<('kdiba', 'gor01', 'one', '2006-6-07_11-26-53')>: None, IdentifyingContext<('kdiba', 'gor01', 'one', '2006-6-08_14-26-15')>: None, IdentifyingContext<('kdiba', 'gor01', 'one', '2006-6-09_1-22-43')>: None, IdentifyingContext<('kdiba', 'gor01', 'one', '2006-6-09_3-23-37')>: None, IdentifyingContext<('kdiba', 'gor01', 'one', '2006-6-12_15-55-31')>: None, IdentifyingContext<('kdiba', 'gor01', 'one', '2006-6-13_14-42-6')>: None, IdentifyingContext<('kdiba', 'gor01', 'two', '2006-6-07_16-40-19')>: None, IdentifyingContext<('kdiba', 'gor01', 'two', '2006-6-08_15-46-47')>: None, IdentifyingContext<('kdiba', 'gor01', 'two', '2006-6-08_21-16-25')>: None, IdentifyingContext<('kdiba', 'gor01', 'two', '2006-6-09_22-24-40')>: None, IdentifyingContext<('kdiba', 'gor01', 'two', '2006-6-12_16-53-46')>: None, IdentifyingContext<('kdiba', 'gor01', 'two', '2006-6-13_15-22-3')>: None, IdentifyingContext<('kdiba', 'vvp01', 'one', '2006-4-09_17-29-30')>: None, IdentifyingContext<('kdiba', 'vvp01', 'one', '2006-4-10_12-25-50')>: None, IdentifyingContext<('kdiba', 'vvp01', 'one', '2006-4-10_21-2-40')>: None, IdentifyingContext<('kdiba', 'vvp01', 'one', '2006-4-11_15-16-59')>: None, IdentifyingContext<('kdiba', 'vvp01', 'one', '2006-4-12_14-39-31')>: None, IdentifyingContext<('kdiba', 'vvp01', 'one', '2006-4-12_17-53-55')>: None, IdentifyingContext<('kdiba', 'vvp01', 'one', '2006-4-16_15-12-23')>: None, IdentifyingContext<('kdiba', 'vvp01', 'one', '2006-4-17_12-33-47')>: None, IdentifyingContext<('kdiba', 'vvp01', 'one', '2006-4-18_13-6-1')>: None, IdentifyingContext<('kdiba', 'vvp01', 'one', '2006-4-18_15-23-32')>: None, IdentifyingContext<('kdiba', 'vvp01', 'one', '2006-4-19_13-34-40')>: None, IdentifyingContext<('kdiba', 'vvp01', 'one', '2006-4-19_16-48-9')>: None, IdentifyingContext<('kdiba', 'vvp01', 'one', '2006-4-21_10-24-35')>: None, IdentifyingContext<('kdiba', 'vvp01', 'one', '2006-4-25_14-28-51')>: None, IdentifyingContext<('kdiba', 'vvp01', 'one', '2006-4-25_17-17-6')>: None, IdentifyingContext<('kdiba', 'vvp01', 'one', '2006-4-26_13-22-13')>: None, IdentifyingContext<('kdiba', 'vvp01', 'one', '2006-4-27_14-43-12')>: None, IdentifyingContext<('kdiba', 'vvp01', 'one', '2006-4-28_12-17-27')>: None, IdentifyingContext<('kdiba', 'vvp01', 'one', '2006-4-28_16-48-29')>: None, IdentifyingContext<('kdiba', 'vvp01', 'two', '2006-4-09_16-40-54')>: None, IdentifyingContext<('kdiba', 'vvp01', 'two', '2006-4-10_12-58-3')>: None, IdentifyingContext<('kdiba', 'vvp01', 'two', '2006-4-10_19-11-57')>: None, IdentifyingContext<('kdiba', 'vvp01', 'two', '2006-4-11_12-48-38')>: None, IdentifyingContext<('kdiba', 'vvp01', 'two', '2006-4-11_16-2-46')>: None, IdentifyingContext<('kdiba', 'vvp01', 'two', '2006-4-12_14-59-23')>: None, IdentifyingContext<('kdiba', 'vvp01', 'two', '2006-4-12_15-25-59')>: None, IdentifyingContext<('kdiba', 'vvp01', 'two', '2006-4-16_14-49-24')>: None, IdentifyingContext<('kdiba', 'vvp01', 'two', '2006-4-16_18-47-52')>: None, IdentifyingContext<('kdiba', 'vvp01', 'two', '2006-4-17_12-52-15')>: None, IdentifyingContext<('kdiba', 'vvp01', 'two', '2006-4-18_13-28-57')>: None, IdentifyingContext<('kdiba', 'vvp01', 'two', '2006-4-18_15-38-2')>: None, IdentifyingContext<('kdiba', 'vvp01', 'two', '2006-4-19_13-50-7')>: None, IdentifyingContext<('kdiba', 'vvp01', 'two', '2006-4-19_16-37-40')>: None, IdentifyingContext<('kdiba', 'vvp01', 'two', '2006-4-21_11-19-2')>: None, IdentifyingContext<('kdiba', 'vvp01', 'two', '2006-4-25_13-20-55')>: None, IdentifyingContext<('kdiba', 'vvp01', 'two', '2006-4-25_17-33-28')>: None, IdentifyingContext<('kdiba', 'vvp01', 'two', '2006-4-26_13-51-50')>: None, IdentifyingContext<('kdiba', 'vvp01', 'two', '2006-4-27_18-21-57')>: None, IdentifyingContext<('kdiba', 'vvp01', 'two', '2006-4-28_12-38-13')>: None, IdentifyingContext<('kdiba', 'vvp01', 'two', '2006-4-28_17-6-14')>: None, IdentifyingContext<('kdiba', 'pin01', 'one', '11-02_17-46-44')>: None, IdentifyingContext<('kdiba', 'pin01', 'one', '11-02_19-28-0')>: None, IdentifyingContext<('kdiba', 'pin01', 'one', '11-03_12-3-25')>: None, IdentifyingContext<('kdiba', 'pin01', 'one', '11-03_21-26-8')>: None, IdentifyingContext<('kdiba', 'pin01', 'one', '11-05_19-26-43')>: None, IdentifyingContext<('kdiba', 'pin01', 'one', '11-09_11-43-50')>: None, IdentifyingContext<('kdiba', 'pin01', 'one', '11-09_12-15-3')>: None, IdentifyingContext<('kdiba', 'pin01', 'one', '11-09_21-17-16')>: None, IdentifyingContext<('kdiba', 'pin01', 'one', '11-09_22-4-5')>: None, IdentifyingContext<('kdiba', 'pin01', 'one', '11-19_12-35-59')>: None, IdentifyingContext<('kdiba', 'pin01', 'one', '11-19_13-2-0')>: None, IdentifyingContext<('kdiba', 'pin01', 'one', '11-19_13-55-7')>: None, IdentifyingContext<('kdiba', 'pin01', 'one', 'fet11-01_12-58-54')>: None, IdentifyingContext<('kdiba', 'pin01', 'one', 'fet11-03_11-0-53')>: None, IdentifyingContext<('kdiba', 'pin01', 'one', 'fet11-03_20-28-3')>: None, IdentifyingContext<('kdiba', 'pin01', 'one', 'fet11-04_21-20-3')>: None, IdentifyingContext<('kdiba', 'pin01', 'one', 'redundant')>: None, IdentifyingContext<('kdiba', 'pin01', 'one', 'showclus')>: None, IdentifyingContext<('kdiba', 'pin01', 'one', 'sleep')>: None, IdentifyingContext<('kdiba', 'pin01', 'one', 'tmaze')>: None}, session_batch_outputs={IdentifyingContext<('kdiba', 'gor01', 'one', '2006-6-07_11-26-53')>: None, IdentifyingContext<('kdiba', 'gor01', 'one', '2006-6-08_14-26-15')>: None, IdentifyingContext<('kdiba', 'gor01', 'one', '2006-6-09_1-22-43')>: None, IdentifyingContext<('kdiba', 'gor01', 'one', '2006-6-09_3-23-37')>: None, IdentifyingContext<('kdiba', 'gor01', 'one', '2006-6-12_15-55-31')>: None, IdentifyingContext<('kdiba', 'gor01', 'one', '2006-6-13_14-42-6')>: None, IdentifyingContext<('kdiba', 'gor01', 'two', '2006-6-07_16-40-19')>: None, IdentifyingContext<('kdiba', 'gor01', 'two', '2006-6-08_15-46-47')>: None, IdentifyingContext<('kdiba', 'gor01', 'two', '2006-6-08_21-16-25')>: None, IdentifyingContext<('kdiba', 'gor01', 'two', '2006-6-09_22-24-40')>: None, IdentifyingContext<('kdiba', 'gor01', 'two', '2006-6-12_16-53-46')>: None, IdentifyingContext<('kdiba', 'gor01', 'two', '2006-6-13_15-22-3')>: None, IdentifyingContext<('kdiba', 'vvp01', 'one', '2006-4-09_17-29-30')>: None, IdentifyingContext<('kdiba', 'vvp01', 'one', '2006-4-10_12-25-50')>: None, IdentifyingContext<('kdiba', 'vvp01', 'one', '2006-4-10_21-2-40')>: None, IdentifyingContext<('kdiba', 'vvp01', 'one', '2006-4-11_15-16-59')>: None, IdentifyingContext<('kdiba', 'vvp01', 'one', '2006-4-12_14-39-31')>: None, IdentifyingContext<('kdiba', 'vvp01', 'one', '2006-4-12_17-53-55')>: None, IdentifyingContext<('kdiba', 'vvp01', 'one', '2006-4-16_15-12-23')>: None, IdentifyingContext<('kdiba', 'vvp01', 'one', '2006-4-17_12-33-47')>: None, IdentifyingContext<('kdiba', 'vvp01', 'one', '2006-4-18_13-6-1')>: None, IdentifyingContext<('kdiba', 'vvp01', 'one', '2006-4-18_15-23-32')>: None, IdentifyingContext<('kdiba', 'vvp01', 'one', '2006-4-19_13-34-40')>: None, IdentifyingContext<('kdiba', 'vvp01', 'one', '2006-4-19_16-48-9')>: None, IdentifyingContext<('kdiba', 'vvp01', 'one', '2006-4-21_10-24-35')>: None, IdentifyingContext<('kdiba', 'vvp01', 'one', '2006-4-25_14-28-51')>: None, IdentifyingContext<('kdiba', 'vvp01', 'one', '2006-4-25_17-17-6')>: None, IdentifyingContext<('kdiba', 'vvp01', 'one', '2006-4-26_13-22-13')>: None, IdentifyingContext<('kdiba', 'vvp01', 'one', '2006-4-27_14-43-12')>: None, IdentifyingContext<('kdiba', 'vvp01', 'one', '2006-4-28_12-17-27')>: None, IdentifyingContext<('kdiba', 'vvp01', 'one', '2006-4-28_16-48-29')>: None, IdentifyingContext<('kdiba', 'vvp01', 'two', '2006-4-09_16-40-54')>: None, IdentifyingContext<('kdiba', 'vvp01', 'two', '2006-4-10_12-58-3')>: None, IdentifyingContext<('kdiba', 'vvp01', 'two', '2006-4-10_19-11-57')>: None, IdentifyingContext<('kdiba', 'vvp01', 'two', '2006-4-11_12-48-38')>: None, IdentifyingContext<('kdiba', 'vvp01', 'two', '2006-4-11_16-2-46')>: None, IdentifyingContext<('kdiba', 'vvp01', 'two', '2006-4-12_14-59-23')>: None, IdentifyingContext<('kdiba', 'vvp01', 'two', '2006-4-12_15-25-59')>: None, IdentifyingContext<('kdiba', 'vvp01', 'two', '2006-4-16_14-49-24')>: None, IdentifyingContext<('kdiba', 'vvp01', 'two', '2006-4-16_18-47-52')>: None, IdentifyingContext<('kdiba', 'vvp01', 'two', '2006-4-17_12-52-15')>: None, IdentifyingContext<('kdiba', 'vvp01', 'two', '2006-4-18_13-28-57')>: None, IdentifyingContext<('kdiba', 'vvp01', 'two', '2006-4-18_15-38-2')>: None, IdentifyingContext<('kdiba', 'vvp01', 'two', '2006-4-19_13-50-7')>: None, IdentifyingContext<('kdiba', 'vvp01', 'two', '2006-4-19_16-37-40')>: None, IdentifyingContext<('kdiba', 'vvp01', 'two', '2006-4-21_11-19-2')>: None, IdentifyingContext<('kdiba', 'vvp01', 'two', '2006-4-25_13-20-55')>: None, IdentifyingContext<('kdiba', 'vvp01', 'two', '2006-4-25_17-33-28')>: None, IdentifyingContext<('kdiba', 'vvp01', 'two', '2006-4-26_13-51-50')>: None, IdentifyingContext<('kdiba', 'vvp01', 'two', '2006-4-27_18-21-57')>: None, IdentifyingContext<('kdiba', 'vvp01', 'two', '2006-4-28_12-38-13')>: None, IdentifyingContext<('kdiba', 'vvp01', 'two', '2006-4-28_17-6-14')>: None, IdentifyingContext<('kdiba', 'pin01', 'one', '11-02_17-46-44')>: None, IdentifyingContext<('kdiba', 'pin01', 'one', '11-02_19-28-0')>: None, IdentifyingContext<('kdiba', 'pin01', 'one', '11-03_12-3-25')>: None, IdentifyingContext<('kdiba', 'pin01', 'one', '11-03_21-26-8')>: None, IdentifyingContext<('kdiba', 'pin01', 'one', '11-05_19-26-43')>: None, IdentifyingContext<('kdiba', 'pin01', 'one', '11-09_11-43-50')>: None, IdentifyingContext<('kdiba', 'pin01', 'one', '11-09_12-15-3')>: None, IdentifyingContext<('kdiba', 'pin01', 'one', '11-09_21-17-16')>: None, IdentifyingContext<('kdiba', 'pin01', 'one', '11-09_22-4-5')>: None, IdentifyingContext<('kdiba', 'pin01', 'one', '11-19_12-35-59')>: None, IdentifyingContext<('kdiba', 'pin01', 'one', '11-19_13-2-0')>: None, IdentifyingContext<('kdiba', 'pin01', 'one', '11-19_13-55-7')>: None, IdentifyingContext<('kdiba', 'pin01', 'one', 'fet11-01_12-58-54')>: None, IdentifyingContext<('kdiba', 'pin01', 'one', 'fet11-03_11-0-53')>: None, IdentifyingContext<('kdiba', 'pin01', 'one', 'fet11-03_20-28-3')>: None, IdentifyingContext<('kdiba', 'pin01', 'one', 'fet11-04_21-20-3')>: None, IdentifyingContext<('kdiba', 'pin01', 'one', 'redundant')>: None, IdentifyingContext<('kdiba', 'pin01', 'one', 'showclus')>: None, IdentifyingContext<('kdiba', 'pin01', 'one', 'sleep')>: None, IdentifyingContext<('kdiba', 'pin01', 'one', 'tmaze')>: None}, enable_saving_to_disk=False)"
      ]
     },
     "execution_count": 5,
     "metadata": {},
     "output_type": "execute_result"
    }
   ],
   "source": [
    "# global_batch_result = loadData('global_batch_result.pkl')\n",
    "global_batch_run = run_diba_batch(global_data_root_parent_path, execute_all=False, extant_batch_run=global_batch_run, debug_print=False)\n",
    "# print(f'global_batch_result: {global_batch_run}')\n",
    "global_batch_run"
   ]
  },
  {
   "cell_type": "markdown",
   "id": "ab824348",
   "metadata": {
    "tags": []
   },
   "source": [
    "# Run Batch Executions/Computations"
   ]
  },
  {
   "cell_type": "code",
   "execution_count": null,
   "id": "2bd73b8d",
   "metadata": {
    "scrolled": true,
    "tags": []
   },
   "outputs": [
    {
     "name": "stdout",
     "output_type": "stream",
     "text": [
      "basedir: /nfs/turbo/umms-kdiba/Data/KDIBA/gor01/one/2006-6-09_3-23-37basedir: /nfs/turbo/umms-kdiba/Data/KDIBA/gor01/one/2006-6-12_15-55-31basedir: /nfs/turbo/umms-kdiba/Data/KDIBA/gor01/one/2006-6-09_1-22-43basedir: /nfs/turbo/umms-kdiba/Data/KDIBA/gor01/one/2006-6-08_14-26-15basedir: /nfs/turbo/umms-kdiba/Data/KDIBA/gor01/one/2006-6-13_14-42-6basedir: /nfs/turbo/umms-kdiba/Data/KDIBA/gor01/one/2006-6-07_11-26-53\n",
      "\n",
      "\n",
      "\n",
      "\n",
      "\n",
      "active_data_mode_name: kdibaactive_data_mode_name: kdibaactive_data_mode_name: kdibaactive_data_mode_name: kdibaactive_data_mode_name: kdibaactive_data_mode_name: kdiba\n",
      "\n",
      "\n",
      "\n",
      "\n",
      "\n",
      "Skipping loading from pickled file because force_reload == True.Skipping loading from pickled file because force_reload == True.Skipping loading from pickled file because force_reload == True.Skipping loading from pickled file because force_reload == True.Skipping loading from pickled file because force_reload == True.Skipping loading from pickled file because force_reload == True.\n",
      "\n",
      "\n",
      "\n",
      "\n",
      "\n",
      "basedir: /nfs/turbo/umms-kdiba/Data/KDIBA/gor01/two/2006-6-07_16-40-19basedir: /nfs/turbo/umms-kdiba/Data/KDIBA/gor01/two/2006-6-08_15-46-47\n",
      "\n",
      "active_data_mode_name: kdibaactive_data_mode_name: kdiba\n",
      "\n",
      "Skipping loading from pickled file because force_reload == True.Skipping loading from pickled file because force_reload == True.\n",
      "\n"
     ]
    },
    {
     "name": "stderr",
     "output_type": "stream",
     "text": [
      "/home/halechr/repos/NeuroPy/neuropy/core/session/Formats/SessionSpecifications.py:140: UserWarning: WARNING: Optional File: /nfs/turbo/umms-kdiba/Data/KDIBA/gor01/one/2006-6-07_11-26-53/2006-6-07_11-26-53.dat does not exist. Continuing without it.\n",
      "  warnings.warn(f'WARNING: Optional File: {an_optional_filepath} does not exist. Continuing without it.')\n"
     ]
    },
    {
     "name": "stdout",
     "output_type": "stream",
     "text": [
      "Loading matlab import file results : /nfs/turbo/umms-kdiba/Data/KDIBA/gor01/one/2006-6-07_11-26-53/2006-6-07_11-26-53.epochs_info.mat... done.\n",
      "Loading matlab import file results : /nfs/turbo/umms-kdiba/Data/KDIBA/gor01/one/2006-6-07_11-26-53/2006-6-07_11-26-53.position_info.mat... "
     ]
    },
    {
     "name": "stderr",
     "output_type": "stream",
     "text": [
      "/home/halechr/repos/NeuroPy/neuropy/core/session/Formats/SessionSpecifications.py:140: UserWarning: WARNING: Optional File: /nfs/turbo/umms-kdiba/Data/KDIBA/gor01/one/2006-6-08_14-26-15/2006-6-08_14-26-15.dat does not exist. Continuing without it.\n",
      "  warnings.warn(f'WARNING: Optional File: {an_optional_filepath} does not exist. Continuing without it.')\n"
     ]
    },
    {
     "name": "stdout",
     "output_type": "stream",
     "text": [
      "Loading matlab import file results : /nfs/turbo/umms-kdiba/Data/KDIBA/gor01/one/2006-6-08_14-26-15/2006-6-08_14-26-15.epochs_info.mat... "
     ]
    },
    {
     "name": "stderr",
     "output_type": "stream",
     "text": [
      "/home/halechr/repos/NeuroPy/neuropy/core/session/Formats/SessionSpecifications.py:140: UserWarning: WARNING: Optional File: /nfs/turbo/umms-kdiba/Data/KDIBA/gor01/one/2006-6-13_14-42-6/2006-6-13_14-42-6.dat does not exist. Continuing without it.\n",
      "  warnings.warn(f'WARNING: Optional File: {an_optional_filepath} does not exist. Continuing without it.')\n"
     ]
    },
    {
     "name": "stdout",
     "output_type": "stream",
     "text": [
      "Loading matlab import file results : /nfs/turbo/umms-kdiba/Data/KDIBA/gor01/one/2006-6-13_14-42-6/2006-6-13_14-42-6.epochs_info.mat... done.\n",
      "done.\n"
     ]
    },
    {
     "name": "stderr",
     "output_type": "stream",
     "text": [
      "/home/halechr/repos/NeuroPy/neuropy/core/session/Formats/SessionSpecifications.py:140: UserWarning: WARNING: Optional File: /nfs/turbo/umms-kdiba/Data/KDIBA/gor01/one/2006-6-09_3-23-37/2006-6-09_3-23-37.dat does not exist. Continuing without it.\n",
      "  warnings.warn(f'WARNING: Optional File: {an_optional_filepath} does not exist. Continuing without it.')\n"
     ]
    },
    {
     "name": "stdout",
     "output_type": "stream",
     "text": [
      "Loading matlab import file results : /nfs/turbo/umms-kdiba/Data/KDIBA/gor01/one/2006-6-09_3-23-37/2006-6-09_3-23-37.epochs_info.mat...Loading matlab import file results : /nfs/turbo/umms-kdiba/Data/KDIBA/gor01/one/2006-6-07_11-26-53/2006-6-07_11-26-53.spikes.mat... "
     ]
    },
    {
     "name": "stderr",
     "output_type": "stream",
     "text": [
      "/home/halechr/repos/NeuroPy/neuropy/core/session/Formats/SessionSpecifications.py:140: UserWarning: WARNING: Optional File: /nfs/turbo/umms-kdiba/Data/KDIBA/gor01/one/2006-6-09_1-22-43/2006-6-09_1-22-43.dat does not exist. Continuing without it.\n",
      "  warnings.warn(f'WARNING: Optional File: {an_optional_filepath} does not exist. Continuing without it.')\n"
     ]
    },
    {
     "name": "stdout",
     "output_type": "stream",
     "text": [
      " "
     ]
    },
    {
     "name": "stderr",
     "output_type": "stream",
     "text": [
      "/home/halechr/repos/NeuroPy/neuropy/core/session/Formats/SessionSpecifications.py:140: UserWarning: WARNING: Optional File: /nfs/turbo/umms-kdiba/Data/KDIBA/gor01/two/2006-6-07_16-40-19/2006-6-07_16-40-19.dat does not exist. Continuing without it.\n",
      "  warnings.warn(f'WARNING: Optional File: {an_optional_filepath} does not exist. Continuing without it.')\n"
     ]
    },
    {
     "name": "stdout",
     "output_type": "stream",
     "text": [
      "Loading matlab import file results : /nfs/turbo/umms-kdiba/Data/KDIBA/gor01/one/2006-6-09_1-22-43/2006-6-09_1-22-43.epochs_info.mat...Loading matlab import file results : /nfs/turbo/umms-kdiba/Data/KDIBA/gor01/one/2006-6-08_14-26-15/2006-6-08_14-26-15.position_info.mat...  Loading matlab import file results : /nfs/turbo/umms-kdiba/Data/KDIBA/gor01/two/2006-6-07_16-40-19/2006-6-07_16-40-19.epochs_info.mat... done.done.\n",
      "\n",
      "done.\n"
     ]
    },
    {
     "name": "stderr",
     "output_type": "stream",
     "text": [
      "/home/halechr/repos/NeuroPy/neuropy/core/session/Formats/SessionSpecifications.py:140: UserWarning: WARNING: Optional File: /nfs/turbo/umms-kdiba/Data/KDIBA/gor01/two/2006-6-08_15-46-47/2006-6-08_15-46-47.dat does not exist. Continuing without it.\n",
      "  warnings.warn(f'WARNING: Optional File: {an_optional_filepath} does not exist. Continuing without it.')\n"
     ]
    },
    {
     "name": "stdout",
     "output_type": "stream",
     "text": [
      "Loading matlab import file results : /nfs/turbo/umms-kdiba/Data/KDIBA/gor01/two/2006-6-08_15-46-47/2006-6-08_15-46-47.epochs_info.mat... done.\n",
      "Loading matlab import file results : /nfs/turbo/umms-kdiba/Data/KDIBA/gor01/one/2006-6-13_14-42-6/2006-6-13_14-42-6.position_info.mat...Loading matlab import file results : /nfs/turbo/umms-kdiba/Data/KDIBA/gor01/two/2006-6-07_16-40-19/2006-6-07_16-40-19.position_info.mat... Loading matlab import file results : /nfs/turbo/umms-kdiba/Data/KDIBA/gor01/one/2006-6-09_3-23-37/2006-6-09_3-23-37.position_info.mat...  Loading matlab import file results : /nfs/turbo/umms-kdiba/Data/KDIBA/gor01/one/2006-6-09_1-22-43/2006-6-09_1-22-43.position_info.mat... "
     ]
    },
    {
     "name": "stderr",
     "output_type": "stream",
     "text": [
      "/home/halechr/repos/NeuroPy/neuropy/core/session/Formats/SessionSpecifications.py:140: UserWarning: WARNING: Optional File: /nfs/turbo/umms-kdiba/Data/KDIBA/gor01/one/2006-6-12_15-55-31/2006-6-12_15-55-31.dat does not exist. Continuing without it.\n",
      "  warnings.warn(f'WARNING: Optional File: {an_optional_filepath} does not exist. Continuing without it.')\n"
     ]
    },
    {
     "name": "stdout",
     "output_type": "stream",
     "text": [
      "Loading matlab import file results : /nfs/turbo/umms-kdiba/Data/KDIBA/gor01/one/2006-6-12_15-55-31/2006-6-12_15-55-31.epochs_info.mat... done.\n",
      "Loading matlab import file results : /nfs/turbo/umms-kdiba/Data/KDIBA/gor01/two/2006-6-08_15-46-47/2006-6-08_15-46-47.position_info.mat... done.\n",
      "done.\n",
      "Loading matlab import file results : /nfs/turbo/umms-kdiba/Data/KDIBA/gor01/one/2006-6-12_15-55-31/2006-6-12_15-55-31.position_info.mat...done.done.\n",
      "\n",
      " Loading matlab import file results : /nfs/turbo/umms-kdiba/Data/KDIBA/gor01/one/2006-6-13_14-42-6/2006-6-13_14-42-6.spikes.mat... done.\n",
      "done.\n",
      "Loading matlab import file results : /nfs/turbo/umms-kdiba/Data/KDIBA/gor01/one/2006-6-09_3-23-37/2006-6-09_3-23-37.spikes.mat... Loading matlab import file results : /nfs/turbo/umms-kdiba/Data/KDIBA/gor01/one/2006-6-09_1-22-43/2006-6-09_1-22-43.spikes.mat... Loading matlab import file results : /nfs/turbo/umms-kdiba/Data/KDIBA/gor01/two/2006-6-07_16-40-19/2006-6-07_16-40-19.spikes.mat... done.\n",
      "Loading matlab import file results : /nfs/turbo/umms-kdiba/Data/KDIBA/gor01/one/2006-6-08_14-26-15/2006-6-08_14-26-15.spikes.mat... Loading matlab import file results : /nfs/turbo/umms-kdiba/Data/KDIBA/gor01/two/2006-6-08_15-46-47/2006-6-08_15-46-47.spikes.mat... done.\n",
      "Loading matlab import file results : /nfs/turbo/umms-kdiba/Data/KDIBA/gor01/one/2006-6-12_15-55-31/2006-6-12_15-55-31.spikes.mat... done.\n",
      "done.\n",
      "done.\n",
      "Failure loading .position.npy. Must recompute.\n",
      "\n"
     ]
    },
    {
     "name": "stderr",
     "output_type": "stream",
     "text": [
      "/home/halechr/repos/Spike3D/.venv/lib/python3.9/site-packages/sklearn/manifold/_isomap.py:359: UserWarning: The number of connected components of the neighbors graph is 2 > 1. Completing the graph to fit Isomap might be slow. Increase the number of neighbors to avoid this issue.\n",
      "  self._fit_transform(X)\n",
      "/home/halechr/repos/Spike3D/.venv/lib/python3.9/site-packages/scipy/sparse/_index.py:100: SparseEfficiencyWarning: Changing the sparsity structure of a csr_matrix is expensive. lil_matrix is more efficient.\n",
      "  self._set_intXint(row, col, x.flat[0])\n"
     ]
    },
    {
     "name": "stdout",
     "output_type": "stream",
     "text": [
      "done.\n",
      "Saving updated position results results : /nfs/turbo/umms-kdiba/Data/KDIBA/gor01/one/2006-6-09_3-23-37/2006-6-09_3-23-37.position.npy... done.\n",
      "2006-6-09_3-23-37.position.npy saved\n",
      "done.\n",
      "\t force_recompute is True! Forcing recomputation of .interpolated_spike_positions.npy\n",
      "\n",
      "Computing interpolate_spike_positions columns results : spikes_df... done.\n",
      "\t Saving updated interpolated spike position results results : /nfs/turbo/umms-kdiba/Data/KDIBA/gor01/one/2006-6-09_3-23-37/2006-6-09_3-23-37.interpolated_spike_positions.npy... done.\n",
      "2006-6-09_3-23-37.interpolated_spike_positions.npy saved\n",
      "done.\n",
      "Loading matlab import file results : /nfs/turbo/umms-kdiba/Data/KDIBA/gor01/one/2006-6-09_3-23-37/2006-6-09_3-23-37.laps_info.mat... done.\n",
      "setting laps object.\n",
      "session.laps loaded successfully!\n",
      "Loading matlab import file results : /nfs/turbo/umms-kdiba/Data/KDIBA/gor01/one/2006-6-09_3-23-37/2006-6-09_3-23-37.replay_info.mat... done.\n",
      "session.replays loaded successfully!\n",
      "Loading success: /nfs/turbo/umms-kdiba/Data/KDIBA/gor01/one/2006-6-09_3-23-37/ripple_df.pkl.\n",
      "Failure loading .mua.npy. Must recompute.\n",
      "\n",
      "computing neurons mua for session...\n",
      "\n",
      "Saving mua results results : /nfs/turbo/umms-kdiba/Data/KDIBA/gor01/one/2006-6-09_3-23-37/2006-6-09_3-23-37.mua.npy... done.\n",
      "2006-6-09_3-23-37.mua.npy saved\n",
      "done.\n",
      "Failure loading .pbe.npy. Must recompute.\n",
      "\n",
      "computing PBE epochs for session...\n",
      "\n",
      "Failure loading .position.npy. Must recompute.\n",
      "\n",
      "Saving pbe results results : /nfs/turbo/umms-kdiba/Data/KDIBA/gor01/one/2006-6-09_3-23-37/2006-6-09_3-23-37.pbe.npy... 2006-6-09_3-23-37.pbe.npy saved\n",
      "done.\n",
      "Computing spikes_df PBEs column results : spikes_df... Failure loading .position.npy. Must recompute.\n",
      "\n"
     ]
    },
    {
     "name": "stderr",
     "output_type": "stream",
     "text": [
      "/home/halechr/repos/Spike3D/.venv/lib/python3.9/site-packages/sklearn/manifold/_isomap.py:359: UserWarning: The number of connected components of the neighbors graph is 3 > 1. Completing the graph to fit Isomap might be slow. Increase the number of neighbors to avoid this issue.\n",
      "  self._fit_transform(X)\n",
      "/home/halechr/repos/Spike3D/.venv/lib/python3.9/site-packages/scipy/sparse/_index.py:100: SparseEfficiencyWarning: Changing the sparsity structure of a csr_matrix is expensive. lil_matrix is more efficient.\n",
      "  self._set_intXint(row, col, x.flat[0])\n",
      "/home/halechr/repos/Spike3D/.venv/lib/python3.9/site-packages/scipy/sparse/_index.py:100: SparseEfficiencyWarning: Changing the sparsity structure of a csr_matrix is expensive. lil_matrix is more efficient.\n",
      "  self._set_intXint(row, col, x.flat[0])\n",
      "/home/halechr/repos/Spike3D/.venv/lib/python3.9/site-packages/scipy/sparse/_index.py:100: SparseEfficiencyWarning: Changing the sparsity structure of a csr_matrix is expensive. lil_matrix is more efficient.\n",
      "  self._set_intXint(row, col, x.flat[0])\n"
     ]
    },
    {
     "name": "stdout",
     "output_type": "stream",
     "text": [
      "done.\n",
      "Saving updated position results results : /nfs/turbo/umms-kdiba/Data/KDIBA/gor01/one/2006-6-13_14-42-6/2006-6-13_14-42-6.position.npy... 2006-6-13_14-42-6.position.npy saved\n",
      "done.\n",
      "\t force_recompute is True! Forcing recomputation of .interpolated_spike_positions.npy\n",
      "\n",
      "Computing interpolate_spike_positions columns results : spikes_df... done.\t Saving updated interpolated spike position results results : /nfs/turbo/umms-kdiba/Data/KDIBA/gor01/one/2006-6-13_14-42-6/2006-6-13_14-42-6.interpolated_spike_positions.npy...\n",
      " 2006-6-13_14-42-6.interpolated_spike_positions.npy saved\n",
      "done.\n",
      "Loading matlab import file results : /nfs/turbo/umms-kdiba/Data/KDIBA/gor01/one/2006-6-13_14-42-6/2006-6-13_14-42-6.laps_info.mat... Saving updated position results results : /nfs/turbo/umms-kdiba/Data/KDIBA/gor01/one/2006-6-12_15-55-31/2006-6-12_15-55-31.position.npy... done.\n",
      "setting laps object.\n",
      "session.laps loaded successfully!\n",
      "2006-6-12_15-55-31.position.npy savedLoading matlab import file results : /nfs/turbo/umms-kdiba/Data/KDIBA/gor01/one/2006-6-13_14-42-6/2006-6-13_14-42-6.replay_info.mat...\n",
      " done.\n",
      "\t force_recompute is True! Forcing recomputation of .interpolated_spike_positions.npy\n",
      "\n",
      "Computing interpolate_spike_positions columns results : spikes_df... done.\n",
      "session.replays loaded successfully!\n",
      "done.\n",
      "\t Saving updated interpolated spike position results results : /nfs/turbo/umms-kdiba/Data/KDIBA/gor01/one/2006-6-12_15-55-31/2006-6-12_15-55-31.interpolated_spike_positions.npy... Loading success: /nfs/turbo/umms-kdiba/Data/KDIBA/gor01/one/2006-6-13_14-42-6/ripple_df.pkl.\n",
      "Failure loading .mua.npy. Must recompute.\n",
      "\n",
      "computing neurons mua for session...\n",
      "\n",
      "Saving mua results results : /nfs/turbo/umms-kdiba/Data/KDIBA/gor01/one/2006-6-13_14-42-6/2006-6-13_14-42-6.mua.npy... 2006-6-13_14-42-6.mua.npy saved\n",
      "done.\n",
      "Failure loading .pbe.npy. Must recompute.\n",
      "\n",
      "computing PBE epochs for session...\n",
      "\n",
      "Saving pbe results results : /nfs/turbo/umms-kdiba/Data/KDIBA/gor01/one/2006-6-13_14-42-6/2006-6-13_14-42-6.pbe.npy... 2006-6-13_14-42-6.pbe.npy saved\n",
      "done.\n",
      "Computing spikes_df PBEs column results : spikes_df...2006-6-12_15-55-31.interpolated_spike_positions.npy saved \n",
      "done.\n",
      "Loading matlab import file results : /nfs/turbo/umms-kdiba/Data/KDIBA/gor01/one/2006-6-12_15-55-31/2006-6-12_15-55-31.laps_info.mat... done.\n",
      "setting laps object.\n",
      "session.laps loaded successfully!\n",
      "Loading matlab import file results : /nfs/turbo/umms-kdiba/Data/KDIBA/gor01/one/2006-6-12_15-55-31/2006-6-12_15-55-31.replay_info.mat... done.\n",
      "session.replays loaded successfully!\n",
      "Loading success: /nfs/turbo/umms-kdiba/Data/KDIBA/gor01/one/2006-6-12_15-55-31/ripple_df.pkl.\n",
      "Failure loading .mua.npy. Must recompute.\n",
      "\n",
      "computing neurons mua for session...\n",
      "\n",
      "Saving mua results results : /nfs/turbo/umms-kdiba/Data/KDIBA/gor01/one/2006-6-12_15-55-31/2006-6-12_15-55-31.mua.npy... 2006-6-12_15-55-31.mua.npy saved\n",
      "done.\n",
      "Failure loading .pbe.npy. Must recompute.\n",
      "\n",
      "computing PBE epochs for session...\n",
      "\n",
      "Saving pbe results results : /nfs/turbo/umms-kdiba/Data/KDIBA/gor01/one/2006-6-12_15-55-31/2006-6-12_15-55-31.pbe.npy... 2006-6-12_15-55-31.pbe.npy saved\n",
      "done.\n",
      "Computing spikes_df PBEs column results : spikes_df... done.\n",
      "Computing added spike scISI column results : spikes_df... done.\n",
      "Computing added spike scISI column results : spikes_df... done.\n",
      "Computing added spike scISI column results : spikes_df... done.\n",
      "POSTLOAD_estimate_laps_and_replays()...\n",
      "sane_midpoint_x: 139.32339390886398, hardcoded_track_midpoint_x: None, track_min_max_x: (17.847911309485145, 260.7988765082428)\n",
      "hardcoded_track_midpoint_x is None, falling back to sane_midpoint_x... 139.32339390886398\n",
      "desc_crossings_x: (41,), asc_crossings_x: (42,)\n",
      "WARNING: must drop last asc_crossing_midpoints.\n",
      "done.\n",
      "POSTLOAD_estimate_laps_and_replays()...\n",
      "sane_midpoint_x: 142.47060684100026, hardcoded_track_midpoint_x: None, track_min_max_x: (25.08263415708267, 259.85857952491784)\n",
      "hardcoded_track_midpoint_x is None, falling back to sane_midpoint_x... 142.47060684100026\n",
      "desc_crossings_x: (16,), asc_crossings_x: (16,)\n",
      "computing PBE epochs for session...\n",
      "\n",
      "computing PBE epochs for session...\n",
      "\n",
      "done.\n",
      "POSTLOAD_estimate_laps_and_replays()...\n",
      "sane_midpoint_x: 139.49093199618758, hardcoded_track_midpoint_x: None, track_min_max_x: (19.184245207126494, 259.7976187852487)\n",
      "hardcoded_track_midpoint_x is None, falling back to sane_midpoint_x... 139.49093199618758\n",
      "desc_crossings_x: (37,), asc_crossings_x: (37,)\n",
      "computing PBE epochs for session...\n",
      "\n",
      "computing estimated replay epochs for session...\n",
      "\n",
      "\t using KnownFilterEpochs.PBE as surrogate replays...\n",
      "computing estimated replay epochs for session...\n",
      "\n",
      "Failure loading .position.npy. Must recompute.\n",
      "\n",
      "\t using KnownFilterEpochs.PBE as surrogate replays..."
     ]
    },
    {
     "name": "stderr",
     "output_type": "stream",
     "text": [
      "/home/halechr/repos/Spike3D/.venv/lib/python3.9/site-packages/sklearn/manifold/_isomap.py:359: UserWarning: The number of connected components of the neighbors graph is 3 > 1. Completing the graph to fit Isomap might be slow. Increase the number of neighbors to avoid this issue.\n",
      "  self._fit_transform(X)\n"
     ]
    },
    {
     "name": "stdout",
     "output_type": "stream",
     "text": [
      "\n"
     ]
    },
    {
     "name": "stderr",
     "output_type": "stream",
     "text": [
      "/home/halechr/repos/Spike3D/.venv/lib/python3.9/site-packages/scipy/sparse/_index.py:100: SparseEfficiencyWarning: Changing the sparsity structure of a csr_matrix is expensive. lil_matrix is more efficient.\n",
      "  self._set_intXint(row, col, x.flat[0])\n",
      "/home/halechr/repos/Spike3D/.venv/lib/python3.9/site-packages/scipy/sparse/_index.py:100: SparseEfficiencyWarning: Changing the sparsity structure of a csr_matrix is expensive. lil_matrix is more efficient.\n",
      "  self._set_intXint(row, col, x.flat[0])\n",
      "/home/halechr/repos/Spike3D/.venv/lib/python3.9/site-packages/scipy/sparse/_index.py:100: SparseEfficiencyWarning: Changing the sparsity structure of a csr_matrix is expensive. lil_matrix is more efficient.\n",
      "  self._set_intXint(row, col, x.flat[0])\n"
     ]
    },
    {
     "name": "stdout",
     "output_type": "stream",
     "text": [
      "computing estimated replay epochs for session...\n",
      "\n",
      "\t using KnownFilterEpochs.PBE as surrogate replays...\n",
      "Failure loading .position.npy. Must recompute.\n",
      "\n",
      "Failure loading .position.npy. Must recompute.\n",
      "\n",
      "Failure loading .position.npy. Must recompute.\n",
      "\n"
     ]
    },
    {
     "name": "stderr",
     "output_type": "stream",
     "text": [
      "/home/halechr/repos/Spike3D/.venv/lib/python3.9/site-packages/sklearn/manifold/_isomap.py:359: UserWarning: The number of connected components of the neighbors graph is 2 > 1. Completing the graph to fit Isomap might be slow. Increase the number of neighbors to avoid this issue.\n",
      "  self._fit_transform(X)\n",
      "/home/halechr/repos/Spike3D/.venv/lib/python3.9/site-packages/scipy/sparse/_index.py:100: SparseEfficiencyWarning: Changing the sparsity structure of a csr_matrix is expensive. lil_matrix is more efficient.\n",
      "  self._set_intXint(row, col, x.flat[0])\n"
     ]
    },
    {
     "name": "stdout",
     "output_type": "stream",
     "text": [
      "Saving updated position results results : /nfs/turbo/umms-kdiba/Data/KDIBA/gor01/one/2006-6-07_11-26-53/2006-6-07_11-26-53.position.npy... 2006-6-07_11-26-53.position.npy saved\n",
      "done.\n",
      "\t force_recompute is True! Forcing recomputation of .interpolated_spike_positions.npy\n",
      "\n",
      "Computing interpolate_spike_positions columns results : spikes_df... \t curr_replays: 47\n",
      "skip_save_on_initial_load is True so resultant pipeline will not be saved to the pickle file.\n",
      "using provided computation_functions_name_includelist: ['_perform_baseline_placefield_computation', '_perform_extended_statistics_computation', '_perform_position_decoding_computation', '_perform_firing_rate_trends_computation', '_perform_pf_find_ratemap_peaks_computation', '_perform_two_step_position_decoding_computation']\n",
      "done.\n",
      "\t Saving updated interpolated spike position results results : /nfs/turbo/umms-kdiba/Data/KDIBA/gor01/one/2006-6-07_11-26-53/2006-6-07_11-26-53.interpolated_spike_positions.npy... Applying session filter named \"maze1\"...\n",
      "Constraining to epoch with times (start: 0.0, end: 528.0656055328436)\t curr_replays: 42\n",
      "\n",
      "skip_save_on_initial_load is True so resultant pipeline will not be saved to the pickle file.\n",
      "using provided computation_functions_name_includelist: ['_perform_baseline_placefield_computation', '_perform_extended_statistics_computation', '_perform_position_decoding_computation', '_perform_firing_rate_trends_computation', '_perform_pf_find_ratemap_peaks_computation', '_perform_two_step_position_decoding_computation']Failure loading .position.npy. Must recompute.\n",
      "\n",
      "\n",
      "Applying session filter named \"maze1\"...\n",
      "Constraining to epoch with times (start: 0.0, end: 521.0076666191453)\n",
      "computing neurons mua for session...\n",
      "\n",
      "2006-6-07_11-26-53.interpolated_spike_positions.npy saved\n",
      "done.\n",
      "Loading matlab import file results : /nfs/turbo/umms-kdiba/Data/KDIBA/gor01/one/2006-6-07_11-26-53/2006-6-07_11-26-53.laps_info.mat... done.\n",
      "setting laps object.\n",
      "session.laps loaded successfully!\n",
      "Loading matlab import file results : /nfs/turbo/umms-kdiba/Data/KDIBA/gor01/one/2006-6-07_11-26-53/2006-6-07_11-26-53.replay_info.mat... Applying session filter named \"maze2\"...\n",
      "computing neurons mua for session...\n",
      "Constraining to epoch with times (start: 528.0656055328436, end: 530.2439119999763)done.\n",
      "session.replays loaded successfully!\n",
      "\n",
      "\n"
     ]
    },
    {
     "name": "stderr",
     "output_type": "stream",
     "text": [
      "/home/halechr/repos/NeuroPy/neuropy/core/laps.py:65: SettingWithCopyWarning: \n",
      "A value is trying to be set on a copy of a slice from a DataFrame.\n",
      "Try using .loc[row_indexer,col_indexer] = value instead\n",
      "\n",
      "See the caveats in the documentation: https://pandas.pydata.org/pandas-docs/stable/user_guide/indexing.html#returning-a-view-versus-a-copy\n",
      "  laps_df[['lap_id']] = laps_df[['lap_id']].astype('int')\n",
      "/home/halechr/repos/NeuroPy/neuropy/core/laps.py:69: SettingWithCopyWarning: \n",
      "A value is trying to be set on a copy of a slice from a DataFrame.\n",
      "Try using .loc[row_indexer,col_indexer] = value instead\n",
      "\n",
      "See the caveats in the documentation: https://pandas.pydata.org/pandas-docs/stable/user_guide/indexing.html#returning-a-view-versus-a-copy\n",
      "  laps_df[['start_spike_index', 'end_spike_index']] = laps_df[['start_spike_index', 'end_spike_index']].astype('int')\n",
      "/home/halechr/repos/NeuroPy/neuropy/core/laps.py:70: SettingWithCopyWarning: \n",
      "A value is trying to be set on a copy of a slice from a DataFrame.\n",
      "Try using .loc[row_indexer,col_indexer] = value instead\n",
      "\n",
      "See the caveats in the documentation: https://pandas.pydata.org/pandas-docs/stable/user_guide/indexing.html#returning-a-view-versus-a-copy\n",
      "  laps_df['num_spikes'] = laps_df['end_spike_index'] - laps_df['start_spike_index']\n",
      "/home/halechr/repos/NeuroPy/neuropy/core/laps.py:73: SettingWithCopyWarning: \n",
      "A value is trying to be set on a copy of a slice from a DataFrame.\n",
      "Try using .loc[row_indexer,col_indexer] = value instead\n",
      "\n",
      "See the caveats in the documentation: https://pandas.pydata.org/pandas-docs/stable/user_guide/indexing.html#returning-a-view-versus-a-copy\n",
      "  laps_df['lap_dir'] = laps_df['lap_dir'].astype('int')\n"
     ]
    },
    {
     "name": "stdout",
     "output_type": "stream",
     "text": [
      "computing neurons mua for session...\n",
      "\n"
     ]
    },
    {
     "name": "stderr",
     "output_type": "stream",
     "text": [
      "/home/halechr/repos/NeuroPy/neuropy/core/laps.py:81: SettingWithCopyWarning: \n",
      "A value is trying to be set on a copy of a slice from a DataFrame.\n",
      "Try using .loc[row_indexer,col_indexer] = value instead\n",
      "\n",
      "See the caveats in the documentation: https://pandas.pydata.org/pandas-docs/stable/user_guide/indexing.html#returning-a-view-versus-a-copy\n",
      "  laps_df['label'] = laps_df['lap_id'].astype('str') # add the string \"label\" column\n"
     ]
    },
    {
     "name": "stdout",
     "output_type": "stream",
     "text": [
      "Applying session filter named \"maze\"...\n",
      "Constraining to epoch with times (start: 0.0, end: 530.2439119999763)\n",
      "Applying session filter named \"maze2\"...\n",
      "Constraining to epoch with times (start: 521.0076666191453, end: 854.7482555289753)\n",
      "computing neurons mua for session...\n",
      "\n",
      "due to includelist, including only 6 out of 16 registered computation functions.\n",
      "Recomputing active_epoch_placefields... computing neurons mua for session...\n",
      "Saving updated position results results : /nfs/turbo/umms-kdiba/Data/KDIBA/gor01/one/2006-6-09_1-22-43/2006-6-09_1-22-43.position.npy...\n",
      " 2006-6-09_1-22-43.position.npy saved\n"
     ]
    },
    {
     "name": "stderr",
     "output_type": "stream",
     "text": [
      "/home/halechr/repos/NeuroPy/neuropy/core/laps.py:65: SettingWithCopyWarning: \n",
      "A value is trying to be set on a copy of a slice from a DataFrame.\n",
      "Try using .loc[row_indexer,col_indexer] = value instead\n",
      "\n",
      "See the caveats in the documentation: https://pandas.pydata.org/pandas-docs/stable/user_guide/indexing.html#returning-a-view-versus-a-copy\n",
      "  laps_df[['lap_id']] = laps_df[['lap_id']].astype('int')\n"
     ]
    },
    {
     "name": "stdout",
     "output_type": "stream",
     "text": [
      "done."
     ]
    },
    {
     "name": "stderr",
     "output_type": "stream",
     "text": [
      "/home/halechr/repos/NeuroPy/neuropy/core/laps.py:69: SettingWithCopyWarning: \n",
      "A value is trying to be set on a copy of a slice from a DataFrame.\n",
      "Try using .loc[row_indexer,col_indexer] = value instead\n",
      "\n",
      "See the caveats in the documentation: https://pandas.pydata.org/pandas-docs/stable/user_guide/indexing.html#returning-a-view-versus-a-copy\n",
      "  laps_df[['start_spike_index', 'end_spike_index']] = laps_df[['start_spike_index', 'end_spike_index']].astype('int')\n"
     ]
    },
    {
     "name": "stdout",
     "output_type": "stream",
     "text": [
      "\n"
     ]
    },
    {
     "name": "stderr",
     "output_type": "stream",
     "text": [
      "/home/halechr/repos/NeuroPy/neuropy/core/laps.py:70: SettingWithCopyWarning: \n",
      "A value is trying to be set on a copy of a slice from a DataFrame.\n",
      "Try using .loc[row_indexer,col_indexer] = value instead\n",
      "\n",
      "See the caveats in the documentation: https://pandas.pydata.org/pandas-docs/stable/user_guide/indexing.html#returning-a-view-versus-a-copy\n",
      "  laps_df['num_spikes'] = laps_df['end_spike_index'] - laps_df['start_spike_index']\n"
     ]
    },
    {
     "name": "stdout",
     "output_type": "stream",
     "text": [
      "\t force_recompute is True! Forcing recomputation of .interpolated_spike_positions.npy\n"
     ]
    },
    {
     "name": "stderr",
     "output_type": "stream",
     "text": [
      "/home/halechr/repos/NeuroPy/neuropy/core/laps.py:73: SettingWithCopyWarning: \n",
      "A value is trying to be set on a copy of a slice from a DataFrame.\n",
      "Try using .loc[row_indexer,col_indexer] = value instead\n",
      "\n",
      "See the caveats in the documentation: https://pandas.pydata.org/pandas-docs/stable/user_guide/indexing.html#returning-a-view-versus-a-copy\n",
      "  laps_df['lap_dir'] = laps_df['lap_dir'].astype('int')\n"
     ]
    },
    {
     "name": "stdout",
     "output_type": "stream",
     "text": [
      "\n",
      "Computing interpolate_spike_positions columns results : spikes_df..."
     ]
    },
    {
     "name": "stderr",
     "output_type": "stream",
     "text": [
      "/home/halechr/repos/NeuroPy/neuropy/core/laps.py:81: SettingWithCopyWarning: \n",
      "A value is trying to be set on a copy of a slice from a DataFrame.\n",
      "Try using .loc[row_indexer,col_indexer] = value instead\n",
      "\n",
      "See the caveats in the documentation: https://pandas.pydata.org/pandas-docs/stable/user_guide/indexing.html#returning-a-view-versus-a-copy\n",
      "  laps_df['label'] = laps_df['lap_id'].astype('str') # add the string \"label\" column\n"
     ]
    },
    {
     "name": "stdout",
     "output_type": "stream",
     "text": [
      " Applying session filter named \"maze\"...\n",
      "Constraining to epoch with times (start: 0.0, end: 854.7482555289753)\n",
      "Loading success: /nfs/turbo/umms-kdiba/Data/KDIBA/gor01/one/2006-6-07_11-26-53/ripple_df.pkl.\n",
      "done.Failure loading .mua.npy. Must recompute.\n",
      "\n",
      "\t Saving updated interpolated spike position results results : /nfs/turbo/umms-kdiba/Data/KDIBA/gor01/one/2006-6-09_1-22-43/2006-6-09_1-22-43.interpolated_spike_positions.npy...\n",
      " computing neurons mua for session...\n",
      "\n",
      "computing neurons mua for session...\n",
      "\n",
      "\t curr_replays: 66\n",
      "skip_save_on_initial_load is True so resultant pipeline will not be saved to the pickle file.\n",
      "using provided computation_functions_name_includelist: ['_perform_baseline_placefield_computation', '_perform_extended_statistics_computation', '_perform_position_decoding_computation', '_perform_firing_rate_trends_computation', '_perform_pf_find_ratemap_peaks_computation', '_perform_two_step_position_decoding_computation']\n"
     ]
    },
    {
     "name": "stderr",
     "output_type": "stream",
     "text": [
      "/home/halechr/repos/NeuroPy/neuropy/core/laps.py:65: SettingWithCopyWarning: \n",
      "A value is trying to be set on a copy of a slice from a DataFrame.\n",
      "Try using .loc[row_indexer,col_indexer] = value instead\n",
      "\n",
      "See the caveats in the documentation: https://pandas.pydata.org/pandas-docs/stable/user_guide/indexing.html#returning-a-view-versus-a-copy\n",
      "  laps_df[['lap_id']] = laps_df[['lap_id']].astype('int')\n",
      "/home/halechr/repos/NeuroPy/neuropy/core/laps.py:69: SettingWithCopyWarning: \n",
      "A value is trying to be set on a copy of a slice from a DataFrame.\n",
      "Try using .loc[row_indexer,col_indexer] = value instead\n",
      "\n",
      "See the caveats in the documentation: https://pandas.pydata.org/pandas-docs/stable/user_guide/indexing.html#returning-a-view-versus-a-copy\n",
      "  laps_df[['start_spike_index', 'end_spike_index']] = laps_df[['start_spike_index', 'end_spike_index']].astype('int')\n",
      "/home/halechr/repos/NeuroPy/neuropy/core/laps.py:70: SettingWithCopyWarning: \n",
      "A value is trying to be set on a copy of a slice from a DataFrame.\n",
      "Try using .loc[row_indexer,col_indexer] = value instead\n",
      "\n",
      "See the caveats in the documentation: https://pandas.pydata.org/pandas-docs/stable/user_guide/indexing.html#returning-a-view-versus-a-copy\n",
      "  laps_df['num_spikes'] = laps_df['end_spike_index'] - laps_df['start_spike_index']\n",
      "/home/halechr/repos/NeuroPy/neuropy/core/laps.py:73: SettingWithCopyWarning: \n",
      "A value is trying to be set on a copy of a slice from a DataFrame.\n",
      "Try using .loc[row_indexer,col_indexer] = value instead\n",
      "\n",
      "See the caveats in the documentation: https://pandas.pydata.org/pandas-docs/stable/user_guide/indexing.html#returning-a-view-versus-a-copy\n",
      "  laps_df['lap_dir'] = laps_df['lap_dir'].astype('int')\n",
      "/home/halechr/repos/NeuroPy/neuropy/core/laps.py:81: SettingWithCopyWarning: \n",
      "A value is trying to be set on a copy of a slice from a DataFrame.\n",
      "Try using .loc[row_indexer,col_indexer] = value instead\n",
      "\n",
      "See the caveats in the documentation: https://pandas.pydata.org/pandas-docs/stable/user_guide/indexing.html#returning-a-view-versus-a-copy\n",
      "  laps_df['label'] = laps_df['lap_id'].astype('str') # add the string \"label\" column\n"
     ]
    },
    {
     "name": "stdout",
     "output_type": "stream",
     "text": [
      "Applying session filter named \"maze1\"...\n",
      "Constraining to epoch with times (start: 0.0, end: 656.0648088779999)\n",
      "due to includelist, including only 6 out of 16 registered computation functions.\n",
      "Recomputing active_epoch_placefields... Saving updated position results results : /nfs/turbo/umms-kdiba/Data/KDIBA/gor01/two/2006-6-08_15-46-47/2006-6-08_15-46-47.position.npy... computing neurons mua for session...\n",
      "\n",
      "Saving mua results results : /nfs/turbo/umms-kdiba/Data/KDIBA/gor01/one/2006-6-07_11-26-53/2006-6-07_11-26-53.mua.npy... 2006-6-08_15-46-47.position.npy saved\n"
     ]
    },
    {
     "name": "stderr",
     "output_type": "stream",
     "text": [
      "/home/halechr/repos/NeuroPy/neuropy/core/laps.py:65: SettingWithCopyWarning: \n",
      "A value is trying to be set on a copy of a slice from a DataFrame.\n",
      "Try using .loc[row_indexer,col_indexer] = value instead\n",
      "\n",
      "See the caveats in the documentation: https://pandas.pydata.org/pandas-docs/stable/user_guide/indexing.html#returning-a-view-versus-a-copy\n",
      "  laps_df[['lap_id']] = laps_df[['lap_id']].astype('int')\n"
     ]
    },
    {
     "name": "stdout",
     "output_type": "stream",
     "text": [
      "done.\n",
      "\t force_recompute is True! Forcing recomputation of .interpolated_spike_positions.npy\n",
      "\n",
      "Computing interpolate_spike_positions columns results : spikes_df... "
     ]
    },
    {
     "name": "stderr",
     "output_type": "stream",
     "text": [
      "/home/halechr/repos/NeuroPy/neuropy/core/laps.py:69: SettingWithCopyWarning: \n",
      "A value is trying to be set on a copy of a slice from a DataFrame.\n",
      "Try using .loc[row_indexer,col_indexer] = value instead\n",
      "\n",
      "See the caveats in the documentation: https://pandas.pydata.org/pandas-docs/stable/user_guide/indexing.html#returning-a-view-versus-a-copy\n",
      "  laps_df[['start_spike_index', 'end_spike_index']] = laps_df[['start_spike_index', 'end_spike_index']].astype('int')\n",
      "/home/halechr/repos/NeuroPy/neuropy/core/laps.py:70: SettingWithCopyWarning: \n",
      "A value is trying to be set on a copy of a slice from a DataFrame.\n",
      "Try using .loc[row_indexer,col_indexer] = value instead\n",
      "\n",
      "See the caveats in the documentation: https://pandas.pydata.org/pandas-docs/stable/user_guide/indexing.html#returning-a-view-versus-a-copy\n",
      "  laps_df['num_spikes'] = laps_df['end_spike_index'] - laps_df['start_spike_index']\n"
     ]
    },
    {
     "name": "stdout",
     "output_type": "stream",
     "text": [
      "2006-6-07_11-26-53.mua.npy saved"
     ]
    },
    {
     "name": "stderr",
     "output_type": "stream",
     "text": [
      "/home/halechr/repos/NeuroPy/neuropy/core/laps.py:73: SettingWithCopyWarning: \n",
      "A value is trying to be set on a copy of a slice from a DataFrame.\n",
      "Try using .loc[row_indexer,col_indexer] = value instead\n",
      "\n",
      "See the caveats in the documentation: https://pandas.pydata.org/pandas-docs/stable/user_guide/indexing.html#returning-a-view-versus-a-copy\n",
      "  laps_df['lap_dir'] = laps_df['lap_dir'].astype('int')\n"
     ]
    },
    {
     "name": "stdout",
     "output_type": "stream",
     "text": [
      "\n"
     ]
    },
    {
     "name": "stderr",
     "output_type": "stream",
     "text": [
      "/home/halechr/repos/NeuroPy/neuropy/core/laps.py:81: SettingWithCopyWarning: \n",
      "A value is trying to be set on a copy of a slice from a DataFrame.\n",
      "Try using .loc[row_indexer,col_indexer] = value instead\n",
      "\n",
      "See the caveats in the documentation: https://pandas.pydata.org/pandas-docs/stable/user_guide/indexing.html#returning-a-view-versus-a-copy\n",
      "  laps_df['label'] = laps_df['lap_id'].astype('str') # add the string \"label\" column\n"
     ]
    },
    {
     "name": "stdout",
     "output_type": "stream",
     "text": [
      "done.\n",
      "Failure loading .pbe.npy. Must recompute.\n",
      "Applying session filter named \"maze2\"...\n",
      "\n",
      "2006-6-09_1-22-43.interpolated_spike_positions.npy saved\n",
      "computing PBE epochs for session...\n",
      "\n",
      "Constraining to epoch with times (start: 656.0648088779999, end: 1122.1864874939201)\n",
      "done.done.\n",
      "\t Saving updated interpolated spike position results results : /nfs/turbo/umms-kdiba/Data/KDIBA/gor01/two/2006-6-08_15-46-47/2006-6-08_15-46-47.interpolated_spike_positions.npy... \n",
      "Loading matlab import file results : /nfs/turbo/umms-kdiba/Data/KDIBA/gor01/one/2006-6-09_1-22-43/2006-6-09_1-22-43.laps_info.mat... done.\n",
      "setting laps object.Saving updated position results results : /nfs/turbo/umms-kdiba/Data/KDIBA/gor01/one/2006-6-08_14-26-15/2006-6-08_14-26-15.position.npy...\n",
      "session.laps loaded successfully! \n",
      "Loading matlab import file results : /nfs/turbo/umms-kdiba/Data/KDIBA/gor01/one/2006-6-09_1-22-43/2006-6-09_1-22-43.replay_info.mat...2006-6-08_14-26-15.position.npy saved \n",
      "done.done.computing neurons mua for session...\n",
      "\n",
      "\n",
      "\n",
      "\t force_recompute is True! Forcing recomputation of .interpolated_spike_positions.npy\n",
      "\n",
      "session.replays loaded successfully!Computing interpolate_spike_positions columns results : spikes_df...\n",
      " "
     ]
    },
    {
     "name": "stderr",
     "output_type": "stream",
     "text": [
      "/home/halechr/repos/NeuroPy/neuropy/core/laps.py:65: SettingWithCopyWarning: \n",
      "A value is trying to be set on a copy of a slice from a DataFrame.\n",
      "Try using .loc[row_indexer,col_indexer] = value instead\n",
      "\n",
      "See the caveats in the documentation: https://pandas.pydata.org/pandas-docs/stable/user_guide/indexing.html#returning-a-view-versus-a-copy\n",
      "  laps_df[['lap_id']] = laps_df[['lap_id']].astype('int')\n",
      "/home/halechr/repos/NeuroPy/neuropy/core/laps.py:69: SettingWithCopyWarning: \n",
      "A value is trying to be set on a copy of a slice from a DataFrame.\n",
      "Try using .loc[row_indexer,col_indexer] = value instead\n",
      "\n",
      "See the caveats in the documentation: https://pandas.pydata.org/pandas-docs/stable/user_guide/indexing.html#returning-a-view-versus-a-copy\n",
      "  laps_df[['start_spike_index', 'end_spike_index']] = laps_df[['start_spike_index', 'end_spike_index']].astype('int')\n",
      "/home/halechr/repos/NeuroPy/neuropy/core/laps.py:70: SettingWithCopyWarning: \n",
      "A value is trying to be set on a copy of a slice from a DataFrame.\n",
      "Try using .loc[row_indexer,col_indexer] = value instead\n",
      "\n",
      "See the caveats in the documentation: https://pandas.pydata.org/pandas-docs/stable/user_guide/indexing.html#returning-a-view-versus-a-copy\n",
      "  laps_df['num_spikes'] = laps_df['end_spike_index'] - laps_df['start_spike_index']\n",
      "/home/halechr/repos/NeuroPy/neuropy/core/laps.py:73: SettingWithCopyWarning: \n",
      "A value is trying to be set on a copy of a slice from a DataFrame.\n",
      "Try using .loc[row_indexer,col_indexer] = value instead\n",
      "\n",
      "See the caveats in the documentation: https://pandas.pydata.org/pandas-docs/stable/user_guide/indexing.html#returning-a-view-versus-a-copy\n",
      "  laps_df['lap_dir'] = laps_df['lap_dir'].astype('int')\n",
      "/home/halechr/repos/NeuroPy/neuropy/core/laps.py:81: SettingWithCopyWarning: \n",
      "A value is trying to be set on a copy of a slice from a DataFrame.\n",
      "Try using .loc[row_indexer,col_indexer] = value instead\n",
      "\n",
      "See the caveats in the documentation: https://pandas.pydata.org/pandas-docs/stable/user_guide/indexing.html#returning-a-view-versus-a-copy\n",
      "  laps_df['label'] = laps_df['lap_id'].astype('str') # add the string \"label\" column\n"
     ]
    },
    {
     "name": "stdout",
     "output_type": "stream",
     "text": [
      "Saving pbe results results : /nfs/turbo/umms-kdiba/Data/KDIBA/gor01/one/2006-6-07_11-26-53/2006-6-07_11-26-53.pbe.npy...Applying session filter named \"maze\"... \n",
      "Constraining to epoch with times (start: 0.0, end: 1122.1864874939201)2006-6-07_11-26-53.pbe.npy saved\n",
      "\n",
      "done.\n",
      "done.\t Saving updated interpolated spike position results results : /nfs/turbo/umms-kdiba/Data/KDIBA/gor01/one/2006-6-08_14-26-15/2006-6-08_14-26-15.interpolated_spike_positions.npy... \n",
      "Computing spikes_df PBEs column results : spikes_df... Saving updated position results results : /nfs/turbo/umms-kdiba/Data/KDIBA/gor01/two/2006-6-07_16-40-19/2006-6-07_16-40-19.position.npy...2006-6-08_15-46-47.interpolated_spike_positions.npy saved\n",
      " done.\n",
      "Loading matlab import file results : /nfs/turbo/umms-kdiba/Data/KDIBA/gor01/two/2006-6-08_15-46-47/2006-6-08_15-46-47.laps_info.mat... 2006-6-07_16-40-19.position.npy saved\n",
      "done.done.\n",
      "setting laps object.\n",
      "\n",
      "\t force_recompute is True! Forcing recomputation of .interpolated_spike_positions.npy\n",
      "session.laps loaded successfully!\n",
      "Loading matlab import file results : /nfs/turbo/umms-kdiba/Data/KDIBA/gor01/two/2006-6-08_15-46-47/2006-6-08_15-46-47.replay_info.mat... \n",
      "Computing interpolate_spike_positions columns results : spikes_df... done.\n",
      "computing neurons mua for session...\n",
      "session.replays loaded successfully!using self.config.grid_bin_bounds_1D: (29.64642522460817, 257.8732552112081)\n",
      "\n",
      "\n",
      "\t done.done.\n",
      "\t Saving updated interpolated spike position results results : /nfs/turbo/umms-kdiba/Data/KDIBA/gor01/two/2006-6-07_16-40-19/2006-6-07_16-40-19.interpolated_spike_positions.npy...\n",
      " Recomputing active_epoch_placefields2D... due to includelist, including only 6 out of 16 registered computation functions.\n",
      "Recomputing active_epoch_placefields... Loading success: /nfs/turbo/umms-kdiba/Data/KDIBA/gor01/one/2006-6-09_1-22-43/ripple_df.pkl.\n",
      "2006-6-07_16-40-19.interpolated_spike_positions.npy saved\n",
      "done.\n",
      "Loading matlab import file results : /nfs/turbo/umms-kdiba/Data/KDIBA/gor01/two/2006-6-07_16-40-19/2006-6-07_16-40-19.laps_info.mat... done.\n",
      "setting laps object.\n",
      "session.laps loaded successfully!\n",
      "Loading matlab import file results : /nfs/turbo/umms-kdiba/Data/KDIBA/gor01/two/2006-6-07_16-40-19/2006-6-07_16-40-19.replay_info.mat...Loading success: /nfs/turbo/umms-kdiba/Data/KDIBA/gor01/two/2006-6-08_15-46-47/ripple_df.pkl. 2006-6-08_14-26-15.interpolated_spike_positions.npy saved\n",
      "\n",
      "done.\n",
      "Loading matlab import file results : /nfs/turbo/umms-kdiba/Data/KDIBA/gor01/one/2006-6-08_14-26-15/2006-6-08_14-26-15.laps_info.mat...done.\n",
      "session.replays loaded successfully!\n",
      " done.\n",
      "setting laps object.\n",
      "session.laps loaded successfully!\n",
      "Loading matlab import file results : /nfs/turbo/umms-kdiba/Data/KDIBA/gor01/one/2006-6-08_14-26-15/2006-6-08_14-26-15.replay_info.mat... done.\n",
      "session.replays loaded successfully!\n",
      "Failure loading .mua.npy. Must recompute.\n",
      "\n",
      "computing neurons mua for session...\n",
      "\n",
      "Loading success: /nfs/turbo/umms-kdiba/Data/KDIBA/gor01/two/2006-6-07_16-40-19/ripple_df.pkl.\n",
      "Failure loading .mua.npy. Must recompute.\n",
      "\n",
      "computing neurons mua for session...\n",
      "\n",
      "Saving mua results results : /nfs/turbo/umms-kdiba/Data/KDIBA/gor01/one/2006-6-09_1-22-43/2006-6-09_1-22-43.mua.npy... 2006-6-09_1-22-43.mua.npy saved\n",
      "Loading success: /nfs/turbo/umms-kdiba/Data/KDIBA/gor01/one/2006-6-08_14-26-15/ripple_df.pkl.done.\n",
      "\n",
      "Failure loading .pbe.npy. Must recompute.\n",
      "\n",
      "computing PBE epochs for session...\n",
      "\n",
      "Failure loading .mua.npy. Must recompute.\n",
      "\n",
      "computing neurons mua for session...\n",
      "\n",
      "Saving pbe results results : /nfs/turbo/umms-kdiba/Data/KDIBA/gor01/one/2006-6-09_1-22-43/2006-6-09_1-22-43.pbe.npy... 2006-6-09_1-22-43.pbe.npy saved\n",
      "done.Failure loading .mua.npy. Must recompute.\n",
      "\n",
      "Computing spikes_df PBEs column results : spikes_df...\n",
      " computing neurons mua for session...\n",
      "\n",
      "Saving mua results results : /nfs/turbo/umms-kdiba/Data/KDIBA/gor01/two/2006-6-08_15-46-47/2006-6-08_15-46-47.mua.npy... 2006-6-08_15-46-47.mua.npy saved\n",
      "done.\n",
      "Failure loading .pbe.npy. Must recompute.\n",
      "\n",
      "computing PBE epochs for session...\n",
      "\n",
      "using self.config.grid_bin_bounds: ((29.64642522460817, 257.8732552112081), (106.68603845428224, 146.71219371189815))\n",
      "\t done.\n",
      "using self.config.grid_bin_bounds_1D: (34.889907585004366, 250.88049171752402)\n",
      "\t done.\n",
      "Recomputing active_epoch_placefields2D... Saving mua results results : /nfs/turbo/umms-kdiba/Data/KDIBA/gor01/one/2006-6-08_14-26-15/2006-6-08_14-26-15.mua.npy... Saving pbe results results : /nfs/turbo/umms-kdiba/Data/KDIBA/gor01/two/2006-6-08_15-46-47/2006-6-08_15-46-47.pbe.npy... 2006-6-08_14-26-15.mua.npy saved2006-6-08_15-46-47.pbe.npy saved\n",
      "\n",
      "done.done.\n",
      "\n",
      "Failure loading .pbe.npy. Must recompute.\n",
      "\n",
      "computing PBE epochs for session...\n",
      "\n",
      "Computing spikes_df PBEs column results : spikes_df... Saving mua results results : /nfs/turbo/umms-kdiba/Data/KDIBA/gor01/two/2006-6-07_16-40-19/2006-6-07_16-40-19.mua.npy... 2006-6-07_16-40-19.mua.npy savedSaving pbe results results : /nfs/turbo/umms-kdiba/Data/KDIBA/gor01/one/2006-6-08_14-26-15/2006-6-08_14-26-15.pbe.npy...\n",
      "done. \n",
      "Failure loading .pbe.npy. Must recompute.\n",
      "\n",
      "2006-6-08_14-26-15.pbe.npy savedcomputing PBE epochs for session...\n",
      "\n",
      "done.\n",
      "\n",
      "Computing spikes_df PBEs column results : spikes_df... Saving pbe results results : /nfs/turbo/umms-kdiba/Data/KDIBA/gor01/two/2006-6-07_16-40-19/2006-6-07_16-40-19.pbe.npy... 2006-6-07_16-40-19.pbe.npy saved\n",
      "done.\n",
      "Computing spikes_df PBEs column results : spikes_df... using self.config.grid_bin_bounds_1D: (28.300282316379977, 259.7976187852487)\n",
      "\t done.\n",
      "Recomputing active_epoch_placefields2D... done.\n",
      "Computing added spike scISI column results : spikes_df... using self.config.grid_bin_bounds: ((34.889907585004366, 250.88049171752402), (131.38802948402946, 148.80548955773958))\n",
      "\t done.\n",
      "WARNING: PREVIOUSLY ASSERT: \n",
      "\t spikes_df[time_variable_name]: (11565,) should be less than time_window_edges: (15328,)!\n",
      "using self.config.grid_bin_bounds: ((28.300282316379977, 259.7976187852487), (128.30369397123394, 154.72988093974095))\n",
      "\t done.\n",
      "WARNING: PREVIOUSLY ASSERT: \n",
      "\t spikes_df[time_variable_name]: (11696,) should be less than time_window_edges: (18286,)!\n",
      "done.\n",
      "Computing added spike scISI column results : spikes_df... done.\n",
      "Computing added spike scISI column results : spikes_df... done.\n",
      "Computing added spike scISI column results : spikes_df... WARNING: PREVIOUSLY ASSERT: \n",
      "\t spikes_df[time_variable_name]: (11565,) should be less than time_window_edges: (15328,)!\n",
      "done.\n",
      "Computing added spike scISI column results : spikes_df... WARNING: PREVIOUSLY ASSERT: \n",
      "\t spikes_df[time_variable_name]: (11696,) should be less than time_window_edges: (18286,)!\n",
      "done.\n",
      "POSTLOAD_estimate_laps_and_replays()...\n",
      "sane_midpoint_x: 142.89384799991953, hardcoded_track_midpoint_x: None, track_min_max_x: (23.923329354140844, 261.8643666456982)\n",
      "hardcoded_track_midpoint_x is None, falling back to sane_midpoint_x... 142.89384799991953\n",
      "desc_crossings_x: (24,), asc_crossings_x: (24,)\n",
      "computing PBE epochs for session...\n",
      "\n",
      "done.\n",
      "POSTLOAD_estimate_laps_and_replays()...\n",
      "sane_midpoint_x: 137.10392337686363, hardcoded_track_midpoint_x: None, track_min_max_x: (16.848227546016247, 257.35961920771103)\n",
      "hardcoded_track_midpoint_x is None, falling back to sane_midpoint_x... 137.10392337686363\n",
      "desc_crossings_x: (21,), asc_crossings_x: (21,)\n",
      "computing PBE epochs for session...\n",
      "done.\n",
      "\n",
      "POSTLOAD_estimate_laps_and_replays()...\n",
      "sane_midpoint_x: 140.4096393106238, hardcoded_track_midpoint_x: None, track_min_max_x: (20.53900014070859, 260.280278480539)\n",
      "hardcoded_track_midpoint_x is None, falling back to sane_midpoint_x... 140.4096393106238\n",
      "desc_crossings_x: (43,), asc_crossings_x: (43,)\n",
      "done.\n",
      "POSTLOAD_estimate_laps_and_replays()...\n",
      "sane_midpoint_x: 137.60573860249627, hardcoded_track_midpoint_x: None, track_min_max_x: (18.67140495721134, 256.5400722477812)\n",
      "hardcoded_track_midpoint_x is None, falling back to sane_midpoint_x... 137.60573860249627\n",
      "desc_crossings_x: (41,), asc_crossings_x: (41,)\n",
      "computing PBE epochs for session...\n",
      "\n",
      "computing PBE epochs for session...\n",
      "\n",
      "done.\n",
      "POSTLOAD_estimate_laps_and_replays()...\n",
      "sane_midpoint_x: 142.21650629615837, hardcoded_track_midpoint_x: None, track_min_max_x: (22.736279243974774, 261.696733348342)\n",
      "hardcoded_track_midpoint_x is None, falling back to sane_midpoint_x... 142.21650629615837\n",
      "desc_crossings_x: (41,), asc_crossings_x: (41,)\n",
      "computing estimated replay epochs for session...\n",
      "\n",
      "\t using KnownFilterEpochs.PBE as surrogate replays...computing PBE epochs for session...\n",
      "\n",
      "\n",
      "computing estimated replay epochs for session...\n",
      "\n",
      "\t using KnownFilterEpochs.PBE as surrogate replays...\n",
      "computing estimated replay epochs for session...\n",
      "\n",
      "\t using KnownFilterEpochs.PBE as surrogate replays...\n",
      "computing estimated replay epochs for session...\n",
      "\n",
      "\t using KnownFilterEpochs.PBE as surrogate replays...\n",
      "\t curr_replays: 203\n",
      "skip_save_on_initial_load is True so resultant pipeline will not be saved to the pickle file.\n",
      "using provided computation_functions_name_includelist: ['_perform_baseline_placefield_computation', '_perform_extended_statistics_computation', '_perform_position_decoding_computation', '_perform_firing_rate_trends_computation', '_perform_pf_find_ratemap_peaks_computation', '_perform_two_step_position_decoding_computation']\n",
      "computing estimated replay epochs for session...\n",
      "\n",
      "\t using KnownFilterEpochs.PBE as surrogate replays...\n",
      "Applying session filter named \"maze1\"...\n",
      "Constraining to epoch with times (start: 0.0, end: 1029.316608761903)\n",
      "computing neurons mua for session...\n",
      "\n"
     ]
    },
    {
     "name": "stderr",
     "output_type": "stream",
     "text": [
      "/home/halechr/repos/NeuroPy/neuropy/core/laps.py:65: SettingWithCopyWarning: \n",
      "A value is trying to be set on a copy of a slice from a DataFrame.\n",
      "Try using .loc[row_indexer,col_indexer] = value instead\n",
      "\n",
      "See the caveats in the documentation: https://pandas.pydata.org/pandas-docs/stable/user_guide/indexing.html#returning-a-view-versus-a-copy\n",
      "  laps_df[['lap_id']] = laps_df[['lap_id']].astype('int')\n",
      "/home/halechr/repos/NeuroPy/neuropy/core/laps.py:69: SettingWithCopyWarning: \n",
      "A value is trying to be set on a copy of a slice from a DataFrame.\n",
      "Try using .loc[row_indexer,col_indexer] = value instead\n",
      "\n",
      "See the caveats in the documentation: https://pandas.pydata.org/pandas-docs/stable/user_guide/indexing.html#returning-a-view-versus-a-copy\n",
      "  laps_df[['start_spike_index', 'end_spike_index']] = laps_df[['start_spike_index', 'end_spike_index']].astype('int')\n",
      "/home/halechr/repos/NeuroPy/neuropy/core/laps.py:70: SettingWithCopyWarning: \n",
      "A value is trying to be set on a copy of a slice from a DataFrame.\n",
      "Try using .loc[row_indexer,col_indexer] = value instead\n",
      "\n",
      "See the caveats in the documentation: https://pandas.pydata.org/pandas-docs/stable/user_guide/indexing.html#returning-a-view-versus-a-copy\n",
      "  laps_df['num_spikes'] = laps_df['end_spike_index'] - laps_df['start_spike_index']\n",
      "/home/halechr/repos/NeuroPy/neuropy/core/laps.py:73: SettingWithCopyWarning: \n",
      "A value is trying to be set on a copy of a slice from a DataFrame.\n",
      "Try using .loc[row_indexer,col_indexer] = value instead\n",
      "\n",
      "See the caveats in the documentation: https://pandas.pydata.org/pandas-docs/stable/user_guide/indexing.html#returning-a-view-versus-a-copy\n",
      "  laps_df['lap_dir'] = laps_df['lap_dir'].astype('int')\n",
      "/home/halechr/repos/NeuroPy/neuropy/core/laps.py:81: SettingWithCopyWarning: \n",
      "A value is trying to be set on a copy of a slice from a DataFrame.\n",
      "Try using .loc[row_indexer,col_indexer] = value instead\n",
      "\n",
      "See the caveats in the documentation: https://pandas.pydata.org/pandas-docs/stable/user_guide/indexing.html#returning-a-view-versus-a-copy\n",
      "  laps_df['label'] = laps_df['lap_id'].astype('str') # add the string \"label\" column\n"
     ]
    },
    {
     "name": "stdout",
     "output_type": "stream",
     "text": [
      "Applying session filter named \"maze2\"...\n",
      "Constraining to epoch with times (start: 1029.316608761903, end: 1737.1968310000375)\n",
      "computing neurons mua for session...\n",
      "\n"
     ]
    },
    {
     "name": "stderr",
     "output_type": "stream",
     "text": [
      "/home/halechr/repos/NeuroPy/neuropy/utils/efficient_interval_search.py:596: RuntimeWarning: divide by zero encountered in double_scalars\n",
      "  epoch_split_spike_dfs_aclu_firingrates_Hz = [{an_aclu:(float(a_count)/trimmed_epoch_duration) for an_aclu, a_count in a_spike_count_dict.items()} for trimmed_epoch_duration, a_spike_count_dict in zip(spike_trimmed_active_epochs.durations, epoch_split_spike_dfs_aclu_spikecounts)] # just the non-zero aclus values: e.g. {108: 16.582832394938322, 36: 16.582832394938322, 34: 16.582832394938322, 66: 16.582832394938322, 58: 12.437124296203741, 74: 12.437124296203741, 51: 12.437124296203741, 23: 8.291416197469161, 57: 8.291416197469161, 32: 8.291416197469161, 63: 8.291416197469161, 11: 8.291416197469161, 73: 8.291416197469161, 88: 8.291416197469161, 16: 8.291416197469161, 31: 8.291416197469161, 13: 4.1457080987345805, 27: 4.1457080987345805, 10: 4.1457080987345805, 19: 4.1457080987345805, 25: 4.1457080987345805, 62: 4.1457080987345805, 59: 4.1457080987345805, 21: 4.1457080987345805, 98: 4.1457080987345805, 14: 4.1457080987345805}\n"
     ]
    },
    {
     "name": "stdout",
     "output_type": "stream",
     "text": [
      "\t curr_replays: 410\n",
      "skip_save_on_initial_load is True so resultant pipeline will not be saved to the pickle file.\n",
      "using provided computation_functions_name_includelist: ['_perform_baseline_placefield_computation', '_perform_extended_statistics_computation', '_perform_position_decoding_computation', '_perform_firing_rate_trends_computation', '_perform_pf_find_ratemap_peaks_computation', '_perform_two_step_position_decoding_computation']\n"
     ]
    },
    {
     "name": "stderr",
     "output_type": "stream",
     "text": [
      "/home/halechr/repos/NeuroPy/neuropy/core/laps.py:65: SettingWithCopyWarning: \n",
      "A value is trying to be set on a copy of a slice from a DataFrame.\n",
      "Try using .loc[row_indexer,col_indexer] = value instead\n",
      "\n",
      "See the caveats in the documentation: https://pandas.pydata.org/pandas-docs/stable/user_guide/indexing.html#returning-a-view-versus-a-copy\n",
      "  laps_df[['lap_id']] = laps_df[['lap_id']].astype('int')\n",
      "/home/halechr/repos/NeuroPy/neuropy/core/laps.py:69: SettingWithCopyWarning: \n",
      "A value is trying to be set on a copy of a slice from a DataFrame.\n",
      "Try using .loc[row_indexer,col_indexer] = value instead\n",
      "\n",
      "See the caveats in the documentation: https://pandas.pydata.org/pandas-docs/stable/user_guide/indexing.html#returning-a-view-versus-a-copy\n",
      "  laps_df[['start_spike_index', 'end_spike_index']] = laps_df[['start_spike_index', 'end_spike_index']].astype('int')\n",
      "/home/halechr/repos/NeuroPy/neuropy/core/laps.py:70: SettingWithCopyWarning: \n",
      "A value is trying to be set on a copy of a slice from a DataFrame.\n",
      "Try using .loc[row_indexer,col_indexer] = value instead\n",
      "\n",
      "See the caveats in the documentation: https://pandas.pydata.org/pandas-docs/stable/user_guide/indexing.html#returning-a-view-versus-a-copy\n",
      "  laps_df['num_spikes'] = laps_df['end_spike_index'] - laps_df['start_spike_index']\n",
      "/home/halechr/repos/NeuroPy/neuropy/core/laps.py:73: SettingWithCopyWarning: \n",
      "A value is trying to be set on a copy of a slice from a DataFrame.\n",
      "Try using .loc[row_indexer,col_indexer] = value instead\n",
      "\n",
      "See the caveats in the documentation: https://pandas.pydata.org/pandas-docs/stable/user_guide/indexing.html#returning-a-view-versus-a-copy\n",
      "  laps_df['lap_dir'] = laps_df['lap_dir'].astype('int')\n"
     ]
    },
    {
     "name": "stdout",
     "output_type": "stream",
     "text": [
      "Applying session filter named \"maze1\"..."
     ]
    },
    {
     "name": "stderr",
     "output_type": "stream",
     "text": [
      "/home/halechr/repos/NeuroPy/neuropy/core/laps.py:81: SettingWithCopyWarning: \n",
      "A value is trying to be set on a copy of a slice from a DataFrame.\n",
      "Try using .loc[row_indexer,col_indexer] = value instead\n",
      "\n",
      "See the caveats in the documentation: https://pandas.pydata.org/pandas-docs/stable/user_guide/indexing.html#returning-a-view-versus-a-copy\n",
      "  laps_df['label'] = laps_df['lap_id'].astype('str') # add the string \"label\" column\n"
     ]
    },
    {
     "name": "stdout",
     "output_type": "stream",
     "text": [
      "\n",
      "Constraining to epoch with times (start: 0.0, end: 1739.1533641185379)Applying session filter named \"maze\"...\n",
      "\n",
      "Constraining to epoch with times (start: 0.0, end: 1737.1968310000375)\n",
      "computing neurons mua for session...\n",
      "\n"
     ]
    },
    {
     "name": "stderr",
     "output_type": "stream",
     "text": [
      "/home/halechr/repos/NeuroPy/neuropy/core/laps.py:65: SettingWithCopyWarning: \n",
      "A value is trying to be set on a copy of a slice from a DataFrame.\n",
      "Try using .loc[row_indexer,col_indexer] = value instead\n",
      "\n",
      "See the caveats in the documentation: https://pandas.pydata.org/pandas-docs/stable/user_guide/indexing.html#returning-a-view-versus-a-copy\n",
      "  laps_df[['lap_id']] = laps_df[['lap_id']].astype('int')\n",
      "/home/halechr/repos/NeuroPy/neuropy/core/laps.py:69: SettingWithCopyWarning: \n",
      "A value is trying to be set on a copy of a slice from a DataFrame.\n",
      "Try using .loc[row_indexer,col_indexer] = value instead\n",
      "\n",
      "See the caveats in the documentation: https://pandas.pydata.org/pandas-docs/stable/user_guide/indexing.html#returning-a-view-versus-a-copy\n",
      "  laps_df[['start_spike_index', 'end_spike_index']] = laps_df[['start_spike_index', 'end_spike_index']].astype('int')\n",
      "/home/halechr/repos/NeuroPy/neuropy/core/laps.py:70: SettingWithCopyWarning: \n",
      "A value is trying to be set on a copy of a slice from a DataFrame.\n",
      "Try using .loc[row_indexer,col_indexer] = value instead\n",
      "\n",
      "See the caveats in the documentation: https://pandas.pydata.org/pandas-docs/stable/user_guide/indexing.html#returning-a-view-versus-a-copy\n",
      "  laps_df['num_spikes'] = laps_df['end_spike_index'] - laps_df['start_spike_index']\n",
      "/home/halechr/repos/NeuroPy/neuropy/core/laps.py:73: SettingWithCopyWarning: \n",
      "A value is trying to be set on a copy of a slice from a DataFrame.\n",
      "Try using .loc[row_indexer,col_indexer] = value instead\n",
      "\n",
      "See the caveats in the documentation: https://pandas.pydata.org/pandas-docs/stable/user_guide/indexing.html#returning-a-view-versus-a-copy\n",
      "  laps_df['lap_dir'] = laps_df['lap_dir'].astype('int')\n",
      "/home/halechr/repos/NeuroPy/neuropy/core/laps.py:81: SettingWithCopyWarning: \n",
      "A value is trying to be set on a copy of a slice from a DataFrame.\n",
      "Try using .loc[row_indexer,col_indexer] = value instead\n",
      "\n",
      "See the caveats in the documentation: https://pandas.pydata.org/pandas-docs/stable/user_guide/indexing.html#returning-a-view-versus-a-copy\n",
      "  laps_df['label'] = laps_df['lap_id'].astype('str') # add the string \"label\" column\n"
     ]
    },
    {
     "name": "stdout",
     "output_type": "stream",
     "text": [
      "Applying session filter named \"maze2\"...\n",
      "computing neurons mua for session...\n",
      "Constraining to epoch with times (start: 1739.1533641185379, end: 1932.4200048116618)\n",
      "\n",
      "computing neurons mua for session...\n",
      "\n"
     ]
    },
    {
     "name": "stderr",
     "output_type": "stream",
     "text": [
      "/home/halechr/repos/NeuroPy/neuropy/core/laps.py:65: SettingWithCopyWarning: \n",
      "A value is trying to be set on a copy of a slice from a DataFrame.\n",
      "Try using .loc[row_indexer,col_indexer] = value instead\n",
      "\n",
      "See the caveats in the documentation: https://pandas.pydata.org/pandas-docs/stable/user_guide/indexing.html#returning-a-view-versus-a-copy\n",
      "  laps_df[['lap_id']] = laps_df[['lap_id']].astype('int')\n",
      "/home/halechr/repos/NeuroPy/neuropy/core/laps.py:69: SettingWithCopyWarning: \n",
      "A value is trying to be set on a copy of a slice from a DataFrame.\n",
      "Try using .loc[row_indexer,col_indexer] = value instead\n",
      "\n",
      "See the caveats in the documentation: https://pandas.pydata.org/pandas-docs/stable/user_guide/indexing.html#returning-a-view-versus-a-copy\n",
      "  laps_df[['start_spike_index', 'end_spike_index']] = laps_df[['start_spike_index', 'end_spike_index']].astype('int')\n",
      "/home/halechr/repos/NeuroPy/neuropy/core/laps.py:70: SettingWithCopyWarning: \n",
      "A value is trying to be set on a copy of a slice from a DataFrame.\n",
      "Try using .loc[row_indexer,col_indexer] = value instead\n",
      "\n",
      "See the caveats in the documentation: https://pandas.pydata.org/pandas-docs/stable/user_guide/indexing.html#returning-a-view-versus-a-copy\n",
      "  laps_df['num_spikes'] = laps_df['end_spike_index'] - laps_df['start_spike_index']\n",
      "/home/halechr/repos/NeuroPy/neuropy/core/laps.py:73: SettingWithCopyWarning: \n",
      "A value is trying to be set on a copy of a slice from a DataFrame.\n",
      "Try using .loc[row_indexer,col_indexer] = value instead\n",
      "\n",
      "See the caveats in the documentation: https://pandas.pydata.org/pandas-docs/stable/user_guide/indexing.html#returning-a-view-versus-a-copy\n",
      "  laps_df['lap_dir'] = laps_df['lap_dir'].astype('int')\n",
      "/home/halechr/repos/NeuroPy/neuropy/core/laps.py:81: SettingWithCopyWarning: \n",
      "A value is trying to be set on a copy of a slice from a DataFrame.\n",
      "Try using .loc[row_indexer,col_indexer] = value instead\n",
      "\n",
      "See the caveats in the documentation: https://pandas.pydata.org/pandas-docs/stable/user_guide/indexing.html#returning-a-view-versus-a-copy\n",
      "  laps_df['label'] = laps_df['lap_id'].astype('str') # add the string \"label\" column\n"
     ]
    },
    {
     "name": "stdout",
     "output_type": "stream",
     "text": [
      "Applying session filter named \"maze\"...\n",
      "Constraining to epoch with times (start: 0.0, end: 1932.4200048116618)\n",
      "due to includelist, including only 6 out of 16 registered computation functions.\n",
      "Recomputing active_epoch_placefields... computing neurons mua for session...\n",
      "\n"
     ]
    },
    {
     "name": "stderr",
     "output_type": "stream",
     "text": [
      "/home/halechr/repos/NeuroPy/neuropy/core/laps.py:65: SettingWithCopyWarning: \n",
      "A value is trying to be set on a copy of a slice from a DataFrame.\n",
      "Try using .loc[row_indexer,col_indexer] = value instead\n",
      "\n",
      "See the caveats in the documentation: https://pandas.pydata.org/pandas-docs/stable/user_guide/indexing.html#returning-a-view-versus-a-copy\n",
      "  laps_df[['lap_id']] = laps_df[['lap_id']].astype('int')\n",
      "/home/halechr/repos/NeuroPy/neuropy/core/laps.py:69: SettingWithCopyWarning: \n",
      "A value is trying to be set on a copy of a slice from a DataFrame.\n",
      "Try using .loc[row_indexer,col_indexer] = value instead\n",
      "\n",
      "See the caveats in the documentation: https://pandas.pydata.org/pandas-docs/stable/user_guide/indexing.html#returning-a-view-versus-a-copy\n",
      "  laps_df[['start_spike_index', 'end_spike_index']] = laps_df[['start_spike_index', 'end_spike_index']].astype('int')\n",
      "/home/halechr/repos/NeuroPy/neuropy/core/laps.py:70: SettingWithCopyWarning: \n",
      "A value is trying to be set on a copy of a slice from a DataFrame.\n",
      "Try using .loc[row_indexer,col_indexer] = value instead\n",
      "\n",
      "See the caveats in the documentation: https://pandas.pydata.org/pandas-docs/stable/user_guide/indexing.html#returning-a-view-versus-a-copy\n",
      "  laps_df['num_spikes'] = laps_df['end_spike_index'] - laps_df['start_spike_index']\n",
      "/home/halechr/repos/NeuroPy/neuropy/core/laps.py:73: SettingWithCopyWarning: \n",
      "A value is trying to be set on a copy of a slice from a DataFrame.\n",
      "Try using .loc[row_indexer,col_indexer] = value instead\n",
      "\n",
      "See the caveats in the documentation: https://pandas.pydata.org/pandas-docs/stable/user_guide/indexing.html#returning-a-view-versus-a-copy\n",
      "  laps_df['lap_dir'] = laps_df['lap_dir'].astype('int')\n",
      "/home/halechr/repos/NeuroPy/neuropy/core/laps.py:81: SettingWithCopyWarning: \n",
      "A value is trying to be set on a copy of a slice from a DataFrame.\n",
      "Try using .loc[row_indexer,col_indexer] = value instead\n",
      "\n",
      "See the caveats in the documentation: https://pandas.pydata.org/pandas-docs/stable/user_guide/indexing.html#returning-a-view-versus-a-copy\n",
      "  laps_df['label'] = laps_df['lap_id'].astype('str') # add the string \"label\" column\n"
     ]
    },
    {
     "name": "stdout",
     "output_type": "stream",
     "text": [
      "due to includelist, including only 6 out of 16 registered computation functions.\n",
      "Recomputing active_epoch_placefields... \t curr_replays: 402\n",
      "skip_save_on_initial_load is True so resultant pipeline will not be saved to the pickle file.\n",
      "using provided computation_functions_name_includelist: ['_perform_baseline_placefield_computation', '_perform_extended_statistics_computation', '_perform_position_decoding_computation', '_perform_firing_rate_trends_computation', '_perform_pf_find_ratemap_peaks_computation', '_perform_two_step_position_decoding_computation']\n",
      "Applying session filter named \"maze1\"...\n",
      "Constraining to epoch with times (start: 0.0, end: 2418.679292062996)\n",
      "\t curr_replays: 389\n",
      "skip_save_on_initial_load is True so resultant pipeline will not be saved to the pickle file.\n",
      "using provided computation_functions_name_includelist: ['_perform_baseline_placefield_computation', '_perform_extended_statistics_computation', '_perform_position_decoding_computation', '_perform_firing_rate_trends_computation', '_perform_pf_find_ratemap_peaks_computation', '_perform_two_step_position_decoding_computation']\n",
      "Applying session filter named \"maze1\"...\n",
      "Constraining to epoch with times (start: 0.0, end: 1236.2662453636294)\n",
      "computing neurons mua for session...\n",
      "\n",
      "using self.config.grid_bin_bounds_1D: (38.73738238974907, 252.7760510005677)\n",
      "\t done.\n",
      "Recomputing active_epoch_placefields2D... computing neurons mua for session...\n",
      "\n",
      "Applying session filter named \"maze2\"...\n",
      "Constraining to epoch with times (start: 2418.679292062996, end: 2642.663178000017)\n",
      "using self.config.grid_bin_bounds_1D: (28.54313873072426, 255.54313873072425)\n"
     ]
    },
    {
     "name": "stderr",
     "output_type": "stream",
     "text": [
      "/home/halechr/repos/NeuroPy/neuropy/core/laps.py:65: SettingWithCopyWarning: \n",
      "A value is trying to be set on a copy of a slice from a DataFrame.\n",
      "Try using .loc[row_indexer,col_indexer] = value instead\n",
      "\n",
      "See the caveats in the documentation: https://pandas.pydata.org/pandas-docs/stable/user_guide/indexing.html#returning-a-view-versus-a-copy\n",
      "  laps_df[['lap_id']] = laps_df[['lap_id']].astype('int')\n",
      "/home/halechr/repos/NeuroPy/neuropy/core/laps.py:69: SettingWithCopyWarning: \n",
      "A value is trying to be set on a copy of a slice from a DataFrame.\n",
      "Try using .loc[row_indexer,col_indexer] = value instead\n",
      "\n",
      "See the caveats in the documentation: https://pandas.pydata.org/pandas-docs/stable/user_guide/indexing.html#returning-a-view-versus-a-copy\n",
      "  laps_df[['start_spike_index', 'end_spike_index']] = laps_df[['start_spike_index', 'end_spike_index']].astype('int')\n",
      "/home/halechr/repos/NeuroPy/neuropy/core/laps.py:70: SettingWithCopyWarning: \n",
      "A value is trying to be set on a copy of a slice from a DataFrame.\n",
      "Try using .loc[row_indexer,col_indexer] = value instead\n",
      "\n",
      "See the caveats in the documentation: https://pandas.pydata.org/pandas-docs/stable/user_guide/indexing.html#returning-a-view-versus-a-copy\n",
      "  laps_df['num_spikes'] = laps_df['end_spike_index'] - laps_df['start_spike_index']\n",
      "/home/halechr/repos/NeuroPy/neuropy/core/laps.py:73: SettingWithCopyWarning: \n",
      "A value is trying to be set on a copy of a slice from a DataFrame.\n",
      "Try using .loc[row_indexer,col_indexer] = value instead\n",
      "\n",
      "See the caveats in the documentation: https://pandas.pydata.org/pandas-docs/stable/user_guide/indexing.html#returning-a-view-versus-a-copy\n",
      "  laps_df['lap_dir'] = laps_df['lap_dir'].astype('int')\n",
      "/home/halechr/repos/NeuroPy/neuropy/core/laps.py:81: SettingWithCopyWarning: \n",
      "A value is trying to be set on a copy of a slice from a DataFrame.\n",
      "Try using .loc[row_indexer,col_indexer] = value instead\n",
      "\n",
      "See the caveats in the documentation: https://pandas.pydata.org/pandas-docs/stable/user_guide/indexing.html#returning-a-view-versus-a-copy\n",
      "  laps_df['label'] = laps_df['lap_id'].astype('str') # add the string \"label\" column\n"
     ]
    },
    {
     "name": "stdout",
     "output_type": "stream",
     "text": [
      "\t done.\n",
      "Recomputing active_epoch_placefields2D... Applying session filter named \"maze2\"...\n",
      "Constraining to epoch with times (start: 1236.2662453636294, end: 2587.801681999932)\n",
      "computing neurons mua for session...\n",
      "\n",
      "Applying session filter named \"maze\"...\n",
      "Constraining to epoch with times (start: 0.0, end: 2642.663178000017)\n",
      "computing neurons mua for session...\n",
      "\n"
     ]
    },
    {
     "name": "stderr",
     "output_type": "stream",
     "text": [
      "/home/halechr/repos/pyPhoPlaceCellAnalysis/src/pyphoplacecellanalysis/Analysis/Decoder/reconstruction.py:326: RuntimeWarning: invalid value encountered in divide\n",
      "  posterior /= np.sum(posterior, axis=0) # C(tau, n) = np.sum(posterior, axis=0): normalization condition mentioned in eqn 36 to convert to P_x_given_n\n",
      "/home/halechr/repos/NeuroPy/neuropy/core/laps.py:65: SettingWithCopyWarning: \n",
      "A value is trying to be set on a copy of a slice from a DataFrame.\n",
      "Try using .loc[row_indexer,col_indexer] = value instead\n",
      "\n",
      "See the caveats in the documentation: https://pandas.pydata.org/pandas-docs/stable/user_guide/indexing.html#returning-a-view-versus-a-copy\n",
      "  laps_df[['lap_id']] = laps_df[['lap_id']].astype('int')\n",
      "/home/halechr/repos/NeuroPy/neuropy/core/laps.py:69: SettingWithCopyWarning: \n",
      "A value is trying to be set on a copy of a slice from a DataFrame.\n",
      "Try using .loc[row_indexer,col_indexer] = value instead\n",
      "\n",
      "See the caveats in the documentation: https://pandas.pydata.org/pandas-docs/stable/user_guide/indexing.html#returning-a-view-versus-a-copy\n",
      "  laps_df[['start_spike_index', 'end_spike_index']] = laps_df[['start_spike_index', 'end_spike_index']].astype('int')\n",
      "/home/halechr/repos/NeuroPy/neuropy/core/laps.py:70: SettingWithCopyWarning: \n",
      "A value is trying to be set on a copy of a slice from a DataFrame.\n",
      "Try using .loc[row_indexer,col_indexer] = value instead\n",
      "\n",
      "See the caveats in the documentation: https://pandas.pydata.org/pandas-docs/stable/user_guide/indexing.html#returning-a-view-versus-a-copy\n",
      "  laps_df['num_spikes'] = laps_df['end_spike_index'] - laps_df['start_spike_index']\n",
      "/home/halechr/repos/NeuroPy/neuropy/core/laps.py:73: SettingWithCopyWarning: \n",
      "A value is trying to be set on a copy of a slice from a DataFrame.\n",
      "Try using .loc[row_indexer,col_indexer] = value instead\n",
      "\n",
      "See the caveats in the documentation: https://pandas.pydata.org/pandas-docs/stable/user_guide/indexing.html#returning-a-view-versus-a-copy\n",
      "  laps_df['lap_dir'] = laps_df['lap_dir'].astype('int')\n",
      "/home/halechr/repos/NeuroPy/neuropy/core/laps.py:81: SettingWithCopyWarning: \n",
      "A value is trying to be set on a copy of a slice from a DataFrame.\n",
      "Try using .loc[row_indexer,col_indexer] = value instead\n",
      "\n",
      "See the caveats in the documentation: https://pandas.pydata.org/pandas-docs/stable/user_guide/indexing.html#returning-a-view-versus-a-copy\n",
      "  laps_df['label'] = laps_df['lap_id'].astype('str') # add the string \"label\" column\n"
     ]
    },
    {
     "name": "stdout",
     "output_type": "stream",
     "text": [
      "Applying session filter named \"maze\"...\n",
      "Constraining to epoch with times (start: 0.0, end: 2587.801681999932)\n"
     ]
    },
    {
     "name": "stderr",
     "output_type": "stream",
     "text": [
      "/home/halechr/repos/pyPhoPlaceCellAnalysis/src/pyphoplacecellanalysis/Analysis/Decoder/reconstruction.py:363: RuntimeWarning: divide by zero encountered in divide\n",
      "  return C * np.exp(numerator/denominator)\n"
     ]
    },
    {
     "name": "stdout",
     "output_type": "stream",
     "text": [
      "computing neurons mua for session...\n",
      "\n",
      "computing neurons mua for session...\n",
      "\n",
      "using self.config.grid_bin_bounds: ((38.73738238974907, 252.7760510005677), (132.90403388034895, 148.5092041989809))\n",
      "\t done.\n",
      "WARNING: PREVIOUSLY ASSERT: \n",
      "\t spikes_df[time_variable_name]: (13096,) should be less than time_window_edges: (51092,)!\n",
      "\t curr_replays: 379\n",
      "due to includelist, including only 6 out of 16 registered computation functions.skip_save_on_initial_load is True so resultant pipeline will not be saved to the pickle file.\n",
      "\n",
      "due to includelist, including only 6 out of 16 registered computation functions.Recomputing active_epoch_placefields... \n",
      "Recomputing active_epoch_placefields...using provided computation_functions_name_includelist: ['_perform_baseline_placefield_computation', '_perform_extended_statistics_computation', '_perform_position_decoding_computation', '_perform_firing_rate_trends_computation', '_perform_pf_find_ratemap_peaks_computation', '_perform_two_step_position_decoding_computation'] \n",
      "Applying session filter named \"maze1\"...\n",
      "Constraining to epoch with times (start: 0.0, end: 1211.5580800310709)\n",
      "computing neurons mua for session...\n",
      "\n"
     ]
    },
    {
     "name": "stderr",
     "output_type": "stream",
     "text": [
      "/home/halechr/repos/NeuroPy/neuropy/core/laps.py:65: SettingWithCopyWarning: \n",
      "A value is trying to be set on a copy of a slice from a DataFrame.\n",
      "Try using .loc[row_indexer,col_indexer] = value instead\n",
      "\n",
      "See the caveats in the documentation: https://pandas.pydata.org/pandas-docs/stable/user_guide/indexing.html#returning-a-view-versus-a-copy\n",
      "  laps_df[['lap_id']] = laps_df[['lap_id']].astype('int')\n",
      "/home/halechr/repos/NeuroPy/neuropy/core/laps.py:69: SettingWithCopyWarning: \n",
      "A value is trying to be set on a copy of a slice from a DataFrame.\n",
      "Try using .loc[row_indexer,col_indexer] = value instead\n",
      "\n",
      "See the caveats in the documentation: https://pandas.pydata.org/pandas-docs/stable/user_guide/indexing.html#returning-a-view-versus-a-copy\n",
      "  laps_df[['start_spike_index', 'end_spike_index']] = laps_df[['start_spike_index', 'end_spike_index']].astype('int')\n",
      "/home/halechr/repos/NeuroPy/neuropy/core/laps.py:70: SettingWithCopyWarning: \n",
      "A value is trying to be set on a copy of a slice from a DataFrame.\n",
      "Try using .loc[row_indexer,col_indexer] = value instead\n",
      "\n",
      "See the caveats in the documentation: https://pandas.pydata.org/pandas-docs/stable/user_guide/indexing.html#returning-a-view-versus-a-copy\n",
      "  laps_df['num_spikes'] = laps_df['end_spike_index'] - laps_df['start_spike_index']\n",
      "/home/halechr/repos/NeuroPy/neuropy/core/laps.py:73: SettingWithCopyWarning: \n",
      "A value is trying to be set on a copy of a slice from a DataFrame.\n",
      "Try using .loc[row_indexer,col_indexer] = value instead\n",
      "\n",
      "See the caveats in the documentation: https://pandas.pydata.org/pandas-docs/stable/user_guide/indexing.html#returning-a-view-versus-a-copy\n",
      "  laps_df['lap_dir'] = laps_df['lap_dir'].astype('int')\n",
      "/home/halechr/repos/NeuroPy/neuropy/core/laps.py:81: SettingWithCopyWarning: \n",
      "A value is trying to be set on a copy of a slice from a DataFrame.\n",
      "Try using .loc[row_indexer,col_indexer] = value instead\n",
      "\n",
      "See the caveats in the documentation: https://pandas.pydata.org/pandas-docs/stable/user_guide/indexing.html#returning-a-view-versus-a-copy\n",
      "  laps_df['label'] = laps_df['lap_id'].astype('str') # add the string \"label\" column\n"
     ]
    },
    {
     "name": "stdout",
     "output_type": "stream",
     "text": [
      "Applying session filter named \"maze2\"...\n",
      "Constraining to epoch with times (start: 1211.5580800310709, end: 2093.8978568242164)\n",
      "using self.config.grid_bin_bounds: ((28.54313873072426, 255.54313873072425), (-56.2405385510412, -12.237798967230454))\n"
     ]
    },
    {
     "name": "stderr",
     "output_type": "stream",
     "text": [
      "/home/halechr/repos/NeuroPy/neuropy/analyses/placefields.py:198: RuntimeWarning: invalid value encountered in divide\n",
      "  normalized_occupancy = raw_occupancy / np.nansum(raw_occupancy) # the normalized occupancy determines the relative number of samples spent in each bin\n"
     ]
    },
    {
     "name": "stdout",
     "output_type": "stream",
     "text": [
      "\t done.\n",
      "WARNING: PREVIOUSLY ASSERT: \n",
      "\t spikes_df[time_variable_name]: (28101,) should be less than time_window_edges: (30442,)!\n",
      "computing neurons mua for session...\n",
      "\n"
     ]
    },
    {
     "name": "stderr",
     "output_type": "stream",
     "text": [
      "/home/halechr/repos/NeuroPy/neuropy/core/laps.py:65: SettingWithCopyWarning: \n",
      "A value is trying to be set on a copy of a slice from a DataFrame.\n",
      "Try using .loc[row_indexer,col_indexer] = value instead\n",
      "\n",
      "See the caveats in the documentation: https://pandas.pydata.org/pandas-docs/stable/user_guide/indexing.html#returning-a-view-versus-a-copy\n",
      "  laps_df[['lap_id']] = laps_df[['lap_id']].astype('int')\n",
      "/home/halechr/repos/NeuroPy/neuropy/core/laps.py:69: SettingWithCopyWarning: \n",
      "A value is trying to be set on a copy of a slice from a DataFrame.\n",
      "Try using .loc[row_indexer,col_indexer] = value instead\n",
      "\n",
      "See the caveats in the documentation: https://pandas.pydata.org/pandas-docs/stable/user_guide/indexing.html#returning-a-view-versus-a-copy\n",
      "  laps_df[['start_spike_index', 'end_spike_index']] = laps_df[['start_spike_index', 'end_spike_index']].astype('int')\n",
      "/home/halechr/repos/NeuroPy/neuropy/core/laps.py:70: SettingWithCopyWarning: \n",
      "A value is trying to be set on a copy of a slice from a DataFrame.\n",
      "Try using .loc[row_indexer,col_indexer] = value instead\n",
      "\n",
      "See the caveats in the documentation: https://pandas.pydata.org/pandas-docs/stable/user_guide/indexing.html#returning-a-view-versus-a-copy\n",
      "  laps_df['num_spikes'] = laps_df['end_spike_index'] - laps_df['start_spike_index']\n",
      "/home/halechr/repos/NeuroPy/neuropy/core/laps.py:73: SettingWithCopyWarning: \n",
      "A value is trying to be set on a copy of a slice from a DataFrame.\n",
      "Try using .loc[row_indexer,col_indexer] = value instead\n",
      "\n",
      "See the caveats in the documentation: https://pandas.pydata.org/pandas-docs/stable/user_guide/indexing.html#returning-a-view-versus-a-copy\n",
      "  laps_df['lap_dir'] = laps_df['lap_dir'].astype('int')\n",
      "/home/halechr/repos/NeuroPy/neuropy/core/laps.py:81: SettingWithCopyWarning: \n",
      "A value is trying to be set on a copy of a slice from a DataFrame.\n",
      "Try using .loc[row_indexer,col_indexer] = value instead\n",
      "\n",
      "See the caveats in the documentation: https://pandas.pydata.org/pandas-docs/stable/user_guide/indexing.html#returning-a-view-versus-a-copy\n",
      "  laps_df['label'] = laps_df['lap_id'].astype('str') # add the string \"label\" column\n"
     ]
    },
    {
     "name": "stdout",
     "output_type": "stream",
     "text": [
      "Applying session filter named \"maze\"...\n",
      "Constraining to epoch with times (start: 0.0, end: 2093.8978568242164)\n"
     ]
    },
    {
     "name": "stderr",
     "output_type": "stream",
     "text": [
      "/home/halechr/repos/pyPhoPlaceCellAnalysis/src/pyphoplacecellanalysis/Analysis/Decoder/reconstruction.py:363: RuntimeWarning: divide by zero encountered in divide\n",
      "  return C * np.exp(numerator/denominator)\n"
     ]
    },
    {
     "name": "stdout",
     "output_type": "stream",
     "text": [
      "using self.config.grid_bin_bounds_1D: (37.58127153781621, 248.7032779553949)\n",
      "computing neurons mua for session...\n",
      "\n",
      "\t done.\n",
      "Recomputing active_epoch_placefields2D... using self.config.grid_bin_bounds_1D: (22.397021260868584, 245.6584673739576)\n",
      "\t done.\n",
      "Recomputing active_epoch_placefields2D... "
     ]
    },
    {
     "name": "stderr",
     "output_type": "stream",
     "text": [
      "/home/halechr/repos/NeuroPy/neuropy/core/laps.py:65: SettingWithCopyWarning: \n",
      "A value is trying to be set on a copy of a slice from a DataFrame.\n",
      "Try using .loc[row_indexer,col_indexer] = value instead\n",
      "\n",
      "See the caveats in the documentation: https://pandas.pydata.org/pandas-docs/stable/user_guide/indexing.html#returning-a-view-versus-a-copy\n",
      "  laps_df[['lap_id']] = laps_df[['lap_id']].astype('int')\n",
      "/home/halechr/repos/NeuroPy/neuropy/core/laps.py:69: SettingWithCopyWarning: \n",
      "A value is trying to be set on a copy of a slice from a DataFrame.\n",
      "Try using .loc[row_indexer,col_indexer] = value instead\n",
      "\n",
      "See the caveats in the documentation: https://pandas.pydata.org/pandas-docs/stable/user_guide/indexing.html#returning-a-view-versus-a-copy\n",
      "  laps_df[['start_spike_index', 'end_spike_index']] = laps_df[['start_spike_index', 'end_spike_index']].astype('int')\n",
      "/home/halechr/repos/NeuroPy/neuropy/core/laps.py:70: SettingWithCopyWarning: \n",
      "A value is trying to be set on a copy of a slice from a DataFrame.\n",
      "Try using .loc[row_indexer,col_indexer] = value instead\n",
      "\n",
      "See the caveats in the documentation: https://pandas.pydata.org/pandas-docs/stable/user_guide/indexing.html#returning-a-view-versus-a-copy\n",
      "  laps_df['num_spikes'] = laps_df['end_spike_index'] - laps_df['start_spike_index']\n",
      "/home/halechr/repos/NeuroPy/neuropy/core/laps.py:73: SettingWithCopyWarning: \n",
      "A value is trying to be set on a copy of a slice from a DataFrame.\n",
      "Try using .loc[row_indexer,col_indexer] = value instead\n",
      "\n",
      "See the caveats in the documentation: https://pandas.pydata.org/pandas-docs/stable/user_guide/indexing.html#returning-a-view-versus-a-copy\n",
      "  laps_df['lap_dir'] = laps_df['lap_dir'].astype('int')\n",
      "/home/halechr/repos/NeuroPy/neuropy/core/laps.py:81: SettingWithCopyWarning: \n",
      "A value is trying to be set on a copy of a slice from a DataFrame.\n",
      "Try using .loc[row_indexer,col_indexer] = value instead\n",
      "\n",
      "See the caveats in the documentation: https://pandas.pydata.org/pandas-docs/stable/user_guide/indexing.html#returning-a-view-versus-a-copy\n",
      "  laps_df['label'] = laps_df['lap_id'].astype('str') # add the string \"label\" column\n"
     ]
    },
    {
     "name": "stdout",
     "output_type": "stream",
     "text": [
      "due to includelist, including only 6 out of 16 registered computation functions.\n",
      "Recomputing active_epoch_placefields... two_step_decoder_result['most_likely_position_flat_max_likelihood_values'].shape = (15479,)\n",
      "using self.config.grid_bin_bounds: ((37.58127153781621, 248.7032779553949), (133.5550653393467, 147.88514770982718))\n",
      "\t done.\n",
      "WARNING: PREVIOUSLY ASSERT: \n",
      "\t spikes_df[time_variable_name]: (17312,) should be less than time_window_edges: (58933,)!\n",
      "using self.config.grid_bin_bounds: ((22.397021260868584, 245.6584673739576), (133.66465594522782, 155.97244934208123))\n",
      "\t done.\n",
      "WARNING: PREVIOUSLY ASSERT: \n",
      "\t spikes_df[time_variable_name]: (18768,) should be less than time_window_edges: (35780,)!\n",
      "using self.config.grid_bin_bounds_1D: (25.5637332724328, 257.964172947664)\n",
      "\t done.\n",
      "Recomputing active_epoch_placefields2D... WARNING: PREVIOUSLY ASSERT: \n",
      "\t spikes_df[time_variable_name]: (13096,) should be less than time_window_edges: (51092,)!\n",
      "due to includelist, including only 6 out of 16 registered computation functions.\n",
      "Recomputing active_epoch_placefields... using self.config.grid_bin_bounds_1D: (34.889907585004366, 250.88049171752402)\n",
      "\t done.\n",
      "Recomputing active_epoch_placefields2D... using self.config.grid_bin_bounds: ((25.5637332724328, 257.964172947664), (89.1844223602494, 131.92462510535915))\n",
      "tuning_curves_ndim: 0 not implemented!\t done.\n",
      "\n",
      "WARNING: PREVIOUSLY ASSERT: \n",
      "\t spikes_df[time_variable_name]: (27562,) should be less than time_window_edges: (35889,)!\n",
      "WARNING: PREVIOUSLY ASSERT: \n",
      "\t spikes_df[time_variable_name]: (18768,) should be less than time_window_edges: (35780,)!\n",
      "two_step_decoder_result['most_likely_position_flat_max_likelihood_values'].shape = (18467,)\n",
      "using self.config.grid_bin_bounds: ((34.889907585004366, 250.88049171752402), (131.38802948402946, 148.80548955773958))\n",
      "\t done.\n",
      "due to includelist, including only 6 out of 16 registered computation functions.\n",
      "Recomputing active_epoch_placefields... WARNING: PREVIOUSLY ASSERT: \n",
      "\t spikes_df[time_variable_name]: (17312,) should be less than time_window_edges: (58933,)!\n",
      "due to includelist, including only 6 out of 16 registered computation functions.\n",
      "Recomputing active_epoch_placefields... using self.config.grid_bin_bounds_1D: (28.54313873072426, 255.54313873072425)\n",
      "\t done.\n",
      "Recomputing active_epoch_placefields2D... using self.config.grid_bin_bounds_1D: (28.300282316379977, 259.7976187852487)\n",
      "\t done.\n",
      "Recomputing active_epoch_placefields2D... using self.config.grid_bin_bounds: ((28.300282316379977, 259.7976187852487), (128.30369397123394, 154.72988093974095))\n",
      "\t done.\n",
      "WARNING: PREVIOUSLY ASSERT: \n",
      "\t spikes_df[time_variable_name]: (8515,) should be less than time_window_edges: (12817,)!\n",
      "using self.config.grid_bin_bounds: ((28.54313873072426, 255.54313873072425), (-56.2405385510412, -12.237798967230454))\n",
      "\t done.\n",
      "WARNING: PREVIOUSLY ASSERT: \n",
      "\t spikes_df[time_variable_name]: (8515,) should be less than time_window_edges: (12817,)!\n",
      "WARNING: PREVIOUSLY ASSERT: \n",
      "\t spikes_df[time_variable_name]: (27562,) should be less than time_window_edges: (35889,)!\n",
      "tuning_curves_ndim: 0 not implemented!\n",
      "due to includelist, including only 6 out of 16 registered computation functions.\n",
      "Recomputing active_epoch_placefields... two_step_decoder_result['most_likely_position_flat_max_likelihood_values'].shape = (9483,)\n",
      "due to includelist, including only 6 out of 16 registered computation functions.\n",
      "Recomputing active_epoch_placefields... using self.config.grid_bin_bounds_1D: (28.54313873072426, 255.54313873072425)\n",
      "\t done.\n",
      "Recomputing active_epoch_placefields2D... using self.config.grid_bin_bounds_1D: (34.889907585004366, 250.88049171752402)\n",
      "\t done.\n",
      "Recomputing active_epoch_placefields2D... using self.config.grid_bin_bounds: ((28.54313873072426, 255.54313873072425), (-56.2405385510412, -12.237798967230454))\n",
      "\t done.\n",
      "WARNING: PREVIOUSLY ASSERT: \n",
      "\t spikes_df[time_variable_name]: (49509,) should be less than time_window_edges: (49637,)!\n"
     ]
    },
    {
     "name": "stderr",
     "output_type": "stream",
     "text": [
      "/home/halechr/repos/pyPhoPlaceCellAnalysis/src/pyphoplacecellanalysis/Analysis/Decoder/reconstruction.py:363: RuntimeWarning: divide by zero encountered in divide\n",
      "  return C * np.exp(numerator/denominator)\n"
     ]
    },
    {
     "name": "stdout",
     "output_type": "stream",
     "text": [
      "using self.config.grid_bin_bounds: ((34.889907585004366, 250.88049171752402), (131.38802948402946, 148.80548955773958))\n",
      "\t done.\n",
      "WARNING: PREVIOUSLY ASSERT: \n",
      "\t spikes_df[time_variable_name]: (21231,) should be less than time_window_edges: (25112,)!\n"
     ]
    },
    {
     "name": "stderr",
     "output_type": "stream",
     "text": [
      "/home/halechr/repos/pyPhoPlaceCellAnalysis/src/pyphoplacecellanalysis/Analysis/Decoder/reconstruction.py:363: RuntimeWarning: divide by zero encountered in divide\n",
      "  return C * np.exp(numerator/denominator)\n"
     ]
    },
    {
     "name": "stdout",
     "output_type": "stream",
     "text": [
      "WARNING: PREVIOUSLY ASSERT: \n",
      "\t spikes_df[time_variable_name]: (21231,) should be less than time_window_edges: (25112,)!\n",
      "two_step_decoder_result['most_likely_position_flat_max_likelihood_values'].shape = (14600,)\n",
      "two_step_decoder_result['most_likely_position_flat_max_likelihood_values'].shape = (12943,)\n",
      "tuning_curves_ndim: 0 not implemented!\n",
      "due to includelist, including only 6 out of 16 registered computation functions.\n",
      "Recomputing active_epoch_placefields... due to includelist, including only 6 out of 16 registered computation functions.\n",
      "Recomputing active_epoch_placefields... using self.config.grid_bin_bounds_1D: (28.300282316379977, 259.7976187852487)\n",
      "\t done.\n",
      "Recomputing active_epoch_placefields2D... using self.config.grid_bin_bounds_1D: (29.64642522460817, 257.8732552112081)\n",
      "\t done.\n",
      "Recomputing active_epoch_placefields2D... using self.config.grid_bin_bounds: ((29.64642522460817, 257.8732552112081), (106.68603845428224, 146.71219371189815))\n",
      "\t done.\n",
      "tuning_curves_ndim: 0 not implemented!\n",
      "finalized_loaded_sess_pickle_path: /nfs/turbo/umms-kdiba/Data/KDIBA/gor01/one/2006-6-09_1-22-43/loadedSessPickle.pkl\n",
      "due to includelist, including only 6 out of 16 registered computation functions.\n",
      "Recomputing active_epoch_placefields... using self.config.grid_bin_bounds: ((28.300282316379977, 259.7976187852487), (128.30369397123394, 154.72988093974095))\n",
      "\t done.\n",
      "WARNING: PREVIOUSLY ASSERT: \n",
      "\t spikes_df[time_variable_name]: (20211,) should be less than time_window_edges: (31969,)!\n",
      "using self.config.grid_bin_bounds_1D: (29.64642522460817, 257.8732552112081)\n",
      "WARNING: saving_mode is OVERWRITE_IN_PLACE so /nfs/turbo/umms-kdiba/Data/KDIBA/gor01/one/2006-6-09_1-22-43/loadedSessPickle.pkl will be overwritten even though exists.\n",
      "Saving (file mode 'w+b') saved session pickle file results : /nfs/turbo/umms-kdiba/Data/KDIBA/gor01/one/2006-6-09_1-22-43/loadedSessPickle.pkl... \t done.\n",
      "Recomputing active_epoch_placefields2D... using self.config.grid_bin_bounds: ((29.64642522460817, 257.8732552112081), (106.68603845428224, 146.71219371189815))\n",
      "\t done.\n",
      "WARNING: PREVIOUSLY ASSERT: \n",
      "\t spikes_df[time_variable_name]: (20211,) should be less than time_window_edges: (31969,)!\n"
     ]
    },
    {
     "name": "stderr",
     "output_type": "stream",
     "text": [
      "/home/halechr/repos/pyPhoPlaceCellAnalysis/src/pyphoplacecellanalysis/Analysis/Decoder/reconstruction.py:363: RuntimeWarning: divide by zero encountered in divide\n",
      "  return C * np.exp(numerator/denominator)\n"
     ]
    },
    {
     "name": "stdout",
     "output_type": "stream",
     "text": [
      "done.\n",
      "basedir: /nfs/turbo/umms-kdiba/Data/KDIBA/gor01/two/2006-6-08_21-16-25\n",
      "active_data_mode_name: kdiba\n",
      "Skipping loading from pickled file because force_reload == True.\n",
      "Loading matlab import file results : /nfs/turbo/umms-kdiba/Data/KDIBA/gor01/two/2006-6-08_21-16-25/2006-6-08_21-16-25.epochs_info.mat... done.\n",
      "Loading matlab import file results : /nfs/turbo/umms-kdiba/Data/KDIBA/gor01/two/2006-6-08_21-16-25/2006-6-08_21-16-25.position_info.mat... done.\n",
      "Loading matlab import file results : /nfs/turbo/umms-kdiba/Data/KDIBA/gor01/two/2006-6-08_21-16-25/2006-6-08_21-16-25.spikes.mat... two_step_decoder_result['most_likely_position_flat_max_likelihood_values'].shape = (36246,)\n"
     ]
    },
    {
     "name": "stderr",
     "output_type": "stream",
     "text": [
      "/home/halechr/repos/pyPhoPlaceCellAnalysis/src/pyphoplacecellanalysis/Analysis/Decoder/reconstruction.py:363: RuntimeWarning: divide by zero encountered in divide\n",
      "  return C * np.exp(numerator/denominator)\n"
     ]
    },
    {
     "name": "stdout",
     "output_type": "stream",
     "text": [
      "done.\n",
      "due to includelist, including only 6 out of 16 registered computation functions.\n",
      "Recomputing active_epoch_placefields... using self.config.grid_bin_bounds_1D: (25.5637332724328, 257.964172947664)\n",
      "\t done.\n",
      "Recomputing active_epoch_placefields2D... Failure loading .position.npy. Must recompute.\n",
      "\n",
      "Saving updated position results results : /nfs/turbo/umms-kdiba/Data/KDIBA/gor01/two/2006-6-08_21-16-25/2006-6-08_21-16-25.position.npy...two_step_decoder_result['most_likely_position_flat_max_likelihood_values'].shape = (25361,)\n",
      " 2006-6-08_21-16-25.position.npy saved\n",
      "done.\n",
      "\t force_recompute is True! Forcing recomputation of .interpolated_spike_positions.npy\n",
      "\n",
      "Computing interpolate_spike_positions columns results : spikes_df... done.\n",
      "\t Saving updated interpolated spike position results results : /nfs/turbo/umms-kdiba/Data/KDIBA/gor01/two/2006-6-08_21-16-25/2006-6-08_21-16-25.interpolated_spike_positions.npy... two_step_decoder_result['most_likely_position_flat_max_likelihood_values'].shape = (51601,)\n",
      "2006-6-08_21-16-25.interpolated_spike_positions.npy saved\n",
      "done.\n",
      "Loading matlab import file results : /nfs/turbo/umms-kdiba/Data/KDIBA/gor01/two/2006-6-08_21-16-25/2006-6-08_21-16-25.laps_info.mat... done.\n",
      "setting laps object.\n",
      "session.laps loaded successfully!\n",
      "Loading matlab import file results : /nfs/turbo/umms-kdiba/Data/KDIBA/gor01/two/2006-6-08_21-16-25/2006-6-08_21-16-25.replay_info.mat... done.\n",
      "session.replays loaded successfully!\n",
      "Loading success: /nfs/turbo/umms-kdiba/Data/KDIBA/gor01/two/2006-6-08_21-16-25/ripple_df.pkl.\n"
     ]
    },
    {
     "name": "stderr",
     "output_type": "stream",
     "text": [
      "/home/halechr/repos/pyPhoPlaceCellAnalysis/src/pyphoplacecellanalysis/Analysis/Decoder/reconstruction.py:363: RuntimeWarning: divide by zero encountered in divide\n",
      "  return C * np.exp(numerator/denominator)\n"
     ]
    },
    {
     "name": "stdout",
     "output_type": "stream",
     "text": [
      "Failure loading .mua.npy. Must recompute.\n",
      "\n",
      "computing neurons mua for session...\n",
      "\n",
      "Saving mua results results : /nfs/turbo/umms-kdiba/Data/KDIBA/gor01/two/2006-6-08_21-16-25/2006-6-08_21-16-25.mua.npy... 2006-6-08_21-16-25.mua.npy saved\n",
      "done.\n",
      "Failure loading .pbe.npy. Must recompute.\n",
      "\n",
      "computing PBE epochs for session...\n",
      "\n",
      "Saving pbe results results : /nfs/turbo/umms-kdiba/Data/KDIBA/gor01/two/2006-6-08_21-16-25/2006-6-08_21-16-25.pbe.npy... 2006-6-08_21-16-25.pbe.npy saved\n",
      "done.\n",
      "Computing spikes_df PBEs column results : spikes_df... using self.config.grid_bin_bounds: ((25.5637332724328, 257.964172947664), (89.1844223602494, 131.92462510535915))\n",
      "\t done.finalized_loaded_sess_pickle_path: /nfs/turbo/umms-kdiba/Data/KDIBA/gor01/one/2006-6-13_14-42-6/loadedSessPickle.pkl\n",
      "\n",
      "WARNING: PREVIOUSLY ASSERT: \n",
      "\t spikes_df[time_variable_name]: (19981,) should be less than time_window_edges: (24848,)!\n",
      "done.\n",
      "Computing added spike scISI column results : spikes_df... WARNING: saving_mode is OVERWRITE_IN_PLACE so /nfs/turbo/umms-kdiba/Data/KDIBA/gor01/one/2006-6-13_14-42-6/loadedSessPickle.pkl will be overwritten even though exists.\n",
      "Saving (file mode 'w+b') saved session pickle file results : /nfs/turbo/umms-kdiba/Data/KDIBA/gor01/one/2006-6-13_14-42-6/loadedSessPickle.pkl... done.\n",
      "POSTLOAD_estimate_laps_and_replays()...\n",
      "sane_midpoint_x: 135.71178651132138, hardcoded_track_midpoint_x: None, track_min_max_x: (15.182688599114876, 256.24088442352786)\n",
      "hardcoded_track_midpoint_x is None, falling back to sane_midpoint_x... 135.71178651132138\n",
      "desc_crossings_x: (41,), asc_crossings_x: (41,)\n",
      "due to includelist, including only 6 out of 16 registered computation functions.\n",
      "Recomputing active_epoch_placefields... computing PBE epochs for session...\n",
      "\n",
      "WARNING: PREVIOUSLY ASSERT: \n",
      "\t spikes_df[time_variable_name]: (19981,) should be less than time_window_edges: (24848,)!\n",
      "using self.config.grid_bin_bounds_1D: (38.73738238974907, 252.7760510005677)\n",
      "\t done.\n",
      "Recomputing active_epoch_placefields2D... computing estimated replay epochs for session...\n",
      "\n",
      "\t using KnownFilterEpochs.PBE as surrogate replays...\n",
      "two_step_decoder_result['most_likely_position_flat_max_likelihood_values'].shape = (36136,)\n",
      "using self.config.grid_bin_bounds: ((38.73738238974907, 252.7760510005677), (132.90403388034895, 148.5092041989809))\n",
      "\t done.\n",
      "WARNING: PREVIOUSLY ASSERT: \n",
      "\t spikes_df[time_variable_name]: (298,) should be less than time_window_edges: (760,)!\n",
      "WARNING: PREVIOUSLY ASSERT: \n",
      "\t spikes_df[time_variable_name]: (298,) should be less than time_window_edges: (760,)!\n",
      "two_step_decoder_result['most_likely_position_flat_max_likelihood_values'].shape = (766,)\n",
      "\t curr_replays: 77\n",
      "skip_save_on_initial_load is True so resultant pipeline will not be saved to the pickle file.\n",
      "using provided computation_functions_name_includelist: ['_perform_baseline_placefield_computation', '_perform_extended_statistics_computation', '_perform_position_decoding_computation', '_perform_firing_rate_trends_computation', '_perform_pf_find_ratemap_peaks_computation', '_perform_two_step_position_decoding_computation']\n",
      "Applying session filter named \"maze1\"...\n",
      "Constraining to epoch with times (start: 0.0, end: 722.653951405664)\n",
      "computing neurons mua for session...\n",
      "\n",
      "Applying session filter named \"maze2\"...\n",
      "Constraining to epoch with times (start: 722.653951405664, end: 1201.0839364149142)\n",
      "due to includelist, including only 6 out of 16 registered computation functions.\n",
      "Recomputing active_epoch_placefields... computing neurons mua for session...\n",
      "\n",
      "Applying session filter named \"maze\"...\n",
      "Constraining to epoch with times (start: 0.0, end: 1201.0839364149142)\n",
      "computing neurons mua for session...\n",
      "\n",
      "due to includelist, including only 6 out of 16 registered computation functions.\n",
      "Recomputing active_epoch_placefields... due to includelist, including only 6 out of 16 registered computation functions.\n",
      "Recomputing active_epoch_placefields... done.\n",
      "on_complete_success_execution_session(curr_session_context: kdiba_gor01_one_2006-6-13_14-42-6, curr_session_basedir: /nfs/turbo/umms-kdiba/Data/KDIBA/gor01/one/2006-6-13_14-42-6, ...)\n",
      "were pipeline preprocessing parameters missing and updated?: False\n",
      "WARNING: iltered_contexts[long_epoch_name]'s actual context name is incorrect. \n",
      "\tlong_epoch_context.filter_name: maze2 != long_epoch_name: maze1\n",
      "\tUpdating it. (THIS IS A HACK)\n",
      "finalized_loaded_sess_pickle_path: /nfs/turbo/umms-kdiba/Data/KDIBA/gor01/one/2006-6-13_14-42-6/loadedSessPickle.pkl\n",
      "using self.config.grid_bin_bounds_1D: (38.73738238974907, 252.7760510005677)\n",
      "\t done.\n",
      "Recomputing active_epoch_placefields2D... WARNING: saving_mode is OVERWRITE_IN_PLACE so /nfs/turbo/umms-kdiba/Data/KDIBA/gor01/one/2006-6-13_14-42-6/loadedSessPickle.pkl will be overwritten even though exists.\n",
      "Saving (file mode 'w+b') saved session pickle file results : /nfs/turbo/umms-kdiba/Data/KDIBA/gor01/one/2006-6-13_14-42-6/loadedSessPickle.pkl... using self.config.grid_bin_bounds_1D: (17.01858788173554, 250.2171441367766)\n",
      "\t done.\n",
      "Recomputing active_epoch_placefields2D... using self.config.grid_bin_bounds_1D: (22.397021260868584, 245.6584673739576)\n",
      "\t done.\n",
      "Recomputing active_epoch_placefields2D... using self.config.grid_bin_bounds: ((38.73738238974907, 252.7760510005677), (132.90403388034895, 148.5092041989809))\n",
      "\t done.\n",
      "WARNING: PREVIOUSLY ASSERT: \n",
      "\t spikes_df[time_variable_name]: (13394,) should be less than time_window_edges: (57691,)!\n",
      "two_step_decoder_result['most_likely_position_flat_max_likelihood_values'].shape = (59520,)\n",
      "using self.config.grid_bin_bounds: ((17.01858788173554, 250.2171441367766), (135.66814125966783, 154.75073313142283))\n",
      "\t done.\n",
      "using self.config.grid_bin_bounds: ((22.397021260868584, 245.6584673739576), (133.66465594522782, 155.97244934208123))\n",
      "\t done.\n",
      "WARNING: PREVIOUSLY ASSERT: \n",
      "\t spikes_df[time_variable_name]: (15458,) should be less than time_window_edges: (38260,)!\n",
      "done.\n",
      "included includelist is specified: ['long_short_fr_indicies_analyses', 'jonathan_firing_rate_analysis', 'long_short_decoding_analyses', 'long_short_post_decoding'], so only performing these extended computations.\n",
      "Running batch_extended_computations(...) with global_epoch_name: \"maze\"\n",
      "jonathan_firing_rate_analysis missing.\n",
      "\t Recomputing jonathan_firing_rate_analysis...\n",
      "\t done.\n",
      "long_short_fr_indicies_analyses missing.\n",
      "\t Recomputing long_short_fr_indicies_analyses...\n",
      "due to includelist, including only 6 out of 16 registered computation functions.\n",
      "Recomputing active_epoch_placefields... WARNING: PREVIOUSLY ASSERT: \n",
      "\t spikes_df[time_variable_name]: (15458,) should be less than time_window_edges: (38260,)!\n",
      "using self.config.grid_bin_bounds_1D: (37.58127153781621, 248.7032779553949)\n",
      "\t done.\n",
      "Recomputing active_epoch_placefields2D... WARNING: PREVIOUSLY ASSERT: \n",
      "\t spikes_df[time_variable_name]: (13394,) should be less than time_window_edges: (57691,)!\n",
      "using self.config.grid_bin_bounds: ((37.58127153781621, 248.7032779553949), (133.5550653393467, 147.88514770982718))\n",
      "\t done.\n",
      "tuning_curves_ndim: 0 not implemented!\n",
      "due to includelist, including only 6 out of 16 registered computation functions.\n",
      "Recomputing active_epoch_placefields... using self.config.grid_bin_bounds_1D: (37.58127153781621, 248.7032779553949)\n",
      "\t done.\n",
      "Recomputing active_epoch_placefields2D... "
     ]
    }
   ],
   "source": [
    "## I got it doing the bare-minimum loading and computations, so it should be ready to update the laps and constraint the placefields to those. Then we should be able to set up the replays at the same time.\n",
    "# finally, we then finish by computing.\n",
    "\n",
    "# # No Reloading\n",
    "# result_handler = BatchSessionCompletionHandler(force_reload_all=False,\n",
    "#                                                 session_computations_options=BatchComputationProcessOptions(should_load=True, should_compute=True, should_save=True),\n",
    "#                                                 global_computations_options=BatchComputationProcessOptions(should_load=False, should_compute=False, should_save=False),\n",
    "#                                                 should_perform_figure_generation_to_file=False, saving_mode=PipelineSavingScheme.SKIP_SAVING, force_global_recompute=False)\n",
    "\n",
    "# Forced Reloading:\n",
    "result_handler = BatchSessionCompletionHandler(force_reload_all=True,\n",
    "                                                session_computations_options=BatchComputationProcessOptions(should_load=False, should_compute=True, should_save=True),\n",
    "                                                global_computations_options=BatchComputationProcessOptions(should_load=False, should_compute=True, should_save=True),\n",
    "                                                should_perform_figure_generation_to_file=False, saving_mode=PipelineSavingScheme.OVERWRITE_IN_PLACE, force_global_recompute=True)\n",
    "\n",
    "# multiprocessing_kwargs = dict(use_multiprocessing=False, num_processes=1)\n",
    "multiprocessing_kwargs = dict(use_multiprocessing=True, num_processes=8)\n",
    "\n",
    "## Execute with the custom arguments.\n",
    "active_computation_functions_name_includelist=['_perform_baseline_placefield_computation',\n",
    "                                        # '_perform_time_dependent_placefield_computation',\n",
    "                                        '_perform_extended_statistics_computation',\n",
    "                                        '_perform_position_decoding_computation', \n",
    "                                        '_perform_firing_rate_trends_computation',\n",
    "                                        '_perform_pf_find_ratemap_peaks_computation',\n",
    "                                        # '_perform_time_dependent_pf_sequential_surprise_computation'\n",
    "                                        '_perform_two_step_position_decoding_computation',\n",
    "                                        # '_perform_recursive_latent_placefield_decoding'\n",
    "                                    ]\n",
    "# active_computation_functions_name_includelist=['_perform_baseline_placefield_computation']\n",
    "global_batch_run.execute_all(force_reload=result_handler.force_reload_all, saving_mode=result_handler.saving_mode, skip_extended_batch_computations=True, post_run_callback_fn=result_handler.on_complete_success_execution_session,\n",
    "                             fail_on_exception=False,\n",
    "                                                                                        **{'computation_functions_name_includelist': active_computation_functions_name_includelist,\n",
    "                                                                                            'active_session_computation_configs': None,\n",
    "                                                                                            'allow_processing_previously_completed': True}, **multiprocessing_kwargs) # can override `active_session_computation_configs` if we want to set custom ones like only the laps.)\n",
    "\n",
    "# 4m 39.8s"
   ]
  },
  {
   "cell_type": "code",
   "execution_count": null,
   "id": "aa5d2321",
   "metadata": {
    "tags": []
   },
   "outputs": [],
   "source": [
    "# Save to file:\n",
    "saveData(global_batch_result_file_path, global_batch_run) # Update the global batch run dictionary"
   ]
  },
  {
   "cell_type": "code",
   "execution_count": null,
   "id": "511725ed-4794-44f4-b398-cf25dcb06201",
   "metadata": {
    "tags": []
   },
   "outputs": [],
   "source": [
    "# list(global_batch_run.session_batch_outputs.keys())\n",
    "\n",
    "# Somewhere in there there are `InstantaneousSpikeRateGroupsComputation` results to extract\n",
    "across_sessions_instantaneous_fr_dict = {} # InstantaneousSpikeRateGroupsComputation\n",
    "\n",
    "for a_ctxt, a_result in global_batch_run.session_batch_outputs.items():\n",
    "    if a_result is not None:\n",
    "        a_good_result = a_result.get('across_sessions_batch_results', {}).get('inst_fr_comps', None)\n",
    "        if a_good_result is not None:\n",
    "            across_sessions_instantaneous_fr_dict[a_ctxt] = a_good_result\n",
    "            # print(a_result['across_sessions_batch_results']['inst_fr_comps'])\n",
    "            \n",
    "num_sessions = len(across_sessions_instantaneous_fr_dict)\n",
    "print(f'num_sessions: {num_sessions}')\n",
    "# When done, `result_handler.across_sessions_instantaneous_fr_dict` is now equivalent to what it would have been before. It can be saved using the normal `.save_across_sessions_data(...)`"
   ]
  },
  {
   "cell_type": "code",
   "execution_count": null,
   "id": "b2131bc6-efb9-4768-87de-374d857c8227",
   "metadata": {
    "tags": []
   },
   "outputs": [],
   "source": [
    "inst_fr_output_filename='across_session_result_long_short_inst_firing_rate_2023-07-18.pkl'\n",
    "global_batch_result_inst_fr_file_path = Path(global_data_root_parent_path).joinpath(inst_fr_output_filename).resolve() # Use Default\n",
    "print(f'global_batch_result_inst_fr_file_path: {global_batch_result_inst_fr_file_path}')\n",
    "# Save the all sessions instantaneous firing rate dict to the path:\n",
    "saveData(global_batch_result_inst_fr_file_path, across_sessions_instantaneous_fr_dict)"
   ]
  },
  {
   "cell_type": "code",
   "execution_count": null,
   "id": "cf462d87-76a1-4a3b-b077-5215f433deb2",
   "metadata": {},
   "outputs": [],
   "source": [
    "## Save the instantaneous firing rate results dict: (# Dict[IdentifyingContext] = InstantaneousSpikeRateGroupsComputation)\n",
    "#TODO 2023-07-12 10:12: - [ ] New save way after we save out current result and reload\n",
    "result_handler.save_across_sessions_data(global_data_root_parent_path=global_data_root_parent_path, inst_fr_output_filename='across_session_result_long_short_inst_firing_rate_2023-07-14.pkl')\n",
    "num_sessions = len(result_handler.across_sessions_instantaneous_fr_dict)\n",
    "print(f'num_sessions: {num_sessions}')"
   ]
  },
  {
   "cell_type": "markdown",
   "id": "be651cc7",
   "metadata": {
    "jp-MarkdownHeadingCollapsed": true,
    "tags": []
   },
   "source": [
    "# 2023-07-14 - Load Saved across-sessions-data and testing Batch-computed inst_firing_rates:"
   ]
  },
  {
   "cell_type": "code",
   "execution_count": null,
   "id": "28ad5bf6",
   "metadata": {},
   "outputs": [],
   "source": [
    "from neuropy.utils.matplotlib_helpers import matplotlib_configuration_update\n",
    "from pyphoplacecellanalysis.General.Batch.PhoDiba2023Paper import PaperFigureTwo, InstantaneousSpikeRateGroupsComputation\n",
    "from pyphoplacecellanalysis.General.Pipeline.Stages.ComputationFunctions.SpikeAnalysis import SpikeRateTrends\n",
    "\n",
    "## Load the saved across-session results:\n",
    "# inst_fr_output_filename = 'long_short_inst_firing_rate_result_handlers_2023-07-12.pkl'\n",
    "inst_fr_output_filename = 'across_session_result_long_short_inst_firing_rate.pkl'\n",
    "across_session_inst_fr_computation, across_sessions_instantaneous_fr_dict, across_sessions_instantaneous_frs_list = BatchSessionCompletionHandler.load_across_sessions_data(global_data_root_parent_path=global_data_root_parent_path, inst_fr_output_filename=inst_fr_output_filename)\n",
    "# across_sessions_instantaneous_fr_dict = loadData(global_batch_result_inst_fr_file_path)\n",
    "num_sessions = len(across_sessions_instantaneous_fr_dict)\n",
    "print(f'num_sessions: {num_sessions}')"
   ]
  },
  {
   "cell_type": "code",
   "execution_count": null,
   "id": "63258151",
   "metadata": {},
   "outputs": [],
   "source": [
    "## Aggregate across all of the sessions to build a new combined `InstantaneousSpikeRateGroupsComputation`, which can be used to plot the \"PaperFigureTwo\", bar plots for many sessions.\n",
    "global_multi_session_context = IdentifyingContext(format_name='kdiba', num_sessions=num_sessions) # some global context across all of the sessions, not sure what to put here.\n",
    "\n",
    "# To correctly aggregate results across sessions, it only makes sense to combine entries at the `.cell_agg_inst_fr_list` variable and lower (as the number of cells can be added across sessions, treated as unique for each session).\n",
    "\n",
    "## Display the aggregate across sessions:\n",
    "_out_fig_2 = PaperFigureTwo(instantaneous_time_bin_size_seconds=0.01) # WARNING: we didn't save this info\n",
    "_out_fig_2.computation_result = across_session_inst_fr_computation\n",
    "_out_fig_2.active_identifying_session_ctx = across_session_inst_fr_computation.active_identifying_session_ctx\n",
    "# Set callback, the only self-specific property\n",
    "# _out_fig_2._pipeline_file_callback_fn = curr_active_pipeline.output_figure # lambda args, kwargs: self.write_to_file(args, kwargs, curr_active_pipeline)"
   ]
  },
  {
   "cell_type": "code",
   "execution_count": null,
   "id": "96c498f8",
   "metadata": {},
   "outputs": [],
   "source": [
    "from pyphoplacecellanalysis.General.Mixins.ExportHelpers import FigureOutputManager, FigureOutputLocation, ContextToPathMode\n",
    "\n",
    "registered_output_files = {}\n",
    "\n",
    "\n",
    "        \n",
    "\n",
    "def output_figure(final_context: IdentifyingContext, fig, write_vector_format:bool=False, write_png:bool=True, debug_print=True):\n",
    "    \"\"\" outputs the figure using the provided context. \"\"\"\n",
    "    from pyphoplacecellanalysis.General.Mixins.ExportHelpers import build_and_write_to_file\n",
    "    def register_output_file(output_path, output_metadata=None):\n",
    "        \"\"\" registers a new output file for the pipeline \"\"\"\n",
    "        print(f'register_output_file(output_path: {output_path}, ...)')\n",
    "        registered_output_files[output_path] = output_metadata or {}\n",
    "\n",
    "    fig_out_man = FigureOutputManager(figure_output_location=FigureOutputLocation.DAILY_PROGRAMMATIC_OUTPUT_FOLDER, context_to_path_mode=ContextToPathMode.HIERARCHY_UNIQUE)\n",
    "    active_out_figure_paths = build_and_write_to_file(fig, final_context, fig_out_man, write_vector_format=write_vector_format, write_png=write_png, register_output_file_fn=register_output_file)\n",
    "    return active_out_figure_paths, final_context\n",
    "\n",
    "\n",
    "# Set callback, the only self-specific property\n",
    "_out_fig_2._pipeline_file_callback_fn = output_figure"
   ]
  },
  {
   "cell_type": "code",
   "execution_count": null,
   "id": "a694ec1c",
   "metadata": {},
   "outputs": [],
   "source": [
    "# Showing\n",
    "restore_previous_matplotlib_settings_callback = matplotlib_configuration_update(is_interactive=True, backend='Qt5Agg')\n",
    "# Perform interactive Matplotlib operations with 'Qt5Agg' backend\n",
    "_fig_2_theta_out, _fig_2_replay_out = _out_fig_2.display(active_context=global_multi_session_context, title_modifier_fn=lambda original_title: f\"{original_title} ({num_sessions} sessions)\", save_figure=True)\n",
    "\t\n",
    "_out_fig_2.perform_save()"
   ]
  },
  {
   "cell_type": "markdown",
   "id": "32781c8b",
   "metadata": {
    "jp-MarkdownHeadingCollapsed": true,
    "tags": []
   },
   "source": [
    "## Single Session testing:\n"
   ]
  },
  {
   "cell_type": "code",
   "execution_count": null,
   "id": "9311a987",
   "metadata": {},
   "outputs": [],
   "source": [
    "_test_out = global_batch_run.execute_session(session_context=curr_sess_context, force_reload=True, skip_extended_batch_computations=True, computation_functions_name_includelist =['_perform_baseline_placefield_computation'], active_session_computation_configs=None) # can override `active_session_computation_configs` if we want to set custom ones like only the laps.)\n",
    "_test_out\n",
    "\n",
    "# global_batch_run.execute_session(session_context=curr_sess_context, force_reload=True, skip_extended_batch_computations=True, **{'computation_functions_name_includelist': ['_perform_baseline_placefield_computation'], 'active_session_computation_configs': None}) # can override `active_session_computation_configs` if we want to set custom ones like only the laps.)\n",
    "\n",
    "# 23.5s"
   ]
  },
  {
   "cell_type": "code",
   "execution_count": null,
   "id": "ddf2bb67",
   "metadata": {
    "tags": []
   },
   "outputs": [],
   "source": [
    "\n",
    "full_good_dirs = [k for k, v in global_batch_run.session_batch_errors.items() if v is None]\n",
    "bad_dirs = [k for k, v in global_batch_run.session_batch_errors.items() if v is not None]\n",
    "full_good_dirs\n",
    "bad_dirs"
   ]
  },
  {
   "cell_type": "code",
   "execution_count": null,
   "id": "9d5f73f9",
   "metadata": {
    "tags": []
   },
   "outputs": [],
   "source": [
    "global_batch_run.session_batch_status"
   ]
  },
  {
   "cell_type": "code",
   "execution_count": null,
   "id": "0dcad70a",
   "metadata": {},
   "outputs": [],
   "source": [
    "global_batch_run.session_batch_status\n",
    "global_batch_run.session_batch_errors"
   ]
  },
  {
   "cell_type": "markdown",
   "id": "15faf2bb",
   "metadata": {
    "jp-MarkdownHeadingCollapsed": true,
    "tags": []
   },
   "source": [
    "# Get good sessions for use in the specific session processing notebook:"
   ]
  },
  {
   "cell_type": "code",
   "execution_count": null,
   "id": "ed516134",
   "metadata": {
    "tags": []
   },
   "outputs": [],
   "source": [
    "batch_progress_df = global_batch_run.to_dataframe(expand_context=True, good_only=False) # all\n",
    "good_only_batch_progress_df = global_batch_run.to_dataframe(expand_context=True, good_only=True)\n",
    "good_only_batch_progress_df"
   ]
  },
  {
   "cell_type": "code",
   "execution_count": null,
   "id": "bdf02efc",
   "metadata": {
    "tags": []
   },
   "outputs": [],
   "source": [
    "## Get the list of sessions that are completely ready to process:\n",
    "full_good_ready_to_process_sessions = list(good_only_batch_progress_df['context'].to_numpy())\n",
    "full_good_ready_to_process_sessions\n",
    "# Get good sessions for use in the specific session processing notebook:"
   ]
  },
  {
   "cell_type": "code",
   "execution_count": null,
   "id": "8f1ad809",
   "metadata": {
    "tags": []
   },
   "outputs": [],
   "source": [
    "run[\"good_sessions_list\"].extend(full_good_ready_to_process_sessions)"
   ]
  },
  {
   "cell_type": "code",
   "execution_count": null,
   "id": "c636e3b9",
   "metadata": {
    "tags": []
   },
   "outputs": [],
   "source": [
    "run.stop()\n",
    "project.stop()"
   ]
  },
  {
   "cell_type": "code",
   "execution_count": null,
   "id": "8caf1322",
   "metadata": {
    "tags": []
   },
   "outputs": [],
   "source": [
    "\n",
    "print(\",\\n\".join([ctx.get_initialization_code_string() for ctx in full_good_ready_to_process_sessions])) # List definitions\n",
    "\n",
    "# [IdentifyingContext(format_name='kdiba',animal='gor01',exper_name='one',session_name='2006-6-08_14-26-15'),\n",
    "# IdentifyingContext(format_name='kdiba',animal='gor01',exper_name='one',session_name='2006-6-09_1-22-43'),\n",
    "# IdentifyingContext(format_name='kdiba',animal='gor01',exper_name='one',session_name='2006-6-12_15-55-31'),\n",
    "# IdentifyingContext(format_name='kdiba',animal='gor01',exper_name='one',session_name='2006-6-13_14-42-6'),\n",
    "# IdentifyingContext(format_name='kdiba',animal='gor01',exper_name='two',session_name='2006-6-07_16-40-19'),\n",
    "# IdentifyingContext(format_name='kdiba',animal='gor01',exper_name='two',session_name='2006-6-12_16-53-46'),\n",
    "# IdentifyingContext(format_name='kdiba',animal='vvp01',exper_name='one',session_name='2006-4-09_17-29-30')]"
   ]
  },
  {
   "cell_type": "code",
   "execution_count": null,
   "id": "ee5a4bfe",
   "metadata": {
    "tags": []
   },
   "outputs": [],
   "source": [
    "print(\"\\ncurr_context = \".join([ctx.get_initialization_code_string() for ctx in full_good_ready_to_process_sessions])) # Line definitions\n",
    "\n",
    "# curr_context = IdentifyingContext(format_name='kdiba',animal='gor01',exper_name='one',session_name='2006-6-08_14-26-15')\n",
    "# curr_context = IdentifyingContext(format_name='kdiba',animal='gor01',exper_name='one',session_name='2006-6-09_1-22-43')\n",
    "# curr_context = IdentifyingContext(format_name='kdiba',animal='gor01',exper_name='one',session_name='2006-6-12_15-55-31')\n",
    "# curr_context = IdentifyingContext(format_name='kdiba',animal='gor01',exper_name='one',session_name='2006-6-13_14-42-6')\n",
    "# curr_context = IdentifyingContext(format_name='kdiba',animal='gor01',exper_name='two',session_name='2006-6-07_16-40-19')\n",
    "# curr_context = IdentifyingContext(format_name='kdiba',animal='gor01',exper_name='two',session_name='2006-6-12_16-53-46')\n",
    "# curr_context = IdentifyingContext(format_name='kdiba',animal='vvp01',exper_name='one',session_name='2006-4-09_17-29-30')"
   ]
  },
  {
   "cell_type": "code",
   "execution_count": null,
   "id": "e5689d1d-6400-4f87-be0e-a184a1d5bee4",
   "metadata": {
    "tags": []
   },
   "outputs": [],
   "source": [
    "good_only_batch_progress_df"
   ]
  },
  {
   "cell_type": "code",
   "execution_count": null,
   "id": "7c82aedf-b024-4f07-b1a9-350730b4db8c",
   "metadata": {
    "tags": []
   },
   "outputs": [],
   "source": [
    "from datetime import datetime\n",
    "\n",
    "# datetime object containing current date and time\n",
    "save_time = datetime.now()\n",
    " \n",
    "print(\"save_time =\", save_time)\n",
    "\n",
    "# dd/mm/YY H:M:S\n",
    "dt_string = save_time.strftime(\"%Y-%m-%d_%I-%M%p\")\n",
    "print(\"date and time =\", dt_string)"
   ]
  },
  {
   "cell_type": "code",
   "execution_count": null,
   "id": "ac7bc6bd-5b34-41d0-b906-b0ad9927b08d",
   "metadata": {
    "tags": []
   },
   "outputs": [],
   "source": [
    "## Get output file paths:\n",
    "completed_pipeline_filename = 'loadedSessPickle.pkl'\n",
    "completed_global_computations_filename = 'outputs/global_computation_results.pkl'\n",
    "\n",
    "full_good_ready_to_process_session_paths = list(good_only_batch_progress_df['basedirs'].to_numpy())\n",
    "session_paths_output_folders = [sess_path.joinpath('outputs').resolve() for sess_path in full_good_ready_to_process_session_paths]\n",
    "\n",
    "\n",
    "\n",
    "completed_pipeline_file_paths = [sess_path.joinpath(completed_pipeline_filename).resolve() for sess_path in full_good_ready_to_process_session_paths]\n",
    "completed_global_computations_file_paths = [sess_path.joinpath(completed_global_computations_filename).resolve() for sess_path in full_good_ready_to_process_session_paths]\n",
    "completed_global_computations_file_paths"
   ]
  }
 ],
 "metadata": {
  "kernelspec": {
   "display_name": "Python 3 (ipykernel)",
   "language": "python",
   "name": "python3"
  },
  "language_info": {
   "codemirror_mode": {
    "name": "ipython",
    "version": 3
   },
   "file_extension": ".py",
   "mimetype": "text/x-python",
   "name": "python",
   "nbconvert_exporter": "python",
   "pygments_lexer": "ipython3",
   "version": "3.9.12"
  },
  "toc-showmarkdowntxt": false,
  "toc-showtags": false
 },
 "nbformat": 4,
 "nbformat_minor": 5
}
