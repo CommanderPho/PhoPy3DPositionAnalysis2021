{
 "cells": [
  {
   "cell_type": "code",
   "execution_count": 1,
   "id": "0056bc66-7629-4ef7-8c87-f28f8fcd9dc8",
   "metadata": {
    "autorun": true,
    "tags": [
     "imports",
     "REQUIRED",
     "ACTIVE"
    ]
   },
   "outputs": [
    {
     "name": "stdout",
     "output_type": "stream",
     "text": [
      "Automatic pdb calling has been turned OFF\n",
      "build_module_logger(module_name=\"Spike3D.pipeline\"):\n",
      "\t Module logger com.PhoHale.Spike3D.pipeline has file logging enabled and will log to EXTERNAL\\TESTING\\Logging\\debug_com.PhoHale.Spike3D.pipeline.log\n"
     ]
    }
   ],
   "source": [
    "%config IPCompleter.use_jedi = False\n",
    "%pdb off\n",
    "%load_ext autoreload\n",
    "%autoreload 3\n",
    "from pathlib import Path\n",
    "import pathlib\n",
    "import numpy as np\n",
    "import pandas as pd\n",
    "\n",
    "# required to enable non-blocking interaction:\n",
    "%gui qt5\n",
    "\n",
    "## Pho's Custom Libraries:\n",
    "from pyphocorehelpers.Filesystem.path_helpers import find_first_extant_path\n",
    "from pyphocorehelpers.function_helpers import function_attributes\n",
    "\n",
    "# pyPhoPlaceCellAnalysis:\n",
    "# NeuroPy (Diba Lab Python Repo) Loading\n",
    "from neuropy.core.session.Formats.BaseDataSessionFormats import DataSessionFormatRegistryHolder\n",
    "from neuropy.core.session.Formats.Specific.BapunDataSessionFormat import BapunDataSessionFormatRegisteredClass\n",
    "from neuropy.core.session.Formats.Specific.KDibaOldDataSessionFormat import KDibaOldDataSessionFormatRegisteredClass\n",
    "from neuropy.core.session.Formats.Specific.RachelDataSessionFormat import RachelDataSessionFormat\n",
    "from neuropy.core.session.Formats.Specific.HiroDataSessionFormat import HiroDataSessionFormatRegisteredClass\n",
    "\n",
    "## For computation parameters:\n",
    "from neuropy.utils.result_context import IdentifyingContext\n",
    "from neuropy.core.session.Formats.BaseDataSessionFormats import find_local_session_paths\n",
    "\n",
    "from pyphoplacecellanalysis.General.Pipeline.Stages.Loading import saveData, loadData\n",
    "import pyphoplacecellanalysis.General.Batch.runBatch\n",
    "from pyphoplacecellanalysis.General.Batch.runBatch import BatchRun, BatchResultDataframeAccessor, run_diba_batch, BatchComputationProcessOptions, BatchSessionCompletionHandler\n",
    "from pyphoplacecellanalysis.General.Pipeline.NeuropyPipeline import PipelineSavingScheme\n",
    "from neuropy.core.user_annotations import UserAnnotationsManager\n",
    "from pyphoplacecellanalysis.General.Batch.runBatch import SessionBatchProgress\n",
    "from pyphoplacecellanalysis.General.Batch.AcrossSessionResults import AcrossSessionsResults, AcrossSessionsVisualizations\n",
    "\n",
    "from pyphocorehelpers.Filesystem.path_helpers import set_posix_windows\n",
    "\n",
    "BATCH_DATE_TO_USE = '2023-08-09_Test' # used for filenames throught the notebook"
   ]
  },
  {
   "cell_type": "code",
   "execution_count": 2,
   "id": "8ef5938c",
   "metadata": {
    "tags": []
   },
   "outputs": [],
   "source": [
    "# active_global_batch_result_filename='global_batch_result_2023-07-12.pkl'\n",
    "# active_global_batch_result_filename='global_batch_result_2023-07-07.pkl'\n",
    "# active_global_batch_result_filename='global_batch_result_2023-07-07_extra.pkl'\n",
    "# active_global_batch_result_filename='global_batch_result_2023-07-20.pkl'\n",
    "# active_global_batch_result_filename='global_batch_result_2023-07-21_Greatlakes.pkl'\n",
    "active_global_batch_result_filename=f'global_batch_result_{BATCH_DATE_TO_USE}.pkl'\n",
    "debug_print = False\n",
    "known_global_data_root_parent_paths = [Path(r'W:\\Data'), Path(r'/media/MAX/Data'), Path(r'/Volumes/MoverNew/data'), Path(r'/home/halechr/turbo/Data'), Path(r'/nfs/turbo/umms-kdiba/Data')]\n",
    "global_data_root_parent_path = find_first_extant_path(known_global_data_root_parent_paths)\n",
    "assert global_data_root_parent_path.exists(), f\"global_data_root_parent_path: {global_data_root_parent_path} does not exist! Is the right computer's config commented out above?\"\n",
    "## Build Pickle Path:\n",
    "global_batch_result_file_path = Path(global_data_root_parent_path).joinpath(active_global_batch_result_filename).resolve() # Use Default\n"
   ]
  },
  {
   "cell_type": "code",
   "execution_count": 3,
   "id": "61dddddb",
   "metadata": {
    "tags": []
   },
   "outputs": [
    {
     "name": "stdout",
     "output_type": "stream",
     "text": [
      "Loading loaded session pickle file results : W:\\Data\\global_batch_result_2023-08-09_Test.pkl... done.\n",
      "no difference between provided and internal paths.\n"
     ]
    },
    {
     "data": {
      "text/html": [
       "<div>\n",
       "<style scoped>\n",
       "    .dataframe tbody tr th:only-of-type {\n",
       "        vertical-align: middle;\n",
       "    }\n",
       "\n",
       "    .dataframe tbody tr th {\n",
       "        vertical-align: top;\n",
       "    }\n",
       "\n",
       "    .dataframe thead th {\n",
       "        text-align: right;\n",
       "    }\n",
       "</style>\n",
       "<table border=\"1\" class=\"dataframe\">\n",
       "  <thead>\n",
       "    <tr style=\"text-align: right;\">\n",
       "      <th></th>\n",
       "      <th>format_name</th>\n",
       "      <th>animal</th>\n",
       "      <th>exper_name</th>\n",
       "      <th>session_name</th>\n",
       "      <th>context</th>\n",
       "      <th>basedirs</th>\n",
       "      <th>status</th>\n",
       "      <th>errors</th>\n",
       "      <th>n_long_laps</th>\n",
       "      <th>n_long_replays</th>\n",
       "      <th>n_short_laps</th>\n",
       "      <th>n_short_replays</th>\n",
       "      <th>is_ready</th>\n",
       "      <th>global_computation_result_file</th>\n",
       "      <th>loaded_session_pickle_file</th>\n",
       "      <th>ripple_result_file</th>\n",
       "      <th>has_user_replay_annotations</th>\n",
       "      <th>has_user_grid_bin_bounds_annotations</th>\n",
       "    </tr>\n",
       "  </thead>\n",
       "  <tbody>\n",
       "    <tr>\n",
       "      <th>0</th>\n",
       "      <td>kdiba</td>\n",
       "      <td>gor01</td>\n",
       "      <td>one</td>\n",
       "      <td>2006-6-07_11-26-53</td>\n",
       "      <td>kdiba_gor01_one_2006-6-07_11-26-53</td>\n",
       "      <td>W:\\Data\\KDIBA\\gor01\\one\\2006-6-07_11-26-53</td>\n",
       "      <td>SessionBatchProgress.NOT_STARTED</td>\n",
       "      <td>None</td>\n",
       "      <td>0</td>\n",
       "      <td>0</td>\n",
       "      <td>0</td>\n",
       "      <td>0</td>\n",
       "      <td>False</td>\n",
       "      <td>W:\\Data\\KDIBA\\gor01\\one\\2006-6-07_11-26-53\\out...</td>\n",
       "      <td>W:\\Data\\KDIBA\\gor01\\one\\2006-6-07_11-26-53\\loa...</td>\n",
       "      <td>W:\\Data\\KDIBA\\gor01\\one\\2006-6-07_11-26-53\\rip...</td>\n",
       "      <td>False</td>\n",
       "      <td>True</td>\n",
       "    </tr>\n",
       "    <tr>\n",
       "      <th>1</th>\n",
       "      <td>kdiba</td>\n",
       "      <td>gor01</td>\n",
       "      <td>one</td>\n",
       "      <td>2006-6-08_14-26-15</td>\n",
       "      <td>kdiba_gor01_one_2006-6-08_14-26-15</td>\n",
       "      <td>W:\\Data\\KDIBA\\gor01\\one\\2006-6-08_14-26-15</td>\n",
       "      <td>SessionBatchProgress.NOT_STARTED</td>\n",
       "      <td>None</td>\n",
       "      <td>0</td>\n",
       "      <td>0</td>\n",
       "      <td>0</td>\n",
       "      <td>0</td>\n",
       "      <td>False</td>\n",
       "      <td>W:\\Data\\KDIBA\\gor01\\one\\2006-6-08_14-26-15\\out...</td>\n",
       "      <td>W:\\Data\\KDIBA\\gor01\\one\\2006-6-08_14-26-15\\loa...</td>\n",
       "      <td>W:\\Data\\KDIBA\\gor01\\one\\2006-6-08_14-26-15\\rip...</td>\n",
       "      <td>True</td>\n",
       "      <td>True</td>\n",
       "    </tr>\n",
       "    <tr>\n",
       "      <th>2</th>\n",
       "      <td>kdiba</td>\n",
       "      <td>gor01</td>\n",
       "      <td>one</td>\n",
       "      <td>2006-6-09_1-22-43</td>\n",
       "      <td>kdiba_gor01_one_2006-6-09_1-22-43</td>\n",
       "      <td>W:\\Data\\KDIBA\\gor01\\one\\2006-6-09_1-22-43</td>\n",
       "      <td>SessionBatchProgress.NOT_STARTED</td>\n",
       "      <td>None</td>\n",
       "      <td>0</td>\n",
       "      <td>0</td>\n",
       "      <td>0</td>\n",
       "      <td>0</td>\n",
       "      <td>False</td>\n",
       "      <td>W:\\Data\\KDIBA\\gor01\\one\\2006-6-09_1-22-43\\outp...</td>\n",
       "      <td>W:\\Data\\KDIBA\\gor01\\one\\2006-6-09_1-22-43\\load...</td>\n",
       "      <td>W:\\Data\\KDIBA\\gor01\\one\\2006-6-09_1-22-43\\ripp...</td>\n",
       "      <td>True</td>\n",
       "      <td>True</td>\n",
       "    </tr>\n",
       "    <tr>\n",
       "      <th>3</th>\n",
       "      <td>kdiba</td>\n",
       "      <td>gor01</td>\n",
       "      <td>one</td>\n",
       "      <td>2006-6-09_3-23-37</td>\n",
       "      <td>kdiba_gor01_one_2006-6-09_3-23-37</td>\n",
       "      <td>W:\\Data\\KDIBA\\gor01\\one\\2006-6-09_3-23-37</td>\n",
       "      <td>SessionBatchProgress.NOT_STARTED</td>\n",
       "      <td>None</td>\n",
       "      <td>0</td>\n",
       "      <td>0</td>\n",
       "      <td>0</td>\n",
       "      <td>0</td>\n",
       "      <td>False</td>\n",
       "      <td></td>\n",
       "      <td></td>\n",
       "      <td>W:\\Data\\KDIBA\\gor01\\one\\2006-6-09_3-23-37\\ripp...</td>\n",
       "      <td>False</td>\n",
       "      <td>True</td>\n",
       "    </tr>\n",
       "    <tr>\n",
       "      <th>4</th>\n",
       "      <td>kdiba</td>\n",
       "      <td>gor01</td>\n",
       "      <td>one</td>\n",
       "      <td>2006-6-12_15-55-31</td>\n",
       "      <td>kdiba_gor01_one_2006-6-12_15-55-31</td>\n",
       "      <td>W:\\Data\\KDIBA\\gor01\\one\\2006-6-12_15-55-31</td>\n",
       "      <td>SessionBatchProgress.NOT_STARTED</td>\n",
       "      <td>None</td>\n",
       "      <td>0</td>\n",
       "      <td>0</td>\n",
       "      <td>0</td>\n",
       "      <td>0</td>\n",
       "      <td>False</td>\n",
       "      <td>W:\\Data\\KDIBA\\gor01\\one\\2006-6-12_15-55-31\\out...</td>\n",
       "      <td>W:\\Data\\KDIBA\\gor01\\one\\2006-6-12_15-55-31\\loa...</td>\n",
       "      <td>W:\\Data\\KDIBA\\gor01\\one\\2006-6-12_15-55-31\\rip...</td>\n",
       "      <td>True</td>\n",
       "      <td>True</td>\n",
       "    </tr>\n",
       "    <tr>\n",
       "      <th>...</th>\n",
       "      <td>...</td>\n",
       "      <td>...</td>\n",
       "      <td>...</td>\n",
       "      <td>...</td>\n",
       "      <td>...</td>\n",
       "      <td>...</td>\n",
       "      <td>...</td>\n",
       "      <td>...</td>\n",
       "      <td>...</td>\n",
       "      <td>...</td>\n",
       "      <td>...</td>\n",
       "      <td>...</td>\n",
       "      <td>...</td>\n",
       "      <td>...</td>\n",
       "      <td>...</td>\n",
       "      <td>...</td>\n",
       "      <td>...</td>\n",
       "      <td>...</td>\n",
       "    </tr>\n",
       "    <tr>\n",
       "      <th>67</th>\n",
       "      <td>kdiba</td>\n",
       "      <td>pin01</td>\n",
       "      <td>one</td>\n",
       "      <td>fet11-04_21-20-3</td>\n",
       "      <td>kdiba_pin01_one_fet11-04_21-20-3</td>\n",
       "      <td>W:\\Data\\KDIBA\\pin01\\one\\fet11-04_21-20-3</td>\n",
       "      <td>SessionBatchProgress.NOT_STARTED</td>\n",
       "      <td>None</td>\n",
       "      <td>0</td>\n",
       "      <td>0</td>\n",
       "      <td>0</td>\n",
       "      <td>0</td>\n",
       "      <td>False</td>\n",
       "      <td></td>\n",
       "      <td>W:\\Data\\KDIBA\\pin01\\one\\fet11-04_21-20-3\\loade...</td>\n",
       "      <td>W:\\Data\\KDIBA\\pin01\\one\\fet11-04_21-20-3\\fet11...</td>\n",
       "      <td>False</td>\n",
       "      <td>True</td>\n",
       "    </tr>\n",
       "    <tr>\n",
       "      <th>68</th>\n",
       "      <td>kdiba</td>\n",
       "      <td>pin01</td>\n",
       "      <td>one</td>\n",
       "      <td>redundant</td>\n",
       "      <td>kdiba_pin01_one_redundant</td>\n",
       "      <td>W:\\Data\\KDIBA\\pin01\\one\\redundant</td>\n",
       "      <td>SessionBatchProgress.NOT_STARTED</td>\n",
       "      <td>None</td>\n",
       "      <td>0</td>\n",
       "      <td>0</td>\n",
       "      <td>0</td>\n",
       "      <td>0</td>\n",
       "      <td>False</td>\n",
       "      <td></td>\n",
       "      <td></td>\n",
       "      <td></td>\n",
       "      <td>False</td>\n",
       "      <td>False</td>\n",
       "    </tr>\n",
       "    <tr>\n",
       "      <th>69</th>\n",
       "      <td>kdiba</td>\n",
       "      <td>pin01</td>\n",
       "      <td>one</td>\n",
       "      <td>showclus</td>\n",
       "      <td>kdiba_pin01_one_showclus</td>\n",
       "      <td>W:\\Data\\KDIBA\\pin01\\one\\showclus</td>\n",
       "      <td>SessionBatchProgress.NOT_STARTED</td>\n",
       "      <td>None</td>\n",
       "      <td>0</td>\n",
       "      <td>0</td>\n",
       "      <td>0</td>\n",
       "      <td>0</td>\n",
       "      <td>False</td>\n",
       "      <td></td>\n",
       "      <td></td>\n",
       "      <td></td>\n",
       "      <td>False</td>\n",
       "      <td>False</td>\n",
       "    </tr>\n",
       "    <tr>\n",
       "      <th>70</th>\n",
       "      <td>kdiba</td>\n",
       "      <td>pin01</td>\n",
       "      <td>one</td>\n",
       "      <td>sleep</td>\n",
       "      <td>kdiba_pin01_one_sleep</td>\n",
       "      <td>W:\\Data\\KDIBA\\pin01\\one\\sleep</td>\n",
       "      <td>SessionBatchProgress.NOT_STARTED</td>\n",
       "      <td>None</td>\n",
       "      <td>0</td>\n",
       "      <td>0</td>\n",
       "      <td>0</td>\n",
       "      <td>0</td>\n",
       "      <td>False</td>\n",
       "      <td></td>\n",
       "      <td></td>\n",
       "      <td></td>\n",
       "      <td>False</td>\n",
       "      <td>False</td>\n",
       "    </tr>\n",
       "    <tr>\n",
       "      <th>71</th>\n",
       "      <td>kdiba</td>\n",
       "      <td>pin01</td>\n",
       "      <td>one</td>\n",
       "      <td>tmaze</td>\n",
       "      <td>kdiba_pin01_one_tmaze</td>\n",
       "      <td>W:\\Data\\KDIBA\\pin01\\one\\tmaze</td>\n",
       "      <td>SessionBatchProgress.NOT_STARTED</td>\n",
       "      <td>None</td>\n",
       "      <td>0</td>\n",
       "      <td>0</td>\n",
       "      <td>0</td>\n",
       "      <td>0</td>\n",
       "      <td>False</td>\n",
       "      <td></td>\n",
       "      <td></td>\n",
       "      <td></td>\n",
       "      <td>False</td>\n",
       "      <td>False</td>\n",
       "    </tr>\n",
       "  </tbody>\n",
       "</table>\n",
       "<p>72 rows × 18 columns</p>\n",
       "</div>"
      ],
      "text/plain": [
       "   format_name animal exper_name        session_name  \\\n",
       "0        kdiba  gor01        one  2006-6-07_11-26-53   \n",
       "1        kdiba  gor01        one  2006-6-08_14-26-15   \n",
       "2        kdiba  gor01        one   2006-6-09_1-22-43   \n",
       "3        kdiba  gor01        one   2006-6-09_3-23-37   \n",
       "4        kdiba  gor01        one  2006-6-12_15-55-31   \n",
       "..         ...    ...        ...                 ...   \n",
       "67       kdiba  pin01        one    fet11-04_21-20-3   \n",
       "68       kdiba  pin01        one           redundant   \n",
       "69       kdiba  pin01        one            showclus   \n",
       "70       kdiba  pin01        one               sleep   \n",
       "71       kdiba  pin01        one               tmaze   \n",
       "\n",
       "                               context  \\\n",
       "0   kdiba_gor01_one_2006-6-07_11-26-53   \n",
       "1   kdiba_gor01_one_2006-6-08_14-26-15   \n",
       "2    kdiba_gor01_one_2006-6-09_1-22-43   \n",
       "3    kdiba_gor01_one_2006-6-09_3-23-37   \n",
       "4   kdiba_gor01_one_2006-6-12_15-55-31   \n",
       "..                                 ...   \n",
       "67    kdiba_pin01_one_fet11-04_21-20-3   \n",
       "68           kdiba_pin01_one_redundant   \n",
       "69            kdiba_pin01_one_showclus   \n",
       "70               kdiba_pin01_one_sleep   \n",
       "71               kdiba_pin01_one_tmaze   \n",
       "\n",
       "                                      basedirs  \\\n",
       "0   W:\\Data\\KDIBA\\gor01\\one\\2006-6-07_11-26-53   \n",
       "1   W:\\Data\\KDIBA\\gor01\\one\\2006-6-08_14-26-15   \n",
       "2    W:\\Data\\KDIBA\\gor01\\one\\2006-6-09_1-22-43   \n",
       "3    W:\\Data\\KDIBA\\gor01\\one\\2006-6-09_3-23-37   \n",
       "4   W:\\Data\\KDIBA\\gor01\\one\\2006-6-12_15-55-31   \n",
       "..                                         ...   \n",
       "67    W:\\Data\\KDIBA\\pin01\\one\\fet11-04_21-20-3   \n",
       "68           W:\\Data\\KDIBA\\pin01\\one\\redundant   \n",
       "69            W:\\Data\\KDIBA\\pin01\\one\\showclus   \n",
       "70               W:\\Data\\KDIBA\\pin01\\one\\sleep   \n",
       "71               W:\\Data\\KDIBA\\pin01\\one\\tmaze   \n",
       "\n",
       "                              status errors  n_long_laps  n_long_replays  \\\n",
       "0   SessionBatchProgress.NOT_STARTED   None            0               0   \n",
       "1   SessionBatchProgress.NOT_STARTED   None            0               0   \n",
       "2   SessionBatchProgress.NOT_STARTED   None            0               0   \n",
       "3   SessionBatchProgress.NOT_STARTED   None            0               0   \n",
       "4   SessionBatchProgress.NOT_STARTED   None            0               0   \n",
       "..                               ...    ...          ...             ...   \n",
       "67  SessionBatchProgress.NOT_STARTED   None            0               0   \n",
       "68  SessionBatchProgress.NOT_STARTED   None            0               0   \n",
       "69  SessionBatchProgress.NOT_STARTED   None            0               0   \n",
       "70  SessionBatchProgress.NOT_STARTED   None            0               0   \n",
       "71  SessionBatchProgress.NOT_STARTED   None            0               0   \n",
       "\n",
       "    n_short_laps  n_short_replays  is_ready  \\\n",
       "0              0                0     False   \n",
       "1              0                0     False   \n",
       "2              0                0     False   \n",
       "3              0                0     False   \n",
       "4              0                0     False   \n",
       "..           ...              ...       ...   \n",
       "67             0                0     False   \n",
       "68             0                0     False   \n",
       "69             0                0     False   \n",
       "70             0                0     False   \n",
       "71             0                0     False   \n",
       "\n",
       "                       global_computation_result_file  \\\n",
       "0   W:\\Data\\KDIBA\\gor01\\one\\2006-6-07_11-26-53\\out...   \n",
       "1   W:\\Data\\KDIBA\\gor01\\one\\2006-6-08_14-26-15\\out...   \n",
       "2   W:\\Data\\KDIBA\\gor01\\one\\2006-6-09_1-22-43\\outp...   \n",
       "3                                                       \n",
       "4   W:\\Data\\KDIBA\\gor01\\one\\2006-6-12_15-55-31\\out...   \n",
       "..                                                ...   \n",
       "67                                                      \n",
       "68                                                      \n",
       "69                                                      \n",
       "70                                                      \n",
       "71                                                      \n",
       "\n",
       "                           loaded_session_pickle_file  \\\n",
       "0   W:\\Data\\KDIBA\\gor01\\one\\2006-6-07_11-26-53\\loa...   \n",
       "1   W:\\Data\\KDIBA\\gor01\\one\\2006-6-08_14-26-15\\loa...   \n",
       "2   W:\\Data\\KDIBA\\gor01\\one\\2006-6-09_1-22-43\\load...   \n",
       "3                                                       \n",
       "4   W:\\Data\\KDIBA\\gor01\\one\\2006-6-12_15-55-31\\loa...   \n",
       "..                                                ...   \n",
       "67  W:\\Data\\KDIBA\\pin01\\one\\fet11-04_21-20-3\\loade...   \n",
       "68                                                      \n",
       "69                                                      \n",
       "70                                                      \n",
       "71                                                      \n",
       "\n",
       "                                   ripple_result_file  \\\n",
       "0   W:\\Data\\KDIBA\\gor01\\one\\2006-6-07_11-26-53\\rip...   \n",
       "1   W:\\Data\\KDIBA\\gor01\\one\\2006-6-08_14-26-15\\rip...   \n",
       "2   W:\\Data\\KDIBA\\gor01\\one\\2006-6-09_1-22-43\\ripp...   \n",
       "3   W:\\Data\\KDIBA\\gor01\\one\\2006-6-09_3-23-37\\ripp...   \n",
       "4   W:\\Data\\KDIBA\\gor01\\one\\2006-6-12_15-55-31\\rip...   \n",
       "..                                                ...   \n",
       "67  W:\\Data\\KDIBA\\pin01\\one\\fet11-04_21-20-3\\fet11...   \n",
       "68                                                      \n",
       "69                                                      \n",
       "70                                                      \n",
       "71                                                      \n",
       "\n",
       "    has_user_replay_annotations  has_user_grid_bin_bounds_annotations  \n",
       "0                         False                                  True  \n",
       "1                          True                                  True  \n",
       "2                          True                                  True  \n",
       "3                         False                                  True  \n",
       "4                          True                                  True  \n",
       "..                          ...                                   ...  \n",
       "67                        False                                  True  \n",
       "68                        False                                 False  \n",
       "69                        False                                 False  \n",
       "70                        False                                 False  \n",
       "71                        False                                 False  \n",
       "\n",
       "[72 rows x 18 columns]"
      ]
     },
     "execution_count": 3,
     "metadata": {},
     "output_type": "execute_result"
    }
   ],
   "source": [
    "\n",
    "# try to load an existing batch result:\n",
    "# with set_posix_windows():\n",
    "global_batch_run = BatchRun.try_init_from_file(global_data_root_parent_path, active_global_batch_result_filename=active_global_batch_result_filename,\n",
    "\t\t\t\t\t\tskip_root_path_conversion=False, debug_print=debug_print) # on_needs_create_callback_fn=run_diba_batch\n",
    "\n",
    "batch_progress_df = global_batch_run.to_dataframe(expand_context=True, good_only=False) # all\n",
    "good_only_batch_progress_df = global_batch_run.to_dataframe(expand_context=True, good_only=True)\n",
    "batch_progress_df.batch_results.build_all_columns()\n",
    "good_only_batch_progress_df.batch_results.build_all_columns()\n",
    "batch_progress_df\n",
    "# with pd.option_context('display.max_rows', None, 'display.max_columns', None):  # more options can be specified also\n",
    "#     # display(batch_progress_df)\n",
    "#     # display(good_only_batch_progress_df)\n",
    "#     display(batch_progress_df)"
   ]
  },
  {
   "cell_type": "markdown",
   "id": "ab824348",
   "metadata": {
    "tags": []
   },
   "source": [
    "# Run Batch Executions/Computations"
   ]
  },
  {
   "cell_type": "code",
   "execution_count": null,
   "id": "019afbbd-70d2-4e75-9548-b6f22d2e31ca",
   "metadata": {
    "scrolled": true,
    "tags": []
   },
   "outputs": [],
   "source": [
    "# Hardcoded included_session_contexts:\n",
    "included_session_contexts = [IdentifyingContext(format_name='kdiba',animal='gor01',exper_name='one',session_name='2006-6-08_14-26-15'),\n",
    "    IdentifyingContext(format_name='kdiba',animal='gor01',exper_name='one',session_name='2006-6-09_1-22-43'),\n",
    "    IdentifyingContext(format_name='kdiba',animal='gor01',exper_name='one',session_name='2006-6-12_15-55-31'),\n",
    "    IdentifyingContext(format_name='kdiba',animal='gor01',exper_name='two',session_name='2006-6-07_16-40-19'),\n",
    "    IdentifyingContext(format_name='kdiba',animal='gor01',exper_name='two',session_name='2006-6-08_21-16-25'),\n",
    "    IdentifyingContext(format_name='kdiba',animal='gor01',exper_name='two',session_name='2006-6-09_22-24-40'),\n",
    "    IdentifyingContext(format_name='kdiba',animal='gor01',exper_name='two',session_name='2006-6-12_16-53-46'),\n",
    "    IdentifyingContext(format_name='kdiba',animal='vvp01',exper_name='one',session_name='2006-4-09_17-29-30'),\n",
    "    IdentifyingContext(format_name='kdiba',animal='vvp01',exper_name='one',session_name='2006-4-10_12-25-50'),\n",
    "    IdentifyingContext(format_name='kdiba',animal='vvp01',exper_name='two',session_name='2006-4-09_16-40-54'),\n",
    "    IdentifyingContext(format_name='kdiba',animal='vvp01',exper_name='two',session_name='2006-4-10_12-58-3'),\n",
    "    IdentifyingContext(format_name='kdiba',animal='pin01',exper_name='one',session_name='11-02_17-46-44'),\n",
    "    IdentifyingContext(format_name='kdiba',animal='pin01',exper_name='one',session_name='11-02_19-28-0'),\n",
    "    IdentifyingContext(format_name='kdiba',animal='pin01',exper_name='one',session_name='11-03_12-3-25'),\n",
    "    IdentifyingContext(format_name='kdiba',animal='pin01',exper_name='one',session_name='fet11-01_12-58-54')]\n",
    "\n",
    "batch_progress_df[np.isin(batch_progress_df['context'].values, included_session_contexts)]"
   ]
  },
  {
   "cell_type": "code",
   "execution_count": 28,
   "id": "b5fd7af3",
   "metadata": {},
   "outputs": [
    {
     "name": "stdout",
     "output_type": "stream",
     "text": [
      "IdentifyingContext(format_name='kdiba',animal='gor01',exper_name='one',session_name='2006-6-08_14-26-15')\n"
     ]
    },
    {
     "data": {
      "text/plain": [
       "\"IdentifyingContext(format_name='kdiba',animal='gor01',exper_name='one',session_name='2006-6-08_14-26-15')\""
      ]
     },
     "execution_count": 28,
     "metadata": {},
     "output_type": "execute_result"
    }
   ],
   "source": [
    "curr_session_context = included_session_contexts[0]\n",
    "print(curr_session_context.get_initialization_code_string())\n",
    "curr_session_context.get_initialization_code_string()"
   ]
  },
  {
   "cell_type": "code",
   "execution_count": 30,
   "id": "498658d3-743c-4506-b26f-7d7564f7067e",
   "metadata": {
    "tags": []
   },
   "outputs": [
    {
     "data": {
      "text/plain": [
       "\"IdentifyingContext(format_name='kdiba',animal='gor01',exper_name='one',session_name='2006-6-08_14-26-15')\""
      ]
     },
     "execution_count": 30,
     "metadata": {},
     "output_type": "execute_result"
    }
   ],
   "source": [
    "curr_session_context.get_initialization_code_string().strip('\"')"
   ]
  },
  {
   "cell_type": "code",
   "execution_count": 32,
   "id": "aca05f33",
   "metadata": {},
   "outputs": [
    {
     "data": {
      "text/plain": [
       "'mews'"
      ]
     },
     "execution_count": 32,
     "metadata": {},
     "output_type": "execute_result"
    }
   ],
   "source": [
    "a_test_str = \"mews\"\n",
    "a_test_str"
   ]
  },
  {
   "cell_type": "code",
   "execution_count": 34,
   "id": "1f4e9dd9",
   "metadata": {},
   "outputs": [
    {
     "data": {
      "text/plain": [
       "([Context(format_name: 'kdiba'\n",
       "          animal: 'gor01'\n",
       "          exper_name: 'one'\n",
       "          session_name: '2006-6-08_14-26-15'),\n",
       "  Context(format_name: 'kdiba'\n",
       "          animal: 'gor01'\n",
       "          exper_name: 'one'\n",
       "          session_name: '2006-6-09_1-22-43'),\n",
       "  Context(format_name: 'kdiba'\n",
       "          animal: 'gor01'\n",
       "          exper_name: 'one'\n",
       "          session_name: '2006-6-12_15-55-31'),\n",
       "  Context(format_name: 'kdiba'\n",
       "          animal: 'gor01'\n",
       "          exper_name: 'two'\n",
       "          session_name: '2006-6-07_16-40-19'),\n",
       "  Context(format_name: 'kdiba'\n",
       "          animal: 'gor01'\n",
       "          exper_name: 'two'\n",
       "          session_name: '2006-6-08_21-16-25'),\n",
       "  Context(format_name: 'kdiba'\n",
       "          animal: 'gor01'\n",
       "          exper_name: 'two'\n",
       "          session_name: '2006-6-09_22-24-40'),\n",
       "  Context(format_name: 'kdiba'\n",
       "          animal: 'gor01'\n",
       "          exper_name: 'two'\n",
       "          session_name: '2006-6-12_16-53-46'),\n",
       "  Context(format_name: 'kdiba'\n",
       "          animal: 'vvp01'\n",
       "          exper_name: 'one'\n",
       "          session_name: '2006-4-09_17-29-30'),\n",
       "  Context(format_name: 'kdiba'\n",
       "          animal: 'vvp01'\n",
       "          exper_name: 'one'\n",
       "          session_name: '2006-4-10_12-25-50'),\n",
       "  Context(format_name: 'kdiba'\n",
       "          animal: 'vvp01'\n",
       "          exper_name: 'two'\n",
       "          session_name: '2006-4-09_16-40-54'),\n",
       "  Context(format_name: 'kdiba'\n",
       "          animal: 'vvp01'\n",
       "          exper_name: 'two'\n",
       "          session_name: '2006-4-10_12-58-3'),\n",
       "  Context(format_name: 'kdiba'\n",
       "          animal: 'pin01'\n",
       "          exper_name: 'one'\n",
       "          session_name: '11-02_17-46-44'),\n",
       "  Context(format_name: 'kdiba'\n",
       "          animal: 'pin01'\n",
       "          exper_name: 'one'\n",
       "          session_name: '11-02_19-28-0'),\n",
       "  Context(format_name: 'kdiba'\n",
       "          animal: 'pin01'\n",
       "          exper_name: 'one'\n",
       "          session_name: '11-03_12-3-25'),\n",
       "  Context(format_name: 'kdiba'\n",
       "          animal: 'pin01'\n",
       "          exper_name: 'one'\n",
       "          session_name: 'fet11-01_12-58-54')],\n",
       " ['C:\\\\Users\\\\pho\\\\repos\\\\Spike3DWorkEnv\\\\Spike3D\\\\output\\\\generated_slurm_scripts\\\\run_kdiba_gor01_one_2006-6-08_14-26-15\\\\run_kdiba_gor01_one_2006-6-08_14-26-15.py',\n",
       "  'C:\\\\Users\\\\pho\\\\repos\\\\Spike3DWorkEnv\\\\Spike3D\\\\output\\\\generated_slurm_scripts\\\\run_kdiba_gor01_one_2006-6-09_1-22-43\\\\run_kdiba_gor01_one_2006-6-09_1-22-43.py',\n",
       "  'C:\\\\Users\\\\pho\\\\repos\\\\Spike3DWorkEnv\\\\Spike3D\\\\output\\\\generated_slurm_scripts\\\\run_kdiba_gor01_one_2006-6-12_15-55-31\\\\run_kdiba_gor01_one_2006-6-12_15-55-31.py',\n",
       "  'C:\\\\Users\\\\pho\\\\repos\\\\Spike3DWorkEnv\\\\Spike3D\\\\output\\\\generated_slurm_scripts\\\\run_kdiba_gor01_two_2006-6-07_16-40-19\\\\run_kdiba_gor01_two_2006-6-07_16-40-19.py',\n",
       "  'C:\\\\Users\\\\pho\\\\repos\\\\Spike3DWorkEnv\\\\Spike3D\\\\output\\\\generated_slurm_scripts\\\\run_kdiba_gor01_two_2006-6-08_21-16-25\\\\run_kdiba_gor01_two_2006-6-08_21-16-25.py',\n",
       "  'C:\\\\Users\\\\pho\\\\repos\\\\Spike3DWorkEnv\\\\Spike3D\\\\output\\\\generated_slurm_scripts\\\\run_kdiba_gor01_two_2006-6-09_22-24-40\\\\run_kdiba_gor01_two_2006-6-09_22-24-40.py',\n",
       "  'C:\\\\Users\\\\pho\\\\repos\\\\Spike3DWorkEnv\\\\Spike3D\\\\output\\\\generated_slurm_scripts\\\\run_kdiba_gor01_two_2006-6-12_16-53-46\\\\run_kdiba_gor01_two_2006-6-12_16-53-46.py',\n",
       "  'C:\\\\Users\\\\pho\\\\repos\\\\Spike3DWorkEnv\\\\Spike3D\\\\output\\\\generated_slurm_scripts\\\\run_kdiba_vvp01_one_2006-4-09_17-29-30\\\\run_kdiba_vvp01_one_2006-4-09_17-29-30.py',\n",
       "  'C:\\\\Users\\\\pho\\\\repos\\\\Spike3DWorkEnv\\\\Spike3D\\\\output\\\\generated_slurm_scripts\\\\run_kdiba_vvp01_one_2006-4-10_12-25-50\\\\run_kdiba_vvp01_one_2006-4-10_12-25-50.py',\n",
       "  'C:\\\\Users\\\\pho\\\\repos\\\\Spike3DWorkEnv\\\\Spike3D\\\\output\\\\generated_slurm_scripts\\\\run_kdiba_vvp01_two_2006-4-09_16-40-54\\\\run_kdiba_vvp01_two_2006-4-09_16-40-54.py',\n",
       "  'C:\\\\Users\\\\pho\\\\repos\\\\Spike3DWorkEnv\\\\Spike3D\\\\output\\\\generated_slurm_scripts\\\\run_kdiba_vvp01_two_2006-4-10_12-58-3\\\\run_kdiba_vvp01_two_2006-4-10_12-58-3.py',\n",
       "  'C:\\\\Users\\\\pho\\\\repos\\\\Spike3DWorkEnv\\\\Spike3D\\\\output\\\\generated_slurm_scripts\\\\run_kdiba_pin01_one_11-02_17-46-44\\\\run_kdiba_pin01_one_11-02_17-46-44.py',\n",
       "  'C:\\\\Users\\\\pho\\\\repos\\\\Spike3DWorkEnv\\\\Spike3D\\\\output\\\\generated_slurm_scripts\\\\run_kdiba_pin01_one_11-02_19-28-0\\\\run_kdiba_pin01_one_11-02_19-28-0.py',\n",
       "  'C:\\\\Users\\\\pho\\\\repos\\\\Spike3DWorkEnv\\\\Spike3D\\\\output\\\\generated_slurm_scripts\\\\run_kdiba_pin01_one_11-03_12-3-25\\\\run_kdiba_pin01_one_11-03_12-3-25.py',\n",
       "  'C:\\\\Users\\\\pho\\\\repos\\\\Spike3DWorkEnv\\\\Spike3D\\\\output\\\\generated_slurm_scripts\\\\run_kdiba_pin01_one_fet11-01_12-58-54\\\\run_kdiba_pin01_one_fet11-01_12-58-54.py'],\n",
       " ['C:\\\\Users\\\\pho\\\\repos\\\\Spike3DWorkEnv\\\\Spike3D\\\\output\\\\generated_slurm_scripts\\\\run_kdiba_gor01_one_2006-6-08_14-26-15\\\\run_kdiba_gor01_one_2006-6-08_14-26-15.sh',\n",
       "  'C:\\\\Users\\\\pho\\\\repos\\\\Spike3DWorkEnv\\\\Spike3D\\\\output\\\\generated_slurm_scripts\\\\run_kdiba_gor01_one_2006-6-09_1-22-43\\\\run_kdiba_gor01_one_2006-6-09_1-22-43.sh',\n",
       "  'C:\\\\Users\\\\pho\\\\repos\\\\Spike3DWorkEnv\\\\Spike3D\\\\output\\\\generated_slurm_scripts\\\\run_kdiba_gor01_one_2006-6-12_15-55-31\\\\run_kdiba_gor01_one_2006-6-12_15-55-31.sh',\n",
       "  'C:\\\\Users\\\\pho\\\\repos\\\\Spike3DWorkEnv\\\\Spike3D\\\\output\\\\generated_slurm_scripts\\\\run_kdiba_gor01_two_2006-6-07_16-40-19\\\\run_kdiba_gor01_two_2006-6-07_16-40-19.sh',\n",
       "  'C:\\\\Users\\\\pho\\\\repos\\\\Spike3DWorkEnv\\\\Spike3D\\\\output\\\\generated_slurm_scripts\\\\run_kdiba_gor01_two_2006-6-08_21-16-25\\\\run_kdiba_gor01_two_2006-6-08_21-16-25.sh',\n",
       "  'C:\\\\Users\\\\pho\\\\repos\\\\Spike3DWorkEnv\\\\Spike3D\\\\output\\\\generated_slurm_scripts\\\\run_kdiba_gor01_two_2006-6-09_22-24-40\\\\run_kdiba_gor01_two_2006-6-09_22-24-40.sh',\n",
       "  'C:\\\\Users\\\\pho\\\\repos\\\\Spike3DWorkEnv\\\\Spike3D\\\\output\\\\generated_slurm_scripts\\\\run_kdiba_gor01_two_2006-6-12_16-53-46\\\\run_kdiba_gor01_two_2006-6-12_16-53-46.sh',\n",
       "  'C:\\\\Users\\\\pho\\\\repos\\\\Spike3DWorkEnv\\\\Spike3D\\\\output\\\\generated_slurm_scripts\\\\run_kdiba_vvp01_one_2006-4-09_17-29-30\\\\run_kdiba_vvp01_one_2006-4-09_17-29-30.sh',\n",
       "  'C:\\\\Users\\\\pho\\\\repos\\\\Spike3DWorkEnv\\\\Spike3D\\\\output\\\\generated_slurm_scripts\\\\run_kdiba_vvp01_one_2006-4-10_12-25-50\\\\run_kdiba_vvp01_one_2006-4-10_12-25-50.sh',\n",
       "  'C:\\\\Users\\\\pho\\\\repos\\\\Spike3DWorkEnv\\\\Spike3D\\\\output\\\\generated_slurm_scripts\\\\run_kdiba_vvp01_two_2006-4-09_16-40-54\\\\run_kdiba_vvp01_two_2006-4-09_16-40-54.sh',\n",
       "  'C:\\\\Users\\\\pho\\\\repos\\\\Spike3DWorkEnv\\\\Spike3D\\\\output\\\\generated_slurm_scripts\\\\run_kdiba_vvp01_two_2006-4-10_12-58-3\\\\run_kdiba_vvp01_two_2006-4-10_12-58-3.sh',\n",
       "  'C:\\\\Users\\\\pho\\\\repos\\\\Spike3DWorkEnv\\\\Spike3D\\\\output\\\\generated_slurm_scripts\\\\run_kdiba_pin01_one_11-02_17-46-44\\\\run_kdiba_pin01_one_11-02_17-46-44.sh',\n",
       "  'C:\\\\Users\\\\pho\\\\repos\\\\Spike3DWorkEnv\\\\Spike3D\\\\output\\\\generated_slurm_scripts\\\\run_kdiba_pin01_one_11-02_19-28-0\\\\run_kdiba_pin01_one_11-02_19-28-0.sh',\n",
       "  'C:\\\\Users\\\\pho\\\\repos\\\\Spike3DWorkEnv\\\\Spike3D\\\\output\\\\generated_slurm_scripts\\\\run_kdiba_pin01_one_11-03_12-3-25\\\\run_kdiba_pin01_one_11-03_12-3-25.sh',\n",
       "  'C:\\\\Users\\\\pho\\\\repos\\\\Spike3DWorkEnv\\\\Spike3D\\\\output\\\\generated_slurm_scripts\\\\run_kdiba_pin01_one_fet11-01_12-58-54\\\\run_kdiba_pin01_one_fet11-01_12-58-54.sh'])"
      ]
     },
     "execution_count": 34,
     "metadata": {},
     "output_type": "execute_result"
    }
   ],
   "source": [
    "## Build Slurm Scripts:\n",
    "global_batch_run.generate_batch_slurm_jobs(included_session_contexts, Path('output/generated_slurm_scripts/').resolve(), use_separate_run_directories=True)"
   ]
  },
  {
   "cell_type": "code",
   "execution_count": null,
   "id": "0ce7d23b",
   "metadata": {},
   "outputs": [],
   "source": [
    "multiprocessing_kwargs = dict(use_multiprocessing=False, num_processes=1)\n",
    "# multiprocessing_kwargs = dict(use_multiprocessing=True, num_processes=6)\n",
    "\n",
    "enable_full_pipeline_in_ram = False\n",
    "# enable_full_pipeline_in_ram = True\n",
    "\n",
    "# Whether to output figures:\n",
    "should_perform_figure_generation_to_file=False\n",
    "# should_perform_figure_generation_to_file=True\n",
    "\n",
    "## Included Session Contexts:\n",
    "# included_session_contexts = batch_progress_df[np.logical_and(batch_progress_df['has_user_replay_annotations'], batch_progress_df['is_ready'])]['context'].to_numpy().tolist()\n",
    "\n",
    "# Only require sessions to have replay annotations:\n",
    "# included_session_contexts = batch_progress_df[batch_progress_df['has_user_replay_annotations']]['context'].to_numpy().tolist()\n",
    "\n",
    "# included_session_contexts = batch_progress_df['context'].to_numpy().tolist()[:4] # Only get the first 6\n",
    "## Limit the contexts to run to the last N:\n",
    "# included_session_contexts = included_session_contexts[:2]\n",
    "\n",
    "# ## No filtering the sessions:\n",
    "# included_session_contexts = None\n",
    "\n",
    "if included_session_contexts is not None:\n",
    "    print(f'len(included_session_contexts): {len(included_session_contexts)}')\n",
    "else:\n",
    "    print(f'included_session_contexts is None so all session contexts will be included.')\n",
    "\n",
    "# included_session_contexts\n",
    "\n",
    "\n",
    "# No Reloading\n",
    "result_handler = BatchSessionCompletionHandler(force_reload_all=False,\n",
    "                                                session_computations_options=BatchComputationProcessOptions(should_load=True, should_compute=False, should_save=False),\n",
    "                                                global_computations_options=BatchComputationProcessOptions(should_load=True, should_compute=False, should_save=False),\n",
    "                                                should_perform_figure_generation_to_file=should_perform_figure_generation_to_file, saving_mode=PipelineSavingScheme.SKIP_SAVING, force_global_recompute=False,\n",
    "                                                enable_full_pipeline_in_ram=enable_full_pipeline_in_ram,\n",
    "                                                **multiprocessing_kwargs)\n",
    "\n",
    "# # Forced Reloading:\n",
    "# result_handler = BatchSessionCompletionHandler(force_reload_all=True,\n",
    "#                                                 session_computations_options=BatchComputationProcessOptions(should_load=False, should_compute=True, should_save=True),\n",
    "#                                                 global_computations_options=BatchComputationProcessOptions(should_load=False, should_compute=True, should_save=True),\n",
    "#                                                 should_perform_figure_generation_to_file=should_perform_figure_generation_to_file, saving_mode=PipelineSavingScheme.OVERWRITE_IN_PLACE, force_global_recompute=True,\n",
    "#                                                 **multiprocessing_kwargs)\n",
    "\n",
    "\n",
    "\n",
    "## Execute with the custom arguments.\n",
    "active_computation_functions_name_includelist=['_perform_baseline_placefield_computation',\n",
    "                                        # '_perform_time_dependent_placefield_computation',\n",
    "                                        '_perform_extended_statistics_computation',\n",
    "                                        '_perform_position_decoding_computation', \n",
    "                                        '_perform_firing_rate_trends_computation',\n",
    "                                        '_perform_pf_find_ratemap_peaks_computation',\n",
    "                                        # '_perform_time_dependent_pf_sequential_surprise_computation'\n",
    "                                        '_perform_two_step_position_decoding_computation',\n",
    "                                        # '_perform_recursive_latent_placefield_decoding'\n",
    "                                    ]\n",
    "# active_computation_functions_name_includelist=['_perform_baseline_placefield_computation']\n",
    "global_batch_run.execute_all(force_reload=result_handler.force_reload_all, saving_mode=result_handler.saving_mode, skip_extended_batch_computations=True, post_run_callback_fn=result_handler.on_complete_success_execution_session,\n",
    "                             fail_on_exception=True, included_session_contexts=included_session_contexts,\n",
    "                                                                                        **{'computation_functions_name_includelist': active_computation_functions_name_includelist,\n",
    "                                                                                            'active_session_computation_configs': None,\n",
    "                                                                                            'allow_processing_previously_completed': True}, **multiprocessing_kwargs) # can override `active_session_computation_configs` if we want to set custom ones like only the laps.)\n",
    "\n",
    "# 4m 39.8s"
   ]
  },
  {
   "cell_type": "code",
   "execution_count": null,
   "id": "cceb4c19-1006-4e32-88c7-40f3b732b8e2",
   "metadata": {
    "tags": []
   },
   "outputs": [],
   "source": [
    "batch_progress_df[np.isin(batch_progress_df['context'].values, included_session_contexts)]"
   ]
  },
  {
   "cell_type": "code",
   "execution_count": null,
   "id": "33c02c97-a566-4e24-9219-6ee09a4075b6",
   "metadata": {
    "tags": []
   },
   "outputs": [],
   "source": [
    "# Get only the sessions with non-None results\n",
    "sessions_with_results = [a_ctxt for a_ctxt, a_result in global_batch_run.session_batch_outputs.items() if a_result is not None]\n",
    "sessions_with_results"
   ]
  },
  {
   "cell_type": "code",
   "execution_count": null,
   "id": "a9e19412-2b21-4841-8207-952a04e1080b",
   "metadata": {
    "tags": []
   },
   "outputs": [],
   "source": [
    "session_identifiers = included_session_contexts"
   ]
  },
  {
   "cell_type": "code",
   "execution_count": 6,
   "id": "d98e2e13-bbdf-4c82-9fd6-8d7ac702e114",
   "metadata": {
    "tags": []
   },
   "outputs": [
    {
     "name": "stdout",
     "output_type": "stream",
     "text": [
      "Saving (file mode 'w+b') saved session pickle file results : W:\\Data\\global_batch_result_2023-08-09_Test.pkl... done.\n"
     ]
    }
   ],
   "source": [
    "# Save to pickle:\n",
    "saveData(global_batch_result_file_path, global_batch_run) # Update the global batch run dictionary"
   ]
  },
  {
   "cell_type": "code",
   "execution_count": null,
   "id": "55c00af0-9a53-4b10-b24c-c83a33293a67",
   "metadata": {
    "tags": []
   },
   "outputs": [],
   "source": [
    "hdf5_output_paths"
   ]
  },
  {
   "cell_type": "code",
   "execution_count": null,
   "id": "9c21482b-23ac-44e6-bfb2-8e3d480d74bc",
   "metadata": {
    "tags": []
   },
   "outputs": [],
   "source": [
    "# Combine across .h5 files:\n",
    "import tables as tb\n",
    "import h5py\n",
    "\n",
    "# f'/kdiba/gor01/one/2006-6-12_15-55-31/neuron_identities/table'\n",
    "\n",
    "session_identifiers, pkl_output_paths, hdf5_output_paths\n",
    "\n",
    "file_path = f'output/test_external_links.h5'\n",
    "a_global_computations_group_key: str = f\"{session_group_key}/global_computations\"\n",
    "with tb.open_file(file_path, mode='w') as f: # this mode='w' is correct because it should overwrite the previous file and not append to it.\n",
    "    a_global_computations_group = f.create_group(session_group_key, 'global_computations', title='the result of computations that operate over many or all of the filters in the session.', createparents=True)\n",
    "    an_external_link = f.create_external_link(f'', n"
   ]
  },
  {
   "cell_type": "code",
   "execution_count": null,
   "id": "b2cb43f9-214a-401b-8ae9-7dbe9af40180",
   "metadata": {
    "tags": []
   },
   "outputs": [],
   "source": [
    "\n",
    "\n",
    "from typing import List\n",
    "from attrs import define, field, Factory\n",
    "import pandas as pd\n",
    "import tables as tb\n",
    "\n",
    "@define(slots=False)\n",
    "class H5Loader:\n",
    "    \"\"\"\n",
    "    H5Loader class for loading and consolidating .h5 files\n",
    "    Usage:\n",
    "        loader = H5Loader(file_list)\n",
    "        master_table = loader.load_and_consolidate()\n",
    "    \"\"\"\n",
    "    file_list: List[str] = field(default=Factory(list))\n",
    "    table_key_list: List[str] = field(default=Factory(list))\n",
    "    \n",
    "    def load_and_consolidate(self) -> pd.DataFrame:\n",
    "        \"\"\"\n",
    "        Loads .h5 files and consolidates into a master table\n",
    "        \"\"\"\n",
    "        data_frames = []\n",
    "        for file, table_key in zip(self.file_list, self.table_key_list):\n",
    "            with tb.open_file(file) as h5_file:\n",
    "                a_table = h5_file.get_node(table_key)\n",
    "                print(f'a_table: {a_table}')\n",
    "                # for a_record in a_table\n",
    "                \n",
    "                # data_frames.append(a_table)\n",
    "#                 for table in h5_file.get_node(table_key):\n",
    "#                 # for table in h5_file.root:\n",
    "                # df = pd.DataFrame.from_records(a_table[:]) # .read()\n",
    "                df = pd.DataFrame.from_records(a_table.read()) \n",
    "                data_frames.append(df)\n",
    "\n",
    "        master_table = pd.concat(data_frames, ignore_index=True)\n",
    "        return master_table\n",
    "\n",
    "    \n",
    "    \n",
    "    \n",
    "session_group_keys: List[str] = [(\"/\" + a_ctxt.get_description(separator=\"/\", include_property_names=False)) for a_ctxt in session_identifiers] # 'kdiba/gor01/one/2006-6-08_14-26-15'\n",
    "# session_uid: str = session_context.get_description(separator=\"|\", include_property_names=False)\n",
    "neuron_identities_table_keys = [f\"{session_group_key}/neuron_identities/table\" for session_group_key in session_group_keys]\n",
    "\n",
    "\n",
    "a_loader = H5Loader(file_list=hdf5_output_paths, table_key_list=neuron_identities_table_keys)\n",
    "a_loader\n",
    "\n",
    "_out_table = a_loader.load_and_consolidate()\n",
    "_out_table"
   ]
  },
  {
   "cell_type": "markdown",
   "id": "cadc1ac7-5771-4cd5-94c6-7a6244eb8217",
   "metadata": {
    "tags": []
   },
   "source": [
    "# Extract output files from all completed sessions:"
   ]
  },
  {
   "cell_type": "code",
   "execution_count": 7,
   "id": "7749849c-9f57-4d2c-aab8-5ee9353f6cf6",
   "metadata": {},
   "outputs": [],
   "source": [
    "# '/nfs/turbo/umms-kdiba/Data/KDIBA/gor01/one/2006-6-09_1-22-43/output/pipeline_results.h5'\n",
    "\n",
    "# kdiba_vvp01_two_2006-4-10_12-58-3\n",
    "# \toutputs_local ={'pkl': PosixPath('/nfs/turbo/umms-kdiba/Data/KDIBA/vvp01/two/2006-4-10_12-58-3/loadedSessPickle.pkl')}\n",
    "# \toutputs_global ={'pkl': PosixPath('/nfs/turbo/umms-kdiba/Data/KDIBA/vvp01/two/2006-4-10_12-58-3/output/global_computation_results.pkl'), 'hdf5': PosixPath('/nfs/turbo/umms-kdiba/Data/KDIBA/vvp01/two/2006-4-10_12-58-3/output/pipeline_results.h5')}\n",
    "\n",
    "session_identifiers, pkl_output_paths, hdf5_output_paths = global_batch_run.build_output_files_lists()"
   ]
  },
  {
   "cell_type": "code",
   "execution_count": 8,
   "id": "2361385b-385d-4e12-997b-e2a68404858d",
   "metadata": {},
   "outputs": [
    {
     "data": {
      "text/plain": [
       "[Context(format_name: 'kdiba'\n",
       "         animal: 'gor01'\n",
       "         exper_name: 'one'\n",
       "         session_name: '2006-6-12_15-55-31'),\n",
       " Context(format_name: 'kdiba'\n",
       "         animal: 'gor01'\n",
       "         exper_name: 'two'\n",
       "         session_name: '2006-6-07_16-40-19'),\n",
       " Context(format_name: 'kdiba'\n",
       "         animal: 'gor01'\n",
       "         exper_name: 'two'\n",
       "         session_name: '2006-6-08_21-16-25'),\n",
       " Context(format_name: 'kdiba'\n",
       "         animal: 'gor01'\n",
       "         exper_name: 'two'\n",
       "         session_name: '2006-6-09_22-24-40'),\n",
       " Context(format_name: 'kdiba'\n",
       "         animal: 'gor01'\n",
       "         exper_name: 'two'\n",
       "         session_name: '2006-6-12_16-53-46'),\n",
       " Context(format_name: 'kdiba'\n",
       "         animal: 'vvp01'\n",
       "         exper_name: 'one'\n",
       "         session_name: '2006-4-09_17-29-30'),\n",
       " Context(format_name: 'kdiba'\n",
       "         animal: 'vvp01'\n",
       "         exper_name: 'one'\n",
       "         session_name: '2006-4-10_12-25-50'),\n",
       " Context(format_name: 'kdiba'\n",
       "         animal: 'vvp01'\n",
       "         exper_name: 'two'\n",
       "         session_name: '2006-4-09_16-40-54'),\n",
       " Context(format_name: 'kdiba'\n",
       "         animal: 'vvp01'\n",
       "         exper_name: 'two'\n",
       "         session_name: '2006-4-10_12-58-3'),\n",
       " Context(format_name: 'kdiba'\n",
       "         animal: 'pin01'\n",
       "         exper_name: 'one'\n",
       "         session_name: '11-02_17-46-44'),\n",
       " Context(format_name: 'kdiba'\n",
       "         animal: 'pin01'\n",
       "         exper_name: 'one'\n",
       "         session_name: '11-02_19-28-0'),\n",
       " Context(format_name: 'kdiba'\n",
       "         animal: 'pin01'\n",
       "         exper_name: 'one'\n",
       "         session_name: '11-03_12-3-25'),\n",
       " Context(format_name: 'kdiba'\n",
       "         animal: 'pin01'\n",
       "         exper_name: 'one'\n",
       "         session_name: 'fet11-01_12-58-54')]"
      ]
     },
     "execution_count": 8,
     "metadata": {},
     "output_type": "execute_result"
    }
   ],
   "source": [
    "session_identifiers"
   ]
  },
  {
   "cell_type": "code",
   "execution_count": 9,
   "id": "c8288dee-a41a-4640-a139-cb0a64f01814",
   "metadata": {},
   "outputs": [
    {
     "data": {
      "text/plain": [
       "[WindowsPath('W:/Data/KDIBA/gor01/one/2006-6-12_15-55-31/output/pipeline_results.h5'),\n",
       " WindowsPath('W:/Data/KDIBA/gor01/two/2006-6-07_16-40-19/output/pipeline_results.h5'),\n",
       " WindowsPath('W:/Data/KDIBA/gor01/two/2006-6-08_21-16-25/output/pipeline_results.h5'),\n",
       " WindowsPath('W:/Data/KDIBA/gor01/two/2006-6-09_22-24-40/output/pipeline_results.h5'),\n",
       " WindowsPath('W:/Data/KDIBA/gor01/two/2006-6-12_16-53-46/output/pipeline_results.h5'),\n",
       " WindowsPath('W:/Data/KDIBA/vvp01/one/2006-4-09_17-29-30/output/pipeline_results.h5'),\n",
       " WindowsPath('W:/Data/KDIBA/vvp01/one/2006-4-10_12-25-50/output/pipeline_results.h5'),\n",
       " WindowsPath('W:/Data/KDIBA/vvp01/two/2006-4-09_16-40-54/output/pipeline_results.h5'),\n",
       " WindowsPath('W:/Data/KDIBA/vvp01/two/2006-4-10_12-58-3/output/pipeline_results.h5'),\n",
       " WindowsPath('W:/Data/KDIBA/pin01/one/11-02_17-46-44/output/pipeline_results.h5'),\n",
       " WindowsPath('W:/Data/KDIBA/pin01/one/11-02_19-28-0/output/pipeline_results.h5'),\n",
       " WindowsPath('W:/Data/KDIBA/pin01/one/11-03_12-3-25/output/pipeline_results.h5'),\n",
       " WindowsPath('W:/Data/KDIBA/pin01/one/fet11-01_12-58-54/output/pipeline_results.h5')]"
      ]
     },
     "execution_count": 9,
     "metadata": {},
     "output_type": "execute_result"
    }
   ],
   "source": [
    "hdf5_output_paths"
   ]
  },
  {
   "cell_type": "code",
   "execution_count": 10,
   "id": "99cdc211-56e3-4e38-b02f-ea71451766eb",
   "metadata": {},
   "outputs": [
    {
     "data": {
      "text/plain": [
       "[WindowsPath('W:/Data/KDIBA/gor01/one/2006-6-12_15-55-31/output/pipeline_results.h5'),\n",
       " WindowsPath('W:/Data/KDIBA/gor01/two/2006-6-07_16-40-19/output/pipeline_results.h5'),\n",
       " WindowsPath('W:/Data/KDIBA/gor01/two/2006-6-08_21-16-25/output/pipeline_results.h5'),\n",
       " WindowsPath('W:/Data/KDIBA/gor01/two/2006-6-09_22-24-40/output/pipeline_results.h5'),\n",
       " WindowsPath('W:/Data/KDIBA/gor01/two/2006-6-12_16-53-46/output/pipeline_results.h5'),\n",
       " WindowsPath('W:/Data/KDIBA/vvp01/one/2006-4-09_17-29-30/output/pipeline_results.h5'),\n",
       " WindowsPath('W:/Data/KDIBA/vvp01/one/2006-4-10_12-25-50/output/pipeline_results.h5'),\n",
       " WindowsPath('W:/Data/KDIBA/vvp01/two/2006-4-09_16-40-54/output/pipeline_results.h5'),\n",
       " WindowsPath('W:/Data/KDIBA/vvp01/two/2006-4-10_12-58-3/output/pipeline_results.h5'),\n",
       " WindowsPath('W:/Data/KDIBA/pin01/one/11-02_17-46-44/output/pipeline_results.h5'),\n",
       " WindowsPath('W:/Data/KDIBA/pin01/one/11-02_19-28-0/output/pipeline_results.h5'),\n",
       " WindowsPath('W:/Data/KDIBA/pin01/one/11-03_12-3-25/output/pipeline_results.h5'),\n",
       " WindowsPath('W:/Data/KDIBA/pin01/one/fet11-01_12-58-54/output/pipeline_results.h5')]"
      ]
     },
     "execution_count": 10,
     "metadata": {},
     "output_type": "execute_result"
    }
   ],
   "source": [
    "hdf5_output_paths"
   ]
  },
  {
   "cell_type": "code",
   "execution_count": 11,
   "id": "47cb0cd9-3e60-4425-9351-dfc903f3f067",
   "metadata": {},
   "outputs": [
    {
     "name": "stdout",
     "output_type": "stream",
     "text": [
      "W:\\Data\\KDIBA\\gor01\\one\\2006-6-12_15-55-31\\output\\pipeline_results.h5\n",
      "W:\\Data\\KDIBA\\gor01\\two\\2006-6-07_16-40-19\\output\\pipeline_results.h5\n",
      "W:\\Data\\KDIBA\\gor01\\two\\2006-6-08_21-16-25\\output\\pipeline_results.h5\n",
      "W:\\Data\\KDIBA\\gor01\\two\\2006-6-09_22-24-40\\output\\pipeline_results.h5\n",
      "W:\\Data\\KDIBA\\gor01\\two\\2006-6-12_16-53-46\\output\\pipeline_results.h5\n",
      "W:\\Data\\KDIBA\\vvp01\\one\\2006-4-09_17-29-30\\output\\pipeline_results.h5\n",
      "W:\\Data\\KDIBA\\vvp01\\one\\2006-4-10_12-25-50\\output\\pipeline_results.h5\n",
      "W:\\Data\\KDIBA\\vvp01\\two\\2006-4-09_16-40-54\\output\\pipeline_results.h5\n",
      "W:\\Data\\KDIBA\\vvp01\\two\\2006-4-10_12-58-3\\output\\pipeline_results.h5\n",
      "W:\\Data\\KDIBA\\pin01\\one\\11-02_17-46-44\\output\\pipeline_results.h5\n",
      "W:\\Data\\KDIBA\\pin01\\one\\11-02_19-28-0\\output\\pipeline_results.h5\n",
      "W:\\Data\\KDIBA\\pin01\\one\\11-03_12-3-25\\output\\pipeline_results.h5\n",
      "W:\\Data\\KDIBA\\pin01\\one\\fet11-01_12-58-54\\output\\pipeline_results.h5\n",
      "saving out to \"W:\\Data\\fileList_Greatlakes_HDF5_2023-08-09_Test.txt\"...\n",
      "W:\\Data\\KDIBA\\gor01\\one\\2006-6-12_15-55-31\\loadedSessPickle.pkl\n",
      "W:\\Data\\KDIBA\\gor01\\one\\2006-6-12_15-55-31\\output\\global_computation_results.pkl\n",
      "W:\\Data\\KDIBA\\gor01\\two\\2006-6-07_16-40-19\\loadedSessPickle.pkl\n",
      "W:\\Data\\KDIBA\\gor01\\two\\2006-6-07_16-40-19\\output\\global_computation_results.pkl\n",
      "W:\\Data\\KDIBA\\gor01\\two\\2006-6-08_21-16-25\\loadedSessPickle.pkl\n",
      "W:\\Data\\KDIBA\\gor01\\two\\2006-6-08_21-16-25\\output\\global_computation_results.pkl\n",
      "W:\\Data\\KDIBA\\gor01\\two\\2006-6-09_22-24-40\\loadedSessPickle.pkl\n",
      "W:\\Data\\KDIBA\\gor01\\two\\2006-6-09_22-24-40\\output\\global_computation_results.pkl\n",
      "W:\\Data\\KDIBA\\gor01\\two\\2006-6-12_16-53-46\\loadedSessPickle.pkl\n",
      "W:\\Data\\KDIBA\\gor01\\two\\2006-6-12_16-53-46\\output\\global_computation_results.pkl\n",
      "W:\\Data\\KDIBA\\vvp01\\one\\2006-4-09_17-29-30\\loadedSessPickle.pkl\n",
      "W:\\Data\\KDIBA\\vvp01\\one\\2006-4-09_17-29-30\\output\\global_computation_results.pkl\n",
      "W:\\Data\\KDIBA\\vvp01\\one\\2006-4-10_12-25-50\\loadedSessPickle.pkl\n",
      "W:\\Data\\KDIBA\\vvp01\\one\\2006-4-10_12-25-50\\output\\global_computation_results.pkl\n",
      "W:\\Data\\KDIBA\\vvp01\\two\\2006-4-09_16-40-54\\loadedSessPickle.pkl\n",
      "W:\\Data\\KDIBA\\vvp01\\two\\2006-4-09_16-40-54\\output\\global_computation_results.pkl\n",
      "W:\\Data\\KDIBA\\vvp01\\two\\2006-4-10_12-58-3\\loadedSessPickle.pkl\n",
      "W:\\Data\\KDIBA\\vvp01\\two\\2006-4-10_12-58-3\\output\\global_computation_results.pkl\n",
      "W:\\Data\\KDIBA\\pin01\\one\\11-02_17-46-44\\loadedSessPickle.pkl\n",
      "W:\\Data\\KDIBA\\pin01\\one\\11-02_17-46-44\\output\\global_computation_results.pkl\n",
      "W:\\Data\\KDIBA\\pin01\\one\\11-02_19-28-0\\loadedSessPickle.pkl\n",
      "W:\\Data\\KDIBA\\pin01\\one\\11-02_19-28-0\\output\\global_computation_results.pkl\n",
      "W:\\Data\\KDIBA\\pin01\\one\\11-03_12-3-25\\loadedSessPickle.pkl\n",
      "W:\\Data\\KDIBA\\pin01\\one\\11-03_12-3-25\\output\\global_computation_results.pkl\n",
      "W:\\Data\\KDIBA\\pin01\\one\\fet11-01_12-58-54\\loadedSessPickle.pkl\n",
      "W:\\Data\\KDIBA\\pin01\\one\\fet11-01_12-58-54\\output\\global_computation_results.pkl\n",
      "saving out to \"W:\\Data\\fileList_Greatlakes_pkls_2023-08-09_Test.txt\"...\n"
     ]
    }
   ],
   "source": [
    "# Save output filelist:\n",
    "\n",
    "\n",
    "def save_filelist_to_text_file(hdf5_output_paths, filelist_path: Path):\n",
    "    _out_string = '\\n'.join([str(a_file) for a_file in hdf5_output_paths])\n",
    "    print(f'{_out_string}')\n",
    "    print(f'saving out to \"{filelist_path}\"...')\n",
    "    with open(filelist_path, 'w') as f:\n",
    "        f.write(_out_string)\n",
    "    return _out_string, filelist_path\n",
    "\n",
    "\n",
    "h5_filelist_path = global_data_root_parent_path.joinpath(f'fileList_Greatlakes_HDF5_{BATCH_DATE_TO_USE}.txt').resolve()\n",
    "_out_string, src_filelist_HDF5_savepath = save_filelist_to_text_file(hdf5_output_paths, h5_filelist_path)\n",
    "\n",
    "pkls_filelist_path = global_data_root_parent_path.joinpath(f'fileList_Greatlakes_pkls_{BATCH_DATE_TO_USE}.txt').resolve()\n",
    "_out_string, src_filelist_pkls_savepath = save_filelist_to_text_file(pkl_output_paths, pkls_filelist_path)\n"
   ]
  },
  {
   "cell_type": "code",
   "execution_count": null,
   "id": "86afc323-364c-4716-a30f-97a5e4fb2af2",
   "metadata": {},
   "outputs": [],
   "source": [
    "from pyphocorehelpers.Filesystem.path_helpers import convert_filelist_to_new_parent\n",
    "# source_parent_path = Path(r'/media/MAX/cloud/turbo/Data')\n",
    "source_parent_path = Path(r'/nfs/turbo/umms-kdiba/Data')\n",
    "dest_parent_path = Path(r'/~/W/Data/')\n",
    "# # Build the destination filelist from the source_filelist and the two paths:\n",
    "filelist_source = hdf5_output_paths\n",
    "filelist_dest_paths = convert_filelist_to_new_parent(filelist_source, original_parent_path=source_parent_path, dest_parent_path=dest_parent_path)\n",
    "filelist_dest_paths\n",
    "\n",
    "dest_Apogee_h5_filelist_path = global_data_root_parent_path.joinpath(f'dest_fileList_Apogee_{BATCH_DATE_TO_USE}.txt').resolve()\n",
    "_out_string, dest_filelist_savepath = save_filelist_to_text_file(filelist_dest_paths, dest_Apogee_h5_filelist_path)"
   ]
  },
  {
   "cell_type": "code",
   "execution_count": 12,
   "id": "3a8e69a3",
   "metadata": {
    "tags": []
   },
   "outputs": [
    {
     "data": {
      "text/plain": [
       "WindowsPath('W:/Data/global_batch_output_2023-08-09_Test.h5')"
      ]
     },
     "execution_count": 12,
     "metadata": {},
     "output_type": "execute_result"
    }
   ],
   "source": [
    "from pyphoplacecellanalysis.General.Batch.runBatch import PipelineCompletionResult\n",
    "from neuropy.core.epoch import Epoch\n",
    "\n",
    "# Save to HDF5\n",
    "suffix = f'{BATCH_DATE_TO_USE}'\n",
    "## Build Pickle Path:\n",
    "file_path = global_data_root_parent_path.joinpath(f'global_batch_output_{suffix}.h5').resolve()\n",
    "file_path"
   ]
  },
  {
   "cell_type": "code",
   "execution_count": 13,
   "id": "10b0d19b",
   "metadata": {
    "scrolled": true,
    "tags": []
   },
   "outputs": [
    {
     "name": "stdout",
     "output_type": "stream",
     "text": [
      "WARNING: experimental automatic `to_hdf` implementation for object of type <class 'pyphoplacecellanalysis.General.Batch.runBatch.PipelineCompletionResult'> to file_path: W:\\Data\\global_batch_output_2023-08-09_Test.h5, with key: /kdiba/gor01/one/2006-6-12_15-55-31/batch_result:\n",
      "a_field: long_laps\n",
      "\ta_field_key: /kdiba/gor01/one/2006-6-12_15-55-31/batch_result/long_laps\n",
      "\t field is serializable! Calling a_value.to_hdf(...)...\n",
      "a_field: long_replays\n",
      "\ta_field_key: /kdiba/gor01/one/2006-6-12_15-55-31/batch_result/long_replays\n",
      "\t field is serializable! Calling a_value.to_hdf(...)...\n",
      "a_field: short_laps\n",
      "\ta_field_key: /kdiba/gor01/one/2006-6-12_15-55-31/batch_result/short_laps\n",
      "\t field is serializable! Calling a_value.to_hdf(...)...\n",
      "a_field: short_replays\n",
      "\ta_field_key: /kdiba/gor01/one/2006-6-12_15-55-31/batch_result/short_replays\n",
      "\t field is serializable! Calling a_value.to_hdf(...)...\n",
      "an_attribute_field: long_epoch_name\n",
      "an_attribute_field: short_epoch_name\n",
      "WARNING: experimental automatic `to_hdf` implementation for object of type <class 'pyphoplacecellanalysis.General.Batch.runBatch.PipelineCompletionResult'> to file_path: W:\\Data\\global_batch_output_2023-08-09_Test.h5, with key: /kdiba/gor01/two/2006-6-07_16-40-19/batch_result:\n",
      "a_field: long_laps\n",
      "\ta_field_key: /kdiba/gor01/two/2006-6-07_16-40-19/batch_result/long_laps\n",
      "\t field is serializable! Calling a_value.to_hdf(...)...\n",
      "a_field: long_replays\n",
      "\ta_field_key: /kdiba/gor01/two/2006-6-07_16-40-19/batch_result/long_replays\n",
      "\t field is serializable! Calling a_value.to_hdf(...)...\n",
      "a_field: short_laps\n",
      "\ta_field_key: /kdiba/gor01/two/2006-6-07_16-40-19/batch_result/short_laps\n",
      "\t field is serializable! Calling a_value.to_hdf(...)...\n",
      "a_field: short_replays\n",
      "\ta_field_key: /kdiba/gor01/two/2006-6-07_16-40-19/batch_result/short_replays\n",
      "\t field is serializable! Calling a_value.to_hdf(...)...\n",
      "an_attribute_field: long_epoch_name\n",
      "an_attribute_field: short_epoch_name\n",
      "WARNING: experimental automatic `to_hdf` implementation for object of type <class 'pyphoplacecellanalysis.General.Batch.runBatch.PipelineCompletionResult'> to file_path: W:\\Data\\global_batch_output_2023-08-09_Test.h5, with key: /kdiba/gor01/two/2006-6-08_21-16-25/batch_result:\n",
      "a_field: long_laps\n",
      "\ta_field_key: /kdiba/gor01/two/2006-6-08_21-16-25/batch_result/long_laps\n",
      "\t field is serializable! Calling a_value.to_hdf(...)...\n",
      "a_field: long_replays\n",
      "\ta_field_key: /kdiba/gor01/two/2006-6-08_21-16-25/batch_result/long_replays\n",
      "\t field is serializable! Calling a_value.to_hdf(...)...\n",
      "a_field: short_laps\n",
      "\ta_field_key: /kdiba/gor01/two/2006-6-08_21-16-25/batch_result/short_laps\n",
      "\t field is serializable! Calling a_value.to_hdf(...)...\n",
      "a_field: short_replays\n",
      "\ta_field_key: /kdiba/gor01/two/2006-6-08_21-16-25/batch_result/short_replays\n",
      "\t field is serializable! Calling a_value.to_hdf(...)...\n",
      "an_attribute_field: long_epoch_name\n",
      "an_attribute_field: short_epoch_name\n",
      "WARNING: experimental automatic `to_hdf` implementation for object of type <class 'pyphoplacecellanalysis.General.Batch.runBatch.PipelineCompletionResult'> to file_path: W:\\Data\\global_batch_output_2023-08-09_Test.h5, with key: /kdiba/gor01/two/2006-6-09_22-24-40/batch_result:\n",
      "a_field: long_laps\n",
      "\ta_field_key: /kdiba/gor01/two/2006-6-09_22-24-40/batch_result/long_laps\n",
      "\t field is serializable! Calling a_value.to_hdf(...)...\n",
      "a_field: long_replays\n",
      "\ta_field_key: /kdiba/gor01/two/2006-6-09_22-24-40/batch_result/long_replays\n",
      "\t field is serializable! Calling a_value.to_hdf(...)...\n",
      "a_field: short_laps\n",
      "\ta_field_key: /kdiba/gor01/two/2006-6-09_22-24-40/batch_result/short_laps\n",
      "\t field is serializable! Calling a_value.to_hdf(...)...\n",
      "a_field: short_replays\n",
      "\ta_field_key: /kdiba/gor01/two/2006-6-09_22-24-40/batch_result/short_replays\n",
      "\t field is serializable! Calling a_value.to_hdf(...)...\n",
      "an_attribute_field: long_epoch_name\n",
      "an_attribute_field: short_epoch_name\n",
      "WARNING: experimental automatic `to_hdf` implementation for object of type <class 'pyphoplacecellanalysis.General.Batch.runBatch.PipelineCompletionResult'> to file_path: W:\\Data\\global_batch_output_2023-08-09_Test.h5, with key: /kdiba/gor01/two/2006-6-12_16-53-46/batch_result:\n",
      "a_field: long_laps\n",
      "\ta_field_key: /kdiba/gor01/two/2006-6-12_16-53-46/batch_result/long_laps\n",
      "\t field is serializable! Calling a_value.to_hdf(...)...\n",
      "a_field: long_replays\n",
      "\ta_field_key: /kdiba/gor01/two/2006-6-12_16-53-46/batch_result/long_replays\n",
      "\t field is serializable! Calling a_value.to_hdf(...)...\n",
      "a_field: short_laps\n",
      "\ta_field_key: /kdiba/gor01/two/2006-6-12_16-53-46/batch_result/short_laps\n",
      "\t field is serializable! Calling a_value.to_hdf(...)...\n",
      "a_field: short_replays\n",
      "\ta_field_key: /kdiba/gor01/two/2006-6-12_16-53-46/batch_result/short_replays\n",
      "\t field is serializable! Calling a_value.to_hdf(...)...\n",
      "an_attribute_field: long_epoch_name\n",
      "an_attribute_field: short_epoch_name\n",
      "WARNING: experimental automatic `to_hdf` implementation for object of type <class 'pyphoplacecellanalysis.General.Batch.runBatch.PipelineCompletionResult'> to file_path: W:\\Data\\global_batch_output_2023-08-09_Test.h5, with key: /kdiba/vvp01/one/2006-4-09_17-29-30/batch_result:\n",
      "a_field: long_laps\n",
      "\ta_field_key: /kdiba/vvp01/one/2006-4-09_17-29-30/batch_result/long_laps\n",
      "\t field is serializable! Calling a_value.to_hdf(...)...\n",
      "a_field: long_replays\n",
      "\ta_field_key: /kdiba/vvp01/one/2006-4-09_17-29-30/batch_result/long_replays\n",
      "\t field is serializable! Calling a_value.to_hdf(...)...\n",
      "a_field: short_laps\n",
      "\ta_field_key: /kdiba/vvp01/one/2006-4-09_17-29-30/batch_result/short_laps\n",
      "\t field is serializable! Calling a_value.to_hdf(...)...\n",
      "a_field: short_replays\n",
      "\ta_field_key: /kdiba/vvp01/one/2006-4-09_17-29-30/batch_result/short_replays\n",
      "\t field is serializable! Calling a_value.to_hdf(...)...\n",
      "an_attribute_field: long_epoch_name\n",
      "an_attribute_field: short_epoch_name\n",
      "WARNING: experimental automatic `to_hdf` implementation for object of type <class 'pyphoplacecellanalysis.General.Batch.runBatch.PipelineCompletionResult'> to file_path: W:\\Data\\global_batch_output_2023-08-09_Test.h5, with key: /kdiba/vvp01/one/2006-4-10_12-25-50/batch_result:\n",
      "a_field: long_laps\n",
      "\ta_field_key: /kdiba/vvp01/one/2006-4-10_12-25-50/batch_result/long_laps\n",
      "\t field is serializable! Calling a_value.to_hdf(...)...\n",
      "a_field: long_replays\n",
      "\ta_field_key: /kdiba/vvp01/one/2006-4-10_12-25-50/batch_result/long_replays\n",
      "\t field is serializable! Calling a_value.to_hdf(...)...\n",
      "a_field: short_laps\n",
      "\ta_field_key: /kdiba/vvp01/one/2006-4-10_12-25-50/batch_result/short_laps\n",
      "\t field is serializable! Calling a_value.to_hdf(...)...\n",
      "a_field: short_replays\n",
      "\ta_field_key: /kdiba/vvp01/one/2006-4-10_12-25-50/batch_result/short_replays\n",
      "\t field is serializable! Calling a_value.to_hdf(...)...\n",
      "an_attribute_field: long_epoch_name\n",
      "an_attribute_field: short_epoch_name\n",
      "WARNING: experimental automatic `to_hdf` implementation for object of type <class 'pyphoplacecellanalysis.General.Batch.runBatch.PipelineCompletionResult'> to file_path: W:\\Data\\global_batch_output_2023-08-09_Test.h5, with key: /kdiba/vvp01/two/2006-4-09_16-40-54/batch_result:\n",
      "a_field: long_laps\n",
      "\ta_field_key: /kdiba/vvp01/two/2006-4-09_16-40-54/batch_result/long_laps\n",
      "\t field is serializable! Calling a_value.to_hdf(...)...\n",
      "a_field: long_replays\n",
      "\ta_field_key: /kdiba/vvp01/two/2006-4-09_16-40-54/batch_result/long_replays\n",
      "\t field is serializable! Calling a_value.to_hdf(...)...\n",
      "a_field: short_laps\n",
      "\ta_field_key: /kdiba/vvp01/two/2006-4-09_16-40-54/batch_result/short_laps\n",
      "\t field is serializable! Calling a_value.to_hdf(...)...\n",
      "a_field: short_replays\n",
      "\ta_field_key: /kdiba/vvp01/two/2006-4-09_16-40-54/batch_result/short_replays\n",
      "\t field is serializable! Calling a_value.to_hdf(...)...\n",
      "an_attribute_field: long_epoch_name\n",
      "an_attribute_field: short_epoch_name\n",
      "WARNING: experimental automatic `to_hdf` implementation for object of type <class 'pyphoplacecellanalysis.General.Batch.runBatch.PipelineCompletionResult'> to file_path: W:\\Data\\global_batch_output_2023-08-09_Test.h5, with key: /kdiba/vvp01/two/2006-4-10_12-58-3/batch_result:\n",
      "a_field: long_laps\n",
      "\ta_field_key: /kdiba/vvp01/two/2006-4-10_12-58-3/batch_result/long_laps\n",
      "\t field is serializable! Calling a_value.to_hdf(...)...\n",
      "a_field: long_replays\n",
      "\ta_field_key: /kdiba/vvp01/two/2006-4-10_12-58-3/batch_result/long_replays\n",
      "\t field is serializable! Calling a_value.to_hdf(...)...\n",
      "a_field: short_laps\n",
      "\ta_field_key: /kdiba/vvp01/two/2006-4-10_12-58-3/batch_result/short_laps\n",
      "\t field is serializable! Calling a_value.to_hdf(...)...\n",
      "a_field: short_replays\n",
      "\ta_field_key: /kdiba/vvp01/two/2006-4-10_12-58-3/batch_result/short_replays\n",
      "\t field is serializable! Calling a_value.to_hdf(...)...\n",
      "an_attribute_field: long_epoch_name\n",
      "an_attribute_field: short_epoch_name\n",
      "WARNING: experimental automatic `to_hdf` implementation for object of type <class 'pyphoplacecellanalysis.General.Batch.runBatch.PipelineCompletionResult'> to file_path: W:\\Data\\global_batch_output_2023-08-09_Test.h5, with key: /kdiba/pin01/one/11-02_17-46-44/batch_result:\n",
      "a_field: long_laps\n",
      "\ta_field_key: /kdiba/pin01/one/11-02_17-46-44/batch_result/long_laps\n",
      "\t field is serializable! Calling a_value.to_hdf(...)...\n",
      "a_field: long_replays\n",
      "\ta_field_key: /kdiba/pin01/one/11-02_17-46-44/batch_result/long_replays\n",
      "\t field is serializable! Calling a_value.to_hdf(...)...\n",
      "a_field: short_laps\n",
      "\ta_field_key: /kdiba/pin01/one/11-02_17-46-44/batch_result/short_laps\n",
      "\t field is serializable! Calling a_value.to_hdf(...)...\n",
      "a_field: short_replays\n",
      "\ta_field_key: /kdiba/pin01/one/11-02_17-46-44/batch_result/short_replays\n",
      "\t field is serializable! Calling a_value.to_hdf(...)...\n",
      "an_attribute_field: long_epoch_name\n",
      "an_attribute_field: short_epoch_name\n",
      "WARNING: experimental automatic `to_hdf` implementation for object of type <class 'pyphoplacecellanalysis.General.Batch.runBatch.PipelineCompletionResult'> to file_path: W:\\Data\\global_batch_output_2023-08-09_Test.h5, with key: /kdiba/pin01/one/11-02_19-28-0/batch_result:\n",
      "a_field: long_laps\n",
      "\ta_field_key: /kdiba/pin01/one/11-02_19-28-0/batch_result/long_laps\n",
      "\t field is serializable! Calling a_value.to_hdf(...)...\n",
      "a_field: long_replays\n",
      "\ta_field_key: /kdiba/pin01/one/11-02_19-28-0/batch_result/long_replays\n",
      "\t field is serializable! Calling a_value.to_hdf(...)...\n",
      "a_field: short_laps\n",
      "\ta_field_key: /kdiba/pin01/one/11-02_19-28-0/batch_result/short_laps\n",
      "\t field is serializable! Calling a_value.to_hdf(...)...\n",
      "a_field: short_replays\n",
      "\ta_field_key: /kdiba/pin01/one/11-02_19-28-0/batch_result/short_replays\n",
      "\t field is serializable! Calling a_value.to_hdf(...)...\n",
      "an_attribute_field: long_epoch_name\n",
      "an_attribute_field: short_epoch_name\n",
      "WARNING: experimental automatic `to_hdf` implementation for object of type <class 'pyphoplacecellanalysis.General.Batch.runBatch.PipelineCompletionResult'> to file_path: W:\\Data\\global_batch_output_2023-08-09_Test.h5, with key: /kdiba/pin01/one/11-03_12-3-25/batch_result:\n",
      "a_field: long_laps\n",
      "\ta_field_key: /kdiba/pin01/one/11-03_12-3-25/batch_result/long_laps\n",
      "\t field is serializable! Calling a_value.to_hdf(...)...\n",
      "a_field: long_replays\n",
      "\ta_field_key: /kdiba/pin01/one/11-03_12-3-25/batch_result/long_replays\n",
      "\t field is serializable! Calling a_value.to_hdf(...)...\n",
      "a_field: short_laps\n",
      "\ta_field_key: /kdiba/pin01/one/11-03_12-3-25/batch_result/short_laps\n",
      "\t field is serializable! Calling a_value.to_hdf(...)...\n",
      "a_field: short_replays\n",
      "\ta_field_key: /kdiba/pin01/one/11-03_12-3-25/batch_result/short_replays\n",
      "\t field is serializable! Calling a_value.to_hdf(...)...\n",
      "an_attribute_field: long_epoch_name\n",
      "an_attribute_field: short_epoch_name\n",
      "WARNING: experimental automatic `to_hdf` implementation for object of type <class 'pyphoplacecellanalysis.General.Batch.runBatch.PipelineCompletionResult'> to file_path: W:\\Data\\global_batch_output_2023-08-09_Test.h5, with key: /kdiba/pin01/one/fet11-01_12-58-54/batch_result:\n",
      "a_field: long_laps\n",
      "\ta_field_key: /kdiba/pin01/one/fet11-01_12-58-54/batch_result/long_laps\n",
      "\t field is serializable! Calling a_value.to_hdf(...)...\n",
      "a_field: long_replays\n",
      "\ta_field_key: /kdiba/pin01/one/fet11-01_12-58-54/batch_result/long_replays\n",
      "\t field is serializable! Calling a_value.to_hdf(...)...\n",
      "a_field: short_laps\n",
      "\ta_field_key: /kdiba/pin01/one/fet11-01_12-58-54/batch_result/short_laps\n",
      "\t field is serializable! Calling a_value.to_hdf(...)...\n",
      "a_field: short_replays\n",
      "\ta_field_key: /kdiba/pin01/one/fet11-01_12-58-54/batch_result/short_replays\n",
      "\t field is serializable! Calling a_value.to_hdf(...)...\n",
      "an_attribute_field: long_epoch_name\n",
      "an_attribute_field: short_epoch_name\n",
      "done outputting HDF file.\n"
     ]
    }
   ],
   "source": [
    "global_batch_run.to_hdf(file_path,'/')"
   ]
  },
  {
   "cell_type": "code",
   "execution_count": 14,
   "id": "282ce774-98fb-4e69-a7e2-e94cbff1b0b5",
   "metadata": {
    "tags": []
   },
   "outputs": [
    {
     "name": "stdout",
     "output_type": "stream",
     "text": [
      "num_sessions: 10\n",
      "global_batch_result_inst_fr_file_path: W:\\Data\\across_session_result_long_short_inst_firing_rate_2023-08-09_Test.pkl\n",
      "Saving (file mode 'w+b') saved session pickle file results : W:\\Data\\across_session_result_long_short_inst_firing_rate_2023-08-09_Test.pkl... done.\n"
     ]
    }
   ],
   "source": [
    "# Get only the sessions with non-None results\n",
    "sessions_with_results = [a_ctxt for a_ctxt, a_result in global_batch_run.session_batch_outputs.items() if a_result is not None]\n",
    "\n",
    "# list(global_batch_run.session_batch_outputs.keys())\n",
    "\n",
    "# Somewhere in there there are `InstantaneousSpikeRateGroupsComputation` results to extract\n",
    "across_sessions_instantaneous_fr_dict = {} # InstantaneousSpikeRateGroupsComputation\n",
    "\n",
    "# good_session_batch_outputs = global_batch_run.session_batch_outputs\n",
    "\n",
    "sessions_with_results = [a_ctxt for a_ctxt, a_result in global_batch_run.session_batch_outputs.items() if a_result is not None]\n",
    "good_session_batch_outputs = {a_ctxt:a_result for a_ctxt, a_result in global_batch_run.session_batch_outputs.items() if a_result is not None}\n",
    "\n",
    "for a_ctxt, a_result in good_session_batch_outputs.items():\n",
    "    if a_result is not None:\n",
    "        # a_good_result = a_result.__dict__.get('across_sessions_batch_results', {}).get('inst_fr_comps', None)\n",
    "        a_good_result = a_result.across_session_results.get('inst_fr_comps', None)\n",
    "        if a_good_result is not None:\n",
    "            across_sessions_instantaneous_fr_dict[a_ctxt] = a_good_result\n",
    "            # print(a_result['across_sessions_batch_results']['inst_fr_comps'])\n",
    "            \n",
    "num_sessions = len(across_sessions_instantaneous_fr_dict)\n",
    "print(f'num_sessions: {num_sessions}')\n",
    "\n",
    "# When done, `result_handler.across_sessions_instantaneous_fr_dict` is now equivalent to what it would have been before. It can be saved using the normal `.save_across_sessions_data(...)`\n",
    "\n",
    "## Save the instantaneous firing rate results dict: (# Dict[IdentifyingContext] = InstantaneousSpikeRateGroupsComputation)\n",
    "AcrossSessionsResults.save_across_sessions_data(across_sessions_instantaneous_fr_dict=across_sessions_instantaneous_fr_dict, global_data_root_parent_path=global_data_root_parent_path, inst_fr_output_filename=f'across_session_result_long_short_inst_firing_rate_{BATCH_DATE_TO_USE}.pkl')\n",
    "\n",
    "# ## Save pickle:\n",
    "# inst_fr_output_filename=f'across_session_result_long_short_inst_firing_rate_{BATCH_DATE_TO_USE}.pkl'\n",
    "# global_batch_result_inst_fr_file_path = Path(global_data_root_parent_path).joinpath(inst_fr_output_filename).resolve() # Use Default\n",
    "# print(f'global_batch_result_inst_fr_file_path: {global_batch_result_inst_fr_file_path}')\n",
    "# # Save the all sessions instantaneous firing rate dict to the path:\n",
    "# saveData(global_batch_result_inst_fr_file_path, across_sessions_instantaneous_fr_dict)"
   ]
  },
  {
   "cell_type": "code",
   "execution_count": 15,
   "id": "c60d19a7-5a89-43f1-aa33-3a7450d1f965",
   "metadata": {
    "tags": []
   },
   "outputs": [
    {
     "data": {
      "text/plain": [
       "{Context(format_name: 'kdiba'\n",
       "         animal: 'gor01'\n",
       "         exper_name: 'two'\n",
       "         session_name: '2006-6-07_16-40-19'): InstantaneousSpikeRateGroupsComputation(instantaneous_time_bin_size_seconds=0.01, active_identifying_session_ctx=IdentifyingContext<('kdiba', 'gor01', 'two', '2006-6-07_16-40-19')>, LxC_aclus=array([12, 21, 48], dtype=int64), SxC_aclus=array([ 3, 18, 19, 65], dtype=int64), Fig2_Replay_FR=[SingleBarResult(mean=9.324742279069733, std=12.122944894718595, values=array([ 0.25249511, 26.45925615,  1.26247557]), LxC_aclus=array([12, 21, 48], dtype=int64), SxC_aclus=array([ 3, 18, 19, 65], dtype=int64), LxC_scatter_props=None, SxC_scatter_props=None), SingleBarResult(mean=4.222536025161239, std=5.41700351593695, values=array([ 0.79814393, 11.86946414,  0.        ]), LxC_aclus=array([12, 21, 48], dtype=int64), SxC_aclus=array([ 3, 18, 19, 65], dtype=int64), LxC_scatter_props=None, SxC_scatter_props=None), SingleBarResult(mean=1.1199336167494756, std=1.0272742872944987, values=array([0.25249511, 2.45977355, 0.        , 1.7674658 ]), LxC_aclus=array([12, 21, 48], dtype=int64), SxC_aclus=array([ 3, 18, 19, 65], dtype=int64), LxC_scatter_props=None, SxC_scatter_props=None), SingleBarResult(mean=7.8746052053101945, std=6.4392486412091605, values=array([ 4.61362736,  4.22940839, 19.01165739,  3.64372769]), LxC_aclus=array([12, 21, 48], dtype=int64), SxC_aclus=array([ 3, 18, 19, 65], dtype=int64), LxC_scatter_props=None, SxC_scatter_props=None)], Fig2_Laps_FR=[SingleBarResult(mean=33.20297608161101, std=21.369166452265823, values=array([ 2.9920671 , 47.64688215, 48.96997899]), LxC_aclus=array([12, 21, 48], dtype=int64), SxC_aclus=array([ 3, 18, 19, 65], dtype=int64), LxC_scatter_props=None, SxC_scatter_props=None), SingleBarResult(mean=23.944269058721233, std=11.28808804243783, values=array([11.19271548, 38.63748587, 22.00260583]), LxC_aclus=array([12, 21, 48], dtype=int64), SxC_aclus=array([ 3, 18, 19, 65], dtype=int64), LxC_scatter_props=None, SxC_scatter_props=None), SingleBarResult(mean=9.538916212758854, std=8.23315465117025, values=array([ 1.9947114 ,  8.79627034,  4.21300035, 23.15168276]), LxC_aclus=array([12, 21, 48], dtype=int64), SxC_aclus=array([ 3, 18, 19, 65], dtype=int64), LxC_scatter_props=None, SxC_scatter_props=None), SingleBarResult(mean=70.62100948088676, std=27.27098464635149, values=array([ 69.9998375 ,  37.93185138, 113.26723508,  61.28511396]), LxC_aclus=array([12, 21, 48], dtype=int64), SxC_aclus=array([ 3, 18, 19, 65], dtype=int64), LxC_scatter_props=None, SxC_scatter_props=None)]),\n",
       " Context(format_name: 'kdiba'\n",
       "         animal: 'gor01'\n",
       "         exper_name: 'two'\n",
       "         session_name: '2006-6-08_21-16-25'): InstantaneousSpikeRateGroupsComputation(instantaneous_time_bin_size_seconds=0.01, active_identifying_session_ctx=IdentifyingContext<('kdiba', 'gor01', 'two', '2006-6-08_21-16-25')>, LxC_aclus=array([ 19,  23,  26,  36,  54,  60,  73,  78,  90, 101, 103], dtype=int64), SxC_aclus=array([ 4,  8, 16, 82], dtype=int64), Fig2_Replay_FR=[SingleBarResult(mean=10.586879737167216, std=9.576397765592084, values=array([ 5.25240091,  4.00570628, 14.5827521 , 25.22474037,  1.24669463,\n",
       "         4.98677851,  1.24669463, 13.22310478,  1.24669463, 30.21415237,\n",
       "        15.22595792]), LxC_aclus=array([ 19,  23,  26,  36,  54,  60,  73,  78,  90, 101, 103], dtype=int64), SxC_aclus=array([ 4,  8, 16, 82], dtype=int64), LxC_scatter_props=None, SxC_scatter_props=None), SingleBarResult(mean=7.399283506084407, std=6.626048134499107, values=array([ 7.5763767 ,  0.        , 17.16264362, 16.97510147,  1.28691058,\n",
       "         1.28691058,  1.28691058,  6.40576647,  2.57382116, 17.43902795,\n",
       "         9.39864944]), LxC_aclus=array([ 19,  23,  26,  36,  54,  60,  73,  78,  90, 101, 103], dtype=int64), SxC_aclus=array([ 4,  8, 16, 82], dtype=int64), LxC_scatter_props=None, SxC_scatter_props=None), SingleBarResult(mean=4.47201723497664, std=2.9327961101831903, values=array([3.74008388, 6.6678173 , 0.        , 7.48016776]), LxC_aclus=array([ 19,  23,  26,  36,  54,  60,  73,  78,  90, 101, 103], dtype=int64), SxC_aclus=array([ 4,  8, 16, 82], dtype=int64), LxC_scatter_props=None, SxC_scatter_props=None), SingleBarResult(mean=8.536077271423338, std=1.409142098082148, values=array([ 8.63910965, 10.8008013 ,  7.35219907,  7.35219907]), LxC_aclus=array([ 19,  23,  26,  36,  54,  60,  73,  78,  90, 101, 103], dtype=int64), SxC_aclus=array([ 4,  8, 16, 82], dtype=int64), LxC_scatter_props=None, SxC_scatter_props=None)], Fig2_Laps_FR=[SingleBarResult(mean=58.09540635512263, std=21.054507567264864, values=array([19.27352092, 54.98277295, 63.04089674, 59.16805043, 40.96297833,\n",
       "        49.52912122, 88.932819  , 48.60818907, 41.21331257, 88.67267027,\n",
       "        84.66513841]), LxC_aclus=array([ 19,  23,  26,  36,  54,  60,  73,  78,  90, 101, 103], dtype=int64), SxC_aclus=array([ 4,  8, 16, 82], dtype=int64), LxC_scatter_props=None, SxC_scatter_props=None), SingleBarResult(mean=21.59654380935845, std=14.356097703584835, values=array([ 7.58276417, 10.78222379, 37.77312506, 21.22259314, 20.27941046,\n",
       "        26.53131204,  4.31288952, 22.46012797,  2.15644476, 33.95657928,\n",
       "        50.50451171]), LxC_aclus=array([ 19,  23,  26,  36,  54,  60,  73,  78,  90, 101, 103], dtype=int64), SxC_aclus=array([ 4,  8, 16, 82], dtype=int64), LxC_scatter_props=None, SxC_scatter_props=None), SingleBarResult(mean=22.37107043680415, std=12.575385159706524, values=array([16.8833252 , 22.08818462,  8.14329472, 42.36947721]), LxC_aclus=array([ 19,  23,  26,  36,  54,  60,  73,  78,  90, 101, 103], dtype=int64), SxC_aclus=array([ 4,  8, 16, 82], dtype=int64), LxC_scatter_props=None, SxC_scatter_props=None), SingleBarResult(mean=63.35201732364582, std=8.704999577060946, values=array([60.5093422 , 78.2569103 , 57.56878369, 57.07303311]), LxC_aclus=array([ 19,  23,  26,  36,  54,  60,  73,  78,  90, 101, 103], dtype=int64), SxC_aclus=array([ 4,  8, 16, 82], dtype=int64), LxC_scatter_props=None, SxC_scatter_props=None)]),\n",
       " Context(format_name: 'kdiba'\n",
       "         animal: 'gor01'\n",
       "         exper_name: 'two'\n",
       "         session_name: '2006-6-09_22-24-40'): InstantaneousSpikeRateGroupsComputation(instantaneous_time_bin_size_seconds=0.01, active_identifying_session_ctx=IdentifyingContext<('kdiba', 'gor01', 'two', '2006-6-09_22-24-40')>, LxC_aclus=array([ 6, 15, 16, 32, 91, 95], dtype=int64), SxC_aclus=array([ 3,  7, 10, 11, 12, 23, 37, 64, 75, 80], dtype=int64), Fig2_Replay_FR=[SingleBarResult(mean=4.787552213799695, std=3.5001595951588733, values=array([1.24974025, 1.83794733, 1.12378107, 6.64755891, 8.21351338,\n",
       "        9.65277234]), LxC_aclus=array([ 6, 15, 16, 32, 91, 95], dtype=int64), SxC_aclus=array([ 3,  7, 10, 11, 12, 23, 37, 64, 75, 80], dtype=int64), LxC_scatter_props=None, SxC_scatter_props=None), SingleBarResult(mean=2.842693120044259, std=2.471205264940392, values=array([1.22983554, 1.30093553, 1.09145143, 7.56886237, 4.69933341,\n",
       "        1.16574043]), LxC_aclus=array([ 6, 15, 16, 32, 91, 95], dtype=int64), SxC_aclus=array([ 3,  7, 10, 11, 12, 23, 37, 64, 75, 80], dtype=int64), LxC_scatter_props=None, SxC_scatter_props=None), SingleBarResult(mean=5.606834603916053, std=4.717853644995553, values=array([14.51404615,  2.70808312,  1.68567161,  1.12378107,  4.74099119,\n",
       "         8.87759323,  1.68567161,  4.91197174, 13.45325704,  2.36727928]), LxC_aclus=array([ 6, 15, 16, 32, 91, 95], dtype=int64), SxC_aclus=array([ 3,  7, 10, 11, 12, 23, 37, 64, 75, 80], dtype=int64), LxC_scatter_props=None, SxC_scatter_props=None), SingleBarResult(mean=13.86783152031561, std=14.085490608181681, values=array([55.33713778,  6.71608123, 10.27721321,  5.52134821,  8.83355346,\n",
       "         6.56606468, 13.68226301,  7.1412028 , 13.2387788 , 11.36467202]), LxC_aclus=array([ 6, 15, 16, 32, 91, 95], dtype=int64), SxC_aclus=array([ 3,  7, 10, 11, 12, 23, 37, 64, 75, 80], dtype=int64), LxC_scatter_props=None, SxC_scatter_props=None)], Fig2_Laps_FR=[SingleBarResult(mean=45.87585660924065, std=22.738431217730962, values=array([ 5.07348076, 47.50329294, 36.20077215, 52.11629656, 53.1379205 ,\n",
       "        81.22337674]), LxC_aclus=array([ 6, 15, 16, 32, 91, 95], dtype=int64), SxC_aclus=array([ 3,  7, 10, 11, 12, 23, 37, 64, 75, 80], dtype=int64), LxC_scatter_props=None, SxC_scatter_props=None), SingleBarResult(mean=9.829048042757181, std=7.490753135899874, values=array([ 3.60807354,  8.19167811,  6.19663213, 25.9739224 ,  9.80470566,\n",
       "         5.19927643]), LxC_aclus=array([ 6, 15, 16, 32, 91, 95], dtype=int64), SxC_aclus=array([ 3,  7, 10, 11, 12, 23, 37, 64, 75, 80], dtype=int64), LxC_scatter_props=None, SxC_scatter_props=None), SingleBarResult(mean=27.617654995488046, std=15.656856410047524, values=array([56.13612552, 24.07967261, 27.00889486,  7.82016956, 18.27310947,\n",
       "        32.60495226, 15.45948982, 30.69904759, 53.54734141, 10.54774685]), LxC_aclus=array([ 6, 15, 16, 32, 91, 95], dtype=int64), SxC_aclus=array([ 3,  7, 10, 11, 12, 23, 37, 64, 75, 80], dtype=int64), LxC_scatter_props=None, SxC_scatter_props=None), SingleBarResult(mean=42.70242600396509, std=19.42052372669217, values=array([86.32535675, 33.5725079 , 27.99109354, 52.92907857, 49.92068692,\n",
       "        20.93208312, 38.49074987, 27.75744286, 63.13024895, 25.97501156]), LxC_aclus=array([ 6, 15, 16, 32, 91, 95], dtype=int64), SxC_aclus=array([ 3,  7, 10, 11, 12, 23, 37, 64, 75, 80], dtype=int64), LxC_scatter_props=None, SxC_scatter_props=None)]),\n",
       " Context(format_name: 'kdiba'\n",
       "         animal: 'gor01'\n",
       "         exper_name: 'two'\n",
       "         session_name: '2006-6-12_16-53-46'): InstantaneousSpikeRateGroupsComputation(instantaneous_time_bin_size_seconds=0.01, active_identifying_session_ctx=IdentifyingContext<('kdiba', 'gor01', 'two', '2006-6-12_16-53-46')>, LxC_aclus=array([38, 51, 53, 59, 60], dtype=int64), SxC_aclus=array([7, 8], dtype=int64), Fig2_Replay_FR=[SingleBarResult(mean=6.4505029109126015, std=5.815086324688678, values=array([ 0.        , 13.05288413,  2.47584592,  2.84958772, 13.87419679]), LxC_aclus=array([38, 51, 53, 59, 60], dtype=int64), SxC_aclus=array([7, 8], dtype=int64), LxC_scatter_props=None, SxC_scatter_props=None), SingleBarResult(mean=4.714426956797857, std=2.2768024862340943, values=array([1.02292892, 8.01025434, 5.73508238, 4.71215345, 4.0917157 ]), LxC_aclus=array([38, 51, 53, 59, 60], dtype=int64), SxC_aclus=array([7, 8], dtype=int64), LxC_scatter_props=None, SxC_scatter_props=None), SingleBarResult(mean=4.29516565882887, std=0.28278437631810105, values=array([4.01238128, 4.57795004]), LxC_aclus=array([38, 51, 53, 59, 60], dtype=int64), SxC_aclus=array([7, 8], dtype=int64), LxC_scatter_props=None, SxC_scatter_props=None), SingleBarResult(mean=17.4001406098709, std=3.309786462069937, values=array([14.09035415, 20.70992707]), LxC_aclus=array([38, 51, 53, 59, 60], dtype=int64), SxC_aclus=array([7, 8], dtype=int64), LxC_scatter_props=None, SxC_scatter_props=None)], Fig2_Laps_FR=[SingleBarResult(mean=49.224661285074696, std=14.970395446703774, values=array([27.433886  , 48.10972095, 40.04161993, 60.50929668, 70.02878288]), LxC_aclus=array([38, 51, 53, 59, 60], dtype=int64), SxC_aclus=array([7, 8], dtype=int64), LxC_scatter_props=None, SxC_scatter_props=None), SingleBarResult(mean=15.964272263669164, std=10.607755053191475, values=array([ 1.04984811, 27.51973279, 18.70648913,  6.29908864, 26.24620266]), LxC_aclus=array([38, 51, 53, 59, 60], dtype=int64), SxC_aclus=array([7, 8], dtype=int64), LxC_scatter_props=None, SxC_scatter_props=None), SingleBarResult(mean=21.101399096024295, std=9.228743175678387, values=array([30.33014227, 11.87265592]), LxC_aclus=array([38, 51, 53, 59, 60], dtype=int64), SxC_aclus=array([7, 8], dtype=int64), LxC_scatter_props=None, SxC_scatter_props=None), SingleBarResult(mean=54.35855195854023, std=2.306678586702567, values=array([56.66523055, 52.05187337]), LxC_aclus=array([38, 51, 53, 59, 60], dtype=int64), SxC_aclus=array([7, 8], dtype=int64), LxC_scatter_props=None, SxC_scatter_props=None)]),\n",
       " Context(format_name: 'kdiba'\n",
       "         animal: 'vvp01'\n",
       "         exper_name: 'one'\n",
       "         session_name: '2006-4-09_17-29-30'): InstantaneousSpikeRateGroupsComputation(instantaneous_time_bin_size_seconds=0.01, active_identifying_session_ctx=IdentifyingContext<('kdiba', 'vvp01', 'one', '2006-4-09_17-29-30')>, LxC_aclus=array([ 4,  6, 12, 17, 28, 37], dtype=int64), SxC_aclus=array([21, 31, 41], dtype=int64), Fig2_Replay_FR=[SingleBarResult(mean=6.36222228193316, std=7.931130767419713, values=array([ 0.        , 19.36581016, 15.48300453,  1.6622595 ,  0.        ,\n",
       "         1.6622595 ]), LxC_aclus=array([ 4,  6, 12, 17, 28, 37], dtype=int64), SxC_aclus=array([21, 31, 41], dtype=int64), LxC_scatter_props=None, SxC_scatter_props=None), SingleBarResult(mean=9.233921778948485, std=7.558425145629305, values=array([10.15651736, 16.26358771, 20.71496879,  0.71239693,  0.        ,\n",
       "         7.55605987]), LxC_aclus=array([ 4,  6, 12, 17, 28, 37], dtype=int64), SxC_aclus=array([21, 31, 41], dtype=int64), LxC_scatter_props=None, SxC_scatter_props=None), SingleBarResult(mean=5.9949898571810065, std=6.127406030865538, values=array([14.66045057,  1.6622595 ,  1.6622595 ]), LxC_aclus=array([ 4,  6, 12, 17, 28, 37], dtype=int64), SxC_aclus=array([21, 31, 41], dtype=int64), LxC_scatter_props=None, SxC_scatter_props=None), SingleBarResult(mean=14.88255305626719, std=8.765302958268505, values=array([16.16912578,  3.56198465, 24.91654874]), LxC_aclus=array([ 4,  6, 12, 17, 28, 37], dtype=int64), SxC_aclus=array([21, 31, 41], dtype=int64), LxC_scatter_props=None, SxC_scatter_props=None)], Fig2_Laps_FR=[SingleBarResult(mean=42.735196770098874, std=16.673244156669707, values=array([28.34671054, 70.80763257, 46.23980918, 19.44851456, 52.84636792,\n",
       "        38.72214586]), LxC_aclus=array([ 4,  6, 12, 17, 28, 37], dtype=int64), SxC_aclus=array([21, 31, 41], dtype=int64), LxC_scatter_props=None, SxC_scatter_props=None), SingleBarResult(mean=13.567248310988381, std=3.371581244790248, values=array([15.50271018, 17.55712116, 14.62722192,  6.82235272, 12.4738506 ,\n",
       "        14.42023329]), LxC_aclus=array([ 4,  6, 12, 17, 28, 37], dtype=int64), SxC_aclus=array([21, 31, 41], dtype=int64), LxC_scatter_props=None, SxC_scatter_props=None), SingleBarResult(mean=14.467831340570484, std=9.747898253791375, values=array([27.83501479,  4.86514976, 10.70332947]), LxC_aclus=array([ 4,  6, 12, 17, 28, 37], dtype=int64), SxC_aclus=array([21, 31, 41], dtype=int64), LxC_scatter_props=None, SxC_scatter_props=None), SingleBarResult(mean=60.84318344967436, std=23.075778380876063, values=array([72.67847014, 28.58770015, 81.26338006]), LxC_aclus=array([ 4,  6, 12, 17, 28, 37], dtype=int64), SxC_aclus=array([21, 31, 41], dtype=int64), LxC_scatter_props=None, SxC_scatter_props=None)]),\n",
       " Context(format_name: 'kdiba'\n",
       "         animal: 'vvp01'\n",
       "         exper_name: 'one'\n",
       "         session_name: '2006-4-10_12-25-50'): InstantaneousSpikeRateGroupsComputation(instantaneous_time_bin_size_seconds=0.01, active_identifying_session_ctx=IdentifyingContext<('kdiba', 'vvp01', 'one', '2006-4-10_12-25-50')>, LxC_aclus=array([19, 23], dtype=int64), SxC_aclus=array([29, 36], dtype=int64), Fig2_Replay_FR=[SingleBarResult(mean=12.605762176819383, std=0.9973557010035803, values=array([13.60311788, 11.60840648]), LxC_aclus=array([19, 23], dtype=int64), SxC_aclus=array([29, 36], dtype=int64), LxC_scatter_props=None, SxC_scatter_props=None), SingleBarResult(mean=27.86427892256316, std=2.4049344171516367, values=array([25.45934451, 30.26921334]), LxC_aclus=array([19, 23], dtype=int64), SxC_aclus=array([29, 36], dtype=int64), LxC_scatter_props=None, SxC_scatter_props=None), SingleBarResult(mean=1.994711402007163, std=1.994711402007163, values=array([0.       , 3.9894228]), LxC_aclus=array([19, 23], dtype=int64), SxC_aclus=array([29, 36], dtype=int64), LxC_scatter_props=None, SxC_scatter_props=None), SingleBarResult(mean=0.0, std=0.0, values=array([0., 0.]), LxC_aclus=array([19, 23], dtype=int64), SxC_aclus=array([29, 36], dtype=int64), LxC_scatter_props=None, SxC_scatter_props=None)], Fig2_Laps_FR=[SingleBarResult(mean=62.50691310904556, std=18.39018000474416, values=array([80.89709311, 44.1167331 ]), LxC_aclus=array([19, 23], dtype=int64), SxC_aclus=array([29, 36], dtype=int64), LxC_scatter_props=None, SxC_scatter_props=None), SingleBarResult(mean=3.4907449535125354, std=2.493389252508954, values=array([5.98413421, 0.9973557 ]), LxC_aclus=array([19, 23], dtype=int64), SxC_aclus=array([29, 36], dtype=int64), LxC_scatter_props=None, SxC_scatter_props=None), SingleBarResult(mean=14.802030535023965, std=14.802030535023965, values=array([ 0.        , 29.60406107]), LxC_aclus=array([19, 23], dtype=int64), SxC_aclus=array([29, 36], dtype=int64), LxC_scatter_props=None, SxC_scatter_props=None), SingleBarResult(mean=43.63160350042402, std=16.51329596150611, values=array([60.14489946, 27.11830754]), LxC_aclus=array([19, 23], dtype=int64), SxC_aclus=array([29, 36], dtype=int64), LxC_scatter_props=None, SxC_scatter_props=None)]),\n",
       " Context(format_name: 'kdiba'\n",
       "         animal: 'vvp01'\n",
       "         exper_name: 'two'\n",
       "         session_name: '2006-4-09_16-40-54'): InstantaneousSpikeRateGroupsComputation(instantaneous_time_bin_size_seconds=0.01, active_identifying_session_ctx=IdentifyingContext<('kdiba', 'vvp01', 'two', '2006-4-09_16-40-54')>, LxC_aclus=array([12, 14, 17, 25], dtype=int64), SxC_aclus=array([30], dtype=int64), Fig2_Replay_FR=[SingleBarResult(mean=8.377400324684425, std=5.074781382345249, values=array([12.95535036, 13.70283396,  4.95169183,  1.89972514]), LxC_aclus=array([12, 14, 17, 25], dtype=int64), SxC_aclus=array([30], dtype=int64), LxC_scatter_props=None, SxC_scatter_props=None), SingleBarResult(mean=14.843995503499745, std=19.667942233698742, values=array([ 2.09969621,  4.19939243,  4.19939243, 48.87750095]), LxC_aclus=array([12, 14, 17, 25], dtype=int64), SxC_aclus=array([30], dtype=int64), LxC_scatter_props=None, SxC_scatter_props=None), SingleBarResult(mean=1.8997251447687271, std=0.0, values=array([1.89972514]), LxC_aclus=array([12, 14, 17, 25], dtype=int64), SxC_aclus=array([30], dtype=int64), LxC_scatter_props=None, SxC_scatter_props=None), SingleBarResult(mean=0.0, std=0.0, values=array([0.]), LxC_aclus=array([12, 14, 17, 25], dtype=int64), SxC_aclus=array([30], dtype=int64), LxC_scatter_props=None, SxC_scatter_props=None)], Fig2_Laps_FR=[SingleBarResult(mean=48.01113235858589, std=12.013244567885879, values=array([47.32359666, 46.14915063, 32.40272669, 66.16905546]), LxC_aclus=array([12, 14, 17, 25], dtype=int64), SxC_aclus=array([30], dtype=int64), LxC_scatter_props=None, SxC_scatter_props=None), SingleBarResult(mean=6.347434087305931, std=1.715462221589997, values=array([8.16773265, 7.09230721, 3.5461536 , 6.58354289]), LxC_aclus=array([12, 14, 17, 25], dtype=int64), SxC_aclus=array([30], dtype=int64), LxC_scatter_props=None, SxC_scatter_props=None), SingleBarResult(mean=9.751922409812797, std=0.0, values=array([9.75192241]), LxC_aclus=array([12, 14, 17, 25], dtype=int64), SxC_aclus=array([30], dtype=int64), LxC_scatter_props=None, SxC_scatter_props=None), SingleBarResult(mean=35.22238431606163, std=0.0, values=array([35.22238432]), LxC_aclus=array([12, 14, 17, 25], dtype=int64), SxC_aclus=array([30], dtype=int64), LxC_scatter_props=None, SxC_scatter_props=None)]),\n",
       " Context(format_name: 'kdiba'\n",
       "         animal: 'vvp01'\n",
       "         exper_name: 'two'\n",
       "         session_name: '2006-4-10_12-58-3'): InstantaneousSpikeRateGroupsComputation(instantaneous_time_bin_size_seconds=0.01, active_identifying_session_ctx=IdentifyingContext<('kdiba', 'vvp01', 'two', '2006-4-10_12-58-3')>, LxC_aclus=array([ 7, 14, 16, 30, 32, 35, 40], dtype=int64), SxC_aclus=array([ 9, 42], dtype=int64), Fig2_Replay_FR=[SingleBarResult(mean=11.468453447826207, std=6.496847674917578, values=array([24.23871087, 15.79119075,  5.11464462,  7.9193786 , 11.90605792,\n",
       "         3.68922453, 11.61996684]), LxC_aclus=array([ 7, 14, 16, 30, 32, 35, 40], dtype=int64), SxC_aclus=array([ 9, 42], dtype=int64), LxC_scatter_props=None, SxC_scatter_props=None), SingleBarResult(mean=6.475486137292944, std=4.79253845345392, values=array([17.79200475,  4.00570628,  5.01447756,  7.03034034,  4.00570628,\n",
       "         4.98677851,  2.49338925]), LxC_aclus=array([ 7, 14, 16, 30, 32, 35, 40], dtype=int64), SxC_aclus=array([ 9, 42], dtype=int64), LxC_scatter_props=None, SxC_scatter_props=None), SingleBarResult(mean=8.786497901462694, std=8.786497901462694, values=array([17.5729958,  0.       ]), LxC_aclus=array([ 7, 14, 16, 30, 32, 35, 40], dtype=int64), SxC_aclus=array([ 9, 42], dtype=int64), LxC_scatter_props=None, SxC_scatter_props=None), SingleBarResult(mean=13.111143762544547, std=13.111143762544547, values=array([26.22228753,  0.        ]), LxC_aclus=array([ 7, 14, 16, 30, 32, 35, 40], dtype=int64), SxC_aclus=array([ 9, 42], dtype=int64), LxC_scatter_props=None, SxC_scatter_props=None)], Fig2_Laps_FR=[SingleBarResult(mean=43.216162205748965, std=17.32387271627846, values=array([21.58640766, 62.79775105, 29.20634596, 53.70506869, 55.61269067,\n",
       "        20.22875475, 59.37611666]), LxC_aclus=array([ 7, 14, 16, 30, 32, 35, 40], dtype=int64), SxC_aclus=array([ 9, 42], dtype=int64), LxC_scatter_props=None, SxC_scatter_props=None), SingleBarResult(mean=11.19007351549982, std=10.686281937388967, values=array([21.19149904,  4.432692  , 16.62259502,  0.        ,  0.        ,\n",
       "         6.21300591, 29.87072264]), LxC_aclus=array([ 7, 14, 16, 30, 32, 35, 40], dtype=int64), SxC_aclus=array([ 9, 42], dtype=int64), LxC_scatter_props=None, SxC_scatter_props=None), SingleBarResult(mean=9.878856500502351, std=5.04269901070005, values=array([ 4.83615749, 14.92155551]), LxC_aclus=array([ 7, 14, 16, 30, 32, 35, 40], dtype=int64), SxC_aclus=array([ 9, 42], dtype=int64), LxC_scatter_props=None, SxC_scatter_props=None), SingleBarResult(mean=18.36545915859555, std=8.055390950328968, values=array([10.31006821, 26.42085011]), LxC_aclus=array([ 7, 14, 16, 30, 32, 35, 40], dtype=int64), SxC_aclus=array([ 9, 42], dtype=int64), LxC_scatter_props=None, SxC_scatter_props=None)]),\n",
       " Context(format_name: 'kdiba'\n",
       "         animal: 'pin01'\n",
       "         exper_name: 'one'\n",
       "         session_name: '11-02_17-46-44'): InstantaneousSpikeRateGroupsComputation(instantaneous_time_bin_size_seconds=0.01, active_identifying_session_ctx=IdentifyingContext<('kdiba', 'pin01', 'one', '11-02_17-46-44')>, LxC_aclus=array([ 8, 10, 27, 33, 34], dtype=int64), SxC_aclus=array([17, 18, 20, 40], dtype=int64), Fig2_Replay_FR=[SingleBarResult(mean=8.432638351589501, std=5.91644002881545, values=array([ 9.67231498, 10.40454638,  2.09969621, 17.88693798,  2.09969621]), LxC_aclus=array([ 8, 10, 27, 33, 34], dtype=int64), SxC_aclus=array([17, 18, 20, 40], dtype=int64), LxC_scatter_props=None, SxC_scatter_props=None), SingleBarResult(mean=5.920876092936574, std=7.089157163221724, values=array([ 3.11673657,  0.62334731,  0.62334731, 19.60333524,  5.63761404]), LxC_aclus=array([ 8, 10, 27, 33, 34], dtype=int64), SxC_aclus=array([17, 18, 20, 40], dtype=int64), LxC_scatter_props=None, SxC_scatter_props=None), SingleBarResult(mean=3.786661568287385, std=1.648649504408587, values=array([6.30049738, 2.09969621, 4.19939243, 2.54706026]), LxC_aclus=array([ 8, 10, 27, 33, 34], dtype=int64), SxC_aclus=array([17, 18, 20, 40], dtype=int64), LxC_scatter_props=None, SxC_scatter_props=None), SingleBarResult(mean=11.643669841962392, std=4.222613610374346, values=array([16.23430925, 15.38777623,  6.61155239,  8.3410415 ]), LxC_aclus=array([ 8, 10, 27, 33, 34], dtype=int64), SxC_aclus=array([17, 18, 20, 40], dtype=int64), LxC_scatter_props=None, SxC_scatter_props=None)], Fig2_Laps_FR=[SingleBarResult(mean=41.74563560424557, std=17.093180248528697, values=array([72.47731882, 30.80433722, 47.32404746, 33.74253463, 24.37993989]), LxC_aclus=array([ 8, 10, 27, 33, 34], dtype=int64), SxC_aclus=array([17, 18, 20, 40], dtype=int64), LxC_scatter_props=None, SxC_scatter_props=None), SingleBarResult(mean=6.198637739996014, std=3.6800061463761407, values=array([9.73029952, 2.5362324 , 0.97302995, 8.58172716, 9.17189966]), LxC_aclus=array([ 8, 10, 27, 33, 34], dtype=int64), SxC_aclus=array([17, 18, 20, 40], dtype=int64), LxC_scatter_props=None, SxC_scatter_props=None), SingleBarResult(mean=7.934292609132415, std=6.024198040021387, values=array([ 3.9966599 ,  6.21300591, 18.20298562,  3.324519  ]), LxC_aclus=array([ 8, 10, 27, 33, 34], dtype=int64), SxC_aclus=array([17, 18, 20, 40], dtype=int64), LxC_scatter_props=None, SxC_scatter_props=None), SingleBarResult(mean=38.5369055722722, std=10.224617711103646, values=array([54.85761781, 26.68582285, 35.47485874, 37.1293229 ]), LxC_aclus=array([ 8, 10, 27, 33, 34], dtype=int64), SxC_aclus=array([17, 18, 20, 40], dtype=int64), LxC_scatter_props=None, SxC_scatter_props=None)]),\n",
       " Context(format_name: 'kdiba'\n",
       "         animal: 'pin01'\n",
       "         exper_name: 'one'\n",
       "         session_name: 'fet11-01_12-58-54'): InstantaneousSpikeRateGroupsComputation(instantaneous_time_bin_size_seconds=0.01, active_identifying_session_ctx=IdentifyingContext<('kdiba', 'pin01', 'one', 'fet11-01_12-58-54')>, LxC_aclus=array([ 6, 10, 16, 19], dtype=int64), SxC_aclus=array([24], dtype=int64), Fig2_Replay_FR=[SingleBarResult(mean=9.181583562792115, std=3.701914186993914, values=array([ 6.17280828,  7.6059952 ,  7.42572437, 15.5218064 ]), LxC_aclus=array([ 6, 10, 16, 19], dtype=int64), SxC_aclus=array([24], dtype=int64), LxC_scatter_props=None, SxC_scatter_props=None), SingleBarResult(mean=4.150809847463007, std=3.237606339890523, values=array([0.64868663, 1.94966303, 4.93425478, 9.07063495]), LxC_aclus=array([ 6, 10, 16, 19], dtype=int64), SxC_aclus=array([24], dtype=int64), LxC_scatter_props=None, SxC_scatter_props=None), SingleBarResult(mean=3.4412469792783553, std=0.0, values=array([3.44124698]), LxC_aclus=array([ 6, 10, 16, 19], dtype=int64), SxC_aclus=array([24], dtype=int64), LxC_scatter_props=None, SxC_scatter_props=None), SingleBarResult(mean=30.478624183384728, std=0.0, values=array([30.47862418]), LxC_aclus=array([ 6, 10, 16, 19], dtype=int64), SxC_aclus=array([24], dtype=int64), LxC_scatter_props=None, SxC_scatter_props=None)], Fig2_Laps_FR=[SingleBarResult(mean=36.4624125303696, std=13.177925965783405, values=array([30.87348123, 31.81669463, 24.41235439, 58.74711988]), LxC_aclus=array([ 6, 10, 16, 19], dtype=int64), SxC_aclus=array([24], dtype=int64), LxC_scatter_props=None, SxC_scatter_props=None), SingleBarResult(mean=6.665488605134945, std=6.017058529823763, values=array([ 3.19153824,  3.19153824,  3.19153824, 17.08733969]), LxC_aclus=array([ 6, 10, 16, 19], dtype=int64), SxC_aclus=array([24], dtype=int64), LxC_scatter_props=None, SxC_scatter_props=None), SingleBarResult(mean=7.56614669726855, std=0.0, values=array([7.5661467]), LxC_aclus=array([ 6, 10, 16, 19], dtype=int64), SxC_aclus=array([24], dtype=int64), LxC_scatter_props=None, SxC_scatter_props=None), SingleBarResult(mean=82.45622114507489, std=0.0, values=array([82.45622115]), LxC_aclus=array([ 6, 10, 16, 19], dtype=int64), SxC_aclus=array([24], dtype=int64), LxC_scatter_props=None, SxC_scatter_props=None)])}"
      ]
     },
     "execution_count": 15,
     "metadata": {},
     "output_type": "execute_result"
    }
   ],
   "source": [
    "across_sessions_instantaneous_fr_dict"
   ]
  },
  {
   "cell_type": "code",
   "execution_count": null,
   "id": "e178426c-54df-47ac-8103-a66f114c77e5",
   "metadata": {
    "tags": []
   },
   "outputs": [],
   "source": [
    "[a_ctxt.get_initialization_code_string() for a_ctxt in sessions_with_results]"
   ]
  },
  {
   "cell_type": "markdown",
   "id": "be651cc7",
   "metadata": {
    "tags": []
   },
   "source": [
    "# 2023-07-14 - Load Saved across-sessions-data and testing Batch-computed inst_firing_rates:"
   ]
  },
  {
   "cell_type": "code",
   "execution_count": null,
   "id": "28ad5bf6",
   "metadata": {},
   "outputs": [],
   "source": [
    "from neuropy.utils.matplotlib_helpers import matplotlib_configuration_update\n",
    "from pyphoplacecellanalysis.General.Batch.PhoDiba2023Paper import PaperFigureTwo, InstantaneousSpikeRateGroupsComputation\n",
    "from pyphoplacecellanalysis.General.Pipeline.Stages.ComputationFunctions.SpikeAnalysis import SpikeRateTrends\n",
    "from pyphoplacecellanalysis.General.Batch.PhoDiba2023Paper import list_of_dicts_to_dict_of_lists\n",
    "from pyphoplacecellanalysis.General.Batch.AcrossSessionResults import AcrossSessionsResults, AcrossSessionsVisualizations\n",
    "\n",
    "## Load the saved across-session results:\n",
    "# inst_fr_output_filename = 'long_short_inst_firing_rate_result_handlers_2023-07-12.pkl'\n",
    "# inst_fr_output_filename = 'across_session_result_long_short_inst_firing_rate.pkl'\n",
    "# inst_fr_output_filename='across_session_result_long_short_inst_firing_rate_2023-07-21.pkl'\n",
    "inst_fr_output_filename=f'across_session_result_handler_{BATCH_DATE_TO_USE}.pkl'\n",
    "across_session_inst_fr_computation, across_sessions_instantaneous_fr_dict, across_sessions_instantaneous_frs_list = AcrossSessionsResults.load_across_sessions_data(global_data_root_parent_path=global_data_root_parent_path, inst_fr_output_filename=inst_fr_output_filename)\n",
    "# across_sessions_instantaneous_fr_dict = loadData(global_batch_result_inst_fr_file_path)\n",
    "num_sessions = len(across_sessions_instantaneous_fr_dict)\n",
    "print(f'num_sessions: {num_sessions}')"
   ]
  },
  {
   "cell_type": "code",
   "execution_count": null,
   "id": "7cc1152c",
   "metadata": {},
   "outputs": [],
   "source": [
    "## Hacks the `PaperFigureTwo` and `InstantaneousSpikeRateGroupsComputation` \n",
    "global_multi_session_context, _out_aggregate_fig_2 = AcrossSessionsVisualizations.across_sessions_bar_graphs(across_session_inst_fr_computation, num_sessions, enable_tiny_point_labels=False, enable_hover_labels=False)\n"
   ]
  },
  {
   "cell_type": "code",
   "execution_count": null,
   "id": "1381fcf5",
   "metadata": {
    "notebookRunGroups": {
     "groupValue": "1"
    }
   },
   "outputs": [],
   "source": [
    "across_session_inst_fr_computation.LxC_scatter_props\n",
    "across_session_inst_fr_computation.SxC_scatter_props"
   ]
  },
  {
   "cell_type": "code",
   "execution_count": null,
   "id": "80db1ccc",
   "metadata": {},
   "outputs": [],
   "source": []
  },
  {
   "cell_type": "code",
   "execution_count": null,
   "id": "8e45d728",
   "metadata": {},
   "outputs": [],
   "source": []
  },
  {
   "cell_type": "code",
   "execution_count": null,
   "id": "d446874f",
   "metadata": {},
   "outputs": [],
   "source": [
    "# Build the unique scatter plot dictionaries:\n",
    "across_session_contexts = list(across_sessions_instantaneous_fr_dict.keys())\n",
    "unique_animals = IdentifyingContext.find_unique_values(across_session_contexts)['animal'] # {'gor01', 'pin01', 'vvp01'}\n",
    "# Get number of animals to plot\n",
    "marker_list = [(5, i) for i in np.arange(len(unique_animals))] # [(5, 0), (5, 1), (5, 2)]\n",
    "scatter_props = [{'marker': mkr} for mkr in marker_list]  # Example, you should provide your own scatter properties\n",
    "scatter_props_dict = dict(zip(unique_animals, scatter_props))\n",
    "# {'pin01': {'marker': (5, 0)},\n",
    "#  'gor01': {'marker': (5, 1)},\n",
    "#  'vvp01': {'marker': (5, 2)}}\n",
    "scatter_props_dict\n",
    "\n",
    "# Pass a function that will return a set of kwargs for a given context\n",
    "def _return_scatter_props_fn(ctxt: IdentifyingContext):\n",
    "\t\"\"\" captures `scatter_props_dict` \"\"\"\n",
    "\tanimal_id = str(ctxt.animal)\n",
    "\treturn scatter_props_dict[animal_id]\n",
    "\t\n"
   ]
  },
  {
   "cell_type": "code",
   "execution_count": null,
   "id": "63258151",
   "metadata": {},
   "outputs": [],
   "source": [
    "## Aggregate across all of the sessions to build a new combined `InstantaneousSpikeRateGroupsComputation`, which can be used to plot the \"PaperFigureTwo\", bar plots for many sessions.\n",
    "global_multi_session_context = IdentifyingContext(format_name='kdiba', num_sessions=num_sessions) # some global context across all of the sessions, not sure what to put here.\n",
    "\n",
    "# To correctly aggregate results across sessions, it only makes sense to combine entries at the `.cell_agg_inst_fr_list` variable and lower (as the number of cells can be added across sessions, treated as unique for each session).\n",
    "\n",
    "## Display the aggregate across sessions:\n",
    "_out_fig_2 = PaperFigureTwo(instantaneous_time_bin_size_seconds=0.01) # WARNING: we didn't save this info\n",
    "_out_fig_2.computation_result = across_session_inst_fr_computation # the result loaded from the file\n",
    "_out_fig_2.active_identifying_session_ctx = across_session_inst_fr_computation.active_identifying_session_ctx\n",
    "# Set callback, the only self-specific property\n",
    "# _out_fig_2._pipeline_file_callback_fn = curr_active_pipeline.output_figure # lambda args, kwargs: self.write_to_file(args, kwargs, curr_active_pipeline)\n",
    "_out_fig_2.scatter_props_fn = _return_scatter_props_fn"
   ]
  },
  {
   "cell_type": "code",
   "execution_count": null,
   "id": "50e9d06b",
   "metadata": {},
   "outputs": [],
   "source": [
    "LxC_aclus = _out_fig_2.computation_result.LxC_aclus\n",
    "SxC_aclus = _out_fig_2.computation_result.SxC_aclus\n",
    "\n",
    "LxC_aclus"
   ]
  },
  {
   "cell_type": "code",
   "execution_count": null,
   "id": "96c498f8",
   "metadata": {},
   "outputs": [],
   "source": [
    "from pyphoplacecellanalysis.General.Mixins.ExportHelpers import FigureOutputManager, FigureOutputLocation, ContextToPathMode\n",
    "\n",
    "registered_output_files = {}\n",
    "\n",
    "def output_figure(final_context: IdentifyingContext, fig, write_vector_format:bool=False, write_png:bool=True, debug_print=True):\n",
    "    \"\"\" outputs the figure using the provided context. \"\"\"\n",
    "    from pyphoplacecellanalysis.General.Mixins.ExportHelpers import build_and_write_to_file\n",
    "    def register_output_file(output_path, output_metadata=None):\n",
    "        \"\"\" registers a new output file for the pipeline \"\"\"\n",
    "        print(f'register_output_file(output_path: {output_path}, ...)')\n",
    "        registered_output_files[output_path] = output_metadata or {}\n",
    "\n",
    "    fig_out_man = FigureOutputManager(figure_output_location=FigureOutputLocation.DAILY_PROGRAMMATIC_OUTPUT_FOLDER, context_to_path_mode=ContextToPathMode.HIERARCHY_UNIQUE)\n",
    "    active_out_figure_paths = build_and_write_to_file(fig, final_context, fig_out_man, write_vector_format=write_vector_format, write_png=write_png, register_output_file_fn=register_output_file)\n",
    "    return active_out_figure_paths, final_context\n",
    "\n",
    "\n",
    "# Set callback, the only self-specific property\n",
    "_out_fig_2._pipeline_file_callback_fn = output_figure"
   ]
  },
  {
   "cell_type": "code",
   "execution_count": null,
   "id": "1db0f1d5",
   "metadata": {},
   "outputs": [],
   "source": [
    "_out_fig_2.computation_result.Fig2_Laps_FR"
   ]
  },
  {
   "cell_type": "code",
   "execution_count": null,
   "id": "da17b920",
   "metadata": {},
   "outputs": [],
   "source": []
  },
  {
   "cell_type": "code",
   "execution_count": null,
   "id": "17ef9f3d",
   "metadata": {},
   "outputs": [],
   "source": [
    "_out_fig_2.computation_result.Fig2_Laps_FR"
   ]
  },
  {
   "cell_type": "code",
   "execution_count": null,
   "id": "a694ec1c",
   "metadata": {},
   "outputs": [],
   "source": [
    "# Showing\n",
    "restore_previous_matplotlib_settings_callback = matplotlib_configuration_update(is_interactive=True, backend='Qt5Agg')\n",
    "# Perform interactive Matplotlib operations with 'Qt5Agg' backend\n",
    "_fig_2_theta_out, _fig_2_replay_out = _out_fig_2.display(active_context=global_multi_session_context, title_modifier_fn=lambda original_title: f\"{original_title} ({num_sessions} sessions)\", save_figure=True)\n",
    "\t\n",
    "_out_fig_2.perform_save()"
   ]
  },
  {
   "cell_type": "markdown",
   "id": "32781c8b",
   "metadata": {
    "jp-MarkdownHeadingCollapsed": true,
    "tags": []
   },
   "source": [
    "## Single Session testing:\n"
   ]
  },
  {
   "cell_type": "code",
   "execution_count": null,
   "id": "9311a987",
   "metadata": {},
   "outputs": [],
   "source": [
    "_test_out = global_batch_run.execute_session(session_context=curr_sess_context, force_reload=True, skip_extended_batch_computations=True, computation_functions_name_includelist =['_perform_baseline_placefield_computation'], active_session_computation_configs=None) # can override `active_session_computation_configs` if we want to set custom ones like only the laps.)\n",
    "_test_out\n",
    "\n",
    "# global_batch_run.execute_session(session_context=curr_sess_context, force_reload=True, skip_extended_batch_computations=True, **{'computation_functions_name_includelist': ['_perform_baseline_placefield_computation'], 'active_session_computation_configs': None}) # can override `active_session_computation_configs` if we want to set custom ones like only the laps.)\n",
    "\n",
    "# 23.5s"
   ]
  },
  {
   "cell_type": "code",
   "execution_count": null,
   "id": "ddf2bb67",
   "metadata": {
    "tags": []
   },
   "outputs": [],
   "source": [
    "\n",
    "full_good_dirs = [k for k, v in global_batch_run.session_batch_errors.items() if v is None]\n",
    "bad_dirs = [k for k, v in global_batch_run.session_batch_errors.items() if v is not None]\n",
    "full_good_dirs\n",
    "bad_dirs"
   ]
  },
  {
   "cell_type": "code",
   "execution_count": null,
   "id": "9d5f73f9",
   "metadata": {
    "tags": []
   },
   "outputs": [],
   "source": [
    "global_batch_run.session_batch_status"
   ]
  },
  {
   "cell_type": "code",
   "execution_count": null,
   "id": "0dcad70a",
   "metadata": {},
   "outputs": [],
   "source": [
    "global_batch_run.session_batch_status\n",
    "global_batch_run.session_batch_errors"
   ]
  },
  {
   "cell_type": "markdown",
   "id": "15faf2bb",
   "metadata": {
    "jp-MarkdownHeadingCollapsed": true,
    "tags": []
   },
   "source": [
    "# Get good sessions for use in the specific session processing notebook:"
   ]
  },
  {
   "cell_type": "code",
   "execution_count": null,
   "id": "ed516134",
   "metadata": {
    "tags": []
   },
   "outputs": [],
   "source": [
    "batch_progress_df = global_batch_run.to_dataframe(expand_context=True, good_only=False) # all\n",
    "good_only_batch_progress_df = global_batch_run.to_dataframe(expand_context=True, good_only=True)\n",
    "good_only_batch_progress_df"
   ]
  },
  {
   "cell_type": "code",
   "execution_count": null,
   "id": "bdf02efc",
   "metadata": {
    "tags": []
   },
   "outputs": [],
   "source": [
    "## Get the list of sessions that are completely ready to process:\n",
    "full_good_ready_to_process_sessions = list(good_only_batch_progress_df['context'].to_numpy())\n",
    "full_good_ready_to_process_sessions\n",
    "# Get good sessions for use in the specific session processing notebook:"
   ]
  },
  {
   "cell_type": "code",
   "execution_count": null,
   "id": "8f1ad809",
   "metadata": {
    "tags": []
   },
   "outputs": [],
   "source": [
    "run[\"good_sessions_list\"].extend(full_good_ready_to_process_sessions)"
   ]
  },
  {
   "cell_type": "code",
   "execution_count": null,
   "id": "c636e3b9",
   "metadata": {
    "tags": []
   },
   "outputs": [],
   "source": [
    "run.stop()\n",
    "project.stop()"
   ]
  },
  {
   "cell_type": "code",
   "execution_count": null,
   "id": "8caf1322",
   "metadata": {
    "tags": []
   },
   "outputs": [],
   "source": [
    "\n",
    "print(\",\\n\".join([ctx.get_initialization_code_string() for ctx in full_good_ready_to_process_sessions])) # List definitions\n",
    "\n",
    "# [IdentifyingContext(format_name='kdiba',animal='gor01',exper_name='one',session_name='2006-6-08_14-26-15'),\n",
    "# IdentifyingContext(format_name='kdiba',animal='gor01',exper_name='one',session_name='2006-6-09_1-22-43'),\n",
    "# IdentifyingContext(format_name='kdiba',animal='gor01',exper_name='one',session_name='2006-6-12_15-55-31'),\n",
    "# IdentifyingContext(format_name='kdiba',animal='gor01',exper_name='one',session_name='2006-6-13_14-42-6'),\n",
    "# IdentifyingContext(format_name='kdiba',animal='gor01',exper_name='two',session_name='2006-6-07_16-40-19'),\n",
    "# IdentifyingContext(format_name='kdiba',animal='gor01',exper_name='two',session_name='2006-6-12_16-53-46'),\n",
    "# IdentifyingContext(format_name='kdiba',animal='vvp01',exper_name='one',session_name='2006-4-09_17-29-30')]"
   ]
  },
  {
   "cell_type": "code",
   "execution_count": null,
   "id": "ee5a4bfe",
   "metadata": {
    "tags": []
   },
   "outputs": [],
   "source": [
    "print(\"\\ncurr_context = \".join([ctx.get_initialization_code_string() for ctx in full_good_ready_to_process_sessions])) # Line definitions\n",
    "\n",
    "# curr_context = IdentifyingContext(format_name='kdiba',animal='gor01',exper_name='one',session_name='2006-6-08_14-26-15')\n",
    "# curr_context = IdentifyingContext(format_name='kdiba',animal='gor01',exper_name='one',session_name='2006-6-09_1-22-43')\n",
    "# curr_context = IdentifyingContext(format_name='kdiba',animal='gor01',exper_name='one',session_name='2006-6-12_15-55-31')\n",
    "# curr_context = IdentifyingContext(format_name='kdiba',animal='gor01',exper_name='one',session_name='2006-6-13_14-42-6')\n",
    "# curr_context = IdentifyingContext(format_name='kdiba',animal='gor01',exper_name='two',session_name='2006-6-07_16-40-19')\n",
    "# curr_context = IdentifyingContext(format_name='kdiba',animal='gor01',exper_name='two',session_name='2006-6-12_16-53-46')\n",
    "# curr_context = IdentifyingContext(format_name='kdiba',animal='vvp01',exper_name='one',session_name='2006-4-09_17-29-30')"
   ]
  },
  {
   "cell_type": "code",
   "execution_count": null,
   "id": "e5689d1d-6400-4f87-be0e-a184a1d5bee4",
   "metadata": {
    "tags": []
   },
   "outputs": [],
   "source": [
    "good_only_batch_progress_df"
   ]
  },
  {
   "cell_type": "code",
   "execution_count": null,
   "id": "7c82aedf-b024-4f07-b1a9-350730b4db8c",
   "metadata": {
    "tags": []
   },
   "outputs": [],
   "source": [
    "from datetime import datetime\n",
    "\n",
    "# datetime object containing current date and time\n",
    "save_time = datetime.now()\n",
    " \n",
    "print(\"save_time =\", save_time)\n",
    "\n",
    "# dd/mm/YY H:M:S\n",
    "dt_string = save_time.strftime(\"%Y-%m-%d_%I-%M%p\")\n",
    "print(\"date and time =\", dt_string)"
   ]
  },
  {
   "cell_type": "code",
   "execution_count": null,
   "id": "ac7bc6bd-5b34-41d0-b906-b0ad9927b08d",
   "metadata": {
    "tags": []
   },
   "outputs": [],
   "source": [
    "## Get output file paths:\n",
    "completed_pipeline_filename = 'loadedSessPickle.pkl'\n",
    "completed_global_computations_filename = 'outputs/global_computation_results.pkl'\n",
    "\n",
    "full_good_ready_to_process_session_paths = list(good_only_batch_progress_df['basedirs'].to_numpy())\n",
    "session_paths_output_folders = [sess_path.joinpath('outputs').resolve() for sess_path in full_good_ready_to_process_session_paths]\n",
    "\n",
    "completed_pipeline_file_paths = [sess_path.joinpath(completed_pipeline_filename).resolve() for sess_path in full_good_ready_to_process_session_paths]\n",
    "completed_global_computations_file_paths = [sess_path.joinpath(completed_global_computations_filename).resolve() for sess_path in full_good_ready_to_process_session_paths]\n",
    "completed_global_computations_file_paths"
   ]
  },
  {
   "cell_type": "code",
   "execution_count": null,
   "id": "8ab75122",
   "metadata": {},
   "outputs": [],
   "source": [
    "# Countable Additivity \n",
    "# Any countable collections of points is size 0\n",
    "\n"
   ]
  },
  {
   "cell_type": "code",
   "execution_count": null,
   "id": "2af06e5e",
   "metadata": {},
   "outputs": [],
   "source": []
  }
 ],
 "metadata": {
  "kernelspec": {
   "display_name": "Python 3 (ipykernel)",
   "language": "python",
   "name": "python3"
  },
  "language_info": {
   "codemirror_mode": {
    "name": "ipython",
    "version": 3
   },
   "file_extension": ".py",
   "mimetype": "text/x-python",
   "name": "python",
   "nbconvert_exporter": "python",
   "pygments_lexer": "ipython3",
   "version": "3.9.13"
  },
  "toc-showmarkdowntxt": false,
  "toc-showtags": false
 },
 "nbformat": 4,
 "nbformat_minor": 5
}
