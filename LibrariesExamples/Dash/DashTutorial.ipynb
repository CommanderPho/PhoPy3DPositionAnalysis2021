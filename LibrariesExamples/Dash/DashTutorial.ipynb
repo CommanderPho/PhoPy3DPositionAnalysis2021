{
 "cells": [
  {
   "cell_type": "code",
   "execution_count": null,
   "metadata": {},
   "outputs": [],
   "source": [
    "# Import packages\n",
    "from dash import Dash, html, dash_table\n",
    "import pandas as pd\n",
    "# final_dfs_dict\n",
    "df = pd.read_csv('C:/Users/pho/repos/Spike3DWorkEnv/Spike3D/output/2024-01-29_AcrossSession_Laps_per-Epoch.csv')\n",
    "\n",
    "# Initialize the app\n",
    "app = Dash(__name__)\n",
    "\n",
    "# App layout\n",
    "app.layout = html.Div([\n",
    "    html.Div(children='My First App with Data'),\n",
    "    dash_table.DataTable(data=df.to_dict('records'), page_size=10)\n",
    "])\n",
    "\n",
    "# Run the app\n",
    "if __name__ == '__main__':\n",
    "    app.run(debug=True)\n"
   ]
  },
  {
   "cell_type": "code",
   "execution_count": null,
   "metadata": {},
   "outputs": [],
   "source": [
    "# Import packages\n",
    "from dash import Dash, html, dash_table, dcc # (DCC stands for Dash Core Components)\n",
    "# dcc.Graph: used to render interactive graphs.\n",
    "import pandas as pd\n",
    "import plotly.io as pio\n",
    "template: str = 'plotly_dark' # set plotl template\n",
    "pio.templates.default = template\n",
    "import plotly.express as px\n",
    "\n",
    "# Incorporate data\n",
    "df = pd.read_csv('https://raw.githubusercontent.com/plotly/datasets/master/gapminder2007.csv')\n",
    "\n",
    "# Initialize the app\n",
    "app = Dash(__name__)\n",
    "\n",
    "# App layout\n",
    "app.layout = html.Div([\n",
    "    html.Div(children='My First App with Data and a Graph'),\n",
    "    dash_table.DataTable(data=df.to_dict('records'), page_size=10),\n",
    "    dcc.Graph(figure=px.histogram(df, x='continent', y='lifeExp', histfunc='avg'))\n",
    "])\n",
    "\n",
    "# Run the app\n",
    "if __name__ == '__main__':\n",
    "    app.run(debug=True)\n"
   ]
  },
  {
   "cell_type": "code",
   "execution_count": null,
   "metadata": {},
   "outputs": [],
   "source": [
    "# Import packages\n",
    "from dash import Dash, html, dash_table, dcc, callback, Output, Input\n",
    "import pandas as pd\n",
    "import plotly.express as px\n",
    "\n",
    "# Incorporate data\n",
    "df = pd.read_csv('https://raw.githubusercontent.com/plotly/datasets/master/gapminder2007.csv')\n",
    "\n",
    "# Initialize the app\n",
    "app = Dash(__name__)\n",
    "\n",
    "# App layout\n",
    "app.layout = html.Div([\n",
    "    html.Div(children='My First App with Data, Graph, and Controls'),\n",
    "    html.Hr(),\n",
    "    dash_table.DataTable(data=df.to_dict('records'), page_size=6),\n",
    "    dcc.Graph(figure={}, id='controls-and-graph'),\n",
    "    dcc.RadioItems(options=['pop', 'lifeExp', 'gdpPercap'], value='lifeExp', id='controls-and-radio-item'),\n",
    "])\n",
    "\n",
    "# Add controls to build the interaction\n",
    "@callback(\n",
    "    Output(component_id='controls-and-graph', component_property='figure'),\n",
    "    Input(component_id='controls-and-radio-item', component_property='value')\n",
    ")\n",
    "def update_graph(col_chosen):\n",
    "    fig = px.histogram(df, x='continent', y=col_chosen, histfunc='avg')\n",
    "    return fig\n",
    "\n",
    "# Run the app\n",
    "if __name__ == '__main__':\n",
    "    app.run(debug=True)"
   ]
  },
  {
   "cell_type": "code",
   "execution_count": null,
   "metadata": {},
   "outputs": [],
   "source": [
    "# Import packages\n",
    "from dash import Dash, html, dash_table, dcc, callback, Output, Input\n",
    "import pandas as pd\n",
    "from pathlib import Path\n",
    "import plotly.express as px\n",
    "\n",
    "# Incorporate data\n",
    "final_csv_export_paths = {'AcrossSession_Laps_per-Epoch': Path('C:/Users/pho/repos/Spike3DWorkEnv/Spike3D/output/2024-01-29_AcrossSession_Laps_per-Epoch.csv'),\n",
    " 'AcrossSession_Ripple_per-Epoch': Path('C:/Users/pho/repos/Spike3DWorkEnv/Spike3D/output/2024-01-29_AcrossSession_Ripple_per-Epoch.csv'),\n",
    " 'AcrossSession_Laps_per-TimeBin': Path('C:/Users/pho/repos/Spike3DWorkEnv/Spike3D/output/2024-01-29_AcrossSession_Laps_per-TimeBin.csv'),\n",
    " 'AcrossSession_Ripple_per-TimeBin': Path('C:/Users/pho/repos/Spike3DWorkEnv/Spike3D/output/2024-01-29_AcrossSession_Ripple_per-TimeBin.csv')}\n",
    "\n",
    "final_dfs_dict = {a_name:pd.read_csv(a_path.resolve()) for a_name, a_path in final_csv_export_paths.items()}\n",
    "\n",
    "options_list = list(final_csv_export_paths.keys())\n",
    "initial_option = options_list[0]\n",
    "\n",
    "# Initialize the app\n",
    "app = Dash(__name__)\n",
    "\n",
    "# App layout\n",
    "app.layout = html.Div([\n",
    "    html.Div(children='My Custom App with Data, Graph, and Controls'),\n",
    "    html.Hr(),\n",
    "    dcc.RadioItems(options=options_list, value=initial_option, id='controls-and-radio-item'),\n",
    "    dash_table.DataTable(data=df.to_dict('records'), page_size=6),\n",
    "    dcc.Graph(figure={}, id='controls-and-graph'),\n",
    "])\n",
    "\n",
    "# Add controls to build the interaction\n",
    "@callback(\n",
    "    Output(component_id='controls-and-graph', component_property='figure'),\n",
    "    Input(component_id='controls-and-radio-item', component_property='value')\n",
    ")\n",
    "def update_graph(col_chosen):\n",
    "    print(f'col_chosen: {col_chosen}')\n",
    "    a_df = final_dfs_dict[col_chosen]\n",
    "    # fig = px.histogram(df, x='continent', y=col_chosen, histfunc='avg')\n",
    "    # fig = px.histogram(a_df, x='continent', y='P_Long', histfunc='avg')\n",
    "    fig = px.scatter(a_df, x='delta_aligned_start_t', y='P_Long', title=f\"{col_chosen}\", color='session_name', size='time_bin_size')\n",
    "    return fig\n",
    "\n",
    "\n",
    "    # fig = px.histogram(df, x='continent', y=col_chosen, histfunc='avg')\n",
    "    # return fig\n",
    "\n",
    "# Run the app\n",
    "if __name__ == '__main__':\n",
    "    app.run(debug=True)"
   ]
  },
  {
   "cell_type": "code",
   "execution_count": null,
   "metadata": {},
   "outputs": [],
   "source": []
  },
  {
   "cell_type": "markdown",
   "metadata": {},
   "source": [
    "# Four-CSV displaying version"
   ]
  },
  {
   "cell_type": "code",
   "execution_count": 25,
   "metadata": {},
   "outputs": [
    {
     "data": {
      "text/html": [
       "\n",
       "        <iframe\n",
       "            width=\"100%\"\n",
       "            height=\"650\"\n",
       "            src=\"http://127.0.0.1:8050/\"\n",
       "            frameborder=\"0\"\n",
       "            allowfullscreen\n",
       "            \n",
       "        ></iframe>\n",
       "        "
      ],
      "text/plain": [
       "<IPython.lib.display.IFrame at 0x1ac00a7c070>"
      ]
     },
     "metadata": {},
     "output_type": "display_data"
    },
    {
     "name": "stdout",
     "output_type": "stream",
     "text": [
      "update_datatable(col_chosen: AcrossSession_Laps_per-Epoch)\n",
      "update_graph(col_chosen: AcrossSession_Laps_per-Epoch)\n",
      "num_unique_sessions: 13, num_unique_time_bins: 6\n",
      "update_graph(col_chosen: AcrossSession_Ripple_per-Epoch)\n",
      "update_datatable(col_chosen: AcrossSession_Ripple_per-Epoch)\n",
      "num_unique_sessions: 14, num_unique_time_bins: 6\n",
      "update_graph(col_chosen: AcrossSession_Laps_per-TimeBin)\n",
      "update_datatable(col_chosen: AcrossSession_Laps_per-TimeBin)\n",
      "num_unique_sessions: 13, num_unique_time_bins: 6\n"
     ]
    }
   ],
   "source": [
    "# Import packages\n",
    "from typing import List, Dict, Optional, Tuple, Union\n",
    "from dash import Dash, html, dash_table, dcc, callback, Output, Input\n",
    "import pandas as pd\n",
    "from pathlib import Path\n",
    "import plotly.express as px\n",
    "\n",
    "# Incorporate data\n",
    "final_csv_export_paths = {'AcrossSession_Laps_per-Epoch': Path('C:/Users/pho/repos/Spike3DWorkEnv/Spike3D/output/2024-01-29_AcrossSession_Laps_per-Epoch.csv'),\n",
    " 'AcrossSession_Ripple_per-Epoch': Path('C:/Users/pho/repos/Spike3DWorkEnv/Spike3D/output/2024-01-29_AcrossSession_Ripple_per-Epoch.csv'),\n",
    " 'AcrossSession_Laps_per-TimeBin': Path('C:/Users/pho/repos/Spike3DWorkEnv/Spike3D/output/2024-01-29_AcrossSession_Laps_per-TimeBin.csv'),\n",
    " 'AcrossSession_Ripple_per-TimeBin': Path('C:/Users/pho/repos/Spike3DWorkEnv/Spike3D/output/2024-01-29_AcrossSession_Ripple_per-TimeBin.csv')}\n",
    "\n",
    "final_dfs_dict = {a_name:pd.read_csv(a_path.resolve()) for a_name, a_path in final_csv_export_paths.items()}\n",
    "\n",
    "options_list = list(final_csv_export_paths.keys())\n",
    "initial_option = options_list[0]\n",
    "initial_dataframe: pd.DataFrame = final_dfs_dict[initial_option]\n",
    "\n",
    "# Initialize the app\n",
    "app = Dash(__name__)\n",
    "\n",
    "# App layout\n",
    "app.layout = html.Div([\n",
    "    html.Div(children='My Custom App with Data, Graph, and Controls'),\n",
    "    html.Hr(),\n",
    "    dcc.RadioItems(options=options_list, value=initial_option, id='controls-and-radio-item'),\n",
    "    dash_table.DataTable(data=initial_dataframe.to_dict('records'), page_size=6, id='tbl-datatable'),\n",
    "    dcc.Graph(figure={}, id='controls-and-graph'),\n",
    "])\n",
    "\n",
    "# Add controls to build the interaction\n",
    "@callback(\n",
    "    Output(component_id='controls-and-graph', component_property='figure'),\n",
    "    Input(component_id='controls-and-radio-item', component_property='value')\n",
    ")\n",
    "def update_graph(col_chosen):\n",
    "    print(f'update_graph(col_chosen: {col_chosen})')\n",
    "    data_results_df: pd.DataFrame = final_dfs_dict[col_chosen]\n",
    "    unique_sessions: List[str] = data_results_df['session_name'].unique().tolist()\n",
    "    num_unique_sessions: int = data_results_df['session_name'].nunique(dropna=True) # number of unique sessions, ignoring the NA entries\n",
    "\n",
    "    ## Extract the unique time bin sizes:\n",
    "    time_bin_sizes: List[float] = data_results_df['time_bin_size'].unique().tolist()\n",
    "    num_unique_time_bins: int = data_results_df.time_bin_size.nunique(dropna=True)\n",
    "    print(f'num_unique_sessions: {num_unique_sessions}, num_unique_time_bins: {num_unique_time_bins}')\n",
    "    fig = px.scatter(data_results_df, x='delta_aligned_start_t', y='P_Long', title=f\"{col_chosen}\", color='time_bin_size', range_y=[0.0, 1.0],\n",
    "                            labels={\"session_name\": \"Session\", \"time_bin_size\": \"tbin_size\"},\n",
    "                            facet_row='session_name', facet_row_spacing=0.04, # default is 0.07 when facet_col_wrap is used\n",
    "                            height=num_unique_sessions*200, width=1024,\n",
    "                            )\n",
    "    return fig\n",
    "\n",
    "\n",
    "@callback(\n",
    "    Output(component_id='tbl-datatable', component_property='data'),\n",
    "    Input(component_id='controls-and-radio-item', component_property='value')\n",
    ")\n",
    "def update_datatable(col_chosen):\n",
    "    print(f'update_datatable(col_chosen: {col_chosen})')\n",
    "    a_df = final_dfs_dict[col_chosen]\n",
    "    data = a_df.to_dict('records')\n",
    "    return data\n",
    "\n",
    "\n",
    "# Run the app\n",
    "if __name__ == '__main__':\n",
    "    app.run(debug=True)"
   ]
  },
  {
   "cell_type": "code",
   "execution_count": 31,
   "metadata": {},
   "outputs": [
    {
     "name": "stdout",
     "output_type": "stream",
     "text": [
      "num_unique_sessions: 13, num_unique_time_bins: 6\n"
     ]
    },
    {
     "data": {
      "text/html": [
       "\n",
       "        <iframe\n",
       "            width=\"100%\"\n",
       "            height=\"650\"\n",
       "            src=\"http://127.0.0.1:8050/\"\n",
       "            frameborder=\"0\"\n",
       "            allowfullscreen\n",
       "            \n",
       "        ></iframe>\n",
       "        "
      ],
      "text/plain": [
       "<IPython.lib.display.IFrame at 0x1ac05a41d00>"
      ]
     },
     "metadata": {},
     "output_type": "display_data"
    },
    {
     "name": "stdout",
     "output_type": "stream",
     "text": [
      "update_datatable(col_chosen: AcrossSession_Laps_per-Epoch, chose_bin_sizes: [0.03, 0.1])\n",
      "update_graph(col_chosen: AcrossSession_Laps_per-Epoch, chose_bin_sizes: [0.03, 0.1])\n",
      "num_unique_sessions: 13, num_unique_time_bins: 2\n",
      "update_datatable(col_chosen: AcrossSession_Laps_per-Epoch, chose_bin_sizes: [0.03, 0.1])\n",
      "update_graph(col_chosen: AcrossSession_Laps_per-Epoch, chose_bin_sizes: [0.03, 0.1])\n",
      "num_unique_sessions: 13, num_unique_time_bins: 2\n",
      "update_graph(col_chosen: AcrossSession_Ripple_per-Epoch, chose_bin_sizes: [0.03, 0.1])\n",
      "update_datatable(col_chosen: AcrossSession_Ripple_per-Epoch, chose_bin_sizes: [0.03, 0.1])\n",
      "num_unique_sessions: 14, num_unique_time_bins: 2\n"
     ]
    }
   ],
   "source": [
    "# Import packages\n",
    "from typing import List, Dict, Optional, Tuple, Union\n",
    "from dash import Dash, html, dash_table, dcc, callback, Output, Input, State\n",
    "import pandas as pd\n",
    "from pathlib import Path\n",
    "import plotly.express as px\n",
    "\n",
    "# Incorporate data\n",
    "final_csv_export_paths = {'AcrossSession_Laps_per-Epoch': Path('C:/Users/pho/repos/Spike3DWorkEnv/Spike3D/output/2024-01-29_AcrossSession_Laps_per-Epoch.csv'),\n",
    " 'AcrossSession_Ripple_per-Epoch': Path('C:/Users/pho/repos/Spike3DWorkEnv/Spike3D/output/2024-01-29_AcrossSession_Ripple_per-Epoch.csv'),\n",
    " 'AcrossSession_Laps_per-TimeBin': Path('C:/Users/pho/repos/Spike3DWorkEnv/Spike3D/output/2024-01-29_AcrossSession_Laps_per-TimeBin.csv'),\n",
    " 'AcrossSession_Ripple_per-TimeBin': Path('C:/Users/pho/repos/Spike3DWorkEnv/Spike3D/output/2024-01-29_AcrossSession_Ripple_per-TimeBin.csv')}\n",
    "\n",
    "final_dfs_dict = {a_name:pd.read_csv(a_path.resolve()) for a_name, a_path in final_csv_export_paths.items()}\n",
    "\n",
    "options_list = list(final_csv_export_paths.keys())\n",
    "initial_option = options_list[0]\n",
    "initial_dataframe: pd.DataFrame = final_dfs_dict[initial_option]\n",
    "unique_sessions: List[str] = initial_dataframe['session_name'].unique().tolist()\n",
    "num_unique_sessions: int = initial_dataframe['session_name'].nunique(dropna=True) # number of unique sessions, ignoring the NA entries\n",
    "\n",
    "## Extract the unique time bin sizes:\n",
    "time_bin_sizes: List[float] = initial_dataframe['time_bin_size'].unique().tolist()\n",
    "num_unique_time_bins: int = initial_dataframe.time_bin_size.nunique(dropna=True)\n",
    "print(f'num_unique_sessions: {num_unique_sessions}, num_unique_time_bins: {num_unique_time_bins}')\n",
    "\n",
    "\n",
    "# Initialize the app\n",
    "app = Dash(__name__)\n",
    "\n",
    "# App layout\n",
    "app.layout = html.Div([\n",
    "    html.Div(children='My Custom App with Data, Graph, and Controls'),\n",
    "    html.Hr(),\n",
    "    dcc.RadioItems(options=options_list, value=initial_option, id='controls-and-radio-item'),\n",
    "    # Add CheckboxGroup for time_bin_sizes\n",
    "    # html.Div(dcc.Checklist(options=[{'label':i, 'value': i} for i in final_dfs_dict[initial_option]['time_bin_size'].unique()], id='time-bin-checkboxes', inline=True)),\n",
    "    html.Div(dcc.Checklist(options=time_bin_sizes, value=[time_bin_sizes[0], time_bin_sizes[-1]], id='time-bin-checkboxes', inline=True)),\n",
    "    dash_table.DataTable(data=initial_dataframe.to_dict('records'), page_size=6, id='tbl-datatable'),\n",
    "    dcc.Graph(figure={}, id='controls-and-graph'),\n",
    "])\n",
    "\n",
    "# Add controls to build the interaction\n",
    "# Add controls to build the interaction\n",
    "@callback(\n",
    "    Output(component_id='controls-and-graph', component_property='figure'),\n",
    "    [Input(component_id='controls-and-radio-item', component_property='value'),\n",
    "        State(component_id='time-bin-checkboxes', component_property='value'),\n",
    "    ]\n",
    ")\n",
    "def update_graph(col_chosen, chose_bin_sizes):\n",
    "    print(f'update_graph(col_chosen: {col_chosen}, chose_bin_sizes: {chose_bin_sizes})')\n",
    "    data_results_df: pd.DataFrame = final_dfs_dict[col_chosen]\n",
    "    # Filter dataframe by chosen bin sizes\n",
    "    data_results_df = data_results_df[data_results_df.time_bin_size.isin(chose_bin_sizes)]\n",
    "    \n",
    "    unique_sessions: List[str] = data_results_df['session_name'].unique().tolist()\n",
    "    num_unique_sessions: int = data_results_df['session_name'].nunique(dropna=True) # number of unique sessions, ignoring the NA entries\n",
    "\n",
    "    ## Extract the unique time bin sizes:\n",
    "    time_bin_sizes: List[float] = data_results_df['time_bin_size'].unique().tolist()\n",
    "    num_unique_time_bins: int = data_results_df.time_bin_size.nunique(dropna=True)\n",
    "    print(f'num_unique_sessions: {num_unique_sessions}, num_unique_time_bins: {num_unique_time_bins}')\n",
    "    fig = px.scatter(data_results_df, x='delta_aligned_start_t', y='P_Long', title=f\"{col_chosen}\", color='time_bin_size', range_y=[0.0, 1.0],\n",
    "                            labels={\"session_name\": \"Session\", \"time_bin_size\": \"tbin_size\"},\n",
    "                            facet_row='session_name', facet_row_spacing=0.04, # default is 0.07 when facet_col_wrap is used\n",
    "                            height=num_unique_sessions*200, width=1024,\n",
    "                            )\n",
    "    return fig\n",
    "\n",
    "\n",
    "@callback(\n",
    "    Output(component_id='tbl-datatable', component_property='data'),\n",
    "    [Input(component_id='controls-and-radio-item', component_property='value'),\n",
    "        State(component_id='time-bin-checkboxes', component_property='value'),\n",
    "    ]\n",
    ")\n",
    "def update_datatable(col_chosen, chose_bin_sizes):\n",
    "    print(f'update_datatable(col_chosen: {col_chosen}, chose_bin_sizes: {chose_bin_sizes})')\n",
    "    a_df = final_dfs_dict[col_chosen]\n",
    "\t# Filter dataframe by chosen bin sizes\n",
    "    a_df = a_df[a_df.time_bin_size.isin(chose_bin_sizes)]\n",
    "    data = a_df.to_dict('records')\n",
    "    return data\n",
    "\n",
    "\n",
    "# Run the app\n",
    "if __name__ == '__main__':\n",
    "    app.run(debug=True)"
   ]
  },
  {
   "cell_type": "code",
   "execution_count": 2,
   "metadata": {},
   "outputs": [
    {
     "data": {
      "application/vnd.plotly.v1+json": {
       "config": {
        "plotlyServerURL": "https://plot.ly"
       },
       "data": [
        {
         "type": "histogram",
         "y": [
          0.37412188599656804,
          0.6894091318322321,
          -0.8023837284823835,
          -1.8500619089892743,
          0.011708421072522672,
          -1.2554794634826278,
          1.2442737643682968,
          -0.27493960131335815,
          0.18342582579783584,
          1.0265245999286838,
          -0.19778661495965802,
          -0.3053077885935481,
          -0.5208156762245794,
          1.1558194262919772,
          -1.2522057300188931,
          1.5870506005851688,
          1.342024311293283,
          -0.8233709691332481,
          -0.09889654875423046,
          -1.0073092064045732,
          1.1317146889493277,
          0.020169419647043867,
          -0.8956598573528782,
          1.2737594037257804,
          0.9300700302076401,
          -0.9223681021843895,
          -0.39331635043158836,
          -1.1309177689666543,
          0.12988014333858108,
          1.3069869325843808,
          -1.3785430701051493,
          -0.035170872788760854,
          -1.1098203791610999,
          -0.20513798167072128,
          -1.7953659587585842,
          1.4751795905496952,
          0.10995695282674095,
          -0.11045286788423544,
          0.8054009549860874,
          -1.2018602267468186,
          -1.162012176628644,
          -0.11138896408531655,
          0.34778125562639906,
          0.9161296304771441,
          0.24827111190289086,
          0.18227273032789337,
          -0.8363499667944017,
          -0.6299924685640833,
          -0.09061684839515326,
          -0.9543803576937568,
          0.677883765737335,
          -0.1831189769287999,
          0.5433782160060072,
          1.315414222795842,
          0.11841273175110316,
          1.1917187697859304,
          0.2781556130834835,
          0.8955764859005539,
          2.297361520904055,
          0.1417100819064856,
          -0.7795611662339503,
          -0.30373684334513873,
          2.3891666746215314,
          0.6370452504661481,
          -0.8797079543082134,
          -1.4994877920243388,
          -0.7628167425058495,
          0.13361398069017102,
          0.5435291582164584,
          -0.677741790152351,
          0.18086210234641706,
          0.6199128435126119,
          -1.551241275483228,
          -0.911875304954166,
          -1.530850280289371,
          -0.4542839924094324,
          0.18885879933142793,
          -0.9890807588118073,
          -0.9883421174011421,
          -1.2828734102919463,
          -0.1686427608777763,
          1.968996077139702,
          -1.0554999592241094,
          0.8555487096351521,
          1.0052487610210235,
          -0.9851601801974595,
          0.4833172611688645,
          0.40869015433900946,
          -1.2903172359670727,
          1.1515445389793595,
          0.05553802016431486,
          -0.7407914049767965,
          -0.7268041143730695,
          0.5342835223592997,
          -1.2280045434471467,
          0.8416061249259711,
          -0.3862234342544937,
          1.006498933090894,
          -0.5088793295822402,
          -2.5982585748868186,
          -0.2822903074672094,
          1.578290472324122,
          -0.6471798874576938,
          2.3556783833860573,
          -2.5429958344456485,
          0.6017756367408555,
          0.7733816317622466,
          0.14738723964216832,
          0.42598795992975574,
          0.536223606908659,
          0.7351558990753887,
          0.24433601526635843,
          1.3564455776935116,
          0.20770654692149607,
          -1.6196667672966663,
          1.0408076860503441,
          -0.7708372070988005,
          -0.08282926289316828,
          -0.04433162590825977,
          0.0008825661306205373,
          0.1771851952904302,
          -0.37970196799913175,
          -0.2604903515312935,
          0.7195577031281928,
          -2.2745507419386257,
          0.9992132707395472,
          0.1948210115200162,
          2.415422560173548,
          1.2208388408976172,
          -0.8059514112132791,
          -0.02505372177101688,
          -1.1083041287180653,
          -1.0088063764216213,
          -0.8226014659781467,
          1.0568702334110167,
          0.7899818680837475,
          -0.508532047740562,
          0.8128479839132722,
          -0.6531858583661555,
          0.27352670020411335,
          -0.256574728846062,
          -1.5013840215719494,
          0.25241359676540015,
          -0.9001869936311641,
          0.6291076387102449,
          0.26814551628156896,
          -1.2485614589597265,
          -0.47987473034205674,
          0.4023990004826992,
          -0.8977162483326305,
          -2.1721339996907734,
          1.7912394189414247,
          1.588750876880672,
          -0.7700551453030444,
          1.3704548344491196,
          0.2369052053182896,
          0.5352906838304313,
          -0.6689211672780058,
          -1.7436450178147889,
          0.6207904339422007,
          1.02523559423593,
          -0.6268377466247159,
          -1.1316774995528076,
          -0.07722649061411296,
          -1.8651002326935675,
          -0.8047524693265972,
          -0.7639655074478773,
          -0.7674292053504674,
          1.060084573662246,
          0.4919913602793772,
          -0.4273011789797063,
          -1.5328119335129244,
          0.9463052896224671,
          -1.1098483339933747,
          0.4996431553064302,
          1.2846751420866283,
          0.5586854722389708,
          0.8498187666328264,
          1.7771606636257293,
          -0.07226677521159591,
          -0.6977157021336376,
          -0.12102493107006977,
          -0.08679546335914458,
          0.40205930117711275,
          1.8793441558394082,
          -0.21041009187167573,
          -0.4644333143721933,
          0.4304125741901271,
          0.09771705660214973,
          1.224654503818987,
          -0.36007923538857095,
          0.3099584357917592,
          -0.35828924953922175,
          0.169184860454975,
          -0.7430142241044106,
          0.772627298324513,
          1.7185676397270366,
          -1.7722622291865788,
          0.0929297771826836,
          0.38947696211381605,
          0.03423290918748367,
          -0.20450562945765718,
          -2.3297917267850616,
          0.1354301999030958,
          -0.5722698094960883,
          -1.1044970590984706,
          -0.1629480463720264,
          0.7757679640753298,
          -2.264039664207349,
          0.18170780720257074,
          -0.16142845110711543,
          -0.020307471330750945,
          -0.1768522388438222,
          0.736201470966439,
          -1.281749680225118,
          0.19766189402814202,
          2.1235186626266636,
          0.37343147058892934,
          -0.20754494602604506,
          -0.045555931062347184,
          1.9001129325621096,
          0.05440605070803527,
          -0.6776750835073097,
          -0.057251411648045744,
          -0.9776385856976906,
          -0.4322753717969947,
          -0.20310726232069715,
          1.4027443088317397,
          -2.3042831773670645,
          -0.7929984105456275,
          1.342044629187807,
          0.2802070009351169,
          -0.1787424884905876,
          -0.642027741495144,
          0.9720411973915843,
          0.19397312507391212,
          -0.1376198980855889,
          -0.49463020820098963,
          0.7738029699130591,
          1.7099583564046172,
          1.3741077341640662,
          -1.9502337740155462,
          -0.3008555829769954,
          1.3791871501763122,
          -0.032983766513144,
          1.4916596028156492,
          1.460026596450973,
          -0.6749094862442709,
          -0.7234386500703793,
          -0.4064659378206758,
          -0.4666841871863257,
          -1.3336835433975271,
          0.24226440502496693,
          0.48184638974462074,
          0.5245923413916311,
          -0.9787182423321207,
          -0.21525106858458498,
          -0.5837512371877338,
          -1.8827328622967057,
          0.6416534424158195,
          -0.3715998136980089,
          -1.4485463763473354,
          1.9782721594823338,
          -1.7621003511534812,
          0.28932066475785473,
          0.5890707842179432,
          0.8585990789754041,
          0.35037180499059817,
          -2.112395786354306,
          -1.4577823058495372,
          1.8849545123263922,
          1.1197872747049555,
          0.4532325081699043,
          2.360688255269029,
          0.46892665654892207,
          0.04197139729880242,
          0.461083472134011,
          0.8635953133997789,
          -0.2813618885564515,
          -0.422335255710398,
          0.9980413297551977,
          -1.0833201972205584,
          -0.16071947612910017,
          -1.1922502222358342,
          -1.173978230255499,
          0.005988052995832467,
          1.2349773916121067,
          -1.1482227127778777,
          0.06804842792545356,
          -0.2707034748697996,
          0.3857910493093485,
          0.625882395230143,
          1.2528695798103375,
          -0.885819396580368,
          0.2936236848068254,
          0.22114345777781833,
          0.12067778549066104,
          -0.29760239478762607,
          2.4377512940588413,
          -1.5747986741779574,
          -1.269179318689542,
          -1.4709322950080008,
          0.09357309828883817,
          -0.35778188739577416,
          -0.21729392192501865,
          -1.2283790089313844,
          -0.12831097329451738,
          -1.9443143001795868,
          0.1806653098937647,
          0.3854483850942458,
          1.5052606806576807,
          -0.7542970666274244,
          0.4614061992275595,
          0.7147578306507335,
          -0.616319985644671,
          -0.023018641306780874,
          0.49558209520833385,
          -1.4978533869548163,
          1.6014080855844364,
          1.7883426198029178,
          -0.0963615688282831,
          -1.7778460050623686,
          -0.11038916191528872,
          1.4255198331379713,
          -0.6337971869288361,
          -1.2120849420818611,
          0.45927090059983966,
          0.34342554910210804,
          1.0567815715802422,
          0.38864457763600213,
          2.088148564639063,
          -0.5588077411714933,
          -1.4212847624435594,
          1.4893392629743745,
          0.7414417734439402,
          1.3110528047614287,
          -0.36617878915576874,
          -1.126198053882625,
          0.9872638504366746,
          -0.9628761872502729,
          1.5240286736016713,
          0.3569501082734213,
          -0.46073768464280307,
          -0.09053246157590765,
          -0.6379603524168733,
          0.22520668144399641,
          0.14116888560438087,
          -0.7169522954660754,
          -0.45132989554510405,
          -0.8941906841175034,
          -1.486914189069482,
          0.5675542699250465,
          -1.006942940032818,
          -0.33175579585295095,
          -0.17644259943855303,
          -0.002549153804583795,
          0.639893015085514,
          0.3711398373328875,
          0.6168425807339779,
          -0.47566813916921286,
          -0.8094174375941455,
          -1.6172685913345084,
          0.9145961232803352,
          -0.3090652630653493,
          -0.09487279311893677,
          -0.654177197761345,
          0.7719279031335484,
          1.6782586936233896,
          -1.993744802012093,
          -1.120658182627475,
          -0.14586134787969174,
          -1.1178719024458859,
          2.087815004852926,
          -0.20492027457020653,
          1.0083737721290102,
          0.17280453924214573,
          1.0841097763403924,
          0.6550598739248749,
          -0.11461310774738356,
          0.7125750158732987,
          1.8823184003625,
          -0.5207714846494426,
          -1.8505200678705893,
          -0.8269323043899228,
          -1.4974488983010994,
          2.606323801340898,
          0.10644409577345663,
          1.4069840928242807,
          0.3336726332173796,
          1.102046048658545,
          -2.0827251099677895,
          -0.7892485298826203,
          -1.2450205008500064,
          -0.21197718804048155,
          0.025667343980664167,
          0.2858957319994016,
          -1.9140413178328892,
          -0.014507596480376644,
          0.5835347397951215,
          -1.093842256731718,
          -0.3449288959613052,
          -0.7499639131465079,
          1.1528664311934016,
          0.608780684173533,
          -0.23554691086165067,
          0.20879715824291956,
          -0.40566640581101265,
          0.6071202052886358,
          0.04381872872019363,
          0.5116242832441252,
          -0.7084824256913254,
          -1.0441354183244134,
          -1.8330071165766382,
          -0.6088578589748985,
          1.6473194369685311,
          1.1213986576582327,
          0.31689939696356406,
          -0.1940709522603375,
          -0.7313252256716817,
          0.45422936490680393,
          1.6984086307565671,
          -0.08991136040461362,
          1.4852766026808255,
          -1.8812850201459224,
          -0.17716873567934985,
          0.5603477293533082,
          -0.4493011753629765,
          -0.610422520953008,
          0.09366271549710434,
          0.11626873259281026,
          1.5004171458059048,
          1.1161131837685316,
          -0.5444515529355377,
          0.5627348932583928,
          0.8589943183103892,
          0.16667724172836826,
          -2.158961459649008,
          1.0955292512657404,
          -0.11951262719156158,
          0.11766819488486614,
          0.192767429789032,
          0.05452399473084831,
          -0.14123991480427725,
          0.20446179466908085,
          1.2103361630134808,
          0.26535404111333016,
          1.4737956191492547,
          -0.01376063970315623,
          1.780179558106675,
          -0.7790513665537032,
          -1.288270736196356,
          0.7797844410735955,
          -0.42519446971098007,
          1.0835369672142376,
          1.3292795734959268,
          -0.5046652995135492,
          -0.3633196209758921,
          0.11951890257857951,
          0.6614818923393024,
          1.3934058213357299,
          0.39556019775764234,
          0.8150028093436871,
          0.4811091119178956,
          0.012492754747745211,
          -1.0101106311272665,
          -0.6109994597616655,
          -0.3995222946817862,
          -0.37136862151273436,
          0.7929572303271226,
          -0.12151131091823739,
          -0.8737492799109107,
          0.6153580633647932,
          0.5868613694212257,
          -0.04283395210227419,
          0.4278270289221449,
          -0.8064463245710584,
          -0.9120323543005717,
          -0.1492704398423467,
          0.3962866843851471,
          0.042667696987845005,
          -1.0500957583655264,
          -0.9479746527427543,
          -1.5116279665029293,
          0.021830097561577423,
          -0.8634184583440517,
          -0.5176760324855249,
          1.3754258565331607,
          -0.3681803679124469,
          0.33899999397290703,
          -0.5449957743976405,
          1.6070191060277739,
          0.8105554909906355,
          1.0440042063777593,
          0.8084822228847728,
          -1.2498267137930863,
          1.5566063992300674,
          -1.0496417627478616,
          1.1308768035068002,
          0.23586431901229665,
          0.21642123260951782
         ]
        }
       ],
       "layout": {
        "template": {
         "data": {
          "bar": [
           {
            "error_x": {
             "color": "#2a3f5f"
            },
            "error_y": {
             "color": "#2a3f5f"
            },
            "marker": {
             "line": {
              "color": "#E5ECF6",
              "width": 0.5
             },
             "pattern": {
              "fillmode": "overlay",
              "size": 10,
              "solidity": 0.2
             }
            },
            "type": "bar"
           }
          ],
          "barpolar": [
           {
            "marker": {
             "line": {
              "color": "#E5ECF6",
              "width": 0.5
             },
             "pattern": {
              "fillmode": "overlay",
              "size": 10,
              "solidity": 0.2
             }
            },
            "type": "barpolar"
           }
          ],
          "carpet": [
           {
            "aaxis": {
             "endlinecolor": "#2a3f5f",
             "gridcolor": "white",
             "linecolor": "white",
             "minorgridcolor": "white",
             "startlinecolor": "#2a3f5f"
            },
            "baxis": {
             "endlinecolor": "#2a3f5f",
             "gridcolor": "white",
             "linecolor": "white",
             "minorgridcolor": "white",
             "startlinecolor": "#2a3f5f"
            },
            "type": "carpet"
           }
          ],
          "choropleth": [
           {
            "colorbar": {
             "outlinewidth": 0,
             "ticks": ""
            },
            "type": "choropleth"
           }
          ],
          "contour": [
           {
            "colorbar": {
             "outlinewidth": 0,
             "ticks": ""
            },
            "colorscale": [
             [
              0,
              "#0d0887"
             ],
             [
              0.1111111111111111,
              "#46039f"
             ],
             [
              0.2222222222222222,
              "#7201a8"
             ],
             [
              0.3333333333333333,
              "#9c179e"
             ],
             [
              0.4444444444444444,
              "#bd3786"
             ],
             [
              0.5555555555555556,
              "#d8576b"
             ],
             [
              0.6666666666666666,
              "#ed7953"
             ],
             [
              0.7777777777777778,
              "#fb9f3a"
             ],
             [
              0.8888888888888888,
              "#fdca26"
             ],
             [
              1,
              "#f0f921"
             ]
            ],
            "type": "contour"
           }
          ],
          "contourcarpet": [
           {
            "colorbar": {
             "outlinewidth": 0,
             "ticks": ""
            },
            "type": "contourcarpet"
           }
          ],
          "heatmap": [
           {
            "colorbar": {
             "outlinewidth": 0,
             "ticks": ""
            },
            "colorscale": [
             [
              0,
              "#0d0887"
             ],
             [
              0.1111111111111111,
              "#46039f"
             ],
             [
              0.2222222222222222,
              "#7201a8"
             ],
             [
              0.3333333333333333,
              "#9c179e"
             ],
             [
              0.4444444444444444,
              "#bd3786"
             ],
             [
              0.5555555555555556,
              "#d8576b"
             ],
             [
              0.6666666666666666,
              "#ed7953"
             ],
             [
              0.7777777777777778,
              "#fb9f3a"
             ],
             [
              0.8888888888888888,
              "#fdca26"
             ],
             [
              1,
              "#f0f921"
             ]
            ],
            "type": "heatmap"
           }
          ],
          "heatmapgl": [
           {
            "colorbar": {
             "outlinewidth": 0,
             "ticks": ""
            },
            "colorscale": [
             [
              0,
              "#0d0887"
             ],
             [
              0.1111111111111111,
              "#46039f"
             ],
             [
              0.2222222222222222,
              "#7201a8"
             ],
             [
              0.3333333333333333,
              "#9c179e"
             ],
             [
              0.4444444444444444,
              "#bd3786"
             ],
             [
              0.5555555555555556,
              "#d8576b"
             ],
             [
              0.6666666666666666,
              "#ed7953"
             ],
             [
              0.7777777777777778,
              "#fb9f3a"
             ],
             [
              0.8888888888888888,
              "#fdca26"
             ],
             [
              1,
              "#f0f921"
             ]
            ],
            "type": "heatmapgl"
           }
          ],
          "histogram": [
           {
            "marker": {
             "pattern": {
              "fillmode": "overlay",
              "size": 10,
              "solidity": 0.2
             }
            },
            "type": "histogram"
           }
          ],
          "histogram2d": [
           {
            "colorbar": {
             "outlinewidth": 0,
             "ticks": ""
            },
            "colorscale": [
             [
              0,
              "#0d0887"
             ],
             [
              0.1111111111111111,
              "#46039f"
             ],
             [
              0.2222222222222222,
              "#7201a8"
             ],
             [
              0.3333333333333333,
              "#9c179e"
             ],
             [
              0.4444444444444444,
              "#bd3786"
             ],
             [
              0.5555555555555556,
              "#d8576b"
             ],
             [
              0.6666666666666666,
              "#ed7953"
             ],
             [
              0.7777777777777778,
              "#fb9f3a"
             ],
             [
              0.8888888888888888,
              "#fdca26"
             ],
             [
              1,
              "#f0f921"
             ]
            ],
            "type": "histogram2d"
           }
          ],
          "histogram2dcontour": [
           {
            "colorbar": {
             "outlinewidth": 0,
             "ticks": ""
            },
            "colorscale": [
             [
              0,
              "#0d0887"
             ],
             [
              0.1111111111111111,
              "#46039f"
             ],
             [
              0.2222222222222222,
              "#7201a8"
             ],
             [
              0.3333333333333333,
              "#9c179e"
             ],
             [
              0.4444444444444444,
              "#bd3786"
             ],
             [
              0.5555555555555556,
              "#d8576b"
             ],
             [
              0.6666666666666666,
              "#ed7953"
             ],
             [
              0.7777777777777778,
              "#fb9f3a"
             ],
             [
              0.8888888888888888,
              "#fdca26"
             ],
             [
              1,
              "#f0f921"
             ]
            ],
            "type": "histogram2dcontour"
           }
          ],
          "mesh3d": [
           {
            "colorbar": {
             "outlinewidth": 0,
             "ticks": ""
            },
            "type": "mesh3d"
           }
          ],
          "parcoords": [
           {
            "line": {
             "colorbar": {
              "outlinewidth": 0,
              "ticks": ""
             }
            },
            "type": "parcoords"
           }
          ],
          "pie": [
           {
            "automargin": true,
            "type": "pie"
           }
          ],
          "scatter": [
           {
            "fillpattern": {
             "fillmode": "overlay",
             "size": 10,
             "solidity": 0.2
            },
            "type": "scatter"
           }
          ],
          "scatter3d": [
           {
            "line": {
             "colorbar": {
              "outlinewidth": 0,
              "ticks": ""
             }
            },
            "marker": {
             "colorbar": {
              "outlinewidth": 0,
              "ticks": ""
             }
            },
            "type": "scatter3d"
           }
          ],
          "scattercarpet": [
           {
            "marker": {
             "colorbar": {
              "outlinewidth": 0,
              "ticks": ""
             }
            },
            "type": "scattercarpet"
           }
          ],
          "scattergeo": [
           {
            "marker": {
             "colorbar": {
              "outlinewidth": 0,
              "ticks": ""
             }
            },
            "type": "scattergeo"
           }
          ],
          "scattergl": [
           {
            "marker": {
             "colorbar": {
              "outlinewidth": 0,
              "ticks": ""
             }
            },
            "type": "scattergl"
           }
          ],
          "scattermapbox": [
           {
            "marker": {
             "colorbar": {
              "outlinewidth": 0,
              "ticks": ""
             }
            },
            "type": "scattermapbox"
           }
          ],
          "scatterpolar": [
           {
            "marker": {
             "colorbar": {
              "outlinewidth": 0,
              "ticks": ""
             }
            },
            "type": "scatterpolar"
           }
          ],
          "scatterpolargl": [
           {
            "marker": {
             "colorbar": {
              "outlinewidth": 0,
              "ticks": ""
             }
            },
            "type": "scatterpolargl"
           }
          ],
          "scatterternary": [
           {
            "marker": {
             "colorbar": {
              "outlinewidth": 0,
              "ticks": ""
             }
            },
            "type": "scatterternary"
           }
          ],
          "surface": [
           {
            "colorbar": {
             "outlinewidth": 0,
             "ticks": ""
            },
            "colorscale": [
             [
              0,
              "#0d0887"
             ],
             [
              0.1111111111111111,
              "#46039f"
             ],
             [
              0.2222222222222222,
              "#7201a8"
             ],
             [
              0.3333333333333333,
              "#9c179e"
             ],
             [
              0.4444444444444444,
              "#bd3786"
             ],
             [
              0.5555555555555556,
              "#d8576b"
             ],
             [
              0.6666666666666666,
              "#ed7953"
             ],
             [
              0.7777777777777778,
              "#fb9f3a"
             ],
             [
              0.8888888888888888,
              "#fdca26"
             ],
             [
              1,
              "#f0f921"
             ]
            ],
            "type": "surface"
           }
          ],
          "table": [
           {
            "cells": {
             "fill": {
              "color": "#EBF0F8"
             },
             "line": {
              "color": "white"
             }
            },
            "header": {
             "fill": {
              "color": "#C8D4E3"
             },
             "line": {
              "color": "white"
             }
            },
            "type": "table"
           }
          ]
         },
         "layout": {
          "annotationdefaults": {
           "arrowcolor": "#2a3f5f",
           "arrowhead": 0,
           "arrowwidth": 1
          },
          "autotypenumbers": "strict",
          "coloraxis": {
           "colorbar": {
            "outlinewidth": 0,
            "ticks": ""
           }
          },
          "colorscale": {
           "diverging": [
            [
             0,
             "#8e0152"
            ],
            [
             0.1,
             "#c51b7d"
            ],
            [
             0.2,
             "#de77ae"
            ],
            [
             0.3,
             "#f1b6da"
            ],
            [
             0.4,
             "#fde0ef"
            ],
            [
             0.5,
             "#f7f7f7"
            ],
            [
             0.6,
             "#e6f5d0"
            ],
            [
             0.7,
             "#b8e186"
            ],
            [
             0.8,
             "#7fbc41"
            ],
            [
             0.9,
             "#4d9221"
            ],
            [
             1,
             "#276419"
            ]
           ],
           "sequential": [
            [
             0,
             "#0d0887"
            ],
            [
             0.1111111111111111,
             "#46039f"
            ],
            [
             0.2222222222222222,
             "#7201a8"
            ],
            [
             0.3333333333333333,
             "#9c179e"
            ],
            [
             0.4444444444444444,
             "#bd3786"
            ],
            [
             0.5555555555555556,
             "#d8576b"
            ],
            [
             0.6666666666666666,
             "#ed7953"
            ],
            [
             0.7777777777777778,
             "#fb9f3a"
            ],
            [
             0.8888888888888888,
             "#fdca26"
            ],
            [
             1,
             "#f0f921"
            ]
           ],
           "sequentialminus": [
            [
             0,
             "#0d0887"
            ],
            [
             0.1111111111111111,
             "#46039f"
            ],
            [
             0.2222222222222222,
             "#7201a8"
            ],
            [
             0.3333333333333333,
             "#9c179e"
            ],
            [
             0.4444444444444444,
             "#bd3786"
            ],
            [
             0.5555555555555556,
             "#d8576b"
            ],
            [
             0.6666666666666666,
             "#ed7953"
            ],
            [
             0.7777777777777778,
             "#fb9f3a"
            ],
            [
             0.8888888888888888,
             "#fdca26"
            ],
            [
             1,
             "#f0f921"
            ]
           ]
          },
          "colorway": [
           "#636efa",
           "#EF553B",
           "#00cc96",
           "#ab63fa",
           "#FFA15A",
           "#19d3f3",
           "#FF6692",
           "#B6E880",
           "#FF97FF",
           "#FECB52"
          ],
          "font": {
           "color": "#2a3f5f"
          },
          "geo": {
           "bgcolor": "white",
           "lakecolor": "white",
           "landcolor": "#E5ECF6",
           "showlakes": true,
           "showland": true,
           "subunitcolor": "white"
          },
          "hoverlabel": {
           "align": "left"
          },
          "hovermode": "closest",
          "mapbox": {
           "style": "light"
          },
          "paper_bgcolor": "white",
          "plot_bgcolor": "#E5ECF6",
          "polar": {
           "angularaxis": {
            "gridcolor": "white",
            "linecolor": "white",
            "ticks": ""
           },
           "bgcolor": "#E5ECF6",
           "radialaxis": {
            "gridcolor": "white",
            "linecolor": "white",
            "ticks": ""
           }
          },
          "scene": {
           "xaxis": {
            "backgroundcolor": "#E5ECF6",
            "gridcolor": "white",
            "gridwidth": 2,
            "linecolor": "white",
            "showbackground": true,
            "ticks": "",
            "zerolinecolor": "white"
           },
           "yaxis": {
            "backgroundcolor": "#E5ECF6",
            "gridcolor": "white",
            "gridwidth": 2,
            "linecolor": "white",
            "showbackground": true,
            "ticks": "",
            "zerolinecolor": "white"
           },
           "zaxis": {
            "backgroundcolor": "#E5ECF6",
            "gridcolor": "white",
            "gridwidth": 2,
            "linecolor": "white",
            "showbackground": true,
            "ticks": "",
            "zerolinecolor": "white"
           }
          },
          "shapedefaults": {
           "line": {
            "color": "#2a3f5f"
           }
          },
          "ternary": {
           "aaxis": {
            "gridcolor": "white",
            "linecolor": "white",
            "ticks": ""
           },
           "baxis": {
            "gridcolor": "white",
            "linecolor": "white",
            "ticks": ""
           },
           "bgcolor": "#E5ECF6",
           "caxis": {
            "gridcolor": "white",
            "linecolor": "white",
            "ticks": ""
           }
          },
          "title": {
           "x": 0.05
          },
          "xaxis": {
           "automargin": true,
           "gridcolor": "white",
           "linecolor": "white",
           "ticks": "",
           "title": {
            "standoff": 15
           },
           "zerolinecolor": "white",
           "zerolinewidth": 2
          },
          "yaxis": {
           "automargin": true,
           "gridcolor": "white",
           "linecolor": "white",
           "ticks": "",
           "title": {
            "standoff": 15
           },
           "zerolinecolor": "white",
           "zerolinewidth": 2
          }
         }
        }
       }
      }
     },
     "metadata": {},
     "output_type": "display_data"
    }
   ],
   "source": [
    "import plotly.graph_objects as go\n",
    "\n",
    "import numpy as np\n",
    "\n",
    "y = np.random.randn(500)\n",
    "# Use `y` argument instead of `x` for horizontal histogram\n",
    "\n",
    "fig = go.Figure(data=[go.Histogram(y=y)])\n",
    "fig.show()"
   ]
  },
  {
   "cell_type": "code",
   "execution_count": 14,
   "metadata": {},
   "outputs": [
    {
     "data": {
      "application/vnd.plotly.v1+json": {
       "config": {
        "plotlyServerURL": "https://plot.ly"
       },
       "data": [
        {
         "marker": {
          "color": "#EB89B5"
         },
         "name": "first half",
         "type": "histogram",
         "xaxis": "x",
         "y": [
          0.14031594977996392,
          0.60268595458032,
          -0.35401736864359,
          0.5353308624013599,
          0.4689427999267698,
          1.1391294528224685,
          1.653216599834245,
          -1.1048729328270857,
          0.3232577980936901,
          -0.2533569544048947,
          1.131101647999206,
          -0.02607392624964539,
          1.5506041424591925,
          1.5947763078514499,
          0.49583015387483065,
          0.7124954865079485,
          -0.20657259153569232,
          -0.553852565338398,
          0.7329652422227303,
          -0.6393382714300273,
          -0.19521118426408815,
          -1.160330342336228,
          1.0796619748981946,
          1.0887090610032115,
          0.667424631283098,
          1.2069099802277587,
          1.9735908826614619,
          -1.0520304797059774,
          -0.28033127120603635,
          0.3498182289747583,
          -1.4111677488314,
          0.5651055807311723,
          -0.37866391994762905,
          1.3304040576562273,
          1.6786770811770841,
          -0.8570923275453732,
          -0.516723161695132,
          0.3003594803433509,
          -1.2383307045380796,
          -0.12372443609276022,
          0.9442449466897014,
          0.6861434415417885,
          0.15690196716178204,
          0.8646332691303507,
          -0.45432834482802525,
          -0.18488773994065433,
          0.7804758393565852,
          -1.0648508023881116,
          2.5192246045636377,
          -0.4359705959332845,
          -0.43519746545729643,
          0.8217852725120951,
          2.0845519203985305,
          -0.863960358543775,
          0.5277825384645607,
          -0.010535762752012939,
          -0.22755288477198377,
          2.183608306270933,
          1.1753478725464208,
          0.4037250151243386,
          2.1181285022137297,
          0.6015477490070303,
          1.6164710849760746,
          0.6061817633651646,
          -0.36454124631205004,
          1.4903581986852694,
          0.1510431283035579,
          1.2214454664028684,
          0.5431271640468185,
          -0.32834957775386914,
          -1.2246565610872162,
          -0.6778847017772819,
          -0.8703668363429076,
          -0.5380491850573704,
          0.3828341816587967,
          1.2437209214873568,
          -0.7013441366377207,
          1.4949443401108358,
          -0.2217789376302007,
          1.617134666931392,
          0.6385792878552373,
          -1.0009329006489942,
          0.21425670903532085,
          -1.171214557388936,
          -0.25907378944633636,
          0.7454701485590698,
          -1.7768249579286528,
          0.18113921232971375,
          -1.296207052558437,
          0.5734779214897342,
          0.5323412006693986,
          1.4753706370710367,
          -0.8219908965543373,
          0.36210559401559556,
          -1.1058062753026585,
          -1.5761987010803595,
          0.4083254611547434,
          -0.7746689166926233,
          -1.0756622727814318,
          1.037904265779216
         ],
         "yaxis": "y"
        },
        {
         "marker": {
          "color": "rgba(152, 0, 0, .8)"
         },
         "mode": "markers",
         "type": "scatter",
         "x": [
          0.14031594977996392,
          0.60268595458032,
          -0.35401736864359,
          0.5353308624013599,
          0.4689427999267698,
          1.1391294528224685,
          1.653216599834245,
          -1.1048729328270857,
          0.3232577980936901,
          -0.2533569544048947,
          1.131101647999206,
          -0.02607392624964539,
          1.5506041424591925,
          1.5947763078514499,
          0.49583015387483065,
          0.7124954865079485,
          -0.20657259153569232,
          -0.553852565338398,
          0.7329652422227303,
          -0.6393382714300273,
          -0.19521118426408815,
          -1.160330342336228,
          1.0796619748981946,
          1.0887090610032115,
          0.667424631283098,
          1.2069099802277587,
          1.9735908826614619,
          -1.0520304797059774,
          -0.28033127120603635,
          0.3498182289747583,
          -1.4111677488314,
          0.5651055807311723,
          -0.37866391994762905,
          1.3304040576562273,
          1.6786770811770841,
          -0.8570923275453732,
          -0.516723161695132,
          0.3003594803433509,
          -1.2383307045380796,
          -0.12372443609276022,
          0.9442449466897014,
          0.6861434415417885,
          0.15690196716178204,
          0.8646332691303507,
          -0.45432834482802525,
          -0.18488773994065433,
          0.7804758393565852,
          -1.0648508023881116,
          2.5192246045636377,
          -0.4359705959332845,
          -0.43519746545729643,
          0.8217852725120951,
          2.0845519203985305,
          -0.863960358543775,
          0.5277825384645607,
          -0.010535762752012939,
          -0.22755288477198377,
          2.183608306270933,
          1.1753478725464208,
          0.4037250151243386,
          2.1181285022137297,
          0.6015477490070303,
          1.6164710849760746,
          0.6061817633651646,
          -0.36454124631205004,
          1.4903581986852694,
          0.1510431283035579,
          1.2214454664028684,
          0.5431271640468185,
          -0.32834957775386914,
          -1.2246565610872162,
          -0.6778847017772819,
          -0.8703668363429076,
          -0.5380491850573704,
          0.3828341816587967,
          1.2437209214873568,
          -0.7013441366377207,
          1.4949443401108358,
          -0.2217789376302007,
          1.617134666931392,
          0.6385792878552373,
          -1.0009329006489942,
          0.21425670903532085,
          -1.171214557388936,
          -0.25907378944633636,
          0.7454701485590698,
          -1.7768249579286528,
          0.18113921232971375,
          -1.296207052558437,
          0.5734779214897342,
          0.5323412006693986,
          1.4753706370710367,
          -0.8219908965543373,
          0.36210559401559556,
          -1.1058062753026585,
          -1.5761987010803595,
          0.4083254611547434,
          -0.7746689166926233,
          -1.0756622727814318,
          1.037904265779216,
          -0.26494302978865186,
          0.32219005599824946,
          0.6502686427155859,
          0.4055323748129529,
          -0.5931843893214429,
          -0.38501640993868047,
          0.018371521242052154,
          -0.5998439439823869,
          0.9028558632524729,
          0.14720116832605645,
          -0.6860533251895429,
          1.499615197038362,
          2.127599346360652,
          0.536028555442592,
          0.5540753405564643,
          0.9217487199647383,
          -0.6179422956122426,
          1.5060485305517468,
          -0.25377191335609284,
          0.45274027156040486,
          -0.7004323613300578,
          0.857392875174445,
          -0.9705936544117381,
          -2.1221939478608225,
          -1.8657756332053992,
          1.6508214696421046,
          0.4287904417162445,
          0.44753681656025374,
          -1.4995095681060282,
          2.3504461769770457,
          -0.3095023998700926,
          1.3365515747003014,
          -0.6018721922443897,
          0.6471374016385502,
          1.1757082916986612,
          -2.1357630260766807,
          0.028491584712087768,
          0.47092050331702456,
          -0.4732782601177594,
          -1.265033128551456,
          1.0141634377603002,
          -0.22710623511057967,
          0.7202610193742311,
          0.13623491241332567,
          0.408590655642503,
          -0.0006292564482206638,
          0.8002649666702227,
          0.29530932040589225,
          1.971536355965064,
          -0.6469267593883166,
          -1.2191221344266507,
          -0.08399323318545143,
          -0.6233742272589364,
          0.3636830354139441,
          -0.7263550838039344,
          -0.44829267070728546,
          1.3997945295401142,
          -0.03662532893451524,
          -0.10157510152342941,
          1.0663165835099175,
          -1.0705483048227404,
          -0.25840526265557356,
          0.2541795024457817,
          -0.5568911949872453,
          -0.5055361423067519,
          0.29050651429765995,
          1.8135986052882114,
          0.6369397185375606,
          -0.7116001927307238,
          0.3326902563498374,
          -0.8656991166407477,
          0.5536003464006068,
          -0.4656800332267911,
          0.6664846612330012,
          -0.3492767217244946,
          0.08559679872879815,
          -1.3839423759807348,
          -0.12576666158926464,
          0.03877791230616802,
          -0.526896170818235,
          -0.48647996831158397,
          -1.1313979888934584,
          0.8204811215049893,
          0.21409197945013064,
          0.3238167743317634,
          -1.664482826076548,
          1.7405682991108642,
          0.16637379194815832,
          -1.101871582123011,
          0.502990070356174,
          0.41290988349275626,
          -0.3116171553671727,
          0.11689034807341986,
          2.774992029327366,
          0.22928802677330964,
          -0.043238464821726774,
          -0.3310808226384536,
          -0.4527658678723467,
          1.1448880490362552,
          -1.735428871527898
         ],
         "xaxis": "x2",
         "y": [
          1.2222260604549586,
          0.029330470086373083,
          0.7614862568085619,
          -0.647253432680135,
          -2.4219400956429054,
          -1.5632773400859163,
          -0.5879030358555504,
          -0.2698206490801693,
          -0.1718302351945704,
          -1.072684484327995,
          0.061450960181400976,
          0.7047731039114742,
          0.3539525586198217,
          -0.5378436093662012,
          0.1243889196655646,
          0.8550931644668408,
          -0.16914213886691568,
          1.7014799417476594,
          0.770909566388819,
          0.7210723302167753,
          1.6396604154631986,
          -0.8831229469227867,
          -0.6851172917952016,
          -0.09203132308313883,
          -0.10447510413543343,
          -1.7997153923734275,
          -1.4286328249790672,
          0.9601013082737031,
          1.4358763972970006,
          -0.10647775983102663,
          -1.1298698309158557,
          -0.7384253921856536,
          0.16756222741072416,
          0.22845614712762627,
          -0.8946646991298581,
          -0.703742591972721,
          -0.7311605252318815,
          0.8679939357317675,
          -0.6154492999628045,
          1.2479666323155973,
          1.074554882443866,
          -2.6278677628038976,
          -0.32095700707436503,
          -0.8492944619364715,
          -0.47850080347914203,
          1.0054697779313093,
          -0.42462708060663745,
          0.9842124113210116,
          -1.4340205504111843,
          0.21894945604997545,
          0.668116587831525,
          0.6877985182340524,
          0.0937313841470921,
          -0.5423441984924557,
          -0.13996017576511863,
          0.4070241691233539,
          0.30898651707071517,
          0.8818861323118076,
          0.008606501663682363,
          1.0884344419224161,
          0.0728704576247392,
          0.9286406207442103,
          -0.745698558530654,
          -0.13608451293282703,
          0.4543895806018023,
          1.157165928891851,
          -0.6841680492960693,
          -0.39019064007218635,
          0.595758733396277,
          -0.22052717082757034,
          0.2429375043661484,
          -2.2735964038696865,
          0.8147569072266669,
          1.8434025357846604,
          0.1299397239835419,
          0.03352315111332619,
          1.81634175775534,
          -0.7910097060227137,
          -1.3454939526509493,
          0.2710409884865726,
          -1.4221927282484432,
          -0.3125415592901312,
          0.40556152948830787,
          0.6183926771257267,
          -0.477572683606722,
          -0.173107923632334,
          0.36685779616534814,
          -0.37071590503860846,
          1.1215183389936165,
          1.9490859041867978,
          0.07110084199201525,
          0.473853507937339,
          -0.30415502774060404,
          0.5324194411981402,
          1.975149235369304,
          0.9702901615357976,
          1.326033045704395,
          -0.16277312140016212,
          0.5865499169084666,
          0.2798516627540515,
          -0.6185156775942435,
          0.2367164390189022,
          0.48874171645896053,
          -0.23435988013050574,
          -1.09066082641104,
          -0.9932179702620941,
          0.5862396925238357,
          -0.8217426058428832,
          -0.1975038537180329,
          0.069027498399526,
          0.20849641694661053,
          0.4902161272051196,
          -1.149597695044181,
          -1.6398070500449067,
          1.389613638773353,
          0.08620672449462681,
          -1.1578043905604842,
          0.30131962792771494,
          1.3728338698968823,
          -0.04918065961106026,
          0.7876711417949425,
          0.2546445386603056,
          -0.16300711386856856,
          0.10005556914171197,
          -1.1822060906052205,
          -1.1586320968109391,
          0.1740496576313576,
          0.16656940650462218,
          1.705846778165114,
          2.381876697835622,
          -0.648385132487251,
          -0.735880905725032,
          -0.047300999796611225,
          0.9940979373521754,
          -0.773669713924034,
          1.3875495461103242,
          -1.44158988363239,
          0.8429938676856679,
          1.286827535526068,
          -1.6567998502812207,
          -1.7839589234027806,
          -0.17937596501884154,
          0.7106455117109951,
          0.346505160216147,
          -1.1686983672419167,
          0.459897593849521,
          0.9135685171124741,
          -1.1826276366299686,
          -1.2301157940790386,
          -1.8075081318530721,
          1.0960979955205423,
          -2.226240287419399,
          1.574665588204486,
          -0.48038069509940734,
          -0.5719362807332095,
          -0.29793093447780356,
          -0.21230605978376688,
          1.117519090701402,
          0.6808735096316874,
          -0.3216772038450132,
          0.5854718477070335,
          -0.8063788784461569,
          -0.3313253627037191,
          -0.17574727616631522,
          -0.00021566621370043714,
          0.13863720768221308,
          0.42216273892463424,
          -1.0857071220145258,
          0.9837829821942827,
          0.037323625182592225,
          -0.17093419360230283,
          0.760450258320035,
          -0.7582151355525912,
          -0.17673273116625313,
          -0.061923068612420605,
          -0.1379587468972217,
          -2.98642508503954,
          0.6274303094400272,
          -2.1962404883318554,
          -0.7528656510384192,
          1.356109441873452,
          1.8046242315321286,
          0.9049953527911205,
          0.9061504475926713,
          0.07549350480104194,
          0.690173406846563,
          0.13613432208246637,
          0.12601943794077275,
          1.770769254241699,
          -0.07664086929407411,
          1.6410288079663924,
          1.315245456858896,
          0.12153353479577526,
          0.47193693914714485,
          -0.1791348612486147,
          -0.6921765068936458,
          0.20067215757633897,
          -1.20694435169094,
          0.6110731989479573,
          0.008741259532275942
         ],
         "yaxis": "y2"
        },
        {
         "marker": {
          "color": "#330C73"
         },
         "name": "second half",
         "type": "histogram",
         "xaxis": "x3",
         "y": [
          -0.26494302978865186,
          0.32219005599824946,
          0.6502686427155859,
          0.4055323748129529,
          -0.5931843893214429,
          -0.38501640993868047,
          0.018371521242052154,
          -0.5998439439823869,
          0.9028558632524729,
          0.14720116832605645,
          -0.6860533251895429,
          1.499615197038362,
          2.127599346360652,
          0.536028555442592,
          0.5540753405564643,
          0.9217487199647383,
          -0.6179422956122426,
          1.5060485305517468,
          -0.25377191335609284,
          0.45274027156040486,
          -0.7004323613300578,
          0.857392875174445,
          -0.9705936544117381,
          -2.1221939478608225,
          -1.8657756332053992,
          1.6508214696421046,
          0.4287904417162445,
          0.44753681656025374,
          -1.4995095681060282,
          2.3504461769770457,
          -0.3095023998700926,
          1.3365515747003014,
          -0.6018721922443897,
          0.6471374016385502,
          1.1757082916986612,
          -2.1357630260766807,
          0.028491584712087768,
          0.47092050331702456,
          -0.4732782601177594,
          -1.265033128551456,
          1.0141634377603002,
          -0.22710623511057967,
          0.7202610193742311,
          0.13623491241332567,
          0.408590655642503,
          -0.0006292564482206638,
          0.8002649666702227,
          0.29530932040589225,
          1.971536355965064,
          -0.6469267593883166,
          -1.2191221344266507,
          -0.08399323318545143,
          -0.6233742272589364,
          0.3636830354139441,
          -0.7263550838039344,
          -0.44829267070728546,
          1.3997945295401142,
          -0.03662532893451524,
          -0.10157510152342941,
          1.0663165835099175,
          -1.0705483048227404,
          -0.25840526265557356,
          0.2541795024457817,
          -0.5568911949872453,
          -0.5055361423067519,
          0.29050651429765995,
          1.8135986052882114,
          0.6369397185375606,
          -0.7116001927307238,
          0.3326902563498374,
          -0.8656991166407477,
          0.5536003464006068,
          -0.4656800332267911,
          0.6664846612330012,
          -0.3492767217244946,
          0.08559679872879815,
          -1.3839423759807348,
          -0.12576666158926464,
          0.03877791230616802,
          -0.526896170818235,
          -0.48647996831158397,
          -1.1313979888934584,
          0.8204811215049893,
          0.21409197945013064,
          0.3238167743317634,
          -1.664482826076548,
          1.7405682991108642,
          0.16637379194815832,
          -1.101871582123011,
          0.502990070356174,
          0.41290988349275626,
          -0.3116171553671727,
          0.11689034807341986,
          2.774992029327366,
          0.22928802677330964,
          -0.043238464821726774,
          -0.3310808226384536,
          -0.4527658678723467,
          1.1448880490362552,
          -1.735428871527898
         ],
         "yaxis": "y3"
        }
       ],
       "layout": {
        "template": {
         "data": {
          "bar": [
           {
            "error_x": {
             "color": "#2a3f5f"
            },
            "error_y": {
             "color": "#2a3f5f"
            },
            "marker": {
             "line": {
              "color": "#E5ECF6",
              "width": 0.5
             },
             "pattern": {
              "fillmode": "overlay",
              "size": 10,
              "solidity": 0.2
             }
            },
            "type": "bar"
           }
          ],
          "barpolar": [
           {
            "marker": {
             "line": {
              "color": "#E5ECF6",
              "width": 0.5
             },
             "pattern": {
              "fillmode": "overlay",
              "size": 10,
              "solidity": 0.2
             }
            },
            "type": "barpolar"
           }
          ],
          "carpet": [
           {
            "aaxis": {
             "endlinecolor": "#2a3f5f",
             "gridcolor": "white",
             "linecolor": "white",
             "minorgridcolor": "white",
             "startlinecolor": "#2a3f5f"
            },
            "baxis": {
             "endlinecolor": "#2a3f5f",
             "gridcolor": "white",
             "linecolor": "white",
             "minorgridcolor": "white",
             "startlinecolor": "#2a3f5f"
            },
            "type": "carpet"
           }
          ],
          "choropleth": [
           {
            "colorbar": {
             "outlinewidth": 0,
             "ticks": ""
            },
            "type": "choropleth"
           }
          ],
          "contour": [
           {
            "colorbar": {
             "outlinewidth": 0,
             "ticks": ""
            },
            "colorscale": [
             [
              0,
              "#0d0887"
             ],
             [
              0.1111111111111111,
              "#46039f"
             ],
             [
              0.2222222222222222,
              "#7201a8"
             ],
             [
              0.3333333333333333,
              "#9c179e"
             ],
             [
              0.4444444444444444,
              "#bd3786"
             ],
             [
              0.5555555555555556,
              "#d8576b"
             ],
             [
              0.6666666666666666,
              "#ed7953"
             ],
             [
              0.7777777777777778,
              "#fb9f3a"
             ],
             [
              0.8888888888888888,
              "#fdca26"
             ],
             [
              1,
              "#f0f921"
             ]
            ],
            "type": "contour"
           }
          ],
          "contourcarpet": [
           {
            "colorbar": {
             "outlinewidth": 0,
             "ticks": ""
            },
            "type": "contourcarpet"
           }
          ],
          "heatmap": [
           {
            "colorbar": {
             "outlinewidth": 0,
             "ticks": ""
            },
            "colorscale": [
             [
              0,
              "#0d0887"
             ],
             [
              0.1111111111111111,
              "#46039f"
             ],
             [
              0.2222222222222222,
              "#7201a8"
             ],
             [
              0.3333333333333333,
              "#9c179e"
             ],
             [
              0.4444444444444444,
              "#bd3786"
             ],
             [
              0.5555555555555556,
              "#d8576b"
             ],
             [
              0.6666666666666666,
              "#ed7953"
             ],
             [
              0.7777777777777778,
              "#fb9f3a"
             ],
             [
              0.8888888888888888,
              "#fdca26"
             ],
             [
              1,
              "#f0f921"
             ]
            ],
            "type": "heatmap"
           }
          ],
          "heatmapgl": [
           {
            "colorbar": {
             "outlinewidth": 0,
             "ticks": ""
            },
            "colorscale": [
             [
              0,
              "#0d0887"
             ],
             [
              0.1111111111111111,
              "#46039f"
             ],
             [
              0.2222222222222222,
              "#7201a8"
             ],
             [
              0.3333333333333333,
              "#9c179e"
             ],
             [
              0.4444444444444444,
              "#bd3786"
             ],
             [
              0.5555555555555556,
              "#d8576b"
             ],
             [
              0.6666666666666666,
              "#ed7953"
             ],
             [
              0.7777777777777778,
              "#fb9f3a"
             ],
             [
              0.8888888888888888,
              "#fdca26"
             ],
             [
              1,
              "#f0f921"
             ]
            ],
            "type": "heatmapgl"
           }
          ],
          "histogram": [
           {
            "marker": {
             "pattern": {
              "fillmode": "overlay",
              "size": 10,
              "solidity": 0.2
             }
            },
            "type": "histogram"
           }
          ],
          "histogram2d": [
           {
            "colorbar": {
             "outlinewidth": 0,
             "ticks": ""
            },
            "colorscale": [
             [
              0,
              "#0d0887"
             ],
             [
              0.1111111111111111,
              "#46039f"
             ],
             [
              0.2222222222222222,
              "#7201a8"
             ],
             [
              0.3333333333333333,
              "#9c179e"
             ],
             [
              0.4444444444444444,
              "#bd3786"
             ],
             [
              0.5555555555555556,
              "#d8576b"
             ],
             [
              0.6666666666666666,
              "#ed7953"
             ],
             [
              0.7777777777777778,
              "#fb9f3a"
             ],
             [
              0.8888888888888888,
              "#fdca26"
             ],
             [
              1,
              "#f0f921"
             ]
            ],
            "type": "histogram2d"
           }
          ],
          "histogram2dcontour": [
           {
            "colorbar": {
             "outlinewidth": 0,
             "ticks": ""
            },
            "colorscale": [
             [
              0,
              "#0d0887"
             ],
             [
              0.1111111111111111,
              "#46039f"
             ],
             [
              0.2222222222222222,
              "#7201a8"
             ],
             [
              0.3333333333333333,
              "#9c179e"
             ],
             [
              0.4444444444444444,
              "#bd3786"
             ],
             [
              0.5555555555555556,
              "#d8576b"
             ],
             [
              0.6666666666666666,
              "#ed7953"
             ],
             [
              0.7777777777777778,
              "#fb9f3a"
             ],
             [
              0.8888888888888888,
              "#fdca26"
             ],
             [
              1,
              "#f0f921"
             ]
            ],
            "type": "histogram2dcontour"
           }
          ],
          "mesh3d": [
           {
            "colorbar": {
             "outlinewidth": 0,
             "ticks": ""
            },
            "type": "mesh3d"
           }
          ],
          "parcoords": [
           {
            "line": {
             "colorbar": {
              "outlinewidth": 0,
              "ticks": ""
             }
            },
            "type": "parcoords"
           }
          ],
          "pie": [
           {
            "automargin": true,
            "type": "pie"
           }
          ],
          "scatter": [
           {
            "fillpattern": {
             "fillmode": "overlay",
             "size": 10,
             "solidity": 0.2
            },
            "type": "scatter"
           }
          ],
          "scatter3d": [
           {
            "line": {
             "colorbar": {
              "outlinewidth": 0,
              "ticks": ""
             }
            },
            "marker": {
             "colorbar": {
              "outlinewidth": 0,
              "ticks": ""
             }
            },
            "type": "scatter3d"
           }
          ],
          "scattercarpet": [
           {
            "marker": {
             "colorbar": {
              "outlinewidth": 0,
              "ticks": ""
             }
            },
            "type": "scattercarpet"
           }
          ],
          "scattergeo": [
           {
            "marker": {
             "colorbar": {
              "outlinewidth": 0,
              "ticks": ""
             }
            },
            "type": "scattergeo"
           }
          ],
          "scattergl": [
           {
            "marker": {
             "colorbar": {
              "outlinewidth": 0,
              "ticks": ""
             }
            },
            "type": "scattergl"
           }
          ],
          "scattermapbox": [
           {
            "marker": {
             "colorbar": {
              "outlinewidth": 0,
              "ticks": ""
             }
            },
            "type": "scattermapbox"
           }
          ],
          "scatterpolar": [
           {
            "marker": {
             "colorbar": {
              "outlinewidth": 0,
              "ticks": ""
             }
            },
            "type": "scatterpolar"
           }
          ],
          "scatterpolargl": [
           {
            "marker": {
             "colorbar": {
              "outlinewidth": 0,
              "ticks": ""
             }
            },
            "type": "scatterpolargl"
           }
          ],
          "scatterternary": [
           {
            "marker": {
             "colorbar": {
              "outlinewidth": 0,
              "ticks": ""
             }
            },
            "type": "scatterternary"
           }
          ],
          "surface": [
           {
            "colorbar": {
             "outlinewidth": 0,
             "ticks": ""
            },
            "colorscale": [
             [
              0,
              "#0d0887"
             ],
             [
              0.1111111111111111,
              "#46039f"
             ],
             [
              0.2222222222222222,
              "#7201a8"
             ],
             [
              0.3333333333333333,
              "#9c179e"
             ],
             [
              0.4444444444444444,
              "#bd3786"
             ],
             [
              0.5555555555555556,
              "#d8576b"
             ],
             [
              0.6666666666666666,
              "#ed7953"
             ],
             [
              0.7777777777777778,
              "#fb9f3a"
             ],
             [
              0.8888888888888888,
              "#fdca26"
             ],
             [
              1,
              "#f0f921"
             ]
            ],
            "type": "surface"
           }
          ],
          "table": [
           {
            "cells": {
             "fill": {
              "color": "#EBF0F8"
             },
             "line": {
              "color": "white"
             }
            },
            "header": {
             "fill": {
              "color": "#C8D4E3"
             },
             "line": {
              "color": "white"
             }
            },
            "type": "table"
           }
          ]
         },
         "layout": {
          "annotationdefaults": {
           "arrowcolor": "#2a3f5f",
           "arrowhead": 0,
           "arrowwidth": 1
          },
          "autotypenumbers": "strict",
          "coloraxis": {
           "colorbar": {
            "outlinewidth": 0,
            "ticks": ""
           }
          },
          "colorscale": {
           "diverging": [
            [
             0,
             "#8e0152"
            ],
            [
             0.1,
             "#c51b7d"
            ],
            [
             0.2,
             "#de77ae"
            ],
            [
             0.3,
             "#f1b6da"
            ],
            [
             0.4,
             "#fde0ef"
            ],
            [
             0.5,
             "#f7f7f7"
            ],
            [
             0.6,
             "#e6f5d0"
            ],
            [
             0.7,
             "#b8e186"
            ],
            [
             0.8,
             "#7fbc41"
            ],
            [
             0.9,
             "#4d9221"
            ],
            [
             1,
             "#276419"
            ]
           ],
           "sequential": [
            [
             0,
             "#0d0887"
            ],
            [
             0.1111111111111111,
             "#46039f"
            ],
            [
             0.2222222222222222,
             "#7201a8"
            ],
            [
             0.3333333333333333,
             "#9c179e"
            ],
            [
             0.4444444444444444,
             "#bd3786"
            ],
            [
             0.5555555555555556,
             "#d8576b"
            ],
            [
             0.6666666666666666,
             "#ed7953"
            ],
            [
             0.7777777777777778,
             "#fb9f3a"
            ],
            [
             0.8888888888888888,
             "#fdca26"
            ],
            [
             1,
             "#f0f921"
            ]
           ],
           "sequentialminus": [
            [
             0,
             "#0d0887"
            ],
            [
             0.1111111111111111,
             "#46039f"
            ],
            [
             0.2222222222222222,
             "#7201a8"
            ],
            [
             0.3333333333333333,
             "#9c179e"
            ],
            [
             0.4444444444444444,
             "#bd3786"
            ],
            [
             0.5555555555555556,
             "#d8576b"
            ],
            [
             0.6666666666666666,
             "#ed7953"
            ],
            [
             0.7777777777777778,
             "#fb9f3a"
            ],
            [
             0.8888888888888888,
             "#fdca26"
            ],
            [
             1,
             "#f0f921"
            ]
           ]
          },
          "colorway": [
           "#636efa",
           "#EF553B",
           "#00cc96",
           "#ab63fa",
           "#FFA15A",
           "#19d3f3",
           "#FF6692",
           "#B6E880",
           "#FF97FF",
           "#FECB52"
          ],
          "font": {
           "color": "#2a3f5f"
          },
          "geo": {
           "bgcolor": "white",
           "lakecolor": "white",
           "landcolor": "#E5ECF6",
           "showlakes": true,
           "showland": true,
           "subunitcolor": "white"
          },
          "hoverlabel": {
           "align": "left"
          },
          "hovermode": "closest",
          "mapbox": {
           "style": "light"
          },
          "paper_bgcolor": "white",
          "plot_bgcolor": "#E5ECF6",
          "polar": {
           "angularaxis": {
            "gridcolor": "white",
            "linecolor": "white",
            "ticks": ""
           },
           "bgcolor": "#E5ECF6",
           "radialaxis": {
            "gridcolor": "white",
            "linecolor": "white",
            "ticks": ""
           }
          },
          "scene": {
           "xaxis": {
            "backgroundcolor": "#E5ECF6",
            "gridcolor": "white",
            "gridwidth": 2,
            "linecolor": "white",
            "showbackground": true,
            "ticks": "",
            "zerolinecolor": "white"
           },
           "yaxis": {
            "backgroundcolor": "#E5ECF6",
            "gridcolor": "white",
            "gridwidth": 2,
            "linecolor": "white",
            "showbackground": true,
            "ticks": "",
            "zerolinecolor": "white"
           },
           "zaxis": {
            "backgroundcolor": "#E5ECF6",
            "gridcolor": "white",
            "gridwidth": 2,
            "linecolor": "white",
            "showbackground": true,
            "ticks": "",
            "zerolinecolor": "white"
           }
          },
          "shapedefaults": {
           "line": {
            "color": "#2a3f5f"
           }
          },
          "ternary": {
           "aaxis": {
            "gridcolor": "white",
            "linecolor": "white",
            "ticks": ""
           },
           "baxis": {
            "gridcolor": "white",
            "linecolor": "white",
            "ticks": ""
           },
           "bgcolor": "#E5ECF6",
           "caxis": {
            "gridcolor": "white",
            "linecolor": "white",
            "ticks": ""
           }
          },
          "title": {
           "x": 0.05
          },
          "xaxis": {
           "automargin": true,
           "gridcolor": "white",
           "linecolor": "white",
           "ticks": "",
           "title": {
            "standoff": 15
           },
           "zerolinecolor": "white",
           "zerolinewidth": 2
          },
          "yaxis": {
           "automargin": true,
           "gridcolor": "white",
           "linecolor": "white",
           "ticks": "",
           "title": {
            "standoff": 15
           },
           "zerolinecolor": "white",
           "zerolinewidth": 2
          }
         }
        },
        "xaxis": {
         "anchor": "y",
         "domain": [
          0,
          0.098
         ]
        },
        "xaxis2": {
         "anchor": "y2",
         "domain": [
          0.108,
          0.892
         ]
        },
        "xaxis3": {
         "anchor": "y3",
         "domain": [
          0.902,
          1
         ]
        },
        "yaxis": {
         "anchor": "x",
         "domain": [
          0,
          1
         ]
        },
        "yaxis2": {
         "anchor": "x2",
         "domain": [
          0,
          1
         ]
        },
        "yaxis3": {
         "anchor": "x3",
         "domain": [
          0,
          1
         ]
        }
       }
      }
     },
     "metadata": {},
     "output_type": "display_data"
    }
   ],
   "source": [
    "import plotly.subplots as sp\n",
    "import plotly.graph_objs as go\n",
    "import numpy as np\n",
    "\n",
    "# assuming X and Y are your data\n",
    "# also assuming that the scatter is sorted in the way you want to split it\n",
    "X = np.random.randn(200)\n",
    "Y = np.random.randn(200)\n",
    "\n",
    "split = len(X) // 2  # get the point to split the data\n",
    "\n",
    "# creating subplots\n",
    "fig = sp.make_subplots(rows=1, cols=3, column_widths=[0.10, 0.80, 0.10], horizontal_spacing=0.01)\n",
    "\n",
    "# adding first histogram\n",
    "fig.add_trace(\n",
    "    go.Histogram(\n",
    "        y=X[:split],\n",
    "        name='first half',\n",
    "        marker_color='#EB89B5'\n",
    "    ),\n",
    "    row=1, col=1\n",
    ")\n",
    "\n",
    "# adding scatter plot\n",
    "fig.add_trace(\n",
    "    go.Scatter(\n",
    "        x=X,\n",
    "        y=Y,\n",
    "        mode='markers',\n",
    "        marker_color='rgba(152, 0, 0, .8)',\n",
    "    ),\n",
    "    row=1, col=2\n",
    ")\n",
    "\n",
    "# adding the second histogram\n",
    "fig.add_trace(\n",
    "    go.Histogram(\n",
    "        y=X[split:],\n",
    "        name='second half',\n",
    "        marker_color='#330C73'\n",
    "    ),\n",
    "    row=1, col=3\n",
    ")\n",
    "\n",
    "# Plot!\n",
    "fig.show()"
   ]
  },
  {
   "cell_type": "code",
   "execution_count": 18,
   "metadata": {},
   "outputs": [
    {
     "data": {
      "application/vnd.plotly.v1+json": {
       "config": {
        "plotlyServerURL": "https://plot.ly"
       },
       "data": [
        {
         "marker": {
          "color": "#EB89B5"
         },
         "name": "first half",
         "orientation": "h",
         "type": "bar",
         "x": [
          2.515203151277972,
          1.9447709801691977,
          1.3743388090604234,
          0.8039066379516491,
          0.23347446684287476,
          -0.33695770426589977,
          -0.9073898753746739,
          -1.477822046483448
         ],
         "xaxis": "x",
         "y": [
          2,
          5,
          21,
          15,
          18,
          23,
          9,
          7
         ],
         "yaxis": "y"
        },
        {
         "marker": {
          "color": "rgba(152, 0, 0, .8)"
         },
         "mode": "markers",
         "type": "scatter",
         "x": [
          -1.0166533544061311,
          1.0356491917681856,
          -0.013308341190530334,
          -0.4353956214155651,
          1.2684471927199497,
          0.43499421239813163,
          -0.9461295249783731,
          -0.4001397674373012,
          -0.913969787310247,
          0.8443491215885711,
          -0.0300180377472904,
          -0.5832616914690095,
          0.965020548806425,
          -0.8535216935041173,
          0.21756457469595072,
          -0.9052666913811052,
          -0.4193862736728704,
          0.501033392437102,
          -0.9678103696928374,
          0.3664454749863442,
          -0.31079324052318413,
          0.9551596654266558,
          -1.5070030959739023,
          -0.5154476934239496,
          0.3103536521201456,
          -0.8987171501643222,
          0.7328981690995854,
          -0.30146000614487817,
          -0.8662387032463866,
          -0.823208932680006,
          0.38278436575566305,
          -1.5193876322865734,
          0.5683471440515361,
          0.4237738697382035,
          0.7290362952648973,
          0.12663994100769843,
          -2.515203151277972,
          -0.8821690019803338,
          0.717542964711665,
          -1.038331312121274,
          -0.27117321620645024,
          -0.9960854742646682,
          1.611220716271837,
          -0.868159635340456,
          -0.11137683502166684,
          0.3130680674667574,
          1.92456788672984,
          -1.2563668944858244,
          -0.232130577722182,
          0.7008038972349216,
          -1.5233204566020926,
          -0.556723775391471,
          1.5179161568592676,
          1.3885208605002743,
          0.5138690980727135,
          0.6857410198836957,
          -1.4670888543963998,
          0.7183478986031685,
          0.10829820333530704,
          -0.14669785247835274,
          0.5143691477558785,
          -0.7390050082396037,
          -1.0375202918154893,
          1.4856803225535133,
          -0.7291356066626928,
          0.1618737112377711,
          0.34236776524744755,
          0.35487758897968347,
          -1.2937268980068495,
          -2.0675652219939558,
          -0.6196042574736438,
          -0.22687067155196802,
          -0.7355601720121843,
          -1.0642687574642535,
          -0.0023283740488453273,
          0.02417163914037097,
          -1.7970926970556054,
          0.6911544007413305,
          0.9852542099723987,
          0.009495891863597844,
          -0.43597607981563175,
          1.2306252139378135,
          1.5625701622517214,
          -1.1707112279888392,
          0.37251398944151226,
          -0.7202706304994769,
          1.9648917607990408,
          -0.9712010127058592,
          1.2293070877058672,
          2.048254217592222,
          0.448772799272088,
          0.8540041113742181,
          0.009987409289245427,
          -1.3104678891128523,
          0.8318699292013504,
          -0.8454084875326765,
          -0.03426723148367632,
          1.4247121268255205,
          0.09782230016606953,
          0.7052573286560626,
          -1.286218466930592,
          -0.539237889302127,
          1.111905909149338,
          -0.8133340056770387,
          0.35927588730746934,
          -0.173033519446128,
          -1.5649285073192696,
          1.0942522750131791,
          0.21639392328444712,
          -1.4022464206911895,
          0.2776258844088122,
          -0.8847019433808113,
          -1.8331935896747424,
          -0.5039717966957784,
          0.7084884158255118,
          -1.5032057918330042,
          -0.11183597037183944,
          -0.1878313419567135,
          0.40059534721995116,
          -0.20143130862919548,
          0.6480853288976203,
          -0.6649238186772369,
          -0.5198288169818468,
          -0.44881772818489873,
          0.17757940541592002,
          -0.6291845452145847,
          -0.35232465427225446,
          1.0282846210659042,
          0.5960436620260534,
          -0.6129387840404038,
          2.3676766899080346,
          -1.0150636084149136,
          -0.7816986202597019,
          -0.9117009934036109,
          0.20187731935744524,
          1.3332322444799345,
          0.21959078272537133,
          0.16863160939106364,
          0.5949589300313858,
          -0.026221045547139773,
          -0.7827259070702034,
          -1.3612268351843309,
          0.19195364062853498,
          -0.9508247942180188,
          0.03085637190693345,
          0.04630476930827124,
          0.779189450622095,
          -0.5202411543400334,
          0.2604317051762963,
          -0.7887427737680945,
          0.6353520667628788,
          -0.616670049608943,
          -1.5274016534821027,
          1.5491026004469968,
          1.9239727269361813,
          1.399755969268928,
          0.7447447843766309,
          -1.2027464341764158,
          -0.41584209007590567,
          -0.5151461494062257,
          -0.26550946893524474,
          0.8867780665970137,
          -0.8301257762350612,
          1.3855103357918752,
          -0.15342938872853576,
          -2.574427764434249,
          1.013926053003796,
          -1.4496501871343983,
          -0.5239461258920085,
          0.4322784791342516,
          -0.7535012249715293,
          -0.4976713694110971,
          0.25406875923235894,
          0.009050391223614519,
          -0.22436899758921303,
          -1.6071944764406083,
          1.666458737046046,
          -2.2274534398613723,
          0.8149062894098379,
          1.243287068065543,
          -0.7747099467074912,
          0.7403470409856302,
          1.7781490973796539,
          -0.16474580792276436,
          -0.6435010794172944,
          0.6759624050017015,
          0.4019818534357628,
          0.8384120841529934,
          0.8058790442176297,
          -2.0829742437731293,
          -0.883888018359434,
          0.29472730515519013,
          -0.10537319334974234,
          0.502630930587439,
          -0.881473096927221,
          0.8047964075209646,
          1.7740403076151692,
          0.5768721135461415,
          -0.22850163484860656,
          -0.8004350768010287
         ],
         "xaxis": "x2",
         "y": [
          0.5148041607752492,
          1.550570489178611,
          0.6129368425615637,
          1.3076250761518016,
          -0.5970676201070286,
          0.6834396526869151,
          -0.012143208502335164,
          -0.191557884972726,
          -0.11115075218930143,
          -0.950805036728461,
          2.077564650182265,
          0.8518959555889835,
          -0.049183264913991574,
          0.3431994563686258,
          0.029382129680423877,
          -0.5676145374853626,
          0.35351949031500063,
          0.9711232648221341,
          -0.9068783890670149,
          0.9489032444805716,
          0.3753336751288646,
          0.2883512022147215,
          1.7235756376262028,
          -0.10507556031292234,
          -0.26911066326342586,
          -0.14358986413529806,
          -0.48482235910597926,
          -0.0633498721535091,
          1.8161913768993667,
          -0.5135285070030173,
          0.7525959156366188,
          -0.48707326343698576,
          -0.2117166051378412,
          -0.7633358718905928,
          0.7658322890813061,
          -1.6263619187516614,
          1.9056300783414253,
          -0.11806934903657294,
          0.6310087311061808,
          0.7873394935107102,
          -1.6164496683638185,
          -0.4595865513487092,
          -0.022201656315675826,
          -0.830961184803767,
          0.42816160912790424,
          -1.977697706433062,
          0.7203740598170298,
          0.3654382229162065,
          0.7812393276484911,
          -2.066616628058043,
          -2.0411210156273243,
          0.9883929673314924,
          0.9467620251640627,
          -0.6266994767209318,
          0.7825774722703165,
          -0.06558910626448491,
          0.702933469623167,
          0.6852432843680096,
          -1.6554338132980955,
          0.4847683607713884,
          0.6135510576032369,
          -0.34339535603337557,
          -0.4342648397793157,
          0.15264233096962934,
          1.3430295668853884,
          1.4414218169463853,
          -0.4154516120780573,
          0.6635146556839361,
          1.5088489959347242,
          -1.6471542464806948,
          -0.03290206057252843,
          0.9341105259044835,
          1.9560058717687065,
          0.023569215144718433,
          -0.11980612559384514,
          -0.25909915179312903,
          0.9199234831259617,
          0.31257916321137214,
          -0.8189866276322546,
          -0.5504885201325215,
          -0.31745017819073307,
          -1.936638968511943,
          1.3859100132565612,
          2.441090981015383,
          0.01131512286984695,
          0.3493460955316623,
          0.24351036828109357,
          -1.2026283366863753,
          0.3813833831251006,
          -1.905809460587314,
          -0.2764596813801093,
          1.8286631233820452,
          -1.3874075170765534,
          0.6152746071149198,
          -0.9341382781341944,
          1.0014396044928946,
          -0.9747214343782313,
          -0.03780349926323308,
          0.7380712575445428,
          0.8003578796306442,
          0.8006166882301929,
          -0.10788812414923137,
          2.3621726799633542,
          -0.8374197453634072,
          1.707345897245262,
          0.6193649753634134,
          -0.39968305557604505,
          0.7343963913215792,
          -0.4744287213202456,
          0.6385485745825846,
          0.011023162971121749,
          0.50790541783307,
          -1.3099863784688492,
          -0.9747836392383615,
          0.10586334460214407,
          -0.07094138989574203,
          1.4069050327263661,
          0.07094312271056008,
          0.5484203628696228,
          1.652376779777755,
          0.5625522797509138,
          2.453107666770917,
          -0.12558569239372583,
          -1.9735981429697589,
          0.6587946186783914,
          -1.30316989591665,
          0.9182326183437484,
          -0.3191270652067538,
          0.8158856948680916,
          0.044944801453688274,
          -0.41161617669963113,
          -0.8102692081308674,
          -0.5389037286625613,
          0.3238475471870842,
          -0.06426794280815473,
          1.0701381429124568,
          -0.6185839744892481,
          -0.15350006210224923,
          0.005984764946382995,
          0.04773845637203346,
          -1.2194488159066397,
          0.25961265653018306,
          0.3454270479143284,
          -1.6326278174029487,
          0.7986096786901975,
          -0.6625742847013698,
          -0.15496564510564192,
          0.39295776925234915,
          -2.365377863424845,
          0.6631071114752158,
          2.7434442388421476,
          -0.019609109206822555,
          -1.8087037549951042,
          0.1678668029119102,
          -0.1230737805947434,
          -0.1087679239803943,
          -0.5630864965417209,
          0.8217898413599495,
          1.9117859352263376,
          -1.4154992998101645,
          0.12694922976392628,
          0.31219514921710434,
          0.21484529129693325,
          1.521009154913363,
          -0.048946636281202514,
          0.8182078740579241,
          1.6943258663360001,
          0.13632841249502717,
          -0.797769233048768,
          -0.7322148860921095,
          0.9600060577071624,
          1.272313190246493,
          0.9498314898528132,
          0.3460750494438091,
          1.0355157957650107,
          1.4291177368819374,
          -0.7574119324154497,
          -2.0225920092236906,
          1.67465188129168,
          -1.2773800738715928,
          -0.7066025213067589,
          -0.7051987715017874,
          -0.21597191036764024,
          0.5288692629360037,
          0.6735707255297331,
          0.10115504137704463,
          0.0894902183552065,
          -1.5846316160895093,
          -0.1353452486614165,
          0.3144679473326737,
          -0.92201989218712,
          0.06142614669600389,
          -0.06277510383565003,
          1.4755643580237536,
          -1.5381539943332272,
          -0.1324335368115704,
          -0.017707414057778714,
          0.3921752378818634,
          -2.0572171644526946,
          1.005675527553807
         ],
         "yaxis": "y2"
        },
        {
         "marker": {
          "color": "#330C73"
         },
         "name": "second half",
         "orientation": "h",
         "type": "bar",
         "x": [
          -2.574427764434249,
          -2.025305047285106,
          -1.4761823301359636,
          -0.9270596129868209,
          -0.3779368958376783,
          0.1711858213114641,
          0.7203085384606069,
          1.2694312556097498,
          1.8185539727588922
         ],
         "xaxis": "x3",
         "y": [
          3,
          5,
          7,
          26,
          16,
          21,
          13,
          7,
          2
         ],
         "yaxis": "y3"
        }
       ],
       "layout": {
        "template": {
         "data": {
          "bar": [
           {
            "error_x": {
             "color": "#2a3f5f"
            },
            "error_y": {
             "color": "#2a3f5f"
            },
            "marker": {
             "line": {
              "color": "#E5ECF6",
              "width": 0.5
             },
             "pattern": {
              "fillmode": "overlay",
              "size": 10,
              "solidity": 0.2
             }
            },
            "type": "bar"
           }
          ],
          "barpolar": [
           {
            "marker": {
             "line": {
              "color": "#E5ECF6",
              "width": 0.5
             },
             "pattern": {
              "fillmode": "overlay",
              "size": 10,
              "solidity": 0.2
             }
            },
            "type": "barpolar"
           }
          ],
          "carpet": [
           {
            "aaxis": {
             "endlinecolor": "#2a3f5f",
             "gridcolor": "white",
             "linecolor": "white",
             "minorgridcolor": "white",
             "startlinecolor": "#2a3f5f"
            },
            "baxis": {
             "endlinecolor": "#2a3f5f",
             "gridcolor": "white",
             "linecolor": "white",
             "minorgridcolor": "white",
             "startlinecolor": "#2a3f5f"
            },
            "type": "carpet"
           }
          ],
          "choropleth": [
           {
            "colorbar": {
             "outlinewidth": 0,
             "ticks": ""
            },
            "type": "choropleth"
           }
          ],
          "contour": [
           {
            "colorbar": {
             "outlinewidth": 0,
             "ticks": ""
            },
            "colorscale": [
             [
              0,
              "#0d0887"
             ],
             [
              0.1111111111111111,
              "#46039f"
             ],
             [
              0.2222222222222222,
              "#7201a8"
             ],
             [
              0.3333333333333333,
              "#9c179e"
             ],
             [
              0.4444444444444444,
              "#bd3786"
             ],
             [
              0.5555555555555556,
              "#d8576b"
             ],
             [
              0.6666666666666666,
              "#ed7953"
             ],
             [
              0.7777777777777778,
              "#fb9f3a"
             ],
             [
              0.8888888888888888,
              "#fdca26"
             ],
             [
              1,
              "#f0f921"
             ]
            ],
            "type": "contour"
           }
          ],
          "contourcarpet": [
           {
            "colorbar": {
             "outlinewidth": 0,
             "ticks": ""
            },
            "type": "contourcarpet"
           }
          ],
          "heatmap": [
           {
            "colorbar": {
             "outlinewidth": 0,
             "ticks": ""
            },
            "colorscale": [
             [
              0,
              "#0d0887"
             ],
             [
              0.1111111111111111,
              "#46039f"
             ],
             [
              0.2222222222222222,
              "#7201a8"
             ],
             [
              0.3333333333333333,
              "#9c179e"
             ],
             [
              0.4444444444444444,
              "#bd3786"
             ],
             [
              0.5555555555555556,
              "#d8576b"
             ],
             [
              0.6666666666666666,
              "#ed7953"
             ],
             [
              0.7777777777777778,
              "#fb9f3a"
             ],
             [
              0.8888888888888888,
              "#fdca26"
             ],
             [
              1,
              "#f0f921"
             ]
            ],
            "type": "heatmap"
           }
          ],
          "heatmapgl": [
           {
            "colorbar": {
             "outlinewidth": 0,
             "ticks": ""
            },
            "colorscale": [
             [
              0,
              "#0d0887"
             ],
             [
              0.1111111111111111,
              "#46039f"
             ],
             [
              0.2222222222222222,
              "#7201a8"
             ],
             [
              0.3333333333333333,
              "#9c179e"
             ],
             [
              0.4444444444444444,
              "#bd3786"
             ],
             [
              0.5555555555555556,
              "#d8576b"
             ],
             [
              0.6666666666666666,
              "#ed7953"
             ],
             [
              0.7777777777777778,
              "#fb9f3a"
             ],
             [
              0.8888888888888888,
              "#fdca26"
             ],
             [
              1,
              "#f0f921"
             ]
            ],
            "type": "heatmapgl"
           }
          ],
          "histogram": [
           {
            "marker": {
             "pattern": {
              "fillmode": "overlay",
              "size": 10,
              "solidity": 0.2
             }
            },
            "type": "histogram"
           }
          ],
          "histogram2d": [
           {
            "colorbar": {
             "outlinewidth": 0,
             "ticks": ""
            },
            "colorscale": [
             [
              0,
              "#0d0887"
             ],
             [
              0.1111111111111111,
              "#46039f"
             ],
             [
              0.2222222222222222,
              "#7201a8"
             ],
             [
              0.3333333333333333,
              "#9c179e"
             ],
             [
              0.4444444444444444,
              "#bd3786"
             ],
             [
              0.5555555555555556,
              "#d8576b"
             ],
             [
              0.6666666666666666,
              "#ed7953"
             ],
             [
              0.7777777777777778,
              "#fb9f3a"
             ],
             [
              0.8888888888888888,
              "#fdca26"
             ],
             [
              1,
              "#f0f921"
             ]
            ],
            "type": "histogram2d"
           }
          ],
          "histogram2dcontour": [
           {
            "colorbar": {
             "outlinewidth": 0,
             "ticks": ""
            },
            "colorscale": [
             [
              0,
              "#0d0887"
             ],
             [
              0.1111111111111111,
              "#46039f"
             ],
             [
              0.2222222222222222,
              "#7201a8"
             ],
             [
              0.3333333333333333,
              "#9c179e"
             ],
             [
              0.4444444444444444,
              "#bd3786"
             ],
             [
              0.5555555555555556,
              "#d8576b"
             ],
             [
              0.6666666666666666,
              "#ed7953"
             ],
             [
              0.7777777777777778,
              "#fb9f3a"
             ],
             [
              0.8888888888888888,
              "#fdca26"
             ],
             [
              1,
              "#f0f921"
             ]
            ],
            "type": "histogram2dcontour"
           }
          ],
          "mesh3d": [
           {
            "colorbar": {
             "outlinewidth": 0,
             "ticks": ""
            },
            "type": "mesh3d"
           }
          ],
          "parcoords": [
           {
            "line": {
             "colorbar": {
              "outlinewidth": 0,
              "ticks": ""
             }
            },
            "type": "parcoords"
           }
          ],
          "pie": [
           {
            "automargin": true,
            "type": "pie"
           }
          ],
          "scatter": [
           {
            "fillpattern": {
             "fillmode": "overlay",
             "size": 10,
             "solidity": 0.2
            },
            "type": "scatter"
           }
          ],
          "scatter3d": [
           {
            "line": {
             "colorbar": {
              "outlinewidth": 0,
              "ticks": ""
             }
            },
            "marker": {
             "colorbar": {
              "outlinewidth": 0,
              "ticks": ""
             }
            },
            "type": "scatter3d"
           }
          ],
          "scattercarpet": [
           {
            "marker": {
             "colorbar": {
              "outlinewidth": 0,
              "ticks": ""
             }
            },
            "type": "scattercarpet"
           }
          ],
          "scattergeo": [
           {
            "marker": {
             "colorbar": {
              "outlinewidth": 0,
              "ticks": ""
             }
            },
            "type": "scattergeo"
           }
          ],
          "scattergl": [
           {
            "marker": {
             "colorbar": {
              "outlinewidth": 0,
              "ticks": ""
             }
            },
            "type": "scattergl"
           }
          ],
          "scattermapbox": [
           {
            "marker": {
             "colorbar": {
              "outlinewidth": 0,
              "ticks": ""
             }
            },
            "type": "scattermapbox"
           }
          ],
          "scatterpolar": [
           {
            "marker": {
             "colorbar": {
              "outlinewidth": 0,
              "ticks": ""
             }
            },
            "type": "scatterpolar"
           }
          ],
          "scatterpolargl": [
           {
            "marker": {
             "colorbar": {
              "outlinewidth": 0,
              "ticks": ""
             }
            },
            "type": "scatterpolargl"
           }
          ],
          "scatterternary": [
           {
            "marker": {
             "colorbar": {
              "outlinewidth": 0,
              "ticks": ""
             }
            },
            "type": "scatterternary"
           }
          ],
          "surface": [
           {
            "colorbar": {
             "outlinewidth": 0,
             "ticks": ""
            },
            "colorscale": [
             [
              0,
              "#0d0887"
             ],
             [
              0.1111111111111111,
              "#46039f"
             ],
             [
              0.2222222222222222,
              "#7201a8"
             ],
             [
              0.3333333333333333,
              "#9c179e"
             ],
             [
              0.4444444444444444,
              "#bd3786"
             ],
             [
              0.5555555555555556,
              "#d8576b"
             ],
             [
              0.6666666666666666,
              "#ed7953"
             ],
             [
              0.7777777777777778,
              "#fb9f3a"
             ],
             [
              0.8888888888888888,
              "#fdca26"
             ],
             [
              1,
              "#f0f921"
             ]
            ],
            "type": "surface"
           }
          ],
          "table": [
           {
            "cells": {
             "fill": {
              "color": "#EBF0F8"
             },
             "line": {
              "color": "white"
             }
            },
            "header": {
             "fill": {
              "color": "#C8D4E3"
             },
             "line": {
              "color": "white"
             }
            },
            "type": "table"
           }
          ]
         },
         "layout": {
          "annotationdefaults": {
           "arrowcolor": "#2a3f5f",
           "arrowhead": 0,
           "arrowwidth": 1
          },
          "autotypenumbers": "strict",
          "coloraxis": {
           "colorbar": {
            "outlinewidth": 0,
            "ticks": ""
           }
          },
          "colorscale": {
           "diverging": [
            [
             0,
             "#8e0152"
            ],
            [
             0.1,
             "#c51b7d"
            ],
            [
             0.2,
             "#de77ae"
            ],
            [
             0.3,
             "#f1b6da"
            ],
            [
             0.4,
             "#fde0ef"
            ],
            [
             0.5,
             "#f7f7f7"
            ],
            [
             0.6,
             "#e6f5d0"
            ],
            [
             0.7,
             "#b8e186"
            ],
            [
             0.8,
             "#7fbc41"
            ],
            [
             0.9,
             "#4d9221"
            ],
            [
             1,
             "#276419"
            ]
           ],
           "sequential": [
            [
             0,
             "#0d0887"
            ],
            [
             0.1111111111111111,
             "#46039f"
            ],
            [
             0.2222222222222222,
             "#7201a8"
            ],
            [
             0.3333333333333333,
             "#9c179e"
            ],
            [
             0.4444444444444444,
             "#bd3786"
            ],
            [
             0.5555555555555556,
             "#d8576b"
            ],
            [
             0.6666666666666666,
             "#ed7953"
            ],
            [
             0.7777777777777778,
             "#fb9f3a"
            ],
            [
             0.8888888888888888,
             "#fdca26"
            ],
            [
             1,
             "#f0f921"
            ]
           ],
           "sequentialminus": [
            [
             0,
             "#0d0887"
            ],
            [
             0.1111111111111111,
             "#46039f"
            ],
            [
             0.2222222222222222,
             "#7201a8"
            ],
            [
             0.3333333333333333,
             "#9c179e"
            ],
            [
             0.4444444444444444,
             "#bd3786"
            ],
            [
             0.5555555555555556,
             "#d8576b"
            ],
            [
             0.6666666666666666,
             "#ed7953"
            ],
            [
             0.7777777777777778,
             "#fb9f3a"
            ],
            [
             0.8888888888888888,
             "#fdca26"
            ],
            [
             1,
             "#f0f921"
            ]
           ]
          },
          "colorway": [
           "#636efa",
           "#EF553B",
           "#00cc96",
           "#ab63fa",
           "#FFA15A",
           "#19d3f3",
           "#FF6692",
           "#B6E880",
           "#FF97FF",
           "#FECB52"
          ],
          "font": {
           "color": "#2a3f5f"
          },
          "geo": {
           "bgcolor": "white",
           "lakecolor": "white",
           "landcolor": "#E5ECF6",
           "showlakes": true,
           "showland": true,
           "subunitcolor": "white"
          },
          "hoverlabel": {
           "align": "left"
          },
          "hovermode": "closest",
          "mapbox": {
           "style": "light"
          },
          "paper_bgcolor": "white",
          "plot_bgcolor": "#E5ECF6",
          "polar": {
           "angularaxis": {
            "gridcolor": "white",
            "linecolor": "white",
            "ticks": ""
           },
           "bgcolor": "#E5ECF6",
           "radialaxis": {
            "gridcolor": "white",
            "linecolor": "white",
            "ticks": ""
           }
          },
          "scene": {
           "xaxis": {
            "backgroundcolor": "#E5ECF6",
            "gridcolor": "white",
            "gridwidth": 2,
            "linecolor": "white",
            "showbackground": true,
            "ticks": "",
            "zerolinecolor": "white"
           },
           "yaxis": {
            "backgroundcolor": "#E5ECF6",
            "gridcolor": "white",
            "gridwidth": 2,
            "linecolor": "white",
            "showbackground": true,
            "ticks": "",
            "zerolinecolor": "white"
           },
           "zaxis": {
            "backgroundcolor": "#E5ECF6",
            "gridcolor": "white",
            "gridwidth": 2,
            "linecolor": "white",
            "showbackground": true,
            "ticks": "",
            "zerolinecolor": "white"
           }
          },
          "shapedefaults": {
           "line": {
            "color": "#2a3f5f"
           }
          },
          "ternary": {
           "aaxis": {
            "gridcolor": "white",
            "linecolor": "white",
            "ticks": ""
           },
           "baxis": {
            "gridcolor": "white",
            "linecolor": "white",
            "ticks": ""
           },
           "bgcolor": "#E5ECF6",
           "caxis": {
            "gridcolor": "white",
            "linecolor": "white",
            "ticks": ""
           }
          },
          "title": {
           "x": 0.05
          },
          "xaxis": {
           "automargin": true,
           "gridcolor": "white",
           "linecolor": "white",
           "ticks": "",
           "title": {
            "standoff": 15
           },
           "zerolinecolor": "white",
           "zerolinewidth": 2
          },
          "yaxis": {
           "automargin": true,
           "gridcolor": "white",
           "linecolor": "white",
           "ticks": "",
           "title": {
            "standoff": 15
           },
           "zerolinecolor": "white",
           "zerolinewidth": 2
          }
         }
        },
        "xaxis": {
         "anchor": "y",
         "domain": [
          0,
          0.098
         ]
        },
        "xaxis2": {
         "anchor": "y2",
         "domain": [
          0.108,
          0.892
         ]
        },
        "xaxis3": {
         "anchor": "y3",
         "domain": [
          0.902,
          1
         ]
        },
        "yaxis": {
         "anchor": "x",
         "domain": [
          0,
          1
         ]
        },
        "yaxis2": {
         "anchor": "x2",
         "domain": [
          0,
          1
         ]
        },
        "yaxis3": {
         "anchor": "x3",
         "domain": [
          0,
          1
         ]
        }
       }
      }
     },
     "metadata": {},
     "output_type": "display_data"
    }
   ],
   "source": [
    "import plotly.subplots as sp\n",
    "import plotly.graph_objs as go\n",
    "import numpy as np\n",
    "\n",
    "# assuming X and Y are your data\n",
    "# also assuming that the scatter is sorted in the way you want to split it\n",
    "X = np.random.randn(200)\n",
    "Y = np.random.randn(200)\n",
    "\n",
    "split = len(X) // 2  # get the point to split the data\n",
    "\n",
    "# creating subplots\n",
    "fig = sp.make_subplots(rows=1, cols=3, column_widths=[0.10, 0.80, 0.10], horizontal_spacing=0.01)\n",
    "\n",
    "# adding first histogram\n",
    "# Calculate the histogram data\n",
    "hist1, bins1 = np.histogram(X[:split], bins='auto')\n",
    "\n",
    "# Adding the first histogram as a bar graph and making x negative\n",
    "fig.add_trace(\n",
    "    go.Bar(\n",
    "        x=-bins1[:-1],\n",
    "        y=hist1,\n",
    "        marker_color='#EB89B5',\n",
    "        name='first half',\n",
    "\t\torientation='h',\n",
    "    ),\n",
    "    row=1, col=1\n",
    ")\n",
    "\n",
    "\n",
    "# adding scatter plot\n",
    "fig.add_trace(\n",
    "    go.Scatter(\n",
    "        x=X,\n",
    "        y=Y,\n",
    "        mode='markers',\n",
    "        marker_color='rgba(152, 0, 0, .8)',\n",
    "    ),\n",
    "    row=1, col=2\n",
    ")\n",
    "\n",
    "# adding the second histogram\n",
    "\n",
    "# Calculate the histogram data for second half\n",
    "hist2, bins2 = np.histogram(X[split:], bins='auto')\n",
    "\n",
    "# Adding the second histogram\n",
    "fig.add_trace(\n",
    "    go.Bar(\n",
    "        x=bins2[:-1],\n",
    "        y=hist2,\n",
    "        marker_color='#330C73',\n",
    "        name='second half',\n",
    "\t\torientation='h',\n",
    "    ),\n",
    "    row=1, col=3\n",
    ")\n",
    "\n",
    "\n",
    "# Plot!\n",
    "fig.show()\n",
    "\n",
    "\n",
    "\n",
    "\n",
    "\n",
    "\n"
   ]
  },
  {
   "cell_type": "markdown",
   "metadata": {},
   "source": [
    "# Templates"
   ]
  },
  {
   "cell_type": "code",
   "execution_count": null,
   "metadata": {},
   "outputs": [],
   "source": [
    "import plotly.io as pio\n",
    "pio.templates\n",
    "\n",
    "template: str = 'plotly_dark'\n",
    "template=template, "
   ]
  }
 ],
 "metadata": {
  "kernelspec": {
   "display_name": ".venv_yellow",
   "language": "python",
   "name": "python3"
  },
  "language_info": {
   "codemirror_mode": {
    "name": "ipython",
    "version": 3
   },
   "file_extension": ".py",
   "mimetype": "text/x-python",
   "name": "python",
   "nbconvert_exporter": "python",
   "pygments_lexer": "ipython3",
   "version": "3.9.13"
  }
 },
 "nbformat": 4,
 "nbformat_minor": 2
}
