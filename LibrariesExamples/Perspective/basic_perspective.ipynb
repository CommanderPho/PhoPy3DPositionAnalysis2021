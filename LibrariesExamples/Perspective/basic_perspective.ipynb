{
 "cells": [
  {
   "cell_type": "code",
   "execution_count": 1,
   "metadata": {},
   "outputs": [],
   "source": [
    "from datetime import date, datetime\n",
    "import numpy as np\n",
    "import pandas as pd\n",
    "import perspective\n",
    "\n",
    "data = pd.DataFrame({\n",
    "    \"int\": np.arange(100),\n",
    "    \"float\": [i * 1.5 for i in range(100)],\n",
    "    \"bool\": [True for i in range(100)],\n",
    "    \"date\": [date.today() for i in range(100)],\n",
    "    \"datetime\": [datetime.now() for i in range(100)],\n",
    "    \"string\": [str(i) for i in range(100)]\n",
    "})\n",
    "\n",
    "table = perspective.Table(data, index=\"float\")\n",
    "table"
   ]
  },
  {
   "cell_type": "code",
   "execution_count": null,
   "metadata": {},
   "outputs": [],
   "source": []
  }
 ],
 "metadata": {
  "kernelspec": {
   "display_name": "spike3d-poetry",
   "language": "python",
   "name": "spike3d-poetry"
  },
  "language_info": {
   "codemirror_mode": {
    "name": "ipython",
    "version": 3
   },
   "file_extension": ".py",
   "mimetype": "text/x-python",
   "name": "python",
   "nbconvert_exporter": "python",
   "pygments_lexer": "ipython3",
   "version": "3.9.13"
  },
  "orig_nbformat": 4
 },
 "nbformat": 4,
 "nbformat_minor": 2
}
