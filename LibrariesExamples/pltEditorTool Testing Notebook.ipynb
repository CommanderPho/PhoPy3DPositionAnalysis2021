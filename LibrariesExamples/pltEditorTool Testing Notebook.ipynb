{
 "cells": [
  {
   "cell_type": "code",
   "execution_count": null,
   "id": "289c560f-e0bf-4378-9cac-1688025f914b",
   "metadata": {},
   "outputs": [],
   "source": [
    "# Import the plot editor\n",
    "from pltEditorTool import plotEditor\n",
    "# Define the data\n",
    "x_data = [[1,2,3,4,5]]\n",
    "y_data = [[10,9,8,7,6]]\n",
    "label_data = ['test1']\n",
    "# Call the editor, it will open in a separate window\n",
    "plotEditor(x=x_data, y=y_data, labels=label_data)"
   ]
  },
  {
   "cell_type": "code",
   "execution_count": null,
   "id": "d404a9f4-eaa7-4ea2-83e7-ac10483cb542",
   "metadata": {},
   "outputs": [],
   "source": []
  }
 ],
 "metadata": {
  "kernelspec": {
   "display_name": "Python [conda env:phoviz_ultimate]",
   "language": "python",
   "name": "conda-env-phoviz_ultimate-py"
  },
  "language_info": {
   "codemirror_mode": {
    "name": "ipython",
    "version": 3
   },
   "file_extension": ".py",
   "mimetype": "text/x-python",
   "name": "python",
   "nbconvert_exporter": "python",
   "pygments_lexer": "ipython3",
   "version": "3.9.13"
  }
 },
 "nbformat": 4,
 "nbformat_minor": 5
}
