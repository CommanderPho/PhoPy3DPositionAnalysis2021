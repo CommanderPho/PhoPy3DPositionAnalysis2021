{
 "cells": [
  {
   "cell_type": "code",
   "execution_count": null,
   "id": "8bdc37e6-932a-4b16-93d4-4dbbb5d8d6ed",
   "metadata": {},
   "outputs": [],
   "source": [
    "\n",
    "class MainWindow(QMainWindow):\n",
    "    def __init__(self, *args, **kwargs):\n",
    "\n",
    "        # Setup threadpool\n",
    "        self.threadpool = QThreadPool()\n",
    "        print(\"Multithreading with maximum %d threads\" % self.threadpool.maxThreadCount())\n",
    "\n",
    "    \n",
    "    def progress_fn(self, n):\n",
    "        print(\"%d%% done\" % n)\n",
    "\n",
    "    def execute_this_fn(self, progress_callback):\n",
    "        for n in range(0, 5):\n",
    "            time.sleep(1)\n",
    "            progress_callback.emit(n*100/4)\n",
    "\n",
    "        return \"Done.\"\n",
    "\n",
    "    def print_output(self, s):\n",
    "        print(s)\n",
    "\n",
    "    def thread_complete(self):\n",
    "        print(\"THREAD COMPLETE!\")\n",
    "\n",
    "    def oh_no(self):\n",
    "        # Pass the function to execute\n",
    "        worker = Worker(self.execute_this_fn) # Any other args, kwargs are passed to the run function\n",
    "        worker.signals.result.connect(self.print_output)\n",
    "        worker.signals.finished.connect(self.thread_complete)\n",
    "        worker.signals.progress.connect(self.progress_fn)\n",
    "\n",
    "        # Execute\n",
    "        self.threadpool.start(worker)\n"
   ]
  }
 ],
 "metadata": {
  "kernelspec": {
   "display_name": "Python [conda env:phoviz_ultimate]",
   "language": "python",
   "name": "conda-env-phoviz_ultimate-py"
  },
  "language_info": {
   "codemirror_mode": {
    "name": "ipython",
    "version": 3
   },
   "file_extension": ".py",
   "mimetype": "text/x-python",
   "name": "python",
   "nbconvert_exporter": "python",
   "pygments_lexer": "ipython3",
   "version": "3.9.12"
  }
 },
 "nbformat": 4,
 "nbformat_minor": 5
}
