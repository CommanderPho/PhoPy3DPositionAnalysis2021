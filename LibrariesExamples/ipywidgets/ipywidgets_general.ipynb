{
 "cells": [
  {
   "cell_type": "markdown",
   "metadata": {},
   "source": [
    "# ipywidgets_general playground"
   ]
  },
  {
   "cell_type": "code",
   "execution_count": null,
   "metadata": {
    "notebookRunGroups": {
     "groupValue": "1"
    }
   },
   "outputs": [],
   "source": [
    "import pandas as pd\n",
    "import numpy as np\n",
    "import json\n",
    "\n",
    "from ipydatagrid import DataGrid, TextRenderer, Expr\n",
    "\n",
    "n = 50_000\n",
    "\n",
    "df = pd.DataFrame(\n",
    "    {\n",
    "        \"Value 1\": np.random.randn(n),\n",
    "        \"Value 2\": np.random.randn(n),\n",
    "        \"Value 3\": np.random.choice([True, False], n),\n",
    "        \"Value 4\": np.random.choice([True, False], n),\n",
    "    }\n",
    ")\n",
    "\n",
    "# This returns the unicode value for specific font-awesome icons,\n",
    "# check-out this link for more icons:\n",
    "# https://fontawesome.com/v4.7.0/cheatsheet/\n",
    "def bool_render_text1(cell):\n",
    "    if cell.value > 0:\n",
    "        return \"\\uf00c\"  # Check\n",
    "    else:\n",
    "        return \"\\uf00d\"  # Cross\n",
    "\n",
    "\n",
    "def bool_render_text2(cell):\n",
    "    if cell.value > 0:\n",
    "        return \"\\uf111\"  # Circle\n",
    "    else:\n",
    "        return \" \"\n",
    "\n",
    "\n",
    "def bool_render_text3(cell):\n",
    "    if cell.value:\n",
    "        return \"\\uf164\"  # Thumb up\n",
    "    else:\n",
    "        return \"\\uf165\"  # Thumb down\n",
    "\n",
    "\n",
    "def bool_render_text4(cell):\n",
    "    if cell.value:\n",
    "        return \"\\uf118\"  # Smile\n",
    "    else:\n",
    "        return \"\\uf119\"  # Frown\n",
    "\n",
    "\n",
    "def bool_render_color(cell):\n",
    "    if cell.value > 0:\n",
    "        return \"#2fbd34\"\n",
    "    else:\n",
    "        return \"#b82538\"\n",
    "\n",
    "\n",
    "common_args = {\n",
    "    \"font\": \"bold 14px fontawesome\",\n",
    "    \"text_color\": Expr(bool_render_color),\n",
    "    \"horizontal_alignment\": \"center\",\n",
    "}\n",
    "\n",
    "renderers = {\n",
    "    \"Value 1\": TextRenderer(text_value=Expr(bool_render_text1), **common_args),\n",
    "    \"Value 2\": TextRenderer(text_value=Expr(bool_render_text2), **common_args),\n",
    "    \"Value 3\": TextRenderer(text_value=Expr(bool_render_text3), **common_args),\n",
    "    \"Value 4\": TextRenderer(text_value=Expr(bool_render_text4), **common_args),\n",
    "}\n",
    "\n",
    "display(df)\n",
    "\n",
    "DataGrid(df, base_row_size=30, base_column_size=150, renderers=renderers)"
   ]
  },
  {
   "cell_type": "markdown",
   "metadata": {},
   "source": [
    "# ipywidgets wysiwyg editor (`ipyflex`)"
   ]
  },
  {
   "cell_type": "code",
   "execution_count": null,
   "metadata": {},
   "outputs": [],
   "source": [
    "from ipyflex import FlexLayout\n",
    "import ipywidgets as ipw\n",
    "\n",
    "from ipyflex import FlexLayout\n",
    "import ipywidgets as ipw\n",
    "widgets = { 'Widget 1': ipw.HTML('<h1> Widget 1</h1>'),\n",
    "            'Widget 2': ipw.HTML('<h1> Widget 2</h1>'),\n",
    "            'Widget 3': ipw.HTML('<h1> Widget 3</h1>'),\n",
    "            'Widget 4': ipw.HTML('<h1> Widget 4</h1>')\n",
    "        }\n",
    "dashboard = FlexLayout(widgets)\n",
    "dashboard"
   ]
  },
  {
   "cell_type": "code",
   "execution_count": null,
   "metadata": {},
   "outputs": [],
   "source": [
    "from ipyflex import FlexLayout\n",
    "import ipywidgets as widgets\n",
    "import plotly.graph_objects as go\n",
    "import numpy\n",
    "import math\n",
    "\n",
    "slider = widgets.FloatRangeSlider(description = 'Range')\n",
    "\n",
    "omega = widgets.FloatSlider(description = 'Omega',value = 1)\n",
    "\n",
    "fig = go.FigureWidget()\n",
    "fig.add_trace(go.Scatter(x=[],y=[]))\n",
    "fig.update_layout(title = 'Hello Ipyflex')\n",
    "fig.update_traces\n",
    "\n",
    "f = lambda t: math.sin(t)\n",
    "def compute(*ignore):\n",
    "    min = slider.value[0]\n",
    "    max =  slider.value[1]\n",
    "    x = numpy.arange(min, max, (max-min)/100)\n",
    "    y =  [f(omega.value* _) for _ in x]\n",
    "    fig.data[0].x= x\n",
    "    fig.data[0].y= y\n",
    "\n",
    "slider.observe(compute, 'value')\n",
    "omega.observe(compute, 'value')\n",
    "\n",
    "all_widgets =  {'A slider widget':slider, 'Output result': fig, 'Another slider': omega}\n",
    "\n",
    "header = dict(title='Demo header',\n",
    "             style={'background':'green',\n",
    "                    'color':'yellow',\n",
    "                    'fontStyle': 'italic'},\n",
    "              buttons=['import','export']\n",
    "             )\n",
    "w = FlexLayout(all_widgets, style={'height': '600px'}, template = './simple.json', editable=True, header=header)\n",
    "w\n",
    "\n"
   ]
  },
  {
   "cell_type": "markdown",
   "metadata": {},
   "source": [
    "# Load Pandas DataFrame\n"
   ]
  },
  {
   "cell_type": "code",
   "execution_count": null,
   "metadata": {
    "notebookRunGroups": {
     "groupValue": "1"
    }
   },
   "outputs": [],
   "source": [
    "import ipywidgets as widgets\n",
    "from pyphocorehelpers.gui.Jupyter.simple_widgets import multi_checkbox_widget\n",
    "\n",
    "\n",
    "def f(**kwargs):\n",
    "    print(kwargs)\n",
    "\n",
    "options_dict = {\n",
    "    x: widgets.Checkbox(\n",
    "        description=x, \n",
    "        value=False,\n",
    "        style={\"description_width\":\"0px\"}\n",
    "    ) for x in ['hello','world']\n",
    "}\n",
    "ui = multi_checkbox_widget(options_dict)\n",
    "out = widgets.interactive_output(f, options_dict)\n",
    "display(widgets.HBox([ui, out]))"
   ]
  },
  {
   "cell_type": "code",
   "execution_count": null,
   "metadata": {},
   "outputs": [],
   "source": [
    "import ipywidgets as widgets\n",
    "from IPython.display import display\n",
    "from pyphocorehelpers.gui.Jupyter.simple_widgets import MultiCheckboxWidget\n",
    "\n",
    "def f(**kwargs):\n",
    "    print(kwargs)\n",
    "\n",
    "options_dict = {\n",
    "    x: widgets.Checkbox(\n",
    "        description=x, \n",
    "        value=False,\n",
    "        style={\"description_width\":\"0px\"}\n",
    "    ) for x in ['hello','world']\n",
    "}\n",
    "\n",
    "ui = MultiCheckboxWidget(options_dict)\n",
    "ui\n",
    "# out = widgets.interactive_output(f, options_dict)\n",
    "# display(widgets.HBox([ui, out]))     "
   ]
  },
  {
   "cell_type": "code",
   "execution_count": 4,
   "metadata": {},
   "outputs": [
    {
     "ename": "TraitError",
     "evalue": "The 'children' trait of a NewMultiCheckboxWidget instance expected a tuple, not the NoneType None.",
     "output_type": "error",
     "traceback": [
      "\u001b[1;31m---------------------------------------------------------------------------\u001b[0m",
      "\u001b[1;31mTraitError\u001b[0m                                Traceback (most recent call last)",
      "Cell \u001b[1;32mIn[4], line 5\u001b[0m\n\u001b[0;32m      2\u001b[0m \u001b[38;5;28;01mfrom\u001b[39;00m \u001b[38;5;21;01mIPython\u001b[39;00m\u001b[38;5;21;01m.\u001b[39;00m\u001b[38;5;21;01mdisplay\u001b[39;00m \u001b[38;5;28;01mimport\u001b[39;00m display\n\u001b[0;32m      3\u001b[0m \u001b[38;5;28;01mfrom\u001b[39;00m \u001b[38;5;21;01mpyphocorehelpers\u001b[39;00m\u001b[38;5;21;01m.\u001b[39;00m\u001b[38;5;21;01mgui\u001b[39;00m\u001b[38;5;21;01m.\u001b[39;00m\u001b[38;5;21;01mJupyter\u001b[39;00m\u001b[38;5;21;01m.\u001b[39;00m\u001b[38;5;21;01msimple_widgets\u001b[39;00m \u001b[38;5;28;01mimport\u001b[39;00m NewMultiCheckboxWidget\n\u001b[1;32m----> 5\u001b[0m options_widget \u001b[38;5;241m=\u001b[39m \u001b[43mNewMultiCheckboxWidget\u001b[49m\u001b[43m(\u001b[49m\u001b[43moptions\u001b[49m\u001b[38;5;241;43m=\u001b[39;49m\u001b[43m[\u001b[49m\u001b[38;5;124;43m'\u001b[39;49m\u001b[38;5;124;43mtest\u001b[39;49m\u001b[38;5;124;43m'\u001b[39;49m\u001b[43m,\u001b[49m\u001b[43m \u001b[49m\u001b[38;5;124;43m'\u001b[39;49m\u001b[38;5;124;43mnew\u001b[39;49m\u001b[38;5;124;43m'\u001b[39;49m\u001b[43m,\u001b[49m\u001b[43m \u001b[49m\u001b[38;5;124;43m'\u001b[39;49m\u001b[38;5;124;43mmews\u001b[39;49m\u001b[38;5;124;43m'\u001b[39;49m\u001b[43m]\u001b[49m\u001b[43m)\u001b[49m\n\u001b[0;32m      6\u001b[0m \u001b[38;5;66;03m# options_widget.options=['test', 'new', 'mews']\u001b[39;00m\n",
      "File \u001b[1;32m<attrs generated init pyphocorehelpers.gui.Jupyter.simple_widgets.NewMultiCheckboxWidget>:5\u001b[0m, in \u001b[0;36m__init__\u001b[1;34m(self, options)\u001b[0m\n\u001b[0;32m      3\u001b[0m \u001b[38;5;28mself\u001b[39m\u001b[38;5;241m.\u001b[39moptions_widget_dict \u001b[38;5;241m=\u001b[39m attr_dict[\u001b[38;5;124m'\u001b[39m\u001b[38;5;124moptions_widget_dict\u001b[39m\u001b[38;5;124m'\u001b[39m]\u001b[38;5;241m.\u001b[39mdefault\n\u001b[0;32m      4\u001b[0m \u001b[38;5;28mself\u001b[39m\u001b[38;5;241m.\u001b[39moptions_layout \u001b[38;5;241m=\u001b[39m attr_dict[\u001b[38;5;124m'\u001b[39m\u001b[38;5;124moptions_layout\u001b[39m\u001b[38;5;124m'\u001b[39m]\u001b[38;5;241m.\u001b[39mdefault\n\u001b[1;32m----> 5\u001b[0m \u001b[38;5;28;43mself\u001b[39;49m\u001b[38;5;241;43m.\u001b[39;49m\u001b[43mchildren\u001b[49m \u001b[38;5;241m=\u001b[39m attr_dict[\u001b[38;5;124m'\u001b[39m\u001b[38;5;124mchildren\u001b[39m\u001b[38;5;124m'\u001b[39m]\u001b[38;5;241m.\u001b[39mdefault\n\u001b[0;32m      6\u001b[0m \u001b[38;5;28mself\u001b[39m\u001b[38;5;241m.\u001b[39m__attrs_post_init__()\n",
      "File \u001b[1;32mc:\\Users\\pho\\repos\\Spike3DWorkEnv\\Spike3D\\.venv\\lib\\site-packages\\traitlets\\traitlets.py:716\u001b[0m, in \u001b[0;36mTraitType.__set__\u001b[1;34m(self, obj, value)\u001b[0m\n\u001b[0;32m    714\u001b[0m \u001b[38;5;28;01mif\u001b[39;00m \u001b[38;5;28mself\u001b[39m\u001b[38;5;241m.\u001b[39mread_only:\n\u001b[0;32m    715\u001b[0m     \u001b[38;5;28;01mraise\u001b[39;00m TraitError(\u001b[38;5;124m'\u001b[39m\u001b[38;5;124mThe \u001b[39m\u001b[38;5;124m\"\u001b[39m\u001b[38;5;132;01m%s\u001b[39;00m\u001b[38;5;124m\"\u001b[39m\u001b[38;5;124m trait is read-only.\u001b[39m\u001b[38;5;124m'\u001b[39m \u001b[38;5;241m%\u001b[39m \u001b[38;5;28mself\u001b[39m\u001b[38;5;241m.\u001b[39mname)\n\u001b[1;32m--> 716\u001b[0m \u001b[38;5;28;43mself\u001b[39;49m\u001b[38;5;241;43m.\u001b[39;49m\u001b[43mset\u001b[49m\u001b[43m(\u001b[49m\u001b[43mobj\u001b[49m\u001b[43m,\u001b[49m\u001b[43m \u001b[49m\u001b[43mvalue\u001b[49m\u001b[43m)\u001b[49m\n",
      "File \u001b[1;32mc:\\Users\\pho\\repos\\Spike3DWorkEnv\\Spike3D\\.venv\\lib\\site-packages\\traitlets\\traitlets.py:690\u001b[0m, in \u001b[0;36mTraitType.set\u001b[1;34m(self, obj, value)\u001b[0m\n\u001b[0;32m    689\u001b[0m \u001b[38;5;28;01mdef\u001b[39;00m \u001b[38;5;21mset\u001b[39m(\u001b[38;5;28mself\u001b[39m, obj: HasTraits, value: S) \u001b[38;5;241m-\u001b[39m\u001b[38;5;241m>\u001b[39m \u001b[38;5;28;01mNone\u001b[39;00m:\n\u001b[1;32m--> 690\u001b[0m     new_value \u001b[38;5;241m=\u001b[39m \u001b[38;5;28;43mself\u001b[39;49m\u001b[38;5;241;43m.\u001b[39;49m\u001b[43m_validate\u001b[49m\u001b[43m(\u001b[49m\u001b[43mobj\u001b[49m\u001b[43m,\u001b[49m\u001b[43m \u001b[49m\u001b[43mvalue\u001b[49m\u001b[43m)\u001b[49m\n\u001b[0;32m    691\u001b[0m     \u001b[38;5;28;01massert\u001b[39;00m \u001b[38;5;28mself\u001b[39m\u001b[38;5;241m.\u001b[39mname \u001b[38;5;129;01mis\u001b[39;00m \u001b[38;5;129;01mnot\u001b[39;00m \u001b[38;5;28;01mNone\u001b[39;00m\n\u001b[0;32m    692\u001b[0m     \u001b[38;5;28;01mtry\u001b[39;00m:\n",
      "File \u001b[1;32mc:\\Users\\pho\\repos\\Spike3DWorkEnv\\Spike3D\\.venv\\lib\\site-packages\\traitlets\\traitlets.py:722\u001b[0m, in \u001b[0;36mTraitType._validate\u001b[1;34m(self, obj, value)\u001b[0m\n\u001b[0;32m    720\u001b[0m     \u001b[38;5;28;01mreturn\u001b[39;00m value\n\u001b[0;32m    721\u001b[0m \u001b[38;5;28;01mif\u001b[39;00m \u001b[38;5;28mhasattr\u001b[39m(\u001b[38;5;28mself\u001b[39m, \u001b[38;5;124m\"\u001b[39m\u001b[38;5;124mvalidate\u001b[39m\u001b[38;5;124m\"\u001b[39m):\n\u001b[1;32m--> 722\u001b[0m     value \u001b[38;5;241m=\u001b[39m \u001b[38;5;28;43mself\u001b[39;49m\u001b[38;5;241;43m.\u001b[39;49m\u001b[43mvalidate\u001b[49m\u001b[43m(\u001b[49m\u001b[43mobj\u001b[49m\u001b[43m,\u001b[49m\u001b[43m \u001b[49m\u001b[43mvalue\u001b[49m\u001b[43m)\u001b[49m\n\u001b[0;32m    723\u001b[0m \u001b[38;5;28;01mif\u001b[39;00m obj\u001b[38;5;241m.\u001b[39m_cross_validation_lock \u001b[38;5;129;01mis\u001b[39;00m \u001b[38;5;28;01mFalse\u001b[39;00m:\n\u001b[0;32m    724\u001b[0m     value \u001b[38;5;241m=\u001b[39m \u001b[38;5;28mself\u001b[39m\u001b[38;5;241m.\u001b[39m_cross_validate(obj, value)\n",
      "File \u001b[1;32mc:\\Users\\pho\\repos\\Spike3DWorkEnv\\Spike3D\\.venv\\lib\\site-packages\\traitlets\\traitlets.py:3478\u001b[0m, in \u001b[0;36mContainer.validate\u001b[1;34m(self, obj, value)\u001b[0m\n\u001b[0;32m   3476\u001b[0m     \u001b[38;5;28;01massert\u001b[39;00m \u001b[38;5;28mself\u001b[39m\u001b[38;5;241m.\u001b[39mklass \u001b[38;5;129;01mis\u001b[39;00m \u001b[38;5;129;01mnot\u001b[39;00m \u001b[38;5;28;01mNone\u001b[39;00m\n\u001b[0;32m   3477\u001b[0m     value \u001b[38;5;241m=\u001b[39m \u001b[38;5;28mself\u001b[39m\u001b[38;5;241m.\u001b[39mklass(value)  \u001b[38;5;66;03m# type:ignore[call-arg]\u001b[39;00m\n\u001b[1;32m-> 3478\u001b[0m value \u001b[38;5;241m=\u001b[39m \u001b[38;5;28;43msuper\u001b[39;49m\u001b[43m(\u001b[49m\u001b[43m)\u001b[49m\u001b[38;5;241;43m.\u001b[39;49m\u001b[43mvalidate\u001b[49m\u001b[43m(\u001b[49m\u001b[43mobj\u001b[49m\u001b[43m,\u001b[49m\u001b[43m \u001b[49m\u001b[43mvalue\u001b[49m\u001b[43m)\u001b[49m\n\u001b[0;32m   3479\u001b[0m \u001b[38;5;28;01mif\u001b[39;00m value \u001b[38;5;129;01mis\u001b[39;00m \u001b[38;5;28;01mNone\u001b[39;00m:\n\u001b[0;32m   3480\u001b[0m     \u001b[38;5;28;01mreturn\u001b[39;00m value\n",
      "File \u001b[1;32mc:\\Users\\pho\\repos\\Spike3DWorkEnv\\Spike3D\\.venv\\lib\\site-packages\\traitlets\\traitlets.py:2311\u001b[0m, in \u001b[0;36mInstance.validate\u001b[1;34m(self, obj, value)\u001b[0m\n\u001b[0;32m   2309\u001b[0m     \u001b[38;5;28;01mreturn\u001b[39;00m t\u001b[38;5;241m.\u001b[39mcast(T, value)\n\u001b[0;32m   2310\u001b[0m \u001b[38;5;28;01melse\u001b[39;00m:\n\u001b[1;32m-> 2311\u001b[0m     \u001b[38;5;28;43mself\u001b[39;49m\u001b[38;5;241;43m.\u001b[39;49m\u001b[43merror\u001b[49m\u001b[43m(\u001b[49m\u001b[43mobj\u001b[49m\u001b[43m,\u001b[49m\u001b[43m \u001b[49m\u001b[43mvalue\u001b[49m\u001b[43m)\u001b[49m\n",
      "File \u001b[1;32mc:\\Users\\pho\\repos\\Spike3DWorkEnv\\Spike3D\\.venv\\lib\\site-packages\\traitlets\\traitlets.py:831\u001b[0m, in \u001b[0;36mTraitType.error\u001b[1;34m(self, obj, value, error, info)\u001b[0m\n\u001b[0;32m    825\u001b[0m \u001b[38;5;28;01melse\u001b[39;00m:\n\u001b[0;32m    826\u001b[0m     e \u001b[38;5;241m=\u001b[39m \u001b[38;5;124m\"\u001b[39m\u001b[38;5;124mThe \u001b[39m\u001b[38;5;124m'\u001b[39m\u001b[38;5;132;01m{}\u001b[39;00m\u001b[38;5;124m'\u001b[39m\u001b[38;5;124m trait expected \u001b[39m\u001b[38;5;132;01m{}\u001b[39;00m\u001b[38;5;124m, not \u001b[39m\u001b[38;5;132;01m{}\u001b[39;00m\u001b[38;5;124m.\u001b[39m\u001b[38;5;124m\"\u001b[39m\u001b[38;5;241m.\u001b[39mformat(\n\u001b[0;32m    827\u001b[0m         \u001b[38;5;28mself\u001b[39m\u001b[38;5;241m.\u001b[39mname,\n\u001b[0;32m    828\u001b[0m         info \u001b[38;5;129;01mor\u001b[39;00m \u001b[38;5;28mself\u001b[39m\u001b[38;5;241m.\u001b[39minfo(),\n\u001b[0;32m    829\u001b[0m         describe(\u001b[38;5;124m\"\u001b[39m\u001b[38;5;124mthe\u001b[39m\u001b[38;5;124m\"\u001b[39m, value),\n\u001b[0;32m    830\u001b[0m     )\n\u001b[1;32m--> 831\u001b[0m \u001b[38;5;28;01mraise\u001b[39;00m TraitError(e)\n",
      "\u001b[1;31mTraitError\u001b[0m: The 'children' trait of a NewMultiCheckboxWidget instance expected a tuple, not the NoneType None."
     ]
    }
   ],
   "source": [
    "import ipywidgets as widgets\n",
    "from IPython.display import display\n",
    "from pyphocorehelpers.gui.Jupyter.simple_widgets import NewMultiCheckboxWidget\n",
    "\n",
    "options_widget = NewMultiCheckboxWidget(options=['test', 'new', 'mews'])\n",
    "# options_widget.options=['test', 'new', 'mews']"
   ]
  },
  {
   "cell_type": "code",
   "execution_count": null,
   "metadata": {},
   "outputs": [],
   "source": [
    "ui.options"
   ]
  },
  {
   "cell_type": "markdown",
   "metadata": {},
   "source": [
    "# Hierarchical Dataframe via Pandas multiindex\n"
   ]
  },
  {
   "cell_type": "code",
   "execution_count": null,
   "metadata": {
    "notebookRunGroups": {
     "groupValue": "1"
    }
   },
   "outputs": [],
   "source": [
    "\n",
    "import ipydatagrid as ipg\n",
    "import pandas as pd\n",
    "import numpy as np\n",
    "\n",
    "# Columns\n",
    "col_top_level = [\n",
    "    \"VeryLongValueFactors\",\n",
    "    \"VeryLongValueFactors\",\n",
    "    \"Even Longer Momentum Factors\",\n",
    "    \"Even Longer Momentum Factors\",\n",
    "]\n",
    "col_bottom_level = [\"Factor_A\", \"Factor_B\", \"Factor_C\", \"Factor_D\"]\n",
    "\n",
    "# Rows\n",
    "row_top_level = [\"Sector 1\", \"Sector 1\", \"Sector 2\", \"Sector 2\"]\n",
    "row_bottom_level = [\"Security A\", \"Security B\", \"Security C\", \"Security D\"]\n",
    "\n",
    "header_renderer = ipg.TextRenderer(\n",
    "    background_color=\"moccasin\",\n",
    "    text_color=\"navy\",\n",
    "    vertical_alignment=\"top\",\n",
    "    horizontal_alignment=\"center\",\n",
    ")\n",
    "\n",
    "default_renderer = ipg.TextRenderer(\n",
    "    text_color=ipg.VegaExpr(\"cell.value <= 0 ? 'purple' : 'green'\")\n",
    ")\n",
    "\n",
    "nested_df = pd.DataFrame(\n",
    "    np.random.randn(4, 4).round(4),\n",
    "    columns=pd.MultiIndex.from_arrays([col_top_level, col_bottom_level]),\n",
    "    index=pd.MultiIndex.from_arrays(\n",
    "        [row_top_level, row_bottom_level], names=(\"Sector\", \"Ticker\")\n",
    "    ),\n",
    ")\n",
    "\n",
    "nested_grid = ipg.DataGrid(\n",
    "    nested_df,\n",
    "    base_column_size=80,\n",
    "    base_column_header_size=35,\n",
    "    base_row_header_size=80,\n",
    "    layout={\"height\": \"180px\"},\n",
    "    header_renderer=header_renderer,\n",
    "    default_renderer=default_renderer,\n",
    ")\n",
    "\n",
    "nested_grid\n",
    "\n"
   ]
  },
  {
   "cell_type": "code",
   "execution_count": null,
   "metadata": {},
   "outputs": [],
   "source": []
  },
  {
   "cell_type": "code",
   "execution_count": null,
   "metadata": {},
   "outputs": [],
   "source": [
    "from pathlib import Path\n",
    "\n",
    "from typing import Callable, Optional, List, Dict, Union, Any\n",
    "import ipywidgets as widgets\n",
    "from ipywidgets import HBox, VBox\n",
    "from IPython.display import display, HTML, Javascript\n",
    "from pathlib import Path\n",
    "from pyphocorehelpers.gui.Jupyter.simple_widgets import filesystem_path_folder_contents_widget\n",
    "# from pyphocorehelpers.gui.Jupyter.simple_widgets import file_save_widget\n",
    "\n",
    "# curr_collected_outputs_folder = Path(output_path_dicts['neuron_replay_stats_table']['.csv']).resolve().parent       \n",
    "# file_save_widget(None)\n",
    "\n",
    "import solara # `pip install \"solara[assets]`\n",
    "\n",
    "\n",
    "curr_collected_outputs_folder = Path('../../').resolve().parent        \n",
    "filesystem_path_folder_contents_widget(curr_collected_outputs_folder)\n"
   ]
  },
  {
   "cell_type": "code",
   "execution_count": null,
   "metadata": {},
   "outputs": [],
   "source": [
    "\n",
    "\n",
    "# if not isinstance(a_path, Path):\n",
    "#     a_path = Path(a_path).resolve() # we need a Path\n",
    "# assert a_path.exists(), f'a_path: \"{a_path} does not exist!\"'\n",
    "\n",
    "\n",
    "# if on_file_open is None:\n",
    "#     on_file_open = print\n",
    "\n",
    "data = \"This is the content of the file\"\n",
    "    \n",
    "_out = widgets.VBox(\n",
    "        children=[\n",
    "            solara.FileDownload.widget(data=data, filename=\"solara-download.txt\", label=\"Download file\") #.widget(directory=a_path, on_file_open=on_file_open)\n",
    "        ]\n",
    "    )\n",
    "\n",
    ", mime_type=\"image/jpeg\", close_file=False\n",
    "\n",
    "display(_out)\n"
   ]
  },
  {
   "cell_type": "code",
   "execution_count": null,
   "metadata": {},
   "outputs": [],
   "source": [
    "import solara\n",
    "\n",
    "data = \"This is the content of the file\"\n",
    "\n",
    "@solara.component\n",
    "def Page():\n",
    "    with solara.FileDownload(data, \"solara-download-2.txt\"):\n",
    "        solara.Markdown(\"Any text, or even an image\")\n",
    "        solara.Image(\"https://solara.dev/static/public/beach.jpeg\", width=\"200px\")\n",
    "        \n",
    "\n",
    "Page()\n",
    "\n",
    "# widgets.VBox(\n",
    "#             children=[Page()]\n",
    "# )"
   ]
  },
  {
   "cell_type": "code",
   "execution_count": null,
   "metadata": {},
   "outputs": [],
   "source": [
    "import solara\n",
    "\n",
    "data = \"This is the content of the file\"\n",
    "\n",
    "@solara.component\n",
    "def Page():\n",
    "    \n",
    "widgets.VBox(\n",
    "            children=[\n",
    "    with solara.FileDownload(data, \"solara-download-2.txt\"):\n",
    "        solara.Button(\"Custom download button\", icon_name=\"mdi-cloud-download-outline\", color=\"primary\")"
   ]
  }
 ],
 "metadata": {
  "kernelspec": {
   "display_name": ".venv_yellow",
   "language": "python",
   "name": "python3"
  },
  "language_info": {
   "codemirror_mode": {
    "name": "ipython",
    "version": 3
   },
   "file_extension": ".py",
   "mimetype": "text/x-python",
   "name": "python",
   "nbconvert_exporter": "python",
   "pygments_lexer": "ipython3",
   "version": "3.9.13"
  },
  "orig_nbformat": 4
 },
 "nbformat": 4,
 "nbformat_minor": 2
}
