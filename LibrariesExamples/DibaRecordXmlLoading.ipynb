{
 "cells": [
  {
   "cell_type": "code",
   "execution_count": 25,
   "id": "da7c3bd6-7f20-48f5-bbbb-f1f8cd3b73a0",
   "metadata": {},
   "outputs": [
    {
     "name": "stdout",
     "output_type": "stream",
     "text": [
      "Automatic pdb calling has been turned OFF\n",
      "The autoreload extension is already loaded. To reload it, use:\n",
      "  %reload_ext autoreload\n"
     ]
    }
   ],
   "source": [
    "\"\"\"\n",
    "@author: pho\n",
    "\"\"\"\n",
    "## Automatic debugger on exception raised\n",
    "# %pdb on\n",
    "%pdb off\n",
    "%load_ext autoreload\n",
    "%autoreload 2\n",
    "\n",
    "import sys\n",
    "import importlib\n",
    "from pathlib import Path\n",
    "import numpy as np\n",
    "import pandas as pd\n",
    "from benedict import benedict # https://github.com/fabiocaccamo/python-benedict#usage\n",
    "from neuropy.utils.load_exported import LoadXml\n",
    "from pyphocorehelpers.print_helpers import print_keys_if_possible, print_value_overview_only\n",
    "from pyphocorehelpers.general_helpers import get_arguments_as_optional_dict, CodeConversion"
   ]
  },
  {
   "cell_type": "code",
   "execution_count": 21,
   "id": "b45224fe-7614-4f5c-a919-b3373530b373",
   "metadata": {},
   "outputs": [
    {
     "name": "stdout",
     "output_type": "stream",
     "text": [
      "local_session_path: W:\\Data\\KDIBA\\gor01\\one\\2006-6-13_14-42-6\n",
      "session_xml_filepath: W:\\Data\\KDIBA\\gor01\\one\\2006-6-13_14-42-6\\2006-6-13_14-42-6.xml\n"
     ]
    }
   ],
   "source": [
    "# local_session_path = Path(r'W:\\Data\\KDIBA\\gor01\\one\\2006-6-08_14-26-15')\n",
    "# local_session_path = Path(r'W:\\Data\\KDIBA\\gor01\\one\\2006-6-08_14-26-15')\n",
    "local_session_path = Path(r'W:\\Data\\KDIBA\\gor01\\one\\2006-6-13_14-42-6')\n",
    "\n",
    "session_stem = local_session_path.stem # '2006-6-08_14-26-15'\n",
    "session_xml_filepath = local_session_path.joinpath(session_stem).with_suffix('.xml')\n",
    "print(f'local_session_path: {local_session_path}')\n",
    "print(f'session_xml_filepath: {session_xml_filepath}')\n",
    "assert session_xml_filepath.exists() and session_xml_filepath.is_file()"
   ]
  },
  {
   "cell_type": "code",
   "execution_count": 22,
   "id": "16f9e30e-d20a-48a3-be1e-f2cf28df37d7",
   "metadata": {},
   "outputs": [
    {
     "name": "stdout",
     "output_type": "stream",
     "text": [
      "nChannels: 96, samplingRate: 32552 Hz, lfpSampleRate: 1252 Hz\n"
     ]
    },
    {
     "data": {
      "text/html": [
       "<div>\n",
       "<style scoped>\n",
       "    .dataframe tbody tr th:only-of-type {\n",
       "        vertical-align: middle;\n",
       "    }\n",
       "\n",
       "    .dataframe tbody tr th {\n",
       "        vertical-align: top;\n",
       "    }\n",
       "\n",
       "    .dataframe thead th {\n",
       "        text-align: right;\n",
       "    }\n",
       "</style>\n",
       "<table border=\"1\" class=\"dataframe\">\n",
       "  <thead>\n",
       "    <tr style=\"text-align: right;\">\n",
       "      <th></th>\n",
       "      <th>originalGroupIdx</th>\n",
       "      <th>groupIdx</th>\n",
       "      <th>channelIDX</th>\n",
       "      <th>splitIdx</th>\n",
       "    </tr>\n",
       "  </thead>\n",
       "  <tbody>\n",
       "    <tr>\n",
       "      <th>0</th>\n",
       "      <td>0</td>\n",
       "      <td>0</td>\n",
       "      <td>0</td>\n",
       "      <td>0</td>\n",
       "    </tr>\n",
       "    <tr>\n",
       "      <th>1</th>\n",
       "      <td>0</td>\n",
       "      <td>0</td>\n",
       "      <td>1</td>\n",
       "      <td>0</td>\n",
       "    </tr>\n",
       "    <tr>\n",
       "      <th>2</th>\n",
       "      <td>0</td>\n",
       "      <td>0</td>\n",
       "      <td>2</td>\n",
       "      <td>0</td>\n",
       "    </tr>\n",
       "    <tr>\n",
       "      <th>3</th>\n",
       "      <td>0</td>\n",
       "      <td>0</td>\n",
       "      <td>3</td>\n",
       "      <td>0</td>\n",
       "    </tr>\n",
       "    <tr>\n",
       "      <th>4</th>\n",
       "      <td>0</td>\n",
       "      <td>0</td>\n",
       "      <td>4</td>\n",
       "      <td>0</td>\n",
       "    </tr>\n",
       "    <tr>\n",
       "      <th>...</th>\n",
       "      <td>...</td>\n",
       "      <td>...</td>\n",
       "      <td>...</td>\n",
       "      <td>...</td>\n",
       "    </tr>\n",
       "    <tr>\n",
       "      <th>91</th>\n",
       "      <td>5</td>\n",
       "      <td>11</td>\n",
       "      <td>91</td>\n",
       "      <td>0</td>\n",
       "    </tr>\n",
       "    <tr>\n",
       "      <th>92</th>\n",
       "      <td>5</td>\n",
       "      <td>11</td>\n",
       "      <td>92</td>\n",
       "      <td>0</td>\n",
       "    </tr>\n",
       "    <tr>\n",
       "      <th>93</th>\n",
       "      <td>5</td>\n",
       "      <td>11</td>\n",
       "      <td>93</td>\n",
       "      <td>0</td>\n",
       "    </tr>\n",
       "    <tr>\n",
       "      <th>94</th>\n",
       "      <td>5</td>\n",
       "      <td>11</td>\n",
       "      <td>94</td>\n",
       "      <td>0</td>\n",
       "    </tr>\n",
       "    <tr>\n",
       "      <th>95</th>\n",
       "      <td>5</td>\n",
       "      <td>11</td>\n",
       "      <td>95</td>\n",
       "      <td>0</td>\n",
       "    </tr>\n",
       "  </tbody>\n",
       "</table>\n",
       "<p>96 rows × 4 columns</p>\n",
       "</div>"
      ],
      "text/plain": [
       "    originalGroupIdx  groupIdx  channelIDX  splitIdx\n",
       "0                  0         0           0         0\n",
       "1                  0         0           1         0\n",
       "2                  0         0           2         0\n",
       "3                  0         0           3         0\n",
       "4                  0         0           4         0\n",
       "..               ...       ...         ...       ...\n",
       "91                 5        11          91         0\n",
       "92                 5        11          92         0\n",
       "93                 5        11          93         0\n",
       "94                 5        11          94         0\n",
       "95                 5        11          95         0\n",
       "\n",
       "[96 rows x 4 columns]"
      ]
     },
     "execution_count": 22,
     "metadata": {},
     "output_type": "execute_result"
    }
   ],
   "source": [
    "out_xml_dict, d = LoadXml(session_xml_filepath)\n",
    "\n",
    "nChannels = out_xml_dict['nChannels']\n",
    "lfpSampleRate = out_xml_dict['lfpSampleRate']\n",
    "samplingRate = out_xml_dict['samplingRate']\n",
    "print(f'nChannels: {nChannels}, samplingRate: {samplingRate} Hz, lfpSampleRate: {lfpSampleRate} Hz')\n",
    "\n",
    "df = out_xml_dict['AnatGrps_df']\n",
    "# df = out_xml_dict['SpkGrps_df']\n",
    "# out_xml_dict\n",
    "df"
   ]
  },
  {
   "cell_type": "code",
   "execution_count": null,
   "id": "4139d74d-a93d-46f3-a5fa-d0b97beb813e",
   "metadata": {},
   "outputs": [],
   "source": [
    "out_xml_dict"
   ]
  },
  {
   "cell_type": "code",
   "execution_count": null,
   "id": "0e8b2989-3138-4a9d-9371-fa5178b63ffd",
   "metadata": {},
   "outputs": [],
   "source": [
    "{k:len(v) for k,v in df.items()}"
   ]
  },
  {
   "cell_type": "code",
   "execution_count": null,
   "id": "efa17817-d9d0-47e2-99b7-fb659940faa0",
   "metadata": {},
   "outputs": [],
   "source": [
    "np.array(df['splitIdx']).flatten()"
   ]
  },
  {
   "cell_type": "code",
   "execution_count": null,
   "id": "2aa73a24-88af-48c3-8a0c-506a4c9be931",
   "metadata": {},
   "outputs": [],
   "source": [
    "print_keys_if_possible('d', d)"
   ]
  },
  {
   "cell_type": "code",
   "execution_count": null,
   "id": "42417028-1e59-414a-b9d1-bf9b44a2cdea",
   "metadata": {},
   "outputs": [],
   "source": [
    "d.keypaths()"
   ]
  },
  {
   "cell_type": "code",
   "execution_count": null,
   "id": "b79405b3-87c4-434a-8de7-4a262bd99929",
   "metadata": {},
   "outputs": [],
   "source": [
    "d.get('parameters', None)"
   ]
  },
  {
   "cell_type": "code",
   "execution_count": null,
   "id": "571bbd5f-6fff-4ff3-9b78-1cd09be0c4ae",
   "metadata": {},
   "outputs": [],
   "source": [
    "'parameters.neuroscope'"
   ]
  },
  {
   "cell_type": "code",
   "execution_count": null,
   "id": "fddbad35-e1cb-41fe-a7dd-edfa52378082",
   "metadata": {},
   "outputs": [],
   "source": [
    "out_xml_dict = {'nBits': int(d['parameters.acquisitionSystem.nBits']), 'nChannels': int(d['parameters.acquisitionSystem.nChannels']), 'samplingRate': int(d['parameters.acquisitionSystem.samplingRate']), 'voltageRange': int(d['parameters.acquisitionSystem.voltageRange']),\n",
    " 'amplification': int(d['parameters.acquisitionSystem.amplification']), 'offset': int(d['parameters.acquisitionSystem.offset'])}"
   ]
  },
  {
   "cell_type": "code",
   "execution_count": null,
   "id": "c11b95b4-1ce0-491d-86ff-deec5c301188",
   "metadata": {},
   "outputs": [],
   "source": [
    "out_xml_dict = out_xml_dict | {'Date':d['parameters.generalInfo.date']}\n",
    "out_xml_dict"
   ]
  },
  {
   "cell_type": "code",
   "execution_count": null,
   "id": "b09d40b4-a528-4697-b2a0-28ea696e7370",
   "metadata": {},
   "outputs": [],
   "source": [
    "out_xml_dict = out_xml_dict | {'lfpSampleRate':int(d['parameters.fieldPotentials.lfpSamplingRate'])}\n",
    "out_xml_dict"
   ]
  },
  {
   "cell_type": "code",
   "execution_count": 24,
   "id": "ab59a20d-8a37-438d-9a0a-3f08bfc27739",
   "metadata": {},
   "outputs": [
    {
     "data": {
      "text/plain": [
       "{'nBits': '16', 'nChannels': '96', 'samplingRate': '32552', 'voltageRange': '20', 'amplification': '1000', 'offset': '0'}"
      ]
     },
     "execution_count": 24,
     "metadata": {},
     "output_type": "execute_result"
    }
   ],
   "source": [
    "d['parameters.acquisitionSystem'] # {'nBits': '16', 'nChannels': '96', 'samplingRate': '32552', 'voltageRange': '20', 'amplification': '1000', 'offset': '0'}"
   ]
  },
  {
   "cell_type": "code",
   "execution_count": null,
   "id": "679c5171-4f61-4aa9-80ea-bf077666067b",
   "metadata": {},
   "outputs": [],
   "source": [
    "int(d['parameters.acquisitionSystem']['nChannels'])\n",
    "\n",
    "# float(a)"
   ]
  },
  {
   "cell_type": "code",
   "execution_count": null,
   "id": "884bd16a-0cc2-441f-bf48-522884c81ae6",
   "metadata": {},
   "outputs": [],
   "source": [
    "out_xml_dict['AnatGrps']"
   ]
  },
  {
   "cell_type": "markdown",
   "id": "69fd1e85-b0bf-41d2-a409-9e4964903ba9",
   "metadata": {
    "jp-MarkdownHeadingCollapsed": true,
    "tags": []
   },
   "source": [
    "# Test Rendering Output XML Dict Graphically using plot_dataTreeWidget"
   ]
  },
  {
   "cell_type": "code",
   "execution_count": null,
   "id": "515a2752-1007-435f-8a7c-513bbc9f99ce",
   "metadata": {},
   "outputs": [],
   "source": [
    "d = {\n",
    "    \"out_xml_dict\": out_xml_dict,\n",
    "}"
   ]
  },
  {
   "cell_type": "code",
   "execution_count": null,
   "id": "5d16d135-bd20-4590-81a1-63e1f3862a80",
   "metadata": {},
   "outputs": [],
   "source": [
    "import pyphoplacecellanalysis.External.pyqtgraph as pg\n",
    "from pyphoplacecellanalysis.External.pyqtgraph.Qt import QtCore, QtGui \n",
    "from pyphoplacecellanalysis.GUI.PyQtPlot.pyqtplot_DataTreeWidget import plot_dataTreeWidget\n",
    "tree, app = plot_dataTreeWidget(data=out_xml_dict, title='PhoOutputDataTreeApp')\n",
    "tree.show()\n",
    "pg.exec() # required in an empty notebook to get the window to show instead of just launching and locking up"
   ]
  },
  {
   "cell_type": "markdown",
   "id": "4f0636fa-80f1-4908-a063-19f3be04e645",
   "metadata": {},
   "source": [
    "# Test building ExtendedRippleDetection arguments from the XML for the specified session directory"
   ]
  },
  {
   "cell_type": "code",
   "execution_count": null,
   "id": "9ffab56e-6042-4935-a212-80bcd37a39f7",
   "metadata": {},
   "outputs": [],
   "source": [
    "out_xml_dict"
   ]
  },
  {
   "cell_type": "code",
   "execution_count": 30,
   "id": "d24d4a55-427d-41e3-98ba-5e01d7c29cf3",
   "metadata": {},
   "outputs": [
    {
     "data": {
      "text/plain": [
       "[[0, 1, 2, 3, 4, 5, 6, 7],\n",
       " [8, 9, 10, 11, 12, 13, 14, 15],\n",
       " [16, 17, 18, 19, 20, 21, 22, 23],\n",
       " [24, 25, 26, 27, 28, 29, 30, 31],\n",
       " [32, 33, 34, 35, 36, 37, 38, 39],\n",
       " [40, 41, 42, 43, 44, 45, 46, 47],\n",
       " [48, 49, 50, 51, 52, 53, 54, 55],\n",
       " [56, 57, 58, 59, 60, 61, 62, 63],\n",
       " [64, 65, 66, 67, 68, 69, 70, 71],\n",
       " [72, 73, 74, 75, 76, 77, 78, 79],\n",
       " [80, 81, 82, 83, 84, 85, 86, 87],\n",
       " [88, 89, 90, 91, 92, 93, 94, 95]]"
      ]
     },
     "execution_count": 30,
     "metadata": {},
     "output_type": "execute_result"
    }
   ],
   "source": [
    "out_xml_dict['AnatGrps']"
   ]
  },
  {
   "cell_type": "code",
   "execution_count": 32,
   "id": "59897b90-9e6e-471d-b9f4-9639a5102913",
   "metadata": {},
   "outputs": [
    {
     "name": "stdout",
     "output_type": "stream",
     "text": [
      ", **({'learning_rate': 0.001, 'beta_1': 0.9, 'beta_2': 0.999, 'epsilon': 1e-07, 'amsgrad': False} | kwargs)\n"
     ]
    }
   ],
   "source": [
    "# CodeConversion.get_arguments_as_optional_dict(active_session_folder=[], numchannel=96, srLfp=1250, \n",
    "#             active_shank_channels_lists=[], overlapping=True, window_size=0.0128, window_stride=0.0064)\n",
    "\n",
    "CodeConversion.get_arguments_as_optional_dict(learning_rate=0.001, beta_1=0.9, beta_2=0.999, epsilon=1e-07, amsgrad=False)"
   ]
  },
  {
   "cell_type": "code",
   "execution_count": 31,
   "id": "14f60db5-b517-45c9-a971-95769ef72346",
   "metadata": {},
   "outputs": [],
   "source": [
    "CodeConversion.get_arguments_as_optional_dict(overlapping=True, window_size=0.0128, window_stride=0.0064)"
   ]
  },
  {
   "cell_type": "code",
   "execution_count": 31,
   "id": "ff760f39-ac79-4a9a-a05e-7691914a65da",
   "metadata": {},
   "outputs": [
    {
     "name": "stdout",
     "output_type": "stream",
     "text": [
      ", **({'learning_rate': 0.001, 'beta_1': 0.9, 'beta_2': 0.999, 'epsilon': 1e-07, 'amsgrad': False, 'overlapping': True, 'window_size': 0.0128, 'window_stride': 0.0064} | kwargs)\n"
     ]
    }
   ],
   "source": [
    "ripple_detection_threshold=0.7,"
   ]
  },
  {
   "cell_type": "code",
   "execution_count": 29,
   "id": "f2494f18-e943-4811-8999-42e2026bc23f",
   "metadata": {},
   "outputs": [
    {
     "name": "stdout",
     "output_type": "stream",
     "text": [
      ", **({'active_session_folder': [], 'numchannel': 96, 'srLfp': 1250, 'active_shank_channels_lists': [], 'overlapping': True, 'window_size': 0.0128, 'window_stride': 0.0064} | kwargs)\n"
     ]
    }
   ],
   "source": [
    ", **({'active_session_folder': local_session_path, 'numchannel': out_xml_dict['nChannels'], 'srLfp': out_xml_dict['lfpSampleRate'], 'active_shank_channels_lists': out_xml_dict['AnatGrps'], 'overlapping': True, 'window_size': 0.0128, 'window_stride': 0.0064} | kwargs)"
   ]
  },
  {
   "cell_type": "code",
   "execution_count": null,
   "id": "2ca81235-e440-49b7-b004-b837ba00e864",
   "metadata": {},
   "outputs": [],
   "source": [
    "nChannels = out_xml_dict['nChannels']\n",
    "lfpSampleRate = out_xml_dict['lfpSampleRate']\n",
    "samplingRate = out_xml_dict['samplingRate']\n",
    "print(f'nChannels: {nChannels}, samplingRate: {samplingRate} Hz, lfpSampleRate: {lfpSampleRate} Hz')\n",
    "\n",
    "df = out_xml_dict['AnatGrps_df']\n",
    "\n",
    "\n",
    "# test_detector.compute(active_session_folder=active_local_session_path, numchannel=numchannel, srLfp=1250, \n",
    "#             active_shank_channels_lists=active_shank_channels_lists, overlapping=True, window_size=0.0128, window_stride=0.0064)\n",
    "\n",
    "\n",
    "\n",
    "test_detector.compute(**({'active_session_folder': local_session_path, 'numchannel': out_xml_dict['nChannels'], 'srLfp': out_xml_dict['lfpSampleRate'], 'active_shank_channels_lists': out_xml_dict['AnatGrps'], 'overlapping': True, 'window_size': 0.0128, 'window_stride': 0.0064} | kwargs))"
   ]
  }
 ],
 "metadata": {
  "kernelspec": {
   "display_name": "Python [conda env:phoviz_ultimate]",
   "language": "python",
   "name": "conda-env-phoviz_ultimate-py"
  },
  "language_info": {
   "codemirror_mode": {
    "name": "ipython",
    "version": 3
   },
   "file_extension": ".py",
   "mimetype": "text/x-python",
   "name": "python",
   "nbconvert_exporter": "python",
   "pygments_lexer": "ipython3",
   "version": "3.9.13"
  }
 },
 "nbformat": 4,
 "nbformat_minor": 5
}
