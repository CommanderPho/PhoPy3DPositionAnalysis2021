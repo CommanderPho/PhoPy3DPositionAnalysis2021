{
 "cells": [
  {
   "cell_type": "code",
   "execution_count": 1,
   "id": "da7c3bd6-7f20-48f5-bbbb-f1f8cd3b73a0",
   "metadata": {},
   "outputs": [
    {
     "name": "stdout",
     "output_type": "stream",
     "text": [
      "Automatic pdb calling has been turned OFF\n"
     ]
    }
   ],
   "source": [
    "\"\"\"\n",
    "@author: pho\n",
    "\"\"\"\n",
    "## Automatic debugger on exception raised\n",
    "# %pdb on\n",
    "%pdb off\n",
    "%load_ext autoreload\n",
    "%autoreload 2\n",
    "\n",
    "import sys\n",
    "import importlib\n",
    "from pathlib import Path\n",
    "import numpy as np\n",
    "import pandas as pd\n",
    "from benedict import benedict # https://github.com/fabiocaccamo/python-benedict#usage\n",
    "from pyphocorehelpers.print_helpers import print_keys_if_possible, print_value_overview_only"
   ]
  },
  {
   "cell_type": "code",
   "execution_count": 12,
   "id": "b45224fe-7614-4f5c-a919-b3373530b373",
   "metadata": {},
   "outputs": [
    {
     "name": "stdout",
     "output_type": "stream",
     "text": [
      "local_session_path: W:\\Data\\KDIBA\\gor01\\one\\2006-6-13_14-42-6\n",
      "session_xml_filepath: W:\\Data\\KDIBA\\gor01\\one\\2006-6-13_14-42-6\\2006-6-13_14-42-6.xml\n"
     ]
    }
   ],
   "source": [
    "# local_session_path = Path(r'W:\\Data\\KDIBA\\gor01\\one\\2006-6-08_14-26-15')\n",
    "# local_session_path = Path(r'W:\\Data\\KDIBA\\gor01\\one\\2006-6-08_14-26-15')\n",
    "local_session_path = Path(r'W:\\Data\\KDIBA\\gor01\\one\\2006-6-13_14-42-6')\n",
    "\n",
    "session_stem = local_session_path.stem # '2006-6-08_14-26-15'\n",
    "session_xml_filepath = local_session_path.joinpath(session_stem).with_suffix('.xml')\n",
    "print(f'local_session_path: {local_session_path}')\n",
    "print(f'session_xml_filepath: {session_xml_filepath}')\n",
    "assert session_xml_filepath.exists() and session_xml_filepath.is_file()"
   ]
  },
  {
   "cell_type": "code",
   "execution_count": 13,
   "id": "89e46eef-0e3a-4c26-93da-94beb4f12f2e",
   "metadata": {},
   "outputs": [],
   "source": [
    "from neuropy.utils.load_exported import LoadXml\n",
    "out_xml_dict, d = LoadXml(session_xml_filepath)"
   ]
  },
  {
   "cell_type": "code",
   "execution_count": 14,
   "id": "fb74525d-691f-4b82-b204-43b6a6afe235",
   "metadata": {},
   "outputs": [
    {
     "name": "stdout",
     "output_type": "stream",
     "text": [
      "nChannels: 96\n"
     ]
    }
   ],
   "source": [
    "nChannels = out_xml_dict['nChannels']\n",
    "print(f'nChannels: {nChannels}')"
   ]
  },
  {
   "cell_type": "code",
   "execution_count": 8,
   "id": "fb38b1d2-d26c-46d2-962d-3a1ff56570da",
   "metadata": {},
   "outputs": [
    {
     "data": {
      "text/html": [
       "<div>\n",
       "<style scoped>\n",
       "    .dataframe tbody tr th:only-of-type {\n",
       "        vertical-align: middle;\n",
       "    }\n",
       "\n",
       "    .dataframe tbody tr th {\n",
       "        vertical-align: top;\n",
       "    }\n",
       "\n",
       "    .dataframe thead th {\n",
       "        text-align: right;\n",
       "    }\n",
       "</style>\n",
       "<table border=\"1\" class=\"dataframe\">\n",
       "  <thead>\n",
       "    <tr style=\"text-align: right;\">\n",
       "      <th></th>\n",
       "      <th>originalGroupIdx</th>\n",
       "      <th>groupIdx</th>\n",
       "      <th>channelIDX</th>\n",
       "      <th>splitIdx</th>\n",
       "    </tr>\n",
       "  </thead>\n",
       "  <tbody>\n",
       "    <tr>\n",
       "      <th>0</th>\n",
       "      <td>0</td>\n",
       "      <td>0</td>\n",
       "      <td>72</td>\n",
       "      <td>0</td>\n",
       "    </tr>\n",
       "    <tr>\n",
       "      <th>1</th>\n",
       "      <td>0</td>\n",
       "      <td>0</td>\n",
       "      <td>73</td>\n",
       "      <td>0</td>\n",
       "    </tr>\n",
       "    <tr>\n",
       "      <th>2</th>\n",
       "      <td>0</td>\n",
       "      <td>0</td>\n",
       "      <td>74</td>\n",
       "      <td>0</td>\n",
       "    </tr>\n",
       "    <tr>\n",
       "      <th>3</th>\n",
       "      <td>0</td>\n",
       "      <td>0</td>\n",
       "      <td>75</td>\n",
       "      <td>0</td>\n",
       "    </tr>\n",
       "    <tr>\n",
       "      <th>4</th>\n",
       "      <td>0</td>\n",
       "      <td>0</td>\n",
       "      <td>76</td>\n",
       "      <td>0</td>\n",
       "    </tr>\n",
       "    <tr>\n",
       "      <th>...</th>\n",
       "      <td>...</td>\n",
       "      <td>...</td>\n",
       "      <td>...</td>\n",
       "      <td>...</td>\n",
       "    </tr>\n",
       "    <tr>\n",
       "      <th>91</th>\n",
       "      <td>8</td>\n",
       "      <td>11</td>\n",
       "      <td>67</td>\n",
       "      <td>0</td>\n",
       "    </tr>\n",
       "    <tr>\n",
       "      <th>92</th>\n",
       "      <td>8</td>\n",
       "      <td>11</td>\n",
       "      <td>68</td>\n",
       "      <td>0</td>\n",
       "    </tr>\n",
       "    <tr>\n",
       "      <th>93</th>\n",
       "      <td>8</td>\n",
       "      <td>11</td>\n",
       "      <td>69</td>\n",
       "      <td>0</td>\n",
       "    </tr>\n",
       "    <tr>\n",
       "      <th>94</th>\n",
       "      <td>8</td>\n",
       "      <td>11</td>\n",
       "      <td>70</td>\n",
       "      <td>0</td>\n",
       "    </tr>\n",
       "    <tr>\n",
       "      <th>95</th>\n",
       "      <td>8</td>\n",
       "      <td>11</td>\n",
       "      <td>71</td>\n",
       "      <td>0</td>\n",
       "    </tr>\n",
       "  </tbody>\n",
       "</table>\n",
       "<p>96 rows × 4 columns</p>\n",
       "</div>"
      ],
      "text/plain": [
       "    originalGroupIdx  groupIdx  channelIDX  splitIdx\n",
       "0                  0         0          72         0\n",
       "1                  0         0          73         0\n",
       "2                  0         0          74         0\n",
       "3                  0         0          75         0\n",
       "4                  0         0          76         0\n",
       "..               ...       ...         ...       ...\n",
       "91                 8        11          67         0\n",
       "92                 8        11          68         0\n",
       "93                 8        11          69         0\n",
       "94                 8        11          70         0\n",
       "95                 8        11          71         0\n",
       "\n",
       "[96 rows x 4 columns]"
      ]
     },
     "execution_count": 8,
     "metadata": {},
     "output_type": "execute_result"
    }
   ],
   "source": [
    "df = out_xml_dict['AnatGrps_df']\n",
    "# df = out_xml_dict['SpkGrps_df']\n",
    "# out_xml_dict\n",
    "df"
   ]
  },
  {
   "cell_type": "code",
   "execution_count": null,
   "id": "0e8b2989-3138-4a9d-9371-fa5178b63ffd",
   "metadata": {},
   "outputs": [],
   "source": [
    "{k:len(v) for k,v in df.items()}"
   ]
  },
  {
   "cell_type": "code",
   "execution_count": null,
   "id": "efa17817-d9d0-47e2-99b7-fb659940faa0",
   "metadata": {},
   "outputs": [],
   "source": [
    "np.array(df['splitIdx']).flatten()"
   ]
  },
  {
   "cell_type": "code",
   "execution_count": null,
   "id": "3b3f5fa6-716a-402f-a5f4-08139d0137fc",
   "metadata": {},
   "outputs": [],
   "source": [
    "# create a new empty instance\n",
    "# d = benedict()\n",
    "\n",
    "# or cast an existing dict\n",
    "# d = benedict(existing_dict)\n",
    "\n",
    "# or create from data source (filepath, url or data-string) in a supported format:\n",
    "# Base64, CSV, JSON, TOML, XML, YAML, query-string\n",
    "# d = benedict('https://localhost:8000/data.json', format='json')\n",
    "d = benedict(str(session_xml_filepath.resolve()), format='xml')#['parameters']\n",
    "\n",
    "# # or in a Django view\n",
    "# params = benedict(request.GET.items())\n",
    "# page = params.get_int('page', 1)"
   ]
  },
  {
   "cell_type": "code",
   "execution_count": null,
   "id": "2cdd728a-4290-4d5d-b871-da3c01b619a5",
   "metadata": {},
   "outputs": [],
   "source": [
    "df[df.splitIdx==1]"
   ]
  },
  {
   "cell_type": "code",
   "execution_count": null,
   "id": "ad2238a6-2a6f-47eb-988c-45846713fd0b",
   "metadata": {},
   "outputs": [],
   "source": [
    "out_xml_dict['SpkGrps_ExtendedDf'].originalGroupIdx \n",
    "\n",
    "out_xml_dict['SpkGrps_ExtendedDf'].splitIdx\n",
    "\n",
    "# df['new_col'] = list(zip(df.lat, df.long))"
   ]
  },
  {
   "cell_type": "code",
   "execution_count": null,
   "id": "bd69df89-67da-45bf-9484-a10900efcb18",
   "metadata": {},
   "outputs": [],
   "source": [
    "df['groupIdx'] = list(zip(df.originalGroupIdx , df.splitIdx))\n",
    "# uniqueGroupSplitPairs = list(zip(df.originalGroupIdx.to_numpy() , df.splitIdx.to_numpy()))\n",
    "print(f'uniqueGroupSplitPairs: {df.groupIdx}')\n",
    "unique_groupPairs, indices = np.unique(df.groupIdx, return_inverse=True)\n",
    "# unique_groupPairs, indices = np.unique(df.groupIdx, return_index=True)\n",
    "print(f'unique_groupPairs: {unique_groupPairs}, indices: {indices}')\n",
    "df['groupIdx'] = indices"
   ]
  },
  {
   "cell_type": "code",
   "execution_count": null,
   "id": "0bb36e9d-9fcb-4dbf-a95c-810cb9c2ff02",
   "metadata": {},
   "outputs": [],
   "source": [
    "df['groupIdx'] = indices\n",
    "df\n",
    "\n",
    "\n",
    "# groupIdx = np.arange(len(unique_groupPairs))"
   ]
  },
  {
   "cell_type": "code",
   "execution_count": null,
   "id": "2aa73a24-88af-48c3-8a0c-506a4c9be931",
   "metadata": {},
   "outputs": [],
   "source": [
    "print_keys_if_possible('d', d)"
   ]
  },
  {
   "cell_type": "code",
   "execution_count": null,
   "id": "42417028-1e59-414a-b9d1-bf9b44a2cdea",
   "metadata": {},
   "outputs": [],
   "source": [
    "d.keypaths()"
   ]
  },
  {
   "cell_type": "code",
   "execution_count": null,
   "id": "b79405b3-87c4-434a-8de7-4a262bd99929",
   "metadata": {},
   "outputs": [],
   "source": [
    "d.get('parameters', None)"
   ]
  },
  {
   "cell_type": "code",
   "execution_count": null,
   "id": "571bbd5f-6fff-4ff3-9b78-1cd09be0c4ae",
   "metadata": {},
   "outputs": [],
   "source": [
    "'parameters.neuroscope'"
   ]
  },
  {
   "cell_type": "code",
   "execution_count": null,
   "id": "533b08ef-2710-44ae-b85c-5ffc1c4d4a29",
   "metadata": {},
   "outputs": [],
   "source": [
    "d['parameters.anatomicalDescription.channelGroups.group']\n",
    "# [{'channel': [{'@skip': '0', '#text': '72'},\n",
    "#    {'@skip': '0', '#text': '73'},\n",
    "#    {'@skip': '0', '#text': '74'},\n",
    "#    {'@skip': '0', '#text': '75'},\n",
    "#    {'@skip': '0', '#text': '76'},\n",
    "#    {'@skip': '0', '#text': '77'},\n",
    "#    {'@skip': '0', '#text': '78'},\n",
    "#    {'@skip': '0', '#text': '79'}]},\n",
    "#  {'channel': [{'@skip': '0', '#text': '80'},\n",
    "#    {'@skip': '0', '#text': '81'},\n",
    "#    {'@skip': '0', '#text': '82'},\n",
    "#    {'@skip': '0', '#text': '83'},\n",
    "#    {'@skip': '0', '#text': '84'},\n",
    "#    {'@skip': '0', '#text': '85'},\n",
    "#    {'@skip': '0', '#text': '86'},\n",
    "#    {'@skip': '0', '#text': '87'}]},"
   ]
  },
  {
   "cell_type": "code",
   "execution_count": null,
   "id": "07baeb97-8797-425a-b833-19a1e5439141",
   "metadata": {},
   "outputs": [],
   "source": [
    "def LoadXml(session_xml_filepath, debug_print=False):\n",
    "    d = benedict(str(session_xml_filepath.resolve()), format='xml')\n",
    "    out_xml_dict = {'nBits': int(d['parameters.acquisitionSystem.nBits']), 'nChannels': int(d['parameters.acquisitionSystem.nChannels']), 'samplingRate': int(d['parameters.acquisitionSystem.samplingRate']), 'voltageRange': int(d['parameters.acquisitionSystem.voltageRange']),\n",
    " 'amplification': int(d['parameters.acquisitionSystem.amplification']), 'offset': int(d['parameters.acquisitionSystem.offset'])}\n",
    "    out_xml_dict = out_xml_dict | {'Date':d['parameters.generalInfo.date']}\n",
    "    out_xml_dict = out_xml_dict | {'lfpSampleRate':int(d['parameters.fieldPotentials.lfpSamplingRate'])}\n",
    "    \n",
    "    MAX_CHANNEL_GROUP_LENGTH = 8\n",
    "    ## Processing Channel Groups:\n",
    "    out_channelGroupsList = []\n",
    "    # [{'channel': [{'@skip': '0', '#text': '72'},\n",
    "    #    {'@skip': '0', '#text': '73'},\n",
    "    #    {'@skip': '0', '#text': '74'},\n",
    "    #    {'@skip': '0', '#text': '75'},\n",
    "    #    {'@skip': '0', '#text': '76'},\n",
    "    #    {'@skip': '0', '#text': '77'},\n",
    "    #    {'@skip': '0', '#text': '78'},\n",
    "    #    {'@skip': '0', '#text': '79'}]},\n",
    "    #  {'channel': [{'@skip': '0', '#text': '80'},\n",
    "    #    {'@skip': '0', '#text': '81'},\n",
    "    #    {'@skip': '0', '#text': '82'},\n",
    "    #    {'@skip': '0', '#text': '83'},\n",
    "    #    {'@skip': '0', '#text': '84'},\n",
    "    #    {'@skip': '0', '#text': '85'},\n",
    "    #    {'@skip': '0', '#text': '86'},\n",
    "    #    {'@skip': '0', '#text': '87'}]},\n",
    "    #  ...\n",
    "    # ]\n",
    "    for a_group_dict in d['parameters.anatomicalDescription.channelGroups.group']:\n",
    "        \"\"\" a_channel_list: [{'@skip': '0', '#text': '72'}, {'@skip': '0', '#text': '73'}, {'@skip': '0', '#text': '74'}, {'@skip': '0', '#text': '75'}, {'@skip': '0', '#text': '76'}, {'@skip': '0', '#text': '77'}, {'@skip': '0', '#text': '78'}, {'@skip': '0', '#text': '79'}] \"\"\"\n",
    "        if debug_print:\n",
    "            print(a_group_dict['channel'])\n",
    "        a_channel_list = [int(a_channel_entry['#text']) for a_channel_entry in a_group_dict['channel'] if a_channel_entry['@skip']=='0']\n",
    "        if debug_print:\n",
    "            print(a_channel_list)\n",
    "        if len(a_channel_list) > MAX_CHANNEL_GROUP_LENGTH:\n",
    "            # split long groups\n",
    "            if debug_print:\n",
    "                print(f'MAX_CHANNEL_GROUP_LENGTH: {MAX_CHANNEL_GROUP_LENGTH}')\n",
    "            chunked_channel_lists = [a_channel_list[i:i+MAX_CHANNEL_GROUP_LENGTH] for i in range(0, len(a_channel_list), MAX_CHANNEL_GROUP_LENGTH)]\n",
    "            # chunked_channel_lists = [list(array) for array in np.array_split(np.array(a_channel_list), MAX_CHANNEL_GROUP_LENGTH)]\n",
    "            out_channelGroupsList.extend(chunked_channel_lists)\n",
    "            if debug_print:\n",
    "                print(f'split list: {a_channel_list} -> {chunked_channel_lists}')\n",
    "        else:\n",
    "            out_channelGroupsList.append(a_channel_list)\n",
    "\n",
    "    out_xml_dict['ElecGp'] = out_channelGroupsList\n",
    "    out_xml_dict['nElecGps'] = len(out_channelGroupsList)\n",
    "    \n",
    "    \n",
    "    ## Processing Spike Groups:\n",
    "    out_spikeGroupsList = []\n",
    "    # [{'channels': {'channel': ['0', '1', '2', '3', '4', '5', '6', '7']},\n",
    "    #   'nSamples': '54',\n",
    "    #   'peakSampleIndex': '26',\n",
    "    #   'nFeatures': '3'},\n",
    "    #  {'channels': {'channel': ['8', '9', '10', '11', '12', '13', '14', '15']},\n",
    "    #   'nSamples': '54',\n",
    "    #   'peakSampleIndex': '26',\n",
    "    #   'nFeatures': '3'}, ...\n",
    "\n",
    "    for a_group_dict in d['parameters.spikeDetection.channelGroups.group']:\n",
    "        \"\"\" a_channel_list: {'channels': {'channel': ['0', '1', '2', '3', '4', '5', '6', '7']}, 'nSamples': '54', 'peakSampleIndex': '26', 'nFeatures': '3'} \"\"\"\n",
    "        if debug_print:\n",
    "            print(a_group_dict)\n",
    "            print(a_group_dict['channels']['channel']) # ['0', '1', '2', '3', '4', '5', '6', '7']\n",
    "        a_channel_list = [int(a_channel_entry) for a_channel_entry in a_group_dict['channels']['channel']]\n",
    "        if debug_print:\n",
    "            print(a_channel_list)\n",
    "        if len(a_channel_list) > MAX_CHANNEL_GROUP_LENGTH:\n",
    "            # split long groups\n",
    "            if debug_print:\n",
    "                print(f'MAX_CHANNEL_GROUP_LENGTH: {MAX_CHANNEL_GROUP_LENGTH}')\n",
    "            chunked_channel_lists = [a_channel_list[i:i+MAX_CHANNEL_GROUP_LENGTH] for i in range(0, len(a_channel_list), MAX_CHANNEL_GROUP_LENGTH)]\n",
    "            out_spikeGroupsList.extend(chunked_channel_lists)\n",
    "            if debug_print:\n",
    "                print(f'split list: {a_channel_list} -> {chunked_channel_lists}')\n",
    "        else:\n",
    "            out_spikeGroupsList.append(a_channel_list)\n",
    "\n",
    "    out_xml_dict['SpkGrps'] = out_spikeGroupsList\n",
    "    \n",
    "    return out_xml_dict, d\n",
    "\n",
    "out_xml_dict, d = LoadXml(session_xml_filepath)\n",
    "out_xml_dict"
   ]
  },
  {
   "cell_type": "code",
   "execution_count": null,
   "id": "8fe34b1e-ab5d-4c3a-b2b0-aaab42e0d811",
   "metadata": {},
   "outputs": [],
   "source": []
  },
  {
   "cell_type": "code",
   "execution_count": null,
   "id": "13d342d4-fe2e-4a14-abcb-19ffbf8847d1",
   "metadata": {},
   "outputs": [],
   "source": [
    "\n",
    "\n",
    "# nElecGps\n",
    "\n",
    "debug_print = True\n",
    "\n",
    "        \n",
    "out_spikeGroupsList"
   ]
  },
  {
   "cell_type": "code",
   "execution_count": null,
   "id": "fddbad35-e1cb-41fe-a7dd-edfa52378082",
   "metadata": {},
   "outputs": [],
   "source": [
    "out_xml_dict = {'nBits': int(d['parameters.acquisitionSystem.nBits']), 'nChannels': int(d['parameters.acquisitionSystem.nChannels']), 'samplingRate': int(d['parameters.acquisitionSystem.samplingRate']), 'voltageRange': int(d['parameters.acquisitionSystem.voltageRange']),\n",
    " 'amplification': int(d['parameters.acquisitionSystem.amplification']), 'offset': int(d['parameters.acquisitionSystem.offset'])}"
   ]
  },
  {
   "cell_type": "code",
   "execution_count": null,
   "id": "c11b95b4-1ce0-491d-86ff-deec5c301188",
   "metadata": {},
   "outputs": [],
   "source": [
    "out_xml_dict = out_xml_dict | {'Date':d['parameters.generalInfo.date']}\n",
    "out_xml_dict"
   ]
  },
  {
   "cell_type": "code",
   "execution_count": null,
   "id": "b09d40b4-a528-4697-b2a0-28ea696e7370",
   "metadata": {},
   "outputs": [],
   "source": [
    "out_xml_dict = out_xml_dict | {'lfpSampleRate':int(d['parameters.fieldPotentials.lfpSamplingRate'])}\n",
    "out_xml_dict"
   ]
  },
  {
   "cell_type": "code",
   "execution_count": null,
   "id": "4e2df30b-cbd9-48e0-9b39-644dab468b9d",
   "metadata": {},
   "outputs": [],
   "source": [
    "out_channelGroupsList = []\n",
    "MAX_CHANNEL_GROUP_LENGTH = 8\n",
    "for a_group_dict in d['parameters.anatomicalDescription.channelGroups.group']:\n",
    "    \"\"\" a_channel_list: [{'@skip': '0', '#text': '72'}, {'@skip': '0', '#text': '73'}, {'@skip': '0', '#text': '74'}, {'@skip': '0', '#text': '75'}, {'@skip': '0', '#text': '76'}, {'@skip': '0', '#text': '77'}, {'@skip': '0', '#text': '78'}, {'@skip': '0', '#text': '79'}] \"\"\"\n",
    "    # print(a_group_dict['channel'])\n",
    "    a_channel_list = [int(a_channel_entry['#text']) for a_channel_entry in a_group_dict['channel'] if a_channel_entry['@skip']=='0']\n",
    "    print(a_channel_list)\n",
    "    if len(a_channel_list) > MAX_CHANNEL_GROUP_LENGTH:\n",
    "        # split long groups\n",
    "        # print(f'MAX_CHANNEL_GROUP_LENGTH: {MAX_CHANNEL_GROUP_LENGTH}')\n",
    "        chunked_channel_lists = [a_channel_list[i:i+MAX_CHANNEL_GROUP_LENGTH] for i in range(0, len(a_channel_list), MAX_CHANNEL_GROUP_LENGTH)]\n",
    "        # chunked_channel_lists = [list(array) for array in np.array_split(np.array(a_channel_list), MAX_CHANNEL_GROUP_LENGTH)]\n",
    "        out_channelGroupsList.extend(chunked_channel_lists)\n",
    "        # print(chunked_list)# Returns: [[1, 2, 3], [4, 5, 6], [7, 8, 9]]\n",
    "        # print(f'split list: {a_channel_list} -> {chunked_channel_lists}')\n",
    "    else:\n",
    "        out_channelGroupsList.append(a_channel_list)\n",
    "# [{'channel': [{'@skip': '0', '#text': '72'},\n",
    "#    {'@skip': '0', '#text': '73'},\n",
    "#    {'@skip': '0', '#text': '74'},\n",
    "#    {'@skip': '0', '#text': '75'},\n",
    "#    {'@skip': '0', '#text': '76'},\n",
    "#    {'@skip': '0', '#text': '77'},\n",
    "#    {'@skip': '0', '#text': '78'},\n",
    "#    {'@skip': '0', '#text': '79'}]},\n",
    "#  {'channel': [{'@skip': '0', '#text': '80'},\n",
    "#    {'@skip': '0', '#text': '81'},\n",
    "#    {'@skip': '0', '#text': '82'},\n",
    "#    {'@skip': '0', '#text': '83'},\n",
    "#    {'@skip': '0', '#text': '84'},\n",
    "#    {'@skip': '0', '#text': '85'},\n",
    "#    {'@skip': '0', '#text': '86'},\n",
    "#    {'@skip': '0', '#text': '87'}]},\n",
    "#  ...\n",
    "# ]\n",
    "\n",
    "out_channelGroupsList"
   ]
  },
  {
   "cell_type": "code",
   "execution_count": null,
   "id": "3fb1b0b8-4223-4ff9-8e47-057c653b0971",
   "metadata": {},
   "outputs": [],
   "source": []
  },
  {
   "cell_type": "code",
   "execution_count": null,
   "id": "81bb44d2-69e6-4308-9937-c69fadf216cf",
   "metadata": {},
   "outputs": [],
   "source": []
  },
  {
   "cell_type": "code",
   "execution_count": null,
   "id": "ab59a20d-8a37-438d-9a0a-3f08bfc27739",
   "metadata": {},
   "outputs": [],
   "source": [
    "d['parameters.acquisitionSystem'] # {'nBits': '16', 'nChannels': '96', 'samplingRate': '32552', 'voltageRange': '20', 'amplification': '1000', 'offset': '0'}"
   ]
  },
  {
   "cell_type": "code",
   "execution_count": null,
   "id": "679c5171-4f61-4aa9-80ea-bf077666067b",
   "metadata": {},
   "outputs": [],
   "source": [
    "int(d['parameters.acquisitionSystem']['nChannels'])\n",
    "\n",
    "# float(a)"
   ]
  },
  {
   "cell_type": "code",
   "execution_count": null,
   "id": "9785deb2-3a3f-489a-a924-369d160dcd3a",
   "metadata": {},
   "outputs": [],
   "source": []
  },
  {
   "cell_type": "code",
   "execution_count": null,
   "id": "884bd16a-0cc2-441f-bf48-522884c81ae6",
   "metadata": {},
   "outputs": [],
   "source": [
    "out_xml_dict['AnatGrps']"
   ]
  },
  {
   "cell_type": "code",
   "execution_count": null,
   "id": "93755119-66c3-4129-bc95-f20c738164f6",
   "metadata": {},
   "outputs": [],
   "source": []
  },
  {
   "cell_type": "code",
   "execution_count": null,
   "id": "f32734d8-02cf-46c9-bee0-0b5a69acbd41",
   "metadata": {},
   "outputs": [],
   "source": []
  },
  {
   "cell_type": "code",
   "execution_count": null,
   "id": "c8c24fb6-dd48-46b6-98b7-93cfbe31bd64",
   "metadata": {},
   "outputs": [],
   "source": []
  },
  {
   "cell_type": "code",
   "execution_count": null,
   "id": "a0e41c4c-8702-4d49-b465-7e430521f448",
   "metadata": {},
   "outputs": [],
   "source": []
  },
  {
   "cell_type": "code",
   "execution_count": null,
   "id": "515a2752-1007-435f-8a7c-513bbc9f99ce",
   "metadata": {},
   "outputs": [],
   "source": [
    "d = {\n",
    "    \"out_xml_dict\": out_xml_dict,\n",
    "}"
   ]
  },
  {
   "cell_type": "code",
   "execution_count": null,
   "id": "5d16d135-bd20-4590-81a1-63e1f3862a80",
   "metadata": {},
   "outputs": [],
   "source": [
    "import pyphoplacecellanalysis.External.pyqtgraph as pg\n",
    "from pyphoplacecellanalysis.External.pyqtgraph.Qt import QtCore, QtGui \n",
    "from pyphoplacecellanalysis.GUI.PyQtPlot.pyqtplot_DataTreeWidget import plot_dataTreeWidget\n",
    "tree, app = plot_dataTreeWidget(data=out_xml_dict, title='PhoOutputDataTreeApp')\n",
    "tree.show()\n",
    "pg.exec() # required in an empty notebook to get the window to show instead of just launching and locking up"
   ]
  },
  {
   "cell_type": "code",
   "execution_count": null,
   "id": "962257da-2582-4d8f-accc-08b42fe401ea",
   "metadata": {},
   "outputs": [],
   "source": []
  }
 ],
 "metadata": {
  "kernelspec": {
   "display_name": "Python [conda env:phoviz_ultimate]",
   "language": "python",
   "name": "conda-env-phoviz_ultimate-py"
  },
  "language_info": {
   "codemirror_mode": {
    "name": "ipython",
    "version": 3
   },
   "file_extension": ".py",
   "mimetype": "text/x-python",
   "name": "python",
   "nbconvert_exporter": "python",
   "pygments_lexer": "ipython3",
   "version": "3.9.13"
  }
 },
 "nbformat": 4,
 "nbformat_minor": 5
}
