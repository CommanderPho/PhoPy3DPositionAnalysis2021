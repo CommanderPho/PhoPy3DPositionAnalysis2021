{
 "cells": [
  {
   "cell_type": "code",
   "execution_count": 1,
   "id": "7ef27568-6dbd-4d5a-81c6-d419226a31ac",
   "metadata": {},
   "outputs": [],
   "source": [
    "# import pyqtgraph.examples\n",
    "# pyqtgraph.examples.run()"
   ]
  },
  {
   "cell_type": "code",
   "execution_count": 2,
   "id": "1d2f5d4b-e5f5-402a-8973-8a195722779a",
   "metadata": {},
   "outputs": [],
   "source": [
    "from pyqtgraph.Qt import QtGui, QtCore\n",
    "import numpy as np\n",
    "import pyqtgraph as pg"
   ]
  },
  {
   "cell_type": "code",
   "execution_count": 3,
   "id": "04fe2291-812a-4418-be4a-46f34bd4c6ec",
   "metadata": {},
   "outputs": [],
   "source": [
    "test_points = np.array([[1, 2], [4, 2]]).T\n",
    "\n",
    "# Random points:\n",
    "# n = 300\n",
    "# test_points = np.random.normal(size=(2,n), scale=1e-5)"
   ]
  },
  {
   "cell_type": "code",
   "execution_count": 4,
   "id": "087f8b80-038e-44b7-97fb-db35735bf19b",
   "metadata": {},
   "outputs": [
    {
     "data": {
      "text/plain": [
       "0"
      ]
     },
     "execution_count": 4,
     "metadata": {},
     "output_type": "execute_result"
    }
   ],
   "source": [
    "app = pg.mkQApp(\"Pho Hale PSYCH 240 Example\") \n",
    "mw = QtGui.QMainWindow()\n",
    "mw.resize(800,800)\n",
    "view = pg.GraphicsLayoutWidget()  ## GraphicsView with GraphicsLayout inserted by default\n",
    "mw.setCentralWidget(view)\n",
    "mw.show()\n",
    "mw.setWindowTitle('Pho Hale PSYCH 240 Example 1')\n",
    "w1 = view.addPlot()\n",
    "s1 = pg.ScatterPlotItem(size=10, pen=pg.mkPen(None), symbolBrush=(255,0,0), symbolPen='w', brush=pg.mkBrush(255, 255, 255, 120))\n",
    "l1 = pg.PlotDataItem(antialias=True, pen=pen_aps_model)\n",
    "# pg.LineSegmentROI(size\n",
    "# .plot(np.random.normal(size=100), pen=(200,200,200), symbolBrush=(255,0,0), symbolPen='w')\n",
    "\n",
    "def build_spot_data(pos):\n",
    "    spots = [{'pos': pos[:,i], 'data': 1} for i in range(np.shape(pos)[1])] # + [{'pos': [0,0], 'data': 1}]\n",
    "    return spots\n",
    "    \n",
    "spots = build_spot_data(test_points)\n",
    "s1.addPoints(spots)\n",
    "w1.addItem(s1)\n",
    "# s1.sigClicked.connect(clicked)\n",
    "\n",
    "# mw.show()\n",
    "\n",
    "app.exec()\n",
    "\n"
   ]
  },
  {
   "cell_type": "code",
   "execution_count": 4,
   "id": "df7ad1c9-303d-4975-823b-8682722b95a5",
   "metadata": {},
   "outputs": [],
   "source": []
  }
 ],
 "metadata": {
  "kernelspec": {
   "display_name": "Python 3 (ipykernel)",
   "language": "python",
   "name": "python3"
  },
  "language_info": {
   "codemirror_mode": {
    "name": "ipython",
    "version": 3
   },
   "file_extension": ".py",
   "mimetype": "text/x-python",
   "name": "python",
   "nbconvert_exporter": "python",
   "pygments_lexer": "ipython3",
   "version": "3.9.5"
  }
 },
 "nbformat": 4,
 "nbformat_minor": 5
}
