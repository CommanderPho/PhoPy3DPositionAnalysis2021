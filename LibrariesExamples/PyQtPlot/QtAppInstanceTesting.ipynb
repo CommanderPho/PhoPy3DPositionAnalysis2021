{
 "cells": [
  {
   "cell_type": "code",
   "execution_count": 1,
   "id": "c62d0d1f-ebc4-48d3-8b39-32d120102c5e",
   "metadata": {},
   "outputs": [],
   "source": [
    "import sys\n",
    "import pyqtgraph as pg\n",
    "from pyqtgraph.Qt import QtCore, QtGui, QtWidgets"
   ]
  },
  {
   "cell_type": "code",
   "execution_count": 2,
   "id": "355d391d-11f4-46f9-bba7-1f6d1993eaa1",
   "metadata": {},
   "outputs": [
    {
     "data": {
      "text/plain": [
       "<PyQt5.QtWidgets.QApplication at 0x21be9d63430>"
      ]
     },
     "execution_count": 2,
     "metadata": {},
     "output_type": "execute_result"
    }
   ],
   "source": [
    "app = pg.mkQApp(\"SpikeRasterBase\")\n",
    "app"
   ]
  },
  {
   "cell_type": "code",
   "execution_count": 5,
   "id": "b836fcdf-030b-4ada-8fed-e26bd090afec",
   "metadata": {},
   "outputs": [
    {
     "data": {
      "text/plain": [
       "[]"
      ]
     },
     "execution_count": 5,
     "metadata": {},
     "output_type": "execute_result"
    }
   ],
   "source": [
    "app.topLevelWidgets()"
   ]
  },
  {
   "cell_type": "code",
   "execution_count": 6,
   "id": "3495120f-0b6a-4c9b-8793-a49b4315af88",
   "metadata": {},
   "outputs": [
    {
     "data": {
      "text/plain": [
       "[]"
      ]
     },
     "execution_count": 6,
     "metadata": {},
     "output_type": "execute_result"
    }
   ],
   "source": [
    "app.topLevelWindows()"
   ]
  },
  {
   "cell_type": "code",
   "execution_count": 7,
   "id": "174b123c-8715-4d58-a303-5bdefc7ed50f",
   "metadata": {},
   "outputs": [],
   "source": [
    "pg.mkQApp()"
   ]
  },
  {
   "cell_type": "code",
   "execution_count": null,
   "id": "dc8670cf-41f2-4ba9-a494-e44641f852df",
   "metadata": {},
   "outputs": [],
   "source": []
  }
 ],
 "metadata": {
  "kernelspec": {
   "display_name": "Python [conda env:phoviz_ultimate]",
   "language": "python",
   "name": "conda-env-phoviz_ultimate-py"
  },
  "language_info": {
   "codemirror_mode": {
    "name": "ipython",
    "version": 3
   },
   "file_extension": ".py",
   "mimetype": "text/x-python",
   "name": "python",
   "nbconvert_exporter": "python",
   "pygments_lexer": "ipython3",
   "version": "3.9.12"
  }
 },
 "nbformat": 4,
 "nbformat_minor": 5
}
