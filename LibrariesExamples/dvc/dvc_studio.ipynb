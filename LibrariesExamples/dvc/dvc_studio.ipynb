{
 "cells": [
  {
   "cell_type": "code",
   "execution_count": 2,
   "metadata": {},
   "outputs": [],
   "source": [
    "from dvclive import Live"
   ]
  },
  {
   "cell_type": "code",
   "execution_count": 9,
   "metadata": {},
   "outputs": [
    {
     "data": {
      "text/html": [
       "<pre style=\"white-space:pre;overflow-x:auto;line-height:normal;font-family:Menlo,'DejaVu Sans Mono',consolas,'Courier New',monospace\"></pre>\n"
      ],
      "text/plain": []
     },
     "metadata": {},
     "output_type": "display_data"
    },
    {
     "name": "stderr",
     "output_type": "stream",
     "text": [
      "WARNING:dvclive:Can't use 'pipelineLog' as artifact name (ID). It will not be included in the `artifacts` section.\n"
     ]
    }
   ],
   "source": [
    "\n",
    "with Live(save_dvc_exp=True) as live:\n",
    "\tNUM_EPOCHS = 5\n",
    "\t\n",
    "\tlive.log_param(\"epochs\", NUM_EPOCHS)\n",
    "\n",
    "\tfor epoch in range(NUM_EPOCHS):\n",
    "\t    # train_model(...)\n",
    "\t    metrics = {'name':epoch, 'v0': float(epoch)*2.0} # evaluate_model(...)\n",
    "\n",
    "\t    for metric_name, value in metrics.items():\n",
    "\t        live.log_metric(metric_name, value)\n",
    "\n",
    "\t    live.next_step()\n",
    "\n",
    "\tparams = {\n",
    "\t\t\"num_classes\": 10,\n",
    "\t\t\"metrics\": [\"accuracy\", \"mae\"],\n",
    "\t\t\"optimizer\": \"adam\"\n",
    "\t}\n",
    "\tlive.log_params(params)\n",
    "\tlive.log_artifact(\"../../scripts/EXTERNAL/TESTING/Logging/debug_com.PhoHale.Spike3D.pipeline.log\", type=\"log\", name=\"pipelineLog\")\n"
   ]
  },
  {
   "cell_type": "code",
   "execution_count": null,
   "metadata": {},
   "outputs": [],
   "source": []
  }
 ],
 "metadata": {
  "kernelspec": {
   "display_name": "spike3d-u9wuHq2d-py3.9",
   "language": "python",
   "name": "python3"
  },
  "language_info": {
   "codemirror_mode": {
    "name": "ipython",
    "version": 3
   },
   "file_extension": ".py",
   "mimetype": "text/x-python",
   "name": "python",
   "nbconvert_exporter": "python",
   "pygments_lexer": "ipython3",
   "version": "3.9.13"
  },
  "orig_nbformat": 4
 },
 "nbformat": 4,
 "nbformat_minor": 2
}
