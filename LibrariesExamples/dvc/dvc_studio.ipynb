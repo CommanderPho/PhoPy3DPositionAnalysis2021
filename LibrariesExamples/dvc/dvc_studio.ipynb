{
 "cells": [
  {
   "cell_type": "code",
   "execution_count": 5,
   "metadata": {},
   "outputs": [],
   "source": [
    "from dvclive import Live\n"
   ]
  },
  {
   "cell_type": "code",
   "execution_count": 6,
   "metadata": {},
   "outputs": [
    {
     "ename": "GitError",
     "evalue": "the index is locked; this might be due to a concurrent or crashed process",
     "output_type": "error",
     "traceback": [
      "\u001b[1;31m---------------------------------------------------------------------------\u001b[0m",
      "\u001b[1;31mGitError\u001b[0m                                  Traceback (most recent call last)",
      "Cell \u001b[1;32mIn[6], line 19\u001b[0m\n\u001b[0;32m      5\u001b[0m \u001b[39m# for epoch in range(NUM_EPOCHS):\u001b[39;00m\n\u001b[0;32m      6\u001b[0m \u001b[39m#     train_model(...)\u001b[39;00m\n\u001b[0;32m      7\u001b[0m \u001b[39m#     metrics = evaluate_model(...)\u001b[39;00m\n\u001b[1;32m   (...)\u001b[0m\n\u001b[0;32m     11\u001b[0m \n\u001b[0;32m     12\u001b[0m \u001b[39m#     live.next_step()\u001b[39;00m\n\u001b[0;32m     14\u001b[0m params \u001b[39m=\u001b[39m {\n\u001b[0;32m     15\u001b[0m \t\u001b[39m\"\u001b[39m\u001b[39mnum_classes\u001b[39m\u001b[39m\"\u001b[39m: \u001b[39m10\u001b[39m,\n\u001b[0;32m     16\u001b[0m \t\u001b[39m\"\u001b[39m\u001b[39mmetrics\u001b[39m\u001b[39m\"\u001b[39m: [\u001b[39m\"\u001b[39m\u001b[39maccuracy\u001b[39m\u001b[39m\"\u001b[39m, \u001b[39m\"\u001b[39m\u001b[39mmae\u001b[39m\u001b[39m\"\u001b[39m],\n\u001b[0;32m     17\u001b[0m \t\u001b[39m\"\u001b[39m\u001b[39moptimizer\u001b[39m\u001b[39m\"\u001b[39m: \u001b[39m\"\u001b[39m\u001b[39madam\u001b[39m\u001b[39m\"\u001b[39m\n\u001b[0;32m     18\u001b[0m }\n\u001b[1;32m---> 19\u001b[0m live\u001b[39m.\u001b[39mlog_params(params)\n",
      "File \u001b[1;32mc:\\Users\\pho\\AppData\\Local\\pypoetry\\Cache\\virtualenvs\\spike3d-WtdfU5rp-py3.9\\lib\\site-packages\\dvclive\\live.py:421\u001b[0m, in \u001b[0;36mLive.__exit__\u001b[1;34m(self, exc_type, exc_val, exc_tb)\u001b[0m\n\u001b[0;32m    419\u001b[0m \u001b[39mdef\u001b[39;00m \u001b[39m__exit__\u001b[39m(\u001b[39mself\u001b[39m, exc_type, exc_val, exc_tb):\n\u001b[0;32m    420\u001b[0m     \u001b[39mself\u001b[39m\u001b[39m.\u001b[39m_inside_with \u001b[39m=\u001b[39m \u001b[39mFalse\u001b[39;00m\n\u001b[1;32m--> 421\u001b[0m     \u001b[39mself\u001b[39;49m\u001b[39m.\u001b[39;49mend()\n",
      "File \u001b[1;32mc:\\Users\\pho\\AppData\\Local\\pypoetry\\Cache\\virtualenvs\\spike3d-WtdfU5rp-py3.9\\lib\\site-packages\\dvclive\\live.py:396\u001b[0m, in \u001b[0;36mLive.end\u001b[1;34m(self)\u001b[0m\n\u001b[0;32m    389\u001b[0m     \u001b[39mself\u001b[39m\u001b[39m.\u001b[39mmake_report()\n\u001b[0;32m    391\u001b[0m \u001b[39mif\u001b[39;00m (\n\u001b[0;32m    392\u001b[0m     \u001b[39mself\u001b[39m\u001b[39m.\u001b[39m_dvc_repo \u001b[39mis\u001b[39;00m \u001b[39mnot\u001b[39;00m \u001b[39mNone\u001b[39;00m\n\u001b[0;32m    393\u001b[0m     \u001b[39mand\u001b[39;00m \u001b[39mnot\u001b[39;00m \u001b[39mself\u001b[39m\u001b[39m.\u001b[39m_inside_dvc_exp\n\u001b[0;32m    394\u001b[0m     \u001b[39mand\u001b[39;00m \u001b[39mself\u001b[39m\u001b[39m.\u001b[39m_save_dvc_exp\n\u001b[0;32m    395\u001b[0m ):\n\u001b[1;32m--> 396\u001b[0m     \u001b[39mself\u001b[39m\u001b[39m.\u001b[39m_experiment_rev \u001b[39m=\u001b[39m \u001b[39mself\u001b[39;49m\u001b[39m.\u001b[39;49m_dvc_repo\u001b[39m.\u001b[39;49mexperiments\u001b[39m.\u001b[39;49msave(\n\u001b[0;32m    397\u001b[0m         name\u001b[39m=\u001b[39;49m\u001b[39mself\u001b[39;49m\u001b[39m.\u001b[39;49m_exp_name, include_untracked\u001b[39m=\u001b[39;49m\u001b[39mself\u001b[39;49m\u001b[39m.\u001b[39;49mdir, force\u001b[39m=\u001b[39;49m\u001b[39mTrue\u001b[39;49;00m\n\u001b[0;32m    398\u001b[0m     )\n\u001b[0;32m    399\u001b[0m     mark_dvclive_only_ended()\n",
      "File \u001b[1;32mc:\\Users\\pho\\AppData\\Local\\pypoetry\\Cache\\virtualenvs\\spike3d-WtdfU5rp-py3.9\\lib\\site-packages\\dvc\\repo\\experiments\\__init__.py:484\u001b[0m, in \u001b[0;36mExperiments.save\u001b[1;34m(self, *args, **kwargs)\u001b[0m\n\u001b[0;32m    481\u001b[0m \u001b[39mdef\u001b[39;00m \u001b[39msave\u001b[39m(\u001b[39mself\u001b[39m, \u001b[39m*\u001b[39margs, \u001b[39m*\u001b[39m\u001b[39m*\u001b[39mkwargs):\n\u001b[0;32m    482\u001b[0m     \u001b[39mfrom\u001b[39;00m \u001b[39mdvc\u001b[39;00m\u001b[39m.\u001b[39;00m\u001b[39mrepo\u001b[39;00m\u001b[39m.\u001b[39;00m\u001b[39mexperiments\u001b[39;00m\u001b[39m.\u001b[39;00m\u001b[39msave\u001b[39;00m \u001b[39mimport\u001b[39;00m save\n\u001b[1;32m--> 484\u001b[0m     \u001b[39mreturn\u001b[39;00m save(\u001b[39mself\u001b[39m\u001b[39m.\u001b[39mrepo, \u001b[39m*\u001b[39margs, \u001b[39m*\u001b[39m\u001b[39m*\u001b[39mkwargs)\n",
      "File \u001b[1;32mc:\\Users\\pho\\AppData\\Local\\pypoetry\\Cache\\virtualenvs\\spike3d-WtdfU5rp-py3.9\\lib\\site-packages\\dvc\\repo\\experiments\\save.py:27\u001b[0m, in \u001b[0;36msave\u001b[1;34m(repo, name, force, include_untracked)\u001b[0m\n\u001b[0;32m     24\u001b[0m logger\u001b[39m.\u001b[39mdebug(\u001b[39m\"\u001b[39m\u001b[39mSaving workspace in \u001b[39m\u001b[39m%s\u001b[39;00m\u001b[39m\"\u001b[39m, os\u001b[39m.\u001b[39mgetcwd())\n\u001b[0;32m     26\u001b[0m queue \u001b[39m=\u001b[39m repo\u001b[39m.\u001b[39mexperiments\u001b[39m.\u001b[39mworkspace_queue\n\u001b[1;32m---> 27\u001b[0m entry \u001b[39m=\u001b[39m repo\u001b[39m.\u001b[39;49mexperiments\u001b[39m.\u001b[39;49mnew(queue\u001b[39m=\u001b[39;49mqueue, name\u001b[39m=\u001b[39;49mname, force\u001b[39m=\u001b[39;49mforce)\n\u001b[0;32m     28\u001b[0m executor \u001b[39m=\u001b[39m queue\u001b[39m.\u001b[39minit_executor(repo\u001b[39m.\u001b[39mexperiments, entry)\n\u001b[0;32m     30\u001b[0m \u001b[39mtry\u001b[39;00m:\n",
      "File \u001b[1;32mc:\\Users\\pho\\AppData\\Local\\pypoetry\\Cache\\virtualenvs\\spike3d-WtdfU5rp-py3.9\\lib\\site-packages\\dvc\\repo\\experiments\\__init__.py:279\u001b[0m, in \u001b[0;36mExperiments.new\u001b[1;34m(self, queue, checkpoint_resume, *args, **kwargs)\u001b[0m\n\u001b[0;32m    276\u001b[0m     \u001b[39mif\u001b[39;00m \u001b[39mself\u001b[39m\u001b[39m.\u001b[39mscm\u001b[39m.\u001b[39mget_ref(\u001b[39mstr\u001b[39m(exp_ref)) \u001b[39mand\u001b[39;00m \u001b[39mnot\u001b[39;00m force:\n\u001b[0;32m    277\u001b[0m         \u001b[39mraise\u001b[39;00m ExperimentExistsError(exp_ref\u001b[39m.\u001b[39mname)\n\u001b[1;32m--> 279\u001b[0m \u001b[39mreturn\u001b[39;00m queue\u001b[39m.\u001b[39mput(\u001b[39m*\u001b[39margs, \u001b[39m*\u001b[39m\u001b[39m*\u001b[39mkwargs)\n",
      "File \u001b[1;32mc:\\Users\\pho\\AppData\\Local\\pypoetry\\Cache\\virtualenvs\\spike3d-WtdfU5rp-py3.9\\lib\\site-packages\\dvc\\repo\\experiments\\queue\\workspace.py:37\u001b[0m, in \u001b[0;36mWorkspaceQueue.put\u001b[1;34m(self, *args, **kwargs)\u001b[0m\n\u001b[0;32m     35\u001b[0m kwargs\u001b[39m.\u001b[39mpop(\u001b[39m\"\u001b[39m\u001b[39mcopy_paths\u001b[39m\u001b[39m\"\u001b[39m, \u001b[39mNone\u001b[39;00m)\n\u001b[0;32m     36\u001b[0m \u001b[39mwith\u001b[39;00m get_exp_rwlock(\u001b[39mself\u001b[39m\u001b[39m.\u001b[39mrepo, writes\u001b[39m=\u001b[39m[\u001b[39m\"\u001b[39m\u001b[39mworkspace\u001b[39m\u001b[39m\"\u001b[39m, WORKSPACE_STASH]):\n\u001b[1;32m---> 37\u001b[0m     \u001b[39mreturn\u001b[39;00m \u001b[39mself\u001b[39m\u001b[39m.\u001b[39m_stash_exp(\u001b[39m*\u001b[39margs, \u001b[39m*\u001b[39m\u001b[39m*\u001b[39mkwargs)\n",
      "File \u001b[1;32mc:\\Users\\pho\\AppData\\Local\\pypoetry\\Cache\\virtualenvs\\spike3d-WtdfU5rp-py3.9\\lib\\site-packages\\dvc\\repo\\experiments\\queue\\base.py:331\u001b[0m, in \u001b[0;36mBaseStashQueue._stash_exp\u001b[1;34m(self, params, resume_rev, baseline_rev, branch, name, *args, **kwargs)\u001b[0m\n\u001b[0;32m    303\u001b[0m \u001b[39mdef\u001b[39;00m \u001b[39m_stash_exp\u001b[39m(  \u001b[39m# noqa: PLR0915, C901\u001b[39;00m\n\u001b[0;32m    304\u001b[0m     \u001b[39mself\u001b[39m,\n\u001b[0;32m    305\u001b[0m     \u001b[39m*\u001b[39margs,\n\u001b[1;32m   (...)\u001b[0m\n\u001b[0;32m    311\u001b[0m     \u001b[39m*\u001b[39m\u001b[39m*\u001b[39mkwargs,\n\u001b[0;32m    312\u001b[0m ) \u001b[39m-\u001b[39m\u001b[39m>\u001b[39m QueueEntry:\n\u001b[0;32m    313\u001b[0m \u001b[39m    \u001b[39m\u001b[39m\"\"\"Stash changes from the workspace as an experiment.\u001b[39;00m\n\u001b[0;32m    314\u001b[0m \n\u001b[0;32m    315\u001b[0m \u001b[39m    Args:\u001b[39;00m\n\u001b[1;32m   (...)\u001b[0m\n\u001b[0;32m    329\u001b[0m \u001b[39m        https://hydra.cc/docs/next/advanced/override_grammar/basic/\u001b[39;00m\n\u001b[0;32m    330\u001b[0m \u001b[39m    \"\"\"\u001b[39;00m\n\u001b[1;32m--> 331\u001b[0m     \u001b[39mwith\u001b[39;00m \u001b[39mself\u001b[39m\u001b[39m.\u001b[39mscm\u001b[39m.\u001b[39mstash_workspace(reinstate_index\u001b[39m=\u001b[39m\u001b[39mTrue\u001b[39;00m) \u001b[39mas\u001b[39;00m workspace:\n\u001b[0;32m    332\u001b[0m         \u001b[39mwith\u001b[39;00m \u001b[39mself\u001b[39m\u001b[39m.\u001b[39mscm\u001b[39m.\u001b[39mdetach_head(client\u001b[39m=\u001b[39m\u001b[39m\"\u001b[39m\u001b[39mdvc\u001b[39m\u001b[39m\"\u001b[39m) \u001b[39mas\u001b[39;00m orig_head:\n\u001b[0;32m    333\u001b[0m             stash_head \u001b[39m=\u001b[39m orig_head\n",
      "File \u001b[1;32m~\\.pyenv\\pyenv-win\\versions\\3.9.13\\lib\\contextlib.py:119\u001b[0m, in \u001b[0;36m_GeneratorContextManager.__enter__\u001b[1;34m(self)\u001b[0m\n\u001b[0;32m    117\u001b[0m \u001b[39mdel\u001b[39;00m \u001b[39mself\u001b[39m\u001b[39m.\u001b[39margs, \u001b[39mself\u001b[39m\u001b[39m.\u001b[39mkwds, \u001b[39mself\u001b[39m\u001b[39m.\u001b[39mfunc\n\u001b[0;32m    118\u001b[0m \u001b[39mtry\u001b[39;00m:\n\u001b[1;32m--> 119\u001b[0m     \u001b[39mreturn\u001b[39;00m \u001b[39mnext\u001b[39;49m(\u001b[39mself\u001b[39;49m\u001b[39m.\u001b[39;49mgen)\n\u001b[0;32m    120\u001b[0m \u001b[39mexcept\u001b[39;00m \u001b[39mStopIteration\u001b[39;00m:\n\u001b[0;32m    121\u001b[0m     \u001b[39mraise\u001b[39;00m \u001b[39mRuntimeError\u001b[39;00m(\u001b[39m\"\u001b[39m\u001b[39mgenerator didn\u001b[39m\u001b[39m'\u001b[39m\u001b[39mt yield\u001b[39m\u001b[39m\"\u001b[39m) \u001b[39mfrom\u001b[39;00m \u001b[39mNone\u001b[39;00m\n",
      "File \u001b[1;32mc:\\Users\\pho\\AppData\\Local\\pypoetry\\Cache\\virtualenvs\\spike3d-WtdfU5rp-py3.9\\lib\\site-packages\\scmrepo\\git\\__init__.py:446\u001b[0m, in \u001b[0;36mGit.stash_workspace\u001b[1;34m(self, reinstate_index, **kwargs)\u001b[0m\n\u001b[0;32m    440\u001b[0m \u001b[39m\u001b[39m\u001b[39m\"\"\"Stash and restore any workspace changes.\u001b[39;00m\n\u001b[0;32m    441\u001b[0m \n\u001b[0;32m    442\u001b[0m \u001b[39mYields revision of the stash commit. Yields None if there were no\u001b[39;00m\n\u001b[0;32m    443\u001b[0m \u001b[39mchanges to stash.\u001b[39;00m\n\u001b[0;32m    444\u001b[0m \u001b[39m\"\"\"\u001b[39;00m\n\u001b[0;32m    445\u001b[0m logger\u001b[39m.\u001b[39mdebug(\u001b[39m\"\u001b[39m\u001b[39mStashing workspace\u001b[39m\u001b[39m\"\u001b[39m)\n\u001b[1;32m--> 446\u001b[0m rev \u001b[39m=\u001b[39m \u001b[39mself\u001b[39m\u001b[39m.\u001b[39mstash\u001b[39m.\u001b[39mpush(\u001b[39m*\u001b[39m\u001b[39m*\u001b[39mkwargs)\n\u001b[0;32m    447\u001b[0m \u001b[39mtry\u001b[39;00m:\n\u001b[0;32m    448\u001b[0m     \u001b[39myield\u001b[39;00m rev\n",
      "File \u001b[1;32mc:\\Users\\pho\\AppData\\Local\\pypoetry\\Cache\\virtualenvs\\spike3d-WtdfU5rp-py3.9\\lib\\site-packages\\scmrepo\\git\\stash.py:36\u001b[0m, in \u001b[0;36mStash.push\u001b[1;34m(self, message, include_untracked)\u001b[0m\n\u001b[0;32m     32\u001b[0m \u001b[39mdef\u001b[39;00m \u001b[39mpush\u001b[39m(\n\u001b[0;32m     33\u001b[0m     \u001b[39mself\u001b[39m, message: Optional[\u001b[39mstr\u001b[39m] \u001b[39m=\u001b[39m \u001b[39mNone\u001b[39;00m, include_untracked: \u001b[39mbool\u001b[39m \u001b[39m=\u001b[39m \u001b[39mFalse\u001b[39;00m\n\u001b[0;32m     34\u001b[0m ) \u001b[39m-\u001b[39m\u001b[39m>\u001b[39m Optional[\u001b[39mstr\u001b[39m]:\n\u001b[0;32m     35\u001b[0m     logger\u001b[39m.\u001b[39mdebug(\u001b[39m\"\u001b[39m\u001b[39mStashing changes in \u001b[39m\u001b[39m'\u001b[39m\u001b[39m%s\u001b[39;00m\u001b[39m'\u001b[39m\u001b[39m\"\u001b[39m, \u001b[39mself\u001b[39m\u001b[39m.\u001b[39mref)\n\u001b[1;32m---> 36\u001b[0m     rev, reset \u001b[39m=\u001b[39m \u001b[39mself\u001b[39;49m\u001b[39m.\u001b[39;49mscm\u001b[39m.\u001b[39;49m_stash_push(  \u001b[39m# pylint: disable=protected-access\u001b[39;49;00m\n\u001b[0;32m     37\u001b[0m         \u001b[39mself\u001b[39;49m\u001b[39m.\u001b[39;49mref, message\u001b[39m=\u001b[39;49mmessage, include_untracked\u001b[39m=\u001b[39;49minclude_untracked\n\u001b[0;32m     38\u001b[0m     )\n\u001b[0;32m     39\u001b[0m     \u001b[39mif\u001b[39;00m \u001b[39mnot\u001b[39;00m rev:\n\u001b[0;32m     40\u001b[0m         logger\u001b[39m.\u001b[39mdebug(\u001b[39m\"\u001b[39m\u001b[39mNo changes to stash\u001b[39m\u001b[39m\"\u001b[39m)\n",
      "File \u001b[1;32mc:\\Users\\pho\\AppData\\Local\\pypoetry\\Cache\\virtualenvs\\spike3d-WtdfU5rp-py3.9\\lib\\site-packages\\scmrepo\\git\\__init__.py:286\u001b[0m, in \u001b[0;36mGit._backend_func\u001b[1;34m(self, name, *args, **kwargs)\u001b[0m\n\u001b[0;32m    284\u001b[0m backend \u001b[39m=\u001b[39m \u001b[39mself\u001b[39m\u001b[39m.\u001b[39mbackends[key]\n\u001b[0;32m    285\u001b[0m func \u001b[39m=\u001b[39m \u001b[39mgetattr\u001b[39m(backend, name)\n\u001b[1;32m--> 286\u001b[0m result \u001b[39m=\u001b[39m func(\u001b[39m*\u001b[39margs, \u001b[39m*\u001b[39m\u001b[39m*\u001b[39mkwargs)\n\u001b[0;32m    287\u001b[0m \u001b[39mself\u001b[39m\u001b[39m.\u001b[39m_last_backend \u001b[39m=\u001b[39m key\n\u001b[0;32m    288\u001b[0m \u001b[39mself\u001b[39m\u001b[39m.\u001b[39mbackends\u001b[39m.\u001b[39mmove_to_end(key, last\u001b[39m=\u001b[39m\u001b[39mFalse\u001b[39;00m)\n",
      "File \u001b[1;32mc:\\Users\\pho\\AppData\\Local\\pypoetry\\Cache\\virtualenvs\\spike3d-WtdfU5rp-py3.9\\lib\\site-packages\\scmrepo\\git\\backend\\pygit2\\__init__.py:555\u001b[0m, in \u001b[0;36mPygit2Backend._stash_push\u001b[1;34m(self, ref, message, include_untracked)\u001b[0m\n\u001b[0;32m    552\u001b[0m \u001b[39mfrom\u001b[39;00m \u001b[39mscmrepo\u001b[39;00m\u001b[39m.\u001b[39;00m\u001b[39mgit\u001b[39;00m \u001b[39mimport\u001b[39;00m Stash\n\u001b[0;32m    554\u001b[0m \u001b[39mtry\u001b[39;00m:\n\u001b[1;32m--> 555\u001b[0m     oid \u001b[39m=\u001b[39m \u001b[39mself\u001b[39;49m\u001b[39m.\u001b[39;49mrepo\u001b[39m.\u001b[39;49mstash(\n\u001b[0;32m    556\u001b[0m         \u001b[39mself\u001b[39;49m\u001b[39m.\u001b[39;49mdefault_signature,\n\u001b[0;32m    557\u001b[0m         message\u001b[39m=\u001b[39;49mmessage,\n\u001b[0;32m    558\u001b[0m         include_untracked\u001b[39m=\u001b[39;49minclude_untracked,\n\u001b[0;32m    559\u001b[0m     )\n\u001b[0;32m    560\u001b[0m \u001b[39mexcept\u001b[39;00m \u001b[39mKeyError\u001b[39;00m:\n\u001b[0;32m    561\u001b[0m     \u001b[39m# GIT_ENOTFOUND, nothing to stash\u001b[39;00m\n\u001b[0;32m    562\u001b[0m     \u001b[39mreturn\u001b[39;00m \u001b[39mNone\u001b[39;00m, \u001b[39mFalse\u001b[39;00m\n",
      "File \u001b[1;32mc:\\Users\\pho\\AppData\\Local\\pypoetry\\Cache\\virtualenvs\\spike3d-WtdfU5rp-py3.9\\lib\\site-packages\\pygit2\\repository.py:1198\u001b[0m, in \u001b[0;36mBaseRepository.stash\u001b[1;34m(self, stasher, message, keep_index, include_untracked, include_ignored, keep_all, paths)\u001b[0m\n\u001b[0;32m   1195\u001b[0m coid \u001b[39m=\u001b[39m ffi\u001b[39m.\u001b[39mnew(\u001b[39m'\u001b[39m\u001b[39mgit_oid *\u001b[39m\u001b[39m'\u001b[39m)\n\u001b[0;32m   1196\u001b[0m err \u001b[39m=\u001b[39m C\u001b[39m.\u001b[39mgit_stash_save_with_opts(coid, \u001b[39mself\u001b[39m\u001b[39m.\u001b[39m_repo, opts)\n\u001b[1;32m-> 1198\u001b[0m check_error(err)\n\u001b[0;32m   1200\u001b[0m \u001b[39mreturn\u001b[39;00m Oid(raw\u001b[39m=\u001b[39m\u001b[39mbytes\u001b[39m(ffi\u001b[39m.\u001b[39mbuffer(coid)[:]))\n",
      "File \u001b[1;32mc:\\Users\\pho\\AppData\\Local\\pypoetry\\Cache\\virtualenvs\\spike3d-WtdfU5rp-py3.9\\lib\\site-packages\\pygit2\\errors.py:65\u001b[0m, in \u001b[0;36mcheck_error\u001b[1;34m(err, io)\u001b[0m\n\u001b[0;32m     62\u001b[0m     \u001b[39mraise\u001b[39;00m \u001b[39mStopIteration\u001b[39;00m()\n\u001b[0;32m     64\u001b[0m \u001b[39m# Generic Git error\u001b[39;00m\n\u001b[1;32m---> 65\u001b[0m \u001b[39mraise\u001b[39;00m GitError(message)\n",
      "\u001b[1;31mGitError\u001b[0m: the index is locked; this might be due to a concurrent or crashed process"
     ]
    }
   ],
   "source": [
    "\n",
    "with Live(save_dvc_exp=True) as live:\n",
    "\n",
    "\tlive.log_param(\"epochs\", 5)\n",
    "\n",
    "\t# for epoch in range(NUM_EPOCHS):\n",
    "\t#     train_model(...)\n",
    "\t#     metrics = evaluate_model(...)\n",
    "\n",
    "\t#     for metric_name, value in metrics.items():\n",
    "\t#         live.log_metric(metric_name, value)\n",
    "\n",
    "\t#     live.next_step()\n",
    "\n",
    "\tparams = {\n",
    "\t\t\"num_classes\": 10,\n",
    "\t\t\"metrics\": [\"accuracy\", \"mae\"],\n",
    "\t\t\"optimizer\": \"adam\"\n",
    "\t}\n",
    "\tlive.log_params(params)\n"
   ]
  },
  {
   "cell_type": "code",
   "execution_count": null,
   "metadata": {},
   "outputs": [],
   "source": []
  }
 ],
 "metadata": {
  "kernelspec": {
   "display_name": "spike3d-poetry",
   "language": "python",
   "name": "spike3d-poetry"
  },
  "language_info": {
   "codemirror_mode": {
    "name": "ipython",
    "version": 3
   },
   "file_extension": ".py",
   "mimetype": "text/x-python",
   "name": "python",
   "nbconvert_exporter": "python",
   "pygments_lexer": "ipython3",
   "version": "3.9.13"
  },
  "orig_nbformat": 4
 },
 "nbformat": 4,
 "nbformat_minor": 2
}
