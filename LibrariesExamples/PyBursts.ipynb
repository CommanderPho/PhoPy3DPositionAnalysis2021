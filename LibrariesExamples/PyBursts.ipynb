{
 "cells": [
  {
   "cell_type": "code",
   "execution_count": 2,
   "id": "b285a912-694b-4af5-9e33-a8f897d3ac9d",
   "metadata": {},
   "outputs": [],
   "source": [
    "from pybursts import pybursts\n",
    "import numpy as np\n",
    "import matplotlib\n",
    "import matplotlib.pyplot as plt"
   ]
  },
  {
   "cell_type": "code",
   "execution_count": 4,
   "id": "15af77cf-90b6-4c3d-b866-bf7ee41d22d7",
   "metadata": {},
   "outputs": [
    {
     "data": {
      "text/plain": [
       "array([[0, 4.01, 92.01],\n",
       "       [1.0, 33.01, 37.01],\n",
       "       [1.0, 76.01, 92.01],\n",
       "       [2.0, 76.01, 77.01]], dtype=object)"
      ]
     },
     "execution_count": 4,
     "metadata": {},
     "output_type": "execute_result"
    }
   ],
   "source": [
    "offsets = np.array([4, 17, 23, 27, 33, 35, 37, 76, 77, 82, 84, 88, 90, 92]) + 0.01\n",
    "output = pybursts.kleinberg(offsets, s=2, gamma=0.1)\n",
    "output"
   ]
  },
  {
   "cell_type": "markdown",
   "id": "8d424dca-b733-4443-ae3a-8ac1d6eb96a4",
   "metadata": {},
   "source": [
    "# Output\n",
    "An array of intervals in which a burst of activity was detected. The first column denotes the level within the hierarchy; the second column the start value of the interval; the third column the end value. The first row is always the top-level activity (the complete interval from start to finish)."
   ]
  },
  {
   "cell_type": "code",
   "execution_count": 5,
   "id": "d610cbc8-8fc7-49b1-8833-b6c513a96b81",
   "metadata": {},
   "outputs": [
    {
     "name": "stdout",
     "output_type": "stream",
     "text": [
      "[[0 4.01 92.01]\n",
      " [1.0 33.01 37.01]\n",
      " [1.0 76.01 92.01]\n",
      " [2.0 76.01 77.01]]\n"
     ]
    }
   ],
   "source": [
    "print(output)"
   ]
  },
  {
   "cell_type": "code",
   "execution_count": 6,
   "id": "cbcf8307-212b-498b-ae69-c2c3fa685ae0",
   "metadata": {},
   "outputs": [
    {
     "name": "stdout",
     "output_type": "stream",
     "text": [
      "interval_pairs: [(33.01, 4.0), (76.01, 16.0), (76.01, 1.0)]\n",
      "y_range: [(0, 1), (1, 1), (2, 1)]\n"
     ]
    },
    {
     "data": {
      "text/plain": [
       "(0, 1)"
      ]
     },
     "execution_count": 6,
     "metadata": {},
     "output_type": "execute_result"
    }
   ],
   "source": [
    "burst_level = output[1:, 0]\n",
    "unique_burst_levels = np.unique(burst_level)\n",
    "\n",
    "\n",
    "t_starts = output[1:,1]\n",
    "t_ends = output[1:,2]\n",
    "t_durations = t_ends - t_starts\n",
    "t_durations\n",
    "\n",
    "# Convert vectors to tuples of (t_start, t_duration) pairs:\n",
    "interval_pairs = list(zip(t_starts, t_durations))\n",
    "print(f'interval_pairs: {interval_pairs}') # [(33, 4), (76, 16), (76, 1)]\n",
    "\n",
    "y_range = [(i, 1) for i in np.arange(len(interval_pairs))]\n",
    "print(f'y_range: {y_range}')\n",
    "y_range[0]"
   ]
  },
  {
   "cell_type": "code",
   "execution_count": null,
   "id": "a6cd0811-d4df-480e-8dbb-4f990100ee06",
   "metadata": {},
   "outputs": [],
   "source": [
    "plt.plot(output)"
   ]
  },
  {
   "cell_type": "code",
   "execution_count": 7,
   "id": "0e7d7386-a8bb-4244-ad0c-ee1cfe654f88",
   "metadata": {},
   "outputs": [
    {
     "data": {
      "text/plain": [
       "<matplotlib.collections.BrokenBarHCollection at 0x28745a90b50>"
      ]
     },
     "execution_count": 7,
     "metadata": {},
     "output_type": "execute_result"
    },
    {
     "data": {
      "image/png": "[encoded data removed]",
      "text/plain": [
       "<Figure size 432x288 with 2 Axes>"
      ]
     },
     "metadata": {
      "needs_background": "light"
     },
     "output_type": "display_data"
    }
   ],
   "source": [
    "fig, (ax0, ax1) = plt.subplots(2, 1, sharex=True, constrained_layout=True)\n",
    "\n",
    "ax0.eventplot(offsets)\n",
    "ax0.set_title('Input Timeseries')\n",
    "\n",
    "# Output intervals:\n",
    "ax1.set_title('Output Intervals')\n",
    "\n",
    "ax1.broken_barh([interval_pairs[0]], (0, 1), facecolors='tab:blue')\n",
    "ax1.broken_barh([interval_pairs[1]], (1, 1))\n",
    "ax1.broken_barh([interval_pairs[2]], (2, 1))"
   ]
  },
  {
   "cell_type": "code",
   "execution_count": null,
   "id": "6e880eb7-da53-4865-8e6a-d7eb3e7f0655",
   "metadata": {},
   "outputs": [],
   "source": [
    "# build yrange for the broken_barh (ymin, yheight)\n",
    "y_range = [(i, 1) for i in np.arange(len(interval_pairs))]\n",
    "# ax.broken_barh([(110, 30), (150, 10)], (10, 9), facecolors='tab:blue')\n",
    "i = 0\n",
    "ax1.broken_barh(list(interval_pairs[i]), (10, 9), facecolors='tab:blue')"
   ]
  },
  {
   "cell_type": "code",
   "execution_count": null,
   "id": "2114d7fa-dab3-41b2-87ee-854b4c958f79",
   "metadata": {},
   "outputs": [],
   "source": [
    "for i in np.arange(len(interval_pairs)):\n",
    "    ax1.broken_barh(interval_pairs[i], y_range[i], facecolors='tab:blue')\n",
    "\n",
    "    # ax1.broken_barh(interval_pairs, y_range, facecolors='tab:blue')\n",
    "# ax1.plot(output)"
   ]
  },
  {
   "cell_type": "code",
   "execution_count": null,
   "id": "526f8fe3-57a7-48d6-9cc4-b7b270a58cbc",
   "metadata": {},
   "outputs": [],
   "source": []
  }
 ],
 "metadata": {
  "kernelspec": {
   "display_name": "Python [conda env:phoviz_ultimate]",
   "language": "python",
   "name": "conda-env-phoviz_ultimate-py"
  },
  "language_info": {
   "codemirror_mode": {
    "name": "ipython",
    "version": 3
   },
   "file_extension": ".py",
   "mimetype": "text/x-python",
   "name": "python",
   "nbconvert_exporter": "python",
   "pygments_lexer": "ipython3",
   "version": "3.9.12"
  }
 },
 "nbformat": 4,
 "nbformat_minor": 5
}
