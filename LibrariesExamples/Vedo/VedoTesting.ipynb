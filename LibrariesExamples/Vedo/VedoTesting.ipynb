{
 "cells": [
  {
   "cell_type": "code",
   "execution_count": 1,
   "id": "ce52d7c8-e648-478a-9371-52d14c4effc5",
   "metadata": {},
   "outputs": [],
   "source": [
    "%load_ext autoreload\n",
    "%autoreload 2\n",
    "import sys\n",
    "import importlib\n",
    "from io import StringIO  # for loading pandas dataframe from literal string\n",
    "from pathlib import Path\n",
    "from vedo import *\n",
    "\n",
    "import numpy as np\n",
    "import pandas as pd\n",
    "# from pyphoplacecellanalysis.GUI.PyQtPlot.Flowchart.CustomNodes.Mixins.DisplayNodeViewHelpers import ProducedViewType\n",
    "# from pyphoplacecellanalysis.GUI.PyQtPlot.Flowchart.pyqtplot_Flowchart import plot_flowchartWidget\n",
    "\n",
    "example_epoch_data_csv_string = StringIO(\"\"\",start,stop,duration,label\\r\\n0,57.32,57.472,0.15200000000000102,\\r\\n1,78.83,79.154,0.32399999999999807,\\r\\n2,80.412,80.592,0.1799999999999926,\\r\\n3,83.792,84.07000000000001,0.2780000000000058,\\r\\n4,85.005,85.144,0.13900000000001,\\r\\n5,89.348,89.759,0.41100000000000136,\\r\\n6,93.95,94.115,0.16499999999999204,\\r\\n7,99.805,99.936,0.13100000000000023,\\r\\n8,125.276,125.418,0.14200000000001012,\\r\\n9,139.835,140.15800000000002,0.3230000000000075,\\r\\n10,147.648,147.842,0.19400000000001683,\\r\\n11,148.927,149.068,0.14100000000001955,\\r\\n12,176.844,177.33,0.4860000000000184,\\r\\n13,183.631,183.874,0.242999999999995,\\r\\n14,201.058,201.257,0.19900000000001228,\\r\\n15,212.357,212.516,0.15899999999999181,\\r\\n16,240.886,241.019,0.13300000000000978,\\r\\n17,242.76500000000001,242.91400000000002,0.1490000000000009,\\r\\n18,245.6,245.937,0.3370000000000175,\\r\\n19,248.00400000000002,248.139,0.1349999999999909,\\r\\n20,274.12600000000003,274.516,0.38999999999998636,\\r\\n21,299.409,299.624,0.21500000000003183,\\r\\n22,300.184,300.308,0.1239999999999668,\\r\\n23,305.567,306.325,0.7579999999999814,\\r\\n24,318.704,318.944,0.2400000000000091,\\r\\n25,321.404,321.594,0.18999999999999773,\\r\\n26,327.33,327.596,0.26600000000001955,\\r\\n27,331.399,331.54,0.14100000000001955,\\r\\n28,333.931,334.101,0.17000000000001592,\\r\\n29,336.473,336.608,0.1349999999999909,\\r\\n30,339.333,339.502,0.16899999999998272,\\r\\n31,342.207,342.324,0.11700000000001864,\\r\\n32,342.411,342.586,0.17500000000001137,\\r\\n33,345.411,345.60200000000003,0.19100000000003092,\\r\\n34,353.54900000000004,353.796,0.24699999999995725,\\r\\n35,367.128,367.333,0.20500000000004093,\\r\\n36,368.848,369.039,0.19099999999997408,\\r\\n37,370.661,370.91700000000003,0.25600000000002865,\\r\\n38,373.08,373.371,0.2909999999999968,\\r\\n39,379.355,379.601,0.2459999999999809,\\r\\n40,380.404,380.509,0.10500000000001819,\\r\\n41,385.653,385.889,0.23599999999999,\\r\\n42,386.428,386.615,0.18700000000001182,\\r\\n43,392.867,393.03700000000003,0.17000000000001592,\\r\\n44,398.271,398.648,0.37700000000000955,\\r\\n45,400.012,400.219,0.20699999999999363,\\r\\n46,401.11,401.399,0.28899999999998727,\\r\\n47,404.916,405.072,0.1560000000000059,\\r\\n48,407.197,407.445,0.24799999999999045,\\r\\n49,416.095,416.366,0.27099999999995816,\\r\\n50,417.294,417.683,0.38900000000001,\\r\\n51,427.039,427.161,0.1220000000000141,\\r\\n52,430.531,430.757,0.2259999999999991,\\r\\n53,434.69,434.837,0.14699999999999136,\\r\\n54,435.822,435.92900000000003,0.10700000000002774,\\r\\n55,456.574,456.927,0.35300000000000864,\\r\\n56,478.076,478.354,0.27799999999996317,\\r\\n57,483.985,484.212,0.22699999999997544,\\r\\n58,489.569,489.724,0.15499999999997272,\\r\\n59,491.58,491.735,0.15500000000002956,\\r\\n60,492.742,492.954,0.21199999999998909,\\r\\n61,498.669,498.818,0.1490000000000009,\\r\\n62,519.033,519.176,0.1430000000000291,\\r\\n63,529.016,529.197,0.18100000000004002,\\r\\n64,535.8290000000001,535.999,0.16999999999995907,\\r\\n65,540.38,540.623,0.24300000000005184,\\r\\n66,543.284,543.476,0.19200000000000728,\\r\\n67,547.034,547.271,0.23699999999996635,\\r\\n68,550.17,550.294,0.12400000000002365,\\r\\n69,553.788,553.917,0.1290000000000191,\\r\\n70,554.763,555.0360000000001,0.27300000000002456,\\r\\n71,563.53,563.695,0.1650000000000773,\\r\\n72,566.97,567.256,0.2859999999999445,\\r\\n73,567.918,568.093,0.17499999999995453,\\r\\n74,573.824,574.014,0.19000000000005457,\\r\\n75,577.3770000000001,577.532,0.15499999999997272,\\r\\n76,585.466,585.687,0.22100000000000364,\\r\\n77,592.663,593.003,0.34000000000003183,\\r\\n78,594.552,594.77,0.2179999999999609,\\r\\n79,598.635,598.773,0.13800000000003365,\\r\\n80,600.773,600.884,0.11099999999999,\\r\\n81,602.885,603.118,0.23300000000006094,\\r\\n82,611.827,611.943,0.11599999999998545,\\r\\n83,615.653,615.794,0.1409999999999627,\\r\\n84,618.146,618.355,0.20900000000006003,\\r\\n85,624.298,624.426,0.12800000000004275,\\r\\n86,627.626,627.794,0.16800000000000637,\\r\\n87,645.028,645.294,0.2659999999999627,\\r\\n88,657.562,657.87,0.3079999999999927,\\r\\n89,660.967,661.351,0.38400000000001455,\\r\\n90,667.472,667.705,0.23300000000006094,\\r\\n91,672.054,672.269,0.21500000000003183,\\r\\n92,680.97,681.25,0.2799999999999727,\\r\\n93,689.048,689.25,0.20199999999999818,\\r\\n94,694.205,694.418,0.21299999999996544,\\r\\n95,695.519,695.662,0.1430000000000291,\\r\\n96,702.464,702.664,0.1999999999999318,\\r\\n97,703.864,704.014,0.14999999999997726,\\r\\n98,707.251,707.468,0.21699999999998454,\\r\\n99,708.61,708.7470000000001,0.1370000000000573,\\r\\n100,713.5260000000001,713.785,0.25899999999990087,\\r\\n101,718.119,718.242,0.1229999999999336,\\r\\n102,721.128,721.293,0.16499999999996362,\\r\\n103,731.023,731.184,0.16099999999994452,\\r\\n104,732.316,732.541,0.22500000000002274,\\r\\n105,745.001,745.157,0.15600000000006276,\\r\\n106,762.33,762.52,0.18999999999994088,\\r\\n107,770.556,770.745,0.18899999999996453,\\r\\n108,772.206,772.5310000000001,0.3250000000000455,\\r\\n109,777.561,778.465,0.9039999999999964,\\r\\n110,788.6220000000001,788.783,0.16099999999994452,\\r\\n111,794.7810000000001,795.014,0.23299999999994725,\\r\\n112,803.999,804.3000000000001,0.30100000000004457,\\r\\n113,806.559,806.687,0.12800000000004275,\\r\\n114,807.407,807.7570000000001,0.35000000000002274,\\r\\n115,812.899,813.029,0.12999999999999545,\\r\\n116,815.054,815.168,0.11400000000003274,\\r\\n117,819.519,819.628,0.10900000000003729,\\r\\n118,820.695,821.0310000000001,0.33600000000001273,\\r\\n119,828.7810000000001,829.119,0.33799999999996544,\\r\\n120,831.056,831.375,0.31899999999996,\\r\\n121,833.678,833.813,0.1349999999999909,\\r\\n122,837.658,838.614,0.9560000000000173,\\r\\n123,861.128,861.3720000000001,0.2440000000000282,\\r\\n124,863.915,864.186,0.27100000000007185,\\r\\n125,876.171,876.3720000000001,0.20100000000002183,\\r\\n126,881.962,882.1800000000001,0.21800000000007458,\\r\\n127,890.326,890.4540000000001,0.12800000000004275,\\r\\n128,892.698,892.89,0.19200000000000728,\\r\\n129,908.196,908.415,0.21899999999993724,\\r\\n130,919.932,920.143,0.21100000000001273,\\r\\n131,935.4590000000001,935.706,0.24699999999995725,\\r\\n132,939.331,939.485,0.15399999999999636,\\r\\n133,943.789,944.022,0.23300000000006094,\\r\\n134,965.4590000000001,965.745,0.2859999999999445,\\r\\n135,981.674,981.91,0.23599999999999,\\r\\n136,983.785,984.0020000000001,0.21700000000009823,\\r\\n137,1016.335,1016.476,0.1409999999999627,\\r\\n138,1017.761,1017.957,0.19600000000002638,\\r\\n139,1029.26,1029.422,0.16200000000003456,\\r\\n140,1030.044,1030.194,0.14999999999986358,\\r\\n141,1037.156,1037.432,0.2760000000000673,\\r\\n142,1045.623,1045.782,0.15899999999987813,\\r\\n143,1046.897,1047.448,0.5510000000001583,\\r\\n144,1049.864,1050.067,0.20299999999997453,\\r\\n145,1063.924,1064.159,0.23500000000012733,\\r\\n146,1068.26,1068.577,0.3170000000000073,\\r\\n147,1081.695,1081.827,0.13200000000006185,\\r\\n148,1083.282,1083.494,0.21199999999998909,\\r\\n149,1085.09,1085.301,0.21100000000001273,\\r\\n150,1104.819,1105.198,0.3790000000001328,\\r\\n151,1111.363,1111.74,0.3769999999999527,\\r\\n152,1134.018,1134.199,0.18100000000004002,\\r\\n153,1136.71,1136.9,0.19000000000005457,\\r\\n154,1142.528,1142.748,0.22000000000002728,\\r\\n155,1181.758,1181.904,0.14599999999995816,\\r\\n156,1189.151,1189.278,0.1269999999999527,\\r\\n157,1194.279,1194.549,0.2699999999999818,\\r\\n158,1224.21,1224.3790000000001,0.1690000000000964,\\r\\n159,1228.653,1228.82,0.16699999999991633,\\r\\n160,1230.519,1230.699,0.18000000000006366,\\r\\n161,1233.843,1233.9470000000001,0.10400000000004184,\\r\\n162,1239.08,1239.25,0.17000000000007276,\\r\\n163,1240.618,1240.72,0.10200000000008913,\\r\\n164,1250.0240000000001,1250.147,0.12299999999981992,\\r\\n165,1253.343,1253.536,0.19299999999998363,\\r\\n166,1256.728,1256.932,0.2039999999999509,\\r\\n167,1266.395,1266.71,0.31500000000005457,\\r\\n168,1276.409,1276.555,0.14599999999995816,\\r\\n169,1304.038,1304.228,0.19000000000005457,\\r\\n170,1313.451,1313.576,0.125,\\r\\n171,1316.15,1316.39,0.2400000000000091,\\r\\n172,1317.462,1317.6580000000001,0.19600000000014006,\\r\\n173,1337.51,1337.741,0.23099999999999454,\\r\\n174,1359.215,1359.346,0.1310000000000855,\\r\\n175,1367.954,1368.069,0.1150000000000091,\\r\\n176,1377.606,1377.751,0.1449999999999818,\\r\\n177,1388.288,1389.159,0.8710000000000946,\\r\\n178,1390.621,1390.917,0.29599999999982174,\\r\\n179,1393.832,1393.993,0.16099999999983083,\\r\\n180,1428.15,1428.432,0.2819999999999254,\\r\\n181,1429.087,1429.238,0.1510000000000673,\\r\\n182,1441.0,1441.124,0.12400000000002365,\\r\\n183,1453.997,1454.2920000000001,0.29500000000007276,\\r\\n184,1464.442,1464.605,0.16300000000001091,\\r\\n185,1467.941,1468.257,0.3160000000000309,\\r\\n186,1473.903,1474.051,0.14799999999991087,\\r\\n187,1500.933,1501.179,0.2460000000000946,\\r\\n188,1508.7930000000001,1509.09,0.2969999999997981,\\r\\n189,1510.001,1510.19,0.18900000000007822,\\r\\n190,1514.893,1515.008,0.1150000000000091,\\r\\n191,1517.015,1517.209,0.19399999999995998,\\r\\n192,1525.5430000000001,1525.7,0.15699999999992542,\\r\\n193,1528.416,1528.553,0.13700000000017099,\\r\\n194,1544.021,1544.2250000000001,0.20400000000017826,\\r\\n195,1558.1290000000001,1558.4170000000001,0.2880000000000109,\\r\\n196,1561.311,1561.509,0.19800000000009277,\\r\\n197,1584.151,1584.343,0.19200000000000728,\\r\\n198,1609.8700000000001,1610.194,0.32399999999984175,\\r\\n199,1624.631,1624.739,0.10799999999994725,\\r\\n200,1627.07,1627.257,0.1870000000001255,\\r\\n201,1643.512,1643.777,0.26500000000010004,\\r\\n202,1714.259,1714.422,0.16300000000001091,\\r\\n203,1715.307,1715.49,0.18299999999999272,\\r\\n204,1729.6870000000001,1729.806,0.11899999999991451,\\r\\n205,1730.93,1731.099,0.16899999999986903,\\r\\n\"\"\")\n",
    "test_epochs_df = pd.read_csv(example_epoch_data_csv_string, sep=\",\")\n",
    "test_epochs_df\n",
    "\n",
    "# Load the saved .h5 spikes dataframe for testing:\n",
    "finalized_spike_df_cache_file='./pipeline_cache_store.h5'\n",
    "desired_spikes_df_key = '/filtered_sessions/maze1/spikes_df'\n",
    "spikes_df = pd.read_hdf(finalized_spike_df_cache_file, key=desired_spikes_df_key)"
   ]
  },
  {
   "cell_type": "code",
   "execution_count": 2,
   "id": "888bb24f-d883-488d-87e5-952d16ef6452",
   "metadata": {},
   "outputs": [
    {
     "data": {
      "text/plain": [
       "Index(['t', 't_seconds', 't_rel_seconds', 'shank', 'cluster', 'aclu', 'qclu',\n",
       "       'x', 'y', 'speed', 'traj', 'lap', 'maze_relative_lap', 'maze_id',\n",
       "       'cell_type', 'flat_spike_idx', 'x_loaded', 'y_loaded', 'lin_pos',\n",
       "       'unit_id', 'PBE_id', 'scISI', 'visualization_raster_y_location'],\n",
       "      dtype='object')"
      ]
     },
     "execution_count": 2,
     "metadata": {},
     "output_type": "execute_result"
    }
   ],
   "source": [
    "spikes_df.columns"
   ]
  },
  {
   "cell_type": "markdown",
   "id": "c954cfea-9540-4f45-81b9-08b5fbb6c2b3",
   "metadata": {},
   "source": [
    "# Examples"
   ]
  },
  {
   "cell_type": "code",
   "execution_count": 3,
   "id": "3d3d9377-52d8-451e-823e-192448ebcb17",
   "metadata": {},
   "outputs": [],
   "source": [
    "settings.allowInteraction = 1"
   ]
  },
  {
   "cell_type": "code",
   "execution_count": 4,
   "id": "6c890b87-92a8-42a7-b2ca-bac22155626c",
   "metadata": {},
   "outputs": [],
   "source": [
    "# \"\"\"Color lines by a scalar\n",
    "# Click the lines to get their lenghts\"\"\"\n",
    "# pts1 = [(sin(x/8), cos(x/8), x/5) for x in range(25)]\n",
    "# l1 = Line(pts1).c('black')\n",
    "# l2 = l1.clone().rotateZ(180).shift(1,0,0)\n",
    "\n",
    "# dist = mag(l1.points()-l2.points())  # make up some scalar values\n",
    "\n",
    "# # The trick here is to think that the \"body\" of a line is a cell\n",
    "# # so we can color cells as we do for any other polygonal mesh:\n",
    "# lines = Lines(l1, l2).lw(8).cmap('Accent', dist, on='cells').addScalarBar('length')\n",
    "\n",
    "# def clickfunc(evt):\n",
    "#     if evt.actor:\n",
    "#         idl = evt.actor.closestPoint(evt.picked3d, returnCellId=True)\n",
    "#         print('clicked line', idl, 'length =', precision(dist[idl],3))\n",
    "\n",
    "# plt = Plotter(axes=1, bg2='lightblue')\n",
    "# plt.addCallback('mouse click', clickfunc)\n",
    "# plt.show(l1,l2, lines, __doc__, viewup='z').close()"
   ]
  },
  {
   "cell_type": "code",
   "execution_count": 5,
   "id": "efe5e1a9-a22e-4959-8866-2eeeb2d16311",
   "metadata": {},
   "outputs": [],
   "source": [
    "\"\"\"Customizing axes style\n",
    "(40+ control parameters!)\n",
    "Title font: \"\"\"\n",
    "from vedo import Box, Lines, Points, Spline, show, settings\n",
    "\n",
    "settings.defaultFont = 'Theemim'\n",
    "\n",
    "# an invisible box:\n",
    "world = Box(pos=(2.7,0,0), size=(12,10,8), alpha=0)\n",
    "\n",
    "# a dummy spline with its shadow on the xy plane\n",
    "pts = Points([(-2,-3.2,-1.5), (3,-1.2,-2), (7,3,4)], r=12)\n",
    "spl = Spline(pts, res=50).addShadow(plane='z', point=-4) # make spline and add its shadow at z=-4\n",
    "lns = Lines(spl, spl.shadows[0])                         # join spline points with its own shadow\n",
    "\n",
    "# make a dictionary of axes options\n",
    "axes_opts = dict(\n",
    "    xtitle='My variable \\Omega^\\lowerxi_lm  in units of \\mum^3', # latex-style syntax\n",
    "    ytitle='This is my highly\\ncustomized y-axis',\n",
    "    ztitle='z in units of Å', # many unicode chars are supported (type: vedo -r fonts)\n",
    "    yValuesAndLabels=[(-3.2,'Mark^a_-3.2'), (-1.2,'Carmen^b_-1.2'), (3,'John^c_3')],\n",
    "    textScale=1.3,       # make all text 30% bigger\n",
    "    numberOfDivisions=5, # approximate number of divisions on longest axis\n",
    "    axesLineWidth= 2,\n",
    "    gridLineWidth= 1,\n",
    "    zxGrid2=True,        # show zx plane on opposite side of the bounding box\n",
    "    yzGrid2=True,        # show yz plane on opposite side of the bounding box\n",
    "    xyPlaneColor='green7',\n",
    "    xyGridColor='dg',    # darkgreen line color\n",
    "    xyAlpha=0.2,         # grid opacity\n",
    "    xTitlePosition=0.5,  # title fractional positions along axis\n",
    "    xTitleJustify=\"top-center\", # align title wrt to its axis\n",
    "    yTitleSize=0.02,\n",
    "    yTitleBox=True,\n",
    "    yTitleOffset=0.05,\n",
    "    yLabelOffset=0.4,\n",
    "    yHighlightZero=True, # draw a line highlighting zero position if in range\n",
    "    yHighlightZeroColor='red',\n",
    "    zLineColor='blue',\n",
    "    zTitleColor='blue',\n",
    "    zTitleBackfaceColor='v', # violet color of axis title backface\n",
    "    labelFont=\"Quikhand\",\n",
    "    yLabelSize=0.025,    # size of the numeric labels along Y axis\n",
    "    yLabelColor='dg',    # color of the numeric labels along Y axis\n",
    ")\n",
    "\n",
    "show(world, pts, spl, lns, __doc__+settings.defaultFont, axes=axes_opts).close()"
   ]
  },
  {
   "cell_type": "code",
   "execution_count": null,
   "id": "a6f408b7-c0c7-4cfe-ad53-edb73f8eaca9",
   "metadata": {},
   "outputs": [
    {
     "name": "stdout",
     "output_type": "stream",
     "text": [
      " ━━━━━━━━\u001b[2m────────────── 40%                   ETA: 4s (8.2 it/s) \r"
     ]
    }
   ],
   "source": [
    "# Plot a volume evolution in time\n",
    "# Credits: https://github.com/edmontz\n",
    "import numpy as np\n",
    "from scipy.fftpack import fftn, fftshift\n",
    "from vedo import Volume, ProgressBar, show, settings\n",
    "\n",
    "settings.allowInteraction = True\n",
    "\n",
    "def f(x, y, z, t):\n",
    "    r = np.sqrt(x*x + y*y + z*z + 2*t*t) + 0.1\n",
    "    return np.sin(9*np.pi * r)/r\n",
    "\n",
    "n = 64\n",
    "qn = 50\n",
    "vol = np.zeros((n, n, n))\n",
    "n1 = int(n/2)\n",
    "\n",
    "pb = ProgressBar(0, qn, c=\"r\")\n",
    "for q in pb.range():\n",
    "    pb.print()\n",
    "\n",
    "    t = 2 * q / qn - 1\n",
    "    for k in range(n1):\n",
    "        z = 2 * k / n1 - 1\n",
    "        for j in range(n1):\n",
    "            y = 2 * j / n1 - 1\n",
    "            for i in range(n1):\n",
    "                x = 2 * i / n1 - 1\n",
    "                vol[i, j, k] = f(x, y, z, t)\n",
    "    volf = fftn(vol)\n",
    "    volf = fftshift(abs(volf))\n",
    "    volf = np.log(12*volf/volf.max()+ 1) / 2.5\n",
    "\n",
    "    vb = Volume(volf).mode(1).c(\"rainbow\").alpha([0, 0.8, 1])\n",
    "    plt = show(vb, bg=\"black\", axes=1, viewup='z', interactive=False)\n",
    "    if plt.escaped: break  # ESC button was hit\n",
    "\n",
    "plt.interactive().close()"
   ]
  },
  {
   "cell_type": "code",
   "execution_count": 2,
   "id": "ebf777f9-92e5-481d-965b-b635bc656b7d",
   "metadata": {},
   "outputs": [
    {
     "ename": "IndexError",
     "evalue": "list index out of range",
     "output_type": "error",
     "traceback": [
      "\u001b[1;31m---------------------------------------------------------------------------\u001b[0m",
      "\u001b[1;31mIndexError\u001b[0m                                Traceback (most recent call last)",
      "Input \u001b[1;32mIn [2]\u001b[0m, in \u001b[0;36m<cell line: 7>\u001b[1;34m()\u001b[0m\n\u001b[0;32m      3\u001b[0m \u001b[38;5;28;01mfrom\u001b[39;00m \u001b[38;5;21;01mvedo\u001b[39;00m \u001b[38;5;28;01mimport\u001b[39;00m \u001b[38;5;241m*\u001b[39m\n\u001b[0;32m      5\u001b[0m plt \u001b[38;5;241m=\u001b[39m Plotter(bg2\u001b[38;5;241m=\u001b[39m\u001b[38;5;124m'\u001b[39m\u001b[38;5;124mbisque\u001b[39m\u001b[38;5;124m'\u001b[39m, size\u001b[38;5;241m=\u001b[39m(\u001b[38;5;241m1000\u001b[39m,\u001b[38;5;241m800\u001b[39m), interactive\u001b[38;5;241m=\u001b[39m\u001b[38;5;28;01mFalse\u001b[39;00m)\n\u001b[1;32m----> 7\u001b[0m e \u001b[38;5;241m=\u001b[39m \u001b[43mVolume\u001b[49m\u001b[43m(\u001b[49m\u001b[43mdataurl\u001b[49m\u001b[38;5;241;43m+\u001b[39;49m\u001b[38;5;124;43m\"\u001b[39;49m\u001b[38;5;124;43membryo.tif\u001b[39;49m\u001b[38;5;124;43m\"\u001b[39;49m\u001b[43m)\u001b[49m\u001b[38;5;241m.\u001b[39misosurface()\n\u001b[0;32m      8\u001b[0m e\u001b[38;5;241m.\u001b[39mnormalize()\u001b[38;5;241m.\u001b[39mshift(\u001b[38;5;241m-\u001b[39m\u001b[38;5;241m2\u001b[39m,\u001b[38;5;241m-\u001b[39m\u001b[38;5;241m1.5\u001b[39m,\u001b[38;5;241m-\u001b[39m\u001b[38;5;241m2\u001b[39m)\u001b[38;5;241m.\u001b[39mc(\u001b[38;5;124m\"\u001b[39m\u001b[38;5;124mgold\u001b[39m\u001b[38;5;124m\"\u001b[39m)\n\u001b[0;32m     10\u001b[0m plt\u001b[38;5;241m.\u001b[39mshow(e, \u001b[38;5;18m__doc__\u001b[39m, viewup\u001b[38;5;241m=\u001b[39m\u001b[38;5;124m'\u001b[39m\u001b[38;5;124mz\u001b[39m\u001b[38;5;124m'\u001b[39m)\n",
      "File \u001b[1;32m~\\miniconda3\\envs\\phoviz_ultimate\\lib\\site-packages\\vedo\\volume.py:763\u001b[0m, in \u001b[0;36mVolume.__init__\u001b[1;34m(self, inputobj, c, alpha, alphaGradient, alphaUnit, mode, shade, spacing, dims, origin, mapper)\u001b[0m\n\u001b[0;32m    759\u001b[0m     img \u001b[38;5;241m=\u001b[39m vtk\u001b[38;5;241m.\u001b[39mvtkImageData()\n\u001b[0;32m    761\u001b[0m \u001b[38;5;28;01melif\u001b[39;00m utils\u001b[38;5;241m.\u001b[39misSequence(inputobj):\n\u001b[1;32m--> 763\u001b[0m     \u001b[38;5;28;01mif\u001b[39;00m \u001b[38;5;28misinstance\u001b[39m(\u001b[43minputobj\u001b[49m\u001b[43m[\u001b[49m\u001b[38;5;241;43m0\u001b[39;49m\u001b[43m]\u001b[49m, \u001b[38;5;28mstr\u001b[39m) \u001b[38;5;129;01mand\u001b[39;00m \u001b[38;5;124m\"\u001b[39m\u001b[38;5;124m.bmp\u001b[39m\u001b[38;5;124m\"\u001b[39m \u001b[38;5;129;01min\u001b[39;00m inputobj[\u001b[38;5;241m0\u001b[39m]\u001b[38;5;241m.\u001b[39mlower():\n\u001b[0;32m    764\u001b[0m         \u001b[38;5;66;03m# scan sequence of BMP files\u001b[39;00m\n\u001b[0;32m    765\u001b[0m         ima \u001b[38;5;241m=\u001b[39m vtk\u001b[38;5;241m.\u001b[39mvtkImageAppend()\n\u001b[0;32m    766\u001b[0m         ima\u001b[38;5;241m.\u001b[39mSetAppendAxis(\u001b[38;5;241m2\u001b[39m)\n",
      "\u001b[1;31mIndexError\u001b[0m: list index out of range"
     ]
    }
   ],
   "source": [
    "\"\"\"Render meshes into inset windows\n",
    "(which can be dragged)\"\"\"\n",
    "from vedo import *\n",
    "\n",
    "plt = Plotter(bg2='bisque', size=(1000,800), interactive=False)\n",
    "\n",
    "e = Volume(dataurl+\"embryo.tif\").isosurface()\n",
    "e.normalize().shift(-2,-1.5,-2).c(\"gold\")\n",
    "\n",
    "plt.show(e, __doc__, viewup='z')\n",
    "\n",
    "# make clone copies of the embryo surface and cut them:\n",
    "e1 = e.clone().cutWithPlane(normal=[0,1,0]).c(\"green\")\n",
    "e2 = e.clone().cutWithPlane(normal=[1,0,0]).c(\"red\")\n",
    "\n",
    "# add 2 draggable inset windows:\n",
    "plt.addInset(e1, pos=(0.9,0.8))\n",
    "plt.addInset(e2, pos=(0.9,0.5))\n",
    "\n",
    "# customised axes can also be inserted:\n",
    "ax = Axes(xrange=(0,1), yrange=(0,1), zrange=(0,1),\n",
    "          xtitle='front', ytitle='left', ztitle='head',\n",
    "          yzGrid=False, xTitleSize=0.15, yTitleSize=0.15, zTitleSize=0.15,\n",
    "          xLabelSize=0, yLabelSize=0, zLabelSize=0, tipSize=0.05,\n",
    "          axesLineWidth=2, xLineColor='dr', yLineColor='dg', zLineColor='db',\n",
    "          xTitleOffset=0.05, yTitleOffset=0.05, zTitleOffset=0.05,\n",
    ")\n",
    "\n",
    "ex = e.clone().scale(0.25).pos(0,0.1,0.1).alpha(0.1).lighting('off')\n",
    "plt.addInset(ax, ex, pos=(0.1,0.1), size=0.15, draggable=False)\n",
    "plt.interactive().close()"
   ]
  },
  {
   "cell_type": "code",
   "execution_count": 3,
   "id": "e8ff62cb-197f-4304-88d4-86450f1455bf",
   "metadata": {},
   "outputs": [],
   "source": [
    "import polyscope as ps\n",
    "\n",
    "# Initialize polyscope\n",
    "ps.init()"
   ]
  },
  {
   "cell_type": "code",
   "execution_count": 4,
   "id": "ef1a1708-2366-461a-b963-50bd5fb1c520",
   "metadata": {},
   "outputs": [
    {
     "name": "stderr",
     "output_type": "stream",
     "text": [
      "\u001b[1m\u001b[31;20m[vedo.io.py:149] ERROR: in load(), cannot load http://vedo.embl.es/examples/data/embryo.tif\u001b[0m\n"
     ]
    },
    {
     "ename": "AttributeError",
     "evalue": "'NoneType' object has no attribute 'isosurface'",
     "output_type": "error",
     "traceback": [
      "\u001b[1;31m---------------------------------------------------------------------------\u001b[0m",
      "\u001b[1;31mAttributeError\u001b[0m                            Traceback (most recent call last)",
      "Input \u001b[1;32mIn [4]\u001b[0m, in \u001b[0;36m<cell line: 7>\u001b[1;34m()\u001b[0m\n\u001b[0;32m      4\u001b[0m \u001b[38;5;28;01mimport\u001b[39;00m \u001b[38;5;21;01mvedo\u001b[39;00m\n\u001b[0;32m      5\u001b[0m \u001b[38;5;28;01mimport\u001b[39;00m \u001b[38;5;21;01mpolyscope\u001b[39;00m\n\u001b[1;32m----> 7\u001b[0m m \u001b[38;5;241m=\u001b[39m \u001b[43mvedo\u001b[49m\u001b[38;5;241;43m.\u001b[39;49m\u001b[43mload\u001b[49m\u001b[43m(\u001b[49m\u001b[43mvedo\u001b[49m\u001b[38;5;241;43m.\u001b[39;49m\u001b[43mdataurl\u001b[49m\u001b[38;5;241;43m+\u001b[39;49m\u001b[38;5;124;43m'\u001b[39;49m\u001b[38;5;124;43membryo.tif\u001b[39;49m\u001b[38;5;124;43m'\u001b[39;49m\u001b[43m)\u001b[49m\u001b[38;5;241;43m.\u001b[39;49m\u001b[43misosurface\u001b[49m()\u001b[38;5;241m.\u001b[39mextractLargestRegion()\n\u001b[0;32m      8\u001b[0m \u001b[38;5;66;03m# m = vedo.load(vedo.dataurl+'man.vtk')\u001b[39;00m\n\u001b[0;32m     10\u001b[0m polyscope\u001b[38;5;241m.\u001b[39mset_program_name(\u001b[38;5;124m\"\u001b[39m\u001b[38;5;124mvedo using polyscope\u001b[39m\u001b[38;5;124m\"\u001b[39m)\n",
      "\u001b[1;31mAttributeError\u001b[0m: 'NoneType' object has no attribute 'isosurface'"
     ]
    }
   ],
   "source": [
    "#!/usr/bin/env python3\n",
    "# Visualization example with polyscope (pip install polyscope)\n",
    "# https://polyscope.run/py/\n",
    "import vedo\n",
    "import polyscope\n",
    "\n",
    "m = vedo.load(vedo.dataurl+'embryo.tif').isosurface().extractLargestRegion()\n",
    "# m = vedo.load(vedo.dataurl+'man.vtk')\n",
    "\n",
    "polyscope.set_program_name(\"vedo using polyscope\")\n",
    "polyscope.set_verbosity(0)\n",
    "polyscope.set_up_dir(\"z_up\")\n",
    "polyscope.init()\n",
    "ps_mesh = polyscope.register_surface_mesh('My vedo mesh',\n",
    "                                          m.points(), m.faces(),\n",
    "                                          color=[0.5,0,0],\n",
    "                                          smooth_shade=True,\n",
    "                                         )\n",
    "ps_mesh.add_scalar_quantity(\"heights\", m.points()[:,2], defined_on='vertices')\n",
    "ps_mesh.set_material(\"wax\") # wax, mud, jade, candy\n",
    "polyscope.show()\n",
    "\n",
    "vedo.show(m, axes=11)"
   ]
  },
  {
   "cell_type": "code",
   "execution_count": 5,
   "id": "c95e1bbf-f4c9-4832-ab0a-4ed198b5d58d",
   "metadata": {},
   "outputs": [
    {
     "ename": "NameError",
     "evalue": "name 'my_points' is not defined",
     "output_type": "error",
     "traceback": [
      "\u001b[1;31m---------------------------------------------------------------------------\u001b[0m",
      "\u001b[1;31mNameError\u001b[0m                                 Traceback (most recent call last)",
      "Input \u001b[1;32mIn [5]\u001b[0m, in \u001b[0;36m<cell line: 3>\u001b[1;34m()\u001b[0m\n\u001b[0;32m      1\u001b[0m \u001b[38;5;66;03m### Register a point cloud\u001b[39;00m\n\u001b[0;32m      2\u001b[0m \u001b[38;5;66;03m# `my_points` is a Nx3 numpy array\u001b[39;00m\n\u001b[1;32m----> 3\u001b[0m ps\u001b[38;5;241m.\u001b[39mregister_point_cloud(\u001b[38;5;124m\"\u001b[39m\u001b[38;5;124mmy points\u001b[39m\u001b[38;5;124m\"\u001b[39m, \u001b[43mmy_points\u001b[49m)\n\u001b[0;32m      5\u001b[0m \u001b[38;5;66;03m### Register a mesh\u001b[39;00m\n\u001b[0;32m      6\u001b[0m \u001b[38;5;66;03m# `verts` is a Nx3 numpy array of vertex positions\u001b[39;00m\n\u001b[0;32m      7\u001b[0m \u001b[38;5;66;03m# `faces` is a Fx3 array of indices, or a nested list\u001b[39;00m\n\u001b[0;32m      8\u001b[0m ps\u001b[38;5;241m.\u001b[39mregister_surface_mesh(\u001b[38;5;124m\"\u001b[39m\u001b[38;5;124mmy mesh\u001b[39m\u001b[38;5;124m\"\u001b[39m, verts, faces, smooth_shade\u001b[38;5;241m=\u001b[39m\u001b[38;5;28;01mTrue\u001b[39;00m)\n",
      "\u001b[1;31mNameError\u001b[0m: name 'my_points' is not defined"
     ]
    }
   ],
   "source": [
    "### Register a point cloud\n",
    "# `my_points` is a Nx3 numpy array\n",
    "ps.register_point_cloud(\"my points\", my_points)\n",
    "\n",
    "### Register a mesh\n",
    "# `verts` is a Nx3 numpy array of vertex positions\n",
    "# `faces` is a Fx3 array of indices, or a nested list\n",
    "ps.register_surface_mesh(\"my mesh\", verts, faces, smooth_shade=True)\n",
    "\n",
    "# Add a scalar function and a vector function defined on the mesh\n",
    "# vertex_scalar is a length V numpy array of values\n",
    "# face_vectors is an Fx3 array of vectors per face\n",
    "ps.get_surface_mesh(\"my mesh\").add_scalar_quantity(\"my_scalar\", \n",
    "        vertex_scalar, defined_on='vertices', cmap='blues')\n",
    "ps.get_surface_mesh(\"my mesh\").add_vector_quantity(\"my_vector\", \n",
    "        face_vectors, defined_on='faces', color=(0.2, 0.5, 0.5))\n",
    "\n",
    "# View the point cloud and mesh we just registered in the 3D UI\n",
    "ps.show()"
   ]
  },
  {
   "cell_type": "markdown",
   "id": "85407a44-de35-4b9f-8b9d-7085a2ed3fa2",
   "metadata": {},
   "source": [
    "# Personal Experimentation"
   ]
  },
  {
   "cell_type": "code",
   "execution_count": 6,
   "id": "4c6cd73b-d3b8-4258-9c98-1391d99efa15",
   "metadata": {},
   "outputs": [
    {
     "data": {
      "text/plain": [
       "<Mesh(0x000001B36D081B10) at 0x000001B303027880>"
      ]
     },
     "execution_count": 6,
     "metadata": {},
     "output_type": "execute_result"
    }
   ],
   "source": [
    "# Plots test_epochs_df\n",
    "\n",
    "def plot_epoch_rects_vedo(test_epochs_df, should_save=True):\n",
    "    start_ts = test_epochs_df['start'].to_numpy()\n",
    "    stop_ts = test_epochs_df['stop'].to_numpy()\n",
    "    num_epochs = np.shape(test_epochs_df)[0]\n",
    "    rect_meshes = list()\n",
    "    for i in np.arange(num_epochs):\n",
    "        rect_meshes.append(Rectangle(p1=(start_ts[i], 0), p2=(stop_ts[i], 100), c='black', alpha=1))\n",
    "    # Merge them into a single object:\n",
    "    rect_meshes = merge(rect_meshes, flag=True) # this merges them into a single object\n",
    "    if should_save:\n",
    "        rect_meshes.write(\"epoch_rect_meshes_cache.ply\") # this saves them so you don't need to recreate\n",
    "    ## NOTE: the saved mesh can be loaded with rect_meshes = Mesh(\"epoch_rect_meshes_cache.ply\", c='black') # load saved messages:\n",
    "    return rect_meshes\n",
    "\n",
    "\n",
    "rect_meshes = plot_epoch_rects_vedo(test_epochs_df, should_save=False)\n",
    "rect_meshes.color(1).lighting('glossy')"
   ]
  },
  {
   "cell_type": "code",
   "execution_count": 7,
   "id": "e20aa0d9-3b15-4a40-ab2f-c5dc46b1140d",
   "metadata": {},
   "outputs": [],
   "source": [
    "def _build_spikes_colormap(spike_color_ids):\n",
    "    # let the scalar be the y coordinate of the mesh vertices\n",
    "    # spike_color_ids = all_spike_lines.points()[:, 1]\n",
    "    # assign color map with specified opacities\n",
    "    try:\n",
    "        import colorcet  # https://colorcet.holoviz.org\n",
    "        import numpy as np\n",
    "        # mycmap = colorcet.bmy\n",
    "        mycmap = colorcet.glasbey_light\n",
    "        alphas = np.linspace(0.8, 0.2, num=len(mycmap))\n",
    "    except:\n",
    "        printc(\"colorcet is not available, use custom cmap\", c='y')\n",
    "        mycmap = [\"darkblue\", \"magenta\", (1, 1, 0)]\n",
    "        alphas = [0.8,              0.6,       0.2]\n",
    "        # - OR by generating a palette between 2 colors:\n",
    "        #mycmap = makePalette('pink', 'green', N=500, hsv=True)\n",
    "        #alphas = 1\n",
    "    return mycmap, alphas, spike_color_ids\n",
    "\n",
    "def build_spikes_lines(spikes_df, spike_start_z = 0.0, spike_end_z = 10.0):\n",
    "    \"\"\" referneces: \n",
    "    https://github.com/marcomusy/vedo/blob/master/examples/basic/colorMeshCells.py\n",
    "    https://github.com/marcomusy/vedo/blob/master/examples/basic/lights.py\n",
    "    \"\"\"\n",
    "    curr_spike_t = spikes_df[spikes_df.spikes.time_variable_name].to_numpy() # this will map\n",
    "    curr_spike_y = spikes_df['visualization_raster_y_location'].to_numpy() # this will map\n",
    "\n",
    "    startPoints = np.vstack((curr_spike_t, curr_spike_y, np.full_like(curr_spike_t, spike_start_z))).T\n",
    "    endPoints = np.vstack((curr_spike_t, curr_spike_y, np.full_like(curr_spike_t, spike_end_z))).T\n",
    "    # curr_spike_colors = curr_spike_y.copy()\n",
    "    # all_x = self.active_windowed_df[self.active_windowed_df.spikes.time_variable_name].to_numpy()\n",
    "    # np.shape(startPoints) # (3, 69142)\n",
    "    # all_spike_lines = Lines(startPoints, endPoints=endPoints, c='k', alpha=0.95, lw=1.0, dotted=False, scale=1, res=1)\n",
    "    all_spike_lines = Lines(startPoints, endPoints=endPoints, c='k', alpha=0.8, lw=1.0, dotted=False, scale=1, res=1) # curr_spike_alphas\n",
    "    # let the scalar be the y coordinate of the mesh vertices\n",
    "    spike_color_ids = all_spike_lines.points()[:, 1]\n",
    "    curr_spike_cmap, curr_spike_alphas, spike_color_ids = _build_spikes_colormap(spike_color_ids)\n",
    "    # all_spike_lines.cmap(mycmap, spike_color_ids, alpha=alphas).addScalarBar()\n",
    "    all_spike_lines.cmap(curr_spike_cmap, spike_color_ids).addScalarBar()\n",
    "    return all_spike_lines\n",
    "\n",
    "all_spike_lines = build_spikes_lines(spikes_df, spike_start_z = 0.0, spike_end_z = 20.0)"
   ]
  },
  {
   "cell_type": "code",
   "execution_count": 8,
   "id": "c7870a70-a422-42dc-bf92-10d43eb52722",
   "metadata": {},
   "outputs": [
    {
     "name": "stdout",
     "output_type": "stream",
     "text": [
      "N: 138284, m.points().shape: (138284, 3)\n"
     ]
    }
   ],
   "source": [
    "### Test displaying Spikes using Polyscope\n",
    "\n",
    "m = all_spike_lines\n",
    "# let the scalar be the y coordinate of the mesh vertices\n",
    "spike_color_ids = all_spike_lines.points()[:, 1]\n",
    "    \n",
    "ps.set_program_name(\"vedo using polyscope\")\n",
    "ps.set_verbosity(0)\n",
    "ps.set_up_dir(\"z_up\")\n",
    "# ps.init() # already called\n",
    "ps_cloud = ps.register_point_cloud(\"spike_points\", m.points())\n",
    "\n",
    "N = len(m.points())\n",
    "print(f'N: {N}, m.points().shape: {m.points().shape}')\n",
    "# generate some random vectors per-point\n",
    "# vecs = np.random.rand(N, 3)\n",
    "# vecs = np.full((N,1), np.array([0, 0, 1]))\n",
    "vecs = np.full_like(m.points(), np.array([0, 0, 10]))\n",
    "\n",
    "# basic visualization\n",
    "# ps_cloud.add_vector_quantity(\"rand vecs\", vecs, enabled=True)\n",
    "# set radius/length/color of the vectors\n",
    "# ps_cloud.add_vector_quantity(\"rand vecs\", vecs, radius=0.001, length=0.005, color=(0.2, 0.5, 0.5))\n",
    "# ambient vectors don't get auto-scaled, useful e.g. when representing offsets in 3D space\n",
    "ps_cloud.add_vector_quantity(\"vecs ambient\", vecs, length=0.005, radius=0.0001, vectortype='ambient')\n",
    "ps.get_point_cloud(\"spike_points\").add_scalar_quantity(\"neuron_identity\", spike_color_ids)\n",
    "\n",
    "# basic color visualization\n",
    "# ps_cloud.add_color_quantity(\"rand colors\", vals)\n",
    "\n",
    "\n",
    "\n",
    "# ps_mesh = ps.register_surface_mesh('My vedo mesh',\n",
    "#                                           m.points(), m.faces(),\n",
    "#                                           color=[0.5,0,0],\n",
    "#                                           smooth_shade=True,\n",
    "#                                          )\n",
    "# ps_mesh.add_scalar_quantity(\"heights\", m.points()[:,2], defined_on='vertices')\n",
    "# ps_mesh.set_material(\"wax\") # wax, mud, jade, candy\n",
    "\n",
    "\n",
    "# Position the camera\n",
    "ps.look_at((0., 0., 5.), (1., 1., 1.))\n",
    "\n",
    "\n",
    "ps.show()\n",
    "# vedo.show(m, axes=11)"
   ]
  },
  {
   "cell_type": "code",
   "execution_count": 23,
   "id": "9fbc528d-5386-4691-b64f-54a38bc97dba",
   "metadata": {},
   "outputs": [
    {
     "data": {
      "text/plain": [
       "array([[1., 0., 0., 0.],\n",
       "       [0., 1., 0., 0.],\n",
       "       [0., 0., 1., 0.],\n",
       "       [0., 0., 0., 1.]], dtype=float32)"
      ]
     },
     "execution_count": 23,
     "metadata": {},
     "output_type": "execute_result"
    }
   ],
   "source": [
    "ps.get_point_cloud(\"spike_points\").get_transform()\n",
    "\n",
    "ps.get_point_cloud(\"spike_points\").get_position()"
   ]
  },
  {
   "cell_type": "code",
   "execution_count": 7,
   "id": "50f390ee-56f5-468d-99b0-c583385270be",
   "metadata": {},
   "outputs": [],
   "source": [
    "# \"depth peeling\" may improve the rendering of transparent objects\n",
    "settings.useDepthPeeling = True\n",
    "settings.multiSamples = 2  # needed on OSX vtk9\n",
    "\n",
    "# all_spike_lines.lighting('glossy').addShadows()\n",
    "all_spike_lines.lighting('metallic')\n",
    "\n",
    "# plt = Plotter(axes=1, title='Pho Vedo Test', bg='black', bg2='bb') # bg='black', bg2='lightblue'\n",
    "plt = Plotter(axes=2, title='Pho Vedo Test', bg='black', bg2='bb') # bg='black', bg2='lightblue'\n",
    "# all_spike_lines.lineColor(c=curr_spike_colors.T)\n",
    "# all_spike_lines.cellIndividualColors = curr_spike_colors.T\n",
    "# plt.addCallback('mouse click', clickfunc)\n",
    "# plt.show(l1,l2, *rect_meshes, __doc__, viewup='z').close()\n",
    "# plt.show(l1,l2, __doc__, viewup='z').close()\n",
    "\n",
    "# plt.show(l1,l2, rect_meshes, __doc__, viewup='z')\n",
    "plt.show(rect_meshes, all_spike_lines, __doc__, viewup='z', interactive=True).addGlobalAxes().close() # .flyTo([1,0,0])\n",
    "# plt.addGlobalAxes()"
   ]
  },
  {
   "cell_type": "code",
   "execution_count": 10,
   "id": "4bdb5e99-95fd-4d6f-ad8e-de472d32f98d",
   "metadata": {},
   "outputs": [
    {
     "ename": "AttributeError",
     "evalue": "'NoneType' object has no attribute 'FlyTo'",
     "output_type": "error",
     "traceback": [
      "\u001b[1;31m---------------------------------------------------------------------------\u001b[0m",
      "\u001b[1;31mAttributeError\u001b[0m                            Traceback (most recent call last)",
      "Input \u001b[1;32mIn [10]\u001b[0m, in \u001b[0;36m<cell line: 2>\u001b[1;34m()\u001b[0m\n\u001b[0;32m      1\u001b[0m \u001b[38;5;66;03m## Fly the camera to a certain place:\u001b[39;00m\n\u001b[1;32m----> 2\u001b[0m \u001b[43mplt\u001b[49m\u001b[38;5;241;43m.\u001b[39;49m\u001b[43mflyTo\u001b[49m\u001b[43m(\u001b[49m\u001b[43m[\u001b[49m\u001b[38;5;241;43m0\u001b[39;49m\u001b[43m,\u001b[49m\u001b[38;5;241;43m0\u001b[39;49m\u001b[43m,\u001b[49m\u001b[38;5;241;43m0\u001b[39;49m\u001b[43m]\u001b[49m\u001b[43m)\u001b[49m\u001b[38;5;241m.\u001b[39mshow()\n",
      "File \u001b[1;32m~\\miniconda3\\envs\\phoviz_ultimate\\lib\\site-packages\\vedo\\plotter.py:1262\u001b[0m, in \u001b[0;36mPlotter.flyTo\u001b[1;34m(self, point, at)\u001b[0m\n\u001b[0;32m   1244\u001b[0m \u001b[38;5;124;03m\"\"\"\u001b[39;00m\n\u001b[0;32m   1245\u001b[0m \u001b[38;5;124;03mFly camera to the specified point.\u001b[39;00m\n\u001b[0;32m   1246\u001b[0m \n\u001b[1;32m   (...)\u001b[0m\n\u001b[0;32m   1259\u001b[0m \u001b[38;5;124;03m        Cone().show(axes=1).flyTo([1,0,0]).show()\u001b[39;00m\n\u001b[0;32m   1260\u001b[0m \u001b[38;5;124;03m\"\"\"\u001b[39;00m\n\u001b[0;32m   1261\u001b[0m \u001b[38;5;28mself\u001b[39m\u001b[38;5;241m.\u001b[39mresetcam \u001b[38;5;241m=\u001b[39m \u001b[38;5;28;01mFalse\u001b[39;00m\n\u001b[1;32m-> 1262\u001b[0m \u001b[38;5;28;43mself\u001b[39;49m\u001b[38;5;241;43m.\u001b[39;49m\u001b[43minteractor\u001b[49m\u001b[38;5;241;43m.\u001b[39;49m\u001b[43mFlyTo\u001b[49m(\u001b[38;5;28mself\u001b[39m\u001b[38;5;241m.\u001b[39mrenderers[at], point)\n\u001b[0;32m   1263\u001b[0m \u001b[38;5;28;01mreturn\u001b[39;00m \u001b[38;5;28mself\u001b[39m\n",
      "\u001b[1;31mAttributeError\u001b[0m: 'NoneType' object has no attribute 'FlyTo'"
     ]
    }
   ],
   "source": [
    "## Fly the camera to a certain place:\n",
    "plt.flyTo([0,0,0]).show()"
   ]
  },
  {
   "cell_type": "code",
   "execution_count": 9,
   "id": "3cba3a73-e134-4a9f-898e-72c11d72e1e0",
   "metadata": {},
   "outputs": [
    {
     "ename": "NameError",
     "evalue": "name 'curr_spike_cmap' is not defined",
     "output_type": "error",
     "traceback": [
      "\u001b[1;31m---------------------------------------------------------------------------\u001b[0m",
      "\u001b[1;31mNameError\u001b[0m                                 Traceback (most recent call last)",
      "Input \u001b[1;32mIn [9]\u001b[0m, in \u001b[0;36m<cell line: 2>\u001b[1;34m()\u001b[0m\n\u001b[0;32m      1\u001b[0m \u001b[38;5;66;03m# all_spike_lines.lineColor(c=curr_spike_colors)\u001b[39;00m\n\u001b[1;32m----> 2\u001b[0m all_spike_lines\u001b[38;5;241m.\u001b[39mcmap(\u001b[43mcurr_spike_cmap\u001b[49m, spike_color_ids)\u001b[38;5;241m.\u001b[39maddScalarBar()\n",
      "\u001b[1;31mNameError\u001b[0m: name 'curr_spike_cmap' is not defined"
     ]
    }
   ],
   "source": [
    "# all_spike_lines.lineColor(c=curr_spike_colors)\n",
    "all_spike_lines.cmap(curr_spike_cmap, spike_color_ids).addScalarBar()"
   ]
  },
  {
   "cell_type": "code",
   "execution_count": 14,
   "id": "4b2e03ce-9604-4faf-9757-59f4d83529af",
   "metadata": {},
   "outputs": [
    {
     "data": {
      "text/plain": [
       "<vedo.plotter.Plotter at 0x26188e56130>"
      ]
     },
     "execution_count": 14,
     "metadata": {},
     "output_type": "execute_result"
    }
   ],
   "source": [
    "cu = Cube(side=500).x(500) # any Mesh works\n",
    "all_spike_lines.cutWithBox(cu).show(axes=2)"
   ]
  },
  {
   "cell_type": "code",
   "execution_count": null,
   "id": "a0e6958a-d1f0-49ef-b2cc-eaa0f4461790",
   "metadata": {},
   "outputs": [],
   "source": [
    "cu = Cube(side=500).x(0) # any Mesh works\n",
    "all_spike_lines.cutWithBox(cu).show(axes=2)"
   ]
  }
 ],
 "metadata": {
  "kernelspec": {
   "display_name": "Python [conda env:phoviz_ultimate]",
   "language": "python",
   "name": "conda-env-phoviz_ultimate-py"
  },
  "language_info": {
   "codemirror_mode": {
    "name": "ipython",
    "version": 3
   },
   "file_extension": ".py",
   "mimetype": "text/x-python",
   "name": "python",
   "nbconvert_exporter": "python",
   "pygments_lexer": "ipython3",
   "version": "3.9.10"
  }
 },
 "nbformat": 4,
 "nbformat_minor": 5
}
