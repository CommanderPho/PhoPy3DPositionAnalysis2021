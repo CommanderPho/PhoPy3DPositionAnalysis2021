{
 "cells": [
  {
   "cell_type": "markdown",
   "id": "c9351223-b160-4c79-9efd-05ed7a448713",
   "metadata": {},
   "source": [
    "# `alive-progress` progress bar testing"
   ]
  },
  {
   "cell_type": "code",
   "execution_count": 1,
   "id": "5e29127a-5dea-4136-abd4-48bcee9375dd",
   "metadata": {},
   "outputs": [],
   "source": [
    "from alive_progress import alive_bar\n",
    "import time"
   ]
  },
  {
   "cell_type": "code",
   "execution_count": null,
   "id": "d65dd2fa-f7fb-4f5f-8bad-c955ecfe8d39",
   "metadata": {},
   "outputs": [],
   "source": [
    "for x in 1000, 1500, 700, 0:\n",
    "    with alive_bar(x, force_tty=True) as bar:\n",
    "        for i in range(1000):\n",
    "            time.sleep(.005)\n",
    "            bar()"
   ]
  },
  {
   "cell_type": "code",
   "execution_count": null,
   "id": "be24d71a-cc5c-4e1d-97cd-9dedfa470144",
   "metadata": {},
   "outputs": [],
   "source": [
    "for x in 1000, 1500, 700, 0:\n",
    "    with alive_bar(x) as bar:\n",
    "        for i in range(1000):\n",
    "            time.sleep(.005)\n",
    "            bar()"
   ]
  },
  {
   "cell_type": "code",
   "execution_count": null,
   "id": "09123e61-ce94-41ab-a150-4147b067d6cd",
   "metadata": {},
   "outputs": [],
   "source": [
    "from alive_progress.styles import showtime\n",
    "showtime() # does not work"
   ]
  },
  {
   "cell_type": "code",
   "execution_count": 7,
   "id": "74054dab-dd63-48d5-a7ac-1a43f66d8684",
   "metadata": {},
   "outputs": [
    {
     "name": "stdout",
     "output_type": "stream",
     "text": [
      "on 0: 1000                                                                                                              \n",
      "on 1: 1500                                                                                                              \n",
      "on 2: 700                                                                                                               \n",
      "on 3: 0                                                                                                                 \n",
      "|████████████████████████████████████████| 4/4 [100%] in 2.0s (1.96/s)                                                  \n"
     ]
    }
   ],
   "source": [
    "items = [1000, 1500, 700, 0]\n",
    "total = len(items)\n",
    "with alive_bar(total, force_tty=True) as bar:  # declare your expected total\n",
    "    for item in items:         # <<-- your original loop\n",
    "        time.sleep(.5)\n",
    "        print(item)            # process each item\n",
    "        bar()     \n",
    "        "
   ]
  },
  {
   "cell_type": "code",
   "execution_count": null,
   "id": "959ed8f4-0d93-4477-aaa8-5f3ee566c9b0",
   "metadata": {},
   "outputs": [],
   "source": []
  }
 ],
 "metadata": {
  "kernelspec": {
   "display_name": "Python [conda env:phoviz_ultimate]",
   "language": "python",
   "name": "conda-env-phoviz_ultimate-py"
  },
  "language_info": {
   "codemirror_mode": {
    "name": "ipython",
    "version": 3
   },
   "file_extension": ".py",
   "mimetype": "text/x-python",
   "name": "python",
   "nbconvert_exporter": "python",
   "pygments_lexer": "ipython3",
   "version": "3.9.13"
  }
 },
 "nbformat": 4,
 "nbformat_minor": 5
}
