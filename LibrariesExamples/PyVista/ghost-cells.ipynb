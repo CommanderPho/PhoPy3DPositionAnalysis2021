{
 "cells": [
  {
   "cell_type": "code",
   "execution_count": 1,
   "metadata": {
    "collapsed": false,
    "jupyter": {
     "outputs_hidden": false
    }
   },
   "outputs": [
    {
     "ename": "NameError",
     "evalue": "name 'pyvista' is not defined",
     "output_type": "error",
     "traceback": [
      "\u001b[1;31m---------------------------------------------------------------------------\u001b[0m",
      "\u001b[1;31mNameError\u001b[0m                                 Traceback (most recent call last)",
      "\u001b[1;32m~\\AppData\\Local\\Temp/ipykernel_4616/2379115490.py\u001b[0m in \u001b[0;36m<module>\u001b[1;34m\u001b[0m\n\u001b[0;32m      2\u001b[0m \u001b[1;32mfrom\u001b[0m \u001b[0mpyvista\u001b[0m \u001b[1;32mimport\u001b[0m \u001b[0mset_plot_theme\u001b[0m\u001b[1;33m\u001b[0m\u001b[1;33m\u001b[0m\u001b[0m\n\u001b[0;32m      3\u001b[0m \u001b[0mset_plot_theme\u001b[0m\u001b[1;33m(\u001b[0m\u001b[1;34m'document'\u001b[0m\u001b[1;33m)\u001b[0m\u001b[1;33m\u001b[0m\u001b[1;33m\u001b[0m\u001b[0m\n\u001b[1;32m----> 4\u001b[1;33m \u001b[0mpyvista\u001b[0m\u001b[1;33m.\u001b[0m\u001b[0m_wrappers\u001b[0m\u001b[1;33m[\u001b[0m\u001b[1;34m'vtkPolyData'\u001b[0m\u001b[1;33m]\u001b[0m \u001b[1;33m=\u001b[0m \u001b[0mpyvista\u001b[0m\u001b[1;33m.\u001b[0m\u001b[0mPolyData\u001b[0m\u001b[1;33m\u001b[0m\u001b[1;33m\u001b[0m\u001b[0m\n\u001b[0m",
      "\u001b[1;31mNameError\u001b[0m: name 'pyvista' is not defined"
     ]
    }
   ],
   "source": [
    "%matplotlib inline\n",
    "from pyvista import set_plot_theme\n",
    "set_plot_theme('document')\n",
    "pyvista._wrappers['vtkPolyData'] = pyvista.PolyData"
   ]
  },
  {
   "cell_type": "markdown",
   "metadata": {},
   "source": [
    "Hide Cells with Ghosting\n",
    "========================\n",
    "\n",
    "Specify specific cells to hide when plotting.\n",
    "\n",
    "This is a lightweight alternative to thresholding to quickly hide cells\n",
    "in a mesh without creating a new mesh.\n",
    "\n",
    "Notably, the mesh must be cast to an\n",
    "`pyvista.UnstructuredGrid`{.interpreted-text role=\"class\"} type for this\n",
    "to work (use the `cast_to_unstructured_grid` filter).\n"
   ]
  },
  {
   "cell_type": "code",
   "execution_count": 2,
   "metadata": {
    "collapsed": false,
    "jupyter": {
     "outputs_hidden": false
    }
   },
   "outputs": [],
   "source": [
    "import pyvista as pv\n",
    "from pyvista import examples\n",
    "import numpy as np\n",
    "\n",
    "vol = examples.load_channels()\n",
    "mesh = vol.cast_to_unstructured_grid()"
   ]
  },
  {
   "cell_type": "markdown",
   "metadata": {},
   "source": [
    "Decide which cells are ghosted with a criteria (feel free to adjust this\n",
    "or manually create this array to hide specific cells).\n"
   ]
  },
  {
   "cell_type": "code",
   "execution_count": 3,
   "metadata": {
    "collapsed": false,
    "jupyter": {
     "outputs_hidden": false
    }
   },
   "outputs": [
    {
     "data": {
      "text/html": [
       "<table><tr><th>Header</th><th>Data Arrays</th></tr><tr><td>\n",
       "<table>\n",
       "<tr><th>UnstructuredGrid</th><th>Information</th></tr>\n",
       "<tr><td>N Cells</td><td>1065589</td></tr>\n",
       "<tr><td>N Points</td><td>1336015</td></tr>\n",
       "<tr><td>X Bounds</td><td>0.000e+00, 2.500e+02</td></tr>\n",
       "<tr><td>Y Bounds</td><td>0.000e+00, 2.500e+02</td></tr>\n",
       "<tr><td>Z Bounds</td><td>0.000e+00, 1.000e+02</td></tr>\n",
       "<tr><td>N Arrays</td><td>2</td></tr>\n",
       "</table>\n",
       "\n",
       "</td><td>\n",
       "<table>\n",
       "<tr><th>Name</th><th>Field</th><th>Type</th><th>N Comp</th><th>Min</th><th>Max</th></tr>\n",
       "<tr><td>facies</td><td>Cells</td><td>int64</td><td>1</td><td>1.000e+00</td><td>4.000e+00</td></tr>\n",
       "<tr><td><b>vtkGhostType</b></td><td>Cells</td><td>uint8</td><td>1</td><td>0.000e+00</td><td>0.000e+00</td></tr>\n",
       "</table>\n",
       "\n",
       "</td></tr> </table>"
      ],
      "text/plain": [
       "UnstructuredGrid (0x227f7b24280)\n",
       "  N Cells:\t1065589\n",
       "  N Points:\t1336015\n",
       "  X Bounds:\t0.000e+00, 2.500e+02\n",
       "  Y Bounds:\t0.000e+00, 2.500e+02\n",
       "  Z Bounds:\t0.000e+00, 1.000e+02\n",
       "  N Arrays:\t2"
      ]
     },
     "execution_count": 3,
     "metadata": {},
     "output_type": "execute_result"
    }
   ],
   "source": [
    "ghosts = np.argwhere(mesh[\"facies\"] < 1.0)\n",
    "\n",
    "# This will act on the mesh inplace to mark those cell indices as ghosts\n",
    "mesh.remove_cells(ghosts)"
   ]
  },
  {
   "cell_type": "markdown",
   "metadata": {},
   "source": [
    "Now we can plot the mesh and those cells will be hidden\n"
   ]
  },
  {
   "cell_type": "code",
   "execution_count": null,
   "metadata": {
    "collapsed": false,
    "jupyter": {
     "outputs_hidden": false
    }
   },
   "outputs": [],
   "source": [
    "mesh.plot(clim=[0,4])"
   ]
  }
 ],
 "metadata": {
  "kernelspec": {
   "display_name": "Python 3 (ipykernel)",
   "language": "python",
   "name": "python3"
  },
  "language_info": {
   "codemirror_mode": {
    "name": "ipython",
    "version": 3
   },
   "file_extension": ".py",
   "mimetype": "text/x-python",
   "name": "python",
   "nbconvert_exporter": "python",
   "pygments_lexer": "ipython3",
   "version": "3.9.7"
  }
 },
 "nbformat": 4,
 "nbformat_minor": 4
}
