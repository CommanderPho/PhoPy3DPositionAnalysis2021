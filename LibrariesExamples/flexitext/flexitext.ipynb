{
 "cells": [
  {
   "attachments": {},
   "cell_type": "markdown",
   "metadata": {},
   "source": [
    "Documentation of `flexitext` https://github.com/tomicapretto/flexitext \n",
    "\n",
    "a neat library that allows you to write text in a markup language to be rendered in matplotlib figures"
   ]
  },
  {
   "cell_type": "code",
   "execution_count": 3,
   "metadata": {},
   "outputs": [],
   "source": [
    "import matplotlib\n",
    "import matplotlib.pyplot as plt\n",
    "from flexitext import flexitext"
   ]
  },
  {
   "cell_type": "code",
   "execution_count": null,
   "metadata": {},
   "outputs": [],
   "source": [
    "fig, ax = plt.subplots(figsize=(9, 6))\n",
    "fig.subplots_adjust(top=0.8, left=0.025)\n",
    "\n",
    "x = [1, 2, 3]\n",
    "y_blue = [2, 2.7, 4.5]\n",
    "y_red = [1, 3, 2.5]\n",
    "\n",
    "\n",
    "ax.scatter(x, y_blue, color=\"royalblue\", s=120)\n",
    "ax.scatter(x, y_red, color=\"crimson\", s=120)\n",
    "\n",
    "# Add flexitext\n",
    "text = (\n",
    "    \"<name:Montserrat><size:24>A <weight:bold>great chart</> showing</>\\n\"\n",
    "    \"<size:18>the values for the \"\n",
    "    \"<color:royalblue, weight:bold>blues</> and the <color:crimson, weight:bold>reds</></></>\"\n",
    ")\n",
    "flexitext(0.025, 0.8, text, va=\"bottom\", xycoords=\"figure fraction\");"
   ]
  },
  {
   "cell_type": "code",
   "execution_count": null,
   "metadata": {},
   "outputs": [],
   "source": [
    "text = (\n",
    "    \"<size:28, color:blueviolet, name:Montserrat>You can write using\\n</>\"\n",
    "    \"<color:grey, size:24>multiple formats,\\nand linebreaks\\n\\n\"\n",
    "    \"<color:royalblue, name:Montserrat>also <weight:bold>bold text\\n\\n</></>\"\n",
    "    \"<name:Montserrat>and why not <color:royalblue, style:italic>italics</> too</></>\"\n",
    ")\n",
    "\n",
    "fig, ax = plt.subplots(figsize=(9, 6))\n",
    "flexitext(0.5, 0.5, text, ha=\"center\", ma=\"center\");"
   ]
  },
  {
   "cell_type": "code",
   "execution_count": null,
   "metadata": {},
   "outputs": [],
   "source": [
    "# Add flexitext\n",
    "text = (\n",
    "    \"<name:Montserrat><size:24>A <weight:bold>great chart</> showing</>\\n\"\n",
    "    \"<size:18>the values for the \"\n",
    "    \"<color:royalblue, weight:bold>blues</> and the <color:crimson, weight:bold>reds</></></>\"\n",
    ")\n",
    "flexitext(0.025, 0.8, text, va=\"bottom\", xycoords=\"figure fraction\");"
   ]
  }
 ],
 "metadata": {
  "kernelspec": {
   "display_name": ".venv",
   "language": "python",
   "name": "python3"
  },
  "language_info": {
   "codemirror_mode": {
    "name": "ipython",
    "version": 3
   },
   "file_extension": ".py",
   "mimetype": "text/x-python",
   "name": "python",
   "nbconvert_exporter": "python",
   "pygments_lexer": "ipython3",
   "version": "3.9.13"
  },
  "orig_nbformat": 4
 },
 "nbformat": 4,
 "nbformat_minor": 2
}
