{
 "cells": [
  {
   "cell_type": "code",
   "execution_count": 2,
   "metadata": {},
   "outputs": [],
   "source": [
    "## Use `mplfig` to save matplotlib figures out like MATLAB .fig files that can be loaded back up later (https://github.com/PaulVirally/mplfig)\n",
    "import matplotlib\n",
    "import mplfig\n",
    "import matplotlib.pyplot as plt\n",
    "%matplotlib qt\n",
    "\n",
    "xs = list(range(10))\n",
    "ys = list(map(lambda x: x**2, xs))\n",
    "\n",
    "plt.plot(xs, ys)\n",
    "mplfig.save_figure(plt.gcf(), 'myfig.mplpkl')\n",
    "\n",
    "plt.show()"
   ]
  },
  {
   "attachments": {},
   "cell_type": "markdown",
   "metadata": {},
   "source": [
    "## Load the saved 'myfig.mplpkl' and restore it as a valid matplotlib Figure object:"
   ]
  },
  {
   "cell_type": "code",
   "execution_count": null,
   "metadata": {},
   "outputs": [],
   "source": [
    "\n",
    "import mplfig\n",
    "import matplotlib.pyplot as plt\n",
    "%matplotlib qt\n",
    "\n",
    "\n",
    "fig = mplfig.load_figure('myfig.mplpkl') # Load the saved figure\n",
    "\n",
    "axes = fig.get_axes()\n",
    "axes[0].set_xlabel('$x$') # Add an x label\n",
    "axes[0].set_ylabel('$y = x^2$') # Add a y label\n",
    "axes[0].lines[0].set_marker('o') # Add a circle marker\n",
    "\n",
    "fig.show()\n",
    "# plt.show()"
   ]
  },
  {
   "cell_type": "code",
   "execution_count": null,
   "metadata": {},
   "outputs": [],
   "source": []
  }
 ],
 "metadata": {
  "kernelspec": {
   "display_name": "spike3d-poetry",
   "language": "python",
   "name": "spike3d-poetry"
  },
  "language_info": {
   "codemirror_mode": {
    "name": "ipython",
    "version": 3
   },
   "file_extension": ".py",
   "mimetype": "text/x-python",
   "name": "python",
   "nbconvert_exporter": "python",
   "pygments_lexer": "ipython3",
   "version": "3.9.13"
  },
  "orig_nbformat": 4
 },
 "nbformat": 4,
 "nbformat_minor": 2
}
