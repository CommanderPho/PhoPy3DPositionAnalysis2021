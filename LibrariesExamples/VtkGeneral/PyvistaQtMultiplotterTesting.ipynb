{
 "cells": [
  {
   "cell_type": "code",
   "execution_count": 1,
   "id": "843bfa5f-b8f8-47ed-a4a0-3abeae944afe",
   "metadata": {},
   "outputs": [],
   "source": [
    "#!/usr/bin/env python3\n",
    "# -*- coding: utf-8 -*-\n",
    "\"\"\"\n",
    "@author: pho\n",
    "MultiPlotter testing:\n",
    "\"\"\"\n",
    "import sys\n",
    "from threading import Thread\n",
    "from ipygany import PolyMesh, Scene, IsoColor, WarpByScalar\n",
    "import pyvista as pv\n",
    "import pyvistaqt as pvqt # conda install -c conda-forge pyvistaqt\n",
    "import numpy as np\n",
    "import h5py\n",
    "import hdf5storage # conda install hdf5storage\n",
    "from pathlib import Path\n",
    "import panel"
   ]
  },
  {
   "cell_type": "code",
   "execution_count": 15,
   "id": "e92a8e1b-644b-49ef-b845-6e11307c7db3",
   "metadata": {},
   "outputs": [
    {
     "name": "stdout",
     "output_type": "stream",
     "text": [
      "linear_plotter_indicies: [0 1 2 3 4]\n",
      " row_column_indicies: (array([0, 0, 0, 0, 0], dtype=int64), array([0, 1, 2, 3, 4], dtype=int64))\n",
      "\n",
      "a_linear_index: 0, row_column_indicies[0][a_linear_index]: 0, row_column_indicies[1][a_linear_index]: 0\n",
      "a_linear_index: 1, row_column_indicies[0][a_linear_index]: 0, row_column_indicies[1][a_linear_index]: 1\n",
      "a_linear_index: 2, row_column_indicies[0][a_linear_index]: 0, row_column_indicies[1][a_linear_index]: 2\n",
      "a_linear_index: 3, row_column_indicies[0][a_linear_index]: 0, row_column_indicies[1][a_linear_index]: 3\n",
      "a_linear_index: 4, row_column_indicies[0][a_linear_index]: 0, row_column_indicies[1][a_linear_index]: 4\n"
     ]
    },
    {
     "data": {
      "text/plain": [
       "<pyvistaqt.plotting.MultiPlotter at 0x28a94059670>"
      ]
     },
     "execution_count": 15,
     "metadata": {},
     "output_type": "execute_result"
    }
   ],
   "source": [
    "def build_placefield_multiplotter(nfields):\n",
    "    linear_plotter_indicies = np.arange(nfields)\n",
    "    fixed_columns = 5\n",
    "    needed_rows = int(np.ceil(nfields / fixed_columns))\n",
    "    row_column_indicies = np.unravel_index(linear_plotter_indicies, (needed_rows, fixed_columns)) # inverse is: np.ravel_multi_index(row_column_indicies, (needed_rows, fixed_columns))\n",
    "    mp = pvqt.MultiPlotter(nrows=needed_rows, ncols=fixed_columns, show=False, title='Muliplotter', toolbar=False, menu_bar=False, editor=False)\n",
    "    print('linear_plotter_indicies: {}\\n row_column_indicies: {}\\n'.format(linear_plotter_indicies, row_column_indicies))\n",
    "    # mp[0, 0].add_mesh(pv.Sphere())\n",
    "    # mp[0, 1].add_mesh(pv.Cylinder())\n",
    "    # mp[1, 0].add_mesh(pv.Cube())\n",
    "    # mp[1, 1].add_mesh(pv.Cone())\n",
    "    for a_linear_index in linear_plotter_indicies:\n",
    "        print('a_linear_index: {}, row_column_indicies[0][a_linear_index]: {}, row_column_indicies[1][a_linear_index]: {}'.format(a_linear_index, row_column_indicies[0][a_linear_index], row_column_indicies[1][a_linear_index]))\n",
    "        curr_row = row_column_indicies[0][a_linear_index]\n",
    "        curr_col = row_column_indicies[1][a_linear_index]\n",
    "        mp[curr_row, curr_col].add_mesh(pv.Sphere())\n",
    "        # mp[a_row_column_index[0], a_row_column_index[1]].add_mesh(pv.Sphere())\n",
    "    return mp\n",
    "\n",
    "p = build_placefield_multiplotter(5)\n",
    "p.show()\n",
    "p"
   ]
  },
  {
   "cell_type": "code",
   "execution_count": 8,
   "id": "dd9efb4c-04c1-4741-b2da-bb779dc69d8f",
   "metadata": {},
   "outputs": [
    {
     "name": "stdout",
     "output_type": "stream",
     "text": [
      "linear_plotter_indicies: [0 1 2 3 4 5 6 7 8]\n",
      " row_column_indicies: (array([0, 0, 0, 0, 0, 1, 1, 1, 1], dtype=int64), array([0, 1, 2, 3, 4, 0, 1, 2, 3], dtype=int64))\n",
      "\n"
     ]
    },
    {
     "data": {
      "text/plain": [
       "<pyvistaqt.plotting.MultiPlotter at 0x28a94d0d160>"
      ]
     },
     "execution_count": 8,
     "metadata": {},
     "output_type": "execute_result"
    }
   ],
   "source": [
    "mp[0, 0].add_mesh(pv.Sphere())"
   ]
  }
 ],
 "metadata": {
  "kernelspec": {
   "display_name": "Python 3 (ipykernel)",
   "language": "python",
   "name": "python3"
  },
  "language_info": {
   "codemirror_mode": {
    "name": "ipython",
    "version": 3
   },
   "file_extension": ".py",
   "mimetype": "text/x-python",
   "name": "python",
   "nbconvert_exporter": "python",
   "pygments_lexer": "ipython3",
   "version": "3.9.7"
  }
 },
 "nbformat": 4,
 "nbformat_minor": 5
}
