{
  "cells": [
    {
      "cell_type": "markdown",
      "metadata": {},
      "source": [
        "\n",
        ".. redirect-from:: /tutorials/provisional/mosaic\n",
        ".. redirect-from:: /gallery/subplots_axes_and_figures/mosaic\n",
        "\n",
        "\n",
        "# Complex and semantic figure composition (subplot_mosaic)\n",
        "\n",
        "Laying out Axes in a Figure in a non-uniform grid can be both tedious\n",
        "and verbose.  For dense, even grids we have `.Figure.subplots` but for\n",
        "more complex layouts, such as Axes that span multiple columns / rows\n",
        "of the layout or leave some areas of the Figure blank, you can use\n",
        "`.gridspec.GridSpec` (see `arranging_axes`) or\n",
        "manually place your axes.  `.Figure.subplot_mosaic` aims to provide an\n",
        "interface to visually lay out your axes (as either ASCII art or nested\n",
        "lists) to streamline this process.\n",
        "\n",
        "This interface naturally supports naming your axes.\n",
        "`.Figure.subplot_mosaic` returns a dictionary keyed on the\n",
        "labels used to lay out the Figure.  By returning data structures with\n",
        "names, it is easier to write plotting code that is independent of the\n",
        "Figure layout.\n",
        "\n",
        "\n",
        "This is inspired by a [proposed MEP](https://github.com/matplotlib/matplotlib/pull/4384)_ and the\n",
        "[patchwork](https://github.com/thomasp85/patchwork)_ library for R.\n",
        "While we do not implement the operator overloading style, we do\n",
        "provide a Pythonic API for specifying (nested) Axes layouts.\n"
      ]
    },
    {
      "cell_type": "code",
      "execution_count": 1,
      "metadata": {
        "collapsed": false
      },
      "outputs": [
        {
          "name": "stdout",
          "output_type": "stream",
          "text": [
            "['Gadugi', 'Segoe UI Historic', 'Palatino Linotype', 'MV Boli', 'Yu Gothic', 'Microsoft YaHei', 'Microsoft PhagsPa', 'TeX Gyre Bonum', 'cmsy10', 'Candara', 'STIXNonUnicode', 'TeX Gyre Heros', 'Ink Free', 'Microsoft New Tai Lue', 'Sitka Small', 'Marlett', 'Verdana', 'Source Sans Pro', 'Noto Serif', 'HoloLens MDL2 Assets', 'DejaVu Serif Display', 'Trebuchet MS', 'Malgun Gothic', 'Segoe Script', 'TeX Gyre Cursor', 'Tahoma', 'Roboto', 'Georgia', 'MS Gothic', 'Ubuntu', 'STIXSizeOneSym', 'Consolas', 'Lucida Sans Unicode', 'STIXSizeTwoSym', 'TeX Gyre Schola', 'Courier New', 'Gabriola', 'Sylfaen', 'cmr10', 'Arial', 'Wingdings', 'DejaVu Sans Display', 'DejaVu Sans Mono', 'Webdings', 'Ebrima', 'DejaVu Sans', 'TeX Gyre Termes', 'cmtt10', 'Cambria', 'Microsoft Sans Serif', 'STIXSizeFiveSym', 'Franklin Gothic Medium', 'Calibri', 'TeX Gyre Pagella', 'Fira Math', 'Symbol', 'TeX Gyre Chorus', 'Microsoft Tai Le', 'STIXGeneral', 'TeX Gyre Adventor', 'cmmi10', 'SimSun-ExtB', 'Myanmar Text', 'Times New Roman', 'Segoe UI', 'Corbel', 'Segoe MDL2 Assets', 'Open Sans', 'Nirmala UI', 'Microsoft JhengHei', 'SimSun', 'Lucida Console', 'Constantia', 'Mongolian Baiti', 'cmss10', 'Comic Sans MS', 'Segoe UI Emoji', 'Noto Sans', 'Segoe Print', 'STIXSizeFourSym', 'Microsoft Himalaya', 'Fira Sans', 'cmb10', 'MingLiU-ExtB', 'Microsoft Yi Baiti', 'Source Serif Pro', 'STIXSizeThreeSym', 'Bahnschrift', 'Impact', 'DejaVu Serif', 'Leelawadee UI', 'Segoe UI Symbol', 'Javanese Text', 'cmex10']\n"
          ]
        },
        {
          "data": {
            "text/plain": [
              "'Source Sans Pro'"
            ]
          },
          "execution_count": 1,
          "metadata": {},
          "output_type": "execute_result"
        }
      ],
      "source": [
        "import numpy as np\n",
        "import pandas as pd\n",
        "from matplotlib import font_manager\n",
        "import matplotlib.pyplot as plt\n",
        "\n",
        "# List available font families\n",
        "print(font_manager.get_font_names())\n",
        "'Source Serif Pro'\n",
        "'Source Sans Pro'\n"
      ]
    },
    {
      "cell_type": "code",
      "execution_count": 2,
      "metadata": {},
      "outputs": [],
      "source": [
        "test_test: str = \"wcorr: -0.754\\n$P_i$: 0.052\\npearsonr: -0.76\""
      ]
    },
    {
      "cell_type": "code",
      "execution_count": null,
      "metadata": {},
      "outputs": [],
      "source": [
        "# Set a different font family\n",
        "font = font_manager.FontProperties(family='DejaVu Sans')\n",
        "at = plt.axes().annotate(test_test, xy=(0.5, 0.5), xycoords='axes fraction',\n",
        "                         fontproperties=font)\n",
        "\n",
        "\n"
      ]
    },
    {
      "cell_type": "code",
      "execution_count": null,
      "metadata": {},
      "outputs": [],
      "source": [
        "import matplotlib.pyplot as plt\n",
        "\n",
        "# Set a system font (e.g., Arial)\n",
        "plt.rcParams['font.family'] = 'Arial'\n",
        "\n",
        "at = plt.axes().annotate(test_test, xy=(0.5, 0.5), xycoords='axes fraction')"
      ]
    },
    {
      "cell_type": "code",
      "execution_count": null,
      "metadata": {},
      "outputs": [],
      "source": [
        "# font_prop = font_manager.FontProperties(family='DejaVu Sans',\n",
        "#                               size=10,\n",
        "#                             #   weight='bold',\n",
        "#                             #   style='italic',\n",
        "#                               )\n",
        "\n",
        "'Source Serif Pro'\n",
        "font_prop = font_manager.FontProperties(family='Source Sans Pro', # 'Source Code Pro'\n",
        "                              size=10,\n",
        "                            #   weight='bold',\n",
        "                            #   style='italic',\n",
        "                              )\n",
        "\n",
        "\n",
        "at = plt.axes().annotate(test_test, xy=(0.5, 0.5), xycoords='axes fraction', fontproperties=font_prop)"
      ]
    },
    {
      "cell_type": "code",
      "execution_count": null,
      "metadata": {},
      "outputs": [],
      "source": [
        "font_prop = font_manager.FontProperties(family='Source Serif Pro', # 'Source Code Pro'\n",
        "                              size=10,\n",
        "                            #   weight='bold',\n",
        "                            #   style='italic',\n",
        "                              )\n",
        "\n",
        "\n",
        "at = plt.axes().annotate(test_test, xy=(0.5, 0.5), xycoords='axes fraction', fontproperties=font_prop)"
      ]
    },
    {
      "cell_type": "code",
      "execution_count": null,
      "metadata": {},
      "outputs": [],
      "source": [
        "plt.rcParams['legend.title_fontsize']"
      ]
    },
    {
      "cell_type": "code",
      "execution_count": null,
      "metadata": {},
      "outputs": [],
      "source": [
        "import colorsys\n",
        "from neuropy.utils.mathutil import map_to_fixed_range, map_value\n",
        "\n",
        "\n",
        "# def value_to_color(value):\n",
        "#     \"\"\"\n",
        "#     Maps a value between -1.0 and 1.0 to an RGB color code.\n",
        "#     \"\"\"\n",
        "#     norm = (value + 1) / 2  # Normalize the value to the range [0, 1]\n",
        "#     rgb = colorsys.hsv_to_rgb(norm * 0.67, 1.0, 1.0)  # Convert to RGB\n",
        "#     return '#{:02x}{:02x}{:02x}'.format(int(rgb[0] * 255), int(rgb[1] * 255), int(rgb[2] * 255))\n",
        "\n",
        "def value_to_color(value, debug_print=True):\n",
        "    \"\"\"\n",
        "    Maps a value between -1.0 and 1.0 to an RGB color code.\n",
        "    -1.0 maps to bright blue, 0.0 maps to dark gray, and 1.0 maps to bright red.\n",
        "    \"\"\"\n",
        "    \n",
        "    magnitude_value: float = np.abs(value)\n",
        "    # norm_value: float = map_to_fixed_range(magnitude_value, x_min=0.0, x_max=1.0)\n",
        "    saturation_component = magnitude_value\n",
        "    # saturation_component = norm_value\n",
        "\n",
        "    if value <= 0:\n",
        "        # Map values from -1.0 to 0.0 to shades of blue\n",
        "        # norm = (value + 1) / 2  # Normalize to [0, 1] range\n",
        "        rgb = colorsys.hsv_to_rgb(0.67, saturation_component, magnitude_value)  # Blue to dark gray\n",
        "    else:\n",
        "        # Map values from 0.0 to 1.0 to shades of red\n",
        "        # norm = value  # No need to normalize\n",
        "        rgb = colorsys.hsv_to_rgb(0.0, saturation_component, magnitude_value)  # Dark gray to red\n",
        "\n",
        "    if debug_print:\n",
        "        print(f'value: {value}')\n",
        "        # print(f'norm_value: {norm_value}')\n",
        "        print(f'magnitude_value: {magnitude_value}')\n",
        "        print(f'saturation_component: {saturation_component}')\n",
        "        print(f'rgb: {rgb}')\n",
        "\n",
        "    return '#{:02x}{:02x}{:02x}'.format(int(rgb[0] * 255), int(rgb[1] * 255), int(rgb[2] * 255))\n",
        "\n",
        "# def value_to_color(value):\n",
        "#         \"\"\"\n",
        "#         Maps a value between -1.0 and 1.0 to an RGB color code.\n",
        "#         -1.0 maps to bright blue, 0.0 maps to dark gray, and 1.0 maps to bright red.\n",
        "#         \"\"\"\n",
        "#         if value <= 0:\n",
        "#             norm = (value + 1) / 2\n",
        "#             rgb = colorsys.hsv_to_rgb(0.67, 1.0, 1.0 - norm)\n",
        "#         else:\n",
        "#             norm = value\n",
        "#             rgb = colorsys.hsv_to_rgb(0.0, 1.0, 1.0 - norm)\n",
        "\n",
        "#         return '#{:02x}{:02x}{:02x}'.format(int(rgb[0] * 255), int(rgb[1] * 255), int(rgb[2] * 255))\n"
      ]
    },
    {
      "cell_type": "code",
      "execution_count": null,
      "metadata": {},
      "outputs": [],
      "source": [
        "\n",
        "# def add_inner_title(ax, title, loc, value, strokewidth=3, stroke_foreground='w', stroke_alpha=0.9, font_size=None, text_alpha=1.0, **kwargs):\n",
        "#     \"\"\"\n",
        "#     Add a figure title inside the border of the figure (instead of outside).\n",
        "#     The title text color is determined by the provided float value between -1.0 and 1.0.\n",
        "#     \"\"\"\n",
        "#     import matplotlib.pyplot as plt\n",
        "#     from matplotlib.offsetbox import AnchoredText\n",
        "#     from matplotlib.patheffects import withStroke\n",
        "\n",
        "#     # Color mapping function\n",
        "#     def value_to_color(value):\n",
        "#         norm = (value + 1) / 2\n",
        "#         rgb = colorsys.hsv_to_rgb(norm * 0.67, 1.0, 1.0)\n",
        "#         return '#{:02x}{:02x}{:02x}'.format(int(rgb[0] * 255), int(rgb[1] * 255), int(rgb[2] * 255))\n",
        "\n",
        "#     text_pop_key_name_list = ('horizontalalignment', 'verticalalignment', 'multialignment', 'rotation')\n",
        "#     text_prop_kwargs = kwargs.pop('text_prop_kwargs', {})\n",
        "#     text_prop_kwargs.update(\n",
        "#         path_effects=[withStroke(foreground=stroke_foreground, linewidth=strokewidth, alpha=stroke_alpha)],\n",
        "#         size=(font_size or plt.rcParams['legend.title_fontsize']),\n",
        "#         color=value_to_color(value),  # Use the color mapping function\n",
        "#         **{k: kwargs.pop(k) for k in text_pop_key_name_list if k in kwargs}\n",
        "#     )\n",
        "\n",
        "#     at = AnchoredText(title, loc=loc, prop=text_prop_kwargs, pad=0., borderpad=0.5, frameon=False, **kwargs)\n",
        "#     ax.add_artist(at)\n",
        "\n",
        "#     if text_alpha < 1.0:\n",
        "#         at.txt._text.set_alpha(text_alpha)\n",
        "\n",
        "#     return at\n",
        "\n",
        "\n",
        "# Multi-color Labels _________________________________________________________________________________________________ #\n",
        "\n",
        "import re\n",
        "import matplotlib.font_manager as fm\n",
        "from matplotlib.text import TextPath\n",
        "\n",
        "def add_inner_title(ax, title, loc, strokewidth=3, stroke_foreground='w', stroke_alpha=0.9, font_size=None, text_alpha=1.0, **kwargs):\n",
        "    \"\"\"\n",
        "    Add a figure title inside the border of the figure (instead of outside).\n",
        "    The numeric values in the title text are color-coded based on their values between -1.0 and 1.0.\n",
        "    The labels preceding the numeric values are rendered in dark gray.\n",
        "    \"\"\"\n",
        "    import matplotlib.pyplot as plt\n",
        "    from matplotlib.offsetbox import AnchoredText\n",
        "    from matplotlib.patheffects import withStroke\n",
        "\n",
        "    def value_to_color(value):\n",
        "        \"\"\"\n",
        "        Maps a value between -1.0 and 1.0 to an RGB color code.\n",
        "        -1.0 maps to bright blue, 0.0 maps to dark gray, and 1.0 maps to bright red.\n",
        "        \"\"\"\n",
        "        if value <= 0:\n",
        "            norm = (value + 1) / 2\n",
        "            rgb = colorsys.hsv_to_rgb(0.67, 1.0, 1.0 - norm)\n",
        "        else:\n",
        "            norm = value\n",
        "            rgb = colorsys.hsv_to_rgb(0.0, 1.0, 1.0 - norm)\n",
        "\n",
        "        return '#{:02x}{:02x}{:02x}'.format(int(rgb[0] * 255), int(rgb[1] * 255), int(rgb[2] * 255))\n",
        "\n",
        "    text_pop_key_name_list = ('horizontalalignment', 'verticalalignment', 'multialignment', 'rotation')\n",
        "    text_prop_kwargs = kwargs.pop('text_prop_kwargs', {})\n",
        "\n",
        "    # Parse the input string and color-code the numeric values\n",
        "    colored_text = []\n",
        "    for part in re.split(r'([\\d\\.-]+)', title):\n",
        "        if part.replace('.', '').replace('-', '').isdigit():\n",
        "            value = float(part)\n",
        "            color = value_to_color(value)\n",
        "            font_prop = fm.FontProperties(color=color, **text_prop_kwargs.get('fontproperties', {}))\n",
        "            colored_text.append(TextPath((0, 0), part, size=text_prop_kwargs.get('size', None), prop=font_prop))\n",
        "        else:\n",
        "            colored_text.append(part)\n",
        "\n",
        "    text_prop_kwargs.update(\n",
        "        path_effects=[withStroke(foreground=stroke_foreground, linewidth=strokewidth, alpha=stroke_alpha)],\n",
        "        size=(font_size or plt.rcParams['legend.title_fontsize']),\n",
        "        color='#404040',  # Dark gray color for labels\n",
        "        **{k: kwargs.pop(k) for k in text_pop_key_name_list if k in kwargs}\n",
        "    )\n",
        "\n",
        "    at = AnchoredText(colored_text, loc=loc, prop=text_prop_kwargs, pad=0., borderpad=0.5, frameon=False, **kwargs)\n",
        "    ax.add_artist(at)\n",
        "\n",
        "    if text_alpha < 1.0:\n",
        "        at.txt._text.set_alpha(text_alpha)\n",
        "\n",
        "    return at"
      ]
    },
    {
      "cell_type": "code",
      "execution_count": null,
      "metadata": {},
      "outputs": [],
      "source": [
        "fig, ax = plt.subplots(figsize=(6, 4))\n",
        "ax.plot([1, 2, 3, 4], [1, 4, 9, 16], 'ro-')\n",
        "ax.set_title('Test Figure')\n",
        "ax.set_xlabel('X-axis')\n",
        "ax.set_ylabel('Y-axis')\n",
        "\n",
        "# Add a color-coded title with a float value\n",
        "float_value = -0.9\n",
        "title_text = f\"{float_value:.2f}\"\n",
        "add_inner_title(ax, title_text, loc=2, value=float_value)\n",
        "\n",
        "plt.show()"
      ]
    },
    {
      "cell_type": "code",
      "execution_count": null,
      "metadata": {},
      "outputs": [],
      "source": [
        "test_str = \"wcorr: -0.754\\n$P_i$: 0.052\\npearsonr: -0.76\"\n",
        "add_inner_title(ax, test_str, loc=2)"
      ]
    },
    {
      "cell_type": "code",
      "execution_count": null,
      "metadata": {},
      "outputs": [],
      "source": [
        "import matplotlib.pyplot as plt\n",
        "\n",
        "plt.rcParams[\"font.size\"] = 20\n",
        "ax = plt.figure().add_subplot(xticks=[], yticks=[])\n",
        "\n",
        "# The first word, created with text().\n",
        "text = ax.text(.1, .5, \"Matplotlib\", color=\"red\")\n",
        "# Subsequent words, positioned with annotate(), relative to the preceding one.\n",
        "text = ax.annotate(\n",
        "    \" says,\", xycoords=text, xy=(1, 0), verticalalignment=\"bottom\",\n",
        "    color=\"gold\", weight=\"bold\")  # custom properties\n",
        "text = ax.annotate(\n",
        "    \" hello\", xycoords=text, xy=(1, 0), verticalalignment=\"bottom\",\n",
        "    color=\"green\", style=\"italic\")  # custom properties\n",
        "text = ax.annotate(\n",
        "    \" world!\", xycoords=text, xy=(1, 0), verticalalignment=\"bottom\",\n",
        "    color=\"blue\", family=\"serif\")  # custom properties\n",
        "\n",
        "plt.show()"
      ]
    },
    {
      "cell_type": "code",
      "execution_count": null,
      "metadata": {},
      "outputs": [],
      "source": [
        "import matplotlib.pyplot as plt\n",
        "from matplotlib.offsetbox import AnchoredOffsetbox, TextArea, HPacker, VPacker\n",
        "\n",
        "# Create a figure and axis\n",
        "fig, ax = plt.subplots()\n",
        "\n",
        "# Create text areas with different colors and properties\n",
        "text1 = TextArea(\"This is \", textprops=dict(color=\"black\"))\n",
        "text2 = TextArea(\"colored \", textprops=dict(color=\"red\", weight=\"bold\"))\n",
        "text3 = TextArea(\"text!\", textprops=dict(color=\"blue\"))\n",
        "\n",
        "# Combine the text areas horizontally\n",
        "box = HPacker(children=[text1, text2, text3], align=\"center\", pad=0, sep=5)\n",
        "\n",
        "# Create an anchored offset box\n",
        "anchored_box = AnchoredOffsetbox(loc='upper left', child=box, pad=0., frameon=True,\n",
        "                                 bbox_to_anchor=(0., 1.),\n",
        "                                 bbox_transform=ax.transAxes, borderpad=0.)\n",
        "\n",
        "# Add the offset box to the axes\n",
        "ax.add_artist(anchored_box)\n",
        "\n",
        "# Display the plot\n",
        "plt.show()"
      ]
    },
    {
      "cell_type": "code",
      "execution_count": 8,
      "metadata": {},
      "outputs": [
        {
          "name": "stdout",
          "output_type": "stream",
          "text": [
            "value: -0.754\n",
            "magnitude_value: 0.754\n",
            "saturation_component: 0.754\n",
            "rgb: (0.19685432000000025, 0.185484, 0.754)\n",
            "value: 0.052\n",
            "magnitude_value: 0.052\n",
            "saturation_component: 0.052\n",
            "rgb: (0.052, 0.04929599999999999, 0.04929599999999999)\n",
            "value: -0.76\n",
            "magnitude_value: 0.76\n",
            "saturation_component: 0.76\n",
            "rgb: (0.19395200000000024, 0.1824, 0.76)\n"
          ]
        },
        {
          "data": {
            "image/png": "[encoded data removed]",
            "text/plain": [
              "<Figure size 640x480 with 1 Axes>"
            ]
          },
          "metadata": {},
          "output_type": "display_data"
        }
      ],
      "source": [
        "from typing import Tuple\n",
        "import matplotlib.pyplot as plt\n",
        "from matplotlib.offsetbox import AnchoredOffsetbox, TextArea, HPacker, VPacker\n",
        "from neuropy.utils.matplotlib_helpers import build_formatted_label_values_stack, build_formatted_label_values_stack, value_to_color\n",
        "\n",
        "\n",
        "def _helper_build_text_kwargs_flat_top(a_curr_ax):\n",
        "    \"\"\" captures nothing. \"\"\"\n",
        "    # Get the axes bounding box in figure coordinates\n",
        "    a_fig = a_curr_ax.get_figure()\n",
        "    bbox = a_curr_ax.get_position()\n",
        "    half_x_margin_width = (1.0 - bbox.width) / 2.0\n",
        "    half_y_margin_width = (1.0 - bbox.ymax) / 2.0\n",
        "    bbox_offset_magnitude: Tuple[float,float] = (half_x_margin_width, half_y_margin_width)\n",
        "\n",
        "    # TEXT FORMATTING AND POSITIONING KWARGS _____________________________________________________________________________ #\n",
        "    # text_kwargs = dict(loc='upper center', stroke_alpha=0.35, strokewidth=5, stroke_foreground='k', text_foreground=f'{cls.text_color}', font_size=13, text_alpha=0.8)\n",
        "    # text_kwargs = dict(loc='upper left', stroke_alpha=0.35, strokewidth=4, stroke_foreground='k', text_foreground=f'{cls.text_color}', font_size=11, text_alpha=0.7)\n",
        "    # text_kwargs = dict(stroke_alpha=0.8, strokewidth=4, stroke_foreground='k', text_foreground=f'{cls.text_color}', font_size=10, text_alpha=0.75)\n",
        "    # text_kwargs = dict(stroke_alpha=0.8, strokewidth=5, stroke_foreground='w', text_foreground=f'#013220', font_size=11, text_alpha=0.75)\n",
        "\n",
        "    # font_prop = font_manager.FontProperties(family='Source Sans Pro', # 'Source Code Pro'\n",
        "    #                     #   size=10,\n",
        "    #                     weight='bold',\n",
        "    #                     #   style='italic',\n",
        "    #                     )\n",
        "    # text_kwargs['fontproperties'] = font_prop\n",
        "    text_kwargs = {}\n",
        "\n",
        "    ## Positioning kwargs:\n",
        "    text_kwargs |= dict(loc='upper right',\n",
        "                            # horizontalalignment='center', ## DOES NOTHING?\n",
        "                            #verticalalignment='center', ## BREAKS IT\n",
        "                            # multialignment='r', ## BREAKS IT\n",
        "                            # horizontalalignment='right',  \n",
        "                            # rotation=-45, #transform=a_curr_ax.transAxes,\n",
        "                            bbox_to_anchor=((1.0 + bbox_offset_magnitude[0]), (1.0 + bbox_offset_magnitude[1])), bbox_transform=a_curr_ax.transAxes, transform=a_fig.transFigure,\n",
        "                            # bbox_to_anchor=((1.0 + bbox_offset_magnitude), (1.0 + bbox_offset_magnitude)), bbox_transform=a_curr_ax.transAxes,                        \n",
        "                            ) # oriented in upper-right corner, at a diagonal angle\n",
        "\n",
        "    return text_kwargs\n",
        "\n",
        "\n",
        "# Create a figure and axis\n",
        "fig, ax = plt.subplots()\n",
        "formated_text_list = [(\"wcorr: \", -0.754),\n",
        "                        (\"$P_i$: \", 0.052), \n",
        "                        (\"pearsonr: \", -0.76),\n",
        "                    ]\n",
        "\n",
        "stack_box = build_formatted_label_values_stack(formated_text_list)\n",
        "\n",
        "text_kwargs = _helper_build_text_kwargs_flat_top(a_curr_ax=ax)\n",
        "\n",
        "anchored_box = AnchoredOffsetbox(child=stack_box, pad=0., frameon=False,**text_kwargs, borderpad=0.)\n",
        "\n",
        "# Add the offset box to the axes\n",
        "ax.add_artist(anchored_box)\n",
        "\n",
        "# Display the plot\n",
        "plt.show()"
      ]
    },
    {
      "cell_type": "code",
      "execution_count": 10,
      "metadata": {},
      "outputs": [
        {
          "name": "stdout",
          "output_type": "stream",
          "text": [
            "value: -0.754\n",
            "magnitude_value: 0.754\n",
            "saturation_component: 0.754\n",
            "rgb: (0.19685432000000025, 0.185484, 0.754)\n",
            "value: 0.052\n",
            "magnitude_value: 0.052\n",
            "saturation_component: 0.052\n",
            "rgb: (0.052, 0.04929599999999999, 0.04929599999999999)\n",
            "value: -0.76\n",
            "magnitude_value: 0.76\n",
            "saturation_component: 0.76\n",
            "rgb: (0.19395200000000024, 0.1824, 0.76)\n"
          ]
        },
        {
          "data": {
            "image/png": "[encoded data removed]",
            "text/plain": [
              "<Figure size 640x480 with 1 Axes>"
            ]
          },
          "metadata": {},
          "output_type": "display_data"
        }
      ],
      "source": [
        "from typing import Tuple\n",
        "import matplotlib.pyplot as plt\n",
        "from matplotlib.offsetbox import AnchoredOffsetbox, TextArea, HPacker, VPacker\n",
        "from neuropy.utils.matplotlib_helpers import build_formatted_label_values_stack, build_formatted_label_values_stack, value_to_color\n",
        "\n",
        "\n",
        "class AnchoredCustomText(AnchoredOffsetbox):\n",
        "    \"\"\"\n",
        "    AnchoredOffsetbox with Text.\n",
        "    \"\"\"\n",
        "\n",
        "    def __init__(self, formated_text_list, *, pad=0., borderpad=0., prop=None, **kwargs):\n",
        "        \"\"\"\n",
        "        Parameters\n",
        "        ----------\n",
        "        s : str\n",
        "            Text.\n",
        "\n",
        "        loc : str\n",
        "            Location code. See `AnchoredOffsetbox`.\n",
        "\n",
        "        pad : float, default: 0.4\n",
        "            Padding around the text as fraction of the fontsize.\n",
        "\n",
        "        borderpad : float, default: 0.5\n",
        "            Spacing between the offsetbox frame and the *bbox_to_anchor*.\n",
        "\n",
        "        prop : dict, optional\n",
        "            Dictionary of keyword parameters to be passed to the\n",
        "            `~matplotlib.text.Text` instance contained inside AnchoredText.\n",
        "\n",
        "        **kwargs\n",
        "            All other parameters are passed to `AnchoredOffsetbox`.\n",
        "        \"\"\"\n",
        "        if prop is None:\n",
        "            prop = {}\n",
        "        badkwargs = {'va', 'verticalalignment'}\n",
        "        if badkwargs & set(prop):\n",
        "            raise ValueError(\n",
        "                'Mixing verticalalignment with AnchoredText is not supported.')\n",
        "\n",
        "        # self.txtAreaItems = []\n",
        "        self.stack_box = build_formatted_label_values_stack(formated_text_list)\n",
        "\n",
        "        # self.txt = TextArea(s, textprops=prop)\n",
        "        # fp = self.txt._text.get_fontproperties()\n",
        "        super().__init__(child=self.stack_box, pad=pad, borderpad=borderpad, prop=prop, **kwargs)\n",
        "\n",
        "\n",
        "    def update_text(self, formated_text_list):\n",
        "        raise NotImplementedError\n",
        "    \n",
        "\n",
        "\n",
        "# Create a figure and axis\n",
        "fig, ax = plt.subplots()\n",
        "formated_text_list = [(\"wcorr: \", -0.754),\n",
        "                        (\"$P_i$: \", 0.052), \n",
        "                        (\"pearsonr: \", -0.76),\n",
        "                    ]\n",
        "\n",
        "text_kwargs = _helper_build_text_kwargs_flat_top(a_curr_ax=ax)\n",
        "\n",
        "anchored_custom_text = AnchoredCustomText(formated_text_list=formated_text_list, pad=0., frameon=False,**text_kwargs, borderpad=0.)\n",
        "# anchored_box = AnchoredOffsetbox(child=stack_box, pad=0., frameon=False,**text_kwargs, borderpad=0.)\n",
        "\n",
        "# Add the offset box to the axes\n",
        "ax.add_artist(anchored_custom_text)\n",
        "\n",
        "# Display the plot\n",
        "plt.show()"
      ]
    },
    {
      "cell_type": "code",
      "execution_count": 12,
      "metadata": {},
      "outputs": [
        {
          "data": {
            "text/plain": [
              "[Text(0, 0, 'wcorr: '),\n",
              " <matplotlib.offsetbox.TextArea at 0x1e07fcd0c40>,\n",
              " Text(0, 0, '-0.754'),\n",
              " <matplotlib.offsetbox.TextArea at 0x1e07fa66820>,\n",
              " <matplotlib.offsetbox.HPacker at 0x1e07fcd0f40>,\n",
              " Text(0, 0, '$P_i$: '),\n",
              " <matplotlib.offsetbox.TextArea at 0x1e07fa32eb0>,\n",
              " Text(0, 0, '0.052'),\n",
              " <matplotlib.offsetbox.TextArea at 0x1e07fcdc1c0>,\n",
              " <matplotlib.offsetbox.HPacker at 0x1e07fcdc3a0>,\n",
              " Text(0, 0, 'pearsonr: '),\n",
              " <matplotlib.offsetbox.TextArea at 0x1e07fcdc190>,\n",
              " Text(0, 0, '-0.76'),\n",
              " <matplotlib.offsetbox.TextArea at 0x1e07fcdc5e0>,\n",
              " <matplotlib.offsetbox.HPacker at 0x1e07fcdc7c0>,\n",
              " <matplotlib.offsetbox.VPacker at 0x1e07d5e6b50>]"
            ]
          },
          "execution_count": 12,
          "metadata": {},
          "output_type": "execute_result"
        }
      ],
      "source": [
        "anchored_custom_text.findobj(match=None, include_self=False)"
      ]
    },
    {
      "cell_type": "code",
      "execution_count": 18,
      "metadata": {},
      "outputs": [
        {
          "data": {
            "text/plain": [
              "'-0.754'"
            ]
          },
          "execution_count": 18,
          "metadata": {},
          "output_type": "execute_result"
        }
      ],
      "source": [
        "formatted_row_objs = anchored_custom_text.stack_box.get_children()\n",
        "label_textArea, value_textArea = formatted_row_objs[0].get_children() # matplotlib.offsetbox.TextArea\n",
        "value_textArea.get_text()"
      ]
    },
    {
      "cell_type": "code",
      "execution_count": null,
      "metadata": {},
      "outputs": [],
      "source": [
        "# Create a figure and axis\n",
        "fig, ax = plt.subplots()\n",
        "\n",
        "\n",
        "sweep_values = np.linspace(start=-1.0, stop=1.0, num=25)\n",
        "formated_text_list = [(\"val: \", v) for v in sweep_values]\n",
        "stack_box = VPacker(children=[build_label_value_formatted_text(a_label, a_value) for a_label, a_value in formated_text_list], align='right', pad=0, sep=2)\n",
        "\n",
        "text_kwargs = _helper_build_text_kwargs_flat_top(a_curr_ax=ax)\n",
        "anchored_box = AnchoredOffsetbox(child=stack_box, pad=0., frameon=False, **text_kwargs, borderpad=0.)\n",
        "\n",
        "# Add the offset box to the axes\n",
        "ax.add_artist(anchored_box)\n",
        "\n",
        "# Display the plot\n",
        "plt.show()"
      ]
    },
    {
      "cell_type": "code",
      "execution_count": null,
      "metadata": {},
      "outputs": [],
      "source": []
    }
  ],
  "metadata": {
    "kernelspec": {
      "display_name": "Python 3",
      "language": "python",
      "name": "python3"
    },
    "language_info": {
      "codemirror_mode": {
        "name": "ipython",
        "version": 3
      },
      "file_extension": ".py",
      "mimetype": "text/x-python",
      "name": "python",
      "nbconvert_exporter": "python",
      "pygments_lexer": "ipython3",
      "version": "3.9.13"
    }
  },
  "nbformat": 4,
  "nbformat_minor": 0
}
