{
 "cells": [
  {
   "cell_type": "code",
   "execution_count": 1,
   "id": "892be14c-dcec-436e-9474-8c07c848f2f5",
   "metadata": {},
   "outputs": [
    {
     "name": "stdout",
     "output_type": "stream",
     "text": [
      "Automatic pdb calling has been turned OFF\n"
     ]
    }
   ],
   "source": [
    "%config IPCompleter.use_jedi = False\n",
    "# %xmode Verbose\n",
    "# %xmode context\n",
    "%pdb off\n",
    "# %load_ext viztracer\n",
    "# from viztracer import VizTracer\n",
    "%load_ext autoreload\n",
    "%autoreload 3\n",
    "import sys\n",
    "from pathlib import Path\n",
    "\n",
    "# required to enable non-blocking interaction:\n",
    "%gui qt5\n",
    "\n",
    "from copy import deepcopy\n",
    "# from numba import jit\n",
    "import numpy as np\n",
    "import pandas as pd\n",
    "pd.options.mode.chained_assignment = None  # default='warn'\n",
    "# pd.options.mode.dtype_backend = 'pyarrow' # use new pyarrow backend instead of numpy\n",
    "from attrs import define, field, fields, Factory\n",
    "import tables as tb\n",
    "from datetime import datetime, timedelta\n",
    "\n",
    "# Pho's Formatting Preferences\n",
    "import builtins\n",
    "\n",
    "import IPython\n",
    "from IPython.core.formatters import PlainTextFormatter\n",
    "from IPython import get_ipython\n",
    "\n",
    "from pyphocorehelpers.preferences_helpers import set_pho_preferences, set_pho_preferences_concise, set_pho_preferences_verbose\n",
    "from pyphocorehelpers.assertion_helpers import Assert\n",
    "\n",
    "set_pho_preferences_concise()\n",
    "# Jupyter-lab enable printing for any line on its own (instead of just the last one in the cell)\n",
    "from IPython.core.interactiveshell import InteractiveShell\n",
    "InteractiveShell.ast_node_interactivity = \"all\"\n",
    "\n",
    "# from matplotlib.figure import Figure\n",
    "import matplotlib.pyplot as plt\n",
    "# from matplotlib.transforms import IdentityTransform\n",
    "# %matplotlib qt\n",
    "import numpy as np\n",
    "# Set up numpy print options to only wrap at window width:\n",
    "np.set_printoptions(edgeitems=30, linewidth=100000, formatter=dict(float=lambda x: \"%g\" % x)) # this somehow fucked up and caused rounding of my values...\n",
    "\n",
    "from pyphocorehelpers.indexing_helpers import get_bin_centers\n",
    "from pyphocorehelpers.gui.Qt.color_helpers import ColormapHelpers, ColorFormatConverter\n",
    "from pyphoplacecellanalysis.External.pyqtgraph.colormap import ColorMap\n",
    "from neuropy.utils.matplotlib_helpers import get_heatmap_cmap"
   ]
  },
  {
   "cell_type": "code",
   "execution_count": 2,
   "id": "b917871c",
   "metadata": {},
   "outputs": [
    {
     "data": {
      "text/plain": [
       "256"
      ]
     },
     "execution_count": 2,
     "metadata": {},
     "output_type": "execute_result"
    },
    {
     "data": {
      "image/png": "[encoded data removed]",
      "text/html": [
       "<div style=\"vertical-align: middle;\"><strong>Oranges</strong> </div><div class=\"cmap\"><img alt=\"Oranges colormap\" title=\"Oranges\" style=\"border: 1px solid #555;\" src=\"data:image/png;base64,iVBORw0KGgoAAAANSUhEUgAAAgAAAABACAYAAABsv8+/AAAAFnRFWHRUaXRsZQBPcmFuZ2VzIGNvbG9ybWFwAJwLXwAAABx0RVh0RGVzY3JpcHRpb24AT3JhbmdlcyBjb2xvcm1hcKeyuiYAAAAwdEVYdEF1dGhvcgBNYXRwbG90bGliIHYzLjguNCwgaHR0cHM6Ly9tYXRwbG90bGliLm9yZ2TOsrQAAAAydEVYdFNvZnR3YXJlAE1hdHBsb3RsaWIgdjMuOC40LCBodHRwczovL21hdHBsb3RsaWIub3JnSmgtkwAAAU1JREFUeJzt1jsNAkEAAFE+/g0gAAsU5EpUQIIAalruDCwtSzLvKZhy9uv7te74S5/7ZXYCI8tpdgEDj+ttdgID5+dxdgJfHGYHAAC/ZwAAIMgAAECQAQCAIAMAAEEGAACCDAAABBkAAAgyAAAQZAAAIMgAAECQAQCAIAMAAEEGAACCDAAABBkAAAgyAAAQZAAAIMgAAECQAQCAIAMAAEEGAACCDAAABBkAAAgyAAAQZAAAIMgAAECQAQCAIAMAAEEGAACCDAAABBkAAAgyAAAQZAAAIMgAAECQAQCAIAMAAEEGAACCDAAABBkAAAgyAAAQZAAAIMgAAECQAQCAIAMAAEEGAACCDAAABBkAAAgyAAAQZAAAIMgAAECQAQCAIAMAAEEGAACCDAAABBkAAAgyAAAQZAAAIMgAAECQAQCAIAMAAEEGAACCDAAABG3AtQwpSoh9OQAAAABJRU5ErkJggg==\"></div><div style=\"vertical-align: middle; max-width: 514px; display: flex; justify-content: space-between;\"><div style=\"float: left;\"><div title=\"#ffffff00\" style=\"display: inline-block; width: 1em; height: 1em; margin: 0; vertical-align: middle; border: 1px solid #555; background-color: #ffffff00;\"></div> under</div><div style=\"margin: 0 auto; display: inline-block;\">bad <div title=\"#000000f2\" style=\"display: inline-block; width: 1em; height: 1em; margin: 0; vertical-align: middle; border: 1px solid #555; background-color: #000000f2;\"></div></div><div style=\"float: right;\">over <div title=\"#ff0000ff\" style=\"display: inline-block; width: 1em; height: 1em; margin: 0; vertical-align: middle; border: 1px solid #555; background-color: #ff0000ff;\"></div></div>"
      ],
      "text/plain": [
       "<matplotlib.colors.LinearSegmentedColormap at 0x1f9d6c0f6a0>"
      ]
     },
     "execution_count": 2,
     "metadata": {},
     "output_type": "execute_result"
    }
   ],
   "source": [
    "cmap = get_heatmap_cmap(cmap='Oranges', bad_color='black', under_color='white', over_color='red')\n",
    "cmap.N\n",
    "cmap.resampled(5)"
   ]
  },
  {
   "cell_type": "code",
   "execution_count": 3,
   "id": "fd18fb95",
   "metadata": {},
   "outputs": [
    {
     "name": "stdout",
     "output_type": "stream",
     "text": [
      "color_idx_range: [0 1 2 3]\n"
     ]
    },
    {
     "data": {
      "image/png": "[encoded data removed]",
      "text/html": [
       "<div style=\"vertical-align: middle;\"><strong>CustomOranges</strong> </div><div class=\"cmap\"><img alt=\"CustomOranges colormap\" title=\"CustomOranges\" style=\"border: 1px solid #555;\" src=\"data:image/png;base64,iVBORw0KGgoAAAANSUhEUgAAAgAAAABACAYAAABsv8+/AAAAHHRFWHRUaXRsZQBDdXN0b21PcmFuZ2VzIGNvbG9ybWFw8IUpjAAAACJ0RVh0RGVzY3JpcHRpb24AQ3VzdG9tT3JhbmdlcyBjb2xvcm1hcG3Vx8kAAAAwdEVYdEF1dGhvcgBNYXRwbG90bGliIHYzLjguNCwgaHR0cHM6Ly9tYXRwbG90bGliLm9yZ2TOsrQAAAAydEVYdFNvZnR3YXJlAE1hdHBsb3RsaWIgdjMuOC40LCBodHRwczovL21hdHBsb3RsaWIub3JnSmgtkwAAAntJREFUeJzt1kt23CAQBVCULWX/K8o4YzIQqAta6jif2bt34jYIqkB2n3f0nz++997bqR/nj95aa0dr4+c1P8b6NVfXHOP3sabMrWvmHmX+bqzPPba6tcbSZ10z96193Z5tOXudWz+Xc/TtXpbPpUa9l96Wz2/7LfUfevmw31d6+Xi2cvfL86W/V+/v51jX/Ke1e39Lr+u9rGfcanx1bXvuud7pbY1Wavzl2vqOHu9gf0el57e1ey/3a/tbD22M7WvG/8pSZ/7/rL32h7s8H70ZmzXGHn2rMc/Ue/vU/3W//eHsvS99lv7P76s+zjG2Lv21ci+t9Nxaf33Xnf0t9ed8v33urNWX586e2vV3Mnu5vqeu/mov9+cY89s5ai/n/HiD8zyttzE299ifG3Vvnxv9X8/9tsbx7zXqc398jqP2uqyt97PNfx571Zvvr84fr1f5YWyre73nNv+cy9qnsbKmve6sjB3HtwYAxBEAACCQAAAAgQQAAAgkAABAIAEAAAIJAAAQSAAAgEACAAAEEgAAIJAAAACBBAAACCQAAEAgAQAAAgkAABBIAACAQAIAAAQSAAAgkAAAAIEEAAAIJAAAQCABAAACCQAAEEgAAIBAAgAABBIAACCQAAAAgQQAAAgkAABAIAEAAAIJAAAQSAAAgEACAAAEEgAAIJAAAACBBAAACCQAAEAgAQAAAgkAABBIAACAQAIAAAQSAAAgkAAAAIEEAAAIJAAAQCABAAACCQAAEEgAAIBAAgAABBIAACCQAAAAgQQAAAgkAABAIAEAAAIJAAAQSAAAgEACAAAEEgAAIJAAAACBBAAACCQAAEAgAQAAAgkAABDoF3RAOkcT9cNBAAAAAElFTkSuQmCC\"></div><div style=\"vertical-align: middle; max-width: 514px; display: flex; justify-content: space-between;\"><div style=\"float: left;\"><div title=\"#fff5eb33\" style=\"display: inline-block; width: 1em; height: 1em; margin: 0; vertical-align: middle; border: 1px solid #555; background-color: #fff5eb33;\"></div> under</div><div style=\"margin: 0 auto; display: inline-block;\">bad <div title=\"#00000000\" style=\"display: inline-block; width: 1em; height: 1em; margin: 0; vertical-align: middle; border: 1px solid #555; background-color: #00000000;\"></div></div><div style=\"float: right;\">over <div title=\"#7f2704ff\" style=\"display: inline-block; width: 1em; height: 1em; margin: 0; vertical-align: middle; border: 1px solid #555; background-color: #7f2704ff;\"></div></div>"
      ],
      "text/plain": [
       "<matplotlib.colors.LinearSegmentedColormap at 0x1f9ab1dd8b0>"
      ]
     },
     "execution_count": 3,
     "metadata": {},
     "output_type": "execute_result"
    }
   ],
   "source": [
    "from matplotlib.colors import LinearSegmentedColormap\n",
    "\n",
    "cmap_lut = ColormapHelpers.create_transparent_colormap(cmap_name='Oranges', lower_bound_alpha=0.2)\n",
    "N_colors: int = np.shape(cmap_lut)[0]\n",
    "cmap_lut = ColorFormatConverter.Colors_NDArray_Convert_to_zero_to_one_array(colors_ndarray=cmap_lut.T).T\n",
    "cmap = LinearSegmentedColormap.from_list('CustomOranges', cmap_lut, N=N_colors)\n",
    "cmap"
   ]
  },
  {
   "cell_type": "code",
   "execution_count": 4,
   "id": "dac47d00",
   "metadata": {},
   "outputs": [
    {
     "data": {
      "image/png": "[encoded data removed]",
      "text/html": [
       "<div style=\"vertical-align: middle;\"><strong>reconstructed_my_colormap</strong> </div><div class=\"cmap\"><img alt=\"reconstructed_my_colormap colormap\" title=\"reconstructed_my_colormap\" style=\"border: 1px solid #555;\" src=\"data:image/png;base64,iVBORw0KGgoAAAANSUhEUgAAAgAAAABACAYAAABsv8+/AAAAKHRFWHRUaXRsZQByZWNvbnN0cnVjdGVkX215X2NvbG9ybWFwIGNvbG9ybWFwdAtkgQAAAC50RVh0RGVzY3JpcHRpb24AcmVjb25zdHJ1Y3RlZF9teV9jb2xvcm1hcCBjb2xvcm1hcCtGD+EAAAAwdEVYdEF1dGhvcgBNYXRwbG90bGliIHYzLjguNCwgaHR0cHM6Ly9tYXRwbG90bGliLm9yZ2TOsrQAAAAydEVYdFNvZnR3YXJlAE1hdHBsb3RsaWIgdjMuOC40LCBodHRwczovL21hdHBsb3RsaWIub3JnSmgtkwAAAfJJREFUeJzt1k1SwkAURtEXGnUn7kj3v5M4ICHSSQNaOvrOGUgl/ZMmhVV3+nz/KP7eNFWrqmqtXquqzq1eluu3qqp2utxfx9syfl7H2/F4O13Gz6Pxto5Pd9d/O9fdfXbz9ufu9+nWTzfrDp733HtY1lfNl7/z8qLn4+vd/cG60fpt2YN5/X5Pnm++7nv/fLt5w+/1YF6/X43m3e57/dit69YP7m+P6c/Xn/+fnv/j5xzf3y6P33P1l4Pz7n5XYePb8O/G+/37acN5w/H1ox+4WT6ct/vdDc4/+LfbbfRo3p9932XeqQCAOAIAAAIJAAAIJAAAIJAAAIBAAgAAAgkAAAgkAAAgkAAAgEACAAACCQAACCQAACCQAACAQAIAAAIJAAAIJAAAIJAAAIBAAgAAAgkAAAgkAAAgkAAAgEACAAACCQAACCQAACCQAACAQAIAAAIJAAAIJAAAIJAAAIBAAgAAAgkAAAgkAAAgkAAAgEACAAACCQAACCQAACCQAACAQAIAAAIJAAAIJAAAIJAAAIBAAgAAAgkAAAgkAAAgkAAAgEACAAACCQAACCQAACCQAACAQAIAAAIJAAAIJAAAIJAAAIBAAgAAAgkAAAgkAAAgkAAAgEACAAACCQAACCQAACCQAACAQAIAAAIJAAAI9AUNxeZvohOM7wAAAABJRU5ErkJggg==\"></div><div style=\"vertical-align: middle; max-width: 514px; display: flex; justify-content: space-between;\"><div style=\"float: left;\"><div title=\"#56265500\" style=\"display: inline-block; width: 1em; height: 1em; margin: 0; vertical-align: middle; border: 1px solid #555; background-color: #56265500;\"></div> under</div><div style=\"margin: 0 auto; display: inline-block;\">bad <div title=\"#00000000\" style=\"display: inline-block; width: 1em; height: 1em; margin: 0; vertical-align: middle; border: 1px solid #555; background-color: #00000000;\"></div></div><div style=\"float: right;\">over <div title=\"#a6321bff\" style=\"display: inline-block; width: 1em; height: 1em; margin: 0; vertical-align: middle; border: 1px solid #555; background-color: #a6321bff;\"></div></div>"
      ],
      "text/plain": [
       "<matplotlib.colors.LinearSegmentedColormap at 0x1f9ab1dd670>"
      ]
     },
     "execution_count": 4,
     "metadata": {},
     "output_type": "execute_result"
    }
   ],
   "source": [
    "from neuropy.utils.external.cm_xml_to_matplotlib import load_cmap_from_xml_file\n",
    "from pyphocorehelpers.gui.Qt.color_helpers import ColormapHelpers\n",
    "# colormap_path = Path('/home/halechr/Downloads/colormap(2).json').resolve()\n",
    "# Assert.file_exists(colormap_path)\n",
    "# colormap_path = Path('C:/Users/pho/repos/Spike3DWorkEnv/Spike3D/EXTERNAL/PhoDibaPaper2024Book/data/colormaps/ccc-tool_colormap_yel15.csv').resolve()\n",
    "# colormap_path = Path('C:/Users/pho/repos/Spike3DWorkEnv/Spike3D/EXTERNAL/PhoDibaPaper2024Book/data/colormaps/colormap.xml').resolve()\n",
    "colormap_path = Path('C:/Users/pho/repos/Spike3DWorkEnv/Spike3D/EXTERNAL/PhoDibaPaper2024Book/data/colormaps/dropping_low_values_oranges_colormap.xml').resolve()\n",
    "Assert.path_exists(colormap_path)\n",
    "mycmap = load_cmap_from_xml_file(colormap_path)\n",
    "mycmap = ColormapHelpers.create_colormap_transparent_below_value(mycmap, low_value_cuttoff=0.2)\n",
    "mycmap\n"
   ]
  },
  {
   "cell_type": "code",
   "execution_count": 5,
   "id": "3f435c11",
   "metadata": {},
   "outputs": [
    {
     "ename": "TypeError",
     "evalue": "'ColorMap' object is not callable",
     "output_type": "error",
     "traceback": [
      "\u001b[1;31m---------------------------------------------------------------------------\u001b[0m",
      "\u001b[1;31mTypeError\u001b[0m                                 Traceback (most recent call last)",
      "Cell \u001b[1;32mIn[5], line 2\u001b[0m\n\u001b[0;32m      1\u001b[0m mycmap \u001b[38;5;241m=\u001b[39m \u001b[38;5;124m'\u001b[39m\u001b[38;5;124mOranges\u001b[39m\u001b[38;5;124m'\u001b[39m\n\u001b[1;32m----> 2\u001b[0m mycmap \u001b[38;5;241m=\u001b[39m \u001b[43mColormapHelpers\u001b[49m\u001b[38;5;241;43m.\u001b[39;49m\u001b[43mcreate_colormap_transparent_below_value\u001b[49m\u001b[43m(\u001b[49m\u001b[43mmycmap\u001b[49m\u001b[43m,\u001b[49m\u001b[43m \u001b[49m\u001b[43mlow_value_cuttoff\u001b[49m\u001b[38;5;241;43m=\u001b[39;49m\u001b[38;5;241;43m0.2\u001b[39;49m\u001b[43m)\u001b[49m\n\u001b[0;32m      3\u001b[0m mycmap\n",
      "File \u001b[1;32m~\\repos\\Spike3DWorkEnv\\pyPhoCoreHelpers\\src\\pyphocorehelpers\\gui\\Qt\\color_helpers.py:270\u001b[0m, in \u001b[0;36mColormapHelpers.create_colormap_transparent_below_value\u001b[1;34m(cls, mycmap, low_value_cuttoff, below_low_value_cuttoff_alpha_value, resampled_num_colors)\u001b[0m\n\u001b[0;32m    267\u001b[0m     resampled_num_colors: \u001b[38;5;28mint\u001b[39m \u001b[38;5;241m=\u001b[39m original_n_colors  \u001b[38;5;66;03m# Number of colors to extract\u001b[39;00m\n\u001b[0;32m    269\u001b[0m \u001b[38;5;66;03m## convert to LinearSegmented if needed:\u001b[39;00m\n\u001b[1;32m--> 270\u001b[0m mycmap \u001b[38;5;241m=\u001b[39m \u001b[38;5;28;43mcls\u001b[39;49m\u001b[38;5;241;43m.\u001b[39;49m\u001b[43mcolormap_to_linear_segmented\u001b[49m\u001b[43m(\u001b[49m\u001b[43mcmap\u001b[49m\u001b[38;5;241;43m=\u001b[39;49m\u001b[43mmycmap\u001b[49m\u001b[43m,\u001b[49m\u001b[43m \u001b[49m\u001b[43mn_samples\u001b[49m\u001b[38;5;241;43m=\u001b[39;49m\u001b[43mresampled_num_colors\u001b[49m\u001b[43m)\u001b[49m        \n\u001b[0;32m    271\u001b[0m \u001b[38;5;28;01massert\u001b[39;00m \u001b[38;5;28misinstance\u001b[39m(mycmap, (LinearSegmentedColormap, )), \u001b[38;5;124mf\u001b[39m\u001b[38;5;124m\"\u001b[39m\u001b[38;5;124mtype(mycmap): \u001b[39m\u001b[38;5;132;01m{\u001b[39;00m\u001b[38;5;28mtype\u001b[39m(mycmap)\u001b[38;5;132;01m}\u001b[39;00m\u001b[38;5;124m\"\u001b[39m \n\u001b[0;32m    272\u001b[0m _resampled_cmap \u001b[38;5;241m=\u001b[39m mycmap\u001b[38;5;241m.\u001b[39mresampled(resampled_num_colors)\n",
      "File \u001b[1;32m~\\repos\\Spike3DWorkEnv\\pyPhoCoreHelpers\\src\\pyphocorehelpers\\gui\\Qt\\color_helpers.py:234\u001b[0m, in \u001b[0;36mColormapHelpers.colormap_to_linear_segmented\u001b[1;34m(cls, cmap, n_samples)\u001b[0m\n\u001b[0;32m    231\u001b[0m     \u001b[38;5;28;01mreturn\u001b[39;00m deepcopy(cmap) \u001b[38;5;66;03m# already the correct type\u001b[39;00m\n\u001b[0;32m    232\u001b[0m \u001b[38;5;28;01melse\u001b[39;00m:\n\u001b[0;32m    233\u001b[0m     \u001b[38;5;66;03m## needs convert                          \u001b[39;00m\n\u001b[1;32m--> 234\u001b[0m     colors \u001b[38;5;241m=\u001b[39m \u001b[43mcmap\u001b[49m\u001b[43m(\u001b[49m\u001b[43mnp\u001b[49m\u001b[38;5;241;43m.\u001b[39;49m\u001b[43mlinspace\u001b[49m\u001b[43m(\u001b[49m\u001b[38;5;241;43m0\u001b[39;49m\u001b[43m,\u001b[49m\u001b[43m \u001b[49m\u001b[38;5;241;43m1\u001b[39;49m\u001b[43m,\u001b[49m\u001b[43m \u001b[49m\u001b[43mn_samples\u001b[49m\u001b[43m)\u001b[49m\u001b[43m)\u001b[49m  \u001b[38;5;66;03m# Sample the original colormap\u001b[39;00m\n\u001b[0;32m    235\u001b[0m     \u001b[38;5;28;01mreturn\u001b[39;00m LinearSegmentedColormap\u001b[38;5;241m.\u001b[39mfrom_list(\u001b[38;5;124mf\u001b[39m\u001b[38;5;124m\"\u001b[39m\u001b[38;5;132;01m{\u001b[39;00mcmap\u001b[38;5;241m.\u001b[39mname\u001b[38;5;132;01m}\u001b[39;00m\u001b[38;5;124m_linear\u001b[39m\u001b[38;5;124m\"\u001b[39m, colors)\n",
      "\u001b[1;31mTypeError\u001b[0m: 'ColorMap' object is not callable"
     ]
    }
   ],
   "source": [
    "mycmap = 'Oranges'\n",
    "mycmap = ColormapHelpers.create_colormap_transparent_below_value(mycmap, low_value_cuttoff=0.2)\n",
    "mycmap\n"
   ]
  },
  {
   "cell_type": "code",
   "execution_count": null,
   "id": "2cac6b26",
   "metadata": {},
   "outputs": [],
   "source": [
    "\n",
    "\n",
    "type(mycmap)\n",
    "original_n_colors: int = mycmap.N\n",
    "print(f'original_n_colors: {original_n_colors}')\n",
    "\n",
    "# Get colors by sampling the colormap\n",
    "# num_colors: int = 7  # Number of colors to extract\n",
    "num_colors: int = original_n_colors  # Number of colors to extract\n",
    "\n",
    " #.__dict__\n",
    "_resampled_cmap = mycmap.resampled(num_colors)\n",
    "\n",
    "sampled_color_reference_arr = np.array([(float(i) / float(num_colors - 1)) for i in range(num_colors)]) ## array ranging between 0.0 and 1.0\n",
    "sampled_color_reference_idxs = np.arange(len(sampled_color_reference_arr))\n",
    "sampled_color_reference_arr\n",
    "\n",
    "sampled_colors = np.array([list(_resampled_cmap(i / (num_colors - 1))) for i in range(num_colors)])\n",
    "# sampled_colors.shape # (num_colors, 4)\n",
    "sampled_colors\n",
    "\n",
    "\n",
    "low_value_cuttoff = 0.2\n",
    "is_value_below_cutoff = (sampled_color_reference_arr < low_value_cuttoff)\n",
    "is_value_below_cutoff\n",
    "# sampled_color_reference_arr[is_value_below_cutoff] ## values\n",
    "below_cuttoff_indicies = sampled_color_reference_idxs[is_value_below_cutoff]\n",
    "below_cuttoff_indicies\n",
    "# sampled_colors[below_cuttoff_indicies][-1] = 0.0 # set alpha\n",
    "\n",
    "sampled_colors[is_value_below_cutoff][-1] = 0.0 # set alpha\n",
    "\n",
    "for idx in below_cuttoff_indicies:\n",
    "    sampled_colors[idx][-1] = 0.0 # set alpha  \n",
    "\n",
    "# sampled_colors[0][-1] = 0.0 # set alpha\n",
    "sampled_colors\n",
    "\n",
    "# Rebuild the colormap\n",
    "reconstructed_cmap = LinearSegmentedColormap.from_list(f\"reconstructed_{_resampled_cmap.name}\", sampled_colors)\n",
    "reconstructed_cmap\n"
   ]
  },
  {
   "cell_type": "code",
   "execution_count": null,
   "metadata": {},
   "outputs": [],
   "source": [
    "import matplotlib.pyplot as plt\n",
    "from matplotlib.colors import ListedColormap\n",
    "import pandas as pd\n",
    "\n",
    "## INPUTS: colormap_path\n",
    "\n",
    "# Load the colormap data from the .csv file\n",
    "colormap_data = pd.read_csv(colormap_path)\n",
    "\n",
    "# Extract the RGB values from the .csv file\n",
    "colors = colormap_data[['R', 'G', 'B']].values / 255.0  # Normalize the values to be between 0 and 1\n",
    "\n",
    "# Create a ListedColormap object\n",
    "custom_cmap = ListedColormap(colors)\n",
    "\n",
    "# Plot a colorbar using the custom colormap\n",
    "plt.colorbar(plt.cm.ScalarMappable(cmap=custom_cmap))\n",
    "plt.show()"
   ]
  },
  {
   "cell_type": "code",
   "execution_count": null,
   "id": "fd1162f3",
   "metadata": {},
   "outputs": [],
   "source": [
    "import matplotlib.pyplot as plt\n",
    "from matplotlib.widgets import Button\n",
    "\n",
    "# Define the axis properties \n",
    "axis_properties = {\n",
    "    'is_bad_epoch': False,\n",
    "    'needs_review': True,\n",
    "    'is_excluded': False,\n",
    "    # ... Add other properties as needed.\n",
    "}\n",
    "\n",
    "# Function to toggle the properties and update the display\n",
    "def toggle_property(event, property_name):\n",
    "    axis_properties[property_name] = not axis_properties[property_name]\n",
    "    update_display(property_name, buttons[property_name])\n",
    "\n",
    "# Function to update the display/icons after each toggle\n",
    "def update_display(property_name, button):\n",
    "    # Here you could change the appearance of the button based on the state\n",
    "    # For example, change the facecolor of the button:\n",
    "    if axis_properties[property_name]:\n",
    "        button.color = 'green'\n",
    "    else:\n",
    "        button.color = 'red'\n",
    "    button.ax.figure.canvas.draw_idle()  # Redraw the button with new color\n",
    "\n",
    "# Create your main plot here with Matplotlib\n",
    "fig, ax = plt.subplots()\n",
    "\n",
    "# Define the position for buttons. This has to be determined manually.\n",
    "button_positions = {\n",
    "    'is_bad_epoch': [0.1, 0.05, 0.1, 0.075],\n",
    "    'needs_review': [0.25, 0.05, 0.1, 0.075],\n",
    "    'is_excluded': [0.4, 0.05, 0.1, 0.075],\n",
    "    # Define other positions as needed\n",
    "}\n",
    "\n",
    "buttons = {}  # Dictionary to hold buttons\n",
    "\n",
    "for prop in axis_properties:\n",
    "    button_ax = plt.axes(button_positions[prop])  # Define position for this button.\n",
    "    button = Button(button_ax, prop)\n",
    "    button.on_clicked(lambda event, prop=prop: toggle_property(event, prop))\n",
    "    buttons[prop] = button\n",
    "    update_display(prop, button)  # Initial update so buttons have the correct color\n",
    "\n",
    "# Display the plot\n",
    "plt.show()\n"
   ]
  },
  {
   "cell_type": "code",
   "execution_count": null,
   "id": "9a631de4-2e06-4a8b-be5e-fcc633d45c4b",
   "metadata": {},
   "outputs": [],
   "source": [
    "\"\"\"\n",
    "There should be one bin per center, meaning that there should be 1+num bins edges\n",
    "\"\"\"\n",
    "\n",
    "def debug_print_shapes(*args, **kwargs):\n",
    "    out_strings = []\n",
    "    for i, an_ordered_arg in enumerate(args):\n",
    "        out_strings.append(f'args[{i}]: np.shape: {np.shape(args[i])}')\n",
    "    for key, val in kwargs.items():\n",
    "        out_strings.append(f'{key}: np.shape: {np.shape(val)}')\n",
    "    out_string = '\\n'.join(out_strings)\n",
    "    print(out_string)\n",
    "    \n",
    "    \n",
    "# def test_simple_data():\n",
    "#     # Please note that the histogram does not follow the Cartesian convention where x values are on the abscissa and y values on the ordinate axis. Rather, x is histogrammed along the first dimension of the array (vertical), and y along the second dimension of the array (horizontal).\n",
    "#     raw_occupancy, xedges, yedges = np.histogram2d(x, y, bins=(xbin, ybin))\n",
    "    \n",
    "# def _check_bin_consistency(xbin_edges, ybin_edges, xbin_centers, ybin_centers):\n",
    "    \n",
    "    \n",
    "num_x_bins = 100\n",
    "num_y_bins = 15\n",
    "\n",
    "num_x_bin_edges = num_x_bins + 1\n",
    "num_y_bin_edges = num_y_bins + 1\n",
    "\n",
    "xbin_edges = np.linspace(75.0, 400.0, num=num_x_bin_edges) # Get the bin values\n",
    "ybin_edges = np.linspace(200.0, 240.0, num=num_y_bin_edges) # Get the bin values using fixed endpoints and a fixed number of bins.\n",
    "xbin_centers = get_bin_centers(xbin_edges)\n",
    "ybin_centers = get_bin_centers(ybin_edges)\n",
    "# print(f'xbin_edges: {xbin_edges}\\nxbin_centers: {xbin_centers}\\nybin_edges: {ybin_edges}\\nybin_centers: {ybin_centers}')\n",
    "\n",
    "# Build the data matrix with one entry for each bin\n",
    "matrix = np.zeros((len(xbin_centers), len(ybin_centers)))\n",
    "# Add details to make it possible to tell orientation:\n",
    "matrix[20, 10] = 1.0 # Here, the first index refers to the x-bin, and the second index refers to the y-bin.\n",
    "\n",
    "debug_print_shapes(xbin_edges=xbin_edges, xbin_centers=xbin_centers, ybin_edges=ybin_edges, ybin_centers=ybin_centers, matrix=matrix)\n",
    "\"\"\" the matrix is a [N_x x N_y] matrix, where the first axis corresponds to the x-value \"\"\""
   ]
  },
  {
   "cell_type": "code",
   "execution_count": null,
   "id": "c399531c-4b8d-4a88-9f20-cdc3697c31e3",
   "metadata": {},
   "outputs": [],
   "source": [
    "def build_test_data_histogram_matrix():\n",
    "    non_zero_point_xy = (xbin_centers[20], ybin_centers[10])\n",
    "    test_x = [xbin_centers[20]]\n",
    "    test_y = [ybin_centers[10]]\n",
    "    print(f'non_zero_point_xy: {non_zero_point_xy}')\n",
    "    matrix2, test_xedges, test_yedges = np.histogram2d(test_x, test_y, bins=(xbin_edges, ybin_edges))\n",
    "    debug_print_shapes(test_xedges=test_xedges, test_yedges=test_yedges, matrix2=matrix2)\n",
    "    return matrix2\n",
    "\n",
    "matrix2 = build_test_data_histogram_matrix()\n",
    "matrix2[20, 10] # using the same indexing scheme used for matrix, we can access the 1.0 element. That is to say that the x-axis is the first dimension, as we'd expect.\n",
    "\"\"\" When our matrix is generated by passing the specific xbin_edges and ybin_edges to the histogram2d function, everyting is consistent with the x-axis as the first dimension, as we'd expect.\"\"\""
   ]
  },
  {
   "cell_type": "code",
   "execution_count": null,
   "id": "e4afe345-002d-460b-b183-86f0a5f51a3c",
   "metadata": {},
   "outputs": [],
   "source": [
    "def build_test_data_histogram_matrix_num_bins():\n",
    "    non_zero_point_xy = (xbin_centers[20], ybin_centers[10])\n",
    "    test_x = [xbin_centers[20]]\n",
    "    test_y = [ybin_centers[10]]\n",
    "    print(f'non_zero_point_xy: {non_zero_point_xy}')\n",
    "    matrix3, test_xedges, test_yedges = np.histogram2d(test_x, test_y, bins=(num_x_bins, num_y_bins))\n",
    "    print(f'test_yedges: {test_yedges}')\n",
    "    \n",
    "    debug_print_shapes(test_xedges=test_xedges, test_yedges=test_yedges, matrix3=matrix3)\n",
    "    return matrix3\n",
    "\n",
    "matrix3 = build_test_data_histogram_matrix_num_bins()\n",
    "matrix3[20, 10] # using the same indexing scheme used for matrix, we can access the 1.0 element. That is to say that the x-axis is the first dimension, as we'd expect.\n",
    "\"\"\" When we instead build the histogram using the num_x_bins and num_y_bins, we get the same np.shape of result and number of bins, but the bin values themselves don't match and the indexing does not work. :[ \"\"\""
   ]
  },
  {
   "cell_type": "code",
   "execution_count": null,
   "id": "a9250a01-9add-4614-9ec5-6d6e08a89797",
   "metadata": {},
   "outputs": [],
   "source": [
    "# Determine the point that lines up with the peak on the imshow matrix (which we know is artificially at the index [10, 10] of the matrix.\n",
    "\n",
    "lin_max_idx = np.argmax(matrix) # it returns \"1010\", which doesn't seem right to me...\n",
    "max_2d_idx = np.unravel_index(lin_max_idx, np.shape(matrix)) # correct, this returns (10, 10), which is expected.\n",
    "print(f'max_2d_idx: {max_2d_idx}') # returns the same index as would be used to set a value of the matrix ([20, 10])\n",
    "# To find how this relates to the specified xbins, we need to get the xbins at these corresponding values?\n",
    "# The actual (x and y values these bins correspond to is determined by using the same indexing convention as defined before.\n",
    "xbin_centers[max_2d_idx[0]]\n",
    "ybin_centers[max_2d_idx[1]]\n"
   ]
  },
  {
   "cell_type": "markdown",
   "id": "00fae685-67a3-4e0c-a41f-94deef24d064",
   "metadata": {
    "jp-MarkdownHeadingCollapsed": true,
    "tags": []
   },
   "source": [
    "# Testing and Exploration:"
   ]
  },
  {
   "cell_type": "code",
   "execution_count": null,
   "id": "d98e4529-dce5-477d-b102-a649300c2932",
   "metadata": {},
   "outputs": [],
   "source": [
    "def test_plot_imshow(xbin, ybin, matrix):\n",
    "    \"\"\" fig, ax, im_out = test_plot_imshow(xbin, ybin, matrix) \"\"\"\n",
    "    fig, axs = plt.subplots(ncols=2, nrows=2, figsize=(15,15), clear=True)\n",
    "    # fig, axs = plt.subplots(ncols=2, nrows=2, figsize=(15,15), clear=True)\n",
    "    # plt.subplots_adjust(left=0.25, bottom=0.25)\n",
    "    variable_value = matrix\n",
    "    frame = 0\n",
    "    # main_plot_kwargs = {\n",
    "    #     'cmap': 'viridis',\n",
    "    #     'aspect':'auto',\n",
    "    # }\n",
    "    \n",
    "    main_plot_kwargs = {\n",
    "        'cmap': 'viridis',\n",
    "        # 'aspect':'auto',\n",
    "    }\n",
    "\n",
    "    # xmin, xmax, ymin, ymax = (active_one_step_decoder.active_time_window_centers[0], active_one_step_decoder.active_time_window_centers[-1], active_one_step_decoder.xbin[0], active_one_step_decoder.xbin[-1])\n",
    "    xmin, xmax, ymin, ymax = (xbin[0], xbin[-1], ybin[0], ybin[-1])\n",
    "    # xmin, xmax, ymin, ymax = (active_one_step_decoder.ybin[0], active_one_step_decoder.ybin[-1], active_one_step_decoder.xbin[0], active_one_step_decoder.xbin[-1]) # Reversed x and y axes, seems not good.\n",
    "    extent = (xmin, xmax, ymin, ymax)\n",
    "    \n",
    "    ax = axs[0,0]\n",
    "    im_out = ax.imshow(variable_value, extent=extent, **main_plot_kwargs, origin='lower')\n",
    "    ax.set_title(f'origin=lower \\nextent=(xmin, xmax, ymin, ymax): {extent}')\n",
    "    ax.set_xlabel('x')\n",
    "    ax.set_ylabel('y')\n",
    "    # ax.axis(\"off\")\n",
    "    \n",
    "    ax = axs[0,1]\n",
    "    im_out = ax.imshow(variable_value, extent=extent, **main_plot_kwargs, origin='upper')\n",
    "    ax.set_title(f'origin=upper \\nextent=(xmin, xmax, ymin, ymax): {extent}')\n",
    "    ax.set_xlabel('x')\n",
    "    ax.set_ylabel('y')\n",
    "    \n",
    "    \"\"\"\n",
    "    Note that changing the origin while keeping everything else the same doesn't flip the direction of the yaxis labels despite flipping the yaxis of the data.\n",
    "    \"\"\"\n",
    "    \n",
    "    y_first_extent = (ymin, ymax, xmin, xmax) # swapped the order of the extent axes.\n",
    "    \n",
    "    ax = axs[1,0]\n",
    "    im_out = ax.imshow(variable_value, extent=y_first_extent, **main_plot_kwargs, origin='lower')\n",
    "    ax.set_title(f'origin=lower \\nextent=(ymin, ymax, xmin, xmax): {y_first_extent}')\n",
    "    ax.set_xlabel('x')\n",
    "    ax.set_ylabel('y')\n",
    "    # ax.axis(\"off\")\n",
    "    \n",
    "    ax = axs[1,1]\n",
    "    im_out = ax.imshow(variable_value, extent=y_first_extent, **main_plot_kwargs, origin='upper')\n",
    "    ax.set_title(f'origin=upper \\nextent=(ymin, ymax, xmin, xmax): {y_first_extent}')\n",
    "    ax.set_xlabel('x')\n",
    "    ax.set_ylabel('y')\n",
    "    \n",
    "    # plt.title(f'debug_two_step: {variable_name}')\n",
    "    return fig, axs, im_out\n",
    "\n",
    "def test_add_point(test_point, ax):\n",
    "    \"\"\" line = test_add_point(test_point, ax) \"\"\"\n",
    "    line, = ax.plot(test_point[0], test_point[1], marker='d', markersize=40.0, linestyle='None', color='red')\n",
    "    return line\n",
    "\n",
    "def setup_stable_axes_limits(xbins, ybins, ax):\n",
    "    \" manually sets the axis data limits to disable autoscaling given the xbins/ybins \"\n",
    "    ax.set_xlim(left=xbins[0], right=xbins[-1])\n",
    "    ax.set_ylim(bottom=ybins[0], top=ybins[-1])\n",
    "    "
   ]
  },
  {
   "cell_type": "code",
   "execution_count": null,
   "id": "a5bbf069-d055-4760-b675-57544b983914",
   "metadata": {},
   "outputs": [],
   "source": [
    "xbin_centers[-1]"
   ]
  },
  {
   "cell_type": "code",
   "execution_count": null,
   "id": "b8c4b0bb-fc1c-4d13-974a-5716365a2e83",
   "metadata": {},
   "outputs": [],
   "source": [
    "plt.matshow(matrix)\n",
    "plt.title('How the matrix is actually represented by numpy in memory')\n",
    "plt.xlabel('column, second dimension of arr')\n",
    "plt.ylabel('row, first dimension of array')"
   ]
  },
  {
   "cell_type": "code",
   "execution_count": null,
   "id": "daeb416e-c6fa-4a28-ae1c-34ec502c6188",
   "metadata": {},
   "outputs": [],
   "source": [
    "# Perform the plot:\n",
    "fig, ax, plot_im_out = test_plot_imshow(xbin_edges, ybin_edges, matrix)\n",
    "plt.suptitle('Flipping the extents has no effect at all on the data, although the origin does.')"
   ]
  },
  {
   "cell_type": "code",
   "execution_count": null,
   "id": "09424c45-7aa6-4c49-bdd0-5cbf0673cb47",
   "metadata": {},
   "outputs": [],
   "source": [
    "test_point = [20, 10]\n",
    "# Perform the plot:\n",
    "fig, axs, plot_im_out = test_plot_imshow(xbin_edges, ybin_edges, matrix)\n",
    "plot_point = test_add_point(test_point, axs[0][0])\n",
    "plot_point = test_add_point(test_point, axs[0][1])\n",
    "plot_point = test_add_point(test_point, axs[1][0])\n",
    "plot_point = test_add_point(test_point, axs[1][1])\n",
    "plt.suptitle('Plotting the test_point at the indicies into the matrix causes the view to mess up')"
   ]
  },
  {
   "cell_type": "code",
   "execution_count": null,
   "id": "8b4a56c5-3100-4316-a220-136a50147c53",
   "metadata": {},
   "outputs": [],
   "source": [
    "test_point = [80.0, 210.0]\n",
    "# Perform the plot:\n",
    "fig, axs, plot_im_out = test_plot_imshow(xbin_edges, ybin_edges, matrix)\n",
    "plot_point = test_add_point(test_point, axs[0][0])\n",
    "plot_point = test_add_point(test_point, axs[0][1])\n",
    "plot_point = test_add_point(test_point, axs[1][0])\n",
    "plot_point = test_add_point(test_point, axs[1][1])\n",
    "plt.suptitle('Changing the origin from lower to upper has no effect on the plotted test_points (by plot). at the indicies into the matrix causes the view to mess up')"
   ]
  },
  {
   "cell_type": "markdown",
   "id": "c182566e-7e75-4500-bd9e-a930aba681bd",
   "metadata": {},
   "source": [
    "## The extent set by imshow DOES impact the effect of plotting points with plot(...) on the other hand!"
   ]
  },
  {
   "cell_type": "code",
   "execution_count": null,
   "id": "8e000af8-0bd0-41bc-b709-358daa2dbcee",
   "metadata": {},
   "outputs": [],
   "source": [
    "# test_point = [xbin[max_2d_idx[0]], ybin[max_2d_idx[1]]]\n",
    "# test_point = [xbin[max_2d_idx[1]], ybin[max_2d_idx[0]]] # IndexError: index 20 is out of bounds for axis 0 with size 15\n",
    "test_point = [ybin_edges[max_2d_idx[1]], xbin_edges[max_2d_idx[0]]]\n",
    "# Perform the plot:\n",
    "fig, axs, plot_im_out = test_plot_imshow(xbin_edges, ybin_edges, matrix)\n",
    "plot_point = test_add_point(test_point, axs[0][0])\n",
    "plot_point = test_add_point(test_point, axs[0][1])\n",
    "plot_point = test_add_point(test_point, axs[1][0])\n",
    "plot_point = test_add_point(test_point, axs[1][1])\n",
    "plt.suptitle('Changing the origin from lower to upper has no effect on the plotted test_points (by plot). at the indicies into the matrix causes the view to mess up')"
   ]
  },
  {
   "cell_type": "markdown",
   "id": "2d8f1333-a79a-45c9-b357-206a5c4ca0c4",
   "metadata": {},
   "source": [
    "## See that only the bottom left plot works!"
   ]
  },
  {
   "cell_type": "markdown",
   "id": "72b3693e-81dc-4ca7-a92e-3d522798766f",
   "metadata": {},
   "source": [
    "# Working Configuration:\n",
    "The only configuration that makes the points line up with the underlying heatmap requires:\n",
    "\n",
    "1. The origin must be set to `origin=lower`\n",
    "2. The extents passed to imshow must be set in the form: `y_first_extent = (ymin, ymax, xmin, xmax)`\n",
    "3. points passed into plot are specified as `plot(y_val, x_val)` instead of the customary `plot(x_val, y_val)`. This can be done by building them this way, or flipping the inputs to plot.\n",
    "4. you should NOT set 'aspect='auto'' if you want to preserve the original data shape.\n",
    "5. You need to reverse your calls to ax.set_xlabel and ax.set_ylabel, e.g.: ax.set_xlabel('ACTUALLY Y LABEL')\n",
    "\n",
    "# Note that despite the image being right, the xlabels and ylabels are now WRONG. They're flipped for some reason!\n",
    "\n",
    "# Disable autoscaling to get exactly the plot we want:\n",
    "ax.autoscale(enable=None, axis=\"x\", tight=True) # the tight=true disables margins (which I don't see why we'd need them)\n",
    "ax.autoscale(enable=None, axis=\"y\", tight=True) "
   ]
  },
  {
   "cell_type": "code",
   "execution_count": null,
   "id": "9742a8ed-adea-4e5e-80f3-e379fc7a27da",
   "metadata": {},
   "outputs": [],
   "source": [
    "setup_stable_axes_limits(xbin_edges, ybin_edges, ax[0,0]) # note that the data bounds should be from xbin, not xbin_centers, even though the data should have been computed only on xbin_centers"
   ]
  },
  {
   "cell_type": "markdown",
   "id": "777fd56f-8d28-48d4-9370-b41c6d23b5da",
   "metadata": {
    "tags": []
   },
   "source": [
    "# Final Working Plot"
   ]
  },
  {
   "cell_type": "code",
   "execution_count": null,
   "id": "0dd51073-474a-459c-a478-87e648c08487",
   "metadata": {},
   "outputs": [],
   "source": [
    "# The simple goal is to be able to plot a heatmap, for example one obtained from a 2D histogram of x and y data, and plot it with relevant points overlaying it.\n",
    "\n",
    "def final_x_vertical_plot_imshow(xbin_edges, ybin_edges, matrix):\n",
    "    \"\"\" Plots the matrix data in the 'x == vertical orientation'\n",
    "    \n",
    "    fig, ax, im_out = good_plot_imshow(xbin, ybin, matrix) \"\"\"\n",
    "    def setup_stable_axes_limits(xbins_edges, ybin_edges, ax):\n",
    "        \" manually sets the axis data limits to disable autoscaling given the xbins_edges/ybin_edges \"\n",
    "        # x == vertical orientation:\n",
    "        ax.set_xlim(left=ybin_edges[0], right=ybin_edges[-1])\n",
    "        ax.set_ylim(bottom=xbins_edges[0], top=xbins_edges[-1])\n",
    "        # x == horizontal orientation:\n",
    "        # ax.set_xlim(left=xbins_edges[0], right=xbins_edges[-1])\n",
    "        # ax.set_ylim(bottom=ybin_edges[0], top=ybin_edges[-1])\n",
    "\n",
    "    fig, axs = plt.subplots(ncols=1, nrows=1, figsize=(15,15), clear=True)\n",
    "    variable_value = matrix\n",
    "    \n",
    "    xmin, xmax, ymin, ymax = (xbin_edges[0], xbin_edges[-1], ybin_edges[0], ybin_edges[-1])\n",
    "    y_first_extent = (ymin, ymax, xmin, xmax) # swapped the order of the extent axes.\n",
    "    main_plot_kwargs = {\n",
    "        'cmap': 'viridis',\n",
    "        'origin':'lower',\n",
    "        'extent':y_first_extent,\n",
    "    }\n",
    "    \n",
    "    \"\"\"\n",
    "    Note that changing the origin while keeping everything else the same doesn't flip the direction of the yaxis labels despite flipping the yaxis of the data.\n",
    "    \"\"\"\n",
    "    ax = axs\n",
    "    im_out = ax.imshow(variable_value, **main_plot_kwargs)\n",
    "    ax.set_title(f'origin=lower \\nextent=(ymin, ymax, xmin, xmax): {y_first_extent}')\n",
    "    # Note that the xlabel and ylabel commands are for the opposite axis!\n",
    "    ax.set_xlabel('y')\n",
    "    ax.set_ylabel('x')\n",
    "    setup_stable_axes_limits(xbin_edges, ybin_edges, ax)\n",
    "    return fig, axs, im_out\n",
    "\n",
    "def final_x_vertical_add_point(test_point_x_y, ax):\n",
    "    \"\"\" Plots the data point/points in the 'x == vertical orientation':\n",
    "    line = good_add_point(test_point, test_point[0], ax) \"\"\"\n",
    "    line, = ax.plot(test_point_x_y[1], test_point_x_y[0], marker='d', markersize=40.0, linestyle='None', color='red', alpha=0.5)\n",
    "    return line\n"
   ]
  },
  {
   "cell_type": "markdown",
   "id": "a1fd59ea-e1ff-4493-a1c6-3ede9571b1dd",
   "metadata": {},
   "source": [
    "In common usage, the abscissa refers to the horizontal axis and the ordinate refers to the vertical axis of a standard two-dimensional graph. \n"
   ]
  },
  {
   "cell_type": "code",
   "execution_count": null,
   "id": "389636a6-1a42-4b9a-beaf-067801373cd8",
   "metadata": {},
   "outputs": [],
   "source": [
    "from pyphocorehelpers.plotting.image_plotting_helpers import IMShowHelpers\n",
    "\n",
    "test_point = [xbin_centers[max_2d_idx[0]], ybin_centers[max_2d_idx[1]]] # why wouldn't this be x_bin center if it corresponds to an entry in the matrix with each point corresponding to a center?\n",
    "\n",
    "# Perform the plot:\n",
    "fig, axs, plot_im_out = IMShowHelpers.final_x_vertical_plot_imshow(xbin_edges, ybin_edges, matrix)\n",
    "plot_point = IMShowHelpers.final_x_vertical_add_point(test_point, axs)\n",
    "plt.suptitle('Final x == vertical axis Plot')\n"
   ]
  },
  {
   "cell_type": "markdown",
   "id": "c3a5313f-560f-4d18-a0f8-87a495d6d10c",
   "metadata": {},
   "source": [
    "# Attempt to convert data to typical x == horizontal axis plot:"
   ]
  },
  {
   "cell_type": "code",
   "execution_count": null,
   "id": "c5e14328-5bf7-45e4-b89d-233ae8946edf",
   "metadata": {},
   "outputs": [],
   "source": [
    "IMShowHelpers."
   ]
  },
  {
   "cell_type": "code",
   "execution_count": null,
   "id": "589d3f52-d41b-4e94-909a-f264f869ca2c",
   "metadata": {},
   "outputs": [],
   "source": [
    "# Either of these approaches work to format the output in a form that final_x_horizontal_* functions can use:\n",
    "# x_horizontal_matrix = np.swapaxes(matrix, 0, 1)\n",
    "x_horizontal_matrix = matrix.T\n",
    "\n",
    "# Perform the plot:\n",
    "fig, axs, plot_im_out = IMShowHelpers.final_x_horizontal_plot_imshow(xbin_edges, ybin_edges, x_horizontal_matrix)\n",
    "plot_point = IMShowHelpers.final_x_horizontal_add_point(test_point, axs)\n",
    "plt.suptitle('Final x == horizontal axis Plot')"
   ]
  },
  {
   "cell_type": "code",
   "execution_count": null,
   "id": "4bedb7ac-de88-436f-90ff-11a18b8ca093",
   "metadata": {},
   "outputs": [],
   "source": []
  }
 ],
 "metadata": {
  "kernelspec": {
   "display_name": "Python 3 (ipykernel)",
   "language": "python",
   "name": "python3"
  },
  "language_info": {
   "codemirror_mode": {
    "name": "ipython",
    "version": 3
   },
   "file_extension": ".py",
   "mimetype": "text/x-python",
   "name": "python",
   "nbconvert_exporter": "python",
   "pygments_lexer": "ipython3",
   "version": "3.9.13"
  }
 },
 "nbformat": 4,
 "nbformat_minor": 5
}
