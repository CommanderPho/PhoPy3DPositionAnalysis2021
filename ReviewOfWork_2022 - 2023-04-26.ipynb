{
 "cells": [
  {
   "cell_type": "code",
   "execution_count": 1,
   "id": "0056bc66-7629-4ef7-8c87-f28f8fcd9dc8",
   "metadata": {
    "autorun": true,
    "tags": [
     "imports",
     "REQUIRED",
     "ACTIVE"
    ]
   },
   "outputs": [
    {
     "name": "stdout",
     "output_type": "stream",
     "text": [
      "Automatic pdb calling has been turned OFF\n",
      "build_module_logger(module_name=\"Spike3D.pipeline\"):\n",
      "\t Module logger com.PhoHale.Spike3D.pipeline has file logging enabled and will log to EXTERNAL/TESTING/Logging/debug_com.PhoHale.Spike3D.pipeline.log\n"
     ]
    }
   ],
   "source": [
    "%config IPCompleter.use_jedi = False\n",
    "%pdb off\n",
    "# %load_ext viztracer\n",
    "# from viztracer import VizTracer\n",
    "%load_ext autoreload\n",
    "%autoreload 3\n",
    "import sys\n",
    "from pathlib import Path\n",
    "\n",
    "# required to enable non-blocking interaction:\n",
    "%gui qt5\n",
    "\n",
    "from copy import deepcopy\n",
    "from numba import jit\n",
    "import numpy as np\n",
    "import pandas as pd\n",
    "# from benedict import benedict # https://github.com/fabiocaccamo/python-benedict#usage\n",
    "\n",
    "# Pho's Formatting Preferences\n",
    "# from pyphocorehelpers.preferences_helpers import set_pho_preferences, set_pho_preferences_concise, set_pho_preferences_verbose\n",
    "# set_pho_preferences_concise()\n",
    "\n",
    "## Pho's Custom Libraries:\n",
    "from pyphocorehelpers.general_helpers import CodeConversion\n",
    "from pyphocorehelpers.function_helpers import function_attributes\n",
    "from pyphocorehelpers.print_helpers import print_keys_if_possible, print_value_overview_only, document_active_variables, objsize, print_object_memory_usage, debug_dump_object_member_shapes, TypePrintMode\n",
    "from pyphocorehelpers.print_helpers import get_now_day_str, get_now_time_str, get_now_time_precise_str\n",
    "from pyphocorehelpers.Filesystem.path_helpers import find_first_extant_path\n",
    "\n",
    "# NeuroPy (Diba Lab Python Repo) Loading\n",
    "# from neuropy import core\n",
    "from neuropy.analyses.placefields import PlacefieldComputationParameters\n",
    "from neuropy.core.epoch import NamedTimerange\n",
    "from neuropy.core.ratemap import Ratemap\n",
    "from neuropy.core.session.Formats.BaseDataSessionFormats import DataSessionFormatRegistryHolder\n",
    "from neuropy.core.session.Formats.Specific.BapunDataSessionFormat import BapunDataSessionFormatRegisteredClass\n",
    "from neuropy.core.session.Formats.Specific.KDibaOldDataSessionFormat import KDibaOldDataSessionFormatRegisteredClass\n",
    "from neuropy.core.session.Formats.Specific.RachelDataSessionFormat import RachelDataSessionFormat\n",
    "from neuropy.core.session.Formats.Specific.HiroDataSessionFormat import HiroDataSessionFormatRegisteredClass\n",
    "\n",
    "## For computation parameters:\n",
    "from neuropy.analyses.placefields import PlacefieldComputationParameters\n",
    "from neuropy.utils.dynamic_container import DynamicContainer\n",
    "from neuropy.utils.result_context import IdentifyingContext\n",
    "from neuropy.core.session.Formats.BaseDataSessionFormats import find_local_session_paths\n",
    "\n",
    "# pyPhoPlaceCellAnalysis:\n",
    "from pyphoplacecellanalysis.General.Pipeline.NeuropyPipeline import NeuropyPipeline # get_neuron_identities\n",
    "from pyphoplacecellanalysis.General.Mixins.ExportHelpers import export_pyqtgraph_plot\n",
    "from pyphoplacecellanalysis.General.Batch.NonInteractiveWrapper import batch_load_session, batch_extended_computations, SessionBatchProgress, batch_programmatic_figures, batch_extended_programmatic_figures\n",
    "from pyphoplacecellanalysis.General.Pipeline.NeuropyPipeline import PipelineSavingScheme\n",
    "from pyphoplacecellanalysis.Pho2D.matplotlib.visualize_heatmap import visualize_heatmap\n",
    "\n",
    "# from PendingNotebookCode import _perform_batch_plot, _build_batch_plot_kwargs\n",
    "\n",
    "session_batch_status = {}\n",
    "session_batch_errors = {}\n",
    "enable_saving_to_disk = False\n",
    "\n",
    "global_data_root_parent_path = find_first_extant_path([Path(r'W:\\Data'), Path(r'/media/MAX/Data'), Path(r'/Volumes/MoverNew/data'), Path(r'/home/halechr/turbo/Data')])\n",
    "assert global_data_root_parent_path.exists(), f\"global_data_root_parent_path: {global_data_root_parent_path} does not exist! Is the right computer's config commented out above?\""
   ]
  },
  {
   "attachments": {},
   "cell_type": "markdown",
   "id": "a1538e2a-4e39-4d11-90b5-a9fef9258058",
   "metadata": {
    "tags": [
     "REQUIRED",
     "ACTIVE"
    ]
   },
   "source": [
    "# Load Pipeline"
   ]
  },
  {
   "cell_type": "code",
   "execution_count": 2,
   "id": "f917bad9-8fe7-4882-b83b-71cf878fffd2",
   "metadata": {
    "tags": [
     "load",
     "REQUIRED"
    ]
   },
   "outputs": [
    {
     "name": "stdout",
     "output_type": "stream",
     "text": [
      "local_session_names_list: ['2006-6-07_16-40-19', '2006-6-12_16-53-46', '2006-6-09_22-24-40', '2006-6-13_15-22-3', '2006-6-08_21-16-25', '2006-6-08_15-46-47']\n"
     ]
    },
    {
     "data": {
      "text/plain": [
       "{PosixPath('/media/MAX/Data/KDIBA/gor01/two/2006-6-07_16-40-19'): <SessionBatchProgress.NOT_STARTED: 'NOT_STARTED'>,\n",
       " PosixPath('/media/MAX/Data/KDIBA/gor01/two/2006-6-12_16-53-46'): <SessionBatchProgress.NOT_STARTED: 'NOT_STARTED'>,\n",
       " PosixPath('/media/MAX/Data/KDIBA/gor01/two/2006-6-09_22-24-40'): <SessionBatchProgress.NOT_STARTED: 'NOT_STARTED'>,\n",
       " PosixPath('/media/MAX/Data/KDIBA/gor01/two/2006-6-13_15-22-3'): <SessionBatchProgress.NOT_STARTED: 'NOT_STARTED'>,\n",
       " PosixPath('/media/MAX/Data/KDIBA/gor01/two/2006-6-08_21-16-25'): <SessionBatchProgress.NOT_STARTED: 'NOT_STARTED'>,\n",
       " PosixPath('/media/MAX/Data/KDIBA/gor01/two/2006-6-08_15-46-47'): <SessionBatchProgress.NOT_STARTED: 'NOT_STARTED'>}"
      ]
     },
     "execution_count": 2,
     "metadata": {},
     "output_type": "execute_result"
    }
   ],
   "source": [
    "# ==================================================================================================================== #\n",
    "# Load Data                                                                                                            #\n",
    "# ==================================================================================================================== #\n",
    "\n",
    "active_data_mode_name = 'kdiba'\n",
    "\n",
    "## Data must be pre-processed using the MATLAB script located here: \n",
    "#     neuropy/data_session_pre_processing_scripts/KDIBA/IIDataMat_Export_ToPython_2022_08_01.m\n",
    "# From pre-computed .mat files:\n",
    "\n",
    "local_session_root_parent_context = IdentifyingContext(format_name=active_data_mode_name) # , animal_name='', configuration_name='one', session_name=self.session_name\n",
    "local_session_root_parent_path = global_data_root_parent_path.joinpath('KDIBA')\n",
    "\n",
    "# # Animal `gor01`:\n",
    "# local_session_parent_context = local_session_root_parent_context.adding_context(collision_prefix='animal', animal='gor01', exper_name='one') # IdentifyingContext<('kdiba', 'gor01', 'one')>\n",
    "# local_session_parent_path = local_session_root_parent_path.joinpath(local_session_parent_context.animal, local_session_parent_context.exper_name) # 'gor01', 'one'\n",
    "# local_session_paths_list, local_session_names_list =  find_local_session_paths(local_session_parent_path, blacklist=['PhoHelpers', 'Spike3D-Minimal-Test', 'Unused'])\n",
    "\n",
    "local_session_parent_context = local_session_root_parent_context.adding_context(collision_prefix='animal', animal='gor01', exper_name='two')\n",
    "local_session_parent_path = local_session_root_parent_path.joinpath(local_session_parent_context.animal, local_session_parent_context.exper_name)\n",
    "local_session_paths_list, local_session_names_list =  find_local_session_paths(local_session_parent_path, blacklist=[])\n",
    "\n",
    "# ## Animal `vvp01`:\n",
    "# local_session_parent_context = local_session_root_parent_context.adding_context(collision_prefix='animal', animal='vvp01', exper_name='one')\n",
    "# local_session_parent_path = local_session_root_parent_path.joinpath(local_session_parent_context.animal, local_session_parent_context.exper_name)\n",
    "# local_session_paths_list, local_session_names_list =  find_local_session_paths(local_session_parent_path, blacklist=[])\n",
    "\n",
    "# local_session_parent_context = local_session_root_parent_context.adding_context(collision_prefix='animal', animal='vvp01', exper_name='two')\n",
    "# local_session_parent_path = local_session_root_parent_path.joinpath(local_session_parent_context.animal, local_session_parent_context.exper_name)\n",
    "# local_session_paths_list, local_session_names_list =  find_local_session_paths(local_session_parent_path, blacklist=[])\n",
    "\n",
    "# ### Animal `pin01`:\n",
    "# local_session_parent_context = local_session_root_parent_context.adding_context(collision_prefix='animal', animal='pin01', exper_name='one')\n",
    "# local_session_parent_path = local_session_root_parent_path.joinpath(local_session_parent_context.animal, local_session_parent_context.exper_name) # no exper_name ('one' or 'two') folders for this animal.\n",
    "# local_session_paths_list, local_session_names_list =  find_local_session_paths(local_session_parent_path, blacklist=['redundant','showclus','sleep','tmaze'])\n",
    "\n",
    "## Build session contexts list:\n",
    "local_session_contexts_list = [local_session_parent_context.adding_context(collision_prefix='sess', session_name=a_name) for a_name in local_session_names_list] # [IdentifyingContext<('kdiba', 'gor01', 'one', '2006-6-07_11-26-53')>, ..., IdentifyingContext<('kdiba', 'gor01', 'one', '2006-6-13_14-42-6')>]\n",
    "\n",
    "## Initialize `session_batch_status` with the NOT_STARTED status if it doesn't already have a different status\n",
    "for curr_session_basedir in local_session_paths_list:\n",
    "    curr_session_status = session_batch_status.get(curr_session_basedir, None)\n",
    "    if curr_session_status is None:\n",
    "        session_batch_status[curr_session_basedir] = SessionBatchProgress.NOT_STARTED # set to not started if not present\n",
    "        # session_batch_status[curr_session_basedir] = SessionBatchProgress.COMPLETED # set to not started if not present\n",
    "\n",
    "session_batch_status"
   ]
  },
  {
   "cell_type": "code",
   "execution_count": 3,
   "id": "d13e68b4-03e0-4388-a35c-87a352a6e6b3",
   "metadata": {
    "tags": [
     "load",
     "single_session",
     "REQUIRED"
    ]
   },
   "outputs": [
    {
     "name": "stdout",
     "output_type": "stream",
     "text": [
      "Automatic pdb calling has been turned OFF\n",
      "basedir: /media/MAX/Data/KDIBA/gor01/two/2006-6-07_16-40-19\n",
      "Skipping loading from pickled file because force_reload == True.\n",
      "Loading matlab import file results : /media/MAX/Data/KDIBA/gor01/two/2006-6-07_16-40-19/2006-6-07_16-40-19.epochs_info.mat... done.\n",
      "Loading matlab import file results : /media/MAX/Data/KDIBA/gor01/two/2006-6-07_16-40-19/2006-6-07_16-40-19.position_info.mat... done.\n",
      "Loading matlab import file results : /media/MAX/Data/KDIBA/gor01/two/2006-6-07_16-40-19/2006-6-07_16-40-19.spikes.mat... "
     ]
    },
    {
     "name": "stderr",
     "output_type": "stream",
     "text": [
      "/home/halechr/repos/NeuroPy/neuropy/core/session/Formats/SessionSpecifications.py:140: UserWarning: WARNING: Optional File: /media/MAX/Data/KDIBA/gor01/two/2006-6-07_16-40-19/2006-6-07_16-40-19.dat does not exist. Continuing without it.\n",
      "  warnings.warn(f'WARNING: Optional File: {an_optional_filepath} does not exist. Continuing without it.')\n"
     ]
    },
    {
     "name": "stdout",
     "output_type": "stream",
     "text": [
      "done.\n",
      "Failure loading .position.npy. Must recompute.\n",
      "\n",
      "Computing linear positions for all active epochs for session... Saving updated position results results : /media/MAX/Data/KDIBA/gor01/two/2006-6-07_16-40-19/2006-6-07_16-40-19.position.npy... 2006-6-07_16-40-19.position.npy saved\n",
      "done.\n",
      "\t force_recompute is True! Forcing recomputation of .interpolated_spike_positions.npy\n",
      "\n",
      "Computing interpolate_spike_positions columns results : spikes_df... done.\n",
      "\t Saving updated interpolated spike position results results : /media/MAX/Data/KDIBA/gor01/two/2006-6-07_16-40-19/2006-6-07_16-40-19.interpolated_spike_positions.npy... 2006-6-07_16-40-19.interpolated_spike_positions.npy saved\n",
      "done.\n",
      "Loading matlab import file results : /media/MAX/Data/KDIBA/gor01/two/2006-6-07_16-40-19/2006-6-07_16-40-19.laps_info.mat... done.\n",
      "setting laps object.\n",
      "session.laps loaded successfully!\n",
      "Loading matlab import file results : /media/MAX/Data/KDIBA/gor01/two/2006-6-07_16-40-19/2006-6-07_16-40-19.replay_info.mat... done.\n",
      "session.replays loaded successfully!\n",
      "Loading success: /media/MAX/Data/KDIBA/gor01/two/2006-6-07_16-40-19/ripple_df.pkl.\n",
      "Loading success: .mua.npy.\n",
      "Loading success: .pbe.npy.\n",
      "Computing spikes_df PBEs column results : spikes_df... done.\n",
      "Computing added spike scISI column results : spikes_df... done.\n",
      "skip_save_on_initial_load is True so resultant pipeline will not be saved to the pickle file.\n",
      "Applying session filter named \"maze1\"...\n",
      "Constraining to epoch with times (start: 0.0, end: 1236.2662453636294)\n",
      "computing neurons mua for session...\n",
      "\n",
      "Applying session filter named \"maze2\"...\n",
      "Constraining to epoch with times (start: 1236.2662453636294, end: 2587.801681999932)\n",
      "computing neurons mua for session...\n",
      "\n",
      "Applying session filter named \"maze\"...\n",
      "Constraining to epoch with times (start: 0.0, end: 2587.801681999932)\n",
      "computing neurons mua for session...\n",
      "\n",
      "using provided computation_functions_name_whitelist: ['_perform_baseline_placefield_computation', '_perform_time_dependent_placefield_computation', '_perform_extended_statistics_computation', '_perform_position_decoding_computation', '_perform_firing_rate_trends_computation', '_perform_time_dependent_pf_sequential_surprise_computation_perform_two_step_position_decoding_computation']\n",
      "due to whitelist, including only 5 out of 15 registered computation functions.\n",
      "Recomputing active_epoch_placefields... \t done.\n",
      "Recomputing active_epoch_placefields2D... \t done.\n",
      "Recomputing active_epoch_time_dependent_placefields... \t done.\n",
      "Recomputing active_epoch_time_dependent_placefields2D... \t done.\n",
      "WARNING: PREVIOUSLY ASSERT: \n",
      "\t spikes_df[time_variable_name]: (21678,) should be less than time_window_edges: (36806,)!\n",
      "WARNING: PREVIOUSLY ASSERT: \n",
      "\t spikes_df[time_variable_name]: (21678,) should be less than time_window_edges: (36806,)!\n",
      "updating computation_results...\n",
      "done.\n",
      "due to whitelist, including only 5 out of 15 registered computation functions.\n",
      "Recomputing active_epoch_placefields... \t done.\n",
      "Recomputing active_epoch_placefields2D... \t done.\n",
      "Recomputing active_epoch_time_dependent_placefields... \t done.\n",
      "Recomputing active_epoch_time_dependent_placefields2D... \t done.\n",
      "WARNING: PREVIOUSLY ASSERT: \n",
      "\t spikes_df[time_variable_name]: (18163,) should be less than time_window_edges: (40455,)!\n",
      "WARNING: PREVIOUSLY ASSERT: \n",
      "\t spikes_df[time_variable_name]: (18163,) should be less than time_window_edges: (40455,)!\n",
      "updating computation_results...\n",
      "done.\n",
      "due to whitelist, including only 5 out of 15 registered computation functions.\n",
      "Recomputing active_epoch_placefields... \t done.\n",
      "Recomputing active_epoch_placefields2D... \t done.\n",
      "Recomputing active_epoch_time_dependent_placefields... \t done.\n",
      "Recomputing active_epoch_time_dependent_placefields2D... \t done.\n",
      "WARNING: PREVIOUSLY ASSERT: \n",
      "\t spikes_df[time_variable_name]: (39841,) should be less than time_window_edges: (77277,)!\n",
      "WARNING: PREVIOUSLY ASSERT: \n",
      "\t spikes_df[time_variable_name]: (39841,) should be less than time_window_edges: (77277,)!\n",
      "updating computation_results...\n",
      "done.\n",
      "finalized_loaded_sess_pickle_path: /media/MAX/Data/KDIBA/gor01/two/2006-6-07_16-40-19/loadedSessPickle.pkl\n",
      "WARNING: saving_mode is OVERWRITE_IN_PLACE so /media/MAX/Data/KDIBA/gor01/two/2006-6-07_16-40-19/loadedSessPickle.pkl will be overwritten even though exists.\n",
      "Saving (file mode 'w+b') saved session pickle file results : /media/MAX/Data/KDIBA/gor01/two/2006-6-07_16-40-19/loadedSessPickle.pkl... done.\n"
     ]
    }
   ],
   "source": [
    "%pdb off\n",
    "# %%viztracer\n",
    "basedir = local_session_paths_list[0] # NOT 3\n",
    "print(f'basedir: {str(basedir)}')\n",
    "\n",
    "# # Read if possible:\n",
    "# saving_mode = PipelineSavingScheme.SKIP_SAVING\n",
    "# force_reload = False\n",
    "\n",
    "# Force write:\n",
    "saving_mode = PipelineSavingScheme.OVERWRITE_IN_PLACE\n",
    "force_reload = True\n",
    "\n",
    "# ==================================================================================================================== #\n",
    "# Load Pipeline                                                                                                        #\n",
    "# ==================================================================================================================== #\n",
    "# epoch_name_whitelist = ['maze']\n",
    "epoch_name_whitelist = None\n",
    "active_computation_functions_name_whitelist=['_perform_baseline_placefield_computation', '_perform_time_dependent_placefield_computation', '_perform_extended_statistics_computation',\n",
    "                                        '_perform_position_decoding_computation', \n",
    "                                        '_perform_firing_rate_trends_computation',\n",
    "                                        # '_perform_pf_find_ratemap_peaks_computation',\n",
    "                                        '_perform_time_dependent_pf_sequential_surprise_computation'\n",
    "                                        '_perform_two_step_position_decoding_computation',\n",
    "                                        # '_perform_recursive_latent_placefield_decoding'\n",
    "                                    ]\n",
    "curr_active_pipeline = batch_load_session(global_data_root_parent_path, active_data_mode_name, basedir, epoch_name_whitelist=epoch_name_whitelist,\n",
    "                                          computation_functions_name_whitelist=active_computation_functions_name_whitelist,\n",
    "                                          saving_mode=saving_mode, force_reload=force_reload,\n",
    "                                          skip_extended_batch_computations=True, debug_print=False, fail_on_exception=True)"
   ]
  },
  {
   "cell_type": "code",
   "execution_count": 4,
   "id": "e403d1fb",
   "metadata": {},
   "outputs": [
    {
     "name": "stdout",
     "output_type": "stream",
     "text": [
      "sane_midpoint_x: 118.93433364528494, hardcoded_track_midpoint_x: None, track_min_max_x: (18.67140495721134, 256.5400722477812)\n",
      "hardcoded_track_midpoint_x is None, falling back to sane_midpoint_x... 118.93433364528494\n",
      "desc_crossings_x: (20,), asc_crossings_x: (20,)\n",
      "setting new computation epochs because laps changed.\n"
     ]
    }
   ],
   "source": [
    "from neuropy.analyses.placefields import PfND\n",
    "from PendingNotebookCode import constrain_to_laps\n",
    "from PendingNotebookCode import compute_short_long_constrained_decoders\n",
    "\n",
    "curr_active_pipeline = constrain_to_laps(curr_active_pipeline)"
   ]
  },
  {
   "cell_type": "code",
   "execution_count": 5,
   "id": "dda48261",
   "metadata": {},
   "outputs": [
    {
     "name": "stdout",
     "output_type": "stream",
     "text": [
      "Performing run_specific_computations_single_context on filtered_session with filter named \"maze1\"...\n",
      "Performing _execute_computation_functions(...) with 1 registered_computation_functions...\n",
      "WARNING: PREVIOUSLY ASSERT: \n",
      "\t spikes_df[time_variable_name]: (13800,) should be less than time_window_edges: (35786,)!\n",
      "WARNING: PREVIOUSLY ASSERT: \n",
      "\t spikes_df[time_variable_name]: (13800,) should be less than time_window_edges: (35786,)!\n",
      "_execute_computation_functions(...): \n",
      "\taccumulated_errors: None\n",
      "Performing run_specific_computations_single_context on filtered_session with filter named \"maze2\"...\n",
      "Performing _execute_computation_functions(...) with 1 registered_computation_functions...\n",
      "WARNING: PREVIOUSLY ASSERT: \n",
      "\t spikes_df[time_variable_name]: (18163,) should be less than time_window_edges: (40455,)!\n",
      "WARNING: PREVIOUSLY ASSERT: \n",
      "\t spikes_df[time_variable_name]: (18163,) should be less than time_window_edges: (40455,)!\n",
      "_execute_computation_functions(...): \n",
      "\taccumulated_errors: None\n",
      "self will be re-binned to match target_pf...\n",
      "done.\n",
      "self will be re-binned to match target_one_step_decoder...\n",
      "WARNING: PREVIOUSLY ASSERT: \n",
      "\t spikes_df[time_variable_name]: (18163,) should be less than time_window_edges: (40455,)!\n",
      "WARNING: PREVIOUSLY ASSERT: \n",
      "\t spikes_df[time_variable_name]: (18163,) should be less than time_window_edges: (40455,)!\n",
      "Performing run_specific_computations_single_context on filtered_session with filter named \"maze1\"...\n",
      "Performing _execute_computation_functions(...) with 1 registered_computation_functions...\n",
      "WARNING: PREVIOUSLY ASSERT: \n",
      "\t spikes_df[time_variable_name]: (13800,) should be less than time_window_edges: (35786,)!\n",
      "WARNING: PREVIOUSLY ASSERT: \n",
      "\t spikes_df[time_variable_name]: (13800,) should be less than time_window_edges: (35786,)!\n",
      "_execute_computation_functions(...): \n",
      "\taccumulated_errors: None\n",
      "Performing run_specific_computations_single_context on filtered_session with filter named \"maze2\"...\n",
      "Performing _execute_computation_functions(...) with 1 registered_computation_functions...\n",
      "WARNING: PREVIOUSLY ASSERT: \n",
      "\t spikes_df[time_variable_name]: (18163,) should be less than time_window_edges: (40455,)!\n",
      "WARNING: PREVIOUSLY ASSERT: \n",
      "\t spikes_df[time_variable_name]: (18163,) should be less than time_window_edges: (40455,)!\n",
      "_execute_computation_functions(...): \n",
      "\taccumulated_errors: None\n",
      "self will be re-binned to match target_pf...\n",
      "done.\n",
      "self will be re-binned to match target_one_step_decoder...\n",
      "WARNING: PREVIOUSLY ASSERT: \n",
      "\t spikes_df[time_variable_name]: (18163,) should be less than time_window_edges: (40455,)!\n",
      "WARNING: PREVIOUSLY ASSERT: \n",
      "\t spikes_df[time_variable_name]: (18163,) should be less than time_window_edges: (40455,)!\n"
     ]
    }
   ],
   "source": [
    "(long_one_step_decoder_1D, short_one_step_decoder_1D), (long_one_step_decoder_2D, short_one_step_decoder_2D) = compute_short_long_constrained_decoders(curr_active_pipeline, recalculate_anyway=True)\n",
    "long_epoch_name, short_epoch_name, global_epoch_name = curr_active_pipeline.find_LongShortGlobal_epoch_names()\n",
    "long_epoch_context, short_epoch_context, global_epoch_context = [curr_active_pipeline.filtered_contexts[a_name] for a_name in (long_epoch_name, short_epoch_name, global_epoch_name)]\n",
    "long_session, short_session, global_session = [curr_active_pipeline.filtered_sessions[an_epoch_name] for an_epoch_name in [long_epoch_name, short_epoch_name, global_epoch_name]]\n",
    "long_results, short_results, global_results = [curr_active_pipeline.computation_results[an_epoch_name]['computed_data'] for an_epoch_name in [long_epoch_name, short_epoch_name, global_epoch_name]]\n",
    "long_pf1D, short_pf1D, global_pf1D = long_results.pf1D, short_results.pf1D, global_results.pf1D\n",
    "long_pf2D, short_pf2D, global_pf2D = long_results.pf2D, short_results.pf2D, global_results.pf2D\n",
    "decoding_time_bin_size = long_one_step_decoder_1D.time_bin_size # 1.0/30.0 # 0.03333333333333333\n",
    "# 3m 40.3s"
   ]
  },
  {
   "cell_type": "code",
   "execution_count": 9,
   "id": "6b8e93ce",
   "metadata": {},
   "outputs": [
    {
     "data": {
      "text/plain": [
       "(<Axes: title={'center': '1D Placemaps Placemaps (38 good cells)'}, xlabel='Position'>,\n",
       " array([ 4, 24, 32,  8, 18,  3, 12, 30,  2, 20, 31, 15, 19,  1, 25,  5, 34,\n",
       "        21,  9,  0, 17, 14, 23, 26, 10, 36, 37, 13, 33, 29,  7, 28, 27, 22,\n",
       "        16, 35, 11,  6]),\n",
       " array([[0.51764706, 0.61411765, 0.71058824, 0.80705882, 0.90352941,\n",
       "         1.        , 0.69803922, 0.75843137, 0.81882353, 0.87921569,\n",
       "         1.        , 0.54901961, 0.63921569, 0.72941176, 0.81960784,\n",
       "         0.90980392, 1.        , 0.38823529, 0.48533924, 0.69163937,\n",
       "         0.80083556, 0.9140625 , 0.22352941, 0.30426738, 0.39728342,\n",
       "         0.50257754, 0.62014973, 0.75      , 0.22352941, 0.3989402 ,\n",
       "         0.50423432, 0.62125425, 0.75      , 0.48235294, 0.58588235,\n",
       "         0.68941176, 0.79294118, 0.89647059],\n",
       "        [0.23529412, 0.31666139, 0.40981561, 0.51475679, 0.63148492,\n",
       "         0.76      , 0.34509804, 0.43145522, 0.5268104 , 0.63116358,\n",
       "         0.86686391, 0.42745098, 0.51509545, 0.60765611, 0.70513295,\n",
       "         0.80752596, 0.91483516, 0.4745098 , 0.57960784, 0.78980392,\n",
       "         0.89490196, 1.        , 0.43921569, 0.53149091, 0.62704029,\n",
       "         0.72586381, 0.8279615 , 0.93333333, 0.23137255, 0.40787038,\n",
       "         0.51315837, 0.62980574, 0.7578125 , 0.25490196, 0.33557245,\n",
       "         0.4254175 , 0.52443711, 0.63263128],\n",
       "        [0.22352941, 0.30426738, 0.39728342, 0.50257754, 0.62014973,\n",
       "         0.75      , 0.03529412, 0.14444283, 0.27048777, 0.41342895,\n",
       "         0.75      , 0.19215686, 0.27486275, 0.372     , 0.48356863,\n",
       "         0.60956863, 0.75      , 0.22352941, 0.3053719 , 0.50423432,\n",
       "         0.62125425, 0.75      , 0.51764706, 0.61411765, 0.71058824,\n",
       "         0.80705882, 0.90352941, 1.        , 0.4745098 , 0.68470588,\n",
       "         0.78980392, 0.89490196, 1.        , 0.45098039, 0.55135685,\n",
       "         0.65299876, 0.75590613, 0.86007896],\n",
       "        [1.        , 1.        , 1.        , 1.        , 1.        ,\n",
       "         1.        , 1.        , 1.        , 1.        , 1.        ,\n",
       "         1.        , 1.        , 1.        , 1.        , 1.        ,\n",
       "         1.        , 1.        , 1.        , 1.        , 1.        ,\n",
       "         1.        , 1.        , 1.        , 1.        , 1.        ,\n",
       "         1.        , 1.        , 1.        , 1.        , 1.        ,\n",
       "         1.        , 1.        , 1.        , 1.        , 1.        ,\n",
       "         1.        , 1.        , 1.        ]]))"
      ]
     },
     "execution_count": 9,
     "metadata": {},
     "output_type": "execute_result"
    }
   ],
   "source": [
    "short_one_step_decoder_1D.pf.plot_ratemaps_1D()\n"
   ]
  },
  {
   "cell_type": "code",
   "execution_count": 10,
   "id": "a60a4938",
   "metadata": {},
   "outputs": [
    {
     "data": {
      "text/plain": [
       "(<Axes: title={'center': '1D Placemaps Placemaps (39 good cells)'}, xlabel='Position'>,\n",
       " array([ 4, 12, 25, 33,  8, 19,  3, 13, 31,  2, 21, 32, 16, 20,  1, 26,  5,\n",
       "        35, 22,  9,  0, 18, 15, 27, 24, 10, 37, 38, 14, 34, 23, 30,  7, 29,\n",
       "        28, 17, 36, 11,  6]),\n",
       " array([[0.51764706, 0.61411765, 0.71058824, 0.80705882, 0.90352941,\n",
       "         1.        , 0.69803922, 0.75843137, 0.81882353, 0.87921569,\n",
       "         0.93960784, 1.        , 0.54901961, 0.72941176, 0.81960784,\n",
       "         0.90980392, 1.        , 0.38823529, 0.48533924, 0.58647393,\n",
       "         0.69163937, 0.80083556, 0.9140625 , 0.22352941, 0.30426738,\n",
       "         0.39728342, 0.62014973, 0.75      , 0.22352941, 0.3053719 ,\n",
       "         0.3989402 , 0.50423432, 0.62125425, 0.75      , 0.48235294,\n",
       "         0.58588235, 0.68941176, 0.79294118, 0.89647059],\n",
       "        [0.23529412, 0.31666139, 0.40981561, 0.51475679, 0.63148492,\n",
       "         0.76      , 0.34509804, 0.43145522, 0.5268104 , 0.63116358,\n",
       "         0.74451474, 0.86686391, 0.42745098, 0.60765611, 0.70513295,\n",
       "         0.80752596, 0.91483516, 0.4745098 , 0.57960784, 0.68470588,\n",
       "         0.78980392, 0.89490196, 1.        , 0.43921569, 0.53149091,\n",
       "         0.62704029, 0.8279615 , 0.93333333, 0.23137255, 0.31394177,\n",
       "         0.40787038, 0.51315837, 0.62980574, 0.7578125 , 0.25490196,\n",
       "         0.33557245, 0.4254175 , 0.52443711, 0.63263128],\n",
       "        [0.22352941, 0.30426738, 0.39728342, 0.50257754, 0.62014973,\n",
       "         0.75      , 0.03529412, 0.14444283, 0.27048777, 0.41342895,\n",
       "         0.57326636, 0.75      , 0.19215686, 0.372     , 0.48356863,\n",
       "         0.60956863, 0.75      , 0.22352941, 0.3053719 , 0.3989402 ,\n",
       "         0.50423432, 0.62125425, 0.75      , 0.51764706, 0.61411765,\n",
       "         0.71058824, 0.90352941, 1.        , 0.4745098 , 0.57960784,\n",
       "         0.68470588, 0.78980392, 0.89490196, 1.        , 0.45098039,\n",
       "         0.55135685, 0.65299876, 0.75590613, 0.86007896],\n",
       "        [1.        , 1.        , 1.        , 1.        , 1.        ,\n",
       "         1.        , 1.        , 1.        , 1.        , 1.        ,\n",
       "         1.        , 1.        , 1.        , 1.        , 1.        ,\n",
       "         1.        , 1.        , 1.        , 1.        , 1.        ,\n",
       "         1.        , 1.        , 1.        , 1.        , 1.        ,\n",
       "         1.        , 1.        , 1.        , 1.        , 1.        ,\n",
       "         1.        , 1.        , 1.        , 1.        , 1.        ,\n",
       "         1.        , 1.        , 1.        , 1.        ]]))"
      ]
     },
     "execution_count": 10,
     "metadata": {},
     "output_type": "execute_result"
    }
   ],
   "source": [
    "short_results.pf1D_Decoder.pf.plot_ratemaps_1D()\n"
   ]
  },
  {
   "cell_type": "code",
   "execution_count": 11,
   "id": "745fc316",
   "metadata": {},
   "outputs": [
    {
     "data": {
      "text/plain": [
       "([<Figure size 12800x1000 with 79 Axes>],\n",
       " [<mpl_toolkits.axes_grid1.axes_grid.ImageGrid at 0x7f795c078fd0>],\n",
       " [{5: {'axs': [<Axes: label='Cell 5-(shk 1, clu 6) - 3.62 Hz'>],\n",
       "    'image': <matplotlib.image.AxesImage at 0x7f793668cd00>,\n",
       "    'title_obj': <matplotlib.offsetbox.AnchoredText at 0x7f79366950a0>,\n",
       "    'spike_overlay_points': [<matplotlib.lines.Line2D at 0x7f79366956d0>],\n",
       "    'spike_overlay_sc': <matplotlib.collections.PathCollection at 0x7f7936695940>},\n",
       "   6: {'axs': [<Axes: label='Cell 6-(shk 1, clu 7) - 3.09 Hz'>],\n",
       "    'image': <matplotlib.image.AxesImage at 0x7f7936695f70>,\n",
       "    'title_obj': <matplotlib.offsetbox.AnchoredText at 0x7f79367366d0>,\n",
       "    'spike_overlay_points': [<matplotlib.lines.Line2D at 0x7f79366a2550>],\n",
       "    'spike_overlay_sc': <matplotlib.collections.PathCollection at 0x7f79366a27c0>},\n",
       "   7: {'axs': [<Axes: label='Cell 7-(shk 1, clu 9) - 4.83 Hz'>],\n",
       "    'image': <matplotlib.image.AxesImage at 0x7f79366a2df0>,\n",
       "    'title_obj': <matplotlib.offsetbox.AnchoredText at 0x7f79366b91c0>,\n",
       "    'spike_overlay_points': [<matplotlib.lines.Line2D at 0x7f79366b97f0>],\n",
       "    'spike_overlay_sc': <matplotlib.collections.PathCollection at 0x7f79366b99d0>},\n",
       "   8: {'axs': [<Axes: label='Cell 8-(shk 1, clu 12) - 0.77 Hz'>],\n",
       "    'image': <matplotlib.image.AxesImage at 0x7f79366bf040>,\n",
       "    'title_obj': <matplotlib.offsetbox.AnchoredText at 0x7f79366bf3d0>,\n",
       "    'spike_overlay_points': [<matplotlib.lines.Line2D at 0x7f79366bfa00>],\n",
       "    'spike_overlay_sc': <matplotlib.collections.PathCollection at 0x7f79366bfc70>},\n",
       "   10: {'axs': [<Axes: label='Cell 10-(shk 2, clu 3) - 2.1 Hz'>],\n",
       "    'image': <matplotlib.image.AxesImage at 0x7f793664c1c0>,\n",
       "    'title_obj': <matplotlib.offsetbox.AnchoredText at 0x7f793664c550>,\n",
       "    'spike_overlay_points': [<matplotlib.lines.Line2D at 0x7f793664cb80>],\n",
       "    'spike_overlay_sc': <matplotlib.collections.PathCollection at 0x7f793664cdf0>},\n",
       "   11: {'axs': [<Axes: label='Cell 11-(shk 2, clu 4) - 10.9 Hz'>],\n",
       "    'image': <matplotlib.image.AxesImage at 0x7f793665a460>,\n",
       "    'title_obj': <matplotlib.offsetbox.AnchoredText at 0x7f793665a7f0>,\n",
       "    'spike_overlay_points': [<matplotlib.lines.Line2D at 0x7f793665ad90>],\n",
       "    'spike_overlay_sc': <matplotlib.collections.PathCollection at 0x7f793665af10>},\n",
       "   12: {'axs': [<Axes: label='Cell 12-(shk 2, clu 6) - 0.7 Hz'>],\n",
       "    'image': <matplotlib.image.AxesImage at 0x7f7936667670>,\n",
       "    'title_obj': <matplotlib.offsetbox.AnchoredText at 0x7f7936667a00>,\n",
       "    'spike_overlay_points': [<matplotlib.lines.Line2D at 0x7f7936671070>],\n",
       "    'spike_overlay_sc': <matplotlib.collections.PathCollection at 0x7f79366712e0>},\n",
       "   15: {'axs': [<Axes: label='Cell 15-(shk 2, clu 12) - 1.66 Hz'>],\n",
       "    'image': <matplotlib.image.AxesImage at 0x7f7936671880>,\n",
       "    'title_obj': <matplotlib.offsetbox.AnchoredText at 0x7f7936671c10>,\n",
       "    'spike_overlay_points': [<matplotlib.lines.Line2D at 0x7f7936604280>],\n",
       "    'spike_overlay_sc': <matplotlib.collections.PathCollection at 0x7f79366044f0>},\n",
       "   17: {'axs': [<Axes: label='Cell 17-(shk 2, clu 14) - 5.33 Hz'>],\n",
       "    'image': <matplotlib.image.AxesImage at 0x7f7936604b20>,\n",
       "    'title_obj': <matplotlib.offsetbox.AnchoredText at 0x7f7936604e20>,\n",
       "    'spike_overlay_points': [<matplotlib.lines.Line2D at 0x7f7936612490>],\n",
       "    'spike_overlay_sc': <matplotlib.collections.PathCollection at 0x7f7936612700>},\n",
       "   18: {'axs': [<Axes: label='Cell 18-(shk 2, clu 15) - 1.43 Hz'>],\n",
       "    'image': <matplotlib.image.AxesImage at 0x7f7936612d30>,\n",
       "    'title_obj': <matplotlib.offsetbox.AnchoredText at 0x7f793661d100>,\n",
       "    'spike_overlay_points': [<matplotlib.lines.Line2D at 0x7f793661d730>],\n",
       "    'spike_overlay_sc': <matplotlib.collections.PathCollection at 0x7f793661d910>},\n",
       "   19: {'axs': [<Axes: label='Cell 19-(shk 2, clu 16) - 18.21 Hz'>],\n",
       "    'image': <matplotlib.image.AxesImage at 0x7f793661df40>,\n",
       "    'title_obj': <matplotlib.offsetbox.AnchoredText at 0x7f793662d310>,\n",
       "    'spike_overlay_points': [<matplotlib.lines.Line2D at 0x7f793662d940>],\n",
       "    'spike_overlay_sc': <matplotlib.collections.PathCollection at 0x7f793662dbb0>},\n",
       "   20: {'axs': [<Axes: label='Cell 20-(shk 2, clu 18) - 1.92 Hz'>],\n",
       "    'image': <matplotlib.image.AxesImage at 0x7f793663b190>,\n",
       "    'title_obj': <matplotlib.offsetbox.AnchoredText at 0x7f793663b520>,\n",
       "    'spike_overlay_points': [<matplotlib.lines.Line2D at 0x7f793663bb50>],\n",
       "    'spike_overlay_sc': <matplotlib.collections.PathCollection at 0x7f793663bdc0>},\n",
       "   21: {'axs': [<Axes: label='Cell 21-(shk 2, clu 24) - 0.41 Hz'>],\n",
       "    'image': <matplotlib.image.AxesImage at 0x7f79365c5430>,\n",
       "    'title_obj': <matplotlib.offsetbox.AnchoredText at 0x7f79365c57c0>,\n",
       "    'spike_overlay_points': [<matplotlib.lines.Line2D at 0x7f79365c5d60>],\n",
       "    'spike_overlay_sc': <matplotlib.collections.PathCollection at 0x7f79365c5fd0>},\n",
       "   24: {'axs': [<Axes: label='Cell 24-(shk 2, clu 31) - 1.75 Hz'>],\n",
       "    'image': <matplotlib.image.AxesImage at 0x7f79365d4640>,\n",
       "    'title_obj': <matplotlib.offsetbox.AnchoredText at 0x7f79365d49d0>,\n",
       "    'spike_overlay_points': [<matplotlib.lines.Line2D at 0x7f79365e0040>],\n",
       "    'spike_overlay_sc': <matplotlib.collections.PathCollection at 0x7f79365c5f70>},\n",
       "   25: {'axs': [<Axes: label='Cell 25-(shk 2, clu 32) - 3.67 Hz'>],\n",
       "    'image': <matplotlib.image.AxesImage at 0x7f79365e0850>,\n",
       "    'title_obj': <matplotlib.offsetbox.AnchoredText at 0x7f79365e0be0>,\n",
       "    'spike_overlay_points': [<matplotlib.lines.Line2D at 0x7f79365ef250>],\n",
       "    'spike_overlay_sc': <matplotlib.collections.PathCollection at 0x7f79365ef4c0>},\n",
       "   26: {'axs': [<Axes: label='Cell 26-(shk 2, clu 33) - 4.34 Hz'>],\n",
       "    'image': <matplotlib.image.AxesImage at 0x7f79365e0100>,\n",
       "    'title_obj': <matplotlib.offsetbox.AnchoredText at 0x7f79365efd60>,\n",
       "    'spike_overlay_points': [<matplotlib.lines.Line2D at 0x7f79365fc3d0>],\n",
       "    'spike_overlay_sc': <matplotlib.collections.PathCollection at 0x7f79365fc640>},\n",
       "   27: {'axs': [<Axes: label='Cell 27-(shk 2, clu 34) - 1.58 Hz'>],\n",
       "    'image': <matplotlib.image.AxesImage at 0x7f79365fcc70>,\n",
       "    'title_obj': <matplotlib.offsetbox.AnchoredText at 0x7f793658a040>,\n",
       "    'spike_overlay_points': [<matplotlib.lines.Line2D at 0x7f793658a5e0>],\n",
       "    'spike_overlay_sc': <matplotlib.collections.PathCollection at 0x7f793658a850>},\n",
       "   28: {'axs': [<Axes: label='Cell 28-(shk 3, clu 4) - 2.18 Hz'>],\n",
       "    'image': <matplotlib.image.AxesImage at 0x7f793658ae80>,\n",
       "    'title_obj': <matplotlib.offsetbox.AnchoredText at 0x7f7936598250>,\n",
       "    'spike_overlay_points': [<matplotlib.lines.Line2D at 0x7f7936598880>],\n",
       "    'spike_overlay_sc': <matplotlib.collections.PathCollection at 0x7f7936598af0>},\n",
       "   31: {'axs': [<Axes: label='Cell 31-(shk 3, clu 9) - 4.79 Hz'>],\n",
       "    'image': <matplotlib.image.AxesImage at 0x7f7936598f70>,\n",
       "    'title_obj': <matplotlib.offsetbox.AnchoredText at 0x7f79365b3340>,\n",
       "    'spike_overlay_points': [<matplotlib.lines.Line2D at 0x7f79365b3970>],\n",
       "    'spike_overlay_sc': <matplotlib.collections.PathCollection at 0x7f79365b3be0>},\n",
       "   34: {'axs': [<Axes: label='Cell 34-(shk 3, clu 12) - 6.19 Hz'>],\n",
       "    'image': <matplotlib.image.AxesImage at 0x7f79365b4250>,\n",
       "    'title_obj': <matplotlib.offsetbox.AnchoredText at 0x7f79365b3b20>,\n",
       "    'spike_overlay_points': [<matplotlib.lines.Line2D at 0x7f79365b4b80>],\n",
       "    'spike_overlay_sc': <matplotlib.collections.PathCollection at 0x7f79365b4df0>},\n",
       "   35: {'axs': [<Axes: label='Cell 35-(shk 4, clu 2) - 1.94 Hz'>],\n",
       "    'image': <matplotlib.image.AxesImage at 0x7f7936542460>,\n",
       "    'title_obj': <matplotlib.offsetbox.AnchoredText at 0x7f79365427f0>,\n",
       "    'spike_overlay_points': [<matplotlib.lines.Line2D at 0x7f7936542e20>],\n",
       "    'spike_overlay_sc': <matplotlib.collections.PathCollection at 0x7f7936542c70>},\n",
       "   39: {'axs': [<Axes: label='Cell 39-(shk 7, clu 5) - 2.09 Hz'>],\n",
       "    'image': <matplotlib.image.AxesImage at 0x7f7936552670>,\n",
       "    'title_obj': <matplotlib.offsetbox.AnchoredText at 0x7f7936552a00>,\n",
       "    'spike_overlay_points': [<matplotlib.lines.Line2D at 0x7f793655d070>],\n",
       "    'spike_overlay_sc': <matplotlib.collections.PathCollection at 0x7f793655d2e0>},\n",
       "   40: {'axs': [<Axes: label='Cell 40-(shk 7, clu 6) - 23.44 Hz'>],\n",
       "    'image': <matplotlib.image.AxesImage at 0x7f79365b4d60>,\n",
       "    'title_obj': <matplotlib.offsetbox.AnchoredText at 0x7f793655db80>,\n",
       "    'spike_overlay_points': [<matplotlib.lines.Line2D at 0x7f793656b1f0>],\n",
       "    'spike_overlay_sc': <matplotlib.collections.PathCollection at 0x7f793656b460>},\n",
       "   41: {'axs': [<Axes: label='Cell 41-(shk 7, clu 8) - 2.88 Hz'>],\n",
       "    'image': <matplotlib.image.AxesImage at 0x7f793656ba90>,\n",
       "    'title_obj': <matplotlib.offsetbox.AnchoredText at 0x7f793656be20>,\n",
       "    'spike_overlay_points': [<matplotlib.lines.Line2D at 0x7f7936579400>],\n",
       "    'spike_overlay_sc': <matplotlib.collections.PathCollection at 0x7f7936579670>},\n",
       "   43: {'axs': [<Axes: label='Cell 43-(shk 7, clu 10) - 0.67 Hz'>],\n",
       "    'image': <matplotlib.image.AxesImage at 0x7f7936579ca0>,\n",
       "    'title_obj': <matplotlib.offsetbox.AnchoredText at 0x7f7936505070>,\n",
       "    'spike_overlay_points': [<matplotlib.lines.Line2D at 0x7f79365056a0>],\n",
       "    'spike_overlay_sc': <matplotlib.collections.PathCollection at 0x7f7936505910>},\n",
       "   44: {'axs': [<Axes: label='Cell 44-(shk 7, clu 11) - 0.5 Hz'>],\n",
       "    'image': <matplotlib.image.AxesImage at 0x7f7936505eb0>,\n",
       "    'title_obj': <matplotlib.offsetbox.AnchoredText at 0x7f7936514280>,\n",
       "    'spike_overlay_points': [<matplotlib.lines.Line2D at 0x7f79365148b0>],\n",
       "    'spike_overlay_sc': <matplotlib.collections.PathCollection at 0x7f7936514b20>},\n",
       "   45: {'axs': [<Axes: label='Cell 45-(shk 8, clu 2) - 3.73 Hz'>],\n",
       "    'image': <matplotlib.image.AxesImage at 0x7f7936521190>,\n",
       "    'title_obj': <matplotlib.offsetbox.AnchoredText at 0x7f7936514a90>,\n",
       "    'spike_overlay_points': [<matplotlib.lines.Line2D at 0x7f7936521ac0>],\n",
       "    'spike_overlay_sc': <matplotlib.collections.PathCollection at 0x7f7936521d30>},\n",
       "   49: {'axs': [<Axes: label='Cell 49-(shk 8, clu 7) - 9.54 Hz'>],\n",
       "    'image': <matplotlib.image.AxesImage at 0x7f793652d3a0>,\n",
       "    'title_obj': <matplotlib.offsetbox.AnchoredText at 0x7f793652d730>,\n",
       "    'spike_overlay_points': [<matplotlib.lines.Line2D at 0x7f793652dd60>],\n",
       "    'spike_overlay_sc': <matplotlib.collections.PathCollection at 0x7f793652df40>},\n",
       "   50: {'axs': [<Axes: label='Cell 50-(shk 8, clu 11) - 1.06 Hz'>],\n",
       "    'image': <matplotlib.image.AxesImage at 0x7f793653e5b0>,\n",
       "    'title_obj': <matplotlib.offsetbox.AnchoredText at 0x7f793653e940>,\n",
       "    'spike_overlay_points': [<matplotlib.lines.Line2D at 0x7f793653ef70>],\n",
       "    'spike_overlay_sc': <matplotlib.collections.PathCollection at 0x7f793648b220>},\n",
       "   51: {'axs': [<Axes: label='Cell 51-(shk 8, clu 12) - 4.73 Hz'>],\n",
       "    'image': <matplotlib.image.AxesImage at 0x7f7936521cd0>,\n",
       "    'title_obj': <matplotlib.offsetbox.AnchoredText at 0x7f793648bac0>,\n",
       "    'spike_overlay_points': [<matplotlib.lines.Line2D at 0x7f7936498130>],\n",
       "    'spike_overlay_sc': <matplotlib.collections.PathCollection at 0x7f79364983a0>},\n",
       "   52: {'axs': [<Axes: label='Cell 52-(shk 8, clu 13) - 6.12 Hz'>],\n",
       "    'image': <matplotlib.image.AxesImage at 0x7f79364989d0>,\n",
       "    'title_obj': <matplotlib.offsetbox.AnchoredText at 0x7f7936498d60>,\n",
       "    'spike_overlay_points': [<matplotlib.lines.Line2D at 0x7f79364a4340>],\n",
       "    'spike_overlay_sc': <matplotlib.collections.PathCollection at 0x7f79364a45b0>},\n",
       "   53: {'axs': [<Axes: label='Cell 53-(shk 8, clu 16) - 2.29 Hz'>],\n",
       "    'image': <matplotlib.image.AxesImage at 0x7f79364a4be0>,\n",
       "    'title_obj': <matplotlib.offsetbox.AnchoredText at 0x7f79364a4f70>,\n",
       "    'spike_overlay_points': [<matplotlib.lines.Line2D at 0x7f79364b55e0>],\n",
       "    'spike_overlay_sc': <matplotlib.collections.PathCollection at 0x7f79364b5850>},\n",
       "   55: {'axs': [<Axes: label='Cell 55-(shk 8, clu 23) - 2.74 Hz'>],\n",
       "    'image': <matplotlib.image.AxesImage at 0x7f79364b5df0>,\n",
       "    'title_obj': <matplotlib.offsetbox.AnchoredText at 0x7f79364001c0>,\n",
       "    'spike_overlay_points': [<matplotlib.lines.Line2D at 0x7f79364007f0>],\n",
       "    'spike_overlay_sc': <matplotlib.collections.PathCollection at 0x7f7936400a60>},\n",
       "   56: {'axs': [<Axes: label='Cell 56-(shk 8, clu 25) - 4.69 Hz'>],\n",
       "    'image': <matplotlib.image.AxesImage at 0x7f793640a0d0>,\n",
       "    'title_obj': <matplotlib.offsetbox.AnchoredText at 0x7f79364009d0>,\n",
       "    'spike_overlay_points': [<matplotlib.lines.Line2D at 0x7f793640aa00>],\n",
       "    'spike_overlay_sc': <matplotlib.collections.PathCollection at 0x7f793640ac70>},\n",
       "   60: {'axs': [<Axes: label='Cell 60-(shk 11, clu 8) - 12.08 Hz'>],\n",
       "    'image': <matplotlib.image.AxesImage at 0x7f793641c2e0>,\n",
       "    'title_obj': <matplotlib.offsetbox.AnchoredText at 0x7f793641c670>,\n",
       "    'spike_overlay_points': [<matplotlib.lines.Line2D at 0x7f793641cca0>],\n",
       "    'spike_overlay_sc': <matplotlib.collections.PathCollection at 0x7f79365058b0>},\n",
       "   62: {'axs': [<Axes: label='Cell 62-(shk 11, clu 10) - 3.59 Hz'>],\n",
       "    'image': <matplotlib.image.AxesImage at 0x7f79364293d0>,\n",
       "    'title_obj': <matplotlib.offsetbox.AnchoredText at 0x7f7936429760>,\n",
       "    'spike_overlay_points': [<matplotlib.lines.Line2D at 0x7f7936429d90>],\n",
       "    'spike_overlay_sc': <matplotlib.collections.PathCollection at 0x7f7936429f10>},\n",
       "   63: {'axs': [<Axes: label='Cell 63-(shk 11, clu 13) - 3.36 Hz'>],\n",
       "    'image': <matplotlib.image.AxesImage at 0x7f7936429f70>,\n",
       "    'title_obj': <matplotlib.offsetbox.AnchoredText at 0x7f79364398e0>,\n",
       "    'spike_overlay_points': [<matplotlib.lines.Line2D at 0x7f7936439f10>],\n",
       "    'spike_overlay_sc': <matplotlib.collections.PathCollection at 0x7f79363c41c0>},\n",
       "   64: {'axs': [<Axes: label='Cell 64-(shk 12, clu 4) - 5.71 Hz'>],\n",
       "    'image': <matplotlib.image.AxesImage at 0x7f79363c47f0>,\n",
       "    'title_obj': <matplotlib.offsetbox.AnchoredText at 0x7f79363c4b80>,\n",
       "    'spike_overlay_points': [<matplotlib.lines.Line2D at 0x7f79363d3160>],\n",
       "    'spike_overlay_sc': <matplotlib.collections.PathCollection at 0x7f79363d33d0>},\n",
       "   65: {'axs': [<Axes: label='Cell 65-(shk 12, clu 5) - 5.13 Hz'>],\n",
       "    'image': <matplotlib.image.AxesImage at 0x7f79363d3a00>,\n",
       "    'title_obj': <matplotlib.offsetbox.AnchoredText at 0x7f79363d3d90>,\n",
       "    'spike_overlay_points': [<matplotlib.lines.Line2D at 0x7f79363e1400>],\n",
       "    'spike_overlay_sc': <matplotlib.collections.PathCollection at 0x7f79363e1670>}}])"
      ]
     },
     "execution_count": 11,
     "metadata": {},
     "output_type": "execute_result"
    },
    {
     "name": "stderr",
     "output_type": "stream",
     "text": [
      "/home/halechr/.cache/pypoetry/virtualenvs/spike3d-xhKu_1Lg-py3.9/lib/python3.9/site-packages/ipykernel/eventloops.py:128: UserWarning: This figure includes Axes that are not compatible with tight_layout, so results might be incorrect.\n",
      "  el.exec() if hasattr(el, 'exec') else el.exec_()\n"
     ]
    }
   ],
   "source": [
    "short_results.pf2D_Decoder.pf.plot_ratemaps_2D()\n",
    "short_one_step_decoder_2D.pf.plot_ratemaps_2D()"
   ]
  },
  {
   "cell_type": "code",
   "execution_count": null,
   "id": "183508e7",
   "metadata": {},
   "outputs": [],
   "source": [
    "curr_active_pipeline.save_pipeline(saving_mode=PipelineSavingScheme.TEMP_THEN_OVERWRITE) # AttributeError: 'PfND_TimeDependent' object has no attribute '_included_thresh_neurons_indx'\n",
    "# TypeError: cannot pickle 'MplMultiTab' object"
   ]
  },
  {
   "attachments": {},
   "cell_type": "markdown",
   "id": "e03a92c8",
   "metadata": {},
   "source": [
    "# 2023-03-16 - Explore passing in long/short decoders specifically to `perform_full_session_leave_one_out_decoding_analysis`"
   ]
  },
  {
   "cell_type": "code",
   "execution_count": 6,
   "id": "26804fbe",
   "metadata": {},
   "outputs": [
    {
     "name": "stdout",
     "output_type": "stream",
     "text": [
      "computing estimated replay epochs for session...\n",
      "\n",
      "\t using KnownFilterEpochs.PBE as surrogate replays...\n",
      "computing estimated replay epochs for session...\n",
      "\n",
      "\t using KnownFilterEpochs.PBE as surrogate replays...\n",
      "computing estimated replay epochs for session...\n",
      "\n",
      "\t using KnownFilterEpochs.PBE as surrogate replays...\n",
      "n_neurons = 37, neurons_colors_array.shape =(4, 37)\n",
      "reusing extant decoder.\n",
      "USING EXISTING original_1D_decoder.\n",
      "(n_neurons = 37, n_all_epoch_timebins = 923)\n",
      "reusing extant decoder.\n",
      "USING EXISTING original_1D_decoder.\n",
      "(n_neurons = 37, n_all_epoch_timebins = 923)\n"
     ]
    }
   ],
   "source": [
    "from pyphoplacecellanalysis.Analysis.Decoder.reconstruction import BasePositionDecoder, BayesianPlacemapPositionDecoder\n",
    "from pyphoplacecellanalysis.Analysis.Decoder.decoder_result import perform_full_session_leave_one_out_decoding_analysis\n",
    "from pyphoplacecellanalysis.Analysis.Decoder.decoder_result import LeaveOneOutDecodingAnalysisResult\n",
    "from pyphoplacecellanalysis.General.Mixins.CrossComputationComparisonHelpers import build_neurons_color_map # for plot_short_v_long_pf1D_comparison\n",
    "\n",
    "# Get existing long/short decoders from the cell under \"# 2023-02-24 Decoders\"\n",
    "long_decoder, short_decoder = deepcopy(long_one_step_decoder_1D), deepcopy(short_one_step_decoder_1D)\n",
    "assert np.all(long_decoder.xbin == short_decoder.xbin)\n",
    "\n",
    "# Backup and replace loaded replays with computed ones:\n",
    "long_replays, short_replays, global_replays = [a_session.replace_session_replays_with_estimates(require_intersecting_epoch=None, debug_print=False) for a_session in [long_session, short_session, global_session]]\n",
    "\n",
    "### Need to prune to only the cells active in both epochs ahead of time:\n",
    "# Prune to the shared aclus in both epochs (short/long):\n",
    "long_shared_aclus_only_decoder, short_shared_aclus_only_decoder = [BasePositionDecoder.init_from_stateful_decoder(a_decoder) for a_decoder in (long_decoder, short_decoder)]\n",
    "shared_aclus, (long_shared_aclus_only_decoder, short_shared_aclus_only_decoder), long_short_pf_neurons_diff = BasePositionDecoder.prune_to_shared_aclus_only(long_shared_aclus_only_decoder, short_shared_aclus_only_decoder)\n",
    "n_neurons = len(shared_aclus)\n",
    "# for plotting purposes, build colors only for the common (present in both, the intersection) neurons:\n",
    "neurons_colors_array = build_neurons_color_map(n_neurons, sortby=None, cmap=None)\n",
    "print(f'{n_neurons = }, {neurons_colors_array.shape =}')\n",
    "# from viztracer import VizTracer\n",
    "\n",
    "# with VizTracer(output_file=f\"viztracer_{get_now_time_str()}-full_session_LOO_decoding_analysis.json\", min_duration=200, tracer_entries=3000000, ignore_frozen=True) as tracer:\n",
    "long_results_obj = perform_full_session_leave_one_out_decoding_analysis(global_session, original_1D_decoder=long_shared_aclus_only_decoder, decoding_time_bin_size = 0.025, cache_suffix = '_long', perform_cache_load=False) # , perform_cache_load=False\n",
    "short_results_obj = perform_full_session_leave_one_out_decoding_analysis(global_session, original_1D_decoder=short_shared_aclus_only_decoder, decoding_time_bin_size = 0.025, cache_suffix = '_short', perform_cache_load=False) # , perform_cache_load=False\n",
    "\n",
    "# 4m 22.4s"
   ]
  },
  {
   "attachments": {},
   "cell_type": "markdown",
   "id": "d69eed8a",
   "metadata": {},
   "source": [
    "## 2023-04-13 - Shuffled Surprise\n",
    "\"\"\" \n",
    "Relevant Functions:\n",
    "`perform_full_session_leave_one_out_decoding_analysis`:\n",
    "\t`perform_leave_one_aclu_out_decoding_analysis`:\tfrom pyphoplacecellanalysis.Analysis.Decoder.decoder_result import perform_leave_one_aclu_out_decoding_analysis\n",
    "\t`_analyze_leave_one_out_decoding_results`: from pyphoplacecellanalysis.General.Pipeline.Stages.ComputationFunctions.DefaultComputationFunctions import _analyze_leave_one_out_decoding_results\n",
    "\"\"\"\n"
   ]
  },
  {
   "cell_type": "code",
   "execution_count": null,
   "id": "0aac42d4",
   "metadata": {},
   "outputs": [],
   "source": [
    "# 2023-04-18 - Refactored into decoder_result\n",
    "result, result_df, result_df_grouped = long_results_obj.result, long_results_obj.result_df, long_results_obj.result_df_grouped"
   ]
  },
  {
   "cell_type": "code",
   "execution_count": null,
   "id": "d5c61634",
   "metadata": {},
   "outputs": [],
   "source": [
    "curr_active_pipeline"
   ]
  },
  {
   "cell_type": "code",
   "execution_count": null,
   "id": "9bfe57a8",
   "metadata": {},
   "outputs": [],
   "source": [
    "curr_active_pipeline.global_computation_results"
   ]
  },
  {
   "cell_type": "code",
   "execution_count": null,
   "id": "d5b860dc",
   "metadata": {},
   "outputs": [],
   "source": [
    "from pyphoplacecellanalysis.General.Pipeline.Stages.Loading import loadData, saveData\n",
    "\n",
    "### Build a folder to store the temporary outputs:\n",
    "output_data_folder = sess.get_output_path()\n",
    "\n",
    "cache_suffix = '_long'\n",
    "leave_one_out_result_pickle_path = output_data_folder.joinpath(f'leave_one_out_surprise_results{cache_suffix}.pkl').resolve()\n",
    "print(f'leave_one_out_result_pickle_path: {leave_one_out_result_pickle_path}')\n",
    "saveData(leave_one_out_result_pickle_path, (long_results_obj))\n",
    "\n"
   ]
  },
  {
   "cell_type": "code",
   "execution_count": null,
   "id": "c107570f",
   "metadata": {},
   "outputs": [],
   "source": [
    "from pyphoplacecellanalysis.Analysis.Decoder.decoder_result import DiagnosticDistanceMetricFigure\n",
    "\n",
    "## Render the internactive slider that allows selecting the timebin index to debug\n",
    "n_timebins = np.sum(long_results_obj.all_epochs_num_epoch_time_bins)\n",
    "timebinned_neuron_info = long_results_obj.timebinned_neuron_info\n",
    "result = long_results_obj.new_result\n",
    "active_fig_obj, update_function = DiagnosticDistanceMetricFigure.build_interactive_diagnostic_distance_metric_figure(long_results_obj, timebinned_neuron_info, result)\n",
    "active_fig_obj.integer_slider(n_timebins=n_timebins, update_func=update_function)"
   ]
  },
  {
   "cell_type": "code",
   "execution_count": null,
   "id": "7670bfae",
   "metadata": {},
   "outputs": [],
   "source": [
    "\n",
    "# 1. Get set of cells active in a given time bin, for each compute the surprise of its placefield with the leave-one-out decoded posterior.\n",
    "\n",
    "# 2. From the remainder of cells (those not active), randomly choose one to grab the placefield of and compute the surprise with that and the same posterior.\n",
    "\n",
    "\n",
    "# Expectation: The cells that are included in the time bin are expected to have a lower surprise (be less correlated with) the posterior."
   ]
  },
  {
   "cell_type": "code",
   "execution_count": null,
   "id": "e8ff50bc",
   "metadata": {
    "notebookRunGroups": {
     "groupValue": ""
    }
   },
   "outputs": [],
   "source": [
    "from pyphoplacecellanalysis.Pho2D.PyQtPlots.Extensions.pyqtgraph_helpers import build_pyqtgraph_epoch_indicator_regions # Add session indicators to pyqtgraph plot\n",
    "from pyphoplacecellanalysis.General.Pipeline.Stages.DisplayFunctions.MultiContextComparingDisplayFunctions.MultiContextComparingDisplayFunctions import _helper_add_long_short_session_indicator_regions\n",
    "\n",
    "from pyphocorehelpers.print_helpers import generate_html_string\n",
    "# Long Short\n",
    "# TODO 2023-04-18 - Can Refactor in terms of `plot_long_short_any_values`?\n",
    "\n",
    "import pyphoplacecellanalysis.External.pyqtgraph as pg\n",
    "# 'time_bin_indices': valid_time_bin_indicies, 'posterior_to_pf_mean_surprise': one_left_out_posterior_to_pf_surprises_mean, 'posterior_to_scrambled_pf_mean_surprise': one_left_out_posterior_to_scrambled_pf_surprises_mean}\n",
    "from pyphoplacecellanalysis.General.Pipeline.Stages.DisplayFunctions.MultiContextComparingDisplayFunctions.MultiContextComparingDisplayFunctions import plot_long_short_expected_vs_observed_firing_rates\n"
   ]
  },
  {
   "cell_type": "code",
   "execution_count": null,
   "id": "bae2e695",
   "metadata": {},
   "outputs": [],
   "source": [
    "\n",
    "\n",
    "win, plots_tuple, legend = plot_long_short_expected_vs_observed_firing_rates(long_results_obj, short_results_obj)\n",
    "long_epoch_indicator_region_items, short_epoch_indicator_region_items = _helper_add_long_short_session_indicator_regions(win, long_epoch=curr_active_pipeline.filtered_epochs[long_epoch_name], short_epoch=curr_active_pipeline.filtered_epochs[short_epoch_name])"
   ]
  },
  {
   "cell_type": "code",
   "execution_count": null,
   "id": "df4efa5c",
   "metadata": {},
   "outputs": [],
   "source": [
    "\n",
    "\n",
    "def plot_long_short_surprise_difference_plot(long_results_obj, short_results_obj):\n",
    "\t\"\"\" captures `curr_active_pipeline` \"\"\"\n",
    "\t# Private Subfunctions _______________________________________________________________________________________________ #\n",
    "\tdef _subfn_add_difference_plot_series(win, plots, result_df_grouped, series_suffix, **kwargs):\n",
    "\t\t\"\"\" captures nothing\n",
    "\t\tmodifies `plots` \"\"\"\n",
    "\t\tx=result_df_grouped.time_bin_centers.to_numpy()\n",
    "\t\ty=result_df_grouped['surprise_diff'].to_numpy()\n",
    "\t\tseries_id_str = f'difference_{series_suffix}'\n",
    "\t\tplots[series_id_str] = win.plot(x=x, y=y, name=series_id_str, alpha=0.5, **kwargs) #  symbolBrush=pg.intColor(i,6,maxValue=128) , symbol=curr_symbol, symbolBrush=cell_color_symbol_brush[unit_IDX]\n",
    "\n",
    "\n",
    "\n",
    "\n",
    "\t# BEGIN FUNCTION BODY ________________________________________________________________________________________________ #\n",
    "\n",
    "\t# make a separate symbol_brush color for each cell:\n",
    "\t# cell_color_symbol_brush = [pg.intColor(i,hues=9, values=3, alpha=180) for i, aclu in enumerate(long_results_obj.original_1D_decoder.neuron_IDs)] # maxValue=128\n",
    "\t# All properties in common:\n",
    "\twin = pg.plot() # PlotWidget\n",
    "\twin.setWindowTitle('Long Sanity Check - Leave-one-out Custom Surprise Plot')\n",
    "\t# legend_size = (80,60) # fixed size legend\n",
    "\tlegend_size = None # auto-sizing legend to contents\n",
    "\tlegend = pg.LegendItem(legend_size, offset=(-1,0)) # do this instead of # .addLegend\n",
    "\tlegend.setParentItem(win.graphicsItem())\n",
    "\n",
    "\tplots = {}\n",
    "\tlabel_prefix_list = ['normal', 'scrambled']\n",
    "\tlong_short_symbol_list = ['t', 'o'] # note: 's' is a square. 'o', 't1': triangle pointing upwards0\n",
    "\n",
    "\t# Use mean time_bin and surprise for each epoch\n",
    "\t# plots['normal'] = win.plot(x=valid_time_bin_indicies, y=one_left_out_posterior_to_pf_surprises_mean, pen=None, symbol='t', symbolBrush=pg.intColor(1,6,maxValue=128), name=f'normal', alpha=0.5) #  symbolBrush=pg.intColor(i,6,maxValue=128) , symbol=curr_symbol, symbolBrush=cell_color_symbol_brush[unit_IDX]\n",
    "\t# plots['scrambled'] = win.plot(x=valid_time_bin_indicies, y=one_left_out_posterior_to_scrambled_pf_surprises_mean, pen=None, symbol='t', symbolBrush=pg.intColor(2,6,maxValue=128), name=f'scrambled', alpha=0.5) #  symbolBrush=pg.intColor(i,6,maxValue=128) , symbol=curr_symbol, symbolBrush=cell_color_symbol_brush[unit_IDX]\n",
    "\n",
    "\t# curr_surprise_difference = one_left_out_posterior_to_scrambled_pf_surprises_mean - one_left_out_posterior_to_pf_surprises_mean\n",
    "\n",
    "\t# x=valid_time_bin_indicies\n",
    "\t# y=curr_surprise_difference\n",
    "\t# x=result_df_grouped.time_bin_indices.to_numpy()\n",
    "\n",
    "\t\n",
    "\t_subfn_add_difference_plot_series(win, plots, long_results_obj.result_df_grouped, series_suffix='_long', **dict(pen=None, symbol='t', symbolBrush=pg.intColor(2,6,maxValue=128), clickable=True, hoverable=True, hoverSize=7))\n",
    "\n",
    "\t_subfn_add_difference_plot_series(win, plots, short_results_obj.result_df_grouped, series_suffix='_short', **dict(pen=None, symbol='o', symbolBrush=pg.intColor(3,6,maxValue=128), clickable=True))\n",
    "\n",
    "\t# dict(pen=None, symbol='t', symbolBrush=pg.intColor(2,6,maxValue=128))\n",
    "\n",
    "\n",
    "\t# x=result_df_grouped.time_bin_centers.to_numpy()\n",
    "\t# y=result_df_grouped['surprise_diff'].to_numpy()\n",
    "\t# plots['difference'] = win.plot(x=x, y=y, pen=None, symbol='t', symbolBrush=pg.intColor(2,6,maxValue=128), name=f'difference', alpha=0.5) #  symbolBrush=pg.intColor(i,6,maxValue=128) , symbol=curr_symbol, symbolBrush=cell_color_symbol_brush[unit_IDX]\n",
    "\n",
    "\t# long_results_obj.result, long_results_obj.result_df, long_results_obj.result_df_grouped\n",
    "\n",
    "\t# short_results_obj.result, short_results_obj.result_df, short_results_obj.result_df_grouped\n",
    "\n",
    "\n",
    "\tfor k, v in plots.items():\n",
    "\t\tlegend.addItem(v, f'{k}')\n",
    "\n",
    "\twin.graphicsItem().setLabel(axis='left', text='Normal v. Random - Surprise (Custom)')\n",
    "\twin.graphicsItem().setLabel(axis='bottom', text='time')\n",
    "\n",
    "\twin.showGrid(True, True)  # Show grid for reference\n",
    "\n",
    "\t# Emphasize the y=0 crossing by drawing a horizontal line at y=0\n",
    "\tvline = pg.InfiniteLine(pos=0, angle=0, movable=False, pen=pg.mkPen(color='w', width=2, style=pg.QtCore.Qt.DashLine))\n",
    "\twin.addItem(vline)\n",
    "\n",
    "\n",
    "\n",
    "\n",
    "\t# Add session indicators to pyqtgraph plot\n",
    "\tlong_epoch = curr_active_pipeline.filtered_epochs[long_epoch_name]\n",
    "\tshort_epoch = curr_active_pipeline.filtered_epochs[short_epoch_name]\n",
    "\tlong_epoch_indicator_region_items, short_epoch_indicator_region_items = _helper_add_long_short_session_indicator_regions(win, long_epoch, short_epoch)\n",
    "\n",
    "\t# epoch_linear_region, epoch_region_label = build_pyqtgraph_epoch_indicator_regions(win, t_start=curr_active_pipeline.filtered_epochs[long_epoch_name].t_start, t_stop=curr_active_pipeline.filtered_epochs[long_epoch_name].t_stop, epoch_label='long', **dict(pen=pg.mkPen('#0b0049'), brush=pg.mkBrush('#0099ff42'), hoverBrush=pg.mkBrush('#fff400'), hoverPen=pg.mkPen('#00ff00')))\n",
    "\t# epoch_linear_region, epoch_region_label = build_pyqtgraph_epoch_indicator_regions(win, t_start=curr_active_pipeline.filtered_epochs[short_epoch_name].t_start, t_stop=curr_active_pipeline.filtered_epochs[short_epoch_name].t_stop, epoch_label='short', **dict(pen=pg.mkPen('#490000'), brush=pg.mkBrush('#f5161659'), hoverBrush=pg.mkBrush('#fff400'), hoverPen=pg.mkPen('#00ff00')))\n",
    "\n",
    "\ti_str = generate_html_string('i', color='white', bold=True)\n",
    "\tj_str = generate_html_string('j', color='red', bold=True)\n",
    "\ttitle_str = generate_html_string(f'JSD(p_x_given_n, pf[{i_str}]) - JSD(p_x_given_n, pf[{j_str}]) where {j_str} non-firing')\n",
    "\twin.setTitle(title_str)\n",
    "\n",
    "\twin.setWindowTitle('Long Sanity Check - Leave-one-out Custom Surprise Plot - JSD')\n",
    "\n",
    "\treturn win, plots\n",
    "\n",
    "win, plots = plot_long_short_surprise_difference_plot(long_results_obj, short_results_obj)"
   ]
  },
  {
   "cell_type": "code",
   "execution_count": null,
   "id": "85d937f4",
   "metadata": {},
   "outputs": [],
   "source": [
    "def _helper_make_scatterplot_clickable(main_scatter_plot, enable_hover:bool=False):\n",
    "\t# Highlights the hovered spikes white:\n",
    "\t# main_scatter_plot.addPoints(hoverable=True,\n",
    "\t# \t# hoverSymbol=vtick, # hoverSymbol='s',\n",
    "\t# \thoverSize=7, # default is 5\n",
    "\t# \t)\n",
    "\n",
    "\n",
    "\t## Clickable/Selectable Spikes:\n",
    "\t# Will make all plots clickable\n",
    "\tclickedPen = pg.mkPen('#DDD', width=2)\n",
    "\tlastClicked = []\n",
    "\tdef _test_scatter_plot_clicked(plot, points):\n",
    "\t\tglobal lastClicked\n",
    "\t\tfor p in lastClicked:\n",
    "\t\t\tp.resetPen()\n",
    "\t\tprint(\"clicked points\", points)\n",
    "\t\tfor p in points:\n",
    "\t\t\tp.setPen(clickedPen)\n",
    "\t\tlastClicked = points\n",
    "\n",
    "\tmain_scatter_clicked_connection = main_scatter_plot.sigClicked.connect(_test_scatter_plot_clicked)\n",
    "\n",
    "\t## Hoverable Spikes:\n",
    "\tif enable_hover:\n",
    "\t\tdef _test_scatter_plot_hovered(plt, points, ev):\n",
    "\t\t\t# sigHovered(self, points, ev)\n",
    "\t\t\tprint(f'_test_scatter_plot_hovered(plt: {plt}, points: {points}, ev: {ev})')\n",
    "\t\t\tif (len(points) > 0):\n",
    "\t\t\t\tcurr_point = points[0]\n",
    "\t\t\t\t# self.\n",
    "\t\t\t\t# curr_point.index\n",
    "\t\tmain_scatter_hovered_connection = main_scatter_plot.sigHovered.connect(_test_scatter_plot_hovered)\n",
    "\telse:\n",
    "\t\tmain_scatter_hovered_connection = None\n",
    "\n",
    "\treturn lastClicked, clickedPen, (main_scatter_hovered_connection, main_scatter_clicked_connection)\n"
   ]
  },
  {
   "cell_type": "code",
   "execution_count": null,
   "id": "e2a84888",
   "metadata": {},
   "outputs": [],
   "source": [
    "a_plot = plots['difference__long']  # PlotDataItem \n",
    "a_curve = a_plot.curve # PlotCurveItem "
   ]
  },
  {
   "cell_type": "code",
   "execution_count": null,
   "id": "3a8e78da",
   "metadata": {},
   "outputs": [],
   "source": [
    "a_plot.sigPointsClicked\n",
    "# a_plot.sigPointsHovered"
   ]
  },
  {
   "cell_type": "code",
   "execution_count": null,
   "id": "fe350d0a",
   "metadata": {},
   "outputs": [],
   "source": [
    "curve.curve.setClickable(True)"
   ]
  },
  {
   "cell_type": "code",
   "execution_count": null,
   "id": "2377c753",
   "metadata": {},
   "outputs": [],
   "source": [
    "# Will make all plots clickable\n",
    "clickedPen = pg.mkPen('#DDD', width=2)\n",
    "lastClicked = []\n",
    "def _test_scatter_plot_clicked(plot, points):\n",
    "\tglobal lastClicked\n",
    "\tfor p in lastClicked:\n",
    "\t\tp.resetPen()\n",
    "\tprint(\"clicked points\", points)\n",
    "\tfor p in points:\n",
    "\t\tp.setPen(clickedPen)\n",
    "\tlastClicked = points\n",
    "\n",
    "main_scatter_clicked_connection = a_plot.sigClicked.connect(_test_scatter_plot_clicked)"
   ]
  },
  {
   "cell_type": "code",
   "execution_count": null,
   "id": "8e83d358",
   "metadata": {},
   "outputs": [],
   "source": [
    "lastClicked, clickedPen, (main_scatter_hovered_connection, main_scatter_clicked_connection) = _helper_make_scatterplot_clickable(a_plot)"
   ]
  },
  {
   "cell_type": "code",
   "execution_count": null,
   "id": "a9d54370",
   "metadata": {},
   "outputs": [],
   "source": [
    "# Need to map from time_bin_indicies to times\n",
    "a_plot = plots['difference'] # PlotDataItem \n",
    "# a_plot.setLa\n",
    "# win.graphicsItem().setLabel(axis='left', text='Normal v. Random - Surprise (Custom)')\n",
    "\n",
    "# # Set the plot title with a LaTeX formula\n",
    "# title = pg.LabelItem(justify='center')\n",
    "# title.setText(r'<font size=\"4\">JSD Surprise Diff: $\\fn{JSD}{\\matr{pf}_{i}, \\Pr{\\vec{x}_{t}|\\vec{n}_{t}}} - \\fn{JSD}{\\matr{pf}_{j}, \\Pr{\\vec{x}_{t}|\\vec{n}_{t}}}$</font>')\n",
    "# win.addItem(title)\n",
    "\n",
    "# win.graphicsItem().setLabel(axis='top', text=r'$\\fn{JSD}{\\matr{pf}_{i}, \\Pr{\\vec{x}_{t}|\\vec{n}_{t}}} - \\fn{JSD}{\\matr{pf}_{j}, \\Pr{\\vec{x}_{t}|\\vec{n}_{t}}}$')"
   ]
  },
  {
   "cell_type": "code",
   "execution_count": null,
   "id": "0f55bb1b",
   "metadata": {},
   "outputs": [],
   "source": [
    "from pyphoplacecellanalysis.General.Mixins.ExportHelpers import export_pyqtgraph_plot # works pretty well seemingly\n",
    "\n",
    "export_pyqtgraph_plot(win)\n",
    "# pg.setConfigOption('leftTitle', 'MathText')\n",
    "# win.setTitle(r'JSD(p_x_given_n, pf[<font size=\"4\"><b><span style=\"color:red;\">i</span></b></font>]) - JSD(p_x_given_n, pf[<font size=\"4\"><b>j</b></font>]) where <font size=\"4\"><b>j</b></font> non-firing')\n",
    "\n",
    "# win.setTitle(generate_html_string(f'JSD(p_x_given_n, pf[{i_str}]) - JSD(p_x_given_n, pf[{j_str}]) where {j_str} non-firing', font_size=8))\n",
    "\n",
    "# r'$\\fn{JSD}{\\matr{pf}_{i}, \\Pr{\\vec{x}_{t}|\\vec{n}_{t}}} - \\fn{JSD}{\\matr{pf}_{j}, \\Pr{\\vec{x}_{t}|\\vec{n}_{t}}}$'\n",
    "# title_str"
   ]
  },
  {
   "attachments": {},
   "cell_type": "markdown",
   "id": "52d68ce1",
   "metadata": {},
   "source": [
    "$\\fn{JSD}{\\matr{pf}_{i}, \\Pr{\\vec{x}_{t}|\\vec{n}_{t}}} - \\fn{JSD}{\\matr{pf}_{j}, \\Pr{\\vec{x}_{t}|\\vec{n}_{t}}}$"
   ]
  },
  {
   "cell_type": "code",
   "execution_count": null,
   "id": "c015652d",
   "metadata": {},
   "outputs": [],
   "source": [
    "win.setBackground\n",
    "win.setWindowTitle\n",
    "win.setBackgroundBrush\n",
    "win.setXRange\n",
    "win.setYRange\n",
    "\n",
    "\"Show X Grid\"\n",
    "\"Show Y Grid\"\n"
   ]
  },
  {
   "cell_type": "code",
   "execution_count": null,
   "id": "60d0cccc",
   "metadata": {},
   "outputs": [],
   "source": [
    "visual_config = dict(pen=pg.mkPen('#fff'), brush=pg.mkBrush('#f004'), hoverBrush=pg.mkBrush('#fff4'), hoverPen=pg.mkPen('#f00'))"
   ]
  },
  {
   "cell_type": "code",
   "execution_count": null,
   "id": "e586e32d",
   "metadata": {},
   "outputs": [],
   "source": [
    "curr_active_pipeline.filtered_epochs[short_epoch_name].t_stop"
   ]
  },
  {
   "cell_type": "code",
   "execution_count": null,
   "id": "0e7c5219",
   "metadata": {},
   "outputs": [],
   "source": [
    "curr_active_pipeline.filtered_epochs[long_epoch_name].start_end_times"
   ]
  },
  {
   "attachments": {},
   "cell_type": "markdown",
   "id": "1f996fd9",
   "metadata": {},
   "source": [
    "## Pre 2023-04-13"
   ]
  },
  {
   "cell_type": "code",
   "execution_count": null,
   "id": "33b6ac25",
   "metadata": {},
   "outputs": [],
   "source": [
    "import matplotlib\n",
    "import matplotlib.pyplot as plt\n",
    "%matplotlib qt\n",
    "\n",
    "from pyphoplacecellanalysis.Analysis.Decoder.decoder_result import plot_kourosh_activity_style_figure\n",
    "\n",
    "from neuropy.core.neurons import NeuronType\n",
    "# # Include only pyramidal aclus:\n",
    "# print(f'all shared_aclus: {len(shared_aclus)}\\nshared_aclus: {shared_aclus}')\n",
    "# shared_aclu_neuron_type = long_session.neurons.neuron_type[np.isin(long_session.neurons.neuron_ids, shared_aclus)]\n",
    "# assert len(shared_aclu_neuron_type) == len(shared_aclus)\n",
    "# # Find only the aclus that are pyramidal:\n",
    "# is_shared_aclu_pyramidal = (shared_aclu_neuron_type == NeuronType.PYRAMIDAL)\n",
    "# pyramidal_only_shared_aclus = shared_aclus[is_shared_aclu_pyramidal]\n",
    "# print(f'num pyramidal_only_shared_aclus: {len(pyramidal_only_shared_aclus)}\\npyramidal_only_shared_aclus: {pyramidal_only_shared_aclus}')\n",
    "\n",
    "\n",
    "## Drop Pyramidal but don't use only shared aclus:\n",
    "all_aclus = deepcopy(long_session.neurons.neuron_ids)\n",
    "neuron_type = long_session.neurons.neuron_type\n",
    "assert len(neuron_type) == len(all_aclus)\n",
    "# Find only the aclus that are pyramidal:\n",
    "is_aclu_pyramidal = (neuron_type == NeuronType.PYRAMIDAL)\n",
    "pyramidal_only_all_aclus = all_aclus[is_aclu_pyramidal]\n",
    "print(f'num pyramidal_only_all_aclus: {len(pyramidal_only_all_aclus)}\\npyramidal_only_all_aclus: {pyramidal_only_all_aclus}')\n",
    "\n",
    "# app, win, plots, plots_data = plot_kourosh_activity_style_figure(long_results_obj, long_session, shared_aclus, epoch_idx=5, callout_epoch_IDXs=[0,1,2,3], skip_rendering_callouts=True)\n",
    "# app, win, plots, plots_data = plot_kourosh_activity_style_figure(long_results_obj, long_session, pyramidal_only_shared_aclus, epoch_idx=2, callout_epoch_IDXs=[0,4], skip_rendering_callouts=False)\n",
    "app, win, plots, plots_data = plot_kourosh_activity_style_figure(long_results_obj, long_session, pyramidal_only_all_aclus, epoch_idx=3, callout_epoch_IDXs=[2,4,6], skip_rendering_callouts=False)\n",
    "\n",
    "# Use the Jupyter Index Thing\n",
    "from pyphoplacecellanalysis.Analysis.Decoder.decoder_result import DiagnosticDistanceMetricFigure\n",
    "\n",
    "## Render the internactive slider that allows selecting the timebin index to debug\n",
    "n_timebins = np.sum(long_results_obj.all_epochs_num_epoch_time_bins)\n",
    "timebinned_neuron_info = long_results_obj.timebinned_neuron_info\n",
    "result = long_results_obj.new_result\n",
    "active_fig_obj, update_function = DiagnosticDistanceMetricFigure.build_interactive_diagnostic_distance_metric_figure(long_results_obj, timebinned_neuron_info, result)\n",
    "active_fig_obj.integer_slider(n_timebins=n_timebins, update_func=update_function)"
   ]
  },
  {
   "cell_type": "code",
   "execution_count": null,
   "id": "5ea983fe",
   "metadata": {},
   "outputs": [],
   "source": [
    "app, win, plots, plots_data = plot_kourosh_activity_style_figure(long_results_obj, long_session, pyramidal_only_all_aclus, epoch_idx=11, callout_epoch_IDXs=[0,1,2, 3, 4, 5], skip_rendering_callouts=False)"
   ]
  },
  {
   "attachments": {},
   "cell_type": "markdown",
   "id": "f519e392",
   "metadata": {},
   "source": [
    "# 2023-04-13 Show Surprise "
   ]
  },
  {
   "cell_type": "code",
   "execution_count": null,
   "id": "b417bb4e",
   "metadata": {},
   "outputs": [],
   "source": [
    "import pyphoplacecellanalysis.External.pyqtgraph as pg\n",
    "from pyphoplacecellanalysis.General.Pipeline.Stages.DisplayFunctions.MultiContextComparingDisplayFunctions.MultiContextComparingDisplayFunctions import plot_long_short, plot_long_short_any_values, plot_long_short_expected_vs_observed_firing_rates, _helper_add_long_short_session_indicator_regions\n",
    "# plot_long_short(long_results_obj, short_results_obj)"
   ]
  },
  {
   "cell_type": "code",
   "execution_count": null,
   "id": "3fbd6593",
   "metadata": {},
   "outputs": [],
   "source": [
    "plot_long_short_any_values(long_results_obj=long_results_obj, short_results_obj=short_results_obj)"
   ]
  },
  {
   "cell_type": "code",
   "execution_count": null,
   "id": "f6b8a7ec",
   "metadata": {},
   "outputs": [],
   "source": [
    "plot_long_short_expected_vs_observed_firing_rates(long_results_obj=long_results_obj, short_results_obj=short_results_obj, limit_aclus=[89]) # 4, 89, 28, 97"
   ]
  },
  {
   "cell_type": "code",
   "execution_count": null,
   "id": "1bdf68bc",
   "metadata": {},
   "outputs": [],
   "source": [
    "x_fn = lambda a_results_obj: a_results_obj.all_epochs_decoded_epoch_time_bins_mean[:,0]\n",
    "# y_fn = lambda a_results_obj: a_results_obj.all_epochs_all_cells_one_left_out_posterior_to_scrambled_pf_surprises_mean\n",
    "y_fn = lambda a_results_obj: a_results_obj.all_epochs_all_cells_one_left_out_posterior_to_pf_surprises_mean\n",
    "# y_fn = lambda a_results_obj: a_results_obj.all_epochs_computed_one_left_out_posterior_to_pf_surprises\n",
    "\n",
    "# (time_bins, neurons), (epochs, neurons), (epochs)\n",
    "# all_epochs_computed_one_left_out_posterior_to_pf_surprises, all_epochs_computed_cell_one_left_out_posterior_to_pf_surprises_mean, all_epochs_all_cells_one_left_out_posterior_to_pf_surprises_mean\n",
    "win, plots_tuple, legend = plot_long_short_any_values(long_results_obj, short_results_obj, x=x_fn, y=y_fn, limit_aclus=[20])"
   ]
  },
  {
   "attachments": {},
   "cell_type": "markdown",
   "id": "2fe80559",
   "metadata": {},
   "source": [
    "# 2023-04-13 - Find Good looking epochs:"
   ]
  },
  {
   "cell_type": "code",
   "execution_count": 7,
   "id": "ddbb6dbc",
   "metadata": {},
   "outputs": [
    {
     "name": "stdout",
     "output_type": "stream",
     "text": [
      "epoch_labels: []\n",
      "a_slice_idx: 0\n",
      "a_slice_start_t: 80.59731937409379, a_slice_end_t: 81.11488966911566, a_slice_label: epoch[0]\n",
      "a_slice_idx: 1\n",
      "a_slice_start_t: 304.5058844129089, a_slice_end_t: 304.6524494579062, a_slice_label: epoch[1]\n",
      "a_slice_idx: 2\n",
      "a_slice_start_t: 380.2347313998034, a_slice_end_t: 380.62364640063606, a_slice_label: epoch[2]\n",
      "a_slice_idx: 3\n",
      "a_slice_start_t: 389.5508431099588, a_slice_end_t: 390.301516645588, a_slice_label: epoch[3]\n",
      "a_slice_idx: 4\n",
      "a_slice_start_t: 461.14146245550364, a_slice_end_t: 461.2897478196537, a_slice_label: epoch[4]\n",
      "a_slice_idx: 5\n",
      "a_slice_start_t: 502.63900024886243, a_slice_end_t: 502.8689393311506, a_slice_label: epoch[5]\n",
      "a_slice_idx: 6\n",
      "a_slice_start_t: 528.4832929365803, a_slice_end_t: 528.6856147529325, a_slice_label: epoch[6]\n",
      "a_slice_idx: 7\n",
      "a_slice_start_t: 529.1617745091207, a_slice_end_t: 529.6233729928499, a_slice_label: epoch[7]\n",
      "a_slice_idx: 8\n",
      "a_slice_start_t: 644.3618691266747, a_slice_end_t: 644.8930176547728, a_slice_label: epoch[8]\n",
      "a_slice_idx: 9\n",
      "a_slice_start_t: 711.5067537884461, a_slice_end_t: 711.6954052119981, a_slice_label: epoch[9]\n",
      "a_slice_idx: 10\n",
      "a_slice_start_t: 782.6583231189288, a_slice_end_t: 782.7909105709987, a_slice_label: epoch[10]\n",
      "a_slice_idx: 11\n",
      "a_slice_start_t: 784.0500612863107, a_slice_end_t: 784.3805468771607, a_slice_label: epoch[11]\n",
      "a_slice_idx: 12\n",
      "a_slice_start_t: 788.9113144774456, a_slice_end_t: 789.1543709929101, a_slice_label: epoch[12]\n",
      "a_slice_idx: 13\n",
      "a_slice_start_t: 800.3290417514509, a_slice_end_t: 800.5065418207087, a_slice_label: epoch[13]\n",
      "a_slice_idx: 14\n",
      "a_slice_start_t: 802.9115786692128, a_slice_end_t: 803.1143612854648, a_slice_label: epoch[14]\n",
      "a_slice_idx: 15\n",
      "a_slice_start_t: 828.3398613299942, a_slice_end_t: 828.7867756611668, a_slice_label: epoch[15]\n",
      "a_slice_idx: 16\n",
      "a_slice_start_t: 829.0592004816281, a_slice_end_t: 829.8489191173576, a_slice_label: epoch[16]\n",
      "a_slice_idx: 17\n",
      "a_slice_start_t: 873.104776650318, a_slice_end_t: 873.2685756065184, a_slice_label: epoch[17]\n",
      "a_slice_idx: 18\n",
      "a_slice_start_t: 907.3367309635505, a_slice_end_t: 907.7089035729878, a_slice_label: epoch[18]\n",
      "a_slice_idx: 19\n",
      "a_slice_start_t: 928.6015955959447, a_slice_end_t: 928.8017977334093, a_slice_label: epoch[19]\n",
      "a_slice_idx: 20\n",
      "a_slice_start_t: 937.0162908076309, a_slice_end_t: 937.2610062024323, a_slice_label: epoch[20]\n",
      "a_slice_idx: 21\n",
      "a_slice_start_t: 996.86597792455, a_slice_end_t: 997.0586536659393, a_slice_label: epoch[21]\n",
      "a_slice_idx: 22\n",
      "a_slice_start_t: 1033.0520304373931, a_slice_end_t: 1033.2263970681233, a_slice_label: epoch[22]\n",
      "a_slice_idx: 23\n",
      "a_slice_start_t: 1039.437271328061, a_slice_end_t: 1039.8909747757716, a_slice_label: epoch[23]\n",
      "a_slice_idx: 24\n",
      "a_slice_start_t: 1045.2324734809808, a_slice_end_t: 1045.4533808878623, a_slice_label: epoch[24]\n",
      "a_slice_idx: 25\n",
      "a_slice_start_t: 1061.3572703450918, a_slice_end_t: 1061.5943979036529, a_slice_label: epoch[25]\n",
      "a_slice_idx: 26\n",
      "a_slice_start_t: 1093.6540192491375, a_slice_end_t: 1094.093222864205, a_slice_label: epoch[26]\n",
      "a_slice_idx: 27\n",
      "a_slice_start_t: 1125.9687393439235, a_slice_end_t: 1126.7399031091481, a_slice_label: epoch[27]\n",
      "a_slice_idx: 28\n",
      "a_slice_start_t: 1136.3974060044857, a_slice_end_t: 1136.6818423388759, a_slice_label: epoch[28]\n",
      "a_slice_idx: 29\n",
      "a_slice_start_t: 1193.98785331822, a_slice_end_t: 1194.1515601143474, a_slice_label: epoch[29]\n",
      "a_slice_idx: 30\n",
      "a_slice_start_t: 1201.7758608506992, a_slice_end_t: 1202.0109301704215, a_slice_label: epoch[30]\n",
      "a_slice_idx: 31\n",
      "a_slice_start_t: 1214.6108238792513, a_slice_end_t: 1214.8348340045195, a_slice_label: epoch[31]\n",
      "i : 0, curr_posterior.shape: (59, 20)\n",
      "i : 1, curr_posterior.shape: (59, 5)\n",
      "i : 2, curr_posterior.shape: (59, 15)\n",
      "i : 3, curr_posterior.shape: (59, 30)\n",
      "i : 4, curr_posterior.shape: (59, 5)\n",
      "i : 5, curr_posterior.shape: (59, 9)\n",
      "i : 6, curr_posterior.shape: (59, 8)\n",
      "i : 7, curr_posterior.shape: (59, 18)\n",
      "i : 8, curr_posterior.shape: (59, 21)\n",
      "i : 9, curr_posterior.shape: (59, 7)\n",
      "i : 10, curr_posterior.shape: (59, 5)\n",
      "i : 11, curr_posterior.shape: (59, 13)\n",
      "i : 12, curr_posterior.shape: (59, 9)\n",
      "i : 13, curr_posterior.shape: (59, 7)\n",
      "i : 14, curr_posterior.shape: (59, 8)\n",
      "i : 15, curr_posterior.shape: (59, 17)\n",
      "i : 16, curr_posterior.shape: (59, 31)\n",
      "i : 17, curr_posterior.shape: (59, 6)\n",
      "i : 18, curr_posterior.shape: (59, 14)\n",
      "i : 19, curr_posterior.shape: (59, 8)\n",
      "i : 20, curr_posterior.shape: (59, 9)\n",
      "i : 21, curr_posterior.shape: (59, 7)\n",
      "i : 22, curr_posterior.shape: (59, 6)\n",
      "i : 23, curr_posterior.shape: (59, 18)\n",
      "i : 24, curr_posterior.shape: (59, 8)\n",
      "i : 25, curr_posterior.shape: (59, 9)\n",
      "i : 26, curr_posterior.shape: (59, 17)\n",
      "i : 27, curr_posterior.shape: (59, 30)\n",
      "i : 28, curr_posterior.shape: (59, 11)\n",
      "i : 29, curr_posterior.shape: (59, 6)\n",
      "i : 30, curr_posterior.shape: (59, 9)\n",
      "i : 31, curr_posterior.shape: (59, 8)\n"
     ]
    }
   ],
   "source": [
    "%matplotlib qt\n",
    "from pyphoplacecellanalysis.General.Pipeline.Stages.DisplayFunctions.DecoderPredictionError import plot_decoded_epoch_slices\n",
    "\n",
    "laps_plot_tuple = plot_decoded_epoch_slices(long_results_obj.active_filter_epochs, long_results_obj.all_included_filter_epochs_decoder_result, global_pos_df=global_session.position.df, variable_name='lin_pos', xbin=long_results_obj.original_1D_decoder.xbin,\n",
    "                                                        name='stacked_epoch_slices_long_results_obj', debug_print=True, debug_test_max_num_slices=32)"
   ]
  },
  {
   "cell_type": "code",
   "execution_count": 14,
   "id": "6c848073",
   "metadata": {},
   "outputs": [
    {
     "data": {
      "text/plain": [
       "array([<Axes: ylabel='epoch[0]\\n80.60'>,\n",
       "       <Axes: ylabel='epoch[1]\\n304.51'>,\n",
       "       <Axes: ylabel='epoch[2]\\n380.23'>,\n",
       "       <Axes: ylabel='epoch[3]\\n389.55'>,\n",
       "       <Axes: ylabel='epoch[4]\\n461.14'>,\n",
       "       <Axes: ylabel='epoch[5]\\n502.64'>,\n",
       "       <Axes: ylabel='epoch[6]\\n528.48'>,\n",
       "       <Axes: ylabel='epoch[7]\\n529.16'>,\n",
       "       <Axes: ylabel='epoch[8]\\n644.36'>,\n",
       "       <Axes: ylabel='epoch[9]\\n711.51'>,\n",
       "       <Axes: ylabel='epoch[10]\\n782.66'>,\n",
       "       <Axes: ylabel='epoch[11]\\n784.05'>,\n",
       "       <Axes: ylabel='epoch[12]\\n788.91'>,\n",
       "       <Axes: ylabel='epoch[13]\\n800.33'>,\n",
       "       <Axes: ylabel='epoch[14]\\n802.91'>,\n",
       "       <Axes: ylabel='epoch[15]\\n828.34'>,\n",
       "       <Axes: ylabel='epoch[16]\\n829.06'>,\n",
       "       <Axes: ylabel='epoch[17]\\n873.10'>,\n",
       "       <Axes: ylabel='epoch[18]\\n907.34'>,\n",
       "       <Axes: ylabel='epoch[19]\\n928.60'>,\n",
       "       <Axes: ylabel='epoch[20]\\n937.02'>,\n",
       "       <Axes: ylabel='epoch[21]\\n996.87'>,\n",
       "       <Axes: ylabel='epoch[22]\\n1033.05'>,\n",
       "       <Axes: ylabel='epoch[23]\\n1039.44'>,\n",
       "       <Axes: ylabel='epoch[24]\\n1045.23'>,\n",
       "       <Axes: ylabel='epoch[25]\\n1061.36'>,\n",
       "       <Axes: ylabel='epoch[26]\\n1093.65'>,\n",
       "       <Axes: ylabel='epoch[27]\\n1125.97'>,\n",
       "       <Axes: ylabel='epoch[28]\\n1136.40'>,\n",
       "       <Axes: ylabel='epoch[29]\\n1193.99'>,\n",
       "       <Axes: ylabel='epoch[30]\\n1201.78'>,\n",
       "       <Axes: ylabel='epoch[31]\\n1214.61'>], dtype=object)"
      ]
     },
     "execution_count": 14,
     "metadata": {},
     "output_type": "execute_result"
    }
   ],
   "source": [
    "curr_viz_params, _curr_plot_data, _curr_plots, _curr_ui_container = laps_plot_tuple\n",
    "_curr_plots.axs"
   ]
  },
  {
   "cell_type": "code",
   "execution_count": null,
   "id": "4ed0656a",
   "metadata": {},
   "outputs": [],
   "source": [
    "# [23, 27, 29, ]\n",
    "[16, 17, 18, 20, 21, 22, 23, 25, 26, 29]\n"
   ]
  },
  {
   "attachments": {},
   "cell_type": "markdown",
   "id": "7e6526e9",
   "metadata": {},
   "source": [
    "# 2023-03-28 - Playing around with older computations/visualizations from the `_display_short_long_firing_rate_index_comparison` era:"
   ]
  },
  {
   "attachments": {},
   "cell_type": "markdown",
   "id": "5d2e9eb6",
   "metadata": {},
   "source": [
    "\n",
    "2023-04-20 - Encountered issue with the replays in session '2006-6-08_14-26-15' where they are duplicated exactly twice, like the first half of the rows are legitimate entries and the second half are directly repeated versions of the first with the only difference appearing to be the 'epoch_id' column changes from 1 to 2. 'rel_id' column seems incorrect but different for some reason. It must be how the MATLAB script exports the values.\n",
    "\n",
    "Also when I'm looking at only the `short_session.replay` there are many non-2 'epoch_id' values, which is strange. \n",
    "\n",
    "TODO: It could have something to do with Jonathan's code maybe? Because the 'replay_r' and 'replay_p' columns he added are different. SEEMS FALSE. It's this way even without running Jonathan's code, although the values might have been saved later?\n",
    "\tAlso flat_replay_idx jumps from 689 to 1087 at the transition from epoch_id 1 to 2\n",
    "\n",
    "UPDATE: the 'replay_r' and 'replay_p' columns aren't from Joanthan, they're in the original .replay_info.mat that's imported!\n"
   ]
  },
  {
   "attachments": {},
   "cell_type": "markdown",
   "id": "1a13cccd",
   "metadata": {},
   "source": [
    "# Plot long|short firing rate index using 'long_short_fr_indicies_analyses':"
   ]
  },
  {
   "cell_type": "code",
   "execution_count": 8,
   "id": "bd397788",
   "metadata": {},
   "outputs": [
    {
     "name": "stdout",
     "output_type": "stream",
     "text": [
      "included whitelist is specified: ['long_short_fr_indicies_analyses', 'jonathan_firing_rate_analysis'], so only performing these extended computations.\n",
      "Running batch_extended_computations(...) with global_epoch_name: \"maze\"\n",
      "jonathan_firing_rate_analysis missing.\n",
      "\t Recomputing jonathan_firing_rate_analysis...\n",
      "\t done.\n",
      "long_short_fr_indicies_analyses missing.\n",
      "\t Recomputing long_short_fr_indicies_analyses...\n",
      "\t done.\n",
      "done with all batch_extended_computations(...).\n"
     ]
    },
    {
     "data": {
      "text/plain": [
       "['jonathan_firing_rate_analysis', 'long_short_fr_indicies_analyses']"
      ]
     },
     "execution_count": 8,
     "metadata": {},
     "output_type": "execute_result"
    }
   ],
   "source": [
    "from pyphoplacecellanalysis.General.Mixins.ExportHelpers import create_daily_programmatic_display_function_testing_folder_if_needed, session_context_to_relative_path\n",
    "# 2023-01-* - Call extended computations to build `_display_short_long_firing_rate_index_comparison` figures:\n",
    "extended_computations_include_whitelist=['long_short_fr_indicies_analyses', 'jonathan_firing_rate_analysis'] # do only specifiedl\n",
    "newly_computed_values = batch_extended_computations(curr_active_pipeline, include_whitelist=extended_computations_include_whitelist, include_global_functions=True, fail_on_exception=True, progress_print=True, debug_print=False)\n",
    "newly_computed_values"
   ]
  },
  {
   "cell_type": "code",
   "execution_count": null,
   "id": "caab469b",
   "metadata": {},
   "outputs": [],
   "source": [
    "# fig_save_parent_path = Path(r'E:\\Dropbox (Personal)\\Active\\Kamran Diba Lab\\Results from 2023-01-20 - LongShort Firing Rate Indicies')\n",
    "## Get the output path (active_session_figures_out_path) for this session (and all of its filtered_contexts as well):\n",
    "active_identifying_session_ctx = curr_active_pipeline.sess.get_context() # 'bapun_RatN_Day4_2019-10-15_11-30-06'\n",
    "figures_parent_out_path = create_daily_programmatic_display_function_testing_folder_if_needed()\n",
    "active_session_figures_out_path = session_context_to_relative_path(figures_parent_out_path, active_identifying_session_ctx)\n",
    "print(f'curr_session_parent_out_path: {active_session_figures_out_path}')\n",
    "active_session_figures_out_path.mkdir(parents=True, exist_ok=True) # make folder if needed\n",
    "curr_active_pipeline.display('_display_short_long_firing_rate_index_comparison', curr_active_pipeline.sess.get_context(), fig_save_parent_path=active_session_figures_out_path)\n",
    "# plt.close() # closes the current figure"
   ]
  },
  {
   "cell_type": "code",
   "execution_count": null,
   "id": "0165676b",
   "metadata": {},
   "outputs": [],
   "source": [
    "# curr_active_pipeline.perform_specific_computation(computation_functions_name_whitelist=['_perform_long_short_firing_rate_analyses'], fail_on_exception=True, debug_print=False) # fail_on_exception MUST be True or error handling is all messed up \n",
    "long_short_fr_indicies_analysis_results = curr_active_pipeline.global_computation_results.computed_data['long_short_fr_indicies_analysis']\n",
    "x_frs_index, y_frs_index = long_short_fr_indicies_analysis_results['x_frs_index'], long_short_fr_indicies_analysis_results['y_frs_index'] # use the all_results_dict as the computed data value\n",
    "active_context = long_short_fr_indicies_analysis_results['active_context']\n",
    "long_short_fr_indicies_analysis_results"
   ]
  },
  {
   "attachments": {},
   "cell_type": "markdown",
   "id": "e0409e08",
   "metadata": {},
   "source": [
    "# Other Programmatic Figures"
   ]
  },
  {
   "cell_type": "code",
   "execution_count": null,
   "id": "3ecc42a2",
   "metadata": {},
   "outputs": [],
   "source": [
    "batch_extended_programmatic_figures(curr_active_pipeline=curr_active_pipeline)"
   ]
  },
  {
   "cell_type": "code",
   "execution_count": null,
   "id": "4289a4c9",
   "metadata": {},
   "outputs": [],
   "source": [
    "batch_programmatic_figures(curr_active_pipeline=curr_active_pipeline)"
   ]
  },
  {
   "cell_type": "code",
   "execution_count": null,
   "id": "5977e9df",
   "metadata": {},
   "outputs": [],
   "source": [
    "# Output the 2D placefields for my presentation\n",
    "from neuropy.core.neuron_identities import PlotStringBrevityModeEnum\n",
    "from neuropy.plotting.ratemaps import BackgroundRenderingOptions"
   ]
  },
  {
   "cell_type": "code",
   "execution_count": null,
   "id": "64cbba87",
   "metadata": {},
   "outputs": [],
   "source": [
    "\n",
    "# '_display_2d_placefield_result_plot_ratemaps_2D'\n",
    "# %matplotlib inline\n",
    "%matplotlib qt\n",
    "# curr_active_pipeline.display('_display_2d_placefield_result_plot_ratemaps_2D', long_epoch_context) # MatplotlibRenderPlots\n"
   ]
  },
  {
   "cell_type": "code",
   "execution_count": null,
   "id": "48029c22",
   "metadata": {},
   "outputs": [],
   "source": [
    "\n",
    "# long_pf2D.plot_occupancy()\n",
    "_out = short_one_step_decoder_2D.pf.plot_ratemaps_2D(included_unit_neuron_IDs=[2,4,5], bg_rendering_mode=BackgroundRenderingOptions.EMPTY, use_special_overlayed_title=False, missing_aclu_string_formatter=None, debug_print=False, brev_mode=PlotStringBrevityModeEnum.NONE)\n",
    "\n",
    "## Single column output: subplots=(None, 9)\n"
   ]
  },
  {
   "cell_type": "code",
   "execution_count": null,
   "id": "14977e80",
   "metadata": {},
   "outputs": [],
   "source": [
    "# %%capture\n",
    "active_display_to_pdf_fn(curr_active_pipeline, curr_display_function_name='_display_1d_placefields', debug_print=False) # 🟢✅ Now seems to be working and saving to PDF!! Still using matplotlib.use('Qt5Agg') mode and plots still appear."
   ]
  },
  {
   "cell_type": "code",
   "execution_count": null,
   "id": "c2686e3f",
   "metadata": {},
   "outputs": [],
   "source": [
    "long_shared_aclus_only_decoder.pf.plot_occupancy()"
   ]
  },
  {
   "cell_type": "code",
   "execution_count": null,
   "id": "37ae6c7f",
   "metadata": {},
   "outputs": [],
   "source": [
    "%matplotlib qt\n",
    "long_one_step_decoder_2D.pf.plot_occupancy()"
   ]
  },
  {
   "cell_type": "code",
   "execution_count": null,
   "id": "a8006610",
   "metadata": {},
   "outputs": [],
   "source": [
    "long_one_step_decoder_2D.pf.plot_ratemaps_2D()"
   ]
  },
  {
   "cell_type": "code",
   "execution_count": null,
   "id": "d49dcc7e",
   "metadata": {},
   "outputs": [],
   "source": [
    "# curr_active_pipeline.display('_display_short_long_pf1D_comparison', active_session_configuration_context=global_epoch_context, single_figure=False)\n",
    "\n",
    "short_one_step_decoder_1D"
   ]
  },
  {
   "cell_type": "code",
   "execution_count": null,
   "id": "402834bd",
   "metadata": {},
   "outputs": [],
   "source": [
    "%matplotlib inline\n",
    "active_identifying_session_ctx = curr_active_pipeline.sess.get_context() # 'bapun_RatN_Day4_2019-10-15_11-30-06'\n",
    "\n",
    "long_single_cell_pfmap_processing_fn = None\n",
    "short_single_cell_pfmap_processing_fn = None\n",
    "\n",
    "# long_single_cell_pfmap_processing_fn = lambda i, aclu, pfmap: 0.5 * pfmap # flip over the y-axis\n",
    "# short_single_cell_pfmap_processing_fn = lambda i, aclu, pfmap: -0.5 * pfmap # flip over the y-axis\n",
    "\n",
    "# pad = 1\n",
    "# long_single_cell_pfmap_processing_fn = lambda i, aclu, pfmap: (0.5 * pfmap) + (0.5*pad) # shift the baseline up by half\n",
    "# short_single_cell_pfmap_processing_fn = lambda i, aclu, pfmap: (-0.5 * pfmap * pad) + (0.5*pad) # flip over the y-axis, shift the baseline down by half\n",
    "\n",
    "# pad = 1\n",
    "# long_single_cell_pfmap_processing_fn = lambda i, aclu, pfmap: (0.5 * pfmap * pad) + (0.5*pad) # shift the baseline up by half\n",
    "# short_single_cell_pfmap_processing_fn = lambda i, aclu, pfmap: (0.5 * pfmap * pad) + (0.5*pad) # flip over the y-axis, shift the baseline down by half\n",
    "# long_single_cell_pfmap_processing_fn = lambda i, aclu, pfmap: (0.5 * pfmap * pad) # shift the baseline up by half\n",
    "# short_single_cell_pfmap_processing_fn = lambda i, aclu, pfmap: (0.5 * pfmap * pad) # flip over the y-axis, shift the baseline down by half\n",
    "\n",
    "\n",
    "# long_single_cell_pfmap_processing_fn = lambda i, aclu, pfmap: (1.0 * pfmap * pad) # shift the baseline up by half\n",
    "# short_single_cell_pfmap_processing_fn = lambda i, aclu, pfmap: (-1.0 * pfmap * pad) + (1.0*pad) # this does not work and results in short being fully filled. I think this is because the fill_between gets reversed since everything is below baseline\n",
    "\n",
    "sort_idx = None\n",
    "\n",
    "out = curr_active_pipeline.display('_display_short_long_pf1D_comparison', active_identifying_session_ctx, single_figure=False, debug_print=False, fignum='Short v Long pf1D Comparison',\n",
    "                                   long_kwargs={'sortby': sort_idx, 'single_cell_pfmap_processing_fn': long_single_cell_pfmap_processing_fn},\n",
    "                                   short_kwargs={'sortby': sort_idx, 'single_cell_pfmap_processing_fn': short_single_cell_pfmap_processing_fn, 'curve_hatch_style': {'hatch':'///', 'edgecolor':'k'}},\n",
    "                                  )\n",
    "\n",
    "# ax = out.axes[0]"
   ]
  },
  {
   "cell_type": "code",
   "execution_count": null,
   "id": "d0cfbb30",
   "metadata": {},
   "outputs": [],
   "source": [
    "sort_idx = np.argsort(product_overlap_scalars_df.prod_overlap.to_numpy())[::-1] # the `[::-1]` term reverses the array, which by defaul is returned in ascending order and we want descending\n",
    "sort_idx"
   ]
  },
  {
   "cell_type": "code",
   "execution_count": null,
   "id": "fe831b56",
   "metadata": {},
   "outputs": [],
   "source": [
    "\n",
    "\n",
    "curr_ratemap = long_one_step_decoder_1D.pf.ratemap\n",
    "curr_ratemap.get_sort_indicies()\n",
    "# .pf1D.ratemap"
   ]
  },
  {
   "cell_type": "code",
   "execution_count": null,
   "id": "3d6bf01c",
   "metadata": {},
   "outputs": [],
   "source": [
    "import matplotlib as mpl\n",
    "\n",
    "def extract_figure_properties(fig):\n",
    "    \"\"\"\n",
    "    Extracts styles, formatting, and set options from a matplotlib Figure object.\n",
    "    Returns a dictionary with the following keys:\n",
    "        - 'title': the Figure title (if any)\n",
    "        - 'xlabel': the label for the x-axis (if any)\n",
    "        - 'ylabel': the label for the y-axis (if any)\n",
    "        - 'xlim': the limits for the x-axis (if any)\n",
    "        - 'ylim': the limits for the y-axis (if any)\n",
    "        - 'xscale': the scale for the x-axis (if any)\n",
    "        - 'yscale': the scale for the y-axis (if any)\n",
    "        - 'legend': the properties of the legend (if any)\n",
    "        - 'grid': the properties of the grid (if any)\n",
    "    \"\"\"\n",
    "    properties = {}\n",
    "    \n",
    "    # Extract title\n",
    "    properties['title'] = fig._suptitle.get_text() if fig._suptitle else None\n",
    "    \n",
    "    # Extract axis labels and limits\n",
    "    for ax in fig.get_axes():\n",
    "        if ax.get_label() == 'x':\n",
    "            properties['xlabel'] = ax.get_xlabel()\n",
    "            properties['xlim'] = ax.get_xlim()\n",
    "            properties['xscale'] = ax.get_xscale()\n",
    "        elif ax.get_label() == 'y':\n",
    "            properties['ylabel'] = ax.get_ylabel()\n",
    "            properties['ylim'] = ax.get_ylim()\n",
    "            properties['yscale'] = ax.get_yscale()\n",
    "    \n",
    "    # Extract legend properties\n",
    "    if hasattr(fig, 'legend_'):\n",
    "        legend = fig.legend_\n",
    "        if legend:\n",
    "            properties['legend'] = {\n",
    "                'title': legend.get_title().get_text(),\n",
    "                'labels': [t.get_text() for t in legend.get_texts()],\n",
    "                'loc': legend._loc,\n",
    "                'frameon': legend.get_frame_on(),\n",
    "            }\n",
    "    \n",
    "    # Extract grid properties\n",
    "    first_ax = fig.axes[0]\n",
    "    grid = first_ax.get_gridlines()[0] if first_ax.get_gridlines() else None\n",
    "    if grid:\n",
    "        properties['grid'] = {\n",
    "            'color': grid.get_color(),\n",
    "            'linestyle': grid.get_linestyle(),\n",
    "            'linewidth': grid.get_linewidth(),\n",
    "        }\n",
    "    \n",
    "    return properties\n",
    "\n",
    "# curr_fig = plt.gcf()\n",
    "curr_fig = out.figures[0]\n",
    "curr_fig_properties = extract_figure_properties(curr_fig)\n",
    "curr_fig_properties"
   ]
  },
  {
   "cell_type": "code",
   "execution_count": null,
   "id": "902573cc",
   "metadata": {},
   "outputs": [],
   "source": []
  },
  {
   "cell_type": "code",
   "execution_count": null,
   "id": "6bbd6964",
   "metadata": {},
   "outputs": [],
   "source": []
  }
 ],
 "metadata": {
  "kernelspec": {
   "display_name": "spike3d-xhKu_1Lg-py3.9",
   "language": "python",
   "name": "python3"
  },
  "language_info": {
   "codemirror_mode": {
    "name": "ipython",
    "version": 3
   },
   "file_extension": ".py",
   "mimetype": "text/x-python",
   "name": "python",
   "nbconvert_exporter": "python",
   "pygments_lexer": "ipython3",
   "version": "3.9.13"
  },
  "toc-showmarkdowntxt": false,
  "toc-showtags": false
 },
 "nbformat": 4,
 "nbformat_minor": 5
}
