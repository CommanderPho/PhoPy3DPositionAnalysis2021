{
 "cells": [
  {
   "cell_type": "code",
   "execution_count": 1,
   "id": "initial_id",
   "metadata": {
    "ExecuteTime": {
     "end_time": "2023-11-16T23:21:20.608442900Z",
     "start_time": "2023-11-16T23:21:20.217442100Z"
    },
    "collapsed": true,
    "notebookRunGroups": {
     "groupValue": "1"
    }
   },
   "outputs": [
    {
     "name": "stdout",
     "output_type": "stream",
     "text": [
      "Automatic pdb calling has been turned OFF\n"
     ]
    },
    {
     "name": "stdout",
     "output_type": "stream",
     "text": [
      "build_module_logger(module_name=\"Spike3D.pipeline\"):\n",
      "\t Module logger com.PhoHale.Spike3D.pipeline has file logging enabled and will log to EXTERNAL\\TESTING\\Logging\\debug_com.PhoHale.Spike3D.pipeline.log\n",
      "DAY_DATE_STR: 2024-01-12, DAY_DATE_TO_USE: 2024-01-12\n",
      "NOW_DATETIME: 2024-01-12_0420PM, NOW_DATETIME_TO_USE: 2024-01-12_0420PM\n",
      "global_data_root_parent_path changed to W:\\Data\n"
     ]
    },
    {
     "data": {
      "application/vnd.jupyter.widget-view+json": {
       "model_id": "493c73b391124de48038b23f8f1c06ec",
       "version_major": 2,
       "version_minor": 0
      },
      "text/plain": [
       "ToggleButtons(description='Data Root:', layout=Layout(width='auto'), options=(WindowsPath('W:/Data'),), style=…"
      ]
     },
     "execution_count": 1,
     "metadata": {},
     "output_type": "execute_result"
    }
   ],
   "source": [
    "%config IPCompleter.use_jedi = False\n",
    "# %xmode Verbose\n",
    "# %xmode context\n",
    "%pdb off\n",
    "%load_ext viztracer\n",
    "from viztracer import VizTracer\n",
    "%load_ext autoreload\n",
    "%autoreload 3\n",
    "import sys\n",
    "from typing import Dict, List, Tuple, Optional\n",
    "from pathlib import Path\n",
    "\n",
    "# required to enable non-blocking interaction:\n",
    "%gui qt5\n",
    "\n",
    "from copy import deepcopy\n",
    "from numba import jit\n",
    "import numpy as np\n",
    "import pandas as pd\n",
    "pd.options.mode.chained_assignment = None  # default='warn'\n",
    "# pd.options.mode.dtype_backend = 'pyarrow' # use new pyarrow backend instead of numpy\n",
    "from attrs import define, field, fields, Factory\n",
    "import tables as tb\n",
    "from datetime import datetime, timedelta\n",
    "\n",
    "# Pho's Formatting Preferences\n",
    "from pyphocorehelpers.preferences_helpers import set_pho_preferences, set_pho_preferences_concise, set_pho_preferences_verbose\n",
    "set_pho_preferences_concise()\n",
    "# Jupyter-lab enable printing for any line on its own (instead of just the last one in the cell)\n",
    "from IPython.core.interactiveshell import InteractiveShell\n",
    "InteractiveShell.ast_node_interactivity = \"all\"\n",
    "\n",
    "from pyphocorehelpers.print_helpers import get_now_time_str, get_now_day_str\n",
    "\n",
    "## Pho's Custom Libraries:\n",
    "from pyphocorehelpers.Filesystem.path_helpers import find_first_extant_path\n",
    "from pyphocorehelpers.Filesystem.open_in_system_file_manager import reveal_in_system_file_manager\n",
    "\n",
    "# NeuroPy (Diba Lab Python Repo) Loading\n",
    "# from neuropy import core\n",
    "from neuropy.analyses.placefields import PlacefieldComputationParameters\n",
    "from neuropy.core.epoch import NamedTimerange, Epoch\n",
    "from neuropy.core.ratemap import Ratemap\n",
    "from neuropy.core.session.Formats.BaseDataSessionFormats import DataSessionFormatRegistryHolder\n",
    "from neuropy.core.session.Formats.Specific.KDibaOldDataSessionFormat import KDibaOldDataSessionFormatRegisteredClass\n",
    "from neuropy.utils.matplotlib_helpers import matplotlib_file_only, matplotlib_configuration, matplotlib_configuration_update\n",
    "from neuropy.core.neuron_identities import NeuronIdentityTable, neuronTypesList, neuronTypesEnum\n",
    "from neuropy.utils.mixins.AttrsClassHelpers import AttrsBasedClassHelperMixin, serialized_field, serialized_attribute_field, non_serialized_field, custom_define\n",
    "from neuropy.utils.mixins.HDF5_representable import HDF_DeserializationMixin, post_deserialize, HDF_SerializationMixin, HDFMixin, HDF_Converter\n",
    "\n",
    "## For computation parameters:\n",
    "from neuropy.analyses.placefields import PlacefieldComputationParameters\n",
    "from neuropy.utils.dynamic_container import DynamicContainer\n",
    "from neuropy.utils.result_context import IdentifyingContext\n",
    "from neuropy.core.session.Formats.BaseDataSessionFormats import find_local_session_paths\n",
    "from neuropy.core.neurons import NeuronType\n",
    "from neuropy.core.user_annotations import UserAnnotationsManager\n",
    "from neuropy.core.position import Position\n",
    "from neuropy.core.session.dataSession import DataSession\n",
    "from neuropy.analyses.time_dependent_placefields import PfND_TimeDependent, PlacefieldSnapshot\n",
    "from neuropy.utils.debug_helpers import debug_print_placefield, debug_print_subsession_neuron_differences, debug_print_ratemap, debug_print_spike_counts, debug_plot_2d_binning, print_aligned_columns\n",
    "from neuropy.utils.debug_helpers import parameter_sweeps, _plot_parameter_sweep, compare_placefields_info\n",
    "from neuropy.utils.indexing_helpers import NumpyHelpers, union_of_arrays, intersection_of_arrays, find_desired_sort_indicies, paired_incremental_sorting\n",
    "from pyphocorehelpers.print_helpers import print_object_memory_usage, print_dataframe_memory_usage, print_value_overview_only, DocumentationFilePrinter, print_keys_if_possible, generate_html_string, CapturedException, document_active_variables\n",
    "\n",
    "## Pho Programming Helpers:\n",
    "import inspect\n",
    "from pyphocorehelpers.general_helpers import inspect_callable_arguments, get_arguments_as_optional_dict, GeneratedClassDefinitionType, CodeConversion\n",
    "from pyphocorehelpers.print_helpers import DocumentationFilePrinter, TypePrintMode, print_keys_if_possible, debug_dump_object_member_shapes, print_value_overview_only, document_active_variables, CapturedException\n",
    "from pyphocorehelpers.programming_helpers import IPythonHelpers, PythonDictionaryDefinitionFormat, MemoryManagement\n",
    "from pyphocorehelpers.gui.Qt.TopLevelWindowHelper import TopLevelWindowHelper, print_widget_hierarchy\n",
    "\n",
    "# pyPhoPlaceCellAnalysis:\n",
    "from pyphoplacecellanalysis.General.Pipeline.NeuropyPipeline import NeuropyPipeline # get_neuron_identities\n",
    "from pyphoplacecellanalysis.General.Mixins.ExportHelpers import export_pyqtgraph_plot\n",
    "from pyphoplacecellanalysis.General.Batch.NonInteractiveProcessing import batch_load_session, batch_extended_computations, batch_extended_programmatic_figures\n",
    "from pyphoplacecellanalysis.General.Pipeline.NeuropyPipeline import PipelineSavingScheme\n",
    "\n",
    "import pyphoplacecellanalysis.External.pyqtgraph as pg\n",
    "\n",
    "from pyphoplacecellanalysis.General.Batch.NonInteractiveProcessing import batch_perform_all_plots\n",
    "from pyphoplacecellanalysis.General.Pipeline.Stages.ComputationFunctions.MultiContextComputationFunctions.LongShortTrackComputations import JonathanFiringRateAnalysisResult\n",
    "from pyphoplacecellanalysis.General.Mixins.CrossComputationComparisonHelpers import _find_any_context_neurons\n",
    "from pyphoplacecellanalysis.General.Batch.runBatch import BatchSessionCompletionHandler # for `post_compute_validate(...)`\n",
    "from pyphoplacecellanalysis.Analysis.Decoder.reconstruction import BasePositionDecoder\n",
    "from pyphoplacecellanalysis.SpecificResults.AcrossSessionResults import AcrossSessionsResults\n",
    "from pyphoplacecellanalysis.General.Pipeline.Stages.ComputationFunctions.SpikeAnalysis import SpikeRateTrends # for `_perform_long_short_instantaneous_spike_rate_groups_analysis`\n",
    "from pyphoplacecellanalysis.General.Pipeline.Stages.ComputationFunctions.MultiContextComputationFunctions.LongShortTrackComputations import SingleBarResult, InstantaneousSpikeRateGroupsComputation, TruncationCheckingResults # for `BatchSessionCompletionHandler`, `AcrossSessionsAggregator`\n",
    "from pyphoplacecellanalysis.General.Mixins.CrossComputationComparisonHelpers import SplitPartitionMembership\n",
    "from pyphoplacecellanalysis.General.Pipeline.Stages.ComputationFunctions.MultiContextComputationFunctions.DirectionalPlacefieldGlobalComputationFunctions import DirectionalPlacefieldGlobalComputationFunctions, DirectionalLapsResult, TrackTemplates\n",
    "from pyphoplacecellanalysis.General.Pipeline.Stages.ComputationFunctions.MultiContextComputationFunctions.RankOrderComputations import RankOrderGlobalComputationFunctions\n",
    "from pyphoplacecellanalysis.General.Pipeline.Stages.ComputationFunctions.MultiContextComputationFunctions.DirectionalPlacefieldGlobalComputationFunctions import TrackTemplates\n",
    "from pyphoplacecellanalysis.General.Pipeline.Stages.ComputationFunctions.MultiContextComputationFunctions.RankOrderComputations import RankOrderComputationsContainer, RankOrderResult\n",
    "from pyphoplacecellanalysis.General.Pipeline.Stages.ComputationFunctions.MultiContextComputationFunctions.RankOrderComputations import RankOrderAnalyses\n",
    "\n",
    "\n",
    "# Plotting\n",
    "# import pylustrator # customization of figures\n",
    "import matplotlib\n",
    "import matplotlib as mpl\n",
    "import matplotlib.pyplot as plt\n",
    "_bak_rcParams = mpl.rcParams.copy()\n",
    "\n",
    "matplotlib.use('Qt5Agg')\n",
    "# %matplotlib inline\n",
    "# %matplotlib auto\n",
    "\n",
    "# _restore_previous_matplotlib_settings_callback = matplotlib_configuration_update(is_interactive=True, backend='Qt5Agg')\n",
    "_restore_previous_matplotlib_settings_callback = matplotlib_configuration_update(is_interactive=True, backend='Qt5Agg')\n",
    "\n",
    "\n",
    "# import pylustrator # call `pylustrator.start()` before creating your first figure in code.\n",
    "from pyphoplacecellanalysis.Pho2D.matplotlib.visualize_heatmap import visualize_heatmap\n",
    "from pyphoplacecellanalysis.Pho2D.matplotlib.visualize_heatmap import visualize_heatmap_pyqtgraph # used in `plot_kourosh_activity_style_figure`\n",
    "from pyphoplacecellanalysis.General.Pipeline.Stages.DisplayFunctions.SpikeRasters import plot_multiple_raster_plot, plot_raster_plot\n",
    "from pyphoplacecellanalysis.General.Mixins.DataSeriesColorHelpers import UnitColoringMode, DataSeriesColorHelpers\n",
    "from pyphoplacecellanalysis.General.Pipeline.Stages.DisplayFunctions.SpikeRasters import _build_default_tick, build_scatter_plot_kwargs\n",
    "from pyphoplacecellanalysis.GUI.PyQtPlot.Widgets.Mixins.Render2DScrollWindowPlot import Render2DScrollWindowPlotMixin, ScatterItemData\n",
    "from pyphoplacecellanalysis.General.Batch.NonInteractiveProcessing import batch_extended_programmatic_figures, batch_programmatic_figures\n",
    "from pyphoplacecellanalysis.General.Pipeline.Stages.ComputationFunctions.SpikeAnalysis import SpikeRateTrends\n",
    "from pyphoplacecellanalysis.General.Mixins.SpikesRenderingBaseMixin import SpikeEmphasisState\n",
    "\n",
    "from pyphoplacecellanalysis.SpecificResults.PhoDiba2023Paper import PAPER_FIGURE_figure_1_add_replay_epoch_rasters, PAPER_FIGURE_figure_1_full, PAPER_FIGURE_figure_3, main_complete_figure_generations\n",
    "from pyphoplacecellanalysis.SpecificResults.fourthYearPresentation import *\n",
    "\n",
    "# Jupyter Widget Interactive\n",
    "import ipywidgets as widgets\n",
    "from IPython.display import display, HTML\n",
    "from pyphocorehelpers.Filesystem.open_in_system_file_manager import reveal_in_system_file_manager\n",
    "from pyphoplacecellanalysis.GUI.IPyWidgets.pipeline_ipywidgets import interactive_pipeline_widget, interactive_pipeline_files\n",
    "from pyphocorehelpers.gui.Jupyter.simple_widgets import fullwidth_path_widget, render_colors\n",
    "\n",
    "from datetime import datetime, date, timedelta\n",
    "from pyphocorehelpers.print_helpers import get_now_day_str, get_now_rounded_time_str\n",
    "\n",
    "DAY_DATE_STR: str = date.today().strftime(\"%Y-%m-%d\")\n",
    "DAY_DATE_TO_USE = f'{DAY_DATE_STR}' # used for filenames throught the notebook\n",
    "print(f'DAY_DATE_STR: {DAY_DATE_STR}, DAY_DATE_TO_USE: {DAY_DATE_TO_USE}')\n",
    "\n",
    "NOW_DATETIME: str = get_now_rounded_time_str()\n",
    "NOW_DATETIME_TO_USE = f'{NOW_DATETIME}' # used for filenames throught the notebook\n",
    "print(f'NOW_DATETIME: {NOW_DATETIME}, NOW_DATETIME_TO_USE: {NOW_DATETIME_TO_USE}')\n",
    "\n",
    "\n",
    "from pyphocorehelpers.gui.Jupyter.simple_widgets import build_global_data_root_parent_path_selection_widget\n",
    "\n",
    "all_paths = [Path(r'/home/halechr/FastData'), Path(r'/media/MAX/Data'), Path(r'W:\\Data'), Path(r'/home/halechr/cloud/turbo/Data'), Path(r'/Volumes/MoverNew/data'), Path(r'/home/halechr/turbo/Data')]\n",
    "global_data_root_parent_path = None\n",
    "def on_user_update_path_selection(new_path: Path):\n",
    "\tglobal global_data_root_parent_path\n",
    "\tnew_global_data_root_parent_path = new_path.resolve()\n",
    "\tglobal_data_root_parent_path = new_global_data_root_parent_path\n",
    "\tprint(f'global_data_root_parent_path changed to {global_data_root_parent_path}')\n",
    "\tassert global_data_root_parent_path.exists(), f\"global_data_root_parent_path: {global_data_root_parent_path} does not exist! Is the right computer's config commented out above?\"\n",
    "\t\t\t\n",
    "global_data_root_parent_path_widget = build_global_data_root_parent_path_selection_widget(all_paths, on_user_update_path_selection)\n",
    "global_data_root_parent_path_widget"
   ]
  },
  {
   "cell_type": "markdown",
   "id": "30db844b",
   "metadata": {},
   "source": [
    "# Load Pipeline"
   ]
  },
  {
   "cell_type": "code",
   "execution_count": 2,
   "id": "7f07773d",
   "metadata": {
    "notebookRunGroups": {
     "groupValue": "1"
    }
   },
   "outputs": [
    {
     "name": "stdout",
     "output_type": "stream",
     "text": [
      "basedir: W:\\Data\\KDIBA\\pin01\\one\\fet11-01_12-58-54\n",
      "Loading loaded session pickle file results : W:\\Data\\KDIBA\\pin01\\one\\fet11-01_12-58-54\\loadedSessPickle.pkl... "
     ]
    },
    {
     "name": "stderr",
     "output_type": "stream",
     "text": [
      "INFO:com.PhoHale.Spike3D.pipeline:NeuropyPipeline.__setstate__(state=\"{'pipeline_name': 'kdiba_pipeline', 'session_data_type': 'kdiba', '_stage': <pyphoplacecellanalysis.General.Pipeline.Stages.Display.DisplayPipelineStage object at 0x000001A32551B5B0>}\")\n",
      "INFO:com.PhoHale.Spike3D.pipeline:select_filters(...) with: []\n",
      "INFO:com.PhoHale.Spike3D.pipeline:Performing perform_action_for_all_contexts with action EvaluationActions.EVALUATE_COMPUTATIONS on filtered_session with filter named \"maze1_odd\"...\n",
      "INFO:com.PhoHale.Spike3D.pipeline:WARNING: skipping computation because overwrite_extant_results=False and active_computation_results[maze1_odd] already exists and is non-None\n",
      "INFO:com.PhoHale.Spike3D.pipeline:\t TODO: this will prevent recomputation even when the excludelist/includelist or computation function definitions change. Rework so that this is smarter.\n",
      "INFO:com.PhoHale.Spike3D.pipeline:Performing perform_action_for_all_contexts with action EvaluationActions.EVALUATE_COMPUTATIONS on filtered_session with filter named \"maze2_odd\"...\n",
      "INFO:com.PhoHale.Spike3D.pipeline:WARNING: skipping computation because overwrite_extant_results=False and active_computation_results[maze2_odd] already exists and is non-None\n",
      "INFO:com.PhoHale.Spike3D.pipeline:\t TODO: this will prevent recomputation even when the excludelist/includelist or computation function definitions change. Rework so that this is smarter.\n",
      "INFO:com.PhoHale.Spike3D.pipeline:Performing perform_action_for_all_contexts with action EvaluationActions.EVALUATE_COMPUTATIONS on filtered_session with filter named \"maze_odd\"...\n",
      "INFO:com.PhoHale.Spike3D.pipeline:WARNING: skipping computation because overwrite_extant_results=False and active_computation_results[maze_odd] already exists and is non-None\n",
      "INFO:com.PhoHale.Spike3D.pipeline:\t TODO: this will prevent recomputation even when the excludelist/includelist or computation function definitions change. Rework so that this is smarter.\n",
      "INFO:com.PhoHale.Spike3D.pipeline:Performing perform_action_for_all_contexts with action EvaluationActions.EVALUATE_COMPUTATIONS on filtered_session with filter named \"maze1_even\"...\n",
      "INFO:com.PhoHale.Spike3D.pipeline:WARNING: skipping computation because overwrite_extant_results=False and active_computation_results[maze1_even] already exists and is non-None\n",
      "INFO:com.PhoHale.Spike3D.pipeline:\t TODO: this will prevent recomputation even when the excludelist/includelist or computation function definitions change. Rework so that this is smarter.\n",
      "INFO:com.PhoHale.Spike3D.pipeline:Performing perform_action_for_all_contexts with action EvaluationActions.EVALUATE_COMPUTATIONS on filtered_session with filter named \"maze2_even\"...\n",
      "INFO:com.PhoHale.Spike3D.pipeline:WARNING: skipping computation because overwrite_extant_results=False and active_computation_results[maze2_even] already exists and is non-None\n",
      "INFO:com.PhoHale.Spike3D.pipeline:\t TODO: this will prevent recomputation even when the excludelist/includelist or computation function definitions change. Rework so that this is smarter.\n",
      "INFO:com.PhoHale.Spike3D.pipeline:Performing perform_action_for_all_contexts with action EvaluationActions.EVALUATE_COMPUTATIONS on filtered_session with filter named \"maze_even\"...\n",
      "INFO:com.PhoHale.Spike3D.pipeline:WARNING: skipping computation because overwrite_extant_results=False and active_computation_results[maze_even] already exists and is non-None\n",
      "INFO:com.PhoHale.Spike3D.pipeline:\t TODO: this will prevent recomputation even when the excludelist/includelist or computation function definitions change. Rework so that this is smarter.\n",
      "INFO:com.PhoHale.Spike3D.pipeline:Performing perform_action_for_all_contexts with action EvaluationActions.EVALUATE_COMPUTATIONS on filtered_session with filter named \"maze1_any\"...\n",
      "INFO:com.PhoHale.Spike3D.pipeline:WARNING: skipping computation because overwrite_extant_results=False and active_computation_results[maze1_any] already exists and is non-None\n",
      "INFO:com.PhoHale.Spike3D.pipeline:\t TODO: this will prevent recomputation even when the excludelist/includelist or computation function definitions change. Rework so that this is smarter.\n",
      "INFO:com.PhoHale.Spike3D.pipeline:Performing perform_action_for_all_contexts with action EvaluationActions.EVALUATE_COMPUTATIONS on filtered_session with filter named \"maze2_any\"...\n",
      "INFO:com.PhoHale.Spike3D.pipeline:WARNING: skipping computation because overwrite_extant_results=False and active_computation_results[maze2_any] already exists and is non-None\n",
      "INFO:com.PhoHale.Spike3D.pipeline:\t TODO: this will prevent recomputation even when the excludelist/includelist or computation function definitions change. Rework so that this is smarter.\n",
      "INFO:com.PhoHale.Spike3D.pipeline:Performing perform_action_for_all_contexts with action EvaluationActions.EVALUATE_COMPUTATIONS on filtered_session with filter named \"maze_any\"...\n",
      "INFO:com.PhoHale.Spike3D.pipeline:WARNING: skipping computation because overwrite_extant_results=False and active_computation_results[maze_any] already exists and is non-None\n",
      "INFO:com.PhoHale.Spike3D.pipeline:\t TODO: this will prevent recomputation even when the excludelist/includelist or computation function definitions change. Rework so that this is smarter.\n",
      "INFO:com.PhoHale.Spike3D.pipeline:Performing global computations...\n",
      "INFO:com.PhoHale.Spike3D.pipeline:select_filters(...) with: []\n",
      "INFO:com.PhoHale.Spike3D.pipeline:Performing perform_action_for_all_contexts with action EvaluationActions.EVALUATE_COMPUTATIONS on filtered_session with filter named \"maze1_odd\"...\n",
      "INFO:com.PhoHale.Spike3D.pipeline:WARNING: skipping computation because overwrite_extant_results=False and active_computation_results[maze1_odd] already exists and is non-None\n",
      "INFO:com.PhoHale.Spike3D.pipeline:\t TODO: this will prevent recomputation even when the excludelist/includelist or computation function definitions change. Rework so that this is smarter.\n",
      "INFO:com.PhoHale.Spike3D.pipeline:Performing perform_action_for_all_contexts with action EvaluationActions.EVALUATE_COMPUTATIONS on filtered_session with filter named \"maze2_odd\"...\n",
      "INFO:com.PhoHale.Spike3D.pipeline:WARNING: skipping computation because overwrite_extant_results=False and active_computation_results[maze2_odd] already exists and is non-None\n",
      "INFO:com.PhoHale.Spike3D.pipeline:\t TODO: this will prevent recomputation even when the excludelist/includelist or computation function definitions change. Rework so that this is smarter.\n",
      "INFO:com.PhoHale.Spike3D.pipeline:Performing perform_action_for_all_contexts with action EvaluationActions.EVALUATE_COMPUTATIONS on filtered_session with filter named \"maze_odd\"...\n",
      "INFO:com.PhoHale.Spike3D.pipeline:WARNING: skipping computation because overwrite_extant_results=False and active_computation_results[maze_odd] already exists and is non-None\n",
      "INFO:com.PhoHale.Spike3D.pipeline:\t TODO: this will prevent recomputation even when the excludelist/includelist or computation function definitions change. Rework so that this is smarter.\n",
      "INFO:com.PhoHale.Spike3D.pipeline:Performing perform_action_for_all_contexts with action EvaluationActions.EVALUATE_COMPUTATIONS on filtered_session with filter named \"maze1_even\"...\n",
      "INFO:com.PhoHale.Spike3D.pipeline:WARNING: skipping computation because overwrite_extant_results=False and active_computation_results[maze1_even] already exists and is non-None\n",
      "INFO:com.PhoHale.Spike3D.pipeline:\t TODO: this will prevent recomputation even when the excludelist/includelist or computation function definitions change. Rework so that this is smarter.\n",
      "INFO:com.PhoHale.Spike3D.pipeline:Performing perform_action_for_all_contexts with action EvaluationActions.EVALUATE_COMPUTATIONS on filtered_session with filter named \"maze2_even\"...\n",
      "INFO:com.PhoHale.Spike3D.pipeline:WARNING: skipping computation because overwrite_extant_results=False and active_computation_results[maze2_even] already exists and is non-None\n",
      "INFO:com.PhoHale.Spike3D.pipeline:\t TODO: this will prevent recomputation even when the excludelist/includelist or computation function definitions change. Rework so that this is smarter.\n",
      "INFO:com.PhoHale.Spike3D.pipeline:Performing perform_action_for_all_contexts with action EvaluationActions.EVALUATE_COMPUTATIONS on filtered_session with filter named \"maze_even\"...\n",
      "INFO:com.PhoHale.Spike3D.pipeline:WARNING: skipping computation because overwrite_extant_results=False and active_computation_results[maze_even] already exists and is non-None\n",
      "INFO:com.PhoHale.Spike3D.pipeline:\t TODO: this will prevent recomputation even when the excludelist/includelist or computation function definitions change. Rework so that this is smarter.\n",
      "INFO:com.PhoHale.Spike3D.pipeline:Performing perform_action_for_all_contexts with action EvaluationActions.EVALUATE_COMPUTATIONS on filtered_session with filter named \"maze1_any\"...\n",
      "INFO:com.PhoHale.Spike3D.pipeline:WARNING: skipping computation because overwrite_extant_results=False and active_computation_results[maze1_any] already exists and is non-None\n",
      "INFO:com.PhoHale.Spike3D.pipeline:\t TODO: this will prevent recomputation even when the excludelist/includelist or computation function definitions change. Rework so that this is smarter.\n",
      "INFO:com.PhoHale.Spike3D.pipeline:Performing perform_action_for_all_contexts with action EvaluationActions.EVALUATE_COMPUTATIONS on filtered_session with filter named \"maze2_any\"...\n",
      "INFO:com.PhoHale.Spike3D.pipeline:WARNING: skipping computation because overwrite_extant_results=False and active_computation_results[maze2_any] already exists and is non-None\n",
      "INFO:com.PhoHale.Spike3D.pipeline:\t TODO: this will prevent recomputation even when the excludelist/includelist or computation function definitions change. Rework so that this is smarter.\n",
      "INFO:com.PhoHale.Spike3D.pipeline:Performing perform_action_for_all_contexts with action EvaluationActions.EVALUATE_COMPUTATIONS on filtered_session with filter named \"maze_any\"...\n",
      "INFO:com.PhoHale.Spike3D.pipeline:WARNING: skipping computation because overwrite_extant_results=False and active_computation_results[maze_any] already exists and is non-None\n",
      "INFO:com.PhoHale.Spike3D.pipeline:\t TODO: this will prevent recomputation even when the excludelist/includelist or computation function definitions change. Rework so that this is smarter.\n",
      "INFO:com.PhoHale.Spike3D.pipeline:Performing global computations...\n",
      "INFO:com.PhoHale.Spike3D.pipeline:select_filters(...) with: []\n",
      "INFO:com.PhoHale.Spike3D.pipeline:Performing perform_action_for_all_contexts with action EvaluationActions.EVALUATE_COMPUTATIONS on filtered_session with filter named \"maze1_odd\"...\n",
      "INFO:com.PhoHale.Spike3D.pipeline:WARNING: skipping computation because overwrite_extant_results=False and active_computation_results[maze1_odd] already exists and is non-None\n",
      "INFO:com.PhoHale.Spike3D.pipeline:\t TODO: this will prevent recomputation even when the excludelist/includelist or computation function definitions change. Rework so that this is smarter.\n",
      "INFO:com.PhoHale.Spike3D.pipeline:Performing perform_action_for_all_contexts with action EvaluationActions.EVALUATE_COMPUTATIONS on filtered_session with filter named \"maze2_odd\"...\n",
      "INFO:com.PhoHale.Spike3D.pipeline:WARNING: skipping computation because overwrite_extant_results=False and active_computation_results[maze2_odd] already exists and is non-None\n",
      "INFO:com.PhoHale.Spike3D.pipeline:\t TODO: this will prevent recomputation even when the excludelist/includelist or computation function definitions change. Rework so that this is smarter.\n",
      "INFO:com.PhoHale.Spike3D.pipeline:Performing perform_action_for_all_contexts with action EvaluationActions.EVALUATE_COMPUTATIONS on filtered_session with filter named \"maze_odd\"...\n",
      "INFO:com.PhoHale.Spike3D.pipeline:WARNING: skipping computation because overwrite_extant_results=False and active_computation_results[maze_odd] already exists and is non-None\n",
      "INFO:com.PhoHale.Spike3D.pipeline:\t TODO: this will prevent recomputation even when the excludelist/includelist or computation function definitions change. Rework so that this is smarter.\n",
      "INFO:com.PhoHale.Spike3D.pipeline:Performing perform_action_for_all_contexts with action EvaluationActions.EVALUATE_COMPUTATIONS on filtered_session with filter named \"maze1_even\"...\n",
      "INFO:com.PhoHale.Spike3D.pipeline:WARNING: skipping computation because overwrite_extant_results=False and active_computation_results[maze1_even] already exists and is non-None\n",
      "INFO:com.PhoHale.Spike3D.pipeline:\t TODO: this will prevent recomputation even when the excludelist/includelist or computation function definitions change. Rework so that this is smarter.\n",
      "INFO:com.PhoHale.Spike3D.pipeline:Performing perform_action_for_all_contexts with action EvaluationActions.EVALUATE_COMPUTATIONS on filtered_session with filter named \"maze2_even\"...\n",
      "INFO:com.PhoHale.Spike3D.pipeline:WARNING: skipping computation because overwrite_extant_results=False and active_computation_results[maze2_even] already exists and is non-None\n",
      "INFO:com.PhoHale.Spike3D.pipeline:\t TODO: this will prevent recomputation even when the excludelist/includelist or computation function definitions change. Rework so that this is smarter.\n",
      "INFO:com.PhoHale.Spike3D.pipeline:Performing perform_action_for_all_contexts with action EvaluationActions.EVALUATE_COMPUTATIONS on filtered_session with filter named \"maze_even\"...\n",
      "INFO:com.PhoHale.Spike3D.pipeline:WARNING: skipping computation because overwrite_extant_results=False and active_computation_results[maze_even] already exists and is non-None\n",
      "INFO:com.PhoHale.Spike3D.pipeline:\t TODO: this will prevent recomputation even when the excludelist/includelist or computation function definitions change. Rework so that this is smarter.\n",
      "INFO:com.PhoHale.Spike3D.pipeline:Performing perform_action_for_all_contexts with action EvaluationActions.EVALUATE_COMPUTATIONS on filtered_session with filter named \"maze1_any\"...\n",
      "INFO:com.PhoHale.Spike3D.pipeline:WARNING: skipping computation because overwrite_extant_results=False and active_computation_results[maze1_any] already exists and is non-None\n",
      "INFO:com.PhoHale.Spike3D.pipeline:\t TODO: this will prevent recomputation even when the excludelist/includelist or computation function definitions change. Rework so that this is smarter.\n",
      "INFO:com.PhoHale.Spike3D.pipeline:Performing perform_action_for_all_contexts with action EvaluationActions.EVALUATE_COMPUTATIONS on filtered_session with filter named \"maze2_any\"...\n",
      "INFO:com.PhoHale.Spike3D.pipeline:WARNING: skipping computation because overwrite_extant_results=False and active_computation_results[maze2_any] already exists and is non-None\n",
      "INFO:com.PhoHale.Spike3D.pipeline:\t TODO: this will prevent recomputation even when the excludelist/includelist or computation function definitions change. Rework so that this is smarter.\n",
      "INFO:com.PhoHale.Spike3D.pipeline:Performing perform_action_for_all_contexts with action EvaluationActions.EVALUATE_COMPUTATIONS on filtered_session with filter named \"maze_any\"...\n",
      "INFO:com.PhoHale.Spike3D.pipeline:WARNING: skipping computation because overwrite_extant_results=False and active_computation_results[maze_any] already exists and is non-None\n"
     ]
    },
    {
     "name": "stdout",
     "output_type": "stream",
     "text": [
      "done.\n",
      "Loading pickled pipeline success: W:\\Data\\KDIBA\\pin01\\one\\fet11-01_12-58-54\\loadedSessPickle.pkl.\n",
      "properties already present in pickled version. No need to save.\n",
      "pipeline load success!\n",
      "using provided computation_functions_name_includelist: ['pf_computation', 'firing_rate_trends', 'position_decoding']\n",
      "WARNING: skipping computation because overwrite_extant_results=False and active_computation_results[maze1_odd] already exists and is non-None\n",
      "\t TODO: this will prevent recomputation even when the excludelist/includelist or computation function definitions change. Rework so that this is smarter.\n",
      "WARNING: skipping computation because overwrite_extant_results=False and active_computation_results[maze2_odd] already exists and is non-None\n",
      "\t TODO: this will prevent recomputation even when the excludelist/includelist or computation function definitions change. Rework so that this is smarter.\n",
      "WARNING: skipping computation because overwrite_extant_results=False and active_computation_results[maze_odd] already exists and is non-None\n",
      "\t TODO: this will prevent recomputation even when the excludelist/includelist or computation function definitions change. Rework so that this is smarter.\n",
      "WARNING: skipping computation because overwrite_extant_results=False and active_computation_results[maze1_even] already exists and is non-None\n",
      "\t TODO: this will prevent recomputation even when the excludelist/includelist or computation function definitions change. Rework so that this is smarter.\n",
      "WARNING: skipping computation because overwrite_extant_results=False and active_computation_results[maze2_even] already exists and is non-None\n",
      "\t TODO: this will prevent recomputation even when the excludelist/includelist or computation function definitions change. Rework so that this is smarter.\n",
      "WARNING: skipping computation because overwrite_extant_results=False and active_computation_results[maze_even] already exists and is non-None\n",
      "\t TODO: this will prevent recomputation even when the excludelist/includelist or computation function definitions change. Rework so that this is smarter.\n",
      "WARNING: skipping computation because overwrite_extant_results=False and active_computation_results[maze1_any] already exists and is non-None\n",
      "\t TODO: this will prevent recomputation even when the excludelist/includelist or computation function definitions change. Rework so that this is smarter.\n",
      "WARNING: skipping computation because overwrite_extant_results=False and active_computation_results[maze2_any] already exists and is non-None\n",
      "\t TODO: this will prevent recomputation even when the excludelist/includelist or computation function definitions change. Rework so that this is smarter.\n",
      "WARNING: skipping computation because overwrite_extant_results=False and active_computation_results[maze_any] already exists and is non-None\n",
      "\t TODO: this will prevent recomputation even when the excludelist/includelist or computation function definitions change. Rework so that this is smarter.\n",
      "WARNING: skipping computation because overwrite_extant_results=False and active_computation_results[maze1_odd] already exists and is non-None\n",
      "\t TODO: this will prevent recomputation even when the excludelist/includelist or computation function definitions change. Rework so that this is smarter.\n",
      "WARNING: skipping computation because overwrite_extant_results=False and active_computation_results[maze2_odd] already exists and is non-None\n",
      "\t TODO: this will prevent recomputation even when the excludelist/includelist or computation function definitions change. Rework so that this is smarter.\n",
      "WARNING: skipping computation because overwrite_extant_results=False and active_computation_results[maze_odd] already exists and is non-None\n",
      "\t TODO: this will prevent recomputation even when the excludelist/includelist or computation function definitions change. Rework so that this is smarter.\n",
      "WARNING: skipping computation because overwrite_extant_results=False and active_computation_results[maze1_even] already exists and is non-None\n",
      "\t TODO: this will prevent recomputation even when the excludelist/includelist or computation function definitions change. Rework so that this is smarter.\n",
      "WARNING: skipping computation because overwrite_extant_results=False and active_computation_results[maze2_even] already exists and is non-None\n",
      "\t TODO: this will prevent recomputation even when the excludelist/includelist or computation function definitions change. Rework so that this is smarter.\n",
      "WARNING: skipping computation because overwrite_extant_results=False and active_computation_results[maze_even] already exists and is non-None\n",
      "\t TODO: this will prevent recomputation even when the excludelist/includelist or computation function definitions change. Rework so that this is smarter.\n",
      "WARNING: skipping computation because overwrite_extant_results=False and active_computation_results[maze1_any] already exists and is non-None\n",
      "\t TODO: this will prevent recomputation even when the excludelist/includelist or computation function definitions change. Rework so that this is smarter.\n",
      "WARNING: skipping computation because overwrite_extant_results=False and active_computation_results[maze2_any] already exists and is non-None\n",
      "\t TODO: this will prevent recomputation even when the excludelist/includelist or computation function definitions change. Rework so that this is smarter.\n",
      "WARNING: skipping computation because overwrite_extant_results=False and active_computation_results[maze_any] already exists and is non-None\n",
      "\t TODO: this will prevent recomputation even when the excludelist/includelist or computation function definitions change. Rework so that this is smarter.\n",
      "WARNING: skipping computation because overwrite_extant_results=False and active_computation_results[maze1_odd] already exists and is non-None\n",
      "\t TODO: this will prevent recomputation even when the excludelist/includelist or computation function definitions change. Rework so that this is smarter.\n",
      "WARNING: skipping computation because overwrite_extant_results=False and active_computation_results[maze2_odd] already exists and is non-None\n",
      "\t TODO: this will prevent recomputation even when the excludelist/includelist or computation function definitions change. Rework so that this is smarter.\n",
      "WARNING: skipping computation because overwrite_extant_results=False and active_computation_results[maze_odd] already exists and is non-None\n",
      "\t TODO: this will prevent recomputation even when the excludelist/includelist or computation function definitions change. Rework so that this is smarter.\n",
      "WARNING: skipping computation because overwrite_extant_results=False and active_computation_results[maze1_even] already exists and is non-None\n",
      "\t TODO: this will prevent recomputation even when the excludelist/includelist or computation function definitions change. Rework so that this is smarter.\n",
      "WARNING: skipping computation because overwrite_extant_results=False and active_computation_results[maze2_even] already exists and is non-None\n",
      "\t TODO: this will prevent recomputation even when the excludelist/includelist or computation function definitions change. Rework so that this is smarter.\n",
      "WARNING: skipping computation because overwrite_extant_results=False and active_computation_results[maze_even] already exists and is non-None\n",
      "\t TODO: this will prevent recomputation even when the excludelist/includelist or computation function definitions change. Rework so that this is smarter.\n",
      "WARNING: skipping computation because overwrite_extant_results=False and active_computation_results[maze1_any] already exists and is non-None\n",
      "\t TODO: this will prevent recomputation even when the excludelist/includelist or computation function definitions change. Rework so that this is smarter.\n",
      "WARNING: skipping computation because overwrite_extant_results=False and active_computation_results[maze2_any] already exists and is non-None\n",
      "\t TODO: this will prevent recomputation even when the excludelist/includelist or computation function definitions change. Rework so that this is smarter.\n"
     ]
    },
    {
     "name": "stderr",
     "output_type": "stream",
     "text": [
      "INFO:com.PhoHale.Spike3D.pipeline:\t TODO: this will prevent recomputation even when the excludelist/includelist or computation function definitions change. Rework so that this is smarter.\n",
      "INFO:com.PhoHale.Spike3D.pipeline:Performing global computations...\n",
      "INFO:com.PhoHale.Spike3D.pipeline:NeuropyPipeline.on_stage_changed(new_stage=\"PipelineStage.Displayed\")\n",
      "WARNING:com.PhoHale.Spike3D.pipeline:WARNING: saving_mode is SKIP_SAVING so pipeline will not be saved despite calling .save_pipeline(...).\n"
     ]
    },
    {
     "name": "stdout",
     "output_type": "stream",
     "text": [
      "WARNING: skipping computation because overwrite_extant_results=False and active_computation_results[maze_any] already exists and is non-None\n",
      "\t TODO: this will prevent recomputation even when the excludelist/includelist or computation function definitions change. Rework so that this is smarter.\n",
      "WARNING: saving_mode is SKIP_SAVING so pipeline will not be saved despite calling .save_pipeline(...).\n",
      "saving_mode.shouldSave == False, so not saving at the end of batch_load_session\n",
      "DEPRICATION WARNING: workaround to allow subscripting ComputationResult objects. Will be depricated. key: computed_data\n",
      "DEPRICATION WARNING: workaround to allow subscripting ComputationResult objects. Will be depricated. key: computed_data\n",
      "DEPRICATION WARNING: workaround to allow subscripting ComputationResult objects. Will be depricated. key: computed_data\n",
      "DEPRICATION WARNING: workaround to allow subscripting ComputationResult objects. Will be depricated. key: computed_data\n",
      "DEPRICATION WARNING: workaround to allow subscripting ComputationResult objects. Will be depricated. key: computed_data\n",
      "DEPRICATION WARNING: workaround to allow subscripting ComputationResult objects. Will be depricated. key: computed_data\n",
      "were pipeline preprocessing parameters missing and updated?: False\n"
     ]
    }
   ],
   "source": [
    "# ==================================================================================================================== #\n",
    "# Load Data                                                                                                            #\n",
    "# ==================================================================================================================== #\n",
    "\n",
    "active_data_mode_name = 'kdiba'\n",
    "local_session_root_parent_context = IdentifyingContext(format_name=active_data_mode_name) # , animal_name='', configuration_name='one', session_name=a_sess.session_name\n",
    "local_session_root_parent_path = global_data_root_parent_path.joinpath('KDIBA')\n",
    "\n",
    "# [*] - indicates bad or session with a problem\n",
    "# 0, 1, 2, 3, 4, 5, 6, 7, [8], [9], 10, 11, [12], 13, 14, [15], [16], 17, \n",
    "# curr_context: IdentifyingContext = good_contexts_list[1] # select the session from all of the good sessions here.\n",
    "# curr_context = IdentifyingContext(format_name='kdiba',animal='gor01',exper_name='one',session_name='2006-6-08_14-26-15') # DONE. Very good. Many good Pfs, many good replays.\n",
    "# curr_context = IdentifyingContext(format_name='kdiba',animal='gor01',exper_name='one',session_name='2006-6-09_1-22-43') # DONE, might be the BEST SESSION, good example session with lots of place cells, clean replays, and clear bar graphs.\n",
    "# curr_context = IdentifyingContext(format_name='kdiba',animal='gor01',exper_name='one',session_name='2006-6-12_15-55-31') # DONE, Good Pfs but no good replays ---- VERY weird effect of the replays, a sharp drop to strongly negative values more than 3/4 through the experiment.\n",
    "\n",
    "# curr_context = IdentifyingContext(format_name='kdiba',animal='gor01',exper_name='one',session_name='2006-6-13_14-42-6') # BAD, 2023-07-14, unsure why still.\n",
    "# curr_context = IdentifyingContext(format_name='kdiba',animal='gor01',exper_name='two',session_name='2006-6-07_16-40-19') # DONE, GREAT, both good Pfs and replays! Interesting see-saw!\n",
    "\n",
    "# curr_context = IdentifyingContext(format_name='kdiba',animal='gor01',exper_name='two',session_name='2006-6-08_21-16-25') # DONE, Added replay selections. Very \"jumpy\" between the starts and ends of the track.\n",
    "# curr_context = IdentifyingContext(format_name='kdiba',animal='gor01',exper_name='two',session_name='2006-6-09_22-24-40') # 2024-01-10 new RANKORDER APOGEE | DONE, Added replay selections. A TON of putative replays in general, most bad, but some good. LOOKIN GOOD!\n",
    "# curr_context = IdentifyingContext(format_name='kdiba',animal='gor01',exper_name='twolong_LR_pf1Dsession_name='2006-4-12_15-25-59') # BAD, No Epochs\n",
    "# curr_context = IdentifyingContext(format_name='kdiba',animal='vvp01',exper_name='two',session_name='2006-4-16_18-47-52')\n",
    "# curr_context = IdentifyingContext(format_name='kdiba',animal='vvp01',exper_name='two',session_name='2006-4-17_12-52-15')\n",
    "# curr_context = IdentifyingContext(format_name='kdiba',animal='vvp01',exper_name='two',session_name='2006-4-25_13-20-55')\n",
    "# curr_context = IdentifyingContext(format_name='kdiba',animal='vvp01',exper_name='two',session_name='2006-4-28_12-38-13')\n",
    "# curr_context = IdentifyingContext(format_name='kdiba',animal='pin01',exper_name='one',session_name='11-02_17-46-44') # DONE, good. Many good pfs, many good replays. Noticed very strange jumping off the track in the 3D behavior/spikes viewer. Is there something wrong with this session?\n",
    "# curr_context = IdentifyingContext(format_name='kdiba',animal='pin01',exper_name='one',session_name='11-02_19-28-0') # DONE, good?, replays selected, few --- \"ZeroDivisionError: float division by zero\"\n",
    "# curr_context = IdentifyingContext(format_name='kdiba',animal='pin01',exper_name='one',session_name='11-03_12-3-25') # DONE, very few replays\n",
    "\n",
    "# curr_context = IdentifyingContext(format_name='kdiba',animal='pin01',exper_name='one',session_name='11-09_12-15-3') ### KeyError: 'maze1_odd'\n",
    "# curr_context = IdentifyingContext(format_name='kdiba',animal='pin01',exper_name='one',session_name='11-09_22-4-5') ### \n",
    "\n",
    "curr_context = IdentifyingContext(format_name='kdiba',animal='pin01',exper_name='one',session_name='fet11-01_12-58-54') # DONE, replays selected, quite a few replays but few are very good.\n",
    "\n",
    "# curr_context = IdentifyingContext(format_name='kdiba',animal='gor01',exper_name='two',session_name='2006-6-08_21-16-25')\n",
    "\n",
    "local_session_parent_path: Path = local_session_root_parent_path.joinpath(curr_context.animal, curr_context.exper_name) # 'gor01', 'one' - probably not needed anymore\n",
    "basedir: Path = local_session_parent_path.joinpath(curr_context.session_name).resolve()\n",
    "print(f'basedir: {str(basedir)}')\n",
    "\n",
    "# Read if possible:\n",
    "saving_mode = PipelineSavingScheme.SKIP_SAVING\n",
    "force_reload = False\n",
    "# \n",
    "# # Force write:\n",
    "# saving_mode = PipelineSavingScheme.TEMP_THEN_OVERWRITE\n",
    "# saving_mode = PipelineSavingScheme.OVERWRITE_IN_PLACE\n",
    "# force_reload = True\n",
    "\n",
    "## TODO: if loading is not possible, we need to change the `saving_mode` so that the new results are properly saved.\n",
    "\n",
    "# ==================================================================================================================== #\n",
    "# Load Pipeline                                                                                                        #\n",
    "# ==================================================================================================================== #\n",
    "# with VizTracer(output_file=f\"viztracer_{get_now_time_str()}-full_session_LOO_decoding_analysis.json\", min_duration=200, tracer_entries=3000000, ignore_frozen=True) as tracer:\n",
    "# epoch_name_includelist = ['maze']\n",
    "epoch_name_includelist = None\n",
    "active_computation_functions_name_includelist=['pf_computation',\n",
    "                                            #    'pfdt_computation',\n",
    "                                                'firing_rate_trends',\n",
    "                                                # 'pf_dt_sequential_surprise', \n",
    "                                            #    'ratemap_peaks_prominence2d',\n",
    "                                                'position_decoding', \n",
    "                                                # 'position_decoding_two_step', \n",
    "                                            #    'long_short_decoding_analyses', 'jonathan_firing_rate_analysis', 'long_short_fr_indicies_analyses', 'short_long_pf_overlap_analyses', 'long_short_post_decoding', 'long_short_rate_remapping',\n",
    "                                            #     'long_short_inst_spike_rate_groups',\n",
    "                                            #     'long_short_endcap_analysis',\n",
    "                                            # 'split_to_directional_laps',\n",
    "]\n",
    "\n",
    "curr_active_pipeline: NeuropyPipeline = batch_load_session(global_data_root_parent_path, active_data_mode_name, basedir, epoch_name_includelist=epoch_name_includelist,\n",
    "                                        computation_functions_name_includelist=active_computation_functions_name_includelist,\n",
    "                                        saving_mode=saving_mode, force_reload=force_reload,\n",
    "                                        skip_extended_batch_computations=True, debug_print=False, fail_on_exception=True) # , active_pickle_filename = 'loadedSessPickle_withParameters.pkl'\n",
    "\n",
    "\n",
    "\n",
    "## Post Compute Validate 2023-05-16:\n",
    "was_updated = BatchSessionCompletionHandler.post_compute_validate(curr_active_pipeline) ## TODO: need to potentially re-save if was_updated. This will fail because constained versions not ran yet.\n",
    "if was_updated:\n",
    "    print(f'was_updated: {was_updated}')\n",
    "    try:\n",
    "        curr_active_pipeline.save_pipeline(saving_mode=saving_mode)\n",
    "    except Exception as e:\n",
    "        ## TODO: catch/log saving error and indicate that it isn't saved.\n",
    "        exception_info = sys.exc_info()\n",
    "        e = CapturedException(e, exception_info)\n",
    "        print(f'ERROR RE-SAVING PIPELINE after update. error: {e}')\n"
   ]
  },
  {
   "cell_type": "code",
   "execution_count": 3,
   "id": "acba46b6",
   "metadata": {
    "ExecuteTime": {
     "end_time": "2023-11-16T23:21:40.574268400Z",
     "start_time": "2023-11-16T23:21:35.966373700Z"
    },
    "notebookRunGroups": {
     "groupValue": "1"
    }
   },
   "outputs": [
    {
     "name": "stdout",
     "output_type": "stream",
     "text": [
      "Loading loaded session pickle file results : W:\\Data\\KDIBA\\pin01\\one\\fet11-01_12-58-54\\output\\global_computation_results.pkl... done.\n"
     ]
    },
    {
     "data": {
      "text/plain": [
       "(['DirectionalLaps',\n",
       "  'RankOrder',\n",
       "  'long_short_leave_one_out_decoding_analysis',\n",
       "  'short_long_pf_overlap_analyses',\n",
       "  'long_short_fr_indicies_analysis',\n",
       "  'jonathan_firing_rate_analysis',\n",
       "  'long_short_post_decoding',\n",
       "  'DirectionalMergedDecoders'],\n",
       " ['DirectionalLaps',\n",
       "  'RankOrder',\n",
       "  'long_short_leave_one_out_decoding_analysis',\n",
       "  'short_long_pf_overlap_analyses',\n",
       "  'long_short_fr_indicies_analysis',\n",
       "  'jonathan_firing_rate_analysis',\n",
       "  'long_short_post_decoding',\n",
       "  'DirectionalMergedDecoders'])"
      ]
     },
     "execution_count": 3,
     "metadata": {},
     "output_type": "execute_result"
    },
    {
     "name": "stdout",
     "output_type": "stream",
     "text": [
      "included includelist is specified: ['pf_computation', 'firing_rate_trends', 'split_to_directional_laps', 'merged_directional_placefields', 'rank_order_shuffle_analysis'], so only performing these extended computations.\n",
      "Running batch_extended_computations(...) with global_epoch_name: \"maze_any\"\n",
      "pf_computation, maze_any already computed.\n",
      "firing_rate_trends, maze_any already computed.\n",
      "split_to_directional_laps, maze_any already computed.\n",
      "merged_directional_placefields, maze_any already computed.\n",
      "rank_order_shuffle_analysis, maze_any already computed.\n",
      "done with all batch_extended_computations(...).\n",
      "no changes in global results.\n"
     ]
    }
   ],
   "source": [
    "### GLOBAL COMPUTATIONS:\n",
    "if not force_reload: # not just force_reload, needs to recompute whenever the computation fails.\n",
    "    try:\n",
    "        curr_active_pipeline.load_pickled_global_computation_results()\n",
    "    except Exception as e:\n",
    "        exception_info = sys.exc_info()\n",
    "        e = CapturedException(e, exception_info)\n",
    "        print(f'cannot load global results: {e}')\n",
    "        raise\n",
    "\n",
    "curr_active_pipeline.reload_default_computation_functions()\n",
    "\n",
    "extended_computations_include_includelist=['pf_computation', 'firing_rate_trends', # 'pfdt_computation',\n",
    "    # 'pf_dt_sequential_surprise',\n",
    "    #  'ratemap_peaks_prominence2d',\n",
    "    # 'long_short_decoding_analyses', 'jonathan_firing_rate_analysis', 'long_short_fr_indicies_analyses', 'short_long_pf_overlap_analyses', 'long_short_post_decoding',\n",
    "    # 'long_short_rate_remapping',\n",
    "    # 'long_short_inst_spike_rate_groups',\n",
    "    # 'long_short_endcap_analysis',\n",
    "    # 'spike_burst_detection',\n",
    "    'split_to_directional_laps',\n",
    "    'merged_directional_placefields',\n",
    "    'rank_order_shuffle_analysis'\n",
    "] # do only specified\n",
    "\n",
    "force_recompute_override_computations_includelist = None\n",
    "# force_recompute_override_computations_includelist = ['merged_directional_placefields']\n",
    "# force_recompute_override_computations_includelist = ['merged_directional_placefields', 'rank_order_shuffle_analysis']\n",
    "\n",
    "force_recompute_global = force_reload\n",
    "# force_recompute_global = True\n",
    "newly_computed_values = batch_extended_computations(curr_active_pipeline, include_includelist=extended_computations_include_includelist, include_global_functions=True, fail_on_exception=True, progress_print=True,\n",
    "                                                    force_recompute=force_recompute_global, force_recompute_override_computations_includelist=force_recompute_override_computations_includelist, debug_print=False)\n",
    "if (len(newly_computed_values) > 0):\n",
    "    print(f'newly_computed_values: {newly_computed_values}.')\n",
    "    if (saving_mode.value != 'skip_saving'):\n",
    "        print(f'Saving global results...')\n",
    "        try:\n",
    "            # curr_active_pipeline.global_computation_results.persist_time = datetime.now()\n",
    "            # Try to write out the global computation function results:\n",
    "            curr_active_pipeline.save_global_computation_results()\n",
    "        except Exception as e:\n",
    "            exception_info = sys.exc_info()\n",
    "            e = CapturedException(e, exception_info)\n",
    "            print(f'\\n\\n!!WARNING!!: saving the global results threw the exception: {e}')\n",
    "            print(f'\\tthe global results are currently unsaved! proceed with caution and save as soon as you can!\\n\\n\\n')\n",
    "    else:\n",
    "        print(f'\\n\\n!!WARNING!!: changes to global results have been made but they will not be saved since saving_mode.value == \"skip_saving\"')\n",
    "        print(f'\\tthe global results are currently unsaved! proceed with caution and save as soon as you can!\\n\\n\\n')\n",
    "else:\n",
    "    print(f'no changes in global results.')\n",
    "\n",
    "# except Exception as e:\n",
    "#     exception_info = sys.exc_info()\n",
    "#     e = CapturedException(e, exception_info)\n",
    "#     print(f'second half threw: {e}')\n",
    "\n",
    "# 4m 5.2s for inst fr computations\n"
   ]
  },
  {
   "cell_type": "code",
   "execution_count": null,
   "id": "ee3d4f61",
   "metadata": {},
   "outputs": [],
   "source": [
    "curr_active_pipeline.save_global_computation_results()"
   ]
  },
  {
   "cell_type": "code",
   "execution_count": null,
   "id": "e5cbb6cf",
   "metadata": {},
   "outputs": [],
   "source": [
    "# Determine most recent computation times:\n",
    "curr_active_pipeline.get_computation_times(debug_print=False)"
   ]
  },
  {
   "cell_type": "code",
   "execution_count": null,
   "id": "74bacec0",
   "metadata": {},
   "outputs": [],
   "source": [
    "curr_active_pipeline.global_computation_results.computation_times"
   ]
  },
  {
   "cell_type": "code",
   "execution_count": null,
   "id": "0f215007",
   "metadata": {},
   "outputs": [],
   "source": [
    "curr_active_pipeline.reload_default_computation_functions()\n",
    "curr_active_pipeline.perform_specific_computation(computation_functions_name_includelist=['pfdt_computation'], enabled_filter_names=None, fail_on_exception=True, debug_print=False)\n",
    "\n",
    "# curr_active_pipeline.perform_specific_computation(computation_functions_name_includelist=['_perform_PBE_stats_analyses'], enabled_filter_names=[global_epoch_name], fail_on_exception=True, debug_print=False)"
   ]
  },
  {
   "cell_type": "code",
   "execution_count": null,
   "id": "c2a869b1",
   "metadata": {},
   "outputs": [],
   "source": [
    "curr_active_pipeline.export_pipeline_to_h5()"
   ]
  },
  {
   "cell_type": "code",
   "execution_count": null,
   "id": "e3f06d1f",
   "metadata": {},
   "outputs": [],
   "source": [
    "curr_active_pipeline.clear_display_outputs()\n",
    "curr_active_pipeline.clear_registered_output_files()"
   ]
  },
  {
   "cell_type": "code",
   "execution_count": null,
   "id": "b2e4f945",
   "metadata": {},
   "outputs": [],
   "source": [
    "# Determine most recent computation times:\n",
    "out_times = curr_active_pipeline.get_computation_times(debug_print=True)\n",
    "out_times"
   ]
  },
  {
   "cell_type": "code",
   "execution_count": null,
   "id": "e2d4f25d",
   "metadata": {},
   "outputs": [],
   "source": [
    "from pyphocorehelpers.Filesystem.metadata_helpers import FilesystemMetadata\n",
    "\n",
    "# Stores no global times\n",
    "global_pickle_path = curr_active_pipeline.global_computation_results_pickle_path.resolve()\n",
    "assert global_pickle_path.exists()\n",
    "global_pickle_path\n",
    "\n",
    "file_metadata = FilesystemMetadata.get_file_metadata(global_pickle_path)\n",
    "file_metadata['modification_time']\n",
    "\n",
    "collected_global_computations_pickle_paths: List[Path] = []\n",
    "\n",
    "FilesystemMetadata.get_files_metadata(collected_global_computations_pickle_paths)"
   ]
  },
  {
   "cell_type": "code",
   "execution_count": null,
   "id": "99eff113",
   "metadata": {},
   "outputs": [],
   "source": [
    "\n",
    "## Global computations:\n",
    "\n",
    "# global_computation_completion_times = {k.__name__:v for k,v in self.global_computation_results.computation_times.items()}\n",
    "# global_computations_latest_computation_time: datetime = max(list(global_computation_completion_times.values()), default=datetime.min)\n",
    "\n",
    "# ## Any (global or non-global) computation most recent time):\n",
    "# any_most_recent_computation_time: datetime = max(non_global_any_most_recent_computation_time, global_computations_latest_computation_time, datetime.min) # returns `datetime.min` if the first arguments are empty\n"
   ]
  },
  {
   "cell_type": "code",
   "execution_count": null,
   "id": "837f39f2",
   "metadata": {},
   "outputs": [],
   "source": [
    "curr_active_pipeline.save_pipeline(saving_mode=PipelineSavingScheme.TEMP_THEN_OVERWRITE)"
   ]
  },
  {
   "cell_type": "markdown",
   "id": "693db067",
   "metadata": {},
   "source": [
    "# Pho Interactive Pipeline Jupyter Widget"
   ]
  },
  {
   "cell_type": "code",
   "execution_count": 4,
   "id": "e275e3bb",
   "metadata": {
    "notebookRunGroups": {
     "groupValue": "1"
    }
   },
   "outputs": [
    {
     "data": {
      "application/vnd.jupyter.widget-view+json": {
       "model_id": "7eadad39ca484f13ac7d13ef856f368e",
       "version_major": 2,
       "version_minor": 0
      },
      "text/plain": [
       "VBox(children=(Box(children=(Label(value='session path:', layout=Layout(width='auto')), Label(value='W:\\\\Data\\…"
      ]
     },
     "execution_count": 4,
     "metadata": {},
     "output_type": "execute_result"
    }
   ],
   "source": [
    "import ipywidgets as widgets\n",
    "from IPython.display import display\n",
    "from pyphocorehelpers.Filesystem.open_in_system_file_manager import reveal_in_system_file_manager\n",
    "from pyphoplacecellanalysis.GUI.IPyWidgets.pipeline_ipywidgets import interactive_pipeline_widget, interactive_pipeline_files\n",
    "\n",
    "_pipeline_jupyter_widget = interactive_pipeline_widget(curr_active_pipeline=curr_active_pipeline)\n",
    "# display(_pipeline_jupyter_widget)\n",
    "_pipeline_jupyter_widget"
   ]
  },
  {
   "cell_type": "markdown",
   "id": "1fe54599",
   "metadata": {},
   "source": [
    "# End Run"
   ]
  },
  {
   "cell_type": "code",
   "execution_count": 5,
   "id": "1a533ba8",
   "metadata": {
    "ExecuteTime": {
     "end_time": "2023-11-16T23:21:40.700275900Z",
     "start_time": "2023-11-16T23:21:40.584273Z"
    },
    "notebookRunGroups": {
     "groupValue": "1"
    }
   },
   "outputs": [],
   "source": [
    "# (long_one_step_decoder_1D, short_one_step_decoder_1D), (long_one_step_decoder_2D, short_one_step_decoder_2D) = compute_short_long_constrained_decoders(curr_active_pipeline, recalculate_anyway=True)\n",
    "long_epoch_name, short_epoch_name, global_epoch_name = curr_active_pipeline.find_LongShortGlobal_epoch_names()\n",
    "long_epoch_context, short_epoch_context, global_epoch_context = [curr_active_pipeline.filtered_contexts[a_name] for a_name in (long_epoch_name, short_epoch_name, global_epoch_name)]\n",
    "long_epoch_obj, short_epoch_obj = [Epoch(curr_active_pipeline.sess.epochs.to_dataframe().epochs.label_slice(an_epoch_name.removesuffix('_any'))) for an_epoch_name in [long_epoch_name, short_epoch_name]] #TODO 2023-11-10 20:41: - [ ] Issue with getting actual Epochs from sess.epochs for directional laps: emerges because long_epoch_name: 'maze1_any' and the actual epoch label in curr_active_pipeline.sess.epochs is 'maze1' without the '_any' part.\n",
    "long_session, short_session, global_session = [curr_active_pipeline.filtered_sessions[an_epoch_name] for an_epoch_name in [long_epoch_name, short_epoch_name, global_epoch_name]]\n",
    "long_results, short_results, global_results = [curr_active_pipeline.computation_results[an_epoch_name].computed_data for an_epoch_name in [long_epoch_name, short_epoch_name, global_epoch_name]]\n",
    "long_computation_config, short_computation_config, global_computation_config = [curr_active_pipeline.computation_results[an_epoch_name].computation_config for an_epoch_name in [long_epoch_name, short_epoch_name, global_epoch_name]]\n",
    "long_pf1D, short_pf1D, global_pf1D = long_results.pf1D, short_results.pf1D, global_results.pf1D\n",
    "long_pf2D, short_pf2D, global_pf2D = long_results.pf2D, short_results.pf2D, global_results.pf2D\n",
    "\n",
    "assert short_epoch_obj.n_epochs > 0, f'long_epoch_obj: {long_epoch_obj}, short_epoch_obj: {short_epoch_obj}'\n",
    "assert long_epoch_obj.n_epochs > 0, f'long_epoch_obj: {long_epoch_obj}, short_epoch_obj: {short_epoch_obj}'"
   ]
  },
  {
   "cell_type": "code",
   "execution_count": null,
   "id": "9071e94f",
   "metadata": {
    "ExecuteTime": {
     "end_time": "2023-11-16T23:21:43.601382Z",
     "start_time": "2023-11-16T23:21:40.702275600Z"
    },
    "notebookRunGroups": {
     "groupValue": ""
    }
   },
   "outputs": [],
   "source": [
    "## long_short_decoding_analyses:\n",
    "curr_long_short_decoding_analyses = curr_active_pipeline.global_computation_results.computed_data['long_short_leave_one_out_decoding_analysis']\n",
    "long_one_step_decoder_1D, short_one_step_decoder_1D, long_replays, short_replays, global_replays, long_shared_aclus_only_decoder, short_shared_aclus_only_decoder, shared_aclus, long_short_pf_neurons_diff, n_neurons, long_results_obj, short_results_obj, is_global = curr_long_short_decoding_analyses.long_decoder, curr_long_short_decoding_analyses.short_decoder, curr_long_short_decoding_analyses.long_replays, curr_long_short_decoding_analyses.short_replays, curr_long_short_decoding_analyses.global_replays, curr_long_short_decoding_analyses.long_shared_aclus_only_decoder, curr_long_short_decoding_analyses.short_shared_aclus_only_decoder, curr_long_short_decoding_analyses.shared_aclus, curr_long_short_decoding_analyses.long_short_pf_neurons_diff, curr_long_short_decoding_analyses.n_neurons, curr_long_short_decoding_analyses.long_results_obj, curr_long_short_decoding_analyses.short_results_obj, curr_long_short_decoding_analyses.is_global \n",
    "decoding_time_bin_size = long_one_step_decoder_1D.time_bin_size # 1.0/30.0 # 0.03333333333333333\n",
    "\n",
    "## Get global `long_short_fr_indicies_analysis`:\n",
    "long_short_fr_indicies_analysis_results = curr_active_pipeline.global_computation_results.computed_data['long_short_fr_indicies_analysis']\n",
    "long_laps, long_replays, short_laps, short_replays, global_laps, global_replays = [long_short_fr_indicies_analysis_results[k] for k in ['long_laps', 'long_replays', 'short_laps', 'short_replays', 'global_laps', 'global_replays']]\n",
    "long_short_fr_indicies_df = long_short_fr_indicies_analysis_results['long_short_fr_indicies_df']\n",
    "\n",
    "## Get global 'long_short_post_decoding' results:\n",
    "curr_long_short_post_decoding = curr_active_pipeline.global_computation_results.computed_data['long_short_post_decoding']\n",
    "expected_v_observed_result, curr_long_short_rr = curr_long_short_post_decoding.expected_v_observed_result, curr_long_short_post_decoding.rate_remapping\n",
    "rate_remapping_df, high_remapping_cells_only = curr_long_short_rr.rr_df, curr_long_short_rr.high_only_rr_df\n",
    "Flat_epoch_time_bins_mean, Flat_decoder_time_bin_centers, num_neurons, num_timebins_in_epoch, num_total_flat_timebins, is_short_track_epoch, is_long_track_epoch, short_short_diff, long_long_diff = expected_v_observed_result.Flat_epoch_time_bins_mean, expected_v_observed_result.Flat_decoder_time_bin_centers, expected_v_observed_result.num_neurons, expected_v_observed_result.num_timebins_in_epoch, expected_v_observed_result.num_total_flat_timebins, expected_v_observed_result.is_short_track_epoch, expected_v_observed_result.is_long_track_epoch, expected_v_observed_result.short_short_diff, expected_v_observed_result.long_long_diff\n",
    "\n",
    "jonathan_firing_rate_analysis_result: JonathanFiringRateAnalysisResult = curr_active_pipeline.global_computation_results.computed_data.jonathan_firing_rate_analysis\n",
    "(epochs_df_L, epochs_df_S), (filter_epoch_spikes_df_L, filter_epoch_spikes_df_S), (good_example_epoch_indicies_L, good_example_epoch_indicies_S), (short_exclusive, long_exclusive, BOTH_subset, EITHER_subset, XOR_subset, NEITHER_subset), new_all_aclus_sort_indicies, assigning_epochs_obj = PAPER_FIGURE_figure_1_add_replay_epoch_rasters(curr_active_pipeline)\n",
    "neuron_replay_stats_df, short_exclusive, long_exclusive, BOTH_subset, EITHER_subset, XOR_subset, NEITHER_subset = jonathan_firing_rate_analysis_result.get_cell_track_partitions(frs_index_inclusion_magnitude=0.05)\n",
    "\n",
    "## Update long_exclusive/short_exclusive properties with `long_short_fr_indicies_df`\n",
    "# long_exclusive.refine_exclusivity_by_inst_frs_index(long_short_fr_indicies_df, frs_index_inclusion_magnitude=0.5)\n",
    "# short_exclusive.refine_exclusivity_by_inst_frs_index(long_short_fr_indicies_df, frs_index_inclusion_magnitude=0.5)\n",
    "\n",
    "\n"
   ]
  },
  {
   "cell_type": "code",
   "execution_count": null,
   "id": "b83acf39",
   "metadata": {},
   "outputs": [],
   "source": [
    "expected_v_observed_result.observed_from_expected_diff_ptp_LONG"
   ]
  },
  {
   "cell_type": "code",
   "execution_count": 6,
   "id": "c49f5d4f",
   "metadata": {
    "notebookRunGroups": {
     "groupValue": "1"
    }
   },
   "outputs": [],
   "source": [
    "# Unpack all directional variables:\n",
    "## {\"even\": \"RL\", \"odd\": \"LR\"}\n",
    "long_LR_name, short_LR_name, global_LR_name, long_RL_name, short_RL_name, global_RL_name, long_any_name, short_any_name, global_any_name = ['maze1_odd', 'maze2_odd', 'maze_odd', 'maze1_even', 'maze2_even', 'maze_even', 'maze1_any', 'maze2_any', 'maze_any']\n",
    "\n",
    "# Most popular\n",
    "# long_LR_name, short_LR_name, long_RL_name, short_RL_name, global_any_name\n",
    "\n",
    "# Unpacking for `(long_LR_name, long_RL_name, short_LR_name, short_RL_name)`\n",
    "(long_LR_context, long_RL_context, short_LR_context, short_RL_context) = [curr_active_pipeline.filtered_contexts[a_name] for a_name in (long_LR_name, long_RL_name, short_LR_name, short_RL_name)]\n",
    "long_LR_epochs_obj, long_RL_epochs_obj, short_LR_epochs_obj, short_RL_epochs_obj, global_any_laps_epochs_obj = [curr_active_pipeline.computation_results[an_epoch_name].computation_config.pf_params.computation_epochs for an_epoch_name in (long_LR_name, long_RL_name, short_LR_name, short_RL_name, global_any_name)] # note has global also\n",
    "(long_LR_session, long_RL_session, short_LR_session, short_RL_session) = [curr_active_pipeline.filtered_sessions[an_epoch_name] for an_epoch_name in (long_LR_name, long_RL_name, short_LR_name, short_RL_name)] # sessions are correct at least, seems like just the computation parameters are messed up\n",
    "(long_LR_results, long_RL_results, short_LR_results, short_RL_results) = [curr_active_pipeline.computation_results[an_epoch_name].computed_data for an_epoch_name in (long_LR_name, long_RL_name, short_LR_name, short_RL_name)]\n",
    "(long_LR_computation_config, long_RL_computation_config, short_LR_computation_config, short_RL_computation_config) = [curr_active_pipeline.computation_results[an_epoch_name].computation_config for an_epoch_name in (long_LR_name, long_RL_name, short_LR_name, short_RL_name)]\n",
    "(long_LR_pf1D, long_RL_pf1D, short_LR_pf1D, short_RL_pf1D) = (long_LR_results.pf1D, long_RL_results.pf1D, short_LR_results.pf1D, short_RL_results.pf1D)\n",
    "(long_LR_pf2D, long_RL_pf2D, short_LR_pf2D, short_RL_pf2D) = (long_LR_results.pf2D, long_RL_results.pf2D, short_LR_results.pf2D, short_RL_results.pf2D)\n",
    "(long_LR_pf1D_Decoder, long_RL_pf1D_Decoder, short_LR_pf1D_Decoder, short_RL_pf1D_Decoder) = (long_LR_results.pf1D_Decoder, long_RL_results.pf1D_Decoder, short_LR_results.pf1D_Decoder, short_RL_results.pf1D_Decoder)\n"
   ]
  },
  {
   "cell_type": "code",
   "execution_count": 7,
   "id": "7104fc37",
   "metadata": {
    "notebookRunGroups": {
     "groupValue": "1"
    }
   },
   "outputs": [
    {
     "name": "stdout",
     "output_type": "stream",
     "text": [
      "minimum_inclusion_fr_Hz: 5.0\n",
      "included_qclu_values: [1, 2]\n"
     ]
    }
   ],
   "source": [
    "directional_laps_results = curr_active_pipeline.global_computation_results.computed_data['DirectionalLaps']\n",
    "directional_merged_decoders_result = curr_active_pipeline.global_computation_results.computed_data['DirectionalMergedDecoders']   \n",
    "rank_order_results: RankOrderComputationsContainer = curr_active_pipeline.global_computation_results.computed_data['RankOrder']\n",
    "minimum_inclusion_fr_Hz: float = rank_order_results.minimum_inclusion_fr_Hz\n",
    "included_qclu_values: float = rank_order_results.included_qclu_values\n",
    "print(f'minimum_inclusion_fr_Hz: {minimum_inclusion_fr_Hz}')\n",
    "print(f'included_qclu_values: {included_qclu_values}')"
   ]
  },
  {
   "cell_type": "code",
   "execution_count": null,
   "id": "7206955d",
   "metadata": {},
   "outputs": [],
   "source": [
    "directional_merged_decoders_result.all_directional_laps_filter_epochs_decoder_result.to_hdf(Path('output/all_directional_laps_filter_epochs_decoder_result.hdf').resolve(), 'all_directional_laps_filter_epochs_decoder_result', enable_hdf_testing_mode=True, debug_print=True)\n",
    "\n"
   ]
  },
  {
   "cell_type": "code",
   "execution_count": null,
   "id": "38390a1c",
   "metadata": {},
   "outputs": [],
   "source": [
    "directional_merged_decoders_result.all_directional_laps_filter_epochs_decoder_result.filter_epochs.to_hdf('output/all_directional_laps_filter_epochs_decoder_result-filter_epochs.hdf', 'filter_epochs')"
   ]
  },
  {
   "cell_type": "code",
   "execution_count": null,
   "id": "140623c4",
   "metadata": {},
   "outputs": [],
   "source": [
    "directional_merged_decoders_result.all_directional_laps_filter_epochs_decoder_result.filter_epochs.to_dataframe()"
   ]
  },
  {
   "cell_type": "code",
   "execution_count": null,
   "id": "65751b8a",
   "metadata": {},
   "outputs": [],
   "source": [
    "# Export the decoded epochs to a file so they can be compared across sessions?\n",
    "\n"
   ]
  },
  {
   "cell_type": "code",
   "execution_count": null,
   "id": "badc467d",
   "metadata": {},
   "outputs": [],
   "source": [
    "\n",
    "# # SerializedAttributesAllowBlockSpecifyingClass\n",
    "# hasattr(a_field_attr.type, 'to_hdf')\n",
    "\n",
    "\n",
    "from typing import Callable, Type\n",
    "\n",
    "@define(slots=False, repr=False)\n",
    "class HDFSerializationRegister:\n",
    "\t\"\"\" 2024-01-10 - A dramatically simplified HDF serialization type handler that avoids all of the hard crap and just allows users to register conversion functions directly for items of different types\n",
    "\t\n",
    "\ta_register = HDFSerializationRegister()\n",
    "\n",
    "\ta_register.converion_registery[pd.DataFrame] = lambda x, *hdf_args, **hdf_kwargs: x.to_hdf(*hdf_args, **hdf_kwargs)\n",
    "\ta_register.converion_registery[Epoch] = lambda x, *hdf_args, **hdf_kwargs: x.to_dataframe().to_hdf(*hdf_args, **hdf_kwargs)\n",
    "\n",
    "\n",
    "\t# works!\n",
    "\ta_register.to_hdf(directional_merged_decoders_result.all_directional_laps_filter_epochs_decoder_result.filter_epochs, 'output/all_directional_laps_filter_epochs_decoder_result-filter_epochs.hdf', 'filter_epochs')\n",
    "\n",
    "\n",
    "\t\"\"\"\n",
    "\tconverion_registery: Dict[Type, Callable] = field(default=Factory(dict))\n",
    "\n",
    "\tdef to_hdf(self, v, *hdf_args, **hdf_kwargs):\n",
    "\t\tfound_conversion_fn = self.converion_registery.get(type(v), None)\n",
    "\t\tif found_conversion_fn is None:\n",
    "\t\t\tprint(f'could not find conversion function for v of type {type(v)} in registery.')\n",
    "\t\t\treturn None\n",
    "\t\t\n",
    "\t\treturn found_conversion_fn(v, *hdf_args, **hdf_kwargs) # call the function with v\n",
    "\t\t# return found_conversion_fn\n",
    "\t\n",
    "\n",
    "a_register = HDFSerializationRegister()\n",
    "\n",
    "a_register.converion_registery[pd.DataFrame] = lambda x, *hdf_args, **hdf_kwargs: x.to_hdf(*hdf_args, **hdf_kwargs)\n",
    "a_register.converion_registery[Epoch] = lambda x, *hdf_args, **hdf_kwargs: x.to_dataframe().to_hdf(*hdf_args, **hdf_kwargs)\n",
    "\n",
    "\n",
    "# works!\n",
    "a_register.to_hdf(directional_merged_decoders_result.all_directional_laps_filter_epochs_decoder_result.filter_epochs, 'output/all_directional_laps_filter_epochs_decoder_result-filter_epochs.hdf', 'filter_epochs')\n"
   ]
  },
  {
   "cell_type": "code",
   "execution_count": null,
   "id": "982fca18",
   "metadata": {},
   "outputs": [],
   "source": [
    "\n",
    "\n",
    "# print_keys_if_possible('DirectionalMergedDecoders', directional_merged_decoders_result)\n",
    "\n",
    "from ansi2html import Ansi2HTMLConverter # used by DocumentationFilePrinter to build html document from ansi-color coded version\n",
    "from pyphocorehelpers.print_helpers import DocumentationFilePrinter\n",
    "\n",
    "doc_printer = DocumentationFilePrinter(doc_output_parent_folder=Path('EXTERNAL/DEVELOPER_NOTES/DataStructureDocumentation'), doc_name='DirectionalMergedDecodersResult')\n",
    "doc_printer.save_documentation('DirectionalMergedDecodersResult', directional_merged_decoders_result, non_expanded_item_keys=['_reverse_cellID_index_map'], additional_excluded_item_classes='neuropy.analyses.PfND', max_depth=2)\n"
   ]
  },
  {
   "cell_type": "code",
   "execution_count": 8,
   "id": "fa2dc5fe",
   "metadata": {
    "notebookRunGroups": {
     "groupValue": "1"
    }
   },
   "outputs": [],
   "source": [
    "# NEW 2023-11-22 method: Get the templates (which can be filtered by frate first) and the from those get the decoders):        \n",
    "# track_templates: TrackTemplates = directional_laps_results.get_shared_aclus_only_templates(minimum_inclusion_fr_Hz=minimum_inclusion_fr_Hz) # shared-only\n",
    "track_templates: TrackTemplates = directional_laps_results.get_templates(minimum_inclusion_fr_Hz=minimum_inclusion_fr_Hz) # non-shared-only\n",
    "long_LR_decoder, long_RL_decoder, short_LR_decoder, short_RL_decoder = track_templates.get_decoders()\n",
    "\n",
    "# Unpack all directional variables:\n",
    "## {\"even\": \"RL\", \"odd\": \"LR\"}\n",
    "long_LR_name, short_LR_name, global_LR_name, long_RL_name, short_RL_name, global_RL_name, long_any_name, short_any_name, global_any_name = ['maze1_odd', 'maze2_odd', 'maze_odd', 'maze1_even', 'maze2_even', 'maze_even', 'maze1_any', 'maze2_any', 'maze_any']\n",
    "# Unpacking for `(long_LR_name, long_RL_name, short_LR_name, short_RL_name)`\n",
    "(long_LR_context, long_RL_context, short_LR_context, short_RL_context) = [curr_active_pipeline.filtered_contexts[a_name] for a_name in (long_LR_name, long_RL_name, short_LR_name, short_RL_name)]\n",
    "long_LR_epochs_obj, long_RL_epochs_obj, short_LR_epochs_obj, short_RL_epochs_obj, global_any_laps_epochs_obj = [curr_active_pipeline.computation_results[an_epoch_name].computation_config.pf_params.computation_epochs for an_epoch_name in (long_LR_name, long_RL_name, short_LR_name, short_RL_name, global_any_name)] # note has global also\n",
    "(long_LR_session, long_RL_session, short_LR_session, short_RL_session) = [curr_active_pipeline.filtered_sessions[an_epoch_name] for an_epoch_name in (long_LR_name, long_RL_name, short_LR_name, short_RL_name)] # sessions are correct at least, seems like just the computation parameters are messed up\n",
    "(long_LR_results, long_RL_results, short_LR_results, short_RL_results) = [curr_active_pipeline.computation_results[an_epoch_name].computed_data for an_epoch_name in (long_LR_name, long_RL_name, short_LR_name, short_RL_name)]\n",
    "(long_LR_computation_config, long_RL_computation_config, short_LR_computation_config, short_RL_computation_config) = [curr_active_pipeline.computation_results[an_epoch_name].computation_config for an_epoch_name in (long_LR_name, long_RL_name, short_LR_name, short_RL_name)]\n",
    "(long_LR_pf1D, long_RL_pf1D, short_LR_pf1D, short_RL_pf1D) = (long_LR_results.pf1D, long_RL_results.pf1D, short_LR_results.pf1D, short_RL_results.pf1D)\n",
    "(long_LR_pf2D, long_RL_pf2D, short_LR_pf2D, short_RL_pf2D) = (long_LR_results.pf2D, long_RL_results.pf2D, short_LR_results.pf2D, short_RL_results.pf2D)\n",
    "(long_LR_pf1D_Decoder, long_RL_pf1D_Decoder, short_LR_pf1D_Decoder, short_RL_pf1D_Decoder) = (long_LR_results.pf1D_Decoder, long_RL_results.pf1D_Decoder, short_LR_results.pf1D_Decoder, short_RL_results.pf1D_Decoder)\n",
    "\n",
    "# `LongShortStatsItem` form (2024-01-02):\n",
    "# LR_results_real_values = np.array([(a_result_item.long_stats_z_scorer.real_value, a_result_item.short_stats_z_scorer.real_value) for epoch_id, a_result_item in rank_order_results.LR_ripple.ranked_aclus_stats_dict.items()])\n",
    "# RL_results_real_values = np.array([(a_result_item.long_stats_z_scorer.real_value, a_result_item.short_stats_z_scorer.real_value) for epoch_id, a_result_item in rank_order_results.RL_ripple.ranked_aclus_stats_dict.items()])\n",
    "LR_results_long_short_z_diffs = np.array([a_result_item.long_short_z_diff for epoch_id, a_result_item in rank_order_results.LR_ripple.ranked_aclus_stats_dict.items()])\n",
    "RL_results_long_short_z_diff = np.array([a_result_item.long_short_z_diff for epoch_id, a_result_item in rank_order_results.RL_ripple.ranked_aclus_stats_dict.items()])\n"
   ]
  },
  {
   "cell_type": "code",
   "execution_count": null,
   "id": "c260739a4f36c662",
   "metadata": {},
   "outputs": [],
   "source": [
    "active_burst_intervals = curr_active_pipeline.computation_results[global_epoch_name].computed_data['burst_detection']['burst_intervals']\n",
    "# active_burst_intervals"
   ]
  },
  {
   "cell_type": "code",
   "execution_count": null,
   "id": "769a1c6006aba5b7",
   "metadata": {},
   "outputs": [],
   "source": [
    "# Relative Entropy/Surprise Results:\n",
    "active_extended_stats = global_results['extended_stats']\n",
    "active_relative_entropy_results = active_extended_stats['pf_dt_sequential_surprise'] # DynamicParameters\n",
    "historical_snapshots = active_relative_entropy_results['historical_snapshots']\n",
    "post_update_times: np.ndarray = active_relative_entropy_results['post_update_times'] # (4152,) = (n_post_update_times,)\n",
    "snapshot_differences_result_dict = active_relative_entropy_results['snapshot_differences_result_dict']\n",
    "time_intervals: np.ndarray = active_relative_entropy_results['time_intervals']\n",
    "surprise_time_bin_duration = (post_update_times[2]-post_update_times[1])\n",
    "long_short_rel_entr_curves_frames: np.ndarray = active_relative_entropy_results['long_short_rel_entr_curves_frames'] # (4152, 108, 63) = (n_post_update_times, n_neurons, n_xbins)\n",
    "short_long_rel_entr_curves_frames: np.ndarray = active_relative_entropy_results['short_long_rel_entr_curves_frames'] # (4152, 108, 63) = (n_post_update_times, n_neurons, n_xbins)\n",
    "flat_relative_entropy_results: np.ndarray = active_relative_entropy_results['flat_relative_entropy_results'] # (149, 63) - (nSnapshots, nXbins)\n",
    "flat_jensen_shannon_distance_results: np.ndarray = active_relative_entropy_results['flat_jensen_shannon_distance_results'] # (149, 63) - (nSnapshots, nXbins)\n",
    "flat_jensen_shannon_distance_across_all_positions: np.ndarray = np.sum(np.abs(flat_jensen_shannon_distance_results), axis=1) # sum across all position bins # (4152,) - (nSnapshots)\n",
    "flat_surprise_across_all_positions: np.ndarray = np.sum(np.abs(flat_relative_entropy_results), axis=1) # sum across all position bins # (4152,) - (nSnapshots)\n",
    "\n",
    "## Get the placefield dt matrix:\n",
    "if 'snapshot_occupancy_weighted_tuning_maps' not in active_relative_entropy_results:\n",
    "\t## Compute it if missing:\n",
    "\toccupancy_weighted_tuning_maps_over_time = np.stack([placefield_snapshot.occupancy_weighted_tuning_maps_matrix for placefield_snapshot in historical_snapshots.values()])\n",
    "\tactive_relative_entropy_results['snapshot_occupancy_weighted_tuning_maps'] = occupancy_weighted_tuning_maps_over_time\n",
    "else:\n",
    "\toccupancy_weighted_tuning_maps_over_time = active_relative_entropy_results['snapshot_occupancy_weighted_tuning_maps'] # (n_post_update_times, n_neurons, n_xbins)\n"
   ]
  },
  {
   "cell_type": "code",
   "execution_count": null,
   "id": "9554d3bf5955d9d3",
   "metadata": {},
   "outputs": [],
   "source": [
    "# Time-dependent\n",
    "long_pf1D_dt, short_pf1D_dt, global_pf1D_dt = long_results.pf1D_dt, short_results.pf1D_dt, global_results.pf1D_dt\n",
    "long_pf2D_dt, short_pf2D_dt, global_pf2D_dt = long_results.pf2D_dt, short_results.pf2D_dt, global_results.pf2D_dt\n",
    "global_pf1D_dt: PfND_TimeDependent = global_results.pf1D_dt\n",
    "global_pf2D_dt: PfND_TimeDependent = global_results.pf2D_dt"
   ]
  },
  {
   "cell_type": "code",
   "execution_count": null,
   "id": "8624c62d5c18c556",
   "metadata": {},
   "outputs": [],
   "source": [
    "## long_short_endcap_analysis: checks for cells localized to the endcaps that have their placefields truncated after shortening the track\n",
    "truncation_checking_result: TruncationCheckingResults = curr_active_pipeline.global_computation_results.computed_data.long_short_endcap\n",
    "disappearing_endcap_aclus = truncation_checking_result.disappearing_endcap_aclus\n",
    "# disappearing_endcap_aclus\n",
    "trivially_remapping_endcap_aclus = truncation_checking_result.minor_remapping_endcap_aclus\n",
    "# trivially_remapping_endcap_aclus\n",
    "significant_distant_remapping_endcap_aclus = truncation_checking_result.significant_distant_remapping_endcap_aclus\n",
    "# significant_distant_remapping_endcap_aclus\n",
    "appearing_aclus = jonathan_firing_rate_analysis_result.neuron_replay_stats_df[jonathan_firing_rate_analysis_result.neuron_replay_stats_df['track_membership'] == SplitPartitionMembership.RIGHT_ONLY].index\n",
    "# appearing_aclus"
   ]
  },
  {
   "cell_type": "code",
   "execution_count": null,
   "id": "cbf30c04",
   "metadata": {},
   "outputs": [],
   "source": [
    "curr_active_pipeline.prepare_for_display()\n",
    "curr_active_pipeline.display('_display_1d_placefields', 'maze1_odd') # , 'maze1_odd'\n"
   ]
  },
  {
   "cell_type": "code",
   "execution_count": null,
   "id": "bcc832fb",
   "metadata": {},
   "outputs": [],
   "source": [
    "from pyphoplacecellanalysis.General.Mixins.ExportHelpers import programmatic_render_to_file\n",
    "\n",
    "programmatic_render_to_file(curr_active_pipeline, curr_display_function_name='_display_1d_placefields', write_vector_format=True, write_png=True, debug_print=True)"
   ]
  },
  {
   "cell_type": "code",
   "execution_count": null,
   "id": "6314950a",
   "metadata": {},
   "outputs": [],
   "source": [
    "curr_active_pipeline.reload_default_display_functions()\n",
    "curr_active_pipeline.prepare_for_display()"
   ]
  },
  {
   "cell_type": "code",
   "execution_count": null,
   "id": "b0ccab8b",
   "metadata": {},
   "outputs": [],
   "source": [
    "_out = curr_active_pipeline.display('_display_1d_placefields', 'maze_any')"
   ]
  },
  {
   "cell_type": "code",
   "execution_count": null,
   "id": "357f844b",
   "metadata": {},
   "outputs": [],
   "source": [
    "curr_active_pipeline.display('_display_1d_placefields', 'maze_any')"
   ]
  },
  {
   "cell_type": "code",
   "execution_count": null,
   "id": "546f7639",
   "metadata": {},
   "outputs": [],
   "source": [
    "curr_active_pipeline.display('_display_placemaps_pyqtplot_2D', 'maze2_odd')"
   ]
  },
  {
   "cell_type": "code",
   "execution_count": null,
   "id": "0aaf32b0",
   "metadata": {},
   "outputs": [],
   "source": [
    "curr_active_pipeline.display('_display_1d_placefields', 'maze2_odd')"
   ]
  },
  {
   "cell_type": "code",
   "execution_count": null,
   "id": "45a6994d",
   "metadata": {},
   "outputs": [],
   "source": [
    "curr_active_pipeline.display('_display_3d_interactive_spike_and_behavior_browser', 'maze1_odd')"
   ]
  },
  {
   "cell_type": "code",
   "execution_count": null,
   "id": "cfbb1191",
   "metadata": {},
   "outputs": [],
   "source": [
    "\n",
    "# Adjust layout to make space for the footer\n",
    "# plt.subplots_adjust(bottom=0.35)\n",
    "\n",
    "plt.tight_layout(pad=2.0)"
   ]
  },
  {
   "cell_type": "code",
   "execution_count": null,
   "id": "885ecb1d",
   "metadata": {},
   "outputs": [],
   "source": [
    "_display_placemaps_pyqtplot_2D"
   ]
  },
  {
   "cell_type": "code",
   "execution_count": null,
   "id": "44a1db23",
   "metadata": {},
   "outputs": [],
   "source": [
    "curr_active_pipeline.registered_display_function_docs_dict"
   ]
  },
  {
   "cell_type": "code",
   "execution_count": null,
   "id": "b558758b",
   "metadata": {},
   "outputs": [],
   "source": [
    "from mpl_multitab import MplMultiTab, MplMultiTab2D\n",
    "from pyphoplacecellanalysis.General.Mixins.ExportHelpers import programmatic_display_to_PDF, programmatic_render_to_file\n",
    "from pyphoplacecellanalysis.PhoPositionalData.plotting.placefield import plot_single_cell_1D_placecell_validation\n",
    "from pyphoplacecellanalysis.PhoPositionalData.plotting.placefield import plot_1d_placecell_validations\n",
    "\n",
    "\n",
    "# matplotlib_configuration_update(is_interactive=True)\n",
    "\n",
    "# curr_active_pipeline.display('_display_grid_bin_bounds_validation')\n",
    "_out = curr_active_pipeline.display('_display_1d_placefield_validations', 'maze1_odd')\n",
    "_out.ui.show()"
   ]
  },
  {
   "cell_type": "code",
   "execution_count": null,
   "id": "7f301b08",
   "metadata": {},
   "outputs": [],
   "source": [
    "\n",
    "programmatic_display_to_PDF(curr_active_pipeline, curr_display_function_name='_display_1d_placefield_validations', filter_name='maze1_odd', debug_print=True)\n",
    "\n",
    "# plt.show()"
   ]
  },
  {
   "cell_type": "code",
   "execution_count": null,
   "id": "3f824cf2",
   "metadata": {},
   "outputs": [],
   "source": [
    "placefield_cell_index = 0\n",
    "active_epoch_placefields1D = deepcopy(long_pf1D)\n",
    "curr_cell_normalized_tuning_curve = active_epoch_placefields1D.ratemap.normalized_tuning_curves[placefield_cell_index, :].squeeze()\n",
    "{'xbin_centers': active_epoch_placefields1D.ratemap.xbin_centers, 'curr_cell_normalized_tuning_curve': curr_cell_normalized_tuning_curve}\n",
    "\n",
    "{'xbin_centers': np.array([31.0565, 34.8495, 38.6426, 42.4356, 46.2286, 50.0216, 53.8147, 57.6077, 61.4007, 65.1937, 68.9867, 72.7798, 76.5728, 80.3658, 84.1588, 87.9519, 91.7449, 95.5379, 99.3309, 103.124, 106.917, 110.71, 114.503, 118.296, 122.089, 125.882, 129.675, 133.468, 137.261, 141.054, 144.847, 148.64, 152.433, 156.226, 160.019, 163.812, 167.605, 171.398, 175.191, 178.984, 182.777, 186.57, 190.363, 194.157, 197.95, 201.743, 205.536, 209.329, 213.122, 216.915, 220.708, 224.501, 228.294, 232.087, 235.88, 239.673, 243.466, 247.259, 251.052, 254.845, 258.638, 262.431]),\n",
    " 'curr_cell_normalized_tuning_curve': np.array([5.92979e-05, 0.000150933, 0.00036895, 0.000736517, 0.00121915, 0.00173714, 0.0022042, 0.00252859, 0.0026496, 0.0027108, 0.00312627, 0.00423033, 0.00579314, 0.00709557, 0.00766535, 0.00789647, 0.00884807, 0.0115452, 0.0165549, 0.0238423, 0.0323681, 0.039895, 0.0442459, 0.0452642, 0.0449909, 0.0457691, 0.0485138, 0.0525281, 0.0562324, 0.0581433, 0.0575758, 0.0544383, 0.0486438, 0.0404683, 0.0315115, 0.0243731, 0.0207242, 0.0199181, 0.0197507, 0.0183449, 0.0153819, 0.0119837, 0.00951012, 0.00827676, 0.00740415, 0.00596512, 0.00396809, 0.00210018, 0.000875453, 0.000302685, 0.000153468, 0.00027615, 0.000667689, 0.00135676, 0.00224608, 0.00305331, 0.0034339, 0.0031979, 0.0024518, 0.00153458, 0.00079294, 0.000405152])}\n"
   ]
  },
  {
   "cell_type": "code",
   "execution_count": null,
   "id": "ff5d7994",
   "metadata": {},
   "outputs": [],
   "source": [
    "# batch_extended_programmatic_figures\n"
   ]
  },
  {
   "cell_type": "code",
   "execution_count": null,
   "id": "40083faa",
   "metadata": {},
   "outputs": [],
   "source": [
    "curr_active_pipeline.display('_display_1d_placefields', 'maze1_odd')"
   ]
  },
  {
   "cell_type": "code",
   "execution_count": null,
   "id": "77344ed3",
   "metadata": {},
   "outputs": [],
   "source": [
    "curr_active_pipeline.display('_display_1d_placefields', 'maze2_even')"
   ]
  },
  {
   "cell_type": "code",
   "execution_count": null,
   "id": "a66fdc07",
   "metadata": {},
   "outputs": [],
   "source": [
    "\n",
    "#TODO 2023-11-29 09:18: - [ ] Not good, the self.filtered_contexts are not unique!\n",
    "list(curr_active_pipeline.filtered_contexts.values())\n",
    "# [IdentifyingContext<(... 'maze2')>, IdentifyingContext<(... 'maze2')>, IdentifyingContext<(..., 'maze')>, IdentifyingContext<(... 'maze2')>, IdentifyingContext<(... 'maze2')>, IdentifyingContext<(..., 'maze')>, IdentifyingContext<(...ze1_any')>, IdentifyingContext<(... 'maze2')>, IdentifyingContext<(..., 'maze')>]\n",
    "[(v == curr_active_pipeline.filtered_contexts['maze1_even']) for v in list(curr_active_pipeline.filtered_contexts.values())]\n",
    "# [True, True, False, True, True, False, False, True, False]\n",
    "# meaning `curr_active_pipeline.display('_display_1d_placefields', curr_active_pipeline.filtered_contexts['maze1_even'])` doesn't work\n",
    "curr_active_pipeline.filtered_contexts.index(curr_active_pipeline.filtered_contexts['maze1_even'])"
   ]
  },
  {
   "cell_type": "code",
   "execution_count": null,
   "id": "8c4e9d82",
   "metadata": {},
   "outputs": [],
   "source": [
    "curr_active_pipeline.display('_display_1d_placefields', 'maze2_odd')\n"
   ]
  },
  {
   "cell_type": "code",
   "execution_count": null,
   "id": "497d3385",
   "metadata": {},
   "outputs": [],
   "source": [
    "write_vector_format = False\n",
    "write_png = True\n",
    "debug_print = True\n",
    "from neuropy.plotting.ratemaps import BackgroundRenderingOptions\n",
    "\n",
    "programmatic_render_to_file(curr_active_pipeline, curr_display_function_name='_display_2d_placefield_result_plot_ratemaps_2D', write_vector_format=write_vector_format, write_png=write_png, debug_print=debug_print, bg_rendering_mode=BackgroundRenderingOptions.EMPTY) #  🟢✅ Now seems to be working and saving to PDF!! Still using matplotlib.use('Qt5Agg') mode and plots still appear.\n"
   ]
  },
  {
   "cell_type": "code",
   "execution_count": null,
   "id": "ce7e9185",
   "metadata": {},
   "outputs": [],
   "source": [
    "_out = curr_active_pipeline.display('_display_2d_placefield_occupancy', 'maze2_any')"
   ]
  },
  {
   "cell_type": "code",
   "execution_count": null,
   "id": "90e90109",
   "metadata": {},
   "outputs": [],
   "source": [
    "_out = curr_active_pipeline.display('_display_2d_placefield_occupancy', 'maze1_any')\n",
    "occupancy_ax = _out.axes #.get_aspect()\n",
    "pf = long_pf2D\n",
    "# pf.xbin\n",
    "# pf.ybin\n",
    "# pf.xbin_centers\n",
    "# pf.ybin_centers\n",
    "\n",
    "# aspect_ratio = np.ptp(pf.xbin) / np.ptp(pf.ybin)  # ptp: peak to peak (range)\n",
    "# aspect_ratio = 0.102803738317757\n",
    "# print(f'aspect_ratio: {aspect_ratio}')\n",
    "# occupancy_ax.set_aspect(aspect_ratio, adjustable='box') # If 'box', change the physical dimensions of the Axes. If 'datalim', change the x or y data limits.\n",
    "\n",
    "\n",
    "## See \n",
    "# https://matplotlib.org/stable/api/_as_gen/matplotlib.axes.Axes.set_anchor.html#\n",
    "\n",
    "\n",
    "occupancy_ax.set_aspect('equal', adjustable=None)\n"
   ]
  },
  {
   "cell_type": "code",
   "execution_count": null,
   "id": "ce50ea4d",
   "metadata": {},
   "outputs": [],
   "source": [
    "occupancy_ax.set_aspect('equal', adjustable='datalim')"
   ]
  },
  {
   "cell_type": "code",
   "execution_count": null,
   "id": "800ecc2e",
   "metadata": {},
   "outputs": [],
   "source": [
    "occupancy_ax.set_aspect('equal', adjustable='box')"
   ]
  },
  {
   "cell_type": "code",
   "execution_count": null,
   "id": "cea7d05b",
   "metadata": {},
   "outputs": [],
   "source": [
    "curr_active_pipeline.reload_default_display_functions()"
   ]
  },
  {
   "cell_type": "code",
   "execution_count": null,
   "id": "f42513c8",
   "metadata": {},
   "outputs": [],
   "source": [
    "programmatic_render_to_file(curr_active_pipeline, curr_display_function_name='_display_2d_placefield_occupancy', write_vector_format=write_vector_format, write_png=write_png, debug_print=debug_print)"
   ]
  },
  {
   "cell_type": "markdown",
   "id": "5a572825",
   "metadata": {},
   "source": [
    "# EVEN: \"RL\", ODD: \"LR\"\n",
    "Starts with Even (idx=0)\n",
    "- EVEN: \"RL\"\n",
    "shared_RL_aclus_only_neuron_IDs\n",
    "`is_even = (an_epoch.lap_dir == 0)`\n",
    "- ODD: \"LR\"\n",
    "shared_LR_aclus_only_neuron_IDs\n",
    "`is_odd = (an_epoch.lap_dir == 1)`"
   ]
  },
  {
   "cell_type": "markdown",
   "id": "9ac0ef2b",
   "metadata": {},
   "source": [
    "# 🟢 2023-10-20 - Z-Score Comparisons with Neuron_ID Shuffled templates\n",
    "1. Take the intersection of the long and short templates to get only the common cells\n",
    "2. Determine the long and short \"tempaltes\": this is done by ranking the aclus for each by their placefields' center of mass. `compute_placefield_center_of_masses`\n",
    "\t2a. `long_pf_peak_ranks`, `short_pf_peak_ranks` - there are one of each of these for each shared aclu.\n",
    "3. Generate the unit_id shuffled (`shuffled_aclus`, `shuffle_IDXs`) ahead of time to use to shuffle the two templates during the epochs.\n",
    "4. For each replay event, take each shuffled template\n",
    "\t4a. Iterate through each shuffle and obtain the shuffled templates like `long_pf_peak_ranks[epoch_specific_shuffled_indicies]`, `short_pf_peak_ranks[epoch_specific_shuffled_indicies]`\n",
    "\t4b. compute the spearman rank-order of the event and each shuffled template, and accumulate the results in `long_spearmanr_rank_stats_results`, `short_spearmanr_rank_stats_results`\n",
    "\n",
    "5. After we're done with the shuffle loop, accumulate the results and convert to the right output format.\n",
    "\n",
    "6. When all epochs are done, loop through the results (the epochs again) and compute the z-scores for each epoch so they can be compared to each other. Keep track of the means and std_dev for comparisons later, and subtract the two sets of z-scores (long/short) to get the delta_Z for each template.\n",
    "\n",
    "7. TODO: Next figure out what to do with the array of z-scores and delta_Z. We have:\n",
    "\tn_epochs sets of results\n",
    "\t\tn_shuffles scores of delta_Z\n",
    "\n"
   ]
  },
  {
   "cell_type": "markdown",
   "id": "87fd9d61",
   "metadata": {},
   "source": [
    "## Convo with Kamran 2023-10-23:\n",
    "- Use directional templates **\n",
    "- No need to worry about re-ranking\n",
    "[X] Plot the long and short separately in addition to the difference, so we show significant reqplay on each as a sanity check\n",
    "[X] Absolute value difference?\n",
    "[X] Fisher transform the correlation values (check if there is a difference) because correlation coefficients aren't going to be normally distributed.\n",
    "\t[ ] Then Z-score releative to fisher.\n",
    "\n",
    "- T-test to compare to mean of zero (if looking at the difference)"
   ]
  },
  {
   "cell_type": "code",
   "execution_count": null,
   "id": "419ffd4a",
   "metadata": {},
   "outputs": [],
   "source": [
    "## Concerns:\n",
    "# 1. Permutation recommended over shuffling for small numbers of ids\n",
    "# 2.\n",
    "\n",
    "# 5Hz thresholding of templates\n"
   ]
  },
  {
   "cell_type": "code",
   "execution_count": 9,
   "id": "fd86cb20",
   "metadata": {
    "ExecuteTime": {
     "end_time": "2023-11-16T23:22:34.093953500Z",
     "start_time": "2023-11-16T23:22:33.960957900Z"
    },
    "notebookRunGroups": {
     "groupValue": "1"
    },
    "slideshow": {
     "slide_type": "fragment"
    }
   },
   "outputs": [],
   "source": [
    "from nptyping import NDArray\n",
    "from attrs import define, field, Factory, astuple\n",
    "import scipy.stats\n",
    "from scipy import ndimage\n",
    "from neuropy.utils.misc import build_shuffled_ids # used in _SHELL_analyze_leave_one_out_decoding_results\n",
    "from pyphoplacecellanalysis.SpecificResults.PhoDiba2023Paper import pho_stats_paired_t_test\n",
    "\n",
    "# minimum_inclusion_fr_Hz: float = 2.0\n",
    "rank_order_results: RankOrderComputationsContainer = curr_active_pipeline.global_computation_results.computed_data['RankOrder']\n",
    "minimum_inclusion_fr_Hz: float = rank_order_results.minimum_inclusion_fr_Hz\n",
    "\n",
    "# Recover from the saved global result:\n",
    "directional_laps_results = curr_active_pipeline.global_computation_results.computed_data['DirectionalLaps']\n",
    "# NEW 2023-11-22 method: Get the templates (which can be filtered by frate first) and the from those get the decoders):        \n",
    "# track_templates: TrackTemplates = directional_laps_results.get_shared_aclus_only_templates(minimum_inclusion_fr_Hz=minimum_inclusion_fr_Hz) # shared-only\n",
    "track_templates: TrackTemplates = directional_laps_results.get_templates(minimum_inclusion_fr_Hz=minimum_inclusion_fr_Hz) # non-shared-only\n",
    "long_LR_decoder, long_RL_decoder, short_LR_decoder, short_RL_decoder = track_templates.get_decoders()\n",
    "\n",
    "## Pre 2023-11-22 method: building a TrackTemplates object after getting the raw decoders:\n",
    "# long_LR_one_step_decoder_1D, long_RL_one_step_decoder_1D, short_LR_one_step_decoder_1D, short_RL_one_step_decoder_1D = directional_laps_results.get_decoders()\n",
    "# long_LR_decoder, long_RL_decoder, short_LR_decoder, short_RL_decoder = directional_laps_results.get_shared_aclus_only_decoders()\n",
    "# track_templates: TrackTemplates = TrackTemplates.init_from_paired_decoders(LR_decoder_pair=(long_LR_decoder, short_LR_decoder), RL_decoder_pair=(long_RL_decoder, short_RL_decoder))\n",
    "# # track_templates: TrackTemplates = TrackTemplates.init_from_paired_decoders(LR_decoder_pair=(long_LR_one_step_decoder_1D, short_LR_one_step_decoder_1D), RL_decoder_pair=(long_RL_one_step_decoder_1D, short_RL_one_step_decoder_1D)) # NOTE: now use the un-constrained versions\n",
    "\n",
    "# Unpack all directional variables:\n",
    "## {\"even\": \"RL\", \"odd\": \"LR\"}\n",
    "long_LR_name, short_LR_name, global_LR_name, long_RL_name, short_RL_name, global_RL_name, long_any_name, short_any_name, global_any_name = ['maze1_odd', 'maze2_odd', 'maze_odd', 'maze1_even', 'maze2_even', 'maze_even', 'maze1_any', 'maze2_any', 'maze_any']\n",
    "# Unpacking for `(long_LR_name, long_RL_name, short_LR_name, short_RL_name)`\n",
    "(long_LR_context, long_RL_context, short_LR_context, short_RL_context) = [curr_active_pipeline.filtered_contexts[a_name] for a_name in (long_LR_name, long_RL_name, short_LR_name, short_RL_name)]\n",
    "long_LR_epochs_obj, long_RL_epochs_obj, short_LR_epochs_obj, short_RL_epochs_obj, global_any_laps_epochs_obj = [curr_active_pipeline.computation_results[an_epoch_name].computation_config.pf_params.computation_epochs for an_epoch_name in (long_LR_name, long_RL_name, short_LR_name, short_RL_name, global_any_name)] # note has global also\n",
    "(long_LR_session, long_RL_session, short_LR_session, short_RL_session) = [curr_active_pipeline.filtered_sessions[an_epoch_name] for an_epoch_name in (long_LR_name, long_RL_name, short_LR_name, short_RL_name)] # sessions are correct at least, seems like just the computation parameters are messed up\n",
    "(long_LR_results, long_RL_results, short_LR_results, short_RL_results) = [curr_active_pipeline.computation_results[an_epoch_name].computed_data for an_epoch_name in (long_LR_name, long_RL_name, short_LR_name, short_RL_name)]\n",
    "(long_LR_computation_config, long_RL_computation_config, short_LR_computation_config, short_RL_computation_config) = [curr_active_pipeline.computation_results[an_epoch_name].computation_config for an_epoch_name in (long_LR_name, long_RL_name, short_LR_name, short_RL_name)]\n",
    "(long_LR_pf1D, long_RL_pf1D, short_LR_pf1D, short_RL_pf1D) = (long_LR_results.pf1D, long_RL_results.pf1D, short_LR_results.pf1D, short_RL_results.pf1D)\n",
    "(long_LR_pf2D, long_RL_pf2D, short_LR_pf2D, short_RL_pf2D) = (long_LR_results.pf2D, long_RL_results.pf2D, short_LR_results.pf2D, short_RL_results.pf2D)\n",
    "(long_LR_pf1D_Decoder, long_RL_pf1D_Decoder, short_LR_pf1D_Decoder, short_RL_pf1D_Decoder) = (long_LR_results.pf1D_Decoder, long_RL_results.pf1D_Decoder, short_LR_results.pf1D_Decoder, short_RL_results.pf1D_Decoder)\n",
    "\n",
    "# `LongShortStatsItem` form (2024-01-02):\n",
    "# LR_results_real_values = np.array([(a_result_item.long_stats_z_scorer.real_value, a_result_item.short_stats_z_scorer.real_value) for epoch_id, a_result_item in rank_order_results.LR_ripple.ranked_aclus_stats_dict.items()])\n",
    "# RL_results_real_values = np.array([(a_result_item.long_stats_z_scorer.real_value, a_result_item.short_stats_z_scorer.real_value) for epoch_id, a_result_item in rank_order_results.RL_ripple.ranked_aclus_stats_dict.items()])\n",
    "LR_results_long_short_z_diffs = np.array([a_result_item.long_short_z_diff for epoch_id, a_result_item in rank_order_results.LR_ripple.ranked_aclus_stats_dict.items()])\n",
    "RL_results_long_short_z_diff = np.array([a_result_item.long_short_z_diff for epoch_id, a_result_item in rank_order_results.RL_ripple.ranked_aclus_stats_dict.items()])\n"
   ]
  },
  {
   "cell_type": "code",
   "execution_count": null,
   "id": "3ebb454c",
   "metadata": {
    "tags": [
     "histogram"
    ]
   },
   "outputs": [],
   "source": [
    "from pyphoplacecellanalysis.General.Pipeline.Stages.ComputationFunctions.MultiContextComputationFunctions.RankOrderComputations import plot_rank_order_histograms\n",
    "\n",
    "# Plot histograms:\n",
    "post_title_info: str = f'{minimum_inclusion_fr_Hz} Hz\\n{curr_active_pipeline.get_session_context().get_description()}'\n",
    "_out_z_score, _out_real, _out_most_likely_z = plot_rank_order_histograms(rank_order_results, post_title_info=post_title_info)\n"
   ]
  },
  {
   "cell_type": "markdown",
   "id": "b641e1f6",
   "metadata": {},
   "source": [
    "#TODO 2023-12-10 19:56: - [ ] Histogram Display Helpers\n",
    "\n",
    "#TODO 2023-12-10 19:56: - [ ] Pf1D Helpers\n",
    "\n",
    "#TODO 2023-12-10 19:57: - [ ] Variant Saving\n",
    " "
   ]
  },
  {
   "cell_type": "code",
   "execution_count": null,
   "id": "c33ed6d2",
   "metadata": {},
   "outputs": [],
   "source": [
    "track_templates: TrackTemplates = directional_laps_results.get_templates(minimum_inclusion_fr_Hz=0.0) # non-shared-only\n",
    "long_LR_decoder, long_RL_decoder, short_LR_decoder, short_RL_decoder = track_templates.get_decoders()\n",
    "\n",
    "# filtered_decoder_list = [filtered_by_frate(a_decoder, minimum_inclusion_fr_Hz=minimum_inclusion_fr_Hz, debug_print=True) for a_decoder in (long_LR_one_step_decoder_1D, long_RL_one_step_decoder_1D, short_LR_one_step_decoder_1D, short_RL_one_step_decoder_1D)]\n",
    "original_neuron_ids_list = [a_decoder.pf.ratemap.neuron_ids for a_decoder in (long_LR_decoder, long_RL_decoder, short_LR_decoder, short_RL_decoder)]\n",
    "is_aclu_included_list = [a_decoder.pf.ratemap.tuning_curve_unsmoothed_peak_firing_rates >= minimum_inclusion_fr_Hz for a_decoder in (long_LR_decoder, long_RL_decoder, short_LR_decoder, short_RL_decoder)]\n",
    "filtered_aclus_list = [np.array(a_decoder.pf.ratemap.neuron_ids)[a_decoder.pf.ratemap.tuning_curve_unsmoothed_peak_firing_rates >= minimum_inclusion_fr_Hz] for a_decoder in (long_LR_decoder, long_RL_decoder, short_LR_decoder, short_RL_decoder)]\n",
    "\n",
    "## For a given run direction (LR/RL) let's require inclusion in either (OR) long v. short to be included.\n",
    "filtered_included_LR_aclus = np.union1d(filtered_aclus_list[0], filtered_aclus_list[2])\n",
    "filtered_included_RL_aclus = np.union1d(filtered_aclus_list[1], filtered_aclus_list[3])\n",
    "# build the final shared aclus:\n",
    "filtered_direction_shared_aclus_list = [filtered_included_LR_aclus, filtered_included_RL_aclus, filtered_included_LR_aclus, filtered_included_RL_aclus] # contains the shared aclus for that direction\n",
    "# rebuild the is_aclu_included_list from the shared aclus\n",
    "is_aclu_included_list = [np.isin(an_original_neuron_ids, a_filtered_neuron_ids) for an_original_neuron_ids, a_filtered_neuron_ids in zip(original_neuron_ids_list, filtered_direction_shared_aclus_list)]\n",
    "\n",
    "# is_aclu_included_list[0]\n",
    "filtered_direction_shared_aclus_list"
   ]
  },
  {
   "cell_type": "code",
   "execution_count": null,
   "id": "017813cc",
   "metadata": {},
   "outputs": [],
   "source": [
    "# # for 5Hz:\n",
    "# [array([  5,   7,  31,  39,  41,  45,  46,  48,  50,  55,  61,  62,  64,  69,  72,  75,  76,  78,  79,  83,  84,  86,  88,  90,  91,  92,  95,  99, 100, 108]),\n",
    "#  array([  5,   7,   9,  31,  32,  39,  41,  45,  46,  48,  50,  55,  61,  62,  64,  69,  72,  75,  76,  78,  79,  83,  84,  86,  88,  90,  91,  92,  93,  95,  99, 101, 108]),\n",
    "#  array([  5,   7,  31,  39,  41,  45,  46,  48,  50,  55,  61,  62,  64,  69,  72,  75,  76,  78,  79,  83,  84,  86,  88,  90,  91,  92,  95,  99, 100, 108]),\n",
    "#  array([  5,   7,   9,  31,  32,  39,  41,  45,  46,  48,  50,  55,  61,  62,  64,  69,  72,  75,  76,  78,  79,  83,  84,  86,  88,  90,  91,  92,  93,  95,  99, 101, 108])]\n",
    "\n",
    "# # for 20Hz:\n",
    "# [array([  5,  41,  46,  48,  69,  78,  79,  83,  86,  88,  90, 108]),\n",
    "#  array([ 62,  64,  75,  78,  83,  91, 101]),\n",
    "#  array([  5,  41,  46,  48,  69,  78,  79,  83,  86,  88,  90, 108]),\n",
    "#  array([ 62,  64,  75,  78,  83,  91, 101])]"
   ]
  },
  {
   "cell_type": "markdown",
   "id": "f6ccfe1f",
   "metadata": {},
   "source": [
    "# 2023-11-22 - RECOMPUTE"
   ]
  },
  {
   "cell_type": "code",
   "execution_count": null,
   "id": "c22e7090",
   "metadata": {},
   "outputs": [],
   "source": [
    "from pyphoplacecellanalysis.General.Pipeline.Stages.ComputationFunctions.MultiContextComputationFunctions.DirectionalPlacefieldGlobalComputationFunctions import DirectionalLapsHelpers\n",
    "from pyphoplacecellanalysis.General.Pipeline.Stages.ComputationFunctions.MultiContextComputationFunctions.RankOrderComputations import RankOrderGlobalComputationFunctions\n",
    "\n",
    "curr_active_pipeline.reload_default_computation_functions()\n",
    "\n",
    "## clear the old values to prepare for the new ones:\n",
    "curr_active_pipeline.global_computation_results.computed_data['DirectionalLaps'] = None\n",
    "curr_active_pipeline.global_computation_results.computed_data['RankOrder'] = None\n",
    "del curr_active_pipeline.global_computation_results.computed_data['DirectionalLaps']\n",
    "del curr_active_pipeline.global_computation_results.computed_data['RankOrder']\n"
   ]
  },
  {
   "cell_type": "code",
   "execution_count": null,
   "id": "7f64b8a0",
   "metadata": {},
   "outputs": [],
   "source": [
    "curr_active_pipeline.global_computation_results.computed_data['DirectionalLaps'] = DirectionalLapsHelpers.build_global_directional_result_from_natural_epochs(curr_active_pipeline, progress_print=True) # repalce the directional laps object\n",
    "directional_laps_results: DirectionalLapsResult = curr_active_pipeline.global_computation_results.computed_data['DirectionalLaps']\n",
    "\n",
    "num_shuffles = 500\n",
    "\n",
    "minimum_inclusion_fr_Hz = 5.0\n",
    "included_qclu_values = [1,2]\n",
    "\n",
    "# minimum_inclusion_fr_Hz = 1.0\n",
    "# included_qclu_values = [1,2,4,9]\n",
    "\n",
    "# perform_rank_order_shuffle_analysis\n",
    "with VizTracer(output_file=f\"viztracer_{get_now_time_str()}-perform_rank_order_shuffle_analysis_{curr_active_pipeline.session_name}_num_shuffles-{num_shuffles}.json\", min_duration=200, tracer_entries=3000000, ignore_frozen=True) as tracer:\n",
    "    ## DO ALL:\n",
    "    RankOrderGlobalComputationFunctions.perform_rank_order_shuffle_analysis(curr_active_pipeline, curr_active_pipeline.global_computation_results, None, None, include_includelist=None, debug_print=False,\n",
    "                                                                            num_shuffles=num_shuffles, minimum_inclusion_fr_Hz=minimum_inclusion_fr_Hz, included_qclu_values=included_qclu_values, skip_laps=False)\n"
   ]
  },
  {
   "cell_type": "code",
   "execution_count": null,
   "id": "715580af",
   "metadata": {},
   "outputs": [],
   "source": [
    "## Custom `RankOrderAnalyses.most_likely_directional_rank_order_shuffling(...)`\n",
    "# Requires \"New method 2023-12-15\" result\n",
    "# Set the global result:\n",
    "from pyphoplacecellanalysis.General.Pipeline.Stages.ComputationFunctions.MultiContextComputationFunctions.RankOrderComputations import RankOrderAnalyses\n",
    "\n",
    "try:\n",
    "\tprint(f'\\tdone. building global result.')\n",
    "\tcurr_active_pipeline.global_computation_results.computed_data['RankOrder'].adding_active_aclus_info()\n",
    "\tcurr_active_pipeline.global_computation_results.computed_data['RankOrder'].ripple_most_likely_result_tuple, curr_active_pipeline.global_computation_results.computed_data['RankOrder'].laps_most_likely_result_tuple = RankOrderAnalyses.most_likely_directional_rank_order_shuffling(curr_active_pipeline)\n",
    "\n",
    "except (AssertionError, BaseException) as e:\n",
    "\tprint(f'Issue with `RankOrderAnalyses.most_likely_directional_rank_order_shuffling(...)` e: {e}')\n",
    "\traise"
   ]
  },
  {
   "cell_type": "code",
   "execution_count": null,
   "id": "91b0e4d4",
   "metadata": {},
   "outputs": [],
   "source": [
    "from pyphoplacecellanalysis.General.Pipeline.Stages.ComputationFunctions.MultiContextComputationFunctions.RankOrderComputations import RankOrderAnalyses\n",
    "\n",
    "curr_active_pipeline.global_computation_results.computed_data['RankOrder'].ripple_most_likely_result_tuple, curr_active_pipeline.global_computation_results.computed_data['RankOrder'].laps_most_likely_result_tuple = RankOrderAnalyses.most_likely_directional_rank_order_shuffling(curr_active_pipeline)"
   ]
  },
  {
   "cell_type": "code",
   "execution_count": null,
   "id": "222cfc4a",
   "metadata": {},
   "outputs": [],
   "source": [
    "from pyphoplacecellanalysis.General.Pipeline.Stages.ComputationFunctions.MultiContextComputationFunctions.DirectionalPlacefieldGlobalComputationFunctions import DirectionalMergedDecodersResult\n",
    "\n",
    "## Extract the rank_order_results:\n",
    "rank_order_results: RankOrderComputationsContainer = curr_active_pipeline.global_computation_results.computed_data['RankOrder']\n",
    "rank_order_results.adding_active_aclus_info()\n",
    "\n",
    "directional_laps_results = curr_active_pipeline.global_computation_results.computed_data['DirectionalLaps']\n",
    "track_templates: TrackTemplates = directional_laps_results.get_templates(minimum_inclusion_fr_Hz=rank_order_results.minimum_inclusion_fr_Hz) # non-shared-only\n",
    "decoders_dict = track_templates.get_decoders_dict() # decoders_dict = {'long_LR': track_templates.long_LR_decoder, 'long_RL': track_templates.long_RL_decoder, 'short_\n",
    "# LR': track_templates.short_LR_decoder, 'short_RL': track_templates.short_RL_decoder, }\n",
    "\n",
    "# Get the `directional_merged_decoders_result` to determining most-likely direction from the merged pseudo-2D decoder:\n",
    "directional_merged_decoders_result = curr_active_pipeline.global_computation_results.computed_data['DirectionalMergedDecoders']\n",
    "# directional_merged_decoders_result.all_directional_laps_filter_epochs_decoder_result\n",
    "# directional_merged_decoders_result.all_directional_pf1D_Decoder\n",
    "# directional_merged_decoders_result.all_directional_ripple_filter_epochs_decoder_result\n",
    "\n",
    "laps_marginals = DirectionalMergedDecodersResult.determine_directional_likelihoods(directional_merged_decoders_result.all_directional_laps_filter_epochs_decoder_result)\n",
    "laps_directional_marginals, laps_directional_all_epoch_bins_marginal, laps_most_likely_direction_from_decoder, laps_is_most_likely_direction_LR_dir = laps_marginals\n",
    "\n",
    "ripple_marginals = DirectionalMergedDecodersResult.determine_directional_likelihoods(directional_merged_decoders_result.all_directional_ripple_filter_epochs_decoder_result)\n",
    "ripple_directional_marginals, ripple_directional_all_epoch_bins_marginal, ripple_most_likely_direction_from_decoder, ripple_is_most_likely_direction_LR_dir = ripple_marginals\n",
    "\n",
    "\n",
    "# directional_merged_decoders_result.\n",
    "# ripple_most_likely_result_tuple"
   ]
  },
  {
   "cell_type": "code",
   "execution_count": null,
   "id": "08112e9a",
   "metadata": {},
   "outputs": [],
   "source": [
    "ripple_directional_all_epoch_bins_marginal"
   ]
  },
  {
   "cell_type": "code",
   "execution_count": null,
   "id": "a662a3b7",
   "metadata": {},
   "outputs": [],
   "source": [
    "rank_order_results.ripple_combined_epoch_stats_df"
   ]
  },
  {
   "cell_type": "code",
   "execution_count": null,
   "id": "3e450b79",
   "metadata": {},
   "outputs": [],
   "source": [
    "active_replay_epochs_df # 'Long_normed_LR_evidence', 'Long_normed_RL_evidence', 'Short_normed_LR_evidence', 'Short_normed_RL_evidence'\n",
    "# active_replay_epochs_df[['Long_normed_LR_evidence', 'Short_normed_RL_evidence']]"
   ]
  },
  {
   "cell_type": "code",
   "execution_count": null,
   "id": "5a8a5e68",
   "metadata": {},
   "outputs": [],
   "source": [
    "## 2024-01-04 - DirectionalMergedDecoders version:\n",
    "# NOTE: ripple_most_likely_direction_from_decoder comes with with more epochs than the already filtered `rank_order_results.ripple_combined_epoch_stats_df` version. We'll get only the active indicies from `rank_order_results.ripple_combined_epoch_stats_df.index`\n",
    "# needs: rank_order_results, ripple_most_likely_direction_from_decoder, ripple_directional_all_epoch_bins_marginal, \n",
    "combined_best_direction_indicies = deepcopy(ripple_most_likely_direction_from_decoder) # .shape (611,)\n",
    "# np.shape(combined_best_direction_indicies)\n",
    "combined_best_direction_indicies = combined_best_direction_indicies[rank_order_results.ripple_combined_epoch_stats_df['label'].to_numpy()] # get only the indicies for the active epochs\n",
    "# np.shape(combined_best_direction_indicies)\n",
    "assert np.shape(combined_best_direction_indicies)[0] == np.shape(rank_order_results.ripple_combined_epoch_stats_df)[0]\n",
    "long_best_direction_indicies = combined_best_direction_indicies.copy() # use same (globally best) indicies for Long/Short\n",
    "short_best_direction_indicies = combined_best_direction_indicies.copy() # use same (globally best) indicies for Long/Short\n",
    "\n",
    "# gets the LR likelihood for each of these (long/short)\n",
    "long_relative_direction_likelihoods = ripple_directional_all_epoch_bins_marginal[rank_order_results.ripple_combined_epoch_stats_df['label'].to_numpy(), 0] # (n_epochs, 2)\n",
    "short_relative_direction_likelihoods = ripple_directional_all_epoch_bins_marginal[rank_order_results.ripple_combined_epoch_stats_df['label'].to_numpy(), 0] # (n_epochs, 2)\n",
    "\n",
    "ripple_directional_likelihoods_tuple: DirectionalRankOrderLikelihoods = DirectionalRankOrderLikelihoods(long_relative_direction_likelihoods=long_relative_direction_likelihoods,\n",
    "\t\t\t\t\t\t\t\t\t\t\t\t\t\t\t\t\t\t\t\tshort_relative_direction_likelihoods=short_relative_direction_likelihoods,\n",
    "\t\t\t\t\t\t\t\t\t\t\t\t\t\t\t\t\t\t\t\tlong_best_direction_indices=long_best_direction_indicies, \n",
    "\t\t\t\t\t\t\t\t\t\t\t\t\t\t\t\t\t\t\t\tshort_best_direction_indices=short_best_direction_indicies,\n",
    "\t\t\t\t\t\t\t\t\t\t\t\t\t\t\t\t\t\t\t\t)\n"
   ]
  },
  {
   "cell_type": "code",
   "execution_count": null,
   "id": "f3976821",
   "metadata": {},
   "outputs": [],
   "source": [
    "from pyphoplacecellanalysis.General.Pipeline.Stages.ComputationFunctions.MultiContextComputationFunctions.RankOrderComputations import RankOrderAnalyses\n",
    "\n",
    "## Main\n",
    "ripple_result_tuple, laps_result_tuple = RankOrderAnalyses.most_likely_directional_rank_order_shuffling(curr_active_pipeline, decoding_time_bin_size=0.003)"
   ]
  },
  {
   "cell_type": "code",
   "execution_count": null,
   "id": "c0145e38",
   "metadata": {},
   "outputs": [],
   "source": [
    "## 2024-01-04 - DirectionalMergedDecoders version:\n",
    "# NOTE: laps_most_likely_direction_from_decoder comes with with more epochs than the already filtered `rank_order_results.laps_combined_epoch_stats_df` version. We'll get only the active indicies from `rank_order_results.ripple_combined_epoch_stats_df.index`\n",
    "# needs: rank_order_results, laps_most_likely_direction_from_decoder, laps_directional_all_epoch_bins_marginal, \n",
    "laps_marginals = DirectionalMergedDecodersResult.determine_directional_likelihoods(directional_merged_decoders_result.all_directional_laps_filter_epochs_decoder_result)\n",
    "laps_directional_marginals, laps_directional_all_epoch_bins_marginal, laps_most_likely_direction_from_decoder, laps_is_most_likely_direction_LR_dir = laps_marginals\n",
    "\n",
    "combined_best_direction_indicies = deepcopy(laps_most_likely_direction_from_decoder) # .shape (611,)\n",
    "# np.shape(combined_best_direction_indicies)\n",
    "combined_best_direction_indicies = combined_best_direction_indicies[rank_order_results.laps_combined_epoch_stats_df['label'].to_numpy()] # get only the indicies for the active epochs\n",
    "# np.shape(combined_best_direction_indicies)\n",
    "assert np.shape(combined_best_direction_indicies)[0] == np.shape(rank_order_results.laps_combined_epoch_stats_df)[0]\n",
    "long_best_direction_indicies = combined_best_direction_indicies.copy() # use same (globally best) indicies for Long/Short\n",
    "short_best_direction_indicies = combined_best_direction_indicies.copy() # use same (globally best) indicies for Long/Short\n",
    "\n",
    "# gets the LR likelihood for each of these (long/short)\n",
    "long_relative_direction_likelihoods = laps_directional_all_epoch_bins_marginal[rank_order_results.laps_combined_epoch_stats_df['label'].to_numpy(), 0] # (n_epochs, 2)\n",
    "short_relative_direction_likelihoods = laps_directional_all_epoch_bins_marginal[rank_order_results.laps_combined_epoch_stats_df['label'].to_numpy(), 0] # (n_epochs, 2)\n",
    "\n",
    "laps_directional_likelihoods_tuple: DirectionalRankOrderLikelihoods = DirectionalRankOrderLikelihoods(long_relative_direction_likelihoods=long_relative_direction_likelihoods,\n",
    "\t\t\t\t\t\t\t\t\t\t\t\t\t\t\t\t\t\t\t\tshort_relative_direction_likelihoods=short_relative_direction_likelihoods,\n",
    "\t\t\t\t\t\t\t\t\t\t\t\t\t\t\t\t\t\t\t\tlong_best_direction_indices=long_best_direction_indicies, \n",
    "\t\t\t\t\t\t\t\t\t\t\t\t\t\t\t\t\t\t\t\tshort_best_direction_indices=short_best_direction_indicies,\n",
    "\t\t\t\t\t\t\t\t\t\t\t\t\t\t\t\t\t\t\t\t)\n"
   ]
  },
  {
   "cell_type": "code",
   "execution_count": null,
   "id": "0b4a4744",
   "metadata": {},
   "outputs": [],
   "source": [
    "from pyphoplacecellanalysis.General.Pipeline.Stages.ComputationFunctions.MultiContextComputationFunctions.RankOrderComputations import RankOrderAnalyses\n",
    "\n",
    "RankOrderAnalyses.percentiles_computations(rank_order_results=rank_order_results)\n",
    "laps_merged_complete_epoch_stats_df: pd.DataFrame = rank_order_results.laps_merged_complete_epoch_stats_df ## New method\n",
    "ripple_merged_complete_epoch_stats_df: pd.DataFrame = rank_order_results.ripple_merged_complete_epoch_stats_df ## New method"
   ]
  },
  {
   "cell_type": "code",
   "execution_count": null,
   "id": "b48c2f08",
   "metadata": {},
   "outputs": [],
   "source": [
    "from pyphoplacecellanalysis.General.Pipeline.Stages.ComputationFunctions.MultiContextComputationFunctions.DirectionalPlacefieldGlobalComputationFunctions import DirectionalLapsHelpers\n",
    "from pyphoplacecellanalysis.General.Pipeline.Stages.ComputationFunctions.MultiContextComputationFunctions.RankOrderComputations import RankOrderGlobalComputationFunctions\n",
    "\n",
    "curr_active_pipeline.reload_default_computation_functions()\n",
    "\n",
    "## DO just Pandas-based method and post-processing for best directions:\n",
    "RankOrderGlobalComputationFunctions.perform_pandas_based_rank_order_shuffle_analysis(curr_active_pipeline, curr_active_pipeline.global_computation_results, None, None, include_includelist=None, debug_print=True,\n",
    "                                                                        num_shuffles=1000, minimum_inclusion_fr_Hz=minimum_inclusion_fr_Hz, included_qclu_values=included_qclu_values, skip_laps=False)"
   ]
  },
  {
   "cell_type": "code",
   "execution_count": null,
   "id": "22c50e7e",
   "metadata": {},
   "outputs": [],
   "source": [
    "from pyphoplacecellanalysis.General.Pipeline.Stages.ComputationFunctions.MultiContextComputationFunctions.RankOrderComputations import RankOrderAnalyses\n",
    "\n",
    "directional_laps_results: DirectionalLapsResult = curr_active_pipeline.global_computation_results.computed_data['DirectionalLaps']\n",
    "selected_spikes_df = deepcopy(curr_active_pipeline.global_computation_results.computed_data['RankOrder'].LR_ripple.selected_spikes_df)\n",
    "# active_epochs = global_computation_results.computed_data['RankOrder'].ripple_most_likely_result_tuple.active_epochs\n",
    "active_epochs = deepcopy(curr_active_pipeline.global_computation_results.computed_data['RankOrder'].LR_ripple.epochs_df)\n",
    "track_templates = directional_laps_results.get_templates(minimum_inclusion_fr_Hz=minimum_inclusion_fr_Hz)\n",
    "\n",
    "with VizTracer(output_file=f\"viztracer_{get_now_time_str()}-pandas_df_based_correlation_computations.json\", min_duration=200, tracer_entries=3000000, ignore_frozen=True) as tracer:\n",
    "\tripple_combined_epoch_stats_df, ripple_new_output_tuple = RankOrderAnalyses.pandas_df_based_correlation_computations(selected_spikes_df=selected_spikes_df, active_epochs_df=active_epochs, track_templates=track_templates, num_shuffles=100)\n",
    "\n",
    "ripple_combined_epoch_stats_df\n",
    "\n",
    "# n_shuffles: [5, 50]\n",
    "# time: [\"10.4s\", \"1m 15.9s\"]"
   ]
  },
  {
   "cell_type": "code",
   "execution_count": null,
   "id": "21d6d5a1",
   "metadata": {},
   "outputs": [],
   "source": [
    "print(list(ripple_combined_epoch_stats_df.columns)) # ['long_RL_spearman', 'long_LR_pearson', 'short_RL_spearman', 'short_RL_pearson', 'long_LR_spearman', 'short_LR_pearson', 'short_LR_spearman', 'long_RL_pearson', 'long_RL_spearman_Z', 'long_LR_pearson_Z', 'short_RL_spearman_Z', 'short_RL_pearson_Z', 'long_LR_spearman_Z', 'short_LR_pearson_Z', 'short_LR_spearman_Z', 'long_RL_pearson_Z', 'label']\n",
    "\n",
    "['LR_Long_spearman_Z', 'LR_Long_spearman_Z', 'LR_Long_spearman_Z', 'LR_Long_spearman_Z']\n",
    "\n",
    "{'long_LR':'LR_Long'}\n",
    "\n",
    "decoder_name_to_column_name_prefix_map: Dict[str, str] = dict(zip(['long_LR', 'long_RL', 'short_LR', 'short_RL'], ['LR_Long', 'RL_Long', 'LR_Short', 'RL_Short']))\n",
    "\n",
    "rename_fn = lambda a_name: a_name.replace(\n",
    "\n",
    "[a_name.replace( for a_name in list(ripple_combined_epoch_stats_df.columns)]\n",
    "\n",
    "\n",
    "['long_RL_spearman', 'long_LR_pearson', 'short_RL_spearman', 'short_RL_pearson', 'long_LR_spearman', 'short_LR_pearson', 'short_LR_spearman', 'long_RL_pearson', 'long_RL_spearman_Z', 'long_LR_pearson_Z', 'short_RL_spearman_Z', 'short_RL_pearson_Z', 'long_LR_spearman_Z', 'short_LR_pearson_Z', 'short_LR_spearman_Z', 'long_RL_pearson_Z', 'label']\n",
    "\n"
   ]
  },
  {
   "cell_type": "code",
   "execution_count": null,
   "id": "ef655eec",
   "metadata": {},
   "outputs": [],
   "source": [
    "def build_column_rename_dict(column_names: List[str], decoder_name_to_column_name_prefix_map:Optional[Dict[str,str]]=None) -> Dict[str,str]:\n",
    "  \"\"\" \n",
    "  \n",
    "  column_names = ['long_RL_spearman', 'long_LR_pearson', 'short_RL_spearman', 'short_RL_pearson', 'long_LR_spearman', 'short_LR_pearson', 'short_LR_spearman', 'long_RL_pearson', 'long_RL_spearman_Z', 'long_LR_pearson_Z', 'short_RL_spearman_Z', 'short_RL_pearson_Z', 'long_LR_spearman_Z', 'short_LR_pearson_Z', 'short_LR_spearman_Z', 'long_RL_pearson_Z']\n",
    "  decoder_name_to_column_name_prefix_map = dict(zip(['long_LR', 'long_RL', 'short_LR', 'short_RL'], ['LR_Long', 'RL_Long', 'LR_Short', 'RL_Short']))\n",
    "\n",
    "  old_to_new_names = build_column_rename_dict(column_names, decoder_name_to_column_name_prefix_map.copy())\n",
    "  print(old_to_new_names)\n",
    "\n",
    "  {'long_RL_spearman': 'RL_Long_spearman', 'long_LR_pearson': 'LR_Long_pearson', 'short_RL_spearman': 'RL_Short_spearman', 'short_RL_pearson': 'RL_Short_pearson', 'long_LR_spearman': 'LR_Long_spearman', 'short_LR_pearson': 'LR_Short_pearson', 'short_LR_spearman': 'LR_Short_spearman', 'long_RL_pearson': 'RL_Long_pearson', 'long_RL_spearman_Z': 'RL_Long_spearman_Z', 'long_LR_pearson_Z': 'LR_Long_pearson_Z', 'short_RL_spearman_Z': 'RL_Short_spearman_Z', 'short_RL_pearson_Z': 'RL_Short_pearson_Z', 'long_LR_spearman_Z': 'LR_Long_spearman_Z', 'short_LR_pearson_Z': 'LR_Short_pearson_Z', 'short_LR_spearman_Z': 'LR_Short_spearman_Z', 'long_RL_pearson_Z': 'RL_Long_pearson_Z'}\n",
    "  \"\"\"\n",
    "  if decoder_name_to_column_name_prefix_map is None:\n",
    "    decoder_name_to_column_name_prefix_map = dict(zip(['long_LR', 'long_RL', 'short_LR', 'short_RL'], ['LR_Long', 'RL_Long', 'LR_Short', 'RL_Short']))\n",
    "  \n",
    "  old_to_new_names = {}\n",
    "  for col in column_names:\n",
    "    for decoder_name, prefix in decoder_name_to_column_name_prefix_map.items():\n",
    "      if decoder_name in col:\n",
    "        new_col = prefix + col.split(decoder_name)[-1]\n",
    "        old_to_new_names[col] = new_col\n",
    "  return old_to_new_names\n",
    "  \n",
    "column_names = ['long_RL_spearman', 'long_LR_pearson', 'short_RL_spearman', 'short_RL_pearson', 'long_LR_spearman', 'short_LR_pearson', 'short_LR_spearman', 'long_RL_pearson', 'long_RL_spearman_Z', 'long_LR_pearson_Z', 'short_RL_spearman_Z', 'short_RL_pearson_Z', 'long_LR_spearman_Z', 'short_LR_pearson_Z', 'short_LR_spearman_Z', 'long_RL_pearson_Z']\n",
    "old_to_new_names = build_column_rename_dict(column_names)\n",
    "print(old_to_new_names)\n",
    "ripple_combined_epoch_stats_df = ripple_combined_epoch_stats_df.rename(columns=old_to_new_names, inplace=False)\n",
    "ripple_combined_epoch_stats_df"
   ]
  },
  {
   "cell_type": "code",
   "execution_count": null,
   "id": "d7aac86f",
   "metadata": {},
   "outputs": [],
   "source": [
    "ripple_combined_epoch_stats_df.LR_Long_spearman_Z"
   ]
  },
  {
   "cell_type": "code",
   "execution_count": null,
   "id": "d2c4c11c",
   "metadata": {},
   "outputs": [],
   "source": [
    "curr_active_pipeline.global_computation_results.computed_data['RankOrder'].ripple_combined_epoch_stats_df, curr_active_pipeline.global_computation_results.computed_data['RankOrder'].ripple_new_output_tuple = ripple_combined_epoch_stats_df, ripple_new_output_tuple"
   ]
  },
  {
   "cell_type": "code",
   "execution_count": null,
   "id": "9513b9b5",
   "metadata": {},
   "outputs": [],
   "source": [
    "from pyphoplacecellanalysis.General.Pipeline.Stages.ComputationFunctions.MultiContextComputationFunctions.RankOrderComputations import RankOrderAnalyses\n",
    "\n",
    "decoder_aclu_peak_map_dict = track_templates.get_decoder_aclu_peak_map_dict()\n",
    "override_decoder_aclu_peak_map_dict = deepcopy(decoder_aclu_peak_map_dict)\n",
    "active_selected_spikes_df = RankOrderAnalyses._subfn_build_all_pf_peak_x_columns(track_templates, selected_spikes_df=selected_spikes_df, override_decoder_aclu_peak_map_dict=override_decoder_aclu_peak_map_dict)\n",
    "epoch_id_grouped_selected_spikes_df =  active_selected_spikes_df.groupby('Probe_Epoch_id') # I can even compute this outside the loop?"
   ]
  },
  {
   "cell_type": "code",
   "execution_count": null,
   "id": "83a9133f",
   "metadata": {},
   "outputs": [],
   "source": [
    "\n",
    "active_selected_spikes_df = deepcopy(epoch_id_grouped_selected_spikes_df)\n",
    "active_selected_spikes_df = RankOrderAnalyses._subfn_build_all_pf_peak_x_columns(track_templates, selected_spikes_df=active_selected_spikes_df, override_decoder_aclu_peak_map_dict=override_decoder_aclu_peak_map_dict)\n",
    "active_selected_spikes_df"
   ]
  },
  {
   "cell_type": "code",
   "execution_count": null,
   "id": "499ff169",
   "metadata": {},
   "outputs": [],
   "source": [
    "\n",
    "\n",
    "#TODO 2023-12-18 13:20: - [ ] This assumes that `'Probe_Epoch_id'` is correct and consistent for both directions, yeah?\n",
    "\n",
    "## Compute real values here:\n",
    "decoder_names = track_templates.get_decoder_names()\n",
    "\n",
    "epoch_id_grouped_selected_spikes_df =  active_selected_spikes_df.groupby('Probe_Epoch_id') # I can even compute this outside the loop?\n",
    "spearman_correlations = epoch_id_grouped_selected_spikes_df.apply(lambda group: RankOrderAnalyses._subfn_calculate_correlations(group, method='spearman', decoder_names=decoder_names)).reset_index() # Reset index to make 'Probe_Epoch_id' a column\n",
    "pearson_correlations = epoch_id_grouped_selected_spikes_df.apply(lambda group: RankOrderAnalyses._subfn_calculate_correlations(group, method='pearson', decoder_names=decoder_names)).reset_index() # Reset index to make 'Probe_Epoch_id' a column\n",
    "\n",
    "real_stats_df = pd.concat((spearman_correlations, pearson_correlations), axis='columns')\n",
    "real_stats_df = real_stats_df.loc[:, ~real_stats_df.columns.duplicated()] # drop duplicated 'Probe_Epoch_id' column\n",
    "# Change column type to uint64 for column: 'Probe_Epoch_id'\n",
    "real_stats_df = real_stats_df.astype({'Probe_Epoch_id': 'uint64'})\n",
    "# Rename column 'Probe_Epoch_id' to 'label'\n",
    "real_stats_df = real_stats_df.rename(columns={'Probe_Epoch_id': 'label'})\n",
    "real_stats_df"
   ]
  },
  {
   "cell_type": "code",
   "execution_count": null,
   "id": "f86d5ac8",
   "metadata": {},
   "outputs": [],
   "source": [
    "rank_order_results: RankOrderComputationsContainer = curr_active_pipeline.global_computation_results.computed_data['RankOrder']\n",
    "minimum_inclusion_fr_Hz: float = rank_order_results.minimum_inclusion_fr_Hz\n",
    "included_qclu_values: List[int] = rank_order_results.included_qclu_values\n",
    "ripple_result_tuple, laps_result_tuple = rank_order_results.ripple_most_likely_result_tuple, rank_order_results.laps_most_likely_result_tuple\n",
    "directional_laps_results: DirectionalLapsResult = curr_active_pipeline.global_computation_results.computed_data['DirectionalLaps']\n",
    "track_templates: TrackTemplates = directional_laps_results.get_templates(minimum_inclusion_fr_Hz=minimum_inclusion_fr_Hz) # non-shared-only -- !! Is minimum_inclusion_fr_Hz=None the issue/difference?\n",
    "print(f'minimum_inclusion_fr_Hz: {minimum_inclusion_fr_Hz}')\n",
    "print(f'included_qclu_values: {included_qclu_values}')\n",
    "\n",
    "# 10m 29.5s for 1000 shuffles.  c:\\Users\\pho\\repos\\Spike3DWorkEnv\\Spike3D\\viztracer_2023-11-22_16-11-perform_rank_order_shuffle_analysis.json\n",
    "\n",
    "# 3m 33.9s - 500\n",
    "# 3m 26.4s - 1000"
   ]
  },
  {
   "cell_type": "code",
   "execution_count": null,
   "id": "d6d74122",
   "metadata": {},
   "outputs": [],
   "source": [
    "_ripples_outputs = RankOrderAnalyses.main_ripples_analysis(curr_active_pipeline, num_shuffles=500, rank_alignment='median', minimum_inclusion_fr_Hz=minimum_inclusion_fr_Hz, included_qclu_values=included_qclu_values)\n",
    "(LR_ripple_outputs, RL_ripple_outputs, ripple_evts_paired_tests) = _ripples_outputs\n"
   ]
  },
  {
   "cell_type": "code",
   "execution_count": null,
   "id": "76178217",
   "metadata": {},
   "outputs": [],
   "source": [
    "# LR_ripple_outputs.epochs_df\n",
    "LR_ripple_outputs.spikes_df"
   ]
  },
  {
   "cell_type": "code",
   "execution_count": null,
   "id": "1d42afeb",
   "metadata": {},
   "outputs": [],
   "source": [
    "RL_ripple_outputs.spikes_df"
   ]
  },
  {
   "cell_type": "code",
   "execution_count": null,
   "id": "5383aae5",
   "metadata": {},
   "outputs": [],
   "source": [
    "LR_ripple_outputs.selected_spikes_df"
   ]
  },
  {
   "cell_type": "code",
   "execution_count": null,
   "id": "f4b664cb",
   "metadata": {},
   "outputs": [],
   "source": [
    "RL_ripple_outputs.\n",
    "\n"
   ]
  },
  {
   "cell_type": "code",
   "execution_count": null,
   "id": "3fc41020",
   "metadata": {},
   "outputs": [],
   "source": [
    "## Ensure equivalence of the two LR_ripple_outputs and RL_ripple_outputs for the fields that matter:\n",
    "assert LR_ripple_outputs.spikes_df.equals(RL_ripple_outputs.spikes_df), f\"spikes_df are not equal\"\n",
    "assert LR_ripple_outputs.selected_spikes_df.equals(RL_ripple_outputs.selected_spikes_df), f\"selected_spikes_df are not equal\"\n",
    "assert LR_ripple_outputs.epochs_df.equals(RL_ripple_outputs.epochs_df), f\"epochs_df are not equal\""
   ]
  },
  {
   "cell_type": "code",
   "execution_count": null,
   "id": "9defd355",
   "metadata": {},
   "outputs": [],
   "source": [
    "_new_rank_order_event_raster_debugger = RankOrderRastersDebugger.init_rank_order_debugger(deepcopy(LR_ripple_outputs.selected_spikes_df), deepcopy(LR_ripple_outputs.epochs_df), track_templates, rank_order_results, None, None)\n",
    "\n"
   ]
  },
  {
   "cell_type": "code",
   "execution_count": null,
   "id": "dfe68671",
   "metadata": {},
   "outputs": [],
   "source": [
    "# TypeError: <lambda>() missing 1 required positional argument\n"
   ]
  },
  {
   "cell_type": "code",
   "execution_count": null,
   "id": "28f1c551",
   "metadata": {},
   "outputs": [],
   "source": [
    "## Recompute just the `most_likely_directional_rank_order_shuffling` part:\n",
    "# from pyphoplacecellanalysis.General.Pipeline.Stages.ComputationFunctions.MultiContextComputationFunctions.RankOrderComputations import RankOrderComputationsContainer\n",
    "# from pyphoplacecellanalysis.General.Pipeline.Stages.ComputationFunctions.MultiContextComputationFunctions.RankOrderComputations import DirectionalRankOrderLikelihoods\n",
    "# from pyphoplacecellanalysis.General.Pipeline.Stages.ComputationFunctions.MultiContextComputationFunctions.RankOrderComputations import RankOrderAnalyses\n",
    "## Main\n",
    "ripple_result_tuple, laps_result_tuple = RankOrderAnalyses.most_likely_directional_rank_order_shuffling(curr_active_pipeline)\n",
    "ripple_result_tuple"
   ]
  },
  {
   "cell_type": "code",
   "execution_count": null,
   "id": "cc170273",
   "metadata": {},
   "outputs": [],
   "source": [
    "rank_order_results.ripple_most_likely_result_tuple, rank_order_results.laps_most_likely_result_tuple = ripple_result_tuple, laps_result_tuple"
   ]
  },
  {
   "cell_type": "code",
   "execution_count": null,
   "id": "8d4b9c0f",
   "metadata": {},
   "outputs": [],
   "source": [
    "directional_likelihoods_tuple: DirectionalRankOrderLikelihoods = deepcopy(ripple_result_tuple.directional_likelihoods_tuple)\n",
    "directional_likelihoods_tuple.long_best_direction_indices\n",
    "directional_likelihoods_tuple.short_best_direction_indices\n",
    "# directional_likelihoods_tuple.long_relative_direction_likelihoods"
   ]
  },
  {
   "cell_type": "markdown",
   "id": "426c292d",
   "metadata": {},
   "source": [
    "\n",
    "\n",
    "\n",
    "\n",
    "# Saving/Loading `DirectionalLaps_2Hz`"
   ]
  },
  {
   "cell_type": "code",
   "execution_count": null,
   "id": "5ed6c50e",
   "metadata": {
    "tags": [
     "save",
     "persistance"
    ]
   },
   "outputs": [],
   "source": [
    "from datetime import datetime, date, timedelta\n",
    "from pyphocorehelpers.print_helpers import get_now_day_str, get_now_rounded_time_str\n",
    "from pyphoplacecellanalysis.General.Pipeline.Stages.ComputationFunctions.MultiContextComputationFunctions.RankOrderComputations import save_rank_order_results\n",
    "\n",
    "# DAY_DATE_STR: str = date.today().strftime(\"%Y-%m-%d\")\n",
    "# DAY_DATE_TO_USE = f'{DAY_DATE_STR}' # used for filenames throught the notebook\n",
    "# print(f'DAY_DATE_STR: {DAY_DATE_STR}, DAY_DATE_TO_USE: {DAY_DATE_TO_USE}')\n",
    "\n",
    "# NOW_DATETIME: str = get_now_rounded_time_str()\n",
    "# NOW_DATETIME_TO_USE = f'{NOW_DATETIME}' # used for filenames throught the notebook\n",
    "# print(f'NOW_DATETIME: {NOW_DATETIME}, NOW_DATETIME_TO_USE: {NOW_DATETIME_TO_USE}')\n",
    "\n",
    "formatted_time = get_now_rounded_time_str()\n",
    "print(formatted_time)\n",
    "save_rank_order_results(curr_active_pipeline, day_date=f\"{formatted_time}\") # \"2024-01-02_301pm\" \"2024-01-02_322pm\" 322pm # \"2024-01-02_301pm\" \"2024-01-02_322pm\" 322pm\n",
    "# '2024-01-09_0125PM-minimum_inclusion_fr-5-included_qclu_values-[1, 2]'\n"
   ]
  },
  {
   "cell_type": "code",
   "execution_count": null,
   "id": "738b1434",
   "metadata": {},
   "outputs": [],
   "source": [
    "\n",
    "save_rank_order_results(owning_active_pipeline, day_date=f\"{formatted_time}_partial\")"
   ]
  },
  {
   "cell_type": "code",
   "execution_count": null,
   "id": "e700b239",
   "metadata": {},
   "outputs": [],
   "source": [
    "search_path = Path('/media/MAX/Data/KDIBA/gor01/one/2006-6-08_14-26-15/output/').resolve()\n",
    "sorted(search_path.glob(f\"{DAY_DATE_TO_USE}*\"))\n"
   ]
  },
  {
   "cell_type": "code",
   "execution_count": null,
   "id": "02da8a7c",
   "metadata": {
    "tags": [
     "load"
    ]
   },
   "outputs": [],
   "source": [
    "from pyphoplacecellanalysis.General.Pipeline.Stages.ComputationFunctions.MultiContextComputationFunctions.RankOrderComputations import SaveStringGenerator\n",
    "from pyphoplacecellanalysis.General.Pipeline.Stages.Loading import loadData\n",
    "\n",
    "# Load the data from a file into the pipeline:\n",
    "# out_filename_str: str = '2023-12-11-minimum_inclusion_fr_Hz_2_included_qclu_values_1-2_' # specific\n",
    "\n",
    "minimum_inclusion_fr_Hz: float = 5.0\n",
    "included_qclu_values: List[int] = [1,2]\n",
    "out_filename_str = SaveStringGenerator.generate_save_suffix(minimum_inclusion_fr_Hz=minimum_inclusion_fr_Hz, included_qclu_values=included_qclu_values, day_date=f'{DAY_DATE_TO_USE}_11am') # '2023-12-21_349am'\n",
    "# out_filename_str = SaveStringGenerator.generate_save_suffix(minimum_inclusion_fr_Hz=minimum_inclusion_fr_Hz, included_qclu_values=included_qclu_values, day_date='2023-12-22_312pm') # '2023-12-21_349am'\n",
    "print(f'out_filename_str: \"{out_filename_str}\"')\n",
    "# day_date_str: str = '2023-12-11_with_tuple_newer_'\n",
    "# day_date_str: str = ''\n",
    "directional_laps_output_path = curr_active_pipeline.get_output_path().joinpath(f'{out_filename_str}DirectionalLaps.pkl').resolve()\n",
    "assert directional_laps_output_path.exists()\n",
    "# loaded_directional_laps, loaded_rank_order = loadData(directional_laps_output_path)\n",
    "loaded_directional_laps = loadData(directional_laps_output_path)\n",
    "assert (loaded_directional_laps is not None)\n",
    "# assert (loaded_rank_order is not None)\n",
    "\n",
    "rank_order_output_path = curr_active_pipeline.get_output_path().joinpath(f'{out_filename_str}RankOrder.pkl').resolve()\n",
    "loaded_rank_order = loadData(rank_order_output_path)"
   ]
  },
  {
   "cell_type": "code",
   "execution_count": null,
   "id": "475a82b8",
   "metadata": {},
   "outputs": [],
   "source": [
    "# Apply the loaded data to the pipeline:\n",
    "curr_active_pipeline.global_computation_results.computed_data['DirectionalLaps'], curr_active_pipeline.global_computation_results.computed_data['RankOrder'] = loaded_directional_laps, loaded_rank_order\n",
    "curr_active_pipeline.global_computation_results.computed_data['RankOrder']"
   ]
  },
  {
   "cell_type": "code",
   "execution_count": null,
   "id": "cd521ff3",
   "metadata": {},
   "outputs": [],
   "source": [
    "rank_order_results.RL_ripple.selected_spikes_df"
   ]
  },
  {
   "cell_type": "code",
   "execution_count": null,
   "id": "7c0a14f8",
   "metadata": {},
   "outputs": [],
   "source": [
    "rank_order_results.LR_ripple.selected_spikes_df"
   ]
  },
  {
   "cell_type": "markdown",
   "id": "f4ec24467335a760",
   "metadata": {},
   "source": [
    "# POST-Compute:"
   ]
  },
  {
   "cell_type": "code",
   "execution_count": 10,
   "id": "728c46e6",
   "metadata": {
    "notebookRunGroups": {
     "groupValue": "21"
    },
    "tags": [
     "unwrap"
    ]
   },
   "outputs": [
    {
     "name": "stdout",
     "output_type": "stream",
     "text": [
      "minimum_inclusion_fr_Hz: 5.0\n",
      "included_qclu_values: [1, 2]\n"
     ]
    }
   ],
   "source": [
    "from pyphoplacecellanalysis.General.Pipeline.Stages.ComputationFunctions.MultiContextComputationFunctions.DirectionalPlacefieldGlobalComputationFunctions import DirectionalPlacefieldGlobalDisplayFunctions\n",
    "from pyphoplacecellanalysis.General.Pipeline.Stages.DisplayFunctions.SpikeRasters import plot_multi_sort_raster_browser\n",
    "from pyphoplacecellanalysis.GUI.PyQtPlot.Widgets.ContainerBased.RankOrderRastersDebugger import RankOrderRastersDebugger\n",
    "\n",
    "from pyphoplacecellanalysis.General.Pipeline.Stages.DisplayFunctions.SpikeRasters import paired_separately_sort_neurons, paired_incremental_sort_neurons # _display_directional_template_debugger\n",
    "from neuropy.utils.indexing_helpers import paired_incremental_sorting, union_of_arrays, intersection_of_arrays, find_desired_sort_indicies\n",
    "from pyphoplacecellanalysis.GUI.Qt.Widgets.ScrollBarWithSpinBox.ScrollBarWithSpinBox import ScrollBarWithSpinBox\n",
    "\n",
    "from neuropy.utils.mixins.HDF5_representable import HDF_SerializationMixin\n",
    "from pyphoplacecellanalysis.General.Model.ComputationResults import ComputedResult\n",
    "from pyphoplacecellanalysis.General.Pipeline.Stages.ComputationFunctions.MultiContextComputationFunctions.DirectionalPlacefieldGlobalComputationFunctions import TrackTemplates\n",
    "from pyphoplacecellanalysis.General.Pipeline.Stages.ComputationFunctions.MultiContextComputationFunctions.RankOrderComputations import RankOrderAnalyses, RankOrderResult, ShuffleHelper, Zscorer, LongShortStatsTuple, DirectionalRankOrderLikelihoods, DirectionalRankOrderResult, RankOrderComputationsContainer\n",
    "from pyphoplacecellanalysis.General.Pipeline.Stages.ComputationFunctions.MultiContextComputationFunctions.RankOrderComputations import TimeColumnAliasesProtocol\n",
    "from pyphoplacecellanalysis.General.Pipeline.Stages.ComputationFunctions.MultiContextComputationFunctions.RankOrderComputations import RankOrderComputationsContainer\n",
    "from pyphoplacecellanalysis.General.Pipeline.Stages.ComputationFunctions.MultiContextComputationFunctions.RankOrderComputations import DirectionalRankOrderResult\n",
    "from pyphoplacecellanalysis.General.Pipeline.Stages.ComputationFunctions.MultiContextComputationFunctions.DirectionalPlacefieldGlobalComputationFunctions import DirectionalMergedDecodersResult\n",
    "\n",
    "## Display Testing\n",
    "# from pyphoplacecellanalysis.External.pyqtgraph import QtGui\n",
    "from pyphoplacecellanalysis.Pho2D.PyQtPlots.Extensions.pyqtgraph_helpers import pyqtplot_build_image_bounds_extent, pyqtplot_plot_image\n",
    "\n",
    "spikes_df = curr_active_pipeline.sess.spikes_df\n",
    "rank_order_results: RankOrderComputationsContainer = curr_active_pipeline.global_computation_results.computed_data['RankOrder']\n",
    "minimum_inclusion_fr_Hz: float = rank_order_results.minimum_inclusion_fr_Hz\n",
    "included_qclu_values: List[int] = rank_order_results.included_qclu_values\n",
    "ripple_result_tuple, laps_result_tuple = rank_order_results.ripple_most_likely_result_tuple, rank_order_results.laps_most_likely_result_tuple\n",
    "directional_laps_results: DirectionalLapsResult = curr_active_pipeline.global_computation_results.computed_data['DirectionalLaps']\n",
    "track_templates: TrackTemplates = directional_laps_results.get_templates(minimum_inclusion_fr_Hz=minimum_inclusion_fr_Hz) # non-shared-only -- !! Is minimum_inclusion_fr_Hz=None the issue/difference?\n",
    "print(f'minimum_inclusion_fr_Hz: {minimum_inclusion_fr_Hz}')\n",
    "print(f'included_qclu_values: {included_qclu_values}')\n",
    "# ripple_result_tuple\n",
    "\n",
    "## Unpacks `rank_order_results`: \n",
    "# global_replays = Epoch(deepcopy(curr_active_pipeline.filtered_sessions[global_epoch_name].replay))\n",
    "# global_replays = TimeColumnAliasesProtocol.renaming_synonym_columns_if_needed(deepcopy(curr_active_pipeline.filtered_sessions[global_epoch_name].replay))\n",
    "# active_replay_epochs, active_epochs_df, active_selected_spikes_df = combine_rank_order_results(rank_order_results, global_replays, track_templates=track_templates)\n",
    "# active_epochs_df\n",
    "\n",
    "# ripple_result_tuple.directional_likelihoods_tuple.long_best_direction_indices\n",
    "dir_index_to_direction_name_map: Dict[int, str] = {0:'LR', 1:\"RL\"}\n",
    "\n",
    "\n",
    "## All three DataFrames are the same number of rows, each with one row corresponding to an Epoch:\n",
    "active_replay_epochs_df = deepcopy(rank_order_results.LR_ripple.epochs_df)\n",
    "# active_replay_epochs_df\n",
    "\n",
    "# Change column type to int8 for columns: 'long_best_direction_indices', 'short_best_direction_indices'\n",
    "# directional_likelihoods_df = pd.DataFrame.from_dict(ripple_result_tuple.directional_likelihoods_tuple._asdict()).astype({'long_best_direction_indices': 'int8', 'short_best_direction_indices': 'int8'})\n",
    "directional_likelihoods_df = ripple_result_tuple.directional_likelihoods_df\n",
    "# directional_likelihoods_df\n",
    "\n",
    "# 2023-12-15 - Newest method:\n",
    "# laps_combined_epoch_stats_df = rank_order_results.laps_combined_epoch_stats_df\n",
    "\n",
    "# ripple_combined_epoch_stats_df: pd.DataFrame  = rank_order_results.ripple_combined_epoch_stats_df\n",
    "# ripple_combined_epoch_stats_df\n",
    "\n",
    "\n",
    "# # Concatenate the three DataFrames along the columns axis:\n",
    "# # Assert that all DataFrames have the same number of rows:\n",
    "# assert len(active_replay_epochs_df) == len(directional_likelihoods_df) == len(ripple_combined_epoch_stats_df), \"DataFrames have different numbers of rows.\"\n",
    "# # Assert that all DataFrames have at least one row:\n",
    "# assert len(active_replay_epochs_df) > 0, \"active_replay_epochs_df is empty.\"\n",
    "# assert len(directional_likelihoods_df) > 0, \"directional_likelihoods_df is empty.\"\n",
    "# assert len(ripple_combined_epoch_stats_df) > 0, \"ripple_combined_epoch_stats_df is empty.\"\n",
    "# merged_complete_epoch_stats_df: pd.DataFrame = pd.concat([active_replay_epochs_df.reset_index(drop=True, inplace=False), directional_likelihoods_df.reset_index(drop=True, inplace=False), ripple_combined_epoch_stats_df.reset_index(drop=True, inplace=False)], axis=1)\n",
    "# merged_complete_epoch_stats_df = merged_complete_epoch_stats_df.set_index(active_replay_epochs_df.index, inplace=False)\n",
    "\n",
    "# merged_complete_epoch_stats_df: pd.DataFrame = rank_order_results.ripple_merged_complete_epoch_stats_df ## New method\n",
    "# merged_complete_epoch_stats_df.to_csv('output/2023-12-21_merged_complete_epoch_stats_df.csv')\n",
    "# merged_complete_epoch_stats_df\n",
    "\n",
    "laps_merged_complete_epoch_stats_df: pd.DataFrame = rank_order_results.laps_merged_complete_epoch_stats_df ## New method\n",
    "ripple_merged_complete_epoch_stats_df: pd.DataFrame = rank_order_results.ripple_merged_complete_epoch_stats_df ## New method\n",
    "\n",
    "# DirectionalMergedDecoders: Get the result after computation:\n",
    "directional_merged_decoders_result = curr_active_pipeline.global_computation_results.computed_data['DirectionalMergedDecoders']\n",
    "\n",
    "all_directional_decoder_dict_value = directional_merged_decoders_result.all_directional_decoder_dict\n",
    "all_directional_pf1D_Decoder_value = directional_merged_decoders_result.all_directional_pf1D_Decoder\n",
    "# long_directional_pf1D_Decoder_value = directional_merged_decoders_result.long_directional_pf1D_Decoder\n",
    "# long_directional_decoder_dict_value = directional_merged_decoders_result.long_directional_decoder_dict\n",
    "# short_directional_pf1D_Decoder_value = directional_merged_decoders_result.short_directional_pf1D_Decoder\n",
    "# short_directional_decoder_dict_value = directional_merged_decoders_result.short_directional_decoder_dict\n",
    "\n",
    "all_directional_laps_filter_epochs_decoder_result_value = directional_merged_decoders_result.all_directional_laps_filter_epochs_decoder_result\n",
    "all_directional_ripple_filter_epochs_decoder_result_value = directional_merged_decoders_result.all_directional_ripple_filter_epochs_decoder_result\n",
    "\n",
    "laps_directional_marginals, laps_directional_all_epoch_bins_marginal, laps_most_likely_direction_from_decoder, laps_is_most_likely_direction_LR_dir  = directional_merged_decoders_result.laps_directional_marginals_tuple\n",
    "laps_track_identity_marginals, laps_track_identity_all_epoch_bins_marginal, laps_most_likely_track_identity_from_decoder, laps_is_most_likely_track_identity_Long = directional_merged_decoders_result.laps_track_identity_marginals_tuple\n",
    "ripple_directional_marginals, ripple_directional_all_epoch_bins_marginal, ripple_most_likely_direction_from_decoder, ripple_is_most_likely_direction_LR_dir  = directional_merged_decoders_result.ripple_directional_marginals_tuple\n",
    "ripple_track_identity_marginals, ripple_track_identity_all_epoch_bins_marginal, ripple_most_likely_track_identity_from_decoder, ripple_is_most_likely_track_identity_Long = directional_merged_decoders_result.ripple_track_identity_marginals_tuple\n",
    "\n",
    "ripple_decoding_time_bin_size: float = directional_merged_decoders_result.ripple_decoding_time_bin_size\n",
    "laps_decoding_time_bin_size: float = directional_merged_decoders_result.laps_decoding_time_bin_size\n",
    "\n",
    "laps_all_epoch_bins_marginals_df = directional_merged_decoders_result.laps_all_epoch_bins_marginals_df\n",
    "ripple_all_epoch_bins_marginals_df = directional_merged_decoders_result.ripple_all_epoch_bins_marginals_df\n"
   ]
  },
  {
   "cell_type": "code",
   "execution_count": null,
   "id": "634e6027",
   "metadata": {},
   "outputs": [],
   "source": [
    "laps_all_epoch_bins_marginals_df"
   ]
  },
  {
   "cell_type": "code",
   "execution_count": null,
   "id": "8cdabd71",
   "metadata": {},
   "outputs": [],
   "source": [
    "type(ripple_result_tuple) # pyphoplacecellanalysis.General.Pipeline.Stages.ComputationFunctions.MultiContextComputationFunctions.RankOrderComputations.DirectionalRankOrderResult\n"
   ]
  },
  {
   "cell_type": "code",
   "execution_count": null,
   "id": "8fca534c",
   "metadata": {},
   "outputs": [],
   "source": [
    "assert isinstance(ripple_result_tuple, DirectionalRankOrderResult) \n",
    "\n",
    "ripple_result_tuple.plot_histograms(num='test')"
   ]
  },
  {
   "cell_type": "code",
   "execution_count": null,
   "id": "084f3f69",
   "metadata": {},
   "outputs": [],
   "source": [
    "from functools import wraps, partial\n",
    "import pandas as pd\n",
    "import matplotlib.pyplot as plt\n",
    "\n",
    "def register_type_display(func_to_register, type_to_register):\n",
    "\t\"\"\" adds the display function (`func_to_register`) it decorates to the class (`type_to_register) as a method\n",
    "\n",
    "\n",
    "\t\"\"\"\n",
    "\t@wraps(func_to_register)\n",
    "\tdef wrapper(*args, **kwargs):\n",
    "\t\treturn func_to_register(*args, **kwargs)\n",
    "\n",
    "\tfunction_name: str = func_to_register.__name__ # get the name of the function to be added as the property\n",
    "\tsetattr(type_to_register, function_name, wrapper) # set the function as a method with the same name as the decorated function on objects of the class.\t\n",
    "\treturn wrapper\n",
    "\n"
   ]
  },
  {
   "cell_type": "code",
   "execution_count": null,
   "id": "15629dae",
   "metadata": {},
   "outputs": [],
   "source": [
    "from pyphoplacecellanalysis.General.Pipeline.Stages.ComputationFunctions.MultiContextComputationFunctions.RankOrderComputations import DirectionalRankOrderResult\n",
    "from pyphocorehelpers.DataStructure.RenderPlots.MatplotLibRenderPlots import MatplotlibRenderPlots \n",
    "\n",
    "# @register_type_display(DirectionalRankOrderResult)\n",
    "def plot_histograms(self: DirectionalRankOrderResult, **kwargs) -> \"MatplotlibRenderPlots\":\n",
    "\t\"\"\" \n",
    "\tnum='RipplesRankOrderZscore'\n",
    "\t\"\"\"\n",
    "\tprint(f'.plot_histograms(..., kwargs: {kwargs})')\n",
    "\tfig = plt.figure(layout=\"constrained\", **kwargs)\n",
    "\tax_dict = fig.subplot_mosaic(\n",
    "\t\t[\n",
    "\t\t\t[\"long_short_best_z_score_diff\", \"long_short_best_z_score_diff\"],\n",
    "\t\t\t[\"long_best_z_scores\", \"short_best_z_scores\"],\n",
    "\t\t],\n",
    "\t)\n",
    "\tplots = (pd.DataFrame({'long_best_z_scores': self.long_best_dir_z_score_values}).hist(ax=ax_dict['long_best_z_scores'], bins=21, alpha=0.8),\n",
    "\t\tpd.DataFrame({'short_best_z_scores': self.short_best_dir_z_score_values}).hist(ax=ax_dict['short_best_z_scores'], bins=21, alpha=0.8),\n",
    "\t\tpd.DataFrame({'long_short_best_z_score_diff': self.long_short_best_dir_z_score_diff_values}).hist(ax=ax_dict['long_short_best_z_score_diff'], bins=21, alpha=0.8),\n",
    "\t)\n",
    "\treturn MatplotlibRenderPlots(name='plot_histogram_figure', figures=[fig], axes=ax_dict)\n",
    "\n",
    "\n",
    "register_type_display(plot_histograms, DirectionalRankOrderResult)\n",
    "## Call the newly added `plot_histograms` function on the `ripple_result_tuple` object which is of type `DirectionalRankOrderResult`:\n",
    "assert isinstance(ripple_result_tuple, DirectionalRankOrderResult) \n",
    "ripple_result_tuple.plot_histograms(num='test')"
   ]
  },
  {
   "cell_type": "code",
   "execution_count": null,
   "id": "e34a15a8",
   "metadata": {},
   "outputs": [],
   "source": [
    "from pyphoplacecellanalysis.General.Pipeline.Stages.ComputationFunctions.MultiContextComputationFunctions.RankOrderComputations import Zscorer\n",
    "\n",
    "from pyphocorehelpers.general_helpers import GeneratedClassDefinitionType, CodeConversion\n",
    "\n",
    "CodeConversion.convert_dictionary_to_class_defn(ripple_result_tuple, class_name='DirectionalRankOrderResult', class_definition_mode=GeneratedClassDefinitionType.ATTRS_CLASS)"
   ]
  },
  {
   "cell_type": "code",
   "execution_count": null,
   "id": "bab116e8",
   "metadata": {},
   "outputs": [],
   "source": [
    "from pyphoplacecellanalysis.General.Pipeline.Stages.ComputationFunctions.MultiContextComputationFunctions.RankOrderComputations import LongShortStatsTuple\n",
    "\n",
    "# CodeConversion.convert_dictionary_to_class_defn(example_result, class_name='LongShortStatsTuple', class_definition_mode=GeneratedClassDefinitionType.ATTRS_CLASS)\n",
    "\n",
    "from attrs import define, field, Factory, astuple, asdict\n",
    "from pyphoplacecellanalysis.General.Pipeline.Stages.ComputationFunctions.MultiContextComputationFunctions.RankOrderComputations import Zscorer\n",
    "\n",
    "@define(slots=False)\n",
    "class LongShortStatsItem(object):\n",
    "    \"\"\" from namedtuple LongShortStatsTuple\n",
    "    \"\"\"\n",
    "    long_stats_z_scorer: Zscorer = field()\n",
    "    short_stats_z_scorer: Zscorer = field()\n",
    "    long_short_z_diff: np.float64 = field()\n",
    "    long_short_naive_z_diff: np.float64 = field()\n",
    "    is_forward_replay: np.bool_ = field()\n",
    "\n",
    "example_result_obj = LongShortStatsItem(*example_result)\n"
   ]
  },
  {
   "cell_type": "code",
   "execution_count": null,
   "id": "d5a03f3e",
   "metadata": {},
   "outputs": [],
   "source": [
    "from attrs import define, field, Factory, astuple, asdict\n",
    "from pyphoplacecellanalysis.General.Pipeline.Stages.ComputationFunctions.MultiContextComputationFunctions.RankOrderComputations import DirectionalRankOrderLikelihoods\n",
    "import list\n",
    "import type\n",
    "\n",
    "@define(slots=False)\n",
    "class DirectionalRankOrderResult(object):\n",
    "    # Docstring for DirectionalRankOrderResult. \n",
    "\n",
    "    active_epochs: pd.DataFrame\n",
    "    long_best_dir_z_score_values: np.ndarray\n",
    "    short_best_dir_z_score_values: np.ndarray\n",
    "    long_short_best_dir_z_score_diff_values: np.ndarray\n",
    "    directional_likelihoods_tuple: DirectionalRankOrderLikelihoods\n",
    "    masked_z_score_values_list: list\n",
    "    rank_order_z_score_df: type\n",
    "\n",
    "\n"
   ]
  },
  {
   "cell_type": "code",
   "execution_count": null,
   "id": "b101f684",
   "metadata": {},
   "outputs": [],
   "source": [
    "from pyphocorehelpers.general_helpers import CodeConversion\n",
    "\n",
    "CodeConversion._isinstance_namedtuple(ripple_result_tuple)"
   ]
  },
  {
   "cell_type": "code",
   "execution_count": null,
   "id": "09d28aa2",
   "metadata": {},
   "outputs": [],
   "source": [
    "from attrs import define, field, Factory, astuple, asdict\n",
    "from pyphoplacecellanalysis.General.Pipeline.Stages.ComputationFunctions.MultiContextComputationFunctions.RankOrderComputations import DirectionalRankOrderLikelihoods\n",
    "import list\n",
    "import type\n",
    "\n",
    "@define(slots=False)\n",
    "class DirectionalRankOrderResult(object):\n",
    "    # Docstring for DirectionalRankOrderResult. \n",
    "\n",
    "    active_epochs: pd.DataFrame\n",
    "    long_best_dir_z_score_values: np.ndarray\n",
    "    short_best_dir_z_score_values: np.ndarray\n",
    "    long_short_best_dir_z_score_diff_values: np.ndarray\n",
    "    directional_likelihoods_tuple: DirectionalRankOrderLikelihoods\n",
    "    masked_z_score_values_list: list\n",
    "    rank_order_z_score_df: type"
   ]
  },
  {
   "cell_type": "code",
   "execution_count": null,
   "id": "788190b4",
   "metadata": {},
   "outputs": [],
   "source": [
    "ripple_result_tuple.__dict__"
   ]
  },
  {
   "cell_type": "code",
   "execution_count": null,
   "id": "387b495b",
   "metadata": {},
   "outputs": [],
   "source": [
    "from collections import namedtuple\n",
    "\n",
    "def convert_to_parsable_type(an_obj_instance):\n",
    "\tif isinstance(an_obj_instance, (namedtuple, )):\n",
    "\t\t# use namedtuple's built-in `._asdict()` property:\n",
    "\t\treturn an_obj_instance._asdict()\n",
    "\t\n",
    "\n"
   ]
  },
  {
   "cell_type": "code",
   "execution_count": null,
   "id": "17abf222",
   "metadata": {},
   "outputs": [],
   "source": [
    "print_keys_if_possible('DirectionalRankOrderResultBase', ripple_result_tuple._asdict(), depth=3)"
   ]
  },
  {
   "cell_type": "code",
   "execution_count": null,
   "id": "c7d47bc6",
   "metadata": {},
   "outputs": [],
   "source": [
    "ripple_result_tuple._asdict()"
   ]
  },
  {
   "cell_type": "code",
   "execution_count": null,
   "id": "9a8d802e",
   "metadata": {},
   "outputs": [],
   "source": [
    "ripple_result_tuple"
   ]
  },
  {
   "cell_type": "code",
   "execution_count": null,
   "id": "fd1bdb95",
   "metadata": {},
   "outputs": [],
   "source": [
    "ripple_result_tuple.directional_likelihoods_df"
   ]
  },
  {
   "cell_type": "code",
   "execution_count": null,
   "id": "1c291690",
   "metadata": {},
   "outputs": [],
   "source": [
    "ripple_result_tuple.plot_histograms()"
   ]
  },
  {
   "cell_type": "code",
   "execution_count": null,
   "id": "33b30bcb",
   "metadata": {},
   "outputs": [],
   "source": [
    "print(f'\\t try saving to CSV...')\n",
    "merged_complete_epoch_stats_df = rank_order_results.ripple_merged_complete_epoch_stats_df ## New method\n",
    "\n",
    "merged_complete_ripple_epoch_stats_df_output_path = curr_active_pipeline.get_output_path().joinpath(f'{DAY_DATE_TO_USE}_1247pm_merged_complete_epoch_stats_df.csv').resolve()\n",
    "merged_complete_epoch_stats_df.to_csv(merged_complete_ripple_epoch_stats_df_output_path)\n",
    "print(f'\\t saving to CSV: {merged_complete_ripple_epoch_stats_df_output_path} done.')"
   ]
  },
  {
   "cell_type": "code",
   "execution_count": null,
   "id": "ee47f176",
   "metadata": {},
   "outputs": [],
   "source": [
    "from pyphocorehelpers.indexing_helpers import reorder_columns\n",
    "\n",
    "dict(zip(['Long_LR_evidence', 'Long_RL_evidence', 'Short_LR_evidence', 'Short_RL_evidence'], np.arange(4)+4))\n",
    "reorder_columns(merged_complete_epoch_stats_df, column_name_desired_index_dict=dict(zip(['Long_LR_evidence', 'Long_RL_evidence', 'Short_LR_evidence', 'Short_RL_evidence'], np.arange(4)+4)))\n"
   ]
  },
  {
   "cell_type": "markdown",
   "id": "2dceda30",
   "metadata": {},
   "source": [
    "## 2023-12-21 - Computing Spearman Percentiles as an alternative to the Z-score from shuffling, which does not seem to work for small numbers of active cells in an event:"
   ]
  },
  {
   "cell_type": "code",
   "execution_count": null,
   "id": "b45aa7e2",
   "metadata": {},
   "outputs": [],
   "source": [
    "output_active_epoch_computed_values, shuffled_results_output_dict, combined_variable_names, valid_stacked_arrays, real_stacked_arrays, n_valid_shuffles = rank_order_results.ripple_new_output_tuple\n",
    "# shuffled_results_output_dict['short_LR_pearson_Z']\n",
    "print(list(shuffled_results_output_dict.keys())) # ['short_LR_pearson_Z', 'short_LR_spearman_Z', 'short_RL_pearson_Z', 'short_RL_spearman_Z', 'long_LR_pearson_Z', 'long_RL_pearson_Z', 'long_RL_spearman_Z', 'long_LR_spearman_Z']\n",
    "\n",
    "['long_LR_pearson_Z', 'long_RL_pearson_Z', 'short_LR_pearson_Z', 'short_RL_pearson_Z']"
   ]
  },
  {
   "cell_type": "code",
   "execution_count": null,
   "id": "46b40bfe",
   "metadata": {},
   "outputs": [],
   "source": [
    "## 2023-12-22 - Add the LR-LR, RL-RL differences\n",
    "merged_complete_epoch_stats_df['LongShort_LR_quantile_diff'] = merged_complete_epoch_stats_df['LR_Long_rank_percentile'] - merged_complete_epoch_stats_df['LR_Short_rank_percentile']\n",
    "merged_complete_epoch_stats_df['LongShort_RL_quantile_diff'] = merged_complete_epoch_stats_df['RL_Long_rank_percentile'] - merged_complete_epoch_stats_df['RL_Short_rank_percentile']\n"
   ]
  },
  {
   "cell_type": "code",
   "execution_count": null,
   "id": "e73865dd",
   "metadata": {},
   "outputs": [],
   "source": [
    "ripple_combined_epoch_stats_df = deepcopy(merged_complete_epoch_stats_df)\n",
    "\n",
    "# Filter rows based on columns: 'Long_BestDir_quantile', 'Short_BestDir_quantile'\n",
    "quantile_significance_threshold: float = 0.95\n",
    "significant_BestDir_quantile_stats_df = ripple_combined_epoch_stats_df[(ripple_combined_epoch_stats_df['Long_BestDir_quantile'] > quantile_significance_threshold) | (ripple_combined_epoch_stats_df['Short_BestDir_quantile'] > quantile_significance_threshold)]\n",
    "LR_likely_active_df = ripple_combined_epoch_stats_df[(ripple_combined_epoch_stats_df['combined_best_direction_indicies']==0) & ((ripple_combined_epoch_stats_df['LR_Long_rank_percentile'] > quantile_significance_threshold) | (ripple_combined_epoch_stats_df['LR_Short_rank_percentile'] > quantile_significance_threshold))]\n",
    "RL_likely_active_df = ripple_combined_epoch_stats_df[(ripple_combined_epoch_stats_df['combined_best_direction_indicies']==1) & ((ripple_combined_epoch_stats_df['RL_Long_rank_percentile'] > quantile_significance_threshold) | (ripple_combined_epoch_stats_df['RL_Short_rank_percentile'] > quantile_significance_threshold))]\n",
    "\n",
    "# significant_ripple_combined_epoch_stats_df = ripple_combined_epoch_stats_df[(ripple_combined_epoch_stats_df['LR_Long_rank_percentile'] > quantile_significance_threshold) | (ripple_combined_epoch_stats_df['LR_Short_rank_percentile'] > quantile_significance_threshold) | (ripple_combined_epoch_stats_df['RL_Long_rank_percentile'] > quantile_significance_threshold) | (ripple_combined_epoch_stats_df['RL_Short_rank_percentile'] > quantile_significance_threshold)]\n",
    "# significant_ripple_combined_epoch_stats_df\n",
    "is_epoch_significant = np.isin(ripple_combined_epoch_stats_df.index, significant_BestDir_quantile_stats_df.index)\n",
    "active_replay_epochs_df = rank_order_results.LR_ripple.epochs_df\n",
    "significant_ripple_epochs: Epoch = Epoch(deepcopy(active_replay_epochs_df).epochs.get_valid_df()).boolean_indicies_slice(is_epoch_significant)\n",
    "epoch_identifiers = significant_ripple_epochs._df.label.astype({'label': RankOrderAnalyses._label_column_type}).values #.labels\n",
    "x_values = significant_ripple_epochs.midtimes\n",
    "x_axis_name_suffix = 'Mid-time (Sec)'\n",
    "\n",
    "# significant_ripple_epochs_df = significant_ripple_epochs.to_dataframe()\n",
    "# significant_ripple_epochs_df\n",
    "\n",
    "significant_BestDir_quantile_stats_df['midtimes'] = significant_ripple_epochs.midtimes\n",
    "significant_BestDir_quantile_stats_df"
   ]
  },
  {
   "cell_type": "code",
   "execution_count": null,
   "id": "bb18612f",
   "metadata": {},
   "outputs": [],
   "source": [
    "from pyphoplacecellanalysis.General.Pipeline.Stages.ComputationFunctions.MultiContextComputationFunctions.RankOrderComputations import _plot_significant_event_quantile_fig\n",
    "\n",
    "# active_replay_epochs_df = rank_order_results.LR_ripple.epochs_df\n",
    "# if isinstance(global_events, pd.DataFrame):\n",
    "#     active_replay_epochs = Epoch(deepcopy(active_replay_epochs_df).epochs.get_valid_df())\n",
    "\n",
    "\n",
    "# _out = _plot_significant_event_quantile_fig(curr_active_pipeline, significant_ripple_combined_epoch_stats_df=significant_ripple_combined_epoch_stats_df)\n",
    "# _out\n",
    "\n",
    "marker_style = dict(linestyle='None', color='#ff7f0eff', markersize=6, markerfacecolor='#ff7f0eb4', markeredgecolor='#ff7f0eff')\n",
    "\n",
    "    # dict(facecolor='#ff7f0eb4', size=8.0)\n",
    "    # fignum='best_quantiles'\n",
    "\n",
    "# ripple_combined_epoch_stats_df['combined_best_direction_indicies']\n",
    "\n",
    "_out = significant_BestDir_quantile_stats_df[['midtimes', 'LongShort_BestDir_quantile_diff']].plot(x='midtimes', y='LongShort_BestDir_quantile_diff', title='Sig. (>0.95) Best Quantile Diff', **marker_style, marker='o')\n",
    "\n",
    "\n"
   ]
  },
  {
   "cell_type": "code",
   "execution_count": null,
   "id": "a618ac40",
   "metadata": {},
   "outputs": [],
   "source": [
    "import seaborn as sns\n",
    "from pyphoplacecellanalysis.General.Pipeline.Stages.ComputationFunctions.MultiContextComputationFunctions.RankOrderComputations import plot_quantile_diffs\n",
    "\n",
    "_restore_previous_matplotlib_settings_callback = matplotlib_configuration_update(is_interactive=True, backend='Qt5Agg')\n",
    "global_epoch = curr_active_pipeline.filtered_epochs[global_epoch_name]\n",
    "short_epoch = curr_active_pipeline.filtered_epochs[short_epoch_name]\n",
    "split_time_t: float = short_epoch.t_start\n",
    "active_context = curr_active_pipeline.sess.get_context()\n",
    "\n",
    "collector = plot_quantile_diffs(ripple_merged_complete_epoch_stats_df, t_split=split_time_t, active_context=active_context)\n"
   ]
  },
  {
   "cell_type": "code",
   "execution_count": null,
   "id": "0dd89199",
   "metadata": {},
   "outputs": [],
   "source": [
    "\n",
    "from flexitext import flexitext ## flexitext for formatted matplotlib text\n",
    "from neuropy.utils.matplotlib_helpers import perform_update_title_subtitle\n",
    "perform_update_title_subtitle(fig=fig_long_pf_1D, ax=ax_long_pf_1D, title_string=title_string, subtitle_string=subtitle_string, active_context=active_context, use_flexitext_titles=True)\n"
   ]
  },
  {
   "cell_type": "code",
   "execution_count": null,
   "id": "1e46ba5f",
   "metadata": {},
   "outputs": [],
   "source": [
    "\n",
    "from neuropy.utils.matplotlib_helpers import draw_epoch_regions\n",
    "epochs_collection, epoch_labels = draw_epoch_regions(curr_active_pipeline.sess.epochs, ax, defer_render=False, debug_print=False)"
   ]
  },
  {
   "cell_type": "code",
   "execution_count": null,
   "id": "24ecb4c7",
   "metadata": {},
   "outputs": [],
   "source": [
    "print(list(significant_BestDir_quantile_stats_df.columns))\n",
    "['LR_Long_rank_percentile', 'LR_Short_rank_percentile', 'RL_Long_rank_percentile', 'RL_Short_rank_percentile', 'Long_BestDir_quantile', 'Short_BestDir_quantile', 'LongShort_BestDir_quantile_diff']\n",
    "\n",
    "for a_name in ['LR_Long_rank_percentile', 'LR_Short_rank_percentile', 'RL_Long_rank_percentile', 'RL_Short_rank_percentile', 'Long_BestDir_quantile', 'Short_BestDir_quantile', 'LongShort_BestDir_quantile_diff']:\n",
    "\t_out = significant_BestDir_quantile_stats_df[['midtimes', 'LongShort_BestDir_quantile_diff']].plot(x='midtimes', y=a_name, title=f'Sig. (>0.95) {a_name}', **marker_style, marker='o')"
   ]
  },
  {
   "cell_type": "code",
   "execution_count": null,
   "id": "f883fba9",
   "metadata": {},
   "outputs": [],
   "source": [
    "# quantile_results_df[['LR_Long_rank_percentile', 'RL_Long_rank_percentile', 'LR_Short_rank_percentile', 'RL_Short_rank_percentile']].plot.hist(bins=21)\n",
    "# quantile_results_df[['LR_Long_rank_percentile', 'RL_Long_rank_percentile', 'LR_Short_rank_percentile', 'RL_Short_rank_percentile']].plot.hist(bins=21)\n",
    "\n",
    "df = quantile_results_df[['LR_Long_rank_percentile', 'RL_Long_rank_percentile', 'LR_Short_rank_percentile', 'RL_Short_rank_percentile']].copy()\n",
    "# Create the subplots and loop through columns\n",
    "fig, axes = plt.subplots(4, 1, figsize=(10, 10))\n",
    "for i, col in enumerate(df.columns):\n",
    "    df[col].plot.hist(ax=axes[i], bins=21)\n",
    "    axes[i].set_title(col)\n",
    "\n",
    "# Adjust layout and display plot\n",
    "plt.tight_layout()\n",
    "plt.show()\n",
    "\n"
   ]
  },
  {
   "cell_type": "code",
   "execution_count": null,
   "id": "9fd61a13",
   "metadata": {},
   "outputs": [],
   "source": [
    "win = pg.GraphicsLayoutWidget(show=True)\n",
    "win.resize(800,350)\n",
    "win.setWindowTitle('Z-Scorer: Histogram')\n",
    "plt1 = win.addPlot()\n",
    "vals = quantile_results_df.LR_Long_rank_percentile\n",
    "fisher_z_transformed_vals = np.arctanh(vals)\n",
    "\n",
    "## compute standard histogram\n",
    "y, x = np.histogram(vals) # , bins=np.linspace(-3, 8, 40)\n",
    "# fisher_z_transformed_y, x = np.histogram(fisher_z_transformed_vals, bins=x)\n",
    "\n",
    "## Using stepMode=\"center\" causes the plot to draw two lines for each sample.\n",
    "## notice that len(x) == len(y)+1\n",
    "plt1.plot(x, y, stepMode=\"center\", fillLevel=0, fillOutline=True, brush=(0,0,255,50), name='original_values')\n",
    "plt1.plot(x, y, stepMode=\"center\", fillLevel=0, fillOutline=True, brush=(0,0,255,50), name='original_values')\n",
    "# plt1.plot(x, fisher_z_transformed_y, stepMode=\"center\", fillLevel=0, fillOutline=True, brush=(0,255,100,50), name='fisher_z_values')\n",
    "\n",
    "# ## Now draw all points as a nicely-spaced scatter plot\n",
    "y = pg.pseudoScatter(vals, spacing=0.15)\n",
    "# #plt2.plot(vals, y, pen=None, symbol='o', symbolSize=5)\n",
    "plt2.plot(vals, y, pen=None, symbol='o', symbolSize=5, symbolPen=(255,255,255,200), symbolBrush=(0,0,255,150))\n"
   ]
  },
  {
   "cell_type": "code",
   "execution_count": null,
   "id": "d30cb791",
   "metadata": {},
   "outputs": [],
   "source": [
    "\n",
    "pd.concat((ripple_combined_epoch_stats_df, ripple_p_values_epoch_stats_df), axis='columns')"
   ]
  },
  {
   "cell_type": "code",
   "execution_count": null,
   "id": "d300a225",
   "metadata": {},
   "outputs": [],
   "source": [
    "ripple_result_tuple.directional_likelihoods_tuple"
   ]
  },
  {
   "cell_type": "code",
   "execution_count": null,
   "id": "43327521",
   "metadata": {},
   "outputs": [],
   "source": [
    "np.logical_not(np.isnan(rank_order_results.ripple_combined_epoch_stats_df.index).any())\n",
    "# ripple_combined_epoch_stats_df.label.isna()"
   ]
  },
  {
   "cell_type": "code",
   "execution_count": null,
   "id": "bb3c142b",
   "metadata": {},
   "outputs": [],
   "source": [
    "ripple_combined_epoch_stats_df"
   ]
  },
  {
   "cell_type": "code",
   "execution_count": null,
   "id": "4f3cedf8",
   "metadata": {},
   "outputs": [],
   "source": [
    "np.isnan(ripple_combined_epoch_stats_df.label).any()"
   ]
  },
  {
   "cell_type": "code",
   "execution_count": null,
   "id": "31224e10",
   "metadata": {},
   "outputs": [],
   "source": [
    "np.isnan(ripple_combined_epoch_stats_df.index).any()"
   ]
  },
  {
   "cell_type": "code",
   "execution_count": 11,
   "id": "60749347",
   "metadata": {
    "notebookRunGroups": {
     "groupValue": "1"
    }
   },
   "outputs": [
    {
     "name": "stdout",
     "output_type": "stream",
     "text": [
      "\tdone. building global result.\n"
     ]
    }
   ],
   "source": [
    "print(f'\\tdone. building global result.')\n",
    "directional_laps_results: DirectionalLapsResult = curr_active_pipeline.global_computation_results.computed_data['DirectionalLaps']\n",
    "selected_spikes_df = deepcopy(curr_active_pipeline.global_computation_results.computed_data['RankOrder'].LR_ripple.selected_spikes_df)\n",
    "# active_epochs = global_computation_results.computed_data['RankOrder'].ripple_most_likely_result_tuple.active_epochs\n",
    "active_epochs = deepcopy(curr_active_pipeline.global_computation_results.computed_data['RankOrder'].LR_ripple.epochs_df)\n",
    "track_templates = directional_laps_results.get_templates(minimum_inclusion_fr_Hz=minimum_inclusion_fr_Hz)\n"
   ]
  },
  {
   "cell_type": "code",
   "execution_count": null,
   "id": "97ab4052",
   "metadata": {},
   "outputs": [],
   "source": [
    "ripple_combined_epoch_stats_df, ripple_new_output_tuple = RankOrderAnalyses.pandas_df_based_correlation_computations(selected_spikes_df=selected_spikes_df, active_epochs_df=active_epochs, track_templates=track_templates, num_shuffles=100)\n"
   ]
  },
  {
   "cell_type": "code",
   "execution_count": null,
   "id": "313886d9",
   "metadata": {},
   "outputs": [],
   "source": [
    "# new_output_tuple (output_active_epoch_computed_values, valid_stacked_arrays, real_stacked_arrays, n_valid_shuffles) = ripple_new_output_tuple\n",
    "curr_active_pipeline.global_computation_results.computed_data['RankOrder'].ripple_combined_epoch_stats_df, curr_active_pipeline.global_computation_results.computed_data['RankOrder'].ripple_new_output_tuple = ripple_combined_epoch_stats_df, ripple_new_output_tuple\n",
    "print(f'done!')"
   ]
  },
  {
   "cell_type": "code",
   "execution_count": null,
   "id": "35e95d52",
   "metadata": {},
   "outputs": [],
   "source": [
    "decoder_aclu_peak_map_dict = track_templates.get_decoder_aclu_peak_map_dict()\n",
    "## Restrict to only the relevant columns, and Initialize the dataframe columns to np.nan:\n",
    "active_selected_spikes_df: pd.DataFrame = deepcopy(selected_spikes_df[['t_rel_seconds', 'aclu', 'Probe_Epoch_id']]).sort_values(['Probe_Epoch_id', 't_rel_seconds', 'aclu']).astype({'Probe_Epoch_id': RankOrderAnalyses._label_column_type}) # Sort by columns: 'Probe_Epoch_id' (ascending), 't_rel_seconds' (ascending), 'aclu' (ascending)\n",
    "\n",
    "# _pf_peak_x_column_names = ['LR_Long_pf_peak_x', 'RL_Long_pf_peak_x', 'LR_Short_pf_peak_x', 'RL_Short_pf_peak_x']\n",
    "_pf_peak_x_column_names = [f'{a_decoder_name}_pf_peak_x' for a_decoder_name in track_templates.get_decoder_names()]\n",
    "active_selected_spikes_df[_pf_peak_x_column_names] = pd.DataFrame([[RankOrderAnalyses._NaN_Type, RankOrderAnalyses._NaN_Type, RankOrderAnalyses._NaN_Type, RankOrderAnalyses._NaN_Type]], index=active_selected_spikes_df.index)\n",
    "\n",
    "unique_Probe_Epoch_IDs = active_selected_spikes_df['Probe_Epoch_id'].unique()\n",
    "unique_Probe_Epoch_IDs"
   ]
  },
  {
   "cell_type": "code",
   "execution_count": null,
   "id": "0896891d",
   "metadata": {},
   "outputs": [],
   "source": [
    "for a_probe_epoch_ID in unique_Probe_Epoch_IDs:\n",
    "\t# probe_epoch_df = active_selected_spikes_df[a_probe_epoch_ID == active_selected_spikes_df['Probe_Epoch_id']]\n",
    "\t# epoch_unique_aclus = probe_epoch_df.aclu.unique()\n",
    "\tmask = (a_probe_epoch_ID == active_selected_spikes_df['Probe_Epoch_id'])\n",
    "\t# epoch_unique_aclus = active_selected_spikes_df.loc[mask, 'aclu'].unique()\n",
    "\tfor a_decoder_name, a_aclu_peak_map in decoder_aclu_peak_map_dict.items():\n",
    "\t\t# Shuffle aclus here:\n",
    "\t\tactive_selected_spikes_df.loc[mask, 'aclu'] = active_selected_spikes_df.loc[mask, 'aclu'].sample(frac=1).values\n",
    "\t\tactive_selected_spikes_df.loc[mask, f'{a_decoder_name}_pf_peak_x'] = active_selected_spikes_df.loc[mask, 'aclu'].map(a_aclu_peak_map)\n",
    "\n",
    "\t\t# ## Shuffle aclus here:\n",
    "\t\t# # probe_epoch_df.aclu.sample(1000)\n",
    "\t\t# # a_aclu_peak_map\n",
    "\t\t# # Assuming 'df' is your DataFrame and 'column_name' is the column you want to shuffle\n",
    "\t\t# probe_epoch_df['aclu'] = probe_epoch_df['aclu'].sample(frac=1).reset_index(drop=True)\n",
    "\n",
    "\t\t# probe_epoch_df[f'{a_decoder_name}_pf_peak_x'] = probe_epoch_df.aclu.map(a_aclu_peak_map)\n",
    "\n",
    "\t\t# active_selected_spikes_df[f'{a_decoder_name}_pf_peak_x'] = active_selected_spikes_df.aclu.map(a_aclu_peak_map)\n"
   ]
  },
  {
   "cell_type": "code",
   "execution_count": null,
   "id": "c9d43ee1",
   "metadata": {},
   "outputs": [],
   "source": [
    "# Determine the number of shuffles you want to do\n",
    "num_shuffles = 5\n",
    "\n",
    "# Create a list to hold the shuffled DataFrames\n",
    "shuffled_dfs = []\n",
    "\n",
    "for i in range(num_shuffles):\n",
    "    # Working on a copy of the DataFrame\n",
    "    shuffled_df = active_selected_spikes_df.copy()\n",
    "    \n",
    "    for a_probe_epoch_ID in unique_Probe_Epoch_IDs:\n",
    "        mask = (a_probe_epoch_ID == shuffled_df['Probe_Epoch_id'])\n",
    "        shuffled_df.loc[mask, 'aclu'] = shuffled_df.loc[mask, 'aclu'].sample(frac=1).values\n",
    "        \n",
    "    # Adding the shuffled DataFrame to the list\n",
    "    shuffled_dfs.append(shuffled_df)\n",
    "\n",
    "# Now applying the mapping\n",
    "for i in range(num_shuffles):\n",
    "    shuffled_df = shuffled_dfs[i]\n",
    "    \n",
    "    for a_probe_epoch_ID in unique_Probe_Epoch_IDs:\n",
    "        mask = (a_probe_epoch_ID == shuffled_df['Probe_Epoch_id'])\n",
    "        \n",
    "        for a_decoder_name, a_aclu_peak_map in decoder_aclu_peak_map_dict.items():\n",
    "            shuffled_df.loc[mask, f'{a_decoder_name}_pf_peak_x'] = shuffled_df.loc[mask, 'aclu'].map(a_aclu_peak_map)\n",
    "        \n",
    "    # Replacing the shuffled DataFrame in the list after mapping has been applied\n",
    "    shuffled_dfs[i] = shuffled_df\n"
   ]
  },
  {
   "cell_type": "code",
   "execution_count": null,
   "id": "f8c2e32c",
   "metadata": {},
   "outputs": [],
   "source": [
    "shuffled_dfs\n",
    "\n",
    "'polars[pandas,numpy,pyarrow,fsspec,connectorx,plot]'\n"
   ]
  },
  {
   "cell_type": "code",
   "execution_count": null,
   "id": "9c306ade",
   "metadata": {},
   "outputs": [],
   "source": [
    "## 2024-01-09 - More Efficient\n",
    "import polars as pl\n",
    "\n",
    "\n",
    "\n",
    "\n",
    "def _new_compute_single_rank_order_shuffle(track_templates, active_selected_spikes_df: pd.DataFrame):\n",
    "    \"\"\" 2024-01-09 - Candidate for moving into RankOrderComputations \n",
    "    captures: decoder_names\n",
    "    \n",
    "    Usage:\n",
    "    \n",
    "    shuffled_dfs = _perform_efficient_shuffle(active_selected_spikes_df, decoder_aclu_peak_map_dict, num_shuffles=5)\n",
    "    \n",
    "    \"\"\"\n",
    "    decoder_names = track_templates.get_decoder_names()\n",
    "    \n",
    "    ## Compute real values here:\n",
    "    epoch_id_grouped_selected_spikes_df = active_selected_spikes_df.groupby('Probe_Epoch_id') # I can even compute this outside the loop?\n",
    "\n",
    "    # spearman_correlations = epoch_id_grouped_selected_spikes_df.apply(lambda group: RankOrderAnalyses._subfn_calculate_correlations(group, method='spearman', decoder_names=decoder_names)).reset_index() # Reset index to make 'Probe_Epoch_id' a column\n",
    "    # pearson_correlations = epoch_id_grouped_selected_spikes_df.apply(lambda group: RankOrderAnalyses._subfn_calculate_correlations(group, method='pearson', decoder_names=decoder_names)).reset_index() # Reset index to make 'Probe_Epoch_id' a column\n",
    "\n",
    "    # real_stats_df = pd.concat((spearman_correlations, pearson_correlations), axis='columns')\n",
    "    # real_stats_df = real_stats_df.loc[:, ~real_stats_df.columns.duplicated()] # drop duplicated 'Probe_Epoch_id' column\n",
    "    # # Change column type to uint64 for column: 'Probe_Epoch_id'\n",
    "    # real_stats_df = real_stats_df.astype({'Probe_Epoch_id': 'uint64'})\n",
    "    # # Rename column 'Probe_Epoch_id' to 'label'\n",
    "    # real_stats_df = real_stats_df.rename(columns={'Probe_Epoch_id': 'label'})\n",
    "    \n",
    "    # Parallelize correlation computations if required\n",
    "    correlations = []\n",
    "    for method in ['spearman', 'pearson']:\n",
    "        correlations.append(\n",
    "            epoch_id_grouped_selected_spikes_df.apply(\n",
    "                lambda group: RankOrderAnalyses._subfn_calculate_correlations(\n",
    "                    group, method=method, decoder_names=decoder_names)\n",
    "            )\n",
    "        )\n",
    "  \n",
    "    # Adjust and join all calculated correlations\n",
    "    real_stats_df = pd.concat(correlations, axis='columns').reset_index()\n",
    "    real_stats_df = real_stats_df.loc[:, ~real_stats_df.columns.duplicated()]\n",
    "\n",
    "    real_stats_df.rename(columns={'Probe_Epoch_id': 'label'}, inplace=True)\n",
    "    real_stats_df['label'] = real_stats_df['label'].astype('uint64')  # in-place type casting\n",
    "    \n",
    "    return real_stats_df\n",
    "\n",
    "\n",
    "# Determine the number of shuffles you want to do\n",
    "def _new_perform_efficient_shuffle(track_templates, active_selected_spikes_df, decoder_aclu_peak_map_dict, num_shuffles:int=5):\n",
    "    \"\"\" 2024-01-09 - Performs the shuffles in a simple way\n",
    "    \n",
    "    \"\"\"\n",
    "    unique_Probe_Epoch_IDs = active_selected_spikes_df['Probe_Epoch_id'].unique()\n",
    "\n",
    "    # Create a list to hold the shuffled dataframes\n",
    "    shuffled_dfs = []\n",
    "    shuffled_stats_dfs = []\n",
    "\n",
    "    for i in range(num_shuffles):\n",
    "        # Working on a copy of the DataFrame\n",
    "        shuffled_df = active_selected_spikes_df.copy()\n",
    "\n",
    "        for a_probe_epoch_ID in unique_Probe_Epoch_IDs:\n",
    "            mask = (a_probe_epoch_ID == shuffled_df['Probe_Epoch_id'])\n",
    "            \n",
    "            # Shuffle 'aclu' values\n",
    "            shuffled_df.loc[mask, 'aclu'] = shuffled_df.loc[mask, 'aclu'].sample(frac=1).values\n",
    "            \n",
    "            # # Apply aclu peak map dictionary to 'aclu' column\n",
    "            # for a_decoder_name, a_aclu_peak_map in decoder_aclu_peak_map_dict.items():\n",
    "            #     shuffled_df.loc[mask, f'{a_decoder_name}_pf_peak_x'] = shuffled_df.loc[mask, 'aclu'].map(a_aclu_peak_map)\n",
    "            \n",
    "\n",
    "        # end `for a_probe_epoch_ID`\n",
    "        # Once done, apply the aclu peak maps to shuffled_df's 'aclu' column:\n",
    "        for a_decoder_name, a_aclu_peak_map in decoder_aclu_peak_map_dict.items():\n",
    "            shuffled_df[f'{a_decoder_name}_pf_peak_x'] = shuffled_df.aclu.map(a_aclu_peak_map)\n",
    "            \n",
    "        a_shuffle_stats_df = _new_compute_single_rank_order_shuffle(track_templates, active_selected_spikes_df=shuffled_df)\n",
    "        \n",
    "        # Adding the shuffled DataFrame to the list\n",
    "        shuffled_dfs.append(shuffled_df)\n",
    "        shuffled_stats_dfs.append(a_shuffle_stats_df)\n",
    "        \n",
    "    return shuffled_dfs, shuffled_stats_dfs\n",
    "\n",
    "\n",
    "\n",
    "def _suggested_perform_efficient_shuffle(track_templates, active_selected_spikes_df, decoder_aclu_peak_map_dict, num_shuffles: int = 5):\n",
    "    unique_Probe_Epoch_IDs = active_selected_spikes_df['Probe_Epoch_id'].unique()\n",
    "    shuffled_dfs = []\n",
    "    shuffled_stats_dfs = []\n",
    "\n",
    "    def map_dict_to_group(group, a_dict, column):\n",
    "        group[column] = group[column].map(a_dict)\n",
    "        return group\n",
    "\n",
    "    for i in range(num_shuffles):\n",
    "        shuffled_df = active_selected_spikes_df.copy()\n",
    "\n",
    "        for a_probe_epoch_ID in unique_Probe_Epoch_IDs:\n",
    "            shuffled_df.loc[shuffled_df['Probe_Epoch_id'] == a_probe_epoch_ID, 'aclu'] = shuffled_df.loc[shuffled_df['Probe_Epoch_id'] == a_probe_epoch_ID, 'aclu'].sample(frac=1).values\n",
    "\n",
    "        for a_decoder_name, a_aclu_peak_map in decoder_aclu_peak_map_dict.items():\n",
    "            shuffled_df = shuffled_df.groupby('Probe_Epoch_id').apply(map_dict_to_group, a_dict=a_aclu_peak_map, column=f'{a_decoder_name}_pf_peak_x')\n",
    "\n",
    "        a_shuffle_stats_df = _new_compute_single_rank_order_shuffle(track_templates, active_selected_spikes_df=shuffled_df)\n",
    "\n",
    "        shuffled_dfs.append(shuffled_df)\n",
    "        shuffled_stats_dfs.append(a_shuffle_stats_df)\n",
    "\n",
    "    return shuffled_dfs, shuffled_stats_dfs\n",
    "\n",
    "\n",
    "\n",
    "## Compute:\n",
    "decoder_aclu_peak_map_dict = track_templates.get_decoder_aclu_peak_map_dict()\n",
    "## Restrict to only the relevant columns, and Initialize the dataframe columns to np.nan:\n",
    "active_selected_spikes_df: pd.DataFrame = deepcopy(selected_spikes_df[['t_rel_seconds', 'aclu', 'Probe_Epoch_id']]).sort_values(['Probe_Epoch_id', 't_rel_seconds', 'aclu']).astype({'Probe_Epoch_id': RankOrderAnalyses._label_column_type}) # Sort by columns: 'Probe_Epoch_id' (ascending), 't_rel_seconds' (ascending), 'aclu' (ascending)\n",
    "# _pf_peak_x_column_names = ['LR_Long_pf_peak_x', 'RL_Long_pf_peak_x', 'LR_Short_pf_peak_x', 'RL_Short_pf_peak_x']\n",
    "_pf_peak_x_column_names = [f'{a_decoder_name}_pf_peak_x' for a_decoder_name in track_templates.get_decoder_names()]\n",
    "active_selected_spikes_df[_pf_peak_x_column_names] = pd.DataFrame([[RankOrderAnalyses._NaN_Type, RankOrderAnalyses._NaN_Type, RankOrderAnalyses._NaN_Type, RankOrderAnalyses._NaN_Type]], index=active_selected_spikes_df.index)\n",
    "\n",
    "# with VizTracer(output_file=f\"viztracer_{get_now_time_str()}-suggested_perform_efficient_shuffle.json\", min_duration=200, tracer_entries=3000000, ignore_frozen=True) as tracer:\n",
    "shuffled_dfs, shuffled_stats_dfs = _suggested_perform_efficient_shuffle(track_templates, active_selected_spikes_df, decoder_aclu_peak_map_dict, num_shuffles=10) # 50, 1m 21.2s, 10, 16.1s\n",
    "# shuffled_dfs, shuffled_stats_dfs = _new_perform_efficient_shuffle(track_templates, active_selected_spikes_df, decoder_aclu_peak_map_dict, num_shuffles=10) # 10, 12.8s\n",
    "\n",
    "\n",
    "shuffled_dfs\n",
    "shuffled_stats_dfs\n",
    "# 5, 4.1 sec\n",
    "# 0.5s!!\n",
    "\n"
   ]
  },
  {
   "cell_type": "code",
   "execution_count": null,
   "id": "8421d876",
   "metadata": {},
   "outputs": [],
   "source": [
    "output_active_epoch_computed_values = shuffled_stats_dfs\n",
    "# Build the output `stacked_arrays`: _________________________________________________________________________________ #\n",
    "\n",
    "stacked_arrays = np.stack([a_shuffle_real_stats_df[combined_variable_names].to_numpy() for a_shuffle_real_stats_df in output_active_epoch_computed_values], axis=0) # for compatibility: .shape (n_shuffles, n_epochs, n_columns)\n",
    "# stacked_df = pd.concat(output_active_epoch_computed_values, axis='index')\n",
    "\n",
    "## Drop any shuffle indicies where NaNs are returned for any of the stats values.\n",
    "is_valid_row = np.logical_not(np.isnan(stacked_arrays)).all(axis=(1,2)) # row [0, 66, :] is bad, ... so is [1, 66, :], ... [20, 66, :], ... they are repeated!!\n",
    "n_valid_shuffles = np.sum(is_valid_row)\n",
    "if debug_print:\n",
    "\tprint(f'n_valid_shuffles: {n_valid_shuffles}')\n",
    "valid_stacked_arrays = stacked_arrays[is_valid_row] ## Get only the rows where all elements along both axis (1, 2) are True\n",
    "\n",
    "# Need: valid_stacked_arrays, real_stacked_arrays, combined_variable_names\n",
    "combined_epoch_stats_df: pd.DataFrame = pd.DataFrame(real_stacked_arrays, columns=combined_variable_names)\n",
    "combined_variable_z_score_column_names = [f\"{a_name}_Z\" for a_name in combined_variable_names] # combined_variable_z_score_column_names: ['LR_Long_spearman_Z', 'RL_Long_spearman_Z', 'LR_Short_spearman_Z', 'RL_Short_spearman_Z', 'LR_Long_pearson_Z', 'RL_Long_pearson_Z', 'LR_Short_pearson_Z', 'RL_Short_pearson_Z']\n",
    "\n",
    "## Extract the stats values for each shuffle from `valid_stacked_arrays`:\n",
    "n_epochs = np.shape(real_stacked_arrays)[0]\n",
    "n_variables = np.shape(real_stacked_arrays)[1]\n",
    "\n",
    "# valid_stacked_arrays.shape: (n_shuffles, n_epochs, n_variables)\n",
    "assert n_epochs == np.shape(valid_stacked_arrays)[-2]\n",
    "assert n_variables == np.shape(valid_stacked_arrays)[-1]"
   ]
  },
  {
   "cell_type": "code",
   "execution_count": null,
   "id": "e660e692",
   "metadata": {},
   "outputs": [],
   "source": [
    "from joblib import Parallel, delayed\n",
    "\n",
    "# Determine the number of shuffles you want to do\n",
    "num_shuffles = 5\n",
    "\n",
    "# Define the operation to be run in parallel for a shuffle iteration\n",
    "def shuffle_iteration(i):\n",
    "    # Working on a copy of the DataFrame\n",
    "    shuffled_df = active_selected_spikes_df.copy()\n",
    "\n",
    "    for a_probe_epoch_ID in unique_Probe_Epoch_IDs:\n",
    "        mask = (a_probe_epoch_ID == shuffled_df['Probe_Epoch_id'])\n",
    "\n",
    "        # Shuffle 'aclu' values\n",
    "        shuffled_df.loc[mask, 'aclu'] = shuffled_df.loc[mask, 'aclu'].sample(frac=1).values\n",
    "\n",
    "        # Apply aclu peak map dictionary to 'aclu' column\n",
    "        for a_decoder_name, a_aclu_peak_map in decoder_aclu_peak_map_dict.items():\n",
    "            shuffled_df.loc[mask, f'{a_decoder_name}_pf_peak_x'] = shuffled_df.loc[mask, 'aclu'].map(a_aclu_peak_map)\n",
    "\n",
    "    # Return the shuffled DataFrame\n",
    "    return shuffled_df\n",
    "\n",
    "# Create a list to hold the shuffled dataframes\n",
    "shuffled_dfs = Parallel(n_jobs=-1)(delayed(shuffle_iteration)(i) for i in range(num_shuffles))"
   ]
  },
  {
   "cell_type": "code",
   "execution_count": null,
   "id": "8f45e697",
   "metadata": {},
   "outputs": [],
   "source": [
    "# ['long_LR_pf_peak_x', 'long_RL_pf_peak_x', 'short_LR_pf_peak_x', 'short_RL_pf_peak_x']\n",
    "peak_column_names = [f'{a_decoder_name}_pf_peak_x' for a_decoder_name, a_aclu_peak_map in decoder_aclu_peak_map_dict.items()]\n",
    "print(peak_column_names) \n"
   ]
  },
  {
   "cell_type": "code",
   "execution_count": null,
   "id": "da6b42a7",
   "metadata": {},
   "outputs": [],
   "source": [
    "def _perform_efficient_shuffle_pre_mapping(active_selected_spikes_df, decoder_aclu_peak_map_dict, num_shuffles:int=5):\n",
    "    # Apply aclu peak map dictionary to each decoder name\n",
    "    for a_decoder_name, a_aclu_peak_map in decoder_aclu_peak_map_dict.items():\n",
    "        active_selected_spikes_df[f'{a_decoder_name}_pf_peak_x'] = active_selected_spikes_df['aclu'].map(a_aclu_peak_map)\n",
    "\n",
    "    unique_Probe_Epoch_IDs = active_selected_spikes_df['Probe_Epoch_id'].unique()\n",
    "    shuffles = {}\n",
    "    for i in range(num_shuffles):\n",
    "        shuffles[i] = active_selected_spikes_df.copy()\n",
    "        for a_probe_epoch_ID in unique_Probe_Epoch_IDs:\n",
    "            mask = (a_probe_epoch_ID == shuffles[i]['Probe_Epoch_id'])\n",
    "            # Shuffle multiple columns here:\n",
    "            for a_decoder_name in decoder_aclu_peak_map_dict.keys():\n",
    "                shuffles[i].loc[mask, f'{a_decoder_name}_pf_peak_x'] = shuffles[i].loc[mask, f'{a_decoder_name}_pf_peak_x'].sample(frac=1).values\n",
    "    return shuffles\n",
    "\n",
    "## Compute:\n",
    "decoder_aclu_peak_map_dict = track_templates.get_decoder_aclu_peak_map_dict()\n",
    "## Restrict to only the relevant columns, and Initialize the dataframe columns to np.nan:\n",
    "active_selected_spikes_df: pd.DataFrame = deepcopy(selected_spikes_df[['t_rel_seconds', 'aclu', 'Probe_Epoch_id']]).sort_values(['Probe_Epoch_id', 't_rel_seconds', 'aclu']).astype({'Probe_Epoch_id': RankOrderAnalyses._label_column_type}) # Sort by columns: 'Probe_Epoch_id' (ascending), 't_rel_seconds' (ascending), 'aclu' (ascending)\n",
    "# _pf_peak_x_column_names = ['LR_Long_pf_peak_x', 'RL_Long_pf_peak_x', 'LR_Short_pf_peak_x', 'RL_Short_pf_peak_x']\n",
    "_pf_peak_x_column_names = [f'{a_decoder_name}_pf_peak_x' for a_decoder_name in track_templates.get_decoder_names()]\n",
    "active_selected_spikes_df[_pf_peak_x_column_names] = pd.DataFrame([[RankOrderAnalyses._NaN_Type, RankOrderAnalyses._NaN_Type, RankOrderAnalyses._NaN_Type, RankOrderAnalyses._NaN_Type]], index=active_selected_spikes_df.index)\n",
    "shuffled_dfs = _perform_efficient_shuffle_pre_mapping(active_selected_spikes_df, decoder_aclu_peak_map_dict, num_shuffles=5)\n",
    "# shuffled_dfs\n",
    "# 5, 1.5 sec"
   ]
  },
  {
   "cell_type": "code",
   "execution_count": null,
   "id": "548d3db2",
   "metadata": {},
   "outputs": [],
   "source": [
    "# Shuffle 'aclu' values\n",
    "shuffled_df.loc[mask, 'aclu'] = shuffled_df.loc[mask, 'aclu'].sample(frac=1).values\n",
    "\n",
    "\n",
    "# Shuffle aclu and their corresponding peaks: ['aclu', 'long_LR_pf_peak_x', 'long_RL_pf_peak_x', 'short_LR_pf_peak_x', 'short_RL_pf_peak_x']\n",
    "peak_column_names = [f'{a_decoder_name}_pf_peak_x' for a_decoder_name, a_aclu_peak_map in decoder_aclu_peak_map_dict.items()] # ['long_LR_pf_peak_x', 'long_RL_pf_peak_x', 'short_LR_pf_peak_x', 'short_RL_pf_peak_x']\n",
    "shuffled_df.loc[mask, ['aclu','long_LR_pf_peak_x', 'long_RL_pf_peak_x', 'short_LR_pf_peak_x', 'short_RL_pf_peak_x']] = shuffled_df.loc[mask, ['aclu','long_LR_pf_peak_x', 'long_RL_pf_peak_x', 'short_LR_pf_peak_x', 'short_RL_pf_peak_x']].sample(frac=1).values\n"
   ]
  },
  {
   "cell_type": "code",
   "execution_count": null,
   "id": "4d641689",
   "metadata": {},
   "outputs": [],
   "source": [
    "print_object_memory_usage(output_active_epoch_computed_values) # 0.946189 MB\n"
   ]
  },
  {
   "cell_type": "code",
   "execution_count": null,
   "id": "3e3d1caf",
   "metadata": {},
   "outputs": [],
   "source": [
    "## #TODO 2023-12-13 02:07: - [ ] Figure out how 'Probe_Epoch_id' maps to `ripple_result_tuple.active_epochs`\n",
    "ripple_result_tuple.active_epochs\n",
    "rank_order_results.LR_ripple.ranked_aclus_stats_dict\n"
   ]
  },
  {
   "cell_type": "code",
   "execution_count": null,
   "id": "50f1bbbf",
   "metadata": {},
   "outputs": [],
   "source": [
    "## Add the pf_x information for each aclu:\n",
    "## 2023-10-11 - Get the long/short peak locations\n",
    "# decoder_peak_coms_list = [a_decoder.pf.ratemap.peak_tuning_curve_center_of_masses[is_good_aclus] for a_decoder in decoder_args]\n",
    "decoder_aclu_peak_location_dict_list = [dict(zip(neuron_IDs, peak_locations)) for neuron_IDs, peak_locations in zip(track_templates.decoder_neuron_IDs_list, track_templates.decoder_peak_location_list)]\n",
    "decoder_aclu_peak_location_dict_list\n"
   ]
  },
  {
   "cell_type": "code",
   "execution_count": null,
   "id": "de234ecb",
   "metadata": {},
   "outputs": [],
   "source": [
    "track_templates.long_LR_decoder.peak_locations"
   ]
  },
  {
   "cell_type": "code",
   "execution_count": null,
   "id": "4cc4b6e5",
   "metadata": {},
   "outputs": [],
   "source": [
    "track_templates.long_LR_decoder.peak_tuning_curve_center_of_masses"
   ]
  },
  {
   "cell_type": "code",
   "execution_count": null,
   "id": "bc1305ed",
   "metadata": {},
   "outputs": [],
   "source": [
    "track_templates.decoder_LR_pf_peak_ranks_list"
   ]
  },
  {
   "cell_type": "code",
   "execution_count": null,
   "id": "f7b179f8",
   "metadata": {},
   "outputs": [],
   "source": [
    "## Replays:\n",
    "global_replays = TimeColumnAliasesProtocol.renaming_synonym_columns_if_needed(deepcopy(curr_active_pipeline.filtered_sessions[global_epoch_name].replay))\n",
    "if isinstance(global_replays, pd.DataFrame):\n",
    "\tglobal_replays = Epoch(global_replays.epochs.get_valid_df())\n",
    "\n",
    "# get the aligned epochs and the z-scores aligned to them:\n",
    "active_replay_epochs, (active_LR_ripple_long_z_score, active_RL_ripple_long_z_score, active_LR_ripple_short_z_score, active_RL_ripple_short_z_score) = rank_order_results.get_aligned_events(global_replays.to_dataframe().copy(), is_laps=False)\n",
    "active_replay_epochs"
   ]
  },
  {
   "cell_type": "code",
   "execution_count": null,
   "id": "b6384a30",
   "metadata": {},
   "outputs": [],
   "source": [
    "## Laps:\n",
    "long_epoch_name, short_epoch_name, global_epoch_name = curr_active_pipeline.find_LongShortGlobal_epoch_names()\n",
    "global_laps = deepcopy(curr_active_pipeline.filtered_sessions[global_epoch_name].laps).trimmed_to_non_overlapping()\n",
    "active_laps_epochs, (active_LR_ripple_long_z_score, active_RL_ripple_long_z_score, active_LR_ripple_short_z_score, active_RL_ripple_short_z_score) = rank_order_results.get_aligned_events(global_laps.to_dataframe(), is_laps=True)"
   ]
  },
  {
   "cell_type": "code",
   "execution_count": null,
   "id": "91e8ff66",
   "metadata": {},
   "outputs": [],
   "source": [
    "ripple_result_tuple.plot_histogram()"
   ]
  },
  {
   "cell_type": "code",
   "execution_count": null,
   "id": "7dfbe341",
   "metadata": {},
   "outputs": [],
   "source": [
    "# Find only the significant events (|z| > 1.96):\n",
    "from pyphoplacecellanalysis.General.Pipeline.Stages.ComputationFunctions.MultiContextComputationFunctions.RankOrderComputations import RankOrderAnalyses\n",
    "\n",
    "filtered_z_score_df, (n_events, n_significant_events, percent_significant_events) = RankOrderAnalyses.find_only_significant_events(rank_order_results, high_z_criteria=1.96)\n",
    "filtered_z_score_df"
   ]
  },
  {
   "cell_type": "code",
   "execution_count": null,
   "id": "19d6bcd9",
   "metadata": {},
   "outputs": [],
   "source": [
    "print(filtered_z_score_df.index.to_numpy())\n"
   ]
  },
  {
   "cell_type": "code",
   "execution_count": null,
   "id": "86532662",
   "metadata": {},
   "outputs": [],
   "source": [
    "# 2023-11-20 - Finding high-significance periods for Kamran:\n",
    "z_threshold = 1.96\n",
    "is_greater_than_z_threshold_long = (np.abs(ripple_result_tuple.long_best_dir_z_score_values) > z_threshold)\n",
    "is_greater_than_z_threshold_short = (np.abs(ripple_result_tuple.short_best_dir_z_score_values) > z_threshold)\n",
    "is_significant_either = np.logical_or(is_greater_than_z_threshold_long, is_greater_than_z_threshold_short)\n",
    "is_significant_either\n",
    "\n",
    "# is_greater_than_3std_long = (np.abs(ripple_result_tuple.long_best_dir_z_score_values) >= 3.0)\n",
    "# is_greater_than_3std_short = (np.abs(ripple_result_tuple.short_best_dir_z_score_values) >= 3.0)\n",
    "# is_significant_either = np.logical_or(is_greater_than_3std_long, is_greater_than_3std_short)\n"
   ]
  },
  {
   "cell_type": "code",
   "execution_count": null,
   "id": "5f925cde",
   "metadata": {},
   "outputs": [],
   "source": [
    "significant_ripple_epochs = deepcopy(Epoch(ripple_result_tuple.active_epochs)).boolean_indicies_slice(is_significant_either)\n",
    "# significant_ripple_epochs = deepcopy(global_replays).boolean_indicies_slice(is_significant_either)\n",
    "significant_ripple_epochs.to_dataframe()\n",
    "\n",
    "# significant_ripple_epochs.filename = Path(f'output/2023-11-27_SignificantReplayRipples').resolve()\n",
    "# significant_ripple_epochs.to_neuroscope()\n"
   ]
  },
  {
   "cell_type": "code",
   "execution_count": null,
   "id": "6a8beece",
   "metadata": {},
   "outputs": [],
   "source": [
    "# active_epochs = ripple_result_tuple.active_epochs\n",
    "active_epochs: Epoch = rank_order_results.RL_ripple.epochs_df # Epoch(rank_order_results.RL_ripple.epochs_df)\n",
    "# type(active_epochs)\n",
    "active_epochs.n_epochs\n",
    "# rank_order_results.RL_ripple.spikes_df"
   ]
  },
  {
   "cell_type": "code",
   "execution_count": null,
   "id": "c93ffe0d",
   "metadata": {},
   "outputs": [],
   "source": [
    "rank_order_results.LR_ripple.epochs_df\n",
    "rank_order_results.LR_ripple.spikes_df\n",
    "\n"
   ]
  },
  {
   "cell_type": "code",
   "execution_count": null,
   "id": "39525572",
   "metadata": {},
   "outputs": [],
   "source": [
    "combined_variable_names: ['LR_Long_spearman', 'RL_Long_spearman', 'LR_Short_spearman', 'RL_Short_spearman', 'LR_Long_pearson', 'RL_Long_pearson', 'LR_Short_pearson', 'RL_Short_pearson']\n",
    "combined_variable_z_score_column_names: ['LR_Long_spearman_Z', 'RL_Long_spearman_Z', 'LR_Short_spearman_Z', 'RL_Short_spearman_Z', 'LR_Long_pearson_Z', 'RL_Long_pearson_Z', 'LR_Short_pearson_Z', 'RL_Short_pearson_Z']"
   ]
  },
  {
   "cell_type": "code",
   "execution_count": null,
   "id": "17f47973",
   "metadata": {},
   "outputs": [],
   "source": [
    "curr_active_pipeline.build_display_context_for_filtered_session(filtered_session_name='maze_any', display_fn_name='test')"
   ]
  },
  {
   "cell_type": "code",
   "execution_count": null,
   "id": "6b319650",
   "metadata": {},
   "outputs": [],
   "source": [
    "rank_order_results.LR_ripple.selected_spikes_df"
   ]
  },
  {
   "cell_type": "code",
   "execution_count": null,
   "id": "fef5436c",
   "metadata": {},
   "outputs": [],
   "source": [
    "rank_order_results.RL_ripple.selected_spikes_df"
   ]
  },
  {
   "cell_type": "markdown",
   "id": "5ca979a6",
   "metadata": {},
   "source": [
    "# `RankOrderRastersDebugger`"
   ]
  },
  {
   "cell_type": "code",
   "execution_count": null,
   "id": "6616af69",
   "metadata": {
    "notebookRunGroups": {
     "groupValue": "2"
    },
    "tags": [
     "figure",
     "RankOrderRastersDebugger"
    ]
   },
   "outputs": [],
   "source": [
    "from pyphoplacecellanalysis.GUI.PyQtPlot.Widgets.ContainerBased.TemplateDebugger import TemplateDebugger\n",
    "from pyphoplacecellanalysis.GUI.PyQtPlot.Widgets.ContainerBased.RankOrderRastersDebugger import RankOrderRastersDebugger\n",
    "from pyphocorehelpers.gui.Qt.color_helpers import build_adjusted_color\n",
    "from pyphoplacecellanalysis.General.Mixins.SpikesRenderingBaseMixin import SpikeEmphasisState\n",
    "\n",
    "# from pyphoplacecellanalysis.GUI.PyQtPlot.Widgets.ContainerBased.RankOrderRastersDebugger import a_debug_callback_fn, debug_update_long_short_info_titles, debug_update_plot_titles\n",
    "\n",
    "curr_active_pipeline.reload_default_display_functions()\n",
    "\n",
    "## RankOrderRastersDebugger: \n",
    "# _out_rank_order_event_raster_debugger = RankOrderRastersDebugger.init_rank_order_debugger(spikes_df, ripple_result_tuple.active_epochs, track_templates, rank_order_results.RL_ripple.selected_spikes_fragile_linear_neuron_IDX_dict, rank_order_results.LR_ripple.selected_spikes_fragile_linear_neuron_IDX_dict)\n",
    "\n",
    "## Required prereqs:\n",
    "# active_epochs_df = deepcopy(rank_order_results.LR_ripple.epochs_df)\n",
    "# active_selected_spikes_df, active_epochs_df = RankOrderAnalyses.new_compute_correlations(selected_spikes_df=selected_spikes_df, active_epochs=active_epochs, track_templates=track_templates)\n",
    "## 2023-12-13 11am - uses `active_epochs_df` passed in that has been augmented with all the old results:\n",
    "# _out_rank_order_event_raster_debugger = RankOrderRastersDebugger.init_rank_order_debugger(spikes_df, active_epochs_df, track_templates, rank_order_results, rank_order_results.RL_ripple.selected_spikes_fragile_linear_neuron_IDX_dict, rank_order_results.LR_ripple.selected_spikes_fragile_linear_neuron_IDX_dict)\n",
    "# _out_rank_order_event_raster_debugger = RankOrderRastersDebugger.init_rank_order_debugger(spikes_df, active_epochs_df, track_templates, rank_order_results, rank_order_results.RL_ripple.selected_spikes_df, rank_order_results.LR_ripple.selected_spikes_df)\n",
    "# _out_rank_order_event_raster_debugger.params.enable_show_Z_values = False\n",
    "\n",
    "_out_rank_order_selected_spikes_only_event_raster_debugger = RankOrderRastersDebugger.init_rank_order_debugger(deepcopy(rank_order_results.LR_ripple.selected_spikes_df), deepcopy(rank_order_results.LR_ripple.epochs_df),\n",
    "                                                                                                                track_templates, rank_order_results, None, None, debug_print=True, debug_draw=True) # rank_order_results.RL_ripple.selected_spikes_fragile_linear_neuron_IDX_dict, rank_order_results.LR_ripple.selected_spikes_fragile_linear_neuron_IDX_dict)\n",
    "_out_directional_template_pfs_debugger, debug_update_paired_directional_template_pfs_debugger = _out_rank_order_selected_spikes_only_event_raster_debugger.plot_attached_directional_templates_pf_debugger(curr_active_pipeline)\n",
    "active_plotter = _out_rank_order_selected_spikes_only_event_raster_debugger\n",
    "active_plotter.on_update_epoch_IDX(17)\n"
   ]
  },
  {
   "cell_type": "code",
   "execution_count": null,
   "id": "78f5f236",
   "metadata": {},
   "outputs": [],
   "source": [
    "from pyphoplacecellanalysis.GUI.PyQtPlot.Widgets.ContainerBased.TemplateDebugger import TemplateDebugger\n",
    "\n",
    "_out_directional_template_pfs_debugger, debug_update_paired_directional_template_pfs_debugger = _out_rank_order_selected_spikes_only_event_raster_debugger.plot_attached_directional_templates_pf_debugger(curr_active_pipeline)"
   ]
  },
  {
   "cell_type": "code",
   "execution_count": null,
   "id": "12d2cc54",
   "metadata": {},
   "outputs": [],
   "source": []
  },
  {
   "cell_type": "code",
   "execution_count": null,
   "id": "8e7bd171",
   "metadata": {},
   "outputs": [],
   "source": [
    "a_directional_template_pfs_debugger: TemplateDebugger = _out_directional_template_pfs_debugger['obj']\n",
    "a_directional_template_pfs_debugger.plots_data"
   ]
  },
  {
   "cell_type": "code",
   "execution_count": null,
   "id": "b4b433ac",
   "metadata": {},
   "outputs": [],
   "source": [
    "a_directional_template_pfs_debugger.plots_data.sorted_pf_peak_location_list"
   ]
  },
  {
   "cell_type": "markdown",
   "id": "f7f3a2d3",
   "metadata": {},
   "source": [
    "### Exporting `rank_order_event_raster_debugge`"
   ]
  },
  {
   "cell_type": "code",
   "execution_count": null,
   "id": "a858f9bc",
   "metadata": {},
   "outputs": [],
   "source": [
    "from pyphoplacecellanalysis.General.Mixins.ExportHelpers import export_pyqtgraph_plot, ExportFiletype\n",
    "\n",
    "export_path = Path(r'C:\\Users\\pho\\Desktop\\2023-12-19 Exports').resolve()\n",
    "\n",
    "_out_rank_order_event_raster_debugger.save_figure(export_path=export_path)\n"
   ]
  },
  {
   "cell_type": "markdown",
   "id": "619ebf52",
   "metadata": {},
   "source": [
    "#### Iterates through the epochs (via the slider) and saves out the images:\n"
   ]
  },
  {
   "cell_type": "code",
   "execution_count": null,
   "id": "53f73ed6",
   "metadata": {},
   "outputs": [],
   "source": [
    "export_path = Path(r'C:\\Users\\pho\\Desktop\\2023-12-19 Exports').resolve()\n",
    "all_save_paths = _out_rank_order_event_raster_debugger.export_figure_all_slider_values(export_path=export_path)"
   ]
  },
  {
   "cell_type": "code",
   "execution_count": null,
   "id": "9a46e840",
   "metadata": {},
   "outputs": [],
   "source": [
    "_out_rank_order_event_raster_debugger.active_epoch_IDX"
   ]
  },
  {
   "cell_type": "code",
   "execution_count": null,
   "id": "33d7d125",
   "metadata": {},
   "outputs": [],
   "source": [
    "_out_rank_order_event_raster_debugger.active_epoch_result_df"
   ]
  },
  {
   "cell_type": "code",
   "execution_count": null,
   "id": "41d5bd28",
   "metadata": {},
   "outputs": [],
   "source": [
    "aclu_y_values_dict = {_active_plot_identifier:{int(aclu):new_sorted_raster.neuron_y_pos[aclu] for aclu in new_sorted_raster.neuron_IDs} for _active_plot_identifier, new_sorted_raster in _out_rank_order_event_raster_debugger.plots_data.seperate_new_sorted_rasters_dict.items()}\n",
    "aclu_max_y_values_dict = {_active_plot_identifier:np.max(list({int(aclu):new_sorted_raster.neuron_y_pos[aclu] for aclu in new_sorted_raster.neuron_IDs}.values())) for _active_plot_identifier, new_sorted_raster in _out_rank_order_event_raster_debugger.plots_data.seperate_new_sorted_rasters_dict.items()} # {'long_LR': 51.48039215686274, 'long_RL': 53.5, 'short_LR': 51.48039215686274, 'short_RL': 53.5}\n",
    "global_max_y_value = np.max(list(aclu_max_y_values_dict.values()))\n",
    "global_max_y_value"
   ]
  },
  {
   "cell_type": "code",
   "execution_count": null,
   "id": "01518ab5",
   "metadata": {},
   "outputs": [],
   "source": [
    "max_n_neurons = np.max([len(v) for v in _out_rank_order_event_raster_debugger.plots_data.unsorted_original_neuron_IDs_lists])\n",
    "max_n_neurons"
   ]
  },
  {
   "cell_type": "code",
   "execution_count": null,
   "id": "277c056e",
   "metadata": {},
   "outputs": [],
   "source": [
    "_out_rank_order_event_raster_debugger.plots.all_separate_plots['long_LR']['root_plot']\n",
    "\n",
    "\n",
    "root_plots_dict"
   ]
  },
  {
   "cell_type": "code",
   "execution_count": null,
   "id": "d56dbf69",
   "metadata": {},
   "outputs": [],
   "source": [
    "max_n_neurons"
   ]
  },
  {
   "cell_type": "code",
   "execution_count": null,
   "id": "33b090c1",
   "metadata": {},
   "outputs": [],
   "source": [
    "\n",
    "\n",
    "all_separate_root_plots = {a_decoder_name:a_raster_setup_tuple.plots.root_plot for a_decoder_name, a_raster_setup_tuple in rasters_display_outputs.items()}\n"
   ]
  },
  {
   "cell_type": "code",
   "execution_count": null,
   "id": "9dd35f5f",
   "metadata": {},
   "outputs": [],
   "source": [
    "_out_rank_order_selected_spikes_only_event_raster_debugger.ui.tableView"
   ]
  },
  {
   "cell_type": "code",
   "execution_count": null,
   "id": "5446230b",
   "metadata": {},
   "outputs": [],
   "source": [
    "from pyphoplacecellanalysis.GUI.PyQtPlot.Widgets.ContainerBased.RankOrderRastersDebugger import a_debug_callback_fn, debug_update_long_short_info_titles, debug_update_plot_titles\n",
    "\n",
    "_out_LAPS_rank_order_event_raster_debugger = RankOrderRastersDebugger.init_rank_order_debugger(spikes_df, deepcopy(rank_order_results.LR_laps.epochs_df), track_templates, rank_order_results, None, None)\n",
    "_out_LAPS_rank_order_event_raster_debugger.params.is_laps = True\n",
    "_out_LAPS_rank_order_event_raster_debugger.on_idx_changed_callback_function_dict['debug_update_plot_titles_callback'] = debug_update_plot_titles"
   ]
  },
  {
   "cell_type": "code",
   "execution_count": null,
   "id": "b15491f4",
   "metadata": {},
   "outputs": [],
   "source": [
    "rank_order_results.RL_ripple.selected_spikes_df"
   ]
  },
  {
   "cell_type": "code",
   "execution_count": null,
   "id": "9bc00fc6",
   "metadata": {},
   "outputs": [],
   "source": [
    "# Scroll to the specified row\n",
    "tableView.scrollTo(tableView.model().index(row_index, 0))\n",
    "\n",
    "# Select the entire row\n",
    "tableView.selectRow(row_index)"
   ]
  },
  {
   "cell_type": "code",
   "execution_count": null,
   "id": "bc3b8d31",
   "metadata": {},
   "outputs": [],
   "source": [
    "_out_rank_order_event_raster_debugger.plots_data.LR_selected_spike_df #.LR_active_epochs_selected_spikes_fragile_linear_neuron_IDX_dict\n",
    "# _out_rank_order_event_raster_debugger.plots_data.LR_neuron_id_to_new_IDX_map"
   ]
  },
  {
   "cell_type": "code",
   "execution_count": null,
   "id": "05a79c3f",
   "metadata": {},
   "outputs": [],
   "source": [
    "list(_out_rank_order_event_raster_debugger.plots_data.keys())\n"
   ]
  },
  {
   "cell_type": "code",
   "execution_count": null,
   "id": "60c62746",
   "metadata": {},
   "outputs": [],
   "source": [
    "_out_rank_order_event_raster_debugger.plots_data['all_selected_spots_dict']\n"
   ]
  },
  {
   "cell_type": "code",
   "execution_count": null,
   "id": "28b093b8",
   "metadata": {},
   "outputs": [],
   "source": [
    "_out_rank_order_event_raster_debugger.plots_data['seperate_all_spots_dict']"
   ]
  },
  {
   "cell_type": "code",
   "execution_count": null,
   "id": "48888cc6",
   "metadata": {},
   "outputs": [],
   "source": [
    "_active_plot_identifier = 'long_LR'\n",
    "new_sorted_raster = _out_rank_order_event_raster_debugger.plots_data['seperate_new_sorted_rasters_dict'][_active_plot_identifier]\n",
    "# selected_spikes_df = new_sorted_raster.update_spikes_df_visualization_columns(spikes_df=selected_spikes_df)\n",
    "# selected_spikes_df\n",
    "new_sorted_raster.spikes_df"
   ]
  },
  {
   "cell_type": "code",
   "execution_count": null,
   "id": "00a57b9a",
   "metadata": {},
   "outputs": [],
   "source": [
    "## Add the source data (spikes_df) to the plot_data\n",
    "plots_data.spikes_df = deepcopy(spikes_df)    \n",
    "# Update the dataframe\n",
    "plots_data.spikes_df = new_sorted_raster.update_spikes_df_visualization_columns(spikes_df=plots_data.spikes_df)\n",
    "## Build the spots for the raster plot:\n",
    "_out_rank_order_event_raster_debugger.plots_data['all_selected_spots_dict'][_active_plot_identifier], _out_rank_order_event_raster_debugger.plots_data.all_selected_scatterplot_tooltips_kwargs_dict[_active_plot_identifier] = new_sorted_raster.build_spikes_all_spots_from_df(spikes_df=plots_data.spikes_df, should_return_data_tooltips_kwargs=True, generate_debug_tuples=False)\n"
   ]
  },
  {
   "cell_type": "code",
   "execution_count": null,
   "id": "875a0b1b",
   "metadata": {},
   "outputs": [],
   "source": [
    "_out_rank_order_event_raster_debugger.plots_data.spikes_df"
   ]
  },
  {
   "cell_type": "code",
   "execution_count": null,
   "id": "86793de4",
   "metadata": {},
   "outputs": [],
   "source": [
    "_out_rank_order_event_raster_debugger.global_spikes_df"
   ]
  },
  {
   "cell_type": "code",
   "execution_count": null,
   "id": "4ce652a5",
   "metadata": {},
   "outputs": [],
   "source": [
    "add_selected_spikes_df_points_to_scatter_plot"
   ]
  },
  {
   "cell_type": "markdown",
   "id": "44d0cb69",
   "metadata": {},
   "source": [
    "## Connects TemplatesDebugger to RasterDebugger"
   ]
  },
  {
   "cell_type": "code",
   "execution_count": null,
   "id": "df7136b6",
   "metadata": {},
   "outputs": [],
   "source": [
    "from pyphoplacecellanalysis.GUI.PyQtPlot.Widgets.ContainerBased.RankOrderRastersDebugger import a_debug_callback_fn, debug_update_long_short_info_titles, debug_update_plot_titles\n",
    "\n",
    "\n",
    "# active_plotter = _out_rank_order_event_raster_debugger\n",
    "active_plotter = _out_rank_order_selected_spikes_only_event_raster_debugger\n",
    "# _out_directional_template_pfs_debugger = None\n"
   ]
  },
  {
   "cell_type": "code",
   "execution_count": null,
   "id": "aeaafb1a",
   "metadata": {},
   "outputs": [],
   "source": [
    "epoch_active_aclus = deepcopy(active_plotter.get_epoch_active_aclus())\n",
    "epoch_active_aclus"
   ]
  },
  {
   "cell_type": "code",
   "execution_count": null,
   "id": "a68aeeb8",
   "metadata": {},
   "outputs": [],
   "source": [
    "from pyphoplacecellanalysis.GUI.PyQtPlot.Widgets.ContainerBased.RankOrderRastersDebugger import a_debug_callback_fn, debug_update_long_short_info_titles, debug_update_plot_titles\n",
    "\n",
    "# active_plotter = _out_rank_order_event_raster_debugger\n",
    "active_plotter = _out_rank_order_selected_spikes_only_event_raster_debugger\n",
    "\n",
    "# _out_directional_template_pfs_debugger = None\n",
    "_out_directional_template_pfs_debugger, debug_update_paired_directional_template_pfs_debugger = active_plotter.plot_attached_directional_templates_pf_debugger(curr_active_pipeline)\n",
    "\n",
    "active_plotter.on_idx_changed_callback_function_dict['a_debug_callback'] = a_debug_callback_fn\n",
    "active_plotter.on_idx_changed_callback_function_dict['debug_update_plot_titles_callback'] = debug_update_plot_titles\n",
    "active_plotter.on_idx_changed_callback_function_dict['debug_update_paired_directional_template_pfs_debugger'] = debug_update_paired_directional_template_pfs_debugger"
   ]
  },
  {
   "cell_type": "markdown",
   "id": "3a278553",
   "metadata": {},
   "source": [
    "# 2023-12-20 - Spearman Investigations"
   ]
  },
  {
   "cell_type": "code",
   "execution_count": null,
   "id": "9d242421",
   "metadata": {},
   "outputs": [],
   "source": [
    "from PendingNotebookCode import CurrTesting\n",
    "\n",
    "active_plotter.active_epoch_df"
   ]
  },
  {
   "cell_type": "code",
   "execution_count": null,
   "id": "30a933b9",
   "metadata": {},
   "outputs": [],
   "source": [
    "active_plotter.active_epoch_result_df"
   ]
  },
  {
   "cell_type": "code",
   "execution_count": null,
   "id": "49d6cd03",
   "metadata": {},
   "outputs": [],
   "source": [
    "active_plotter.active_epoch_df.RL_Long_rel_num_cells"
   ]
  },
  {
   "cell_type": "code",
   "execution_count": null,
   "id": "33545624",
   "metadata": {},
   "outputs": [],
   "source": [
    "# rank_order_results.laps_combined_epoch_stats_df\n",
    "\n",
    "rank_order_results.ripple_combined_epoch_stats_df"
   ]
  },
  {
   "cell_type": "code",
   "execution_count": null,
   "id": "d7ff60c8",
   "metadata": {},
   "outputs": [],
   "source": [
    "# Get the best direction for the current epoch:\n",
    "curr_best_dir_index: int = directional_likelihoods_df.long_best_direction_indices.iloc[active_plotter.active_epoch_IDX]\n",
    "print(f'curr_best_dir_index: {curr_best_dir_index}')\n",
    "curr_best_dir_name: str = dir_index_to_direction_name_map[curr_best_dir_index]\n",
    "print(f'curr_best_dir_name: {curr_best_dir_name}')"
   ]
  },
  {
   "cell_type": "code",
   "execution_count": null,
   "id": "308f9719",
   "metadata": {},
   "outputs": [],
   "source": [
    "active_plotter.active_epoch_label"
   ]
  },
  {
   "cell_type": "code",
   "execution_count": null,
   "id": "d369cb22",
   "metadata": {},
   "outputs": [],
   "source": [
    "active_plotter.global_spikes_df"
   ]
  },
  {
   "cell_type": "code",
   "execution_count": null,
   "id": "39bf6459",
   "metadata": {},
   "outputs": [],
   "source": [
    "curr_epoch_spikes_df = deepcopy(active_plotter.get_active_epoch_spikes_df())[['t_rel_seconds', 'aclu', 'shank', 'cluster', 'qclu', 'maze_id', 'flat_spike_idx', 'Probe_Epoch_id']]\n",
    "curr_epoch_spikes_df[\"spike_rank\"] = curr_epoch_spikes_df[\"t_rel_seconds\"].rank(method=\"average\")\n",
    "# Sort by column: 'aclu' (ascending)\n",
    "# curr_epoch_spikes_df = curr_epoch_spikes_df.sort_values(['aclu'])\n",
    "curr_epoch_spikes_df"
   ]
  },
  {
   "cell_type": "code",
   "execution_count": null,
   "id": "7221720e",
   "metadata": {},
   "outputs": [],
   "source": [
    "n_spikes = np.shape(curr_epoch_spikes_df)[0]\n",
    "curr_epoch_spikes_aclus = deepcopy(curr_epoch_spikes_df.aclu.to_numpy())\n",
    "curr_epoch_spikes_aclu_ranks = deepcopy(curr_epoch_spikes_df.spike_rank.to_numpy())\n",
    "curr_epoch_spikes_aclu_rank_map = dict(zip(curr_epoch_spikes_aclus, curr_epoch_spikes_aclu_ranks))\n",
    "n_unique_aclus = np.shape(curr_epoch_spikes_df.aclu.unique())[0]\n",
    "assert n_spikes == n_unique_aclus, f\"there is more than one spike in curr_epoch_spikes_df for an aclu! n_spikes: {n_spikes}, n_unique_aclus: {n_unique_aclus}\"\n",
    "n_spikes\n",
    "n_unique_aclus\n",
    "# curr_epoch_spikes_aclu_rank_map\n",
    "# is_unique"
   ]
  },
  {
   "cell_type": "code",
   "execution_count": null,
   "id": "9916fa94",
   "metadata": {},
   "outputs": [],
   "source": [
    "rank_order_results.ripple_combined_epoch_stats_df[rank_order_results.ripple_combined_epoch_stats_df.label == active_plotter.active_epoch_label]"
   ]
  },
  {
   "cell_type": "code",
   "execution_count": null,
   "id": "6efd8b89",
   "metadata": {},
   "outputs": [],
   "source": [
    "rank_order_results.ripple_combined_epoch_stats_df[['LR_Long_spearman', 'RL_Long_spearman', 'LR_Short_spearman', 'RL_Short_spearman', 'LR_Long_spearman_Z', 'RL_Long_spearman_Z', 'LR_Short_spearman_Z', 'RL_Short_spearman_Z']].iloc[[active_plotter.active_epoch_IDX]]\n",
    "\n",
    "# ['long_RL_spearman', 'long_LR_spearman', 'short_RL_spearman', 'short_LR_spearman', 'long_RL_spearman_Z', 'long_LR_spearman_Z', 'short_RL_spearman_Z', 'short_LR_spearman_Z']\n",
    "# ['long_RL_spearman', 'long_LR_spearman', 'short_RL_spearman', 'short_LR_spearman', 'long_RL_spearman_Z', 'long_LR_spearman_Z', 'short_RL_spearman_Z', 'short_LR_spearman_Z']\n"
   ]
  },
  {
   "cell_type": "code",
   "execution_count": null,
   "id": "3b872dea",
   "metadata": {},
   "outputs": [],
   "source": [
    "from pyphoplacecellanalysis.General.Pipeline.Stages.ComputationFunctions.MultiContextComputationFunctions.DirectionalPlacefieldGlobalComputationFunctions import TrackTemplates\n",
    "\n",
    "# curr_epoch_spikes_df = deepcopy(active_plotter.get_active_epoch_spikes_df())[['t_rel_seconds', 'aclu', 'shank', 'cluster', 'qclu', 'maze_id', 'flat_spike_idx', 'Probe_Epoch_id']]\n",
    "\n",
    "\n",
    "# curr_epoch_spikes_df\n",
    "\n",
    "# curr_epoch_spikes_df[\"spike_rank\"] = curr_epoch_spikes_df[\"t_rel_seconds\"].rank(method=\"average\")\n",
    "# curr_epoch_spikes_df = curr_epoch_spikes_df.sort_values(['aclu']) # Sort by column: 'aclu' (ascending)\n",
    "template_spearman_real_results = CurrTesting.pho_compute_rank_order(track_templates, curr_epoch_spikes_df, rank_method=\"average\", stats_nan_policy='omit')\n",
    "template_spearman_real_results\n",
    "# {'long_LR': (-0.2922074234830293, 4),\n",
    "#  'long_RL': (-0.4582233402727546, 2),\n",
    "#  'short_LR': (-0.12496330329017007, 4),\n",
    "#  'short_RL': (-0.582141093511449, 2)}\n",
    "\n",
    "# {'long_LR': (-0.3312693498452012, 0.17932214439926802, 4),\n",
    "#  'long_RL': (-0.48872180451127817, 0.028772030054996085, 2),\n",
    "#  'short_LR': (-0.16408668730650156, 0.5152947310342115, 4),\n",
    "#  'short_RL': (-0.5954887218045113, 0.005601441030074217, 2)}"
   ]
  },
  {
   "cell_type": "code",
   "execution_count": null,
   "id": "78bbd0a3",
   "metadata": {},
   "outputs": [],
   "source": [
    "CurrTesting.pho_compute_rank_order(track_templates, curr_epoch_spikes_df, rank_method=\"average\", stats_nan_policy='omit')"
   ]
  },
  {
   "cell_type": "code",
   "execution_count": null,
   "id": "891225b0",
   "metadata": {},
   "outputs": [],
   "source": [
    "# selected_spikes_df = deepcopy(rank_order_results.LR_ripple.selected_spikes_df)\n",
    "selected_spikes_df = deepcopy(curr_epoch_spikes_df)\n",
    "real_stats_df = RankOrderAnalyses._compute_single_rank_order_shuffle(track_templates, selected_spikes_df=selected_spikes_df)\n",
    "real_stats_df"
   ]
  },
  {
   "cell_type": "code",
   "execution_count": null,
   "id": "1e42b789",
   "metadata": {},
   "outputs": [],
   "source": [
    "combined_variable_names = list(set(real_stats_df.columns) - set(['label'])) # ['RL_Short_spearman', 'RL_Long_pearson', 'RL_Short_pearson', 'LR_Long_spearman', 'LR_Short_pearson', 'LR_Long_pearson', 'LR_Short_spearman', 'RL_Long_spearman']\n",
    "real_stacked_arrays = real_stats_df[combined_variable_names].to_numpy() # for compatibility\n",
    "real_stacked_arrays.shape"
   ]
  },
  {
   "cell_type": "code",
   "execution_count": null,
   "id": "44c078b8",
   "metadata": {},
   "outputs": [],
   "source": [
    "decoder_aclu_peak_map_dict = track_templates.get_decoder_aclu_peak_map_dict()\n",
    "\n",
    "list(decoder_aclu_peak_map_dict.keys())"
   ]
  },
  {
   "cell_type": "code",
   "execution_count": null,
   "id": "45778248",
   "metadata": {},
   "outputs": [],
   "source": [
    "## USES selected_spikes_df\n",
    "all_decoder_aclus_map_keys_list = [np.array(list(a_map.keys())) for a_map in (long_LR_aclu_peak_map, long_RL_aclu_peak_map, short_LR_aclu_peak_map, short_RL_aclu_peak_map)] # list of four elements\n",
    "all_shuffled_decoder_aclus_map_keys_list = [build_shuffled_ids(a_map_keys, num_shuffles=num_shuffles, seed=None)[0] for a_map_keys in all_decoder_aclus_map_keys_list] # [0] only gets the shuffled_aclus themselves, which are of shape .shape: ((num_shuffles, n_neurons[i]) where i is the decoder_index\n",
    "\n",
    "long_LR_epoch_specific_shuffled_aclus, long_RL_epoch_specific_shuffled_aclus, short_LR_epoch_specific_shuffled_aclus, short_RL_epoch_specific_shuffled_aclus = all_shuffled_decoder_aclus_map_keys_list"
   ]
  },
  {
   "cell_type": "code",
   "execution_count": null,
   "id": "c9b07a73",
   "metadata": {},
   "outputs": [],
   "source": [
    "decoder_aclu_peak_map_dict = track_templates.get_decoder_aclu_peak_map_dict()\n",
    "# _NaN_Type = np.nan\n",
    "_NaN_Type = pd.NA\n",
    "\n",
    "# long_LR_aclu_peak_map, long_RL_aclu_peak_map, short_LR_aclu_peak_map, short_RL_aclu_peak_map = track_templates.get_decoder_aclu_peak_maps()\n",
    "## Restrict to only the relevant columns, and Initialize the dataframe columns to np.nan:\n",
    "active_selected_spikes_df: pd.DataFrame = deepcopy(selected_spikes_df[['t_rel_seconds', 'aclu', 'Probe_Epoch_id']]).sort_values(['Probe_Epoch_id', 't_rel_seconds', 'aclu']).astype({'Probe_Epoch_id': 'int'}) # Sort by columns: 'Probe_Epoch_id' (ascending), 't_rel_seconds' (ascending), 'aclu' (ascending)\n",
    "# _pf_peak_x_column_names = ['LR_Long_pf_peak_x', 'RL_Long_pf_peak_x', 'LR_Short_pf_peak_x', 'RL_Short_pf_peak_x']\n",
    "_pf_peak_x_column_names = [f'{a_decoder_name}_pf_peak_x' for a_decoder_name in track_templates.get_decoder_names()]\n",
    "active_selected_spikes_df[_pf_peak_x_column_names] = pd.DataFrame([[_NaN_Type, _NaN_Type, _NaN_Type, _NaN_Type]], index=active_selected_spikes_df.index)\n",
    "\n",
    "## Normal:\n",
    "# active_selected_spikes_df['LR_Long_pf_peak_x'] = active_selected_spikes_df.aclu.map(long_LR_aclu_peak_map)\n",
    "# active_selected_spikes_df['RL_Long_pf_peak_x'] = active_selected_spikes_df.aclu.map(long_RL_aclu_peak_map)\n",
    "# active_selected_spikes_df['LR_Short_pf_peak_x'] = active_selected_spikes_df.aclu.map(short_LR_aclu_peak_map)\n",
    "# active_selected_spikes_df['RL_Short_pf_peak_x'] = active_selected_spikes_df.aclu.map(short_RL_aclu_peak_map)\n",
    "\n",
    "for a_decoder_name, a_aclu_peak_map in decoder_aclu_peak_map_dict.items():\n",
    "\tactive_selected_spikes_df[f'{a_decoder_name}_pf_peak_x'] = active_selected_spikes_df.aclu.map(a_aclu_peak_map)\n",
    "\n",
    "active_selected_spikes_df"
   ]
  },
  {
   "cell_type": "code",
   "execution_count": null,
   "id": "8be11f75",
   "metadata": {},
   "outputs": [],
   "source": [
    "\n",
    "num_shuffles:int = 10\n",
    "\n",
    "decoder_aclu_peak_map_dict = track_templates.get_decoder_aclu_peak_map_dict()\n",
    "all_decoder_aclus_map_keys_dict = {a_decoder_name:np.array(list(a_map.keys())) for a_decoder_name, a_map in decoder_aclu_peak_map_dict.items()} # list of four elements\n",
    "all_decoder_aclus_map_values_dict = {a_decoder_name:np.array(list(a_map.values())) for a_decoder_name, a_map in decoder_aclu_peak_map_dict.items()} # list of four elements\n",
    "all_shuffled_decoder_aclus_map_keys_dict = {a_decoder_name:build_shuffled_ids(a_map_keys, num_shuffles=num_shuffles, seed=None)[0] for a_decoder_name, a_map_keys in all_decoder_aclus_map_keys_dict.items()} # [0] only gets the shuffled_aclus themselves, which are of shape .shape: ((num_shuffles, n_neurons[i]) where i is the decoder_index\n",
    "\n",
    "# all_shuffled_override_decoder_aclu_peak_map_dict: one for each shuffle.\n",
    "all_shuffled_override_decoder_aclu_peak_map_dict = [{a_decoder_name:dict(zip(a_decoder_specific_shuffled_aclus_arr[shuffle_IDX], all_decoder_aclus_map_values_dict[a_decoder_name])) for a_decoder_name, a_decoder_specific_shuffled_aclus_arr in all_shuffled_decoder_aclus_map_keys_dict.items()} for shuffle_IDX in np.arange(num_shuffles)]"
   ]
  },
  {
   "cell_type": "code",
   "execution_count": null,
   "id": "a1642789",
   "metadata": {},
   "outputs": [],
   "source": [
    "# print_dataframe_memory_usage(all_shuffled_override_decoder_aclu_peak_map_dict)\n",
    "print_object_memory_usage(all_shuffled_override_decoder_aclu_peak_map_dict) # 0.21150970458984375\n",
    "\n",
    "single_shuffle_result_mem_usage_MB = print_object_memory_usage(all_shuffled_override_decoder_aclu_peak_map_dict)/float(10.0)\n",
    "print(f'single_shuffle_result_mem_usage_MB: {single_shuffle_result_mem_usage_MB}')\n",
    "\n",
    "single_shuffle_result_mem_usage_MB * 1000.0 # 21MB for 1000 shuffles\n"
   ]
  },
  {
   "cell_type": "code",
   "execution_count": null,
   "id": "6db7c4cd",
   "metadata": {},
   "outputs": [],
   "source": [
    "from pyphoplacecellanalysis.General.Pipeline.Stages.ComputationFunctions.MultiContextComputationFunctions.RankOrderComputations import RankOrderAnalyses\n",
    "\n",
    "# long_LR_epoch_specific_shuffled_aclus, long_RL_epoch_specific_shuffled_aclus, short_LR_epoch_specific_shuffled_aclus, short_RL_epoch_specific_shuffled_aclus = all_shuffled_decoder_aclus_map_keys_list\n",
    "\n",
    "output_active_epoch_computed_values = []\n",
    "\n",
    "for shuffle_IDX in np.arange(num_shuffles):\n",
    "\tshuffle_real_stats_df = RankOrderAnalyses._compute_single_rank_order_shuffle(track_templates, selected_spikes_df=selected_spikes_df, override_decoder_aclu_peak_map_dict=all_shuffled_override_decoder_aclu_peak_map_dict[shuffle_IDX])\n",
    "\toutput_active_epoch_computed_values.append(shuffle_real_stats_df)\n",
    "\n"
   ]
  },
  {
   "cell_type": "code",
   "execution_count": null,
   "id": "9f4742c2",
   "metadata": {},
   "outputs": [],
   "source": [
    "stacked_dfs = pd.concat(output_active_epoch_computed_values, axis='index')\n",
    "print_dataframe_memory_usage(stacked_dfs)\n",
    "stacked_dfs"
   ]
  },
  {
   "cell_type": "code",
   "execution_count": null,
   "id": "f2dc4a28",
   "metadata": {},
   "outputs": [],
   "source": [
    "# ## Compute real values here:\n",
    "# epoch_id_grouped_selected_spikes_df =  active_selected_spikes_df.groupby('Probe_Epoch_id') # I can even compute this outside the loop?\n",
    "# spearman_correlations = epoch_id_grouped_selected_spikes_df.apply(lambda group: RankOrderAnalyses._subfn_calculate_correlations(group, method='spearman', enable_shuffle=False)).reset_index() # Reset index to make 'Probe_Epoch_id' a column\n",
    "# pearson_correlations = epoch_id_grouped_selected_spikes_df.apply(lambda group: RankOrderAnalyses._subfn_calculate_correlations(group, method='pearson', enable_shuffle=False)).reset_index() # Reset index to make 'Probe_Epoch_id' a column\n",
    "\n",
    "\n",
    "group = \n",
    "method='spearman'\n",
    "enable_shuffle: bool=False\n",
    "\n",
    "if enable_shuffle:\n",
    "\trng = np.random.default_rng()\n",
    "\tshuffle_fn = lambda x: pd.Series(rng.permuted(x.values), index=x.index)  # x.values\n",
    "else:\n",
    "\tshuffle_fn = lambda x: x # no-op\n",
    "\n",
    "# correlations = {\n",
    "#     f'LR_Long_{method}': shuffle_fn(group['t_rel_seconds']).corr(group['LR_Long_pf_peak_x'], method=method),\n",
    "#     f'RL_Long_{method}': shuffle_fn(group['t_rel_seconds']).corr(group['RL_Long_pf_peak_x'], method=method),\n",
    "#     f'LR_Short_{method}': shuffle_fn(group['t_rel_seconds']).corr(group['LR_Short_pf_peak_x'], method=method),\n",
    "#     f'RL_Short_{method}': shuffle_fn(group['t_rel_seconds']).corr(group['RL_Short_pf_peak_x'], method=method)\n",
    "# }\n",
    "\n",
    "_decoder_names = track_templates.get_decoder_names()\n",
    "_pf_peak_x_column_names = [f'{a_decoder_name}_pf_peak_x' for a_decoder_name in _decoder_names]\n",
    "_output_column_names = [f'{a_decoder_name}_{method}' for a_decoder_name in _decoder_names]\n",
    "# correlations = {f'{a_decoder_name}_{method}': shuffle_fn(group['t_rel_seconds']).rank(method=\"dense\").corr(group[f'{a_decoder_name}_pf_peak_x'], method=method) for a_decoder_name in _decoder_names}\n",
    "correlations = {an_output_col_name: shuffle_fn(group['t_rel_seconds']).rank(method=\"dense\").corr(group[a_pf_peak_x_column_name], method=method) for a_decoder_name, a_pf_peak_x_column_name, an_output_col_name in zip(_decoder_names, _pf_peak_x_column_names, _output_column_names)}\n",
    "\n",
    "\n",
    "pd.Series(correlations)"
   ]
  },
  {
   "cell_type": "code",
   "execution_count": null,
   "id": "883b0a14",
   "metadata": {},
   "outputs": [],
   "source": [
    "real_stats_df.columns # Index(['Probe_Epoch_id', 'LR_Long_spearman', 'RL_Long_spearman', 'LR_Short_spearman', 'RL_Short_spearman', 'Probe_Epoch_id', 'LR_Long_pearson', 'RL_Long_pearson', 'LR_Short_pearson', 'RL_Short_pearson'], dtype='object')"
   ]
  },
  {
   "cell_type": "code",
   "execution_count": null,
   "id": "df2bc463",
   "metadata": {},
   "outputs": [],
   "source": [
    "real_stats_df[real_stats_df.label == active_plotter.active_epoch_label]"
   ]
  },
  {
   "cell_type": "code",
   "execution_count": null,
   "id": "d26da2de",
   "metadata": {},
   "outputs": [],
   "source": [
    "\n",
    "LR_only_aclus, RL_only_aclus = bidirectional_setdiff1d(track_templates.shared_LR_aclus_only_neuron_IDs, track_templates.shared_RL_aclus_only_neuron_IDs)\n",
    "# (array([ 2,  5,  6,  8, 19, 29, 30, 33, 34, 35, 43, 58, 83, 85, 86]),\n",
    "#  array([  4,  12,  14,  18,  20,  27,  28,  32,  38,  57,  59,  62,  63,  67,  70,  71,  90,  91,  95, 101]))\n",
    "len(LR_only_aclus)\n",
    "len(RL_only_aclus)\n"
   ]
  },
  {
   "cell_type": "code",
   "execution_count": null,
   "id": "c5c4dbf0",
   "metadata": {},
   "outputs": [],
   "source": [
    "\n",
    "curr_epoch_spikes_df = deepcopy(active_plotter.get_active_epoch_spikes_df())[['t_rel_seconds', 'aclu', 'shank', 'cluster', 'qclu', 'maze_id', 'flat_spike_idx', 'Probe_Epoch_id']]\n",
    "# curr_epoch_spikes_df[\"spike_rank\"] = curr_epoch_spikes_df[\"t_rel_seconds\"].rank(method=\"average\")\n",
    "# curr_epoch_spikes_df = curr_epoch_spikes_df.sort_values(['aclu']) # Sort by column: 'aclu' (ascending)\n",
    "template_df: pd.DataFrame = pd.DataFrame(track_templates.decoder_aclu_peak_rank_dict_dict)\n",
    "template_df = template_df.add_prefix('rank_').reset_index(names='aclu')\n",
    "spearman_rho_df = CurrTesting.compute_spearman_rank_order(spike_df=curr_epoch_spikes_df, template_df=template_df)\n",
    "print(spearman_rho_df)\n",
    "\n",
    "# template_df.columns # ['aclu', 'rank_long_LR', 'rank_long_RL', 'rank_short_LR', 'rank_short_RL']\n",
    "# template_df.reset_index(names='aclu')\n",
    "# template_df"
   ]
  },
  {
   "cell_type": "code",
   "execution_count": null,
   "id": "77043562",
   "metadata": {},
   "outputs": [],
   "source": [
    "merged_df = curr_epoch_spikes_df.merge(template_df, on=\"aclu\")\n",
    "merged_df[\"spike_rank\"] = merged_df[\"t_rel_seconds\"].rank(method=\"dense\")\n",
    "merged_df\n",
    "\n",
    "# list(track_templates.decoder_aclu_peak_rank_dict_dict.keys()) # ['long_LR', 'long_RL', 'short_LR', 'short_RL']\n",
    "\n",
    "# curr_rank_column_name: str = 'rank_long_LR' # \"rank\"\n",
    "# spearman_rho_df = merged_df.apply(lambda x: pd.Series({\"spearman_rho\": x[\"spike_rank\"]}, name=x.name), axis='index')\n",
    "\n",
    "spearman_rho_dict = {}\n",
    "for curr_rank_column_name in ['rank_long_LR', 'rank_long_RL', 'rank_short_LR', 'rank_short_RL']:\n",
    "\tspearman_rho_dict[curr_rank_column_name] = [merged_df[\"spike_rank\"].corr(merged_df[curr_rank_column_name], method=\"spearman\"), ]\n",
    "\n",
    "spearman_rho_dict\n",
    "spearman_rho_df = pd.DataFrame(spearman_rho_dict) # \n",
    "spearman_rho_df.columns = ['long_LR', 'long_RL', 'short_LR', 'short_RL']\n",
    "spearman_rho_df = spearman_rho_df.add_suffix('_spearman')\n",
    "# spearman_rho_df = merged_df.apply(\n",
    "# \tlambda x: pd.DataFrame(\n",
    "# \t\t{\"spearman_rho\": x[\"spike_rank\"]}, #.corr(x[curr_rank_column_name], method=\"spearman\")},\n",
    "# \t\tcolumns=[x.name],\n",
    "# \t),\n",
    "#     axis='index',\n",
    "# )\n",
    "spearman_rho_df\n"
   ]
  },
  {
   "cell_type": "code",
   "execution_count": null,
   "id": "eda6111c",
   "metadata": {},
   "outputs": [],
   "source": [
    "# Example usage\n",
    "\n",
    "spike_df = pd.DataFrame(\n",
    "    {\n",
    "        \"t_rel_seconds\": [10, 20, 30, 40, 50, 60],\n",
    "        \"aclu\": [1, 2, 1, 3, 2, 1],\n",
    "    }\n",
    ")\n",
    "template_df = pd.DataFrame(\n",
    "    {\n",
    "        \"aclu\": [1, 2, 3],\n",
    "        \"rank\": [3, 1, 2],\n",
    "    }\n",
    ")\n",
    "\n",
    "spearman_rho_df = CurrTesting.compute_spearman_rank_order(spike_df, template_df)\n",
    "\n",
    "print(spearman_rho_df)"
   ]
  },
  {
   "cell_type": "code",
   "execution_count": null,
   "id": "2f066a36",
   "metadata": {},
   "outputs": [],
   "source": [
    "real_long_rank_stats = scipy.stats.spearmanr(curr_epoch_spikes_aclus, template_corresponding_aclu_rank_list, nan_policy='omit')\n",
    "real_long_rank_stats"
   ]
  },
  {
   "cell_type": "code",
   "execution_count": null,
   "id": "1a9fb882",
   "metadata": {},
   "outputs": [],
   "source": []
  },
  {
   "cell_type": "code",
   "execution_count": null,
   "id": "2ab9f829",
   "metadata": {},
   "outputs": [],
   "source": [
    "## Get the ranks for the active aclus in the epoch:\n",
    "short_LR_peak_x_map = deepcopy(active_plotter.track_templates.get_decoder_aclu_peak_maps().short_LR)\n",
    "# np.unique(np.array(list(short_LR_peak_x_map.values())))\n",
    "\n",
    "assert CurrTesting.debug_detect_repeated_values(np.array(list(short_LR_peak_x_map.values()))) == {}, f\"No repeats allowed!\""
   ]
  },
  {
   "cell_type": "code",
   "execution_count": null,
   "id": "5faf59ae",
   "metadata": {},
   "outputs": [],
   "source": [
    "from neuropy.utils.mixins.peak_location_representing import compute_placefield_center_of_mass_positions\n",
    "\n",
    "compute_placefield_center_of_mass_positions"
   ]
  },
  {
   "cell_type": "code",
   "execution_count": null,
   "id": "23636d80",
   "metadata": {},
   "outputs": [],
   "source": [
    "ratemap: Ratemap = deepcopy(track_templates.long_LR_decoder.pf.ratemap)\n",
    "ratemap"
   ]
  },
  {
   "cell_type": "code",
   "execution_count": null,
   "id": "0b3fe1be",
   "metadata": {},
   "outputs": [],
   "source": [
    "from scipy.interpolate import interp1d\n",
    "\n",
    "def map_CoM_to_position_interp_array(xbin, tuning_curve_CoM_coordinates, xbin_edge_labels) -> NDArray:\n",
    "  \"\"\"\n",
    "  Maps center-of-mass coordinates back to actual positions as a flat numpy array.\n",
    "\n",
    "  Args:\n",
    "      xbin: np.array, the bin centers (not edges).\n",
    "      tuning_curve_CoM_coordinates: np.array, the center-of-mass coordinates for each tuning curve.\n",
    "      xbin_edge_labels: np.array, the bin edge labels (not center).\n",
    "\n",
    "  Returns:\n",
    "      positions: np.array, the estimated positions corresponding to the input center-of-mass values.\n",
    "  \"\"\"\n",
    "  positions = np.full_like(tuning_curve_CoM_coordinates, np.nan)\n",
    "  for i, CoM in enumerate(tuning_curve_CoM_coordinates):\n",
    "    # Find the bin containing the center-of-mass\n",
    "    bin_idx = (xbin_edge_labels <= CoM).sum() - 1\n",
    "    \n",
    "    # Check if CoM falls within the valid range\n",
    "    if bin_idx == 0 or bin_idx == len(xbin) - 1:\n",
    "      continue  # Skip invalid values and leave them as NaN\n",
    "\n",
    "    # Interpolate between bin edges\n",
    "    interpolator = interp1d(xbin_edge_labels[bin_idx:bin_idx+2], xbin[bin_idx:bin_idx+2], kind=\"linear\")\n",
    "    positions[i] = interpolator(CoM)\n",
    "  return positions\n",
    "\n",
    "def map_CoM_to_position_weighted_average(xbin, tuning_curve_CoM_coordinates, xbin_edge_labels):\n",
    "  \"\"\"\n",
    "  Maps center-of-mass coordinates back to actual positions using inverse weighted average.\n",
    "\n",
    "  Args:\n",
    "      xbin: np.array, the bin centers (not edges).\n",
    "      tuning_curve_CoM_coordinates: np.array, the center-of-mass coordinates for each tuning curve.\n",
    "      xbin_edge_labels: np.array, the bin edge labels (not center).\n",
    "\n",
    "  Returns:\n",
    "      positions: np.array, the estimated positions corresponding to the input center-of-mass values.\n",
    "  \"\"\"\n",
    "  positions = np.full_like(tuning_curve_CoM_coordinates, np.nan)\n",
    "  for i, CoM in enumerate(tuning_curve_CoM_coordinates):\n",
    "    # Find contributing bins\n",
    "    bin_idx1 = (xbin_edge_labels < CoM).sum() - 1\n",
    "    bin_idx2 = (xbin_edge_labels >= CoM).sum() - 1\n",
    "    \n",
    "    # Calculate weighted average if valid range\n",
    "    if bin_idx1 != -1 and bin_idx2 != len(xbin):\n",
    "      weights = tuning_curve_CoM_coordinates[bin_idx1:bin_idx2+1] - CoM\n",
    "      positions[i] = (weights * xbin[bin_idx1:bin_idx2+1]).sum() / weights.sum()\n",
    "\n",
    "  return positions\n",
    "\n",
    "from scipy.ndimage import gaussian_filter1d\n",
    "from scipy.interpolate import interp1d\n",
    "\n",
    "def map_CoM_to_position_smooth_interp(xbin, tuning_curve_CoM_coordinates, xbin_edge_labels, sigma=1):\n",
    "  \"\"\"\n",
    "  Maps center-of-mass coordinates back to actual positions using Gaussian smoothing and interpolation.\n",
    "\n",
    "  Args:\n",
    "      xbin: np.array, the bin centers (not edges).\n",
    "      tuning_curve_CoM_coordinates: np.array, the center-of-mass coordinates for each tuning curve.\n",
    "      xbin_edge_labels: np.array, the bin edge labels (not center).\n",
    "      sigma: float, the sigma parameter for Gaussian smoothing.\n",
    "\n",
    "  Returns:\n",
    "      positions: np.array, the estimated positions corresponding to the input center-of-mass values.\n",
    "  \"\"\"\n",
    "  smoothed_CoM = gaussian_filter1d(tuning_curve_CoM_coordinates, sigma)\n",
    "  positions = np.full_like(tuning_curve_CoM_coordinates, np.nan)\n",
    "  for i, CoM in enumerate(smoothed_CoM):\n",
    "    # Find interpolation bin and check validity\n",
    "    bin_idx = (xbin_edge_labels <= CoM).sum() - 1\n",
    "    if bin_idx < len(xbin) - 1:\n",
    "      # Perform linear interpolation between neighbors\n",
    "      interpolator = interp1d(xbin_edge_labels[bin_idx:bin_idx+2], xbin[bin_idx:bin_idx+2], kind=\"linear\")\n",
    "      positions[i] = interpolator(CoM)\n",
    "\n",
    "  return positions\n",
    "\n",
    "\n",
    "xbin_edge_labels = np.arange(len(ratemap.xbin)) # the index range spanning all x-bins\n",
    "xbin = deepcopy(ratemap.xbin)\n",
    "\n",
    "tuning_curve_CoM_coordinates = deepcopy(ratemap.peak_tuning_curve_center_of_masses)\n",
    "\n",
    "assert np.all(np.diff(xbin) > 0)\n",
    "\n",
    "\n",
    "# map_CoM_to_position_interp_array(xbin, tuning_curve_CoM_coordinates, xbin_edge_labels)\n",
    "\n",
    "test_CoM_df = pd.DataFrame({'simple_interp': np.interp(tuning_curve_CoM_coordinates, xp=xbin_edge_labels, fp=xbin),\n",
    "\t\t\t\t\t\t\t'interp': map_CoM_to_position_interp_array(xbin, tuning_curve_CoM_coordinates, xbin_edge_labels),\n",
    "                        #    'inv_weighted_avg': map_CoM_to_position_weighted_average(xbin, tuning_curve_CoM_coordinates, xbin_edge_labels),\n",
    "                           'smooth_interp': map_CoM_to_position_smooth_interp(xbin, tuning_curve_CoM_coordinates, xbin_edge_labels, sigma=0.1)})\n",
    "test_CoM_df\n",
    "# xbin: np.array([36.5862, 40.3916, 44.197, 48.0025, 51.8079, 55.6133, 59.4187, 63.2241, 67.0295, 70.835, 74.6404, 78.4458, 82.2512, 86.0566, 89.862, 93.6675, 97.4729, 101.278, 105.084, 108.889, 112.695, 116.5, 120.305, 124.111, 127.916, 131.722, 135.527, 139.332, 143.138, 146.943, 150.749, 154.554, 158.36, 162.165, 165.97, 169.776, 173.581, 177.387, 181.192, 184.997, 188.803, 192.608, 196.414, 200.219, 204.025, 207.83, 211.635, 215.441, 219.246, 223.052, 226.857, 230.662, 234.468, 238.273, 242.079, 245.884, 249.69])\n",
    "# tuning_curve_CoM_coordinates: np.array([22.3504, 33.5163, 36.219, 32.3855, 23.8594, 24.6407, 10.0726, 37.7695, 5.75679, 32.0758, 9.31427, 51.8735, 34.7201, 18.7215, 24.9917, 4.85872, 5.76916, 21.6332, 39.7348, 39.1924, 16.6196, 12.1798, 21.817, 15.8822, 7.94376, 46.0885, 24.9744, 18.708, 32.783, 46.3567, 40.9617, 30.5369, 47.7288, 19.5929, 37.7068, 50.7682, 18.0797, 30.9646, 18.4351, 26.3567, 46.3524, 9.01655, 42.9213, 33.1472, 7.45477, 11.561, 14.1151, 26.0069, 20.4058, 47.9163, 28.6427])\n",
    "# xbin_edge_labels: np.array([ 0,  1,  2,  3,  4,  5,  6,  7,  8,  9, 10, 11, 12, 13, 14, 15, 16, 17, 18, 19, 20, 21, 22, 23, 24, 25, 26, 27, 28, 29, 30, 31, 32, 33, 34, 35, 36, 37, 38, 39, 40, 41, 42, 43, 44, 45, 46, 47, 48, 49, 50, 51, 52, 53, 54, 55, 56])"
   ]
  },
  {
   "cell_type": "code",
   "execution_count": null,
   "id": "793e45e4",
   "metadata": {},
   "outputs": [],
   "source": []
  },
  {
   "cell_type": "code",
   "execution_count": null,
   "id": "3628f029",
   "metadata": {},
   "outputs": [],
   "source": [
    "ratemap.peak_tuning_curve_center_of_masses"
   ]
  },
  {
   "cell_type": "code",
   "execution_count": null,
   "id": "04ff314e",
   "metadata": {},
   "outputs": [],
   "source": [
    "curr_epoch_spikes_df.aclu.map(short_LR_peak_x_map) # 2023-12-20 - The core issue seems to involve missing values. For example, when an aclu is missing from this template, a NaN is returned.\n",
    "\n",
    "## ERROR HERE: \n",
    "# 280: aclu=79, result=122.208089\n",
    "# 281: aclu=48, result=122.208089\n",
    "# WHY WOULD THEY BE THE SAME?\n",
    "short_LR_peak_x_map[79]"
   ]
  },
  {
   "cell_type": "code",
   "execution_count": null,
   "id": "12ed94f1",
   "metadata": {},
   "outputs": [],
   "source": [
    "short_LR_peak_x_map[48]"
   ]
  },
  {
   "cell_type": "code",
   "execution_count": null,
   "id": "c8a2b11f",
   "metadata": {},
   "outputs": [],
   "source": [
    "\n"
   ]
  },
  {
   "cell_type": "code",
   "execution_count": null,
   "id": "6303391c",
   "metadata": {},
   "outputs": [],
   "source": [
    "# corrwith\n",
    "scipy.stats.spearmanr(active_epoch_aclu_short_ranks, actually_included_epoch_ranks) # Both arrays need to have the same length in the axis dimension."
   ]
  },
  {
   "cell_type": "code",
   "execution_count": null,
   "id": "8710deb2",
   "metadata": {},
   "outputs": [],
   "source": []
  },
  {
   "cell_type": "code",
   "execution_count": null,
   "id": "f48ac600",
   "metadata": {},
   "outputs": [],
   "source": []
  },
  {
   "cell_type": "code",
   "execution_count": null,
   "id": "98109834",
   "metadata": {},
   "outputs": [],
   "source": [
    "active_epochs_df = deepcopy(ripple_result_tuple.active_epochs)\n",
    "active_epochs_df"
   ]
  },
  {
   "cell_type": "code",
   "execution_count": null,
   "id": "c43543ad",
   "metadata": {},
   "outputs": [],
   "source": [
    "active_epochs_df = deepcopy(rank_order_results.LR_ripple.epochs_df)\n",
    "active_epochs_df"
   ]
  },
  {
   "cell_type": "code",
   "execution_count": null,
   "id": "b1963fa0",
   "metadata": {},
   "outputs": [],
   "source": []
  },
  {
   "cell_type": "code",
   "execution_count": null,
   "id": "51d8efe7",
   "metadata": {},
   "outputs": [],
   "source": [
    "print(list(rank_order_raster_debugger.global_spikes_df.columns)) # ['start', 'stop', 'label', 'duration', 'end', 'LR_Long_spearman', 'RL_Long_spearman', 'LR_Short_spearman', 'RL_Short_spearman', 'LR_Long_pearson', 'RL_Long_pearson', 'LR_Short_pearson', 'RL_Short_pearson', 'LR_Long_Old_Spearman', 'RL_Long_Old_Spearman', 'LR_Short_Old_Spearman', 'RL_Short_Old_Spearman', 'LR_Long_ActuallyIncludedAclus', 'LR_Long_rel_num_cells', 'RL_Long_ActuallyIncludedAclus', 'RL_Long_rel_num_cells', 'LR_Long_Z', 'RL_Long_Z', 'LR_Short_Z', 'RL_Short_Z']\n",
    "\n"
   ]
  },
  {
   "cell_type": "code",
   "execution_count": null,
   "id": "537629d3",
   "metadata": {},
   "outputs": [],
   "source": [
    "print(list(active_selected_spikes_df.columns)) # ['start', 'stop', 'label', 'duration', 'end', 'LR_Long_spearman', 'RL_Long_spearman', 'LR_Short_spearman', 'RL_Short_spearman', 'LR_Long_pearson', 'RL_Long_pearson', 'LR_Short_pearson', 'RL_Short_pearson', 'LR_Long_Old_Spearman', 'RL_Long_Old_Spearman', 'LR_Short_Old_Spearman', 'RL_Short_Old_Spearman', 'LR_Long_ActuallyIncludedAclus', 'LR_Long_rel_num_cells', 'RL_Long_ActuallyIncludedAclus', 'RL_Long_rel_num_cells', 'LR_Long_Z', 'RL_Long_Z', 'LR_Short_Z', 'RL_Short_Z']\n",
    "\n"
   ]
  },
  {
   "cell_type": "code",
   "execution_count": null,
   "id": "24b5b2f0",
   "metadata": {},
   "outputs": [],
   "source": [
    "print(list(active_epochs_df.columns)) # ['start', 'stop', 'label', 'duration', 'end', 'LR_Long_spearman', 'RL_Long_spearman', 'LR_Short_spearman', 'RL_Short_spearman', 'LR_Long_pearson', 'RL_Long_pearson', 'LR_Short_pearson', 'RL_Short_pearson', 'LR_Long_Old_Spearman', 'RL_Long_Old_Spearman', 'LR_Short_Old_Spearman', 'RL_Short_Old_Spearman', 'LR_Long_ActuallyIncludedAclus', 'LR_Long_rel_num_cells', 'RL_Long_ActuallyIncludedAclus', 'RL_Long_rel_num_cells', 'LR_Long_Z', 'RL_Long_Z', 'LR_Short_Z', 'RL_Short_Z']\n",
    "\n",
    "\n",
    "a_row, a_label = get_epoch_label_row(188)\n",
    "a_row\n",
    "\n"
   ]
  },
  {
   "cell_type": "code",
   "execution_count": null,
   "id": "2e08152a",
   "metadata": {},
   "outputs": [],
   "source": [
    "a_row = list(a_row.itertuples())[0]"
   ]
  },
  {
   "cell_type": "code",
   "execution_count": null,
   "id": "2cd51cc0",
   "metadata": {},
   "outputs": [],
   "source": [
    "list(rank_order_raster_debugger.plots_data.keys())\n"
   ]
  },
  {
   "cell_type": "code",
   "execution_count": null,
   "id": "04c4165f",
   "metadata": {},
   "outputs": [],
   "source": [
    "debug_update_plot_titles(rank_order_raster_debugger, an_idx=20)"
   ]
  },
  {
   "cell_type": "code",
   "execution_count": null,
   "id": "aa84ac7f",
   "metadata": {},
   "outputs": [],
   "source": [
    "a_debug_callback_fn(rank_order_raster_debugger, an_idx=20)"
   ]
  },
  {
   "cell_type": "code",
   "execution_count": null,
   "id": "7953c047",
   "metadata": {},
   "outputs": [],
   "source": [
    "list(rank_order_raster_debugger.plots.root_plots.keys())\n"
   ]
  },
  {
   "cell_type": "code",
   "execution_count": null,
   "id": "f84a6dce",
   "metadata": {},
   "outputs": [],
   "source": [
    "directional_likelihoods_tuple: DirectionalRankOrderLikelihoods = ripple_result_tuple.directional_likelihoods_tuple\n",
    "directional_likelihoods_tuple.long_best_direction_indices\n",
    "ripple_result_tuple.rank_order_z_score_df"
   ]
  },
  {
   "cell_type": "code",
   "execution_count": null,
   "id": "9782963d",
   "metadata": {},
   "outputs": [],
   "source": [
    "ripple_result_tuple.rank_order_z_score_df.label"
   ]
  },
  {
   "cell_type": "markdown",
   "id": "1e4b438c",
   "metadata": {
    "notebookRunGroups": {
     "groupValue": "21"
    }
   },
   "source": [
    "### Independent DirectionalTemplatePFsDebugger for testing"
   ]
  },
  {
   "cell_type": "code",
   "execution_count": null,
   "id": "a5f7ac4e",
   "metadata": {
    "notebookRunGroups": {
     "groupValue": "3"
    },
    "tags": [
     "figure"
    ]
   },
   "outputs": [],
   "source": [
    "\n",
    "\n",
    "from pyphoplacecellanalysis.GUI.PyQtPlot.Widgets.ContainerBased.TemplateDebugger import TemplateDebugger\n",
    "\n",
    "# _display_directional_laps_overview:\n",
    "curr_active_pipeline.prepare_for_display()\n",
    "curr_active_pipeline.reload_default_display_functions()\n",
    "session_description: str = curr_active_pipeline.get_session_context().get_description()\n",
    "print(f'session_description: {session_description}')\n",
    "pg.setConfigOptions(imageAxisOrder='row-major')\n",
    "# _out = curr_active_pipeline.display(DirectionalPlacefieldGlobalDisplayFunctions._display_directional_laps_overview)\n",
    "_out_all_cells_directional_template_pfs_debugger = curr_active_pipeline.display(DirectionalPlacefieldGlobalDisplayFunctions._display_directional_template_debugger, included_any_context_neuron_ids=None, figure_name='All Cells (Independent)', \n",
    "                                                                                debug_print=True, debug_draw=True)\n",
    "all_cells_directional_template_pfs_debugger: TemplateDebugger = _out_all_cells_directional_template_pfs_debugger['obj']\n",
    "plots = all_cells_directional_template_pfs_debugger.plots\n"
   ]
  },
  {
   "cell_type": "code",
   "execution_count": null,
   "id": "ca5816a1",
   "metadata": {},
   "outputs": [],
   "source": [
    "plots_data = all_cells_directional_template_pfs_debugger.plots_data\n",
    "plots_data.all_attributes"
   ]
  },
  {
   "cell_type": "code",
   "execution_count": null,
   "id": "3068edde",
   "metadata": {},
   "outputs": [],
   "source": [
    "# extent=(0, 200, 0, 100)\n",
    "a_decoder_name = 'long_LR'\n",
    "a_decoder =  all_cells_directional_template_pfs_debugger.decoders_dict[a_decoder_name]\n",
    "a_decoder.pf.ratemap.xbin\n"
   ]
  },
  {
   "cell_type": "code",
   "execution_count": null,
   "id": "83656a91",
   "metadata": {},
   "outputs": [],
   "source": [
    "def convert_extents(xmin, xmax, ymin, ymax):\n",
    "    # (x, y, w, h)\n",
    "    return (xmin, ymin, (xmax-xmin), (ymax-xmin))\n",
    "\n"
   ]
  },
  {
   "cell_type": "code",
   "execution_count": null,
   "id": "c85c35f4",
   "metadata": {},
   "outputs": [],
   "source": [
    "[len(v) for v in plots_data.sorted_neuron_IDs_lists]\n",
    "\n",
    "# img_extents_dict = {a_decoder_name:[a_decoder.pf.ratemap.xbin[0], a_decoder.pf.ratemap.xbin[-1], 0, float(len(plots_data.sorted_neuron_IDs_lists[i]))] for i, (a_decoder_name, a_decoder) in enumerate(all_cells_directional_template_pfs_debugger.decoders_dict.items()) } # these extents are  (xmin, xmax, ymin, ymax) \n",
    "img_extents_dict = {a_decoder_name:[a_decoder.pf.ratemap.xbin[0], 0, (a_decoder.pf.ratemap.xbin[-1]-a_decoder.pf.ratemap.xbin[0]), (float(len(plots_data.sorted_neuron_IDs_lists[i]))-0.0)] for i, (a_decoder_name, a_decoder) in enumerate(all_cells_directional_template_pfs_debugger.decoders_dict.items()) } # these extents are  (x, y, w, h)\n",
    "\n",
    "for a_decoder_name, (curr_win, curr_img) in plots.pf1D_heatmaps.items():\n",
    "    print(f'a_decoder_name: {a_decoder_name}, img_extents_dict[a_decoder_name]: {img_extents_dict[a_decoder_name]}')\n",
    "    curr_win.showAxes(True)\n",
    "    # Set the extent to map pixels to x-locations\n",
    "    curr_img.setRect(img_extents_dict[a_decoder_name])\n"
   ]
  },
  {
   "cell_type": "code",
   "execution_count": null,
   "id": "97f5b182",
   "metadata": {},
   "outputs": [],
   "source": [
    "a_ratemap: Ratemap = a_decoder.pf.ratemap\n",
    "active_n_cells = 3\n",
    "y_max = float(active_n_cells) + 0.5\n",
    "img_extents = [a_ratemap.xbin[0], a_ratemap.xbin[-1], 0, y_max] # (xmin, xmax, ymin, ymax)\n",
    "img_extents\n"
   ]
  },
  {
   "cell_type": "code",
   "execution_count": null,
   "id": "6eccad6e",
   "metadata": {},
   "outputs": [],
   "source": [
    "\n",
    "curr_win, curr_img = plots.pf1D_heatmaps[a_decoder_name] # win, img\n",
    "curr_win.showAxes(True)\n",
    "# curr_img.ImageItem\n",
    "# all_cells_directional_template_pfs_debugger.plots.\n",
    "# a_view_box = an_image_item.getViewBox()\n",
    "# a_plot_widget\n",
    "\n",
    "# Set the extent to map pixels to x-locations\n",
    "img_item.setAttr(extent=(0, 200, 0, 100))\n",
    "\n",
    "plots_data"
   ]
  },
  {
   "cell_type": "code",
   "execution_count": null,
   "id": "8b547db3",
   "metadata": {},
   "outputs": [],
   "source": [
    "\n",
    "all_cells_directional_template_pfs_debugger.plots_data.sorted_pf_peak_location_list\n",
    "\n",
    "\n"
   ]
  },
  {
   "cell_type": "code",
   "execution_count": null,
   "id": "780c30ec",
   "metadata": {},
   "outputs": [],
   "source": [
    "from PendingNotebookCode import PyQtGraphCrosshairs\n",
    "\n",
    "\n",
    "\n"
   ]
  },
  {
   "cell_type": "code",
   "execution_count": null,
   "id": "4720cdac",
   "metadata": {},
   "outputs": [],
   "source": [
    ".data.sorted_pf_peak_location_list"
   ]
  },
  {
   "cell_type": "code",
   "execution_count": null,
   "id": "463fdeb9",
   "metadata": {},
   "outputs": [],
   "source": [
    "## Just compute line point locations... EZ.\n"
   ]
  },
  {
   "cell_type": "code",
   "execution_count": null,
   "id": "dd514e35",
   "metadata": {},
   "outputs": [],
   "source": [
    "curr_active_pipeline.registered_display_function_docs_dict"
   ]
  },
  {
   "cell_type": "code",
   "execution_count": null,
   "id": "d589de5a",
   "metadata": {},
   "outputs": [],
   "source": [
    "curr_active_pipeline.display('_display_1d_placefield_occupancy', long_LR_context)"
   ]
  },
  {
   "cell_type": "code",
   "execution_count": null,
   "id": "fe0d6049",
   "metadata": {},
   "outputs": [],
   "source": [
    "rois = []\n",
    "rois.append(pg.RectROI([20, 20], [20, 20], pen=(0,9)))\n"
   ]
  },
  {
   "cell_type": "code",
   "execution_count": null,
   "id": "abc6b65a",
   "metadata": {},
   "outputs": [],
   "source": [
    "\n",
    "# Function to handle hover event\n",
    "def hoverEvent(pos):\n",
    "    print(f'hoverEvent')\n",
    "    index = int(pos.x())\n",
    "    region.setRegion([index, index + 1])  # Highlight the entire row\n",
    "\n",
    "# Add LinearRegionItem for highlighting\n",
    "region = pg.LinearRegionItem(brush='#FFFFFF', hoverBrush='#FFFFFF', movable=False, clipItem=an_image_item)\n",
    "region.setZValue(10)\n",
    "\n",
    "a_plot_widget.addItem(region, ignoreBounds=True)\n",
    "\n",
    "# Connect hover event\n",
    "a_plot_widget.scene().sigMouseMoved.connect(hoverEvent)\n",
    "\n",
    "region.setRegion([0.0, 10.0 + 1])"
   ]
  },
  {
   "cell_type": "code",
   "execution_count": null,
   "id": "4f48594d",
   "metadata": {},
   "outputs": [],
   "source": [
    "from pyphoplacecellanalysis.General.Pipeline.Stages.ComputationFunctions.MultiContextComputationFunctions.RankOrderComputations import RankOrderAnalyses\n",
    "\n",
    "## Main\n",
    "ripple_result_tuple, laps_result_tuple = RankOrderAnalyses.most_likely_directional_rank_order_shuffling(curr_active_pipeline, decoding_time_bin_size=0.003)\n",
    "ripple_result_tuple"
   ]
  },
  {
   "cell_type": "code",
   "execution_count": null,
   "id": "296afed9",
   "metadata": {},
   "outputs": [],
   "source": [
    "laps_result_tuple"
   ]
  },
  {
   "cell_type": "code",
   "execution_count": null,
   "id": "886bed92",
   "metadata": {},
   "outputs": [],
   "source": [
    "curr_active_pipeline.global_computation_results.computed_data['RankOrder'].ripple_most_likely_result_tuple, curr_active_pipeline.global_computation_results.computed_data['RankOrder'].laps_most_likely_result_tuple = RankOrderAnalyses.most_likely_directional_rank_order_shuffling(curr_active_pipeline, decoding_time_bin_size=0.006) # 6ms bins"
   ]
  },
  {
   "cell_type": "markdown",
   "id": "220c19f9",
   "metadata": {
    "notebookRunGroups": {
     "groupValue": "2"
    }
   },
   "source": [
    "# Plot the z-scores differences and their raw-values"
   ]
  },
  {
   "cell_type": "code",
   "execution_count": null,
   "id": "8a1cad5d",
   "metadata": {},
   "outputs": [],
   "source": [
    "from pyphoplacecellanalysis.General.Pipeline.Stages.ComputationFunctions.MultiContextComputationFunctions.RankOrderComputations import plot_rank_order_epoch_inst_fr_result_tuples\n",
    "\n",
    "ripple_outputs = plot_rank_order_epoch_inst_fr_result_tuples(curr_active_pipeline, ripple_result_tuple, 'Ripple')"
   ]
  },
  {
   "cell_type": "code",
   "execution_count": null,
   "id": "a156df8d",
   "metadata": {},
   "outputs": [],
   "source": [
    "# Usage of the function for Lap\n",
    "lap_outputs = plot_rank_order_epoch_inst_fr_result_tuples(curr_active_pipeline, laps_result_tuple, 'Lap')"
   ]
  },
  {
   "cell_type": "code",
   "execution_count": null,
   "id": "b0ba64ce",
   "metadata": {
    "notebookRunGroups": {
     "groupValue": "2"
    }
   },
   "outputs": [],
   "source": [
    "# result_tuple.plot_histograms()\n",
    "from pyphoplacecellanalysis.General.Pipeline.Stages.ComputationFunctions.MultiContextComputationFunctions.RankOrderComputations import plot_rank_order_histograms\n",
    "\n",
    "# Plot histograms:\n",
    "post_title_info: str = f'{minimum_inclusion_fr_Hz} Hz\\n{curr_active_pipeline.get_session_context().get_description()}'\n",
    "_out_z_score, _out_real, _out_most_likely_z, _out_most_likely_raw = plot_rank_order_histograms(rank_order_results, post_title_info=post_title_info)\n"
   ]
  },
  {
   "cell_type": "code",
   "execution_count": null,
   "id": "e0a7ded7",
   "metadata": {},
   "outputs": [],
   "source": [
    "## Get the raw spearman_rho values for the best-direction for both Long/Short:\n",
    "# Adds ['Long_BestDir_spearman', 'Short_BestDir_spearman']\n",
    "\n",
    "## Ripples:\n",
    "long_best_direction_indicies = deepcopy(rank_order_results.ripple_most_likely_result_tuple.directional_likelihoods_tuple.long_best_direction_indices)\n",
    "short_best_direction_indicies = deepcopy(rank_order_results.ripple_most_likely_result_tuple.directional_likelihoods_tuple.short_best_direction_indices)\n",
    "assert np.shape(long_best_direction_indicies) == np.shape(short_best_direction_indicies)\n",
    "\n",
    "ripple_evts_long_best_dir_raw_stats_values = np.where(long_best_direction_indicies, rank_order_results.ripple_combined_epoch_stats_df['LR_Long_spearman'].to_numpy(), rank_order_results.ripple_combined_epoch_stats_df['RL_Long_spearman'].to_numpy())\n",
    "ripple_evts_short_best_dir_raw_stats_values = np.where(short_best_direction_indicies, rank_order_results.ripple_combined_epoch_stats_df['LR_Short_spearman'].to_numpy(), rank_order_results.ripple_combined_epoch_stats_df['RL_Short_spearman'].to_numpy())\n",
    "assert np.shape(ripple_evts_long_best_dir_raw_stats_values) == np.shape(ripple_evts_short_best_dir_raw_stats_values)\n",
    "rank_order_results.ripple_combined_epoch_stats_df['Long_BestDir_spearman'] = ripple_evts_long_best_dir_raw_stats_values\n",
    "rank_order_results.ripple_combined_epoch_stats_df['Short_BestDir_spearman'] = ripple_evts_short_best_dir_raw_stats_values\n",
    "\n",
    "## Laps\n",
    "long_best_direction_indicies = deepcopy(laps_result_tuple.directional_likelihoods_tuple.long_best_direction_indices)\n",
    "short_best_direction_indicies = deepcopy(laps_result_tuple.directional_likelihoods_tuple.short_best_direction_indices)\n",
    "assert np.shape(long_best_direction_indicies) == np.shape(short_best_direction_indicies)\n",
    "\n",
    "laps_evts_long_best_dir_raw_stats_values = np.where(long_best_direction_indicies, rank_order_results.laps_combined_epoch_stats_df['LR_Long_spearman'].to_numpy(), rank_order_results.laps_combined_epoch_stats_df['RL_Long_spearman'].to_numpy())\n",
    "laps_evts_short_best_dir_raw_stats_values = np.where(short_best_direction_indicies, rank_order_results.laps_combined_epoch_stats_df['LR_Short_spearman'].to_numpy(), rank_order_results.laps_combined_epoch_stats_df['RL_Short_spearman'].to_numpy())\n",
    "assert np.shape(laps_evts_long_best_dir_raw_stats_values) == np.shape(laps_evts_short_best_dir_raw_stats_values)\n",
    "rank_order_results.laps_combined_epoch_stats_df['Long_BestDir_spearman'] = laps_evts_long_best_dir_raw_stats_values\n",
    "rank_order_results.laps_combined_epoch_stats_df['Short_BestDir_spearman'] = laps_evts_short_best_dir_raw_stats_values\n",
    "\n",
    "rank_order_results.ripple_combined_epoch_stats_df"
   ]
  },
  {
   "cell_type": "code",
   "execution_count": null,
   "id": "143279df",
   "metadata": {},
   "outputs": [],
   "source": [
    "\n",
    "active_LR_ripple_long_z_score"
   ]
  },
  {
   "cell_type": "code",
   "execution_count": null,
   "id": "759d5a40",
   "metadata": {},
   "outputs": [],
   "source": [
    "[len(x) for x in track_templates.decoder_neuron_IDs_list]\n"
   ]
  },
  {
   "cell_type": "code",
   "execution_count": null,
   "id": "44ad1409",
   "metadata": {},
   "outputs": [],
   "source": [
    "directional_likelihoods_df.plot.bar(y=['long_relative_direction_likelihoods', 'short_relative_direction_likelihoods'])"
   ]
  },
  {
   "cell_type": "code",
   "execution_count": null,
   "id": "76430f39",
   "metadata": {},
   "outputs": [],
   "source": [
    "an_idx: int = 154\n",
    "# a_label = lookup_label_from_index(an_idx)\n",
    "# a_label"
   ]
  },
  {
   "cell_type": "code",
   "execution_count": null,
   "id": "3d02079d",
   "metadata": {},
   "outputs": [],
   "source": [
    "active_selected_spikes_df[active_selected_spikes_df['Probe_Epoch_id'] == an_idx]['aclu'].count()"
   ]
  },
  {
   "cell_type": "code",
   "execution_count": null,
   "id": "6b7eeab7",
   "metadata": {},
   "outputs": [],
   "source": [
    "active_selected_spikes_df[active_selected_spikes_df['Probe_Epoch_id'] == an_idx].plot.scatter(x='t_rel_seconds', y='LR_Long_pf_peak_x')"
   ]
  },
  {
   "cell_type": "code",
   "execution_count": null,
   "id": "c36856cb",
   "metadata": {},
   "outputs": [],
   "source": [
    "## filter events by (|z| > 1.0)\n",
    "ripple_result_tuple.active_epochs\n",
    "ripple_result_tuple.long_best_dir_z_score_values"
   ]
  },
  {
   "cell_type": "code",
   "execution_count": null,
   "id": "de5402b9",
   "metadata": {},
   "outputs": [],
   "source": [
    "# ripple_result_tuple.directional_likelihoods_tuple\n",
    "ripple_result_tuple.directional_likelihoods_tuple.long_best_direction_indices[105] # 1, "
   ]
  },
  {
   "cell_type": "code",
   "execution_count": null,
   "id": "23ac85b9",
   "metadata": {},
   "outputs": [],
   "source": [
    "ripple_result_tuple.directional_likelihoods_tuple.short_best_direction_indices[105]"
   ]
  },
  {
   "cell_type": "code",
   "execution_count": null,
   "id": "751e2ba3",
   "metadata": {},
   "outputs": [],
   "source": [
    "ripple_result_tuple.long_best_dir_z_score_values[105]"
   ]
  },
  {
   "cell_type": "code",
   "execution_count": null,
   "id": "9372e0f2",
   "metadata": {},
   "outputs": [],
   "source": [
    "ripple_result_tuple.short_best_dir_z_score_values[105]"
   ]
  },
  {
   "cell_type": "code",
   "execution_count": null,
   "id": "e57c1873",
   "metadata": {},
   "outputs": [],
   "source": [
    "ripple_result_tuple.active_epochs"
   ]
  },
  {
   "cell_type": "code",
   "execution_count": null,
   "id": "905e6b71",
   "metadata": {},
   "outputs": [],
   "source": [
    "np.shape(ripple_result_tuple.long_best_dir_z_score_values)"
   ]
  },
  {
   "cell_type": "code",
   "execution_count": null,
   "id": "ff13302a",
   "metadata": {},
   "outputs": [],
   "source": [
    "np.shape(ripple_result_tuple.short_best_dir_z_score_values)"
   ]
  },
  {
   "cell_type": "code",
   "execution_count": null,
   "id": "c18e3936",
   "metadata": {},
   "outputs": [],
   "source": [
    "global_replays.n_epochs"
   ]
  },
  {
   "cell_type": "code",
   "execution_count": null,
   "id": "9e99e913",
   "metadata": {},
   "outputs": [],
   "source": [
    "global_replays"
   ]
  },
  {
   "cell_type": "code",
   "execution_count": null,
   "id": "4d468a50",
   "metadata": {},
   "outputs": [],
   "source": [
    "ratemap = long_pf1D.ratemap\n",
    "ratemap.tuning_curve_unsmoothed_peak_firing_rates"
   ]
  },
  {
   "cell_type": "code",
   "execution_count": null,
   "id": "77bebb16",
   "metadata": {},
   "outputs": [],
   "source": [
    "type(rank_order_results)"
   ]
  },
  {
   "cell_type": "code",
   "execution_count": null,
   "id": "628ae69d",
   "metadata": {},
   "outputs": [],
   "source": [
    "ripple_result_tuple.directional_likelihoods_tuple.long_relative_direction_likelihoods.shape"
   ]
  },
  {
   "cell_type": "code",
   "execution_count": null,
   "id": "be485e17",
   "metadata": {},
   "outputs": [],
   "source": [
    "ripple_result_tuple.directional_likelihoods_tuple.short_relative_direction_likelihoods.shape"
   ]
  },
  {
   "cell_type": "code",
   "execution_count": null,
   "id": "dcd965be",
   "metadata": {},
   "outputs": [],
   "source": [
    "ripple_result_tuple.directional_likelihoods_tuple.long_best_direction_indices"
   ]
  },
  {
   "cell_type": "code",
   "execution_count": null,
   "id": "0750edae",
   "metadata": {},
   "outputs": [],
   "source": [
    "ripple_result_tuple.short_best_dir_z_score_values"
   ]
  },
  {
   "cell_type": "code",
   "execution_count": null,
   "id": "3213cd164073dbb3",
   "metadata": {
    "ExecuteTime": {
     "end_time": "2023-11-16T23:24:06.810860500Z",
     "start_time": "2023-11-16T23:24:06.644858700Z"
    }
   },
   "outputs": [],
   "source": [
    "# 2023-11-16_LapsRankOrderHistogram Figure:\n",
    "pd.DataFrame({'long_z_scores': laps_result_tuple.long_best_dir_z_score_values, 'short_z_scores': laps_result_tuple.short_best_dir_z_score_values}).hist()"
   ]
  },
  {
   "cell_type": "markdown",
   "id": "f1f2a9a6",
   "metadata": {},
   "source": [
    "# Create a new `SpikeRaster2D` instance using `_display_spike_raster_pyqtplot_2D` and capture its outputs:\n"
   ]
  },
  {
   "cell_type": "code",
   "execution_count": null,
   "id": "7cc87fb8",
   "metadata": {},
   "outputs": [],
   "source": [
    "curr_active_pipeline.prepare_for_display()"
   ]
  },
  {
   "cell_type": "code",
   "execution_count": null,
   "id": "82cc7400",
   "metadata": {},
   "outputs": [],
   "source": [
    "# Create a new `SpikeRaster2D` instance using `_display_spike_raster_pyqtplot_2D` and capture its outputs:\n",
    "# active_2d_plot, active_3d_plot, spike_raster_window = curr_active_pipeline.plot._display_spike_rasters_pyqtplot_2D()\n",
    "\n",
    "active_2d_plot, active_3d_plot, spike_raster_window = curr_active_pipeline.display('_display_spike_rasters_pyqtplot_2D', 'maze_any') # 'maze_any'\n"
   ]
  },
  {
   "cell_type": "code",
   "execution_count": null,
   "id": "39840338",
   "metadata": {},
   "outputs": [],
   "source": [
    "active_2d_plot, active_3d_plot, spike_raster_window = curr_active_pipeline.plot._display_spike_rasters_pyqtplot_2D()\n"
   ]
  },
  {
   "cell_type": "code",
   "execution_count": null,
   "id": "e75eb376",
   "metadata": {},
   "outputs": [],
   "source": [
    "spike_raster_window"
   ]
  },
  {
   "cell_type": "code",
   "execution_count": null,
   "id": "10b7afeb",
   "metadata": {},
   "outputs": [],
   "source": [
    "spikes_window = spike_raster_window.spikes_window # SpikesDataframeWindow\n",
    "\n",
    "bottomPlaybackControlBarWidget = spike_raster_window.ui.bottomPlaybackControlBarWidget # Spike3DRasterBottomPlaybackControlBar \n",
    "\n",
    "doubleSpinBox_ActiveWindowStartTime = bottomPlaybackControlBarWidget.ui.doubleSpinBox_ActiveWindowStartTime\n",
    "doubleSpinBox_ActiveWindowEndTime = bottomPlaybackControlBarWidget.ui.doubleSpinBox_ActiveWindowEndTime\n",
    "\n",
    "\n",
    "# spikes_window.timeWindow.start\n",
    "# spikes_window.active_window_start_time\n",
    "# spikes_window.update_window_start_end(451.8908457518555, 451.9895490613999) ## Works but does not trigger refresh/update of the window. The changes are reflected as soon as you try to scroll at all though.\n",
    "# spikes_window.active_window_end_time\n",
    "\n",
    "print(f'spikes_window.active_window_start_time: {spikes_window.active_window_start_time}, spikes_window.active_window_end_time: {spikes_window.active_window_end_time}')\n",
    "# need to block signals:\n",
    "# doubleSpinBox_ActiveWindowStartTime.blockSignals(True)\n",
    "# doubleSpinBox_ActiveWindowEndTime.blockSignals(True)\n",
    "doubleSpinBox_ActiveWindowStartTime.setValue(spikes_window.active_window_start_time)\n",
    "doubleSpinBox_ActiveWindowEndTime.setValue(spikes_window.active_window_end_time)\n",
    "# doubleSpinBox_ActiveWindowStartTime.blockSignals(False) # unblock the signals when done\n",
    "# doubleSpinBox_ActiveWindowEndTime.blockSignals(False)\n",
    "\n",
    "\n",
    "# @pyqtExceptionPrintingSlot(float, float)\n",
    "def on_active_window_changed(start_t, end_t, _obj):\n",
    "\t# need to block signals:\n",
    "\t# doubleSpinBox_ActiveWindowStartTime.blockSignals(True)\n",
    "\t# doubleSpinBox_ActiveWindowEndTime.blockSignals(True)\n",
    "\tif start_t is not None:\n",
    "\t\tdoubleSpinBox_ActiveWindowStartTime.setValue(start_t)\n",
    "\tif end_t is not None:\n",
    "\t\tdoubleSpinBox_ActiveWindowEndTime.setValue(end_t)\n",
    "\t# doubleSpinBox_ActiveWindowStartTime.blockSignals(False) # unblock the signals when done\n",
    "\t# doubleSpinBox_ActiveWindowEndTime.blockSignals(False)\n",
    "\n",
    "curr_window_ctrls_connection = spikes_window.windowed_data_window_updated_signal.connect(on_active_window_changed)\n"
   ]
  },
  {
   "cell_type": "code",
   "execution_count": null,
   "id": "113a3acd",
   "metadata": {},
   "outputs": [],
   "source": [
    "doubleSpinBox_ActiveWindowStartTime.setReadOnly(True)\n",
    "doubleSpinBox_ActiveWindowEndTime.setReadOnly(True)\n",
    "\n",
    "spikes_window.on_window_changed.connect("
   ]
  },
  {
   "cell_type": "code",
   "execution_count": null,
   "id": "8319e362",
   "metadata": {},
   "outputs": [],
   "source": [
    "doubleSpinBox_ActiveWindowStartTime.setVisible(False)\n",
    "bottomPlaybackControlBarWidget.setVisible(False)"
   ]
  },
  {
   "cell_type": "code",
   "execution_count": null,
   "id": "01d043d6",
   "metadata": {},
   "outputs": [],
   "source": [
    "# global_epoch_context\n",
    "curr_active_pipeline.reload_default_display_functions()\n",
    "# curr_active_pipeline.prepare_for_display()\n",
    "curr_active_pipeline.clear_display_outputs()\n"
   ]
  },
  {
   "cell_type": "code",
   "execution_count": null,
   "id": "2441e547",
   "metadata": {},
   "outputs": [],
   "source": [
    "# Gets the existing SpikeRasterWindow or creates a new one if one doesn't already exist:\n",
    "from pyphocorehelpers.gui.Qt.TopLevelWindowHelper import TopLevelWindowHelper\n",
    "import pyphoplacecellanalysis.External.pyqtgraph as pg # Used to get the app for TopLevelWindowHelper.top_level_windows\n",
    "## For searching with `TopLevelWindowHelper.all_widgets(...)`:\n",
    "from pyphoplacecellanalysis.GUI.PyQtPlot.Widgets.SpikeRasterWidgets.Spike2DRaster import Spike2DRaster\n",
    "from pyphoplacecellanalysis.GUI.PyQtPlot.Widgets.SpikeRasterWidgets.Spike3DRaster import Spike3DRaster\n",
    "from pyphoplacecellanalysis.GUI.Qt.SpikeRasterWindows.Spike3DRasterWindowWidget import Spike3DRasterWindowWidget\n",
    "\n",
    "found_spike_raster_windows = TopLevelWindowHelper.all_widgets(pg.mkQApp(), searchType=Spike3DRasterWindowWidget)\n",
    "\n",
    "if len(found_spike_raster_windows) < 1:\n",
    "\t# no existing spike_raster_windows. Make a new one\n",
    "\tprint(f'no existing SpikeRasterWindow. Creating a new one.')\n",
    "\t# Create a new `SpikeRaster2D` instance using `_display_spike_raster_pyqtplot_2D` and capture its outputs:\n",
    "\t# active_2d_plot, active_3d_plot, spike_raster_window = curr_active_pipeline.plot._display_spike_rasters_pyqtplot_2D()\n",
    "\n",
    "\tactive_2d_plot, active_3d_plot, spike_raster_window = curr_active_pipeline.plot._display_spike_rasters_pyqtplot_2D()\n",
    "\n",
    "else:\n",
    "\tprint(f'found {len(found_spike_raster_windows)} existing Spike3DRasterWindowWidget windows using TopLevelWindowHelper.all_widgets(...). Will use the most recent.')\n",
    "\t# assert len(found_spike_raster_windows) == 1, f\"found {len(found_spike_raster_windows)} Spike3DRasterWindowWidget windows using TopLevelWindowHelper.all_widgets(...) but require exactly one.\"\n",
    "\t# Get the most recent existing one and reuse that:\n",
    "\tspike_raster_window = found_spike_raster_windows[0]\n",
    "\n",
    "\n",
    "# Extras:\n",
    "active_2d_plot = spike_raster_window.spike_raster_plt_2d # <pyphoplacecellanalysis.GUI.PyQtPlot.Widgets.SpikeRasterWidgets.Spike2DRaster.Spike2DRaster at 0x196c7244280>\n",
    "active_3d_plot = spike_raster_window.spike_raster_plt_3d # <pyphoplacecellanalysis.GUI.PyQtPlot.Widgets.SpikeRasterWidgets.Spike2DRaster.Spike2DRaster at 0x196c7244280>\n",
    "main_graphics_layout_widget = active_2d_plot.ui.main_graphics_layout_widget # GraphicsLayoutWidget\n",
    "main_plot_widget = active_2d_plot.plots.main_plot_widget # PlotItem\n",
    "background_static_scroll_plot_widget = active_2d_plot.plots.background_static_scroll_window_plot # PlotItem"
   ]
  },
  {
   "cell_type": "code",
   "execution_count": null,
   "id": "7c6338da",
   "metadata": {},
   "outputs": [],
   "source": [
    "spike_raster_window.isVisible() # False\n",
    "# spike_raster_window.show()\n",
    "spike_raster_window.close()"
   ]
  },
  {
   "cell_type": "code",
   "execution_count": null,
   "id": "0bafe4df",
   "metadata": {},
   "outputs": [],
   "source": [
    "spike_raster_window.connection_man.active_connections"
   ]
  },
  {
   "cell_type": "code",
   "execution_count": null,
   "id": "0a801d59",
   "metadata": {},
   "outputs": [],
   "source": [
    "found_any_window = TopLevelWindowHelper.top_level_windows(pg.mkQApp())\n",
    "found_any_window"
   ]
  },
  {
   "cell_type": "code",
   "execution_count": null,
   "id": "17d815bb",
   "metadata": {},
   "outputs": [],
   "source": [
    "# print windows:\n",
    "[print_widget_hierarchy(v) for k, v in found_any_window.items()]"
   ]
  },
  {
   "cell_type": "code",
   "execution_count": null,
   "id": "5c00e166",
   "metadata": {},
   "outputs": [],
   "source": [
    "_display_out = curr_active_pipeline.last_added_display_output\n"
   ]
  },
  {
   "cell_type": "code",
   "execution_count": null,
   "id": "b06ea13e",
   "metadata": {},
   "outputs": [],
   "source": [
    "ipspikesDataExplorer = _display_out['ipspikesDataExplorer']\n",
    "pActiveSpikesBehaviorPlotter = _display_out['plotter']\n"
   ]
  },
  {
   "cell_type": "code",
   "execution_count": null,
   "id": "2c92cd2f",
   "metadata": {},
   "outputs": [],
   "source": [
    " = curr_active_pipeline.last_added_display_output\n",
    "_display_out\n"
   ]
  },
  {
   "cell_type": "code",
   "execution_count": null,
   "id": "e02ac639",
   "metadata": {},
   "outputs": [],
   "source": [
    "ipspikesDataExplorer = self._display_output['ipspikesDataExplorer']"
   ]
  },
  {
   "cell_type": "code",
   "execution_count": null,
   "id": "bd461fb3",
   "metadata": {},
   "outputs": [],
   "source": [
    "### Adjusting Spike Emphasis:\n",
    "#### Usage Examples:\n",
    "from pyphoplacecellanalysis.General.Mixins.SpikesRenderingBaseMixin import SpikeEmphasisState\n",
    "from neuropy.core.neuron_identities import NeuronType\n"
   ]
  },
  {
   "cell_type": "code",
   "execution_count": null,
   "id": "b1dd5449",
   "metadata": {},
   "outputs": [],
   "source": [
    "\n",
    "## Example 1: De-emphasize spikes excluded from the placefield calculations:\n",
    "is_spike_included_in_pf = np.isin(spike_raster_window.spike_raster_plt_2d.spikes_df.index, active_pf_2D.filtered_spikes_df.index)\n",
    "spike_raster_window.spike_raster_plt_2d.update_spike_emphasis(np.logical_not(is_spike_included_in_pf), SpikeEmphasisState.Deemphasized)\n",
    "\n",
    "## Example 2: De-emphasize spikes that don't have their 'aclu' from a given set of indicies:\n",
    "is_spike_included = spike_raster_window.spike_raster_plt_2d.spikes_df.aclu.to_numpy() == 2\n",
    "spike_raster_window.spike_raster_plt_2d.update_spike_emphasis(np.logical_not(is_spike_included), SpikeEmphasisState.Deemphasized)\n",
    "\n",
    "## Example 3: De-emphasize all spikes \n",
    "active_2d_plot.update_spike_emphasis(new_emphasis_state=SpikeEmphasisState.Deemphasized)\n",
    "\n",
    "## Example 4: Hide all spikes entirely\n",
    "active_2d_plot.update_spike_emphasis(new_emphasis_state=SpikeEmphasisState.Hidden)\n"
   ]
  },
  {
   "cell_type": "code",
   "execution_count": null,
   "id": "98b9a61d",
   "metadata": {},
   "outputs": [],
   "source": [
    "## Setup: Hide all non-pyramidal spikes entirely\n",
    "spikes_df = spike_raster_window.spikes_df\n",
    "spike_raster_window.spike_raster_plt_2d.update_spike_emphasis(np.logical_not((spikes_df.neuron_type == NeuronType.from_string('pyr'))), SpikeEmphasisState.Hidden)"
   ]
  },
  {
   "cell_type": "code",
   "execution_count": null,
   "id": "f3feb699",
   "metadata": {},
   "outputs": [],
   "source": [
    "spikes_window = spike_raster_window.spikes_window # SpikesDataframeWindow\n",
    "# spikes_window.update_window_start_end(451.8908457518555, 451.9895490613999) ## Works but does not trigger refresh/update of the window. The changes are reflected as soon as you try to scroll at all though.\n"
   ]
  },
  {
   "cell_type": "code",
   "execution_count": null,
   "id": "1ae85b4a",
   "metadata": {},
   "outputs": [],
   "source": [
    "# 20*60.0 + 50.0 +  0.218 = 1250.218\n",
    "\n",
    "spikes_window.update_window_start_end(1250.218, (1250.218 + 3.0))\n",
    "\n"
   ]
  },
  {
   "cell_type": "code",
   "execution_count": null,
   "id": "325548b0",
   "metadata": {},
   "outputs": [],
   "source": [
    "spikes_window.window_duration # Prints the current window's duration. The win. dur. label control in the left bar is not updated.\n",
    "\n",
    "desired_window_fraction: float = 0.1 # 10% of the window is the default jump size\n",
    "relevant_jump_duration: float = spikes_window.window_duration * desired_window_fraction\n",
    "relevant_jump_duration\n"
   ]
  },
  {
   "cell_type": "code",
   "execution_count": null,
   "id": "7bc81002",
   "metadata": {},
   "outputs": [],
   "source": [
    "from pyphoplacecellanalysis.PhoPositionalData.plotting.mixins.spikes_mixins import SpikeRenderingPyVistaMixin\n",
    "from pyphoplacecellanalysis.GUI.PyVista.InteractivePlotter.InteractivePlaceCellTuningCurvesDataExplorer import InteractivePlaceCellTuningCurvesDataExplorer\n",
    "# from pyphoplacecellanalysis.GUI.PyVista.InteractivePlotter.InteractivePlaceCellTuningCurvesDataExplorer import InteractivePlaceCellTuningCurvesDataExplorer\n",
    "from pyphoplacecellanalysis.GUI.PyVista.InteractivePlotter.InteractivePlaceCellDataExplorer import InteractivePlaceCellDataExplorer\n",
    "\n",
    "found_windows_of_type = TopLevelWindowHelper.all_widgets(pg.mkQApp(), searchType=InteractivePlaceCellDataExplorer)\n",
    "found_windows_of_type\n",
    "TopLevelWindowHelper.top_level_windows(pg.mkQApp(), only_visible=True)"
   ]
  },
  {
   "cell_type": "code",
   "execution_count": null,
   "id": "e2abd93f",
   "metadata": {},
   "outputs": [],
   "source": [
    "(451.8908457518555, 451.9895490613999)"
   ]
  },
  {
   "cell_type": "code",
   "execution_count": null,
   "id": "6c418968",
   "metadata": {},
   "outputs": [],
   "source": [
    "from pyphoplacecellanalysis.SpecificResults.PhoDiba2023Paper import BatchPhoJonathanFiguresHelper\n",
    "\n",
    "fig_1c_figures_out_dict = BatchPhoJonathanFiguresHelper.run(curr_active_pipeline, neuron_replay_stats_df, included_unit_neuron_IDs=XOR_subset.track_exclusive_aclus, n_max_page_rows=20, write_vector_format=False, write_png=True, disable_top_row=True) # active_out_figures_dict: {IdentifyingContext<('kdiba', 'gor01', 'two', '2006-6-07_16-40-19', 'BatchPhoJonathanReplayFRC', 'long_only', '(12,21,48)')>: <Figure size 1920x660 with 12 Axes>, IdentifyingContext<('kdiba', 'gor01', 'two', '2006-6-07_16-40-19', 'BatchPhoJonathanReplayFRC', 'short_only', '(18,19,65)')>: <Figure size 1920x660 with 12 Axes>}"
   ]
  },
  {
   "cell_type": "markdown",
   "id": "2ea2f309",
   "metadata": {},
   "source": [
    "# PhoKamran2023Paper Results"
   ]
  },
  {
   "cell_type": "code",
   "execution_count": null,
   "id": "85a7dd8b",
   "metadata": {},
   "outputs": [],
   "source": [
    "pg.setConfigOptions(background='white', foreground='black') # black on white background (more traditional) color scheme"
   ]
  },
  {
   "cell_type": "markdown",
   "id": "162d813d",
   "metadata": {},
   "source": [
    "## Figure 1) pf1D Ratemaps, Active set, etc"
   ]
  },
  {
   "cell_type": "code",
   "execution_count": null,
   "id": "273696fc",
   "metadata": {},
   "outputs": [],
   "source": [
    "from pyphoplacecellanalysis.General.Pipeline.Stages.DisplayFunctions.SpikeRasters import plot_multiple_raster_plot, plot_raster_plot\n",
    "from pyphoplacecellanalysis.Pho2D.matplotlib.visualize_heatmap import visualize_heatmap_pyqtgraph # used in `plot_kourosh_activity_style_figure`\n",
    "from pyphoplacecellanalysis.SpecificResults.PhoDiba2023Paper import PAPER_FIGURE_figure_1_full, PAPER_FIGURE_figure_1_add_replay_epoch_rasters\n",
    "\n",
    "curr_active_pipeline.prepare_for_display()\n",
    "pf1d_compare_graphics, (example_epoch_rasters_L, example_epoch_rasters_S), example_stacked_epoch_graphics, fig_1c_figures_out_dict = PAPER_FIGURE_figure_1_full(curr_active_pipeline) # did not display the pf1"
   ]
  },
  {
   "cell_type": "code",
   "execution_count": null,
   "id": "84fa9acc",
   "metadata": {},
   "outputs": [],
   "source": [
    "# rdf = jonathan_firing_rate_analysis_result.rdf.rdf\n",
    "# rdf\n",
    "# ==================================================================================================================== #\n",
    "# Fig 1c) 2023-07-14 - LxC and SxC PhoJonathanSession plots                                                            #\n",
    "# ==================================================================================================================== #\n",
    "from pyphoplacecellanalysis.General.Batch.NonInteractiveProcessing import BatchPhoJonathanFiguresHelper\n",
    "\n",
    "## Get global 'jonathan_firing_rate_analysis' results:\n",
    "curr_jonathan_firing_rate_analysis = curr_active_pipeline.global_computation_results.computed_data['jonathan_firing_rate_analysis']\n",
    "neuron_replay_stats_df, rdf, aclu_to_idx, irdf = curr_jonathan_firing_rate_analysis.neuron_replay_stats_df, curr_jonathan_firing_rate_analysis.rdf.rdf, curr_jonathan_firing_rate_analysis.rdf.aclu_to_idx, curr_jonathan_firing_rate_analysis.irdf.irdf\n",
    "\n",
    "fig_1c_figures_out_dict = BatchPhoJonathanFiguresHelper.run(curr_active_pipeline, neuron_replay_stats_df, included_unit_neuron_IDs=XOR_subset.track_exclusive_aclus, n_max_page_rows=20, write_vector_format=False, write_png=True, disable_top_row=True) # active_out_figures_dict: {IdentifyingContext<('kdiba', 'gor01', 'two', '2006-6-07_16-40-19', 'BatchPhoJonathanReplayFRC', 'long_only', '(12,21,48)')>: <Figure size 1920x660 with 12 Axes>, IdentifyingContext<('kdiba', 'gor01', 'two', '2006-6-07_16-40-19', 'BatchPhoJonathanReplayFRC', 'short_only', '(18,19,65)')>: <Figure size 1920x660 with 12 Axes>}\n"
   ]
  },
  {
   "cell_type": "markdown",
   "id": "5cba3c7a",
   "metadata": {},
   "source": [
    "## Figure 2) `PaperFigureTwo`: LxC/SxC Analyses\n",
    "Note: this fails when SxC or LxC are empty for this session (as it's not meaningful to produce a comparison bar plot). In this case, aggregate across multiple sessions."
   ]
  },
  {
   "cell_type": "code",
   "execution_count": null,
   "id": "97d3e1ff",
   "metadata": {},
   "outputs": [],
   "source": [
    "from pyphoplacecellanalysis.SpecificResults.PhoDiba2023Paper import PaperFigureTwo\n",
    "\n",
    "_out_fig_2 = PaperFigureTwo(instantaneous_time_bin_size_seconds=0.01) # 10ms\n",
    "_out_fig_2.compute(curr_active_pipeline=curr_active_pipeline)\n",
    "_out_fig_2.display()"
   ]
  },
  {
   "cell_type": "markdown",
   "id": "14a52142",
   "metadata": {},
   "source": [
    "## Figure 3) `PAPER_FIGURE_figure_3`: Firing Rate Index and Long/Short Firing Rate Replays v. Laps"
   ]
  },
  {
   "cell_type": "code",
   "execution_count": null,
   "id": "5f765ed6",
   "metadata": {},
   "outputs": [],
   "source": [
    "from neuropy.utils.matplotlib_helpers import FormattedFigureText\n",
    "from pyphoplacecellanalysis.General.Pipeline.Stages.DisplayFunctions.MultiContextComparingDisplayFunctions.LongShortTrackComparingDisplayFunctions import _plot_long_short_firing_rate_indicies\n",
    "# curr_active_pipeline.reload_default_display_functions()\n",
    "\n",
    "_out, _out2 = PAPER_FIGURE_figure_3(curr_active_pipeline, defer_render=False, save_figure=True)"
   ]
  },
  {
   "cell_type": "markdown",
   "id": "a909c676",
   "metadata": {},
   "source": [
    "##  All Programmatic Plots"
   ]
  },
  {
   "cell_type": "code",
   "execution_count": null,
   "id": "d6bcb738",
   "metadata": {},
   "outputs": [],
   "source": [
    "from pyphoplacecellanalysis.General.Batch.NonInteractiveProcessing import batch_perform_all_plots\n",
    "\n",
    "batch_perform_all_plots(curr_active_pipeline, enable_neptune=False, neptuner=None)"
   ]
  },
  {
   "cell_type": "markdown",
   "id": "5a87521d",
   "metadata": {},
   "source": [
    "# 2023-12-22 - Validating Direction Detection Via Laps"
   ]
  },
  {
   "cell_type": "code",
   "execution_count": null,
   "id": "ac454d51",
   "metadata": {},
   "outputs": [],
   "source": [
    "from pyphoplacecellanalysis.General.Pipeline.Stages.ComputationFunctions.MultiContextComputationFunctions.RankOrderComputations import RankOrderAnalyses\n",
    "\n",
    "## Main\n",
    "curr_active_pipeline.global_computation_results.computed_data['RankOrder'].ripple_most_likely_result_tuple, curr_active_pipeline.global_computation_results.computed_data['RankOrder'].laps_most_likely_result_tuple = RankOrderAnalyses.most_likely_directional_rank_order_shuffling(curr_active_pipeline)\n",
    "\n",
    "\n",
    "# laps_result_tuple"
   ]
  },
  {
   "cell_type": "markdown",
   "id": "116ff425",
   "metadata": {},
   "source": [
    "# 2023-12-22 - Final Things to do\n",
    "- [X] Use `pearson_r` values instead of `spearman_rho` values in the quantile calculation\n",
    "- [ ] Throw out bad events\n",
    "- [X] Shuffle only amongst the cells that are active in a given epoch.\n",
    "\n"
   ]
  },
  {
   "cell_type": "code",
   "execution_count": null,
   "id": "8de5f067",
   "metadata": {},
   "outputs": [],
   "source": [
    "# laps_result_tuple.directional_likelihoods_df\n",
    "# laps_result_tuple.active_epochs\n",
    "\n",
    "\n",
    "# rank_order_results.LR_ripple.ranked_aclus_stats_dict\n",
    "# output_active_epoch_computed_values, valid_stacked_arrays, real_stacked_arrays, n_valid_shuffles = rank_order_results.laps_new_output_tuple\n",
    "\n",
    "\n",
    "assert len(rank_order_results.laps_new_output_tuple) == 5\n",
    "\n",
    "# laps_merged_complete_epoch_stats_df\n",
    "\n",
    "laps_merged_complete_epoch_stats_df[['Long_best_direction_indicies', 'Short_best_direction_indicies', 'combined_best_direction_indicies', 'long_best_direction_indices', 'short_best_direction_indices']]"
   ]
  },
  {
   "cell_type": "code",
   "execution_count": null,
   "id": "8a003e38",
   "metadata": {},
   "outputs": [],
   "source": [
    "len(rank_order_results.laps_new_output_tuple)"
   ]
  },
  {
   "cell_type": "code",
   "execution_count": null,
   "id": "1a11f2f4",
   "metadata": {},
   "outputs": [],
   "source": [
    "# Need: valid_stacked_arrays, real_stacked_arrays, combined_variable_names\n",
    "combined_epoch_stats_df: pd.DataFrame = pd.DataFrame(real_stacked_arrays, columns=combined_variable_names)\n",
    "combined_variable_z_score_column_names = [f\"{a_name}_Z\" for a_name in combined_variable_names] # combined_variable_z_score_column_names: ['LR_Long_spearman_Z', 'RL_Long_spearman_Z', 'LR_Short_spearman_Z', 'RL_Short_spearman_Z', 'LR_Long_pearson_Z', 'RL_Long_pearson_Z', 'LR_Short_pearson_Z', 'RL_Short_pearson_Z']\n",
    "\n",
    "combined_variable_z_score_column_names = ['LR_Long_pearson_Z', 'RL_Long_pearson_Z', 'LR_Short_pearson_Z', 'RL_Short_pearson_Z']\n",
    "combined_variable_names = ['LR_Long_pearson', 'RL_Long_pearson', 'LR_Short_pearson', 'RL_Short_pearson'] # list(set(real_stats_df.columns) - set(['label'])) # ['RL_Short_spearman', 'RL_Long_pearson', 'RL_Short_pearson', 'LR_Long_spearman', 'LR_Short_pearson', 'LR_Long_pearson', 'LR_Short_spearman', 'RL_Long_spearman']\n",
    "\n",
    "\n",
    "## Extract the stats values for each shuffle from `valid_stacked_arrays`:\n",
    "n_epochs = np.shape(real_stacked_arrays)[0]\n",
    "n_variables = np.shape(real_stacked_arrays)[1]\n",
    "\n",
    "assert n_epochs == np.shape(valid_stacked_arrays)[-2]\n",
    "assert n_variables == np.shape(valid_stacked_arrays)[-1]\n",
    "\n",
    "for variable_IDX, a_column_name in enumerate(combined_variable_z_score_column_names):\n",
    "\tstats_corr_values = np.squeeze(valid_stacked_arrays[:, :, variable_IDX])\n",
    "\tz_scorer_list = [Zscorer.init_from_values(stats_corr_values=stats_corr_values, real_value=real_stacked_arrays[epoch_IDX, variable_IDX]) for epoch_IDX in np.arange(n_epochs)]\n",
    "\tz_score_values = np.array([a_zscorer.z_score_value for a_zscorer in z_scorer_list])\n",
    "\tcombined_epoch_stats_df[a_column_name] = z_score_values"
   ]
  },
  {
   "cell_type": "code",
   "execution_count": null,
   "id": "9be33928",
   "metadata": {},
   "outputs": [],
   "source": [
    "\n",
    "laps_merged_complete_epoch_stats_df[['Long_LR_evidence', 'Long_RL_evidence', 'Short_LR_evidence', 'Short_RL_evidence', 'Long_LR_product_evidence', 'Long_RL_product_evidence', 'Short_LR_product_evidence', 'Short_RL_product_evidence', 'Long_normed_LR_evidence', 'Long_normed_RL_evidence', 'Long_normed_product_LR_evidence', 'Long_normed_product_RL_evidence', 'Long_best_direction_indicies', 'Short_normed_LR_evidence', 'Short_normed_RL_evidence', 'Short_normed_product_LR_evidence', 'Short_normed_product_RL_evidence']]\n"
   ]
  },
  {
   "cell_type": "code",
   "execution_count": null,
   "id": "1328f18a",
   "metadata": {},
   "outputs": [],
   "source": [
    "['Long_LR_evidence', 'Long_RL_evidence', 'Short_LR_evidence', 'Short_RL_evidence', 'Long_LR_product_evidence', 'Long_RL_product_evidence', 'Short_LR_product_evidence', 'Short_RL_product_evidence', 'Long_normed_LR_evidence', 'Long_normed_RL_evidence', 'Long_normed_product_LR_evidence', 'Long_normed_product_RL_evidence', 'Long_best_direction_indicies', 'Short_normed_LR_evidence', 'Short_normed_RL_evidence', 'Short_normed_product_LR_evidence', 'Short_normed_product_RL_evidence',\n",
    "'Short_best_direction_indicies', 'combined_best_direction_indicies', 'long_relative_direction_likelihoods', 'short_relative_direction_likelihoods', 'long_best_direction_indices', 'short_best_direction_indices',]"
   ]
  },
  {
   "cell_type": "code",
   "execution_count": null,
   "id": "809003ae",
   "metadata": {},
   "outputs": [],
   "source": [
    "from pyphoplacecellanalysis.General.Pipeline.Stages.ComputationFunctions.MultiContextComputationFunctions.RankOrderComputations import _validate_estimated_lap_dirs\n",
    "\n",
    "['long_best_direction_indices']\n",
    "\n",
    "rank_order_results.laps_merged_complete_epoch_stats_df\n",
    "\n",
    "_validate_estimated_lap_dirs(rank_order_results, global_any_laps_epochs_obj)\n",
    "# LR_laps_epochs_df"
   ]
  },
  {
   "cell_type": "code",
   "execution_count": null,
   "id": "8a1a7c70",
   "metadata": {},
   "outputs": [],
   "source": [
    "# ['combined_best_direction_indicies', 'Short_best_direction_indicies', 'Long_best_direction_indicies', 'short_best_direction_indices', 'long_best_direction_indices'\n",
    "np.all(rank_order_results.laps_merged_complete_epoch_stats_df['Long_best_direction_indicies'] == rank_order_results.laps_merged_complete_epoch_stats_df['long_best_direction_indices'])\n",
    "np.all(rank_order_results.laps_merged_complete_epoch_stats_df['Short_best_direction_indicies'] == rank_order_results.laps_merged_complete_epoch_stats_df['short_best_direction_indices'])\n",
    "(rank_order_results.laps_merged_complete_epoch_stats_df['Long_best_direction_indicies'].values == rank_order_results.laps_merged_complete_epoch_stats_df['Long_best_direction_indicies'].values)"
   ]
  },
  {
   "cell_type": "code",
   "execution_count": null,
   "id": "e89f20f0",
   "metadata": {},
   "outputs": [],
   "source": [
    "rank_order_results.laps_most_likely_result_tuple.directional_likelihoods_tuple.short_best_direction_indices\n"
   ]
  },
  {
   "cell_type": "code",
   "execution_count": null,
   "id": "a9e67f11",
   "metadata": {},
   "outputs": [],
   "source": [
    "\n",
    "\n",
    "long_best_direction_indicies = np.argmax(np.vstack([np.abs(active_LR_long_z_score), np.abs(active_RL_long_z_score)]), axis=0).astype(int)\n",
    "short_best_direction_indicies = np.argmax(np.vstack([np.abs(active_LR_short_z_score), np.abs(active_RL_short_z_score)]), axis=0).astype(int)"
   ]
  },
  {
   "cell_type": "code",
   "execution_count": null,
   "id": "24712591",
   "metadata": {},
   "outputs": [],
   "source": [
    "recovered_lap_epochs = rank_order_results.laps_most_likely_result_tuple.active_epochs\n",
    "estimated_directions = deepcopy(rank_order_results.laps_most_likely_result_tuple.directional_likelihoods_tuple.long_best_direction_indices)\n",
    "assert len(recovered_lap_epochs) == len(estimated_directions), f\"recovered_lap_epochs should be same length as estimated_directions\"\n",
    "estimated_directions"
   ]
  },
  {
   "cell_type": "code",
   "execution_count": null,
   "id": "46a374f2",
   "metadata": {},
   "outputs": [],
   "source": [
    "recovered_lap_epochs['estimated_direction_index'] = estimated_directions\n",
    "recovered_lap_epochs"
   ]
  },
  {
   "cell_type": "code",
   "execution_count": null,
   "id": "7837b6e8",
   "metadata": {},
   "outputs": [],
   "source": [
    "recovered_lap_epochs"
   ]
  },
  {
   "cell_type": "code",
   "execution_count": null,
   "id": "1a7807cd",
   "metadata": {},
   "outputs": [],
   "source": [
    "rank_order_results.LR_laps.epochs_df"
   ]
  },
  {
   "cell_type": "code",
   "execution_count": null,
   "id": "ea53d1d2",
   "metadata": {},
   "outputs": [],
   "source": [
    "rank_order_results.laps_most_likely_result_tuple.plot_histograms()\n"
   ]
  },
  {
   "cell_type": "code",
   "execution_count": null,
   "id": "9075d3f1",
   "metadata": {},
   "outputs": [],
   "source": [
    "rank_order_results.laps_most_likely_result_tuple.directional_likelihoods_tuple"
   ]
  },
  {
   "cell_type": "code",
   "execution_count": null,
   "id": "4eeab6d5",
   "metadata": {},
   "outputs": [],
   "source": [
    "rank_order_results.laps_most_likely_result_tuple.directional_likelihoods_tuple\n",
    ", \n"
   ]
  },
  {
   "cell_type": "code",
   "execution_count": null,
   "id": "98c12d97",
   "metadata": {},
   "outputs": [],
   "source": [
    "RL_laps_epochs_df"
   ]
  },
  {
   "cell_type": "code",
   "execution_count": null,
   "id": "852508a5",
   "metadata": {},
   "outputs": [],
   "source": [
    "rank_order_results.LR_ripple.epochs_df"
   ]
  },
  {
   "cell_type": "code",
   "execution_count": null,
   "id": "f45a9e13",
   "metadata": {},
   "outputs": [],
   "source": [
    "epochs_df_L.plot.scatter(x='start', y='normed_LR_evidence') # 'normed_product_LR_evidence'\n",
    "epochs_df_L.plot.scatter(x='start', y='normed_product_LR_evidence') # 'normed_product_LR_evidence'"
   ]
  },
  {
   "cell_type": "code",
   "execution_count": null,
   "id": "fbeeb826",
   "metadata": {},
   "outputs": [],
   "source": [
    "rank_order_results.LR_laps.epochs_df"
   ]
  },
  {
   "cell_type": "code",
   "execution_count": null,
   "id": "dade730c",
   "metadata": {},
   "outputs": [],
   "source": [
    "rank_order_results.RL_laps.epochs_df"
   ]
  },
  {
   "cell_type": "code",
   "execution_count": null,
   "id": "97b51573",
   "metadata": {},
   "outputs": [],
   "source": [
    "ActuallyIncludedAclusColumnNames = ['LR_Long_ActuallyIncludedAclus', 'RL_Long_ActuallyIncludedAclus', 'LR_Short_ActuallyIncludedAclus', 'RL_Short_ActuallyIncludedAclus']\n",
    "LR_laps_epochs_df[ActuallyIncludedAclusColumnNames]\n",
    "\n",
    "## find uniques in each one:\n",
    "\n",
    "def uniques(*aclus_lists):\n",
    "    "
   ]
  },
  {
   "cell_type": "code",
   "execution_count": null,
   "id": "5e603ce2",
   "metadata": {},
   "outputs": [],
   "source": [
    "an_aclus_lists = LR_laps_epochs_df.loc[0, ActuallyIncludedAclusColumnNames].to_dict()\n",
    "# {'LR_Long_ActuallyIncludedAclus': array([  5,  17,  25,  31,  32,  34,  36,  41,  45,  48,  50,  53,  54,  55,  57,  58,  59,  61,  62,  63,  64,  66,  68,  69,  74,  75,  76,  78,  81,  82,  83,  84,  86,  87,  88,  89,  90,  92,  93,  96,  98, 100, 102, 108]),\n",
    "#  'RL_Long_ActuallyIncludedAclus': array([  3,   5,  10,  11,  14,  15,  16,  21,  31,  32,  33,  35,  36,  37,  41,  45,  48,  49,  50,  53,  55,  57,  59,  60,  61,  62,  63,  64,  69,  70,  71,  73,  75,  76,  78,  81,  83,  84,  86,  88,  89,  90,  92,  93,  98, 100, 102, 107, 108]),\n",
    "#  'LR_Short_ActuallyIncludedAclus': array([  5,  17,  25,  31,  32,  34,  36,  41,  45,  48,  50,  53,  54,  55,  57,  58,  59,  61,  62,  63,  64,  66,  68,  69,  74,  75,  76,  78,  81,  82,  83,  84,  86,  87,  88,  89,  90,  92,  93,  96,  98, 100, 102, 108]),\n",
    "#  'RL_Short_ActuallyIncludedAclus': array([  3,   5,  10,  11,  14,  15,  16,  21,  31,  32,  33,  35,  36,  37,  41,  45,  48,  49,  50,  53,  55,  57,  59,  60,  61,  62,  63,  64,  69,  70,  71,  73,  75,  76,  78,  81,  83,  84,  86,  88,  89,  90,  92,  93,  98, 100, 102, 107, 108])}\n",
    "# an_aclus_lists['LR_Long_ActuallyIncludedAclus']\n",
    "\n",
    "\n",
    "\n",
    "\n",
    "LR_only, RL_only = bidirectional_setdiff1d(an_aclus_lists['LR_Long_ActuallyIncludedAclus'], an_aclus_lists['RL_Long_ActuallyIncludedAclus'])\n",
    "\n",
    "\n"
   ]
  },
  {
   "cell_type": "code",
   "execution_count": null,
   "id": "5ddf883b",
   "metadata": {},
   "outputs": [],
   "source": [
    "[bidirectional_setdiff1d(a_LR_aclus, a_RL_aclus) for a_LR_aclus, a_RL_aclus in zip(LR_laps_epochs_df['LR_Long_ActuallyIncludedAclus'].to_list(), LR_laps_epochs_df['RL_Long_ActuallyIncludedAclus'].to_list())]\n"
   ]
  },
  {
   "cell_type": "code",
   "execution_count": null,
   "id": "480fcaac",
   "metadata": {},
   "outputs": [],
   "source": [
    "RL_laps_epochs_df"
   ]
  },
  {
   "cell_type": "code",
   "execution_count": null,
   "id": "e44e227a",
   "metadata": {},
   "outputs": [],
   "source": [
    "# epochs_df_L.plot(x='start', y=['LR_evidence', 'LR_product_evidence'])"
   ]
  },
  {
   "cell_type": "code",
   "execution_count": null,
   "id": "19e10b38",
   "metadata": {},
   "outputs": [],
   "source": [
    "epochs_df_L.plot(x='start', y=['normed_LR_evidence', 'normed_product_LR_evidence'])"
   ]
  },
  {
   "cell_type": "code",
   "execution_count": null,
   "id": "c48afb06",
   "metadata": {},
   "outputs": [],
   "source": [
    "rank_order_results.LR_laps.epochs_df"
   ]
  },
  {
   "cell_type": "code",
   "execution_count": null,
   "id": "77a1b2bc",
   "metadata": {},
   "outputs": [],
   "source": [
    "from pyphoplacecellanalysis.General.Pipeline.Stages.ComputationFunctions.MultiContextComputationFunctions.RankOrderComputations import RankOrderAnalyses\n",
    "\n",
    "decoders_dict = track_templates.get_decoders_dict()\n",
    "active_epochs_df = deepcopy(rank_order_results.LR_ripple.epochs_df)\n",
    "epoch_accumulated_evidence, epoch_rate_dfs, epochs_df_L = RankOrderAnalyses.epoch_directionality_active_set_evidence(decoders_dict, active_epochs_df)\n",
    "epochs_df_L\n"
   ]
  },
  {
   "cell_type": "code",
   "execution_count": null,
   "id": "8224fb01",
   "metadata": {},
   "outputs": [],
   "source": [
    "long_best_direction_indicies = np.argmax(np.vstack([np.abs(epochs_df_L['Long_normed_LR_evidence'].to_numpy()), np.abs(epochs_df_L['Long_normed_RL_evidence'].to_numpy())]), axis=0).astype(int)\n",
    "short_best_direction_indicies = np.argmax(np.vstack([np.abs(epochs_df_L['Short_normed_LR_evidence'].to_numpy()), np.abs(epochs_df_L['Short_normed_RL_evidence'].to_numpy())]), axis=0).astype(int)\n",
    "long_best_direction_indicies"
   ]
  },
  {
   "cell_type": "code",
   "execution_count": null,
   "id": "662d66fa",
   "metadata": {},
   "outputs": [],
   "source": [
    "print(list(epochs_df_L.columns))"
   ]
  },
  {
   "cell_type": "code",
   "execution_count": null,
   "id": "f8e70134",
   "metadata": {},
   "outputs": [],
   "source": [
    "# 'LR_Long_ActuallyIncludedAclus', 'LR_Long_rel_num_cells', 'RL_Long_ActuallyIncludedAclus', 'RL_Long_rel_num_cells', 'LR_Short_ActuallyIncludedAclus', 'LR_Short_rel_num_cells', 'RL_Short_ActuallyIncludedAclus', 'RL_Short_rel_num_cells'\n",
    "# \n",
    "# epoch_rate_dfs\n",
    "\n",
    "['normed_LR_evidence','normed_RL_evidence','normed_product_LR_evidence','normed_product_RL_evidence']"
   ]
  },
  {
   "cell_type": "code",
   "execution_count": null,
   "id": "2bedea44",
   "metadata": {},
   "outputs": [],
   "source": [
    "long_laps.to_dataframe()"
   ]
  },
  {
   "cell_type": "code",
   "execution_count": null,
   "id": "06db228d",
   "metadata": {},
   "outputs": [],
   "source": [
    "epoch_rate_df = epoch_rate_dfs[410]\n",
    "epoch_rate_df"
   ]
  },
  {
   "cell_type": "code",
   "execution_count": null,
   "id": "7c314a89",
   "metadata": {},
   "outputs": [],
   "source": [
    "epoch_accumulated_evidence"
   ]
  },
  {
   "cell_type": "code",
   "execution_count": null,
   "id": "1e7bc582",
   "metadata": {},
   "outputs": [],
   "source": [
    "epochs_df_L['normed_LR_evidence'].hist()\n",
    "\n",
    "# epochs_df_L[['LR_evidence', 'RL_evidence']]/epochs_df_L[['LR_evidence', 'RL_evidence']].sum(axis=1)\n"
   ]
  },
  {
   "cell_type": "code",
   "execution_count": null,
   "id": "7dfa926a",
   "metadata": {},
   "outputs": [],
   "source": [
    "epochs_df_L['normed_product_LR_evidence'].hist()\n",
    "epochs_df_L['normed_product_RL_evidence'].hist()\n"
   ]
  },
  {
   "cell_type": "code",
   "execution_count": null,
   "id": "28f5ce80",
   "metadata": {},
   "outputs": [],
   "source": [
    "epoch_rate_dfs[188]"
   ]
  },
  {
   "cell_type": "code",
   "execution_count": null,
   "id": "1729b43a",
   "metadata": {},
   "outputs": [],
   "source": [
    "epochs_df_L.plot(x='start', y='normed_LR_evidence')"
   ]
  },
  {
   "cell_type": "code",
   "execution_count": null,
   "id": "a1120474",
   "metadata": {},
   "outputs": [],
   "source": [
    "# Determine which cells are active in the given epoch:\n",
    "\n",
    "# Get these cells' firing rates, using 0.0 if it isn't included in the map for one of the directions\n",
    "\n",
    "\n"
   ]
  },
  {
   "cell_type": "code",
   "execution_count": null,
   "id": "835130b8",
   "metadata": {},
   "outputs": [],
   "source": []
  },
  {
   "cell_type": "code",
   "execution_count": null,
   "id": "e201caf3",
   "metadata": {},
   "outputs": [],
   "source": [
    "ripple_combined_epoch_stats_df"
   ]
  },
  {
   "cell_type": "code",
   "execution_count": null,
   "id": "bfe1301d",
   "metadata": {},
   "outputs": [],
   "source": [
    "rank_order_results.ripple_combined_epoch_stats_df"
   ]
  },
  {
   "cell_type": "code",
   "execution_count": null,
   "id": "7f467b71",
   "metadata": {},
   "outputs": [],
   "source": [
    "np.isnan(ripple_combined_epoch_stats_df.index).any()"
   ]
  },
  {
   "cell_type": "code",
   "execution_count": null,
   "id": "ae3fe07f",
   "metadata": {},
   "outputs": [],
   "source": [
    "np.isnan(rank_order_results.ripple_combined_epoch_stats_df.index)"
   ]
  },
  {
   "cell_type": "code",
   "execution_count": null,
   "id": "7a69155e",
   "metadata": {},
   "outputs": [],
   "source": [
    "np.isnan(rank_order_results.ripple_combined_epoch_stats_df.label.to_numpy()).all()"
   ]
  },
  {
   "cell_type": "code",
   "execution_count": null,
   "id": "d0961819",
   "metadata": {},
   "outputs": [],
   "source": [
    "rank_order_results.ripple_combined_epoch_stats_df"
   ]
  },
  {
   "cell_type": "markdown",
   "id": "9df97f15",
   "metadata": {},
   "source": [
    "# 2023-12-18 - Simpily detect bimodal cells:"
   ]
  },
  {
   "cell_type": "code",
   "execution_count": null,
   "id": "be63bb2e",
   "metadata": {},
   "outputs": [],
   "source": [
    "\n",
    "_restore_previous_matplotlib_settings_callback = matplotlib_configuration_update(is_interactive=True, backend='Qt5Agg')\n",
    "curr_active_pipeline.display('_display_1d_placefields', 'maze1_any')\n"
   ]
  },
  {
   "cell_type": "code",
   "execution_count": null,
   "id": "8f9795e4",
   "metadata": {},
   "outputs": [],
   "source": [
    "# active_ratemap = deepcopy(long_pf1D.ratemap)\n",
    "active_ratemap = deepcopy(long_LR_pf1D.ratemap)\n",
    "peaks_dict, aclu_n_peaks_dict, unimodal_peaks_dict = active_ratemap.compute_tuning_curve_modes()\n",
    "print(aclu_n_peaks_dict) # {2: 4, 5: 4, 7: 2, 8: 2, 9: 2, 10: 5, 17: 2, 24: 2, 25: 3, 26: 1, 31: 3, 32: 5, 34: 2, 35: 1, 36: 2, 37: 2, 41: 4, 45: 3, 48: 4, 49: 4, 50: 4, 51: 3, 53: 5, 54: 3, 55: 5, 56: 4, 57: 4, 58: 5, 59: 3, 61: 4, 62: 3, 63: 4, 64: 4, 66: 3, 67: 4, 68: 2, 69: 2, 71: 3, 73: 3, 74: 3, 75: 5, 76: 5, 78: 3, 81: 3, 82: 1, 83: 4, 84: 4, 86: 3, 87: 3, 88: 4, 89: 3, 90: 3, 92: 4, 93: 4, 96: 2, 97: 4, 98: 5, 100: 4, 102: 7, 107: 1, 108: 5, 109: 2}\n"
   ]
  },
  {
   "cell_type": "code",
   "execution_count": null,
   "id": "bf27c021",
   "metadata": {},
   "outputs": [],
   "source": [
    "aclu_n_peaks_dict"
   ]
  },
  {
   "cell_type": "code",
   "execution_count": null,
   "id": "1d106dbc",
   "metadata": {},
   "outputs": [],
   "source": [
    "unimodal_only_aclus = np.array(list(unimodal_peaks_dict.keys()))\n",
    "unimodal_only_aclus"
   ]
  },
  {
   "cell_type": "code",
   "execution_count": null,
   "id": "97cc4383",
   "metadata": {},
   "outputs": [],
   "source": [
    "curr_active_pipeline.display('_display_1d_placefields', 'maze1_any', included_unit_neuron_IDs=unimodal_only_aclus, sortby=[0, 1])"
   ]
  },
  {
   "cell_type": "markdown",
   "id": "0be99ada",
   "metadata": {},
   "source": [
    "## 2023-12-19\n",
    "\n",
    "5 epochs where we have a higher Z for short than we do for long"
   ]
  },
  {
   "cell_type": "code",
   "execution_count": null,
   "id": "f4773eff",
   "metadata": {},
   "outputs": [],
   "source": [
    "rank_order_results.ripple_combined_epoch_stats_df[rank_order_results.ripple_combined_epoch_stats_df.label == 148]"
   ]
  },
  {
   "cell_type": "code",
   "execution_count": null,
   "id": "d31a4527",
   "metadata": {},
   "outputs": [],
   "source": [
    "rank_order_results.LR_ripple.epochs_df[rank_order_results.LR_ripple.epochs_df.label == 148]\n",
    "# rank_order_results.ripple_combined_epoch_stats_df[rank_order_results.ripple_combined_epoch_stats_df.label == 148]"
   ]
  },
  {
   "cell_type": "code",
   "execution_count": null,
   "id": "592bdbf9",
   "metadata": {},
   "outputs": [],
   "source": [
    "rank_order_results.ripple_combined_epoch_stats_df[rank_order_results.ripple_combined_epoch_stats_df['LR_Short_spearman'].abs() > rank_order_results.ripple_combined_epoch_stats_df['LR_Long_spearman'].abs()]"
   ]
  },
  {
   "cell_type": "code",
   "execution_count": null,
   "id": "25c25c11",
   "metadata": {},
   "outputs": [],
   "source": [
    "rank_order_results.ripple_combined_epoch_stats_df[(rank_order_results.ripple_combined_epoch_stats_df['LR_Short_spearman_Z'].abs() > rank_order_results.ripple_combined_epoch_stats_df['LR_Long_spearman_Z'].abs()) & (rank_order_results.ripple_combined_epoch_stats_df['LR_Short_spearman_Z'].abs() > 1.98)]"
   ]
  },
  {
   "cell_type": "code",
   "execution_count": null,
   "id": "29413126",
   "metadata": {},
   "outputs": [],
   "source": [
    "## Get old LR_ripple/RL_ripple results\n",
    "LR_active_result: RankOrderResult = rank_order_results.LR_ripple\n",
    "LR_active_result_epochs = LR_active_result.epochs_df\n",
    "LR_active_result_epoch_labels = LR_active_result.epochs_df.label.to_numpy()\n",
    "LR_active_result_n_epochs = np.shape(LR_active_result.epochs_df)[0]\n",
    "LR_z_variable_shapes = [np.shape(x) for x in (LR_active_result.long_z_score, LR_active_result.short_z_score, LR_active_result.long_short_z_score_diff)]\n",
    "assert np.all([LR_active_result_n_epochs == s[0] for s in LR_z_variable_shapes]), f\"z-variable shapes should match the number of epochs\"\n",
    "\n",
    "\n",
    "RL_active_result: RankOrderResult = rank_order_results.RL_ripple\n",
    "RL_active_result_epochs = RL_active_result.epochs_df\n",
    "RL_active_result_epoch_labels = RL_active_result.epochs_df.label.to_numpy()\n",
    "print(f'active_result_epoch_labels: {RL_active_result_epoch_labels}')\n",
    "RL_active_result_n_epochs = np.shape(RL_active_result.epochs_df)[0]\n",
    "RL_z_variable_shapes = [np.shape(x) for x in (RL_active_result.long_z_score, RL_active_result.short_z_score, RL_active_result.long_short_z_score_diff)]\n",
    "print(f'RL_z_variable_shapes: {RL_z_variable_shapes}')\n",
    "assert np.all([RL_active_result_n_epochs == s[0] for s in RL_z_variable_shapes]), f\"z-variable shapes should match the number of epochs\"\n",
    "\n",
    "## LR and RL epoch labels must be equal to each other!\n",
    "assert (np.array_equal(rank_order_results.LR_ripple.epochs_df.label.to_numpy(), rank_order_results.RL_ripple.epochs_df.label.to_numpy())), f\"Epoch labels must be equal\"\n",
    "new_result_epochs_df = deepcopy(rank_order_results.LR_ripple.epochs_df)\n",
    "new_result_epochs_df.reset_index(drop=True)\n",
    "new_result_df = pd.DataFrame({\n",
    "'label': deepcopy(RL_active_result.epochs_df.label.to_numpy()),\n",
    "'LR_Long_Z': rank_order_results.LR_ripple.long_z_score, \n",
    "'LR_Short_Z': rank_order_results.LR_ripple.short_z_score,\n",
    "'LR_LongShort_Zdiff': rank_order_results.LR_ripple.long_short_z_score_diff,\n",
    "'RL_Long_Z': rank_order_results.RL_ripple.long_z_score, \n",
    "'RL_Short_Z': rank_order_results.RL_ripple.short_z_score,\n",
    "'RL_LongShort_Zdiff': rank_order_results.RL_ripple.long_short_z_score_diff,\n",
    " }, index=new_result_epochs_df.index).reset_index(drop=True)\n",
    "\n",
    "# new_result_epochs_df.update(new_result_df, errors='raise')\n",
    "# assert np.shape(new_result_epochs_df)[0] == np.shape(rank_order_results.LR_ripple.epochs_df)[0], f\"number of rows must not have changed\"\n",
    "# new_result_epochs_df\n",
    "new_result_df"
   ]
  },
  {
   "cell_type": "code",
   "execution_count": null,
   "id": "74529ce8",
   "metadata": {},
   "outputs": [],
   "source": [
    "interesting_labels = [4, 148]"
   ]
  },
  {
   "cell_type": "code",
   "execution_count": null,
   "id": "c2c61e59",
   "metadata": {},
   "outputs": [],
   "source": [
    "new_result_df[new_result_df.label == 4]"
   ]
  },
  {
   "cell_type": "code",
   "execution_count": null,
   "id": "81ca92bb",
   "metadata": {},
   "outputs": [],
   "source": [
    "new_result_df[new_result_df['LR_Long_Z'].abs() > 1.97]\n"
   ]
  },
  {
   "cell_type": "code",
   "execution_count": null,
   "id": "9686bdd9",
   "metadata": {},
   "outputs": [],
   "source": [
    "rank_order_results.ripple_combined_epoch_stats_df[rank_order_results.ripple_combined_epoch_stats_df.label == 4]"
   ]
  },
  {
   "cell_type": "markdown",
   "id": "2a8653a1",
   "metadata": {},
   "source": [
    "# 2023-12-19 - Transition Matricies Version"
   ]
  },
  {
   "cell_type": "code",
   "execution_count": null,
   "id": "9b25dbf2",
   "metadata": {},
   "outputs": [],
   "source": [
    "from PendingNotebookCode import TransitionMatrixComputations"
   ]
  },
  {
   "cell_type": "code",
   "execution_count": null,
   "id": "d769f017",
   "metadata": {},
   "outputs": [],
   "source": [
    "# pf1D = deepcopy(global_pf1D)\n",
    "# pf1D = deepcopy(short_pf1D)\n",
    "# pf1D = deepcopy(long_pf1D)\n",
    "\n",
    "\n",
    "decoders_dict = track_templates.get_decoders_dict()\n",
    "binned_x_transition_matrix_higher_order_list_dict = {}\n",
    "\n",
    "for a_decoder_name, a_decoder in decoders_dict.items():\n",
    "\ta_pf1D = deepcopy(a_decoder.pf)\n",
    "\tbinned_x_transition_matrix_higher_order_list_dict[a_decoder_name] = TransitionMatrixComputations._compute_position_transition_matrix(a_pf1D.xbin_labels, a_pf1D.filtered_pos_df['binned_x'].to_numpy())\n",
    "\n",
    "binned_x_transition_matrix_higher_order_list_dict"
   ]
  },
  {
   "cell_type": "code",
   "execution_count": null,
   "id": "afc8a8c4",
   "metadata": {},
   "outputs": [],
   "source": [
    "# a_decoder.dec\n",
    "\n",
    "long_LR_pf1D_Decoder.active_time_window_centers"
   ]
  },
  {
   "cell_type": "code",
   "execution_count": null,
   "id": "a54e7a68",
   "metadata": {},
   "outputs": [],
   "source": [
    "# Visualization ______________________________________________________________________________________________________ #\n",
    "from pyphoplacecellanalysis.GUI.PyQtPlot.BinnedImageRenderingWindow import BasicBinnedImageRenderingWindow, LayoutScrollability\n",
    "out = BasicBinnedImageRenderingWindow(binned_x_transition_matrix_higher_order_list[2], a_pf1D.xbin_labels, a_pf1D.xbin_labels, name='binned_x_transition_matrix', title=\"Transition Matrix for binned x (from, to)\", variable_label='Transition Matrix', scrollability_mode=LayoutScrollability.NON_SCROLLABLE)\n",
    "\n"
   ]
  },
  {
   "cell_type": "code",
   "execution_count": null,
   "id": "b34b39f9",
   "metadata": {},
   "outputs": [],
   "source": [
    "from scipy.sparse import csr_matrix\n",
    "\n",
    "rank_order_results.LR_laps.spikes_df"
   ]
  },
  {
   "cell_type": "code",
   "execution_count": null,
   "id": "8dd0aefd",
   "metadata": {},
   "outputs": [],
   "source": [
    "def _time_transition_matrix(df, bin_size=0.25): # \"0.25S\"\n",
    "\t# df[\"bin\"] = pd.cut(df[\"t_rel_seconds\"], bins=pd.timedelta_range(df[\"t_rel_seconds\"].min(), df[\"t_rel_seconds\"].max(), freq=bin_size))\n",
    "\t# df[\"bin\"] = pd.cut(\n",
    "\t# \tpd.to_timedelta(df[\"t_rel_seconds\"], unit=\"s\"),\n",
    "\t# \tbins=pd.timedelta_range(df[\"t_rel_seconds\"].min(), df[\"t_rel_seconds\"].max(), freq=bin_size),\n",
    "\t# )\n",
    "\tdef get_bin(seconds):\n",
    "\t\tbin_number = int(seconds // bin_size)\n",
    "\t\treturn bin_number\n",
    "\n",
    "\tdf[\"bin\"] = df[\"t_rel_seconds\"].apply(get_bin)\n",
    "\n",
    "\ttransition_matrix = csr_matrix((\n",
    "\t\tcounts, (i, j)\n",
    "\t) for i, (bin, group) in df.groupby([\"bin\", \"aclu\"]).agg(counts=(\"aclu\", \"count\")).iterrows()\n",
    "\t\tfor j, counts in group.iteritems()\n",
    "\t)\n",
    "\ttransition_matrix /= transition_matrix.sum(axis=1, keepdims=True)\n",
    "\n",
    "\treturn transition_matrix\n",
    "\n",
    "\n",
    "test_spikes_df = deepcopy(rank_order_results.LR_laps.spikes_df)\n",
    "\n",
    "test_spikes_df = test_spikes_df.spikes.add_binned_time_column()\n",
    "\n",
    "# [['t_rel_seconds', 'aclu', 'flat_spike_idx', 'Probe_Epoch_id']]]\n",
    "\n",
    "\n",
    "test_spikes_df\n"
   ]
  },
  {
   "cell_type": "code",
   "execution_count": null,
   "id": "018e0286",
   "metadata": {},
   "outputs": [],
   "source": [
    "transition_matrix = _time_transition_matrix(df=test_spikes_df) #  bin_size=\"0.25S\"\n",
    "transition_matrix"
   ]
  },
  {
   "cell_type": "code",
   "execution_count": null,
   "id": "63242f8a",
   "metadata": {},
   "outputs": [],
   "source": [
    "long_LR_pf1D_Decoder.time_window_centers\n",
    "# long_LR_pf1D_Decoder.decode_specific_epochs\n",
    "long_LR_pf1D_Decoder.p_x_given_n\n",
    "\n",
    "# time_bin_size = 0.25\n",
    "time_bin_size = 0.1\n",
    "manual_time_bin_start_t = curr_active_pipeline.sess.t_start\n",
    "manual_time_bin_end_t = curr_active_pipeline.sess.t_stop\n",
    "\n",
    "print(f'time_bin_size: {time_bin_size}, manual_time_bins: (start_t: {manual_time_bin_start_t}, end_t: {manual_time_bin_end_t})')\n",
    "manual_time_window_edges, manual_time_window_edges_binning_info = compute_spanning_bins(None, bin_size=time_bin_size, variable_start_value=manual_time_bin_start_t, variable_end_value=manual_time_bin_end_t) # np.shape(out_digitized_variable_bins)[0] == np.shape(spikes_df)[0]\n",
    "# debug_print_1D_bin_infos(manual_time_window_edges, 'manual_time_window_edges')\n",
    "\n",
    "## Build the new decoder with custom params:\n",
    "new_decoder_pf_params = deepcopy(active_computation_config.pf_params) # should be a PlacefieldComputationParameters\n",
    "# override some settings before computation:\n",
    "new_decoder_pf_params.time_bin_size = time_bin_size\n",
    "\n",
    "## 1D Decoder\n",
    "new_decoder_pf1D = active_pf_1D\n",
    "new_1D_decoder_spikes_df = new_decoder_pf1D.filtered_spikes_df.copy()\n",
    "new_1D_decoder_spikes_df = new_1D_decoder_spikes_df.spikes.add_binned_time_column(manual_time_window_edges, manual_time_window_edges_binning_info, debug_print=False)\n",
    "new_1D_decoder = BayesianPlacemapPositionDecoder(new_decoder_pf_params.time_bin_size, new_decoder_pf1D, new_1D_decoder_spikes_df, manual_time_window_edges=manual_time_window_edges, manual_time_window_edges_binning_info=manual_time_window_edges_binning_info, debug_print=False)\n",
    "new_1D_decoder.compute_all() #  --> n = self.\n"
   ]
  },
  {
   "cell_type": "code",
   "execution_count": null,
   "id": "71d17566",
   "metadata": {},
   "outputs": [],
   "source": [
    "long_LR_pf1D_Decoder.unit_specific_time_binned_spike_counts.shape"
   ]
  },
  {
   "cell_type": "markdown",
   "id": "05936088",
   "metadata": {},
   "source": [
    "# 2023-12-21 - Inversion Count Concept"
   ]
  },
  {
   "cell_type": "code",
   "execution_count": null,
   "id": "aa459b0e",
   "metadata": {},
   "outputs": [],
   "source": [
    "from PendingNotebookCode import InversionCount\n",
    "\n",
    "# Example usage\n",
    "# list1 = [3, 1, 5, 2, 4]\n",
    "list1 = [1, 2, 4, 3, 5] # 1\n",
    "list1 = [1, 3, 4, 5, 2] # 3\n",
    "num_swaps = InversionCount.count_swaps_to_sort(list1)\n",
    "print(\"Number of swaps required:\", num_swaps)\n"
   ]
  },
  {
   "cell_type": "code",
   "execution_count": null,
   "id": "35dc3d75",
   "metadata": {},
   "outputs": [],
   "source": [
    "original_list = [...]  # Your list of items\n",
    "sorted_list = sorted(original_list)\n",
    "\n",
    "# Count the number of swaps needed to sort the list\n",
    "swaps_needed = sum(1 for i, j in zip(original_list, sorted_list) if i != j)\n"
   ]
  },
  {
   "cell_type": "code",
   "execution_count": null,
   "id": "73ea2127",
   "metadata": {},
   "outputs": [],
   "source": [
    "shuffled_results_output_dict"
   ]
  },
  {
   "cell_type": "code",
   "execution_count": null,
   "id": "5e8b6473",
   "metadata": {},
   "outputs": [],
   "source": []
  },
  {
   "cell_type": "markdown",
   "id": "54aa4837",
   "metadata": {},
   "source": [
    "# ❇️🆕 READY/NEXT: 2023-11-10 - All directional pf1D works for merging all four 1D templates!!"
   ]
  },
  {
   "cell_type": "code",
   "execution_count": 12,
   "id": "76086ac5",
   "metadata": {
    "notebookRunGroups": {
     "groupValue": "31"
    }
   },
   "outputs": [],
   "source": [
    "from neuropy.analyses.placefields import PfND\n",
    "from pyphoplacecellanalysis.Analysis.Decoder.reconstruction import BasePositionDecoder\n",
    "from neuropy.utils.mixins.time_slicing import TimeColumnAliasesProtocol\n",
    "from pyphoplacecellanalysis.Analysis.Decoder.reconstruction import DecodedFilterEpochsResult\n",
    "from pyphoplacecellanalysis.General.Pipeline.Stages.ComputationFunctions.MultiContextComputationFunctions.DirectionalPlacefieldGlobalComputationFunctions import DirectionalMergedDecodersResult\n"
   ]
  },
  {
   "cell_type": "code",
   "execution_count": null,
   "id": "84a6af1f",
   "metadata": {},
   "outputs": [],
   "source": [
    "\n",
    "\"\"\" \n",
    "1. Builds a combined pseudo-2D decoder out of the four 1D directional decoders.\n",
    "\ty-bins (centers) of the pseduo-decoder are: {'long_LR': 0, 'long_RL': 1, 'short_LR': 2, 'short_RL': 3}\n",
    "\n",
    "2. \n",
    "\"\"\"\n",
    "\n",
    "# Use the four epochs to make to a pseudo-y:\n",
    "all_directional_decoder_names = ['long_LR', 'long_RL', 'short_LR', 'short_RL']\n",
    "all_directional_decoder_dict = dict(zip(all_directional_decoder_names, [deepcopy(long_LR_pf1D), deepcopy(long_RL_pf1D), deepcopy(short_LR_pf1D), deepcopy(short_RL_pf1D)]))\n",
    "all_directional_pf1D = PfND.build_merged_directional_placefields(all_directional_decoder_dict, debug_print=False)\n",
    "all_directional_pf1D_Decoder = BasePositionDecoder(all_directional_pf1D, setup_on_init=True, post_load_on_init=True, debug_print=False)\n",
    "\n",
    "## Combine the non-directional PDFs and renormalize to get the directional PDF:\n",
    "# Inputs: long_LR_pf1D, long_RL_pf1D\n",
    "long_directional_decoder_names = ['long_LR', 'long_RL']\n",
    "long_directional_decoder_dict = dict(zip(long_directional_decoder_names, [deepcopy(long_LR_pf1D), deepcopy(long_RL_pf1D)]))\n",
    "long_directional_pf1D = PfND.build_merged_directional_placefields(long_directional_decoder_dict, debug_print=False)\n",
    "long_directional_pf1D_Decoder = BasePositionDecoder(long_directional_pf1D, setup_on_init=True, post_load_on_init=True, debug_print=False)\n",
    "\n",
    "# Inputs: short_LR_pf1D, short_RL_pf1D\n",
    "short_directional_decoder_names = ['short_LR', 'short_RL']\n",
    "short_directional_decoder_dict = dict(zip(short_directional_decoder_names, [deepcopy(short_LR_pf1D), deepcopy(short_RL_pf1D)]))\n",
    "short_directional_pf1D = PfND.build_merged_directional_placefields(short_directional_decoder_dict, debug_print=False)\n",
    "short_directional_pf1D_Decoder = BasePositionDecoder(short_directional_pf1D, setup_on_init=True, post_load_on_init=True, debug_print=False)\n",
    "# takes 6.3 seconds"
   ]
  },
  {
   "cell_type": "code",
   "execution_count": null,
   "id": "895b0e02",
   "metadata": {
    "notebookRunGroups": {
     "groupValue": "3"
    }
   },
   "outputs": [],
   "source": [
    "curr_active_pipeline.reload_default_computation_functions()\n",
    "# curr_active_pipeline.perform_specific_computation(\n",
    "\n",
    "from pyphoplacecellanalysis.General.Batch.NonInteractiveProcessing import batch_extended_computations\n",
    "\n",
    "batch_extended_computations(curr_active_pipeline, include_includelist=['merged_directional_placefields'], include_global_functions=True, fail_on_exception=True, force_recompute=True, force_rem)\n",
    "# ## Get the result after computation:\n",
    "# directional_merged_decoders_result = curr_active_pipeline.global_computation_results.computed_data['DirectionalMergedDecoders']\n",
    "# laps_directional_marginals, laps_directional_all_epoch_bins_marginal, laps_most_likely_direction_from_decoder, laps_is_most_likely_direction_LR_dir  = directional_merged_decoders_result.laps_directional_marginals_tuple\n",
    "# laps_track_identity_marginals, laps_track_identity_all_epoch_bins_marginal, laps_most_likely_track_identity_from_decoder, laps_is_most_likely_track_identity_Long = directional_merged_decoders_result.laps_track_identity_marginals_tuple\n",
    "# ripple_directional_marginals, ripple_directional_all_epoch_bins_marginal, ripple_most_likely_direction_from_decoder, ripple_is_most_likely_direction_LR_dir  = directional_merged_decoders_result.ripple_directional_marginals_tuple\n",
    "# ripple_track_identity_marginals, ripple_track_identity_all_epoch_bins_marginal, ripple_most_likely_track_identity_from_decoder, ripple_is_most_likely_track_identity_Long = directional_merged_decoders_result.ripple_track_identity_marginals_tuple\n",
    "\t\n"
   ]
  },
  {
   "cell_type": "code",
   "execution_count": 13,
   "id": "0ac7fcab",
   "metadata": {
    "notebookRunGroups": {
     "groupValue": "31"
    }
   },
   "outputs": [
    {
     "data": {
      "text/plain": [
       "((        P_LR      P_RL    P_Long   P_Short  lap_idx  lap_start_t\n",
       "  0   0.407431  0.592569  0.515200  0.484800        0    36.559134\n",
       "  1   0.619211  0.380789  0.469827  0.530173        1    85.804912\n",
       "  2   0.519518  0.480482  0.747540  0.252460        2   111.466570\n",
       "  3   0.532311  0.467689  0.740956  0.259044        3   145.699247\n",
       "  4   0.380348  0.619652  0.754087  0.245913        4   186.279645\n",
       "  5   0.312972  0.687028  0.751992  0.248008        5   231.757208\n",
       "  ..       ...       ...       ...       ...      ...          ...\n",
       "  66  0.304188  0.695812  0.353408  0.646592       66  2719.594540\n",
       "  67  0.760802  0.239198  0.315724  0.684276       67  2738.113743\n",
       "  68  0.307156  0.692844  0.364488  0.635512       68  2753.285589\n",
       "  69  0.716291  0.283709  0.310090  0.689910       69  2819.695921\n",
       "  70  0.277511  0.722489  0.481537  0.518463       70  2954.956430\n",
       "  71  0.704852  0.295148  0.302852  0.697148       71  3003.237550\n",
       "  \n",
       "  [72 rows x 6 columns],\n",
       "  WindowsPath('C:/Users/pho/repos/Spike3DWorkEnv/Spike3D/output/collected_outputs/2024-01-12_0420PM-kdiba_pin01_one_fet11-01_12-58-54-(laps_marginals_df).csv')),\n",
       " (         P_LR      P_RL    P_Long   P_Short  ripple_idx  ripple_start_t\n",
       "  0    0.528612  0.471388  0.514902  0.485098           0        1.489151\n",
       "  1    0.464195  0.535805  0.543658  0.456342           1        3.490896\n",
       "  2    0.481569  0.518431  0.518655  0.481345           2       12.982910\n",
       "  3    0.443811  0.556189  0.509274  0.490726           3       46.106580\n",
       "  4    0.398592  0.601408  0.626112  0.373888           4       53.350137\n",
       "  5    0.475941  0.524059  0.577551  0.422449           5       64.187502\n",
       "  ..        ...       ...       ...       ...         ...             ...\n",
       "  759  0.444941  0.555059  0.406527  0.593473         759     3001.558148\n",
       "  760  0.525027  0.474973  0.454987  0.545013         760     3002.376713\n",
       "  761  0.528805  0.471195  0.505928  0.494072         761     3014.881651\n",
       "  762  0.536979  0.463021  0.510118  0.489882         762     3015.760120\n",
       "  763  0.585345  0.414655  0.479505  0.520495         763     3016.796274\n",
       "  764  0.605520  0.394480  0.501725  0.498275         764     3018.429195\n",
       "  \n",
       "  [765 rows x 6 columns],\n",
       "  WindowsPath('C:/Users/pho/repos/Spike3DWorkEnv/Spike3D/output/collected_outputs/2024-01-12_0420PM-kdiba_pin01_one_fet11-01_12-58-54-(ripple_marginals_df).csv')))"
      ]
     },
     "execution_count": 13,
     "metadata": {},
     "output_type": "execute_result"
    }
   ],
   "source": [
    "active_context = curr_active_pipeline.get_session_context()\n",
    "\n",
    "collected_output_path = Path('output/collected_outputs').resolve()\n",
    "collected_output_path.mkdir(exist_ok=True)\n",
    "\n",
    "_out = directional_merged_decoders_result.compute_and_export_marginals_df_csvs(parent_output_path=collected_output_path, active_context=active_context)\n",
    "_out"
   ]
  },
  {
   "cell_type": "code",
   "execution_count": null,
   "id": "7f780ebc",
   "metadata": {},
   "outputs": [],
   "source": [
    "from pyphoplacecellanalysis.General.Pipeline.Stages.ComputationFunctions.MultiContextComputationFunctions.DirectionalPlacefieldGlobalComputationFunctions import plot_all_epoch_bins_marginal_predictions\n",
    "\n",
    "_restore_previous_matplotlib_settings_callback = matplotlib_configuration_update(is_interactive=True, backend='Qt5Agg')\n",
    "global_epoch = curr_active_pipeline.filtered_epochs[global_epoch_name]\n",
    "t_start, t_end = global_epoch.start_end_times\n",
    "short_epoch = curr_active_pipeline.filtered_epochs[short_epoch_name]\n",
    "split_time_t: float = short_epoch.t_start\n",
    "active_context = curr_active_pipeline.sess.get_context()\n",
    "\n",
    "## Get the result after computation:\n",
    "directional_merged_decoders_result = curr_active_pipeline.global_computation_results.computed_data['DirectionalMergedDecoders']\n",
    "\n",
    "collector = plot_all_epoch_bins_marginal_predictions(directional_merged_decoders_result, t_start=t_start, t_split=split_time_t, t_end=t_end, active_context=active_context, perform_write_to_file_callback=None)\n"
   ]
  },
  {
   "cell_type": "code",
   "execution_count": null,
   "id": "223159f0",
   "metadata": {},
   "outputs": [],
   "source": [
    "_display_directional_track_template_pf1Ds\n",
    "\n",
    "_display_directional_merged_pfs"
   ]
  },
  {
   "cell_type": "code",
   "execution_count": null,
   "id": "325fb1f2",
   "metadata": {},
   "outputs": [],
   "source": [
    "from pyphoplacecellanalysis.General.Pipeline.Stages.ComputationFunctions.MultiContextComputationFunctions.DirectionalPlacefieldGlobalComputationFunctions import DirectionalMergedDecodersResult\n",
    "\n",
    "# Fully unpack the `'DirectionalMergedDecoders'` result:\n",
    "directional_merged_decoders_result = curr_active_pipeline.global_computation_results.computed_data['DirectionalMergedDecoders']\n",
    "# directional_merged_decoders_result.all_directional_laps_filter_epochs_decoder_result\n",
    "# directional_merged_decoders_result.all_directional_pf1D_Decoder\n",
    "# directional_merged_decoders_result.all_directional_ripple_filter_epochs_decoder_result\n",
    "\n",
    "\n",
    "laps_epochs_df = deepcopy(directional_merged_decoders_result.all_directional_laps_filter_epochs_decoder_result.filter_epochs).to_dataframe()\n",
    "laps_directional_marginals_tuple = DirectionalMergedDecodersResult.determine_directional_likelihoods(directional_merged_decoders_result.all_directional_laps_filter_epochs_decoder_result)\n",
    "laps_directional_marginals, laps_directional_all_epoch_bins_marginal, laps_most_likely_direction_from_decoder, laps_is_most_likely_direction_LR_dir  = laps_directional_marginals_tuple\n",
    "laps_track_identity_marginals = DirectionalMergedDecodersResult.determine_long_short_likelihoods(directional_merged_decoders_result.all_directional_laps_filter_epochs_decoder_result)\n",
    "track_identity_marginals, track_identity_all_epoch_bins_marginal, most_likely_track_identity_from_decoder, is_most_likely_track_identity_Long = laps_track_identity_marginals\n",
    "\n",
    "## Decode Ripples:\n",
    "ripple_epochs_df = deepcopy(directional_merged_decoders_result.all_directional_ripple_filter_epochs_decoder_result.filter_epochs)\n",
    "all_directional_ripple_filter_epochs_decoder_result: DecodedFilterEpochsResult = directional_merged_decoders_result.all_directional_ripple_filter_epochs_decoder_result\n",
    "ripple_marginals = DirectionalMergedDecodersResult.determine_directional_likelihoods(all_directional_ripple_filter_epochs_decoder_result)\n",
    "ripple_directional_marginals, ripple_directional_all_epoch_bins_marginal, ripple_most_likely_direction_from_decoder, ripple_is_most_likely_direction_LR_dir  = ripple_marginals\n",
    "ripple_track_identity_marginals = DirectionalMergedDecodersResult.determine_long_short_likelihoods(all_directional_ripple_filter_epochs_decoder_result)\n",
    "ripple_track_identity_marginals, ripple_track_identity_all_epoch_bins_marginal, ripple_most_likely_track_identity_from_decoder, ripple_is_most_likely_track_identity_Long = ripple_track_identity_marginals\n",
    "\n",
    "# directional_merged_decoders_result.all_directional_laps_filter_epochs_decoder_result\n",
    "\n",
    "directional_merged_decoders_result.all_directional_laps_filter_epochs_decoder_result\n",
    "\n",
    "\n",
    "# ripple_marginals = DirectionalMergedDecodersResult.determine_directional_likelihoods(directional_merged_decoders_result.all_directional_ripple_filter_epochs_decoder_result)\n",
    "# ripple_directional_marginals, ripple_directional_all_epoch_bins_marginal, ripple_most_likely_direction_from_decoder, ripple_is_most_likely_direction_LR_dir  = ripple_marginals\n",
    "\n",
    "type(ripple_marginals)\n",
    "type(ripple_track_identity_marginals)"
   ]
  },
  {
   "cell_type": "code",
   "execution_count": null,
   "id": "2b392fb4",
   "metadata": {},
   "outputs": [],
   "source": [
    "laps_directional_marginals"
   ]
  },
  {
   "cell_type": "code",
   "execution_count": null,
   "id": "cf9c7178",
   "metadata": {},
   "outputs": [],
   "source": [
    "ripple_marginals"
   ]
  },
  {
   "cell_type": "code",
   "execution_count": null,
   "id": "edaae3ad",
   "metadata": {},
   "outputs": [],
   "source": [
    "curr_active_pipeline.reload_default_display_functions()"
   ]
  },
  {
   "cell_type": "code",
   "execution_count": null,
   "id": "583b6bc9",
   "metadata": {},
   "outputs": [],
   "source": [
    "laps_all_epoch_bins_marginals_df = directional_merged_decoders_result.laps_all_epoch_bins_marginals_df\n",
    "ripple_all_epoch_bins_marginals_df = directional_merged_decoders_result.ripple_all_epoch_bins_marginals_df"
   ]
  },
  {
   "cell_type": "code",
   "execution_count": null,
   "id": "71baf530",
   "metadata": {},
   "outputs": [],
   "source": [
    "# Interactive-mode parameters:\n",
    "_interactive_mode_kwargs = dict(should_use_MatplotlibTimeSynchronizedWidget=True, scrollable_figure=True, defer_render=False)\n",
    "_restore_previous_matplotlib_settings_callback = matplotlib_configuration_update(is_interactive=True, backend='Qt5Agg')\n",
    "_curr_interaction_mode_kwargs = _interactive_mode_kwargs # interactive mode"
   ]
  },
  {
   "cell_type": "code",
   "execution_count": null,
   "id": "cbc756e7",
   "metadata": {},
   "outputs": [],
   "source": [
    "# Non-interactive:\n",
    "_non_interactive_mode_kwargs = dict(should_use_MatplotlibTimeSynchronizedWidget=False, scrollable_figure=False, defer_render=True)\n",
    "_restore_previous_matplotlib_settings_callback = matplotlib_configuration_update(is_interactive=False, backend='AGG')\n",
    "_curr_interaction_mode_kwargs = _non_interactive_mode_kwargs # non-interactive mode"
   ]
  },
  {
   "cell_type": "code",
   "execution_count": null,
   "id": "a729bc28",
   "metadata": {},
   "outputs": [],
   "source": [
    "_out = curr_active_pipeline.display('_display_directional_merged_pf_decoded_epochs', curr_active_pipeline.get_session_context(),\n",
    "\tmax_num_lap_epochs = 240, max_num_ripple_epochs = 500,\n",
    "\trender_directional_marginal_laps=True, render_directional_marginal_ripples=True, render_track_identity_marginal_laps=True, render_track_identity_marginal_ripples=True,\n",
    "\t# render_directional_marginal_laps=True, render_directional_marginal_ripples=False, render_track_identity_marginal_laps=False, render_track_identity_marginal_ripples=False,\n",
    "\t# constrained_layout=True, # layout='none',\n",
    "\t# build_fn='basic_view', constrained_layout=True, \n",
    "\tbuild_fn='insets_view', constrained_layout=True, #constrained_layout=None, layout='none', # , constrained_layout=False constrained_layout=None, layout='none', # , constrained_layout=None, layout='none' extrodinarily fast\n",
    "\t**_curr_interaction_mode_kwargs, # interactive mode\n",
    "    skip_plotting_measured_positions=True, skip_plotting_most_likely_positions=True, save_figure=True)\n",
    "collector = _out['collector']"
   ]
  },
  {
   "cell_type": "code",
   "execution_count": null,
   "id": "880ed671",
   "metadata": {},
   "outputs": [],
   "source": [
    "# with VizTracer(output_file=f\"viztracer_{get_now_time_str()}-display_dir_merged_pf_decoded_epochs.json\", min_duration=200, tracer_entries=3000000, ignore_frozen=True) as tracer:\n",
    "# Here\n",
    "_out = curr_active_pipeline.display('_display_directional_merged_pf_decoded_epochs', max_num_lap_epochs = 85, max_num_ripple_epochs = 120,\n",
    "\t# render_directional_marginal_laps=True, render_directional_marginal_ripples=True, render_track_identity_marginal_laps=True, render_track_identity_marginal_ripples=True,\n",
    "\trender_directional_marginal_laps=True, render_directional_marginal_ripples=False, render_track_identity_marginal_laps=False, render_track_identity_marginal_ripples=False,\n",
    "\t# constrained_layout=True, # layout='none',\n",
    " \t# build_fn='basic_view', constrained_layout=True,\n",
    "\tbuild_fn='insets_view', constrained_layout=False, # constrained_layout=None, layout='none', # , constrained_layout=None, layout='none' extrodinarily fast\n",
    "\t**_curr_interaction_mode_kwargs, # interactive mode\n",
    "\tskip_plotting_measured_positions=True, skip_plotting_most_likely_positions=True, save_figure=True) # , size=(5,12), dpi=96 size=(15,7), dpi=72, constrained_layout=True\n",
    "collector = _out['collector']\n"
   ]
  },
  {
   "cell_type": "code",
   "execution_count": null,
   "id": "e21b6cb2",
   "metadata": {},
   "outputs": [],
   "source": [
    "(num=plots.figure_id, ncols=1, nrows=1, dpi=dpi, clear=True, sharex=False, sharey=False, constrained_layout=constrained_layout, frameon=False)"
   ]
  },
  {
   "cell_type": "code",
   "execution_count": null,
   "id": "8814f465",
   "metadata": {},
   "outputs": [],
   "source": [
    "collector = _out['collector']\n",
    "laps_plot_tuple = _out['directional_laps_plot_tuple']\n",
    "params, plots_data, plots, ui = laps_plot_tuple\n",
    "# mw = ui.mw"
   ]
  },
  {
   "cell_type": "code",
   "execution_count": null,
   "id": "00ae74df",
   "metadata": {},
   "outputs": [],
   "source": [
    "params.get('skip_plotting_most_likely_positions', False)"
   ]
  },
  {
   "cell_type": "code",
   "execution_count": null,
   "id": "0e218368",
   "metadata": {},
   "outputs": [],
   "source": [
    "collector.figures"
   ]
  },
  {
   "cell_type": "code",
   "execution_count": null,
   "id": "1338c5c0",
   "metadata": {},
   "outputs": [],
   "source": [
    "import matplotlib as mpl\n",
    "import matplotlib.pyplot as plt\n",
    "# import seaborn as sns\n",
    "from flexitext import flexitext ## flexitext for formatted matplotlib text\n",
    "\n",
    "from pyphocorehelpers.DataStructure.RenderPlots.MatplotLibRenderPlots import FigureCollector\n",
    "from pyphoplacecellanalysis.General.Model.Configs.LongShortDisplayConfig import PlottingHelpers\n",
    "from neuropy.utils.matplotlib_helpers import FormattedFigureText\n",
    "\n",
    "fig = mw.getFigure()\n",
    "sub_context = collector.contexts[0]\n",
    "\n",
    "\n",
    "# Recover the proper title:\n",
    "title = mw.params.name\n",
    "\n",
    "# `flexitext` version:\n",
    "text_formatter = FormattedFigureText()\n",
    "fig.suptitle('')\n",
    "text_formatter.setup_margins(fig) # , top_margin=0.740\n",
    "title_text_obj = flexitext(text_formatter.left_margin, text_formatter.top_margin, title, va=\"bottom\", xycoords=\"figure fraction\")\n",
    "footer_text_obj = flexitext((text_formatter.left_margin * 0.1), (text_formatter.bottom_margin * 0.25),\n",
    "\t\t\t\t\t\t\ttext_formatter._build_footer_string(active_context=sub_context),\n",
    "\t\t\t\t\t\t\tva=\"top\", xycoords=\"figure fraction\")"
   ]
  },
  {
   "cell_type": "code",
   "execution_count": null,
   "id": "6829fe6c",
   "metadata": {},
   "outputs": [],
   "source": [
    "active_display_context = curr_active_pipeline.build_display_context_for_session('directional_merged_pf_decoded_epochs')\n",
    "active_display_context"
   ]
  },
  {
   "cell_type": "code",
   "execution_count": null,
   "id": "a7280e86",
   "metadata": {},
   "outputs": [],
   "source": [
    "# _main_context = [{'decoded_epochs': 'Laps', 'Marginal': 'Direction'}, {'decoded_epochs': 'Laps', 'Marginal': 'Direction'}, {'decoded_epochs': 'Laps', 'Marginal': 'Direction'}, {'decoded_epochs': 'Laps', 'Marginal': 'Direction'}]\n",
    "\n",
    "# Safe seperator characters\n",
    "safe_seperators_list = ['-','.','_'] # for dates I frequently use '2006-6-09_1-22-43' format, meaning both dashes and underscores are ruled out as info separators\n",
    "\n",
    "\n",
    "'_'.join(['Laps', 'Direction'])\n"
   ]
  },
  {
   "cell_type": "code",
   "execution_count": null,
   "id": "09d43925",
   "metadata": {},
   "outputs": [],
   "source": [
    "\n",
    "_params_kwargs = {'t_bin_size': directional_merged_decoders_result.laps_decoding_time_bin_size} # Parameters:\n",
    "\n",
    "_merged_context = _main_context | _params_kwargs\n",
    "_merged_context\n",
    "\n",
    "# {'decoded_epochs': 'Laps', 'Marginal': 'Direction', 't_bin_size': 0.075}\n",
    "\n"
   ]
  },
  {
   "cell_type": "code",
   "execution_count": null,
   "id": "c4b4ca02",
   "metadata": {},
   "outputs": [],
   "source": [
    "ripple_filter_epochs_decoder_result = directional_merged_decoders_result.all_directional_ripple_filter_epochs_decoder_result\n",
    "ripple_decoding_time_bin_size: float = directional_merged_decoders_result.ripple_decoding_time_bin_size\n",
    "ripple_decoding_time_bin_size\n",
    "laps_decoding_time_bin_size: float = directional_merged_decoders_result.laps_decoding_time_bin_size\n",
    "laps_decoding_time_bin_size\n"
   ]
  },
  {
   "cell_type": "markdown",
   "id": "afaffae7",
   "metadata": {},
   "source": [
    "# 2024-01-06 - Decoded Epoch Posterior Marginal Figures outputs:\n"
   ]
  },
  {
   "cell_type": "markdown",
   "id": "95b94d27",
   "metadata": {},
   "source": [
    "### `BatchPhoJonathanFiguresHelper._perform_batch_plot` approach"
   ]
  },
  {
   "cell_type": "code",
   "execution_count": null,
   "id": "d3473b1b",
   "metadata": {},
   "outputs": [],
   "source": [
    "\n",
    "# From `pyphoplacecellanalysis.General.Batch.NonInteractiveProcessing.BatchPhoJonathanFiguresHelper._perform_batch_plot`\n",
    "fig_man = curr_active_pipeline.get_output_manager()\n",
    "\n",
    "active_out_figures_dict = {} # empty dict to hold figures\n",
    "num_pages = len(active_kwarg_list)\n",
    "\n",
    "# Each figure:\n",
    "for i, curr_batch_plot_kwargs in enumerate(active_kwarg_list):\n",
    "\tcurr_active_identifying_ctx = curr_batch_plot_kwargs['active_identifying_ctx'] # this context is good\n",
    "\t\n",
    "\t## 2023-06-14 - New way using `fig_man.get_figure_save_file_path(...)` - this is correct\n",
    "\tfinal_figure_file_path = fig_man.get_figure_save_file_path(curr_active_identifying_ctx, make_folder_if_needed=True) # complete file path without extension: e.g. '/ProgrammaticDisplayFunctionTesting/2023-06-15/kdiba_pin01_one_11-03_12-3-25_BatchPhoJonathanReplayFRC_short_only_[13, 22, 28]'\n",
    "\n",
    "\t# Perform the plotting:\n",
    "\ta_fig = cls._subfn_batch_plot_automated(curr_active_pipeline, **curr_batch_plot_kwargs)\n",
    "\tactive_out_figures_dict[curr_active_identifying_ctx] = a_fig\n",
    "\n",
    "\t# One plot at a time to PDF:\n",
    "\tif write_vector_format:\n",
    "\t\tactive_pdf_metadata, _UNUSED_pdf_save_filename = build_pdf_metadata_from_display_context(curr_active_identifying_ctx, subset_includelist=subset_includelist, subset_excludelist=subset_excludelist)\n",
    "\t\tcurr_pdf_save_path = final_figure_file_path.with_suffix('.pdf')\n",
    "\t\twith backend_pdf.PdfPages(curr_pdf_save_path, keep_empty=False, metadata=active_pdf_metadata) as pdf:\n",
    "\t\t\t# Save out PDF page:\n",
    "\t\t\tpdf.savefig(a_fig)\n",
    "\t\t\tcurr_active_pipeline.register_output_file(output_path=curr_pdf_save_path, output_metadata={'context': curr_active_identifying_ctx, 'fig': (a_fig), 'pdf_metadata': active_pdf_metadata})\n",
    "\t\t\tif progress_print:\n",
    "\t\t\t\tprint(f'\\t saved {curr_pdf_save_path}')\n",
    "\n",
    "\n",
    "\t# Also save .png versions:\n",
    "\tif write_png:\n",
    "\t\t# curr_page_str = f'pg{i+1}of{num_pages}'\n",
    "\t\tfig_png_out_path = final_figure_file_path.with_suffix('.png')\n",
    "\t\t# fig_png_out_path = fig_png_out_path.with_stem(f'{curr_pdf_save_path.stem}_{curr_page_str}') # note this replaces the current .pdf extension with .png, resulting in a good filename for a .png\n",
    "\t\ta_fig.savefig(fig_png_out_path)\n",
    "\t\tcurr_active_pipeline.register_output_file(output_path=fig_png_out_path, output_metadata={'context': curr_active_identifying_ctx, 'fig': (a_fig)})\n",
    "\t\tif progress_print:\n",
    "\t\t\tprint(f'\\t saved {fig_png_out_path}')\n",
    "\n",
    "\n",
    "return active_out_figures_dict"
   ]
  },
  {
   "cell_type": "markdown",
   "id": "7f23f62b",
   "metadata": {},
   "source": [
    "### `FigureCollector`-based approach"
   ]
  },
  {
   "cell_type": "code",
   "execution_count": null,
   "id": "fa607283",
   "metadata": {},
   "outputs": [],
   "source": [
    "from pyphocorehelpers.DataStructure.RenderPlots.MatplotLibRenderPlots import FigureCollector\n",
    "\n",
    "if active_context is not None:\n",
    "\tdisplay_context = active_context.adding_context('display_fn', display_fn_name='plot_quantile_diffs')\n",
    "\t\n",
    "with mpl.rc_context({'figure.figsize': (12.4, 4.8), 'figure.dpi': '220', 'savefig.transparent': True, 'ps.fonttype': 42, }):\n",
    "\t# Create a FigureCollector instance\n",
    "\twith FigureCollector(name='plot_quantile_diffs', base_context=display_context) as collector:\n",
    "\n",
    "\t\t## Define common operations to do after making the figure:\n",
    "\t\tdef setup_common_after_creation(a_collector, fig, axes, sub_context, title=f'<size:22> Sig. (>0.95) <weight:bold>Best</> <weight:bold>Quantile Diff</></>'):\n",
    "\t\t\t\"\"\" Captures:\n",
    "\n",
    "\t\t\tt_split\n",
    "\t\t\t\"\"\"\n",
    "\t\t\ta_collector.contexts.append(sub_context)\n",
    "\t\t\t\n",
    "\t\t\t# Add epoch indicators\n",
    "\t\t\tfor ax in (axes if isinstance(axes, Iterable) else [axes]):\n",
    "\t\t\t\tPlottingHelpers.helper_matplotlib_add_long_short_epoch_indicator_regions(ax=ax, t_split=t_split)\n",
    "\t\t\t\t\n",
    "\t\t\t\t# `flexitext` version:\n",
    "\t\t\t\ttext_formatter = FormattedFigureText()\n",
    "\t\t\t\tax.set_title('')\n",
    "\t\t\t\tfig.suptitle('')\n",
    "\t\t\t\ttext_formatter.setup_margins(fig)\n",
    "\t\t\t\ttitle_text_obj = flexitext(text_formatter.left_margin, text_formatter.top_margin,\n",
    "\t\t\t\t\t\t\t\t\t\ttitle,\n",
    "\t\t\t\t\t\t\t\t\t\tva=\"bottom\", xycoords=\"figure fraction\")\n",
    "\t\t\t\tfooter_text_obj = flexitext((text_formatter.left_margin * 0.1), (text_formatter.bottom_margin * 0.25),\n",
    "\t\t\t\t\t\t\t\t\t\t\ttext_formatter._build_footer_string(active_context=sub_context),\n",
    "\t\t\t\t\t\t\t\t\t\t\tva=\"top\", xycoords=\"figure fraction\")\n",
    "\t\t\n",
    "\t\t\tif ((perform_write_to_file_callback is not None) and (sub_context is not None)):\n",
    "\t\t\t\tperform_write_to_file_callback(sub_context, fig)\n",
    "\t\t\t\n",
    "\n",
    "\t\t# Plot for BestDir\n",
    "\t\tfig, ax = collector.subplots(num='LongShort_BestDir_quantile_diff', clear=True)\n",
    "\t\t_out_BestDir = sns.scatterplot(\n",
    "\t\t\tax=ax,\n",
    "\t\t\tdata=significant_BestDir_quantile_stats_df,\n",
    "\t\t\tx='start',\n",
    "\t\t\ty='LongShort_BestDir_quantile_diff',\n",
    "\t\t\t# size='LR_Long_rel_num_cells',  # Use the 'size' parameter for variable marker sizes\n",
    "\t\t)\n",
    "\t\tsetup_common_after_creation(collector, fig=fig, axes=ax, sub_context=display_context.adding_context('subplot', subplot_name='BestDir'), \n",
    "\t\t\t\t\t\t\t\t\ttitle=f'<size:22> Sig. (>0.95) <weight:bold>Best</> Quantile Diff</>')\n",
    "\t\t\n",
    "\n",
    "\t\tif include_LR_LR_plot:\n",
    "\t\t\t# Create the scatter plot with Seaborn, using 'size' to set marker sizes\n",
    "\t\t\tfig, ax = collector.subplots(num='LR-LR_LongShort_LR_quantile_diff', clear=True)\n",
    "\t\t\t_out_LR = sns.scatterplot(\n",
    "\t\t\t\tax=ax,\n",
    "\t\t\t\tdata=LR_likely_active_df,\n",
    "\t\t\t\tx='start',\n",
    "\t\t\t\ty='LongShort_LR_quantile_diff',\n",
    "\t\t\t\t# size='LR_Long_rel_num_cells',  # Use the 'size' parameter for variable marker sizes\n",
    "\t\t\t)\n",
    "\t\t\tsetup_common_after_creation(collector, fig=fig, axes=ax, sub_context=display_context.adding_context('subplot', subplot_name='LR-Likely'), \n",
    "\t\t\t\t\t\t\t\t\t\ttitle=f'<size:22> Sig. (>0.95) <weight:bold>LR-LR (LR-Likely)</> Quantile Diff</>')\n",
    "\t\t\n",
    "\n",
    "\t\tif include_RL_RL_plot:\n",
    "\t\t\tfig, ax = collector.subplots(num='RL-RL_LongShort_RL_quantile_diff', clear=True)\n",
    "\t\t\t_out_RL = sns.scatterplot(\n",
    "\t\t\t\tax=ax,\n",
    "\t\t\t\tdata=RL_likely_active_df[RL_likely_active_df['RL_Long_rel_num_cells']>10],\n",
    "\t\t\t\tx='start',\n",
    "\t\t\t\ty='LongShort_RL_quantile_diff',\n",
    "\t\t\t\t# size='RL_Long_rel_num_cells',  # Use the 'size' parameter for variable marker sizes\n",
    "\t\t\t)\n",
    "\t\t\tsetup_common_after_creation(collector, fig=fig, axes=ax, sub_context=display_context.adding_context('subplot', subplot_name='RL-Likely'), \n",
    "\t\t\t\t\t\t\t\t\t\ttitle=f'<size:22> Sig. (>0.95) <weight:bold>RL-RL (RL-Likely)</> Quantile Diff</>')\n",
    "\t\t\n",
    "\n",
    "\n",
    "# Access the collected figures outside the context manager\n",
    "# result = tuple(collector.created_figures)\n",
    "\n",
    "return collector\n"
   ]
  },
  {
   "cell_type": "code",
   "execution_count": null,
   "id": "e598e0ec",
   "metadata": {},
   "outputs": [],
   "source": [
    "\n",
    "if active_context is not None:\n",
    "\tdisplay_context = active_context.adding_context('display_fn', display_fn_name='plot_rank_order_histograms')"
   ]
  },
  {
   "cell_type": "code",
   "execution_count": null,
   "id": "b00267bb",
   "metadata": {},
   "outputs": [],
   "source": [
    "import seaborn as sns\n",
    "from pyphoplacecellanalysis.General.Pipeline.Stages.ComputationFunctions.MultiContextComputationFunctions.RankOrderComputations import plot_quantile_diffs\n",
    "\n",
    "_restore_previous_matplotlib_settings_callback = matplotlib_configuration_update(is_interactive=True, backend='Qt5Agg')\n",
    "global_epoch = curr_active_pipeline.filtered_epochs[global_epoch_name]\n",
    "short_epoch = curr_active_pipeline.filtered_epochs[short_epoch_name]\n",
    "split_time_t: float = short_epoch.t_start\n",
    "active_context = curr_active_pipeline.sess.get_context()\n",
    "\n",
    "def _perform_write_to_file_callback(final_context, fig):\n",
    "\treturn curr_active_pipeline.output_figure(final_context, fig)\n",
    "\n",
    "collector = plot_quantile_diffs(ripple_merged_complete_epoch_stats_df, t_split=split_time_t, active_context=active_context, perform_write_to_file_callback=_perform_write_to_file_callback)"
   ]
  },
  {
   "cell_type": "code",
   "execution_count": null,
   "id": "7bb65cf4",
   "metadata": {},
   "outputs": [],
   "source": [
    "curr_active_pipeline.display('_display_directional_merged_pfs')"
   ]
  },
  {
   "cell_type": "code",
   "execution_count": null,
   "id": "d2a5da91",
   "metadata": {},
   "outputs": [],
   "source": [
    "from pyphoplacecellanalysis.Analysis.Decoder.reconstruction import DecodedFilterEpochsResult\n",
    "\n",
    "directional_merged_decoders_result = curr_active_pipeline.global_computation_results.computed_data['DirectionalMergedDecoders']\n",
    "\n",
    "laps_filter_epochs_decoder_result = directional_merged_decoders_result.all_directional_laps_filter_epochs_decoder_result\n",
    "laps_filter_epochs_decoder_result\n",
    "\n",
    "render_merged_pseudo2D_decoder_laps=True"
   ]
  },
  {
   "cell_type": "code",
   "execution_count": null,
   "id": "d4cfe1ca",
   "metadata": {},
   "outputs": [],
   "source": [
    "## Validate Laps:\n",
    "# requires `laps_is_most_likely_direction_LR_dir` from `laps_marginals`\n",
    "long_epoch_name, short_epoch_name, global_epoch_name = curr_active_pipeline.find_LongShortGlobal_epoch_names()\n",
    "global_session = deepcopy(curr_active_pipeline.filtered_sessions[global_epoch_name]) # used for validate_lap_dir_estimations(...) \n",
    "global_any_laps_epochs_obj = deepcopy(curr_active_pipeline.computation_results[global_epoch_name].computation_config.pf_params.computation_epochs) # global_epoch_name='maze_any'\n",
    "percent_laps_estimated_correctly = DirectionalMergedDecodersResult.validate_lap_dir_estimations(global_session, active_global_laps_df=global_any_laps_epochs_obj.to_dataframe(), laps_is_most_likely_direction_LR_dir=laps_is_most_likely_direction_LR_dir)\n",
    "print(f'percent_laps_estimated_correctly: {percent_laps_estimated_correctly}')"
   ]
  },
  {
   "cell_type": "code",
   "execution_count": null,
   "id": "697b518c",
   "metadata": {},
   "outputs": [],
   "source": [
    "directional_marginals, directional_all_epoch_bins_marginal, most_likely_direction_from_decode, is_most_likely_direction_LR_dir = DirectionalMergedDecodersResult.determine_directional_likelihoods(directional_merged_decoders_result.all_directional_laps_filter_epochs_decoder_result)\n",
    "\n",
    "laps_track_identity_marginals = DirectionalMergedDecodersResult.determine_long_short_likelihoods(directional_merged_decoders_result.all_directional_laps_filter_epochs_decoder_result)\n",
    "track_identity_marginals, track_identity_all_epoch_bins_marginal, most_likely_track_identity_from_decoder, is_most_likely_track_identity_Long = laps_track_identity_marginals\n",
    "\n"
   ]
  },
  {
   "cell_type": "code",
   "execution_count": null,
   "id": "2e271eee",
   "metadata": {},
   "outputs": [],
   "source": [
    "active_decoder = long_directional_pf1D_Decoder\n",
    "long_only_laps_filter_epochs_decoder_result: DecodedFilterEpochsResult = active_decoder.decode_specific_epochs(spikes_df=spikes_df, filter_epochs=global_any_laps_epochs_obj, decoding_time_bin_size=0.05, debug_print=True)"
   ]
  },
  {
   "cell_type": "code",
   "execution_count": null,
   "id": "7b76a725",
   "metadata": {},
   "outputs": [],
   "source": [
    "laps_filter_epochs_decoder_result = directional_merged_decoders_result.all_directional_laps_filter_epochs_decoder_result\n",
    "\n",
    "all_directional_pf1D_Decoder_value"
   ]
  },
  {
   "cell_type": "code",
   "execution_count": null,
   "id": "5232cebf",
   "metadata": {},
   "outputs": [],
   "source": [
    "from pyphoplacecellanalysis.General.Pipeline.Stages.DisplayFunctions.DecoderPredictionError import plot_decoded_epoch_slices\n"
   ]
  },
  {
   "cell_type": "code",
   "execution_count": null,
   "id": "0d95d551",
   "metadata": {},
   "outputs": [],
   "source": [
    "\n",
    "active_decoder = all_directional_pf1D_Decoder_value\n",
    "laps_plot_tuple = plot_decoded_epoch_slices(global_any_laps_epochs_obj, laps_filter_epochs_decoder_result, global_pos_df=global_session.position.to_dataframe(), xbin=active_decoder.xbin,\n",
    "\t\t\t\t\t\t\t\t\t\t\tname='TEST NEW LAPS',\n",
    "                                            # active_marginal_fn = lambda filter_epochs_decoder_result: filter_epochs_decoder_result.marginal_y_list,\n",
    "\t\t\t\t\t\t\t\t\t\t\tactive_marginal_fn = lambda filter_epochs_decoder_result:  DirectionalMergedDecodersResult.build_custom_marginal_over_direction(filter_epochs_decoder_result),\n",
    "                                            )\n"
   ]
  },
  {
   "cell_type": "code",
   "execution_count": null,
   "id": "e42357ce",
   "metadata": {},
   "outputs": [],
   "source": [
    "from pyphoplacecellanalysis.General.Pipeline.Stages.DisplayFunctions.DecoderPredictionError import plot_decoded_epoch_slices\n",
    "\n",
    "active_decoder = all_directional_pf1D_Decoder_value\n",
    "laps_plot_tuple = plot_decoded_epoch_slices(global_any_laps_epochs_obj, laps_filter_epochs_decoder_result, global_pos_df=global_session.position.to_dataframe(), xbin=active_decoder.xbin,\n",
    "\t\t\t\t\t\t\t\t\t\t\tname='TEST NEW LAPS',\n",
    "                                            # active_marginal_fn = lambda filter_epochs_decoder_result: filter_epochs_decoder_result.marginal_y_list,\n",
    "\t\t\t\t\t\t\t\t\t\t\tactive_marginal_fn = lambda filter_epochs_decoder_result:  DirectionalMergedDecodersResult.build_custom_marginal_over_direction(filter_epochs_decoder_result),\n",
    "                                            )\n"
   ]
  },
  {
   "cell_type": "code",
   "execution_count": null,
   "id": "de05349b",
   "metadata": {},
   "outputs": [],
   "source": [
    "owning_pipeline_reference = curr_active_pipeline\n",
    "\n",
    "# Direction (LR/RL) Marginal:\n",
    "global_any_laps_epochs_obj = deepcopy(owning_pipeline_reference.computation_results[global_epoch_name].computation_config.pf_params.computation_epochs) # global_epoch_name='maze_any'\n",
    "active_decoder = directional_merged_decoders_result.all_directional_pf1D_Decoder\n",
    "directional_laps_plot_tuple = plot_decoded_epoch_slices(global_any_laps_epochs_obj, directional_merged_decoders_result.all_directional_laps_filter_epochs_decoder_result, global_pos_df=global_session.position.to_dataframe(), xbin=active_decoder.xbin,\n",
    "\t\t\t\t\t\t\t\t\t\t\tname='Directional_Marginal_LAPS',\n",
    "\t\t\t\t\t\t\t\t\t\t\tactive_marginal_fn = lambda filter_epochs_decoder_result: DirectionalMergedDecodersResult.build_custom_marginal_over_direction(filter_epochs_decoder_result),\n",
    "\t\t\t\t\t\t\t\t\t\t\t# single_plot_fixed_height=single_plot_fixed_height, debug_test_max_num_slices=max_num_lap_epochs, size=size, dpi=dpi, constrained_layout=constrained_layout, scrollable_figure=scrollable_figure,\n",
    "\t\t\t\t\t\t\t\t\t\t\t)\n",
    "\n",
    "# Track-identity (Long/Short) Marginal:\n",
    "global_any_laps_epochs_obj = deepcopy(owning_pipeline_reference.computation_results[global_epoch_name].computation_config.pf_params.computation_epochs) # global_epoch_name='maze_any'\n",
    "active_decoder = directional_merged_decoders_result.all_directional_pf1D_Decoder\n",
    "track_identity_marginal_laps_plot_tuple = plot_decoded_epoch_slices(global_any_laps_epochs_obj, directional_merged_decoders_result.all_directional_laps_filter_epochs_decoder_result, global_pos_df=global_session.position.to_dataframe(), xbin=active_decoder.xbin,\n",
    "\t\t\t\t\t\t\t\t\t\t\tname='TrackIdentity_Marginal_LAPS',\n",
    "\t\t\t\t\t\t\t\t\t\t\tactive_marginal_fn = lambda filter_epochs_decoder_result: DirectionalMergedDecodersResult.build_custom_marginal_over_long_short(filter_epochs_decoder_result),\n",
    "\t\t\t\t\t\t\t\t\t\t\t# single_plot_fixed_height=single_plot_fixed_height, debug_test_max_num_slices=max_num_lap_epochs, size=size, dpi=dpi, constrained_layout=constrained_layout, scrollable_figure=scrollable_figure,\n",
    "\t\t\t\t\t\t\t\t\t\t\t)\n",
    "\n",
    "# Replays: ___________________________________________________________________________________________________________ #\n",
    "\n",
    "# Direction (LR/RL) Marginal:\n",
    "global_replays = TimeColumnAliasesProtocol.renaming_synonym_columns_if_needed(deepcopy(global_session.replay))\n",
    "active_decoder = directional_merged_decoders_result.all_directional_pf1D_Decoder\n",
    "directional_ripples_plot_tuple = plot_decoded_epoch_slices(global_replays,  directional_merged_decoders_result.all_directional_ripple_filter_epochs_decoder_result, global_pos_df=global_session.position.to_dataframe(), xbin=active_decoder.xbin,\n",
    "\t\t\t\t\t\t\t\t\t\t\tname='Directional_Marginal_Ripples',\n",
    "\t\t\t\t\t\t\t\t\t\t\tactive_marginal_fn = lambda filter_epochs_decoder_result: DirectionalMergedDecodersResult.build_custom_marginal_over_direction(filter_epochs_decoder_result),\n",
    "\t\t\t\t\t\t\t\t\t\t\t# single_plot_fixed_height=single_plot_fixed_height, debug_test_max_num_slices=max_num_ripple_epochs, size=size, dpi=dpi, constrained_layout=constrained_layout, scrollable_figure=scrollable_figure,\n",
    "\t\t\t\t\t\t\t\t\t\t\t)\n",
    "\n",
    "# Track-identity (Long/Short) Marginal:\n",
    "global_replays = TimeColumnAliasesProtocol.renaming_synonym_columns_if_needed(deepcopy(global_session.replay))\n",
    "active_decoder = directional_merged_decoders_result.all_directional_pf1D_Decoder\n",
    "track_identity_marginal_ripples_plot_tuple = plot_decoded_epoch_slices(global_replays,  directional_merged_decoders_result.all_directional_ripple_filter_epochs_decoder_result, global_pos_df=global_session.position.to_dataframe(), xbin=active_decoder.xbin,\n",
    "\t\t\t\t\t\t\t\t\t\t\tname='TrackIdentity_Marginal_Ripples',\n",
    "\t\t\t\t\t\t\t\t\t\t\tactive_marginal_fn = lambda filter_epochs_decoder_result: DirectionalMergedDecodersResult.build_custom_marginal_over_long_short(filter_epochs_decoder_result),\n",
    "\t\t\t\t\t\t\t\t\t\t\t# single_plot_fixed_height=single_plot_fixed_height, debug_test_max_num_slices=max_num_ripple_epochs, size=size, dpi=dpi, constrained_layout=constrained_layout, scrollable_figure=scrollable_figure,\n",
    "\t\t\t\t\t\t\t\t\t\t\t)\n"
   ]
  },
  {
   "cell_type": "code",
   "execution_count": null,
   "id": "cc43280e",
   "metadata": {},
   "outputs": [],
   "source": [
    "\n",
    "\n",
    "global_any_laps_epochs_obj = deepcopy(curr_active_pipeline.computation_results[global_epoch_name].computation_config.pf_params.computation_epochs) # global_epoch_name='maze_any'\n",
    "active_decoder = directional_merged_decoders_result.all_directional_pf1D_Decoder\n",
    "implemented_laps_plot_tuple = plot_decoded_epoch_slices(global_any_laps_epochs_obj, directional_merged_decoders_result.all_directional_laps_filter_epochs_decoder_result, global_pos_df=global_session.position.to_dataframe(), xbin=active_decoder.xbin,\n",
    "\t\t\t\t\t\t\t\t\t\t\tname='Directional_Marginal_LAPS',\n",
    "\t\t\t\t\t\t\t\t\t\t\tactive_marginal_fn = lambda filter_epochs_decoder_result: DirectionalMergedDecodersResult.build_custom_marginal_over_direction(filter_epochs_decoder_result),\n",
    "\t\t\t\t\t\t\t\t\t\t\t# single_plot_fixed_height=single_plot_fixed_height, debug_test_max_num_slices=max_num_lap_epochs, size=size, dpi=dpi, constrained_layout=constrained_layout, scrollable_figure=scrollable_figure,\n",
    "\t\t\t\t\t\t\t\t\t\t\t)\n"
   ]
  },
  {
   "cell_type": "code",
   "execution_count": null,
   "id": "a2670344",
   "metadata": {},
   "outputs": [],
   "source": [
    "active_decoder = all_directional_pf1D_Decoder_value\n",
    "ripples_plot_tuple = plot_decoded_epoch_slices(global_replays, all_directional_ripples_filter_epochs_decoder_result, global_pos_df=global_session.position.to_dataframe(), xbin=active_decoder.xbin,\n",
    "\t\t\t\t\t\t\t\t\t\t\tname='stacked_epoch_slices_matplotlib_subplots_Ripples',\n",
    "                                            # active_marginal_fn = lambda filter_epochs_decoder_result: filter_epochs_decoder_result.marginal_y_list,\n",
    "\t\t\t\t\t\t\t\t\t\t\tactive_marginal_fn = lambda filter_epochs_decoder_result: build_custom_marginal_over_direction(filter_epochs_decoder_result),\n",
    "                                            )\n"
   ]
  },
  {
   "cell_type": "code",
   "execution_count": null,
   "id": "9fb0daf9",
   "metadata": {},
   "outputs": [],
   "source": [
    "\n",
    "\n",
    "active_decoder = all_directional_pf1D_Decoder_value\n",
    "laps_plot_tuple = plot_decoded_epoch_slices(global_any_laps_epochs_obj, long_only_laps_filter_epochs_decoder_result, global_pos_df=global_session.position.to_dataframe(), xbin=active_decoder.xbin,\n",
    "\t\t\t\t\t\t\t\t\t\t\tname='long_only_lstacked_epoch_slices_matplotlib_subplots_LAPS',\n",
    "                                            # active_marginal_fn = lambda filter_epochs_decoder_result: filter_epochs_decoder_result.marginal_y_list,\n",
    "\t\t\t\t\t\t\t\t\t\t\tactive_marginal_fn = lambda filter_epochs_decoder_result: build_custom_marginal_over_direction(filter_epochs_decoder_result),\n",
    "                                            )\n",
    "\n",
    "\n"
   ]
  },
  {
   "cell_type": "code",
   "execution_count": null,
   "id": "454fef46",
   "metadata": {},
   "outputs": [],
   "source": [
    "directional_merged_decoders_result = global_computation_results.computed_data['DirectionalMergedDecoders']\n",
    "\n",
    "# requires `laps_is_most_likely_direction_LR_dir` from `laps_marginals`\n",
    "long_epoch_name, short_epoch_name, global_epoch_name = owning_pipeline_reference.find_LongShortGlobal_epoch_names()\n",
    "global_session = deepcopy(owning_pipeline_reference.filtered_sessions[global_epoch_name]) # used for validate_lap_dir_estimations(...) \n",
    "\n",
    "# Direction (LR/RL) Marginal:\n",
    "global_any_laps_epochs_obj = deepcopy(owning_pipeline_reference.computation_results[global_epoch_name].computation_config.pf_params.computation_epochs) # global_epoch_name='maze_any'\n",
    "active_decoder = directional_merged_decoders_result.all_directional_pf1D_Decoder\n",
    "laps_plot_tuple = plot_decoded_epoch_slices(global_any_laps_epochs_obj, directional_merged_decoders_result.all_directional_laps_filter_epochs_decoder_result, global_pos_df=global_session.position.to_dataframe(), xbin=active_decoder.xbin,\n",
    "\t\t\t\t\t\t\t\t\t\t\tname='stacked_epoch_slices_matplotlib_subplots_LAPS',\n",
    "\t\t\t\t\t\t\t\t\t\t\t# active_marginal_fn = lambda filter_epochs_decoder_result: filter_epochs_decoder_result.marginal_y_list,\n",
    "\t\t\t\t\t\t\t\t\t\t\tactive_marginal_fn = lambda filter_epochs_decoder_result: DirectionalMergedDecodersResult.build_custom_marginal_over_direction(filter_epochs_decoder_result),\n",
    "\t\t\t\t\t\t\t\t\t\t\tdebug_test_max_num_slices=max_num_lap_epochs\n",
    "\t\t\t\t\t\t\t\t\t\t\t)\n",
    "\n",
    "# Track-identity (Long/Short) Marginal:\n",
    "global_any_laps_epochs_obj = deepcopy(owning_pipeline_reference.computation_results[global_epoch_name].computation_config.pf_params.computation_epochs) # global_epoch_name='maze_any'\n",
    "active_decoder = directional_merged_decoders_result.all_directional_pf1D_Decoder\n",
    "track_identity_marginal_laps_plot_tuple = plot_decoded_epoch_slices(global_any_laps_epochs_obj, directional_merged_decoders_result.all_directional_laps_filter_epochs_decoder_result, global_pos_df=global_session.position.to_dataframe(), xbin=active_decoder.xbin,\n",
    "\t\t\t\t\t\t\t\t\t\t\tname='TrackIdentity_Marginal_LAPS',\n",
    "\t\t\t\t\t\t\t\t\t\t\tactive_marginal_fn = lambda filter_epochs_decoder_result: DirectionalMergedDecodersResult.build_custom_marginal_over_long_short(filter_epochs_decoder_result),\n",
    "\t\t\t\t\t\t\t\t\t\t\tdebug_test_max_num_slices=max_num_lap_epochs\n",
    "\t\t\t\t\t\t\t\t\t\t\t)\n",
    "\n",
    "\n",
    "\n",
    "## Replays:\n",
    "global_replays = TimeColumnAliasesProtocol.renaming_synonym_columns_if_needed(deepcopy(global_session.replay))\n",
    "active_decoder = directional_merged_decoders_result.all_directional_pf1D_Decoder\n",
    "ripples_plot_tuple = plot_decoded_epoch_slices(global_replays,  directional_merged_decoders_result.all_directional_ripple_filter_epochs_decoder_result, global_pos_df=global_session.position.to_dataframe(), xbin=active_decoder.xbin,\n",
    "\t\t\t\t\t\t\t\t\t\t\tname='stacked_epoch_slices_matplotlib_subplots_Ripples',\n",
    "\t\t\t\t\t\t\t\t\t\t\t# active_marginal_fn = lambda filter_epochs_decoder_result: filter_epochs_decoder_result.marginal_y_list,\n",
    "\t\t\t\t\t\t\t\t\t\t\tactive_marginal_fn = lambda filter_epochs_decoder_result: DirectionalMergedDecodersResult.build_custom_marginal_over_direction(filter_epochs_decoder_result),\n",
    "\t\t\t\t\t\t\t\t\t\t\t)\n",
    "\n"
   ]
  },
  {
   "cell_type": "code",
   "execution_count": null,
   "id": "291de005",
   "metadata": {},
   "outputs": [],
   "source": [
    "# Decode using long_directional_decoder\n",
    "global_spikes_df, (odd_shuffle_helper, even_shuffle_helper) = RankOrderAnalyses.common_analysis_helper(curr_active_pipeline=curr_active_pipeline, num_shuffles=1000)\n",
    "spikes_df = deepcopy(global_spikes_df) #.spikes.sliced_by_neuron_id(track_templates.shared_aclus_only_neuron_IDs)\n",
    "global_replays = TimeColumnAliasesProtocol.renaming_synonym_columns_if_needed(deepcopy(curr_active_pipeline.filtered_sessions[global_epoch_name].replay))\n",
    "# long_directional_decoding_result: DecodedFilterEpochsResult = long_directional_pf1D_Decoder.decode_specific_epochs(spikes_df, global_replays, decoding_time_bin_size=0.01)\n",
    "all_directional_decoding_result: DecodedFilterEpochsResult = all_directional_pf1D_Decoder.decode_specific_epochs(spikes_df, global_replays, decoding_time_bin_size=0.01)"
   ]
  },
  {
   "cell_type": "code",
   "execution_count": null,
   "id": "d50d6aab",
   "metadata": {},
   "outputs": [],
   "source": [
    "num_spikes = len(all_directional_pf1D.spikes_df)\n",
    "print(f'num_spikes: {num_spikes}')\n",
    "num_unique_spikes = len(all_directional_pf1D.spikes_df[['t_rel_seconds']].unique())\n",
    "print(f'num_unique_spikes: {num_unique_spikes}')"
   ]
  },
  {
   "cell_type": "code",
   "execution_count": null,
   "id": "678ff61e",
   "metadata": {},
   "outputs": [],
   "source": [
    "## Post 2022-10-22 display_all_pf_2D_pyqtgraph_binned_image_rendering-based method:\n",
    "\n",
    "# Visualization:\n",
    "from pyphoplacecellanalysis.Pho2D.matplotlib.visualize_heatmap import visualize_heatmap, visualize_heatmap_pyqtgraph\n",
    "from pyphoplacecellanalysis.Pho2D.PyQtPlots.plot_placefields import pyqtplot_plot_image_array, display_all_pf_2D_pyqtgraph_binned_image_rendering\n",
    "from pyphoplacecellanalysis.GUI.PyQtPlot.BinnedImageRenderingWindow import BasicBinnedImageRenderingWindow, LayoutScrollability\n",
    "\n",
    "# active_context = curr_active_pipeline.build_display_context_for_session(track_config='All-Directions', display_fn_name='display_all_pf_2D_pyqtgraph_binned_image_rendering')\n",
    "active_context = curr_active_pipeline.build_display_context_for_session(track_config='Long-Directional', display_fn_name='display_all_pf_2D_pyqtgraph_binned_image_rendering')\n",
    "assert active_context is not None\n",
    "active_pf_2D = long_directional_pf1D_Decoder.pf # computation_result.computed_data['pf2D']\n",
    "# active_pf_2D = all_directional_pf1D_Decoder.pf # computation_result.computed_data['pf2D']\n",
    "# active_pf_2D = all_directions_merged_pf\n",
    "# active_pf_2D = long_directional_manual_merged_pf\n",
    "\n",
    "# figure_format_config = {} # empty dict for config\n",
    "figure_format_config = {} # kwargs # kwargs as default figure_format_config\n",
    "out_all_pf_2D_pyqtgraph_binned_image_fig = display_all_pf_2D_pyqtgraph_binned_image_rendering(active_pf_2D, figure_format_config) # output is BasicBinnedImageRenderingWindow\n",
    "\n",
    "# Set the window title from the context\n",
    "out_all_pf_2D_pyqtgraph_binned_image_fig.setWindowTitle(f'{active_context.get_description()}')\n",
    "\n",
    "out_all_pf_2D_pyqtgraph_binned_image_fig.show()"
   ]
  },
  {
   "cell_type": "code",
   "execution_count": null,
   "id": "43305707",
   "metadata": {},
   "outputs": [],
   "source": [
    "long_directional_pf1D_Decoder.ratemap.plot()"
   ]
  },
  {
   "cell_type": "markdown",
   "id": "b319bd93",
   "metadata": {},
   "source": [
    "# 🔶 2023-12-23 - All Plots - Final"
   ]
  },
  {
   "cell_type": "code",
   "execution_count": 14,
   "id": "6121e192",
   "metadata": {
    "notebookRunGroups": {
     "groupValue": "2"
    }
   },
   "outputs": [
    {
     "name": "stderr",
     "output_type": "stream",
     "text": [
      "INFO:com.PhoHale.Spike3D.pipeline:NeuropyPipeline.on_stage_changed(new_stage=\"PipelineStage.Displayed\")\n"
     ]
    }
   ],
   "source": [
    "from typing import Iterable\n",
    "from pyphoplacecellanalysis.General.Pipeline.Stages.ComputationFunctions.MultiContextComputationFunctions.RankOrderComputations import DirectionalRankOrderResult\n",
    "from pyphoplacecellanalysis.General.Pipeline.Stages.ComputationFunctions.MultiContextComputationFunctions.RankOrderComputations import RankOrderGlobalDisplayFunctions\n",
    "from pyphoplacecellanalysis.General.Pipeline.Stages.ComputationFunctions.MultiContextComputationFunctions.RankOrderComputations import plot_rank_order_histograms\n",
    "\n",
    "curr_active_pipeline.reload_default_display_functions()\n",
    "curr_active_pipeline.prepare_for_display()\n",
    "\n",
    "save_figure = True"
   ]
  },
  {
   "cell_type": "markdown",
   "id": "590e9fec",
   "metadata": {},
   "source": [
    "## 2024-01-08 - Pulled from NonInteractiveProcessing to see plots easily."
   ]
  },
  {
   "cell_type": "code",
   "execution_count": null,
   "id": "6a1c373e",
   "metadata": {
    "notebookRunGroups": {
     "groupValue": "2"
    }
   },
   "outputs": [],
   "source": [
    "# _display_directional_merged_pf_decoded_epochs_marginals ________________________________________________________________________________ #\n",
    "try:\n",
    "\t_out = curr_active_pipeline.display('_display_directional_merged_pf_decoded_epochs_marginals', curr_active_pipeline.get_session_context(), defer_render=True, save_figure=save_figure)\n",
    "except Exception as e:\n",
    "\tprint(f'batch_extended_programmatic_figures(...): \"_display_directional_merged_pf_decoded_epochs_marginals\" failed with error: {e}\\n skipping.')\n",
    "\traise\n",
    "\n",
    "# # _display_rank_order_z_stats_results ________________________________________________________________________________ #\n",
    "# try:\n",
    "# \t_out = curr_active_pipeline.display('_display_rank_order_z_stats_results', curr_active_pipeline.get_session_context(), defer_render=True, save_figure=save_figure)\n",
    "# except Exception as e:\n",
    "# \tprint(f'batch_extended_programmatic_figures(...): \"_display_rank_order_z_stats_results\" failed with error: {e}\\n skipping.')\n",
    "# \traise"
   ]
  },
  {
   "cell_type": "code",
   "execution_count": null,
   "id": "dbbd04d8",
   "metadata": {},
   "outputs": [],
   "source": [
    "# from pyphoplacecellanalysis.GUI.PyQtPlot.BinnedImageRenderingWindow import BasicBinnedImageRenderingWindow\n",
    "\n",
    "# curr_active_pipeline.reload_default_display_functions()\n",
    "\n",
    "# _out = curr_active_pipeline.display('_display_directional_track_template_pf1Ds', curr_active_pipeline.get_session_context(), defer_render=False, save_figure=save_figure)\n",
    "\n",
    "_out = curr_active_pipeline.display('_display_directional_merged_pfs', curr_active_pipeline.get_session_context(), defer_render=False, save_figure=save_figure)\n"
   ]
  },
  {
   "cell_type": "code",
   "execution_count": null,
   "id": "bba1bc7f",
   "metadata": {},
   "outputs": [],
   "source": [
    "all_dir_outputs = list(_out.values())[0] # BasicBinnedImageRenderingWindow \n",
    "# list(all_dir_outputs.keys())\n",
    "names_list = [v for v in list(all_dir_outputs.plots.keys()) if v not in ('name', 'context')]\n",
    "names_list\n",
    "\n",
    "out_figs_dict = {}\n",
    "# active_context = curr_active_pipeline.build_display_context_for_session(display_fn_name='directional_merged_pfs')\n",
    "# for a_name, a_plot in all_dir_outputs.plots.items():\n",
    "for a_name in names_list:\n",
    "\t# Adjust the size of the text for the item by passing formatted text\n",
    "\ta_plot: pg.PlotItem = all_dir_outputs.plots[a_name].mainPlotItem # PlotItem \n",
    "\t# if (a_plot is not None) and (not isinstance(a_plot, str)):\n",
    "\t# a_plot.setTitle(f\"<span style = 'font-size : 12px;' >{a_name}</span>\")\n",
    "\t# a_plo\n",
    "\t# active_context , epochs='replays', decoder='long_results_obj'\t\n",
    "\tfinal_context = curr_active_pipeline.build_display_context_for_session(display_fn_name='directional_merged_pfs', track_config='All-Directions', cell=a_name)\n",
    "\tout_figs_dict[a_name] = curr_active_pipeline.output_figure(final_context, a_plot.getViewBox())\n",
    "\t\n"
   ]
  },
  {
   "cell_type": "code",
   "execution_count": null,
   "id": "04b5eec1",
   "metadata": {},
   "outputs": [],
   "source": [
    "# list(out_figs_dict.values())[0][0][0]\n",
    "\n",
    "out_figs_paths = [v[0][0] for v in list(out_figs_dict.values())]\n",
    "out_figs_paths"
   ]
  },
  {
   "cell_type": "code",
   "execution_count": null,
   "id": "c41b63b5",
   "metadata": {},
   "outputs": [],
   "source": [
    "# Take the individual cell's pf export figures and composite them into a single stack\n",
    "\n",
    "from PIL import Image\n",
    "from pyphocorehelpers.plotting.filesystem_figure_operations import render_image_stack\n",
    "\n",
    "output_img, output_path = render_image_stack(out_figs_paths, offset=55, single_image_alpha_level=0.85)"
   ]
  },
  {
   "cell_type": "code",
   "execution_count": null,
   "id": "f47f2f5d",
   "metadata": {},
   "outputs": [],
   "source": [
    "output_img"
   ]
  },
  {
   "cell_type": "code",
   "execution_count": null,
   "id": "abc9d74d",
   "metadata": {},
   "outputs": [],
   "source": [
    "final_context = curr_active_pipeline.build_display_context_for_session(display_fn_name='directional_merged_pfs', track_config='All-Directions', cell=a_name)\n",
    "curr_active_pipeline.output_figure(final_context, a_plot.getViewBox(), write_vector_format=True, write_png=True)\n"
   ]
  },
  {
   "cell_type": "code",
   "execution_count": null,
   "id": "57dedb98",
   "metadata": {},
   "outputs": [],
   "source": [
    "# final_context\n",
    "\n",
    "curr_active_pipeline.get_output_path()"
   ]
  },
  {
   "cell_type": "code",
   "execution_count": null,
   "id": "0ef7dd06",
   "metadata": {},
   "outputs": [],
   "source": [
    "a_plot.titleLabel.setContentsMargins(50, 0, 0, 0)\n",
    "a_plot.titleLabel.\n",
    "\n",
    "for i in range(4):\n",
    "\ta_plot.layout.setRowPreferredHeight(i, 0)\n",
    "\ta_plot.layout.setRowMinimumHeight(i, 0)\n",
    "\ta_plot.layout.setRowSpacing(i, 0)\n",
    "\ta_plot.layout.setRowStretchFactor(i, 1)\n"
   ]
  },
  {
   "cell_type": "code",
   "execution_count": null,
   "id": "a96a165e",
   "metadata": {},
   "outputs": [],
   "source": [
    "a_plot.layout.setRowMinimumHeight(0, 500) # idk...\n",
    "a_plot.layout.setRowPreferredHeight(1, 0) # nothing\n",
    "a_plot.layout.setRowPreferredHeight(2, 30) # the plot item\n",
    "a_plot.layout.setRowPreferredHeight(3, 0) \n",
    "a_plot.layout.setRowPreferredHeight(4, 0)"
   ]
  },
  {
   "cell_type": "code",
   "execution_count": null,
   "id": "9c1ca405",
   "metadata": {},
   "outputs": [],
   "source": [
    "# no clue why 2 is a good value for this...\n",
    "a_plot.titleLabel.setMaximumHeight(2)\n",
    "a_plot.layout.setRowFixedHeight(0, 2)\n",
    "\n",
    "## Could be the plot item size that should be changed?\n",
    "\n"
   ]
  },
  {
   "cell_type": "code",
   "execution_count": null,
   "id": "dc6d78c1",
   "metadata": {},
   "outputs": [],
   "source": [
    "# this gets rid of the annoying white bounding box in the ViewBox of the plot\n",
    "# a_plot.hideAxis('left') # Hide left border\n",
    "a_plot.hideAxis('right') # Hide right border\n",
    "# a_plot.hideAxis('top') # Hide top border\n",
    "a_plot.hideAxis('bottom') # Hide bottom border\n",
    "\n",
    "a_plot.showAxes('left')\n",
    "a_plot.showAxes('top')"
   ]
  },
  {
   "cell_type": "code",
   "execution_count": null,
   "id": "91970a33",
   "metadata": {},
   "outputs": [],
   "source": [
    "vb: pg.ViewBox = a_plot.getViewBox()\n",
    "# vb.background = pg.mkColor('red')\n",
    "# vb.border\n",
    "# vb.setBorder(None)\n",
    "vb.setBackgroundColor(pg.mkColor('red')) # works\n",
    "vb.setBackgroundColor(None)\n",
    "vb.setBorder(pg.mkPen('blue'))\n",
    "# vb.setXRange(\n",
    "vb.setYRange(0, 0.2, 0.0, update=True)"
   ]
  },
  {
   "cell_type": "code",
   "execution_count": 18,
   "id": "828a2288",
   "metadata": {},
   "outputs": [],
   "source": [
    "from pyphoplacecellanalysis.Analysis.Decoder.reconstruction import DecodedFilterEpochsResult\n",
    "from pyphoplacecellanalysis.General.Pipeline.Stages.ComputationFunctions.MultiContextComputationFunctions.DirectionalPlacefieldGlobalComputationFunctions import DirectionalMergedDecodersResult\n",
    "\n",
    "directional_merged_decoders_result: DirectionalMergedDecodersResult = curr_active_pipeline.global_computation_results.computed_data['DirectionalMergedDecoders']\n",
    "\n",
    "laps_filter_epochs_decoder_result: DecodedFilterEpochsResult = directional_merged_decoders_result.all_directional_laps_filter_epochs_decoder_result\n",
    "\n",
    "# laps_filter_epochs_decoder_result.p_x_given_n_list[0].shape # (n_x_bins, 4, n_curr_epoch_time_bins) - (63, 4, 120)\n",
    "\n",
    "# len(laps_filter_epochs_decoder_result.p_x_given_n_list) # n_epochs = 72\n",
    "\n",
    "# laps_filter_epochs_decoder_result.nbins\n",
    "\n",
    "# directional_merged_decoders_result.all_directional_laps_filter_epochs_decoder_result\n",
    "# laps_filter_epochs_decoder_result\n",
    "\n",
    "laps_directional_marginals, laps_directional_all_epoch_bins_marginal, laps_most_likely_direction_from_decoder, laps_is_most_likely_direction_LR_dir  = directional_merged_decoders_result.laps_directional_marginals_tuple\n",
    "# laps_directional_marginals # a list just like `laps_filter_epochs_decoder_result.p_x_given_n_list`   # .shape (2, n_curr_epoch_time_bins) - (2, 120)\n",
    "\n",
    "# .shape: (n_x_bins, 4, n_curr_epoch_time_bins) - (63, 4, 120)\n",
    "# laps_directional_marginals"
   ]
  },
  {
   "cell_type": "code",
   "execution_count": 21,
   "id": "14fa7976",
   "metadata": {},
   "outputs": [
    {
     "data": {
      "text/plain": [
       "[DynamicContainer({'p_x_given_n': array([[1.10583e-05, 0.846369, 0.248869, 0.367591, 0.247046, 0.315991, 0.315991, 0.315991, 0.248496, 0.248496, 0.248496, 0.00609491, 0.414265, 0.414265, 0.00109341, 0.124986, 0.169004, 0.152483, 0.346085, 0.129926, 0.224778, 0.129926, 0.315991, 0.152384, 0.152384, 0.193993, 0.221193, 0.418144, 0.152384, 0.093347, 0.129926, 0.152384, 0.493918, 0.367591, 0.346085, 0.152384, 0.0474125, 0.152384, 0.346085, 0.152384, 0.367591, 0.152384, 0.367591, 0.152384, 0.102876, 0.152384, 0.152384, 0.152384, 0.152384, 0.223007, 0.152384, 0.232331, 0.317575, 0.152384, 0.315991, 0.152384, 0.152384, 0.152384, 0.152384, 0.152384, 0.152384, 0.152384, 0.152384, 0.152384, 0.152384, 0.152384, 0.152384, 0.152384, 0.152384, 0.152384, 0.152384, 0.146192, 0.152384, 0.152384, 0.152384, 0.152384, 0.152384, 0.152384, 0.152384, 0.152384, 0.152384, 0.152384, 0.152384, 0.232331, 0.152384, 0.00251721, 0.0300895, 0.152384, 0.232331, 0.146192, 0.258984, 0.336507, 0.348908, 0.348908, 0.146192, 0.353992, 0.107012, 0.49933, 0.152384, 0.0292431, 0.000212139, 0.113791, 0.15381, 0.348908, 0.22959, 0.152384, 0.157253, 0.0188792, 0.353992, 0.157652, 0.108868, 0.297734, 0, 0.152384, 0.0312419, 0.31759, 0.353992, 0.110186, 0.00559274, 0.247046],\n",
       "        [0.982765, 0.0566455, 0.342191, 0.260036, 0.231102, 0.386393, 0.386393, 0.386393, 0.612516, 0.612516, 0.612516, 0.663357, 0.311503, 0.311503, 0.998784, 0.871756, 0.750638, 0.629119, 0.492867, 0.686146, 0.497879, 0.686146, 0.386393, 0.0981816, 0.0981816, 0.247898, 0.419505, 0.342003, 0.0981816, 0.895054, 0.686146, 0.0981816, 0.434855, 0.260036, 0.492867, 0.0981816, 0.94643, 0.0981816, 0.492867, 0.0981816, 0.260036, 0.0981816, 0.260036, 0.0981816, 0.423558, 0.0981816, 0.0981816, 0.0981816, 0.0981816, 0.721278, 0.0981816, 0.469226, 0.218182, 0.0981816, 0.386393, 0.0981816, 0.0981816, 0.0981816, 0.0981816, 0.0981816, 0.0981816, 0.0981816, 0.0981816, 0.0981816, 0.0981816, 0.0981816, 0.0981816, 0.0981816, 0.0981816, 0.0981816, 0.0981816, 0.288226, 0.0981816, 0.0981816, 0.0981816, 0.0981816, 0.0981816, 0.0981816, 0.0981816, 0.0981816, 0.0981816, 0.0981816, 0.0981816, 0.469226, 0.0981816, 0.026086, 0.107675, 0.0981816, 0.469226, 0.288226, 0.163369, 0.521638, 0.385318, 0.385318, 0.288226, 0.352659, 0.606006, 0.372967, 0.0981816, 0.923683, 0.948515, 0.546268, 0.302647, 0.385318, 0.530601, 0.0981816, 0.404875, 0.325642, 0.352659, 0.553848, 0.34182, 0.652271, 0.0563254, 0.0981816, 0.563096, 0.382078, 0.352659, 0.638009, 0.0779995, 0.231102],\n",
       "        [0.00945698, 0.00431687, 0.0272766, 0.150596, 0.302697, 0.0916759, 0.0916759, 0.0916759, 0.0487444, 0.0487444, 0.0487444, 0.000555452, 0.211488, 0.211488, 1.52684e-05, 0, 0.000868101, 0.000307016, 0.0368541, 0.00270272, 0.0419373, 0.00270272, 0.0916759, 0.396868, 0.396868, 0.0612156, 0.0215485, 0.0212808, 0.396868, 8.55302e-05, 0.00270272, 0.396868, 0.034161, 0.150596, 0.0368541, 0.396868, 0.000207561, 0.396868, 0.0368541, 0.396868, 0.150596, 0.396868, 0.150596, 0.396868, 0.0482791, 0.396868, 0.396868, 0.396868, 0.396868, 0.013871, 0.396868, 0.0734896, 0.409, 0.396868, 0.0916759, 0.396868, 0.396868, 0.396868, 0.396868, 0.396868, 0.396868, 0.396868, 0.396868, 0.396868, 0.396868, 0.396868, 0.396868, 0.396868, 0.396868, 0.396868, 0.396868, 0.211717, 0.396868, 0.396868, 0.396868, 0.396868, 0.396868, 0.396868, 0.396868, 0.396868, 0.396868, 0.396868, 0.396868, 0.0734896, 0.396868, 0.0776423, 0.00484704, 0.396868, 0.0734896, 0.211717, 0.542835, 0.117215, 0.173447, 0.173447, 0.211717, 0.0972141, 0.0227173, 0.119807, 0.396868, 0.020018, 0.00360498, 0.0161729, 0.229236, 0.173447, 0.130561, 0.396868, 0.0805042, 0.000376508, 0.0972141, 0.153159, 0.137698, 0.00163373, 0.0121687, 0.396868, 0.00151504, 0.0437183, 0.0972141, 0.000347974, 0.00309495, 0.302697],\n",
       "        [0.00776721, 0.092669, 0.381664, 0.221777, 0.219155, 0.20594, 0.20594, 0.20594, 0.0902438, 0.0902438, 0.0902438, 0.329993, 0.0627446, 0.0627446, 0.000107462, 0.00325815, 0.0794894, 0.218091, 0.124194, 0.181226, 0.235406, 0.181226, 0.20594, 0.352567, 0.352567, 0.496893, 0.337753, 0.218572, 0.352567, 0.011513, 0.181226, 0.352567, 0.0370657, 0.221777, 0.124194, 0.352567, 0.00594995, 0.352567, 0.124194, 0.352567, 0.221777, 0.352567, 0.221777, 0.352567, 0.425287, 0.352567, 0.352567, 0.352567, 0.352567, 0.0418443, 0.352567, 0.224953, 0.0552439, 0.352567, 0.20594, 0.352567, 0.352567, 0.352567, 0.352567, 0.352567, 0.352567, 0.352567, 0.352567, 0.352567, 0.352567, 0.352567, 0.352567, 0.352567, 0.352567, 0.352567, 0.352567, 0.353864, 0.352567, 0.352567, 0.352567, 0.352567, 0.352567, 0.352567, 0.352567, 0.352567, 0.352567, 0.352567, 0.352567, 0.224953, 0.352567, 0.893754, 0.857388, 0.352567, 0.224953, 0.353864, 0.0348119, 0.0246398, 0.0923279, 0.0923279, 0.353864, 0.196135, 0.264265, 0.00789559, 0.352567, 0.0270558, 0.0476681, 0.323768, 0.314307, 0.0923279, 0.109248, 0.352567, 0.357368, 0.655102, 0.196135, 0.135341, 0.411613, 0.0483611, 0.931506, 0.352567, 0.404147, 0.256614, 0.196135, 0.251457, 0.913313, 0.219155]]), 'most_likely_positions_1D': None}),\n",
       " DynamicContainer({'p_x_given_n': array([[0.152384, 0.348908, 0.133275, 0.152384, 0.317575, 0.152384, 0.346085, 0.152384, 0.152384, 0.152384, 0.152384, 0.152384, 0.152384, 0.152384, 0.41419, 0.582863, 0.152384, 0.41419, 0.15381, 0.0457485, 0.152384, 0.386894, 0.152384, 0.351143, 0.34812, 0.406411, 0.902926, 0.729972],\n",
       "        [0.0981816, 0.385318, 0.774051, 0.0981816, 0.218182, 0.0981816, 0.492867, 0.0981816, 0.0981816, 0.0981816, 0.0981816, 0.0981816, 0.0981816, 0.0981816, 0.0533839, 6.62978e-06, 0.0981816, 0.0533839, 0.302647, 0.0130282, 0.0981816, 0.0589935, 0.0981816, 0.642001, 0.534186, 0.407396, 0.0422076, 0.0380331],\n",
       "        [0.396868, 0.173447, 0.0733576, 0.396868, 0.409, 0.396868, 0.0368541, 0.396868, 0.396868, 0.396868, 0.396868, 0.396868, 0.396868, 0.396868, 0.531386, 0.41713, 0.396868, 0.531386, 0.229236, 0.939892, 0.396868, 0.553836, 0.396868, 0.0027157, 0.0673526, 0.0651059, 0.054238, 0.23058],\n",
       "        [0.352567, 0.0923279, 0.0193167, 0.352567, 0.0552439, 0.352567, 0.124194, 0.352567, 0.352567, 0.352567, 0.352567, 0.352567, 0.352567, 0.352567, 0.00103921, 8.45892e-13, 0.352567, 0.00103921, 0.314307, 0.00133155, 0.352567, 0.000276819, 0.352567, 0.00414025, 0.0503418, 0.121087, 0.000628506, 0.00141482]]), 'most_likely_positions_1D': None}),\n",
       " DynamicContainer({'p_x_given_n': array([[0.709275, 0.152384, 0.25284, 0.638341, 0.152384, 0.346085, 0.346085, 0.712324, 0.318466, 0.625268, 0.152384, 0.317575, 0.516434, 0.235418, 0.315991, 0.204332, 0.152384, 0.152384, 0.682986, 0.625268, 0.152384, 0.446671, 0.439708, 0.34812, 0.493918, 0.667618, 0.495264, 0.731262, 0.152384, 0.20038, 0.121298, 0.379737, 0.281164, 0.0809274],\n",
       "        [0.161844, 0.0981816, 0.732961, 0.339089, 0.0981816, 0.492867, 0.492867, 0.190366, 0.353493, 0.333797, 0.0981816, 0.218182, 0.478308, 0.754492, 0.386393, 0.184737, 0.0981816, 0.0981816, 0.291326, 0.333797, 0.0981816, 0.475863, 0.516378, 0.534186, 0.434855, 0.246318, 0.0930876, 0.242303, 0.0981816, 0.72618, 0.872371, 0.619871, 0.717163, 0.906545],\n",
       "        [0.12774, 0.396868, 1.26141e-05, 0.0144181, 0.396868, 0.0368541, 0.0368541, 0.0954696, 0.0633849, 0.0341177, 0.396868, 0.409, 0.00353653, 0.00397802, 0.0916759, 0.605999, 0.396868, 0.396868, 0.0201186, 0.0341177, 0.396868, 0.0660058, 0.0220521, 0.0673526, 0.034161, 0.0768781, 0.410641, 0.0104854, 0.396868, 0.0182343, 0.000882542, 4.40356e-05, 0.00163979, 0.000455514],\n",
       "        [0.00114127, 0.352567, 0.0141866, 0.00815176, 0.352567, 0.124194, 0.124194, 0.00184046, 0.264656, 0.00681765, 0.352567, 0.0552439, 0.00172155, 0.00611244, 0.20594, 0.00493288, 0.352567, 0.352567, 0.00556964, 0.00681765, 0.352567, 0.0114607, 0.0218628, 0.0503418, 0.0370657, 0.00918621, 0.00100772, 0.015949, 0.352567, 0.0552054, 0.00544843, 0.000348253, 3.35954e-05, 0.0120721]]), 'most_likely_positions_1D': None}),\n",
       " DynamicContainer({'p_x_given_n': array([[0.0306053, 0.176439, 0.593523, 0.00723428, 0.234296, 0.146192, 0.152384, 0.342781, 0.152384, 0.0620768, 0.152384, 0.146192, 0.225007, 0.625268, 0.152384, 0.502885, 0.714704, 0.978573, 0.737922, 0.999993, 0.54753, 0.189628, 0.669827, 0.342781, 0.58532, 0.151972, 0.346085, 0.778472],\n",
       "        [0.968487, 0.823006, 0.401546, 0.992758, 0.748705, 0.288226, 0.0981816, 0.408651, 0.0981816, 0.602782, 0.0981816, 0.288226, 0.670159, 0.333797, 0.0981816, 0.460175, 0.198132, 0.0195796, 0.0661611, 6.12881e-06, 0.317152, 0.00758953, 0.271951, 0.408651, 0.396049, 0.258534, 0.492867, 0.185999],\n",
       "        [0.000788062, 0.000544152, 0.00401831, 7.18416e-06, 0.00693402, 0.211717, 0.396868, 0.0235145, 0.396868, 0.000320391, 0.396868, 0.211717, 0.0946292, 0.0341177, 0.396868, 0.0219523, 0.0800878, 0.000165243, 0.194695, 3.48383e-08, 0.133612, 0.802507, 0.0546633, 0.0235145, 0.0136548, 0.588552, 0.0368541, 0.0338257],\n",
       "        [0.000119477, 1.08404e-05, 0.000913628, 2.09834e-07, 0.0100645, 0.353864, 0.352567, 0.225054, 0.352567, 0.33482, 0.352567, 0.353864, 0.0102046, 0.00681765, 0.352567, 0.0149878, 0.00707608, 0.0016819, 0.00122118, 4.87165e-07, 0.00170596, 0.000275448, 0.0035593, 0.225054, 0.00497602, 0.000941085, 0.124194, 0.00170426]]), 'most_likely_positions_1D': None}),\n",
       " DynamicContainer({'p_x_given_n': array([[0.155646, 0.203482, 0.152384, 0.367591, 0.152384, 0.124822, 0.0744531, 0.152384, 0.152384, 0.442472, 0.152384, 0.152384, 0.152384, 0.317575, 0.43567, 0.152384, 0.346085, 0.766109, 0.152384, 0.353992, 0.828958, 0.152384, 0.665286, 0.625268, 0.502885, 0.502121, 0.766109, 0.59235, 0.220244, 0.247046, 0.346085, 0.299328, 0.0327015, 0.00815932, 0.0232539, 0.120602, 0.00451919, 0.000109876, 4.81829e-05, 0.000271817, 3.4534e-08, 0.00069663, 0.00566683, 0.0187205],\n",
       "        [0.82527, 0.530191, 0.0981816, 0.260036, 0.0981816, 0.851095, 0.913762, 0.0981816, 0.0981816, 0.272054, 0.0981816, 0.0981816, 0.0981816, 0.218182, 0.558565, 0.0981816, 0.492867, 0.102062, 0.0981816, 0.352659, 0.114037, 0.0981816, 0.312019, 0.333797, 0.460175, 0.365707, 0.102062, 0.260335, 0.759118, 0.231102, 0.492867, 0.693405, 0.963551, 0.991055, 0.976718, 0.879272, 0.995472, 0.99989, 0.999952, 0.999728, 1, 0.999303, 0.994328, 0.975197],\n",
       "        [0.00857397, 0.134366, 0.396868, 0.150596, 0.396868, 0.00409689, 0.000969863, 0.396868, 0.396868, 0.0912008, 0.396868, 0.396868, 0.396868, 0.409, 0.00281768, 0.396868, 0.0368541, 0.129024, 0.396868, 0.0972141, 0.0561589, 0.396868, 0.0191463, 0.0341177, 0.0219523, 0.0209311, 0.129024, 0.138822, 0.00835819, 0.302697, 0.0368541, 0.00549624, 0.000153428, 0.000737533, 2.65954e-05, 0.000118835, 8.08658e-06, 1.17336e-10, 2.4857e-11, 6.69808e-10, 1.34225e-15, 6.84552e-08, 4.80259e-06, 0.00514229],\n",
       "        [0.0105096, 0.13196, 0.352567, 0.221777, 0.352567, 0.0199865, 0.0108152, 0.352567, 0.352567, 0.194273, 0.352567, 0.352567, 0.352567, 0.0552439, 0.0029469, 0.352567, 0.124194, 0.00280466, 0.352567, 0.196135, 0.000846864, 0.352567, 0.003549, 0.00681765, 0.0149878, 0.111241, 0.00280466, 0.00849277, 0.0122791, 0.219155, 0.124194, 0.00177073, 0.00359443, 4.8196e-05, 1.34385e-06, 6.79963e-06, 1.09325e-06, 2.23342e-11, 5.51452e-11, 6.20599e-10, 3.10494e-15, 2.38942e-10, 2.20538e-08, 0.000940069]]), 'most_likely_positions_1D': None}),\n",
       " DynamicContainer({'p_x_given_n': array([[0.346085, 0.0580922, 0.299161, 0.152384, 0.152384, 0.346085, 0.129926, 0.0938887, 0.129926, 0.152384, 0.193107, 0.346085, 0.152384, 0.152384, 0.152384, 0.315991, 0.152384, 0.152384, 0.353992, 0.152384, 0.6789, 0.367591, 0.152384, 0.351143, 0.0720067, 0.152384, 0.487044, 0.152384, 0.152384, 0.719049, 0.342781, 0.342781, 0.734294, 0.401122, 0.309453, 0.690407, 0.17601, 0.669827, 0.152384, 0.102504, 0.309697, 0.14644, 0.333054, 0.872681, 0.206486, 0.0196586, 0.0511214, 0.0721767, 0.00151923, 6.49547e-06, 0.000201395, 0.000210227, 0.00142041, 7.988e-05, 0.029658, 0.0085588, 0.268804, 0.0945905, 4.24725e-05, 0.00905426, 0.0277411, 0.152384, 0.353992, 0.353992, 0.0810949, 0.011863, 0.00609491, 0.442472, 0.212605, 0.0414618, 0.367591, 0.00415789, 0.184548, 0.466446, 0.000400535, 0.109938, 0.000118955, 0.442472, 0.207949, 0.00439164, 0.00609491, 0.00609491, 0.0494634, 0.442472, 0.00341544, 0.367591],\n",
       "        [0.492867, 0.928561, 0.180677, 0.0981816, 0.0981816, 0.492867, 0.686146, 0.792029, 0.686146, 0.0981816, 0.539686, 0.492867, 0.0981816, 0.0981816, 0.0981816, 0.386393, 0.0981816, 0.0981816, 0.352659, 0.0981816, 0.12475, 0.260036, 0.0981816, 0.642001, 0.926626, 0.0981816, 0.452049, 0.0981816, 0.0981816, 0.220067, 0.408651, 0.408651, 0.171094, 0.58525, 0.558094, 0.219026, 0.719446, 0.271951, 0.0981816, 0.590958, 0.644928, 0.770094, 0.653769, 0.0683738, 0.743334, 0.980325, 0.948303, 0.91935, 0.998481, 0.999994, 0.999799, 0.99979, 0.99858, 0.99992, 0.96999, 0.991139, 0.388359, 0.743883, 0.999948, 0.982247, 0.968547, 0.0981816, 0.352659, 0.352659, 0.880599, 0.915652, 0.663357, 0.272054, 0.580364, 0.948229, 0.260036, 0.752693, 0.779682, 0.280386, 0.939876, 0.807855, 0.967242, 0.272054, 0.703617, 0.72764, 0.663357, 0.663357, 0.733468, 0.272054, 0.828022, 0.260036],\n",
       "        [0.0368541, 0.000422442, 0.189165, 0.396868, 0.396868, 0.0368541, 0.00270272, 0.00130837, 0.00270272, 0.396868, 0.00828453, 0.0368541, 0.396868, 0.396868, 0.396868, 0.0916759, 0.396868, 0.396868, 0.0972141, 0.396868, 0.175908, 0.150596, 0.396868, 0.0027157, 0.000322312, 0.396868, 0.00488304, 0.396868, 0.396868, 0.0576218, 0.0235145, 0.0235145, 0.0929909, 0.0111959, 0.0785134, 0.088809, 0.013086, 0.0546633, 0.396868, 0.00439743, 0.02191, 0.017527, 0.00686608, 0.0568547, 0.0345119, 1.47293e-05, 0.000401651, 0.00233351, 3.7045e-09, 2.87019e-10, 8.94053e-11, 1.34275e-09, 0, 8.71738e-12, 0.000339926, 0.000302041, 0.257381, 0.00179163, 3.56476e-09, 0.00375136, 0.00285928, 0.396868, 0.0972141, 0.0972141, 0.00202613, 0.0422284, 0.000555452, 0.0912008, 0.0909797, 0.00111911, 0.150596, 9.04307e-05, 0.0177787, 0.0640836, 3.64309e-05, 0.0140754, 0.000351684, 0.0912008, 0.0280717, 0.26387, 0.000555452, 0.000555452, 0.01037, 0.0912008, 1.82643e-05, 0.150596],\n",
       "        [0.124194, 0.0129247, 0.330997, 0.352567, 0.352567, 0.124194, 0.181226, 0.112773, 0.181226, 0.352567, 0.258922, 0.124194, 0.352567, 0.352567, 0.352567, 0.20594, 0.352567, 0.352567, 0.196135, 0.352567, 0.0204419, 0.221777, 0.352567, 0.00414025, 0.00104544, 0.352567, 0.0560245, 0.352567, 0.352567, 0.00326166, 0.225054, 0.225054, 0.00162081, 0.00243209, 0.0539393, 0.00175831, 0.091458, 0.0035593, 0.352567, 0.30214, 0.0234653, 0.0659395, 0.00631048, 0.00209032, 0.0156682, 1.3634e-06, 0.000173736, 0.0061398, 3.92468e-11, 1.22719e-09, 1.8819e-11, 1.4824e-12, 1.58536e-09, 4.30588e-16, 1.17231e-05, 3.9675e-08, 0.0854559, 0.159735, 9.77979e-06, 0.00494753, 0.000852445, 0.352567, 0.196135, 0.196135, 0.0362802, 0.0302568, 0.329993, 0.194273, 0.116052, 0.00918968, 0.221777, 0.243059, 0.0179908, 0.189084, 0.0596865, 0.0681307, 0.0322872, 0.194273, 0.0603618, 0.00409779, 0.329993, 0.329993, 0.206699, 0.194273, 0.168544, 0.221777]]), 'most_likely_positions_1D': None}),\n",
       " DynamicContainer({'p_x_given_n': array([[0.643685, 0.00585197, 0.506589, 0.277989, 0.0721767, 0.191295, 0.342781, 0.502885, 0.346085, 0.342781, 0.57383, 0.999389, 0.422827, 0.451107, 0.76934, 0.426066, 0.752723, 0.377805, 0.346085, 0.327736, 0.152384, 0.346085, 0.152384, 0.338548, 0.152384, 0.367591, 0.152384, 0.152384, 0.152384, 0.317575, 0.346085, 0.152384, 0.152384, 0.152384, 0.0305821, 0.258559, 0.152483, 0.152483, 0.0725657, 0.0293277, 0.316656],\n",
       "        [0.326003, 0.994148, 0.192142, 0.534882, 0.91935, 0.771012, 0.408651, 0.460175, 0.492867, 0.408651, 0.0635045, 5.79423e-05, 0.489897, 0.457798, 0.133716, 0.566599, 0.00750923, 0.61759, 0.492867, 0.591351, 0.0981816, 0.492867, 0.0981816, 0.140752, 0.0981816, 0.260036, 0.0981816, 0.0981816, 0.0981816, 0.218182, 0.492867, 0.0981816, 0.0981816, 0.0981816, 0.848971, 0.297044, 0.629119, 0.629119, 0.927272, 0.968741, 0.196465],\n",
       "        [0.0294008, 2.58935e-11, 0.293187, 0.0745066, 0.00233351, 0.0165161, 0.0235145, 0.0219523, 0.0368541, 0.0235145, 0.362523, 0.000540375, 0.0819914, 0.0861176, 0.0954498, 0.00310756, 0.239623, 0.00262588, 0.0368541, 0.00205811, 0.396868, 0.0368541, 0.396868, 0.515757, 0.396868, 0.150596, 0.396868, 0.396868, 0.396868, 0.409, 0.0368541, 0.396868, 0.396868, 0.396868, 0.000596166, 0.000308487, 0.000307016, 0.000307016, 1.9441e-14, 1.41867e-14, 0.42819],\n",
       "        [0.000910853, 1.72986e-15, 0.00808244, 0.112623, 0.0061398, 0.0211776, 0.225054, 0.0149878, 0.124194, 0.225054, 0.000142341, 1.30456e-05, 0.00528441, 0.00497758, 0.00149401, 0.0042271, 0.000144855, 0.00197894, 0.124194, 0.0788548, 0.352567, 0.124194, 0.352567, 0.00494239, 0.352567, 0.221777, 0.352567, 0.352567, 0.352567, 0.0552439, 0.124194, 0.352567, 0.352567, 0.352567, 0.11985, 0.444089, 0.218091, 0.218091, 0.00016268, 0.00193088, 0.0586891]]), 'most_likely_positions_1D': None}),\n",
       " DynamicContainer({'p_x_given_n': array([[0.28937, 0.338548, 0.317575, 0.133275, 1.1297e-06, 0.317575, 0.299161, 0.542793, 0.152384, 0.53179, 0.317575, 0.338548, 4.44369e-06, 0.299161, 0.315991, 0.248496, 0.0802193, 0.0234375, 0.00137837, 0.152384, 0.140223, 0.000200094, 0.248496, 0.28545],\n",
       "        [0.542943, 0.140752, 0.218182, 0.774051, 0.999939, 0.218182, 0.180677, 0.450553, 0.0981816, 0.38093, 0.218182, 0.140752, 0.996042, 0.180677, 0.386393, 0.612516, 0.839613, 0.655595, 0.262807, 0.0981816, 0.585803, 0.998954, 0.612516, 0.468166],\n",
       "        [0.167307, 0.515757, 0.409, 0.0733576, 0, 0.409, 0.189165, 0.00665344, 0.396868, 0.086812, 0.409, 0.515757, 0, 0.189165, 0.0916759, 0.0487444, 0.0557952, 0, 0, 0.396868, 0.15148, 0, 0.0487444, 0.092574],\n",
       "        [0.000379553, 0.00494239, 0.0552439, 0.0193167, 5.96335e-05, 0.0552439, 0.330997, 8.80638e-07, 0.352567, 0.000468174, 0.0552439, 0.00494239, 0.0039534, 0.330997, 0.20594, 0.0902438, 0.0243722, 0.320968, 0.735815, 0.352567, 0.122495, 0.000846347, 0.0902438, 0.15381]]), 'most_likely_positions_1D': None}),\n",
       " DynamicContainer({'p_x_given_n': array([[0.169047, 0.128793, 0.106257, 0, 0.178602, 0.336507, 0.152384, 0.15, 0.315991, 0.232052, 0.106257, 0.216905, 0.152384, 0.150387, 0, 0.315991],\n",
       "        [0.458018, 0.229239, 0.234568, 0.0104008, 0.544917, 0.521638, 0.0981816, 0.795658, 0.386393, 0.143128, 0.234568, 0.112331, 0.0981816, 0.138521, 0.00168185, 0.386393],\n",
       "        [0.230685, 0.155022, 0.187864, 0.291648, 0.16532, 0.117215, 0.396868, 0.0239086, 0.0916759, 0.229667, 0.187864, 0.0585311, 0.396868, 0.29199, 0.0757397, 0.0916759],\n",
       "        [0.14225, 0.486947, 0.471311, 0.697951, 0.111161, 0.0246398, 0.352567, 0.0304335, 0.20594, 0.395153, 0.471311, 0.612233, 0.352567, 0.419102, 0.922578, 0.20594]]), 'most_likely_positions_1D': None}),\n",
       " DynamicContainer({'p_x_given_n': array([[0.152384, 0.634895, 0.152384, 0.152384, 0.193993, 0.152384, 0.152384, 0.223007, 0.367591, 0.152384, 0.152384, 0.487044, 0.502885, 0.152384, 0.317575, 0.502121, 0.317575, 0.317575, 0.625268, 0.34812, 0.152384, 0.502121, 0.797764, 0.152384, 0.502689, 0.342781, 0.146192, 0.502885, 0.442472, 0.346085, 0.346085, 0.317197, 0.375138, 0.152384, 0.352786, 0.122021, 0.152384, 0.0103444, 0.000300231, 4.51906e-06, 0.000136407, 0.00168418, 3.36832e-05, 0.00730788, 0.00207808, 3.70555e-05, 0.00237021, 0.00235141, 0.0117834, 3.47627e-05, 0.157652, 0.152384, 0.126647, 0.152384, 0.353992, 0.212605, 0.367591, 0.299875, 0.0483582, 0.433708, 0.152384, 0.00380476, 2.11117e-07, 0.152384, 0.00197172, 0.00161617, 0.367591, 0.367591, 0.152384, 5.39304e-05, 0.152384, 6.33806e-05, 0.0242958, 0.00341544, 0.0459264, 0.41419, 0.433708, 0.783303, 0.000161681, 0.442472],\n",
       "        [0.0981816, 0.334977, 0.0981816, 0.0981816, 0.247898, 0.0981816, 0.0981816, 0.721278, 0.260036, 0.0981816, 0.0981816, 0.452049, 0.460175, 0.0981816, 0.218182, 0.365707, 0.218182, 0.218182, 0.333797, 0.534186, 0.0981816, 0.365707, 0.117492, 0.0981816, 0.39354, 0.408651, 0.288226, 0.460175, 0.272054, 0.492867, 0.492867, 0.5682, 0.587985, 0.0981816, 0.616342, 0.86734, 0.0981816, 0.989655, 0.9997, 0.999995, 0.999864, 0.998259, 0.999966, 0.992692, 0.997922, 0.999963, 0.99763, 0.99743, 0.988216, 0.999933, 0.553848, 0.0981816, 0.850925, 0.0981816, 0.352659, 0.580364, 0.260036, 0.540725, 0.945074, 0.411246, 0.0981816, 0.941366, 0.996744, 0.0981816, 0.840503, 0.977087, 0.260036, 0.260036, 0.0981816, 0.999946, 0.0981816, 0.936411, 0.553752, 0.828022, 0.807815, 0.0533839, 0.411246, 0.214512, 0.897919, 0.272054],\n",
       "        [0.396868, 0.0114511, 0.396868, 0.396868, 0.0612156, 0.396868, 0.396868, 0.013871, 0.150596, 0.396868, 0.396868, 0.00488304, 0.0219523, 0.396868, 0.409, 0.0209311, 0.409, 0.409, 0.0341177, 0.0673526, 0.396868, 0.0209311, 0.0842783, 0.396868, 0.100662, 0.0235145, 0.211717, 0.0219523, 0.0912008, 0.0368541, 0.0368541, 0.0431855, 0.0236027, 0.396868, 0.0204532, 0.00637896, 0.396868, 9.62108e-07, 1.52717e-10, 8.56196e-14, 1.9953e-13, 1.96041e-06, 1.9522e-12, 5.4099e-07, 1.61052e-09, 0, 6.29116e-08, 7.07363e-06, 8.44718e-07, 9.03991e-09, 0.153159, 0.396868, 0.00676452, 0.396868, 0.0972141, 0.0909797, 0.150596, 0.0420159, 0.000447991, 0.0796609, 0.396868, 0.00211821, 2.18687e-05, 0.396868, 0.00118646, 1.40408e-13, 0.150596, 0.150596, 0.396868, 3.40146e-35, 0.396868, 3.74729e-05, 0.00646848, 1.82643e-05, 0.000107747, 0.531386, 0.0796609, 0.00147879, 0.000195687, 0.0912008],\n",
       "        [0.352567, 0.0186773, 0.352567, 0.352567, 0.496893, 0.352567, 0.352567, 0.0418443, 0.221777, 0.352567, 0.352567, 0.0560245, 0.0149878, 0.352567, 0.0552439, 0.111241, 0.0552439, 0.0552439, 0.00681765, 0.0503418, 0.352567, 0.111241, 0.000465802, 0.352567, 0.0031092, 0.225054, 0.353864, 0.0149878, 0.194273, 0.124194, 0.124194, 0.0714182, 0.0132745, 0.352567, 0.0104189, 0.00426011, 0.352567, 8.44338e-08, 2.10522e-10, 1.3719e-12, 1.15581e-20, 5.51811e-05, 1.48586e-13, 3.41541e-08, 4.99549e-10, 5.83145e-18, 1.57982e-10, 0.000211828, 2.71586e-09, 3.20991e-05, 0.135341, 0.352567, 0.0156628, 0.352567, 0.196135, 0.116052, 0.221777, 0.117385, 0.00611935, 0.075385, 0.352567, 0.0527115, 0.00323401, 0.352567, 0.156339, 0.0212973, 0.221777, 0.221777, 0.352567, 2.80058e-07, 0.352567, 0.063488, 0.415483, 0.168544, 0.146151, 0.00103921, 0.075385, 0.000706829, 0.101724, 0.194273]]), 'most_likely_positions_1D': None}),\n",
       " DynamicContainer({'p_x_given_n': array([[0.347421, 0.0427696, 0.000787686, 0.04322, 0.0675276, 0.639466, 0.0352746, 0.491111, 0.229501, 0.0444341, 0.223007, 0.152384, 0.669827, 0.79701, 0.342781, 0.614794, 0.842295, 0.749572, 0.686201, 0.845204, 0.367591, 0.61481, 0.714704, 0.346085, 0.389836, 0.152384, 0.346085],\n",
       "        [0.649985, 0.434227, 0.992372, 0.95678, 0.932458, 0.359188, 0.963829, 0.508888, 0.440747, 0.954134, 0.721278, 0.0981816, 0.271951, 0.166488, 0.408651, 0.023676, 0.0663608, 0.0991112, 0.266631, 0.084791, 0.260036, 0.271046, 0.198132, 0.492867, 0.284476, 0.0981816, 0.492867],\n",
       "        [0.00200648, 0.0472907, 1.51586e-06, 0, 1.38281e-05, 0.00134615, 6.73585e-05, 1.20376e-06, 0.295149, 0.000210795, 0.013871, 0.396868, 0.0546633, 0.0348913, 0.0235145, 0.361331, 0.09095, 0.150614, 0.0300718, 0.0684416, 0.150596, 0.0947925, 0.0800878, 0.0368541, 0.0396988, 0.396868, 0.0368541],\n",
       "        [0.000587731, 0.475712, 0.00683912, 5.01901e-10, 7.98323e-08, 1.89061e-07, 0.000828554, 6.1733e-09, 0.0346027, 0.00122108, 0.0418443, 0.352567, 0.0035593, 0.00161047, 0.225054, 0.000199117, 0.000394293, 0.000702418, 0.0170964, 0.00156305, 0.221777, 0.0193513, 0.00707608, 0.124194, 0.285989, 0.352567, 0.124194]]), 'most_likely_positions_1D': None}),\n",
       " DynamicContainer({'p_x_given_n': array([[0.268804, 0.129926, 0.212605, 0.152384, 0.346085, 0.346085, 0.152384, 0.367591, 0.367591, 0.475783, 0.152384, 0.261921, 0.566123, 0.502885, 0.317575, 0.633404, 0.342781, 0.342781, 0.625268, 0.152384, 0.152384, 0.43567, 0.437477, 0.152384, 0.58532, 0.146192, 0.845204, 0.346085, 0.342781, 0.207949, 0.502121, 0.502121, 0.714704, 0.493918, 0.342781, 0.0795538, 0.0321064, 0.152384, 0.152384, 0.152384, 0.379931, 0.0795538, 0.423849, 0.223595, 0.00434897, 0.3873, 0.0315467, 0.122021, 0.00137451, 9.77331e-05, 1.54107e-05, 5.8825e-05, 0.00153274, 0.000159897, 0.00355005, 0.000569549, 0.00614229, 0.248496, 0.025201, 0.00927377, 0.0802193, 0.0427696, 0.353992, 0.353992, 0.212605, 0.367591, 0.299875, 0.207949, 0.466446, 0.00341544, 0.442472, 0.00197172, 0.00197172, 0.367591, 0.367591, 0.152384, 0.152384, 0.367591, 0.299875, 0.152384, 0.152384, 0.186615, 0.0494634, 0.0242958, 0.000205512, 0.00415789, 0.442472, 0.152384, 0.152384, 0.00609491, 0.108484, 0.0427549, 0.00180334, 0.000347741, 0.234342, 0.354561, 0.0242958, 0.00197172],\n",
       "        [0.388359, 0.686146, 0.580364, 0.0981816, 0.492867, 0.492867, 0.0981816, 0.260036, 0.260036, 0.401242, 0.0981816, 0.266974, 0.394572, 0.460175, 0.218182, 0.160048, 0.408651, 0.408651, 0.333797, 0.0981816, 0.0981816, 0.558565, 0.490744, 0.0981816, 0.396049, 0.288226, 0.084791, 0.492867, 0.408651, 0.703617, 0.365707, 0.365707, 0.198132, 0.434855, 0.408651, 0.780931, 0.00183981, 0.0981816, 0.0981816, 0.0981816, 0.450663, 0.780931, 0.567206, 0.776195, 0.99565, 0.315298, 0.968414, 0.86734, 0.998625, 0.999902, 0.999985, 0.999941, 0.998467, 0.99984, 0.996442, 0.999353, 0.993709, 0.612516, 0.887055, 0.895673, 0.839613, 0.434227, 0.352659, 0.352659, 0.580364, 0.260036, 0.540725, 0.703617, 0.280386, 0.828022, 0.272054, 0.840503, 0.840503, 0.260036, 0.260036, 0.0981816, 0.0981816, 0.260036, 0.540725, 0.0981816, 0.0981816, 0.598309, 0.733468, 0.553752, 0.989912, 0.752693, 0.272054, 0.0981816, 0.0981816, 0.663357, 0.826424, 0.843605, 0.954413, 0.996059, 0.489752, 0.643262, 0.553752, 0.840503],\n",
       "        [0.257381, 0.00270272, 0.0909797, 0.396868, 0.0368541, 0.0368541, 0.396868, 0.150596, 0.150596, 0.0841368, 0.396868, 0.378483, 0.0314551, 0.0219523, 0.409, 0.00438373, 0.0235145, 0.0235145, 0.0341177, 0.396868, 0.396868, 0.00281768, 0.0600498, 0.396868, 0.0136548, 0.211717, 0.0684416, 0.0368541, 0.0235145, 0.0280717, 0.0209311, 0.0209311, 0.0800878, 0.034161, 0.0235145, 0.00536194, 0.966028, 0.396868, 0.396868, 0.396868, 0.127012, 0.00536194, 0.00760294, 7.30808e-05, 8.55991e-08, 0.261139, 3.47203e-05, 0.00637896, 2.52051e-08, 6.89075e-09, 1.26373e-13, 0, 1.2095e-08, 0, 7.61912e-06, 1.12854e-06, 2.11655e-05, 0.0487444, 0.0177293, 0.00012828, 0.0557952, 0.0472907, 0.0972141, 0.0972141, 0.0909797, 0.150596, 0.0420159, 0.0280717, 0.0640836, 1.82643e-05, 0.0912008, 0.00118646, 0.00118646, 0.150596, 0.150596, 0.396868, 0.396868, 0.150596, 0.0420159, 0.396868, 0.396868, 0.011324, 0.01037, 0.00646848, 0.000600192, 9.04307e-05, 0.0912008, 0.396868, 0.396868, 0.000555452, 0.00376545, 0.0585883, 1.88292e-07, 0.00101429, 0.0309543, 2.48355e-07, 0.00646848, 0.00118646],\n",
       "        [0.0854559, 0.181226, 0.116052, 0.352567, 0.124194, 0.124194, 0.352567, 0.221777, 0.221777, 0.0388379, 0.352567, 0.0926217, 0.00785071, 0.0149878, 0.0552439, 0.202165, 0.225054, 0.225054, 0.00681765, 0.352567, 0.352567, 0.0029469, 0.0117295, 0.352567, 0.00497602, 0.353864, 0.00156305, 0.124194, 0.225054, 0.0603618, 0.111241, 0.111241, 0.00707608, 0.0370657, 0.225054, 0.134153, 2.56924e-05, 0.352567, 0.352567, 0.352567, 0.0423941, 0.134153, 0.00134112, 0.000137189, 5.71497e-07, 0.0362635, 4.93181e-06, 0.00426011, 1.98286e-08, 3.24853e-10, 1.18537e-16, 2.43213e-11, 6.11147e-10, 4.95434e-14, 7.03155e-09, 7.63472e-05, 0.000127747, 0.0902438, 0.070015, 0.0949252, 0.0243722, 0.475712, 0.196135, 0.196135, 0.116052, 0.221777, 0.117385, 0.0603618, 0.189084, 0.168544, 0.194273, 0.156339, 0.156339, 0.221777, 0.221777, 0.352567, 0.352567, 0.221777, 0.117385, 0.352567, 0.352567, 0.203752, 0.206699, 0.415483, 0.00928229, 0.243059, 0.194273, 0.352567, 0.352567, 0.329993, 0.0613267, 0.0550513, 0.0437835, 0.00257868, 0.244952, 0.00217603, 0.415483, 0.156339]]), 'most_likely_positions_1D': None}),\n",
       " DynamicContainer({'p_x_given_n': array([[0.152384, 0.152384, 0.476916, 0.152384, 0.436448, 0.152384, 0.493918, 0.502121, 0.152384, 0.315991, 0.152384, 0.152384, 0.152384, 0.41419, 0.152384, 0.744269, 0.744269, 0.342781, 0.60002, 0.496215, 0.152384, 0.426749, 0.367591, 0.545685, 0.617059, 0.86729, 0.430775, 0.367591, 0.390676, 0.342781, 0.32345, 0.247046, 0.31918, 0.97355, 0.152384, 0.204342, 0.152384, 0.152384, 0.315991, 0.353992, 0.152384, 0.374491, 0.00415789, 0.530106, 0.892688],\n",
       "        [0.0981816, 0.0981816, 0.514818, 0.0981816, 0.169105, 0.0981816, 0.434855, 0.365707, 0.0981816, 0.386393, 0.0981816, 0.0981816, 0.0981816, 0.0533839, 0.0981816, 0.174854, 0.174854, 0.408651, 0.206323, 0.411461, 0.0981816, 0.512074, 0.260036, 0.172285, 0.315101, 0.0385602, 0.546375, 0.260036, 0.486976, 0.408651, 0.177349, 0.231102, 0.315962, 0.00531685, 0.0981816, 0.254094, 0.0981816, 0.0981816, 0.386393, 0.352659, 0.0981816, 0.165058, 0.752693, 0.222387, 0.0952355],\n",
       "        [0.396868, 0.396868, 1.77712e-06, 0.396868, 0.265201, 0.396868, 0.034161, 0.0209311, 0.396868, 0.0916759, 0.396868, 0.396868, 0.396868, 0.531386, 0.396868, 0.0582742, 0.0582742, 0.0235145, 0.192836, 0.0533211, 0.396868, 0.0491644, 0.150596, 0.234942, 0.0445832, 0.0935022, 0.0137496, 0.150596, 0.114324, 0.0235145, 0.172436, 0.302697, 0.339824, 0.00208929, 0.396868, 0.235755, 0.396868, 0.396868, 0.0916759, 0.0972141, 0.396868, 0.151704, 9.04307e-05, 0.0380387, 0.0114606],\n",
       "        [0.352567, 0.352567, 0.00826449, 0.352567, 0.129246, 0.352567, 0.0370657, 0.111241, 0.352567, 0.20594, 0.352567, 0.352567, 0.352567, 0.00103921, 0.352567, 0.0226022, 0.0226022, 0.225054, 0.000821828, 0.0390025, 0.352567, 0.0120129, 0.221777, 0.0470884, 0.0232562, 0.000647377, 0.00910033, 0.221777, 0.00802382, 0.225054, 0.326764, 0.219155, 0.025034, 0.0190444, 0.352567, 0.305809, 0.352567, 0.352567, 0.20594, 0.196135, 0.352567, 0.308747, 0.243059, 0.209468, 0.000616364]]), 'most_likely_positions_1D': None}),\n",
       " DynamicContainer({'p_x_given_n': array([[0.152384, 0.152384, 0.152384, 0.15868, 0.152384, 0.442472, 0.442472, 0.152384, 0.442472, 0.367591, 0.564333, 0.152384, 0.152384, 0.152384, 0.152384, 0.00609491],\n",
       "        [0.0981816, 0.0981816, 0.0981816, 0.524836, 0.0981816, 0.272054, 0.272054, 0.0981816, 0.272054, 0.260036, 0.43378, 0.0981816, 0.0981816, 0.0981816, 0.0981816, 0.663357],\n",
       "        [0.396868, 0.396868, 0.396868, 0.0182743, 0.396868, 0.0912008, 0.0912008, 0.396868, 0.0912008, 0.150596, 0, 0.396868, 0.396868, 0.396868, 0.396868, 0.000555452],\n",
       "        [0.352567, 0.352567, 0.352567, 0.298209, 0.352567, 0.194273, 0.194273, 0.352567, 0.194273, 0.221777, 0.00188704, 0.352567, 0.352567, 0.352567, 0.352567, 0.329993]]), 'most_likely_positions_1D': None}),\n",
       " DynamicContainer({'p_x_given_n': array([[0.133275, 0.00609491, 0.0242958, 0.133275, 0.000161681, 0.00341544, 0.00161617, 0.0242958, 0.152384, 0.00609491, 0.400526, 0.190889, 0.0317628, 0.152384, 0.193107, 0.0298015, 0.193107, 0.367591, 0.193107, 0.0275507],\n",
       "        [0.774051, 0.663357, 0.553752, 0.774051, 0.897919, 0.828022, 0.977087, 0.553752, 0.0981816, 0.663357, 0.564001, 0.726015, 0.966908, 0.0981816, 0.539686, 0.877238, 0.539686, 0.260036, 0.539686, 0.956085],\n",
       "        [0.0733576, 0.000555452, 0.00646848, 0.0733576, 0.000195687, 1.82643e-05, 1.40408e-13, 0.00646848, 0.396868, 0.000555452, 0.0354587, 0.0802282, 1.25555e-13, 0.396868, 0.00828453, 0.0148205, 0.00828453, 0.150596, 0.00828453, 0.00494954],\n",
       "        [0.0193167, 0.329993, 0.415483, 0.0193167, 0.101724, 0.168544, 0.0212973, 0.415483, 0.352567, 0.329993, 1.46481e-05, 0.00286818, 0.00132896, 0.352567, 0.258922, 0.0781399, 0.258922, 0.221777, 0.258922, 0.0114145]]), 'most_likely_positions_1D': None}),\n",
       " DynamicContainer({'p_x_given_n': array([[0.721277, 0.625268, 0.152384, 0.493918, 0.152384, 0.502121, 0.346085, 0.152384, 0.762391, 0.152384, 0.388265, 0.0629875, 0.204342, 0.00675051, 0.0228763, 5.67055e-06, 7.26899e-05, 0.0202368, 0.000639512, 0.00293697, 0.00170697, 0.000456722, 0.0249242, 0.0011083, 0.0271324, 0.152384, 0.353992, 0.133067, 0.207949, 0.152384, 0.152384, 0.00380476, 0.00706004, 0.0494634, 0.152384, 0.000161681, 0.00341544, 0.152384, 0.442472, 0.367591, 0.0427549, 0.152384, 0.161228, 0.0138079, 0.00197172, 0.152384],\n",
       "        [0.0316146, 0.333797, 0.0981816, 0.434855, 0.0981816, 0.365707, 0.492867, 0.0981816, 0.213445, 0.0981816, 0.2267, 0.936877, 0.254094, 0.993189, 0.976914, 0.999994, 0.999927, 0.979588, 0.99936, 0.997063, 0.998293, 0.999535, 0.818084, 0.996364, 0.949115, 0.0981816, 0.352659, 0.801202, 0.703617, 0.0981816, 0.0981816, 0.941366, 0.974004, 0.733468, 0.0981816, 0.897919, 0.828022, 0.0981816, 0.272054, 0.260036, 0.843605, 0.0981816, 0.798923, 0.650235, 0.840503, 0.0981816],\n",
       "        [0.246396, 0.0341177, 0.396868, 0.034161, 0.396868, 0.0209311, 0.0368541, 0.396868, 0.0191624, 0.396868, 0.223422, 7.17166e-05, 0.235755, 6.38329e-06, 5.93163e-05, 0, 3.28998e-08, 0.000120133, 2.3367e-08, 2.03121e-07, 2.64003e-09, 7.72211e-08, 0.000584968, 3.02829e-06, 0.0161243, 0.396868, 0.0972141, 0.0256907, 0.0280717, 0.396868, 0.396868, 0.00211821, 0.00355344, 0.01037, 0.396868, 0.000195687, 1.82643e-05, 0.396868, 0.0912008, 0.150596, 0.0585883, 0.396868, 0.0261416, 0.00013138, 0.00118646, 0.396868],\n",
       "        [0.000713213, 0.00681765, 0.352567, 0.0370657, 0.352567, 0.111241, 0.124194, 0.352567, 0.00500229, 0.352567, 0.161614, 6.33696e-05, 0.305809, 5.39266e-05, 0.000150621, 2.32226e-12, 1.71997e-08, 5.53573e-05, 2.83297e-09, 3.88919e-08, 1.11407e-12, 7.91274e-06, 0.156407, 0.00252457, 0.00762868, 0.352567, 0.196135, 0.0400403, 0.0603618, 0.352567, 0.352567, 0.0527115, 0.0153821, 0.206699, 0.352567, 0.101724, 0.168544, 0.352567, 0.194273, 0.221777, 0.0550513, 0.352567, 0.0137076, 0.335826, 0.156339, 0.352567]]), 'most_likely_positions_1D': None}),\n",
       " DynamicContainer({'p_x_given_n': array([[0.430775, 0.493918, 0.618086, 0.625268, 0.705282, 0.423507, 0.502121, 0.393495, 0.572965, 0.669827, 0.475783, 0.855675, 0.327736, 0.225888, 0.473453, 0.152384, 0.152384, 0.45717, 0.706753, 0.152384, 0.152384, 0.367591, 0.152384, 0.377134, 0.338548, 0.152384],\n",
       "        [0.546375, 0.434855, 0.0273016, 0.333797, 0.0636014, 0.492834, 0.365707, 0.377269, 0.00677054, 0.271951, 0.401242, 0.115485, 0.591351, 0.528728, 0.485484, 0.0981816, 0.0981816, 0.178308, 0.259829, 0.0981816, 0.0981816, 0.260036, 0.0981816, 0.622781, 0.140752, 0.0981816],\n",
       "        [0.0137496, 0.034161, 0.353846, 0.0341177, 0.229108, 0.0822335, 0.0209311, 0.0949327, 0.420078, 0.0546633, 0.0841368, 0.0274383, 0.00205811, 0.238399, 0.00844118, 0.396868, 0.396868, 0.331671, 0.0294065, 0.396868, 0.396868, 0.150596, 0.396868, 7.92752e-06, 0.515757, 0.396868],\n",
       "        [0.00910033, 0.0370657, 0.000766226, 0.00681765, 0.00200876, 0.00142529, 0.111241, 0.134303, 0.000186273, 0.0035593, 0.0388379, 0.00140173, 0.0788548, 0.00698532, 0.0326215, 0.352567, 0.352567, 0.0328513, 0.00401123, 0.352567, 0.352567, 0.221777, 0.352567, 7.69272e-05, 0.00494239, 0.352567]]), 'most_likely_positions_1D': None}),\n",
       " DynamicContainer({'p_x_given_n': array([[0.152384, 0.152384, 0.272358, 0.028468, 0.0241789, 0.152384, 0.152384, 0.152384, 0.621554, 0.338347, 0.367591, 0.351664, 0.191021, 0.367591, 0.347994, 0.152384, 0.152384, 0.346085, 0.367591, 0.247492, 0.466446, 0.466446, 0.367591, 0.25488, 0.152384, 0.502885, 0.152384, 0.249767, 0.34812, 0.152384, 0.31573, 0.342781, 0.152384, 0.350021, 0.736694, 0.502121, 0.502121, 0.152384, 0.146192, 0.152384, 0.58532, 0.152384, 0.318289, 0.342781, 0.342781, 0.152384, 0.152384, 0.112138, 0.152384, 0.191829, 0.223007, 0.191295, 0.0165829, 0.00414987, 0.0226492, 0.00216229, 1.10787e-06, 0.128338, 0.00206457, 0.0158692, 3.09998e-05, 5.57974e-06, 0.0194666, 3.5513e-05, 0.00519511, 0.0638928, 0.418144, 0.248496, 0.207949, 0.212605, 0.299875, 0.353992, 0.00197172, 0.367591, 0.000118955, 0.0242958, 0.0494634, 0.00197172, 0.00282514, 0.152384, 0.324638, 0.299875, 0.00341544, 0.152384, 0.00609491, 0.00609491, 0.00415789, 0.0232708, 0.0074245, 0.152384, 6.33806e-05, 0.152384, 0.152384, 0.720612, 0.353992, 0.341212],\n",
       "        [0.0981816, 0.0981816, 0.246323, 0.955467, 0.936525, 0.0981816, 0.0981816, 0.0981816, 0.219154, 0.51951, 0.260036, 0.454542, 0.657484, 0.260036, 0.56397, 0.0981816, 0.0981816, 0.492867, 0.260036, 0.518211, 0.280386, 0.280386, 0.260036, 0.503945, 0.0981816, 0.460175, 0.0981816, 0.666253, 0.534186, 0.0981816, 0.625669, 0.408651, 0.0981816, 0.605487, 0.1334, 0.365707, 0.365707, 0.0981816, 0.288226, 0.0981816, 0.396049, 0.0981816, 0.405545, 0.408651, 0.408651, 0.0981816, 0.0981816, 0.862434, 0.0981816, 0.799111, 0.721278, 0.771012, 0.983397, 0.99585, 0.977272, 0.997838, 0.999999, 0.870918, 0.997935, 0.984131, 0.999969, 0.999994, 0.980429, 0.999964, 0.992292, 0.622198, 0.342003, 0.612516, 0.703617, 0.580364, 0.540725, 0.352659, 0.840503, 0.260036, 0.967242, 0.553752, 0.733468, 0.840503, 0.885946, 0.0981816, 0.521912, 0.540725, 0.828022, 0.0981816, 0.663357, 0.663357, 0.752693, 0.90896, 0.935293, 0.0981816, 0.936411, 0.0981816, 0.0981816, 0.245254, 0.352659, 0.155069],\n",
       "        [0.396868, 0.396868, 0.109773, 0.00219158, 0.0010044, 0.396868, 0.396868, 0.396868, 0.135696, 0.00432189, 0.150596, 0.170988, 0.00966767, 0.150596, 0.00241374, 0.396868, 0.396868, 0.0368541, 0.150596, 0.158359, 0.0640836, 0.0640836, 0.150596, 0.215966, 0.396868, 0.0219523, 0.396868, 0.0277983, 0.0673526, 0.396868, 0.0230971, 0.0235145, 0.396868, 0.0243282, 0.126652, 0.0209311, 0.0209311, 0.396868, 0.211717, 0.396868, 0.0136548, 0.396868, 0.218321, 0.0235145, 0.0235145, 0.396868, 0.396868, 0.00849798, 0.396868, 6.9699e-05, 0.013871, 0.0165161, 7.08122e-06, 2.08855e-07, 6.16157e-05, 2.34557e-08, 3.94911e-10, 0.000526154, 2.41623e-11, 0, 0, 2.1759e-13, 0.000103166, 6.82626e-09, 4.45635e-05, 0.0026705, 0.0212808, 0.0487444, 0.0280717, 0.0909797, 0.0420159, 0.0972141, 0.00118646, 0.150596, 0.000351684, 0.00646848, 0.01037, 0.00118646, 3.93239e-06, 0.396868, 0.0791557, 0.0420159, 1.82643e-05, 0.396868, 0.000555452, 0.000555452, 9.04307e-05, 0.000618906, 3.38731e-14, 0.396868, 3.74729e-05, 0.396868, 0.396868, 0.033941, 0.0972141, 0.0183348],\n",
       "        [0.352567, 0.352567, 0.371546, 0.013873, 0.0382913, 0.352567, 0.352567, 0.352567, 0.0235964, 0.137821, 0.221777, 0.0228058, 0.141828, 0.221777, 0.0856224, 0.352567, 0.352567, 0.124194, 0.221777, 0.0759372, 0.189084, 0.189084, 0.221777, 0.0252085, 0.352567, 0.0149878, 0.352567, 0.0561819, 0.0503418, 0.352567, 0.0355046, 0.225054, 0.352567, 0.0201634, 0.00325401, 0.111241, 0.111241, 0.352567, 0.353864, 0.352567, 0.00497602, 0.352567, 0.0578446, 0.225054, 0.225054, 0.352567, 0.352567, 0.0169296, 0.352567, 0.00899048, 0.0418443, 0.0211776, 1.32432e-05, 3.30453e-07, 1.76243e-05, 8.30194e-10, 3.54577e-10, 0.000218382, 1.53114e-12, 5.36826e-10, 5.90703e-17, 3.27434e-13, 1.55448e-06, 2.03829e-12, 0.0024686, 0.311238, 0.218572, 0.0902438, 0.0603618, 0.116052, 0.117385, 0.196135, 0.156339, 0.221777, 0.0322872, 0.415483, 0.206699, 0.156339, 0.111225, 0.352567, 0.0742938, 0.117385, 0.168544, 0.352567, 0.329993, 0.329993, 0.243059, 0.0671502, 0.0572821, 0.352567, 0.063488, 0.352567, 0.352567, 0.000192764, 0.196135, 0.485384]]), 'most_likely_positions_1D': None}),\n",
       " DynamicContainer({'p_x_given_n': array([[0.997677, 0.642993, 0.688571, 0.477213, 0.493918, 0.714704, 0.342781, 0.701494, 0.992613, 0.466446, 0.737922, 0.714704, 0.34812, 0.815178, 0.476403, 0.493918, 0.421675, 0.530106, 0.247046, 0.347994, 0.152384, 0.768502, 0.142619, 0.493918, 0.347994, 0.139789, 0.247046, 0.152384, 0.152384, 0.367591, 0.367591, 0.367591, 0.367591, 0.152384, 0.152384, 0.367591, 0.152384, 0.152384, 0.152384, 0.152384, 0.315991, 0.152384, 0.14273, 0.992572, 0.989481, 0.971498, 0.11839, 0.0971421, 0.389533, 0.698739, 0.509718, 0.34812, 0.47286, 0.317575, 0.759406, 0.348442, 0.41419, 0.698739, 0.470558, 0.00341544, 0.795492, 0.152384, 0.44882, 0.110121, 0.698739, 0.346085, 0.41419, 0.00415789, 0.223007, 0.152384, 0.189334, 0.152384, 0.152384],\n",
       "        [0.000668765, 0.295551, 0.151361, 0.353467, 0.434855, 0.198132, 0.408651, 0.261121, 0.00738673, 0.280386, 0.0661611, 0.198132, 0.534186, 0.0156042, 0.0763793, 0.434855, 0.363558, 0.222387, 0.231102, 0.56397, 0.0981816, 0.225956, 0.257083, 0.434855, 0.56397, 0.342803, 0.231102, 0.0981816, 0.0981816, 0.260036, 0.260036, 0.260036, 0.260036, 0.0981816, 0.0981816, 0.260036, 0.0981816, 0.0981816, 0.0981816, 0.0981816, 0.386393, 0.0981816, 0.813913, 0.00517426, 0.00905138, 0.0280724, 0.00441004, 0.90186, 0.0747876, 0.29227, 0.0032678, 0.534186, 0.0123982, 0.218182, 0.113247, 0.121463, 0.0533839, 0.29227, 0.462784, 0.828022, 0.203418, 0.0981816, 0.034555, 0.820004, 0.29227, 0.492867, 0.0533839, 0.752693, 0.721278, 0.0981816, 0.755181, 0.0981816, 0.0981816],\n",
       "        [0.000905117, 0.0480513, 0.152604, 0.165678, 0.034161, 0.0800878, 0.0235145, 0.0302618, 0, 0.0640836, 0.194695, 0.0800878, 0.0673526, 0.168854, 0.435921, 0.034161, 0.152463, 0.0380387, 0.302697, 0.00241374, 0.396868, 0, 0.345789, 0.034161, 0.00241374, 0.33676, 0.302697, 0.396868, 0.396868, 0.150596, 0.150596, 0.150596, 0.150596, 0.396868, 0.396868, 0.150596, 0.396868, 0.396868, 0.396868, 0.396868, 0.0916759, 0.396868, 0.00110089, 7.11764e-06, 1.16557e-07, 7.70519e-08, 0.877175, 0.000130486, 0.535534, 0.00615623, 0.487014, 0.0673526, 0.514741, 0.409, 0.127335, 0.529501, 0.531386, 0.00615623, 0.0270523, 1.82643e-05, 0.000902949, 0.396868, 0.516613, 9.36472e-25, 0.00615623, 0.0368541, 0.531386, 9.04307e-05, 0.013871, 0.396868, 0.0187956, 0.396868, 0.396868],\n",
       "        [0.000749496, 0.0134044, 0.00746379, 0.00364228, 0.0370657, 0.00707608, 0.225054, 0.00712312, 1.40609e-08, 0.189084, 0.00122118, 0.00707608, 0.0503418, 0.000363251, 0.0112966, 0.0370657, 0.0623034, 0.209468, 0.219155, 0.0856224, 0.352567, 0.00554191, 0.254509, 0.0370657, 0.0856224, 0.180647, 0.219155, 0.352567, 0.352567, 0.221777, 0.221777, 0.221777, 0.221777, 0.352567, 0.352567, 0.221777, 0.352567, 0.352567, 0.352567, 0.352567, 0.20594, 0.352567, 0.0422565, 0.00224649, 0.00146784, 0.000429857, 2.47034e-05, 0.000867778, 0.000145662, 0.00283485, 1.4398e-08, 0.0503418, 3.61798e-07, 0.0552439, 1.1085e-05, 0.000594741, 0.00103921, 0.00283485, 0.0396049, 0.168544, 0.000186655, 0.352567, 1.19721e-05, 0.069875, 0.00283485, 0.124194, 0.00103921, 0.243059, 0.0418443, 0.352567, 0.0366892, 0.352567, 0.352567]]), 'most_likely_positions_1D': None}),\n",
       " DynamicContainer({'p_x_given_n': array([[0.7886, 0.367591, 0.00609491, 0.335035, 0.32345, 0.464591, 0.132527, 0.152384, 0.152384, 0.248496, 0.367591, 0.291555, 0.14273, 0.367591, 0.346085, 0.347994, 0.367591, 0.0101763, 0.442472, 0.442472, 0.466446, 0.700183, 0.152384, 0.493918, 0.152384, 0.442472, 0.152384, 0.317575, 0.367591, 0.637374, 0.590559, 0.342781, 0.353992, 0.367591, 0.248704, 0.36781, 0.317575, 0.502885, 0.152384, 0.367591, 0.515498, 0.152384, 0.342781, 0.669827, 0.54753, 0.152384, 0.152384, 0.152384, 0.249767, 0.502885, 0.34812, 0.118814, 0.223007, 0.0546527, 0.0745825, 0.0689588, 0.0018346, 0.00834451, 0.000175101, 0.00583777, 4.05306e-05, 0.00140758, 3.43718e-05, 0.00519511, 0.000209537, 0.00829841, 0.0309172, 0.295541, 0.299875, 0.000161681, 2.18304e-06, 0.0427549, 4.72889e-07, 6.33806e-05, 0.00415789, 0.00415789, 0.299875, 0.00180334, 0.00282514, 0.152384, 0.152384, 0.860821, 0.00197172, 0.00609491],\n",
       "        [0.0316578, 0.260036, 0.663357, 0.129705, 0.177349, 0.0790058, 0.795755, 0.0981816, 0.0981816, 0.612516, 0.260036, 0.164377, 0.813913, 0.260036, 0.492867, 0.56397, 0.260036, 0.493133, 0.272054, 0.272054, 0.280386, 0.296322, 0.0981816, 0.434855, 0.0981816, 0.272054, 0.0981816, 0.218182, 0.260036, 0.324381, 0.341983, 0.408651, 0.352659, 0.260036, 0.413634, 0.626515, 0.218182, 0.460175, 0.0981816, 0.260036, 0.226437, 0.0981816, 0.408651, 0.271951, 0.317152, 0.0981816, 0.0981816, 0.0981816, 0.666253, 0.460175, 0.534186, 0.339589, 0.721278, 0.876281, 0.92511, 0.929736, 0.998165, 0.991655, 0.999825, 0.994162, 0.999959, 0.998592, 0.999966, 0.992292, 0.999772, 0.930462, 0.951742, 0.556057, 0.540725, 0.897919, 0.993762, 0.843605, 0.993243, 0.936411, 0.752693, 0.752693, 0.540725, 0.954413, 0.885946, 0.0981816, 0.0981816, 0.108719, 0.840503, 0.663357],\n",
       "        [0.179718, 0.150596, 0.000555452, 0.0223749, 0.172436, 0.105302, 0.000100537, 0.396868, 0.396868, 0.0487444, 0.150596, 0.0686455, 0.00110089, 0.150596, 0.0368541, 0.00241374, 0.150596, 0.00192148, 0.0912008, 0.0912008, 0.0640836, 0, 0.396868, 0.034161, 0.396868, 0.0912008, 0.396868, 0.409, 0.150596, 0.0327694, 0.047415, 0.0235145, 0.0972141, 0.150596, 0.23978, 0.0025126, 0.409, 0.0219523, 0.396868, 0.150596, 0.233857, 0.396868, 0.0235145, 0.0546633, 0.133612, 0.396868, 0.396868, 0.396868, 0.0277983, 0.0219523, 0.0673526, 0.085408, 0.013871, 0.00112855, 0.000198581, 0.000526761, 2.48778e-08, 1.06333e-10, 4.63459e-09, 2.40975e-12, 7.479e-15, 4.97543e-11, 0, 4.45635e-05, 6.5446e-06, 0.0040994, 0.0143533, 0.0368797, 0.0420159, 0.000195687, 6.55606e-05, 0.0585883, 2.66495e-06, 3.74729e-05, 9.04307e-05, 9.04307e-05, 0.0420159, 1.88292e-07, 3.93239e-06, 0.396868, 0.396868, 0.0301875, 0.00118646, 0.000555452],\n",
       "        [2.36643e-05, 0.221777, 0.329993, 0.512886, 0.326764, 0.351101, 0.071618, 0.352567, 0.352567, 0.0902438, 0.221777, 0.475422, 0.0422565, 0.221777, 0.124194, 0.0856224, 0.221777, 0.494769, 0.194273, 0.194273, 0.189084, 0.00349492, 0.352567, 0.0370657, 0.352567, 0.194273, 0.352567, 0.0552439, 0.221777, 0.00547614, 0.0200422, 0.225054, 0.196135, 0.221777, 0.0978818, 0.00316256, 0.0552439, 0.0149878, 0.352567, 0.221777, 0.0242083, 0.352567, 0.225054, 0.0035593, 0.00170596, 0.352567, 0.352567, 0.352567, 0.0561819, 0.0149878, 0.0503418, 0.456189, 0.0418443, 0.0679381, 0.000109158, 0.000778731, 9.76823e-09, 8.41313e-12, 3.93119e-07, 1.31698e-18, 1.18349e-21, 1.45219e-18, 1.67601e-14, 0.0024686, 1.19108e-05, 0.0571405, 0.00298792, 0.111522, 0.117385, 0.101724, 0.0061699, 0.0550513, 0.00675341, 0.063488, 0.243059, 0.243059, 0.117385, 0.0437835, 0.111225, 0.352567, 0.352567, 0.000272859, 0.156339, 0.329993]]), 'most_likely_positions_1D': None}),\n",
       " DynamicContainer({'p_x_given_n': array([[0.355558, 0.580337, 0.153121, 0.017949, 0.465356, 0.42542, 0.129075, 0.623185, 0.315991, 0.0445056, 0.34812, 0.502121, 0.502121, 0.134335, 0.716048, 0.719049, 0.399652, 0.76934, 0.76934, 0.434626, 0.383063, 0.718544, 0.558163, 0.736694, 0.406411, 0.399652, 0.383493, 0.369834, 0.442472, 0.212605, 0.463212, 0.152384, 0.367591, 0.212605, 0.367591, 0.367591, 0.367591, 0.367591, 0.442472, 0.152384, 0.152384, 0.152384, 0.152384, 0.367591, 0.115819, 0.152384, 0.317575, 0.193107, 0.152384, 0.367591, 0.152384, 0.152384, 0.152384, 0.0772853, 0.826276],\n",
       "        [0.644442, 0.211625, 0.846757, 0.982049, 0.532712, 0.516501, 0.870055, 0.297948, 0.386393, 0.951461, 0.534186, 0.365707, 0.365707, 0.00899936, 0.123477, 0.220067, 0.45433, 0.133716, 0.133716, 0.0410666, 0.0304742, 0.0488397, 0.397046, 0.1334, 0.407396, 0.45433, 0.326457, 0.626633, 0.272054, 0.580364, 0.287212, 0.0981816, 0.260036, 0.580364, 0.260036, 0.260036, 0.260036, 0.260036, 0.272054, 0.0981816, 0.0981816, 0.0981816, 0.0981816, 0.260036, 0.809747, 0.0981816, 0.218182, 0.539686, 0.0981816, 0.260036, 0.0981816, 0.0981816, 0.0981816, 0.656713, 0.169565],\n",
       "        [0, 0.151196, 0.000119943, 1.64328e-06, 0.00193192, 0.0460498, 0.000695085, 0.0786512, 0.0916759, 0.000266065, 0.0673526, 0.0209311, 0.0209311, 0.853007, 0.155478, 0.0576218, 0.0511095, 0.0954498, 0.0954498, 0.522123, 0.58532, 0.230971, 0, 0.126652, 0.0651059, 0.0511095, 0.209898, 0, 0.0912008, 0.0909797, 0.0591454, 0.396868, 0.150596, 0.0909797, 0.150596, 0.150596, 0.150596, 0.150596, 0.0912008, 0.396868, 0.396868, 0.396868, 0.396868, 0.150596, 0.00103395, 0.396868, 0.409, 0.00828453, 0.396868, 0.150596, 0.396868, 0.396868, 0.396868, 0.00955646, 0.00377179],\n",
       "        [6.06766e-14, 0.056843, 1.99007e-06, 5.99117e-08, 2.90975e-08, 0.012029, 0.000175353, 0.000215331, 0.20594, 0.00376693, 0.0503418, 0.111241, 0.111241, 0.00365871, 0.0049963, 0.00326166, 0.0949082, 0.00149401, 0.00149401, 0.00218477, 0.00114306, 0.00164531, 0.0447905, 0.00325401, 0.121087, 0.0949082, 0.0801524, 0.00353291, 0.194273, 0.116052, 0.190431, 0.352567, 0.221777, 0.116052, 0.221777, 0.221777, 0.221777, 0.221777, 0.194273, 0.352567, 0.352567, 0.352567, 0.352567, 0.221777, 0.0733998, 0.352567, 0.0552439, 0.258922, 0.352567, 0.221777, 0.352567, 0.352567, 0.352567, 0.256445, 0.000386684]]), 'most_likely_positions_1D': None}),\n",
       " DynamicContainer({'p_x_given_n': array([[0.235418, 0.844208, 0.367591, 0.338548, 0.367591, 0.198037, 0.319296, 0.833953, 0.564333, 0.247046, 0.721096, 0.502885, 0.399652, 0.502121, 0.295176, 0.186314, 0.152384, 0.34812, 0.342781, 0.204342, 0.346085, 0.116933, 0.0689588, 0.0346225, 0.116933, 0.000288193, 0.000613447, 0.000399047, 3.88806e-06, 0.00121184, 7.34033e-07, 0.00299399, 0.00130269, 0.157652, 0.157652, 0.248496, 0.299875, 0.152384, 0.00609491, 0.353992, 0.353992, 0.000316323, 4.72889e-07, 0.00609491, 0.152384, 0.00415789, 0.272358, 0.0141294, 0.353992, 0.00180334, 0.0242958, 0.00609491, 0.315991, 0.00609491, 0.152384, 0.299875, 0.989351, 0.152384, 6.33806e-05, 0.152384, 0.00539466, 0.193107],\n",
       "        [0.754492, 0.152146, 0.260036, 0.140752, 0.260036, 0.134758, 0.387768, 0.166024, 0.43378, 0.231102, 0.130594, 0.460175, 0.45433, 0.365707, 0.573051, 0.482388, 0.0981816, 0.534186, 0.408651, 0.254094, 0.492867, 0.783051, 0.929736, 0.965376, 0.783051, 0.999711, 0.999386, 0.999601, 0.999996, 0.998788, 0.999999, 0.997006, 0.998654, 0.553848, 0.553848, 0.612516, 0.540725, 0.0981816, 0.663357, 0.352659, 0.352659, 0.913856, 0.993243, 0.663357, 0.0981816, 0.752693, 0.246323, 0.799217, 0.352659, 0.954413, 0.553752, 0.663357, 0.386393, 0.663357, 0.0981816, 0.540725, 0.0106463, 0.0981816, 0.936411, 0.0981816, 0.952755, 0.539686],\n",
       "        [0.00397802, 0, 0.150596, 0.515757, 0.150596, 0.519275, 0.288162, 0, 0, 0.302697, 0.147548, 0.0219523, 0.0511095, 0.0209311, 0.0840635, 0.290828, 0.396868, 0.0673526, 0.0235145, 0.235755, 0.0368541, 0.0117783, 0.000526761, 3.10192e-07, 0.0117783, 5.88931e-08, 1.0156e-07, 1.26476e-12, 1.37331e-16, 3.73085e-08, 3.47653e-13, 1.65669e-10, 4.27045e-05, 0.153159, 0.153159, 0.0487444, 0.0420159, 0.396868, 0.000555452, 0.0972141, 0.0972141, 1.61391e-05, 2.66495e-06, 0.000555452, 0.396868, 9.04307e-05, 0.109773, 0.000700579, 0.0972141, 1.88292e-07, 0.00646848, 0.000555452, 0.0916759, 0.000555452, 0.396868, 0.0420159, 4.80279e-11, 0.396868, 3.74729e-05, 0.396868, 0, 0.00828453],\n",
       "        [0.00611244, 0.00364594, 0.221777, 0.00494239, 0.221777, 0.14793, 0.00477461, 2.32952e-05, 0.00188704, 0.219155, 0.000761923, 0.0149878, 0.0949082, 0.111241, 0.0477092, 0.0404693, 0.352567, 0.0503418, 0.225054, 0.305809, 0.124194, 0.088238, 0.000778731, 1.05514e-06, 0.088238, 1.06867e-06, 3.45551e-09, 1.52707e-19, 2.18739e-19, 6.92441e-10, 7.9407e-17, 8.68233e-09, 5.10779e-07, 0.135341, 0.135341, 0.0902438, 0.117385, 0.352567, 0.329993, 0.196135, 0.196135, 0.0858112, 0.00675341, 0.329993, 0.352567, 0.243059, 0.371546, 0.185953, 0.196135, 0.0437835, 0.415483, 0.329993, 0.20594, 0.329993, 0.352567, 0.117385, 2.30338e-06, 0.352567, 0.063488, 0.352567, 0.0418507, 0.258922]]), 'most_likely_positions_1D': None}),\n",
       " DynamicContainer({'p_x_given_n': array([[0.157652, 0.00684322, 0.204342, 0.0193124, 0.262623, 0.0249242, 0.0189562, 0.062697, 0.990158, 0.720517, 0.795954, 0.264097, 0.425041, 0.118814, 0.152384, 0.736694, 0.948225, 0.34812, 0.790885, 0.996581, 0.630737, 0.766109, 0.697227, 0.688571, 0.716048, 0.55835, 0.367591, 0.139789, 0.152384, 0.442472, 0.491676, 0.466446, 0.442472, 0.367591, 0.418144, 0.442472, 0.367591, 0.152384, 0.466446, 0.367591, 0.353992, 0.152384, 0.152384, 0.577916, 0.317575, 0.15868, 0.258672, 0.640502, 0.400526, 0.795311, 0.499823, 0.00609491, 0.757138, 0.985996],\n",
       "        [0.553848, 0.993156, 0.254094, 0.974693, 0.736065, 0.818084, 0.981044, 0.937303, 0.00306974, 0.00204213, 0.185749, 0.59385, 0.569658, 0.339589, 0.0981816, 0.1334, 0.0517745, 0.534186, 0.209036, 0.00341926, 0.313644, 0.102062, 0.0226259, 0.151361, 0.123477, 0.366508, 0.260036, 0.342803, 0.0981816, 0.272054, 0.487682, 0.280386, 0.272054, 0.260036, 0.342003, 0.272054, 0.260036, 0.0981816, 0.280386, 0.260036, 0.352659, 0.0981816, 0.0981816, 0.323093, 0.218182, 0.524836, 0.309373, 0.319554, 0.564001, 0.00276417, 0.00422241, 0.663357, 0.120342, 0.0117994],\n",
       "        [0.153159, 7.19863e-08, 0.235755, 0.00584215, 0.00060189, 0.000584968, 7.82067e-08, 4.77671e-08, 0.00670749, 0.270284, 0.0167728, 0.0527964, 0.000955885, 0.085408, 0.396868, 0.126652, 0, 0.0673526, 0, 0, 0.00514269, 0.129024, 0.279743, 0.152604, 0.155478, 0.0577392, 0.150596, 0.33676, 0.396868, 0.0912008, 0, 0.0640836, 0.0912008, 0.150596, 0.0212808, 0.0912008, 0.150596, 0.396868, 0.0640836, 0.150596, 0.0972141, 0.396868, 0.396868, 0.000830392, 0.409, 0.0182743, 0.00498667, 0.0399418, 0.0354587, 0.201922, 0.495955, 0.000555452, 0.122519, 0.00220422],\n",
       "        [0.135341, 3.45873e-07, 0.305809, 0.000152591, 0.000710515, 0.156407, 9.5785e-10, 3.69089e-11, 6.49235e-05, 0.007157, 0.0015237, 0.0892572, 0.00434493, 0.456189, 0.352567, 0.00325401, 9.29782e-07, 0.0503418, 7.92608e-05, 2.31758e-07, 0.050476, 0.00280466, 0.000404728, 0.00746379, 0.0049963, 0.0174022, 0.221777, 0.180647, 0.352567, 0.194273, 0.0206418, 0.189084, 0.194273, 0.221777, 0.218572, 0.194273, 0.221777, 0.352567, 0.189084, 0.221777, 0.196135, 0.352567, 0.352567, 0.0981602, 0.0552439, 0.298209, 0.426968, 2.25991e-06, 1.46481e-05, 2.65404e-06, 3.37003e-08, 0.329993, 1.01702e-07, 3.76853e-07]]), 'most_likely_positions_1D': None}),\n",
       " DynamicContainer({'p_x_given_n': array([[0.32106, 0.557029, 0.367591, 0.152384, 0.152384, 0.166518, 0.152384, 0.152384, 0.293223, 0.152384, 0.463212, 0.537371, 0.123124, 0.466446, 0.555762, 0.367591, 0.367591, 0.500648, 0.442472, 0.344363, 0.340513, 0.342781, 0.309697, 0.152384, 0.743702, 0.502885, 0.152384, 0.502885, 0.0711265, 0.749572, 0.342781, 0.353992, 0.367591, 0.58532, 0.146192, 0.152384, 0.152384, 0.346085, 0.159941, 0.152384, 0.158267, 0.0563151, 0.388895, 9.65872e-06, 0.000227569, 0.00149305, 0.17716, 0.0929033, 0.287641, 0.0249769, 0.146192, 0.134867, 0.0255492, 2.45508e-07, 0.0189136, 0.00682184, 1.49637e-06, 4.36084e-05, 0.00317354, 0.15, 0.025201, 0.353992, 0.152384, 0.299875, 0.152384, 0.367591, 0.00282514, 0.00380476, 0.00341544, 0.152384, 0.367591, 0.00415789, 0.367591, 0.367591, 0.00609491, 0.193107, 0.152384],\n",
       "        [0.658842, 0.359384, 0.260036, 0.0981816, 0.0981816, 0.418013, 0.0981816, 0.0981816, 0.695415, 0.0981816, 0.287212, 0.431054, 0.180606, 0.280386, 0.405627, 0.260036, 0.260036, 0.15453, 0.272054, 0.64574, 0.607416, 0.408651, 0.644928, 0.0981816, 0.25621, 0.460175, 0.0981816, 0.460175, 0.707737, 0.0991112, 0.408651, 0.352659, 0.260036, 0.396049, 0.288226, 0.0981816, 0.0981816, 0.492867, 0.592422, 0.0981816, 0.840008, 0.93268, 0.567686, 0.99999, 0.999772, 0.998504, 0.82284, 0.907082, 0.65005, 0.975013, 0.288226, 0.857764, 0.974136, 1, 0.981086, 0.993178, 0.999999, 0.999956, 0.9955, 0.795658, 0.887055, 0.352659, 0.0981816, 0.540725, 0.0981816, 0.260036, 0.885946, 0.941366, 0.828022, 0.0981816, 0.260036, 0.752693, 0.260036, 0.260036, 0.663357, 0.539686, 0.0981816],\n",
       "        [0.0069601, 0.0786455, 0.150596, 0.396868, 0.396868, 0.0805325, 0.396868, 0.396868, 0, 0.396868, 0.0591454, 0, 0.384707, 0.0640836, 0, 0.150596, 0.150596, 0.334493, 0.0912008, 0, 0.038454, 0.0235145, 0.02191, 0.396868, 0, 0.0219523, 0.396868, 0.0219523, 0.0764237, 0.150614, 0.0235145, 0.0972141, 0.150596, 0.0136548, 0.211717, 0.396868, 0.396868, 0.0368541, 0.000176467, 0.396868, 5.63841e-05, 7.65617e-06, 0.00492196, 6.40881e-14, 5.01007e-11, 6.43724e-07, 1.94494e-07, 1.50756e-05, 0.0548521, 9.8443e-06, 0.211717, 0.00730916, 0.00011643, 7.2497e-12, 5.68402e-10, 1.66408e-12, 2.84195e-20, 2.21688e-15, 1.61191e-05, 0.0239086, 0.0177293, 0.0972141, 0.396868, 0.0420159, 0.396868, 0.150596, 3.93239e-06, 0.00211821, 1.82643e-05, 0.396868, 0.150596, 9.04307e-05, 0.150596, 0.150596, 0.000555452, 0.00828453, 0.396868],\n",
       "        [0.0131382, 0.00494178, 0.221777, 0.352567, 0.352567, 0.334937, 0.352567, 0.352567, 0.0113615, 0.352567, 0.190431, 0.0315754, 0.311564, 0.189084, 0.0386115, 0.221777, 0.221777, 0.0103295, 0.194273, 0.00989731, 0.0136169, 0.225054, 0.0234653, 0.352567, 8.78251e-05, 0.0149878, 0.352567, 0.0149878, 0.144713, 0.000702418, 0.225054, 0.196135, 0.221777, 0.00497602, 0.353864, 0.352567, 0.352567, 0.124194, 0.247461, 0.352567, 0.00166864, 0.0109972, 0.0384968, 1.51711e-13, 3.60297e-11, 1.82714e-06, 1.21511e-08, 3.84864e-08, 0.00745741, 5.91143e-08, 0.353864, 5.97221e-05, 0.000198687, 2.2087e-11, 1.23729e-07, 3.63525e-15, 1.0123e-29, 3.1881e-17, 0.00131012, 0.0304335, 0.070015, 0.196135, 0.352567, 0.117385, 0.352567, 0.221777, 0.111225, 0.0527115, 0.168544, 0.352567, 0.221777, 0.243059, 0.221777, 0.221777, 0.329993, 0.258922, 0.352567]]), 'most_likely_positions_1D': None}),\n",
       " DynamicContainer({'p_x_given_n': array([[0.367591, 0.327736, 0.555762, 0.442472, 0.152384, 0.367591, 0.367591, 0.152384, 0.367591, 0.443344, 0.152384, 0.152384, 0.193107, 0.317575, 0.224778, 0.70713, 0.667002],\n",
       "        [0.260036, 0.591351, 0.405627, 0.272054, 0.0981816, 0.260036, 0.260036, 0.0981816, 0.260036, 0.149145, 0.0981816, 0.0981816, 0.539686, 0.218182, 0.497879, 0.193561, 0.18603],\n",
       "        [0.150596, 0.00205811, 0, 0.0912008, 0.396868, 0.150596, 0.150596, 0.396868, 0.150596, 0.38338, 0.396868, 0.396868, 0.00828453, 0.409, 0.0419373, 0.00185464, 0.00738622],\n",
       "        [0.221777, 0.0788548, 0.0386115, 0.194273, 0.352567, 0.221777, 0.221777, 0.352567, 0.221777, 0.0241312, 0.352567, 0.352567, 0.258922, 0.0552439, 0.235406, 0.0974546, 0.139582]]), 'most_likely_positions_1D': None}),\n",
       " DynamicContainer({'p_x_given_n': array([[0.642993, 0.139789, 0.754474, 0.918486, 0.342781, 0.312231, 0.34812, 0.118814, 0.669827, 0.231801, 0.605188, 0.287385, 0.345934, 0.261782, 0.00158369, 0.342781, 0.152384, 0.152384, 0.346085, 0.342781, 0.698739, 0.0520395, 0.106257],\n",
       "        [0.295551, 0.342803, 0.0491902, 0.0815025, 0.408651, 0.687763, 0.534186, 0.339589, 0.271951, 0.758911, 0.382294, 0.433985, 0.546918, 0.346323, 0.998416, 0.408651, 0.0981816, 0.0981816, 0.492867, 0.408651, 0.29227, 0.0828343, 0.234568],\n",
       "        [0.0480513, 0.33676, 0.195248, 0, 0.0235145, 0, 0.0673526, 0.085408, 0.0546633, 0.00172013, 0.00449585, 0.0510634, 0.0191306, 0.0691825, 2.10605e-12, 0.0235145, 0.396868, 0.396868, 0.0368541, 0.0235145, 0.00615623, 0.205343, 0.187864],\n",
       "        [0.0134044, 0.180647, 0.00108817, 1.10443e-05, 0.225054, 6.08964e-06, 0.0503418, 0.456189, 0.0035593, 0.00756801, 0.00802207, 0.227566, 0.0880173, 0.322712, 3.1954e-10, 0.225054, 0.352567, 0.352567, 0.124194, 0.225054, 0.00283485, 0.659783, 0.471311]]), 'most_likely_positions_1D': None}),\n",
       " DynamicContainer({'p_x_given_n': array([[0.553625, 0.44882, 0.317575, 0.598206, 0.513241, 0.44882, 0.509718, 0.563901, 0.338548, 0.517998, 0.338548, 0.302229, 0.101352, 0.105665, 0.152384, 0.317575, 0.0913506, 0.747547, 0.0388227, 0.45843, 0.127222, 0.0913506, 0.261921, 0.442472, 0.216163, 0.986435, 0.258984, 0.353244, 0.119708, 0.805587, 0.315746, 0.263972, 0.0938924, 0.0398969, 0.338548, 0.00415789, 0.00106283, 0.16334, 0.317898, 0.00151436, 0.0808433, 1.01541e-05, 0.338548, 0.317575, 0.540422, 0.299161, 0.152384, 0.152384, 0.152384, 0.248869, 0.317575, 0.317197, 0.594434, 0.427486, 0.299161, 0.129926, 0.152384, 0.152384, 0.152384, 0.000379171, 0.32345, 0.317575, 0.317575, 0.0938887, 0.152384],\n",
       "        [1.8379e-07, 0.034555, 0.218182, 1.66065e-05, 0.00632431, 0.034555, 0.0032678, 9.2846e-07, 0.140752, 0.383442, 0.140752, 0.226811, 0.559931, 0.412271, 0.0981816, 0.218182, 0.268662, 0.0384565, 0.961116, 0.383305, 0.857626, 0.268662, 0.266974, 0.272054, 0.377295, 0.000467237, 0.163369, 0.148039, 0.872586, 0.0253908, 0.513452, 0.699168, 0.866615, 0.957281, 0.140752, 0.752693, 0.823133, 0.821742, 0.635734, 0.996179, 0.915256, 0.998486, 0.140752, 0.218182, 0.030008, 0.180677, 0.0981816, 0.0981816, 0.0981816, 0.342191, 0.218182, 0.5682, 0.349044, 0.20632, 0.180677, 0.686146, 0.0981816, 0.0981816, 0.0981816, 0.999621, 0.177349, 0.218182, 0.218182, 0.792029, 0.0981816],\n",
       "        [0.446375, 0.516613, 0.409, 0.401777, 0.480434, 0.516613, 0.487014, 0.436098, 0.515757, 0.0985474, 0.515757, 0.469383, 0.325198, 0.292228, 0.396868, 0.409, 0.337752, 0.213996, 6.15017e-05, 0.158232, 0.0151518, 0.337752, 0.378483, 0.0912008, 0.360451, 0.0130973, 0.542835, 0.498703, 0.00770603, 0.169022, 0.170802, 0.0367309, 0.0394926, 0.00282102, 0.515757, 9.04307e-05, 0.175801, 0.0149184, 0.0463671, 0, 4.12275e-05, 0.00137704, 0.515757, 0.409, 0.429402, 0.189165, 0.396868, 0.396868, 0.396868, 0.0272766, 0.409, 0.0431855, 0.0241884, 0.24425, 0.189165, 0.00270272, 0.396868, 0.396868, 0.396868, 1.66394e-38, 0.172436, 0.409, 0.409, 0.00130837, 0.396868],\n",
       "        [8.09191e-18, 1.19721e-05, 0.0552439, 1.29015e-13, 1.70989e-07, 1.19721e-05, 1.4398e-08, 1.34791e-14, 0.00494239, 1.26404e-05, 0.00494239, 0.00157684, 0.0135184, 0.189835, 0.352567, 0.0552439, 0.302236, 7.47056e-11, 3.05813e-14, 3.27292e-05, 1.0162e-10, 0.302236, 0.0926217, 0.194273, 0.0460916, 1.37732e-17, 0.0348119, 1.36799e-05, 1.50915e-18, 9.98648e-19, 1.34356e-10, 0.000128949, 1.37941e-08, 8.98988e-07, 0.00494239, 0.243059, 2.97693e-06, 3.05174e-12, 1.73362e-12, 0.00230655, 0.00385967, 0.000127205, 0.00494239, 0.0552439, 0.000168845, 0.330997, 0.352567, 0.352567, 0.352567, 0.381664, 0.0552439, 0.0714182, 0.0323336, 0.121943, 0.330997, 0.181226, 0.352567, 0.352567, 0.352567, 4.03731e-10, 0.326764, 0.0552439, 0.0552439, 0.112773, 0.352567]]), 'most_likely_positions_1D': None}),\n",
       " DynamicContainer({'p_x_given_n': array([[0.505116, 0.098488, 0.34812, 0.342781, 0.752618, 0.152384, 0.00135806, 0.0176329, 0.0628404, 0.0328533, 0.566123, 0.152384, 0.0436546, 0.214118, 0.413385, 0.331351, 0.223007, 0.049231, 0.00716023, 1.08062e-09, 0.00125803, 9.51901e-06, 0.00367163, 0.000207689, 0.0402082, 0.00406773, 0.000471336, 0.025201, 0.00545581, 0.219104, 0.656291, 0.133067, 0.0121544, 0.00197172, 0.152384, 1.6331e-08, 6.33806e-05, 0.152384, 0.000118955, 0.442472, 0.00664519, 0.00609491, 0.00688371, 0.367591, 0.011863, 0.00341544, 0.152384, 0.00609491, 0.00415789, 6.33806e-05, 0.772379, 0.0148627, 0.183448, 6.33806e-05, 0.152384, 0.000118955, 0.015807],\n",
       "        [0.258116, 0.707802, 0.534186, 0.408651, 0.159962, 0.0981816, 0.130514, 0.593159, 0.510914, 0.470407, 0.394572, 0.0981816, 0.425405, 0.729535, 0.553889, 0.562957, 0.721278, 0.950769, 0.992725, 1, 0.998742, 0.99999, 0.996328, 0.999792, 0.959792, 0.995932, 0.999521, 0.887055, 0.981266, 0.713371, 0.326413, 0.801202, 0.961854, 0.840503, 0.0981816, 0.998096, 0.936411, 0.0981816, 0.967242, 0.272054, 0.992191, 0.663357, 0.870506, 0.260036, 0.915652, 0.828022, 0.0981816, 0.663357, 0.752693, 0.936411, 0.0353109, 0.837799, 0.141272, 0.936411, 0.0981816, 0.967242, 0.968554],\n",
       "        [0.0230297, 0.138854, 0.0673526, 0.0235145, 0.0815089, 0.396868, 0.00844162, 0.150251, 0.0660944, 0.0280411, 0.0314551, 0.396868, 0.0508966, 0.0310535, 0.0158401, 0.0844401, 0.013871, 0, 5.48528e-06, 0, 1.79725e-09, 3.41641e-11, 1.57055e-14, 0, 1.83122e-14, 3.38623e-12, 8.00108e-06, 0.0177293, 0.00155321, 0.01623, 0.00387925, 0.0256907, 0.00195757, 0.00118646, 0.396868, 4.42917e-06, 3.74729e-05, 0.396868, 0.000351684, 0.0912008, 1.4297e-22, 0.000555452, 2.99245e-10, 0.150596, 0.0422284, 1.82643e-05, 0.396868, 0.000555452, 9.04307e-05, 3.74729e-05, 0.188204, 0.111098, 0.0555759, 3.74729e-05, 0.396868, 0.000351684, 0.0152359],\n",
       "        [0.213738, 0.054856, 0.0503418, 0.225054, 0.00591068, 0.352567, 0.859686, 0.238957, 0.360151, 0.468698, 0.00785071, 0.352567, 0.480044, 0.0252933, 0.016886, 0.0212519, 0.0418443, 4.17744e-14, 0.000108932, 1.13906e-35, 2.76582e-08, 1.75193e-16, 1.47591e-21, 1.92419e-20, 3.9121e-18, 4.61708e-09, 2.44861e-08, 0.070015, 0.0117249, 0.0512941, 0.0134174, 0.0400403, 0.0240343, 0.156339, 0.352567, 0.00189912, 0.063488, 0.352567, 0.0322872, 0.194273, 0.001164, 0.329993, 0.12261, 0.221777, 0.0302568, 0.168544, 0.352567, 0.329993, 0.243059, 0.063488, 0.00410569, 0.0362403, 0.619703, 0.063488, 0.352567, 0.0322872, 0.000402754]]), 'most_likely_positions_1D': None}),\n",
       " DynamicContainer({'p_x_given_n': array([[0.15381, 0.810821, 0.38454, 0.130508, 0.025201, 0.0662568, 0.945111, 0.000844532, 0.98373, 0.982929, 0.0654567, 0.998887, 0.323159, 0.306415, 0.622236, 0.49613, 0.315991, 0.491676, 0.502885, 0.502885, 0.750822, 0.81171, 0.719049, 0.337004, 0.360948, 0.493918, 0.710177, 0.714704, 0.234302, 0.625268, 0.749572, 0.985185, 0.564333, 0.614751, 0.500917, 0.97262, 0.463655, 0.442472, 0.28601, 0.741838, 0.435208, 0.999987, 0.943329, 0.85539, 0.759579, 0.114574, 0.651362, 0.537371, 0.159152, 0.555762, 0.535697, 0.442472, 0.367591, 0.152384, 0.127675, 0.000529301, 0.442472, 0.367591, 0.466446, 0.442472, 0.537371, 0.427486, 0.152384, 0.152384, 0.152384, 0.152384, 0.15381, 0.152384, 0.346085, 0.152384, 0.315991, 0.224778, 0.193993, 0.432418, 0.224778, 0.991077, 0.448728, 0.743729, 0.982078, 0.716641, 0.0945318, 0.167756, 1, 0.152384, 0.997981, 0.999969, 0.999999, 0.999928, 0.999857, 0.716919, 0.988731, 0.99238, 0.299161, 0.999997, 0.764462, 0.999809, 0.105665, 0.58821, 0.00383357, 0.924299, 0.105665, 0.58821, 0.466605, 0.129534, 0.58821],\n",
       "        [0.302647, 0.144195, 0.58519, 0.390092, 0.887055, 0.873857, 0.0548659, 0.999155, 0.01627, 0.0170712, 0.934543, 0.00110077, 0.676658, 0.691695, 0.323786, 0.32772, 0.386393, 0.487682, 0.460175, 0.460175, 0.248351, 0.132802, 0.220067, 0.40832, 0.0249212, 0.434855, 0.289524, 0.198132, 0.246098, 0.333797, 0.0991112, 0.0147782, 0.43378, 0.382686, 0.490517, 0.0273759, 1.10187e-05, 0.272054, 0.000966, 0.000885094, 0.434411, 1.26044e-05, 0.0554817, 0.143938, 0.240165, 0.584926, 0.348474, 0.431054, 0.555755, 0.405627, 0.273604, 0.272054, 0.260036, 0.0981816, 0.23669, 0.0309254, 0.272054, 0.260036, 0.280386, 0.272054, 0.431054, 0.20632, 0.0981816, 0.0981816, 0.0981816, 0.0981816, 0.302647, 0.0981816, 0.492867, 0.0981816, 0.386393, 0.497879, 0.247898, 0.0940575, 0.497879, 0.00503202, 0.0106935, 0.000369276, 0.0176939, 0.225691, 0.895756, 0.811182, 1.48376e-08, 0.0981816, 3.287e-05, 2.0849e-07, 4.86598e-08, 3.56884e-06, 1.24657e-05, 4.5084e-05, 0.0111223, 0.000145844, 0.180677, 3.47352e-06, 0.230395, 9.99349e-08, 0.412271, 0.00194868, 0.0166025, 0.000138255, 0.412271, 0.00194868, 0.00276868, 0.643191, 0.00194868],\n",
       "        [0.229236, 0.042377, 0.00616459, 0.238975, 0.0177293, 0.0287382, 2.32288e-05, 0, 2.73463e-08, 0, 0, 1.21542e-05, 0.000162655, 0, 0.0203718, 0.000554068, 0.0916759, 0, 0.0219523, 0.0219523, 0, 0.0545926, 0.0576218, 0.14326, 0.612795, 0.034161, 0, 0.0800878, 0.401118, 0.0341177, 0.150614, 0, 0, 0, 0, 0, 0.536334, 0.0912008, 0.713024, 0.257235, 0.101728, 0, 2.89954e-05, 0, 0, 0, 0, 0, 0.00606586, 0, 0.0118417, 0.0912008, 0.150596, 0.396868, 0.122682, 0.0735398, 0.0912008, 0.150596, 0.0640836, 0.0912008, 0, 0.24425, 0.396868, 0.396868, 0.396868, 0.396868, 0.229236, 0.396868, 0.0368541, 0.396868, 0.0916759, 0.0419373, 0.0612156, 0.469643, 0.0419373, 0.000204795, 0.540578, 0.255902, 3.73305e-06, 0.0576687, 0.00971189, 0.0210615, 3.43059e-07, 0.396868, 0.00198637, 3.09068e-05, 4.75182e-07, 6.86412e-05, 0.000130484, 0.283036, 0.000146282, 0.00747405, 0.189165, 0, 0, 0.000190684, 0.292228, 0.409841, 0.23723, 0.0755624, 0.292228, 0.409841, 0.530627, 0.0093058, 0.409841],\n",
       "        [0.314307, 0.00260742, 0.0241059, 0.240426, 0.070015, 0.0311482, 5.51871e-10, 0, 1.72878e-15, 2.9033e-13, 7.33244e-20, 4.89494e-13, 2.06025e-05, 0.00189039, 0.0336069, 0.175596, 0.20594, 0.0206418, 0.0149878, 0.0149878, 0.000827348, 0.000894941, 0.00326166, 0.111417, 0.00133553, 0.0370657, 0.000299174, 0.00707608, 0.118482, 0.00681765, 0.000702418, 3.63838e-05, 0.00188704, 0.00256305, 0.00856597, 3.72475e-06, 6.67338e-19, 0.194273, 6.22384e-15, 4.22201e-05, 0.0286533, 1.56481e-11, 0.00116033, 0.000671987, 0.000255743, 0.300499, 0.000163437, 0.0315754, 0.279027, 0.0386115, 0.178857, 0.194273, 0.221777, 0.352567, 0.512953, 0.895006, 0.194273, 0.221777, 0.189084, 0.194273, 0.0315754, 0.121943, 0.352567, 0.352567, 0.352567, 0.352567, 0.314307, 0.352567, 0.124194, 0.352567, 0.20594, 0.235406, 0.496893, 0.00388212, 0.235406, 0.0036865, 2.08125e-10, 5.35288e-09, 0.000223923, 1.61444e-11, 6.54927e-14, 9.72655e-14, 1.92599e-17, 0.352567, 3.01286e-11, 8.02109e-28, 4.19372e-21, 4.28401e-12, 2.60131e-22, 7.90385e-10, 4.47936e-11, 5.43435e-10, 0.330997, 8.65175e-15, 0.00514273, 4.07391e-28, 0.189835, 2.49643e-07, 0.742334, 3.74402e-10, 0.189835, 2.49643e-07, 2.64514e-12, 0.217969, 2.49643e-07]]), 'most_likely_positions_1D': None}),\n",
       " DynamicContainer({'p_x_given_n': array([[0.299161, 0.0285461, 0.193993, 0.152384, 0.152384, 0.152384, 0.194755, 0.152384, 0.367591, 0.367591, 0.166518, 0.152384, 0.443722, 0.347994, 0.0211947, 0.442472, 0.000529301, 0.372519, 0.466446, 0.304911, 0.207009, 0.00206847, 0.789987, 0.000226406, 0.00367618, 0.142619, 0.0187481, 0.139789, 0.962499, 0.114383, 0.342781, 0.152384, 0.247046, 0.2922, 0.604063, 0.100158, 0.446092, 0.422822, 0.0328533, 0.0672462, 0.199285, 0.418105, 0.233147, 0.160884, 0.0672462, 0.414675, 0.0697088, 0.247046, 0.152384, 0.0292686, 0.368493, 0.00339862, 3.55524e-05, 0.0196586, 0.605395, 3.97108e-06, 0.0242257, 0.341193, 0.276661, 0.000623814, 0.0271324, 0.157652, 0.219104, 0.0651241, 0.299875, 0.299875, 0.00197172, 0.15381, 4.97389e-06, 0.000161681, 0.152384, 0.367591, 0.0242053, 0.152384, 0.00718302, 0.0494634, 0.152384, 0.353992, 0.877393, 0.152384],\n",
       "        [0.180677, 0.862457, 0.247898, 0.0981816, 0.0981816, 0.0981816, 0.225249, 0.0981816, 0.260036, 0.260036, 0.418013, 0.0981816, 0.290944, 0.56397, 0.144256, 0.272054, 0.0309254, 0.478688, 0.280386, 0.56637, 0.25601, 0.0433666, 0.200886, 0.0222102, 0.086584, 0.257083, 0.140134, 0.342803, 0.036984, 0.346081, 0.408651, 0.0981816, 0.231102, 0.316427, 0.341565, 0.738394, 0.445895, 0.487925, 0.470407, 0.16432, 0.0136067, 0.491992, 0.591993, 0.59485, 0.16432, 0.466985, 0.929495, 0.231102, 0.0981816, 0.970717, 0.12599, 0.996601, 0.999964, 0.980325, 0.394605, 0.999996, 0.975774, 0.658799, 0.723339, 0.999376, 0.949115, 0.553848, 0.713371, 0.90082, 0.540725, 0.540725, 0.840503, 0.302647, 0.980604, 0.897919, 0.0981816, 0.260036, 0.964032, 0.0981816, 0.710892, 0.733468, 0.0981816, 0.352659, 0.00132625, 0.0981816],\n",
       "        [0.189165, 0.0827448, 0.0612156, 0.396868, 0.396868, 0.396868, 0.203433, 0.396868, 0.150596, 0.150596, 0.0805325, 0.396868, 0.0692799, 0.00241374, 0.215046, 0.0912008, 0.0735398, 0.00582383, 0.0640836, 0, 0.142437, 0.0258746, 0, 0.0184669, 0.16089, 0.345789, 0.333399, 0.33676, 0, 0.160747, 0.0235145, 0.396868, 0.302697, 0.36134, 0.0404906, 0.102714, 0.0828246, 0.0837866, 0.0280411, 0.192859, 0.753412, 0.082745, 0.0883879, 0.0841068, 0.192859, 0.117939, 0.00068077, 0.302697, 0.396868, 3.68878e-06, 0.453809, 3.2636e-11, 0, 1.47293e-05, 2.11635e-10, 0, 5.53208e-11, 7.92846e-06, 0, 5.7113e-09, 0.0161243, 0.153159, 0.01623, 0.00261737, 0.0420159, 0.0420159, 0.00118646, 0.229236, 6.57833e-05, 0.000195687, 0.396868, 0.150596, 9.9815e-05, 0.396868, 0.000112064, 0.01037, 0.396868, 0.0972141, 0.121124, 0.396868],\n",
       "        [0.330997, 0.0262521, 0.496893, 0.352567, 0.352567, 0.352567, 0.376563, 0.352567, 0.221777, 0.221777, 0.334937, 0.352567, 0.196055, 0.0856224, 0.619504, 0.194273, 0.895006, 0.14297, 0.189084, 0.128719, 0.394544, 0.92869, 0.00912703, 0.959097, 0.74885, 0.254509, 0.507719, 0.180647, 0.000516558, 0.378789, 0.225054, 0.352567, 0.219155, 0.0300338, 0.013881, 0.0587346, 0.0251892, 0.00546676, 0.468698, 0.575575, 0.0336965, 0.00715768, 0.0864723, 0.160159, 0.575575, 0.000401336, 0.00011583, 0.219155, 0.352567, 1.11903e-05, 0.0517081, 6.10479e-09, 5.36532e-21, 1.3634e-06, 5.48635e-15, 0, 5.90553e-18, 2.03888e-07, 0, 1.94451e-07, 0.00762868, 0.135341, 0.0512941, 0.0314386, 0.117385, 0.117385, 0.156339, 0.314307, 0.0193254, 0.101724, 0.352567, 0.221777, 0.0116628, 0.352567, 0.281813, 0.206699, 0.352567, 0.196135, 0.00015649, 0.352567]]), 'most_likely_positions_1D': None}),\n",
       " DynamicContainer({'p_x_given_n': array([[0.396774, 0.184639, 0.0307988, 0.999999, 0.807698, 0.525309, 0.997085, 0.998511, 0.937946, 0.540121, 0.691817, 0.994819, 0.340206, 0.106257, 0.152384, 0.152384, 0.350021, 0.193993, 0.887965, 0.502885, 0.334855, 0.104857, 0.423071, 0.99996, 0.800218, 0.193993, 1, 0.221802, 0.999937, 0.976081, 0.809144, 0.0939731, 0.448662, 0.367591, 0.367591, 0.317575, 0.152384, 0.530106, 0.248496, 0.152384, 0.442472, 0.152384, 0.463212, 0.128793, 0.152384, 0.152384, 0.152384, 0.152384, 0.152384, 0.152384, 0.152384, 0.346085, 0.152384],\n",
       "        [0.300718, 0.652465, 0.622024, 6.74244e-07, 0.191893, 0.0252085, 0.00278036, 0.00148864, 0.0620542, 0.459879, 0.308171, 0.00518129, 0.581272, 0.234568, 0.0981816, 0.0981816, 0.605487, 0.247898, 0.00825011, 0.460175, 0.299132, 0.551438, 0.255445, 3.96987e-05, 0.000672979, 0.247898, 1.05084e-07, 0.000221811, 6.29409e-05, 0.0238239, 0.00112707, 0.177386, 0.490396, 0.260036, 0.260036, 0.218182, 0.0981816, 0.222387, 0.612516, 0.0981816, 0.272054, 0.0981816, 0.287212, 0.229239, 0.0981816, 0.0981816, 0.0981816, 0.0981816, 0.0981816, 0.0981816, 0.0981816, 0.492867, 0.0981816],\n",
       "        [3.12213e-05, 0.14828, 0.0214955, 0, 0.000392886, 0.402953, 0.000122236, 2.07036e-09, 3.14954e-09, 1.31233e-07, 4.65573e-06, 0, 0.020002, 0.187864, 0.396868, 0.396868, 0.0243282, 0.0612156, 0.103758, 0.0219523, 0.266817, 0.204715, 0.302169, 0, 0.199096, 0.0612156, 0, 0.777918, 0, 0, 0.189714, 0.363878, 0, 0.150596, 0.150596, 0.409, 0.396868, 0.0380387, 0.0487444, 0.396868, 0.0912008, 0.396868, 0.0591454, 0.155022, 0.396868, 0.396868, 0.396868, 0.396868, 0.396868, 0.396868, 0.396868, 0.0368541, 0.396868],\n",
       "        [0.302477, 0.0146158, 0.325681, 0, 1.59131e-05, 0.0465289, 1.21803e-05, 3.06485e-18, 2.98658e-16, 2.35312e-13, 7.44356e-06, 0, 0.0585205, 0.471311, 0.352567, 0.352567, 0.0201634, 0.496893, 2.70554e-05, 0.0149878, 0.0991962, 0.13899, 0.0193151, 6.14925e-09, 1.32302e-05, 0.496893, 2.97247e-13, 5.75239e-05, 9.80387e-11, 9.48139e-05, 1.46512e-05, 0.364763, 0.0609422, 0.221777, 0.221777, 0.0552439, 0.352567, 0.209468, 0.0902438, 0.352567, 0.194273, 0.352567, 0.190431, 0.486947, 0.352567, 0.352567, 0.352567, 0.352567, 0.352567, 0.352567, 0.352567, 0.124194, 0.352567]]), 'most_likely_positions_1D': None}),\n",
       " DynamicContainer({'p_x_given_n': array([[0.299161, 0.0938887, 0.152384, 0.152384, 0.248496, 0.316656, 0.999522, 0.152384, 0.152384, 0.152384, 0.15381, 0.442472, 0.194755, 0.152384, 0.747624, 0.152384, 0.152384, 0.15381, 0.152384, 0.152384, 0.152384, 0.152384, 0.698739, 0.367591, 0.152384, 0.0949044, 0.310554, 0.347994, 0.367591, 0.0939731, 0.443722, 0.558163, 0.0635271, 0.00854365, 0.367591, 0.00316502, 0.0939731, 0.547283, 0.00274917, 0.00172396, 0.989781, 0.0139349, 0.139789, 0.139789, 0.979389, 0.0365194, 0.139789, 0.2117, 0.951142, 0.0810736, 0.0436546, 0.31573, 0.025709, 0.123057, 0.268363, 0.252179, 0.152384, 0.152384, 0.357253, 0.106257, 0.152384, 0.606491, 0.247046, 0.0672462, 0.00122419, 0.576185, 0.000738455, 1.86378e-05, 0.337726, 0.957498, 0.261043, 0.388694, 0.0894082, 0.0181298, 0.00208703, 0.0511129, 0.00604736, 0.0691193, 0.00905426, 0.00905426, 0.204342, 0.234342, 4.06823e-08, 0.234342, 0.152384, 0.00688371, 0.367591, 0.00415789, 0.0242958, 0.152384, 0.152384, 0.152384, 0.152384, 0.152384, 0.204342, 0.204342, 0.108868, 0.204342, 0.108868, 0.152384, 6.07201e-06, 0.152384, 0.32345, 0.152384, 1.56797e-05],\n",
       "        [0.180677, 0.792029, 0.0981816, 0.0981816, 0.612516, 0.196465, 2.47493e-06, 0.0981816, 0.0981816, 0.0981816, 0.302647, 0.272054, 0.225249, 0.0981816, 0.000641156, 0.0981816, 0.0981816, 0.302647, 0.0981816, 0.0981816, 0.0981816, 0.0981816, 0.29227, 0.260036, 0.0981816, 0.371428, 0.609414, 0.56397, 0.260036, 0.177386, 0.290944, 0.397046, 0.0798838, 0.424215, 0.260036, 0.0640691, 0.177386, 0.433731, 0.0745495, 0.0649436, 0.0100803, 0.381417, 0.342803, 0.342803, 0.0205923, 0.827217, 0.342803, 0.374598, 0.0488319, 0.731324, 0.425405, 0.625669, 0.621183, 0.654104, 0.58566, 0.00173492, 0.0981816, 0.0981816, 0.482021, 0.234568, 0.0981816, 0.393485, 0.231102, 0.16432, 0.998737, 0.339971, 0.999262, 0.999981, 0.595744, 0.0425021, 0.738841, 0.425192, 0.910592, 0.98187, 0.997913, 0.948887, 0.993952, 0.930854, 0.982247, 0.982247, 0.254094, 0.489752, 0.249001, 0.489752, 0.0981816, 0.870506, 0.260036, 0.752693, 0.553752, 0.0981816, 0.0981816, 0.0981816, 0.0981816, 0.0981816, 0.254094, 0.254094, 0.34182, 0.254094, 0.34182, 0.0981816, 0.980082, 0.0981816, 0.177349, 0.0981816, 0.996643],\n",
       "        [0.189165, 0.00130837, 0.396868, 0.396868, 0.0487444, 0.42819, 0.000475833, 0.396868, 0.396868, 0.396868, 0.229236, 0.0912008, 0.203433, 0.396868, 0.251735, 0.396868, 0.396868, 0.229236, 0.396868, 0.396868, 0.396868, 0.396868, 0.00615623, 0.150596, 0.396868, 0.0236089, 0.00254963, 0.00241374, 0.150596, 0.363878, 0.0692799, 0, 0.17024, 0.0519042, 0.150596, 0.10043, 0.363878, 0, 0.0453489, 0.422653, 0, 0.0217578, 0.33676, 0.33676, 0, 0.0705402, 0.33676, 0.244637, 0, 0.0210961, 0.0508966, 0.0230971, 0.0328298, 0.204966, 0.0380755, 0.730714, 0.396868, 0.396868, 0.083897, 0.187864, 0.396868, 2.29637e-06, 0.302697, 0.192859, 1.08852e-07, 0.0662999, 0, 7.15636e-09, 0.0155535, 1.27988e-13, 9.35867e-05, 0.00700051, 0, 1.52147e-16, 9.04516e-17, 1.08762e-15, 4.66959e-07, 1.69063e-08, 0.00375136, 0.00375136, 0.235755, 0.0309543, 0.116003, 0.0309543, 0.396868, 2.99245e-10, 0.150596, 9.04307e-05, 0.00646848, 0.396868, 0.396868, 0.396868, 0.396868, 0.396868, 0.235755, 0.235755, 0.137698, 0.235755, 0.137698, 0.396868, 0.00274112, 0.396868, 0.172436, 0.396868, 1.45355e-22],\n",
       "        [0.330997, 0.112773, 0.352567, 0.352567, 0.0902438, 0.0586891, 1.9086e-21, 0.352567, 0.352567, 0.352567, 0.314307, 0.194273, 0.376563, 0.352567, 1.56825e-10, 0.352567, 0.352567, 0.314307, 0.352567, 0.352567, 0.352567, 0.352567, 0.00283485, 0.221777, 0.352567, 0.510059, 0.0774823, 0.0856224, 0.221777, 0.364763, 0.196055, 0.0447905, 0.686349, 0.515337, 0.221777, 0.832336, 0.364763, 0.0189858, 0.877352, 0.51068, 0.000139057, 0.58289, 0.180647, 0.180647, 1.89728e-05, 0.0657235, 0.180647, 0.169065, 2.5831e-05, 0.166506, 0.480044, 0.0355046, 0.320278, 0.0178727, 0.107902, 0.015372, 0.352567, 0.352567, 0.0768288, 0.471311, 0.352567, 2.16771e-05, 0.219155, 0.575575, 3.83899e-05, 0.0175436, 1.49497e-19, 1.31191e-07, 0.0509769, 1.99604e-23, 2.30052e-05, 0.179114, 0, 1.02303e-23, 1.61703e-22, 1.03762e-24, 6.39221e-07, 2.64194e-05, 0.00494753, 0.00494753, 0.305809, 0.244952, 0.634997, 0.244952, 0.352567, 0.12261, 0.221777, 0.243059, 0.415483, 0.352567, 0.352567, 0.352567, 0.352567, 0.352567, 0.305809, 0.305809, 0.411613, 0.305809, 0.411613, 0.352567, 0.0171712, 0.352567, 0.326764, 0.352567, 0.00334122]]), 'most_likely_positions_1D': None}),\n",
       " DynamicContainer({'p_x_given_n': array([[0.104289, 0.248496, 0.315991, 0.347491, 0.788266, 0.191602, 0.108868, 0.0968013, 0.330547, 0.0790891, 0.268804, 0.976079, 0.204342, 0.85463, 0.962329, 0.995918, 0.955349, 0.36954, 0.868354, 0.921667, 0.377118, 0.0672462, 0.34812, 0.129056, 0.342781, 0.372503, 0.999986, 0.342781, 0.888057, 0.704796, 0.127663, 0.0114956, 0.940611, 0.998747, 0.998792, 0.998303, 0.884199, 0.993334, 0.427486, 0.367591, 0.152384, 0.152384, 0.442472, 0.367591, 0.442472, 0.442472, 0.152384, 0.152384, 0.466446, 0.152384, 0.317575, 0.152384, 0.152384, 0.152384, 0.152384, 0.152384, 0.223007, 0.152384, 0.317575, 0.152384, 0.152384, 0.299161, 0.549778, 0.432418, 0.302229, 0.83987, 0.432418, 0.700975, 1],\n",
       "        [0.863594, 0.612516, 0.386393, 0.521767, 0.211376, 0.67934, 0.34182, 0.884705, 0.669453, 0.786019, 0.388359, 0.0128355, 0.254094, 0.14537, 0.037671, 0.00408121, 0.0394461, 0.63046, 0.1309, 0.00302609, 0.616482, 0.16432, 0.534186, 0.687169, 0.408651, 0.0552912, 1.3918e-05, 0.408651, 0.00170444, 0.0120491, 0.318488, 4.16421e-05, 9.6401e-06, 0.00124008, 0.00120761, 0.00164492, 0.107134, 0.00665375, 0.20632, 0.260036, 0.0981816, 0.0981816, 0.272054, 0.260036, 0.272054, 0.272054, 0.0981816, 0.0981816, 0.280386, 0.0981816, 0.218182, 0.0981816, 0.0981816, 0.0981816, 0.0981816, 0.0981816, 0.721278, 0.0981816, 0.218182, 0.0981816, 0.0981816, 0.180677, 0.0016517, 0.0940575, 0.226811, 5.18398e-06, 0.0940575, 0.000587914, 9.45563e-15],\n",
       "        [0.00436495, 0.0487444, 0.0916759, 0.0737587, 0, 0.00286449, 0.137698, 0.00801393, 3.08607e-10, 0.0378034, 0.257381, 0.000123071, 0.235755, 0, 0, 1.11991e-06, 0.00497916, 1.94657e-08, 0.000730605, 0.0738319, 0, 0.192859, 0.0673526, 0.0299401, 0.0235145, 0.560871, 0, 0.0235145, 0.110215, 0.282675, 0.152528, 0.988397, 0.0593789, 0, 0, 0, 0, 0, 0.24425, 0.150596, 0.396868, 0.396868, 0.0912008, 0.150596, 0.0912008, 0.0912008, 0.396868, 0.396868, 0.0640836, 0.396868, 0.409, 0.396868, 0.396868, 0.396868, 0.396868, 0.396868, 0.013871, 0.396868, 0.409, 0.396868, 0.396868, 0.189165, 0.44857, 0.469643, 0.469383, 0.160125, 0.469643, 0.298437, 1.01334e-09],\n",
       "        [0.0277517, 0.0902438, 0.20594, 0.0569838, 0.000358405, 0.126193, 0.411613, 0.0104798, 1.63336e-14, 0.0970889, 0.0854559, 0.0109619, 0.305809, 1.23886e-10, 1.00939e-08, 3.65554e-12, 0.000225904, 9.02507e-15, 1.59344e-05, 0.00147537, 0.00639997, 0.575575, 0.0503418, 0.153835, 0.225054, 0.0113347, 3.8723e-12, 0.225054, 2.33108e-05, 0.000479806, 0.401321, 6.54005e-05, 1.83702e-07, 1.26477e-05, 4.96811e-07, 5.23098e-05, 0.0086666, 1.19128e-05, 0.121943, 0.221777, 0.352567, 0.352567, 0.194273, 0.221777, 0.194273, 0.194273, 0.352567, 0.352567, 0.189084, 0.352567, 0.0552439, 0.352567, 0.352567, 0.352567, 0.352567, 0.352567, 0.0418443, 0.352567, 0.0552439, 0.352567, 0.352567, 0.330997, 5.73567e-12, 0.00388212, 0.00157684, 3.02349e-15, 0.00388212, 3.40462e-20, 2.07349e-20]]), 'most_likely_positions_1D': None}),\n",
       " DynamicContainer({'p_x_given_n': array([[0.152384, 0.367591, 0.152384, 0.102504, 0.152384, 0.152384, 0.152384, 0.466446, 0.0835325, 0.103685, 0.487963, 0.442472, 0.0211947, 0.00274917, 0.0680186, 0.000660334, 0.292104, 0.0211947, 0.152384, 0.069237, 0.0328533, 0.193993, 0.999975, 0.602932, 0.00637055, 0.339181, 0.0672462, 0.31573, 0.540722, 0.0262633, 0.152384, 0.199285, 0.342781, 0.106257, 0.106257, 0.15303, 0.227539, 0.35352, 0.346085, 0.317575, 0.401475, 0.219129, 0.0262251, 0.346085, 0.386541, 0.152384, 0.0436546, 0.0889503, 0.866895],\n",
       "        [0.0981816, 0.260036, 0.0981816, 0.590958, 0.0981816, 0.0981816, 0.0981816, 0.280386, 0.0944951, 0.65994, 0.0468215, 0.272054, 0.144256, 0.0745495, 0.543038, 0.0481415, 0.446607, 0.144256, 0.0981816, 0.00237464, 0.470407, 0.247898, 2.54835e-05, 0.395868, 0.0324283, 0.562407, 0.16432, 0.625669, 0.307454, 0.143806, 0.0981816, 0.0136067, 0.408651, 0.234568, 0.234568, 0.787109, 0.209291, 0.646108, 0.492867, 0.218182, 0.583655, 0.775111, 0.972818, 0.492867, 0.593038, 0.0981816, 0.425405, 0.894068, 0.133105],\n",
       "        [0.396868, 0.150596, 0.396868, 0.00439743, 0.396868, 0.396868, 0.396868, 0.0640836, 0.636576, 0, 0.455861, 0.0912008, 0.215046, 0.0453489, 0, 0.110922, 0.115895, 0.215046, 0.396868, 0.928012, 0.0280411, 0.0612156, 0, 0, 0.0290624, 0.0479933, 0.192859, 0.0230971, 0.140247, 0.549061, 0.396868, 0.753412, 0.0235145, 0.187864, 0.187864, 0.00941196, 0.450777, 0, 0.0368541, 0.409, 0.00556433, 0.00238003, 1.99078e-06, 0.0368541, 0.00564226, 0.396868, 0.0508966, 0.00908914, 0],\n",
       "        [0.352567, 0.221777, 0.352567, 0.30214, 0.352567, 0.352567, 0.352567, 0.189084, 0.185397, 0.236375, 0.00935481, 0.194273, 0.619504, 0.877352, 0.388944, 0.840276, 0.145395, 0.619504, 0.352567, 0.000375891, 0.468698, 0.496893, 1.10471e-09, 0.00120009, 0.932139, 0.0504191, 0.575575, 0.0355046, 0.011577, 0.28087, 0.352567, 0.0336965, 0.225054, 0.471311, 0.471311, 0.0504488, 0.112393, 0.000372612, 0.124194, 0.0552439, 0.00930534, 0.00338031, 0.000954582, 0.124194, 0.0147791, 0.352567, 0.480044, 0.00789304, 2.42376e-21]]), 'most_likely_positions_1D': None}),\n",
       " DynamicContainer({'p_x_given_n': array([[0.991309, 0.442472, 0.275086, 0.128793, 0.317014, 0.152384, 0.442472, 0.466446, 0.466446, 0.442472, 0.367591, 0.152384, 0.152384, 0.0187481, 0.152384, 0.152384, 0.152384, 0.152384, 0.152384, 0.152384, 0.398126, 0.152384, 0.152384, 0.76624, 0.413496, 0.317575, 1, 0.990588, 0.613883, 0.928086, 0.999376, 1, 0.994923, 0.989853, 0.558146, 0.999844, 0.758085, 0.997831, 0.999353, 0.99238, 0.678974, 0.41419, 0.938332, 0.999875, 0.997831, 0.0421679, 0.563901, 0.41419, 0.58821, 0.935422, 0.99238, 0.105665, 0.804336, 0.536424],\n",
       "        [0.00866216, 0.272054, 0.626141, 0.229239, 0.529603, 0.0981816, 0.272054, 0.280386, 0.280386, 0.272054, 0.260036, 0.0981816, 0.0981816, 0.140134, 0.0981816, 0.0981816, 0.0981816, 0.0981816, 0.0981816, 0.0981816, 0.0545468, 0.0981816, 0.0981816, 0.157993, 0.569191, 0.218182, 6.03793e-09, 0.00940798, 4.33076e-05, 0.0427759, 1.42652e-09, 3.20019e-09, 8.71976e-09, 5.02348e-08, 7.43203e-05, 0.000107371, 3.02942e-06, 2.4388e-07, 4.31905e-06, 0.000145844, 0.000244004, 0.0533839, 0.000113864, 3.96627e-05, 2.4388e-07, 0.956867, 9.2846e-07, 0.0533839, 0.00194868, 0.0527136, 0.000145844, 0.412271, 7.79853e-07, 0.0112719],\n",
       "        [0, 0.0912008, 0, 0.155022, 0, 0.396868, 0.0912008, 0.0640836, 0.0640836, 0.0912008, 0.150596, 0.396868, 0.396868, 0.333399, 0.396868, 0.396868, 0.396868, 0.396868, 0.396868, 0.396868, 0.547307, 0.396868, 0.396868, 0.0755121, 0.00216512, 0.409, 3.32586e-18, 2.71372e-06, 0.386073, 0.0291385, 0.000623627, 1.68117e-07, 0.00507746, 0.0101468, 0.44178, 4.82898e-05, 0.241912, 0.00216914, 0.000643127, 0.00747405, 0.320782, 0.531386, 0.0615542, 8.56255e-05, 0.00216914, 0.000965461, 0.436098, 0.531386, 0.409841, 0.0116925, 0.00747405, 0.292228, 0.195663, 0.452287],\n",
       "        [2.87157e-05, 0.194273, 0.0987734, 0.486947, 0.153384, 0.352567, 0.194273, 0.189084, 0.189084, 0.194273, 0.221777, 0.352567, 0.352567, 0.507719, 0.352567, 0.352567, 0.352567, 0.352567, 0.352567, 0.352567, 1.95373e-05, 0.352567, 0.352567, 0.000254084, 0.0151482, 0.0552439, 5.96051e-26, 1.30692e-06, 5.68144e-11, 1.37688e-08, 7.50855e-18, 1.8142e-29, 3.93804e-25, 7.49612e-24, 1.48721e-15, 9.80046e-08, 6.55484e-16, 5.52526e-12, 3.3219e-12, 5.43435e-10, 7.55033e-11, 0.00103921, 7.33855e-10, 9.67699e-10, 5.52526e-12, 6.39272e-11, 1.34791e-14, 0.00103921, 2.49643e-07, 0.000171706, 5.43435e-10, 0.189835, 3.79576e-12, 1.72688e-05]]), 'most_likely_positions_1D': None}),\n",
       " DynamicContainer({'p_x_given_n': array([[0.168104, 0.315991, 0.463212, 0.117916, 0.367591, 0.128793, 0.152384, 0.142619, 0.000438536, 0.00214097, 0.345107, 0.00316502, 0.00285931, 0.0229979, 0.0504452, 0.0155046, 9.26865e-05, 0.91043, 0.00184319, 0.0434943, 0.243714, 0.00959827, 0.12842, 0.924475, 0.152384, 0.152384, 0.318289, 0.172259, 0.204342, 0.346085, 0.227539, 0.19164, 0.13048, 0.623339, 0.100013, 0.346085, 0.72142, 0.0737272, 0.227369, 0.318719, 4.15995e-07, 0.0662506, 0.00368532, 0.00150233, 0.236778, 0.550587, 0.00319818, 0.211366, 0.204342, 0.0155928, 0.0146954, 0.152384, 0.0369671, 0.152384, 0.102504, 0.0249242, 0.315991, 0.466446, 0.00609491, 0.00609491, 0.152384, 0.367591, 0.152384, 0.0242958, 0.00565929, 0.111687, 0.0205443, 0.102504, 0.372519, 0.204342, 0.152384, 0.0427696, 0.152384, 0.152384, 0.959646, 0.195049, 0.152384, 0.152384, 0.102504, 0.152384, 0.45463],\n",
       "        [0.370055, 0.386393, 0.287212, 0.20807, 0.260036, 0.229239, 0.0981816, 0.257083, 0.0981212, 0.0698638, 0.412625, 0.0640691, 0.126082, 0.381423, 0.242393, 0.259913, 0.0757885, 0.0894211, 0.406047, 0.0329784, 0.75622, 0.101979, 0.0509638, 0.0254429, 0.0981816, 0.0981816, 0.405545, 0.0639824, 0.254094, 0.492867, 0.209291, 0.808115, 0.275009, 0.319078, 0.899413, 0.492867, 0.27858, 0.925325, 0.772606, 0.68128, 0.999999, 0.931502, 0.996315, 0.998498, 0.760506, 0.449411, 0.996802, 0.525525, 0.254094, 0.984288, 0.499866, 0.0981816, 0.853659, 0.0981816, 0.590958, 0.818084, 0.386393, 0.280386, 0.663357, 0.663357, 0.0981816, 0.260036, 0.0981816, 0.553752, 0.591514, 0.821622, 0.219841, 0.590958, 0.478688, 0.254094, 0.0981816, 0.434227, 0.0981816, 0.0981816, 0.0266688, 0.285218, 0.0981816, 0.0981816, 0.590958, 0.0981816, 0.301847],\n",
       "        [0.0691292, 0.0916759, 0.0591454, 0.233795, 0.150596, 0.155022, 0.396868, 0.345789, 0.00906399, 0.110719, 0, 0.10043, 0.0235097, 0.472937, 0.405128, 0.0322304, 0.00463817, 0, 0.0683256, 0.203648, 0, 0.0334709, 0.258313, 0.0498214, 0.396868, 0.396868, 0.218321, 0.650708, 0.235755, 0.0368541, 0.450777, 0, 0.11856, 0.0542457, 0.000117746, 0.0368541, 0, 0.000165772, 2.55275e-05, 3.54634e-07, 6.97382e-10, 0.00156207, 1.38544e-09, 1.8768e-17, 0.00269035, 5.15401e-07, 2.99207e-12, 0.126601, 0.235755, 9.11555e-07, 0.0126055, 0.396868, 0.00367278, 0.396868, 0.00439743, 0.000584968, 0.0916759, 0.0640836, 0.000555452, 0.000555452, 0.396868, 0.150596, 0.396868, 0.00646848, 3.25099e-10, 0.00338986, 0.127181, 0.00439743, 0.00582383, 0.235755, 0.396868, 0.0472907, 0.396868, 0.396868, 0.00154012, 0.238788, 0.396868, 0.396868, 0.00439743, 0.396868, 0.0509894],\n",
       "        [0.392712, 0.20594, 0.190431, 0.440219, 0.221777, 0.486947, 0.352567, 0.254509, 0.892376, 0.817276, 0.242268, 0.832336, 0.847549, 0.122642, 0.302034, 0.692352, 0.919481, 0.000148909, 0.523784, 0.719879, 6.52983e-05, 0.854952, 0.562303, 0.00026048, 0.352567, 0.352567, 0.0578446, 0.113051, 0.305809, 0.124194, 0.112393, 0.000244978, 0.475951, 0.00333685, 0.000456115, 0.124194, 4.9012e-13, 0.000781617, 1.28033e-07, 2.29419e-07, 2.73439e-07, 0.000685789, 4.84885e-10, 2.98588e-26, 2.51626e-05, 7.4141e-07, 2.18687e-14, 0.136509, 0.305809, 0.000118275, 0.472834, 0.352567, 0.105701, 0.352567, 0.30214, 0.156407, 0.20594, 0.189084, 0.329993, 0.329993, 0.352567, 0.221777, 0.352567, 0.415483, 0.402827, 0.0633005, 0.632433, 0.30214, 0.14297, 0.305809, 0.352567, 0.475712, 0.352567, 0.352567, 0.0121454, 0.280944, 0.352567, 0.352567, 0.30214, 0.352567, 0.192534]]), 'most_likely_positions_1D': None}),\n",
       " DynamicContainer({'p_x_given_n': array([[0.000281699, 0.174375, 0.675944, 0.0155046, 0.0155046, 0.0846966, 0.000365039, 0.0341261, 0.309697, 0.430775, 0.042861, 0.33341, 0.0672462, 0.353992, 0.318192, 0.439708, 0.502121, 0.342781, 0.139789, 0.140223, 0.152384, 0.156943, 0.106257, 0.346085, 0.277811, 0.0721767, 0.327216, 0.0710286, 0.216573, 0.510047, 0.000900818, 3.06554e-08, 7.72469e-05, 0.181308, 0.00169945, 0.00116273, 0.0548444, 0.0146954, 0.00829841, 0.0146954, 0.204342, 0.204342, 0.353992, 0.0501418, 0.102504, 0.204342, 0.234342, 0.00707258, 0.102504, 1.56797e-05, 0.108868, 0.204342, 0.0045665, 0.0802193, 6.67577e-06, 0.204342, 0.00507548, 0.265105, 0.152384, 0.000118955, 0.00415789, 0.00609491, 6.1382e-06, 0.0242958, 0.152384, 0.00561304, 0.152384, 0.152384, 0.00197172, 0.102504, 0.176057, 0.0271324, 0.152384, 0.0296484, 0.442472, 0.108868, 0.152384, 0.0129439, 0.234342, 0.442472, 0.442472],\n",
       "        [0.0584243, 0.21042, 0.323684, 0.259913, 0.259913, 0.91273, 0.0151616, 0.466301, 0.644928, 0.546375, 0.34508, 0.655262, 0.16432, 0.352659, 0.292668, 0.516378, 0.365707, 0.408651, 0.342803, 0.585803, 0.0981816, 0.593518, 0.234568, 0.492867, 0.188798, 0.91935, 0.183907, 0.909276, 0.778931, 0.489952, 0.999086, 1, 0.999923, 0.818692, 0.998301, 0.998837, 0.945156, 0.499866, 0.930462, 0.499866, 0.254094, 0.254094, 0.352659, 0.944473, 0.590958, 0.254094, 0.489752, 0.983785, 0.590958, 0.996643, 0.34182, 0.254094, 0.988698, 0.839613, 0.997404, 0.254094, 0.984129, 0.17168, 0.0981816, 0.967242, 0.752693, 0.663357, 0.847889, 0.553752, 0.0981816, 0.963386, 0.0981816, 0.0981816, 0.840503, 0.590958, 0.475927, 0.949115, 0.0981816, 0.819751, 0.272054, 0.34182, 0.0981816, 0.779506, 0.489752, 0.272054, 0.272054],\n",
       "        [0.0140457, 0.0221345, 0, 0.0322304, 0.0322304, 0, 0.00456356, 0.0167724, 0.02191, 0.0137496, 0.241456, 0.00672007, 0.192859, 0.0972141, 0.356968, 0.0220521, 0.0209311, 0.0235145, 0.33676, 0.15148, 0.396868, 0.0495958, 0.187864, 0.0368541, 0.491214, 0.00233351, 0.460884, 0.00767096, 0.00311628, 0, 1.08074e-05, 7.31371e-11, 1.11903e-11, 3.73219e-13, 0, 3.01935e-09, 7.14525e-09, 0.0126055, 0.0040994, 0.0126055, 0.235755, 0.235755, 0.0972141, 0.00180667, 0.00439743, 0.235755, 0.0309543, 0.000134179, 0.00439743, 1.45355e-22, 0.137698, 0.235755, 0.00164996, 0.0557952, 1.59728e-21, 0.235755, 0.000250835, 0.000702147, 0.396868, 0.000351684, 9.04307e-05, 0.000555452, 1.24761e-18, 0.00646848, 0.396868, 4.95458e-05, 0.396868, 0.396868, 0.00118646, 0.00439743, 0.00979412, 0.0161243, 0.396868, 0.00024354, 0.0912008, 0.137698, 0.396868, 7.08766e-05, 0.0309543, 0.0912008, 0.0912008],\n",
       "        [0.927248, 0.59307, 0.000372256, 0.692352, 0.692352, 0.00257365, 0.97991, 0.482801, 0.0234653, 0.00910033, 0.370603, 0.00460795, 0.575575, 0.196135, 0.0321719, 0.0218628, 0.111241, 0.225054, 0.180647, 0.122495, 0.352567, 0.199943, 0.471311, 0.124194, 0.0421768, 0.0061398, 0.027992, 0.0120244, 0.00138, 9.88273e-07, 2.38904e-06, 6.4959e-08, 2.9397e-11, 2.84768e-22, 1.37975e-09, 7.93034e-10, 3.562e-11, 0.472834, 0.0571405, 0.472834, 0.305809, 0.305809, 0.196135, 0.00357842, 0.30214, 0.305809, 0.244952, 0.0090081, 0.30214, 0.00334122, 0.411613, 0.305809, 0.00508548, 0.0243722, 0.00258947, 0.305809, 0.0105444, 0.562513, 0.352567, 0.0322872, 0.243059, 0.329993, 0.152105, 0.415483, 0.352567, 0.0309518, 0.352567, 0.352567, 0.156339, 0.30214, 0.338222, 0.00762868, 0.352567, 0.150357, 0.194273, 0.411613, 0.352567, 0.20748, 0.244952, 0.194273, 0.194273]]), 'most_likely_positions_1D': None}),\n",
       " DynamicContainer({'p_x_given_n': array([[0.325608, 0.972626, 0.265105, 0.944755, 0.978893, 0.987608, 0.825185, 0.993398, 0.9679, 0.798487, 0.106257, 0.152384, 0.152384, 0.719049, 0.566123, 0.79738, 0.115645, 0.098488, 0.999969, 0.579001, 0.474669, 0.99999, 0.124971, 0.436448, 0.559591, 0.43068, 0.367591, 0.545685, 0.152384, 0.442472, 0.367591, 0.442472, 0.367591, 0.442472, 0.367591, 0.367591, 0.442472, 0.367591, 0.152384, 0.152384, 0.152384, 0.152384, 0.152384, 0.152384, 0.152384, 0.152384, 0.509718, 0.637203, 0.248496, 0.59026, 0.450588, 0.450588, 0.989746, 0.516963, 1, 1, 0.982155, 0.619154, 0.644253, 0.80989, 0.999977, 0.958188, 0.99998, 0.932584, 0.675292, 0.698739, 0.601796, 0.999875, 0.999354, 0.105665, 0.58821, 0.152384, 0.999913, 0.0913506, 0.937306, 0.152384, 0.536424, 0.152384, 0.516336, 0.41419, 0.536424, 0.0913506],\n",
       "        [0.00772684, 0.0271887, 0.17168, 0.0460279, 0.0210512, 0.000252159, 0.174815, 0.00660245, 0.0321001, 0.200554, 0.234568, 0.0981816, 0.0981816, 0.220067, 0.394572, 0.170923, 0.0359075, 0.707802, 3.07144e-05, 0.0182129, 0.00815385, 1.01205e-05, 2.77973e-05, 0.169105, 0.0152338, 0.000255585, 0.260036, 0.172285, 0.0981816, 0.272054, 0.260036, 0.272054, 0.260036, 0.272054, 0.260036, 0.260036, 0.272054, 0.260036, 0.0981816, 0.0981816, 0.0981816, 0.0981816, 0.0981816, 0.0981816, 0.0981816, 0.0981816, 0.0032678, 0.0144534, 0.612516, 0.000160125, 0.0167526, 0.0167526, 1.50094e-05, 0.00207799, 1.53212e-13, 1.06026e-13, 0.000145756, 7.25063e-08, 1.92295e-05, 0.000324225, 5.33888e-09, 0.000553986, 5.85392e-08, 0.00711429, 3.45132e-05, 0.29227, 0.000307472, 3.96627e-05, 0.000591948, 0.412271, 0.00194868, 0.0981816, 7.97498e-07, 0.268662, 1.62672e-05, 0.0981816, 0.0112719, 0.0981816, 0.0100249, 0.0533839, 0.0112719, 0.268662],\n",
       "        [0.597567, 0, 0.000702147, 0.00902591, 5.60584e-05, 0.0121359, 0, 0, 9.53544e-09, 0.000723944, 0.187864, 0.396868, 0.396868, 0.0576218, 0.0314551, 0, 0.847906, 0.138854, 0, 0.399182, 0.509054, 0, 0.874997, 0.265201, 0.42405, 0.568774, 0.150596, 0.234942, 0.396868, 0.0912008, 0.150596, 0.0912008, 0.150596, 0.0912008, 0.150596, 0.150596, 0.0912008, 0.150596, 0.396868, 0.396868, 0.396868, 0.396868, 0.396868, 0.396868, 0.396868, 0.396868, 0.487014, 0.347814, 0.0487444, 0.40958, 0.532658, 0.532658, 0.0102386, 0.480959, 3.4685e-07, 7.09375e-08, 0.0176991, 0.380846, 0.355728, 0.189783, 2.31681e-05, 0.0412582, 2.02218e-05, 0.0603015, 0.324673, 0.00615623, 0.397897, 8.56255e-05, 4.83417e-05, 0.292228, 0.409841, 0.396868, 8.57031e-05, 0.337752, 0.0626775, 0.396868, 0.452287, 0.396868, 0.473639, 0.531386, 0.452287, 0.337752],\n",
       "        [0.0690982, 0.000185354, 0.562513, 0.000191205, 2.09193e-08, 3.86534e-06, 0, 1.02684e-10, 2.00861e-15, 0.0002346, 0.471311, 0.352567, 0.352567, 0.00326166, 0.00785071, 0.0316972, 0.000542046, 0.054856, 1.90534e-07, 0.00360358, 0.00812348, 2.32978e-09, 4.40717e-06, 0.129246, 0.00112427, 0.000290325, 0.221777, 0.0470884, 0.352567, 0.194273, 0.221777, 0.194273, 0.221777, 0.194273, 0.221777, 0.221777, 0.194273, 0.221777, 0.352567, 0.352567, 0.352567, 0.352567, 0.352567, 0.352567, 0.352567, 0.352567, 1.4398e-08, 0.00052974, 0.0902438, 2.26751e-11, 8.15992e-07, 8.15992e-07, 1.45436e-20, 5.39152e-09, 2.49969e-33, 4.77748e-17, 1.713e-12, 5.3272e-21, 1.60526e-11, 2.84082e-06, 4.09361e-22, 2.99799e-10, 1.25773e-11, 1.76718e-07, 1.19276e-12, 0.00283485, 3.61635e-09, 9.67699e-10, 5.96839e-06, 0.189835, 2.49643e-07, 0.352567, 1.89203e-13, 0.302236, 9.68561e-12, 0.352567, 1.72688e-05, 0.352567, 1.13878e-07, 0.00103921, 1.72688e-05, 0.302236]]), 'most_likely_positions_1D': None}),\n",
       " DynamicContainer({'p_x_given_n': array([[0.0008987, 0.139789, 0.00287588, 0.0328533, 7.70526e-05, 0.982049, 0.00135806, 0.00135806, 0.152384, 0.139789, 0.317575, 0.669827, 0.49613],\n",
       "        [0.0498057, 0.342803, 0.170727, 0.470407, 0.0214106, 0.0179371, 0.130514, 0.130514, 0.0981816, 0.342803, 0.218182, 0.271951, 0.32772],\n",
       "        [0.0811241, 0.33676, 0.0676193, 0.0280411, 0.0101135, 0, 0.00844162, 0.00844162, 0.396868, 0.33676, 0.409, 0.0546633, 0.000554068],\n",
       "        [0.868172, 0.180647, 0.758778, 0.468698, 0.968399, 1.34879e-05, 0.859686, 0.859686, 0.352567, 0.180647, 0.0552439, 0.0035593, 0.175596]]), 'most_likely_positions_1D': None}),\n",
       " DynamicContainer({'p_x_given_n': array([[0.207949, 0.108868, 0.152384, 0.152384, 0.608181, 0.152384, 0.315991, 0.152384, 0.353992, 0.340047, 0.247046, 0.15, 0.0701497, 0.927799, 0.133984, 0.896996, 0.977748, 0.996817, 0.985104, 0.874789, 0.994971, 0.856757, 0.474019, 0.594541, 0.175009, 0.342781, 0.0342297, 0.144739, 0.342781, 0.999999, 0.48615, 0.0415746, 1, 0.674217, 0.272358, 0.99999, 0.999878, 0.685497, 0.999887, 0.502291, 0.537371, 0.466446, 0.152384, 0.102504, 0.152384, 0.367591, 0.442472, 0.367591, 0.807098, 0.442472, 0.152384, 0.152384, 0.367591, 0.152384, 0.152384, 0.152384, 0.152384, 0.152384, 0.152384, 0.152384, 0.317575, 0.152384, 0.152384, 0.731999, 0.338548],\n",
       "        [0.703617, 0.34182, 0.0981816, 0.0981816, 0.391316, 0.0981816, 0.386393, 0.0981816, 0.352659, 0.336048, 0.231102, 0.795658, 0.778193, 0.0579288, 0.518336, 0.00922453, 0.0173814, 0.00293618, 0.0148958, 0.125211, 0.00277594, 0.14232, 0.523142, 0.394958, 0.756882, 0.408651, 0.052135, 0.181125, 0.408651, 5.56207e-07, 0.162368, 0.284331, 1.51659e-09, 0.00025723, 0.246323, 9.71675e-06, 0.000107473, 0.0190173, 0.00011296, 0.434983, 0.431054, 0.280386, 0.0981816, 0.590958, 0.0981816, 0.260036, 0.272054, 0.260036, 0.187331, 0.272054, 0.0981816, 0.0981816, 0.260036, 0.0981816, 0.0981816, 0.0981816, 0.0981816, 0.0981816, 0.0981816, 0.0981816, 0.218182, 0.0981816, 0.0981816, 0.00123613, 0.140752],\n",
       "        [0.0280717, 0.137698, 0.396868, 0.396868, 3.43107e-05, 0.396868, 0.0916759, 0.396868, 0.0972141, 0.13654, 0.302697, 0.0239086, 0.065124, 0.0138337, 0.13272, 0.093307, 0.00485227, 0.000131612, 4.50461e-13, 4.22623e-13, 0.00218873, 5.34264e-05, 0.000255264, 0.00518203, 0.0178871, 0.0235145, 0.85805, 0.563339, 0.0235145, 0, 0.306914, 0.295146, 0, 0.325494, 0.109773, 0, 0, 0.291754, 0, 0.01495, 0, 0.0640836, 0.396868, 0.00439743, 0.396868, 0.150596, 0.0912008, 0.150596, 0.00479355, 0.0912008, 0.396868, 0.396868, 0.150596, 0.396868, 0.396868, 0.396868, 0.396868, 0.396868, 0.396868, 0.396868, 0.409, 0.396868, 0.396868, 0.266765, 0.515757],\n",
       "        [0.0603618, 0.411613, 0.352567, 0.352567, 0.000468792, 0.352567, 0.20594, 0.352567, 0.196135, 0.187365, 0.219155, 0.0304335, 0.0865332, 0.000438889, 0.21496, 0.000472332, 1.84437e-05, 0.000114826, 3.29146e-24, 6.11577e-24, 6.46109e-05, 0.000869739, 0.002584, 0.00531826, 0.0502221, 0.225054, 0.0555858, 0.110797, 0.225054, 1.98153e-10, 0.0445681, 0.378948, 1.28937e-16, 3.16987e-05, 0.371546, 7.00581e-10, 1.42795e-05, 0.00373174, 2.29146e-08, 0.0477757, 0.0315754, 0.189084, 0.352567, 0.30214, 0.352567, 0.221777, 0.194273, 0.221777, 0.000777624, 0.194273, 0.352567, 0.352567, 0.221777, 0.352567, 0.352567, 0.352567, 0.352567, 0.352567, 0.352567, 0.352567, 0.0552439, 0.352567, 0.352567, 4.70879e-10, 0.00494239]]), 'most_likely_positions_1D': None}),\n",
       " DynamicContainer({'p_x_given_n': array([[0.152384, 0.204342, 0.0364638, 0.152384, 0.129926, 0.152384, 0.152384, 0.152384, 0.156947, 0.152384, 0.442472, 0.327736, 0.367591, 0.145879, 0.367591, 0.442472, 0.463212, 0.101795, 0.0939731, 0.0568226, 0.491999, 0.0211947, 0.466446, 0.152384, 0.598469, 0.427486, 0.152384, 0.00274917, 0.000271689, 0.0155046, 0.0211947, 0.783991, 0.106257, 0.0518584, 0.0417306, 4.48166e-05, 0.139789, 0.00959827, 0.152384, 0.522477, 0.288711, 0.920713, 0.152384, 0.175813, 0.346085, 0.353992, 0.152384, 0.122021, 0.146192, 0.140223, 0.233686, 0.307954, 0.152384, 0.845959, 0.813677, 0.152384, 0.294087, 0.0955607, 0.156943, 0.165836, 1.65763e-05, 0.00352058, 0.659621, 0.0154478, 0.00867904, 0.546817, 0.118814, 0.088287, 0.0546527, 0.0926025, 0.0717041, 0.00618249, 0.108581, 0.938199, 0.000102374, 0.00142879, 0.610543, 0.00163596, 0.0427696, 0.0701497, 0.157652, 0.108868, 0.108868, 0.175077, 0.299875, 0.152384, 0.152384, 0.204342, 0.367591, 0.152384, 0.152384, 0.152384, 0.152384, 0.367591, 0.152384, 0.00609491, 0.152384, 0.207949, 0.152384, 0.0454245],\n",
       "        [0.0981816, 0.254094, 0.270293, 0.0981816, 0.686146, 0.0981816, 0.0981816, 0.0981816, 0.232578, 0.0981816, 0.272054, 0.591351, 0.260036, 0.224975, 0.260036, 0.272054, 0.287212, 0.150334, 0.177386, 0.376122, 0.472092, 0.144256, 0.280386, 0.0981816, 0.394387, 0.20632, 0.0981816, 0.0745495, 0.0931482, 0.259913, 0.144256, 0.21521, 0.234568, 0.27664, 0.946612, 0.0207047, 0.342803, 0.101979, 0.0981816, 0.433055, 0.568691, 0.0307994, 0.0981816, 0.116795, 0.492867, 0.352659, 0.0981816, 0.86734, 0.288226, 0.585803, 0.15086, 0.101376, 0.0981816, 0.15404, 0.151886, 0.0981816, 0.702032, 0.888583, 0.593518, 0.804272, 0.999983, 0.995697, 0.338766, 0.984538, 0.991321, 0.451535, 0.339589, 0.911713, 0.876281, 0.899416, 0.924622, 0.993805, 0.891419, 0.0616266, 0.999898, 0.998571, 0.389457, 0.998325, 0.434227, 0.778193, 0.553848, 0.34182, 0.34182, 0.685083, 0.540725, 0.0981816, 0.0981816, 0.254094, 0.260036, 0.0981816, 0.0981816, 0.0981816, 0.0981816, 0.260036, 0.0981816, 0.663357, 0.0981816, 0.703617, 0.0981816, 0.5635],\n",
       "        [0.396868, 0.235755, 0.0314477, 0.396868, 0.00270272, 0.396868, 0.396868, 0.396868, 0.0839694, 0.396868, 0.0912008, 0.00205811, 0.150596, 0.332415, 0.150596, 0.0912008, 0.0591454, 0.456432, 0.363878, 0.00651728, 0.00469167, 0.215046, 0.0640836, 0.396868, 0, 0.24425, 0.396868, 0.0453489, 0.0109047, 0.0322304, 0.215046, 0, 0.187864, 0.397123, 0, 0.00222836, 0.33676, 0.0334709, 0.396868, 0.0246818, 0.0557687, 0.0482145, 0.396868, 0.639217, 0.0368541, 0.0972141, 0.396868, 0.00637896, 0.211717, 0.15148, 0.535653, 0.285011, 0.396868, 0, 0.0318119, 0.396868, 0.000290532, 0.0026665, 0.0495958, 0.0225012, 0, 0.000252574, 0.00157959, 5.48721e-06, 0, 0.00123408, 0.085408, 0, 0.00112855, 0.000220327, 0.00166858, 4.80553e-07, 7.24815e-12, 0.000174407, 3.95309e-13, 1.59191e-08, 1.05149e-08, 1.85467e-05, 0.0472907, 0.065124, 0.153159, 0.137698, 0.137698, 0.00695313, 0.0420159, 0.396868, 0.396868, 0.235755, 0.150596, 0.396868, 0.396868, 0.396868, 0.396868, 0.150596, 0.396868, 0.000555452, 0.396868, 0.0280717, 0.396868, 0.00593236],\n",
       "        [0.352567, 0.305809, 0.661796, 0.352567, 0.181226, 0.352567, 0.352567, 0.352567, 0.526505, 0.352567, 0.194273, 0.0788548, 0.221777, 0.296731, 0.221777, 0.194273, 0.190431, 0.291439, 0.364763, 0.560538, 0.0312177, 0.619504, 0.189084, 0.352567, 0.00714469, 0.121943, 0.352567, 0.877352, 0.895675, 0.692352, 0.619504, 0.000798346, 0.471311, 0.274378, 0.0116577, 0.977022, 0.180647, 0.854952, 0.352567, 0.0197861, 0.0868296, 0.000273146, 0.352567, 0.0681749, 0.124194, 0.196135, 0.352567, 0.00426011, 0.353864, 0.122495, 0.0798009, 0.305659, 0.352567, 6.40004e-07, 0.00262564, 0.352567, 0.00359065, 0.0131901, 0.199943, 0.00739076, 1.01066e-25, 0.00052976, 3.34699e-05, 8.58504e-06, 4.49508e-16, 0.000414684, 0.456189, 9.30602e-11, 0.0679381, 0.0077608, 0.00200508, 1.23778e-05, 1.66992e-16, 1.29859e-07, 1.01697e-14, 1.47493e-10, 4.85818e-11, 2.04209e-05, 0.475712, 0.0865332, 0.135341, 0.411613, 0.411613, 0.132887, 0.117385, 0.352567, 0.352567, 0.305809, 0.221777, 0.352567, 0.352567, 0.352567, 0.352567, 0.221777, 0.352567, 0.329993, 0.352567, 0.0603618, 0.352567, 0.385143]]), 'most_likely_positions_1D': None}),\n",
       " DynamicContainer({'p_x_given_n': array([[0.152384, 0.207949, 0.26179, 0.152384, 0.204342, 0.152384, 0.152384, 0.152384, 0.416212, 0.152384, 0.152384, 0.506469, 0.204342, 0.204342, 0.901735, 0.946996, 0.155083, 0.995037, 0.976458, 0.994452, 0.756623, 0.26203, 0.25942, 0.698739, 0.139789, 0.139789, 0.057611, 0.106422, 0.810457, 0.0607143, 0.502885, 0.999617, 0.999949, 0.612326, 0.947244, 0.999804, 0.442472, 0.579844, 0.281358, 0.555762, 0.152384, 0.0187481, 0.149762, 0.152384, 0.442472, 0.367591, 0.152384, 0.367591, 0.466446, 0.367591, 0.807098, 0.152384, 0.152384, 0.152384, 0.152384, 0.152384, 0.152384, 0.47286, 0.315991, 0.413724, 0.622823, 0.995081],\n",
       "        [0.0981816, 0.703617, 0.0579092, 0.0981816, 0.254094, 0.0981816, 0.0981816, 0.0981816, 0.497471, 0.0981816, 0.0981816, 0.358035, 0.254094, 0.254094, 0.00408926, 0.00770812, 0.844916, 0.00484906, 0.023542, 0.0055479, 0.216019, 0.736108, 0.256975, 0.29227, 0.342803, 0.342803, 0.0132036, 1.57837e-05, 0.0871426, 0.108631, 0.460175, 0.000382259, 5.11979e-05, 1.78395e-05, 0.00470774, 0.00019565, 0.272054, 0.00467834, 0.152353, 0.405627, 0.0981816, 0.140134, 0.219301, 0.0981816, 0.272054, 0.260036, 0.0981816, 0.260036, 0.280386, 0.260036, 0.187331, 0.0981816, 0.0981816, 0.0981816, 0.0981816, 0.0981816, 0.0981816, 0.0123982, 0.386393, 0.566929, 0.325636, 2.65901e-07],\n",
       "        [0.396868, 0.0280717, 0.562815, 0.396868, 0.235755, 0.396868, 0.396868, 0.396868, 0.0851924, 0.396868, 0.396868, 0.0108746, 0.235755, 0.235755, 0.0881149, 0.0452925, 0, 3.17278e-05, 1.44035e-11, 0, 0.0272334, 0.0018077, 0.127295, 0.00615623, 0.33676, 0.33676, 0.920309, 0.893562, 0.0966389, 0.815145, 0.0219523, 0, 0, 0.387654, 0.0462242, 0, 0.0912008, 0.413729, 0.491357, 0, 0.396868, 0.333399, 0.0507784, 0.396868, 0.0912008, 0.150596, 0.396868, 0.150596, 0.0640836, 0.150596, 0.00479355, 0.396868, 0.396868, 0.396868, 0.396868, 0.396868, 0.396868, 0.514741, 0.0916759, 0, 0.0476563, 0.00491869],\n",
       "        [0.352567, 0.0603618, 0.117486, 0.352567, 0.305809, 0.352567, 0.352567, 0.352567, 0.00112405, 0.352567, 0.352567, 0.124621, 0.305809, 0.305809, 0.00606101, 3.69168e-06, 1.41713e-06, 8.25454e-05, 5.17719e-21, 3.38064e-14, 0.000125319, 5.41607e-05, 0.35631, 0.00283485, 0.180647, 0.180647, 0.00887655, 6.32461e-07, 0.00576105, 0.0155098, 0.0149878, 4.75863e-07, 1.55293e-08, 1.94627e-06, 0.00182442, 3.76919e-07, 0.194273, 0.00174945, 0.0749323, 0.0386115, 0.352567, 0.507719, 0.580158, 0.352567, 0.194273, 0.221777, 0.352567, 0.221777, 0.189084, 0.221777, 0.000777624, 0.352567, 0.352567, 0.352567, 0.352567, 0.352567, 0.352567, 3.61798e-07, 0.20594, 0.0193466, 0.00388501, 5.42573e-21]]), 'most_likely_positions_1D': None}),\n",
       " DynamicContainer({'p_x_given_n': array([[0.0939731, 0.15381, 0.152384, 0.491676, 0.152384, 0.152384, 0.152384, 0.152384, 0.152384, 0.152384, 0.152384, 0.152384, 0.204342, 0.152384, 0.347994, 0.102504, 0.0574627, 0.466446, 0.0315473, 0.117916, 0.463212, 0.367591, 0.00106753, 0.0970603, 0.149615, 0.000529301, 9.26865e-05, 0.111021, 0.0939731, 0.00574461, 0.0134544, 0.00956503, 0.0328533, 0.106257, 0.137013, 0.358254, 0.506114, 0.502885, 0.342781, 0.152384, 0.42257, 0.152384, 0.129351, 0.262132, 0.206769, 0.742329, 0.0717045, 0.358468, 0.10963, 0.239895, 0.000762471, 0.00157645, 0.362313, 0.0244816, 0.115424, 0.054375, 0.0870061, 0.00391976, 0.0248828, 0.0427696, 0.157652, 0.0271324, 0.108868, 0.207949, 0.152384, 0.152384, 0.152384, 0.204342, 0.152384, 0.152384, 0.00415789, 0.367591, 0.152384, 0.353992, 0.111687, 0.152384, 0.204342, 0.204342, 0.152384, 0.152384, 0.0501418, 0.916566, 0.108868, 0.152384, 0.108868, 0.204342, 0.152384, 0.234342, 0.672303, 0.0494634, 0.0242958, 0.00609491, 0.152384, 0.00415789, 0.0242958, 0.204342, 0.152384, 0.152384, 0.152384],\n",
       "        [0.177386, 0.302647, 0.0981816, 0.487682, 0.0981816, 0.0981816, 0.0981816, 0.0981816, 0.0981816, 0.0981816, 0.0981816, 0.0981816, 0.254094, 0.0981816, 0.56397, 0.590958, 0.182005, 0.280386, 0.198262, 0.20807, 0.287212, 0.260036, 0.0309239, 0.270584, 0.348443, 0.0309254, 0.0757885, 0.00172881, 0.177386, 0.287788, 0.461746, 0.0679482, 0.470407, 0.234568, 0.470056, 0.289154, 0.37854, 0.460175, 0.408651, 0.0981816, 0.51185, 0.0981816, 0.752583, 0.737176, 0.793228, 0.196374, 0.928295, 0.641532, 0.89037, 0.320463, 0.999214, 0.998418, 0.56259, 0.975518, 0.884566, 0.945574, 0.912861, 0.99608, 0.947726, 0.434227, 0.553848, 0.949115, 0.34182, 0.703617, 0.0981816, 0.0981816, 0.0981816, 0.254094, 0.0981816, 0.0981816, 0.752693, 0.260036, 0.0981816, 0.352659, 0.821622, 0.0981816, 0.254094, 0.254094, 0.0981816, 0.0981816, 0.944473, 0.08303, 0.34182, 0.0981816, 0.34182, 0.254094, 0.0981816, 0.489752, 0.229306, 0.733468, 0.553752, 0.663357, 0.0981816, 0.752693, 0.553752, 0.254094, 0.0981816, 0.0981816, 0.0981816],\n",
       "        [0.363878, 0.229236, 0.396868, 0, 0.396868, 0.396868, 0.396868, 0.396868, 0.396868, 0.396868, 0.396868, 0.396868, 0.235755, 0.396868, 0.00241374, 0.00439743, 0.0200449, 0.0640836, 0.424478, 0.233795, 0.0591454, 0.150596, 0.251675, 0.302701, 0.309511, 0.0735398, 0.00463817, 0.886576, 0.363878, 0.0193537, 0.103714, 0.204484, 0.0280411, 0.187864, 0.129805, 0.20617, 0.0912929, 0.0219523, 0.0235145, 0.396868, 0.00319567, 0.396868, 0.0456684, 0, 0, 0.0178177, 0, 0, 0, 0.329848, 1.62821e-06, 6.17549e-07, 0.00646527, 1.7209e-09, 9.84856e-06, 5.05691e-05, 0.000126656, 2.0708e-11, 0.00307155, 0.0472907, 0.153159, 0.0161243, 0.137698, 0.0280717, 0.396868, 0.396868, 0.396868, 0.235755, 0.396868, 0.396868, 9.04307e-05, 0.150596, 0.396868, 0.0972141, 0.00338986, 0.396868, 0.235755, 0.235755, 0.396868, 0.396868, 0.00180667, 0.000131645, 0.137698, 0.396868, 0.137698, 0.235755, 0.396868, 0.0309543, 0.0177675, 0.01037, 0.00646848, 0.000555452, 0.396868, 9.04307e-05, 0.00646848, 0.235755, 0.396868, 0.396868, 0.396868],\n",
       "        [0.364763, 0.314307, 0.352567, 0.0206418, 0.352567, 0.352567, 0.352567, 0.352567, 0.352567, 0.352567, 0.352567, 0.352567, 0.305809, 0.352567, 0.0856224, 0.30214, 0.740487, 0.189084, 0.345713, 0.440219, 0.190431, 0.221777, 0.716334, 0.329655, 0.19243, 0.895006, 0.919481, 0.000674611, 0.364763, 0.687114, 0.421086, 0.718003, 0.468698, 0.471311, 0.263126, 0.146421, 0.0240523, 0.0149878, 0.225054, 0.352567, 0.0623839, 0.352567, 0.0723973, 0.00069271, 3.15645e-06, 0.0434788, 6.41116e-08, 4.95771e-12, 3.87391e-15, 0.109794, 2.22627e-05, 4.68578e-06, 0.0686312, 5.82445e-09, 5.45315e-09, 1.06068e-07, 6.09459e-06, 1.26029e-09, 0.0243196, 0.475712, 0.135341, 0.00762868, 0.411613, 0.0603618, 0.352567, 0.352567, 0.352567, 0.305809, 0.352567, 0.352567, 0.243059, 0.221777, 0.352567, 0.196135, 0.0633005, 0.352567, 0.305809, 0.305809, 0.352567, 0.352567, 0.00357842, 0.000272135, 0.411613, 0.352567, 0.411613, 0.305809, 0.352567, 0.244952, 0.0806227, 0.206699, 0.415483, 0.329993, 0.352567, 0.243059, 0.415483, 0.305809, 0.352567, 0.352567, 0.352567]]), 'most_likely_positions_1D': None}),\n",
       " DynamicContainer({'p_x_given_n': array([[0.152384, 0.152384, 0.152384, 0.152384, 0.152384, 0.0802193, 0.248496, 0.204342, 0.175077, 0.152384, 0.315991, 0.152384, 0.152384, 0.362494, 0.302728, 0.204342, 0.157652, 0.312286, 0.861504, 0.92074, 0.314363, 0.671263, 0.0794666, 0.992321, 0.674631, 0.984404, 0.724511, 0.987931, 0.996194, 0.950828, 0.286839, 0.210489, 0.419772, 0.353153, 0.33962, 0.534197, 0.207969, 0.322816, 0.267498, 0.999942, 0.112537, 0.98221, 0.112286, 0.436448, 0.537371, 0.894101, 0.604138, 0.0215332, 0.367591, 0.442472, 0.152384, 0.367591, 0.152384, 0.367591, 0.367591, 0.152384, 0.152384, 0.152384, 0.152384, 0.346085, 0.315991, 0.152384, 0.248496, 0.157652, 0.835683, 0.338548, 0.630697, 0.992648, 0.251104, 0.999997, 0.975462, 0.999957, 0.998703],\n",
       "        [0.0981816, 0.0981816, 0.0981816, 0.0981816, 0.0981816, 0.839613, 0.612516, 0.254094, 0.685083, 0.0981816, 0.386393, 0.0981816, 0.0981816, 0.00996612, 0.408271, 0.254094, 0.553848, 0.223526, 0.00205126, 0.00576767, 0.685404, 0.00117476, 0.0115439, 0.0076777, 0.325368, 9.52553e-05, 0.0653499, 0.0120692, 0.00380461, 0.0433288, 0.631333, 0.00177521, 0.137006, 0.416641, 0.22892, 0.0216958, 0.00229115, 0.00723147, 0.512675, 5.77171e-05, 8.43193e-09, 0.0177829, 0.00160333, 0.169105, 0.431054, 0.0858107, 0.393342, 0.140303, 0.260036, 0.272054, 0.0981816, 0.260036, 0.0981816, 0.260036, 0.260036, 0.0981816, 0.0981816, 0.0981816, 0.0981816, 0.492867, 0.386393, 0.0981816, 0.612516, 0.553848, 6.61587e-06, 0.140752, 2.49948e-05, 5.186e-07, 0.0156826, 9.38337e-14, 0.000182635, 8.49049e-09, 1.57752e-06],\n",
       "        [0.396868, 0.396868, 0.396868, 0.396868, 0.396868, 0.0557952, 0.0487444, 0.235755, 0.00695313, 0.396868, 0.0916759, 0.396868, 0.396868, 0.518409, 0.0510427, 0.235755, 0.153159, 0.371149, 0.135533, 0.0730684, 0, 0.327076, 0.0115099, 1.66585e-06, 2.03651e-07, 0.0153757, 0.202561, 5.02972e-08, 1.22227e-06, 0.00403262, 0.0404768, 0.709539, 0.269927, 0.132637, 0.380491, 0.442416, 0.787429, 0.667154, 0.164436, 0, 0.887463, 0, 0.884903, 0.265201, 0, 0, 0, 0.151451, 0.150596, 0.0912008, 0.396868, 0.150596, 0.396868, 0.150596, 0.150596, 0.396868, 0.396868, 0.396868, 0.396868, 0.0368541, 0.0916759, 0.396868, 0.0487444, 0.153159, 0.164311, 0.515757, 0.369278, 0.00735141, 0.733214, 2.97908e-06, 0.0243551, 4.30013e-05, 0.0012959],\n",
       "        [0.352567, 0.352567, 0.352567, 0.352567, 0.352567, 0.0243722, 0.0902438, 0.305809, 0.132887, 0.352567, 0.20594, 0.352567, 0.352567, 0.109131, 0.237959, 0.305809, 0.135341, 0.093038, 0.000911499, 0.000424199, 0.000232279, 0.00048582, 0.89748, 2.22558e-12, 2.69547e-07, 0.000124657, 0.00757798, 2.18283e-15, 2.23812e-08, 0.00181024, 0.0413517, 0.0781961, 0.173295, 0.0975692, 0.0509689, 0.00169082, 0.00231089, 0.00279925, 0.0553912, 4.00537e-08, 3.6769e-09, 6.69944e-06, 0.00120812, 0.129246, 0.0315754, 0.0200881, 0.00251934, 0.686713, 0.221777, 0.194273, 0.352567, 0.221777, 0.352567, 0.221777, 0.221777, 0.352567, 0.352567, 0.352567, 0.352567, 0.124194, 0.20594, 0.352567, 0.0902438, 0.135341, 1.14679e-11, 0.00494239, 2.0185e-11, 1.03866e-24, 2.44249e-09, 2.50957e-17, 1.3244e-23, 5.09346e-24, 6.30412e-15]]), 'most_likely_positions_1D': None}),\n",
       " DynamicContainer({'p_x_given_n': array([[0.145439, 0.13048, 0.118993, 0.204342, 0.0318035, 0.442472, 0.0016802, 0.0119837, 0.367591, 0.00355986, 0.0627447, 0.00121764, 0.0157924, 0.0517576, 0.173165, 0.0187481, 0.84703, 0.0939731, 0.0315473, 0.00617941, 8.4912e-05, 0.00303963, 0.0672462, 0.555456, 0.00574461, 0.231893, 0.152384, 0.288711, 0.152384, 0.175813, 0.152384, 0.152384, 0.152384, 0.413275, 0.220281, 0.187607, 0.152384, 0.269997, 0.0717045, 0.118814, 0.144515, 0.191295, 0.352075, 0.000481185, 0.0737272, 0.180323, 0.275492, 0.468927, 0.109809, 0.186341, 0.00127062, 0.192862, 0.0670013, 0.0427696, 0.00829841, 0.157652, 0.157652, 0.152384, 0.152384, 0.152384, 0.152384, 0.152384, 0.00609491, 0.00341544, 0.152384, 0.152384, 0.207949, 0.152384, 0.152384, 0.152384, 0.152384, 0.152384, 0.204342, 0.152384, 0.353992, 0.152384, 0.152384, 0.148045, 0.152384, 0.152384, 0.152384, 0.152384, 0.45463, 0.207949],\n",
       "        [0.545066, 0.275009, 0.232852, 0.254094, 0.133938, 0.272054, 0.0283755, 0.0828376, 0.260036, 0.0963518, 0.408406, 0.0688017, 0.0652031, 0.154664, 0.272604, 0.140134, 0.152428, 0.177386, 0.198262, 0.117286, 0.0487701, 0.215601, 0.16432, 0.363339, 0.287788, 0.596542, 0.0981816, 0.568691, 0.0981816, 0.116795, 0.0981816, 0.0981816, 0.0981816, 0.581645, 0.25144, 0.618351, 0.0981816, 0.725834, 0.928295, 0.339589, 0.8549, 0.771012, 0.044201, 0.999519, 0.925325, 0.819677, 0.724209, 0.504795, 0.890191, 0.813657, 0.998729, 0.701017, 0.932998, 0.434227, 0.930462, 0.553848, 0.553848, 0.0981816, 0.0981816, 0.0981816, 0.0981816, 0.0981816, 0.663357, 0.828022, 0.0981816, 0.0981816, 0.703617, 0.0981816, 0.0981816, 0.0981816, 0.0981816, 0.0981816, 0.254094, 0.0981816, 0.352659, 0.0981816, 0.0981816, 0.765933, 0.0981816, 0.0981816, 0.0981816, 0.0981816, 0.301847, 0.703617],\n",
       "        [0.00658101, 0.11856, 0.119847, 0.235755, 0.361762, 0.0912008, 0.498583, 0.01762, 0.150596, 0.2475, 0, 0.299777, 0.0814831, 0.548571, 0.0719451, 0.333399, 0, 0.363878, 0.424478, 0.379802, 0.00330929, 0.0148164, 0.192859, 0.0442322, 0.0193537, 0.0492582, 0.396868, 0.0557687, 0.396868, 0.639217, 0.396868, 0.396868, 0.396868, 0, 0.275404, 0.0243557, 0.396868, 0.000103116, 0, 0.085408, 5.04164e-05, 0.0165161, 0.443927, 0, 0.000165772, 2.5963e-09, 0.000293838, 0.0261969, 8.8739e-11, 1.55268e-06, 4.1294e-20, 0.0710362, 2.13014e-08, 0.0472907, 0.0040994, 0.153159, 0.153159, 0.396868, 0.396868, 0.396868, 0.396868, 0.396868, 0.000555452, 1.82643e-05, 0.396868, 0.396868, 0.0280717, 0.396868, 0.396868, 0.396868, 0.396868, 0.396868, 0.235755, 0.396868, 0.0972141, 0.396868, 0.396868, 0.0229329, 0.396868, 0.396868, 0.396868, 0.396868, 0.0509894, 0.0280717],\n",
       "        [0.302914, 0.475951, 0.528308, 0.305809, 0.472497, 0.194273, 0.471362, 0.887559, 0.221777, 0.652588, 0.52885, 0.630203, 0.837521, 0.245007, 0.482286, 0.507719, 0.000541741, 0.364763, 0.345713, 0.496732, 0.947836, 0.766543, 0.575575, 0.0369724, 0.687114, 0.122306, 0.352567, 0.0868296, 0.352567, 0.0681749, 0.352567, 0.352567, 0.352567, 0.00508016, 0.252875, 0.169686, 0.352567, 0.00406536, 6.41116e-08, 0.456189, 0.000534367, 0.0211776, 0.159797, 1.04574e-15, 0.000781617, 2.88135e-08, 5.36117e-06, 8.13237e-05, 2.21026e-14, 1.36097e-07, 1.41745e-21, 0.0350852, 7.23939e-07, 0.475712, 0.0571405, 0.135341, 0.135341, 0.352567, 0.352567, 0.352567, 0.352567, 0.352567, 0.329993, 0.168544, 0.352567, 0.352567, 0.0603618, 0.352567, 0.352567, 0.352567, 0.352567, 0.352567, 0.305809, 0.352567, 0.196135, 0.352567, 0.352567, 0.0630889, 0.352567, 0.352567, 0.352567, 0.352567, 0.192534, 0.0603618]]), 'most_likely_positions_1D': None}),\n",
       " DynamicContainer({'p_x_given_n': array([[0.133067, 0.258038, 0.855514, 0.207949, 0.248496, 0.332691, 0.207949, 0.248496, 0.219104, 0.299875, 0.353992, 0.204342, 0.353992, 0.152384, 0.196276, 0.49613, 0.315991, 0.152384, 0.315991, 0.300397, 0.204342, 0.152384, 0.319902, 0.0187481, 0.152384, 0.192831, 0.252804, 0.37984, 0.940211, 0.204342, 0.985332, 0.999759, 0.278899, 0.89644, 0.991066, 0.867526, 0.774871, 0.203482, 0.152384, 0.00971117, 0.502885, 0.152384, 0.160661, 0.751843, 0.031498, 0.358254, 0.625823, 0.999801, 0.0294399, 0.182464, 0.75298, 0.358254, 0.467914, 0.810457, 0.0391225, 0.619114, 0.846321, 0.353992, 0.575232, 0.926079, 0.999564, 0.117916, 0.152384, 0.152384, 0.70913, 0.145879, 0.152384, 0.150386, 0.331994, 0.152384, 0.0939731, 0.152384, 0.315991, 0.505116, 0.15381, 0.152384, 0.139789, 0.419772, 0.342574, 0.247046, 0.343208, 0.302967, 0.152384, 0.464591, 0.299161, 0.248496, 0.13402, 0.248496, 0.232127, 0.14273, 0.299875, 0.299161, 0.0701101, 0.410748],\n",
       "        [0.801202, 0.0995253, 0.0684943, 0.703617, 0.612516, 0.286747, 0.703617, 0.612516, 0.713371, 0.540725, 0.352659, 0.254094, 0.352659, 0.0981816, 0.211964, 0.32772, 0.386393, 0.0981816, 0.386393, 0.113651, 0.254094, 0.0981816, 0.00306482, 0.140134, 0.0981816, 0.766321, 0.103507, 0.0114662, 0.0271439, 0.254094, 0.0146678, 0.000241087, 0.0443519, 0.103558, 0.00893153, 0.0508794, 0.224119, 0.530191, 0.0981816, 0.0316299, 0.460175, 0.0981816, 9.93725e-05, 0.142691, 0.230691, 0.289154, 0.0669532, 0.000198154, 0.000597042, 0.0575415, 0.000803697, 0.289154, 0.000601693, 0.0871426, 0.144381, 0.0056909, 0.00540224, 0.352659, 0.00088938, 0.064927, 0.00043589, 0.20807, 0.0981816, 0.0981816, 0.290864, 0.224975, 0.0981816, 0.18021, 0.371489, 0.0981816, 0.177386, 0.0981816, 0.386393, 0.258116, 0.302647, 0.0981816, 0.342803, 0.137006, 0.0930834, 0.231102, 0.575026, 0.205757, 0.0981816, 0.0790058, 0.180677, 0.612516, 0.780438, 0.612516, 0.586446, 0.813913, 0.540725, 0.180677, 0.911975, 0.563555],\n",
       "        [0.0256907, 0.231299, 0.0136673, 0.0280717, 0.0487444, 0.0440409, 0.0280717, 0.0487444, 0.01623, 0.0420159, 0.0972141, 0.235755, 0.0972141, 0.396868, 0.550857, 0.000554068, 0.0916759, 0.396868, 0.0916759, 0.55119, 0.235755, 0.396868, 0.576136, 0.333399, 0.396868, 0.0405606, 0.339685, 0.596331, 0.0311943, 0.235755, 1.01323e-07, 5.87621e-09, 0.616658, 1.98062e-06, 2.59343e-06, 0.0815435, 1.27069e-05, 0.134366, 0.396868, 0.156998, 0.0219523, 0.396868, 0.839235, 0.0909015, 0.359851, 0.20617, 0.288753, 0, 0.969658, 0.507996, 0.246216, 0.20617, 0.531424, 0.0966389, 0.799958, 0.374604, 0.14811, 0.0972141, 0.423838, 0, 0, 0.233795, 0.396868, 0.396868, 0, 0.332415, 0.396868, 0.403936, 0, 0.396868, 0.363878, 0.396868, 0.0916759, 0.0230297, 0.229236, 0.396868, 0.33676, 0.269927, 0.559065, 0.302697, 0.0006054, 0.464658, 0.396868, 0.105302, 0.189165, 0.0487444, 0.0285844, 0.0487444, 0.000531024, 0.00110089, 0.0420159, 0.189165, 0.00911861, 0.000914676],\n",
       "        [0.0400403, 0.411137, 0.0623242, 0.0603618, 0.0902438, 0.336521, 0.0603618, 0.0902438, 0.0512941, 0.117385, 0.196135, 0.305809, 0.196135, 0.352567, 0.0409028, 0.175596, 0.20594, 0.352567, 0.20594, 0.0347623, 0.305809, 0.352567, 0.100897, 0.507719, 0.352567, 0.000287813, 0.304004, 0.0123631, 0.0014508, 0.305809, 9.19622e-16, 1.28812e-15, 0.0600913, 1.45967e-07, 3.25737e-08, 5.09838e-05, 0.000997658, 0.13196, 0.352567, 0.80166, 0.0149878, 0.352567, 4.9315e-06, 0.0145651, 0.37796, 0.146421, 0.0184711, 1.25769e-06, 0.000304663, 0.251999, 3.5971e-21, 0.146421, 6.04868e-05, 0.00576105, 0.0165392, 0.000591514, 0.000166957, 0.196135, 4.02192e-05, 0.0089944, 8.03946e-08, 0.440219, 0.352567, 0.352567, 5.53688e-06, 0.296731, 0.352567, 0.265468, 0.296517, 0.352567, 0.364763, 0.352567, 0.20594, 0.213738, 0.314307, 0.352567, 0.180647, 0.173295, 0.00527838, 0.219155, 0.0811608, 0.026618, 0.352567, 0.351101, 0.330997, 0.0902438, 0.0569569, 0.0902438, 0.180896, 0.0422565, 0.117385, 0.330997, 0.00879593, 0.0247828]]), 'most_likely_positions_1D': None}),\n",
       " DynamicContainer({'p_x_given_n': array([[2.82071e-09, 0.271539, 0.599837, 0.315991, 0.109634, 0.142944, 0.952525, 0.129094, 0.119611, 0.216163, 0.000238629, 0.0913506, 0.44882, 0.0913506, 0.00415789, 0.317898, 0.124183, 0.00961318, 0.00525747, 0.000163496, 0.0185354, 0.353992, 0.317197, 0.00479175, 0.166518, 0.194755, 0.00609491, 0.00609491, 0.0242958, 0.604138, 0.00341544, 0.152384, 0.358254, 0.152384, 0.00525747, 0.00718302, 0.152384],\n",
       "        [0.999981, 0.588684, 0.286982, 0.386393, 0.346055, 0.508098, 0.0354609, 0.56805, 0.793989, 0.377295, 0.514755, 0.268662, 0.034555, 0.268662, 0.752693, 0.635734, 0.795286, 0.702994, 0.419051, 0.458704, 0.981115, 0.352659, 0.5682, 0.995204, 0.418013, 0.225249, 0.663357, 0.663357, 0.553752, 0.393342, 0.828022, 0.0981816, 0.289154, 0.0981816, 0.419051, 0.710892, 0.0981816],\n",
       "        [1.65425e-27, 0.0614713, 0.103661, 0.0916759, 0.33243, 0.301206, 0.0120141, 0.301438, 0.0034069, 0.360451, 5.04544e-06, 0.337752, 0.516613, 0.337752, 9.04307e-05, 0.0463671, 0.00061683, 3.72569e-05, 0.000936386, 6.4841e-05, 0.000349372, 0.0972141, 0.0431855, 4.59154e-06, 0.0805325, 0.203433, 0.000555452, 0.000555452, 0.00646848, 0, 1.82643e-05, 0.396868, 0.20617, 0.396868, 0.000936386, 0.000112064, 0.396868],\n",
       "        [1.88295e-05, 0.0783057, 0.00952059, 0.20594, 0.211881, 0.0477512, 1.25305e-09, 0.00141796, 0.0829934, 0.0460916, 0.485002, 0.302236, 1.19721e-05, 0.302236, 0.243059, 1.73362e-12, 0.0799148, 0.287356, 0.574756, 0.541068, 4.36916e-09, 0.196135, 0.0714182, 4.99785e-11, 0.334937, 0.376563, 0.329993, 0.329993, 0.415483, 0.00251934, 0.168544, 0.352567, 0.146421, 0.352567, 0.574756, 0.281813, 0.352567]]), 'most_likely_positions_1D': None}),\n",
       " DynamicContainer({'p_x_given_n': array([[0.014427, 0.149543, 0.0231375, 0.0701101, 0.466446, 0.145087, 0.957015, 0.00295815, 0.0808854, 0.103653, 0.292249, 0.0228274, 0.00949999, 0.0241864, 0.256577, 0.368645, 0.546442, 0.456967, 0.315991, 0.247046, 0.248496, 0.152384, 0.268804, 0.248496, 0.152384, 0.233686, 0.234953, 0.225935, 0.302967, 0.162718, 0.152384, 0.457523, 0.315991, 0.152384, 0.268804, 0.315991, 0.621373, 0.315991, 0.315991, 0.103653, 0.139789],\n",
       "        [0.701131, 0.213197, 0.201787, 0.911975, 0.280386, 0.523382, 0.0428712, 1.34362e-05, 0.654452, 0.64477, 0.294682, 0.172597, 0.12754, 0.163996, 0.516069, 0.450711, 0.364238, 0.201382, 0.386393, 0.231102, 0.612516, 0.0981816, 0.388359, 0.612516, 0.0981816, 0.15086, 0.570855, 0.473621, 0.205757, 0.800308, 0.0981816, 0.371012, 0.386393, 0.0981816, 0.388359, 0.386393, 0.229547, 0.386393, 0.386393, 0.64477, 0.342803],\n",
       "        [0.0133791, 0.186754, 0.182987, 0.00911861, 0.0640836, 0.0725543, 0, 0.996981, 0.0186135, 0.011379, 0.323781, 0.0621673, 0.458609, 0.0192008, 0.129408, 0.160012, 0.0791082, 0.325817, 0.0916759, 0.302697, 0.0487444, 0.396868, 0.257381, 0.0487444, 0.396868, 0.535653, 0.167703, 0.245218, 0.464658, 0.0354028, 0.396868, 0.147004, 0.0916759, 0.396868, 0.257381, 0.0916759, 0.00239825, 0.0916759, 0.0916759, 0.011379, 0.33676],\n",
       "        [0.271063, 0.450506, 0.592088, 0.00879593, 0.189084, 0.258977, 0.000113727, 4.76715e-05, 0.24605, 0.240197, 0.089288, 0.742408, 0.404351, 0.792617, 0.0979469, 0.0206326, 0.0102115, 0.0158346, 0.20594, 0.219155, 0.0902438, 0.352567, 0.0854559, 0.0902438, 0.352567, 0.0798009, 0.0264889, 0.0552263, 0.026618, 0.00157095, 0.352567, 0.0244616, 0.20594, 0.352567, 0.0854559, 0.20594, 0.146682, 0.20594, 0.20594, 0.240197, 0.180647]]), 'most_likely_positions_1D': None}),\n",
       " DynamicContainer({'p_x_given_n': array([[0.000929643, 0.0255518, 0.000160747, 0.555456, 0.502296, 0.0212958, 0.315991, 0.152384, 0.994227, 0.401335, 0.493918, 0.652247, 0.800209, 0.152384, 0.152384, 0.0145136, 0.477181],\n",
       "        [0.205823, 0.973236, 6.61134e-09, 0.363339, 0.0742566, 0.000704826, 0.386393, 0.0981816, 0.00570525, 1.00823e-05, 0.434855, 0.244052, 0.199791, 0.0981816, 0.0981816, 0.407752, 1.14263e-06],\n",
       "        [0.00574249, 0.000708491, 0.999839, 0.0442322, 0.406602, 0.976612, 0.0916759, 0.396868, 5.60954e-06, 0.598654, 0.034161, 0.0931518, 8.02314e-08, 0.396868, 0.396868, 0.481757, 0.522729],\n",
       "        [0.787505, 0.000503928, 7.836e-08, 0.0369724, 0.0168453, 0.00138719, 0.20594, 0.352567, 6.25713e-05, 3.0111e-07, 0.0370657, 0.0105491, 5.35761e-08, 0.352567, 0.352567, 0.0959772, 8.96672e-05]]), 'most_likely_positions_1D': None}),\n",
       " DynamicContainer({'p_x_given_n': array([[0.980832, 0.998807, 0.938652, 0.970685, 0.806092, 0.620366, 0.91876, 0.698739, 0.204342, 0.698739, 0.00831359, 0.367591, 0.152384, 0.0243623, 0.342781, 0.342781, 0.00171355, 0.509906, 0.138881, 0.138881, 0.0803065, 0.315077, 0.365081, 0.794413, 0.0516511, 0.0618067, 0.819228, 0.088853, 0.103153, 0.000660334, 0.198037, 0.16076, 0.687497, 0.139789, 0.466446, 0.367591, 0.0721156, 0.273346, 0.152384, 0.204342, 0.152384, 0.152384, 0.367591, 0.152384, 0.152384, 0.152384, 0.152384, 0.152384],\n",
       "        [0.0168279, 0.0011933, 0.0610823, 0.0289998, 0.0228535, 0.377532, 0.0375161, 0.29227, 0.254094, 0.29227, 0.327094, 0.260036, 0.0981816, 0.0027825, 0.408651, 0.408651, 0.00489099, 0.0415391, 0.204906, 0.204906, 0.103716, 0.00996953, 0.000790642, 0.0326638, 4.16474e-06, 0.0449469, 0.0588937, 0.000134445, 4.51384e-05, 0.0481415, 0.134758, 0.713696, 0.303176, 0.342803, 0.280386, 0.260036, 0.203176, 0.0936252, 0.0981816, 0.254094, 0.0981816, 0.0981816, 0.260036, 0.0981816, 0.0981816, 0.0981816, 0.0981816, 0.0981816],\n",
       "        [0.00232068, 4.51035e-09, 0.000222765, 0.000314296, 0.171009, 0.00207678, 0.0435412, 0.00615623, 0.235755, 0.00615623, 0.053842, 0.150596, 0.396868, 0.967271, 0.0235145, 0.0235145, 0.874172, 0.411197, 0.342406, 0.342406, 0.406679, 0.66821, 0.634018, 0.172666, 0.948344, 0.8683, 0, 0.910956, 0.896793, 0.110922, 0.519275, 0, 0, 0.33676, 0.0640836, 0.150596, 0.0321402, 0.470328, 0.396868, 0.235755, 0.396868, 0.396868, 0.150596, 0.396868, 0.396868, 0.396868, 0.396868, 0.396868],\n",
       "        [1.89035e-05, 7.70978e-19, 4.33844e-05, 1.34714e-06, 4.59635e-05, 2.50053e-05, 0.000182941, 0.00283485, 0.305809, 0.00283485, 0.610751, 0.221777, 0.352567, 0.00558374, 0.225054, 0.225054, 0.119224, 0.0373584, 0.313807, 0.313807, 0.409298, 0.00674405, 0.000110367, 0.000257288, 9.50206e-07, 0.0249466, 0.121879, 5.62519e-05, 8.29265e-06, 0.840276, 0.14793, 0.125544, 0.00932612, 0.180647, 0.189084, 0.221777, 0.692568, 0.162701, 0.352567, 0.305809, 0.352567, 0.352567, 0.221777, 0.352567, 0.352567, 0.352567, 0.352567, 0.352567]]), 'most_likely_positions_1D': None}),\n",
       " DynamicContainer({'p_x_given_n': array([[0.468682, 0.152384, 0.152384, 0.247046, 0.367591, 0.014427, 0.152384, 0.064599, 0.347994, 0.152384, 0.152384, 0.466446, 0.466446, 0.0202099, 0.128793, 0.0027592, 0.000684406, 0.0105418, 0.064599, 0.442472, 0.0215332, 2.37119e-07, 0.128793, 0, 0.00321157, 0.0328533, 0.0202583, 0.367591, 0.128793, 0.000602008, 0.026685, 0.124888, 0.0147096, 0.124129, 0.505116, 0.00437539, 0.0262549, 0.152384, 0.00574461, 0.00303963, 0.0939731, 0.00040987, 0.000373209, 0.00148319, 0.244044, 0.0174393, 0.231938, 0.78376, 0.728164, 0.346085, 0.129351, 0.698739, 0.106257, 0.160884, 0.0093318, 0.191295, 0, 1.39828e-05, 0.155855, 0, 0.408477, 0, 0.0850861, 0.000684002, 0, 0.106257, 1.94527e-05, 0.0149826, 0, 0.167674, 5.00452e-11, 0.000240923, 0, 0.111241, 0.118814, 0.315991, 4.87862e-05, 0.0197726, 0.0202602, 0.0338832, 0.0302368, 0.152384, 0.54035, 0.152384, 0.204342, 0.118814, 0.223007, 0.315991, 0.0396856, 0.180504],\n",
       "        [0.101622, 0.0981816, 0.0981816, 0.231102, 0.260036, 0.701131, 0.0981816, 0.19073, 0.56397, 0.0981816, 0.0981816, 0.280386, 0.280386, 0.071351, 0.229239, 0.0538145, 0.0592044, 0.0752901, 0.19073, 0.272054, 0.140303, 0.0368595, 0.229239, 9.01369e-12, 0.994852, 0.470407, 0.130506, 0.260036, 0.229239, 0.0386686, 0.233692, 0.274199, 0.0990355, 0.169142, 0.258116, 0.0537776, 0.0966836, 0.0981816, 0.287788, 0.215601, 0.177386, 0.120751, 0.0781428, 0.000263518, 0.488583, 0.617123, 0.166867, 0.0689916, 0.215376, 0.492867, 0.752583, 0.29227, 0.234568, 0.59485, 0.988327, 0.771012, 8.29338e-12, 1.36848e-08, 0.370239, 1.58677e-07, 0.591449, 1.43997e-11, 0.265132, 0.00352523, 4.57471e-13, 0.234568, 4.35566e-05, 0.868924, 0.0194047, 0.292109, 0.259171, 0.000225652, 5.49876e-07, 0.365243, 0.339589, 0.386393, 0.00650271, 0.3558, 0.859368, 0.0569547, 0.236169, 0.0981816, 0.412428, 0.0981816, 0.254094, 0.339589, 0.721278, 0.386393, 0.123001, 0.273638],\n",
       "        [0.167055, 0.396868, 0.396868, 0.302697, 0.150596, 0.0133791, 0.396868, 0.0163594, 0.00241374, 0.396868, 0.396868, 0.0640836, 0.0640836, 0.295952, 0.155022, 0.0997878, 0.167452, 0.0195189, 0.0163594, 0.0912008, 0.151451, 4.36151e-11, 0.155022, 0, 1.67993e-07, 0.0280411, 0.125729, 0.150596, 0.155022, 0.0838098, 0, 0.208896, 0.0194672, 0.503142, 0.0230297, 0.00872366, 0.0998268, 0.396868, 0.0193537, 0.0148164, 0.363878, 0.0560951, 0.133815, 0.00835611, 0.19499, 0.0189248, 0.565838, 0.14609, 0.0466587, 0.0368541, 0.0456684, 0.00615623, 0.187864, 0.0841068, 0.000282101, 0.0165161, 0.000453766, 0.000233441, 0.142561, 0.0185892, 1.55063e-05, 0.00115122, 0.115178, 0.0404181, 0.0232314, 0.187864, 0.0109648, 0.00245348, 0.575981, 0.110258, 0.0115835, 0.0298448, 0.00102115, 0.0189867, 0.085408, 0.0916759, 3.48642e-06, 0.00370758, 0.000831126, 0.0154533, 0, 0.396868, 0.040987, 0.396868, 0.235755, 0.085408, 0.013871, 0.0916759, 0.0352699, 0.00451546],\n",
       "        [0.262641, 0.352567, 0.352567, 0.219155, 0.221777, 0.271063, 0.352567, 0.728311, 0.0856224, 0.352567, 0.352567, 0.189084, 0.189084, 0.612487, 0.486947, 0.843639, 0.77266, 0.894649, 0.728311, 0.194273, 0.686713, 0.96314, 0.486947, 1, 0.00193637, 0.468698, 0.723506, 0.221777, 0.486947, 0.87692, 0.739623, 0.392018, 0.866788, 0.203587, 0.213738, 0.933123, 0.777235, 0.352567, 0.687114, 0.766543, 0.364763, 0.822744, 0.787669, 0.989897, 0.0723827, 0.346513, 0.035357, 0.00115848, 0.00980105, 0.124194, 0.0723973, 0.00283485, 0.471311, 0.160159, 0.00205944, 0.0211776, 0.999546, 0.999753, 0.331345, 0.981411, 5.82829e-05, 0.998849, 0.534604, 0.955373, 0.976769, 0.471311, 0.988972, 0.11364, 0.404614, 0.42996, 0.729245, 0.969689, 0.998978, 0.50453, 0.456189, 0.20594, 0.993445, 0.62072, 0.119541, 0.893709, 0.733594, 0.352567, 0.0062344, 0.352567, 0.305809, 0.456189, 0.0418443, 0.20594, 0.802043, 0.541342]]), 'most_likely_positions_1D': None}),\n",
       " DynamicContainer({'p_x_given_n': array([[0, 0, 0.0101176, 0, 0.151203, 0.000541315, 8.46859e-05, 0.254752, 0.25925, 0.0334344, 0.173628, 0.0645445, 0.00149779, 0.0179494, 0.00241284, 0.0126846, 0.00241284, 0.00355986, 0.069009, 0.0315473, 0.0939731, 0.117916, 0.152384, 0.0211947, 0.152384, 0.0187481, 0.152384, 0.152384, 0.152384, 0.367591, 0.152384, 0.152384, 0.152384, 0.152384, 0.152384, 0.152384, 0.152384, 0.152384, 0.152384],\n",
       "        [0.000115766, 6.69412e-11, 0.243798, 0.000484995, 0.0987736, 0.000174253, 0.0607986, 8.28337e-06, 0.305022, 0.00956763, 0.000161623, 0.000146812, 0.000271731, 3.90575e-07, 0.00233578, 0.092215, 0.00233578, 0.0963518, 0.247625, 0.198262, 0.177386, 0.20807, 0.0981816, 0.144256, 0.0981816, 0.140134, 0.0981816, 0.0981816, 0.0981816, 0.260036, 0.0981816, 0.0981816, 0.0981816, 0.0981816, 0.0981816, 0.0981816, 0.0981816, 0.0981816, 0.0981816],\n",
       "        [0.723691, 0.125414, 0.356219, 0.378013, 0.748341, 0.998254, 0.125837, 0.745232, 0.433104, 0.947673, 0.826162, 0.935196, 0.992667, 0.98205, 0.961212, 0.427674, 0.961212, 0.2475, 0.277468, 0.424478, 0.363878, 0.233795, 0.396868, 0.215046, 0.396868, 0.333399, 0.396868, 0.396868, 0.396868, 0.150596, 0.396868, 0.396868, 0.396868, 0.396868, 0.396868, 0.396868, 0.396868, 0.396868, 0.396868],\n",
       "        [0.276193, 0.874586, 0.389865, 0.621502, 0.00168252, 0.00103081, 0.813279, 8.32414e-06, 0.00262385, 0.00932478, 4.87784e-05, 0.000112719, 0.00556344, 3.97398e-07, 0.0340393, 0.467427, 0.0340393, 0.652588, 0.405898, 0.345713, 0.364763, 0.440219, 0.352567, 0.619504, 0.352567, 0.507719, 0.352567, 0.352567, 0.352567, 0.221777, 0.352567, 0.352567, 0.352567, 0.352567, 0.352567, 0.352567, 0.352567, 0.352567, 0.352567]]), 'most_likely_positions_1D': None}),\n",
       " DynamicContainer({'p_x_given_n': array([[0.152384, 0.248496, 0.117916, 0.0939731, 0.152384, 0.152384, 0.152384, 0.367591, 0.204342, 0.442472, 0.346085, 0.0147096, 0.367591, 0.142619, 0.0119837, 0.463212, 0.000170418, 0.000363507, 0.00618856, 0.152384, 0.00218124, 0.018231, 0.198037, 0.358254, 0.362647, 0.000334395, 0.00102526, 0.0939731, 9.26865e-05, 0.00557308, 0.000924198, 0.152384, 0.000201845, 0.000987217, 0.0520395, 0.0278378, 0, 0.0305995, 0.0328533, 6.88293e-05, 0, 0.0261424, 0, 0.152384, 0.233147, 0.0665893, 0, 0.0199938, 0, 0, 0, 0, 0, 0, 0.000444957, 0.00997887, 0.00239173, 0.0701497, 0.237242, 0.0651241, 0.353992, 0.152384, 0.152384, 0.258984, 0.152384, 8.44432e-09, 8.44432e-09, 0.152384, 0.152384, 0.367591, 0.000482963, 0.0242958, 0.0939731, 0.152384, 0.000163496, 0.204342, 0.152384, 0.152384, 6.1382e-06, 0, 0.299161, 0.152384, 0.00609491, 0.00141989, 0.00211636, 0.152384, 1.85866e-05, 0.731301, 6.1382e-06, 2.15192e-07, 0.000154892, 0.00415789, 0.00609491],\n",
       "        [0.0981816, 0.612516, 0.20807, 0.177386, 0.0981816, 0.0981816, 0.0981816, 0.260036, 0.254094, 0.272054, 0.492867, 0.0990355, 0.260036, 0.257083, 0.0828376, 0.287212, 0.00492839, 0.0165244, 0.0746803, 0.0981816, 0.0229757, 6.38425e-05, 0.134758, 0.289154, 0.0735909, 0.0353376, 0.145841, 0.177386, 0.0757885, 0.357119, 0.00830034, 0.0981816, 0.0051653, 0.0462479, 0.0828343, 0.340314, 3.30822e-11, 0.000246676, 0.470407, 0.0252979, 3.30789e-12, 0.433616, 4.68236e-10, 0.0981816, 0.591993, 0.00427871, 3.09378e-10, 0.0254157, 2.08826e-15, 5.41606e-13, 4.08371e-14, 1.22853e-06, 8.72015e-10, 5.4297e-05, 0.0570011, 0.0124307, 0.0366269, 0.778193, 0.0528068, 0.90082, 0.352659, 0.0981816, 0.0981816, 0.163369, 0.0981816, 0.681836, 0.681836, 0.0981816, 0.0981816, 0.260036, 0.378868, 0.553752, 0.177386, 0.0981816, 0.458704, 0.254094, 0.0981816, 0.0981816, 0.847889, 0.00559047, 0.180677, 0.0981816, 0.663357, 0.404251, 0.965593, 0.0981816, 0.996925, 0.268693, 0.847889, 0.602525, 0.183582, 0.752693, 0.663357],\n",
       "        [0.396868, 0.0487444, 0.233795, 0.363878, 0.396868, 0.396868, 0.396868, 0.150596, 0.235755, 0.0912008, 0.0368541, 0.0194672, 0.150596, 0.345789, 0.01762, 0.0591454, 0.00605748, 0.010882, 0.312248, 0.396868, 0.0634584, 0, 0.519275, 0.20617, 0.525183, 0.355887, 0.0217007, 0.363878, 0.00463817, 0.0499544, 0.937496, 0.396868, 0.00211387, 0.220736, 0.205343, 0.245552, 0.0102293, 0.968929, 0.0280411, 0.0315454, 0.0108613, 0.0450842, 0.00765554, 0.396868, 0.0883879, 0.218814, 0.00131146, 0.112534, 0.000172742, 0.000102367, 7.81151e-05, 0.0111781, 0.000236049, 0.0318424, 0.00231685, 0.00307619, 0.000116007, 0.065124, 2.75667e-05, 0.00261737, 0.0972141, 0.396868, 0.396868, 0.542835, 0.396868, 5.93733e-07, 5.93733e-07, 0.396868, 0.396868, 0.150596, 9.66275e-15, 0.00646848, 0.363878, 0.396868, 6.4841e-05, 0.235755, 0.396868, 0.396868, 1.24761e-18, 0, 0.189165, 0.396868, 0.000555452, 2.976e-19, 1.09359e-21, 0.396868, 0.000719413, 5.32006e-06, 1.24761e-18, 2.36357e-06, 4.12911e-18, 9.04307e-05, 0.000555452],\n",
       "        [0.352567, 0.0902438, 0.440219, 0.364763, 0.352567, 0.352567, 0.352567, 0.221777, 0.305809, 0.194273, 0.124194, 0.866788, 0.221777, 0.254509, 0.887559, 0.190431, 0.988844, 0.97223, 0.606883, 0.352567, 0.911385, 0.981705, 0.14793, 0.146421, 0.0385788, 0.608441, 0.831434, 0.364763, 0.919481, 0.587354, 0.0532798, 0.352567, 0.992519, 0.732029, 0.659783, 0.386296, 0.989771, 0.000224796, 0.468698, 0.943088, 0.989139, 0.495158, 0.992344, 0.352567, 0.0864723, 0.710318, 0.998689, 0.842056, 0.999827, 0.999898, 0.999922, 0.988821, 0.999764, 0.968103, 0.940237, 0.974514, 0.960865, 0.0865332, 0.709924, 0.0314386, 0.196135, 0.352567, 0.352567, 0.0348119, 0.352567, 0.318163, 0.318163, 0.352567, 0.352567, 0.221777, 0.62065, 0.415483, 0.364763, 0.352567, 0.541068, 0.305809, 0.352567, 0.352567, 0.152105, 0.99441, 0.330997, 0.352567, 0.329993, 0.594329, 0.0322904, 0.352567, 0.00233687, 7.3259e-07, 0.152105, 0.397472, 0.816264, 0.243059, 0.329993]]), 'most_likely_positions_1D': None}),\n",
       " DynamicContainer({'p_x_given_n': array([[0.237213, 0.239895, 0.0312939, 0.118814, 0.250954, 0.350938, 0.221902, 0.0818069, 0.167674, 0, 0.34812, 0.152384, 4.06339e-05, 0.0939731, 0.723715, 0.281763, 0.305281, 0, 0.0124808, 0.00229137, 0, 0.00420845, 4.88775e-05, 0.282523, 0.156268, 1.47915e-06, 0.121064, 0.00467314, 0.00121111, 0.00810443, 0.00323864, 0.143627, 0.139789, 0.00847808, 0.367591, 0.0939731, 0.367591, 0.152384, 0.152384, 0.152384, 0.152384, 0.299161, 0.152384, 0.398126, 0.386894, 0.516963, 0.607618, 0.144875, 0.00179741, 5.12867e-07, 0.072564, 0.0225777, 0.0256945, 0.637203, 0.028582, 0.0396234, 0.0147986, 0.249505, 0.299614, 0.0366211, 0.868504, 0.00937058],\n",
       "        [0.184593, 0.320463, 0.0192738, 0.339589, 0.526331, 0.0335871, 0.0283414, 0.187069, 0.292109, 5.00031e-10, 0.534186, 0.0981816, 0.0161616, 0.177386, 0.262773, 0.103798, 0.324385, 5.496e-10, 0.0283316, 0.176375, 6.60612e-09, 0.0374189, 7.56285e-05, 0.00691869, 0.252626, 0.023895, 1.31365e-07, 0.103997, 0.00453028, 1.10772e-07, 0.0514466, 0.233226, 0.342803, 0.0781318, 0.260036, 0.177386, 0.260036, 0.0981816, 0.0981816, 0.0981816, 0.0981816, 0.180677, 0.0981816, 0.0545468, 0.0589935, 0.00207799, 0.000310657, 3.0742e-07, 3.12013e-06, 1.26168e-09, 1.99747e-06, 0.00126406, 3.64953e-05, 0.0144534, 0.000264203, 6.24216e-05, 0.0273717, 7.0357e-07, 0.209769, 0.0023215, 0.000214967, 0.000967419],\n",
       "        [0.444182, 0.329848, 0.0175107, 0.085408, 0.0529848, 0.427845, 0.744153, 0.0732149, 0.110258, 0.00346927, 0.0673526, 0.396868, 0.610481, 0.363878, 0.00557735, 0.508854, 0.337025, 0.883297, 0.94918, 0.652026, 0.0618959, 0.343634, 0.999547, 0.710204, 0.486586, 0.022677, 0.878935, 0.200946, 0.855287, 0.991895, 0.175987, 0.405827, 0.33676, 0.369981, 0.150596, 0.363878, 0.150596, 0.396868, 0.396868, 0.396868, 0.396868, 0.189165, 0.396868, 0.547307, 0.553836, 0.480959, 0.392071, 0.855124, 0.998199, 0.999999, 0.927434, 0.976158, 0.974269, 0.347814, 0.971153, 0.960314, 0.95775, 0.750495, 0.490477, 0.961056, 0.131281, 0.986749],\n",
       "        [0.134012, 0.109794, 0.931922, 0.456189, 0.16973, 0.18763, 0.0056036, 0.657909, 0.42996, 0.996531, 0.0503418, 0.352567, 0.373317, 0.364763, 0.00793547, 0.105585, 0.0333091, 0.116703, 0.0100073, 0.169307, 0.938104, 0.614738, 0.000328375, 0.000353994, 0.10452, 0.953426, 1.66447e-28, 0.690384, 0.138971, 2.8086e-07, 0.769328, 0.217319, 0.180647, 0.543409, 0.221777, 0.364763, 0.221777, 0.352567, 0.352567, 0.352567, 0.352567, 0.330997, 0.352567, 1.95373e-05, 0.000276819, 5.39152e-09, 4.21467e-09, 3.29362e-20, 4.40618e-15, 2.72447e-12, 1.3895e-24, 3.93156e-07, 7.50514e-09, 0.00052974, 4.48294e-07, 6.19664e-08, 7.93868e-05, 1.70718e-12, 0.000139713, 1.69766e-06, 2.21293e-10, 0.00291301]]), 'most_likely_positions_1D': None}),\n",
       " DynamicContainer({'p_x_given_n': array([[0.152384, 0.367591, 0.152384, 0.152384, 0.152384, 0.346085, 0.117916, 0.128793, 0.0939731, 0.367591, 0.145879, 0.000660334, 0.00367618, 0.0420111, 0.0318035, 0.367591, 0.248496, 0.142619, 7.77556e-07, 1.54322e-05, 0.000169552, 0.00405769, 2.37871e-05, 2.18204e-05, 0.106257, 2.55484e-07, 0, 1.82416e-05, 0, 0.0242471, 0, 1.601e-11, 0.0096726, 0, 0, 0, 0.0369314, 0.0335955, 0.00309691, 0.00101213, 0.204342, 0.0427696, 0.108868, 0.152384, 0.152384, 0.152384, 0.00380476, 0.152384, 0.00609491, 0.152384, 0.442472, 0.299161, 0.00282514, 0.152384, 0.367591, 0.152384, 0.0562808, 0.152384, 0.00609491, 0.152384, 0.152384, 0.152384, 0.152384, 0.152384, 0, 0.0369671, 0.000161681, 0.0242958],\n",
       "        [0.0981816, 0.260036, 0.0981816, 0.0981816, 0.0981816, 0.492867, 0.20807, 0.229239, 0.177386, 0.260036, 0.224975, 0.0481415, 0.086584, 0.430779, 0.133938, 0.260036, 0.612516, 0.257083, 0.016813, 0.00642689, 0.030308, 0.0102983, 0.0544174, 0.00671398, 0.234568, 1.01499e-05, 4.49482e-10, 0.00644566, 3.63476e-06, 0.191022, 7.95342e-06, 0.0588435, 0.0784657, 1.84004e-09, 6.8693e-16, 1.07526e-10, 0.962482, 0.0560929, 0.0575256, 0.0150938, 0.254094, 0.434227, 0.34182, 0.0981816, 0.0981816, 0.0981816, 0.941366, 0.0981816, 0.663357, 0.0981816, 0.272054, 0.180677, 0.885946, 0.0981816, 0.260036, 0.0981816, 0.916359, 0.0981816, 0.663357, 0.0981816, 0.0981816, 0.0981816, 0.0981816, 0.0981816, 0.519469, 0.853659, 0.897919, 0.553752],\n",
       "        [0.396868, 0.150596, 0.396868, 0.396868, 0.396868, 0.0368541, 0.233795, 0.155022, 0.363878, 0.150596, 0.332415, 0.110922, 0.16089, 0.0315266, 0.361762, 0.150596, 0.0487444, 0.345789, 0.000363583, 0.00127142, 0.191766, 0.0865759, 0.0412197, 0.00133067, 0.187864, 0.70091, 0.00981791, 0.243701, 0.436432, 0.607329, 0.663707, 0.642719, 0.506921, 0.0322907, 0.000102485, 0.00131034, 3.33809e-05, 0.00432036, 1.64068e-05, 9.11238e-05, 0.235755, 0.0472907, 0.137698, 0.396868, 0.396868, 0.396868, 0.00211821, 0.396868, 0.000555452, 0.396868, 0.0912008, 0.189165, 3.93239e-06, 0.396868, 0.150596, 0.396868, 0.0114138, 0.396868, 0.000555452, 0.396868, 0.396868, 0.396868, 0.396868, 0.396868, 0, 0.00367278, 0.000195687, 0.00646848],\n",
       "        [0.352567, 0.221777, 0.352567, 0.352567, 0.352567, 0.124194, 0.440219, 0.486947, 0.364763, 0.221777, 0.296731, 0.840276, 0.74885, 0.495683, 0.472497, 0.221777, 0.0902438, 0.254509, 0.982823, 0.992286, 0.777756, 0.899068, 0.904339, 0.991934, 0.471311, 0.29908, 0.990182, 0.749836, 0.563564, 0.177402, 0.336285, 0.298438, 0.404941, 0.967709, 0.999898, 0.99869, 0.000553219, 0.905991, 0.939361, 0.983803, 0.305809, 0.475712, 0.411613, 0.352567, 0.352567, 0.352567, 0.0527115, 0.352567, 0.329993, 0.352567, 0.194273, 0.330997, 0.111225, 0.352567, 0.221777, 0.352567, 0.0159461, 0.352567, 0.329993, 0.352567, 0.352567, 0.352567, 0.352567, 0.352567, 0.480531, 0.105701, 0.101724, 0.415483]]), 'most_likely_positions_1D': None}),\n",
       " DynamicContainer({'p_x_given_n': array([[0.709845, 0.346085, 0.25436, 0.233686, 0.236786, 0.37041, 0.233924, 0.41281, 0.491474, 0, 0.240931, 0.122601, 0.319518, 0.426155, 0, 0.487976, 0.0326664, 0.14862, 4.4209e-08, 0.00016728, 0.0028908, 0.123183, 0.000274565, 0.148136, 0, 0.000229192, 1.66135e-06, 0.109518, 0.0632875, 0.000997412, 0.0177451, 0.901355, 0.0142349, 0.0061236, 0.0656619, 0.015897, 0.00893064, 0.0116914, 0.00154535, 0.00443856, 0.0315473, 0.0263057, 0.152384],\n",
       "        [0.0166255, 0.492867, 0.0637927, 0.15086, 0.188553, 0.198537, 0.0664229, 0.224375, 0.0465214, 3.31839e-07, 0.0300782, 0.0225922, 0.0474512, 0.219989, 2.56564e-08, 0.111438, 0.0148043, 0.187484, 1.69199e-06, 7.33154e-05, 0.139597, 0.0910974, 8.08645e-05, 0.215564, 6.7567e-09, 3.75064e-05, 3.87207e-05, 0.207559, 0.358156, 0.00530177, 0.220809, 6.52115e-06, 0.000392931, 0.012721, 9.26798e-05, 0.00277974, 0.000541858, 0.00319621, 0.000100497, 0.130959, 0.198262, 0.0303315, 0.0981816],\n",
       "        [0.191471, 0.0368541, 0.0321928, 0.535653, 0.547672, 0.389904, 0.334914, 0.361446, 0.439936, 0.602812, 0.725657, 0.850648, 0.61542, 0.254424, 0.0296548, 0.277688, 0.925172, 0.145674, 0.806584, 0.935226, 0.121526, 0.62584, 0.999344, 0.329506, 0.0274095, 0.981112, 0.249643, 0.469873, 0.29542, 0.979233, 0.707526, 0.0973706, 0.984563, 0.973625, 0.934203, 0.957437, 0.987669, 0.966019, 0.996386, 0.114153, 0.424478, 0.217355, 0.396868],\n",
       "        [0.0820583, 0.124194, 0.649654, 0.0798009, 0.0269889, 0.0411487, 0.36474, 0.00136891, 0.0220687, 0.397188, 0.00333386, 0.00415873, 0.0176104, 0.0994324, 0.970345, 0.122897, 0.0273574, 0.518222, 0.193414, 0.064533, 0.735985, 0.159879, 0.000300131, 0.306794, 0.97259, 0.0186217, 0.750316, 0.21305, 0.283136, 0.0144674, 0.0539191, 0.00126774, 0.000809408, 0.00753008, 4.19819e-05, 0.0238859, 0.00285825, 0.0190929, 0.00196796, 0.750449, 0.345713, 0.726008, 0.352567]]), 'most_likely_positions_1D': None}),\n",
       " DynamicContainer({'p_x_given_n': array([[0.139789, 0.00181597, 0.515498, 0.000620548, 0.000222787, 0.205411, 0.0389072, 0.00077976, 0, 0, 0.147771, 0, 0, 0, 0, 0, 0, 0.0410894, 0.0215308, 0.000479654, 0.0146954, 0.234342, 0.0427696, 0.0296484, 0.152384, 0.152384, 0.152384, 0.152384, 0.00609491, 0.00415789, 0.152384, 0.152384, 0.00609491, 0.353992, 0.00391512, 0.248496, 0.152384, 0.152384, 0.795666, 0.353992, 0.152384, 0.152384, 0.152384],\n",
       "        [0.342803, 0.0282688, 0.226437, 0.0473124, 0.0168557, 0.068592, 0.656173, 0.0455775, 0.0157679, 3.77146e-08, 0.330599, 3.01587e-05, 3.7138e-06, 3.5821e-09, 6.90101e-12, 4.67583e-14, 2.71743e-08, 0.108401, 0.0109908, 0.0039947, 0.499866, 0.489752, 0.434227, 0.819751, 0.0981816, 0.0981816, 0.0981816, 0.0981816, 0.663357, 0.752693, 0.0981816, 0.0981816, 0.663357, 0.352659, 0.765194, 0.612516, 0.0981816, 0.0981816, 0.0471765, 0.352659, 0.0981816, 0.0981816, 0.0981816],\n",
       "        [0.33676, 0.117342, 0.233857, 0.00621491, 0.0778824, 0.720376, 0.0912708, 0.254111, 0.0494454, 0.0486548, 0.470432, 0.0319984, 0.00255942, 0.0450402, 2.48683e-06, 0.000180813, 0.00165771, 0.0122009, 0.0054539, 8.04169e-06, 0.0126055, 0.0309543, 0.0472907, 0.00024354, 0.396868, 0.396868, 0.396868, 0.396868, 0.000555452, 9.04307e-05, 0.396868, 0.396868, 0.000555452, 0.0972141, 1.95315e-05, 0.0487444, 0.396868, 0.396868, 0.123072, 0.0972141, 0.396868, 0.396868, 0.396868],\n",
       "        [0.180647, 0.852574, 0.0242083, 0.945852, 0.905039, 0.00562054, 0.213649, 0.699532, 0.934787, 0.951345, 0.0511976, 0.967971, 0.997437, 0.95496, 0.999998, 0.999819, 0.998342, 0.838308, 0.962024, 0.995518, 0.472834, 0.244952, 0.475712, 0.150357, 0.352567, 0.352567, 0.352567, 0.352567, 0.329993, 0.243059, 0.352567, 0.352567, 0.329993, 0.196135, 0.230871, 0.0902438, 0.352567, 0.352567, 0.0340863, 0.196135, 0.352567, 0.352567, 0.352567]]), 'most_likely_positions_1D': None}),\n",
       " DynamicContainer({'p_x_given_n': array([[0.247046, 0.152384, 0.152384, 0.239895, 0.157652, 0.152384, 0.2315, 0.239895, 0, 0.7547, 0.30752, 0, 0.134887, 0.0197584, 0.000699061, 0.104255, 5.00955e-05, 8.65281e-05, 0.0025195, 0.0422483, 0.00371221, 0.0252055, 0.00276017, 0.201566, 0.256524, 0.455836, 0.159516, 0.000305643, 0.00896206, 0.00117743, 0.552183, 0.0180642, 0.545685, 7.87261e-05, 0.0211947, 0.117916, 0.152384, 0.152384, 0.152384, 0.152384, 0.117916, 0.152384, 0.152384, 0.152384, 0.152384, 0.316656, 0.152384, 0.408335, 0.472875, 0.419944, 5.2827e-07, 0.0380095, 0.000551542, 0.202112, 2.08515e-05, 0.0262283, 0.0352484, 0.0331833],\n",
       "        [0.231102, 0.0981816, 0.0981816, 0.320463, 0.553848, 0.0981816, 0.540815, 0.320463, 3.55399e-06, 0.0146276, 0.257534, 7.6503e-08, 0.0157682, 0.00127378, 0.0232785, 0.00157087, 0.0127733, 0.00018089, 0.000762922, 0.106677, 0.0609522, 0.0457074, 2.76304e-07, 0.106743, 0.000555098, 0.162646, 0.00610627, 0.0135279, 2.28208e-06, 0.0403755, 0.0763169, 0.40418, 0.172285, 0.0154034, 0.144256, 0.20807, 0.0981816, 0.0981816, 0.0981816, 0.0981816, 0.20807, 0.0981816, 0.0981816, 0.0981816, 0.0981816, 0.196465, 0.0981816, 0.000313495, 0.00480582, 0.00163226, 7.99625e-06, 5.89998e-06, 7.9839e-05, 0.437096, 5.45352e-09, 0.000106368, 7.84284e-06, 2.11268e-05],\n",
       "        [0.302697, 0.396868, 0.396868, 0.329848, 0.153159, 0.396868, 0.161773, 0.329848, 0.0539293, 0.0384026, 0.381814, 0.982529, 0.788563, 0.978962, 0.585937, 0.836157, 0.0467966, 0.885474, 0.124101, 0.6775, 0.906896, 0.90995, 0.997239, 0.67104, 0.74275, 0.333894, 0.511731, 0.277186, 0.99103, 0.245142, 0.328405, 0.344675, 0.234942, 0.405484, 0.215046, 0.233795, 0.396868, 0.396868, 0.396868, 0.396868, 0.233795, 0.396868, 0.396868, 0.396868, 0.396868, 0.42819, 0.396868, 0.591352, 0.522319, 0.578424, 0.999991, 0.961985, 0.999363, 0.336928, 0.999979, 0.973665, 0.964744, 0.966796],\n",
       "        [0.219155, 0.352567, 0.352567, 0.109794, 0.135341, 0.352567, 0.0659115, 0.109794, 0.946067, 0.19227, 0.0531322, 0.0174707, 0.0607811, 5.50338e-06, 0.390085, 0.0580171, 0.94038, 0.114259, 0.872617, 0.173575, 0.0284392, 0.0191373, 4.57002e-07, 0.0206507, 0.000170302, 0.0476252, 0.322646, 0.708981, 5.43223e-06, 0.713305, 0.0430947, 0.233082, 0.0470884, 0.579034, 0.619504, 0.440219, 0.352567, 0.352567, 0.352567, 0.352567, 0.440219, 0.352567, 0.352567, 0.352567, 0.352567, 0.0586891, 0.352567, 3.64175e-16, 1.66957e-07, 1.41837e-11, 3.13621e-14, 3.08035e-12, 5.13164e-06, 0.0238643, 1.25348e-11, 1.12056e-09, 8.39364e-10, 2.38019e-10]]), 'most_likely_positions_1D': None}),\n",
       " DynamicContainer({'p_x_given_n': array([[0.442472, 0.152384, 0.00393773, 0.000416266, 0.0493976, 0.466446, 0.0211947, 1.70996e-05, 0.00438086, 0.638348, 0.0187481, 0.0324626, 8.4912e-05, 0.0155046, 0.0481279, 0.000881476, 0.000546513, 0, 0, 0, 0, 0, 0, 0, 0.00148037, 0.00559526],\n",
       "        [0.272054, 0.0981816, 0.198074, 0.000357372, 0.810745, 0.280386, 0.144256, 0.00215377, 0.459693, 0.108446, 0.140134, 0.692018, 0.0487701, 0.259913, 0.00104733, 0.191693, 2.4746e-05, 3.22347e-11, 1.66776e-15, 3.6021e-06, 7.24874e-14, 7.58379e-13, 1.95322e-08, 0.00824375, 0.0171314, 0.0268669],\n",
       "        [0.0912008, 0.396868, 0.0150894, 0.000209784, 0.0801042, 0.0640836, 0.215046, 0.0295587, 0.0881387, 0.00156296, 0.333399, 0.0729595, 0.00330929, 0.0322304, 0.950346, 0.0244244, 0, 0.0271568, 0.025429, 0.0655533, 0.000160902, 3.78989e-05, 0.00257488, 0.00595324, 0.191984, 0.000668769],\n",
       "        [0.194273, 0.352567, 0.782899, 0.999017, 0.059753, 0.189084, 0.619504, 0.96827, 0.447788, 0.251644, 0.507719, 0.20256, 0.947836, 0.692352, 0.000478402, 0.783002, 0.999429, 0.972843, 0.974571, 0.934443, 0.999839, 0.999962, 0.997425, 0.985803, 0.789404, 0.966869]]), 'most_likely_positions_1D': None}),\n",
       " DynamicContainer({'p_x_given_n': array([[0.249798, 0, 0.58151, 0.199714, 0, 0.264549, 0.0672462, 0, 0.00102315, 0, 0.000156542, 0.00612197, 0.105553, 0.161836, 0.550906, 0.0217674, 0.728164, 0.000110019, 0.444476, 0.0458039, 0.00783811, 0.0721442, 0.00367618, 0.358254, 0.0319028, 0.0939731, 0.152384, 0.0939731, 0.152384, 0.152384, 0.152384, 0.152384, 0.152384, 0.317575, 0.152384, 0.152384, 0.152384, 0.317575, 0.338548, 0.479564, 0.577834, 0.221246, 0.00175347, 0.40836, 0.000776181, 0.000192887, 3.62792e-06, 3.71151e-05, 6.04312e-05, 0.678974, 0.0112316, 0.0322471, 0.0480426, 0.647608, 0.0112316, 0.0321064, 0.0225777, 0.544439, 0.000682641],\n",
       "        [0.0123079, 3.82323e-05, 0.0251278, 0.0349289, 6.45709e-11, 0.0050203, 0.16432, 8.43722e-10, 0.00133202, 2.52903e-07, 0.000754847, 0.000128326, 0.00515661, 0.00045379, 0.225097, 3.69554e-05, 0.215376, 0.00033004, 1.1597e-06, 0.024528, 4.83114e-06, 0.0209854, 0.086584, 0.289154, 0.156863, 0.177386, 0.0981816, 0.177386, 0.0981816, 0.0981816, 0.0981816, 0.0981816, 0.0981816, 0.218182, 0.0981816, 0.0981816, 0.0981816, 0.218182, 0.140752, 0.000415767, 0.0286965, 1.75746e-06, 7.92626e-05, 0.00217084, 4.14049e-10, 4.82984e-07, 1.36799e-07, 7.27926e-08, 7.06083e-07, 0.000244004, 0.00289233, 0.000306882, 0.0392018, 0.000140164, 0.00289233, 0.00183981, 0.00126406, 0.00162615, 0.00426992],\n",
       "        [0.735891, 0.325092, 0.347371, 0.743285, 0.00786599, 0.727891, 0.192859, 0.318836, 0.856415, 0.0367728, 0.988514, 0.993025, 0.887734, 0.837683, 0.206445, 0.978168, 0.0466587, 0.98116, 0.555522, 0.82828, 0.992144, 0.873401, 0.16089, 0.20617, 0.384726, 0.363878, 0.396868, 0.363878, 0.396868, 0.396868, 0.396868, 0.396868, 0.396868, 0.409, 0.396868, 0.396868, 0.396868, 0.409, 0.515757, 0.52002, 0.39347, 0.778752, 0.998167, 0.589469, 0.999224, 0.999807, 0.999996, 0.999963, 0.999939, 0.320782, 0.98393, 0.967446, 0.90954, 0.352252, 0.98393, 0.966028, 0.976158, 0.453935, 0.211325],\n",
       "        [0.00200338, 0.67487, 0.0459915, 0.0220723, 0.992134, 0.00253955, 0.575575, 0.681164, 0.14123, 0.963227, 0.010575, 0.000724927, 0.00155638, 2.71558e-05, 0.0175526, 2.80248e-05, 0.00980105, 0.0183998, 2.82834e-07, 0.101388, 1.2779e-05, 0.0334697, 0.74885, 0.146421, 0.426507, 0.364763, 0.352567, 0.364763, 0.352567, 0.352567, 0.352567, 0.352567, 0.352567, 0.0552439, 0.352567, 0.352567, 0.352567, 0.0552439, 0.00494239, 2.2536e-15, 8.62945e-08, 2.54453e-17, 3.5465e-09, 7.20051e-13, 1.44878e-19, 8.30926e-13, 6.17122e-08, 1.7624e-11, 1.14199e-09, 7.55033e-11, 0.00194595, 2.21167e-08, 0.00321593, 1.28125e-09, 0.00194595, 2.56924e-05, 3.93156e-07, 1.74407e-09, 0.783723]]), 'most_likely_positions_1D': None}),\n",
       " DynamicContainer({'p_x_given_n': array([[0.152384, 0.152384, 0.152384, 0.152384, 0.152384, 0.07748, 0.152384, 0.247046, 0.152384, 0.152384, 0.117916, 0.152384, 0.0187481, 0.389836, 0.0939731, 0.0119837, 0.117916, 0.0315473, 0.127675, 0.00316502, 0.0202583, 0.0211947, 0.00617941, 0.0428279, 0.0939731, 0.0328533, 0.0138517, 0.207456, 0, 0.555649, 0.00121764, 0.000735255, 0.000409414, 0.0628404, 4.46975e-05, 0.0586085, 0, 0.198037, 0, 0, 0.152384, 0.00995884, 0, 0, 0, 0, 0, 0.0320215, 0.331948, 2.33243e-08, 0.0396856, 0.152384, 0.152384, 0.152384, 0.152384, 0.152384, 0.152384, 0.152384, 0.152384, 0.152384, 0.152384, 0.152384, 0.152384, 0.152384, 0.358254, 0.152384, 0.152384, 0.152384, 0.152384, 0.152384, 0.167674, 0.315991, 0.152384, 0.152384, 0.881437, 0.0072382, 0.353992, 0.00609491],\n",
       "        [0.0981816, 0.0981816, 0.0981816, 0.0981816, 0.0981816, 0.882311, 0.0981816, 0.231102, 0.0981816, 0.0981816, 0.20807, 0.0981816, 0.140134, 0.284476, 0.177386, 0.0828376, 0.20807, 0.198262, 0.23669, 0.0640691, 0.130506, 0.144256, 0.117286, 0.130634, 0.177386, 0.470407, 0.0499736, 0.672878, 8.19343e-15, 0.132551, 0.0688017, 0.0833068, 0.176878, 0.510914, 0.0367885, 0.0322024, 1.26867e-08, 0.134758, 4.55716e-14, 6.39822e-12, 0.0981816, 0.00401501, 9.65381e-14, 1.21651e-13, 3.71732e-08, 0.000111704, 1.83263e-05, 0.00844183, 0.0593151, 0.00316748, 0.123001, 0.0981816, 0.0981816, 0.0981816, 0.0981816, 0.0981816, 0.0981816, 0.0981816, 0.0981816, 0.0981816, 0.0981816, 0.0981816, 0.0981816, 0.0981816, 0.289154, 0.0981816, 0.0981816, 0.0981816, 0.0981816, 0.0981816, 0.292109, 0.386393, 0.0981816, 0.0981816, 0.112768, 0.992718, 0.352659, 0.663357],\n",
       "        [0.396868, 0.396868, 0.396868, 0.396868, 0.396868, 0.000532024, 0.396868, 0.302697, 0.396868, 0.396868, 0.233795, 0.396868, 0.333399, 0.0396988, 0.363878, 0.01762, 0.233795, 0.424478, 0.122682, 0.10043, 0.125729, 0.215046, 0.379802, 0.626236, 0.363878, 0.0280411, 0.482789, 0.0298119, 0.00154936, 0.00381859, 0.299777, 0.346934, 0.018751, 0.0660944, 0.0943463, 0.87014, 0.103471, 0.519275, 0.00632942, 0.00561629, 0.396868, 0.90666, 0.00136709, 0.000191898, 0.0109459, 0.0909205, 0.075463, 0.0149792, 0.441482, 8.61475e-06, 0.0352699, 0.396868, 0.396868, 0.396868, 0.396868, 0.396868, 0.396868, 0.396868, 0.396868, 0.396868, 0.396868, 0.396868, 0.396868, 0.396868, 0.20617, 0.396868, 0.396868, 0.396868, 0.396868, 0.396868, 0.110258, 0.0916759, 0.396868, 0.396868, 0.00383431, 1.51428e-06, 0.0972141, 0.000555452],\n",
       "        [0.352567, 0.352567, 0.352567, 0.352567, 0.352567, 0.0396772, 0.352567, 0.219155, 0.352567, 0.352567, 0.440219, 0.352567, 0.507719, 0.285989, 0.364763, 0.887559, 0.440219, 0.345713, 0.512953, 0.832336, 0.723506, 0.619504, 0.496732, 0.200302, 0.364763, 0.468698, 0.453386, 0.0898542, 0.998451, 0.307981, 0.630203, 0.569024, 0.803961, 0.360151, 0.868821, 0.0390492, 0.896529, 0.14793, 0.993671, 0.994384, 0.352567, 0.0793658, 0.998633, 0.999808, 0.989054, 0.908968, 0.924519, 0.944558, 0.167255, 0.996824, 0.802043, 0.352567, 0.352567, 0.352567, 0.352567, 0.352567, 0.352567, 0.352567, 0.352567, 0.352567, 0.352567, 0.352567, 0.352567, 0.352567, 0.146421, 0.352567, 0.352567, 0.352567, 0.352567, 0.352567, 0.42996, 0.20594, 0.352567, 0.352567, 0.00196121, 4.24665e-05, 0.196135, 0.329993]]), 'most_likely_positions_1D': None}),\n",
       " DynamicContainer({'p_x_given_n': array([[0.108868, 0.204342, 0.206362, 0.152384, 0.268804, 0.199285, 0.152384, 0.315991, 0.209724, 0.247046, 0.884983, 0.284004, 0, 0.152384, 0.483365, 0.729608, 0, 0.152384, 0.221902, 0.485813, 0.277811, 0.237022, 0.426233, 0.165202, 0, 0.977086, 0, 0.000315674, 0.155533, 0.0137065, 0.568257, 0.441629, 0.00224821, 0.128787, 0.000385884, 0.00625883, 0.033464, 0.0454656, 0.0776318, 0.0124925, 0.143627, 0.139789, 0.0315473, 0.117916, 0.152384, 0.367591, 0.367591, 0.152384, 0.103391, 0.152384, 0.152384, 0.317575, 0.432418, 0.640417, 0.038156, 0.615386, 0.601521, 2.44111e-07, 1.97668e-06, 0.026187, 0.00153976, 1.78268e-05, 0.536424, 0.601796, 0.0457485, 0.435864, 0.516336, 0.0163236, 0.152384, 0.536424, 0.152384, 0.0372994, 0.0118682, 0.0321064, 0.367591, 0.516336],\n",
       "        [0.34182, 0.254094, 0.169888, 0.0981816, 0.388359, 0.0136067, 0.0981816, 0.386393, 0.128075, 0.231102, 0.0061208, 0.00204219, 9.58778e-06, 0.0981816, 0.0795028, 0.0882594, 9.72001e-13, 0.0981816, 0.0283414, 0.00135784, 0.188798, 0.00449788, 0.00100166, 0.126202, 9.11999e-06, 0.0181103, 3.25387e-05, 0.0171059, 0.447621, 0.00330694, 0.206923, 0.0258773, 0.0143872, 0.00186209, 0.000373262, 3.4762e-06, 0.0759991, 0.140054, 0.00518417, 0.0551985, 0.233226, 0.342803, 0.198262, 0.20807, 0.0981816, 0.260036, 0.260036, 0.0981816, 0.622778, 0.0981816, 0.0981816, 0.218182, 0.0940575, 0.00811002, 1.2632e-06, 0.260978, 7.78532e-07, 0.0148179, 7.83946e-11, 6.8706e-07, 0.0012311, 2.43217e-08, 0.0112719, 0.000307472, 0.0130282, 0.0532586, 0.0100249, 0.000881116, 0.0981816, 0.0112719, 0.0981816, 0.101576, 0.105459, 0.00183981, 0.260036, 0.0100249],\n",
       "        [0.137698, 0.235755, 0.353901, 0.396868, 0.257381, 0.753412, 0.396868, 0.0916759, 0.488194, 0.302697, 0.0523502, 0.710545, 0.0876184, 0.396868, 0.103949, 0.107026, 0.00378785, 0.396868, 0.744153, 0.501364, 0.491214, 0.747924, 0.572491, 0.706704, 0.272231, 0.0048041, 0.374513, 0.788213, 0.147599, 0.981275, 0.219682, 0.523861, 0.881808, 0.86852, 0.992269, 0.993704, 0.459259, 0.510728, 0.911726, 0.0983955, 0.405827, 0.33676, 0.424478, 0.233795, 0.396868, 0.150596, 0.150596, 0.396868, 0.0887719, 0.396868, 0.396868, 0.409, 0.469643, 0.35147, 0.961843, 0.123636, 0.398478, 0.985181, 0.999998, 0.973812, 0.997207, 0.999982, 0.452287, 0.397897, 0.939892, 0.510869, 0.473639, 0.982795, 0.396868, 0.452287, 0.396868, 0.798672, 0.628921, 0.966028, 0.150596, 0.473639],\n",
       "        [0.411613, 0.305809, 0.269849, 0.352567, 0.0854559, 0.0336965, 0.352567, 0.20594, 0.174006, 0.219155, 0.0565458, 0.00340877, 0.912372, 0.352567, 0.333182, 0.0751072, 0.996212, 0.352567, 0.0056036, 0.0114652, 0.0421768, 0.0105562, 0.000274325, 0.00189107, 0.72776, 1.05139e-07, 0.625454, 0.194366, 0.249247, 0.00171191, 0.00513791, 0.00863179, 0.101556, 0.000830123, 0.00697159, 3.34673e-05, 0.431278, 0.303752, 0.0054583, 0.833913, 0.217319, 0.180647, 0.345713, 0.440219, 0.352567, 0.221777, 0.221777, 0.352567, 0.185059, 0.352567, 0.352567, 0.0552439, 0.00388212, 2.97714e-06, 1.60972e-17, 8.19026e-18, 1.02657e-14, 4.32476e-07, 8.63787e-20, 2.53331e-19, 2.23467e-05, 1.79272e-10, 1.72688e-05, 3.61635e-09, 0.00133155, 8.00016e-06, 1.13878e-07, 1.3239e-08, 0.352567, 1.72688e-05, 0.352567, 0.0624521, 0.253752, 2.56924e-05, 0.221777, 1.13878e-07]]), 'most_likely_positions_1D': None}),\n",
       " DynamicContainer({'p_x_given_n': array([[0.338548, 0.0913506, 0.370115, 0.299161, 0.428362, 0.152384, 0.152384, 0.152384, 0.00814014, 0.291555, 0.299161, 0.0243454, 0.193993, 0.152384, 0.152384, 0.152384, 0.152384, 0.152384, 0.0939731, 0.168104, 0.367591, 0.442472, 0.0211947, 0.0939731, 0.152384, 0.0318035, 0.000136511, 0.152384, 0.0420111, 0.0154418, 0.0211947, 0.0420111, 0.000684406, 2.19152e-05, 9.73523e-05, 0.00324355, 0.00535443, 0.00192572, 5.46889e-06, 0.502885, 0.00215543, 0.066111, 0, 0, 0.00161105, 0.0243887, 0, 0, 0, 0, 0, 0, 0, 0, 0.0756627, 0.0396856, 2.31689e-08, 0.152384, 0.353992, 0.0427696, 0.152384, 0.152384, 0.152384, 0.152384, 0.152384, 0.152384, 0.152384, 0.152384, 0.265105, 0.15381, 0.152384, 0.152384, 0.0292555, 0.152384, 0.315991, 0.0242958, 0.152384, 0.152384, 0.152384, 0.00609491, 0.353992],\n",
       "        [0.140752, 0.268662, 0.378618, 0.180677, 0.156678, 0.0981816, 0.0981816, 0.0981816, 0.0216555, 0.164377, 0.180677, 0.117816, 0.247898, 0.0981816, 0.0981816, 0.0981816, 0.0981816, 0.0981816, 0.177386, 0.370055, 0.260036, 0.272054, 0.144256, 0.177386, 0.0981816, 0.133938, 0.025264, 0.0981816, 0.430779, 0.333055, 0.144256, 0.430779, 0.0592044, 0.0271555, 0.0135763, 0.0848244, 0.0486397, 0.0346381, 0.01881, 0.460175, 0.417366, 0.00453418, 2.7523e-07, 3.07692e-05, 0.296882, 0.223185, 6.96156e-09, 5.55995e-09, 1.83263e-05, 1.36771e-09, 1.55308e-14, 1.64657e-06, 7.20047e-05, 7.38731e-08, 0.265229, 0.123001, 0.000604382, 0.0981816, 0.352659, 0.434227, 0.0981816, 0.0981816, 0.0981816, 0.0981816, 0.0981816, 0.0981816, 0.0981816, 0.0981816, 0.17168, 0.302647, 0.0981816, 0.0981816, 0.69735, 0.0981816, 0.386393, 0.553752, 0.0981816, 0.0981816, 0.0981816, 0.663357, 0.352659],\n",
       "        [0.515757, 0.337752, 6.14578e-14, 0.189165, 0.365789, 0.396868, 0.396868, 0.396868, 0.150528, 0.0686455, 0.189165, 0.195607, 0.0612156, 0.396868, 0.396868, 0.396868, 0.396868, 0.396868, 0.363878, 0.0691292, 0.150596, 0.0912008, 0.215046, 0.363878, 0.396868, 0.361762, 0.0543103, 0.396868, 0.0315266, 0.120633, 0.215046, 0.0315266, 0.167452, 0.0139034, 0.0343174, 0.471263, 0.127721, 0.589984, 0.00170955, 0.0219523, 0.0728005, 0.925507, 0.289055, 0.174015, 0.127638, 0.149719, 0.0106335, 0.0479111, 0.075463, 0.00359518, 7.94202e-05, 0.0564408, 0.00162214, 0.222672, 0.0224006, 0.0352699, 3.1463e-06, 0.396868, 0.0972141, 0.0472907, 0.396868, 0.396868, 0.396868, 0.396868, 0.396868, 0.396868, 0.396868, 0.396868, 0.000702147, 0.229236, 0.396868, 0.396868, 0.00561552, 0.396868, 0.0916759, 0.00646848, 0.396868, 0.396868, 0.396868, 0.000555452, 0.0972141],\n",
       "        [0.00494239, 0.302236, 0.251267, 0.330997, 0.0491716, 0.352567, 0.352567, 0.352567, 0.819676, 0.475422, 0.330997, 0.662232, 0.496893, 0.352567, 0.352567, 0.352567, 0.352567, 0.352567, 0.364763, 0.392712, 0.221777, 0.194273, 0.619504, 0.364763, 0.352567, 0.472497, 0.920289, 0.352567, 0.495683, 0.53087, 0.619504, 0.495683, 0.77266, 0.958919, 0.952009, 0.440669, 0.818284, 0.373452, 0.979475, 0.0149878, 0.507678, 0.00384786, 0.710945, 0.825954, 0.573869, 0.602707, 0.989366, 0.952089, 0.924519, 0.996405, 0.999921, 0.943558, 0.998306, 0.777328, 0.636708, 0.802043, 0.999392, 0.352567, 0.196135, 0.475712, 0.352567, 0.352567, 0.352567, 0.352567, 0.352567, 0.352567, 0.352567, 0.352567, 0.562513, 0.314307, 0.352567, 0.352567, 0.267779, 0.352567, 0.20594, 0.415483, 0.352567, 0.352567, 0.352567, 0.329993, 0.196135]]), 'most_likely_positions_1D': None}),\n",
       " DynamicContainer({'p_x_given_n': array([[0.152384, 0.152384, 0.315991, 0.152384, 0.367069, 0.248496, 0.268804, 0, 0.152384, 0.215099, 0, 0.34812, 0.152384, 0.247046, 0, 0.247046, 0.234133, 0.097138, 0.116079, 0.395195, 0.808483, 0.237339, 0, 0.607785, 0.981128, 0.1654, 0.606969, 0.00286919, 0.137485, 0, 0.107799, 2.02686e-05, 0.000877414, 0, 0.035926, 0, 0.000134893, 0.304679, 0.0233311, 0.0958911, 0.492297, 0.466351, 0.0399376, 0.0063227, 0.00342221, 0.0574362, 0.139789, 0.0296347, 0.0939731, 0.152384, 0.152384, 0.0939731, 0.152384, 0.152384, 0.152384, 0.0546021, 0.808614, 0.586314, 0.00271666, 0.0505321, 0.436435, 1.33764e-06, 0.509718, 0.0313246, 0.534884, 0.536424, 6.07139e-08, 0.58821, 0.0457485, 0.41419, 0.0396234, 0.516336, 0.404221, 0.353992, 0.000655686, 0.406411, 0.0457485, 0.0457485, 0.317575],\n",
       "        [0.0981816, 0.0981816, 0.386393, 0.0981816, 0.26025, 0.612516, 0.388359, 0.00194772, 0.0981816, 0.470187, 1.8966e-05, 0.534186, 0.0981816, 0.231102, 0.537579, 0.231102, 0.0848294, 0.330474, 0.178716, 0.00471147, 0.00571051, 0.0133508, 0.000356057, 0.012655, 0.00824559, 0.0121196, 0.390843, 0.00383464, 0.00464609, 8.00539e-08, 0.805357, 1.31888e-05, 0.0596054, 1.72362e-07, 0.358017, 9.95368e-08, 6.72533e-08, 0.306411, 0.00204404, 0.000205867, 0.315953, 0.000179237, 1.08523e-06, 0.0924566, 0.000753085, 0.0636128, 0.342803, 0.114013, 0.177386, 0.0981816, 0.0981816, 0.177386, 0.0981816, 0.0981816, 0.0981816, 0.000372579, 4.86088e-05, 0.00209997, 2.66536e-05, 2.26796e-06, 0.0202472, 6.87298e-10, 0.0032678, 0.000798338, 0.000306174, 0.0112719, 7.72941e-06, 0.00194868, 0.0130282, 0.0533839, 6.24216e-05, 0.0100249, 0.219303, 0.352659, 0.229341, 0.407396, 0.0130282, 0.0130282, 0.218182],\n",
       "        [0.396868, 0.396868, 0.0916759, 0.396868, 0.148766, 0.0487444, 0.257381, 0.584374, 0.396868, 0.232658, 0.681988, 0.0673526, 0.396868, 0.302697, 0.0213142, 0.302697, 0.402676, 0.419312, 0.500412, 0.472985, 0.185586, 0.629397, 0.969442, 0.379439, 0.0105823, 0.819074, 0.00216285, 0.926854, 0.855949, 0.0139772, 0.0183084, 0.937265, 0.209353, 0.00444406, 0.307953, 0.0243836, 0.999865, 0.329779, 0.968826, 0.903873, 0.173873, 0.533459, 0.960059, 0.333042, 0.991352, 0.723289, 0.33676, 0.368802, 0.363878, 0.396868, 0.396868, 0.363878, 0.396868, 0.396868, 0.396868, 0.945025, 0.191337, 0.411586, 0.997257, 0.949466, 0.543313, 0.999999, 0.487014, 0.967877, 0.46481, 0.452287, 0.999992, 0.409841, 0.939892, 0.531386, 0.960314, 0.473639, 0.37428, 0.0972141, 0.00249385, 0.0651059, 0.939892, 0.939892, 0.409],\n",
       "        [0.352567, 0.352567, 0.20594, 0.352567, 0.223915, 0.0902438, 0.0854559, 0.413678, 0.352567, 0.0820566, 0.317993, 0.0503418, 0.352567, 0.219155, 0.441106, 0.219155, 0.278362, 0.153076, 0.204793, 0.127109, 0.000220049, 0.119912, 0.0302016, 0.000120533, 4.37367e-05, 0.00340634, 2.51758e-05, 0.0664423, 0.00192003, 0.986023, 0.0685358, 0.062701, 0.730165, 0.995556, 0.298105, 0.975616, 3.62975e-07, 0.0591308, 0.00579928, 2.9969e-05, 0.0178771, 1.04918e-05, 2.75165e-06, 0.568179, 0.0044727, 0.155662, 0.180647, 0.487551, 0.364763, 0.352567, 0.352567, 0.364763, 0.352567, 0.352567, 0.352567, 2.08247e-08, 5.15019e-13, 3.04114e-07, 4.87751e-12, 3.48956e-17, 5.22653e-06, 2.90856e-13, 1.4398e-08, 7.50893e-08, 7.39481e-11, 1.72688e-05, 2.6745e-11, 2.49643e-07, 0.00133155, 0.00103921, 6.19664e-08, 1.13878e-07, 0.00219624, 0.196135, 0.767509, 0.121087, 0.00133155, 0.00133155, 0.0552439]]), 'most_likely_positions_1D': None}),\n",
       " DynamicContainer({'p_x_given_n': array([[0.367591, 0.0233352, 0.128793, 0.0211947, 0.0211947, 0.0063227, 0.0215332, 0.117916, 0.000330627, 0.117916, 0.0187481, 0.0252322, 0.149241, 0.224484, 0.0155046, 0, 0.00306251, 0.00637116, 0.0518584, 0.0672462, 0.133984, 0.269558, 0.000360865, 0.205667, 0, 0, 0.00209921, 1.73195e-05, 0, 0, 0.000584298, 0, 0, 0, 0.111866, 0, 0, 0, 0],\n",
       "        [0.260036, 0.0120735, 0.229239, 0.144256, 0.144256, 0.0924566, 0.140303, 0.20807, 0.00141762, 0.20807, 0.140134, 0.273918, 0.318692, 0.309483, 0.259913, 4.55854e-08, 0.95692, 0.17954, 0.27664, 0.16432, 0.518336, 0.0012137, 0.105768, 0.275498, 1.67093e-06, 0.000684613, 0.00256639, 0.0405877, 0.00168185, 5.53443e-15, 2.31843e-05, 3.86065e-12, 3.40197e-08, 0.00155125, 0.211449, 0.000324165, 7.11562e-08, 1.65495e-09, 4.9896e-14],\n",
       "        [0.150596, 0.64347, 0.155022, 0.215046, 0.215046, 0.333042, 0.151451, 0.233795, 0.622545, 0.233795, 0.333399, 0.0405918, 0.129219, 0.224477, 0.0322304, 0.0271986, 9.58811e-07, 0.0688638, 0.397123, 0.192859, 0.13272, 0.729148, 0.0478321, 0.38124, 0.0149091, 0.101055, 0.591536, 0.187788, 0.0757397, 0.000355412, 0.0441188, 0.000270428, 0.00897622, 0.10397, 0.621237, 0.0460407, 0.00842099, 0.83085, 0.0048369],\n",
       "        [0.221777, 0.321122, 0.486947, 0.619504, 0.619504, 0.568179, 0.686713, 0.440219, 0.375707, 0.440219, 0.507719, 0.660258, 0.402848, 0.241557, 0.692352, 0.972801, 0.0400168, 0.745225, 0.274378, 0.575575, 0.21496, 8.03345e-05, 0.846039, 0.137596, 0.985089, 0.89826, 0.403798, 0.771607, 0.922578, 0.999645, 0.955274, 0.99973, 0.991024, 0.894479, 0.0554472, 0.953635, 0.991579, 0.16915, 0.995163]]), 'most_likely_positions_1D': None}),\n",
       " DynamicContainer({'p_x_given_n': array([[0.145528, 0.971758, 0.280067, 0, 0, 0.756662, 0.228926, 0, 1.05367e-06, 0.699529, 2.52519e-06, 0.0482466, 0.563455, 0.00168288, 0.0119786, 0.016292, 0.0699884, 0.0165996, 0.00187871, 0.0215332, 0.420737, 0.383493, 0.152384, 0.139789, 0.0939731, 0.0939731, 0.152384, 0.317575, 0.152384, 0.443344, 0.317575, 0.152384, 0.229249, 0.338548, 0.450588, 0.368479, 0.000663518, 8.63271e-05, 0.0019047, 0.691103, 0.596974, 0.0222687, 0.639304, 0.0112316, 0.0331833, 0.41419, 0.0411748, 0.367591, 0.000255324, 0.202666, 0.309327, 0.651235],\n",
       "        [0.418595, 0.0171712, 0.0911591, 3.00026e-08, 7.7941e-09, 0.0119631, 0.238286, 3.10844e-09, 0.000101205, 0.174482, 0.000309063, 0.000245475, 0.00398529, 0.00171193, 0.0325924, 6.16373e-06, 0.00194063, 2.70754e-07, 0.00223196, 0.140303, 0.0177596, 0.326457, 0.0981816, 0.342803, 0.177386, 0.177386, 0.0981816, 0.218182, 0.0981816, 0.149145, 0.218182, 0.0981816, 0.000116987, 0.140752, 0.0167526, 0.0739091, 4.6413e-06, 3.98997e-08, 0.00020843, 4.27128e-05, 4.60018e-05, 2.081e-05, 0.000991951, 0.00289233, 2.11268e-05, 0.0533839, 8.17017e-06, 0.260036, 0.00164662, 0.209052, 0.197114, 0.100378],\n",
       "        [0.230899, 0.00920013, 0.609313, 0.477959, 0.983531, 0.231372, 0.15081, 0.689971, 0.958474, 0.12202, 0.993231, 0.951234, 0.43237, 0.995839, 0.762238, 0.983697, 0.922145, 0.983399, 0.940472, 0.151451, 0.518658, 0.209898, 0.396868, 0.33676, 0.363878, 0.363878, 0.396868, 0.409, 0.396868, 0.38338, 0.409, 0.396868, 0.770634, 0.515757, 0.532658, 0.557544, 0.999332, 0.999914, 0.997853, 0.308855, 0.40298, 0.97771, 0.359704, 0.98393, 0.966796, 0.531386, 0.958817, 0.150596, 0.997643, 0.544321, 0.493524, 0.227609],\n",
       "        [0.204978, 0.00187055, 0.0194615, 0.522041, 0.0164695, 2.84711e-06, 0.381978, 0.310029, 0.0414233, 0.00396919, 0.00645701, 0.000274151, 0.000189054, 0.000766446, 0.193191, 4.53771e-06, 0.0059262, 6.87155e-07, 0.0554173, 0.686713, 0.0428452, 0.0801524, 0.352567, 0.180647, 0.364763, 0.364763, 0.352567, 0.0552439, 0.352567, 0.0241312, 0.0552439, 0.352567, 2.95208e-11, 0.00494239, 8.15992e-07, 6.75597e-05, 6.68609e-12, 3.88311e-13, 3.40389e-05, 3.19901e-09, 5.43427e-11, 8.17035e-15, 1.04341e-07, 0.00194595, 2.38019e-10, 0.00103921, 1.85649e-11, 0.221777, 0.000454954, 0.0439611, 3.51923e-05, 0.0207786]]), 'most_likely_positions_1D': None}),\n",
       " DynamicContainer({'p_x_given_n': array([[0.152384, 0.152384, 0.0939731, 0.0939731, 0.0913506, 0.152384, 0.149762, 0.353992, 0.0939731, 0.442472, 0.367591, 0.152384, 0.00350425, 0.033464, 0.127675, 0.442472, 0.00355986, 0.0215332, 0.138881, 0.000795916, 0.106257, 0.00393773, 0.000609384, 0.198037, 0.139789, 0.000314558, 8.70983e-05, 0.367591, 0.0323286, 0.0263926, 0.00136811, 0, 0, 0, 0, 0, 0, 0, 0, 0.0588378, 0, 0, 0.360132, 0, 0, 0.0127446, 0.00997887, 0.00630972, 0.108868, 0.204342, 0.204342, 0.152384, 0.152384, 0.152384, 0.152384, 0.0242958, 0.315991, 0.315991, 0.152384, 0.152384, 0.152384, 0.367591, 0.367591, 0.00233033, 0.152384, 0.152384, 0.109938, 0.0180331, 0.152384, 0.152384, 0.152384, 0.157652, 0.000161681, 0.00197172, 0.02246, 0.152384, 0.152384, 0.152384, 0.00197172, 0.00609491, 7.97458e-05, 0.929867, 0.152384, 0.152384, 0.00226244, 0.0494634, 0.00522324],\n",
       "        [0.0981816, 0.0981816, 0.177386, 0.177386, 0.268662, 0.0981816, 0.219301, 0.352659, 0.177386, 0.272054, 0.260036, 0.0981816, 0.0752535, 0.0759991, 0.23669, 0.272054, 0.0963518, 0.140303, 0.204906, 0.0130913, 0.234568, 0.198074, 0.0106715, 0.134758, 0.342803, 0.0836779, 0.0156164, 0.260036, 0.253364, 0.0902583, 0.0806174, 1.29312e-11, 8.47191e-08, 3.12042e-07, 8.835e-12, 5.75063e-12, 1.52525e-06, 1.32754e-09, 0.000914225, 0.0288174, 2.34691e-13, 4.04963e-13, 0.0989394, 0.000224472, 3.98836e-08, 0.109025, 0.0124307, 0.00844511, 0.34182, 0.254094, 0.254094, 0.0981816, 0.0981816, 0.0981816, 0.0981816, 0.553752, 0.386393, 0.386393, 0.0981816, 0.0981816, 0.0981816, 0.260036, 0.260036, 0.888645, 0.0981816, 0.0981816, 0.807855, 0.876084, 0.0981816, 0.0981816, 0.0981816, 0.553848, 0.897919, 0.840503, 0.943374, 0.0981816, 0.0981816, 0.0981816, 0.840503, 0.663357, 0.982798, 0.00100331, 0.0981816, 0.0981816, 0.904672, 0.733468, 0.87101],\n",
       "        [0.396868, 0.396868, 0.363878, 0.363878, 0.337752, 0.396868, 0.0507784, 0.0972141, 0.363878, 0.0912008, 0.150596, 0.396868, 0.117497, 0.459259, 0.122682, 0.0912008, 0.2475, 0.151451, 0.342406, 0.113429, 0.187864, 0.0150894, 0.00999646, 0.519275, 0.33676, 0.0050981, 0.61389, 0.150596, 0.0591107, 0.402536, 0.0267583, 0.00315026, 0.0229749, 0.0192085, 0.116464, 0.00457167, 0.0342155, 0.00480666, 0.0423375, 0.267393, 0.000161066, 0.000194788, 0.0577707, 0.167231, 0.00373098, 0.0367259, 0.00307619, 0.000991591, 0.137698, 0.235755, 0.235755, 0.396868, 0.396868, 0.396868, 0.396868, 0.00646848, 0.0916759, 0.0916759, 0.396868, 0.396868, 0.396868, 0.150596, 0.150596, 2.09046e-06, 0.396868, 0.396868, 0.0140754, 0.00327939, 0.396868, 0.396868, 0.396868, 0.153159, 0.000195687, 0.00118646, 7.60808e-06, 0.396868, 0.396868, 0.396868, 0.00118646, 0.000555452, 1.35024e-05, 0.0690002, 0.396868, 0.396868, 2.30247e-07, 0.01037, 1.19683e-05],\n",
       "        [0.352567, 0.352567, 0.364763, 0.364763, 0.302236, 0.352567, 0.580158, 0.196135, 0.364763, 0.194273, 0.221777, 0.352567, 0.803745, 0.431278, 0.512953, 0.194273, 0.652588, 0.686713, 0.313807, 0.872684, 0.471311, 0.782899, 0.978723, 0.14793, 0.180647, 0.910909, 0.370406, 0.221777, 0.655197, 0.480813, 0.891256, 0.99685, 0.977025, 0.980791, 0.883536, 0.995428, 0.965783, 0.995193, 0.956748, 0.644952, 0.999839, 0.999805, 0.483158, 0.832545, 0.996269, 0.841505, 0.974514, 0.984254, 0.411613, 0.305809, 0.305809, 0.352567, 0.352567, 0.352567, 0.352567, 0.415483, 0.20594, 0.20594, 0.352567, 0.352567, 0.352567, 0.221777, 0.221777, 0.109022, 0.352567, 0.352567, 0.0681307, 0.102603, 0.352567, 0.352567, 0.352567, 0.135341, 0.101724, 0.156339, 0.034158, 0.352567, 0.352567, 0.352567, 0.156339, 0.329993, 0.0171084, 0.000129871, 0.352567, 0.352567, 0.0930652, 0.206699, 0.123755]]), 'most_likely_positions_1D': None}),\n",
       " DynamicContainer({'p_x_given_n': array([[0, 0.452577, 0, 0.279686, 0.849502, 0.873018, 0, 0, 0, 0.220193, 0, 0.063842, 1.01982e-06, 0, 6.36202e-05, 0.290646, 4.09834e-05, 0.0155746, 0.508539, 0.0417637, 0.0186693, 0.329021, 0.000487361, 0.0119786, 0.0939731, 0.0142688, 0.117916, 0.367591, 0.0211947, 0.152384, 0.367591, 0.152384, 0.152384, 0.47286, 0.152384, 0.398126, 0.690602, 0.00294291, 0.499846, 8.42894e-08, 0.0494923, 0.391918, 3.94336e-06, 0.533751, 0.0437574, 0.0112316, 0.536424, 0.513241, 0.43083, 0.212605, 0.136654, 0.41419, 0.367591, 0, 0.442472, 0.536424, 0.152384],\n",
       "        [0.002443, 0.0529702, 1.29013e-05, 0.124134, 0.00391674, 0.00261442, 0.964701, 3.14256e-06, 1.69737e-07, 0.554457, 4.18088e-05, 0.000792322, 7.34824e-06, 0.00107739, 5.01383e-06, 0.375474, 2.68748e-05, 1.5389e-07, 0.330301, 3.68373e-05, 2.24662e-06, 0.00619927, 0.0159093, 0.0325924, 0.177386, 0.168497, 0.20807, 0.260036, 0.144256, 0.0981816, 0.260036, 0.0981816, 0.0981816, 0.0123982, 0.0981816, 0.0545468, 0.00174961, 5.24914e-06, 0.0158137, 3.88991e-06, 6.55671e-05, 5.79976e-06, 1.68254e-08, 1.93568e-05, 4.74737e-05, 0.00289233, 0.0112719, 0.00632431, 0.048315, 0.580364, 0.103752, 0.0533839, 0.260036, 4.41242e-05, 0.272054, 0.0112719, 0.0981816],\n",
       "        [0.915403, 0.490889, 0.0793216, 0.59615, 0.146519, 0.102085, 0.0236551, 0.950438, 0.994938, 0.225341, 0.00105195, 0.933766, 0.989772, 0.130828, 0.999906, 0.299301, 0.999485, 0.984425, 0.126027, 0.958149, 0.981325, 0.662114, 0.78579, 0.762238, 0.363878, 0.442151, 0.233795, 0.150596, 0.215046, 0.396868, 0.150596, 0.396868, 0.396868, 0.514741, 0.396868, 0.547307, 0.307648, 0.997052, 0.484339, 0.999996, 0.950442, 0.608077, 0.999996, 0.46623, 0.956195, 0.98393, 0.452287, 0.480434, 0.520855, 0.0909797, 0.715445, 0.531386, 0.150596, 0.999956, 0.0912008, 0.452287, 0.396868],\n",
       "        [0.0821539, 0.00356323, 0.920666, 2.94257e-05, 6.19807e-05, 0.0222831, 0.0116436, 0.0495592, 0.00506199, 9.45622e-06, 0.998906, 0.0015997, 0.01022, 0.868095, 2.56609e-05, 0.0345788, 0.000446721, 5.50604e-08, 0.0351334, 5.00965e-05, 3.1057e-06, 0.00266523, 0.197814, 0.193191, 0.364763, 0.375083, 0.440219, 0.221777, 0.619504, 0.352567, 0.221777, 0.352567, 0.352567, 3.61798e-07, 0.352567, 1.95373e-05, 1.84208e-07, 1.14128e-12, 1.01156e-06, 2.41373e-12, 9.49845e-12, 9.47423e-22, 1.09449e-10, 3.80953e-13, 2.53567e-10, 0.00194595, 1.72688e-05, 1.70989e-07, 5.60681e-07, 0.116052, 0.0441486, 0.00103921, 0.221777, 1.17861e-07, 0.194273, 1.72688e-05, 0.352567]]), 'most_likely_positions_1D': None}),\n",
       " DynamicContainer({'p_x_given_n': array([[0.152384, 0.152384, 0.367591, 0.128793, 0.117916, 0.00355986, 0.117916, 0.0211947, 0.00237048, 0.414384, 0.142619, 0.367591, 8.4912e-05, 0.00355986, 0.0711265, 0.0152929, 0.178495, 0, 0.00221437, 0.0346053, 0.000632873, 0.139789, 0.427088, 0, 0.106257, 0, 0, 8.79793e-05, 0, 0, 0, 0, 0, 0.119367, 0.0456258, 0.0158668, 0.204342, 0.152384, 0.353992, 0.152384, 0.152384, 0.152384, 0.353992, 0.0242958, 0.367591, 0.152384, 0.00609491, 0.367591, 0.152384, 0.152384, 4.97389e-06, 0.152384, 0.00430323, 0.353992, 0.248496, 0.152384, 0.00706004, 0.152384, 0.152384, 0.152384, 0.00233033, 0.152384, 0.000754402, 0.152384, 0.152384, 0.152384, 0.152384, 0.152384, 2.11293e-05, 0.0339627, 0.000471564, 0.00840358],\n",
       "        [0.0981816, 0.0981816, 0.260036, 0.229239, 0.20807, 0.0963518, 0.20807, 0.144256, 0.0596346, 0.148164, 0.257083, 0.260036, 0.0487701, 0.0963518, 0.707737, 0.602417, 0.0172908, 1.49129e-15, 0.0116337, 0.71228, 0.104622, 0.342803, 0.287903, 1.32754e-09, 0.234568, 5.3653e-09, 2.57342e-08, 0.00010976, 8.51644e-11, 1.29282e-11, 1.06615e-08, 2.64357e-09, 0.000345186, 0.305618, 0.179371, 0.0975792, 0.254094, 0.0981816, 0.352659, 0.0981816, 0.0981816, 0.0981816, 0.352659, 0.553752, 0.260036, 0.0981816, 0.663357, 0.260036, 0.0981816, 0.0981816, 0.980604, 0.0981816, 0.223565, 0.352659, 0.612516, 0.0981816, 0.974004, 0.0981816, 0.0981816, 0.0981816, 0.888645, 0.0981816, 0.98194, 0.0981816, 0.0981816, 0.0981816, 0.0981816, 0.0981816, 0.986204, 0.848317, 0.827921, 0.0568146],\n",
       "        [0.396868, 0.396868, 0.150596, 0.155022, 0.233795, 0.2475, 0.233795, 0.215046, 0.0196595, 0.302984, 0.345789, 0.150596, 0.00330929, 0.2475, 0.0764237, 0.242399, 0.769329, 0.00947211, 0.190794, 0.132463, 0.018148, 0.33676, 0.181861, 0.00480666, 0.187864, 0.00595838, 0.00525384, 0.34617, 0.00155324, 0.000999451, 0.00361365, 0.0290981, 0.0027774, 0.0836263, 0.00915536, 0.00218575, 0.235755, 0.396868, 0.0972141, 0.396868, 0.396868, 0.396868, 0.0972141, 0.00646848, 0.150596, 0.396868, 0.000555452, 0.150596, 0.396868, 0.396868, 6.57833e-05, 0.396868, 0.0198338, 0.0972141, 0.0487444, 0.396868, 0.00355344, 0.396868, 0.396868, 0.396868, 2.09046e-06, 0.396868, 0.000227693, 0.396868, 0.396868, 0.396868, 0.396868, 0.396868, 3.33458e-07, 0.000100549, 3.29106e-05, 0.0939756],\n",
       "        [0.352567, 0.352567, 0.221777, 0.486947, 0.440219, 0.652588, 0.440219, 0.619504, 0.918335, 0.134469, 0.254509, 0.221777, 0.947836, 0.652588, 0.144713, 0.139891, 0.0348851, 0.990528, 0.795358, 0.120651, 0.876597, 0.180647, 0.103148, 0.995193, 0.471311, 0.994042, 0.994746, 0.653632, 0.998447, 0.999001, 0.996386, 0.970902, 0.996877, 0.491388, 0.765848, 0.884368, 0.305809, 0.352567, 0.196135, 0.352567, 0.352567, 0.352567, 0.196135, 0.415483, 0.221777, 0.352567, 0.329993, 0.221777, 0.352567, 0.352567, 0.0193254, 0.352567, 0.752298, 0.196135, 0.0902438, 0.352567, 0.0153821, 0.352567, 0.352567, 0.352567, 0.109022, 0.352567, 0.0170782, 0.352567, 0.352567, 0.352567, 0.352567, 0.352567, 0.0137745, 0.11762, 0.171574, 0.840806]]), 'most_likely_positions_1D': None}),\n",
       " DynamicContainer({'p_x_given_n': array([[0.152384, 0.315991, 0.206603, 0.291358, 0.152384, 0.958033, 0.106257, 0.156244, 0.226532, 0.163859, 0, 0, 0, 0, 0, 0.010272, 0, 0.103766, 0, 0.123767, 0.0131546, 0.249335, 0.117916, 0.00242279, 0.0404181, 0.117916, 0.00836485, 0.00206078, 0.152384, 0.0063227, 0.0315473, 0.152384, 0.367591, 0.152384, 0.152384, 0.152384, 0.152384, 0.152384, 0.398126, 0.317575, 0.722033, 0.543964, 0.613883, 0.636136, 0.549871, 0.512052, 0.000295122, 0.315966, 0.491305, 0.315966, 0.661363, 0.0178298, 0.484689, 0.44882, 0.0687715],\n",
       "        [0.0981816, 0.386393, 0.0798873, 0.163856, 0.0981816, 0.0079411, 0.234568, 5.16576e-06, 0.0115031, 0.0163956, 4.80374e-05, 0.000451515, 2.88335e-05, 2.53497e-07, 2.54179e-08, 0.000169733, 2.07805e-07, 0.0831642, 9.56748e-12, 0.132736, 0.00683901, 5.34485e-05, 0.20807, 5.46315e-08, 0.00537266, 0.20807, 0.0486727, 0.0297235, 0.0981816, 0.0924566, 0.198262, 0.0981816, 0.260036, 0.0981816, 0.0981816, 0.0981816, 0.0981816, 0.0981816, 0.0545468, 0.218182, 0.0128153, 1.37856e-05, 4.33076e-05, 0.000122238, 0.000749781, 0.00379805, 2.28836e-08, 0.212468, 0.206019, 0.212468, 0.000357877, 0.781921, 0.0572893, 0.034555, 0.111423],\n",
       "        [0.396868, 0.0916759, 0.698435, 0.0692618, 0.396868, 0.0336017, 0.187864, 0.843304, 0.754491, 0.00180925, 0.998954, 0.999269, 0.717365, 0.995841, 0.116535, 0.988998, 0.0226895, 0.740438, 0.924172, 0.595726, 0.978101, 0.750606, 0.233795, 0.997577, 0.928453, 0.233795, 0.565723, 0.599534, 0.396868, 0.333042, 0.424478, 0.396868, 0.150596, 0.396868, 0.396868, 0.396868, 0.396868, 0.396868, 0.547307, 0.409, 0.265065, 0.456023, 0.386073, 0.363742, 0.44938, 0.484149, 0.999705, 0.468365, 0.267182, 0.468365, 0.338279, 0.192514, 0.457991, 0.516613, 0.688487],\n",
       "        [0.352567, 0.20594, 0.0150742, 0.475524, 0.352567, 0.00042401, 0.471311, 0.000446507, 0.00747387, 0.817937, 0.000997922, 0.00027958, 0.282606, 0.00415868, 0.883465, 0.000560124, 0.97731, 0.0726322, 0.0758276, 0.147771, 0.00190546, 4.98032e-06, 0.440219, 7.53323e-08, 0.0257559, 0.440219, 0.37724, 0.368681, 0.352567, 0.568179, 0.345713, 0.352567, 0.221777, 0.352567, 0.352567, 0.352567, 0.352567, 0.352567, 1.95373e-05, 0.0552439, 8.69785e-05, 5.6866e-19, 5.68144e-11, 2.8825e-08, 5.75621e-10, 3.06056e-08, 2.41596e-14, 0.0032014, 0.035493, 0.0032014, 3.12356e-13, 0.0077345, 3.04808e-05, 1.19721e-05, 0.131319]]), 'most_likely_positions_1D': None}),\n",
       " DynamicContainer({'p_x_given_n': array([[0.00121764, 0.0097563, 0.00794397, 0, 0, 0, 0, 0, 0, 0.026485, 0.198395, 0.369662, 0.312934, 0.108868, 0.117997, 0.206632, 0.152384, 0.0920038, 0.258984, 0.152384, 0.000163496, 0.15381, 0.317197, 0.327736, 0.374038, 2.72812e-08, 0.00141639, 0.248496, 0.152384, 0.218458, 0.152384, 0.130508, 0.315991, 0.00197172, 0.000175765, 0.152384, 0.0894102, 0.032894, 0.100265],\n",
       "        [0.0688017, 0.0485722, 0.151756, 8.50601e-13, 3.68754e-06, 5.9155e-06, 1.36753e-13, 3.35021e-10, 8.60647e-16, 0.214575, 0.0968133, 0.573415, 0.298858, 0.34182, 0.735598, 0.378601, 0.0981816, 0.443452, 0.163369, 0.0981816, 0.458704, 0.302647, 0.5682, 0.591351, 0.605111, 0.925973, 0.720387, 0.612516, 0.0981816, 0.281658, 0.0981816, 0.390092, 0.386393, 0.840503, 0.997928, 0.0981816, 0.848388, 0.89198, 0.566223],\n",
       "        [0.299777, 0.35923, 0.319786, 0.0156043, 0.838528, 0.0653344, 0.00361219, 0.00214329, 4.68889e-05, 0.00320839, 0.000224725, 0.0568705, 0.200603, 0.137698, 0.0836136, 0.28092, 0.396868, 1.97488e-05, 0.542835, 0.396868, 6.4841e-05, 0.229236, 0.0431855, 0.00205811, 0.00288753, 1.22123e-08, 0.00076193, 0.0487444, 0.396868, 0.117934, 0.396868, 0.238975, 0.0916759, 0.00118646, 3.38443e-05, 0.396868, 0.040506, 0.00182098, 0.0241337],\n",
       "        [0.630203, 0.582442, 0.520514, 0.984396, 0.161469, 0.93466, 0.996388, 0.997857, 0.999953, 0.755732, 0.704567, 5.24516e-05, 0.187605, 0.411613, 0.0627913, 0.133848, 0.352567, 0.464525, 0.0348119, 0.352567, 0.541068, 0.314307, 0.0714182, 0.0788548, 0.0179633, 0.0740269, 0.277435, 0.0902438, 0.352567, 0.38195, 0.352567, 0.240426, 0.20594, 0.156339, 0.00186228, 0.352567, 0.0216953, 0.0733047, 0.309379]]), 'most_likely_positions_1D': None}),\n",
       " DynamicContainer({'p_x_given_n': array([[0.0593091, 0.000388503, 0.375956, 0.206956, 0.800335, 0.113632, 0.814006, 0.396826, 0.00692823, 0.133094, 0.00157146, 0.0454656, 0.247046, 0.152384, 0.138881, 0.152384, 0.152384, 0.139789, 0.152384, 0.152384, 0.152384, 0.152384, 0.152384, 0.152384, 0.367591, 0.0939731],\n",
       "        [0.00482686, 0.00185452, 0.0423177, 0.012122, 0.0634099, 0.100618, 0.00194595, 0.0470408, 0.0101419, 0.0285128, 0.00823476, 0.140054, 0.231102, 0.0981816, 0.204906, 0.0981816, 0.0981816, 0.342803, 0.0981816, 0.0981816, 0.0981816, 0.0981816, 0.0981816, 0.0981816, 0.260036, 0.177386],\n",
       "        [0.934553, 0.991671, 0.580464, 0.764563, 0.133652, 0.743823, 0.183962, 0.540436, 0.960635, 0.811033, 0.78928, 0.510728, 0.302697, 0.396868, 0.342406, 0.396868, 0.396868, 0.33676, 0.396868, 0.396868, 0.396868, 0.396868, 0.396868, 0.396868, 0.150596, 0.363878],\n",
       "        [0.00131125, 0.00608612, 0.00126155, 0.0163594, 0.00260352, 0.0419272, 8.59754e-05, 0.0156968, 0.0222947, 0.0273596, 0.200913, 0.303752, 0.219155, 0.352567, 0.313807, 0.352567, 0.352567, 0.180647, 0.352567, 0.352567, 0.352567, 0.352567, 0.352567, 0.352567, 0.221777, 0.364763]]), 'most_likely_positions_1D': None})]"
      ]
     },
     "execution_count": 21,
     "metadata": {},
     "output_type": "execute_result"
    }
   ],
   "source": [
    "raw_posterior_laps_marginals = DirectionalMergedDecodersResult.build_non_marginalized_raw_posteriors(laps_filter_epochs_decoder_result)\n",
    "raw_posterior_laps_marginals"
   ]
  },
  {
   "cell_type": "code",
   "execution_count": 24,
   "id": "2cf31210",
   "metadata": {},
   "outputs": [
    {
     "name": "stdout",
     "output_type": "stream",
     "text": [
      "a_raw_posterior_marginal_p_x_given_n: (4, 120)\n"
     ]
    }
   ],
   "source": [
    "\n",
    "epoch_id = 0\n",
    "a_raw_posterior_marginal_p_x_given_n = raw_posterior_laps_marginals[epoch_id]['p_x_given_n'] # .shape: (4, n_curr_epoch_time_bins) - (63, 4, 120)\n",
    "print(f'a_raw_posterior_marginal_p_x_given_n: {np.shape(a_raw_posterior_marginal_p_x_given_n)}') # .shape: (4, n_curr_epoch_time_bins) - (4, 120)\n",
    "# a_raw_posterior_marginal_p_x_given_n\n",
    "\n"
   ]
  },
  {
   "cell_type": "code",
   "execution_count": 22,
   "id": "f95d5245",
   "metadata": {},
   "outputs": [
    {
     "name": "stdout",
     "output_type": "stream",
     "text": [
      "a_marginal_dir_p_x_given_n: (2, 120)\n"
     ]
    },
    {
     "data": {
      "text/plain": [
       "array([[0.00946804, 0.850686, 0.276146, 0.518187, 0.549743, 0.407666, 0.407666, 0.407666, 0.29724, 0.29724, 0.29724, 0.00665036, 0.625752, 0.625752, 0.00110867, 0.124986, 0.169872, 0.15279, 0.382939, 0.132628, 0.266715, 0.132628, 0.407666, 0.549252, 0.549252, 0.255208, 0.242741, 0.439425, 0.549252, 0.0934325, 0.132628, 0.549252, 0.528079, 0.518187, 0.382939, 0.549252, 0.0476201, 0.549252, 0.382939, 0.549252, 0.518187, 0.549252, 0.518187, 0.549252, 0.151155, 0.549252, 0.549252, 0.549252, 0.549252, 0.236878, 0.549252, 0.305821, 0.726575, 0.549252, 0.407666, 0.549252, 0.549252, 0.549252, 0.549252, 0.549252, 0.549252, 0.549252, 0.549252, 0.549252, 0.549252, 0.549252, 0.549252, 0.549252, 0.549252, 0.549252, 0.549252, 0.35791, 0.549252, 0.549252, 0.549252, 0.549252, 0.549252, 0.549252, 0.549252, 0.549252, 0.549252, 0.549252, 0.549252, 0.305821, 0.549252, 0.0801595, 0.0349365, 0.549252, 0.305821, 0.35791, 0.801819, 0.453722, 0.522354, 0.522354, 0.35791, 0.451206, 0.12973, 0.619137, 0.549252, 0.0492611, 0.00381712, 0.129964, 0.383046, 0.522354, 0.360151, 0.549252, 0.237757, 0.0192557, 0.451206, 0.310811, 0.246567, 0.299368, 0.0121687, 0.549252, 0.0327569, 0.361308, 0.451206, 0.110534, 0.00868769, 0.549743],\n",
       "       [0.990532, 0.149314, 0.723854, 0.481813, 0.450257, 0.592334, 0.592334, 0.592334, 0.70276, 0.70276, 0.70276, 0.99335, 0.374248, 0.374248, 0.998891, 0.875014, 0.830128, 0.84721, 0.617061, 0.867372, 0.733285, 0.867372, 0.592334, 0.450748, 0.450748, 0.744792, 0.757259, 0.560575, 0.450748, 0.906568, 0.867372, 0.450748, 0.471921, 0.481813, 0.617061, 0.450748, 0.95238, 0.450748, 0.617061, 0.450748, 0.481813, 0.450748, 0.481813, 0.450748, 0.848845, 0.450748, 0.450748, 0.450748, 0.450748, 0.763122, 0.450748, 0.694179, 0.273425, 0.450748, 0.592334, 0.450748, 0.450748, 0.450748, 0.450748, 0.450748, 0.450748, 0.450748, 0.450748, 0.450748, 0.450748, 0.450748, 0.450748, 0.450748, 0.450748, 0.450748, 0.450748, 0.64209, 0.450748, 0.450748, 0.450748, 0.450748, 0.450748, 0.450748, 0.450748, 0.450748, 0.450748, 0.450748, 0.450748, 0.694179, 0.450748, 0.91984, 0.965063, 0.450748, 0.694179, 0.64209, 0.198181, 0.546278, 0.477646, 0.477646, 0.64209, 0.548794, 0.87027, 0.380863, 0.450748, 0.950739, 0.996183, 0.870036, 0.616954, 0.477646, 0.639849, 0.450748, 0.762243, 0.980744, 0.548794, 0.689189, 0.753433, 0.700632, 0.987831, 0.450748, 0.967243, 0.638692, 0.548794, 0.889466, 0.991312, 0.450257]])"
      ]
     },
     "execution_count": 22,
     "metadata": {},
     "output_type": "execute_result"
    }
   ],
   "source": [
    "epoch_id = 0\n",
    "a_marginal_dir_p_x_given_n = laps_directional_marginals[epoch_id]['p_x_given_n'] # .shape: (n_x_bins, 4, n_curr_epoch_time_bins) - (63, 4, 120)\n",
    "print(f'a_marginal_dir_p_x_given_n: {np.shape(a_marginal_dir_p_x_given_n)}') # .shape: (2, n_curr_epoch_time_bins) - (2, 120)\n",
    "a_marginal_dir_p_x_given_n"
   ]
  },
  {
   "cell_type": "code",
   "execution_count": null,
   "id": "73ae7f4d",
   "metadata": {},
   "outputs": [],
   "source": [
    "\n",
    "\n",
    "a_p_x_given_n = laps_filter_epochs_decoder_result.p_x_given_n_list[epoch_id] # .shape: (n_x_bins, 4, n_curr_epoch_time_bins) - (63, 4, 120)\n",
    "a_p_x_given_n\n",
    "\n",
    "raw_posterior_laps_marginals[epoch_id]\n",
    "\n",
    "a_time_bin = 0\n",
    "a_p_x_given_n[:,:,a_time_bin]\n"
   ]
  },
  {
   "cell_type": "code",
   "execution_count": 25,
   "id": "b01985e2",
   "metadata": {},
   "outputs": [
    {
     "name": "stdout",
     "output_type": "stream",
     "text": [
      "np.shape(img_data): (4, 120)\n"
     ]
    },
    {
     "name": "stderr",
     "output_type": "stream",
     "text": [
      "ERROR:npe2.manifest.schema:napari.manifest -> 'napari-geoscience-viewer' could not be imported: Cannot find module 'napari_hdf5_netcdf_viewer' declared in entrypoint: 'napari_hdf5_netcdf_viewer:napari.yaml'\n"
     ]
    },
    {
     "data": {
      "text/plain": [
       "Viewer(camera=Camera(center=(0.0, 1.5, 59.5), zoom=8.201666666666664, angles=(0.0, 0.0, 90.0), perspective=0.0, mouse_pan=True, mouse_zoom=True), cursor=Cursor(position=(1.0, 1.0), scaled=True, size=1, style=<CursorStyle.STANDARD: 'standard'>), dims=Dims(ndim=2, ndisplay=2, last_used=0, range=((0.0, 4.0, 1.0), (0.0, 120.0, 1.0)), current_step=(1, 59), order=(0, 1), axis_labels=('0', '1')), grid=GridCanvas(stride=1, shape=(-1, -1), enabled=False), layers=[<Image layer 'img_data' at 0x1a71268b3d0>], help='use <2> for transform', status='Ready', tooltip=Tooltip(visible=False, text=''), theme='dark', title='napari', mouse_over_canvas=False, mouse_move_callbacks=[], mouse_drag_callbacks=[], mouse_double_click_callbacks=[], mouse_wheel_callbacks=[<function dims_scroll at 0x000001A6F61D89D0>], _persisted_mouse_event={}, _mouse_drag_gen={}, _mouse_wheel_gen={}, keymap={})"
      ]
     },
     "execution_count": 25,
     "metadata": {},
     "output_type": "execute_result"
    }
   ],
   "source": [
    "import napari\n",
    "\n",
    "# img_data = a_p_x_given_n.astype(float).transpose(2, 0, 1)\n",
    "# img_data = a_p_x_given_n.astype(float)\n",
    "# img_data = a_marginal_dir_p_x_given_n.astype(float)\n",
    "img_data = a_raw_posterior_marginal_p_x_given_n.astype(float)\n",
    "\n",
    "print(f'np.shape(img_data): {np.shape(img_data)}')\n",
    "# out = napari.gui_qt()\n",
    "# viewer = napari.view_image(data.astronaut(), rgb=True)\n",
    "viewer = napari.view_image(img_data) # rgb=True\n",
    "\n",
    "viewer"
   ]
  },
  {
   "cell_type": "code",
   "execution_count": null,
   "id": "4ba5101e",
   "metadata": {},
   "outputs": [],
   "source": [
    "from pyphoplacecellanalysis.Pho2D.PyQtPlots.Extensions.pyqtgraph_helpers import pyqtplot_build_image_bounds_extent, pyqtplot_plot_image\n",
    "\n",
    "pyqtplot_plot_image("
   ]
  },
  {
   "cell_type": "code",
   "execution_count": 29,
   "id": "13800650",
   "metadata": {},
   "outputs": [
    {
     "data": {
      "text/plain": [
       "WindowsPath('C:/Users/pho/repos/Spike3DWorkEnv/Spike3D/output/numpy_array_as_image.png')"
      ]
     },
     "execution_count": 29,
     "metadata": {},
     "output_type": "execute_result"
    }
   ],
   "source": [
    "import numpy as np\n",
    "import matplotlib.pyplot as plt\n",
    "from PIL import Image\n",
    "\n",
    "new_width: int = 1024\n",
    "\n",
    "\n",
    "# Assuming `your_array` is your numpy array\n",
    "# For the colormap, you can use any colormap from matplotlib. \n",
    "# In this case, 'hot' is used.\n",
    "colormap = plt.get_cmap('hot')\n",
    "\n",
    "# Normalize your array to 0-1\n",
    "norm_array = (img_data - np.min(img_data)) / np.ptp(img_data)\n",
    "\n",
    "# Apply colormap\n",
    "image_array = colormap(norm_array)\n",
    "\n",
    "# Convert to PIL image and remove alpha channel\n",
    "image = Image.fromarray((image_array[:, :, :3] * 255).astype(np.uint8))\n",
    "\n",
    "# Specify width\n",
    "# Calculate height to preserve aspect ratio\n",
    "new_height = int(new_width * image_array.shape[0] / image_array.shape[1])\n",
    "\n",
    "# Resize image\n",
    "# image = image.resize((new_width, new_height), Image.LANCZOS)\n",
    "image = image.resize((new_width, new_height), Image.)\n",
    "\n",
    "out_path = Path('output/numpy_array_as_image.png').resolve()\n",
    "# Save image to file\n",
    "image.save(out_path)\n",
    "\n",
    "out_path"
   ]
  },
  {
   "cell_type": "code",
   "execution_count": null,
   "id": "2dad6729",
   "metadata": {},
   "outputs": [],
   "source": [
    "if 'snapshot_occupancy_weighted_tuning_maps' not in active_relative_entropy_results:\n",
    "\tactive_relative_entropy_results['snapshot_occupancy_weighted_tuning_maps'] = np.stack([placefield_snapshot.occupancy_weighted_tuning_maps_matrix for placefield_snapshot in active_relative_entropy_results['historical_snapshots'].values()])\n",
    "\n",
    "\n",
    "image_layer_dict = {}\n",
    "layer_properties_dict = {\n",
    "\t'snapshot_occupancy_weighted_tuning_maps': dict(blending='additive', colormap='viridis', name='pf1D_dt'),\n",
    "#  'flat_jensen_shannon_distance_results': dict(blending='additive', colormap='gray'),\n",
    "\t'long_short_rel_entr_curves_frames': dict(blending='additive', colormap='bop blue'),\n",
    "\t'short_long_rel_entr_curves_frames': dict(blending='additive', colormap='red'),\n",
    "\t\n",
    "}\n",
    "\n",
    "for a_name, layer_properties in layer_properties_dict.items():\n",
    "\t# image_layer_dict[a_name] = viewer.add_image(active_relative_entropy_results_xr_dict[a_name].to_numpy().astype(float), name=a_name)\n",
    "\timage_layer_dict[a_name] = viewer.add_image(active_relative_entropy_results[a_name].astype(float), **(dict(name=a_name)|layer_properties))\n",
    "\n",
    "assert viewer.dims.ndim == 3\n",
    "## Set the dimensions appropriately\n",
    "viewer.dims.axis_labels = ('t', 'neuron_id', 'xbin')"
   ]
  },
  {
   "cell_type": "code",
   "execution_count": null,
   "id": "9b8a17a1",
   "metadata": {},
   "outputs": [],
   "source": [
    "\n",
    "# Valid use of Unicode in a variable name\n",
    "my_variable_δ = 42\n",
    "# This is a comment with Unicode characters: 🐍\n",
    "# Parentheses: ()\n",
    "# Square brackets: []\n",
    "# Curly brackets: {}\n",
    "# Angle brackets: <>\n",
    "# Double angle brackets: « »\n",
    "# Double square brackets: ⟦ ⟧\n",
    "# Mathematical brackets: 〈〉\n",
    "# Tortoise shell brackets: 〔〕\n",
    "# White square brackets: ⟦ ⟧\n",
    "# Brackets with quills: ⸤⸥\n",
    "\n",
    "@define(slots=True)\n",
    "class BracketGroup:\n",
    "\topen: str = field()\n",
    "\tclose: str = field()\n",
    "\t\n",
    "\n",
    "native_python_list_brackets = BracketGroup(\"[\", \"]\")\n",
    "numpy_array_brackets = BracketGroup(\"⟦\", \"⟧\")\n",
    "\n"
   ]
  },
  {
   "cell_type": "code",
   "execution_count": 16,
   "id": "55c527c6",
   "metadata": {},
   "outputs": [
    {
     "name": "stdout",
     "output_type": "stream",
     "text": [
      "title: Directional_Posterior\n",
      "\t saved C:\\Users\\pho\\repos\\Spike3DWorkEnv\\Spike3D\\EXTERNAL\\Screenshots\\ProgrammaticDisplayFunctionTesting\\2024-01-12\\kdiba\\pin01\\one\\fet11-01_12-58-54\\directional_merged_pf_decoded_epochs_Laps_Posterior.png\n",
      "title: Directional_Marginal_LAPS\n",
      "\t saved C:\\Users\\pho\\repos\\Spike3DWorkEnv\\Spike3D\\EXTERNAL\\Screenshots\\ProgrammaticDisplayFunctionTesting\\2024-01-12\\kdiba\\pin01\\one\\fet11-01_12-58-54\\directional_merged_pf_decoded_epochs_Laps_Direction.png\n",
      "title: TrackIdentity_Marginal_LAPS\n",
      "\t saved C:\\Users\\pho\\repos\\Spike3DWorkEnv\\Spike3D\\EXTERNAL\\Screenshots\\ProgrammaticDisplayFunctionTesting\\2024-01-12\\kdiba\\pin01\\one\\fet11-01_12-58-54\\directional_merged_pf_decoded_epochs_Laps_TrackID.png\n"
     ]
    }
   ],
   "source": [
    "# _display_directional_merged_pf_decoded_epochs ______________________________________________________________________ #\n",
    "try:\n",
    "\t# Interactive-mode parameters:\n",
    "\t_interactive_mode_kwargs = dict(should_use_MatplotlibTimeSynchronizedWidget=True, scrollable_figure=True, defer_render=False)\n",
    "\t_restore_previous_matplotlib_settings_callback = matplotlib_configuration_update(is_interactive=True, backend='Qt5Agg')\n",
    "\t_curr_interaction_mode_kwargs = _interactive_mode_kwargs # interactive mode\n",
    "\n",
    "\t# Non-interactive:\n",
    "\t# _non_interactive_mode_kwargs = dict(should_use_MatplotlibTimeSynchronizedWidget=False, scrollable_figure=False, defer_render=True)\n",
    "\t# _restore_previous_matplotlib_settings_callback = matplotlib_configuration_update(is_interactive=False, backend='AGG')\n",
    "\t# _curr_interaction_mode_kwargs = _non_interactive_mode_kwargs # non-interactive mode\n",
    "\n",
    "\t_out = curr_active_pipeline.display('_display_directional_merged_pf_decoded_epochs', curr_active_pipeline.get_session_context(),\n",
    "\t\t\t\tmax_num_lap_epochs = 10, max_num_ripple_epochs = 10,\n",
    "\t\t\t\trender_merged_pseudo2D_decoder_laps=True, \n",
    "\t\t\t\t# render_directional_marginal_laps=False, render_directional_marginal_ripples=False, render_track_identity_marginal_laps=False, render_track_identity_marginal_ripples=False,\n",
    "\t\t\t\trender_directional_marginal_laps=True, render_directional_marginal_ripples=False, render_track_identity_marginal_laps=True, render_track_identity_marginal_ripples=False,\n",
    "\t\t\t\t# constrained_layout=True, # layout='none',\n",
    "\t\t\t\tbuild_fn='basic_view', constrained_layout=True, \n",
    "\t\t\t\t# build_fn='insets_view', constrained_layout=None, layout='none', # , constrained_layout=False constrained_layout=None, layout='none', # , constrained_layout=None, layout='none' extrodinarily fast\n",
    "\t\t\t\t**_curr_interaction_mode_kwargs, # interactive mode\n",
    "\t\t\t\tskip_plotting_measured_positions=True, skip_plotting_most_likely_positions=True, save_figure=save_figure)\n",
    "\t\n",
    "except Exception as e:\n",
    "\tprint(f'batch_extended_programmatic_figures(...): \"_display_directional_merged_pf_decoded_epochs\" failed with error: {e}\\n skipping.')\n",
    "\traise\n"
   ]
  },
  {
   "cell_type": "markdown",
   "id": "6974d23f",
   "metadata": {},
   "source": [
    "### Plot the z-scores differences and their raw-values"
   ]
  },
  {
   "cell_type": "code",
   "execution_count": null,
   "id": "09e7c645",
   "metadata": {},
   "outputs": [],
   "source": [
    "# from PyQt5.QtWidgets import QGraphicsTextItem\n",
    "from pyphoplacecellanalysis.General.Model.Configs.LongShortDisplayConfig import DisplayColorsEnum, LongShortDisplayConfigManager\n",
    "from pyphoplacecellanalysis.General.Pipeline.Stages.ComputationFunctions.MultiContextComputationFunctions.RankOrderComputations import RankOrderAnalyses, plot_rank_order_epoch_inst_fr_result_tuples\n",
    "from pyphoplacecellanalysis.General.Mixins.ExportHelpers import export_pyqtgraph_plot\n",
    "\n",
    "# histogram_display_context = active_context.adding_context('display_fn', display_fn_name='plot_rank_order_epoch_inst_fr_result_tuples')\n",
    "ripple_outputs = plot_rank_order_epoch_inst_fr_result_tuples(curr_active_pipeline, ripple_result_tuple, 'Ripple', show=False)\n",
    "# _out_ripple_result_tuple_histograms.context = histogram_display_context.adding_context('subplot', subplot_name='ripple_result_tuple')\n",
    "diff_app, diff_win, diff_p1, diff_out_plot_1D, diff_label_tuple, raw_app, raw_win, raw_p1, raw_out_plot_1D, raw_label_tuple = ripple_outputs\n",
    "diff_header_label, diff_footer_label = diff_label_tuple\n",
    "raw_header_label, raw_footer_label = raw_label_tuple\n"
   ]
  },
  {
   "cell_type": "markdown",
   "id": "732dd0e9",
   "metadata": {},
   "source": [
    "## 2024-01-02 - Almost working for building footer/header strings in pyqtgraph plots:"
   ]
  },
  {
   "cell_type": "code",
   "execution_count": null,
   "id": "f0ccf0c3",
   "metadata": {
    "tags": [
     "display",
     "_display_rank_order_z_stats_results"
    ]
   },
   "outputs": [],
   "source": [
    "from pyphoplacecellanalysis.General.Pipeline.Stages.ComputationFunctions.MultiContextComputationFunctions.RankOrderComputations import RankOrderGlobalDisplayFunctions\n",
    "\n",
    "curr_active_pipeline.reload_default_display_functions()\n",
    "_out = curr_active_pipeline.display('_display_rank_order_z_stats_results', defer_show=False)\n"
   ]
  },
  {
   "cell_type": "code",
   "execution_count": null,
   "id": "6c81317c",
   "metadata": {},
   "outputs": [],
   "source": [
    "from pyphoplacecellanalysis.General.Pipeline.Stages.ComputationFunctions.MultiContextComputationFunctions.RankOrderComputations import plot_rank_order_epoch_inst_fr_result_tuples\n",
    "\n",
    "ripple_outputs = plot_rank_order_epoch_inst_fr_result_tuples(curr_active_pipeline, ripple_result_tuple, 'Ripple')\n",
    "ripple_outputs"
   ]
  },
  {
   "cell_type": "code",
   "execution_count": null,
   "id": "ee0ecf3f",
   "metadata": {},
   "outputs": [],
   "source": [
    "# Usage of the function for Lap\n",
    "lap_outputs = plot_rank_order_epoch_inst_fr_result_tuples(curr_active_pipeline, laps_result_tuple, 'Lap')\n",
    "lap_outputs"
   ]
  },
  {
   "cell_type": "code",
   "execution_count": null,
   "id": "4b08f262",
   "metadata": {},
   "outputs": [],
   "source": [
    "# result_tuple.plot_histograms()\n",
    "from pyphoplacecellanalysis.General.Pipeline.Stages.ComputationFunctions.MultiContextComputationFunctions.RankOrderComputations import plot_rank_order_histograms\n",
    "\n",
    "# Plot histograms:\n",
    "active_context = curr_active_pipeline.sess.get_context()\n",
    "\n",
    "def _perform_write_to_file_callback(final_context, fig):\n",
    "\treturn curr_active_pipeline.output_figure(final_context, fig)\n",
    "\n",
    "post_title_info: str = f'{minimum_inclusion_fr_Hz} Hz'\n",
    "collector_histograms = plot_rank_order_histograms(rank_order_results, post_title_info=post_title_info, active_context=active_context, perform_write_to_file_callback=_perform_write_to_file_callback)"
   ]
  },
  {
   "cell_type": "markdown",
   "id": "8351ca5f",
   "metadata": {},
   "source": [
    "## 2023-12-23 - Good for lap direction debugging:\n"
   ]
  },
  {
   "cell_type": "code",
   "execution_count": null,
   "id": "b9fe63b0",
   "metadata": {},
   "outputs": [],
   "source": [
    "# rank_order_results.laps_most_likely_result_tuple.directional_likelihoods_df.plot.bar(y=['long_relative_direction_likelihoods', 'short_relative_direction_likelihoods'])\n",
    "\n",
    "# _temp_dir_like_df = rank_order_results.laps_most_likely_result_tuple.directional_likelihoods_df.copy()\n",
    "_temp_dir_like_df = rank_order_results.ripple_most_likely_result_tuple.directional_likelihoods_df.copy()\n",
    "_temp_dir_like_df[['long_relative_direction_likelihoods', 'short_relative_direction_likelihoods']] -= 0.5 # Subtract 0.5 so y is centered on zero, above zero showing LR favor below RL\n",
    "_temp_dir_like_df.plot.bar(y=['long_relative_direction_likelihoods'])"
   ]
  },
  {
   "cell_type": "code",
   "execution_count": null,
   "id": "45831aec",
   "metadata": {},
   "outputs": [],
   "source": [
    "import seaborn as sns\n",
    "\n",
    "# directional_likelihoods_df = pd.DataFrame({\n",
    "#   \"long_relative_direction_likelihoods\": [0.41, 0.48, 0.27, 0.33, 0.69, 0.50],\n",
    "#   \"short_relative_direction_likelihoods\": [0.58, 0.51, 0.72, 0.66, 0.30, 0.49],\n",
    "#   \"long_best_direction_indices\": [0, 1, 1, 1, 0, 0]\n",
    "# })\n",
    "\n",
    "\n",
    "fig = plt.figure(num='directional_likelihoods_df figure')\n",
    "sns.scatterplot(x=directional_likelihoods_df.index, y=directional_likelihoods_df[\"long_relative_direction_likelihoods\"], hue=directional_likelihoods_df[\"long_best_direction_indices\"], palette=\"hls\")\n",
    "plt.show()"
   ]
  },
  {
   "cell_type": "code",
   "execution_count": null,
   "id": "359244bd",
   "metadata": {},
   "outputs": [],
   "source": [
    "import seaborn as sns\n",
    "from pyphoplacecellanalysis.General.Pipeline.Stages.ComputationFunctions.MultiContextComputationFunctions.RankOrderComputations import plot_quantile_diffs\n",
    "\n",
    "_restore_previous_matplotlib_settings_callback = matplotlib_configuration_update(is_interactive=True, backend='Qt5Agg')\n",
    "global_epoch = curr_active_pipeline.filtered_epochs[global_epoch_name]\n",
    "short_epoch = curr_active_pipeline.filtered_epochs[short_epoch_name]\n",
    "split_time_t: float = short_epoch.t_start\n",
    "active_context = curr_active_pipeline.sess.get_context()\n",
    "\n",
    "def _perform_write_to_file_callback(final_context, fig):\n",
    "\treturn curr_active_pipeline.output_figure(final_context, fig)\n",
    "\n",
    "collector = plot_quantile_diffs(ripple_merged_complete_epoch_stats_df, t_split=split_time_t, active_context=active_context, perform_write_to_file_callback=_perform_write_to_file_callback)"
   ]
  },
  {
   "cell_type": "code",
   "execution_count": null,
   "id": "94db93a3",
   "metadata": {},
   "outputs": [],
   "source": [
    "#TODO 2023-11-16 22:23: - [ ] The other display functions using matplotlib do things like this:\n",
    "# final_context = active_context\n",
    "# graphics_output_dict['context'] = final_context\n",
    "# graphics_output_dict['plot_data'] |= {'df': neuron_replay_stats_df, 'rdf':rdf, 'aclu_to_idx':aclu_to_idx, 'irdf':irdf, 'time_binned_unit_specific_spike_rate': global_computation_results.computed_data['jonathan_firing_rate_analysis'].time_binned_unit_specific_spike_rate,\n",
    "#     'time_variable_name':time_variable_name, 'fignum':curr_fig_num}\n",
    "\n",
    "# def _perform_write_to_file_callback():\n",
    "#     ## 2023-05-31 - Reference Output of matplotlib figure to file, along with building appropriate context.\n",
    "#     return owning_pipeline_reference.output_figure(final_context, graphics_output_dict.figures[0])\n",
    "\n",
    "# if save_figure:\n",
    "#     active_out_figure_paths = _perform_write_to_file_callback()\n",
    "# else:\n",
    "#     active_out_figure_paths = []\n",
    "\n",
    "# graphics_output_dict['saved_figures'] = active_out_figure_paths"
   ]
  },
  {
   "cell_type": "markdown",
   "id": "1c475c31",
   "metadata": {},
   "source": [
    "## Weighted Correlation can only be applied to decoded posteriors, not spikes themselves.\n",
    "### It works by assessing the degree to which a change in position corresponds to a change in time. For a simple diagonally increasing trajectory across the track at early timebins position will start at the bottom of the track, and as time increases the position also increases. The \"weighted\" part just corresponds to making use of the confidence probabilities of the decoded posterior: instead of relying on only the most-likely position we can include all information returned. Naturally will emphasize sharp decoded positions and de-emphasize diffuse ones.\n"
   ]
  },
  {
   "cell_type": "code",
   "execution_count": null,
   "id": "b8e6c28b",
   "metadata": {},
   "outputs": [],
   "source": [
    "from PendingNotebookCode import add_weighted_correlation_result, compute_epoch_weighted_correlation\n",
    "\n",
    "# add_weighted_correlation_result(xbin_centers, a_long_decoder_result: DecodedFilterEpochsResult, a_short_decoder_result: DecodedFilterEpochsResult, method=('pearson', 'spearman'), debug_print = False)"
   ]
  },
  {
   "cell_type": "code",
   "execution_count": null,
   "id": "f9db8f08",
   "metadata": {},
   "outputs": [],
   "source": [
    "## Get decoded posteriors for each replay epoch:\n",
    "from pyphoplacecellanalysis.Analysis.Decoder.reconstruction import DecodedFilterEpochsResult\n",
    "from PendingNotebookCode import add_weighted_correlation_result, _add_maze_id_to_epochs\n",
    "\n",
    "## 2023-10-19 - Weighted Correlation:\n",
    "a_long_decoder_result: DecodedFilterEpochsResult = long_results_obj.all_included_filter_epochs_decoder_result\n",
    "a_short_decoder_result: DecodedFilterEpochsResult = short_results_obj.all_included_filter_epochs_decoder_result\n",
    "# Get the xbin_centers which are the same for long/short:\n",
    "xbin_centers = long_results_obj.original_1D_decoder.xbin_centers.copy()\n",
    "# Compute the weighte correlation:\n",
    "epoch_long_weighted_corr_results, epoch_short_weighted_corr_results = add_weighted_correlation_result(xbin_centers, a_long_decoder_result, a_short_decoder_result, debug_print=False)\n",
    "epoch_long_weighted_corr_results"
   ]
  },
  {
   "cell_type": "code",
   "execution_count": null,
   "id": "78fdd9a4",
   "metadata": {},
   "outputs": [],
   "source": [
    "## 2023-10-19 - Weighted Correlation:\n",
    "\n",
    "directional_merged_decoders_result: DirectionalMergedDecodersResult  = curr_active_pipeline.global_computation_results.computed_data['DirectionalMergedDecoders']\n",
    "laps_filter_epochs_decoder_result = directional_merged_decoders_result.all_directional_laps_filter_epochs_decoder_result\n",
    "laps_filter_epochs_decoder_result\n"
   ]
  },
  {
   "cell_type": "code",
   "execution_count": null,
   "id": "31208041",
   "metadata": {},
   "outputs": [],
   "source": [
    "\n",
    "\n",
    "# laps_filter_epochs_decoder_result\n",
    "\n",
    "\n",
    "## 2023-10-19 - Weighted Correlation:\n",
    "a_long_decoder_result: DecodedFilterEpochsResult = long_results_obj.all_included_filter_epochs_decoder_result\n",
    "a_short_decoder_result: DecodedFilterEpochsResult = short_results_obj.all_included_filter_epochs_decoder_result\n",
    "# Get the xbin_centers which are the same for long/short:\n",
    "xbin_centers = directional_merged_decoders_result.all_directional_pf1D_Decoder.xbin_centers.copy()\n",
    "# Compute the weighte correlation:\n",
    "epoch_long_weighted_corr_results, epoch_short_weighted_corr_results = add_weighted_correlation_result(xbin_centers, a_long_decoder_result, a_short_decoder_result, debug_print=False)\n",
    "epoch_long_weighted_corr_results\n"
   ]
  },
  {
   "cell_type": "code",
   "execution_count": null,
   "id": "6d90c0b3",
   "metadata": {},
   "outputs": [],
   "source": []
  },
  {
   "cell_type": "code",
   "execution_count": null,
   "id": "90a4284f",
   "metadata": {},
   "outputs": [],
   "source": [
    "debug_print = True\n",
    "method = ('pearson', 'spearman')\n",
    "epoch_long_weighted_corr_results = []\n",
    "\n",
    "# Get the xbin_centers which are the same for long/short:\n",
    "xbin_centers = directional_merged_decoders_result.all_directional_pf1D_Decoder.xbin_centers.copy()\n",
    "a_long_decoder_result: DecodedFilterEpochsResult = deepcopy(laps_filter_epochs_decoder_result)\n",
    "\n",
    "\n",
    "for decoded_epoch_idx in np.arange(a_long_decoder_result.num_filter_epochs):\n",
    "\t# decoded_epoch_idx:int = 0\n",
    "\tcurr_epoch_time_bin_container = a_long_decoder_result.time_bin_containers[decoded_epoch_idx]\n",
    "\tcurr_time_bins = curr_epoch_time_bin_container.centers\n",
    "\tcurr_n_time_bins = len(curr_time_bins)\n",
    "\tif debug_print:\n",
    "\t\tprint(f'curr_n_time_bins: {curr_n_time_bins}')\n",
    "\n",
    "\t## Long Decoding:\n",
    "\tcurr_long_epoch_p_x_given_n = a_long_decoder_result.p_x_given_n_list[decoded_epoch_idx] # .shape: (239, 5) - (n_x_bins, n_epoch_time_bins)\n",
    "\tweighted_corr_result = compute_epoch_weighted_correlation(xbin_centers, curr_time_bins, curr_long_epoch_p_x_given_n, method=method)\n",
    "\tepoch_long_weighted_corr_results.append(weighted_corr_result)\n",
    "\n",
    "\t# ## Short Decoding:\n",
    "\t# curr_short_epoch_p_x_given_n = a_short_decoder_result.p_x_given_n_list[decoded_epoch_idx] # .shape: (239, 5) - (n_x_bins, n_epoch_time_bins)\n",
    "\t# weighted_corr_result = compute_epoch_weighted_correlation(xbin_centers, curr_time_bins, curr_short_epoch_p_x_given_n, method=method)\n",
    "\t# epoch_short_weighted_corr_results.append(weighted_corr_result)\n",
    "\n",
    "# ## Build separate result dataframe:\n",
    "# epoch_weighted_corr_results_df = pd.DataFrame({'weighted_corr_LONG': np.array(epoch_long_weighted_corr_results), 'weighted_corr_SHORT': np.array(epoch_short_weighted_corr_results)})\n",
    "# epoch_weighted_corr_results_df\n",
    "\n",
    "epoch_long_weighted_corr_results = np.array(epoch_long_weighted_corr_results)\n",
    "\n"
   ]
  },
  {
   "cell_type": "code",
   "execution_count": null,
   "id": "9c51a621",
   "metadata": {},
   "outputs": [],
   "source": [
    "\n",
    "a_long_decoder_result: DecodedFilterEpochsResult = long_results_obj.all_included_filter_epochs_decoder_result\n",
    "a_short_decoder_result: DecodedFilterEpochsResult = short_results_obj.all_included_filter_epochs_decoder_result\n",
    "# Get the xbin_centers which are the same for long/short:\n",
    "xbin_centers = long_results_obj.original_1D_decoder.xbin_centers.copy()\n",
    "# Compute the weighte correlation:\n",
    "epoch_long_weighted_corr_results, epoch_short_weighted_corr_results = add_weighted_correlation_result(xbin_centers, a_long_decoder_result, a_short_decoder_result, debug_print=False)"
   ]
  },
  {
   "cell_type": "code",
   "execution_count": null,
   "id": "342effc0",
   "metadata": {},
   "outputs": [],
   "source": [
    "epoch_long_weighted_corr_results.shape # (151, 2)"
   ]
  },
  {
   "cell_type": "code",
   "execution_count": null,
   "id": "d462ff9f",
   "metadata": {},
   "outputs": [],
   "source": [
    "\n",
    "## Add new weighted correlation results as new columns in existing filter_epochs df:\n",
    "active_filter_epochs = long_results_obj.active_filter_epochs\n",
    "# Add the maze_id to the active_filter_epochs so we can see how properties change as a function of which track the replay event occured on:\n",
    "active_filter_epochs = _add_maze_id_to_epochs(active_filter_epochs, short_session.t_start)\n",
    "active_filter_epochs._df['weighted_corr_LONG'] = epoch_long_weighted_corr_results[:,0]\n",
    "active_filter_epochs._df['weighted_corr_SHORT'] = epoch_short_weighted_corr_results[:,0]\n",
    "active_filter_epochs._df['weighted_corr_spearman_LONG'] = epoch_long_weighted_corr_results[:,1]\n",
    "active_filter_epochs._df['weighted_corr_spearman_SHORT'] = epoch_short_weighted_corr_results[:,1]\n",
    "\n",
    "\n",
    "active_filter_epochs"
   ]
  },
  {
   "cell_type": "code",
   "execution_count": null,
   "id": "757ed106",
   "metadata": {},
   "outputs": [],
   "source": [
    "active_filter_epochs.to_dataframe()"
   ]
  },
  {
   "cell_type": "code",
   "execution_count": null,
   "id": "a58d2d78",
   "metadata": {},
   "outputs": [],
   "source": [
    "## plot the `weighted_corr_LONG` over time\n",
    "\n",
    "# fig, axes = plt.subplots(ncols=1, nrows=active_num_rows, sharex=True, sharey=sharey, figsize=figsize)\n",
    "\n",
    "## Weighted Correlation during replay epochs:\n",
    "_out_ax = active_filter_epochs._df.plot.scatter(x='start', y='weighted_corr_LONG', title='weighted_corr during replay events', marker=\"s\",  s=5, label=f'Long', alpha=0.8)\n",
    "active_filter_epochs._df.plot.scatter(x='start', y='weighted_corr_SHORT', xlabel='Replay Epoch Time', ylabel='Weighted Correlation', ax=_out_ax, marker=\"s\", c='r', s=5, label=f'Short', alpha=0.8)\n",
    "_out_ax.axhline(y=0.0, linewidth=1, color='k') # the y=0.0 line"
   ]
  },
  {
   "cell_type": "code",
   "execution_count": null,
   "id": "8a498345",
   "metadata": {},
   "outputs": [],
   "source": [
    "## Weighted Spearman Correlation during replay epochs:\n",
    "_out_ax = active_filter_epochs._df.plot.scatter(x='start', y='weighted_corr_spearman_LONG', title='weighted_spearman_corr during replay events', marker=\"s\",  s=5, label=f'Long', alpha=0.8)\n",
    "active_filter_epochs._df.plot.scatter(x='start', y='weighted_corr_spearman_SHORT', xlabel='Replay Epoch Time', ylabel='Weighted Spearman Correlation', ax=_out_ax, marker=\"s\", c='r', s=5, label=f'Short', alpha=0.8)\n",
    "_out_ax.axhline(y=0.0, linewidth=1, color='k') # the y=0.0 line"
   ]
  },
  {
   "cell_type": "code",
   "execution_count": null,
   "id": "00fb9cf9",
   "metadata": {},
   "outputs": [],
   "source": [
    "_out_ax = active_filter_epochs._df.plot.scatter(x='start', y='score_LONG', title='Radon Transform Score during replay events', marker=\"s\",  s=5, label=f'Long', alpha=0.8)\n",
    "active_filter_epochs._df.plot.scatter(x='start', y='score_SHORT', xlabel='Replay Epoch Time', ylabel='Replay Radon Transform Score', ax=_out_ax, marker=\"s\", c='r', s=5, label=f'Short', alpha=0.8)\n",
    "_out_ax.axhline(y=0.0, linewidth=1, color='k') # the y=0.0 line"
   ]
  }
 ],
 "metadata": {
  "kernelspec": {
   "display_name": ".venv_yellow",
   "language": "python",
   "name": "python3"
  },
  "language_info": {
   "codemirror_mode": {
    "name": "ipython",
    "version": 3
   },
   "file_extension": ".py",
   "mimetype": "text/x-python",
   "name": "python",
   "nbconvert_exporter": "python",
   "pygments_lexer": "ipython3",
   "version": "3.9.13"
  }
 },
 "nbformat": 4,
 "nbformat_minor": 5
}
