{
 "cells": [
  {
   "cell_type": "code",
   "execution_count": 1,
   "id": "96ce022a",
   "metadata": {
    "dotnet_interactive": {
     "language": "csharp"
    },
    "notebookRunGroups": {
     "groupValue": "1"
    },
    "polyglot_notebook": {
     "kernelName": "csharp"
    },
    "tags": []
   },
   "outputs": [
    {
     "name": "stdout",
     "output_type": "stream",
     "text": [
      "Automatic pdb calling has been turned OFF\n",
      "build_module_logger(module_name=\"Spike3D.pipeline\"):\n",
      "\t Module logger com.PhoHale.Spike3D.pipeline has file logging enabled and will log to EXTERNAL\\TESTING\\Logging\\debug_com.PhoHale.Spike3D.pipeline.log\n"
     ]
    }
   ],
   "source": [
    "%config IPCompleter.use_jedi = False\n",
    "%pdb off\n",
    "# %load_ext viztracer\n",
    "# from viztracer import VizTracer\n",
    "%load_ext autoreload\n",
    "%autoreload 3\n",
    "import sys\n",
    "from typing import Dict, List, Tuple, Optional\n",
    "from pathlib import Path\n",
    "\n",
    "# required to enable non-blocking interaction:\n",
    "%gui qt5\n",
    "\n",
    "from copy import deepcopy\n",
    "from numba import jit\n",
    "import numpy as np\n",
    "import pandas as pd\n",
    "pd.options.mode.chained_assignment = None  # default='warn'\n",
    "# pd.options.mode.dtype_backend = 'pyarrow' # use new pyarrow backend instead of numpy\n",
    "from attrs import define, field, fields, Factory\n",
    "import tables as tb\n",
    "from datetime import datetime, timedelta\n",
    "\n",
    "# Pho's Formatting Preferences\n",
    "from pyphocorehelpers.preferences_helpers import set_pho_preferences, set_pho_preferences_concise, set_pho_preferences_verbose\n",
    "set_pho_preferences_concise()\n",
    "\n",
    "## Pho's Custom Libraries:\n",
    "from pyphocorehelpers.Filesystem.path_helpers import find_first_extant_path\n",
    "from pyphocorehelpers.Filesystem.open_in_system_file_manager import reveal_in_system_file_manager\n",
    "\n",
    "# NeuroPy (Diba Lab Python Repo) Loading\n",
    "# from neuropy import core\n",
    "from neuropy.analyses.placefields import PlacefieldComputationParameters\n",
    "from neuropy.core.epoch import NamedTimerange, Epoch\n",
    "from neuropy.core.ratemap import Ratemap\n",
    "from neuropy.core.session.Formats.BaseDataSessionFormats import DataSessionFormatRegistryHolder\n",
    "from neuropy.core.session.Formats.Specific.KDibaOldDataSessionFormat import KDibaOldDataSessionFormatRegisteredClass\n",
    "from neuropy.utils.matplotlib_helpers import matplotlib_file_only, matplotlib_configuration, matplotlib_configuration_update\n",
    "from neuropy.core.neuron_identities import NeuronIdentityTable, neuronTypesList, neuronTypesEnum\n",
    "from neuropy.utils.mixins.AttrsClassHelpers import AttrsBasedClassHelperMixin, serialized_field, serialized_attribute_field, non_serialized_field, custom_define\n",
    "from neuropy.utils.mixins.HDF5_representable import HDF_DeserializationMixin, post_deserialize, HDF_SerializationMixin, HDFMixin, HDF_Converter\n",
    "\n",
    "## For computation parameters:\n",
    "from neuropy.analyses.placefields import PlacefieldComputationParameters\n",
    "from neuropy.utils.dynamic_container import DynamicContainer\n",
    "from neuropy.utils.result_context import IdentifyingContext\n",
    "from neuropy.core.session.Formats.BaseDataSessionFormats import find_local_session_paths\n",
    "from neuropy.core.neurons import NeuronType\n",
    "from neuropy.core.user_annotations import UserAnnotationsManager\n",
    "from neuropy.core.position import Position\n",
    "from neuropy.core.session.dataSession import DataSession\n",
    "from neuropy.analyses.time_dependent_placefields import PfND_TimeDependent, PlacefieldSnapshot\n",
    "\n",
    "from pyphocorehelpers.print_helpers import print_object_memory_usage, print_dataframe_memory_usage, print_value_overview_only, DocumentationFilePrinter, print_keys_if_possible, generate_html_string, CapturedException\n",
    "\n",
    "# pyPhoPlaceCellAnalysis:\n",
    "from pyphoplacecellanalysis.General.Pipeline.NeuropyPipeline import NeuropyPipeline # get_neuron_identities\n",
    "from pyphoplacecellanalysis.General.Mixins.ExportHelpers import export_pyqtgraph_plot\n",
    "from pyphoplacecellanalysis.General.Batch.NonInteractiveProcessing import batch_load_session, batch_extended_computations, batch_extended_programmatic_figures\n",
    "from pyphoplacecellanalysis.General.Pipeline.NeuropyPipeline import PipelineSavingScheme\n",
    "from pyphoplacecellanalysis.Pho2D.matplotlib.visualize_heatmap import visualize_heatmap\n",
    "import pyphoplacecellanalysis.External.pyqtgraph as pg\n",
    "\n",
    "from pyphoplacecellanalysis.General.Batch.NonInteractiveProcessing import batch_perform_all_plots\n",
    "from pyphoplacecellanalysis.General.Pipeline.Stages.ComputationFunctions.MultiContextComputationFunctions.LongShortTrackComputations import JonathanFiringRateAnalysisResult\n",
    "from pyphoplacecellanalysis.General.Mixins.CrossComputationComparisonHelpers import _find_any_context_neurons\n",
    "from pyphoplacecellanalysis.General.Batch.runBatch import BatchSessionCompletionHandler # for `post_compute_validate(...)`\n",
    "from pyphoplacecellanalysis.Analysis.Decoder.reconstruction import BasePositionDecoder\n",
    "from pyphoplacecellanalysis.General.Batch.AcrossSessionResults import AcrossSessionsResults\n",
    "from pyphoplacecellanalysis.General.Pipeline.Stages.ComputationFunctions.SpikeAnalysis import SpikeRateTrends # for `_perform_long_short_instantaneous_spike_rate_groups_analysis`\n",
    "from pyphoplacecellanalysis.General.Pipeline.Stages.ComputationFunctions.MultiContextComputationFunctions.LongShortTrackComputations import SingleBarResult, InstantaneousSpikeRateGroupsComputation, TruncationCheckingResults # for `BatchSessionCompletionHandler`, `AcrossSessionsAggregator`\n",
    "from pyphoplacecellanalysis.General.Mixins.CrossComputationComparisonHelpers import SplitPartitionMembership\n",
    "\n",
    "# Plotting\n",
    "# import pylustrator # customization of figures\n",
    "import matplotlib\n",
    "import matplotlib as mpl\n",
    "import matplotlib.pyplot as plt\n",
    "_bak_rcParams = mpl.rcParams.copy()\n",
    "# import pylustrator # call `pylustrator.start()` before creating your first figure in code.\n",
    "from pyphoplacecellanalysis.General.Pipeline.Stages.DisplayFunctions.SpikeRasters import plot_multiple_raster_plot, plot_raster_plot\n",
    "from pyphoplacecellanalysis.General.Mixins.DataSeriesColorHelpers import DataSeriesColorHelpers\n",
    "from pyphoplacecellanalysis.General.Mixins.DataSeriesColorHelpers import UnitColoringMode, DataSeriesColorHelpers\n",
    "from pyphoplacecellanalysis.General.Pipeline.Stages.DisplayFunctions.SpikeRasters import _build_default_tick, build_scatter_plot_kwargs\n",
    "from pyphoplacecellanalysis.GUI.PyQtPlot.Widgets.Mixins.Render2DScrollWindowPlot import Render2DScrollWindowPlotMixin, ScatterItemData\n",
    "from pyphoplacecellanalysis.General.Batch.NonInteractiveProcessing import batch_extended_programmatic_figures, batch_programmatic_figures\n",
    "from pyphoplacecellanalysis.General.Pipeline.Stages.ComputationFunctions.SpikeAnalysis import SpikeRateTrends\n",
    "\n",
    "from pyphoplacecellanalysis.General.Batch.PhoDiba2023Paper import PAPER_FIGURE_figure_1_add_replay_epoch_rasters, PAPER_FIGURE_figure_1_full, PAPER_FIGURE_figure_3, main_complete_figure_generations\n",
    "\n",
    "from pyphoplacecellanalysis.SpecificResults.fourthYearPresentation import *\n",
    "\n",
    "# Jupyter Widget Interactive\n",
    "from IPython.display import display\n",
    "from pyphocorehelpers.Filesystem.open_in_system_file_manager import reveal_in_system_file_manager\n",
    "from pyphoplacecellanalysis.GUI.IPyWidgets.pipeline_ipywidgets import interactive_pipeline_widget, fullwidth_path_widget, interactive_pipeline_files\n",
    "\n",
    "global_data_root_parent_path = find_first_extant_path([Path(r'W:\\Data'), Path(r'/home/halechr/FastData'), Path(r'/media/MAX/Data'), Path(r'/Volumes/MoverNew/data'), Path(r'/home/halechr/turbo/Data'), Path(r'/home/halechr/cloud/turbo/Data')])\n",
    "assert global_data_root_parent_path.exists(), f\"global_data_root_parent_path: {global_data_root_parent_path} does not exist! Is the right computer's config commented out above?\""
   ]
  },
  {
   "cell_type": "markdown",
   "id": "a1538e2a-4e39-4d11-90b5-a9fef9258058",
   "metadata": {
    "tags": [
     "REQUIRED",
     "ACTIVE"
    ]
   },
   "source": [
    "# Load Pipeline"
   ]
  },
  {
   "cell_type": "code",
   "execution_count": 14,
   "id": "f917bad9-8fe7-4882-b83b-71cf878fffd2",
   "metadata": {
    "ExecuteTime": {
     "end_time": "2023-07-29T16:05:43.785201Z",
     "start_time": "2023-07-29T16:05:34.880381100Z"
    },
    "notebookRunGroups": {
     "groupValue": "1"
    },
    "tags": [
     "load",
     "REQUIRED"
    ]
   },
   "outputs": [
    {
     "name": "stderr",
     "output_type": "stream",
     "text": [
      "[autoreload of pyphoplacecellanalysis.General.Pipeline.Stages.ComputationFunctions.SpikeAnalysis failed: Traceback (most recent call last):\n",
      "  File \"c:\\Users\\pho\\repos\\Spike3DWorkEnv\\Spike3D\\.venv\\lib\\site-packages\\IPython\\extensions\\autoreload.py\", line 274, in check\n",
      "    superreload(m, reload, self.old_objects, self.shell)\n",
      "  File \"c:\\Users\\pho\\repos\\Spike3DWorkEnv\\Spike3D\\.venv\\lib\\site-packages\\IPython\\extensions\\autoreload.py\", line 500, in superreload\n",
      "    update_generic(old_obj, new_obj)\n",
      "  File \"c:\\Users\\pho\\repos\\Spike3DWorkEnv\\Spike3D\\.venv\\lib\\site-packages\\IPython\\extensions\\autoreload.py\", line 397, in update_generic\n",
      "    update(a, b)\n",
      "  File \"c:\\Users\\pho\\repos\\Spike3DWorkEnv\\Spike3D\\.venv\\lib\\site-packages\\IPython\\extensions\\autoreload.py\", line 365, in update_class\n",
      "    update_instances(old, new)\n",
      "  File \"c:\\Users\\pho\\repos\\Spike3DWorkEnv\\Spike3D\\.venv\\lib\\site-packages\\IPython\\extensions\\autoreload.py\", line 323, in update_instances\n",
      "    object.__setattr__(ref, \"__class__\", new)\n",
      "TypeError: can't apply this __setattr__ to ComputationFunctionRegistryHolder object\n",
      "]\n"
     ]
    },
    {
     "name": "stdout",
     "output_type": "stream",
     "text": [
      "Automatic pdb calling has been turned OFF\n",
      "basedir: W:\\Data\\KDIBA\\gor01\\one\\2006-6-09_1-22-43\n",
      "Loading loaded session pickle file results : W:\\Data\\KDIBA\\gor01\\one\\2006-6-09_1-22-43\\loadedSessPickle.pkl... "
     ]
    },
    {
     "name": "stderr",
     "output_type": "stream",
     "text": [
      "INFO:com.PhoHale.Spike3D.pipeline:NeuropyPipeline.__setstate__(state=\"{'pipeline_name': 'kdiba_pipeline', 'session_data_type': 'kdiba', '_stage': DisplayPipelineStage(stage_name='kdiba_pipeline_input', identity=<PipelineStage.Displayed: 4>)}\")\n",
      "INFO:com.PhoHale.Spike3D.pipeline:select_filters(...) with: []\n",
      "INFO:com.PhoHale.Spike3D.pipeline:Performing perform_action_for_all_contexts with action EvaluationActions.EVALUATE_COMPUTATIONS on filtered_session with filter named \"maze1\"...\n",
      "INFO:com.PhoHale.Spike3D.pipeline:WARNING: skipping computation because overwrite_extant_results=False and active_computation_results[maze1] already exists and is non-None\n",
      "INFO:com.PhoHale.Spike3D.pipeline:\t TODO: this will prevent recomputation even when the excludelist/includelist or computation function definitions change. Rework so that this is smarter.\n",
      "INFO:com.PhoHale.Spike3D.pipeline:Performing perform_action_for_all_contexts with action EvaluationActions.EVALUATE_COMPUTATIONS on filtered_session with filter named \"maze2\"...\n",
      "INFO:com.PhoHale.Spike3D.pipeline:WARNING: skipping computation because overwrite_extant_results=False and active_computation_results[maze2] already exists and is non-None\n",
      "INFO:com.PhoHale.Spike3D.pipeline:\t TODO: this will prevent recomputation even when the excludelist/includelist or computation function definitions change. Rework so that this is smarter.\n",
      "INFO:com.PhoHale.Spike3D.pipeline:Performing perform_action_for_all_contexts with action EvaluationActions.EVALUATE_COMPUTATIONS on filtered_session with filter named \"maze\"...\n",
      "INFO:com.PhoHale.Spike3D.pipeline:WARNING: skipping computation because overwrite_extant_results=False and active_computation_results[maze] already exists and is non-None\n",
      "INFO:com.PhoHale.Spike3D.pipeline:\t TODO: this will prevent recomputation even when the excludelist/includelist or computation function definitions change. Rework so that this is smarter.\n",
      "INFO:com.PhoHale.Spike3D.pipeline:Performing global computations...\n",
      "INFO:com.PhoHale.Spike3D.pipeline:NeuropyPipeline.on_stage_changed(new_stage=\"PipelineStage.Displayed\")\n",
      "WARNING:com.PhoHale.Spike3D.pipeline:WARNING: saving_mode is SKIP_SAVING so pipeline will not be saved despite calling .save_pipeline(...).\n"
     ]
    },
    {
     "name": "stdout",
     "output_type": "stream",
     "text": [
      "done.\n",
      "Loading pickled pipeline success: W:\\Data\\KDIBA\\gor01\\one\\2006-6-09_1-22-43\\loadedSessPickle.pkl.\n",
      "properties already present in pickled version. No need to save.\n",
      "pipeline load success!\n",
      "using provided computation_functions_name_includelist: ['pf_computation', 'pfdt_computation', 'firing_rate_trends', 'position_decoding']\n",
      "WARNING: skipping computation because overwrite_extant_results=False and active_computation_results[maze1] already exists and is non-None\n",
      "\t TODO: this will prevent recomputation even when the excludelist/includelist or computation function definitions change. Rework so that this is smarter.\n",
      "WARNING: skipping computation because overwrite_extant_results=False and active_computation_results[maze2] already exists and is non-None\n",
      "\t TODO: this will prevent recomputation even when the excludelist/includelist or computation function definitions change. Rework so that this is smarter.\n",
      "WARNING: skipping computation because overwrite_extant_results=False and active_computation_results[maze] already exists and is non-None\n",
      "\t TODO: this will prevent recomputation even when the excludelist/includelist or computation function definitions change. Rework so that this is smarter.\n",
      "WARNING: saving_mode is SKIP_SAVING so pipeline will not be saved despite calling .save_pipeline(...).\n",
      "saving_mode.shouldSave == False, so not saving at the end of batch_load_session\n",
      "Loading loaded session pickle file results : W:\\Data\\KDIBA\\gor01\\one\\2006-6-09_1-22-43\\output\\global_computation_results.pkl... done.\n",
      "DEPRICATION WARNING: workaround to allow subscripting ComputationResult objects. Will be depricated. key: computed_data\n",
      "DEPRICATION WARNING: workaround to allow subscripting ComputationResult objects. Will be depricated. key: computed_data\n",
      "DEPRICATION WARNING: workaround to allow subscripting ComputationResult objects. Will be depricated. key: computed_data\n",
      "DEPRICATION WARNING: workaround to allow subscripting ComputationResult objects. Will be depricated. key: computed_data\n",
      "DEPRICATION WARNING: workaround to allow subscripting ComputationResult objects. Will be depricated. key: computed_data\n",
      "DEPRICATION WARNING: workaround to allow subscripting ComputationResult objects. Will be depricated. key: computed_data\n",
      "were pipeline preprocessing parameters missing and updated?: False\n",
      "included includelist is specified: ['pf_computation', 'pfdt_computation', 'firing_rate_trends', 'pf_dt_sequential_surprise', 'long_short_decoding_analyses', 'jonathan_firing_rate_analysis', 'long_short_fr_indicies_analyses', 'short_long_pf_overlap_analyses', 'long_short_post_decoding', 'long_short_rate_remapping', 'long_short_inst_spike_rate_groups', 'long_short_endcap_analysis', 'spike_burst_detection'], so only performing these extended computations.\n",
      "Running batch_extended_computations(...) with global_epoch_name: \"maze\"\n",
      "pf_computation, maze already computed.\n",
      "pfdt_computation, maze already computed.\n",
      "pf_dt_sequential_surprise, maze already computed.\n",
      "spike_burst_detection missing.\n",
      "\t Recomputing spike_burst_detection...\n",
      "Performing run_specific_computations_single_context on filtered_session with filter named \"maze1\"...\n",
      "Performing run_specific_computations_single_context on filtered_session with filter named \"maze2\"...\n",
      "Performing run_specific_computations_single_context on filtered_session with filter named \"maze\"...\n",
      "\t done.\n",
      "firing_rate_trends, maze already computed.\n",
      "long_short_decoding_analyses, maze already computed.\n",
      "short_long_pf_overlap_analyses, maze already computed.\n",
      "long_short_fr_indicies_analyses, maze already computed.\n",
      "jonathan_firing_rate_analysis, maze already computed.\n",
      "long_short_post_decoding, maze already computed.\n",
      "long_short_inst_spike_rate_groups, maze already computed.\n",
      "long_short_endcap_analysis, maze already computed.\n",
      "WARNING: after execution of all _comp_specifiers found the functions: {'long_short_rate_remapping': False} still remain! Are they correct and do they have proper validator decorators?\n",
      "done with all batch_extended_computations(...).\n",
      "newly_computed_values: [('spike_burst_detection', 'maze')].\n",
      "\n",
      "\n",
      "!!WARNING!!: changes to global results have been made but they will not be saved since saving_mode.value == \"skip_saving\"\n",
      "\tthe global results are currently unsaved! proceed with caution and save as soon as you can!\n",
      "\n",
      "\n",
      "\n"
     ]
    },
    {
     "data": {
      "application/vnd.jupyter.widget-view+json": {
       "model_id": "08d4f880bb80427b8fd10aabe2cc3421",
       "version_major": 2,
       "version_minor": 0
      },
      "text/plain": [
       "VBox(children=(Box(children=(Label(value='session path:', layout=Layout(width='auto')), Label(value='W:\\\\Data\\…"
      ]
     },
     "execution_count": 14,
     "metadata": {},
     "output_type": "execute_result"
    }
   ],
   "source": [
    "%pdb off\n",
    "# ==================================================================================================================== #\n",
    "# Load Data                                                                                                            #\n",
    "# ==================================================================================================================== #\n",
    "\n",
    "active_data_mode_name = 'kdiba'\n",
    "local_session_root_parent_context = IdentifyingContext(format_name=active_data_mode_name) # , animal_name='', configuration_name='one', session_name=a_sess.session_name\n",
    "local_session_root_parent_path = global_data_root_parent_path.joinpath('KDIBA')\n",
    "\n",
    "# [*] - indicates bad or session with a problem\n",
    "# 0, 1, 2, 3, 4, 5, 6, 7, [8], [9], 10, 11, [12], 13, 14, [15], [16], 17, \n",
    "# curr_context: IdentifyingContext = good_contexts_list[1] # select the session from all of the good sessions here.\n",
    "# curr_context = IdentifyingContext(format_name='kdiba',animal='gor01',exper_name='one',session_name='2006-6-08_14-26-15') # DONE. Very good. Many good Pfs, many good replays.\n",
    "curr_context = IdentifyingContext(format_name='kdiba',animal='gor01',exper_name='one',session_name='2006-6-09_1-22-43') # DONE, might be the BEST SESSION, good example session with lots of place cells, clean replays, and clear bar graphs.\n",
    "# curr_context = IdentifyingContext(format_name='kdiba',animal='gor01',exper_name='one',session_name='2006-6-12_15-55-31') # DONE, Good Pfs but no good replays\n",
    "# curr_context = IdentifyingContext(format_name='kdiba',animal='gor01',exper_name='one',session_name='2006-6-13_14-42-6') # BAD, 2023-07-14, unsure why still.\n",
    "# curr_context = IdentifyingContext(format_name='kdiba',animal='gor01',exper_name='two',session_name='2006-6-07_16-40-19') # DONE, GREAT, both good Pfs and replays!\n",
    "# curr_context = IdentifyingContext(format_name='kdiba',animal='gor01',exper_name='two',session_name='2006-6-08_21-16-25') # DONE, Added replay selections. Very \"jumpy\" between the starts and ends of the track.\n",
    "# curr_context = IdentifyingContext(format_name='kdiba',animal='gor01',exper_name='two',session_name='2006-6-09_22-24-40') # DONE, Added replay selections. A TON of putative replays in general, most bad, but some good.\n",
    "# curr_context = IdentifyingContext(format_name='kdiba',animal='gor01',exper_name='two',session_name='2006-6-12_16-53-46') # DONE, added replay selections. Very few (like 12) replays each.\n",
    "# curr_context = IdentifyingContext(format_name='kdiba',animal='gor01',exper_name='two',session_name='2006-6-13_15-22-3') # DONE, Good Pfs, no good epochs.\n",
    "# curr_context = IdentifyingContext(format_name='kdiba',animal='vvp01',exper_name='one',session_name='2006-4-09_17-29-30') # DONE, okay replays (selected)\n",
    "# curr_context = IdentifyingContext(format_name='kdiba',animal='vvp01',exper_name='one',session_name='2006-4-10_12-25-50') # DONE, very few replays (selected)\n",
    "# curr_context = IdentifyingContext(format_name='kdiba',animal='vvp01',exper_name='one',session_name='2006-4-19_13-34-40') # BAD\n",
    "# curr_context = IdentifyingContext(format_name='kdiba',animal='vvp01',exper_name='two',session_name='2006-4-09_16-40-54') # DONE, one replay each (selected)\n",
    "# curr_context = IdentifyingContext(format_name='kdiba',animal='vvp01',exper_name='two',session_name='2006-4-10_12-58-3') # BAD, Good Pfs strangely despite horrible map, no good epochs\n",
    "# curr_context = IdentifyingContext(format_name='kdiba',animal='vvp01',exper_name='two',session_name='2006-4-12_15-25-59') # BAD, No Epochs\n",
    "# curr_context = IdentifyingContext(format_name='kdiba',animal='vvp01',exper_name='two',session_name='2006-4-16_18-47-52')\n",
    "# curr_context = IdentifyingContext(format_name='kdiba',animal='vvp01',exper_name='two',session_name='2006-4-17_12-52-15')\n",
    "# curr_context = IdentifyingContext(format_name='kdiba',animal='vvp01',exper_name='two',session_name='2006-4-25_13-20-55')\n",
    "# curr_context = IdentifyingContext(format_name='kdiba',animal='vvp01',exper_name='two',session_name='2006-4-28_12-38-13')\n",
    "# curr_context = IdentifyingContext(format_name='kdiba',animal='pin01',exper_name='one',session_name='11-02_17-46-44') # DONE, good. Many good pfs, many good replays. Noticed very strange jumping off the track in the 3D behavior/spikes viewer. Is there something wrong with this session?\n",
    "# curr_context = IdentifyingContext(format_name='kdiba',animal='pin01',exper_name='one',session_name='11-02_19-28-0') # DONE, good?, replays selected, few\n",
    "# curr_context = IdentifyingContext(format_name='kdiba',animal='pin01',exper_name='one',session_name='11-03_12-3-25') # DONE, very few replays\n",
    "# curr_context = IdentifyingContext(format_name='kdiba',animal='pin01',exper_name='one',session_name='11-09_12-15-3')\n",
    "# curr_context = IdentifyingContext(format_name='kdiba',animal='pin01',exper_name='one',session_name='11-09_22-4-5')\n",
    "# curr_context = IdentifyingContext(format_name='kdiba',animal='pin01',exper_name='one',session_name='fet11-01_12-58-54') # DONE, replays selected, quite a few replays but few are very good.\n",
    "\n",
    "\n",
    "# curr_context = IdentifyingContext(format_name='kdiba',animal='gor01',exper_name='two',session_name='2006-6-08_21-16-25')\n",
    "\n",
    "local_session_parent_path: Path = local_session_root_parent_path.joinpath(curr_context.animal, curr_context.exper_name) # 'gor01', 'one' - probably not needed anymore\n",
    "basedir: Path = local_session_parent_path.joinpath(curr_context.session_name).resolve()\n",
    "print(f'basedir: {str(basedir)}')\n",
    "\n",
    "# # Read if possible:\n",
    "saving_mode = PipelineSavingScheme.SKIP_SAVING\n",
    "force_reload = False\n",
    "\n",
    "# # Force write:\n",
    "# # saving_mode = PipelineSavingScheme.TEMP_THEN_OVERWRITE\n",
    "# saving_mode = PipelineSavingScheme.OVERWRITE_IN_PLACE\n",
    "# force_reload = True\n",
    "\n",
    "## TODO: if loading is not possible, we need to change the `saving_mode` so that the new results are properly saved.\n",
    "\n",
    "# ==================================================================================================================== #\n",
    "# Load Pipeline                                                                                                        #\n",
    "# ==================================================================================================================== #\n",
    "# with VizTracer(output_file=f\"viztracer_{get_now_time_str()}-full_session_LOO_decoding_analysis.json\", min_duration=200, tracer_entries=3000000, ignore_frozen=True) as tracer:\n",
    "# epoch_name_includelist = ['maze']\n",
    "epoch_name_includelist = None\n",
    "active_computation_functions_name_includelist=['pf_computation', 'pfdt_computation', \n",
    "                                                'firing_rate_trends',\n",
    "                                                # 'pf_dt_sequential_surprise', \n",
    "                                            #    'ratemap_peaks_prominence2d',\n",
    "                                                'position_decoding', \n",
    "                                                # 'position_decoding_two_step', \n",
    "                                            #    'long_short_decoding_analyses', 'jonathan_firing_rate_analysis', 'long_short_fr_indicies_analyses', 'short_long_pf_overlap_analyses', 'long_short_post_decoding', 'long_short_rate_remapping',\n",
    "                                            #     'long_short_inst_spike_rate_groups',\n",
    "                                            #     'long_short_endcap_analysis'\n",
    "]\n",
    "\n",
    "curr_active_pipeline: NeuropyPipeline = batch_load_session(global_data_root_parent_path, active_data_mode_name, basedir, epoch_name_includelist=epoch_name_includelist,\n",
    "                                        computation_functions_name_includelist=active_computation_functions_name_includelist,\n",
    "                                        saving_mode=saving_mode, force_reload=force_reload,\n",
    "                                        skip_extended_batch_computations=True, debug_print=False, fail_on_exception=True) # , active_pickle_filename = 'loadedSessPickle_withParameters.pkl'\n",
    "\n",
    "if not force_reload: # not just force_reload, needs to recompute whenever the computation fails.\n",
    "    try:\n",
    "        curr_active_pipeline.load_pickled_global_computation_results()\n",
    "    except Exception as e:\n",
    "        exception_info = sys.exc_info()\n",
    "        e = CapturedException(e, exception_info)\n",
    "        print(f'cannot load global results: {e}')\n",
    "        raise\n",
    "\n",
    "\n",
    "# 6m 1.1s\n",
    "# 12m 15.6s\n",
    "\n",
    "\n",
    "# try:\n",
    "## Post Compute Validate 2023-05-16:\n",
    "was_updated = BatchSessionCompletionHandler.post_compute_validate(curr_active_pipeline) ## TODO: need to potentially re-save if was_updated\n",
    "if was_updated:\n",
    "    try:\n",
    "        curr_active_pipeline.save_pipeline(saving_mode=saving_mode)\n",
    "    except Exception as e:\n",
    "        ## TODO: catch/log saving error and indicate that it isn't saved.\n",
    "        exception_info = sys.exc_info()\n",
    "        e = CapturedException(e, exception_info)\n",
    "        print(f'ERROR RE-SAVING PIPELINE after update. error: {e}')\n",
    "\n",
    "\n",
    "curr_active_pipeline.reload_default_computation_functions()\n",
    "\n",
    "extended_computations_include_includelist=['pf_computation', 'pfdt_computation', 'firing_rate_trends',\n",
    "    'pf_dt_sequential_surprise',\n",
    "    #  'ratemap_peaks_prominence2d',\n",
    "    'long_short_decoding_analyses', 'jonathan_firing_rate_analysis', 'long_short_fr_indicies_analyses', 'short_long_pf_overlap_analyses', 'long_short_post_decoding', 'long_short_rate_remapping',\n",
    "    'long_short_inst_spike_rate_groups',\n",
    "    'long_short_endcap_analysis',\n",
    "    'spike_burst_detection'\n",
    "] # do only specified\n",
    "\n",
    "\n",
    "force_recompute_global = force_reload\n",
    "# force_recompute_global = True\n",
    "newly_computed_values = batch_extended_computations(curr_active_pipeline, include_includelist=extended_computations_include_includelist, include_global_functions=True, fail_on_exception=True, progress_print=True, force_recompute=force_recompute_global, debug_print=False)\n",
    "if (len(newly_computed_values) > 0):\n",
    "    print(f'newly_computed_values: {newly_computed_values}.')\n",
    "    if (saving_mode.value != 'skip_saving'):\n",
    "        print(f'Saving global results...')\n",
    "        try:\n",
    "            # curr_active_pipeline.global_computation_results.persist_time = datetime.now()\n",
    "            # Try to write out the global computation function results:\n",
    "            curr_active_pipeline.save_global_computation_results()\n",
    "        except Exception as e:\n",
    "            exception_info = sys.exc_info()\n",
    "            e = CapturedException(e, exception_info)\n",
    "            print(f'\\n\\n!!WARNING!!: saving the global results threw the exception: {e}')\n",
    "            print(f'\\tthe global results are currently unsaved! proceed with caution and save as soon as you can!\\n\\n\\n')\n",
    "    else:\n",
    "        print(f'\\n\\n!!WARNING!!: changes to global results have been made but they will not be saved since saving_mode.value == \"skip_saving\"')\n",
    "        print(f'\\tthe global results are currently unsaved! proceed with caution and save as soon as you can!\\n\\n\\n')\n",
    "else:\n",
    "    print(f'no changes in global results.')\n",
    "\n",
    "# except Exception as e:\n",
    "#     exception_info = sys.exc_info()\n",
    "#     e = CapturedException(e, exception_info)\n",
    "#     print(f'second half threw: {e}')\n",
    "\n",
    "\n",
    "# 4m 5.2s for inst fr computations\n",
    "# Jupyter Widget Interactive\n",
    "import ipywidgets as widgets\n",
    "from IPython.display import display\n",
    "from pyphocorehelpers.Filesystem.open_in_system_file_manager import reveal_in_system_file_manager\n",
    "from pyphoplacecellanalysis.GUI.IPyWidgets.pipeline_ipywidgets import interactive_pipeline_widget, fullwidth_path_widget, interactive_pipeline_files\n",
    "\n",
    "_pipeline_jupyter_widget = interactive_pipeline_widget(curr_active_pipeline=curr_active_pipeline)\n",
    "# display(_pipeline_jupyter_widget)\n",
    "_pipeline_jupyter_widget"
   ]
  },
  {
   "cell_type": "code",
   "execution_count": 15,
   "id": "36b90aad",
   "metadata": {},
   "outputs": [
    {
     "name": "stderr",
     "output_type": "stream",
     "text": [
      "[autoreload of pyphoplacecellanalysis.General.Batch.NonInteractiveProcessing failed: Traceback (most recent call last):\n",
      "  File \"c:\\Users\\pho\\repos\\Spike3DWorkEnv\\Spike3D\\.venv\\lib\\site-packages\\IPython\\extensions\\autoreload.py\", line 274, in check\n",
      "    superreload(m, reload, self.old_objects, self.shell)\n",
      "  File \"c:\\Users\\pho\\repos\\Spike3DWorkEnv\\Spike3D\\.venv\\lib\\site-packages\\IPython\\extensions\\autoreload.py\", line 500, in superreload\n",
      "    update_generic(old_obj, new_obj)\n",
      "  File \"c:\\Users\\pho\\repos\\Spike3DWorkEnv\\Spike3D\\.venv\\lib\\site-packages\\IPython\\extensions\\autoreload.py\", line 397, in update_generic\n",
      "    update(a, b)\n",
      "  File \"c:\\Users\\pho\\repos\\Spike3DWorkEnv\\Spike3D\\.venv\\lib\\site-packages\\IPython\\extensions\\autoreload.py\", line 365, in update_class\n",
      "    update_instances(old, new)\n",
      "  File \"c:\\Users\\pho\\repos\\Spike3DWorkEnv\\Spike3D\\.venv\\lib\\site-packages\\IPython\\extensions\\autoreload.py\", line 323, in update_instances\n",
      "    object.__setattr__(ref, \"__class__\", new)\n",
      "TypeError: can't apply this __setattr__ to DataSessionFormatRegistryHolder object\n",
      "]\n",
      "INFO:com.PhoHale.Spike3D.pipeline:save_pipeline(): Attempting to save pipeline to disk...\n",
      "INFO:com.PhoHale.Spike3D.pipeline:\tfinalized_loaded_sess_pickle_path: W:\\Data\\KDIBA\\gor01\\one\\2006-6-09_1-22-43\\loadedSessPickle.pkl\n"
     ]
    },
    {
     "name": "stdout",
     "output_type": "stream",
     "text": [
      "finalized_loaded_sess_pickle_path: W:\\Data\\KDIBA\\gor01\\one\\2006-6-09_1-22-43\\loadedSessPickle.pkl\n",
      "Saving (file mode 'None') saved session pickle file results : None... pipeline does not have \"display_output\"\n",
      "pipeline does not have \"render_actions\"\n"
     ]
    },
    {
     "name": "stderr",
     "output_type": "stream",
     "text": [
      "INFO:com.PhoHale.Spike3D.pipeline:moving new output at 'W:\\Data\\KDIBA\\gor01\\one\\2006-6-09_1-22-43\\20231016110927-loadedSessPickle.pkl' -> to desired location: 'W:\\Data\\KDIBA\\gor01\\one\\2006-6-09_1-22-43\\loadedSessPickle.pkl'\n"
     ]
    },
    {
     "name": "stdout",
     "output_type": "stream",
     "text": [
      "done.\n",
      "moving new output at 'W:\\Data\\KDIBA\\gor01\\one\\2006-6-09_1-22-43\\20231016110927-loadedSessPickle.pkl' -> to desired location: 'W:\\Data\\KDIBA\\gor01\\one\\2006-6-09_1-22-43\\loadedSessPickle.pkl'\n"
     ]
    },
    {
     "name": "stderr",
     "output_type": "stream",
     "text": [
      "INFO:com.PhoHale.Spike3D.pipeline:\t save complete.\n"
     ]
    },
    {
     "name": "stdout",
     "output_type": "stream",
     "text": [
      "global_computation_results_pickle_path: W:\\Data\\KDIBA\\gor01\\one\\2006-6-09_1-22-43\\output\\global_computation_results.pkl\n",
      "Saving (file mode 'W:\\Data\\KDIBA\\gor01\\one\\2006-6-09_1-22-43\\output\\global_computation_results.pkl') saved session pickle file results : W:\\Data\\KDIBA\\gor01\\one\\2006-6-09_1-22-43\\output\\global_computation_results.pkl... \tmoving new output at 'W:\\Data\\KDIBA\\gor01\\one\\2006-6-09_1-22-43\\output\\20231016111011-global_computation_results.pkltmp' -> to desired location: 'W:\\Data\\KDIBA\\gor01\\one\\2006-6-09_1-22-43\\output\\global_computation_results.pkl'\n",
      "done.\n"
     ]
    }
   ],
   "source": [
    "if curr_active_pipeline.updated_since_last_pickle:\n",
    "\t_bak_saving_mode = saving_mode\n",
    "\n",
    "saving_mode = PipelineSavingScheme.TEMP_THEN_OVERWRITE\n",
    "try:\n",
    "\tcurr_active_pipeline.save_pipeline(saving_mode=saving_mode)\n",
    "\tcurr_active_pipeline.save_global_computation_results()\n",
    "\n",
    "except Exception as e:\n",
    "\t## TODO: catch/log saving error and indicate that it isn't saved.\n",
    "\texception_info = sys.exc_info()\n",
    "\te = CapturedException(e, exception_info)\n",
    "\tprint(f'ERROR RE-SAVING PIPELINE after update. error: {e}')\n",
    "finally:\n",
    "\tsaving_mode = _bak_saving_mode\n"
   ]
  },
  {
   "cell_type": "code",
   "execution_count": null,
   "id": "3b647dd4",
   "metadata": {},
   "outputs": [],
   "source": [
    "curr_active_pipeline.clear_display_outputs()\t"
   ]
  },
  {
   "cell_type": "code",
   "execution_count": null,
   "id": "5eb9b454",
   "metadata": {},
   "outputs": [],
   "source": [
    "from neuropy.core.neuron_identities import NeuronIdentityDataframeAccessor\n",
    "from pyphoplacecellanalysis.General.Batch.AcrossSessionResults import AcrossSessionTables\n",
    "from pyphoplacecellanalysis.General.Pipeline.Stages.ComputationFunctions.MultiContextComputationFunctions.LongShortTrackComputations import build_merged_neuron_firing_rate_indicies\n",
    "\n",
    "BATCH_DATE_TO_USE = '2023-10-10'\n",
    "curr_session_context = curr_active_pipeline.get_session_context()\n",
    "output_file_prefix = curr_session_context.get_description(separator=\"-\", include_property_names=False)\n",
    "# global_replays.filename = Path(f\"output/{output_file_prefix}_global_replays\").resolve()\n",
    "# print(f'global_replays.filename: {global_replays.filename}')\n",
    "# global_replays.to_neuroscope()\n",
    "\n",
    "# global_PBEs.filename = Path(f\"output/{output_file_prefix}_global_PBEs\").resolve()\n",
    "# print(f'global_PBEs.filename: {global_PBEs.filename}')\n",
    "# global_PBEs.to_neuroscope('PBE')\n",
    "\n",
    "joined_neruon_fri_df = build_merged_neuron_firing_rate_indicies(curr_active_pipeline, enable_display_intermediate_results=False)\n",
    "AcrossSessionTables.write_table_to_files(joined_neruon_fri_df, global_data_root_parent_path=global_data_root_parent_path, output_basename=f'{BATCH_DATE_TO_USE}_{output_file_prefix}_joined_neruon_fri_df')"
   ]
  },
  {
   "cell_type": "code",
   "execution_count": null,
   "id": "de445956",
   "metadata": {},
   "outputs": [],
   "source": [
    "joined_neruon_fri_df = AcrossSessionTables.load_table_from_file(global_data_root_parent_path=global_data_root_parent_path, output_basename=f'{BATCH_DATE_TO_USE}_{output_file_prefix}_joined_neruon_fri_df')\n",
    "joined_neruon_fri_df"
   ]
  },
  {
   "cell_type": "code",
   "execution_count": null,
   "id": "03e1f09b",
   "metadata": {},
   "outputs": [],
   "source": [
    "curr_active_pipeline.export_pipeline_to_h5()"
   ]
  },
  {
   "cell_type": "code",
   "execution_count": null,
   "id": "fc798052",
   "metadata": {},
   "outputs": [],
   "source": [
    "out_man = curr_active_pipeline.get_output_manager()\n",
    "# out_man.get_figure_output_parent_path(\n"
   ]
  },
  {
   "cell_type": "code",
   "execution_count": null,
   "id": "3515eaff",
   "metadata": {},
   "outputs": [],
   "source": [
    "from pyphocorehelpers.Filesystem.metadata_helpers import FilesystemMetadata\n",
    "\n",
    "hdf5_output_path: Path = curr_active_pipeline.get_output_path().joinpath('pipeline_results.h5').resolve()\n",
    "print(f'pipeline hdf5_output_path: {hdf5_output_path}')\n",
    "\n",
    "\n",
    "# Only get files newer than date\n",
    "newest_file_to_overwrite_date = datetime.now() - timedelta(days=1) # don't overwrite any files more recent than 1 day ago\n",
    "if hdf5_output_path.exists() and (FilesystemMetadata.get_last_modified_time(hdf5_output_path)<=newest_file_to_overwrite_date):\n",
    "\t# file is folder than the date to overwrite, so overwrite it\n",
    "\tprint(f'OVERWRITING (or writing) the file {hdf5_output_path}!')\n",
    "\tcurr_active_pipeline.export_pipeline_to_h5()\n",
    "else:\n",
    "\tprint(f'file {hdf5_output_path} is newer than the allowed overwrite date, so it will be skipped.')\n"
   ]
  },
  {
   "cell_type": "markdown",
   "id": "c850782f",
   "metadata": {},
   "source": [
    "# End Run"
   ]
  },
  {
   "cell_type": "code",
   "execution_count": 3,
   "id": "87dc7ae9",
   "metadata": {
    "notebookRunGroups": {
     "groupValue": "1"
    }
   },
   "outputs": [
    {
     "name": "stdout",
     "output_type": "stream",
     "text": [
      "DEPRICATION WARNING: workaround to allow subscripting ComputationResult objects. Will be depricated. key: computed_data\n",
      "DEPRICATION WARNING: workaround to allow subscripting ComputationResult objects. Will be depricated. key: computed_data\n",
      "DEPRICATION WARNING: workaround to allow subscripting ComputationResult objects. Will be depricated. key: computed_data\n",
      "DEPRICATION WARNING: workaround to allow subscripting ComputationResult objects. Will be depricated. key: computation_config\n",
      "DEPRICATION WARNING: workaround to allow subscripting ComputationResult objects. Will be depricated. key: computation_config\n",
      "DEPRICATION WARNING: workaround to allow subscripting ComputationResult objects. Will be depricated. key: computation_config\n",
      "WARN: 2023-09-28 16:15: - [ ] fix the combination properties. Would work if we directly used the computed _is_L_only and _is_S_only above\n",
      "WARNING: PAPER_FIGURE_figure_1_add_replay_epoch_rasters(...): no user-assigned manually labeled replay epochs. Reeturning all epochs.\n",
      "WARN: 2023-09-28 16:15: - [ ] fix the combination properties. Would work if we directly used the computed _is_L_only and _is_S_only above\n"
     ]
    }
   ],
   "source": [
    "## long_short_decoding_analyses:\n",
    "curr_long_short_decoding_analyses = curr_active_pipeline.global_computation_results.computed_data['long_short_leave_one_out_decoding_analysis']\n",
    "long_one_step_decoder_1D, short_one_step_decoder_1D, long_replays, short_replays, global_replays, long_shared_aclus_only_decoder, short_shared_aclus_only_decoder, shared_aclus, long_short_pf_neurons_diff, n_neurons, long_results_obj, short_results_obj, is_global = curr_long_short_decoding_analyses.long_decoder, curr_long_short_decoding_analyses.short_decoder, curr_long_short_decoding_analyses.long_replays, curr_long_short_decoding_analyses.short_replays, curr_long_short_decoding_analyses.global_replays, curr_long_short_decoding_analyses.long_shared_aclus_only_decoder, curr_long_short_decoding_analyses.short_shared_aclus_only_decoder, curr_long_short_decoding_analyses.shared_aclus, curr_long_short_decoding_analyses.long_short_pf_neurons_diff, curr_long_short_decoding_analyses.n_neurons, curr_long_short_decoding_analyses.long_results_obj, curr_long_short_decoding_analyses.short_results_obj, curr_long_short_decoding_analyses.is_global \n",
    "\n",
    "# (long_one_step_decoder_1D, short_one_step_decoder_1D), (long_one_step_decoder_2D, short_one_step_decoder_2D) = compute_short_long_constrained_decoders(curr_active_pipeline, recalculate_anyway=True)\n",
    "long_epoch_name, short_epoch_name, global_epoch_name = curr_active_pipeline.find_LongShortGlobal_epoch_names()\n",
    "long_epoch_context, short_epoch_context, global_epoch_context = [curr_active_pipeline.filtered_contexts[a_name] for a_name in (long_epoch_name, short_epoch_name, global_epoch_name)]\n",
    "long_epoch_obj, short_epoch_obj = [Epoch(curr_active_pipeline.sess.epochs.to_dataframe().epochs.label_slice(an_epoch_name)) for an_epoch_name in [long_epoch_name, short_epoch_name]]\n",
    "long_session, short_session, global_session = [curr_active_pipeline.filtered_sessions[an_epoch_name] for an_epoch_name in [long_epoch_name, short_epoch_name, global_epoch_name]]\n",
    "long_results, short_results, global_results = [curr_active_pipeline.computation_results[an_epoch_name]['computed_data'] for an_epoch_name in [long_epoch_name, short_epoch_name, global_epoch_name]]\n",
    "long_computation_config, short_computation_config, global_computation_config = [curr_active_pipeline.computation_results[an_epoch_name]['computation_config'] for an_epoch_name in [long_epoch_name, short_epoch_name, global_epoch_name]]\n",
    "long_pf1D, short_pf1D, global_pf1D = long_results.pf1D, short_results.pf1D, global_results.pf1D\n",
    "long_pf2D, short_pf2D, global_pf2D = long_results.pf2D, short_results.pf2D, global_results.pf2D\n",
    "decoding_time_bin_size = long_one_step_decoder_1D.time_bin_size # 1.0/30.0 # 0.03333333333333333\n",
    "\n",
    "## Get global `long_short_fr_indicies_analysis`:\n",
    "long_short_fr_indicies_analysis_results = curr_active_pipeline.global_computation_results.computed_data['long_short_fr_indicies_analysis']\n",
    "long_laps, long_replays, short_laps, short_replays, global_laps, global_replays = [long_short_fr_indicies_analysis_results[k] for k in ['long_laps', 'long_replays', 'short_laps', 'short_replays', 'global_laps', 'global_replays']]\n",
    "long_short_fr_indicies_df = long_short_fr_indicies_analysis_results['long_short_fr_indicies_df']\n",
    "\n",
    "## Get global 'long_short_post_decoding' results:\n",
    "curr_long_short_post_decoding = curr_active_pipeline.global_computation_results.computed_data['long_short_post_decoding']\n",
    "expected_v_observed_result, curr_long_short_rr = curr_long_short_post_decoding.expected_v_observed_result, curr_long_short_post_decoding.rate_remapping\n",
    "rate_remapping_df, high_remapping_cells_only = curr_long_short_rr.rr_df, curr_long_short_rr.high_only_rr_df\n",
    "Flat_epoch_time_bins_mean, Flat_decoder_time_bin_centers, num_neurons, num_timebins_in_epoch, num_total_flat_timebins, is_short_track_epoch, is_long_track_epoch, short_short_diff, long_long_diff = expected_v_observed_result.Flat_epoch_time_bins_mean, expected_v_observed_result.Flat_decoder_time_bin_centers, expected_v_observed_result.num_neurons, expected_v_observed_result.num_timebins_in_epoch, expected_v_observed_result.num_total_flat_timebins, expected_v_observed_result.is_short_track_epoch, expected_v_observed_result.is_long_track_epoch, expected_v_observed_result.short_short_diff, expected_v_observed_result.long_long_diff\n",
    "\n",
    "jonathan_firing_rate_analysis_result: JonathanFiringRateAnalysisResult = curr_active_pipeline.global_computation_results.computed_data.jonathan_firing_rate_analysis\n",
    "(epochs_df_L, epochs_df_S), (filter_epoch_spikes_df_L, filter_epoch_spikes_df_S), (good_example_epoch_indicies_L, good_example_epoch_indicies_S), (short_exclusive, long_exclusive, BOTH_subset, EITHER_subset, XOR_subset, NEITHER_subset), new_all_aclus_sort_indicies, assigning_epochs_obj = PAPER_FIGURE_figure_1_add_replay_epoch_rasters(curr_active_pipeline)\n",
    "neuron_replay_stats_df, short_exclusive, long_exclusive, BOTH_subset, EITHER_subset, XOR_subset, NEITHER_subset = jonathan_firing_rate_analysis_result.get_cell_track_partitions(frs_index_inclusion_magnitude=0.05)\n",
    "\n",
    "## Update long_exclusive/short_exclusive properties with `long_short_fr_indicies_df`\n",
    "# long_exclusive.refine_exclusivity_by_inst_frs_index(long_short_fr_indicies_df, frs_index_inclusion_magnitude=0.5)\n",
    "# short_exclusive.refine_exclusivity_by_inst_frs_index(long_short_fr_indicies_df, frs_index_inclusion_magnitude=0.5)\n",
    "\n",
    "# inst_spike_rate_groups_result: InstantaneousSpikeRateGroupsComputation = curr_active_pipeline.global_computation_results.computed_data.long_short_inst_spike_rate_groups\n",
    "# custom_InstSpikeRateTrends_df = inst_spike_rate_groups_result.all_incl_endPlatforms_InstSpikeRateTrends_df\n"
   ]
  },
  {
   "cell_type": "code",
   "execution_count": 18,
   "id": "288e92dd",
   "metadata": {},
   "outputs": [
    {
     "data": {
      "text/plain": [
       "IndexedOrderedDict([(2,     burst_level      t_start        t_end   t_duration                               interval_pair\n",
       "0             0     0.321515  1731.204408  1730.882892    (0.32151535525918007, 1730.882892348105)\n",
       "1             1     0.321515     1.733437     1.411921   (0.32151535525918007, 1.4119211971992627)\n",
       "2           1.0    46.022284    46.395163     0.372879    (46.022284276550636, 0.3728791690664366)\n",
       "3           1.0    58.234676    62.401811     4.167135      (58.23467610380612, 4.167135146446526)\n",
       "4           2.0    58.234676    59.038434     0.803758     (58.23467610380612, 0.8037576684728265)\n",
       "5           3.0    58.234676    58.553949     0.319273     (58.23467610380612, 0.3192727965069935)\n",
       "..          ...          ...          ...          ...                                         ...\n",
       "429         4.0   1652.96411   1653.00635      0.04224  (1652.9641098423162, 0.042239978443831205)\n",
       "430         5.0   1652.96411   1653.00635      0.04224  (1652.9641098423162, 0.042239978443831205)\n",
       "431         1.0  1712.919535  1712.951853     0.032317  (1712.9195351450471, 0.032317423494532704)\n",
       "432         2.0  1712.919535  1712.951853     0.032317  (1712.9195351450471, 0.032317423494532704)\n",
       "433         3.0  1712.919535  1712.951853     0.032317  (1712.9195351450471, 0.032317423494532704)\n",
       "434         4.0  1712.919535  1712.951853     0.032317  (1712.9195351450471, 0.032317423494532704)\n",
       "\n",
       "[435 rows x 5 columns]), (3,     burst_level      t_start        t_end   t_duration                              interval_pair\n",
       "0             0     1.472931  1720.026173  1718.553242   (1.4729310857364908, 1718.5532423408004)\n",
       "1             1     1.472931     3.825037     2.352106   (1.4729310857364908, 2.3521063157822937)\n",
       "2           1.0    46.134996     47.61874     1.483745   (46.134995898930356, 1.4837445202283561)\n",
       "3           2.0    46.134996    46.752713     0.617717   (46.134995898930356, 0.6177174437325448)\n",
       "4           3.0    46.134996    46.752713     0.617717   (46.134995898930356, 0.6177174437325448)\n",
       "5           4.0    46.134996    46.752713     0.617717   (46.134995898930356, 0.6177174437325448)\n",
       "..          ...          ...          ...          ...                                        ...\n",
       "213         1.0  1689.741768  1689.797279     0.055511  (1689.741767812171, 0.055511011625640094)\n",
       "214         2.0  1689.741768  1689.797279     0.055511  (1689.741767812171, 0.055511011625640094)\n",
       "215         3.0  1689.741768  1689.797279     0.055511  (1689.741767812171, 0.055511011625640094)\n",
       "216         4.0  1689.741768  1689.797279     0.055511  (1689.741767812171, 0.055511011625640094)\n",
       "217         5.0  1689.741768  1689.797279     0.055511  (1689.741767812171, 0.055511011625640094)\n",
       "218         6.0  1689.741768  1689.797279     0.055511  (1689.741767812171, 0.055511011625640094)\n",
       "\n",
       "[219 rows x 5 columns]), (4,     burst_level      t_start        t_end   t_duration                               interval_pair\n",
       "0             0     5.634997    1736.1659  1730.530903     (5.634997434914112, 1730.5309027680196)\n",
       "1           1.0    87.848956    87.941054     0.092099    (87.84895598131698, 0.09209851280320436)\n",
       "2           2.0    87.848956    87.941054     0.092099    (87.84895598131698, 0.09209851280320436)\n",
       "3           3.0    87.848956    87.941054     0.092099    (87.84895598131698, 0.09209851280320436)\n",
       "4           4.0    87.848956    87.941054     0.092099    (87.84895598131698, 0.09209851280320436)\n",
       "5           5.0    87.848956    87.941054     0.092099    (87.84895598131698, 0.09209851280320436)\n",
       "..          ...          ...          ...          ...                                         ...\n",
       "205         2.0  1682.509208  1683.974214     1.465005     (1682.509208315285, 1.4650053299264982)\n",
       "206         1.0  1696.829851  1700.545771      3.71592    (1696.8298512231559, 3.7159200174501166)\n",
       "207         2.0  1696.829851  1697.299898     0.470046    (1696.8298512231559, 0.4700464791385457)\n",
       "208         3.0  1696.829851  1696.836241      0.00639  (1696.8298512231559, 0.006389756686985493)\n",
       "209         4.0  1696.829851  1696.836241      0.00639  (1696.8298512231559, 0.006389756686985493)\n",
       "210         1.0  1711.318717    1736.1659    24.847183     (1711.318716764683, 24.847183438250795)\n",
       "\n",
       "[211 rows x 5 columns]), (5,     burst_level      t_start        t_end   t_duration                              interval_pair\n",
       "0             0    69.354727  1732.981774  1663.627047    (69.35472673026379, 1663.6270471030148)\n",
       "1           1.0   210.086139    210.14933     0.063191  (210.08613883587532, 0.06319100758992136)\n",
       "2           2.0   210.086139    210.14933     0.063191  (210.08613883587532, 0.06319100758992136)\n",
       "3           3.0   210.086139    210.14933     0.063191  (210.08613883587532, 0.06319100758992136)\n",
       "4           4.0   210.086139    210.14933     0.063191  (210.08613883587532, 0.06319100758992136)\n",
       "5           1.0   272.322154   277.050912     4.728758     (272.322154331021, 4.7287578989053145)\n",
       "..          ...          ...          ...          ...                                        ...\n",
       "230         8.0  1706.382722  1706.396577     0.013855  (1706.3827218520455, 0.01385471282992512)\n",
       "231         9.0  1706.382722  1706.396577     0.013855  (1706.3827218520455, 0.01385471282992512)\n",
       "232         1.0  1718.581198  1718.644911     0.063713   (1718.581197526306, 0.06371324742212892)\n",
       "233         2.0  1718.581198  1718.644911     0.063713   (1718.581197526306, 0.06371324742212892)\n",
       "234         3.0  1718.581198  1718.644911     0.063713   (1718.581197526306, 0.06371324742212892)\n",
       "235         4.0  1718.581198  1718.644911     0.063713   (1718.581197526306, 0.06371324742212892)\n",
       "\n",
       "[236 rows x 5 columns]), (6,     burst_level      t_start        t_end   t_duration                              interval_pair\n",
       "0             0     8.782168  1735.202399  1726.420231    (8.782167663564906, 1726.4202309526736)\n",
       "1           1.0    33.206921     33.56785     0.360929  (33.206920597935095, 0.36092909530270845)\n",
       "2           2.0    33.206921     33.56785     0.360929  (33.206920597935095, 0.36092909530270845)\n",
       "3           1.0    69.287665    71.531145      2.24348     (69.28766500472557, 2.243480451288633)\n",
       "4           2.0    69.287665    69.489526     0.201861    (69.28766500472557, 0.2018610165687278)\n",
       "5           3.0    69.287665    69.489526     0.201861    (69.28766500472557, 0.2018610165687278)\n",
       "..          ...          ...          ...          ...                                        ...\n",
       "250         1.0  1691.548011  1693.902851      2.35484    (1691.5480107273906, 2.354840394225903)\n",
       "251         1.0  1700.206961  1712.833734    12.626774   (1700.2069605339784, 12.626773695112206)\n",
       "252         1.0  1718.126112  1718.973983     0.847872    (1718.1261116793612, 0.847871565958485)\n",
       "253         1.0  1727.961299  1728.782444     0.821145     (1727.96129896387, 0.8211451795650646)\n",
       "254         2.0  1727.961299  1728.782444     0.821145     (1727.96129896387, 0.8211451795650646)\n",
       "255         3.0  1727.961299  1728.447873     0.486574    (1727.96129896387, 0.48657383071258664)\n",
       "\n",
       "[256 rows x 5 columns]), (7,     burst_level     t_start       t_end  t_duration                               interval_pair\n",
       "0             0    0.005007  465.865858  465.860851  (0.005007357336580753, 465.86085075931624)\n",
       "1             1    0.005007    0.398838     0.39383  (0.005007357336580753, 0.3938301984453574)\n",
       "2           1.0    1.630955    1.904117    0.273162   (1.6309546849224716, 0.27316210011485964)\n",
       "3           1.0    2.599709    2.948996    0.349286   (2.5997093889163807, 0.34928622120060027)\n",
       "4           2.0    2.717674     2.78664    0.068966    (2.717674128478393, 0.06896636472083628)\n",
       "5           1.0    3.049757    3.214662    0.164905   (3.0497571585001424, 0.16490487556438893)\n",
       "..          ...         ...         ...         ...                                         ...\n",
       "424         1.0   455.75929  455.835783    0.076493   (455.75929049111437, 0.07649276091251522)\n",
       "425         1.0  457.762203  457.796333     0.03413   (457.76220274565276, 0.03412990260403603)\n",
       "426         1.0  462.695126  462.832137    0.137011   (462.69512566016056, 0.13701112975832075)\n",
       "427         1.0  464.411851  464.457347    0.045496  (464.41185054113157, 0.045496296719647944)\n",
       "428         1.0  464.653893  464.686057    0.032164    (464.6538932971889, 0.03216382348909974)\n",
       "429         1.0  465.607042  465.788259    0.181217    (465.6070422490593, 0.18121718731708825)\n",
       "\n",
       "[430 rows x 5 columns]), (8,     burst_level      t_start        t_end   t_duration                              interval_pair\n",
       "0             0     3.486626  1707.911563  1704.424937   (3.4866260547423735, 1704.4249372545164)\n",
       "1           1.0    14.300183    23.438672     9.138489     (14.30018339829985, 9.138488761032932)\n",
       "2           2.0    14.300183      22.2554     7.955216     (14.30018339829985, 7.955216406844556)\n",
       "3           3.0    14.300183    15.478817     1.178634    (14.30018339829985, 1.1786336364457384)\n",
       "4           4.0    14.300183    14.746729     0.446546   (14.30018339829985, 0.44654569134581834)\n",
       "5           5.0    14.300183    14.464781     0.164598   (14.30018339829985, 0.16459767566993833)\n",
       "..          ...          ...          ...          ...                                        ...\n",
       "236         2.0  1650.519014   1651.04193     0.522916   (1650.5190141341882, 0.5229155722772703)\n",
       "237         3.0  1650.519014   1651.04193     0.522916   (1650.5190141341882, 0.5229155722772703)\n",
       "238         4.0   1650.73688   1651.04193     0.305049  (1650.7368802626152, 0.30504944385029376)\n",
       "239         5.0    1650.9263   1651.04193      0.11563  (1650.9262996857287, 0.11563002073671669)\n",
       "240         2.0  1653.009698  1653.174419     0.164721  (1653.0096982989926, 0.16472055565100163)\n",
       "241         3.0  1653.009698  1653.174419     0.164721  (1653.0096982989926, 0.16472055565100163)\n",
       "\n",
       "[242 rows x 5 columns]), (9,     burst_level      t_start        t_end   t_duration                              interval_pair\n",
       "0             0     1.603921  1731.214945  1729.611024    (1.603921098751016, 1729.6110235591186)\n",
       "1           1.0    45.144215    46.914331     1.770116     (45.14421496610157, 1.770116213709116)\n",
       "2           2.0      46.2521    46.914331     0.662231   (46.252100478857756, 0.6622307009529322)\n",
       "3           3.0      46.2521    46.914331     0.662231   (46.252100478857756, 0.6622307009529322)\n",
       "4           1.0    66.643965    68.799555     2.155591     (66.64396459818818, 2.155590576468967)\n",
       "5           2.0    66.643965    68.799555     2.155591     (66.64396459818818, 2.155590576468967)\n",
       "..          ...          ...          ...          ...                                        ...\n",
       "258         4.0  1673.737393  1673.822303      0.08491  (1673.7373932864284, 0.08491003653034568)\n",
       "259         5.0  1673.737393  1673.822303      0.08491  (1673.7373932864284, 0.08491003653034568)\n",
       "260         1.0  1683.341228    1683.7189     0.377671   (1683.3412283692742, 0.3776714865816757)\n",
       "261         2.0  1683.341228    1683.7189     0.377671   (1683.3412283692742, 0.3776714865816757)\n",
       "262         1.0  1689.063378  1689.727268      0.66389   (1689.0633783994708, 0.6638895800570026)\n",
       "263         2.0  1689.063378  1689.727268      0.66389   (1689.0633783994708, 0.6638895800570026)\n",
       "\n",
       "[264 rows x 5 columns]), (10,     burst_level      t_start        t_end   t_duration                             interval_pair\n",
       "0             0     0.500766   1737.05936  1736.558594  (0.5007664635777473, 1736.5585937619908)\n",
       "1             1     0.500766     2.163301     1.662535  (0.5007664635777473, 1.6625348287634552)\n",
       "2             2     0.500766     1.431183     0.930416  (0.5007664635777473, 0.9304161635227501)\n",
       "3           3.0     1.302957     1.431183     0.128225  (1.3029574127867818, 0.1282252143137157)\n",
       "4           4.0     1.302957     1.431183     0.128225  (1.3029574127867818, 0.1282252143137157)\n",
       "5           1.0    32.891334    34.604926     1.713591    (32.89133419957943, 1.713591442676261)\n",
       "..          ...          ...          ...          ...                                       ...\n",
       "326         1.0   1527.78939  1529.236455     1.447065  (1527.7893899318296, 1.4470648589776829)\n",
       "327         1.0  1571.430538  1572.899383     1.468845    (1571.43053750752, 1.4688453279668465)\n",
       "328         2.0  1571.430538  1572.899383     1.468845    (1571.43053750752, 1.4688453279668465)\n",
       "329         1.0  1610.590131  1611.336934     0.746803   (1610.590130897821, 0.7468028175644577)\n",
       "330         1.0   1696.29474  1697.320019     1.025279   (1696.2947398170363, 1.025279475026764)\n",
       "331         1.0  1730.461936  1732.566102     2.104165  (1730.4619364034152, 2.1041653227293864)\n",
       "\n",
       "[332 rows x 5 columns]), (11,     burst_level      t_start        t_end   t_duration                               interval_pair\n",
       "0             0     9.194184  1732.717521  1723.523336     (9.194184092455544, 1723.5233364361338)\n",
       "1           1.0    34.214321    36.492945     2.278624      (34.2143210421782, 2.2786241134162992)\n",
       "2           2.0    34.214321    36.492945     2.278624      (34.2143210421782, 2.2786241134162992)\n",
       "3           3.0    34.519493    36.492945     1.973452     (34.51949336589314, 1.9734517897013575)\n",
       "4           4.0    34.734287    36.492945     1.758658       (34.7342874960741, 1.758657659520395)\n",
       "5           5.0    35.260767    35.370898     0.110131    (35.26076658652164, 0.11013114359229803)\n",
       "..          ...          ...          ...          ...                                         ...\n",
       "376         6.0   1672.17393  1672.189198     0.015268  (1672.1739304069197, 0.015267832204699516)\n",
       "377         7.0   1672.17393  1672.189198     0.015268  (1672.1739304069197, 0.015267832204699516)\n",
       "378         1.0  1688.340076  1688.392761     0.052685  (1688.3400763698155, 0.052684773108921945)\n",
       "379         2.0  1688.340076  1688.392761     0.052685  (1688.3400763698155, 0.052684773108921945)\n",
       "380         3.0  1688.340076  1688.392761     0.052685  (1688.3400763698155, 0.052684773108921945)\n",
       "381         4.0  1688.340076  1688.392761     0.052685  (1688.3400763698155, 0.052684773108921945)\n",
       "\n",
       "[382 rows x 5 columns]), (12,     burst_level      t_start        t_end t_duration                               interval_pair\n",
       "0             0     8.784932  1735.017833  1726.2329       (8.7849324621493, 1726.2329004887724)\n",
       "1           1.0    24.362299    25.607134   1.244835    (24.362299206550233, 1.2448352025821805)\n",
       "2           2.0    24.362299    25.607134   1.244835    (24.362299206550233, 1.2448352025821805)\n",
       "3           3.0    24.362299    25.607134   1.244835    (24.362299206550233, 1.2448352025821805)\n",
       "4           4.0    24.362299    25.607134   1.244835    (24.362299206550233, 1.2448352025821805)\n",
       "5           5.0    24.362299    24.899745   0.537446    (24.362299206550233, 0.5374461247120053)\n",
       "..          ...          ...          ...        ...                                         ...\n",
       "243         6.0   1650.22954   1650.46335    0.23381     (1650.229539722437, 0.2338098002364859)\n",
       "244         1.0  1679.556803  1680.558766   1.001963     (1679.5568027867703, 1.001963007147424)\n",
       "245         2.0  1680.548106  1680.558766    0.01066  (1680.5481059593149, 0.010659834602847695)\n",
       "246         3.0  1680.548106  1680.558766    0.01066  (1680.5481059593149, 0.010659834602847695)\n",
       "247         4.0  1680.548106  1680.558766    0.01066  (1680.5481059593149, 0.010659834602847695)\n",
       "248         5.0  1680.548106  1680.558766    0.01066  (1680.5481059593149, 0.010659834602847695)\n",
       "\n",
       "[249 rows x 5 columns]), (13,     burst_level      t_start        t_end   t_duration                              interval_pair\n",
       "0             0    24.402696  1735.825492  1711.422796   (24.402695985743776, 1711.4227960716235)\n",
       "1           1.0    38.225399    38.895739     0.670341    (38.22539866855368, 0.6703407767927274)\n",
       "2           2.0    38.225399    38.895739     0.670341    (38.22539866855368, 0.6703407767927274)\n",
       "3           1.0    69.683891    69.789998     0.106107   (69.68389136181213, 0.10610682563856244)\n",
       "4           1.0    78.546115    86.161784     7.615668      (78.5461153043434, 7.615668420796283)\n",
       "5           2.0    78.546115    86.161784     7.615668      (78.5461153043434, 7.615668420796283)\n",
       "..          ...          ...          ...          ...                                        ...\n",
       "300         2.0  1695.418452  1696.049502      0.63105   (1695.4184522656724, 0.6310499168466777)\n",
       "301         3.0  1695.418452  1696.049502      0.63105   (1695.4184522656724, 0.6310499168466777)\n",
       "302         4.0  1696.014328  1696.049502     0.035174  (1696.0143278005999, 0.03517438191920519)\n",
       "303         5.0  1696.014328  1696.049502     0.035174  (1696.0143278005999, 0.03517438191920519)\n",
       "304         6.0  1696.014328  1696.049502     0.035174  (1696.0143278005999, 0.03517438191920519)\n",
       "305         7.0  1696.014328  1696.049502     0.035174  (1696.0143278005999, 0.03517438191920519)\n",
       "\n",
       "[306 rows x 5 columns]), (14,     burst_level      t_start        t_end   t_duration                              interval_pair\n",
       "0             0     1.482055   1731.11148  1729.629425     (1.482054921099916, 1729.629424829851)\n",
       "1             1     1.482055     4.479926     2.997871     (1.482054921099916, 2.997871105093509)\n",
       "2           2.0     3.943156     4.479926      0.53677   (3.9431557410862297, 0.5367702851071954)\n",
       "3           3.0     3.943156     4.479926      0.53677   (3.9431557410862297, 0.5367702851071954)\n",
       "4           4.0     3.943156     4.251799     0.308644  (3.9431557410862297, 0.30864368192851543)\n",
       "5           5.0     3.943156     4.251799     0.308644  (3.9431557410862297, 0.30864368192851543)\n",
       "..          ...          ...          ...          ...                                        ...\n",
       "267         2.0  1705.106859  1705.707619      0.60076    (1705.106859465246, 0.6007600123994052)\n",
       "268         2.0  1714.316066  1714.518848     0.202783   (1714.3160656300606, 0.2027826162520796)\n",
       "269         3.0  1714.316066  1714.518848     0.202783   (1714.3160656300606, 0.2027826162520796)\n",
       "270         4.0  1714.316066  1714.518848     0.202783   (1714.3160656300606, 0.2027826162520796)\n",
       "271         5.0  1714.316066  1714.360548     0.044483   (1714.3160656300606, 0.0444825371960178)\n",
       "272         6.0  1714.316066  1714.360548     0.044483   (1714.3160656300606, 0.0444825371960178)\n",
       "\n",
       "[273 rows x 5 columns]), (15,     burst_level      t_start        t_end   t_duration                               interval_pair\n",
       "0             0      6.51276  1732.685879  1726.173119      (6.51275954535231, 1726.1731193994638)\n",
       "1             1      6.51276     8.454969      1.94221       (6.51275954535231, 1.942209565662779)\n",
       "2             2      6.51276     7.820694     1.307934      (6.51275954535231, 1.3079340504482388)\n",
       "3             3      6.51276     6.696926     0.184166      (6.51275954535231, 0.1841663058148697)\n",
       "4             4      6.51276     6.696926     0.184166      (6.51275954535231, 0.1841663058148697)\n",
       "5           5.0     6.624611     6.696926     0.072315    (6.624611008097418, 0.07231484306976199)\n",
       "..          ...          ...          ...          ...                                         ...\n",
       "417         3.0  1625.733086  1625.775418     0.042332  (1625.7330863445532, 0.042332138400524855)\n",
       "418         4.0  1625.733086  1625.775418     0.042332  (1625.7330863445532, 0.042332138400524855)\n",
       "419         5.0  1625.733086  1625.775418     0.042332  (1625.7330863445532, 0.042332138400524855)\n",
       "420         1.0  1650.744161  1652.525613     1.781452    (1650.7441608989611, 1.7814518878003582)\n",
       "421         2.0  1650.744161  1651.630801      0.88664    (1650.7441608989611, 0.8866401860723272)\n",
       "422         3.0  1650.744161  1651.436436     0.692275    (1650.7441608989611, 0.6922748455544934)\n",
       "\n",
       "[423 rows x 5 columns]), (16,     burst_level      t_start        t_end   t_duration                              interval_pair\n",
       "0             0    229.15815   1737.12464  1507.966491     (229.15814955101814, 1507.96649064112)\n",
       "1           1.0    344.33886    344.77708     0.438221     (344.338859858457, 0.4382205755682662)\n",
       "2           2.0    344.33886    344.77708     0.438221     (344.338859858457, 0.4382205755682662)\n",
       "3           3.0    344.33886    344.77708     0.438221     (344.338859858457, 0.4382205755682662)\n",
       "4           4.0    344.33886   344.513779      0.17492    (344.338859858457, 0.17491959047038108)\n",
       "5           1.0   352.061004   352.555104       0.4941    (352.0610037447186, 0.4941002270206809)\n",
       "..          ...          ...          ...          ...                                        ...\n",
       "232         2.0  1727.492635  1730.227666     2.735031   (1727.4926348837325, 2.7350309196626768)\n",
       "233         3.0  1728.973584  1729.042089     0.068506  (1728.9735838854685, 0.06850556493736804)\n",
       "234         4.0  1728.973584  1729.042089     0.068506  (1728.9735838854685, 0.06850556493736804)\n",
       "235         5.0  1728.973584  1729.042089     0.068506  (1728.9735838854685, 0.06850556493736804)\n",
       "236         2.0  1734.952492   1737.12464     2.172149    (1734.9524915443035, 2.172148647834547)\n",
       "237         3.0  1735.316493  1736.120988     0.804495   (1735.3164926378522, 0.8044949481263757)\n",
       "\n",
       "[238 rows x 5 columns]), (17,     burst_level      t_start        t_end   t_duration                               interval_pair\n",
       "0             0      0.33239  1128.597018  1128.264628    (0.3323902297997847, 1128.2646280885674)\n",
       "1           1.0     2.094519     2.281788     0.187269    (2.0945192475337535, 0.1872690242016688)\n",
       "2           1.0     3.362272       3.4983     0.136028    (3.3622715583769605, 0.1360280904918909)\n",
       "3           2.0     3.414219     3.469024     0.054804    (3.414219051832333, 0.05480445199646056)\n",
       "4           1.0     4.122868     4.208546     0.085678    (4.122867648955435, 0.08567803620826453)\n",
       "5           1.0    17.442899    17.563107     0.120207    (17.44289922923781, 0.12020729843061417)\n",
       "..          ...          ...          ...          ...                                         ...\n",
       "528         1.0  1118.537514  1118.807757     0.270244   (1118.5375137086958, 0.27024370164144784)\n",
       "529         1.0  1119.554499  1123.594853     4.040354     (1119.5544987880858, 4.040353771299124)\n",
       "530         2.0  1119.764931  1120.070779     0.305848   (1119.7649306802778, 0.30584816343616694)\n",
       "531         2.0  1122.518424  1122.576485     0.058061  (1122.5184243104886, 0.058060770272277296)\n",
       "532         2.0  1122.857511   1123.38353     0.526018    (1122.8575114968698, 0.5260182906640694)\n",
       "533         1.0  1126.454084  1128.597018     2.142934     (1126.4540843754075, 2.142933942959644)\n",
       "\n",
       "[534 rows x 5 columns]), (18,     burst_level      t_start        t_end   t_duration                              interval_pair\n",
       "0             0     0.392386  1735.209833  1734.817446  (0.39238635904621333, 1734.8174464934273)\n",
       "1           1.0    33.216536     36.81357     3.597034     (33.21653595310636, 3.597033678321168)\n",
       "2           2.0    33.216536     36.81357     3.597034     (33.21653595310636, 3.597033678321168)\n",
       "3           3.0    33.216536    34.419254     1.202718     (33.21653595310636, 1.202718104235828)\n",
       "4           4.0    34.170484    34.267743     0.097259   (34.170483624679036, 0.0972594702616334)\n",
       "5           3.0    36.488798     36.81357     0.324772    (36.4887979576597, 0.32477167376782745)\n",
       "..          ...          ...          ...          ...                                        ...\n",
       "399         5.0  1718.921053  1718.998191     0.077138   (1718.921052712365, 0.07713788049295545)\n",
       "400         1.0  1727.778853  1728.457396     0.678543   (1727.7788529770914, 0.6785430127056316)\n",
       "401         2.0  1727.778853  1727.967105     0.188252  (1727.7788529770914, 0.18825206370092928)\n",
       "402         3.0  1727.778853  1727.967105     0.188252  (1727.7788529770914, 0.18825206370092928)\n",
       "403         1.0  1734.966746  1735.209833     0.243087  (1734.9667456169846, 0.24308723548892885)\n",
       "404         2.0  1734.966746  1735.209833     0.243087  (1734.9667456169846, 0.24308723548892885)\n",
       "\n",
       "[405 rows x 5 columns]), (19,     burst_level      t_start        t_end   t_duration                               interval_pair\n",
       "0             0     2.565364  1728.443388  1725.878023     (2.565364446491003, 1725.8780232304707)\n",
       "1           1.0    33.495688    36.750164     3.254475     (33.495688450173475, 3.254475133609958)\n",
       "2           2.0     36.50978    36.750164     0.240384    (36.509779706946574, 0.2403838768368587)\n",
       "3           3.0     36.50978    36.750164     0.240384    (36.509779706946574, 0.2403838768368587)\n",
       "4           4.0     36.50978    36.576841     0.067062    (36.509779706946574, 0.0670617256546393)\n",
       "5           1.0    62.818159    66.359713     3.541553     (62.81815919710789, 3.5415533867198974)\n",
       "..          ...          ...          ...          ...                                         ...\n",
       "333         5.0  1651.910537   1651.93327     0.022733  (1651.9105372617487, 0.022732788347639143)\n",
       "334         1.0  1671.788302  1671.819207     0.030904   (1671.7883024442708, 0.03090430423617363)\n",
       "335         2.0  1671.788302  1671.819207     0.030904   (1671.7883024442708, 0.03090430423617363)\n",
       "336         3.0  1671.788302  1671.819207     0.030904   (1671.7883024442708, 0.03090430423617363)\n",
       "337         4.0  1671.788302  1671.819207     0.030904   (1671.7883024442708, 0.03090430423617363)\n",
       "338         5.0  1671.788302  1671.819207     0.030904   (1671.7883024442708, 0.03090430423617363)\n",
       "\n",
       "[339 rows x 5 columns]), (20,     burst_level      t_start        t_end  t_duration                              interval_pair\n",
       "0             0     7.926831  1730.147272  1722.22044    (7.926831141463481, 1722.2204404630465)\n",
       "1           1.0    36.558532    38.808802     2.25027     (36.55853232194204, 2.250269567943178)\n",
       "2           1.0    64.251124    66.248936    1.997813    (64.25112358329352, 1.9978127372451127)\n",
       "3           2.0    64.251124    66.248936    1.997813    (64.25112358329352, 1.9978127372451127)\n",
       "4           1.0   113.719975   115.659481    1.939506   (113.71997505542822, 1.9395062068942934)\n",
       "5           1.0   211.840926   211.961686     0.12076   (211.8409257774474, 0.12076025817077607)\n",
       "..          ...          ...          ...         ...                                        ...\n",
       "223         7.0  1694.578844  1694.636414    0.057569  (1694.5788443755591, 0.05756925046443939)\n",
       "224         1.0  1706.237846  1706.320268    0.082422  (1706.2378464061767, 0.08242171781603247)\n",
       "225         2.0  1706.237846  1706.320268    0.082422  (1706.2378464061767, 0.08242171781603247)\n",
       "226         3.0  1706.237846  1706.320268    0.082422  (1706.2378464061767, 0.08242171781603247)\n",
       "227         4.0  1706.237846  1706.320268    0.082422  (1706.2378464061767, 0.08242171781603247)\n",
       "228         5.0  1706.237846  1706.320268    0.082422  (1706.2378464061767, 0.08242171781603247)\n",
       "\n",
       "[229 rows x 5 columns]), (21,     burst_level     t_start       t_end  t_duration                              interval_pair\n",
       "0             0    0.004946  872.535382  872.530436  (0.004945917404256761, 872.5304358245339)\n",
       "1           1.0    1.352847    1.446973    0.094126    (1.35284666728694, 0.09412603173404932)\n",
       "2           1.0    1.701242    2.105425    0.404183    (1.701242008828558, 0.4041828331537545)\n",
       "3           1.0    2.706953     3.45563    0.748677   (2.7069528539432213, 0.7486767367227003)\n",
       "4           1.0    4.638472    4.715579    0.077107   (4.638471865095198, 0.07710716046858579)\n",
       "5           1.0    5.065449    5.769029     0.70358      (5.0654489264125, 0.7035797997377813)\n",
       "..          ...         ...         ...         ...                                        ...\n",
       "549         1.0  851.000519   851.15246    0.151941   (851.0005191676319, 0.15194104227703065)\n",
       "550         1.0  854.934797    854.9618    0.027003  (854.9347968333168, 0.027002866263501346)\n",
       "551         1.0  855.271058  855.740183    0.469125   (855.2710577811813, 0.46912487980443984)\n",
       "552         1.0  863.018791  863.069141     0.05035   (863.0187914143316, 0.05035005428362638)\n",
       "553         2.0  863.038852  863.069141     0.03029  (863.0388515640516, 0.030289904563687742)\n",
       "554         1.0  869.484273  869.608505    0.124232   (869.4842729039956, 0.12423161638434976)\n",
       "\n",
       "[555 rows x 5 columns]), (22,     burst_level     t_start       t_end  t_duration                              interval_pair\n",
       "0             0    0.007803  927.560157  927.552355  (0.007802875945344567, 927.5523545332253)\n",
       "1           1.0    0.072776    0.210278    0.137503  (0.0727756426203996, 0.13750264968257397)\n",
       "2           1.0    1.433579    1.487646    0.054067  (1.4335787859745324, 0.05406717234291136)\n",
       "3           1.0    2.385806    2.818589    0.432783  (2.3858061383944005, 0.43278313847258687)\n",
       "4           2.0    2.521281    2.793307    0.272025    (2.521281269029714, 0.2720254607265815)\n",
       "5           1.0    4.096018     4.37216    0.276142  (4.0960183828137815, 0.27614193852059543)\n",
       "..          ...         ...         ...         ...                                        ...\n",
       "536         1.0  924.306665  924.399255     0.09259   (924.3066653149435, 0.09259003249462694)\n",
       "537         2.0  924.306665  924.380608    0.073943    (924.3066653149435, 0.0739430021494627)\n",
       "538         3.0  924.314775  924.370501    0.055726   (924.3147753907833, 0.05572605144698173)\n",
       "539         1.0   925.85185  926.741623    0.889774     (925.8518498038175, 0.889773624483496)\n",
       "540         2.0  925.926469  926.006463    0.079995   (925.9264686455717, 0.07999483915045857)\n",
       "541         1.0  927.302939  927.560157    0.257218   (927.3029389807489, 0.25721842842176557)\n",
       "\n",
       "[542 rows x 5 columns]), (23,    burst_level      t_start        t_end   t_duration                             interval_pair\n",
       "0            0     5.388746  1735.203351  1729.814605   (5.388746040989645, 1729.8146048948402)\n",
       "1          1.0    53.454616    63.606803    10.152187   (53.45461583114229, 10.152186802122742)\n",
       "2          1.0    92.329036    95.128916     2.799881   (92.32903560751583, 2.7998808063566685)\n",
       "3          2.0    92.329036    95.128916     2.799881   (92.32903560751583, 2.7998808063566685)\n",
       "4          3.0    92.329036      94.2945     1.965465    (92.32903560751583, 1.965464593609795)\n",
       "5          1.0   249.449221   256.239075     6.789854   (249.44922140194103, 6.789853803580627)\n",
       "..         ...          ...          ...          ...                                       ...\n",
       "67         1.0  1319.254088  1331.074616    11.820528  (1319.2540880618617, 11.820527707925066)\n",
       "68         2.0  1326.826196  1328.022493     1.196298   (1326.826195545029, 1.1962976274080575)\n",
       "69         3.0  1326.826196  1326.988766      0.16257  (1326.826195545029, 0.16257015673909336)\n",
       "70         1.0  1480.559503  1490.410941     9.851438   (1480.5595030734548, 9.851438156096265)\n",
       "71         1.0  1536.350005   1539.90784     3.557835  (1536.3500050688162, 3.5578349783318117)\n",
       "72         1.0  1706.853352  1707.420381     0.567029   (1706.853352011065, 0.5670294696465135)\n",
       "\n",
       "[73 rows x 5 columns]), (24,     burst_level      t_start        t_end   t_duration                              interval_pair\n",
       "0             0     8.459116  1736.410155  1727.951038    (8.459116308949888, 1727.9510384890018)\n",
       "1           1.0   137.862596   138.345545     0.482949  (137.86259565420914, 0.48294887284282595)\n",
       "2           2.0   137.862596   138.345545     0.482949  (137.86259565420914, 0.48294887284282595)\n",
       "3           1.0   246.678801   247.729486     1.050685    (246.6788010604214, 1.0506849020021036)\n",
       "4           1.0   287.048485   288.028914     0.980428   (287.04848535114434, 0.9804282980039716)\n",
       "5           2.0   287.048485   288.028914     0.980428   (287.04848535114434, 0.9804282980039716)\n",
       "..          ...          ...          ...          ...                                        ...\n",
       "464         3.0  1721.291806  1721.354628     0.062822  (1721.2918060584925, 0.06282236787956208)\n",
       "465         1.0  1723.598047  1724.809705     1.211658   (1723.5980474377284, 1.2116576195694506)\n",
       "466         1.0  1727.529898  1732.943005     5.413107    (1727.5298982246313, 5.413106988416985)\n",
       "467         2.0  1732.613503  1732.690241     0.076739   (1732.613502661814, 0.07673852075822651)\n",
       "468         3.0  1732.613503  1732.690241     0.076739   (1732.613502661814, 0.07673852075822651)\n",
       "469         4.0  1732.613503  1732.690241     0.076739   (1732.613502661814, 0.07673852075822651)\n",
       "\n",
       "[470 rows x 5 columns]), (25,     burst_level      t_start        t_end   t_duration                               interval_pair\n",
       "0             0     8.847632   1721.37518  1712.527548      (8.847631950047798, 1712.527548145852)\n",
       "1           1.0    54.430835    56.880601     2.449765    (54.430835491395555, 2.4497651456622407)\n",
       "2           1.0   249.240878   257.789544     8.548665      (249.2408784686122, 8.548665063106455)\n",
       "3           2.0   249.926487   251.019504     1.093017    (249.92648707760964, 1.0930170404026285)\n",
       "4           2.0   251.760777   252.113258     0.352481     (251.76077733840793, 0.352481099544093)\n",
       "5           3.0   252.082938   252.113258     0.030321  (252.08293781348038, 0.030320624471642077)\n",
       "..          ...          ...          ...          ...                                         ...\n",
       "371         3.0  1627.435066  1627.802507     0.367442     (1627.435065633268, 0.3674417318543419)\n",
       "372         1.0   1650.33365  1654.550275     4.216625     (1650.3336497490527, 4.216625041211955)\n",
       "373         2.0  1651.123553  1654.550275     3.426722     (1651.1235527046956, 3.426722085569054)\n",
       "374         3.0  1651.339084  1651.466203     0.127119   (1651.3390841142973, 0.12711929494980723)\n",
       "375         3.0  1653.653651   1654.44979     0.796139    (1653.6536506093107, 0.7961391123244539)\n",
       "376         4.0  1654.334559   1654.44979     0.115231   (1654.3345590606332, 0.11523066100198776)\n",
       "\n",
       "[377 rows x 5 columns]), (26,      burst_level      t_start        t_end   t_duration                              interval_pair\n",
       "0              0     4.858857  1736.970764  1732.111907    (4.858857032144442, 1732.1119067588588)\n",
       "1            1.0    24.889915    26.237293     1.347379    (24.88991493638605, 1.3473785100504756)\n",
       "2            2.0    25.162063    26.237293      1.07523     (25.16206327697728, 1.075230169459246)\n",
       "3            1.0    27.962743    32.114395     4.151652     (27.962742803036235, 4.15165227430407)\n",
       "4            2.0    29.382221    29.505347     0.123126   (29.38222111633513, 0.12312569690402597)\n",
       "5            2.0    29.752888    29.911311     0.158423    (29.75288844644092, 0.1584229589207098)\n",
       "...          ...          ...          ...          ...                                        ...\n",
       "1058         2.0  1721.550284   1721.93453     0.384246  (1721.5502840061672, 0.38424556341487914)\n",
       "1059         1.0    1722.7013  1722.796717     0.095416  (1722.7013003769098, 0.09541627112776041)\n",
       "1060         2.0    1722.7013  1722.796717     0.095416  (1722.7013003769098, 0.09541627112776041)\n",
       "1061         3.0    1722.7013  1722.796717     0.095416  (1722.7013003769098, 0.09541627112776041)\n",
       "1062         1.0  1727.530912  1727.895067     0.364155  (1727.5309119840385, 0.36415469367057085)\n",
       "1063         1.0  1735.213765  1735.353756     0.139991  (1735.2137650104705, 0.13999096839688718)\n",
       "\n",
       "[1064 rows x 5 columns]), (27,     burst_level      t_start        t_end   t_duration                              interval_pair\n",
       "0             0    35.148147  1716.055462  1680.907315   (35.148147124098614, 1680.9073147354648)\n",
       "1           1.0    45.436024    46.964835     1.528811   (45.436024096794426, 1.5288107371889055)\n",
       "2           2.0    45.436024    46.964835     1.528811   (45.436024096794426, 1.5288107371889055)\n",
       "3           3.0    45.436024    46.964835     1.528811   (45.436024096794426, 1.5288107371889055)\n",
       "4           4.0    46.138682    46.964835     0.826153    (46.13868229696527, 0.8261525370180607)\n",
       "5           5.0    46.568977    46.964835     0.395858   (46.56897711660713, 0.39585771737620234)\n",
       "..          ...          ...          ...          ...                                        ...\n",
       "230         4.0  1649.584082  1649.592561     0.008479  (1649.5840821329039, 0.00847871566656977)\n",
       "231         5.0  1649.584082  1649.592561     0.008479  (1649.5840821329039, 0.00847871566656977)\n",
       "232         1.0  1705.690048  1706.802019     1.111971   (1705.6900476466399, 1.1119712706422433)\n",
       "233         2.0  1705.690048  1706.802019     1.111971   (1705.6900476466399, 1.1119712706422433)\n",
       "234         3.0  1706.294218  1706.802019     0.507801   (1706.2942175773205, 0.5078013399615884)\n",
       "235         4.0  1706.294218  1706.802019     0.507801   (1706.2942175773205, 0.5078013399615884)\n",
       "\n",
       "[236 rows x 5 columns]), (28,     burst_level      t_start        t_end   t_duration                              interval_pair\n",
       "0             0     6.107041  1737.098774  1730.991733    (6.107040713075548, 1730.9917332523037)\n",
       "1             1     6.107041      6.75127     0.644229    (6.107040713075548, 0.6442287901882082)\n",
       "2             2     6.107041      6.75127     0.644229    (6.107040713075548, 0.6442287901882082)\n",
       "3             3     6.107041      6.75127     0.644229    (6.107040713075548, 0.6442287901882082)\n",
       "4             4     6.107041     6.141601      0.03456  (6.107040713075548, 0.034559982479549944)\n",
       "5             5     6.107041     6.141601      0.03456  (6.107040713075548, 0.034559982479549944)\n",
       "..          ...          ...          ...          ...                                        ...\n",
       "370         1.0   1723.93308  1724.589043     0.655964    (1723.933079586248, 0.6559638241305947)\n",
       "371         2.0   1723.93308  1724.589043     0.655964    (1723.933079586248, 0.6559638241305947)\n",
       "372         3.0   1723.93308  1724.589043     0.655964    (1723.933079586248, 0.6559638241305947)\n",
       "373         1.0  1729.878072  1735.514729     5.636656    (1729.8780723824166, 5.636656313901767)\n",
       "374         2.0  1729.878072  1732.524814     2.646742   (1729.8780723824166, 2.6467416847590357)\n",
       "375         3.0  1732.147173  1732.524814     0.377641  (1732.1471733006183, 0.37764076655730605)\n",
       "\n",
       "[376 rows x 5 columns]), (29,     burst_level      t_start        t_end   t_duration                               interval_pair\n",
       "0             0    69.287665  1729.986422  1660.698757     (69.28766500472557, 1660.6987567621982)\n",
       "1             1    69.287665    69.631422     0.343757    (69.28766500472557, 0.34375662391539663)\n",
       "2             2    69.287665    69.631422     0.343757    (69.28766500472557, 0.34375662391539663)\n",
       "3             3    69.287665    69.631422     0.343757    (69.28766500472557, 0.34375662391539663)\n",
       "4             4    69.287665    69.631422     0.343757    (69.28766500472557, 0.34375662391539663)\n",
       "5             5    69.287665    69.631422     0.343757    (69.28766500472557, 0.34375662391539663)\n",
       "..          ...          ...          ...          ...                                         ...\n",
       "249         7.0  1706.382691  1706.396546     0.013855  (1706.3826911320211, 0.013854712946340442)\n",
       "250         8.0  1706.382691  1706.396546     0.013855  (1706.3826911320211, 0.013854712946340442)\n",
       "251         1.0  1718.581167   1718.64488     0.063713    (1718.581166806398, 0.06371324742212892)\n",
       "252         2.0  1718.581167   1718.64488     0.063713    (1718.581166806398, 0.06371324742212892)\n",
       "253         3.0  1718.581167   1718.64488     0.063713    (1718.581166806398, 0.06371324742212892)\n",
       "254         4.0  1718.581167   1718.64488     0.063713    (1718.581166806398, 0.06371324742212892)\n",
       "\n",
       "[255 rows x 5 columns]), (30,     burst_level      t_start        t_end   t_duration                              interval_pair\n",
       "0             0    67.085687  1719.589182  1652.503494    (67.08568725199439, 1652.5034943983192)\n",
       "1             1    67.085687    68.773382     1.687694    (67.08568725199439, 1.6876944960094988)\n",
       "2             2    67.085687    68.773382     1.687694    (67.08568725199439, 1.6876944960094988)\n",
       "3             3    67.085687    68.773382     1.687694    (67.08568725199439, 1.6876944960094988)\n",
       "4             4    67.085687    68.773382     1.687694    (67.08568725199439, 1.6876944960094988)\n",
       "5           5.0    67.187094    68.075977     0.888883     (67.1870939200744, 0.8888827449409291)\n",
       "..          ...          ...          ...          ...                                        ...\n",
       "294         1.0  1654.864294  1655.882754      1.01846    (1654.864294469473, 1.0184596384642646)\n",
       "295         2.0  1654.864294  1655.882754      1.01846    (1654.864294469473, 1.0184596384642646)\n",
       "296         3.0  1655.100347  1655.882754     0.782407    (1655.100346828578, 0.7824072793591768)\n",
       "297         4.0  1655.216683  1655.882754     0.666071   (1655.2166834090604, 0.6660706988768652)\n",
       "298         5.0  1655.216683  1655.650603      0.43392   (1655.2166834090604, 0.4339197777444497)\n",
       "299         6.0  1655.527293  1655.650603      0.12331  (1655.5272931699874, 0.12331001681741327)\n",
       "\n",
       "[300 rows x 5 columns]), (31,     burst_level      t_start        t_end   t_duration                             interval_pair\n",
       "0             0     2.322277   1735.79637  1733.474092   (2.322277210885659, 1733.4740923013305)\n",
       "1             1     2.322277     2.418124     0.095846  (2.322277210885659, 0.09584635100327432)\n",
       "2             2     2.322277     2.418124     0.095846  (2.322277210885659, 0.09584635100327432)\n",
       "3             3     2.322277     2.418124     0.095846  (2.322277210885659, 0.09584635100327432)\n",
       "4           1.0    38.004461    38.674801     0.670341   (38.00446054164786, 0.6703407767927274)\n",
       "5           2.0    38.004461    38.674801     0.670341   (38.00446054164786, 0.6703407767927274)\n",
       "..          ...          ...          ...          ...                                       ...\n",
       "403         1.0  1729.555298  1731.197434     1.642137  (1729.5552975076716, 1.6421367592411116)\n",
       "404         2.0  1731.158328  1731.197434     0.039107   (1731.15832772688, 0.03910654003266245)\n",
       "405         3.0  1731.158328  1731.197434     0.039107   (1731.15832772688, 0.03910654003266245)\n",
       "406         4.0  1731.158328  1731.197434     0.039107   (1731.15832772688, 0.03910654003266245)\n",
       "407         5.0  1731.158328  1731.197434     0.039107   (1731.15832772688, 0.03910654003266245)\n",
       "408         6.0  1731.158328  1731.197434     0.039107   (1731.15832772688, 0.03910654003266245)\n",
       "\n",
       "[409 rows x 5 columns]), (32,     burst_level      t_start        t_end   t_duration                              interval_pair\n",
       "0             0    27.963572  1737.042218  1709.078646   (27.963572242646478, 1709.0786462316755)\n",
       "1             1    27.963572    29.037021     1.073448   (27.963572242646478, 1.0734484103741124)\n",
       "2             2    27.963572    29.037021     1.073448   (27.963572242646478, 1.0734484103741124)\n",
       "3           3.0    28.268407    29.037021     0.768614   (28.268406646559015, 0.7686140064615756)\n",
       "4           4.0    28.268407    28.933095     0.664688   (28.268406646559015, 0.6646882996428758)\n",
       "5           5.0    28.356696     28.46354     0.106844   (28.35669588134624, 0.10684410529211164)\n",
       "..          ...          ...          ...          ...                                        ...\n",
       "388         2.0  1723.604529  1724.799629       1.1951   (1723.6045293544885, 1.1950995480874553)\n",
       "389         3.0  1723.604529  1724.799629       1.1951   (1723.6045293544885, 1.1950995480874553)\n",
       "390         4.0  1723.604529   1723.83284     0.228311  (1723.6045293544885, 0.22831092309206724)\n",
       "391         4.0  1724.551258  1724.799629     0.248371   (1724.5512578296475, 0.2483710729284212)\n",
       "392         2.0  1728.942741  1729.653448     0.710707     (1728.942741021281, 0.710706836078316)\n",
       "393         3.0  1728.942741  1729.653448     0.710707     (1728.942741021281, 0.710706836078316)\n",
       "\n",
       "[394 rows x 5 columns]), (33,     burst_level      t_start       t_end  t_duration                             interval_pair\n",
       "0             0    416.01614  1725.57196  1309.55582  (416.01614027970936, 1309.5558197473874)\n",
       "1             1    416.01614  416.821096    0.804956  (416.01614027970936, 0.8049557477934286)\n",
       "2             2    416.01614  416.821096    0.804956  (416.01614027970936, 0.8049557477934286)\n",
       "3             3    416.01614  416.821096    0.804956  (416.01614027970936, 0.8049557477934286)\n",
       "4             4    416.01614  416.821096    0.804956  (416.01614027970936, 0.8049557477934286)\n",
       "5             5    416.01614  416.821096    0.804956  (416.01614027970936, 0.8049557477934286)\n",
       "..          ...          ...         ...         ...                                       ...\n",
       "217         2.0  1725.555187  1725.57196    0.016773  (1725.555186915677, 0.01677311141975224)\n",
       "218         3.0  1725.555187  1725.57196    0.016773  (1725.555186915677, 0.01677311141975224)\n",
       "219         4.0  1725.555187  1725.57196    0.016773  (1725.555186915677, 0.01677311141975224)\n",
       "220         5.0  1725.555187  1725.57196    0.016773  (1725.555186915677, 0.01677311141975224)\n",
       "221         6.0  1725.555187  1725.57196    0.016773  (1725.555186915677, 0.01677311141975224)\n",
       "222         7.0  1725.555187  1725.57196    0.016773  (1725.555186915677, 0.01677311141975224)\n",
       "\n",
       "[223 rows x 5 columns]), (34,     burst_level      t_start        t_end   t_duration                              interval_pair\n",
       "0             0   130.736266  1671.510993  1540.774727    (130.73626586294267, 1540.774727283395)\n",
       "1           1.0   154.257175   154.319906      0.06273  (154.25717542029452, 0.06273020780645311)\n",
       "2           2.0   154.257175   154.319906      0.06273  (154.25717542029452, 0.06273020780645311)\n",
       "3           3.0   154.257175   154.319906      0.06273  (154.25717542029452, 0.06273020780645311)\n",
       "4           4.0   154.257175   154.319906      0.06273  (154.25717542029452, 0.06273020780645311)\n",
       "5           5.0   154.257175   154.319906      0.06273  (154.25717542029452, 0.06273020780645311)\n",
       "..          ...          ...          ...          ...                                        ...\n",
       "279         3.0  1654.026407  1654.811794     0.785387    (1654.026406898396, 0.7853871178813279)\n",
       "280         4.0  1654.026407  1654.811794     0.785387    (1654.026406898396, 0.7853871178813279)\n",
       "281         1.0  1671.402582  1671.510993     0.108411   (1671.402582321898, 0.10841082443948835)\n",
       "282         2.0  1671.402582  1671.510993     0.108411   (1671.402582321898, 0.10841082443948835)\n",
       "283         3.0  1671.402582  1671.510993     0.108411   (1671.402582321898, 0.10841082443948835)\n",
       "284         4.0  1671.402582  1671.510993     0.108411   (1671.402582321898, 0.10841082443948835)\n",
       "\n",
       "[285 rows x 5 columns]), (35,     burst_level      t_start        t_end   t_duration                               interval_pair\n",
       "0             0    27.741405  1731.255434  1703.514028    (27.741405316395685, 1703.5140282807406)\n",
       "1           1.0     93.91815     93.97194     0.053791    (93.91814967396203, 0.05379069235641509)\n",
       "2           2.0     93.91815     93.97194     0.053791    (93.91814967396203, 0.05379069235641509)\n",
       "3           3.0     93.91815     93.97194     0.053791    (93.91814967396203, 0.05379069235641509)\n",
       "4           4.0     93.91815     93.97194     0.053791    (93.91814967396203, 0.05379069235641509)\n",
       "5           5.0     93.91815     93.97194     0.053791    (93.91814967396203, 0.05379069235641509)\n",
       "..          ...          ...          ...          ...                                         ...\n",
       "278         3.0  1725.442322  1725.467604     0.025283  (1725.4423216934083, 0.025282547110691667)\n",
       "279         4.0  1725.442322  1725.467604     0.025283  (1725.4423216934083, 0.025282547110691667)\n",
       "280         5.0  1725.442322  1725.467604     0.025283  (1725.4423216934083, 0.025282547110691667)\n",
       "281         6.0  1725.442322  1725.467604     0.025283  (1725.4423216934083, 0.025282547110691667)\n",
       "282         7.0  1725.442322  1725.467604     0.025283  (1725.4423216934083, 0.025282547110691667)\n",
       "283         8.0  1725.442322  1725.467604     0.025283  (1725.4423216934083, 0.025282547110691667)\n",
       "\n",
       "[284 rows x 5 columns]), (36,     burst_level      t_start        t_end   t_duration                              interval_pair\n",
       "0             0      0.09769  1736.964558  1736.866869   (0.09768954990431666, 1736.866868804209)\n",
       "1           1.0      24.8176    25.793912     0.976312   (24.817600093316287, 0.9763118202099577)\n",
       "2           2.0    25.265098    25.373509     0.108411   (25.26509810425341, 0.10841082443948835)\n",
       "3           1.0    27.316026    29.131761     1.815735   (27.316025694133714, 1.8157353904098272)\n",
       "4           1.0    31.672703    32.430688     0.757985   (31.672703143558465, 0.7579848918830976)\n",
       "5           1.0    38.242755    38.786929     0.544174    (38.24275545962155, 0.5441738014342263)\n",
       "..          ...          ...          ...          ...                                        ...\n",
       "654         1.0  1729.908086  1730.835983     0.927897   (1729.9080858069938, 0.9278971250168979)\n",
       "655         2.0  1729.908086  1730.146012     0.237926  (1729.9080858069938, 0.23792627814691514)\n",
       "656         2.0  1730.612526  1730.835983     0.223457  (1730.6125257663662, 0.22345716564450413)\n",
       "657         1.0  1733.765287  1734.001985     0.236697  (1733.7652870322345, 0.23669747868552804)\n",
       "658         1.0  1736.915253  1736.964558     0.049306  (1736.9152527793776, 0.04930557473562658)\n",
       "659         2.0  1736.915253  1736.964558     0.049306  (1736.9152527793776, 0.04930557473562658)\n",
       "\n",
       "[660 rows x 5 columns]), (37,     burst_level     t_start       t_end  t_duration                               interval_pair\n",
       "0             0    0.147855  483.159212  483.011357    (0.14785528427455574, 483.0113571782131)\n",
       "1           1.0    2.139739    2.245938    0.106199   (2.1397390643833205, 0.10619898559525609)\n",
       "2           2.0    2.180351    2.245938    0.065587   (2.1803508836310357, 0.06558716634754092)\n",
       "3           1.0    3.230759    3.280864    0.050104  (3.2307593058794737, 0.050104294321499765)\n",
       "4           1.0    3.405832    3.642131    0.236298    (3.405832496122457, 0.23629811906721443)\n",
       "5           1.0     4.10164    4.336003    0.234363   (4.1016401399392635, 0.23436276009306312)\n",
       "..          ...         ...         ...         ...                                         ...\n",
       "500         1.0  476.341772  476.707094    0.365322     (476.3417721129954, 0.3653220529668033)\n",
       "501         1.0  477.098958  477.151305    0.052347   (477.0989582851762, 0.052346853306517005)\n",
       "502         1.0   479.79946  479.927071    0.127611     (479.7994599426165, 0.1276108146412298)\n",
       "503         1.0  480.854046  481.429923    0.575877     (480.8540462827077, 0.5758768251398578)\n",
       "504         2.0  481.278904  481.317519    0.038615    (481.2789036651375, 0.03861502022482455)\n",
       "505         1.0   482.42949  482.930625    0.501135    (482.42948995600455, 0.5011351035209373)\n",
       "\n",
       "[506 rows x 5 columns]), (38,     burst_level      t_start        t_end   t_duration                               interval_pair\n",
       "0             0    47.382565  1715.045358  1667.662793     (47.38256518007256, 1667.6627928765956)\n",
       "1             1    47.382565    48.040802     0.658237      (47.38256518007256, 0.658237102907151)\n",
       "2             2    47.382565    48.040802     0.658237      (47.38256518007256, 0.658237102907151)\n",
       "3             3    47.382565    48.040802     0.658237      (47.38256518007256, 0.658237102907151)\n",
       "4             4    47.382565    48.040802     0.658237      (47.38256518007256, 0.658237102907151)\n",
       "5           5.0    47.712651    48.040802     0.328151     (47.71265141107142, 0.3281508719082922)\n",
       "..          ...          ...          ...          ...                                         ...\n",
       "199         4.0  1592.260438  1592.269132     0.008694  (1592.2604378826218, 0.008693755487911403)\n",
       "200         5.0  1592.260438  1592.269132     0.008694  (1592.2604378826218, 0.008693755487911403)\n",
       "201         6.0  1592.260438  1592.269132     0.008694  (1592.2604378826218, 0.008693755487911403)\n",
       "202         7.0  1592.260438  1592.269132     0.008694  (1592.2604378826218, 0.008693755487911403)\n",
       "203         8.0  1592.260438  1592.269132     0.008694  (1592.2604378826218, 0.008693755487911403)\n",
       "204         1.0  1675.178714  1676.506923     1.328209    (1675.1787135085324, 1.3282092398731038)\n",
       "\n",
       "[205 rows x 5 columns]), (39,     burst_level      t_start        t_end   t_duration                              interval_pair\n",
       "0             0     7.390829  1737.040314  1729.649485    (7.390828855801374, 1729.6494849794544)\n",
       "1           1.0    25.590761    26.523419     0.932659    (25.59076065744739, 0.9326587225077674)\n",
       "2           2.0    25.892922    26.294156     0.401234   (25.892922422848642, 0.4012337145395577)\n",
       "3           3.0      26.0938    26.294156     0.200356  (26.093800400034525, 0.20035573735367507)\n",
       "4           4.0      26.0938    26.125688     0.031887  (26.093800400034525, 0.03188734361901879)\n",
       "5           1.0    28.060248    28.704692     0.644444    (28.06024803314358, 0.6444438300095499)\n",
       "..          ...          ...          ...          ...                                        ...\n",
       "719         2.0  1716.290531  1716.327702     0.037171  (1716.2905311791692, 0.03717118105851114)\n",
       "720         1.0  1720.084879  1720.908851     0.823971    (1720.084879316506, 0.8239714180817828)\n",
       "721         1.0  1722.721637  1723.521831     0.800194   (1722.7216370063834, 0.8001941504189745)\n",
       "722         1.0  1726.936695  1730.412938     3.476243   (1726.9366953283316, 3.4762427002424374)\n",
       "723         2.0  1728.497486  1729.334052     0.836567    (1728.497485569329, 0.8365666115423664)\n",
       "724         1.0  1735.910033  1737.040314      1.13028   (1735.9100334540708, 1.1302803811850026)\n",
       "\n",
       "[725 rows x 5 columns]), (40,     burst_level      t_start        t_end   t_duration                               interval_pair\n",
       "0             0     5.544558  1736.938446  1731.393889     (5.544557801098563, 1731.3938885664102)\n",
       "1           1.0    28.368339    29.863603     1.495265     (28.368338755331933, 1.495264514349401)\n",
       "2           2.0    28.368339    29.072932     0.704594    (28.368338755331933, 0.7045935592614114)\n",
       "3           3.0    29.044731    29.072932     0.028201  (29.044731369125657, 0.028200945467688143)\n",
       "4           1.0    66.877713    67.389784     0.512071     (66.87771295860875, 0.5120714177610353)\n",
       "5           2.0    66.877713    67.389784     0.512071     (66.87771295860875, 0.5120714177610353)\n",
       "..          ...          ...          ...          ...                                         ...\n",
       "898         5.0  1693.977409  1694.006316     0.028908   (1693.977408523555, 0.028907505213283002)\n",
       "899         1.0  1721.981838  1722.018764     0.036925  (1721.9818383452948, 0.036925420979969203)\n",
       "900         2.0  1721.981838  1722.018764     0.036925  (1721.9818383452948, 0.036925420979969203)\n",
       "901         3.0  1721.981838  1722.018764     0.036925  (1721.9818383452948, 0.036925420979969203)\n",
       "902         4.0  1721.981838  1722.018764     0.036925  (1721.9818383452948, 0.036925420979969203)\n",
       "903         5.0  1721.981838  1722.018764     0.036925  (1721.9818383452948, 0.036925420979969203)\n",
       "\n",
       "[904 rows x 5 columns]), (41,     burst_level     t_start       t_end t_duration                              interval_pair\n",
       "0             0    0.019292  643.579032  643.55974  (0.019292150042019784, 643.5597396175144)\n",
       "1           1.0    3.043398    3.327251   0.283853  (3.0433981218375266, 0.28385265462566167)\n",
       "2           1.0    3.620995    3.828509   0.207513  (3.6209952658973634, 0.20751349383499473)\n",
       "3           1.0    4.587876    4.636967   0.049091  (4.5878760509658605, 0.04909053479786962)\n",
       "4           1.0    5.046249    5.305034   0.258785    (5.046248936210759, 0.2587851475691423)\n",
       "5           1.0    5.752409    5.816184   0.063775   (5.752409214619547, 0.06377468747086823)\n",
       "..          ...         ...         ...        ...                                        ...\n",
       "472         1.0  630.127549  630.294482   0.166932    (630.1275493745925, 0.1669323944952339)\n",
       "473         1.0  630.524298   630.56749   0.043192   (630.5242979715113, 0.04319229780230671)\n",
       "474         1.0  633.176446  633.231835   0.055388   (633.1764463735744, 0.05538813164457679)\n",
       "475         1.0  634.486807  634.640837    0.15403    (634.4868073026882, 0.1540300011401996)\n",
       "476         1.0  637.965385  638.155879   0.190495    (637.9653847216396, 0.1904946225695312)\n",
       "477         1.0  642.037257   642.23322   0.195963    (642.0372571968473, 0.1959627796895802)\n",
       "\n",
       "[478 rows x 5 columns]), (42,     burst_level      t_start        t_end   t_duration                              interval_pair\n",
       "0             0     0.100516  1736.994695  1736.894179   (0.10051578853745013, 1736.894178870134)\n",
       "1             1     0.100516     6.086182     5.985666  (0.10051578853745013, 5.9856660552322865)\n",
       "2           1.0     9.458253     9.749386     0.291133     (9.458253077347763, 0.291133290855214)\n",
       "3           1.0    10.400711     11.46476     1.064048   (10.400711474823765, 1.0640480951406062)\n",
       "4           1.0    12.812507    14.778125     1.965618    (12.812506719958037, 1.965618193615228)\n",
       "5           1.0    20.013056    21.271039     1.257983   (20.013055993244052, 1.2579833558993414)\n",
       "..          ...          ...          ...          ...                                        ...\n",
       "272         1.0  1642.858433  1643.160226     0.301793   (1642.8584330964368, 0.3017931254580617)\n",
       "273         1.0  1648.940591  1649.958497     1.017907    (1648.9405906223692, 1.017906678840518)\n",
       "274         1.0  1665.042102   1665.65518     0.613079   (1665.0421017383924, 0.6130787261063233)\n",
       "275         1.0   1667.80816  1668.498591     0.690432   (1667.8081598421559, 0.6904316465370357)\n",
       "276         1.0  1721.043619  1721.388574     0.344955   (1721.043619305594, 0.34495470335241407)\n",
       "277         1.0  1729.419147   1730.07124     0.652093    (1729.419146537315, 0.6520931061822921)\n",
       "\n",
       "[278 rows x 5 columns]), (43,     burst_level      t_start        t_end   t_duration                              interval_pair\n",
       "0             0     3.952802  1736.548978  1732.596177   (3.9528018161654472, 1732.5961765907705)\n",
       "1           1.0    62.816838    63.017102     0.200264   (62.81683823768981, 0.20026357739698142)\n",
       "2           2.0    62.816838    63.017102     0.200264   (62.81683823768981, 0.20026357739698142)\n",
       "3           3.0    62.816838    63.017102     0.200264   (62.81683823768981, 0.20026357739698142)\n",
       "4           1.0    70.266742    70.955914     0.689172     (70.2667416234035, 0.6891721271676943)\n",
       "5           2.0    70.266742    70.955914     0.689172     (70.2667416234035, 0.6891721271676943)\n",
       "..          ...          ...          ...          ...                                        ...\n",
       "428         2.0  1714.307771  1714.424814     0.117043  (1714.3077712343074, 0.11704314011149108)\n",
       "429         1.0   1717.30641  1717.417893     0.111483  (1717.3064103390789, 0.11148282291833311)\n",
       "430         2.0   1717.30641  1717.417893     0.111483  (1717.3064103390789, 0.11148282291833311)\n",
       "431         1.0  1725.286879    1725.5472     0.260321  (1725.2868785731262, 0.26032114669214934)\n",
       "432         1.0  1729.903939  1730.834385     0.930447    (1729.903938609059, 0.9304468836635351)\n",
       "433         1.0  1735.945484  1736.548978     0.603494     (1735.94548431586, 0.6034940910758451)\n",
       "\n",
       "[434 rows x 5 columns]), (44,     burst_level      t_start        t_end   t_duration                             interval_pair\n",
       "0             0     0.165581  1732.646588  1732.481007  (0.1655807151691988, 1732.4810073697008)\n",
       "1           1.0    32.406696    33.613622     1.206927   (32.40669572772458, 1.2069267421029508)\n",
       "2           1.0    47.272711    48.995026     1.722316  (47.272710516350344, 1.7223159181885421)\n",
       "3           2.0    47.272711    48.361427     1.088716  (47.272710516350344, 1.0887162424623966)\n",
       "4           3.0    47.272711    47.847574     0.574863  (47.272710516350344, 0.5748630656162277)\n",
       "5           4.0    47.272711    47.847574     0.574863  (47.272710516350344, 0.5748630656162277)\n",
       "..          ...          ...          ...          ...                                       ...\n",
       "279         4.0  1608.340445  1608.376049     0.035604  (1608.3404450096423, 0.0356044617947191)\n",
       "280         5.0  1608.340445  1608.376049     0.035604  (1608.3404450096423, 0.0356044617947191)\n",
       "281         1.0  1622.763754  1627.548207     4.784453   (1622.7637541049626, 4.784453230327927)\n",
       "282         1.0    1649.5008  1654.203323     4.702523   (1649.5008002555696, 4.702523032203317)\n",
       "283         2.0    1649.5008  1651.664317     2.163516  (1649.5008002555696, 2.1635163322789595)\n",
       "284         3.0  1649.938007  1650.532347      0.59434  (1649.9380070717307, 0.5943395356880501)\n",
       "\n",
       "[285 rows x 5 columns]), (45,     burst_level      t_start        t_end   t_duration                               interval_pair\n",
       "0             0     8.360782  1735.016727  1726.655945        (8.3607816392323, 1726.655945392209)\n",
       "1           1.0    23.759757    31.686097      7.92634     (23.759757435065694, 7.926339621655643)\n",
       "2           2.0    23.759757    31.686097      7.92634     (23.759757435065694, 7.926339621655643)\n",
       "3           3.0    23.759757    24.141054     0.381296   (23.759757435065694, 0.38129644468426704)\n",
       "4           4.0    23.759757    24.141054     0.381296   (23.759757435065694, 0.38129644468426704)\n",
       "5           3.0    31.657958    31.686097      0.02814  (31.657957551069558, 0.028139505651779473)\n",
       "..          ...          ...          ...          ...                                         ...\n",
       "245         1.0  1702.192301  1712.036028     9.843727     (1702.1923009575112, 9.843727439991198)\n",
       "246         2.0  1702.192301  1702.321294     0.128993   (1702.1923009575112, 0.12899321399163455)\n",
       "247         3.0  1702.192301  1702.321294     0.128993   (1702.1923009575112, 0.12899321399163455)\n",
       "248         4.0  1702.192301  1702.321294     0.128993   (1702.1923009575112, 0.12899321399163455)\n",
       "249         5.0  1702.192301  1702.321294     0.128993   (1702.1923009575112, 0.12899321399163455)\n",
       "250         6.0  1702.192301  1702.321294     0.128993   (1702.1923009575112, 0.12899321399163455)\n",
       "\n",
       "[251 rows x 5 columns]), (46,     burst_level      t_start        t_end   t_duration                              interval_pair\n",
       "0             0     0.169759  1737.094627  1736.924868   (0.16975863301195204, 1736.924868134549)\n",
       "1           1.0     9.333929     9.713137     0.379207     (9.33392930100672, 0.3792074858210981)\n",
       "2           1.0    22.808329    22.935571     0.127242   (22.808328802115284, 0.1272421748144552)\n",
       "3           2.0    22.808329    22.845469      0.03714  (22.808328802115284, 0.03714046091772616)\n",
       "4           1.0    24.817446    30.497817     5.680371    (24.817446493310854, 5.680370851769112)\n",
       "5           1.0    31.579284     31.89616     0.316877   (31.57928367133718, 0.31687663786578923)\n",
       "..          ...          ...          ...          ...                                        ...\n",
       "404         1.0   1713.58235  1714.008897     0.426547    (1713.582349525881, 0.4265469815582037)\n",
       "405         1.0  1716.699107  1717.422931     0.723824   (1716.6991069701035, 0.7238242693711072)\n",
       "406         1.0  1720.678973  1721.219583      0.54061    (1720.6789730923483, 0.540610283263959)\n",
       "407         2.0  1720.785756  1721.078702     0.292946  (1720.7857557575917, 0.29294577008113265)\n",
       "408         1.0  1723.161424  1724.076696     0.915271   (1723.1614243013319, 0.9152712112991139)\n",
       "409         1.0  1736.527198  1736.669278      0.14208  (1736.5271979380632, 0.14207992726005614)\n",
       "\n",
       "[410 rows x 5 columns]), (47,     burst_level      t_start        t_end  t_duration                               interval_pair\n",
       "0             0     3.571751  1733.173221  1729.60147      (3.571751131210476, 1729.601469643996)\n",
       "1           1.0     34.53215    36.280455    1.748305      (34.53214999951888, 1.748305024811998)\n",
       "2           2.0     34.53215    36.280455    1.748305      (34.53214999951888, 1.748305024811998)\n",
       "3           1.0   102.175497   102.204558    0.029061  (102.17549712606706, 0.029061105218715966)\n",
       "4           2.0   102.175497   102.204558    0.029061  (102.17549712606706, 0.029061105218715966)\n",
       "5           3.0   102.175497   102.204558    0.029061  (102.17549712606706, 0.029061105218715966)\n",
       "..          ...          ...          ...         ...                                         ...\n",
       "372         4.0   1673.60499  1673.614114    0.009124   (1673.604990154272, 0.009123835363425314)\n",
       "373         5.0   1673.60499  1673.614114    0.009124   (1673.604990154272, 0.009123835363425314)\n",
       "374         6.0   1673.60499  1673.614114    0.009124   (1673.604990154272, 0.009123835363425314)\n",
       "375         1.0  1703.050372   1705.12523    2.074858     (1703.0503715581726, 2.074858457664959)\n",
       "376         1.0  1718.941727  1719.397643    0.455915   (1718.9417272617575, 0.45591528667137027)\n",
       "377         2.0  1718.941727  1719.397643    0.455915   (1718.9417272617575, 0.45591528667137027)\n",
       "\n",
       "[378 rows x 5 columns]), (48,     burst_level      t_start        t_end   t_duration                              interval_pair\n",
       "0             0     8.936198  1732.638847  1723.702649     (8.93619766458869, 1723.7026489842683)\n",
       "1           1.0    46.159971    47.823336     1.663364     (46.15997124603018, 1.663364268373698)\n",
       "2           2.0    46.159971    47.823336     1.663364     (46.15997124603018, 1.663364268373698)\n",
       "3           3.0    47.019731    47.823336     0.803604    (47.01973144582007, 0.8036040685838088)\n",
       "4           4.0    47.019731    47.486214     0.466483     (47.01973144582007, 0.466482961201109)\n",
       "5           1.0    67.001545    67.015031     0.013486  (67.00154521514196, 0.013486073119565845)\n",
       "..          ...          ...          ...          ...                                        ...\n",
       "272         5.0  1649.925719   1650.15701     0.231291  (1649.9257190779317, 0.23129076161421835)\n",
       "273         6.0  1650.122419   1650.15701     0.034591  (1650.1224191372748, 0.03459070227108896)\n",
       "274         1.0  1707.855284  1707.868985     0.013701   (1707.8552842980716, 0.0137011130573228)\n",
       "275         2.0  1707.855284  1707.868985     0.013701   (1707.8552842980716, 0.0137011130573228)\n",
       "276         1.0  1730.662937  1732.638847     1.975909    (1730.662937260582, 1.9759093882748857)\n",
       "277         2.0  1732.623272  1732.638847     0.015575   (1732.6232716168743, 0.0155750319827348)\n",
       "\n",
       "[278 rows x 5 columns]), (49,     burst_level     t_start       t_end  t_duration                               interval_pair\n",
       "0             0    0.005437  468.959422  468.953985   (0.005437437212094665, 468.9539845355321)\n",
       "1           1.0    1.970472    2.303292     0.33282    (1.9704719511792064, 0.3328203095588833)\n",
       "2           1.0    3.220437    3.641946    0.421509     (3.220437391079031, 0.4215089041972533)\n",
       "3           1.0    3.764396    4.221786     0.45739     (3.7643961525755003, 0.457389845745638)\n",
       "4           2.0    4.066159    4.119273    0.053115   (4.066158558009192, 0.053114852868020535)\n",
       "5           1.0    4.393111    4.570489    0.177377    (4.393111350713298, 0.17737718916032463)\n",
       "..          ...         ...         ...         ...                                         ...\n",
       "373         1.0  465.656686  465.701322    0.044636  (465.65668574371375, 0.044636137201450765)\n",
       "374         1.0  465.787369  465.948864    0.161495    (465.7873685568338, 0.16149495728313923)\n",
       "375         1.0  466.609374   467.07512    0.465746     (466.6093738959171, 0.4657456815475598)\n",
       "376         1.0   467.26457  467.303891    0.039322   (467.2645697204862, 0.039321579854004085)\n",
       "377         1.0  468.464001  468.839338    0.375337    (468.4640007863054, 0.37533676787279546)\n",
       "378         1.0   468.90901  468.959422    0.050411   (468.90901047864463, 0.05041149409953505)\n",
       "\n",
       "[379 rows x 5 columns]), (50,     burst_level      t_start        t_end   t_duration                              interval_pair\n",
       "0             0     0.053791  1736.973314  1736.919523  (0.053790692472830415, 1736.919522857177)\n",
       "1           1.0     3.416154     5.481643     2.065489    (3.4161544108064845, 2.065488862572238)\n",
       "2           2.0     4.428439     4.699021     0.270582    (4.428439332637936, 0.2705816214438528)\n",
       "3           1.0    24.179669    27.578528     3.398859   (24.179668899974786, 3.3988590597873554)\n",
       "4           2.0    24.529662     25.26605     0.736389    (24.52966168068815, 0.7363887430401519)\n",
       "5           3.0    24.529662    24.769462       0.2398   (24.52966168068815, 0.23980019730515778)\n",
       "..          ...          ...          ...          ...                                        ...\n",
       "322         1.0  1648.257562  1651.150003      2.89244    (1648.2575624921592, 2.892440118943341)\n",
       "323         2.0   1650.64813  1651.101834     0.453703   (1650.6481302281609, 0.4537034477107227)\n",
       "324         1.0  1657.514907  1658.281401     0.766494    (1657.5149068722967, 0.766494327574037)\n",
       "325         1.0  1659.076527  1663.792536     4.716009    (1659.076526552788, 4.7160091053228825)\n",
       "326         1.0  1665.250598  1666.206021     0.955422   (1665.2505982717266, 0.9554222307633609)\n",
       "327         1.0  1728.948332  1729.279156     0.330824    (1728.9483320583822, 0.330823510652408)\n",
       "\n",
       "[328 rows x 5 columns]), (51,     burst_level      t_start        t_end   t_duration                              interval_pair\n",
       "0             0     2.096823  1735.839347  1733.742524    (2.0968232464510947, 1733.742523523746)\n",
       "1           1.0     3.212727      4.10631     0.893583   (3.2127266749739647, 0.8935829024994746)\n",
       "2           2.0     3.212727     3.811613     0.598886   (3.2127266749739647, 0.5988860933575779)\n",
       "3           1.0    41.438832    43.515718     2.076886    (41.43883190327324, 2.0768859767122194)\n",
       "4           2.0    41.438832    43.515718     2.076886    (41.43883190327324, 2.0768859767122194)\n",
       "5           3.0    42.802154    43.515718     0.713564    (42.80215408524964, 0.7135637947358191)\n",
       "..          ...          ...          ...          ...                                        ...\n",
       "526         2.0  1651.471457  1651.640017     0.168561  (1651.4714565265458, 0.16856055369134992)\n",
       "527         1.0  1653.882699  1654.773394     0.890695     (1653.88269881194, 0.8906952240504324)\n",
       "528         1.0  1689.464796  1689.505869     0.041073   (1689.4647964340402, 0.0410726189147681)\n",
       "529         2.0  1689.464796  1689.505869     0.041073   (1689.4647964340402, 0.0410726189147681)\n",
       "530         3.0  1689.464796  1689.505869     0.041073   (1689.4647964340402, 0.0410726189147681)\n",
       "531         4.0  1689.464796  1689.505869     0.041073   (1689.4647964340402, 0.0410726189147681)\n",
       "\n",
       "[532 rows x 5 columns]), (52,     burst_level      t_start        t_end   t_duration                               interval_pair\n",
       "0             0     8.484798  1736.933931  1728.449132     (8.484798215795308, 1728.4491323139518)\n",
       "1             1     8.484798     9.380132     0.895334     (8.484798215795308, 0.8953339415602386)\n",
       "2           1.0    24.320889    26.140986     1.820098    (24.320888667716645, 1.8200976280495524)\n",
       "3           2.0    24.320889    25.960261     1.639372     (24.320888667716645, 1.639371960540302)\n",
       "4           3.0    24.407335    25.876334     1.468999    (24.407334703486413, 1.4689989278558642)\n",
       "5           4.0    24.474857    24.590856     0.115999    (24.474857228808105, 0.1159986606799066)\n",
       "..          ...          ...          ...          ...                                         ...\n",
       "535         3.0  1699.245824  1699.259372     0.013548  (1699.2458243860165, 0.013547513051889837)\n",
       "536         4.0  1699.245824  1699.259372     0.013548  (1699.2458243860165, 0.013547513051889837)\n",
       "537         1.0  1711.333401  1712.469825     1.136424     (1711.333400917356, 1.1364243780262768)\n",
       "538         1.0  1722.820033  1722.845531     0.025498  (1722.8200331160333, 0.025497587048448622)\n",
       "539         2.0  1722.820033  1722.845531     0.025498  (1722.8200331160333, 0.025497587048448622)\n",
       "540         3.0  1722.820033  1722.845531     0.025498  (1722.8200331160333, 0.025497587048448622)\n",
       "\n",
       "[541 rows x 5 columns]), (53,     burst_level      t_start        t_end   t_duration                               interval_pair\n",
       "0             0     2.748855  1736.549593  1733.800738    (2.7488549125846475, 1733.8007378940238)\n",
       "1           1.0    26.137423    27.725124     1.587701     (26.13742277759593, 1.5877009470714256)\n",
       "2           2.0    26.137423    27.725124     1.587701     (26.13742277759593, 1.5877009470714256)\n",
       "3           1.0    33.119338    34.092762     0.973424     (33.11933792277705, 0.9734241416445002)\n",
       "4           1.0    44.466962    45.001981     0.535019     (44.46696219278965, 0.5350192461628467)\n",
       "5           2.0    44.466962    45.001981     0.535019     (44.46696219278965, 0.5350192461628467)\n",
       "..          ...          ...          ...          ...                                         ...\n",
       "378         1.0   1716.68089  1717.776457     1.095567     (1716.680890019401, 1.0955667990492657)\n",
       "379         2.0   1716.68089  1717.776457     1.095567     (1716.680890019401, 1.0955667990492657)\n",
       "380         3.0  1717.717689  1717.776457     0.058767  (1717.7176894884324, 0.058767330017872155)\n",
       "381         1.0  1724.849979  1727.848557     2.998578     (1724.8499789567431, 2.998577664839104)\n",
       "382         1.0  1736.393167  1736.549593     0.156426   (1736.3931666467106, 0.15642615989781916)\n",
       "383         2.0  1736.393167  1736.549593     0.156426   (1736.3931666467106, 0.15642615989781916)\n",
       "\n",
       "[384 rows x 5 columns]), (54,     burst_level      t_start        t_end   t_duration                              interval_pair\n",
       "0             0      1.48442  1736.951687  1735.467266    (1.4844203599495813, 1735.467266320833)\n",
       "1           1.0     6.030149     6.428218      0.39807   (6.030148592428304, 0.39806955633684993)\n",
       "2           2.0     6.030149     6.055585     0.025436  (6.030148592428304, 0.025436146999709308)\n",
       "3           3.0     6.030149     6.055585     0.025436  (6.030148592428304, 0.025436146999709308)\n",
       "4           1.0    29.280231    34.072733     4.792502    (29.280230768490583, 4.792501866235398)\n",
       "5           2.0    32.048009    32.098083     0.050074   (32.04800919140689, 0.05007357429713011)\n",
       "..          ...          ...          ...          ...                                        ...\n",
       "394         1.0  1706.145871  1706.606793     0.460923  (1706.1458707732381, 0.46092264412436634)\n",
       "395         2.0  1706.145871  1706.423211      0.27734  (1706.1458707732381, 0.27734001795761287)\n",
       "396         1.0  1714.359565  1714.547541     0.187976  (1714.3595651278738, 0.18797558371443301)\n",
       "397         2.0  1714.359565  1714.547541     0.187976  (1714.3595651278738, 0.18797558371443301)\n",
       "398         1.0  1721.633197  1721.999502     0.366305   (1721.6331972436747, 0.3663050925824791)\n",
       "399         1.0  1725.555494  1725.893813     0.338319  (1725.5554941155715, 0.33831918670330197)\n",
       "\n",
       "[400 rows x 5 columns]), (55,     burst_level      t_start        t_end   t_duration                              interval_pair\n",
       "0             0    40.690462  1716.096811  1675.406349    (40.69046236644499, 1675.4063485919032)\n",
       "1             1    40.690462    40.697528     0.007066  (40.69046236644499, 0.007065596408210695)\n",
       "2             2    40.690462    40.697528     0.007066  (40.69046236644499, 0.007065596408210695)\n",
       "3             3    40.690462    40.697528     0.007066  (40.69046236644499, 0.007065596408210695)\n",
       "4             4    40.690462    40.697528     0.007066  (40.69046236644499, 0.007065596408210695)\n",
       "5             5    40.690462    40.697528     0.007066  (40.69046236644499, 0.007065596408210695)\n",
       "..          ...          ...          ...          ...                                        ...\n",
       "195         3.0  1716.080806  1716.096811     0.016005  (1716.0808058466064, 0.01600511174183339)\n",
       "196         4.0  1716.080806  1716.096811     0.016005  (1716.0808058466064, 0.01600511174183339)\n",
       "197         5.0  1716.080806  1716.096811     0.016005  (1716.0808058466064, 0.01600511174183339)\n",
       "198         6.0  1716.080806  1716.096811     0.016005  (1716.0808058466064, 0.01600511174183339)\n",
       "199         7.0  1716.080806  1716.096811     0.016005  (1716.0808058466064, 0.01600511174183339)\n",
       "200         8.0  1716.080806  1716.096811     0.016005  (1716.0808058466064, 0.01600511174183339)\n",
       "\n",
       "[201 rows x 5 columns]), (56,     burst_level      t_start        t_end   t_duration                              interval_pair\n",
       "0             0     7.779222  1734.991475  1727.212254    (7.779221617034636, 1727.2122535873204)\n",
       "1           1.0     48.53524    58.083503     9.548263     (48.53524042991921, 9.548262631287798)\n",
       "2           2.0     48.53524    50.892323     2.357083      (48.53524042991921, 2.35708295321092)\n",
       "3           2.0    53.382885    58.083503     4.700618    (53.382884667953476, 4.700618393253535)\n",
       "4           1.0    60.596705    60.850237     0.253532     (60.5967049744213, 0.2535320301540196)\n",
       "5           1.0    88.833777   100.889743    12.055966    (88.83377723698504, 12.055965667357668)\n",
       "..          ...          ...          ...          ...                                        ...\n",
       "248         1.0  1624.251093  1627.933805     3.682712    (1624.2510928633856, 3.682711714413017)\n",
       "249         1.0  1634.877289  1635.090271     0.212982  (1634.8772890227847, 0.21298165095504373)\n",
       "250         2.0  1634.877289  1635.090271     0.212982  (1634.8772890227847, 0.21298165095504373)\n",
       "251         1.0  1651.387745  1654.169839     2.782094   (1651.3877445694525, 2.7820939355297014)\n",
       "252         2.0  1651.387745   1652.39705     1.009305    (1651.3877445694525, 1.009305083192885)\n",
       "253         1.0   1661.56976  1662.025676     0.455915   (1661.569760476239, 0.45591528655495495)\n",
       "\n",
       "[254 rows x 5 columns]), (57,     burst_level      t_start        t_end  t_duration                               interval_pair\n",
       "0             0    22.784705  1736.690475  1713.90577      (22.784705134225078, 1713.90576952009)\n",
       "1           1.0    26.556443    28.161593     1.60515     (26.55644336307887, 1.6051498980959877)\n",
       "2           2.0    26.766814    27.819342    1.052528    (26.766813815338537, 1.0525281011359766)\n",
       "3           3.0    27.084919    27.706385    0.621465    (27.084919252549298, 0.6214652816997841)\n",
       "4           1.0    33.271801    36.142707    2.870905     (33.27180120476987, 2.8709054101491347)\n",
       "5           2.0    33.599583    34.300798    0.701214    (33.599583436967805, 0.7012143610045314)\n",
       "..          ...          ...          ...         ...                                         ...\n",
       "499         2.0  1733.173436  1733.742954    0.569518     (1733.1734358151443, 0.569517788477242)\n",
       "500         3.0   1733.70953  1733.742954    0.033423  (1733.7095302606467, 0.033423342974856496)\n",
       "501         1.0  1735.487972  1735.504745    0.016773   (1735.4879715901334, 0.01677311130333692)\n",
       "502         2.0  1735.487972  1735.504745    0.016773   (1735.4879715901334, 0.01677311130333692)\n",
       "503         3.0  1735.487972  1735.504745    0.016773   (1735.4879715901334, 0.01677311130333692)\n",
       "504         4.0  1735.487972  1735.504745    0.016773   (1735.4879715901334, 0.01677311130333692)\n",
       "\n",
       "[505 rows x 5 columns]), (58,     burst_level      t_start        t_end   t_duration                              interval_pair\n",
       "0             0     3.832011   1735.03476  1731.202749   (3.8320108379703015, 1731.2027488242602)\n",
       "1           1.0    15.056878    23.806728      8.74985    (15.056878050905652, 8.749850240070373)\n",
       "2           2.0    15.056878    23.806728      8.74985    (15.056878050905652, 8.749850240070373)\n",
       "3           3.0    15.056878      20.3452     5.288322    (15.056878050905652, 5.288322412292473)\n",
       "4           4.0    15.056878      20.3452     5.288322    (15.056878050905652, 5.288322412292473)\n",
       "5           5.0    15.056878     15.83864     0.781762   (15.056878050905652, 0.7817621596623212)\n",
       "..          ...          ...          ...          ...                                        ...\n",
       "384         2.0  1729.929283  1731.173503     1.244221      (1729.929282596102, 1.24422080302611)\n",
       "385         3.0  1729.929283   1729.96587     0.036588   (1729.929282596102, 0.03658750141039491)\n",
       "386         4.0  1729.929283   1729.96587     0.036588   (1729.929282596102, 0.03658750141039491)\n",
       "387         5.0  1729.929283   1729.96587     0.036588   (1729.929282596102, 0.03658750141039491)\n",
       "388         6.0  1729.929283   1729.96587     0.036588   (1729.929282596102, 0.03658750141039491)\n",
       "389         7.0  1729.953797   1729.96587     0.012073  (1729.9537971436512, 0.01207295386120677)\n",
       "\n",
       "[390 rows x 5 columns]), (59,     burst_level      t_start        t_end   t_duration                               interval_pair\n",
       "0             0     4.015686  1735.777968  1731.762283      (4.015685623977333, 1731.762282617623)\n",
       "1           1.0    25.682214     32.91247     7.230255     (25.682214050670154, 7.230255498085171)\n",
       "2           2.0    27.973372     32.91247     4.939098     (27.973371917498298, 4.939097631257027)\n",
       "3           3.0    27.973372    28.619321     0.645949    (27.973371917498298, 0.6459491093410179)\n",
       "4           4.0    28.267516    28.619321     0.351805    (28.267515767016448, 0.3518052598228678)\n",
       "5           3.0    30.982978    31.043435     0.060457  (30.982978056767024, 0.060456928913481534)\n",
       "..          ...          ...          ...          ...                                         ...\n",
       "328         5.0   1722.02414  1722.061403     0.037263   (1722.024139763671, 0.037263340898789465)\n",
       "329         1.0  1729.062549  1730.264438     1.201889    (1729.0625489598606, 1.2018886647420004)\n",
       "330         2.0  1729.062549  1729.846277     0.783728    (1729.0625489598606, 0.7837282387772575)\n",
       "331         3.0  1729.062549  1729.846277     0.783728    (1729.0625489598606, 0.7837282387772575)\n",
       "332         4.0  1729.208223  1729.562425     0.354201    (1729.2082231253153, 0.3542014186969027)\n",
       "333         5.0  1729.208223  1729.562425     0.354201    (1729.2082231253153, 0.3542014186969027)\n",
       "\n",
       "[334 rows x 5 columns]), (60,     burst_level      t_start        t_end   t_duration                               interval_pair\n",
       "0             0      4.49375  1736.929077  1732.435327     (4.493750019115396, 1732.4353267531842)\n",
       "1           1.0    69.829412    71.094277     1.264865      (69.8294119273778, 1.2648646322777495)\n",
       "2           2.0    70.149606    70.740505     0.590899      (70.14960632333532, 0.590898897498846)\n",
       "3           3.0    70.149606    70.740505     0.590899      (70.14960632333532, 0.590898897498846)\n",
       "4           4.0    70.250675    70.651632     0.400957    (70.25067507161293, 0.40095723478589207)\n",
       "5           5.0    70.367626    70.651632     0.284006    (70.36762605176773, 0.28400625463109463)\n",
       "..          ...          ...          ...          ...                                         ...\n",
       "473         6.0  1733.820153  1733.833608     0.013455  (1733.8201529240469, 0.013455353095196187)\n",
       "474         2.0  1734.979863  1735.025052     0.045189   (1734.9798630502773, 0.04518909694161266)\n",
       "475         3.0  1734.979863  1735.025052     0.045189   (1734.9798630502773, 0.04518909694161266)\n",
       "476         4.0  1734.979863  1735.025052     0.045189   (1734.9798630502773, 0.04518909694161266)\n",
       "477         5.0  1734.979863  1735.025052     0.045189   (1734.9798630502773, 0.04518909694161266)\n",
       "478         6.0  1734.979863  1735.025052     0.045189   (1734.9798630502773, 0.04518909694161266)\n",
       "\n",
       "[479 rows x 5 columns]), (61,     burst_level      t_start        t_end   t_duration                              interval_pair\n",
       "0             0     3.483708  1736.055554  1732.571846    (3.4837076562689617, 1732.571846363251)\n",
       "1           1.0     7.381644    12.529053      5.14741      (7.381643580505624, 5.14740984456148)\n",
       "2           2.0     7.381644     7.590324     0.208681    (7.381643580505624, 0.2086808531312272)\n",
       "3           3.0     7.381644     7.590324     0.208681    (7.381643580505624, 0.2086808531312272)\n",
       "4           4.0     7.455556     7.590324     0.134769   (7.455555862747133, 0.13476857088971883)\n",
       "5           5.0     7.455556     7.590324     0.134769   (7.455555862747133, 0.13476857088971883)\n",
       "..          ...          ...          ...          ...                                        ...\n",
       "401         1.0  1702.659091  1705.072637     2.413546    (1702.6590911184903, 2.413546284311451)\n",
       "402         2.0  1702.659091  1702.796594     0.137503  (1702.6590911184903, 0.13750264968257397)\n",
       "403         1.0  1709.300997  1710.151142     0.850145   (1709.3009974778397, 0.8501448447350413)\n",
       "404         1.0   1717.86447   1723.95996      6.09549    (1717.8644695733674, 6.095489999046549)\n",
       "405         2.0  1723.174112  1723.616111     0.441999   (1723.1741116548656, 0.4419991336762905)\n",
       "406         1.0  1727.208168  1729.944581     2.736413    (1727.2081678294344, 2.736413318780251)\n",
       "\n",
       "[407 rows x 5 columns]), (62,     burst_level      t_start        t_end   t_duration                               interval_pair\n",
       "0             0       2.0967  1736.958814  1734.862113      (2.096700366353616, 1734.862113350653)\n",
       "1           1.0    36.856762    36.907173     0.050411    (36.85676192922983, 0.05041149433236569)\n",
       "2           2.0    36.856762    36.907173     0.050411    (36.85676192922983, 0.05041149433236569)\n",
       "3           3.0    36.856762    36.907173     0.050411    (36.85676192922983, 0.05041149433236569)\n",
       "4           4.0    36.856762    36.907173     0.050411    (36.85676192922983, 0.05041149433236569)\n",
       "5           5.0    36.856762    36.907173     0.050411    (36.85676192922983, 0.05041149433236569)\n",
       "..          ...          ...          ...          ...                                         ...\n",
       "248         6.0  1726.009136  1726.033651     0.024515  (1726.0091361232335, 0.024514547549188137)\n",
       "249         1.0  1733.121734  1736.958814      3.83708     (1733.121734081651, 3.8370796353556216)\n",
       "250         2.0  1735.218189  1735.324726     0.106537    (1735.218188688159, 0.10653690551407635)\n",
       "251         3.0  1735.218189  1735.324726     0.106537    (1735.218188688159, 0.10653690551407635)\n",
       "252         4.0  1735.218189  1735.324726     0.106537    (1735.218188688159, 0.10653690551407635)\n",
       "253         5.0  1735.218189  1735.324726     0.106537    (1735.218188688159, 0.10653690551407635)\n",
       "\n",
       "[254 rows x 5 columns]), (63,     burst_level      t_start        t_end   t_duration                               interval_pair\n",
       "0             0     9.193969  1714.028465  1704.834496      (9.193969052634202, 1704.834496084717)\n",
       "1           1.0    27.100709    28.855896     1.755186      (27.10070932446979, 1.755186301190406)\n",
       "2           2.0    27.100709    28.855896     1.755186      (27.10070932446979, 1.755186301190406)\n",
       "3           1.0    38.237441    46.629833     8.392393      (38.23744090239052, 8.392392503097653)\n",
       "4           2.0    38.237441    39.569244     1.331803     (38.23744090239052, 1.3318034780677408)\n",
       "5           3.0    38.237441    38.944676     0.707235     (38.23744090239052, 0.7072354779811576)\n",
       "..          ...          ...          ...          ...                                         ...\n",
       "295         6.0  1706.315261  1706.327979     0.012718  (1706.3152607665397, 0.012718073558062315)\n",
       "296         1.0  1714.010371  1714.028465     0.018094    (1714.01037106663, 0.018094070721417665)\n",
       "297         2.0  1714.010371  1714.028465     0.018094    (1714.01037106663, 0.018094070721417665)\n",
       "298         3.0  1714.010371  1714.028465     0.018094    (1714.01037106663, 0.018094070721417665)\n",
       "299         4.0  1714.010371  1714.028465     0.018094    (1714.01037106663, 0.018094070721417665)\n",
       "300         5.0  1714.010371  1714.028465     0.018094    (1714.01037106663, 0.018094070721417665)\n",
       "\n",
       "[301 rows x 5 columns]), (64,     burst_level     t_start       t_end  t_duration                              interval_pair\n",
       "0             0    0.006758  531.319147  531.312388  (0.006758396397344768, 531.3123884481611)\n",
       "1           1.0    1.386854    1.583584    0.196731  (1.3868536899099126, 0.19673077925108373)\n",
       "2           1.0    2.483956    2.865038    0.381081  (2.4839564880821854, 0.38108140497934073)\n",
       "3           1.0    3.564778    4.131592    0.566814    (3.564777694758959, 0.5668144298251718)\n",
       "4           2.0     3.77183    3.925891    0.154061  (3.7718303886940703, 0.15406072128098458)\n",
       "5           1.0    4.977436    5.367027    0.389591   (4.977436171495356, 0.38959084055386484)\n",
       "..          ...         ...         ...         ...                                        ...\n",
       "307         1.0  522.483281  522.561402    0.078121   (522.4832806484774, 0.07812092010863125)\n",
       "308         1.0  526.560928    526.6173    0.056371   (526.5609284808161, 0.05637117114383727)\n",
       "309         1.0  527.853963  528.129061    0.275097    (527.8539633386536, 0.2750974593218416)\n",
       "310         2.0  528.076929  528.129061    0.052132   (528.0769289846066, 0.05213181336876005)\n",
       "311         1.0  528.423573  529.417273    0.993699    (528.4235732870875, 0.9936993313021958)\n",
       "312         1.0  530.355215  530.681615      0.3264   (530.3552151781041, 0.32639983284752816)\n",
       "\n",
       "[313 rows x 5 columns]), (65,     burst_level      t_start        t_end   t_duration                              interval_pair\n",
       "0             0     2.411826  1737.182302  1734.770476     (2.411825965042226, 1734.770475637517)\n",
       "1           1.0       4.0214     7.499731     3.478332    (4.021399540943094, 3.4783316592220217)\n",
       "2           2.0     7.487228     7.499731     0.012503  (7.487228166428395, 0.012503033736720681)\n",
       "3           3.0     7.487228     7.499731     0.012503  (7.487228166428395, 0.012503033736720681)\n",
       "4           4.0     7.487228     7.499731     0.012503  (7.487228166428395, 0.012503033736720681)\n",
       "5           1.0     8.514842    10.571637     2.056795     (8.514842360280454, 2.056795106967911)\n",
       "..          ...          ...          ...          ...                                        ...\n",
       "459         1.0   1720.14036  1720.163215     0.022856  (1720.1403596081072, 0.02285566832870245)\n",
       "460         2.0   1720.14036  1720.163215     0.022856  (1720.1403596081072, 0.02285566832870245)\n",
       "461         3.0   1720.14036  1720.163215     0.022856  (1720.1403596081072, 0.02285566832870245)\n",
       "462         1.0  1731.131171   1731.83598     0.704809    (1731.131171260844, 0.7048085990827531)\n",
       "463         2.0  1731.779578   1731.83598     0.056402   (1731.779577968875, 0.05640189105179161)\n",
       "464         3.0  1731.779578   1731.83598     0.056402   (1731.779577968875, 0.05640189105179161)\n",
       "\n",
       "[465 rows x 5 columns]), (66,     burst_level      t_start        t_end   t_duration                              interval_pair\n",
       "0             0     4.592238  1714.005917  1709.413678     (4.592238288722001, 1709.413678380195)\n",
       "1           1.0    46.796213    47.180428     0.384215   (46.79621284024324, 0.38421484327409416)\n",
       "2           2.0    46.796213    47.180428     0.384215   (46.79621284024324, 0.38421484327409416)\n",
       "3           3.0    46.796213    47.180428     0.384215   (46.79621284024324, 0.38421484327409416)\n",
       "4           4.0    46.796213    47.180428     0.384215   (46.79621284024324, 0.38421484327409416)\n",
       "5           5.0    46.796213    47.180428     0.384215   (46.79621284024324, 0.38421484327409416)\n",
       "..          ...          ...          ...          ...                                        ...\n",
       "345         1.0  1705.564925  1705.573711     0.008786  (1705.564925150713, 0.008785915561020374)\n",
       "346         2.0  1705.564925  1705.573711     0.008786  (1705.564925150713, 0.008785915561020374)\n",
       "347         3.0  1705.564925  1705.573711     0.008786  (1705.564925150713, 0.008785915561020374)\n",
       "348         4.0  1705.564925  1705.573711     0.008786  (1705.564925150713, 0.008785915561020374)\n",
       "349         5.0  1705.564925  1705.573711     0.008786  (1705.564925150713, 0.008785915561020374)\n",
       "350         6.0  1705.564925  1705.573711     0.008786  (1705.564925150713, 0.008785915561020374)\n",
       "\n",
       "[351 rows x 5 columns]), (67,     burst_level      t_start        t_end   t_duration                              interval_pair\n",
       "0             0    26.141478  1736.892796  1710.751319    (26.14147781545762, 1710.7513186554424)\n",
       "1           1.0    28.050602    28.265427     0.214825   (28.050601958064362, 0.2148248499725014)\n",
       "2           1.0    33.471389    33.935506     0.464118  (33.471388942562044, 0.46411752235144377)\n",
       "3           2.0    33.471389    33.935506     0.464118  (33.471388942562044, 0.46411752235144377)\n",
       "4           3.0    33.678534    33.935506     0.256973  (33.678533796570264, 0.25697266834322363)\n",
       "5           4.0    33.915784    33.935506     0.019722  (33.91578423511237, 0.019722229801118374)\n",
       "..          ...          ...          ...          ...                                        ...\n",
       "544         2.0  1727.046151  1728.640149     1.593999    (1727.046150632319, 1.5939985439181328)\n",
       "545         3.0  1728.568664  1728.640149     0.071485  (1728.5686637727777, 0.07148540345951915)\n",
       "546         1.0   1733.32381  1733.486964     0.163154  (1733.3238101381576, 0.16315383650362492)\n",
       "547         2.0   1733.32381  1733.486964     0.163154  (1733.3238101381576, 0.16315383650362492)\n",
       "548         3.0   1733.32381  1733.486964     0.163154  (1733.3238101381576, 0.16315383650362492)\n",
       "549         4.0  1733.451206  1733.486964     0.035758   (1733.451205912861, 0.03575806180015206)\n",
       "\n",
       "[550 rows x 5 columns]), (68,     burst_level      t_start        t_end   t_duration                              interval_pair\n",
       "0             0     2.668676  1736.077365  1733.408689    (2.668675753637217, 1733.4086894546635)\n",
       "1           1.0      4.15199     4.539338     0.387348     (4.15199019422289, 0.3873482815688476)\n",
       "2           2.0      4.15199     4.539338     0.387348     (4.15199019422289, 0.3873482815688476)\n",
       "3           3.0      4.15199     4.468498     0.316508     (4.15199019422289, 0.3165079979225993)\n",
       "4           4.0     4.432402     4.468498     0.036096  (4.432402210542932, 0.036095981602557003)\n",
       "5           1.0    24.955901     25.89965     0.943749    (24.95590146246832, 0.9437486368697137)\n",
       "..          ...          ...          ...          ...                                        ...\n",
       "585         2.0  1722.763816  1723.371549     0.607733    (1722.763815544895, 0.6077334488509223)\n",
       "586         3.0  1722.763816  1722.823382     0.059566   (1722.763815544895, 0.05956604948733002)\n",
       "587         1.0  1727.594779  1728.847878     1.253099   (1727.5947788313497, 1.2530988784274086)\n",
       "588         2.0  1727.594779  1727.756673     0.161894  (1727.5947788313497, 0.16189431713428348)\n",
       "589         2.0  1728.483723  1728.723953      0.24023  (1728.4837230163394, 0.24023027694784105)\n",
       "590         3.0  1728.483723  1728.602118     0.118395  (1728.4837230163394, 0.11839481932111084)\n",
       "\n",
       "[591 rows x 5 columns]), (69,     burst_level      t_start        t_end   t_duration                               interval_pair\n",
       "0             0      4.21128  1732.660904  1728.449624      (4.211279763723724, 1728.449623833876)\n",
       "1             1      4.21128     4.661112     0.449833    (4.211279763723724, 0.44983272976242006)\n",
       "2             2      4.21128     4.661112     0.449833    (4.211279763723724, 0.44983272976242006)\n",
       "3             3      4.21128     4.661112     0.449833    (4.211279763723724, 0.44983272976242006)\n",
       "4             4      4.21128     4.661112     0.449833    (4.211279763723724, 0.44983272976242006)\n",
       "5           1.0   401.957754   402.130615     0.172861   (401.95775387762114, 0.17286135151516646)\n",
       "..          ...          ...          ...          ...                                         ...\n",
       "129         2.0  1730.672614  1732.660904      1.98829     (1730.6726140555693, 1.988289542030543)\n",
       "130         3.0  1730.672614  1732.660904      1.98829     (1730.6726140555693, 1.988289542030543)\n",
       "131         4.0   1732.64324  1732.660904     0.017664  (1732.6432396066375, 0.017663990962319076)\n",
       "132         5.0   1732.64324  1732.660904     0.017664  (1732.6432396066375, 0.017663990962319076)\n",
       "133         6.0   1732.64324  1732.660904     0.017664  (1732.6432396066375, 0.017663990962319076)\n",
       "134         7.0   1732.64324  1732.660904     0.017664  (1732.6432396066375, 0.017663990962319076)\n",
       "\n",
       "[135 rows x 5 columns]), (70,     burst_level      t_start        t_end   t_duration                              interval_pair\n",
       "0             0    49.436995  1680.741273  1631.304278    (49.43699484819081, 1631.3042783722049)\n",
       "1           1.0    52.804397    56.429877      3.62548    (52.80439664411824, 3.6254803837509826)\n",
       "2           1.0    90.691415    95.168576     4.477161      (90.6914146860363, 4.477161227609031)\n",
       "3           2.0    91.368053    95.168576     3.800523    (91.36805305955932, 3.8005228540860116)\n",
       "4           3.0    91.368053    91.818224     0.450171    (91.36805305955932, 0.4501706494484097)\n",
       "5           3.0    93.932404      94.0598     0.127396   (93.93240374652669, 0.12739577481988817)\n",
       "..          ...          ...          ...          ...                                        ...\n",
       "236         3.0  1569.789169  1570.780902     0.991733   (1569.7891687478404, 0.9917332521872595)\n",
       "237         4.0  1569.789169  1569.856446     0.067277  (1569.7891687478404, 0.06727676570881158)\n",
       "238         5.0  1569.789169  1569.856446     0.067277  (1569.7891687478404, 0.06727676570881158)\n",
       "239         6.0  1569.831808  1569.856446     0.024637  (1569.831808086019, 0.024637427530251443)\n",
       "240         7.0  1569.831808  1569.856446     0.024637  (1569.831808086019, 0.024637427530251443)\n",
       "241         1.0  1624.865155  1627.198921     2.333766   (1624.8651546289911, 2.3337664850987494)\n",
       "\n",
       "[242 rows x 5 columns]), (71,     burst_level      t_start        t_end   t_duration                              interval_pair\n",
       "0             0     3.825037  1732.687138  1728.862101   (3.8250374015187845, 1728.8621010626666)\n",
       "1           1.0    48.100798    50.386273     2.285475    (48.100798412342556, 2.285474669886753)\n",
       "2           2.0    48.100798    50.386273     2.285475    (48.100798412342556, 2.285474669886753)\n",
       "3           3.0     48.31421    50.072591     1.758381     (48.3142101430567, 1.7583811797667295)\n",
       "4           4.0    48.421699    49.593728     1.172029   (48.421699368045665, 1.1720288399374112)\n",
       "5           5.0    48.523997    49.593728     1.069731    (48.52399691566825, 1.0697312923148274)\n",
       "..          ...          ...          ...          ...                                        ...\n",
       "335         5.0  1650.595138  1650.949401     0.354263    (1650.5951382551575, 0.354262858745642)\n",
       "336         1.0  1673.547267  1673.575775     0.028508  (1673.547267303802, 0.028508145362138748)\n",
       "337         2.0  1673.547267  1673.575775     0.028508  (1673.547267303802, 0.028508145362138748)\n",
       "338         3.0  1673.547267  1673.575775     0.028508  (1673.547267303802, 0.028508145362138748)\n",
       "339         4.0  1673.547267  1673.575775     0.028508  (1673.547267303802, 0.028508145362138748)\n",
       "340         5.0  1673.547267  1673.575775     0.028508  (1673.547267303802, 0.028508145362138748)\n",
       "\n",
       "[341 rows x 5 columns]), (72,     burst_level      t_start        t_end   t_duration                              interval_pair\n",
       "0             0     3.319755  1734.543578  1731.223823    (3.319755100295879, 1731.2238227333874)\n",
       "1           1.0    23.792443    24.291152     0.498708   (23.792443498270586, 0.4987082246225327)\n",
       "2           1.0    66.646545    70.540242     3.893697     (66.6465450769756, 3.8936965664615855)\n",
       "3           2.0    66.646545    70.540242     3.893697     (66.6465450769756, 3.8936965664615855)\n",
       "4           3.0    66.646545    68.923111     2.276566     (66.6465450769756, 2.2765658743446693)\n",
       "5           4.0    67.089896    68.731142     1.641246    (67.08989588997792, 1.6412458795821294)\n",
       "..          ...          ...          ...          ...                                        ...\n",
       "443         1.0  1693.385987  1694.477161     1.091174   (1693.3859873863403, 1.0911738412687555)\n",
       "444         2.0  1693.385987  1693.461466     0.075479  (1693.3859873863403, 0.07547900127246976)\n",
       "445         3.0  1693.385987  1693.461466     0.075479  (1693.3859873863403, 0.07547900127246976)\n",
       "446         4.0  1693.385987  1693.461466     0.075479  (1693.3859873863403, 0.07547900127246976)\n",
       "447         1.0   1729.47432   1732.87751     3.403191   (1729.4743196291383, 3.4031905775191262)\n",
       "448         2.0   1729.47432  1729.868672     0.394352   (1729.4743196291383, 0.3943524380447343)\n",
       "\n",
       "[449 rows x 5 columns]), (73,     burst_level     t_start       t_end  t_duration                               interval_pair\n",
       "0             0    0.014254  805.566738  805.552484   (0.014254072681069374, 805.5524835571414)\n",
       "1             1    0.014254    0.378102    0.363847  (0.014254072681069374, 0.3638474936597049)\n",
       "2           2.0     0.11861    0.161003    0.042394   (0.1186098592588678, 0.04239357833284885)\n",
       "3           3.0    0.128932    0.161003    0.032072  (0.12893177405931056, 0.03207166353240609)\n",
       "4           1.0    1.633044    2.094888    0.461844     (1.633043643902056, 0.4618442434584722)\n",
       "5           2.0    1.981685    2.059714    0.078029   (1.9816847452893853, 0.07802876003552228)\n",
       "..          ...         ...         ...         ...                                         ...\n",
       "720         2.0  800.225546  800.268738    0.043192    (800.2255461245077, 0.04319229780230671)\n",
       "721         1.0  801.240934  801.409648    0.168714    (801.2409337646095, 0.16871415358036757)\n",
       "722         1.0  802.215464  802.353519    0.138056    (802.2154638256179, 0.13805560942273587)\n",
       "723         1.0  803.565576   804.02441    0.458834    (803.5655764143448, 0.45883368514478207)\n",
       "724         1.0  804.809613  804.929114    0.119501    (804.8096128974576, 0.11950073880143464)\n",
       "725         1.0  805.195517  805.341929    0.146411    (805.1955173397437, 0.14641144510824233)\n",
       "\n",
       "[726 rows x 5 columns]), (74,     burst_level      t_start        t_end   t_duration                              interval_pair\n",
       "0             0     7.317439  1731.157037  1723.839599    (7.317438813392073, 1723.8395986740943)\n",
       "1             1     7.317439     7.942406     0.624967    (7.317438813392073, 0.6249673600541428)\n",
       "2           1.0    39.452048     40.69848     1.246433    (39.45204764045775, 1.2464326418703422)\n",
       "3           2.0    39.452048     40.69848     1.246433    (39.45204764045775, 1.2464326418703422)\n",
       "4           3.0    39.452048     40.69848     1.246433    (39.45204764045775, 1.2464326418703422)\n",
       "5           4.0    39.452048     40.69848     1.246433    (39.45204764045775, 1.2464326418703422)\n",
       "..          ...          ...          ...          ...                                        ...\n",
       "368         2.0    1692.7542  1693.485582     0.731381   (1692.7542001897236, 0.7313813857035711)\n",
       "369         1.0  1699.306281  1699.386645     0.080363  (1699.3062813151628, 0.08036347886081785)\n",
       "370         2.0  1699.306281  1699.386645     0.080363  (1699.3062813151628, 0.08036347886081785)\n",
       "371         3.0  1699.306281  1699.386645     0.080363  (1699.3062813151628, 0.08036347886081785)\n",
       "372         4.0  1699.306281  1699.386645     0.080363  (1699.3062813151628, 0.08036347886081785)\n",
       "373         5.0  1699.306281  1699.386645     0.080363  (1699.3062813151628, 0.08036347886081785)\n",
       "\n",
       "[374 rows x 5 columns]), (75,     burst_level      t_start        t_end   t_duration                              interval_pair\n",
       "0             0     1.493851   1737.14596  1735.652108    (1.493851395091042, 1735.6521084661363)\n",
       "1           1.0     4.448069     5.985052     1.536982    (4.448069402598776, 1.5369822529610246)\n",
       "2           2.0     4.643725     4.900053     0.256328   (4.6437249823939055, 0.2563275486463681)\n",
       "3           3.0     4.733059     4.900053     0.166994   (4.733058696612716, 0.16699383442755789)\n",
       "4           1.0    17.425389    18.223033     0.797644    (17.42538883816451, 0.7976443916559219)\n",
       "5           1.0     26.75127    27.570571     0.819302    (26.751269503263757, 0.819301980547607)\n",
       "..          ...          ...          ...          ...                                        ...\n",
       "471         2.0  1659.952292  1661.832386     1.880094   (1659.9522918643197, 1.8800937574123964)\n",
       "472         3.0  1660.129393  1660.353003     0.223611  (1660.1293925737264, 0.22361076541710645)\n",
       "473         1.0  1678.796852  1678.873836     0.076984   (1678.796851816005, 0.07698428048752248)\n",
       "474         2.0  1678.796852  1678.873836     0.076984   (1678.796851816005, 0.07698428048752248)\n",
       "475         1.0   1730.07766   1733.47357      3.39591    (1730.0776601202087, 3.395909941289574)\n",
       "476         2.0  1730.450017  1730.594063     0.144046   (1730.4500170495594, 0.1440460061421618)\n",
       "\n",
       "[477 rows x 5 columns]), (76,     burst_level     t_start       t_end  t_duration                              interval_pair\n",
       "0             0    0.039967  659.948575  659.908608   (0.03996669955085963, 659.9086080467096)\n",
       "1           1.0    3.776469     4.80906    1.032591     (3.776469106436707, 1.032590831280686)\n",
       "2           1.0    4.921126    5.590791    0.669665    (4.921126440400258, 0.6696649370715022)\n",
       "3           1.0   12.955324   13.117771    0.162447  (12.955323926871642, 0.16244727687444538)\n",
       "4           1.0   19.906212    20.02943    0.123218   (19.906211888068356, 0.1232178567443043)\n",
       "5           1.0   24.324606   25.685255     1.36065    (24.32460578577593, 1.3606495432322845)\n",
       "..          ...         ...         ...         ...                                        ...\n",
       "281         1.0  645.505605  649.834296    4.328692     (645.5056048610713, 4.328691543661989)\n",
       "282         2.0  645.697635  645.833111    0.135475    (645.6976354827639, 0.1354751306353137)\n",
       "283         2.0   645.93206  646.070207    0.138148    (645.9320596826728, 0.1381477692630142)\n",
       "284         2.0  648.918657  649.273503    0.354847    (648.918656553491, 0.35484653839375824)\n",
       "285         2.0    649.3425  649.607583    0.265083      (649.34250017663, 0.2650827441830188)\n",
       "286         1.0  650.006267  650.306063    0.299796   (650.0062668768223, 0.29979632643517107)\n",
       "\n",
       "[287 rows x 5 columns]), (77,     burst_level      t_start        t_end   t_duration                               interval_pair\n",
       "0             0     4.737544  1736.090329  1731.352785      (4.737543814233504, 1731.352785227471)\n",
       "1           1.0    24.952061    25.919403     0.967342      (24.952061464544386, 0.96734158473555)\n",
       "2           2.0    25.681016    25.919403     0.238387    (25.681015971233137, 0.2383870780467987)\n",
       "3           1.0    28.060555    28.953339     0.892784     (28.06055523303803, 0.8927841827971861)\n",
       "4           2.0    28.544733    28.953339     0.408607    (28.544732905109413, 0.4086065107258037)\n",
       "5           3.0    28.604852     28.83559     0.230738    (28.60485191422049, 0.23073780187405646)\n",
       "..          ...          ...          ...          ...                                         ...\n",
       "705         3.0  1726.013007  1726.035432     0.022426   (1726.0130068412982, 0.02242558845318854)\n",
       "706         1.0  1726.973283  1727.525505     0.552222    (1726.9732828296255, 0.5522224373416975)\n",
       "707         2.0  1726.973283  1727.018441     0.045158  (1726.9732828296255, 0.045158376917243004)\n",
       "708         1.0  1735.241075  1735.322207     0.081131     (1735.241075076512, 0.0811314785387367)\n",
       "709         2.0  1735.241075  1735.322207     0.081131     (1735.241075076512, 0.0811314785387367)\n",
       "710         3.0  1735.241075  1735.322207     0.081131     (1735.241075076512, 0.0811314785387367)\n",
       "\n",
       "[711 rows x 5 columns]), (78,     burst_level      t_start        t_end   t_duration                               interval_pair\n",
       "0             0     3.350997  1736.953192  1733.602195    (3.3509973243344575, 1733.6021946355468)\n",
       "1           1.0   347.244479    350.74797     3.503491    (347.24447885074187, 3.5034913262352347)\n",
       "2           2.0   349.421666    350.74797     1.326305     (349.4216655760538, 1.3263046009233221)\n",
       "3           3.0   349.421666    350.74797     1.326305     (349.4216655760538, 1.3263046009233221)\n",
       "4           4.0   349.421666   349.907963     0.486297    (349.4216655760538, 0.48629735107533634)\n",
       "5           5.0   349.540153   349.551765     0.011612   (349.5401525553316, 0.011612154077738523)\n",
       "..          ...          ...          ...          ...                                         ...\n",
       "498         4.0  1718.523997    1718.5557     0.031703  (1718.5239969156682, 0.031703023705631495)\n",
       "499         1.0  1721.976831  1725.913751      3.93692     (1721.9768309878418, 3.936919584288262)\n",
       "500         2.0  1721.976831  1721.996185     0.019354    (1721.9768309878418, 0.0193535900907591)\n",
       "501         3.0  1721.976831  1721.996185     0.019354    (1721.9768309878418, 0.0193535900907591)\n",
       "502         4.0  1721.976831  1721.996185     0.019354    (1721.9768309878418, 0.0193535900907591)\n",
       "503         5.0  1721.976831  1721.996185     0.019354    (1721.9768309878418, 0.0193535900907591)\n",
       "\n",
       "[504 rows x 5 columns]), (79,     burst_level      t_start        t_end   t_duration                              interval_pair\n",
       "0             0     0.458158  1732.677554  1732.219396   (0.45815784542355686, 1732.219395983615)\n",
       "1           1.0    12.157557    19.503289     7.345732    (12.157556655234657, 7.345731919049285)\n",
       "2           2.0    12.157557    12.852473     0.694917   (12.157556655234657, 0.6949167642742395)\n",
       "3           2.0    15.096538    17.927783     2.831246   (15.096537550445646, 2.8312459104927257)\n",
       "4           3.0    16.789547    16.821188     0.031642   (16.789546603686176, 0.0316415837733075)\n",
       "5           4.0    16.789547    16.821188     0.031642   (16.789546603686176, 0.0316415837733075)\n",
       "..          ...          ...          ...          ...                                        ...\n",
       "408         1.0  1649.488666  1652.615469     3.126803     (1649.488665861776, 3.126802879036404)\n",
       "409         2.0  1649.488666  1651.302527     1.813861    (1649.488665861776, 1.8138614712515846)\n",
       "410         3.0  1649.726469  1651.061836     1.335367    (1649.726469259942, 1.3353669963544235)\n",
       "411         1.0  1654.072886  1655.020383     0.947496    (1654.0728862347314, 0.947496474836953)\n",
       "412         2.0  1654.788723  1655.020383     0.231659  (1654.7887233081274, 0.23165940144099295)\n",
       "413         3.0  1654.893786  1655.020383     0.126597    (1654.8937856543344, 0.126597055234015)\n",
       "\n",
       "[414 rows x 5 columns]), (80,     burst_level      t_start        t_end   t_duration                              interval_pair\n",
       "0             0     4.527081  1733.759204  1729.232123     (4.527081202133559, 1729.232123273192)\n",
       "1           1.0     9.460772    24.715579    15.254807    (9.460772116086446, 15.254806909477338)\n",
       "2           2.0     9.460772    10.165734     0.704962     (9.460772116086446, 0.704962199088186)\n",
       "3           2.0    12.226677    23.662375    11.435698   (12.226676619960926, 11.435698464862071)\n",
       "4           3.0    20.182354    20.224194     0.041841   (20.18235382658895, 0.04184061859268695)\n",
       "5           4.0    20.182354    20.224194     0.041841   (20.18235382658895, 0.04184061859268695)\n",
       "..          ...          ...          ...          ...                                        ...\n",
       "241         1.0  1696.944191  1697.541541      0.59735   (1696.9441910044989, 0.5973500942345709)\n",
       "242         2.0  1696.944191  1697.541541      0.59735   (1696.9441910044989, 0.5973500942345709)\n",
       "243         3.0  1696.944191  1697.141966     0.197775  (1696.9441910044989, 0.19777525879908353)\n",
       "244         4.0  1696.944191  1696.962869     0.018678  (1696.9441910044989, 0.01867775048594922)\n",
       "245         5.0  1696.944191  1696.962869     0.018678  (1696.9441910044989, 0.01867775048594922)\n",
       "246         6.0  1696.944191  1696.962869     0.018678  (1696.9441910044989, 0.01867775048594922)\n",
       "\n",
       "[247 rows x 5 columns]), (81,     burst_level      t_start        t_end   t_duration                               interval_pair\n",
       "0             0     4.331825  1732.614332  1728.282507     (4.331824981956743, 1728.2825071194675)\n",
       "1           1.0    45.195671     47.32601     2.130339     (45.19567093974911, 2.1303387492662296)\n",
       "2           2.0    46.026554     47.32601     1.299455     (46.02655435435008, 1.2994553346652538)\n",
       "3           3.0    46.026554     47.32601     1.299455     (46.02655435435008, 1.2994553346652538)\n",
       "4           4.0    46.026554     47.32601     1.299455     (46.02655435435008, 1.2994553346652538)\n",
       "5           1.0      66.8759    69.501783     2.625883      (66.87590047949925, 2.625882815453224)\n",
       "..          ...          ...          ...          ...                                         ...\n",
       "487         1.0   1705.03476   1705.07829      0.04353   (1705.0347596622305, 0.04353021760471165)\n",
       "488         2.0   1705.03476   1705.07829      0.04353   (1705.0347596622305, 0.04353021760471165)\n",
       "489         3.0   1705.03476   1705.07829      0.04353   (1705.0347596622305, 0.04353021760471165)\n",
       "490         1.0  1725.455808  1725.499584     0.043776  (1725.4558077665279, 0.043775977683253586)\n",
       "491         2.0  1725.455808  1725.499584     0.043776  (1725.4558077665279, 0.043775977683253586)\n",
       "492         3.0  1725.455808  1725.499584     0.043776  (1725.4558077665279, 0.043775977683253586)\n",
       "\n",
       "[493 rows x 5 columns]), (82,     burst_level      t_start        t_end   t_duration                              interval_pair\n",
       "0             0     1.394503  1732.658876  1731.264373   (1.3945029659662396, 1731.2643731125863)\n",
       "1           1.0    46.680491    49.507436     2.826945     (46.68049065954983, 2.826945112668909)\n",
       "2           2.0    47.623471    48.349753     0.726282    (47.62347129674163, 0.7262818681774661)\n",
       "3           3.0    47.712989    48.261863     0.548874   (47.712989330873825, 0.5488739589927718)\n",
       "4           1.0    67.367635    69.075267     1.707632    (67.36763526778668, 1.7076317656319588)\n",
       "5           2.0    67.367635    69.075267     1.707632    (67.36763526778668, 1.7076317656319588)\n",
       "..          ...          ...          ...          ...                                        ...\n",
       "551         1.0  1671.359728  1672.074643     0.714915   (1671.3597279437818, 0.7149154739454389)\n",
       "552         1.0  1697.072201  1697.402687     0.330486  (1697.0722011789912, 0.33048559073358774)\n",
       "553         2.0  1697.072201  1697.402687     0.330486  (1697.0722011789912, 0.33048559073358774)\n",
       "554         3.0  1697.393532  1697.402687     0.009155  (1697.3935322144534, 0.00915455527137965)\n",
       "555         4.0  1697.393532  1697.402687     0.009155  (1697.3935322144534, 0.00915455527137965)\n",
       "556         5.0  1697.393532  1697.402687     0.009155  (1697.3935322144534, 0.00915455527137965)\n",
       "\n",
       "[557 rows x 5 columns]), (83,     burst_level      t_start        t_end  t_duration                               interval_pair\n",
       "0             0    13.412622  1736.933132  1723.52051    (13.412621612777002, 1723.5205101973843)\n",
       "1           1.0    24.622835    25.818457    1.195622    (24.622835393063724, 1.1956217878032476)\n",
       "2           2.0    24.622835    25.818457    1.195622    (24.622835393063724, 1.1956217878032476)\n",
       "3           1.0    28.399366    29.749601    1.350235     (28.39936593954917, 1.3502354685915634)\n",
       "4           2.0    28.399366    29.749601    1.350235     (28.39936593954917, 1.3502354685915634)\n",
       "5           3.0    29.074499    29.411528    0.337029     (29.07449903374072, 0.3370289475424215)\n",
       "..          ...          ...          ...         ...                                         ...\n",
       "403         1.0  1731.811834  1731.828638    0.016804  (1731.8118339523207, 0.016803831327706575)\n",
       "404         2.0  1731.811834  1731.828638    0.016804  (1731.8118339523207, 0.016803831327706575)\n",
       "405         3.0  1731.811834  1731.828638    0.016804  (1731.8118339523207, 0.016803831327706575)\n",
       "406         4.0  1731.811834  1731.828638    0.016804  (1731.8118339523207, 0.016803831327706575)\n",
       "407         5.0  1731.811834  1731.828638    0.016804  (1731.8118339523207, 0.016803831327706575)\n",
       "408         6.0  1731.811834  1731.828638    0.016804  (1731.8118339523207, 0.016803831327706575)\n",
       "\n",
       "[409 rows x 5 columns]), (84,     burst_level      t_start        t_end   t_duration                              interval_pair\n",
       "0             0     2.704249  1733.764734  1731.060485   (2.7042494954075664, 1731.0604845770868)\n",
       "1           1.0    62.112275    63.529265      1.41699    (62.11227539856918, 1.4169899944681674)\n",
       "2           2.0    62.677677    63.529265     0.851589   (62.677676708903164, 0.8515886841341853)\n",
       "3           1.0    97.791755    98.765087     0.973332     (97.7917553705629, 0.9733319816878065)\n",
       "4           2.0    97.791755    98.193358     0.401602     (97.7917553705629, 0.4016023543663323)\n",
       "5           3.0    97.791755    98.193358     0.401602     (97.7917553705629, 0.4016023543663323)\n",
       "..          ...          ...          ...          ...                                        ...\n",
       "344         3.0  1706.209492  1706.321343     0.111851  (1706.2094918607036, 0.11185146274510771)\n",
       "345         1.0  1725.559088   1726.44794     0.888852   (1725.5590883537661, 0.8888520248001441)\n",
       "346         2.0  1726.381862   1726.44794     0.066079   (1726.381861692411, 0.06607868615537882)\n",
       "347         3.0  1726.381862   1726.44794     0.066079   (1726.381861692411, 0.06607868615537882)\n",
       "348         4.0  1726.381862   1726.44794     0.066079   (1726.381861692411, 0.06607868615537882)\n",
       "349         5.0  1726.381862   1726.44794     0.066079   (1726.381861692411, 0.06607868615537882)\n",
       "\n",
       "[350 rows x 5 columns]), (85,     burst_level      t_start        t_end   t_duration                              interval_pair\n",
       "0             0      3.35026  1735.214656  1731.864396   (3.3502600446809083, 1731.8643958454486)\n",
       "1           1.0    66.766845    67.182486     0.415641    (66.7668445353629, 0.41564138722606003)\n",
       "2           2.0    66.766845    67.182486     0.415641    (66.7668445353629, 0.41564138722606003)\n",
       "3           1.0    69.942185    72.074674     2.132489     (69.94218498957343, 2.132489148178138)\n",
       "4           2.0    69.942185    71.439999     1.497814    (69.94218498957343, 1.4978142731124535)\n",
       "5           3.0    70.149176    71.439999     1.290823    (70.14917624357622, 1.2908230191096663)\n",
       "..          ...          ...          ...          ...                                        ...\n",
       "320         3.0  1678.071891  1678.340414     0.268523  (1678.0718909071293, 0.26852338248863816)\n",
       "321         1.0  1721.995601  1722.027458     0.031857   (1721.995600898168, 0.03185662371106446)\n",
       "322         2.0  1721.995601  1722.027458     0.031857   (1721.995600898168, 0.03185662371106446)\n",
       "323         3.0  1721.995601  1722.027458     0.031857   (1721.995600898168, 0.03185662371106446)\n",
       "324         4.0  1721.995601  1722.027458     0.031857   (1721.995600898168, 0.03185662371106446)\n",
       "325         5.0  1721.995601  1722.027458     0.031857   (1721.995600898168, 0.03185662371106446)\n",
       "\n",
       "[326 rows x 5 columns]), (86,     burst_level      t_start        t_end  t_duration                               interval_pair\n",
       "0             0     3.079709  1731.214269  1728.13456      (3.07970914314501, 1728.1345596750034)\n",
       "1             1     3.079709     4.352684    1.272975        (3.07970914314501, 1.27297470823396)\n",
       "2             2     3.079709     4.352684    1.272975        (3.07970914314501, 1.27297470823396)\n",
       "3           3.0     3.947518     4.352684    0.405166     (3.94751797884237, 0.40516587253659964)\n",
       "4           4.0     3.947518     4.352684    0.405166     (3.94751797884237, 0.40516587253659964)\n",
       "5           1.0    67.724264    69.754087    2.029823     (67.72426356514916, 2.0298229607287794)\n",
       "..          ...          ...          ...         ...                                         ...\n",
       "280         6.0  1673.796959  1673.823194    0.026235  (1673.7969593359157, 0.026234866585582495)\n",
       "281         1.0  1718.589246  1718.639934    0.050688  (1718.5892461623298, 0.050687973969615996)\n",
       "282         2.0  1718.589246  1718.639934    0.050688  (1718.5892461623298, 0.050687973969615996)\n",
       "283         3.0  1718.589246  1718.639934    0.050688  (1718.5892461623298, 0.050687973969615996)\n",
       "284         4.0  1718.589246  1718.639934    0.050688  (1718.5892461623298, 0.050687973969615996)\n",
       "285         5.0  1718.589246  1718.639934    0.050688  (1718.5892461623298, 0.050687973969615996)\n",
       "\n",
       "[286 rows x 5 columns]), (87,     burst_level      t_start        t_end   t_duration                               interval_pair\n",
       "0             0     3.566252   1729.87073  1726.304478     (3.566252253949642, 1726.3044780521886)\n",
       "1           1.0    48.622332    54.377721     5.755389      (48.62233158526942, 5.755389053258114)\n",
       "2           2.0    49.527987    54.377721     4.849733       (49.5279874416301, 4.849733196897432)\n",
       "3           3.0    49.527987    53.047822     3.519834      (49.5279874416301, 3.5198343578958884)\n",
       "4           4.0    49.527987    50.014623     0.486635      (49.5279874416301, 0.4866352708777413)\n",
       "5           4.0    50.394015    50.490475     0.096461    (50.39401451824233, 0.09646075067576021)\n",
       "..          ...          ...          ...          ...                                         ...\n",
       "329         2.0  1673.613377  1673.631194     0.017818  (1673.6133767098654, 0.017817590851336718)\n",
       "330         3.0  1673.613377  1673.631194     0.017818  (1673.6133767098654, 0.017817590851336718)\n",
       "331         4.0  1673.613377  1673.631194     0.017818  (1673.6133767098654, 0.017817590851336718)\n",
       "332         5.0  1673.613377  1673.631194     0.017818  (1673.6133767098654, 0.017817590851336718)\n",
       "333         6.0  1673.613377  1673.631194     0.017818  (1673.6133767098654, 0.017817590851336718)\n",
       "334         1.0  1696.998381  1697.403946     0.405565   (1696.9983810568228, 0.40556523227132857)\n",
       "\n",
       "[335 rows x 5 columns]), (88,     burst_level      t_start        t_end   t_duration                              interval_pair\n",
       "0             0     0.086968  1087.228474  1087.141505   (0.0869682754855603, 1087.1415054635145)\n",
       "1           1.0     2.148709     2.424851     0.276142    (2.148709299741313, 0.2761419387534261)\n",
       "2           1.0    26.218769    26.879802     0.661033   (26.218769295956008, 0.6610326215159148)\n",
       "3           1.0    27.293631    27.647126     0.353495   (27.29363082558848, 0.35349485906772316)\n",
       "4           1.0    28.014936    28.189456      0.17452   (28.01493605633732, 0.17452023061923683)\n",
       "5           1.0    34.171927    35.714378      1.54245   (34.171927463961765, 1.5424504103139043)\n",
       "..          ...          ...          ...          ...                                        ...\n",
       "465         2.0  1069.705395  1069.742689     0.037294  (1069.7053953508148, 0.03729406092315912)\n",
       "466         1.0  1070.969246  1074.055898     3.086652   (1070.9692462236853, 3.0866518596885726)\n",
       "467         1.0  1075.932275  1075.997002     0.064727  (1075.9322747226106, 0.06472700682934374)\n",
       "468         1.0  1081.305937  1082.567761     1.261823    (1081.305937251309, 1.2618233539396897)\n",
       "469         1.0  1083.871762  1085.165105     1.293342   (1083.8717624975834, 1.2933420578483492)\n",
       "470         1.0  1085.564649  1086.763557     1.198909   (1085.5646486708429, 1.1989088262198493)\n",
       "\n",
       "[471 rows x 5 columns]), (89,     burst_level      t_start        t_end   t_duration                              interval_pair\n",
       "0             0     0.060733  1735.244884  1735.184151    (0.0607334088999778, 1735.184150945628)\n",
       "1           1.0      43.1382    43.993659     0.855459     (43.1381999932928, 0.8554594019660726)\n",
       "2           1.0     58.53521     60.01324     1.478031    (58.53520970989484, 1.4780306032625958)\n",
       "3           2.0     58.53521     60.01324     1.478031    (58.53520970989484, 1.4780306032625958)\n",
       "4           3.0    58.756209    59.144848     0.388639   (58.756209276849404, 0.3886385209625587)\n",
       "5           1.0    94.236685   100.433613     6.196927     (94.23668519069906, 6.196927387267351)\n",
       "..          ...          ...          ...          ...                                        ...\n",
       "306         2.0  1662.165605  1665.155397     2.989792    (1662.1656052912585, 2.989791749045253)\n",
       "307         3.0  1662.165605  1664.225503     2.059898    (1662.1656052912585, 2.059897825238295)\n",
       "308         3.0  1664.681664  1665.155397     0.473733  (1664.6816641628975, 0.47373287740629166)\n",
       "309         1.0  1671.134888  1672.039623     0.904734   (1671.1348883789033, 0.9047342567937449)\n",
       "310         2.0  1671.134888  1672.039623     0.904734   (1671.1348883789033, 0.9047342567937449)\n",
       "311         1.0  1702.091847  1702.525459     0.433613    (1702.091846608906, 0.4336125780828297)\n",
       "\n",
       "[312 rows x 5 columns]), (90,     burst_level      t_start        t_end   t_duration                              interval_pair\n",
       "0             0     4.141177  1725.471844  1721.330667    (4.1411767597310245, 1721.330666838563)\n",
       "1           1.0    13.137371    13.781261     0.643891    (13.137370553682558, 0.643890870269388)\n",
       "2           2.0    13.137371    13.781261     0.643891    (13.137370553682558, 0.643890870269388)\n",
       "3           3.0    13.689808    13.781261     0.091453  (13.689808030729182, 0.09145339322276413)\n",
       "4           1.0     45.88429    58.154589    12.270299   (45.884290107293054, 12.270298997522332)\n",
       "5           2.0    49.309968    51.882981     2.573014    (49.30996771319769, 2.5730137226637453)\n",
       "..          ...          ...          ...          ...                                        ...\n",
       "240         1.0  1706.237908  1706.823001     0.585093    (1706.237907846109, 0.5850928204599768)\n",
       "241         2.0  1706.237908  1706.823001     0.585093    (1706.237907846109, 0.5850928204599768)\n",
       "242         3.0  1706.237908  1706.823001     0.585093    (1706.237907846109, 0.5850928204599768)\n",
       "243         4.0  1706.237908  1706.823001     0.585093    (1706.237907846109, 0.5850928204599768)\n",
       "244         5.0  1706.237908  1706.638036     0.400128    (1706.237907846109, 0.4001277951756492)\n",
       "245         1.0  1714.335296  1714.560228     0.224932   (1714.3352963402867, 0.2249317248351872)\n",
       "\n",
       "[246 rows x 5 columns]), (91,     burst_level      t_start        t_end   t_duration                              interval_pair\n",
       "0             0    13.156417  1729.946025  1716.789608    (13.156416943878867, 1716.789608043735)\n",
       "1             1    13.156417    13.885525     0.729108   (13.156416943878867, 0.7291081066941842)\n",
       "2           1.0    45.340639    47.215602     1.874964   (45.340638545458205, 1.8749635200947523)\n",
       "3           2.0    45.340639    47.215602     1.874964   (45.340638545458205, 1.8749635200947523)\n",
       "4           3.0    45.340639    47.215602     1.874964   (45.340638545458205, 1.8749635200947523)\n",
       "5           4.0    45.340639    46.311605     0.970967   (45.340638545458205, 0.9709665429545566)\n",
       "..          ...          ...          ...          ...                                        ...\n",
       "292         2.0   1648.99733  1649.690896     0.693565   (1648.9973304333398, 0.6935650849482045)\n",
       "293         3.0   1648.99733  1649.690896     0.693565   (1648.9973304333398, 0.6935650849482045)\n",
       "294         4.0   1648.99733  1649.690896     0.693565   (1648.9973304333398, 0.6935650849482045)\n",
       "295         5.0   1648.99733  1649.690896     0.693565   (1648.9973304333398, 0.6935650849482045)\n",
       "296         6.0  1649.232922  1649.649147     0.416225  (1649.2329219927778, 0.41622506687417626)\n",
       "297         7.0  1649.307909  1649.354051     0.046141   (1649.307909474359, 0.04614141630008817)\n",
       "\n",
       "[298 rows x 5 columns]), (92,     burst_level      t_start        t_end   t_duration                              interval_pair\n",
       "0             0     2.689811  1732.659859  1729.970048   (2.6898111026966944, 1729.9700480154715)\n",
       "1           1.0    46.891353    50.399728     3.508376    (46.89135263150092, 3.5083758037071675)\n",
       "2           2.0    46.891353    50.399728     3.508376    (46.89135263150092, 3.5083758037071675)\n",
       "3           3.0    47.167064    47.899306     0.732242    (47.167064490378834, 0.732241545105353)\n",
       "4           4.0    47.554351    47.770036     0.215685    (47.55435133213177, 0.2156850096071139)\n",
       "5           3.0    49.400561    49.876844     0.476283   (49.40056094690226, 0.47628263605292886)\n",
       "..          ...          ...          ...          ...                                        ...\n",
       "402         4.0  1650.443535   1650.85933     0.415795  (1650.4435351329157, 0.41579498699866235)\n",
       "403         1.0  1654.169071  1654.704243     0.535173    (1654.1690705054207, 0.535172845935449)\n",
       "404         2.0  1654.169071  1654.704243     0.535173    (1654.1690705054207, 0.535172845935449)\n",
       "405         3.0  1654.169071  1654.704243     0.535173    (1654.1690705054207, 0.535172845935449)\n",
       "406         1.0  1672.864639  1673.557896     0.693258   (1672.8646385333268, 0.6932578849373385)\n",
       "407         2.0  1673.481864  1673.557896     0.076032  (1673.4818644572515, 0.07603196101263165)\n",
       "\n",
       "[408 rows x 5 columns]), (93,     burst_level      t_start        t_end   t_duration                              interval_pair\n",
       "0             0     3.783105  1733.758467  1729.975363    (3.783104622969404, 1729.9753625727026)\n",
       "1           1.0    53.585514     55.73579     2.150276     (53.58551368420012, 2.150276019005105)\n",
       "2           1.0    67.540005    69.964211     2.424206    (67.54000509949401, 2.4242061187978834)\n",
       "3           2.0    67.540005    68.937611     1.397606    (67.54000509949401, 1.3976056843530387)\n",
       "4           3.0    67.540005    68.937611     1.397606    (67.54000509949401, 1.3976056843530387)\n",
       "5           4.0    67.540005    68.558465      1.01846    (67.54000509949401, 1.0184596384642646)\n",
       "..          ...          ...          ...          ...                                        ...\n",
       "332         4.0  1714.396644  1714.439683     0.043039  (1714.3966441488592, 0.04303869802970439)\n",
       "333         5.0  1714.396644  1714.439683     0.043039  (1714.3966441488592, 0.04303869802970439)\n",
       "334         1.0  1729.982182  1732.676786     2.694603    (1729.9821824091487, 2.694603420328349)\n",
       "335         2.0  1729.982182  1731.276876     1.294694    (1729.9821824091487, 1.294693737057969)\n",
       "336         3.0  1731.151508  1731.276876     0.125368   (1731.1515078903176, 0.1253682558890432)\n",
       "337         4.0  1731.151508  1731.276876     0.125368   (1731.1515078903176, 0.1253682558890432)\n",
       "\n",
       "[338 rows x 5 columns]), (94,     burst_level      t_start        t_end   t_duration                               interval_pair\n",
       "0             0     0.016773  1163.649227  1163.632454   (0.01677311141975224, 1163.6324538202025)\n",
       "1             1     0.016773     0.262687     0.245913    (0.01677311141975224, 0.245913474005647)\n",
       "2             2     0.016773     0.161341     0.144568  (0.01677311141975224, 0.14456824597436935)\n",
       "3           1.0     1.400278     1.799761     0.399483    (1.4002783229807392, 0.3994826754787937)\n",
       "4           1.0     2.340156     3.044043     0.703887     (2.340156241785735, 0.7038869996322319)\n",
       "5           1.0     6.007324     6.131432     0.124109    (6.007323644240387, 0.12410873640328646)\n",
       "..          ...          ...          ...          ...                                         ...\n",
       "737         1.0  1159.724135  1159.885814     0.161679    (1159.724134541233, 0.16167927719652653)\n",
       "738         2.0  1159.835556  1159.885814     0.050258   (1159.8355559241027, 0.05025789432693273)\n",
       "739         3.0  1159.835556  1159.885814     0.050258   (1159.8355559241027, 0.05025789432693273)\n",
       "740         1.0  1160.315279  1160.416839      0.10156   (1160.3152791985776, 0.10156026796903461)\n",
       "741         1.0  1161.520701   1162.53486     1.014159     (1161.520700661349, 1.0141588407568634)\n",
       "742         1.0  1163.060909  1163.649227     0.588318    (1163.0609085127944, 0.5883184188278392)\n",
       "\n",
       "[743 rows x 5 columns]), (95,     burst_level      t_start        t_end   t_duration                              interval_pair\n",
       "0             0    18.494475  1735.521702  1717.027227    (18.49447501078248, 1717.0272271221038)\n",
       "1           1.0    28.128385    28.257778     0.129393  (28.128384958254173, 0.12939257372636348)\n",
       "2           2.0    28.128385    28.257778     0.129393  (28.128384958254173, 0.12939257372636348)\n",
       "3           1.0      37.9942    39.291751     1.297551    (37.99420006701257, 1.2975506954826415)\n",
       "4           2.0      37.9942    39.291751     1.297551    (37.99420006701257, 1.2975506954826415)\n",
       "5           1.0    78.092105    79.629087     1.536982    (78.09210465685464, 1.5369822529610246)\n",
       "..          ...          ...          ...          ...                                        ...\n",
       "386         4.0  1697.586638  1697.669029     0.082391   (1697.586638035602, 0.08239099779166281)\n",
       "387         1.0  1710.385997  1713.612762     3.226766   (1710.3859966023592, 3.2267657079501078)\n",
       "388         2.0  1711.411307  1712.780189     1.368882    (1711.411306797294, 1.3688824991695583)\n",
       "389         3.0  1711.411307  1711.794846     0.383539    (1711.411306797294, 0.3835390036692843)\n",
       "390         1.0  1728.908304  1733.774012     4.865708     (1728.908303918899, 4.865707588731311)\n",
       "391         2.0  1732.307654  1733.774012     1.466357    (1732.3076544984942, 1.466357009136118)\n",
       "\n",
       "[392 rows x 5 columns]), (96,     burst_level     t_start       t_end  t_duration                             interval_pair\n",
       "0             0    0.166963  824.953229  824.786266  (0.16696311440318823, 824.7862657095538)\n",
       "1           1.0    1.532282    1.681397    0.149115  (1.5322820954024792, 0.1491148037603125)\n",
       "2           1.0    4.108091    4.723382    0.615291   (4.108091336674988, 0.6152905648341402)\n",
       "3           1.0    4.934858    5.566062    0.631204  (4.9348582732491195, 0.6312035168521106)\n",
       "4           1.0    6.149834    6.494143     0.34431  (6.149833651143126, 0.34430958377197385)\n",
       "5           1.0    6.604643    6.826656    0.222013   (6.604643018334173, 0.2220133263617754)\n",
       "..          ...         ...         ...         ...                                       ...\n",
       "435         1.0  805.716313  806.124643     0.40833   (805.7163132332498, 0.4083300308557227)\n",
       "436         1.0  808.776976  808.950114    0.173138   (808.7769759861985, 0.1731378312688321)\n",
       "437         1.0  811.369497  811.585059    0.215562   (811.3694968987256, 0.2155621296260506)\n",
       "438         2.0  811.461442  811.585059    0.123617  (811.4614418117562, 0.12361721659544855)\n",
       "439         1.0  817.481883  817.539636    0.057754  (817.4818828892894, 0.05775357037782669)\n",
       "440         1.0   822.83527  822.916555    0.081285    (822.83527022833, 0.08128507842775434)\n",
       "\n",
       "[441 rows x 5 columns]), (97,     burst_level      t_start        t_end   t_duration                               interval_pair\n",
       "0             0      9.26229  1737.180243  1727.917953     (9.262290297658183, 1727.9179530660622)\n",
       "1             1      9.26229    14.606492     5.344202      (9.262290297658183, 5.344202063744888)\n",
       "2             2      9.26229    11.453915     2.191625     (9.262290297658183, 2.1916251179063693)\n",
       "3           1.0    68.144728    70.779489     2.634761      (68.14472798979841, 2.634760890970938)\n",
       "4           1.0    86.850526    93.227442     6.376916      (86.85052577254828, 6.376915775006637)\n",
       "5           2.0    89.016807    93.227442     4.210635      (89.01680690341163, 4.210634644143283)\n",
       "..          ...          ...          ...          ...                                         ...\n",
       "199         8.0  1439.618028   1439.66933     0.051302    (1439.618027715478, 0.05130237387493253)\n",
       "200         6.0  1440.152095  1440.196362     0.044267  (1440.1520946420496, 0.044267497258260846)\n",
       "201         7.0  1440.152095  1440.196362     0.044267  (1440.1520946420496, 0.044267497258260846)\n",
       "202         1.0  1695.444564  1714.567324     19.12276    (1695.4445642523933, 19.122760129044764)\n",
       "203         2.0  1714.423463  1714.567324     0.143862     (1714.423462695093, 0.1438616863451898)\n",
       "204         3.0  1714.423463  1714.567324     0.143862     (1714.423462695093, 0.1438616863451898)\n",
       "\n",
       "[205 rows x 5 columns]), (98,     burst_level      t_start        t_end   t_duration                                interval_pair\n",
       "0             0     0.003103  1731.236111  1731.233008   (0.003102718386799097, 1731.2330080085667)\n",
       "1             1     0.003103     6.858329     6.855226    (0.003102718386799097, 6.855225930106826)\n",
       "2             2     0.003103     6.254282     6.251179    (0.003102718386799097, 6.251178879290819)\n",
       "3             3     0.003103     4.327371     4.324268    (0.003102718386799097, 4.324267865973525)\n",
       "4             4     0.003103     3.281478     3.278375   (0.003102718386799097, 3.2783752814866602)\n",
       "5             5     0.003103     0.087337     0.084234  (0.003102718386799097, 0.08423419680912048)\n",
       "..          ...          ...          ...          ...                                          ...\n",
       "432         2.0  1725.397686  1725.501796      0.10411    (1725.3976855563233, 0.10411002673208714)\n",
       "433         1.0  1731.213532  1731.236111     0.022579    (1731.2135315386113, 0.02257918834220618)\n",
       "434         2.0  1731.213532  1731.236111     0.022579    (1731.2135315386113, 0.02257918834220618)\n",
       "435         3.0  1731.213532  1731.236111     0.022579    (1731.2135315386113, 0.02257918834220618)\n",
       "436         4.0  1731.213532  1731.236111     0.022579    (1731.2135315386113, 0.02257918834220618)\n",
       "437         5.0  1731.213532  1731.236111     0.022579    (1731.2135315386113, 0.02257918834220618)\n",
       "\n",
       "[438 rows x 5 columns]), (99,     burst_level      t_start        t_end   t_duration                              interval_pair\n",
       "0             0      0.00212  1107.878877  1107.876758   (0.002119678887538612, 1107.87675756705)\n",
       "1           1.0      8.23655     8.681007     0.444457    (8.236550022731535, 0.4444567325990647)\n",
       "2           1.0    10.172892    10.318536     0.145643  (10.172892071539536, 0.14564344543032348)\n",
       "3           1.0    23.524965    24.177703     0.652738   (23.524964595213532, 0.6527382257627323)\n",
       "4           1.0    26.228047    26.802019     0.573972    (26.22804673120845, 0.5739721860736609)\n",
       "5           1.0    27.953865    28.980496     1.026631   (27.953864727634937, 1.0266311542363837)\n",
       "..          ...          ...          ...          ...                                        ...\n",
       "524         2.0  1098.227334   1098.47764     0.250306   (1098.2273340275278, 0.2503064319025725)\n",
       "525         1.0  1101.164687  1101.605211     0.440525  (1101.1646867636591, 0.44052457448560745)\n",
       "526         2.0   1101.34956  1101.605211     0.255652  (1101.3495596289868, 0.25565170915797353)\n",
       "527         1.0  1102.777056  1105.861496      3.08444   (1102.7770558580523, 3.0844400208443403)\n",
       "528         1.0  1106.606732  1107.878877     1.272145   (1106.6067319771973, 1.2721452687401325)\n",
       "529         2.0  1107.345363  1107.384623      0.03926   (1107.345363279106, 0.03926013992168009)\n",
       "\n",
       "[530 rows x 5 columns]), (100,     burst_level      t_start        t_end   t_duration                              interval_pair\n",
       "0             0     1.443901  1731.135257  1729.691356   (1.4439007006585598, 1729.6913563180715)\n",
       "1             1     1.443901    11.250211      9.80631    (1.4439007006585598, 9.806310499203391)\n",
       "2             2     1.443901    11.250211      9.80631    (1.4439007006585598, 9.806310499203391)\n",
       "3           3.0     2.412901     2.706246     0.293345     (2.41290116449818, 0.2933451299322769)\n",
       "4           3.0      6.07629     8.429164     2.352874     (6.076290008844808, 2.352874315343797)\n",
       "5           1.0     38.57023    40.143124     1.572894   (38.570230492041446, 1.5728939146501943)\n",
       "..          ...          ...          ...          ...                                        ...\n",
       "324         2.0  1716.160616  1716.168358     0.007741  (1716.160616365727, 0.007741436013020575)\n",
       "325         3.0  1716.160616  1716.168358     0.007741  (1716.160616365727, 0.007741436013020575)\n",
       "326         4.0  1716.160616  1716.168358     0.007741  (1716.160616365727, 0.007741436013020575)\n",
       "327         5.0  1716.160616  1716.168358     0.007741  (1716.160616365727, 0.007741436013020575)\n",
       "328         6.0  1716.160616  1716.168358     0.007741  (1716.160616365727, 0.007741436013020575)\n",
       "329         1.0  1730.829501  1731.135257     0.305756   (1730.8295010152506, 0.3057560034794733)\n",
       "\n",
       "[330 rows x 5 columns]), (101,     burst_level      t_start        t_end   t_duration                             interval_pair\n",
       "0             0     2.410444  1737.078253  1734.667809  (2.4104435656918213, 1734.6678094503004)\n",
       "1           1.0     7.682638      28.8386    21.155962   (7.682637986377813, 21.155962288263254)\n",
       "2           2.0     7.682638     13.99071     6.308072    (7.682637986377813, 6.308072290266864)\n",
       "3           3.0     7.682638     7.942713     0.260075  (7.682637986377813, 0.26007538684643805)\n",
       "4           3.0     9.963505    10.019292     0.055787  (9.963504658662714, 0.05578749137930572)\n",
       "5           3.0    12.449796    12.865345     0.415549  (12.44979586568661, 0.41554922715295106)\n",
       "..          ...          ...          ...          ...                                       ...\n",
       "350         2.0  1645.842941  1645.983208     0.140267  (1645.8429410083918, 0.1402674481505528)\n",
       "351         1.0  1696.280578  1697.634162     1.353584  (1696.2805779041955, 1.3535839470569044)\n",
       "352         1.0   1729.06175  1734.561795     5.500045   (1729.0617502402747, 5.500044543994591)\n",
       "353         2.0   1729.06175  1729.431035     0.369285  (1729.0617502402747, 0.3692849309882149)\n",
       "354         2.0  1731.394657  1731.789992     0.395335  (1731.3946565658553, 0.3953354776604101)\n",
       "355         1.0  1736.288135  1737.078253     0.790118  (1736.2881350204116, 0.7901179955806583)\n",
       "\n",
       "[356 rows x 5 columns]), (102,     burst_level      t_start        t_end   t_duration                               interval_pair\n",
       "0             0     8.488116  1736.947324  1728.459208     (8.488115974119864, 1728.4592084687902)\n",
       "1             1     8.488116     8.878782     0.390666    (8.488115974119864, 0.39066603989340365)\n",
       "2           1.0    24.330074    34.456825    10.126751     (24.33007394289598, 10.126750655239448)\n",
       "3           2.0    24.330074    27.233911     2.903837     (24.33007394289598, 2.9038372333161533)\n",
       "4           3.0    24.330074    25.352496     1.022423     (24.33007394289598, 1.0224225164856762)\n",
       "5           4.0    24.777664     24.89609     0.118426    (24.777664113789797, 0.1184255393454805)\n",
       "..          ...          ...          ...          ...                                         ...\n",
       "622         3.0  1721.981132  1722.023955     0.042824  (1721.9811317855492, 0.042823658091947436)\n",
       "623         4.0  1721.981132  1722.023955     0.042824  (1721.9811317855492, 0.042823658091947436)\n",
       "624         5.0  1721.981132  1722.023955     0.042824  (1721.9811317855492, 0.042823658091947436)\n",
       "625         1.0  1731.797703  1731.835273     0.037571   (1731.7977027595043, 0.03757054079324007)\n",
       "626         2.0  1731.797703  1731.835273     0.037571   (1731.7977027595043, 0.03757054079324007)\n",
       "627         3.0  1731.797703  1731.835273     0.037571   (1731.7977027595043, 0.03757054079324007)\n",
       "\n",
       "[628 rows x 5 columns]), (103,     burst_level      t_start        t_end   t_duration                              interval_pair\n",
       "0             0     3.633099  1714.353698  1710.720599     (3.63309893978294, 1710.7205986711197)\n",
       "1             1     3.633099    13.360183     9.727084      (3.63309893978294, 9.727083659730852)\n",
       "2           2.0     8.130873    13.360183     5.229309     (8.130873276968487, 5.229309322545305)\n",
       "3           3.0     8.130873    12.750483      4.61961     (8.130873276968487, 4.619609794812277)\n",
       "4           4.0     8.130873     8.735873     0.604999    (8.130873276968487, 0.6049993701744825)\n",
       "5           5.0     8.130873     8.210715     0.079841   (8.130873276968487, 0.07984123914502561)\n",
       "..          ...          ...          ...          ...                                        ...\n",
       "262         2.0  1686.169372  1686.351971       0.1826  (1686.1693715612637, 0.18259958655107766)\n",
       "263         3.0  1686.169372  1686.351971       0.1826  (1686.1693715612637, 0.18259958655107766)\n",
       "264         4.0  1686.169372  1686.351971       0.1826  (1686.1693715612637, 0.18259958655107766)\n",
       "265         5.0  1686.169372  1686.351971       0.1826  (1686.1693715612637, 0.18259958655107766)\n",
       "266         6.0  1686.169372  1686.351971       0.1826  (1686.1693715612637, 0.18259958655107766)\n",
       "267         7.0  1686.252438  1686.316797     0.064358  (1686.2524383987766, 0.06435836688615382)\n",
       "\n",
       "[268 rows x 5 columns]), (104,     burst_level      t_start        t_end   t_duration                               interval_pair\n",
       "0             0     3.198227  1731.294294  1728.096068      (3.198226842447184, 1728.096067534876)\n",
       "1           1.0     4.283625     4.560443     0.276818     (4.28362532670144, 0.27681777835823596)\n",
       "2           1.0     27.53082    27.763892     0.233073     (27.53081982419826, 0.2330725205829367)\n",
       "3           1.0    45.814371    49.018466     3.204094     (45.81437142309733, 3.2040943594183773)\n",
       "4           2.0    46.247523    47.050974      0.80345     (46.24752320128027, 0.8034504685783759)\n",
       "5           1.0    62.902701    63.874497     0.971796     (62.90270059381146, 0.9717959824483842)\n",
       "..          ...          ...          ...          ...                                         ...\n",
       "544         4.0  1649.561841  1649.692001     0.130161      (1649.561840864364, 0.130160573287867)\n",
       "545         1.0  1651.770976  1655.004316      3.23334    (1651.7709763732273, 3.2333397845504805)\n",
       "546         2.0   1651.92347  1651.964758     0.041288  (1651.9234703752445, 0.041287658736109734)\n",
       "547         2.0  1652.534583  1652.600477     0.065894    (1652.534583022236, 0.06589436624199152)\n",
       "548         2.0  1654.291735  1655.004316     0.712581    (1654.2917354025412, 0.7125807552365586)\n",
       "549         3.0  1654.291735  1654.935749     0.644014    (1654.2917354025412, 0.6440137503668666)\n",
       "\n",
       "[550 rows x 5 columns])])"
      ]
     },
     "execution_count": 18,
     "metadata": {},
     "output_type": "execute_result"
    }
   ],
   "source": [
    "active_burst_intervals = curr_active_pipeline.computation_results[global_epoch_name].computed_data['burst_detection']['burst_intervals']\n",
    "active_burst_intervals"
   ]
  },
  {
   "cell_type": "code",
   "execution_count": null,
   "id": "4b32125e",
   "metadata": {},
   "outputs": [],
   "source": []
  },
  {
   "cell_type": "code",
   "execution_count": 4,
   "id": "f78f27b5",
   "metadata": {
    "notebookRunGroups": {
     "groupValue": "1"
    }
   },
   "outputs": [],
   "source": [
    "# Relative Entropy/Surprise Results:\n",
    "active_extended_stats = global_results['extended_stats']\n",
    "active_relative_entropy_results = active_extended_stats['pf_dt_sequential_surprise'] # DynamicParameters\n",
    "historical_snapshots = active_relative_entropy_results['historical_snapshots']\n",
    "post_update_times: np.ndarray = active_relative_entropy_results['post_update_times'] # (4152,) = (n_post_update_times,)\n",
    "snapshot_differences_result_dict = active_relative_entropy_results['snapshot_differences_result_dict']\n",
    "time_intervals: np.ndarray = active_relative_entropy_results['time_intervals']\n",
    "surprise_time_bin_duration = (post_update_times[2]-post_update_times[1])\n",
    "long_short_rel_entr_curves_frames: np.ndarray = active_relative_entropy_results['long_short_rel_entr_curves_frames'] # (4152, 108, 63) = (n_post_update_times, n_neurons, n_xbins)\n",
    "short_long_rel_entr_curves_frames: np.ndarray = active_relative_entropy_results['short_long_rel_entr_curves_frames'] # (4152, 108, 63) = (n_post_update_times, n_neurons, n_xbins)\n",
    "flat_relative_entropy_results: np.ndarray = active_relative_entropy_results['flat_relative_entropy_results'] # (149, 63) - (nSnapshots, nXbins)\n",
    "flat_jensen_shannon_distance_results: np.ndarray = active_relative_entropy_results['flat_jensen_shannon_distance_results'] # (149, 63) - (nSnapshots, nXbins)\n",
    "flat_jensen_shannon_distance_across_all_positions: np.ndarray = np.sum(np.abs(flat_jensen_shannon_distance_results), axis=1) # sum across all position bins # (4152,) - (nSnapshots)\n",
    "flat_surprise_across_all_positions: np.ndarray = np.sum(np.abs(flat_relative_entropy_results), axis=1) # sum across all position bins # (4152,) - (nSnapshots)\n",
    "\n",
    "## Get the placefield dt matrix:\n",
    "if 'snapshot_occupancy_weighted_tuning_maps' not in active_relative_entropy_results:\n",
    "\t## Compute it if missing:\n",
    "\toccupancy_weighted_tuning_maps_over_time = np.stack([placefield_snapshot.occupancy_weighted_tuning_maps_matrix for placefield_snapshot in historical_snapshots.values()])\n",
    "\tactive_relative_entropy_results['snapshot_occupancy_weighted_tuning_maps'] = occupancy_weighted_tuning_maps_over_time\n",
    "else:\n",
    "\toccupancy_weighted_tuning_maps_over_time = active_relative_entropy_results['snapshot_occupancy_weighted_tuning_maps'] # (n_post_update_times, n_neurons, n_xbins)\n"
   ]
  },
  {
   "cell_type": "code",
   "execution_count": 5,
   "id": "89e5db7a",
   "metadata": {
    "notebookRunGroups": {
     "groupValue": "1"
    }
   },
   "outputs": [],
   "source": [
    "# Time-dependent\n",
    "long_pf1D_dt, short_pf1D_dt, global_pf1D_dt = long_results.pf1D_dt, short_results.pf1D_dt, global_results.pf1D_dt\n",
    "long_pf2D_dt, short_pf2D_dt, global_pf2D_dt = long_results.pf2D_dt, short_results.pf2D_dt, global_results.pf2D_dt\n",
    "global_pf1D_dt: PfND_TimeDependent = global_results.pf1D_dt\n",
    "global_pf2D_dt: PfND_TimeDependent = global_results.pf2D_dt"
   ]
  },
  {
   "cell_type": "code",
   "execution_count": 6,
   "id": "2a4a4645",
   "metadata": {
    "notebookRunGroups": {
     "groupValue": "1"
    }
   },
   "outputs": [],
   "source": [
    "## long_short_endcap_analysis: checks for cells localized to the endcaps that have their placefields truncated after shortening the track\n",
    "truncation_checking_result: TruncationCheckingResults = curr_active_pipeline.global_computation_results.computed_data.long_short_endcap\n",
    "disappearing_endcap_aclus = truncation_checking_result.disappearing_endcap_aclus\n",
    "# disappearing_endcap_aclus\n",
    "trivially_remapping_endcap_aclus = truncation_checking_result.minor_remapping_endcap_aclus\n",
    "# trivially_remapping_endcap_aclus\n",
    "significant_distant_remapping_endcap_aclus = truncation_checking_result.significant_distant_remapping_endcap_aclus\n",
    "# significant_distant_remapping_endcap_aclus\n",
    "appearing_aclus = jonathan_firing_rate_analysis_result.neuron_replay_stats_df[jonathan_firing_rate_analysis_result.neuron_replay_stats_df['track_membership'] == SplitPartitionMembership.RIGHT_ONLY].index\n",
    "# appearing_aclus"
   ]
  },
  {
   "cell_type": "code",
   "execution_count": null,
   "id": "2a3c5c2c",
   "metadata": {},
   "outputs": [],
   "source": [
    "significant_distant_remapping_endcap_aclus"
   ]
  },
  {
   "cell_type": "code",
   "execution_count": null,
   "id": "f01e2a49",
   "metadata": {},
   "outputs": [],
   "source": [
    "from pyphoplacecellanalysis.SpecificResults.fourthYearPresentation import fig_remapping_cells\n",
    "\n",
    "graphics_output_dict = fig_remapping_cells(curr_active_pipeline=curr_active_pipeline)"
   ]
  },
  {
   "cell_type": "markdown",
   "id": "bf122d95",
   "metadata": {},
   "source": [
    "## 2023-10-11 - Plot Peak Position on the Long Track vs. LapFRI to see where the remapping occurs:\n"
   ]
  },
  {
   "cell_type": "code",
   "execution_count": null,
   "id": "1beb95f6",
   "metadata": {},
   "outputs": [],
   "source": [
    "# 2023-11-10 - Adds \"LxC_PBEsDeltaMinus\" for PBEs \n",
    "\n",
    "\n",
    "temp = add_extra_spike_rate_trends(curr_active_pipeline)\n",
    "temp\n"
   ]
  },
  {
   "cell_type": "markdown",
   "id": "fb2f63af",
   "metadata": {
    "notebookRunGroups": {
     "groupValue": "1"
    }
   },
   "source": [
    "## 2023-10-04 - Compare the decoded result of each replay epoch between the long/short decoder to determine which is better for that Epoch:"
   ]
  },
  {
   "cell_type": "code",
   "execution_count": null,
   "id": "f19e222b",
   "metadata": {},
   "outputs": [],
   "source": [
    "from pyphoplacecellanalysis.Analysis.Decoder.reconstruction import DecodedFilterEpochsResult\n",
    "\n",
    "# neuron_replay_stats_df.reset_index()\n",
    "# neuron_replay_stats_df.index = neuron_replay_stats_df['aclu']\n",
    "\n",
    "a_long_decoder_result: DecodedFilterEpochsResult = long_results_obj.all_included_filter_epochs_decoder_result\n",
    "a_short_decoder_result: DecodedFilterEpochsResult = short_results_obj.all_included_filter_epochs_decoder_result\n",
    "\n",
    "\n",
    "# filter_epochs_decoder_result\n",
    "# curr_results_obj.active_filter_epochs, curr_results_obj.all_included_filter_epochs_decoder_result, xbin=curr_results_obj.original_1D_decoder.xbin\n",
    "\n",
    "\n",
    "# image_layer_dict = {}\n",
    "# layer_properties_dict = {\n",
    "# \t# 'snapshot_occupancy_weighted_tuning_maps': dict(blending='additive', colormap='viridis', name='pf1D_dt'),\n",
    "# #  'flat_jensen_shannon_distance_results': dict(blending='additive', colormap='gray'),\n",
    "# \t'long_p_x_given_n': dict(blending='additive', colormap='bop blue'),\n",
    "# \t'short_p_x_given_n': dict(blending='additive', colormap='red'),\n",
    "\t\n",
    "# }\n",
    "\n",
    "# for a_name, layer_properties in layer_properties_dict.items():\n",
    "# \t# image_layer_dict[a_name] = viewer.add_image(active_relative_entropy_results_xr_dict[a_name].to_numpy().astype(float), name=a_name)\n",
    "# \timage_layer_dict[a_name] = viewer.add_image(active_relative_entropy_results[a_name].astype(float), **(dict(name=a_name)|layer_properties))\n",
    "\n",
    "# assert viewer.dims.ndim == 3\n",
    "# ## Set the dimensions appropriately\n",
    "# viewer.dims.axis_labels = ('t', 'neuron_id', 'xbin')\n",
    "\n",
    "\n",
    "\n",
    "# fig, ax = plt.subplots(1,1)\n",
    "for decoded_epoch_idx in np.arange(a_long_decoder_result.num_filter_epochs):\n",
    "\n",
    "\tif decoded_epoch_idx < 5:\n",
    "\t\t# decoded_epoch_idx:int = 0\n",
    "\t\tcurr_epoch_time_bin_container = a_long_decoder_result.time_bin_containers[decoded_epoch_idx]\n",
    "\t\tcurr_time_bins = curr_epoch_time_bin_container.centers\n",
    "\n",
    "\t\t## Long Decoding:\n",
    "\t\tcurr_long_epoch_p_x_given_n = a_long_decoder_result.p_x_given_n_list[decoded_epoch_idx] # .shape: (239, 5) - (n_x_bins, n_epoch_time_bins)\n",
    "\t\t## Need to exclude estimates from bins that didn't have any spikes in them (in general these glitch around):\n",
    "\t\t# curr_total_spike_counts_per_window = np.sum(a_decoder_result.spkcount[decoded_epoch_idx], axis=0) # left_out_decoder_result.spkcount[i].shape # (69, 222) - (nCells, nTimeWindowCenters)\n",
    "\t\t# curr_is_time_bin_non_firing = (curr_total_spike_counts_per_window == 0) # this would mean that no cells fired in this time bin\n",
    "\t\tcurr_long_most_likely_position_indicies = np.squeeze(a_long_decoder_result.most_likely_position_indicies_list[decoded_epoch_idx]) # (n_epoch_time_bins, ) one position for each time bin in the replay\n",
    "\t\t# curr_most_likely_positions = a_decoder_result.most_likely_positions_list[decoded_epoch_idx]\n",
    "\t\tcurr_long_most_likely_position_confidence = np.max(curr_long_epoch_p_x_given_n, axis=0) # (n_epoch_time_bins, )\n",
    "\n",
    "\n",
    "\t\t## Short Decoding:\n",
    "\t\tcurr_short_epoch_p_x_given_n = a_short_decoder_result.p_x_given_n_list[decoded_epoch_idx] # .shape: (239, 5) - (n_x_bins, n_epoch_time_bins)\n",
    "\t\t## Need to exclude estimates from bins that didn't have any spikes in them (in general these glitch around):\n",
    "\t\t# curr_total_spike_counts_per_window = np.sum(a_decoder_result.spkcount[decoded_epoch_idx], axis=0) # left_out_decoder_result.spkcount[i].shape # (69, 222) - (nCells, nTimeWindowCenters)\n",
    "\t\t# curr_is_time_bin_non_firing = (curr_total_spike_counts_per_window == 0) # this would mean that no cells fired in this time bin\n",
    "\t\tcurr_short_most_likely_position_indicies = np.squeeze(a_short_decoder_result.most_likely_position_indicies_list[decoded_epoch_idx]) # (n_epoch_time_bins, ) one position for each time bin in the replay\n",
    "\t\tcurr_short_most_likely_position_confidence = np.max(curr_short_epoch_p_x_given_n, axis=0) # (n_epoch_time_bins, )\n",
    "\n",
    "\t\t# _long_short_decoding_comparison_df = pd.DataFrame({'t': curr_time_bins,\n",
    "\t\t# \t'x_bin_long': curr_long_most_likely_position_indicies, 'x_bin_long_confidence': curr_long_most_likely_position_confidence,\n",
    "\t\t# \t'x_bin_short': curr_short_most_likely_position_indicies, 'x_bin_short_confidence': curr_short_most_likely_position_confidence}) # , 'x': curr_most_likely_positions\n",
    "\n",
    "\t\tviewer.add_image(curr_long_epoch_p_x_given_n.astype(float), **(dict(name=f'long_p_x_given_n[{decoded_epoch_idx}]', blending='additive', colormap='red')))\n",
    "\t\tviewer.add_image(curr_short_epoch_p_x_given_n.astype(float), **(dict(name=f'short_p_x_given_n[{decoded_epoch_idx}]', blending='additive', colormap='bop blue')))\n",
    "\n",
    "\t# np.shape(curr_long_epoch_p_x_given_n)\n",
    "\t# _long_short_decoding_comparison_df.plot(y=['x_bin_long', 'x_bin_short'], color=['r','g'], ax=ax)\n",
    "\n",
    "# _long_short_decoding_comparison_df"
   ]
  },
  {
   "cell_type": "code",
   "execution_count": null,
   "id": "3e173de7",
   "metadata": {},
   "outputs": [],
   "source": [
    "np.max([np.shape(a_long_decoder_result.p_x_given_n_list[decoded_epoch_idx]) for decoded_epoch_idx in np.arange(a_long_decoder_result.num_filter_epochs)], axis=0)\n",
    "# np.max([np.shape(a_short_decoder_result.p_x_given_n_list[decoded_epoch_idx]) for decoded_epoch_idx in np.arange(a_short_decoder_result.num_filter_epochs)], axis=0)\n"
   ]
  },
  {
   "cell_type": "code",
   "execution_count": null,
   "id": "37de2edc",
   "metadata": {},
   "outputs": [],
   "source": [
    "a_long_decoder_result.p_x_given_n_list.shape"
   ]
  },
  {
   "cell_type": "code",
   "execution_count": null,
   "id": "dc5e9d49",
   "metadata": {},
   "outputs": [],
   "source": [
    "# a_decoder_result.p_x_given_n_list[decoded_epoch_idx]\n",
    "# a_decoder_result.most_likely_position_indicies_list\n",
    "\n",
    "\n",
    "# curr_most_likely_positions\n",
    "\n",
    "_df.plot()"
   ]
  },
  {
   "cell_type": "code",
   "execution_count": null,
   "id": "95c62e25",
   "metadata": {},
   "outputs": [],
   "source": [
    "curr_time_bins.shape\n",
    "curr_most_likely_positions.shape\n",
    "curr_most_likely_position_indicies.shape"
   ]
  },
  {
   "cell_type": "code",
   "execution_count": null,
   "id": "999f7a39",
   "metadata": {},
   "outputs": [],
   "source": [
    "a_decoder_result\n"
   ]
  },
  {
   "cell_type": "code",
   "execution_count": null,
   "id": "bcbd9f4a",
   "metadata": {},
   "outputs": [],
   "source": [
    "for decoded_epoch_idx in np.arange(a_decoder_result.num_filter_epochs):\n",
    "\tcurr_epoch_time_bin_container = a_decoder_result.time_bin_containers[decoded_epoch_idx]\n",
    "\tcurr_cell_decoded_epoch_time_bins.append(curr_epoch_time_bin_container)\n",
    "\tcurr_time_bins = curr_epoch_time_bin_container.centers\n",
    "\tcurr_epoch_p_x_given_n = a_decoder_result.p_x_given_n_list[decoded_epoch_idx] # .shape: (239, 5) - (n_x_bins, n_epoch_time_bins)\n",
    "\tassert curr_epoch_p_x_given_n.shape[0] == curr_cell_pf_curve.shape[0]\n",
    "\t\n",
    "\t## Need to exclude estimates from bins that didn't have any spikes in them (in general these glitch around):\n",
    "\tcurr_total_spike_counts_per_window = np.sum(a_decoder_result.spkcount[decoded_epoch_idx], axis=0) # left_out_decoder_result.spkcount[i].shape # (69, 222) - (nCells, nTimeWindowCenters)\n",
    "\tcurr_is_time_bin_non_firing = (curr_total_spike_counts_per_window == 0) # this would mean that no cells fired in this time bin\n",
    "\tcurr_most_likely_position_indicies = a_decoder_result.most_likely_position_indicies_list[decoded_epoch_idx] # (n_epoch_time_bins, ) one position for each time bin in the replay\n",
    "\t\n",
    "\t# From the firing map of the placefields for this neuron (`decoder_1D.F.T[left_out_neuron_IDX]`) get the value for each position bin index in the epoch\n",
    "\tcurr_epoch_expected_fr = np.squeeze(a_decoder_1D.F.T[left_out_neuron_IDX][curr_most_likely_position_indicies])\n",
    "\t# expected_num_spikes = curr_epoch_expected_fr * decoder_result.decoding_time_bin_size\n",
    "\n",
    "\t# Eqn 1:\n",
    "\t# p_n_given_x = lambda n: (1.0/factorial(n)) * pow(expected_num_spikes, n) * np.exp(-expected_num_spikes) # likelihood function\n",
    "\t\n",
    "\tall_cells_decoded_expected_firing_rates[left_out_aclu].append(curr_epoch_expected_fr)"
   ]
  },
  {
   "cell_type": "code",
   "execution_count": null,
   "id": "ff2fbcd2",
   "metadata": {},
   "outputs": [],
   "source": []
  },
  {
   "cell_type": "code",
   "execution_count": null,
   "id": "049bf938",
   "metadata": {},
   "outputs": [],
   "source": [
    "from neuropy.core.neuron_identities import NeuronIdentityDataframeAccessor\n",
    "\n",
    "neuron_replay_stats_df = neuron_replay_stats_df.neuron_identity.make_neuron_indexed_df_global(curr_active_pipeline.get_session_context(), add_expanded_session_context_keys=False, add_extended_aclu_identity_columns=False)\n",
    "neuron_replay_stats_df"
   ]
  },
  {
   "cell_type": "code",
   "execution_count": null,
   "id": "29710ea1",
   "metadata": {},
   "outputs": [],
   "source": [
    "neuron_replay_stats_df.neuron_uid"
   ]
  },
  {
   "cell_type": "code",
   "execution_count": null,
   "id": "f88beb94",
   "metadata": {},
   "outputs": [],
   "source": [
    "from neuropy.core.user_annotations import UserAnnotationsManager, SessionCellExclusivityRecord\n",
    "from neuropy.utils.result_context import IdentifyingContext\n",
    "\n",
    "\n",
    "\n",
    "# for a_ctx, a_val in annotation_man.get_hardcoded_specific_session_override_dict().items():\n",
    "# \tannotation_man.annotations[a_ctx] = a_val\n",
    "\n",
    "# for a_ctx, a_val in UserAnnotationsManager.get_user_annotations().items():\n",
    "# \tannotation_man.annotations[a_ctx] = a_val\n",
    "\n",
    "# for a_ctx, a_val in session_cell_exclusivity_annotations.items():\n",
    "# \t# Not ideal. Adds a key 'session_cell_exclusivity' to the extant session context instead of being indexable by an entirely new context\n",
    "# \tannotation_man.annotations[a_ctx] = annotation_man.annotations.get(a_ctx, {}) | dict(session_cell_exclusivity=a_val)\n",
    "# \t# annotation_man.annotations[a_ctx.overwriting_context(user_annotation='session_cell_exclusivity')] = a_val\n",
    "\n",
    "annotation_man = UserAnnotationsManager()\n",
    "session_cell_exclusivity: SessionCellExclusivityRecord = annotation_man.annotations[curr_active_pipeline.get_session_context()].get('session_cell_exclusivity', None)\n",
    "session_cell_exclusivity.LxC\n",
    "session_cell_exclusivity.SxC\n"
   ]
  },
  {
   "cell_type": "code",
   "execution_count": null,
   "id": "4e0f270b",
   "metadata": {},
   "outputs": [],
   "source": [
    "## 2023-10-03 - My metric comes from the number of laps with an active long place vs. number of laps with an active short place\n",
    "# curr_active_pipeline.sess.laps\n",
    "# active_long_spikes_df = active_spikes_df[active_spikes_df.is_included_long_pf1D]\n",
    "# active_short_spikes_df = active_spikes_df[active_spikes_df.is_included_short_pf1D]\n",
    "\n",
    "# active_spikes_df: pd.DataFrame = long_session.spikes_df.copy()\n",
    "active_spikes_df: pd.DataFrame = global_session.spikes_df.copy()\n",
    "# active_spikes_df[active_spikes_df['lap'] != -1]"
   ]
  },
  {
   "cell_type": "code",
   "execution_count": null,
   "id": "9bb48f35",
   "metadata": {},
   "outputs": [],
   "source": [
    "from neuropy.core.neuron_identities import NeuronExtendedIdentityTuple, NeuronType\n",
    "\n",
    "\n",
    "def pho_long_short_exclusivity_index(active_spikes_df: pd.DataFrame) -> pd.DataFrame:\n",
    "\t\"\"\" 2023-10-03 - Long/Short Exclusivity Metric based off of Pho's intuition. Looks at the total number of spikes over laps. Pletny of room for improvement. \n",
    "\n",
    "\t\"\"\"\n",
    "\t# active_spikes_df['neuron_type'] = active_spikes_df.map(\n",
    "\n",
    "\t# Drop rows with missing data in columns: 'lin_pos', 't' and 8 other columns\n",
    "\tactive_spikes_df = active_spikes_df.dropna(subset=['lin_pos', 't', 't_seconds', 't_rel_seconds', 'x', 'y', 'aclu', 'maze_id', 'lap', 'maze_relative_lap'])\n",
    "\t# Filter rows based on columns: 'lap', 'maze_id'\n",
    "\tactive_spikes_df = active_spikes_df[(active_spikes_df['lap'] != -1) & (active_spikes_df['maze_id'] != -1)]\n",
    "\n",
    "\t# Convert the 'neuron_type' column of the dataframe to the categorical type if needed\n",
    "\tcat_type = NeuronType.get_pandas_categories_type()\n",
    "\tif active_spikes_df[\"neuron_type\"].dtype != cat_type:\n",
    "\t\t# If this type check ever becomes a problem and we want a more liberal constraint, All instances of CategoricalDtype compare equal to the string 'category'.\n",
    "\t\tactive_spikes_df[\"neuron_type\"] = active_spikes_df[\"neuron_type\"].apply(lambda x: x.hdfcodingClassName).astype(cat_type) # NeuronType can't seem to be cast directly to the new categorical type, it results in the column being filled with NaNs. Instead cast to string first.\n",
    "\n",
    "\tactive_spikes_df = active_spikes_df.astype({'maze_id': 'category', 'lap': 'category', 'maze_relative_lap': 'category', 'aclu': 'category'})\n",
    "\t# display(active_spikes_df)\n",
    "\n",
    "\t# Performed 5 aggregations grouped on columns: 'aclu', 'maze_id', 'lap'\n",
    "\tactive_spikes_df_agg = active_spikes_df.groupby(['aclu', 'maze_id', 'maze_relative_lap']).agg(t_count=('t', 'count'), lin_pos_mean=('lin_pos', 'mean'), lin_pos_std=('lin_pos', 'std'), lin_pos_min=('lin_pos', 'min'), lin_pos_max=('lin_pos', 'max')).reset_index()\n",
    "\n",
    "\tcurr_unique_aclus = active_spikes_df_agg['aclu'].unique()\n",
    "\tcurr_unique_maze_relative_laps = active_spikes_df_agg['maze_relative_lap'].unique()\n",
    "\tn_total_entries: int = len(active_spikes_df_agg['maze_relative_lap'].unique()) * len(active_spikes_df_agg['aclu'].unique())\n",
    "\n",
    "\t# Static lists of columns:\n",
    "\trelevant_columns_list = ['aclu', 'maze_relative_lap', 't_count', 'lin_pos_mean', 'lin_pos_std', 'lin_pos_min', 'lin_pos_max']\n",
    "\trelevant_index_column_names = ['aclu', 'maze_relative_lap']\n",
    "\tnumerical_column_names = ['t_count', 'lin_pos_mean', 'lin_pos_std', 'lin_pos_min', 'lin_pos_max']\n",
    "\n",
    "\tlong_maze_df = active_spikes_df_agg[active_spikes_df_agg['maze_id'] == 1][relevant_columns_list].reset_index()\n",
    "\tshort_maze_df = active_spikes_df_agg[active_spikes_df_agg['maze_id'] == 2][relevant_columns_list].reset_index() #.set_index(['aclu', 'maze_relative_lap'])\n",
    "\n",
    "\tn_laps = len(active_spikes_df_agg['maze_relative_lap'].unique())\n",
    "\tn_long_laps = len(long_maze_df['maze_relative_lap'].unique()) \n",
    "\tn_short_laps = len(short_maze_df['maze_relative_lap'].unique()) \n",
    "\n",
    "\tn_min_laps = min(n_long_laps, n_short_laps)\n",
    "\tsafe_lap_indicies = np.arange(n_min_laps) + 1\n",
    "\tif n_long_laps > n_min_laps:\n",
    "\t\t# truncate the long laps\n",
    "\t\tlong_maze_df = long_maze_df[np.isin(long_maze_df['maze_relative_lap'], safe_lap_indicies)]\n",
    "\tif n_short_laps > n_min_laps:\n",
    "\t\t# truncate the short laps\n",
    "\t\tshort_maze_df = short_maze_df[np.isin(short_maze_df['maze_relative_lap'], safe_lap_indicies)]\n",
    "\n",
    "\t## Compute the difference between the two\n",
    "\tlong_short_maze_diff_df = long_maze_df[numerical_column_names] - short_maze_df[numerical_column_names]\n",
    "\tlong_short_maze_diff_df[relevant_index_column_names] = long_maze_df[relevant_index_column_names].copy()\n",
    "\t# long_short_maze_diff_df = long_short_maze_diff_df.set_index(relevant_index_column_names)\n",
    "\tlong_short_maze_diff_df = long_short_maze_diff_df.groupby(['aclu']).agg(t_count_sum=('t_count', 'sum'), t_count_mean=('t_count', 'mean')).reset_index() # Aggregate across all columns to get a value for each 'aclu'\n",
    "\t# , t_count_max=('t_count', 'max')\n",
    "\t# long_short_maze_diff_df.set_index('aclu')\n",
    "\t# Sort by column: 't_count_sum' (ascending)\n",
    "\tlong_short_maze_diff_df = long_short_maze_diff_df.sort_values(['t_count_sum'], na_position='first')\n",
    "\treturn long_short_maze_diff_df\n",
    "\n",
    "\n",
    "active_spikes_df: pd.DataFrame = global_session.spikes_df.copy()\n",
    "long_short_maze_diff_df = pho_long_short_exclusivity_index(active_spikes_df=active_spikes_df)\n",
    "long_short_maze_diff_df"
   ]
  },
  {
   "cell_type": "code",
   "execution_count": null,
   "id": "39b6acf8",
   "metadata": {},
   "outputs": [],
   "source": [
    "from pyphocorehelpers.indexing_helpers import partition, safe_pandas_get_group\n",
    "from pyphocorehelpers.indexing_helpers import partition_df\n",
    "\n",
    "unique_aclu_values, aclu_group_dfs = partition_df(long_short_maze_diff_df, 'aclu')\n",
    "n_aclus = len(unique_aclu_values)\n",
    "\n",
    "fig, axes = plt.subplots(nrows=n_aclus, ncols=1, sharex=True, sharey=False)\n",
    "\n",
    "for i, (aclu, aclu_df) in enumerate(zip(unique_aclu_values, aclu_group_dfs)):\n",
    "\taclu_df.plot(x='maze_relative_lap', y='t_count', label=f'{aclu}', ax=axes[i])"
   ]
  },
  {
   "cell_type": "code",
   "execution_count": null,
   "id": "c298685a",
   "metadata": {},
   "outputs": [],
   "source": [
    "long_short_maze_diff_df = long_maze_df['t_count'].to_numpy() - short_maze_df['t_count'].to_numpy()\n",
    "long_short_maze_diff_df.set_index()\n",
    "long_short_maze_diff_df.shape"
   ]
  },
  {
   "cell_type": "code",
   "execution_count": null,
   "id": "7f086f9f",
   "metadata": {},
   "outputs": [],
   "source": [
    "active_spikes_df_agg.reindex([active_spikes_df_agg['aclu'].unique(), active_spikes_df_agg['maze_relative_lap'].unique()], fill_value=0)"
   ]
  },
  {
   "cell_type": "code",
   "execution_count": null,
   "id": "ee4a8fac",
   "metadata": {},
   "outputs": [],
   "source": [
    "from pyphocorehelpers.indexing_helpers import partition, safe_pandas_get_group\n",
    "\n",
    "unique_values, group_dfs = partition(active_spikes_df_agg, 'maze_id')"
   ]
  },
  {
   "cell_type": "code",
   "execution_count": null,
   "id": "28f06f07",
   "metadata": {},
   "outputs": [],
   "source": [
    "\n",
    "unique_values, group_dfs = partition(active_spikes_df_agg, 'maze_id')\n",
    "unique_values"
   ]
  },
  {
   "cell_type": "code",
   "execution_count": null,
   "id": "ba9cf0cc",
   "metadata": {},
   "outputs": [],
   "source": [
    "safe_pandas_get_group(active_spikes_df_agg, "
   ]
  },
  {
   "cell_type": "code",
   "execution_count": null,
   "id": "44579fb4",
   "metadata": {},
   "outputs": [],
   "source": [
    "group_dfs"
   ]
  },
  {
   "cell_type": "code",
   "execution_count": null,
   "id": "8bcf8721",
   "metadata": {},
   "outputs": [],
   "source": [
    "unique_values, group_dfs = partition(active_spikes_df, 'aclu')\n",
    "unique_values"
   ]
  },
  {
   "cell_type": "code",
   "execution_count": null,
   "id": "fc7770fd",
   "metadata": {},
   "outputs": [],
   "source": [
    "for aclu "
   ]
  },
  {
   "cell_type": "code",
   "execution_count": null,
   "id": "06339961",
   "metadata": {},
   "outputs": [],
   "source": [
    "a_df = group_dfs[unique_values[0]]\n",
    "# type(a_df)\n",
    "a_df.shape # (4320, 8)\n",
    "\n"
   ]
  },
  {
   "cell_type": "code",
   "execution_count": null,
   "id": "e21e3106",
   "metadata": {},
   "outputs": [],
   "source": [
    "active_spikes_df_agg[active_spikes_df_agg['maze_id'] == 1]"
   ]
  },
  {
   "cell_type": "code",
   "execution_count": null,
   "id": "1f0bde1f",
   "metadata": {},
   "outputs": [],
   "source": [
    "active_spikes_df_agg['maze_id'].eq(1).astype(int).groupby(active_spikes_df_agg['aclu']).sum()"
   ]
  },
  {
   "cell_type": "code",
   "execution_count": null,
   "id": "1469641d",
   "metadata": {},
   "outputs": [],
   "source": [
    "# Performed 2 aggregations grouped on columns: 'aclu', 'maze_id', 'lap'\n",
    "active_spikes_df = active_spikes_df.groupby(['aclu', 'maze_id', 'lap']).agg(flat_spike_idx_count=('flat_spike_idx', 'count'), lin_pos_var=('lin_pos', 'var')).reset_index()\n"
   ]
  },
  {
   "cell_type": "code",
   "execution_count": null,
   "id": "bae5e597",
   "metadata": {},
   "outputs": [],
   "source": [
    "# Performed 5 aggregations grouped on columns: 'aclu', 'maze_id'\n",
    "active_spikes_df = active_spikes_df.groupby(['aclu', 'maze_id']).agg(t_count=('t', 'count'), lin_pos_mean=('lin_pos', 'mean'), lin_pos_std=('lin_pos', 'std'), lin_pos_min=('lin_pos', 'min'), lin_pos_max=('lin_pos', 'max')).reset_index()"
   ]
  },
  {
   "cell_type": "code",
   "execution_count": null,
   "id": "678ee8ad",
   "metadata": {},
   "outputs": [],
   "source": [
    "'maze_id'==1\n",
    "\n",
    "active_spikes_df[active_spikes_df['lap'] != -1]"
   ]
  },
  {
   "cell_type": "code",
   "execution_count": null,
   "id": "2340733a",
   "metadata": {},
   "outputs": [],
   "source": [
    "long_laps"
   ]
  },
  {
   "cell_type": "code",
   "execution_count": null,
   "id": "53f47f02",
   "metadata": {},
   "outputs": [],
   "source": [
    "short_laps"
   ]
  },
  {
   "cell_type": "code",
   "execution_count": null,
   "id": "033ee54c",
   "metadata": {},
   "outputs": [],
   "source": [
    "# column_rename_dict = {'neuron_type':'neuron_type'}\n",
    "# input_df.rename(\n",
    "\n"
   ]
  },
  {
   "cell_type": "markdown",
   "id": "0ff2939c",
   "metadata": {},
   "source": [
    "# 2023-10-03 - Recompute `long_short_inst_spike_rate_groups`, fixing result for empty LxC/SxC"
   ]
  },
  {
   "cell_type": "code",
   "execution_count": null,
   "id": "e74aa3d7",
   "metadata": {},
   "outputs": [],
   "source": [
    "curr_active_pipeline.global_computation_results.computation_config"
   ]
  },
  {
   "cell_type": "code",
   "execution_count": null,
   "id": "95ce4dc2",
   "metadata": {},
   "outputs": [],
   "source": [
    "if curr_active_pipeline.global_computation_results.computation_config is None:\n",
    "\tglobal_computation_results.computation_config = DynamicContainer(instantaneous_time_bin_size_seconds=0.01)\n",
    "else:\n",
    "\t# update the existing value\n",
    "\tcurr_active_pipeline.global_computation_results.computation_config.instantaneous_time_bin_size_seconds = 0.01\n"
   ]
  },
  {
   "cell_type": "code",
   "execution_count": null,
   "id": "4f4f5f01",
   "metadata": {},
   "outputs": [],
   "source": [
    "curr_active_pipeline.reload_default_computation_functions()\n",
    "newly_computed_values = batch_extended_computations(curr_active_pipeline, include_includelist=['long_short_inst_spike_rate_groups'], include_global_functions=True, fail_on_exception=True, progress_print=True, force_recompute=True, debug_print=False)\n",
    "newly_computed_values\n",
    "\n"
   ]
  },
  {
   "cell_type": "code",
   "execution_count": null,
   "id": "e381e39b",
   "metadata": {},
   "outputs": [],
   "source": [
    "curr_active_pipeline.save_global_computation_results()"
   ]
  },
  {
   "cell_type": "code",
   "execution_count": null,
   "id": "8cf4d149",
   "metadata": {},
   "outputs": [],
   "source": [
    "neuron_replay_stats_df"
   ]
  },
  {
   "cell_type": "markdown",
   "id": "e903acc7",
   "metadata": {},
   "source": [
    "## 2023-09-29 - Plot the LxC/SxC PhoJonathanPlots"
   ]
  },
  {
   "cell_type": "code",
   "execution_count": 9,
   "id": "612d876e",
   "metadata": {},
   "outputs": [],
   "source": [
    "from pyphoplacecellanalysis.General.Batch.NonInteractiveProcessing import batch_perform_all_plots, BatchPhoJonathanFiguresHelper"
   ]
  },
  {
   "cell_type": "code",
   "execution_count": 10,
   "id": "ae5922fb",
   "metadata": {},
   "outputs": [
    {
     "name": "stdout",
     "output_type": "stream",
     "text": [
      "WARNING: long_only_aclus is empty, so not adding kwargs for these.\n",
      "WARNING: short_only_aclus is empty, so not adding kwargs for these.\n",
      "include_includelist: ['maze1', 'maze2', 'maze']\n",
      "long_epoch_name: maze1, short_epoch_name: maze2, global_epoch_name: maze\n",
      "DEPRICATION WARNING: workaround to allow subscripting ComputationResult objects. Will be depricated. key: computed_data\n"
     ]
    },
    {
     "name": "stderr",
     "output_type": "stream",
     "text": [
      "C:\\Users\\pho\\repos\\Spike3DWorkEnv\\pyPhoPlaceCellAnalysis\\src\\pyphoplacecellanalysis\\General\\Mixins\\CrossComputationComparisonHelpers.py:235: RuntimeWarning: invalid value encountered in divide\n",
      "  _long_to_short_balances = (rdf.num_short_only_neuron_participating.values - rdf.num_long_only_neuron_participating.values) / (rdf.num_short_only_neuron_participating.values + rdf.num_long_only_neuron_participating.values) ## Working but (0, 1, 1) would clip to 0.5 despite (1, 13, 0) going all the way down to -1.0\n",
      "C:\\Users\\pho\\repos\\Spike3DWorkEnv\\pyPhoPlaceCellAnalysis\\src\\pyphoplacecellanalysis\\General\\Mixins\\CrossComputationComparisonHelpers.py:265: RuntimeWarning: invalid value encountered in divide\n",
      "  _long_to_short_balances = (rdf.num_short_only_neuron_participating.values - rdf.num_long_only_neuron_participating.values) / (rdf.num_short_only_neuron_participating.values + rdf.num_long_only_neuron_participating.values) ## Working but (0, 1, 1) would clip to 0.5 despite (1, 13, 0) going all the way down to -1.0\n"
     ]
    },
    {
     "name": "stdout",
     "output_type": "stream",
     "text": [
      "\t saved C:\\Users\\pho\\repos\\Spike3DWorkEnv\\Spike3D\\EXTERNAL\\Screenshots\\ProgrammaticDisplayFunctionTesting\\2023-10-16\\kdiba\\gor01\\one\\2006-6-09_1-22-43\\BatchPhoJonathanReplayFRC_shared_1of6_(25,70,47,33,71,87,43,15,51,34,40,2,56,65,84,89,44,103,54,10).png\n",
      "include_includelist: ['maze1', 'maze2', 'maze']\n",
      "long_epoch_name: maze1, short_epoch_name: maze2, global_epoch_name: maze\n",
      "DEPRICATION WARNING: workaround to allow subscripting ComputationResult objects. Will be depricated. key: computed_data\n"
     ]
    },
    {
     "name": "stderr",
     "output_type": "stream",
     "text": [
      "C:\\Users\\pho\\repos\\Spike3DWorkEnv\\pyPhoPlaceCellAnalysis\\src\\pyphoplacecellanalysis\\General\\Mixins\\CrossComputationComparisonHelpers.py:235: RuntimeWarning: invalid value encountered in divide\n",
      "  _long_to_short_balances = (rdf.num_short_only_neuron_participating.values - rdf.num_long_only_neuron_participating.values) / (rdf.num_short_only_neuron_participating.values + rdf.num_long_only_neuron_participating.values) ## Working but (0, 1, 1) would clip to 0.5 despite (1, 13, 0) going all the way down to -1.0\n",
      "C:\\Users\\pho\\repos\\Spike3DWorkEnv\\pyPhoPlaceCellAnalysis\\src\\pyphoplacecellanalysis\\General\\Mixins\\CrossComputationComparisonHelpers.py:265: RuntimeWarning: invalid value encountered in divide\n",
      "  _long_to_short_balances = (rdf.num_short_only_neuron_participating.values - rdf.num_long_only_neuron_participating.values) / (rdf.num_short_only_neuron_participating.values + rdf.num_long_only_neuron_participating.values) ## Working but (0, 1, 1) would clip to 0.5 despite (1, 13, 0) going all the way down to -1.0\n"
     ]
    },
    {
     "name": "stdout",
     "output_type": "stream",
     "text": [
      "WARNING: aclu 97 is not present in the `pf1D_all` ratemaps. Which contain aclus: [2, 3, 4, 5, 6, 8, 9, 10, 11, 12, 13, 14, 15, 16, 18, 19, 20, 23, 24, 25, 26, 27, 28, 29, 30, 31, 32, 33, 34, 35, 38, 39, 40, 43, 44, 47, 48, 51, 52, 53, 54, 55, 56, 57, 58, 59, 60, 61, 62, 63, 65, 66, 67, 68, 69, 70, 71, 72, 74, 75, 77, 78, 79, 80, 81, 82, 83, 84, 85, 86, 87, 89, 90, 91, 92, 93, 95, 98, 100, 101, 102, 103, 104]\n",
      "\t saved C:\\Users\\pho\\repos\\Spike3DWorkEnv\\Spike3D\\EXTERNAL\\Screenshots\\ProgrammaticDisplayFunctionTesting\\2023-10-16\\kdiba\\gor01\\one\\2006-6-09_1-22-43\\BatchPhoJonathanReplayFRC_shared_2of6_(6,19,97,79,12,38,30,81,72,98,92,48,35,24,93,39,14,31,80,66).png\n",
      "include_includelist: ['maze1', 'maze2', 'maze']\n",
      "long_epoch_name: maze1, short_epoch_name: maze2, global_epoch_name: maze\n",
      "DEPRICATION WARNING: workaround to allow subscripting ComputationResult objects. Will be depricated. key: computed_data\n"
     ]
    },
    {
     "name": "stderr",
     "output_type": "stream",
     "text": [
      "C:\\Users\\pho\\repos\\Spike3DWorkEnv\\pyPhoPlaceCellAnalysis\\src\\pyphoplacecellanalysis\\General\\Mixins\\CrossComputationComparisonHelpers.py:235: RuntimeWarning: invalid value encountered in divide\n",
      "  _long_to_short_balances = (rdf.num_short_only_neuron_participating.values - rdf.num_long_only_neuron_participating.values) / (rdf.num_short_only_neuron_participating.values + rdf.num_long_only_neuron_participating.values) ## Working but (0, 1, 1) would clip to 0.5 despite (1, 13, 0) going all the way down to -1.0\n",
      "C:\\Users\\pho\\repos\\Spike3DWorkEnv\\pyPhoPlaceCellAnalysis\\src\\pyphoplacecellanalysis\\General\\Mixins\\CrossComputationComparisonHelpers.py:265: RuntimeWarning: invalid value encountered in divide\n",
      "  _long_to_short_balances = (rdf.num_short_only_neuron_participating.values - rdf.num_long_only_neuron_participating.values) / (rdf.num_short_only_neuron_participating.values + rdf.num_long_only_neuron_participating.values) ## Working but (0, 1, 1) would clip to 0.5 despite (1, 13, 0) going all the way down to -1.0\n"
     ]
    },
    {
     "name": "stdout",
     "output_type": "stream",
     "text": [
      "\t saved C:\\Users\\pho\\repos\\Spike3DWorkEnv\\Spike3D\\EXTERNAL\\Screenshots\\ProgrammaticDisplayFunctionTesting\\2023-10-16\\kdiba\\gor01\\one\\2006-6-09_1-22-43\\BatchPhoJonathanReplayFRC_shared_3of6_(9,82,20,11,74,27,4,23,5,58,86,29,8,90,3,63,91,78,104,13).png\n",
      "include_includelist: ['maze1', 'maze2', 'maze']\n",
      "long_epoch_name: maze1, short_epoch_name: maze2, global_epoch_name: maze\n",
      "DEPRICATION WARNING: workaround to allow subscripting ComputationResult objects. Will be depricated. key: computed_data\n"
     ]
    },
    {
     "name": "stderr",
     "output_type": "stream",
     "text": [
      "C:\\Users\\pho\\repos\\Spike3DWorkEnv\\pyPhoPlaceCellAnalysis\\src\\pyphoplacecellanalysis\\General\\Mixins\\CrossComputationComparisonHelpers.py:235: RuntimeWarning: invalid value encountered in divide\n",
      "  _long_to_short_balances = (rdf.num_short_only_neuron_participating.values - rdf.num_long_only_neuron_participating.values) / (rdf.num_short_only_neuron_participating.values + rdf.num_long_only_neuron_participating.values) ## Working but (0, 1, 1) would clip to 0.5 despite (1, 13, 0) going all the way down to -1.0\n",
      "C:\\Users\\pho\\repos\\Spike3DWorkEnv\\pyPhoPlaceCellAnalysis\\src\\pyphoplacecellanalysis\\General\\Mixins\\CrossComputationComparisonHelpers.py:265: RuntimeWarning: invalid value encountered in divide\n",
      "  _long_to_short_balances = (rdf.num_short_only_neuron_participating.values - rdf.num_long_only_neuron_participating.values) / (rdf.num_short_only_neuron_participating.values + rdf.num_long_only_neuron_participating.values) ## Working but (0, 1, 1) would clip to 0.5 despite (1, 13, 0) going all the way down to -1.0\n"
     ]
    },
    {
     "name": "stdout",
     "output_type": "stream",
     "text": [
      "WARNING: aclu 7 is not present in the `pf1D_all` ratemaps. Which contain aclus: [2, 3, 4, 5, 6, 8, 9, 10, 11, 12, 13, 14, 15, 16, 18, 19, 20, 23, 24, 25, 26, 27, 28, 29, 30, 31, 32, 33, 34, 35, 38, 39, 40, 43, 44, 47, 48, 51, 52, 53, 54, 55, 56, 57, 58, 59, 60, 61, 62, 63, 65, 66, 67, 68, 69, 70, 71, 72, 74, 75, 77, 78, 79, 80, 81, 82, 83, 84, 85, 86, 87, 89, 90, 91, 92, 93, 95, 98, 100, 101, 102, 103, 104]\n",
      "\t saved C:\\Users\\pho\\repos\\Spike3DWorkEnv\\Spike3D\\EXTERNAL\\Screenshots\\ProgrammaticDisplayFunctionTesting\\2023-10-16\\kdiba\\gor01\\one\\2006-6-09_1-22-43\\BatchPhoJonathanReplayFRC_shared_4of6_(75,83,53,95,57,60,52,28,85,101,102,59,68,67,16,77,18,26,61,7).png\n",
      "include_includelist: ['maze1', 'maze2', 'maze']\n",
      "long_epoch_name: maze1, short_epoch_name: maze2, global_epoch_name: maze\n",
      "DEPRICATION WARNING: workaround to allow subscripting ComputationResult objects. Will be depricated. key: computed_data\n",
      "WARNING: aclu 17 is not present in the `pf1D_all` ratemaps. Which contain aclus: [2, 3, 4, 5, 6, 8, 9, 10, 11, 12, 13, 14, 15, 16, 18, 19, 20, 23, 24, 25, 26, 27, 28, 29, 30, 31, 32, 33, 34, 35, 38, 39, 40, 43, 44, 47, 48, 51, 52, 53, 54, 55, 56, 57, 58, 59, 60, 61, 62, 63, 65, 66, 67, 68, 69, 70, 71, 72, 74, 75, 77, 78, 79, 80, 81, 82, 83, 84, 85, 86, 87, 89, 90, 91, 92, 93, 95, 98, 100, 101, 102, 103, 104]\n"
     ]
    },
    {
     "name": "stderr",
     "output_type": "stream",
     "text": [
      "C:\\Users\\pho\\repos\\Spike3DWorkEnv\\pyPhoPlaceCellAnalysis\\src\\pyphoplacecellanalysis\\General\\Mixins\\CrossComputationComparisonHelpers.py:235: RuntimeWarning: invalid value encountered in divide\n",
      "  _long_to_short_balances = (rdf.num_short_only_neuron_participating.values - rdf.num_long_only_neuron_participating.values) / (rdf.num_short_only_neuron_participating.values + rdf.num_long_only_neuron_participating.values) ## Working but (0, 1, 1) would clip to 0.5 despite (1, 13, 0) going all the way down to -1.0\n",
      "C:\\Users\\pho\\repos\\Spike3DWorkEnv\\pyPhoPlaceCellAnalysis\\src\\pyphoplacecellanalysis\\General\\Mixins\\CrossComputationComparisonHelpers.py:265: RuntimeWarning: invalid value encountered in divide\n",
      "  _long_to_short_balances = (rdf.num_short_only_neuron_participating.values - rdf.num_long_only_neuron_participating.values) / (rdf.num_short_only_neuron_participating.values + rdf.num_long_only_neuron_participating.values) ## Working but (0, 1, 1) would clip to 0.5 despite (1, 13, 0) going all the way down to -1.0\n"
     ]
    },
    {
     "name": "stdout",
     "output_type": "stream",
     "text": [
      "WARNING: aclu 21 is not present in the `pf1D_all` ratemaps. Which contain aclus: [2, 3, 4, 5, 6, 8, 9, 10, 11, 12, 13, 14, 15, 16, 18, 19, 20, 23, 24, 25, 26, 27, 28, 29, 30, 31, 32, 33, 34, 35, 38, 39, 40, 43, 44, 47, 48, 51, 52, 53, 54, 55, 56, 57, 58, 59, 60, 61, 62, 63, 65, 66, 67, 68, 69, 70, 71, 72, 74, 75, 77, 78, 79, 80, 81, 82, 83, 84, 85, 86, 87, 89, 90, 91, 92, 93, 95, 98, 100, 101, 102, 103, 104]\n",
      "WARNING: aclu 22 is not present in the `pf1D_all` ratemaps. Which contain aclus: [2, 3, 4, 5, 6, 8, 9, 10, 11, 12, 13, 14, 15, 16, 18, 19, 20, 23, 24, 25, 26, 27, 28, 29, 30, 31, 32, 33, 34, 35, 38, 39, 40, 43, 44, 47, 48, 51, 52, 53, 54, 55, 56, 57, 58, 59, 60, 61, 62, 63, 65, 66, 67, 68, 69, 70, 71, 72, 74, 75, 77, 78, 79, 80, 81, 82, 83, 84, 85, 86, 87, 89, 90, 91, 92, 93, 95, 98, 100, 101, 102, 103, 104]\n",
      "WARNING: aclu 36 is not present in the `pf1D_all` ratemaps. Which contain aclus: [2, 3, 4, 5, 6, 8, 9, 10, 11, 12, 13, 14, 15, 16, 18, 19, 20, 23, 24, 25, 26, 27, 28, 29, 30, 31, 32, 33, 34, 35, 38, 39, 40, 43, 44, 47, 48, 51, 52, 53, 54, 55, 56, 57, 58, 59, 60, 61, 62, 63, 65, 66, 67, 68, 69, 70, 71, 72, 74, 75, 77, 78, 79, 80, 81, 82, 83, 84, 85, 86, 87, 89, 90, 91, 92, 93, 95, 98, 100, 101, 102, 103, 104]\n",
      "WARNING: aclu 37 is not present in the `pf1D_all` ratemaps. Which contain aclus: [2, 3, 4, 5, 6, 8, 9, 10, 11, 12, 13, 14, 15, 16, 18, 19, 20, 23, 24, 25, 26, 27, 28, 29, 30, 31, 32, 33, 34, 35, 38, 39, 40, 43, 44, 47, 48, 51, 52, 53, 54, 55, 56, 57, 58, 59, 60, 61, 62, 63, 65, 66, 67, 68, 69, 70, 71, 72, 74, 75, 77, 78, 79, 80, 81, 82, 83, 84, 85, 86, 87, 89, 90, 91, 92, 93, 95, 98, 100, 101, 102, 103, 104]\n",
      "WARNING: aclu 41 is not present in the `pf1D_all` ratemaps. Which contain aclus: [2, 3, 4, 5, 6, 8, 9, 10, 11, 12, 13, 14, 15, 16, 18, 19, 20, 23, 24, 25, 26, 27, 28, 29, 30, 31, 32, 33, 34, 35, 38, 39, 40, 43, 44, 47, 48, 51, 52, 53, 54, 55, 56, 57, 58, 59, 60, 61, 62, 63, 65, 66, 67, 68, 69, 70, 71, 72, 74, 75, 77, 78, 79, 80, 81, 82, 83, 84, 85, 86, 87, 89, 90, 91, 92, 93, 95, 98, 100, 101, 102, 103, 104]\n",
      "WARNING: aclu 42 is not present in the `pf1D_all` ratemaps. Which contain aclus: [2, 3, 4, 5, 6, 8, 9, 10, 11, 12, 13, 14, 15, 16, 18, 19, 20, 23, 24, 25, 26, 27, 28, 29, 30, 31, 32, 33, 34, 35, 38, 39, 40, 43, 44, 47, 48, 51, 52, 53, 54, 55, 56, 57, 58, 59, 60, 61, 62, 63, 65, 66, 67, 68, 69, 70, 71, 72, 74, 75, 77, 78, 79, 80, 81, 82, 83, 84, 85, 86, 87, 89, 90, 91, 92, 93, 95, 98, 100, 101, 102, 103, 104]\n",
      "WARNING: aclu 45 is not present in the `pf1D_all` ratemaps. Which contain aclus: [2, 3, 4, 5, 6, 8, 9, 10, 11, 12, 13, 14, 15, 16, 18, 19, 20, 23, 24, 25, 26, 27, 28, 29, 30, 31, 32, 33, 34, 35, 38, 39, 40, 43, 44, 47, 48, 51, 52, 53, 54, 55, 56, 57, 58, 59, 60, 61, 62, 63, 65, 66, 67, 68, 69, 70, 71, 72, 74, 75, 77, 78, 79, 80, 81, 82, 83, 84, 85, 86, 87, 89, 90, 91, 92, 93, 95, 98, 100, 101, 102, 103, 104]\n",
      "WARNING: aclu 46 is not present in the `pf1D_all` ratemaps. Which contain aclus: [2, 3, 4, 5, 6, 8, 9, 10, 11, 12, 13, 14, 15, 16, 18, 19, 20, 23, 24, 25, 26, 27, 28, 29, 30, 31, 32, 33, 34, 35, 38, 39, 40, 43, 44, 47, 48, 51, 52, 53, 54, 55, 56, 57, 58, 59, 60, 61, 62, 63, 65, 66, 67, 68, 69, 70, 71, 72, 74, 75, 77, 78, 79, 80, 81, 82, 83, 84, 85, 86, 87, 89, 90, 91, 92, 93, 95, 98, 100, 101, 102, 103, 104]\n",
      "WARNING: aclu 49 is not present in the `pf1D_all` ratemaps. Which contain aclus: [2, 3, 4, 5, 6, 8, 9, 10, 11, 12, 13, 14, 15, 16, 18, 19, 20, 23, 24, 25, 26, 27, 28, 29, 30, 31, 32, 33, 34, 35, 38, 39, 40, 43, 44, 47, 48, 51, 52, 53, 54, 55, 56, 57, 58, 59, 60, 61, 62, 63, 65, 66, 67, 68, 69, 70, 71, 72, 74, 75, 77, 78, 79, 80, 81, 82, 83, 84, 85, 86, 87, 89, 90, 91, 92, 93, 95, 98, 100, 101, 102, 103, 104]\n",
      "WARNING: aclu 50 is not present in the `pf1D_all` ratemaps. Which contain aclus: [2, 3, 4, 5, 6, 8, 9, 10, 11, 12, 13, 14, 15, 16, 18, 19, 20, 23, 24, 25, 26, 27, 28, 29, 30, 31, 32, 33, 34, 35, 38, 39, 40, 43, 44, 47, 48, 51, 52, 53, 54, 55, 56, 57, 58, 59, 60, 61, 62, 63, 65, 66, 67, 68, 69, 70, 71, 72, 74, 75, 77, 78, 79, 80, 81, 82, 83, 84, 85, 86, 87, 89, 90, 91, 92, 93, 95, 98, 100, 101, 102, 103, 104]\n",
      "WARNING: aclu 64 is not present in the `pf1D_all` ratemaps. Which contain aclus: [2, 3, 4, 5, 6, 8, 9, 10, 11, 12, 13, 14, 15, 16, 18, 19, 20, 23, 24, 25, 26, 27, 28, 29, 30, 31, 32, 33, 34, 35, 38, 39, 40, 43, 44, 47, 48, 51, 52, 53, 54, 55, 56, 57, 58, 59, 60, 61, 62, 63, 65, 66, 67, 68, 69, 70, 71, 72, 74, 75, 77, 78, 79, 80, 81, 82, 83, 84, 85, 86, 87, 89, 90, 91, 92, 93, 95, 98, 100, 101, 102, 103, 104]\n",
      "WARNING: aclu 73 is not present in the `pf1D_all` ratemaps. Which contain aclus: [2, 3, 4, 5, 6, 8, 9, 10, 11, 12, 13, 14, 15, 16, 18, 19, 20, 23, 24, 25, 26, 27, 28, 29, 30, 31, 32, 33, 34, 35, 38, 39, 40, 43, 44, 47, 48, 51, 52, 53, 54, 55, 56, 57, 58, 59, 60, 61, 62, 63, 65, 66, 67, 68, 69, 70, 71, 72, 74, 75, 77, 78, 79, 80, 81, 82, 83, 84, 85, 86, 87, 89, 90, 91, 92, 93, 95, 98, 100, 101, 102, 103, 104]\n",
      "WARNING: aclu 76 is not present in the `pf1D_all` ratemaps. Which contain aclus: [2, 3, 4, 5, 6, 8, 9, 10, 11, 12, 13, 14, 15, 16, 18, 19, 20, 23, 24, 25, 26, 27, 28, 29, 30, 31, 32, 33, 34, 35, 38, 39, 40, 43, 44, 47, 48, 51, 52, 53, 54, 55, 56, 57, 58, 59, 60, 61, 62, 63, 65, 66, 67, 68, 69, 70, 71, 72, 74, 75, 77, 78, 79, 80, 81, 82, 83, 84, 85, 86, 87, 89, 90, 91, 92, 93, 95, 98, 100, 101, 102, 103, 104]\n",
      "WARNING: aclu 88 is not present in the `pf1D_all` ratemaps. Which contain aclus: [2, 3, 4, 5, 6, 8, 9, 10, 11, 12, 13, 14, 15, 16, 18, 19, 20, 23, 24, 25, 26, 27, 28, 29, 30, 31, 32, 33, 34, 35, 38, 39, 40, 43, 44, 47, 48, 51, 52, 53, 54, 55, 56, 57, 58, 59, 60, 61, 62, 63, 65, 66, 67, 68, 69, 70, 71, 72, 74, 75, 77, 78, 79, 80, 81, 82, 83, 84, 85, 86, 87, 89, 90, 91, 92, 93, 95, 98, 100, 101, 102, 103, 104]\n",
      "WARNING: aclu 94 is not present in the `pf1D_all` ratemaps. Which contain aclus: [2, 3, 4, 5, 6, 8, 9, 10, 11, 12, 13, 14, 15, 16, 18, 19, 20, 23, 24, 25, 26, 27, 28, 29, 30, 31, 32, 33, 34, 35, 38, 39, 40, 43, 44, 47, 48, 51, 52, 53, 54, 55, 56, 57, 58, 59, 60, 61, 62, 63, 65, 66, 67, 68, 69, 70, 71, 72, 74, 75, 77, 78, 79, 80, 81, 82, 83, 84, 85, 86, 87, 89, 90, 91, 92, 93, 95, 98, 100, 101, 102, 103, 104]\n",
      "\t saved C:\\Users\\pho\\repos\\Spike3DWorkEnv\\Spike3D\\EXTERNAL\\Screenshots\\ProgrammaticDisplayFunctionTesting\\2023-10-16\\kdiba\\gor01\\one\\2006-6-09_1-22-43\\BatchPhoJonathanReplayFRC_shared_5of6_(17,21,22,32,36,37,41,42,45,46,49,50,55,62,64,69,73,76,88,94).png\n",
      "include_includelist: ['maze1', 'maze2', 'maze']\n",
      "long_epoch_name: maze1, short_epoch_name: maze2, global_epoch_name: maze\n",
      "DEPRICATION WARNING: workaround to allow subscripting ComputationResult objects. Will be depricated. key: computed_data\n",
      "WARNING: aclu 96 is not present in the `pf1D_all` ratemaps. Which contain aclus: [2, 3, 4, 5, 6, 8, 9, 10, 11, 12, 13, 14, 15, 16, 18, 19, 20, 23, 24, 25, 26, 27, 28, 29, 30, 31, 32, 33, 34, 35, 38, 39, 40, 43, 44, 47, 48, 51, 52, 53, 54, 55, 56, 57, 58, 59, 60, 61, 62, 63, 65, 66, 67, 68, 69, 70, 71, 72, 74, 75, 77, 78, 79, 80, 81, 82, 83, 84, 85, 86, 87, 89, 90, 91, 92, 93, 95, 98, 100, 101, 102, 103, 104]\n"
     ]
    },
    {
     "name": "stderr",
     "output_type": "stream",
     "text": [
      "C:\\Users\\pho\\repos\\Spike3DWorkEnv\\pyPhoPlaceCellAnalysis\\src\\pyphoplacecellanalysis\\General\\Mixins\\CrossComputationComparisonHelpers.py:235: RuntimeWarning: invalid value encountered in divide\n",
      "  _long_to_short_balances = (rdf.num_short_only_neuron_participating.values - rdf.num_long_only_neuron_participating.values) / (rdf.num_short_only_neuron_participating.values + rdf.num_long_only_neuron_participating.values) ## Working but (0, 1, 1) would clip to 0.5 despite (1, 13, 0) going all the way down to -1.0\n",
      "C:\\Users\\pho\\repos\\Spike3DWorkEnv\\pyPhoPlaceCellAnalysis\\src\\pyphoplacecellanalysis\\General\\Mixins\\CrossComputationComparisonHelpers.py:265: RuntimeWarning: invalid value encountered in divide\n",
      "  _long_to_short_balances = (rdf.num_short_only_neuron_participating.values - rdf.num_long_only_neuron_participating.values) / (rdf.num_short_only_neuron_participating.values + rdf.num_long_only_neuron_participating.values) ## Working but (0, 1, 1) would clip to 0.5 despite (1, 13, 0) going all the way down to -1.0\n"
     ]
    },
    {
     "name": "stdout",
     "output_type": "stream",
     "text": [
      "WARNING: aclu 99 is not present in the `pf1D_all` ratemaps. Which contain aclus: [2, 3, 4, 5, 6, 8, 9, 10, 11, 12, 13, 14, 15, 16, 18, 19, 20, 23, 24, 25, 26, 27, 28, 29, 30, 31, 32, 33, 34, 35, 38, 39, 40, 43, 44, 47, 48, 51, 52, 53, 54, 55, 56, 57, 58, 59, 60, 61, 62, 63, 65, 66, 67, 68, 69, 70, 71, 72, 74, 75, 77, 78, 79, 80, 81, 82, 83, 84, 85, 86, 87, 89, 90, 91, 92, 93, 95, 98, 100, 101, 102, 103, 104]\n",
      "\t saved C:\\Users\\pho\\repos\\Spike3DWorkEnv\\Spike3D\\EXTERNAL\\Screenshots\\ProgrammaticDisplayFunctionTesting\\2023-10-16\\kdiba\\gor01\\one\\2006-6-09_1-22-43\\BatchPhoJonathanReplayFRC_shared_6of6_(96,99,100).png\n"
     ]
    },
    {
     "name": "stderr",
     "output_type": "stream",
     "text": [
      "c:\\Users\\pho\\repos\\Spike3DWorkEnv\\Spike3D\\.venv\\lib\\site-packages\\ipykernel\\eventloops.py:128: UserWarning: constrained_layout not applied because axes sizes collapsed to zero.  Try making figure larger or axes decorations smaller.\n",
      "  el.exec() if hasattr(el, 'exec') else el.exec_()\n"
     ]
    }
   ],
   "source": [
    "## all cells, sorted by custom_frs_index:\n",
    "# fig_1c_figures_all_dict = BatchPhoJonathanFiguresHelper.run(curr_active_pipeline, neuron_replay_stats_df.sort_values('custom_frs_index', ascending=True, inplace=False), included_unit_neuron_IDs=None,\n",
    "# \tn_max_page_rows=20, write_vector_format=False, write_png=False,\n",
    "# \tshow_only_refined_cells=False, disable_top_row=True, split_by_short_long_shared=False)\n",
    "\n",
    "fig_1c_figures_all_dict = BatchPhoJonathanFiguresHelper.run(curr_active_pipeline, neuron_replay_stats_df, included_unit_neuron_IDs=None,\n",
    "\tn_max_page_rows=20, write_vector_format=False, write_png=True,\n",
    "\tshow_only_refined_cells=False, disable_top_row=False, split_by_short_long_shared=False)\n"
   ]
  },
  {
   "cell_type": "code",
   "execution_count": null,
   "id": "ad664f21",
   "metadata": {},
   "outputs": [],
   "source": []
  },
  {
   "cell_type": "code",
   "execution_count": null,
   "id": "b6ba5b1f",
   "metadata": {},
   "outputs": [],
   "source": [
    "fig_1c_figures_out_dict = BatchPhoJonathanFiguresHelper.run(curr_active_pipeline, neuron_replay_stats_df, included_unit_neuron_IDs=long_exclusive.get_refined_track_exclusive_aclus(), n_max_page_rows=20, write_vector_format=False, write_png=True, show_only_refined_cells=True, disable_top_row=True)\n",
    "fig_1c_figures_out_dict = BatchPhoJonathanFiguresHelper.run(curr_active_pipeline, neuron_replay_stats_df, included_unit_neuron_IDs=short_exclusive.get_refined_track_exclusive_aclus(), n_max_page_rows=20, write_vector_format=False, write_png=True, show_only_refined_cells=True, disable_top_row=True)\n"
   ]
  },
  {
   "cell_type": "code",
   "execution_count": null,
   "id": "1ac53d86",
   "metadata": {},
   "outputs": [],
   "source": [
    "fig_1c_figures_out_dict = BatchPhoJonathanFiguresHelper.run(curr_active_pipeline, neuron_replay_stats_df, included_unit_neuron_IDs=XOR_subset.track_exclusive_aclus, n_max_page_rows=20, write_vector_format=False, write_png=save_figure, disable_top_row=True) # active_out_figures_dict: {IdentifyingContext<('kdiba', 'gor01', 'two', '2006-6-07_16-40-19', 'BatchPhoJonathanReplayFRC', 'long_only', '(12,21,48)')>: <Figure size 1920x660 with 12 Axes>, IdentifyingContext<('kdiba', 'gor01', 'two', '2006-6-07_16-40-19', 'BatchPhoJonathanReplayFRC', 'short_only', '(18,19,65)')>: <Figure size 1920x660 with 12 Axes>}\n"
   ]
  },
  {
   "cell_type": "code",
   "execution_count": null,
   "id": "11ae906f",
   "metadata": {},
   "outputs": [],
   "source": [
    "\n",
    "fig_1c_figures_out_dict = BatchPhoJonathanFiguresHelper.run(curr_active_pipeline, neuron_replay_stats_df, included_unit_neuron_IDs=XOR_subset.get_refined_track_exclusive_aclus(), n_max_page_rows=20, write_vector_format=False, write_png=True, show_only_refined_cells=True, disable_top_row=True)"
   ]
  },
  {
   "cell_type": "code",
   "execution_count": null,
   "id": "2e290fc7",
   "metadata": {},
   "outputs": [],
   "source": [
    "neuron_replay_stats_df = jonathan_firing_rate_analysis_result.neuron_replay_stats_df.copy()\n",
    "\n",
    "np.sum(np.logical_xor(neuron_replay_stats_df['is_refined_LxC'], neuron_replay_stats_df['is_refined_SxC']))"
   ]
  },
  {
   "cell_type": "code",
   "execution_count": null,
   "id": "941cc7ce",
   "metadata": {},
   "outputs": [],
   "source": [
    "np.sum(np.logical_and(neuron_replay_stats_df['is_refined_LxC'], neuron_replay_stats_df['is_refined_SxC']))"
   ]
  },
  {
   "cell_type": "code",
   "execution_count": null,
   "id": "0460c6e5",
   "metadata": {
    "notebookRunGroups": {
     "groupValue": ""
    }
   },
   "outputs": [],
   "source": [
    "# uses global's 'extended_stats' results for relative entropy (surprise) analyses:\n",
    "\n",
    "import tables as tb\n",
    "\n",
    "\n",
    "# {\n",
    "# 't': Tuple[float, float],\n",
    "# 'snapshots': Tuple[PlacefieldSnapshot, PlacefieldSnapshot],\n",
    "# 'relative_entropy_result_dict': {\n",
    "# \t\t'long_short_rel_entr_curve': np.array,\n",
    "# \t\t...\n",
    "# \t\t'jensen_shannon_distance': np.array,\n",
    "# \t} # 5 items\n",
    "# } # 3 items\n",
    "# Dict[float, PlacefieldSnapshot]\n",
    "\n",
    "def relative_entropy_to_h5(global_results, file_path='output/test_relative_entropy_numpy_arrays.h5'):\n",
    "\tprint(f'relative_entropy_to_h5(...)')\n",
    "\n",
    "\tactive_extended_stats = global_results['extended_stats']\n",
    "\tactive_relative_entropy_results = active_extended_stats['pf_dt_sequential_surprise'] # DynamicParameters\n",
    "\tpost_update_times: np.ndarray = active_relative_entropy_results['post_update_times'] # (4152,) = (n_post_update_times,)\n",
    "\tsnapshot_differences_result_dict = active_relative_entropy_results['snapshot_differences_result_dict']\n",
    "\ttime_intervals: np.ndarray = active_relative_entropy_results['time_intervals']\n",
    "\tlong_short_rel_entr_curves_frames: np.ndarray = active_relative_entropy_results['long_short_rel_entr_curves_frames'] # (4152, 108, 63) = (n_post_update_times, n_neurons, n_xbins)\n",
    "\tshort_long_rel_entr_curves_frames: np.ndarray = active_relative_entropy_results['short_long_rel_entr_curves_frames'] # (4152, 108, 63) = (n_post_update_times, n_neurons, n_xbins)\n",
    "\tflat_relative_entropy_results: np.ndarray = active_relative_entropy_results['flat_relative_entropy_results'] # (149, 63) - (nSnapshots, nXbins)\n",
    "\tflat_jensen_shannon_distance_results: np.ndarray = active_relative_entropy_results['flat_jensen_shannon_distance_results'] # (149, 63) - (nSnapshots, nXbins)\n",
    "\tflat_jensen_shannon_distance_across_all_positions: np.ndarray = np.sum(np.abs(flat_jensen_shannon_distance_results), axis=1) # sum across all position bins # (4152,) - (nSnapshots)\n",
    "\tflat_surprise_across_all_positions: np.ndarray = np.sum(np.abs(flat_relative_entropy_results), axis=1) # sum across all position bins # (4152,) - (nSnapshots)\n",
    "\t\n",
    "\t# Create an HDF5 file\n",
    "\twith tb.open_file(file_path, mode=\"w\") as hdf5_file:\n",
    "\t\tprint(f'trying to write to \"{file_path}\"...')\n",
    "\t\t# Create groups for organization\n",
    "\t\troot = hdf5_file.root\n",
    "\t\tgroup = hdf5_file.create_group(root, 'relative_entropy_results')\n",
    "\t\t\n",
    "\t\t# Store np.ndarrays in the HDF5 file\n",
    "\t\thdf5_file.create_array(group, 'post_update_times', post_update_times)\n",
    "\t\thdf5_file.create_array(group, 'time_intervals', time_intervals)\n",
    "\t\thdf5_file.create_array(group, 'long_short_rel_entr_curves_frames', long_short_rel_entr_curves_frames)\n",
    "\t\thdf5_file.create_array(group, 'short_long_rel_entr_curves_frames', short_long_rel_entr_curves_frames)\n",
    "\t\thdf5_file.create_array(group, 'flat_relative_entropy_results', flat_relative_entropy_results)\n",
    "\t\thdf5_file.create_array(group, 'flat_jensen_shannon_distance_results', flat_jensen_shannon_distance_results)\n",
    "\t\thdf5_file.create_array(group, 'flat_jensen_shannon_distance_across_all_positions', flat_jensen_shannon_distance_across_all_positions)\n",
    "\t\thdf5_file.create_array(group, 'flat_surprise_across_all_positions', flat_surprise_across_all_positions)\n",
    "\t\n",
    "\tprint(f'\\t done!')\n",
    "\t\n",
    "\n",
    "relative_entropy_to_h5(global_results, file_path='output/test_relative_entropy_numpy_arrays.h5')"
   ]
  },
  {
   "cell_type": "code",
   "execution_count": null,
   "id": "11c6b0b6",
   "metadata": {},
   "outputs": [],
   "source": [
    "curr_active_pipeline.export_pipeline_to_h5()\n"
   ]
  },
  {
   "cell_type": "code",
   "execution_count": null,
   "id": "9bbf2641",
   "metadata": {},
   "outputs": [],
   "source": [
    "snapshot_differences_result_dict\n",
    "\n",
    "flat_jensen_shannon_distance_results"
   ]
  },
  {
   "cell_type": "code",
   "execution_count": null,
   "id": "06537c0b",
   "metadata": {},
   "outputs": [],
   "source": [
    "active_relative_entropy_results\n",
    "# type(active_relative_entropy_results)"
   ]
  },
  {
   "cell_type": "code",
   "execution_count": null,
   "id": "fdd2f58e",
   "metadata": {},
   "outputs": [],
   "source": [
    "neuron_replay_stats_df: pd.DataFrame = jonathan_firing_rate_analysis_result.neuron_replay_stats_df\n",
    "neuron_replay_stats_df\n"
   ]
  },
  {
   "cell_type": "code",
   "execution_count": null,
   "id": "6d613474",
   "metadata": {},
   "outputs": [],
   "source": [
    "# Test classifying various x-positions as belonging to outside the outside_maze, the track_endcaps, or the track_body\n",
    "from enum import Enum\n",
    "\n",
    "class TrackPositionClassification(Enum):\n",
    "    OUTSIDE_MAZE = \"outside_maze\"\n",
    "    TRACK_ENDCAPS = \"track_endcaps\"\n",
    "    TRACK_BODY = \"track_body\"\n",
    "\n",
    "\n",
    "neuron_replay_stats_df: pd.DataFrame = jonathan_firing_rate_analysis_result.neuron_replay_stats_df\n",
    "short_pf_peak_x = neuron_replay_stats_df.short_pf_peak_x\n",
    "long_pf_peak_x = neuron_replay_stats_df.long_pf_peak_x"
   ]
  },
  {
   "cell_type": "code",
   "execution_count": null,
   "id": "ce8b2a9b",
   "metadata": {},
   "outputs": [],
   "source": [
    "rate_remapping_df[np.isin(rate_remapping_df.index, significant_distant_remapping_endcap_aclus)]"
   ]
  },
  {
   "cell_type": "code",
   "execution_count": null,
   "id": "51571ab2",
   "metadata": {},
   "outputs": [],
   "source": [
    "inst_spike_rate_groups_result: InstantaneousSpikeRateGroupsComputation = curr_active_pipeline.global_computation_results.computed_data.long_short_inst_spike_rate_groups\n",
    "# custom_InstSpikeRateTrends_df = inst_spike_rate_groups_result.all_incl_endPlatforms_InstSpikeRateTrends_df\n",
    "# if not hasattr(inst_spike_rate_groups_result, 'all_incl_endPlatforms_InstSpikeRateTrends_df'):\n",
    "# \tinst_spike_rate_groups_result.all_incl_endPlatforms_InstSpikeRateTrends_df = pd.DataFrame()"
   ]
  },
  {
   "cell_type": "code",
   "execution_count": null,
   "id": "628c789f",
   "metadata": {
    "notebookRunGroups": {
     "groupValue": ""
    }
   },
   "outputs": [],
   "source": [
    "# 2023-09-14 - Find cells outside the bounds of the short track\n",
    "# Modifies the `jonathan_firing_rate_analysis_result.neuron_replay_stats_df` in-place instead of creating a copy:\n",
    "# neuron_replay_stats_df = deepcopy(jonathan_firing_rate_analysis_result.neuron_replay_stats_df)\n",
    "neuron_replay_stats_df: pd.DataFrame = jonathan_firing_rate_analysis_result.neuron_replay_stats_df\n",
    "# Extract the peaks of the long placefields to find ones that have peaks outside the boundaries\n",
    "# long_pf_peaks = neuron_replay_stats_df[neuron_replay_stats_df['has_long_pf']]['long_pf_peak_x'] - 150.0 # this shift of 150.0 is to center the midpoint of the track at 0. \n",
    "# # display(long_pf_peaks)\n",
    "# is_left_cap = (long_pf_peaks < -72.0)\n",
    "# is_right_cap = (long_pf_peaks > 72.0)\n",
    "# is_either_cap =  np.logical_or(is_left_cap, is_right_cap)\n",
    "\n",
    "# # Adds ['is_long_peak_left_cap', 'is_long_peak_right_cap', 'is_long_peak_either_cap'] columns: \n",
    "# neuron_replay_stats_df['is_long_peak_left_cap'] = False\n",
    "# neuron_replay_stats_df['is_long_peak_right_cap'] = False\n",
    "# neuron_replay_stats_df.loc[is_left_cap.index, 'is_long_peak_left_cap'] = is_left_cap # True\n",
    "# neuron_replay_stats_df.loc[is_right_cap.index, 'is_long_peak_right_cap'] = is_right_cap # True\n",
    "# neuron_replay_stats_df['is_long_peak_either_cap'] = np.logical_or(neuron_replay_stats_df['is_long_peak_left_cap'], neuron_replay_stats_df['is_long_peak_right_cap'])\n",
    "# adds ['LS_pf_peak_x_diff'] column\n",
    "# neuron_replay_stats_df['LS_pf_peak_x_diff'] = neuron_replay_stats_df['long_pf_peak_x'] - neuron_replay_stats_df['short_pf_peak_x']\n",
    "neuron_replay_stats_df.is_long_peak_either_cap\n",
    "\n",
    "## Extract just the endcap cells:\n",
    "cap_cells_df = neuron_replay_stats_df[np.logical_and(neuron_replay_stats_df['has_long_pf'], neuron_replay_stats_df['is_long_peak_either_cap'])]\n",
    "cap_aclus = cap_cells_df.index\n",
    "num_total_endcap_cells = len(cap_aclus)\n",
    "display(num_total_endcap_cells)\n",
    "\n",
    "# \"Disppearing\" cells fall below the 1Hz firing criteria on the short track:\n",
    "disappearing_endcap_cells_df = cap_cells_df[np.logical_not(cap_cells_df['has_short_pf'])]\n",
    "disappearing_endcap_aclus = disappearing_endcap_cells_df.index\n",
    "num_disappearing_endcap_cells = len(disappearing_endcap_aclus)\n",
    "print(f'num_disappearing_endcap_cells/num_total_endcap_cells: {num_disappearing_endcap_cells}/{num_total_endcap_cells}')\n",
    "\n",
    "non_disappearing_endcap_cells_df = cap_cells_df[cap_cells_df['has_short_pf']] # \"non_disappearing\" cells are those with a placefield on the short track as well\n",
    "num_non_disappearing_endcap_cells = len(non_disappearing_endcap_cells_df)\n",
    "print(f'num_non_disappearing_endcap_cells/num_total_endcap_cells: {num_non_disappearing_endcap_cells}/{num_total_endcap_cells}')\n",
    "\n",
    "# display(non_disappearing_endcap_cells_df)\n",
    "# non_disappearing_endcap_cells_df['LS_pf_peak_x_diff'] = non_disappearing_endcap_cells_df['long_pf_peak_x'] - non_disappearing_endcap_cells_df['short_pf_peak_x']\n",
    "# display(non_disappearing_endcap_cells_df)\n",
    "\n",
    "# Classify the non_disappearing cells into two groups:\n",
    "# 1. Those that exhibit significant remapping onto somewhere else on the track\n",
    "non_disappearing_endcap_cells_df['has_significant_distance_remapping'] = (np.abs(non_disappearing_endcap_cells_df['LS_pf_peak_x_diff']) >= 40.0) # The most a placefield could translate intwards would be (35 + (pf_width/2.0)) I think.\n",
    "num_significant_position_remappping_endcap_cells = len(non_disappearing_endcap_cells_df[non_disappearing_endcap_cells_df['has_significant_distance_remapping'] == True])\n",
    "print(f'num_significant_position_remappping_endcap_cells/num_non_disappearing_endcap_cells: {num_significant_position_remappping_endcap_cells}/{num_non_disappearing_endcap_cells}')\n",
    "\n",
    "# 2. Those that seem to remain where they were on the long track, perhaps being \"sampling-clipped\" or translated adjacent to the platform. These two subcases can be distinguished by a change in the placefield's length (truncated cells would be a fraction of the length, although might need to account for scaling with new track length)\n",
    "minorly_changed_endcap_cells_df = non_disappearing_endcap_cells_df[non_disappearing_endcap_cells_df['has_significant_distance_remapping'] == False]\n",
    "\n",
    "non_disappearing_endcap_cells_df\n",
    "# endcaps:\n",
    "significant_distant_remapping_endcap_aclus = non_disappearing_endcap_cells_df[non_disappearing_endcap_cells_df['has_significant_distance_remapping']].index.to_numpy() # Int64Index([3, 5, 7, 11, 14, 38, 41, 53, 57, 61, 62, 75, 78, 79, 82, 83, 85, 95, 98, 100, 102], dtype='int64')\n",
    "significant_distant_remapping_endcap_aclus\n",
    "minor_remapping_endcap_aclus = minorly_changed_endcap_cells_df.index.to_numpy()\n",
    "minor_remapping_endcap_aclus\n",
    "jonathan_firing_rate_analysis_result.neuron_replay_stats_df"
   ]
  },
  {
   "cell_type": "code",
   "execution_count": null,
   "id": "568e1351",
   "metadata": {},
   "outputs": [],
   "source": [
    "significant_distant_remapping_endcap_df = jonathan_firing_rate_analysis_result.neuron_replay_stats_df[np.isin(jonathan_firing_rate_analysis_result.neuron_replay_stats_df.index, significant_distant_remapping_endcap_aclus)]\n",
    "significant_distant_remapping_endcap_df"
   ]
  },
  {
   "cell_type": "code",
   "execution_count": null,
   "id": "1d8f1fad",
   "metadata": {},
   "outputs": [],
   "source": [
    "# Will these remapped cells be included in replays after the delta?\n",
    "num_short_replays = non_disappearing_endcap_cells_df['short_num_replays']\n",
    "short_replay_mean_fr_Hz = non_disappearing_endcap_cells_df['replay_diff']\n"
   ]
  },
  {
   "cell_type": "markdown",
   "id": "fb68efff",
   "metadata": {},
   "source": [
    "# 2023-10-11 - sanity check the Jensen-Shannon distance metric by computing for each placefield curve:\n",
    "As a sanity check, compute the Jensen-Shannon Distance between each of the distributions for the long/short curve. Expected to see that non-trivially remapping cells had a greater JS-distance than the others.\n",
    "### NO: It doesn't work, not even a little bit. Returns inf values for curves containing no infs"
   ]
  },
  {
   "cell_type": "code",
   "execution_count": null,
   "id": "00fc7b1b",
   "metadata": {},
   "outputs": [],
   "source": [
    "jonathan_firing_rate_analysis_result: JonathanFiringRateAnalysisResult = curr_active_pipeline.global_computation_results.computed_data.jonathan_firing_rate_analysis\n",
    "# (epochs_df_L, epochs_df_S), (filter_epoch_spikes_df_L, filter_epoch_spikes_df_S), (good_example_epoch_indicies_L, good_example_epoch_indicies_S), (short_exclusive, long_exclusive, BOTH_subset, EITHER_subset, XOR_subset, NEITHER_subset), new_all_aclus_sort_indicies, assigning_epochs_obj = PAPER_FIGURE_figure_1_add_replay_epoch_rasters(curr_active_pipeline)\n",
    "\n",
    "## long_short_endcap_analysis:\n",
    "truncation_checking_result: TruncationCheckingResults = curr_active_pipeline.global_computation_results.computed_data.long_short_endcap\n",
    "disappearing_endcap_aclus = truncation_checking_result.disappearing_endcap_aclus\n",
    "trivially_remapping_endcap_aclus = truncation_checking_result.minor_remapping_endcap_aclus\n",
    "significant_distant_remapping_endcap_aclus = truncation_checking_result.significant_distant_remapping_endcap_aclus\n",
    "appearing_aclus = jonathan_firing_rate_analysis_result.neuron_replay_stats_df[jonathan_firing_rate_analysis_result.neuron_replay_stats_df['track_membership'] == SplitPartitionMembership.RIGHT_ONLY].index\n"
   ]
  },
  {
   "cell_type": "code",
   "execution_count": null,
   "id": "11685400",
   "metadata": {},
   "outputs": [],
   "source": [
    "# long_pf1D.ratemap.unsmoothed_tuning_maps.shape\n",
    "\n",
    "long_1DMaps = long_pf1D.get_by_id(trivially_remapping_endcap_aclus).ratemap.unsmoothed_tuning_maps # (15, 107)\n",
    "short_1DMaps = short_pf1D.get_by_id(trivially_remapping_endcap_aclus).ratemap.unsmoothed_tuning_maps # .shape\n"
   ]
  },
  {
   "cell_type": "code",
   "execution_count": null,
   "id": "11a6806b",
   "metadata": {},
   "outputs": [],
   "source": [
    "## NOTE: these results are NOT the same as the ones calculated in compute_snapshot_relative_entropy_surprise_differences.compute_surprise_relative_entropy_divergence, and I'm not quite sure why:\n",
    "# Jensen-Shannon distance is an average of KL divergence:\n",
    "\n",
    "from scipy.special import rel_entr\n",
    "from scipy.stats import wasserstein_distance\n",
    "\n",
    "# 2023-10-11 - Earth mover's distance\n",
    "from scipy.spatial.distance import cdist\n",
    "from scipy.optimize import linear_sum_assignment\n",
    "\n",
    "# def compute_surprise_relative_entropy_divergence(long_curve, short_curve):\n",
    "# \t\"\"\" Pre 2023-03-10 Refactoring:\n",
    "# \tGiven two tuning maps, computes the surprise (in terms of the KL-divergence a.k.a. relative entropy) between the two\n",
    "# \tReturns a dictionary containing the results in both directions\n",
    "\n",
    "# \tTODO 2023-03-08 02:41: - [ ] Convert naming convention from long_, short_ to lhs_, rhs_ to be general\n",
    "# \tTODO 2023-03-08 02:47: - [ ] Convert output dict to a dataclass\n",
    "\n",
    "# \tfrom pyphoplacecellanalysis.General.Pipeline.Stages.ComputationFunctions.ExtendedStats import compute_surprise_relative_entropy_divergence\n",
    "\n",
    "# \t\"\"\"\n",
    "# \tlong_short_rel_entr_curve = rel_entr(long_curve, short_curve)\n",
    "# \tlong_short_relative_entropy = sum(long_short_rel_entr_curve) \n",
    "# \tshort_long_rel_entr_curve = rel_entr(short_curve, long_curve)\n",
    "# \tshort_long_relative_entropy = sum(short_long_rel_entr_curve)\n",
    "# \t# Jensen-Shannon distance is an average of KL divergence:\n",
    "# \tmixture_distribution = 0.5 * (long_curve + short_curve)\n",
    "# \tjensen_shannon_distance = 0.5 * (sum(rel_entr(mixture_distribution, long_curve)) + sum(rel_entr(mixture_distribution, short_curve))) # is this right? I'm confused by sum(...)\n",
    "\n",
    "# \treturn dict(long_short_rel_entr_curve=long_short_rel_entr_curve, long_short_relative_entropy=long_short_relative_entropy, short_long_rel_entr_curve=short_long_rel_entr_curve, short_long_relative_entropy=short_long_relative_entropy,\n",
    "# \t\t\tjensen_shannon_distance=jensen_shannon_distance)\n",
    "\n",
    "\n",
    "\n",
    "# def JS_Distance(long_short_rel_entr_curves_frames, short_long_rel_entr_curves_frames):\n",
    "# \t\"\"\" seems incorrect. Returns a vector of Inf values for JS-Distance\"\"\"\n",
    "# \tmixture_distribution = 0.5 * (long_short_rel_entr_curves_frames + short_long_rel_entr_curves_frames)\n",
    "# \tprint(f'mixture_distribution.shape: {np.shape(mixture_distribution)}') # (nSnapshots, n_neurons, n_xbins)\n",
    "# \t# jensen_shannon_distance = 0.5 * (sum(rel_entr(mixture_distribution, long_short_rel_entr_curves_frames)) + sum(rel_entr(mixture_distribution, short_long_rel_entr_curves_frames))) # is this right? I'm confused by sum(...) # (n_neurons, n_xbins)\n",
    "# \tjensen_shannon_distance = 0.5 * (np.sum(rel_entr(mixture_distribution, long_short_rel_entr_curves_frames), axis=1) + np.sum(rel_entr(mixture_distribution, short_long_rel_entr_curves_frames), axis=1)) # alt version: (nSnapshots, n_xbins)\n",
    "# \tprint(f'jensen_shannon_distance.shape: {np.shape(jensen_shannon_distance)}') # (n_neurons, n_xbins)\n",
    "# \treturn jensen_shannon_distance, mixture_distribution\n",
    "\n",
    "\n",
    "def earth_movers_distance(long_1DMaps, short_1DMaps):\n",
    "\tn_cells = np.shape(short_1DMaps)[0]\n",
    "\t# return np.array([cdist(np.atleast_2d(np.squeeze(long_1DMaps[i,:])), np.atleast_2d(np.squeeze(short_1DMaps[i,:])), 'jensenshannon')[0,0] for i in np.arange(n_cells)])\n",
    "\treturn np.array([wasserstein_distance(np.squeeze(long_1DMaps[i,:]), np.squeeze(short_1DMaps[i,:])) for i in np.arange(n_cells)])\n",
    "\n",
    "\n",
    "\n",
    "\n",
    "# i = 0\n",
    "# js_result_dict = compute_surprise_relative_entropy_divergence(np.squeeze(long_1DMaps[i,:]), np.squeeze(short_1DMaps[i,:]))\n",
    "# js_result_dict\n",
    "# js_result_dict['jensen_shannon_distance']\n",
    "# js_result_dict['long_short_rel_entr_curve']\n",
    "\n",
    "# jensen_shannon_distance, mixture_distribution = JS_Distance(long_1DMaps, short_1DMaps)\n",
    "# jensen_shannon_distance\n",
    "\n",
    "# earth_movers_distance = cdist(long_1DMaps, short_1DMaps, 'jensenshannon')\n",
    "\n",
    "# n_cells = np.shape(short_1DMaps)[0]\n",
    "# earth_movers_distance = np.array([cdist(np.atleast_2d(np.squeeze(long_1DMaps[i,:])), np.atleast_2d(np.squeeze(short_1DMaps[i,:])), 'jensenshannon')[0,0] for i in np.arange(n_cells)])\n",
    "\t\n"
   ]
  },
  {
   "cell_type": "code",
   "execution_count": null,
   "id": "2e930baf",
   "metadata": {},
   "outputs": [],
   "source": [
    "\n",
    "# long_1DMaps = long_pf1D.get_by_id(trivially_remapping_endcap_aclus).ratemap.unsmoothed_tuning_maps # (15, 107)\n",
    "# short_1DMaps = short_pf1D.get_by_id(trivially_remapping_endcap_aclus).ratemap.unsmoothed_tuning_maps # .shape\n",
    "\n",
    "# appearing_earth_movers_distance = earth_movers_distance(long_pf1D.get_by_id(appearing_aclus).ratemap.unsmoothed_tuning_maps, short_pf1D.get_by_id(appearing_aclus).ratemap.unsmoothed_tuning_maps)\n",
    "\n",
    "# get_curve_fn = lambda x: x.unsmoothed_tuning_maps\n",
    "get_curve_fn = lambda x: x.unsmoothed_tuning_maps\n",
    "\n",
    "trivially_remapping_endcap_earth_movers_distance = earth_movers_distance(get_curve_fn(long_pf1D.get_by_id(trivially_remapping_endcap_aclus).ratemap), get_curve_fn(short_pf1D.get_by_id(trivially_remapping_endcap_aclus).ratemap))\n",
    "significant_distant_remapping_earth_movers_distance = earth_movers_distance(get_curve_fn(long_pf1D.get_by_id(significant_distant_remapping_endcap_aclus).ratemap), get_curve_fn(short_pf1D.get_by_id(significant_distant_remapping_endcap_aclus).ratemap))\n",
    "disappearing_endcap_earth_movers_distance = earth_movers_distance(get_curve_fn(long_pf1D.get_by_id(disappearing_endcap_aclus).ratemap), get_curve_fn(short_pf1D.get_by_id(disappearing_endcap_aclus).ratemap))\n",
    "\n",
    "\n",
    "# earth_movers_distance = cdist(np.atleast_2d(np.squeeze(long_1DMaps[i,:])), np.atleast_2d(np.squeeze(short_1DMaps[i,:])), 'jensenshannon')[0]\n",
    "# trivially_remapping_endcap_earth_movers_distance\n",
    "# earth_movers_distance.shape\n",
    "\n",
    "trivially_remapping_endcap_earth_movers_distance"
   ]
  },
  {
   "cell_type": "code",
   "execution_count": null,
   "id": "98c0aa64",
   "metadata": {},
   "outputs": [],
   "source": [
    "significant_distant_remapping_earth_movers_distance\n"
   ]
  },
  {
   "cell_type": "code",
   "execution_count": null,
   "id": "65765e0c",
   "metadata": {},
   "outputs": [],
   "source": [
    "np.mean(trivially_remapping_endcap_earth_movers_distance)\n",
    "\n"
   ]
  },
  {
   "cell_type": "code",
   "execution_count": null,
   "id": "f9d139cb",
   "metadata": {},
   "outputs": [],
   "source": [
    "np.mean(significant_distant_remapping_earth_movers_distance)\n",
    "# fig, ax = plt.subplots()\n",
    "# ax.scatter(\n"
   ]
  },
  {
   "cell_type": "markdown",
   "id": "0bcb50e6",
   "metadata": {},
   "source": [
    "## 2023-09-20 - Plot the significantly remapping cells using the lower-level `plot_short_v_long_pf1D_comparison` function"
   ]
  },
  {
   "cell_type": "code",
   "execution_count": null,
   "id": "4ebc2de1",
   "metadata": {},
   "outputs": [],
   "source": [
    "from pyphoplacecellanalysis.General.Pipeline.Stages.DisplayFunctions.MultiContextComparingDisplayFunctions.LongShortTrackComparingDisplayFunctions import plot_short_v_long_pf1D_comparison\n",
    "from neuropy.utils.matplotlib_helpers import perform_update_title_subtitle\n",
    "from pyphoplacecellanalysis.Pho2D.track_shape_drawing import add_vertical_track_bounds_lines, add_track_shapes\n",
    "from neuropy.plotting.ratemaps import plot_ratemap_1D\n",
    "from pyphoplacecellanalysis.General.Model.Configs.LongShortDisplayConfig import LongShortDisplayConfigManager\n",
    "\n",
    "curr_active_pipeline.reload_default_display_functions()\n",
    "\n",
    "graphics_output_dict = {}\n",
    "active_context: IdentifyingContext = curr_active_pipeline.get_session_context()\n",
    "\n",
    "long_short_display_config_manager = LongShortDisplayConfigManager()\n",
    "long_epoch_config = long_short_display_config_manager.long_epoch_config.as_pyqtgraph_kwargs()\n",
    "short_epoch_config = long_short_display_config_manager.short_epoch_config.as_pyqtgraph_kwargs()\n",
    "\n",
    "long_epoch_matplotlib_config = long_short_display_config_manager.long_epoch_config.as_matplotlib_kwargs()\n",
    "short_epoch_matplotlib_config = long_short_display_config_manager.short_epoch_config.as_matplotlib_kwargs()\n",
    "\n",
    "shared_kwargs = dict(pad=1, cmap='hsv', active_context=curr_active_pipeline.get_session_context(), plot_zero_baselines=True, skip_figure_titles=True, use_flexitext_titles=True, flat_stack_mode=False)\n",
    "top_level_shared_kwargs = dict(should_plot_vertical_track_bounds_lines=True, sortby='peak_long')\n",
    "# top_level_shared_kwargs = dict(should_plot_vertical_track_bounds_lines=False, should_plot_linear_track_shapes=True) # Renders the linear track shape on the maze. Assumes `flat_stack_mode=True`\n",
    "\n",
    "\n",
    "# # flat_stack_mode: all placefields are stacked up (z-wise) on top of each other on a single axis with no offsets:\n",
    "# shared_kwargs = dict(pad=1, active_context=curr_active_pipeline.get_session_context(), plot_zero_baselines=True, skip_figure_titles=True, use_flexitext_titles=True, flat_stack_mode=True)\n",
    "# top_level_shared_kwargs = dict(should_plot_vertical_track_bounds_lines=False, should_plot_linear_track_shapes=True) # Renders the linear track shape on the maze. Assumes `flat_stack_mode=True`"
   ]
  },
  {
   "cell_type": "code",
   "execution_count": null,
   "id": "ec159e8a",
   "metadata": {},
   "outputs": [],
   "source": [
    "# 2023-09-21 - Plot All\n",
    "graphics_output_dict = graphics_output_dict | fig_remapping_cells(curr_active_pipeline)"
   ]
  },
  {
   "cell_type": "code",
   "execution_count": null,
   "id": "49a5e5a3",
   "metadata": {},
   "outputs": [],
   "source": [
    "\n"
   ]
  },
  {
   "cell_type": "code",
   "execution_count": null,
   "id": "3dfab342",
   "metadata": {},
   "outputs": [],
   "source": [
    "plt.suptitle('Translation Remapping Cells')"
   ]
  },
  {
   "cell_type": "code",
   "execution_count": null,
   "id": "12d9a3e5",
   "metadata": {},
   "outputs": [],
   "source": [
    "fig_surprise_results"
   ]
  },
  {
   "cell_type": "code",
   "execution_count": null,
   "id": "2a009cf3",
   "metadata": {},
   "outputs": [],
   "source": [
    "curr_active_pipeline.active_sess_config"
   ]
  },
  {
   "cell_type": "markdown",
   "id": "8231cfbe",
   "metadata": {},
   "source": [
    "## 2023-10-11 - Refined PBE results\n"
   ]
  },
  {
   "cell_type": "code",
   "execution_count": null,
   "id": "c436b0a3",
   "metadata": {},
   "outputs": [],
   "source": [
    "long_short_fr_indicies_analysis_results = curr_active_pipeline.global_computation_results.computed_data['long_short_fr_indicies_analysis']\n",
    "long_short_fr_indicies_analysis_results\n",
    "\n"
   ]
  },
  {
   "cell_type": "code",
   "execution_count": null,
   "id": "e177daae",
   "metadata": {},
   "outputs": [],
   "source": [
    "# sess = curr_active_pipeline.sess\n",
    "global_session.replay"
   ]
  },
  {
   "cell_type": "code",
   "execution_count": null,
   "id": "895e29fd",
   "metadata": {},
   "outputs": [],
   "source": [
    "global_session.laps"
   ]
  },
  {
   "cell_type": "code",
   "execution_count": null,
   "id": "36ff68f6",
   "metadata": {},
   "outputs": [],
   "source": [
    "global_session.pbe #.epochs.to_epoch_obj()\n"
   ]
  },
  {
   "cell_type": "code",
   "execution_count": null,
   "id": "b767cc2d",
   "metadata": {},
   "outputs": [],
   "source": [
    "owning_pipeline_reference = curr_active_pipeline\n",
    "\n",
    "non_running_periods = Epoch.from_PortionInterval(owning_pipeline_reference.sess.laps.as_epoch_obj().to_PortionInterval().complement())\n",
    "non_replay_periods: Epoch = Epoch(Epoch.from_PortionInterval(owning_pipeline_reference.sess.replay.epochs.to_PortionInterval().complement()).time_slice(t_start=long_epoch_obj.t_start, t_stop=short_epoch_obj.t_stop).to_dataframe()[:-1]) #[:-1] # any period except the replay ones, drop the infinite last entry\n",
    "\n",
    "\n",
    "# Split into long/short only periods:\n",
    "long_only_non_replay_periods: Epoch  = non_replay_periods.time_slice(t_start=long_epoch_obj.t_start, t_stop=long_epoch_obj.t_stop) # any period except the replay ones\n",
    "short_only_non_replay_periods: Epoch  = non_replay_periods.time_slice(t_start=short_epoch_obj.t_start, t_stop=short_epoch_obj.t_stop) # any period except the replay ones\n"
   ]
  },
  {
   "cell_type": "code",
   "execution_count": null,
   "id": "e9e9bee4",
   "metadata": {},
   "outputs": [],
   "source": [
    "non_running_periods"
   ]
  },
  {
   "cell_type": "markdown",
   "id": "5ffe8d9f",
   "metadata": {},
   "source": [
    "## pre 2023-10-11 - Other"
   ]
  },
  {
   "cell_type": "code",
   "execution_count": null,
   "id": "6d02c8b3",
   "metadata": {},
   "outputs": [],
   "source": [
    "# long_results = curr_active_pipeline.computation_results['maze1_PYR'].computed_data\n",
    "# short_results = curr_active_pipeline.computation_results['maze2_PYR'].computed_data\n",
    "# curr_any_context_neurons = _find_any_context_neurons(*[curr_active_pipeline.computation_results[k].computed_data.pf1D.ratemap.neuron_ids for k in ['maze1_PYR', 'maze2_PYR']])\n",
    "# (fig_long_pf_1D, ax_long_pf_1D, long_sort_ind, long_neurons_colors_array), (fig_short_pf_1D, ax_short_pf_1D, short_sort_ind, short_neurons_colors_array) = plot_short_v_long_pf1D_comparison(long_results, short_results, disappearing_endcap_aclus, reuse_axs_tuple=None, single_figure=True, shared_kwargs=shared_kwargs, title_string=\"Disappearing Cells\", subtitle_string=None, **top_level_shared_kwargs)\n",
    "graphics_output_dict['disappearing_endcap_aclus'] = curr_active_pipeline.display('_display_short_long_pf1D_comparison', curr_active_pipeline.get_session_context(), included_any_context_neuron_ids=disappearing_endcap_aclus, reuse_axs_tuple=None, single_figure=True, shared_kwargs=shared_kwargs, title_string=\"Disappearing Cells\", subtitle_string=None, **top_level_shared_kwargs)"
   ]
  },
  {
   "cell_type": "code",
   "execution_count": null,
   "id": "f3500f99",
   "metadata": {},
   "outputs": [],
   "source": [
    "# (fig_long_pf_1D, ax_long_pf_1D, long_sort_ind, long_neurons_colors_array), (fig_short_pf_1D, ax_short_pf_1D, short_sort_ind, short_neurons_colors_array) = plot_short_v_long_pf1D_comparison(long_results, short_results, significant_distant_remapping_endcap_aclus, reuse_axs_tuple=None, single_figure=True, shared_kwargs=shared_kwargs, title_string=\"Significant Distance Remapping Cells\", subtitle_string=\"1D Placefields\", **top_level_shared_kwargs)\n",
    "graphics_output_dict['significant_distant_remapping_endcap_aclus'] = curr_active_pipeline.display('_display_short_long_pf1D_comparison', curr_active_pipeline.get_session_context(), included_any_context_neuron_ids=significant_distant_remapping_endcap_aclus, reuse_axs_tuple=None, single_figure=True, shared_kwargs=shared_kwargs, title_string=\"Significant Distance Remapping Cells\", subtitle_string=\"1D Placefields\", **top_level_shared_kwargs)"
   ]
  },
  {
   "cell_type": "code",
   "execution_count": null,
   "id": "13c7f4af",
   "metadata": {},
   "outputs": [],
   "source": [
    "# (fig_long_pf_1D, ax_long_pf_1D, long_sort_ind, long_neurons_colors_array), (fig_short_pf_1D, ax_short_pf_1D, short_sort_ind, short_neurons_colors_array) = plot_short_v_long_pf1D_comparison(long_results, short_results, trivially_remapping_endcap_aclus, reuse_axs_tuple=None, single_figure=True, shared_kwargs=shared_kwargs, title_string=\"Trivially Remapping Cells\", subtitle_string=\"1D Placefields\", **top_level_shared_kwargs)\n",
    "graphics_output_dict['trivially_remapping_endcap_aclus'] = curr_active_pipeline.display('_display_short_long_pf1D_comparison', curr_active_pipeline.get_session_context(), included_any_context_neuron_ids=trivially_remapping_endcap_aclus, reuse_axs_tuple=None, single_figure=True, shared_kwargs=shared_kwargs, title_string=\"Trivially Remapping Cells\", subtitle_string=\"1D Placefields\", **top_level_shared_kwargs)"
   ]
  },
  {
   "cell_type": "code",
   "execution_count": null,
   "id": "744564fe",
   "metadata": {},
   "outputs": [],
   "source": [
    "## 2023-09-18 - Shows the cells that exhibit simple remapping after delta\n",
    "graphics_output_dict = curr_active_pipeline.display('_display_short_long_pf1D_comparison', curr_active_pipeline.get_session_context(), included_any_context_neuron_ids=None, reuse_axs_tuple=None, single_figure=True, shared_kwargs=shared_kwargs, **top_level_shared_kwargs)"
   ]
  },
  {
   "cell_type": "code",
   "execution_count": null,
   "id": "7e11c5cf",
   "metadata": {},
   "outputs": [],
   "source": [
    "from pyphoplacecellanalysis.SpecificResults.fourthYearPresentation import fig_example_nontopo_remap\n",
    "\n",
    "graphics_output_dict = fig_example_nontopo_remap(curr_active_pipeline)"
   ]
  },
  {
   "cell_type": "code",
   "execution_count": null,
   "id": "4be59d32",
   "metadata": {},
   "outputs": [],
   "source": []
  },
  {
   "cell_type": "code",
   "execution_count": null,
   "id": "771e3b4c",
   "metadata": {},
   "outputs": [],
   "source": [
    "curr_active_pipeline.export_pipeline_to_h5('output/2023_09_26_new_pipeline_test.h5')\n",
    "# ERROR: encountered exception !! 'InstantaneousSpikeRateGroupsComputation' object has no attribute 'all_incl_endPlatforms_InstSpikeRateTrends_df' ::::: (<class 'AttributeError'>, AttributeError(\"'InstantaneousSpikeRateGroupsComputation' object has no attribute 'all_incl_endPlatforms_InstSpikeRateTrends_df'\"), <traceback object at 0x000001E5A3D3D040>) while trying to build the session HDF output.\n",
    "# AttributeError: 'SpikeRateTrends' object has no attribute 'included_neuron_ids'\n",
    "# _neuron_replay_stats_df - TypeError: Cannot serialize the column [track_membership] because its data contents are not [string] but [mixed] object dtype"
   ]
  },
  {
   "cell_type": "code",
   "execution_count": null,
   "id": "b4aa0ec9",
   "metadata": {},
   "outputs": [],
   "source": []
  },
  {
   "cell_type": "code",
   "execution_count": null,
   "id": "255ef3eb",
   "metadata": {},
   "outputs": [],
   "source": [
    "%matplotlib qt\n",
    "active_identifying_session_ctx = curr_active_pipeline.sess.get_context() # 'bapun_RatN_Day4_2019-10-15_11-30-06'\n",
    "\n",
    "graphics_output_dict = curr_active_pipeline.display('_display_short_long_pf1D_scalar_overlap_comparison', active_identifying_session_ctx, save_figure=False)\n",
    "# fig, axs, plot_data = graphics_output_dict['fig'], graphics_output_dict['axs'], graphics_output_dict['plot_data']"
   ]
  },
  {
   "cell_type": "code",
   "execution_count": null,
   "id": "5e146d0b",
   "metadata": {},
   "outputs": [],
   "source": [
    "curr_active_pipeline.reload_default_display_functions()"
   ]
  },
  {
   "cell_type": "code",
   "execution_count": null,
   "id": "f3ca625b",
   "metadata": {},
   "outputs": [],
   "source": [
    "# _display_long_short_expected_v_observed_firing_rate\n",
    "graphics_output_dict = curr_active_pipeline.display('_display_long_short_expected_v_observed_firing_rate', curr_active_pipeline.sess.get_context(), included_neuron_IDs=significant_distant_remapping_endcap_aclus)"
   ]
  },
  {
   "cell_type": "code",
   "execution_count": null,
   "id": "da6bc6f5",
   "metadata": {},
   "outputs": [],
   "source": [
    "_temp_force_recompute=True"
   ]
  },
  {
   "cell_type": "code",
   "execution_count": null,
   "id": "d33d838e",
   "metadata": {},
   "outputs": [],
   "source": [
    "## Recompute 'long_short_fr_indicies_analyses'\n",
    "from pyphoplacecellanalysis.General.Batch.NonInteractiveProcessing import batch_extended_computations\n",
    "\n",
    "curr_active_pipeline.reload_default_computation_functions()\n",
    "\n",
    "# _temp_force_recompute=True\n",
    "_temp_force_recompute=False\n",
    "# extended_computations_include_includelist = ['_perform_time_dependent_placefield_computation', 'long_short_fr_indicies_analyses', 'pf_dt_sequential_surprise', 'short_long_pf_overlap_analyses'] # do only specifiedl\n",
    "extended_computations_include_includelist = ['jonathan_firing_rate_analysis', 'short_long_pf_overlap_analyses']\n",
    "newly_computed_values = batch_extended_computations(curr_active_pipeline, include_includelist=extended_computations_include_includelist, include_global_functions=True, fail_on_exception=True, progress_print=True, force_recompute=_temp_force_recompute, debug_print=False)\n",
    "newly_computed_values\n"
   ]
  },
  {
   "cell_type": "code",
   "execution_count": null,
   "id": "1ed12881",
   "metadata": {},
   "outputs": [],
   "source": [
    "jonathan_firing_rate_analysis_result.rdf.rdf"
   ]
  },
  {
   "cell_type": "code",
   "execution_count": null,
   "id": "4ab18fd3",
   "metadata": {},
   "outputs": [],
   "source": [
    "jonathan_firing_rate_analysis_result.irdf.irdf"
   ]
  },
  {
   "cell_type": "code",
   "execution_count": null,
   "id": "4a269239",
   "metadata": {},
   "outputs": [],
   "source": [
    "jonathan_firing_rate_analysis_result.neuron_replay_stats_df"
   ]
  },
  {
   "cell_type": "code",
   "execution_count": null,
   "id": "06ad2b85",
   "metadata": {},
   "outputs": [],
   "source": [
    "jonathan_firing_rate_analysis_result"
   ]
  },
  {
   "cell_type": "code",
   "execution_count": null,
   "id": "bf2ce6c3",
   "metadata": {},
   "outputs": [],
   "source": [
    "curr_long_short_fr_indicies_analysis_bak = curr_active_pipeline.global_computation_results.computed_data['long_short_fr_indicies_analysis']\n",
    "\n",
    "curr_long_short_fr_indicies_analysis = curr_active_pipeline.global_computation_results.computed_data.pop('long_short_fr_indicies_analysis')\n",
    "\n",
    "print(list(curr_long_short_fr_indicies_analysis.keys())) # ['long_laps', 'long_replays', 'short_laps', 'short_replays', 'global_laps', 'global_replays', 'long_non_replays', 'short_non_replays', 'global_non_replays', 'long_mean_non_replays_frs', 'short_mean_non_replays_frs', 'long_mean_non_replays_all_frs', 'short_mean_non_replays_all_frs', 'non_replays_frs_index', 'long_mean_non_replays_all_inst_frs', 'short_mean_non_replays_all_inst_frs', 'non_replays_inst_frs_index', 'active_context']\n",
    "\n",
    "print_keys_if_possible('curr_long_short_fr_indicies_analysis', curr_long_short_fr_indicies_analysis)"
   ]
  },
  {
   "cell_type": "code",
   "execution_count": null,
   "id": "e6411650",
   "metadata": {},
   "outputs": [],
   "source": [
    "curr_active_pipeline.global_computation_results.computed_data['long_short_fr_indicies_analysis']"
   ]
  },
  {
   "cell_type": "code",
   "execution_count": null,
   "id": "320f02aa",
   "metadata": {},
   "outputs": [],
   "source": [
    "curr_active_pipeline.sess.config"
   ]
  },
  {
   "cell_type": "markdown",
   "id": "1a621ba9",
   "metadata": {},
   "source": [
    "# 2023-09-12 - Assemble all neuron-level properties:"
   ]
  },
  {
   "cell_type": "code",
   "execution_count": null,
   "id": "6554ac6c",
   "metadata": {},
   "outputs": [],
   "source": [
    "from neuropy.core.neuron_identities import NeuronIdentityDataframeAccessor\n",
    "from pyphoplacecellanalysis.General.Pipeline.Stages.ComputationFunctions.MultiContextComputationFunctions.LongShortTrackComputations import build_merged_neuron_firing_rate_indicies\n",
    "\n",
    "joined_neruon_fri_df = build_merged_neuron_firing_rate_indicies(curr_active_pipeline, enable_display_intermediate_results=False)\n",
    "joined_neruon_fri_df"
   ]
  },
  {
   "cell_type": "code",
   "execution_count": null,
   "id": "d557da8f",
   "metadata": {},
   "outputs": [],
   "source": [
    "joined_neruon_fri_df"
   ]
  },
  {
   "cell_type": "code",
   "execution_count": null,
   "id": "963c78c2",
   "metadata": {},
   "outputs": [],
   "source": [
    "print(list(joined_neruon_fri_df.columns)) # ['aclu', 'lsfria_laps_frs_index', 'lsfria_laps_inst_frs_index', 'lsfria_replays_frs_index', 'lsfria_replays_inst_frs_index', 'lsfria_non_replays_frs_index', 'lsfria_non_replays_inst_frs_index', 'jfra_long_pf_peak_x', 'jfra_has_long_pf', 'jfra_short_pf_peak_x', 'jfra_has_short_pf', 'jfra_has_na', 'jfra_track_membership', 'jfra_long_non_replay_mean', 'jfra_short_non_replay_mean', 'jfra_non_replay_diff', 'jfra_long_replay_mean', 'jfra_short_replay_mean', 'jfra_replay_diff', 'jfra_long_mean', 'jfra_short_mean', 'jfra_mean_diff', 'jfra_neuron_IDX', 'jfra_num_replays', 'jfra_long_num_replays', 'jfra_short_num_replays', 'jfra_neuron_type', 'lspd_laps', 'lspd_replays', 'lspd_skew', 'lspd_max_axis_distance_from_center', 'lspd_distance_from_center', 'lspd_has_considerable_remapping']\n",
    "\n",
    "recast_columns=['track_membership','neuron_type']\n",
    "\n",
    "drop_columns=['jfra_aclu']\n",
    "joined_neuron_fri_df.drop(columns=drop_columns)\n",
    "['aclu', 'laps_frs_index', 'replays_frs_index', 'non_replays_frs_index', 'long_pf_peak_x', 'has_long_pf', 'short_pf_peak_x', 'has_short_pf', 'has_na', 'track_membership', 'long_non_replay_mean', 'short_non_replay_mean', 'non_replay_diff', 'long_replay_mean', 'short_replay_mean', 'replay_diff', 'long_mean', 'short_mean', 'mean_diff', 'neuron_IDX', 'num_replays', 'long_num_replays', 'short_num_replays', 'neuron_type', 'jfra_aclu', 'custom_frs_index', 'is_rate_extrema', 'is_refined_exclusive', 'is_refined_LxC', 'is_refined_SxC', 'laps', 'replays', 'skew', 'max_axis_distance_from_center', 'distance_from_center', 'has_considerable_remapping', 'session_uid', 'neuron_uid']"
   ]
  },
  {
   "cell_type": "markdown",
   "id": "b6bd0afa",
   "metadata": {},
   "source": [
    "# Computing consolidated `long_short_fr_indicies_df`"
   ]
  },
  {
   "cell_type": "code",
   "execution_count": null,
   "id": "9be486bd",
   "metadata": {},
   "outputs": [],
   "source": [
    "# 'long_short_fr_indicies_analysis'\n",
    "curr_long_short_fr_indicies_analysis = curr_active_pipeline.global_computation_results.computed_data['long_short_fr_indicies_analysis']\n",
    "_curr_aclus = list(curr_long_short_fr_indicies_analysis['laps_frs_index'].keys()) # extract one set of keys for the aclus\n",
    "_curr_frs_indicies_dict = {k:v.values() for k,v in curr_long_short_fr_indicies_analysis.items() if k in ['laps_frs_index', 'laps_inst_frs_index', 'replays_frs_index', 'replays_inst_frs_index', 'non_replays_frs_index', 'non_replays_inst_frs_index']} # extract the values\n",
    "long_short_fr_indicies_df = pd.DataFrame(_curr_frs_indicies_dict, index=_curr_aclus)\n",
    "long_short_fr_indicies_df"
   ]
  },
  {
   "cell_type": "code",
   "execution_count": null,
   "id": "33cb7543",
   "metadata": {},
   "outputs": [],
   "source": [
    "long_short_fr_indicies_df"
   ]
  },
  {
   "cell_type": "code",
   "execution_count": null,
   "id": "cca0c58f",
   "metadata": {},
   "outputs": [],
   "source": [
    "curr_active_pipeline.reload_default_computation_functions()\n",
    "curr_active_pipeline.perform_specific_computation('long_short_fr_indicies_analyses')\n"
   ]
  },
  {
   "cell_type": "code",
   "execution_count": null,
   "id": "62734a01",
   "metadata": {},
   "outputs": [],
   "source": [
    "# ax = long_short_fr_indicies_df.plot.scatter(x='non_replays_inst_frs_index' , y='replays_inst_frs_index', title='Replays v. Non-replay Firing Rate Index Comparison')\n",
    "# long_short_fr_indicies_df.plot.scatter(x='laps_inst_frs_index' , y='replays_inst_frs_index', title='Replays v. Laps Firing Rate Index Comparison', ax=ax)\n",
    "\n",
    "ax = long_short_fr_indicies_df.plot.scatter(x='non_replays_frs_index' , y='replays_frs_index', title='Replays v. Non-replay Firing Rate Index Comparison')\n",
    "long_short_fr_indicies_df.plot.scatter(x='laps_frs_index' , y='replays_frs_index', title='Replays v. Laps Firing Rate Index Comparison', ax=ax)\n"
   ]
  },
  {
   "cell_type": "code",
   "execution_count": null,
   "id": "8e8f1e5e",
   "metadata": {},
   "outputs": [],
   "source": [
    "from pandas.plotting import scatter_matrix\n",
    "\n",
    "# scatter_matrix(long_short_fr_indicies_df, figsize=(10, 10))\n",
    "scatter_matrix(joined_neruon_fri_df, figsize=(10, 10))\n"
   ]
  },
  {
   "cell_type": "markdown",
   "id": "f4d02820",
   "metadata": {},
   "source": [
    "# 2023-10-11 - Assigning Replays after delta to either the Long or Short track"
   ]
  },
  {
   "cell_type": "code",
   "execution_count": null,
   "id": "883e492d",
   "metadata": {},
   "outputs": [],
   "source": [
    "from pyphoplacecellanalysis.General.Batch.PhoDiba2023Paper import TrackAssignmentState, TrackAssignmentDecision, AssigningEpochs\n",
    "\n",
    "fig, ax, assigning_epochs_obj = AssigningEpochs.main_plot_iterative_epoch_track_assignments(curr_active_pipeline)\n",
    "\n",
    "\n"
   ]
  },
  {
   "cell_type": "code",
   "execution_count": null,
   "id": "fa2e267f",
   "metadata": {},
   "outputs": [],
   "source": [
    "\n",
    "assigning_epochs_obj.unassigned_epochs_df\n"
   ]
  },
  {
   "cell_type": "code",
   "execution_count": null,
   "id": "fdbf5a4c",
   "metadata": {},
   "outputs": [],
   "source": [
    "assigning_epochs_obj.filter_epochs_df"
   ]
  },
  {
   "cell_type": "code",
   "execution_count": null,
   "id": "08d9488a",
   "metadata": {},
   "outputs": [],
   "source": [
    "is_assignable_by_long_exclusive_cells = np.logical_and(assigning_epochs_obj.filter_epochs_df['has_LONG_exclusive_aclu'], np.logical_not(assigning_epochs_obj.filter_epochs_df['has_SHORT_exclusive_aclu'])) # has long exclusive and no short-exclusive cells\n",
    "np.sum(is_assignable_by_long_exclusive_cells)"
   ]
  },
  {
   "cell_type": "code",
   "execution_count": null,
   "id": "8e0a7a9b",
   "metadata": {},
   "outputs": [],
   "source": [
    "is_assignable_by_short_exclusive_cells = np.logical_and(assigning_epochs_obj.filter_epochs_df['has_SHORT_exclusive_aclu'], np.logical_not(assigning_epochs_obj.filter_epochs_df['has_LONG_exclusive_aclu'])) # has short exclusive and no long-exclusive cells\n",
    "np.sum(is_assignable_by_short_exclusive_cells)"
   ]
  },
  {
   "cell_type": "code",
   "execution_count": null,
   "id": "9d3565d5",
   "metadata": {},
   "outputs": [],
   "source": []
  },
  {
   "cell_type": "code",
   "execution_count": null,
   "id": "1f3b07f0",
   "metadata": {},
   "outputs": [],
   "source": [
    "assigning_epochs_obj"
   ]
  },
  {
   "cell_type": "code",
   "execution_count": null,
   "id": "a20da51b",
   "metadata": {},
   "outputs": [],
   "source": [
    "\n",
    "## Get the active_unique_aclus during the epoch and score them based on their rate-remapping value:\n",
    "assigning_epochs_obj.filter_epochs_df.active_unique_aclus"
   ]
  },
  {
   "cell_type": "code",
   "execution_count": null,
   "id": "74977100",
   "metadata": {},
   "outputs": [],
   "source": [
    "assigning_epochs_obj.unassigned_epochs_df"
   ]
  },
  {
   "cell_type": "markdown",
   "id": "a07a9146",
   "metadata": {},
   "source": [
    "## Plots the RateRemappingFiringRateIndex Number Line Figure\n"
   ]
  },
  {
   "cell_type": "code",
   "execution_count": null,
   "id": "eb8a42fa",
   "metadata": {},
   "outputs": [],
   "source": [
    "# ## Extract rr_* variables from rate_remapping_df\n",
    "# rr_aclus = rate_remapping_df.index.values\n",
    "# rr_laps, rr_replays, rr_skew, rr_neuron_type = [rate_remapping_df[n].values for n in ['laps', 'replays', 'skew', 'neuron_type']]\n",
    "\n",
    "\n",
    "## Extract rr_* variables from joined_neruon_fri_df\n",
    "rr_aclus = joined_neruon_fri_df.index.values\n",
    "rr_laps, rr_replays, rr_skew, rr_neuron_type = [joined_neruon_fri_df[n].values for n in ['lspd_laps', 'lspd_replays', 'lspd_skew', 'jfra_neuron_type']]\n",
    "\n",
    "## Display:\n",
    "from pyphoplacecellanalysis.General.Pipeline.Stages.DisplayFunctions.MultiContextComparingDisplayFunctions.LongShortTrackComparingDisplayFunctions import plot_rr_aclu\n",
    "n_debug_limit = 10\n",
    "fig, axs, sort_indicies = plot_rr_aclu([str(aclu) for aclu in rr_aclus[:n_debug_limit]], rr_laps=rr_laps[:n_debug_limit], rr_replays=rr_replays[:n_debug_limit], rr_neuron_types=rr_neuron_type[:n_debug_limit])\n"
   ]
  },
  {
   "cell_type": "code",
   "execution_count": null,
   "id": "9ad336e1",
   "metadata": {},
   "outputs": [],
   "source": [
    "fri_index_dicts_list = [dict(x=rr_laps, marker=r'$\\theta$', markersize=10, color='black', label='rr_laps'),\n",
    "\tdict(x=rr_replays, marker='o', markersize=10, fillstyle='none', color='black', label='rr_replays'),\n",
    "]"
   ]
  },
  {
   "cell_type": "code",
   "execution_count": null,
   "id": "bdc67e56",
   "metadata": {},
   "outputs": [],
   "source": [
    "\n",
    "## Display Paginated multi-plot\n",
    "from pyphoplacecellanalysis.General.Pipeline.Stages.DisplayFunctions.MultiContextComparingDisplayFunctions.LongShortTrackComparingDisplayFunctions import plot_rr_aclu\n",
    "from pyphoplacecellanalysis.General.Pipeline.Stages.DisplayFunctions.MultiContextComparingDisplayFunctions.LongShortTrackComparingDisplayFunctions import RateRemappingPaginatedFigureController\n",
    "active_identifying_session_ctx = curr_active_pipeline.sess.get_context()\n",
    "_out_rr_pagination_controller = RateRemappingPaginatedFigureController.init_from_rr_data(rr_aclus, rr_laps, rr_replays, rr_neuron_type, max_subplots_per_page=30, a_name='TestRateRemappingPaginatedFigureController', active_context=active_identifying_session_ctx)\n",
    "a_paginator = _out_rr_pagination_controller.plots_data.paginator"
   ]
  },
  {
   "cell_type": "markdown",
   "id": "6768b355",
   "metadata": {},
   "source": [
    "# 2023-09-28 - InstFrRate-based classification of LxC and SxC\n",
    "2023-09-28 10:39am: We looked at the results and determined that it was much worse than the placefield critiera I had previously. This analysis should be used as a secondary refinement for the existing placefield-based LxC/SxC exclusion critiera. It includes information about non-lap endcap activity that the other analysis omits. Can be used with a threshold."
   ]
  },
  {
   "cell_type": "code",
   "execution_count": null,
   "id": "f368c7a3",
   "metadata": {},
   "outputs": [],
   "source": [
    "## Plot the selected LxC/SxC cells cells on the PhoJonathan plots\n",
    "curr_active_pipeline.reload_default_display_functions()\n",
    "refined_LxC_aclus = long_exclusive.get_refined_track_exclusive_aclus()\n",
    "print(f'refined_LxC_aclus: {refined_LxC_aclus}')\n",
    "if len(refined_LxC_aclus):\n",
    "\t_out_LxC = curr_active_pipeline.display('_display_batch_pho_jonathan_replay_firing_rate_comparison', n_max_plot_rows=10, save_figure=False, included_unit_neuron_IDs=refined_LxC_aclus) # , included_unit_neuron_IDs=[4, 58]\n",
    "\n",
    "refined_SxC_aclus = short_exclusive.get_refined_track_exclusive_aclus()\n",
    "print(f'refined_SxC_aclus: {refined_SxC_aclus}')\n",
    "if len(refined_SxC_aclus):\n",
    "\t_out_SxC = curr_active_pipeline.display('_display_batch_pho_jonathan_replay_firing_rate_comparison', n_max_plot_rows=10, save_figure=False, included_unit_neuron_IDs=refined_SxC_aclus) # , included_unit_neuron_IDs=[4, 58]\n"
   ]
  },
  {
   "cell_type": "code",
   "execution_count": null,
   "id": "b5a08e63",
   "metadata": {},
   "outputs": [],
   "source": [
    "loaded_df = pd.read_csv(Path(r'W:\\Data\\neuron_replay_stats_table_2023-09-29-GL.csv'))\n",
    "loaded_df"
   ]
  },
  {
   "cell_type": "code",
   "execution_count": null,
   "id": "c8dbed92",
   "metadata": {},
   "outputs": [],
   "source": [
    "global_data_root_parent_path"
   ]
  },
  {
   "cell_type": "code",
   "execution_count": null,
   "id": "94f3cbf5",
   "metadata": {},
   "outputs": [],
   "source": [
    "from pyphoplacecellanalysis.General.Batch.AcrossSessionResults import AcrossSessionTables\n",
    " \n",
    "neuron_identities_table, long_short_fr_indicies_analysis_table, neuron_replay_stats_table = AcrossSessionTables.load_all_combined_tables(override_output_parent_path=global_data_root_parent_path, output_path_suffix=f'_{BATCH_DATE_TO_USE}')\n"
   ]
  },
  {
   "cell_type": "code",
   "execution_count": null,
   "id": "3f6aacae",
   "metadata": {},
   "outputs": [],
   "source": [
    "from pyphoplacecellanalysis.General.Pipeline.Stages.ComputationFunctions.MultiContextComputationFunctions.LongShortTrackComputations import _fr_index\n",
    "instantaneous_time_bin_size_seconds = 0.1\n",
    "owning_pipeline_reference = curr_active_pipeline\n",
    "long_epoch_obj, short_epoch_obj = [Epoch(owning_pipeline_reference.sess.epochs.to_dataframe().epochs.label_slice(an_epoch_name)) for an_epoch_name in [long_epoch_name, short_epoch_name]]\n",
    "\n",
    "# non_running_periods = Epoch.from_PortionInterval(owning_pipeline_reference.sess.laps.as_epoch_obj().to_PortionInterval().complement())\n",
    "non_replay_periods: Epoch = Epoch(Epoch.from_PortionInterval(owning_pipeline_reference.sess.replay.epochs.to_PortionInterval().complement()).time_slice(t_start=long_epoch_obj.t_start, t_stop=short_epoch_obj.t_stop).to_dataframe()[:-1]) #[:-1] # any period except the replay ones, drop the infinite last entry\n",
    "long_only_non_replay_periods: Epoch  = non_replay_periods.time_slice(t_start=long_epoch_obj.t_start, t_stop=long_epoch_obj.t_stop) # any period except the replay ones\n",
    "short_only_non_replay_periods: Epoch  = non_replay_periods.time_slice(t_start=short_epoch_obj.t_start, t_stop=short_epoch_obj.t_stop) # any period except the replay ones\n",
    "\n",
    "# ~20sec computation\n",
    "long_custom_InstSpikeRateTrends: SpikeRateTrends = SpikeRateTrends.init_from_spikes_and_epochs(spikes_df=deepcopy(owning_pipeline_reference.sess.spikes_df),\n",
    "                                                                                        filter_epochs=long_only_non_replay_periods,\n",
    "                                                                                        #    included_neuron_ids=long_exclusive.track_exclusive_aclus,\n",
    "                                                                                        instantaneous_time_bin_size_seconds=instantaneous_time_bin_size_seconds)\n",
    "\n",
    "short_custom_InstSpikeRateTrends: SpikeRateTrends = SpikeRateTrends.init_from_spikes_and_epochs(spikes_df=deepcopy(owning_pipeline_reference.sess.spikes_df),\n",
    "                                                                                        filter_epochs=short_only_non_replay_periods,\n",
    "                                                                                        #    included_neuron_ids=long_exclusive.track_exclusive_aclus,\n",
    "                                                                                        instantaneous_time_bin_size_seconds=instantaneous_time_bin_size_seconds)\n",
    "\n",
    "# # Note custom_InstSpikeRateTrends is global, not really needed:\n",
    "# global_custom_InstSpikeRateTrends: SpikeRateTrends = SpikeRateTrends.init_from_spikes_and_epochs(spikes_df=deepcopy(owning_pipeline_reference.sess.spikes_df),\n",
    "#                                                                                            filter_epochs=non_replay_periods,\n",
    "#                                                                                         #    included_neuron_ids=long_exclusive.track_exclusive_aclus,\n",
    "#                                                                                            instantaneous_time_bin_size_seconds=instantaneous_time_bin_size_seconds)\n",
    "\n",
    "## Determine the included percentiles for `joined_neruon_fri_df`\n",
    "custom_InstSpikeRateTrends_df = pd.DataFrame({'aclu': long_custom_InstSpikeRateTrends.included_neuron_ids, 'long_inst_fr': long_custom_InstSpikeRateTrends.cell_agg_inst_fr_list, 'short_inst_fr': short_custom_InstSpikeRateTrends.cell_agg_inst_fr_list}) #\n",
    "# custom_InstSpikeRateTrends_df['global_inst_fr'] = global_custom_InstSpikeRateTrends.cell_agg_inst_fr_list\n",
    "\n",
    "# Compute the single-dimensional firing rate index for the custom epochs and add it as a column to the dataframe:\n",
    "custom_InstSpikeRateTrends_df['custom_frs_index'] = _fr_index(long_fr=long_custom_InstSpikeRateTrends.cell_agg_inst_fr_list, short_fr=short_custom_InstSpikeRateTrends.cell_agg_inst_fr_list)\n",
    "\n",
    "# # Calculate 10th and 90th percentiles\n",
    "# lower_bound = custom_InstSpikeRateTrends_df['custom_frs_index'].quantile(0.10)\n",
    "# upper_bound = custom_InstSpikeRateTrends_df['custom_frs_index'].quantile(0.90)\n",
    "\n",
    "# # Filter rows\n",
    "# bottom_10_percent = custom_InstSpikeRateTrends_df[custom_InstSpikeRateTrends_df['custom_frs_index'] <= lower_bound]\n",
    "# top_10_percent = custom_InstSpikeRateTrends_df[custom_InstSpikeRateTrends_df['custom_frs_index'] >= upper_bound]\n",
    "\n",
    "# # Extract the aclus from these rows:\n",
    "# LxC_10_percent_aclus = top_10_percent.aclu.to_numpy()\n",
    "# SxC_10_percent_aclus = bottom_10_percent.aclu.to_numpy()\n",
    "\n",
    "# print(f'LxC_10_percent_aclus: {LxC_10_percent_aclus}')\n",
    "# print(f'SxC_10_percent_aclus: {SxC_10_percent_aclus}')"
   ]
  },
  {
   "cell_type": "code",
   "execution_count": null,
   "id": "d053014e",
   "metadata": {},
   "outputs": [],
   "source": [
    "## Really want to penalize for any firing on the opposite track."
   ]
  },
  {
   "cell_type": "code",
   "execution_count": null,
   "id": "6a867b35",
   "metadata": {},
   "outputs": [],
   "source": [
    "# I wanna look at the suprise metrics again please.\n",
    "\n",
    "# can align each of the sessions (across days) to the track transition point (the \"Delta\") as the zero.\n",
    "\n",
    "# print_keys_if_possible(\"global_computation_results\", curr_active_pipeline.global_computation_results, max_depth=2)\n",
    "\n",
    "# computed_data: pyphocorehelpers.DataStructure.dynamic_parameters.DynamicParameters\n",
    "# \t\t│   ├── jonathan_firing_rate_analysis: pyphocorehelpers.DataStructure.dynamic_parameters.DynamicParameters\n",
    "# \t\t│   ├── long_short_fr_indicies_analysis: pyphocorehelpers.DataStructure.dynamic_parameters.DynamicParameters\n",
    "# \t\t│   ├── long_short_leave_one_out_decoding_analysis: pyphoplacecellanalysis.General.Pipeline.Stages.ComputationFunctions.MultiContextComputationFunctions.LongShortTrackComputations.LeaveOneOutDecodingAnalysis\n",
    "# \t\t│   ├── long_short_post_decoding: pyphocorehelpers.DataStructure.dynamic_parameters.DynamicParameters\n",
    "\n",
    "\n",
    "print_keys_if_possible(\"global_computation_results\", curr_active_pipeline.global_computation_results.computed_data, max_depth=3)\n",
    "\n",
    "# jonathan_firing_rate_analysis_result.rdf\n",
    "\n",
    "# long_short_leave_one_out_decoding_analysis"
   ]
  },
  {
   "cell_type": "code",
   "execution_count": null,
   "id": "90d33a7c",
   "metadata": {
    "tags": [
     "NOW",
     "load",
     "plot"
    ]
   },
   "outputs": [],
   "source": [
    "import seaborn as sns\n",
    "from pyphocorehelpers.indexing_helpers import partition, safe_pandas_get_group\n",
    "from pyphoplacecellanalysis.General.Batch.AcrossSessionResults import InstantaneousFiringRatesDataframeAccessor, AcrossSessionsVisualizations\n",
    "from pyphoplacecellanalysis.General.Batch.PhoDiba2023Paper import SingleBarResult\n",
    "\n",
    "common_file_path = Path('output/active_across_session_scatter_plot_results.h5')\n",
    "print(f'common_file_path: {common_file_path}')\n",
    "\n",
    "# InstantaneousSpikeRateGroupsComputation, : pd.DataFrame\n",
    "_shell_obj, loaded_result_df = InstantaneousFiringRatesDataframeAccessor.load_and_prepare_for_plot(common_file_path)\n",
    "# Perform the actual plotting:\n",
    "AcrossSessionsVisualizations.across_sessions_bar_graphs(_shell_obj, num_sessions=13, save_figure=False, enable_tiny_point_labels=False, enable_hover_labels=True)"
   ]
  },
  {
   "cell_type": "code",
   "execution_count": null,
   "id": "fb580a77",
   "metadata": {},
   "outputs": [],
   "source": [
    "from datetime import datetime, timedelta\n",
    "\n",
    "maximum_timedelta: timedelta = timedelta(1, 0, 0) # 1 Day maximum time\n",
    "delta_since_last_compute: timedelta = curr_active_pipeline.get_time_since_last_computation()\n",
    "print(f'delta_since_last_compute: {delta_since_last_compute}')\n",
    "needs_recompute: bool = delta_since_last_compute > maximum_timedelta\n",
    "print(f'\\tneeds_recompute: {needs_recompute}')"
   ]
  },
  {
   "cell_type": "code",
   "execution_count": null,
   "id": "624326b3",
   "metadata": {},
   "outputs": [],
   "source": [
    "## Serialization of preprocessing parameters test\n",
    "file_path = 'output/preprocessing_parameters.h5'\n",
    "\n",
    "with h5py.File(file_path, \"w\") as f:\n",
    "\tpreprocessing_group = f.create_group(\"preprocessing_parameters\")\n",
    "\n",
    "\t# Serialize epoch_estimation_parameters\n",
    "\tepoch_estimation_group = preprocessing_group.create_group(\"epoch_estimation_parameters\")\n",
    "\n",
    "\tlaps_group = epoch_estimation_group.create_group(\"laps\")\n",
    "\tlaps_group.attrs[\"N\"] = preprocessing_parameters_dict[\"epoch_estimation_parameters\"][\"laps\"][\"N\"]\n",
    "\tlaps_group.attrs[\"should_backup_extant_laps_obj\"] = preprocessing_parameters_dict[\"epoch_estimation_parameters\"][\"laps\"][\"should_backup_extant_laps_obj\"]\n",
    "\n",
    "\tPBEs_group = epoch_estimation_group.create_group(\"PBEs\")\n",
    "\tPBEs_group.attrs[\"thresh\"] = preprocessing_parameters_dict[\"epoch_estimation_parameters\"][\"PBEs\"][\"thresh\"]\n",
    "\tPBEs_group.attrs[\"min_dur\"] = preprocessing_parameters_dict[\"epoch_estimation_parameters\"][\"PBEs\"][\"min_dur\"]\n",
    "\tPBEs_group.attrs[\"merge_dur\"] = preprocessing_parameters_dict[\"epoch_estimation_parameters\"][\"PBEs\"][\"merge_dur\"]\n",
    "\tPBEs_group.attrs[\"max_dur\"] = preprocessing_parameters_dict[\"epoch_estimation_parameters\"][\"PBEs\"][\"max_dur\"]\n",
    "\n",
    "\treplays_group = epoch_estimation_group.create_group(\"replays\")\n",
    "\treplay_data = preprocessing_parameters_dict[\"epoch_estimation_parameters\"][\"replays\"]\n",
    "\t# replay_dataframe = pd.DataFrame(replay_data)\n",
    "\t# replay_data.to_hdf(f, \"/preprocessing_parameters/epoch_estimation_parameters/replays\")\n",
    "\t## TODO: add the data here using Epoch's .to_hdf\n",
    "\t\n",
    "\t# Check for \"None\" values before setting attributes\n",
    "\tdef check_and_set(key, value):\n",
    "\t\tif value is not None:\n",
    "\t\t\treplays_group.attrs[key] = value\n",
    "\n",
    "\t# Set attributes if not \"None\", otherwise skip writing\n",
    "\tcheck_and_set(\"min_epoch_included_duration\", preprocessing_parameters_dict[\"epoch_estimation_parameters\"].get('replays', {}).get(\"min_epoch_included_duration\"))\n",
    "\tcheck_and_set(\"max_epoch_included_duration\", preprocessing_parameters_dict[\"epoch_estimation_parameters\"].get('replays', {}).get(\"max_epoch_included_duration\"))\n",
    "\tcheck_and_set(\"maximum_speed_thresh\", preprocessing_parameters_dict[\"epoch_estimation_parameters\"].get('replays', {}).get(\"maximum_speed_thresh\"))\n",
    "\tcheck_and_set(\"min_inclusion_fr_active_thresh\", preprocessing_parameters_dict[\"epoch_estimation_parameters\"].get('replays', {}).get(\"min_inclusion_fr_active_thresh\"))\n",
    "\tcheck_and_set(\"min_num_unique_aclu_inclusions\", preprocessing_parameters_dict[\"epoch_estimation_parameters\"].get('replays', {}).get(\"min_num_unique_aclu_inclusions\"))"
   ]
  },
  {
   "cell_type": "code",
   "execution_count": null,
   "id": "bcc30a2b",
   "metadata": {},
   "outputs": [],
   "source": [
    "enable_default_neptune_plots = False\n",
    "# enable_default_neptune_plots = True\n",
    "\n",
    "## To file only:\n",
    "with matplotlib_file_only():\n",
    "\t# Perform non-interactive Matplotlib operations with 'AGG' backend\n",
    "\tmain_complete_figure_generations(curr_active_pipeline, enable_default_neptune_plots=enable_default_neptune_plots, save_figures_only=True, save_figure=True)\n",
    "\n",
    "## Clear the Programmatically open figures:\n",
    "plt.close('all') # this takes care of the matplotlib-backed figures.\n",
    "curr_active_pipeline.clear_display_outputs()\n",
    "curr_active_pipeline.clear_registered_output_files()"
   ]
  },
  {
   "cell_type": "code",
   "execution_count": null,
   "id": "44783dac",
   "metadata": {},
   "outputs": [],
   "source": [
    "# Showing\n",
    "restore_previous_matplotlib_settings_callback = matplotlib_configuration_update(is_interactive=True, backend='Qt5Agg')\n",
    "# Perform interactive Matplotlib operations with 'Qt5Agg' backend\n",
    "_out_figures = main_complete_figure_generations(curr_active_pipeline, enable_default_neptune_plots=False, save_figures_only=False, save_figure=True)"
   ]
  },
  {
   "cell_type": "markdown",
   "id": "943b8f18",
   "metadata": {},
   "source": [
    "# Common Display Setup"
   ]
  },
  {
   "cell_type": "code",
   "execution_count": 19,
   "id": "6ef70fb2",
   "metadata": {
    "notebookRunGroups": {
     "groupValue": "2"
    },
    "tags": [
     "plot_cell"
    ]
   },
   "outputs": [],
   "source": [
    "import matplotlib\n",
    "# configure backend here\n",
    "matplotlib.use('Qt5Agg')\n",
    "# backend_qt5agg\n",
    "# %matplotlib qt5\n",
    "# %matplotlib qt\n",
    "# matplotlib.use('AGG') # non-interactive backend ## 2022-08-16 - Surprisingly this works to make the matplotlib figures render only to .png file, not appear on the screen!\n",
    "\n",
    "import matplotlib as mpl\n",
    "import matplotlib.pyplot as plt\n",
    "_bak_rcParams = mpl.rcParams.copy()\n",
    "# mpl.rcParams['toolbar'] = 'None' # disable toolbars\n",
    "\n",
    "# Showing\n",
    "restore_previous_matplotlib_settings_callback = matplotlib_configuration_update(is_interactive=True, backend='Qt5Agg')"
   ]
  },
  {
   "cell_type": "code",
   "execution_count": null,
   "id": "f0fbf214",
   "metadata": {},
   "outputs": [],
   "source": [
    "# import pylustrator # customization of figures\n",
    "import matplotlib\n",
    "# configure backend here\n",
    "matplotlib.use('Qt5Agg')\n",
    "import matplotlib as mpl\n",
    "import matplotlib.pyplot as plt\n",
    "_bak_rcParams = mpl.rcParams.copy()\n",
    "import pylustrator # call `pylustrator.start()` before creating your first figure in code."
   ]
  },
  {
   "cell_type": "code",
   "execution_count": null,
   "id": "530208a7",
   "metadata": {},
   "outputs": [],
   "source": [
    "pylustrator.start()"
   ]
  },
  {
   "cell_type": "code",
   "execution_count": null,
   "id": "6d8eddbf",
   "metadata": {},
   "outputs": [],
   "source": [
    "# Showing\n",
    "restore_previous_matplotlib_settings_callback = matplotlib_configuration_update(is_interactive=True, backend='Qt5Agg')"
   ]
  },
  {
   "cell_type": "code",
   "execution_count": null,
   "id": "6b490781",
   "metadata": {},
   "outputs": [],
   "source": [
    "# Plot The laps:\n",
    "from neuropy.utils.matplotlib_helpers import plot_position_curves_figure\n",
    "from pyphoplacecellanalysis.PhoPositionalData.plotting.laps import plot_laps_2d\n",
    "pylustrator.start()\n",
    "fig, out_axes_list = plot_laps_2d(global_session, legacy_plotting_mode=False, include_velocity=False, include_accel=False, figsize=(24, 10))\n",
    "out_axes_list[0].set_title('Estimated Laps')\n",
    "fig.canvas.manager.set_window_title('Estimated Laps')\n",
    "ax = out_axes_list[0]\n",
    "ax.set_xlim((1036.242685185441, 1441.769668184419))\n",
    "\n",
    "# Hide y-axis ticklabels\n",
    "plt.tick_params(axis='y', which='both', labelleft=False)"
   ]
  },
  {
   "cell_type": "code",
   "execution_count": null,
   "id": "fb32cee1",
   "metadata": {},
   "outputs": [],
   "source": [
    "fig = plt.gcf()\n",
    "ax = fig.axes[0]\n",
    "ax\n",
    "ax.get_xlim()\n",
    "\n",
    "\n",
    "laps_example_region_xlims = (1036.242685185441, 1441.769668184419)\n",
    "\n",
    "fig, out_axes_list = plot_position_curves_figure(global_session.position, include_velocity=False, include_accel=False, figsize=(24, 10))\n",
    "\n",
    "_out1 = curr_active_pipeline.display('_display_long_short_laps', include_velocity=False, include_accel=False)\n"
   ]
  },
  {
   "cell_type": "code",
   "execution_count": null,
   "id": "51c59882",
   "metadata": {},
   "outputs": [],
   "source": [
    "curr_active_pipeline.plot._display_decoder_result()"
   ]
  },
  {
   "cell_type": "markdown",
   "id": "9737539d",
   "metadata": {},
   "source": [
    "# 2023-09-07 - Track Graphics Testing"
   ]
  },
  {
   "cell_type": "code",
   "execution_count": null,
   "id": "1a866b1b",
   "metadata": {
    "tags": [
     "ACTIVE",
     "track_graphics"
    ]
   },
   "outputs": [],
   "source": [
    "from pyphocorehelpers.geometry_helpers import BoundsRect, point_tuple_mid_point, map_value\n",
    "from pyphoplacecellanalysis.Pho2D.track_shape_drawing import LinearTrackDimensions\n",
    "from pyphoplacecellanalysis.Pho2D.track_shape_drawing import add_vertical_track_bounds_lines, add_track_shapes, test_LinearTrackDimensions_2D_pyqtgraph\n",
    "from neuropy.utils.mathutil import contiguous_regions, threshPeriods, compute_grid_bin_bounds, map_value\n",
    "from pyphoplacecellanalysis.Pho2D.track_shape_drawing import test_LinearTrackDimensions_2D_Matplotlib\n",
    "from pyphoplacecellanalysis.Pho2D.track_shape_drawing import LinearTrackInstance\n",
    "\n",
    "grid_bin_bounds = BoundsRect.init_from_grid_bin_bounds(global_pf2D.config.grid_bin_bounds)\n",
    "display(grid_bin_bounds)\n",
    "\n",
    "# long_track_dims = LinearTrackDimensions.init_from_grid_bin_bounds(grid_bin_bounds)\n",
    "# short_track_dims = LinearTrackDimensions.init_from_grid_bin_bounds(grid_bin_bounds)\n",
    "\n",
    "long_track_dims = LinearTrackDimensions(track_length=170.0)\n",
    "short_track_dims = LinearTrackDimensions(track_length=100.0)\n",
    "\n",
    "common_1D_platform_height = 0.25\n",
    "common_1D_track_height = 0.1\n",
    "long_track_dims.minor_axis_platform_side_width = common_1D_platform_height\n",
    "long_track_dims.track_width = common_1D_track_height # (short_track_dims.minor_axis_platform_side_width\n",
    "\n",
    "short_track_dims.minor_axis_platform_side_width = common_1D_platform_height\n",
    "short_track_dims.track_width = common_1D_track_height # (short_track_dims.minor_axis_platform_side_width\n",
    "\n",
    "# instances:\n",
    "long_track = LinearTrackInstance(long_track_dims, grid_bin_bounds=grid_bin_bounds)\n",
    "short_track = LinearTrackInstance(short_track_dims, grid_bin_bounds=grid_bin_bounds)\n",
    "\n",
    "print(long_track_dims)\n",
    "print(short_track_dims)"
   ]
  },
  {
   "cell_type": "code",
   "execution_count": null,
   "id": "1c12b684",
   "metadata": {},
   "outputs": [],
   "source": [
    "import napari\n",
    "\n",
    "# global_pf1D_dt.config.grid_bin_bounds\n",
    "\n",
    "\n",
    "def napari_add_grid_bin_bounds_rect(viewer: napari.viewer.Viewer, grid_bin_bounds):\n",
    "\t\"\"\" adds the animal's position as a track and a point layer to the napari viewer.\n",
    "\n",
    "\n",
    "\tUsage:\n",
    "\n",
    "\tfrom pyphoplacecellanalysis.GUI.Napari.napari_helpers import napari_add_animal_position\n",
    "\tnapari_add_animal_position(viewer=viewer, position_df=global_pf1D_dt.all_time_filtered_pos_df[['t','x','binned_x']], time_intervals)\n",
    "\n",
    "\n",
    "\t\"\"\"\n",
    "\t# rect = np.array([[0, 0], [3, 1]])\n",
    "\tgrid_bin_bounds_rect = grid_bin_bounds\n",
    "\tviewer.add_shapes(grid_bin_bounds_rect, shape_type='grid_bin_bounds_rect', edge_width=0.1)\n",
    "    \n",
    "napari_add_grid_bin_bounds_rect(viewer, grid_bin_bounds)"
   ]
  },
  {
   "cell_type": "code",
   "execution_count": null,
   "id": "59b29b63",
   "metadata": {},
   "outputs": [],
   "source": [
    "## For napari need to map onto xbins axis:\n",
    "#TODO: Not working, did manual rect drawing below instead.\n",
    "\n",
    "assert len(viewer.dims.range) == 3\n",
    "t_range_tuple, neuron_id_range_tuple, xbin_range_tuple = viewer.dims.range\n",
    "# ((0.0, 3309.0, 1.0),\n",
    "#  (-0.2906298631133275, 85.0, 1.0),\n",
    "#  (-0.24635407377607876, 108.0, 1.0))\n",
    "xbin_min, xbin_max = (xbin_range_tuple[0], (xbin_range_tuple[1]-xbin_range_tuple[2])) # the max range isn't included, so we need to subtract off the step to get the real max\n",
    "xbin_width = (xbin_max - xbin_min) # total width in number of xbins\n",
    "x_to_xbins_multiplier: float = xbin_width/grid_bin_bounds.size[0] # multiply a number in normal coordinates to get the equivalent number of xbins\n",
    "x_to_xbins_multiplier\n",
    "\n",
    "map_track_coords_to_xbins_space = lambda v: map_value(v, (grid_bin_bounds.xmin, grid_bin_bounds.xmax), (xbin_min, xbin_max)) # same map\n",
    "# map_track_coords_to_ybins_space = lambda v: map_value(v, (grid_bin_bounds.ymin, grid_bin_bounds.ymax), (ybin_min, ybin_max)) # same map\n",
    "\n",
    "bin_space_grid_bin_bounds = deepcopy(grid_bin_bounds)\n",
    "bin_space_grid_bin_bounds.xmin = map_track_coords_to_xbins_space(grid_bin_bounds.xmin)\n",
    "bin_space_grid_bin_bounds.xmax = map_track_coords_to_xbins_space(grid_bin_bounds.xmax)\n",
    "\n",
    "bin_space_grid_bin_bounds.ymin = 0.0\n",
    "bin_space_grid_bin_bounds.ymax = 5.0\n",
    "\n",
    "bin_space_grid_bin_bounds\n",
    "\n",
    "# map_track_coords_to_xbins_space(grid_bin_bounds.xmin), map_track_coords_to_xbins_space(grid_bin_bounds.xmax)\n",
    "# bin_space_long_track_dims = LinearTrackDimensions.init_from_grid_bin_bounds(bin_space_grid_bin_bounds)\n",
    "# bin_space_short_track_dims = LinearTrackDimensions.init_from_grid_bin_bounds(bin_space_grid_bin_bounds)\n",
    "\n",
    "# common_1D_platform_height = 0.25\n",
    "# common_1D_track_height = 0.1\n",
    "# bin_space_long_track_dims.minor_axis_platform_side_width = common_1D_platform_height\n",
    "# bin_space_long_track_dims.track_width = common_1D_track_height # (short_track_dims.minor_axis_platform_side_width\n",
    "\n",
    "# bin_space_short_track_dims.minor_axis_platform_side_width = common_1D_platform_height\n",
    "# bin_space_short_track_dims.track_width = common_1D_track_height # (short_track_dims.minor_axis_platform_side_width\n",
    "\n",
    "bin_space_long_track_dims = deepcopy(long_track_dims)\n",
    "bin_space_short_track_dims = deepcopy(short_track_dims)\n",
    "\n",
    "bin_space_long_track_dims.axis_scale_factors = (x_to_xbins_multiplier, 1.0)\n",
    "bin_space_short_track_dims.axis_scale_factors = (x_to_xbins_multiplier, 1.0)\n",
    "\n",
    "bin_space_long_track = LinearTrackInstance(bin_space_long_track_dims, grid_bin_bounds=bin_space_grid_bin_bounds)\n",
    "bin_space_short_track = LinearTrackInstance(bin_space_short_track_dims, grid_bin_bounds=bin_space_grid_bin_bounds)\n",
    "\n",
    "bin_space_short_track\n",
    "\n",
    "t_range_tuple, neuron_id_range_tuple, xbin_range_tuple = viewer.dims.range\n",
    "t_range_tuple\n",
    "\n",
    "\n",
    "bin_space_grid_bin_bounds\n",
    "half_xbin_width = float(xbin_width)/2.0\n",
    "half_xbin_width\n",
    "bin_space_short_track.track_dimensions.scaled_total_length\n",
    "# vertices are top-left and bottom-right corners\n",
    "# [(x, 0.0, w, h) for x, y, w, h, *_unused in bin_space_short_track.rects]\n",
    "# short_track_rectangle_data = [BoundsRect.init_from_x_y_w_h_tuple((x+np.abs(x), y, w, h)).corner_points for x, y, w, h, *_unused in bin_space_short_track.rects]\n",
    "short_track_rectangle_data = [np.hstack((np.zeros((4,1)), BoundsRect.init_from_x_y_w_h_tuple((x+half_xbin_width, y, w, h)).corner_points))[:, :][:, [0, 2, 1]] for x, y, w, h, *_unused in bin_space_short_track.rects]\n",
    "long_track_rectangle_data = np.vstack([np.hstack((np.zeros((4,1)), BoundsRect.init_from_x_y_w_h_tuple((x+half_xbin_width, y, w, h)).corner_points))[:, [0, 2, 1]] for x, y, w, h, *_unused in bin_space_long_track.rects])\n",
    "\n",
    "# short_track_rectangle_data = np.vstack(short_track_rectangle_data)\n",
    "short_track_rectangle_data\n",
    "\n",
    "# array([[0, 2.375, 35], # bottom-left\n",
    "    #    [0, 2.625, 35], # bottom-right\n",
    "    #    [0, 2.375, 46.112], # top-left\n",
    "    #    [0, 2.625, 46.112], # top-right\n",
    "\n",
    "# [0,2,3,1]"
   ]
  },
  {
   "cell_type": "code",
   "execution_count": null,
   "id": "0bb201f1",
   "metadata": {},
   "outputs": [],
   "source": [
    "import itertools\n",
    "\n",
    "# sync_point_y = -0.750314\n",
    "sync_point_y = 0.0 # the bottom (y-axis) value of the track\n",
    "track_platform_height_y = -5.19389 # the top coordinate (y-axis) value of the platforms\n",
    "\n",
    "## Time indicies for tracks:\n",
    "time_index = 0\n",
    "long_short_change_time_index = 2097 # APPROXIMATE\n",
    "t_range_tuple, neuron_id_range_tuple, xbin_range_tuple = viewer.dims.range\n",
    "long_time_indicies = np.arange(t_range_tuple[0], long_short_change_time_index)\n",
    "short_time_indicies = np.arange(long_short_change_time_index, (t_range_tuple[1]-t_range_tuple[2]))\n",
    "\n",
    "### Long Track Shape Layer:\n",
    "# Where the platform and the track connect:\n",
    "track_platform_connect_x_min = 14.157\n",
    "track_platform_connect_x_max = 91.6898\n",
    "long_track_shapes_data = list(itertools.chain.from_iterable([\n",
    "[\n",
    "np.array([[time_index, track_platform_height_y, track_platform_connect_x_max],\n",
    "        [time_index, track_platform_height_y, 106.093],\n",
    "        [time_index, sync_point_y, 106.093],\n",
    "        [time_index, sync_point_y, track_platform_connect_x_max]]),\n",
    " np.array([[time_index, -3.66162, 14.0037],\n",
    "        [time_index, -3.66162, track_platform_connect_x_max],\n",
    "        [time_index, sync_point_y, track_platform_connect_x_max],\n",
    "        [time_index, sync_point_y, 14.0037]]),\n",
    " np.array([[time_index, track_platform_height_y, -0.246354],\n",
    "        [time_index, track_platform_height_y, track_platform_connect_x_min],\n",
    "        [time_index, sync_point_y, track_platform_connect_x_min],\n",
    "        [time_index, sync_point_y, -0.246354]])\n",
    "]\n",
    "for time_index in long_time_indicies]))\n",
    "long_track_shapes_layer = viewer.add_shapes(long_track_shapes_data, shape_type='rectangle', name='long_track', edge_width=0, face_color='#aa0000ff')\n",
    "long_track_shapes_layer.editable = False\n",
    "\n",
    "\n",
    "### Short Track Shape Layer:\n",
    "# Where the platform and the track connect:\n",
    "track_platform_connect_x_min = 28.2539\n",
    "track_platform_connect_x_max = 73.7623\n",
    "\n",
    "short_track_shapes_data =  list(itertools.chain.from_iterable([\n",
    "[\n",
    "np.array([[time_index, track_platform_height_y, track_platform_connect_x_max],\n",
    "        [time_index, track_platform_height_y, 88.1655],\n",
    "        [time_index, sync_point_y, 88.1655],\n",
    "        [time_index, sync_point_y, track_platform_connect_x_max]]),\n",
    "np.array([[time_index, -3.66162, 28.1006],\n",
    "        [time_index, -3.66162, track_platform_connect_x_max],\n",
    "        [time_index, sync_point_y, track_platform_connect_x_max],\n",
    "        [time_index, sync_point_y, 28.1006]]),\n",
    "np.array([[time_index, track_platform_height_y, 13.8505],\n",
    "        [time_index, track_platform_height_y, track_platform_connect_x_min],\n",
    "        [time_index, sync_point_y, track_platform_connect_x_min],\n",
    "        [time_index, sync_point_y, 13.8505]])\n",
    "]\n",
    "for time_index in short_time_indicies]))\n",
    "\n",
    "short_track_shapes_layer = viewer.add_shapes(short_track_shapes_data, shape_type='rectangle', name='short_track', edge_width=0, face_color='royalblue')\n",
    "short_track_shapes_layer.editable = False"
   ]
  },
  {
   "cell_type": "code",
   "execution_count": null,
   "id": "04b12bac",
   "metadata": {},
   "outputs": [],
   "source": [
    "long_track_shapes_layer.data"
   ]
  },
  {
   "cell_type": "code",
   "execution_count": null,
   "id": "2bc1240f",
   "metadata": {},
   "outputs": [],
   "source": [
    "shapes_layer = viewer.layers['short_track_rectangle_data']\n",
    "shapes_layer.data\n",
    "\n",
    "\n",
    "\n"
   ]
  },
  {
   "cell_type": "markdown",
   "id": "3fb9ebf9",
   "metadata": {},
   "source": [
    "# Test classifying various x-positions as belonging to outside the outside_maze, the track_endcaps, or the track_body"
   ]
  },
  {
   "cell_type": "code",
   "execution_count": null,
   "id": "0ce4a39a",
   "metadata": {},
   "outputs": [],
   "source": [
    "long_rects_outputs, short_rects_outputs = add_track_shapes(grid_bin_bounds, ax=None)"
   ]
  },
  {
   "cell_type": "code",
   "execution_count": null,
   "id": "7494b78c",
   "metadata": {},
   "outputs": [],
   "source": [
    "# long_offset=(150.0, 0.5)\n",
    "# short_offset=(150.0, -0.5)\n",
    "\n",
    "long_offset=(grid_bin_bounds.center_point[0], 0.5)\n",
    "short_offset=(grid_bin_bounds.center_point[0], -0.5)\n",
    "\n",
    "# # Create a second y-axis sharing the same x-axis as ax\n",
    "# ax2 = ax.twinx()\n",
    "# # ax2.plot(x, y2, 'b-')\n",
    "# ax2.set_ylabel('Track data', color='b')\n",
    "# # Set the adjustable attribute to 'datalim'\n",
    "# ax.set_adjustable('datalim')\n",
    "# ax2.set_adjustable('datalim')\n",
    "# long_track_dims.plot_rects(ax2, offset=long_offset)\n",
    "# short_track_dims.plot_rects(ax2, offset=short_offset)\n",
    "\n",
    "combined_item, rect_items, rects = long_track_dims.plot_rects(ax, offset=long_offset)\n",
    "short_track_dims.plot_rects(ax, offset=short_offset)"
   ]
  },
  {
   "cell_type": "code",
   "execution_count": null,
   "id": "36198209",
   "metadata": {},
   "outputs": [],
   "source": [
    "fig, ax1, ax2 = test_LinearTrackDimensions_2D_Matplotlib(long_track_dims, short_track_dims, long_offset=(150.0, 0.5), short_offset=(150.0, -0.5))"
   ]
  },
  {
   "cell_type": "code",
   "execution_count": null,
   "id": "5840c779",
   "metadata": {},
   "outputs": [],
   "source": [
    "\n",
    "# Find center from `grid_bin_bounds`\n",
    "# long_pf2D.bin_info\n",
    "grid_bin_bounds = deepcopy(long_pf2D.config.grid_bin_bounds)\n",
    "\n",
    "x_diff = (grid_bin_bounds[0][1] - grid_bin_bounds[0][0])\n",
    "y_diff = (grid_bin_bounds[1][1] - grid_bin_bounds[1][0])\n",
    "print(f'x_diff: {x_diff}, y_diff: {y_diff}')\n",
    "\n",
    "# Find the x, y midpoints:\n",
    "x_midpoint = grid_bin_bounds[0][0] + (x_diff/2.0)\n",
    "y_midpoint = grid_bin_bounds[1][0] + (y_diff/2.0)\n",
    "print(f'x_midpoint: {x_midpoint}, y_midpoint: {y_midpoint}')\n"
   ]
  },
  {
   "cell_type": "code",
   "execution_count": null,
   "id": "5185f516",
   "metadata": {},
   "outputs": [],
   "source": [
    "grid_bin_bounds_center_point = (point_tuple_mid_point(grid_bin_bounds[0]), point_tuple_mid_point(grid_bin_bounds[1])) # (145.43, 140.61)\n",
    "x_midpoint, y_midpoint = grid_bin_bounds_center_point"
   ]
  },
  {
   "cell_type": "code",
   "execution_count": null,
   "id": "5163e5e2",
   "metadata": {},
   "outputs": [],
   "source": [
    "\n",
    "# long_track_dims.total_length # 214.0\n",
    "# short_track_dims.total_length # 144.0\n",
    "# zero_alignment_point = self.total_length/2.0\n",
    "long_notable_x_positions, _long_notable_y_positions = long_track_dims._build_component_notable_positions(offset_point=(x_midpoint, y_midpoint))\n",
    "short_notable_x_positions, _short_notable_y_positions = short_track_dims._build_component_notable_positions(offset_point=(x_midpoint, y_midpoint))"
   ]
  },
  {
   "cell_type": "code",
   "execution_count": null,
   "id": "fc254a79",
   "metadata": {},
   "outputs": [],
   "source": [
    "# def _add_vertical_track_bounds_lines(grid_bin_bounds, ax=None):\n",
    "# \t\"\"\" \n",
    "# \tCaptures: long_notable_x_positions, short_notable_x_positions\n",
    "\t\n",
    "# \tUsage:\n",
    "# \t\tgrid_bin_bounds = deepcopy(long_pf2D.config.grid_bin_bounds)\n",
    "# \t\tlong_track_line_collection, short_track_line_collection = _add_vertical_track_bounds_lines(grid_bin_bounds=grid_bin_bounds, ax=ax)\n",
    "\n",
    "# \t\"\"\"\n",
    "# \tlong_track_dims = LinearTrackDimensions(track_length=170.0)\n",
    "# \tshort_track_dims = LinearTrackDimensions(track_length=100.0)\n",
    "\n",
    "# \t# Find center from `grid_bin_bounds` using `point_tuple_mid_point`\n",
    "# \tx_midpoint, y_midpoint = (point_tuple_mid_point(grid_bin_bounds[0]), point_tuple_mid_point(grid_bin_bounds[1])) # grid_bin_bounds_center_point: (145.43, 140.61)\n",
    "\n",
    "# \tlong_notable_x_positions, _long_notable_y_positions = long_track_dims._build_component_notable_positions(offset_point=(x_midpoint, y_midpoint))\n",
    "# \tshort_notable_x_positions, _short_notable_y_positions = short_track_dims._build_component_notable_positions(offset_point=(x_midpoint, y_midpoint))\n",
    "\n",
    "# \t# Omit the midpoint\n",
    "# \tlong_notable_x_platform_positions = long_notable_x_positions[[0,1,3,4]]\n",
    "# \tshort_notable_x_platform_positions = short_notable_x_positions[[0,1,3,4]]\n",
    "\n",
    "# \t## Adds to current axes:\n",
    "# \tif ax is None:\n",
    "# \t\tfig = plt.gcf()\n",
    "# \t\taxs = fig.get_axes()\n",
    "# \t\tax = axs[0]\n",
    "# \tlong_track_line_collection: matplotlib.collections.LineCollection = plt.vlines(long_notable_x_platform_positions, label='long_track_x_pos_lines', ymin=ax.get_ybound()[0], ymax=ax.get_ybound()[1], colors='#0000FFAA', linestyles='dashed') # matplotlib.collections.LineCollection\n",
    "# \tshort_track_line_collection: matplotlib.collections.LineCollection = plt.vlines(short_notable_x_platform_positions, label='short_track_x_pos_lines', ymin=ax.get_ybound()[0], ymax=ax.get_ybound()[1], colors='#FF0000AA', linestyles='dashed') # matplotlib.collections.LineCollection\n",
    "# \treturn long_track_line_collection, short_track_line_collection\n",
    "\n",
    "grid_bin_bounds = deepcopy(long_pf2D.config.grid_bin_bounds)\n",
    "long_track_line_collection, short_track_line_collection = add_vertical_track_bounds_lines(grid_bin_bounds=grid_bin_bounds, ax=None)"
   ]
  },
  {
   "cell_type": "code",
   "execution_count": null,
   "id": "df2650ca",
   "metadata": {},
   "outputs": [],
   "source": [
    "rect_items, rects = long_track_dims.plot_rects(axs[0]) # , offset=(x, y) # , offset=(0.1, 100.0)\n"
   ]
  },
  {
   "cell_type": "code",
   "execution_count": null,
   "id": "f20cfaa3",
   "metadata": {},
   "outputs": [],
   "source": [
    "long_track_line_collection.remove()"
   ]
  },
  {
   "cell_type": "code",
   "execution_count": null,
   "id": "4d7b24ac",
   "metadata": {},
   "outputs": [],
   "source": [
    "short_track_line_collection.remove()"
   ]
  },
  {
   "cell_type": "code",
   "execution_count": null,
   "id": "9bdae8e4",
   "metadata": {},
   "outputs": [],
   "source": [
    "long_track_dims.plot_rects(ax, offset=)\n"
   ]
  },
  {
   "cell_type": "code",
   "execution_count": null,
   "id": "9e8a25f9",
   "metadata": {},
   "outputs": [],
   "source": [
    "fig = plt.gcf()\n",
    "axs = fig.get_axes()\n",
    "ax = axs[0]"
   ]
  },
  {
   "cell_type": "code",
   "execution_count": null,
   "id": "69a48933",
   "metadata": {},
   "outputs": [],
   "source": [
    "long_track_line_collection.remove()\n",
    "short_track_line_collection.remove()"
   ]
  },
  {
   "cell_type": "code",
   "execution_count": null,
   "id": "a142c83a",
   "metadata": {},
   "outputs": [],
   "source": [
    "from pyphoplacecellanalysis.PhoPositionalData.plotting.placefield import plot_1D_placecell_validation\n",
    "\n",
    "_out = plot_1D_placecell_validation(long_pf1D, 0)\n",
    "\n",
    "axes = _out[1]\n",
    "ax = axes[0]\n",
    "# ax = axes[1]\n",
    "ax"
   ]
  },
  {
   "cell_type": "code",
   "execution_count": null,
   "id": "ff10cf3b",
   "metadata": {},
   "outputs": [],
   "source": [
    "long_track_dims = LinearTrackDimensions.init_from_grid_bin_bounds(grid_bin_bounds=grid_bin_bounds, debug_print=True)\n",
    "\n",
    "fig, axs = plt.subplots(2, 1)\n",
    "\n",
    "rect_items, rects = long_track_dims.plot_rects(axs[0]) # , offset=(x, y) # , offset=(0.1, 100.0)\n"
   ]
  },
  {
   "cell_type": "code",
   "execution_count": null,
   "id": "4d5cf4f6",
   "metadata": {},
   "outputs": [],
   "source": [
    "\n",
    "# long_track_dims.plot_rects(ax)"
   ]
  },
  {
   "cell_type": "code",
   "execution_count": null,
   "id": "4064c13b",
   "metadata": {},
   "outputs": [],
   "source": [
    "_out = curr_active_pipeline.display('_display_grid_bin_bounds_validation', curr_active_pipeline.get_session_context(), defer_render=False, save_figure=True)\n",
    "fig = _out.figures[0]\n",
    "ax = _out.axes[0]"
   ]
  },
  {
   "cell_type": "code",
   "execution_count": null,
   "id": "0f1d9c53",
   "metadata": {},
   "outputs": [],
   "source": [
    "# Extract the bounding box coordinates and dimensions\n",
    "bbox = ax.bbox\n",
    "x, y, width, height = bbox.x0, bbox.y0, bbox.width, bbox.height\n",
    "x, y, width, height"
   ]
  },
  {
   "cell_type": "code",
   "execution_count": null,
   "id": "8b78ccf2",
   "metadata": {},
   "outputs": [],
   "source": [
    "ax_empty = ax"
   ]
  },
  {
   "cell_type": "code",
   "execution_count": null,
   "id": "78e6b7ec",
   "metadata": {},
   "outputs": [],
   "source": [
    "rect_items, rects = long_track_dims.plot_rects(ax_empty) # , offset=(x, y) # , offset=(0.1, 100.0)\n"
   ]
  },
  {
   "cell_type": "code",
   "execution_count": null,
   "id": "1305f288",
   "metadata": {},
   "outputs": [],
   "source": [
    "(320.0, 983.7668560462606, 901.8181818181818, 91.99628790747863)\n",
    "active_track_dims = LinearTrackDimensions(width=901.8181818181818)"
   ]
  },
  {
   "cell_type": "code",
   "execution_count": null,
   "id": "f6645194",
   "metadata": {},
   "outputs": [],
   "source": [
    "import numpy as np\n",
    "import matplotlib.pyplot as plt\n",
    "import matplotlib.patches as patches\n",
    "from matplotlib.transforms import Bbox\n",
    "\n",
    "# Step 2: Define a simple vector graphic (an arrow in this case)\n",
    "def draw_arrow(ax, x, y, width, height):\n",
    "    arrow = patches.FancyArrow(x, y, width, height, width=0.2*height, color=\"red\")\n",
    "    ax.add_patch(arrow)\n",
    "\n",
    "# Step 3: Scale and draw the arrow within a bounding box\n",
    "def draw_scaled_arrow_in_bbox(ax, bbox):\n",
    "    # Extract the bounding box coordinates and dimensions\n",
    "    x, y, width, height = bbox.x0, bbox.y0, bbox.width, bbox.height\n",
    "\n",
    "    # Draw the bounding box (for visualization)\n",
    "    rect = patches.Rectangle((x, y), width, height, linewidth=1, edgecolor='black', facecolor='none')\n",
    "    ax.add_patch(rect)\n",
    "\n",
    "    # Draw the scaled arrow within the bounding box\n",
    "    draw_arrow(ax, x, y, width, height)\n",
    "\n",
    "# Main code\n",
    "fig, ax = plt.subplots()\n",
    "bbox = Bbox.from_bounds(0.2, 0.2, 0.6, 0.6)  # Define bounding box with [x, y, width, height]\n",
    "\n",
    "draw_scaled_arrow_in_bbox(ax, bbox)\n",
    "\n",
    "ax.set_xlim(0, 1)\n",
    "ax.set_ylim(0, 1)\n",
    "ax.set_aspect('equal')\n",
    "plt.show()\n"
   ]
  },
  {
   "cell_type": "code",
   "execution_count": null,
   "id": "c9b365b4",
   "metadata": {},
   "outputs": [],
   "source": [
    "rect_items[0]"
   ]
  },
  {
   "cell_type": "code",
   "execution_count": null,
   "id": "7ea4f99d",
   "metadata": {},
   "outputs": [],
   "source": [
    "rects"
   ]
  },
  {
   "cell_type": "markdown",
   "id": "a6c8f5ab",
   "metadata": {},
   "source": [
    "# 2023-09-21 - Continuous Surprise Figure - How do I display it?"
   ]
  },
  {
   "cell_type": "code",
   "execution_count": null,
   "id": "44dbe065",
   "metadata": {},
   "outputs": [],
   "source": [
    "# '_perform_time_dependent_pf_sequential_surprise_computation'\n",
    "from pyphoplacecellanalysis.General.Pipeline.Stages.DisplayFunctions.MultiContextComparingDisplayFunctions.LongShortTrackComparingDisplayFunctions import plot_long_short_surprise_difference_plot, plot_long_short, plot_long_short_any_values\n",
    "from pyphoplacecellanalysis.SpecificResults.fourthYearPresentation import fig_surprise_results\n",
    "\n",
    "from neuropy.utils.matplotlib_helpers import draw_epoch_regions\n",
    "from pyphocorehelpers.DataStructure.RenderPlots.MatplotLibRenderPlots import MatplotlibRenderPlots\n",
    "from pyphoplacecellanalysis.General.Model.Configs.LongShortDisplayConfig import LongShortDisplayConfigManager\n",
    "long_short_display_config_manager = LongShortDisplayConfigManager()\n",
    "long_epoch_config = long_short_display_config_manager.long_epoch_config.as_matplotlib_kwargs()\n",
    "short_epoch_config = long_short_display_config_manager.short_epoch_config.as_matplotlib_kwargs()\n",
    "\n",
    "graphics_outputs_list = fig_surprise_results(curr_active_pipeline)\n"
   ]
  },
  {
   "cell_type": "markdown",
   "id": "00d58220",
   "metadata": {},
   "source": [
    "### FOUND! 2023-09-21 - Found code that generated surprise plots, strangely not stored anywhere!"
   ]
  },
  {
   "cell_type": "code",
   "execution_count": null,
   "id": "bfe7b982",
   "metadata": {},
   "outputs": [],
   "source": [
    "# note: nSnapshots == n_post_update_times\n",
    "active_relative_entropy_results = active_extended_stats['pf_dt_sequential_surprise']\n",
    "post_update_times = active_relative_entropy_results['post_update_times'] # (4123,) = (nSnapshots,)\n",
    "snapshot_differences_result_dict = active_relative_entropy_results['snapshot_differences_result_dict']\n",
    "time_intervals = active_relative_entropy_results['time_intervals']\n",
    "long_short_rel_entr_curves_frames = active_relative_entropy_results['long_short_rel_entr_curves_frames'] # (4123, 108, 63) = (nSnapshots, n_neurons, n_xbins)\n",
    "short_long_rel_entr_curves_frames = active_relative_entropy_results['short_long_rel_entr_curves_frames'] # (4123, 108, 63) = (nSnapshots, n_neurons, n_xbins)\n",
    "flat_relative_entropy_results = active_relative_entropy_results['flat_relative_entropy_results'] # (4123, 63) - (nSnapshots, nXbins)\n",
    "flat_jensen_shannon_distance_results = active_relative_entropy_results['flat_jensen_shannon_distance_results'] # (4123, 63) - (nSnapshots, nXbins)\n",
    "flat_jensen_shannon_distance_across_all_positions = np.sum(np.abs(flat_jensen_shannon_distance_results), axis=1) # sum across all position bins # (4123,) - (nSnapshots)\n",
    "flat_surprise_across_all_positions = np.sum(np.abs(flat_relative_entropy_results), axis=1) # sum across all position bins # (4123,) - (nSnapshots)\n",
    "nSnapshots, n_neurons, n_xbins = np.shape(long_short_rel_entr_curves_frames)\n",
    "print(f'nSnapshots: {nSnapshots}, n_neurons: {n_neurons}, n_xbins: {n_xbins}') # nSnapshots: 3308, n_neurons: 85, n_xbins: 107"
   ]
  },
  {
   "cell_type": "code",
   "execution_count": null,
   "id": "1200faa4",
   "metadata": {},
   "outputs": [],
   "source": [
    "# post_update_times.shape\n",
    "# np.shape(post_update_times)[0]\n",
    "\n"
   ]
  },
  {
   "cell_type": "code",
   "execution_count": null,
   "id": "c61282cd",
   "metadata": {},
   "outputs": [],
   "source": [
    "np.shape(flat_jensen_shannon_distance_results)"
   ]
  },
  {
   "cell_type": "code",
   "execution_count": null,
   "id": "3c2d8d3c",
   "metadata": {},
   "outputs": [],
   "source": [
    "np.shape(flat_relative_entropy_results)"
   ]
  },
  {
   "cell_type": "code",
   "execution_count": null,
   "id": "922a7718",
   "metadata": {},
   "outputs": [],
   "source": [
    "np.shape(flat_jensen_shannon_distance_across_all_positions)"
   ]
  },
  {
   "cell_type": "code",
   "execution_count": null,
   "id": "1194c2c0",
   "metadata": {},
   "outputs": [],
   "source": [
    "np.shape(long_short_rel_entr_curves_frames)"
   ]
  },
  {
   "cell_type": "code",
   "execution_count": null,
   "id": "a303ca32",
   "metadata": {},
   "outputs": [],
   "source": []
  },
  {
   "cell_type": "code",
   "execution_count": null,
   "id": "bb7205c0",
   "metadata": {},
   "outputs": [],
   "source": [
    "## NOTE: these results are NOT the same as the ones calculated in compute_snapshot_relative_entropy_surprise_differences.compute_surprise_relative_entropy_divergence, and I'm not quite sure why:\n",
    "# Jensen-Shannon distance is an average of KL divergence:\n",
    "from scipy.special import rel_entr\n",
    "mixture_distribution = 0.5 * (long_short_rel_entr_curves_frames + short_long_rel_entr_curves_frames)\n",
    "print(f'mixture_distribution.shape: {np.shape(mixture_distribution)}') # (nSnapshots, n_neurons, n_xbins)\n",
    "# jensen_shannon_distance = 0.5 * (sum(rel_entr(mixture_distribution, long_short_rel_entr_curves_frames)) + sum(rel_entr(mixture_distribution, short_long_rel_entr_curves_frames))) # is this right? I'm confused by sum(...) # (n_neurons, n_xbins)\n",
    "jensen_shannon_distance = 0.5 * (np.sum(rel_entr(mixture_distribution, long_short_rel_entr_curves_frames), axis=1) + np.sum(rel_entr(mixture_distribution, short_long_rel_entr_curves_frames), axis=1)) # alt version: (nSnapshots, n_xbins)\n",
    "print(f'jensen_shannon_distance.shape: {np.shape(jensen_shannon_distance)}') # (n_neurons, n_xbins)"
   ]
  },
  {
   "cell_type": "code",
   "execution_count": null,
   "id": "46af026e",
   "metadata": {},
   "outputs": [],
   "source": [
    "np.isclose(flat_jensen_shannon_distance_results, jensen_shannon_distance).all()\n"
   ]
  },
  {
   "cell_type": "code",
   "execution_count": null,
   "id": "db1fd095",
   "metadata": {},
   "outputs": [],
   "source": [
    "viewer.add_image(flat_jensen_shannon_distance_results)"
   ]
  },
  {
   "cell_type": "code",
   "execution_count": null,
   "id": "bb518301",
   "metadata": {},
   "outputs": [],
   "source": [
    "from silx.gui.plot import Plot2D\n",
    "\n",
    "plot = Plot2D()  # Create the plot widget\n",
    "plot.addImage(flat_jensen_shannon_distance_results, legend='flat_jensen_shannon_distance_results')  # Plot the 2D data set with default colormap\n",
    "plot.setGraphTitle('flat_jensen_shannon_distance_results')\n",
    "plot.getXAxis().setLabel('Position Bin')\n",
    "plot.getYAxis().setLabel('Snapshot Timebin')\n",
    "plot.show()  # Make the plot widget visible\n"
   ]
  },
  {
   "cell_type": "code",
   "execution_count": null,
   "id": "7b9eca25",
   "metadata": {},
   "outputs": [],
   "source": [
    "plot = Plot2D()  # Create the plot widget\n",
    "plot.addImage(jensen_shannon_distance, legend='jensen_shannon_distance')  # Plot the 2D data set with default colormap\n",
    "plot.setGraphTitle('jensen_shannon_distance')\n",
    "plot.getXAxis().setLabel('Position Bin')\n",
    "plot.getYAxis().setLabel('Snapshot Timebin')\n",
    "plot.show()  # Make the plot widget visible"
   ]
  },
  {
   "cell_type": "code",
   "execution_count": null,
   "id": "589c3d07",
   "metadata": {},
   "outputs": [],
   "source": [
    "\n",
    "plot = Plot2D()  # Create the plot widget\n",
    "plot.addImage(long_short_rel_entr_curves_frames, legend='image')  # Plot the 2D data set with default colormap\n",
    "plot.setGraphTitle('long_short_rel_entr_curves_frames')\n",
    "# plot.getXAxis().setLabel('Position Bin')\n",
    "# plot.getYAxis().setLabel('Snapshot Timebin')\n",
    "plot.show()  # Make the plot widget visible\n"
   ]
  },
  {
   "cell_type": "code",
   "execution_count": null,
   "id": "a8f8f97b",
   "metadata": {},
   "outputs": [],
   "source": [
    "from silx.gui.plot.StackView import StackViewMainWindow\n",
    "\n",
    "# synthetic data, stack of 100 images of size 200x300\n",
    "# mystack = np.fromfunction(\n",
    "#     lambda i, j, k: np.sin(i/15.) + np.cos(j/4.) + 2 * np.sin(k/6.),\n",
    "#     (100, 200, 300)\n",
    "# )\n",
    "\n",
    "sv = StackViewMainWindow()\n",
    "sv.setColormap(\"jet\", autoscale=True)\n",
    "sv.setStack(long_short_rel_entr_curves_frames)\n",
    "# (4152, 108, 63) = (n_post_update_times, n_neurons, n_xbins)\n",
    "sv.setLabels([\"post_update_time\", \"aclu\", \"Position (xbin)\"])\n",
    "sv.show()"
   ]
  },
  {
   "cell_type": "code",
   "execution_count": null,
   "id": "aa37de28",
   "metadata": {},
   "outputs": [],
   "source": [
    "\n",
    "\n",
    "heatmap_pf1D_win, heatmap_pf1D_img = visualize_heatmap_pyqtgraph(flat_jensen_shannon_distance_results, show_yticks=False, title=f\"flat_jensen_shannon_distance_results\", defer_show=False)"
   ]
  },
  {
   "cell_type": "code",
   "execution_count": null,
   "id": "fa164de6",
   "metadata": {},
   "outputs": [],
   "source": [
    "heatmap_pf1D_win, heatmap_pf1D_img = visualize_heatmap_pyqtgraph(flat_jensen_shannon_distance_across_all_positions, show_yticks=False, title=f\"flat_jensen_shannon_distance_across_all_positions\")"
   ]
  },
  {
   "cell_type": "code",
   "execution_count": null,
   "id": "2295dcfb",
   "metadata": {},
   "outputs": [],
   "source": [
    "from neuropy.utils.matplotlib_helpers import draw_epoch_regions\n",
    "from neuropy.core.epoch import Epoch\n",
    "\n",
    "\n",
    "fig, ax = plt.subplots()\n",
    "ax.plot(post_update_times, flat_surprise_across_all_positions)\n",
    "ax.set_ylabel('Relative Entropy across all positions')\n",
    "ax.set_xlabel('t (seconds)')\n",
    "epochs_collection, epoch_labels = draw_epoch_regions(curr_active_pipeline.sess.epochs, ax, facecolor=('r','cyan'), alpha=0.1, edgecolors=None, labels_kwargs={'y_offset': -0.05, 'size': 14}, defer_render=True, debug_print=False)\n",
    "laps_epochs_collection, laps_epoch_labels = draw_epoch_regions(curr_active_pipeline.sess.laps.as_epoch_obj(), ax, facecolor='r', edgecolors='black', labels_kwargs={'y_offset': -16.0, 'size':8}, defer_render=True, debug_print=False)\n",
    "# replays_epochs_collection, replays_epoch_labels = draw_epoch_regions(active_filter_epoch_obj, ax, facecolor='orange', edgecolors=None, labels_kwargs=None, defer_render=False, debug_print=False)\n",
    "fig.suptitle('flat_surprise_across_all_positions')\n",
    "fig.show()"
   ]
  },
  {
   "cell_type": "code",
   "execution_count": null,
   "id": "1f00561d",
   "metadata": {},
   "outputs": [],
   "source": [
    "fig, ax = plt.subplots()\n",
    "ax.plot(post_update_times, flat_jensen_shannon_distance_across_all_positions, label='JS_Distance')\n",
    "ax.set_ylabel('J-S Distance across all positions')\n",
    "ax.set_xlabel('t (seconds)')\n",
    "epochs_collection, epoch_labels = draw_epoch_regions(curr_active_pipeline.sess.epochs, ax, facecolor=('red','cyan'), alpha=0.1, edgecolors=None, labels_kwargs={'y_offset': -0.05, 'size': 14}, defer_render=True, debug_print=False)\n",
    "laps_epochs_collection, laps_epoch_labels = draw_epoch_regions(curr_active_pipeline.sess.laps.as_epoch_obj(), ax, facecolor='red', edgecolors='black', labels_kwargs={'y_offset': -16.0, 'size':8}, defer_render=True, debug_print=False)\n",
    "# replays_epochs_collection, replays_epoch_labels = draw_epoch_regions(active_filter_epoch_obj, ax, facecolor='orange', edgecolors=None, labels_kwargs=None, defer_render=False, debug_print=False)\n",
    "fig.suptitle('flat_jensen_shannon_distance_across_all_positions')\n",
    "fig.show()"
   ]
  },
  {
   "cell_type": "code",
   "execution_count": null,
   "id": "8df587d6",
   "metadata": {},
   "outputs": [],
   "source": [
    "# Show basic relative entropy vs. time plot:\n",
    "import matplotlib.pyplot as plt\n",
    "fig, ax = plt.subplots()\n",
    "ax.plot(post_update_times, flat_relative_entropy_results)\n",
    "ax.set_ylabel('Relative Entropy')\n",
    "ax.set_xlabel('t (seconds)')\n",
    "epochs_collection, epoch_labels = draw_epoch_regions(curr_active_pipeline.sess.epochs, ax, facecolor=('red','cyan'), alpha=0.1, edgecolors=None, labels_kwargs={'y_offset': -0.05, 'size': 14}, defer_render=False, debug_print=False)\n",
    "fig.show()"
   ]
  },
  {
   "cell_type": "code",
   "execution_count": null,
   "id": "316ffda0",
   "metadata": {},
   "outputs": [],
   "source": [
    "win, plots = plot_long_short_surprise_difference_plot(curr_active_pipeline, long_results_obj, short_results_obj, long_epoch_name, short_epoch_name)"
   ]
  },
  {
   "cell_type": "code",
   "execution_count": null,
   "id": "02dc968a",
   "metadata": {},
   "outputs": [],
   "source": [
    "win, (ax_long, ax_short), legend = plot_long_short(long_results_obj, short_results_obj)"
   ]
  },
  {
   "cell_type": "code",
   "execution_count": null,
   "id": "6066cafc",
   "metadata": {},
   "outputs": [],
   "source": [
    "x_fn = lambda a_results_obj: a_results_obj.all_epochs_decoded_epoch_time_bins_mean[:,0]\n",
    "# y_fn = lambda a_results_obj: a_results_obj.all_epochs_all_cells_one_left_out_posterior_to_scrambled_pf_surprises_mean\n",
    "# y_fn = lambda a_results_obj: a_results_obj.all_epochs_all_cells_one_left_out_posterior_to_pf_surprises_mean\n",
    "y_fn = lambda a_results_obj: a_results_obj.all_epochs_computed_one_left_out_posterior_to_pf_surprises\n",
    "\n",
    "# (time_bins, neurons), (epochs, neurons), (epochs)\n",
    "# all_epochs_computed_one_left_out_posterior_to_pf_surprises, all_epochs_computed_cell_one_left_out_posterior_to_pf_surprises_mean, all_epochs_all_cells_one_left_out_posterior_to_pf_surprises_mean\n",
    "win, plots_tuple, legend = plot_long_short_any_values(long_results_obj, short_results_obj, x=x_fn, y=y_fn) #  limit_aclus=[4]"
   ]
  },
  {
   "cell_type": "code",
   "execution_count": null,
   "id": "3e5d42b6",
   "metadata": {},
   "outputs": [],
   "source": [
    "##TODO 2023-09-21 16:19: - [ ] Does not work due to QCode issue\n",
    "\n",
    "from pyphoplacecellanalysis.General.Pipeline.Stages.DisplayFunctions.MultiContextComparingDisplayFunctions.MultiContextComparingDisplayFunctions import _context_nested_docks\n",
    "\n",
    "\n",
    "# active_display_output = {}\n",
    "# active_identifying_filtered_session_ctx = global_epoch_context\n",
    "# display_output = active_display_output | curr_active_pipeline.display('_display_context_nested_docks', active_identifying_filtered_session_ctx, enable_gui=False, debug_print=False) # returns {'master_dock_win': master_dock_win, 'app': app, 'out_items': out_items}\n",
    "# master_dock_win = display_output['master_dock_win']\n",
    "# app = display_output['app']\n",
    "# out_items = display_output['out_items']\n",
    "\n",
    "include_includelist = curr_active_pipeline.active_completed_computation_result_names # ['maze', 'sprinkle']\n",
    "\n",
    "out_items = {}\n",
    "master_dock_win, app, out_items = _context_nested_docks(curr_active_pipeline, active_config_names=include_includelist, **{'enable_gui': True, 'debug_print': False})\n",
    "master_dock_win"
   ]
  },
  {
   "cell_type": "code",
   "execution_count": null,
   "id": "7326d309",
   "metadata": {},
   "outputs": [],
   "source": [
    "neuron_replay_stats_df: pd.DataFrame = jonathan_firing_rate_analysis_result.neuron_replay_stats_df\n",
    "short_pf_peak_x = neuron_replay_stats_df.short_pf_peak_x.values\n",
    "long_pf_peak_x = neuron_replay_stats_df.long_pf_peak_x.values\n",
    "\n",
    "# long_pf_peak_x_maze_classification = [classify_x_position(test_x, long_rects) for test_x in long_pf_peak_x.values]\n",
    "# short_pf_peak_x_maze_classification = [classify_x_position(test_x, short_rects) for test_x in short_pf_peak_x.values]\n",
    "# [classify_x_position(test_x, short_rects) for test_x in long_pf_peak_x.values]\n",
    "\n",
    "long_track.is_on_maze(long_pf_peak_x)\n",
    "# long_track.is_on_endcap(long_pf_peak_x)"
   ]
  },
  {
   "cell_type": "markdown",
   "id": "5e4bc1b6",
   "metadata": {},
   "source": [
    "## NOW TODO 2023-09-20 22:33: - [ ] Need to fix tests and determing why some peaks are falling outside the bounds (as assessed by the is_on_maze function to see if implementation is valid"
   ]
  },
  {
   "cell_type": "code",
   "execution_count": null,
   "id": "4e13f006",
   "metadata": {},
   "outputs": [],
   "source": [
    "\n",
    "# assert short_track.is_on_maze(short_pf_peak_x)[np.logical_not(np.isnan(short_pf_peak_x))].all(), f\"all valid short peaks should be located on the short track\" # should all be true yeah?\n",
    "assert long_track.is_on_maze(short_pf_peak_x)[np.logical_not(np.isnan(short_pf_peak_x))].all(), f\"all valid short peaks should be located on the long track\"\n",
    "assert long_track.is_on_maze(long_pf_peak_x)[np.logical_not(np.isnan(long_pf_peak_x))].all(), f\"all valid long peaks should be located on the long track. {long_track.is_on_maze(long_pf_peak_x)[np.logical_not(np.isnan(long_pf_peak_x))]}\" # not working\n",
    "assert short_track.is_on_maze(short_pf_peak_x)[np.logical_not(np.isnan(short_pf_peak_x))].all(), f\"all valid short peaks should be located on the short track. {short_track.is_on_maze(short_pf_peak_x)[np.logical_not(np.isnan(short_pf_peak_x))]}\" # not working\n"
   ]
  },
  {
   "cell_type": "code",
   "execution_count": null,
   "id": "89ec27b4",
   "metadata": {},
   "outputs": [],
   "source": [
    "long_track.is_on_endcap(long_pf_peak_x)"
   ]
  },
  {
   "cell_type": "markdown",
   "id": "2f1bc2ae",
   "metadata": {},
   "source": [
    "## Debug Plots for `LinearTrackDimensions` and `LinearTrackInstance`"
   ]
  },
  {
   "cell_type": "code",
   "execution_count": null,
   "id": "cf0ece7e",
   "metadata": {},
   "outputs": [],
   "source": [
    "app, w, cw, (long_track_dims, long_rect_items, long_rects), (short_track_dims, short_rect_items, short_rects) = test_LinearTrackDimensions_2D_pyqtgraph(long_track_dims, short_track_dims)\n"
   ]
  },
  {
   "cell_type": "code",
   "execution_count": null,
   "id": "67cdcb90",
   "metadata": {},
   "outputs": [],
   "source": [
    "fig = plt.gcf()\n",
    "axs = fig.get_axes()\n",
    "ax = axs[0]\n",
    "ax"
   ]
  },
  {
   "cell_type": "code",
   "execution_count": null,
   "id": "29d49be2",
   "metadata": {},
   "outputs": [],
   "source": [
    "import matplotlib.gridspec as gridspec\n",
    "\n",
    "## Adds a new subplot to an existing (fig, ax) without requiring modifications in the original code!\n",
    "\n",
    "# Get the current gridspec from ax\n",
    "gs = ax.get_subplotspec().get_gridspec()\n",
    "\n",
    "# Create a new gridspec with an additional column\n",
    "gs_new = gridspec.GridSpec(1, 2, width_ratios=[1, 0.5]) # new column is half the width of the current one\n",
    "\n",
    "# Reposition the existing ax using the new gridspec\n",
    "ax.set_position(gs_new[0, 0].get_position(fig))\n",
    "\n",
    "# Add a new subplot in the new column\n",
    "ax2 = fig.add_subplot(gs_new[0, 1])\n",
    "\n",
    "\n",
    "ax2.plot(np.cos(np.linspace(0, 10, 100)))\n",
    "# ax2.cla()\n",
    "# long_track_dims.plot_rects(ax2)\n",
    "\n",
    "# long_track_dims.plot_rects(ax2, offset=(0.1, 0.0))\n",
    "\n",
    "plt.tight_layout()\n",
    "plt.show()\n"
   ]
  },
  {
   "cell_type": "code",
   "execution_count": null,
   "id": "3ffd94f9",
   "metadata": {},
   "outputs": [],
   "source": [
    "_out2 = curr_active_pipeline.display('_display_batch_pho_jonathan_replay_firing_rate_comparison', included_unit_neuron_IDs=[2], n_max_plot_rows=2, save_figure=False)\n"
   ]
  },
  {
   "cell_type": "code",
   "execution_count": null,
   "id": "89a1d5be",
   "metadata": {},
   "outputs": [],
   "source": [
    "from pyphoplacecellanalysis.SpecificResults.fourthYearPresentation import fig_example_handpicked_pho_jonathan_active_set_cells\n",
    "\n",
    "_LxC_out, _SxC_out = fig_example_handpicked_pho_jonathan_active_set_cells(curr_active_pipeline, save_figure=True, included_LxC_example_neuron_IDs=[4, 58], included_SxC_example_neuron_IDs=[2])"
   ]
  },
  {
   "cell_type": "code",
   "execution_count": null,
   "id": "f6907963",
   "metadata": {},
   "outputs": [],
   "source": [
    "# from neuropy.analyses.placefields import PfnDMixin, plotRaw_v_time\n",
    "from neuropy.analyses.placefields import PfnDMixin\n",
    "\n",
    "curr_active_pipeline.reload_default_display_functions()\n",
    "\n",
    "_out3 = long_pf1D.plotRaw_v_time(0, should_include_trajectory=True, should_include_spikes=False, should_include_labels=True, use_filtered_positions=True, use_pandas_plotting=False)"
   ]
  },
  {
   "cell_type": "code",
   "execution_count": null,
   "id": "32a88a57",
   "metadata": {},
   "outputs": [],
   "source": [
    "_out4 = long_pf1D.plotRaw_v_time(0, should_include_trajectory=True, should_include_spikes=False, should_include_labels=True, use_filtered_positions=False, use_pandas_plotting=False)\n",
    "# _out4 = long_pf1D.plotRaw_v_time(0, should_include_trajectory=True, should_include_spikes=False, should_include_labels=True, use_filtered_positions=False, use_pandas_plotting=True)"
   ]
  },
  {
   "cell_type": "markdown",
   "id": "51ff3397",
   "metadata": {},
   "source": [
    "# 🟢👁️‍🗨️ PhoKamran2023Paper Results"
   ]
  },
  {
   "cell_type": "markdown",
   "id": "f9e59bdb",
   "metadata": {},
   "source": [
    "## Figure 1) pf1D Ratemaps, Active set, etc"
   ]
  },
  {
   "cell_type": "code",
   "execution_count": 11,
   "id": "f77377ba",
   "metadata": {},
   "outputs": [],
   "source": [
    "from pyphoplacecellanalysis.General.Pipeline.Stages.DisplayFunctions.SpikeRasters import plot_multiple_raster_plot, plot_raster_plot\n",
    "from pyphoplacecellanalysis.Pho2D.matplotlib.visualize_heatmap import visualize_heatmap_pyqtgraph # used in `plot_kourosh_activity_style_figure`\n",
    "from pyphoplacecellanalysis.General.Batch.PhoDiba2023Paper import PAPER_FIGURE_figure_1_full, PAPER_FIGURE_figure_1_add_replay_epoch_rasters\n"
   ]
  },
  {
   "cell_type": "code",
   "execution_count": null,
   "id": "5035f2d5",
   "metadata": {},
   "outputs": [],
   "source": [
    "# curr_active_pipeline.reload_default_display_functions()\n",
    "\n",
    "pf1d_compare_graphics, (example_epoch_rasters_L, example_epoch_rasters_S), example_stacked_epoch_graphics, fig_1c_figures_out_dict = PAPER_FIGURE_figure_1_full(curr_active_pipeline) # did not display the pf1"
   ]
  },
  {
   "cell_type": "code",
   "execution_count": null,
   "id": "05664e46",
   "metadata": {},
   "outputs": [],
   "source": [
    "rdf = jonathan_firing_rate_analysis_result.rdf.rdf\n",
    "rdf\n"
   ]
  },
  {
   "cell_type": "markdown",
   "id": "267b2335",
   "metadata": {},
   "source": [
    "## Figure 2) `PaperFigureTwo`: LxC/SxC Analyses\n",
    "Note: this fails when SxC or LxC are empty for this session (as it's not meaningful to produce a comparison bar plot). In this case, aggregate across multiple sessions."
   ]
  },
  {
   "cell_type": "code",
   "execution_count": null,
   "id": "c63d9b59",
   "metadata": {},
   "outputs": [],
   "source": [
    "from pyphoplacecellanalysis.General.Batch.PhoDiba2023Paper import PaperFigureTwo\n",
    "\n",
    "_out_fig_2 = PaperFigureTwo(instantaneous_time_bin_size_seconds=0.01) # 10ms\n",
    "_out_fig_2.compute(curr_active_pipeline=curr_active_pipeline)\n",
    "_out_fig_2.display()"
   ]
  },
  {
   "cell_type": "markdown",
   "id": "403e5c60",
   "metadata": {},
   "source": [
    "## Figure 3) `PAPER_FIGURE_figure_3`: Firing Rate Index and Long/Short Firing Rate Replays v. Laps"
   ]
  },
  {
   "cell_type": "code",
   "execution_count": 13,
   "id": "6932845c",
   "metadata": {},
   "outputs": [],
   "source": [
    "from neuropy.utils.matplotlib_helpers import FormattedFigureText\n",
    "from pyphoplacecellanalysis.General.Pipeline.Stages.DisplayFunctions.MultiContextComparingDisplayFunctions.LongShortTrackComparingDisplayFunctions import _plot_long_short_firing_rate_indicies\n",
    "# curr_active_pipeline.reload_default_display_functions()\n",
    "\n",
    "_out, _out2 = PAPER_FIGURE_figure_3(curr_active_pipeline, defer_render=False, save_figure=False)"
   ]
  },
  {
   "cell_type": "markdown",
   "id": "9796ffb1",
   "metadata": {},
   "source": [
    "## Other Paper-related explorations:"
   ]
  },
  {
   "cell_type": "code",
   "execution_count": null,
   "id": "d90dda8e",
   "metadata": {},
   "outputs": [],
   "source": [
    "_out2.figures\n",
    "_out.axes"
   ]
  },
  {
   "cell_type": "code",
   "execution_count": null,
   "id": "76a2984c",
   "metadata": {},
   "outputs": [],
   "source": [
    "\n",
    "['start']\n",
    "\n",
    "\n",
    "# Any change in duration over the recording session duration?\n",
    "rdf['duration']\n",
    "\n",
    "# rdf.plot.scatter('start', 'duration')\n",
    "\n",
    "# rdf.plot.scatter('duration', 'num_neuron_participating') # strong positive trend\n",
    "\n",
    "# rdf.plot.scatter('start', 'num_neuron_participating') # num neurons participating seems to increase over time, especially after the short track is introduced. Contrary to my hypothesis.\n",
    "\n",
    "rdf.plot.scatter('start', 'num_short_only_neuron_participating')\n",
    "\n",
    "\n",
    "\n",
    "\n",
    "# ['num_neuron_participating']"
   ]
  },
  {
   "cell_type": "code",
   "execution_count": null,
   "id": "57dc28f8",
   "metadata": {},
   "outputs": [],
   "source": [
    "curr_active_pipeline.reload_default_display_functions()\n",
    "a_plot_obj = curr_active_pipeline.plot\n",
    "a_plot_obj._display_spike_rasters_pyqtplot_2D()\n",
    "# '_display_spike_rasters_pyqtplot_2D': ' Plots a standalone 2D raster plot\\n        ',\n",
    "# '_display_spike_rasters_pyqtplot_3D': ' Plots a standalone 3D raster plot with independent/standalone controls built-in\\n        ',\n",
    "# '_display_spike_rasters_pyqtplot_3D_with_2D_controls': ' Plots a standalone 3D raster plot (via pyqtgraph) with a separate 2D raster plot as the window with which you can adjust the viewed window. \\n        ',\n",
    "# '_display_spike_rasters_vedo_3D': ' Plots a standalone 3D raster plot with independent/standalone controls built-in\\n        ',\n",
    "# '_display_spike_rasters_vedo_3D_with_2D_controls': ' Plots a standalone 3D raster plot (via Vedo) with a separate 2D raster plot as the window with which you can adjust the viewed window. \\n        ',\n",
    "# '_display_spike_rasters_window': ' Displays a Spike3DRasterWindowWidget with a configurable set of raster widgets and controls in it.\\n        ',type"
   ]
  },
  {
   "cell_type": "code",
   "execution_count": null,
   "id": "7b0c9b54",
   "metadata": {},
   "outputs": [],
   "source": [
    "curr_active_pipeline.registered_display_function_docs_dict"
   ]
  },
  {
   "cell_type": "code",
   "execution_count": null,
   "id": "3877d9aa",
   "metadata": {},
   "outputs": [],
   "source": [
    "pf1d_compare_fig_L, pf1d_compare_fig_S = pf1d_compare_graphics.figures\n"
   ]
  },
  {
   "cell_type": "code",
   "execution_count": null,
   "id": "d44ffa57",
   "metadata": {
    "tags": [
     "active"
    ]
   },
   "outputs": [],
   "source": [
    "from pyphoplacecellanalysis.General.Batch.PhoDiba2023Paper import build_shared_sorted_neuronIDs\n",
    "from pyphoplacecellanalysis.Pho2D.matplotlib.visualize_heatmap import visualize_heatmap_pyqtgraph\n",
    "\n",
    "ratemap = long_pf1D.ratemap\n",
    "included_unit_neuron_IDs = EITHER_subset.track_exclusive_aclus\n",
    "rediculous_final_sorted_all_included_neuron_ID, rediculous_final_sorted_all_included_pfmap = build_shared_sorted_neuronIDs(ratemap, included_unit_neuron_IDs, sort_ind=new_all_aclus_sort_indicies.copy())"
   ]
  },
  {
   "cell_type": "code",
   "execution_count": null,
   "id": "17c7755b",
   "metadata": {},
   "outputs": [],
   "source": [
    "heatmap_pf1D_win, heatmap_pf1D_img = visualize_heatmap_pyqtgraph(rediculous_final_sorted_all_included_pfmap, show_yticks=False, title=f\"pf1D Sorted Visualization\", defer_show=True)"
   ]
  },
  {
   "cell_type": "code",
   "execution_count": null,
   "id": "e66369f5",
   "metadata": {},
   "outputs": [],
   "source": [
    "active_curves_sorted = long_pf1D.ratemap.normalized_tuning_curves[is_included][included_new_all_aclus_sort_indicies]\n",
    "heatmap_pf1D_win, heatmap_pf1D_img = visualize_heatmap_pyqtgraph(active_curves_sorted, show_yticks=False, title=f\"pf1D Sorted Visualization\", defer_show=True)"
   ]
  },
  {
   "cell_type": "code",
   "execution_count": null,
   "id": "9c5f0066",
   "metadata": {
    "tags": [
     "unwrap_figure_output",
     "interactive"
    ]
   },
   "outputs": [],
   "source": [
    "from pyphoplacecellanalysis.Pho2D.stacked_epoch_slices import DecodedEpochSlicesPaginatedFigureController\n",
    "\n",
    "## Stacked Epoch Plot\n",
    "example_stacked_epoch_graphics = curr_active_pipeline.display('_display_long_and_short_stacked_epoch_slices', defer_render=False, save_figure=True)\n",
    "pagination_controller_L, pagination_controller_S = example_stacked_epoch_graphics.plot_data['controllers']\n",
    "ax_L, ax_S = example_stacked_epoch_graphics.axes\n",
    "final_figure_context_L, final_context_S = example_stacked_epoch_graphics.context"
   ]
  },
  {
   "cell_type": "code",
   "execution_count": null,
   "id": "28cbb0ae",
   "metadata": {},
   "outputs": [],
   "source": [
    "## After launching the interactive Stacked Epoch Plots for user epoch selection, try to update the selection with previously added annotations:\n",
    "from neuropy.core.user_annotations import UserAnnotationsManager\n",
    "from pyphoplacecellanalysis.GUI.Qt.Mixins.PaginationMixins import SelectionsObject\n",
    "from pyphoplacecellanalysis.Pho2D.stacked_epoch_slices import DecodedEpochSlicesPaginatedFigureController\n",
    "\n",
    "user_annotation_man = UserAnnotationsManager()\n",
    "user_annotations = user_annotation_man.get_user_annotations()\n",
    "\n",
    "final_context_L = curr_active_pipeline.build_display_context_for_session(display_fn_name='DecodedEpochSlices', epochs='replays', decoder='long_results_obj')\n",
    "final_context_S = curr_active_pipeline.build_display_context_for_session(display_fn_name='DecodedEpochSlices', epochs='replays', decoder='short_results_obj')\n",
    "# _out_pagination_controller.params.active_identifying_figure_ctx.adding_context(None,  user_annotation=\"selections\")\n",
    "selections_context_L = final_context_L.adding_context(None,  user_annotation=\"selections\")\n",
    "selections_context_S = final_context_S.adding_context(None,  user_annotation=\"selections\")\n",
    "\n",
    "saved_selection_L: SelectionsObject = pagination_controller_L.save_selection()\n",
    "saved_selection_S: SelectionsObject = pagination_controller_S.save_selection()\n",
    "# saved_selection_L = user_annotation_man.update_selections_from_annotations(saved_selection_L, user_annotations)\n",
    "# saved_selection_S = user_annotation_man.update_selections_from_annotations(saved_selection_S, user_annotations)\n",
    "\n",
    "saved_selection_L = saved_selection_L.update_selections_from_annotations(user_annotations, debug_print=False)\n",
    "saved_selection_S = saved_selection_S.update_selections_from_annotations(user_annotations, debug_print=False)\n",
    "\n",
    "## re-apply the selections:\n",
    "pagination_controller_L.restore_selections(saved_selection_L, defer_render=True)\n",
    "pagination_controller_S.restore_selections(saved_selection_S, defer_render=True)\n",
    "\n",
    "ax_L[0].figure.canvas.draw()  # .figures.canvas.draw()\n",
    "ax_S[0].figure.canvas.draw()  # .figures.canvas.draw()"
   ]
  },
  {
   "cell_type": "markdown",
   "id": "73b2f39d",
   "metadata": {
    "tags": [
     "TODO"
    ]
   },
   "source": [
    "# 2023-09-06 - Plot the decoded positions for each replay on the track:\n"
   ]
  },
  {
   "cell_type": "code",
   "execution_count": null,
   "id": "a592c55f",
   "metadata": {
    "tags": [
     "TODO"
    ]
   },
   "outputs": [],
   "source": [
    "from pyphoplacecellanalysis.Pho2D.track_shape_drawing import LinearTrackDimensions\n",
    "\n",
    "\n",
    "long_track_dims = LinearTrackDimensions(track_length=100.0)\n",
    "short_track_dims = LinearTrackDimensions(track_length=70.0)\n",
    "\n",
    "\n",
    "# long_track_dims.plot_rects(ax)"
   ]
  },
  {
   "cell_type": "code",
   "execution_count": null,
   "id": "c8fe2d58",
   "metadata": {},
   "outputs": [],
   "source": [
    "from pyphoplacecellanalysis.Pho2D.track_shape_drawing import _test_LinearTrackDimensions_2D\n",
    "\n",
    "app, w, cw, (long_track_dims, long_rect_items, long_rects), (short_track_dims, short_rect_items, short_rects) = _test_LinearTrackDimensions_2D()"
   ]
  },
  {
   "cell_type": "code",
   "execution_count": null,
   "id": "a48faca0",
   "metadata": {},
   "outputs": [],
   "source": [
    "_out_fig_3_a, _out_fig_3_b = PAPER_FIGURE_figure_3(curr_active_pipeline, defer_render=False, save_figure=False)\n",
    "\n"
   ]
  },
  {
   "cell_type": "code",
   "execution_count": null,
   "id": "d481370b",
   "metadata": {},
   "outputs": [],
   "source": [
    "ax = _out_fig_3_a.axes[0]\n"
   ]
  },
  {
   "cell_type": "code",
   "execution_count": null,
   "id": "7c872e6a",
   "metadata": {},
   "outputs": [],
   "source": [
    "long_track_dims.plot_rects(ax)"
   ]
  },
  {
   "cell_type": "code",
   "execution_count": null,
   "id": "54ff0f27",
   "metadata": {},
   "outputs": [],
   "source": [
    "pagination_controller_L"
   ]
  },
  {
   "cell_type": "code",
   "execution_count": null,
   "id": "a26f364b",
   "metadata": {},
   "outputs": [],
   "source": [
    "# Set the symbol properties\n",
    "# symbol = pg.mkPen('w', width=1)  # Pen for the lines\n",
    "size = 1.0  # Fixed x-width\n",
    "symbol_brush = None  # No brush for the symbol (transparent fill)\n",
    "\n",
    "# override_scatter_plot_kwargs = dict(pxMode=False, symbol='|', size=size, pen={'color': 'w', 'width': 1.0}) # , brush=symbol_brush\n",
    "\n",
    "override_scatter_plot_kwargs = dict(pxMode=False, symbol='arrow_up', size=1.0, pen={'color': 'w', 'width': 1.0}, hoverable=True) # "
   ]
  },
  {
   "cell_type": "code",
   "execution_count": null,
   "id": "226bb530",
   "metadata": {},
   "outputs": [],
   "source": [
    "filter_epoch_spikes_df_L.spikes.rebuild_fragile_linear_neuron_IDXs();\n",
    "filter_epoch_spikes_df_S.spikes.rebuild_fragile_linear_neuron_IDXs();"
   ]
  },
  {
   "cell_type": "code",
   "execution_count": null,
   "id": "b889b886",
   "metadata": {},
   "outputs": [],
   "source": [
    "app_L, win_L, plots_L, plots_data_L = plot_multiple_raster_plot(epochs_df_L, filter_epoch_spikes_df_L, included_neuron_ids=EITHER_subset.track_exclusive_aclus, unit_sort_order=new_all_aclus_sort_indicies, unit_colors_list=unit_colors_list, scatter_plot_kwargs=override_scatter_plot_kwargs,\n",
    "\t\t\t\t\t\t\t\t\t\tepoch_id_key_name='replay_epoch_id', scatter_app_name=\"Long Decoded Example Replays\")"
   ]
  },
  {
   "cell_type": "code",
   "execution_count": null,
   "id": "ee132b60",
   "metadata": {},
   "outputs": [],
   "source": [
    "app_S, win_S, plots_S, plots_data_S = plot_multiple_raster_plot(epochs_df_S, filter_epoch_spikes_df_S, included_neuron_ids=EITHER_subset.track_exclusive_aclus, unit_sort_order=new_all_aclus_sort_indicies, unit_colors_list=unit_colors_list, scatter_plot_kwargs=override_scatter_plot_kwargs,\n",
    "                                                                 epoch_id_key_name='replay_epoch_id', scatter_app_name=\"Short Decoded Example Replays\")"
   ]
  },
  {
   "cell_type": "code",
   "execution_count": null,
   "id": "d26dd0e4",
   "metadata": {},
   "outputs": [],
   "source": [
    "# Test single `plot_raster_plot` calls\n",
    "an_epoch = list(epochs_df_L.itertuples())[0]\n",
    "an_epoch_spikes_df = filter_epoch_spikes_df_L[filter_epoch_spikes_df_L['replay_epoch_id'] == an_epoch.Index]\n",
    "\n",
    "_out_single_raster_plot = plot_raster_plot(an_epoch_spikes_df, included_neuron_ids=EITHER_subset.track_exclusive_aclus, unit_sort_order=None, unit_colors_list=unit_colors_list, scatter_plot_kwargs=override_scatter_plot_kwargs, scatter_app_name=\"test1\")\n",
    "_out_single_raster_plot2 = plot_raster_plot(an_epoch_spikes_df, included_neuron_ids=EITHER_subset.track_exclusive_aclus, unit_sort_order=new_all_aclus_sort_indicies, unit_colors_list=unit_colors_list, scatter_plot_kwargs=override_scatter_plot_kwargs, scatter_app_name=\"test2\")"
   ]
  },
  {
   "cell_type": "code",
   "execution_count": null,
   "id": "fe6071c5",
   "metadata": {},
   "outputs": [],
   "source": [
    "app_alt, win_alt, plots_alt, plots_data_alt = plot_multiple_raster_plot(epochs_df_L, filter_epoch_spikes_df_L, included_neuron_ids=EITHER_subset.track_exclusive_aclus, unit_sort_order=None, unit_colors_list=unit_colors_list, scatter_plot_kwargs=override_scatter_plot_kwargs,\n",
    "                                                                         epoch_id_key_name='replay_epoch_id', scatter_app_name=\"ALT Long Decoded Example Replays\")"
   ]
  },
  {
   "cell_type": "markdown",
   "id": "7d20407c",
   "metadata": {},
   "source": [
    "### Testing `plot_kourosh_activity_style_figure` for debugging:"
   ]
  },
  {
   "cell_type": "code",
   "execution_count": null,
   "id": "69512447",
   "metadata": {},
   "outputs": [],
   "source": [
    "from pyphoplacecellanalysis.Analysis.Decoder.decoder_result import plot_kourosh_activity_style_figure\n",
    "from pyphoplacecellanalysis.GUI.PyQtPlot.Widgets.helpers import _helper_make_scatterplot_clickable\n",
    "\n",
    "plot_aclus = EITHER_subset.track_exclusive_aclus.copy()\n",
    "# plot_aclus = EITHER_subset.track_exclusive_aclus[new_all_aclus_sort_indicies].copy()\n",
    "_out_A = plot_kourosh_activity_style_figure(long_results_obj, long_session, plot_aclus, unit_sort_order=new_all_aclus_sort_indicies, epoch_idx=13, callout_epoch_IDXs=None, skip_rendering_callouts=False)"
   ]
  },
  {
   "cell_type": "code",
   "execution_count": null,
   "id": "326f29f6",
   "metadata": {},
   "outputs": [],
   "source": [
    "app, win, plots, plots_data = _out_A\n",
    "# plots"
   ]
  },
  {
   "cell_type": "code",
   "execution_count": null,
   "id": "338d4092",
   "metadata": {},
   "outputs": [],
   "source": [
    "#TODO 2023-06-27 10:42: - [ ] Desperitely need a class that \"explodes\" the important variables and their types out of a DynamicParameters (dict-like) or other object.\n"
   ]
  },
  {
   "cell_type": "code",
   "execution_count": null,
   "id": "517cdee6",
   "metadata": {},
   "outputs": [],
   "source": [
    "_out_n = plot_kourosh_activity_style_figure(long_results_obj, long_session, EITHER_subset.track_exclusive_aclus, unit_sort_order=new_all_aclus_sort_indicies, epoch_idx=49, callout_epoch_IDXs=np.arange(6), skip_rendering_callouts=False)"
   ]
  },
  {
   "cell_type": "markdown",
   "id": "af748f5c",
   "metadata": {},
   "source": [
    "# 2023-07-14 - LxC and SxC PhoJonathanSession plots"
   ]
  },
  {
   "cell_type": "code",
   "execution_count": null,
   "id": "9415e3e7",
   "metadata": {},
   "outputs": [],
   "source": [
    "from pyphoplacecellanalysis.General.Batch.NonInteractiveProcessing import BatchPhoJonathanFiguresHelper\n",
    "\n",
    "## Get global 'jonathan_firing_rate_analysis' results:\n",
    "curr_jonathan_firing_rate_analysis = curr_active_pipeline.global_computation_results.computed_data['jonathan_firing_rate_analysis']\n",
    "neuron_replay_stats_df, rdf, aclu_to_idx, irdf = curr_jonathan_firing_rate_analysis.neuron_replay_stats_df, curr_jonathan_firing_rate_analysis.rdf.rdf, curr_jonathan_firing_rate_analysis.rdf.aclu_to_idx, curr_jonathan_firing_rate_analysis.irdf.irdf\n",
    "\n",
    "# with VizTracer(output_file=f\"viztracer_display_BatchPhoJonathanFiguresHelper_PlusPDF_20.json\", min_duration=200, tracer_entries=3000000, ignore_frozen=True) as tracer:\n",
    "# active_out_figures_dict = BatchPhoJonathanFiguresHelper.run(curr_active_pipeline, neuron_replay_stats_df, included_unit_neuron_IDs=XOR_subset.track_exclusive_aclus, n_max_page_rows=20, write_vector_format=False, write_png=True) # active_out_figures_dict: {IdentifyingContext<('kdiba', 'gor01', 'two', '2006-6-07_16-40-19', 'BatchPhoJonathanReplayFRC', 'long_only', '(12,21,48)')>: <Figure size 1920x660 with 12 Axes>, IdentifyingContext<('kdiba', 'gor01', 'two', '2006-6-07_16-40-19', 'BatchPhoJonathanReplayFRC', 'short_only', '(18,19,65)')>: <Figure size 1920x660 with 12 Axes>}\n",
    "# print(f'active_out_figures_dict: {active_out_figures_dict}')\n",
    "\n",
    "# BOTH_subset, EITHER_subset, XOR_subset, NEITHER_subset\n",
    "active_out_figures_dict = BatchPhoJonathanFiguresHelper.run(curr_active_pipeline, neuron_replay_stats_df, included_unit_neuron_IDs=EITHER_subset.track_exclusive_aclus, n_max_page_rows=20, write_vector_format=False, write_png=True) # active_out_figures_dict: {IdentifyingContext<('kdiba', 'gor01', 'two', '2006-6-07_16-40-19', 'BatchPhoJonathanReplayFRC', 'long_only', '(12,21,48)')>: <Figure size 1920x660 with 12 Axes>, IdentifyingContext<('kdiba', 'gor01', 'two', '2006-6-07_16-40-19', 'BatchPhoJonathanReplayFRC', 'short_only', '(18,19,65)')>: <Figure size 1920x660 with 12 Axes>}\n",
    "print(f'active_out_figures_dict: {active_out_figures_dict}')\n",
    "\n"
   ]
  },
  {
   "cell_type": "code",
   "execution_count": null,
   "id": "e072b346",
   "metadata": {},
   "outputs": [],
   "source": []
  },
  {
   "cell_type": "code",
   "execution_count": null,
   "id": "aec1c4bb",
   "metadata": {
    "tags": [
     "ACTIVE_2023-09-07"
    ]
   },
   "outputs": [],
   "source": [
    "# 2023-09-07 - Build Example LxC/SxC cells from handpicked examples: aclus = [4, 58]\n",
    "# from pyphoplacecellanalysis.General.Pipeline.Stages.DisplayFunctions.MultiContextComparingDisplayFunctions.LongShortTrackComparingDisplayFunctions import build_extra_cell_info_label_string\n",
    "curr_active_pipeline.reload_default_display_functions()\n",
    "_out2 = curr_active_pipeline.display('_display_batch_pho_jonathan_replay_firing_rate_comparison', n_max_plot_rows=2, save_figure=False, included_unit_neuron_IDs=[4, 58]) # , included_unit_neuron_IDs=[4, 58]\n"
   ]
  },
  {
   "cell_type": "code",
   "execution_count": null,
   "id": "052f7ad8",
   "metadata": {},
   "outputs": [],
   "source": [
    "# curr_active_pipeline.display(display_function='_display_2d_placefield_result_plot_ratemaps_2D', active_session_configuration_context=long_epoch_context)\n",
    "\n",
    "\n",
    "# curr_active_pipeline.display(display_function='_display_placemaps_pyqtplot_2D', active_session_configuration_context=long_epoch_context)\n",
    "curr_active_pipeline.display(display_function='_display_1d_placefields', active_session_configuration_context=long_epoch_context)\n",
    "# curr_active_pipeline.display(display_function='_display_2d_placefield_occupancy', active_session_configuration_context=long_epoch_context)\n",
    "\n"
   ]
  },
  {
   "cell_type": "code",
   "execution_count": null,
   "id": "9ae8158b",
   "metadata": {},
   "outputs": [],
   "source": [
    "curr_active_pipeline.display(display_function='_display_2d_placefield_occupancy', active_session_configuration_context=long_epoch_context)\n"
   ]
  },
  {
   "cell_type": "code",
   "execution_count": null,
   "id": "3be309d6",
   "metadata": {},
   "outputs": [],
   "source": [
    "curr_active_pipeline.display(display_function='_display_2d_placefield_occupancy', active_session_configuration_context=short_epoch_context)\n"
   ]
  },
  {
   "cell_type": "code",
   "execution_count": null,
   "id": "35bb48de",
   "metadata": {},
   "outputs": [],
   "source": [
    "curr_active_pipeline.display(display_function='_display_2d_placefield_result_plot_ratemaps_2D', active_session_configuration_context=short_epoch_context)\n"
   ]
  },
  {
   "cell_type": "code",
   "execution_count": null,
   "id": "0a5115fc",
   "metadata": {},
   "outputs": [],
   "source": [
    "curr_active_pipeline.display(display_function='_display_2d_placefield_result_plot_ratemaps_2D', active_session_configuration_context=long_epoch_context)"
   ]
  },
  {
   "cell_type": "code",
   "execution_count": null,
   "id": "c6d12ce7",
   "metadata": {},
   "outputs": [],
   "source": [
    "fig = plt.figure() # new figure to hold the result\n",
    "# can show the figures by looping through and calling\n",
    "for a_ctxt, a_fig in active_out_figures_dict.items():\n",
    "    print(f'showing: {a_ctxt}')\n",
    "    a_fig.show()\n",
    "    \n"
   ]
  },
  {
   "cell_type": "code",
   "execution_count": null,
   "id": "9edea79a",
   "metadata": {},
   "outputs": [],
   "source": [
    "long_epoch_name, short_epoch_name, global_epoch_name = curr_active_pipeline.find_LongShortGlobal_epoch_names()\n",
    "long_session, short_session, global_session = [curr_active_pipeline.filtered_sessions[an_epoch_name] for an_epoch_name in [long_epoch_name, short_epoch_name, global_epoch_name]] # only uses global_session\n",
    "(epochs_df_L, epochs_df_S), (filter_epoch_spikes_df_L, filter_epoch_spikes_df_S), (good_example_epoch_indicies_L, good_example_epoch_indicies_S), (short_exclusive, long_exclusive, BOTH_subset, EITHER_subset, XOR_subset, NEITHER_subset), new_all_aclus_sort_indicies, assigning_epochs_obj = PAPER_FIGURE_figure_1_add_replay_epoch_rasters(curr_active_pipeline)\n",
    "\n",
    "long_short_fr_indicies_analysis_results = curr_active_pipeline.global_computation_results.computed_data['long_short_fr_indicies_analysis']\n",
    "long_laps, long_replays, short_laps, short_replays, global_laps, global_replays = [long_short_fr_indicies_analysis_results[k] for k in ['long_laps', 'long_replays', 'short_laps', 'short_replays', 'global_laps', 'global_replays']]\n"
   ]
  },
  {
   "cell_type": "code",
   "execution_count": null,
   "id": "5d085cad",
   "metadata": {},
   "outputs": [],
   "source": [
    "jonathan_firing_rate_analysis_result.neuron_replay_stats_df"
   ]
  },
  {
   "cell_type": "code",
   "execution_count": null,
   "id": "813ab296",
   "metadata": {},
   "outputs": [],
   "source": [
    "long_exclusive.track_exclusive_df"
   ]
  },
  {
   "cell_type": "code",
   "execution_count": null,
   "id": "05be832a",
   "metadata": {},
   "outputs": [],
   "source": [
    "long_exclusive.track_exclusive_df['lap_delta_minus_inst_fr'] = LxC_ThetaDeltaMinus.cell_agg_inst_fr_list # (n_cells, )\n",
    "long_exclusive.track_exclusive_df['lap_delta_plus_inst_fr'] = LxC_ThetaDeltaPlus.cell_agg_inst_fr_list # (n_cells, )\n",
    "long_exclusive.track_exclusive_df\n"
   ]
  },
  {
   "cell_type": "code",
   "execution_count": null,
   "id": "d3077438",
   "metadata": {},
   "outputs": [],
   "source": [
    "# d = LxC_ThetaDeltaMinus.epoch_agg_inst_fr_list # (n_epochs, n_cells)\n",
    "# d = d[:,1]\n",
    "d = LxC_ThetaDeltaMinus.cell_agg_inst_fr_list # (n_cells, )\n",
    "d\n",
    "long_exclusive.track_exclusive_df['lap_delta_minus_inst_fr'] = LxC_ThetaDeltaMinus.cell_agg_inst_fr_list # (n_cells, )\n"
   ]
  },
  {
   "cell_type": "code",
   "execution_count": null,
   "id": "6984de2f",
   "metadata": {},
   "outputs": [],
   "source": [
    "## Drop out the very low (inactive) Epochs... I guess? But we want it to be influenced by the inactive epochs.\n",
    "curr_active_pipeline.\t"
   ]
  },
  {
   "cell_type": "code",
   "execution_count": null,
   "id": "41d3f4dd",
   "metadata": {},
   "outputs": [],
   "source": [
    "\n",
    "len(LxC_ThetaDeltaMinus.inst_fr_signals_list) # n_epochs\n",
    "d = LxC_ThetaDeltaMinus.inst_fr_df_list\n",
    "d[0]\n",
    "# (n_epochs, n_cells)\n",
    "# print(f'{d.shape}')"
   ]
  },
  {
   "cell_type": "markdown",
   "id": "0c2b2901",
   "metadata": {},
   "source": [
    "## NOW: 2023-07-11 - Testing Batch-computed inst_firing_rates"
   ]
  },
  {
   "cell_type": "code",
   "execution_count": null,
   "id": "c034766b",
   "metadata": {},
   "outputs": [],
   "source": [
    "from pyphoplacecellanalysis.General.Batch.runBatch import BatchSessionCompletionHandler\n",
    "from pyphoplacecellanalysis.General.Batch.PhoDiba2023Paper import PaperFigureTwo, InstantaneousSpikeRateGroupsComputation\n",
    "from pyphoplacecellanalysis.General.Pipeline.Stages.ComputationFunctions.SpikeAnalysis import SpikeRateTrends\n",
    "from pyphoplacecellanalysis.General.Batch.AcrossSessionResults import AcrossSessionsResults, AcrossSessionsVisualizations\n",
    "\n",
    "\n",
    "## Load the saved across-session results:\n",
    "inst_fr_output_filename = 'long_short_inst_firing_rate_result_handlers_2023-07-12.pkl'\n",
    "across_session_inst_fr_computation, across_sessions_instantaneous_fr_dict, across_sessions_instantaneous_frs_list = AcrossSessionsResults.load_across_sessions_data(global_data_root_parent_path=global_data_root_parent_path, inst_fr_output_filename=inst_fr_output_filename)\n",
    "# across_sessions_instantaneous_fr_dict = loadData(global_batch_result_inst_fr_file_path)\n",
    "num_sessions = len(across_sessions_instantaneous_fr_dict)\n",
    "print(f'num_sessions: {num_sessions}')"
   ]
  },
  {
   "cell_type": "code",
   "execution_count": null,
   "id": "2549c92f",
   "metadata": {},
   "outputs": [],
   "source": [
    "## Aggregate across all of the sessions to build a new combined `InstantaneousSpikeRateGroupsComputation`, which can be used to plot the \"PaperFigureTwo\", bar plots for many sessions.\n",
    "global_multi_session_context = IdentifyingContext(format_name='kdiba', num_sessions=0) # some global context across all of the sessions, not sure what to put here.\n",
    "\n",
    "# To correctly aggregate results across sessions, it only makes sense to combine entries at the `.cell_agg_inst_fr_list` variable and lower (as the number of cells can be added across sessions, treated as unique for each session).\n",
    "\n",
    "## Display the aggregate across sessions:\n",
    "_out_fig_2 = PaperFigureTwo(instantaneous_time_bin_size_seconds=0.01) # WARNING: we didn't save this info\n",
    "_out_fig_2.computation_result = across_session_inst_fr_computation\n",
    "_out_fig_2.active_identifying_session_ctx = across_session_inst_fr_computation.active_identifying_session_ctx\n",
    "# Set callback, the only self-specific property\n",
    "_out_fig_2._pipeline_file_callback_fn = curr_active_pipeline.output_figure # lambda args, kwargs: self.write_to_file(args, kwargs, curr_active_pipeline)"
   ]
  },
  {
   "cell_type": "code",
   "execution_count": null,
   "id": "66f71cbf",
   "metadata": {},
   "outputs": [],
   "source": [
    "# Showing\n",
    "restore_previous_matplotlib_settings_callback = matplotlib_configuration_update(is_interactive=True, backend='Qt5Agg')\n",
    "# Perform interactive Matplotlib operations with 'Qt5Agg' backend\n",
    "_fig_2_theta_out, _fig_2_replay_out = _out_fig_2.display(active_context=global_multi_session_context, title_modifier_fn=lambda original_title: f\"{original_title} ({num_sessions} sessions)\", save_figure=True)\n",
    "\t\n",
    "_out_fig_2.perform_save()"
   ]
  },
  {
   "cell_type": "markdown",
   "id": "3ed322ee",
   "metadata": {},
   "source": [
    "# `active_pf_nD`, `active_pf_nD_dt` visualizations"
   ]
  },
  {
   "cell_type": "code",
   "execution_count": null,
   "id": "8606b372",
   "metadata": {},
   "outputs": [],
   "source": [
    "from pyphoplacecellanalysis.Pho2D.PyQtPlots.TimeSynchronizedPlotters.TimeSynchronizedOccupancyPlotter import TimeSynchronizedOccupancyPlotter\n",
    "\n"
   ]
  },
  {
   "cell_type": "code",
   "execution_count": null,
   "id": "96d478ed",
   "metadata": {},
   "outputs": [],
   "source": [
    "\n",
    "curr_sync_occupancy_plotter = TimeSynchronizedOccupancyPlotter(global_pf2D_dt)\n",
    "curr_sync_occupancy_plotter.show()"
   ]
  },
  {
   "cell_type": "markdown",
   "id": "14388eec",
   "metadata": {},
   "source": [
    "# 2023-07-07 - `batch_extended_programmatic_figures` Testing"
   ]
  },
  {
   "cell_type": "code",
   "execution_count": null,
   "id": "d3e3c3f3",
   "metadata": {},
   "outputs": [],
   "source": [
    "curr_active_pipeline.reload_default_display_functions()\n",
    "\n",
    "neptuner = batch_perform_all_plots(curr_active_pipeline, enable_neptune=False)"
   ]
  },
  {
   "cell_type": "code",
   "execution_count": null,
   "id": "126028b8",
   "metadata": {},
   "outputs": [],
   "source": [
    "%pdb off\n",
    "%load_ext viztracer\n",
    "from viztracer import VizTracer\n",
    "from pyphocorehelpers.print_helpers import get_now_day_str, get_now_time_str, get_now_time_precise_str"
   ]
  },
  {
   "cell_type": "code",
   "execution_count": null,
   "id": "2a065e11",
   "metadata": {},
   "outputs": [],
   "source": [
    "\n",
    "with VizTracer(output_file=f\"viztracer_{get_now_time_str()}-batch_extended_programmatic_figures.json\", min_duration=200, tracer_entries=3000000, ignore_frozen=True) as tracer:\n",
    "    batch_extended_programmatic_figures(curr_active_pipeline, write_vector_format=False, write_png=False, debug_print=False)"
   ]
  },
  {
   "cell_type": "code",
   "execution_count": null,
   "id": "9ef9f9be",
   "metadata": {},
   "outputs": [],
   "source": [
    "batch_extended_programmatic_figures(curr_active_pipeline, write_vector_format=False, write_png=False, debug_print=False)"
   ]
  },
  {
   "cell_type": "code",
   "execution_count": null,
   "id": "4fb9a021",
   "metadata": {},
   "outputs": [],
   "source": [
    "np.sum(np.logical_or(neuron_replay_stats_df['is_refined_LxC'], neuron_replay_stats_df['is_refined_SxC']))"
   ]
  },
  {
   "cell_type": "code",
   "execution_count": null,
   "id": "21a49741",
   "metadata": {},
   "outputs": [],
   "source": [
    "JonathanFiringRateAnalysisResult = None"
   ]
  },
  {
   "cell_type": "code",
   "execution_count": null,
   "id": "fc366f14",
   "metadata": {},
   "outputs": [],
   "source": [
    "from pyphoplacecellanalysis.General.Pipeline.Stages.ComputationFunctions.MultiContextComputationFunctions.LongShortTrackComputations import JonathanFiringRateAnalysisResult\n",
    "\n",
    "jonathan_firing_rate_analysis_result.refine_exclusivity_by_inst_frs_index(long_short_fr_indicies_df, frs_index_inclusion_magnitude=0.5)\n"
   ]
  },
  {
   "cell_type": "code",
   "execution_count": null,
   "id": "2c0710f6",
   "metadata": {},
   "outputs": [],
   "source": [
    "jonathan_firing_rate_analysis_result"
   ]
  },
  {
   "cell_type": "markdown",
   "id": "720dda5d",
   "metadata": {},
   "source": [
    "# 2023-09-26 - Interactive `napari` testing"
   ]
  },
  {
   "cell_type": "code",
   "execution_count": null,
   "id": "fe4c18cd",
   "metadata": {},
   "outputs": [],
   "source": [
    "import napari\n",
    "from pyphoplacecellanalysis.GUI.Napari.napari_helpers import napari_add_surprise_data_layers, napari_add_animal_position, napari_set_time_windw_index\n",
    "\n",
    "# create the viewer and window\n",
    "viewer = napari.Viewer()\n",
    "# napari_add_surprise_data_layers(viewer, active_relative_entropy_results)\n",
    "napari_add_animal_position(viewer=viewer, position_df=global_pf1D_dt.all_time_filtered_pos_df[['t','x','binned_x']], time_intervals=time_intervals)"
   ]
  },
  {
   "cell_type": "code",
   "execution_count": null,
   "id": "0815fee8",
   "metadata": {},
   "outputs": [],
   "source": [
    "drop_below_threshold:float=0.0000001\n",
    "active_time_dependent_placefields = deepcopy(global_pf1D_dt)\n",
    "curr_ratemap = active_time_dependent_placefields.ratemap\n",
    "images = curr_ratemap.tuning_curves.copy() # 1D: (82, 112), 2D:(43, 63, 63)\n",
    "print(f'images.shape: {np.shape(images)}')\n",
    "occupancy = curr_ratemap.occupancy\n",
    "print(f'occupancy: {occupancy.shape}')\n",
    "# Compute Images:\n",
    "included_unit_indicies = np.arange(np.shape(images)[0]) # include all unless otherwise specified\n",
    "nMapsToShow = len(included_unit_indicies)\n",
    "print(f'nMapsToShow: {nMapsToShow}')\n",
    "# Get single cell info:\n",
    "# neuron_IDX = curr_included_unit_index\n",
    "# cell_ID = active_time_dependent_placefields.ratemap.neuron_ids[neuron_IDX]\n",
    "# curr_cell_identifier_string = f'Cell[{cell_ID}]'\n",
    "# curr_plot_identifier_string = f'TimeSynchronizedPlacefieldsPlotter.{curr_cell_identifier_string}'\n",
    "\n",
    "# Build the image item:\n",
    "# Update the image:\n",
    "# image = np.squeeze(images[a_linear_index,:,:])\n",
    "image = np.squeeze(images)\n",
    "# Pre-filter the data:\n",
    "with np.errstate(divide='ignore', invalid='ignore'):\n",
    "\timage = np.array(image) / np.nanmax(image) # note scaling by maximum here!\n",
    "\tif drop_below_threshold is not None:\n",
    "\t\timage[:, np.where(occupancy < drop_below_threshold)] = np.nan # null out the occupancy\n",
    "\n",
    "image.shape"
   ]
  },
  {
   "cell_type": "code",
   "execution_count": null,
   "id": "075d0e01",
   "metadata": {},
   "outputs": [],
   "source": [
    "from pyphoplacecellanalysis.GUI.Napari.napari_helpers import napari_export_video_frames\n",
    "\n"
   ]
  },
  {
   "cell_type": "code",
   "execution_count": null,
   "id": "cd056119",
   "metadata": {},
   "outputs": [],
   "source": [
    "viewer.layers['short_long_rel_entr_curves_frames'].blending # 'additive'"
   ]
  },
  {
   "cell_type": "markdown",
   "id": "abaa129b",
   "metadata": {},
   "source": [
    "# 2023-09-27 - Exporting surprise ndarray to a video file for visualization!"
   ]
  },
  {
   "cell_type": "code",
   "execution_count": null,
   "id": "4f2ebd62",
   "metadata": {},
   "outputs": [],
   "source": [
    "\n",
    "# Add the animal's closest current position (binned) as a single colored pixel along the top of the array:\n",
    "len(global_pf1D_dt.historical_snapshots)\n",
    "\n",
    "global_pf1D_dt.historical_snapshots"
   ]
  },
  {
   "cell_type": "code",
   "execution_count": null,
   "id": "c07b796e",
   "metadata": {},
   "outputs": [],
   "source": [
    "# global_pf1D_dt.complete_time_range_computation(\n",
    "\n",
    "custom_pf1D_dt = deepcopy(global_pf1D_dt)\n",
    "custom_pf1D_dt.reset()"
   ]
  },
  {
   "cell_type": "code",
   "execution_count": null,
   "id": "3fab56fa",
   "metadata": {},
   "outputs": [],
   "source": [
    "# _out = custom_pf1D_dt.complete_time_range_computation(global_session.t_start, global_session.t_stop, assign_results_to_member_variables=True, should_snapshot=True)\n",
    "\n",
    "_out = custom_pf1D_dt.batch_snapshotting(\n",
    "\n",
    ".complete_time_range_computation(global_session.t_start, global_session.t_stop, assign_results_to_member_variables=True, should_snapshot=True)\n"
   ]
  },
  {
   "cell_type": "code",
   "execution_count": null,
   "id": "e17a4f52",
   "metadata": {},
   "outputs": [],
   "source": [
    "global_session.t_start\t\t\t\t   \n",
    "global_session.t_stop"
   ]
  },
  {
   "cell_type": "code",
   "execution_count": null,
   "id": "463a38ab",
   "metadata": {},
   "outputs": [],
   "source": [
    "import cv2\n",
    "from pyphocorehelpers.plotting.video_output_helpers import save_array_as_video\n",
    "\n",
    "colormap = cv2.COLORMAP_JET\n",
    "\n",
    "\n",
    "array = active_relative_entropy_results['snapshot_occupancy_weighted_tuning_maps'].copy()\n",
    "gray_frames = cv2.normalize(array, None, 255, 0, norm_type=cv2.NORM_MINMAX, dtype=cv2.CV_8U) # same size as array\n",
    "\n",
    "# color_array = cv2.applyColorMap(gray_frames, colormap)\n",
    "# video_out_path = save_array_as_video(array=color_array, video_filename='output/videos/snapshot_occupancy_weighted_tuning_maps_color.avi', isColor=True)\n",
    "video_out_path = save_array_as_video(array=gray_frames, video_filename='output/videos/snapshot_occupancy_weighted_tuning_maps_gray.avi', isColor=False)\n",
    "print(f'video_out_path: {video_out_path}')\n",
    "reveal_in_system_file_manager(video_out_path)"
   ]
  },
  {
   "cell_type": "code",
   "execution_count": null,
   "id": "65c1a66c",
   "metadata": {},
   "outputs": [],
   "source": [
    "from pyphoplacecellanalysis.SpecificResults.fourthYearPresentation import export_active_relative_entropy_results_videos\n",
    "\n",
    "video_output_parent_path = export_active_relative_entropy_results_videos(active_relative_entropy_results, active_context=curr_active_pipeline.get_session_context())\n",
    "reveal_in_system_file_manager(video_output_parent_path)"
   ]
  },
  {
   "cell_type": "markdown",
   "id": "ba227418",
   "metadata": {},
   "source": [
    "# 2023-09-26 - Interactive `Spike3DRasterWindowWidget` exploration`"
   ]
  },
  {
   "cell_type": "code",
   "execution_count": 27,
   "id": "0e1ca4f5",
   "metadata": {},
   "outputs": [
    {
     "name": "stdout",
     "output_type": "stream",
     "text": [
      "found 1 existing Spike3DRasterWindowWidget windows using TopLevelWindowHelper.all_widgets(...). Will use the most recent.\n"
     ]
    }
   ],
   "source": [
    "from pyphoplacecellanalysis.GUI.Qt.SpikeRasterWindows.Spike3DRasterWindowWidget import Spike3DRasterWindowWidget\n",
    "\n",
    "spike_raster_window: Spike3DRasterWindowWidget = Spike3DRasterWindowWidget.find_or_create_if_needed(curr_active_pipeline, included_neuron_ids=EITHER_subset.track_exclusive_aclus)\n",
    "active_2d_plot = spike_raster_window.spike_raster_plt_2d # <pyphoplacecellanalysis.GUI.PyQtPlot.Widgets.SpikeRasterWidgets.Spike2DRaster.Spike2DRaster at 0x196c7244280>\n",
    "active_3d_plot = spike_raster_window.spike_raster_plt_3d # <pyphoplacecellanalysis.GUI.PyQtPlot.Widgets.SpikeRasterWidgets.Spike2DRaster.Spike2DRaster at 0x196c7244280>\n"
   ]
  },
  {
   "cell_type": "code",
   "execution_count": 37,
   "id": "3798b194",
   "metadata": {},
   "outputs": [
    {
     "name": "stdout",
     "output_type": "stream",
     "text": [
      "GlobalConnectionManagerAccessingMixin_on_destroy()\n",
      "removed object with key Spike2DRaster from drivers list.\n",
      "removed object with key Spike2DRaster from drivable list.\n",
      "Window closed\n"
     ]
    },
    {
     "data": {
      "text/plain": [
       "True"
      ]
     },
     "execution_count": 37,
     "metadata": {},
     "output_type": "execute_result"
    }
   ],
   "source": [
    "spike_raster_window.close()"
   ]
  },
  {
   "cell_type": "code",
   "execution_count": 29,
   "id": "57680498",
   "metadata": {},
   "outputs": [],
   "source": [
    "spike_raster_window.show()"
   ]
  },
  {
   "cell_type": "code",
   "execution_count": 33,
   "id": "d2dd99a1",
   "metadata": {},
   "outputs": [
    {
     "data": {
      "text/plain": [
       "(84,)"
      ]
     },
     "execution_count": 33,
     "metadata": {},
     "output_type": "execute_result"
    }
   ],
   "source": [
    "EITHER_subset.track_exclusive_aclus.shape"
   ]
  },
  {
   "cell_type": "code",
   "execution_count": null,
   "id": "5e39b316",
   "metadata": {},
   "outputs": [],
   "source": [
    "XOR_subset."
   ]
  },
  {
   "cell_type": "code",
   "execution_count": 38,
   "id": "e1b33c7d",
   "metadata": {},
   "outputs": [
    {
     "name": "stderr",
     "output_type": "stream",
     "text": [
      "INFO:com.PhoHale.Spike3D.display.SpikeRasterBase:==========================================================================================\n",
      "========== Module Logger INIT \"com.PhoHale.Spike3D.display.SpikeRasterBase\" ==============================\n",
      "INFO:com.PhoHale.Spike3D.display.SpikeRasterBase:SpikeRasterBase.__init__(...)\n"
     ]
    },
    {
     "name": "stdout",
     "output_type": "stream",
     "text": [
      "build_module_logger(module_name=\"Spike3D.display.SpikeRasterBase\"):\n",
      "\t Module logger com.PhoHale.Spike3D.display.SpikeRasterBase has file logging enabled and will log to EXTERNAL\\TESTING\\Logging\\debug_com.PhoHale.Spike3D.display.SpikeRasterBase.log\n"
     ]
    },
    {
     "name": "stderr",
     "output_type": "stream",
     "text": [
      "INFO:com.PhoHale.Spike3D.display.SpikeRasterBase:Spike2DRaster.setup()\n",
      "INFO:com.PhoHale.Spike3D.display.SpikeRasterBase:Spike2DRaster.setup(): adding \"visualization_raster_y_location\" column to spikes_df...\n",
      "INFO:com.PhoHale.Spike3D.display.SpikeRasterBase:\tdone.\n",
      "DEBUG:com.PhoHale.Spike3D.display.SpikeRasterBase:self.spikes_df.columns: Index(['t', 't_seconds', 't_rel_seconds', 'shank', 'cluster', 'aclu', 'qclu', 'x', 'y', 'speed', 'traj', 'lap', 'maze_relative_lap', 'maze_id', 'is_theta', 'is_ripple', 'theta_phase_radians', 'neuron_type', 'flat_spike_idx', 'x_loaded', 'y_loaded', 'lin_pos', 'fragile_linear_neuron_IDX', 'PBE_id', 'scISI', 'neuron_IDX', 'visualization_raster_y_location'], dtype='object')\n",
      "INFO:com.PhoHale.Spike3D.display.SpikeRasterBase:Spike2DRaster.setup(): adding \"visualization_raster_emphasis_state\" column to spikes_df...\n",
      "INFO:com.PhoHale.Spike3D.display.SpikeRasterBase:\tdone.\n",
      "INFO:com.PhoHale.Spike3D.display.SpikeRasterBase:SpikeRasterBase.buildUI()\n",
      "DEBUG:com.PhoHale.Spike3D.display.SpikeRasterBase:Spike2DRaster._buildGraphics()\n",
      "INFO:com.PhoHale.Spike3D.display.SpikeRasterBase:Spike2DRaster.__init__(...)\t.applicationName: \"Spike Raster Window - kdiba|gor01|one|2006-6-09_1-22-43|maze|display_spike_rasters_window\"\n",
      "\t.windowName: \"Spike2DRaster\")\n",
      "\n"
     ]
    },
    {
     "name": "stderr",
     "output_type": "stream",
     "text": [
      "DEBUG:com.PhoHale.Spike3D.display.SpikeRasterBase:Spike2DRaster._update_plots()\n"
     ]
    },
    {
     "name": "stdout",
     "output_type": "stream",
     "text": [
      "_run_delayed_gui_load_code() called!\n"
     ]
    },
    {
     "name": "stderr",
     "output_type": "stream",
     "text": [
      "DEBUG:com.PhoHale.Spike3D.display.SpikeRasterBase:Spike2DRaster._update_plots()\n"
     ]
    }
   ],
   "source": [
    "active_2d_plot, active_3d_plot, spike_raster_window = curr_active_pipeline.plot._display_spike_rasters_pyqtplot_2D().values() # included_neuron_ids=EITHER_subset.track_exclusive_aclus"
   ]
  },
  {
   "cell_type": "code",
   "execution_count": 39,
   "id": "64988eb1",
   "metadata": {},
   "outputs": [
    {
     "name": "stderr",
     "output_type": "stream",
     "text": [
      "DEBUG:com.PhoHale.Spike3D.display.SpikeRasterBase:Spike2DRaster._update_plots()\n",
      "DEBUG:com.PhoHale.Spike3D.display.SpikeRasterBase:Spike2DRaster._update_plots()\n",
      "DEBUG:com.PhoHale.Spike3D.display.SpikeRasterBase:Spike2DRaster._update_plots()\n",
      "DEBUG:com.PhoHale.Spike3D.display.SpikeRasterBase:Spike2DRaster._update_plots()\n",
      "DEBUG:com.PhoHale.Spike3D.display.SpikeRasterBase:Spike2DRaster._update_plots()\n",
      "DEBUG:com.PhoHale.Spike3D.display.SpikeRasterBase:Spike2DRaster._update_plots()\n",
      "DEBUG:com.PhoHale.Spike3D.display.SpikeRasterBase:Spike2DRaster._update_plots()\n",
      "DEBUG:com.PhoHale.Spike3D.display.SpikeRasterBase:Spike2DRaster._update_plots()\n",
      "DEBUG:com.PhoHale.Spike3D.display.SpikeRasterBase:Spike2DRaster._update_plots()\n",
      "DEBUG:com.PhoHale.Spike3D.display.SpikeRasterBase:Spike2DRaster._update_plots()\n",
      "DEBUG:com.PhoHale.Spike3D.display.SpikeRasterBase:Spike2DRaster._update_plots()\n",
      "DEBUG:com.PhoHale.Spike3D.display.SpikeRasterBase:Spike2DRaster._update_plots()\n",
      "DEBUG:com.PhoHale.Spike3D.display.SpikeRasterBase:Spike2DRaster._update_plots()\n",
      "DEBUG:com.PhoHale.Spike3D.display.SpikeRasterBase:Spike2DRaster._update_plots()\n",
      "DEBUG:com.PhoHale.Spike3D.display.SpikeRasterBase:Spike2DRaster._update_plots()\n",
      "DEBUG:com.PhoHale.Spike3D.display.SpikeRasterBase:Spike2DRaster._update_plots()\n",
      "DEBUG:com.PhoHale.Spike3D.display.SpikeRasterBase:Spike2DRaster._update_plots()\n",
      "DEBUG:com.PhoHale.Spike3D.display.SpikeRasterBase:Spike2DRaster._update_plots()\n",
      "DEBUG:com.PhoHale.Spike3D.display.SpikeRasterBase:Spike2DRaster._update_plots()\n",
      "DEBUG:com.PhoHale.Spike3D.display.SpikeRasterBase:Spike2DRaster._update_plots()\n",
      "DEBUG:com.PhoHale.Spike3D.display.SpikeRasterBase:Spike2DRaster._update_plots()\n",
      "DEBUG:com.PhoHale.Spike3D.display.SpikeRasterBase:Spike2DRaster._update_plots()\n",
      "DEBUG:com.PhoHale.Spike3D.display.SpikeRasterBase:Spike2DRaster._update_plots()\n",
      "DEBUG:com.PhoHale.Spike3D.display.SpikeRasterBase:Spike2DRaster._update_plots()\n",
      "DEBUG:com.PhoHale.Spike3D.display.SpikeRasterBase:Spike2DRaster._update_plots()\n",
      "DEBUG:com.PhoHale.Spike3D.display.SpikeRasterBase:Spike2DRaster._update_plots()\n",
      "DEBUG:com.PhoHale.Spike3D.display.SpikeRasterBase:Spike2DRaster._update_plots()\n",
      "DEBUG:com.PhoHale.Spike3D.display.SpikeRasterBase:Spike2DRaster._update_plots()\n",
      "DEBUG:com.PhoHale.Spike3D.display.SpikeRasterBase:Spike2DRaster._update_plots()\n",
      "DEBUG:com.PhoHale.Spike3D.display.SpikeRasterBase:Spike2DRaster._update_plots()\n",
      "DEBUG:com.PhoHale.Spike3D.display.SpikeRasterBase:Spike2DRaster._update_plots()\n",
      "DEBUG:com.PhoHale.Spike3D.display.SpikeRasterBase:Spike2DRaster._update_plots()\n",
      "DEBUG:com.PhoHale.Spike3D.display.SpikeRasterBase:Spike2DRaster._update_plots()\n",
      "DEBUG:com.PhoHale.Spike3D.display.SpikeRasterBase:Spike2DRaster._update_plots()\n",
      "DEBUG:com.PhoHale.Spike3D.display.SpikeRasterBase:Spike2DRaster._update_plots()\n",
      "DEBUG:com.PhoHale.Spike3D.display.SpikeRasterBase:Spike2DRaster._update_plots()\n",
      "DEBUG:com.PhoHale.Spike3D.display.SpikeRasterBase:Spike2DRaster._update_plots()\n",
      "DEBUG:com.PhoHale.Spike3D.display.SpikeRasterBase:Spike2DRaster._update_plots()\n",
      "DEBUG:com.PhoHale.Spike3D.display.SpikeRasterBase:Spike2DRaster._update_plots()\n",
      "DEBUG:com.PhoHale.Spike3D.display.SpikeRasterBase:Spike2DRaster._update_plots()\n",
      "DEBUG:com.PhoHale.Spike3D.display.SpikeRasterBase:Spike2DRaster._update_plots()\n",
      "DEBUG:com.PhoHale.Spike3D.display.SpikeRasterBase:Spike2DRaster._update_plots()\n",
      "DEBUG:com.PhoHale.Spike3D.display.SpikeRasterBase:Spike2DRaster._update_plots()\n",
      "DEBUG:com.PhoHale.Spike3D.display.SpikeRasterBase:Spike2DRaster._update_plots()\n",
      "DEBUG:com.PhoHale.Spike3D.display.SpikeRasterBase:Spike2DRaster._update_plots()\n",
      "DEBUG:com.PhoHale.Spike3D.display.SpikeRasterBase:Spike2DRaster._update_plots()\n",
      "DEBUG:com.PhoHale.Spike3D.display.SpikeRasterBase:Spike2DRaster._update_plots()\n",
      "DEBUG:com.PhoHale.Spike3D.display.SpikeRasterBase:Spike2DRaster._update_plots()\n",
      "DEBUG:com.PhoHale.Spike3D.display.SpikeRasterBase:Spike2DRaster._update_plots()\n",
      "DEBUG:com.PhoHale.Spike3D.display.SpikeRasterBase:Spike2DRaster._update_plots()\n",
      "DEBUG:com.PhoHale.Spike3D.display.SpikeRasterBase:Spike2DRaster._update_plots()\n",
      "DEBUG:com.PhoHale.Spike3D.display.SpikeRasterBase:Spike2DRaster._update_plots()\n",
      "DEBUG:com.PhoHale.Spike3D.display.SpikeRasterBase:Spike2DRaster._update_plots()\n",
      "DEBUG:com.PhoHale.Spike3D.display.SpikeRasterBase:Spike2DRaster._update_plots()\n",
      "DEBUG:com.PhoHale.Spike3D.display.SpikeRasterBase:Spike2DRaster._update_plots()\n",
      "DEBUG:com.PhoHale.Spike3D.display.SpikeRasterBase:Spike2DRaster._update_plots()\n",
      "DEBUG:com.PhoHale.Spike3D.display.SpikeRasterBase:Spike2DRaster._update_plots()\n",
      "DEBUG:com.PhoHale.Spike3D.display.SpikeRasterBase:Spike2DRaster._update_plots()\n"
     ]
    },
    {
     "name": "stdout",
     "output_type": "stream",
     "text": [
      "keyPressEvent(e.key(): 16777237)\n"
     ]
    },
    {
     "name": "stderr",
     "output_type": "stream",
     "text": [
      "DEBUG:com.PhoHale.Spike3D.display.SpikeRasterBase:Spike2DRaster._update_plots()\n",
      "DEBUG:com.PhoHale.Spike3D.display.SpikeRasterBase:Spike2DRaster._update_plots()\n",
      "DEBUG:com.PhoHale.Spike3D.display.SpikeRasterBase:Spike2DRaster._update_plots()\n",
      "DEBUG:com.PhoHale.Spike3D.display.SpikeRasterBase:Spike2DRaster._update_plots()\n"
     ]
    },
    {
     "name": "stdout",
     "output_type": "stream",
     "text": [
      "keyPressEvent(e.key(): 16777237)\n",
      "keyPressEvent(e.key(): 16777239)\n",
      "keyPressEvent(e.key(): 16777238)\n",
      "keyPressEvent(e.key(): 16777238)\n",
      "keyPressEvent(e.key(): 16777249)\n",
      "keyPressEvent(e.key(): 16777238)\n",
      "keyPressEvent(e.key(): 16777238)\n",
      "keyPressEvent(e.key(): 16777249)\n",
      "keyPressEvent(e.key(): 16777239)\n"
     ]
    }
   ],
   "source": [
    "# spike_raster_window.ui.actionAddTimeIntervals_Bursts.setEnabled(True)\n",
    "\n",
    "from pyphoplacecellanalysis.GUI.PyQtPlot.Widgets.Mixins.RenderTimeEpochs.Render2DEventRectanglesHelper import Render2DEventRectanglesHelper\n",
    "\n",
    "\n",
    "active_burst_intervals = curr_active_pipeline.computation_results[global_epoch_name].computed_data['burst_detection']['burst_intervals'] # this works\n",
    "output_display_items = Render2DEventRectanglesHelper.add_event_rectangles(spike_raster_window.spike_raster_plt_2d, active_burst_intervals) # {'interval_rects_item': active_interval_rects_item}\n",
    "active_interval_rects_item = output_display_items['interval_rects_item']"
   ]
  },
  {
   "cell_type": "code",
   "execution_count": null,
   "id": "f174ebb4",
   "metadata": {},
   "outputs": [],
   "source": [
    "16777238 # Page Up\n",
    "16777239 # Page Down\n"
   ]
  },
  {
   "cell_type": "code",
   "execution_count": 40,
   "id": "e36917eb",
   "metadata": {},
   "outputs": [
    {
     "data": {
      "text/plain": [
       "15.0"
      ]
     },
     "execution_count": 40,
     "metadata": {},
     "output_type": "execute_result"
    }
   ],
   "source": [
    "active_2d_plot.temporal_axis_length"
   ]
  },
  {
   "cell_type": "code",
   "execution_count": null,
   "id": "ca590e9f",
   "metadata": {},
   "outputs": [],
   "source": [
    "active_2d_plot.animation_active_time_window"
   ]
  },
  {
   "cell_type": "code",
   "execution_count": 49,
   "id": "8587a071",
   "metadata": {},
   "outputs": [],
   "source": []
  },
  {
   "cell_type": "code",
   "execution_count": 45,
   "id": "0387c708",
   "metadata": {},
   "outputs": [
    {
     "data": {
      "text/plain": [
       "(1132.5138243586016, 1147.5138243586016)"
      ]
     },
     "execution_count": 45,
     "metadata": {},
     "output_type": "execute_result"
    }
   ],
   "source": [
    "time_window.active_time_window\n"
   ]
  },
  {
   "cell_type": "code",
   "execution_count": 46,
   "id": "dd1d6891",
   "metadata": {},
   "outputs": [
    {
     "data": {
      "text/plain": [
       "15.0"
      ]
     },
     "execution_count": 46,
     "metadata": {},
     "output_type": "execute_result"
    }
   ],
   "source": []
  },
  {
   "cell_type": "code",
   "execution_count": 48,
   "id": "fd12958b",
   "metadata": {},
   "outputs": [],
   "source": []
  },
  {
   "cell_type": "code",
   "execution_count": 55,
   "id": "b13fde68",
   "metadata": {},
   "outputs": [
    {
     "data": {
      "text/plain": [
       "375.0"
      ]
     },
     "execution_count": 55,
     "metadata": {},
     "output_type": "execute_result"
    }
   ],
   "source": [
    "shift_frames = (active_2d_plot.temporal_axis_length/spike_raster_window.animation_time_step) # determine the integral number of animation_time_step frames to shift by one window length\n",
    "shift_frames"
   ]
  },
  {
   "cell_type": "code",
   "execution_count": 52,
   "id": "37ff84b4",
   "metadata": {},
   "outputs": [
    {
     "data": {
      "text/plain": [
       "1147.5138243586016"
      ]
     },
     "execution_count": 52,
     "metadata": {},
     "output_type": "execute_result"
    }
   ],
   "source": [
    "# window_duration_sec = active_2d_plot.temporal_axis_length # I think this is better because it accounts for the scale factor\n",
    "time_window = active_2d_plot.animation_active_time_window # SpikesDataframeWindow\n",
    "window_duration_sec = time_window.window_duration\n",
    "proposed_next_window_start_time = time_window.active_window_start_time + window_duration_sec\n",
    "proposed_next_window_start_time"
   ]
  },
  {
   "cell_type": "code",
   "execution_count": 56,
   "id": "10bcd4fa",
   "metadata": {},
   "outputs": [
    {
     "name": "stderr",
     "output_type": "stream",
     "text": [
      "DEBUG:com.PhoHale.Spike3D.display.SpikeRasterBase:Spike2DRaster._update_plots()\n"
     ]
    }
   ],
   "source": [
    "spike_raster_window.update_animation(proposed_next_window_start_time)"
   ]
  },
  {
   "cell_type": "code",
   "execution_count": null,
   "id": "6dd0be84",
   "metadata": {},
   "outputs": [],
   "source": [
    "# curr_active_pipeline.\n",
    "\n",
    "EITHER_subset.track_exclusive_aclus\n",
    "# , neuron_colors=neuron_colors, neuron_sort_order=neuron_sort_order, application_name=application_name\n"
   ]
  },
  {
   "cell_type": "code",
   "execution_count": null,
   "id": "fce0a16d",
   "metadata": {},
   "outputs": [],
   "source": []
  },
  {
   "cell_type": "markdown",
   "id": "971ce291",
   "metadata": {},
   "source": [
    "# Interactive SpikeRasterWindow"
   ]
  },
  {
   "cell_type": "code",
   "execution_count": null,
   "id": "d0dbe020",
   "metadata": {},
   "outputs": [],
   "source": [
    "from neuropy.analyses.time_dependent_placefields import PfND_TimeDependent, PlacefieldSnapshot\n",
    "\n",
    "global_pf1D_dt: PfND_TimeDependent = global_results.pf1D_dt\n",
    "global_pf2D_dt: PfND_TimeDependent = global_results.pf2D_dt\n"
   ]
  },
  {
   "cell_type": "code",
   "execution_count": null,
   "id": "307d5dca",
   "metadata": {},
   "outputs": [],
   "source": [
    "from pyphoplacecellanalysis.Pho2D.PyQtPlots.TimeSynchronizedPlotters.TimeSynchronizedOccupancyPlotter import TimeSynchronizedOccupancyPlotter\n",
    "from pyphoplacecellanalysis.Pho2D.PyQtPlots.TimeSynchronizedPlotters.TimeSynchronizedPlacefieldsPlotter import TimeSynchronizedPlacefieldsPlotter\n",
    "from pyphoplacecellanalysis.Pho2D.PyQtPlots.TimeSynchronizedPlotters.Mixins.helpers import build_combined_time_synchronized_plotters_window\n",
    "\n",
    "active_pf_2D_dt = global_pf2D_dt\n",
    "active_pf_2D_dt.reset()\n",
    "active_pf_2D_dt.update(t=500.0, start_relative_t=True)\n",
    "all_plotters, root_dockAreaWindow, app = build_combined_time_synchronized_plotters_window(active_pf_2D_dt, fixed_window_duration = 15.0)\n",
    "controlling_widget, curr_sync_occupancy_plotter, curr_placefields_plotter = all_plotters # end up in some sort of `linkedViewChanged` loop"
   ]
  },
  {
   "cell_type": "code",
   "execution_count": null,
   "id": "6c8b7e8f",
   "metadata": {},
   "outputs": [],
   "source": [
    "# Draw a VERY simple and efficient 1D plot of the animal on the track.\n"
   ]
  },
  {
   "cell_type": "code",
   "execution_count": null,
   "id": "306542c3",
   "metadata": {},
   "outputs": [],
   "source": [
    "# Create a new `SpikeRaster2D` instance using `_display_spike_raster_pyqtplot_2D` and capture its outputs:\n",
    "_out = curr_active_pipeline.plot._display_spike_rasters_pyqtplot_2D()"
   ]
  },
  {
   "cell_type": "code",
   "execution_count": null,
   "id": "0e2878ba",
   "metadata": {},
   "outputs": [],
   "source": [
    "from pyphocorehelpers.gui.Qt.TopLevelWindowHelper import TopLevelWindowHelper\n",
    "import pyphoplacecellanalysis.External.pyqtgraph as pg # Used to get the app for TopLevelWindowHelper.top_level_windows\n",
    "## For searching with `TopLevelWindowHelper.all_widgets(...)`:\n",
    "from pyphoplacecellanalysis.GUI.PyQtPlot.Widgets.SpikeRasterWidgets.Spike2DRaster import Spike2DRaster\n",
    "from pyphoplacecellanalysis.GUI.PyQtPlot.Widgets.SpikeRasterWidgets.Spike3DRaster import Spike3DRaster\n",
    "from pyphoplacecellanalysis.GUI.Qt.SpikeRasterWindows.Spike3DRasterWindowWidget import Spike3DRasterWindowWidget\n",
    "\n",
    "found_spike_raster_windows = TopLevelWindowHelper.all_widgets(pg.mkQApp(), searchType=Spike3DRasterWindowWidget)\n",
    "# assert len(found_spike_raster_windows) == 1, f\"found {len(found_spike_raster_windows)} Spike3DRasterWindowWidget windows using TopLevelWindowHelper.all_widgets(...) but require exactly one.\"\n",
    "if len(found_spike_raster_windows) > 1:\n",
    "\tprint(f'found {len(found_spike_raster_windows)} widgets with the searchType provided:')\n",
    "\tprint(f'{found_spike_raster_windows}')\n",
    "\tprint(f'defaulting to using the most recent [-1]...')\n",
    "spike_raster_window = found_spike_raster_windows[-1]\n",
    "\n",
    "# Extras:\n",
    "active_2d_plot = spike_raster_window.spike_raster_plt_2d # <pyphoplacecellanalysis.GUI.PyQtPlot.Widgets.SpikeRasterWidgets.Spike2DRaster.Spike2DRaster at 0x196c7244280>\n",
    "active_3d_plot = spike_raster_window.spike_raster_plt_3d # <pyphoplacecellanalysis.GUI.PyQtPlot.Widgets.SpikeRasterWidgets.Spike2DRaster.Spike2DRaster at 0x196c7244280>"
   ]
  },
  {
   "cell_type": "code",
   "execution_count": null,
   "id": "02c2011a",
   "metadata": {
    "tags": [
     "spike_raster_window_defaults"
    ]
   },
   "outputs": [],
   "source": [
    "from pyphoplacecellanalysis.General.Mixins.SpikesRenderingBaseMixin import SpikeEmphasisState\n",
    "\n",
    "active_pf_2D = global_pf2D\n",
    "## Example 1: De-emphasize spikes excluded from the placefield calculations:\n",
    "is_spike_included_in_pf = np.isin(spike_raster_window.spike_raster_plt_2d.spikes_df.index, active_pf_2D.filtered_spikes_df.index)\n",
    "spike_raster_window.spike_raster_plt_2d.update_spike_emphasis(np.logical_not(is_spike_included_in_pf), SpikeEmphasisState.Deemphasized)\n"
   ]
  },
  {
   "cell_type": "code",
   "execution_count": null,
   "id": "a37c2e01",
   "metadata": {},
   "outputs": [],
   "source": [
    "from pyphoplacecellanalysis.GUI.PyQtPlot.Widgets.Mixins.RenderTimeEpochs.EpochRenderingMixin import EpochRenderingMixin\n",
    "from pyphoplacecellanalysis.GUI.PyQtPlot.Widgets.Mixins.RenderTimeEpochs.Specific2DRenderTimeEpochs import General2DRenderTimeEpochs, Ripples_2DRenderTimeEpochs, inline_mkColor\n",
    "\n",
    "add_renderables_menu = active_2d_plot.ui.menus.custom_context_menus.add_renderables[0].programmatic_actions_dict\n",
    "menu_commands = ['AddTimeIntervals.PBEs', 'AddTimeIntervals.Ripples', 'AddTimeIntervals.Replays', 'AddTimeIntervals.Laps', 'AddTimeIntervals.Session.Epochs']\n",
    "for a_command in menu_commands:\n",
    "    add_renderables_menu[a_command].trigger()\n",
    "\n"
   ]
  },
  {
   "cell_type": "code",
   "execution_count": null,
   "id": "acf0ac97",
   "metadata": {},
   "outputs": [],
   "source": [
    "## Inline Concise: Position Replays, PBEs, and Ripples all below the scatter:\n",
    "# active_2d_plot.interval_datasources.Replays.update_visualization_properties(lambda active_df, **kwargs: General2DRenderTimeEpochs._update_df_visualization_columns(active_df, y_location=-10.0, height=7.5, pen_color=inline_mkColor('orange', 0.8), brush_color=inline_mkColor('orange', 0.5), **kwargs)) ## Fully inline\n",
    "# active_2d_plot.interval_datasources.PBEs.update_visualization_properties(lambda active_df, **kwargs: General2DRenderTimeEpochs._update_df_visualization_columns(active_df, y_location=-2.0, height=1.5, pen_color=inline_mkColor('pink', 0.8), brush_color=inline_mkColor('pink', 0.5), **kwargs)) ## Fully inline\n",
    "# active_2d_plot.interval_datasources.Ripples.update_visualization_properties(lambda active_df, **kwargs: General2DRenderTimeEpochs._update_df_visualization_columns(active_df, y_location=-12.0, height=1.5, pen_color=inline_mkColor('cyan', 0.8), brush_color=inline_mkColor('cyan', 0.5), **kwargs)) ## Fully inline\n",
    "# active_2d_plot.interval_datasources.SessionEpochs .update_visualization_properties(lambda active_df, **kwargs: General2DRenderTimeEpochs._update_df_visualization_columns(active_df, y_location=-12.0, height=1.5, pen_color=inline_mkColor('cyan', 0.8), brush_color=inline_mkColor('cyan', 0.5), **kwargs)) ## Fully inline\n",
    "epochs_update_dict = {\n",
    "    'Replays':dict(y_location=-10.0, height=7.5, pen_color=inline_mkColor('orange', 0.8), brush_color=inline_mkColor('orange', 0.5)),\n",
    "    'PBEs':dict(y_location=-2.0, height=1.5, pen_color=inline_mkColor('pink', 0.8), brush_color=inline_mkColor('pink', 0.5)),\n",
    "    'Ripples':dict(y_location=-12.0, height=1.5, pen_color=inline_mkColor('cyan', 0.8), brush_color=inline_mkColor('cyan', 0.5)),\n",
    "    'SessionEpochs ':dict(y_location=-12.0, height=1.5, pen_color=inline_mkColor('cyan', 0.8), brush_color=inline_mkColor('cyan', 0.5)),\n",
    "}\n",
    "active_2d_plot.update_rendered_intervals_visualization_properties(epochs_update_dict)"
   ]
  },
  {
   "cell_type": "code",
   "execution_count": null,
   "id": "26350f5b",
   "metadata": {},
   "outputs": [],
   "source": [
    "\n",
    "interval_info = active_2d_plot.list_all_rendered_intervals() ## get the existing intervals\n",
    "rendered_interval_keys = list(interval_info.keys())\n",
    "desired_interval_height_ratios = [2.0, 2.0, 1.0, 0.1, 1.0, 1.0, 1.0] # ratio of heights to each interval\n",
    "required_vertical_offsets, required_interval_heights = EpochRenderingMixin.build_stacked_epoch_layout(desired_interval_height_ratios, epoch_render_stack_height=20.0, interval_stack_location='below')\n",
    "stacked_epoch_layout_dict = {interval_key:dict(y_location=y_location, height=height) for interval_key, y_location, height in zip(rendered_interval_keys, required_vertical_offsets, required_interval_heights)} # Build a stacked_epoch_layout_dict to update the display\n",
    "active_2d_plot.update_rendered_intervals_visualization_properties(stacked_epoch_layout_dict)\n"
   ]
  },
  {
   "cell_type": "code",
   "execution_count": null,
   "id": "55ee44b3",
   "metadata": {},
   "outputs": [],
   "source": [
    "is_spike_included_in_pf"
   ]
  },
  {
   "cell_type": "code",
   "execution_count": null,
   "id": "acb21806",
   "metadata": {},
   "outputs": [],
   "source": [
    "active_pf_2D_dt.update(t=1000.0, start_relative_t=True)"
   ]
  },
  {
   "cell_type": "code",
   "execution_count": null,
   "id": "dc70ee93",
   "metadata": {},
   "outputs": [],
   "source": [
    "from pyphoplacecellanalysis.Pho2D.PyQtPlots.TimeSynchronizedPlotters.TimeSynchronizedPlacefieldsPlotter import TimeSynchronizedPlacefieldsPlotter\n",
    "\n",
    "curr_sync_occupancy_plotter = TimeSynchronizedOccupancyPlotter(global_pf2D_dt)\n",
    "curr_sync_occupancy_plotter.show()"
   ]
  },
  {
   "cell_type": "code",
   "execution_count": null,
   "id": "67793210",
   "metadata": {},
   "outputs": [],
   "source": [
    "global_pf2D_dt.historical_snapshots"
   ]
  },
  {
   "cell_type": "code",
   "execution_count": null,
   "id": "2b5a3382",
   "metadata": {},
   "outputs": [],
   "source": [
    "from pyphoplacecellanalysis.Pho2D.PyQtPlots.TimeSynchronizedPlotters.TimeSynchronizedPlacefieldsPlotter import TimeSynchronizedPlacefieldsPlotter\n",
    "\n",
    "curr_sync_placefield_plotter = TimeSynchronizedPlacefieldsPlotter(global_pf2D_dt)\n",
    "curr_sync_placefield_plotter.show()"
   ]
  },
  {
   "cell_type": "code",
   "execution_count": null,
   "id": "6c722971",
   "metadata": {},
   "outputs": [],
   "source": [
    "from pyphoplacecellanalysis.Pho2D.PyQtPlots.TimeSynchronizedPlotters.TimeSynchronizedPlacefieldsPlotter import TimeSynchronizedPlacefieldsPlotter\n",
    "\n",
    "curr_sync_placefield_plotter1D = TimeSynchronizedPlacefieldsPlotter(global_pf1D_dt)\n",
    "curr_sync_placefield_plotter1D.show()"
   ]
  },
  {
   "cell_type": "markdown",
   "id": "bd7a0f86",
   "metadata": {},
   "source": [
    "# 2023-07-19 - Validation with 3D tools"
   ]
  },
  {
   "cell_type": "code",
   "execution_count": 20,
   "id": "7ecde32c",
   "metadata": {
    "notebookRunGroups": {
     "groupValue": "2"
    }
   },
   "outputs": [],
   "source": [
    "import pyvista as pv\n",
    "\n",
    "display_output = {}\n",
    "# active_config_name = long_epoch_name\n",
    "active_config_name = global_epoch_name\n",
    "active_config = curr_active_pipeline.active_configs[active_config_name]\n",
    "active_config.plotting_config.should_use_linear_track_geometry = True # indicate that it's a linear track so the better geometry can be used"
   ]
  },
  {
   "cell_type": "markdown",
   "id": "80672dec",
   "metadata": {},
   "source": [
    "# 3D Plotters"
   ]
  },
  {
   "cell_type": "markdown",
   "id": "fe0f0e7a",
   "metadata": {},
   "source": [
    "## 📣 Programmatically adding several epoch rectangles by calling the addRenderable context menu functions all at once for SpikeRaster2D"
   ]
  },
  {
   "cell_type": "code",
   "execution_count": null,
   "id": "0bb05977",
   "metadata": {},
   "outputs": [],
   "source": [
    "add_renderables_menu = active_2d_plot.ui.menus.custom_context_menus.add_renderables[0].programmatic_actions_dict\n",
    "menu_commands = ['AddTimeIntervals.PBEs', 'AddTimeIntervals.Ripples', 'AddTimeIntervals.Replays', 'AddTimeIntervals.Laps', 'AddTimeIntervals.Session.Epochs']\n",
    "for a_command in menu_commands:\n",
    "    add_renderables_menu[a_command].trigger()"
   ]
  },
  {
   "cell_type": "code",
   "execution_count": null,
   "id": "ffb2d134",
   "metadata": {},
   "outputs": [],
   "source": [
    "from pyphoplacecellanalysis.GUI.PyQtPlot.Widgets.Mixins.RenderTimeEpochs.Specific2DRenderTimeEpochs import General2DRenderTimeEpochs, Ripples_2DRenderTimeEpochs, inline_mkColor\n",
    "## Inline Concise: Position Replays, PBEs, and Ripples all below the scatter:\n",
    "# active_2d_plot.interval_datasources.Replays.update_visualization_properties(lambda active_df, **kwargs: General2DRenderTimeEpochs._update_df_visualization_columns(active_df, y_location=-10.0, height=7.5, pen_color=inline_mkColor('orange', 0.8), brush_color=inline_mkColor('orange', 0.5), **kwargs)) ## Fully inline\n",
    "# active_2d_plot.interval_datasources.PBEs.update_visualization_properties(lambda active_df, **kwargs: General2DRenderTimeEpochs._update_df_visualization_columns(active_df, y_location=-2.0, height=1.5, pen_color=inline_mkColor('pink', 0.8), brush_color=inline_mkColor('pink', 0.5), **kwargs)) ## Fully inline\n",
    "# active_2d_plot.interval_datasources.Ripples.update_visualization_properties(lambda active_df, **kwargs: General2DRenderTimeEpochs._update_df_visualization_columns(active_df, y_location=-12.0, height=1.5, pen_color=inline_mkColor('cyan', 0.8), brush_color=inline_mkColor('cyan', 0.5), **kwargs)) ## Fully inline\n",
    "# active_2d_plot.interval_datasources.SessionEpochs .update_visualization_properties(lambda active_df, **kwargs: General2DRenderTimeEpochs._update_df_visualization_columns(active_df, y_location=-12.0, height=1.5, pen_color=inline_mkColor('cyan', 0.8), brush_color=inline_mkColor('cyan', 0.5), **kwargs)) ## Fully inline\n",
    "epochs_update_dict = {\n",
    "    'Replays':dict(y_location=-10.0, height=7.5, pen_color=inline_mkColor('orange', 0.8), brush_color=inline_mkColor('orange', 0.5)),\n",
    "    'PBEs':dict(y_location=-2.0, height=1.5, pen_color=inline_mkColor('pink', 0.8), brush_color=inline_mkColor('pink', 0.5)),\n",
    "    'Ripples':dict(y_location=-12.0, height=1.5, pen_color=inline_mkColor('cyan', 0.8), brush_color=inline_mkColor('cyan', 0.5)),\n",
    "    'SessionEpochs ':dict(y_location=-12.0, height=1.5, pen_color=inline_mkColor('cyan', 0.8), brush_color=inline_mkColor('cyan', 0.5)),\n",
    "}\n",
    "active_2d_plot.update_rendered_intervals_visualization_properties(epochs_update_dict)\n"
   ]
  },
  {
   "cell_type": "code",
   "execution_count": null,
   "id": "4b8e16b9",
   "metadata": {},
   "outputs": [],
   "source": [
    "rendered_interval_keys = list(interval_info.keys())\n",
    "desired_interval_height_ratios = [2.0, 2.0, 1.0, 0.1, 1.0, 1.0, 1.0] # ratio of heights to each interval\n",
    "required_vertical_offsets, required_interval_heights = EpochRenderingMixin.build_stacked_epoch_layout(desired_interval_height_ratios, epoch_render_stack_height=20.0, interval_stack_location='below')\n",
    "stacked_epoch_layout_dict = {interval_key:dict(y_location=y_location, height=height) for interval_key, y_location, height in zip(rendered_interval_keys, required_vertical_offsets, required_interval_heights)} # Build a stacked_epoch_layout_dict to update the display\n",
    "active_2d_plot.update_rendered_intervals_visualization_properties(stacked_epoch_layout_dict)"
   ]
  },
  {
   "cell_type": "markdown",
   "id": "bd240080",
   "metadata": {},
   "source": [
    "## 🪟 ipcDataExplorer - 3D Interactive Tuning Curves Plotter"
   ]
  },
  {
   "cell_type": "code",
   "execution_count": null,
   "id": "f5568d4c",
   "metadata": {},
   "outputs": [],
   "source": [
    "curr_active_pipeline.registered_display_function_docs_dict\n",
    "\n",
    "'_display_3d_image_plotter'\n",
    "'_display_long_short_laps'\n",
    "'_display_3d_interactive_custom_data_explorer'\n"
   ]
  },
  {
   "cell_type": "code",
   "execution_count": null,
   "id": "6c55128f",
   "metadata": {},
   "outputs": [],
   "source": [
    "# from pyphoplacecellanalysis.GUI.PyVista.InteractivePlotter.InteractiveDataExplorerBase import InteractiveDataExplorerBase\n",
    "# from pyphoplacecellanalysis.GUI.PyVista.InteractivePlotter.InteractiveCustomDataExplorer import InteractiveCustomDataExplorer # TypeError: super(type, obj): obj must be an instance or subtype of type\n",
    "\n",
    "active_config_name = global_epoch_context\n",
    "# curr_active_pipeline.reload_default_display_functions()\n",
    "# _out = curr_active_pipeline.display('_display_3d_interactive_custom_data_explorer', long_epoch_name) # long_epoch_context\n",
    "display_dict = curr_active_pipeline.display('_display_3d_interactive_custom_data_explorer', active_config_name) # does not work, missing color info?\n",
    "iplapsDataExplorer = display_dict['iplapsDataExplorer']\n",
    "# plotter is available at\n",
    "p = display_dict['plotter']\n",
    "iplapsDataExplorer\n"
   ]
  },
  {
   "cell_type": "code",
   "execution_count": null,
   "id": "2b5ac39d",
   "metadata": {},
   "outputs": [],
   "source": [
    "import ipywidgets as widgets\n",
    "\n",
    "# df = pd.DataFrame([curr_active_pipeline.registered_display_function_docs_dict])\n",
    "# df = curr_active_pipeline.registered_display_function_docs_dict\n",
    "df = pd.DataFrame.from_dict(curr_active_pipeline.registered_display_function_docs_dict, orient='index', columns=['Value'])\n",
    "display_widget = widgets.Output()\n",
    "with display_widget:\n",
    "\tdisplay(df)\n",
    "display_widget"
   ]
  },
  {
   "cell_type": "code",
   "execution_count": null,
   "id": "8949a4c3",
   "metadata": {},
   "outputs": [],
   "source": [
    "from neuropy.utils.matplotlib_helpers import plot_position_curves_figure\n",
    "\n",
    "curr_active_pipeline.reload_default_display_functions()"
   ]
  },
  {
   "cell_type": "code",
   "execution_count": null,
   "id": "f1df3828",
   "metadata": {},
   "outputs": [],
   "source": [
    "active_identifying_session_ctx = curr_active_pipeline.sess.get_context() # 'bapun_RatN_Day4_2019-10-15_11-30-06'\n",
    "graphics_output_dict = curr_active_pipeline.display('_display_long_short_laps', active_identifying_session_ctx)"
   ]
  },
  {
   "cell_type": "code",
   "execution_count": null,
   "id": "f7cb396c",
   "metadata": {},
   "outputs": [],
   "source": [
    "\n",
    "# _out3 = curr_active_pipeline.display('_display_long_and_short_stacked_epoch_slices', included_epoch_indicies=None, save_figure=False)\n",
    "example_stacked_epoch_graphics = curr_active_pipeline.display('_display_long_and_short_stacked_epoch_slices', defer_render=False, save_figure=False, included_epoch_indicies=selection_idxs_L[:50], enable_radon_transform_info=False, max_subplots_per_page=25)\n"
   ]
  },
  {
   "cell_type": "code",
   "execution_count": null,
   "id": "d6d9aa61",
   "metadata": {},
   "outputs": [],
   "source": [
    "example_stacked_epoch_graphics.figures[0].show()"
   ]
  },
  {
   "cell_type": "code",
   "execution_count": null,
   "id": "c5b3d470",
   "metadata": {},
   "outputs": [],
   "source": [
    "pagination_controller_L, pagination_controller_S = example_stacked_epoch_graphics.plot_data['controllers']\n",
    "ax_L, ax_S = example_stacked_epoch_graphics.axes\n",
    "final_figure_context_L, final_context_S = example_stacked_epoch_graphics.context\n"
   ]
  },
  {
   "cell_type": "code",
   "execution_count": null,
   "id": "8c64ae5b",
   "metadata": {},
   "outputs": [],
   "source": [
    "from pyphoplacecellanalysis.PhoPositionalData.plotting.laps import plot_lap_trajectories_3d\n",
    "# ## single_combined_plot == True mode (mode 1.):\n",
    "# p, laps_pages = plot_lap_trajectories_3d(curr_active_pipeline.sess, single_combined_plot=True)\n",
    "# p.show()\n",
    "\n",
    "## single_combined_plot == False mode (mode 2.):        \n",
    "p, laps_pages = plot_lap_trajectories_3d(curr_active_pipeline.sess, single_combined_plot=False, curr_num_subplots=len(curr_active_pipeline.sess.laps.lap_id), active_page_index=0)\n",
    "p.show()"
   ]
  },
  {
   "cell_type": "code",
   "execution_count": null,
   "id": "0c5ec90b",
   "metadata": {},
   "outputs": [],
   "source": [
    "from pyphoplacecellanalysis.PhoPositionalData.plotting.laps import plot_lap_trajectories_2d\n",
    "\n",
    "p_laps_2D, axs_laps_2D, laps_2D_pages = plot_lap_trajectories_2d(curr_active_pipeline.sess, curr_num_subplots=5, active_page_index=0)"
   ]
  },
  {
   "cell_type": "code",
   "execution_count": null,
   "id": "428ddaa0",
   "metadata": {},
   "outputs": [],
   "source": [
    "p_laps_2D.suptitle('plot_lap_trajectories_2d')\n"
   ]
  },
  {
   "cell_type": "code",
   "execution_count": null,
   "id": "f21c4da9",
   "metadata": {},
   "outputs": [],
   "source": [
    "ax = axs_laps_2D[0,0]\n",
    "ax_empty = axs_laps_2D[-1,-1]"
   ]
  },
  {
   "cell_type": "code",
   "execution_count": null,
   "id": "2b8b777b",
   "metadata": {},
   "outputs": [],
   "source": [
    "long_track_position_offset = 1.0 * long_track_dims.compute_position_offset(grid_bin_bounds=grid_bin_bounds) # array([49.43, 140.61])\n",
    "long_track_position_offset"
   ]
  },
  {
   "cell_type": "code",
   "execution_count": null,
   "id": "651f665b",
   "metadata": {},
   "outputs": [],
   "source": [
    "grid_bin_bounds_center_point = (point_tuple_mid_point(grid_bin_bounds[0]), point_tuple_mid_point(grid_bin_bounds[1])) # (145.43, 140.61)\n",
    "print(f'grid_bin_bounds_center_point: {grid_bin_bounds_center_point}')\n",
    "x_midpoint, y_midpoint = grid_bin_bounds_center_point"
   ]
  },
  {
   "cell_type": "code",
   "execution_count": null,
   "id": "77188bdf",
   "metadata": {},
   "outputs": [],
   "source": [
    "user_annotation_man = UserAnnotationsManager()\n",
    "user_annotations = user_annotation_man.annotations # .get_user_annotations()\n",
    "\n",
    "allow_interactive_selection = False\n",
    "\n",
    "final_context_L = curr_active_pipeline.build_display_context_for_session(display_fn_name='DecodedEpochSlices', epochs='replays', decoder='long_results_obj')\n",
    "final_context_S = curr_active_pipeline.build_display_context_for_session(display_fn_name='DecodedEpochSlices', epochs='replays', decoder='short_results_obj')\n",
    "# _out_pagination_controller.params.active_identifying_figure_ctx.adding_context(None,  user_annotation=\"selections\")\n",
    "selections_context_L = final_context_L.adding_context(None,  user_annotation=\"selections\")\n",
    "selections_context_S = final_context_S.adding_context(None,  user_annotation=\"selections\")\n",
    "\n",
    "## try to get the user annotations for this session:\n",
    "try:\n",
    "\tselection_idxs_L = user_annotations[selections_context_L]\n",
    "\tselection_idxs_S = user_annotations[selections_context_S]\n",
    "except KeyError as e:\n",
    "\tif allow_interactive_selection:\n",
    "\t\tprint(f'user annotations <good replay selections> are not found. Creating them interactively...')\n",
    "\t\tuser_annotations = interactive_good_epoch_selections(annotations_man=user_annotation_man, curr_active_pipeline=curr_active_pipeline)  # perform interactive selection. Should block here.\n",
    "\t\tselection_idxs_L = user_annotations[selections_context_L]\n",
    "\t\tselection_idxs_S = user_annotations[selections_context_S]\n",
    "\telse:\n",
    "\t\tprint(f'interactive annotation is not permitted. Failing.')\n",
    "\t\traise e\n",
    "except Exception as e:\n",
    "\tprint('Unhandled exception: {e}')\n",
    "\traise\n",
    "\n",
    "\n",
    "(selection_idxs_L, selection_idxs_S)\n",
    "# # for updating the filter_epochs_df (`filter_epochs_df`) from the selections:\n",
    "# self.filter_epochs_df['long_is_user_included'] = np.isin(self.filter_epochs_df.index, selection_idxs_L)\n",
    "# self.filter_epochs_df['short_is_user_included'] = np.isin(self.filter_epochs_df.index, selection_idxs_S)\n"
   ]
  },
  {
   "cell_type": "code",
   "execution_count": null,
   "id": "cc5c4871",
   "metadata": {},
   "outputs": [],
   "source": [
    "\n",
    "from pyphoplacecellanalysis.Pho2D.stacked_epoch_slices import DecodedEpochSlicesPaginatedFigureController\n",
    "from pyphoplacecellanalysis.General.Pipeline.Stages.DisplayFunctions.DecoderPredictionError import plot_decoded_epoch_slices_paginated, plot_decoded_epoch_slices, _subfn_update_decoded_epoch_slices\n",
    "\n",
    "\n",
    "## Stacked Epoch Plot\n",
    "defer_render=False\n",
    "save_figure=False\n",
    "included_epoch_indicies=selection_idxs_L[:50]\n",
    "enable_radon_transform_info=False\n",
    "max_subplots_per_page=25\n",
    "kwargs = {}\n",
    "\n",
    "## long_short_decoding_analyses:\n",
    "curr_long_short_decoding_analyses = curr_active_pipeline.global_computation_results.computed_data['long_short_leave_one_out_decoding_analysis']\n",
    "## Extract variables from results object:\n",
    "long_results_obj, short_results_obj = curr_long_short_decoding_analyses.long_results_obj, curr_long_short_decoding_analyses.short_results_obj\n",
    "long_epoch_name, short_epoch_name, global_epoch_name = curr_active_pipeline.find_LongShortGlobal_epoch_names()\n",
    "\n",
    "pagination_controller_L, active_out_figure_paths_L, final_context_L = plot_decoded_epoch_slices_paginated(curr_active_pipeline, long_results_obj, curr_active_pipeline.build_display_context_for_session(display_fn_name='DecodedEpochSlices', epochs='replays', decoder='long_results_obj'), included_epoch_indicies=included_epoch_indicies, save_figure=save_figure, **kwargs)\n",
    "fig_L = pagination_controller_L.plots.fig\n",
    "ax_L = fig_L.get_axes()\n",
    "if defer_render:\n",
    "\twidget_L = pagination_controller_L.ui.mw # MatplotlibTimeSynchronizedWidget\n",
    "\twidget_L.close()\n",
    "\tpagination_controller_L = None\n",
    "\n"
   ]
  },
  {
   "cell_type": "code",
   "execution_count": null,
   "id": "03b89982",
   "metadata": {},
   "outputs": [],
   "source": [
    "def _subfn_update_decoded_epoch_slices(params, plots_data, plots, ui, debug_print=False):\n",
    "    \"\"\" attempts to update existing plots created by:\n",
    "    \n",
    "       params, plots_data, plots, ui = stacked_epoch_slices_matplotlib_build_view(epoch_slices, epoch_labels=epoch_labels, name=name, plot_function_name=plot_function_name, debug_test_max_num_slices=debug_test_max_num_slices, debug_print=debug_print)\n",
    "\n",
    "       Requires: `plots_data.filter_epochs_decoder_result`\n",
    "    \"\"\"\n",
    "    \n",
    "    for i, curr_ax in enumerate(plots.axs):\n",
    "        curr_time_bin_container = plots_data.filter_epochs_decoder_result.time_bin_containers[i]\n",
    "        curr_time_bins = curr_time_bin_container.centers\n",
    "        curr_posterior_container = plots_data.filter_epochs_decoder_result.marginal_x_list[i]\n",
    "        curr_posterior = curr_posterior_container.p_x_given_n\n",
    "        curr_most_likely_positions = curr_posterior_container.most_likely_positions_1D\n",
    "        \n",
    "        params, plots_data, plots, ui = _helper_update_decoded_single_epoch_slice_plot(curr_ax, params, plots_data, plots, ui, i, curr_time_bins, curr_posterior, curr_most_likely_positions, debug_print=debug_print)\n",
    "        on_render_page_callbacks = params.get('on_render_page_callbacks', {})\n",
    "        for a_callback_name, a_callback in on_render_page_callbacks.items():\n",
    "            try:\n",
    "                params, plots_data, plots, ui = a_callback(curr_ax, params, plots_data, plots, ui, i, curr_time_bins, curr_posterior, curr_most_likely_positions, debug_print=debug_print)\n",
    "            except Exception as e:\n",
    "                print(f'\\t encountered exception in callback: {e}')\n",
    "                pass            "
   ]
  },
  {
   "cell_type": "code",
   "execution_count": null,
   "id": "0190db36",
   "metadata": {},
   "outputs": [],
   "source": [
    "\n",
    "pagination_controller_S, active_out_figure_paths_S, final_context_S = plot_decoded_epoch_slices_paginated(curr_active_pipeline, short_results_obj, curr_active_pipeline.build_display_context_for_session(display_fn_name='DecodedEpochSlices', epochs='replays', decoder='short_results_obj'), included_epoch_indicies=included_epoch_indicies, save_figure=save_figure, **kwargs)\n",
    "fig_S = pagination_controller_S.plots.fig\n",
    "ax_S = fig_S.get_axes()\n",
    "if defer_render:\n",
    "\twidget_S = pagination_controller_S.ui.mw # MatplotlibTimeSynchronizedWidget\n",
    "\twidget_S.close()\n",
    "\tpagination_controller_S = None\n"
   ]
  },
  {
   "cell_type": "code",
   "execution_count": null,
   "id": "a222ab28",
   "metadata": {},
   "outputs": [],
   "source": [
    "from copy import deepcopy\n",
    "import numpy as np\n",
    "from neuropy.utils.mixins.binning_helpers import transition_matrix\n",
    "\n",
    "### 1D Transition Matrix:\n",
    "\n",
    "def _compute_position_transition_matrix(xbin_labels, binned_x: np.ndarray, n_powers:int=3):\n",
    "\t\"\"\"  1D Transition Matrix from binned positions (e.g. 'binned_x')\n",
    "\n",
    "\t\tpf1D.xbin_labels # array([  1,   2,   3,   4,  ...)\n",
    "\t\tpf1D.filtered_pos_df['binned_x'].to_numpy() # array([116, 115, 115, ...,  93,  93,  93], dtype=int64)\n",
    "\t\"\"\"\n",
    "\tnum_position_states = len(xbin_labels)\n",
    "\t# binned_x = pos_1D.to_numpy()\n",
    "\tbinned_x_indicies = binned_x - 1\n",
    "\tbinned_x_transition_matrix = transition_matrix(deepcopy(binned_x_indicies), markov_order=1, max_state_index=num_position_states)\n",
    "\t# binned_x_transition_matrix_higher_order_list = [binned_x_transition_matrix, transition_matrix(deepcopy(binned_x_indicies), markov_order=2, max_state_index=num_position_states), transition_matrix(deepcopy(binned_x_indicies), markov_order=3, max_state_index=num_position_states)]\n",
    "\n",
    "\tbinned_x_transition_matrix[np.isnan(binned_x_transition_matrix)] = 0.0\n",
    "\tbinned_x_transition_matrix_higher_order_list = [binned_x_transition_matrix] + [np.linalg.matrix_power(binned_x_transition_matrix, n) for n in np.arange(2, n_powers+1)]\n",
    "\t# , np.linalg.matrix_power(binned_x_transition_matrix, 2), np.linalg.matrix_power(binned_x_transition_matrix, 3)\n",
    "\t# binned_x_transition_matrix.shape # (64, 64)\n",
    "\treturn binned_x_transition_matrix_higher_order_list\n",
    "\n",
    "def _build_decoded_positions_transition_matrix(active_one_step_decoder):\n",
    "\t\"\"\" Compute the transition_matrix from the decoded positions \n",
    "\n",
    "\tTODO: make sure that separate events (e.g. separate replays) are not truncated creating erronious transitions\n",
    "\n",
    "\t\"\"\"\n",
    "\t# active_time_window_variable = active_one_step_decoder.time_window_centers # get time window centers (n_time_window_centers,) # (4060,)\n",
    "\t# active_most_likely_positions = active_one_step_decoder.most_likely_positions.T # (4060, 2) NOTE: the most_likely_positions for the active_one_step_decoder are tranposed compared to the active_two_step_decoder\n",
    "\t# active_most_likely_positions = active_two_step_decoder.most_likely_positions # (2, 4060)\n",
    "\tactive_one_step_decoder.most_likely_position_flat_indicies\n",
    "\t# active_most_likely_positions = active_one_step_decoder.revised_most_likely_positions.T\n",
    "\t# active_most_likely_positions #.shape # (36246,)\n",
    "\n",
    "\tmost_likely_position_indicies = np.squeeze(np.array(np.unravel_index(active_one_step_decoder.most_likely_position_flat_indicies, active_one_step_decoder.original_position_data_shape))) # convert back to an array\n",
    "\tmost_likely_position_xbins = most_likely_position_indicies + 1 # add 1 to convert back to a bin label from an index\n",
    "\t# most_likely_position_indicies # (1, 36246)\n",
    "\n",
    "\txbin_labels = np.arange(active_one_step_decoder.original_position_data_shape[0]) + 1\n",
    "\n",
    "\tdecoded_binned_x_transition_matrix_higher_order_list = _compute_position_transition_matrix(xbin_labels, most_likely_position_indicies)\n",
    "\treturn decoded_binned_x_transition_matrix_higher_order_list, xbin_labels\n",
    "\n",
    "\n",
    "# pf1D = deepcopy(curr_active_pipeline.computation_results['maze1'].computed_data['pf1D'])\n",
    "pf1D = deepcopy(global_pf1D)\n",
    "# pf1D = deepcopy(short_pf1D)\n",
    "# pf1D = deepcopy(long_pf1D)\n",
    "binned_x_transition_matrix_higher_order_list = _compute_position_transition_matrix(pf1D.xbin_labels, pf1D.filtered_pos_df['binned_x'].to_numpy())"
   ]
  },
  {
   "cell_type": "code",
   "execution_count": null,
   "id": "4dec59e9",
   "metadata": {},
   "outputs": [],
   "source": [
    "pf1D.filtered_pos_df.plot(x='t',y='x')"
   ]
  },
  {
   "cell_type": "code",
   "execution_count": null,
   "id": "fb355dd7",
   "metadata": {},
   "outputs": [],
   "source": [
    "# Visualization ______________________________________________________________________________________________________ #\n",
    "from pyphoplacecellanalysis.GUI.PyQtPlot.BinnedImageRenderingWindow import BasicBinnedImageRenderingWindow, LayoutScrollability\n",
    "out = BasicBinnedImageRenderingWindow(binned_x_transition_matrix_higher_order_list[0], pf1D.xbin_labels, pf1D.xbin_labels, name='binned_x_transition_matrix', title=\"Transition Matrix for binned x (from, to)\", variable_label='Transition Matrix', scrollability_mode=LayoutScrollability.NON_SCROLLABLE)\n",
    "# out.add_data(row=1, col=0, matrix=active_eloy_analysis.pf_overlapDensity_2D, xbins=active_pf_2D_dt.xbin_labels, ybins=active_pf_2D_dt.ybin_labels, name='pf_overlapDensity', title='pf overlapDensity metric', variable_label='pf overlapDensity')\n",
    "\n",
    "# out.add_data(row=1, col=0, matrix=binned_x_transition_matrix_higher_order_list[1], xbins=pf1D.xbin_labels, ybins=pf1D.ybin_labels, name='binned_x_transition_matrix^2', title='2nd Order Transition Matrix for binned x (from, to)', variable_label='2nd Order Transition Matrix') # , scrollability_mode=LayoutScrollability.NON_SCROLLABLE\n",
    "# out.add_data(row=2, col=0, matrix=binned_x_transition_matrix_higher_order_list[2], xbins=pf1D.xbin_labels, ybins=pf1D.ybin_labels, name='binned_x_transition_matrix^3', title='3rd Order Transition Matrix for binned x (from, to)', variable_label='3rd Order Transition Matrix') # , scrollability_mode=LayoutScrollability.NON_SCROLLABLE\n",
    "\n",
    "# Separate Windows for each:\n",
    "# out2 = BasicBinnedImageRenderingWindow(binned_x_transition_matrix_higher_order_list[1], pf1D.xbin_labels, pf1D.xbin_labels, name='binned_x_transition_matrix^2', title=\"2nd Order Transition Matrix for binned x (from, to)\", variable_label='2nd Order Transition Matrix', scrollability_mode=LayoutScrollability.NON_SCROLLABLE)\n",
    "# out3 = BasicBinnedImageRenderingWindow(binned_x_transition_matrix_higher_order_list[2], pf1D.xbin_labels, pf1D.xbin_labels, name='binned_x_transition_matrix^3', title=\"3rd Order Transition Matrix for binned x (from, to)\", variable_label='3rd Order Transition Matrix', scrollability_mode=LayoutScrollability.NON_SCROLLABLE)"
   ]
  },
  {
   "cell_type": "markdown",
   "id": "990e5f54",
   "metadata": {},
   "source": [
    "# 1. Compute the transition_matrix from the decoded positions\n"
   ]
  },
  {
   "cell_type": "code",
   "execution_count": null,
   "id": "a8e5db7e",
   "metadata": {},
   "outputs": [],
   "source": [
    "# BayesianPlacemapPositionDecoder\n",
    "# active_one_step_decoder = deepcopy(long_one_step_decoder_1D) # long_results_obj.original_1D_decoder\n",
    "long_decoded_binned_x_transition_matrix_higher_order_list, long_xbin_labels = _build_decoded_positions_transition_matrix(active_one_step_decoder=deepcopy(long_one_step_decoder_1D))\n",
    "short_decoded_binned_x_transition_matrix_higher_order_list, short_xbin_labels = _build_decoded_positions_transition_matrix(active_one_step_decoder=deepcopy(short_one_step_decoder_1D))\n"
   ]
  },
  {
   "cell_type": "code",
   "execution_count": null,
   "id": "3dcddd64",
   "metadata": {},
   "outputs": [],
   "source": [
    "out_decoded = BasicBinnedImageRenderingWindow(decoded_binned_x_transition_matrix_higher_order_list[0], active_one_step_decoder.xbin_centers, active_one_step_decoder.xbin_centers, name='decoded_binned_x_transition_matrix', title=\"DECODED Transition Matrix for binned x (from, to)\", variable_label='Transition Matrix', scrollability_mode=LayoutScrollability.NON_SCROLLABLE)\n"
   ]
  },
  {
   "cell_type": "code",
   "execution_count": null,
   "id": "9ea34522",
   "metadata": {},
   "outputs": [],
   "source": [
    "i = 0\n",
    "out = BasicBinnedImageRenderingWindow(binned_x_transition_matrix_higher_order_list[i], pf1D.xbin_labels, pf1D.xbin_labels, name='binned_x_transition_matrix', title=\"Transition Matrix for binned x (from, to)\", variable_label='Transition Matrix', scrollability_mode=LayoutScrollability.NON_SCROLLABLE)\n",
    "out.add_data(row=1, col=0, matrix=long_decoded_binned_x_transition_matrix_higher_order_list[i], xbins=long_xbin_labels, ybins=long_xbin_labels, name='long_decoded_binned_x_transition_matrix', title='Long DECODED Transition Matrix', variable_label='long decoded')\n",
    "out.add_data(row=2, col=0, matrix=short_decoded_binned_x_transition_matrix_higher_order_list[i], xbins=short_xbin_labels, ybins=short_xbin_labels, name='short_decoded_binned_x_transition_matrix', title='Short DECODED Transition Matrix', variable_label='short decoded')\n",
    "# out.add_data(row=1, col=0, matrix=binned_x_transition_matrix_higher_order_list[1], xbins=pf1D.xbin_labels, ybins=pf1D.ybin_labels, name='binned_x_transition_matrix^2', title='2nd Order Transition Matrix for binned x (from, to)', variable_label='2nd Order Transition Matrix') # , scrollability_mode=LayoutScrollability.NON_SCROLLABLE\n",
    "# out.add_data(row=2, col=0, matrix=binned_x_transition_matrix_higher_order_list[2], xbins=pf1D.xbin_labels, ybins=pf1D.ybin_labels, name='binned_x_transition_matrix^3', title='3rd Order Transition Matrix for binned x (from, to)', variable_label='3rd Order Transition Matrix') # , scrollability_mode=LayoutScrollability.NON_SCROLLABLE\n"
   ]
  },
  {
   "cell_type": "code",
   "execution_count": null,
   "id": "23fb7eb3",
   "metadata": {},
   "outputs": [],
   "source": [
    "active_one_step_decoder.most_likely_position_indicies"
   ]
  },
  {
   "cell_type": "code",
   "execution_count": null,
   "id": "93a8f4b5",
   "metadata": {},
   "outputs": [],
   "source": [
    "\n",
    "## 2. Use the position transition matrix to determine how likely each decoded position's transition is"
   ]
  },
  {
   "cell_type": "code",
   "execution_count": null,
   "id": "a87cd169",
   "metadata": {},
   "outputs": [],
   "source": [
    "time_binned_instantaneous_unit_specific_spike_rate = curr_active_pipeline.global_computation_results.computed_data.jonathan_firing_rate_analysis.time_binned_instantaneous_unit_specific_spike_rate\n",
    "timestamps = time_binned_instantaneous_unit_specific_spike_rate.time_bins\n",
    "\n",
    "value_df = time_binned_instantaneous_unit_specific_spike_rate.instantaneous_unit_specific_spike_rate_values\n",
    "value_df"
   ]
  },
  {
   "cell_type": "code",
   "execution_count": null,
   "id": "d0807be0",
   "metadata": {},
   "outputs": [],
   "source": [
    "# Number of spikes version:\n",
    "time_binned_unit_specific_spike_rate = curr_active_pipeline.global_computation_results.computed_data.jonathan_firing_rate_analysis.time_binned_unit_specific_spike_rate\n",
    "timestamps = time_binned_unit_specific_spike_rate.time_bins\n",
    "value_df = time_binned_unit_specific_spike_rate.time_binned_unit_specific_binned_spike_rate\n",
    "value_df"
   ]
  }
 ],
 "metadata": {
  "kernelspec": {
   "display_name": "Python 3 (ipykernel)",
   "language": "python",
   "name": "python3"
  },
  "language_info": {
   "codemirror_mode": {
    "name": "ipython",
    "version": 3
   },
   "file_extension": ".py",
   "mimetype": "text/x-python",
   "name": "python",
   "nbconvert_exporter": "python",
   "pygments_lexer": "ipython3",
   "version": "3.9.13"
  },
  "polyglot_notebook": {
   "kernelInfo": {
    "defaultKernelName": "csharp",
    "items": [
     {
      "aliases": [],
      "name": "csharp"
     }
    ]
   }
  },
  "toc-showmarkdowntxt": false,
  "toc-showtags": false
 },
 "nbformat": 4,
 "nbformat_minor": 5
}
