{
 "cells": [
  {
   "cell_type": "code",
   "execution_count": 1,
   "id": "initial_id",
   "metadata": {
    "ExecuteTime": {
     "end_time": "2023-11-16T23:21:20.608442900Z",
     "start_time": "2023-11-16T23:21:20.217442100Z"
    },
    "collapsed": true,
    "notebookRunGroups": {
     "groupValue": "1"
    }
   },
   "outputs": [
    {
     "name": "stdout",
     "output_type": "stream",
     "text": [
      "Automatic pdb calling has been turned OFF\n",
      "doc_output_parent_folder: C:\\Users\\pho\\repos\\Spike3DWorkEnv\\Spike3D\\EXTERNAL\\DEVELOPER_NOTES\\DataStructureDocumentation\n",
      "build_module_logger(module_name=\"Spike3D.pipeline\"):\n",
      "\t Module logger com.PhoHale.Spike3D.pipeline has file logging enabled and will log to EXTERNAL\\TESTING\\Logging\\debug_com.PhoHale.Spike3D.pipeline.log\n",
      "DAY_DATE_STR: 2024-03-29, DAY_DATE_TO_USE: 2024-03-29\n",
      "NOW_DATETIME: 2024-03-29_0720AM, NOW_DATETIME_TO_USE: 2024-03-29_0720AM\n",
      "global_data_root_parent_path changed to W:\\Data\n"
     ]
    },
    {
     "data": {
      "application/vnd.jupyter.widget-view+json": {
       "model_id": "0e5a6624719c42fdba151a2e19a8d270",
       "version_major": 2,
       "version_minor": 0
      },
      "text/plain": [
       "ToggleButtons(description='Data Root:', layout=Layout(width='auto'), options=(WindowsPath('W:/Data'),), style=ToggleButtonsStyle(button_width='max-content'), tooltip='global_data_root_parent_path', value=WindowsPath('W:/Data'))"
      ]
     },
     "execution_count": 1,
     "metadata": {},
     "output_type": "execute_result"
    }
   ],
   "source": [
    "%config IPCompleter.use_jedi = False\n",
    "# %xmode Verbose\n",
    "# %xmode context\n",
    "%pdb off\n",
    "%load_ext viztracer\n",
    "from viztracer import VizTracer\n",
    "%load_ext autoreload\n",
    "%autoreload 3\n",
    "import sys\n",
    "from pathlib import Path\n",
    "\n",
    "# required to enable non-blocking interaction:\n",
    "%gui qt5\n",
    "\n",
    "from copy import deepcopy\n",
    "from numba import jit\n",
    "import numpy as np\n",
    "import pandas as pd\n",
    "pd.options.mode.chained_assignment = None  # default='warn'\n",
    "# pd.options.mode.dtype_backend = 'pyarrow' # use new pyarrow backend instead of numpy\n",
    "from attrs import define, field, fields, Factory\n",
    "import tables as tb\n",
    "from datetime import datetime, timedelta\n",
    "\n",
    "# Pho's Formatting Preferences\n",
    "import builtins\n",
    "\n",
    "import IPython\n",
    "from IPython.core.formatters import PlainTextFormatter\n",
    "from IPython import get_ipython\n",
    "\n",
    "from pyphocorehelpers.preferences_helpers import set_pho_preferences, set_pho_preferences_concise, set_pho_preferences_verbose\n",
    "set_pho_preferences_concise()\n",
    "# Jupyter-lab enable printing for any line on its own (instead of just the last one in the cell)\n",
    "from IPython.core.interactiveshell import InteractiveShell\n",
    "InteractiveShell.ast_node_interactivity = \"all\"\n",
    "\n",
    "# BEGIN PPRINT CUSTOMIZATION ___________________________________________________________________________________________ #\n",
    "\n",
    "\n",
    "## IPython pprint\n",
    "from pyphocorehelpers.pprint import wide_pprint, wide_pprint_ipython, wide_pprint_jupyter, MAX_LINE_LENGTH\n",
    "\n",
    "# Override default pprint\n",
    "builtins.pprint = wide_pprint\n",
    "\n",
    "text_formatter: PlainTextFormatter = IPython.get_ipython().display_formatter.formatters['text/plain']\n",
    "text_formatter.max_width = MAX_LINE_LENGTH\n",
    "text_formatter.for_type(object, wide_pprint_jupyter)\n",
    "\n",
    "\n",
    "# END PPRINT CUSTOMIZATION ___________________________________________________________________________________________ #\n",
    "\n",
    "from pyphocorehelpers.print_helpers import get_now_time_str, get_now_day_str\n",
    "\n",
    "## Pho's Custom Libraries:\n",
    "from pyphocorehelpers.Filesystem.path_helpers import find_first_extant_path, file_uri_from_path\n",
    "from pyphocorehelpers.Filesystem.open_in_system_file_manager import reveal_in_system_file_manager\n",
    "import pyphocorehelpers.programming_helpers as programming_helpers\n",
    "\n",
    "# NeuroPy (Diba Lab Python Repo) Loading\n",
    "# from neuropy import core\n",
    "from typing import Dict, List, Tuple, Optional, Callable, Union, Any\n",
    "from typing_extensions import TypeAlias\n",
    "from nptyping import NDArray\n",
    "import neuropy.utils.type_aliases as types\n",
    "\n",
    "from neuropy.analyses.placefields import PlacefieldComputationParameters\n",
    "from neuropy.core.epoch import NamedTimerange, Epoch\n",
    "from neuropy.core.ratemap import Ratemap\n",
    "from neuropy.core.session.Formats.BaseDataSessionFormats import DataSessionFormatRegistryHolder\n",
    "from neuropy.core.session.Formats.Specific.KDibaOldDataSessionFormat import KDibaOldDataSessionFormatRegisteredClass\n",
    "from neuropy.utils.matplotlib_helpers import matplotlib_file_only, matplotlib_configuration, matplotlib_configuration_update\n",
    "from neuropy.core.neuron_identities import NeuronIdentityTable, neuronTypesList, neuronTypesEnum\n",
    "from neuropy.utils.mixins.AttrsClassHelpers import AttrsBasedClassHelperMixin, serialized_field, serialized_attribute_field, non_serialized_field, custom_define\n",
    "from neuropy.utils.mixins.HDF5_representable import HDF_DeserializationMixin, post_deserialize, HDF_SerializationMixin, HDFMixin, HDF_Converter\n",
    "\n",
    "## For computation parameters:\n",
    "from neuropy.analyses.placefields import PlacefieldComputationParameters\n",
    "from neuropy.utils.dynamic_container import DynamicContainer\n",
    "from neuropy.utils.result_context import IdentifyingContext\n",
    "from neuropy.core.session.Formats.BaseDataSessionFormats import find_local_session_paths\n",
    "from neuropy.core.neurons import NeuronType\n",
    "from neuropy.core.user_annotations import UserAnnotationsManager\n",
    "from neuropy.core.position import Position\n",
    "from neuropy.core.session.dataSession import DataSession\n",
    "from neuropy.analyses.time_dependent_placefields import PfND_TimeDependent, PlacefieldSnapshot\n",
    "from neuropy.utils.debug_helpers import debug_print_placefield, debug_print_subsession_neuron_differences, debug_print_ratemap, debug_print_spike_counts, debug_plot_2d_binning, print_aligned_columns, parameter_sweeps, _plot_parameter_sweep, compare_placefields_info\n",
    "from neuropy.utils.indexing_helpers import NumpyHelpers, union_of_arrays, intersection_of_arrays, find_desired_sort_indicies, paired_incremental_sorting\n",
    "from pyphocorehelpers.print_helpers import print_object_memory_usage, print_dataframe_memory_usage, print_value_overview_only, DocumentationFilePrinter, print_keys_if_possible, generate_html_string, document_active_variables\n",
    "\n",
    "## Pho Programming Helpers:\n",
    "import inspect\n",
    "from pyphocorehelpers.print_helpers import DocumentationFilePrinter, TypePrintMode, print_keys_if_possible, debug_dump_object_member_shapes, print_value_overview_only, document_active_variables\n",
    "from pyphocorehelpers.programming_helpers import IPythonHelpers, PythonDictionaryDefinitionFormat, MemoryManagement, inspect_callable_arguments, get_arguments_as_optional_dict, GeneratedClassDefinitionType, CodeConversion\n",
    "from pyphocorehelpers.gui.Qt.TopLevelWindowHelper import TopLevelWindowHelper, print_widget_hierarchy\n",
    "from pyphocorehelpers.indexing_helpers import reorder_columns, reorder_columns_relative, dict_to_full_array\n",
    "doc_output_parent_folder: Path = Path('EXTERNAL/DEVELOPER_NOTES/DataStructureDocumentation').resolve() # ../.\n",
    "print(f\"doc_output_parent_folder: {doc_output_parent_folder}\")\n",
    "assert doc_output_parent_folder.exists()\n",
    "\n",
    "# pyPhoPlaceCellAnalysis:\n",
    "from pyphoplacecellanalysis.General.Pipeline.NeuropyPipeline import NeuropyPipeline # get_neuron_identities\n",
    "from pyphoplacecellanalysis.General.Mixins.ExportHelpers import export_pyqtgraph_plot\n",
    "from pyphoplacecellanalysis.General.Batch.NonInteractiveProcessing import batch_load_session, batch_extended_computations, batch_extended_programmatic_figures\n",
    "from pyphoplacecellanalysis.General.Pipeline.NeuropyPipeline import PipelineSavingScheme\n",
    "\n",
    "import pyphoplacecellanalysis.External.pyqtgraph as pg\n",
    "\n",
    "from pyphoplacecellanalysis.General.Batch.NonInteractiveProcessing import batch_perform_all_plots\n",
    "from pyphoplacecellanalysis.General.Pipeline.Stages.ComputationFunctions.MultiContextComputationFunctions.LongShortTrackComputations import JonathanFiringRateAnalysisResult\n",
    "from pyphoplacecellanalysis.General.Mixins.CrossComputationComparisonHelpers import _find_any_context_neurons\n",
    "from pyphoplacecellanalysis.General.Batch.runBatch import BatchSessionCompletionHandler # for `post_compute_validate(...)`\n",
    "from pyphoplacecellanalysis.Analysis.Decoder.reconstruction import BasePositionDecoder\n",
    "from pyphoplacecellanalysis.SpecificResults.AcrossSessionResults import AcrossSessionsResults\n",
    "from pyphoplacecellanalysis.General.Pipeline.Stages.ComputationFunctions.SpikeAnalysis import SpikeRateTrends # for `_perform_long_short_instantaneous_spike_rate_groups_analysis`\n",
    "from pyphoplacecellanalysis.General.Pipeline.Stages.ComputationFunctions.MultiContextComputationFunctions.LongShortTrackComputations import SingleBarResult, InstantaneousSpikeRateGroupsComputation, TruncationCheckingResults # for `BatchSessionCompletionHandler`, `AcrossSessionsAggregator`\n",
    "from pyphoplacecellanalysis.General.Mixins.CrossComputationComparisonHelpers import SplitPartitionMembership\n",
    "from pyphoplacecellanalysis.General.Pipeline.Stages.ComputationFunctions.MultiContextComputationFunctions.DirectionalPlacefieldGlobalComputationFunctions import DirectionalPlacefieldGlobalComputationFunctions, DirectionalLapsResult, TrackTemplates, DecoderDecodedEpochsResult\n",
    "from pyphoplacecellanalysis.General.Pipeline.Stages.ComputationFunctions.MultiContextComputationFunctions.RankOrderComputations import RankOrderGlobalComputationFunctions,  RankOrderComputationsContainer, RankOrderResult, RankOrderAnalyses\n",
    "from pyphoplacecellanalysis.General.Pipeline.Stages.ComputationFunctions.MultiContextComputationFunctions.DirectionalPlacefieldGlobalComputationFunctions import TrackTemplates\n",
    "\n",
    "# Plotting\n",
    "# import pylustrator # customization of figures\n",
    "import matplotlib\n",
    "import matplotlib as mpl\n",
    "import matplotlib.pyplot as plt\n",
    "_bak_rcParams = mpl.rcParams.copy()\n",
    "\n",
    "matplotlib.use('Qt5Agg')\n",
    "# %matplotlib inline\n",
    "# %matplotlib auto\n",
    "\n",
    "# _restore_previous_matplotlib_settings_callback = matplotlib_configuration_update(is_interactive=True, backend='Qt5Agg')\n",
    "_restore_previous_matplotlib_settings_callback = matplotlib_configuration_update(is_interactive=True, backend='Qt5Agg')\n",
    "\n",
    "# import pylustrator # call `pylustrator.start()` before creating your first figure in code.\n",
    "from pyphoplacecellanalysis.Pho2D.matplotlib.visualize_heatmap import visualize_heatmap\n",
    "from pyphoplacecellanalysis.Pho2D.matplotlib.visualize_heatmap import visualize_heatmap_pyqtgraph # used in `plot_kourosh_activity_style_figure`\n",
    "from pyphoplacecellanalysis.General.Pipeline.Stages.DisplayFunctions.SpikeRasters import plot_multiple_raster_plot, plot_raster_plot\n",
    "from pyphoplacecellanalysis.General.Mixins.DataSeriesColorHelpers import UnitColoringMode, DataSeriesColorHelpers\n",
    "from pyphoplacecellanalysis.General.Pipeline.Stages.DisplayFunctions.SpikeRasters import _build_default_tick, build_scatter_plot_kwargs\n",
    "from pyphoplacecellanalysis.GUI.PyQtPlot.Widgets.Mixins.Render2DScrollWindowPlot import Render2DScrollWindowPlotMixin, ScatterItemData\n",
    "from pyphoplacecellanalysis.General.Batch.NonInteractiveProcessing import batch_extended_programmatic_figures, batch_programmatic_figures\n",
    "from pyphoplacecellanalysis.General.Pipeline.Stages.ComputationFunctions.SpikeAnalysis import SpikeRateTrends\n",
    "from pyphoplacecellanalysis.General.Mixins.SpikesRenderingBaseMixin import SpikeEmphasisState\n",
    "\n",
    "from pyphoplacecellanalysis.SpecificResults.PhoDiba2023Paper import PAPER_FIGURE_figure_1_add_replay_epoch_rasters, PAPER_FIGURE_figure_1_full, PAPER_FIGURE_figure_3, main_complete_figure_generations\n",
    "from pyphoplacecellanalysis.SpecificResults.fourthYearPresentation import *\n",
    "\n",
    "# Jupyter Widget Interactive\n",
    "import ipywidgets as widgets\n",
    "from IPython.display import display, HTML\n",
    "from pyphocorehelpers.Filesystem.open_in_system_file_manager import reveal_in_system_file_manager\n",
    "from pyphoplacecellanalysis.GUI.IPyWidgets.pipeline_ipywidgets import interactive_pipeline_widget, interactive_pipeline_files\n",
    "from pyphocorehelpers.gui.Jupyter.simple_widgets import fullwidth_path_widget, render_colors\n",
    "\n",
    "from datetime import datetime, date, timedelta\n",
    "from pyphocorehelpers.print_helpers import get_now_day_str, get_now_rounded_time_str\n",
    "\n",
    "DAY_DATE_STR: str = date.today().strftime(\"%Y-%m-%d\")\n",
    "DAY_DATE_TO_USE = f'{DAY_DATE_STR}' # used for filenames throught the notebook\n",
    "print(f'DAY_DATE_STR: {DAY_DATE_STR}, DAY_DATE_TO_USE: {DAY_DATE_TO_USE}')\n",
    "\n",
    "NOW_DATETIME: str = get_now_rounded_time_str()\n",
    "NOW_DATETIME_TO_USE = f'{NOW_DATETIME}' # used for filenames throught the notebook\n",
    "print(f'NOW_DATETIME: {NOW_DATETIME}, NOW_DATETIME_TO_USE: {NOW_DATETIME_TO_USE}')\n",
    "\n",
    "from pyphocorehelpers.gui.Jupyter.simple_widgets import build_global_data_root_parent_path_selection_widget\n",
    "all_paths = [Path(r'/media/MAX/Data'), Path(r'/media/halechr/MAX/Data'), Path(r'/home/halechr/FastData'), Path(r'W:\\Data'), Path(r'/home/halechr/cloud/turbo/Data'), Path(r'/Volumes/MoverNew/data'), Path(r'/home/halechr/turbo/Data')]\n",
    "global_data_root_parent_path = None\n",
    "def on_user_update_path_selection(new_path: Path):\n",
    "\tglobal global_data_root_parent_path\n",
    "\tnew_global_data_root_parent_path = new_path.resolve()\n",
    "\tglobal_data_root_parent_path = new_global_data_root_parent_path\n",
    "\tprint(f'global_data_root_parent_path changed to {global_data_root_parent_path}')\n",
    "\tassert global_data_root_parent_path.exists(), f\"global_data_root_parent_path: {global_data_root_parent_path} does not exist! Is the right computer's config commented out above?\"\n",
    "\t\t\t\n",
    "global_data_root_parent_path_widget = build_global_data_root_parent_path_selection_widget(all_paths, on_user_update_path_selection)\n",
    "global_data_root_parent_path_widget"
   ]
  },
  {
   "cell_type": "markdown",
   "id": "30db844b",
   "metadata": {},
   "source": [
    "# Load Pipeline"
   ]
  },
  {
   "cell_type": "code",
   "execution_count": 2,
   "id": "7f07773d",
   "metadata": {
    "notebookRunGroups": {
     "groupValue": "1"
    }
   },
   "outputs": [
    {
     "name": "stdout",
     "output_type": "stream",
     "text": [
      "basedir: W:\\Data\\KDIBA\\gor01\\one\\2006-6-12_15-55-31\n",
      "Loading loaded session pickle file results : W:\\Data\\KDIBA\\gor01\\one\\2006-6-12_15-55-31\\loadedSessPickle.pkl... "
     ]
    },
    {
     "name": "stderr",
     "output_type": "stream",
     "text": [
      "INFO:com.PhoHale.Spike3D.pipeline:NeuropyPipeline.__setstate__(state=\"{'pipeline_name': 'kdiba_pipeline', 'session_data_type': 'kdiba', '_stage': <pyphoplacecellanalysis.General.Pipeline.Stages.Display.DisplayPipelineStage object at 0x0000025917108220>}\")\n",
      "INFO:com.PhoHale.Spike3D.pipeline:select_filters(...) with: []\n",
      "INFO:com.PhoHale.Spike3D.pipeline:Performing perform_action_for_all_contexts with action EvaluationActions.EVALUATE_COMPUTATIONS on filtered_session with filter named \"maze1_odd\"...\n",
      "INFO:com.PhoHale.Spike3D.pipeline:WARNING: skipping computation because overwrite_extant_results=False and active_computation_results[maze1_odd] already exists and is non-None\n",
      "INFO:com.PhoHale.Spike3D.pipeline:\t TODO: this will prevent recomputation even when the excludelist/includelist or computation function definitions change. Rework so that this is smarter.\n",
      "INFO:com.PhoHale.Spike3D.pipeline:Performing perform_action_for_all_contexts with action EvaluationActions.EVALUATE_COMPUTATIONS on filtered_session with filter named \"maze2_odd\"...\n",
      "INFO:com.PhoHale.Spike3D.pipeline:WARNING: skipping computation because overwrite_extant_results=False and active_computation_results[maze2_odd] already exists and is non-None\n",
      "INFO:com.PhoHale.Spike3D.pipeline:\t TODO: this will prevent recomputation even when the excludelist/includelist or computation function definitions change. Rework so that this is smarter.\n",
      "INFO:com.PhoHale.Spike3D.pipeline:Performing perform_action_for_all_contexts with action EvaluationActions.EVALUATE_COMPUTATIONS on filtered_session with filter named \"maze_odd\"...\n",
      "INFO:com.PhoHale.Spike3D.pipeline:WARNING: skipping computation because overwrite_extant_results=False and active_computation_results[maze_odd] already exists and is non-None\n",
      "INFO:com.PhoHale.Spike3D.pipeline:\t TODO: this will prevent recomputation even when the excludelist/includelist or computation function definitions change. Rework so that this is smarter.\n",
      "INFO:com.PhoHale.Spike3D.pipeline:Performing perform_action_for_all_contexts with action EvaluationActions.EVALUATE_COMPUTATIONS on filtered_session with filter named \"maze1_even\"...\n",
      "INFO:com.PhoHale.Spike3D.pipeline:WARNING: skipping computation because overwrite_extant_results=False and active_computation_results[maze1_even] already exists and is non-None\n",
      "INFO:com.PhoHale.Spike3D.pipeline:\t TODO: this will prevent recomputation even when the excludelist/includelist or computation function definitions change. Rework so that this is smarter.\n",
      "INFO:com.PhoHale.Spike3D.pipeline:Performing perform_action_for_all_contexts with action EvaluationActions.EVALUATE_COMPUTATIONS on filtered_session with filter named \"maze2_even\"...\n",
      "INFO:com.PhoHale.Spike3D.pipeline:WARNING: skipping computation because overwrite_extant_results=False and active_computation_results[maze2_even] already exists and is non-None\n",
      "INFO:com.PhoHale.Spike3D.pipeline:\t TODO: this will prevent recomputation even when the excludelist/includelist or computation function definitions change. Rework so that this is smarter.\n",
      "INFO:com.PhoHale.Spike3D.pipeline:Performing perform_action_for_all_contexts with action EvaluationActions.EVALUATE_COMPUTATIONS on filtered_session with filter named \"maze_even\"...\n",
      "INFO:com.PhoHale.Spike3D.pipeline:WARNING: skipping computation because overwrite_extant_results=False and active_computation_results[maze_even] already exists and is non-None\n",
      "INFO:com.PhoHale.Spike3D.pipeline:\t TODO: this will prevent recomputation even when the excludelist/includelist or computation function definitions change. Rework so that this is smarter.\n",
      "INFO:com.PhoHale.Spike3D.pipeline:Performing perform_action_for_all_contexts with action EvaluationActions.EVALUATE_COMPUTATIONS on filtered_session with filter named \"maze1_any\"...\n",
      "INFO:com.PhoHale.Spike3D.pipeline:WARNING: skipping computation because overwrite_extant_results=False and active_computation_results[maze1_any] already exists and is non-None\n",
      "INFO:com.PhoHale.Spike3D.pipeline:\t TODO: this will prevent recomputation even when the excludelist/includelist or computation function definitions change. Rework so that this is smarter.\n",
      "INFO:com.PhoHale.Spike3D.pipeline:Performing perform_action_for_all_contexts with action EvaluationActions.EVALUATE_COMPUTATIONS on filtered_session with filter named \"maze2_any\"...\n",
      "INFO:com.PhoHale.Spike3D.pipeline:WARNING: skipping computation because overwrite_extant_results=False and active_computation_results[maze2_any] already exists and is non-None\n",
      "INFO:com.PhoHale.Spike3D.pipeline:\t TODO: this will prevent recomputation even when the excludelist/includelist or computation function definitions change. Rework so that this is smarter.\n",
      "INFO:com.PhoHale.Spike3D.pipeline:Performing perform_action_for_all_contexts with action EvaluationActions.EVALUATE_COMPUTATIONS on filtered_session with filter named \"maze_any\"...\n",
      "INFO:com.PhoHale.Spike3D.pipeline:WARNING: skipping computation because overwrite_extant_results=False and active_computation_results[maze_any] already exists and is non-None\n",
      "INFO:com.PhoHale.Spike3D.pipeline:\t TODO: this will prevent recomputation even when the excludelist/includelist or computation function definitions change. Rework so that this is smarter.\n",
      "INFO:com.PhoHale.Spike3D.pipeline:Performing global computations...\n",
      "INFO:com.PhoHale.Spike3D.pipeline:select_filters(...) with: []\n",
      "INFO:com.PhoHale.Spike3D.pipeline:Performing perform_action_for_all_contexts with action EvaluationActions.EVALUATE_COMPUTATIONS on filtered_session with filter named \"maze1_odd\"...\n",
      "INFO:com.PhoHale.Spike3D.pipeline:WARNING: skipping computation because overwrite_extant_results=False and active_computation_results[maze1_odd] already exists and is non-None\n",
      "INFO:com.PhoHale.Spike3D.pipeline:\t TODO: this will prevent recomputation even when the excludelist/includelist or computation function definitions change. Rework so that this is smarter.\n",
      "INFO:com.PhoHale.Spike3D.pipeline:Performing perform_action_for_all_contexts with action EvaluationActions.EVALUATE_COMPUTATIONS on filtered_session with filter named \"maze2_odd\"...\n",
      "INFO:com.PhoHale.Spike3D.pipeline:WARNING: skipping computation because overwrite_extant_results=False and active_computation_results[maze2_odd] already exists and is non-None\n",
      "INFO:com.PhoHale.Spike3D.pipeline:\t TODO: this will prevent recomputation even when the excludelist/includelist or computation function definitions change. Rework so that this is smarter.\n",
      "INFO:com.PhoHale.Spike3D.pipeline:Performing perform_action_for_all_contexts with action EvaluationActions.EVALUATE_COMPUTATIONS on filtered_session with filter named \"maze_odd\"...\n",
      "INFO:com.PhoHale.Spike3D.pipeline:WARNING: skipping computation because overwrite_extant_results=False and active_computation_results[maze_odd] already exists and is non-None\n",
      "INFO:com.PhoHale.Spike3D.pipeline:\t TODO: this will prevent recomputation even when the excludelist/includelist or computation function definitions change. Rework so that this is smarter.\n",
      "INFO:com.PhoHale.Spike3D.pipeline:Performing perform_action_for_all_contexts with action EvaluationActions.EVALUATE_COMPUTATIONS on filtered_session with filter named \"maze1_even\"...\n",
      "INFO:com.PhoHale.Spike3D.pipeline:WARNING: skipping computation because overwrite_extant_results=False and active_computation_results[maze1_even] already exists and is non-None\n",
      "INFO:com.PhoHale.Spike3D.pipeline:\t TODO: this will prevent recomputation even when the excludelist/includelist or computation function definitions change. Rework so that this is smarter.\n",
      "INFO:com.PhoHale.Spike3D.pipeline:Performing perform_action_for_all_contexts with action EvaluationActions.EVALUATE_COMPUTATIONS on filtered_session with filter named \"maze2_even\"...\n",
      "INFO:com.PhoHale.Spike3D.pipeline:WARNING: skipping computation because overwrite_extant_results=False and active_computation_results[maze2_even] already exists and is non-None\n",
      "INFO:com.PhoHale.Spike3D.pipeline:\t TODO: this will prevent recomputation even when the excludelist/includelist or computation function definitions change. Rework so that this is smarter.\n",
      "INFO:com.PhoHale.Spike3D.pipeline:Performing perform_action_for_all_contexts with action EvaluationActions.EVALUATE_COMPUTATIONS on filtered_session with filter named \"maze_even\"...\n",
      "INFO:com.PhoHale.Spike3D.pipeline:WARNING: skipping computation because overwrite_extant_results=False and active_computation_results[maze_even] already exists and is non-None\n",
      "INFO:com.PhoHale.Spike3D.pipeline:\t TODO: this will prevent recomputation even when the excludelist/includelist or computation function definitions change. Rework so that this is smarter.\n",
      "INFO:com.PhoHale.Spike3D.pipeline:Performing perform_action_for_all_contexts with action EvaluationActions.EVALUATE_COMPUTATIONS on filtered_session with filter named \"maze1_any\"...\n",
      "INFO:com.PhoHale.Spike3D.pipeline:WARNING: skipping computation because overwrite_extant_results=False and active_computation_results[maze1_any] already exists and is non-None\n",
      "INFO:com.PhoHale.Spike3D.pipeline:\t TODO: this will prevent recomputation even when the excludelist/includelist or computation function definitions change. Rework so that this is smarter.\n",
      "INFO:com.PhoHale.Spike3D.pipeline:Performing perform_action_for_all_contexts with action EvaluationActions.EVALUATE_COMPUTATIONS on filtered_session with filter named \"maze2_any\"...\n",
      "INFO:com.PhoHale.Spike3D.pipeline:WARNING: skipping computation because overwrite_extant_results=False and active_computation_results[maze2_any] already exists and is non-None\n",
      "INFO:com.PhoHale.Spike3D.pipeline:\t TODO: this will prevent recomputation even when the excludelist/includelist or computation function definitions change. Rework so that this is smarter.\n",
      "INFO:com.PhoHale.Spike3D.pipeline:Performing perform_action_for_all_contexts with action EvaluationActions.EVALUATE_COMPUTATIONS on filtered_session with filter named \"maze_any\"...\n",
      "INFO:com.PhoHale.Spike3D.pipeline:WARNING: skipping computation because overwrite_extant_results=False and active_computation_results[maze_any] already exists and is non-None\n",
      "INFO:com.PhoHale.Spike3D.pipeline:\t TODO: this will prevent recomputation even when the excludelist/includelist or computation function definitions change. Rework so that this is smarter.\n",
      "INFO:com.PhoHale.Spike3D.pipeline:Performing global computations...\n",
      "INFO:com.PhoHale.Spike3D.pipeline:select_filters(...) with: []\n",
      "INFO:com.PhoHale.Spike3D.pipeline:Performing perform_action_for_all_contexts with action EvaluationActions.EVALUATE_COMPUTATIONS on filtered_session with filter named \"maze1_odd\"...\n",
      "INFO:com.PhoHale.Spike3D.pipeline:WARNING: skipping computation because overwrite_extant_results=False and active_computation_results[maze1_odd] already exists and is non-None\n",
      "INFO:com.PhoHale.Spike3D.pipeline:\t TODO: this will prevent recomputation even when the excludelist/includelist or computation function definitions change. Rework so that this is smarter.\n",
      "INFO:com.PhoHale.Spike3D.pipeline:Performing perform_action_for_all_contexts with action EvaluationActions.EVALUATE_COMPUTATIONS on filtered_session with filter named \"maze2_odd\"...\n",
      "INFO:com.PhoHale.Spike3D.pipeline:WARNING: skipping computation because overwrite_extant_results=False and active_computation_results[maze2_odd] already exists and is non-None\n",
      "INFO:com.PhoHale.Spike3D.pipeline:\t TODO: this will prevent recomputation even when the excludelist/includelist or computation function definitions change. Rework so that this is smarter.\n",
      "INFO:com.PhoHale.Spike3D.pipeline:Performing perform_action_for_all_contexts with action EvaluationActions.EVALUATE_COMPUTATIONS on filtered_session with filter named \"maze_odd\"...\n",
      "INFO:com.PhoHale.Spike3D.pipeline:WARNING: skipping computation because overwrite_extant_results=False and active_computation_results[maze_odd] already exists and is non-None\n",
      "INFO:com.PhoHale.Spike3D.pipeline:\t TODO: this will prevent recomputation even when the excludelist/includelist or computation function definitions change. Rework so that this is smarter.\n",
      "INFO:com.PhoHale.Spike3D.pipeline:Performing perform_action_for_all_contexts with action EvaluationActions.EVALUATE_COMPUTATIONS on filtered_session with filter named \"maze1_even\"...\n",
      "INFO:com.PhoHale.Spike3D.pipeline:WARNING: skipping computation because overwrite_extant_results=False and active_computation_results[maze1_even] already exists and is non-None\n",
      "INFO:com.PhoHale.Spike3D.pipeline:\t TODO: this will prevent recomputation even when the excludelist/includelist or computation function definitions change. Rework so that this is smarter.\n",
      "INFO:com.PhoHale.Spike3D.pipeline:Performing perform_action_for_all_contexts with action EvaluationActions.EVALUATE_COMPUTATIONS on filtered_session with filter named \"maze2_even\"...\n",
      "INFO:com.PhoHale.Spike3D.pipeline:WARNING: skipping computation because overwrite_extant_results=False and active_computation_results[maze2_even] already exists and is non-None\n",
      "INFO:com.PhoHale.Spike3D.pipeline:\t TODO: this will prevent recomputation even when the excludelist/includelist or computation function definitions change. Rework so that this is smarter.\n",
      "INFO:com.PhoHale.Spike3D.pipeline:Performing perform_action_for_all_contexts with action EvaluationActions.EVALUATE_COMPUTATIONS on filtered_session with filter named \"maze_even\"...\n",
      "INFO:com.PhoHale.Spike3D.pipeline:WARNING: skipping computation because overwrite_extant_results=False and active_computation_results[maze_even] already exists and is non-None\n",
      "INFO:com.PhoHale.Spike3D.pipeline:\t TODO: this will prevent recomputation even when the excludelist/includelist or computation function definitions change. Rework so that this is smarter.\n",
      "INFO:com.PhoHale.Spike3D.pipeline:Performing perform_action_for_all_contexts with action EvaluationActions.EVALUATE_COMPUTATIONS on filtered_session with filter named \"maze1_any\"...\n",
      "INFO:com.PhoHale.Spike3D.pipeline:WARNING: skipping computation because overwrite_extant_results=False and active_computation_results[maze1_any] already exists and is non-None\n",
      "INFO:com.PhoHale.Spike3D.pipeline:\t TODO: this will prevent recomputation even when the excludelist/includelist or computation function definitions change. Rework so that this is smarter.\n",
      "INFO:com.PhoHale.Spike3D.pipeline:Performing perform_action_for_all_contexts with action EvaluationActions.EVALUATE_COMPUTATIONS on filtered_session with filter named \"maze2_any\"...\n",
      "INFO:com.PhoHale.Spike3D.pipeline:WARNING: skipping computation because overwrite_extant_results=False and active_computation_results[maze2_any] already exists and is non-None\n",
      "INFO:com.PhoHale.Spike3D.pipeline:\t TODO: this will prevent recomputation even when the excludelist/includelist or computation function definitions change. Rework so that this is smarter.\n",
      "INFO:com.PhoHale.Spike3D.pipeline:Performing perform_action_for_all_contexts with action EvaluationActions.EVALUATE_COMPUTATIONS on filtered_session with filter named \"maze_any\"...\n",
      "INFO:com.PhoHale.Spike3D.pipeline:WARNING: skipping computation because overwrite_extant_results=False and active_computation_results[maze_any] already exists and is non-None\n"
     ]
    },
    {
     "name": "stdout",
     "output_type": "stream",
     "text": [
      "done.\n",
      "Loading pickled pipeline success: W:\\Data\\KDIBA\\gor01\\one\\2006-6-12_15-55-31\\loadedSessPickle.pkl.\n",
      "properties already present in pickled version. No need to save.\n",
      "pipeline load success!\n",
      "WARNING: No global_session or position passed, using old even/odd 'lap_dir' determination.\n",
      "using provided computation_functions_name_includelist: ['lap_direction_determination', 'pf_computation', 'firing_rate_trends', 'position_decoding']\n",
      "WARNING: skipping computation because overwrite_extant_results=False and active_computation_results[maze1_odd] already exists and is non-None\n",
      "\t TODO: this will prevent recomputation even when the excludelist/includelist or computation function definitions change. Rework so that this is smarter.\n",
      "WARNING: skipping computation because overwrite_extant_results=False and active_computation_results[maze2_odd] already exists and is non-None\n",
      "\t TODO: this will prevent recomputation even when the excludelist/includelist or computation function definitions change. Rework so that this is smarter.\n",
      "WARNING: skipping computation because overwrite_extant_results=False and active_computation_results[maze_odd] already exists and is non-None\n",
      "\t TODO: this will prevent recomputation even when the excludelist/includelist or computation function definitions change. Rework so that this is smarter.\n",
      "WARNING: skipping computation because overwrite_extant_results=False and active_computation_results[maze1_even] already exists and is non-None\n",
      "\t TODO: this will prevent recomputation even when the excludelist/includelist or computation function definitions change. Rework so that this is smarter.\n",
      "WARNING: skipping computation because overwrite_extant_results=False and active_computation_results[maze2_even] already exists and is non-None\n",
      "\t TODO: this will prevent recomputation even when the excludelist/includelist or computation function definitions change. Rework so that this is smarter.\n",
      "WARNING: skipping computation because overwrite_extant_results=False and active_computation_results[maze_even] already exists and is non-None\n",
      "\t TODO: this will prevent recomputation even when the excludelist/includelist or computation function definitions change. Rework so that this is smarter.\n",
      "WARNING: skipping computation because overwrite_extant_results=False and active_computation_results[maze1_any] already exists and is non-None\n",
      "\t TODO: this will prevent recomputation even when the excludelist/includelist or computation function definitions change. Rework so that this is smarter.\n",
      "WARNING: skipping computation because overwrite_extant_results=False and active_computation_results[maze2_any] already exists and is non-None\n",
      "\t TODO: this will prevent recomputation even when the excludelist/includelist or computation function definitions change. Rework so that this is smarter.\n",
      "WARNING: skipping computation because overwrite_extant_results=False and active_computation_results[maze_any] already exists and is non-None\n",
      "\t TODO: this will prevent recomputation even when the excludelist/includelist or computation function definitions change. Rework so that this is smarter.\n",
      "WARNING: skipping computation because overwrite_extant_results=False and active_computation_results[maze1_odd] already exists and is non-None\n",
      "\t TODO: this will prevent recomputation even when the excludelist/includelist or computation function definitions change. Rework so that this is smarter.\n",
      "WARNING: skipping computation because overwrite_extant_results=False and active_computation_results[maze2_odd] already exists and is non-None\n",
      "\t TODO: this will prevent recomputation even when the excludelist/includelist or computation function definitions change. Rework so that this is smarter.\n",
      "WARNING: skipping computation because overwrite_extant_results=False and active_computation_results[maze_odd] already exists and is non-None\n",
      "\t TODO: this will prevent recomputation even when the excludelist/includelist or computation function definitions change. Rework so that this is smarter.\n",
      "WARNING: skipping computation because overwrite_extant_results=False and active_computation_results[maze1_even] already exists and is non-None\n",
      "\t TODO: this will prevent recomputation even when the excludelist/includelist or computation function definitions change. Rework so that this is smarter.\n",
      "WARNING: skipping computation because overwrite_extant_results=False and active_computation_results[maze2_even] already exists and is non-None\n",
      "\t TODO: this will prevent recomputation even when the excludelist/includelist or computation function definitions change. Rework so that this is smarter.\n",
      "WARNING: skipping computation because overwrite_extant_results=False and active_computation_results[maze_even] already exists and is non-None\n",
      "\t TODO: this will prevent recomputation even when the excludelist/includelist or computation function definitions change. Rework so that this is smarter.\n",
      "WARNING: skipping computation because overwrite_extant_results=False and active_computation_results[maze1_any] already exists and is non-None\n",
      "\t TODO: this will prevent recomputation even when the excludelist/includelist or computation function definitions change. Rework so that this is smarter.\n",
      "WARNING: skipping computation because overwrite_extant_results=False and active_computation_results[maze2_any] already exists and is non-None\n",
      "\t TODO: this will prevent recomputation even when the excludelist/includelist or computation function definitions change. Rework so that this is smarter.\n",
      "WARNING: skipping computation because overwrite_extant_results=False and active_computation_results[maze_any] already exists and is non-None\n",
      "\t TODO: this will prevent recomputation even when the excludelist/includelist or computation function definitions change. Rework so that this is smarter.\n",
      "WARNING: skipping computation because overwrite_extant_results=False and active_computation_results[maze1_odd] already exists and is non-None\n",
      "\t TODO: this will prevent recomputation even when the excludelist/includelist or computation function definitions change. Rework so that this is smarter.\n",
      "WARNING: skipping computation because overwrite_extant_results=False and active_computation_results[maze2_odd] already exists and is non-None\n",
      "\t TODO: this will prevent recomputation even when the excludelist/includelist or computation function definitions change. Rework so that this is smarter.\n",
      "WARNING: skipping computation because overwrite_extant_results=False and active_computation_results[maze_odd] already exists and is non-None\n",
      "\t TODO: this will prevent recomputation even when the excludelist/includelist or computation function definitions change. Rework so that this is smarter.\n",
      "WARNING: skipping computation because overwrite_extant_results=False and active_computation_results[maze1_even] already exists and is non-None\n",
      "\t TODO: this will prevent recomputation even when the excludelist/includelist or computation function definitions change. Rework so that this is smarter.\n",
      "WARNING: skipping computation because overwrite_extant_results=False and active_computation_results[maze2_even] already exists and is non-None\n",
      "\t TODO: this will prevent recomputation even when the excludelist/includelist or computation function definitions change. Rework so that this is smarter.\n",
      "WARNING: skipping computation because overwrite_extant_results=False and active_computation_results[maze_even] already exists and is non-None\n",
      "\t TODO: this will prevent recomputation even when the excludelist/includelist or computation function definitions change. Rework so that this is smarter.\n",
      "WARNING: skipping computation because overwrite_extant_results=False and active_computation_results[maze1_any] already exists and is non-None\n",
      "\t TODO: this will prevent recomputation even when the excludelist/includelist or computation function definitions change. Rework so that this is smarter.\n",
      "WARNING: skipping computation because overwrite_extant_results=False and active_computation_results[maze2_any] already exists and is non-None\n",
      "\t TODO: this will prevent recomputation even when the excludelist/includelist or computation function definitions change. Rework so that this is smarter.\n"
     ]
    },
    {
     "name": "stderr",
     "output_type": "stream",
     "text": [
      "INFO:com.PhoHale.Spike3D.pipeline:\t TODO: this will prevent recomputation even when the excludelist/includelist or computation function definitions change. Rework so that this is smarter.\n",
      "INFO:com.PhoHale.Spike3D.pipeline:Performing global computations...\n",
      "INFO:com.PhoHale.Spike3D.pipeline:NeuropyPipeline.on_stage_changed(new_stage=\"PipelineStage.Displayed\")\n",
      "WARNING:com.PhoHale.Spike3D.pipeline:WARNING: saving_mode is SKIP_SAVING so pipeline will not be saved despite calling .save_pipeline(...).\n"
     ]
    },
    {
     "name": "stdout",
     "output_type": "stream",
     "text": [
      "WARNING: skipping computation because overwrite_extant_results=False and active_computation_results[maze_any] already exists and is non-None\n",
      "\t TODO: this will prevent recomputation even when the excludelist/includelist or computation function definitions change. Rework so that this is smarter.\n",
      "WARNING: saving_mode is SKIP_SAVING so pipeline will not be saved despite calling .save_pipeline(...).\n",
      "saving_mode.shouldSave == False, so not saving at the end of batch_load_session\n",
      "DEPRICATION WARNING: workaround to allow subscripting ComputationResult objects. Will be depricated. key: computed_data\n",
      "DEPRICATION WARNING: workaround to allow subscripting ComputationResult objects. Will be depricated. key: computed_data\n",
      "DEPRICATION WARNING: workaround to allow subscripting ComputationResult objects. Will be depricated. key: computed_data\n",
      "DEPRICATION WARNING: workaround to allow subscripting ComputationResult objects. Will be depricated. key: computed_data\n",
      "DEPRICATION WARNING: workaround to allow subscripting ComputationResult objects. Will be depricated. key: computed_data\n",
      "DEPRICATION WARNING: workaround to allow subscripting ComputationResult objects. Will be depricated. key: computed_data\n",
      "were pipeline preprocessing parameters missing and updated?: False\n"
     ]
    }
   ],
   "source": [
    "# ==================================================================================================================== #\n",
    "# Load Data                                                                                                            #\n",
    "# ==================================================================================================================== #\n",
    "\n",
    "active_data_mode_name = 'kdiba'\n",
    "local_session_root_parent_context = IdentifyingContext(format_name=active_data_mode_name) # , animal_name='', configuration_name='one', session_name=a_sess.session_name\n",
    "local_session_root_parent_path = global_data_root_parent_path.joinpath('KDIBA')\n",
    "\n",
    "# [*] - indicates bad or session with a problem\n",
    "# 0, 1, 2, 3, 4, 5, 6, 7, [8], [9], 10, 11, [12], 13, 14, [15], [16], 17, \n",
    "# curr_context: IdentifyingContext = good_contexts_list[1] # select the session from all of the good sessions here.\n",
    "# curr_context = IdentifyingContext(format_name='kdiba',animal='gor01',exper_name='one',session_name='2006-6-08_14-26-15') # DONE. Very good. Many good Pfs, many good replays.\n",
    "# curr_context = IdentifyingContext(format_name='kdiba',animal='gor01',exper_name='one',session_name='2006-6-09_1-22-43') # DONE, might be the BEST SESSION, good example session with lots of place cells, clean replays, and clear bar graphs.\n",
    "curr_context = IdentifyingContext(format_name='kdiba',animal='gor01',exper_name='one',session_name='2006-6-12_15-55-31') # DONE, Good Pfs but no good replays ---- VERY weird effect of the replays, a sharp drop to strongly negative values more than 3/4 through the experiment.\n",
    "\n",
    "# curr_context = IdentifyingContext(format_name='kdiba',animal='gor01',exper_name='one',session_name='2006-6-13_14-42-6') # BAD, 2023-07-14, unsure why still.\n",
    "# curr_context = IdentifyingContext(format_name='kdiba',animal='gor01',exper_name='two',session_name='2006-6-07_16-40-19') # DONE, GREAT, both good Pfs and replays! Interesting see-saw!\n",
    "\n",
    "# curr_context = IdentifyingContext(format_name='kdiba',animal='gor01',exper_name='two',session_name='2006-6-08_21-16-25') # DONE, Added replay selections. Very \"jumpy\" between the starts and ends of the track.\n",
    "# curr_context = IdentifyingContext(format_name='kdiba',animal='gor01',exper_name='two',session_name='2006-6-09_22-24-40') # 2024-01-10 new RANKORDER APOGEE | DONE, Added replay selections. A TON of putative replays in general, most bad, but some good. LOOKIN GOOD!\n",
    "# curr_context = IdentifyingContext(format_name='kdiba',animal='gor01',exper_name='twolong_LR_pf1Dsession_name='2006-4-12_15-25-59') # BAD, No Epochs\n",
    "# curr_context = IdentifyingContext(format_name='kdiba',animal='vvp01',exper_name='two',session_name='2006-4-16_18-47-52')\n",
    "# curr_context = IdentifyingContext(format_name='kdiba',animal='vvp01',exper_name='two',session_name='2006-4-17_12-52-15')\n",
    "# curr_context = IdentifyingContext(format_name='kdiba',animal='vvp01',exper_name='two',session_name='2006-4-25_13-20-55')\n",
    "# curr_context = IdentifyingContext(format_name='kdiba',animal='vvp01',exper_name='two',session_name='2006-4-28_12-38-13')\n",
    "# curr_context = IdentifyingContext(format_name='kdiba',animal='pin01',exper_name='one',session_name='11-02_17-46-44') # DONE, good. Many good pfs, many good replays. Noticed very strange jumping off the track in the 3D behavior/spikes viewer. Is there something wrong with this session?\n",
    "# curr_context = IdentifyingContext(format_name='kdiba',animal='pin01',exper_name='one',session_name='11-02_19-28-0') # DONE, good?, replays selected, few\n",
    "# curr_context = IdentifyingContext(format_name='kdiba',animal='pin01',exper_name='one',session_name='11-03_12-3-25') # DONE, very few replays\n",
    "\n",
    "# curr_context = IdentifyingContext(format_name='kdiba',animal='pin01',exper_name='one',session_name='11-09_12-15-3') ### KeyError: 'maze1_odd'\n",
    "# curr_context = IdentifyingContext(format_name='kdiba',animal='pin01',exper_name='one',session_name='11-09_22-4-5') ### \n",
    "\n",
    "# curr_context = IdentifyingContext(format_name='kdiba',animal='pin01',exper_name='one',session_name='fet11-01_12-58-54') # DONE, replays selected, quite a few replays but few are very good.\n",
    "\n",
    "# curr_context = IdentifyingContext(format_name='kdiba',animal='gor01',exper_name='two',session_name='2006-6-08_21-16-25')\n",
    "\n",
    "local_session_parent_path: Path = local_session_root_parent_path.joinpath(curr_context.animal, curr_context.exper_name) # 'gor01', 'one' - probably not needed anymore\n",
    "basedir: Path = local_session_parent_path.joinpath(curr_context.session_name).resolve()\n",
    "print(f'basedir: {str(basedir)}')\n",
    "\n",
    "# Read if possible:\n",
    "saving_mode = PipelineSavingScheme.SKIP_SAVING\n",
    "force_reload = False\n",
    "# \n",
    "# # Force write:\n",
    "# saving_mode = PipelineSavingScheme.TEMP_THEN_OVERWRITE\n",
    "# saving_mode = PipelineSavingScheme.OVERWRITE_IN_PLACE\n",
    "# force_reload = True\n",
    "\n",
    "## TODO: if loading is not possible, we need to change the `saving_mode` so that the new results are properly saved.\n",
    "\n",
    "# ==================================================================================================================== #\n",
    "# Load Pipeline                                                                                                        #\n",
    "# ==================================================================================================================== #\n",
    "# with VizTracer(output_file=f\"viztracer_{get_now_time_str()}-full_session_LOO_decoding_analysis.json\", min_duration=200, tracer_entries=3000000, ignore_frozen=True) as tracer:\n",
    "# epoch_name_includelist = ['maze']\n",
    "epoch_name_includelist = None\n",
    "active_computation_functions_name_includelist=['lap_direction_determination', 'pf_computation',\n",
    "                                            #    'pfdt_computation',\n",
    "                                                'firing_rate_trends',\n",
    "                                                # 'pf_dt_sequential_surprise', \n",
    "                                            #    'ratemap_peaks_prominence2d',\n",
    "                                                'position_decoding', \n",
    "                                                # 'position_decoding_two_step', \n",
    "                                            #    'long_short_decoding_analyses', 'jonathan_firing_rate_analysis', 'long_short_fr_indicies_analyses', 'short_long_pf_overlap_analyses', 'long_short_post_decoding', 'long_short_rate_remapping',\n",
    "                                            #     'long_short_inst_spike_rate_groups',\n",
    "                                            #     'long_short_endcap_analysis',\n",
    "                                            # 'split_to_directional_laps',\n",
    "]\n",
    "\n",
    "curr_active_pipeline: NeuropyPipeline = batch_load_session(global_data_root_parent_path, active_data_mode_name, basedir, epoch_name_includelist=epoch_name_includelist,\n",
    "                                        computation_functions_name_includelist=active_computation_functions_name_includelist,\n",
    "                                        saving_mode=saving_mode, force_reload=force_reload,\n",
    "                                        skip_extended_batch_computations=True, debug_print=False, fail_on_exception=True) # , active_pickle_filename = 'loadedSessPickle_withParameters.pkl'\n",
    "\n",
    "\n",
    "\n",
    "## Post Compute Validate 2023-05-16:\n",
    "was_updated = BatchSessionCompletionHandler.post_compute_validate(curr_active_pipeline) ## TODO: need to potentially re-save if was_updated. This will fail because constained versions not ran yet.\n",
    "if was_updated:\n",
    "    print(f'was_updated: {was_updated}')\n",
    "    try:\n",
    "        curr_active_pipeline.save_pipeline(saving_mode=saving_mode)\n",
    "    except Exception as e:\n",
    "        ## TODO: catch/log saving error and indicate that it isn't saved.\n",
    "        exception_info = sys.exc_info()\n",
    "        e = CapturedException(e, exception_info)\n",
    "        print(f'ERROR RE-SAVING PIPELINE after update. error: {e}')\n"
   ]
  },
  {
   "cell_type": "code",
   "execution_count": 3,
   "id": "188ed6fa",
   "metadata": {
    "notebookRunGroups": {
     "groupValue": "1"
    }
   },
   "outputs": [
    {
     "data": {
      "text/plain": [
       "['RankOrder',\n",
       " 'long_short_leave_one_out_decoding_analysis',\n",
       " 'short_long_pf_overlap_analyses',\n",
       " 'long_short_fr_indicies_analysis',\n",
       " 'jonathan_firing_rate_analysis',\n",
       " 'long_short_post_decoding',\n",
       " 'long_short_inst_spike_rate_groups',\n",
       " 'long_short_endcap',\n",
       " 'DirectionalLaps',\n",
       " 'DirectionalMergedDecoders',\n",
       " 'DirectionalDecodersDecoded',\n",
       " 'DirectionalDecodersEpochsEvaluations',\n",
       " 'long_short_rate_remapping']"
      ]
     },
     "execution_count": 3,
     "metadata": {},
     "output_type": "execute_result"
    }
   ],
   "source": [
    "list(curr_active_pipeline.global_computation_results.computed_data.keys())\n",
    "\n",
    "\n",
    "# 2024-01-22 ERROR: when the pipeline is manually saved, its global_computations seem to be saved to the pickle too. After modifying how global computations are loaded from pickle, the following global computations code block no longer appropriately overwrites the existing results."
   ]
  },
  {
   "cell_type": "code",
   "execution_count": null,
   "id": "1597f339",
   "metadata": {},
   "outputs": [],
   "source": [
    "# pickle_problem_result_names = ['directional_decoders_evaluate_epochs', 'directional_decoders_decode_continuous']\n",
    "pickle_problem_global_result_key_names = ['DirectionalDecodersDecoded', 'DirectionalDecodersEpochsEvaluations']\n",
    "# pickle_problem_global_result_key_names = ['DirectionalLaps', 'DirectionalMergedDecoders', 'RankOrder', 'DirectionalDecodersDecoded']\n",
    "global_dropped_keys, local_dropped_keys = curr_active_pipeline.perform_drop_computed_result(computed_data_keys_to_drop=pickle_problem_global_result_key_names, debug_print=True)"
   ]
  },
  {
   "cell_type": "code",
   "execution_count": 4,
   "id": "acba46b6",
   "metadata": {
    "ExecuteTime": {
     "end_time": "2023-11-16T23:21:40.574268400Z",
     "start_time": "2023-11-16T23:21:35.966373700Z"
    },
    "notebookRunGroups": {
     "groupValue": "1"
    }
   },
   "outputs": [
    {
     "name": "stdout",
     "output_type": "stream",
     "text": [
      "Loading loaded session pickle file results : W:\\Data\\KDIBA\\gor01\\one\\2006-6-12_15-55-31\\output\\global_computation_results.pkl... done.\n"
     ]
    },
    {
     "data": {
      "text/plain": [
       "(['RankOrder',\n",
       "  'long_short_leave_one_out_decoding_analysis',\n",
       "  'short_long_pf_overlap_analyses',\n",
       "  'long_short_fr_indicies_analysis',\n",
       "  'jonathan_firing_rate_analysis',\n",
       "  'long_short_post_decoding',\n",
       "  'long_short_inst_spike_rate_groups',\n",
       "  'long_short_endcap',\n",
       "  'DirectionalLaps',\n",
       "  'DirectionalMergedDecoders',\n",
       "  'DirectionalDecodersDecoded',\n",
       "  'DirectionalDecodersEpochsEvaluations',\n",
       "  'long_short_rate_remapping'],\n",
       " ['RankOrder',\n",
       "  'long_short_leave_one_out_decoding_analysis',\n",
       "  'short_long_pf_overlap_analyses',\n",
       "  'long_short_fr_indicies_analysis',\n",
       "  'jonathan_firing_rate_analysis',\n",
       "  'long_short_post_decoding',\n",
       "  'long_short_inst_spike_rate_groups',\n",
       "  'long_short_endcap',\n",
       "  'DirectionalLaps',\n",
       "  'DirectionalMergedDecoders',\n",
       "  'DirectionalDecodersDecoded',\n",
       "  'DirectionalDecodersEpochsEvaluations',\n",
       "  'long_short_rate_remapping'])"
      ]
     },
     "execution_count": 4,
     "metadata": {},
     "output_type": "execute_result"
    },
    {
     "name": "stdout",
     "output_type": "stream",
     "text": [
      "included includelist is specified: ['lap_direction_determination', 'long_short_decoding_analyses', 'jonathan_firing_rate_analysis', 'long_short_fr_indicies_analyses', 'short_long_pf_overlap_analyses', 'long_short_post_decoding', 'long_short_rate_remapping', 'long_short_inst_spike_rate_groups', 'long_short_endcap_analysis', 'split_to_directional_laps', 'merged_directional_placefields', 'rank_order_shuffle_analysis', 'directional_decoders_decode_continuous'], so only performing these extended computations.\n",
      "Running batch_extended_computations(...) with global_epoch_name: \"maze_any\"\n",
      "WARNING: after execution of all _comp_specifiers found the functions: {'long_short_rate_remapping': False} still remain! Are they correct and do they have proper validator decorators?\n",
      "done with all batch_extended_computations(...).\n",
      "newly_computed_values: [('lap_direction_determination', 'maze_any'), ('split_to_directional_laps', 'maze_any'), ('merged_directional_placefields', 'maze_any'), ('directional_decoders_decode_continuous', 'maze_any'), ('rank_order_shuffle_analysis', 'maze_any'), ('long_short_decoding_analyses', 'maze_any'), ('short_long_pf_overlap_analyses', 'maze_any'), ('long_short_fr_indicies_analyses', 'maze_any'), ('jonathan_firing_rate_analysis', 'maze_any'), ('long_short_post_decoding', 'maze_any'), ('long_short_inst_spike_rate_groups', 'maze_any'), ('long_short_endcap_analysis', 'maze_any')].\n",
      "\n",
      "\n",
      "!!WARNING!!: changes to global results have been made but they will not be saved since saving_mode.value == \"skip_saving\"\n",
      "\tthe global results are currently unsaved! proceed with caution and save as soon as you can!\n",
      "\n",
      "\n",
      "\n"
     ]
    }
   ],
   "source": [
    "### GLOBAL COMPUTATIONS:\n",
    "extended_computations_include_includelist = ['lap_direction_determination', #'pf_computation', 'firing_rate_trends',# 'pfdt_computation',\n",
    "    # 'pf_dt_sequential_surprise',\n",
    "    #  'ratemap_peaks_prominence2d',\n",
    "    'long_short_decoding_analyses', 'jonathan_firing_rate_analysis', 'long_short_fr_indicies_analyses', 'short_long_pf_overlap_analyses', \n",
    "    'long_short_post_decoding', # #TODO 2024-01-19 05:49: - [ ] `'long_short_post_decoding' is broken for some reason `AttributeError: 'NoneType' object has no attribute 'active_filter_epochs'``\n",
    "    'long_short_rate_remapping',\n",
    "    'long_short_inst_spike_rate_groups',\n",
    "    'long_short_endcap_analysis',\n",
    "    # 'spike_burst_detection',\n",
    "    'split_to_directional_laps',\n",
    "    'merged_directional_placefields',\n",
    "    'rank_order_shuffle_analysis',\n",
    "    'directional_decoders_decode_continuous',\n",
    "    # 'directional_decoders_evaluate_epochs',\n",
    "    # 'directional_decoders_epoch_heuristic_scoring',\n",
    "] # do only specified\n",
    "\n",
    "force_recompute_override_computations_includelist = None\n",
    "# force_recompute_override_computations_includelist = ['merged_directional_placefields']\n",
    "# force_recompute_override_computations_includelist = ['split_to_directional_laps', 'merged_directional_placefields', 'rank_order_shuffle_analysis'] # , 'directional_decoders_decode_continuous'\n",
    "# force_recompute_override_computations_includelist = ['directional_decoders_decode_continuous'] # \n",
    "\n",
    "\n",
    "if not force_reload: # not just force_reload, needs to recompute whenever the computation fails.\n",
    "    try:\n",
    "        # curr_active_pipeline.load_pickled_global_computation_results()\n",
    "        curr_active_pipeline.load_pickled_global_computation_results(allow_overwrite_existing=True, allow_overwrite_existing_allow_keys=extended_computations_include_includelist) # is new\n",
    "    except Exception as e:\n",
    "        exception_info = sys.exc_info()\n",
    "        e = CapturedException(e, exception_info)\n",
    "        print(f'cannot load global results: {e}')\n",
    "        raise\n",
    "\n",
    "curr_active_pipeline.reload_default_computation_functions()\n",
    "\n",
    "force_recompute_global = force_reload\n",
    "# force_recompute_global = True\n",
    "newly_computed_values = batch_extended_computations(curr_active_pipeline, include_includelist=extended_computations_include_includelist, include_global_functions=True, fail_on_exception=False, progress_print=True,\n",
    "                                                    force_recompute=force_recompute_global, force_recompute_override_computations_includelist=force_recompute_override_computations_includelist, debug_print=False)\n",
    "if (len(newly_computed_values) > 0):\n",
    "    print(f'newly_computed_values: {newly_computed_values}.')\n",
    "    if (saving_mode.value != 'skip_saving'):\n",
    "        print(f'Saving global results...')\n",
    "        try:\n",
    "            # curr_active_pipeline.global_computation_results.persist_time = datetime.now()\n",
    "            # Try to write out the global computation function results:\n",
    "            curr_active_pipeline.save_global_computation_results()\n",
    "        except Exception as e:\n",
    "            exception_info = sys.exc_info()\n",
    "            e = CapturedException(e, exception_info)\n",
    "            print(f'\\n\\n!!WARNING!!: saving the global results threw the exception: {e}')\n",
    "            print(f'\\tthe global results are currently unsaved! proceed with caution and save as soon as you can!\\n\\n\\n')\n",
    "    else:\n",
    "        print(f'\\n\\n!!WARNING!!: changes to global results have been made but they will not be saved since saving_mode.value == \"skip_saving\"')\n",
    "        print(f'\\tthe global results are currently unsaved! proceed with caution and save as soon as you can!\\n\\n\\n')\n",
    "else:\n",
    "    print(f'no changes in global results.')\n",
    "\n",
    "# except Exception as e:\n",
    "#     exception_info = sys.exc_info()\n",
    "#     e = CapturedException(e, exception_info)\n",
    "#     print(f'second half threw: {e}')\n",
    "\n",
    "# 4m 5.2s for inst fr computations\n"
   ]
  },
  {
   "cell_type": "code",
   "execution_count": null,
   "id": "ee3d4f61",
   "metadata": {},
   "outputs": [],
   "source": [
    "curr_active_pipeline.reload_default_computation_functions()"
   ]
  },
  {
   "cell_type": "code",
   "execution_count": null,
   "id": "a8ff30b7",
   "metadata": {},
   "outputs": [],
   "source": [
    "curr_active_pipeline.global_computation_results.computation_config.instantaneous_time_bin_size_seconds = 0.01"
   ]
  },
  {
   "cell_type": "code",
   "execution_count": null,
   "id": "47820977",
   "metadata": {},
   "outputs": [],
   "source": [
    "\n",
    "extended_computations_include_includelist=['lap_direction_determination', 'pf_computation', 'firing_rate_trends', 'pfdt_computation',\n",
    "    # 'pf_dt_sequential_surprise',\n",
    "    #  'ratemap_peaks_prominence2d',\n",
    "    'long_short_decoding_analyses',\n",
    "    'jonathan_firing_rate_analysis',\n",
    "    'long_short_fr_indicies_analyses',\n",
    "    'short_long_pf_overlap_analyses',\n",
    "    'long_short_post_decoding',\n",
    "    'long_short_rate_remapping',\n",
    "    'long_short_inst_spike_rate_groups',\n",
    "    'long_short_endcap_analysis',\n",
    "    # 'spike_burst_detection',\n",
    "    'split_to_directional_laps',\n",
    "    'merged_directional_placefields',\n",
    "    'rank_order_shuffle_analysis',\n",
    "    'directional_decoders_decode_continuous',\n",
    "    'directional_decoders_evaluate_epochs',\n",
    "    'directional_decoders_epoch_heuristic_scoring',\n",
    "] # do only specified\n",
    "\n",
    "force_recompute_override_computations_includelist = ['directional_decoders_evaluate_epochs', 'directional_decoders_epoch_heuristic_scoring',\n",
    "#     # 'merged_directional_placefields',\n",
    "#     # 'directional_decoders_decode_continuous',\n",
    "]\n",
    "# force_recompute_override_computations_includelist = None\n",
    "\n",
    "newly_computed_values = batch_extended_computations(curr_active_pipeline, include_includelist=extended_computations_include_includelist, include_global_functions=True, fail_on_exception=True, progress_print=True,\n",
    "                                                    force_recompute=force_recompute_global, force_recompute_override_computations_includelist=force_recompute_override_computations_includelist, debug_print=False)\n",
    "newly_computed_values\n"
   ]
  },
  {
   "cell_type": "code",
   "execution_count": null,
   "id": "272e20f8",
   "metadata": {},
   "outputs": [],
   "source": [
    "# curr_active_pipeline.reload_default_computation_functions()\n",
    "# force_recompute_override_computations_includelist = ['_decode_continuous_using_directional_decoders']\n",
    "# curr_active_pipeline.perform_specific_computation(computation_functions_name_includelist=['_decode_continuous_using_directional_decoders'], force_recompute_override_computations_includelist=force_recompute_override_computations_includelist,\n",
    "# \t\t\t\t\t\t\t\t\t\t\t\t   enabled_filter_names=None, fail_on_exception=True, debug_print=False)\n",
    "# curr_active_pipeline.perform_specific_computation(computation_functions_name_includelist=['_decode_continuous_using_directional_decoders'], computation_kwargs_list=[{'time_bin_size': 0.025}], enabled_filter_names=None, fail_on_exception=True, debug_print=False)\n",
    "# curr_active_pipeline.perform_specific_computation(extended_computations_include_includelist=['_decode_continuous_using_directional_decoders'], computation_kwargs_list=[{'time_bin_size': 0.02}], enabled_filter_names=None, fail_on_exception=True, debug_print=False)\n",
    "curr_active_pipeline.perform_specific_computation(computation_functions_name_includelist=['directional_decoders_decode_continuous'], enabled_filter_names=None, fail_on_exception=True, debug_print=False)"
   ]
  },
  {
   "cell_type": "code",
   "execution_count": null,
   "id": "b226b566",
   "metadata": {},
   "outputs": [],
   "source": []
  },
  {
   "cell_type": "code",
   "execution_count": null,
   "id": "f372737e",
   "metadata": {
    "notebookRunGroups": {
     "groupValue": ""
    }
   },
   "outputs": [],
   "source": [
    "# curr_active_pipeline.reload_default_computation_functions()\n",
    "curr_active_pipeline.perform_specific_computation(computation_functions_name_includelist=['directional_decoders_evaluate_epochs'], computation_kwargs_list=[{'should_skip_radon_transform': False}], enabled_filter_names=None, fail_on_exception=True, debug_print=False)"
   ]
  },
  {
   "cell_type": "code",
   "execution_count": null,
   "id": "62493eb3",
   "metadata": {},
   "outputs": [],
   "source": [
    "curr_active_pipeline.perform_specific_computation(computation_functions_name_includelist=['long_short_decoding_analyses',\n",
    "    'jonathan_firing_rate_analysis',\n",
    "    'long_short_fr_indicies_analyses',\n",
    "    'short_long_pf_overlap_analyses',\n",
    "    'long_short_post_decoding',\n",
    "    'long_short_rate_remapping',\n",
    "    'long_short_inst_spike_rate_groups',\n",
    "    'long_short_endcap_analysis',\n",
    "    ], enabled_filter_names=None, fail_on_exception=True, debug_print=False) # , computation_kwargs_list=[{'should_skip_radon_transform': False}]"
   ]
  },
  {
   "cell_type": "code",
   "execution_count": null,
   "id": "80294b7c",
   "metadata": {},
   "outputs": [],
   "source": [
    "ripple_simple_pf_pearson_merged_df"
   ]
  },
  {
   "cell_type": "code",
   "execution_count": 5,
   "id": "c267dae5",
   "metadata": {
    "notebookRunGroups": {
     "groupValue": "1"
    }
   },
   "outputs": [
    {
     "data": {
      "text/html": [
       "<div>\n",
       "<style scoped>\n",
       "    .dataframe tbody tr th:only-of-type {\n",
       "        vertical-align: middle;\n",
       "    }\n",
       "\n",
       "    .dataframe tbody tr th {\n",
       "        vertical-align: top;\n",
       "    }\n",
       "\n",
       "    .dataframe thead th {\n",
       "        text-align: right;\n",
       "    }\n",
       "</style>\n",
       "<table border=\"1\" class=\"dataframe\">\n",
       "  <thead>\n",
       "    <tr style=\"text-align: right;\">\n",
       "      <th></th>\n",
       "      <th>start</th>\n",
       "      <th>stop</th>\n",
       "      <th>label</th>\n",
       "      <th>duration</th>\n",
       "      <th>best_decoder_index</th>\n",
       "      <th>long_LR_pf_peak_x_pearsonr</th>\n",
       "      <th>long_RL_pf_peak_x_pearsonr</th>\n",
       "      <th>short_LR_pf_peak_x_pearsonr</th>\n",
       "      <th>short_RL_pf_peak_x_pearsonr</th>\n",
       "    </tr>\n",
       "  </thead>\n",
       "  <tbody>\n",
       "    <tr>\n",
       "      <th>0</th>\n",
       "      <td>5.696837</td>\n",
       "      <td>5.758983</td>\n",
       "      <td>0</td>\n",
       "      <td>0.062147</td>\n",
       "      <td>0</td>\n",
       "      <td>NaN</td>\n",
       "      <td>NaN</td>\n",
       "      <td>NaN</td>\n",
       "      <td>NaN</td>\n",
       "    </tr>\n",
       "    <tr>\n",
       "      <th>1</th>\n",
       "      <td>27.174099</td>\n",
       "      <td>27.439336</td>\n",
       "      <td>1</td>\n",
       "      <td>0.265236</td>\n",
       "      <td>0</td>\n",
       "      <td>NaN</td>\n",
       "      <td>NaN</td>\n",
       "      <td>NaN</td>\n",
       "      <td>NaN</td>\n",
       "    </tr>\n",
       "    <tr>\n",
       "      <th>2</th>\n",
       "      <td>96.866562</td>\n",
       "      <td>97.257596</td>\n",
       "      <td>2</td>\n",
       "      <td>0.391035</td>\n",
       "      <td>0</td>\n",
       "      <td>0.254583</td>\n",
       "      <td>0.070291</td>\n",
       "      <td>0.153462</td>\n",
       "      <td>0.224289</td>\n",
       "    </tr>\n",
       "    <tr>\n",
       "      <th>3</th>\n",
       "      <td>121.201428</td>\n",
       "      <td>121.606901</td>\n",
       "      <td>3</td>\n",
       "      <td>0.405473</td>\n",
       "      <td>0</td>\n",
       "      <td>NaN</td>\n",
       "      <td>-0.079630</td>\n",
       "      <td>NaN</td>\n",
       "      <td>0.318755</td>\n",
       "    </tr>\n",
       "    <tr>\n",
       "      <th>4</th>\n",
       "      <td>125.183137</td>\n",
       "      <td>125.292009</td>\n",
       "      <td>4</td>\n",
       "      <td>0.108872</td>\n",
       "      <td>0</td>\n",
       "      <td>NaN</td>\n",
       "      <td>0.510361</td>\n",
       "      <td>NaN</td>\n",
       "      <td>0.472233</td>\n",
       "    </tr>\n",
       "    <tr>\n",
       "      <th>5</th>\n",
       "      <td>125.779566</td>\n",
       "      <td>125.904842</td>\n",
       "      <td>5</td>\n",
       "      <td>0.125276</td>\n",
       "      <td>0</td>\n",
       "      <td>NaN</td>\n",
       "      <td>0.080015</td>\n",
       "      <td>NaN</td>\n",
       "      <td>0.107384</td>\n",
       "    </tr>\n",
       "    <tr>\n",
       "      <th>...</th>\n",
       "      <td>...</td>\n",
       "      <td>...</td>\n",
       "      <td>...</td>\n",
       "      <td>...</td>\n",
       "      <td>...</td>\n",
       "      <td>...</td>\n",
       "      <td>...</td>\n",
       "      <td>...</td>\n",
       "      <td>...</td>\n",
       "    </tr>\n",
       "    <tr>\n",
       "      <th>127</th>\n",
       "      <td>1072.363319</td>\n",
       "      <td>1072.584349</td>\n",
       "      <td>159</td>\n",
       "      <td>0.221030</td>\n",
       "      <td>0</td>\n",
       "      <td>NaN</td>\n",
       "      <td>NaN</td>\n",
       "      <td>NaN</td>\n",
       "      <td>NaN</td>\n",
       "    </tr>\n",
       "    <tr>\n",
       "      <th>128</th>\n",
       "      <td>1078.644604</td>\n",
       "      <td>1078.815745</td>\n",
       "      <td>160</td>\n",
       "      <td>0.171141</td>\n",
       "      <td>0</td>\n",
       "      <td>NaN</td>\n",
       "      <td>NaN</td>\n",
       "      <td>NaN</td>\n",
       "      <td>NaN</td>\n",
       "    </tr>\n",
       "    <tr>\n",
       "      <th>129</th>\n",
       "      <td>1079.528817</td>\n",
       "      <td>1079.840809</td>\n",
       "      <td>161</td>\n",
       "      <td>0.311992</td>\n",
       "      <td>0</td>\n",
       "      <td>NaN</td>\n",
       "      <td>NaN</td>\n",
       "      <td>NaN</td>\n",
       "      <td>NaN</td>\n",
       "    </tr>\n",
       "    <tr>\n",
       "      <th>130</th>\n",
       "      <td>1094.625078</td>\n",
       "      <td>1094.772165</td>\n",
       "      <td>163</td>\n",
       "      <td>0.147087</td>\n",
       "      <td>2</td>\n",
       "      <td>-0.428504</td>\n",
       "      <td>-0.659895</td>\n",
       "      <td>-0.823505</td>\n",
       "      <td>-0.744978</td>\n",
       "    </tr>\n",
       "    <tr>\n",
       "      <th>131</th>\n",
       "      <td>1107.102215</td>\n",
       "      <td>1107.343889</td>\n",
       "      <td>164</td>\n",
       "      <td>0.241674</td>\n",
       "      <td>0</td>\n",
       "      <td>NaN</td>\n",
       "      <td>-0.895659</td>\n",
       "      <td>NaN</td>\n",
       "      <td>-0.832653</td>\n",
       "    </tr>\n",
       "    <tr>\n",
       "      <th>132</th>\n",
       "      <td>1108.453863</td>\n",
       "      <td>1108.543166</td>\n",
       "      <td>165</td>\n",
       "      <td>0.089303</td>\n",
       "      <td>0</td>\n",
       "      <td>NaN</td>\n",
       "      <td>NaN</td>\n",
       "      <td>NaN</td>\n",
       "      <td>NaN</td>\n",
       "    </tr>\n",
       "  </tbody>\n",
       "</table>\n",
       "<p>133 rows × 9 columns</p>\n",
       "</div>"
      ],
      "text/plain": [
       "           start         stop label  duration  best_decoder_index  long_LR_pf_peak_x_pearsonr  long_RL_pf_peak_x_pearsonr  short_LR_pf_peak_x_pearsonr  short_RL_pf_peak_x_pearsonr\n",
       "0       5.696837     5.758983     0  0.062147                   0                         NaN                         NaN                          NaN                          NaN\n",
       "1      27.174099    27.439336     1  0.265236                   0                         NaN                         NaN                          NaN                          NaN\n",
       "2      96.866562    97.257596     2  0.391035                   0                    0.254583                    0.070291                     0.153462                     0.224289\n",
       "3     121.201428   121.606901     3  0.405473                   0                         NaN                   -0.079630                          NaN                     0.318755\n",
       "4     125.183137   125.292009     4  0.108872                   0                         NaN                    0.510361                          NaN                     0.472233\n",
       "5     125.779566   125.904842     5  0.125276                   0                         NaN                    0.080015                          NaN                     0.107384\n",
       "..           ...          ...   ...       ...                 ...                         ...                         ...                          ...                          ...\n",
       "127  1072.363319  1072.584349   159  0.221030                   0                         NaN                         NaN                          NaN                          NaN\n",
       "128  1078.644604  1078.815745   160  0.171141                   0                         NaN                         NaN                          NaN                          NaN\n",
       "129  1079.528817  1079.840809   161  0.311992                   0                         NaN                         NaN                          NaN                          NaN\n",
       "130  1094.625078  1094.772165   163  0.147087                   2                   -0.428504                   -0.659895                    -0.823505                    -0.744978\n",
       "131  1107.102215  1107.343889   164  0.241674                   0                         NaN                   -0.895659                          NaN                    -0.832653\n",
       "132  1108.453863  1108.543166   165  0.089303                   0                         NaN                         NaN                          NaN                          NaN\n",
       "\n",
       "[133 rows x 9 columns]"
      ]
     },
     "execution_count": 5,
     "metadata": {},
     "output_type": "execute_result"
    }
   ],
   "source": [
    "# directional_merged_decoders_result = deepcopy(directional_decoders_epochs_decode_result)\n",
    "from pyphoplacecellanalysis.General.Pipeline.Stages.ComputationFunctions.MultiContextComputationFunctions.DirectionalPlacefieldGlobalComputationFunctions import DirectionalMergedDecodersResult\n",
    "\n",
    "spikes_df = deepcopy(curr_active_pipeline.sess.spikes_df)\n",
    "\n",
    "global_computation_results = curr_active_pipeline.global_computation_results\n",
    "\n",
    " # spikes_df = curr_active_pipeline.sess.spikes_df\n",
    "rank_order_results = global_computation_results.computed_data['RankOrder'] # : \"RankOrderComputationsContainer\"\n",
    "minimum_inclusion_fr_Hz: float = rank_order_results.minimum_inclusion_fr_Hz\n",
    "# included_qclu_values: List[int] = rank_order_results.included_qclu_values\n",
    "directional_laps_results: DirectionalLapsResult = global_computation_results.computed_data['DirectionalLaps']\n",
    "track_templates: TrackTemplates = directional_laps_results.get_templates(minimum_inclusion_fr_Hz=minimum_inclusion_fr_Hz) # non-shared-only -- !! Is minimum_inclusion_fr_Hz=None the issue/difference?\n",
    "# print(f'minimum_inclusion_fr_Hz: {minimum_inclusion_fr_Hz}')\n",
    "# print(f'included_qclu_values: {included_qclu_values}')\n",
    "\n",
    "# DirectionalMergedDecoders: Get the result after computation:\n",
    "directional_merged_decoders_result: DirectionalMergedDecodersResult = global_computation_results.computed_data['DirectionalMergedDecoders']\n",
    "ripple_decoding_time_bin_size: float = directional_merged_decoders_result.ripple_decoding_time_bin_size\n",
    "laps_decoding_time_bin_size: float = directional_merged_decoders_result.laps_decoding_time_bin_size\n",
    "# pos_bin_size = _recover_position_bin_size(track_templates.get_decoders()[0]) # 3.793023081021702\n",
    "# print(f'laps_decoding_time_bin_size: {laps_decoding_time_bin_size}, ripple_decoding_time_bin_size: {ripple_decoding_time_bin_size}, pos_bin_size: {pos_bin_size}')\n",
    "# pos_bin_size: float = directional_decoders_epochs_decode_result.pos_bin_size\n",
    "\n",
    "# decoder_laps_filter_epochs_decoder_result_dict, decoder_ripple_filter_epochs_decoder_result_dict = _perform_compute_custom_epoch_decoding(owning_pipeline_reference, directional_merged_decoders_result, track_templates)\n",
    "\n",
    "\n",
    "## Simple Pearson Correlation\n",
    "assert spikes_df is not None\n",
    "(laps_simple_pf_pearson_merged_df, ripple_simple_pf_pearson_merged_df), corr_column_names = directional_merged_decoders_result.compute_simple_spike_time_v_pf_peak_x_by_epoch(track_templates=track_templates, spikes_df=deepcopy(spikes_df))\n",
    "## OUTPUTS: (laps_simple_pf_pearson_merged_df, ripple_simple_pf_pearson_merged_df), corr_column_names\n",
    "## Computes the highest-valued decoder for this score:\n",
    "best_decoder_index_col_name: str = 'best_decoder_index'\n",
    "laps_simple_pf_pearson_merged_df[best_decoder_index_col_name] = laps_simple_pf_pearson_merged_df[corr_column_names].abs().apply(lambda row: np.argmax(row.values), axis=1)\n",
    "ripple_simple_pf_pearson_merged_df[best_decoder_index_col_name] = ripple_simple_pf_pearson_merged_df[corr_column_names].abs().apply(lambda row: np.argmax(row.values), axis=1)\n",
    "\n",
    "ripple_simple_pf_pearson_merged_df\n",
    "\n",
    "# ## Get the 1D decoder probabilities explicitly and add them as columns to the dfs, and finally merge in the results:\n",
    "# laps_simple_pf_pearson_merged_df: pd.DataFrame = _compute_nonmarginalized_decoder_prob(deepcopy(directional_merged_decoders_result.laps_all_epoch_bins_marginals_df)).join(laps_simple_pf_pearson_merged_df)\n",
    "# ripple_simple_pf_pearson_merged_df: pd.DataFrame = _compute_nonmarginalized_decoder_prob(deepcopy(directional_merged_decoders_result.ripple_all_epoch_bins_marginals_df)).join(ripple_simple_pf_pearson_merged_df)\n",
    "\n",
    "# ## Extract the individual decoder probability into the .active_epochs\n",
    "# per_decoder_df_column_name = 'pearsonr'\n",
    "# # for a_name, a_decoder in track_templates.get_decoders_dict().items():\n",
    "# for a_name, a_simple_pf_column_name in zip(track_templates.get_decoder_names(), corr_column_names):\n",
    "#     ## Build a single-column dataframe containing only the appropriate column for this decoder\n",
    "#     _a_laps_metric_df: pd.DataFrame = pd.DataFrame({per_decoder_df_column_name: laps_simple_pf_pearson_merged_df[a_simple_pf_column_name].to_numpy()})\n",
    "#     _a_ripple_metric_df: pd.DataFrame = pd.DataFrame({per_decoder_df_column_name: ripple_simple_pf_pearson_merged_df[a_simple_pf_column_name].to_numpy()})                \n",
    "#     decoder_laps_filter_epochs_decoder_result_dict[a_name] = _update_decoder_result_active_filter_epoch_columns(a_result_obj=decoder_laps_filter_epochs_decoder_result_dict[a_name], a_score_result_df=_a_laps_metric_df, columns=[per_decoder_df_column_name])\n",
    "#     decoder_ripple_filter_"
   ]
  },
  {
   "cell_type": "code",
   "execution_count": 6,
   "id": "2a452a66",
   "metadata": {
    "notebookRunGroups": {
     "groupValue": "1"
    }
   },
   "outputs": [
    {
     "name": "stdout",
     "output_type": "stream",
     "text": [
      "pos_bin_size: 3.819259898065432\n",
      "ripple_decoding_time_bin_size: 0.025\n",
      "laps_decoding_time_bin_size: 0.025\n",
      "len(active_epochs_df): 133\n",
      "min_num_unique_aclu_inclusions: 9\n",
      "len(active_epochs_df): 85\n"
     ]
    }
   ],
   "source": [
    "from pyphoplacecellanalysis.Analysis.Decoder.reconstruction import DecodedFilterEpochsResult\n",
    "from pyphoplacecellanalysis.General.Pipeline.Stages.ComputationFunctions.MultiContextComputationFunctions.DirectionalPlacefieldGlobalComputationFunctions import DecoderDecodedEpochsResult\n",
    "\n",
    "directional_decoders_epochs_decode_result: DecoderDecodedEpochsResult = curr_active_pipeline.global_computation_results.computed_data['DirectionalDecodersEpochsEvaluations']\n",
    "pos_bin_size: float = directional_decoders_epochs_decode_result.pos_bin_size\n",
    "ripple_decoding_time_bin_size: float = directional_decoders_epochs_decode_result.ripple_decoding_time_bin_size\n",
    "laps_decoding_time_bin_size: float = directional_decoders_epochs_decode_result.laps_decoding_time_bin_size\n",
    "decoder_laps_filter_epochs_decoder_result_dict: Dict[str, DecodedFilterEpochsResult] = directional_decoders_epochs_decode_result.decoder_laps_filter_epochs_decoder_result_dict\n",
    "decoder_ripple_filter_epochs_decoder_result_dict: Dict[str, DecodedFilterEpochsResult] = directional_decoders_epochs_decode_result.decoder_ripple_filter_epochs_decoder_result_dict\n",
    "\n",
    "print(f'pos_bin_size: {pos_bin_size}')\n",
    "print(f'ripple_decoding_time_bin_size: {ripple_decoding_time_bin_size}')\n",
    "print(f'laps_decoding_time_bin_size: {laps_decoding_time_bin_size}')\n",
    "\n",
    "# Radon Transforms:\n",
    "decoder_laps_radon_transform_df_dict = directional_decoders_epochs_decode_result.decoder_laps_radon_transform_df_dict\n",
    "decoder_ripple_radon_transform_df_dict = directional_decoders_epochs_decode_result.decoder_ripple_radon_transform_df_dict\n",
    "decoder_laps_radon_transform_extras_dict = directional_decoders_epochs_decode_result.decoder_laps_radon_transform_extras_dict\n",
    "decoder_ripple_radon_transform_extras_dict = directional_decoders_epochs_decode_result.decoder_ripple_radon_transform_extras_dict\n",
    "\n",
    "# Weighted correlations:\n",
    "laps_weighted_corr_merged_df: pd.DataFrame = directional_decoders_epochs_decode_result.laps_weighted_corr_merged_df\n",
    "ripple_weighted_corr_merged_df: pd.DataFrame = directional_decoders_epochs_decode_result.ripple_weighted_corr_merged_df\n",
    "decoder_laps_weighted_corr_df_dict: Dict[str, pd.DataFrame] = directional_decoders_epochs_decode_result.decoder_laps_weighted_corr_df_dict\n",
    "decoder_ripple_weighted_corr_df_dict: Dict[str, pd.DataFrame] = directional_decoders_epochs_decode_result.decoder_ripple_weighted_corr_df_dict\n",
    "\n",
    "# Pearson's correlations:\n",
    "laps_simple_pf_pearson_merged_df: pd.DataFrame = directional_decoders_epochs_decode_result.laps_simple_pf_pearson_merged_df\n",
    "ripple_simple_pf_pearson_merged_df: pd.DataFrame = directional_decoders_epochs_decode_result.ripple_simple_pf_pearson_merged_df\n",
    "\n",
    "# laps_simple_pf_pearson_merged_df\n",
    "# ripple_simple_pf_pearson_merged_df\n",
    "\n",
    "## Drop rows where all are missing\n",
    "corr_column_names = ['long_LR_pf_peak_x_pearsonr', 'long_RL_pf_peak_x_pearsonr', 'short_LR_pf_peak_x_pearsonr', 'short_RL_pf_peak_x_pearsonr']\n",
    "# ripple_simple_pf_pearson_merged_df.dropna(subset=corr_column_names, axis='index', how='all') # 350/412 rows\n",
    "filtered_laps_simple_pf_pearson_merged_df: pd.DataFrame = laps_simple_pf_pearson_merged_df.dropna(subset=corr_column_names, axis='index', how='any') # 320/412 rows\n",
    "filtered_ripple_simple_pf_pearson_merged_df: pd.DataFrame = ripple_simple_pf_pearson_merged_df.dropna(subset=corr_column_names, axis='index', how='any') # 320/412 rows\n",
    "\n",
    "directional_decoders_epochs_decode_result.add_all_extra_epoch_columns(curr_active_pipeline, track_templates=track_templates, required_min_percentage_of_active_cells=0.33333333, debug_print=False)\n",
    "\n",
    "\n",
    "## Update the `decoder_ripple_filter_epochs_decoder_result_dict` with the included epochs:\n",
    "# decoder_ripple_filter_epochs_decoder_result_dict: Dict[str, DecodedFilterEpochsResult] = {a_name:decoder_ripple_filter_epochs_decoder_result_dict[a_name].filtered_by_epochs(filtered_ripple_simple_pf_pearson_merged_df.index) for a_name, a_df in decoder_ripple_filter_epochs_decoder_result_dict.items()}\n",
    "# decoder_laps_filter_epochs_decoder_result_dict: Dict[str, DecodedFilterEpochsResult] = {a_name:decoder_laps_filter_epochs_decoder_result_dict[a_name].filtered_by_epochs(filtered_laps_simple_pf_pearson_merged_df.index) for a_name, a_df in decoder_laps_filter_epochs_decoder_result_dict.items()}\n",
    "# decoder_ripple_filter_epochs_decoder_result_dict: Dict[str, DecodedFilterEpochsResult] = {a_name:decoder_ripple_filter_epochs_decoder_result_dict[a_name].filtered_by_epoch_times(filtered_ripple_simple_pf_pearson_merged_df[['start', 'stop']].to_numpy()) for a_name, a_df in decoder_ripple_filter_epochs_decoder_result_dict.items()}\n",
    "# decoder_laps_filter_epochs_decoder_result_dict: Dict[str, DecodedFilterEpochsResult] = {a_name:decoder_laps_filter_epochs_decoder_result_dict[a_name].filtered_by_epoch_times(filtered_laps_simple_pf_pearson_merged_df[['start', 'stop']].to_numpy()) for a_name, a_df in decoder_laps_filter_epochs_decoder_result_dict.items()}\n",
    "# decoder_ripple_filter_epochs_decoder_result_dict: Dict[str, DecodedFilterEpochsResult] = {a_name:decoder_ripple_filter_epochs_decoder_result_dict[a_name].filtered_by_epoch_times(filtered_ripple_simple_pf_pearson_merged_df['start'].to_numpy()) for a_name, a_df in decoder_ripple_filter_epochs_decoder_result_dict.items()}\n",
    "# decoder_laps_filter_epochs_decoder_result_dict: Dict[str, DecodedFilterEpochsResult] = {a_name:decoder_laps_filter_epochs_decoder_result_dict[a_name].filtered_by_epoch_times(filtered_laps_simple_pf_pearson_merged_df['start'].to_numpy()) for a_name, a_df in decoder_laps_filter_epochs_decoder_result_dict.items()}\n"
   ]
  },
  {
   "cell_type": "code",
   "execution_count": null,
   "id": "464b4531",
   "metadata": {
    "notebookRunGroups": {
     "groupValue": "2"
    }
   },
   "outputs": [],
   "source": [
    "## INPUTS: directional_decoders_epochs_decode_result,\n",
    "\n",
    "extracted_merged_scores_df = directional_decoders_epochs_decode_result.build_complete_all_scores_merged_df()\n",
    "extracted_merged_scores_df\n"
   ]
  },
  {
   "cell_type": "code",
   "execution_count": null,
   "id": "a41cefbf",
   "metadata": {
    "notebookRunGroups": {
     "groupValue": "2"
    }
   },
   "outputs": [],
   "source": [
    "BATCH_DATE_TO_USE: str = '2024-03-27_Apogee' # TODO: Change this as needed, templating isn't actually doing anything rn.\n",
    "\n",
    "# collected_outputs_path = Path('/nfs/turbo/umms-kdiba/Data/Output/collected_outputs').resolve() # Linux\n",
    "# collected_outputs_path = Path('/home/halechr/FastData/collected_outputs/').resolve() # Linux\n",
    "# collected_outputs_path: Path = Path('/home/halechr/cloud/turbo/Data/Output/collected_outputs').resolve() # GreatLakes\n",
    "collected_outputs_path = Path(r'C:\\Users\\pho\\repos\\Spike3DWorkEnv\\Spike3D\\output\\collected_outputs').resolve() # Apogee\n",
    "# collected_outputs_path = Path('/home/halechr/FastData/collected_outputs/').resolve() # Linux\n",
    "assert collected_outputs_path.exists()\n",
    "active_context = curr_active_pipeline.get_session_context()\n",
    "curr_session_name: str = curr_active_pipeline.session_name # '2006-6-08_14-26-15'\n",
    "CURR_BATCH_OUTPUT_PREFIX: str = f\"{BATCH_DATE_TO_USE}-{curr_session_name}\"\n",
    "print(f'CURR_BATCH_OUTPUT_PREFIX: {CURR_BATCH_OUTPUT_PREFIX}')\n",
    "\n",
    "print(f'\\tAll scores df CSV exporting...')\n",
    "\n",
    "## Export CSVs:\n",
    "t_start, t_delta, t_end = curr_active_pipeline.find_LongShortDelta_times()\n",
    "export_df_dict = {'ripple_all_scores_merged_df': extracted_merged_scores_df}\n",
    "_csv_export_paths = directional_decoders_epochs_decode_result.perform_export_dfs_dict_to_csvs(extracted_dfs_dict=export_df_dict, parent_output_path=collected_outputs_path.resolve(), active_context=active_context, session_name=curr_session_name, curr_session_t_delta=t_delta,\n",
    "                                                                            #   user_annotation_selections={'ripple': any_good_selected_epoch_times},\n",
    "                                                                            #   valid_epochs_selections={'ripple': filtered_valid_epoch_times},\n",
    "                                                                            )\n",
    "\n",
    "print(f'\\t\\tsuccessfully exported ripple_all_scores_merged_df to {collected_outputs_path}!')\n",
    "_output_csv_paths_info_str: str = '\\n'.join([f'{a_name}: \"{file_uri_from_path(a_path)}\"' for a_name, a_path in _csv_export_paths.items()])\n",
    "print(f'\\t\\t\\tCSV Paths: {_output_csv_paths_info_str}\\n')"
   ]
  },
  {
   "cell_type": "code",
   "execution_count": null,
   "id": "1a98fc6f",
   "metadata": {},
   "outputs": [],
   "source": [
    "\n",
    "# extracted_merged_scores_df.to_csv('test_(ripple_all_scores_merged_df).csv')"
   ]
  },
  {
   "cell_type": "code",
   "execution_count": null,
   "id": "16a860a1",
   "metadata": {},
   "outputs": [],
   "source": [
    " decoder_ripple_radon_transform_df_dict\n",
    "decoder_ripple_radon_transform_extras_dict"
   ]
  },
  {
   "cell_type": "code",
   "execution_count": null,
   "id": "74cbf34d",
   "metadata": {},
   "outputs": [],
   "source": [
    "decoder_ripple_radon_transform_df_dict\n",
    "decoder_ripple_radon_transform_extras_dict"
   ]
  },
  {
   "cell_type": "code",
   "execution_count": null,
   "id": "bbbcbb0c",
   "metadata": {},
   "outputs": [],
   "source": [
    "# filtered_laps_simple_pf_pearson_merged_df\n",
    "# filtered_ripple_simple_pf_pearson_merged_df\n",
    "# decoder_ripple_weighted_corr_df_dict\n",
    "ripple_weighted_corr_merged_df['ripple_start_t']\n"
   ]
  },
  {
   "cell_type": "code",
   "execution_count": null,
   "id": "76a95450",
   "metadata": {},
   "outputs": [],
   "source": [
    "wcorr_column_names = ['wcorr_long_LR', 'wcorr_long_RL', 'wcorr_short_LR', 'wcorr_short_RL']\n",
    "filtered_ripple_simple_pf_pearson_merged_df.label = filtered_ripple_simple_pf_pearson_merged_df.label.astype('int64')\n",
    "ripple_weighted_corr_merged_df['label'] = ripple_weighted_corr_merged_df['ripple_idx'].astype('int64')\n",
    "\n",
    "filtered_ripple_simple_pf_pearson_merged_df.join(ripple_weighted_corr_merged_df[wcorr_column_names], on='start') # , on='label'\n",
    "# filtered_ripple_simple_pf_pearson_merged_df.merge"
   ]
  },
  {
   "cell_type": "code",
   "execution_count": null,
   "id": "ca4bc77f",
   "metadata": {},
   "outputs": [],
   "source": [
    "ripple_weighted_corr_merged_df"
   ]
  },
  {
   "cell_type": "code",
   "execution_count": null,
   "id": "ac433aac",
   "metadata": {},
   "outputs": [],
   "source": [
    "print(list(ripple_weighted_corr_merged_df.columns))"
   ]
  },
  {
   "cell_type": "code",
   "execution_count": null,
   "id": "d98e2381",
   "metadata": {},
   "outputs": [],
   "source": [
    "a_decoded_filter_epochs_decoder_result_dict: Dict[str, DecodedFilterEpochsResult] = deepcopy(decoder_ripple_filter_epochs_decoder_result_dict)\n",
    "a_decoded_filter_epochs_decoder_result_dict"
   ]
  },
  {
   "cell_type": "code",
   "execution_count": null,
   "id": "8e3599f8",
   "metadata": {},
   "outputs": [],
   "source": [
    "# paginated_multi_decoder_decoded_epochs_window.save_selections()\n",
    "\n",
    "a_decoded_filter_epochs_decoder_result_dict.epochs.find_data_indicies_from_epoch_times([380.75])"
   ]
  },
  {
   "cell_type": "markdown",
   "id": "77babf98",
   "metadata": {},
   "source": [
    "## 💾 Continue Saving/Exporting stuff"
   ]
  },
  {
   "cell_type": "code",
   "execution_count": null,
   "id": "ea89da89",
   "metadata": {},
   "outputs": [],
   "source": [
    "curr_active_pipeline.save_global_computation_results() # newly_computed_values: [('pfdt_computation', 'maze_any')]"
   ]
  },
  {
   "cell_type": "code",
   "execution_count": null,
   "id": "ec7af96d",
   "metadata": {},
   "outputs": [],
   "source": [
    "split_save_folder, split_save_paths, split_save_output_types, failed_keys = curr_active_pipeline.save_split_global_computation_results(debug_print=True)"
   ]
  },
  {
   "cell_type": "code",
   "execution_count": null,
   "id": "c2a869b1",
   "metadata": {},
   "outputs": [],
   "source": [
    "curr_active_pipeline.export_pipeline_to_h5()"
   ]
  },
  {
   "cell_type": "code",
   "execution_count": null,
   "id": "e3f06d1f",
   "metadata": {},
   "outputs": [],
   "source": [
    "curr_active_pipeline.clear_display_outputs()\n",
    "curr_active_pipeline.clear_registered_output_files()"
   ]
  },
  {
   "cell_type": "code",
   "execution_count": null,
   "id": "837f39f2",
   "metadata": {},
   "outputs": [],
   "source": [
    "curr_active_pipeline.save_pipeline(saving_mode=PipelineSavingScheme.TEMP_THEN_OVERWRITE) ## #TODO 2024-02-16 14:25: - [ ] PicklingError: Can't pickle <function make_set_closure_cell.<locals>.set_closure_cell at 0x7fd35e66b700>: it's not found as attr._compat.make_set_closure_cell.<locals>.set_closure_cell\n",
    "# curr_active_pipeline.save_pipeline()"
   ]
  },
  {
   "cell_type": "markdown",
   "id": "693db067",
   "metadata": {},
   "source": [
    "# Pho Interactive Pipeline Jupyter Widget"
   ]
  },
  {
   "cell_type": "code",
   "execution_count": 7,
   "id": "e275e3bb",
   "metadata": {
    "notebookRunGroups": {
     "groupValue": "1"
    }
   },
   "outputs": [
    {
     "data": {
      "application/vnd.jupyter.widget-view+json": {
       "model_id": "c5927b89093c4f5ba134c07a5516d3eb",
       "version_major": 2,
       "version_minor": 0
      },
      "text/plain": [
       "VBox(children=(Box(children=(Label(value='session path:', layout=Layout(width='auto')), Label(value='W:\\\\Data\\\\KDIBA\\\\gor01\\\\one\\\\2006-6-12_15-55-31\\\\output', layout=Layout(flex='1 1 auto', margin='2px', width='auto')), Button(button_style='info', description='Copy', layout=Layout(flex='0 1 auto', margin='1px', width='auto'), style=ButtonStyle(), tooltip='Copy to Clipboard'), Button(button_style='info', description='Reveal', icon='folder-tree', layout=Layout(flex='0 1 auto', margin='1px', width='auto'), style=ButtonStyle(), tooltip='Reveal in System Explorer')), layout=Layout(align_items='stretch', display='flex', flex_flow='row', width='70%')), HBox(children=(Button(description='Output Folder', style=ButtonStyle()), Button(description='global pickle', style=ButtonStyle()), Button(description='pipeline pickle', style=ButtonStyle()), Button(description='.h5 export', style=ButtonStyle()), Button(description='TEST - Dialog', style=ButtonStyle()), Button(description='Save Pipeline', style=ButtonStyle()))), HBox(children=(Button(description='Reload display functions...', style=ButtonStyle()), Button(description='Reload computation functions...', style=ButtonStyle()))), ToggleButton(value=True, description='Figures Displaying')))"
      ]
     },
     "execution_count": 7,
     "metadata": {},
     "output_type": "execute_result"
    }
   ],
   "source": [
    "import ipywidgets as widgets\n",
    "from IPython.display import display\n",
    "from pyphocorehelpers.Filesystem.open_in_system_file_manager import reveal_in_system_file_manager\n",
    "from pyphoplacecellanalysis.GUI.IPyWidgets.pipeline_ipywidgets import interactive_pipeline_widget, interactive_pipeline_files\n",
    "\n",
    "_pipeline_jupyter_widget = interactive_pipeline_widget(curr_active_pipeline=curr_active_pipeline)\n",
    "# display(_pipeline_jupyter_widget)\n",
    "_pipeline_jupyter_widget"
   ]
  },
  {
   "cell_type": "markdown",
   "id": "1fe54599",
   "metadata": {},
   "source": [
    "# End Run"
   ]
  },
  {
   "cell_type": "code",
   "execution_count": 8,
   "id": "1a533ba8",
   "metadata": {
    "ExecuteTime": {
     "end_time": "2023-11-16T23:21:40.700275900Z",
     "start_time": "2023-11-16T23:21:40.584273Z"
    },
    "notebookRunGroups": {
     "groupValue": "1"
    }
   },
   "outputs": [
    {
     "data": {
      "text/plain": [
       "(0.0, 656.0648088779999, 1122.1864874939201)"
      ]
     },
     "execution_count": 8,
     "metadata": {},
     "output_type": "execute_result"
    }
   ],
   "source": [
    "# (long_one_step_decoder_1D, short_one_step_decoder_1D), (long_one_step_decoder_2D, short_one_step_decoder_2D) = compute_short_long_constrained_decoders(curr_active_pipeline, recalculate_anyway=True)\n",
    "long_epoch_name, short_epoch_name, global_epoch_name = curr_active_pipeline.find_LongShortGlobal_epoch_names()\n",
    "long_epoch_context, short_epoch_context, global_epoch_context = [curr_active_pipeline.filtered_contexts[a_name] for a_name in (long_epoch_name, short_epoch_name, global_epoch_name)]\n",
    "long_epoch_obj, short_epoch_obj = [Epoch(curr_active_pipeline.sess.epochs.to_dataframe().epochs.label_slice(an_epoch_name.removesuffix('_any'))) for an_epoch_name in [long_epoch_name, short_epoch_name]] #TODO 2023-11-10 20:41: - [ ] Issue with getting actual Epochs from sess.epochs for directional laps: emerges because long_epoch_name: 'maze1_any' and the actual epoch label in curr_active_pipeline.sess.epochs is 'maze1' without the '_any' part.\n",
    "long_session, short_session, global_session = [curr_active_pipeline.filtered_sessions[an_epoch_name] for an_epoch_name in [long_epoch_name, short_epoch_name, global_epoch_name]]\n",
    "long_results, short_results, global_results = [curr_active_pipeline.computation_results[an_epoch_name].computed_data for an_epoch_name in [long_epoch_name, short_epoch_name, global_epoch_name]]\n",
    "long_computation_config, short_computation_config, global_computation_config = [curr_active_pipeline.computation_results[an_epoch_name].computation_config for an_epoch_name in [long_epoch_name, short_epoch_name, global_epoch_name]]\n",
    "long_pf1D, short_pf1D, global_pf1D = long_results.pf1D, short_results.pf1D, global_results.pf1D\n",
    "long_pf2D, short_pf2D, global_pf2D = long_results.pf2D, short_results.pf2D, global_results.pf2D\n",
    "\n",
    "assert short_epoch_obj.n_epochs > 0, f'long_epoch_obj: {long_epoch_obj}, short_epoch_obj: {short_epoch_obj}'\n",
    "assert long_epoch_obj.n_epochs > 0, f'long_epoch_obj: {long_epoch_obj}, short_epoch_obj: {short_epoch_obj}'\n",
    "\n",
    "t_start, t_delta, t_end = curr_active_pipeline.find_LongShortDelta_times()\n",
    "t_start, t_delta, t_end"
   ]
  },
  {
   "cell_type": "code",
   "execution_count": null,
   "id": "92b35196",
   "metadata": {},
   "outputs": [],
   "source": [
    "# I have several python variables I want to print: t_start, t_delta, t_end\n",
    "# I want to generate a print statement that explicitly lists the variable name prior to its value like `print(f't_start: {t_start}, t_delta: {t_delta}, t_end: {t_end}')`\n",
    "# Currently I have to t_start, t_delta, t_end\n",
    "curr_active_pipeline.get_session_context()\n",
    "\n",
    "print(f'{curr_active_pipeline.session_name}:\\tt_start: {t_start}, t_delta: {t_delta}, t_end: {t_end}')"
   ]
  },
  {
   "cell_type": "code",
   "execution_count": 9,
   "id": "9071e94f",
   "metadata": {
    "ExecuteTime": {
     "end_time": "2023-11-16T23:21:43.601382Z",
     "start_time": "2023-11-16T23:21:40.702275600Z"
    },
    "notebookRunGroups": {
     "groupValue": "1"
    }
   },
   "outputs": [
    {
     "name": "stdout",
     "output_type": "stream",
     "text": [
      "WARN: 2023-09-28 16:15: - [ ] fix the combination properties. Would work if we directly used the computed _is_L_only and _is_S_only above\n",
      "WARNING: PAPER_FIGURE_figure_1_add_replay_epoch_rasters(...): no user-assigned manually labeled replay epochs. Reeturning all epochs.\n",
      "WARN: 2023-09-28 16:15: - [ ] fix the combination properties. Would work if we directly used the computed _is_L_only and _is_S_only above\n"
     ]
    }
   ],
   "source": [
    "## long_short_decoding_analyses:\n",
    "from attrs import astuple\n",
    "from pyphoplacecellanalysis.General.Pipeline.Stages.ComputationFunctions.MultiContextComputationFunctions.LongShortTrackComputations import LeaveOneOutDecodingAnalysis\n",
    "\n",
    "curr_long_short_decoding_analyses: LeaveOneOutDecodingAnalysis = curr_active_pipeline.global_computation_results.computed_data['long_short_leave_one_out_decoding_analysis']\n",
    "long_one_step_decoder_1D, short_one_step_decoder_1D, long_replays, short_replays, global_replays, long_shared_aclus_only_decoder, short_shared_aclus_only_decoder, shared_aclus, long_short_pf_neurons_diff, n_neurons, long_results_obj, short_results_obj, is_global = curr_long_short_decoding_analyses.long_decoder, curr_long_short_decoding_analyses.short_decoder, curr_long_short_decoding_analyses.long_replays, curr_long_short_decoding_analyses.short_replays, curr_long_short_decoding_analyses.global_replays, curr_long_short_decoding_analyses.long_shared_aclus_only_decoder, curr_long_short_decoding_analyses.short_shared_aclus_only_decoder, curr_long_short_decoding_analyses.shared_aclus, curr_long_short_decoding_analyses.long_short_pf_neurons_diff, curr_long_short_decoding_analyses.n_neurons, curr_long_short_decoding_analyses.long_results_obj, curr_long_short_decoding_analyses.short_results_obj, curr_long_short_decoding_analyses.is_global \n",
    "decoding_time_bin_size = long_one_step_decoder_1D.time_bin_size # 1.0/30.0 # 0.03333333333333333\n",
    "\n",
    "## Get global `long_short_fr_indicies_analysis`:\n",
    "long_short_fr_indicies_analysis_results = curr_active_pipeline.global_computation_results.computed_data['long_short_fr_indicies_analysis']\n",
    "long_laps, long_replays, short_laps, short_replays, global_laps, global_replays = [long_short_fr_indicies_analysis_results[k] for k in ['long_laps', 'long_replays', 'short_laps', 'short_replays', 'global_laps', 'global_replays']]\n",
    "long_short_fr_indicies_df = long_short_fr_indicies_analysis_results['long_short_fr_indicies_df']\n",
    "\n",
    "## Get global 'long_short_post_decoding' results:\n",
    "curr_long_short_post_decoding = curr_active_pipeline.global_computation_results.computed_data['long_short_post_decoding']\n",
    "expected_v_observed_result, curr_long_short_rr = curr_long_short_post_decoding.expected_v_observed_result, curr_long_short_post_decoding.rate_remapping\n",
    "rate_remapping_df, high_remapping_cells_only = curr_long_short_rr.rr_df, curr_long_short_rr.high_only_rr_df\n",
    "Flat_epoch_time_bins_mean, Flat_decoder_time_bin_centers, num_neurons, num_timebins_in_epoch, num_total_flat_timebins, is_short_track_epoch, is_long_track_epoch, short_short_diff, long_long_diff = expected_v_observed_result.Flat_epoch_time_bins_mean, expected_v_observed_result.Flat_decoder_time_bin_centers, expected_v_observed_result.num_neurons, expected_v_observed_result.num_timebins_in_epoch, expected_v_observed_result.num_total_flat_timebins, expected_v_observed_result.is_short_track_epoch, expected_v_observed_result.is_long_track_epoch, expected_v_observed_result.short_short_diff, expected_v_observed_result.long_long_diff\n",
    "\n",
    "jonathan_firing_rate_analysis_result: JonathanFiringRateAnalysisResult = curr_active_pipeline.global_computation_results.computed_data.jonathan_firing_rate_analysis\n",
    "(epochs_df_L, epochs_df_S), (filter_epoch_spikes_df_L, filter_epoch_spikes_df_S), (good_example_epoch_indicies_L, good_example_epoch_indicies_S), (short_exclusive, long_exclusive, BOTH_subset, EITHER_subset, XOR_subset, NEITHER_subset), new_all_aclus_sort_indicies, assigning_epochs_obj = PAPER_FIGURE_figure_1_add_replay_epoch_rasters(curr_active_pipeline)\n",
    "neuron_replay_stats_df, short_exclusive, long_exclusive, BOTH_subset, EITHER_subset, XOR_subset, NEITHER_subset = jonathan_firing_rate_analysis_result.get_cell_track_partitions(frs_index_inclusion_magnitude=0.05)\n",
    "\n",
    "## Update long_exclusive/short_exclusive properties with `long_short_fr_indicies_df`\n",
    "# long_exclusive.refine_exclusivity_by_inst_frs_index(long_short_fr_indicies_df, frs_index_inclusion_magnitude=0.5)\n",
    "# short_exclusive.refine_exclusivity_by_inst_frs_index(long_short_fr_indicies_df, frs_index_inclusion_magnitude=0.5)\n"
   ]
  },
  {
   "cell_type": "code",
   "execution_count": 10,
   "id": "c49f5d4f",
   "metadata": {
    "notebookRunGroups": {
     "groupValue": "1"
    }
   },
   "outputs": [],
   "source": [
    "# Unpack all directional variables:\n",
    "## {\"even\": \"RL\", \"odd\": \"LR\"}\n",
    "long_LR_name, short_LR_name, global_LR_name, long_RL_name, short_RL_name, global_RL_name, long_any_name, short_any_name, global_any_name = ['maze1_odd', 'maze2_odd', 'maze_odd', 'maze1_even', 'maze2_even', 'maze_even', 'maze1_any', 'maze2_any', 'maze_any']\n",
    "\n",
    "# Most popular\n",
    "# long_LR_name, short_LR_name, long_RL_name, short_RL_name, global_any_name\n",
    "\n",
    "# Unpacking for `(long_LR_name, long_RL_name, short_LR_name, short_RL_name)`\n",
    "(long_LR_context, long_RL_context, short_LR_context, short_RL_context) = [curr_active_pipeline.filtered_contexts[a_name] for a_name in (long_LR_name, long_RL_name, short_LR_name, short_RL_name)]\n",
    "long_LR_epochs_obj, long_RL_epochs_obj, short_LR_epochs_obj, short_RL_epochs_obj, global_any_laps_epochs_obj = [curr_active_pipeline.computation_results[an_epoch_name].computation_config.pf_params.computation_epochs for an_epoch_name in (long_LR_name, long_RL_name, short_LR_name, short_RL_name, global_any_name)] # note has global also\n",
    "(long_LR_session, long_RL_session, short_LR_session, short_RL_session) = [curr_active_pipeline.filtered_sessions[an_epoch_name] for an_epoch_name in (long_LR_name, long_RL_name, short_LR_name, short_RL_name)] # sessions are correct at least, seems like just the computation parameters are messed up\n",
    "(long_LR_results, long_RL_results, short_LR_results, short_RL_results) = [curr_active_pipeline.computation_results[an_epoch_name].computed_data for an_epoch_name in (long_LR_name, long_RL_name, short_LR_name, short_RL_name)]\n",
    "(long_LR_computation_config, long_RL_computation_config, short_LR_computation_config, short_RL_computation_config) = [curr_active_pipeline.computation_results[an_epoch_name].computation_config for an_epoch_name in (long_LR_name, long_RL_name, short_LR_name, short_RL_name)]\n",
    "(long_LR_pf1D, long_RL_pf1D, short_LR_pf1D, short_RL_pf1D) = (long_LR_results.pf1D, long_RL_results.pf1D, short_LR_results.pf1D, short_RL_results.pf1D)\n",
    "(long_LR_pf2D, long_RL_pf2D, short_LR_pf2D, short_RL_pf2D) = (long_LR_results.pf2D, long_RL_results.pf2D, short_LR_results.pf2D, short_RL_results.pf2D)\n",
    "(long_LR_pf1D_Decoder, long_RL_pf1D_Decoder, short_LR_pf1D_Decoder, short_RL_pf1D_Decoder) = (long_LR_results.pf1D_Decoder, long_RL_results.pf1D_Decoder, short_LR_results.pf1D_Decoder, short_RL_results.pf1D_Decoder)\n"
   ]
  },
  {
   "cell_type": "code",
   "execution_count": 11,
   "id": "7104fc37",
   "metadata": {
    "notebookRunGroups": {
     "groupValue": "1"
    }
   },
   "outputs": [
    {
     "name": "stdout",
     "output_type": "stream",
     "text": [
      "minimum_inclusion_fr_Hz: 5.0\n",
      "included_qclu_values: [1, 2]\n"
     ]
    }
   ],
   "source": [
    "from pyphoplacecellanalysis.General.Pipeline.Stages.ComputationFunctions.MultiContextComputationFunctions.DirectionalPlacefieldGlobalComputationFunctions import DirectionalMergedDecodersResult, DirectionalLapsResult, DirectionalDecodersDecodedResult\n",
    "\n",
    "directional_laps_results: DirectionalLapsResult = curr_active_pipeline.global_computation_results.computed_data['DirectionalLaps']\n",
    "directional_merged_decoders_result: DirectionalMergedDecodersResult = curr_active_pipeline.global_computation_results.computed_data['DirectionalMergedDecoders']   \n",
    "rank_order_results: RankOrderComputationsContainer = curr_active_pipeline.global_computation_results.computed_data['RankOrder']\n",
    "minimum_inclusion_fr_Hz: float = rank_order_results.minimum_inclusion_fr_Hz\n",
    "included_qclu_values: float = rank_order_results.included_qclu_values\n",
    "print(f'minimum_inclusion_fr_Hz: {minimum_inclusion_fr_Hz}')\n",
    "print(f'included_qclu_values: {included_qclu_values}')"
   ]
  },
  {
   "cell_type": "code",
   "execution_count": null,
   "id": "912656a7",
   "metadata": {},
   "outputs": [],
   "source": [
    "from pyphoplacecellanalysis.General.Pipeline.Stages.ComputationFunctions.MultiContextComputationFunctions.DirectionalPlacefieldGlobalComputationFunctions import DecoderDecodedEpochsResult\n",
    "\n",
    "directional_decoders_epochs_decode_result: DecoderDecodedEpochsResult = curr_active_pipeline.global_computation_results.computed_data['DirectionalDecodersEpochsEvaluations']\n",
    "\n",
    "## UNPACK HERE via direct property access:\n",
    "pos_bin_size: float = directional_decoders_epochs_decode_result.pos_bin_size\n",
    "ripple_decoding_time_bin_size = directional_decoders_epochs_decode_result.ripple_decoding_time_bin_size\n",
    "laps_decoding_time_bin_size = directional_decoders_epochs_decode_result.laps_decoding_time_bin_size\n",
    "decoder_laps_filter_epochs_decoder_result_dict = directional_decoders_epochs_decode_result.decoder_laps_filter_epochs_decoder_result_dict\n",
    "decoder_ripple_filter_epochs_decoder_result_dict = directional_decoders_epochs_decode_result.decoder_ripple_filter_epochs_decoder_result_dict\n",
    "decoder_laps_radon_transform_df_dict = directional_decoders_epochs_decode_result.decoder_laps_radon_transform_df_dict\n",
    "decoder_ripple_radon_transform_df_dict = directional_decoders_epochs_decode_result.decoder_ripple_radon_transform_df_dict\n",
    "\n",
    "# New items:\n",
    "decoder_laps_radon_transform_extras_dict = directional_decoders_epochs_decode_result.decoder_laps_radon_transform_extras_dict\n",
    "decoder_ripple_radon_transform_extras_dict = directional_decoders_epochs_decode_result.decoder_ripple_radon_transform_extras_dict\n",
    "\n",
    "# Weighted correlations:\n",
    "laps_weighted_corr_merged_df = directional_decoders_epochs_decode_result.laps_weighted_corr_merged_df\n",
    "ripple_weighted_corr_merged_df = directional_decoders_epochs_decode_result.ripple_weighted_corr_merged_df\n",
    "decoder_laps_weighted_corr_df_dict = directional_decoders_epochs_decode_result.decoder_laps_weighted_corr_df_dict\n",
    "decoder_ripple_weighted_corr_df_dict = directional_decoders_epochs_decode_result.decoder_ripple_weighted_corr_df_dict\n",
    "\n",
    "# Pearson's correlations:\n",
    "laps_simple_pf_pearson_merged_df = directional_decoders_epochs_decode_result.laps_simple_pf_pearson_merged_df\n",
    "ripple_simple_pf_pearson_merged_df = directional_decoders_epochs_decode_result.ripple_simple_pf_pearson_merged_df"
   ]
  },
  {
   "cell_type": "code",
   "execution_count": 12,
   "id": "238f67cb",
   "metadata": {
    "notebookRunGroups": {
     "groupValue": "1"
    }
   },
   "outputs": [
    {
     "name": "stdout",
     "output_type": "stream",
     "text": [
      "previously_decoded time_bin_sizes: [0.025]\n"
     ]
    }
   ],
   "source": [
    "from pyphoplacecellanalysis.General.Pipeline.Stages.ComputationFunctions.MultiContextComputationFunctions.DirectionalPlacefieldGlobalComputationFunctions import DirectionalDecodersDecodedResult\n",
    "\n",
    "directional_decoders_decode_result: DirectionalDecodersDecodedResult = curr_active_pipeline.global_computation_results.computed_data['DirectionalDecodersDecoded']\n",
    "all_directional_pf1D_Decoder_dict: Dict[str, BasePositionDecoder] = directional_decoders_decode_result.pf1D_Decoder_dict\n",
    "pseudo2D_decoder: BasePositionDecoder = directional_decoders_decode_result.pseudo2D_decoder\n",
    "spikes_df = directional_decoders_decode_result.spikes_df\n",
    "continuously_decoded_result_cache_dict = directional_decoders_decode_result.continuously_decoded_result_cache_dict\n",
    "previously_decoded_keys: List[float] = list(continuously_decoded_result_cache_dict.keys()) # [0.03333]\n",
    "print(F'previously_decoded time_bin_sizes: {previously_decoded_keys}')\n"
   ]
  },
  {
   "cell_type": "code",
   "execution_count": null,
   "id": "e3ed0870",
   "metadata": {},
   "outputs": [],
   "source": [
    "from pyphoplacecellanalysis.Analysis.Decoder.reconstruction import DecodedFilterEpochsResult\n",
    "\n",
    "\n",
    "most_recent_time_bin_size: float = directional_decoders_decode_result.most_recent_decoding_time_bin_size\n",
    "# most_recent_time_bin_size\n",
    "most_recent_continuously_decoded_dict = deepcopy(directional_decoders_decode_result.most_recent_continuously_decoded_dict)\n",
    "# most_recent_continuously_decoded_dict\n",
    "\n",
    "## Adds in the 'pseudo2D' decoder in:\n",
    "time_bin_size: float = directional_decoders_decode_result.most_recent_decoding_time_bin_size\n",
    "# time_bin_size: float = 0.01\n",
    "print(f'time_bin_size: {time_bin_size}')\n",
    "continuously_decoded_dict = continuously_decoded_result_cache_dict[time_bin_size]\n",
    "pseudo2D_decoder_continuously_decoded_result = continuously_decoded_dict.get('pseudo2D', None)\n",
    "if pseudo2D_decoder_continuously_decoded_result is None:\n",
    "\t# compute here...\n",
    "\t## Currently used for both cases to decode:\n",
    "\tt_start, t_delta, t_end = curr_active_pipeline.find_LongShortDelta_times()\n",
    "\tsingle_global_epoch_df: pd.DataFrame = pd.DataFrame({'start': [t_start], 'stop': [t_end], 'label': [0]}) # Build an Epoch object containing a single epoch, corresponding to the global epoch for the entire session:\n",
    "\tsingle_global_epoch: Epoch = Epoch(single_global_epoch_df)\n",
    "\tspikes_df = directional_decoders_decode_result.spikes_df\n",
    "\tpseudo2D_decoder_continuously_decoded_result: DecodedFilterEpochsResult = pseudo2D_decoder.decode_specific_epochs(spikes_df=deepcopy(spikes_df), filter_epochs=single_global_epoch, decoding_time_bin_size=time_bin_size, debug_print=False)\n",
    "\tcontinuously_decoded_dict['pseudo2D'] = pseudo2D_decoder_continuously_decoded_result\n",
    "\tcontinuously_decoded_dict"
   ]
  },
  {
   "cell_type": "code",
   "execution_count": 13,
   "id": "fa2dc5fe",
   "metadata": {
    "notebookRunGroups": {
     "groupValue": "1"
    }
   },
   "outputs": [],
   "source": [
    "# NEW 2023-11-22 method: Get the templates (which can be filtered by frate first) and the from those get the decoders):        \n",
    "# track_templates: TrackTemplates = directional_laps_results.get_shared_aclus_only_templates(minimum_inclusion_fr_Hz=minimum_inclusion_fr_Hz) # shared-only\n",
    "track_templates: TrackTemplates = directional_laps_results.get_templates(minimum_inclusion_fr_Hz=minimum_inclusion_fr_Hz) # non-shared-only\n",
    "long_LR_decoder, long_RL_decoder, short_LR_decoder, short_RL_decoder = track_templates.get_decoders()\n",
    "\n",
    "# Unpack all directional variables:\n",
    "## {\"even\": \"RL\", \"odd\": \"LR\"}\n",
    "long_LR_name, short_LR_name, global_LR_name, long_RL_name, short_RL_name, global_RL_name, long_any_name, short_any_name, global_any_name = ['maze1_odd', 'maze2_odd', 'maze_odd', 'maze1_even', 'maze2_even', 'maze_even', 'maze1_any', 'maze2_any', 'maze_any']\n",
    "# Unpacking for `(long_LR_name, long_RL_name, short_LR_name, short_RL_name)`\n",
    "(long_LR_context, long_RL_context, short_LR_context, short_RL_context) = [curr_active_pipeline.filtered_contexts[a_name] for a_name in (long_LR_name, long_RL_name, short_LR_name, short_RL_name)]\n",
    "long_LR_epochs_obj, long_RL_epochs_obj, short_LR_epochs_obj, short_RL_epochs_obj, global_any_laps_epochs_obj = [curr_active_pipeline.computation_results[an_epoch_name].computation_config.pf_params.computation_epochs for an_epoch_name in (long_LR_name, long_RL_name, short_LR_name, short_RL_name, global_any_name)] # note has global also\n",
    "(long_LR_session, long_RL_session, short_LR_session, short_RL_session) = [curr_active_pipeline.filtered_sessions[an_epoch_name] for an_epoch_name in (long_LR_name, long_RL_name, short_LR_name, short_RL_name)] # sessions are correct at least, seems like just the computation parameters are messed up\n",
    "(long_LR_results, long_RL_results, short_LR_results, short_RL_results) = [curr_active_pipeline.computation_results[an_epoch_name].computed_data for an_epoch_name in (long_LR_name, long_RL_name, short_LR_name, short_RL_name)]\n",
    "(long_LR_computation_config, long_RL_computation_config, short_LR_computation_config, short_RL_computation_config) = [curr_active_pipeline.computation_results[an_epoch_name].computation_config for an_epoch_name in (long_LR_name, long_RL_name, short_LR_name, short_RL_name)]\n",
    "(long_LR_pf1D, long_RL_pf1D, short_LR_pf1D, short_RL_pf1D) = (long_LR_results.pf1D, long_RL_results.pf1D, short_LR_results.pf1D, short_RL_results.pf1D)\n",
    "(long_LR_pf2D, long_RL_pf2D, short_LR_pf2D, short_RL_pf2D) = (long_LR_results.pf2D, long_RL_results.pf2D, short_LR_results.pf2D, short_RL_results.pf2D)\n",
    "(long_LR_pf1D_Decoder, long_RL_pf1D_Decoder, short_LR_pf1D_Decoder, short_RL_pf1D_Decoder) = (long_LR_results.pf1D_Decoder, long_RL_results.pf1D_Decoder, short_LR_results.pf1D_Decoder, short_RL_results.pf1D_Decoder)\n",
    "\n",
    "# `LongShortStatsItem` form (2024-01-02):\n",
    "# LR_results_real_values = np.array([(a_result_item.long_stats_z_scorer.real_value, a_result_item.short_stats_z_scorer.real_value) for epoch_id, a_result_item in rank_order_results.LR_ripple.ranked_aclus_stats_dict.items()])\n",
    "# RL_results_real_values = np.array([(a_result_item.long_stats_z_scorer.real_value, a_result_item.short_stats_z_scorer.real_value) for epoch_id, a_result_item in rank_order_results.RL_ripple.ranked_aclus_stats_dict.items()])\n",
    "LR_results_long_short_z_diffs = np.array([a_result_item.long_short_z_diff for epoch_id, a_result_item in rank_order_results.LR_ripple.ranked_aclus_stats_dict.items()])\n",
    "RL_results_long_short_z_diff = np.array([a_result_item.long_short_z_diff for epoch_id, a_result_item in rank_order_results.RL_ripple.ranked_aclus_stats_dict.items()])\n"
   ]
  },
  {
   "cell_type": "code",
   "execution_count": null,
   "id": "c260739a4f36c662",
   "metadata": {},
   "outputs": [],
   "source": [
    "active_burst_intervals = curr_active_pipeline.computation_results[global_epoch_name].computed_data['burst_detection']['burst_intervals']\n",
    "# active_burst_intervals"
   ]
  },
  {
   "cell_type": "code",
   "execution_count": null,
   "id": "769a1c6006aba5b7",
   "metadata": {},
   "outputs": [],
   "source": [
    "# Relative Entropy/Surprise Results:\n",
    "active_extended_stats = global_results['extended_stats']\n",
    "active_relative_entropy_results = active_extended_stats['pf_dt_sequential_surprise'] # DynamicParameters\n",
    "historical_snapshots = active_relative_entropy_results['historical_snapshots']\n",
    "post_update_times: np.ndarray = active_relative_entropy_results['post_update_times'] # (4152,) = (n_post_update_times,)\n",
    "snapshot_differences_result_dict = active_relative_entropy_results['snapshot_differences_result_dict']\n",
    "time_intervals: np.ndarray = active_relative_entropy_results['time_intervals']\n",
    "surprise_time_bin_duration = (post_update_times[2]-post_update_times[1])\n",
    "long_short_rel_entr_curves_frames: np.ndarray = active_relative_entropy_results['long_short_rel_entr_curves_frames'] # (4152, 108, 63) = (n_post_update_times, n_neurons, n_xbins)\n",
    "short_long_rel_entr_curves_frames: np.ndarray = active_relative_entropy_results['short_long_rel_entr_curves_frames'] # (4152, 108, 63) = (n_post_update_times, n_neurons, n_xbins)\n",
    "flat_relative_entropy_results: np.ndarray = active_relative_entropy_results['flat_relative_entropy_results'] # (149, 63) - (nSnapshots, nXbins)\n",
    "flat_jensen_shannon_distance_results: np.ndarray = active_relative_entropy_results['flat_jensen_shannon_distance_results'] # (149, 63) - (nSnapshots, nXbins)\n",
    "flat_jensen_shannon_distance_across_all_positions: np.ndarray = np.sum(np.abs(flat_jensen_shannon_distance_results), axis=1) # sum across all position bins # (4152,) - (nSnapshots)\n",
    "flat_surprise_across_all_positions: np.ndarray = np.sum(np.abs(flat_relative_entropy_results), axis=1) # sum across all position bins # (4152,) - (nSnapshots)\n",
    "\n",
    "## Get the placefield dt matrix:\n",
    "if 'snapshot_occupancy_weighted_tuning_maps' not in active_relative_entropy_results:\n",
    "\t## Compute it if missing:\n",
    "\toccupancy_weighted_tuning_maps_over_time = np.stack([placefield_snapshot.occupancy_weighted_tuning_maps_matrix for placefield_snapshot in historical_snapshots.values()])\n",
    "\tactive_relative_entropy_results['snapshot_occupancy_weighted_tuning_maps'] = occupancy_weighted_tuning_maps_over_time\n",
    "else:\n",
    "\toccupancy_weighted_tuning_maps_over_time = active_relative_entropy_results['snapshot_occupancy_weighted_tuning_maps'] # (n_post_update_times, n_neurons, n_xbins)\n"
   ]
  },
  {
   "cell_type": "code",
   "execution_count": null,
   "id": "9554d3bf5955d9d3",
   "metadata": {},
   "outputs": [],
   "source": [
    "# Time-dependent\n",
    "long_pf1D_dt, short_pf1D_dt, global_pf1D_dt = long_results.pf1D_dt, short_results.pf1D_dt, global_results.pf1D_dt\n",
    "long_pf2D_dt, short_pf2D_dt, global_pf2D_dt = long_results.pf2D_dt, short_results.pf2D_dt, global_results.pf2D_dt\n",
    "global_pf1D_dt: PfND_TimeDependent = global_results.pf1D_dt\n",
    "global_pf2D_dt: PfND_TimeDependent = global_results.pf2D_dt"
   ]
  },
  {
   "cell_type": "code",
   "execution_count": null,
   "id": "8624c62d5c18c556",
   "metadata": {},
   "outputs": [],
   "source": [
    "## long_short_endcap_analysis: checks for cells localized to the endcaps that have their placefields truncated after shortening the track\n",
    "truncation_checking_result: TruncationCheckingResults = curr_active_pipeline.global_computation_results.computed_data.long_short_endcap\n",
    "disappearing_endcap_aclus = truncation_checking_result.disappearing_endcap_aclus\n",
    "# disappearing_endcap_aclus\n",
    "trivially_remapping_endcap_aclus = truncation_checking_result.minor_remapping_endcap_aclus\n",
    "# trivially_remapping_endcap_aclus\n",
    "significant_distant_remapping_endcap_aclus = truncation_checking_result.significant_distant_remapping_endcap_aclus\n",
    "# significant_distant_remapping_endcap_aclus\n",
    "appearing_aclus = jonathan_firing_rate_analysis_result.neuron_replay_stats_df[jonathan_firing_rate_analysis_result.neuron_replay_stats_df['track_membership'] == SplitPartitionMembership.RIGHT_ONLY].index\n",
    "# appearing_aclus"
   ]
  },
  {
   "cell_type": "markdown",
   "id": "426c292d",
   "metadata": {},
   "source": [
    "\n",
    "\n",
    "\n",
    "\n",
    "# Saving/Loading `DirectionalLaps_2Hz`"
   ]
  },
  {
   "cell_type": "code",
   "execution_count": null,
   "id": "5ed6c50e",
   "metadata": {
    "tags": [
     "save",
     "persistance"
    ]
   },
   "outputs": [],
   "source": [
    "from datetime import datetime, date, timedelta\n",
    "from pyphocorehelpers.print_helpers import get_now_day_str, get_now_rounded_time_str\n",
    "from pyphoplacecellanalysis.General.Pipeline.Stages.ComputationFunctions.MultiContextComputationFunctions.RankOrderComputations import save_rank_order_results\n",
    "\n",
    "# DAY_DATE_STR: str = date.today().strftime(\"%Y-%m-%d\")\n",
    "# DAY_DATE_TO_USE = f'{DAY_DATE_STR}' # used for filenames throught the notebook\n",
    "# print(f'DAY_DATE_STR: {DAY_DATE_STR}, DAY_DATE_TO_USE: {DAY_DATE_TO_USE}')\n",
    "\n",
    "# NOW_DATETIME: str = get_now_rounded_time_str()\n",
    "# NOW_DATETIME_TO_USE = f'{NOW_DATETIME}' # used for filenames throught the notebook\n",
    "# print(f'NOW_DATETIME: {NOW_DATETIME}, NOW_DATETIME_TO_USE: {NOW_DATETIME_TO_USE}')\n",
    "\n",
    "formatted_time = get_now_rounded_time_str()\n",
    "print(formatted_time)\n",
    "save_rank_order_results(curr_active_pipeline, day_date=f\"{formatted_time}\") # \"2024-01-02_301pm\" \"2024-01-02_322pm\" 322pm # \"2024-01-02_301pm\" \"2024-01-02_322pm\" 322pm\n",
    "# '2024-01-09_0125PM-minimum_inclusion_fr-5-included_qclu_values-[1, 2]'\n"
   ]
  },
  {
   "cell_type": "code",
   "execution_count": null,
   "id": "e700b239",
   "metadata": {},
   "outputs": [],
   "source": [
    "search_path = Path('/media/MAX/Data/KDIBA/gor01/one/2006-6-08_14-26-15/output/').resolve()\n",
    "# /media/halechr/MAX/Data/KDIBA/gor01/two/2006-6-07_16-40-19/output/2024-02-16_0427PM-minimum_inclusion_fr-5-included_qclu_values-[1, 2]DirectionalMergedDecoders.pkl\n",
    "sorted(search_path.glob(f\"{DAY_DATE_TO_USE}*\"))\n"
   ]
  },
  {
   "cell_type": "code",
   "execution_count": null,
   "id": "02da8a7c",
   "metadata": {
    "tags": [
     "load"
    ]
   },
   "outputs": [],
   "source": [
    "from pyphoplacecellanalysis.General.Pipeline.Stages.ComputationFunctions.MultiContextComputationFunctions.RankOrderComputations import SaveStringGenerator\n",
    "from pyphoplacecellanalysis.General.Pipeline.Stages.Loading import loadData\n",
    "\n",
    "# Load the data from a file into the pipeline:\n",
    "# out_filename_str: str = '2023-12-11-minimum_inclusion_fr_Hz_2_included_qclu_values_1-2_' # specific\n",
    "\n",
    "minimum_inclusion_fr_Hz: float = 5.0\n",
    "included_qclu_values: List[int] = [1,2]\n",
    "out_filename_str = SaveStringGenerator.generate_save_suffix(minimum_inclusion_fr_Hz=minimum_inclusion_fr_Hz, included_qclu_values=included_qclu_values, day_date=f'{DAY_DATE_TO_USE}_11am') # '2023-12-21_349am'\n",
    "# out_filename_str = SaveStringGenerator.generate_save_suffix(minimum_inclusion_fr_Hz=minimum_inclusion_fr_Hz, included_qclu_values=included_qclu_values, day_date='2023-12-22_312pm') # '2023-12-21_349am'\n",
    "print(f'out_filename_str: \"{out_filename_str}\"')\n",
    "# day_date_str: str = '2023-12-11_with_tuple_newer_'\n",
    "# day_date_str: str = ''\n",
    "directional_laps_output_path = curr_active_pipeline.get_output_path().joinpath(f'{out_filename_str}DirectionalLaps.pkl').resolve()\n",
    "assert directional_laps_output_path.exists()\n",
    "# loaded_directional_laps, loaded_rank_order = loadData(directional_laps_output_path)\n",
    "loaded_directional_laps = loadData(directional_laps_output_path)\n",
    "assert (loaded_directional_laps is not None)\n",
    "# assert (loaded_rank_order is not None)\n",
    "\n",
    "rank_order_output_path = curr_active_pipeline.get_output_path().joinpath(f'{out_filename_str}RankOrder.pkl').resolve()\n",
    "loaded_rank_order = loadData(rank_order_output_path)"
   ]
  },
  {
   "cell_type": "code",
   "execution_count": null,
   "id": "475a82b8",
   "metadata": {},
   "outputs": [],
   "source": [
    "# Apply the loaded data to the pipeline:\n",
    "curr_active_pipeline.global_computation_results.computed_data['DirectionalLaps'], curr_active_pipeline.global_computation_results.computed_data['RankOrder'] = loaded_directional_laps, loaded_rank_order\n",
    "curr_active_pipeline.global_computation_results.computed_data['RankOrder']"
   ]
  },
  {
   "cell_type": "code",
   "execution_count": null,
   "id": "cd521ff3",
   "metadata": {},
   "outputs": [],
   "source": [
    "rank_order_results.RL_ripple.selected_spikes_df"
   ]
  },
  {
   "cell_type": "code",
   "execution_count": null,
   "id": "7c0a14f8",
   "metadata": {},
   "outputs": [],
   "source": [
    "rank_order_results.LR_ripple.selected_spikes_df"
   ]
  },
  {
   "cell_type": "markdown",
   "id": "f4ec24467335a760",
   "metadata": {},
   "source": [
    "# POST-Compute:"
   ]
  },
  {
   "cell_type": "code",
   "execution_count": 14,
   "id": "728c46e6",
   "metadata": {
    "notebookRunGroups": {
     "groupValue": "21"
    },
    "tags": [
     "unwrap"
    ]
   },
   "outputs": [
    {
     "name": "stdout",
     "output_type": "stream",
     "text": [
      "minimum_inclusion_fr_Hz: 5.0\n",
      "included_qclu_values: [1, 2]\n",
      "laps_decoding_time_bin_size: 0.025, ripple_decoding_time_bin_size: 0.025\n"
     ]
    }
   ],
   "source": [
    "from pyphoplacecellanalysis.General.Pipeline.Stages.ComputationFunctions.MultiContextComputationFunctions.DirectionalPlacefieldGlobalComputationFunctions import DirectionalPlacefieldGlobalDisplayFunctions\n",
    "from pyphoplacecellanalysis.General.Pipeline.Stages.DisplayFunctions.SpikeRasters import plot_multi_sort_raster_browser\n",
    "from pyphoplacecellanalysis.GUI.PyQtPlot.Widgets.ContainerBased.RankOrderRastersDebugger import RankOrderRastersDebugger\n",
    "\n",
    "from pyphoplacecellanalysis.General.Pipeline.Stages.DisplayFunctions.SpikeRasters import paired_separately_sort_neurons, paired_incremental_sort_neurons # _display_directional_template_debugger\n",
    "from neuropy.utils.indexing_helpers import paired_incremental_sorting, union_of_arrays, intersection_of_arrays, find_desired_sort_indicies\n",
    "from pyphoplacecellanalysis.GUI.Qt.Widgets.ScrollBarWithSpinBox.ScrollBarWithSpinBox import ScrollBarWithSpinBox\n",
    "\n",
    "from neuropy.utils.mixins.HDF5_representable import HDF_SerializationMixin\n",
    "from pyphoplacecellanalysis.General.Model.ComputationResults import ComputedResult\n",
    "from pyphoplacecellanalysis.General.Pipeline.Stages.ComputationFunctions.MultiContextComputationFunctions.DirectionalPlacefieldGlobalComputationFunctions import TrackTemplates\n",
    "from pyphoplacecellanalysis.General.Pipeline.Stages.ComputationFunctions.MultiContextComputationFunctions.RankOrderComputations import RankOrderAnalyses, RankOrderResult, ShuffleHelper, Zscorer, LongShortStatsTuple, DirectionalRankOrderLikelihoods, DirectionalRankOrderResult, RankOrderComputationsContainer\n",
    "from pyphoplacecellanalysis.General.Pipeline.Stages.ComputationFunctions.MultiContextComputationFunctions.RankOrderComputations import TimeColumnAliasesProtocol\n",
    "from pyphoplacecellanalysis.General.Pipeline.Stages.ComputationFunctions.MultiContextComputationFunctions.RankOrderComputations import RankOrderComputationsContainer\n",
    "from pyphoplacecellanalysis.General.Pipeline.Stages.ComputationFunctions.MultiContextComputationFunctions.RankOrderComputations import DirectionalRankOrderResult\n",
    "from pyphoplacecellanalysis.General.Pipeline.Stages.ComputationFunctions.MultiContextComputationFunctions.DirectionalPlacefieldGlobalComputationFunctions import DirectionalMergedDecodersResult\n",
    "\n",
    "## Display Testing\n",
    "# from pyphoplacecellanalysis.External.pyqtgraph import QtGui\n",
    "from pyphoplacecellanalysis.Pho2D.PyQtPlots.Extensions.pyqtgraph_helpers import pyqtplot_build_image_bounds_extent, pyqtplot_plot_image\n",
    "\n",
    "spikes_df = curr_active_pipeline.sess.spikes_df\n",
    "rank_order_results: RankOrderComputationsContainer = curr_active_pipeline.global_computation_results.computed_data['RankOrder']\n",
    "minimum_inclusion_fr_Hz: float = rank_order_results.minimum_inclusion_fr_Hz\n",
    "included_qclu_values: List[int] = rank_order_results.included_qclu_values\n",
    "ripple_result_tuple, laps_result_tuple = rank_order_results.ripple_most_likely_result_tuple, rank_order_results.laps_most_likely_result_tuple\n",
    "directional_laps_results: DirectionalLapsResult = curr_active_pipeline.global_computation_results.computed_data['DirectionalLaps']\n",
    "track_templates: TrackTemplates = directional_laps_results.get_templates(minimum_inclusion_fr_Hz=minimum_inclusion_fr_Hz) # non-shared-only -- !! Is minimum_inclusion_fr_Hz=None the issue/difference?\n",
    "print(f'minimum_inclusion_fr_Hz: {minimum_inclusion_fr_Hz}')\n",
    "print(f'included_qclu_values: {included_qclu_values}')\n",
    "# ripple_result_tuple\n",
    "\n",
    "## Unpacks `rank_order_results`: \n",
    "# global_replays = Epoch(deepcopy(curr_active_pipeline.filtered_sessions[global_epoch_name].replay))\n",
    "# global_replays = TimeColumnAliasesProtocol.renaming_synonym_columns_if_needed(deepcopy(curr_active_pipeline.filtered_sessions[global_epoch_name].replay))\n",
    "# active_replay_epochs, active_epochs_df, active_selected_spikes_df = combine_rank_order_results(rank_order_results, global_replays, track_templates=track_templates)\n",
    "# active_epochs_df\n",
    "\n",
    "# ripple_result_tuple.directional_likelihoods_tuple.long_best_direction_indices\n",
    "dir_index_to_direction_name_map: Dict[int, str] = {0:'LR', 1:\"RL\"}\n",
    "\n",
    "\n",
    "## All three DataFrames are the same number of rows, each with one row corresponding to an Epoch:\n",
    "active_replay_epochs_df = deepcopy(rank_order_results.LR_ripple.epochs_df)\n",
    "# active_replay_epochs_df\n",
    "\n",
    "# Change column type to int8 for columns: 'long_best_direction_indices', 'short_best_direction_indices'\n",
    "# directional_likelihoods_df = pd.DataFrame.from_dict(ripple_result_tuple.directional_likelihoods_tuple._asdict()).astype({'long_best_direction_indices': 'int8', 'short_best_direction_indices': 'int8'})\n",
    "directional_likelihoods_df = ripple_result_tuple.directional_likelihoods_df\n",
    "# directional_likelihoods_df\n",
    "\n",
    "# 2023-12-15 - Newest method:\n",
    "# laps_combined_epoch_stats_df = rank_order_results.laps_combined_epoch_stats_df\n",
    "\n",
    "# ripple_combined_epoch_stats_df: pd.DataFrame  = rank_order_results.ripple_combined_epoch_stats_df\n",
    "# ripple_combined_epoch_stats_df\n",
    "\n",
    "\n",
    "# # Concatenate the three DataFrames along the columns axis:\n",
    "# # Assert that all DataFrames have the same number of rows:\n",
    "# assert len(active_replay_epochs_df) == len(directional_likelihoods_df) == len(ripple_combined_epoch_stats_df), \"DataFrames have different numbers of rows.\"\n",
    "# # Assert that all DataFrames have at least one row:\n",
    "# assert len(active_replay_epochs_df) > 0, \"active_replay_epochs_df is empty.\"\n",
    "# assert len(directional_likelihoods_df) > 0, \"directional_likelihoods_df is empty.\"\n",
    "# assert len(ripple_combined_epoch_stats_df) > 0, \"ripple_combined_epoch_stats_df is empty.\"\n",
    "# merged_complete_epoch_stats_df: pd.DataFrame = pd.concat([active_replay_epochs_df.reset_index(drop=True, inplace=False), directional_likelihoods_df.reset_index(drop=True, inplace=False), ripple_combined_epoch_stats_df.reset_index(drop=True, inplace=False)], axis=1)\n",
    "# merged_complete_epoch_stats_df = merged_complete_epoch_stats_df.set_index(active_replay_epochs_df.index, inplace=False)\n",
    "\n",
    "# merged_complete_epoch_stats_df: pd.DataFrame = rank_order_results.ripple_merged_complete_epoch_stats_df ## New method\n",
    "# merged_complete_epoch_stats_df.to_csv('output/2023-12-21_merged_complete_epoch_stats_df.csv')\n",
    "# merged_complete_epoch_stats_df\n",
    "\n",
    "laps_merged_complete_epoch_stats_df: pd.DataFrame = rank_order_results.laps_merged_complete_epoch_stats_df ## New method\n",
    "ripple_merged_complete_epoch_stats_df: pd.DataFrame = rank_order_results.ripple_merged_complete_epoch_stats_df ## New method\n",
    "\n",
    "# DirectionalMergedDecoders: Get the result after computation:\n",
    "directional_merged_decoders_result: DirectionalMergedDecodersResult = curr_active_pipeline.global_computation_results.computed_data['DirectionalMergedDecoders']\n",
    "\n",
    "all_directional_decoder_dict_value = directional_merged_decoders_result.all_directional_decoder_dict\n",
    "all_directional_pf1D_Decoder_value = directional_merged_decoders_result.all_directional_pf1D_Decoder\n",
    "# long_directional_pf1D_Decoder_value = directional_merged_decoders_result.long_directional_pf1D_Decoder\n",
    "# long_directional_decoder_dict_value = directional_merged_decoders_result.long_directional_decoder_dict\n",
    "# short_directional_pf1D_Decoder_value = directional_merged_decoders_result.short_directional_pf1D_Decoder\n",
    "# short_directional_decoder_dict_value = directional_merged_decoders_result.short_directional_decoder_dict\n",
    "\n",
    "all_directional_laps_filter_epochs_decoder_result_value = directional_merged_decoders_result.all_directional_laps_filter_epochs_decoder_result\n",
    "all_directional_ripple_filter_epochs_decoder_result_value = directional_merged_decoders_result.all_directional_ripple_filter_epochs_decoder_result\n",
    "\n",
    "laps_directional_marginals, laps_directional_all_epoch_bins_marginal, laps_most_likely_direction_from_decoder, laps_is_most_likely_direction_LR_dir  = directional_merged_decoders_result.laps_directional_marginals_tuple\n",
    "laps_track_identity_marginals, laps_track_identity_all_epoch_bins_marginal, laps_most_likely_track_identity_from_decoder, laps_is_most_likely_track_identity_Long = directional_merged_decoders_result.laps_track_identity_marginals_tuple\n",
    "ripple_directional_marginals, ripple_directional_all_epoch_bins_marginal, ripple_most_likely_direction_from_decoder, ripple_is_most_likely_direction_LR_dir  = directional_merged_decoders_result.ripple_directional_marginals_tuple\n",
    "ripple_track_identity_marginals, ripple_track_identity_all_epoch_bins_marginal, ripple_most_likely_track_identity_from_decoder, ripple_is_most_likely_track_identity_Long = directional_merged_decoders_result.ripple_track_identity_marginals_tuple\n",
    "\n",
    "ripple_decoding_time_bin_size: float = directional_merged_decoders_result.ripple_decoding_time_bin_size\n",
    "laps_decoding_time_bin_size: float = directional_merged_decoders_result.laps_decoding_time_bin_size\n",
    "\n",
    "print(f'laps_decoding_time_bin_size: {laps_decoding_time_bin_size}, ripple_decoding_time_bin_size: {ripple_decoding_time_bin_size}')\n",
    "\n",
    "laps_all_epoch_bins_marginals_df = directional_merged_decoders_result.laps_all_epoch_bins_marginals_df\n",
    "ripple_all_epoch_bins_marginals_df = directional_merged_decoders_result.ripple_all_epoch_bins_marginals_df\n"
   ]
  },
  {
   "cell_type": "code",
   "execution_count": 15,
   "id": "753ca336",
   "metadata": {
    "notebookRunGroups": {
     "groupValue": "1"
    }
   },
   "outputs": [
    {
     "name": "stdout",
     "output_type": "stream",
     "text": [
      "len(active_epochs_df): 133\n",
      "min_num_unique_aclu_inclusions: 9\n",
      "len(active_epochs_df): 85\n",
      "df_column_names: [['start', 'stop', 'label', 'duration', 'score', 'velocity', 'intercept', 'speed', 'wcorr', 'P_decoder', 'pearsonr', 'is_user_annotated_epoch', 'is_valid_epoch', 'travel', 'coverage', 'jump', 'sequential_correlation', 'monotonicity_score', 'laplacian_smoothness', 'longest_sequence_length', 'longest_sequence_length_ratio', 'direction_change_bin_ratio', 'congruent_dir_bins_ratio', 'total_congruent_direction_change'], ['start', 'stop', 'label', 'duration', 'score', 'velocity', 'intercept', 'speed', 'wcorr', 'P_decoder', 'pearsonr', 'is_user_annotated_epoch', 'is_valid_epoch', 'travel', 'coverage', 'jump', 'sequential_correlation', 'monotonicity_score', 'laplacian_smoothness', 'longest_sequence_length', 'longest_sequence_length_ratio', 'direction_change_bin_ratio', 'congruent_dir_bins_ratio', 'total_congruent_direction_change'], ['start', 'stop', 'label', 'duration', 'score', 'velocity', 'intercept', 'speed', 'wcorr', 'P_decoder', 'pearsonr', 'is_user_annotated_epoch', 'is_valid_epoch', 'travel', 'coverage', 'jump', 'sequential_correlation', 'monotonicity_score', 'laplacian_smoothness', 'longest_sequence_length', 'longest_sequence_length_ratio', 'direction_change_bin_ratio', 'congruent_dir_bins_ratio', 'total_congruent_direction_change'], ['start', 'stop', 'label', 'duration', 'score', 'velocity', 'intercept', 'speed', 'wcorr', 'P_decoder', 'pearsonr', 'is_user_annotated_epoch', 'is_valid_epoch', 'travel', 'coverage', 'jump', 'sequential_correlation', 'monotonicity_score', 'laplacian_smoothness', 'longest_sequence_length', 'longest_sequence_length_ratio', 'direction_change_bin_ratio', 'congruent_dir_bins_ratio', 'total_congruent_direction_change']]\n"
     ]
    },
    {
     "data": {
      "text/html": [
       "<div>\n",
       "<style scoped>\n",
       "    .dataframe tbody tr th:only-of-type {\n",
       "        vertical-align: middle;\n",
       "    }\n",
       "\n",
       "    .dataframe tbody tr th {\n",
       "        vertical-align: top;\n",
       "    }\n",
       "\n",
       "    .dataframe thead th {\n",
       "        text-align: right;\n",
       "    }\n",
       "</style>\n",
       "<table border=\"1\" class=\"dataframe\">\n",
       "  <thead>\n",
       "    <tr style=\"text-align: right;\">\n",
       "      <th></th>\n",
       "      <th>start</th>\n",
       "      <th>stop</th>\n",
       "      <th>label</th>\n",
       "      <th>duration</th>\n",
       "      <th>end</th>\n",
       "      <th>n_unique_aclus</th>\n",
       "    </tr>\n",
       "  </thead>\n",
       "  <tbody>\n",
       "    <tr>\n",
       "      <th>0</th>\n",
       "      <td>127.872518</td>\n",
       "      <td>128.242295</td>\n",
       "      <td>6</td>\n",
       "      <td>0.369776</td>\n",
       "      <td>128.242295</td>\n",
       "      <td>25</td>\n",
       "    </tr>\n",
       "    <tr>\n",
       "      <th>1</th>\n",
       "      <td>153.505672</td>\n",
       "      <td>153.850873</td>\n",
       "      <td>11</td>\n",
       "      <td>0.345200</td>\n",
       "      <td>153.850873</td>\n",
       "      <td>21</td>\n",
       "    </tr>\n",
       "    <tr>\n",
       "      <th>2</th>\n",
       "      <td>165.036019</td>\n",
       "      <td>165.260244</td>\n",
       "      <td>12</td>\n",
       "      <td>0.224225</td>\n",
       "      <td>165.260244</td>\n",
       "      <td>17</td>\n",
       "    </tr>\n",
       "    <tr>\n",
       "      <th>3</th>\n",
       "      <td>535.653829</td>\n",
       "      <td>535.812313</td>\n",
       "      <td>55</td>\n",
       "      <td>0.158484</td>\n",
       "      <td>535.812313</td>\n",
       "      <td>14</td>\n",
       "    </tr>\n",
       "    <tr>\n",
       "      <th>4</th>\n",
       "      <td>540.199004</td>\n",
       "      <td>540.442306</td>\n",
       "      <td>57</td>\n",
       "      <td>0.243302</td>\n",
       "      <td>540.442306</td>\n",
       "      <td>15</td>\n",
       "    </tr>\n",
       "    <tr>\n",
       "      <th>5</th>\n",
       "      <td>615.091377</td>\n",
       "      <td>615.238003</td>\n",
       "      <td>66</td>\n",
       "      <td>0.146626</td>\n",
       "      <td>615.238003</td>\n",
       "      <td>12</td>\n",
       "    </tr>\n",
       "    <tr>\n",
       "      <th>...</th>\n",
       "      <td>...</td>\n",
       "      <td>...</td>\n",
       "      <td>...</td>\n",
       "      <td>...</td>\n",
       "      <td>...</td>\n",
       "      <td>...</td>\n",
       "    </tr>\n",
       "    <tr>\n",
       "      <th>9</th>\n",
       "      <td>735.218189</td>\n",
       "      <td>735.375414</td>\n",
       "      <td>95</td>\n",
       "      <td>0.157225</td>\n",
       "      <td>735.375414</td>\n",
       "      <td>17</td>\n",
       "    </tr>\n",
       "    <tr>\n",
       "      <th>10</th>\n",
       "      <td>761.180262</td>\n",
       "      <td>761.553479</td>\n",
       "      <td>102</td>\n",
       "      <td>0.373217</td>\n",
       "      <td>761.553479</td>\n",
       "      <td>21</td>\n",
       "    </tr>\n",
       "    <tr>\n",
       "      <th>11</th>\n",
       "      <td>892.791433</td>\n",
       "      <td>893.040695</td>\n",
       "      <td>120</td>\n",
       "      <td>0.249262</td>\n",
       "      <td>893.040695</td>\n",
       "      <td>15</td>\n",
       "    </tr>\n",
       "    <tr>\n",
       "      <th>12</th>\n",
       "      <td>1006.692932</td>\n",
       "      <td>1006.828592</td>\n",
       "      <td>139</td>\n",
       "      <td>0.135659</td>\n",
       "      <td>1006.828592</td>\n",
       "      <td>14</td>\n",
       "    </tr>\n",
       "    <tr>\n",
       "      <th>13</th>\n",
       "      <td>1021.843875</td>\n",
       "      <td>1021.977814</td>\n",
       "      <td>147</td>\n",
       "      <td>0.133939</td>\n",
       "      <td>1021.977814</td>\n",
       "      <td>15</td>\n",
       "    </tr>\n",
       "    <tr>\n",
       "      <th>14</th>\n",
       "      <td>1028.172130</td>\n",
       "      <td>1028.618430</td>\n",
       "      <td>150</td>\n",
       "      <td>0.446300</td>\n",
       "      <td>1028.618430</td>\n",
       "      <td>26</td>\n",
       "    </tr>\n",
       "  </tbody>\n",
       "</table>\n",
       "<p>15 rows × 6 columns</p>\n",
       "</div>"
      ],
      "text/plain": [
       "          start         stop label  duration          end  n_unique_aclus\n",
       "0    127.872518   128.242295     6  0.369776   128.242295              25\n",
       "1    153.505672   153.850873    11  0.345200   153.850873              21\n",
       "2    165.036019   165.260244    12  0.224225   165.260244              17\n",
       "3    535.653829   535.812313    55  0.158484   535.812313              14\n",
       "4    540.199004   540.442306    57  0.243302   540.442306              15\n",
       "5    615.091377   615.238003    66  0.146626   615.238003              12\n",
       "..          ...          ...   ...       ...          ...             ...\n",
       "9    735.218189   735.375414    95  0.157225   735.375414              17\n",
       "10   761.180262   761.553479   102  0.373217   761.553479              21\n",
       "11   892.791433   893.040695   120  0.249262   893.040695              15\n",
       "12  1006.692932  1006.828592   139  0.135659  1006.828592              14\n",
       "13  1021.843875  1021.977814   147  0.133939  1021.977814              15\n",
       "14  1028.172130  1028.618430   150  0.446300  1028.618430              26\n",
       "\n",
       "[15 rows x 6 columns]"
      ]
     },
     "execution_count": 15,
     "metadata": {},
     "output_type": "execute_result"
    }
   ],
   "source": [
    "from pyphoplacecellanalysis.General.Pipeline.Stages.ComputationFunctions.MultiContextComputationFunctions.DirectionalPlacefieldGlobalComputationFunctions import filter_and_update_epochs_and_spikes\n",
    "# from pyphoplacecellanalysis.SpecificResults.PendingNotebookCode import HeuristicReplayScoring\n",
    "from neuropy.core.epoch import find_data_indicies_from_epoch_times\n",
    "from pyphoplacecellanalysis.SpecificResults.PendingNotebookCode import _perform_filter_replay_epochs\n",
    "\n",
    "filtered_epochs_df, filtered_decoder_filter_epochs_decoder_result_dict, filtered_ripple_all_epoch_bins_marginals_df = _perform_filter_replay_epochs(curr_active_pipeline, global_epoch_name, track_templates, decoder_ripple_filter_epochs_decoder_result_dict, ripple_all_epoch_bins_marginals_df, ripple_decoding_time_bin_size=ripple_decoding_time_bin_size)\n",
    "filtered_epochs_df\n",
    "# filtered_ripple_all_epoch_bins_marginals_df"
   ]
  },
  {
   "cell_type": "markdown",
   "id": "1ae6e077",
   "metadata": {},
   "source": [
    "### 2024-02-29 - 4pm - Filter the events for those meeting wcorr criteria:\n"
   ]
  },
  {
   "cell_type": "code",
   "execution_count": null,
   "id": "3ec8cd0c",
   "metadata": {},
   "outputs": [],
   "source": [
    "min_wcorr_threshold: float = 0.33\n",
    "min_wcorr_diff_threshold: float = 0.2\n",
    "\n",
    "is_included_large_wcorr_diff = np.any((filtered_ripple_all_epoch_bins_marginals_df[['wcorr_abs_diff']].abs() > min_wcorr_diff_threshold), axis=1)\n",
    "# is_included_large_wcorr_diff\n",
    "is_included_high_wcorr = np.any((filtered_ripple_all_epoch_bins_marginals_df[['long_best_wcorr', 'short_best_wcorr']].abs() > min_wcorr_threshold), axis=1)\n",
    "\n",
    "df = filtered_ripple_all_epoch_bins_marginals_df[is_included_large_wcorr_diff]\n",
    "# df = filtered_ripple_all_epoch_bins_marginals_df[is_included_high_wcorr]\n",
    "df\n",
    "\n",
    "# delta_aligned_start_t\n",
    "\n",
    "significant_epochs_start_ts = np.squeeze(df['ripple_start_t'].to_numpy()) ## for filtering\n",
    "\n",
    "filtered_decoder_filter_epochs_decoder_result_dict: Dict[str, DecodedFilterEpochsResult] = {a_name:a_result.filtered_by_epoch_times(significant_epochs_start_ts) for a_name, a_result in filtered_decoder_filter_epochs_decoder_result_dict.items()} # working filtered\n",
    "filtered_decoder_filter_epochs_decoder_result_dict\n",
    "filtered_epochs_df = filtered_epochs_df.epochs.matching_epoch_times_slice(significant_epochs_start_ts)\n",
    "# filtered_ripple_all_epoch_bins_marginals_df = filtered_ripple_all_epoch_bins_marginals_df.epochs.matching_epoch_times_slice(significant_epochs_start_ts)\n"
   ]
  },
  {
   "cell_type": "code",
   "execution_count": null,
   "id": "15332e73",
   "metadata": {},
   "outputs": [],
   "source": [
    "included_qclu_values: List[int] = rank_order_results.included_qclu_values\n",
    "included_qclu_values"
   ]
  },
  {
   "cell_type": "code",
   "execution_count": null,
   "id": "323af2ed",
   "metadata": {},
   "outputs": [],
   "source": [
    "import plotly.io as pio\n",
    "template: str = 'plotly_dark' # set plotl template\n",
    "pio.templates.default = template\n",
    "from PIL import Image\n",
    "\n",
    "from pyphocorehelpers.programming_helpers import copy_image_to_clipboard\n",
    "from pyphoplacecellanalysis.SpecificResults.PendingNotebookCode import _helper_build_figure, plotly_pre_post_delta_scatter, plot_across_sessions_scatter_results\n",
    "\n",
    "concatenated_ripple_df = deepcopy(filtered_ripple_all_epoch_bins_marginals_df)\n",
    "histogram_bins = 25\n",
    "# concatenated_ripple_df = deepcopy(df)\n",
    "\n",
    "scatter_title = 'Sevveral Sessions'\n",
    "# variable_name = 'P_Long'\n",
    "variable_name = 'wcorr_abs_diff'\n",
    "# variable_name = 'pearsonr_abs_diff'\n",
    "# 'color':'is_user_annotated_epoch'\n",
    "# 'color': 'is_user_annotated_epoch', \n",
    "px_scatter_kwargs = {'x': 'delta_aligned_start_t', 'y': variable_name, 'title': scatter_title, 'range_y': [-1.0, 1.0], 'labels': {'session_name': 'Session', 'time_bin_size': 'tbin_size', 'is_user_annotated_epoch':'user_sel'}} # , 'color': 'time_bin_size'\n",
    "# hist_kwargs = dict(color=\"time_bin_size\")\n",
    "hist_kwargs = dict(color=\"is_user_annotated_epoch\", histnorm='probability density')\n",
    "new_fig_ripples = plotly_pre_post_delta_scatter(data_results_df=deepcopy(concatenated_ripple_df), out_scatter_fig=None, histogram_bins=histogram_bins,\n",
    "                        px_scatter_kwargs=px_scatter_kwargs, histogram_variable_name=variable_name, hist_kwargs=hist_kwargs, forced_range_y=None,\n",
    "                        time_delta_tuple=((t_start-t_delta), 0.0, (t_end-t_delta)))\n",
    "\n",
    "\n",
    "# # create our callback function\n",
    "# def update_point(trace, points, selector):\n",
    "#     c = list(scatter.marker.color)\n",
    "#     s = list(scatter.marker.size)\n",
    "#     for i in points.point_inds:\n",
    "#         c[i] = '#bae2be'\n",
    "#         s[i] = 20\n",
    "#         with f.batch_update():\n",
    "#             scatter.marker.color = c\n",
    "#             scatter.marker.size = s\n",
    "\n",
    "\n",
    "# scatter.on_click(update_point)\n",
    "\n",
    "\n",
    "new_fig_ripples\n",
    "\n"
   ]
  },
  {
   "cell_type": "code",
   "execution_count": null,
   "id": "895102a8",
   "metadata": {},
   "outputs": [],
   "source": [
    "\n",
    "# Create a bubble chart for ripples\n",
    "enabled_time_bin_sizes = None\n",
    "# ripple_num_unique_sessions: int = concatenated_ripple_df.session_name.nunique(dropna=True) # number of unique sessions, ignoring the NA entries\n",
    "# ripple_num_unique_time_bins: int = concatenated_ripple_df.time_bin_size.nunique(dropna=True)\n",
    "# ripple_title_string_suffix: str = f'{ripple_num_unique_sessions} Sessions'\n",
    "ripple_title: str = f\"hmm\"\n",
    "fig_ripples = _helper_build_figure(data_results_df=concatenated_ripple_df, histogram_bins=25, earliest_delta_aligned_t_start=t_start, latest_delta_aligned_t_end=t_end, enabled_time_bin_sizes=enabled_time_bin_sizes, main_plot_mode='default', title=ripple_title)\n",
    "# fig_ripples.show()\n",
    "\n",
    "fig_to_clipboard(fig_ripples)\n",
    "\n"
   ]
  },
  {
   "cell_type": "code",
   "execution_count": null,
   "id": "35edc67f",
   "metadata": {},
   "outputs": [],
   "source": [
    "import seaborn as sns\n",
    "from pyphoplacecellanalysis.General.Pipeline.Stages.ComputationFunctions.MultiContextComputationFunctions.RankOrderComputations import plot_quantile_diffs\n",
    "\n",
    "_restore_previous_matplotlib_settings_callback = matplotlib_configuration_update(is_interactive=True, backend='Qt5Agg')\n",
    "global_epoch = curr_active_pipeline.filtered_epochs[global_epoch_name]\n",
    "short_epoch = curr_active_pipeline.filtered_epochs[short_epoch_name]\n",
    "split_time_t: float = short_epoch.t_start\n",
    "active_context = curr_active_pipeline.sess.get_context()\n",
    "\n",
    "collector = plot_quantile_diffs(filtered_ripple_all_epoch_bins_marginals_df, t_split=split_time_t, active_context=active_context)\n",
    "\n",
    "\n"
   ]
  },
  {
   "cell_type": "code",
   "execution_count": null,
   "id": "5fbdc306",
   "metadata": {},
   "outputs": [],
   "source": [
    "from pyphoplacecellanalysis.Pho2D.stacked_epoch_slices import PhoPaginatedMultiDecoderDecodedEpochsWindow\n",
    "from pyphoplacecellanalysis.General.Pipeline.Stages.DisplayFunctions.DecoderPredictionError import RadonTransformPlotDataProvider\n",
    "from pyphoplacecellanalysis.General.Pipeline.Stages.ComputationFunctions.MultiContextComputationFunctions.DirectionalPlacefieldGlobalComputationFunctions import filter_and_update_epochs_and_spikes\n",
    "from pyphoplacecellanalysis.SpecificResults.PendingNotebookCode import HeuristicReplayScoring\n",
    "\n",
    "## INPUTS: decoder_ripple_filter_epochs_decoder_result_dict\n",
    "\n",
    "# 2024-03-04 - Filter out the epochs based on the criteria:\n",
    "filtered_epochs_df, active_spikes_df = filter_and_update_epochs_and_spikes(curr_active_pipeline, global_epoch_name, track_templates, epoch_id_key_name='ripple_epoch_id', no_interval_fill_value=-1)\n",
    "## 2024-03-08 - Also constrain the user-selected ones (just to try it):\n",
    "decoder_user_selected_epoch_times_dict, any_good_selected_epoch_times = DecoderDecodedEpochsResult.load_user_selected_epoch_times(curr_active_pipeline, track_templates=track_templates)\n",
    "\n",
    "## filter the epochs by something and only show those:\n",
    "# INPUTS: filtered_epochs_df\n",
    "# filtered_ripple_simple_pf_pearson_merged_df = filtered_ripple_simple_pf_pearson_merged_df.epochs.matching_epoch_times_slice(active_epochs_df[['start', 'stop']].to_numpy())\n",
    "## Update the `decoder_ripple_filter_epochs_decoder_result_dict` with the included epochs:\n",
    "filtered_decoder_filter_epochs_decoder_result_dict: Dict[str, DecodedFilterEpochsResult] = {a_name:a_result.filtered_by_epoch_times(filtered_epochs_df[['start', 'stop']].to_numpy()) for a_name, a_result in decoder_ripple_filter_epochs_decoder_result_dict.items()} # working filtered\n",
    "# print(f\"any_good_selected_epoch_times.shape: {any_good_selected_epoch_times.shape}\") # (142, 2)\n",
    "## Constrain again now by the user selections\n",
    "filtered_decoder_filter_epochs_decoder_result_dict: Dict[str, DecodedFilterEpochsResult] = {a_name:a_result.filtered_by_epoch_times(any_good_selected_epoch_times) for a_name, a_result in filtered_decoder_filter_epochs_decoder_result_dict.items()}\n",
    "# filtered_decoder_filter_epochs_decoder_result_dict\n",
    "\n",
    "# 🟪 2024-02-29 - `compute_pho_heuristic_replay_scores`\n",
    "filtered_decoder_filter_epochs_decoder_result_dict, _out_new_scores = HeuristicReplayScoring.compute_all_heuristic_scores(track_templates=track_templates, a_decoded_filter_epochs_decoder_result_dict=filtered_decoder_filter_epochs_decoder_result_dict)\n",
    "## OUT: filtered_decoder_filter_epochs_decoder_result_dict"
   ]
  },
  {
   "cell_type": "code",
   "execution_count": null,
   "id": "8b53c5af",
   "metadata": {},
   "outputs": [],
   "source": [
    "# ripple_merged_complete_epoch_stats_df\n",
    "laps_merged_complete_epoch_stats_df\n",
    "['long_best_direction_indices', 'short_best_direction_indices', 'combined_best_direction_indicies', 'long_relative_direction_likelihoods', 'short_relative_direction_likelihoods']"
   ]
  },
  {
   "cell_type": "code",
   "execution_count": null,
   "id": "7433b81f",
   "metadata": {},
   "outputs": [],
   "source": [
    "## Find the time series of Long-likely events\n",
    "# type(long_RL_results) # DynamicParameters\n",
    "long_LR_pf1D_Decoder\n",
    "\n"
   ]
  },
  {
   "cell_type": "code",
   "execution_count": null,
   "id": "e8d2363d",
   "metadata": {},
   "outputs": [],
   "source": [
    "type(all_directional_decoder_dict_value)\n",
    "list(all_directional_decoder_dict_value.keys()) # ['long_LR', 'long_RL', 'short_LR', 'short_RL']"
   ]
  },
  {
   "cell_type": "code",
   "execution_count": null,
   "id": "634e6027",
   "metadata": {},
   "outputs": [],
   "source": [
    "laps_all_epoch_bins_marginals_df\n",
    "laps_most_likely_direction_from_decoder\n",
    "long_"
   ]
  },
  {
   "cell_type": "code",
   "execution_count": null,
   "id": "8cdabd71",
   "metadata": {},
   "outputs": [],
   "source": [
    "type(ripple_result_tuple) # pyphoplacecellanalysis.General.Pipeline.Stages.ComputationFunctions.MultiContextComputationFunctions.RankOrderComputations.DirectionalRankOrderResult\n"
   ]
  },
  {
   "cell_type": "code",
   "execution_count": null,
   "id": "8fca534c",
   "metadata": {},
   "outputs": [],
   "source": [
    "assert isinstance(ripple_result_tuple, DirectionalRankOrderResult) \n",
    "\n",
    "ripple_result_tuple.plot_histograms(num='test')"
   ]
  },
  {
   "cell_type": "code",
   "execution_count": null,
   "id": "15629dae",
   "metadata": {},
   "outputs": [],
   "source": [
    "from pyphoplacecellanalysis.General.Pipeline.Stages.ComputationFunctions.MultiContextComputationFunctions.RankOrderComputations import DirectionalRankOrderResult\n",
    "from pyphocorehelpers.DataStructure.RenderPlots.MatplotLibRenderPlots import MatplotlibRenderPlots \n",
    "\n",
    "# @register_type_display(DirectionalRankOrderResult)\n",
    "def plot_histograms(self: DirectionalRankOrderResult, **kwargs) -> \"MatplotlibRenderPlots\":\n",
    "\t\"\"\" \n",
    "\tnum='RipplesRankOrderZscore'\n",
    "\t\"\"\"\n",
    "\tprint(f'.plot_histograms(..., kwargs: {kwargs})')\n",
    "\tfig = plt.figure(layout=\"constrained\", **kwargs)\n",
    "\tax_dict = fig.subplot_mosaic(\n",
    "\t\t[\n",
    "\t\t\t[\"long_short_best_z_score_diff\", \"long_short_best_z_score_diff\"],\n",
    "\t\t\t[\"long_best_z_scores\", \"short_best_z_scores\"],\n",
    "\t\t],\n",
    "\t)\n",
    "\tplots = (pd.DataFrame({'long_best_z_scores': self.long_best_dir_z_score_values}).hist(ax=ax_dict['long_best_z_scores'], bins=21, alpha=0.8),\n",
    "\t\tpd.DataFrame({'short_best_z_scores': self.short_best_dir_z_score_values}).hist(ax=ax_dict['short_best_z_scores'], bins=21, alpha=0.8),\n",
    "\t\tpd.DataFrame({'long_short_best_z_score_diff': self.long_short_best_dir_z_score_diff_values}).hist(ax=ax_dict['long_short_best_z_score_diff'], bins=21, alpha=0.8),\n",
    "\t)\n",
    "\treturn MatplotlibRenderPlots(name='plot_histogram_figure', figures=[fig], axes=ax_dict)\n",
    "\n",
    "\n",
    "register_type_display(plot_histograms, DirectionalRankOrderResult)\n",
    "## Call the newly added `plot_histograms` function on the `ripple_result_tuple` object which is of type `DirectionalRankOrderResult`:\n",
    "assert isinstance(ripple_result_tuple, DirectionalRankOrderResult) \n",
    "ripple_result_tuple.plot_histograms(num='test')"
   ]
  },
  {
   "cell_type": "code",
   "execution_count": null,
   "id": "1c291690",
   "metadata": {},
   "outputs": [],
   "source": [
    "ripple_result_tuple.plot_histograms()"
   ]
  },
  {
   "cell_type": "code",
   "execution_count": null,
   "id": "33b30bcb",
   "metadata": {},
   "outputs": [],
   "source": [
    "print(f'\\t try saving to CSV...')\n",
    "merged_complete_epoch_stats_df = rank_order_results.ripple_merged_complete_epoch_stats_df ## New method\n",
    "merged_complete_epoch_stats_df\n",
    "merged_complete_ripple_epoch_stats_df_output_path = curr_active_pipeline.get_output_path().joinpath(f'{DAY_DATE_TO_USE}_1247pm_merged_complete_epoch_stats_df.csv').resolve()\n",
    "merged_complete_epoch_stats_df.to_csv(merged_complete_ripple_epoch_stats_df_output_path)\n",
    "print(f'\\t saving to CSV: {merged_complete_ripple_epoch_stats_df_output_path} done.')"
   ]
  },
  {
   "cell_type": "code",
   "execution_count": null,
   "id": "732743e6",
   "metadata": {},
   "outputs": [],
   "source": [
    "ripple_combined_epoch_stats_df = deepcopy(merged_complete_epoch_stats_df)\n",
    "\n",
    "# Filter rows based on columns: 'Long_BestDir_quantile', 'Short_BestDir_quantile'\n",
    "quantile_significance_threshold: float = 0.95\n",
    "significant_BestDir_quantile_stats_df = ripple_combined_epoch_stats_df[(ripple_combined_epoch_stats_df['Long_BestDir_quantile'] > quantile_significance_threshold) | (ripple_combined_epoch_stats_df['Short_BestDir_quantile'] > quantile_significance_threshold)]\n",
    "LR_likely_active_df = ripple_combined_epoch_stats_df[(ripple_combined_epoch_stats_df['combined_best_direction_indicies']==0) & ((ripple_combined_epoch_stats_df['LR_Long_rank_percentile'] > quantile_significance_threshold) | (ripple_combined_epoch_stats_df['LR_Short_rank_percentile'] > quantile_significance_threshold))]\n",
    "RL_likely_active_df = ripple_combined_epoch_stats_df[(ripple_combined_epoch_stats_df['combined_best_direction_indicies']==1) & ((ripple_combined_epoch_stats_df['RL_Long_rank_percentile'] > quantile_significance_threshold) | (ripple_combined_epoch_stats_df['RL_Short_rank_percentile'] > quantile_significance_threshold))]\n",
    "\n",
    "# significant_ripple_combined_epoch_stats_df = ripple_combined_epoch_stats_df[(ripple_combined_epoch_stats_df['LR_Long_rank_percentile'] > quantile_significance_threshold) | (ripple_combined_epoch_stats_df['LR_Short_rank_percentile'] > quantile_significance_threshold) | (ripple_combined_epoch_stats_df['RL_Long_rank_percentile'] > quantile_significance_threshold) | (ripple_combined_epoch_stats_df['RL_Short_rank_percentile'] > quantile_significance_threshold)]\n",
    "# significant_ripple_combined_epoch_stats_df\n",
    "is_epoch_significant = np.isin(ripple_combined_epoch_stats_df.index, significant_BestDir_quantile_stats_df.index)\n",
    "active_replay_epochs_df = rank_order_results.LR_ripple.epochs_df\n",
    "significant_ripple_epochs: Epoch = Epoch(deepcopy(active_replay_epochs_df).epochs.get_valid_df()).boolean_indicies_slice(is_epoch_significant)\n",
    "epoch_identifiers = significant_ripple_epochs._df.label.astype({'label': RankOrderAnalyses._label_column_type}).values #.labels\n",
    "x_values = significant_ripple_epochs.midtimes\n",
    "x_axis_name_suffix = 'Mid-time (Sec)'\n",
    "\n",
    "# significant_ripple_epochs_df = significant_ripple_epochs.to_dataframe()\n",
    "# significant_ripple_epochs_df\n",
    "\n",
    "significant_BestDir_quantile_stats_df['midtimes'] = significant_ripple_epochs.midtimes\n",
    "significant_BestDir_quantile_stats_df\n"
   ]
  },
  {
   "cell_type": "code",
   "execution_count": null,
   "id": "ee47f176",
   "metadata": {},
   "outputs": [],
   "source": [
    "from pyphocorehelpers.indexing_helpers import reorder_columns\n",
    "\n",
    "dict(zip(['Long_LR_evidence', 'Long_RL_evidence', 'Short_LR_evidence', 'Short_RL_evidence'], np.arange(4)+4))\n",
    "reorder_columns(merged_complete_epoch_stats_df, column_name_desired_index_dict=dict(zip(['Long_LR_evidence', 'Long_RL_evidence', 'Short_LR_evidence', 'Short_RL_evidence'], np.arange(4)+4)))\n"
   ]
  },
  {
   "cell_type": "markdown",
   "id": "2dceda30",
   "metadata": {},
   "source": [
    "## 2023-12-21 - Computing Spearman Percentiles as an alternative to the Z-score from shuffling, which does not seem to work for small numbers of active cells in an event:"
   ]
  },
  {
   "cell_type": "code",
   "execution_count": null,
   "id": "b45aa7e2",
   "metadata": {},
   "outputs": [],
   "source": [
    "output_active_epoch_computed_values, shuffled_results_output_dict, combined_variable_names, valid_stacked_arrays, real_stacked_arrays, n_valid_shuffles = rank_order_results.ripple_new_output_tuple\n",
    "# shuffled_results_output_dict['short_LR_pearson_Z']\n",
    "print(list(shuffled_results_output_dict.keys())) # ['short_LR_pearson_Z', 'short_LR_spearman_Z', 'short_RL_pearson_Z', 'short_RL_spearman_Z', 'long_LR_pearson_Z', 'long_RL_pearson_Z', 'long_RL_spearman_Z', 'long_LR_spearman_Z']\n",
    "\n",
    "['long_LR_pearson_Z', 'long_RL_pearson_Z', 'short_LR_pearson_Z', 'short_RL_pearson_Z']"
   ]
  },
  {
   "cell_type": "code",
   "execution_count": null,
   "id": "46b40bfe",
   "metadata": {},
   "outputs": [],
   "source": [
    "## 2023-12-22 - Add the LR-LR, RL-RL differences\n",
    "merged_complete_epoch_stats_df['LongShort_LR_quantile_diff'] = merged_complete_epoch_stats_df['LR_Long_rank_percentile'] - merged_complete_epoch_stats_df['LR_Short_rank_percentile']\n",
    "merged_complete_epoch_stats_df['LongShort_RL_quantile_diff'] = merged_complete_epoch_stats_df['RL_Long_rank_percentile'] - merged_complete_epoch_stats_df['RL_Short_rank_percentile']\n"
   ]
  },
  {
   "cell_type": "code",
   "execution_count": null,
   "id": "e73865dd",
   "metadata": {},
   "outputs": [],
   "source": [
    "ripple_combined_epoch_stats_df = deepcopy(merged_complete_epoch_stats_df)\n",
    "\n",
    "# Filter rows based on columns: 'Long_BestDir_quantile', 'Short_BestDir_quantile'\n",
    "quantile_significance_threshold: float = 0.95\n",
    "significant_BestDir_quantile_stats_df = ripple_combined_epoch_stats_df[(ripple_combined_epoch_stats_df['Long_BestDir_quantile'] > quantile_significance_threshold) | (ripple_combined_epoch_stats_df['Short_BestDir_quantile'] > quantile_significance_threshold)]\n",
    "LR_likely_active_df = ripple_combined_epoch_stats_df[(ripple_combined_epoch_stats_df['combined_best_direction_indicies']==0) & ((ripple_combined_epoch_stats_df['LR_Long_rank_percentile'] > quantile_significance_threshold) | (ripple_combined_epoch_stats_df['LR_Short_rank_percentile'] > quantile_significance_threshold))]\n",
    "RL_likely_active_df = ripple_combined_epoch_stats_df[(ripple_combined_epoch_stats_df['combined_best_direction_indicies']==1) & ((ripple_combined_epoch_stats_df['RL_Long_rank_percentile'] > quantile_significance_threshold) | (ripple_combined_epoch_stats_df['RL_Short_rank_percentile'] > quantile_significance_threshold))]\n",
    "\n",
    "# significant_ripple_combined_epoch_stats_df = ripple_combined_epoch_stats_df[(ripple_combined_epoch_stats_df['LR_Long_rank_percentile'] > quantile_significance_threshold) | (ripple_combined_epoch_stats_df['LR_Short_rank_percentile'] > quantile_significance_threshold) | (ripple_combined_epoch_stats_df['RL_Long_rank_percentile'] > quantile_significance_threshold) | (ripple_combined_epoch_stats_df['RL_Short_rank_percentile'] > quantile_significance_threshold)]\n",
    "# significant_ripple_combined_epoch_stats_df\n",
    "is_epoch_significant = np.isin(ripple_combined_epoch_stats_df.index, significant_BestDir_quantile_stats_df.index)\n",
    "active_replay_epochs_df = rank_order_results.LR_ripple.epochs_df\n",
    "significant_ripple_epochs: Epoch = Epoch(deepcopy(active_replay_epochs_df).epochs.get_valid_df()).boolean_indicies_slice(is_epoch_significant)\n",
    "epoch_identifiers = significant_ripple_epochs._df.label.astype({'label': RankOrderAnalyses._label_column_type}).values #.labels\n",
    "x_values = significant_ripple_epochs.midtimes\n",
    "x_axis_name_suffix = 'Mid-time (Sec)'\n",
    "\n",
    "# significant_ripple_epochs_df = significant_ripple_epochs.to_dataframe()\n",
    "# significant_ripple_epochs_df\n",
    "\n",
    "significant_BestDir_quantile_stats_df['midtimes'] = significant_ripple_epochs.midtimes\n",
    "significant_BestDir_quantile_stats_df"
   ]
  },
  {
   "cell_type": "code",
   "execution_count": null,
   "id": "bb18612f",
   "metadata": {},
   "outputs": [],
   "source": [
    "from pyphoplacecellanalysis.General.Pipeline.Stages.ComputationFunctions.MultiContextComputationFunctions.RankOrderComputations import _plot_significant_event_quantile_fig\n",
    "\n",
    "# active_replay_epochs_df = rank_order_results.LR_ripple.epochs_df\n",
    "# if isinstance(global_events, pd.DataFrame):\n",
    "#     active_replay_epochs = Epoch(deepcopy(active_replay_epochs_df).epochs.get_valid_df())\n",
    "\n",
    "\n",
    "# _out = _plot_significant_event_quantile_fig(curr_active_pipeline, significant_ripple_combined_epoch_stats_df=significant_ripple_combined_epoch_stats_df)\n",
    "# _out\n",
    "\n",
    "marker_style = dict(linestyle='None', color='#ff7f0eff', markersize=6, markerfacecolor='#ff7f0eb4', markeredgecolor='#ff7f0eff')\n",
    "\n",
    "    # dict(facecolor='#ff7f0eb4', size=8.0)\n",
    "    # fignum='best_quantiles'\n",
    "\n",
    "# ripple_combined_epoch_stats_df['combined_best_direction_indicies']\n",
    "\n",
    "_out = significant_BestDir_quantile_stats_df[['midtimes', 'LongShort_BestDir_quantile_diff']].plot(x='midtimes', y='LongShort_BestDir_quantile_diff', title='Sig. (>0.95) Best Quantile Diff', **marker_style, marker='o')\n",
    "\n",
    "\n"
   ]
  },
  {
   "cell_type": "code",
   "execution_count": null,
   "id": "a618ac40",
   "metadata": {},
   "outputs": [],
   "source": [
    "import seaborn as sns\n",
    "from pyphoplacecellanalysis.General.Pipeline.Stages.ComputationFunctions.MultiContextComputationFunctions.RankOrderComputations import plot_quantile_diffs\n",
    "\n",
    "_restore_previous_matplotlib_settings_callback = matplotlib_configuration_update(is_interactive=True, backend='Qt5Agg')\n",
    "global_epoch = curr_active_pipeline.filtered_epochs[global_epoch_name]\n",
    "short_epoch = curr_active_pipeline.filtered_epochs[short_epoch_name]\n",
    "split_time_t: float = short_epoch.t_start\n",
    "active_context = curr_active_pipeline.sess.get_context()\n",
    "\n",
    "collector = plot_quantile_diffs(ripple_merged_complete_epoch_stats_df, t_split=split_time_t, active_context=active_context)\n"
   ]
  },
  {
   "cell_type": "code",
   "execution_count": null,
   "id": "0dd89199",
   "metadata": {},
   "outputs": [],
   "source": [
    "\n",
    "from flexitext import flexitext ## flexitext for formatted matplotlib text\n",
    "from neuropy.utils.matplotlib_helpers import perform_update_title_subtitle\n",
    "perform_update_title_subtitle(fig=fig_long_pf_1D, ax=ax_long_pf_1D, title_string=title_string, subtitle_string=subtitle_string, active_context=active_context, use_flexitext_titles=True)\n"
   ]
  },
  {
   "cell_type": "code",
   "execution_count": null,
   "id": "1e46ba5f",
   "metadata": {},
   "outputs": [],
   "source": [
    "\n",
    "from neuropy.utils.matplotlib_helpers import draw_epoch_regions\n",
    "epochs_collection, epoch_labels = draw_epoch_regions(curr_active_pipeline.sess.epochs, ax, defer_render=False, debug_print=False)"
   ]
  },
  {
   "cell_type": "code",
   "execution_count": null,
   "id": "24ecb4c7",
   "metadata": {},
   "outputs": [],
   "source": [
    "print(list(significant_BestDir_quantile_stats_df.columns))\n",
    "['LR_Long_rank_percentile', 'LR_Short_rank_percentile', 'RL_Long_rank_percentile', 'RL_Short_rank_percentile', 'Long_BestDir_quantile', 'Short_BestDir_quantile', 'LongShort_BestDir_quantile_diff']\n",
    "\n",
    "for a_name in ['LR_Long_rank_percentile', 'LR_Short_rank_percentile', 'RL_Long_rank_percentile', 'RL_Short_rank_percentile', 'Long_BestDir_quantile', 'Short_BestDir_quantile', 'LongShort_BestDir_quantile_diff']:\n",
    "\t_out = significant_BestDir_quantile_stats_df[['midtimes', 'LongShort_BestDir_quantile_diff']].plot(x='midtimes', y=a_name, title=f'Sig. (>0.95) {a_name}', **marker_style, marker='o')"
   ]
  },
  {
   "cell_type": "code",
   "execution_count": null,
   "id": "f883fba9",
   "metadata": {},
   "outputs": [],
   "source": [
    "# quantile_results_df[['LR_Long_rank_percentile', 'RL_Long_rank_percentile', 'LR_Short_rank_percentile', 'RL_Short_rank_percentile']].plot.hist(bins=21)\n",
    "# quantile_results_df[['LR_Long_rank_percentile', 'RL_Long_rank_percentile', 'LR_Short_rank_percentile', 'RL_Short_rank_percentile']].plot.hist(bins=21)\n",
    "\n",
    "df = quantile_results_df[['LR_Long_rank_percentile', 'RL_Long_rank_percentile', 'LR_Short_rank_percentile', 'RL_Short_rank_percentile']].copy()\n",
    "# Create the subplots and loop through columns\n",
    "fig, axes = plt.subplots(4, 1, figsize=(10, 10))\n",
    "for i, col in enumerate(df.columns):\n",
    "    df[col].plot.hist(ax=axes[i], bins=21)\n",
    "    axes[i].set_title(col)\n",
    "\n",
    "# Adjust layout and display plot\n",
    "plt.tight_layout()\n",
    "plt.show()\n",
    "\n"
   ]
  },
  {
   "cell_type": "code",
   "execution_count": null,
   "id": "9fd61a13",
   "metadata": {},
   "outputs": [],
   "source": [
    "win = pg.GraphicsLayoutWidget(show=True)\n",
    "win.resize(800,350)\n",
    "win.setWindowTitle('Z-Scorer: Histogram')\n",
    "plt1 = win.addPlot()\n",
    "vals = quantile_results_df.LR_Long_rank_percentile\n",
    "fisher_z_transformed_vals = np.arctanh(vals)\n",
    "\n",
    "## compute standard histogram\n",
    "y, x = np.histogram(vals) # , bins=np.linspace(-3, 8, 40)\n",
    "# fisher_z_transformed_y, x = np.histogram(fisher_z_transformed_vals, bins=x)\n",
    "\n",
    "## Using stepMode=\"center\" causes the plot to draw two lines for each sample.\n",
    "## notice that len(x) == len(y)+1\n",
    "plt1.plot(x, y, stepMode=\"center\", fillLevel=0, fillOutline=True, brush=(0,0,255,50), name='original_values')\n",
    "plt1.plot(x, y, stepMode=\"center\", fillLevel=0, fillOutline=True, brush=(0,0,255,50), name='original_values')\n",
    "# plt1.plot(x, fisher_z_transformed_y, stepMode=\"center\", fillLevel=0, fillOutline=True, brush=(0,255,100,50), name='fisher_z_values')\n",
    "\n",
    "# ## Now draw all points as a nicely-spaced scatter plot\n",
    "y = pg.pseudoScatter(vals, spacing=0.15)\n",
    "# #plt2.plot(vals, y, pen=None, symbol='o', symbolSize=5)\n",
    "plt2.plot(vals, y, pen=None, symbol='o', symbolSize=5, symbolPen=(255,255,255,200), symbolBrush=(0,0,255,150))\n"
   ]
  },
  {
   "cell_type": "code",
   "execution_count": null,
   "id": "d30cb791",
   "metadata": {},
   "outputs": [],
   "source": [
    "\n",
    "pd.concat((ripple_combined_epoch_stats_df, ripple_p_values_epoch_stats_df), axis='columns')"
   ]
  },
  {
   "cell_type": "code",
   "execution_count": null,
   "id": "d300a225",
   "metadata": {},
   "outputs": [],
   "source": [
    "ripple_result_tuple.directional_likelihoods_tuple"
   ]
  },
  {
   "cell_type": "code",
   "execution_count": null,
   "id": "43327521",
   "metadata": {},
   "outputs": [],
   "source": [
    "np.logical_not(np.isnan(rank_order_results.ripple_combined_epoch_stats_df.index).any())\n",
    "# ripple_combined_epoch_stats_df.label.isna()"
   ]
  },
  {
   "cell_type": "code",
   "execution_count": null,
   "id": "bb3c142b",
   "metadata": {},
   "outputs": [],
   "source": [
    "ripple_combined_epoch_stats_df"
   ]
  },
  {
   "cell_type": "code",
   "execution_count": null,
   "id": "4f3cedf8",
   "metadata": {},
   "outputs": [],
   "source": [
    "np.isnan(ripple_combined_epoch_stats_df.label).any()"
   ]
  },
  {
   "cell_type": "code",
   "execution_count": null,
   "id": "31224e10",
   "metadata": {},
   "outputs": [],
   "source": [
    "np.isnan(ripple_combined_epoch_stats_df.index).any()"
   ]
  },
  {
   "cell_type": "code",
   "execution_count": 16,
   "id": "60749347",
   "metadata": {
    "notebookRunGroups": {
     "groupValue": "1"
    }
   },
   "outputs": [
    {
     "name": "stdout",
     "output_type": "stream",
     "text": [
      "\tdone. building global result.\n"
     ]
    }
   ],
   "source": [
    "print(f'\\tdone. building global result.')\n",
    "directional_laps_results: DirectionalLapsResult = curr_active_pipeline.global_computation_results.computed_data['DirectionalLaps']\n",
    "selected_spikes_df = deepcopy(curr_active_pipeline.global_computation_results.computed_data['RankOrder'].LR_ripple.selected_spikes_df)\n",
    "# active_epochs = global_computation_results.computed_data['RankOrder'].ripple_most_likely_result_tuple.active_epochs\n",
    "active_epochs = deepcopy(curr_active_pipeline.global_computation_results.computed_data['RankOrder'].LR_ripple.epochs_df)\n",
    "track_templates = directional_laps_results.get_templates(minimum_inclusion_fr_Hz=minimum_inclusion_fr_Hz)\n"
   ]
  },
  {
   "cell_type": "code",
   "execution_count": null,
   "id": "97ab4052",
   "metadata": {},
   "outputs": [],
   "source": [
    "ripple_combined_epoch_stats_df, ripple_new_output_tuple = RankOrderAnalyses.pandas_df_based_correlation_computations(selected_spikes_df=selected_spikes_df, active_epochs_df=active_epochs, track_templates=track_templates, num_shuffles=100)\n"
   ]
  },
  {
   "cell_type": "code",
   "execution_count": null,
   "id": "313886d9",
   "metadata": {},
   "outputs": [],
   "source": [
    "# new_output_tuple (output_active_epoch_computed_values, valid_stacked_arrays, real_stacked_arrays, n_valid_shuffles) = ripple_new_output_tuple\n",
    "curr_active_pipeline.global_computation_results.computed_data['RankOrder'].ripple_combined_epoch_stats_df, curr_active_pipeline.global_computation_results.computed_data['RankOrder'].ripple_new_output_tuple = ripple_combined_epoch_stats_df, ripple_new_output_tuple\n",
    "print(f'done!')"
   ]
  },
  {
   "cell_type": "code",
   "execution_count": null,
   "id": "35e95d52",
   "metadata": {},
   "outputs": [],
   "source": [
    "decoder_aclu_peak_map_dict = track_templates.get_decoder_aclu_peak_map_dict()\n",
    "## Restrict to only the relevant columns, and Initialize the dataframe columns to np.nan:\n",
    "active_selected_spikes_df: pd.DataFrame = deepcopy(selected_spikes_df[['t_rel_seconds', 'aclu', 'Probe_Epoch_id']]).sort_values(['Probe_Epoch_id', 't_rel_seconds', 'aclu']).astype({'Probe_Epoch_id': RankOrderAnalyses._label_column_type}) # Sort by columns: 'Probe_Epoch_id' (ascending), 't_rel_seconds' (ascending), 'aclu' (ascending)\n",
    "\n",
    "# _pf_peak_x_column_names = ['LR_Long_pf_peak_x', 'RL_Long_pf_peak_x', 'LR_Short_pf_peak_x', 'RL_Short_pf_peak_x']\n",
    "_pf_peak_x_column_names = [f'{a_decoder_name}_pf_peak_x' for a_decoder_name in track_templates.get_decoder_names()]\n",
    "active_selected_spikes_df[_pf_peak_x_column_names] = pd.DataFrame([[RankOrderAnalyses._NaN_Type, RankOrderAnalyses._NaN_Type, RankOrderAnalyses._NaN_Type, RankOrderAnalyses._NaN_Type]], index=active_selected_spikes_df.index)\n",
    "\n",
    "unique_Probe_Epoch_IDs = active_selected_spikes_df['Probe_Epoch_id'].unique()\n",
    "unique_Probe_Epoch_IDs\n",
    "for a_probe_epoch_ID in unique_Probe_Epoch_IDs:\n",
    "\t# probe_epoch_df = active_selected_spikes_df[a_probe_epoch_ID == active_selected_spikes_df['Probe_Epoch_id']]\n",
    "\t# epoch_unique_aclus = probe_epoch_df.aclu.unique()\n",
    "\tmask = (a_probe_epoch_ID == active_selected_spikes_df['Probe_Epoch_id'])\n",
    "\t# epoch_unique_aclus = active_selected_spikes_df.loc[mask, 'aclu'].unique()\n",
    "\tfor a_decoder_name, a_aclu_peak_map in decoder_aclu_peak_map_dict.items():\n",
    "\t\t# Shuffle aclus here:\n",
    "\t\tactive_selected_spikes_df.loc[mask, 'aclu'] = active_selected_spikes_df.loc[mask, 'aclu'].sample(frac=1).values\n",
    "\t\tactive_selected_spikes_df.loc[mask, f'{a_decoder_name}_pf_peak_x'] = active_selected_spikes_df.loc[mask, 'aclu'].map(a_aclu_peak_map)\n",
    "\n",
    "\t\t# ## Shuffle aclus here:\n",
    "\t\t# # probe_epoch_df.aclu.sample(1000)\n",
    "\t\t# # a_aclu_peak_map\n",
    "\t\t# # Assuming 'df' is your DataFrame and 'column_name' is the column you want to shuffle\n",
    "\t\t# probe_epoch_df['aclu'] = probe_epoch_df['aclu'].sample(frac=1).reset_index(drop=True)\n",
    "\n",
    "\t\t# probe_epoch_df[f'{a_decoder_name}_pf_peak_x'] = probe_epoch_df.aclu.map(a_aclu_peak_map)\n",
    "\n",
    "\t\t# active_selected_spikes_df[f'{a_decoder_name}_pf_peak_x'] = active_selected_spikes_df.aclu.map(a_aclu_peak_map)\n"
   ]
  },
  {
   "cell_type": "code",
   "execution_count": null,
   "id": "9c306ade",
   "metadata": {},
   "outputs": [],
   "source": [
    "## 2024-01-09 - More Efficient\n",
    "import polars as pl\n",
    "\n",
    "\n",
    "def _new_compute_single_rank_order_shuffle(track_templates, active_selected_spikes_df: pd.DataFrame):\n",
    "    \"\"\" 2024-01-09 - Candidate for moving into RankOrderComputations \n",
    "    captures: decoder_names\n",
    "    \n",
    "    Usage:\n",
    "    \n",
    "    shuffled_dfs = _perform_efficient_shuffle(active_selected_spikes_df, decoder_aclu_peak_map_dict, num_shuffles=5)\n",
    "    \n",
    "    \"\"\"\n",
    "    decoder_names = track_templates.get_decoder_names()\n",
    "    \n",
    "    ## Compute real values here:\n",
    "    epoch_id_grouped_selected_spikes_df = active_selected_spikes_df.groupby('Probe_Epoch_id') # I can even compute this outside the loop?\n",
    "\n",
    "    # spearman_correlations = epoch_id_grouped_selected_spikes_df.apply(lambda group: RankOrderAnalyses._subfn_calculate_correlations(group, method='spearman', decoder_names=decoder_names)).reset_index() # Reset index to make 'Probe_Epoch_id' a column\n",
    "    # pearson_correlations = epoch_id_grouped_selected_spikes_df.apply(lambda group: RankOrderAnalyses._subfn_calculate_correlations(group, method='pearson', decoder_names=decoder_names)).reset_index() # Reset index to make 'Probe_Epoch_id' a column\n",
    "\n",
    "    # real_stats_df = pd.concat((spearman_correlations, pearson_correlations), axis='columns')\n",
    "    # real_stats_df = real_stats_df.loc[:, ~real_stats_df.columns.duplicated()] # drop duplicated 'Probe_Epoch_id' column\n",
    "    # # Change column type to uint64 for column: 'Probe_Epoch_id'\n",
    "    # real_stats_df = real_stats_df.astype({'Probe_Epoch_id': 'uint64'})\n",
    "    # # Rename column 'Probe_Epoch_id' to 'label'\n",
    "    # real_stats_df = real_stats_df.rename(columns={'Probe_Epoch_id': 'label'})\n",
    "    \n",
    "    # Parallelize correlation computations if required\n",
    "    correlations = []\n",
    "    for method in ['spearman', 'pearson']:\n",
    "        correlations.append(\n",
    "            epoch_id_grouped_selected_spikes_df.apply(\n",
    "                lambda group: RankOrderAnalyses._subfn_calculate_correlations(\n",
    "                    group, method=method, decoder_names=decoder_names)\n",
    "            )\n",
    "        )\n",
    "  \n",
    "    # Adjust and join all calculated correlations\n",
    "    real_stats_df = pd.concat(correlations, axis='columns').reset_index()\n",
    "    real_stats_df = real_stats_df.loc[:, ~real_stats_df.columns.duplicated()]\n",
    "\n",
    "    real_stats_df.rename(columns={'Probe_Epoch_id': 'label'}, inplace=True)\n",
    "    real_stats_df['label'] = real_stats_df['label'].astype('uint64')  # in-place type casting\n",
    "    \n",
    "    return real_stats_df\n",
    "\n",
    "\n",
    "# Determine the number of shuffles you want to do\n",
    "def _new_perform_efficient_shuffle(track_templates, active_selected_spikes_df, decoder_aclu_peak_map_dict, num_shuffles:int=5):\n",
    "    \"\"\" 2024-01-09 - Performs the shuffles in a simple way\n",
    "    \n",
    "    \"\"\"\n",
    "    unique_Probe_Epoch_IDs = active_selected_spikes_df['Probe_Epoch_id'].unique()\n",
    "\n",
    "    # Create a list to hold the shuffled dataframes\n",
    "    shuffled_dfs = []\n",
    "    shuffled_stats_dfs = []\n",
    "\n",
    "    for i in range(num_shuffles):\n",
    "        # Working on a copy of the DataFrame\n",
    "        shuffled_df = active_selected_spikes_df.copy()\n",
    "\n",
    "        for a_probe_epoch_ID in unique_Probe_Epoch_IDs:\n",
    "            mask = (a_probe_epoch_ID == shuffled_df['Probe_Epoch_id'])\n",
    "            \n",
    "            # Shuffle 'aclu' values\n",
    "            shuffled_df.loc[mask, 'aclu'] = shuffled_df.loc[mask, 'aclu'].sample(frac=1).values\n",
    "            \n",
    "            # # Apply aclu peak map dictionary to 'aclu' column\n",
    "            # for a_decoder_name, a_aclu_peak_map in decoder_aclu_peak_map_dict.items():\n",
    "            #     shuffled_df.loc[mask, f'{a_decoder_name}_pf_peak_x'] = shuffled_df.loc[mask, 'aclu'].map(a_aclu_peak_map)\n",
    "            \n",
    "\n",
    "        # end `for a_probe_epoch_ID`\n",
    "        # Once done, apply the aclu peak maps to shuffled_df's 'aclu' column:\n",
    "        for a_decoder_name, a_aclu_peak_map in decoder_aclu_peak_map_dict.items():\n",
    "            shuffled_df[f'{a_decoder_name}_pf_peak_x'] = shuffled_df.aclu.map(a_aclu_peak_map)\n",
    "            \n",
    "        a_shuffle_stats_df = _new_compute_single_rank_order_shuffle(track_templates, active_selected_spikes_df=shuffled_df)\n",
    "        \n",
    "        # Adding the shuffled DataFrame to the list\n",
    "        shuffled_dfs.append(shuffled_df)\n",
    "        shuffled_stats_dfs.append(a_shuffle_stats_df)\n",
    "        \n",
    "    return shuffled_dfs, shuffled_stats_dfs\n",
    "\n",
    "\n",
    "\n",
    "def _suggested_perform_efficient_shuffle(track_templates, active_selected_spikes_df, decoder_aclu_peak_map_dict, num_shuffles: int = 5):\n",
    "    unique_Probe_Epoch_IDs = active_selected_spikes_df['Probe_Epoch_id'].unique()\n",
    "    shuffled_dfs = []\n",
    "    shuffled_stats_dfs = []\n",
    "\n",
    "    def map_dict_to_group(group, a_dict, column):\n",
    "        group[column] = group[column].map(a_dict)\n",
    "        return group\n",
    "\n",
    "    for i in range(num_shuffles):\n",
    "        shuffled_df = active_selected_spikes_df.copy()\n",
    "\n",
    "        for a_probe_epoch_ID in unique_Probe_Epoch_IDs:\n",
    "            shuffled_df.loc[shuffled_df['Probe_Epoch_id'] == a_probe_epoch_ID, 'aclu'] = shuffled_df.loc[shuffled_df['Probe_Epoch_id'] == a_probe_epoch_ID, 'aclu'].sample(frac=1).values\n",
    "\n",
    "        for a_decoder_name, a_aclu_peak_map in decoder_aclu_peak_map_dict.items():\n",
    "            shuffled_df = shuffled_df.groupby('Probe_Epoch_id').apply(map_dict_to_group, a_dict=a_aclu_peak_map, column=f'{a_decoder_name}_pf_peak_x')\n",
    "\n",
    "        a_shuffle_stats_df = _new_compute_single_rank_order_shuffle(track_templates, active_selected_spikes_df=shuffled_df)\n",
    "\n",
    "        shuffled_dfs.append(shuffled_df)\n",
    "        shuffled_stats_dfs.append(a_shuffle_stats_df)\n",
    "\n",
    "    return shuffled_dfs, shuffled_stats_dfs\n",
    "\n",
    "\n",
    "\n",
    "## Compute:\n",
    "decoder_aclu_peak_map_dict = track_templates.get_decoder_aclu_peak_map_dict()\n",
    "## Restrict to only the relevant columns, and Initialize the dataframe columns to np.nan:\n",
    "active_selected_spikes_df: pd.DataFrame = deepcopy(selected_spikes_df[['t_rel_seconds', 'aclu', 'Probe_Epoch_id']]).sort_values(['Probe_Epoch_id', 't_rel_seconds', 'aclu']).astype({'Probe_Epoch_id': RankOrderAnalyses._label_column_type}) # Sort by columns: 'Probe_Epoch_id' (ascending), 't_rel_seconds' (ascending), 'aclu' (ascending)\n",
    "# _pf_peak_x_column_names = ['LR_Long_pf_peak_x', 'RL_Long_pf_peak_x', 'LR_Short_pf_peak_x', 'RL_Short_pf_peak_x']\n",
    "_pf_peak_x_column_names = [f'{a_decoder_name}_pf_peak_x' for a_decoder_name in track_templates.get_decoder_names()]\n",
    "active_selected_spikes_df[_pf_peak_x_column_names] = pd.DataFrame([[RankOrderAnalyses._NaN_Type, RankOrderAnalyses._NaN_Type, RankOrderAnalyses._NaN_Type, RankOrderAnalyses._NaN_Type]], index=active_selected_spikes_df.index)\n",
    "\n",
    "# with VizTracer(output_file=f\"viztracer_{get_now_time_str()}-suggested_perform_efficient_shuffle.json\", min_duration=200, tracer_entries=3000000, ignore_frozen=True) as tracer:\n",
    "shuffled_dfs, shuffled_stats_dfs = _suggested_perform_efficient_shuffle(track_templates, active_selected_spikes_df, decoder_aclu_peak_map_dict, num_shuffles=10) # 50, 1m 21.2s, 10, 16.1s\n",
    "# shuffled_dfs, shuffled_stats_dfs = _new_perform_efficient_shuffle(track_templates, active_selected_spikes_df, decoder_aclu_peak_map_dict, num_shuffles=10) # 10, 12.8s\n",
    "\n",
    "\n",
    "shuffled_dfs\n",
    "shuffled_stats_dfs\n",
    "# 5, 4.1 sec\n",
    "# 0.5s!!\n",
    "\n"
   ]
  },
  {
   "cell_type": "code",
   "execution_count": null,
   "id": "8421d876",
   "metadata": {},
   "outputs": [],
   "source": [
    "output_active_epoch_computed_values = shuffled_stats_dfs\n",
    "# Build the output `stacked_arrays`: _________________________________________________________________________________ #\n",
    "\n",
    "stacked_arrays = np.stack([a_shuffle_real_stats_df[combined_variable_names].to_numpy() for a_shuffle_real_stats_df in output_active_epoch_computed_values], axis=0) # for compatibility: .shape (n_shuffles, n_epochs, n_columns)\n",
    "# stacked_df = pd.concat(output_active_epoch_computed_values, axis='index')\n",
    "\n",
    "## Drop any shuffle indicies where NaNs are returned for any of the stats values.\n",
    "is_valid_row = np.logical_not(np.isnan(stacked_arrays)).all(axis=(1,2)) # row [0, 66, :] is bad, ... so is [1, 66, :], ... [20, 66, :], ... they are repeated!!\n",
    "n_valid_shuffles = np.sum(is_valid_row)\n",
    "if debug_print:\n",
    "\tprint(f'n_valid_shuffles: {n_valid_shuffles}')\n",
    "valid_stacked_arrays = stacked_arrays[is_valid_row] ## Get only the rows where all elements along both axis (1, 2) are True\n",
    "\n",
    "# Need: valid_stacked_arrays, real_stacked_arrays, combined_variable_names\n",
    "combined_epoch_stats_df: pd.DataFrame = pd.DataFrame(real_stacked_arrays, columns=combined_variable_names)\n",
    "combined_variable_z_score_column_names = [f\"{a_name}_Z\" for a_name in combined_variable_names] # combined_variable_z_score_column_names: ['LR_Long_spearman_Z', 'RL_Long_spearman_Z', 'LR_Short_spearman_Z', 'RL_Short_spearman_Z', 'LR_Long_pearson_Z', 'RL_Long_pearson_Z', 'LR_Short_pearson_Z', 'RL_Short_pearson_Z']\n",
    "\n",
    "## Extract the stats values for each shuffle from `valid_stacked_arrays`:\n",
    "n_epochs = np.shape(real_stacked_arrays)[0]\n",
    "n_variables = np.shape(real_stacked_arrays)[1]\n",
    "\n",
    "# valid_stacked_arrays.shape: (n_shuffles, n_epochs, n_variables)\n",
    "assert n_epochs == np.shape(valid_stacked_arrays)[-2]\n",
    "assert n_variables == np.shape(valid_stacked_arrays)[-1]"
   ]
  },
  {
   "cell_type": "code",
   "execution_count": null,
   "id": "e660e692",
   "metadata": {},
   "outputs": [],
   "source": [
    "from joblib import Parallel, delayed\n",
    "\n",
    "# Determine the number of shuffles you want to do\n",
    "num_shuffles = 5\n",
    "\n",
    "# Define the operation to be run in parallel for a shuffle iteration\n",
    "def shuffle_iteration(i):\n",
    "    # Working on a copy of the DataFrame\n",
    "    shuffled_df = active_selected_spikes_df.copy()\n",
    "\n",
    "    for a_probe_epoch_ID in unique_Probe_Epoch_IDs:\n",
    "        mask = (a_probe_epoch_ID == shuffled_df['Probe_Epoch_id'])\n",
    "\n",
    "        # Shuffle 'aclu' values\n",
    "        shuffled_df.loc[mask, 'aclu'] = shuffled_df.loc[mask, 'aclu'].sample(frac=1).values\n",
    "\n",
    "        # Apply aclu peak map dictionary to 'aclu' column\n",
    "        for a_decoder_name, a_aclu_peak_map in decoder_aclu_peak_map_dict.items():\n",
    "            shuffled_df.loc[mask, f'{a_decoder_name}_pf_peak_x'] = shuffled_df.loc[mask, 'aclu'].map(a_aclu_peak_map)\n",
    "\n",
    "    # Return the shuffled DataFrame\n",
    "    return shuffled_df\n",
    "\n",
    "# Create a list to hold the shuffled dataframes\n",
    "shuffled_dfs = Parallel(n_jobs=-1)(delayed(shuffle_iteration)(i) for i in range(num_shuffles))"
   ]
  },
  {
   "cell_type": "code",
   "execution_count": null,
   "id": "8f45e697",
   "metadata": {},
   "outputs": [],
   "source": [
    "# ['long_LR_pf_peak_x', 'long_RL_pf_peak_x', 'short_LR_pf_peak_x', 'short_RL_pf_peak_x']\n",
    "peak_column_names = [f'{a_decoder_name}_pf_peak_x' for a_decoder_name, a_aclu_peak_map in decoder_aclu_peak_map_dict.items()]\n",
    "print(peak_column_names) \n"
   ]
  },
  {
   "cell_type": "code",
   "execution_count": null,
   "id": "da6b42a7",
   "metadata": {},
   "outputs": [],
   "source": [
    "def _perform_efficient_shuffle_pre_mapping(active_selected_spikes_df, decoder_aclu_peak_map_dict, num_shuffles:int=5):\n",
    "    # Apply aclu peak map dictionary to each decoder name\n",
    "    for a_decoder_name, a_aclu_peak_map in decoder_aclu_peak_map_dict.items():\n",
    "        active_selected_spikes_df[f'{a_decoder_name}_pf_peak_x'] = active_selected_spikes_df['aclu'].map(a_aclu_peak_map)\n",
    "\n",
    "    unique_Probe_Epoch_IDs = active_selected_spikes_df['Probe_Epoch_id'].unique()\n",
    "    shuffles = {}\n",
    "    for i in range(num_shuffles):\n",
    "        shuffles[i] = active_selected_spikes_df.copy()\n",
    "        for a_probe_epoch_ID in unique_Probe_Epoch_IDs:\n",
    "            mask = (a_probe_epoch_ID == shuffles[i]['Probe_Epoch_id'])\n",
    "            # Shuffle multiple columns here:\n",
    "            for a_decoder_name in decoder_aclu_peak_map_dict.keys():\n",
    "                shuffles[i].loc[mask, f'{a_decoder_name}_pf_peak_x'] = shuffles[i].loc[mask, f'{a_decoder_name}_pf_peak_x'].sample(frac=1).values\n",
    "    return shuffles\n",
    "\n",
    "## Compute:\n",
    "decoder_aclu_peak_map_dict = track_templates.get_decoder_aclu_peak_map_dict()\n",
    "## Restrict to only the relevant columns, and Initialize the dataframe columns to np.nan:\n",
    "active_selected_spikes_df: pd.DataFrame = deepcopy(selected_spikes_df[['t_rel_seconds', 'aclu', 'Probe_Epoch_id']]).sort_values(['Probe_Epoch_id', 't_rel_seconds', 'aclu']).astype({'Probe_Epoch_id': RankOrderAnalyses._label_column_type}) # Sort by columns: 'Probe_Epoch_id' (ascending), 't_rel_seconds' (ascending), 'aclu' (ascending)\n",
    "# _pf_peak_x_column_names = ['LR_Long_pf_peak_x', 'RL_Long_pf_peak_x', 'LR_Short_pf_peak_x', 'RL_Short_pf_peak_x']\n",
    "_pf_peak_x_column_names = [f'{a_decoder_name}_pf_peak_x' for a_decoder_name in track_templates.get_decoder_names()]\n",
    "active_selected_spikes_df[_pf_peak_x_column_names] = pd.DataFrame([[RankOrderAnalyses._NaN_Type, RankOrderAnalyses._NaN_Type, RankOrderAnalyses._NaN_Type, RankOrderAnalyses._NaN_Type]], index=active_selected_spikes_df.index)\n",
    "shuffled_dfs = _perform_efficient_shuffle_pre_mapping(active_selected_spikes_df, decoder_aclu_peak_map_dict, num_shuffles=5)\n",
    "# shuffled_dfs\n",
    "# 5, 1.5 sec"
   ]
  },
  {
   "cell_type": "code",
   "execution_count": null,
   "id": "548d3db2",
   "metadata": {},
   "outputs": [],
   "source": [
    "# Shuffle 'aclu' values\n",
    "shuffled_df.loc[mask, 'aclu'] = shuffled_df.loc[mask, 'aclu'].sample(frac=1).values\n",
    "\n",
    "\n",
    "# Shuffle aclu and their corresponding peaks: ['aclu', 'long_LR_pf_peak_x', 'long_RL_pf_peak_x', 'short_LR_pf_peak_x', 'short_RL_pf_peak_x']\n",
    "peak_column_names = [f'{a_decoder_name}_pf_peak_x' for a_decoder_name, a_aclu_peak_map in decoder_aclu_peak_map_dict.items()] # ['long_LR_pf_peak_x', 'long_RL_pf_peak_x', 'short_LR_pf_peak_x', 'short_RL_pf_peak_x']\n",
    "shuffled_df.loc[mask, ['aclu','long_LR_pf_peak_x', 'long_RL_pf_peak_x', 'short_LR_pf_peak_x', 'short_RL_pf_peak_x']] = shuffled_df.loc[mask, ['aclu','long_LR_pf_peak_x', 'long_RL_pf_peak_x', 'short_LR_pf_peak_x', 'short_RL_pf_peak_x']].sample(frac=1).values\n"
   ]
  },
  {
   "cell_type": "code",
   "execution_count": null,
   "id": "4d641689",
   "metadata": {},
   "outputs": [],
   "source": [
    "print_object_memory_usage(output_active_epoch_computed_values) # 0.946189 MB\n"
   ]
  },
  {
   "cell_type": "code",
   "execution_count": null,
   "id": "3e3d1caf",
   "metadata": {},
   "outputs": [],
   "source": [
    "## #TODO 2023-12-13 02:07: - [ ] Figure out how 'Probe_Epoch_id' maps to `ripple_result_tuple.active_epochs`\n",
    "ripple_result_tuple.active_epochs\n",
    "rank_order_results.LR_ripple.ranked_aclus_stats_dict\n"
   ]
  },
  {
   "cell_type": "code",
   "execution_count": null,
   "id": "50f1bbbf",
   "metadata": {},
   "outputs": [],
   "source": [
    "## Add the pf_x information for each aclu:\n",
    "## 2023-10-11 - Get the long/short peak locations\n",
    "# decoder_peak_coms_list = [a_decoder.pf.ratemap.peak_tuning_curve_center_of_masses[is_good_aclus] for a_decoder in decoder_args]\n",
    "decoder_aclu_peak_location_dict_list = [dict(zip(neuron_IDs, peak_locations)) for neuron_IDs, peak_locations in zip(track_templates.decoder_neuron_IDs_list, track_templates.decoder_peak_location_list)]\n",
    "decoder_aclu_peak_location_dict_list\n"
   ]
  },
  {
   "cell_type": "code",
   "execution_count": null,
   "id": "de234ecb",
   "metadata": {},
   "outputs": [],
   "source": [
    "track_templates.long_LR_decoder.peak_locations"
   ]
  },
  {
   "cell_type": "code",
   "execution_count": null,
   "id": "4cc4b6e5",
   "metadata": {},
   "outputs": [],
   "source": [
    "track_templates.long_LR_decoder.peak_tuning_curve_center_of_masses"
   ]
  },
  {
   "cell_type": "code",
   "execution_count": null,
   "id": "bc1305ed",
   "metadata": {},
   "outputs": [],
   "source": [
    "track_templates.decoder_LR_pf_peak_ranks_list"
   ]
  },
  {
   "cell_type": "code",
   "execution_count": null,
   "id": "f7b179f8",
   "metadata": {},
   "outputs": [],
   "source": [
    "## Replays:\n",
    "global_replays = TimeColumnAliasesProtocol.renaming_synonym_columns_if_needed(deepcopy(curr_active_pipeline.filtered_sessions[global_epoch_name].replay))\n",
    "if isinstance(global_replays, pd.DataFrame):\n",
    "\tglobal_replays = Epoch(global_replays.epochs.get_valid_df())\n",
    "\n",
    "# get the aligned epochs and the z-scores aligned to them:\n",
    "active_replay_epochs, (active_LR_ripple_long_z_score, active_RL_ripple_long_z_score, active_LR_ripple_short_z_score, active_RL_ripple_short_z_score) = rank_order_results.get_aligned_events(global_replays.to_dataframe().copy(), is_laps=False)\n",
    "active_replay_epochs"
   ]
  },
  {
   "cell_type": "code",
   "execution_count": null,
   "id": "b6384a30",
   "metadata": {},
   "outputs": [],
   "source": [
    "## Laps:\n",
    "long_epoch_name, short_epoch_name, global_epoch_name = curr_active_pipeline.find_LongShortGlobal_epoch_names()\n",
    "global_laps = deepcopy(curr_active_pipeline.filtered_sessions[global_epoch_name].laps).trimmed_to_non_overlapping()\n",
    "active_laps_epochs, (active_LR_ripple_long_z_score, active_RL_ripple_long_z_score, active_LR_ripple_short_z_score, active_RL_ripple_short_z_score) = rank_order_results.get_aligned_events(global_laps.to_dataframe(), is_laps=True)"
   ]
  },
  {
   "cell_type": "code",
   "execution_count": null,
   "id": "91e8ff66",
   "metadata": {},
   "outputs": [],
   "source": [
    "ripple_result_tuple.plot_histogram()"
   ]
  },
  {
   "cell_type": "code",
   "execution_count": null,
   "id": "7dfbe341",
   "metadata": {},
   "outputs": [],
   "source": [
    "# Find only the significant events (|z| > 1.96):\n",
    "from pyphoplacecellanalysis.General.Pipeline.Stages.ComputationFunctions.MultiContextComputationFunctions.RankOrderComputations import RankOrderAnalyses\n",
    "\n",
    "filtered_z_score_df, (n_events, n_significant_events, percent_significant_events) = RankOrderAnalyses.find_only_significant_events(rank_order_results, high_z_criteria=1.96)\n",
    "filtered_z_score_df"
   ]
  },
  {
   "cell_type": "code",
   "execution_count": null,
   "id": "19d6bcd9",
   "metadata": {},
   "outputs": [],
   "source": [
    "print(filtered_z_score_df.index.to_numpy())\n"
   ]
  },
  {
   "cell_type": "code",
   "execution_count": null,
   "id": "86532662",
   "metadata": {},
   "outputs": [],
   "source": [
    "# 2023-11-20 - Finding high-significance periods for Kamran:\n",
    "z_threshold = 1.96\n",
    "is_greater_than_z_threshold_long = (np.abs(ripple_result_tuple.long_best_dir_z_score_values) > z_threshold)\n",
    "is_greater_than_z_threshold_short = (np.abs(ripple_result_tuple.short_best_dir_z_score_values) > z_threshold)\n",
    "is_significant_either = np.logical_or(is_greater_than_z_threshold_long, is_greater_than_z_threshold_short)\n",
    "is_significant_either\n",
    "\n",
    "# is_greater_than_3std_long = (np.abs(ripple_result_tuple.long_best_dir_z_score_values) >= 3.0)\n",
    "# is_greater_than_3std_short = (np.abs(ripple_result_tuple.short_best_dir_z_score_values) >= 3.0)\n",
    "# is_significant_either = np.logical_or(is_greater_than_3std_long, is_greater_than_3std_short)\n"
   ]
  },
  {
   "cell_type": "code",
   "execution_count": null,
   "id": "5f925cde",
   "metadata": {},
   "outputs": [],
   "source": [
    "significant_ripple_epochs = deepcopy(Epoch(ripple_result_tuple.active_epochs)).boolean_indicies_slice(is_significant_either)\n",
    "# significant_ripple_epochs = deepcopy(global_replays).boolean_indicies_slice(is_significant_either)\n",
    "significant_ripple_epochs.to_dataframe()\n",
    "\n",
    "# significant_ripple_epochs.filename = Path(f'output/2023-11-27_SignificantReplayRipples').resolve()\n",
    "# significant_ripple_epochs.to_neuroscope()\n"
   ]
  },
  {
   "cell_type": "code",
   "execution_count": null,
   "id": "6a8beece",
   "metadata": {},
   "outputs": [],
   "source": [
    "# active_epochs = ripple_result_tuple.active_epochs\n",
    "active_epochs: Epoch = rank_order_results.RL_ripple.epochs_df # Epoch(rank_order_results.RL_ripple.epochs_df)\n",
    "# type(active_epochs)\n",
    "active_epochs.n_epochs\n",
    "# rank_order_results.RL_ripple.spikes_df"
   ]
  },
  {
   "cell_type": "code",
   "execution_count": null,
   "id": "c93ffe0d",
   "metadata": {},
   "outputs": [],
   "source": [
    "rank_order_results.LR_ripple.epochs_df\n",
    "rank_order_results.LR_ripple.spikes_df\n",
    "\n"
   ]
  },
  {
   "cell_type": "code",
   "execution_count": null,
   "id": "39525572",
   "metadata": {},
   "outputs": [],
   "source": [
    "combined_variable_names: ['LR_Long_spearman', 'RL_Long_spearman', 'LR_Short_spearman', 'RL_Short_spearman', 'LR_Long_pearson', 'RL_Long_pearson', 'LR_Short_pearson', 'RL_Short_pearson']\n",
    "combined_variable_z_score_column_names: ['LR_Long_spearman_Z', 'RL_Long_spearman_Z', 'LR_Short_spearman_Z', 'RL_Short_spearman_Z', 'LR_Long_pearson_Z', 'RL_Long_pearson_Z', 'LR_Short_pearson_Z', 'RL_Short_pearson_Z']"
   ]
  },
  {
   "cell_type": "code",
   "execution_count": null,
   "id": "17f47973",
   "metadata": {},
   "outputs": [],
   "source": [
    "curr_active_pipeline.build_display_context_for_filtered_session(filtered_session_name='maze_any', display_fn_name='test')"
   ]
  },
  {
   "cell_type": "code",
   "execution_count": null,
   "id": "6b319650",
   "metadata": {},
   "outputs": [],
   "source": [
    "rank_order_results.LR_ripple.selected_spikes_df"
   ]
  },
  {
   "cell_type": "code",
   "execution_count": null,
   "id": "fef5436c",
   "metadata": {},
   "outputs": [],
   "source": [
    "rank_order_results.RL_ripple.selected_spikes_df"
   ]
  },
  {
   "cell_type": "markdown",
   "id": "619ebf52",
   "metadata": {},
   "source": [
    "#### Iterates through the epochs (via the slider) and saves out the images:\n"
   ]
  },
  {
   "cell_type": "code",
   "execution_count": null,
   "id": "53f73ed6",
   "metadata": {},
   "outputs": [],
   "source": [
    "export_path = Path(r'C:\\Users\\pho\\Desktop\\2023-12-19 Exports').resolve()\n",
    "all_save_paths = _out_rank_order_event_raster_debugger.export_figure_all_slider_values(export_path=export_path)"
   ]
  },
  {
   "cell_type": "code",
   "execution_count": null,
   "id": "9a46e840",
   "metadata": {},
   "outputs": [],
   "source": [
    "_out_rank_order_event_raster_debugger.active_epoch_IDX"
   ]
  },
  {
   "cell_type": "code",
   "execution_count": null,
   "id": "33d7d125",
   "metadata": {},
   "outputs": [],
   "source": [
    "_out_rank_order_event_raster_debugger.active_epoch_result_df"
   ]
  },
  {
   "cell_type": "code",
   "execution_count": null,
   "id": "41d5bd28",
   "metadata": {},
   "outputs": [],
   "source": [
    "aclu_y_values_dict = {_active_plot_identifier:{int(aclu):new_sorted_raster.neuron_y_pos[aclu] for aclu in new_sorted_raster.neuron_IDs} for _active_plot_identifier, new_sorted_raster in _out_rank_order_event_raster_debugger.plots_data.seperate_new_sorted_rasters_dict.items()}\n",
    "aclu_max_y_values_dict = {_active_plot_identifier:np.max(list({int(aclu):new_sorted_raster.neuron_y_pos[aclu] for aclu in new_sorted_raster.neuron_IDs}.values())) for _active_plot_identifier, new_sorted_raster in _out_rank_order_event_raster_debugger.plots_data.seperate_new_sorted_rasters_dict.items()} # {'long_LR': 51.48039215686274, 'long_RL': 53.5, 'short_LR': 51.48039215686274, 'short_RL': 53.5}\n",
    "global_max_y_value = np.max(list(aclu_max_y_values_dict.values()))\n",
    "global_max_y_value"
   ]
  },
  {
   "cell_type": "code",
   "execution_count": null,
   "id": "01518ab5",
   "metadata": {},
   "outputs": [],
   "source": [
    "max_n_neurons = np.max([len(v) for v in _out_rank_order_event_raster_debugger.plots_data.unsorted_original_neuron_IDs_lists])\n",
    "max_n_neurons"
   ]
  },
  {
   "cell_type": "code",
   "execution_count": null,
   "id": "277c056e",
   "metadata": {},
   "outputs": [],
   "source": [
    "_out_rank_order_event_raster_debugger.plots.all_separate_plots['long_LR']['root_plot']\n",
    "\n",
    "\n",
    "root_plots_dict"
   ]
  },
  {
   "cell_type": "code",
   "execution_count": null,
   "id": "debcee02",
   "metadata": {},
   "outputs": [],
   "source": [
    "output_alt_directional_merged_decoders_result"
   ]
  },
  {
   "cell_type": "markdown",
   "id": "c15d02ad",
   "metadata": {},
   "source": [
    "## 2024-01-17 - Updates the `a_directional_merged_decoders_result.laps_epochs_df` with both the ground-truth values and the decoded predictions"
   ]
  },
  {
   "cell_type": "code",
   "execution_count": null,
   "id": "2ab95d85",
   "metadata": {},
   "outputs": [],
   "source": [
    "curr_active_pipeline.reload_default_display_functions()"
   ]
  },
  {
   "cell_type": "code",
   "execution_count": null,
   "id": "d9dabb0f",
   "metadata": {},
   "outputs": [],
   "source": [
    "# Interactive-mode parameters:\n",
    "_interactive_mode_kwargs = dict(should_use_MatplotlibTimeSynchronizedWidget=True, scrollable_figure=True, defer_render=False)\n",
    "_restore_previous_matplotlib_settings_callback = matplotlib_configuration_update(is_interactive=True, backend='Qt5Agg')\n",
    "_curr_interaction_mode_kwargs = _interactive_mode_kwargs # interactive mode"
   ]
  },
  {
   "cell_type": "code",
   "execution_count": null,
   "id": "2f0ca3ae",
   "metadata": {},
   "outputs": [],
   "source": [
    "# Non-interactive:\n",
    "_non_interactive_mode_kwargs = dict(should_use_MatplotlibTimeSynchronizedWidget=False, scrollable_figure=False, defer_render=True)\n",
    "_restore_previous_matplotlib_settings_callback = matplotlib_configuration_update(is_interactive=False, backend='AGG')\n",
    "_curr_interaction_mode_kwargs = _non_interactive_mode_kwargs # non-interactive mode"
   ]
  },
  {
   "cell_type": "markdown",
   "id": "2727307e",
   "metadata": {},
   "source": [
    "### 2024-01-19 - Marginal Scatter Plots from `alt_directional_merged_decoders_result`"
   ]
  },
  {
   "cell_type": "code",
   "execution_count": null,
   "id": "a8f3d42c",
   "metadata": {},
   "outputs": [],
   "source": [
    "from pyphoplacecellanalysis.General.Pipeline.Stages.ComputationFunctions.MultiContextComputationFunctions.DirectionalPlacefieldGlobalComputationFunctions import plot_all_epoch_bins_marginal_predictions\n",
    "use_single_time_bin_per_epoch = False\n",
    "active_display_context = curr_active_pipeline.build_display_context_for_session('plot_all_epoch_bins_marginal_predictions', laps_t_bin=laps_decoding_time_bin_size, ripple_t_bin=ripple_decoding_time_bin_size) # \n",
    "if use_single_time_bin_per_epoch:\n",
    "\tactive_display_context = active_display_context.adding_context_if_missing(use_single_time_bin_per_epoch=use_single_time_bin_per_epoch)\n",
    "\n",
    "# 'directional_decoded_epochs_marginals'\n",
    "collector_decoded_epoch_marginals = curr_active_pipeline.display('_display_directional_merged_pf_decoded_epochs_marginals', curr_active_pipeline.get_session_context(), \n",
    "\t\t\t\t\t\t\t\t\t\t\t\t\t\t\tactive_context=active_display_context,\n",
    "\t\t\t\t\t\t\t\t\t\t\t\t\t\t\tsave_figure=True, \n",
    "\t\t\t\t\t\t\t\t\t\t\t\t\t\t\tdirectional_merged_decoders_result=alt_directional_merged_decoders_result, # Custom `directional_merged_decoders_result` to use instead of the computed one.\n",
    "\t\t\t\t\t\t\t\t\t\t\t\t\t\t\t)\n"
   ]
  },
  {
   "cell_type": "markdown",
   "id": "7ae85fcb",
   "metadata": {},
   "source": [
    "### 2024-01-19 - Marginal Yellow-Blue Plots from `alt_directional_merged_decoders_result`"
   ]
  },
  {
   "cell_type": "code",
   "execution_count": null,
   "id": "e5876c7f",
   "metadata": {},
   "outputs": [],
   "source": [
    "# active_context = owning_pipeline_reference.sess.get_context()\n",
    "# Build the active context directly:\n",
    "active_display_context: IdentifyingContext = curr_active_pipeline.build_display_context_for_session('directional_merged_pf_decoded_epochs', laps_t_bin=laps_decoding_time_bin_size, ripple_t_bin=ripple_decoding_time_bin_size)\n",
    "if use_single_time_bin_per_epoch:\n",
    "\tactive_display_context = active_display_context.adding_context_if_missing(use_single_time_bin_per_epoch=use_single_time_bin_per_epoch)\n",
    "active_display_context\n",
    "\n",
    "## Plot the decoded epoch bins of the custom result:\n",
    "_out_decoded_epochs = curr_active_pipeline.display('_display_directional_merged_pf_decoded_epochs', curr_active_pipeline.get_session_context(), #active_display_context,\n",
    "\tmax_num_lap_epochs = 80, max_num_ripple_epochs = 100,\n",
    "\t# render_directional_marginal_laps=True, render_directional_marginal_ripples=True, render_track_identity_marginal_laps=True, render_track_identity_marginal_ripples=True,\n",
    "\trender_directional_marginal_laps=False, render_directional_marginal_ripples=False, render_track_identity_marginal_laps=False, render_track_identity_marginal_ripples=True,\n",
    "\t# constrained_layout=True, # layout='none',\n",
    "\t# build_fn='basic_view', constrained_layout=True, # 25.5s\n",
    "\tbuild_fn='insets_view', constrained_layout=True, #constrained_layout=None, layout='none', # , constrained_layout=False constrained_layout=None, layout='none', # , constrained_layout=None, layout='none' extrodinarily fast, 4.2s\n",
    "\t**_curr_interaction_mode_kwargs, # interactive mode\n",
    "\tskip_plotting_measured_positions=True, skip_plotting_most_likely_positions=True, save_figure=True, \n",
    "\tdirectional_merged_decoders_result=alt_directional_merged_decoders_result, # Custom `directional_merged_decoders_result` to use instead of the computed one.\n",
    "\t)\n",
    "collector_decoded_epochs = _out_decoded_epochs['collector']"
   ]
  },
  {
   "cell_type": "code",
   "execution_count": null,
   "id": "cddc6584",
   "metadata": {},
   "outputs": [],
   "source": [
    "laps_only_keys = [item for item in active_display_context.keys() if 'lap' in item] # items exclusive to laps: ['laps_t_bin']\n",
    "ripple_only_keys = [item for item in active_display_context.keys() if 'ripple' in item]\n",
    "laps_context = active_display_context.get_subset(subset_excludelist=ripple_only_keys) # laps specific context filtering out the ripple keys\n",
    "ripple_context = active_display_context.get_subset(subset_excludelist=laps_only_keys) # ripple specific context filtering out the laps keys\n"
   ]
  },
  {
   "cell_type": "markdown",
   "id": "a5c4169a",
   "metadata": {},
   "source": [
    "### 2024-01-19 - Build General Marginals"
   ]
  },
  {
   "cell_type": "code",
   "execution_count": null,
   "id": "ac6d8817",
   "metadata": {},
   "outputs": [],
   "source": [
    "## `alt_directional_merged_decoders_result`\n",
    "from PendingNotebookCode import test_build_new_marginals_df\n",
    "\n",
    "# `alt_directional_merged_decoders_result.all_directional_laps_filter_epochs_decoder_result`\n",
    "\n",
    "# laps_time_bin_marginals_df = test_build_new_marginals_df(alt_directional_merged_decoders_result)\n",
    "laps_time_bin_marginals_df: pd.DataFrame = test_build_new_marginals_df(a_decoder_result=deepcopy(alt_directional_merged_decoders_result.all_directional_laps_filter_epochs_decoder_result),\n",
    "\t\t\t\t\t\t\t\t a_track_identity_marginals=alt_directional_merged_decoders_result.laps_directional_marginals_tuple[0]\n",
    "\t\t\t\t\t\t\t )\n",
    "laps_time_bin_marginals_df\n",
    "\n",
    "ripple_time_bin_marginals_df: pd.DataFrame = test_build_new_marginals_df(a_decoder_result=deepcopy(alt_directional_merged_decoders_result.all_directional_ripple_filter_epochs_decoder_result),\n",
    "\t\t\t\t\t\t\t\t\t\t\t a_track_identity_marginals=alt_directional_merged_decoders_result.ripple_directional_marginals_tuple[0]\n",
    "\t\t\t\t\t\t\t\t\t\t)\n",
    "ripple_time_bin_marginals_df"
   ]
  },
  {
   "cell_type": "code",
   "execution_count": null,
   "id": "f8d88744",
   "metadata": {},
   "outputs": [],
   "source": [
    "import matplotlib as mpl\n",
    "import matplotlib.pyplot as plt\n",
    "import seaborn as sns\n",
    "from flexitext import flexitext ## flexitext for formatted matplotlib text\n",
    "\n",
    "from pyphocorehelpers.DataStructure.RenderPlots.MatplotLibRenderPlots import FigureCollector\n",
    "from pyphoplacecellanalysis.General.Model.Configs.LongShortDisplayConfig import PlottingHelpers\n",
    "from neuropy.utils.matplotlib_helpers import FormattedFigureText\n",
    "\n",
    "\n",
    "perform_write_to_file_callback = None\n",
    "\n",
    "laps_all_epoch_bins_marginals_df = deepcopy(laps_time_bin_marginals_df)\n",
    "ripple_all_epoch_bins_marginals_df = deepcopy(ripple_time_bin_marginals_df)\n",
    "\n",
    "if active_context is not None:\n",
    "\tdisplay_context = active_context.adding_context('display_fn', display_fn_name='plot_all_epoch_bins_marginal_predictions')\n",
    "\t\n",
    "# These subset contexts are used to filter out lap/ripple only keys.\n",
    "# e.g. active_context=curr_active_pipeline.build_display_context_for_session('directional_merged_pf_decoded_epochs', laps_t_bin=laps_decoding_time_bin_size, ripple_t_bin=ripple_decoding_time_bin_size)\n",
    "\t# only want laps_t_bin on the laps plot and ripple_t_bin on the ripples plot\n",
    "laps_only_keys = [item for item in display_context.keys() if 'lap' in item] # items exclusive to laps: ['laps_t_bin']\n",
    "ripple_only_keys = [item for item in display_context.keys() if 'ripple' in item]\n",
    "laps_display_context = display_context.get_subset(subset_excludelist=ripple_only_keys) # laps specific context filtering out the ripple keys\n",
    "ripple_display_context = display_context.get_subset(subset_excludelist=laps_only_keys) # ripple specific context filtering out the laps keys\n",
    "\n",
    "\n",
    "with mpl.rc_context({'figure.figsize': (12.4, 4.8), 'figure.dpi': '220', 'savefig.transparent': True, 'ps.fonttype': 42,\n",
    "\t\t\t\t\t\t\"axes.spines.left\": False, \"axes.spines.right\": False, \"axes.spines.bottom\": False, \"axes.spines.top\": False,\n",
    "\t\t\t\t\t\t\"axes.edgecolor\": \"none\", \"xtick.bottom\": False, \"xtick.top\": False, \"ytick.left\": False, \"ytick.right\": False}):\n",
    "\t# Create a FigureCollector instance\n",
    "\twith FigureCollector(name='plot_all_epoch_bins_marginal_predictions', base_context=display_context) as collector:\n",
    "\n",
    "\t\t## Define common operations to do after making the figure:\n",
    "\t\tdef setup_common_after_creation(a_collector, fig, axes, sub_context, title=f'<size:22> Sig. (>0.95) <weight:bold>Best</> <weight:bold>Quantile Diff</></>'):\n",
    "\t\t\t\"\"\" Captures:\n",
    "\n",
    "\t\t\tt_split, t_start, t_end)\n",
    "\t\t\t\"\"\"\n",
    "\t\t\ta_collector.contexts.append(sub_context)\n",
    "\t\t\t\n",
    "\t\t\tfor ax in (axes if isinstance(axes, Iterable) else [axes]):\n",
    "\t\t\t\t# Update the xlimits with the new bounds\n",
    "\t\t\t\tax.set_ylim(0.0, 1.0)\n",
    "\t\t\t\t# Add epoch indicators\n",
    "\t\t\t\t_tmp_output_dict = PlottingHelpers.helper_matplotlib_add_long_short_epoch_indicator_regions(ax=ax, t_split=t_delta, t_start=t_start, t_end=t_end)\n",
    "\t\t\t\t# Update the xlimits with the new bounds\n",
    "\t\t\t\tax.set_xlim(t_start, t_end)\n",
    "\t\t\t\t# Draw a horizontal line at y=0.5\n",
    "\t\t\t\tax.axhline(y=0.5, color=(0,0,0,1)) # , linestyle='--'\n",
    "\t\t\t\t## This is figure level stuff and only needs to be done once:\n",
    "\t\t\t\t# `flexitext` version:\n",
    "\t\t\t\ttext_formatter = FormattedFigureText()\n",
    "\t\t\t\tax.set_title('')\n",
    "\t\t\t\tfig.suptitle('')\n",
    "\t\t\t\t# top=0.84, bottom=0.125, left=0.07, right=0.97,\n",
    "\t\t\t\t# text_formatter.setup_margins(fig, top_margin=1.0, left_margin=0.0, right_margin=1.0, bottom_margin=0.05)\n",
    "\t\t\t\ttext_formatter.setup_margins(fig, top_margin=0.84, left_margin=0.07, right_margin=0.97, bottom_margin=0.125)\n",
    "\t\t\t\t# fig.subplots_adjust(top=top_margin, left=left_margin, right=right_margin, bottom=bottom_margin)\n",
    "\t\t\t\t# title_text_obj = flexitext(text_formatter.left_margin, text_formatter.top_margin, title, va=\"bottom\", xycoords=\"figure fraction\")\n",
    "\t\t\t\ttitle_text_obj = flexitext(text_formatter.left_margin, 0.98, title, va=\"top\", xycoords=\"figure fraction\") # 0.98, va=\"top\" means the top edge of the title will be aligned to the fig_y=0.98 mark of the figure.\n",
    "\t\t\t\t# footer_text_obj = flexitext((text_formatter.left_margin * 0.1), (text_formatter.bottom_margin * 0.25),\n",
    "\t\t\t\t#                             text_formatter._build_footer_string(active_context=sub_context),\n",
    "\t\t\t\t#                             va=\"top\", xycoords=\"figure fraction\")\n",
    "\n",
    "\t\t\t\tfooter_text_obj = flexitext((text_formatter.left_margin * 0.1), (0.0025), ## (va=\"bottom\", (0.0025)) - this means that the bottom edge of the footer text is aligned with the fig_y=0.0025 in figure space\n",
    "\t\t\t\t\t\t\t\t\t\t\ttext_formatter._build_footer_string(active_context=sub_context),\n",
    "\t\t\t\t\t\t\t\t\t\t\tva=\"bottom\", xycoords=\"figure fraction\")\n",
    "\t\t\n",
    "\t\t\tif ((perform_write_to_file_callback is not None) and (sub_context is not None)):\n",
    "\t\t\t\tperform_write_to_file_callback(sub_context, fig)\n",
    "\t\t\t\n",
    "\t\t# Plot for BestDir\n",
    "\t\tfig, ax = collector.subplots(num='Laps_Marginal', clear=True)\n",
    "\t\t_out_Laps = sns.scatterplot(\n",
    "\t\t\tax=ax,\n",
    "\t\t\tdata=laps_all_epoch_bins_marginals_df,\n",
    "\t\t\tx='t_bin_center',\n",
    "\t\t\ty='P_Long',\n",
    "\t\t\t# size='LR_Long_rel_num_cells',  # Use the 'size' parameter for variable marker sizes\n",
    "\t\t)\n",
    "\t\tsetup_common_after_creation(collector, fig=fig, axes=ax, sub_context=laps_display_context.adding_context('subplot', subplot_name='Laps all_epoch_binned Marginals'), \n",
    "\t\t\t\t\t\t\t\t\ttitle=f'<size:22> Laps <weight:bold>all_epoch_binned</> Marginals</>')\n",
    "\t\t\n",
    "\t\tfig, ax = collector.subplots(num='Ripple_Marginal', clear=True)\n",
    "\t\t_out_Ripple = sns.scatterplot(\n",
    "\t\t\tax=ax,\n",
    "\t\t\tdata=ripple_all_epoch_bins_marginals_df,\n",
    "\t\t\tx='t_bin_center',\n",
    "\t\t\ty='P_Long',\n",
    "\t\t\t# size='LR_Long_rel_num_cells',  # Use the 'size' parameter for variable marker sizes\n",
    "\t\t)\n",
    "\t\tsetup_common_after_creation(collector, fig=fig, axes=ax, sub_context=ripple_display_context.adding_context('subplot', subplot_name='Ripple all_epoch_binned Marginals'), \n",
    "\t\t\t\t\t\ttitle=f'<size:22> Ripple <weight:bold>all_epoch_binned</> Marginals</>')\n"
   ]
  },
  {
   "cell_type": "code",
   "execution_count": null,
   "id": "2d655560",
   "metadata": {},
   "outputs": [],
   "source": [
    "laps_time_bin_marginals_df['lap_idx'] = laps_time_bin_marginals_df.index.to_numpy()\n",
    "laps_time_bin_marginals_df['lap_start_t'] = laps_epochs_df['start'].to_numpy()\n",
    "laps_time_bin_marginals_df"
   ]
  },
  {
   "cell_type": "code",
   "execution_count": null,
   "id": "9e3800d0",
   "metadata": {},
   "outputs": [],
   "source": [
    "# 2024-01-19 - Can decode position from the pseudo2D posterior directly, or by using the pseudo2D decoder to determine the best direction and track_id and use the corresponding 1D decoder's predicted position.\n"
   ]
  },
  {
   "cell_type": "code",
   "execution_count": null,
   "id": "31f76dfc",
   "metadata": {},
   "outputs": [],
   "source": [
    "# 2024-01-19 - Export All Epoch Time bin marginals to CSV also\n",
    "## Laps:\n",
    "laps_epochs_df: pd.DataFrame = deepcopy(alt_directional_merged_decoders_result.all_directional_laps_filter_epochs_decoder_result.filter_epochs).to_dataframe()\n",
    "laps_directional_marginals_tuple = DirectionalMergedDecodersResult.determine_directional_likelihoods(alt_directional_merged_decoders_result.all_directional_laps_filter_epochs_decoder_result)\n",
    "laps_directional_marginals, laps_directional_all_epoch_bins_marginal, laps_most_likely_direction_from_decoder, laps_is_most_likely_direction_LR_dir  = laps_directional_marginals_tuple\n",
    "laps_track_identity_marginals = DirectionalMergedDecodersResult.determine_long_short_likelihoods(alt_directional_merged_decoders_result.all_directional_laps_filter_epochs_decoder_result)\n",
    "track_identity_marginals, track_identity_all_epoch_bins_marginal, most_likely_track_identity_from_decoder, is_most_likely_track_identity_Long = laps_track_identity_marginals\n",
    "\n",
    "laps_marginals_df: pd.DataFrame = pd.DataFrame(np.hstack((laps_directional_all_epoch_bins_marginal, track_identity_all_epoch_bins_marginal)), columns=['P_LR', 'P_RL', 'P_Long', 'P_Short'])\n",
    "laps_marginals_df['lap_idx'] = laps_marginals_df.index.to_numpy()\n",
    "laps_marginals_df['lap_start_t'] = laps_epochs_df['start'].to_numpy()\n",
    "laps_marginals_df"
   ]
  },
  {
   "cell_type": "code",
   "execution_count": null,
   "id": "d78fbcd5",
   "metadata": {},
   "outputs": [],
   "source": [
    "display(laps_marginals_df)\n",
    "laps_marginals_df.to_html()"
   ]
  },
  {
   "cell_type": "code",
   "execution_count": null,
   "id": "d73c79d1",
   "metadata": {},
   "outputs": [],
   "source": [
    "## Local computation: check laps\n",
    "laps = curr_active_pipeline.sess.laps\n"
   ]
  },
  {
   "cell_type": "code",
   "execution_count": null,
   "id": "3f0d1e98",
   "metadata": {},
   "outputs": [],
   "source": [
    "np.arange(start=0.030, step=0.01, stop=0.10) # [0.03, 0.04, 0.05, 0.06, 0.07, 0.08, 0.09, 0.1]"
   ]
  },
  {
   "cell_type": "markdown",
   "id": "fc018065",
   "metadata": {},
   "source": [
    "# Call perform_sweep_decoding_time_bin_sizes_marginals_dfs_completion_function"
   ]
  },
  {
   "cell_type": "code",
   "execution_count": 17,
   "id": "82c6522e",
   "metadata": {
    "notebookRunGroups": {
     "groupValue": "1"
    }
   },
   "outputs": [],
   "source": [
    "from pyphoplacecellanalysis.General.Batch.BatchJobCompletion.UserCompletionHelpers.batch_user_completion_helpers import perform_sweep_decoding_time_bin_sizes_marginals_dfs_completion_function\n"
   ]
  },
  {
   "cell_type": "code",
   "execution_count": 18,
   "id": "773e9f51",
   "metadata": {
    "notebookRunGroups": {
     "groupValue": "1"
    }
   },
   "outputs": [],
   "source": [
    "_across_session_results_extended_dict = {}"
   ]
  },
  {
   "cell_type": "code",
   "execution_count": null,
   "id": "6c0f6b31",
   "metadata": {
    "notebookRunGroups": {
     "groupValue": ""
    }
   },
   "outputs": [],
   "source": [
    "## Combine the output of `perform_sweep_decoding_time_bin_sizes_marginals_dfs_completion_function` into two dataframes for the laps, one per-epoch and one per-time-bin\n",
    "_across_session_results_extended_dict = _across_session_results_extended_dict | perform_sweep_decoding_time_bin_sizes_marginals_dfs_completion_function(None, None,\n",
    "\t\t\t\t\t\t\t\t\t\t\t\tcurr_session_context=curr_active_pipeline.get_session_context(), curr_session_basedir=curr_active_pipeline.sess.basepath.resolve(), curr_active_pipeline=curr_active_pipeline,\n",
    "\t\t\t\t\t\t\t\t\t\t\t\tacross_session_results_extended_dict=_across_session_results_extended_dict, save_hdf=False)\n",
    "out_path, output_laps_decoding_accuracy_results_df, output_extracted_result_tuples, combined_multi_timebin_outputs_tuple = _across_session_results_extended_dict['perform_sweep_decoding_time_bin_sizes_marginals_dfs_completion_function']\n",
    "(several_time_bin_sizes_laps_df, laps_out_path, several_time_bin_sizes_time_bin_laps_df, laps_time_bin_marginals_out_path), (several_time_bin_sizes_ripple_df, ripple_out_path, several_time_bin_sizes_time_bin_ripple_df, ripple_time_bin_marginals_out_path) = combined_multi_timebin_outputs_tuple\n"
   ]
  },
  {
   "cell_type": "code",
   "execution_count": null,
   "id": "09a71abd",
   "metadata": {},
   "outputs": [],
   "source": [
    "# get_file_pat\n",
    "collected_outputs_path"
   ]
  },
  {
   "cell_type": "code",
   "execution_count": null,
   "id": "97c0f606",
   "metadata": {},
   "outputs": [],
   "source": [
    "output_laps_decoding_accuracy_results_df"
   ]
  },
  {
   "cell_type": "code",
   "execution_count": null,
   "id": "dd970d51",
   "metadata": {},
   "outputs": [],
   "source": [
    "import matplotlib.pyplot as plt\n",
    "\n",
    "# def plot_histograms( data_type: str, session_spec: str, data_results_df: pd.DataFrame, time_bin_duration_str: str ) -> None:\n",
    "#     # get the pre-delta epochs\n",
    "#     pre_delta_df = data_results_df[data_results_df['delta_aligned_start_t'] <= 0]\n",
    "#     post_delta_df = data_results_df[data_results_df['delta_aligned_start_t'] > 0]\n",
    "\n",
    "#     descriptor_str: str = '|'.join([data_type, session_spec, time_bin_duration_str])\n",
    "    \n",
    "#     # plot pre-delta histogram\n",
    "#     pre_delta_df.hist(column='P_Long')\n",
    "#     plt.title(f'{descriptor_str} - pre-$\\Delta$ time bins')\n",
    "#     plt.show()\n",
    "\n",
    "#     # plot post-delta histogram\n",
    "#     post_delta_df.hist(column='P_Long')\n",
    "#     plt.title(f'{descriptor_str} - post-$\\Delta$ time bins')\n",
    "#     plt.show()\n",
    "    \n",
    "\n",
    "def plot_histograms(data_type: str, session_spec: str, data_results_df: pd.DataFrame, time_bin_duration_str: str) -> None:\n",
    "    \"\"\" plots a stacked histogram of the many time-bin sizes \"\"\"\n",
    "    # get the pre-delta epochs\n",
    "    pre_delta_df = data_results_df[data_results_df['delta_aligned_start_t'] <= 0]\n",
    "    post_delta_df = data_results_df[data_results_df['delta_aligned_start_t'] > 0]\n",
    "\n",
    "    descriptor_str: str = '|'.join([data_type, session_spec, time_bin_duration_str])\n",
    "    \n",
    "    # plot pre-delta histogram\n",
    "    time_bin_sizes = pre_delta_df['time_bin_size'].unique()\n",
    "    \n",
    "    figure_identifier: str = f\"{descriptor_str}_preDelta\"\n",
    "    plt.figure(num=figure_identifier, clear=True, figsize=(6, 2))\n",
    "    for time_bin_size in time_bin_sizes:\n",
    "        df_tbs = pre_delta_df[pre_delta_df['time_bin_size']==time_bin_size]\n",
    "        df_tbs['P_Long'].hist(alpha=0.5, label=str(time_bin_size)) \n",
    "    \n",
    "    plt.title(f'{descriptor_str} - pre-$\\Delta$ time bins')\n",
    "    plt.legend()\n",
    "    plt.show()\n",
    "\n",
    "    # plot post-delta histogram\n",
    "    time_bin_sizes = post_delta_df['time_bin_size'].unique()\n",
    "    figure_identifier: str = f\"{descriptor_str}_postDelta\"\n",
    "    plt.figure(num=figure_identifier, clear=True, figsize=(6, 2))\n",
    "    for time_bin_size in time_bin_sizes:\n",
    "        df_tbs = post_delta_df[post_delta_df['time_bin_size']==time_bin_size]\n",
    "        df_tbs['P_Long'].hist(alpha=0.5, label=str(time_bin_size)) \n",
    "    \n",
    "    plt.title(f'{descriptor_str} - post-$\\Delta$ time bins')\n",
    "    plt.legend()\n",
    "    plt.show()\n",
    "\n",
    "# # You can use it like this:\n",
    "# plot_histograms('Laps', 'All Sessions', all_sessions_laps_time_bin_df, \"75 ms\")\n",
    "# plot_histograms('Ripples', 'All Sessions', all_sessions_ripple_time_bin_df, \"75 ms\")\n"
   ]
  },
  {
   "cell_type": "code",
   "execution_count": null,
   "id": "49dd6f87",
   "metadata": {},
   "outputs": [],
   "source": [
    "import seaborn as sns\n",
    "from neuropy.utils.matplotlib_helpers import pho_jointplot\n",
    "sns.set_theme(style=\"ticks\")\n",
    "\n",
    "# def pho_jointplot(*args, **kwargs):\n",
    "# \t\"\"\" wraps sns.jointplot to allow adding titles/axis labels/etc.\"\"\"\n",
    "# \ttitle = kwargs.pop('title', None)\n",
    "# \t_out = sns.jointplot(*args, **kwargs)\n",
    "# \tif title is not None:\n",
    "# \t\tplt.suptitle(title)\n",
    "# \treturn _out\n",
    "\n",
    "common_kwargs = dict(ylim=(0,1), hue='time_bin_size') # , marginal_kws=dict(bins=25, fill=True)\n",
    "# sns.jointplot(data=a_laps_all_epoch_bins_marginals_df, x='lap_start_t', y='P_Long', kind=\"scatter\", color=\"#4CB391\")\n",
    "pho_jointplot(data=several_time_bin_sizes_laps_df, x='delta_aligned_start_t', y='P_Long', kind=\"scatter\", **common_kwargs, title='Laps: per epoch') #color=\"#4CB391\")\n",
    "pho_jointplot(data=several_time_bin_sizes_ripple_df, x='delta_aligned_start_t', y='P_Long', kind=\"scatter\", **common_kwargs, title='Ripple: per epoch')\n",
    "pho_jointplot(data=several_time_bin_sizes_time_bin_ripple_df, x='delta_aligned_start_t', y='P_Long', kind=\"scatter\", **common_kwargs, title='Ripple: per time bin')\n",
    "pho_jointplot(data=several_time_bin_sizes_time_bin_laps_df, x='delta_aligned_start_t', y='P_Long', kind=\"scatter\", **common_kwargs, title='Laps: per time bin')"
   ]
  },
  {
   "cell_type": "code",
   "execution_count": null,
   "id": "c43311ee",
   "metadata": {},
   "outputs": [],
   "source": [
    "# You can use it like this:\n",
    "plot_histograms('Laps', 'One Session', several_time_bin_sizes_time_bin_laps_df, \"several\")\n",
    "plot_histograms('Ripples', 'One Session', several_time_bin_sizes_time_bin_ripple_df, \"several\")"
   ]
  },
  {
   "cell_type": "code",
   "execution_count": null,
   "id": "6a33b924",
   "metadata": {},
   "outputs": [],
   "source": [
    "several_time_bin_sizes_ripple_df"
   ]
  },
  {
   "cell_type": "code",
   "execution_count": null,
   "id": "e102212a",
   "metadata": {},
   "outputs": [],
   "source": [
    "# sns.displot(\n",
    "#     several_time_bin_sizes_laps_df, x=\"P_Long\", col=\"species\", row=\"time_bin_size\",\n",
    "#     binwidth=3, height=3, facet_kws=dict(margin_titles=True),\n",
    "# )\n",
    "\n",
    "sns.displot(\n",
    "    several_time_bin_sizes_laps_df, x='delta_aligned_start_t', y='P_Long', row=\"time_bin_size\",\n",
    "    binwidth=3, height=3, facet_kws=dict(margin_titles=True),\n",
    ")\n"
   ]
  },
  {
   "cell_type": "markdown",
   "id": "be351c18",
   "metadata": {},
   "source": [
    "# 2024-01-31 - Reinvestigation regarding remapping"
   ]
  },
  {
   "cell_type": "code",
   "execution_count": 19,
   "id": "911d7495",
   "metadata": {
    "notebookRunGroups": {
     "groupValue": "1"
    }
   },
   "outputs": [
    {
     "data": {
      "text/plain": [
       "TruncationCheckingResults(_VersionedResultMixin_version='2024.01.10_0', disappearing_endcap_aclus=Int64Index([], dtype='int64'), non_disappearing_endcap_aclus=Int64Index([4, 7, 9, 14, 18, 20, 24, 25, 26, 29, 31, 32, 35, 40, 43, 45, 50, 52], dtype='int64'), significant_distant_remapping_endcap_aclus=Int64Index([4, 7, 24, 29, 31, 32, 35, 45], dtype='int64'), minor_remapping_endcap_aclus=Int64Index([9, 14, 18, 20, 25, 26, 40, 43, 50, 52], dtype='int64'))"
      ]
     },
     "execution_count": 19,
     "metadata": {},
     "output_type": "execute_result"
    }
   ],
   "source": [
    "## long_short_endcap_analysis:\n",
    "truncation_checking_result: TruncationCheckingResults = curr_active_pipeline.global_computation_results.computed_data.long_short_endcap\n",
    "truncation_checking_result"
   ]
  },
  {
   "cell_type": "markdown",
   "id": "1a5d9b54",
   "metadata": {
    "notebookRunGroups": {
     "groupValue": "1"
    }
   },
   "source": [
    "## From Jonathan Long/Short Peaks"
   ]
  },
  {
   "cell_type": "code",
   "execution_count": null,
   "id": "7a3641aa",
   "metadata": {},
   "outputs": [],
   "source": [
    "jonathan_firing_rate_analysis_result: JonathanFiringRateAnalysisResult = curr_active_pipeline.global_computation_results.computed_data.jonathan_firing_rate_analysis\n",
    "neuron_replay_stats_df = deepcopy(jonathan_firing_rate_analysis_result.neuron_replay_stats_df)\n",
    "\n",
    "## try to add the 2D peak information to the cells in `neuron_replay_stats_df`:\n",
    "neuron_replay_stats_df['long_pf2D_peak_x'] = pd.NA\n",
    "neuron_replay_stats_df['short_pf2D_peak_x'] = pd.NA\n",
    "neuron_replay_stats_df['long_pf2D_peak_y'] = pd.NA\n",
    "neuron_replay_stats_df['short_pf2D_peak_y'] = pd.NA\n",
    "\n",
    "# flat_peaks_df: pd.DataFrame = deepcopy(active_peak_prominence_2d_results['flat_peaks_df']).reset_index(drop=True)\n",
    "long_filtered_flat_peaks_df: pd.DataFrame = deepcopy(curr_active_pipeline.computation_results[long_any_name].computed_data['RatemapPeaksAnalysis']['PeakProminence2D']['filtered_flat_peaks_df']).reset_index(drop=True)\n",
    "short_filtered_flat_peaks_df: pd.DataFrame = deepcopy(curr_active_pipeline.computation_results[short_any_name].computed_data['RatemapPeaksAnalysis']['PeakProminence2D']['filtered_flat_peaks_df']).reset_index(drop=True)\n",
    "\n",
    "neuron_replay_stats_df.loc[np.isin(neuron_replay_stats_df['aclu'].to_numpy(), long_filtered_flat_peaks_df.neuron_id.to_numpy()), ['long_pf2D_peak_x', 'long_pf2D_peak_y']] = long_filtered_flat_peaks_df[['peak_center_x', 'peak_center_y']].to_numpy()\n",
    "neuron_replay_stats_df.loc[np.isin(neuron_replay_stats_df['aclu'].to_numpy(), short_filtered_flat_peaks_df.neuron_id.to_numpy()), ['short_pf2D_peak_x', 'short_pf2D_peak_y']] = short_filtered_flat_peaks_df[['peak_center_x', 'peak_center_y']].to_numpy()\n",
    "\n",
    "both_included_neuron_stats_df = deepcopy(neuron_replay_stats_df[neuron_replay_stats_df['LS_pf_peak_x_diff'].notnull()]).drop(columns=['track_membership', 'neuron_type'])\n",
    "both_included_neuron_stats_df\n",
    "# both_included_neuron_stats_df['LS_pf_peak_x_diff'].plot()\n",
    "\n",
    "# both_included_neuron_stats_df['LS_pf_peak_x_diff'].plot()\n",
    "\n",
    "# _out_scatter = sns.scatterplot(both_included_neuron_stats_df, x='LS_pf_peak_x_diff', y='aclu') # , hue='aclu'\n",
    "# _out_scatter.show()\n",
    "# _out_hist = sns.histplot(both_included_neuron_stats_df, x='LS_pf_peak_x_diff', bins=25)\n"
   ]
  },
  {
   "cell_type": "code",
   "execution_count": null,
   "id": "1325198f",
   "metadata": {},
   "outputs": [],
   "source": [
    "type(jonathan_firing_rate_analysis_result) # pyphoplacecellanalysis.General.Pipeline.Stages.ComputationFunctions.MultiContextComputationFunctions.LongShortTrackComputations.JonathanFiringRateAnalysisResult\n",
    "\n",
    "rdf_df: pd.DataFrame = deepcopy(jonathan_firing_rate_analysis_result.rdf.rdf)\n",
    "rdf_df"
   ]
  },
  {
   "cell_type": "code",
   "execution_count": null,
   "id": "d371a5e5",
   "metadata": {},
   "outputs": [],
   "source": [
    "# Save DataFrame to JSON\n",
    "output_path = Path('output/rdf_df.json').resolve()\n",
    "rdf_df.to_json(output_path, orient='records', lines=True) ## This actually looks pretty good!\n",
    "output_path"
   ]
  },
  {
   "cell_type": "code",
   "execution_count": null,
   "id": "41b794a2",
   "metadata": {},
   "outputs": [],
   "source": [
    "join_columns = ['start', 'end']\n",
    "invalid_columns = ['active_aclus', 'is_neuron_active', 'firing_rates']\n",
    "invalid_df_subset = rdf_df[join_columns + invalid_columns]\n",
    "invalid_df_subset\n"
   ]
  },
  {
   "cell_type": "code",
   "execution_count": null,
   "id": "9db8e81a",
   "metadata": {},
   "outputs": [],
   "source": [
    "# Reload DataFrame from JSON\n",
    "df_read: pd.DataFrame = pd.read_json(output_path, orient='records', lines=True)\n",
    "df_read\n"
   ]
  },
  {
   "cell_type": "code",
   "execution_count": null,
   "id": "b6170689",
   "metadata": {},
   "outputs": [],
   "source": [
    "\n",
    "rdf_df.convert_dtypes().dtypes"
   ]
  },
  {
   "cell_type": "code",
   "execution_count": null,
   "id": "429bb6a8",
   "metadata": {},
   "outputs": [],
   "source": [
    "rdf_df.dtypes\n",
    "\n",
    "# firing_rates                            object\n",
    "\n",
    "\n"
   ]
  },
  {
   "cell_type": "code",
   "execution_count": null,
   "id": "9e7b50ca",
   "metadata": {},
   "outputs": [],
   "source": [
    "long_pf_aclus = both_included_neuron_stats_df.aclu[both_included_neuron_stats_df.has_long_pf].to_numpy()\n",
    "short_pf_aclus = both_included_neuron_stats_df.aclu[both_included_neuron_stats_df.has_short_pf].to_numpy()\n",
    "\n",
    "long_pf_aclus, short_pf_aclus"
   ]
  },
  {
   "cell_type": "markdown",
   "id": "7d18cfba",
   "metadata": {},
   "source": [
    "## 2024-02-06 - `directional_compute_trial_by_trial_correlation_matrix`"
   ]
  },
  {
   "cell_type": "code",
   "execution_count": 20,
   "id": "c383e8ea",
   "metadata": {
    "notebookRunGroups": {
     "groupValue": "1"
    }
   },
   "outputs": [
    {
     "data": {
      "text/plain": [
       "array([ 2,  4,  5,  7,  9, 10, 11, 12, 14, 15, 16, 17, 18, 19, 20, 21, 23, 24, 25, 26, 27, 31, 32, 35, 37, 39, 40, 41, 43, 44, 45, 46, 49, 50, 52, 53])"
      ]
     },
     "execution_count": 20,
     "metadata": {},
     "output_type": "execute_result"
    }
   ],
   "source": [
    "from neuropy.analyses.time_dependent_placefields import PfND_TimeDependent\n",
    "# from pyphoplacecellanalysis.SpecificResults.PendingNotebookCode import compute_spatial_binned_activity_via_pfdt, compute_trial_by_trial_correlation_matrix\n",
    "from pyphoplacecellanalysis.SpecificResults.PendingNotebookCode import TrialByTrialActivity\n",
    "\n",
    "any_decoder_neuron_IDs = deepcopy(track_templates.any_decoder_neuron_IDs)\n",
    "any_decoder_neuron_IDs\n",
    "\n",
    "# track_templates.shared_LR_aclus_only_neuron_IDs\n",
    "# track_templates.shared_RL_aclus_only_neuron_IDs\n",
    "\n",
    "\n",
    "## Directional Trial-by-Trial Activity:\n",
    "if 'pf1D_dt' not in curr_active_pipeline.computation_results[global_epoch_name].computed_data:\n",
    "\t# if `KeyError: 'pf1D_dt'` recompute\n",
    "\tcurr_active_pipeline.perform_specific_computation(computation_functions_name_includelist=['pfdt_computation'], enabled_filter_names=None, fail_on_exception=True, debug_print=False)\n",
    "\n",
    "\n",
    "active_pf_1D_dt: PfND_TimeDependent = deepcopy(curr_active_pipeline.computation_results[global_epoch_name].computed_data['pf1D_dt'])\n",
    "active_pf_2D_dt: PfND_TimeDependent = deepcopy(curr_active_pipeline.computation_results[global_epoch_name].computed_data['pf2D_dt'])\n",
    "\n",
    "active_pf_dt: PfND_TimeDependent = deepcopy(active_pf_1D_dt)\n",
    "# active_pf_dt.res\n",
    "# Limit only to the placefield aclus:\n",
    "active_pf_dt = active_pf_dt.get_by_id(ids=any_decoder_neuron_IDs)\n",
    "\n",
    "# active_pf_dt: PfND_TimeDependent = deepcopy(active_pf_2D_dt) # 2D\n",
    "long_LR_name, long_RL_name, short_LR_name, short_RL_name = track_templates.get_decoder_names()\n",
    "\n",
    "directional_lap_epochs_dict = dict(zip((long_LR_name, long_RL_name, short_LR_name, short_RL_name), (long_LR_epochs_obj, long_RL_epochs_obj, short_LR_epochs_obj, short_RL_epochs_obj)))\n",
    "directional_active_lap_pf_results_dicts = TrialByTrialActivity.directional_compute_trial_by_trial_correlation_matrix(active_pf_dt=active_pf_dt, directional_lap_epochs_dict=directional_lap_epochs_dict, included_neuron_IDs=any_decoder_neuron_IDs)"
   ]
  },
  {
   "cell_type": "code",
   "execution_count": 21,
   "id": "a3c34fd9",
   "metadata": {
    "notebookRunGroups": {
     "groupValue": "1"
    }
   },
   "outputs": [
    {
     "data": {
      "text/html": [
       "<div>\n",
       "<style scoped>\n",
       "    .dataframe tbody tr th:only-of-type {\n",
       "        vertical-align: middle;\n",
       "    }\n",
       "\n",
       "    .dataframe tbody tr th {\n",
       "        vertical-align: top;\n",
       "    }\n",
       "\n",
       "    .dataframe thead th {\n",
       "        text-align: right;\n",
       "    }\n",
       "</style>\n",
       "<table border=\"1\" class=\"dataframe\">\n",
       "  <thead>\n",
       "    <tr style=\"text-align: right;\">\n",
       "      <th></th>\n",
       "      <th>aclu</th>\n",
       "      <th>subpeak_idx</th>\n",
       "      <th>long_LR_peak</th>\n",
       "      <th>long_RL_peak</th>\n",
       "      <th>short_LR_peak</th>\n",
       "      <th>short_RL_peak</th>\n",
       "      <th>long_LR_peak_height</th>\n",
       "      <th>long_RL_peak_height</th>\n",
       "      <th>short_LR_peak_height</th>\n",
       "      <th>short_RL_peak_height</th>\n",
       "    </tr>\n",
       "  </thead>\n",
       "  <tbody>\n",
       "    <tr>\n",
       "      <th>0</th>\n",
       "      <td>2</td>\n",
       "      <td>0</td>\n",
       "      <td>39.758062</td>\n",
       "      <td>NaN</td>\n",
       "      <td>74.131401</td>\n",
       "      <td>NaN</td>\n",
       "      <td>1.000000</td>\n",
       "      <td>NaN</td>\n",
       "      <td>1.0</td>\n",
       "      <td>NaN</td>\n",
       "    </tr>\n",
       "    <tr>\n",
       "      <th>1</th>\n",
       "      <td>2</td>\n",
       "      <td>1</td>\n",
       "      <td>184.889938</td>\n",
       "      <td>NaN</td>\n",
       "      <td>NaN</td>\n",
       "      <td>NaN</td>\n",
       "      <td>0.296925</td>\n",
       "      <td>NaN</td>\n",
       "      <td>NaN</td>\n",
       "      <td>NaN</td>\n",
       "    </tr>\n",
       "    <tr>\n",
       "      <th>2</th>\n",
       "      <td>2</td>\n",
       "      <td>2</td>\n",
       "      <td>81.769921</td>\n",
       "      <td>NaN</td>\n",
       "      <td>NaN</td>\n",
       "      <td>NaN</td>\n",
       "      <td>0.216515</td>\n",
       "      <td>NaN</td>\n",
       "      <td>NaN</td>\n",
       "      <td>NaN</td>\n",
       "    </tr>\n",
       "    <tr>\n",
       "      <th>3</th>\n",
       "      <td>4</td>\n",
       "      <td>0</td>\n",
       "      <td>NaN</td>\n",
       "      <td>154.335859</td>\n",
       "      <td>NaN</td>\n",
       "      <td>150.516599</td>\n",
       "      <td>NaN</td>\n",
       "      <td>1.0</td>\n",
       "      <td>NaN</td>\n",
       "      <td>1.000000</td>\n",
       "    </tr>\n",
       "    <tr>\n",
       "      <th>4</th>\n",
       "      <td>5</td>\n",
       "      <td>0</td>\n",
       "      <td>55.035102</td>\n",
       "      <td>177.251418</td>\n",
       "      <td>196.347718</td>\n",
       "      <td>184.889938</td>\n",
       "      <td>0.803746</td>\n",
       "      <td>1.0</td>\n",
       "      <td>1.0</td>\n",
       "      <td>1.000000</td>\n",
       "    </tr>\n",
       "    <tr>\n",
       "      <th>5</th>\n",
       "      <td>5</td>\n",
       "      <td>1</td>\n",
       "      <td>81.769921</td>\n",
       "      <td>NaN</td>\n",
       "      <td>NaN</td>\n",
       "      <td>165.793639</td>\n",
       "      <td>0.370031</td>\n",
       "      <td>NaN</td>\n",
       "      <td>NaN</td>\n",
       "      <td>0.968611</td>\n",
       "    </tr>\n",
       "    <tr>\n",
       "      <th>...</th>\n",
       "      <td>...</td>\n",
       "      <td>...</td>\n",
       "      <td>...</td>\n",
       "      <td>...</td>\n",
       "      <td>...</td>\n",
       "      <td>...</td>\n",
       "      <td>...</td>\n",
       "      <td>...</td>\n",
       "      <td>...</td>\n",
       "      <td>...</td>\n",
       "    </tr>\n",
       "    <tr>\n",
       "      <th>88</th>\n",
       "      <td>52</td>\n",
       "      <td>0</td>\n",
       "      <td>211.624757</td>\n",
       "      <td>89.408441</td>\n",
       "      <td>97.046960</td>\n",
       "      <td>139.058819</td>\n",
       "      <td>1.000000</td>\n",
       "      <td>1.0</td>\n",
       "      <td>1.0</td>\n",
       "      <td>1.000000</td>\n",
       "    </tr>\n",
       "    <tr>\n",
       "      <th>89</th>\n",
       "      <td>52</td>\n",
       "      <td>1</td>\n",
       "      <td>58.854362</td>\n",
       "      <td>NaN</td>\n",
       "      <td>NaN</td>\n",
       "      <td>203.986238</td>\n",
       "      <td>0.687634</td>\n",
       "      <td>NaN</td>\n",
       "      <td>NaN</td>\n",
       "      <td>0.252138</td>\n",
       "    </tr>\n",
       "    <tr>\n",
       "      <th>90</th>\n",
       "      <td>52</td>\n",
       "      <td>2</td>\n",
       "      <td>NaN</td>\n",
       "      <td>NaN</td>\n",
       "      <td>NaN</td>\n",
       "      <td>196.347718</td>\n",
       "      <td>NaN</td>\n",
       "      <td>NaN</td>\n",
       "      <td>NaN</td>\n",
       "      <td>0.250870</td>\n",
       "    </tr>\n",
       "    <tr>\n",
       "      <th>91</th>\n",
       "      <td>53</td>\n",
       "      <td>0</td>\n",
       "      <td>215.444017</td>\n",
       "      <td>NaN</td>\n",
       "      <td>119.962520</td>\n",
       "      <td>NaN</td>\n",
       "      <td>1.000000</td>\n",
       "      <td>NaN</td>\n",
       "      <td>1.0</td>\n",
       "      <td>NaN</td>\n",
       "    </tr>\n",
       "    <tr>\n",
       "      <th>92</th>\n",
       "      <td>53</td>\n",
       "      <td>1</td>\n",
       "      <td>146.697339</td>\n",
       "      <td>NaN</td>\n",
       "      <td>NaN</td>\n",
       "      <td>NaN</td>\n",
       "      <td>0.212299</td>\n",
       "      <td>NaN</td>\n",
       "      <td>NaN</td>\n",
       "      <td>NaN</td>\n",
       "    </tr>\n",
       "    <tr>\n",
       "      <th>93</th>\n",
       "      <td>53</td>\n",
       "      <td>2</td>\n",
       "      <td>89.408441</td>\n",
       "      <td>NaN</td>\n",
       "      <td>NaN</td>\n",
       "      <td>NaN</td>\n",
       "      <td>0.207402</td>\n",
       "      <td>NaN</td>\n",
       "      <td>NaN</td>\n",
       "      <td>NaN</td>\n",
       "    </tr>\n",
       "  </tbody>\n",
       "</table>\n",
       "<p>94 rows × 10 columns</p>\n",
       "</div>"
      ],
      "text/plain": [
       "    aclu  subpeak_idx  long_LR_peak  long_RL_peak  short_LR_peak  short_RL_peak  long_LR_peak_height  long_RL_peak_height  short_LR_peak_height  short_RL_peak_height\n",
       "0      2            0     39.758062           NaN      74.131401            NaN             1.000000                  NaN                   1.0                   NaN\n",
       "1      2            1    184.889938           NaN            NaN            NaN             0.296925                  NaN                   NaN                   NaN\n",
       "2      2            2     81.769921           NaN            NaN            NaN             0.216515                  NaN                   NaN                   NaN\n",
       "3      4            0           NaN    154.335859            NaN     150.516599                  NaN                  1.0                   NaN              1.000000\n",
       "4      5            0     55.035102    177.251418     196.347718     184.889938             0.803746                  1.0                   1.0              1.000000\n",
       "5      5            1     81.769921           NaN            NaN     165.793639             0.370031                  NaN                   NaN              0.968611\n",
       "..   ...          ...           ...           ...            ...            ...                  ...                  ...                   ...                   ...\n",
       "88    52            0    211.624757     89.408441      97.046960     139.058819             1.000000                  1.0                   1.0              1.000000\n",
       "89    52            1     58.854362           NaN            NaN     203.986238             0.687634                  NaN                   NaN              0.252138\n",
       "90    52            2           NaN           NaN            NaN     196.347718                  NaN                  NaN                   NaN              0.250870\n",
       "91    53            0    215.444017           NaN     119.962520            NaN             1.000000                  NaN                   1.0                   NaN\n",
       "92    53            1    146.697339           NaN            NaN            NaN             0.212299                  NaN                   NaN                   NaN\n",
       "93    53            2     89.408441           NaN            NaN            NaN             0.207402                  NaN                   NaN                   NaN\n",
       "\n",
       "[94 rows x 10 columns]"
      ]
     },
     "execution_count": 21,
     "metadata": {},
     "output_type": "execute_result"
    }
   ],
   "source": [
    "\n",
    "decoder_aclu_peak_location_df_merged = deepcopy(track_templates.get_decoders_aclu_peak_location_df(width=None)).drop(columns=['series_idx', 'LR_peak_diff', 'RL_peak_diff'])\n",
    "# decoder_aclu_peak_location_df_merged[np.isin(decoder_aclu_peak_location_df_merged['aclu'], both_included_neuron_stats_df.aclu.to_numpy())]\n",
    "decoder_aclu_peak_location_df_merged\n"
   ]
  },
  {
   "cell_type": "code",
   "execution_count": 22,
   "id": "b01804af",
   "metadata": {
    "notebookRunGroups": {
     "groupValue": "1"
    }
   },
   "outputs": [
    {
     "data": {
      "text/html": [
       "<div>\n",
       "<style scoped>\n",
       "    .dataframe tbody tr th:only-of-type {\n",
       "        vertical-align: middle;\n",
       "    }\n",
       "\n",
       "    .dataframe tbody tr th {\n",
       "        vertical-align: top;\n",
       "    }\n",
       "\n",
       "    .dataframe thead th {\n",
       "        text-align: right;\n",
       "    }\n",
       "</style>\n",
       "<table border=\"1\" class=\"dataframe\">\n",
       "  <thead>\n",
       "    <tr style=\"text-align: right;\">\n",
       "      <th></th>\n",
       "      <th>aclu</th>\n",
       "      <th>long_LR_num_peaks</th>\n",
       "      <th>long_RL_num_peaks</th>\n",
       "      <th>short_LR_num_peaks</th>\n",
       "      <th>short_RL_num_peaks</th>\n",
       "    </tr>\n",
       "  </thead>\n",
       "  <tbody>\n",
       "    <tr>\n",
       "      <th>0</th>\n",
       "      <td>2</td>\n",
       "      <td>3</td>\n",
       "      <td>0</td>\n",
       "      <td>1</td>\n",
       "      <td>0</td>\n",
       "    </tr>\n",
       "    <tr>\n",
       "      <th>1</th>\n",
       "      <td>4</td>\n",
       "      <td>0</td>\n",
       "      <td>1</td>\n",
       "      <td>0</td>\n",
       "      <td>1</td>\n",
       "    </tr>\n",
       "    <tr>\n",
       "      <th>2</th>\n",
       "      <td>5</td>\n",
       "      <td>2</td>\n",
       "      <td>1</td>\n",
       "      <td>1</td>\n",
       "      <td>2</td>\n",
       "    </tr>\n",
       "    <tr>\n",
       "      <th>3</th>\n",
       "      <td>7</td>\n",
       "      <td>0</td>\n",
       "      <td>1</td>\n",
       "      <td>0</td>\n",
       "      <td>1</td>\n",
       "    </tr>\n",
       "    <tr>\n",
       "      <th>4</th>\n",
       "      <td>9</td>\n",
       "      <td>1</td>\n",
       "      <td>2</td>\n",
       "      <td>1</td>\n",
       "      <td>5</td>\n",
       "    </tr>\n",
       "    <tr>\n",
       "      <th>5</th>\n",
       "      <td>10</td>\n",
       "      <td>1</td>\n",
       "      <td>3</td>\n",
       "      <td>1</td>\n",
       "      <td>3</td>\n",
       "    </tr>\n",
       "    <tr>\n",
       "      <th>...</th>\n",
       "      <td>...</td>\n",
       "      <td>...</td>\n",
       "      <td>...</td>\n",
       "      <td>...</td>\n",
       "      <td>...</td>\n",
       "    </tr>\n",
       "    <tr>\n",
       "      <th>30</th>\n",
       "      <td>45</td>\n",
       "      <td>1</td>\n",
       "      <td>1</td>\n",
       "      <td>1</td>\n",
       "      <td>1</td>\n",
       "    </tr>\n",
       "    <tr>\n",
       "      <th>31</th>\n",
       "      <td>46</td>\n",
       "      <td>0</td>\n",
       "      <td>1</td>\n",
       "      <td>0</td>\n",
       "      <td>1</td>\n",
       "    </tr>\n",
       "    <tr>\n",
       "      <th>32</th>\n",
       "      <td>49</td>\n",
       "      <td>1</td>\n",
       "      <td>0</td>\n",
       "      <td>1</td>\n",
       "      <td>0</td>\n",
       "    </tr>\n",
       "    <tr>\n",
       "      <th>33</th>\n",
       "      <td>50</td>\n",
       "      <td>1</td>\n",
       "      <td>1</td>\n",
       "      <td>1</td>\n",
       "      <td>1</td>\n",
       "    </tr>\n",
       "    <tr>\n",
       "      <th>34</th>\n",
       "      <td>52</td>\n",
       "      <td>2</td>\n",
       "      <td>1</td>\n",
       "      <td>1</td>\n",
       "      <td>2</td>\n",
       "    </tr>\n",
       "    <tr>\n",
       "      <th>35</th>\n",
       "      <td>53</td>\n",
       "      <td>3</td>\n",
       "      <td>0</td>\n",
       "      <td>1</td>\n",
       "      <td>0</td>\n",
       "    </tr>\n",
       "  </tbody>\n",
       "</table>\n",
       "<p>36 rows × 5 columns</p>\n",
       "</div>"
      ],
      "text/plain": [
       "    aclu  long_LR_num_peaks  long_RL_num_peaks  short_LR_num_peaks  short_RL_num_peaks\n",
       "0      2                  3                  0                   1                   0\n",
       "1      4                  0                  1                   0                   1\n",
       "2      5                  2                  1                   1                   2\n",
       "3      7                  0                  1                   0                   1\n",
       "4      9                  1                  2                   1                   5\n",
       "5     10                  1                  3                   1                   3\n",
       "..   ...                ...                ...                 ...                 ...\n",
       "30    45                  1                  1                   1                   1\n",
       "31    46                  0                  1                   0                   1\n",
       "32    49                  1                  0                   1                   0\n",
       "33    50                  1                  1                   1                   1\n",
       "34    52                  2                  1                   1                   2\n",
       "35    53                  3                  0                   1                   0\n",
       "\n",
       "[36 rows x 5 columns]"
      ]
     },
     "execution_count": 22,
     "metadata": {},
     "output_type": "execute_result"
    }
   ],
   "source": [
    "decoder_aclu_num_peaks_df: pd.DataFrame = track_templates.get_decoders_aclu_num_peaks_df()\n",
    "decoder_aclu_num_peaks_df"
   ]
  },
  {
   "cell_type": "markdown",
   "id": "604b90dc",
   "metadata": {},
   "source": [
    "## 2024-02-08 - Filter to find only the clear remap examples"
   ]
  },
  {
   "cell_type": "code",
   "execution_count": null,
   "id": "4aa2a67a",
   "metadata": {},
   "outputs": [],
   "source": [
    "from pyphoplacecellanalysis.SpecificResults.PendingNotebookCode import TrialByTrialActivity\n",
    "from pyphocorehelpers.indexing_helpers import dict_to_full_array\n",
    "\n",
    "any_decoder_neuron_IDs = deepcopy(track_templates.any_decoder_neuron_IDs)\n",
    "any_decoder_neuron_IDs"
   ]
  },
  {
   "cell_type": "markdown",
   "id": "eed0cf56",
   "metadata": {},
   "source": [
    "### Get num peaks exclusion:"
   ]
  },
  {
   "cell_type": "code",
   "execution_count": null,
   "id": "30c849dd",
   "metadata": {},
   "outputs": [],
   "source": [
    "neuron_ids_dict = {k:v.neuron_ids for k,v in directional_active_lap_pf_results_dicts.items()}\n",
    "# neuron_ids_dict"
   ]
  },
  {
   "cell_type": "markdown",
   "id": "0ec42a8d",
   "metadata": {},
   "source": [
    "### Get stability for each cell"
   ]
  },
  {
   "cell_type": "markdown",
   "id": "6f5ec2d7",
   "metadata": {},
   "source": [
    "#### 2024-02-08 - 3pm - new stability dataframe to look at stability of each cell across decoders\n"
   ]
  },
  {
   "cell_type": "code",
   "execution_count": 23,
   "id": "57869e27",
   "metadata": {
    "notebookRunGroups": {
     "groupValue": "1"
    }
   },
   "outputs": [
    {
     "data": {
      "text/html": [
       "<div>\n",
       "<style scoped>\n",
       "    .dataframe tbody tr th:only-of-type {\n",
       "        vertical-align: middle;\n",
       "    }\n",
       "\n",
       "    .dataframe tbody tr th {\n",
       "        vertical-align: top;\n",
       "    }\n",
       "\n",
       "    .dataframe thead th {\n",
       "        text-align: right;\n",
       "    }\n",
       "</style>\n",
       "<table border=\"1\" class=\"dataframe\">\n",
       "  <thead>\n",
       "    <tr style=\"text-align: right;\">\n",
       "      <th></th>\n",
       "      <th>aclu</th>\n",
       "      <th>long_LR</th>\n",
       "      <th>long_RL</th>\n",
       "      <th>short_LR</th>\n",
       "      <th>short_RL</th>\n",
       "    </tr>\n",
       "  </thead>\n",
       "  <tbody>\n",
       "    <tr>\n",
       "      <th>0</th>\n",
       "      <td>2</td>\n",
       "      <td>0.000000</td>\n",
       "      <td>0.279605</td>\n",
       "      <td>0.000000</td>\n",
       "      <td>0.000000</td>\n",
       "    </tr>\n",
       "    <tr>\n",
       "      <th>1</th>\n",
       "      <td>4</td>\n",
       "      <td>0.000000</td>\n",
       "      <td>0.598901</td>\n",
       "      <td>0.000000</td>\n",
       "      <td>0.485911</td>\n",
       "    </tr>\n",
       "    <tr>\n",
       "      <th>2</th>\n",
       "      <td>5</td>\n",
       "      <td>0.000000</td>\n",
       "      <td>0.566792</td>\n",
       "      <td>0.902304</td>\n",
       "      <td>0.521760</td>\n",
       "    </tr>\n",
       "    <tr>\n",
       "      <th>3</th>\n",
       "      <td>7</td>\n",
       "      <td>0.205447</td>\n",
       "      <td>0.935282</td>\n",
       "      <td>0.000000</td>\n",
       "      <td>0.895065</td>\n",
       "    </tr>\n",
       "    <tr>\n",
       "      <th>4</th>\n",
       "      <td>9</td>\n",
       "      <td>0.740751</td>\n",
       "      <td>0.494816</td>\n",
       "      <td>0.701235</td>\n",
       "      <td>0.000000</td>\n",
       "    </tr>\n",
       "    <tr>\n",
       "      <th>5</th>\n",
       "      <td>10</td>\n",
       "      <td>0.806306</td>\n",
       "      <td>0.225418</td>\n",
       "      <td>0.866207</td>\n",
       "      <td>0.045852</td>\n",
       "    </tr>\n",
       "    <tr>\n",
       "      <th>...</th>\n",
       "      <td>...</td>\n",
       "      <td>...</td>\n",
       "      <td>...</td>\n",
       "      <td>...</td>\n",
       "      <td>...</td>\n",
       "    </tr>\n",
       "    <tr>\n",
       "      <th>30</th>\n",
       "      <td>45</td>\n",
       "      <td>0.000000</td>\n",
       "      <td>0.884396</td>\n",
       "      <td>0.000000</td>\n",
       "      <td>0.947213</td>\n",
       "    </tr>\n",
       "    <tr>\n",
       "      <th>31</th>\n",
       "      <td>46</td>\n",
       "      <td>0.000000</td>\n",
       "      <td>0.941674</td>\n",
       "      <td>0.521760</td>\n",
       "      <td>0.984190</td>\n",
       "    </tr>\n",
       "    <tr>\n",
       "      <th>32</th>\n",
       "      <td>49</td>\n",
       "      <td>0.918616</td>\n",
       "      <td>0.000000</td>\n",
       "      <td>0.680166</td>\n",
       "      <td>0.457675</td>\n",
       "    </tr>\n",
       "    <tr>\n",
       "      <th>33</th>\n",
       "      <td>50</td>\n",
       "      <td>0.930089</td>\n",
       "      <td>0.000000</td>\n",
       "      <td>0.890975</td>\n",
       "      <td>0.000000</td>\n",
       "    </tr>\n",
       "    <tr>\n",
       "      <th>34</th>\n",
       "      <td>52</td>\n",
       "      <td>0.674303</td>\n",
       "      <td>0.000000</td>\n",
       "      <td>0.951324</td>\n",
       "      <td>0.000000</td>\n",
       "    </tr>\n",
       "    <tr>\n",
       "      <th>35</th>\n",
       "      <td>53</td>\n",
       "      <td>0.000000</td>\n",
       "      <td>0.000000</td>\n",
       "      <td>0.910125</td>\n",
       "      <td>0.000000</td>\n",
       "    </tr>\n",
       "  </tbody>\n",
       "</table>\n",
       "<p>36 rows × 5 columns</p>\n",
       "</div>"
      ],
      "text/plain": [
       "    aclu   long_LR   long_RL  short_LR  short_RL\n",
       "0      2  0.000000  0.279605  0.000000  0.000000\n",
       "1      4  0.000000  0.598901  0.000000  0.485911\n",
       "2      5  0.000000  0.566792  0.902304  0.521760\n",
       "3      7  0.205447  0.935282  0.000000  0.895065\n",
       "4      9  0.740751  0.494816  0.701235  0.000000\n",
       "5     10  0.806306  0.225418  0.866207  0.045852\n",
       "..   ...       ...       ...       ...       ...\n",
       "30    45  0.000000  0.884396  0.000000  0.947213\n",
       "31    46  0.000000  0.941674  0.521760  0.984190\n",
       "32    49  0.918616  0.000000  0.680166  0.457675\n",
       "33    50  0.930089  0.000000  0.890975  0.000000\n",
       "34    52  0.674303  0.000000  0.951324  0.000000\n",
       "35    53  0.000000  0.000000  0.910125  0.000000\n",
       "\n",
       "[36 rows x 5 columns]"
      ]
     },
     "execution_count": 23,
     "metadata": {},
     "output_type": "execute_result"
    }
   ],
   "source": [
    "# for k,v in directional_active_lap_pf_results_dicts.items():\n",
    "# stability_dict = {k:v.aclu_to_stability_score_dict for k,v in directional_active_lap_pf_results_dicts.items()}\n",
    "# stability_dict = {k:dict_to_full_array(v.aclu_to_stability_score_dict, full_indicies=any_decoder_neuron_IDs, fill_value=0.0) for k,v in directional_active_lap_pf_results_dicts.items()}\n",
    "# stability_dict\n",
    "\n",
    "\n",
    "# list(stability_dict.values())\n",
    "\n",
    "stability_dict = {k:list(v.aclu_to_stability_score_dict.values()) for k,v in directional_active_lap_pf_results_dicts.items()}\n",
    "# stability_dict\n",
    "## all the same size hopefully!\n",
    "# [len(v) for v in list(stability_dict.values())]\n",
    "\n",
    "stability_df: pd.DataFrame = pd.DataFrame({'aclu': any_decoder_neuron_IDs, **stability_dict})\n",
    "# stability_df.rename(dict(zip([], [])))\n",
    "stability_df"
   ]
  },
  {
   "cell_type": "markdown",
   "id": "1a3308ff",
   "metadata": {},
   "source": [
    "### Ensure that we're only getting the location of the maximum peak."
   ]
  },
  {
   "cell_type": "code",
   "execution_count": null,
   "id": "c32d1dcd",
   "metadata": {
    "tags": [
     "df_method_bad",
     "bad"
    ]
   },
   "outputs": [],
   "source": [
    "decoder_aclu_MAX_peak_location_df_merged = decoder_aclu_peak_location_df_merged[decoder_aclu_peak_location_df_merged['subpeak_idx'] == 0]\n",
    "decoder_aclu_MAX_peak_location_df_merged\n",
    "# decoder_aclu_MAX_peak_location_df_merged.columns # ['aclu', 'subpeak_idx', 'long_LR_peak', 'long_RL_peak', 'short_LR_peak', 'short_RL_peak', 'long_LR_peak_height', 'long_RL_peak_height', 'short_LR_peak_height', 'short_RL_peak_height', 'LR_peak_diff', 'RL_peak_diff']\n",
    "\n",
    "common_drop_column_names = ['subpeak_idx', 'LR_peak_diff', 'RL_peak_diff']\n",
    "RL_column_names = [col for col in list(decoder_aclu_MAX_peak_location_df_merged.columns) if (str(col).find('RL_') != -1)] # ['long_RL_peak', 'short_RL_peak', 'long_RL_peak_height', 'short_RL_peak_height', 'RL_peak_diff']\n",
    "LR_column_names = [col for col in list(decoder_aclu_MAX_peak_location_df_merged.columns) if (str(col).find('LR_') != -1)] # ['long_LR_peak', 'short_LR_peak', 'long_LR_peak_height', 'short_LR_peak_height', 'LR_peak_diff']\n",
    "\n",
    "LR_only_decoder_aclu_MAX_peak_location_df_merged = decoder_aclu_MAX_peak_location_df_merged.drop(columns=(RL_column_names+common_drop_column_names), inplace=False).dropna(axis='index')\n",
    "LR_only_decoder_aclu_MAX_peak_location_df_merged\n",
    "\n",
    "\n",
    "## OUTPUTS: decoder_aclu_MAX_peak_location_df_merged, LR_only_decoder_aclu_MAX_peak_location_df_merged, "
   ]
  },
  {
   "cell_type": "code",
   "execution_count": null,
   "id": "57d2bef5",
   "metadata": {},
   "outputs": [],
   "source": [
    "# decoder_aclu_peak_location_df_merged\n",
    "\n",
    "valid_aclus = deepcopy(decoder_aclu_peak_location_df_merged.aclu.unique())\n",
    "peaks_df_subset: pd.DataFrame = decoder_aclu_peak_location_df_merged.copy()\n",
    "\n",
    "# active_IDX = 1\n",
    "\n",
    "import ipywidgets as widgets\n",
    "from IPython.display import display\n",
    "\n",
    "def integer_slider(update_func):\n",
    "    \"\"\" Captures: valid_aclus\n",
    "    \"\"\"\n",
    "    slider = widgets.IntSlider(description='cell_IDX:', min=0, max=len(valid_aclus)-1, value=0)\n",
    "    def on_slider_change(change):\n",
    "        if change['type'] == 'change' and change['name'] == 'value':\n",
    "            # Call the user-provided update function with the current slider index\n",
    "            update_func(change['new'])\n",
    "    slider.observe(on_slider_change)\n",
    "    display(slider)\n",
    "\n",
    "\n",
    "\n",
    "\n",
    "def update_function(index):\n",
    "    \"\"\" Define an update function that will be called with the current slider index \n",
    "    Captures decoder_aclu_peak_location_df_merged, valid_aclus\n",
    "    \"\"\"\n",
    "    global peaks_df_subset\n",
    "    print(f'Slider index: {index}')\n",
    "    active_aclu = int(valid_aclus[int(index)])\n",
    "    peaks_df_subset = decoder_aclu_peak_location_df_merged[decoder_aclu_peak_location_df_merged.aclu == active_aclu].copy()\n",
    "    display(peaks_df_subset)\n",
    "\n",
    "\n",
    "# timebinned_neuron_info = long_results_obj.timebinned_neuron_info\n",
    "# active_fig_obj, update_function = DiagnosticDistanceMetricFigure.build_interactive_diagnostic_distance_metric_figure(long_results_obj, timebinned_neuron_info, result)\n",
    "\n",
    "\n",
    "# Call the integer_slider function with the update function\n",
    "integer_slider(update_function)\n",
    "\n"
   ]
  },
  {
   "cell_type": "code",
   "execution_count": null,
   "id": "539eb198",
   "metadata": {},
   "outputs": [],
   "source": [
    "peaks_df_subset[['long_LR_peak', 'short_LR_peak']]\n",
    "peaks_df_subset[['long_LR_peak_height', 'short_LR_peak_height']]\n",
    "peaks_df_subset['LR_peak_diff']\n",
    "\n",
    "\n",
    "## #TODO 2024-02-16 06:50: - [ ] ERROR discovered in `decoder_aclu_peak_location_df_merged` - the columns 'LR_peak_diff', 'RL_peak_diff' are incorrect as they aren't comparing the maximum peak (supposed to be at `subpeak_idx == 0`, but better given by `height == 1.0`) of long decoder to maximum peak of short. The comparison logic is wrong.\n"
   ]
  },
  {
   "cell_type": "code",
   "execution_count": null,
   "id": "663f287c",
   "metadata": {
    "tags": [
     "good",
     "active",
     "proper"
    ]
   },
   "outputs": [],
   "source": [
    "from pyphocorehelpers.indexing_helpers import NumpyHelpers\n",
    "from neuropy.utils.indexing_helpers import intersection_of_arrays, union_of_arrays\n",
    "\n",
    "def unwrap_single_item(lst):\n",
    "    return lst[0] if len(lst) == 1 else None\n",
    "\n",
    "# decoder_aclu_peak_maps_dict = {a_name:deepcopy(dict(zip(a_decoder.neuron_IDs, a_decoder.peak_locations))) for a_name, a_decoder in track_templates.get_decoders_dict().items()}\n",
    "decoder_aclu_peak_maps_dict = {a_name:deepcopy(dict(zip(a_decoder.neuron_IDs, a_decoder.get_tuning_curve_peak_positions(peak_mode='peaks')))) for a_name, a_decoder in track_templates.get_decoders_dict().items()}\n",
    "\n",
    "## Split into LR/RL groups to get proper peak differences:\n",
    "# ['long_LR', 'long_RL', 'short_LR', 'short_RL']\n",
    "LR_decoder_names = ['long_LR', 'short_LR']\n",
    "RL_decoder_names = ['long_RL', 'short_RL']\n",
    "\n",
    "## Only the maximums:\n",
    "decoder_aclu_MAX_peak_maps_dict = {a_name:{k:unwrap_single_item(v) for k, v in deepcopy(dict(zip(a_decoder.neuron_IDs, a_decoder.get_tuning_curve_peak_positions(peak_mode='peaks', height=1)))).items()} for a_name, a_decoder in track_templates.get_decoders_dict().items()}\n",
    "\n",
    "LR_only_decoder_aclu_MAX_peak_maps_df: pd.DataFrame = pd.DataFrame({k:v for k,v in decoder_aclu_MAX_peak_maps_dict.items() if k in LR_decoder_names})\n",
    "RL_only_decoder_aclu_MAX_peak_maps_df: pd.DataFrame = pd.DataFrame({k:v for k,v in decoder_aclu_MAX_peak_maps_dict.items() if k in RL_decoder_names})\n",
    "\n",
    "## Drop row if either long/short is missing a value:\n",
    "LR_only_decoder_aclu_MAX_peak_maps_df = LR_only_decoder_aclu_MAX_peak_maps_df.dropna(axis=0, how='any')\n",
    "RL_only_decoder_aclu_MAX_peak_maps_df = RL_only_decoder_aclu_MAX_peak_maps_df.dropna(axis=0, how='any')\n",
    "\n",
    "## Compute the difference between the Long/Short peaks:\n",
    "LR_only_decoder_aclu_MAX_peak_maps_df['peak_diff'] = LR_only_decoder_aclu_MAX_peak_maps_df.diff(axis='columns').to_numpy()[:, -1]\n",
    "RL_only_decoder_aclu_MAX_peak_maps_df['peak_diff'] = RL_only_decoder_aclu_MAX_peak_maps_df.diff(axis='columns').to_numpy()[:, -1]\n",
    "\n",
    "LR_only_decoder_aclu_MAX_peak_maps_df\n",
    "RL_only_decoder_aclu_MAX_peak_maps_df\n",
    "\n",
    "\n",
    "long_peak_x = LR_only_decoder_aclu_MAX_peak_maps_df['long_LR'].to_numpy()\n",
    "short_peak_x = LR_only_decoder_aclu_MAX_peak_maps_df['short_LR'].to_numpy()\n",
    "peak_x_diff = LR_only_decoder_aclu_MAX_peak_maps_df['peak_diff'].to_numpy()\n",
    "# decoder_aclu_peak_maps_dict\n",
    "\n",
    "\n",
    "## OUTPUTS: LR_only_decoder_aclu_MAX_peak_maps_df, long_peak_x, long_peak_x, peak_x_diff\n",
    "## OUTPUTS: RL_only_decoder_aclu_MAX_peak_maps_df, long_peak_x, long_peak_x, peak_x_diff\n",
    "\n"
   ]
  },
  {
   "cell_type": "code",
   "execution_count": null,
   "id": "fc77c168",
   "metadata": {},
   "outputs": [],
   "source": [
    "# maximal_peak_only_decoder_aclu_peak_location_df_merged = deepcopy(decoder_aclu_peak_location_df_merged)[decoder_aclu_peak_location_df_merged['long_LR_peak_height'] == 1.0]\n",
    "\n",
    "LR_height_column_names = ['long_LR_peak_height', 'short_LR_peak_height']\n",
    "\n",
    "# [decoder_aclu_peak_location_df_merged[a_name] == 1.0 for a_name in LR_height_column_names]\n",
    "\n",
    "LR_max_peak_dfs = [deepcopy(decoder_aclu_peak_location_df_merged)[decoder_aclu_peak_location_df_merged[a_name] == 1.0].drop(columns=['subpeak_idx', 'series_idx', 'LR_peak_diff', 'RL_peak_diff', a_name]) for a_name in LR_height_column_names]\n",
    "\n",
    "aclus_with_LR_peaks = intersection_of_arrays(*[a_df.aclu.unique() for a_df in LR_max_peak_dfs])\n",
    "aclus_with_LR_peaks\n",
    "\n",
    "\n",
    "## Align them now:\n",
    "LR_max_peak_dfs = [a_df[a_df.aclu.isin(aclus_with_LR_peaks)] for a_df in LR_max_peak_dfs]\n",
    "LR_max_peak_dfs\n",
    "\n",
    "# aclus_with_LR_peaks = aclu"
   ]
  },
  {
   "cell_type": "code",
   "execution_count": null,
   "id": "096dda8c",
   "metadata": {},
   "outputs": [],
   "source": [
    "maximal_peak_only_decoder_aclu_peak_location_df_merged = deepcopy(decoder_aclu_peak_location_df_merged)[decoder_aclu_peak_location_df_merged[LR_height_column_names] == 1.0]\n",
    "maximal_peak_only_decoder_aclu_peak_location_df_merged"
   ]
  },
  {
   "cell_type": "code",
   "execution_count": null,
   "id": "26bbdbd1",
   "metadata": {},
   "outputs": [],
   "source": [
    "decoder_aclu_peak_location_df_merged[['LR_peak_diff', 'RL_peak_diff']].notna()"
   ]
  },
  {
   "cell_type": "markdown",
   "id": "fedf0e5f",
   "metadata": {},
   "source": [
    "# 2024-02-08 - Plot heatmap"
   ]
  },
  {
   "cell_type": "code",
   "execution_count": null,
   "id": "5f5de5c2",
   "metadata": {},
   "outputs": [],
   "source": [
    "from pyphoplacecellanalysis.SpecificResults.PendingNotebookCode import plot_single_heatmap_set_with_points\n",
    "\n",
    "# active_pf_dt: PfND_TimeDependent\n",
    "\n",
    "decoders_tuning_curves_dict = track_templates.decoder_normalized_tuning_curves_dict_dict.copy()\n",
    "\n",
    "extra_decoder_values_dict = {'tuning_curves': decoders_tuning_curves_dict, 'points': decoder_aclu_peak_location_df_merged}\n",
    "\n",
    "# decoders_tuning_curves_dict\n",
    "xbin_centers = deepcopy(active_pf_dt.xbin_centers)\n",
    "xbin = deepcopy(active_pf_dt.xbin)\n",
    "fig, ax_dict = plot_single_heatmap_set_with_points(directional_active_lap_pf_results_dicts, xbin_centers, xbin, extra_decoder_values_dict=extra_decoder_values_dict, aclu=4, \n",
    "                                                   decoders_tuning_curves_dict=decoders_tuning_curves_dict, decoder_aclu_peak_location_df_merged=decoder_aclu_peak_location_df_merged,\n",
    "                                                    active_context=curr_active_pipeline.build_display_context_for_session('single_heatmap_set_with_points'))\n",
    "fig.show()"
   ]
  },
  {
   "cell_type": "code",
   "execution_count": null,
   "id": "1a399108",
   "metadata": {},
   "outputs": [],
   "source": [
    "## Plot a couple\n",
    "# long_pf_aclus, short_pf_aclus\n",
    "\n",
    "# plot_aclus = [4,  5,  8,  9]\n",
    "plot_aclus = [11, 18, 68]\n",
    "# plot_aclus = [68]\n",
    "\n",
    "for test_aclu in plot_aclus:\n",
    "\tfig, ax_dict = plot_single_heatmap_set_with_points(directional_active_lap_pf_results_dicts, xbin_centers, xbin, extra_decoder_values_dict=extra_decoder_values_dict, aclu=test_aclu, \n",
    "                                                   decoders_tuning_curves_dict=decoders_tuning_curves_dict, decoder_aclu_peak_location_df_merged=decoder_aclu_peak_location_df_merged,\n",
    "                                                    active_context=curr_active_pipeline.build_display_context_for_session('single_heatmap_set_with_points'))\n",
    "\t\n",
    "\tfig.show()"
   ]
  },
  {
   "cell_type": "code",
   "execution_count": null,
   "id": "a647866d",
   "metadata": {},
   "outputs": [],
   "source": [
    "decoder_aclu_peak_location_df_merged.aclu.unique()"
   ]
  },
  {
   "cell_type": "code",
   "execution_count": null,
   "id": "40f23ea2",
   "metadata": {},
   "outputs": [],
   "source": [
    "plt.close('all')"
   ]
  },
  {
   "cell_type": "code",
   "execution_count": null,
   "id": "6b7b9a89",
   "metadata": {},
   "outputs": [],
   "source": [
    "# NOTE: these layout changes don't seem to take effect until the window containing the figure is resized.\n",
    "# fig.set_layout_engine('compressed') # TAKEWAY: Use 'compressed' instead of 'constrained'\n",
    "fig.set_layout_engine('none') # disabling layout engine. Strangely still allows window to resize and the plots scale, so I'm not sure what the layout engine is doing.\n"
   ]
  },
  {
   "cell_type": "code",
   "execution_count": null,
   "id": "22f1adc4",
   "metadata": {},
   "outputs": [],
   "source": [
    "list(directional_active_lap_pf_results_dicts.keys()) # ['maze1_odd', 'maze1_even', 'maze2_odd', 'maze2_even']\n",
    "\n"
   ]
  },
  {
   "cell_type": "code",
   "execution_count": null,
   "id": "d4bbc9de",
   "metadata": {},
   "outputs": [],
   "source": [
    "track_templates.long_LR_decoder.pf.plot_ratemaps_1D()"
   ]
  },
  {
   "cell_type": "markdown",
   "id": "0ef13541",
   "metadata": {},
   "source": [
    "# 2024-02-02 - napari_plot_directional_trial_by_trial_activity_viz Trial-by-trial Correlation Matrix C"
   ]
  },
  {
   "cell_type": "markdown",
   "id": "1ddd735e",
   "metadata": {},
   "source": [
    "### 🎨 Show Trial-by-trial Correlation Matrix C in `napari`"
   ]
  },
  {
   "cell_type": "code",
   "execution_count": null,
   "id": "ad72df59",
   "metadata": {
    "notebookRunGroups": {
     "groupValue": ""
    }
   },
   "outputs": [],
   "source": [
    "import napari\n",
    "# import afinder\n",
    "from pyphoplacecellanalysis.GUI.Napari.napari_helpers import napari_from_layers_dict\n",
    "from pyphoplacecellanalysis.SpecificResults.PendingNotebookCode import napari_trial_by_trial_activity_viz\n",
    "from pyphoplacecellanalysis.SpecificResults.PendingNotebookCode import napari_plot_directional_trial_by_trial_activity_viz\n",
    "from pyphoplacecellanalysis.SpecificResults.PendingNotebookCode import napari_export_image_sequence\n",
    "\n",
    "## Directional\n",
    "directional_viewer, directional_image_layer_dict, custom_direction_split_layers_dict = napari_plot_directional_trial_by_trial_activity_viz(directional_active_lap_pf_results_dicts, include_trial_by_trial_correlation_matrix=True)"
   ]
  },
  {
   "cell_type": "code",
   "execution_count": null,
   "id": "f9934d4a",
   "metadata": {},
   "outputs": [],
   "source": [
    "\n",
    "\n",
    "## Global:\n",
    "viewer, image_layer_dict = napari_trial_by_trial_activity_viz(z_scored_tuning_map_matrix, C_trial_by_trial_correlation_matrix, title='Trial-by-trial Correlation Matrix C', axis_labels=('aclu', 'lap', 'xbin')) # GLOBAL"
   ]
  },
  {
   "cell_type": "markdown",
   "id": "fd6f61fa",
   "metadata": {},
   "source": [
    "# Napari Plotting Long/Short Track"
   ]
  },
  {
   "cell_type": "code",
   "execution_count": null,
   "id": "80146cd1",
   "metadata": {},
   "outputs": [],
   "source": [
    "from pyphoplacecellanalysis.Pho2D.track_shape_drawing import test_LinearTrackDimensions_2D_pyqtgraph, LinearTrackDimensions, LinearTrackInstance\n",
    "from pyphoplacecellanalysis.Pho2D.track_shape_drawing import LinearTrackDimensions, LinearTrackDimensions3D\n",
    "\n",
    "long_track_dims = LinearTrackDimensions(track_length=170.0)\n",
    "short_track_dims = LinearTrackDimensions(track_length=100.0)"
   ]
  },
  {
   "cell_type": "code",
   "execution_count": null,
   "id": "a001a741",
   "metadata": {},
   "outputs": [],
   "source": [
    "long_LR_pf1D.config.grid_bin_bounds"
   ]
  },
  {
   "cell_type": "code",
   "execution_count": null,
   "id": "4f26a582",
   "metadata": {},
   "outputs": [],
   "source": [
    "long_pf2D.config.grid_bin_bounds"
   ]
  },
  {
   "cell_type": "code",
   "execution_count": null,
   "id": "7d2d3065",
   "metadata": {},
   "outputs": [],
   "source": [
    "long_LR_pf1D.position.has_linear_pos\n",
    "# long_LR_pf1D.position.compute_linearized_position()"
   ]
  },
  {
   "cell_type": "code",
   "execution_count": null,
   "id": "5e63a7e5",
   "metadata": {},
   "outputs": [],
   "source": [
    "## Get grid_bin_bounds:\n",
    "long_grid_bin_bounds = deepcopy(long_pf2D.config.grid_bin_bounds)\n",
    "short_grid_bin_bounds = deepcopy(short_pf2D.config.grid_bin_bounds)\n",
    "\n",
    "long_grid_bin_bounds\n",
    "short_grid_bin_bounds\n",
    "linear_track_instance = LinearTrackInstance.init_from_grid_bin_bounds(grid_bin_bounds=long_grid_bin_bounds, debug_print=True)\n",
    "linear_track_instance\n",
    "\n",
    "# a_track_dims, ideal_maze_pdata = LinearTrackDimensions.init_from_grid_bin_bounds(grid_bin_bounds, return_geoemtry=True)\n",
    "linear_track_instance"
   ]
  },
  {
   "cell_type": "markdown",
   "id": "40b4ec86",
   "metadata": {},
   "source": [
    "# 2023-09-07 - Track Graphics Testing"
   ]
  },
  {
   "cell_type": "code",
   "execution_count": null,
   "id": "07993325",
   "metadata": {},
   "outputs": [],
   "source": [
    "from neuropy.analyses.placefields import compute_grid_bin_bounds\n",
    "from pyphocorehelpers.geometry_helpers import map_value\n",
    "\n",
    "pos_df = deepcopy(global_session.position).to_dataframe()\n",
    "# xlinear = deepcopy(global_session.position.linear_pos_obj.x)\n",
    "xlinear = deepcopy(global_session.position.to_dataframe()['lin_pos'].to_numpy())\n",
    "# xlinear = -1.0 * xlinear # flip over the y-axis first\n",
    "lin_pos_bounds = compute_grid_bin_bounds(xlinear)[0]\n",
    "x_bounds = compute_grid_bin_bounds(pos_df['x'].to_numpy())[0]\n",
    "print(f'lin_pos_bounds: {lin_pos_bounds}, x_bounds: {x_bounds}')\n",
    "xlinear = map_value(xlinear, lin_pos_bounds, x_bounds) # map xlinear from its current bounds range to the xbounds range\n",
    "\n",
    "## Confirmed they match: lin_pos_bounds: (20.53900014070859, 260.280278480539), x_bounds: (20.53900014070859, 260.280278480539)"
   ]
  },
  {
   "cell_type": "code",
   "execution_count": null,
   "id": "e26c59b7",
   "metadata": {},
   "outputs": [],
   "source": [
    "app, w, cw, (ax0, ax1), (long_track_dims, long_rect_items, long_rects), (short_track_dims, short_rect_items, short_rects) = test_LinearTrackDimensions_2D_pyqtgraph()"
   ]
  },
  {
   "cell_type": "code",
   "execution_count": null,
   "id": "06f9c981",
   "metadata": {},
   "outputs": [],
   "source": [
    "## Let's see it\n",
    "a_p_x_given_n"
   ]
  },
  {
   "cell_type": "code",
   "execution_count": null,
   "id": "c596521e",
   "metadata": {},
   "outputs": [],
   "source": []
  },
  {
   "cell_type": "code",
   "execution_count": null,
   "id": "360b4a3f",
   "metadata": {},
   "outputs": [],
   "source": []
  },
  {
   "cell_type": "markdown",
   "id": "40b53254",
   "metadata": {},
   "source": [
    "## 🔝🖼️🎨 2024-02-16 - NOW - Working Track Remapping Diagram Figure!!"
   ]
  },
  {
   "cell_type": "code",
   "execution_count": null,
   "id": "1fb92e12",
   "metadata": {},
   "outputs": [],
   "source": [
    "from pyphoplacecellanalysis.SpecificResults.PendingNotebookCode import _plot_track_remapping_diagram\n",
    "\n",
    "fig_LR, ax_LR, _outputs_tuple = _plot_track_remapping_diagram(LR_only_decoder_aclu_MAX_peak_maps_df, grid_bin_bounds=long_pf2D.config.grid_bin_bounds, long_column_name='long_LR', short_column_name='short_LR')"
   ]
  },
  {
   "cell_type": "code",
   "execution_count": null,
   "id": "3c426a9e",
   "metadata": {},
   "outputs": [],
   "source": [
    "fig_RL, ax_RL, _outputs_tuple = _plot_track_remapping_diagram(RL_only_decoder_aclu_MAX_peak_maps_df, grid_bin_bounds=long_pf2D.config.grid_bin_bounds, long_column_name='long_RL', short_column_name='short_RL')"
   ]
  },
  {
   "cell_type": "code",
   "execution_count": null,
   "id": "cfef4700",
   "metadata": {},
   "outputs": [],
   "source": []
  },
  {
   "cell_type": "code",
   "execution_count": null,
   "id": "2b343987",
   "metadata": {},
   "outputs": [],
   "source": []
  },
  {
   "cell_type": "code",
   "execution_count": null,
   "id": "17f75d76",
   "metadata": {},
   "outputs": [],
   "source": [
    "\n",
    "fig, ax1, ax2 = test_LinearTrackDimensions_2D_Matplotlib()\n"
   ]
  },
  {
   "cell_type": "code",
   "execution_count": null,
   "id": "5f981611",
   "metadata": {},
   "outputs": [],
   "source": [
    "from pyphoplacecellanalysis.Pho2D.track_shape_drawing import add_vertical_track_bounds_lines\n",
    "grid_bin_bounds = deepcopy(long_pf2D.config.grid_bin_bounds)\n",
    "long_track_line_collection, short_track_line_collection = add_vertical_track_bounds_lines(grid_bin_bounds=grid_bin_bounds, ax=ax1)\n"
   ]
  },
  {
   "cell_type": "code",
   "execution_count": null,
   "id": "40aeb712",
   "metadata": {},
   "outputs": [],
   "source": [
    "## Napari Shapes Layer Test:\n",
    "from pyphoplacecellanalysis.Pho2D.track_shape_drawing import add_napari_track_shapes_layer\n",
    "\n",
    "# add the image\n",
    "# viewer = napari.view_image(data.camera(), name='photographer')\n",
    "\n",
    "test_shapes_viewer = napari.Viewer() # name='Test Shapes Viewer'\n",
    "# add the tracks\n",
    "long_rectangles_poly_shapes_layer, short_rectangles_poly_shapes_layer = add_napari_track_shapes_layer(test_shapes_viewer, long_rect_items, short_rect_items)"
   ]
  },
  {
   "cell_type": "code",
   "execution_count": null,
   "id": "df06a3e6",
   "metadata": {},
   "outputs": [],
   "source": [
    "extract_layer_info(long_rectangles_poly_shapes_layer)\n",
    "extract_layer_info(short_rectangles_poly_shapes_layer)"
   ]
  },
  {
   "cell_type": "code",
   "execution_count": null,
   "id": "8948d536",
   "metadata": {},
   "outputs": [],
   "source": [
    "# long_rectangles_poly_shapes_layer.bounding_box\n",
    "# long_rectangles_poly_shapes_layer.interaction_box\n",
    "long_rectangles_poly_shapes_layer.corner_pixels # np.array([[ 44, 124], [376, 161]])\n",
    "# long_rectangles_poly_shapes_layer.frame\n",
    "\n",
    "\n",
    "# long_rectangles_poly_shapes_layer.rotate = 90\n",
    "# data_to_world, world_to_data"
   ]
  },
  {
   "cell_type": "code",
   "execution_count": null,
   "id": "67d1eadc",
   "metadata": {},
   "outputs": [],
   "source": [
    "short_rectangles_poly_shapes_layer.rotate = 90"
   ]
  },
  {
   "cell_type": "code",
   "execution_count": null,
   "id": "af347488",
   "metadata": {},
   "outputs": [],
   "source": [
    "## #TODO 2024-02-02 22:31: - [ ] These need to be update for global support\n",
    "from pyphoplacecellanalysis.SpecificResults.PendingNotebookCode import napari_add_aclu_slider\n",
    "\n",
    "def build_filename_from_viewer(viewer, desired_save_parent_path: Path, slider_axis_IDX: int = 0) -> Path:\n",
    "    \"\"\"\n",
    "    Captures: curr_active_pipeline, neuron_ids, global_any_name\n",
    "    \n",
    "     Usage:\n",
    "        file_out_path = build_filename_from_viewer(viewer)\n",
    "        viewer.screenshot(path=file_out_path, canvas_only=True, flash=False)\n",
    "\n",
    "    \"\"\"\n",
    "    # desired_save_parent_path = Path('/home/halechr/Desktop/test_napari_out').resolve()\n",
    "\n",
    "    matrix_aclu_IDX: int = int(viewer.dims.current_step[slider_axis_IDX])\n",
    "    # find the aclu value for this index:\n",
    "    aclu: int = int(neuron_ids[matrix_aclu_IDX])\n",
    "    curr_context = curr_active_pipeline.build_display_context_for_filtered_session(global_any_name, 'napari_trial_by_trial_activity_viz', aclu=str(aclu))\n",
    "    curr_context_string: str = curr_context.get_description() #.get_description(suffix_items=[f'aclu-{aclu}'])\n",
    "    filename_string: str = f\"{curr_context_string}.png\"\n",
    "\n",
    "    file_out_path = desired_save_parent_path.joinpath(filename_string).resolve()\n",
    "    return file_out_path\n",
    "\n",
    "\n",
    "# desired_save_parent_path = Path('/home/halechr/Desktop/test_napari_out').resolve()\n",
    "desired_save_parent_path = Path(r'C:\\Users\\pho\\Desktop\\test_napari_out').resolve()\n",
    "_connected_on_update_slider_event = napari_add_aclu_slider(viewer=directional_viewer, neuron_ids=neuron_ids)\n",
    "imageseries_output_directory = napari_export_image_sequence(viewer=viewer, imageseries_output_directory=desired_save_parent_path, slider_axis_IDX=0, build_filename_from_viewer_callback_fn=build_filename_from_viewer)\n",
    "\n"
   ]
  },
  {
   "cell_type": "code",
   "execution_count": null,
   "id": "381b1c2c",
   "metadata": {},
   "outputs": [],
   "source": [
    "# directional_viewer.Config\n",
    "directional_viewer.schema()"
   ]
  },
  {
   "cell_type": "markdown",
   "id": "2ee6fcb1",
   "metadata": {},
   "source": [
    "# 2024-02-06 - Other Plotting"
   ]
  },
  {
   "cell_type": "code",
   "execution_count": null,
   "id": "5d5623a2",
   "metadata": {},
   "outputs": [],
   "source": [
    "#  Create a new `SpikeRaster2D` instance using `_display_spike_raster_pyqtplot_2D` and capture its outputs:\n",
    "\n",
    "curr_active_pipeline.prepare_for_display()\n",
    "# Create a new `SpikeRaster2D` instance using `_display_spike_raster_pyqtplot_2D` and capture its outputs:\n",
    "# active_2d_plot, active_3d_plot, spike_raster_window = curr_active_pipeline.plot._display_spike_rasters_pyqtplot_2D()\n",
    "\n",
    "_out_graphics_dict = curr_active_pipeline.display('_display_spike_rasters_pyqtplot_2D', 'maze_any') # 'maze_any'\n",
    "assert isinstance(_out_graphics_dict, dict)\n",
    "active_2d_plot, active_3d_plot, spike_raster_window = _out_graphics_dict['spike_raster_plt_2d'], _out_graphics_dict['spike_raster_plt_3d'], _out_graphics_dict['spike_raster_window']"
   ]
  },
  {
   "cell_type": "code",
   "execution_count": null,
   "id": "9a8eceb4",
   "metadata": {},
   "outputs": [],
   "source": [
    "LR_neuron_ids"
   ]
  },
  {
   "cell_type": "code",
   "execution_count": null,
   "id": "45cb72f7",
   "metadata": {},
   "outputs": [],
   "source": [
    "%matplotlib qt\n",
    "active_identifying_session_ctx = curr_active_pipeline.sess.get_context() # 'bapun_RatN_Day4_2019-10-15_11-30-06'\n",
    "\n",
    "# graphics_output_dict = curr_active_pipeline.display('_display_long_short_pf1D_comparison', active_identifying_session_ctx)\n"
   ]
  },
  {
   "cell_type": "code",
   "execution_count": null,
   "id": "e68b6235",
   "metadata": {},
   "outputs": [],
   "source": [
    "# long_LR_name, long_RL_name, short_LR_name, short_RL_name = track_templates.get_decoder_names()\n",
    "\n",
    "long_LR_name, short_LR_name, global_LR_name, long_RL_name, short_RL_name, global_RL_name, long_any_name, short_any_name, global_any_name = ['maze1_odd', 'maze2_odd', 'maze_odd', 'maze1_even', 'maze2_even', 'maze_even', 'maze1_any', 'maze2_any', 'maze_any']\n",
    "\n",
    "\n",
    "graphics_output_dict = curr_active_pipeline.display('_display_long_short_pf1D_comparison', active_identifying_session_ctx,\n",
    "                                                     include_includelist=[long_LR_name, short_LR_name, global_LR_name], active_context=active_identifying_session_ctx.overwriting_context(dir='LR'), included_any_context_neuron_ids=LR_shift_df.aclu.unique())\n",
    "\n",
    "\n",
    "# fig, axs, plot_data = graphics_output_dict['fig'], graphics_output_dict['axs'], graphics_output_dict['plot_data']"
   ]
  },
  {
   "cell_type": "code",
   "execution_count": null,
   "id": "51201e67",
   "metadata": {},
   "outputs": [],
   "source": [
    "from pyphoplacecellanalysis.GUI.PyQtPlot.Widgets.ContainerBased.TemplateDebugger import TemplateDebugger\n",
    "\n",
    "\n",
    "_out = TemplateDebugger.init_templates_debugger(track_templates) # , included_any_context_neuron_ids\n"
   ]
  },
  {
   "cell_type": "code",
   "execution_count": null,
   "id": "7feab852",
   "metadata": {},
   "outputs": [],
   "source": [
    "curr_active_pipeline.plot.display_function_items\n",
    "\n",
    "# '_display_directional_template_debugger'\n"
   ]
  },
  {
   "attachments": {
    "image.png": {
     "image/png": "[encoded data removed]"
    }
   },
   "cell_type": "markdown",
   "id": "ef3b67c4",
   "metadata": {},
   "source": [
    "# 🖼️🎨 Rasters Debugger (via `RankOrderRastersDebugger`)\n",
    "<!-- ![image.png|350](attachment:image.png) -->\n",
    "![image.png](attachment:image.png){ width=300; max-width: 300px; }\n",
    "<!-- <img src=\"path_to_your_image.png\" style=\"max-width: 300px;\" /> -->"
   ]
  },
  {
   "cell_type": "code",
   "execution_count": null,
   "id": "76b0f00b",
   "metadata": {},
   "outputs": [],
   "source": [
    "from pyphoplacecellanalysis.GUI.PyQtPlot.Widgets.ContainerBased.RankOrderRastersDebugger import RankOrderRastersDebugger\n",
    "\n",
    "long_epoch_name, short_epoch_name, global_epoch_name = curr_active_pipeline.find_LongShortGlobal_epoch_names()\n",
    "global_spikes_df = deepcopy(curr_active_pipeline.computation_results[global_epoch_name]['computed_data'].pf1D.spikes_df)"
   ]
  },
  {
   "cell_type": "code",
   "execution_count": null,
   "id": "23816aee",
   "metadata": {},
   "outputs": [],
   "source": [
    "global_laps = deepcopy(curr_active_pipeline.filtered_sessions[global_epoch_name].laps) # .trimmed_to_non_overlapping()\n",
    "global_laps_epochs_df = global_laps.to_dataframe()\n",
    "\n",
    "RL_active_epoch_selected_spikes_fragile_linear_neuron_IDX_dict = None\n",
    "LR_active_epoch_selected_spikes_fragile_linear_neuron_IDX_dict = None\n",
    "_out_laps_rasters: RankOrderRastersDebugger = RankOrderRastersDebugger.init_rank_order_debugger(global_spikes_df, global_laps_epochs_df, track_templates, rank_order_results, RL_active_epoch_selected_spikes_fragile_linear_neuron_IDX_dict, LR_active_epoch_selected_spikes_fragile_linear_neuron_IDX_dict)\n",
    "_out_laps_rasters"
   ]
  },
  {
   "cell_type": "code",
   "execution_count": null,
   "id": "abaa1a79",
   "metadata": {},
   "outputs": [],
   "source": [
    "# long_epoch_name, short_epoch_name, global_epoch_name = curr_active_pipeline.find_LongShortGlobal_epoch_names()\n",
    "# global_spikes_df = deepcopy(curr_active_pipeline.computation_results[global_epoch_name]['computed_data'].pf1D.spikes_df)\n",
    "# global_laps = deepcopy(curr_active_pipeline.filtered_sessions[global_epoch_name].laps) # .trimmed_to_non_overlapping()\n",
    "# global_laps_epochs_df = global_laps.to_dataframe()\n",
    "global_ripple_epochs_df = global_replays.to_dataframe()\n",
    "\n",
    "RL_active_epoch_selected_spikes_fragile_linear_neuron_IDX_dict = None\n",
    "LR_active_epoch_selected_spikes_fragile_linear_neuron_IDX_dict = None\n",
    "_out_ripple_rasters: RankOrderRastersDebugger = RankOrderRastersDebugger.init_rank_order_debugger(global_spikes_df, global_ripple_epochs_df, track_templates, rank_order_results, RL_active_epoch_selected_spikes_fragile_linear_neuron_IDX_dict, LR_active_epoch_selected_spikes_fragile_linear_neuron_IDX_dict)\n",
    "_out_ripple_rasters"
   ]
  },
  {
   "cell_type": "code",
   "execution_count": null,
   "id": "ea652adb",
   "metadata": {
    "notebookRunGroups": {
     "groupValue": "3"
    }
   },
   "outputs": [],
   "source": [
    "RL_active_epoch_selected_spikes_fragile_linear_neuron_IDX_dict = None\n",
    "LR_active_epoch_selected_spikes_fragile_linear_neuron_IDX_dict = None\n",
    "# rank_order_results\n",
    "# used_rank_order_results = deepcopy(rank_order_results)\n",
    "used_rank_order_results = None\n",
    "_out_ripple_rasters: RankOrderRastersDebugger = RankOrderRastersDebugger.init_rank_order_debugger(global_spikes_df, deepcopy(filtered_ripple_simple_pf_pearson_merged_df),\n",
    "                                                                                                   track_templates, used_rank_order_results,\n",
    "                                                                                                    RL_active_epoch_selected_spikes_fragile_linear_neuron_IDX_dict, LR_active_epoch_selected_spikes_fragile_linear_neuron_IDX_dict)\n",
    "_out_ripple_rasters"
   ]
  },
  {
   "cell_type": "code",
   "execution_count": null,
   "id": "06830baf",
   "metadata": {},
   "outputs": [],
   "source": [
    "\n",
    "long_epoch_name, short_epoch_name, global_epoch_name = curr_active_pipeline.find_LongShortGlobal_epoch_names()\n",
    "global_spikes_df = deepcopy(curr_active_pipeline.computation_results[global_epoch_name]['computed_data'].pf1D.spikes_df)\n",
    "_out_ripple_rasters: RankOrderRastersDebugger = RankOrderRastersDebugger.init_rank_order_debugger(global_spikes_df, deepcopy(filtered_ripple_simple_pf_pearson_merged_df),\n",
    "                                                                                                   track_templates, None,\n",
    "                                                                                                    None, None,\n",
    "                                                                                                    dock_add_locations = dict(zip(('long_LR', 'long_RL', 'short_LR', 'short_RL'), (['right'], ['right'], ['right'], ['right']))),\n",
    "                                                                                                    )\n",
    "_out_ripple_rasters.set_top_info_bar_visibility(False)\n"
   ]
  },
  {
   "cell_type": "code",
   "execution_count": null,
   "id": "aab99127",
   "metadata": {},
   "outputs": [],
   "source": [
    "_out_ripple_rasters.set_top_info_bar_visibility(False)"
   ]
  },
  {
   "cell_type": "code",
   "execution_count": null,
   "id": "d7f8c78f",
   "metadata": {},
   "outputs": [],
   "source": [
    "# Hide top info bar:\n",
    "LongShortColumnsInfo_dock_layout, LongShortColumnsInfo_dock_Dock = _out_ripple_rasters.plots.dock_widgets['LongShortColumnsInfo_dock']\n",
    "# LongShortColumnsInfo_dock_layout.hide() # No use\n",
    "# _out_ripple_rasters.ui.long_short_info_layout.hide() # No use\n",
    "LongShortColumnsInfo_dock_Dock.hide()"
   ]
  },
  {
   "cell_type": "code",
   "execution_count": null,
   "id": "b565f48a",
   "metadata": {},
   "outputs": [],
   "source": [
    "LongShortColumnsInfo_dock_Dock.hide()"
   ]
  },
  {
   "cell_type": "code",
   "execution_count": null,
   "id": "27dec33b",
   "metadata": {},
   "outputs": [],
   "source": [
    "# found_IDX = _out_ripple_rasters.find_nearest_time_index(193.65)\n",
    "# if found_IDX is not None:\n",
    "#     print(f'found_IDX: {found_IDX}')\n",
    "#     _out_ripple_rasters.programmatically_update_epoch_IDX(found_IDX)\n",
    "\n",
    "\n",
    "_out_ripple_rasters.programmatically_update_epoch_IDX_from_epoch_start_time(193.65)\n",
    "\n"
   ]
  },
  {
   "cell_type": "code",
   "execution_count": null,
   "id": "c22e60cd",
   "metadata": {},
   "outputs": [],
   "source": [
    "_out_ripple_rasters.on_update_epoch_IDX(45)\n",
    "# on_update_epoch_IDX\n"
   ]
  },
  {
   "cell_type": "code",
   "execution_count": null,
   "id": "19d06ff3",
   "metadata": {},
   "outputs": [],
   "source": [
    "_a_ScrollBarWithSpinBox = _out_ripple_rasters.ui.ctrls_widget # ScrollBarWithSpinBox \n",
    "_a_ScrollBarWithSpinBox.setValue(45)"
   ]
  },
  {
   "cell_type": "code",
   "execution_count": null,
   "id": "fc747b93",
   "metadata": {},
   "outputs": [],
   "source": []
  },
  {
   "cell_type": "code",
   "execution_count": null,
   "id": "103576a2",
   "metadata": {},
   "outputs": [],
   "source": [
    "from neuropy.utils.indexing_helpers import find_nearest_time\n",
    "\n",
    "# _out_ripple_rasters.active_epochs_df['start']\n",
    "# _out_ripple_rasters.active_epoch_result_df\n",
    "\n",
    "df = deepcopy(_out_ripple_rasters.active_epochs_df)\n",
    "df, closest_index, closest_time, matched_time_difference = find_nearest_time(df=df, target_time=193.65, time_column_name='start', debug_print=True)\n",
    "df.iloc[closest_index]"
   ]
  },
  {
   "cell_type": "code",
   "execution_count": null,
   "id": "44285e64",
   "metadata": {},
   "outputs": [],
   "source": [
    "df, closest_index, closest_time, matched_time_difference = find_nearest_time(df=df, target_time=194.65, time_column_name='start', debug_print=True)"
   ]
  },
  {
   "cell_type": "code",
   "execution_count": null,
   "id": "075a270c",
   "metadata": {},
   "outputs": [],
   "source": []
  },
  {
   "cell_type": "code",
   "execution_count": null,
   "id": "fdd064d2",
   "metadata": {},
   "outputs": [],
   "source": [
    "curr_active_pipeline.plot._display_directional_template_debugger()"
   ]
  },
  {
   "cell_type": "code",
   "execution_count": null,
   "id": "2ba36573",
   "metadata": {},
   "outputs": [],
   "source": [
    "_out = curr_active_pipeline.display('_display_directional_template_debugger')\n"
   ]
  },
  {
   "cell_type": "code",
   "execution_count": null,
   "id": "880dce6f",
   "metadata": {},
   "outputs": [],
   "source": [
    "_out = curr_active_pipeline.display('_display_directional_track_template_pf1Ds')\n"
   ]
  },
  {
   "cell_type": "code",
   "execution_count": null,
   "id": "23c9542e",
   "metadata": {},
   "outputs": [],
   "source": [
    "_out = curr_active_pipeline.display('_display_directional_laps_overview')\n"
   ]
  },
  {
   "cell_type": "code",
   "execution_count": null,
   "id": "c0b7ab4c",
   "metadata": {},
   "outputs": [],
   "source": []
  },
  {
   "cell_type": "code",
   "execution_count": null,
   "id": "7e6aafef",
   "metadata": {},
   "outputs": [],
   "source": [
    "'_display_directional_laps_overview'"
   ]
  },
  {
   "cell_type": "code",
   "execution_count": null,
   "id": "15f5b5d7",
   "metadata": {},
   "outputs": [],
   "source": [
    "# '_display_directional_merged_pfs'\n",
    "_out = curr_active_pipeline.display('_display_directional_merged_pfs', plot_all_directions=False, plot_long_directional=True, )"
   ]
  },
  {
   "cell_type": "code",
   "execution_count": null,
   "id": "eda2d180",
   "metadata": {},
   "outputs": [],
   "source": []
  },
  {
   "cell_type": "code",
   "execution_count": null,
   "id": "5e4b6633",
   "metadata": {},
   "outputs": [],
   "source": []
  },
  {
   "cell_type": "code",
   "execution_count": null,
   "id": "b59dc0c4",
   "metadata": {},
   "outputs": [],
   "source": [
    "## Extracting on 2024-02-06 to display the LR/RL directions instead of the All/Long/Short pfs:\n",
    "def _display_directional_merged_pfs(owning_pipeline_reference, global_computation_results, computation_results, active_configs, include_includelist=None, save_figure=True, included_any_context_neuron_ids=None,\n",
    "\t\t\t\t\t\t\t\t\tplot_all_directions=True, plot_long_directional=False, plot_short_directional=False, **kwargs):\n",
    "\t\"\"\" Plots the merged pseduo-2D pfs/ratemaps. Plots: All-Directions, Long-Directional, Short-Directional in seperate windows. \n",
    "\t\n",
    "\tHistory: this is the Post 2022-10-22 display_all_pf_2D_pyqtgraph_binned_image_rendering-based method:\n",
    "\t\"\"\"\n",
    "\tfrom pyphoplacecellanalysis.Pho2D.PyQtPlots.plot_placefields import pyqtplot_plot_image_array, display_all_pf_2D_pyqtgraph_binned_image_rendering\n",
    "\tfrom pyphoplacecellanalysis.GUI.PyQtPlot.BinnedImageRenderingWindow import BasicBinnedImageRenderingWindow \n",
    "\tfrom pyphoplacecellanalysis.General.Pipeline.Stages.ComputationFunctions.MultiContextComputationFunctions.DirectionalPlacefieldGlobalComputationFunctions import LayoutScrollability\n",
    "\n",
    "\tdefer_render = kwargs.pop('defer_render', False)\n",
    "\tdirectional_merged_decoders_result: DirectionalMergedDecodersResult = global_computation_results.computed_data['DirectionalMergedDecoders']\n",
    "\tactive_merged_pf_plots_data_dict = {} #empty dict\n",
    "\t\n",
    "\tif plot_all_directions:\n",
    "\t\tactive_merged_pf_plots_data_dict[owning_pipeline_reference.build_display_context_for_session(track_config='All-Directions', display_fn_name='display_all_pf_2D_pyqtgraph_binned_image_rendering')] = directional_merged_decoders_result.all_directional_pf1D_Decoder.pf # all-directions\n",
    "\tif plot_long_directional:\n",
    "\t\tactive_merged_pf_plots_data_dict[owning_pipeline_reference.build_display_context_for_session(track_config='Long-Directional', display_fn_name='display_all_pf_2D_pyqtgraph_binned_image_rendering')] = directional_merged_decoders_result.long_directional_pf1D_Decoder.pf # Long-only\n",
    "\tif plot_short_directional:\n",
    "\t\tactive_merged_pf_plots_data_dict[owning_pipeline_reference.build_display_context_for_session(track_config='Short-Directional', display_fn_name='display_all_pf_2D_pyqtgraph_binned_image_rendering')] = directional_merged_decoders_result.short_directional_pf1D_Decoder.pf # Short-only\n",
    "\n",
    "\tout_plots_dict = {}\n",
    "\t\n",
    "\tfor active_context, active_pf_2D in active_merged_pf_plots_data_dict.items():\n",
    "\t\t# figure_format_config = {} # empty dict for config\n",
    "\t\tfigure_format_config = {'scrollability_mode': LayoutScrollability.NON_SCROLLABLE} # kwargs # kwargs as default figure_format_config\n",
    "\t\tout_all_pf_2D_pyqtgraph_binned_image_fig: BasicBinnedImageRenderingWindow  = display_all_pf_2D_pyqtgraph_binned_image_rendering(active_pf_2D, figure_format_config) # output is BasicBinnedImageRenderingWindow\n",
    "\t\n",
    "\t\t# Set the window title from the context\n",
    "\t\tout_all_pf_2D_pyqtgraph_binned_image_fig.setWindowTitle(f'{active_context.get_description()}')\n",
    "\t\tout_plots_dict[active_context] = out_all_pf_2D_pyqtgraph_binned_image_fig\n",
    "\n",
    "\t\t# Tries to update the display of the item:\n",
    "\t\tnames_list = [v for v in list(out_all_pf_2D_pyqtgraph_binned_image_fig.plots.keys()) if v not in ('name', 'context')]\n",
    "\t\tfor a_name in names_list:\n",
    "\t\t\t# Adjust the size of the text for the item by passing formatted text\n",
    "\t\t\ta_plot: pg.PlotItem = out_all_pf_2D_pyqtgraph_binned_image_fig.plots[a_name].mainPlotItem # PlotItem \n",
    "\t\t\t# no clue why 2 is a good value for this...\n",
    "\t\t\ta_plot.titleLabel.setMaximumHeight(2)\n",
    "\t\t\ta_plot.layout.setRowFixedHeight(0, 2)\n",
    "\t\t\t\n",
    "\n",
    "\t\tif not defer_render:\n",
    "\t\t\tout_all_pf_2D_pyqtgraph_binned_image_fig.show()\n",
    "\n",
    "\treturn out_plots_dict"
   ]
  },
  {
   "cell_type": "markdown",
   "id": "8cfcc19a",
   "metadata": {},
   "source": [
    "# 2023-12-18 - Simpily detect bimodal cells:"
   ]
  },
  {
   "cell_type": "code",
   "execution_count": null,
   "id": "7cc55f9e",
   "metadata": {},
   "outputs": [],
   "source": [
    "from neuropy.utils.mixins.peak_location_representing import ContinuousPeakLocationRepresentingMixin\n",
    "from neuropy.core.ratemap import Ratemap\n",
    "from scipy.signal import find_peaks\n",
    "from pyphocorehelpers.indexing_helpers import reorder_columns, reorder_columns_relative\n",
    "\n",
    "_restore_previous_matplotlib_settings_callback = matplotlib_configuration_update(is_interactive=True, backend='Qt5Agg')\n",
    "# curr_active_pipeline.display('_display_1d_placefields', 'maze1_any', sortby=None)\n",
    "\n",
    "# active_ratemap = deepcopy(long_pf1D.ratemap)\n",
    "active_ratemap: Ratemap = deepcopy(long_LR_pf1D.ratemap)\n",
    "peaks_dict, aclu_n_peaks_dict, peaks_results_df = active_ratemap.compute_tuning_curve_modes(height=0.2, width=None)\n",
    "\n",
    "\n",
    "included_columns = ['pos', 'peak_heights'] # the columns of interest that you want in the final dataframe.\n",
    "included_columns_renamed = dict(zip(included_columns, ['peak', 'peak_height']))\n",
    "decoder_peaks_results_dfs = [a_decoder.pf.ratemap.get_tuning_curve_peak_df(height=0.2, width=None) for a_decoder in (track_templates.long_LR_decoder, track_templates.long_RL_decoder, track_templates.short_LR_decoder, track_templates.short_RL_decoder)]\n",
    "prefix_names = [f'{a_decoder_name}_' for a_decoder_name in track_templates.get_decoder_names()]\n",
    "all_included_columns = ['aclu', 'series_idx', 'subpeak_idx'] + included_columns # Used to filter out the unwanted columns from the output\n",
    "\n",
    "# [['aclu', 'series_idx', 'subpeak_idx', 'pos']]\n",
    "\n",
    "# rename_list_fn = lambda a_prefix: {'pos': f\"{a_prefix}pos\"}\n",
    "rename_list_fn = lambda a_prefix: {a_col_name:f\"{a_prefix}{included_columns_renamed[a_col_name]}\" for a_col_name in included_columns}\n",
    "\n",
    "# column_names = [f'{a_decoder_name}_peak' for a_decoder_name in track_templates.get_decoder_names()]\n",
    "\n",
    "# dataFrames = decoder_peaks_results_dfs\n",
    "# names = self.get_decoder_names()\n",
    "\n",
    "# rename 'pos' column in each dataframe and then reduce to perform cumulative outer merge\n",
    "result_df = decoder_peaks_results_dfs[0][all_included_columns].rename(columns=rename_list_fn(prefix_names[0]))\n",
    "for df, a_prefix in zip(decoder_peaks_results_dfs[1:], prefix_names[1:]):\n",
    "    result_df = pd.merge(result_df, df[all_included_columns].rename(columns=rename_list_fn(a_prefix)), on=['aclu', 'series_idx', 'subpeak_idx'], how='outer')\n",
    "\n",
    "# result = reorder_columns(result, column_name_desired_index_dict=dict(zip(['Long_LR_evidence', 'Long_RL_evidence', 'Short_LR_evidence', 'Short_RL_evidence'], np.arange(4)+4)))\n",
    "\n",
    "## Move the \"height\" columns to the end\n",
    "# list(filter(lambda column: column.endswith('_peak_heights'), result.columns))\n",
    "# result_df = reorder_columns(result_df, column_name_desired_index_dict=dict(zip(list(filter(lambda column: column.endswith('_peak_heights'), result_df.columns)), np.arange(len(result_df.columns)-4, len(result_df.columns)))))\n",
    "# result_df\n",
    "\n",
    "# print(list(result.columns))\n",
    "\n",
    "## Move the \"height\" columns to the end\n",
    "result_df: pd.DataFrame = reorder_columns_relative(result_df, column_names=list(filter(lambda column: column.endswith('_peak_heights'), result_df.columns)), relative_mode='end').sort_values(['aclu', 'series_idx', 'subpeak_idx']).reset_index(drop=True)\n",
    "result_df"
   ]
  },
  {
   "cell_type": "code",
   "execution_count": null,
   "id": "fe0d4af7",
   "metadata": {},
   "outputs": [],
   "source": [
    "## Manually Excluded endcap aclus:\n",
    "IdentifyingContext(format_name='kdiba',animal='gor01',exper_name='one',session_name='2006-6-09_1-22-43')\n",
    "excluded_endcap_aclus: NDArray = np.array(list(set([40, 60, 85, 102, 52, 6] + [83, 60, 52, 102, 40] + [59, 67, 95, 28, 101] + [14, 15, 87, 71] + [43, 84, 87, 19, 33, 51, 53])))\n",
    "excluded_endcap_aclus\n",
    "\n",
    "\n",
    "np.array([  6,  14,  15,  19,  28,  33,  40,  43,  51,  52,  53,  59,  60,  67,  71,  83,  84,  85,  87,  95, 101, 102])\n",
    "\n",
    "\n"
   ]
  },
  {
   "cell_type": "code",
   "execution_count": null,
   "id": "635ccd96",
   "metadata": {},
   "outputs": [],
   "source": [
    "peaks_results_df = track_templates.get_decoders_aclu_peak_location_df().sort_values(['aclu', 'series_idx', 'subpeak_idx']).reset_index(drop=True) ## Does not seem to merge entries as I would expect via intution. It keeps LR/RL peaks distinct and leaves pd.NA values for the entries.\n",
    "peaks_results_df"
   ]
  },
  {
   "cell_type": "code",
   "execution_count": null,
   "id": "37d377cc",
   "metadata": {},
   "outputs": [],
   "source": [
    "aclu_n_peaks_dict: Dict = peaks_results_df.groupby(['aclu']).agg(subpeak_idx_count=('subpeak_idx', 'count')).reset_index().set_index('aclu').to_dict()['subpeak_idx_count'] # number of peaks (\"models\" for each aclu)\n",
    "aclu_n_peaks_dict\n",
    "\n",
    "# peaks_results_df = peaks_results_df.groupby(['aclu']).agg(subpeak_idx_count=('subpeak_idx', 'count')).reset_index()\n",
    "\n",
    "# peaks_results_df[peaks_results_df.aclu == 5]\n",
    "# peaks_results_df.aclu.value_counts()"
   ]
  },
  {
   "cell_type": "code",
   "execution_count": null,
   "id": "5eeccfaf",
   "metadata": {},
   "outputs": [],
   "source": [
    "active_ratemap.n_neurons\n",
    "curr_active_pipeline.display('_display_1d_placefields', 'maze1_any', included_unit_neuron_IDs=active_ratemap.neuron_ids, sortby=np.arange(active_ratemap.n_neurons))"
   ]
  },
  {
   "cell_type": "code",
   "execution_count": null,
   "id": "5ec60d18",
   "metadata": {},
   "outputs": [],
   "source": [
    "\n",
    "aclu_n_peaks_dict\n",
    "unimodal_only_aclus = np.array(list(unimodal_peaks_dict.keys()))\n",
    "unimodal_only_aclus\n",
    "curr_active_pipeline.display('_display_1d_placefields', 'maze1_any', included_unit_neuron_IDs=unimodal_only_aclus, sortby=np.arange(active_ratemap.n_neurons))"
   ]
  },
  {
   "cell_type": "markdown",
   "id": "15aebbf1",
   "metadata": {},
   "source": [
    "# 🟪 2024-02-08 Directional Marginals"
   ]
  },
  {
   "cell_type": "code",
   "execution_count": null,
   "id": "46b5ca1c",
   "metadata": {},
   "outputs": [],
   "source": [
    "all_directional_ripple_filter_epochs_decoder_result_value"
   ]
  },
  {
   "cell_type": "code",
   "execution_count": null,
   "id": "aac1ca6a",
   "metadata": {},
   "outputs": [],
   "source": [
    "curr_active_pipeline.sess.config.\n",
    "\n",
    "#epoch_estimation_parameters.replays\n",
    "\n",
    "\n",
    "# pre_proessing_params"
   ]
  },
  {
   "cell_type": "code",
   "execution_count": null,
   "id": "6453cd14",
   "metadata": {},
   "outputs": [],
   "source": [
    "from pyphoplacecellanalysis.SpecificResults.PendingNotebookCode import _perform_compute_custom_epoch_decoding\n",
    "\n",
    "decoder_laps_filter_epochs_decoder_result_dict, decoder_ripple_filter_epochs_decoder_result_dict = _perform_compute_custom_epoch_decoding(curr_active_pipeline, directional_merged_decoders_result, track_templates)"
   ]
  },
  {
   "cell_type": "code",
   "execution_count": null,
   "id": "26d06ccf",
   "metadata": {},
   "outputs": [],
   "source": [
    "## Recompute the epoch scores/metrics such as radon transform and wcorr:\n",
    "(decoder_laps_filter_epochs_decoder_result_dict, decoder_ripple_filter_epochs_decoder_result_dict), merged_df_outputs_tuple, raw_dict_outputs_tuple = _compute_all_df_score_metrics(directional_merged_decoders_result, track_templates, decoder_laps_filter_epochs_decoder_result_dict, decoder_ripple_filter_epochs_decoder_result_dict, spikes_df=deepcopy(curr_active_pipeline.sess.spikes_df),\n",
    "                                                                                                                                                                                     should_skip_radon_transform=True)\n",
    "laps_radon_transform_merged_df, ripple_radon_transform_merged_df, laps_weighted_corr_merged_df, ripple_weighted_corr_merged_df, laps_simple_pf_pearson_merged_df, ripple_simple_pf_pearson_merged_df = merged_df_outputs_tuple\n",
    "decoder_laps_radon_transform_df_dict, decoder_ripple_radon_transform_df_dict, decoder_laps_radon_transform_extras_dict, decoder_ripple_radon_transform_extras_dict, decoder_laps_weighted_corr_df_dict, decoder_ripple_weighted_corr_df_dict = raw_dict_outputs_tuple"
   ]
  },
  {
   "cell_type": "markdown",
   "id": "2fb8161a",
   "metadata": {},
   "source": [
    "# 🖼️🎨 2024-02-08 - `PhoPaginatedMultiDecoderDecodedEpochsWindow` - Plot Ripple Metrics like Radon Transforms, WCorr, Simple Pearson, etc."
   ]
  },
  {
   "cell_type": "code",
   "execution_count": 24,
   "id": "5d9fda21",
   "metadata": {
    "notebookRunGroups": {
     "groupValue": "21"
    }
   },
   "outputs": [
    {
     "name": "stdout",
     "output_type": "stream",
     "text": [
      "len(active_epochs_df): 133\n",
      "min_num_unique_aclu_inclusions: 9\n",
      "len(active_epochs_df): 85\n",
      "num_user_selected_times: 15\n",
      "adding user annotation column!\n",
      "len(active_epochs_df): 133\n",
      "min_num_unique_aclu_inclusions: 9\n",
      "len(active_epochs_df): 85\n"
     ]
    }
   ],
   "source": [
    "from pyphoplacecellanalysis.Pho2D.stacked_epoch_slices import PhoPaginatedMultiDecoderDecodedEpochsWindow\n",
    "from pyphoplacecellanalysis.General.Pipeline.Stages.DisplayFunctions.DecoderPredictionError import RadonTransformPlotDataProvider\n",
    "from pyphoplacecellanalysis.General.Pipeline.Stages.ComputationFunctions.MultiContextComputationFunctions.DirectionalPlacefieldGlobalComputationFunctions import filter_and_update_epochs_and_spikes\n",
    "from pyphoplacecellanalysis.Analysis.Decoder.heuristic_replay_scoring import HeuristicReplayScoring\n",
    "\n",
    "## INPUTS: decoder_ripple_filter_epochs_decoder_result_dict\n",
    "\n",
    "# 2024-03-04 - Filter out the epochs based on the criteria:\n",
    "filtered_epochs_df, active_spikes_df = filter_and_update_epochs_and_spikes(curr_active_pipeline, global_epoch_name, track_templates, epoch_id_key_name='ripple_epoch_id', no_interval_fill_value=-1)\n",
    "\n",
    "## filter the epochs by something and only show those:\n",
    "# INPUTS: filtered_epochs_df\n",
    "# filtered_ripple_simple_pf_pearson_merged_df = filtered_ripple_simple_pf_pearson_merged_df.epochs.matching_epoch_times_slice(active_epochs_df[['start', 'stop']].to_numpy())\n",
    "## Update the `decoder_ripple_filter_epochs_decoder_result_dict` with the included epochs:\n",
    "filtered_decoder_filter_epochs_decoder_result_dict: Dict[str, DecodedFilterEpochsResult] = {a_name:a_result.filtered_by_epoch_times(filtered_epochs_df[['start', 'stop']].to_numpy()) for a_name, a_result in decoder_ripple_filter_epochs_decoder_result_dict.items()} # working filtered\n",
    "# print(f\"any_good_selected_epoch_times.shape: {any_good_selected_epoch_times.shape}\") # (142, 2)\n",
    "\n",
    "pre_cols = {a_name:set(a_result.filter_epochs.columns) for a_name, a_result in filtered_decoder_filter_epochs_decoder_result_dict.items()}\n",
    "\n",
    "# 🟪 2024-02-29 - `compute_pho_heuristic_replay_scores`\n",
    "filtered_decoder_filter_epochs_decoder_result_dict, _out_new_scores = HeuristicReplayScoring.compute_all_heuristic_scores(track_templates=track_templates, a_decoded_filter_epochs_decoder_result_dict=filtered_decoder_filter_epochs_decoder_result_dict)\n",
    "\n",
    "## 2024-03-08 - Also constrain the user-selected ones (just to try it):\n",
    "decoder_user_selected_epoch_times_dict, any_good_selected_epoch_times = DecoderDecodedEpochsResult.load_user_selected_epoch_times(curr_active_pipeline, track_templates=track_templates)\n",
    "# ## Constrain again now by the user selections\n",
    "# filtered_decoder_filter_epochs_decoder_result_dict: Dict[str, DecodedFilterEpochsResult] = {a_name:a_result.filtered_by_epoch_times(any_good_selected_epoch_times) for a_name, a_result in filtered_decoder_filter_epochs_decoder_result_dict.items()}\n",
    "# filtered_decoder_filter_epochs_decoder_result_dict\n",
    "\n",
    "## Instead, add in the 'is_user_annotated_epoch' column instead of filtering\n",
    "## INPUTS: any_good_selected_epoch_times\n",
    "num_user_selected_times: int = len(any_good_selected_epoch_times)\n",
    "print(f'num_user_selected_times: {num_user_selected_times}')\n",
    "any_good_selected_epoch_indicies = None\n",
    "print(f'adding user annotation column!')\n",
    "\n",
    "directional_decoders_epochs_decode_result.add_all_extra_epoch_columns(curr_active_pipeline, track_templates=track_templates, required_min_percentage_of_active_cells=0.33333333, debug_print=False)\n",
    "\n",
    "\n",
    "## OUT: filtered_decoder_filter_epochs_decoder_result_dict"
   ]
  },
  {
   "cell_type": "code",
   "execution_count": null,
   "id": "5a747373",
   "metadata": {},
   "outputs": [],
   "source": [
    "# filtered_decoder_filter_epochs_decoder_result_dict['long_LR'].filter_epochs.directionality_ratio.unique()\n",
    "# filtered_decoder_filter_epochs_decoder_result_dict['long_LR'].filter_epochs.sweep_score.unique()\n",
    "# filtered_decoder_filter_epochs_decoder_result_dict['long_LR'].filter_epochs.laplacian_smoothness.unique()"
   ]
  },
  {
   "cell_type": "code",
   "execution_count": null,
   "id": "7e4fc113",
   "metadata": {},
   "outputs": [],
   "source": [
    "## Build a merged (single df) frame\n",
    "decoder_ripple_filter_epochs_decoder_result_dict['long_LR'].filter_epochs"
   ]
  },
  {
   "cell_type": "code",
   "execution_count": null,
   "id": "acb282cd",
   "metadata": {},
   "outputs": [],
   "source": [
    "filtered_epochs_df\n",
    "filtered_epochs_df[filtered_epochs_df['start'] >= t_delta]\n",
    "filtered_decoder_filter_epochs_decoder_result_dict['long_LR'].filter_epochs"
   ]
  },
  {
   "cell_type": "code",
   "execution_count": null,
   "id": "a046b304",
   "metadata": {},
   "outputs": [],
   "source": [
    "# decoder_decoded_epochs_result_dict: generic\n",
    "\n",
    "app, paginated_multi_decoder_decoded_epochs_window, pagination_controller_dict = PhoPaginatedMultiDecoderDecodedEpochsWindow.init_from_track_templates(curr_active_pipeline, track_templates,\n",
    "                                                                                                # decoder_decoded_epochs_result_dict=decoder_ripple_filter_epochs_decoder_result_dict,\n",
    "                                                                                                decoder_decoded_epochs_result_dict=filtered_decoder_filter_epochs_decoder_result_dict,\n",
    "                                                                                                epochs_name='ripple',\n",
    "                                                                                                included_epoch_indicies=None, debug_print=False,\n",
    "                                                                                                params_kwargs={'enable_per_epoch_action_buttons': False,\n",
    "                                                                                                    'skip_plotting_most_likely_positions': True, 'skip_plotting_measured_positions': True, \n",
    "                                                                                                    'enable_decoded_most_likely_position_curve': False, 'enable_radon_transform_info': True, 'enable_weighted_correlation_info': False,\n",
    "                                                                                                    # 'enable_radon_transform_info': False, 'enable_weighted_correlation_info': False,\n",
    "                                                                                                    # 'disable_y_label': True,\n",
    "                                                                                                    'isPaginatorControlWidgetBackedMode': True,\n",
    "                                                                                                    'enable_update_window_title_on_page_change': False, 'build_internal_callbacks': True,\n",
    "                                                                                                    # 'debug_print': True,\n",
    "                                                                                                    'max_subplots_per_page': 10,\n",
    "                                                                                                    'scrollable_figure': True,\n",
    "                                                                                                    # 'posterior_heatmap_imshow_kwargs': dict(vmin=0.0075),\n",
    "                                                                                                    'use_AnchoredCustomText': True,\n",
    "                                                                                                })\n",
    "\n",
    "\n",
    "paginated_multi_decoder_decoded_epochs_window.add_data_overlays(decoder_laps_filter_epochs_decoder_result_dict, filtered_decoder_filter_epochs_decoder_result_dict)\n",
    "_tmp_out_selections = paginated_multi_decoder_decoded_epochs_window.restore_selections_from_user_annotations()"
   ]
  },
  {
   "cell_type": "code",
   "execution_count": null,
   "id": "2af9b702",
   "metadata": {},
   "outputs": [],
   "source": [
    "paginated_multi_decoder_decoded_epochs_window.any_good_selected_epoch_times"
   ]
  },
  {
   "cell_type": "code",
   "execution_count": null,
   "id": "230fa0db",
   "metadata": {},
   "outputs": [],
   "source": [
    "paginated_multi_decoder_decoded_epochs_window.restore_selections_from_user_annotations()\n",
    "\n",
    "paginated_multi_decoder_decoded_epochs_window.restore_selections_from_user_annotations"
   ]
  },
  {
   "cell_type": "code",
   "execution_count": null,
   "id": "5e5a5f97",
   "metadata": {},
   "outputs": [],
   "source": [
    "# active_selections_dict = paginated_multi_decoder_decoded_epochs_window.save_selections()\n",
    "# paginated_multi_decoder_decoded_epochs_window.ui.print = print\n",
    "_annotations = paginated_multi_decoder_decoded_epochs_window.print_user_annotations()\n"
   ]
  },
  {
   "cell_type": "code",
   "execution_count": null,
   "id": "02286acd",
   "metadata": {},
   "outputs": [],
   "source": [
    "paginated_multi_decoder_decoded_epochs_window.remove_data_overlays()"
   ]
  },
  {
   "cell_type": "code",
   "execution_count": null,
   "id": "46c2bb1c",
   "metadata": {},
   "outputs": [],
   "source": [
    "paginated_multi_decoder_decoded_epochs_window.add_data_overlays(decoder_laps_filter_epochs_decoder_result_dict, filtered_decoder_filter_epochs_decoder_result_dict)"
   ]
  },
  {
   "cell_type": "code",
   "execution_count": null,
   "id": "98c24071",
   "metadata": {},
   "outputs": [],
   "source": [
    "from pyphoplacecellanalysis.GUI.PyQtPlot.Widgets.ContainerBased.RankOrderRastersDebugger import RankOrderRastersDebugger\n",
    "\n",
    "def _build_attached_raster_viewer(paginated_multi_decoder_decoded_epochs_window, track_templates, active_spikes_df):\n",
    "    \"\"\" creates a new RankOrderRastersDebugger for use by `paginated_multi_decoder_decoded_epochs_window` \n",
    "\n",
    "    paginated_multi_decoder_decoded_epochs_window\n",
    "\n",
    "    Captures: paginated_multi_decoder_decoded_epochs_window\n",
    "    \"\"\"\n",
    "    from pyphoplacecellanalysis.GUI.PyQtPlot.Widgets.ContainerBased.RankOrderRastersDebugger import RankOrderRastersDebugger\n",
    "    # long_epoch_name, short_epoch_name, global_epoch_name = curr_active_pipeline.find_LongShortGlobal_epoch_names()\n",
    "    # global_spikes_df = deepcopy(curr_active_pipeline.computation_results[global_epoch_name]['computed_data'].pf1D.spikes_df)\n",
    "    global_spikes_df = deepcopy(active_spikes_df)\n",
    "    _out_ripple_rasters: RankOrderRastersDebugger = RankOrderRastersDebugger.init_rank_order_debugger(global_spikes_df, deepcopy(filtered_ripple_simple_pf_pearson_merged_df),\n",
    "                                                                                                    track_templates, None,\n",
    "                                                                                                        None, None,\n",
    "                                                                                                        dock_add_locations = dict(zip(('long_LR', 'long_RL', 'short_LR', 'short_RL'), (['right'], ['right'], ['right'], ['right']))),\n",
    "                                                                                                        )\n",
    "    _out_ripple_rasters.set_top_info_bar_visibility(False)\n",
    "    _out_ripple_rasters.set_bottom_controls_visibility(False)\n",
    "\n",
    "    ## Enable programmatically updating the rasters viewer to the clicked epoch index when middle clicking on a posterior.\n",
    "    def update_attached_raster_viewer_epoch_callback(self, event, clicked_ax, clicked_data_index, clicked_epoch_is_selected, clicked_epoch_start_stop_time):\n",
    "        \"\"\" Enable programmatically updating the rasters viewer to the clicked epoch index when middle clicking on a posterior. \n",
    "        called when the user middle-clicks an epoch \n",
    "        \n",
    "        captures: _out_ripple_rasters\n",
    "        \"\"\"\n",
    "        print(f'update_attached_raster_viewer_epoch_callback(clicked_data_index: {clicked_data_index}, clicked_epoch_is_selected: {clicked_epoch_is_selected}, clicked_epoch_start_stop_time: {clicked_epoch_start_stop_time})')\n",
    "        if clicked_epoch_start_stop_time is not None:\n",
    "            if len(clicked_epoch_start_stop_time) == 2:\n",
    "                start_t, end_t = clicked_epoch_start_stop_time\n",
    "                print(f'start_t: {start_t}')\n",
    "                _out_ripple_rasters.programmatically_update_epoch_IDX_from_epoch_start_time(start_t)\n",
    "\n",
    "    ## Attach the update to the pagination controllers:\n",
    "    for a_name, a_pagination_controller in paginated_multi_decoder_decoded_epochs_window.pagination_controllers.items():\n",
    "        # a_pagination_controller.params.debug_print = True\n",
    "        if not a_pagination_controller.params.has_attr('on_middle_click_item_callbacks'):\n",
    "            a_pagination_controller.params['on_middle_click_item_callbacks'] = {}\n",
    "        a_pagination_controller.params.on_middle_click_item_callbacks['update_attached_raster_viewer_epoch_callback'] = update_attached_raster_viewer_epoch_callback\n",
    "\n",
    "        \n",
    "    return _out_ripple_rasters\n",
    "\n",
    "\n",
    "_out_ripple_rasters = _build_attached_raster_viewer(paginated_multi_decoder_decoded_epochs_window, track_templates=track_templates, active_spikes_df=active_spikes_df)\n"
   ]
  },
  {
   "cell_type": "code",
   "execution_count": null,
   "id": "3790ae87",
   "metadata": {},
   "outputs": [],
   "source": [
    "## Enable programmatically updating the rasters viewer to the clicked epoch index when middle clicking on a posterior.\n",
    "def update_attached_raster_viewer_epoch_callback(self, event, clicked_ax, clicked_data_index, clicked_epoch_is_selected, clicked_epoch_start_stop_time):\n",
    "    \"\"\" Enable programmatically updating the rasters viewer to the clicked epoch index when middle clicking on a posterior. \n",
    "    called when the user middle-clicks an epoch \n",
    "    \n",
    "    captures: _out_ripple_rasters\n",
    "    \"\"\"\n",
    "    print(f'update_attached_raster_viewer_epoch_callback(clicked_data_index: {clicked_data_index}, clicked_epoch_is_selected: {clicked_epoch_is_selected}, clicked_epoch_start_stop_time: {clicked_epoch_start_stop_time})')\n",
    "    if clicked_epoch_start_stop_time is not None:\n",
    "        if len(clicked_epoch_start_stop_time) == 2:\n",
    "            start_t, end_t = clicked_epoch_start_stop_time\n",
    "            print(f'start_t: {start_t}')\n",
    "            _out_ripple_rasters.programmatically_update_epoch_IDX_from_epoch_start_time(start_t)\n",
    "\n",
    "\n",
    "for a_name, a_pagination_controller in paginated_multi_decoder_decoded_epochs_window.pagination_controllers.items():\n",
    "    # a_pagination_controller.params.debug_print = True\n",
    "    if not a_pagination_controller.params.has_attr('on_middle_click_item_callbacks'):\n",
    "        a_pagination_controller.params['on_middle_click_item_callbacks'] = {}\n",
    "    a_pagination_controller.params.on_middle_click_item_callbacks['update_attached_raster_viewer_epoch_callback'] = update_attached_raster_viewer_epoch_callback\n"
   ]
  },
  {
   "cell_type": "code",
   "execution_count": null,
   "id": "f19d9d7d",
   "metadata": {},
   "outputs": [],
   "source": [
    "clicked_epoch_start_stop_time = [488.296 488.484]\n",
    "start_t = 488.29642327222973\n",
    "found_IDX = 24\n",
    "\n",
    "# ripple_idx=80, ripple_start_t=488.29642327222973\n"
   ]
  },
  {
   "cell_type": "code",
   "execution_count": null,
   "id": "8e8c0bd1",
   "metadata": {},
   "outputs": [],
   "source": [
    "## Enable programmatically updating the rasters viewer to the clicked epoch index when middle clicking on a posterior.\n",
    "def an_alt_clicked_epoch_callback(self, event, clicked_ax, clicked_data_index, clicked_epoch_is_selected, clicked_epoch_start_stop_time):\n",
    "    \"\"\" called when the user middle-clicks an epoch \n",
    "    \n",
    "    captures: _out_ripple_rasters\n",
    "    \"\"\"\n",
    "    print(f'an_alt_clicked_epoch_callback(clicked_data_index: {clicked_data_index}, clicked_epoch_is_selected: {clicked_epoch_is_selected}, clicked_epoch_start_stop_time: {clicked_epoch_start_stop_time})')\n",
    "    if clicked_epoch_start_stop_time is not None:\n",
    "        if len(clicked_epoch_start_stop_time) == 2:\n",
    "            start_t, end_t = clicked_epoch_start_stop_time\n",
    "            print(f'start_t: {start_t}')\n",
    "            _out_ripple_rasters.programmatically_update_epoch_IDX_from_epoch_start_time(start_t)\n",
    "\n",
    "\n",
    "for a_name, a_pagination_controller in paginated_multi_decoder_decoded_epochs_window.pagination_controllers.items():\n",
    "    # a_pagination_controller.params.debug_print = True\n",
    "    if not a_pagination_controller.params.has_attr('on_middle_click_item_callbacks'):\n",
    "        a_pagination_controller.params['on_middle_click_item_callbacks'] = {}    \n",
    "    a_pagination_controller.params.on_middle_click_item_callbacks['an_alt_clicked_epoch_callback'] = an_alt_clicked_epoch_callback\n",
    "\n"
   ]
  },
  {
   "cell_type": "code",
   "execution_count": null,
   "id": "4e33227d",
   "metadata": {},
   "outputs": [],
   "source": [
    "# Attempting to set identical low and high xlims makes transformation singular; automatically expanding. Is this what is causing the white posteriors?\n"
   ]
  },
  {
   "cell_type": "code",
   "execution_count": null,
   "id": "668f533e",
   "metadata": {},
   "outputs": [],
   "source": [
    "paginated_multi_decoder_decoded_epochs_window.draw()"
   ]
  },
  {
   "cell_type": "code",
   "execution_count": null,
   "id": "7894bbbc",
   "metadata": {},
   "outputs": [],
   "source": [
    "# paginated_multi_decoder_decoded_epochs_window.pagination_controllers['long_LR'].params.posterior_heatmap_imshow_kwargs = dict(vmin=0.0)\n"
   ]
  },
  {
   "cell_type": "code",
   "execution_count": null,
   "id": "0dd13ac9",
   "metadata": {},
   "outputs": [],
   "source": [
    "\n",
    "# paginated_multi_decoder_decoded_epochs_window.update_params(posterior_heatmap_imshow_kwargs = dict(vmin=0.0))\n",
    "\n",
    "paginated_multi_decoder_decoded_epochs_window.update_params(enable_per_epoch_action_buttons = True)\n",
    "paginated_multi_decoder_decoded_epochs_window.refresh_current_page()\n"
   ]
  },
  {
   "cell_type": "code",
   "execution_count": null,
   "id": "ef1446ad",
   "metadata": {},
   "outputs": [],
   "source": [
    "paginated_multi_decoder_decoded_epochs_window.get_children_props('params')\n",
    "# paginated_multi_decoder_decoded_epochs_window.get_children_props('plots')\n",
    "# paginated_multi_decoder_decoded_epochs_window.get_children_props('plots.fig')\n",
    "paginated_multi_decoder_decoded_epochs_window.get_children_props('plots.fig')\n",
    "# paginated_multi_decoder_decoded_epochs_window.get_children_props('params.posterior_heatmap_imshow_kwargs')"
   ]
  },
  {
   "cell_type": "code",
   "execution_count": null,
   "id": "d2f8fe51",
   "metadata": {},
   "outputs": [],
   "source": [
    "1/64"
   ]
  },
  {
   "cell_type": "code",
   "execution_count": null,
   "id": "c0520bd8",
   "metadata": {},
   "outputs": [],
   "source": [
    "# paginated_multi_decoder_decoded_epochs_window# AttributeError: 'PhoPaginatedMultiDecoderDecodedEpochsWindow' object has no attribute 'params'\n",
    "\n",
    "paginated_multi_decoder_decoded_epochs_window.pagination_controllers['long_LR'].params.should_suppress_callback_exceptions = False "
   ]
  },
  {
   "cell_type": "code",
   "execution_count": null,
   "id": "b52835e5",
   "metadata": {},
   "outputs": [],
   "source": [
    "paginated_multi_decoder_decoded_epochs_window.jump_to_page(3)"
   ]
  },
  {
   "cell_type": "code",
   "execution_count": null,
   "id": "043c9826",
   "metadata": {},
   "outputs": [],
   "source": [
    "paginated_multi_decoder_decoded_epochs_window.draw()"
   ]
  },
  {
   "cell_type": "code",
   "execution_count": null,
   "id": "16fdd4ee",
   "metadata": {},
   "outputs": [],
   "source": [
    "paginated_multi_decoder_decoded_epochs_window.debug_print = True"
   ]
  },
  {
   "cell_type": "code",
   "execution_count": null,
   "id": "5116fb13",
   "metadata": {},
   "outputs": [],
   "source": [
    "for k, v in paginated_multi_decoder_decoded_epochs_window.pagination_controllers.items():\n",
    "    # v.params.enable_radon_transform_info = False\n",
    "    # v.params.enable_weighted_correlation_info = False\n",
    "    v._subfn_clear_selectability_rects()\n",
    "    \n",
    "# paginated_multi_decoder_decoded_epochs_window.draw()"
   ]
  },
  {
   "cell_type": "code",
   "execution_count": null,
   "id": "685b9cd0",
   "metadata": {},
   "outputs": [],
   "source": [
    "for a_name, a_ctrlr in paginated_multi_decoder_decoded_epochs_window.pagination_controllers.items():\n",
    "    a_ctrlr.perform_update_selections(defer_render=False)\n"
   ]
  },
  {
   "cell_type": "code",
   "execution_count": null,
   "id": "33a1d330",
   "metadata": {},
   "outputs": [],
   "source": [
    "paginated_multi_decoder_decoded_epochs_window.draw()"
   ]
  },
  {
   "cell_type": "code",
   "execution_count": null,
   "id": "12335ab8",
   "metadata": {},
   "outputs": [],
   "source": [
    "\n",
    "# with Ctx(format_name='kdiba',animal='gor01',exper_name='two',session_name='2006-6-08_21-16-25',display_fn_name='DecodedEpochSlices',epochs='ripple',user_annotation='selections') as ctx:\n",
    "# \tuser_annotations[ctx + Ctx(decoder='long_LR')] = [[785.7379401021171, 785.9232737672282]]\n",
    "# \tuser_annotations[ctx + Ctx(decoder='long_RL')] = [[427.4610240198672, 427.55720829055645]]\n",
    "# \tuser_annotations[ctx + Ctx(decoder='short_LR')] = [[833.3391086903866, 833.4508065531263]]\n",
    "# \tuser_annotations[ctx + Ctx(decoder='short_RL')] = [[491.7975491596153, 492.17844624456484], [940.0164351915009, 940.2191870877286]]\n",
    "\n",
    "# with Ctx(format_name='kdiba',animal='gor01',exper_name='two',session_name='2006-6-08_21-16-25',display_fn_name='DecodedEpochSlices',epochs='ripple',user_annotation='selections') as ctx:\n",
    "# \tuser_annotations[ctx + Ctx(decoder='long_LR')] = [array([785.738, 785.923])]\n",
    "# \tuser_annotations[ctx + Ctx(decoder='long_RL')] = [array([427.461, 427.557])]\n",
    "# \tuser_annotations[ctx + Ctx(decoder='short_LR')] = [array([833.339, 833.451])]\n",
    "# \tuser_annotations[ctx + Ctx(decoder='short_RL')] = [array([491.798, 492.178]), array([940.016, 940.219])]\n",
    "\n",
    "# with Ctx(format_name='kdiba',animal='gor01',exper_name='two',session_name='2006-6-08_21-16-25',display_fn_name='DecodedEpochSlices',epochs='ripple',user_annotation='selections') as ctx:\n",
    "# \tuser_annotations[ctx + Ctx(decoder='long_LR')] = [[785.7379401021171, 785.9232737672282]]\n",
    "# \tuser_annotations[ctx + Ctx(decoder='long_RL')] = [[427.4610240198672, 427.55720829055645]]\n",
    "# \tuser_annotations[ctx + Ctx(decoder='short_LR')] = [[833.3391086903866, 833.4508065531263]]\n",
    "# \tuser_annotations[ctx + Ctx(decoder='short_RL')] = [[491.7975491596153, 492.17844624456484], [940.0164351915009, 940.2191870877286]]\n",
    "\n",
    "# with Ctx(format_name='kdiba',animal='pin01',exper_name='one',session_name='11-02_19-28-0',display_fn_name='DecodedEpochSlices',epochs='ripple',user_annotation='selections') as ctx:\n",
    "# \tuser_annotations[ctx + Ctx(decoder='long_LR')] = [[208.356, 208.523], [693.842, 693.975], [954.574, 954.679]]\n",
    "# \tuser_annotations[ctx + Ctx(decoder='long_RL')] = [[224.037, 224.312]]\n",
    "# \tuser_annotations[ctx + Ctx(decoder='short_LR')] = [[145.776, 146.022], [198.220, 198.582], [220.041, 220.259], [511.570, 511.874], [865.238, 865.373]]\n",
    "# \tuser_annotations[ctx + Ctx(decoder='short_RL')] = [[191.817, 192.100], [323.147, 323.297]]\n",
    "\n"
   ]
  },
  {
   "cell_type": "code",
   "execution_count": null,
   "id": "a4e2ae32",
   "metadata": {},
   "outputs": [],
   "source": [
    "with VizTracer(output_file=f\"viztracer_{get_now_time_str()}-paginated_multi_decoder_decoded_epochs_window_page.json\", min_duration=200, tracer_entries=3000000, ignore_frozen=True) as tracer:\n",
    "    paginated_multi_decoder_decoded_epochs_window.jump_to_page(2)"
   ]
  },
  {
   "cell_type": "code",
   "execution_count": null,
   "id": "96a9cfa3",
   "metadata": {},
   "outputs": [],
   "source": [
    "paginated_multi_decoder_decoded_epochs_window.jump_to_page(1)"
   ]
  },
  {
   "cell_type": "code",
   "execution_count": null,
   "id": "35d30a24",
   "metadata": {},
   "outputs": [],
   "source": [
    "decoder_ripple_filter_epochs_decoder_result_dict['long_LR'].filter_epochs"
   ]
  },
  {
   "cell_type": "code",
   "execution_count": null,
   "id": "2ffe8012",
   "metadata": {},
   "outputs": [],
   "source": [
    "track_templates.get_decoder_names()"
   ]
  },
  {
   "cell_type": "code",
   "execution_count": null,
   "id": "1c0b391a",
   "metadata": {},
   "outputs": [],
   "source": []
  },
  {
   "cell_type": "code",
   "execution_count": null,
   "id": "9966ce54",
   "metadata": {},
   "outputs": [],
   "source": [
    "for k, v in paginated_multi_decoder_decoded_epochs_window.pagination_controllers.items():\n",
    "    # v.params.enable_radon_transform_info = False\n",
    "    # v.params.enable_weighted_correlation_info = False\n",
    "    v.params.enable_radon_transform_info = True\n",
    "    v.params.enable_weighted_correlation_info = True\n",
    "    v.params.debug_enabled = True\n",
    "\n",
    "paginated_multi_decoder_decoded_epochs_window.draw()"
   ]
  },
  {
   "cell_type": "code",
   "execution_count": null,
   "id": "926a00ff",
   "metadata": {},
   "outputs": [],
   "source": [
    "for k, v in paginated_multi_decoder_decoded_epochs_window.pagination_controllers.items():\n",
    "    print(f'decoder[{k}]:')\n",
    "    v.params.name\n",
    "    # v.params.on_render_page_callbacks\n",
    "    # v.params.enable_radon_transform_info\n",
    "    len(v.plots_data.radon_transform_data)\n"
   ]
  },
  {
   "cell_type": "code",
   "execution_count": null,
   "id": "4aae107f",
   "metadata": {},
   "outputs": [],
   "source": [
    "paginated_multi_decoder_decoded_epochs_window.debug_print = True"
   ]
  },
  {
   "cell_type": "code",
   "execution_count": null,
   "id": "daf05213",
   "metadata": {},
   "outputs": [],
   "source": [
    "paginated_multi_decoder_decoded_epochs_window.debug_print = True"
   ]
  },
  {
   "cell_type": "code",
   "execution_count": null,
   "id": "4bf3d994",
   "metadata": {},
   "outputs": [],
   "source": [
    "paginated_multi_decoder_decoded_epochs_window.add_data_overlays(decoder_laps_filter_epochs_decoder_result_dict, decoder_ripple_filter_epochs_decoder_result_dict)\n",
    "paginated_multi_decoder_decoded_epochs_window.draw()"
   ]
  },
  {
   "cell_type": "code",
   "execution_count": null,
   "id": "d1bb4ea3",
   "metadata": {},
   "outputs": [],
   "source": [
    "paginated_multi_decoder_decoded_epochs_window.refresh_current_page()"
   ]
  },
  {
   "cell_type": "code",
   "execution_count": null,
   "id": "ee4b0ea2",
   "metadata": {},
   "outputs": [],
   "source": [
    "def _sub_subfn_wrapped_in_brackets(s: str, bracket_strings = (\"[\", \"]\")) -> str:\n",
    "        return bracket_strings[0] + s + bracket_strings[1]\n",
    "    \n",
    "def _sub_subfn_format_nested_list(arr, precision:int=3, num_sep=\", \", array_sep=', ') -> str:\n",
    "    \"\"\"\n",
    "    Converts a nested list of floats into a single string,\n",
    "    with each float formatted to the specified precision.\n",
    "    \n",
    "    arr = np.array([[491.798, 492.178], [940.016, 940.219]])\n",
    "    _sub_subfn_format_nested_list(arr)\n",
    "\n",
    "    >> '[[491.798, 492.178], [940.016, 940.219]]'\n",
    "\n",
    "    arr = np.array([[785.738, 785.923]])\n",
    "    _sub_subfn_format_nested_list(arr)\n",
    "    >> '[[785.738, 785.923]]'\n",
    "    \"\"\"\n",
    "    return _sub_subfn_wrapped_in_brackets(array_sep.join([_sub_subfn_wrapped_in_brackets(num_sep.join([f\"{num:.{precision}f}\" for num in row])) for row in arr]))\n",
    "    \n",
    "# arr = np.array([[491.798, 492.178], [940.016, 940.219]])\n",
    "arr = np.array([[785.738, 785.923]])\n",
    "_sub_subfn_format_nested_list(arr)"
   ]
  },
  {
   "cell_type": "markdown",
   "id": "a9efaf3a",
   "metadata": {},
   "source": [
    "### 2024-02-29 3pm - Get the active user-annotated epoch times from the `paginated_multi_decoder_decoded_epochs_window` and use these to filter `filtered_ripple_simple_pf_pearson_merged_df`"
   ]
  },
  {
   "cell_type": "code",
   "execution_count": null,
   "id": "37467a70",
   "metadata": {},
   "outputs": [],
   "source": [
    "\n",
    "# Inputs: paginated_multi_decoder_decoded_epochs_window, filtered_ripple_simple_pf_pearson_merged_df\n",
    "any_good_selected_epoch_times = deepcopy(paginated_multi_decoder_decoded_epochs_window.any_good_selected_epoch_times)\n",
    "any_good_selected_epoch_indicies = deepcopy(paginated_multi_decoder_decoded_epochs_window.find_data_indicies_from_epoch_times(paginated_multi_decoder_decoded_epochs_window.any_good_selected_epoch_times))\n"
   ]
  },
  {
   "cell_type": "markdown",
   "id": "62219413",
   "metadata": {},
   "source": [
    "## 🔶 2024-03-01 - Get the active user-annotated epoch times from the `UserAnnotationsManager` and use these to filter `filtered_ripple_simple_pf_pearson_merged_df`"
   ]
  },
  {
   "cell_type": "code",
   "execution_count": null,
   "id": "37953b19",
   "metadata": {
    "notebookRunGroups": {
     "groupValue": "3"
    },
    "tags": [
     "active",
     "active-2024-02-29"
    ]
   },
   "outputs": [],
   "source": [
    "from neuropy.utils.misc import numpyify_array\n",
    "from neuropy.utils.result_context import IdentifyingContext\n",
    "from neuropy.core.epoch import EpochsAccessor\n",
    "from neuropy.core.epoch import find_data_indicies_from_epoch_times\n",
    "from pyphoplacecellanalysis.General.Pipeline.Stages.ComputationFunctions.MultiContextComputationFunctions.DirectionalPlacefieldGlobalComputationFunctions import DecoderDecodedEpochsResult\n",
    "from neuropy.core.epoch import find_data_indicies_from_epoch_times\n",
    "## Get from UserAnnotations directly instead of the intermediate viewer\n",
    "\n",
    "## # inputs: any_good_selected_epoch_times, any_good_selected_epoch_times, any_good_selected_epoch_indicies \n",
    "\n",
    "decoder_user_selected_epoch_times_dict, any_good_selected_epoch_times = DecoderDecodedEpochsResult.load_user_selected_epoch_times(curr_active_pipeline, track_templates=track_templates)\n",
    "# any_good_selected_epoch_indicies = filtered_ripple_simple_pf_pearson_merged_df.epochs.matching_epoch_times_slice(any_good_selected_epoch_times)\n",
    "# any_good_selected_epoch_indicies = filtered_ripple_simple_pf_pearson_merged_df.epochs.find_data_indicies_from_epoch_times(any_good_selected_epoch_times)\n",
    "# any_good_selected_epoch_indicies\n",
    "# Add user-selection columns to df\n",
    "a_df = deepcopy(filtered_ripple_simple_pf_pearson_merged_df)\n",
    "# a_df = deepcopy(ripple_weighted_corr_merged_df)\n",
    "a_df['is_user_annotated_epoch'] = False\n",
    "# any_good_selected_epoch_indicies = a_df.epochs.find_data_indicies_from_epoch_times(any_good_selected_epoch_times)\n",
    "any_good_selected_epoch_indicies = find_data_indicies_from_epoch_times(a_df, np.squeeze(any_good_selected_epoch_times[:,0]), t_column_names=['ripple_start_t',])\n",
    "# any_good_selected_epoch_indicies = find_data_indicies_from_epoch_times(a_df, any_good_selected_epoch_times, t_column_names=['ripple_start_t',])\n",
    "any_good_selected_epoch_indicies\n",
    "# a_df['is_user_annotated_epoch'] = np.isin(a_df.index.to_numpy(), any_good_selected_epoch_indicies)\n",
    "a_df['is_user_annotated_epoch'].loc[any_good_selected_epoch_indicies] = True # Here's another .iloc issue! Changing to .loc\n",
    "a_df\n"
   ]
  },
  {
   "cell_type": "code",
   "execution_count": null,
   "id": "16581278",
   "metadata": {},
   "outputs": [],
   "source": [
    "df = DecoderDecodedEpochsResult.filter_epochs_dfs_by_annotation_times(curr_active_pipeline, any_good_selected_epoch_times, ripple_decoding_time_bin_size, filtered_ripple_simple_pf_pearson_merged_df, ripple_weighted_corr_merged_df)\n",
    "df"
   ]
  },
  {
   "cell_type": "markdown",
   "id": "c693731c",
   "metadata": {},
   "source": [
    "### 2024-02-29 - 4pm - Filter the events for those meeting wcorr criteria:\n"
   ]
  },
  {
   "cell_type": "code",
   "execution_count": null,
   "id": "ad1b2a07",
   "metadata": {},
   "outputs": [],
   "source": [
    "min_wcorr_threshold: float = 0.33\n",
    "min_wcorr_diff_threshold: float = 0.2\n",
    "\n",
    "is_included_large_wcorr_diff = np.any((df[['wcorr_abs_diff']].abs() > min_wcorr_diff_threshold), axis=1)\n",
    "is_included_high_wcorr = np.any((df[['long_best_wcorr', 'short_best_wcorr']].abs() > min_wcorr_threshold), axis=1)\n",
    "\n",
    "df = df[is_included_high_wcorr]\n",
    "df\n",
    "\n",
    "# delta_aligned_start_t"
   ]
  },
  {
   "cell_type": "code",
   "execution_count": null,
   "id": "4af92083",
   "metadata": {
    "tags": [
     "plotly"
    ]
   },
   "outputs": [],
   "source": [
    "import plotly.io as pio\n",
    "template: str = 'plotly_dark' # set plotl template\n",
    "pio.templates.default = template\n",
    "from pyphoplacecellanalysis.SpecificResults.PendingNotebookCode import _helper_build_figure\n",
    "from pyphoplacecellanalysis.SpecificResults.PendingNotebookCode import plotly_pre_post_delta_scatter\n",
    "\n",
    "\n",
    "session_name: str = curr_active_pipeline.session_name\n",
    "earliest_delta_aligned_t_start, t_delta, latest_delta_aligned_t_end = curr_active_pipeline.find_LongShortDelta_times()\n",
    "histogram_bins = 25\n",
    "\n",
    "concatenated_ripple_df = deepcopy(df)\n",
    "\n",
    "# ripple_title_prefix = 'test'\n",
    "# # Create a bubble chart for ripples\n",
    "# ripple_num_unique_sessions: int = concatenated_ripple_df.session_name.nunique(dropna=True) # number of unique sessions, ignoring the NA entries\n",
    "# # ripple_num_unique_time_bins: int = concatenated_ripple_df.time_bin_size.nunique(dropna=True)\n",
    "# ripple_title_string_suffix: str = f'{ripple_num_unique_sessions} Sessions'\n",
    "# ripple_title: str = f\"{ripple_title_prefix} - {ripple_title_string_suffix}\"\n",
    "# fig_ripples = _helper_build_figure(data_results_df=concatenated_ripple_df, histogram_bins=histogram_bins, earliest_delta_aligned_t_start=earliest_delta_aligned_t_start, latest_delta_aligned_t_end=latest_delta_aligned_t_end, enabled_time_bin_sizes=None,\n",
    "#                                     main_plot_mode='separate_row_per_session', title=ripple_title)\n",
    "\n",
    "\n",
    "scatter_title = session_name\n",
    "variable_name = 'wcorr_abs_diff'\n",
    "px_scatter_kwargs = {'x': 'delta_aligned_start_t', 'y': variable_name, 'title': scatter_title, 'range_y': [0.0, 1.0], 'labels': {'session_name': 'Session', 'time_bin_size': 'tbin_size'}} # , 'color': 'time_bin_size'\n",
    "new_fig_ripples = plotly_pre_post_delta_scatter(data_results_df=deepcopy(concatenated_ripple_df), out_scatter_fig=None, histogram_bins=histogram_bins,\n",
    "                        px_scatter_kwargs=px_scatter_kwargs, histogram_variable_name=variable_name, forced_range_y=None,\n",
    "                        time_delta_tuple=(earliest_delta_aligned_t_start, t_delta, latest_delta_aligned_t_end))\n",
    "new_fig_ripples\n",
    "\n",
    "\n"
   ]
  },
  {
   "cell_type": "code",
   "execution_count": null,
   "id": "b66c1085",
   "metadata": {},
   "outputs": [],
   "source": [
    "# Shifts the absolute times to delta-relative values, as would be needed to draw on a 'delta_aligned_start_t' axis:\n",
    "delta_relative_t_start, delta_relative_t_delta, delta_relative_t_end = np.array([earliest_delta_aligned_t_start, t_delta, latest_delta_aligned_t_end]) - t_delta\n",
    "delta_relative_t_start, delta_relative_t_delta, delta_relative_t_end"
   ]
  },
  {
   "cell_type": "code",
   "execution_count": null,
   "id": "a15efda9",
   "metadata": {},
   "outputs": [],
   "source": [
    "df['_wcorr_y_col'] = df['long_best_wcorr'].abs()\n",
    "df['_wcorr_y_col_y_diff_col'] = df['long_best_wcorr'].abs() - df['short_best_wcorr'].abs()\n",
    "# df.plot.scatter(x='ripple_start_t', y='wcorr_y_col')\n",
    "df.plot.scatter(x='delta_aligned_start_t', y='_wcorr_y_col_y_diff_col')\n",
    "\n"
   ]
  },
  {
   "cell_type": "code",
   "execution_count": null,
   "id": "efad9881",
   "metadata": {},
   "outputs": [],
   "source": [
    "# df['pearsonr_long_abs'] = df['long_best_pf_peak_x_pearsonr'].abs()\n",
    "# df['pearsonr_short_abs'] = df['short_best_pf_peak_x_pearsonr'].abs()\n",
    "# df['pearsonr_diff'] = df['long_best_pf_peak_x_pearsonr'].abs() - df['short_best_pf_peak_x_pearsonr'].abs()\n",
    "\n",
    "# df.plot.scatter(x='delta_aligned_start_t', y='pearsonr_long_abs')\n",
    "# df.plot.scatter(x='delta_aligned_start_t', y='pearsonr_short_abs')\n",
    "df.plot.scatter(x='delta_aligned_start_t', y='pearsonr_abs_diff')\n",
    "\n",
    "\n"
   ]
  },
  {
   "cell_type": "code",
   "execution_count": null,
   "id": "3d810f4d",
   "metadata": {},
   "outputs": [],
   "source": [
    "ripple_weighted_corr_merged_df"
   ]
  },
  {
   "cell_type": "code",
   "execution_count": null,
   "id": "259e5348",
   "metadata": {},
   "outputs": [],
   "source": [
    "paginated_multi_decoder_decoded_epochs_window.debug_print = True"
   ]
  },
  {
   "cell_type": "markdown",
   "id": "cbec2cf5",
   "metadata": {},
   "source": [
    "### Add utility footer"
   ]
  },
  {
   "cell_type": "code",
   "execution_count": null,
   "id": "a5c30538",
   "metadata": {},
   "outputs": [],
   "source": [
    "from pyphoplacecellanalysis.GUI.PyQtPlot.DockingWidgets.DynamicDockDisplayAreaContent import CustomDockDisplayConfig, get_utility_dock_colors\n",
    "from pyphoplacecellanalysis.GUI.Qt.Widgets.ThinButtonBar.ThinButtonBarWidget import ThinButtonBarWidget\n",
    "\n",
    "ui = paginated_multi_decoder_decoded_epochs_window.ui._contents\n",
    "# ui.dock_widgets\n",
    "# ui.dock_configs\n",
    "\n",
    "\n",
    "## Build the utility controls at the bottom:\n",
    "ctrls_dock_config = CustomDockDisplayConfig(custom_get_colors_callback_fn=get_utility_dock_colors, showCloseButton=False)\n",
    "\n",
    "button_bar_height = 21\n",
    "ctrls_button_bar_widget = ThinButtonBarWidget()\n",
    "ctrls_button_bar_widget.setObjectName(\"ctrls_button_bar\")\n",
    "\n",
    "ctrl_layout = pg.LayoutWidget()\n",
    "ctrl_layout.addWidget(ctrls_button_bar_widget, row=1, rowspan=1, col=1, colspan=2)\n",
    "ctrl_widgets_dict = dict(ctrls_widget=ctrls_button_bar_widget)\n",
    "# ctrl_layout.setSizePolicy(\n",
    "\n",
    "def onCopySelectionsClicked():\n",
    "    print(f'onCopySelectionsClicked()')\n",
    "    saved_selections_contexts_dict = paginated_multi_decoder_decoded_epochs_window.print_user_annotations()\n",
    "\n",
    "ctrl_widgets_dict['copy_selection_connection'] = ctrls_button_bar_widget.sigCopySelections.connect(onCopySelectionsClicked)\n",
    "\n",
    "ui.dock_widgets['bottom_controls'] = paginated_multi_decoder_decoded_epochs_window.add_display_dock(identifier='bottom_controls', widget=ctrl_layout, dockSize=(600, button_bar_height), dockAddLocationOpts=['bottom'], display_config=ctrls_dock_config)\n",
    "ui.dock_widgets['bottom_controls'][1].hideTitleBar()\n",
    "ui.dock_widgets['bottom_controls']\n",
    "\n",
    "button_bar_height = 21\n",
    "\n",
    "a_layout = ui.dock_widgets['bottom_controls'][0]\n",
    "a_layout.size()\n",
    "a_layout.setContentsMargins(0,0,0,0)\n",
    "a_layout.setFixedHeight(21)\n",
    "ui.dock_widgets['bottom_controls'][1].size()\n",
    "ui.dock_widgets['bottom_controls'][1].setContentsMargins(0,0,0,0)\n",
    "# ui.dock_widgets['bottom_controls'][1].hideTitleBar()\n",
    "# ui.dock_widgets['bottom_controls'][1].size"
   ]
  },
  {
   "cell_type": "code",
   "execution_count": null,
   "id": "f8febb1b",
   "metadata": {},
   "outputs": [],
   "source": [
    "setMargin"
   ]
  },
  {
   "cell_type": "code",
   "execution_count": null,
   "id": "7694337c",
   "metadata": {},
   "outputs": [],
   "source": [
    "ui.dock_widgets['bottom_controls'][0].resize(600, 21)\n"
   ]
  },
  {
   "cell_type": "code",
   "execution_count": null,
   "id": "dc0fbe81",
   "metadata": {},
   "outputs": [],
   "source": [
    "paginated_multi_decoder_decoded_epochs_window.find_display_dock('bottom_controls')"
   ]
  },
  {
   "cell_type": "code",
   "execution_count": null,
   "id": "980ebc7b",
   "metadata": {},
   "outputs": [],
   "source": [
    "paginated_multi_decoder_decoded_epochs_window.remove_display_dock('bottom_controls')"
   ]
  },
  {
   "cell_type": "code",
   "execution_count": null,
   "id": "49c8fc70",
   "metadata": {},
   "outputs": [],
   "source": [
    "from neuropy.core.user_annotations import UserAnnotationsManager\n",
    "\n",
    "## Set epoch annotations from selections epochs \n",
    "annotations_man = UserAnnotationsManager()\n",
    "user_annotations = annotations_man.get_user_annotations()\n",
    "new_selections_dict = paginated_multi_decoder_decoded_epochs_window.restore_selections_from_user_annotations(user_annotations)\n"
   ]
  },
  {
   "cell_type": "code",
   "execution_count": null,
   "id": "598328f0",
   "metadata": {},
   "outputs": [],
   "source": [
    "loaded_selections_objs_dict = {a_name:EpochSelectionsObject(epoch_times=a_selections_values) for a_name, a_selections_values in loaded_selections_dict.items()}\n",
    "loaded_selections_objs_dict\n",
    "\n",
    "## Select just the selected epoch times\n"
   ]
  },
  {
   "cell_type": "code",
   "execution_count": null,
   "id": "be3025f8",
   "metadata": {},
   "outputs": [],
   "source": [
    "saved_selections_context_dict = {a_name:v.figure_ctx.adding_context_if_missing(user_annotation='selections') for a_name, v in saved_selections_dict.items()}"
   ]
  },
  {
   "cell_type": "code",
   "execution_count": null,
   "id": "4bf9035d",
   "metadata": {},
   "outputs": [],
   "source": [
    "user_annotations"
   ]
  },
  {
   "cell_type": "code",
   "execution_count": null,
   "id": "1d3c6f38",
   "metadata": {},
   "outputs": [],
   "source": [
    "paginated_multi_decoder_decoded_epochs_window.print_user_annotations()"
   ]
  },
  {
   "cell_type": "code",
   "execution_count": null,
   "id": "c02e5f31",
   "metadata": {},
   "outputs": [],
   "source": [
    "## Remove the excessively long plot titles?\n",
    "# root_dockAreaWindow.update\n",
    "pagination_controller_dict = paginated_multi_decoder_decoded_epochs_window.pagination_controllers\n",
    "all_widgets = {a_decoder_name:a_pagination_controller.ui.mw for a_decoder_name, a_pagination_controller in pagination_controller_dict.items()}\n",
    "all_windows = {a_decoder_name:a_pagination_controller.ui.mw.window() for a_decoder_name, a_pagination_controller in pagination_controller_dict.items()}\n",
    "all_separate_plots = {a_decoder_name:a_pagination_controller.plots for a_decoder_name, a_pagination_controller in pagination_controller_dict.items()}\n",
    "all_separate_plots_data = {a_decoder_name:a_pagination_controller.plots_data for a_decoder_name, a_pagination_controller in pagination_controller_dict.items()}\n",
    "all_separate_params = {a_decoder_name:a_pagination_controller.params for a_decoder_name, a_pagination_controller in pagination_controller_dict.items()}\n",
    "all_separate_current_page_idx = {a_decoder_name:a_pagination_controller.current_page_idx for a_decoder_name, a_pagination_controller in pagination_controller_dict.items()}\n",
    "all_separate_current_page_idx"
   ]
  },
  {
   "cell_type": "code",
   "execution_count": null,
   "id": "ed66e6b3",
   "metadata": {},
   "outputs": [],
   "source": [
    "# all_separate_plots\n",
    "\n",
    "all_separate_weighted_corr_plots = {a_decoder_name:a_pagination_controller.plots.get('weighted_corr', {}) for a_decoder_name, a_pagination_controller in pagination_controller_dict.items()}\n",
    "all_separate_weighted_corr_plots"
   ]
  },
  {
   "cell_type": "code",
   "execution_count": null,
   "id": "079b3c43",
   "metadata": {},
   "outputs": [],
   "source": [
    "self.ui.print = self.private_print # builtins.print # the print function to use"
   ]
  },
  {
   "cell_type": "code",
   "execution_count": null,
   "id": "8a025e62",
   "metadata": {},
   "outputs": [],
   "source": [
    "from neuropy.core.epoch import EpochsAccessor\n",
    "\n",
    "# MLM\n",
    "# {a_name:a_ctrlr.params.is_selected for a_name, a_ctrlr in root_dockAreaWindow.pagination_controllers.items()}\n",
    "# {a_name:a_ctrlr.selected_epoch_times for a_name, a_ctrlr in root_dockAreaWindow.pagination_controllers.items()}\n",
    "\n",
    "any_good_selected_epoch_times: NDArray = paginated_multi_decoder_decoded_epochs_window.any_good_selected_epoch_times # drops duplicate rows (present in multiple decoders), and sorts them ascending\n",
    "# any_good_selected_epoch_times\n",
    "# Only at the decoder-level\n",
    "any_good_epoch_idxs_list = [a_ctrlr.find_data_indicies_from_epoch_times(any_good_selected_epoch_times) for a_name, a_ctrlr in paginated_multi_decoder_decoded_epochs_window.pagination_controllers.items()]\n",
    "any_good_epoch_idxs: NDArray = any_good_epoch_idxs_list[0]\n",
    "any_good_epoch_idxs"
   ]
  },
  {
   "cell_type": "code",
   "execution_count": null,
   "id": "447760ac",
   "metadata": {},
   "outputs": [],
   "source": [
    "filtered_ripple_simple_pf_pearson_merged_df"
   ]
  },
  {
   "cell_type": "code",
   "execution_count": null,
   "id": "07e9d967",
   "metadata": {},
   "outputs": [],
   "source": [
    "\n",
    "# filtered_ripple_simple_pf_pearson_merged_df.epochs.find_data_indicies_from_epoch_times(any_good_selected_epoch_times)\n",
    "# filtered_ripple_simple_pf_pearson_merged_df.epochs.matching_epoch_times_slice(any_good_selected_epoch_times)\n",
    "\n",
    "found_data_indicies = filtered_ripple_simple_pf_pearson_merged_df.epochs.find_data_indicies_from_epoch_times(epoch_times=any_good_selected_epoch_times)\n",
    "df = filtered_ripple_simple_pf_pearson_merged_df.epochs._obj.iloc[found_data_indicies].copy().reset_index(drop=True)\n",
    "df"
   ]
  },
  {
   "cell_type": "code",
   "execution_count": null,
   "id": "6bdb4261",
   "metadata": {},
   "outputs": [],
   "source": [
    "filtered_ripple_simple_pf_pearson_merged_df\n"
   ]
  },
  {
   "cell_type": "code",
   "execution_count": null,
   "id": "4f3038ec",
   "metadata": {},
   "outputs": [],
   "source": [
    "hand_selected_ripple_simple_pf_pearson_merged_df = filtered_ripple_simple_pf_pearson_merged_df.iloc[any_good_epoch_idxs, :].reset_index(drop=True)\n",
    "hand_selected_ripple_simple_pf_pearson_merged_df"
   ]
  },
  {
   "cell_type": "code",
   "execution_count": null,
   "id": "1c11e5cc",
   "metadata": {},
   "outputs": [],
   "source": [
    "# hand_selected_ripple_simple_pf_pearson_merged_df['best_decoder_index']\n",
    "\n",
    "is_most_likely_long = (hand_selected_ripple_simple_pf_pearson_merged_df['P_Long'] >= 0.5)\n",
    "# is_most_likely_long\n",
    "\n",
    "long_likely_hand_selected_ripple_simple_pf_pearson_merged_df = hand_selected_ripple_simple_pf_pearson_merged_df[is_most_likely_long]\n",
    "long_likely_hand_selected_ripple_simple_pf_pearson_merged_df\n"
   ]
  },
  {
   "cell_type": "code",
   "execution_count": null,
   "id": "8889b81d",
   "metadata": {},
   "outputs": [],
   "source": [
    "_test_df.long_LR_pf_peak_x_pearsonr.hist()\n",
    "_test_df.long_RL_pf_peak_x_pearsonr.hist()\n",
    "_test_df.short_LR_pf_peak_x_pearsonr.hist()\n",
    "_test_df.short_RL_pf_peak_x_pearsonr.hist()"
   ]
  },
  {
   "cell_type": "markdown",
   "id": "5b74a550",
   "metadata": {},
   "source": [
    "## 🖼️🎨 Plot laps to compare between decoders:"
   ]
  },
  {
   "cell_type": "code",
   "execution_count": null,
   "id": "fff2b850",
   "metadata": {},
   "outputs": [],
   "source": [
    "laps_app, laps_paginated_multi_decoder_decoded_epochs_window, laps_pagination_controller_dict = PhoPaginatedMultiDecoderDecodedEpochsWindow.init_from_track_templates(curr_active_pipeline, track_templates, decoder_decoded_epochs_result_dict=decoder_laps_filter_epochs_decoder_result_dict, epochs_name='laps', included_epoch_indicies=None, \n",
    "                                                                                                                                                                      )\n",
    "\n",
    "laps_paginated_multi_decoder_decoded_epochs_window.add_data_overlays(decoder_laps_filter_epochs_decoder_result_dict, decoder_ripple_filter_epochs_decoder_result_dict)\n"
   ]
  },
  {
   "cell_type": "code",
   "execution_count": null,
   "id": "d010f6da",
   "metadata": {},
   "outputs": [],
   "source": [
    "filtered_ripple_simple_pf_pearson_merged_df"
   ]
  },
  {
   "cell_type": "code",
   "execution_count": null,
   "id": "95d9a7e5",
   "metadata": {},
   "outputs": [],
   "source": [
    "decoder_laps_filter_epochs_decoder_result_dict"
   ]
  },
  {
   "cell_type": "code",
   "execution_count": null,
   "id": "6d55fdf6",
   "metadata": {},
   "outputs": [],
   "source": [
    "# list(decoder_laps_filter_epochs_decoder_result_dict.keys())\n",
    "decoder_laps_filter_epochs_decoder_result_dict['long_LR'].filter_epochs"
   ]
  },
  {
   "cell_type": "code",
   "execution_count": null,
   "id": "555deda3",
   "metadata": {},
   "outputs": [],
   "source": [
    "## Get the figure from the axes:\n",
    "a_fig = ax.get_figure()\n",
    "a_fig.canvas.draw()"
   ]
  },
  {
   "cell_type": "code",
   "execution_count": null,
   "id": "2d0e35ef",
   "metadata": {},
   "outputs": [],
   "source": [
    "a_controlling_pagination_controller = laps_paginated_multi_decoder_decoded_epochs_window.contents.pagination_controllers['long_LR'] # DecodedEpochSlicesPaginatedFigureController\n",
    "a_pagination_controller_figure_widget = paginator_controller_widget = a_controlling_pagination_controller.ui.mw # MatplotlibTimeSynchronizedWidget\n",
    "paginator_controller_widget = a_controlling_pagination_controller.ui.mw.ui.paginator_controller_widget # PaginationControlWidget\n",
    "# paginator_controller_widget\n",
    "a_pagination_controller_figure_widget.draw()"
   ]
  },
  {
   "cell_type": "code",
   "execution_count": null,
   "id": "22b08ec3",
   "metadata": {},
   "outputs": [],
   "source": [
    "axs = a_controlling_pagination_controller.plots.axs"
   ]
  },
  {
   "cell_type": "code",
   "execution_count": null,
   "id": "550263ae",
   "metadata": {},
   "outputs": [],
   "source": [
    "ax.get_figure().canvas.draw()\n"
   ]
  },
  {
   "cell_type": "code",
   "execution_count": null,
   "id": "e04143f3",
   "metadata": {},
   "outputs": [],
   "source": [
    "selection_rectangles_dict = a_controlling_pagination_controller.plots.get('selection_rectangles_dict', None)\n",
    "selection_rectangles_dict\n"
   ]
  },
  {
   "cell_type": "code",
   "execution_count": null,
   "id": "34ebee56",
   "metadata": {},
   "outputs": [],
   "source": [
    "ax_pos.x1"
   ]
  },
  {
   "cell_type": "code",
   "execution_count": null,
   "id": "6770c31c",
   "metadata": {},
   "outputs": [],
   "source": [
    "rectangle.remove()"
   ]
  },
  {
   "cell_type": "code",
   "execution_count": null,
   "id": "c6a2276f",
   "metadata": {},
   "outputs": [],
   "source": [
    "# a_controlling_pagination_controller.plots.fig.canvas.draw_idle()\n",
    "# a_controlling_pagination_controller.plots.fig.canvas.draw()\n",
    "# paginator_controller_widget.update()\n",
    "a_pagination_controller_figure_widget.draw()"
   ]
  },
  {
   "cell_type": "code",
   "execution_count": null,
   "id": "f4eeedfe",
   "metadata": {},
   "outputs": [],
   "source": [
    "\n",
    "a_controlling_pagination_controller.params.is_selected\n"
   ]
  },
  {
   "cell_type": "code",
   "execution_count": null,
   "id": "fc424c9e",
   "metadata": {},
   "outputs": [],
   "source": [
    "paginator_controller_widget.go_to_page(3)\n",
    "# paginator_controller_widget.jump_to_page(3)"
   ]
  },
  {
   "cell_type": "code",
   "execution_count": null,
   "id": "c1f7aaa6",
   "metadata": {},
   "outputs": [],
   "source": [
    "a_controlling_pagination_controller.ui.mw.ui.paginator_controller_widget.jump_to_page\n",
    "\n",
    "new_obj.plots_data.paginator\n",
    "new_obj.params.active_identifying_figure_ctx\n",
    "new_obj.on_paginator_control_widget_jump_to_page(page_idx=0)\n",
    "new_obj.ui.connections['paginator_controller_widget_jump_to_page']\n"
   ]
  },
  {
   "cell_type": "code",
   "execution_count": null,
   "id": "6ae4154a",
   "metadata": {},
   "outputs": [],
   "source": [
    "for i, extant_plots in a_plots['weighted_corr'].items():\n",
    "    extant_wcorr_text = extant_plots.get('wcorr_text', None)\n",
    "    # extant_wcorr_text = extant_plots.pop('wcorr_text', None)\n",
    "    print(f'extant_wcorr_text: {extant_wcorr_text}')\n",
    "    # plot the radon transform line on the epoch:\n",
    "    if (extant_wcorr_text is not None):\n",
    "        # already exists, clear the existing ones. \n",
    "        # Let's assume we want to remove the 'Quadratic' line (line2)\n",
    "        print(f'removing extant text object at index: {i}.')\n",
    "        # extant_wcorr_text.remove()\n",
    "        extant_wcorr_text.remove()"
   ]
  },
  {
   "cell_type": "code",
   "execution_count": null,
   "id": "1b8b07f8",
   "metadata": {},
   "outputs": [],
   "source": [
    "for a_name, a_pagination_controller in pagination_controller_dict.items():\n",
    "    display_context = a_pagination_controller.params.get('active_identifying_figure_ctx', IdentifyingContext())\n",
    "\n",
    "    # Get context for current page of items:\n",
    "    current_page_idx: int = int(a_pagination_controller.current_page_idx)\n",
    "    a_paginator = a_pagination_controller.paginator\n",
    "    total_num_pages = int(a_paginator.num_pages)\n",
    "    page_context = display_context.overwriting_context(page=current_page_idx, num_pages=total_num_pages)\n",
    "    print(page_context)\n",
    "\n",
    "    ## Get the figure/axes:\n",
    "    a_plots = a_pagination_controller.plots # RenderPlots\n",
    "    a_plot_data = a_pagination_controller.plots_data\n",
    "\n",
    "    a_params = a_pagination_controller.params\n",
    "    a_params.skip_plotting_measured_positions\n",
    "\n",
    "    figs = a_plots.fig\n",
    "    axs = a_plots.axs\n",
    "\n",
    "    # # with mpl.rc_context({'figure.figsize': (8.4, 4.8), 'figure.dpi': '220', 'savefig.transparent': True, 'ps.fonttype': 42, }):\n",
    "    # with mpl.rc_context({'figure.figsize': (16.8, 4.8), 'figure.dpi': '420', 'savefig.transparent': True, 'ps.fonttype': 42, }):\n",
    "    #     curr_active_pipeline.output_figure(final_context=page_context, fig=figs, write_vector_format=True)"
   ]
  },
  {
   "cell_type": "markdown",
   "id": "99d7aca6",
   "metadata": {},
   "source": [
    "## 💾 Export Paginated Content"
   ]
  },
  {
   "cell_type": "code",
   "execution_count": null,
   "id": "ea9af762",
   "metadata": {},
   "outputs": [],
   "source": [
    "paginated_multi_decoder_decoded_epochs_window.export_all_pages(curr_active_pipeline)"
   ]
  },
  {
   "cell_type": "code",
   "execution_count": null,
   "id": "70d64bec",
   "metadata": {},
   "outputs": [],
   "source": [
    "paginated_multi_decoder_decoded_epochs_window.export_decoder_pagination_controller_figure_page(curr_active_pipeline)"
   ]
  },
  {
   "cell_type": "markdown",
   "id": "4c333bbf",
   "metadata": {},
   "source": [
    "## 🔷🎨 Single Decoder Version (`DecodedEpochSlicesPaginatedFigureController`)"
   ]
  },
  {
   "cell_type": "code",
   "execution_count": null,
   "id": "0a9f6555",
   "metadata": {},
   "outputs": [],
   "source": [
    "from pyphoplacecellanalysis.General.Pipeline.Stages.DisplayFunctions.DecoderPredictionError import plot_1D_most_likely_position_comparsions\n",
    "from pyphoplacecellanalysis.General.Pipeline.Stages.DisplayFunctions.DecoderPredictionError import _subfn_update_decoded_epoch_slices\n",
    "from pyphoplacecellanalysis.Pho2D.stacked_epoch_slices import DecodedEpochSlicesPaginatedFigureController # `plot_decoded_epoch_slices_paginated`\n",
    "from pyphoplacecellanalysis.General.Pipeline.Stages.DisplayFunctions.DecoderPredictionError import WeightedCorrelationPaginatedPlotDataProvider\n",
    "from pyphoplacecellanalysis.General.Pipeline.Stages.DisplayFunctions.DecoderPredictionError import DecodedPositionsPlotDataProvider, DecodedAndActualPositionsPlotData\n",
    "from pyphoplacecellanalysis.General.Pipeline.Stages.DisplayFunctions.DecoderPredictionError import perform_plot_1D_single_most_likely_position_curve\n",
    "\n",
    "# Inputs: epochs_name, decoder_ripple_filter_epochs_decoder_result_dict, curr_active_pipeline\n",
    "epochs_name = 'ripple'\n",
    "\n",
    "(a_name, a_decoder) = tuple(track_templates.get_decoders_dict().items())[-1]\n",
    "\n",
    "# a_decoder_decoded_epochs_result = decoder_ripple_filter_epochs_decoder_result_dict[a_name]\n",
    "\n",
    "# a_decoder_decoded_epochs_result = decoder_ripple_filter_epochs_decoder_result_dict[a_name]\n",
    "a_decoder_decoded_epochs_result = deepcopy(filtered_decoder_filter_epochs_decoder_result_dict[a_name]) ## FILTERED\n",
    "\n",
    "_out_pagination_controller = DecodedEpochSlicesPaginatedFigureController.init_from_decoder_data(a_decoder_decoded_epochs_result.filter_epochs,\n",
    "                                                                                    a_decoder_decoded_epochs_result,\n",
    "                                                                                    xbin=a_decoder.xbin, global_pos_df=curr_active_pipeline.sess.position.df,\n",
    "                                                                                    a_name=f'DecodedEpochSlices[{a_name}]', active_context=curr_active_pipeline.build_display_context_for_session(display_fn_name='DecodedEpochSlices', epochs=epochs_name, decoder=a_name),\n",
    "                                                                                    max_subplots_per_page=8,\n",
    "                                                                                    params_kwargs={'skip_plotting_most_likely_positions': True, 'skip_plotting_measured_positions': True, 'enable_per_epoch_action_buttons': False,\n",
    "                                                                                                    'enable_decoded_most_likely_position_curve': True, #'enable_radon_transform_info': True, 'enable_weighted_correlation_info': True,\n",
    "                                                                                                    'enable_radon_transform_info': False, 'enable_weighted_correlation_info': False,\n",
    "                                                                                                    # 'disable_y_label': True,\n",
    "                                                                                                    'isPaginatorControlWidgetBackedMode': True,\n",
    "                                                                                                    'enable_update_window_title_on_page_change': False, 'build_internal_callbacks': True,\n",
    "                                                                                                    # 'debug_print': True,\n",
    "                                                                                                    'max_subplots_per_page': 8,\n",
    "                                                                                                    'scrollable_figure': True,\n",
    "                                                                                                    # 'posterior_heatmap_imshow_kwargs': dict(vmin=0.0075),\n",
    "                                                                                                    'use_AnchoredCustomText': True,\n",
    "                                                                                                    'disable_toolbar': False,\n",
    "                                                                                    }, \n",
    "                                                                                    # disable_toolbar=False\n",
    "                                                                                    )\n",
    "\n",
    "_out_pagination_controller.params.should_suppress_callback_exceptions = False\n",
    "_out_pagination_controller.add_data_overlays(a_decoder_decoded_epochs_result)\n",
    "_tmp_out_selections = _out_pagination_controller.restore_selections_from_user_annotations()"
   ]
  },
  {
   "cell_type": "code",
   "execution_count": null,
   "id": "cf2718e5",
   "metadata": {},
   "outputs": [],
   "source": [
    "fig = _out_pagination_controller.plots.fig\n",
    "# fig.toolbar\n",
    "\n"
   ]
  },
  {
   "cell_type": "code",
   "execution_count": null,
   "id": "9246a36a",
   "metadata": {},
   "outputs": [],
   "source": [
    "# type(_out_pagination_controller)\n",
    "\n",
    "_out_pagination_controller.plot_widget._buildUI_setup_statusbar()"
   ]
  },
  {
   "cell_type": "code",
   "execution_count": null,
   "id": "a44e5a1f",
   "metadata": {},
   "outputs": [],
   "source": [
    "ax = _out_pagination_controller.plots.axs[0]\n",
    "ax"
   ]
  },
  {
   "cell_type": "code",
   "execution_count": null,
   "id": "02b6299d",
   "metadata": {},
   "outputs": [],
   "source": [
    "ax.format_coord"
   ]
  },
  {
   "cell_type": "code",
   "execution_count": null,
   "id": "2cb18b73",
   "metadata": {},
   "outputs": [],
   "source": [
    "\n",
    "\n",
    "def format_coord(x, y):\n",
    "    col = round(x)\n",
    "    row = round(y)\n",
    "    nrows, ncols = X.shape\n",
    "    if 0 <= col < ncols and 0 <= row < nrows:\n",
    "        z = X[row, col]\n",
    "        return f'x={x:1.4f}, y={y:1.4f}, z={z:1.4f}'\n",
    "    else:\n",
    "        return f'x={x:1.4f}, y={y:1.4f}'\n",
    "\n",
    "\n",
    "ax.format_coord = format_coord\n"
   ]
  },
  {
   "cell_type": "code",
   "execution_count": null,
   "id": "d3d10457",
   "metadata": {},
   "outputs": [],
   "source": [
    "# _out_pagination_controller.plot_widget.setStatusTip('LONG STATUS TIP TEST')\n",
    "\n",
    "_out_pagination_controller.plot_widget.update_status('LONG STATUS TIP TEST')\n"
   ]
  },
  {
   "cell_type": "code",
   "execution_count": null,
   "id": "33947eb0",
   "metadata": {},
   "outputs": [],
   "source": [
    "_out_pagination_controller.plot_widget.window().window()"
   ]
  },
  {
   "cell_type": "code",
   "execution_count": null,
   "id": "ceca8d49",
   "metadata": {},
   "outputs": [],
   "source": [
    "_out_pagination_controller.remove_"
   ]
  },
  {
   "cell_type": "code",
   "execution_count": null,
   "id": "b8938d3d",
   "metadata": {},
   "outputs": [],
   "source": [
    "# _out_pagination_controller.plots.radon_transform\n",
    "fig = _out_pagination_controller.plots.fig\n",
    "\n",
    "# plt.subplots_adjust(left=0.15, right=0.85, top=0.9, bottom=0.1)\n",
    "# Adjust the margins using subplots_adjust\n",
    "fig.subplots_adjust(left=0.15, right=0.85, bottom=0.15, top=0.85)\n",
    "\n",
    "# Adjust the margins using the Figure object\n",
    "# fig.set_tight_layout(dict(rect=[0.1, 0.2, 0.8, 0.8]))\n",
    "# fig.tight_layout(dict(rect=[0.1, 0.2, 0.8, 0.8]))\n",
    "# fig.tight_layout(pad=1.0, rect=[0.1, 0.1, 0.8, 0.8])\n",
    "_out_pagination_controller.draw()"
   ]
  },
  {
   "cell_type": "code",
   "execution_count": null,
   "id": "595c237c",
   "metadata": {},
   "outputs": [],
   "source": [
    "bbox.po"
   ]
  },
  {
   "cell_type": "code",
   "execution_count": null,
   "id": "c7277d44",
   "metadata": {},
   "outputs": [],
   "source": [
    "a_widget = _out_pagination_controller.ui.mw.window()\n",
    "destop_w = a_widget.app.desktop()\n",
    "destop_w\n",
    "\n"
   ]
  },
  {
   "cell_type": "code",
   "execution_count": null,
   "id": "ee8cfb81",
   "metadata": {},
   "outputs": [],
   "source": [
    "single_page_app.desktop()"
   ]
  },
  {
   "cell_type": "code",
   "execution_count": null,
   "id": "0d4c28fc",
   "metadata": {},
   "outputs": [],
   "source": [
    "# assert screen_index <= (destop_w.screenCount()-1), f\"specified screen_index screen_index: {screen_index} is invalid. widget.screenCount(): {destop_w.screenCount()}\"\n",
    "desktopRect = destop_w.screenGeometry(screen_index) # get screen geometry of secondary screen. PyQt5.QtCore.QRect(-3440, 0, 3440, 1440)\n"
   ]
  },
  {
   "cell_type": "code",
   "execution_count": null,
   "id": "60deda0e",
   "metadata": {},
   "outputs": [],
   "source": [
    "(a_name, a_decoder) = tuple(track_templates.get_decoders_dict().items())[0]\n",
    "a_name"
   ]
  },
  {
   "cell_type": "markdown",
   "id": "45fd5590",
   "metadata": {},
   "source": [
    "## 🔷🎨 2024-03-06 - Uni Page Scrollable Version"
   ]
  },
  {
   "cell_type": "code",
   "execution_count": null,
   "id": "6f092cf0",
   "metadata": {},
   "outputs": [],
   "source": [
    "# decoder_decoded_epochs_result_dict: generic\n",
    "single_page_app, single_page_paginated_multi_decoder_decoded_epochs_window, single_page_pagination_controller_dict = PhoPaginatedMultiDecoderDecodedEpochsWindow.init_from_track_templates(curr_active_pipeline, track_templates,\n",
    "                                                                                                decoder_decoded_epochs_result_dict=decoder_ripple_filter_epochs_decoder_result_dict, epochs_name='ripple',\n",
    "                                                                                                included_epoch_indicies=None, debug_print=False,\n",
    "                                                                                                params_kwargs={'skip_plotting_most_likely_positions': False, 'enable_per_epoch_action_buttons': False,\n",
    "                                                                                                               'enable_radon_transform_info': False, 'enable_weighted_correlation_info': True,\n",
    "                                                                                                                # 'enable_radon_transform_info': False, 'enable_weighted_correlation_info': False,\n",
    "                                                                                                                # 'disable_y_label': True,\n",
    "                                                                                                                'isPaginatorControlWidgetBackedMode': True,\n",
    "                                                                                                                'enable_update_window_title_on_page_change': False, 'build_internal_callbacks': True,\n",
    "                                                                                                                # 'debug_print': True,\n",
    "                                                                                                                'max_subplots_per_page': 64,\n",
    "                                                                                                                'scrollable_figure': True,\n",
    "                                                                                                                })\n",
    "single_page_paginated_multi_decoder_decoded_epochs_window.add_data_overlays(decoder_laps_filter_epochs_decoder_result_dict, decoder_ripple_filter_epochs_decoder_result_dict)\n",
    "_tmp_out_selections = single_page_paginated_multi_decoder_decoded_epochs_window.restore_selections_from_user_annotations()"
   ]
  },
  {
   "cell_type": "code",
   "execution_count": null,
   "id": "2cd6d574",
   "metadata": {},
   "outputs": [],
   "source": [
    "# for curr_results_obj: LeaveOneOutDecodingAnalysisResult object\n",
    "num_filter_epochs:int = curr_results_obj.active_filter_epochs.n_epochs\n",
    "\n",
    "# `active_filter_epochs_df` native columns approach\n",
    "active_filter_epochs_df = curr_results_obj.active_filter_epochs.to_dataframe().copy()\n",
    "assert np.isin(['score', 'velocity', 'intercept', 'speed'], active_filter_epochs_df.columns).all()\n",
    "epochs_linear_fit_df = active_filter_epochs_df[['score', 'velocity', 'intercept', 'speed']].copy() # get the `epochs_linear_fit_df` as a subset of the filter epochs df\n",
    "# epochs_linear_fit_df approach\n",
    "assert curr_results_obj.all_included_filter_epochs_decoder_result.num_filter_epochs == np.shape(epochs_linear_fit_df)[0]\n",
    "\n",
    "num_filter_epochs:int = curr_results_obj.all_included_filter_epochs_decoder_result.num_filter_epochs # curr_results_obj.num_filter_epochs\n",
    "try:\n",
    "    time_bin_containers: List[BinningContainer] = deepcopy(curr_results_obj.time_bin_containers)\n",
    "except AttributeError as e:\n",
    "    # AttributeError: 'LeaveOneOutDecodingAnalysisResult' object has no attribute 'time_bin_containers' is expected when `curr_results_obj: LeaveOneOutDecodingAnalysisResult - for Long/Short plotting`\n",
    "    time_bin_containers: List[BinningContainer] = deepcopy(curr_results_obj.all_included_filter_epochs_decoder_result.time_bin_containers) # for curr_results_obj: LeaveOneOutDecodingAnalysisResult - for Long/Short plotting\n",
    "\n",
    "radon_transform_data = RadonTransformPlotDataProvider._subfn_build_radon_transform_plotting_data(active_filter_epochs_df=active_filter_epochs_df,\n",
    "            num_filter_epochs = num_filter_epochs, time_bin_containers = time_bin_containers, radon_transform_column_names=['score', 'velocity', 'intercept', 'speed'])\n",
    "    "
   ]
  },
  {
   "cell_type": "code",
   "execution_count": null,
   "id": "b415ad74",
   "metadata": {},
   "outputs": [],
   "source": [
    "paginated_multi_decoder_decoded_epochs_window.export"
   ]
  },
  {
   "cell_type": "code",
   "execution_count": null,
   "id": "e20525cf",
   "metadata": {},
   "outputs": [],
   "source": [
    "# _display_long_and_short_stacked_epoch_slices\n",
    "curr_active_pipeline.reload_default_display_functions()\n",
    "_out_dict = curr_active_pipeline.display('_display_long_and_short_stacked_epoch_slices', save_figure=True)"
   ]
  },
  {
   "cell_type": "markdown",
   "id": "190122f0",
   "metadata": {},
   "source": [
    "## Other:"
   ]
  },
  {
   "cell_type": "code",
   "execution_count": null,
   "id": "c6eed0d9",
   "metadata": {},
   "outputs": [],
   "source": [
    "_out = _out_pagination_controller.plots['radon_transform'][7]\n",
    "extant_line = _out['line'] # matplotlib.lines.Line2D\n",
    "extant_line.linestyle = 'none'\n",
    "# extant_line.draw()\n",
    "\n"
   ]
  },
  {
   "cell_type": "code",
   "execution_count": null,
   "id": "82687641",
   "metadata": {},
   "outputs": [],
   "source": [
    "print(list(curr_active_pipeline.filtered_contexts.keys())) # ['maze1_odd', 'maze2_odd', 'maze_odd', 'maze1_even', 'maze2_even', 'maze_even', 'maze1_any', 'maze2_any', 'maze_any']\n",
    "\n",
    "\n",
    "# long_any_name\n",
    "\n",
    "# long_LR_name\n",
    "\n",
    "# Converting between decoder names and filtered epoch names:\n",
    "{'long':'maze1', 'short':'maze2'}\n",
    "{'LR':'odd', 'RL':'even'}\n",
    "\n",
    "\n",
    "\n",
    "\n",
    "decoder_name_to_session_context_name = dict(zip(track_templates.get_decoder_names(), (long_LR_name, long_RL_name, short_LR_name, short_RL_name)))\n",
    "decoder_name_to_session_context_name"
   ]
  },
  {
   "cell_type": "code",
   "execution_count": null,
   "id": "04abcb37",
   "metadata": {},
   "outputs": [],
   "source": [
    "active_num_slices: int = _out_pagination_controller.params.active_num_slices\n",
    "single_plot_fixed_height: float = _out_pagination_controller.params.single_plot_fixed_height\n",
    "all_plots_height: float = _out_pagination_controller.params.all_plots_height\n",
    "print(f'all_plots_height: {all_plots_height}')"
   ]
  },
  {
   "cell_type": "code",
   "execution_count": null,
   "id": "b35377e6",
   "metadata": {},
   "outputs": [],
   "source": [
    "laps_weighted_corr_merged_df"
   ]
  },
  {
   "cell_type": "code",
   "execution_count": null,
   "id": "8dcef848",
   "metadata": {},
   "outputs": [],
   "source": [
    "from PendingNotebookCode import _add_maze_id_to_epochs\n",
    "\n",
    "\n",
    "## Add new weighted correlation results as new columns in existing filter_epochs df:\n",
    "active_filter_epochs = long_results_obj.active_filter_epochs\n",
    "# Add the maze_id to the active_filter_epochs so we can see how properties change as a function of which track the replay event occured on:\n",
    "active_filter_epochs = _add_maze_id_to_epochs(active_filter_epochs, short_session.t_start)\n",
    "active_filter_epochs._df['weighted_corr_LONG'] = epoch_long_weighted_corr_results[:,0]\n",
    "active_filter_epochs._df['weighted_corr_SHORT'] = epoch_short_weighted_corr_results[:,0]\n",
    "active_filter_epochs._df['weighted_corr_spearman_LONG'] = epoch_long_weighted_corr_results[:,1]\n",
    "active_filter_epochs._df['weighted_corr_spearman_SHORT'] = epoch_short_weighted_corr_results[:,1]\n",
    "\n",
    "\n",
    "active_filter_epochs\n",
    "active_filter_epochs.to_dataframe()\n",
    "## plot the `weighted_corr_LONG` over time\n",
    "\n",
    "# fig, axes = plt.subplots(ncols=1, nrows=active_num_rows, sharex=True, sharey=sharey, figsize=figsize)\n",
    "\n",
    "## Weighted Correlation during replay epochs:\n",
    "_out_ax = active_filter_epochs._df.plot.scatter(x='start', y='weighted_corr_LONG', title='weighted_corr during replay events', marker=\"s\",  s=5, label=f'Long', alpha=0.8)\n",
    "active_filter_epochs._df.plot.scatter(x='start', y='weighted_corr_SHORT', xlabel='Replay Epoch Time', ylabel='Weighted Correlation', ax=_out_ax, marker=\"s\", c='r', s=5, label=f'Short', alpha=0.8)\n",
    "_out_ax.axhline(y=0.0, linewidth=1, color='k') # the y=0.0 line\n",
    "## Weighted Spearman Correlation during replay epochs:\n",
    "_out_ax = active_filter_epochs._df.plot.scatter(x='start', y='weighted_corr_spearman_LONG', title='weighted_spearman_corr during replay events', marker=\"s\",  s=5, label=f'Long', alpha=0.8)\n",
    "active_filter_epochs._df.plot.scatter(x='start', y='weighted_corr_spearman_SHORT', xlabel='Replay Epoch Time', ylabel='Weighted Spearman Correlation', ax=_out_ax, marker=\"s\", c='r', s=5, label=f'Short', alpha=0.8)\n",
    "_out_ax.axhline(y=0.0, linewidth=1, color='k') # the y=0.0 line\n",
    "_out_ax = active_filter_epochs._df.plot.scatter(x='start', y='score_LONG', title='Radon Transform Score during replay events', marker=\"s\",  s=5, label=f'Long', alpha=0.8)\n",
    "active_filter_epochs._df.plot.scatter(x='start', y='score_SHORT', xlabel='Replay Epoch Time', ylabel='Replay Radon Transform Score', ax=_out_ax, marker=\"s\", c='r', s=5, label=f'Short', alpha=0.8)\n",
    "_out_ax.axhline(y=0.0, linewidth=1, color='k') # the y=0.0 line\n"
   ]
  },
  {
   "cell_type": "code",
   "execution_count": null,
   "id": "63d56479",
   "metadata": {},
   "outputs": [],
   "source": [
    "curr_active_pipeline.reload_default_display_functions()\n",
    "example_stacked_epoch_graphics = curr_active_pipeline.display('_display_long_and_short_stacked_epoch_slices', defer_render=False, save_figure=False)\n"
   ]
  },
  {
   "cell_type": "markdown",
   "id": "e05a739e",
   "metadata": {},
   "source": [
    "# 2024-02-13 - Plot the correlation between the Radon score and the decoder certainty for each epoch"
   ]
  },
  {
   "cell_type": "markdown",
   "id": "3e028231",
   "metadata": {},
   "source": [
    "### Decoder confidence is how far away the value is from 0.5. A value of 0.5 indicates no bias towards long or short, and should recieve a value of zero. Bias in either direction (towards 1.0 or 0.0) should recieve a increasing certainty value. "
   ]
  },
  {
   "cell_type": "markdown",
   "id": "6549853f",
   "metadata": {},
   "source": [
    "This is most easily accomplished by shifting the values towards zero and applying an absolute value function. "
   ]
  },
  {
   "cell_type": "code",
   "execution_count": null,
   "id": "61c080b5",
   "metadata": {},
   "outputs": [],
   "source": [
    "ripple_is_most_likely_direction_LR_dir"
   ]
  },
  {
   "cell_type": "code",
   "execution_count": null,
   "id": "06eff559",
   "metadata": {},
   "outputs": [],
   "source": [
    "# laps_all_epoch_bins_marginals_df\n",
    "rescaled_P_Long = np.abs(((ripple_all_epoch_bins_marginals_df['P_Long'] - 0.5) * 2))\n",
    "rescaled_P_Long"
   ]
  },
  {
   "cell_type": "code",
   "execution_count": null,
   "id": "0565c029",
   "metadata": {},
   "outputs": [],
   "source": [
    "## Get radon scores:\n",
    "ripple_radon_transform_merged_df"
   ]
  },
  {
   "cell_type": "markdown",
   "id": "35eb1abb",
   "metadata": {
    "tags": [
     "writing"
    ]
   },
   "source": [
    "# 2024-02-15 - Do simple spike-t vs. template pf peak correlation like Kamran suggested this morning\n",
    "\n",
    "Replays can be of trajectories on either the current track configuration or on a temporally distant one (such as a trajectory on the long track after the track has been shortened). \n",
    "The goal of the decoder scoring methods are to evaluate how likely each decoder was. This means for each Epoch we obtain a score for all four decoders: Long_LR, Long_RL, Short_LR, Short_RL\n",
    "\n",
    "#### `posterior decoder likelihoods` - This scoring method produces a probability that the\n",
    "\n",
    "#### Radon Transform - TODO\n",
    "\n",
    "#### `compute_simple_spike_time_v_pf_peak_x_by_epoch` - This epoch scoring metric plots the placefield peak x position against the time in seconds of each spike relative to the start of the epoch. \n",
    "\n"
   ]
  },
  {
   "cell_type": "markdown",
   "id": "21de4ac7",
   "metadata": {},
   "source": [
    "## TODO 2024-02-15 8pm - Add in to previous result:"
   ]
  },
  {
   "cell_type": "code",
   "execution_count": null,
   "id": "3f0ba47c",
   "metadata": {},
   "outputs": [],
   "source": [
    "# (laps_radon_transform_merged_df, ripple_radon_transform_merged_df, laps_weighted_corr_merged_df, ripple_weighted_corr_merged_df)\n",
    "# (laps_radon_transform_merged_df, ripple_radon_transform_merged_df, laps_weighted_corr_merged_df, ripple_weighted_corr_merged_df)\n",
    "laps_simple_pf_pearson_merged_df\n",
    "# laps_radon_transform_merged_df"
   ]
  },
  {
   "cell_type": "code",
   "execution_count": null,
   "id": "8d54c6f9",
   "metadata": {},
   "outputs": [],
   "source": [
    "_test_laps_df: pd.DataFrame = laps_weighted_corr_merged_df.rename(columns={'best_decoder_index':'wcorr_best_decoder_index'}).join(laps_simple_pf_pearson_merged_df.rename(columns={'best_decoder_index':'pearsonr_best_decoder_index'})) # , lsuffix='__L'\n",
    "_test_ripple_df: pd.DataFrame = ripple_weighted_corr_merged_df.rename(columns={'best_decoder_index':'wcorr_best_decoder_index'}).join(ripple_simple_pf_pearson_merged_df.rename(columns={'best_decoder_index':'pearsonr_best_decoder_index'}))\n"
   ]
  },
  {
   "cell_type": "code",
   "execution_count": null,
   "id": "34c31abc",
   "metadata": {},
   "outputs": [],
   "source": [
    "_test_df = _test_ripple_df.copy()"
   ]
  },
  {
   "cell_type": "code",
   "execution_count": null,
   "id": "332caab7",
   "metadata": {},
   "outputs": [],
   "source": [
    "# _test_df.pearsonr_best_decoder_index.hist()\n",
    "\n",
    "_test_df.long_LR_pf_peak_x_pearsonr.hist()\n",
    "_test_df.long_RL_pf_peak_x_pearsonr.hist()\n",
    "_test_df.short_LR_pf_peak_x_pearsonr.hist()\n",
    "_test_df.short_RL_pf_peak_x_pearsonr.hist()\n"
   ]
  },
  {
   "cell_type": "code",
   "execution_count": null,
   "id": "f502f026",
   "metadata": {},
   "outputs": [],
   "source": [
    "_test_df[corr_column_names].abs().mean(axis='rows')"
   ]
  },
  {
   "cell_type": "code",
   "execution_count": null,
   "id": "db2dd8e2",
   "metadata": {},
   "outputs": [],
   "source": [
    "laps_radon_transform_merged_df"
   ]
  },
  {
   "cell_type": "code",
   "execution_count": null,
   "id": "b8b694aa",
   "metadata": {},
   "outputs": [],
   "source": [
    "## count up the number that the RadonTransform and the most-likely direction agree\n",
    "# laps_simple_pf_pearson_stats = _compute_matching_best_indicies(_test_laps_df, index_column_name='most_likely_decoder_index', second_index_column_name='pearsonr_best_decoder_index', enable_print=True)\n",
    "# ripple_simple_pf_pearson_stats = _compute_matching_best_indicies(_test_ripple_df, index_column_name='most_likely_decoder_index', second_index_column_name='pearsonr_best_decoder_index', enable_print=True)\n",
    "\n",
    "laps_simple_pf_pearson_stats = _compute_matching_best_indicies(laps_simple_pf_pearson_merged_df.rename(columns={'best_decoder_index':'pearsonr_best_decoder_index'}), index_column_name='most_likely_decoder_index', second_index_column_name='pearsonr_best_decoder_index', enable_print=True)\n",
    "# ripple_simple_pf_pearson_stats = _compute_matching_best_indicies(_test_ripple_df, index_column_name='most_likely_decoder_index', second_index_column_name='pearsonr_best_decoder_index', enable_print=True)\n",
    "laps_simple_pf_pearson_stats\n",
    "\n",
    "# laps_simple_pf_pearson_stats = _compute_matching_best_indicies(laps_weighted_corr_merged_df.rename(columns={'best_decoder_index':'wcorr_best_decoder_index'}).join(laps_simple_pf_pearson_merged_df.rename(columns={'best_decoder_index':'pearsonr_best_decoder_index'})), index_column_name='most_likely_decoder_index', second_index_column_name='pearsonr_best_decoder_index', enable_print=True)\n",
    "# agreeing_rows_ratio, (agreeing_rows_count, num_total_epochs) = laps_radon_stats\n",
    "# ripple_wcorr_stats = _compute_matching_best_indicies(ripple_weighted_corr_merged_df, index_column_name='most_likely_decoder_index', second_index_column_name=best_decoder_index_col_name, enable_print=True)\n",
    "\n",
    "# agreeing_rows_count/num_total_epochs: 41/84\n",
    "# \tagreeing_rows_ratio: 0.4880952380952381\n",
    "\n",
    "\n",
    "## Not well-matching for ripples surprisingly:\n",
    "# agreeing_rows_count/num_total_epochs: 77/84\n",
    "# \tagreeing_rows_ratio: 0.9166666666666666\n",
    "# agreeing_rows_count/num_total_epochs: 115/412\n",
    "# \tagreeing_rows_ratio: 0.279126213592233\n",
    "\n"
   ]
  },
  {
   "cell_type": "code",
   "execution_count": null,
   "id": "1e7f8139",
   "metadata": {},
   "outputs": [],
   "source": [
    "# INPUTS:laps_radon_transform_merged_df, ripple_radon_transform_merged_df, laps_weighted_corr_merged_df, ripple_weighted_corr_merged_df\n",
    "laps_weighted_corr_merged_df"
   ]
  },
  {
   "cell_type": "code",
   "execution_count": null,
   "id": "17625acf",
   "metadata": {},
   "outputs": [],
   "source": [
    "directional_lap_epochs_dict = dict(zip((long_LR_name, long_RL_name, short_LR_name, short_RL_name), (long_LR_epochs_obj, long_RL_epochs_obj, short_LR_epochs_obj, short_RL_epochs_obj)))\n",
    "directional_active_lap_pf_results_dicts = TrialByTrialActivity.directional_compute_trial_by_trial_correlation_matrix(active_pf_dt=active_pf_dt, directional_lap_epochs_dict=directional_lap_epochs_dict, included_neuron_IDs=any_decoder_neuron_IDs)\n",
    "\n",
    "decoder_aclu_peak_location_df_merged = deepcopy(track_templates.get_decoders_aclu_peak_location_df(width=None))\n",
    "# decoder_aclu_peak_location_df_merged[np.isin(decoder_aclu_peak_location_df_merged['aclu'], both_included_neuron_stats_df.aclu.to_numpy())]\n",
    "decoder_aclu_peak_location_df_merged\n"
   ]
  },
  {
   "cell_type": "code",
   "execution_count": null,
   "id": "1379d84c",
   "metadata": {},
   "outputs": [],
   "source": [
    "a_result: TrialByTrialActivity = directional_active_lap_pf_results_dicts['long_LR']\n",
    "# a_result.sp\n"
   ]
  },
  {
   "cell_type": "code",
   "execution_count": null,
   "id": "85e43ce6",
   "metadata": {},
   "outputs": [],
   "source": [
    "## INPUTS: ripple_radon_transform_merged_df, decoder_specific_Radon_transform_score_columns\n",
    "\n",
    "\n",
    "decoder_specific_probability_columns = ['P_Long_LR', 'P_Long_RL', 'P_Short_LR', 'P_Short_RL']\n",
    "decoder_specific_Radon_transform_score_columns = ['score_long_LR', 'score_long_RL', 'score_short_LR', 'score_short_RL']\n",
    "\n",
    "best_decoder_index = ripple_radon_transform_merged_df['best_decoder_index'].to_numpy()\n",
    "# best_decoder_index.shape # (611,)\n",
    "\n",
    "\n",
    "# ripple_radon_transform_merged_df['best_decoder_index']\n",
    "\n",
    "decoder_specific_probability_mat = ripple_radon_transform_merged_df[decoder_specific_probability_columns].to_numpy() # .shape (611, 4)\n",
    "decoder_specific_Radon_transform_score_mat = ripple_radon_transform_merged_df[decoder_specific_Radon_transform_score_columns].to_numpy() # .shape (611, 4)\n",
    "n_epochs = np.shape(decoder_specific_Radon_transform_score_mat)[0] # 611\n",
    "# n_epochs \n",
    "best_decoder_probability = np.array([decoder_specific_probability_mat[i, best_decoder_index[i]] for i in np.arange(n_epochs)])\n",
    "best_decoder_Radon_transform_score = np.array([decoder_specific_Radon_transform_score_mat[i, best_decoder_index[i]] for i in np.arange(n_epochs)])\n",
    "# best_decoder_Radon_transform_score.shape # (611,)\n",
    "# best_decoder_Radon_transform_score\n",
    "\n",
    "# best_decoder_probability.shape # (611,)\n",
    "\n",
    "\n",
    "# [best_decoder_index].shape\n",
    "\n",
    "\n",
    "# Assuming best_decoder_probability and best_decoder_Radon_transform_score have been computed successfully and have the same shape\n",
    "correlation_matrix = np.corrcoef(best_decoder_probability, best_decoder_Radon_transform_score)\n",
    "\n",
    "# Extract the correlation coefficient from the matrix\n",
    "point_wise_correlation = correlation_matrix[0, 1]  # This gets the correlation between the two arrays\n",
    "\n",
    "print(point_wise_correlation)\n",
    "import matplotlib.pyplot as plt\n",
    "\n",
    "# Your previously calculated vectors\n",
    "# best_decoder_probability = np.array([...])\n",
    "# best_decoder_Radon_transform_score = np.array([...])\n",
    "\n",
    "# Create a scatter plot\n",
    "plt.scatter(best_decoder_probability, best_decoder_Radon_transform_score)\n",
    "\n",
    "# Optional: Specify the labels for axes\n",
    "plt.xlabel('Best Decoder Probability')\n",
    "plt.ylabel('Best Decoder Radon Transform Score')\n",
    "\n",
    "# Optional: Specify the title of the graph\n",
    "plt.title('Scatter Plot of Best Decoder Probability vs. Radon Transform Score')\n",
    "\n",
    "# Show the scatter plot\n",
    "plt.show()"
   ]
  },
  {
   "cell_type": "code",
   "execution_count": null,
   "id": "fe0f22b5",
   "metadata": {},
   "outputs": [],
   "source": []
  },
  {
   "cell_type": "markdown",
   "id": "fdc9c8c5",
   "metadata": {},
   "source": [
    "## Checking each probability of decoder:"
   ]
  },
  {
   "cell_type": "code",
   "execution_count": null,
   "id": "3ec881f2",
   "metadata": {},
   "outputs": [],
   "source": [
    "directional_laps_results.all_directional_laps_filter_epochs_decoder_result"
   ]
  },
  {
   "cell_type": "code",
   "execution_count": null,
   "id": "ff4d6da2",
   "metadata": {},
   "outputs": [],
   "source": [
    "laps_merged_complete_epoch_stats_df: pd.DataFrame = rank_order_results.laps_merged_complete_epoch_stats_df ## New method\n",
    "ripple_merged_complete_epoch_stats_df: pd.DataFrame = rank_order_results.ripple_merged_complete_epoch_stats_df ## New method\n",
    "\n",
    "# DirectionalMergedDecoders: Get the result after computation:\n",
    "directional_merged_decoders_result: DirectionalMergedDecodersResult = curr_active_pipeline.global_computation_results.computed_data['DirectionalMergedDecoders']\n",
    "\n",
    "all_directional_decoder_dict_value = directional_merged_decoders_result.all_directional_decoder_dict\n",
    "all_directional_pf1D_Decoder_value = directional_merged_decoders_result.all_directional_pf1D_Decoder\n",
    "# long_directional_pf1D_Decoder_value = directional_merged_decoders_result.long_directional_pf1D_Decoder\n",
    "# long_directional_decoder_dict_value = directional_merged_decoders_result.long_directional_decoder_dict\n",
    "# short_directional_pf1D_Decoder_value = directional_merged_decoders_result.short_directional_pf1D_Decoder\n",
    "# short_directional_decoder_dict_value = directional_merged_decoders_result.short_directional_decoder_dict\n",
    "\n",
    "all_directional_laps_filter_epochs_decoder_result_value = directional_merged_decoders_result.all_directional_laps_filter_epochs_decoder_result\n",
    "all_directional_ripple_filter_epochs_decoder_result_value = directional_merged_decoders_result.all_directional_ripple_filter_epochs_decoder_result\n",
    "\n",
    "laps_directional_marginals, laps_directional_all_epoch_bins_marginal, laps_most_likely_direction_from_decoder, laps_is_most_likely_direction_LR_dir  = directional_merged_decoders_result.laps_directional_marginals_tuple\n",
    "laps_track_identity_marginals, laps_track_identity_all_epoch_bins_marginal, laps_most_likely_track_identity_from_decoder, laps_is_most_likely_track_identity_Long = directional_merged_decoders_result.laps_track_identity_marginals_tuple\n",
    "ripple_directional_marginals, ripple_directional_all_epoch_bins_marginal, ripple_most_likely_direction_from_decoder, ripple_is_most_likely_direction_LR_dir  = directional_merged_decoders_result.ripple_directional_marginals_tuple\n",
    "ripple_track_identity_marginals, ripple_track_identity_all_epoch_bins_marginal, ripple_most_likely_track_identity_from_decoder, ripple_is_most_likely_track_identity_Long = directional_merged_decoders_result.ripple_track_identity_marginals_tuple\n",
    "\n",
    "ripple_decoding_time_bin_size: float = directional_merged_decoders_result.ripple_decoding_time_bin_size\n",
    "laps_decoding_time_bin_size: float = directional_merged_decoders_result.laps_decoding_time_bin_size\n",
    "\n",
    "print(f'laps_decoding_time_bin_size: {laps_decoding_time_bin_size}, ripple_decoding_time_bin_size: {ripple_decoding_time_bin_size}')\n",
    "\n",
    "laps_all_epoch_bins_marginals_df = directional_merged_decoders_result.laps_all_epoch_bins_marginals_df\n",
    "ripple_all_epoch_bins_marginals_df = directional_merged_decoders_result.ripple_all_epoch_bins_marginals_df"
   ]
  },
  {
   "cell_type": "code",
   "execution_count": null,
   "id": "fcf3c891",
   "metadata": {},
   "outputs": [],
   "source": [
    "ripple_all_epoch_bins_marginals_df"
   ]
  },
  {
   "cell_type": "code",
   "execution_count": null,
   "id": "93608f52",
   "metadata": {},
   "outputs": [],
   "source": [
    "ripple_directional_marginals"
   ]
  },
  {
   "cell_type": "code",
   "execution_count": null,
   "id": "28a0c309",
   "metadata": {},
   "outputs": [],
   "source": [
    "from pyphoplacecellanalysis.General.Pipeline.Stages.ComputationFunctions.MultiContextComputationFunctions.DirectionalPlacefieldGlobalComputationFunctions import DirectionalMergedDecodersResult\n",
    "\n",
    "non_marginalized_raw_result_per_time_bin = [v['p_x_given_n'] for v in DirectionalMergedDecodersResult.build_non_marginalized_raw_posteriors(all_directional_ripple_filter_epochs_decoder_result_value)] #[0]['p_x_given_n']\n",
    "# non_marginalized_raw_result_per_time_bin\n",
    "\n",
    "## Collapse to one 4-element probability per epoch\n",
    "non_marginalized_raw_result_per_epoch = [np.nanmean(v, axis=1) for v in non_marginalized_raw_result_per_time_bin]\n",
    "len(non_marginalized_raw_result_per_epoch)\n",
    "\n",
    "# non_marginalized_raw_result_shapes = [np.shape(v) for v in non_marginalized_raw_result]\n",
    "# non_marginalized_raw_result_shapes\n"
   ]
  },
  {
   "cell_type": "code",
   "execution_count": null,
   "id": "427c7bd1",
   "metadata": {},
   "outputs": [],
   "source": [
    "non_marginalized_raw_result_per_epoch[265]\n"
   ]
  },
  {
   "cell_type": "code",
   "execution_count": null,
   "id": "32581271",
   "metadata": {},
   "outputs": [],
   "source": [
    "all_directional_ripple_filter_epochs_decoder_result_value"
   ]
  },
  {
   "cell_type": "code",
   "execution_count": null,
   "id": "52ac6e72",
   "metadata": {},
   "outputs": [],
   "source": [
    "## Try filtering out the endcap cells, maybe change the minimum number of cells inclusion for the ripples\n",
    "\n"
   ]
  },
  {
   "cell_type": "code",
   "execution_count": null,
   "id": "b86968ff",
   "metadata": {},
   "outputs": [],
   "source": [
    "# Apple Is Neato\n"
   ]
  },
  {
   "cell_type": "markdown",
   "id": "dc039cf2",
   "metadata": {},
   "source": [
    "# 2024-02-28 - WE gotta see the replays on the 3D track. Or the 2D track.\n"
   ]
  },
  {
   "cell_type": "code",
   "execution_count": null,
   "id": "8cdc4f87",
   "metadata": {},
   "outputs": [],
   "source": [
    "# global_pf1D\n",
    "# long_replays\n",
    "# direction_max_indices = ripple_all_epoch_bins_marginals_df[['P_Long', 'P_Short']].values.argmax(axis=1)\n",
    "# track_identity_max_indices = ripple_all_epoch_bins_marginals_df[['P_Long', 'P_Short']].values.argmax(axis=1)\n",
    "\n",
    "## How do I get the replays?\n",
    "# long_replay_df: pd.DataFrame = long_replays.to_dataframe() ## These work.\n",
    "\n",
    "global_replay_df: pd.DataFrame = global_replays.to_dataframe() ## These work.\n",
    "global_replay_df\n",
    "\n",
    "xbin = deepcopy(directional_laps_results.get_decoders()[0].xbin)\n",
    "xbin_centers = deepcopy(directional_laps_results.get_decoders()[0].xbin_centers)\n",
    "xbin\n",
    "\n",
    "a_decoded_filter_epochs_decoder_result_dict: Dict[str, DecodedFilterEpochsResult] = deepcopy(decoder_ripple_filter_epochs_decoder_result_dict)\n",
    "a_decoded_filter_epochs_decoder_result_dict"
   ]
  },
  {
   "cell_type": "code",
   "execution_count": null,
   "id": "6b68e9bf",
   "metadata": {},
   "outputs": [],
   "source": [
    "## Convert to plottable posteriors\n",
    "an_epoch_idx: int = 18\n",
    "\n",
    "a_result: DecodedFilterEpochsResult = a_decoded_filter_epochs_decoder_result_dict['long_LR']\n",
    "assert len(xbin_centers) == np.shape(a_result.p_x_given_n_list[an_epoch_idx])[0], f\"np.shape(a_result.p_x_given_n_list[an_epoch_idx]): {np.shape(a_result.p_x_given_n_list[an_epoch_idx])}, len(xbin_centers): {len(xbin_centers)}\"\n",
    "\n",
    "\n",
    "a_p_x_given_n = a_result.p_x_given_n_list[an_epoch_idx]\n",
    "a_most_likely_positions = a_result.most_likely_positions_list[an_epoch_idx]\n",
    "a_time_bin_edges = a_result.time_bin_edges[an_epoch_idx]\n",
    "a_time_bin_centers = a_result.time_bin_containers[an_epoch_idx].centers\n",
    "\n",
    "a_time_bin_centers\n",
    "# a_p_x_given_n\n",
    "\n",
    "a_most_likely_positions\n",
    "assert len(a_time_bin_centers) == len(a_most_likely_positions)"
   ]
  },
  {
   "cell_type": "code",
   "execution_count": null,
   "id": "dd471fba",
   "metadata": {},
   "outputs": [],
   "source": [
    "## Posterior. Get it!\n",
    "# long_LR_pf2D\n",
    "\n",
    "## get the best decoder from 1D decoder for each epoch\n",
    "\n",
    "\n"
   ]
  },
  {
   "cell_type": "code",
   "execution_count": null,
   "id": "d69f1d98",
   "metadata": {},
   "outputs": [],
   "source": [
    "_out = curr_active_pipeline.display('_display_directional_laps_overview')\n",
    "_out\n"
   ]
  },
  {
   "cell_type": "code",
   "execution_count": null,
   "id": "4760111d",
   "metadata": {},
   "outputs": [],
   "source": [
    "from itertools import islice\n",
    "from pyphoplacecellanalysis.PhoPositionalData.plotting.laps import LapsVisualizationMixin, LineCollection, _plot_helper_add_arrow, plot_lap_trajectories_2d\n",
    "\n",
    "# fig, axs, laps_pages = plot_lap_trajectories_2d(curr_active_pipeline.sess, curr_num_subplots=22, active_page_index=0)\n",
    "def _helper_add_gradient_line(ax, t, x, y, add_markers=False):\n",
    "    \"\"\" Adds a gradient line representing a timeseries of (x, y) positions.\n",
    "\n",
    "    add_markers (bool): if True, draws points at each (x, y) position colored the same as the underlying line.\n",
    "    \n",
    "    \n",
    "    _helper_add_gradient_line(ax=axs[curr_row][curr_col]],\n",
    "        t=np.linspace(curr_lap_time_range[0], curr_lap_time_range[-1], len(laps_position_traces[curr_lap_id][0,:]))\n",
    "        x=laps_position_traces[curr_lap_id][0,:],\n",
    "        y=laps_position_traces[curr_lap_id][1,:]\n",
    "    )\n",
    "\n",
    "    \"\"\"\n",
    "    # Create a continuous norm to map from data points to colors\n",
    "    assert len(t) == len(x), f\"len(t): {len(t)} != len(x): {len(x)}\"\n",
    "    norm = plt.Normalize(t.min(), t.max())\n",
    "    # needs to be (numlines) x (points per line) x 2 (for x and y)\n",
    "    points = np.array([x, y]).T.reshape(-1, 1, 2)\n",
    "    segments = np.concatenate([points[:-1], points[1:]], axis=1)\n",
    "    lc = LineCollection(segments, cmap='viridis', norm=norm)\n",
    "    # Set the values used for colormapping\n",
    "    lc.set_array(t)\n",
    "    lc.set_linewidth(2)\n",
    "    lc.set_alpha(0.85)\n",
    "    line = ax.add_collection(lc)\n",
    "\n",
    "    if add_markers:\n",
    "        # Builds scatterplot markers (points) along the path\n",
    "        colors_arr = line.get_colors() # (17, 4)\n",
    "        # segments_arr = line.get_segments() # (16, 2, 2)\n",
    "        # len(a_most_likely_positions) # 17\n",
    "        _out_markers = ax.scatter(x=x, y=y, c=colors_arr)\n",
    "        return line, _out_markers\n",
    "    else:\n",
    "        return line\n",
    "\n",
    "\n",
    "def plot_decoded_trajectories_2d(sess, curr_num_subplots=5, active_page_index=0):\n",
    "    \"\"\" Plots a MatplotLib 2D Figure with each lap being shown in one of its subplots\n",
    "     \n",
    "    Great plotting for laps.\n",
    "    Plots in a paginated manner.\n",
    "\n",
    "    History: based off of plot_lap_trajectories_2d\n",
    "    \n",
    "    \"\"\"\n",
    "    def _subfn_chunks(iterable, size=10):\n",
    "        iterator = iter(iterable)\n",
    "        for first in iterator:    # stops when iterator is depleted\n",
    "            def chunk():          # construct generator for next chunk\n",
    "                yield first       # yield element from for loop\n",
    "                for more in islice(iterator, size - 1):\n",
    "                    yield more    # yield more elements from the iterator\n",
    "            yield chunk()         # in outer generator, yield next chunk\n",
    "        \n",
    "    def _subfn_build_laps_multiplotter(nfields, linear_plot_data=None):\n",
    "        linear_plotter_indicies = np.arange(nfields)\n",
    "        fixed_columns = 2\n",
    "        needed_rows = int(np.ceil(nfields / fixed_columns))\n",
    "        row_column_indicies = np.unravel_index(linear_plotter_indicies, (needed_rows, fixed_columns)) # inverse is: np.ravel_multi_index(row_column_indicies, (needed_rows, fixed_columns))\n",
    "        mp, axs = plt.subplots(needed_rows, fixed_columns, sharex=True, sharey=True) #ndarray (5,2)\n",
    "        mp.set_size_inches(18.5, 26.5)\n",
    "        for a_linear_index in linear_plotter_indicies:\n",
    "            curr_row = row_column_indicies[0][a_linear_index]\n",
    "            curr_col = row_column_indicies[1][a_linear_index]\n",
    "            axs[curr_row][curr_col].plot(linear_plot_data[a_linear_index][0,:], linear_plot_data[a_linear_index][1,:], c='k', alpha=0.2)\n",
    "            \n",
    "        return mp, axs, linear_plotter_indicies, row_column_indicies\n",
    "    \n",
    "    def _subfn_add_specific_lap_trajectory(p, axs, linear_plotter_indicies, row_column_indicies, active_page_laps_ids, laps_position_traces, lap_time_ranges, use_time_gradient_line=True):\n",
    "        # Add the lap trajectory:                            \n",
    "        for a_linear_index in linear_plotter_indicies:\n",
    "            curr_lap_id = active_page_laps_ids[a_linear_index]\n",
    "            curr_row = row_column_indicies[0][a_linear_index]\n",
    "            curr_col = row_column_indicies[1][a_linear_index]\n",
    "            curr_lap_time_range = lap_time_ranges[curr_lap_id]\n",
    "            curr_lap_label_text = 'Lap[{}]: t({:.2f}, {:.2f})'.format(curr_lap_id, curr_lap_time_range[0], curr_lap_time_range[1])\n",
    "            curr_lap_num_points = len(laps_position_traces[curr_lap_id][0,:])\n",
    "            if use_time_gradient_line:\n",
    "                # Create a continuous norm to map from data points to colors\n",
    "                curr_lap_timeseries = np.linspace(curr_lap_time_range[0], curr_lap_time_range[-1], len(laps_position_traces[curr_lap_id][0,:]))\n",
    "                norm = plt.Normalize(curr_lap_timeseries.min(), curr_lap_timeseries.max())\n",
    "                # needs to be (numlines) x (points per line) x 2 (for x and y)\n",
    "                points = np.array([laps_position_traces[curr_lap_id][0,:], laps_position_traces[curr_lap_id][1,:]]).T.reshape(-1, 1, 2)\n",
    "                segments = np.concatenate([points[:-1], points[1:]], axis=1)\n",
    "                lc = LineCollection(segments, cmap='viridis', norm=norm)\n",
    "                # Set the values used for colormapping\n",
    "                lc.set_array(curr_lap_timeseries)\n",
    "                lc.set_linewidth(2)\n",
    "                lc.set_alpha(0.85)\n",
    "                line = axs[curr_row][curr_col].add_collection(lc)\n",
    "                # add_arrow(line)\n",
    "            else:\n",
    "                line = axs[curr_row][curr_col].plot(laps_position_traces[curr_lap_id][0,:], laps_position_traces[curr_lap_id][1,:], c='k', alpha=0.85)\n",
    "                # curr_lap_endpoint = curr_lap_position_traces[curr_lap_id][:,-1].T\n",
    "                _plot_helper_add_arrow(line[0], position=0, position_mode='index', direction='right', size=20, color='green') # start\n",
    "                _plot_helper_add_arrow(line[0], position=None, position_mode='index', direction='right', size=20, color='yellow') # middle\n",
    "                _plot_helper_add_arrow(line[0], position=curr_lap_num_points, position_mode='index', direction='right', size=20, color='red') # end\n",
    "                # add_arrow(line[0], position=curr_lap_endpoint, position_mode='abs', direction='right', size=50, color='blue')\n",
    "                # add_arrow(line[0], position=None, position_mode='rel', direction='right', size=50, color='blue')\n",
    "            # add lap text label\n",
    "            axs[curr_row][curr_col].text(250, 126, curr_lap_label_text, horizontalalignment='right', size=12)\n",
    "            # PhoWidgetHelper.perform_add_text(p[curr_row, curr_col], curr_lap_label_text, name='lblLapIdIndicator')\n",
    "\n",
    "    # BEGIN FUNCTION BODY ________________________________________________________________________________________________ #\n",
    "\n",
    "    # Compute required data from session:\n",
    "    curr_position_df, lap_specific_position_dfs = LapsVisualizationMixin._compute_laps_specific_position_dfs(sess)\n",
    "    \n",
    "    # lap_specific_position_dfs = [curr_position_df.groupby('lap').get_group(i)[['t','x','y','lin_pos']] for i in session.laps.lap_id]\n",
    "\n",
    "    laps_position_traces_list = [lap_pos_df[['x','y']].to_numpy().T for lap_pos_df in lap_specific_position_dfs]\n",
    "    laps_time_range_list = [[lap_pos_df[['t']].to_numpy()[0].item(), lap_pos_df[['t']].to_numpy()[-1].item()] for lap_pos_df in lap_specific_position_dfs]\n",
    "    \n",
    "    num_laps = len(sess.laps.lap_id)\n",
    "    linear_lap_index = np.arange(num_laps)\n",
    "    lap_time_ranges = dict(zip(sess.laps.lap_id, laps_time_range_list))\n",
    "    lap_position_traces = dict(zip(sess.laps.lap_id, laps_position_traces_list))\n",
    "    \n",
    "    all_maze_positions = curr_position_df[['x','y']].to_numpy().T # (2, 59308)\n",
    "    # np.shape(all_maze_positions)\n",
    "    all_maze_data = [all_maze_positions for i in  np.arange(curr_num_subplots)] # repeat the maze data for each subplot. (2, 593080)\n",
    "    p, axs, linear_plotter_indicies, row_column_indicies = _subfn_build_laps_multiplotter(curr_num_subplots, all_maze_data)\n",
    "    # generate the pages\n",
    "    laps_pages = [list(chunk) for chunk in _subfn_chunks(sess.laps.lap_id, curr_num_subplots)]\n",
    "    active_page_laps_ids = laps_pages[active_page_index]\n",
    "    _subfn_add_specific_lap_trajectory(p, axs, linear_plotter_indicies, row_column_indicies, active_page_laps_ids, lap_position_traces, lap_time_ranges, use_time_gradient_line=True)\n",
    "    plt.ylim((125, 152))\n",
    "    return p, axs, laps_pages\n",
    "\n",
    "\n"
   ]
  },
  {
   "cell_type": "code",
   "execution_count": null,
   "id": "acbc071f",
   "metadata": {},
   "outputs": [],
   "source": [
    "\n",
    "fig, axs, laps_pages = plot_lap_trajectories_2d(curr_active_pipeline.sess, curr_num_subplots=8, active_page_index=0)"
   ]
  },
  {
   "cell_type": "code",
   "execution_count": null,
   "id": "f0baaa98",
   "metadata": {},
   "outputs": [],
   "source": [
    "import matplotlib.colors as mcolors\n",
    "\n",
    "## INPUTS: a_p_x_given_n, a_time_bin_centers, a_most_likely_positions\n",
    "\n",
    "# laps_pages\n",
    "an_ax = axs[0][1]\n",
    "\n",
    "# Example data: replace with your actual posterior and axis values\n",
    "# x_values = np.linspace(0, 10, 100)  # Replace with your x axis values\n",
    "x_values = deepcopy(xbin_centers)  # Replace with your x axis values\n",
    "\n",
    "# Build fake 2D data out of 1D posterior\n",
    "fake_y_width: float = 2.5\n",
    "fake_y_center: float = 140.0\n",
    "fake_y_lower_bound: float = (fake_y_center - fake_y_width)\n",
    "fake_y_upper_bound: float = (fake_y_center + fake_y_width)\n",
    "fake_y_num_samples: int = 5\n",
    "# y_values = np.linspace(0, 5, 50)    # Replace with your y axis values\n",
    "y_values = np.linspace(fake_y_lower_bound, fake_y_upper_bound, fake_y_num_samples)    # Replace with your y axis value\n",
    "# posterior = np.repeat(a_p_x_given_n, repeats=fake_y_num_samples, axis=0)\n",
    "posterior = deepcopy(a_p_x_given_n).T # np.shape(posterior): (56, 27)\n",
    "print(f'np.shape(posterior): {np.shape(posterior)}')\n",
    "# posterior = np.random.rand(50, 100)  # Replace with your 2D posterior data\n",
    "\n",
    "# Create a masked array where all values < 0.25 are masked\n",
    "masked_posterior = np.ma.masked_less(posterior, 0.02)\n",
    "# Define a normalization instance which scales data values to the [0, 1] range\n",
    "# norm = mcolors.Normalize(vmin=np.nanmin(masked_posterior), vmax=np.nanmax(masked_posterior))\n",
    "\n",
    "# Plot the posterior heatmap _________________________________________________________________________________________ #\n",
    "# Note: origin='lower' makes sure that the [0, 0] index is at the bottom left corner.\n",
    "a_heatmap = an_ax.imshow(masked_posterior, aspect='auto', cmap='viridis', alpha=0.92,\n",
    "                    extent=(x_values.min(), x_values.max(), y_values.min(), y_values.max()),\n",
    "                    origin='lower', interpolation='none') # , norm=norm\n",
    "\n",
    "# # Add colorbar\n",
    "# cbar = plt.colorbar(a_heatmap, ax=an_ax)\n",
    "# cbar.set_label('Posterior Probability Density')\n",
    "\n",
    "# Add Gradient Most Likely Position Line _____________________________________________________________________________ #\n",
    "# a_line = _helper_add_gradient_line(an_ax, t=a_time_bin_centers, x=a_most_likely_positions, y=np.full_like(a_time_bin_centers, fake_y_center))\n",
    "fake_y_num_samples: int = len(a_time_bin_centers)\n",
    "fake_y_arr = np.linspace(fake_y_lower_bound, fake_y_upper_bound, fake_y_num_samples)\n",
    "\n",
    "a_line, _out_markers = _helper_add_gradient_line(an_ax, t=a_time_bin_centers, x=a_most_likely_positions, y=fake_y_arr, add_markers=True)\n",
    "\n"
   ]
  },
  {
   "cell_type": "code",
   "execution_count": null,
   "id": "28b9469a",
   "metadata": {},
   "outputs": [],
   "source": [
    "a_line.remove()"
   ]
  },
  {
   "cell_type": "code",
   "execution_count": null,
   "id": "75878e52",
   "metadata": {},
   "outputs": [],
   "source": [
    "a_heatmap.remove()\n"
   ]
  },
  {
   "cell_type": "code",
   "execution_count": null,
   "id": "c6e3b47f",
   "metadata": {},
   "outputs": [],
   "source": [
    "cbar.remove()"
   ]
  },
  {
   "cell_type": "code",
   "execution_count": null,
   "id": "ff770f02",
   "metadata": {},
   "outputs": [],
   "source": [
    "axs[curr_row][curr_col]"
   ]
  },
  {
   "cell_type": "code",
   "execution_count": null,
   "id": "eb5e9ee4",
   "metadata": {},
   "outputs": [],
   "source": [
    "def _subfn_add_specific_lap_trajectory(p, axs, linear_plotter_indicies, row_column_indicies, active_page_laps_ids, laps_position_traces, lap_time_ranges, use_time_gradient_line=True):\n",
    "    # Add the lap trajectory: \n",
    "    for a_linear_index in linear_plotter_indicies:\n",
    "        curr_lap_id = active_page_laps_ids[a_linear_index]\n",
    "        curr_row = row_column_indicies[0][a_linear_index]\n",
    "        curr_col = row_column_indicies[1][a_linear_index]\n",
    "        curr_lap_time_range = lap_time_ranges[curr_lap_id]\n",
    "        curr_lap_label_text = 'Lap[{}]: t({:.2f}, {:.2f})'.format(curr_lap_id, curr_lap_time_range[0], curr_lap_time_range[1])\n",
    "        curr_lap_num_points = len(laps_position_traces[curr_lap_id][0,:])\n",
    "        if use_time_gradient_line:\n",
    "            # Create a continuous norm to map from data points to colors\n",
    "            curr_lap_timeseries = np.linspace(curr_lap_time_range[0], curr_lap_time_range[-1], len(laps_position_traces[curr_lap_id][0,:]))\n",
    "            norm = plt.Normalize(curr_lap_timeseries.min(), curr_lap_timeseries.max())\n",
    "            # needs to be (numlines) x (points per line) x 2 (for x and y)\n",
    "            points = np.array([laps_position_traces[curr_lap_id][0,:], laps_position_traces[curr_lap_id][1,:]]).T.reshape(-1, 1, 2)\n",
    "            segments = np.concatenate([points[:-1], points[1:]], axis=1)\n",
    "            lc = LineCollection(segments, cmap='viridis', norm=norm)\n",
    "            # Set the values used for colormapping\n",
    "            lc.set_array(curr_lap_timeseries)\n",
    "            lc.set_linewidth(2)\n",
    "            lc.set_alpha(0.85)\n",
    "            line = axs[curr_row][curr_col].add_collection(lc)\n",
    "            # add_arrow(line)\n",
    "        else:\n",
    "            line = axs[curr_row][curr_col].plot(laps_position_traces[curr_lap_id][0,:], laps_position_traces[curr_lap_id][1,:], c='k', alpha=0.85)\n",
    "            # curr_lap_endpoint = curr_lap_position_traces[curr_lap_id][:,-1].T\n",
    "            _plot_helper_add_arrow(line[0], position=0, position_mode='index', direction='right', size=20, color='green') # start\n",
    "            _plot_helper_add_arrow(line[0], position=None, position_mode='index', direction='right', size=20, color='yellow') # middle\n",
    "            _plot_helper_add_arrow(line[0], position=curr_lap_num_points, position_mode='index', direction='right', size=20, color='red') # end\n",
    "            # add_arrow(line[0], position=curr_lap_endpoint, position_mode='abs', direction='right', size=50, color='blue')\n",
    "            # add_arrow(line[0], position=None, position_mode='rel', direction='right', size=50, color='blue')\n",
    "        # add lap text label\n",
    "        axs[curr_row][curr_col].text(250, 126, curr_lap_label_text, horizontalalignment='right', size=12)"
   ]
  },
  {
   "cell_type": "code",
   "execution_count": null,
   "id": "c9889cb5",
   "metadata": {},
   "outputs": [],
   "source": []
  },
  {
   "cell_type": "code",
   "execution_count": null,
   "id": "6766a6ab",
   "metadata": {},
   "outputs": [],
   "source": [
    "from pyphoplacecellanalysis.SpecificResults.PendingNotebookCode import plot_single_heatmap_set_with_points\n",
    "\n",
    "decoders_tuning_curves_dict = track_templates.decoder_normalized_tuning_curves_dict_dict.copy()\n",
    "\n",
    "extra_decoder_values_dict = {'tuning_curves': decoders_tuning_curves_dict, 'points': decoder_aclu_peak_location_df_merged}\n",
    "\n",
    "# decoders_tuning_curves_dict\n",
    "xbin_centers = deepcopy(active_pf_dt.xbin_centers)\n",
    "xbin = deepcopy(active_pf_dt.xbin)\n",
    "fig, ax_dict = plot_single_heatmap_set_with_points(directional_active_lap_pf_results_dicts, xbin_centers, xbin, extra_decoder_values_dict=extra_decoder_values_dict, aclu=4, \n",
    "                                                   decoders_tuning_curves_dict=decoders_tuning_curves_dict, decoder_aclu_peak_location_df_merged=decoder_aclu_peak_location_df_merged,\n",
    "                                                    active_context=curr_active_pipeline.build_display_context_for_session('single_heatmap_set_with_points'))\n",
    "fig.show()"
   ]
  },
  {
   "cell_type": "markdown",
   "id": "26775e29",
   "metadata": {},
   "source": [
    "# 🟪 2024-03-14 - Adding Heuristic scores to exported CSVs\n",
    "`compute_pho_heuristic_replay_scores`"
   ]
  },
  {
   "cell_type": "code",
   "execution_count": null,
   "id": "f705bef6",
   "metadata": {},
   "outputs": [],
   "source": [
    "included_column_names = ['start', 'stop', 'label', 'duration', 'P_decoder', 'travel', 'coverage', 'total_congruent_direction_change']\n",
    "for a_name, a_result in a_decoded_filter_epochs_decoder_result_dict.items():\n",
    "\ta_df = a_result.filter_epochs[included_column_names]\n",
    "\ta_df.add_suffix(f\"_{a_name}\")"
   ]
  },
  {
   "cell_type": "code",
   "execution_count": null,
   "id": "1b4cbabc",
   "metadata": {},
   "outputs": [],
   "source": [
    "valid_found_indicies = find_data_indicies_from_epoch_times(ripple_weighted_corr_merged_df, epoch_times=df[start_t_idx_name].to_numpy(), t_column_names=[start_t_idx_name,], atol=1e-3)\n",
    "hand_selected_ripple_weighted_corr_merged_df = ripple_weighted_corr_merged_df.loc[valid_found_indicies].reset_index(drop=True) ## Switched to .loc\n",
    "\n",
    "## Add the wcorr columns to `df`:\n",
    "wcorr_column_names = ['wcorr_long_LR', 'wcorr_long_RL', 'wcorr_short_LR', 'wcorr_short_RL']\n",
    "df[wcorr_column_names] = hand_selected_ripple_weighted_corr_merged_df[wcorr_column_names] # add the columns to the dataframe\n",
    "df['long_best_wcorr'] = np.where(direction_max_indices, df['wcorr_long_LR'], df['wcorr_long_RL'])\n",
    "df['short_best_wcorr'] = np.where(direction_max_indices, df['wcorr_short_LR'], df['wcorr_short_RL'])\n",
    "if should_drop_directional_columns:\n",
    "\tdf = df.drop(columns=['wcorr_long_LR', 'wcorr_long_RL', 'wcorr_short_LR', 'wcorr_short_RL']) # drop the directional column names\n",
    "\n",
    "## Add differences:\n",
    "df['wcorr_abs_diff'] = df['long_best_wcorr'].abs() - df['short_best_wcorr'].abs()\n",
    "df['pearsonr_abs_diff'] = df['long_best_pf_peak_x_pearsonr'].abs() - df['short_best_pf_peak_x_pearsonr'].abs()"
   ]
  },
  {
   "cell_type": "code",
   "execution_count": null,
   "id": "f4e9e661",
   "metadata": {},
   "outputs": [],
   "source": [
    "a_decoded_filter_epochs_decoder_result_dict['long_LR'].filter_epochs"
   ]
  },
  {
   "cell_type": "code",
   "execution_count": null,
   "id": "a28a7d88",
   "metadata": {},
   "outputs": [],
   "source": [
    "a_df: pd.DataFrame = deepcopy(a_decoded_filter_epochs_decoder_result_dict['long_LR'].filter_epochs)\n",
    "print(f'a_df.columns: {list(a_df.columns)}')\n",
    "# a_df.columns: ['start', 'stop', 'label', 'duration', 'end', 'score', 'velocity', 'intercept', 'speed', 'wcorr', 'P_decoder', 'pearsonr', 'travel', 'coverage', 'directionality_ratio', 'sweep_score', 'sequential_correlation', 'monotonicity_score', 'laplacian_smoothness', 'longest_sequence_length', 'num_direction_changes', 'num_congruent_direction_bins_score', 'total_congruent_direction_change']\n",
    "a_df.attrs\n",
    "\n",
    "\n"
   ]
  },
  {
   "cell_type": "code",
   "execution_count": null,
   "id": "bb4a2fa3",
   "metadata": {},
   "outputs": [],
   "source": [
    "a_df.dtypes"
   ]
  },
  {
   "cell_type": "code",
   "execution_count": null,
   "id": "2a0c7c13",
   "metadata": {},
   "outputs": [],
   "source": [
    "a_df.columns: ['start', 'stop', 'label', 'duration', 'end', 'score', 'velocity', 'intercept', 'speed', 'wcorr', 'P_decoder', 'pearsonr', 'travel', 'coverage', 'directionality_ratio', 'sweep_score', 'sequential_correlation', 'monotonicity_score', 'laplacian_smoothness', 'longest_sequence_length', 'num_direction_changes', 'num_congruent_direction_bins_score', 'total_congruent_direction_change']"
   ]
  },
  {
   "cell_type": "code",
   "execution_count": null,
   "id": "aaa2de72",
   "metadata": {},
   "outputs": [],
   "source": [
    "from pyphoplacecellanalysis.General.Pipeline.Stages.DisplayFunctions.DecoderPredictionError import WeightedCorrelationPlotData\n",
    "\n",
    "\n",
    "active_filter_epochs_df: pd.DataFrame = deepcopy(a_decoded_filter_epochs_decoder_result_dict['long_LR'].filter_epochs)\n",
    "## INPUT: active_filter_epochs_df\n",
    "\n",
    "basic_df_column_names = ['start', 'stop', 'label', 'duration']\n",
    "included_columns_list = ['wcorr', 'P_decoder', 'pearsonr', 'travel', 'coverage']\n",
    "all_df_column_names = basic_df_column_names + included_columns_list \n",
    "\n",
    "wcorr_data = {}\n",
    "\n",
    "# final_column_formatting_fn_dict = {}\n",
    "# column_formatting_dict = {'wcorr': f\"wcorr: \", 'P_decoder': \"$P_i$: \", 'pearsonr': f\"$\\rho$: \", 'travel':'travel: ', 'coverage':'coverage: '}\n",
    "with np.printoptions(precision=3, suppress=True, threshold=5):\n",
    "    default_float_formatting_fn = lambda v: str(np.array([v])).lstrip(\"[\").rstrip(\"]\")\n",
    "\n",
    "    column_formatting_fn_dict = {'start':None, 'stop':None, 'label':None, 'duration':None,\n",
    "        'wcorr': (lambda v:f\"wcorr: {default_float_formatting_fn(v)}\"),\n",
    "        'P_decoder':(lambda v:f\"$P_i$: {default_float_formatting_fn(v)}\"),\n",
    "        'pearsonr':(lambda v:f\"$\\rho$: {default_float_formatting_fn(v)}\"),\n",
    "        'travel':(lambda v:f\"travel: {default_float_formatting_fn(v)}\"),\n",
    "        'coverage':(lambda v:f\"coverage: {default_float_formatting_fn(v)}\"),\n",
    "    }\n",
    "\n",
    "    # final_column_formatting_fn_dict = {a_col_name:(lambda v: f\"{a_col_formatting_prefix}{default_float_formatting_fn(v)}\") for a_col_name, a_col_formatting_prefix in column_formatting_dict.items()}\n",
    "\n",
    "        \n",
    "    for i, a_tuple in enumerate(active_filter_epochs_df[all_df_column_names].itertuples(name='EpochDataTuple')):\n",
    "        ## NOTE: uses a_tuple.start as the index in to the data dict:\n",
    "        # column_formatting_fn_dict\n",
    "        # wcorr_data[a_tuple.start] = cls.init_from_df_columns(a_tuple.start, a_tuple.stop, a_tuple.wcorr, a_tuple.P_decoder, a_tuple.pearsonr)\n",
    "        # wcorr_data[a_tuple.start] = WeightedCorrelationPlotData.init_from_df_row_tuple_and_formatting_fn_dict(a_tuple, column_formatting_fn_dict=column_formatting_fn_dict)\n",
    "        # a_tuple_dict = a_tuple._asdict()\n",
    "        # curr_formatted_strings = {k:column_formatting_fn_dict[k](v) for k,v in a_tuple_dict.items() if ((k in column_formatting_fn_dict) and (column_formatting_fn_dict.get(k, None) is not None))}\n",
    "        # {'wcorr': 'wcorr: -0.707', 'P_decoder': '$P_i$: 0.402', 'pearsonr': '$\\rho$: -0.487', 'travel': 'travel: 0.318', 'coverage': 'coverage: 0.318'}\n",
    "        # {'wcorr': 'wcorr: 0.935', 'P_decoder': '$P_i$: 0.503', 'pearsonr': '$\\rho$: -0.217', 'travel': 'travel: 0.147', 'coverage': 'coverage: 0.147'}\n",
    "\n",
    "        # curr_formatted_strings\n",
    "\n",
    "        wcorr_data[a_tuple.start] = WeightedCorrelationPlotData.init_from_df_row_tuple_and_formatting_fn_dict(a_tuple=a_tuple, column_formatting_fn_dict=column_formatting_fn_dict)\n",
    "        # data_formatted_strings_dict\n",
    "        wcorr_data[a_tuple.start].build_display_text()\n",
    "\n",
    "        # ['start']\n",
    "\n",
    "\n",
    "wcorr_data"
   ]
  },
  {
   "cell_type": "code",
   "execution_count": null,
   "id": "78cdd2eb",
   "metadata": {},
   "outputs": [],
   "source": [
    "['longest_sequence_length', 'num_direction_changes', 'num_congruent_direction_bins_score', 'total_congruent_direction_change']\n",
    "\n",
    "\n"
   ]
  },
  {
   "cell_type": "code",
   "execution_count": null,
   "id": "e7da2c17",
   "metadata": {},
   "outputs": [],
   "source": [
    "# all_epochs_scores_df.plot.scatter('index', )\n",
    "df = deepcopy(all_epochs_scores_df)\n",
    "df.reset_index(inplace=True)\n",
    "\n",
    "# fig, axs = plt.subplot(111)\n",
    "ax = plt.subplot(1, 1, 1)\n",
    "\n",
    "# ax = axs[0]\n",
    "# Plot scatter plot for each column\n",
    "df.plot(kind='scatter', x='index', y='travel_long_LR', color='red', label='Series 1', ax=ax)\n",
    "df.plot(kind='scatter', x='index', y='travel_long_RL', color='blue', label='Series 2', ax=ax)\n",
    "df.plot(kind='scatter', x='index', y='travel_short_LR', color='green', label='Series 3', ax=ax)\n",
    "df.plot(kind='scatter', x='index', y='travel_short_RL', color='orange', label='Series 4', ax=ax)\n",
    "\n",
    "plt.xlabel('X-axis label')\n",
    "plt.ylabel('Y-axis label')\n",
    "plt.title('Scatter Plot of Four Series')\n",
    "plt.legend()\n",
    "plt.show()"
   ]
  },
  {
   "cell_type": "code",
   "execution_count": null,
   "id": "121a034a",
   "metadata": {},
   "outputs": [],
   "source": [
    "def plot_dataframe_columns(df):\n",
    "    # Check if the DataFrame is empty or not\n",
    "    if df.empty:\n",
    "        print(\"The DataFrame is empty.\")\n",
    "        return\n",
    "\n",
    "    # Create a scatter plot for each column in the DataFrame\n",
    "    for column in df:\n",
    "        plt.scatter(df.index, df[column], label=column)\n",
    "    \n",
    "    # Add title and labels to the plot\n",
    "    plt.title('Scatter Plot of DataFrame Columns')\n",
    "    plt.xlabel('Index')\n",
    "    plt.ylabel('Values')\n",
    "    \n",
    "    # Add a legend to the plot\n",
    "    plt.legend()\n",
    "    \n",
    "    # Display the scatter plot\n",
    "    plt.show()\n",
    "\n",
    "plot_dataframe_columns(all_epochs_scores_df)"
   ]
  },
  {
   "cell_type": "markdown",
   "id": "78ff19d0",
   "metadata": {},
   "source": [
    "## Use the laps to get the observed distributions with the known-correct decoder:"
   ]
  },
  {
   "cell_type": "code",
   "execution_count": null,
   "id": "53745165",
   "metadata": {},
   "outputs": [],
   "source": [
    "from neuropy.core.epoch import Epoch, ensure_dataframe\n",
    "from pyphoplacecellanalysis.SpecificResults.PendingNotebookCode import _add_lap_extended_info_columns, _run_all_compute_pho_heuristic_replay_scores\n",
    "\n",
    "## INPUTS: all_directional_laps_filter_epochs_decoder_result_value, labels_column_name\n",
    "\n",
    "## Ripples:\n",
    "an_all_directional_filter_epochs_decoder_result_value = all_directional_ripple_filter_epochs_decoder_result_value\n",
    "\n",
    "## Laps:\n",
    "# an_all_directional_filter_epochs_decoder_result_value = all_directional_laps_filter_epochs_decoder_result_value\n",
    "\n",
    "\n",
    "# Creates Columns: 'maze_id', 'truth_decoder_name':\n",
    "labels_column_name='label'\n",
    "# labels_column_name='lap_id'\n",
    "\n",
    "# all_directional_laps_filter_epochs_decoder_result_value.filter_epochs # has 'lap_id',  'lap_dir', -- needs 'maze_id'\n",
    "filter_epochs = an_all_directional_filter_epochs_decoder_result_value.filter_epochs.epochs.to_dataframe()\n",
    "# filter_epochs = _add_lap_extended_info_columns(filter_epochs, t_start, t_delta, t_end, labels_column_name=labels_column_name) ## LAPS ONLY\n",
    "\n",
    "# Update result's .filter_epochs\n",
    "an_all_directional_filter_epochs_decoder_result_value.filter_epochs = filter_epochs.epochs.to_Epoch()\n",
    "\n",
    "filter_epochs, _out_true_decoder_new_scores, all_epochs_position_derivatives_df = _run_all_compute_pho_heuristic_replay_scores(filter_epochs, a_decoded_filter_epochs_decoder_result_dict, t_start, t_delta, t_end, labels_column_name=labels_column_name)\n",
    "filter_epochs"
   ]
  },
  {
   "cell_type": "code",
   "execution_count": null,
   "id": "fa4cce0b",
   "metadata": {},
   "outputs": [],
   "source": [
    "all_epochs_position_derivatives_df"
   ]
  },
  {
   "cell_type": "code",
   "execution_count": null,
   "id": "e6dd1d48",
   "metadata": {},
   "outputs": [],
   "source": [
    "all_epochs_position_derivatives_df.describe()"
   ]
  },
  {
   "cell_type": "code",
   "execution_count": null,
   "id": "1c0e022d",
   "metadata": {},
   "outputs": [],
   "source": [
    "## Get actual measured positions during the laps to compare\n",
    "# measured_position_df = deepcopy(_out_pagination_controller.plots_data.global_pos_df)\n",
    "\n",
    "measured_position_df = deepcopy(curr_active_pipeline.sess.position.to_dataframe())\n",
    "measured_position_df = measured_position_df[~measured_position_df['lap'].isnull()] # only get the positions during the laps\n",
    "measured_position_df['lap'] = measured_position_df['lap'].astype('int64')\n",
    "measured_position_df\n",
    "\n",
    "new_measured_pos_df = _compute_pos_derivs(measured_position_df['t'].to_numpy(), position = deepcopy(measured_position_df['lin_pos'].to_numpy()), decoding_time_bin_size=laps_decoding_time_bin_size) \n",
    "new_measured_pos_df\n",
    "# new_measured_pos_df['lap_dir'] = new_measured_pos_df['lap_dir'].astype('int64')\n",
    "\n",
    "# new_measured_pos_df\n",
    "\n",
    "new_measured_pos_df.describe()"
   ]
  },
  {
   "cell_type": "code",
   "execution_count": null,
   "id": "3a3285fe",
   "metadata": {},
   "outputs": [],
   "source": [
    "\n",
    "pos_deriv_column_names = ['x', 'velocity_x', 'acceleration_x']\n",
    "measured_position_df[pos_deriv_column_names].describe()\n",
    "\n",
    "### related: from pyphoplacecellanalysis.Pho2D.decoder_difference import display_predicted_position_difference, _temp_debug_draw_predicted_position_difference\n",
    "# [/home/halechr/repos/pyPhoPlaceCellAnalysis/src/pyphoplacecellanalysis/Pho2D/decoder_difference.py:110](vscode://file/home/halechr/repos/pyPhoPlaceCellAnalysis/src/pyphoplacecellanalysis/Pho2D/decoder_difference.py:110)\n",
    "# ```python\n",
    "# def _temp_debug_draw_update_predicted_position_difference(predicted_positions, measured_positions, time_window, ax=None, predicted_line=None, measured_line=None, active_arrow=None):\n",
    "# ```\n"
   ]
  },
  {
   "cell_type": "markdown",
   "id": "f5a369c6",
   "metadata": {},
   "source": [
    "## 📈 2024-03-07 - measured v. best-decoded Position + Derivatives Plotting\n"
   ]
  },
  {
   "cell_type": "code",
   "execution_count": null,
   "id": "5392b9e8",
   "metadata": {},
   "outputs": [],
   "source": [
    "from pyphoplacecellanalysis.SpecificResults.PendingNotebookCode import debug_plot_helper_add_position_and_derivatives\n",
    "\n",
    "fig, debug_plot_axs = debug_plot_helper_add_position_and_derivatives(new_measured_pos_df['t'].to_numpy(), new_measured_pos_df['x'].to_numpy(), new_measured_pos_df['vel_x'].to_numpy(), new_measured_pos_df['accel_x'].to_numpy(),\n",
    "                                                                        debug_plot_axs=axs, debug_plot_name='measured', common_plot_kwargs=dict(color='k', markersize='5', marker='.', linestyle='None', alpha=0.35))\n"
   ]
  },
  {
   "cell_type": "code",
   "execution_count": null,
   "id": "163a76da",
   "metadata": {},
   "outputs": [],
   "source": [
    "from pyphoplacecellanalysis.SpecificResults.PendingNotebookCode import debug_plot_position_and_derivatives_figure\n",
    "\n",
    "## INPUTS: new_measured_pos_df, all_epochs_position_derivatives_df_dict\n",
    "fig, debug_plot_axs = debug_plot_position_and_derivatives_figure(new_measured_pos_df, all_epochs_position_derivatives_df_dict, debug_plot_axs=None, debug_figure_title=None, enable_debug_plot = True)\n"
   ]
  },
  {
   "cell_type": "code",
   "execution_count": null,
   "id": "b9ae2d3f",
   "metadata": {},
   "outputs": [],
   "source": [
    "from pyphoplacecellanalysis.SpecificResults.PendingNotebookCode import debug_plot_position_derivatives_stack\n",
    "\n",
    "# fig = debug_plot_position_derivatives_stack(new_measured_pos_df, all_epochs_position_derivatives_df_dict)\n",
    "fig = debug_plot_position_derivatives_stack(new_measured_pos_df, all_epochs_position_derivatives_df_dict, show_scatter=True)\n",
    "fig"
   ]
  },
  {
   "cell_type": "markdown",
   "id": "e3aafbe0",
   "metadata": {},
   "source": [
    "## Other"
   ]
  },
  {
   "cell_type": "code",
   "execution_count": null,
   "id": "53f83ea7",
   "metadata": {},
   "outputs": [],
   "source": [
    "## INPUTS: df1, df2\n",
    "position_deriv_column_names1 = pos_deriv_column_names\n",
    "df1 = measured_position_df[position_deriv_column_names1]\n",
    "\n",
    "position_deriv_column_names2 = ['x', 'vel_x', 'accel_x']\n",
    "df2 = deepcopy(all_epochs_position_derivatives_df[position_deriv_column_names2])\n",
    "\n",
    "# Set up the figure and axes.\n",
    "fig, axes = plt.subplots(nrows=3, ncols=1, figsize=(8, 6))\n",
    "\n",
    "# List of columns to compare\n",
    "columns_to_compare = ['col1', 'col2', 'col3']\n",
    "\n",
    "\n",
    "# Loop through the list of columns and create a histogram for each.\n",
    "for i, (col1, col2) in enumerate(zip(position_deriv_column_names1, position_deriv_column_names2)):\n",
    "# for i, col in enumerate(columns_to_compare):\n",
    "    # Use the same bin edges for both histograms by computing them from the combined range of both DataFrames\n",
    "    combined_range = pd.concat([df1[col1], df2[col2]])\n",
    "    bins = np.histogram_bin_edges(combined_range, bins='auto')\n",
    "\n",
    "    # Plot the first DataFrame histogram\n",
    "    df1[col1].hist(bins=bins, ax=axes[i], alpha=0.5, label='Decoded')\n",
    "\n",
    "    # Plot the second DataFrame histogram\n",
    "    df2[col2].hist(bins=bins, ax=axes[i], alpha=0.5, label='Measured')\n",
    "\n",
    "    # Set the title and labels\n",
    "    axes[i].set_title(f'Histogram of {col1}')\n",
    "    axes[i].set_xlabel(col1)\n",
    "    axes[i].set_ylabel('Frequency')\n",
    "\n",
    "    # Add a legend\n",
    "    axes[i].legend()\n",
    "\n",
    "# Adjust layout for readability\n",
    "plt.tight_layout()\n",
    "\n",
    "# Show the plot\n",
    "plt.show()"
   ]
  },
  {
   "cell_type": "markdown",
   "id": "8421fd1a",
   "metadata": {},
   "source": [
    "# 💾 2024-03-04 - Export `DecoderDecodedEpochsResult` CSVs with user annotations for epochs:"
   ]
  },
  {
   "cell_type": "code",
   "execution_count": 25,
   "id": "6ae0ae73",
   "metadata": {
    "notebookRunGroups": {
     "groupValue": "1"
    }
   },
   "outputs": [
    {
     "name": "stdout",
     "output_type": "stream",
     "text": [
      "len(active_epochs_df): 133\n",
      "min_num_unique_aclu_inclusions: 9\n",
      "len(active_epochs_df): 85\n",
      "len(active_epochs_df): 133\n",
      "min_num_unique_aclu_inclusions: 9\n",
      "len(active_epochs_df): 85\n",
      "did_update_user_annotation_col[\"long_LR\"]: True\n",
      "did_update_is_valid[\"long_LR\"]: True\n",
      "did_update_user_annotation_col[\"long_RL\"]: True\n",
      "did_update_is_valid[\"long_RL\"]: True\n",
      "did_update_user_annotation_col[\"short_LR\"]: True\n",
      "did_update_is_valid[\"short_LR\"]: True\n",
      "did_update_user_annotation_col[\"short_RL\"]: True\n",
      "did_update_is_valid[\"short_RL\"]: True\n",
      "\tdone.\n"
     ]
    },
    {
     "data": {
      "text/html": [
       "<div>\n",
       "<style scoped>\n",
       "    .dataframe tbody tr th:only-of-type {\n",
       "        vertical-align: middle;\n",
       "    }\n",
       "\n",
       "    .dataframe tbody tr th {\n",
       "        vertical-align: top;\n",
       "    }\n",
       "\n",
       "    .dataframe thead th {\n",
       "        text-align: right;\n",
       "    }\n",
       "</style>\n",
       "<table border=\"1\" class=\"dataframe\">\n",
       "  <thead>\n",
       "    <tr style=\"text-align: right;\">\n",
       "      <th></th>\n",
       "      <th>P_LR</th>\n",
       "      <th>P_RL</th>\n",
       "      <th>P_Long</th>\n",
       "      <th>P_Short</th>\n",
       "      <th>ripple_idx</th>\n",
       "      <th>ripple_start_t</th>\n",
       "      <th>P_Long_LR</th>\n",
       "      <th>P_Long_RL</th>\n",
       "      <th>P_Short_LR</th>\n",
       "      <th>P_Short_RL</th>\n",
       "      <th>most_likely_decoder_index</th>\n",
       "      <th>wcorr_long_LR</th>\n",
       "      <th>wcorr_long_RL</th>\n",
       "      <th>wcorr_short_LR</th>\n",
       "      <th>wcorr_short_RL</th>\n",
       "      <th>best_decoder_index</th>\n",
       "      <th>session_name</th>\n",
       "      <th>time_bin_size</th>\n",
       "      <th>delta_aligned_start_t</th>\n",
       "      <th>is_user_annotated_epoch</th>\n",
       "      <th>is_valid_epoch</th>\n",
       "    </tr>\n",
       "  </thead>\n",
       "  <tbody>\n",
       "    <tr>\n",
       "      <th>0</th>\n",
       "      <td>0.771442</td>\n",
       "      <td>0.228558</td>\n",
       "      <td>0.639360</td>\n",
       "      <td>0.360640</td>\n",
       "      <td>0</td>\n",
       "      <td>5.696837</td>\n",
       "      <td>0.493229</td>\n",
       "      <td>0.146131</td>\n",
       "      <td>0.278213</td>\n",
       "      <td>0.082427</td>\n",
       "      <td>0</td>\n",
       "      <td>0.577784</td>\n",
       "      <td>0.745302</td>\n",
       "      <td>0.710637</td>\n",
       "      <td>0.832500</td>\n",
       "      <td>3</td>\n",
       "      <td>2006-6-12_15-55-31</td>\n",
       "      <td>0.025</td>\n",
       "      <td>-650.367972</td>\n",
       "      <td>False</td>\n",
       "      <td>True</td>\n",
       "    </tr>\n",
       "    <tr>\n",
       "      <th>1</th>\n",
       "      <td>0.510945</td>\n",
       "      <td>0.489055</td>\n",
       "      <td>0.495263</td>\n",
       "      <td>0.504737</td>\n",
       "      <td>1</td>\n",
       "      <td>27.174099</td>\n",
       "      <td>0.253052</td>\n",
       "      <td>0.242211</td>\n",
       "      <td>0.257893</td>\n",
       "      <td>0.246844</td>\n",
       "      <td>2</td>\n",
       "      <td>0.074217</td>\n",
       "      <td>0.082593</td>\n",
       "      <td>0.043811</td>\n",
       "      <td>0.040820</td>\n",
       "      <td>1</td>\n",
       "      <td>2006-6-12_15-55-31</td>\n",
       "      <td>0.025</td>\n",
       "      <td>-628.890710</td>\n",
       "      <td>False</td>\n",
       "      <td>False</td>\n",
       "    </tr>\n",
       "    <tr>\n",
       "      <th>2</th>\n",
       "      <td>0.380731</td>\n",
       "      <td>0.619269</td>\n",
       "      <td>0.543552</td>\n",
       "      <td>0.456448</td>\n",
       "      <td>2</td>\n",
       "      <td>96.866562</td>\n",
       "      <td>0.206947</td>\n",
       "      <td>0.336605</td>\n",
       "      <td>0.173784</td>\n",
       "      <td>0.282664</td>\n",
       "      <td>1</td>\n",
       "      <td>0.126189</td>\n",
       "      <td>-0.112199</td>\n",
       "      <td>0.048125</td>\n",
       "      <td>-0.050480</td>\n",
       "      <td>0</td>\n",
       "      <td>2006-6-12_15-55-31</td>\n",
       "      <td>0.025</td>\n",
       "      <td>-559.198247</td>\n",
       "      <td>False</td>\n",
       "      <td>True</td>\n",
       "    </tr>\n",
       "    <tr>\n",
       "      <th>3</th>\n",
       "      <td>0.316117</td>\n",
       "      <td>0.683883</td>\n",
       "      <td>0.495285</td>\n",
       "      <td>0.504715</td>\n",
       "      <td>3</td>\n",
       "      <td>121.201428</td>\n",
       "      <td>0.156568</td>\n",
       "      <td>0.338717</td>\n",
       "      <td>0.159549</td>\n",
       "      <td>0.345166</td>\n",
       "      <td>3</td>\n",
       "      <td>0.104757</td>\n",
       "      <td>0.042354</td>\n",
       "      <td>0.061303</td>\n",
       "      <td>0.105230</td>\n",
       "      <td>3</td>\n",
       "      <td>2006-6-12_15-55-31</td>\n",
       "      <td>0.025</td>\n",
       "      <td>-534.863381</td>\n",
       "      <td>False</td>\n",
       "      <td>False</td>\n",
       "    </tr>\n",
       "    <tr>\n",
       "      <th>4</th>\n",
       "      <td>0.130706</td>\n",
       "      <td>0.869294</td>\n",
       "      <td>0.809296</td>\n",
       "      <td>0.190704</td>\n",
       "      <td>4</td>\n",
       "      <td>125.183137</td>\n",
       "      <td>0.105780</td>\n",
       "      <td>0.703516</td>\n",
       "      <td>0.024926</td>\n",
       "      <td>0.165778</td>\n",
       "      <td>1</td>\n",
       "      <td>0.469147</td>\n",
       "      <td>0.496366</td>\n",
       "      <td>0.651970</td>\n",
       "      <td>0.562720</td>\n",
       "      <td>2</td>\n",
       "      <td>2006-6-12_15-55-31</td>\n",
       "      <td>0.025</td>\n",
       "      <td>-530.881672</td>\n",
       "      <td>False</td>\n",
       "      <td>True</td>\n",
       "    </tr>\n",
       "    <tr>\n",
       "      <th>5</th>\n",
       "      <td>0.413298</td>\n",
       "      <td>0.586702</td>\n",
       "      <td>0.568359</td>\n",
       "      <td>0.431641</td>\n",
       "      <td>5</td>\n",
       "      <td>125.779566</td>\n",
       "      <td>0.234902</td>\n",
       "      <td>0.333457</td>\n",
       "      <td>0.178396</td>\n",
       "      <td>0.253244</td>\n",
       "      <td>1</td>\n",
       "      <td>-0.210154</td>\n",
       "      <td>0.020396</td>\n",
       "      <td>0.226592</td>\n",
       "      <td>0.118557</td>\n",
       "      <td>2</td>\n",
       "      <td>2006-6-12_15-55-31</td>\n",
       "      <td>0.025</td>\n",
       "      <td>-530.285243</td>\n",
       "      <td>False</td>\n",
       "      <td>True</td>\n",
       "    </tr>\n",
       "    <tr>\n",
       "      <th>...</th>\n",
       "      <td>...</td>\n",
       "      <td>...</td>\n",
       "      <td>...</td>\n",
       "      <td>...</td>\n",
       "      <td>...</td>\n",
       "      <td>...</td>\n",
       "      <td>...</td>\n",
       "      <td>...</td>\n",
       "      <td>...</td>\n",
       "      <td>...</td>\n",
       "      <td>...</td>\n",
       "      <td>...</td>\n",
       "      <td>...</td>\n",
       "      <td>...</td>\n",
       "      <td>...</td>\n",
       "      <td>...</td>\n",
       "      <td>...</td>\n",
       "      <td>...</td>\n",
       "      <td>...</td>\n",
       "      <td>...</td>\n",
       "      <td>...</td>\n",
       "    </tr>\n",
       "    <tr>\n",
       "      <th>127</th>\n",
       "      <td>0.966585</td>\n",
       "      <td>0.033415</td>\n",
       "      <td>0.741284</td>\n",
       "      <td>0.258716</td>\n",
       "      <td>127</td>\n",
       "      <td>1072.363319</td>\n",
       "      <td>0.716514</td>\n",
       "      <td>0.024770</td>\n",
       "      <td>0.250071</td>\n",
       "      <td>0.008645</td>\n",
       "      <td>0</td>\n",
       "      <td>-0.789687</td>\n",
       "      <td>-0.649375</td>\n",
       "      <td>-0.425129</td>\n",
       "      <td>-0.253414</td>\n",
       "      <td>0</td>\n",
       "      <td>2006-6-12_15-55-31</td>\n",
       "      <td>0.025</td>\n",
       "      <td>416.298510</td>\n",
       "      <td>False</td>\n",
       "      <td>True</td>\n",
       "    </tr>\n",
       "    <tr>\n",
       "      <th>128</th>\n",
       "      <td>0.766427</td>\n",
       "      <td>0.233573</td>\n",
       "      <td>0.725081</td>\n",
       "      <td>0.274919</td>\n",
       "      <td>128</td>\n",
       "      <td>1078.644604</td>\n",
       "      <td>0.555722</td>\n",
       "      <td>0.169359</td>\n",
       "      <td>0.210705</td>\n",
       "      <td>0.064213</td>\n",
       "      <td>0</td>\n",
       "      <td>-0.147727</td>\n",
       "      <td>0.111342</td>\n",
       "      <td>0.033510</td>\n",
       "      <td>0.076469</td>\n",
       "      <td>0</td>\n",
       "      <td>2006-6-12_15-55-31</td>\n",
       "      <td>0.025</td>\n",
       "      <td>422.579795</td>\n",
       "      <td>False</td>\n",
       "      <td>False</td>\n",
       "    </tr>\n",
       "    <tr>\n",
       "      <th>129</th>\n",
       "      <td>0.448647</td>\n",
       "      <td>0.551353</td>\n",
       "      <td>0.379435</td>\n",
       "      <td>0.620565</td>\n",
       "      <td>129</td>\n",
       "      <td>1079.528817</td>\n",
       "      <td>0.170232</td>\n",
       "      <td>0.209203</td>\n",
       "      <td>0.278415</td>\n",
       "      <td>0.342150</td>\n",
       "      <td>3</td>\n",
       "      <td>-0.114062</td>\n",
       "      <td>-0.106968</td>\n",
       "      <td>-0.082109</td>\n",
       "      <td>-0.078365</td>\n",
       "      <td>0</td>\n",
       "      <td>2006-6-12_15-55-31</td>\n",
       "      <td>0.025</td>\n",
       "      <td>423.464008</td>\n",
       "      <td>False</td>\n",
       "      <td>False</td>\n",
       "    </tr>\n",
       "    <tr>\n",
       "      <th>130</th>\n",
       "      <td>0.436036</td>\n",
       "      <td>0.563964</td>\n",
       "      <td>0.772375</td>\n",
       "      <td>0.227625</td>\n",
       "      <td>130</td>\n",
       "      <td>1094.625078</td>\n",
       "      <td>0.336783</td>\n",
       "      <td>0.435592</td>\n",
       "      <td>0.099253</td>\n",
       "      <td>0.128372</td>\n",
       "      <td>1</td>\n",
       "      <td>-0.193720</td>\n",
       "      <td>-0.085801</td>\n",
       "      <td>-0.183206</td>\n",
       "      <td>-0.487992</td>\n",
       "      <td>3</td>\n",
       "      <td>2006-6-12_15-55-31</td>\n",
       "      <td>0.025</td>\n",
       "      <td>438.560269</td>\n",
       "      <td>False</td>\n",
       "      <td>True</td>\n",
       "    </tr>\n",
       "    <tr>\n",
       "      <th>131</th>\n",
       "      <td>0.516076</td>\n",
       "      <td>0.483924</td>\n",
       "      <td>0.366743</td>\n",
       "      <td>0.633257</td>\n",
       "      <td>131</td>\n",
       "      <td>1107.102215</td>\n",
       "      <td>0.189267</td>\n",
       "      <td>0.177476</td>\n",
       "      <td>0.326809</td>\n",
       "      <td>0.306448</td>\n",
       "      <td>2</td>\n",
       "      <td>-0.047052</td>\n",
       "      <td>-0.120538</td>\n",
       "      <td>-0.057254</td>\n",
       "      <td>-0.128064</td>\n",
       "      <td>3</td>\n",
       "      <td>2006-6-12_15-55-31</td>\n",
       "      <td>0.025</td>\n",
       "      <td>451.037406</td>\n",
       "      <td>False</td>\n",
       "      <td>False</td>\n",
       "    </tr>\n",
       "    <tr>\n",
       "      <th>132</th>\n",
       "      <td>0.689129</td>\n",
       "      <td>0.310871</td>\n",
       "      <td>0.534502</td>\n",
       "      <td>0.465498</td>\n",
       "      <td>132</td>\n",
       "      <td>1108.453863</td>\n",
       "      <td>0.368341</td>\n",
       "      <td>0.166161</td>\n",
       "      <td>0.320788</td>\n",
       "      <td>0.144710</td>\n",
       "      <td>0</td>\n",
       "      <td>0.222566</td>\n",
       "      <td>0.185217</td>\n",
       "      <td>0.182692</td>\n",
       "      <td>0.526928</td>\n",
       "      <td>3</td>\n",
       "      <td>2006-6-12_15-55-31</td>\n",
       "      <td>0.025</td>\n",
       "      <td>452.389054</td>\n",
       "      <td>False</td>\n",
       "      <td>False</td>\n",
       "    </tr>\n",
       "  </tbody>\n",
       "</table>\n",
       "<p>133 rows × 21 columns</p>\n",
       "</div>"
      ],
      "text/plain": [
       "         P_LR      P_RL    P_Long   P_Short  ripple_idx  ripple_start_t  P_Long_LR  P_Long_RL  P_Short_LR  P_Short_RL  most_likely_decoder_index  wcorr_long_LR  wcorr_long_RL  wcorr_short_LR  wcorr_short_RL  best_decoder_index        session_name  time_bin_size  delta_aligned_start_t  is_user_annotated_epoch  is_valid_epoch\n",
       "0    0.771442  0.228558  0.639360  0.360640           0        5.696837   0.493229   0.146131    0.278213    0.082427                          0       0.577784       0.745302        0.710637        0.832500                   3  2006-6-12_15-55-31          0.025            -650.367972                    False            True\n",
       "1    0.510945  0.489055  0.495263  0.504737           1       27.174099   0.253052   0.242211    0.257893    0.246844                          2       0.074217       0.082593        0.043811        0.040820                   1  2006-6-12_15-55-31          0.025            -628.890710                    False           False\n",
       "2    0.380731  0.619269  0.543552  0.456448           2       96.866562   0.206947   0.336605    0.173784    0.282664                          1       0.126189      -0.112199        0.048125       -0.050480                   0  2006-6-12_15-55-31          0.025            -559.198247                    False            True\n",
       "3    0.316117  0.683883  0.495285  0.504715           3      121.201428   0.156568   0.338717    0.159549    0.345166                          3       0.104757       0.042354        0.061303        0.105230                   3  2006-6-12_15-55-31          0.025            -534.863381                    False           False\n",
       "4    0.130706  0.869294  0.809296  0.190704           4      125.183137   0.105780   0.703516    0.024926    0.165778                          1       0.469147       0.496366        0.651970        0.562720                   2  2006-6-12_15-55-31          0.025            -530.881672                    False            True\n",
       "5    0.413298  0.586702  0.568359  0.431641           5      125.779566   0.234902   0.333457    0.178396    0.253244                          1      -0.210154       0.020396        0.226592        0.118557                   2  2006-6-12_15-55-31          0.025            -530.285243                    False            True\n",
       "..        ...       ...       ...       ...         ...             ...        ...        ...         ...         ...                        ...            ...            ...             ...             ...                 ...                 ...            ...                    ...                      ...             ...\n",
       "127  0.966585  0.033415  0.741284  0.258716         127     1072.363319   0.716514   0.024770    0.250071    0.008645                          0      -0.789687      -0.649375       -0.425129       -0.253414                   0  2006-6-12_15-55-31          0.025             416.298510                    False            True\n",
       "128  0.766427  0.233573  0.725081  0.274919         128     1078.644604   0.555722   0.169359    0.210705    0.064213                          0      -0.147727       0.111342        0.033510        0.076469                   0  2006-6-12_15-55-31          0.025             422.579795                    False           False\n",
       "129  0.448647  0.551353  0.379435  0.620565         129     1079.528817   0.170232   0.209203    0.278415    0.342150                          3      -0.114062      -0.106968       -0.082109       -0.078365                   0  2006-6-12_15-55-31          0.025             423.464008                    False           False\n",
       "130  0.436036  0.563964  0.772375  0.227625         130     1094.625078   0.336783   0.435592    0.099253    0.128372                          1      -0.193720      -0.085801       -0.183206       -0.487992                   3  2006-6-12_15-55-31          0.025             438.560269                    False            True\n",
       "131  0.516076  0.483924  0.366743  0.633257         131     1107.102215   0.189267   0.177476    0.326809    0.306448                          2      -0.047052      -0.120538       -0.057254       -0.128064                   3  2006-6-12_15-55-31          0.025             451.037406                    False           False\n",
       "132  0.689129  0.310871  0.534502  0.465498         132     1108.453863   0.368341   0.166161    0.320788    0.144710                          0       0.222566       0.185217        0.182692        0.526928                   3  2006-6-12_15-55-31          0.025             452.389054                    False           False\n",
       "\n",
       "[133 rows x 21 columns]"
      ]
     },
     "execution_count": 25,
     "metadata": {},
     "output_type": "execute_result"
    }
   ],
   "source": [
    "from neuropy.core.epoch import ensure_dataframe\n",
    "from pyphoplacecellanalysis.General.Pipeline.Stages.ComputationFunctions.MultiContextComputationFunctions.DirectionalPlacefieldGlobalComputationFunctions import DecoderDecodedEpochsResult\n",
    "\n",
    "# 2024-03-04 - Filter out the epochs based on the criteria:\n",
    "_, _, global_epoch_name = curr_active_pipeline.find_LongShortGlobal_epoch_names()\n",
    "filtered_epochs_df, active_spikes_df = filter_and_update_epochs_and_spikes(curr_active_pipeline, global_epoch_name, track_templates, epoch_id_key_name='ripple_epoch_id', no_interval_fill_value=-1)\n",
    "filtered_valid_epoch_times = filtered_epochs_df[['start', 'stop']].to_numpy()\n",
    "\n",
    "## 2024-03-08 - Also constrain the user-selected ones (just to try it):\n",
    "decoder_user_selected_epoch_times_dict, any_user_selected_epoch_times = DecoderDecodedEpochsResult.load_user_selected_epoch_times(curr_active_pipeline, track_templates=track_templates)\n",
    "\n",
    "a_result_dict = deepcopy(directional_decoders_epochs_decode_result.decoder_ripple_filter_epochs_decoder_result_dict)\n",
    "# {a_name:ensure_dataframe(a_result.filter_epochs) for a_name, a_result in a_result_dict.items()}\n",
    "\n",
    "directional_decoders_epochs_decode_result.add_all_extra_epoch_columns(curr_active_pipeline, track_templates=track_templates, required_min_percentage_of_active_cells=0.33333333, debug_print=True)\n",
    "\n",
    "# 🟪 2024-02-29 - `compute_pho_heuristic_replay_scores`\n",
    "directional_decoders_epochs_decode_result.decoder_ripple_filter_epochs_decoder_result_dict, _out_new_scores = HeuristicReplayScoring.compute_all_heuristic_scores(track_templates=track_templates, a_decoded_filter_epochs_decoder_result_dict=directional_decoders_epochs_decode_result.decoder_ripple_filter_epochs_decoder_result_dict)\n",
    "\n",
    "## Merge the heuristic columns into the wcorr df columns for exports\n",
    "directional_decoders_epochs_decode_result.ripple_weighted_corr_merged_df\n",
    "\n",
    "# {a_name:DecoderDecodedEpochsResult.try_add_is_user_annotated_epoch_column(ensure_dataframe(a_result.filter_epochs), any_good_selected_epoch_times=filtered_valid_epoch_times) for a_name, a_result in a_result_dict.items()}\n",
    "\n",
    "for a_name, a_result in a_result_dict.items():\n",
    "    # a_result.add_all_extra_epoch_columns(curr_active_pipeline, track_templates=track_templates, required_min_percentage_of_active_cells=0.33333333, debug_print=True)\n",
    "\n",
    "    ## Merge the heuristic columns into the wcorr df columns for exports\n",
    "    # directional_decoders_epochs_decode_result.ripple_weighted_corr_merged_df\n",
    "    a_wcorr_result = directional_decoders_epochs_decode_result.decoder_ripple_weighted_corr_df_dict[a_name]\n",
    "    \n",
    "    # did_update_user_annotation_col = DecoderDecodedEpochsResult.try_add_is_user_annotated_epoch_column(ensure_dataframe(a_result.filter_epochs), any_good_selected_epoch_times=any_user_selected_epoch_times, t_column_names=None)\n",
    "    # print(f'did_update_user_annotation_col: {did_update_user_annotation_col}')\n",
    "    # did_update_is_valid = DecoderDecodedEpochsResult.try_add_is_valid_epoch_column(ensure_dataframe(a_result.filter_epochs), any_good_selected_epoch_times=filtered_valid_epoch_times, t_column_names=None)\n",
    "    # print(f'did_update_is_valid: {did_update_is_valid}')\n",
    "\n",
    "# ['start',]\n",
    "\n",
    "a_result_dict = deepcopy(directional_decoders_epochs_decode_result.decoder_ripple_filter_epochs_decoder_result_dict)\n",
    "\n",
    "# {a_name:ensure_dataframe(a_result.filter_epochs) for a_name, a_result in a_result_dict.items()}"
   ]
  },
  {
   "cell_type": "code",
   "execution_count": null,
   "id": "e04fb7e8",
   "metadata": {},
   "outputs": [],
   "source": [
    "_out_new_scores"
   ]
  },
  {
   "cell_type": "code",
   "execution_count": 26,
   "id": "7ba9f746",
   "metadata": {
    "notebookRunGroups": {
     "groupValue": "1"
    }
   },
   "outputs": [
    {
     "name": "stdout",
     "output_type": "stream",
     "text": [
      "CURR_BATCH_OUTPUT_PREFIX: 2024-03-27_Apogee-2006-6-12_15-55-31\n",
      "\tComputation complete. Exporting .CSVs...\n",
      "len(active_epochs_df): 133\n",
      "min_num_unique_aclu_inclusions: 9\n",
      "len(active_epochs_df): 85\n",
      "num_user_selected_times: 15\n",
      "adding user annotation column!\n",
      "\t succeded at getting 15 selected indicies (of 15 user selections) for ripple_weighted_corr_merged_df. got 15 indicies!\n",
      "num_valid_epoch_times: 85\n",
      "adding valid filtered epochs column!\n",
      "\t succeded at getting 85 selected indicies (of 85 valid filter epoch times) for ripple_weighted_corr_merged_df. got 85 indicies!\n",
      "num_user_selected_times: 15\n",
      "adding user annotation column!\n",
      "\t succeded at getting 15 selected indicies (of 15 user selections) for ripple_simple_pf_pearson_merged_df. got 15 indicies!\n",
      "num_valid_epoch_times: 85\n",
      "adding valid filtered epochs column!\n",
      "\t succeded at getting 85 selected indicies (of 85 valid filter epoch times) for ripple_simple_pf_pearson_merged_df. got 85 indicies!\n",
      "\t\tsuccessfully exported directional_decoders_epochs_decode_result to C:\\Users\\pho\\repos\\Spike3DWorkEnv\\Spike3D\\output\\collected_outputs!\n",
      "\t\t\tCSV Paths: laps_weighted_corr_merged_df: \"file:///C:/Users/pho/repos/Spike3DWorkEnv/Spike3D/output/collected_outputs/2024-03-29_0720AM-kdiba_gor01_one_2006-6-12_15-55-31-%28laps_weighted_corr_merged_df%29_tbin-0.025.csv\"\n",
      "ripple_weighted_corr_merged_df: \"file:///C:/Users/pho/repos/Spike3DWorkEnv/Spike3D/output/collected_outputs/2024-03-29_0720AM-kdiba_gor01_one_2006-6-12_15-55-31-%28ripple_weighted_corr_merged_df%29_tbin-0.025.csv\"\n",
      "laps_simple_pf_pearson_merged_df: \"file:///C:/Users/pho/repos/Spike3DWorkEnv/Spike3D/output/collected_outputs/2024-03-29_0720AM-kdiba_gor01_one_2006-6-12_15-55-31-%28laps_simple_pf_pearson_merged_df%29_tbin-0.025.csv\"\n",
      "ripple_simple_pf_pearson_merged_df: \"file:///C:/Users/pho/repos/Spike3DWorkEnv/Spike3D/output/collected_outputs/2024-03-29_0720AM-kdiba_gor01_one_2006-6-12_15-55-31-%28ripple_simple_pf_pearson_merged_df%29_tbin-0.025.csv\"\n",
      "ripple_all_scores_merged_df: \"file:///C:/Users/pho/repos/Spike3DWorkEnv/Spike3D/output/collected_outputs/2024-03-29_0720AM-kdiba_gor01_one_2006-6-12_15-55-31-%28ripple_all_scores_merged_df%29_tbin-0.025.csv\"\n",
      "\n"
     ]
    }
   ],
   "source": [
    "from pyphoplacecellanalysis.General.Pipeline.Stages.ComputationFunctions.MultiContextComputationFunctions.DirectionalPlacefieldGlobalComputationFunctions import DecoderDecodedEpochsResult\n",
    "\n",
    "# export_csvs\n",
    "\n",
    "BATCH_DATE_TO_USE: str = '2024-03-27_Apogee' # TODO: Change this as needed, templating isn't actually doing anything rn.\n",
    "\n",
    "# collected_outputs_path = Path('/nfs/turbo/umms-kdiba/Data/Output/collected_outputs').resolve() # Linux\n",
    "# collected_outputs_path = Path('/home/halechr/FastData/collected_outputs/').resolve() # Linux\n",
    "# collected_outputs_path: Path = Path('/home/halechr/cloud/turbo/Data/Output/collected_outputs').resolve() # GreatLakes\n",
    "collected_outputs_path = Path(r'C:\\Users\\pho\\repos\\Spike3DWorkEnv\\Spike3D\\output\\collected_outputs').resolve() # Apogee\n",
    "# collected_outputs_path = Path('/home/halechr/FastData/collected_outputs/').resolve() # Linux\n",
    "assert collected_outputs_path.exists()\n",
    "active_context = curr_active_pipeline.get_session_context()\n",
    "curr_session_name: str = curr_active_pipeline.session_name # '2006-6-08_14-26-15'\n",
    "CURR_BATCH_OUTPUT_PREFIX: str = f\"{BATCH_DATE_TO_USE}-{curr_session_name}\"\n",
    "print(f'CURR_BATCH_OUTPUT_PREFIX: {CURR_BATCH_OUTPUT_PREFIX}')\n",
    "\n",
    "decoder_user_selected_epoch_times_dict, any_good_selected_epoch_times = DecoderDecodedEpochsResult.load_user_selected_epoch_times(curr_active_pipeline, track_templates=track_templates)\n",
    "print(f'\\tComputation complete. Exporting .CSVs...')\n",
    "\n",
    "# 2024-03-04 - Filter out the epochs based on the criteria:\n",
    "_, _, global_epoch_name = curr_active_pipeline.find_LongShortGlobal_epoch_names()\n",
    "filtered_epochs_df, active_spikes_df = filter_and_update_epochs_and_spikes(curr_active_pipeline, global_epoch_name, track_templates, epoch_id_key_name='ripple_epoch_id', no_interval_fill_value=-1)\n",
    "filtered_valid_epoch_times = filtered_epochs_df[['start', 'stop']].to_numpy()\n",
    "\n",
    "## Export CSVs:\n",
    "t_start, t_delta, t_end = curr_active_pipeline.find_LongShortDelta_times()\n",
    "_output_csv_paths = directional_decoders_epochs_decode_result.export_csvs(parent_output_path=collected_outputs_path.resolve(), active_context=active_context, session_name=curr_session_name, curr_session_t_delta=t_delta,\n",
    "                                                                              user_annotation_selections={'ripple': any_good_selected_epoch_times},\n",
    "                                                                              valid_epochs_selections={'ripple': filtered_valid_epoch_times})\n",
    "\n",
    "print(f'\\t\\tsuccessfully exported directional_decoders_epochs_decode_result to {collected_outputs_path}!')\n",
    "_output_csv_paths_info_str: str = '\\n'.join([f'{a_name}: \"{file_uri_from_path(a_path)}\"' for a_name, a_path in _output_csv_paths.items()])\n",
    "# print(f'\\t\\t\\tCSV Paths: {_output_csv_paths}\\n')\n",
    "print(f'\\t\\t\\tCSV Paths: {_output_csv_paths_info_str}\\n')\n",
    "\n",
    "# {'laps_weighted_corr_merged_df': WindowsPath('C:/Users/pho/repos/Spike3DWorkEnv/Spike3D/output/collected_outputs/2024-02-16_0750PM-kdiba_gor01_two_2006-6-07_16-40-19-(laps_weighted_corr_merged_df)_tbin-0.025.csv'),\n",
    "#  'ripple_weighted_corr_merged_df': WindowsPath('C:/Users/pho/repos/Spike3DWorkEnv/Spike3D/output/collected_outputs/2024-02-16_0750PM-kdiba_gor01_two_2006-6-07_16-40-19-(ripple_weighted_corr_merged_df)_tbin-0.025.csv'),\n",
    "#  'laps_simple_pf_pearson_merged_df': WindowsPath('C:/Users/pho/repos/Spike3DWorkEnv/Spike3D/output/collected_outputs/2024-02-16_0750PM-kdiba_gor01_two_2006-6-07_16-40-19-(laps_simple_pf_pearson_merged_df)_tbin-0.025.csv'),\n",
    "#  'ripple_simple_pf_pearson_merged_df': WindowsPath('C:/Users/pho/repos/Spike3DWorkEnv/Spike3D/output/collected_outputs/2024-02-16_0750PM-kdiba_gor01_two_2006-6-07_16-40-19-(ripple_simple_pf_pearson_merged_df)_tbin-0.025.csv')}\n"
   ]
  },
  {
   "cell_type": "code",
   "execution_count": null,
   "id": "88335249",
   "metadata": {},
   "outputs": [],
   "source": [
    "any_good_selected_epoch_times"
   ]
  },
  {
   "cell_type": "markdown",
   "id": "f7420982",
   "metadata": {},
   "source": [
    "# 2024-03-04 - Filter out the epochs based on the criteria:"
   ]
  },
  {
   "cell_type": "code",
   "execution_count": null,
   "id": "4dcb021f",
   "metadata": {},
   "outputs": [],
   "source": [
    "# from neuropy.utils.mixins.time_slicing import add_epochs_id_identity\n",
    "from pyphoplacecellanalysis.General.Pipeline.Stages.ComputationFunctions.MultiContextComputationFunctions.DirectionalPlacefieldGlobalComputationFunctions import filter_and_update_epochs_and_spikes\n",
    "\n",
    "# 2024-03-04 - Filter out the epochs based on the criteria:\n",
    "filtered_epochs_df, active_spikes_df = filter_and_update_epochs_and_spikes(curr_active_pipeline, global_epoch_name, track_templates, required_min_percentage_of_active_cells=0.333333, epoch_id_key_name='ripple_epoch_id', no_interval_fill_value=-1)\n",
    "filtered_epochs_df"
   ]
  },
  {
   "cell_type": "markdown",
   "id": "cea1dfd0",
   "metadata": {},
   "source": [
    "# 2024-03-27 - Finish `bin_wise_continuous_sequence_sort_score_fn`"
   ]
  },
  {
   "cell_type": "code",
   "execution_count": null,
   "id": "c0a827ea",
   "metadata": {},
   "outputs": [],
   "source": [
    "from pyphoplacecellanalysis.Analysis.Decoder.heuristic_replay_scoring import HeuristicReplayScoring, is_valid_sequence_index, _compute_sequences_spanning_ignored_intrusions\n",
    "\n",
    "# track_templates=track_templates, a_decoded_filter_epochs_decoder_result_dict=directional_decoders_epochs_decode_result.decoder_ripple_filter_epochs_decoder_result_dict\n",
    "\n",
    "a_result: DecodedFilterEpochsResult = deepcopy(directional_decoders_epochs_decode_result.decoder_ripple_filter_epochs_decoder_result_dict['short_RL'])\n",
    "an_epoch_idx: int = 8\n",
    "a_decoder_track_length = 144.0 # {'long_LR': 214.0, 'long_RL': 214.0, 'short_LR': 144.0, 'short_RL': 144.0}\n",
    "HeuristicReplayScoring.bin_wise_continuous_sequence_sort_score_fn(a_result=a_result, an_epoch_idx=an_epoch_idx, a_decoder_track_length=a_decoder_track_length)"
   ]
  },
  {
   "cell_type": "code",
   "execution_count": null,
   "id": "65cf2fbd",
   "metadata": {},
   "outputs": [],
   "source": [
    "start_t: float = 105.4005\n",
    "\n",
    "active_filter_epochs: pd.DataFrame = deepcopy(a_result.active_filter_epochs)\n",
    "active_filter_epochs"
   ]
  },
  {
   "cell_type": "code",
   "execution_count": null,
   "id": "6ef0289d",
   "metadata": {},
   "outputs": [],
   "source": [
    "active_filter_epochs.epochs.find_data_indicies_from_epoch_times(epoch_times=np.array([start_t])) # array([8], dtype=int64)\n",
    "\n",
    "\n",
    "active_filter_epochs\n",
    "\n",
    "an_epoch_idx: int = 8"
   ]
  },
  {
   "cell_type": "code",
   "execution_count": null,
   "id": "ee6f1a03",
   "metadata": {},
   "outputs": [],
   "source": [
    "\n",
    "a_most_likely_positions_list = a_result.most_likely_positions_list[an_epoch_idx]\n",
    "a_p_x_given_n = a_result.p_x_given_n_list[an_epoch_idx] # np.shape(a_p_x_given_n): (62, 9)\n",
    "n_time_bins: int = a_result.nbins[an_epoch_idx]\n",
    "n_pos_bins: int = np.shape(a_p_x_given_n)[0]\n",
    "time_window_centers = a_result.time_window_centers[an_epoch_idx]\n"
   ]
  },
  {
   "cell_type": "code",
   "execution_count": null,
   "id": "8af7adea",
   "metadata": {},
   "outputs": [],
   "source": [
    "a_most_likely_positions_list\n",
    "\n",
    "# n_time_bins"
   ]
  },
  {
   "cell_type": "markdown",
   "id": "4c68233f",
   "metadata": {},
   "source": [
    "# 2024-03-27 - Look at active set cells"
   ]
  },
  {
   "cell_type": "code",
   "execution_count": null,
   "id": "7674b4e5",
   "metadata": {},
   "outputs": [],
   "source": [
    "track_templates"
   ]
  },
  {
   "cell_type": "code",
   "execution_count": null,
   "id": "4dcc870e",
   "metadata": {},
   "outputs": [],
   "source": [
    "track_templates.decoder_neuron_IDs_list"
   ]
  },
  {
   "cell_type": "code",
   "execution_count": null,
   "id": "45deb3d9",
   "metadata": {},
   "outputs": [],
   "source": [
    "from pyphoplacecellanalysis.General.Pipeline.Stages.ComputationFunctions.MultiContextComputationFunctions.DirectionalPlacefieldGlobalComputationFunctions import _check_result_laps_epochs_df_performance\n",
    "\n",
    "directional_merged_decoders_result.perform_compute_marginals()\n",
    "result_laps_epochs_df: pd.DataFrame = deepcopy(directional_merged_decoders_result.laps_epochs_df)\n",
    "result_laps_epochs_df\n"
   ]
  },
  {
   "cell_type": "code",
   "execution_count": null,
   "id": "15bda154",
   "metadata": {},
   "outputs": [],
   "source": [
    "# takes 'laps_df' and 'result_laps_epochs_df' to add the ground_truth and the decoded posteriors:\n",
    "\n",
    "# # Ensure it has the 'lap_track' column\n",
    "# ## Compute the ground-truth information using the position information:\n",
    "# # adds columns: ['maze_id', 'is_LR_dir']\n",
    "# t_start, t_delta, t_end = curr_active_pipeline.find_LongShortDelta_times()\n",
    "# laps_obj: Laps = curr_active_pipeline.sess.laps\n",
    "# laps_df = laps_obj.to_dataframe()\n",
    "# laps_df: pd.DataFrame = Laps._update_dataframe_computed_vars(laps_df=laps_df, t_start=t_start, t_delta=t_delta, t_end=t_end, global_session=curr_active_pipeline.sess) # NOTE: .sess is used because global_session is missing the last two laps\n",
    "\n",
    "# ## 2024-01-17 - Updates the `a_directional_merged_decoders_result.laps_epochs_df` with both the ground-truth values and the decoded predictions\n",
    "# result_laps_epochs_df['maze_id'] = laps_df['maze_id'].to_numpy()[np.isin(laps_df['lap_id'], result_laps_epochs_df['lap_id'])] # this works despite the different size because of the index matching\n",
    "# ## add the 'is_LR_dir' groud-truth column in:\n",
    "# result_laps_epochs_df['is_LR_dir'] = laps_df['is_LR_dir'].to_numpy()[np.isin(laps_df['lap_id'], result_laps_epochs_df['lap_id'])] # this works despite the different size because of the index matching\n",
    "\n",
    "# ## Add the decoded results to the laps df:\n",
    "# result_laps_epochs_df['is_most_likely_track_identity_Long'] = laps_is_most_likely_track_identity_Long\n",
    "# result_laps_epochs_df['is_most_likely_direction_LR'] = laps_is_most_likely_direction_LR_dir\n",
    "\n",
    "# # np.sum(result_laps_epochs_df['is_LR_dir'] == result_laps_epochs_df['is_most_likely_direction_LR'])/np.shape(result_laps_epochs_df)[0]\n",
    "# laps_decoding_time_bin_size = alt_directional_merged_decoders_result.laps_decoding_time_bin_size\n",
    "# print(f'laps_decoding_time_bin_size: {laps_decoding_time_bin_size}')\n",
    "\n",
    "\n",
    "(is_decoded_track_correct, is_decoded_dir_correct, are_both_decoded_properties_correct), (percent_laps_track_identity_estimated_correctly, percent_laps_direction_estimated_correctly, percent_laps_estimated_correctly) = _check_result_laps_epochs_df_performance(result_laps_epochs_df)"
   ]
  },
  {
   "cell_type": "code",
   "execution_count": null,
   "id": "f4c9d504",
   "metadata": {},
   "outputs": [],
   "source": [
    "from pyphoplacecellanalysis.SpecificResults.PhoDiba2023Paper import main_complete_figure_generations\n",
    "\n",
    "_out_figs_tuple = main_complete_figure_generations(curr_active_pipeline, enable_default_neptune_plots=False)"
   ]
  },
  {
   "cell_type": "markdown",
   "id": "c3785f61",
   "metadata": {},
   "source": [
    "# 2024-03-28 - Look at Saving Computed Results and their parameters"
   ]
  },
  {
   "cell_type": "code",
   "execution_count": null,
   "id": "1a32c278",
   "metadata": {},
   "outputs": [],
   "source": [
    "curr_active_pipeline.active_completed_computation_result_names\n",
    "curr_active_pipeline.active_configs\n",
    "curr_active_pipeline.active_incomplete_computation_result_status_dicts\n",
    "# curr_active_pipeline.build_pipeline_compare_dict()\n",
    "curr_active_pipeline.get_computation_times(debug_print=True)\n",
    "curr_active_pipeline.registered_computation_function_names\n",
    "curr_active_pipeline.updated_since_last_pickle\n",
    "\n",
    "curr_active_pipeline.persistance_state\n"
   ]
  },
  {
   "cell_type": "code",
   "execution_count": null,
   "id": "472b063e",
   "metadata": {},
   "outputs": [],
   "source": [
    "debug_dump_object_member_shapes(curr_active_pipeline)"
   ]
  },
  {
   "cell_type": "code",
   "execution_count": null,
   "id": "80358214",
   "metadata": {},
   "outputs": [],
   "source": [
    "# curr_active_pipeline.dumpObjectTree()\n",
    "curr_active_pipeline.active_configs"
   ]
  },
  {
   "cell_type": "code",
   "execution_count": null,
   "id": "d23cb3be",
   "metadata": {},
   "outputs": [],
   "source": [
    "num_shuffles:int=500, minimum_inclusion_fr_Hz:float=5.0, included_qclu_values=[1,2]"
   ]
  },
  {
   "cell_type": "code",
   "execution_count": null,
   "id": "a59e4561",
   "metadata": {},
   "outputs": [],
   "source": [
    "lap_estimation_parameters = curr_active_pipeline.sess.config.preprocessing_parameters.epoch_estimation_parameters.laps\n",
    "assert lap_estimation_parameters is not None\n",
    "lap_estimation_parameters\n",
    "\n",
    "use_direction_dependent_laps: bool = lap_estimation_parameters.get('use_direction_dependent_laps', True)\n",
    "print(f'constrain_to_laps(...): use_direction_dependent_laps: {use_direction_dependent_laps}')"
   ]
  },
  {
   "cell_type": "code",
   "execution_count": null,
   "id": "9ada1499",
   "metadata": {},
   "outputs": [],
   "source": [
    "active_context = curr_active_pipeline.get_session_context()\n",
    "curr_session_name: str = curr_active_pipeline.session_name # '2006-6-08_14-26-15'\n",
    "CURR_BATCH_OUTPUT_PREFIX: str = f\"{BATCH_DATE_TO_USE}-{curr_session_name}\"\n",
    "print(f'CURR_BATCH_OUTPUT_PREFIX: {CURR_BATCH_OUTPUT_PREFIX}')"
   ]
  },
  {
   "cell_type": "code",
   "execution_count": null,
   "id": "41cd3408",
   "metadata": {},
   "outputs": [],
   "source": [
    "active_context.session_name # '2006-6-07_16-40-19'"
   ]
  },
  {
   "cell_type": "markdown",
   "id": "0fb00384",
   "metadata": {},
   "source": [
    "# 2024-03-29 - Rigorous Decoder Performance assessment\n",
    "Quantify cell contributions to decoders"
   ]
  },
  {
   "cell_type": "code",
   "execution_count": 27,
   "id": "1f9715a6",
   "metadata": {},
   "outputs": [],
   "source": [
    "\n",
    "# Inputs: all_directional_pf1D_Decoder, alt_directional_merged_decoders_result\n",
    "from pyphoplacecellanalysis.Analysis.Decoder.reconstruction import BayesianPlacemapPositionDecoder\n",
    "\n",
    "def _compute_epoch_decoding_for_decoder(a_directional_pf1D_Decoder: BasePositionDecoder, curr_active_pipeline, desired_laps_decoding_time_bin_size: float = 0.5, desired_ripple_decoding_time_bin_size: float = 0.1, use_single_time_bin_per_epoch: bool=False):\n",
    "    \"\"\" Decodes the laps and the ripples and their RadonTransforms using the provided decoder.\n",
    "    ~12.2s per decoder.\n",
    "\n",
    "    \"\"\"\n",
    "    from neuropy.utils.mixins.binning_helpers import find_minimum_time_bin_duration\n",
    "    \n",
    "    # Modifies alt_directional_merged_decoders_result, a copy of the original result, with new timebins\n",
    "    long_epoch_name, short_epoch_name, global_epoch_name = curr_active_pipeline.find_LongShortGlobal_epoch_names()\n",
    "    t_start, t_delta, t_end = curr_active_pipeline.find_LongShortDelta_times()\n",
    "    a_directional_pf1D_Decoder = deepcopy(a_directional_pf1D_Decoder)\n",
    "\n",
    "    if use_single_time_bin_per_epoch:\n",
    "        print(f'WARNING: use_single_time_bin_per_epoch=True so time bin sizes will be ignored.')\n",
    "        \n",
    "    ## Decode Laps:\n",
    "    global_any_laps_epochs_obj = deepcopy(curr_active_pipeline.computation_results[global_epoch_name].computation_config.pf_params.computation_epochs) # global_epoch_name='maze_any' (? same as global_epoch_name?)\n",
    "    min_possible_laps_time_bin_size: float = find_minimum_time_bin_duration(global_any_laps_epochs_obj.to_dataframe()['duration'].to_numpy())\n",
    "    laps_decoding_time_bin_size: float = min(desired_laps_decoding_time_bin_size, min_possible_laps_time_bin_size) # 10ms # 0.002\n",
    "    if use_single_time_bin_per_epoch:\n",
    "        laps_decoding_time_bin_size = None\n",
    "\n",
    "    a_directional_laps_filter_epochs_decoder_result = a_directional_pf1D_Decoder.decode_specific_epochs(spikes_df=deepcopy(curr_active_pipeline.sess.spikes_df), filter_epochs=global_any_laps_epochs_obj, decoding_time_bin_size=laps_decoding_time_bin_size, use_single_time_bin_per_epoch=use_single_time_bin_per_epoch, debug_print=False)\n",
    "    # laps_radon_transform_df = compute_radon_transforms(a_directional_pf1D_Decoder, a_directional_laps_filter_epochs_decoder_result)\n",
    "\n",
    "    ## Decode Ripples:\n",
    "    if desired_ripple_decoding_time_bin_size is not None:\n",
    "        global_replays = TimeColumnAliasesProtocol.renaming_synonym_columns_if_needed(deepcopy(curr_active_pipeline.filtered_sessions[global_epoch_name].replay))\n",
    "        min_possible_time_bin_size: float = find_minimum_time_bin_duration(global_replays['duration'].to_numpy())\n",
    "        ripple_decoding_time_bin_size: float = min(desired_ripple_decoding_time_bin_size, min_possible_time_bin_size) # 10ms # 0.002\n",
    "        if use_single_time_bin_per_epoch:\n",
    "            ripple_decoding_time_bin_size = None\n",
    "        a_directional_ripple_filter_epochs_decoder_result = a_directional_pf1D_Decoder.decode_specific_epochs(deepcopy(curr_active_pipeline.sess.spikes_df), filter_epochs=global_replays, decoding_time_bin_size=ripple_decoding_time_bin_size, use_single_time_bin_per_epoch=use_single_time_bin_per_epoch, debug_print=False)\n",
    "        # ripple_radon_transform_df = compute_radon_transforms(a_directional_pf1D_Decoder, a_directional_ripple_filter_epochs_decoder_result)\n",
    "\n",
    "    else:\n",
    "        a_directional_ripple_filter_epochs_decoder_result = None\n",
    "        # ripple_radon_transform_df = None\n",
    "\n",
    "    ## Post Compute Validations:\n",
    "    # alt_directional_merged_decoders_result.perform_compute_marginals()\n",
    "    return a_directional_laps_filter_epochs_decoder_result, a_directional_ripple_filter_epochs_decoder_result #, (laps_radon_transform_df, ripple_radon_transform_df)\n"
   ]
  },
  {
   "cell_type": "code",
   "execution_count": 28,
   "id": "53e1f9f4",
   "metadata": {},
   "outputs": [
    {
     "data": {
      "text/plain": [
       "BayesianPlacemapPositionDecoder(pf=PfND(spikes_df=                 t      t_seconds  t_rel_seconds  shank  cluster  aclu  qclu           x           y     speed  traj  lap  maze_relative_lap  maze_id  is_theta  is_ripple  theta_phase_radians           neuron_type  flat_spike_idx  x_loaded  y_loaded     lin_pos  fragile_linear_neuron_IDX  PBE_id     scISI\n",
       "9           1130.0  954487.468179       0.034714      7        4    21     2  150.989212   89.272176  1.628912     0   -1                 -1        1     False      False             5.256105  NeuronType.PYRAMIDAL               9  0.532396  0.318310  197.377437                         19      -1       NaN\n",
       "40          4761.0  954487.579723       0.146258      7        4    21     2  151.039603   89.446468  1.614076     0   -1                 -1        1     False      False             3.974026  NeuronType.PYRAMIDAL              40  0.532298  0.319520  197.308702                         19      -1  0.111544\n",
       "59          8324.0  954487.689178       0.255713      7        3    20     4  151.078094   89.612542  1.454740     0   -1                 -1        1     False      False             1.424644  NeuronType.PYRAMIDAL              59  0.533447  0.316008  197.245492                         18      -1       NaN\n",
       "93         13286.0  954487.841611       0.408146      8       11    27     4  150.561518   89.638399  5.454997     0   -1                 -1        1     False      False             2.183138  NeuronType.PYRAMIDAL              93  0.534058  0.315829  197.360162                         25      -1       NaN\n",
       "171        22812.0  954488.134249       0.700784      2        6     9     2  148.747286   90.023618  6.433986     0   -1                 -1        1     False      False             3.551585  NeuronType.PYRAMIDAL             171  0.531817  0.315929  197.702849                          7      -1       NaN\n",
       "245        31419.0  954488.398656       0.965191      3       13    15     2  147.063817   90.388239  7.042219     0   -1                 -1        1     False      False             4.375241  NeuronType.PYRAMIDAL             245  0.534081  0.317604  198.617753                         13      -1       NaN\n",
       "...            ...            ...            ...    ...      ...   ...   ...         ...         ...       ...   ...  ...                ...      ...       ...        ...                  ...                   ...             ...       ...       ...         ...                        ...     ...       ...\n",
       "204575  21346924.0  955143.210635     655.777170      3       13    15     2  205.089074  135.789895  3.294189     7   -1                 -1        1     False      False             2.929915  NeuronType.PYRAMIDAL          204575  0.721990  0.478814  206.932111                         13      -1  0.006513\n",
       "204607  21349884.0  955143.301566     655.868101      3       13    15     2  205.527901  135.809019  4.949583     7   -1                 -1        1     False      False             0.508999  NeuronType.PYRAMIDAL          204607  0.724295  0.475999  207.326271                         13      -1  0.090931\n",
       "204619  21351408.0  955143.348383     655.914918      3       13    15     2  205.753964  135.818136  4.937029     7   -1                 -1        1     False      False             1.742587  NeuronType.PYRAMIDAL          204619  0.725213  0.476715  207.906111                         13      -1  0.046817\n",
       "204635  21352817.0  955143.391667     655.958202     10        7    43     4  205.967130  135.826733  4.881169     7   -1                 -1        1     False      False             3.634788  NeuronType.PYRAMIDAL          204635  0.726512  0.477925  208.106382                         41      -1  1.638266\n",
       "204645  21354257.0  955143.435904     656.002439      3       13    15     2  206.155612  135.854192  4.342228     7   -1                 -1        1     False      False             5.792325  NeuronType.PYRAMIDAL          204645  0.726692  0.478676  208.283348                         13      -1  0.087521\n",
       "204650  21355226.0  955143.465672     656.032207      3       13    15     2  206.153687  135.942428  3.219505     7   -1                 -1        1     False      False             0.922266  NeuronType.PYRAMIDAL          204650  0.725744  0.478984  208.281429                         13      -1  0.029768\n",
       "\n",
       "[28557 rows x 25 columns], position=<Position: {'_filename': None, '_metadata': None, '_data':                 t     lin_pos           x        dt  velocity_x  acceleration_x    x_smooth  velocity_x_smooth  acceleration_x_smooth      speed\n",
       "28       0.003774  197.395944  197.395944  0.000000    0.000000        0.000000         NaN                NaN                    NaN   0.000000\n",
       "29       0.038229  197.375335  197.375335  0.034455   -0.598169      -17.360877         NaN                NaN                    NaN   0.617672\n",
       "30       0.070888  197.354744  197.354744  0.032659   -0.630479       -0.989326         NaN                NaN                    NaN   0.617100\n",
       "31       0.104769  197.334222  197.334222  0.033881   -0.605686        0.731793         NaN                NaN                    NaN   0.615014\n",
       "32       0.138207  197.313809  197.313809  0.033438   -0.610478       -0.143330         NaN                NaN                    NaN   0.611776\n",
       "33       0.170293  197.293456  197.293456  0.032086   -0.634349       -0.743963         NaN                NaN                    NaN   0.609994\n",
       "...           ...         ...         ...       ...         ...             ...         ...                ...                    ...        ...\n",
       "19684  655.865543  207.284810  207.284810  0.033323    4.073044        3.518979  211.798810         -19.610206              41.971490   4.067662\n",
       "19685  655.899621  207.837235  207.837235  0.034078   16.210612      356.170196  211.179581         -18.397617              52.578296  16.555992\n",
       "19686  655.933825  207.991241  207.991241  0.034204    4.502592     -342.299737  210.571156         -18.081375              26.334718   4.615526\n",
       "19687  655.966119  208.143774  208.143774  0.032294    4.723262        6.833162  209.962902         -18.071613              17.035220   4.571362\n",
       "19688  655.998658  208.283592  208.283592  0.032539    4.296918      -13.102561  209.485909         -14.167462             132.628317   4.190279\n",
       "19689  656.034091  208.281307  208.281307  0.035433   -0.064475     -123.088431  209.030990         -13.511487              36.452942   0.068467\n",
       "\n",
       "[19662 rows x 10 columns]};>, epochs=20 epochs\n",
       "array([[63.0355, 64.5039],\n",
       "       [89.9625, 95.9685],\n",
       "       [144.884, 148.42],\n",
       "       [181.789, 186.026],\n",
       "       [209.915, 213.287],\n",
       "       [241.248, 247.722],\n",
       "       [259.765, 265.104],\n",
       "       [284.592, 287.861],\n",
       "       [305.345, 310.185],\n",
       "       [333.607, 338.313],\n",
       "       [352.461, 357.731],\n",
       "       [378.62, 382.957],\n",
       "       [415.656, 421.063],\n",
       "       [435.644, 440.748],\n",
       "       [467.911, 474.816],\n",
       "       [512.854, 516.961],\n",
       "       [572.216, 575.852],\n",
       "       [593.035, 599.443],\n",
       "       [619.495, 625.601],\n",
       "       [641.084, 647.191]])\n",
       ", config=<PlacefieldComputationParameters: {'speed_thresh': 10.0, 'grid_bin': (3.819259898065432, 1.3611823623005381), 'grid_bin_bounds': ((28.300282316379977, 259.30028231638), (128.30369397123394, 154.72988093974095)), 'smooth': (2.0, 2.0), 'frate_thresh': 1.0, 'is_directional': False};>, position_srate=29.9696515397475, setup_on_init=True, compute_on_init=True, _save_intermediate_spikes_maps=True, _included_thresh_neurons_indx=None, _peak_frate_filter_function=None, _ratemap=<Ratemap: {'_filename': None, '_metadata': None, 'spikes_maps': array([[ 0,  3,  6, ...,  0,  0,  0],\n",
       "       [ 1,  1,  2, ...,  0,  0,  0],\n",
       "       [ 0,  0,  6, ...,  0,  0,  0],\n",
       "       ...,\n",
       "       [ 0,  0,  0, ..., 19,  0,  0],\n",
       "       [ 0,  0,  0, ...,  1,  0,  0],\n",
       "       [ 0,  0,  0, ...,  0,  0,  0]], dtype=int64), 'tuning_curves': array([[2.01838, 2.27481, 2.55692, ..., 0.0164881, 0.0120019, 0.00848732],\n",
       "       [2.81126, 2.39882, 1.84847, ..., 0.10051, 0.0723228, 0.0509717],\n",
       "       [1.20146, 1.59182, 2.16699, ..., 0, 0, 0],\n",
       "       ...,\n",
       "       [0, 0, 0, ..., 10.1794, 7.11005, 5.18248],\n",
       "       [0.682534, 1.22007, 2.29651, ..., 0.212618, 0.17754, 0.153479],\n",
       "       [0.000993611, 0.00330836, 0.0101132, ..., 0.0394834, 0.012858, 0.00384624]]), 'unsmoothed_tuning_maps': array([[0, 2.72451, 3.74621, ..., 0, 0, 0],\n",
       "       [5.99393, 0.908171, 1.24874, ..., 0, 0, 0],\n",
       "       [0, 0, 3.74621, ..., 0, 0, 0],\n",
       "       ...,\n",
       "       [0, 0, 0, ..., 14.9848, 0, 0],\n",
       "       [0, 0, 0, ..., 0.788675, 0, 0],\n",
       "       [0, 0, 0, ..., 0, 0, 0]]), '_neuron_ids': [2, 5, 7, 9, 10, 11, 12, 14, 16, 17, 18, 19, 20, 21, 23, 24, 25, 26, 27, 29, 31, 34, 35, 37, 39, 40, 41, 44, 45, 49, 50, 52, 53], '_neuron_extended_ids': [NeuronExtendedIdentityTuple(shank=1, cluster=3, id=2), NeuronExtendedIdentityTuple(shank=1, cluster=6, id=5), NeuronExtendedIdentityTuple(shank=2, cluster=3, id=7), NeuronExtendedIdentityTuple(shank=2, cluster=6, id=9), NeuronExtendedIdentityTuple(shank=2, cluster=7, id=10), NeuronExtendedIdentityTuple(shank=3, cluster=6, id=11), NeuronExtendedIdentityTuple(shank=3, cluster=8, id=12), NeuronExtendedIdentityTuple(shank=3, cluster=12, id=14), NeuronExtendedIdentityTuple(shank=3, cluster=14, id=16), NeuronExtendedIdentityTuple(shank=4, cluster=4, id=17), NeuronExtendedIdentityTuple(shank=4, cluster=5, id=18), NeuronExtendedIdentityTuple(shank=7, cluster=2, id=19), NeuronExtendedIdentityTuple(shank=7, cluster=3, id=20), NeuronExtendedIdentityTuple(shank=7, cluster=4, id=21), NeuronExtendedIdentityTuple(shank=8, cluster=3, id=23), NeuronExtendedIdentityTuple(shank=8, cluster=5, id=24), NeuronExtendedIdentityTuple(shank=8, cluster=6, id=25), NeuronExtendedIdentityTuple(shank=8, cluster=10, id=26), NeuronExtendedIdentityTuple(shank=8, cluster=11, id=27), NeuronExtendedIdentityTuple(shank=8, cluster=14, id=29), NeuronExtendedIdentityTuple(shank=8, cluster=20, id=31), NeuronExtendedIdentityTuple(shank=8, cluster=24, id=34), NeuronExtendedIdentityTuple(shank=8, cluster=25, id=35), NeuronExtendedIdentityTuple(shank=9, cluster=3, id=37), NeuronExtendedIdentityTuple(shank=9, cluster=9, id=39), NeuronExtendedIdentityTuple(shank=10, cluster=2, id=40), NeuronExtendedIdentityTuple(shank=10, cluster=4, id=41), NeuronExtendedIdentityTuple(shank=10, cluster=9, id=44), NeuronExtendedIdentityTuple(shank=10, cluster=13, id=45), NeuronExtendedIdentityTuple(shank=12, cluster=2, id=49), NeuronExtendedIdentityTuple(shank=12, cluster=3, id=50), NeuronExtendedIdentityTuple(shank=12, cluster=6, id=52), NeuronExtendedIdentityTuple(shank=12, cluster=13, id=53)], 'xbin': array([28.3003, 32.1195, 35.9388, 39.7581, 43.5773, 47.3966, 51.2158, 55.0351, 58.8544, 62.6736, 66.4929, 70.3121, 74.1314, 77.9507, 81.7699, 85.5892, 89.4084, 93.2277, 97.047, 100.866, 104.685, 108.505, 112.324, 116.143, 119.963, 123.782, 127.601, 131.42, 135.24, 139.059, 142.878, 146.697, 150.517, 154.336, 158.155, 161.974, 165.794, 169.613, 173.432, 177.251, 181.071, 184.89, 188.709, 192.528, 196.348, 200.167, 203.986, 207.805, 211.625, 215.444, 219.263, 223.083, 226.902, 230.721, 234.54, 238.36, 242.179, 245.998, 249.817, 253.637, 257.456, 261.275]), 'ybin': None, 'occupancy': array([0.166835, 1.10111, 1.60162, 2.90294, 1.40142, 3.47018, 2.66937, 3.83722, 4.93833, 3.37008, 3.67038, 1.03438, 1.10111, 0.934278, 1.03438, 0.667342, 0.533873, 0.867544, 1.16785, 1.00101, 1.00101, 0.934278, 1.33468, 0.667342, 0.867544, 1.00101, 0.867544, 0.900911, 1.03438, 0.834177, 1.03438, 1.10111, 0.767443, 0.867544, 0.934278, 0.867544, 0.734076, 0.867544, 1.06775, 1.33468, 0.834177, 0.900911, 0.834177, 0.900911, 0.967646, 0.767443, 1.10111, 1.16785, 1.13448, 1.36805, 1.33468, 1.30132, 1.40142, 1.40142, 2.06876, 1.96866, 6.94035, 10.8109, 1.26795, 0, 0])};>, _ratemap_spiketrains=[array([63.4073, 90.9789, 90.9845, 92.8004, 92.9151, 147.694, 184.189, 184.336, 211.856, 241.799, 243.252, 245.302, 262.883, 305.371, 305.488, 305.493, 305.597, 305.604, 305.746, 305.808, 305.941, 305.956, 415.789, 415.795, 415.949, 416.393, 416.559, 416.564, 416.57, 416.629, 416.664, 435.671, 437.761, 593.42, 593.427, 593.431, 593.711, 594.009, 594.686, 621.288, 622.747, 622.762, 641.578, 641.589, 641.596]), array([145.294, 146.813, 183.125, 183.964, 184.951, 242.239, 242.478, 242.592, 242.811, 243.272, 243.57, 243.61, 243.63, 259.778, 260.195, 260.201, 260.209, 261.787, 262.503, 307.023, 308.509, 333.835, 333.865, 333.966, 333.97, 334.348, 352.819, 352.959, 378.716, 379.485, 382.35, 382.492, 415.843, 417.626, 417.633, 417.644, 437.09, 437.095, 437.102, 468.082, 468.172, 468.301, 469.494, 469.73, 469.735, 469.739, 470.325, 470.339, 470.42, 470.548, 470.601, 470.699, 472.834, 473.964, 513.399, 513.502, 513.637, 572.527, 572.882, 593.152, 595.269, 595.482, 595.486, 599.218, 620.443, 621.091, 641.699, 641.702, 642.539, 642.543, 642.548, 642.557, 646.724, 646.752]), array([90.8223, 90.8276, 90.8386, 92.5072, 92.5144, 92.5269, 92.5522, 181.949, 181.96, 210.047, 210.055, 210.061, 210.065, 241.657, 241.668, 241.673, 261.005, 261.01, 261.017, 261.033, 306.148, 306.158, 306.164, 306.423, 306.43, 306.436, 306.447, 306.463, 334.407, 336.236, 352.53, 352.536, 352.547, 352.553, 352.562, 353.875, 353.887, 378.929, 379.125, 417.036, 417.04, 417.045, 417.957, 417.963, 417.971, 417.976, 417.982, 417.995, 435.831, 436.225, 436.236, 437.634, 468.466, 468.472, 468.479, 469.221, 469.231, 470.436, 470.454, 470.467, 470.896, 513.018, 513.021, 513.032, 572.399, 594.541, 595.007, 595.019, 595.628, 595.635, 641.156, 641.161, 641.168, 641.177, 641.92, 641.941, 641.957, 641.961]), array([90.7042, 91.0955, 91.1006, 91.1043, 91.2194, 91.3148, 91.3195, 91.4125, 91.4249, 91.4327, 91.5599, 91.5834, 91.7047, 91.823, 91.8327, 91.8539, 91.9223, 91.9613, 91.9679, 91.9782, 91.9922, 92.0667, 92.1911, 92.303, 92.3543, 92.5409, 92.5691, 92.5743, 145.416, 146.939, 182.083, 182.088, 182.239, 182.341, 182.548, 182.65, 182.657, 182.743, 182.922, 210.02, 210.135, 210.296, 210.317, 210.38, 210.389, 210.398, 210.414, 241.52, 241.888, 241.892, 242.122, 242.131, 242.137, 242.357, 242.373, 243.729, 243.734, 243.743, 243.748, 243.81, 243.815, 243.822, 243.844, 243.852, 243.939, 243.951, 243.961, 243.974, 243.98, 243.995, 244.004, 244.024, 244.037, 244.059, 244.065, 244.168, 244.176, 244.189, 244.216, 244.317, 259.873, 259.896, 259.952, 259.962, 259.966, 259.974, 260.056, 260.062, 260.069, 260.082, 260.188, 260.194, 260.288, 260.304, 260.312, 260.38, 260.391, 260.403, 260.421, 260.571, 260.649, 260.897, 260.906, 260.97, 261.067, 261.071, 261.246, 261.253, 261.258, 261.351, 264.694, 264.99, 306.276, 306.281, 306.287, 306.291, 306.542, 306.549, 306.554, 306.559, 306.57, 306.58, 306.736, 306.751, 306.772, 306.85, 306.972, 309.758, 334.383, 334.393, 334.498, 334.502, 334.509, 334.515, 334.521, 334.621, 334.63, 334.638, 334.678, 334.742, 334.748, 334.766, 334.846, 335.203, 336.515, 352.822, 352.83, 352.837, 353.04, 353.18, 353.185, 353.19, 353.198, 353.309, 353.32, 353.4, 353.411, 353.424, 353.516, 353.523, 353.531, 353.561, 353.566, 353.661, 353.709, 353.787, 353.815, 353.87, 354.059, 354.088, 354.098, 354.194, 354.239, 354.244, 354.327, 354.343, 354.411, 354.448, 354.454, 354.526, 354.532, 354.565, 354.851, 356.064, 356.722, 378.714, 378.718, 378.722, 378.825, 378.832, 378.837, 378.842, 378.848, 378.853, 378.934, 378.939, 379.016, 379.036, 379.041, 379.046, 379.06, 379.075, 379.156, 379.166, 381.399, 382.347, 417.177, 417.272, 417.279, 417.283, 417.361, 417.366, 417.372, 417.381, 417.493, 417.503, 417.507, 417.515, 417.526, 417.605, 417.694, 417.71, 417.729, 417.734, 417.838, 417.85, 417.863, 417.874, 417.908, 417.929, 418.032, 418.036, 436.716, 436.72, 436.725, 436.939, 436.945, 436.952, 436.959, 437.096, 437.173, 437.178, 437.183, 437.187, 437.264, 437.276, 437.286, 437.298, 437.394, 437.41, 437.424, 437.435, 437.509, 437.644, 439.69, 468.711, 468.715, 468.948, 468.96, 468.968, 469.351, 469.361, 469.366, 469.37, 469.573, 469.585, 469.593, 469.599, 469.608, 469.726, 469.801, 469.813, 469.821, 469.835, 469.952, 470.034, 470.055, 470.11, 470.113, 470.14, 470.162, 470.502, 470.838, 470.841, 470.859, 470.864, 470.868, 470.874, 470.909, 470.937, 470.942, 470.947, 470.954, 470.972, 471.027, 471.045, 513.034, 513.099, 513.114, 513.13, 513.133, 513.145, 513.386, 513.476, 513.48, 513.487, 513.608, 513.705, 513.714, 513.722, 513.784, 513.808, 513.814, 513.823, 513.936, 515.591, 572.269, 572.277, 572.313, 572.348, 572.356, 572.381, 572.414, 572.431, 572.453, 572.466, 572.481, 572.519, 572.53, 572.543, 572.575, 572.596, 572.645, 572.678, 595.14, 595.144, 595.148, 595.156, 595.375, 595.382, 595.601, 595.605, 595.611, 595.725, 595.731, 595.849, 595.854, 595.871, 595.883, 595.906, 595.934, 596.033, 596.039, 596.047, 597.481, 597.774, 620.922, 624.898, 625.516, 641.464, 641.471, 641.475, 641.48, 641.905, 641.912, 641.917, 642.02, 642.025, 642.031, 642.041, 642.135, 642.14, 642.146, 642.152, 642.162, 642.234, 642.243, 642.431, 642.534, 642.606, 642.618, 642.625, 642.634, 642.643, 642.697, 642.73, 642.735, 642.743, 644.628, 644.87, 647.066, 647.077, 647.083]), array([63.3606, 63.3929, 63.7475, 63.7525, 63.764, 63.8983, 63.9136, 64.0399, 64.0533, 64.0584, 92.0781, 93.0231, 93.0281, 93.2634, 93.2684, 93.2799, 93.3878, 93.3942, 93.4066, 93.5073, 93.5257, 93.6199, 93.637, 93.6446, 144.941, 145.179, 145.185, 145.417, 145.68, 145.686, 145.694, 145.793, 145.804, 145.897, 145.909, 145.923, 146.137, 147.691, 148.336, 182.753, 183.234, 183.24, 183.248, 183.364, 183.474, 183.583, 183.589, 183.602, 183.823, 183.826, 184.008, 210.243, 210.617, 210.732, 210.866, 211.301, 211.321, 211.529, 241.799, 242.47, 243.252, 243.9, 243.904, 244.448, 244.77, 244.982, 244.987, 245.103, 245.202, 245.208, 245.309, 245.41, 245.424, 245.648, 259.935, 261.15, 261.456, 261.691, 261.835, 262.013, 262.018, 262.022, 262.032, 262.259, 262.276, 262.514, 262.622, 262.721, 263.283, 284.872, 284.878, 285.223, 285.328, 285.336, 285.445, 285.449, 285.575, 285.674, 285.783, 286.003, 305.746, 305.941, 307.054, 307.403, 307.407, 307.51, 307.521, 307.739, 307.745, 307.75, 307.842, 307.878, 307.946, 307.956, 307.986, 308.072, 308.509, 333.865, 335.057, 335.291, 335.296, 335.3, 335.409, 335.625, 335.629, 335.64, 335.853, 335.93, 335.969, 335.983, 336.067, 353.499, 354.769, 354.897, 355.121, 355.124, 355.253, 355.26, 355.476, 355.487, 355.595, 355.81, 379.371, 379.698, 379.806, 379.81, 379.814, 380.034, 380.04, 380.05, 380.262, 380.298, 380.369, 380.563, 417.422, 418.24, 418.462, 418.465, 418.474, 418.588, 418.692, 418.697, 418.707, 418.807, 418.816, 418.942, 418.949, 418.957, 419.067, 419.13, 435.671, 436.498, 437.344, 437.611, 437.987, 438.209, 438.216, 438.328, 438.342, 438.444, 438.448, 438.453, 438.553, 438.574, 438.657, 438.667, 438.821, 468.074, 468.248, 468.285, 468.429, 469.495, 471.496, 471.608, 471.616, 471.731, 471.847, 471.856, 471.967, 472.103, 472.191, 513.399, 513.889, 514.241, 514.245, 514.467, 514.48, 514.606, 514.696, 514.827, 514.919, 514.94, 515.028, 515.067, 572.527, 572.882, 573.229, 573.441, 573.448, 573.461, 573.556, 573.561, 573.565, 573.579, 573.616, 573.683, 573.696, 573.787, 573.903, 574.34, 593.152, 593.421, 593.711, 594.009, 594.579, 594.686, 596.264, 596.502, 596.736, 596.837, 596.853, 596.949, 596.955, 597.074, 597.288, 597.407, 620.48, 620.723, 620.826, 620.83, 620.948, 620.953, 621.201, 621.225, 621.699, 622.649, 622.756, 623.9, 625.382, 641.578, 642.324, 643.058, 643.301, 643.41, 643.416, 643.551, 643.653, 643.657, 643.771, 643.87, 643.883, 643.993, 643.998, 644.085, 644.134, 644.176]), array([63.2421, 63.3025, 63.3114, 63.3161, 63.3228, 63.3392, 63.4343, 63.4389, 63.4456, 63.4709, 63.5582, 63.5656, 63.5722, 63.5893, 63.6991, 63.7055, 64.1367, 64.1442, 64.1789, 90.8193, 91.0195, 91.1817, 91.2736, 92.9954, 93.0006, 93.0086, 93.092, 93.1016, 93.1159, 93.1227, 93.2004, 93.2135, 93.2199, 93.2489, 93.262, 93.302, 93.3149, 93.3238, 93.3319, 93.3579, 93.4362, 93.4583, 93.4954, 93.576, 93.6135, 93.7056, 144.927, 145.153, 145.161, 145.173, 145.255, 145.279, 145.376, 145.39, 145.394, 145.401, 145.472, 145.48, 145.515, 145.521, 145.541, 145.597, 145.605, 145.626, 145.64, 145.742, 145.75, 145.878, 145.89, 147.144, 182.971, 183.083, 183.095, 183.203, 183.207, 183.217, 183.283, 183.292, 183.307, 183.313, 183.324, 183.333, 183.397, 183.404, 183.414, 183.515, 183.529, 183.663, 183.669, 183.797, 210.584, 210.695, 210.705, 210.709, 210.715, 210.781, 210.798, 210.817, 210.825, 210.83, 210.837, 210.894, 210.905, 210.912, 211.012, 211.027, 211.034, 211.143, 211.462, 213.078, 242.003, 242.108, 242.118, 242.212, 242.596, 244.441, 244.534, 244.541, 244.639, 244.674, 244.705, 244.731, 244.738, 244.743, 244.795, 244.803, 244.808, 244.815, 244.825, 244.843, 244.909, 244.93, 244.941, 244.954, 245.03, 245.038, 245.047, 245.054, 245.154, 245.174, 259.883, 261.658, 261.669, 261.767, 261.773, 261.78, 261.785, 261.793, 261.866, 261.875, 261.881, 261.887, 261.894, 261.936, 261.961, 261.991, 262.069, 262.09, 262.106, 262.241, 262.352, 263.034, 263.502, 285.059, 285.07, 285.079, 285.155, 285.17, 285.176, 285.186, 285.192, 285.2, 285.277, 285.289, 285.294, 285.304, 285.312, 285.386, 285.407, 285.412, 285.519, 306.27, 306.275, 306.625, 307.254, 307.263, 307.372, 307.376, 307.381, 307.394, 307.445, 307.453, 307.461, 307.47, 307.477, 307.484, 307.491, 307.562, 307.569, 307.587, 307.596, 307.694, 334.055, 334.342, 335.016, 335.117, 335.13, 335.153, 335.247, 335.258, 335.266, 335.357, 335.363, 335.373, 335.381, 335.39, 335.46, 335.468, 335.475, 335.491, 335.575, 335.582, 335.587, 335.698, 352.788, 353.127, 353.147, 354.731, 354.867, 354.946, 354.962, 354.97, 354.975, 354.989, 355.064, 355.078, 355.085, 355.092, 355.177, 355.191, 355.212, 355.222, 355.299, 355.314, 355.87, 379.556, 379.667, 379.676, 379.682, 379.688, 379.757, 379.764, 379.782, 379.859, 379.865, 379.879, 379.887, 380.458, 380.795, 417.16, 417.258, 417.282, 417.593, 417.597, 418.206, 418.316, 418.429, 418.435, 418.44, 418.447, 418.527, 418.545, 418.552, 418.568, 418.633, 418.646, 418.656, 418.68, 418.767, 420.039, 435.663, 435.831, 436.703, 436.717, 437.158, 437.163, 437.951, 437.963, 438.067, 438.071, 438.083, 438.09, 438.138, 438.146, 438.155, 438.166, 438.189, 438.271, 438.278, 438.298, 438.393, 469.474, 469.686, 469.803, 470.021, 470.306, 471.371, 471.463, 471.468, 471.474, 471.479, 471.548, 471.554, 471.562, 471.571, 471.579, 471.593, 471.668, 471.679, 471.693, 471.702, 514.21, 514.219, 514.225, 514.296, 514.306, 514.325, 514.331, 514.342, 514.398, 514.414, 514.424, 514.433, 514.45, 514.509, 514.521, 514.528, 514.642, 514.67, 572.489, 573.094, 573.105, 573.191, 573.195, 573.199, 573.205, 573.214, 573.263, 573.274, 573.278, 573.296, 573.311, 573.318, 573.379, 573.397, 573.403, 573.517, 574.679, 595.129, 595.149, 595.274, 596.36, 596.464, 596.472, 596.478, 596.483, 596.488, 596.569, 596.573, 596.579, 596.585, 596.592, 596.661, 596.671, 596.693, 596.712, 596.786, 596.8, 620.331, 620.459, 620.465, 620.593, 620.674, 620.681, 620.686, 620.692, 620.698, 620.752, 620.768, 620.775, 620.795, 620.883, 620.89, 620.899, 620.907, 621.017, 621.023, 621.14, 621.866, 622.612, 623.392, 623.803, 624.238, 641.141, 641.449, 641.465, 641.516, 641.682, 641.886, 641.999, 643.033, 643.04, 643.146, 643.151, 643.158, 643.168, 643.257, 643.27, 643.276, 643.282, 643.361, 643.372, 643.384, 643.394, 643.469, 643.475, 643.481, 643.489, 643.496, 643.58, 643.592, 643.601, 643.614, 643.626, 643.716, 644.33]), array([93.3713, 93.388, 145.544, 145.755, 145.772, 145.786, 145.791, 145.866, 145.875, 145.881, 183.339, 183.587, 210.854, 211.048, 211.059, 211.144, 244.976, 262.007, 262.018, 262.026, 262.225, 262.232, 262.239, 262.299, 262.348, 285.422, 285.43, 285.44, 285.476, 285.54, 307.714, 307.718, 307.776, 335.613, 335.63, 335.715, 335.787, 355.243, 355.247, 355.251, 418.802, 438.429, 471.605, 471.819, 471.836, 514.467, 573.552, 596.83, 596.835, 596.876, 596.881, 621.059, 643.406, 643.41]), array([91.3414, 182.081, 182.085, 182.254, 259.815, 259.842, 259.848, 259.854, 259.86, 259.875, 259.94, 259.997, 260, 260.004, 260.039, 260.049, 260.058, 260.122, 260.125, 260.131, 260.229, 260.232, 260.243, 260.251, 306.287, 306.554, 306.559, 306.598, 306.617, 353.02, 353.028, 353.041, 353.045, 353.264, 353.308, 378.708, 378.799, 378.811, 378.815, 378.828, 378.834, 378.906, 417.175, 417.272, 417.277, 417.28, 417.57, 436.724, 436.946, 437.157, 437.162, 469.187, 469.19, 469.193, 469.197, 469.199, 469.21, 469.283, 469.295, 469.312, 469.323, 469.329, 469.335, 469.338, 469.345, 469.349, 469.355, 469.361, 469.408, 469.412, 469.418, 469.425, 469.431, 469.436, 469.44, 469.447, 469.452, 469.459, 469.467, 469.513, 469.526, 469.538, 469.545, 469.552, 469.556, 469.563, 469.568, 469.575, 469.584, 469.639, 469.643, 469.65, 469.657, 469.664, 469.669, 469.674, 469.688, 469.776, 470.109, 470.375, 470.378, 513.017, 513.033, 513.051, 513.086, 513.107, 513.113, 513.117, 513.123, 513.126, 513.131, 513.218, 513.225, 513.23, 513.241, 513.25, 513.322, 513.344, 513.361, 513.365, 513.434, 513.448, 513.462, 513.466, 513.529, 513.535, 513.546, 513.553, 513.556, 513.563, 513.572, 513.578, 513.583, 513.603, 513.667, 513.672, 513.683, 572.279, 572.365, 572.375, 572.385, 572.389, 572.435, 572.438, 572.457, 572.462, 572.469, 572.475, 572.546, 572.575, 595.144, 595.155, 595.361, 595.365, 595.371, 595.376, 595.594, 595.605, 595.612, 595.898, 641.445, 641.458, 641.473, 641.899, 641.905, 641.909, 641.916]), array([63.7875, 93.5833, 93.5922, 93.5971, 93.6678, 145.794, 145.918, 183.737, 184.861, 211.209, 211.257, 211.261, 211.266, 211.28, 211.316, 211.394, 211.397, 211.4, 245.233, 245.237, 245.24, 245.295, 245.388, 245.396, 245.407, 245.411, 245.492, 245.504, 262.245, 262.26, 262.287, 262.316, 262.587, 262.6, 285.542, 285.622, 285.641, 285.705, 285.708, 285.775, 306.364, 307.904, 307.907, 307.914, 307.928, 307.935, 307.946, 308.024, 308.029, 308.06, 335.627, 335.747, 335.793, 335.82, 335.933, 335.966, 336.058, 336.061, 355.449, 355.46, 355.484, 355.512, 355.522, 355.567, 355.679, 355.684, 378.833, 380.136, 380.236, 380.24, 380.244, 380.266, 380.386, 417.039, 417.237, 418.929, 418.965, 418.968, 419.015, 419.122, 419.125, 419.13, 419.223, 419.237, 438.562, 438.754, 469.186, 471.834, 471.84, 471.916, 471.94, 471.95, 472, 472.004, 472.018, 472.034, 472.064, 472.144, 472.157, 513.449, 514.689, 514.728, 514.734, 514.856, 514.88, 515.012, 515.018, 515.021, 515.029, 515.114, 515.117, 515.121, 515.129, 515.14, 573.411, 573.523, 573.56, 573.565, 573.681, 573.685, 573.747, 573.766, 573.77, 573.845, 573.851, 573.857, 573.861, 573.869, 573.879, 573.883, 595.223, 596.936, 596.949, 597.014, 597.048, 597.12, 597.145, 597.15, 597.239, 597.273, 597.276, 620.751, 621.068, 621.072, 621.191, 621.216, 621.388, 621.461, 644.067, 644.071, 644.077]), array([93.2654, 93.2726, 93.3853, 93.3925, 93.4758, 93.567, 93.5737, 93.5827, 145.324, 145.778, 145.794, 145.867, 181.955, 183.344, 183.348, 183.357, 183.456, 183.767, 183.791, 185.162, 210.737, 210.864, 210.955, 210.966, 211.059, 211.065, 211.074, 211.28, 244.762, 244.867, 244.974, 244.981, 245.086, 245.278, 245.296, 246.882, 260.997, 261.916, 262.02, 262.128, 262.258, 262.364, 262.377, 285.097, 285.32, 285.324, 285.327, 285.448, 285.658, 307.51, 307.518, 307.623, 307.734, 307.824, 307.827, 335.404, 335.723, 335.743, 335.834, 355.112, 355.116, 355.264, 355.349, 355.354, 355.55, 355.556, 356.303, 379.696, 379.801, 380.121, 380.136, 418.694, 418.699, 418.834, 418.975, 420.394, 438.204, 438.217, 438.436, 438.445, 471.608, 471.612, 471.618, 514.247, 514.467, 514.473, 514.581, 514.798, 514.849, 514.874, 514.893, 515.006, 573.228, 573.438, 573.441, 573.552, 573.687, 595.595, 596.615, 596.836, 596.84, 596.928, 598.352, 620.823, 620.936, 620.939, 621.179, 621.183, 621.23, 621.24, 621.25, 621.398, 623.026, 623.634, 624.095, 643.291, 643.413, 643.418, 643.532, 643.648, 643.745, 643.764, 643.768, 643.838, 643.871, 643.942, 644.175]), array([63.1584, 90.6444, 90.7352, 91.4624, 92.0509, 92.958, 92.9826, 93.2937, 94.2633, 94.9604, 95.0636, 95.0735, 95.0815, 95.0912, 95.1959, 95.2132, 95.2458, 95.3237, 95.3424, 95.3768, 95.403, 95.44, 95.4726, 95.7411, 95.7934, 95.837, 95.9094, 145.033, 145.04, 145.266, 145.27, 145.274, 145.364, 145.37, 145.394, 145.437, 147.046, 147.141, 147.151, 147.156, 147.254, 147.259, 147.268, 147.345, 147.511, 147.592, 147.617, 147.705, 147.809, 147.866, 147.876, 147.883, 147.907, 147.957, 147.997, 148.035, 148.043, 148.237, 148.356, 182.58, 182.725, 182.872, 183.205, 183.529, 184.473, 184.809, 184.813, 185.037, 185.044, 185.048, 185.14, 185.145, 185.15, 185.156, 185.173, 185.206, 185.225, 185.353, 185.381, 185.432, 185.467, 185.479, 185.537, 185.559, 185.576, 185.598, 185.626, 185.705, 185.714, 185.778, 185.799, 185.82, 185.865, 185.931, 186.022, 210.578, 210.582, 210.589, 210.695, 210.795, 210.82, 211.856, 212.07, 212.076, 212.202, 212.317, 212.323, 212.326, 212.339, 212.439, 212.445, 212.45, 212.541, 212.547, 212.559, 212.566, 212.597, 212.622, 212.684, 212.69, 212.696, 212.708, 212.808, 212.849, 212.877, 212.98, 213.052, 213.109, 213.147, 213.194, 213.212, 242.218, 244.709, 245.351, 245.74, 246.181, 246.186, 246.406, 246.411, 246.424, 246.514, 246.524, 246.536, 246.631, 246.645, 246.65, 246.668, 246.679, 246.742, 246.75, 246.756, 246.789, 246.809, 246.867, 246.905, 246.914, 246.955, 246.962, 247.009, 247.045, 247.058, 247.106, 247.121, 247.163, 247.222, 247.229, 247.273, 247.341, 247.433, 261.036, 261.548, 261.646, 261.654, 261.684, 261.78, 261.866, 261.959, 262.786, 263.186, 263.385, 263.416, 263.523, 263.53, 263.538, 263.555, 263.613, 263.67, 263.76, 263.766, 263.771, 263.778, 263.863, 263.872, 263.878, 263.888, 263.897, 263.952, 263.966, 264.004, 264.012, 264.077, 264.093, 264.104, 264.154, 264.235, 264.388, 264.413, 264.475, 264.506, 264.536, 264.575, 264.698, 264.708, 264.743, 264.861, 264.901, 284.963, 285.066, 285.273, 285.732, 286.061, 286.425, 286.65, 286.665, 286.895, 286.902, 286.907, 287.016, 287.022, 287.04, 287.126, 287.137, 287.145, 287.163, 287.169, 287.221, 287.232, 287.27, 287.371, 287.38, 287.407, 287.415, 287.45, 287.547, 287.562, 287.658, 287.695, 287.738, 307.029, 307.256, 307.26, 307.265, 307.368, 307.371, 307.433, 308.271, 308.614, 308.626, 308.73, 308.851, 308.956, 308.964, 308.968, 308.971, 308.978, 309.065, 309.079, 309.085, 309.099, 309.189, 309.207, 309.266, 309.319, 309.372, 309.419, 309.592, 309.601, 309.819, 335.14, 335.339, 336.513, 336.641, 336.863, 336.871, 336.973, 336.984, 337.084, 337.091, 337.098, 337.133, 337.188, 337.205, 337.218, 337.246, 337.332, 337.356, 337.398, 337.448, 337.535, 337.552, 337.621, 337.668, 337.938, 337.993, 338.026, 338.248, 338.273, 353.612, 354.862, 354.968, 356.251, 356.598, 356.604, 356.711, 356.719, 356.726, 356.748, 356.843, 356.848, 356.858, 356.955, 356.967, 356.972, 356.992, 356.997, 357.097, 357.202, 357.26, 357.295, 357.331, 357.343, 357.39, 357.463, 357.503, 357.678, 379.341, 379.556, 379.561, 379.744, 381.048, 381.273, 381.279, 381.376, 381.384, 381.387, 381.495, 381.6, 381.61, 381.616, 381.628, 381.704, 381.717, 381.729, 381.76, 381.799, 381.835, 381.843, 381.893, 381.9, 381.938, 381.957, 381.989, 382.016, 382.02, 382.064, 382.132, 382.157, 382.185, 382.291, 418.315, 418.32, 418.533, 418.641, 419.576, 419.798, 419.907, 420.017, 420.022, 420.119, 420.134, 420.139, 420.154, 420.205, 420.255, 420.276, 420.334, 420.347, 420.351, 420.364, 420.368, 420.381, 420.406, 420.436, 420.573, 420.59, 420.605, 420.666, 420.677, 420.692, 420.704, 420.84, 420.937, 437.577, 437.589, 437.723, 437.947, 438.148, 439.217, 439.439, 439.565, 439.678, 439.689, 439.8, 439.804, 439.81, 439.816, 439.91, 439.917, 439.921, 439.927, 440.027, 440.033, 440.039, 440.132, 440.14, 440.162, 440.231, 440.262, 440.272, 440.28, 440.321, 440.362, 440.474, 470.203, 471.253, 471.357, 471.465, 471.549, 472.601, 472.609, 472.818, 472.929, 472.941, 473.043, 473.05, 473.063, 473.174, 473.179, 473.187, 473.273, 473.286, 473.297, 473.319, 473.376, 473.387, 473.423, 473.455, 473.479, 473.514, 473.528, 473.556, 473.577, 473.609, 473.669, 473.739, 473.897, 473.92, 473.933, 474.034, 474.187, 474.352, 474.374, 474.681, 513.537, 514.001, 514.099, 514.208, 514.216, 514.313, 515.28, 515.7, 515.707, 515.822, 515.933, 515.944, 515.954, 516.06, 516.068, 516.165, 516.172, 516.184, 516.191, 516.27, 516.279, 516.289, 516.296, 516.306, 516.323, 516.377, 516.385, 516.395, 516.409, 516.453, 516.47, 516.516, 516.576, 516.66, 516.763, 516.881, 572.623, 572.86, 573.27, 573.309, 574.453, 574.576, 574.792, 574.803, 574.809, 574.91, 574.916, 575.019, 575.039, 575.111, 575.116, 575.154, 575.203, 575.238, 575.245, 575.252, 575.277, 575.373, 575.439, 575.472, 575.643, 575.807, 575.837, 595.98, 596.246, 596.353, 597.179, 597.845, 597.977, 598.096, 598.115, 598.214, 598.219, 598.226, 598.329, 598.333, 598.338, 598.343, 598.423, 598.442, 598.449, 598.452, 598.464, 598.473, 598.558, 598.575, 598.59, 598.617, 598.758, 598.841, 599.027, 599.129, 599.43, 620.326, 620.567, 620.582, 620.59, 620.667, 620.672, 620.751, 621.395, 622.039, 623.404, 623.473, 623.749, 623.762, 623.868, 623.873, 623.973, 623.98, 623.989, 623.994, 624.05, 624.09, 624.105, 624.183, 624.199, 624.237, 624.259, 624.292, 624.299, 624.305, 624.316, 624.327, 624.336, 624.348, 624.358, 624.464, 624.472, 624.491, 624.585, 624.657, 624.701, 624.779, 624.914, 624.921, 641.202, 642.945, 643.138, 643.149, 643.152, 643.16, 644.239, 644.871, 644.876, 644.984, 645.003, 645.113, 645.124, 645.357, 645.367, 645.479, 645.487, 645.492, 645.58, 645.601, 645.653, 645.711, 645.717, 645.73, 645.734, 645.742, 645.798, 645.819, 645.826, 645.834, 645.935, 645.988, 646.009, 646.029, 646.066, 646.314, 646.33]), array([63.2748, 63.6472, 90.8546, 90.8641, 91.9108, 91.9159, 92.6659, 92.9886, 92.998, 93.0134, 93.1429, 145.503, 182.257, 182.582, 182.587, 182.754, 182.99, 210.37, 241.682, 241.689, 242.033, 245.518, 245.967, 260.981, 261.294, 306.171, 308.272, 334.413, 334.421, 352.577, 352.583, 353.88, 353.887, 353.892, 355.015, 379.103, 417.053, 436.233, 436.244, 436.974, 437.543, 468.48, 470.439, 470.892, 471.165, 513.514, 572.408, 572.416, 572.769, 573.844, 574.424, 593.317, 594.55, 594.554, 594.569, 594.581, 598.367, 620.609, 625.104, 641.18, 641.196, 642.467, 642.71, 643.184, 643.189]), array([90.845, 92.2437, 92.2613, 92.3665, 92.3742, 92.3787, 92.402, 92.4095, 92.5194, 92.5274, 92.8985, 145.305, 183.113, 183.119, 210.047, 210.058, 210.071, 244.017, 260.642, 284.698, 310.01, 310.055, 336.772, 352.542, 352.548, 352.559, 354.382, 354.388, 354.394, 354.398, 354.917, 356.385, 379.591, 436.444, 436.45, 468.478, 468.716, 468.728, 468.959, 468.965, 472.959, 472.967, 474.555, 474.564, 514.864, 515.371, 595.022, 595.632, 598.935, 641.166, 641.175, 641.933, 641.939, 641.945, 647.081]), array([63.2574, 63.4005, 91.4781, 91.4849, 91.6026, 91.8673, 91.9176, 92.0155, 93.1372, 93.141, 144.888, 145.059, 145.064, 145.307, 182.451, 182.606, 182.684, 182.849, 182.895, 183.124, 183.372, 184.579, 184.804, 185.092, 210.187, 210.44, 210.513, 241.893, 242.365, 243.783, 243.869, 243.999, 244.108, 244.305, 244.433, 244.552, 245.52, 246.404, 259.975, 260.093, 260.311, 260.609, 260.732, 260.904, 261.106, 261.311, 261.604, 263.407, 263.65, 284.715, 285.105, 287.1, 306.174, 306.183, 306.795, 306.8, 306.995, 307.289, 308.732, 334.435, 334.513, 334.657, 334.759, 334.977, 335.923, 336.636, 336.865, 352.599, 353.428, 353.858, 353.895, 353.916, 354.114, 354.474, 354.753, 356.89, 378.724, 378.729, 378.961, 379.112, 379.2, 379.287, 379.364, 379.478, 381.561, 382.844, 417.064, 417.072, 417.076, 417.387, 417.528, 417.74, 418.14, 418.154, 418.172, 419.907, 436.745, 436.958, 437.559, 437.742, 437.747, 468.491, 468.977, 469.172, 469.25, 469.255, 469.388, 469.603, 469.609, 469.839, 469.846, 470.122, 470.983, 470.986, 471.094, 471.195, 472.817, 513.137, 513.147, 513.152, 513.491, 513.723, 513.742, 513.934, 516.225, 516.23, 572.504, 572.561, 572.613, 572.718, 573.328, 573.345, 574.91, 575.062, 594.56, 594.567, 594.572, 595.156, 595.381, 595.724, 596.064, 596.136, 596.382, 597.975, 598.097, 599.33, 599.442, 620.881, 621.103, 621.114, 623.633, 623.749, 623.969, 641.2, 641.209, 641.473, 642.046, 642.154, 642.276, 642.402, 642.424, 642.649, 642.661, 643.698, 644.872, 646.841, 646.849]), array([63.5129, 63.5179, 64.083, 64.192, 91.3771, 91.4965, 92.9662, 93.4125, 94.6019, 145.243, 182.161, 182.181, 182.37, 182.611, 182.725, 242.123, 242.537, 243.922, 261.545, 264.983, 265.002, 306.414, 306.615, 310.018, 336.824, 353.925, 381.312, 417.263, 417.338, 417.356, 417.366, 418.423, 419.876, 419.972, 436.714, 437.024, 439.659, 468.704, 468.827, 469.352, 469.479, 469.485, 471.843, 472.016, 472.019, 572.861, 574.782, 594.588, 595.803, 597.932, 621.08, 621.086, 621.088, 623.716, 641.244, 641.902, 641.988, 642.003, 643.182, 643.236, 643.668, 643.673, 644.855, 645.214]), array([90.4319, 90.4419, 90.5327, 90.5946, 92.0482, 92.7648, 92.8588, 145.264, 145.382, 148.147, 183.071, 212.252, 241.518, 241.628, 244.625, 246.168, 261.049, 261.054, 261.859, 306.077, 306.093, 306.116, 352.62, 353.103, 379.54, 415.905, 416.874, 416.898, 417.21, 417.235, 417.326, 419.9, 435.659, 435.797, 436.203, 436.338, 437.928, 468.292, 468.946, 469.076, 471.357, 471.44, 472.031, 514.097, 593.246, 593.978, 594.096, 594.501, 594.508, 594.522, 594.574, 595.326, 641.216, 641.325, 641.334, 641.351]), array([91.0833, 94.9627, 95.1102, 95.1214, 95.1776, 95.1942, 95.2111, 95.2252, 95.3024, 95.3061, 95.3167, 95.3219, 95.329, 95.347, 95.3541, 147.258, 147.361, 147.369, 147.427, 147.431, 147.446, 147.47, 147.59, 147.604, 185.044, 185.051, 185.15, 185.165, 185.183, 185.256, 185.331, 185.343, 185.349, 185.358, 212.439, 212.45, 212.538, 212.547, 212.559, 212.57, 212.577, 212.64, 212.67, 212.694, 212.704, 246.623, 246.629, 246.65, 246.662, 246.725, 246.74, 246.752, 246.757, 246.764, 246.79, 246.85, 246.858, 246.868, 246.883, 263.761, 263.776, 263.863, 263.921, 263.939, 263.952, 263.967, 263.979, 264.06, 264.086, 264.125, 287.009, 287.019, 287.037, 287.115, 287.118, 287.133, 287.165, 287.248, 287.261, 287.273, 287.35, 287.364, 308.961, 308.967, 308.971, 309.082, 309.16, 309.182, 309.189, 309.197, 309.27, 309.279, 309.284, 309.306, 337.098, 337.178, 337.19, 337.229, 337.287, 337.303, 337.309, 337.333, 337.451, 356.836, 356.84, 356.844, 356.952, 356.961, 356.969, 357.031, 357.047, 357.052, 357.187, 357.192, 381.589, 381.597, 381.606, 381.702, 381.741, 381.768, 381.779, 381.799, 381.822, 420.137, 420.151, 420.233, 420.252, 420.259, 420.268, 420.297, 420.321, 420.35, 420.363, 420.46, 420.468, 439.806, 439.906, 439.916, 439.927, 440.02, 440.051, 440.109, 440.143, 440.158, 473.162, 473.189, 473.281, 473.292, 473.356, 473.36, 473.384, 473.391, 473.916, 516.177, 516.183, 516.269, 516.278, 516.298, 516.361, 516.368, 516.401, 575.028, 575.032, 575.104, 575.11, 575.133, 575.169, 575.218, 575.238, 598.215, 598.313, 598.328, 598.407, 598.496, 598.501, 598.507, 598.524, 623.971, 623.976, 623.981, 624.076, 624.088, 624.097, 624.132, 624.17, 624.183, 624.202, 624.29, 624.3, 624.306, 645.483, 645.581, 645.587, 645.591, 645.598, 645.605, 645.696, 645.783, 645.802, 645.812, 645.838, 645.843, 645.923, 645.934, 645.963]), array([94.9721, 95.0789, 95.0919, 95.097, 95.2334, 95.2632, 95.2683, 95.2736, 95.2831, 95.3766, 95.3878, 95.4167, 95.6229, 95.6309, 95.6523, 95.737, 95.7968, 95.9442, 147.15, 147.267, 147.368, 147.381, 147.387, 147.492, 147.52, 147.737, 147.78, 147.826, 147.884, 147.889, 148.067, 148.084, 184.818, 184.827, 185.048, 185.053, 185.161, 185.166, 185.173, 185.514, 185.6, 185.707, 185.856, 185.954, 185.958, 212.085, 212.33, 212.447, 212.452, 212.585, 212.588, 212.71, 212.727, 212.74, 213.031, 213.037, 213.168, 213.196, 246.424, 246.531, 246.658, 246.665, 246.676, 246.796, 246.814, 247.06, 247.124, 247.259, 247.327, 247.346, 263.37, 263.54, 263.784, 263.889, 263.893, 263.901, 264.014, 264.04, 264.155, 264.475, 264.539, 264.638, 264.666, 264.832, 287.034, 287.301, 287.316, 287.736, 287.762, 308.969, 308.975, 309.087, 309.1, 309.241, 309.341, 309.675, 310.174, 337.106, 337.112, 337.116, 337.128, 337.236, 337.247, 337.256, 337.564, 337.582, 337.594, 337.947, 356.862, 356.976, 356.996, 357.138, 357.397, 357.424, 357.5, 357.582, 357.664, 381.617, 381.623, 381.76, 381.892, 382.009, 382.142, 382.458, 382.79, 420.149, 420.285, 420.381, 420.395, 420.405, 420.941, 421.027, 439.811, 439.931, 440.063, 440.067, 440.374, 473.06, 473.072, 473.202, 473.308, 473.319, 473.59, 473.641, 473.803, 473.809, 473.901, 473.914, 474.328, 474.38, 474.484, 474.648, 513.002, 515.956, 516.311, 516.317, 516.322, 516.422, 516.447, 516.594, 516.605, 516.768, 516.858, 574.811, 575.035, 575.137, 575.147, 575.157, 575.289, 575.354, 575.51, 575.693, 598.346, 598.462, 598.475, 598.606, 598.625, 599.102, 599.15, 599.159, 623.995, 624.002, 624.108, 624.249, 624.35, 624.622, 624.702, 624.718, 624.816, 625.144, 625.32, 645.508, 645.619, 645.633, 645.74, 645.747, 645.886, 645.893, 646.146, 646.542]), array([91.3955, 94.2824, 145.395, 147.959, 212.946, 241.768, 241.789, 242.285, 244.309, 247.081, 262.52, 263.469, 264.942, 286.187, 287.613, 306.508, 308.052, 308.582, 309.992, 310.028, 310.109, 335.385, 335.553, 337.888, 355.031, 355.794, 382.187, 415.731, 438.732, 469.274, 471.464, 513.561, 514.772, 515.757, 572.772, 573.356, 573.46, 574.545, 596.636, 597.731, 621.308, 621.326, 641.237, 641.245, 643.195, 643.21, 647.074]), array([90.6886, 90.953, 91.2891, 92.1619, 93.2409, 182.082, 182.235, 210.096, 210.103, 241.638, 241.885, 242.038, 306.277, 336.865, 352.806, 378.701, 417.152, 417.172, 417.265, 417.281, 417.289, 417.557, 435.977, 436.04, 436.061, 436.931, 468.057, 469.493, 470.537, 470.793, 513.359, 572.255, 572.329, 572.34, 595.047, 595.115, 595.142, 597.833, 641.464, 641.468, 641.697]), array([94.9806, 95.1036, 95.1087, 95.4404, 95.548, 95.9373, 146.471, 147.395, 147.528, 147.68, 148.105, 148.112, 148.126, 148.332, 182.287, 185.074, 185.188, 185.451, 185.888, 211.659, 212.356, 212.479, 212.981, 242.289, 244.097, 246.689, 247.518, 247.526, 264.049, 265.066, 265.072, 265.098, 285.779, 308.984, 309.252, 309.875, 309.883, 309.892, 334.595, 337.514, 338.192, 357.401, 380.021, 382.628, 418.024, 420.62, 420.753, 439.824, 440.386, 440.503, 473.534, 473.815, 474.059, 474.149, 474.678, 474.683, 515.963, 516.463, 575.153, 575.163, 596.871, 598.361, 598.76, 599.045, 599.056, 599.067, 599.219, 599.235, 599.239, 623.225, 624.123, 624.133, 624.405, 624.418, 625.176, 645.645, 646.412, 646.418, 646.423, 646.698, 646.709, 646.719, 646.729]), array([63.1729, 63.1844, 63.4464, 63.5511, 63.6154, 63.6784, 63.8477, 63.9906, 64.1162, 92.7739, 92.8633, 92.8773, 92.89, 92.9423, 92.9765, 93.0716, 93.2096, 93.6265, 144.91, 144.918, 145.019, 145.13, 145.246, 145.357, 145.481, 183.055, 183.213, 183.313, 183.414, 183.796, 210.682, 210.689, 210.699, 210.794, 210.912, 244.293, 244.419, 244.513, 244.638, 244.723, 260.809, 261.426, 261.637, 261.648, 261.659, 261.759, 261.78, 261.861, 261.881, 262.382, 285.04, 285.071, 285.165, 285.172, 285.178, 285.257, 285.269, 285.277, 285.399, 307.144, 307.254, 307.259, 307.355, 307.359, 307.459, 307.582, 334.897, 335.233, 335.247, 335.254, 335.337, 335.348, 335.37, 354.931, 354.957, 354.972, 355.085, 379.455, 379.529, 379.541, 379.663, 379.757, 418.207, 418.322, 418.421, 418.427, 418.439, 418.539, 418.645, 420.039, 437.842, 437.913, 437.946, 438.048, 438.061, 438.124, 471.433, 471.457, 471.691, 514.002, 514.104, 514.275, 514.326, 573.088, 573.173, 573.198, 573.284, 573.305, 596.001, 596.46, 596.562, 596.579, 620.45, 620.568, 620.651, 620.662, 620.793, 642.288, 643.009, 643.022, 643.136, 643.143, 643.238, 643.27]), array([63.6846, 92.0432, 92.0577, 92.8719, 145.222, 210.452, 212.747, 244.395, 244.487, 244.628, 264.27, 285.049, 287.662, 335.126, 354.715, 382.034, 418.526, 471.359, 471.554, 514.421, 573.082, 573.843, 596.326, 596.465, 620.317, 620.457, 620.782, 643.151]), array([63.4007, 63.6727, 63.69, 63.6994, 63.708, 63.8319, 63.8375, 63.8962, 64.0091, 64.0224, 64.0457, 93.2642, 93.4025, 93.4182, 93.498, 93.5146, 93.5214, 93.5519, 93.5616, 93.6121, 93.6226, 93.6308, 93.704, 93.7175, 93.7373, 93.7979, 93.8049, 93.8459, 94.2001, 94.224, 94.6238, 94.6305, 94.7333, 94.8331, 94.8389, 94.8453, 94.8598, 94.928, 94.9326, 94.9386, 94.9904, 95.018, 95.04, 95.0562, 95.1268, 95.1544, 95.185, 95.1936, 95.2093, 95.3402, 95.4733, 145.69, 145.703, 145.807, 145.815, 145.905, 145.911, 145.934, 146.057, 146.125, 146.157, 146.174, 146.234, 146.251, 146.265, 146.36, 146.485, 146.582, 146.599, 147.032, 147.038, 147.12, 147.13, 147.186, 147.195, 147.231, 147.237, 147.245, 147.288, 147.303, 147.329, 147.339, 147.354, 147.414, 147.421, 147.46, 147.482, 147.571, 147.606, 148.154, 183.478, 183.581, 183.648, 183.717, 183.726, 183.797, 183.81, 183.817, 183.833, 183.896, 183.914, 183.925, 183.934, 184.018, 184.055, 184.147, 184.238, 184.471, 184.483, 184.805, 184.907, 184.915, 184.993, 185.018, 185.023, 185.032, 185.073, 185.081, 185.092, 185.123, 185.134, 185.143, 185.197, 185.203, 185.233, 185.243, 185.274, 185.366, 185.377, 185.953, 210.968, 210.982, 211.079, 211.186, 211.195, 211.225, 211.242, 211.255, 211.298, 211.305, 211.4, 211.405, 211.478, 211.491, 211.61, 211.614, 211.908, 212.076, 212.192, 212.199, 212.306, 212.316, 212.4, 212.414, 212.423, 212.485, 212.49, 212.503, 212.509, 212.518, 212.573, 212.632, 212.644, 212.67, 212.796, 243.829, 244.991, 245.089, 245.096, 245.195, 245.213, 245.299, 245.312, 245.322, 245.385, 245.392, 245.432, 245.539, 245.741, 245.886, 245.89, 245.905, 246, 246.408, 246.415, 246.486, 246.494, 246.505, 246.559, 246.566, 246.586, 246.596, 246.608, 246.7, 246.713, 246.721, 246.779, 246.856, 246.866, 246.877, 262.267, 262.361, 262.375, 262.39, 262.449, 262.454, 262.493, 262.514, 262.813, 263.067, 263.41, 263.442, 263.524, 263.538, 263.638, 263.643, 263.652, 263.667, 263.721, 263.738, 263.744, 263.8, 263.809, 263.814, 263.84, 263.852, 263.867, 263.929, 263.933, 263.972, 264.09, 264.098, 285.57, 285.733, 285.752, 285.76, 285.789, 285.794, 285.863, 285.891, 285.899, 285.991, 286.084, 286.26, 286.375, 286.666, 286.8, 286.895, 286.9, 286.916, 286.976, 286.996, 287.011, 287.019, 287.074, 287.079, 287.091, 287.1, 287.129, 287.17, 287.21, 287.215, 287.253, 287.37, 307.645, 307.743, 307.752, 307.842, 307.848, 307.861, 307.914, 307.919, 308.06, 308.152, 308.162, 308.852, 308.86, 308.927, 308.931, 308.94, 308.957, 309.008, 309.032, 309.039, 309.052, 309.137, 309.154, 309.165, 309.292, 309.302, 335.415, 335.635, 335.744, 335.758, 335.803, 335.857, 335.971, 335.982, 336.063, 336.291, 336.645, 336.866, 336.872, 336.966, 336.984, 337.047, 337.052, 337.064, 337.076, 337.083, 337.09, 337.147, 337.163, 337.171, 337.218, 337.284, 337.298, 337.33, 337.339, 338.034, 355.482, 355.583, 355.592, 355.689, 355.804, 355.899, 355.911, 356.149, 356.26, 356.607, 356.617, 356.704, 356.709, 356.718, 356.726, 356.768, 356.789, 356.807, 356.83, 356.855, 356.889, 356.899, 356.921, 356.938, 356.956, 357.03, 357.034, 357.042, 357.053, 357.061, 357.068, 379.946, 380.155, 380.169, 380.265, 380.273, 380.28, 380.346, 380.351, 380.365, 380.505, 380.713, 380.955, 381.286, 381.373, 381.38, 381.385, 381.47, 381.475, 381.487, 381.497, 381.548, 381.57, 381.578, 381.585, 381.595, 381.647, 381.651, 381.701, 381.707, 381.738, 381.792, 381.802, 381.809, 418.036, 418.827, 418.941, 418.946, 418.952, 419.039, 419.055, 419.133, 419.137, 419.141, 419.148, 419.152, 419.222, 419.226, 419.236, 419.241, 419.493, 419.917, 420.022, 420.069, 420.088, 420.105, 420.117, 420.126, 420.177, 420.183, 420.2, 420.232, 420.248, 420.327, 420.335, 420.357, 437.353, 438.229, 438.336, 438.444, 438.449, 438.524, 438.534, 438.556, 438.565, 438.57, 438.66, 438.667, 438.673, 438.709, 438.767, 438.779, 438.785, 438.872, 438.882, 438.983, 439.233, 439.683, 439.696, 439.768, 439.773, 439.787, 439.805, 439.859, 439.872, 439.881, 439.898, 439.966, 439.972, 439.98, 440.008, 440.033, 440.116, 440.159, 471.73, 471.737, 471.848, 471.856, 471.958, 471.968, 471.975, 472.043, 472.071, 472.079, 472.165, 472.257, 472.262, 472.271, 472.818, 472.939, 473.035, 473.05, 473.083, 473.091, 473.133, 473.14, 473.157, 473.209, 473.221, 473.252, 473.274, 473.369, 473.374, 473.385, 513.02, 513.389, 514.485, 514.607, 514.709, 514.714, 514.812, 514.837, 514.895, 514.919, 514.926, 514.936, 515.015, 515.023, 515.036, 515.114, 515.131, 515.148, 515.244, 515.503, 515.655, 515.934, 515.939, 516.022, 516.035, 516.042, 516.052, 516.119, 516.136, 516.16, 516.224, 516.23, 516.251, 516.274, 516.291, 516.354, 516.401, 573.455, 573.56, 573.568, 573.683, 573.69, 573.717, 573.771, 573.784, 573.789, 573.796, 573.879, 573.884, 573.89, 574.035, 574.107, 574.368, 574.378, 574.482, 574.805, 574.891, 574.896, 574.908, 574.944, 574.975, 574.982, 575.006, 575.017, 575.066, 575.09, 575.1, 575.116, 575.195, 575.223, 575.233, 594.916, 596.85, 596.934, 596.94, 596.952, 597.037, 597.043, 597.058, 597.088, 597.153, 597.161, 597.248, 597.254, 597.301, 597.649, 597.666, 598.102, 598.205, 598.211, 598.245, 598.262, 598.272, 598.292, 598.317, 598.375, 598.38, 598.428, 598.442, 598.542, 598.554, 621.181, 621.196, 621.213, 621.292, 621.306, 621.4, 621.518, 621.766, 621.771, 621.784, 621.79, 622.014, 622.028, 622.12, 622.266, 622.284, 622.299, 622.478, 622.637, 622.648, 622.831, 623.308, 623.337, 623.749, 623.862, 623.867, 623.942, 623.963, 623.968, 624.015, 624.019, 624.037, 624.054, 624.084, 624.145, 624.156, 624.186, 624.307, 643.863, 643.902, 643.95, 644.009, 644.087, 644.098, 644.115, 644.125, 644.22, 644.225, 644.308, 644.424, 644.429, 644.561, 644.571, 645.108, 645.314, 645.333, 645.338, 645.344, 645.401, 645.413, 645.431, 645.444, 645.461, 645.471, 645.523, 645.547, 645.557, 645.602, 645.66, 645.668, 645.689, 645.705, 645.715, 645.822]), array([63.2256, 63.2357, 63.3071, 63.3118, 63.3176, 63.328, 63.3386, 91.0189, 91.9441, 93.2288, 93.2421, 93.2821, 93.3421, 93.3739, 93.4504, 93.4808, 93.8876, 94.0739, 94.0881, 94.4687, 94.4733, 145.55, 145.554, 145.647, 145.659, 145.784, 146.635, 183.454, 184.648, 210.868, 213.267, 241.977, 244.769, 244.843, 244.883, 245.025, 245.029, 245.034, 245.039, 245.087, 245.298, 245.637, 245.641, 261.899, 262.073, 262.078, 262.13, 262.711, 262.931, 285.404, 285.55, 286.007, 307.612, 307.632, 307.678, 307.691, 335.933, 337.64, 354.748, 379.816, 418.473, 418.666, 418.699, 418.93, 419.121, 438.324, 438.43, 438.448, 467.944, 467.953, 469.772, 471.596, 471.721, 471.733, 471.8, 472.055, 474.803, 514.441, 514.455, 514.461, 514.481, 514.528, 514.538, 514.562, 514.629, 514.632, 573.202, 573.287, 573.396, 573.436, 573.999, 574.003, 574.015, 596.483, 596.491, 596.588, 596.593, 596.633, 596.657, 596.661, 596.664, 596.742, 596.767, 620.341, 620.464, 620.676, 620.694, 620.7, 620.72, 620.771, 620.795, 620.881, 620.885, 620.946, 621.163, 621.201, 622.219, 622.328, 622.332, 622.402, 622.474, 622.487, 622.491, 622.583, 622.587, 622.634, 622.929, 622.934, 622.938, 622.942, 642.389, 643.266, 643.27, 643.31, 643.354, 643.592, 643.794, 644.041, 644.053, 644.145, 644.255, 644.488, 644.494]), array([63.4375, 90.4548, 90.4615, 90.5541, 90.6355, 90.6463, 90.6695, 90.7797, 90.7938, 90.871, 91.4762, 92.5129, 92.522, 181.917, 181.926, 181.952, 181.983, 182.249, 210.056, 210.072, 210.089, 241.642, 241.657, 241.854, 241.943, 241.948, 241.955, 242.044, 242.167, 242.188, 244.387, 244.492, 259.935, 261.04, 306.143, 306.155, 306.172, 306.38, 306.392, 306.405, 306.442, 306.483, 334.895, 352.531, 352.766, 352.774, 352.86, 356.227, 380.013, 417.024, 417.029, 417.959, 435.761, 435.92, 435.925, 435.932, 436.011, 436.021, 436.048, 436.167, 436.189, 436.287, 436.292, 436.344, 436.359, 436.448, 436.561, 436.783, 436.818, 436.909, 436.982, 468.167, 468.271, 468.282, 469.238, 513.007, 513.315, 514.135, 515.843, 595.011, 595.042, 595.642, 596.097, 620.315, 620.401, 641.109, 641.183, 641.306, 641.316, 641.398, 641.402, 641.415, 641.516, 641.529, 641.538, 641.773, 641.963]), array([63.8043, 63.9695, 64.1008, 64.2139, 64.2183, 90.5665, 93.2725, 93.2982, 93.4988, 93.5402, 93.6519, 93.6637, 93.7291, 93.7651, 93.7711, 93.7805, 93.8836, 93.8945, 93.9802, 93.9963, 94.0198, 94.0258, 94.0642, 94.0906, 94.1147, 94.1288, 94.1436, 94.1906, 94.1958, 94.202, 94.222, 94.2382, 94.2627, 94.3243, 94.3655, 94.4426, 145.831, 145.835, 145.943, 145.95, 145.956, 146.073, 146.077, 146.181, 146.19, 146.194, 146.285, 146.289, 146.293, 146.303, 146.309, 146.399, 146.405, 146.502, 146.524, 146.534, 146.587, 146.591, 146.596, 146.609, 146.731, 146.75, 146.843, 182.772, 183.61, 183.614, 183.624, 183.747, 183.856, 183.956, 183.962, 184.065, 184.069, 184.076, 184.082, 184.17, 184.174, 184.179, 184.269, 184.304, 184.313, 184.33, 184.375, 184.38, 184.388, 184.396, 184.487, 184.491, 184.495, 184.517, 184.593, 184.609, 211.096, 211.105, 211.209, 211.216, 211.22, 211.336, 211.344, 211.45, 211.459, 211.56, 211.666, 211.677, 211.683, 211.746, 211.767, 211.792, 211.8, 211.881, 211.887, 211.893, 211.977, 211.986, 212.116, 241.716, 242.216, 242.322, 245.008, 245.013, 245.019, 245.118, 245.123, 245.226, 245.235, 245.344, 245.35, 245.355, 245.462, 245.481, 245.57, 245.581, 245.591, 245.677, 245.681, 245.689, 245.695, 245.807, 245.816, 245.827, 245.908, 245.933, 245.982, 245.988, 246.014, 246.03, 246.135, 262.064, 262.29, 262.418, 262.422, 262.537, 262.545, 262.551, 262.655, 262.661, 262.745, 262.75, 262.759, 262.769, 262.866, 262.874, 262.882, 262.947, 262.955, 262.992, 263.078, 263.116, 263.226, 284.948, 285.479, 285.6, 285.703, 285.824, 285.827, 285.831, 285.929, 286.034, 286.039, 286.045, 286.143, 286.151, 286.262, 286.28, 286.33, 286.339, 286.368, 286.373, 286.457, 286.479, 286.697, 287.658, 307.768, 307.773, 307.881, 307.888, 308.001, 308.008, 308.102, 308.107, 308.122, 308.206, 308.212, 308.216, 308.23, 308.234, 308.301, 308.321, 308.358, 308.404, 308.427, 308.434, 308.535, 308.563, 308.662, 335.665, 335.784, 335.894, 335.902, 336.009, 336.013, 336.023, 336.102, 336.116, 336.121, 336.129, 336.22, 336.228, 336.331, 336.341, 336.35, 336.373, 336.452, 336.465, 336.551, 355.143, 355.275, 355.396, 355.507, 355.512, 355.623, 355.628, 355.636, 355.737, 355.741, 355.831, 355.845, 355.851, 355.866, 355.952, 355.956, 355.98, 356.033, 356.037, 356.065, 356.095, 356.181, 356.202, 356.278, 356.284, 357.157, 380.081, 380.088, 380.196, 380.2, 380.311, 380.321, 380.421, 380.425, 380.438, 380.54, 380.544, 380.668, 380.694, 380.734, 380.77, 380.782, 380.855, 380.873, 380.966, 381.055, 415.737, 415.754, 416.056, 416.078, 416.957, 418.731, 418.841, 419.089, 419.182, 419.19, 419.195, 419.281, 419.292, 419.296, 419.357, 419.386, 419.397, 419.408, 419.418, 419.477, 419.481, 419.513, 419.633, 419.726, 419.733, 438.471, 438.476, 438.48, 438.72, 438.82, 438.824, 438.832, 438.914, 438.926, 438.937, 438.945, 438.997, 439.033, 439.041, 439.049, 439.155, 439.167, 439.28, 439.355, 439.363, 471.769, 471.871, 471.874, 471.879, 471.998, 472.003, 472.118, 472.212, 472.217, 472.313, 472.319, 472.326, 472.338, 472.394, 472.514, 472.549, 472.559, 472.624, 472.629, 514.731, 514.735, 514.756, 514.83, 514.839, 514.844, 514.85, 514.972, 514.992, 515.076, 515.087, 515.093, 515.174, 515.179, 515.184, 515.195, 515.206, 515.3, 515.305, 515.31, 515.328, 515.415, 515.492, 515.502, 515.531, 515.629, 515.633, 515.639, 515.645, 573.471, 573.475, 573.59, 573.714, 573.832, 573.837, 573.945, 573.951, 574.039, 574.043, 574.061, 574.067, 574.165, 574.169, 574.358, 574.381, 574.387, 574.406, 574.503, 596.758, 596.877, 596.98, 596.99, 597.106, 597.202, 597.206, 597.211, 597.221, 597.308, 597.317, 597.327, 597.431, 597.435, 597.452, 597.519, 597.527, 597.56, 597.568, 597.655, 597.689, 597.771, 597.777, 598.702, 620.968, 621.159, 621.33, 621.334, 621.344, 621.451, 621.455, 621.56, 621.565, 621.57, 621.581, 621.691, 621.696, 621.813, 621.97, 621.977, 622.014, 622.034, 622.052, 622.069, 622.191, 622.2, 622.215, 622.302, 622.326, 622.401, 622.526, 622.671, 622.695, 622.702, 622.748, 622.762, 622.773, 622.823, 622.828, 622.91, 622.929, 622.992, 623.081, 623.22, 623.226, 623.26, 623.339, 623.344, 623.446, 643.551, 643.794, 643.809, 643.914, 643.931, 644.052, 644.151, 644.158, 644.165, 644.225, 644.241, 644.258, 644.35, 644.357, 644.475, 644.496, 644.602, 644.607, 644.678, 644.707]), array([63.2107, 63.2175, 63.226, 63.2629, 63.3511, 63.4189, 63.9553, 63.9644, 64.0645, 64.0723, 64.0928, 64.0951, 64.2282, 90.6888, 91.6461, 91.7624, 91.894, 92.0352, 92.043, 92.799, 92.8197, 93.1851, 93.1939, 93.2018, 93.4295, 93.4347, 93.4622, 144.902, 145.018, 145.023, 145.028, 145.134, 145.394, 145.495, 145.504, 145.586, 145.592, 145.615, 145.759, 145.765, 145.847, 145.862, 145.869, 182.718, 182.726, 182.854, 182.863, 182.882, 182.965, 183.161, 183.345, 183.37, 183.379, 183.542, 183.547, 183.65, 210.213, 210.446, 210.453, 210.505, 210.515, 210.66, 210.671, 210.682, 210.856, 210.903, 211.036, 211.064, 211.12, 211.137, 211.152, 211.995, 244.14, 244.292, 244.375, 244.382, 244.507, 244.742, 244.973, 245.033, 245.066, 245.172, 245.306, 259.943, 259.995, 260.336, 260.463, 260.469, 260.499, 260.794, 260.798, 260.804, 260.947, 260.963, 261.418, 261.583, 261.883, 262.009, 262.018, 262.11, 262.208, 262.214, 262.216, 262.238, 262.333, 262.366, 284.714, 284.993, 285.407, 285.434, 285.441, 285.532, 285.545, 285.641, 285.646, 306.935, 307.013, 307.115, 307.129, 307.189, 307.197, 307.514, 307.6, 307.706, 307.721, 307.806, 307.837, 334.878, 334.912, 335.116, 335.276, 335.47, 335.589, 335.708, 335.721, 353.225, 353.612, 354.051, 354.385, 354.486, 354.507, 354.718, 354.761, 355.174, 355.206, 355.229, 355.249, 355.336, 355.428, 355.441, 379.38, 379.531, 379.771, 379.798, 379.865, 379.874, 379.919, 380.002, 380.007, 380.019, 380.124, 417.405, 418.088, 418.12, 418.448, 418.561, 418.586, 418.591, 418.758, 418.762, 418.767, 418.775, 437.33, 437.335, 437.584, 437.617, 437.727, 437.732, 437.879, 437.974, 438.096, 438.121, 438.162, 438.215, 438.225, 438.298, 438.313, 438.408, 438.418, 438.517, 438.522, 470.204, 471.019, 471.132, 471.138, 471.207, 471.218, 471.28, 471.287, 471.301, 471.414, 471.578, 471.599, 471.655, 471.674, 471.799, 471.819, 471.929, 472.168, 513.755, 513.853, 513.977, 513.982, 513.99, 513.999, 514.112, 514.441, 514.455, 514.545, 514.556, 514.624, 514.665, 572.636, 572.756, 572.845, 572.944, 573.251, 573.28, 573.339, 573.639, 595.757, 595.993, 595.999, 596.098, 596.106, 596.219, 596.231, 596.268, 596.329, 596.406, 596.589, 596.678, 596.706, 596.815, 596.823, 596.921, 620.228, 620.301, 620.382, 620.544, 620.553, 620.573, 620.699, 620.818, 620.828, 621.044, 621.059, 621.863, 622.324, 622.462, 642.292, 642.298, 642.803, 642.81, 642.947, 643.008, 643.283, 643.409, 643.499, 643.509, 643.525, 643.735, 643.749, 643.844]), array([63.2719, 63.5137, 63.5173, 90.4661, 90.6566, 90.6618, 90.6668, 90.7987, 90.8034, 90.8173, 90.8249, 90.835, 90.8457, 91.3022, 92.5254, 92.5312, 92.535, 92.5507, 92.5634, 181.939, 181.95, 181.958, 181.976, 182.279, 210.059, 210.064, 210.07, 210.077, 210.094, 241.662, 241.669, 241.862, 241.866, 241.876, 241.98, 242.07, 242.074, 242.096, 242.176, 242.183, 259.793, 259.808, 260.128, 261.016, 261.023, 261.029, 261.033, 306.146, 306.152, 306.156, 306.163, 306.411, 306.416, 306.422, 306.429, 306.436, 306.452, 352.532, 352.537, 352.545, 352.57, 352.914, 352.921, 352.927, 352.994, 352.998, 416.916, 417.011, 417.02, 417.031, 417.035, 417.044, 417.051, 417.252, 417.256, 417.334, 417.97, 417.975, 417.983, 417.992, 418.001, 435.799, 435.806, 436.094, 436.099, 436.203, 436.222, 436.235, 436.475, 436.586, 436.67, 436.689, 436.839, 436.911, 436.93, 437.002, 437.006, 437.01, 468.437, 468.448, 468.461, 468.481, 469.223, 469.23, 469.234, 470.469, 512.993, 513.001, 513.016, 513.022, 513.03, 513.039, 513.321, 513.326, 572.398, 572.406, 572.411, 573.358, 595.003, 595.01, 595.015, 595.027, 595.354, 595.364, 641.147, 641.171, 641.179, 641.188, 641.432, 641.436, 641.812, 641.945, 641.949, 641.961, 641.965, 641.975]), array([63.184, 63.2321, 63.2558, 94.503, 94.5102, 94.5854, 94.5912, 94.5955, 94.6065, 94.6655, 94.6891, 94.7077, 94.7646, 94.7735, 94.801, 94.8288, 94.8827, 145.79, 145.806, 146.802, 146.808, 146.888, 146.894, 146.911, 146.979, 146.989, 147.022, 147.068, 147.093, 147.206, 147.215, 147.522, 183.001, 183.427, 184.073, 184.46, 184.466, 184.567, 184.671, 184.675, 184.689, 184.778, 184.782, 184.789, 184.868, 184.878, 184.993, 184.999, 185.283, 211.836, 211.84, 211.95, 211.96, 212.056, 212.16, 212.173, 212.185, 212.233, 212.244, 212.29, 212.294, 212.355, 212.365, 212.372, 241.785, 243.078, 243.101, 243.159, 243.211, 243.29, 243.462, 245.733, 246.179, 246.276, 246.391, 246.446, 246.478, 261.893, 263.041, 263.194, 263.282, 263.374, 263.385, 263.39, 263.471, 263.495, 263.572, 263.576, 263.584, 263.617, 263.626, 263.713, 285.55, 286.423, 286.549, 286.642, 286.647, 286.749, 286.869, 286.875, 286.949, 308.605, 308.609, 308.614, 308.706, 308.719, 308.782, 308.803, 308.821, 308.832, 308.846, 308.897, 308.928, 333.689, 333.694, 334.341, 336.513, 336.553, 336.617, 336.621, 336.737, 336.744, 336.794, 336.817, 336.852, 336.856, 336.916, 336.929, 337.038, 353.732, 356.133, 356.238, 356.356, 356.47, 356.49, 356.569, 356.578, 356.619, 356.647, 356.652, 356.688, 356.695, 380.924, 381.082, 381.155, 381.159, 381.259, 381.336, 381.37, 381.426, 381.437, 416.957, 419.25, 419.776, 419.877, 419.906, 419.957, 419.972, 419.981, 419.992, 420, 420.009, 420.058, 420.078, 420.093, 439.422, 439.539, 439.547, 439.553, 439.606, 439.651, 439.719, 439.731, 439.87, 470.55, 472.595, 472.698, 472.72, 472.793, 472.797, 472.803, 472.804, 472.813, 472.906, 472.924, 472.994, 473.018, 473.024, 513.051, 515.473, 515.689, 515.79, 515.796, 515.801, 515.81, 515.876, 515.888, 515.978, 515.989, 516, 516.126, 574.33, 574.669, 574.774, 574.859, 574.863, 595.367, 595.502, 597.833, 597.945, 597.959, 598.152, 598.183, 598.442, 623.609, 623.613, 623.725, 623.793, 623.817, 623.821, 623.899, 623.903, 623.913, 642.569, 644.753, 644.757, 644.86, 644.865, 644.956, 644.97, 645.037, 645.073, 645.081, 645.092, 645.135, 645.151, 645.421]), array([63.2383, 94.9668, 95.0737, 95.0795, 95.088, 95.1011, 95.1178, 95.1756, 95.1859, 95.2018, 95.2241, 95.2304, 95.2566, 95.2679, 95.3071, 95.311, 95.3201, 95.3653, 95.3717, 95.3786, 95.4236, 95.4448, 95.4606, 95.4844, 95.4916, 95.582, 95.5868, 95.5963, 95.6026, 95.6074, 95.6221, 95.6701, 95.7388, 95.745, 95.7839, 95.817, 95.8854, 95.8895, 95.9534, 147.155, 147.16, 147.252, 147.257, 147.267, 147.274, 147.346, 147.35, 147.357, 147.365, 147.379, 147.389, 147.469, 147.51, 147.544, 147.553, 147.588, 147.597, 147.611, 147.661, 147.712, 147.716, 147.732, 147.741, 147.802, 147.834, 147.88, 147.883, 147.922, 147.934, 148.041, 148.085, 148.209, 148.362, 148.375, 148.398, 184.82, 184.824, 185.041, 185.046, 185.054, 185.142, 185.147, 185.155, 185.235, 185.24, 185.268, 185.281, 185.29, 185.298, 185.337, 185.349, 185.37, 185.376, 185.4, 185.406, 185.513, 185.538, 185.549, 185.568, 185.589, 185.672, 185.68, 185.746, 185.783, 185.833, 185.854, 185.862, 185.954, 185.958, 212.106, 212.113, 212.128, 212.333, 212.341, 212.443, 212.447, 212.456, 212.538, 212.546, 212.56, 212.596, 212.679, 212.71, 212.779, 212.785, 212.794, 212.81, 212.904, 212.908, 213.041, 213.088, 213.128, 213.161, 213.165, 246.205, 246.531, 246.539, 246.64, 246.644, 246.651, 246.736, 246.742, 246.747, 246.769, 246.782, 246.8, 246.842, 246.864, 246.896, 247.003, 247.034, 247.07, 247.122, 247.18, 247.322, 247.329, 247.426, 247.434, 247.441, 263.424, 263.429, 263.434, 263.557, 263.765, 263.772, 263.781, 263.859, 263.865, 263.879, 263.892, 263.928, 263.963, 263.967, 263.987, 264.066, 264.071, 264.092, 264.342, 264.383, 264.387, 264.673, 264.704, 264.708, 286.921, 287.022, 287.028, 287.139, 287.143, 287.164, 287.168, 287.253, 287.26, 287.278, 287.317, 287.354, 287.358, 287.575, 287.586, 287.595, 287.665, 287.677, 287.709, 287.714, 287.722, 308.639, 308.645, 308.756, 308.76, 308.971, 308.976, 309.071, 309.076, 309.083, 309.096, 309.168, 309.186, 309.194, 309.291, 309.498, 309.634, 309.638, 309.662, 309.668, 309.796, 309.937, 310.174, 310.179, 336.662, 336.666, 336.671, 336.995, 337.1, 337.105, 337.117, 337.211, 337.216, 337.224, 337.24, 337.281, 337.285, 337.316, 337.375, 337.379, 337.424, 337.43, 337.45, 337.454, 337.568, 337.705, 337.712, 337.934, 337.939, 356.742, 356.844, 356.849, 356.965, 356.97, 357.056, 357.069, 357.082, 357.088, 357.208, 357.632, 357.636, 381.196, 381.603, 381.609, 381.615, 381.745, 381.75, 381.762, 381.768, 381.842, 381.849, 381.856, 381.963, 382.058, 382.074, 382.08, 382.148, 382.455, 382.566, 382.934, 382.939, 419.817, 419.822, 420.043, 420.149, 420.158, 420.25, 420.255, 420.372, 420.399, 420.467, 420.471, 420.584, 420.597, 420.855, 420.891, 420.978, 420.982, 439.812, 439.928, 439.933, 440.024, 472.86, 472.865, 473.066, 473.167, 473.171, 473.275, 473.279, 473.284, 473.294, 473.392, 473.4, 473.585, 473.589, 473.614, 473.633, 473.637, 473.645, 473.888, 473.892, 473.914, 473.92, 474.033, 474.068, 474.34, 474.347, 474.393, 474.397, 474.72, 474.727, 515.722, 515.728, 515.733, 515.959, 515.972, 516.176, 516.181, 516.192, 516.269, 516.273, 516.293, 516.302, 516.314, 516.368, 516.39, 516.396, 516.419, 574.581, 574.589, 574.594, 574.819, 574.925, 575.022, 575.027, 575.033, 575.04, 575.125, 575.162, 575.174, 575.255, 575.272, 575.279, 575.333, 575.338, 575.383, 575.483, 575.487, 575.663, 575.667, 575.832, 575.836, 575.843, 598.133, 598.137, 598.317, 598.339, 598.344, 598.416, 598.423, 598.428, 598.455, 598.525, 598.529, 598.537, 598.598, 598.796, 598.806, 598.906, 599.296, 599.3, 599.307, 623.785, 623.79, 623.988, 623.992, 624.085, 624.089, 624.098, 624.111, 624.178, 624.187, 624.192, 624.312, 624.322, 624.327, 624.475, 624.48, 624.754, 624.758, 624.859, 624.95, 624.954, 625.104, 625.109, 625.235, 625.24, 644.911, 645.592, 645.607, 645.614, 645.621, 645.722, 645.727, 645.733, 645.799, 645.807, 645.849, 645.855, 645.934, 645.939, 645.972, 645.977, 645.991, 646.189, 646.288, 646.33, 646.335, 646.43, 646.521, 646.534, 646.964, 646.968]), array([90.9481, 91.0184, 91.023, 91.0581, 91.081, 91.1035, 91.11, 91.2023, 91.2131, 91.3046, 91.3101, 91.3165, 91.3381, 91.3837, 91.3989, 91.4188, 91.4354, 91.5378, 91.5433, 91.5494, 91.5581, 91.6524, 91.6587, 91.6651, 91.6838, 91.6986, 91.8095, 91.9679, 92.0966, 92.2204, 92.2733, 92.3218, 92.3337, 92.4402, 92.4474, 92.4638, 92.5865, 92.5992, 92.7289, 92.8662, 93.8822, 94.1541, 94.1662, 94.2782, 94.3548, 94.3832, 94.4275, 94.434, 94.4426, 94.5283, 94.5413, 94.5749, 94.6456, 94.6495, 94.6546, 144.959, 144.976, 145.224, 146.264, 146.545, 146.559, 146.652, 146.657, 146.728, 146.748, 146.759, 146.772, 146.847, 146.86, 146.956, 146.962, 182.072, 182.082, 182.162, 182.17, 182.183, 182.192, 182.209, 182.219, 182.305, 182.376, 182.389, 182.404, 182.412, 182.428, 182.476, 182.481, 182.548, 182.639, 182.649, 182.659, 182.734, 182.782, 182.817, 183.16, 184.207, 184.428, 184.441, 184.531, 184.548, 184.614, 184.66, 184.673, 184.723, 184.732, 184.739, 210.141, 210.166, 210.274, 210.278, 210.396, 211.701, 211.815, 211.926, 211.971, 212.011, 212.036, 212.116, 241.89, 242.115, 242.124, 242.139, 242.167, 242.227, 242.448, 243.734, 243.742, 243.77, 243.797, 243.805, 243.817, 243.832, 243.839, 243.907, 243.917, 243.925, 243.944, 244.062, 244.078, 244.099, 244.19, 244.195, 245.72, 245.833, 245.951, 246.05, 246.059, 246.133, 246.169, 246.216, 246.222, 246.228, 246.323, 246.334, 246.344, 247.149, 259.908, 259.95, 259.962, 260.067, 260.077, 260.089, 260.17, 260.291, 260.372, 260.431, 260.566, 260.576, 260.596, 261.256, 261.352, 261.476, 261.489, 261.578, 262.789, 262.914, 263.212, 263.224, 263.263, 263.316, 263.325, 263.439, 263.444, 263.644, 284.775, 284.92, 285.22, 285.333, 285.883, 286.398, 286.504, 286.51, 286.596, 286.61, 286.698, 286.711, 286.73, 286.849, 306.275, 306.528, 306.547, 306.562, 306.574, 306.598, 306.638, 306.647, 306.668, 306.69, 306.719, 306.725, 306.73, 306.735, 306.835, 306.842, 306.855, 306.947, 306.963, 307.771, 308.365, 308.38, 308.478, 308.584, 308.661, 308.674, 308.787, 334.386, 334.499, 334.509, 334.559, 334.597, 334.603, 334.622, 334.701, 334.735, 334.765, 334.859, 335.199, 336.27, 336.379, 336.483, 336.577, 336.589, 336.684, 336.702, 338.031, 352.747, 352.831, 352.844, 352.856, 352.862, 352.867, 352.872, 352.939, 352.948, 353, 353.036, 353.048, 353.131, 353.143, 353.166, 353.177, 353.252, 353.266, 353.272, 353.307, 353.363, 353.374, 353.39, 353.398, 353.497, 353.506, 353.529, 353.668, 353.819, 354.003, 354.104, 354.401, 354.43, 354.557, 354.855, 356.211, 356.222, 356.299, 356.313, 356.325, 356.34, 356.396, 356.402, 356.543, 356.551, 356.725, 378.715, 378.726, 378.789, 378.808, 378.904, 378.914, 378.921, 378.999, 379.01, 379.048, 379.061, 379.142, 379.153, 379.162, 379.517, 379.527, 379.596, 380.788, 380.858, 380.908, 380.997, 381.088, 381.097, 381.104, 381.122, 381.211, 417.013, 417.135, 417.15, 417.26, 417.273, 417.363, 417.466, 417.482, 417.489, 417.498, 417.515, 417.601, 417.679, 417.687, 417.709, 417.796, 417.803, 417.83, 417.859, 418.654, 419.033, 419.079, 419.436, 419.547, 419.645, 419.651, 419.752, 419.841, 419.948, 419.955, 419.994, 436.213, 436.456, 436.464, 436.557, 436.658, 436.691, 436.699, 436.754, 436.766, 436.89, 436.897, 436.924, 437.031, 437.141, 437.252, 437.353, 437.38, 437.886, 438.618, 439.057, 439.183, 439.299, 439.32, 439.384, 439.403, 439.479, 439.505, 439.598, 469.485, 469.492, 469.594, 469.695, 469.715, 469.839, 470.064, 470.108, 470.113, 470.352, 470.372, 470.384, 470.544, 470.851, 470.922, 470.941, 470.968, 471.054, 471.063, 472.241, 472.351, 472.455, 472.575, 472.672, 472.73, 472.746, 472.762, 472.772, 472.998, 513.09, 513.099, 513.105, 513.389, 513.593, 513.612, 513.664, 513.672, 513.678, 513.8, 513.81, 513.838, 513.942, 514.041, 515.348, 515.445, 515.453, 515.522, 515.582, 515.651, 515.743, 515.75, 515.763, 515.857, 572.4, 572.495, 572.663, 572.905, 574.313, 574.424, 574.499, 574.507, 574.528, 574.588, 574.61, 574.723, 574.728, 574.752, 595.115, 595.136, 595.415, 595.43, 595.577, 595.603, 595.702, 595.709, 595.72, 595.807, 595.817, 595.837, 595.914, 595.949, 596.566, 597.089, 597.581, 597.695, 597.759, 597.789, 597.799, 597.886, 597.893, 598.043, 621.884, 621.895, 621.903, 622.624, 623.023, 623.457, 623.489, 623.546, 623.553, 623.673, 623.688, 641.446, 641.455, 641.488, 641.643, 641.667, 641.746, 641.753, 641.858, 641.886, 641.89, 641.987, 642.007, 642.017, 642.071, 642.085, 642.098, 642.109, 642.127, 642.201, 642.211, 642.255, 642.346, 642.511, 642.599, 642.606, 643.045, 644.731, 644.921, 645.027]), array([145.978, 146.926, 146.931, 183.992, 184.691, 245.372, 246.293, 246.3, 246.305, 286.544, 308.396, 333.965, 336.76, 336.765, 356.369, 573.054, 574.692, 623.518, 623.524, 645.252, 645.256, 645.261])], _ratemap_spiketrains_pos=[[array([114.55, 40.3878, 40.4634, 79.0145, 86.3888, 247.461, 179.915, 191.975, 197.795, 41.1672, 52.8277, 142.562, 185.031, 41.3512, 41.6472, 41.6571, 42.4716, 42.5032, 42.7085, 42.5783, 43.0854, 43.1992, 35.3175, 35.3202, 35.3953, 37.0499, 37.2021, 37.2069, 37.2134, 37.3136, 37.4243, 46.7967, 75.9369, 44.4183, 44.4425, 44.4597, 45.0233, 48.221, 55.5457, 137.015, 179.687, 180.099, 54.7688, 54.952, 55.1125])], [array([90.6251, 212.463, 86.8812, 162.393, 229.924, 49.326, 50.5883, 51.1509, 52.2786, 52.7882, 57.1089, 58.2132, 58.6807, 36.1066, 58.026, 58.1731, 58.3372, 97.5394, 153.394, 66.4452, 208.939, 52.4638, 52.7643, 54.2556, 54.3293, 60.2074, 54.517, 56.4081, 51.3863, 78.8314, 249.659, 249.795, 35.3396, 55.812, 55.9342, 56.1304, 58.8778, 59.0621, 59.288, 27.9643, 30.8976, 36.3322, 49.307, 55.2008, 55.2654, 55.3404, 60.4016, 60.4397, 60.5347, 61.0837, 61.0326, 60.8269, 217.714, 246.209, 49.5111, 54.3444, 58.0532, 60.3045, 74.9951, 42.5438, 58.235, 59.2145, 59.2248, 246.412, 81.1323, 126.538, 56.8436, 56.894, 68.2463, 68.2486, 68.2516, 68.2465, 246.691, 246.58])], [array([40.148, 40.1206, 40.0187, 61.8487, 61.8297, 61.7971, 61.653, 45.5412, 45.6895, 67.5788, 67.6065, 67.6325, 67.6504, 36.2952, 36.6825, 36.8454, 66.4041, 66.5087, 66.6415, 66.9586, 46.5179, 46.7045, 46.8249, 55.9348, 56.1002, 56.2368, 56.4977, 56.9375, 60.8948, 179.042, 51.0482, 51.0942, 51.1846, 51.2296, 51.3025, 64.7088, 65.0836, 62.6336, 66.4402, 43.431, 43.541, 43.6542, 61.4112, 61.4637, 61.511, 61.542, 61.5794, 61.7103, 47.7251, 48.7211, 48.6253, 67.0752, 36.8228, 36.9643, 37.1182, 41.0291, 40.712, 60.5379, 60.681, 60.8967, 63.7016, 41.4845, 41.6691, 42.1781, 58.4129, 54.8171, 56.9703, 57.0813, 60.438, 60.578, 48.3804, 48.4437, 48.5343, 48.6379, 58.6168, 57.8872, 57.4891, 57.4525])], [array([39.6869, 42.6615, 42.8466, 42.9852, 47.2793, 48.327, 48.433, 52.2644, 54.163, 54.8769, 57.4175, 57.6239, 58.6288, 59.36, 59.4296, 59.5358, 59.857, 60.3551, 60.5232, 60.841, 61.2727, 62.4637, 61.2188, 60.1436, 60.7446, 61.7252, 61.5394, 61.5005, 100.957, 219.601, 50.3107, 50.2946, 49.5804, 50.3043, 58.5213, 60.1761, 60.2788, 61.404, 71.5046, 67.4751, 67.9048, 68.336, 68.3218, 67.2947, 67.2317, 67.2033, 67.1539, 31.6068, 43.3271, 43.227, 48.7202, 48.7672, 48.8038, 49.9578, 50.0437, 60.8748, 61.0094, 61.2247, 61.3391, 62.2411, 62.3708, 62.5062, 62.7867, 62.8836, 63.8487, 63.9653, 64.0334, 64.1229, 64.1677, 64.2636, 64.3265, 64.4619, 64.5667, 64.7526, 64.8046, 66.4638, 66.4447, 66.4232, 66.4235, 66.5351, 39.4317, 42.5885, 43.2226, 43.1515, 43.1272, 44.2225, 53.4567, 53.6895, 53.9623, 54.5498, 57.8464, 58.0152, 59.9975, 60.4132, 60.5708, 61.628, 61.6835, 61.7381, 61.7443, 65.7452, 66.7489, 64.0546, 63.7641, 65.3559, 67.7789, 67.8564, 71.7314, 71.8513, 71.9455, 73.6162, 247.046, 246.316, 49.0883, 49.1158, 49.1337, 49.1475, 59.3963, 59.5741, 59.7271, 59.8714, 60.2371, 60.5141, 62.2529, 62.2354, 62.3375, 62.8919, 65.4044, 247.539, 60.6307, 60.7374, 63.1683, 63.2346, 63.3482, 63.7008, 63.9896, 65.7676, 65.7888, 65.8058, 65.3847, 63.6472, 64.0592, 65.3431, 69.3704, 88.93, 200.292, 54.6577, 54.9226, 55.009, 58.4406, 60.601, 60.6156, 60.6291, 60.7228, 62.3441, 62.4953, 63.6271, 63.7711, 63.9411, 65.0369, 65.1021, 65.1795, 65.4869, 65.6559, 65.8597, 63.8898, 63.4201, 63.7594, 64.5296, 68.4501, 68.4587, 68.4524, 67.0527, 66.7562, 66.7381, 66.565, 66.5432, 66.6289, 66.9472, 67.0201, 67.8744, 67.8849, 67.5274, 79.8714, 190.315, 231.606, 51.3645, 51.4158, 51.7506, 59.6209, 59.8695, 60.0325, 60.1944, 60.3991, 60.5837, 62.772, 62.95, 64.5714, 64.8792, 64.9531, 65.0269, 65.226, 65.4248, 67.0301, 67.2329, 233.825, 249.569, 45.7336, 50.1631, 50.2868, 50.3758, 55.0953, 55.2466, 55.4114, 55.6531, 56.486, 56.2712, 56.183, 56.0139, 55.7817, 55.5157, 57.0854, 57.5395, 57.9905, 58.0641, 59.524, 59.6389, 59.7803, 59.927, 60.5802, 61.0985, 62.9548, 63.265, 53.65, 53.8453, 54.0876, 57.8401, 57.9965, 58.0887, 58.1917, 59.0767, 62.4825, 62.6961, 62.8226, 62.9207, 63.299, 63.2261, 63.0886, 62.8847, 62.8107, 62.8954, 62.9976, 63.0819, 63.6647, 67.3781, 226.463, 40.0403, 40.0573, 40.4137, 40.6356, 40.7744, 42.3019, 42.3436, 42.3603, 42.3766, 52.4567, 52.9541, 53.0886, 53.1758, 53.3223, 55.1379, 56.0986, 56.2407, 56.3204, 56.4797, 58.0645, 59.0708, 59.2887, 59.5557, 59.5555, 59.4767, 59.5147, 61.0854, 62.8717, 63.1689, 63.6276, 63.6388, 63.6476, 63.6604, 63.7247, 63.7697, 63.7776, 63.7856, 63.7932, 63.815, 63.8587, 63.8677, 42.2304, 43.7289, 43.6666, 42.8478, 42.5462, 41.5304, 48.3124, 53.0918, 53.3732, 53.8485, 57.1621, 59.8912, 60.1125, 60.3143, 61.2155, 61.296, 61.2806, 61.307, 65.7307, 212.102, 54.6433, 55.0081, 56.3302, 57.0581, 57.2481, 57.9003, 58.8291, 59.1916, 59.6025, 59.774, 59.954, 60.1889, 60.3613, 60.5654, 60.8223, 60.8969, 61.5029, 62.3522, 57.5253, 57.5329, 57.5418, 57.5588, 58.9512, 58.9694, 59.9243, 59.9946, 60.1022, 62.017, 62.0355, 60.2279, 60.2512, 60.3377, 60.5889, 61.0804, 61.6647, 65.0542, 65.3455, 65.7518, 186.307, 209.655, 114.274, 243.373, 243.578, 53.0936, 53.1871, 53.2448, 53.3119, 58.9047, 58.7771, 58.6924, 57.922, 58.0818, 58.2673, 58.5831, 61.3251, 61.4619, 61.6424, 61.8008, 61.9609, 64.2787, 64.4922, 67.8686, 68.2427, 68.4997, 68.6761, 68.7053, 68.7327, 68.7595, 68.9118, 69.0061, 69.0199, 69.0468, 200.696, 213.038, 245.978, 245.98, 245.981])], [array([113.572, 113.782, 140.905, 141.093, 141.525, 145.606, 145.975, 147.977, 147.871, 147.831, 62.3109, 95.1286, 95.3803, 112.716, 113.035, 113.549, 123.933, 124.575, 125.653, 134.605, 136.258, 144.321, 145.843, 146.475, 66.2401, 81.3579, 81.7825, 101.025, 122.076, 122.583, 123.178, 130.815, 131.78, 139.364, 140.325, 141.493, 159.541, 247.454, 247.601, 61.4082, 97.4208, 97.9651, 98.6122, 108.35, 120.94, 129.427, 129.833, 130.904, 149.415, 149.698, 166.283, 68.2533, 81.7932, 91.9718, 103.941, 143.947, 145.908, 165.863, 41.1724, 50.5444, 52.8278, 63.4335, 63.4836, 75.8633, 102.387, 114.238, 114.538, 124.148, 133.316, 133.924, 143.209, 151.951, 153.057, 173.018, 43.3402, 69.3416, 75.6359, 86.572, 100.24, 110.171, 110.592, 110.899, 111.743, 130.768, 132.48, 154.364, 163.661, 171.848, 220.601, 68.415, 69.0438, 100.23, 107.958, 108.417, 113.74, 113.781, 125.08, 134.099, 144.28, 163.828, 42.7084, 43.0854, 67.1162, 99.3176, 99.5219, 104.624, 105.616, 128.294, 128.864, 129.445, 138.648, 142.599, 149.549, 150.423, 153.204, 161.834, 208.939, 52.764, 80.8867, 99.1223, 99.5061, 99.7796, 107.283, 121.927, 122.203, 122.866, 142.532, 150.154, 153.739, 155.141, 163.205, 64.8816, 74.3724, 83.3607, 102.263, 102.638, 113.953, 114.24, 136.863, 137.891, 148.275, 168.306, 69.4651, 100.72, 110.175, 110.58, 111.053, 131.329, 131.906, 132.87, 151.009, 154.008, 160.054, 177.106, 56.567, 75.2265, 97.7592, 98.0768, 98.8332, 109.034, 119.263, 119.761, 120.73, 129.335, 130.097, 142.12, 142.784, 143.579, 153.602, 157.042, 46.7979, 51.0579, 62.7051, 66.3502, 90.8876, 108.247, 108.825, 118.682, 120.056, 130.149, 130.557, 131.042, 139.585, 141.462, 148.866, 149.74, 164, 27.6487, 32.4339, 34.2166, 35.9605, 49.3074, 101.343, 111.18, 111.912, 121.494, 131.686, 132.528, 142.553, 154.303, 162.478, 49.5169, 64.7535, 98.4373, 99.0747, 113.306, 114.007, 123.198, 130.76, 142.324, 150.25, 152.106, 159.946, 163.213, 60.3045, 75.0073, 103.404, 119.494, 120.084, 121.051, 128.652, 129.129, 129.483, 130.657, 134.483, 140.822, 142.042, 150.167, 160.178, 199.913, 42.544, 44.4188, 45.0252, 48.2216, 55.0192, 55.5457, 81.1687, 101.481, 118.293, 126.361, 127.746, 136.671, 137.178, 148.469, 168.892, 180.037, 85.1139, 103.996, 111.186, 111.522, 115.997, 116.576, 132.146, 133.839, 158.652, 177.145, 179.923, 230.966, 243.528, 54.7688, 66.0938, 82.1678, 102.482, 110.782, 111.466, 123.623, 128.829, 129.046, 135.039, 141.775, 142.753, 151.021, 151.362, 158.094, 161.83, 164.97])], [array([108.216, 110.173, 110.846, 111.199, 111.708, 112.791, 119.314, 119.697, 120.256, 122.386, 128.896, 129.435, 129.893, 131.03, 138.357, 138.693, 146.948, 146.84, 146.401, 40.1639, 41.0625, 45.554, 47.5863, 93.6013, 93.9967, 94.3997, 98.6416, 99.3364, 99.42, 99.46, 107.192, 108.339, 108.905, 111.45, 112.592, 114.751, 116.391, 117.511, 118.537, 120.991, 128.102, 130.076, 133.52, 140.417, 143.747, 151.774, 65.6972, 79.5104, 80.0664, 80.9573, 87.5951, 88.6457, 98.9957, 99.5973, 99.822, 100.18, 105.178, 105.997, 109.314, 109.837, 111.468, 114.712, 115.65, 117.826, 118.952, 126.891, 127.481, 137.717, 138.722, 232.024, 75.286, 83.9918, 84.8892, 94.9458, 95.2179, 96.0204, 101.237, 101.899, 102.927, 103.297, 104.074, 104.965, 112.195, 112.728, 113.462, 124.324, 125.378, 135.611, 136.047, 147.055, 79.6388, 88.2513, 88.8268, 89.0907, 89.4057, 98.103, 99.0953, 99.9556, 100.512, 100.892, 101.413, 106.69, 107.774, 108.412, 114.119, 115.781, 116.914, 128.78, 159.617, 247.99, 46.1256, 48.6211, 48.6987, 49.186, 51.1695, 75.2323, 83.126, 83.6148, 92.6053, 97.0306, 99.5435, 100.785, 101.031, 101.181, 103.795, 104.324, 104.678, 105.124, 105.805, 107.166, 111.446, 112.632, 113.119, 113.638, 118.438, 119.058, 119.711, 120.215, 128.718, 130.621, 40.8347, 83.9039, 84.7327, 95.3204, 95.9631, 96.7598, 97.3186, 98.2188, 103.16, 103.909, 104.352, 104.79, 105.343, 107.552, 107.97, 108.87, 114.304, 114.064, 114.667, 129.091, 139.894, 197.748, 231.54, 83.8378, 84.5406, 85.0643, 93.5298, 95.3566, 96.0887, 97.2624, 97.9084, 98.5392, 103.212, 104.064, 104.416, 105.58, 106.373, 111.949, 112.856, 113.021, 120.59, 49.0465, 49.0783, 61.2741, 84.8854, 85.7615, 97.2369, 97.744, 98.3611, 98.9344, 99.9608, 100.373, 100.917, 101.598, 102.05, 102.576, 103.155, 110.097, 110.849, 112.544, 113.162, 123.418, 55.6925, 60.136, 78.9306, 83.5582, 84.1385, 85.1433, 94.4513, 95.7691, 96.7961, 102.806, 103.195, 103.868, 104.58, 105.409, 111.13, 111.795, 112.375, 113.043, 118.631, 119.203, 119.515, 127.371, 53.1136, 60.2716, 60.4405, 72.7967, 81.074, 87.2147, 89.1313, 89.5361, 89.8211, 90.5368, 96.7892, 97.9367, 98.5902, 99.1408, 107.919, 109.257, 111.314, 112.211, 119.65, 121.034, 173.991, 84.565, 97.6435, 98.7096, 99.4464, 100.144, 105.235, 105.95, 107.773, 114.506, 115.092, 116.455, 117.167, 167.653, 196.066, 44.5548, 49.8824, 50.3531, 55.3508, 55.4111, 72.4824, 81.0706, 93.735, 94.4676, 95.1545, 95.9405, 102.735, 104.476, 105.213, 106.822, 113.029, 113.409, 113.706, 117.257, 126.117, 229.698, 46.7183, 47.7247, 53.0299, 53.656, 61.9419, 62.1301, 86.9959, 88.3133, 98.5087, 98.9241, 100.077, 100.371, 102.963, 103.467, 104.163, 105.005, 106.775, 113.194, 113.621, 115.596, 125.429, 48.334, 54.5122, 56.1194, 58.9473, 60.3399, 89.5844, 99.6103, 99.9143, 100.289, 100.608, 104.925, 105.509, 106.386, 107.264, 108.131, 109.572, 113.704, 113.801, 116.194, 117.799, 94.1885, 95.4756, 96.3852, 102.209, 102.81, 103.936, 104.367, 105.19, 109.253, 110.681, 111.496, 111.861, 112.478, 114.226, 114.025, 114.762, 126.118, 128.3, 59.9986, 93.406, 94.2185, 100.243, 100.602, 100.979, 101.542, 102.268, 106.041, 106.989, 107.375, 108.703, 109.829, 110.384, 114.359, 115.803, 116.285, 125.565, 223.502, 57.5011, 57.5443, 58.2915, 89.4923, 98.8732, 99.7577, 100.094, 100.354, 100.673, 106.206, 106.579, 107.002, 107.448, 108.024, 113.173, 113.778, 114.039, 114.937, 122.435, 123.614, 74.5097, 82.9932, 83.6686, 95.9106, 100.896, 101.465, 101.774, 102.237, 102.662, 105.886, 106.942, 107.345, 108.491, 113.755, 114.108, 114.49, 114.417, 121.531, 121.932, 128.949, 167.604, 176.382, 208.079, 227.257, 235.72, 48.2654, 52.8849, 53.097, 53.768, 56.5925, 59.2323, 57.5138, 79.3457, 80.1732, 93.4538, 94.0761, 95.0433, 96.1765, 100.706, 101.246, 101.477, 101.733, 105.718, 106.665, 107.739, 108.773, 116.183, 117.25, 118.231, 119.258, 119.809, 125.091, 125.689, 126.114, 126.814, 127.433, 132.148, 177.129])], [array([122.281, 123.949, 111.694, 127.85, 129.162, 130.197, 130.693, 136.727, 137.47, 138, 105.562, 129.699, 102.723, 119.013, 120.331, 128.88, 114.102, 109.685, 110.534, 111.216, 127.663, 128.261, 128.91, 134.754, 139.517, 113.357, 113.553, 113.67, 116.336, 122.272, 125.632, 126.133, 132.121, 121.192, 122.255, 128.546, 135.379, 113.503, 113.699, 113.854, 128.91, 128.706, 110.91, 129.321, 130.783, 113.33, 128.36, 125.894, 126.214, 129.81, 130.251, 124.753, 110.306, 110.708])], [array([48.9675, 50.3178, 50.305, 49.5427, 36.865, 37.761, 38.0015, 38.2279, 38.4648, 39.7532, 43.3056, 48.3815, 48.9171, 49.4424, 52.795, 53.1735, 53.5249, 56.0641, 56.1721, 56.3613, 58.7347, 58.7957, 58.977, 59.1183, 49.1334, 59.7328, 59.8961, 60.8552, 61.1833, 57.8718, 58.1421, 58.4683, 58.5678, 61.7866, 62.3354, 51.2824, 58.1986, 58.912, 59.18, 59.7379, 59.9416, 61.8148, 45.5887, 50.156, 50.2497, 50.322, 55.3145, 54.0316, 58.0103, 61.9017, 62.0911, 42.1079, 42.0037, 41.9035, 41.8023, 41.7217, 41.3649, 41.3592, 41.5594, 41.8428, 41.9919, 42.0751, 42.1418, 42.1906, 42.273, 42.2973, 42.3179, 42.3437, 42.4583, 42.4641, 42.4633, 42.4625, 42.4618, 42.4612, 42.4607, 43.1644, 44.1348, 45.4169, 46.9284, 49.5798, 49.7802, 49.9606, 50.202, 50.7614, 51.0916, 51.5992, 52.0624, 52.6045, 52.9522, 53.801, 53.8699, 53.973, 54.0729, 54.1696, 54.2487, 54.3251, 54.5372, 55.814, 59.5554, 60.4996, 60.5046, 41.4337, 42.1862, 42.9932, 43.7547, 43.6966, 43.6717, 43.6569, 43.4325, 43.205, 42.7843, 40.8887, 40.8574, 40.8383, 40.8009, 40.768, 41.5678, 41.9114, 43.1207, 44.0774, 50.8665, 51.3941, 52.1496, 52.4331, 55.0639, 55.2073, 55.4863, 55.6709, 55.7631, 55.9464, 56.1724, 56.3285, 56.4674, 57.02, 58.9295, 59.0496, 59.3267, 55.0925, 57.4743, 57.7387, 57.9941, 58.1144, 59.2676, 59.3404, 59.6592, 59.7204, 59.81, 59.8866, 60.6028, 60.8207, 57.5339, 57.5565, 58.9114, 58.9218, 58.9391, 58.9536, 59.8316, 59.9946, 60.128, 60.9239, 52.8343, 53.0053, 53.2151, 59.0041, 58.9047, 58.8298, 58.7168])], [array([142.305, 141.057, 141.846, 142.276, 148.438, 130.967, 141.085, 141.402, 224.351, 135.306, 139.637, 140.029, 140.476, 141.909, 145.436, 152.72, 152.984, 153.265, 136.275, 136.595, 136.862, 142.016, 150.066, 150.757, 151.694, 151.957, 159.238, 160.241, 129.456, 130.911, 133.574, 136.48, 160.719, 161.807, 122.458, 129.172, 131.093, 136.885, 137.133, 143.484, 52.1081, 145.476, 145.857, 146.573, 147.86, 148.572, 149.526, 157.157, 157.722, 160.763, 122.091, 131.185, 135.951, 138.729, 150.419, 153.521, 162.324, 162.623, 134.376, 135.312, 137.656, 140.29, 141.29, 145.54, 156.04, 156.487, 59.9103, 140.476, 148.958, 149.23, 149.55, 151.393, 161.428, 43.4905, 48.352, 140.803, 144.324, 144.66, 149.273, 156.581, 156.72, 157.017, 164.759, 166.246, 140.401, 157.745, 42.1384, 130.599, 131.149, 138.024, 140.167, 141.06, 145.477, 145.799, 147.077, 148.438, 151.034, 158.452, 159.596, 51.4334, 129.973, 133.886, 134.316, 144.876, 146.84, 158.523, 159.065, 159.342, 159.969, 167.592, 167.87, 168.315, 169.149, 170.3, 116.936, 126.016, 129.043, 129.459, 140.614, 140.982, 146.634, 148.33, 148.649, 155.412, 155.863, 156.455, 156.77, 157.455, 158.341, 158.705, 58.0296, 135.415, 136.657, 142.786, 146.034, 152.884, 155.168, 155.733, 164.174, 167.361, 167.638, 105.826, 125.352, 125.561, 131.556, 133.162, 142.092, 145.899, 156.689, 157.024, 157.494])], [array([112.894, 113.223, 123.685, 124.406, 131.683, 139.625, 140.214, 141.006, 95.3576, 129.581, 130.943, 136.836, 45.5409, 106.134, 106.517, 107.435, 119.256, 144.167, 146.47, 239.372, 92.6918, 103.761, 112.055, 112.724, 120.26, 120.885, 121.804, 141.852, 101.977, 108.718, 114.053, 114.223, 122.454, 140.386, 142.043, 247.902, 66.1868, 106.622, 110.709, 118.941, 130.634, 140.916, 142.132, 86.4293, 107.255, 107.711, 107.907, 113.774, 132.734, 104.627, 105.379, 115.464, 127.718, 136.805, 137.132, 106.832, 129.231, 130.772, 140.338, 101.264, 101.67, 114.607, 124.666, 125.165, 143.946, 144.487, 206.796, 100.59, 109.701, 139.031, 140.482, 119.54, 119.951, 131.673, 145.346, 247.637, 107.881, 108.943, 129.432, 130.303, 111.255, 111.629, 112.021, 99.2968, 113.325, 113.642, 121.021, 139.431, 144.269, 146.364, 147.987, 158.04, 103.33, 119.195, 119.475, 128.319, 141.238, 59.846, 109.81, 126.294, 126.616, 134.696, 239.845, 110.894, 114.788, 115.131, 130.986, 131.192, 134.178, 134.599, 135.076, 142.603, 189.323, 220.186, 234.175, 102.09, 111.139, 111.742, 122.458, 128.565, 133.672, 134.663, 134.876, 139.396, 141.812, 147.187, 164.846])], [array([104.983, 38.3347, 40.0327, 55.5961, 62.5552, 89.2066, 91.8899, 114.158, 199.574, 239.779, 243.805, 244.172, 244.433, 244.749, 247.228, 247.48, 247.822, 248.947, 249.237, 249.775, 250.146, 250.201, 249.565, 248.445, 248.422, 248.406, 248.388, 70.4929, 70.9254, 88.0623, 88.2532, 88.4081, 98.5105, 98.7555, 99.8173, 102.105, 226.533, 231.866, 232.392, 232.769, 238.659, 238.958, 239.543, 243.842, 247.397, 247.399, 247.4, 247.486, 248.003, 248.381, 248.438, 248.472, 248.476, 248.247, 248.094, 248.036, 248.027, 247.747, 247.571, 59.2565, 61.3961, 66.7099, 95.1204, 125.334, 203.12, 221.258, 221.51, 233.895, 234.22, 234.478, 238.358, 238.595, 238.841, 239.103, 239.861, 241.294, 242.077, 247.648, 248.511, 249.491, 249.892, 249.992, 250.286, 250.34, 250.389, 250.462, 250.58, 250.853, 250.844, 250.287, 249.991, 249.681, 248.994, 248.099, 247.717, 79.1581, 79.4325, 79.9638, 88.2777, 98.9299, 100.152, 197.761, 218.806, 218.969, 223.656, 229.219, 229.523, 229.686, 230.384, 236.58, 236.967, 237.269, 242.809, 243.139, 243.672, 244.011, 245.364, 246.404, 247.284, 247.378, 247.459, 247.648, 249.008, 248.791, 248.462, 249.209, 248.444, 247.511, 246.955, 246.433, 246.313, 49.2178, 99.7994, 147.09, 180.972, 212.003, 212.112, 224.863, 225.185, 226.017, 232.009, 232.589, 233.43, 239.233, 240.058, 240.37, 241.3, 241.882, 245.584, 246.043, 246.319, 247.574, 247.849, 247.958, 247.813, 247.777, 247.674, 247.688, 247.941, 248.481, 248.713, 249.464, 249.674, 250.224, 250.851, 250.846, 250.848, 250.932, 250.755, 67.0215, 77.6259, 83.0428, 83.5883, 86.0298, 96.7529, 103.126, 107.94, 176.943, 213.707, 225.192, 227.078, 232.548, 232.875, 233.257, 233.961, 235.319, 236.097, 238.915, 239.101, 239.257, 239.506, 241.642, 241.781, 241.828, 241.905, 241.982, 242.281, 242.369, 243.342, 243.447, 243.853, 243.927, 243.975, 244.731, 245.857, 246.094, 246.121, 247.054, 247.733, 248.153, 248.036, 247.031, 247, 246.918, 246.598, 246.501, 77.0895, 84.2642, 102.936, 139.426, 168.83, 200.002, 213.867, 214.888, 228.681, 229.031, 229.256, 235.525, 235.812, 236.876, 242.112, 242.677, 243.053, 243.973, 244.198, 246.251, 246.572, 246.508, 244.627, 244.468, 244.217, 244.208, 244.182, 244.556, 244.544, 244.406, 244.358, 244.31, 66.5245, 85.0571, 85.4744, 85.9539, 96.7936, 97.212, 99.9229, 180.096, 215.8, 215.709, 218.336, 223.512, 227.181, 227.34, 227.424, 227.499, 227.651, 230.805, 231.246, 231.481, 231.995, 235.362, 235.961, 238.083, 239.899, 242.223, 243.517, 247.307, 247.322, 247.611, 84.6124, 101.745, 200.139, 209.561, 224.545, 225.117, 231.942, 232.749, 239.193, 239.625, 240.047, 242.098, 243.275, 243.495, 243.599, 243.684, 243.873, 243.949, 244.085, 244.25, 244.536, 244.59, 244.959, 245.396, 246.283, 246.212, 245.886, 245.314, 245.307, 66.5817, 80.7212, 89.4463, 203.309, 224.51, 225.052, 231.14, 231.472, 231.794, 233.077, 238.452, 238.757, 239.32, 244.339, 244.793, 244.917, 245.415, 245.555, 246.887, 245.641, 245.545, 245.407, 245.412, 245.484, 245.849, 246.445, 246.424, 246.331, 69.0756, 84.5044, 85.101, 104.016, 215.367, 226.953, 227.323, 232.565, 232.98, 233.154, 238.821, 242.652, 242.785, 242.853, 242.973, 243.485, 243.578, 243.662, 243.885, 244.218, 244.989, 245.325, 246.016, 246.035, 246.109, 246.124, 246.116, 246.085, 246.08, 246.004, 245.985, 246.026, 246.112, 247.435, 81.0098, 81.3906, 103.327, 113.261, 197.927, 213.963, 221.119, 228.22, 228.61, 235.051, 236.281, 236.698, 237.978, 241.851, 243.824, 244.286, 245.311, 245.593, 245.706, 246.085, 246.277, 246.998, 247.942, 248.323, 248.93, 249.472, 249.775, 250.2, 250.185, 250.164, 250.109, 249.038, 248.175, 65.2831, 65.6767, 73.4287, 86.64, 103.581, 197.128, 211.941, 219.696, 225.823, 226.376, 232.525, 232.757, 233.039, 233.326, 238.995, 239.547, 239.845, 240.317, 245.24, 245.517, 245.783, 248.853, 248.978, 249.21, 249.706, 249.848, 249.856, 249.863, 249.46, 249.319, 249.731, 59.7129, 78.5305, 88.1286, 99.7373, 104.947, 200.415, 200.967, 216.721, 224.432, 225.162, 231.391, 231.852, 232.613, 240.34, 240.84, 241.299, 245.303, 245.645, 245.77, 245.957, 244.872, 244.644, 244.586, 244.748, 245.278, 245.343, 245.595, 245.951, 245.943, 245.935, 245.932, 245.954, 246.098, 246.132, 246.154, 246.349, 247.484, 247.388, 247.355, 246.844, 55.2688, 70.5387, 80.5091, 93.9196, 95.1097, 103.221, 185.133, 216.708, 217.397, 220.6, 225.989, 226.487, 226.958, 233.281, 233.969, 241.456, 241.847, 242.583, 242.997, 246.66, 247.157, 247.7, 248.006, 248.217, 248.599, 249.677, 249.694, 249.643, 249.271, 247.677, 247.275, 247.004, 246.901, 246.787, 246.695, 246.663, 61.1037, 73.3404, 106.663, 109.683, 207.095, 217.986, 230.39, 230.954, 231.326, 235.992, 236.36, 240.223, 240.999, 244.253, 244.432, 246.243, 247.753, 248.485, 248.612, 248.718, 248.932, 248.443, 247.616, 247.254, 245.796, 246.381, 246.503, 62.8453, 80.0882, 88.5518, 158.584, 216.14, 219.597, 225.645, 226.731, 232.123, 232.419, 232.88, 238.414, 238.707, 238.967, 239.313, 243.677, 244.587, 244.745, 244.834, 245.114, 245.339, 245.623, 245.693, 245.759, 245.84, 246.365, 248.353, 245.933, 245.569, 246.572, 74.2582, 95.4176, 95.7004, 95.8511, 100.417, 100.804, 105.812, 142.473, 175.346, 208.807, 211.964, 224.471, 224.823, 229.288, 229.516, 232.3, 232.38, 232.494, 232.561, 233.202, 234.043, 234.393, 235.2, 235.337, 235.703, 235.926, 236.288, 236.357, 236.434, 236.55, 236.668, 236.774, 236.914, 237.022, 238.37, 238.471, 238.681, 239.904, 240.591, 241.131, 242.148, 243.522, 243.582, 48.8629, 72.1169, 92.2854, 93.8746, 94.291, 95.288, 169.639, 213.065, 213.369, 222.378, 224.003, 230.599, 231.439, 236.153, 236.248, 237.987, 238.139, 238.132, 239.54, 240.302, 243.054, 242.086, 241.834, 241.517, 241.46, 241.369, 241.132, 241.366, 241.425, 241.459, 242.305, 243.049, 243.129, 243.218, 243.357, 244.498, 244.59])], [array([109.01, 135.375, 39.8547, 39.7535, 59.8053, 59.8286, 66.7368, 92.6877, 93.8639, 94.6375, 100.979, 108.25, 49.5443, 59.2946, 59.4159, 61.4085, 76.8444, 67.4708, 37.1333, 37.4002, 47.3827, 161.348, 201.299, 65.6988, 72.6138, 46.9598, 180.191, 61.0886, 61.4438, 51.4218, 51.4704, 64.8725, 65.1063, 65.2628, 92.6038, 65.9596, 43.8806, 48.6497, 48.5481, 58.4073, 63.9463, 37.1209, 60.5384, 63.695, 70.7573, 54.6742, 58.6422, 58.8672, 66.3042, 155.284, 204.979, 43.9852, 54.866, 54.888, 54.9695, 55.0285, 240.705, 97.4749, 243.267, 48.6725, 48.8153, 68.0582, 68.9448, 98.0292, 98.4564])], [array([39.9535, 60.4752, 60.2729, 60.8713, 60.9536, 61.0013, 61.2439, 61.3171, 61.8166, 61.7958, 84.6983, 92.602, 86.0318, 86.3842, 67.5765, 67.62, 67.6724, 64.4056, 66.7027, 67.0239, 247.455, 247.397, 219.303, 51.14, 51.192, 51.2826, 66.5307, 66.5347, 66.5379, 66.5531, 84.4964, 211.348, 88.2551, 48.8338, 49.1435, 37.1052, 40.0608, 40.1049, 40.6099, 40.7208, 226.276, 226.829, 247.054, 247.039, 145.517, 194.172, 57.1111, 60.5191, 247.332, 48.5033, 48.6155, 58.1876, 57.9569, 57.7501, 245.98])], [array([108.523, 113.756, 55.9447, 56.0959, 57.8029, 59.6025, 59.8359, 62.083, 100.236, 100.73, 63.7241, 72.0517, 72.3626, 92.811, 56.2165, 59.7009, 60.9978, 65.8267, 68.17, 86.8298, 109.345, 210.461, 220.927, 236.353, 68.0866, 67.3896, 73.524, 43.1697, 50.0018, 61.5581, 63.0793, 64.2893, 66.0214, 66.5235, 74.4256, 84.4114, 161.574, 224.744, 44.4029, 55.064, 60.5538, 66.135, 67.0357, 63.7822, 68.5517, 72.9168, 80.2579, 226.338, 235.709, 67.1036, 87.4021, 240.817, 47.0116, 47.2547, 62.4498, 62.4737, 66.0091, 87.9873, 218.376, 62.0716, 63.5461, 65.6713, 64.8356, 76.7288, 149.504, 209.184, 224.704, 51.5806, 63.9998, 64.1922, 65.3526, 65.708, 68.4163, 67.2624, 73.6564, 241.315, 51.9962, 52.4875, 63.5565, 66.1706, 67.9401, 69.3685, 69.27, 78.2185, 242.019, 247.762, 44.0608, 44.1578, 44.2042, 55.8171, 55.7512, 58.1596, 67.5983, 68.5753, 69.9286, 221.148, 55.0397, 58.1796, 64.5441, 74.812, 75.1757, 37.2295, 40.9307, 42.3768, 40.4464, 40.5951, 42.4231, 53.2356, 53.3395, 56.523, 56.6009, 59.5301, 63.8261, 63.8291, 64.1051, 73.8937, 216.642, 42.2632, 41.4166, 40.9457, 54.0459, 60.338, 60.5112, 65.6949, 244.619, 244.839, 60.0747, 60.7273, 60.9381, 63.5581, 111.145, 112.424, 236.009, 242.054, 54.9204, 54.9579, 54.9811, 57.5594, 58.9667, 62.0142, 66.5783, 72.0753, 91.7574, 219.51, 225.673, 246.607, 246.579, 113.648, 127.099, 127.626, 220.169, 224.458, 232.252, 48.8506, 48.9146, 53.2142, 58.74, 61.8423, 65.2747, 67.644, 67.8327, 68.7782, 68.8129, 131.125, 213.123, 246.041, 246.027])], [array([125.805, 126.131, 147.591, 146.291, 49.7282, 56.3527, 89.6741, 126.129, 222.877, 86.5673, 50.0097, 49.891, 52.6056, 59.7712, 61.396, 48.7237, 50.8698, 63.6788, 77.5422, 246.331, 246.288, 55.73, 61.1638, 247.445, 222.07, 65.861, 228.992, 49.9869, 52.5783, 54.6888, 55.2373, 92.9039, 218.927, 225.25, 53.5167, 58.4787, 224.905, 39.9819, 40.0749, 42.3074, 49.0801, 49.165, 131.341, 146.825, 147.097, 73.4414, 229.818, 55.0584, 60.1851, 219.477, 125.979, 126.256, 126.384, 223.792, 48.9146, 58.9574, 57.3034, 57.5819, 97.8925, 100.2, 129.575, 129.793, 212.133, 235.884])], [array([34.8892, 35.2038, 37.4202, 37.8821, 62.5677, 76.6686, 82.4045, 87.9916, 99.2043, 247.878, 83.155, 225.462, 31.5444, 35.299, 90.5195, 211.736, 67.3481, 67.464, 102.495, 43.136, 44.2467, 45.8767, 51.7105, 59.8585, 83.0942, 35.3553, 40.0899, 40.5355, 47.1826, 48.2126, 51.1954, 220.517, 46.6779, 47.7201, 48.8638, 48.1754, 85.4298, 35.1349, 40.3765, 40.5357, 88.1728, 97.9663, 148.178, 80.2195, 43.5837, 48.0318, 48.7496, 54.2593, 54.6451, 54.7185, 54.9932, 58.8079, 48.9719, 51.1649, 51.2892, 51.5334])], [array([42.2835, 239.881, 245.269, 245.516, 246.69, 247.18, 247.461, 247.595, 248.621, 248.678, 248.841, 248.92, 249.028, 249.31, 249.421, 238.889, 244.648, 244.98, 247.092, 247.133, 247.257, 247.357, 247.399, 247.4, 234.259, 234.605, 238.836, 239.511, 240.358, 243.4, 246.978, 247.342, 247.521, 247.805, 236.591, 237.264, 242.672, 243.105, 243.679, 244.162, 244.5, 246.641, 247.066, 247.43, 247.581, 238.735, 239.114, 240.37, 241.026, 244.614, 245.48, 246.122, 246.377, 246.656, 247.589, 248.006, 247.991, 247.953, 247.899, 238.943, 239.428, 241.637, 242.117, 242.198, 242.281, 242.374, 242.637, 243.812, 243.896, 244.134, 235.138, 235.68, 236.717, 241.56, 241.721, 242.443, 244.027, 246.62, 246.659, 246.461, 244.835, 244.732, 227.284, 227.405, 227.501, 231.347, 234.273, 235.141, 235.371, 235.637, 238.22, 238.546, 238.719, 239.477, 240.041, 243.149, 243.298, 243.635, 243.737, 243.784, 243.802, 243.876, 244.258, 237.999, 238.233, 238.5, 244.197, 244.576, 244.846, 246.023, 246.445, 246.58, 245.615, 245.626, 242.509, 242.616, 242.727, 243.476, 243.75, 243.954, 244.039, 244.226, 244.459, 236.577, 237.723, 243.208, 243.741, 243.933, 244.121, 244.665, 245.062, 245.68, 246.026, 248.204, 248.136, 232.83, 238.711, 239.519, 240.326, 244.947, 246.337, 248.473, 249.034, 249.182, 239.291, 241.422, 245.572, 245.714, 245.62, 245.457, 244.651, 244.636, 246.126, 242.137, 242.524, 246.626, 247.107, 248.033, 249.643, 249.659, 249.483, 240.585, 240.745, 243.986, 244.197, 245.281, 246.742, 248.145, 248.497, 232.198, 237.48, 238.395, 242.855, 245.411, 245.425, 245.442, 245.499, 232.272, 232.333, 232.399, 233.652, 233.995, 234.231, 234.646, 235.102, 235.207, 235.361, 236.263, 236.377, 236.437, 238.068, 239.618, 239.848, 239.992, 240.209, 240.429, 242.679, 241.069, 241.177, 241.282, 241.473, 241.497, 241.922, 242.284, 242.987])], [array([240.239, 244.35, 244.775, 244.939, 247.672, 248.033, 248.097, 248.178, 248.324, 249.772, 249.942, 250.219, 248.302, 248.325, 248.406, 248.447, 248.421, 248.382, 232.334, 239.489, 244.926, 245.471, 245.715, 247.393, 247.399, 247.592, 247.818, 248.121, 248.478, 248.49, 247.996, 247.973, 221.837, 222.429, 234.469, 234.746, 239.31, 239.559, 239.872, 250.208, 250.47, 250.852, 249.13, 247.875, 247.834, 219.218, 229.918, 237.105, 237.374, 244.825, 244.982, 247.673, 247.951, 248.151, 248.82, 248.711, 246.7, 246.425, 226.005, 233.099, 240.791, 241.158, 241.744, 247.673, 247.91, 248.734, 249.713, 250.836, 250.919, 250.937, 224.386, 233.347, 239.713, 241.916, 241.95, 242.011, 243.48, 243.788, 244.753, 247.036, 248.194, 247.184, 247.133, 246.671, 236.523, 245.813, 245.296, 244.312, 244.285, 227.449, 227.585, 231.539, 232.015, 237.187, 240.674, 247.427, 247.242, 240.514, 240.856, 241.087, 241.799, 243.656, 243.685, 243.693, 244.631, 244.693, 244.731, 246.296, 239.61, 245.008, 245.534, 245.975, 245.914, 246.354, 246.426, 246.383, 246.34, 242.874, 242.94, 243.887, 246.013, 246.094, 246.001, 249.897, 247.958, 237.548, 244.444, 246.993, 247.703, 247.924, 248.071, 246.9, 233.09, 240.63, 246.935, 247.143, 249.346, 232.473, 233.183, 242.002, 245.887, 245.958, 245.939, 245.931, 245.994, 245.998, 246.104, 246.122, 247.425, 247.344, 247.17, 246.898, 40.6107, 227.048, 248.335, 248.472, 248.592, 248.948, 247.931, 246.873, 246.858, 246.693, 246.662, 231.391, 240.846, 245.444, 245.965, 246.353, 248.987, 248.672, 246.866, 245.916, 239.452, 245.073, 245.346, 245.835, 245.843, 245.456, 245.727, 245.821, 232.57, 232.659, 234.423, 235.823, 236.929, 240.223, 241.136, 241.295, 242.759, 243.289, 243.514, 237.981, 240.848, 241.718, 241.397, 241.301, 241.692, 241.728, 243.544, 246.353])], [array([49.9418, 200.887, 99.8584, 248.239, 248.795, 40.1334, 40.8439, 49.5661, 66.5274, 249.09, 154.913, 229.689, 246.414, 179.086, 244.468, 58.4952, 160.087, 213.879, 247.478, 247.431, 247.326, 104.988, 115.587, 245.97, 94.0952, 166.61, 246.117, 35.2984, 155.815, 41.1508, 99.6949, 55.8765, 137.287, 219.091, 66.3929, 113.07, 121.012, 215.989, 111.558, 205.699, 137.885, 138.562, 48.9315, 48.9116, 98.7181, 99.4764, 245.979])], [array([39.4727, 40.4468, 47.8036, 61.5629, 110.742, 50.3136, 49.5918, 67.7642, 67.7913, 35.6452, 43.4127, 47.5079, 49.092, 224.692, 53.9267, 51.1963, 44.2234, 45.3592, 50.0287, 50.3286, 50.4916, 55.3216, 47.7258, 47.8622, 48.008, 57.6589, 27.2004, 49.2796, 61.0868, 60.5313, 42.7061, 54.0009, 56.6649, 56.8803, 57.284, 57.4679, 57.5294, 215.034, 53.0936, 53.1484, 56.8137])], [array([240.524, 245.124, 245.236, 250.193, 248.131, 248.383, 190.81, 246.04, 247.399, 247.439, 247.942, 247.932, 247.911, 247.607, 49.7261, 235.629, 240.573, 249.735, 248.638, 178.101, 231.355, 239.031, 249.231, 49.5859, 65.5426, 242.386, 250.458, 250.434, 243.799, 246.17, 246.161, 246.123, 143.832, 227.803, 237.585, 247.616, 247.612, 247.602, 65.6224, 244.468, 245.346, 245.974, 130.025, 248.572, 62.5507, 249.989, 249.786, 233.736, 249.402, 249.561, 245.705, 246.002, 246.404, 247.504, 246.849, 246.84, 227.436, 247.356, 246.221, 246.533, 129.304, 240.373, 246.421, 245.712, 245.631, 245.546, 246.423, 246.566, 246.602, 199.186, 234.565, 234.659, 237.553, 237.69, 243.345, 242.548, 245.566, 245.588, 245.61, 246.815, 246.766, 246.716, 246.674])], [array([105.927, 106.555, 120.328, 128.385, 132.939, 137.374, 144.077, 147.753, 147.202, 77.2757, 82.6774, 83.4644, 84.1612, 88.5475, 91.0672, 96.8411, 108, 144.923, 64.9212, 65.3145, 69.5649, 77.3391, 86.8263, 98.2498, 106.122, 81.8896, 95.669, 103.303, 113.457, 146.94, 87.5001, 87.9117, 88.5258, 98.9131, 108.473, 66.5129, 73.0862, 81.572, 92.4688, 100.528, 66.9326, 75.0632, 82.3665, 83.1307, 83.9399, 94.1233, 96.7805, 102.689, 104.368, 142.541, 82.5703, 84.5776, 94.8362, 95.5791, 96.3184, 101.822, 102.671, 103.208, 112.615, 75.9464, 84.9209, 85.362, 95.2935, 95.7261, 100.808, 112.179, 72.7748, 92.7668, 94.4991, 95.309, 101.634, 102.273, 103.668, 85.439, 88.6272, 89.6322, 98.5774, 76.203, 82.1964, 83.2202, 97.1423, 105.235, 72.6064, 81.546, 92.641, 93.4794, 94.998, 103.86, 113.369, 229.698, 80.3059, 84.5649, 86.467, 96.165, 97.7559, 102.051, 97.2214, 99.2293, 115.676, 70.6981, 81.1109, 101.221, 104.054, 92.9997, 98.8989, 100.909, 107.886, 109.425, 63.5166, 98.4891, 105.669, 107.011, 81.9653, 95.4301, 100.075, 100.19, 108.387, 65.5224, 76.9363, 78.1337, 91.9407, 92.8853, 100.237, 101.257])], [array([137.669, 62.5915, 62.5234, 83.1688, 84.3645, 67.631, 248.258, 70.8022, 79.5266, 90.8867, 245.715, 83.195, 244.4, 83.9682, 71.7183, 246.055, 102.599, 88.4034, 105.48, 111.249, 92.5756, 155.179, 86.0326, 99.0244, 73.7984, 82.7912, 107.744, 94.1343])], [array([113.755, 137.103, 137.925, 138.368, 138.835, 143.614, 143.778, 145.54, 147.955, 147.979, 147.931, 112.786, 125.317, 126.596, 133.765, 135.261, 135.871, 138.412, 139.192, 143.617, 144.571, 145.311, 151.646, 152.724, 154.395, 160.014, 160.621, 164.242, 194.58, 196.349, 224.464, 224.951, 230.873, 235.2, 235.362, 235.545, 235.956, 238.372, 238.547, 238.81, 240.852, 241.839, 242.708, 243.463, 245.636, 246.159, 246.908, 247.163, 247.444, 249.202, 249.543, 122.85, 123.828, 132.025, 132.712, 139.961, 140.513, 142.405, 152.357, 158.385, 161.419, 163.009, 168.993, 170.812, 172.139, 180.712, 192.042, 203.05, 204.386, 225.557, 226.005, 230.759, 231.272, 234.965, 235.383, 237.288, 237.644, 238.136, 240.758, 241.439, 242.781, 243.439, 244.355, 246.802, 247.043, 247.334, 247.381, 247.399, 247.4, 247.869, 121.292, 129.273, 134.492, 139.67, 140.424, 146.982, 148.177, 148.88, 150.333, 156.246, 157.945, 158.967, 159.733, 167.096, 170.434, 176.871, 183.961, 202.934, 203.879, 220.959, 227.397, 228.063, 231.883, 232.954, 233.161, 233.608, 235.564, 235.901, 236.344, 237.581, 238.11, 238.515, 240.966, 241.2, 242.436, 242.841, 244.16, 248.058, 248.404, 247.883, 112.807, 113.645, 122.28, 133.415, 134.095, 136.671, 138.259, 139.434, 143.657, 144.345, 153.246, 153.7, 161.044, 162.284, 173.471, 173.842, 205.158, 218.985, 223.279, 223.548, 228.458, 229.114, 234.09, 235.027, 235.632, 239.379, 239.731, 240.577, 241.011, 241.584, 244.294, 246.543, 246.7, 247.07, 248.931, 62.5986, 114.895, 122.763, 123.432, 132.645, 134.494, 142.368, 143.469, 144.363, 149.783, 150.404, 153.764, 163.205, 181.072, 193.592, 194.014, 195.265, 204.884, 225.024, 225.455, 230.31, 230.81, 231.461, 234.918, 235.341, 236.463, 237.097, 237.807, 243.104, 243.947, 244.391, 247.232, 247.997, 247.962, 247.922, 131.493, 140.638, 141.952, 143.321, 148.68, 149.12, 152.563, 154.444, 179.119, 200.468, 226.652, 228.973, 232.586, 233.256, 235.472, 235.569, 235.747, 236.052, 237.63, 238.199, 238.418, 240.312, 240.564, 240.694, 241.259, 241.454, 241.708, 242.152, 242.169, 242.433, 243.911, 243.949, 124.714, 139.516, 141.261, 142.043, 144.855, 145.348, 151.617, 154.23, 154.955, 162.9, 170.567, 186.062, 195.981, 214.937, 223.806, 228.671, 228.94, 229.704, 233.144, 234.473, 235.238, 235.685, 239.129, 239.446, 240.31, 240.777, 242.264, 244.246, 245.841, 246.011, 246.634, 244.631, 118.066, 128.687, 129.577, 138.636, 139.241, 140.628, 146.587, 147.08, 160.795, 169.3, 170.155, 223.542, 223.691, 225.871, 226.081, 226.578, 227.187, 228.789, 229.684, 229.931, 230.373, 233.414, 234.038, 234.479, 238.992, 239.337, 107.769, 122.575, 130.873, 132.31, 136.898, 142.89, 153.925, 154.985, 162.825, 183.666, 209.804, 224.741, 225.161, 231.412, 232.729, 236.867, 237.209, 237.977, 238.698, 239.153, 239.554, 242.797, 242.975, 243.067, 243.599, 243.731, 243.77, 243.867, 243.896, 245.753, 137.456, 147.072, 147.959, 156.861, 167.716, 176.722, 177.734, 196.777, 203.927, 225.335, 226.203, 230.85, 231.035, 231.442, 231.782, 234.366, 235.61, 236.605, 237.625, 239.15, 241.26, 241.875, 242.819, 243.608, 244.384, 246.006, 246.092, 246.309, 246.603, 246.808, 246.926, 123.17, 142.25, 143.413, 151.276, 151.92, 152.529, 158.126, 158.611, 159.782, 172.198, 189.342, 209.565, 227.762, 232.431, 232.769, 233.038, 237.455, 237.735, 238.383, 238.961, 241.574, 242.171, 242.308, 242.428, 242.583, 243.101, 243.129, 243.466, 243.511, 243.726, 244.154, 244.252, 244.322, 63.2428, 130.98, 141.935, 142.513, 143.001, 151.381, 152.73, 157.195, 157.456, 157.744, 158.143, 158.424, 164.65, 165.053, 166.101, 166.699, 190.585, 221.95, 228.614, 231.605, 232.72, 233.915, 234.91, 235.618, 239.831, 240.356, 241.614, 243.198, 243.614, 245.166, 245.325, 245.828, 62.7125, 110.068, 119.513, 130.19, 130.667, 137.212, 138.008, 139.823, 140.604, 141.067, 149.11, 149.751, 150.367, 153.69, 158.977, 160.143, 160.665, 168.975, 169.964, 178.116, 198.152, 226.047, 226.77, 230.731, 231.114, 231.938, 232.766, 235.553, 236.28, 236.745, 238.084, 242.682, 242.99, 243.332, 244.448, 245.511, 248.606, 249.183, 121.429, 122.046, 131.79, 132.559, 141.708, 142.624, 143.233, 149.289, 151.698, 152.365, 160.206, 168.318, 168.8, 169.609, 216.71, 225.01, 230.795, 231.862, 233.836, 234.439, 237.162, 237.496, 238.78, 242.36, 242.97, 244.495, 245.322, 245.118, 244.943, 244.649, 41.5979, 49.0332, 114.316, 123.224, 132.014, 132.573, 140.823, 143.163, 148.178, 150.252, 150.877, 151.764, 158.765, 159.484, 160.564, 167.58, 169.349, 171.18, 181.251, 202.524, 215.516, 226.024, 226.243, 230.986, 231.758, 232.206, 232.771, 237.539, 238.918, 241.14, 244.579, 244.838, 245.708, 246.91, 247.852, 249.547, 249.492, 120.594, 129.04, 129.7, 140.805, 141.444, 143.879, 148.781, 149.943, 150.347, 151.006, 158.354, 158.784, 159.178, 170.927, 176.994, 202.082, 202.816, 210.079, 231.062, 234.965, 235.213, 235.903, 237.176, 238.331, 238.606, 239.669, 240.118, 242.287, 243.441, 243.838, 244.427, 247.523, 248.225, 248.407, 56.6022, 127.517, 135.281, 135.82, 136.883, 145.048, 145.626, 146.978, 149.91, 155.964, 156.796, 165.002, 165.57, 170.279, 198.751, 199.883, 225.931, 231.56, 231.952, 234.064, 234.902, 235.413, 236.391, 237.724, 241.186, 241.453, 243.894, 244.585, 245.56, 245.607, 131.091, 131.816, 132.95, 137.19, 137.815, 142.734, 148.892, 162.099, 162.349, 163.043, 163.357, 174.199, 174.772, 178.255, 179.342, 179.236, 179.131, 176.811, 176.832, 177.115, 182.198, 203.579, 205.259, 224.457, 228.992, 229.226, 231.868, 232.159, 232.228, 232.816, 232.862, 233.075, 233.252, 233.868, 234.808, 234.944, 235.232, 236.449, 141.221, 144.152, 147.814, 152.11, 158.253, 159.074, 160.382, 161.137, 168.253, 168.669, 175.01, 185.843, 186.218, 194.908, 195.507, 230.23, 235.674, 235.832, 235.905, 235.985, 236.566, 236.676, 236.962, 237.247, 237.627, 237.829, 237.861, 238.307, 238.541, 240.319, 243.157, 243.118, 242.972, 242.326, 241.886, 241.403])], [array([107.919, 108.089, 110.522, 110.878, 111.313, 112.099, 112.766, 41.0508, 60.094, 109.683, 110.85, 113.645, 119.519, 122.542, 129.365, 132.155, 167.994, 184.385, 185.434, 212.724, 213.079, 112.203, 112.427, 119.514, 120.499, 130.101, 206.412, 118.839, 212.644, 104.126, 245.725, 44.7385, 102.361, 107.187, 109.54, 118.073, 118.378, 118.721, 119.104, 122.598, 142.27, 172.077, 172.472, 105.689, 114.299, 114.227, 119.234, 171.109, 189.185, 112.774, 123.067, 164.099, 114.304, 116.574, 121.746, 123.179, 150.457, 245.31, 73.4749, 111.232, 98.7121, 114.809, 119.965, 140.881, 156.512, 118.232, 128.798, 130.532, 25.0551, 25.1504, 55.7566, 109.982, 120.609, 121.709, 127.68, 150.31, 246.641, 112.139, 112.685, 112.986, 114.1, 114.864, 116.38, 119.691, 125.149, 125.384, 101.238, 108.045, 115.727, 119.076, 167.814, 168.186, 169.279, 100.337, 100.8, 107.698, 108.069, 111.355, 112.921, 113.144, 113.388, 119.036, 120.928, 74.9786, 83.5285, 101.105, 102.399, 102.775, 103.858, 107.114, 108.471, 113.649, 113.853, 115.852, 130.22, 132.152, 178.831, 178.769, 178.718, 177.798, 176.853, 176.704, 176.654, 176.133, 176.142, 176.728, 185.44, 185.604, 185.738, 185.87, 67.5232, 101.08, 101.247, 102.83, 105.114, 125.692, 136.398, 154.682, 155.599, 162.581, 170.785, 189.746, 190.223])], [array([119.581, 35.6079, 35.8167, 37.6648, 37.9801, 38.4103, 39.1684, 40.2532, 40.2764, 39.6607, 55.9018, 61.8338, 61.8098, 45.2349, 45.6563, 45.5276, 46.4721, 49.5541, 67.6122, 67.6757, 67.7426, 35.8079, 36.3116, 43.0039, 43.6704, 43.8792, 44.0898, 47.7165, 48.9578, 49.0667, 70.0866, 79.8934, 43.3394, 67.1213, 46.4101, 46.6435, 46.9744, 54.8639, 55.2856, 55.5525, 56.3864, 57.5439, 72.6276, 51.0514, 52.0959, 52.4443, 55.2745, 201.478, 129.249, 43.101, 43.2413, 61.4397, 47.6159, 47.7111, 47.7185, 47.7283, 47.6952, 47.75, 47.9166, 48.8454, 48.8657, 48.2146, 48.1839, 48.1983, 48.3642, 49.0123, 51.7867, 55.586, 56.0451, 57.1743, 58.4754, 30.7761, 32.9085, 33.8486, 40.4846, 40.8901, 41.4545, 84.6885, 222.472, 57.0034, 57.2702, 60.7078, 68.765, 73.7105, 77.836, 48.0379, 48.7079, 50.1323, 50.9055, 52.2091, 52.2618, 52.4216, 53.7704, 53.9927, 54.1434, 58.0563, 57.4344])], [array([142.833, 147.422, 147.388, 146.095, 146.052, 37.7798, 113.219, 114.358, 133.837, 137.474, 147.091, 148.085, 153.654, 157.142, 157.667, 158.491, 167.625, 168.618, 176.074, 177.504, 179.632, 180.171, 183.628, 185.62, 187.765, 189.153, 190.478, 193.978, 194.308, 194.718, 196.201, 197.45, 199.525, 204.006, 206.529, 211.704, 133.934, 134.264, 143.198, 143.824, 144.279, 153.815, 154.136, 163.711, 164.526, 164.892, 173.923, 174.346, 174.739, 175.674, 176.348, 184.303, 184.838, 193.825, 195.974, 196.746, 203.824, 204.008, 204.243, 204.832, 210.166, 211.171, 214.313, 62.8069, 131.623, 131.973, 132.746, 142.316, 152.428, 161.741, 162.267, 171.162, 171.48, 171.942, 172.345, 178.503, 178.831, 179.213, 186.386, 189.288, 190.025, 191.435, 195.288, 195.662, 196.195, 196.786, 204.192, 204.484, 204.712, 205.905, 211.231, 211.259, 124.073, 124.931, 135.267, 135.873, 136.233, 147.287, 148.008, 158.461, 159.298, 168.87, 178.778, 179.829, 180.309, 186.044, 188.174, 190.969, 191.85, 202.458, 203.343, 203.881, 212.507, 213.511, 220.116, 38.3916, 49.2082, 49.7593, 116.559, 117.052, 117.643, 125.605, 126.022, 135.651, 136.471, 146.434, 146.951, 147.399, 156.437, 158.222, 165.9, 166.958, 167.912, 175.719, 176.119, 176.796, 177.337, 186.772, 187.526, 188.539, 195.519, 197.714, 203.329, 204.059, 205.959, 207.107, 211.509, 113.962, 133.886, 145.904, 146.247, 156.493, 157.143, 157.694, 166.336, 166.775, 173.731, 174.138, 174.856, 175.625, 183.762, 184.403, 184.946, 190.816, 191.623, 194.568, 201.461, 205.167, 217.066, 75.8006, 116.808, 127.152, 136.661, 147.965, 148.286, 148.653, 157.747, 166.358, 166.834, 167.325, 175.4, 176.018, 186.22, 188.024, 192.636, 193.276, 195.377, 195.82, 202.288, 204.059, 217, 244.406, 131.328, 131.83, 142.939, 143.667, 154.83, 155.479, 164.472, 164.861, 166.241, 173.959, 174.524, 174.858, 176.177, 176.59, 182.928, 184.966, 189.463, 195.256, 198.291, 199.145, 211.358, 213.116, 215.91, 124.962, 135.046, 146.783, 147.511, 157.742, 158.131, 159.061, 166.532, 167.92, 168.452, 169.379, 177.739, 178.419, 186.987, 187.842, 188.527, 190.162, 195.521, 196.466, 203.812, 104.535, 116.356, 129.141, 139.82, 140.368, 150.831, 151.224, 151.955, 161.425, 161.745, 170.542, 171.781, 172.307, 173.613, 181.302, 181.673, 183.562, 188.188, 188.452, 190.472, 193.298, 198.742, 199.906, 205.149, 205.484, 245.678, 135.583, 136.227, 145.736, 146.071, 155.128, 155.941, 164.315, 164.668, 165.852, 175.108, 175.461, 185.496, 187.74, 191.036, 194.056, 194.975, 203.399, 204.166, 210.147, 215.746, 35.2993, 35.3015, 35.7741, 35.8531, 41.4607, 122.967, 132.284, 154.934, 160.738, 161.458, 161.87, 171.107, 172.166, 172.635, 179.24, 182.008, 183.039, 183.902, 184.792, 189.341, 189.658, 192.591, 202.983, 211.029, 211.202, 132.877, 133.326, 133.756, 154.685, 163.817, 164.234, 165.015, 172.585, 173.697, 174.754, 175.49, 179.235, 182.057, 182.751, 183.436, 192.574, 193.496, 201.597, 207.334, 208.066, 124.825, 133.903, 134.22, 134.668, 145.315, 145.705, 155.622, 164.221, 164.664, 173.414, 173.959, 174.583, 175.599, 180.706, 193.645, 196.236, 197.126, 202.302, 202.814, 134.067, 134.358, 136, 142.57, 143.316, 143.808, 144.31, 154.992, 156.802, 163.894, 164.802, 165.394, 174.142, 174.665, 175.257, 176.448, 177.473, 187.241, 187.73, 188.288, 190.132, 197.372, 201.674, 202.437, 204.99, 213.492, 213.788, 214.202, 214.732, 121.82, 122.1, 131.766, 143.612, 154.223, 154.694, 163.412, 163.815, 171.288, 171.588, 173.088, 173.639, 182.047, 182.423, 201.307, 203.022, 203.339, 204.048, 212.417, 120.254, 129.856, 139.523, 140.477, 151.653, 160.824, 161.178, 161.686, 162.606, 170.987, 171.804, 172.666, 182.679, 183.043, 184.303, 189.596, 190.173, 192.815, 193.495, 199.155, 201.844, 209.364, 209.845, 245.755, 118.011, 130.025, 138.727, 138.963, 139.577, 145.408, 145.604, 151.143, 151.393, 151.643, 152.173, 158.203, 158.47, 164.641, 172.429, 172.691, 174.21, 175.065, 175.953, 176.773, 178.637, 178.643, 178.792, 179.103, 178.801, 177.808, 176.297, 177.764, 178.552, 178.717, 179.717, 180.099, 180.428, 181.95, 182.095, 184.841, 185.463, 188.007, 191.623, 198.801, 199.217, 201.052, 205.365, 205.567, 211.006, 123.632, 136.349, 137.377, 145.079, 146.372, 155.556, 163.03, 163.592, 164.081, 168.658, 169.791, 170.993, 179.413, 180.136, 189.064, 190.393, 197.941, 198.454, 205.452, 206.909])], [array([107.671, 107.783, 107.926, 108.632, 113.225, 116.599, 147.028, 147.286, 147.782, 147.714, 147.48, 147.454, 145.954, 39.4752, 58.2959, 58.9689, 59.7296, 62.6288, 62.5922, 78.937, 80.0744, 105.757, 106.59, 107.316, 127.521, 127.962, 130.425, 64.4975, 69.4596, 69.7883, 70.1172, 77.744, 99.8347, 107.543, 108.327, 113.456, 114.16, 116.802, 128.138, 128.662, 135.16, 136.326, 136.966, 61.3629, 61.3965, 65.9917, 66.3526, 67.1013, 74.8476, 91.0848, 106.208, 109.168, 110.315, 126.284, 126.687, 134.633, 68.1665, 67.4552, 67.7425, 72.7445, 73.7282, 84.9995, 86.2048, 87.4412, 102.953, 107.528, 117.085, 120.761, 126.506, 128.261, 129.742, 214.222, 66.4932, 66.5117, 69.0044, 69.6515, 81.1226, 101.168, 114.04, 118.684, 121.023, 130.368, 142.96, 43.287, 48.0044, 61.0515, 61.9189, 61.9928, 62.8922, 67.0197, 67.0143, 66.9839, 64.1053, 65.0094, 74.8905, 79.1029, 104.486, 109.855, 110.526, 115.412, 126.265, 126.745, 126.914, 128.77, 138.221, 141.095, 67.0964, 79.7007, 112.86, 113.6, 113.685, 121.56, 122.662, 131.028, 131.603, 64.1557, 66.3041, 72.5121, 74.1329, 80.1, 80.6414, 104.888, 113.448, 124.797, 126.44, 135.054, 138.117, 71.7277, 73.5395, 83.5171, 97.9349, 111.981, 119.689, 128.026, 129.058, 61.3058, 66.5805, 68.4383, 66.5328, 67.4222, 67.6702, 71.9465, 73.9949, 107.597, 110.755, 112.864, 113.777, 123.233, 132.573, 133.658, 69.7132, 82.325, 106.691, 109.413, 115.145, 115.985, 120.431, 128.091, 128.65, 129.817, 139.337, 56.2119, 65.3755, 66.3974, 96.1007, 106.077, 108.865, 109.38, 125.482, 125.791, 126.169, 126.772, 62.6938, 62.6975, 65.5266, 66.524, 73.6909, 74.048, 82.208, 89.5608, 100.617, 101.827, 104.671, 108.679, 109.709, 115.537, 117.105, 126.758, 127.656, 136.728, 137.086, 59.7184, 63.8545, 67.0149, 67.7654, 75.1369, 76.067, 81.3506, 82.0127, 83.3397, 95.3867, 107.993, 110.236, 113.592, 113.755, 127.528, 129.341, 139.131, 160.462, 60.625, 63.6952, 68.2931, 68.8294, 69.6002, 70.4237, 82.1302, 112.145, 112.69, 117.473, 119.288, 124.789, 127.861, 61.3449, 65.8458, 72.2275, 79.3016, 105.093, 107.522, 111.911, 136.725, 61.3205, 63.2846, 63.4802, 68.863, 69.513, 78.1675, 79.0828, 81.4216, 86.2284, 93.9674, 107.751, 113.895, 114.169, 124.742, 125.37, 134.097, 69.2394, 73.0023, 76.8694, 92.7006, 93.9464, 95.5307, 102.737, 110.429, 111.339, 123.513, 124.717, 167.424, 178.818, 177.005, 65.5668, 65.6522, 69.2081, 69.2251, 72.2657, 76.8341, 101.751, 110.622, 120.06, 120.815, 121.955, 133.134, 133.84, 139.853])], [array([108.892, 125.859, 126.088, 35.9482, 38.8172, 39.0256, 39.126, 40.2706, 40.2462, 40.1743, 40.135, 40.0555, 39.946, 48.0455, 61.801, 61.7858, 61.7628, 61.6621, 61.5809, 45.5885, 45.5368, 45.6356, 46.2248, 49.6745, 67.6249, 67.6428, 67.6701, 67.6984, 67.7602, 36.4684, 36.704, 43.1556, 43.2323, 43.4067, 44.8125, 48.2077, 48.2651, 48.5177, 49.0023, 49.0407, 36.3068, 36.6367, 56.2563, 66.622, 66.7603, 66.8778, 66.969, 46.4699, 46.594, 46.672, 46.8046, 55.658, 55.7758, 55.919, 56.0736, 56.244, 56.6452, 51.0609, 51.1067, 51.1661, 51.3661, 55.8657, 55.945, 56.0072, 57.0125, 57.1362, 40.787, 42.7531, 43.0048, 43.278, 43.3911, 43.6371, 43.8097, 49.4698, 49.7465, 52.0777, 61.5068, 61.5397, 61.5881, 61.6402, 61.8654, 47.7217, 47.7321, 48.4119, 48.4959, 48.8638, 48.7544, 48.6281, 50.5824, 51.9652, 51.9289, 52.4156, 56.3129, 57.2032, 57.6468, 58.5089, 58.5155, 58.5233, 36.1451, 36.3805, 36.6962, 37.1338, 40.9621, 40.7426, 40.6195, 60.9322, 40.1468, 40.5447, 41.4151, 41.7046, 42.0588, 42.4637, 41.559, 41.6235, 58.3714, 58.6016, 58.727, 113.194, 56.9329, 56.9904, 57.0415, 57.1554, 58.8909, 58.9183, 48.3017, 48.5656, 48.6651, 48.7588, 52.6545, 52.7092, 58.6571, 57.7636, 57.6305, 57.4509, 57.4162, 57.3249])], [array([106.532, 108.028, 108.491, 215.512, 216.311, 221.412, 221.935, 222.32, 223.208, 226.564, 227.976, 229.16, 232.375, 232.744, 233.852, 235.024, 236.704, 130.576, 131.95, 211.772, 212.145, 216.689, 216.967, 217.821, 222.425, 223.105, 224.894, 227.733, 229.011, 235.902, 236.335, 247.399, 77.7223, 114.738, 171.69, 202.1, 202.52, 209.49, 213.857, 214.061, 214.816, 219.317, 219.552, 219.922, 224.757, 225.378, 231.862, 232.145, 244.516, 195.699, 196.103, 209.383, 210.448, 218.425, 221.121, 222.094, 222.988, 224.803, 225.171, 227.457, 227.696, 231.261, 231.902, 232.3, 40.7223, 52.8203, 52.8471, 52.8567, 52.8552, 52.7505, 54.4633, 180.381, 211.958, 215.912, 223.953, 227.377, 229.759, 105.279, 198.29, 214.525, 220.561, 224.607, 225.147, 225.414, 229.763, 231.151, 234.649, 234.723, 234.889, 235.342, 235.4, 237.388, 123.067, 199.781, 208.646, 213.305, 213.673, 219.64, 227.498, 227.77, 231.449, 215.245, 215.464, 215.778, 217.686, 218.157, 219.68, 220.65, 221.587, 222.363, 223.267, 224.629, 225.936, 50.3242, 50.3411, 60.1284, 200.075, 203.904, 207.904, 208.159, 217.21, 218.119, 220.468, 221.719, 223.725, 224.028, 228.239, 228.989, 236.353, 63.2778, 195.608, 202.268, 210.612, 216.402, 217.582, 223.152, 223.541, 226.391, 227.82, 227.914, 229.885, 230.42, 207.516, 217.435, 221.11, 221.22, 226.011, 230.323, 232.27, 235.286, 235.777, 41.4654, 167.797, 212.505, 218.975, 221.033, 224.429, 225.233, 225.805, 226.447, 227.029, 227.641, 230.921, 232.127, 233.004, 210.786, 218.582, 218.766, 219.049, 222.271, 224.508, 228.019, 228.563, 236.142, 61.0825, 199.928, 209.388, 211.76, 215.23, 215.455, 215.801, 215.862, 216.393, 222.916, 224.141, 228.33, 229.581, 230.02, 42.9758, 200.481, 215.827, 219.446, 219.626, 219.805, 220.153, 224.081, 224.234, 228.311, 228.961, 229.596, 238.047, 199.162, 222.991, 229.559, 233.498, 233.677, 58.9294, 59.2579, 215.031, 219.395, 219.446, 229.025, 230.439, 244.574, 219.555, 219.645, 223.919, 226.699, 227.469, 227.531, 230.942, 231.075, 231.298, 68.228, 208.989, 209.204, 212.438, 212.738, 219.084, 220.792, 226.072, 227.863, 228.282, 228.933, 232.122, 233.188, 236.751])], [array([108.14, 240.064, 244.177, 244.368, 244.646, 245.069, 245.436, 246.632, 246.936, 247.373, 247.584, 247.644, 247.953, 248.091, 248.693, 248.752, 248.893, 249.599, 249.697, 249.802, 250.255, 250.116, 249.836, 249.216, 249.004, 248.168, 248.186, 248.222, 248.243, 248.257, 248.3, 248.466, 248.446, 248.443, 248.426, 248.413, 248.393, 248.392, 248.381, 232.684, 233.048, 238.524, 238.853, 239.464, 239.901, 243.927, 244.173, 244.473, 244.806, 245.393, 245.778, 247.353, 247.397, 247.399, 247.399, 247.399, 247.399, 247.4, 247.418, 247.502, 247.511, 247.572, 247.611, 247.959, 248.18, 248.455, 248.476, 248.452, 248.383, 248.03, 247.972, 247.788, 247.562, 247.542, 247.51, 222.001, 222.279, 234.074, 234.349, 234.798, 238.476, 238.701, 239.068, 242.514, 242.718, 243.904, 244.465, 244.823, 245.271, 247.147, 247.55, 248.192, 248.364, 248.989, 249.085, 250.199, 250.288, 250.316, 250.366, 250.426, 250.79, 250.818, 250.662, 250.22, 249.483, 249.156, 249.037, 247.873, 247.827, 219.842, 220.041, 220.303, 230.058, 230.478, 236.845, 237.116, 237.625, 242.649, 243.086, 243.743, 245.336, 247.203, 247.681, 248.756, 248.84, 248.914, 249.026, 248.368, 248.372, 248.63, 247.83, 247.223, 246.791, 246.735, 212.742, 233.115, 233.619, 239.771, 240.021, 240.416, 245.267, 245.575, 245.879, 246.832, 247.343, 247.721, 248.001, 247.967, 247.851, 247.882, 248.277, 248.905, 249.687, 250.445, 250.915, 250.921, 250.781, 250.753, 250.729, 227.77, 228.211, 228.63, 234.055, 239.073, 239.271, 239.605, 241.579, 241.664, 241.834, 241.937, 242.146, 242.351, 242.375, 242.866, 243.82, 243.825, 243.923, 245.854, 246.1, 246.096, 247.119, 247.01, 247, 229.941, 235.834, 236.14, 242.756, 242.955, 243.991, 244.172, 246.633, 246.657, 246.366, 245.25, 244.821, 244.804, 244.524, 244.508, 244.494, 244.396, 244.381, 244.342, 244.336, 244.328, 215.587, 215.528, 218.843, 218.993, 227.504, 227.607, 231, 231.148, 231.378, 231.879, 234.569, 235.258, 235.544, 238.963, 246.294, 247.372, 247.377, 247.41, 247.418, 247.587, 247.551, 247.242, 247.237, 211.193, 211.552, 211.944, 233.545, 240.161, 240.474, 241.159, 243.567, 243.593, 243.62, 243.67, 243.721, 243.733, 243.824, 244.005, 244.021, 244.172, 244.192, 244.254, 244.269, 244.645, 245.432, 245.44, 246.274, 246.285, 232.716, 238.513, 238.766, 244.744, 244.873, 246.696, 246.925, 246.908, 246.9, 245.644, 246.361, 246.358, 222.519, 242.692, 242.77, 242.837, 243.78, 243.812, 243.908, 243.956, 245.274, 245.574, 245.88, 246.122, 246.013, 245.989, 245.98, 246.011, 249.906, 249.352, 247.431, 247.415, 215.189, 215.553, 229.987, 237.543, 238.348, 243.684, 243.824, 246.494, 247.808, 248.148, 248.104, 249.274, 249.662, 248.923, 248.654, 247.365, 247.325, 233.106, 240.36, 240.724, 245.139, 219.47, 219.826, 232.811, 239.739, 240.135, 245.357, 245.512, 245.627, 245.733, 244.634, 244.615, 245.94, 245.94, 245.934, 245.932, 245.931, 245.931, 246.086, 246.092, 246.123, 246.133, 246.346, 246.424, 247.407, 247.396, 247.323, 247.316, 246.779, 246.768, 218.974, 219.218, 219.197, 227.191, 227.961, 242.104, 242.377, 243.013, 246.632, 246.841, 247.923, 248.138, 248.408, 249.657, 249.704, 249.603, 249.024, 218.287, 218.719, 219.023, 231.82, 236.637, 240.339, 240.533, 240.754, 241.062, 244.893, 246.516, 246.893, 248.747, 248.889, 248.956, 248.841, 248.806, 248.335, 247.129, 247.088, 245.827, 245.837, 246.483, 246.5, 246.527, 227.977, 228.281, 237.724, 239.056, 239.361, 243.322, 243.654, 243.909, 244.897, 245.504, 245.516, 245.541, 245.795, 247.399, 247.645, 247.785, 246.693, 246.683, 246.671, 226.177, 226.521, 232.481, 232.535, 233.905, 234.01, 234.268, 234.452, 235.164, 235.238, 235.279, 236.507, 236.623, 236.678, 238.501, 238.556, 241.672, 241.716, 242.973, 243.755, 243.769, 243.266, 243.269, 243.488, 243.49, 215.678, 240.031, 240.492, 240.678, 240.896, 241.611, 241.552, 241.483, 241.138, 241.225, 241.519, 241.544, 242.261, 242.415, 243.01, 243.021, 243.059, 243.716, 244.337, 244.593, 244.62, 245.65, 246.212, 246.297, 245.975, 245.975])], [array([40.5829, 41.0408, 41.129, 41.6023, 42.2129, 42.9561, 43.2032, 47.0391, 47.1914, 48.0999, 48.2224, 48.3662, 48.8805, 49.8053, 50.1821, 53.2396, 54.9424, 57.0928, 57.1728, 57.2633, 57.3913, 58.3327, 58.3692, 58.4058, 58.5099, 58.5924, 59.26, 60.5223, 62.06, 60.7846, 60.1889, 60.385, 60.5297, 61.5916, 61.6437, 61.7634, 61.4096, 61.5488, 73.9724, 82.8598, 167.493, 191.39, 192.439, 200.615, 205.938, 207.948, 211.047, 211.407, 211.704, 218.309, 219.144, 220.471, 225.692, 225.86, 226.087, 66.9293, 67.5282, 84.5404, 172.034, 197.616, 199.326, 207.509, 207.702, 210.023, 211.067, 211.267, 211.039, 214.546, 215.273, 220.838, 221.263, 50.3488, 50.3148, 50.0056, 49.9583, 49.8789, 49.8226, 49.7096, 49.6407, 49.915, 53.3417, 54.9659, 55.2661, 55.4411, 55.7553, 56.7591, 56.8879, 58.5238, 60.0791, 60.1653, 60.3244, 61.3999, 63.6052, 64.8537, 91.0235, 181.435, 199.423, 200.444, 206.779, 208.052, 211.27, 213.25, 213.936, 216.646, 217.057, 217.404, 67.9304, 68.0166, 68.323, 68.3311, 67.2071, 181.978, 193.673, 206.863, 211.794, 215.433, 217.241, 220.132, 43.2734, 48.6768, 48.7323, 48.814, 48.9613, 49.2635, 50.4279, 61.0109, 61.1985, 61.4912, 61.8998, 62.1098, 62.4386, 62.6327, 62.7219, 63.5147, 63.6264, 63.7103, 63.8958, 64.7816, 64.9267, 65.6417, 66.4232, 66.4232, 179.309, 189.034, 199.272, 208.475, 209.064, 211.519, 211.748, 213.137, 213.382, 213.644, 218.648, 219.51, 220.235, 250.048, 43.1799, 43.2358, 43.1567, 53.8552, 54.3134, 54.8608, 57.3897, 60.0779, 61.5869, 61.7479, 65.6515, 65.7787, 65.921, 71.9113, 73.6465, 75.9989, 76.2394, 78.8459, 177.171, 187.55, 216.137, 216.931, 219.631, 221.951, 222.306, 228.891, 229.015, 235.595, 66.8677, 73.3786, 100.006, 108.26, 153.524, 197.766, 205.742, 206.07, 211.196, 211.627, 217.059, 217.827, 218.913, 226.266, 49.0828, 59.0484, 59.519, 59.9759, 60.3473, 60.85, 61.4221, 61.524, 62.0044, 62.296, 62.3092, 62.2897, 62.2714, 62.2554, 62.7432, 62.8018, 62.9667, 64.3374, 65.0332, 131.645, 190.292, 192.156, 205.566, 213.985, 215.887, 216.287, 219.886, 60.6592, 63.1852, 63.353, 65.2922, 65.636, 65.6915, 65.7715, 64.2686, 63.5854, 65.226, 70.4015, 88.4998, 181.874, 190.596, 197.693, 205.201, 206.008, 212.769, 213.498, 245.805, 51.7864, 54.927, 55.0882, 55.2255, 55.2943, 55.3507, 55.4028, 56.1565, 56.2637, 57.2099, 58.3366, 58.6314, 60.3059, 60.4017, 60.5645, 60.5941, 61.6411, 61.8166, 61.8804, 62.3221, 63.0755, 63.245, 63.4935, 63.5963, 64.8665, 64.9462, 65.1537, 65.5585, 63.8092, 67.9242, 68.4379, 66.572, 66.7451, 67.5873, 80.1703, 200.47, 201.173, 206.454, 207.544, 208.478, 209.548, 211.468, 211.818, 221.14, 221.802, 231.72, 51.383, 52.1481, 57.6716, 58.7576, 61.7289, 62.1288, 62.3488, 64.2664, 64.4545, 65.0575, 65.241, 66.7581, 66.966, 67.1509, 81.2322, 81.9838, 88.7221, 195.487, 203.501, 206.349, 211.909, 217.84, 218.177, 218.448, 219.164, 223.271, 42.815, 43.9571, 44.1807, 49.923, 50.1852, 55.1528, 56.846, 56.6311, 56.5379, 56.3822, 56.0165, 55.4621, 56.7839, 56.9306, 57.4877, 59.0577, 59.1345, 59.4491, 59.7196, 113.626, 150.865, 154.303, 186.192, 195.42, 203.987, 204.53, 211.413, 216.79, 223.942, 224.289, 226.626, 48.8362, 49.4713, 49.9675, 51.76, 51.9961, 52.5028, 52.8365, 55.1655, 55.3435, 56.9258, 57.0238, 57.4905, 58.4538, 61.2492, 63.3737, 62.7124, 62.7401, 82.7063, 145.354, 183.961, 194.72, 203.204, 204.787, 209.651, 210.029, 214.651, 217.132, 221.714, 49.1717, 49.2756, 53.1064, 54.6455, 54.9739, 56.5187, 59.3821, 59.5542, 59.5535, 60.4657, 60.4959, 60.5101, 61.0858, 63.6119, 63.7471, 63.7758, 63.8106, 63.8836, 63.899, 166.879, 176.684, 186.706, 198.462, 206.474, 211.792, 211.841, 213.065, 213.79, 228.545, 43.7651, 43.7307, 43.7032, 49.0906, 56.7393, 57.2947, 58.8421, 59.0637, 59.1979, 61.3144, 61.2915, 62.5145, 65.8333, 74.2268, 192.167, 199.022, 199.399, 204.164, 210.83, 215.153, 219.152, 219.121, 219.157, 223.757, 58.4198, 60.0273, 61.9453, 76.5285, 197.788, 204.988, 211.973, 212.756, 214.7, 218.671, 219.953, 226.411, 226.79, 228.747, 57.4679, 57.5176, 59.056, 59.092, 59.6016, 59.9415, 61.9013, 61.9631, 61.9988, 60.1483, 60.1569, 60.1744, 61.2615, 62.0064, 106.003, 149.997, 194.391, 202.415, 208.163, 210.871, 211.694, 219.279, 219.429, 223.573, 168.618, 169.259, 169.656, 176.57, 189.242, 211.417, 212.519, 216.855, 217.605, 221.942, 222.868, 52.8434, 52.9607, 53.4186, 55.9973, 56.3671, 57.5428, 57.6606, 59.1613, 59.2333, 59.1605, 57.2924, 57.6477, 57.8232, 59.4831, 59.9033, 60.2674, 60.5905, 61.1162, 63.0954, 63.5534, 64.776, 66.7166, 68.2129, 68.4015, 68.4943, 80.7707, 207.993, 216.353, 225.575])], [array([145.979, 218.697, 219.02, 164.848, 214.934, 148.777, 216.79, 217.21, 217.514, 208.286, 194.162, 54.2506, 218.83, 219.029, 211.187, 90.2217, 224.29, 214.193, 214.562, 236.089, 236.065, 235.995])]], _filtered_pos_df=                t     lin_pos           x        dt  velocity_x  acceleration_x    x_smooth  velocity_x_smooth  acceleration_x_smooth      speed binned_x\n",
       "1919    63.101705  100.160174  100.160174  0.033351    0.966597     -599.362976   98.317935           0.404562              11.293054   0.966131       19\n",
       "1920    63.135263  103.373477  103.373477  0.033558   95.753687     2824.575068   98.507447           5.681259             157.578645  96.301549       20\n",
       "1921    63.168716  105.695597  105.695597  0.033453   69.414428     -787.351202   98.826548           9.544930             115.411492  69.593153       21\n",
       "1922    63.202216  107.528309  107.528309  0.033500   54.707806     -439.003625   99.250793          12.679888              93.657051  54.925725       21\n",
       "1923    63.235581  108.086330  108.086330  0.033365   16.724738    -1138.410544   99.719002          14.003940              39.416536  16.723692       21\n",
       "1924    63.268025  108.734887  108.734887  0.032444   19.990040      100.644225  100.237342          15.530563              45.619091  19.437023       22\n",
       "...           ...         ...         ...       ...         ...             ...         ...                ...                    ...        ...      ...\n",
       "19419  647.024308  245.973274  245.973274  0.034681    0.001300        2.516002  246.219969           1.878459              -6.851937   0.001351       57\n",
       "19420  647.056366  245.976196  245.976196  0.032058    0.091176        2.803531  246.245570           0.768001             -32.279763   0.087599       57\n",
       "19421  647.089958  245.981959  245.981959  0.033592    0.171538        2.392293  246.264211           0.566873              -5.969308   0.172694       57\n",
       "19422  647.123483  245.990559  245.990559  0.033525    0.256518        2.534832  246.273949           0.296738              -8.063665   0.257732       57\n",
       "19423  647.156682  246.001940  246.001940  0.033199    0.342819        2.599505  246.274029           0.007808              -8.625347   0.341092       58\n",
       "19424  647.190873  245.989146  245.989146  0.034191   -0.374172      -20.970166  246.262500          -0.338714             -10.323535   0.383411       57\n",
       "\n",
       "[2853 rows x 11 columns], _filtered_spikes_df=                 t      t_seconds  t_rel_seconds  shank  cluster  aclu  qclu           x           y      speed  traj  lap  maze_relative_lap  maze_id  is_theta  is_ripple  theta_phase_radians           neuron_type  flat_spike_idx  x_loaded  y_loaded     lin_pos  fragile_linear_neuron_IDX  PBE_id     scISI\n",
       "19834    2055940.0  954550.591909      63.158444      4        5    18     4  100.765007  140.184327  69.317851     3    2                  2        1      True      False             0.168775  NeuronType.PYRAMIDAL           19834  0.334331  0.497991  104.982605                         16      -1  0.224932\n",
       "19838    2056412.0  954550.606409      63.172944      8       24    34     2  101.609163  140.230026  61.997219     3    2                  2        1      True      False             0.909978  NeuronType.PYRAMIDAL           19838  0.337040  0.498062  105.926918                         32      -1  0.370176\n",
       "19845    2056772.0  954550.617468      63.184003     12        2    49     4  102.090307  140.352993  55.607069     3    2                  2        1      True      False             1.475616  NeuronType.PYRAMIDAL           19845  0.339396  0.498179  106.531942                         47      -1  1.829774\n",
       "19846    2056786.0  954550.617899      63.184434      8       24    34     2  102.109018  140.357775  55.358563     3    2                  2        1      True      False             1.475616  NeuronType.PYRAMIDAL           19846  0.339488  0.498184  106.555471                         32      -1  0.011489\n",
       "19858    2057642.0  954550.644195      63.210730     10        9    44     2  103.090524  140.730827  41.729183     3    2                  2        1      True      False             2.773644  NeuronType.PYRAMIDAL           19858  0.345442  0.498492  107.670701                         42      -1  0.187853\n",
       "19861    2057861.0  954550.650923      63.217458     10        9    44     2  103.254775  140.869374  39.078489     3    2                  2        1      True      False             3.119583  NeuronType.PYRAMIDAL           19861  0.347147  0.498585  107.783220                         42      -1  0.006728\n",
       "...            ...            ...            ...    ...      ...   ...   ...         ...         ...        ...   ...  ...                ...      ...       ...        ...                  ...                   ...             ...       ...       ...         ...                        ...     ...       ...\n",
       "201707  21060166.0  955134.401433     646.967968     12        3    50     4  245.386380  137.146936   1.710412    13   -1                 -1        1     False      False             5.360729  NeuronType.PYRAMIDAL          201707  0.857722  0.485025  245.975090                         48      -1  0.003686\n",
       "201724  21063363.0  955134.499645     647.066180      2        6     9     2  245.291452  137.009126   1.698771    13   -1                 -1        1     False      False             4.395319  NeuronType.PYRAMIDAL          201724  0.858920  0.487362  245.977880                          7      -1  2.195834\n",
       "201726  21063608.0  955134.507171     647.073706      8       11    27     4  245.284253  136.998675   1.698352    13   -1                 -1        1     False      False             4.819155  NeuronType.PYRAMIDAL          201726  0.858890  0.487429  245.979171                         25      -1  3.863222\n",
       "201729  21063723.0  955134.510704     647.077239      2        6     9     2  245.280874  136.993770   1.698155    13   -1                 -1        1     False      False             4.987492  NeuronType.PYRAMIDAL          201729  0.858877  0.487461  245.979777                          7      -1  0.011059\n",
       "201730  21063858.0  955134.514851     647.081386      7        3    20     4  245.276907  136.988011   1.697924    13   -1                 -1        1     False      False             5.196784  NeuronType.PYRAMIDAL          201730  0.858861  0.487498  245.980488                         18      -1  5.135921\n",
       "201731  21063901.0  955134.516172     647.082707      2        6     9     2  245.275644  136.986177   1.697851    13   -1                 -1        1     False      False             5.280112  NeuronType.PYRAMIDAL          201731  0.858855  0.487509  245.980715                          7      -1  0.005468\n",
       "\n",
       "[6720 rows x 25 columns], ndim=1, xbin=array([28.3003, 32.1195, 35.9388, 39.7581, 43.5773, 47.3966, 51.2158, 55.0351, 58.8544, 62.6736, 66.4929, 70.3121, 74.1314, 77.9507, 81.7699, 85.5892, 89.4084, 93.2277, 97.047, 100.866, 104.685, 108.505, 112.324, 116.143, 119.963, 123.782, 127.601, 131.42, 135.24, 139.059, 142.878, 146.697, 150.517, 154.336, 158.155, 161.974, 165.794, 169.613, 173.432, 177.251, 181.071, 184.89, 188.709, 192.528, 196.348, 200.167, 203.986, 207.805, 211.625, 215.444, 219.263, 223.083, 226.902, 230.721, 234.54, 238.36, 242.179, 245.998, 249.817, 253.637, 257.456, 261.275]), ybin=None, bin_info={'mode': 'bin_size', 'xstep': 3.819259898065432, 'xnum_bins': 62}), neuron_IDXs=array([ 0,  1,  2,  3,  4,  5,  6,  7,  8,  9, 10, 11, 12, 13, 14, 15, 16, 17, 18, 19, 20, 21, 22, 23, 24, 25, 26, 27, 28, 29, 30, 31, 32]), neuron_IDs=array([ 2,  5,  7,  9, 10, 11, 12, 14, 16, 17, 18, 19, 20, 21, 23, 24, 25, 26, 27, 29, 31, 34, 35, 37, 39, 40, 41, 44, 45, 49, 50, 52, 53]), F=array([[2.01838, 2.81126, 1.20146, ..., 0, 0.682534, 0.000993611],\n",
       "       [2.27481, 2.39882, 1.59182, ..., 0, 1.22007, 0.00330836],\n",
       "       [2.55692, 1.84847, 2.16699, ..., 0, 2.29651, 0.0101132],\n",
       "       ...,\n",
       "       [0.0164881, 0.10051, 0, ..., 10.1794, 0.212618, 0.0394834],\n",
       "       [0.0120019, 0.0723228, 0, ..., 7.11005, 0.17754, 0.012858],\n",
       "       [0.00848732, 0.0509717, 0, ..., 5.18248, 0.153479, 0.00384624]]), P_x=array([[0.166835],\n",
       "       [1.10111],\n",
       "       [1.60162],\n",
       "       [2.90294],\n",
       "       [1.40142],\n",
       "       [3.47018],\n",
       "       [2.66937],\n",
       "       [3.83722],\n",
       "       [4.93833],\n",
       "       [3.37008],\n",
       "       [3.67038],\n",
       "       [1.03438],\n",
       "       [1.10111],\n",
       "       [0.934278],\n",
       "       [1.03438],\n",
       "       [0.667342],\n",
       "       [0.533873],\n",
       "       [0.867544],\n",
       "       [1.16785],\n",
       "       [1.00101],\n",
       "       [1.00101],\n",
       "       [0.934278],\n",
       "       [1.33468],\n",
       "       [0.667342],\n",
       "       [0.867544],\n",
       "       [1.00101],\n",
       "       [0.867544],\n",
       "       [0.900911],\n",
       "       [1.03438],\n",
       "       [0.834177],\n",
       "       [1.03438],\n",
       "       [1.10111],\n",
       "       [0.767443],\n",
       "       [0.867544],\n",
       "       [0.934278],\n",
       "       [0.867544],\n",
       "       [0.734076],\n",
       "       [0.867544],\n",
       "       [1.06775],\n",
       "       [1.33468],\n",
       "       [0.834177],\n",
       "       [0.900911],\n",
       "       [0.834177],\n",
       "       [0.900911],\n",
       "       [0.967646],\n",
       "       [0.767443],\n",
       "       [1.10111],\n",
       "       [1.16785],\n",
       "       [1.13448],\n",
       "       [1.36805],\n",
       "       [1.33468],\n",
       "       [1.30132],\n",
       "       [1.40142],\n",
       "       [1.40142],\n",
       "       [2.06876],\n",
       "       [1.96866],\n",
       "       [6.94035],\n",
       "       [10.8109],\n",
       "       [1.26795],\n",
       "       [0],\n",
       "       [0]]), setup_on_init=True, post_load_on_init=False, debug_print=False, time_bin_size=0.03333, spikes_df=                 t      t_seconds  t_rel_seconds  shank  cluster  aclu  qclu           x           y      speed  traj  lap  maze_relative_lap  maze_id  is_theta  is_ripple  theta_phase_radians           neuron_type  flat_spike_idx  x_loaded  y_loaded     lin_pos  fragile_linear_neuron_IDX  PBE_id     scISI binned_time\n",
       "19834    2055940.0  954550.591909      63.158444      4        5    18     4  100.765007  140.184327  69.317851     3    2                  2        1      True      False             0.168775  NeuronType.PYRAMIDAL           19834  0.334331  0.497991  104.982605                         16      -1  0.224932           1\n",
       "19838    2056412.0  954550.606409      63.172944      8       24    34     2  101.609163  140.230026  61.997219     3    2                  2        1      True      False             0.909978  NeuronType.PYRAMIDAL           19838  0.337040  0.498062  105.926918                         32      -1  0.370176           1\n",
       "19845    2056772.0  954550.617468      63.184003     12        2    49     4  102.090307  140.352993  55.607069     3    2                  2        1      True      False             1.475616  NeuronType.PYRAMIDAL           19845  0.339396  0.498179  106.531942                         47      -1  1.829774           1\n",
       "19846    2056786.0  954550.617899      63.184434      8       24    34     2  102.109018  140.357775  55.358563     3    2                  2        1      True      False             1.475616  NeuronType.PYRAMIDAL           19846  0.339488  0.498184  106.555471                         32      -1  0.011489           1\n",
       "19858    2057642.0  954550.644195      63.210730     10        9    44     2  103.090524  140.730827  41.729183     3    2                  2        1      True      False             2.773644  NeuronType.PYRAMIDAL           19858  0.345442  0.498492  107.670701                         42      -1  0.187853           2\n",
       "19861    2057861.0  954550.650923      63.217458     10        9    44     2  103.254775  140.869374  39.078489     3    2                  2        1      True      False             3.119583  NeuronType.PYRAMIDAL           19861  0.347147  0.498585  107.783220                         42      -1  0.006728           2\n",
       "...            ...            ...            ...    ...      ...   ...   ...         ...         ...        ...   ...  ...                ...      ...       ...        ...                  ...                   ...             ...       ...       ...         ...                        ...     ...       ...         ...\n",
       "201707  21060166.0  955134.401433     646.967968     12        3    50     4  245.386380  137.146936   1.710412    13   -1                 -1        1     False      False             5.360729  NeuronType.PYRAMIDAL          201707  0.857722  0.485025  245.975090                         48      -1  0.003686       17517\n",
       "201724  21063363.0  955134.499645     647.066180      2        6     9     2  245.291452  137.009126   1.698771    13   -1                 -1        1     False      False             4.395319  NeuronType.PYRAMIDAL          201724  0.858920  0.487362  245.977880                          7      -1  2.195834       17519\n",
       "201726  21063608.0  955134.507171     647.073706      8       11    27     4  245.284253  136.998675   1.698352    13   -1                 -1        1     False      False             4.819155  NeuronType.PYRAMIDAL          201726  0.858890  0.487429  245.979171                         25      -1  3.863222       17520\n",
       "201729  21063723.0  955134.510704     647.077239      2        6     9     2  245.280874  136.993770   1.698155    13   -1                 -1        1     False      False             4.987492  NeuronType.PYRAMIDAL          201729  0.858877  0.487461  245.979777                          7      -1  0.011059       17520\n",
       "201730  21063858.0  955134.514851     647.081386      7        3    20     4  245.276907  136.988011   1.697924    13   -1                 -1        1     False      False             5.196784  NeuronType.PYRAMIDAL          201730  0.858861  0.487498  245.980488                         18      -1  5.135921       17520\n",
       "201731  21063901.0  955134.516172     647.082707      2        6     9     2  245.275644  136.986177   1.697851    13   -1                 -1        1     False      False             5.280112  NeuronType.PYRAMIDAL          201731  0.858855  0.487509  245.980715                          7      -1  0.005468       17520\n",
       "\n",
       "[6720 rows x 26 columns], time_binning_container=<neuropy.utils.mixins.binning_helpers.BinningContainer object at 0x00000259DCA02280>, unit_specific_time_binned_spike_counts=array([[0, 0, 0, ..., 0, 0, 0],\n",
       "       [0, 0, 0, ..., 0, 0, 0],\n",
       "       [0, 0, 0, ..., 0, 0, 0],\n",
       "       ...,\n",
       "       [0, 0, 2, ..., 0, 0, 0],\n",
       "       [0, 0, 0, ..., 0, 0, 0],\n",
       "       [0, 0, 0, ..., 0, 0, 0]], dtype=int64), total_spike_counts_per_window=array([3, 0, 4, ..., 0, 1, 4], dtype=int64), flat_p_x_given_n=array([[0, 6.73516e-05, 0, ..., 0, 0.0471214, 0.0471214],\n",
       "       [4.172e-13, 8.65197e-05, 0, ..., 0, 0.041705, 0.041705],\n",
       "       [3.66955e-11, 0.000106186, 0, ..., 0, 0.0338104, 0.0338104],\n",
       "       ...,\n",
       "       [2.29234e-08, 0, 0, ..., 0.179295, 0.0336388, 0.0336388],\n",
       "       [3.14029e-10, 0, 0, ..., 0.140147, 0.0538956, 0.0538956],\n",
       "       [2.37118e-12, 0, 0, ..., 0.0970752, 0.0702662, 0.0702662]]), p_x_given_n=array([[0, 6.73516e-05, 0, ..., 0, 0.0471214, 0.0471214],\n",
       "       [4.172e-13, 8.65197e-05, 0, ..., 0, 0.041705, 0.041705],\n",
       "       [3.66955e-11, 0.000106186, 0, ..., 0, 0.0338104, 0.0338104],\n",
       "       ...,\n",
       "       [2.29234e-08, 0, 0, ..., 0.179295, 0.0336388, 0.0336388],\n",
       "       [3.14029e-10, 0, 0, ..., 0.140147, 0.0538956, 0.0538956],\n",
       "       [2.37118e-12, 0, 0, ..., 0.0970752, 0.0702662, 0.0702662]]), most_likely_position_flat_indicies=array([18, 12, 21, ..., 58, 60, 60], dtype=int64), most_likely_position_indicies=None, marginal=DynamicContainer({'x': DynamicContainer({'p_x_given_n': array([[0, 6.73516e-05, 0, ..., 0, 0.0471214, 0.0471214],\n",
       "       [4.172e-13, 8.65197e-05, 0, ..., 0, 0.041705, 0.041705],\n",
       "       [3.66955e-11, 0.000106186, 0, ..., 0, 0.0338104, 0.0338104],\n",
       "       ...,\n",
       "       [2.29234e-08, 0, 0, ..., 0.179295, 0.0336388, 0.0336388],\n",
       "       [3.14029e-10, 0, 0, ..., 0.140147, 0.0538956, 0.0538956],\n",
       "       [2.37118e-12, 0, 0, ..., 0.0970752, 0.0702662, 0.0702662]]), 'most_likely_positions_1D': array([98.9566, 76.041, 110.414, ..., 251.727, 259.366, 259.366]), 'revised_most_likely_positions_1D': array([98.9566, 98.9566, 110.414, ..., 251.727, 259.366, 259.366])}), 'y': None}), most_likely_positions=array([98.9566, 76.041, 110.414, ..., 251.727, 259.366, 259.366]), revised_most_likely_positions=array([98.9566, 98.9566, 110.414, ..., 251.727, 259.366, 259.366]))"
      ]
     },
     "execution_count": 28,
     "metadata": {},
     "output_type": "execute_result"
    }
   ],
   "source": [
    "\n",
    "\n"
   ]
  },
  {
   "cell_type": "code",
   "execution_count": null,
   "id": "15a83319",
   "metadata": {},
   "outputs": [],
   "source": [
    "## Get the cell aclus classified by their remapping type (XxC, RateRemapping, TrivalPositionRemapping, PositionRemapping)\n",
    "\n",
    "## Get custom decoder that only uses a subset of the cells\n",
    "long_LR_pf1D_Decoder.get_by_id(included_NeuronIDs)\n",
    "\n",
    "## from [/c:/Users/pho/repos/Spike3DWorkEnv/pyPhoPlaceCellAnalysis/src/pyphoplacecellanalysis/General/Pipeline/Stages/ComputationFunctions/MultiContextComputationFunctions/DirectionalPlacefieldGlobalComputationFunctions.py:415](vscode://file/c:/Users/pho/repos/Spike3DWorkEnv/pyPhoPlaceCellAnalysis/src/pyphoplacecellanalysis/General/Pipeline/Stages/ComputationFunctions/MultiContextComputationFunctions/DirectionalPlacefieldGlobalComputationFunctions.py:415)\n",
    "original_neuron_ids_list = [a_decoder.pf.ratemap.neuron_ids for a_decoder in (long_LR_decoder, long_RL_decoder, short_LR_decoder, short_RL_decoder)]\n",
    "is_aclu_included_list = [a_decoder.pf.ratemap.tuning_curve_unsmoothed_peak_firing_rates >= minimum_inclusion_fr_Hz for a_decoder in (long_LR_decoder, long_RL_decoder, short_LR_decoder, short_RL_decoder)]\n",
    "individual_decoder_filtered_aclus_list = [np.array(a_decoder.pf.ratemap.neuron_ids)[a_decoder.pf.ratemap.tuning_curve_unsmoothed_peak_firing_rates >= minimum_inclusion_fr_Hz] for a_decoder in (long_LR_decoder, long_RL_decoder, short_LR_decoder, short_RL_decoder)]\n",
    "\n",
    "## For a given run direction (LR/RL) let's require inclusion in either (OR) long v. short to be included.\n",
    "filtered_included_LR_aclus = np.union1d(individual_decoder_filtered_aclus_list[0], individual_decoder_filtered_aclus_list[2])\n",
    "filtered_included_RL_aclus = np.union1d(individual_decoder_filtered_aclus_list[1], individual_decoder_filtered_aclus_list[3])\n",
    "# build the final shared aclus:\n",
    "filtered_direction_shared_aclus_list = [filtered_included_LR_aclus, filtered_included_RL_aclus, filtered_included_LR_aclus, filtered_included_RL_aclus] # contains the shared aclus for that direction\n",
    "# rebuild the is_aclu_included_list from the shared aclus\n",
    "is_aclu_included_list = [np.isin(an_original_neuron_ids, a_filtered_neuron_ids) for an_original_neuron_ids, a_filtered_neuron_ids in zip(original_neuron_ids_list, filtered_direction_shared_aclus_list)]\n",
    "\n",
    "filtered_decoder_list = [a_decoder.get_by_id(a_filtered_aclus) for a_decoder, a_filtered_aclus in zip((long_LR_decoder, long_RL_decoder, short_LR_decoder, short_RL_decoder), filtered_direction_shared_aclus_list)]\n"
   ]
  },
  {
   "cell_type": "code",
   "execution_count": 93,
   "id": "42c84049",
   "metadata": {},
   "outputs": [
    {
     "name": "stdout",
     "output_type": "stream",
     "text": [
      "training_data_portion: 0.8333333333333334, test_data_portion: 0.16666666666666663\n"
     ]
    }
   ],
   "source": [
    "import portion as P # Required for interval search: portion~=2.3.0\n",
    "from neuropy.utils.efficient_interval_search import convert_PortionInterval_to_epochs_df, _convert_start_end_tuples_list_to_PortionInterval\n",
    "\n",
    "## Get custom decoder that is only trained on a portion of the laps\n",
    "## Build the `BasePositionDecoder` for each of the four templates analagous to what is done in `_long_short_decoding_analysis_from_decoders`:\n",
    "# long_LR_laps_one_step_decoder_1D, long_RL_laps_one_step_decoder_1D, short_LR_laps_one_step_decoder_1D, short_RL_laps_one_step_decoder_1D  = [BasePositionDecoder.init_from_stateful_decoder(deepcopy(results_data.get('pf1D_Decoder', None))) for results_data in (long_LR_results, long_RL_results, short_LR_results, short_RL_results)]\n",
    "\n",
    "## Restrict the data post-hoc?\n",
    "\n",
    "## Time-dependent decoder?\n",
    "\n",
    "## Split the lap epochs into training and test periods.\n",
    "##### Ideally we could test the lap decoding error by sampling randomly from the time bins and omitting 1/6 of time bins from the placefield building (effectively the training data). These missing bins will be used as the \"test data\" and the decoding error will be computed by decoding them and subtracting the actual measured position during these bins.\n",
    "\n",
    "def sample_random_period_from_lap(lap_start, lap_stop, training_data_portion: float, *additional_lap_columns):\n",
    "    \"\"\" \n",
    "    andomly sample a portion of each lap. Draw a random period of duration (duration[i] * training_data_portion) from the lap.\n",
    "\n",
    "    \"\"\"\n",
    "    total_lap_duration = lap_stop - lap_start\n",
    "    training_duration = total_lap_duration * training_data_portion\n",
    "    test_duration = total_lap_duration - training_duration\n",
    "\n",
    "\n",
    "    # # Calculate the latest possible start time for our training period so that\n",
    "    # # it ends before or when the lap ends.\n",
    "    # latest_start_time_for_training = lap_stop - training_duration\n",
    "    \n",
    "    # # Randomly choose a start time for the training period.\n",
    "    # training_start = np.random.uniform(lap_start, latest_start_time_for_training)\n",
    "    \n",
    "    # # The end time for the training period.\n",
    "    # training_stop = training_start + training_duration\n",
    "    \n",
    "    # return training_start, training_stop\n",
    "    ## Above implementation biased to beginning/ends of the laps\n",
    "\n",
    "\n",
    "    ## new method:\n",
    "    # I'd like to randomly choose a test_start_t period from any time during the interval. \n",
    "\n",
    "    # TRAINING data split mode:\n",
    "    training_start_t = np.random.uniform(lap_start, lap_stop)\n",
    "    training_end_t = training_start_t + training_duration\n",
    "    # Wrap around if training_end_t is beyond the period\n",
    "    training_wrap_duration = np.abs(lap_stop - training_end_t) \n",
    "\n",
    "    if training_wrap_duration > 0.0:\n",
    "        training_end_t = lap_stop # training spans to the end of the lap\n",
    "        ## new period is crated for training at start of lap\n",
    "        second_training_start_t = lap_start\n",
    "        second_training_stop_t = lap_start + training_wrap_duration\n",
    "        return [(training_start_t, training_end_t, *additional_lap_columns), (second_training_start_t, second_training_stop_t, *additional_lap_columns)]\n",
    "\n",
    "    else:\n",
    "        return [(training_start_t, training_end_t, *additional_lap_columns)]\n",
    "    \n",
    "    # ## Testing data split mode:\n",
    "    # test_start_t = np.random.uniform(lap_start, lap_stop)\n",
    "    # test_end_t = test_start_t + test_duration\n",
    "    # # Wrap around if test_end_t is beyond the period\n",
    "    # test_wrap_duration = lap_stop - test_end_t \n",
    "\n",
    "    # if test_wrap_duration > 0.0:\n",
    "    #     test_end_t = lap_stop # first test period spans to the end of the lap\n",
    "    #     ## new period is crated for testing at start of lap\n",
    "    #     second_training_start_t = lap_start\n",
    "    #     second_training_stop_t = lap_start + test_wrap_duration\n",
    "    #     return [(test_start_t, test_end_t, *additional_lap_columns), (second_training_start_t, second_training_stop_t, *additional_lap_columns)]\n",
    "\n",
    "    # else:\n",
    "    #     return [(test_start_t, test_end_t, *additional_lap_columns)]\n",
    "    \n",
    "\n",
    "### Get the laps to train on\n",
    "training_data_portion: float = 5.0/6.0\n",
    "test_data_portion: float = 1.0 - training_data_portion # test data portion is 1/6 of the total duration\n",
    "\n",
    "print(f'training_data_portion: {training_data_portion}, test_data_portion: {test_data_portion}')\n",
    "\n",
    "laps_df: pd.DataFrame = deepcopy(global_any_laps_epochs_obj.to_dataframe())\n",
    "# laps_df\n",
    "\n",
    "debug_print: bool = False\n",
    "additional_lap_identity_column_names = ['label', 'lap_id', 'lap_dir']\n",
    "\n",
    "# Randomly sample a portion of each lap. Draw a random period of duration (duration[i] * training_data_portion) from the lap.\n",
    "train_rows = []\n",
    "test_rows = []\n",
    "\n",
    "for lap_id, group in laps_df.groupby('lap_id'):\n",
    "    lap_start = group['start'].min()\n",
    "    lap_stop = group['stop'].max()\n",
    "    if debug_print:\n",
    "        print(f'lap_id: {lap_id} - group: {group}')\n",
    "    curr_additional_lap_column_values = [group[a_col].to_numpy()[0] for a_col in additional_lap_identity_column_names]\n",
    "    # lap_stop = group['lap_id']\n",
    "    # lap_stop = group['stop']\n",
    "    if debug_print:\n",
    "        print(f'\\tcurr_additional_lap_column_values: {curr_additional_lap_column_values}')\n",
    "    # Get the random training start and stop times for the lap.\n",
    "    # training_start, training_stop = sample_random_period_from_lap(lap_start, lap_stop, training_data_portion)\n",
    "    # Define your period as an interval\n",
    "    curr_lap_period = P.closed(lap_start, lap_stop)\n",
    "\n",
    "    epoch_start_stop_tuple_list = sample_random_period_from_lap(lap_start, lap_stop, training_data_portion, *curr_additional_lap_column_values)\n",
    "    combined_intervals = P.empty()\n",
    "\n",
    "    # _intermediate_portions_interval: P.Interval = _convert_start_end_tuples_list_to_PortionInterval(epoch_start_stop_tuple_list)\n",
    "    # filtered_epochs_df = convert_PortionInterval_to_epochs_df(_intermediate_portions_interval)\n",
    "    interval1 = P.closed(1, 5)  # This is a closed interval from 1 to 5, including both endpoints.\n",
    "    interval2 = P.closed(3, 8)  # Another closed interval from 3 to 8.\n",
    "\n",
    "    combined_intervals = P.empty()\n",
    "    for an_epoch_start_stop_tuple in epoch_start_stop_tuple_list:\n",
    "        combined_intervals = combined_intervals.union(P.closed(an_epoch_start_stop_tuple[0], an_epoch_start_stop_tuple[1]))\n",
    "        train_rows.append(an_epoch_start_stop_tuple)\n",
    "    \n",
    "    # Calculate the difference between the period and the combined interval\n",
    "    complement_intervals = curr_lap_period.difference(combined_intervals)\n",
    "    test_rows.append(convert_PortionInterval_to_epochs_df(complement_intervals))\n",
    "\n",
    "    # # Iterate through each epoch in the lap.\n",
    "    # for idx, row in group.iterrows():\n",
    "    #     epoch_start = row['start']\n",
    "    #     epoch_stop = row['stop']\n",
    "        \n",
    "    #     if epoch_stop <= training_start or epoch_start >= training_stop:\n",
    "    #         # The epoch doesn't intersect with the training period.\n",
    "    #         test_rows.append(row)\n",
    "    #     elif training_start <= epoch_start < training_stop and training_stop < epoch_stop:\n",
    "    #         # The epoch starts in the training period and ends outside of it.\n",
    "    #         train_rows.append({**row, 'stop': training_stop, 'duration': training_stop - epoch_start})\n",
    "    #         test_rows.append({**row, 'start': training_stop, 'duration': epoch_stop - training_stop})\n",
    "    #     elif epoch_start < training_start and training_start < epoch_stop <= training_stop:\n",
    "    #         # The epoch starts before the training period but ends within it.\n",
    "    #         test_rows.append({**row, 'stop': training_start, 'duration': training_start - epoch_start})\n",
    "    #         train_rows.append({**row, 'start': training_start, 'duration': epoch_stop - training_start})\n",
    "    #     elif training_start <= epoch_start and epoch_stop <= training_stop:\n",
    "    #         # The epoch is fully within the training period.\n",
    "    #         train_rows.append(row)\n",
    "    #     else:\n",
    "    #         # The epoch contains the entire training period.\n",
    "    #         test_rows.append({**row, 'stop': training_start, 'duration': training_start - epoch_start})\n",
    "    #         train_rows.append({**row, 'start': training_start, 'stop': training_stop, 'duration': training_stop - training_start})\n",
    "    #         test_rows.append({**row, 'start': training_stop, 'duration': epoch_stop - training_stop})\n",
    "\n",
    "## INPUTS: laps_df, laps_df\n",
    "\n",
    "# train_rows\n",
    "# Convert to DataFrame and reset indices\n",
    "laps_training_df = pd.DataFrame(train_rows, columns=['start', 'stop', *additional_lap_identity_column_names])\n",
    "laps_training_df['duration'] = laps_training_df['stop'] - laps_training_df['start']\n",
    "\n",
    "## Use Porition to find the test interval location:\n",
    "laps_Portion_obj: P.Interval = laps_df.epochs.to_PortionInterval()\n",
    "laps_training_Portion_obj: P.Interval = laps_training_df.epochs.to_PortionInterval()\n",
    "laps_test_Portion_obj: P.Interval = laps_Portion_obj.difference(laps_training_Portion_obj) # does not seem to work\n",
    "laps_test_df: pd.DataFrame = Epoch.from_PortionInterval(laps_test_Portion_obj).to_dataframe() \n",
    "# laps_training_Portion_obj.complement()"
   ]
  },
  {
   "cell_type": "code",
   "execution_count": 89,
   "id": "c5424993",
   "metadata": {},
   "outputs": [
    {
     "data": {
      "text/html": [
       "<div>\n",
       "<style scoped>\n",
       "    .dataframe tbody tr th:only-of-type {\n",
       "        vertical-align: middle;\n",
       "    }\n",
       "\n",
       "    .dataframe tbody tr th {\n",
       "        vertical-align: top;\n",
       "    }\n",
       "\n",
       "    .dataframe thead th {\n",
       "        text-align: right;\n",
       "    }\n",
       "</style>\n",
       "<table border=\"1\" class=\"dataframe\">\n",
       "  <thead>\n",
       "    <tr style=\"text-align: right;\">\n",
       "      <th></th>\n",
       "      <th>start</th>\n",
       "      <th>stop</th>\n",
       "      <th>label</th>\n",
       "      <th>duration</th>\n",
       "    </tr>\n",
       "  </thead>\n",
       "  <tbody>\n",
       "    <tr>\n",
       "      <th>0</th>\n",
       "      <td>36.307721</td>\n",
       "      <td>42.053606</td>\n",
       "      <td>0</td>\n",
       "      <td>5.745885</td>\n",
       "    </tr>\n",
       "    <tr>\n",
       "      <th>1</th>\n",
       "      <td>63.101898</td>\n",
       "      <td>63.213871</td>\n",
       "      <td>0</td>\n",
       "      <td>0.111972</td>\n",
       "    </tr>\n",
       "    <tr>\n",
       "      <th>2</th>\n",
       "      <td>72.009997</td>\n",
       "      <td>72.679769</td>\n",
       "      <td>0</td>\n",
       "      <td>0.669772</td>\n",
       "    </tr>\n",
       "    <tr>\n",
       "      <th>3</th>\n",
       "      <td>89.962477</td>\n",
       "      <td>95.239276</td>\n",
       "      <td>0</td>\n",
       "      <td>5.276799</td>\n",
       "    </tr>\n",
       "    <tr>\n",
       "      <th>4</th>\n",
       "      <td>116.054576</td>\n",
       "      <td>118.190270</td>\n",
       "      <td>0</td>\n",
       "      <td>2.135694</td>\n",
       "    </tr>\n",
       "    <tr>\n",
       "      <th>5</th>\n",
       "      <td>144.884115</td>\n",
       "      <td>146.277644</td>\n",
       "      <td>0</td>\n",
       "      <td>1.393529</td>\n",
       "    </tr>\n",
       "    <tr>\n",
       "      <th>...</th>\n",
       "      <td>...</td>\n",
       "      <td>...</td>\n",
       "      <td>...</td>\n",
       "      <td>...</td>\n",
       "    </tr>\n",
       "    <tr>\n",
       "      <th>63</th>\n",
       "      <td>974.948349</td>\n",
       "      <td>975.208942</td>\n",
       "      <td>0</td>\n",
       "      <td>0.260593</td>\n",
       "    </tr>\n",
       "    <tr>\n",
       "      <th>64</th>\n",
       "      <td>982.762264</td>\n",
       "      <td>984.053026</td>\n",
       "      <td>0</td>\n",
       "      <td>1.290762</td>\n",
       "    </tr>\n",
       "    <tr>\n",
       "      <th>65</th>\n",
       "      <td>992.371542</td>\n",
       "      <td>995.739523</td>\n",
       "      <td>0</td>\n",
       "      <td>3.367981</td>\n",
       "    </tr>\n",
       "    <tr>\n",
       "      <th>66</th>\n",
       "      <td>1036.082438</td>\n",
       "      <td>1039.808409</td>\n",
       "      <td>0</td>\n",
       "      <td>3.725971</td>\n",
       "    </tr>\n",
       "    <tr>\n",
       "      <th>67</th>\n",
       "      <td>1050.162130</td>\n",
       "      <td>1054.632470</td>\n",
       "      <td>0</td>\n",
       "      <td>4.470340</td>\n",
       "    </tr>\n",
       "    <tr>\n",
       "      <th>68</th>\n",
       "      <td>1073.085383</td>\n",
       "      <td>1077.342028</td>\n",
       "      <td>0</td>\n",
       "      <td>4.256645</td>\n",
       "    </tr>\n",
       "  </tbody>\n",
       "</table>\n",
       "<p>69 rows × 4 columns</p>\n",
       "</div>"
      ],
      "text/plain": [
       "          start         stop label  duration\n",
       "0     36.307721    42.053606     0  5.745885\n",
       "1     63.101898    63.213871     0  0.111972\n",
       "2     72.009997    72.679769     0  0.669772\n",
       "3     89.962477    95.239276     0  5.276799\n",
       "4    116.054576   118.190270     0  2.135694\n",
       "5    144.884115   146.277644     0  1.393529\n",
       "..          ...          ...   ...       ...\n",
       "63   974.948349   975.208942     0  0.260593\n",
       "64   982.762264   984.053026     0  1.290762\n",
       "65   992.371542   995.739523     0  3.367981\n",
       "66  1036.082438  1039.808409     0  3.725971\n",
       "67  1050.162130  1054.632470     0  4.470340\n",
       "68  1073.085383  1077.342028     0  4.256645\n",
       "\n",
       "[69 rows x 4 columns]"
      ]
     },
     "execution_count": 89,
     "metadata": {},
     "output_type": "execute_result"
    }
   ],
   "source": [
    "# test_rows[0][['start', 'stop']].to_numpy()\n",
    "\n",
    "pd.concat(test_rows, ignore_index=True)"
   ]
  },
  {
   "cell_type": "code",
   "execution_count": 94,
   "id": "6c3e596f",
   "metadata": {},
   "outputs": [
    {
     "data": {
      "text/html": [
       "<div>\n",
       "<style scoped>\n",
       "    .dataframe tbody tr th:only-of-type {\n",
       "        vertical-align: middle;\n",
       "    }\n",
       "\n",
       "    .dataframe tbody tr th {\n",
       "        vertical-align: top;\n",
       "    }\n",
       "\n",
       "    .dataframe thead th {\n",
       "        text-align: right;\n",
       "    }\n",
       "</style>\n",
       "<table border=\"1\" class=\"dataframe\">\n",
       "  <thead>\n",
       "    <tr style=\"text-align: right;\">\n",
       "      <th></th>\n",
       "      <th>start</th>\n",
       "      <th>stop</th>\n",
       "      <th>label</th>\n",
       "      <th>duration</th>\n",
       "      <th>lap_id</th>\n",
       "      <th>lap_dir</th>\n",
       "    </tr>\n",
       "  </thead>\n",
       "  <tbody>\n",
       "    <tr>\n",
       "      <th>0</th>\n",
       "      <td>36.307721</td>\n",
       "      <td>42.245845</td>\n",
       "      <td>0</td>\n",
       "      <td>5.938124</td>\n",
       "      <td>1</td>\n",
       "      <td>0</td>\n",
       "    </tr>\n",
       "    <tr>\n",
       "      <th>1</th>\n",
       "      <td>63.035515</td>\n",
       "      <td>64.503950</td>\n",
       "      <td>1</td>\n",
       "      <td>1.468435</td>\n",
       "      <td>2</td>\n",
       "      <td>1</td>\n",
       "    </tr>\n",
       "    <tr>\n",
       "      <th>2</th>\n",
       "      <td>72.009997</td>\n",
       "      <td>75.816214</td>\n",
       "      <td>2</td>\n",
       "      <td>3.806217</td>\n",
       "      <td>3</td>\n",
       "      <td>0</td>\n",
       "    </tr>\n",
       "    <tr>\n",
       "      <th>3</th>\n",
       "      <td>89.962477</td>\n",
       "      <td>95.968505</td>\n",
       "      <td>3</td>\n",
       "      <td>6.006028</td>\n",
       "      <td>4</td>\n",
       "      <td>1</td>\n",
       "    </tr>\n",
       "    <tr>\n",
       "      <th>4</th>\n",
       "      <td>116.054576</td>\n",
       "      <td>119.758834</td>\n",
       "      <td>4</td>\n",
       "      <td>3.704258</td>\n",
       "      <td>5</td>\n",
       "      <td>0</td>\n",
       "    </tr>\n",
       "    <tr>\n",
       "      <th>5</th>\n",
       "      <td>144.884115</td>\n",
       "      <td>148.420034</td>\n",
       "      <td>5</td>\n",
       "      <td>3.535919</td>\n",
       "      <td>6</td>\n",
       "      <td>1</td>\n",
       "    </tr>\n",
       "    <tr>\n",
       "      <th>...</th>\n",
       "      <td>...</td>\n",
       "      <td>...</td>\n",
       "      <td>...</td>\n",
       "      <td>...</td>\n",
       "      <td>...</td>\n",
       "      <td>...</td>\n",
       "    </tr>\n",
       "    <tr>\n",
       "      <th>68</th>\n",
       "      <td>1036.082438</td>\n",
       "      <td>1040.552516</td>\n",
       "      <td>68</td>\n",
       "      <td>4.470078</td>\n",
       "      <td>69</td>\n",
       "      <td>0</td>\n",
       "    </tr>\n",
       "    <tr>\n",
       "      <th>69</th>\n",
       "      <td>1050.162130</td>\n",
       "      <td>1054.902187</td>\n",
       "      <td>69</td>\n",
       "      <td>4.740057</td>\n",
       "      <td>70</td>\n",
       "      <td>1</td>\n",
       "    </tr>\n",
       "    <tr>\n",
       "      <th>70</th>\n",
       "      <td>1067.313526</td>\n",
       "      <td>1071.118508</td>\n",
       "      <td>70</td>\n",
       "      <td>3.804982</td>\n",
       "      <td>71</td>\n",
       "      <td>0</td>\n",
       "    </tr>\n",
       "    <tr>\n",
       "      <th>71</th>\n",
       "      <td>1073.085383</td>\n",
       "      <td>1078.623888</td>\n",
       "      <td>71</td>\n",
       "      <td>5.538505</td>\n",
       "      <td>72</td>\n",
       "      <td>1</td>\n",
       "    </tr>\n",
       "    <tr>\n",
       "      <th>72</th>\n",
       "      <td>1086.898689</td>\n",
       "      <td>1093.004903</td>\n",
       "      <td>72</td>\n",
       "      <td>6.106214</td>\n",
       "      <td>73</td>\n",
       "      <td>0</td>\n",
       "    </tr>\n",
       "    <tr>\n",
       "      <th>73</th>\n",
       "      <td>1098.211036</td>\n",
       "      <td>1102.915145</td>\n",
       "      <td>73</td>\n",
       "      <td>4.704109</td>\n",
       "      <td>74</td>\n",
       "      <td>1</td>\n",
       "    </tr>\n",
       "  </tbody>\n",
       "</table>\n",
       "<p>74 rows × 6 columns</p>\n",
       "</div>"
      ],
      "text/plain": [
       "          start         stop label  duration  lap_id  lap_dir\n",
       "0     36.307721    42.245845     0  5.938124       1        0\n",
       "1     63.035515    64.503950     1  1.468435       2        1\n",
       "2     72.009997    75.816214     2  3.806217       3        0\n",
       "3     89.962477    95.968505     3  6.006028       4        1\n",
       "4    116.054576   119.758834     4  3.704258       5        0\n",
       "5    144.884115   148.420034     5  3.535919       6        1\n",
       "..          ...          ...   ...       ...     ...      ...\n",
       "68  1036.082438  1040.552516    68  4.470078      69        0\n",
       "69  1050.162130  1054.902187    69  4.740057      70        1\n",
       "70  1067.313526  1071.118508    70  3.804982      71        0\n",
       "71  1073.085383  1078.623888    71  5.538505      72        1\n",
       "72  1086.898689  1093.004903    72  6.106214      73        0\n",
       "73  1098.211036  1102.915145    73  4.704109      74        1\n",
       "\n",
       "[74 rows x 6 columns]"
      ]
     },
     "execution_count": 94,
     "metadata": {},
     "output_type": "execute_result"
    },
    {
     "data": {
      "text/html": [
       "<div>\n",
       "<style scoped>\n",
       "    .dataframe tbody tr th:only-of-type {\n",
       "        vertical-align: middle;\n",
       "    }\n",
       "\n",
       "    .dataframe tbody tr th {\n",
       "        vertical-align: top;\n",
       "    }\n",
       "\n",
       "    .dataframe thead th {\n",
       "        text-align: right;\n",
       "    }\n",
       "</style>\n",
       "<table border=\"1\" class=\"dataframe\">\n",
       "  <thead>\n",
       "    <tr style=\"text-align: right;\">\n",
       "      <th></th>\n",
       "      <th>start</th>\n",
       "      <th>stop</th>\n",
       "      <th>label</th>\n",
       "      <th>lap_id</th>\n",
       "      <th>lap_dir</th>\n",
       "      <th>duration</th>\n",
       "    </tr>\n",
       "  </thead>\n",
       "  <tbody>\n",
       "    <tr>\n",
       "      <th>0</th>\n",
       "      <td>41.115289</td>\n",
       "      <td>42.245845</td>\n",
       "      <td>0</td>\n",
       "      <td>1</td>\n",
       "      <td>0</td>\n",
       "      <td>1.130556</td>\n",
       "    </tr>\n",
       "    <tr>\n",
       "      <th>1</th>\n",
       "      <td>36.307721</td>\n",
       "      <td>40.125601</td>\n",
       "      <td>0</td>\n",
       "      <td>1</td>\n",
       "      <td>0</td>\n",
       "      <td>3.817880</td>\n",
       "    </tr>\n",
       "    <tr>\n",
       "      <th>2</th>\n",
       "      <td>63.813044</td>\n",
       "      <td>64.503950</td>\n",
       "      <td>1</td>\n",
       "      <td>2</td>\n",
       "      <td>1</td>\n",
       "      <td>0.690906</td>\n",
       "    </tr>\n",
       "    <tr>\n",
       "      <th>3</th>\n",
       "      <td>63.035515</td>\n",
       "      <td>63.568305</td>\n",
       "      <td>1</td>\n",
       "      <td>2</td>\n",
       "      <td>1</td>\n",
       "      <td>0.532790</td>\n",
       "    </tr>\n",
       "    <tr>\n",
       "      <th>4</th>\n",
       "      <td>72.651676</td>\n",
       "      <td>75.816214</td>\n",
       "      <td>2</td>\n",
       "      <td>3</td>\n",
       "      <td>0</td>\n",
       "      <td>3.164538</td>\n",
       "    </tr>\n",
       "    <tr>\n",
       "      <th>5</th>\n",
       "      <td>72.009997</td>\n",
       "      <td>72.017306</td>\n",
       "      <td>2</td>\n",
       "      <td>3</td>\n",
       "      <td>0</td>\n",
       "      <td>0.007309</td>\n",
       "    </tr>\n",
       "    <tr>\n",
       "      <th>...</th>\n",
       "      <td>...</td>\n",
       "      <td>...</td>\n",
       "      <td>...</td>\n",
       "      <td>...</td>\n",
       "      <td>...</td>\n",
       "      <td>...</td>\n",
       "    </tr>\n",
       "    <tr>\n",
       "      <th>142</th>\n",
       "      <td>1074.610647</td>\n",
       "      <td>1078.623888</td>\n",
       "      <td>71</td>\n",
       "      <td>72</td>\n",
       "      <td>1</td>\n",
       "      <td>4.013241</td>\n",
       "    </tr>\n",
       "    <tr>\n",
       "      <th>143</th>\n",
       "      <td>1073.085383</td>\n",
       "      <td>1073.687563</td>\n",
       "      <td>71</td>\n",
       "      <td>72</td>\n",
       "      <td>1</td>\n",
       "      <td>0.602180</td>\n",
       "    </tr>\n",
       "    <tr>\n",
       "      <th>144</th>\n",
       "      <td>1089.186024</td>\n",
       "      <td>1093.004903</td>\n",
       "      <td>72</td>\n",
       "      <td>73</td>\n",
       "      <td>0</td>\n",
       "      <td>3.818879</td>\n",
       "    </tr>\n",
       "    <tr>\n",
       "      <th>145</th>\n",
       "      <td>1086.898689</td>\n",
       "      <td>1088.168322</td>\n",
       "      <td>72</td>\n",
       "      <td>73</td>\n",
       "      <td>0</td>\n",
       "      <td>1.269633</td>\n",
       "    </tr>\n",
       "    <tr>\n",
       "      <th>146</th>\n",
       "      <td>1100.875422</td>\n",
       "      <td>1102.915145</td>\n",
       "      <td>73</td>\n",
       "      <td>74</td>\n",
       "      <td>1</td>\n",
       "      <td>2.039723</td>\n",
       "    </tr>\n",
       "    <tr>\n",
       "      <th>147</th>\n",
       "      <td>1098.211036</td>\n",
       "      <td>1100.091404</td>\n",
       "      <td>73</td>\n",
       "      <td>74</td>\n",
       "      <td>1</td>\n",
       "      <td>1.880368</td>\n",
       "    </tr>\n",
       "  </tbody>\n",
       "</table>\n",
       "<p>148 rows × 6 columns</p>\n",
       "</div>"
      ],
      "text/plain": [
       "           start         stop label  lap_id  lap_dir  duration\n",
       "0      41.115289    42.245845     0       1        0  1.130556\n",
       "1      36.307721    40.125601     0       1        0  3.817880\n",
       "2      63.813044    64.503950     1       2        1  0.690906\n",
       "3      63.035515    63.568305     1       2        1  0.532790\n",
       "4      72.651676    75.816214     2       3        0  3.164538\n",
       "5      72.009997    72.017306     2       3        0  0.007309\n",
       "..           ...          ...   ...     ...      ...       ...\n",
       "142  1074.610647  1078.623888    71      72        1  4.013241\n",
       "143  1073.085383  1073.687563    71      72        1  0.602180\n",
       "144  1089.186024  1093.004903    72      73        0  3.818879\n",
       "145  1086.898689  1088.168322    72      73        0  1.269633\n",
       "146  1100.875422  1102.915145    73      74        1  2.039723\n",
       "147  1098.211036  1100.091404    73      74        1  1.880368\n",
       "\n",
       "[148 rows x 6 columns]"
      ]
     },
     "execution_count": 94,
     "metadata": {},
     "output_type": "execute_result"
    },
    {
     "data": {
      "text/html": [
       "<div>\n",
       "<style scoped>\n",
       "    .dataframe tbody tr th:only-of-type {\n",
       "        vertical-align: middle;\n",
       "    }\n",
       "\n",
       "    .dataframe tbody tr th {\n",
       "        vertical-align: top;\n",
       "    }\n",
       "\n",
       "    .dataframe thead th {\n",
       "        text-align: right;\n",
       "    }\n",
       "</style>\n",
       "<table border=\"1\" class=\"dataframe\">\n",
       "  <thead>\n",
       "    <tr style=\"text-align: right;\">\n",
       "      <th></th>\n",
       "      <th>start</th>\n",
       "      <th>stop</th>\n",
       "      <th>label</th>\n",
       "      <th>duration</th>\n",
       "    </tr>\n",
       "  </thead>\n",
       "  <tbody>\n",
       "    <tr>\n",
       "      <th>0</th>\n",
       "      <td>40.125601</td>\n",
       "      <td>41.115289</td>\n",
       "      <td>0</td>\n",
       "      <td>0.989687</td>\n",
       "    </tr>\n",
       "    <tr>\n",
       "      <th>1</th>\n",
       "      <td>63.568305</td>\n",
       "      <td>63.813044</td>\n",
       "      <td>1</td>\n",
       "      <td>0.244739</td>\n",
       "    </tr>\n",
       "    <tr>\n",
       "      <th>2</th>\n",
       "      <td>72.017306</td>\n",
       "      <td>72.651676</td>\n",
       "      <td>2</td>\n",
       "      <td>0.634370</td>\n",
       "    </tr>\n",
       "    <tr>\n",
       "      <th>3</th>\n",
       "      <td>91.095933</td>\n",
       "      <td>92.096938</td>\n",
       "      <td>3</td>\n",
       "      <td>1.001005</td>\n",
       "    </tr>\n",
       "    <tr>\n",
       "      <th>4</th>\n",
       "      <td>116.362283</td>\n",
       "      <td>116.364245</td>\n",
       "      <td>4</td>\n",
       "      <td>0.001961</td>\n",
       "    </tr>\n",
       "    <tr>\n",
       "      <th>5</th>\n",
       "      <td>146.326498</td>\n",
       "      <td>146.915818</td>\n",
       "      <td>5</td>\n",
       "      <td>0.589320</td>\n",
       "    </tr>\n",
       "    <tr>\n",
       "      <th>...</th>\n",
       "      <td>...</td>\n",
       "      <td>...</td>\n",
       "      <td>...</td>\n",
       "      <td>...</td>\n",
       "    </tr>\n",
       "    <tr>\n",
       "      <th>63</th>\n",
       "      <td>1038.016962</td>\n",
       "      <td>1038.761975</td>\n",
       "      <td>63</td>\n",
       "      <td>0.745013</td>\n",
       "    </tr>\n",
       "    <tr>\n",
       "      <th>64</th>\n",
       "      <td>1050.335433</td>\n",
       "      <td>1050.778836</td>\n",
       "      <td>64</td>\n",
       "      <td>0.443403</td>\n",
       "    </tr>\n",
       "    <tr>\n",
       "      <th>65</th>\n",
       "      <td>1069.555667</td>\n",
       "      <td>1070.189831</td>\n",
       "      <td>65</td>\n",
       "      <td>0.634164</td>\n",
       "    </tr>\n",
       "    <tr>\n",
       "      <th>66</th>\n",
       "      <td>1073.687563</td>\n",
       "      <td>1074.610647</td>\n",
       "      <td>66</td>\n",
       "      <td>0.923084</td>\n",
       "    </tr>\n",
       "    <tr>\n",
       "      <th>67</th>\n",
       "      <td>1088.168322</td>\n",
       "      <td>1089.186024</td>\n",
       "      <td>67</td>\n",
       "      <td>1.017702</td>\n",
       "    </tr>\n",
       "    <tr>\n",
       "      <th>68</th>\n",
       "      <td>1100.091404</td>\n",
       "      <td>1100.875422</td>\n",
       "      <td>68</td>\n",
       "      <td>0.784018</td>\n",
       "    </tr>\n",
       "  </tbody>\n",
       "</table>\n",
       "<p>69 rows × 4 columns</p>\n",
       "</div>"
      ],
      "text/plain": [
       "          start         stop label  duration\n",
       "0     40.125601    41.115289     0  0.989687\n",
       "1     63.568305    63.813044     1  0.244739\n",
       "2     72.017306    72.651676     2  0.634370\n",
       "3     91.095933    92.096938     3  1.001005\n",
       "4    116.362283   116.364245     4  0.001961\n",
       "5    146.326498   146.915818     5  0.589320\n",
       "..          ...          ...   ...       ...\n",
       "63  1038.016962  1038.761975    63  0.745013\n",
       "64  1050.335433  1050.778836    64  0.443403\n",
       "65  1069.555667  1070.189831    65  0.634164\n",
       "66  1073.687563  1074.610647    66  0.923084\n",
       "67  1088.168322  1089.186024    67  1.017702\n",
       "68  1100.091404  1100.875422    68  0.784018\n",
       "\n",
       "[69 rows x 4 columns]"
      ]
     },
     "execution_count": 94,
     "metadata": {},
     "output_type": "execute_result"
    }
   ],
   "source": [
    "# laps_test_df: Epoch = Epoch(Epoch.from_PortionInterval(laps_training_Portion_obj.complement()).time_slice(t_start=laps_df.epochs.t_start, t_stop=laps_df.epochs.t_stop).to_dataframe()[:-1]).to_dataframe() #[:-1] # any period except the replay ones, drop the infinite last entry\n",
    "\n",
    "\n",
    "# Convert to DataFrame and reset indices\n",
    "# laps_training_df = pd.DataFrame(train_rows)\n",
    "# laps_test_df = pd.DataFrame(test_rows)\n",
    "laps_training_df.reset_index(drop=True, inplace=True)\n",
    "laps_test_df.reset_index(drop=True, inplace=True)\n",
    "\n",
    "# assert np.shape(laps_test_df)[0] == np.shape(laps_df)[0], f\"np.shape(laps_test_df)[0]: {np.shape(laps_test_df)[0]} != np.shape(laps_df)[0]: {np.shape(laps_df)[0]}\"\n",
    "\n",
    "## OUTPUTS: laps_training_df, laps_test_df\n",
    "laps_df\n",
    "laps_training_df\n",
    "laps_test_df"
   ]
  },
  {
   "cell_type": "code",
   "execution_count": 98,
   "id": "b96fd226",
   "metadata": {},
   "outputs": [
    {
     "name": "stdout",
     "output_type": "stream",
     "text": [
      "(curr_span_ymin, curr_span_ymax): (0.0, 1.0), epoch_tuples: [(40.12560146632231, 0.9896873333297336), (63.568304984249124, 0.2447391666549521), (72.01730626754173, 0.6343695000008012), (91.09593334805442, 1.0010046666720882), (116.3622834407277, 0.0019614518118089563), (146.32649823796262, 0.5893198333409089), (156.35012838887158, 0.5895055000049467), (196.52751760768848, 0.6227193333324976), (223.3700849292889, 0.6835880000144243), (241.44201984112334, 1.078879666650522), (254.2203842121075, 1.0623685000076364), (260.00858024713403, 0.4033393388774016), (272.7616668527899, 1.0122991666818848), (287.05937473656286, 0.544869666666898), (298.36232117166594, 0.6615386666574636), (307.7250008128574, 0.8067246666566348), (311.57692485253136, 1.301382166663359), (333.8552292110534, 0.784369166668796), (347.3364981673456, 1.0456788333249278), (354.51918369000856, 0.8783906666600956), (372.6348100762633, 0.7396019999869168), (380.6589997551478, 0.7226848333375528), (400.7710689659806, 0.6672318333294243), (415.715903418654, 0.7805259958234387), (427.54279918358225, 0.978833666672756), (437.6886473649514, 0.8507341666651769), (453.671397533196, 0.6006696666784705), (468.0594616350877, 0.8531187297264182), (492.1853209689175, 0.845403166662436), (513.1686643913195, 0.055620883859205605), (573.4717498017834, 0.6061079999975618), (580.3106986797202, 0.7898296666680835), (593.5063177726141, 0.12499078797270613), (601.3927217609724, 0.8197283111842353), (619.5769009423925, 1.0177649999968708), (630.2533871620637, 0.5781756758425445), (641.7034482617547, 1.017859333330648), (676.8442900070603, 0.761672166661242), (726.4659237807136, 0.7062471666528154), (741.7049945724532, 0.24978152167648204), (752.0359881573722, 0.7343510000113156), (766.4404605674321, 0.7449559999901112), (792.0384570476081, 0.5729113333314899), (809.5296570741097, 1.05098199999577), (814.6745233663235, 0.28955060053601755), (822.3485132781736, 0.7450720000002775), (829.6844100379782, 0.823145499996258), (843.0143222481832, 0.6953523333455678), (849.2724309503684, 0.5891771666550767), (858.1738832109663, 0.7174056666748356), (866.6328048286026, 0.8728456666576676), (874.0039149428416, 0.656182166674057), (885.7317445218572, 0.9847018333384767), (895.5323884643426, 1.406919333327096), (912.3693238515455, 0.7841906666677687), (920.0763356609637, 0.7118986666706633), (930.9529980855758, 0.6174824999956172), (953.55336545227, 0.8118184999912046), (958.9600758563803, 0.9340555000040922), (970.3515134154212, 0.7064338333439082), (975.7624576805337, 0.9176846666765641), (985.5441382904488, 0.7674778333361019), (993.6995756323372, 0.6895809999938365), (1038.0169619091896, 0.7450130000167974), (1050.3354334294, 0.44340264109996497), (1069.5556674328077, 0.6341636666718387), (1073.6875629131387, 0.9230841666576453), (1088.1683216932354, 1.017702333338093), (1100.0914036988574, 0.7840181666736044)]\n",
      "(curr_span_ymin, curr_span_ymax): (0.0, 1.0), epoch_tuples: [(36.30772099993192, 3.817880466390392), (41.11528879965204, 1.1305562002582903), (63.03551499999594, 0.5327899842531849), (63.813044150904076, 0.690905849021604), (72.00999699998647, 0.007309267555257293), (72.65167576754253, 3.164538232448777), (89.96247699996457, 1.133456348089851), (92.0969380147265, 3.87156698527059), (116.05457599996589, 0.3077074407618028), (116.3642448925395, 3.3945891074388754), (144.88411499990616, 1.4423832380564647), (146.91581807130353, 1.5042159286480228), (156.02872399997432, 0.32140438889726397), (156.93963388887653, 2.626123111127413), (181.7885369999567, 0.4352900759253373), (182.05947125737106, 3.966411742623734), (195.7694509999128, 0.7580666077756746), (197.15023694102098, 2.3555300588868135), (209.91466199990828, 0.36452714971545674), (210.1122183502034, 3.1749446497683778), (223.13059899990913, 0.2394859293797822), (224.05367292930333, 3.1784540706923394), (241.24824200000148, 0.19377784112185736), (242.52089950777386, 5.200620492130696), (249.75570399989374, 4.46468021221375), (255.28275271211513, 0.847162287824375), (259.7653369999025, 0.24324324723153268), (260.41191958601144, 4.692372413933981), (268.1403679999057, 4.621298852884195), (273.7739660194718, 0.4401969805251156), (284.5918739999179, 2.467500736644979), (287.60424440322976, 0.25684759668939705), (296.17093799996655, 2.1913831716993855), (299.0238598383234, 1.1163101615880464), (305.34484999999404, 2.3801508128633486), (308.531725479514, 1.6534725204197116), (310.2159499999834, 1.3609748525479404), (312.8783070191947, 5.145935980768741), (333.6070859999163, 0.24814321113711912), (334.6395983777222, 3.6737026222069744), (342.74984699999914, 4.586651167346474), (348.38217700067054, 0.6417429992781649), (352.46083799994085, 2.0583456900677106), (355.39757435666866, 2.3336076432326536), (369.710447999998, 2.924362076265311), (373.3744120762502, 0.773647923669273), (378.620450999937, 2.0385487552107975), (381.38168458848537, 1.5748754114769667), (400.60837899998296, 0.16268996599762886), (401.43830079931, 3.1734692006494924), (415.65557899989653, 0.06032441875748873), (416.49642941447746, 4.566198585449456), (426.10090099996887, 1.4418981836133753), (428.521632850255, 3.452270149750518), (435.64392099995166, 2.0447263649997467), (438.5393815316166, 2.208944468326024), (451.4601449999027, 2.2112525332933046), (454.27206719987447, 0.7920958000991618), (467.91053999995347, 0.1489216351342293), (468.9125803648141, 5.9037316351085), (489.49706199998036, 2.6882589689371343), (493.03072413557993, 1.5387568643750456), (512.8542729999172, 0.314391391402296), (513.2242852751787, 3.7364097247210566), (554.9639859999297, 0.6842698155650169), (554.9694193510436, 4.1327856489592705), (572.2156139999861, 1.2561358017973134), (574.077857801781, 1.7744041981902683), (579.821646999917, 0.48905167980319675), (581.1005283463883, 3.460096653537221), (593.0348339999327, 0.4714837726813812), (593.6313085605868, 5.811275439358951), (601.0768729998963, 0.315848761076154), (602.2124500721567, 7.5729779277588705), (619.4946919999784, 0.0822089424141268), (620.5946659423894, 5.006616057570227), (630.039243999985, 0.21414316207869888), (630.8315628379063, 5.246453162078637), (641.0837169999722, 0.6197312617824764), (642.7213075950854, 4.469565404870536), (673.617409999948, 3.2268800071122996), (677.6059621737215, 0.5814808261936832), (723.7670289999805, 2.6988947807330987), (727.1721709473665, 0.8323410525312056), (741.5183869999601, 0.18660757249313065), (741.9547760941297, 3.30159090580662), (749.3249049999285, 2.7110831574436816), (752.7703391573835, 0.960671842612669), (763.3746279999614, 3.065832567470693), (767.1854165674222, 0.6589474324800904), (780.8246019999497, 0.3967161475643479), (781.1840901857163, 4.177737814219199), (790.0003819999984, 2.038075047609709), (792.6113683809396, 0.8264816190479678), (797.9088939999929, 0.5593151767264999), (797.9558353232499, 3.5905976766441654), (804.7151479999302, 4.814509074179455), (810.5806390741054, 0.4404009257996222), (814.4911829999182, 0.18334036640521845), (814.9640739668595, 3.4644970331372633), (821.5653969999403, 0.7831162782333649), (823.0935852781739, 2.94224372176825), (827.9058179999702, 1.7785920380080142), (830.5075555379744, 2.3371354619730482), (840.2167979999213, 2.7975242482619933), (843.7096745815288, 0.679237418466073), (848.2599029999692, 1.0125279503992033), (849.8616081170235, 1.9333578828759528), (857.3015769999474, 0.8723062110188948), (858.8912888776412, 2.714722122355056), (863.6420569999609, 2.9907478286417017), (867.5056504952603, 1.3734805046466363), (872.6506019999506, 1.353312942890966), (874.6600971095156, 1.9275978904790918), (885.128318999894, 0.6034255219632314), (886.7164463551957, 4.320083644729152), (895.0404540000018, 0.49193446434082944), (896.9393077976697, 6.54266220229465), (912.3239309999626, 0.04539285158284656), (913.1535145182132, 3.8755604817562244), (919.3314059999539, 0.7449296610097917), (920.7882343276343, 2.814563672343752), (928.4060179999797, 2.5469800855961466), (931.5704805855714, 0.5404324143817121), (952.9655379999895, 0.5878274522805214), (954.3651839522612, 3.4712650476755016), (958.8049949998967, 0.15508085648355063), (959.8941313563844, 4.515196643537138), (966.9454069999047, 3.406106415516547), (971.0579472487651, 0.12606275120299415), (974.6198029998923, 1.1426546806413853), (976.6801423472102, 3.4457686527416627), (982.7622639999026, 2.7818742905461704), (986.3116161237849, 1.0555148761341115), (992.371541999979, 1.328033632358256), (994.389156632331, 2.119871367611154), (1036.0824379998958, 1.93452390929383), (1038.7619749092064, 1.7905410907897021), (1050.1621299999533, 0.17330342944660515), (1050.7788360705, 4.1233509294124815), (1067.3135259998962, 2.242141432911467), (1070.1898310994795, 0.9286769004472717), (1073.0853829999687, 0.6021799131699481), (1074.6106470797963, 4.013240920118278), (1086.898688999936, 1.2696326932993998), (1089.1860240265735, 3.8188789733910653), (1098.2110359999351, 1.8803676989223277), (1100.875421865531, 2.039723134446149)]\n"
     ]
    },
    {
     "data": {
      "text/plain": [
       "<matplotlib.legend.Legend object at 0x0000025B51D4FB50>"
      ]
     },
     "execution_count": 98,
     "metadata": {},
     "output_type": "execute_result"
    },
    {
     "data": {
      "text/plain": [
       "Text(0.5, 1.0, 'Lap epochs divided into separate training and test intervals')"
      ]
     },
     "execution_count": 98,
     "metadata": {},
     "output_type": "execute_result"
    },
    {
     "data": {
      "text/plain": [
       "Text(0.5, 23.52222222222222, 'time (sec)')"
      ]
     },
     "execution_count": 98,
     "metadata": {},
     "output_type": "execute_result"
    },
    {
     "data": {
      "text/plain": [
       "Text(42.722222222222214, 0.5, 'Lap Epochs')"
      ]
     },
     "execution_count": 98,
     "metadata": {},
     "output_type": "execute_result"
    }
   ],
   "source": [
    "from neuropy.utils.matplotlib_helpers import draw_epoch_regions\n",
    "\n",
    "\n",
    "## INPUTS: laps_df, laps_training_df, laps_test_df\n",
    "\n",
    "def _prepare_epochs_df(laps_test_df: pd.DataFrame) -> Epoch:\n",
    "    active_filter_epochs = deepcopy(laps_test_df)\n",
    "\n",
    "    if not 'stop' in active_filter_epochs.columns:\n",
    "        # Make sure it has the 'stop' column which is expected as opposed to the 'end' column\n",
    "        active_filter_epochs['stop'] = active_filter_epochs['end'].copy()\n",
    "        \n",
    "    if not 'label' in active_filter_epochs.columns:\n",
    "        # Make sure it has the 'stop' column which is expected as opposed to the 'end' column\n",
    "        active_filter_epochs['label'] = active_filter_epochs['flat_replay_idx'].copy()\n",
    "\n",
    "    active_filter_epoch_obj = Epoch(active_filter_epochs)\n",
    "    return active_filter_epoch_obj\n",
    "\n",
    "\n",
    "\n",
    "laps_Epoch_obj = _prepare_epochs_df(laps_df)\n",
    "laps_training_df_Epoch_obj = _prepare_epochs_df(laps_training_df)\n",
    "laps_test_df_Epoch_obj = _prepare_epochs_df(laps_test_df)\n",
    "\n",
    "\n",
    "\n",
    "fig, ax = plt.subplots()\n",
    "# ax.plot(post_update_times, flat_surprise_across_all_positions)\n",
    "# ax.set_ylabel('Relative Entropy across all positions')\n",
    "# ax.set_xlabel('t (seconds)')\n",
    "# epochs_collection, epoch_labels = draw_epoch_regions(curr_active_pipeline.sess.epochs, ax, facecolor=('red','cyan'), alpha=0.1, edgecolors=None, labels_kwargs={'y_offset': -0.05, 'size': 14}, defer_render=True, debug_print=False)\n",
    "laps_epochs_collection, laps_epoch_labels = draw_epoch_regions(laps_Epoch_obj, ax, facecolor='black', edgecolors=None, labels_kwargs={'y_offset': -16.0, 'size':8}, defer_render=True, debug_print=False, label='laps')\n",
    "test_epochs_collection, test_epoch_labels = draw_epoch_regions(laps_test_df_Epoch_obj, ax, facecolor='orange', edgecolors='orange', labels_kwargs=None, defer_render=False, debug_print=True, label='test')\n",
    "train_epochs_collection, train_epoch_labels = draw_epoch_regions(laps_training_df_Epoch_obj, ax, facecolor='green', edgecolors='green', labels_kwargs=None, defer_render=False, debug_print=True, label='train')\n",
    "ax.autoscale()\n",
    "fig.legend()\n",
    "plt.title('Lap epochs divided into separate training and test intervals')\n",
    "plt.xlabel('time (sec)')\n",
    "plt.ylabel('Lap Epochs')\n",
    "fig.show()\n"
   ]
  }
 ],
 "metadata": {
  "kernelspec": {
   "display_name": "Python 3 (ipykernel)",
   "language": "python",
   "name": "python3"
  },
  "language_info": {
   "codemirror_mode": {
    "name": "ipython",
    "version": 3
   },
   "file_extension": ".py",
   "mimetype": "text/x-python",
   "name": "python",
   "nbconvert_exporter": "python",
   "pygments_lexer": "ipython3",
   "version": "3.9.13"
  },
  "vscode": {
   "interpreter": {
    "hash": "d0174187368f176085df53c2cec5d63d0b8400e63ae887d077931481ed3fab96"
   }
  }
 },
 "nbformat": 4,
 "nbformat_minor": 5
}
