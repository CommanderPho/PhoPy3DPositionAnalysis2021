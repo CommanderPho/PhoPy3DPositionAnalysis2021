{
 "cells": [
  {
   "cell_type": "markdown",
   "id": "84413466-6942-4870-a5ac-559ccc21d51e",
   "metadata": {
    "tags": []
   },
   "source": [
    "# Imports"
   ]
  },
  {
   "cell_type": "code",
   "execution_count": null,
   "id": "24458397-c844-41ed-85de-034ed4b87e72",
   "metadata": {
    "tags": []
   },
   "outputs": [],
   "source": [
    "#!/usr/bin/env python3\n",
    "# -*- coding: utf-8 -*-\n",
    "\"\"\"\n",
    "@author: pho\n",
    "\"\"\"\n",
    "%load_ext autoreload\n",
    "%autoreload 2\n",
    "import sys\n",
    "import importlib\n",
    "from threading import Thread\n",
    "import time # for time.sleep\n",
    "from ipygany import PolyMesh, Scene, IsoColor, WarpByScalar\n",
    "import pyvista as pv\n",
    "# from pyvista import _vtk\n",
    "import pyvistaqt as pvqt\n",
    "import colorcet as cc # Colormaps:\n",
    "import numpy as np\n",
    "import pandas as pd\n",
    "import h5py\n",
    "import hdf5storage # conda install hdf5storage\n",
    "from pathlib import Path\n",
    "import bqplot.scales\n",
    "import seaborn as sns\n",
    "\n",
    "#interactive plotting in separate window\n",
    "# %matplotlib qt\n",
    "%matplotlib inline\n",
    "# %matplotlib notebook\n",
    "# %matplotlib widget\n",
    "# %matplotlib qt\n",
    "\n",
    "from mpl_toolkits import mplot3d\n",
    "# %matplotlib widget\n",
    "import matplotlib.pyplot as plt\n",
    "import matplotlib.cm as cm\n",
    "from matplotlib.colors import Normalize, to_rgba_array\n",
    "from matplotlib.figure import Figure\n",
    "# import mplcursors\n",
    "import math # For color map generation\n",
    "from matplotlib.colors import ListedColormap\n",
    "from matplotlib.cm import hsv\n",
    "\n",
    "from copy import deepcopy\n",
    "\n",
    "import ipywidgets as widgets\n",
    "# from PyQt5 import QtWidgets, uic\n",
    "from pyvistaqt import QtInteractor, MainWindow\n",
    "# from pyqt6 import QApplication\n",
    "from IPython.external.qt_for_kernel import QtGui\n",
    "from IPython.core.display import display, HTML\n",
    "display(HTML(\"<style>div.output_area pre {white-space: pre;}</style>\"))\n",
    "from IPython.lib.pretty import pretty, pprint\n",
    "# from pretty import pprint\n",
    "\n",
    "# Pandas display options\n",
    "# pd.set_option('display.max_columns', None)  # or 1000\n",
    "# pd.set_option('display.max_rows', None)  # or 1000\n",
    "# pd.set_option('display.max_colwidth', -1)  # or 199\n",
    "pd.set_option('display.width', 1000)\n",
    "\n",
    "\n",
    "import rich as rich\n",
    "# from rich import inspect\n",
    "# from rich import print\n",
    "# from rich import pretty\n",
    "\n",
    "from PyQt5.QtWidgets import QApplication\n",
    "import datetime as dt\n",
    "\n",
    "import panel as pn\n",
    "from panel.interact import interact, interactive, fixed, interact_manual\n",
    "from panel import widgets\n",
    "pn.extension()\n",
    "# pn.extension('tabulator')\n",
    "\n"
   ]
  },
  {
   "cell_type": "code",
   "execution_count": null,
   "id": "7773a93a-d1a0-4403-93dd-755468f86751",
   "metadata": {},
   "outputs": [],
   "source": [
    "# NeuroPy (Diba Lab Python Repo) Loading\n",
    "try:\n",
    "    from neuropy import core\n",
    "    importlib.reload(core)\n",
    "except ImportError:\n",
    "    sys.path.append(r'C:\\Users\\Pho\\repos\\NeuroPy') # Windows\n",
    "    # sys.path.append('/home/pho/repo/BapunAnalysis2021/NeuroPy') # Linux\n",
    "    # sys.path.append(r'/Users/pho/repo/Python Projects/NeuroPy') # MacOS\n",
    "    print('neuropy module not found, adding directory to sys.path. \\n >> Updated sys.path.')\n",
    "    from neuropy import core\n",
    "# from neuropy.core.session.dataSession import SessionConfig, DataSessionLoader, DataSession, processDataSssion\n",
    "\n",
    "# import neuropy.core as core\n",
    "from neuropy.core.session.data_session_loader import DataSessionLoader\n",
    "from neuropy.core.session.dataSession import DataSession\n",
    "from neuropy.core.epoch import Epoch\n",
    "from neuropy.core.epoch import NamedTimerange\n",
    "from neuropy.core import Laps\n",
    "from neuropy.core import Position\n",
    "from neuropy.core import FlattenedSpiketrains\n",
    "from neuropy.core import Neurons\n",
    "from neuropy.utils.misc import print_seconds_human_readable\n",
    "from neuropy.plotting import plot_raster\n",
    "from neuropy.analyses.placefields import PlacefieldComputationParameters\n",
    "from neuropy.analyses.laps import estimate_laps, compute_laps_spike_indicies\n",
    "from neuropy.analyses.pho_custom_placefields import PfND\n",
    "from neuropy.plotting.placemaps import plot_all_placefields\n",
    "\n",
    "\n"
   ]
  },
  {
   "cell_type": "code",
   "execution_count": null,
   "id": "e4c9bf0a-6bd0-4ec2-b11a-7c510c05cdce",
   "metadata": {},
   "outputs": [],
   "source": [
    "# import PhoPositionalData as pdp\n",
    "# from PhoPositionalData import load_exported, process_data\n",
    "from PhoPositionalData.load_exported import *\n",
    "# from PhoPositionalData.process_data import process_positionalAnalysis_data, gen_2d_histrogram, get_heatmap_color_vectors, process_chunk_equal_poritions_data, extract_spike_timeseries\n",
    "from PhoPositionalData.process_data import *\n",
    "from PhoPositionalData.plot_data import *\n",
    "from PhoPositionalData.plotting.animations import * # make_mp4_from_plotter\n",
    "from PhoPositionalData.plotting.laps import plot_laps_2d\n",
    "from PhoPositionalData.import_data import * # build_spike_positions_list, build_cellID_reverse_lookup_map\n",
    "from PhoPositionalData.analysis.interactive_placeCell_config import InteractivePlaceCellConfig, VideoOutputModeConfig, PlottingConfig\n",
    "from PhoPositionalData.analysis.interactive_placeCell_config import print_subsession_neuron_differences\n",
    "\n",
    "from PendingNotebookCode import debug_print_spike_counts, compute_placefields_as_needed, build_configs, build_units_colormap, build_placefield_multiplotter, process_by_good_placefields, estimation_session_laps, partition\n",
    "\n"
   ]
  },
  {
   "cell_type": "markdown",
   "id": "6a916f3f-99e0-478d-9d7f-69277134ab48",
   "metadata": {
    "tags": []
   },
   "source": [
    "# Load Session Data"
   ]
  },
  {
   "cell_type": "code",
   "execution_count": null,
   "id": "3baf0e92-3d50-44b8-97b8-eaf34490af9d",
   "metadata": {
    "scrolled": true,
    "tags": []
   },
   "outputs": [],
   "source": [
    "# KDiba Old Format:\n",
    "## Data must be pre-processed using the MATLAB script located here: \n",
    "# R:\\data\\KDIBA\\gor01\\one\\IIDataMat_Export_ToPython_2021_11_23.m\n",
    "# From pre-computed .mat files:\n",
    "# 07: \n",
    "basedir = r'R:\\data\\KDIBA\\gor01\\one\\2006-6-07_11-26-53'\n",
    "# # ## 08:\n",
    "# basedir = r'R:\\data\\KDIBA\\gor01\\one\\2006-6-08_14-26-15'\n",
    "sess = DataSessionLoader.kdiba_old_format_session(basedir)\n",
    "active_sess_config = sess.config\n",
    "session_name = sess.name"
   ]
  },
  {
   "cell_type": "code",
   "execution_count": null,
   "id": "c44da840-0aee-437a-84a2-ddbbe1bc181c",
   "metadata": {
    "tags": []
   },
   "outputs": [],
   "source": [
    "# sess.spikes_df.size # (1014937, 18)\n",
    "# np.sum(sess.neurons.n_spikes) # 1014937\n",
    "print('session dataframe spikes: {}\\nsession.neurons.n_spikes summed: {}\\n'.format(sess.spikes_df.shape, np.sum(sess.neurons.n_spikes)))\n",
    "\n",
    "## Estimate the Session's Laps data using my algorithm from the loaded position data.\n",
    "sess = estimation_session_laps(sess)"
   ]
  },
  {
   "cell_type": "markdown",
   "id": "114dd37e-24e6-4369-8c40-58d01765141b",
   "metadata": {
    "slideshow": {
     "slide_type": "skip"
    },
    "tags": [
     "debug"
    ]
   },
   "source": [
    "### Lap Specific Session Debugging\n",
    "\n"
   ]
  },
  {
   "cell_type": "code",
   "execution_count": null,
   "id": "553ba0ab-e4bd-4afb-903b-7be256fd1b2d",
   "metadata": {},
   "outputs": [],
   "source": [
    "lap_specific_epochs = sess.laps.as_epoch_obj()\n",
    "# lap_specific_epochs.to_dataframe()\n",
    "any_lap_specific_epochs = lap_specific_epochs.label_slice(lap_specific_epochs.labels[np.arange(len(sess.laps.lap_id))])\n",
    "even_lap_specific_epochs = lap_specific_epochs.label_slice(lap_specific_epochs.labels[np.arange(0, len(sess.laps.lap_id), 2)])\n",
    "odd_lap_specific_epochs = lap_specific_epochs.label_slice(lap_specific_epochs.labels[np.arange(1, len(sess.laps.lap_id), 2)])"
   ]
  },
  {
   "cell_type": "markdown",
   "id": "fd7aeaa7-ec07-4f3d-b665-2874cd4a589f",
   "metadata": {
    "tags": []
   },
   "source": [
    "# Filter Session by Epoch:"
   ]
  },
  {
   "cell_type": "code",
   "execution_count": null,
   "id": "2582c6eb-bf20-4c7d-ad47-f551fc352471",
   "metadata": {},
   "outputs": [],
   "source": [
    "sess.epochs.t_start = 22.26 # exclude the first short period where the animal isn't on the maze yet\n",
    "# sess.epochs.to_dataframe()\n",
    "# active_epoch = sess.epochs.get_named_timerange('maze1')\n",
    "# print('active_epoch: {}'.format(active_epoch))\n",
    "# active_epoch = sess.epochs.get_named_timerange('maze2')\n",
    "active_epoch = NamedTimerange(name='maze', start_end_times=[sess.epochs['maze1'][0], sess.epochs['maze2'][1]])\n",
    "active_subplots_shape = (1,1) # Single subplot\n",
    "# active_subplots_shape = '1|2' # 1 subplot on left, two on right\n",
    "active_config = build_configs(active_sess_config, active_epoch, active_subplots_shape = active_subplots_shape)\n",
    "\n",
    "## All Spikes:\n",
    "active_epoch_session = sess.filtered_by_neuron_type('pyramidal').filtered_by_epoch(active_epoch)\n",
    "print_subsession_neuron_differences(sess.neurons, active_epoch_session.neurons)\n",
    "# print(sess.neurons.n_spikes)\n",
    "\n",
    "# # ## Lap_specific Spikes Only:\n",
    "# active_lap_specific_epoch_session = lap_specific_session.filtered_by_neuron_type('pyramidal').filtered_by_epoch(active_epoch)\n",
    "# print_subsession_neuron_differences(lap_specific_session.neurons, active_lap_specific_epoch_session.neurons)\n",
    "# # print(active_lap_specific_epoch_session.neurons.n_spikes)\n",
    "\n",
    "## Configure Placefield Calc:\n",
    "should_display_2D_plots = False\n",
    "\n",
    "# active_config.computation_config = PlacefieldComputationParameters(speed_thresh=1, grid_bin=2, smooth=0.5, frate_thresh=2.0)\n",
    "# active_config.computation_config = PlacefieldComputationParameters(speed_thresh=1, grid_bin=10, smooth=0.5, frate_thresh=2.0) # works well\n",
    "# active_config.computation_config = PlacefieldComputationParameters(speed_thresh=1, grid_bin=2.5, smooth=1.5, frate_thresh=2.0)\n",
    "# active_config.computation_config = PlacefieldComputationParameters(speed_thresh=1, grid_bin=(10, 3), smooth=(0.5, 0.5), frate_thresh=0.0)\n",
    "# active_config.computation_config = PlacefieldComputationParameters(speed_thresh=0.0, grid_bin=(3, 4), smooth=(2, 1), frate_thresh=2.0)\n",
    "# active_config.computation_config = PlacefieldComputationParameters(speed_thresh=1, grid_bin=(10, 10), smooth=(0.5, 0.5), frate_thresh=2.0) ## Works well for 2D Placemaps\n",
    "# height: 20.0\n",
    "# width: 250.0\n",
    "# active_config.computation_config = PlacefieldComputationParameters(speed_thresh=0, grid_bin=(2.0, 0.2), smooth=(0.5, 0.5), frate_thresh=2.0) ## Extremely Slow\n",
    "# active_config.computation_config = PlacefieldComputationParameters(speed_thresh=0, grid_bin=(2.0, 1.0), smooth=(0.5, 0.5), frate_thresh=2.0) ## Very slow, doesn't work\n",
    "\n",
    "# active_config.computation_config = PlacefieldComputationParameters(speed_thresh=1, grid_bin=(10, 3), smooth=(0.0, 0.0), frate_thresh=2.0)\n",
    "# active_config.computation_config = PlacefieldComputationParameters(speed_thresh=1, grid_bin=(10, 3), smooth=(0.1, 0.1), frate_thresh=2.0)\n",
    "# active_config.computation_config = PlacefieldComputationParameters(speed_thresh=1, grid_bin=(10, 3), smooth=(1.0, 10.0), frate_thresh=2.0)\n",
    "\n",
    "# active_config.computation_config = PlacefieldComputationParameters(speed_thresh=0.0, grid_bin=(25, 9), smooth=(0.0, 0.0), frate_thresh=2.0)\n",
    "# active_config.computation_config = PlacefieldComputationParameters(speed_thresh=0.0, grid_bin=(5, 3), smooth=(0.0, 0.0), frate_thresh=2.0)\n",
    "active_config.computation_config = PlacefieldComputationParameters(speed_thresh=0.0, grid_bin=(5, 3), smooth=(0.0, 0.0), frate_thresh=0.1) # TODO: FIXME: BUG: when frate_thresh=0.0, there are 0 good placefield_neuronIDs for all computations!\n",
    "\n",
    "\n",
    "# active_config.computation_config.frate_thresh = 0.0"
   ]
  },
  {
   "cell_type": "markdown",
   "id": "1ecf986f-31d1-479c-8592-1328593c7eb1",
   "metadata": {
    "tags": []
   },
   "source": [
    "### position binning with _bin_pos_nD testing and validation:"
   ]
  },
  {
   "cell_type": "code",
   "execution_count": null,
   "id": "5763a82a-b6c1-4e8c-938c-b75dfc2e6de1",
   "metadata": {},
   "outputs": [],
   "source": [
    "from neuropy.analyses.pho_custom_placefields import _bin_pos_nD\n",
    "# from neuropy.analyses.placefields import _bin_pos_nD\n",
    "\n",
    "test_pos_x = active_epoch_session.position.x\n",
    "test_pos_y = active_epoch_session.position.y\n",
    "\n",
    "# test_bin_size = (5, 3)\n",
    "test_bin_size = active_config.computation_config.grid_bin\n",
    "\n",
    "test_xbin, test_ybin, test_bin_info = _bin_pos_nD(x=test_pos_x, y=test_pos_y, num_bins=None, bin_size=test_bin_size)\n",
    "print(f'for bin_size: {test_bin_size} computed pos bins: {test_bin_info}') # for bin_size: (25, 9) computed pos bins: {'mode': 'bin_size', 'xstep': 25, 'xnum_bins': 11, 'ystep': 9, 'ynum_bins': 5}\n",
    "# for bin_size: (5, 9) computed pos bins: {'mode': 'bin_size', 'xstep': 5, 'xnum_bins': 49, 'ystep': 9, 'ynum_bins': 5}\n",
    "# for bin_size: (5, 3) computed pos bins: {'mode': 'bin_size', 'xstep': 5, 'xnum_bins': 49, 'ystep': 3, 'ynum_bins': 11}\n",
    "\n",
    "\n",
    "test_bin_info['xnum_bins']\n",
    "test_bin_info['ynum_bins']\n",
    "\n",
    "assert test_bin_size[0] == test_bin_info['xstep'], \"xstep calculation failure!\"\n",
    "assert test_bin_size[1] == test_bin_info['ystep'], \"ystep calculation failure!\"\n",
    "\n",
    "# assert test_bin_size[0] == np.shape(test_xbin), \"xstep calculation failure!\"\n",
    "# assert test_bin_size[1] == np.shape(test_ybin), \"xstep calculation failure!\""
   ]
  },
  {
   "cell_type": "markdown",
   "id": "212608eb-26af-425d-92c0-a3309bf4727d",
   "metadata": {},
   "source": [
    "## Compute Placefields if needed:"
   ]
  },
  {
   "cell_type": "markdown",
   "id": "6742e705-6578-4b58-bdba-20cb5c4e870a",
   "metadata": {
    "tags": []
   },
   "source": [
    "## Compute the placefields for lap-only filtered Session:"
   ]
  },
  {
   "cell_type": "code",
   "execution_count": null,
   "id": "522eac5a-2fe9-4b91-9f0f-b7745c81efbb",
   "metadata": {
    "tags": []
   },
   "outputs": [],
   "source": [
    "def debug_print_ratemap(ratemap):\n",
    "    # Get the cell IDs that have a good place field mapping:\n",
    "    good_placefield_neuronIDs = np.array(ratemap.neuron_ids) # in order of ascending ID\n",
    "    print('good_placefield_neuronIDs: {}; ({} good)'.format(good_placefield_neuronIDs, len(good_placefield_neuronIDs)))\n",
    "    \n",
    "def debug_print_placefield(active_epoch_placefield, short=True):\n",
    "    # Get the cell IDs that have a good place field mapping:\n",
    "    good_placefield_neuronIDs = np.array(active_epoch_placefield.ratemap.neuron_ids) # in order of ascending ID\n",
    "    num_spikes_per_spiketrain = np.array([np.shape(a_spk_train)[0] for a_spk_train in active_epoch_placefield.spk_t])\n",
    "    if short:\n",
    "        print('good_placefield_neuronIDs: ({} good)'.format(len(good_placefield_neuronIDs)), end='\\n')\n",
    "        print('num_spikes: ({} total spikes)'.format(np.sum(num_spikes_per_spiketrain)), end='\\n')\n",
    "    else:\n",
    "        print('good_placefield_neuronIDs: {}; ({} good)'.format(good_placefield_neuronIDs, len(good_placefield_neuronIDs)), end='\\n')\n",
    "        print('num_spikes: {}; ({} total spikes)'.format(num_spikes_per_spiketrain, np.sum(num_spikes_per_spiketrain)), end='\\n')\n",
    "    return pd.DataFrame({'neuronID':good_placefield_neuronIDs, 'num_spikes':num_spikes_per_spiketrain}).T\n",
    "\n",
    "\n",
    "def compute_placefields_masked_by_epochs(sess, active_config, included_epochs=None, should_display_2D_plots=False):\n",
    "    active_session = deepcopy(sess)\n",
    "    active_epoch_placefields1D, active_epoch_placefields2D = compute_placefields_as_needed(active_session, active_config.computation_config, active_config, None, None, included_epochs=included_epochs, should_force_recompute_placefields=True, should_display_2D_plots=should_display_2D_plots)\n",
    "    # Focus on the 2D placefields:\n",
    "    # active_epoch_placefields = active_epoch_placefields2D\n",
    "    # Get the updated session using the units that have good placefields\n",
    "    # active_session, active_config, good_placefield_neuronIDs = process_by_good_placefields(active_session, active_config, active_epoch_placefields)\n",
    "    # debug_print_spike_counts(active_session)\n",
    "    return active_epoch_placefields1D, active_epoch_placefields2D\n",
    "\n",
    "\n",
    "active_epoch_placefields1D, active_epoch_placefields2D = compute_placefields_masked_by_epochs(active_epoch_session, active_config, included_epochs=None, should_display_2D_plots=should_display_2D_plots)\n",
    "even_lap_specific_placefields1D, even_lap_specific_placefields2D = compute_placefields_masked_by_epochs(active_epoch_session, active_config, included_epochs=even_lap_specific_epochs, should_display_2D_plots=should_display_2D_plots)\n",
    "odd_lap_specific_placefields1D, odd_lap_specific_placefields2D = compute_placefields_masked_by_epochs(active_epoch_session, active_config, included_epochs=odd_lap_specific_epochs, should_display_2D_plots=should_display_2D_plots)\n",
    "any_lap_specific_placefields1D, any_lap_specific_placefields2D = compute_placefields_masked_by_epochs(active_epoch_session, active_config, included_epochs=any_lap_specific_epochs, should_display_2D_plots=should_display_2D_plots)\n",
    "# Compare the results\n",
    "# debug_print_ratemap(active_epoch_placefields1D.ratemap)\n",
    "# num_spikes_per_spiketrain = np.array([np.shape(a_spk_train)[0] for a_spk_train in active_epoch_placefields1D.spk_t])\n",
    "# num_spikes_per_spiketrain\n",
    "# print('placefield_neuronID_spikes: {}; ({} total spikes)'.format(num_spikes_per_spiketrain, np.sum(num_spikes_per_spiketrain)))\n",
    "debug_print_placefield(active_epoch_placefields1D)\n",
    "debug_print_placefield(any_lap_specific_placefields1D)\n",
    "debug_print_placefield(even_lap_specific_placefields1D)\n",
    "debug_print_placefield(odd_lap_specific_placefields1D)"
   ]
  },
  {
   "cell_type": "code",
   "execution_count": null,
   "id": "bdf37c00-ec71-4341-8f79-6834148449a3",
   "metadata": {
    "tags": []
   },
   "outputs": [],
   "source": [
    "# Get the cell IDs that have a good place field mapping:\n",
    "active_placefields = deepcopy(any_lap_specific_placefields2D) # not changed this from the default placefields2D object\n",
    "good_placefield_neuronIDs = np.array(active_placefields.ratemap.neuron_ids) # in order of ascending ID\n",
    "good_placefield_tuple_neuronIDs = active_placefields.neuron_extended_ids\n",
    "\n",
    "## Filter by neurons with good placefields only:\n",
    "good_placefields_session = active_epoch_session.get_by_id(good_placefield_neuronIDs) # Filter by good placefields only, and this fetch also ensures they're returned in the order of sorted ascending index ([ 2  3  5  7  9 12 18 21 22 23 26 27 29 34 38 45 48 53 57])\n",
    "good_placefields_session\n",
    "    \n",
    "pf_sort_ind, pf_colors, pf_colormap, pf_listed_colormap = build_units_colormap(good_placefield_neuronIDs)\n",
    "active_config.plotting_config.pf_sort_ind = pf_sort_ind\n",
    "active_config.plotting_config.pf_colors = pf_colors\n",
    "active_config.plotting_config.active_cells_colormap = pf_colormap\n",
    "active_config.plotting_config.active_cells_listed_colormap = ListedColormap(active_config.plotting_config.active_cells_colormap)\n",
    "\n",
    "# active_placefields.ratemap.get_sort_indicies()\n",
    "    "
   ]
  },
  {
   "cell_type": "code",
   "execution_count": null,
   "id": "a6db6d73-595c-4cd0-a988-4b63d00e0e34",
   "metadata": {
    "tags": []
   },
   "outputs": [],
   "source": [
    "active_epoch_placefields2D\n",
    "# active_binwidths = (active_epoch_placefields2D.config.grid_bin[0], active_epoch_placefields2D.config.grid_bin[1]) # e.g. (2, .5)\n",
    "\n",
    "print(active_epoch_placefields1D.config)\n",
    "print(np.shape(active_epoch_placefields1D.occupancy)) # the 1D occupancy map is (48,) units wide\n",
    "\n",
    "print(np.shape(active_epoch_placefields2D.occupancy)) # the 1D occupancy map is (48, 10). The Width is 10\n",
    "# print(active_epoch_placefields2D.config)\n",
    "\n",
    "active_epoch_placefields2D.occupancy[0,:] # occupancy appears to by 4 columns wide, and 10 rows tall. The value I passed in though was (25, 9)"
   ]
  },
  {
   "cell_type": "code",
   "execution_count": null,
   "id": "0c4c8bf1-7e9a-4574-ad6c-ddda2437cecc",
   "metadata": {
    "tags": []
   },
   "outputs": [],
   "source": [
    "from matplotlib.image import NonUniformImage\n",
    "import seaborn as sns\n",
    "# sns.set_theme(style=\"dark\")\n",
    "sns.set_theme(style=\"white\")\n",
    "\n",
    "active_ratemap = any_lap_specific_placefields2D.ratemap\n",
    "curr_unit_idx = 3\n",
    "\n",
    "def test_plot_ratemap(curr_unit_idx = 3, plot_mode = 2):\n",
    "    plot_contents_title = f'TuningCurve[{curr_unit_idx}]'\n",
    "    fig = Figure(figsize=(20, 20), )\n",
    "    # print(f'plot_mode: {plot_mode}')\n",
    "    active_binwidths = (any_lap_specific_placefields2D.config.grid_bin[0], any_lap_specific_placefields2D.config.grid_bin[1]) # e.g. (2, .5)\n",
    "    \n",
    "    # print(f'active_binwidths: {active_binwidths}')\n",
    "    pfmap = active_ratemap.tuning_curves[curr_unit_idx]\n",
    "    curr_pfmap = np.array(pfmap)\n",
    "    if plot_mode == 0:\n",
    "        # ax = fig.subplots()\n",
    "        ax = fig.add_subplot(111, title='pcolormesh test', aspect='equal')\n",
    "        mesh_X, mesh_Y = np.meshgrid(active_ratemap.xbin, active_ratemap.ybin)\n",
    "        curr_pfmap = np.rot90(np.fliplr(curr_pfmap)) / np.nanmax(curr_pfmap)\n",
    "        ax.pcolormesh(mesh_X, mesh_Y, curr_pfmap, cmap='jet', vmin=0);\n",
    "    \n",
    "    \n",
    "    elif plot_mode == 1:\n",
    "        xedges = active_ratemap.xbin\n",
    "        yedges = active_ratemap.ybin\n",
    "        ax = fig.add_subplot(111, title=f'NonUniformImage Test: {plot_contents_title}', aspect='equal', xlim=xedges[[0, -1]], ylim=yedges[[0, -1]])\n",
    "        # print(f'curr_pfmap: {np.shape(curr_pfmap)}') # (6, 74)\n",
    "        # print(f'curr_pfmap: {np.shape(curr_pfmap)}') # (6, 74)\n",
    "        # print(f'curr_pfmap: {np.shape(curr_pfmap)}') # (6, 74)\n",
    "        \n",
    "        # rich.inspect(active_ratemap.xbin_centers) # xbin: (75,), ybin: (7,), xbin_centers: (74,), ybin_centers: (6,)\n",
    "        im = NonUniformImage(ax, interpolation='bilinear') # interpolation='bilinear'\n",
    "        xcenters = (xedges[:-1] + xedges[1:]) / 2\n",
    "        ycenters = (yedges[:-1] + yedges[1:]) / 2\n",
    "        im.set_data(xcenters, ycenters, curr_pfmap.T)\n",
    "        # im.set_data(active_ratemap.xbin_centers, active_ratemap.ybin_centers, curr_pfmap.T)\n",
    "        ax.images.append(im)\n",
    "        \n",
    "    elif plot_mode == 2:\n",
    "        ax = fig.add_subplot(111, title=f'Annotated Heatmap test: {plot_contents_title}', aspect='equal')\n",
    "        # g = sns.jointplot(\"s_zscore\",\"p_zscore\",s=2, data=scatter_all, kind=\"kde\")\n",
    "        scatter_all = np.array(any_lap_specific_placefields2D.spk_pos[curr_unit_idx]) # (2, 825)\n",
    "        # any_lap_specific_placefields2D.occupancy\n",
    "        scatter_all_df = pd.DataFrame({'x':scatter_all[0,:], 'y':scatter_all[1,:]})\n",
    "        # g = sns.jointplot(x='x', y='y', data=scatter_all_df, kind=\"kde\", marginal_ticks=True)\n",
    "        # g = sns.jointplot(x='x', y='y', data=scatter_all_df)\n",
    "        # g = sns.jointplot(x='x', y='y', data=scatter_all_df, kind=\"hex\", marginal_ticks=True)\n",
    "        # g = sns.jointplot(x='x', y='y', data=scatter_all_df, kind=\"hist\", marginal_ticks=True)\n",
    "        \n",
    "        # ax = plt.gca()\n",
    "        sns.heatmap(curr_pfmap, annot=True, linewidths=.5, ax=ax)\n",
    "        # sns.heatmap(curr_pfmap, annot=True, fmt=\"d\", linewidths=.5, ax=ax)\n",
    "        # , hue=\"species\"\n",
    "        \n",
    "        # marker=\"+\", s=100, marginal_kws=dict(bins=25)\n",
    "    elif plot_mode == 3:\n",
    "        scatter_all = np.array(any_lap_specific_placefields2D.spk_pos[curr_unit_idx]) # (2, 825)\n",
    "        # any_lap_specific_placefields2D.occupancy\n",
    "        scatter_all_df = pd.DataFrame({'x':scatter_all[0,:], 'y':scatter_all[1,:]})\n",
    "        \n",
    "        sns.scatterplot(x=scatter_all_df.x, y=scatter_all_df.y, s=5, color=\".15\")\n",
    "        sns.histplot(x=scatter_all_df.x, y=scatter_all_df.y, bins=10, pthresh=.1, cmap=\"mako\")\n",
    "        sns.kdeplot(x=scatter_all_df.x, y=scatter_all_df.y, levels=5, color=\"w\", linewidths=1)\n",
    "    elif plot_mode == 4:\n",
    "        \"\"\" Especially good-looking heatmap plot \"\"\"\n",
    "        # ax = fig.add_subplot(111, title=f'Especially good-looking heatmap test: {plot_contents_title}')\n",
    "        scatter_all = np.array(any_lap_specific_placefields2D.spk_pos[curr_unit_idx]) # (2, 825)\n",
    "        scatter_all_df = pd.DataFrame({'x':scatter_all[0,:], 'y':scatter_all[1,:]})\n",
    "        \n",
    "        # g = sns.scatterplot(x=scatter_all_df.x, y=scatter_all_df.y, s=5, color=\".15\")\n",
    "        g = sns.JointGrid(data=scatter_all_df, x=\"x\", y=\"y\", space=0)\n",
    "        g.plot_joint(sns.kdeplot, fill=True, thresh=0, levels=100, cmap=\"rocket\")\n",
    "        g.plot_joint(sns.histplot, binwidth=active_binwidths, cbar=True)\n",
    "        \n",
    "        # g.scatterplot(x=scatter_all_df.x, y=scatter_all_df.y, s=5, color=\".15\")\n",
    "        # g.plot_joint(sns.kdeplot,\n",
    "        #              fill=True, clip=((2200, 6800), (10, 25)),\n",
    "        #              thresh=0, levels=100, cmap=\"rocket\")\n",
    "        \n",
    "        \n",
    "        g.plot_marginals(sns.histplot, color=\"#03051A\", alpha=0.75, bins=25)\n",
    "        # g.plot_marginals(sns.histplot, color=\"#03051A\", alpha=0.75, binwidth=active_binwidths)\n",
    "        ax = plt.gca()\n",
    "        ax.set_title(f'Especially good-looking heatmap test: {plot_contents_title}')\n",
    "        \n",
    "    elif plot_mode == 5:\n",
    "        scatter_all = np.array(any_lap_specific_placefields2D.spk_pos[curr_unit_idx]) # (2, 825)\n",
    "        scatter_all_df = pd.DataFrame({'x':scatter_all[0,:], 'y':scatter_all[1,:]})\n",
    "        sns.displot(scatter_all_df, x=\"x\", y=\"y\", binwidth=active_binwidths, cbar=True)\n",
    "\n",
    "    # ax = plt.gca()\n",
    "    # ax.set_title(plot_contents_title)\n",
    "    pn.pane.Matplotlib(fig)\n",
    "    # plt.show()\n",
    "    return fig\n",
    "\n",
    "test_plot_ratemap(9, plot_mode=4)\n",
    "# pn.interact(plot_ratemap, curr_unit_idx=3)\n",
    "# pn.interact(test_plot_ratemap, curr_unit_idx=(0, (active_ratemap.n_neurons-1), 1, 10), plot_mode=(0, 5, 1, 2))"
   ]
  },
  {
   "cell_type": "code",
   "execution_count": null,
   "id": "6e3d2dd0-cd1e-4f22-8c40-2dc1d5104392",
   "metadata": {
    "tags": []
   },
   "outputs": [],
   "source": [
    "# active_epoch_placefields2D.occupancy\n",
    "from neuropy.plotting.ratemaps import plot_ratemap_2D\n",
    "\n",
    "plot_ratemap_2D(active_epoch_placefields2D.ratemap, plot_mode='firing_maps', figsize=(30, 30), enable_spike_overlay=True, spike_overlay_spikes=active_epoch_placefields2D.spk_pos)"
   ]
  },
  {
   "cell_type": "code",
   "execution_count": null,
   "id": "f3da4764-7738-423a-805d-d4c7b775cde5",
   "metadata": {
    "tags": []
   },
   "outputs": [],
   "source": [
    "ax_pf_1D, occupancy_fig, active_pf_2D_figures, active_pf_2D_gs = plot_all_placefields(active_epoch_placefields1D, active_epoch_placefields2D, active_config)"
   ]
  },
  {
   "cell_type": "code",
   "execution_count": null,
   "id": "d1fdbb3c-ba6c-4ad4-ae5f-d9cb375999c7",
   "metadata": {
    "scrolled": true,
    "tags": []
   },
   "outputs": [],
   "source": [
    "any_lap_specific_ax_pf_1D, any_lap_specific_occupancy_fig, any_lap_specific_active_pf_2D_figures, any_lap_specific_active_pf_2D_gs = plot_all_placefields(any_lap_specific_placefields1D, any_lap_specific_placefields2D, active_config, variant_identifier_label='any_lap');"
   ]
  },
  {
   "cell_type": "code",
   "execution_count": null,
   "id": "82c8b0fb-22b5-4264-8922-40f1c0c287fa",
   "metadata": {
    "scrolled": true,
    "tags": []
   },
   "outputs": [],
   "source": [
    "even_lap_specific_ax_pf_1D, even_lap_specific_occupancy_fig, even_lap_specific_active_pf_2D_figures, even_lap_specific_active_pf_2D_gs = plot_all_placefields(even_lap_specific_placefields1D, even_lap_specific_placefields2D, active_config, variant_identifier_label='even_laps');"
   ]
  },
  {
   "cell_type": "code",
   "execution_count": null,
   "id": "e60ee93b-1815-4a67-98d2-da2f743205fc",
   "metadata": {
    "scrolled": true,
    "tags": []
   },
   "outputs": [],
   "source": [
    "odd_lap_specific_ax_pf_1D, odd_lap_specific_occupancy_fig, odd_lap_specific_active_pf_2D_figures, odd_lap_specific_active_pf_2D_gs = plot_all_placefields(odd_lap_specific_placefields1D, odd_lap_specific_placefields2D, active_config, variant_identifier_label='odd_laps');"
   ]
  },
  {
   "cell_type": "code",
   "execution_count": null,
   "id": "b016bfff-3354-4122-8498-a09365c70a81",
   "metadata": {
    "tags": []
   },
   "outputs": [],
   "source": [
    "from neuropy.plotting.placemaps import plot_occupancy_custom\n",
    "\n",
    "# plot_occupancy_1D(even_lap_specific_placefields1D, True)\n",
    "# plot_occupancy_1D(even_lap_specific_placefields1D, False)\n",
    "# plot_placefield_occupancy(even_lap_specific_placefields2D)\n",
    "\n",
    "occupancy_fig = plt.Figure(figsize=(10,6))\n",
    "occupancy_fig, occupancy_ax = plot_occupancy_custom(even_lap_specific_placefields2D.occupancy, even_lap_specific_placefields2D.ratemap.xbin_centers, even_lap_specific_placefields2D.ratemap.ybin_centers, max_normalized=True, fig=occupancy_fig)\n",
    "occupancy_ax.scatter(even_lap_specific_placefields2D.x, even_lap_specific_placefields2D.y, s=5, c='red', alpha=0.1)\n",
    "occupancy_fig\n",
    "\n",
    "\n",
    "\n",
    "# # fig = plt.Figure()\n",
    "# fig, axs = plt.subplots(3, 1, figsize=(7, 15))\n",
    "\n",
    "# # even_lap_specific_placefields1D.occupancy.\n",
    "# # even_lap_specific_placefields1D.ratemap.xbin_centers\n",
    "# # np.shape(even_lap_specific_placefields1D.ratemap.xbin) # (214,)\n",
    "# # even_lap_specific_placefields1D.config.grid_bin_1D # 1\n",
    "# # np.shape(even_lap_specific_placefields1D.ratemap.xbin_centers) # 213\n",
    "\n",
    "# even_lap_specific_ax_pf_1D, even_lap_specific_occupancy_fig, even_lap_specific_active_pf_2D_figures = plot_all_placefields(even_lap_specific_placefields1D, even_lap_specific_placefields2D, active_config, variant_identifier_label='even_laps')\n",
    "\n",
    "# even_lap_specific_placefields1D.plot_ratemaps();\n",
    "# even_lap_specific_placefields1D.plot_ratemaps()"
   ]
  },
  {
   "cell_type": "markdown",
   "id": "871db3f4-cc71-44ca-a0a0-fbf92ec2a687",
   "metadata": {
    "tags": []
   },
   "source": [
    "# Pho Custom Placefield2D Implementation:\n"
   ]
  },
  {
   "cell_type": "code",
   "execution_count": null,
   "id": "070e15de-da89-4f16-b6ae-53d9e1fecb99",
   "metadata": {},
   "outputs": [],
   "source": [
    "## TODO: re-computed the simple spike-count \"raw\" tuning maps to make sure that the spikes actually fall into the bins with high counts. This will help debug both the computations and the plots.\n",
    "\n",
    "from neuropy.analyses.placefields import Pf2D\n",
    "from neuropy.core.ratemap import Ratemap\n",
    "\n",
    "spk_df = deepcopy(active_epoch_session.spikes_df)\n",
    "\n",
    "xbin = active_epoch_placefields2D.ratemap.xbin.copy()\n",
    "ybin = active_epoch_placefields2D.ratemap.ybin.copy()\n",
    "occupancy = active_epoch_placefields2D.occupancy.copy()\n",
    "\n",
    "neuron_split_spike_dfs = [spk_df.groupby('aclu').get_group(neuron_id)[['t','x','y','lin_pos']] for neuron_id in active_epoch_session.neuron_ids] # dataframes split for each ID:\n",
    "firing_maps = np.asarray([Pf2D._compute_tuning_map(neuron_split_spike_dfs[i].x.to_numpy(), neuron_split_spike_dfs[i].y.to_numpy(), xbin, ybin, occupancy, None, should_return_raw_tuning_map=True) for i in np.arange(len(neuron_split_spike_dfs))]) # dataframes split for each ID:\n",
    "tuning_maps = np.asarray([firing_maps[i] / occupancy for i in np.arange(len(firing_maps))])\n",
    "ratemap = Ratemap(tuning_maps, xbin=xbin, ybin=ybin, neuron_ids=active_epoch_session.neuron_ids)\n",
    "\n",
    "## TODO: This is where I should I try to plot the 2D map and the spikes and see if they line up\n",
    "test_i = 9\n",
    "fig, ax = plot_occupancy_custom(firing_maps[test_i], xbin, ybin, max_normalized=False)\n",
    "ax.scatter(neuron_split_spike_dfs[test_i]['x'], neuron_split_spike_dfs[test_i]['y'], s=1, alpha=0.5)\n",
    "\n",
    "## LOOKS GOOD! They line up well!"
   ]
  },
  {
   "cell_type": "code",
   "execution_count": null,
   "id": "a8cff149-c9f6-48a2-a8d3-234668ce1128",
   "metadata": {},
   "outputs": [],
   "source": [
    "## Check Firing Maps (separate from Occupancy maps)\n",
    "\n",
    "## TODO: This is where I should I try to plot the 2D map and the spikes and see if they line up\n",
    "test_i = 9\n",
    "fig, ax = plot_occupancy_custom(firing_maps[test_i], xbin, ybin, max_normalized=False)\n",
    "ax.scatter(neuron_split_spike_dfs[test_i]['x'], neuron_split_spike_dfs[test_i]['y'], s=1, alpha=0.5)"
   ]
  },
  {
   "cell_type": "code",
   "execution_count": null,
   "id": "3b54bdef-5e15-4afe-8754-cbdeb1aa3e34",
   "metadata": {},
   "outputs": [],
   "source": [
    "# Group and Plot the different occupancy maps to compare them:\n",
    "occupany_tabs = pn.Tabs(('All', occupancy_fig))\n",
    "# Add multiple tabs\n",
    "occupany_tabs.extend([\n",
    "    ('Any Laps', any_lap_specific_occupancy_fig),\n",
    "    ('Even Laps', even_lap_specific_occupancy_fig),\n",
    "    ('Odd Laps', odd_lap_specific_occupancy_fig)\n",
    "])\n",
    "\n",
    "occupany_tabs"
   ]
  },
  {
   "cell_type": "code",
   "execution_count": null,
   "id": "6b76688b-3e5e-45ad-b6c1-8084fecbf972",
   "metadata": {},
   "outputs": [],
   "source": [
    "pf_1D_plots_row = pn.Row(ax_pf_1D[0].get_figure(), any_lap_specific_ax_pf_1D[0].get_figure(), even_lap_specific_ax_pf_1D[0].get_figure(), odd_lap_specific_ax_pf_1D[0].get_figure())\n",
    "pf_1D_plots_tab = pn.Column('# Pf 1D Plots', pf_1D_plots_row)\n",
    "\n",
    "pf_2D_plots_tab = pn.Column('# Pf 2D Plots', pn.Row(active_pf_2D_figures[0], any_lap_specific_active_pf_2D_figures[0], even_lap_specific_active_pf_2D_figures[0], odd_lap_specific_active_pf_2D_figures[0]))\n",
    "\n",
    "occupancy_plots_row = pn.Row(occupancy_fig, any_lap_specific_occupancy_fig, even_lap_specific_occupancy_fig, odd_lap_specific_occupancy_fig)\n",
    "occupancy_plots_tab = pn.Column('# Occupancy Plots', occupancy_plots_row)\n",
    "\n",
    "tabs = pn.Tabs()\n",
    "# Add multiple tabs\n",
    "tabs.extend([\n",
    "    ('Occupancy', occupancy_plots_tab),\n",
    "    ('Pf_1d', pf_1D_plots_tab),\n",
    "    ('Pf_2d', pf_2D_plots_tab)\n",
    "    \n",
    "    # ('Text', pn.widgets.TextInput()),\n",
    "    # ('Color', pn.widgets.ColorPicker())\n",
    "])\n",
    "\n",
    "tabs"
   ]
  },
  {
   "cell_type": "code",
   "execution_count": null,
   "id": "206d32f8-c809-4bf8-bd95-995a062fb5a1",
   "metadata": {},
   "outputs": [],
   "source": [
    "# print(np.unique(spk_df['aclu']))\n",
    "# print(np.unique(spk_df['unit_id']))\n",
    "\n",
    "curr_unit_idx = 3\n",
    "def plot_ratemap(curr_unit_idx = 3):\n",
    "    fig = Figure(figsize=(10, 6))\n",
    "    ax = fig.subplots()\n",
    "    mesh_X, mesh_Y = np.meshgrid(ratemap.xbin, ratemap.ybin)\n",
    "    pfmap = ratemap.tuning_curves[curr_unit_idx]\n",
    "    curr_pfmap = np.array(pfmap)\n",
    "    curr_pfmap = np.rot90(np.fliplr(curr_pfmap)) / np.nanmax(curr_pfmap)\n",
    "    ax.pcolormesh(mesh_X, mesh_Y, curr_pfmap, cmap='jet', vmin=0);\n",
    "    ax.set_title(f'TuningCurve[{curr_unit_idx}]')\n",
    "    pn.pane.Matplotlib(fig)\n",
    "    return fig\n",
    "\n",
    "# plot_ratemap(5)\n",
    "# pn.interact(plot_ratemap, curr_unit_idx=3)\n",
    "pn.interact(plot_ratemap, curr_unit_idx=widgets.IntSlider(start=0,end=ratemap.n_neurons,step=1,value=10))\n",
    "\n"
   ]
  },
  {
   "cell_type": "markdown",
   "id": "d4bca1e4-77d4-4a42-9883-57f0ff6431d4",
   "metadata": {
    "tags": [
     "plotting"
    ]
   },
   "source": [
    "## Main Spike/Placemap plotting:"
   ]
  },
  {
   "cell_type": "markdown",
   "id": "cf894fae-cd96-472f-baa4-9701643f046b",
   "metadata": {
    "tags": []
   },
   "source": [
    "# 2D Lap Plotting"
   ]
  },
  {
   "cell_type": "markdown",
   "id": "88d958ca-37e6-4ee8-844d-8d9badb4e4d8",
   "metadata": {
    "tags": []
   },
   "source": [
    "### 2D Lap Trajectories Visualization:"
   ]
  },
  {
   "cell_type": "markdown",
   "id": "f52715ea-4f27-4f41-9052-6957324f9699",
   "metadata": {
    "tags": []
   },
   "source": [
    "## 2D Placefield Plotting:"
   ]
  },
  {
   "cell_type": "code",
   "execution_count": null,
   "id": "b890dda3-9d7a-4c8a-b78d-d6bd924f0986",
   "metadata": {
    "scrolled": true,
    "tags": []
   },
   "outputs": [],
   "source": [
    "# import matplotlib as mpl\n",
    "# mpl.rcParams.update(mpl.rcParamsDefault)\n",
    "from PhoPositionalData.plotting.placefield import plot_1d_placecell_validations\n",
    "# out_figures_list = plot_1d_placecell_validations(active_epoch_placefields1D, active_config.plotting_config, should_save=True, save_mode='pdf')\n",
    "# out_figures_list = plot_1d_placecell_validations(active_epoch_placefields1D, active_config.plotting_config, should_save=True, save_mode='separate_files')\n",
    "out_figures_list = plot_1d_placecell_validations(active_epoch_placefields1D, active_config.plotting_config, modifier_string='lap_only', should_save=False)\n"
   ]
  },
  {
   "cell_type": "code",
   "execution_count": null,
   "id": "d66530e8-b2f1-4794-9d92-9b208e4d4fde",
   "metadata": {
    "scrolled": true,
    "tags": []
   },
   "outputs": [],
   "source": [
    "out_figures_list = plot_1d_placecell_validations(even_lap_specific_placefields1D, active_config.plotting_config, should_save=False, save_mode='separate_files')"
   ]
  },
  {
   "cell_type": "code",
   "execution_count": null,
   "id": "6b263b33-6e6d-400d-a446-22a4a4c71fcc",
   "metadata": {
    "tags": []
   },
   "outputs": [],
   "source": [
    "# active_epoch_placefields2D.plotRaw()\n",
    "curr_cell_id = 39\n",
    "fig, ax = active_epoch_placefields2D.plotRaw_v_time(curr_cell_id)\n",
    "# ax[0].plot(t_both, x_both, 'k', alpha=0.8, linewidth=5)\n",
    "# ax[0].plot(t_even, x_even, 'g', alpha=0.3, linewidth=3)\n",
    "# ax[0].plot(t_odd, x_odd, 'r', alpha=0.3, linewidth=3)"
   ]
  },
  {
   "cell_type": "code",
   "execution_count": null,
   "id": "fd21e418-e33a-4824-a68a-ad98c77a69f5",
   "metadata": {
    "tags": []
   },
   "outputs": [],
   "source": [
    "active_epoch_placefields2D.plot_ratemaps_2D(figsize=(12,20), enable_spike_overlay=True)"
   ]
  },
  {
   "cell_type": "code",
   "execution_count": null,
   "id": "907077d1-2a16-4fda-9fae-ab1f586cdb5d",
   "metadata": {},
   "outputs": [],
   "source": [
    "from PhoPositionalData.plotting.laps import plot_lap_trajectories_2d\n",
    "fig, axs, laps_pages = plot_lap_trajectories_2d(sess, curr_num_subplots=len(sess.laps.lap_id), active_page_index=0)\n",
    "fig.suptitle('Lap Trajectories 2D', fontsize=22)\n",
    "# fig_out_path = active_config.plotting_config.get_figure_save_path('lap_trajectories_2D').with_suffix('.png')\n",
    "# fig.savefig(fig_out_path)\n",
    "plt.show()\n",
    "\n",
    "# p, axs, laps_pages = plot_lap_trajectories_2d(sess, curr_num_subplots=22, active_page_index=0)\n",
    "# p, axs, laps_pages = plot_lap_trajectories_2d(sess, curr_num_subplots=22, active_page_index=1)"
   ]
  },
  {
   "cell_type": "markdown",
   "id": "3ad08080-abb6-4373-b426-520cb0ac95f3",
   "metadata": {
    "tags": []
   },
   "source": [
    "# 3D Plots"
   ]
  },
  {
   "cell_type": "markdown",
   "id": "fa48d74c-8e7a-4678-bea5-9415b270b1db",
   "metadata": {
    "tags": []
   },
   "source": [
    "### 3D Lap Trajectories Visualization:"
   ]
  },
  {
   "cell_type": "code",
   "execution_count": null,
   "id": "042f4fe6-7848-4f62-b2c2-e20e4eb426d6",
   "metadata": {},
   "outputs": [],
   "source": [
    "from PhoPositionalData.plotting.laps import plot_lap_trajectories_3d\n",
    "p, laps_pages = plot_lap_trajectories_3d(sess, curr_num_subplots=10, active_page_index=1)\n",
    "p.show()"
   ]
  },
  {
   "cell_type": "markdown",
   "id": "8dd9ebb1-1e31-44e1-8600-339b06db84a0",
   "metadata": {
    "tags": []
   },
   "source": [
    "## Tuning Curves 3D Plot:"
   ]
  },
  {
   "cell_type": "code",
   "execution_count": null,
   "id": "dc59a148-4799-48e5-ba8a-69516a44ec4c",
   "metadata": {
    "tags": []
   },
   "outputs": [],
   "source": [
    "from PhoGui.InteractivePlotter.InteractivePlaceCellTuningCurvesDataExplorer import InteractivePlaceCellTuningCurvesDataExplorer\n",
    "try: pActiveTuningCurvesPlotter\n",
    "except NameError: pActiveTuningCurvesPlotter = None # Checks variable p's existance, and sets its value to None if it doesn't exist so it can be checked in the next step\n",
    "ipcDataExplorer = InteractivePlaceCellTuningCurvesDataExplorer(active_config, active_epoch_session, active_epoch_placefields2D, active_config.plotting_config.pf_colors, extant_plotter=pActiveTuningCurvesPlotter)\n",
    "pActiveTuningCurvesPlotter = ipcDataExplorer.plot(pActiveTuningCurvesPlotter) # [2, 17449]"
   ]
  },
  {
   "cell_type": "markdown",
   "id": "ea3a1442-b113-483e-94ab-880bf8e694fc",
   "metadata": {
    "slideshow": {
     "slide_type": "skip"
    },
    "tags": [
     "debug",
     "testing",
     "unfinished"
    ]
   },
   "source": [
    "### Tuning-Curve Height Spikes Plot Testing:"
   ]
  },
  {
   "cell_type": "code",
   "execution_count": null,
   "id": "e4490d4f-208f-490e-a1bd-38d3de7c352a",
   "metadata": {
    "tags": []
   },
   "outputs": [],
   "source": [
    "# # included_cell_ids = [2, 3, 14, 22, 29, 42, 48, 61]\n",
    "# included_cell_ids = [14, 39]\n",
    "# included_cell_INDEXES = [ipcDataExplorer.get_cell_id_and_idx(cell_id=an_included_cell_ID)[0] for an_included_cell_ID in included_cell_ids]\n",
    "# print(included_cell_INDEXES)\n",
    "\n",
    "\n",
    "def update_included_cell_ids(curr_unit_idx, show_spikes):\n",
    "    included_cell_INDEXES = [curr_unit_idx]\n",
    "    # included_cell_INDEXES = [ipcDataExplorer.get_cell_id_and_idx(cell_id=an_included_cell_ID)[0] for an_included_cell_ID in included_cell_ids]\n",
    "    included_cell_ids = [ipcDataExplorer.get_neuron_id_and_idx(neuron_i=an_included_cell_idx)[1] for an_included_cell_idx in included_cell_INDEXES]\n",
    "    # print(included_cell_ids)\n",
    "    ipcDataExplorer.update_active_placefields(included_cell_INDEXES) # actives only the placefields that have aclu values (cell ids) in the included_cell_ids array.\n",
    "    if show_spikes:\n",
    "        ipcDataExplorer.update_active_spikes(np.isin(ipcDataExplorer.active_session.spikes_df['aclu'], included_cell_ids))\n",
    "    else:\n",
    "        ipcDataExplorer.update_active_spikes(np.isin(ipcDataExplorer.active_session.spikes_df['aclu'], []))\n",
    "        \n",
    "    ipcDataExplorer.gui['debug_console_widget'].add_line_to_buffer(f'cell_i: {included_cell_INDEXES}, cell_id: {included_cell_ids}')\n",
    "    # pn.pane.Matplotlib(fig)\n",
    "\n",
    "# update_included_cell_ids(5)\n",
    "# interact(update_included_cell_ids, curr_unit_idx=(0,(active_epoch_placefields2D.ratemap.n_neurons-1)))\n",
    "interact(update_included_cell_ids, curr_unit_idx=(0,(active_epoch_placefields2D.ratemap.n_neurons-1)), show_spikes=False)\n",
    "# interact_manual(update_included_cell_ids, curr_unit_idx=widgets.IntSlider(start=0, end=active_epoch_placefields2D.ratemap.n_neurons, step=1, value=10))"
   ]
  },
  {
   "cell_type": "code",
   "execution_count": null,
   "id": "2642c5d4-0a0e-42da-a777-9f956a8a351a",
   "metadata": {
    "tags": []
   },
   "outputs": [],
   "source": [
    "# def func1(x):\n",
    "#     return 5*x\n",
    "\n",
    "# # Create a grid around that surface\n",
    "# grid = pv.create_grid(surface)\n",
    "# # Clip the grid using the surface\n",
    "# model = grid.clip_surface(surface)\n",
    "# # Compute height and display it\n",
    "# model.elevation().plot()\n",
    "\n",
    "\n",
    "# interact(func1, x=(0,(active_epoch_placefields2D.ratemap.n_neurons-1)))\n",
    "\n",
    "# # interact_manual(func1, x=(0,(active_epoch_placefields2D.ratemap.n_neurons-1)))\n",
    "# # interact(func1, x=IntSlider(min=10, max=50, value=25, step=2, description=\"Integer Slider\"))\n",
    "\n",
    "item_layout = widgets.Layout(height='100px', min_width='40px')\n",
    "\n",
    "items = [widgets.Button(layout=item_layout, description=str(i), button_style='success') for i in range(40)]\n",
    "\n",
    "box_layout = widgets.Layout(overflow_x='scroll',\n",
    "                    border='3px solid black',\n",
    "                    width='500px',\n",
    "                    height='',\n",
    "                    flex_flow='row',\n",
    "                    display='flex')\n",
    "carousel = widgets.Box(children=items, layout=box_layout)\n",
    "widgets.VBox([widgets.Label('Scroll horizontally:'), carousel])\n"
   ]
  },
  {
   "cell_type": "code",
   "execution_count": null,
   "id": "f04a7fbf-60a5-454a-b4bf-12375f9e29ea",
   "metadata": {
    "tags": []
   },
   "outputs": [],
   "source": [
    "cell_idx_int_slider = widgets.IntSlider(min=0, max=(active_epoch_placefields2D.ratemap.n_neurons-1), value=10, step=1, description=\"Cell Index Int Slider\")\n",
    "cell_idx_int_slider"
   ]
  },
  {
   "cell_type": "code",
   "execution_count": null,
   "id": "1ae916c1-86cb-4195-b882-1fe683b3ed24",
   "metadata": {
    "tags": []
   },
   "outputs": [],
   "source": [
    "interact(func1, x=cell_idx_int_slider)"
   ]
  },
  {
   "cell_type": "code",
   "execution_count": null,
   "id": "5c038f32-724a-458a-a033-959a85f4c661",
   "metadata": {
    "tags": []
   },
   "outputs": [],
   "source": [
    "## Test Hiding/Showing Displayed Tuning Curves for Given CellIDs:\n",
    "ipcDataExplorer.update_active_placefields(included_cell_INDEXES) # actives only the placefields that have aclu values (cell ids) in the included_cell_ids array.    "
   ]
  },
  {
   "cell_type": "code",
   "execution_count": null,
   "id": "8f9bbb99-f6c1-408c-8bc9-4503ddc55267",
   "metadata": {
    "tags": []
   },
   "outputs": [],
   "source": [
    "## Test Hiding/Showing Display Spikes for Given CellIDs:\n",
    "ipcDataExplorer.update_active_spikes(np.isin(ipcDataExplorer.active_session.spikes_df['aclu'], included_cell_ids))"
   ]
  },
  {
   "cell_type": "code",
   "execution_count": null,
   "id": "ed70d1a9-7413-40b4-badb-2e2d95f77eb9",
   "metadata": {
    "tags": []
   },
   "outputs": [],
   "source": [
    "# Thicken the floor:\n",
    "z_cells = np.array([25]*5 + [35]*3 + [50]*2 + [75, 100])\n",
    "print(len(z_cells)) # 12\n",
    "print(np.shape(ipcDataExplorer.x)) # (57247,)\n",
    "z = np.zeros_like(ipcDataExplorer.x)\n",
    "print(np.shape(z))\n",
    "xx = np.repeat(ipcDataExplorer.x, len(z_cells), axis=-1)\n",
    "yy = np.repeat(ipcDataExplorer.y, len(z_cells), axis=-1)\n",
    "# zz = np.repeat(z, len(z_cells), axis=-1) - np.cumsum(z_cells).reshape((1, 1, -1))\n",
    "zz = np.repeat([0.0], len(z_cells), axis=-1) - np.cumsum(z_cells).reshape((1, 1, -1))\n",
    "\n",
    "mesh = pv.StructuredGrid(xx, yy, zz)\n",
    "mesh[\"Elevation\"] = zz.ravel(order=\"F\")\n",
    "mesh\n",
    "\n"
   ]
  },
  {
   "cell_type": "code",
   "execution_count": null,
   "id": "9bc983a9-8004-4f21-8232-051b493d201f",
   "metadata": {
    "tags": []
   },
   "outputs": [],
   "source": [
    "\n",
    "# np.where(np.logical_not(np.isnan(spike_pf_heights_2D[cell_i]))) # spike_pf_heights_2D: all NaN\n",
    "\n",
    "# Add a custom z override for the spikes but with the default value so nothing is changed:\n",
    "ipcDataExplorer.active_session.spikes_df['z'] = np.full_like(ipcDataExplorer.active_session.spikes_df['x'].values, 1.1) # Offset a little bit in the z-direction so we can see it\n",
    "\n",
    "# set the z values for the current cell index to the heights offset for that cell:\n",
    "ipcDataExplorer.active_session.spikes_df.loc[(ipcDataExplorer.active_session.spikes_df.aclu == curr_cell_id), 'z'] = spike_pf_heights_2D[cell_i]\n",
    "\n",
    "ipcDataExplorer.update_spikes()\n",
    "# ipcDataExplorer.plot()\n",
    "# ipcDataExplorer.plots['spikes_pf_active'] = ipcDataExplorer.p.add_mesh(historical_spikes_pc, name='spikes_pf_active', scalars='cellID', cmap=ipcDataExplorer.active_config.plotting_config.active_cells_listed_colormap, show_scalar_bar=False, lighting=False, render=False)\n",
    "\n",
    "\n",
    "# turn on specific pf: (aclu == 14)\n"
   ]
  },
  {
   "cell_type": "code",
   "execution_count": null,
   "id": "87fdb497-08db-4156-b32b-989f948b5b5f",
   "metadata": {
    "tags": []
   },
   "outputs": [],
   "source": [
    "active_epoch_session.position\n",
    "\n",
    "vectors = [[0, 0, 10.0]] * len(active_epoch_session.spikes_df['x']) # just up in the z-direction\n",
    "spike_series_positions = active_epoch_session.spikes_df[['x','y']].to_numpy().T    \n",
    "z_fixed = np.full_like(spike_series_positions[0,:], 1.1) # Offset a little bit in the z-direction so we can see it\n",
    "origins = np.vstack((spike_series_positions[0,:], spike_series_positions[1,:], z_fixed)).T\n",
    "# origins\n",
    "\n",
    "# Perform ray trace\n",
    "# Define line segment\n",
    "# start = [0, 0, 0]\n",
    "# stop = [0.25, 1, 0.5]\n",
    "\n",
    "curr_idx = 0\n",
    "curr_tuning_curve_mesh = ipcDataExplorer.plots['tuningCurvePlotActors'][curr_idx]\n",
    "start = origins[curr_idx]\n",
    "stop = start + vectors[curr_idx]\n"
   ]
  },
  {
   "cell_type": "markdown",
   "id": "57076118-8e5f-496e-b06f-d1be2491d590",
   "metadata": {
    "pycharm": {
     "name": "#%%\n"
    },
    "tags": []
   },
   "source": [
    "## Interactive 3D Spike and Behavior Browser: "
   ]
  },
  {
   "cell_type": "code",
   "execution_count": null,
   "id": "14318f45-b618-43a5-9f77-201cfac02b9d",
   "metadata": {
    "pycharm": {
     "name": "#%%\n"
    },
    "tags": []
   },
   "outputs": [],
   "source": [
    "import PhoGui\n",
    "from PhoGui.InteractivePlotter.PhoInteractivePlotter import PhoInteractivePlotter\n",
    "from PhoGui.InteractivePlotter.shared_helpers import InteractivePyvistaPlotterBuildIfNeededMixin\n",
    "from PhoGui.InteractivePlotter.InteractivePlaceCellDataExplorer import InteractivePlaceCellDataExplorer\n",
    "\n",
    "active_config.plotting_config.show_legend = True\n",
    "\n",
    "try: pActiveInteractivePlaceSpikesPlotter\n",
    "except NameError: pActiveInteractivePlaceSpikesPlotter = None # Checks variable p's existance, and sets its value to None if it doesn't exist so it can be checked in the next step\n",
    "ipspikesDataExplorer = InteractivePlaceCellDataExplorer(active_config, active_epoch_session, extant_plotter=pActiveInteractivePlaceSpikesPlotter)\n",
    "pActiveInteractivePlaceSpikesPlotter = ipspikesDataExplorer.plot(pActivePlotter=pActiveInteractivePlaceSpikesPlotter)"
   ]
  },
  {
   "cell_type": "markdown",
   "id": "b7bdbf90-b7c6-44c9-8e6e-5bfba6563ebe",
   "metadata": {
    "tags": []
   },
   "source": [
    "## CustomDataExplorer 3D Plotter:"
   ]
  },
  {
   "cell_type": "code",
   "execution_count": null,
   "id": "b2dee0cf-211e-43ea-89a6-9a41a24d814f",
   "metadata": {},
   "outputs": [],
   "source": [
    "from PhoGui.InteractivePlotter.InteractiveCustomDataExplorer import InteractiveCustomDataExplorer\n",
    "active_laps_config = InteractivePlaceCellConfig(active_session_config=sess.config, active_epochs=None, video_output_config=None, plotting_config=None) # '3|1    \n",
    "active_laps_config.plotting_config = PlottingConfig(output_subplots_shape='1|5', output_parent_dir=Path('output', sess.config.session_name, 'custom_laps'))\n",
    "\n",
    "try: pActiveInteractiveLapsPlotter\n",
    "except NameError: pActiveInteractiveLapsPlotter = None # Checks variable p's existance, and sets its value to None if it doesn't exist so it can be checked in the next step\n",
    "iplapsDataExplorer = InteractiveCustomDataExplorer(active_laps_config, sess, extant_plotter=pActiveInteractiveLapsPlotter)\n",
    "pActiveInteractiveLapsPlotter = iplapsDataExplorer.plot(pActivePlotter=pActiveInteractiveLapsPlotter)"
   ]
  },
  {
   "cell_type": "code",
   "execution_count": null,
   "id": "1e91d7b6-7aa1-4372-802f-9931e3988356",
   "metadata": {},
   "outputs": [],
   "source": [
    "len(sess.laps.lap_id) # 44"
   ]
  },
  {
   "cell_type": "code",
   "execution_count": null,
   "id": "876756ea-69ee-4cbc-bbd4-ff37050899f9",
   "metadata": {},
   "outputs": [],
   "source": [
    "for i in np.arange(len(sess.laps.lap_id)):\n",
    "    curr_lap_id = sess.laps.lap_id[i]\n",
    "    curr_lap_t_start, curr_lap_t_stop = sess.laps.get_lap_times(i)\n",
    "    curr_lap_position_traces = laps_position_traces[i]\n",
    "    plot_lap_trajectory_path_spline(iplapsDataExplorer, curr_lap_position_traces, curr_lap_id)"
   ]
  },
  {
   "cell_type": "code",
   "execution_count": null,
   "id": "86277544-9199-4b81-b85b-169fa1307a32",
   "metadata": {},
   "outputs": [],
   "source": [
    "# p = pv.Plotter(shape=(5, 1), border=True)\n",
    "p = pActiveInteractiveLapsPlotter\n",
    "num_laps_to_show = len(sess.laps.lap_id)\n",
    "num_laps_to_show = 5\n",
    "flat_lap_id_index = np.arange(len(sess.laps.lap_id))\n",
    "# subplot_lap_id_index = np.reshape([4,11])\n",
    "for i in np.arange(num_laps_to_show):\n",
    "    curr_lap_id = sess.laps.lap_id[i]\n",
    "    p.subplot(i, 0)\n",
    "    # curr_lap_t_start, curr_lap_t_stop = sess.laps.get_lap_times(i)\n",
    "    plot_lap_trajectory_path_spline(iplapsDataExplorer, laps_position_traces[i], curr_lap_id)\n",
    "    \n",
    "p.link_views()  # link all the views\n",
    "p.show()"
   ]
  },
  {
   "cell_type": "code",
   "execution_count": null,
   "id": "646febe2-b13c-4657-846c-779aa7c05fff",
   "metadata": {
    "scrolled": true,
    "tags": []
   },
   "outputs": [],
   "source": [
    "# def plot_placefields2D(pTuningCurves, active_placefields, pf_colors: np.ndarray, zScalingFactor=10.0, show_legend=False):\n",
    "\n",
    "#     # .threshold().elevation()\n",
    "\n",
    "#     curr_tuning_curves = active_placefields.ratemap.normalized_tuning_curves\n",
    "#     # curr_tuning_curves[curr_tuning_curves < 0.1] = np.nan\n",
    "#     curr_tuning_curves = curr_tuning_curves * zScalingFactor\n",
    "\n",
    "#     num_curr_tuning_curves = len(curr_tuning_curves)\n",
    "#     # Get the cell IDs that have a good place field mapping:\n",
    "#     good_placefield_neuronIDs = np.array(active_placefields.ratemap.neuron_ids) # in order of ascending ID\n",
    "#     tuningCurvePlot_x, tuningCurvePlot_y = np.meshgrid(active_placefields.ratemap.xbin_centers, active_placefields.ratemap.ybin_centers)\n",
    "\n",
    "#     pdata_currActiveNeuronTuningCurve = pv.StructuredGrid(tuningCurvePlot_x, tuningCurvePlot_y, curr_active_neuron_tuning_Curve)\n",
    "#     pdata_currActiveNeuronTuningCurve[\"Elevation\"] = curr_active_neuron_tuning_Curve.ravel(order=\"F\")\n",
    "        \n",
    "#     return pTuningCurves\n",
    "\n",
    "# plot_placefields2D(pTuningCurves, active_epoch_placefields\n",
    "\n",
    "# ipcDataExplorer.plots['spikes_pf_active']['cellID']\n",
    "\n",
    "# only_active_colormap = ipcDataExplorer.active_config.plotting_config.active_cells_listed_colormap.copy()\n",
    "# only_active_colormap\n",
    "test_full_pc_data = ipcDataExplorer.plots_data['spikes_pf_active']['historical_spikes_pc']\n",
    "\n",
    "# test_subset = test_full_pc_data.GetCellGhostArray()\n",
    "# test_subset = test_full_pc_data.GetCellData() # vtkmodules.vtkCommonDataModel.vtkCellData\n",
    "# test_subset = test_full_pc_data[test_full_pc_data['cellID'] == 55] # vtkmodules.vtkCommonDataModel.vtkCellData\n",
    "\n",
    "# test_subset = test_full_pc_data.GetGhostArray() # [test_full_pc_data['cellID'] == 55] # vtkmodules.vtkCommonDataModel.vtkCellData\n",
    "\n",
    "\n",
    "unique_ids = np.unique(test_full_pc_data['cellID']) # array([ 0,  1,  2,  3,  5,  7,  9, 10, 15, 16, 19, 20, 21, 22, 25, 26, 27, 31, 32, 36, 37, 40, 42, 43, 44, 45, 46, 51, 53, 55, 56])\n",
    "# count_arr = np.bincount(test_full_pc_data['cellID'])\n",
    "count_arr\n",
    "# array([ 3591,  3311,   231,  4410,     0,   910,     0,  4417,     0,\n",
    "#         1050,  2443,     0,     0,     0,     0,  2156,  6664,     0,\n",
    "#            0, 10052,  6286,  2394,  1561,     0,     0,  8827,  4788,\n",
    "#         6412,     0,     0,     0,   959,  2051,     0,     0,     0,\n",
    "#         4809,  2758,     0,     0,  1575,     0,  3465, 14861,  2212,\n",
    "#          777,  2772,     0,     0,     0,     0,  3206,     0,  4032,\n",
    "#            0,  6489,  2674], dtype=int64)\n",
    "\n",
    "# good_placefield_neuronIDs: [  5   8  10  13  14  16  19  21  23  25  28  31  32  33  36  37  41  49\n",
    "#   52  53  54  55  57  59  60  61  62  63  64  66  68  69  74  75  76  78\n",
    "#   83  86  88  89  90  92  96  98 105 108]; (46 good)\n",
    "\n",
    "# 1, 4, 6, 7, 8, 11, 18, 19, 21 ## CONCLUSION: the ones that work are indeed the non-zero entries, but the checkboxes work in reverse order to this array that's printed. Meaning you start at the end and work back.\n",
    "# len(count_arr) # 107\n",
    "print(unique_ids) # [  3   6   8  11  12  14  17  19  21  23  26  29  30  31  34  35  39  47\n",
    "  # 50  51  52  53  55  57  58  59  60  61  62  64  66  67  72  73  74  76\n",
    "  # 81  84  86  87  88  90  94  96 103 106]\n",
    "\n",
    "\n",
    "# uniques, indicies, inverse_indicies, count_arr = np.unique(active_epoch_session.spikes_df['aclu'].values, return_index=True, return_inverse=True, return_counts=True)\n",
    "# # count_arr = np.bincount(active_epoch_session.spikes_df['aclu'].values)\n",
    "# print('active_epoch_session.spikes_df unique aclu values: {}'.format(uniques))\n",
    "# print('active_epoch_session.spikes_df unique aclu value counts: {}'.format(count_arr))\n",
    "# print(len(uniques)) # 46 \n",
    "# uniques, indicies, inverse_indicies, count_arr = np.unique(active_epoch_session.spikes_df['unit_id'].values, return_index=True, return_inverse=True, return_counts=True)\n",
    "# # count_arr = np.bincount(active_epoch_session.spikes_df['unit_id'].values)\n",
    "# print('active_epoch_session.spikes_df unique unit_id values: {}'.format(uniques))\n",
    "# print('active_epoch_session.spikes_df unique unit_id value counts: {}'.format(count_arr))\n",
    "# print(len(uniques)) # 46 "
   ]
  },
  {
   "cell_type": "code",
   "execution_count": null,
   "id": "53837d28-4831-4655-8db6-f6b104ab0e38",
   "metadata": {},
   "outputs": [],
   "source": [
    "# pActiveTuningCurvesPlotter.export_obj('export.obj')\n",
    "# pActiveTuningCurvesPlotter.export_gltf('export.gltf')\n",
    "\n",
    "ipcDataExplorer.update_placefield_spike_visibility([38], True) # seems to work"
   ]
  },
  {
   "cell_type": "code",
   "execution_count": null,
   "id": "b9b25f57-c2f7-424d-8ba2-95d15deb3522",
   "metadata": {},
   "outputs": [],
   "source": [
    "ipcDataExplorer.update_placefield_spike_visibility([53], True) # seems to work"
   ]
  },
  {
   "cell_type": "code",
   "execution_count": null,
   "id": "b4ac6e02-fee8-4c30-811f-4d29de766b01",
   "metadata": {},
   "outputs": [],
   "source": [
    "ipcDataExplorer.update_placefield_spike_visibility([44, 53], True) # seems to work\n",
    "\n",
    "# test_subset\n",
    "# test_subset"
   ]
  },
  {
   "cell_type": "code",
   "execution_count": null,
   "id": "4fc26f9e-d03b-42c0-90e0-dfe4dfd3b2de",
   "metadata": {},
   "outputs": [],
   "source": [
    "ipcDataExplorer.update_placefield_spike_visibility([53, 44], False) # seems to work"
   ]
  },
  {
   "cell_type": "code",
   "execution_count": null,
   "id": "5e1bdbd9-9d3a-4c55-8b22-417adb733cad",
   "metadata": {},
   "outputs": [],
   "source": [
    "ipcDataExplorer.gui['tuningCurveSpikeVisibilityCallbacks'][1](False)\n",
    "# ipcDataExplorer.get_cell_index([2, 3])"
   ]
  },
  {
   "cell_type": "code",
   "execution_count": null,
   "id": "9e00b059-3073-45fb-94df-3b0c7b818d07",
   "metadata": {},
   "outputs": [],
   "source": [
    "mesh = ipcDataExplorer.plots_data['spikes_pf_active']['historical_spikes_pc'].cast_to_unstructured_grid()\n",
    "# mesh.n_cells\n",
    "mesh_unique_ids = np.unique(mesh['cellID'])\n",
    "print('n_cells: {}'.format(mesh.n_cells)) # 122143\n",
    "print('cellIDs of mesh: {}'.format(mesh_unique_ids))\n",
    "# np.unique(mesh['cellID']) # array([ 0,  1,  2,  3,  5,  7,  9, 10, 15, 16, 19, 20, 21, 22, 25, 26, 27, 31, 32, 36, 37, 40, 42, 43, 44, 45, 46, 51, 53, 55, 56])\n",
    "# ipcDataExplorer.hide_placefield_spikes([0,1,2,3], should_invert=True)\n",
    "# ipcDataExplorer.hide_placefield_spikes([23,2,34], should_invert=True)\n",
    "\n",
    "# ipcDataExplorer.hide_placefield_spikes([34], should_invert=True)\n",
    "ipcDataExplorer.hide_placefield_spikes([38], should_invert=False)"
   ]
  },
  {
   "cell_type": "code",
   "execution_count": null,
   "id": "182a1565-0a1f-423a-900f-c97e9cbbbb15",
   "metadata": {},
   "outputs": [],
   "source": [
    "# the list of spike times that occured for this cell:\n",
    "i = 2\n",
    "active_epoch_session.neurons.neuron_ids[i]\n",
    "active_epoch_session.neurons.spiketrains[i]\n",
    "\n",
    "# spikes_df = FlattenedSpiketrains.build_spike_dataframe(sess)\n"
   ]
  },
  {
   "cell_type": "code",
   "execution_count": null,
   "id": "34b2bd34-f09b-4c72-b02c-3650eea21f6e",
   "metadata": {
    "pycharm": {
     "name": "#%%\n"
    },
    "tags": []
   },
   "outputs": [],
   "source": [
    "## Timestamp Fixing:\n",
    "def tt(position_timestamps, t_begin, SampleRate):\n",
    "    return ((position_timestamps - t_begin) / (1e6 * SampleRate))\n",
    "\n",
    "# sess.laps.lap_start_stop_flat_idx\n",
    "\n",
    "sess.recinfo.dat_sampling_rate\n"
   ]
  },
  {
   "cell_type": "markdown",
   "id": "239326ba-1294-4655-9f34-10f25316b656",
   "metadata": {
    "tags": []
   },
   "source": [
    "# Programmatically change the animal position trail:"
   ]
  },
  {
   "cell_type": "code",
   "execution_count": null,
   "id": "b0e9a0b7-fcf2-442c-a36d-d72e89a73a9b",
   "metadata": {},
   "outputs": [],
   "source": [
    "curr_lap_id = int_input.value\n",
    "\n",
    "# plot_lap_trajectory_path(ipspikesDataExplorer, curr_lap_position_traces)\n",
    "plot_lap_trajectory_path_spline(ipspikesDataExplorer, curr_lap_position_traces)\n",
    "# curr_lap_t_start\n",
    "## TODO: enable showding/hiding the spikes for this data range programmatically in InteractivePlaceCellDataExplorer. \n",
    "# ipspikesDataExplorer.\n",
    "# curr_lap_spike_t_seconds\n",
    "# curr_lap_spike_indicies\n",
    "# active_epoch_session.flattened_spiketrains.spikes_df.t_seconds.values[curr_lap_spike_indicies] # index 145937 is out of bounds for axis 0 with size 19647"
   ]
  },
  {
   "cell_type": "code",
   "execution_count": null,
   "id": "c721731e-4a61-4656-adcf-da1386aee30d",
   "metadata": {},
   "outputs": [],
   "source": [
    "# From the laps and position dataframe, extract which lap every position belongs to:\n",
    "\n",
    "# curr_lap_position_df_is_included = curr_position_df['t'].between(laps_df['start'], laps_df['stop'], inclusive=True) # returns a boolean array indicating inclusion in teh current lap\n",
    "# curr_lap_position_df = curr_position_df[curr_lap_position_df_is_included] \n",
    "# curr_position_df['lap'] = np.NaN\n",
    "\n",
    "curr_position_df = sess.compute_position_laps()\n",
    "# curr_position_df.groupby('lap').groups[1] # returns the Int64Index\n",
    "# curr_position_df.groupby('lap').get_group(2)[['t','x','y','lin_pos']]\n",
    "\n",
    "lap_specific_position_dfs = [curr_position_df.groupby('lap').get_group(i)[['t','x','y','lin_pos']] for i in sess.laps.lap_id]\n",
    "lap_specific_position_dfs\n",
    "curr_lap_position_traces = [lap_pos_df[['x','y']].to_numpy().T for lap_pos_df in lap_specific_position_dfs]\n",
    "curr_lap_position_traces\n",
    "curr_lap_time_range = [[lap_pos_df[['t']].to_numpy()[0].item(), lap_pos_df[['t']].to_numpy()[-1].item()] for lap_pos_df in lap_specific_position_dfs]\n",
    "curr_lap_time_range"
   ]
  },
  {
   "cell_type": "code",
   "execution_count": null,
   "id": "90554b89-1a4f-43c0-a888-920d262d9557",
   "metadata": {},
   "outputs": [],
   "source": [
    "# .GetPosition() returns the actor's position, which is usually (0.0, 0.0, 0.0), and does not relate to the actor's data points\n",
    "# curr_animal_point = ipspikesDataExplorer.animal_location_trail.GetPosition()\n",
    "# curr_animal_point = ipspikesDataExplorer.animal_location_trail.GetXRange() # (44.23604202270508, 245.9059600830078)\n",
    "# print(curr_animal_point)\n",
    "# curr_animal_point = ipspikesDataExplorer.animal_location_trail.GetYRange() # (135.27638244628906, 145.448974609375)\n",
    "# print(curr_animal_point)\n",
    "# curr_animal_point = ipspikesDataExplorer.animal_location_trail.GetZRange() # (1.100000023841858, 1.100000023841858)\n",
    "\n",
    "curr_animal_point = np.array(ipspikesDataExplorer.animal_location_trail.GetCenter()) # (206.27755737304688, 140.15452575683594, 1.100000023841858)\n",
    "print('curr_animal_point: {}'.format(curr_animal_point))\n",
    "curr_animal_point # curr_animal_point\n",
    "\n",
    "# curr_animal_point = np.array([0, 0, 0])\n",
    "\n",
    "# curr_animal_point = np.column_stack((self.x[active_window_sample_indicies], self.y[active_window_sample_indicies], self.z_fixed))\n",
    "# ipspikesDataExplorer.on_programmatic_data_update(curr_animal_point=curr_animal_point)\n",
    "\n",
    "curr_debug_point = np.array(ipspikesDataExplorer.animal_location_trail.GetCenter()) # (206.27755737304688, 140.15452575683594, 1.100000023841858)\n",
    "ipspikesDataExplorer.perform_plot_location_point('debug_point_plot', curr_animal_point, color='r')\n",
    "\n",
    "curr_animal_point = np.array(ipspikesDataExplorer.animal_location_trail.GetCenter()) # not updated\n",
    "print('new curr_animal_point: {}'.format(curr_animal_point))"
   ]
  },
  {
   "cell_type": "code",
   "execution_count": null,
   "id": "64ac6391-89e5-4452-bbdb-12338332da7f",
   "metadata": {},
   "outputs": [],
   "source": [
    "# ipspikesDataExplorer.flattened_spike_positions_list\n",
    "\n",
    "active_epoch_session.flattened_spiketrains.time_slice(curr_lap_spike_t_seconds.values[0], curr_lap_spike_t_seconds.values[-1]).spikes_df"
   ]
  },
  {
   "cell_type": "code",
   "execution_count": null,
   "id": "176ffb93-dd70-4eae-86dc-4498d39f7c64",
   "metadata": {},
   "outputs": [],
   "source": [
    "curr_lap_dataframe"
   ]
  },
  {
   "cell_type": "code",
   "execution_count": null,
   "id": "964a1bec-6aa9-4942-b590-5b9e407106ee",
   "metadata": {},
   "outputs": [],
   "source": [
    "active_epoch_session.time_slice"
   ]
  },
  {
   "cell_type": "code",
   "execution_count": null,
   "id": "f9639c15-312d-4bbb-938a-0bc8a0d51a0e",
   "metadata": {},
   "outputs": [],
   "source": []
  },
  {
   "cell_type": "code",
   "execution_count": null,
   "id": "c5b81d4e-b4ff-4e2f-bb2b-dc753c1a0ff0",
   "metadata": {},
   "outputs": [],
   "source": [
    "## Adding interaction highlighters:\n",
    "pActiveInteractivePlaceSpikesPlotter."
   ]
  }
 ],
 "metadata": {
  "celltoolbar": "Tags",
  "interpreter": {
   "hash": "fde6e68fa8f5f4f0920a88ee99edd8d4121f14a57a7800ceb19ed197f25c05dc"
  },
  "kernelspec": {
   "display_name": "Python 3 (ipykernel)",
   "language": "python",
   "name": "python3"
  },
  "language_info": {
   "codemirror_mode": {
    "name": "ipython",
    "version": 3
   },
   "file_extension": ".py",
   "mimetype": "text/x-python",
   "name": "python",
   "nbconvert_exporter": "python",
   "pygments_lexer": "ipython3",
   "version": "3.9.7"
  },
  "toc-showtags": false
 },
 "nbformat": 4,
 "nbformat_minor": 5
}
