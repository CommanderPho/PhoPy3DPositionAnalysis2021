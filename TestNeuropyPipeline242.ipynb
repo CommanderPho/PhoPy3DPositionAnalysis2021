{
 "cells": [
  {
   "cell_type": "code",
   "execution_count": 1,
   "id": "3ab8f1b7-3d38-4209-a47b-b66e08242c59",
   "metadata": {
    "pycharm": {
     "is_executing": false
    },
    "scene__Default Scene": true,
    "tags": [
     "ActiveScene"
    ]
   },
   "outputs": [
    {
     "name": "stdout",
     "output_type": "stream",
     "text": [
      "Automatic pdb calling has been turned OFF\n"
     ]
    },
    {
     "name": "stderr",
     "output_type": "stream",
     "text": [
      "C:\\Users\\pho\\miniconda3\\envs\\phoviz_ultimate\\lib\\site-packages\\outdated\\utils.py:14: OutdatedPackageWarning: The package outdated is out of date. Your version is 0.2.1, the latest is 0.2.2.\n",
      "Set the environment variable OUTDATED_IGNORE=1 to disable these warnings.\n",
      "  return warn(\n"
     ]
    },
    {
     "name": "stdout",
     "output_type": "stream",
     "text": [
      "build_module_logger(module_name=\"Spike3D.pipeline\"):\n",
      "\t Module logger com.PhoHale.Spike3D.pipeline has file logging enabled and will log to EXTERNAL\\TESTING\\Logging\\debug_com.PhoHale.Spike3D.pipeline.log\n"
     ]
    }
   ],
   "source": [
    "\"\"\"\n",
    "@author: pho\n",
    "\"\"\"\n",
    "%config Completer.use_jedi = False\n",
    "## Automatic debugger on exception raised\n",
    "# %pdb on\n",
    "%pdb off\n",
    "%load_ext autoreload\n",
    "%autoreload 2\n",
    "# # You need to load the extension first\n",
    "# %load_ext viztracer\n",
    "\n",
    "import sys\n",
    "import importlib\n",
    "from pathlib import Path\n",
    "import logging\n",
    "\n",
    "# from pyphocorehelpers.print_helpers import build_module_logger\n",
    "# module_logger = build_module_logger('Spike3D.notebook')\n",
    "\n",
    "from copy import deepcopy\n",
    "\n",
    "from numba import jit\n",
    "import numpy as np\n",
    "import pandas as pd\n",
    "\n",
    "# required to enable non-blocking interaction:\n",
    "%gui qt5\n",
    "\n",
    "import pyphoplacecellanalysis.External.pyqtgraph as pg # Used to plot Speed vs. Pf Desnity Metrics\n",
    "from pyphoplacecellanalysis.External.pyqtgraph.Qt import QtCore, QtGui, QtWidgets\n",
    "import pyphoplacecellanalysis.External.pyqtgraph.opengl as gl # for 3D raster plot\n",
    "\n",
    "# Pho's Formatting Preferences\n",
    "# from pyphocorehelpers.preferences_helpers import set_pho_preferences, set_pho_preferences_concise, set_pho_preferences_verbose\n",
    "# set_pho_preferences_concise()\n",
    "\n",
    "## Pho's Custom Libraries:\n",
    "from pyphocorehelpers.general_helpers import CodeConversion, get_arguments_as_optional_dict, inspect_callable_arguments, safely_accepts_kwargs\n",
    "from pyphocorehelpers.indexing_helpers import partition, compute_spanning_bins, interleave_elements, compute_position_grid_size, compute_paginated_grid_config\n",
    "from pyphocorehelpers.print_helpers import PrettyPrintable, WrappingMessagePrinter, print_value_overview_only, print_keys_if_possible, debug_dump_object_member_shapes, safe_get_variable_shape\n",
    "from pyphocorehelpers.DataStructure.dynamic_parameters import DynamicParameters\n",
    "from pyphocorehelpers.performance_timing_helpers import WrappingPerformanceTimer\n",
    "from pyphocorehelpers.gui.interaction_helpers import CallbackWrapper\n",
    "from pyphocorehelpers.Filesystem.open_in_system_file_manager import reveal_in_system_file_manager\n",
    "from pyphocorehelpers.gui.PhoUIContainer import PhoUIContainer\n",
    "from pyphocorehelpers.indexing_helpers import BinningInfo, compute_spanning_bins, get_bin_centers, get_bin_edges, debug_print_1D_bin_infos, interleave_elements, build_spanning_grid_matrix\n",
    "\n",
    "# pyPhoPlaceCellAnalysis:\n",
    "from pyphoplacecellanalysis.General.Pipeline.NeuropyPipeline import NeuropyPipeline # get_neuron_identities\n",
    "# from pyphoplacecellanalysis.General.SessionSelectionAndFiltering import batch_filter_session, build_custom_epochs_filters\n",
    "from neuropy.core.session.KnownDataSessionTypeProperties import KnownDataSessionTypeProperties\n",
    "\n",
    "from pyphoplacecellanalysis.General.Pipeline.Stages.ComputationFunctions.ComputationFunctionRegistryHolder import ComputationFunctionRegistryHolder\n",
    "from pyphoplacecellanalysis.General.Pipeline.Stages.DisplayFunctions.DisplayFunctionRegistryHolder import DisplayFunctionRegistryHolder\n",
    "from pyphocorehelpers.gui.PhoUIContainer import PhoUIContainer\n",
    "from pyphoplacecellanalysis.GUI.Qt.Menus.PhoMenuHelper import PhoMenuHelper\n",
    "from pyphoplacecellanalysis.GUI.Qt.Menus.LocalMenus_AddRenderable import LocalMenus_AddRenderable\n",
    "from pyphoplacecellanalysis.GUI.Qt.Menus.SpecificMenus.CreateLinkedWidget_MenuProvider import CreateLinkedWidget_MenuProvider\n",
    "\n",
    "# NeuroPy (Diba Lab Python Repo) Loading\n",
    "# from neuropy import core\n",
    "from neuropy.core.session.data_session_loader import DataSessionLoader\n",
    "from neuropy.core.session.dataSession import DataSession\n",
    "from neuropy.analyses.placefields import PlacefieldComputationParameters\n",
    "\n",
    "from neuropy.core.laps import Laps  # Used for adding laps in KDiba mode\n",
    "from neuropy.utils.efficient_interval_search import get_non_overlapping_epochs, drop_overlapping # Used for adding laps in KDiba mode\n",
    "\n",
    "from neuropy.core.epoch import NamedTimerange\n",
    "\n",
    "from neuropy.core.session.Formats.BaseDataSessionFormats import DataSessionFormatRegistryHolder, DataSessionFormatBaseRegisteredClass\n",
    "from neuropy.core.session.Formats.Specific.BapunDataSessionFormat import BapunDataSessionFormatRegisteredClass\n",
    "from neuropy.core.session.Formats.Specific.KDibaOldDataSessionFormat import KDibaOldDataSessionFormatRegisteredClass\n",
    "from neuropy.core.session.Formats.Specific.RachelDataSessionFormat import RachelDataSessionFormat\n",
    "from neuropy.core.session.Formats.Specific.HiroDataSessionFormat import HiroDataSessionFormatRegisteredClass\n",
    "\n",
    "known_data_session_type_properties_dict = DataSessionFormatRegistryHolder.get_registry_known_data_session_type_dict()\n",
    "active_data_session_types_registered_classes_dict = DataSessionFormatRegistryHolder.get_registry_data_session_type_class_name_dict()\n",
    "\n",
    "enable_saving_to_disk = False\n",
    "# common_parent_foldername = Path(r'R:\\Dropbox (Personal)\\Active\\Kamran Diba Lib\\Pho-Kamran-Meetings\\Final Placemaps 2021-01-14')\n",
    "common_parent_foldername = Path(r'R:\\Dropbox (Personal)\\Active\\Kamran Diba Lib\\Pho-Kamran-Meetings\\2022-01-16')\n",
    "\n",
    "# np.set_string_function(lambda x:f'np.array[{np.shape(x)}]', repr=True)\n",
    "# np.set_string_function(None, repr=True)\n",
    "from pyphoplacecellanalysis.General.Pipeline.Stages.Loading import loadData, saveData\n",
    "\n",
    "## For computation parameters:\n",
    "from neuropy.analyses.placefields import PlacefieldComputationParameters\n",
    "from neuropy.utils.dynamic_container import DynamicContainer, override_dict, overriding_dict_with, get_dict_subset\n",
    "from neuropy.utils.position_util import compute_position_grid_size\n",
    "\n",
    "## Test Matplotlib plotting:\n",
    "from neuropy.utils.matplotlib_helpers import _build_variable_max_value_label, add_inner_title, enumTuningMap2DPlotMode, _build_square_checkerboard_image, enumTuningMap2DPlotVariables, compute_data_aspect_ratio\n",
    "\n",
    "def build_eloy_computation_configs(sess, **kwargs):\n",
    "    \"\"\" OPTIONALLY can be overriden by implementors to provide specific filter functions \"\"\"\n",
    "    # (4.0, 4.0)cm bins, (6.0, 6.0)cm gaussian smoothing\n",
    "    # peak frate > 2Hz \n",
    "    # return [DynamicContainer(pf_params=PlacefieldComputationParameters(speed_thresh=10.0, grid_bin=(4.0, 4.0), smooth=(6.0, 6.0), frate_thresh=0.2, time_bin_size=1.0, computation_epochs = None), spike_analysis=None)]\n",
    "    # return [DynamicContainer(pf_params=PlacefieldComputationParameters(speed_thresh=10.0, grid_bin=(4.0, 4.0), smooth=(2.5, 2.5), frate_thresh=0.2, time_bin_size=1.0, computation_epochs = None), spike_analysis=None)]\n",
    "    # return [DynamicContainer(pf_params=PlacefieldComputationParameters(speed_thresh=10.0, grid_bin=(4.0, 4.0), smooth=(0.2, 0.2), frate_thresh=0.2, time_bin_size=1.0, computation_epochs = None), spike_analysis=None)]\n",
    "    return [DynamicContainer(pf_params=PlacefieldComputationParameters(speed_thresh=10.0, grid_bin=(4.0, 4.0), smooth=(0.2, 0.2), frate_thresh=0.2, time_bin_size=0.025, computation_epochs = None), spike_analysis=None)]"
   ]
  },
  {
   "cell_type": "markdown",
   "id": "1d84bd3a-4e2b-4482-91b8-18695ad60c80",
   "metadata": {
    "scene__Default Scene": true,
    "tags": [
     "main_run",
     "ActiveScene"
    ]
   },
   "source": [
    "# Load Appropriate Data and begin pipeline"
   ]
  },
  {
   "cell_type": "markdown",
   "id": "8eceb354-7fa7-4064-ba26-4e989b9f3354",
   "metadata": {
    "jp-MarkdownHeadingCollapsed": true,
    "tags": []
   },
   "source": [
    "## Bapun Format:"
   ]
  },
  {
   "cell_type": "code",
   "execution_count": null,
   "id": "1b78cea9-7832-4371-b242-48290b976e5b",
   "metadata": {
    "pycharm": {
     "is_executing": false
    },
    "tags": []
   },
   "outputs": [],
   "source": [
    "active_data_mode_name = 'bapun'\n",
    "active_data_mode_registered_class = active_data_session_types_registered_classes_dict[active_data_mode_name]\n",
    "active_data_mode_type_properties = known_data_session_type_properties_dict[active_data_mode_name]\n",
    "# basedir = r'R:\\data\\Bapun\\RatS\\Day5TwoNovel'\n",
    "basedir = r'W:\\Data\\Bapun\\RatS\\Day5TwoNovel'\n",
    "# basedir = r'/home/halechr/Data/Bapun/RatS/Day5TwoNovel'\n",
    "\n",
    "curr_active_pipeline = NeuropyPipeline.try_init_from_saved_pickle_or_reload_if_needed(active_data_mode_name, active_data_mode_type_properties, override_basepath=Path(basedir), force_reload=False) # damn this file is 21.1 GB!\n",
    "active_session_filter_configurations = active_data_mode_registered_class.build_default_filter_functions(sess=curr_active_pipeline.sess) # build_filters_pyramidal_epochs(sess=curr_kdiba_pipeline.sess)\n",
    "active_session_computation_configs = active_data_mode_registered_class.build_default_computation_configs(sess=curr_active_pipeline.sess)\n",
    "\n",
    "curr_active_pipeline.filter_sessions(active_session_filter_configurations)\n",
    "curr_active_pipeline.perform_computations(active_session_computation_configs[0],\n",
    "                                          computation_functions_name_whitelist=['_perform_baseline_placefield_computation', '_perform_time_dependent_placefield_computation', '_perform_position_decoding_computation', '_perform_two_step_position_decoding_computation'],\n",
    "                                          # computation_functions_name_blacklist=['_perform_spike_burst_detection_computation', '_perform_velocity_vs_pf_density_computation', '_perform_velocity_vs_pf_simplified_count_density_computation'],\n",
    "                                          overwrite_extant_results=False) # SpikeAnalysisComputations._perform_spike_burst_detection_computation\n",
    "curr_active_pipeline.prepare_for_display(root_output_dir=r'Data/Output', should_smooth_maze=False) # TODO: pass a display config\n",
    "                                      \n",
    "## _perform_velocity_vs_pf_density_computation: causes AssertionError: After AOC normalization the sum over each cell should be 1.0, but it is not! [nan nan nan nan nan nan nan nan nan nan nan nan nan nan nan nan nan nan nan nan nan nan nan nan nan nan nan nan nan nan nan nan nan nan nan nan nan nan nan nan nan] with 1D placefields!"
   ]
  },
  {
   "cell_type": "markdown",
   "id": "4cf26cdb-61fc-42e6-b652-c17d2bb47182",
   "metadata": {
    "tags": []
   },
   "source": [
    "### Test arbitrary filtering beyond active_session_filter_configurations:"
   ]
  },
  {
   "cell_type": "code",
   "execution_count": null,
   "id": "7bfa5aed-85a5-4555-a521-2f1ac9d5652a",
   "metadata": {},
   "outputs": [],
   "source": [
    "# import sys # required for sys.float_info.min\n",
    "from copy import deepcopy\n",
    "# from neuropy.core.epoch import NamedTimerange # Custom rippleOnly filters:\n",
    "\n",
    "## Adds the custom ComputationConfig with .pf_params.computation_epochs set to the ripple epochs only:\n",
    "dup_ripple_only_computation_config = deepcopy(active_session_computation_configs[0]) # make a deepcopy of the active computation config\n",
    "dup_ripple_only_computation_config.pf_params.computation_epochs = curr_active_pipeline.sess.ripple # set the computation epochs for the copy to the ripple epochs only\n",
    "# dup_ripple_only_computation_config.pf_params.speed_thresh = sys.float_info.min # no speed thresholding because we're wanting to look at the ripples\n",
    "dup_ripple_only_computation_config.pf_params.speed_thresh = 0.0 # no speed thresholding because we're wanting to look at the ripples\n",
    "active_session_computation_configs.append(dup_ripple_only_computation_config)\n",
    "# active_session_filter_configurations['maze1_rippleOnly'] = lambda x: (x.filtered_by_neuron_type('pyramidal').filtered_by_epoch(NamedTimerange(name='maze1_rippleOnly', start_end_times=[x.epochs['maze1'][0], x.epochs['maze2'][1]])), NamedTimerange(name='maze1_rippleOnly', start_end_times=[x.epochs['maze1'][0], x.epochs['maze2'][1]]))\n",
    "active_session_filter_configurations['maze1_rippleOnly'] = deepcopy(active_session_filter_configurations['maze1']) # this copy is just so that the values are recomputed with the appropriate config. This is a HACK\n",
    "active_session_filter_configurations['maze2_rippleOnly'] = deepcopy(active_session_filter_configurations['maze2']) # this copy is just so that the values are recomputed with the appropriate config. This is a HACK\n",
    "\n",
    "# active_session_filter_configurations = active_data_mode_registered_class.build_default_filter_functions(sess=curr_active_pipeline.sess) # build_filters_pyramidal_epochs(sess=curr_kdiba_pipeline.sess)\n",
    "# active_session_computation_configs = active_data_mode_registered_class.build_default_computation_configs(sess=curr_active_pipeline.sess)\n",
    "curr_active_pipeline.filter_sessions(active_session_filter_configurations)\n",
    "curr_active_pipeline.perform_computations(active_session_computation_configs[1], computation_functions_name_blacklist=['_perform_spike_burst_detection_computation', '_perform_velocity_vs_pf_density_computation', '_perform_velocity_vs_pf_simplified_count_density_computation'], fail_on_exception=False) # SpikeAnalysisComputations._perform_spike_burst_detection_computation\n",
    "curr_active_pipeline.prepare_for_display(root_output_dir=r'W:\\Data\\Output', should_smooth_maze=False) # TODO: pass a display config"
   ]
  },
  {
   "cell_type": "code",
   "execution_count": null,
   "id": "69513e66-e06e-4822-9771-18a11dd1f1e2",
   "metadata": {
    "pycharm": {
     "is_executing": false
    },
    "tags": []
   },
   "outputs": [],
   "source": [
    "# Loops through all the configs and ensure that they have the neuron identity info if they need it.\n",
    "curr_active_pipeline.perform_drop_computed_items(config_names_to_drop = ['maze1_rippleOnly', 'maze2_rippleOnly'])\n"
   ]
  },
  {
   "cell_type": "code",
   "execution_count": null,
   "id": "7ce38f87-14f1-4dd2-b4f7-4597f8cee93b",
   "metadata": {
    "pycharm": {
     "is_executing": false
    },
    "tags": []
   },
   "outputs": [],
   "source": [
    "## Test fixing broken/invalid paths for plotting_config:\n",
    "debug_print = True\n",
    "\n",
    "for _temp_curr_config_name in ['maze1_rippleOnly', 'maze2_rippleOnly']:\n",
    "    active_config = curr_active_pipeline.active_configs[_temp_curr_config_name]# InteractivePlaceCellConfig\n",
    "    # active_config\n",
    "    if debug_print:\n",
    "        print(f'_display_custom_user_function(computation_result, active_config, **kwargs):')\n",
    "    active_session_name = active_config.active_session_config.session_name\n",
    "    if debug_print:\n",
    "        print(f'active_session_name: {active_session_name}')\n",
    "    active_epoch_names = active_config.active_epochs\n",
    "    if debug_print:\n",
    "        print(f'active_epoch_names.name: {active_epoch_names.name}') # active_epoch_names: <NamedTimerange: {'name': 'maze1', 'start_end_times': array([  22.26      , 1739.15336412])};>\n",
    "    # active_epoch_names.name: maze1\n",
    "    _curr_safe_out_path = Path('output', active_session_name, _temp_curr_config_name)\n",
    "    curr_active_pipeline.active_configs[_temp_curr_config_name].plotting_config.change_active_out_parent_dir(new_parent=_curr_safe_out_path) # active_epoch_names.name\n",
    "    curr_active_pipeline.active_configs[_temp_curr_config_name].plotting_config.active_output_parent_dir = _curr_safe_out_path\n",
    "    # self.active_output_parent_dir\n",
    "    print(f\"for {_temp_curr_config_name} - {curr_active_pipeline.active_configs[_temp_curr_config_name].plotting_config.get_figure_save_path('test')}\")\n",
    "    \n",
    "    # self.active_configs[an_active_config_name]\n",
    "## Completely invalid path\n",
    "# active_config.plotting_config.active_output_parent_dir # WindowsPath('W:/Data/Output/2022-09-13/RatS-Day5TwoNovel-2020-12-04_07-55-09/maze1/speedThresh_0.00-gridBin_2.74-smooth_2.00-frateThresh_0.20-time_bin_size_1.00-computation_epochs_13811 epochs\\narray([[1.6712, 1.7736],\\n       [2.0536, 2.1744],\\n       [4.9616, 5.3448],\\n       ...,\\n       [42274, 42274.2],\\n       [42276.1, 42276.3],\\n       [42298, 42298.1]])\\n')\n"
   ]
  },
  {
   "cell_type": "code",
   "execution_count": null,
   "id": "906ed340-f6d1-4194-af82-d04b8952d66c",
   "metadata": {
    "pycharm": {
     "is_executing": false
    },
    "tags": []
   },
   "outputs": [],
   "source": [
    "out_figure_save_original_root = active_config.plotting_config.get_figure_save_path('test') # 2022-01-16/\n",
    "out_figure_save_original_root\n",
    "# active_config.plotting_config = _set_figure_save_root_day_computed_mode(active_config.plotting_config, active_session_name, active_epoch_names.name, root_output_dir=root_output_dir, debug_print=debug_print)"
   ]
  },
  {
   "cell_type": "code",
   "execution_count": null,
   "id": "86d0240b-8317-4fe4-bc7f-55a1c3bea4a4",
   "metadata": {
    "pycharm": {
     "is_executing": false
    },
    "tags": []
   },
   "outputs": [],
   "source": [
    "curr_config.plotting_config.get_figure_save_path('test')\n",
    "# active_session_filter_configurations['maze2_rippleOnly']# = deepcopy(active_session_filter_configurations['maze2']) # this copy is just so that the values are recomputed with the appropriate config. This is a HACK\n",
    "#PlottingConfig(output_subplots_shape='1|5', output_parent_dir=Path('output', computation_result.sess.config.session_name, 'custom_laps'))"
   ]
  },
  {
   "cell_type": "code",
   "execution_count": null,
   "id": "1b03ca95-c61a-4d0c-a957-df650efc6f45",
   "metadata": {
    "pycharm": {
     "is_executing": false
    },
    "tags": []
   },
   "outputs": [],
   "source": [
    "# %pdb on\n",
    "\n",
    "curr_active_pipeline.prepare_for_display(root_output_dir=r'W:\\Data\\Output', should_smooth_maze=False) # TODO: pass a display config"
   ]
  },
  {
   "cell_type": "code",
   "execution_count": null,
   "id": "305bc95f-dd46-458d-9150-7e45c78ab865",
   "metadata": {
    "pycharm": {
     "is_executing": false
    },
    "tags": []
   },
   "outputs": [],
   "source": [
    "active_session_computation_configs.time"
   ]
  },
  {
   "cell_type": "markdown",
   "id": "06494656-a9cb-4aba-969d-c3fc64aad68c",
   "metadata": {
    "tags": []
   },
   "source": [
    "### Bapun Open-Field Experiment (2022-08-09 Analysis)"
   ]
  },
  {
   "cell_type": "code",
   "execution_count": null,
   "id": "7436316c-ce8c-45dd-9f4f-c28051ff1aa7",
   "metadata": {
    "pycharm": {
     "is_executing": false
    },
    "tags": []
   },
   "outputs": [],
   "source": [
    "from neuropy.core.session.SessionSelectionAndFiltering import build_custom_epochs_filters # used particularly to build Bapun-style filters\n",
    "\n",
    "active_data_mode_name = 'bapun'\n",
    "active_data_mode_registered_class = active_data_session_types_registered_classes_dict[active_data_mode_name]\n",
    "active_data_mode_type_properties = known_data_session_type_properties_dict[active_data_mode_name]\n",
    "basedir = r'W:\\Data\\Bapun\\RatN\\Day4OpenField' # Apogee\n",
    "# basedir = '/Volumes/MoverNew/data/Bapun/RatN/Day4OpenField' # mac\n",
    "\n",
    "curr_active_pipeline = NeuropyPipeline.try_init_from_saved_pickle_or_reload_if_needed(active_data_mode_name, active_data_mode_type_properties, override_basepath=Path(basedir), force_reload=False)\n",
    "# active_session_filter_configurations = active_data_mode_registered_class.build_default_filter_functions(sess=curr_active_pipeline.sess, included_epoch_names=['maze','sprinkle']) # build_filters_pyramidal_epochs(sess=curr_kdiba_pipeline.sess)\n",
    "# active_session_filter_configurations = build_custom_epochs_filters(curr_active_pipeline.sess, included_epoch_labels=['maze','sprinkle'])\n",
    "active_session_filter_configurations = build_custom_epochs_filters(curr_active_pipeline.sess, included_epoch_labels=['maze','sprinkle'])\n",
    "# active_session_filter_configurations = active_data_mode_registered_class.build_filters_pyramidal_epochs(curr_active_pipeline.sess, included_epoch_labels=['maze','sprinkle'])\n",
    "active_session_computation_configs = active_data_mode_registered_class.build_default_computation_configs(sess=curr_active_pipeline.sess, time_bin_size=1.0)\n",
    "curr_active_pipeline.filter_sessions(active_session_filter_configurations)\n",
    "curr_active_pipeline.perform_computations(active_session_computation_configs[0], computation_functions_name_blacklist=['_perform_recursive_latent_placefield_decoding', '_perform_spike_burst_detection_computation', '_perform_velocity_vs_pf_density_computation', '_perform_velocity_vs_pf_simplified_count_density_computation']) # SpikeAnalysisComputations._perform_spike_burst_detection_computation\n",
    "curr_active_pipeline.prepare_for_display(root_output_dir=r'W:\\Data\\Output', should_smooth_maze=True) # TODO: pass a display config\n",
    "curr_active_pipeline.save_pipeline()"
   ]
  },
  {
   "cell_type": "markdown",
   "id": "1c703940-bbc4-4014-9e54-2b88b8c79391",
   "metadata": {
    "jp-MarkdownHeadingCollapsed": true,
    "tags": []
   },
   "source": [
    "## Rachel Format:"
   ]
  },
  {
   "cell_type": "code",
   "execution_count": null,
   "id": "03ef84d7-a972-4578-9199-0bda4c627fb6",
   "metadata": {},
   "outputs": [],
   "source": [
    "active_data_mode_name = 'rachel'\n",
    "active_data_mode_registered_class = active_data_session_types_registered_classes_dict[active_data_mode_name]\n",
    "active_data_mode_type_properties = known_data_session_type_properties_dict[active_data_mode_name]\n",
    "basedir = r'R:\\data\\Rachel\\merged_M1_20211123_raw_phy' # Windows\n",
    "\n",
    "curr_active_pipeline = NeuropyPipeline.try_init_from_saved_pickle_or_reload_if_needed(active_data_mode_name, active_data_mode_type_properties, override_basepath=Path(basedir))\n",
    "active_session_filter_configurations = active_data_mode_registered_class.build_default_filter_functions(sess=curr_active_pipeline.sess) # build_filters_pyramidal_epochs(sess=curr_kdiba_pipeline.sess)\n",
    "active_session_computation_configs = active_data_mode_registered_class.build_default_computation_configs(sess=curr_active_pipeline.sess)"
   ]
  },
  {
   "cell_type": "code",
   "execution_count": null,
   "id": "277eb000-0a85-4b32-8348-1d0a2042c8a0",
   "metadata": {
    "pycharm": {
     "is_executing": false
    },
    "scrolled": true
   },
   "outputs": [],
   "source": [
    "curr_active_pipeline.filter_sessions(active_session_filter_configurations)\n",
    "curr_active_pipeline.perform_computations(active_session_computation_configs[0], computation_functions_name_blacklist=['_perform_spike_burst_detection_computation']) # Causes \"IndexError: index 59 is out of bounds for axis 0 with size 59\"\n",
    "curr_active_pipeline.prepare_for_display(should_smooth_maze=True) # TODO: pass a display config"
   ]
  },
  {
   "cell_type": "markdown",
   "id": "a4940269-23e4-46dc-a4ae-61d512ac5e41",
   "metadata": {
    "tags": []
   },
   "source": [
    "## KDiba Format:"
   ]
  },
  {
   "cell_type": "code",
   "execution_count": 2,
   "id": "493d4aaf-faa3-4c54-9e4f-1bcd0611f7df",
   "metadata": {
    "pycharm": {
     "is_executing": false
    },
    "tags": [
     "main_run",
     "ActiveScene"
    ]
   },
   "outputs": [
    {
     "name": "stdout",
     "output_type": "stream",
     "text": [
      "basedir: W:\\Data\\KDIBA\\gor01\\one\\2006-6-08_14-26-15\n",
      "finalized_loaded_sess_pickle_path: W:\\Data\\KDIBA\\gor01\\one\\2006-6-08_14-26-15\\loadedSessPickle.pkl\n",
      "Loading loaded session pickle file results to W:\\Data\\KDIBA\\gor01\\one\\2006-6-08_14-26-15\\loadedSessPickle.pkl... done.\n",
      "Loading pickled pipeline success: W:\\Data\\KDIBA\\gor01\\one\\2006-6-08_14-26-15\\loadedSessPickle.pkl.\n",
      "property already present in pickled version. No need to save.\n",
      "WARNING: skipping computation because overwrite_extant_results=False and active_computation_results[maze1_PYR] already exists and is non-None\n",
      "\t TODO: this will prevent recomputation even when the blacklist/whitelist or computation function definitions change. Rework so that this is smarter.\n",
      "updating computation_results...\n",
      "done.\n",
      "WARNING: skipping computation because overwrite_extant_results=False and active_computation_results[maze2_PYR] already exists and is non-None\n",
      "\t TODO: this will prevent recomputation even when the blacklist/whitelist or computation function definitions change. Rework so that this is smarter.\n",
      "updating computation_results...\n",
      "done.\n",
      "WARNING: skipping computation because overwrite_extant_results=False and active_computation_results[maze_PYR] already exists and is non-None\n",
      "\t TODO: this will prevent recomputation even when the blacklist/whitelist or computation function definitions change. Rework so that this is smarter.\n",
      "updating computation_results...\n",
      "done.\n",
      "NeuropyPipeline.on_stage_changed(new_stage=\"PipelineStage.Displayed\")\n",
      "finalized_loaded_sess_pickle_path: W:\\Data\\KDIBA\\gor01\\one\\2006-6-08_14-26-15\\loadedSessPickle.pkl\n",
      "Saving (file mode 'w+b') saved session pickle file results to W:\\Data\\KDIBA\\gor01\\one\\2006-6-08_14-26-15\\20221122141800-loadedSessPickle.pkl... done.\n",
      "WARNING: prev_extant_file_size_MB (4933.325798988342 MB) >= new_temporary_file_size_MB (4929.7551946640015 MB)! A backup will be made!\n",
      "'W:\\Data\\KDIBA\\gor01\\one\\2006-6-08_14-26-15\\loadedSessPickle.pkl' backing up -> to_file: 'W:\\Data\\KDIBA\\gor01\\one\\2006-6-08_14-26-15\\backup-20221122141806-loadedSessPickle.pkl.bak'\n",
      "moving new output at 'W:\\Data\\KDIBA\\gor01\\one\\2006-6-08_14-26-15\\20221122141800-loadedSessPickle.pkl' -> to desired location: 'W:\\Data\\KDIBA\\gor01\\one\\2006-6-08_14-26-15\\loadedSessPickle.pkl'\n"
     ]
    },
    {
     "data": {
      "text/plain": [
       "WindowsPath('W:/Data/KDIBA/gor01/one/2006-6-08_14-26-15/loadedSessPickle.pkl')"
      ]
     },
     "execution_count": 2,
     "metadata": {},
     "output_type": "execute_result"
    }
   ],
   "source": [
    "# %%viztracer\n",
    "active_data_mode_name = 'kdiba'\n",
    "active_data_mode_registered_class = active_data_session_types_registered_classes_dict[active_data_mode_name]\n",
    "active_data_mode_type_properties = known_data_session_type_properties_dict[active_data_mode_name]\n",
    "\n",
    "## Data must be pre-processed using the MATLAB script located here: \n",
    "#     neuropy/data_session_pre_processing_scripts/KDIBA/IIDataMat_Export_ToPython_2022_08_01.m\n",
    "# From pre-computed .mat files:\n",
    "\n",
    "local_session_parent_path = Path(r'W:\\Data\\KDIBA\\gor01\\one') # Apogee Windows (W: Wiser)\n",
    "# local_session_parent_path = Path(r'R:\\data\\KDIBA\\gor01\\one') # Apogee Windows (R: MoverNew)\n",
    "# local_session_parent_path = Path(r'/Volumes/MoverNew/data/KDIBA/gor01/one') # Pho's MacBook Pro\n",
    "# local_session_parent_path = Path(r'/run/media/halechr/MoverNew/data/KDIBA/gor01/one') # Lab Linux Workstation (with external MoverNew drive)\n",
    "# local_session_parent_path = Path(r'/home/halechr/Data/KDIBA/gor01/one') # Lab Linux Workstation (local user folder Data)\n",
    "\n",
    "local_session_names_list = ['2006-6-07_11-26-53', '2006-6-08_14-26-15', '2006-6-09_1-22-43', '2006-6-09_3-23-37', '2006-6-12_15-55-31', '2006-6-13_14-42-6']\n",
    "local_session_paths_list = [local_session_parent_path.joinpath(a_name).resolve() for a_name in local_session_names_list]\n",
    "\n",
    "basedir = local_session_paths_list[1] # NOT 3\n",
    "print(f'basedir: {str(basedir)}')\n",
    "\n",
    "curr_active_pipeline = NeuropyPipeline.try_init_from_saved_pickle_or_reload_if_needed(active_data_mode_name, active_data_mode_type_properties, override_basepath=Path(basedir), override_post_load_functions=[], force_reload=False, active_pickle_filename='loadedSessPickle.pkl')\n",
    "# active_session_filter_configurations = active_data_mode_registered_class.build_default_filter_functions(sess=curr_active_pipeline.sess) # build_filters_pyramidal_epochs(sess=curr_kdiba_pipeline.sess)\n",
    "active_session_filter_configurations = active_data_mode_registered_class.build_filters_pyramidal_epochs(sess=curr_active_pipeline.sess, epoch_name_whitelist=['maze','maze1','maze2'])\n",
    "# active_session_filter_configurations = active_data_mode_registered_class.build_filters_pyramidal_epochs(sess=curr_active_pipeline.sess, epoch_name_whitelist=['maze1','maze2'])\n",
    "# active_session_filter_configurations = active_data_mode_registered_class.build_filters_pyramidal_epochs(sess=curr_active_pipeline.sess, epoch_name_whitelist=['maze1'])\n",
    "# active_session_filter_configurations = active_data_mode_registered_class.build_filters_pyramidal_epochs(sess=curr_active_pipeline.sess, epoch_name_whitelist=['maze2'])\n",
    "\n",
    "# sess.epochs.t_start = 22.26 # exclude the first short period where the animal isn't on the maze yet\n",
    "# active_session_filter_configurations = {'maze1': lambda x: (x.filtered_by_neuron_type('pyramidal').filtered_by_epoch(x.epochs.get_named_timerange('maze1')), x.epochs.get_named_timerange('maze1')),\n",
    "# 'maze2': lambda x: (x.filtered_by_neuron_type('pyramidal').filtered_by_epoch(x.epochs.get_named_timerange('maze2')), x.epochs.get_named_timerange('maze2')),\n",
    "# 'maze': lambda x: (x.filtered_by_neuron_type('pyramidal').filtered_by_epoch(NamedTimerange(name='maze', start_end_times=[x.epochs['maze1'][0], x.epochs['maze2'][1]])), NamedTimerange(name='maze', start_end_times=[x.epochs['maze1'][0], x.epochs['maze2'][1]]))\n",
    "#                 }\n",
    "\n",
    "active_session_computation_configs = active_data_mode_registered_class.build_default_computation_configs(sess=curr_active_pipeline.sess, time_bin_size=0.03333) #1.0/30.0 # decode at 30fps to match the position sampling frequency\n",
    "# active_session_computation_configs[0].pf_params.smooth = (0.0, 0.0)\n",
    "# active_session_computation_configs = build_eloy_computation_configs(sess=curr_active_pipeline.sess)\n",
    "curr_active_pipeline.filter_sessions(active_session_filter_configurations)\n",
    "\n",
    "# Whitelist Mode:\n",
    "computation_functions_name_whitelist=['_perform_baseline_placefield_computation', '_perform_time_dependent_placefield_computation', '_perform_extended_statistics_computation',\n",
    "                                        # '_perform_position_decoding_computation', \n",
    "                                        '_perform_firing_rate_trends_computation',\n",
    "                                        '_perform_pf_find_ratemap_peaks_computation',\n",
    "                                        # '_perform_two_step_position_decoding_computation',\n",
    "                                        # '_perform_recursive_latent_placefield_decoding'\n",
    "                                     ]  # '_perform_pf_find_ratemap_peaks_peak_prominence2d_computation'\n",
    "computation_functions_name_blacklist=None\n",
    "\n",
    "# # Blacklist Mode:\n",
    "# computation_functions_name_whitelist=None\n",
    "# computation_functions_name_blacklist=['_perform_spike_burst_detection_computation','_perform_recursive_latent_placefield_decoding']\n",
    "\n",
    "\n",
    "curr_active_pipeline.perform_computations(active_session_computation_configs[0], computation_functions_name_whitelist=computation_functions_name_whitelist, computation_functions_name_blacklist=computation_functions_name_blacklist, fail_on_exception=True, debug_print=False) #, overwrite_extant_results=False  ], fail_on_exception=True, debug_print=False)\n",
    "\n",
    "# curr_active_pipeline.perform_computations(active_session_computation_configs[0], computation_functions_name_blacklist=['_perform_spike_burst_detection_computation'], debug_print=False, fail_on_exception=False) # whitelist: ['_perform_baseline_placefield_computation']\n",
    "curr_active_pipeline.prepare_for_display(root_output_dir=r'W:\\Data\\Output', should_smooth_maze=True) # TODO: pass a display config\n",
    "curr_active_pipeline.save_pipeline()"
   ]
  },
  {
   "cell_type": "code",
   "execution_count": null,
   "id": "2e449527-4afa-4587-8536-94cad59d32a0",
   "metadata": {
    "pycharm": {
     "is_executing": false
    },
    "tags": [
     "main_run",
     "ActiveScene"
    ]
   },
   "outputs": [],
   "source": [
    "from pyphoplacecellanalysis.General.Pipeline.NeuropyPipeline import _build_unique_filename\n",
    "unique_save_path, unique_file_name = _build_unique_filename(curr_active_pipeline.pickle_path) # unique_file_name: '20221109173951-loadedSessPickle.pkl'\n",
    "unique_save_path # 'W:/Data/KDIBA/gor01/one/2006-6-09_1-22-43/20221109173951-loadedSessPickle.pkl'"
   ]
  },
  {
   "cell_type": "markdown",
   "id": "9b01c8b9-ffc2-4816-9de5-bfedc221699b",
   "metadata": {
    "jp-MarkdownHeadingCollapsed": true,
    "tags": []
   },
   "source": [
    "## Hiro Format:"
   ]
  },
  {
   "cell_type": "code",
   "execution_count": null,
   "id": "3c378a70-2365-49b1-8aa9-7e13a2e9c88c",
   "metadata": {
    "tags": []
   },
   "outputs": [],
   "source": [
    "active_data_mode_name = 'hiro'\n",
    "active_data_mode_registered_class = active_data_session_types_registered_classes_dict[active_data_mode_name]\n",
    "active_data_mode_type_properties = known_data_session_type_properties_dict[active_data_mode_name]\n",
    "## For data located at:\n",
    "# W:\\Data\\Rotation_3_Kamran Diba Lab\\DataProcessingProject\\Hiro_Datasets\n",
    "\n",
    "## Data must be pre-processed using the MATLAB script located here: \n",
    "#     ./neuropy/data_session_pre_processing_scripts/HIRO/PhoDibaProcess_ComputeSingleExperiment.m\n",
    "## ALT: alternatively, the original files are located here:\n",
    "#     C:\\Users\\pho\\repos\\PhoDibaLab_REM_HiddenMarkovModel\\PhoDibaProcess_ComputeSingleExperiment.m\n",
    "#     C:\\Users\\pho\\repos\\PhoDibaLab_REM_HiddenMarkovModel\\DEVELOPMENT\\NeuroPyExporting2022\\PhoNeuroPyConvert_ExportAllToPython_MAIN.m\n",
    "\n",
    "# From pre-computed .mat files:\n",
    "## RoyMaze1: \n",
    "# basedir = r'R:\\rMBP Python Repos 2022-07-07\\PhoNeuronGillespie2021CodeRepo\\PhoMatlabDataScripting\\ExportedData\\RoyMaze1' # WINDOWS\n",
    "# basedir = r'R:\\data\\Hiro\\RoyMaze1' # WINDOWS (R: MoverNew)\n",
    "basedir = r'W:\\Data\\Hiro\\RoyMaze1' # Apogee Windows (W: Wiser)\n",
    "\n",
    "## RoyMaze2:\n",
    "# basedir = r'R:\\rMBP Python Repos 2022-07-07\\PhoNeuronGillespie2021CodeRepo\\PhoMatlabDataScripting\\ExportedData\\RoyMaze2' # WINDOWS\n",
    "# basedir = r'R:\\data\\Hiro\\RoyMaze2' # WINDOWS\n",
    "curr_active_pipeline = NeuropyPipeline.try_init_from_saved_pickle_or_reload_if_needed(active_data_mode_name, active_data_mode_type_properties, override_basepath=Path(basedir))"
   ]
  },
  {
   "cell_type": "code",
   "execution_count": null,
   "id": "f0c7b805-be1e-44f6-ae3d-09863d3524c0",
   "metadata": {
    "tags": []
   },
   "outputs": [],
   "source": [
    "from neuropy.utils.misc import convert_dataframe_columns_to_datatype_if_possible, add_explicit_dataframe_columns_from_lookup_df\n",
    "\n",
    "## Finish setting up the spikes_df:\n",
    "curr_active_pipeline.sess.spikes_df.spikes.set_time_variable_name(\"t_seconds\")\n",
    "curr_active_pipeline.sess.flattened_spiketrains._spikes_df = add_explicit_dataframe_columns_from_lookup_df(curr_active_pipeline.sess.spikes_df, curr_active_pipeline.sess.neurons._extended_neuron_properties_df).sort_values(by=['t_seconds']) # Need to re-sort by timestamps once done\n",
    "convert_dataframe_columns_to_datatype_if_possible(curr_active_pipeline.sess.spikes_df, {'int':['shank', 'cluster', 'aclu', 'qclu', 'traj', 'lap']})"
   ]
  },
  {
   "cell_type": "code",
   "execution_count": null,
   "id": "c3b697d5-ce22-472e-803c-609e2544d38d",
   "metadata": {
    "scrolled": true
   },
   "outputs": [],
   "source": [
    "# active_session_filter_configurations = active_data_mode_registered_class.build_default_filter_functions(sess=curr_active_pipeline.sess) # build_filters_pyramidal_epochs(sess=curr_kdiba_pipeline.sess)\n",
    "# active_session_filter_configurations = active_data_mode_registered_class.build_track_only_filter_functions(sess=curr_active_pipeline.sess)\n",
    "active_session_filter_configurations = active_data_mode_registered_class.build_filters_track_only_pyramidal(sess=curr_active_pipeline.sess)\n",
    "active_session_computation_configs = active_data_mode_registered_class.build_default_computation_configs(sess=curr_active_pipeline.sess)\n",
    "# active_session_computation_configs"
   ]
  },
  {
   "cell_type": "code",
   "execution_count": null,
   "id": "75acaafe-aa57-4c63-8bba-612d1a9bb0db",
   "metadata": {
    "scrolled": true
   },
   "outputs": [],
   "source": [
    "post_filter_fn = active_session_filter_configurations['track']\n",
    "\n",
    "\n",
    "active_session_filter_configurations['track'] = lambda x: (x.filtered_by_neuron_type('pyramidal').filtered_by_epoch(x.epochs.get_named_timerange('maze1')), x.epochs.get_named_timerange('maze1'))"
   ]
  },
  {
   "cell_type": "code",
   "execution_count": null,
   "id": "5c76ee6b-1984-467e-9eac-d12ababa4c4d",
   "metadata": {
    "scrolled": true
   },
   "outputs": [],
   "source": [
    "curr_active_pipeline.sess.flattened_spiketrains._time_variable_name"
   ]
  },
  {
   "cell_type": "code",
   "execution_count": null,
   "id": "c358fa03-ee09-456f-9c4a-c00fad5aae68",
   "metadata": {
    "scrolled": true
   },
   "outputs": [],
   "source": [
    "curr_active_pipeline.filter_sessions(active_session_filter_configurations)"
   ]
  },
  {
   "cell_type": "code",
   "execution_count": null,
   "id": "2fdc73b0-2a1b-4aeb-9815-2e28579b55e4",
   "metadata": {
    "scrolled": true
   },
   "outputs": [],
   "source": [
    "curr_active_pipeline.perform_computations(active_session_computation_configs[0], computation_functions_name_blacklist=['_perform_spike_burst_detection_computation', '_perform_velocity_vs_pf_density_computation', '_perform_velocity_vs_pf_simplified_count_density_computation'], fail_on_exception=True)\n",
    "curr_active_pipeline.prepare_for_display(should_smooth_maze=True) # TODO: pass a display config"
   ]
  },
  {
   "cell_type": "code",
   "execution_count": null,
   "id": "e0c218ea-c669-498e-8234-b0e567de7916",
   "metadata": {
    "scene__Default Scene": true,
    "tags": [
     "ActiveScene"
    ]
   },
   "outputs": [],
   "source": [
    "from pyphoplacecellanalysis.General.Mixins.DisplayHelpers import debug_print_spikes_df_column_info"
   ]
  },
  {
   "cell_type": "code",
   "execution_count": null,
   "id": "62259452-5a25-4fa2-bb99-b426ea8bc278",
   "metadata": {
    "tags": []
   },
   "outputs": [],
   "source": [
    "# curr_active_pipeline.sess.spikes_df.columns\n",
    "# curr_active_pipeline.sess.spikes_df.spikes.time_variable_name\n",
    "_debug_print_spikes_df_column_info(curr_active_pipeline.sess.spikes_df)"
   ]
  },
  {
   "cell_type": "code",
   "execution_count": null,
   "id": "71817e25-1730-4165-960c-b47dbd9ac9fc",
   "metadata": {
    "tags": []
   },
   "outputs": [],
   "source": [
    "# curr_active_pipeline.filtered_sessions['track'].spikes_df.columns\n",
    "# curr_active_pipeline.filtered_sessions['track'].spikes_df.spikes.time_variable_name\n",
    "_debug_print_spikes_df_column_info(curr_active_pipeline.filtered_sessions['track'].spikes_df)"
   ]
  },
  {
   "cell_type": "code",
   "execution_count": null,
   "id": "5d7bab5b-dcce-4691-9e7c-588a1dcfc02f",
   "metadata": {
    "scrolled": true
   },
   "outputs": [],
   "source": [
    "curr_active_pipeline.sess.neurons._extended_neuron_properties_df"
   ]
  },
  {
   "cell_type": "markdown",
   "id": "5363ffd9-88c3-48cc-a0c1-82bfdbd81b4a",
   "metadata": {
    "jp-MarkdownHeadingCollapsed": true,
    "pycharm": {
     "name": "#%%\n"
    },
    "tags": []
   },
   "source": [
    "## 💾 Save out the changes to the pipeline after computation to the pickle file for easy loading in the future:"
   ]
  },
  {
   "cell_type": "code",
   "execution_count": null,
   "id": "251351de-93b1-422b-a381-4c81f7e016cd",
   "metadata": {
    "pycharm": {
     "is_executing": false
    },
    "tags": []
   },
   "outputs": [],
   "source": [
    "curr_active_pipeline.pickle_path"
   ]
  },
  {
   "cell_type": "code",
   "execution_count": null,
   "id": "256d2f21-84da-4606-98f3-4e09d2ce5e01",
   "metadata": {
    "pycharm": {
     "is_executing": false
    },
    "tags": []
   },
   "outputs": [],
   "source": [
    "curr_active_pipeline.save_pipeline(active_pickle_filename='loadedSessPickle-2022-10-22.pkl')"
   ]
  },
  {
   "cell_type": "code",
   "execution_count": null,
   "id": "c83e27f0-431e-4f69-be97-0bec2d737940",
   "metadata": {
    "pycharm": {
     "is_executing": false
    },
    "tags": []
   },
   "outputs": [],
   "source": [
    "curr_active_pipeline.save_pipeline()"
   ]
  },
  {
   "cell_type": "markdown",
   "id": "75cbbfa0",
   "metadata": {
    "tags": []
   },
   "source": [
    "# Common: Multiple Context Explorations"
   ]
  },
  {
   "cell_type": "code",
   "execution_count": null,
   "id": "b7db18a4-d7ad-4682-a421-4cf9258d7415",
   "metadata": {
    "tags": []
   },
   "outputs": [],
   "source": [
    "from pyphoplacecellanalysis.GUI.Qt.Widgets.ProgrammaticPipelineWidget.ProgrammaticPipelineWidget import ProgrammaticPipelineWidget\n",
    "widget = ProgrammaticPipelineWidget(owning_pipeline=curr_active_pipeline)\n",
    "widget.show()\n",
    "widget"
   ]
  },
  {
   "cell_type": "code",
   "execution_count": null,
   "id": "f1169f08-19cf-4c56-af7c-812cfd44d07d",
   "metadata": {
    "tags": []
   },
   "outputs": [],
   "source": [
    "# spike_raster_plt_2d, spike_raster_plt_3d, spike_raster_window = widget.last_added_display_output['spike_raster_plt_2d'], widget.last_added_display_output['spike_raster_plt_3d'], widget.last_added_display_output['spike_raster_window'] # Extract variables from the `target_dict` dictionary to the local workspace\n",
    "spike_raster_window = widget.last_added_display_output['spike_raster_window']\n",
    "# Extras:\n",
    "active_2d_plot = spike_raster_window.spike_raster_plt_2d # <pyphoplacecellanalysis.GUI.PyQtPlot.Widgets.SpikeRasterWidgets.Spike2DRaster.Spike2DRaster at 0x196c7244280>\n",
    "active_3d_plot = spike_raster_window.spike_raster_plt_3d # <pyphoplacecellanalysis.GUI.PyQtPlot.Widgets.SpikeRasterWidgets.Spike2DRaster.Spike2DRaster at 0x196c7244280>\n",
    "main_graphics_layout_widget = active_2d_plot.ui.main_graphics_layout_widget # GraphicsLayoutWidget\n",
    "main_plot_widget = active_2d_plot.plots.main_plot_widget # PlotItem\n",
    "background_static_scroll_plot_widget = active_2d_plot.plots.background_static_scroll_window_plot # PlotItem"
   ]
  },
  {
   "cell_type": "code",
   "execution_count": null,
   "id": "7530f502-38ba-42af-b13f-fdba193421fa",
   "metadata": {
    "tags": []
   },
   "outputs": [],
   "source": [
    "active_2d_plot.clear_all_rendered_intervals()"
   ]
  },
  {
   "cell_type": "code",
   "execution_count": null,
   "id": "a368ce25-5329-4b2c-82b6-0921415264d1",
   "metadata": {
    "tags": []
   },
   "outputs": [],
   "source": []
  },
  {
   "cell_type": "code",
   "execution_count": null,
   "id": "0fbc2d30-1f3e-45dc-8c6f-e56ec405e3aa",
   "metadata": {
    "tags": []
   },
   "outputs": [],
   "source": [
    "def Action1():\n",
    "    print('You selected Action 1')\n",
    "\n",
    "def Action2():\n",
    "    print('You selected Action 2')\n",
    "\n",
    "menu = QtGui.QMenu()\n",
    "menu.addAction('This is Action 1', Action1)\n",
    "menu.addAction('This is Action 2', Action2)\n",
    "spike_raster_window.ui.bottomPlaybackControlBarWidget.ui.btnCurrentIntervals_Customize.setMenu(menu)"
   ]
  },
  {
   "cell_type": "code",
   "execution_count": null,
   "id": "ad23f4b5-c37e-4d7f-a599-6b47a9fb6ee7",
   "metadata": {
    "tags": []
   },
   "outputs": [],
   "source": [
    "spike_raster_window.ui.bottomPlaybackControlBarWidget.current_selected_jump_target_series_name"
   ]
  },
  {
   "cell_type": "code",
   "execution_count": null,
   "id": "24241ba0-7fb9-4de6-ab55-61ffce9c06c7",
   "metadata": {
    "tags": []
   },
   "outputs": [],
   "source": [
    "active_2d_plot.remove_rendered_intervals(name=spike_raster_window.ui.bottomPlaybackControlBarWidget.current_selected_jump_target_series_name)"
   ]
  },
  {
   "cell_type": "code",
   "execution_count": null,
   "id": "f137e82f-97ba-4452-8e80-9d3d1bf66756",
   "metadata": {
    "tags": []
   },
   "outputs": [],
   "source": []
  },
  {
   "cell_type": "code",
   "execution_count": null,
   "id": "db7aa75a-3fbf-4a11-97c9-54b89e304514",
   "metadata": {
    "tags": []
   },
   "outputs": [],
   "source": [
    "active_2d_plot.list_all_rendered_intervals()"
   ]
  },
  {
   "cell_type": "code",
   "execution_count": null,
   "id": "9d6d4be8-65ba-4948-9037-af050da5f577",
   "metadata": {
    "tags": []
   },
   "outputs": [],
   "source": [
    "from pyphoplacecellanalysis.General.Mixins.SpikesRenderingBaseMixin import SpikeEmphasisState\n",
    "is_spike_included = active_2d_plot.spikes_df.aclu.to_numpy() == 4\n",
    "active_2d_plot.update_spike_emphasis(np.logical_not(is_spike_included), SpikeEmphasisState.Deemphasized)\n"
   ]
  },
  {
   "cell_type": "code",
   "execution_count": null,
   "id": "3cd42124-9084-4c25-aba3-55406d171e55",
   "metadata": {
    "tags": []
   },
   "outputs": [],
   "source": [
    "active_2d_plot.reset_spike_emphasis()"
   ]
  },
  {
   "cell_type": "markdown",
   "id": "b1b8405b-45b3-440a-aea8-5441adeaa380",
   "metadata": {
    "tags": []
   },
   "source": [
    "Traceback (most recent call last):\n",
    "  File \"/Users/pho/repo/Python Projects/pyPhoPlaceCellAnalysis/src/pyphoplacecellanalysis/GUI/Qt/Widgets/ProgrammaticPipelineWidget/ProgrammaticPipelineWidget.py\", line 195, in <lambda>\n",
    "    _newToolFunction = lambda isChecked, bound_function_name=function_name: self._perform_run_display_function(bound_function_name)\n",
    "  File \"/Users/pho/repo/Python Projects/pyPhoPlaceCellAnalysis/src/pyphoplacecellanalysis/GUI/Qt/Widgets/ProgrammaticPipelineWidget/ProgrammaticPipelineWidget.py\", line 207, in _perform_run_display_function\n",
    "    display_outputs = self.owning_pipeline.display(curr_display_fcn, self.ui.contextSelectorWidget.current_selected_context, **custom_args)\n",
    "  File \"/Users/pho/repo/Python Projects/pyPhoPlaceCellAnalysis/src/pyphoplacecellanalysis/General/Pipeline/Stages/Display.py\", line 324, in display\n",
    "    curr_display_output = display_function(self.computation_results[active_session_configuration_name], self.active_configs[active_session_configuration_name], owning_pipeline=self, active_config_name=active_session_configuration_name, **kwargs)\n",
    "  File \"/Users/pho/repo/Python Projects/pyPhoPlaceCellAnalysis/src/pyphoplacecellanalysis/General/Pipeline/Stages/DisplayFunctions/DecoderPredictionError.py\", line 234, in _display_plot_decoded_epoch_slices\n",
    "    filter_epochs_decoder_result = active_decoder.decode_specific_epochs(computation_result.sess.spikes_df, filter_epochs=active_filter_epochs, decoding_time_bin_size=decoding_time_bin_size, debug_print=False)\n",
    "  File \"/Users/pho/repo/Python Projects/pyPhoPlaceCellAnalysis/src/pyphoplacecellanalysis/Analysis/Decoder/reconstruction.py\", line 786, in decode_specific_epochs\n",
    "    return self.perform_decode_specific_epochs(self, spikes_df=spikes_df, filter_epochs=filter_epochs, decoding_time_bin_size=decoding_time_bin_size, debug_print=debug_print)\n",
    "  File \"/Users/pho/repo/Python Projects/pyPhoPlaceCellAnalysis/src/pyphoplacecellanalysis/Analysis/Decoder/reconstruction.py\", line 860, in perform_decode_specific_epochs\n",
    "    spkcount, nbins, time_bin_containers_list = epochs_spkcount(filter_epoch_spikes_df, filter_epochs, decoding_time_bin_size, slideby=decoding_time_bin_size, export_time_bins=True, included_neuron_ids=active_decoder.neuron_IDs, debug_print=debug_print) ## time_bins returned are not correct, they're subsampled at a rate of 1000\n",
    "  File \"/Users/pho/repo/Python Projects/NeuroPy/neuropy/analyses/decoders.py\", line 119, in epochs_spkcount\n",
    "    bin_container = BinningContainer(edges=reduced_time_bin_edges)\n",
    "  File \"/Users/pho/repo/Python Projects/NeuroPy/neuropy/utils/mixins/binning_helpers.py\", line 67, in __init__\n",
    "    self.center_info = BinningContainer.build_center_binning_info(self.centers, self.edge_info.variable_extents)\n",
    "  File \"/Users/pho/repo/Python Projects/NeuroPy/neuropy/utils/mixins/binning_helpers.py\", line 80, in build_center_binning_info\n",
    "    actual_window_size = centers[2] - centers[1]\n",
    "IndexError: index 2 is out of bounds for axis 0 with size 2"
   ]
  },
  {
   "cell_type": "markdown",
   "id": "59d637a0-06ff-48a4-9437-8c7495762f1e",
   "metadata": {
    "pycharm": {
     "name": "#%%\n"
    },
    "tags": []
   },
   "source": [
    "# Common: Single Context(Session, Filter) - active_identifying_filtered_session_ctx\n",
    "Acts on a single specific filter `active_config_name`. Everything below this line will require a valid `active_config_name` to be set."
   ]
  },
  {
   "cell_type": "code",
   "execution_count": null,
   "id": "b0d782dc-ec5d-43d3-a079-9ad33aca67d9",
   "metadata": {},
   "outputs": [],
   "source": [
    "# %%viztracer\n",
    "\n",
    "active_identifying_session_ctx = curr_active_pipeline.sess.get_context() # 'bapun_RatN_Day4_2019-10-15_11-30-06'\n",
    "\n",
    "## MATPLOTLIB Imports:\n",
    "import matplotlib\n",
    "# configure backend here\n",
    "matplotlib.use('Qt5Agg')\n",
    "# backend_qt5agg\n",
    "# matplotlib.use('AGG') # non-interactive backend\n",
    "## 2022-08-16 - Surprisingly this works to make the matplotlib figures render only to .png file, not appear on the screen!\n",
    "import matplotlib.pyplot as plt\n",
    "import matplotlib as mpl\n",
    "from neuropy.utils.matplotlib_helpers import enumTuningMap2DPlotVariables # for getting the variant name from the dict\n",
    "_bak_rcParams = mpl.rcParams.copy()\n",
    "mpl.rcParams['toolbar'] = 'None' # disable toolbars\n",
    "\n",
    "debug_print = False\n",
    "# print(f'curr_active_pipeline.filtered_contexts: {curr_active_pipeline.filtered_contexts}')\n",
    "# print(f'curr_active_pipeline.display_output: {curr_active_pipeline.display_output}')\n",
    "\n",
    "# ## Old way:\n",
    "# # Create `master_dock_win` - centralized plot output window to collect individual figures/controls in (2022-08-18) \n",
    "# out_items = {}\n",
    "# master_dock_win, app, out_items = context_nested_docks(curr_active_pipeline, enable_gui=False, debug_print=True)\n",
    "\n",
    "\n",
    "### 🟢✅ SETTING THE ACTIVE CONFIG NAME:\n",
    "\n",
    "# active_config_name = 'maze1'\n",
    "# active_config_name = 'maze2'\n",
    "# active_config_name = 'maze'\n",
    "# active_config_name = 'sprinkle'\n",
    "\n",
    "# active_config_name = 'maze_PYR'\n",
    "\n",
    "# active_config_name = 'maze1_rippleOnly'\n",
    "# active_config_name = 'maze2_rippleOnly'\n",
    "\n",
    "# active_config_name = curr_active_pipeline.active_config_names[0] # get the first name by default\n",
    "active_config_name = curr_active_pipeline.active_config_names[-1] # get the last name\n",
    "print(f'active_config_name: {active_config_name}')\n",
    "\n",
    "## Add the filter to the active context\n",
    "# active_identifying_filtered_session_ctx = active_identifying_session_ctx.adding_context('filter', filter_name=active_config_name) # 'bapun_RatN_Day4_2019-10-15_11-30-06_maze'\n",
    "active_identifying_filtered_session_ctx = curr_active_pipeline.filtered_contexts[active_config_name] # 'bapun_RatN_Day4_2019-10-15_11-30-06_maze'\n",
    "\n",
    "# Get relevant variables:\n",
    "# curr_active_pipeline is set above, and usable here\n",
    "sess: DataSession = curr_active_pipeline.filtered_sessions[active_config_name]\n",
    "\n",
    "active_computation_results = curr_active_pipeline.computation_results[active_config_name]\n",
    "active_computed_data = curr_active_pipeline.computation_results[active_config_name].computed_data\n",
    "active_computation_config = curr_active_pipeline.computation_results[active_config_name].computation_config\n",
    "active_computation_errors = curr_active_pipeline.computation_results[active_config_name].accumulated_errors\n",
    "print(f'active_computed_data.keys(): {list(active_computed_data.keys())}')\n",
    "print(f'active_computation_errors: {active_computation_errors}')\n",
    "active_pf_1D = curr_active_pipeline.computation_results[active_config_name].computed_data['pf1D']\n",
    "active_pf_2D = curr_active_pipeline.computation_results[active_config_name].computed_data['pf2D']\n",
    "active_pf_1D_dt = curr_active_pipeline.computation_results[active_config_name].computed_data.get('pf1D_dt', None)\n",
    "active_pf_2D_dt = curr_active_pipeline.computation_results[active_config_name].computed_data.get('pf2D_dt', None)\n",
    "active_firing_rate_trends = curr_active_pipeline.computation_results[active_config_name].computed_data.get('firing_rate_trends', None)\n",
    "active_one_step_decoder = curr_active_pipeline.computation_results[active_config_name].computed_data.get('pf2D_Decoder', None)\n",
    "active_two_step_decoder = curr_active_pipeline.computation_results[active_config_name].computed_data.get('pf2D_TwoStepDecoder', None)\n",
    "active_recursive_latent_pf_1Ds = curr_active_pipeline.computation_results[active_config_name].computed_data.get('pf1D_RecursiveLatent', None) # list\n",
    "active_recursive_latent_pf_2Ds = curr_active_pipeline.computation_results[active_config_name].computed_data.get('pf2D_RecursiveLatent', None) # list\n",
    "\n",
    "active_extended_stats = curr_active_pipeline.computation_results[active_config_name].computed_data.get('extended_stats', None)\n",
    "active_eloy_analysis = curr_active_pipeline.computation_results[active_config_name].computed_data.get('EloyAnalysis', None)\n",
    "active_simpler_pf_densities_analysis = curr_active_pipeline.computation_results[active_config_name].computed_data.get('SimplerNeuronMeetingThresholdFiringAnalysis', None)\n",
    "active_ratemap_peaks_analysis = curr_active_pipeline.computation_results[active_config_name].computed_data.get('RatemapPeaksAnalysis', None)\n",
    "active_peak_prominence_2d_results = curr_active_pipeline.computation_results[active_config_name].computed_data.get('RatemapPeaksAnalysis', {}).get('PeakProminence2D', None)\n",
    "active_measured_positions = curr_active_pipeline.computation_results[active_config_name].sess.position.to_dataframe()\n",
    "curr_spikes_df = sess.spikes_df\n",
    "\n",
    "curr_active_config = curr_active_pipeline.active_configs[active_config_name]\n",
    "curr_active_display_config = curr_active_config.plotting_config\n",
    "\n",
    "active_display_output = curr_active_pipeline.display_output[active_identifying_filtered_session_ctx]\n",
    "print(f'active_display_output: {active_display_output}')\n",
    "\n",
    "# Create `master_dock_win` - centralized plot output window to collect individual figures/controls in (2022-08-18)\n",
    "display_output = active_display_output | curr_active_pipeline.display('_display_context_nested_docks', active_identifying_session_ctx, enable_gui=False, debug_print=True) # returns {'master_dock_win': master_dock_win, 'app': app, 'out_items': out_items}\n",
    "master_dock_win = display_output['master_dock_win']\n",
    "app = display_output['app']\n",
    "out_items = display_output['out_items']\n",
    "\n",
    "def _get_curr_figure_format_config():\n",
    "    \"\"\" Aims to fetch the current figure_format_config and context from the figure_format_config widget:    \n",
    "    Implicitly captures: `out_items`, `active_config_name`, `active_identifying_filtered_session_ctx` \n",
    "    \"\"\"\n",
    "    ## Get the figure_format_config from the figure_format_config widget:\n",
    "    # Fetch the context from the GUI:\n",
    "    _curr_gui_session_ctx, _curr_gui_out_display_items = out_items[active_config_name]\n",
    "    _curr_gui_figure_format_config_widget = _curr_gui_out_display_items[active_identifying_filtered_session_ctx.adding_context('display_fn', display_fn_name='figure_format_config_widget')] # [0] is seemingly not needed to unpack the tuple\n",
    "    if _curr_gui_figure_format_config_widget is not None:\n",
    "        # has GUI for config\n",
    "        figure_format_config = _curr_gui_figure_format_config_widget.figure_format_config\n",
    "    else:\n",
    "        # has non-GUI provider of figure_format_config\n",
    "        figure_format_config = _curr_gui_figure_format_config_widget.figure_format_config\n",
    "    \n",
    "    if debug_print:\n",
    "        print(f'recovered gui figure_format_config: {figure_format_config}')\n",
    "        \n",
    "    return figure_format_config\n",
    "\n",
    "figure_format_config = _get_curr_figure_format_config()\n",
    "\n",
    "## PDF Output, NOTE this is single plot stuff: uses active_config_name\n",
    "from matplotlib.backends import backend_pdf, backend_pgf, backend_ps\n",
    "from pyphoplacecellanalysis.General.Mixins.ExportHelpers import build_pdf_export_metadata\n",
    "\n",
    "filter_name = active_config_name\n",
    "_build_pdf_pages_output_info, programmatic_display_function_testing_output_parent_path = build_pdf_export_metadata(curr_active_pipeline.sess.get_description(), filter_name=filter_name)\n",
    "print(f'Figure Output path: {str(programmatic_display_function_testing_output_parent_path)}')"
   ]
  },
  {
   "cell_type": "code",
   "execution_count": null,
   "id": "4ca66337-c4aa-4ea2-89ae-5b8c82e637f1",
   "metadata": {},
   "outputs": [],
   "source": [
    "# active_computation_results[filter_name]\n",
    "active_firing_rate_trends = active_computed_data['firing_rate_trends']\n",
    "list(active_firing_rate_trends.keys()) # ['active_rolling_window_times', 'mean_firing_rates', 'desired_window_length_seconds', 'desired_window_length_bins', 'active_firing_rates_df', 'moving_mean_firing_rates_df']\n",
    "\n",
    "active_firing_rate_trends.all_session_spikes['instantaneous_unit_specific_spike_rate'] = None #['instantaneous_unit_specific_spike_rate']"
   ]
  },
  {
   "cell_type": "code",
   "execution_count": null,
   "id": "1dc27bf5-09cf-4324-8b88-3cb651ace21e",
   "metadata": {},
   "outputs": [],
   "source": [
    "active_extended_stats."
   ]
  },
  {
   "cell_type": "code",
   "execution_count": null,
   "id": "579c646c-9155-4cb1-aadb-596961e531b8",
   "metadata": {},
   "outputs": [],
   "source": [
    " # plot_data = pd.DataFrame({'t': curr_sess.mua.time, 'mua_firing_rate': curr_sess.mua.firing_rate, 'mua_spike_counts': curr_sess.mua.spike_counts})\n",
    "plot_data = pd.DataFrame({'t': sess.mua.time, 'mua_firing_rate': sess.mua.firing_rate})\n",
    "active_3d_plot.add_3D_time_curves(plot_dataframe=plot_data)\n",
    "# active_3d_plot.add_3D_time_curves(plot_data)"
   ]
  },
  {
   "cell_type": "markdown",
   "id": "bcb24b7e-5752-4b04-b09f-dca569e3912c",
   "metadata": {
    "jp-MarkdownHeadingCollapsed": true,
    "tags": []
   },
   "source": [
    "### Plots for each (session, filter):\n",
    "🔜 NEXT STEP: TODO: 2022-08-10 - Got the ratemaps plotting working for all filters and those combined into a single window (with items docked) using `_build_docked_pf_2D_figures_widget`. Now need to add more plots, like the `DecoderPlotSelectorWidget`"
   ]
  },
  {
   "cell_type": "code",
   "execution_count": null,
   "id": "ac0ccfb7-1aa6-4136-b454-62b77c0e2355",
   "metadata": {},
   "outputs": [],
   "source": [
    "from PendingNotebookCode import spike_count_and_firing_rate_normalizations\n",
    "\n",
    "# pho_custom_decoder = curr_active_pipeline.computation_results['maze1'].computed_data['pf2D_Decoder']\n",
    "pho_custom_decoder = active_computed_data['pf2D_Decoder']\n",
    "enable_plots = True\n",
    "\n",
    "print(f'most_likely_positions: {np.shape(pho_custom_decoder.most_likely_positions)}') # most_likely_positions: (3434, 2)\n",
    "unit_specific_time_binned_outputs = spike_count_and_firing_rate_normalizations(pho_custom_decoder, enable_plots=enable_plots)\n",
    "spike_proportion_global_fr_normalized, firing_rate, firing_rate_global_fr_normalized = unit_specific_time_binned_outputs # unwrap the output tuple:\n",
    "\n",
    "# pho_custom_decoder.unit_specific_time_binned_spike_counts.shape # (64, 1717)\n",
    "unit_specific_binned_spike_count_mean = np.nanmean(pho_custom_decoder.unit_specific_time_binned_spike_counts, axis=1)\n",
    "unit_specific_binned_spike_count_var = np.nanvar(pho_custom_decoder.unit_specific_time_binned_spike_counts, axis=1)\n",
    "unit_specific_binned_spike_count_median = np.nanmedian(pho_custom_decoder.unit_specific_time_binned_spike_counts, axis=1)\n",
    "\n",
    "unit_specific_binned_spike_count_mean\n",
    "unit_specific_binned_spike_count_median"
   ]
  },
  {
   "cell_type": "markdown",
   "id": "ba2fac46-a6c6-4519-be64-e83711e9a8a8",
   "metadata": {
    "jp-MarkdownHeadingCollapsed": true,
    "tags": []
   },
   "source": [
    "## 🚧🟨🔜 TODO 2022-08-18: refactor curr_active_pipeline.display(...) to take a IdentifyingContext instead of the inputs it currently takes"
   ]
  },
  {
   "cell_type": "code",
   "execution_count": null,
   "id": "7bf7c24b-9791-465f-897d-c7eb89aacaa1",
   "metadata": {},
   "outputs": [],
   "source": [
    "# @capture_new_figures_decorator\n",
    "def _display_specified__display_2d_placefield_result_plot_ratemaps_2D(filter_name, debug_print=True):\n",
    "    \"\"\" Implicitly captures out_items, `active_identifying_filtered_session_ctx` \"\"\"\n",
    "    ## Add the filter to the active context\n",
    "    active_identifying_display_ctx = active_identifying_filtered_session_ctx.adding_context('display_fn', display_fn_name='_display_2d_placefield_result_plot_ratemaps_2D')\n",
    "\n",
    "    # Fetch the context from the GUI:\n",
    "    figure_format_config = _get_curr_figure_format_config()\n",
    "    \n",
    "    active_filter_pf_2D_figures = {}\n",
    "    active_identifying_ctx = active_identifying_display_ctx.adding_context('plot_variable', variable_name=enumTuningMap2DPlotVariables.TUNING_MAPS)\n",
    "    active_identifying_ctx_string = active_identifying_ctx.get_description(separator='|') # Get final discription string\n",
    "    if debug_print:\n",
    "        print(f'active_identifying_ctx_string: {active_identifying_ctx_string}')\n",
    "    \n",
    "    active_filter_pf_2D_figures['TUNING_MAPS'] = curr_active_pipeline.display('_display_2d_placefield_result_plot_ratemaps_2D', filter_name, plot_variable=enumTuningMap2DPlotVariables.TUNING_MAPS, fignum=active_identifying_ctx_string, **figure_format_config)[0]\n",
    "    return active_filter_pf_2D_figures\n",
    "\n",
    "active_pf_2D_figures = {}\n",
    "active_pf_2D_figures[active_config_name] = _display_specified__display_2d_placefield_result_plot_ratemaps_2D(filter_name=active_config_name)\n",
    "\n",
    "# active_pf_2D_figures\n",
    "# {'maze1': {'SPIKES_MAPS': <Figure size 1728x1080 with 88 Axes>,\n",
    "#   'TUNING_MAPS': <Figure size 1728x1080 with 88 Axes>},\n",
    "#  'maze2': {'SPIKES_MAPS': <Figure size 1728x864 with 71 Axes>,\n",
    "#   'TUNING_MAPS': <Figure size 1728x864 with 71 Axes>}}\n",
    "\n",
    "#### Build Output Docked Window\n",
    "from PendingNotebookCode import _build_docked_pf_2D_figures_widget\n",
    "# win, all_dock_display_items, all_nested_dock_area_widgets, all_nested_dock_area_widget_display_items = _build_docked_pf_2D_figures_widget(active_pf_2D_figures, should_nest_figures_on_filter=True, extant_dockAreaWidget=None, debug_print=False)\n",
    "win, all_dock_display_items, all_nested_dock_area_widgets, all_nested_dock_area_widget_display_items = _build_docked_pf_2D_figures_widget(active_pf_2D_figures, should_nest_figures_on_filter=False, extant_dockAreaWidget=master_dock_win, debug_print=False)"
   ]
  },
  {
   "cell_type": "markdown",
   "id": "47694715-4894-42e2-8731-d146748c1d05",
   "metadata": {
    "scene__Default Scene": true,
    "tags": [
     "ActiveScene"
    ]
   },
   "source": [
    "# Main Visualization GUIs"
   ]
  },
  {
   "cell_type": "markdown",
   "id": "c664c89c-1e98-4184-bac1-ed93301be0b4",
   "metadata": {
    "jp-MarkdownHeadingCollapsed": true,
    "pycharm": {
     "is_executing": false,
     "name": "#%%\n"
    },
    "tags": []
   },
   "source": [
    "## 🪟 3D Interactive Spike Raster Window"
   ]
  },
  {
   "cell_type": "code",
   "execution_count": null,
   "id": "27472c13-a622-423b-8d55-2518e1b51a04",
   "metadata": {
    "pycharm": {
     "is_executing": false,
     "name": "#%%\n"
    },
    "scene__Default Scene": true,
    "tags": [
     "ActiveScene",
     "gui",
     "launch",
     "main_run"
    ]
   },
   "outputs": [],
   "source": [
    "# from pyphoplacecellanalysis.GUI.PyQtPlot.Widgets.Mixins.RenderTimeEpochs.Specific2DRenderTimeEpochs import Specific2DRenderTimeEpochsHelper\n",
    "from pyphoplacecellanalysis.General.Model.Datasources.IntervalDatasource import IntervalsDatasource\n",
    "from pyphoplacecellanalysis.General.Model.RenderDataseries import RenderDataseries\n",
    "from pyphoplacecellanalysis.General.Model.Datasources.CurveDatasource import CurveDatasource # only used in build_test_2D_time_curves for future implementation\n",
    "from pyphoplacecellanalysis.General.Mixins.DisplayHelpers import debug_print_axes_locations\n",
    "from pyphoplacecellanalysis.GUI.Qt.SpikeRasterWindows.Spike3DRasterWindowWidget import Spike3DRasterWindowWidget\n",
    "\n",
    "display_output = active_display_output | curr_active_pipeline.display('_display_spike_rasters_window', active_identifying_filtered_session_ctx, type_of_3d_plotter=None) # , type_of_3d_plotter=None\n",
    "spike_raster_window = display_output['spike_raster_window']\n",
    "# Extras:\n",
    "active_2d_plot = spike_raster_window.spike_raster_plt_2d # <pyphoplacecellanalysis.GUI.PyQtPlot.Widgets.SpikeRasterWidgets.Spike2DRaster.Spike2DRaster at 0x196c7244280>\n",
    "active_3d_plot = spike_raster_window.spike_raster_plt_3d # <pyphoplacecellanalysis.GUI.PyQtPlot.Widgets.SpikeRasterWidgets.Spike2DRaster.Spike2DRaster at 0x196c7244280>\n",
    "main_graphics_layout_widget = active_2d_plot.ui.main_graphics_layout_widget # GraphicsLayoutWidget\n",
    "main_plot_widget = active_2d_plot.plots.main_plot_widget # PlotItem\n",
    "background_static_scroll_plot_widget = active_2d_plot.plots.background_static_scroll_window_plot # PlotItem"
   ]
  },
  {
   "cell_type": "markdown",
   "id": "e09cb3d9-3918-4582-9726-b6b90f60f687",
   "metadata": {
    "jp-MarkdownHeadingCollapsed": true,
    "pycharm": {
     "is_executing": false,
     "name": "#%%\n"
    },
    "tags": []
   },
   "source": [
    "## 🪟 ipcDataExplorer - 3D Interactive Tuning Curves Plotter"
   ]
  },
  {
   "cell_type": "code",
   "execution_count": null,
   "id": "bd6b4aa0-49aa-4835-bb93-8757b26b6d86",
   "metadata": {
    "pycharm": {
     "is_executing": false,
     "name": "#%%\n"
    },
    "tags": []
   },
   "outputs": [],
   "source": [
    "pActiveTuningCurvesPlotter = None\n",
    "\n",
    "zScalingFactor = 2000.0 # worked well before with default params\n",
    "# zScalingFactor = 50.0 # worked well before with default params\n",
    "display_output = display_output | curr_active_pipeline.display('_display_3d_interactive_tuning_curves_plotter', active_config_name, extant_plotter=display_output.get('pActiveTuningCurvesPlotter', None), panel_controls_mode='Qt', should_nan_non_visited_elements=False, zScalingFactor=zScalingFactor, separate_window=False)\n",
    "ipcDataExplorer = display_output['ipcDataExplorer']\n",
    "display_output['pActiveTuningCurvesPlotter'] = display_output.pop('plotter') # rename the key from the generic \"plotter\" to \"pActiveSpikesBehaviorPlotter\" to avoid collisions with others\n",
    "pActiveTuningCurvesPlotter = display_output['pActiveTuningCurvesPlotter']\n",
    "root_dockAreaWindow, placefieldControlsContainerWidget, pf_widgets = display_output['pane'] # for Qt mode:"
   ]
  },
  {
   "cell_type": "markdown",
   "id": "5780219e-f3f0-4184-ad7e-c2d6111adadb",
   "metadata": {
    "jp-MarkdownHeadingCollapsed": true,
    "pycharm": {
     "is_executing": false,
     "name": "#%%\n"
    },
    "tags": []
   },
   "source": [
    "## 🪟 ipspikesDataExplorer - 3D Interactive Spike and Behavior Plotter"
   ]
  },
  {
   "cell_type": "code",
   "execution_count": null,
   "id": "3ac70061-9e27-48cc-ae89-b01836c3d4c2",
   "metadata": {
    "pycharm": {
     "is_executing": false,
     "name": "#%%\n"
    },
    "scrolled": true
   },
   "outputs": [],
   "source": [
    "pActiveSpikesBehaviorPlotter = None\n",
    "active_display_output = active_display_output | curr_active_pipeline.display('_display_3d_interactive_spike_and_behavior_browser', active_config_name, extant_plotter=active_display_output.get('pActiveSpikesBehaviorPlotter', None)) # Works now!\n",
    "ipspikesDataExplorer = active_display_output['ipspikesDataExplorer']\n",
    "active_display_output['pActiveSpikesBehaviorPlotter'] = active_display_output.pop('plotter') # rename the key from the generic \"plotter\" to \"pActiveSpikesBehaviorPlotter\" to avoid collisions with others\n",
    "pActiveSpikesBehaviorPlotter = active_display_output['pActiveSpikesBehaviorPlotter']"
   ]
  },
  {
   "cell_type": "code",
   "execution_count": null,
   "id": "24475e51-ead6-46bd-a5a4-229af9257e74",
   "metadata": {
    "pycharm": {
     "is_executing": false,
     "name": "#%%\n"
    },
    "scrolled": true
   },
   "outputs": [],
   "source": [
    "## Sync ipspikesDataExplorer to raster window:\n",
    "extra_interactive_spike_behavior_browser_sync_connection = spike_raster_window.connect_additional_controlled_plotter(controlled_plt=ipspikesDataExplorer)\n",
    "# extra_interactive_spike_behavior_browser_sync_connection = _connect_additional_controlled_plotter(spike_raster_window.spike_raster_plt_2d, ipspikesDataExplorer)"
   ]
  },
  {
   "cell_type": "code",
   "execution_count": null,
   "id": "10e0ca25-4ba8-4327-9d18-5b420648cb28",
   "metadata": {},
   "outputs": [],
   "source": [
    "list(active_peak_prominence_2d_results.keys())\n",
    "active_peak_prominence_2d_results.filtered_flat_peaks_df.columns # ['neuron_id', 'neuron_peak_firing_rate', 'summit_idx', 'summit_slice_idx', 'slice_level_multiplier', 'summit_slice_level', 'peak_relative_height', 'peak_prominence', 'peak_center_x', 'peak_center_y', 'summit_slice_x_width', 'summit_slice_y_width', 'summit_slice_center_x', 'summit_slice_center_y', 'peak_height', 'peak_center_binned_x', 'peak_center_binned_y', 'peak_center_avg_speed', 'peak_nearest_directional_boundary_bins', 'peak_nearest_directional_boundary_displacements', 'peak_nearest_directional_boundary_distances', 'nearest_directional_boundary_direction_idx', 'nearest_directional_boundary_direction_distance', 'nearest_x_boundary_distance', 'nearest_y_boundary_distance']"
   ]
  },
  {
   "cell_type": "markdown",
   "id": "bdb20fe4-7557-4068-8db0-f6f531cfa9e2",
   "metadata": {
    "tags": []
   },
   "source": [
    "# 👁️‍🗨️🟢2022-10-23 - Comparison Across Contexts:"
   ]
  },
  {
   "cell_type": "markdown",
   "id": "87795229-59c8-4dea-b56f-2c69ee757d83",
   "metadata": {},
   "source": [
    "`_display_context_nested_docks` already produces a window with docked sub-entries that can be used to show results across contexts."
   ]
  },
  {
   "cell_type": "code",
   "execution_count": null,
   "id": "def1cc0d-377a-41a6-b7a2-e67d21fc6047",
   "metadata": {},
   "outputs": [],
   "source": [
    "# active_one_step_decoder = curr_active_pipeline.computation_results[active_config_name].computed_data.get('pf2D_Decoder', None)\n",
    "# active_two_step_decoder = curr_active_pipeline.computation_results[active_config_name].computed_data.get('pf2D_TwoStepDecoder', None)\n",
    "# active_recursive_latent_pf_1Ds = curr_active_pipeline.computation_results[active_config_name].computed_data.get('pf1D_RecursiveLatent', None) # list\n",
    "# active_recursive_latent_pf_2Ds = curr_active_pipeline.computation_results[active_config_name].computed_data.get('pf2D_RecursiveLatent', None) # list\n",
    "\n",
    "# active_identifying_filtered_session_ctx = curr_active_pipeline.filtered_contexts[active_config_name] # 'bapun_RatN_Day4_2019-10-15_11-30-06_maze'"
   ]
  },
  {
   "cell_type": "code",
   "execution_count": null,
   "id": "f41233f6-57c0-4fc5-822c-82373130b380",
   "metadata": {},
   "outputs": [],
   "source": [
    "# active_identifying_filtered_session_ctx = curr_active_pipeline.filtered_contexts.maze1_PYR\n",
    "active_identifying_filtered_session_ctx = curr_active_pipeline.filtered_contexts.maze2_PYR\n",
    "_out = curr_active_pipeline.display('_display_recurrsive_latent_placefield_comparisons', active_identifying_filtered_session_ctx)\n",
    "curr_master_dock_win = _out['master_dock_win']\n",
    "curr_out_items = _out['out_items']"
   ]
  },
  {
   "cell_type": "code",
   "execution_count": null,
   "id": "0ed98d88-c975-4660-ab7c-f96f2da177f7",
   "metadata": {},
   "outputs": [],
   "source": [
    "from pyphoplacecellanalysis.Pho2D.matplotlib.CustomMatplotlibWidget import CustomMatplotlibWidget\n",
    "from pyphoplacecellanalysis.GUI.PyQtPlot.DockingWidgets.DynamicDockDisplayAreaContent import CustomDockDisplayConfig # for context_nested_docks/single_context_nested_docks\n",
    "from pyphoplacecellanalysis.GUI.PyQtPlot.DockingWidgets.DynamicDockDisplayAreaContent import CustomCyclicColorsDockDisplayConfig, NamedColorScheme\n"
   ]
  },
  {
   "cell_type": "code",
   "execution_count": null,
   "id": "11a1bd7a-2b18-44a9-a876-85eebe3c6af1",
   "metadata": {},
   "outputs": [],
   "source": [
    "## Example recovering a specific dock item:\n",
    "_last_dock_item = curr_out_items[active_identifying_filtered_session_ctx.adding_context('display_fn', decoder_order='first', display_fn_name='plot_ratemaps_2D')]\n",
    "_last_dock_item"
   ]
  },
  {
   "cell_type": "code",
   "execution_count": null,
   "id": "5439936e-4e04-40aa-b082-08031a66b60e",
   "metadata": {},
   "outputs": [],
   "source": [
    "# curr_master_dock_win.perform_create_new_relative_dock\n",
    "# from pyphocorehelpers\n",
    "# print_value_overview_only(list(curr_master_dock_win.dynamic_display_dict.values())[0])\n",
    "list(curr_master_dock_win.dynamic_display_dict.values())[0]\n",
    "# print_keys_if_possible('dynamic_display_dict', curr_master_dock_win.dynamic_display_dict)"
   ]
  },
  {
   "cell_type": "code",
   "execution_count": null,
   "id": "eb957738-b80e-4035-8d30-6220f3bc21ba",
   "metadata": {},
   "outputs": [],
   "source": [
    "all_collected_dock_items = curr_master_dock_win.get_flat_dockitems_list()\n",
    "all_collected_dock_items"
   ]
  },
  {
   "cell_type": "code",
   "execution_count": null,
   "id": "f87277dc-c586-416a-a6f2-64c22aaedf50",
   "metadata": {},
   "outputs": [],
   "source": [
    "a_dock_item = all_collected_dock_items[0]\n",
    "# a_dock_item.pos()\n",
    "a_dock_item.geometry() # PyQt5.QtCore.QRect(0, 48, 640, 432\n",
    "a_dock_item.setOrientation('horizontal', force=True)\n",
    "a_dock_item.updateStyle()"
   ]
  },
  {
   "cell_type": "code",
   "execution_count": null,
   "id": "4cce0a44-e307-4b74-b7d3-49c22f8761a1",
   "metadata": {},
   "outputs": [],
   "source": [
    "from pyphoplacecellanalysis.GUI.PyQtPlot.DockingWidgets.DynamicDockDisplayAreaContent import CustomCyclicColorsDockDisplayConfig, NamedColorScheme\n",
    "\n",
    "curr_config = CustomCyclicColorsDockDisplayConfig(named_color_scheme=NamedColorScheme.red)\n",
    "a_dock_item.label.config = curr_config\n",
    "a_dock_item.updateStyle()"
   ]
  },
  {
   "cell_type": "code",
   "execution_count": null,
   "id": "93b8c853-fbb6-4b5c-9618-4f26504a36a0",
   "metadata": {},
   "outputs": [],
   "source": [
    "[a_dock_item.geometry() for a_dock_item in all_collected_dock_items]"
   ]
  },
  {
   "cell_type": "code",
   "execution_count": null,
   "id": "43c23a08-b22b-4d66-94b4-9093dd858560",
   "metadata": {},
   "outputs": [],
   "source": [
    "curr_master_dock_win.displayDockArea.saveState()\n",
    "\n",
    "# {'main': ('vertical',\n",
    "#   [('dock', 'kdiba|2006-6-08_14-26-15|maze1_PYR|first|plot_occupancy', {}),\n",
    "#    ('dock', 'kdiba|2006-6-08_14-26-15|maze1_PYR|first|plot_ratemaps_2D', {}),\n",
    "#    ('dock', 'kdiba|2006-6-08_14-26-15|maze1_PYR|second|plot_occupancy', {}),\n",
    "#    ('dock', 'kdiba|2006-6-08_14-26-15|maze1_PYR|second|plot_ratemaps_2D', {}),\n",
    "#    ('dock', 'kdiba|2006-6-08_14-26-15|maze1_PYR|third|plot_occupancy', {}),\n",
    "#    ('dock', 'kdiba|2006-6-08_14-26-15|maze1_PYR|third|plot_ratemaps_2D', {})],\n",
    "#   {'sizes': [67, 266, 67, 266, 67, 266]}),\n",
    "#  'float': []}"
   ]
  },
  {
   "cell_type": "code",
   "execution_count": null,
   "id": "f00a58df-e541-423c-bb1e-b852bdc499b4",
   "metadata": {},
   "outputs": [],
   "source": [
    "curr_master_dock_win.get_flat_dockitems_list()"
   ]
  },
  {
   "cell_type": "code",
   "execution_count": null,
   "id": "5646cdeb-7829-4d0c-a6dc-395e9a2847c0",
   "metadata": {},
   "outputs": [],
   "source": [
    "fig.clear()\n",
    "fig\n",
    "\n",
    "mw.draw()"
   ]
  },
  {
   "cell_type": "code",
   "execution_count": null,
   "id": "72405e20-c79f-44e1-9050-1a15d9908949",
   "metadata": {},
   "outputs": [],
   "source": [
    "plt.subplots_adjust(bottom=0, top=1)\n",
    "mw.getFigure().set_facecolor('LightSteelBlue')\n",
    "mw.getFigure().set_edgecolor('Blue')\n",
    "mw.draw()\n",
    "\n"
   ]
  },
  {
   "cell_type": "code",
   "execution_count": null,
   "id": "b8b1f67a-37a9-422d-8020-27f7b0cd9a28",
   "metadata": {},
   "outputs": [],
   "source": [
    "subplot.set_title('Custom Occupancy')\n",
    "mw.draw()"
   ]
  },
  {
   "cell_type": "code",
   "execution_count": null,
   "id": "7ed834af-bf74-4fde-963f-d733a89f69e6",
   "metadata": {},
   "outputs": [],
   "source": [
    "# mw.ax\n",
    "# active_second_order_pf_2D.plot_occupancy()\n",
    "# active_second_order_pf_2D.plot_ratemaps_2D()\n",
    "\n",
    "active_first_order_2D_decoder = active_recursive_latent_pf_2Ds[0].get('pf2D_Decoder', None)\n",
    "active_second_order_2D_decoder = active_recursive_latent_pf_2Ds[1].get('pf2D_Decoder', None)\n",
    "active_third_order_2D_decoder = active_recursive_latent_pf_2Ds[2].get('pf2D_Decoder', None)"
   ]
  },
  {
   "cell_type": "code",
   "execution_count": null,
   "id": "da195edd-8594-461b-b9c4-5bd771cb0071",
   "metadata": {},
   "outputs": [],
   "source": []
  },
  {
   "cell_type": "code",
   "execution_count": null,
   "id": "3bfd5ca4-2c41-4131-a9f5-dd0ae100499a",
   "metadata": {},
   "outputs": [],
   "source": [
    "pf_neurons_either = np.union1d(active_first_order_2D_decoder.ratemap.neuron_ids, active_second_order_2D_decoder.ratemap.neuron_ids)\n",
    "pf_neurons_either = np.union1d(pf_neurons_either, active_third_order_2D_decoder.ratemap.neuron_ids) \n",
    "pf_neurons_either"
   ]
  },
  {
   "cell_type": "code",
   "execution_count": null,
   "id": "780993b0-5091-4ba3-835d-f39b51eaa1b2",
   "metadata": {},
   "outputs": [],
   "source": [
    "from pyphoplacecellanalysis.General.Mixins.CrossComputationComparisonHelpers import _compare_computation_results\n",
    "\n",
    "# pf_neurons_diff = _compare_computation_results(computation_results.maze1_PYR, computation_results.maze2_PYR)\n",
    "pf_neurons_diff = _compare_computation_results(curr_active_pipeline.computation_results['maze'], curr_active_pipeline.computation_results['sprinkle'])\n",
    "pf_neurons_diff"
   ]
  },
  {
   "cell_type": "code",
   "execution_count": null,
   "id": "b0eafcb1-2c1b-4711-a84b-4d1b5d18b20a",
   "metadata": {},
   "outputs": [],
   "source": [
    "print(list(pf_neurons_diff.either))"
   ]
  },
  {
   "cell_type": "code",
   "execution_count": null,
   "id": "08271e06-ccc8-4afb-912a-189c5daaba03",
   "metadata": {},
   "outputs": [],
   "source": [
    "pf_neurons_diff.shared.pairs"
   ]
  },
  {
   "cell_type": "code",
   "execution_count": null,
   "id": "2b322764-b9a9-46e3-b77d-6367d30b8ce6",
   "metadata": {},
   "outputs": [],
   "source": [
    "# Create `master_dock_win` - centralized plot output window to collect individual figures/controls in (2022-08-18)\n",
    "display_output = active_display_output | curr_active_pipeline.display('_display_context_nested_docks', active_identifying_session_ctx, enable_gui=True, debug_print=True) # returns {'master_dock_win': master_dock_win, 'app': app, 'out_items': out_items}\n",
    "master_dock_win = display_output['master_dock_win']\n",
    "app = display_output['app']\n",
    "out_items = display_output['out_items']\n",
    "\n",
    "def _get_curr_figure_format_config():\n",
    "    \"\"\" Aims to fetch the current figure_format_config and context from the figure_format_config widget:    \n",
    "    Implicitly captures: `out_items`, `active_config_name`, `active_identifying_filtered_session_ctx` \n",
    "    \"\"\"\n",
    "    ## Get the figure_format_config from the figure_format_config widget:\n",
    "    # Fetch the context from the GUI:\n",
    "    _curr_gui_session_ctx, _curr_gui_out_display_items = out_items[active_config_name]\n",
    "    _curr_gui_figure_format_config_widget = _curr_gui_out_display_items[active_identifying_filtered_session_ctx.adding_context('display_fn', display_fn_name='figure_format_config_widget')] # [0] is seemingly not needed to unpack the tuple\n",
    "    if _curr_gui_figure_format_config_widget is not None:\n",
    "        # has GUI for config\n",
    "        figure_format_config = _curr_gui_figure_format_config_widget.figure_format_config\n",
    "    else:\n",
    "        # has non-GUI provider of figure_format_config\n",
    "        figure_format_config = _curr_gui_figure_format_config_widget.figure_format_config\n",
    "    \n",
    "    if debug_print:\n",
    "        print(f'recovered gui figure_format_config: {figure_format_config}')\n",
    "        \n",
    "    return figure_format_config\n",
    "\n",
    "figure_format_config = _get_curr_figure_format_config()"
   ]
  },
  {
   "cell_type": "code",
   "execution_count": null,
   "id": "daf763c4-942e-45bc-a25a-5fe0f6095c84",
   "metadata": {},
   "outputs": [],
   "source": [
    "# Plot the latent PF changes+\n",
    "curr_active_pipeline.reload_default_display_functions()"
   ]
  },
  {
   "cell_type": "code",
   "execution_count": null,
   "id": "f0cfdb5c-3899-4e2b-a200-aed7d07cd40f",
   "metadata": {},
   "outputs": [],
   "source": [
    "curr_active_pipeline.registered_display_function_names"
   ]
  },
  {
   "cell_type": "code",
   "execution_count": null,
   "id": "a063eb09-3323-47e7-9a7a-2bf928bf709a",
   "metadata": {},
   "outputs": [],
   "source": [
    "# ==================================================================================================================== #\n",
    "## GUI Placefields (pyqtplot_plot_image_array):\n",
    "\n",
    "# Get the decoders from the computation result:\n",
    "# active_one_step_decoder = computation_result.computed_data['pf2D_Decoder'] # doesn't actually require the Decoder, could just use computation_result.computed_data['pf2D']            \n",
    "# Get flat list of images:\n",
    "images = active_one_step_decoder.ratemap.normalized_tuning_curves # (43, 63, 63)\n",
    "# images = active_one_step_decoder.ratemap.normalized_tuning_curves[0:40,:,:] # (43, 63, 63)\n",
    "occupancy = active_one_step_decoder.ratemap.occupancy\n",
    "\n",
    "active_identifying_ctx = active_identifying_filtered_session_ctx.adding_context('display_fn', display_fn_name='pyqtplot_plot_image_array')\n",
    "active_identifying_ctx_string = active_identifying_ctx.get_description(separator='|') # Get final discription string:\n",
    "if debug_print:\n",
    "    print(f'active_identifying_ctx_string: {active_identifying_ctx_string}')\n",
    "\n",
    "## Build the widget:\n",
    "app, pyqtplot_pf2D_parent_root_widget, pyqtplot_pf2D_root_render_widget, pyqtplot_pf2D_plot_array, pyqtplot_pf2D_img_item_array, pyqtplot_pf2D_other_components_array = pyqtplot_plot_image_array(active_one_step_decoder.xbin, active_one_step_decoder.ybin, images, occupancy, app=app, parent_root_widget=None, root_render_widget=None, max_num_columns=4)\n",
    "pyqtplot_pf2D_parent_root_widget.show()\n",
    "curr_master_dock_win.add_display_dock(identifier=active_identifying_ctx_string, widget=pyqtplot_pf2D_parent_root_widget, display_config=CustomDockDisplayConfig(showCloseButton=True))\n",
    "curr_out_items[active_identifying_ctx] = (pyqtplot_pf2D_parent_root_widget, pyqtplot_pf2D_root_render_widget, pyqtplot_pf2D_plot_array, pyqtplot_pf2D_img_item_array, pyqtplot_pf2D_other_components_array)"
   ]
  },
  {
   "cell_type": "markdown",
   "id": "89c398ca-f87e-467e-899b-fc07e50606fe",
   "metadata": {
    "tags": []
   },
   "source": [
    "## 🗨️🟢 2022-10-26 - Jonathan Firing Rate Analyses"
   ]
  },
  {
   "cell_type": "code",
   "execution_count": null,
   "id": "b3f991bd-337c-4724-8ebe-5dc07c1b3544",
   "metadata": {
    "tags": []
   },
   "outputs": [],
   "source": [
    "%matplotlib qt\n",
    "active_identifying_session_ctx = curr_active_pipeline.sess.get_context() # 'bapun_RatN_Day4_2019-10-15_11-30-06'\n",
    "\n",
    "graphics_output_dict = curr_active_pipeline.display('_display_jonathan_replay_firing_rate_comparison', active_identifying_session_ctx)\n",
    "fig, axs, plot_data = graphics_output_dict['fig'], graphics_output_dict['axs'], graphics_output_dict['plot_data']\n",
    "neuron_df, rdf, aclu_to_idx, irdf = plot_data['df'], plot_data['rdf'], plot_data['aclu_to_idx'], plot_data['irdf']\n",
    "axs"
   ]
  },
  {
   "cell_type": "markdown",
   "id": "b2b61db4-3080-4537-9bf7-1d85cb625254",
   "metadata": {
    "tags": []
   },
   "source": [
    "## 🗨️🟢 2022-11-05 - Pho-Jonathan Batch Outputs of Firing Rate Figures"
   ]
  },
  {
   "cell_type": "code",
   "execution_count": 30,
   "id": "5e1f7a86-4871-402b-8c4c-f33c2a14ab5e",
   "metadata": {},
   "outputs": [
    {
     "name": "stdout",
     "output_type": "stream",
     "text": [
      "WARNING: .display(...) function called with GLOBAL (non-filtered) context. This should be the case only for one function (`_display_context_nested_docks`) currently. \n",
      "include_whitelist: ['maze1_PYR', 'maze2_PYR', 'maze_PYR']\n",
      "long_epoch_name: maze1_PYR, short_epoch_name: maze2_PYR, global_epoch_name: maze_PYR\n"
     ]
    }
   ],
   "source": [
    "# %pdb on\n",
    "# %pdb off\n",
    "# %%viztracer\n",
    "%matplotlib qt\n",
    "active_identifying_session_ctx = curr_active_pipeline.sess.get_context() # 'bapun_RatN_Day4_2019-10-15_11-30-06'\n",
    "\n",
    "graphics_output_dict = curr_active_pipeline.display('_display_batch_pho_jonathan_replay_firing_rate_comparison', active_identifying_session_ctx, n_max_plot_rows=8)\n",
    "fig, axs, plot_data = graphics_output_dict['fig'], graphics_output_dict['axs'], graphics_output_dict['plot_data']\n",
    "# Extract plot_data:\n",
    "neuron_df, rdf, aclu_to_idx, irdf = plot_data['df'], plot_data['rdf'], plot_data['aclu_to_idx'], plot_data['irdf']\n",
    "time_bins, time_binned_unit_specific_binned_spike_rate = plot_data['time_binned_unit_specific_spike_rate']['time_bins'], plot_data['time_binned_unit_specific_spike_rate']['time_binned_unit_specific_binned_spike_rate']\n",
    "# axs"
   ]
  },
  {
   "cell_type": "code",
   "execution_count": null,
   "id": "45b88215-2f1f-4735-9b79-f513edd087bb",
   "metadata": {},
   "outputs": [],
   "source": [
    "curr_axs_dict = axs[0]\n",
    "curr_firing_rate_ax, curr_lap_spikes_ax, curr_placefield_ax = curr_axs_dict['firing_rate'], curr_axs_dict['lap_spikes'], curr_axs_dict['placefield'] # Extract variables from the `curr_axs_dict` dictionary to the local workspace"
   ]
  },
  {
   "cell_type": "code",
   "execution_count": 42,
   "id": "8f52b78e-c8d9-46d4-82bf-9831272d7c15",
   "metadata": {},
   "outputs": [
    {
     "data": {
      "text/html": [
       "<div>\n",
       "<style scoped>\n",
       "    .dataframe tbody tr th:only-of-type {\n",
       "        vertical-align: middle;\n",
       "    }\n",
       "\n",
       "    .dataframe tbody tr th {\n",
       "        vertical-align: top;\n",
       "    }\n",
       "\n",
       "    .dataframe thead th {\n",
       "        text-align: right;\n",
       "    }\n",
       "</style>\n",
       "<table border=\"1\" class=\"dataframe\">\n",
       "  <thead>\n",
       "    <tr style=\"text-align: right;\">\n",
       "      <th></th>\n",
       "      <th>long</th>\n",
       "      <th>short</th>\n",
       "      <th>has_na</th>\n",
       "      <th>non_replay_diff</th>\n",
       "      <th>replay_diff</th>\n",
       "    </tr>\n",
       "  </thead>\n",
       "  <tbody>\n",
       "    <tr>\n",
       "      <th>2</th>\n",
       "      <td>-36.701538</td>\n",
       "      <td>NaN</td>\n",
       "      <td>True</td>\n",
       "      <td>-0.303852</td>\n",
       "      <td>-3.455483</td>\n",
       "    </tr>\n",
       "    <tr>\n",
       "      <th>3</th>\n",
       "      <td>27.779855</td>\n",
       "      <td>43.876756</td>\n",
       "      <td>False</td>\n",
       "      <td>1.024606</td>\n",
       "      <td>-0.808001</td>\n",
       "    </tr>\n",
       "    <tr>\n",
       "      <th>4</th>\n",
       "      <td>NaN</td>\n",
       "      <td>-9.225567</td>\n",
       "      <td>True</td>\n",
       "      <td>0.819556</td>\n",
       "      <td>NaN</td>\n",
       "    </tr>\n",
       "    <tr>\n",
       "      <th>5</th>\n",
       "      <td>77.089155</td>\n",
       "      <td>55.255825</td>\n",
       "      <td>False</td>\n",
       "      <td>0.121180</td>\n",
       "      <td>-0.705114</td>\n",
       "    </tr>\n",
       "    <tr>\n",
       "      <th>8</th>\n",
       "      <td>-32.908515</td>\n",
       "      <td>NaN</td>\n",
       "      <td>True</td>\n",
       "      <td>-0.100495</td>\n",
       "      <td>-1.130347</td>\n",
       "    </tr>\n",
       "    <tr>\n",
       "      <th>...</th>\n",
       "      <td>...</td>\n",
       "      <td>...</td>\n",
       "      <td>...</td>\n",
       "      <td>...</td>\n",
       "      <td>...</td>\n",
       "    </tr>\n",
       "    <tr>\n",
       "      <th>100</th>\n",
       "      <td>-44.287584</td>\n",
       "      <td>-9.225567</td>\n",
       "      <td>False</td>\n",
       "      <td>0.054868</td>\n",
       "      <td>-0.820819</td>\n",
       "    </tr>\n",
       "    <tr>\n",
       "      <th>102</th>\n",
       "      <td>149.156593</td>\n",
       "      <td>70.427917</td>\n",
       "      <td>False</td>\n",
       "      <td>0.049354</td>\n",
       "      <td>1.052542</td>\n",
       "    </tr>\n",
       "    <tr>\n",
       "      <th>105</th>\n",
       "      <td>-25.322468</td>\n",
       "      <td>NaN</td>\n",
       "      <td>True</td>\n",
       "      <td>0.210870</td>\n",
       "      <td>-5.064885</td>\n",
       "    </tr>\n",
       "    <tr>\n",
       "      <th>108</th>\n",
       "      <td>-36.701538</td>\n",
       "      <td>-5.432544</td>\n",
       "      <td>False</td>\n",
       "      <td>1.862046</td>\n",
       "      <td>-0.850674</td>\n",
       "    </tr>\n",
       "    <tr>\n",
       "      <th>109</th>\n",
       "      <td>92.261247</td>\n",
       "      <td>NaN</td>\n",
       "      <td>True</td>\n",
       "      <td>-0.184742</td>\n",
       "      <td>-0.589570</td>\n",
       "    </tr>\n",
       "  </tbody>\n",
       "</table>\n",
       "<p>69 rows × 5 columns</p>\n",
       "</div>"
      ],
      "text/plain": [
       "           long      short  has_na  non_replay_diff  replay_diff\n",
       "2    -36.701538        NaN    True        -0.303852    -3.455483\n",
       "3     27.779855  43.876756   False         1.024606    -0.808001\n",
       "4           NaN  -9.225567    True         0.819556          NaN\n",
       "5     77.089155  55.255825   False         0.121180    -0.705114\n",
       "8    -32.908515        NaN    True        -0.100495    -1.130347\n",
       "..          ...        ...     ...              ...          ...\n",
       "100  -44.287584  -9.225567   False         0.054868    -0.820819\n",
       "102  149.156593  70.427917   False         0.049354     1.052542\n",
       "105  -25.322468        NaN    True         0.210870    -5.064885\n",
       "108  -36.701538  -5.432544   False         1.862046    -0.850674\n",
       "109   92.261247        NaN    True        -0.184742    -0.589570\n",
       "\n",
       "[69 rows x 5 columns]"
      ]
     },
     "execution_count": 42,
     "metadata": {},
     "output_type": "execute_result"
    }
   ],
   "source": [
    "neuron_df"
   ]
  },
  {
   "cell_type": "code",
   "execution_count": null,
   "id": "e119b062-524c-4718-a072-a872a812bd1f",
   "metadata": {},
   "outputs": [],
   "source": [
    "rdf['duration'] = rdf['end'] - rdf['start']\n",
    "rdf"
   ]
  },
  {
   "cell_type": "code",
   "execution_count": 47,
   "id": "579204a2-50c1-48d6-888a-92081195b989",
   "metadata": {},
   "outputs": [],
   "source": [
    "rdf.groupby('short_track').count()"
   ]
  },
  {
   "cell_type": "code",
   "execution_count": 75,
   "id": "44c518b4-8ad5-4f23-8da8-5df8ecd03bd7",
   "metadata": {},
   "outputs": [
    {
     "name": "stdout",
     "output_type": "stream",
     "text": [
      "long_total_replay_duration: 65.66900000000118, short_total_replay_duration: 67.43300000000022\n",
      "long_total_num_replays: 392, short_total_num_replays: 353\n"
     ]
    }
   ],
   "source": [
    "(long_total_replay_duration, long_mean_replay_duration, long_var_replay_duration), (short_total_replay_duration, short_mean_replay_duration, short_var_replay_duration) = rdf.groupby(\"short_track\")['duration'].agg(['sum','mean','var']).to_numpy() #.count()\n",
    "# long_total_replay_duration, short_total_replay_duration = rdf.groupby(\"short_track\")['duration'].agg(['sum']).to_numpy() #.count()\n",
    "\n",
    "\n",
    "# print(f'long_total_replay_duration: {long_total_replay_duration}, short_total_replay_duration: {short_total_replay_duration}')\n",
    "print(f'long_total_replay_duration: {long_total_replay_duration}, short_total_replay_duration: {short_total_replay_duration}')\n",
    "\n",
    "\n",
    "long_total_num_replays, short_total_num_replays = rdf.groupby(by=[\"short_track\"])['start'].agg('count').to_numpy() # array([392, 353], dtype=int64)\n",
    "print(f'long_total_num_replays: {long_total_num_replays}, short_total_num_replays: {short_total_num_replays}')"
   ]
  },
  {
   "cell_type": "code",
   "execution_count": 39,
   "id": "7eb33e96-9f8c-4d6a-a1e5-7f41b08c21ad",
   "metadata": {},
   "outputs": [
    {
     "data": {
      "text/plain": [
       "133.1020000000014"
      ]
     },
     "execution_count": 39,
     "metadata": {},
     "output_type": "execute_result"
    }
   ],
   "source": [
    "rdf['duration'].sum()"
   ]
  },
  {
   "cell_type": "code",
   "execution_count": 36,
   "id": "0d32478a-51ec-4423-87b9-d3bfbbc2183d",
   "metadata": {},
   "outputs": [],
   "source": [
    "irdf['duration'] = irdf['end'] - irdf['start']\n",
    "irdf"
   ]
  },
  {
   "cell_type": "code",
   "execution_count": 40,
   "id": "f39c2575-0c6e-4e3f-86e6-002f79dc7dde",
   "metadata": {},
   "outputs": [
    {
     "data": {
      "text/plain": [
       "1938.5358568242148"
      ]
     },
     "execution_count": 40,
     "metadata": {},
     "output_type": "execute_result"
    }
   ],
   "source": [
    "irdf['duration'].sum()"
   ]
  },
  {
   "cell_type": "code",
   "execution_count": null,
   "id": "a6be9fd9-060d-47a3-90fa-2a3789b39f5b",
   "metadata": {},
   "outputs": [],
   "source": [
    "## Loop through and programmatically save out the interactive Jonathan firing rate figures:\n",
    "on_index_change_callback, g_index = graphics_output_dict['on_index_change']['callback'], graphics_output_dict['on_index_change']['g_index']\n",
    "curr_sess_ctx = curr_active_pipeline.sess.get_context()\n",
    "\n",
    "g_index = 0\n",
    "for i in np.arange(neuron_df.shape[0]):\n",
    "    g_index = i\n",
    "    aclu = neuron_df.index[i]\n",
    "    curr_ctx = curr_sess_ctx.adding_context(collision_prefix='jonathan_mhm', aclu=aclu)\n",
    "    on_index_change_callback(g_index)\n",
    "    \n",
    "    curr_output_name = f'{curr_ctx.get_description()}'\n",
    "    print(f'i: {i}, aclu: {aclu}, curr_output_name: {curr_output_name}')\n",
    "    fig.savefig(fname=curr_output_name)"
   ]
  },
  {
   "cell_type": "code",
   "execution_count": null,
   "id": "457fd36d-5396-4331-a7ae-599e6cc3fb2d",
   "metadata": {},
   "outputs": [],
   "source": []
  },
  {
   "cell_type": "code",
   "execution_count": 29,
   "id": "6fbe1644-afcf-4b88-9257-c0ca659acc7b",
   "metadata": {},
   "outputs": [],
   "source": [
    "curr_active_pipeline.reload_default_computation_functions()\n",
    "curr_active_pipeline.reload_default_display_functions()"
   ]
  },
  {
   "cell_type": "code",
   "execution_count": 15,
   "id": "29afcca3-2e6b-4eed-a92f-2f5f5a55dc17",
   "metadata": {},
   "outputs": [],
   "source": [
    "from pyphoplacecellanalysis.General.Pipeline.Stages.ComputationFunctions.MultiContextComputationFunctions.MultiContextComputationFunctions import MultiContextComputationFunctions\n",
    "\n",
    "curr_active_pipeline.register_computation(computation_function=MultiContextComputationFunctions._perform_jonathan_replay_firing_rate_analyses, is_global=True, registered_name='_perform_jonathan_replay_firing_rate_analyses')"
   ]
  },
  {
   "cell_type": "code",
   "execution_count": 16,
   "id": "2f1cb0b3-34fa-43f5-9fb4-890dddc32c11",
   "metadata": {},
   "outputs": [
    {
     "name": "stdout",
     "output_type": "stream",
     "text": [
      "Performing _execute_computation_functions(...) with 1 registered_computation_functions...\n",
      "RDF has 745 rows.\n",
      "Time window 0 has no spikes.\n",
      "Time window 375 has no spikes.\n",
      "Time window 690 has no spikes.\n",
      "include_whitelist: ['maze1_PYR', 'maze2_PYR', 'maze_PYR']\n",
      "long_epoch_name: maze1_PYR, short_epoch_name: maze2_PYR, global_epoch_name: maze_PYR\n",
      "np.shape(unit_specific_time_binned_firing_rates): (4143, 70)\n",
      "_execute_computation_functions(...): \n",
      "\taccumulated_errors: None\n"
     ]
    }
   ],
   "source": [
    "curr_active_pipeline.perform_specific_computation(computation_functions_name_whitelist=['_perform_jonathan_replay_firing_rate_analyses'], fail_on_exception=True, debug_print=True) # , progress_logger_callback=print"
   ]
  },
  {
   "cell_type": "code",
   "execution_count": 17,
   "id": "925eef31-e8d8-405d-b925-fdaa8ea0e030",
   "metadata": {},
   "outputs": [
    {
     "name": "stdout",
     "output_type": "stream",
     "text": [
      "finalized_loaded_sess_pickle_path: W:\\Data\\KDIBA\\gor01\\one\\2006-6-08_14-26-15\\loadedSessPickle.pkl\n",
      "Saving (file mode 'w+b') saved session pickle file results to W:\\Data\\KDIBA\\gor01\\one\\2006-6-08_14-26-15\\20221122143531-loadedSessPickle.pkl... done.\n",
      "moving new output at 'W:\\Data\\KDIBA\\gor01\\one\\2006-6-08_14-26-15\\20221122143531-loadedSessPickle.pkl' -> to desired location: 'W:\\Data\\KDIBA\\gor01\\one\\2006-6-08_14-26-15\\loadedSessPickle.pkl'\n"
     ]
    },
    {
     "data": {
      "text/plain": [
       "WindowsPath('W:/Data/KDIBA/gor01/one/2006-6-08_14-26-15/loadedSessPickle.pkl')"
      ]
     },
     "execution_count": 17,
     "metadata": {},
     "output_type": "execute_result"
    }
   ],
   "source": [
    "curr_active_pipeline.save_pipeline()"
   ]
  },
  {
   "cell_type": "code",
   "execution_count": null,
   "id": "45c3f1e8-11da-4f0c-95e1-d6ecc66ac2c3",
   "metadata": {},
   "outputs": [],
   "source": [
    "active_completed_computation_result_names"
   ]
  },
  {
   "cell_type": "code",
   "execution_count": 10,
   "id": "4f632a4a-c570-42c0-8e32-cdbc1714539e",
   "metadata": {},
   "outputs": [],
   "source": [
    "# TODO: This is the proper way once global computations work:\n",
    "aclu_to_idx = curr_active_pipeline.global_computation_results.computed_data['jonathan_firing_rate_analysis']['rdf']['aclu_to_idx']\n",
    "rdf = curr_active_pipeline.global_computation_results.computed_data['jonathan_firing_rate_analysis']['rdf']['rdf']\n",
    "irdf = curr_active_pipeline.global_computation_results.computed_data['jonathan_firing_rate_analysis']['irdf']['irdf']\n",
    "pos_df = curr_active_pipeline.global_computation_results.sess.position.to_dataframe()\n",
    "time_bins = curr_active_pipeline.global_computation_results.computed_data['jonathan_firing_rate_analysis']['time_binned_unit_specific_spike_rate']['time_bins']\n",
    "time_binned_unit_specific_binned_spike_rate = curr_active_pipeline.global_computation_results.computed_data['jonathan_firing_rate_analysis']['time_binned_unit_specific_spike_rate']['time_binned_unit_specific_binned_spike_rate']\n",
    "\n",
    "final_jonathan_df = curr_active_pipeline.global_computation_results.computed_data['jonathan_firing_rate_analysis']['final_jonathan_df']"
   ]
  },
  {
   "cell_type": "code",
   "execution_count": 11,
   "id": "44eb5b23-acc9-4670-81f6-103592e6fd06",
   "metadata": {},
   "outputs": [
    {
     "data": {
      "text/html": [
       "<div>\n",
       "<style scoped>\n",
       "    .dataframe tbody tr th:only-of-type {\n",
       "        vertical-align: middle;\n",
       "    }\n",
       "\n",
       "    .dataframe tbody tr th {\n",
       "        vertical-align: top;\n",
       "    }\n",
       "\n",
       "    .dataframe thead th {\n",
       "        text-align: right;\n",
       "    }\n",
       "</style>\n",
       "<table border=\"1\" class=\"dataframe\">\n",
       "  <thead>\n",
       "    <tr style=\"text-align: right;\">\n",
       "      <th></th>\n",
       "      <th>start</th>\n",
       "      <th>end</th>\n",
       "      <th>short_track</th>\n",
       "      <th>firing_rates</th>\n",
       "    </tr>\n",
       "  </thead>\n",
       "  <tbody>\n",
       "    <tr>\n",
       "      <th>0</th>\n",
       "      <td>18.681</td>\n",
       "      <td>18.814</td>\n",
       "      <td>False</td>\n",
       "      <td>[0.0, 0.0, 0.0, 0.0, 120.30075187969683, 0.0, ...</td>\n",
       "    </tr>\n",
       "    <tr>\n",
       "      <th>1</th>\n",
       "      <td>39.628</td>\n",
       "      <td>39.987</td>\n",
       "      <td>False</td>\n",
       "      <td>[0.0, 0.0, 0.0, 0.0, 44.56824512534885, 0.0, 0...</td>\n",
       "    </tr>\n",
       "    <tr>\n",
       "      <th>2</th>\n",
       "      <td>40.143</td>\n",
       "      <td>40.328</td>\n",
       "      <td>False</td>\n",
       "      <td>[0.0, 0.0, 0.0, 0.0, 75.67567567567765, 0.0, 0...</td>\n",
       "    </tr>\n",
       "    <tr>\n",
       "      <th>3</th>\n",
       "      <td>40.939</td>\n",
       "      <td>41.364</td>\n",
       "      <td>False</td>\n",
       "      <td>[9.411764705882415, 0.0, 0.0, 0.0, 120.0000000...</td>\n",
       "    </tr>\n",
       "    <tr>\n",
       "      <th>4</th>\n",
       "      <td>41.603</td>\n",
       "      <td>41.709</td>\n",
       "      <td>False</td>\n",
       "      <td>[0.0, 0.0, 0.0, 0.0, 113.20754716981715, 9.433...</td>\n",
       "    </tr>\n",
       "    <tr>\n",
       "      <th>...</th>\n",
       "      <td>...</td>\n",
       "      <td>...</td>\n",
       "      <td>...</td>\n",
       "      <td>...</td>\n",
       "    </tr>\n",
       "    <tr>\n",
       "      <th>1367</th>\n",
       "      <td>1927.074</td>\n",
       "      <td>1927.183</td>\n",
       "      <td>True</td>\n",
       "      <td>[0.0, 0.0, 0.0, 0.0, 18.348623853185593, 27.52...</td>\n",
       "    </tr>\n",
       "    <tr>\n",
       "      <th>1375</th>\n",
       "      <td>1964.885</td>\n",
       "      <td>1965.046</td>\n",
       "      <td>True</td>\n",
       "      <td>[0.0, 0.0, 0.0, 0.0, 12.422360248460258, 0.0, ...</td>\n",
       "    </tr>\n",
       "    <tr>\n",
       "      <th>1390</th>\n",
       "      <td>1992.662</td>\n",
       "      <td>1992.725</td>\n",
       "      <td>True</td>\n",
       "      <td>[0.0, 0.0, 31.746031745980417, 0.0, 0.0, 0.0, ...</td>\n",
       "    </tr>\n",
       "    <tr>\n",
       "      <th>1403</th>\n",
       "      <td>2033.345</td>\n",
       "      <td>2033.417</td>\n",
       "      <td>True</td>\n",
       "      <td>[0.0, 0.0, 0.0, 0.0, 27.777777777732865, 0.0, ...</td>\n",
       "    </tr>\n",
       "    <tr>\n",
       "      <th>1425</th>\n",
       "      <td>2091.431</td>\n",
       "      <td>2091.929</td>\n",
       "      <td>True</td>\n",
       "      <td>[0.0, 0.0, 0.0, 0.0, 4.016064257027731, 0.0, 0...</td>\n",
       "    </tr>\n",
       "  </tbody>\n",
       "</table>\n",
       "<p>745 rows × 4 columns</p>\n",
       "</div>"
      ],
      "text/plain": [
       "         start       end  short_track  \\\n",
       "0       18.681    18.814        False   \n",
       "1       39.628    39.987        False   \n",
       "2       40.143    40.328        False   \n",
       "3       40.939    41.364        False   \n",
       "4       41.603    41.709        False   \n",
       "...        ...       ...          ...   \n",
       "1367  1927.074  1927.183         True   \n",
       "1375  1964.885  1965.046         True   \n",
       "1390  1992.662  1992.725         True   \n",
       "1403  2033.345  2033.417         True   \n",
       "1425  2091.431  2091.929         True   \n",
       "\n",
       "                                           firing_rates  \n",
       "0     [0.0, 0.0, 0.0, 0.0, 120.30075187969683, 0.0, ...  \n",
       "1     [0.0, 0.0, 0.0, 0.0, 44.56824512534885, 0.0, 0...  \n",
       "2     [0.0, 0.0, 0.0, 0.0, 75.67567567567765, 0.0, 0...  \n",
       "3     [9.411764705882415, 0.0, 0.0, 0.0, 120.0000000...  \n",
       "4     [0.0, 0.0, 0.0, 0.0, 113.20754716981715, 9.433...  \n",
       "...                                                 ...  \n",
       "1367  [0.0, 0.0, 0.0, 0.0, 18.348623853185593, 27.52...  \n",
       "1375  [0.0, 0.0, 0.0, 0.0, 12.422360248460258, 0.0, ...  \n",
       "1390  [0.0, 0.0, 31.746031745980417, 0.0, 0.0, 0.0, ...  \n",
       "1403  [0.0, 0.0, 0.0, 0.0, 27.777777777732865, 0.0, ...  \n",
       "1425  [0.0, 0.0, 0.0, 0.0, 4.016064257027731, 0.0, 0...  \n",
       "\n",
       "[745 rows x 4 columns]"
      ]
     },
     "execution_count": 11,
     "metadata": {},
     "output_type": "execute_result"
    }
   ],
   "source": [
    "rdf"
   ]
  },
  {
   "cell_type": "markdown",
   "id": "0f64e323-e44c-4d2f-9c0b-05999cb1a00a",
   "metadata": {},
   "source": [
    "### Exploring recomputing _perform_firing_rate_trends_computation via `curr_active_pipeline.perform_specific_computation(...)`"
   ]
  },
  {
   "cell_type": "code",
   "execution_count": null,
   "id": "31c61ddf-ca21-4efb-8b8b-ba47150ec7c0",
   "metadata": {},
   "outputs": [],
   "source": [
    "active_firing_rate_trends.all_session_spikes.time_binned_unit_specific_binned_spike_rate"
   ]
  },
  {
   "cell_type": "code",
   "execution_count": null,
   "id": "e2d56cee-8982-4198-be76-0330843f90b1",
   "metadata": {},
   "outputs": [],
   "source": [
    "_perform_firing_rate_trends_computation"
   ]
  },
  {
   "cell_type": "code",
   "execution_count": null,
   "id": "6fffa82d-e979-4dab-945a-a29e69aff444",
   "metadata": {},
   "outputs": [],
   "source": [
    "active_firing_rate_trends.all_session_spikes"
   ]
  },
  {
   "cell_type": "code",
   "execution_count": null,
   "id": "05a59d5e-a176-4c8c-b1a3-0e87b2d6157d",
   "metadata": {},
   "outputs": [],
   "source": [
    "## perform a specific computation in a minimally destructive manner using the previously recomputed results:\n",
    "# Ideally would already have access to the:\n",
    "# - Previous computation result\n",
    "# - Previous computation config (the input parameters)\n",
    "\n",
    "curr_active_pipeline.perform_specific_computation(active_session_computation_configs[0], computation_functions_name_whitelist=['_perform_firing_rate_trends_computation'], fail_on_exception=True, debug_print=True)"
   ]
  },
  {
   "cell_type": "code",
   "execution_count": null,
   "id": "22e5a559-c54a-4eee-9653-c6ab9331611e",
   "metadata": {},
   "outputs": [],
   "source": [
    "curr_active_pipeline.perform_specific_computation(computation_functions_name_whitelist=['_perform_firing_rate_trends_computation'], fail_on_exception=True, debug_print=True)"
   ]
  },
  {
   "cell_type": "code",
   "execution_count": null,
   "id": "7f667965-88f6-4fcd-875c-aeda47bd0467",
   "metadata": {},
   "outputs": [],
   "source": [
    "curr_active_pipeline.save_pipeline()"
   ]
  },
  {
   "cell_type": "code",
   "execution_count": null,
   "id": "c36a64dd-916e-4a34-a60f-37a56790f207",
   "metadata": {},
   "outputs": [],
   "source": [
    "print(curr_active_pipeline.registered_computation_function_docs_dict['_perform_firing_rate_trends_computation'])"
   ]
  },
  {
   "cell_type": "code",
   "execution_count": null,
   "id": "2b73fc37-8bd4-450d-b580-638861084d95",
   "metadata": {},
   "outputs": [],
   "source": [
    "print(curr_active_pipeline.registered_computation_function_dict['_perform_firing_rate_trends_computation'])"
   ]
  },
  {
   "cell_type": "code",
   "execution_count": null,
   "id": "bb44fc36-0b23-4083-aacb-686b972f3ee7",
   "metadata": {},
   "outputs": [],
   "source": [
    "# We want to reload the new/modified versions of the functions:\n",
    "curr_active_pipeline.reload_default_computation_functions()"
   ]
  },
  {
   "cell_type": "code",
   "execution_count": null,
   "id": "8d6a4c34-4d1d-48a0-9836-ec185371dd8a",
   "metadata": {},
   "outputs": [],
   "source": [
    "print(curr_active_pipeline.registered_computation_function_docs_dict['_perform_firing_rate_trends_computation'])"
   ]
  },
  {
   "cell_type": "code",
   "execution_count": null,
   "id": "ca171c02-f20a-4fe7-ab71-21cac8bc86b6",
   "metadata": {},
   "outputs": [],
   "source": [
    "print(curr_active_pipeline.registered_computation_function_dict['_perform_firing_rate_trends_computation'])"
   ]
  },
  {
   "cell_type": "code",
   "execution_count": null,
   "id": "646014f2-46e1-4976-90d5-482e40f9b064",
   "metadata": {},
   "outputs": [],
   "source": [
    "# curr_active_pipeline.perform_specific_computation(active_session_computation_configs[0], enabled_filter_names=['maze_PYR'], computation_functions_name_whitelist=['_perform_firing_rate_trends_computation'], fail_on_exception=True, debug_print=False)\n",
    "\n",
    "curr_active_pipeline.perform_specific_computation(enabled_filter_names=['maze_PYR'], computation_functions_name_whitelist=['_perform_firing_rate_trends_computation'], fail_on_exception=True, debug_print=True)"
   ]
  },
  {
   "cell_type": "code",
   "execution_count": null,
   "id": "396e7b36-15a3-4b95-8c92-174018f8e82c",
   "metadata": {},
   "outputs": [],
   "source": [
    "# active_firing_rate_trends = curr_active_pipeline.computation_results['maze_PYR']['computed_data']['firing_rate_trends']\n",
    "active_firing_rate_trends = curr_active_pipeline.computation_results['maze1_PYR']['computed_data']['firing_rate_trends']\n",
    "instantaneous_unit_specific_spike_rate = active_firing_rate_trends.all_session_spikes.instantaneous_unit_specific_spike_rate\n",
    "# instantaneous_unit_specific_spike_rate = computation_results['maze_PYR']['computed_data']['firing_rate_trends'].all_session_spikes.instantaneous_unit_specific_spike_rate\n",
    "# active_firing_rate_trends.all_session_spikes"
   ]
  },
  {
   "cell_type": "code",
   "execution_count": null,
   "id": "006160ee-c37c-4b6e-8f10-8784ced55fd5",
   "metadata": {},
   "outputs": [],
   "source": [
    "## instantaneous_unit_specific_spike_rate mode:\n",
    "neuron_IDs = np.unique(curr_active_pipeline.computation_results['maze_PYR'].sess.spikes_df.aclu)\n",
    "# neuron_IDXs = np.arange(len(neuron_IDs))\n",
    "\n",
    "instantaneous_unit_specific_spike_rate_values = pd.DataFrame(instantaneous_unit_specific_spike_rate.magnitude, columns=neuron_IDs) # builds a df with times along the rows and aclu values along the columns in the style of unit_specific_binned_spike_counts\n",
    "time_bins = instantaneous_unit_specific_spike_rate.times.magnitude # .shape (3429,)\n",
    "time_binned_unit_specific_binned_spike_rate = instantaneous_unit_specific_spike_rate_values # .shape (3429, 71)"
   ]
  },
  {
   "cell_type": "code",
   "execution_count": null,
   "id": "017031cc-1638-4874-829d-a7d7d05e2378",
   "metadata": {},
   "outputs": [],
   "source": [
    "instantaneous_unit_specific_spike_rate"
   ]
  },
  {
   "cell_type": "code",
   "execution_count": null,
   "id": "edb83903-94ab-46e2-9620-a06fbae5191e",
   "metadata": {},
   "outputs": [],
   "source": [
    "from pyphoplacecellanalysis.General.Pipeline.Stages.ComputationFunctions.SpikeAnalysis import SpikeAnalysisComputations\n",
    "\n",
    "# Even without assignment, calling _perform_firing_rate_trends_computation directly on curr_active_pipeline.computation_results['maze_PYR'] updated it successfully\n",
    "SpikeAnalysisComputations._perform_firing_rate_trends_computation(computation_result=curr_active_pipeline.computation_results['maze_PYR'], debug_print=True)"
   ]
  },
  {
   "cell_type": "code",
   "execution_count": null,
   "id": "219b7216-1120-408b-b6f6-a063e0d61c4c",
   "metadata": {},
   "outputs": [],
   "source": [
    "curr_active_pipeline.computation_results['maze1_PYR']"
   ]
  },
  {
   "cell_type": "code",
   "execution_count": null,
   "id": "688095c1-eccf-419f-8825-9082ec6c230a",
   "metadata": {},
   "outputs": [],
   "source": [
    "curr_active_pipeline.computation_results['maze_PYR']"
   ]
  },
  {
   "cell_type": "code",
   "execution_count": null,
   "id": "a74d116b-80b9-4150-8450-138b536d346d",
   "metadata": {},
   "outputs": [],
   "source": []
  },
  {
   "cell_type": "code",
   "execution_count": null,
   "id": "ef5e273c-9b63-424c-a6cb-38865f41e0ad",
   "metadata": {},
   "outputs": [],
   "source": [
    "%matplotlib qt5\n",
    "from pyphoplacecellanalysis.PhoPositionalData.plotting.placefield import plot_1d_placecell_validations\n",
    "\n",
    "config_name = 'maze1_PYR'\n",
    "computation_result = curr_active_pipeline.computation_results[config_name]\n",
    "active_config = curr_active_pipeline.active_configs[config_name]\n",
    "\n",
    "out_mpl_item = plot_1d_placecell_validations(computation_result.computed_data['pf1D'], active_config.plotting_config, **{'modifier_string': 'lap_only', 'should_save': False, 'plot_kwargs': {'should_plot_spike_indicator_points_on_placefield': False}}) # MatplotlibRenderPlots\n",
    "out_mpl_item.ui.show()\n"
   ]
  },
  {
   "cell_type": "code",
   "execution_count": null,
   "id": "1f2401a5-d36d-4a65-8a94-df809b7eb130",
   "metadata": {},
   "outputs": [],
   "source": [
    "out_mpl_item.figures"
   ]
  },
  {
   "cell_type": "code",
   "execution_count": null,
   "id": "765bbe0b-7b82-40da-a8b3-524b79785215",
   "metadata": {},
   "outputs": [],
   "source": [
    "len(aclu_to_idx) # 108 rows"
   ]
  },
  {
   "cell_type": "code",
   "execution_count": null,
   "id": "b831cedb-93e8-4861-aa5c-27b4f8bb11a7",
   "metadata": {},
   "outputs": [],
   "source": [
    "aclu_to_idx"
   ]
  },
  {
   "cell_type": "code",
   "execution_count": null,
   "id": "f25364d9-ab41-4ad2-86db-f136d2beb897",
   "metadata": {},
   "outputs": [],
   "source": [
    "neuron_df # 69 rows"
   ]
  },
  {
   "cell_type": "code",
   "execution_count": null,
   "id": "22bd18c4-e3f3-42b8-b194-db5af02486d4",
   "metadata": {},
   "outputs": [],
   "source": [
    "axs[0,1]"
   ]
  },
  {
   "cell_type": "code",
   "execution_count": null,
   "id": "4741d4d8-b9f2-420e-b0d2-556ddb295808",
   "metadata": {},
   "outputs": [],
   "source": [
    "time_binned_unit_specific_binned_spike_rate"
   ]
  },
  {
   "cell_type": "code",
   "execution_count": null,
   "id": "3d52866f-c2f2-40c4-a3bf-fb06a2a76a38",
   "metadata": {},
   "outputs": [],
   "source": [
    "from pyphoplacecellanalysis.General.Mixins.DisplayHelpers import debug_print_active_firing_rate_trends_result_overview\n",
    "\n",
    "computation_result = list(curr_active_pipeline.computation_results.values())[-1]\n",
    "active_firing_rate_trends = computation_result.computed_data['firing_rate_trends']\n",
    "pf2D_Decoder = computation_result.computed_data['pf2D_Decoder']\n",
    "pf2D_Decoder.debug_dump_print()"
   ]
  },
  {
   "cell_type": "code",
   "execution_count": null,
   "id": "968249bf-7907-4339-8470-9d89b55b3582",
   "metadata": {},
   "outputs": [],
   "source": [
    "active_firing_rate_trends."
   ]
  },
  {
   "cell_type": "code",
   "execution_count": null,
   "id": "add0cda8-bdbd-409f-b744-564c98170fc8",
   "metadata": {},
   "outputs": [],
   "source": [
    "active_firing_rate_trends.all_session_spikes.time_binning_container"
   ]
  },
  {
   "cell_type": "code",
   "execution_count": null,
   "id": "bd4b51c3-8af9-467e-8f22-f83b1028ace1",
   "metadata": {},
   "outputs": [],
   "source": [
    "active_firing_rate_trends.pf_included_spikes_only.time_binning_container = BinningContainer(edges=active_firing_rate_trends.pf_included_spikes_only.time_window_edges, edge_info=active_firing_rate_trends.pf_included_spikes_only.time_window_edges_binning_info)"
   ]
  },
  {
   "cell_type": "code",
   "execution_count": null,
   "id": "97598b71-3a53-4080-ba1e-8756fa62cf73",
   "metadata": {},
   "outputs": [],
   "source": [
    "from neuropy.utils.mixins.binning_helpers import BinningContainer\n",
    "\n",
    "active_firing_rate_trends.all_session_spikes.time_binning_container = BinningContainer(edges=active_firing_rate_trends.all_session_spikes.time_window_edges, edge_info=active_firing_rate_trends.all_session_spikes.time_window_edges_binning_info)\n",
    "active_firing_rate_trends.all_session_spikes.time_binning_container"
   ]
  },
  {
   "cell_type": "code",
   "execution_count": null,
   "id": "7d79ed4d-789d-40cc-ab59-66c7bb22c109",
   "metadata": {},
   "outputs": [],
   "source": [
    "## The actual firing rate we want:\n",
    "time_bins = active_firing_rate_trends.all_session_spikes.time_binning_container.centers\n",
    "time_binned_unit_specific_binned_spike_rate = active_firing_rate_trends.all_session_spikes.time_binned_unit_specific_binned_spike_rate.T"
   ]
  },
  {
   "cell_type": "code",
   "execution_count": null,
   "id": "6bda47de-4d2c-4e7e-8506-6209f41c43bb",
   "metadata": {},
   "outputs": [],
   "source": [
    "np.shape(active_firing_rate_trends.all_session_spikes.time_binned_unit_specific_binned_spike_rate) # (4143, 70)\n",
    "active_firing_rate_trends.all_session_spikes.time_binned_unit_specific_binned_spike_rate[2]"
   ]
  },
  {
   "cell_type": "code",
   "execution_count": null,
   "id": "47cd5294-04b2-4a4c-87bd-f3e37e795e5c",
   "metadata": {},
   "outputs": [],
   "source": [
    "np.shape(time_binned_unit_specific_binned_spike_rate)"
   ]
  },
  {
   "cell_type": "code",
   "execution_count": null,
   "id": "fd2969be-4bf8-4f38-953a-42b5bc991ee0",
   "metadata": {},
   "outputs": [],
   "source": [
    "time_binned_unit_specific_binned_spike_rate.T.iloc[0]"
   ]
  },
  {
   "cell_type": "code",
   "execution_count": null,
   "id": "1e25c8a9-f0a5-4658-b151-1783e45cb4e9",
   "metadata": {},
   "outputs": [],
   "source": [
    "time_binned_unit_specific_binned_spike_rate.T[2]"
   ]
  },
  {
   "cell_type": "code",
   "execution_count": null,
   "id": "d2505bee-a378-4981-b0bd-7d8ada73022d",
   "metadata": {},
   "outputs": [],
   "source": [
    "try:\n",
    "time_binned_unit_specific_binned_spike_rate.T[0]\n",
    "except KeyError:\n",
    "    "
   ]
  },
  {
   "cell_type": "code",
   "execution_count": null,
   "id": "6f286b3f-1593-438a-9528-9b32fd39fc17",
   "metadata": {},
   "outputs": [],
   "source": [
    "time_binned_unit_specific_binned_spike_rate.shape # (4143, 70)\n",
    "# time_bins.shape # (4143,)\n",
    "\n",
    "\n"
   ]
  },
  {
   "cell_type": "code",
   "execution_count": null,
   "id": "fc7f5662-4dbd-4416-b0e2-4fd05ebb5acd",
   "metadata": {},
   "outputs": [],
   "source": [
    "fig = plt.figure()\n",
    "plt.plot(time_bins, time_binned_unit_specific_binned_spike_rate[0])"
   ]
  },
  {
   "cell_type": "code",
   "execution_count": null,
   "id": "8022f13e-ea79-4264-b754-4ecfd8ac89c0",
   "metadata": {},
   "outputs": [],
   "source": [
    "pf2D_Decoder.neuron_IDs"
   ]
  },
  {
   "cell_type": "code",
   "execution_count": null,
   "id": "99ef282b-4cd4-41d1-b69b-758c44e8a534",
   "metadata": {},
   "outputs": [],
   "source": [
    "try:\n",
    "    pf2D_Decoder.neuron_IDs.index(0)\n",
    "except ValueError as e:\n",
    "    raise e\n",
    "# try:"
   ]
  },
  {
   "cell_type": "code",
   "execution_count": null,
   "id": "1cf27415-18e6-4d48-9157-3e590363f751",
   "metadata": {},
   "outputs": [],
   "source": [
    "debug_print_active_firing_rate_trends_result_overview(active_firing_rate_trends)"
   ]
  },
  {
   "cell_type": "markdown",
   "id": "9ccf3917-046e-4cc5-83b0-b0b504431c0c",
   "metadata": {},
   "source": [
    "active_curve_plotter_3d"
   ]
  },
  {
   "cell_type": "code",
   "execution_count": null,
   "id": "44d8810f-4442-4985-8f6a-eda0abd390d5",
   "metadata": {
    "pycharm": {
     "is_executing": false,
     "name": "#%%\n"
    },
    "scene__Default Scene": true,
    "tags": [
     "ActiveScene",
     "gui",
     "launch",
     "main_run"
    ]
   },
   "outputs": [],
   "source": [
    "\n",
    "# curr_computations_results.computed_data['pf2D_Decoder'].time_window_centers.shape #\n",
    "# unit_specific_time_binned_spike_counts = pf2D_Decoder.unit_specific_time_binned_spike_counts # (40, 17102)\n",
    "curr_active_pipeline.computation_results\n"
   ]
  },
  {
   "cell_type": "code",
   "execution_count": null,
   "id": "0eb15a4a-4e23-49db-8a78-a01d2bb7ff5a",
   "metadata": {
    "pycharm": {
     "is_executing": false,
     "name": "#%%\n"
    },
    "scene__Default Scene": true,
    "tags": [
     "ActiveScene",
     "gui",
     "launch",
     "main_run"
    ]
   },
   "outputs": [],
   "source": [
    "# unit_specific_time_binned_spike_counts.shape\n",
    "\n",
    "unit_specific_time_binned_spike_counts = pf2D_Decoder.unit_specific_time_binned_spike_counts\n",
    "unit_specific_time_binned_spike_counts\n",
    "# list(curr_computations_results.computed_data.keys())"
   ]
  },
  {
   "cell_type": "code",
   "execution_count": null,
   "id": "4b8d9956-56b5-4bff-b4c6-a12042b19416",
   "metadata": {
    "pycharm": {
     "is_executing": false,
     "name": "#%%\n"
    },
    "scene__Default Scene": true,
    "tags": [
     "ActiveScene",
     "gui",
     "launch",
     "main_run"
    ]
   },
   "outputs": [],
   "source": [
    "unit_specific_time_binned_spike_counts[0].shape"
   ]
  },
  {
   "cell_type": "code",
   "execution_count": null,
   "id": "90a4c625-eb1a-4ad0-8b3b-47eb5a1571fb",
   "metadata": {},
   "outputs": [],
   "source": [
    "unit_specific_time_binned_firing_rates = unit_specific_time_binned_spike_counts.astype(np.float32) / pf2D_Decoder.time_bin_size\n",
    "unit_specific_time_binned_firing_rates"
   ]
  },
  {
   "cell_type": "code",
   "execution_count": null,
   "id": "1be259a6-138e-4223-9148-144eb6d022f8",
   "metadata": {},
   "outputs": [],
   "source": [
    "fig = plt.figure()\n",
    "# plt.plot(pf2D_Decoder.time_window_edges, unit_specific_time_binned_firing_rates[0])\n",
    "plt.plot(pf2D_Decoder.time_window_edges, unit_specific_time_binned_firing_rates[0])"
   ]
  },
  {
   "cell_type": "code",
   "execution_count": null,
   "id": "e9ec51fb-d9ab-4eb8-bb5e-227772d39fa8",
   "metadata": {},
   "outputs": [],
   "source": [
    "pf2D_Decoder.time_window_centers.shape"
   ]
  },
  {
   "cell_type": "code",
   "execution_count": null,
   "id": "d664e648-4cee-4b22-9a4b-57ade25eef4b",
   "metadata": {},
   "outputs": [],
   "source": []
  },
  {
   "cell_type": "markdown",
   "id": "790cc437-03a3-49b0-9b91-58af3e90019c",
   "metadata": {
    "jp-MarkdownHeadingCollapsed": true,
    "tags": []
   },
   "source": [
    "## 🗨️🟢 2022-10-31 - Laps and Periods Overview"
   ]
  },
  {
   "cell_type": "code",
   "execution_count": null,
   "id": "adc03005-45ba-4af5-b184-97e60f13e1e2",
   "metadata": {
    "tags": []
   },
   "outputs": [],
   "source": [
    "curr_active_pipeline.sess.laps"
   ]
  },
  {
   "cell_type": "code",
   "execution_count": null,
   "id": "cdeecbf8-5bbd-41d6-8e9d-49515e22b35d",
   "metadata": {
    "tags": []
   },
   "outputs": [],
   "source": [
    "from pyphoplacecellanalysis.PhoPositionalData.plotting.laps import plot_lap_trajectories_2d\n",
    "# Complete Version:\n",
    "fig, axs, laps_pages = plot_lap_trajectories_2d(curr_active_pipeline.sess, curr_num_subplots=len(curr_active_pipeline.sess.laps.lap_id), active_page_index=0)"
   ]
  },
  {
   "cell_type": "code",
   "execution_count": null,
   "id": "ab3742a9-d061-45e2-baa9-69648284a868",
   "metadata": {
    "tags": []
   },
   "outputs": [],
   "source": [
    "# Paginated Version:\n",
    "fig, axs, laps_pages = plot_lap_trajectories_2d(curr_active_pipeline.sess, curr_num_subplots=22, active_page_index=0)\n",
    "fig, axs, laps_pages = plot_lap_trajectories_2d(curr_active_pipeline.sess, curr_num_subplots=22, active_page_index=1)"
   ]
  },
  {
   "cell_type": "code",
   "execution_count": null,
   "id": "dff77ac9-7482-4d0f-a03a-61cca2acf189",
   "metadata": {
    "tags": []
   },
   "outputs": [],
   "source": [
    "from pyphoplacecellanalysis.PhoPositionalData.plotting.laps import plot_lap_trajectories_3d\n",
    "%pdb on\n",
    "p, laps_pages = plot_lap_trajectories_3d(curr_active_pipeline.sess, single_combined_plot=False, curr_num_subplots=len(curr_active_pipeline.sess.laps.lap_id), active_page_index=0)\n",
    "p.show()"
   ]
  },
  {
   "cell_type": "code",
   "execution_count": null,
   "id": "2cd3211b-9db0-406c-a536-b749c66eb1af",
   "metadata": {
    "tags": []
   },
   "outputs": [],
   "source": [
    "p, laps_pages = plot_lap_trajectories_3d(curr_active_pipeline.sess, single_combined_plot=True)\n",
    "p.show()"
   ]
  },
  {
   "cell_type": "code",
   "execution_count": null,
   "id": "d7d2120a-211d-45ce-925d-9da801fee907",
   "metadata": {
    "tags": []
   },
   "outputs": [],
   "source": [
    "curr_camera = p[0, 0].camera\n",
    "curr_camera"
   ]
  },
  {
   "cell_type": "code",
   "execution_count": null,
   "id": "60e398f0-6344-4fd0-a3ef-84101dcd89b3",
   "metadata": {
    "tags": []
   },
   "outputs": [],
   "source": [
    "curr_camera.elevation"
   ]
  },
  {
   "cell_type": "code",
   "execution_count": null,
   "id": "2e9017a9-81e1-4b6d-ad0c-506200cb593b",
   "metadata": {
    "tags": []
   },
   "outputs": [],
   "source": [
    "curr_camera.position"
   ]
  },
  {
   "cell_type": "code",
   "execution_count": null,
   "id": "6103c684-cf37-4385-b548-e63b9a85c590",
   "metadata": {
    "tags": []
   },
   "outputs": [],
   "source": [
    "p[0, 0].set_background('black') #.set_background('black', top='white')\n",
    "p[0, 0].camera_position = 'yz'\n",
    "p[0, 0].camera.elevation = 45"
   ]
  },
  {
   "cell_type": "code",
   "execution_count": null,
   "id": "a52cef1c-5d59-4540-a866-ccdbc5d66b09",
   "metadata": {
    "tags": []
   },
   "outputs": [],
   "source": [
    "p[0, 0].enable_parallel_projection()\n",
    "p[0, 0].camera.tight()"
   ]
  },
  {
   "cell_type": "code",
   "execution_count": null,
   "id": "2d6dd0b4-2e50-432f-aa6f-32e96ae3c61b",
   "metadata": {
    "tags": []
   },
   "outputs": [],
   "source": [
    "%matplotlib qt\n",
    "active_identifying_session_ctx = curr_active_pipeline.sess.get_context() # 'bapun_RatN_Day4_2019-10-15_11-30-06'\n",
    "\n",
    "graphics_output_dict = curr_active_pipeline.display('_display_jonathan_replay_firing_rate_comparison', active_identifying_session_ctx)\n",
    "fig, axs, plot_data = graphics_output_dict['fig'], graphics_output_dict['axs'], graphics_output_dict['plot_data']\n",
    "neuron_df, rdf, aclu_to_idx, irdf = plot_data['df'], plot_data['rdf'], plot_data['aclu_to_idx'], plot_data['irdf']\n",
    "axs"
   ]
  },
  {
   "cell_type": "code",
   "execution_count": null,
   "id": "a1fdd265-8aa6-40b5-a0f9-32fa1a4ab32b",
   "metadata": {
    "tags": []
   },
   "outputs": [],
   "source": [
    "new_ripple_df = pd.read_pickle(r'W:\\Data\\KDIBA\\gor01\\one\\2006-6-08_14-26-15\\ripple_df.pkl')\n",
    "new_ripple_df"
   ]
  },
  {
   "cell_type": "code",
   "execution_count": null,
   "id": "bda01f84-2ee9-4180-8935-3033be5377a8",
   "metadata": {
    "tags": []
   },
   "outputs": [],
   "source": [
    "from neuropy.core.flattened_spiketrains import safe_pandas_get_group\n",
    "# curr_active_pipeline.sess.\n",
    "\n",
    "unique_shank_ids = np.unique(curr_active_pipeline.sess.neurons.shank_ids)\n",
    "cell_info_df = pd.DataFrame({'shank_id': curr_active_pipeline.sess.neurons.shank_ids, 'neuron_id': curr_active_pipeline.sess.neurons.neuron_ids, 'neuron_type': curr_active_pipeline.sess.neurons.neuron_type})\n",
    "# cell_info_df\n",
    "shank_split_cell_info_dfs = [safe_pandas_get_group(cell_info_df.groupby('shank_id'), shank_id).neuron_id.to_numpy().tolist()[:4] for shank_id in unique_shank_ids] # dataframes split for each ID\n",
    "shank_split_cell_info_dfs\n",
    "\n",
    "print(f'unique_shank_ids: {unique_shank_ids}')\n",
    "print(f'shank_split_channel_idxs: {shank_split_cell_info_dfs}')\n",
    "\n",
    "# unique_shank_ids: [1 2 3 4 8 9 10 12]\n",
    "# shank_split_channel_idxs: [[2, 3, 4, 5, 6], [7, 8, 9, 10, 11, 12, 13, 14, 15, 16, 17, 18], [19, 20, 21, 22], [23, 24, 25], [26, 27, 28, 29, 30, 31, 32, 33, 34, 35, 36, 37, 38, 39], [40], [41, 42, 43, 44, 45, 46, 47, 48, 49, 50, 51, 52, 53, 54, 55], [56, 57, 58, 59, 60]]"
   ]
  },
  {
   "cell_type": "markdown",
   "id": "44ee37c0-8924-4dd0-bceb-e22435e76753",
   "metadata": {},
   "source": []
  },
  {
   "cell_type": "markdown",
   "id": "09111b02-9ddd-4cbd-bf33-c0f9a7b35f1f",
   "metadata": {
    "tags": []
   },
   "source": [
    "# 2022-11-01 - Test newly computed ripples and add them to the SpikeRasterWindow for visualization/comparison\n",
    "Requires\n",
    "```\n",
    "git clone https://github.com/CommanderPho/cnn_ripple.git\n",
    "cd ./cnn_ripple\n",
    "python -m pip install -e .\n",
    "```"
   ]
  },
  {
   "cell_type": "code",
   "execution_count": null,
   "id": "0be1ba94-eaa2-434e-88ab-1d54e2c536ee",
   "metadata": {},
   "outputs": [],
   "source": [
    "import dill as pickle\n",
    "from cnn_ripple.PhoRippleDetectionTesting import ExtendedRippleDetection, main_compute_with_params_loaded_from_xml\n",
    "\n",
    "\"\"\" TODO: refactor this into the session loading like the other imported properties \"\"\"\n",
    "def _perform_load_cnn_computed_ripples(active_local_session_path):\n",
    "    ## Load existing result instead\n",
    "    in_ripple_detector_filepath = active_local_session_path.joinpath('ripple_detector.pkl') # Path(r'W:\\Data\\KDIBA\\gor01\\one\\2006-6-07_11-26-53\\ripple_detector.pkl')\n",
    "    loaded_ripple_detector = ExtendedRippleDetection.load(in_ripple_detector_filepath)\n",
    "    return loaded_ripple_detector\n",
    "\n",
    "loaded_ripple_detector = _perform_load_cnn_computed_ripples(curr_active_pipeline.sess.basepath)\n",
    "loaded_ripple_detector\n",
    "\n",
    "ripple_predictions_df = loaded_ripple_detector.continuous_ripple_likelihoods_df\n",
    "prediction_timesteps = loaded_ripple_detector.continuous_ripple_prediction_timesteps\n",
    "prediction_values = loaded_ripple_detector.continuous_ripple_shanks_prediction_values_array \n",
    "new_ripple_df = loaded_ripple_detector.detected_ripple_epochs_df\n",
    "out_all_ripple_results =  DynamicContainer.init_from_dict(loaded_ripple_detector.out_all_ripple_results.copy())"
   ]
  },
  {
   "cell_type": "code",
   "execution_count": null,
   "id": "53070e83-bae7-4579-822e-899fc717eea6",
   "metadata": {
    "pycharm": {
     "is_executing": false,
     "name": "#%%\n"
    },
    "scene__Default Scene": true,
    "tags": [
     "ActiveScene",
     "gui",
     "launch",
     "main_run"
    ]
   },
   "outputs": [],
   "source": [
    "from neuropy.core import Epoch\n",
    "from pyphoplacecellanalysis.GUI.PyQtPlot.Widgets.Mixins.RenderTimeEpochs.Specific2DRenderTimeEpochs import General2DRenderTimeEpochs, SessionEpochs2DRenderTimeEpochs, PBE_2DRenderTimeEpochs, Laps2DRenderTimeEpochs, Replays_2DRenderTimeEpochs, Ripples_2DRenderTimeEpochs\n",
    "from pyphoplacecellanalysis.GUI.PyQtPlot.Widgets.Mixins.RenderTimeEpochs.Specific2DRenderTimeEpochs import NewRipples_2DRenderTimeEpochs\n",
    "from pyphoplacecellanalysis.General.Model.Datasources.IntervalDatasource import IntervalsDatasource\n",
    "\n",
    "def _build_cnn_computed_ripples_datasource(loaded_ripple_detector):    \n",
    "    ## Load DataFrame version:\n",
    "    # new_ripple_df = pd.read_pickle(r'W:\\Data\\KDIBA\\gor01\\one\\2006-6-08_14-26-15\\ripple_df.pkl')\n",
    "    new_ripple_df = loaded_ripple_detector.ripple_df.copy()\n",
    "    new_ripple_df['durations'] = new_ripple_df.stop - new_ripple_df.start\n",
    "    new_ripple_df['label'] = new_ripple_df.index.astype('str')\n",
    "    # new_ripple_df\n",
    "\n",
    "    # Build Epoch version:\n",
    "    new_ripple_epochs = Epoch(epochs=new_ripple_df)\n",
    "    # Build IntervalDatasource version:\n",
    "    # new_ripples_intervals_datasource = IntervalsDatasource.init_from_times_values(datasource_name='NewRipples', t_starts=new_ripple_df.start.to_numpy(), t_durations=new_ripple_df.durations.to_numpy()) # TypeError: init_from_times_values() missing 2 required positional arguments: 'values' and 'dataframe_vis_columns_function'\n",
    "    new_ripples_intervals_datasource = IntervalsDatasource.init_from_epoch_object(new_ripple_epochs, NewRipples_2DRenderTimeEpochs.build_epochs_dataframe_formatter(), datasource_name='NewRipples')\n",
    "    # new_ripples_intervals_datasource\n",
    "    \n",
    "    return new_ripples_intervals_datasource\n",
    "\n",
    "## General Adding:\n",
    "new_ripples_intervals_datasource = _build_cnn_computed_ripples_datasource(loaded_ripple_detector)\n",
    "\n",
    "## Get GUI components from last_added_display_outputs:\n",
    "spike_raster_window = curr_active_pipeline.last_added_display_output['spike_raster_window'] # Extract variables from the `curr_active_pipeline.last_added_display_output` dictionary to the local workspace\n",
    "# Extras:\n",
    "active_2d_plot = spike_raster_window.spike_raster_plt_2d # <pyphoplacecellanalysis.GUI.PyQtPlot.Widgets.SpikeRasterWidgets.Spike2DRaster.Spike2DRaster at 0x196c7244280>\n",
    "active_3d_plot = spike_raster_window.spike_raster_plt_3d # <pyphoplacecellanalysis.GUI.PyQtPlot.Widgets.SpikeRasterWidgets.Spike2DRaster.Spike2DRaster at 0x196c7244280>\n",
    "main_graphics_layout_widget = active_2d_plot.ui.main_graphics_layout_widget # GraphicsLayoutWidget\n",
    "main_plot_widget = active_2d_plot.plots.main_plot_widget # PlotItem\n",
    "background_static_scroll_plot_widget = active_2d_plot.plots.background_static_scroll_window_plot # PlotItem\n",
    "\n",
    "# active_2d_plot, active_3d_plot, spike_raster_window = curr_active_pipeline.last_added_display_output['spike_raster_plt_2d'], curr_active_pipeline.last_added_display_output['spike_raster_plt_3d'], curr_active_pipeline.last_added_display_output['spike_raster_window'] # Extract variables from the `curr_active_pipeline.last_added_display_output` dictionary to the local workspace\n",
    "\n",
    "active_2d_plot.add_rendered_intervals(new_ripples_intervals_datasource, name='new_ripples', child_plots=[background_static_scroll_plot_widget, main_plot_widget], debug_print=False)\n",
    "# Also adds it to the 3D plot:\n",
    "if active_3d_plot is not None:\n",
    "    active_3d_plot.add_rendered_intervals(new_ripples_intervals_datasource, name='new_ripples')\n",
    "    \n",
    "   "
   ]
  },
  {
   "cell_type": "markdown",
   "id": "13ef5dc9-a883-4edc-90ac-d5c2a9cbae10",
   "metadata": {
    "jp-MarkdownHeadingCollapsed": true,
    "pycharm": {
     "is_executing": false,
     "name": "#%%\n"
    },
    "scene__Default Scene": true,
    "tags": [
     "ActiveScene",
     "gui",
     "launch",
     "main_run"
    ]
   },
   "source": [
    "## Embedded matplotlib_render_plot_widget display of new ripples"
   ]
  },
  {
   "cell_type": "code",
   "execution_count": null,
   "id": "1f1d6097-be65-42b4-992f-0953012d4de8",
   "metadata": {},
   "outputs": [],
   "source": [
    "new_ripple_mpl_plot = active_2d_plot.add_new_matplotlib_render_plot_widget(name='new_ripple_predictions')\n",
    "widget, fig, ax = new_ripple_mpl_plot"
   ]
  },
  {
   "cell_type": "code",
   "execution_count": null,
   "id": "44e3902a-ef8c-4ea8-933b-328db494c716",
   "metadata": {},
   "outputs": [],
   "source": [
    "widget.update()"
   ]
  },
  {
   "cell_type": "code",
   "execution_count": null,
   "id": "19166732-9805-44fc-9563-2678bb2b9c36",
   "metadata": {},
   "outputs": [],
   "source": [
    "widget.draw()"
   ]
  },
  {
   "cell_type": "code",
   "execution_count": null,
   "id": "ce8bd2c2-b2b9-4424-892b-d969143001ed",
   "metadata": {},
   "outputs": [],
   "source": [
    "out = ax.plot(prediction_timesteps, np.squeeze(a_result['predictions']))"
   ]
  },
  {
   "cell_type": "code",
   "execution_count": null,
   "id": "77a501f2-dc37-4edf-af08-6ba12002ee4f",
   "metadata": {
    "pycharm": {
     "is_executing": false,
     "name": "#%%\n"
    },
    "scene__Default Scene": true,
    "tags": [
     "ActiveScene",
     "gui",
     "launch",
     "main_run"
    ]
   },
   "outputs": [],
   "source": [
    "active_2d_plot.sync_matplotlib_render_plot_widget() # Sync it with the active window:"
   ]
  },
  {
   "cell_type": "markdown",
   "id": "9d02b6a1-41a0-4e96-86e7-c9e9adacb4c0",
   "metadata": {
    "pycharm": {
     "is_executing": false,
     "name": "#%%\n"
    },
    "scene__Default Scene": true,
    "tags": [
     "ActiveScene",
     "gui",
     "launch",
     "main_run"
    ]
   },
   "source": [
    "`active_3d_plot.add_rendered_intervals(new_ripples_intervals_datasource, name='new_ripples')`"
   ]
  },
  {
   "cell_type": "markdown",
   "id": "862a3a0d-3ecb-4899-a968-6f70038f1655",
   "metadata": {},
   "source": [
    "# NEXT"
   ]
  },
  {
   "cell_type": "markdown",
   "id": "e49aea09-8008-4243-9846-6eed225e5198",
   "metadata": {},
   "source": [
    "Which best describes the transfer function between long and short?\n",
    "- Position Scaling (random, non-negative)\n",
    "- Position Translation (random)\n",
    "- Rate Scaling (position preserved, only possible on overlapping parts)"
   ]
  },
  {
   "cell_type": "markdown",
   "id": "ab058bf4-bbf3-4bad-bc43-f8d2c564094f",
   "metadata": {},
   "source": [
    "- Add as several different metrics\n",
    "\n",
    "- NumFiring rate\n",
    "\n",
    "- Compare ratemaps for before and after"
   ]
  },
  {
   "cell_type": "code",
   "execution_count": null,
   "id": "fb103bba-2375-46b0-8e67-9ac20e1c481d",
   "metadata": {},
   "outputs": [],
   "source": [
    "%matplotlib qt\n",
    "from pyphoplacecellanalysis.General.Mixins.CrossComputationComparisonHelpers import _find_any_context_neurons\n",
    "from neuropy.utils.colors_util import get_neuron_colors\n",
    "from neuropy.core.neuron_identities import PlotStringBrevityModeEnum\n",
    "\n",
    "def build_neurons_color_map(n_neurons:int, sortby=None, cmap=None, included_unit_indicies=None, included_unit_neuron_IDs=None):\n",
    "    if sortby is None:\n",
    "        # sort by the location of the placefield's maximum\n",
    "        sort_ind = np.argsort(np.argmax(tuning_curves, axis=1))\n",
    "    elif isinstance(sortby, (list, np.ndarray)):\n",
    "        # use the provided sort indicies\n",
    "        sort_ind = sortby\n",
    "    else:\n",
    "        sort_ind = np.arange(n_neurons)\n",
    "\n",
    "    # Use the get_neuron_colors function to generate colors for these neurons\n",
    "    neurons_colors_array = get_neuron_colors(sort_ind, cmap=cmap)\n",
    "    return neurons_colors_array\n",
    "\n",
    "\n",
    "long_results = curr_active_pipeline.computation_results['maze1_PYR'].computed_data\n",
    "short_results = curr_active_pipeline.computation_results['maze2_PYR'].computed_data\n",
    "curr_any_context_neurons = _find_any_context_neurons(*[curr_active_pipeline.computation_results[k].computed_data.pf1D.ratemap.neuron_ids for k in ['maze1_PYR', 'maze2_PYR']])\n",
    "n_neurons = len(curr_any_context_neurons)\n",
    "shared_fragile_neuron_IDXs = np.arange(n_neurons)\n",
    "neurons_colors_array = build_neurons_color_map(n_neurons, sortby=shared_fragile_neuron_IDXs, cmap=None, included_unit_indicies=None, included_unit_neuron_IDs=curr_any_context_neurons)\n",
    "# neurons_colors_array\n",
    "\n",
    "print(f'n_neurons: {n_neurons}')\n",
    "print(f'shared_fragile_neuron_IDXs: {shared_fragile_neuron_IDXs}.\\t np.shape: {np.shape(shared_fragile_neuron_IDXs)}')\n",
    "print(f'curr_any_context_neurons: {curr_any_context_neurons}.\\t np.shape: {np.shape(curr_any_context_neurons)}')"
   ]
  },
  {
   "cell_type": "code",
   "execution_count": null,
   "id": "6c9590b0-31ec-40a3-926c-0708773ee653",
   "metadata": {},
   "outputs": [],
   "source": [
    "long_results.pf1D.plot_ratemaps_1D(sortby=shared_fragile_neuron_IDXs, included_unit_neuron_IDs=curr_any_context_neurons, brev_mode=PlotStringBrevityModeEnum.NONE, normalize=True, debug_print=False)"
   ]
  },
  {
   "cell_type": "code",
   "execution_count": null,
   "id": "ec122d69-2dfa-4f1d-8465-eb9df774d144",
   "metadata": {},
   "outputs": [],
   "source": [
    "short_results.pf1D.plot_ratemaps_1D(sortby=shared_fragile_neuron_IDXs, included_unit_neuron_IDs=curr_any_context_neurons, brev_mode=PlotStringBrevityModeEnum.NONE, normalize=True, debug_print=False)"
   ]
  },
  {
   "cell_type": "code",
   "execution_count": null,
   "id": "b00f4234-55fa-4f8a-b7b5-662e15164cba",
   "metadata": {},
   "outputs": [],
   "source": [
    "active_firing_rate_trends = long_results['firing_rate_trends']\n",
    "instantaneous_unit_specific_spike_rate = active_firing_rate_trends.all_session_spikes.instantaneous_unit_specific_spike_rate"
   ]
  },
  {
   "cell_type": "markdown",
   "id": "3d58bc86-719f-4217-929e-c7f0fad708aa",
   "metadata": {},
   "source": [
    "LOGICAL_ERROR: for the placefields to be compared across epochs (for neurons present in both epochs), the spatial bins must align, which I believe they DO NOT.\n",
    "\n",
    "long_results.pf1D.bin_info # {'mode': 'bin_size', 'xstep': 3.793023081021702, 'xnum_bins': 64}\n",
    "\n",
    "short_results.pf1D.bin_info # {'mode': 'bin_size', 'xstep': 3.793023081021702, 'xnum_bins': 41}"
   ]
  },
  {
   "cell_type": "code",
   "execution_count": null,
   "id": "9973b758-ae40-4dea-9be7-658e2e6c5eb9",
   "metadata": {},
   "outputs": [],
   "source": [
    "long_results.pf1D.bin_info # {'mode': 'bin_size', 'xstep': 3.793023081021702, 'xnum_bins': 64}"
   ]
  },
  {
   "cell_type": "code",
   "execution_count": null,
   "id": "9690ddc9-5ffa-4acc-a780-c57bf4ad1f5b",
   "metadata": {},
   "outputs": [],
   "source": [
    "short_results.pf1D.bin_info # {'mode': 'bin_size', 'xstep': 3.793023081021702, 'xnum_bins': 41}"
   ]
  },
  {
   "cell_type": "code",
   "execution_count": null,
   "id": "cfb308a6-09bb-46f3-8e76-f10c7c17a65c",
   "metadata": {},
   "outputs": [],
   "source": [
    "long_results.pf1D.plot_ratemaps_1D(sortby='id')"
   ]
  },
  {
   "cell_type": "code",
   "execution_count": null,
   "id": "f6673386-f20f-4a57-8eef-cd2a767407ae",
   "metadata": {},
   "outputs": [],
   "source": [
    "curr_active_pipeline.reload_default_display_functions()"
   ]
  },
  {
   "cell_type": "code",
   "execution_count": null,
   "id": "589af0ab-9b93-4c3c-a9e9-e33416e7ed4b",
   "metadata": {},
   "outputs": [],
   "source": [
    "# num_replays\n",
    "# avg_replay_firing_rate\n",
    "# avg_non_replay_firing_rate\n",
    "# max/min/mean/range firing_rate\n",
    "\n",
    "\n",
    "\n",
    "long_results.pf1D\n",
    "\n"
   ]
  }
 ],
 "metadata": {
  "kernelspec": {
   "display_name": "Python [conda env:phoviz_ultimate]",
   "language": "python",
   "name": "conda-env-phoviz_ultimate-py"
  },
  "language_info": {
   "codemirror_mode": {
    "name": "ipython",
    "version": 3
   },
   "file_extension": ".py",
   "mimetype": "text/x-python",
   "name": "python",
   "nbconvert_exporter": "python",
   "pygments_lexer": "ipython3",
   "version": "3.9.13"
  },
  "scenes_data": {
   "active_scene": "Default Scene",
   "init_scene": null,
   "scenes": [
    "Default Scene"
   ]
  },
  "toc-autonumbering": false,
  "toc-showcode": false,
  "toc-showmarkdowntxt": false,
  "toc-showtags": false,
  "vscode": {
   "interpreter": {
    "hash": "76e56ffcacef5b025de7ac4a8c5e54dee80d79b7b8ed3f6c417edc256da3708c"
   }
  }
 },
 "nbformat": 4,
 "nbformat_minor": 5
}
