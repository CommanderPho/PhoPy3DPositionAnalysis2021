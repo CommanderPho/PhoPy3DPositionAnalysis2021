{
 "cells": [
  {
   "cell_type": "code",
   "execution_count": 1,
   "id": "0056bc66-7629-4ef7-8c87-f28f8fcd9dc8",
   "metadata": {
    "autorun": true,
    "notebookRunGroups": {
     "groupValue": "1"
    },
    "tags": [
     "imports",
     "REQUIRED",
     "ACTIVE"
    ]
   },
   "outputs": [
    {
     "name": "stdout",
     "output_type": "stream",
     "text": [
      "Automatic pdb calling has been turned OFF\n",
      "build_module_logger(module_name=\"Spike3D.pipeline\"):\n",
      "\t Module logger com.PhoHale.Spike3D.pipeline has file logging enabled and will log to EXTERNAL/TESTING/Logging/debug_com.PhoHale.Spike3D.pipeline.log\n"
     ]
    }
   ],
   "source": [
    "%config IPCompleter.use_jedi = False\n",
    "%pdb off\n",
    "%load_ext autoreload\n",
    "%autoreload 3\n",
    "import sys\n",
    "from copy import deepcopy\n",
    "from typing import List, Dict, Optional, Union, Callable\n",
    "from pathlib import Path\n",
    "import pathlib\n",
    "import numpy as np\n",
    "import pandas as pd\n",
    "import tables as tb\n",
    "from copy import deepcopy\n",
    "from datetime import datetime, timedelta\n",
    "from attrs import define, field, Factory\n",
    "\n",
    "# required to enable non-blocking interaction:\n",
    "%gui qt5\n",
    "\n",
    "## Pho's Custom Libraries:\n",
    "from pyphocorehelpers.Filesystem.path_helpers import find_first_extant_path\n",
    "from pyphocorehelpers.function_helpers import function_attributes\n",
    "from pyphocorehelpers.print_helpers import CapturedException\n",
    "\n",
    "# Jupyter interactivity:\n",
    "import ipywidgets as widgets\n",
    "from IPython.display import display\n",
    "from pyphocorehelpers.gui.Jupyter.JupyterButtonRowWidget import JupyterButtonRowWidget\n",
    "\n",
    "# pyPhoPlaceCellAnalysis:\n",
    "# NeuroPy (Diba Lab Python Repo) Loading\n",
    "from neuropy.core.session.Formats.BaseDataSessionFormats import DataSessionFormatRegistryHolder\n",
    "from neuropy.core.session.Formats.Specific.BapunDataSessionFormat import BapunDataSessionFormatRegisteredClass\n",
    "from neuropy.core.session.Formats.Specific.KDibaOldDataSessionFormat import KDibaOldDataSessionFormatRegisteredClass\n",
    "from neuropy.core.session.Formats.Specific.RachelDataSessionFormat import RachelDataSessionFormat\n",
    "from neuropy.core.session.Formats.Specific.HiroDataSessionFormat import HiroDataSessionFormatRegisteredClass\n",
    "from neuropy.utils.matplotlib_helpers import matplotlib_configuration_update\n",
    "\n",
    "## For computation parameters:\n",
    "from neuropy.utils.result_context import IdentifyingContext\n",
    "from neuropy.core.session.Formats.BaseDataSessionFormats import find_local_session_paths\n",
    "from neuropy.core import Epoch\n",
    "\n",
    "from pyphoplacecellanalysis.General.Pipeline.Stages.Loading import saveData, loadData\n",
    "import pyphoplacecellanalysis.General.Batch.runBatch\n",
    "from pyphoplacecellanalysis.General.Batch.runBatch import BatchRun, BatchResultDataframeAccessor, run_diba_batch, BatchComputationProcessOptions, BatchSessionCompletionHandler, SavingOptions\n",
    "from pyphoplacecellanalysis.General.Pipeline.NeuropyPipeline import PipelineSavingScheme\n",
    "\n",
    "from neuropy.core.user_annotations import UserAnnotationsManager\n",
    "from pyphoplacecellanalysis.General.Batch.runBatch import SessionBatchProgress\n",
    "from pyphoplacecellanalysis.General.Batch.AcrossSessionResults import AcrossSessionsResults, AcrossSessionTables, AcrossSessionsVisualizations\n",
    "\n",
    "from pyphocorehelpers.Filesystem.path_helpers import set_posix_windows\n",
    "\n",
    "from pyphocorehelpers.print_helpers import CapturedException\n",
    "from pyphoplacecellanalysis.General.Batch.AcrossSessionResults import InstantaneousFiringRatesDataframeAccessor\n",
    "from pyphoplacecellanalysis.General.Batch.runBatch import PipelineCompletionResult, BatchSessionCompletionHandler\n",
    "\n",
    "from pyphocorehelpers.Filesystem.metadata_helpers import FilesystemMetadata, get_file_metadata\n",
    "from pyphocorehelpers.Filesystem.path_helpers import discover_data_files, generate_copydict, copy_movedict, copy_file\n",
    "from pyphoplacecellanalysis.General.Batch.runBatch import get_file_str_if_file_exists\n",
    "from pyphoplacecellanalysis.General.Batch.AcrossSessionResults import check_output_h5_files, copy_files_in_filelist_to_dest\n",
    "from pyphoplacecellanalysis.General.Batch.runBatch import ConcreteSessionFolder, BackupMethods\n",
    "\n",
    "from pyphoplacecellanalysis.General.Batch.NonInteractiveProcessing import batch_perform_all_plots, BatchPhoJonathanFiguresHelper\n",
    "from pyphoplacecellanalysis.General.Batch.PhoDiba2023Paper import PAPER_FIGURE_figure_1_add_replay_epoch_rasters, PAPER_FIGURE_figure_1_full, PAPER_FIGURE_figure_3, main_complete_figure_generations\n",
    "\n",
    "from neuropy.core.neuron_identities import NeuronIdentityDataframeAccessor\n",
    "from pyphoplacecellanalysis.General.Pipeline.Stages.ComputationFunctions.MultiContextComputationFunctions.LongShortTrackComputations import build_merged_neuron_firing_rate_indicies\n",
    "\n",
    "BATCH_DATE_TO_USE = '2023-10-07' # used for filenames throught the notebook"
   ]
  },
  {
   "cell_type": "code",
   "execution_count": 2,
   "id": "8ef5938c",
   "metadata": {
    "notebookRunGroups": {
     "groupValue": "1"
    },
    "tags": []
   },
   "outputs": [
    {
     "name": "stdout",
     "output_type": "stream",
     "text": [
      "Loading loaded session pickle file results : /nfs/turbo/umms-kdiba/Data/global_batch_result_2023-10-07.pkl... done.\n",
      "no difference between provided and internal paths.\n"
     ]
    },
    {
     "data": {
      "text/html": [
       "<div>\n",
       "<style scoped>\n",
       "    .dataframe tbody tr th:only-of-type {\n",
       "        vertical-align: middle;\n",
       "    }\n",
       "\n",
       "    .dataframe tbody tr th {\n",
       "        vertical-align: top;\n",
       "    }\n",
       "\n",
       "    .dataframe thead th {\n",
       "        text-align: right;\n",
       "    }\n",
       "</style>\n",
       "<table border=\"1\" class=\"dataframe\">\n",
       "  <thead>\n",
       "    <tr style=\"text-align: right;\">\n",
       "      <th></th>\n",
       "      <th>format_name</th>\n",
       "      <th>animal</th>\n",
       "      <th>exper_name</th>\n",
       "      <th>session_name</th>\n",
       "      <th>context</th>\n",
       "      <th>basedirs</th>\n",
       "      <th>status</th>\n",
       "      <th>errors</th>\n",
       "      <th>session_datetime</th>\n",
       "      <th>n_long_laps</th>\n",
       "      <th>n_long_replays</th>\n",
       "      <th>n_short_laps</th>\n",
       "      <th>n_short_replays</th>\n",
       "      <th>is_ready</th>\n",
       "      <th>global_computation_result_file</th>\n",
       "      <th>loaded_session_pickle_file</th>\n",
       "      <th>ripple_result_file</th>\n",
       "      <th>has_user_replay_annotations</th>\n",
       "      <th>has_user_grid_bin_bounds_annotations</th>\n",
       "    </tr>\n",
       "  </thead>\n",
       "  <tbody>\n",
       "    <tr>\n",
       "      <th>0</th>\n",
       "      <td>kdiba</td>\n",
       "      <td>gor01</td>\n",
       "      <td>one</td>\n",
       "      <td>2006-6-07_11-26-53</td>\n",
       "      <td>kdiba_gor01_one_2006-6-07_11-26-53</td>\n",
       "      <td>/nfs/turbo/umms-kdiba/Data/KDIBA/gor01/one/200...</td>\n",
       "      <td>SessionBatchProgress.NOT_STARTED</td>\n",
       "      <td>None</td>\n",
       "      <td>2006-06-07 11:26:53</td>\n",
       "      <td>0</td>\n",
       "      <td>0</td>\n",
       "      <td>0</td>\n",
       "      <td>0</td>\n",
       "      <td>False</td>\n",
       "      <td>/nfs/turbo/umms-kdiba/Data/KDIBA/gor01/one/200...</td>\n",
       "      <td>/nfs/turbo/umms-kdiba/Data/KDIBA/gor01/one/200...</td>\n",
       "      <td>/nfs/turbo/umms-kdiba/Data/KDIBA/gor01/one/200...</td>\n",
       "      <td>False</td>\n",
       "      <td>True</td>\n",
       "    </tr>\n",
       "    <tr>\n",
       "      <th>1</th>\n",
       "      <td>kdiba</td>\n",
       "      <td>gor01</td>\n",
       "      <td>one</td>\n",
       "      <td>2006-6-08_14-26-15</td>\n",
       "      <td>kdiba_gor01_one_2006-6-08_14-26-15</td>\n",
       "      <td>/nfs/turbo/umms-kdiba/Data/KDIBA/gor01/one/200...</td>\n",
       "      <td>SessionBatchProgress.COMPLETED</td>\n",
       "      <td>None</td>\n",
       "      <td>2006-06-08 14:26:15</td>\n",
       "      <td>40</td>\n",
       "      <td>354</td>\n",
       "      <td>40</td>\n",
       "      <td>272</td>\n",
       "      <td>True</td>\n",
       "      <td>/nfs/turbo/umms-kdiba/Data/KDIBA/gor01/one/200...</td>\n",
       "      <td>/nfs/turbo/umms-kdiba/Data/KDIBA/gor01/one/200...</td>\n",
       "      <td>/nfs/turbo/umms-kdiba/Data/KDIBA/gor01/one/200...</td>\n",
       "      <td>True</td>\n",
       "      <td>True</td>\n",
       "    </tr>\n",
       "    <tr>\n",
       "      <th>2</th>\n",
       "      <td>kdiba</td>\n",
       "      <td>gor01</td>\n",
       "      <td>one</td>\n",
       "      <td>2006-6-09_1-22-43</td>\n",
       "      <td>kdiba_gor01_one_2006-6-09_1-22-43</td>\n",
       "      <td>/nfs/turbo/umms-kdiba/Data/KDIBA/gor01/one/200...</td>\n",
       "      <td>SessionBatchProgress.COMPLETED</td>\n",
       "      <td>None</td>\n",
       "      <td>2006-06-09 01:22:43</td>\n",
       "      <td>46</td>\n",
       "      <td>235</td>\n",
       "      <td>40</td>\n",
       "      <td>180</td>\n",
       "      <td>True</td>\n",
       "      <td>/nfs/turbo/umms-kdiba/Data/KDIBA/gor01/one/200...</td>\n",
       "      <td>/nfs/turbo/umms-kdiba/Data/KDIBA/gor01/one/200...</td>\n",
       "      <td>/nfs/turbo/umms-kdiba/Data/KDIBA/gor01/one/200...</td>\n",
       "      <td>True</td>\n",
       "      <td>True</td>\n",
       "    </tr>\n",
       "    <tr>\n",
       "      <th>3</th>\n",
       "      <td>kdiba</td>\n",
       "      <td>gor01</td>\n",
       "      <td>one</td>\n",
       "      <td>2006-6-09_3-23-37</td>\n",
       "      <td>kdiba_gor01_one_2006-6-09_3-23-37</td>\n",
       "      <td>/nfs/turbo/umms-kdiba/Data/KDIBA/gor01/one/200...</td>\n",
       "      <td>SessionBatchProgress.NOT_STARTED</td>\n",
       "      <td>None</td>\n",
       "      <td>2006-06-09 03:23:37</td>\n",
       "      <td>0</td>\n",
       "      <td>0</td>\n",
       "      <td>0</td>\n",
       "      <td>0</td>\n",
       "      <td>False</td>\n",
       "      <td></td>\n",
       "      <td></td>\n",
       "      <td>/nfs/turbo/umms-kdiba/Data/KDIBA/gor01/one/200...</td>\n",
       "      <td>False</td>\n",
       "      <td>True</td>\n",
       "    </tr>\n",
       "    <tr>\n",
       "      <th>4</th>\n",
       "      <td>kdiba</td>\n",
       "      <td>gor01</td>\n",
       "      <td>one</td>\n",
       "      <td>2006-6-12_15-55-31</td>\n",
       "      <td>kdiba_gor01_one_2006-6-12_15-55-31</td>\n",
       "      <td>/nfs/turbo/umms-kdiba/Data/KDIBA/gor01/one/200...</td>\n",
       "      <td>SessionBatchProgress.COMPLETED</td>\n",
       "      <td>None</td>\n",
       "      <td>2006-06-12 15:55:31</td>\n",
       "      <td>40</td>\n",
       "      <td>57</td>\n",
       "      <td>34</td>\n",
       "      <td>76</td>\n",
       "      <td>True</td>\n",
       "      <td>/nfs/turbo/umms-kdiba/Data/KDIBA/gor01/one/200...</td>\n",
       "      <td>/nfs/turbo/umms-kdiba/Data/KDIBA/gor01/one/200...</td>\n",
       "      <td>/nfs/turbo/umms-kdiba/Data/KDIBA/gor01/one/200...</td>\n",
       "      <td>True</td>\n",
       "      <td>True</td>\n",
       "    </tr>\n",
       "    <tr>\n",
       "      <th>...</th>\n",
       "      <td>...</td>\n",
       "      <td>...</td>\n",
       "      <td>...</td>\n",
       "      <td>...</td>\n",
       "      <td>...</td>\n",
       "      <td>...</td>\n",
       "      <td>...</td>\n",
       "      <td>...</td>\n",
       "      <td>...</td>\n",
       "      <td>...</td>\n",
       "      <td>...</td>\n",
       "      <td>...</td>\n",
       "      <td>...</td>\n",
       "      <td>...</td>\n",
       "      <td>...</td>\n",
       "      <td>...</td>\n",
       "      <td>...</td>\n",
       "      <td>...</td>\n",
       "      <td>...</td>\n",
       "    </tr>\n",
       "    <tr>\n",
       "      <th>67</th>\n",
       "      <td>kdiba</td>\n",
       "      <td>pin01</td>\n",
       "      <td>one</td>\n",
       "      <td>fet11-04_21-20-3</td>\n",
       "      <td>kdiba_pin01_one_fet11-04_21-20-3</td>\n",
       "      <td>/nfs/turbo/umms-kdiba/Data/KDIBA/pin01/one/fet...</td>\n",
       "      <td>SessionBatchProgress.NOT_STARTED</td>\n",
       "      <td>None</td>\n",
       "      <td>2009-11-04 21:20:03</td>\n",
       "      <td>0</td>\n",
       "      <td>0</td>\n",
       "      <td>0</td>\n",
       "      <td>0</td>\n",
       "      <td>False</td>\n",
       "      <td>/nfs/turbo/umms-kdiba/Data/KDIBA/pin01/one/fet...</td>\n",
       "      <td>/nfs/turbo/umms-kdiba/Data/KDIBA/pin01/one/fet...</td>\n",
       "      <td>/nfs/turbo/umms-kdiba/Data/KDIBA/pin01/one/fet...</td>\n",
       "      <td>False</td>\n",
       "      <td>True</td>\n",
       "    </tr>\n",
       "    <tr>\n",
       "      <th>68</th>\n",
       "      <td>kdiba</td>\n",
       "      <td>pin01</td>\n",
       "      <td>one</td>\n",
       "      <td>redundant</td>\n",
       "      <td>kdiba_pin01_one_redundant</td>\n",
       "      <td>/nfs/turbo/umms-kdiba/Data/KDIBA/pin01/one/red...</td>\n",
       "      <td>SessionBatchProgress.NOT_STARTED</td>\n",
       "      <td>None</td>\n",
       "      <td>NaT</td>\n",
       "      <td>0</td>\n",
       "      <td>0</td>\n",
       "      <td>0</td>\n",
       "      <td>0</td>\n",
       "      <td>False</td>\n",
       "      <td></td>\n",
       "      <td></td>\n",
       "      <td></td>\n",
       "      <td>False</td>\n",
       "      <td>False</td>\n",
       "    </tr>\n",
       "    <tr>\n",
       "      <th>69</th>\n",
       "      <td>kdiba</td>\n",
       "      <td>pin01</td>\n",
       "      <td>one</td>\n",
       "      <td>showclus</td>\n",
       "      <td>kdiba_pin01_one_showclus</td>\n",
       "      <td>/nfs/turbo/umms-kdiba/Data/KDIBA/pin01/one/sho...</td>\n",
       "      <td>SessionBatchProgress.NOT_STARTED</td>\n",
       "      <td>None</td>\n",
       "      <td>NaT</td>\n",
       "      <td>0</td>\n",
       "      <td>0</td>\n",
       "      <td>0</td>\n",
       "      <td>0</td>\n",
       "      <td>False</td>\n",
       "      <td></td>\n",
       "      <td></td>\n",
       "      <td></td>\n",
       "      <td>False</td>\n",
       "      <td>False</td>\n",
       "    </tr>\n",
       "    <tr>\n",
       "      <th>70</th>\n",
       "      <td>kdiba</td>\n",
       "      <td>pin01</td>\n",
       "      <td>one</td>\n",
       "      <td>sleep</td>\n",
       "      <td>kdiba_pin01_one_sleep</td>\n",
       "      <td>/nfs/turbo/umms-kdiba/Data/KDIBA/pin01/one/sleep</td>\n",
       "      <td>SessionBatchProgress.NOT_STARTED</td>\n",
       "      <td>None</td>\n",
       "      <td>NaT</td>\n",
       "      <td>0</td>\n",
       "      <td>0</td>\n",
       "      <td>0</td>\n",
       "      <td>0</td>\n",
       "      <td>False</td>\n",
       "      <td></td>\n",
       "      <td></td>\n",
       "      <td></td>\n",
       "      <td>False</td>\n",
       "      <td>False</td>\n",
       "    </tr>\n",
       "    <tr>\n",
       "      <th>71</th>\n",
       "      <td>kdiba</td>\n",
       "      <td>pin01</td>\n",
       "      <td>one</td>\n",
       "      <td>tmaze</td>\n",
       "      <td>kdiba_pin01_one_tmaze</td>\n",
       "      <td>/nfs/turbo/umms-kdiba/Data/KDIBA/pin01/one/tmaze</td>\n",
       "      <td>SessionBatchProgress.NOT_STARTED</td>\n",
       "      <td>None</td>\n",
       "      <td>NaT</td>\n",
       "      <td>0</td>\n",
       "      <td>0</td>\n",
       "      <td>0</td>\n",
       "      <td>0</td>\n",
       "      <td>False</td>\n",
       "      <td></td>\n",
       "      <td></td>\n",
       "      <td></td>\n",
       "      <td>False</td>\n",
       "      <td>False</td>\n",
       "    </tr>\n",
       "  </tbody>\n",
       "</table>\n",
       "<p>72 rows × 19 columns</p>\n",
       "</div>"
      ],
      "text/plain": [
       "   format_name animal exper_name        session_name  \\\n",
       "0        kdiba  gor01        one  2006-6-07_11-26-53   \n",
       "1        kdiba  gor01        one  2006-6-08_14-26-15   \n",
       "2        kdiba  gor01        one   2006-6-09_1-22-43   \n",
       "3        kdiba  gor01        one   2006-6-09_3-23-37   \n",
       "4        kdiba  gor01        one  2006-6-12_15-55-31   \n",
       "..         ...    ...        ...                 ...   \n",
       "67       kdiba  pin01        one    fet11-04_21-20-3   \n",
       "68       kdiba  pin01        one           redundant   \n",
       "69       kdiba  pin01        one            showclus   \n",
       "70       kdiba  pin01        one               sleep   \n",
       "71       kdiba  pin01        one               tmaze   \n",
       "\n",
       "                               context  \\\n",
       "0   kdiba_gor01_one_2006-6-07_11-26-53   \n",
       "1   kdiba_gor01_one_2006-6-08_14-26-15   \n",
       "2    kdiba_gor01_one_2006-6-09_1-22-43   \n",
       "3    kdiba_gor01_one_2006-6-09_3-23-37   \n",
       "4   kdiba_gor01_one_2006-6-12_15-55-31   \n",
       "..                                 ...   \n",
       "67    kdiba_pin01_one_fet11-04_21-20-3   \n",
       "68           kdiba_pin01_one_redundant   \n",
       "69            kdiba_pin01_one_showclus   \n",
       "70               kdiba_pin01_one_sleep   \n",
       "71               kdiba_pin01_one_tmaze   \n",
       "\n",
       "                                             basedirs  \\\n",
       "0   /nfs/turbo/umms-kdiba/Data/KDIBA/gor01/one/200...   \n",
       "1   /nfs/turbo/umms-kdiba/Data/KDIBA/gor01/one/200...   \n",
       "2   /nfs/turbo/umms-kdiba/Data/KDIBA/gor01/one/200...   \n",
       "3   /nfs/turbo/umms-kdiba/Data/KDIBA/gor01/one/200...   \n",
       "4   /nfs/turbo/umms-kdiba/Data/KDIBA/gor01/one/200...   \n",
       "..                                                ...   \n",
       "67  /nfs/turbo/umms-kdiba/Data/KDIBA/pin01/one/fet...   \n",
       "68  /nfs/turbo/umms-kdiba/Data/KDIBA/pin01/one/red...   \n",
       "69  /nfs/turbo/umms-kdiba/Data/KDIBA/pin01/one/sho...   \n",
       "70   /nfs/turbo/umms-kdiba/Data/KDIBA/pin01/one/sleep   \n",
       "71   /nfs/turbo/umms-kdiba/Data/KDIBA/pin01/one/tmaze   \n",
       "\n",
       "                              status errors    session_datetime  n_long_laps  \\\n",
       "0   SessionBatchProgress.NOT_STARTED   None 2006-06-07 11:26:53            0   \n",
       "1     SessionBatchProgress.COMPLETED   None 2006-06-08 14:26:15           40   \n",
       "2     SessionBatchProgress.COMPLETED   None 2006-06-09 01:22:43           46   \n",
       "3   SessionBatchProgress.NOT_STARTED   None 2006-06-09 03:23:37            0   \n",
       "4     SessionBatchProgress.COMPLETED   None 2006-06-12 15:55:31           40   \n",
       "..                               ...    ...                 ...          ...   \n",
       "67  SessionBatchProgress.NOT_STARTED   None 2009-11-04 21:20:03            0   \n",
       "68  SessionBatchProgress.NOT_STARTED   None                 NaT            0   \n",
       "69  SessionBatchProgress.NOT_STARTED   None                 NaT            0   \n",
       "70  SessionBatchProgress.NOT_STARTED   None                 NaT            0   \n",
       "71  SessionBatchProgress.NOT_STARTED   None                 NaT            0   \n",
       "\n",
       "    n_long_replays  n_short_laps  n_short_replays  is_ready  \\\n",
       "0                0             0                0     False   \n",
       "1              354            40              272      True   \n",
       "2              235            40              180      True   \n",
       "3                0             0                0     False   \n",
       "4               57            34               76      True   \n",
       "..             ...           ...              ...       ...   \n",
       "67               0             0                0     False   \n",
       "68               0             0                0     False   \n",
       "69               0             0                0     False   \n",
       "70               0             0                0     False   \n",
       "71               0             0                0     False   \n",
       "\n",
       "                       global_computation_result_file  \\\n",
       "0   /nfs/turbo/umms-kdiba/Data/KDIBA/gor01/one/200...   \n",
       "1   /nfs/turbo/umms-kdiba/Data/KDIBA/gor01/one/200...   \n",
       "2   /nfs/turbo/umms-kdiba/Data/KDIBA/gor01/one/200...   \n",
       "3                                                       \n",
       "4   /nfs/turbo/umms-kdiba/Data/KDIBA/gor01/one/200...   \n",
       "..                                                ...   \n",
       "67  /nfs/turbo/umms-kdiba/Data/KDIBA/pin01/one/fet...   \n",
       "68                                                      \n",
       "69                                                      \n",
       "70                                                      \n",
       "71                                                      \n",
       "\n",
       "                           loaded_session_pickle_file  \\\n",
       "0   /nfs/turbo/umms-kdiba/Data/KDIBA/gor01/one/200...   \n",
       "1   /nfs/turbo/umms-kdiba/Data/KDIBA/gor01/one/200...   \n",
       "2   /nfs/turbo/umms-kdiba/Data/KDIBA/gor01/one/200...   \n",
       "3                                                       \n",
       "4   /nfs/turbo/umms-kdiba/Data/KDIBA/gor01/one/200...   \n",
       "..                                                ...   \n",
       "67  /nfs/turbo/umms-kdiba/Data/KDIBA/pin01/one/fet...   \n",
       "68                                                      \n",
       "69                                                      \n",
       "70                                                      \n",
       "71                                                      \n",
       "\n",
       "                                   ripple_result_file  \\\n",
       "0   /nfs/turbo/umms-kdiba/Data/KDIBA/gor01/one/200...   \n",
       "1   /nfs/turbo/umms-kdiba/Data/KDIBA/gor01/one/200...   \n",
       "2   /nfs/turbo/umms-kdiba/Data/KDIBA/gor01/one/200...   \n",
       "3   /nfs/turbo/umms-kdiba/Data/KDIBA/gor01/one/200...   \n",
       "4   /nfs/turbo/umms-kdiba/Data/KDIBA/gor01/one/200...   \n",
       "..                                                ...   \n",
       "67  /nfs/turbo/umms-kdiba/Data/KDIBA/pin01/one/fet...   \n",
       "68                                                      \n",
       "69                                                      \n",
       "70                                                      \n",
       "71                                                      \n",
       "\n",
       "    has_user_replay_annotations  has_user_grid_bin_bounds_annotations  \n",
       "0                         False                                  True  \n",
       "1                          True                                  True  \n",
       "2                          True                                  True  \n",
       "3                         False                                  True  \n",
       "4                          True                                  True  \n",
       "..                          ...                                   ...  \n",
       "67                        False                                  True  \n",
       "68                        False                                 False  \n",
       "69                        False                                 False  \n",
       "70                        False                                 False  \n",
       "71                        False                                 False  \n",
       "\n",
       "[72 rows x 19 columns]"
      ]
     },
     "metadata": {},
     "output_type": "display_data"
    }
   ],
   "source": [
    "active_global_batch_result_filename=f'global_batch_result_{BATCH_DATE_TO_USE}.pkl'\n",
    "\n",
    "debug_print = False\n",
    "known_global_data_root_parent_paths = [Path(r'W:\\Data'), Path(r'/home/halechr/cloud/turbo/Data'), Path(r'/media/MAX/Data'), Path(r'/Volumes/MoverNew/data'), Path(r'/home/halechr/turbo/Data'), Path(r'/nfs/turbo/umms-kdiba/Data')] # , Path(r'/home/halechr/FastData')\n",
    "global_data_root_parent_path = find_first_extant_path(known_global_data_root_parent_paths)\n",
    "assert global_data_root_parent_path.exists(), f\"global_data_root_parent_path: {global_data_root_parent_path} does not exist! Is the right computer's config commented out above?\"\n",
    "## Build Pickle Path:\n",
    "global_batch_result_file_path = Path(global_data_root_parent_path).joinpath(active_global_batch_result_filename).resolve() # Use Default\n",
    "\n",
    "# try to load an existing batch result:\n",
    "global_batch_run = BatchRun.try_init_from_file(global_data_root_parent_path, active_global_batch_result_filename=active_global_batch_result_filename,\n",
    "\t\t\t\t\t\tskip_root_path_conversion=False, debug_print=debug_print) # on_needs_create_callback_fn=run_diba_batch\n",
    "\n",
    "batch_progress_df = global_batch_run.to_dataframe(expand_context=True, good_only=False) # all\n",
    "good_only_batch_progress_df = global_batch_run.to_dataframe(expand_context=True, good_only=True)\n",
    "batch_progress_df.batch_results.build_all_columns()\n",
    "good_only_batch_progress_df.batch_results.build_all_columns()\n",
    "batch_progress_df\n",
    "with pd.option_context('display.max_rows', 10, 'display.max_columns', None):  # more options can be specified also\n",
    "    # display(batch_progress_df)\n",
    "    # display(good_only_batch_progress_df)\n",
    "    display(batch_progress_df)"
   ]
  },
  {
   "cell_type": "markdown",
   "id": "ab824348",
   "metadata": {
    "tags": []
   },
   "source": [
    "# Run Batch Executions/Computations"
   ]
  },
  {
   "cell_type": "code",
   "execution_count": 3,
   "id": "019afbbd-70d2-4e75-9548-b6f22d2e31ca",
   "metadata": {
    "notebookRunGroups": {
     "groupValue": "12"
    },
    "scrolled": true,
    "tags": []
   },
   "outputs": [
    {
     "data": {
      "text/html": [
       "<div>\n",
       "<style scoped>\n",
       "    .dataframe tbody tr th:only-of-type {\n",
       "        vertical-align: middle;\n",
       "    }\n",
       "\n",
       "    .dataframe tbody tr th {\n",
       "        vertical-align: top;\n",
       "    }\n",
       "\n",
       "    .dataframe thead th {\n",
       "        text-align: right;\n",
       "    }\n",
       "</style>\n",
       "<table border=\"1\" class=\"dataframe\">\n",
       "  <thead>\n",
       "    <tr style=\"text-align: right;\">\n",
       "      <th></th>\n",
       "      <th>format_name</th>\n",
       "      <th>animal</th>\n",
       "      <th>exper_name</th>\n",
       "      <th>session_name</th>\n",
       "      <th>context</th>\n",
       "      <th>basedirs</th>\n",
       "      <th>status</th>\n",
       "      <th>errors</th>\n",
       "      <th>session_datetime</th>\n",
       "      <th>n_long_laps</th>\n",
       "      <th>n_long_replays</th>\n",
       "      <th>n_short_laps</th>\n",
       "      <th>n_short_replays</th>\n",
       "      <th>is_ready</th>\n",
       "      <th>global_computation_result_file</th>\n",
       "      <th>loaded_session_pickle_file</th>\n",
       "      <th>ripple_result_file</th>\n",
       "      <th>has_user_replay_annotations</th>\n",
       "      <th>has_user_grid_bin_bounds_annotations</th>\n",
       "    </tr>\n",
       "  </thead>\n",
       "  <tbody>\n",
       "    <tr>\n",
       "      <th>1</th>\n",
       "      <td>kdiba</td>\n",
       "      <td>gor01</td>\n",
       "      <td>one</td>\n",
       "      <td>2006-6-08_14-26-15</td>\n",
       "      <td>kdiba_gor01_one_2006-6-08_14-26-15</td>\n",
       "      <td>/nfs/turbo/umms-kdiba/Data/KDIBA/gor01/one/200...</td>\n",
       "      <td>SessionBatchProgress.COMPLETED</td>\n",
       "      <td>None</td>\n",
       "      <td>2006-06-08 14:26:15</td>\n",
       "      <td>40</td>\n",
       "      <td>354</td>\n",
       "      <td>40</td>\n",
       "      <td>272</td>\n",
       "      <td>True</td>\n",
       "      <td>/nfs/turbo/umms-kdiba/Data/KDIBA/gor01/one/200...</td>\n",
       "      <td>/nfs/turbo/umms-kdiba/Data/KDIBA/gor01/one/200...</td>\n",
       "      <td>/nfs/turbo/umms-kdiba/Data/KDIBA/gor01/one/200...</td>\n",
       "      <td>True</td>\n",
       "      <td>True</td>\n",
       "    </tr>\n",
       "    <tr>\n",
       "      <th>2</th>\n",
       "      <td>kdiba</td>\n",
       "      <td>gor01</td>\n",
       "      <td>one</td>\n",
       "      <td>2006-6-09_1-22-43</td>\n",
       "      <td>kdiba_gor01_one_2006-6-09_1-22-43</td>\n",
       "      <td>/nfs/turbo/umms-kdiba/Data/KDIBA/gor01/one/200...</td>\n",
       "      <td>SessionBatchProgress.COMPLETED</td>\n",
       "      <td>None</td>\n",
       "      <td>2006-06-09 01:22:43</td>\n",
       "      <td>46</td>\n",
       "      <td>235</td>\n",
       "      <td>40</td>\n",
       "      <td>180</td>\n",
       "      <td>True</td>\n",
       "      <td>/nfs/turbo/umms-kdiba/Data/KDIBA/gor01/one/200...</td>\n",
       "      <td>/nfs/turbo/umms-kdiba/Data/KDIBA/gor01/one/200...</td>\n",
       "      <td>/nfs/turbo/umms-kdiba/Data/KDIBA/gor01/one/200...</td>\n",
       "      <td>True</td>\n",
       "      <td>True</td>\n",
       "    </tr>\n",
       "    <tr>\n",
       "      <th>4</th>\n",
       "      <td>kdiba</td>\n",
       "      <td>gor01</td>\n",
       "      <td>one</td>\n",
       "      <td>2006-6-12_15-55-31</td>\n",
       "      <td>kdiba_gor01_one_2006-6-12_15-55-31</td>\n",
       "      <td>/nfs/turbo/umms-kdiba/Data/KDIBA/gor01/one/200...</td>\n",
       "      <td>SessionBatchProgress.COMPLETED</td>\n",
       "      <td>None</td>\n",
       "      <td>2006-06-12 15:55:31</td>\n",
       "      <td>40</td>\n",
       "      <td>57</td>\n",
       "      <td>34</td>\n",
       "      <td>76</td>\n",
       "      <td>True</td>\n",
       "      <td>/nfs/turbo/umms-kdiba/Data/KDIBA/gor01/one/200...</td>\n",
       "      <td>/nfs/turbo/umms-kdiba/Data/KDIBA/gor01/one/200...</td>\n",
       "      <td>/nfs/turbo/umms-kdiba/Data/KDIBA/gor01/one/200...</td>\n",
       "      <td>True</td>\n",
       "      <td>True</td>\n",
       "    </tr>\n",
       "    <tr>\n",
       "      <th>6</th>\n",
       "      <td>kdiba</td>\n",
       "      <td>gor01</td>\n",
       "      <td>two</td>\n",
       "      <td>2006-6-07_16-40-19</td>\n",
       "      <td>kdiba_gor01_two_2006-6-07_16-40-19</td>\n",
       "      <td>/nfs/turbo/umms-kdiba/Data/KDIBA/gor01/two/200...</td>\n",
       "      <td>SessionBatchProgress.COMPLETED</td>\n",
       "      <td>None</td>\n",
       "      <td>2006-06-07 16:40:19</td>\n",
       "      <td>42</td>\n",
       "      <td>287</td>\n",
       "      <td>40</td>\n",
       "      <td>446</td>\n",
       "      <td>True</td>\n",
       "      <td>/nfs/turbo/umms-kdiba/Data/KDIBA/gor01/two/200...</td>\n",
       "      <td>/nfs/turbo/umms-kdiba/Data/KDIBA/gor01/two/200...</td>\n",
       "      <td>/nfs/turbo/umms-kdiba/Data/KDIBA/gor01/two/200...</td>\n",
       "      <td>True</td>\n",
       "      <td>True</td>\n",
       "    </tr>\n",
       "    <tr>\n",
       "      <th>8</th>\n",
       "      <td>kdiba</td>\n",
       "      <td>gor01</td>\n",
       "      <td>two</td>\n",
       "      <td>2006-6-08_21-16-25</td>\n",
       "      <td>kdiba_gor01_two_2006-6-08_21-16-25</td>\n",
       "      <td>/nfs/turbo/umms-kdiba/Data/KDIBA/gor01/two/200...</td>\n",
       "      <td>SessionBatchProgress.COMPLETED</td>\n",
       "      <td>None</td>\n",
       "      <td>2006-06-08 21:16:25</td>\n",
       "      <td>40</td>\n",
       "      <td>62</td>\n",
       "      <td>40</td>\n",
       "      <td>77</td>\n",
       "      <td>True</td>\n",
       "      <td>/nfs/turbo/umms-kdiba/Data/KDIBA/gor01/two/200...</td>\n",
       "      <td>/nfs/turbo/umms-kdiba/Data/KDIBA/gor01/two/200...</td>\n",
       "      <td>/nfs/turbo/umms-kdiba/Data/KDIBA/gor01/two/200...</td>\n",
       "      <td>True</td>\n",
       "      <td>True</td>\n",
       "    </tr>\n",
       "    <tr>\n",
       "      <th>...</th>\n",
       "      <td>...</td>\n",
       "      <td>...</td>\n",
       "      <td>...</td>\n",
       "      <td>...</td>\n",
       "      <td>...</td>\n",
       "      <td>...</td>\n",
       "      <td>...</td>\n",
       "      <td>...</td>\n",
       "      <td>...</td>\n",
       "      <td>...</td>\n",
       "      <td>...</td>\n",
       "      <td>...</td>\n",
       "      <td>...</td>\n",
       "      <td>...</td>\n",
       "      <td>...</td>\n",
       "      <td>...</td>\n",
       "      <td>...</td>\n",
       "      <td>...</td>\n",
       "      <td>...</td>\n",
       "    </tr>\n",
       "    <tr>\n",
       "      <th>32</th>\n",
       "      <td>kdiba</td>\n",
       "      <td>vvp01</td>\n",
       "      <td>two</td>\n",
       "      <td>2006-4-10_12-58-3</td>\n",
       "      <td>kdiba_vvp01_two_2006-4-10_12-58-3</td>\n",
       "      <td>/nfs/turbo/umms-kdiba/Data/KDIBA/vvp01/two/200...</td>\n",
       "      <td>SessionBatchProgress.COMPLETED</td>\n",
       "      <td>None</td>\n",
       "      <td>2006-04-10 12:58:03</td>\n",
       "      <td>40</td>\n",
       "      <td>75</td>\n",
       "      <td>42</td>\n",
       "      <td>31</td>\n",
       "      <td>True</td>\n",
       "      <td>/nfs/turbo/umms-kdiba/Data/KDIBA/vvp01/two/200...</td>\n",
       "      <td>/nfs/turbo/umms-kdiba/Data/KDIBA/vvp01/two/200...</td>\n",
       "      <td>/nfs/turbo/umms-kdiba/Data/KDIBA/vvp01/two/200...</td>\n",
       "      <td>True</td>\n",
       "      <td>True</td>\n",
       "    </tr>\n",
       "    <tr>\n",
       "      <th>52</th>\n",
       "      <td>kdiba</td>\n",
       "      <td>pin01</td>\n",
       "      <td>one</td>\n",
       "      <td>11-02_17-46-44</td>\n",
       "      <td>kdiba_pin01_one_11-02_17-46-44</td>\n",
       "      <td>/nfs/turbo/umms-kdiba/Data/KDIBA/pin01/one/11-...</td>\n",
       "      <td>SessionBatchProgress.COMPLETED</td>\n",
       "      <td>None</td>\n",
       "      <td>2009-11-02 17:46:44</td>\n",
       "      <td>54</td>\n",
       "      <td>137</td>\n",
       "      <td>66</td>\n",
       "      <td>156</td>\n",
       "      <td>True</td>\n",
       "      <td>/nfs/turbo/umms-kdiba/Data/KDIBA/pin01/one/11-...</td>\n",
       "      <td>/nfs/turbo/umms-kdiba/Data/KDIBA/pin01/one/11-...</td>\n",
       "      <td>/nfs/turbo/umms-kdiba/Data/KDIBA/pin01/one/11-...</td>\n",
       "      <td>True</td>\n",
       "      <td>True</td>\n",
       "    </tr>\n",
       "    <tr>\n",
       "      <th>53</th>\n",
       "      <td>kdiba</td>\n",
       "      <td>pin01</td>\n",
       "      <td>one</td>\n",
       "      <td>11-02_19-28-0</td>\n",
       "      <td>kdiba_pin01_one_11-02_19-28-0</td>\n",
       "      <td>/nfs/turbo/umms-kdiba/Data/KDIBA/pin01/one/11-...</td>\n",
       "      <td>SessionBatchProgress.COMPLETED</td>\n",
       "      <td>None</td>\n",
       "      <td>2009-11-02 19:28:00</td>\n",
       "      <td>56</td>\n",
       "      <td>110</td>\n",
       "      <td>50</td>\n",
       "      <td>51</td>\n",
       "      <td>True</td>\n",
       "      <td>/nfs/turbo/umms-kdiba/Data/KDIBA/pin01/one/11-...</td>\n",
       "      <td>/nfs/turbo/umms-kdiba/Data/KDIBA/pin01/one/11-...</td>\n",
       "      <td>/nfs/turbo/umms-kdiba/Data/KDIBA/pin01/one/11-...</td>\n",
       "      <td>True</td>\n",
       "      <td>True</td>\n",
       "    </tr>\n",
       "    <tr>\n",
       "      <th>54</th>\n",
       "      <td>kdiba</td>\n",
       "      <td>pin01</td>\n",
       "      <td>one</td>\n",
       "      <td>11-03_12-3-25</td>\n",
       "      <td>kdiba_pin01_one_11-03_12-3-25</td>\n",
       "      <td>/nfs/turbo/umms-kdiba/Data/KDIBA/pin01/one/11-...</td>\n",
       "      <td>SessionBatchProgress.COMPLETED</td>\n",
       "      <td>None</td>\n",
       "      <td>2009-11-03 12:03:25</td>\n",
       "      <td>50</td>\n",
       "      <td>32</td>\n",
       "      <td>46</td>\n",
       "      <td>18</td>\n",
       "      <td>True</td>\n",
       "      <td>/nfs/turbo/umms-kdiba/Data/KDIBA/pin01/one/11-...</td>\n",
       "      <td>/nfs/turbo/umms-kdiba/Data/KDIBA/pin01/one/11-...</td>\n",
       "      <td>/nfs/turbo/umms-kdiba/Data/KDIBA/pin01/one/11-...</td>\n",
       "      <td>True</td>\n",
       "      <td>True</td>\n",
       "    </tr>\n",
       "    <tr>\n",
       "      <th>64</th>\n",
       "      <td>kdiba</td>\n",
       "      <td>pin01</td>\n",
       "      <td>one</td>\n",
       "      <td>fet11-01_12-58-54</td>\n",
       "      <td>kdiba_pin01_one_fet11-01_12-58-54</td>\n",
       "      <td>/nfs/turbo/umms-kdiba/Data/KDIBA/pin01/one/fet...</td>\n",
       "      <td>SessionBatchProgress.COMPLETED</td>\n",
       "      <td>None</td>\n",
       "      <td>2009-11-01 12:58:54</td>\n",
       "      <td>0</td>\n",
       "      <td>0</td>\n",
       "      <td>0</td>\n",
       "      <td>0</td>\n",
       "      <td>False</td>\n",
       "      <td>/nfs/turbo/umms-kdiba/Data/KDIBA/pin01/one/fet...</td>\n",
       "      <td>/nfs/turbo/umms-kdiba/Data/KDIBA/pin01/one/fet...</td>\n",
       "      <td>/nfs/turbo/umms-kdiba/Data/KDIBA/pin01/one/fet...</td>\n",
       "      <td>True</td>\n",
       "      <td>True</td>\n",
       "    </tr>\n",
       "  </tbody>\n",
       "</table>\n",
       "<p>15 rows × 19 columns</p>\n",
       "</div>"
      ],
      "text/plain": [
       "   format_name animal exper_name        session_name  \\\n",
       "1        kdiba  gor01        one  2006-6-08_14-26-15   \n",
       "2        kdiba  gor01        one   2006-6-09_1-22-43   \n",
       "4        kdiba  gor01        one  2006-6-12_15-55-31   \n",
       "6        kdiba  gor01        two  2006-6-07_16-40-19   \n",
       "8        kdiba  gor01        two  2006-6-08_21-16-25   \n",
       "..         ...    ...        ...                 ...   \n",
       "32       kdiba  vvp01        two   2006-4-10_12-58-3   \n",
       "52       kdiba  pin01        one      11-02_17-46-44   \n",
       "53       kdiba  pin01        one       11-02_19-28-0   \n",
       "54       kdiba  pin01        one       11-03_12-3-25   \n",
       "64       kdiba  pin01        one   fet11-01_12-58-54   \n",
       "\n",
       "                               context  \\\n",
       "1   kdiba_gor01_one_2006-6-08_14-26-15   \n",
       "2    kdiba_gor01_one_2006-6-09_1-22-43   \n",
       "4   kdiba_gor01_one_2006-6-12_15-55-31   \n",
       "6   kdiba_gor01_two_2006-6-07_16-40-19   \n",
       "8   kdiba_gor01_two_2006-6-08_21-16-25   \n",
       "..                                 ...   \n",
       "32   kdiba_vvp01_two_2006-4-10_12-58-3   \n",
       "52      kdiba_pin01_one_11-02_17-46-44   \n",
       "53       kdiba_pin01_one_11-02_19-28-0   \n",
       "54       kdiba_pin01_one_11-03_12-3-25   \n",
       "64   kdiba_pin01_one_fet11-01_12-58-54   \n",
       "\n",
       "                                             basedirs  \\\n",
       "1   /nfs/turbo/umms-kdiba/Data/KDIBA/gor01/one/200...   \n",
       "2   /nfs/turbo/umms-kdiba/Data/KDIBA/gor01/one/200...   \n",
       "4   /nfs/turbo/umms-kdiba/Data/KDIBA/gor01/one/200...   \n",
       "6   /nfs/turbo/umms-kdiba/Data/KDIBA/gor01/two/200...   \n",
       "8   /nfs/turbo/umms-kdiba/Data/KDIBA/gor01/two/200...   \n",
       "..                                                ...   \n",
       "32  /nfs/turbo/umms-kdiba/Data/KDIBA/vvp01/two/200...   \n",
       "52  /nfs/turbo/umms-kdiba/Data/KDIBA/pin01/one/11-...   \n",
       "53  /nfs/turbo/umms-kdiba/Data/KDIBA/pin01/one/11-...   \n",
       "54  /nfs/turbo/umms-kdiba/Data/KDIBA/pin01/one/11-...   \n",
       "64  /nfs/turbo/umms-kdiba/Data/KDIBA/pin01/one/fet...   \n",
       "\n",
       "                            status errors    session_datetime  n_long_laps  \\\n",
       "1   SessionBatchProgress.COMPLETED   None 2006-06-08 14:26:15           40   \n",
       "2   SessionBatchProgress.COMPLETED   None 2006-06-09 01:22:43           46   \n",
       "4   SessionBatchProgress.COMPLETED   None 2006-06-12 15:55:31           40   \n",
       "6   SessionBatchProgress.COMPLETED   None 2006-06-07 16:40:19           42   \n",
       "8   SessionBatchProgress.COMPLETED   None 2006-06-08 21:16:25           40   \n",
       "..                             ...    ...                 ...          ...   \n",
       "32  SessionBatchProgress.COMPLETED   None 2006-04-10 12:58:03           40   \n",
       "52  SessionBatchProgress.COMPLETED   None 2009-11-02 17:46:44           54   \n",
       "53  SessionBatchProgress.COMPLETED   None 2009-11-02 19:28:00           56   \n",
       "54  SessionBatchProgress.COMPLETED   None 2009-11-03 12:03:25           50   \n",
       "64  SessionBatchProgress.COMPLETED   None 2009-11-01 12:58:54            0   \n",
       "\n",
       "    n_long_replays  n_short_laps  n_short_replays  is_ready  \\\n",
       "1              354            40              272      True   \n",
       "2              235            40              180      True   \n",
       "4               57            34               76      True   \n",
       "6              287            40              446      True   \n",
       "8               62            40               77      True   \n",
       "..             ...           ...              ...       ...   \n",
       "32              75            42               31      True   \n",
       "52             137            66              156      True   \n",
       "53             110            50               51      True   \n",
       "54              32            46               18      True   \n",
       "64               0             0                0     False   \n",
       "\n",
       "                       global_computation_result_file  \\\n",
       "1   /nfs/turbo/umms-kdiba/Data/KDIBA/gor01/one/200...   \n",
       "2   /nfs/turbo/umms-kdiba/Data/KDIBA/gor01/one/200...   \n",
       "4   /nfs/turbo/umms-kdiba/Data/KDIBA/gor01/one/200...   \n",
       "6   /nfs/turbo/umms-kdiba/Data/KDIBA/gor01/two/200...   \n",
       "8   /nfs/turbo/umms-kdiba/Data/KDIBA/gor01/two/200...   \n",
       "..                                                ...   \n",
       "32  /nfs/turbo/umms-kdiba/Data/KDIBA/vvp01/two/200...   \n",
       "52  /nfs/turbo/umms-kdiba/Data/KDIBA/pin01/one/11-...   \n",
       "53  /nfs/turbo/umms-kdiba/Data/KDIBA/pin01/one/11-...   \n",
       "54  /nfs/turbo/umms-kdiba/Data/KDIBA/pin01/one/11-...   \n",
       "64  /nfs/turbo/umms-kdiba/Data/KDIBA/pin01/one/fet...   \n",
       "\n",
       "                           loaded_session_pickle_file  \\\n",
       "1   /nfs/turbo/umms-kdiba/Data/KDIBA/gor01/one/200...   \n",
       "2   /nfs/turbo/umms-kdiba/Data/KDIBA/gor01/one/200...   \n",
       "4   /nfs/turbo/umms-kdiba/Data/KDIBA/gor01/one/200...   \n",
       "6   /nfs/turbo/umms-kdiba/Data/KDIBA/gor01/two/200...   \n",
       "8   /nfs/turbo/umms-kdiba/Data/KDIBA/gor01/two/200...   \n",
       "..                                                ...   \n",
       "32  /nfs/turbo/umms-kdiba/Data/KDIBA/vvp01/two/200...   \n",
       "52  /nfs/turbo/umms-kdiba/Data/KDIBA/pin01/one/11-...   \n",
       "53  /nfs/turbo/umms-kdiba/Data/KDIBA/pin01/one/11-...   \n",
       "54  /nfs/turbo/umms-kdiba/Data/KDIBA/pin01/one/11-...   \n",
       "64  /nfs/turbo/umms-kdiba/Data/KDIBA/pin01/one/fet...   \n",
       "\n",
       "                                   ripple_result_file  \\\n",
       "1   /nfs/turbo/umms-kdiba/Data/KDIBA/gor01/one/200...   \n",
       "2   /nfs/turbo/umms-kdiba/Data/KDIBA/gor01/one/200...   \n",
       "4   /nfs/turbo/umms-kdiba/Data/KDIBA/gor01/one/200...   \n",
       "6   /nfs/turbo/umms-kdiba/Data/KDIBA/gor01/two/200...   \n",
       "8   /nfs/turbo/umms-kdiba/Data/KDIBA/gor01/two/200...   \n",
       "..                                                ...   \n",
       "32  /nfs/turbo/umms-kdiba/Data/KDIBA/vvp01/two/200...   \n",
       "52  /nfs/turbo/umms-kdiba/Data/KDIBA/pin01/one/11-...   \n",
       "53  /nfs/turbo/umms-kdiba/Data/KDIBA/pin01/one/11-...   \n",
       "54  /nfs/turbo/umms-kdiba/Data/KDIBA/pin01/one/11-...   \n",
       "64  /nfs/turbo/umms-kdiba/Data/KDIBA/pin01/one/fet...   \n",
       "\n",
       "    has_user_replay_annotations  has_user_grid_bin_bounds_annotations  \n",
       "1                          True                                  True  \n",
       "2                          True                                  True  \n",
       "4                          True                                  True  \n",
       "6                          True                                  True  \n",
       "8                          True                                  True  \n",
       "..                          ...                                   ...  \n",
       "32                         True                                  True  \n",
       "52                         True                                  True  \n",
       "53                         True                                  True  \n",
       "54                         True                                  True  \n",
       "64                         True                                  True  \n",
       "\n",
       "[15 rows x 19 columns]"
      ]
     },
     "metadata": {},
     "output_type": "display_data"
    }
   ],
   "source": [
    "# Hardcoded included_session_contexts:\n",
    "included_session_contexts = [\n",
    "    IdentifyingContext(format_name='kdiba',animal='gor01',exper_name='one',session_name='2006-6-08_14-26-15'), # prev completed\n",
    "    IdentifyingContext(format_name='kdiba',animal='gor01',exper_name='one',session_name='2006-6-09_1-22-43'), # prev completed\n",
    "    IdentifyingContext(format_name='kdiba',animal='gor01',exper_name='one',session_name='2006-6-12_15-55-31'), # prev completed\n",
    "    IdentifyingContext(format_name='kdiba',animal='gor01',exper_name='two',session_name='2006-6-07_16-40-19'), # prev completed\n",
    "    IdentifyingContext(format_name='kdiba',animal='gor01',exper_name='two',session_name='2006-6-08_21-16-25'),\n",
    "    IdentifyingContext(format_name='kdiba',animal='gor01',exper_name='two',session_name='2006-6-09_22-24-40'),\n",
    "    IdentifyingContext(format_name='kdiba',animal='gor01',exper_name='two',session_name='2006-6-12_16-53-46'),\n",
    "    IdentifyingContext(format_name='kdiba',animal='vvp01',exper_name='one',session_name='2006-4-09_17-29-30'),\n",
    "    IdentifyingContext(format_name='kdiba',animal='vvp01',exper_name='one',session_name='2006-4-10_12-25-50'),\n",
    "    IdentifyingContext(format_name='kdiba',animal='vvp01',exper_name='two',session_name='2006-4-09_16-40-54'),\n",
    "    IdentifyingContext(format_name='kdiba',animal='vvp01',exper_name='two',session_name='2006-4-10_12-58-3'),\n",
    "    IdentifyingContext(format_name='kdiba',animal='pin01',exper_name='one',session_name='11-02_17-46-44'), # prev completed\n",
    "    IdentifyingContext(format_name='kdiba',animal='pin01',exper_name='one',session_name='11-02_19-28-0'),\n",
    "    IdentifyingContext(format_name='kdiba',animal='pin01',exper_name='one',session_name='11-03_12-3-25'),\n",
    "    IdentifyingContext(format_name='kdiba',animal='pin01',exper_name='one',session_name='fet11-01_12-58-54'), # prev completed\n",
    "]\n",
    "\n",
    "included_session_batch_progress_df = batch_progress_df[np.isin(batch_progress_df['context'].values, included_session_contexts)]\n",
    "with pd.option_context('display.max_rows', 10, 'display.max_columns', None):  # more options can be specified also\n",
    "    display(included_session_batch_progress_df)"
   ]
  },
  {
   "cell_type": "markdown",
   "id": "71584edc",
   "metadata": {},
   "source": [
    "# Execute Batch"
   ]
  },
  {
   "cell_type": "code",
   "execution_count": null,
   "id": "0ff419df",
   "metadata": {
    "tags": []
   },
   "outputs": [],
   "source": [
    "output_included_session_contexts, output_python_scripts, output_slurm_scripts = global_batch_run.generate_batch_slurm_jobs(included_session_contexts, Path('output/generated_slurm_scripts/').resolve(), \n",
    "                                                                                                                        use_separate_run_directories=True, should_force_reload_all=False, should_perform_figure_generation_to_file=False)"
   ]
  },
  {
   "cell_type": "code",
   "execution_count": 5,
   "id": "ab6ae279",
   "metadata": {
    "notebookRunGroups": {
     "groupValue": "1"
    },
    "scrolled": true,
    "tags": []
   },
   "outputs": [
    {
     "name": "stdout",
     "output_type": "stream",
     "text": [
      "len(included_session_contexts): 15\n",
      "Beginning processing with len(included_session_contexts): 15\n",
      "build_batch_task_logger(module_name=\"gl0006.arc-ts.umich.edu.kdiba.gor01.one.2006-6-08_14-26-15\"):\n",
      "\t Batch Task logger com.PhoHale.PhoPy3DPositionAnalyis.Batch.runBatch.run_specific_batch.gl0006.arc-ts.umich.edu.kdiba.gor01.one.2006-6-08_14-26-15 has file logging enabled and will log to EXTERNAL/TESTING/Logging/debug_com.PhoHale.PhoPy3DPositionAnalyis.Batch.runBatch.run_specific_batch.gl0006.arc-ts.umich.edu.kdiba.gor01.one.2006-6-08_14-26-15.log\n",
      "========================== runBatch STARTING ==========================\n",
      "\tglobal_data_root_parent_path: /home/halechr/cloud/turbo/Data\n",
      "\tsession_context: kdiba_gor01_one_2006-6-08_14-26-15\n",
      "\tsession_basedir: /nfs/turbo/umms-kdiba/Data/KDIBA/gor01/one/2006-6-08_14-26-15\n",
      "__________________________________________________________________\n",
      "basedir: /nfs/turbo/umms-kdiba/Data/KDIBA/gor01/one/2006-6-08_14-26-15\n",
      "active_data_mode_name: kdiba\n",
      "Loading loaded session pickle file results : /nfs/turbo/umms-kdiba/Data/KDIBA/gor01/one/2006-6-08_14-26-15/loadedSessPickle.pkl... done.\n",
      "Loading pickled pipeline success: /nfs/turbo/umms-kdiba/Data/KDIBA/gor01/one/2006-6-08_14-26-15/loadedSessPickle.pkl.\n",
      "properties already present in pickled version. No need to save.\n",
      "pipeline load success!\n",
      "using provided computation_functions_name_includelist: ['pf_computation', 'pfdt_computation', 'firing_rate_trends', 'position_decoding']\n",
      "WARNING: skipping computation because overwrite_extant_results=False and active_computation_results[maze1] already exists and is non-None\n",
      "\t TODO: this will prevent recomputation even when the excludelist/includelist or computation function definitions change. Rework so that this is smarter.\n",
      "WARNING: skipping computation because overwrite_extant_results=False and active_computation_results[maze2] already exists and is non-None\n",
      "\t TODO: this will prevent recomputation even when the excludelist/includelist or computation function definitions change. Rework so that this is smarter.\n",
      "WARNING: skipping computation because overwrite_extant_results=False and active_computation_results[maze] already exists and is non-None\n",
      "\t TODO: this will prevent recomputation even when the excludelist/includelist or computation function definitions change. Rework so that this is smarter.\n",
      "WARNING: saving_mode is SKIP_SAVING so pipeline will not be saved despite calling .save_pipeline(...).\n",
      "saving_mode.shouldSave == False, so not saving at the end of batch_load_session\n",
      "on_complete_success_execution_session(curr_session_context: kdiba_gor01_one_2006-6-08_14-26-15, curr_session_basedir: /nfs/turbo/umms-kdiba/Data/KDIBA/gor01/one/2006-6-08_14-26-15, ...)\n",
      "DEPRICATION WARNING: workaround to allow subscripting ComputationResult objects. Will be depricated. key: computed_data\n",
      "DEPRICATION WARNING: workaround to allow subscripting ComputationResult objects. Will be depricated. key: computed_data\n",
      "DEPRICATION WARNING: workaround to allow subscripting ComputationResult objects. Will be depricated. key: computed_data\n",
      "DEPRICATION WARNING: workaround to allow subscripting ComputationResult objects. Will be depricated. key: computed_data\n",
      "DEPRICATION WARNING: workaround to allow subscripting ComputationResult objects. Will be depricated. key: computed_data\n",
      "DEPRICATION WARNING: workaround to allow subscripting ComputationResult objects. Will be depricated. key: computed_data\n",
      "were pipeline preprocessing parameters missing and updated?: False\n",
      "WARNING: saving_mode is SKIP_SAVING so pipeline will not be saved despite calling .save_pipeline(...).\n",
      "Loading loaded session pickle file results : /nfs/turbo/umms-kdiba/Data/KDIBA/gor01/one/2006-6-08_14-26-15/output/global_computation_results.pkl... done.\n",
      "have an existing `global_computation_results.computation_config`: DynamicContainer({'instantaneous_time_bin_size_seconds': 0.01})\n",
      "included includelist is specified: ['pf_computation', 'pfdt_computation', 'firing_rate_trends', 'position_decoding', 'long_short_decoding_analyses', 'jonathan_firing_rate_analysis', 'long_short_fr_indicies_analyses', 'short_long_pf_overlap_analyses', 'long_short_post_decoding', 'long_short_rate_remapping', 'long_short_inst_spike_rate_groups', 'long_short_endcap_analysis'], so only performing these extended computations.\n",
      "Running batch_extended_computations(...) with global_epoch_name: \"maze\"\n",
      "pf_computation, maze already computed.\n",
      "pfdt_computation, maze already computed.\n",
      "position_decoding, maze already computed.\n",
      "firing_rate_trends, maze already computed.\n",
      "long_short_decoding_analyses, maze already computed.\n",
      "short_long_pf_overlap_analyses, maze already computed.\n",
      "long_short_fr_indicies_analyses, maze already computed.\n",
      "jonathan_firing_rate_analysis, maze already computed.\n",
      "long_short_post_decoding, maze already computed.\n",
      "long_short_inst_spike_rate_groups, maze already computed.\n",
      "long_short_endcap_analysis, maze already computed.\n",
      "WARNING: after execution of all _comp_specifiers found the functions: {'long_short_rate_remapping': False} still remain! Are they correct and do they have proper validator decorators?\n",
      "done with all batch_extended_computations(...).\n",
      "no changes in global results.\n",
      "https://app.neptune.ai/commander.pho/PhoDibaLongShortUpdated/\n"
     ]
    },
    {
     "name": "stderr",
     "output_type": "stream",
     "text": [
      "/home/halechr/repos/pyPhoPlaceCellAnalysis/src/pyphoplacecellanalysis/General/Batch/NeptuneAiHelpers.py:93: NeptuneWarning: The following monitoring options are disabled by default in interactive sessions: 'capture_stdout', 'capture_stderr', 'capture_traceback', and 'capture_hardware_metrics'. To enable them, set each parameter to 'True' when initializing the run. The monitoring will continue until you call run.stop() or the kernel stops. Also note: Your source files can only be tracked if you pass the path(s) to the 'source_code' argument. For help, see the Neptune docs: https://docs.neptune.ai/logging/source_code/\n",
      "  self.run = neptune.init_run(project=self.project_name, api_token=self.api_token, source_files=[]) # see git_ref=GitRef(repository_path=\"/path/to/repo\")\n"
     ]
    },
    {
     "name": "stdout",
     "output_type": "stream",
     "text": [
      "https://app.neptune.ai/commander.pho/PhoDibaLongShortUpdated/e/LS2023-674\n",
      "include_includelist: ['maze1', 'maze2', 'maze']\n",
      "long_epoch_name: maze1, short_epoch_name: maze2, global_epoch_name: maze\n"
     ]
    },
    {
     "name": "stderr",
     "output_type": "stream",
     "text": [
      "/home/halechr/repos/pyPhoPlaceCellAnalysis/src/pyphoplacecellanalysis/General/Pipeline/Stages/DisplayFunctions/MultiContextComparingDisplayFunctions/LongShortTrackComparingDisplayFunctions.py:1209: SettingWithCopyWarning: \n",
      "A value is trying to be set on a copy of a slice from a DataFrame.\n",
      "Try using .loc[row_indexer,col_indexer] = value instead\n",
      "\n",
      "See the caveats in the documentation: https://pandas.pydata.org/pandas-docs/stable/user_guide/indexing.html#returning-a-view-versus-a-copy\n",
      "  cell_df.loc[:, 'x'] = spk_x\n",
      "/home/halechr/repos/pyPhoPlaceCellAnalysis/src/pyphoplacecellanalysis/General/Mixins/CrossComputationComparisonHelpers.py:235: RuntimeWarning: invalid value encountered in divide\n",
      "  _long_to_short_balances = (rdf.num_short_only_neuron_participating.values - rdf.num_long_only_neuron_participating.values) / (rdf.num_short_only_neuron_participating.values + rdf.num_long_only_neuron_participating.values) ## Working but (0, 1, 1) would clip to 0.5 despite (1, 13, 0) going all the way down to -1.0\n",
      "/home/halechr/repos/pyPhoPlaceCellAnalysis/src/pyphoplacecellanalysis/General/Mixins/CrossComputationComparisonHelpers.py:265: RuntimeWarning: invalid value encountered in divide\n",
      "  _long_to_short_balances = (rdf.num_short_only_neuron_participating.values - rdf.num_long_only_neuron_participating.values) / (rdf.num_short_only_neuron_participating.values + rdf.num_long_only_neuron_participating.values) ## Working but (0, 1, 1) would clip to 0.5 despite (1, 13, 0) going all the way down to -1.0\n"
     ]
    },
    {
     "name": "stdout",
     "output_type": "stream",
     "text": [
      "DEPRICATION WARNING: workaround to allow subscripting ComputationResult objects. Will be depricated. key: computed_data\n",
      "WARNING: aclu 2 is not present in the `pf1D_all` ratemaps. Which contain aclus: [3, 4, 5, 7, 8, 9, 10, 11, 14, 15, 16, 17, 19, 22, 23, 24, 25, 26, 31, 32, 33, 34, 35, 36, 37, 38, 39, 41, 45, 46, 48, 49, 50, 51, 52, 53, 54, 55, 56, 57, 58, 59, 60, 61, 62, 63, 64, 66, 67, 68, 69, 71, 72, 73, 74, 75, 76, 78, 79, 82, 83, 84, 85, 86, 87, 88, 89, 90, 91, 92, 93, 95, 96, 97, 98, 99, 100, 101, 102, 107, 108, 109]\n",
      "\t saved /home/halechr/repos/Spike3D/EXTERNAL/Screenshots/ProgrammaticDisplayFunctionTesting/2023-10-06/kdiba/gor01/one/2006-6-08_14-26-15/BatchPhoJonathanReplayFRC_long_only_(2,8,19,36,37,54,63,68,73,74,97,109).png\n",
      "include_includelist: ['maze1', 'maze2', 'maze']\n",
      "long_epoch_name: maze1, short_epoch_name: maze2, global_epoch_name: maze\n"
     ]
    },
    {
     "name": "stderr",
     "output_type": "stream",
     "text": [
      "/home/halechr/repos/pyPhoPlaceCellAnalysis/src/pyphoplacecellanalysis/General/Pipeline/Stages/DisplayFunctions/MultiContextComparingDisplayFunctions/LongShortTrackComparingDisplayFunctions.py:1209: SettingWithCopyWarning: \n",
      "A value is trying to be set on a copy of a slice from a DataFrame.\n",
      "Try using .loc[row_indexer,col_indexer] = value instead\n",
      "\n",
      "See the caveats in the documentation: https://pandas.pydata.org/pandas-docs/stable/user_guide/indexing.html#returning-a-view-versus-a-copy\n",
      "  cell_df.loc[:, 'x'] = spk_x\n",
      "/home/halechr/repos/pyPhoPlaceCellAnalysis/src/pyphoplacecellanalysis/General/Mixins/CrossComputationComparisonHelpers.py:235: RuntimeWarning: invalid value encountered in divide\n",
      "  _long_to_short_balances = (rdf.num_short_only_neuron_participating.values - rdf.num_long_only_neuron_participating.values) / (rdf.num_short_only_neuron_participating.values + rdf.num_long_only_neuron_participating.values) ## Working but (0, 1, 1) would clip to 0.5 despite (1, 13, 0) going all the way down to -1.0\n",
      "/home/halechr/repos/pyPhoPlaceCellAnalysis/src/pyphoplacecellanalysis/General/Mixins/CrossComputationComparisonHelpers.py:265: RuntimeWarning: invalid value encountered in divide\n",
      "  _long_to_short_balances = (rdf.num_short_only_neuron_participating.values - rdf.num_long_only_neuron_participating.values) / (rdf.num_short_only_neuron_participating.values + rdf.num_long_only_neuron_participating.values) ## Working but (0, 1, 1) would clip to 0.5 despite (1, 13, 0) going all the way down to -1.0\n"
     ]
    },
    {
     "name": "stdout",
     "output_type": "stream",
     "text": [
      "DEPRICATION WARNING: workaround to allow subscripting ComputationResult objects. Will be depricated. key: computed_data\n",
      "WARNING: aclu 13 is not present in the `pf1D_all` ratemaps. Which contain aclus: [3, 4, 5, 7, 8, 9, 10, 11, 14, 15, 16, 17, 19, 22, 23, 24, 25, 26, 31, 32, 33, 34, 35, 36, 37, 38, 39, 41, 45, 46, 48, 49, 50, 51, 52, 53, 54, 55, 56, 57, 58, 59, 60, 61, 62, 63, 64, 66, 67, 68, 69, 71, 72, 73, 74, 75, 76, 78, 79, 82, 83, 84, 85, 86, 87, 88, 89, 90, 91, 92, 93, 95, 96, 97, 98, 99, 100, 101, 102, 107, 108, 109]\n",
      "WARNING: aclu 21 is not present in the `pf1D_all` ratemaps. Which contain aclus: [3, 4, 5, 7, 8, 9, 10, 11, 14, 15, 16, 17, 19, 22, 23, 24, 25, 26, 31, 32, 33, 34, 35, 36, 37, 38, 39, 41, 45, 46, 48, 49, 50, 51, 52, 53, 54, 55, 56, 57, 58, 59, 60, 61, 62, 63, 64, 66, 67, 68, 69, 71, 72, 73, 74, 75, 76, 78, 79, 82, 83, 84, 85, 86, 87, 88, 89, 90, 91, 92, 93, 95, 96, 97, 98, 99, 100, 101, 102, 107, 108, 109]\n",
      "WARNING: aclu 81 is not present in the `pf1D_all` ratemaps. Which contain aclus: [3, 4, 5, 7, 8, 9, 10, 11, 14, 15, 16, 17, 19, 22, 23, 24, 25, 26, 31, 32, 33, 34, 35, 36, 37, 38, 39, 41, 45, 46, 48, 49, 50, 51, 52, 53, 54, 55, 56, 57, 58, 59, 60, 61, 62, 63, 64, 66, 67, 68, 69, 71, 72, 73, 74, 75, 76, 78, 79, 82, 83, 84, 85, 86, 87, 88, 89, 90, 91, 92, 93, 95, 96, 97, 98, 99, 100, 101, 102, 107, 108, 109]\n",
      "\t saved /home/halechr/repos/Spike3D/EXTERNAL/Screenshots/ProgrammaticDisplayFunctionTesting/2023-10-06/kdiba/gor01/one/2006-6-08_14-26-15/BatchPhoJonathanReplayFRC_short_only_(4,13,21,23,52,58,67,81).png\n",
      "include_includelist: ['maze1', 'maze2', 'maze']\n",
      "long_epoch_name: maze1, short_epoch_name: maze2, global_epoch_name: maze\n"
     ]
    },
    {
     "name": "stderr",
     "output_type": "stream",
     "text": [
      "/home/halechr/repos/pyPhoPlaceCellAnalysis/src/pyphoplacecellanalysis/General/Pipeline/Stages/DisplayFunctions/MultiContextComparingDisplayFunctions/LongShortTrackComparingDisplayFunctions.py:1209: SettingWithCopyWarning: \n",
      "A value is trying to be set on a copy of a slice from a DataFrame.\n",
      "Try using .loc[row_indexer,col_indexer] = value instead\n",
      "\n",
      "See the caveats in the documentation: https://pandas.pydata.org/pandas-docs/stable/user_guide/indexing.html#returning-a-view-versus-a-copy\n",
      "  cell_df.loc[:, 'x'] = spk_x\n",
      "/home/halechr/repos/pyPhoPlaceCellAnalysis/src/pyphoplacecellanalysis/General/Mixins/CrossComputationComparisonHelpers.py:235: RuntimeWarning: invalid value encountered in divide\n",
      "  _long_to_short_balances = (rdf.num_short_only_neuron_participating.values - rdf.num_long_only_neuron_participating.values) / (rdf.num_short_only_neuron_participating.values + rdf.num_long_only_neuron_participating.values) ## Working but (0, 1, 1) would clip to 0.5 despite (1, 13, 0) going all the way down to -1.0\n",
      "/home/halechr/repos/pyPhoPlaceCellAnalysis/src/pyphoplacecellanalysis/General/Mixins/CrossComputationComparisonHelpers.py:265: RuntimeWarning: invalid value encountered in divide\n",
      "  _long_to_short_balances = (rdf.num_short_only_neuron_participating.values - rdf.num_long_only_neuron_participating.values) / (rdf.num_short_only_neuron_participating.values + rdf.num_long_only_neuron_participating.values) ## Working but (0, 1, 1) would clip to 0.5 despite (1, 13, 0) going all the way down to -1.0\n"
     ]
    },
    {
     "name": "stdout",
     "output_type": "stream",
     "text": [
      "DEPRICATION WARNING: workaround to allow subscripting ComputationResult objects. Will be depricated. key: computed_data\n",
      "WARNING: aclu 6 is not present in the `pf1D_all` ratemaps. Which contain aclus: [3, 4, 5, 7, 8, 9, 10, 11, 14, 15, 16, 17, 19, 22, 23, 24, 25, 26, 31, 32, 33, 34, 35, 36, 37, 38, 39, 41, 45, 46, 48, 49, 50, 51, 52, 53, 54, 55, 56, 57, 58, 59, 60, 61, 62, 63, 64, 66, 67, 68, 69, 71, 72, 73, 74, 75, 76, 78, 79, 82, 83, 84, 85, 86, 87, 88, 89, 90, 91, 92, 93, 95, 96, 97, 98, 99, 100, 101, 102, 107, 108, 109]\n",
      "WARNING: aclu 12 is not present in the `pf1D_all` ratemaps. Which contain aclus: [3, 4, 5, 7, 8, 9, 10, 11, 14, 15, 16, 17, 19, 22, 23, 24, 25, 26, 31, 32, 33, 34, 35, 36, 37, 38, 39, 41, 45, 46, 48, 49, 50, 51, 52, 53, 54, 55, 56, 57, 58, 59, 60, 61, 62, 63, 64, 66, 67, 68, 69, 71, 72, 73, 74, 75, 76, 78, 79, 82, 83, 84, 85, 86, 87, 88, 89, 90, 91, 92, 93, 95, 96, 97, 98, 99, 100, 101, 102, 107, 108, 109]\n",
      "\t saved /home/halechr/repos/Spike3D/EXTERNAL/Screenshots/ProgrammaticDisplayFunctionTesting/2023-10-06/kdiba/gor01/one/2006-6-08_14-26-15/BatchPhoJonathanReplayFRC_shared_1of9_(3,5,6,7,9,10,11,12,14,15).png\n",
      "include_includelist: ['maze1', 'maze2', 'maze']\n",
      "long_epoch_name: maze1, short_epoch_name: maze2, global_epoch_name: maze\n"
     ]
    },
    {
     "name": "stderr",
     "output_type": "stream",
     "text": [
      "/home/halechr/repos/pyPhoPlaceCellAnalysis/src/pyphoplacecellanalysis/General/Pipeline/Stages/DisplayFunctions/MultiContextComparingDisplayFunctions/LongShortTrackComparingDisplayFunctions.py:1209: SettingWithCopyWarning: \n",
      "A value is trying to be set on a copy of a slice from a DataFrame.\n",
      "Try using .loc[row_indexer,col_indexer] = value instead\n",
      "\n",
      "See the caveats in the documentation: https://pandas.pydata.org/pandas-docs/stable/user_guide/indexing.html#returning-a-view-versus-a-copy\n",
      "  cell_df.loc[:, 'x'] = spk_x\n",
      "/home/halechr/repos/pyPhoPlaceCellAnalysis/src/pyphoplacecellanalysis/General/Mixins/CrossComputationComparisonHelpers.py:235: RuntimeWarning: invalid value encountered in divide\n",
      "  _long_to_short_balances = (rdf.num_short_only_neuron_participating.values - rdf.num_long_only_neuron_participating.values) / (rdf.num_short_only_neuron_participating.values + rdf.num_long_only_neuron_participating.values) ## Working but (0, 1, 1) would clip to 0.5 despite (1, 13, 0) going all the way down to -1.0\n",
      "/home/halechr/repos/pyPhoPlaceCellAnalysis/src/pyphoplacecellanalysis/General/Mixins/CrossComputationComparisonHelpers.py:265: RuntimeWarning: invalid value encountered in divide\n",
      "  _long_to_short_balances = (rdf.num_short_only_neuron_participating.values - rdf.num_long_only_neuron_participating.values) / (rdf.num_short_only_neuron_participating.values + rdf.num_long_only_neuron_participating.values) ## Working but (0, 1, 1) would clip to 0.5 despite (1, 13, 0) going all the way down to -1.0\n"
     ]
    },
    {
     "name": "stdout",
     "output_type": "stream",
     "text": [
      "DEPRICATION WARNING: workaround to allow subscripting ComputationResult objects. Will be depricated. key: computed_data\n",
      "WARNING: aclu 18 is not present in the `pf1D_all` ratemaps. Which contain aclus: [3, 4, 5, 7, 8, 9, 10, 11, 14, 15, 16, 17, 19, 22, 23, 24, 25, 26, 31, 32, 33, 34, 35, 36, 37, 38, 39, 41, 45, 46, 48, 49, 50, 51, 52, 53, 54, 55, 56, 57, 58, 59, 60, 61, 62, 63, 64, 66, 67, 68, 69, 71, 72, 73, 74, 75, 76, 78, 79, 82, 83, 84, 85, 86, 87, 88, 89, 90, 91, 92, 93, 95, 96, 97, 98, 99, 100, 101, 102, 107, 108, 109]\n",
      "WARNING: aclu 20 is not present in the `pf1D_all` ratemaps. Which contain aclus: [3, 4, 5, 7, 8, 9, 10, 11, 14, 15, 16, 17, 19, 22, 23, 24, 25, 26, 31, 32, 33, 34, 35, 36, 37, 38, 39, 41, 45, 46, 48, 49, 50, 51, 52, 53, 54, 55, 56, 57, 58, 59, 60, 61, 62, 63, 64, 66, 67, 68, 69, 71, 72, 73, 74, 75, 76, 78, 79, 82, 83, 84, 85, 86, 87, 88, 89, 90, 91, 92, 93, 95, 96, 97, 98, 99, 100, 101, 102, 107, 108, 109]\n",
      "WARNING: aclu 27 is not present in the `pf1D_all` ratemaps. Which contain aclus: [3, 4, 5, 7, 8, 9, 10, 11, 14, 15, 16, 17, 19, 22, 23, 24, 25, 26, 31, 32, 33, 34, 35, 36, 37, 38, 39, 41, 45, 46, 48, 49, 50, 51, 52, 53, 54, 55, 56, 57, 58, 59, 60, 61, 62, 63, 64, 66, 67, 68, 69, 71, 72, 73, 74, 75, 76, 78, 79, 82, 83, 84, 85, 86, 87, 88, 89, 90, 91, 92, 93, 95, 96, 97, 98, 99, 100, 101, 102, 107, 108, 109]\n",
      "WARNING: aclu 28 is not present in the `pf1D_all` ratemaps. Which contain aclus: [3, 4, 5, 7, 8, 9, 10, 11, 14, 15, 16, 17, 19, 22, 23, 24, 25, 26, 31, 32, 33, 34, 35, 36, 37, 38, 39, 41, 45, 46, 48, 49, 50, 51, 52, 53, 54, 55, 56, 57, 58, 59, 60, 61, 62, 63, 64, 66, 67, 68, 69, 71, 72, 73, 74, 75, 76, 78, 79, 82, 83, 84, 85, 86, 87, 88, 89, 90, 91, 92, 93, 95, 96, 97, 98, 99, 100, 101, 102, 107, 108, 109]\n",
      "\t saved /home/halechr/repos/Spike3D/EXTERNAL/Screenshots/ProgrammaticDisplayFunctionTesting/2023-10-06/kdiba/gor01/one/2006-6-08_14-26-15/BatchPhoJonathanReplayFRC_shared_2of9_(16,17,18,20,22,24,25,26,27,28).png\n",
      "include_includelist: ['maze1', 'maze2', 'maze']\n",
      "long_epoch_name: maze1, short_epoch_name: maze2, global_epoch_name: maze\n"
     ]
    },
    {
     "name": "stderr",
     "output_type": "stream",
     "text": [
      "/home/halechr/repos/pyPhoPlaceCellAnalysis/src/pyphoplacecellanalysis/General/Pipeline/Stages/DisplayFunctions/MultiContextComparingDisplayFunctions/LongShortTrackComparingDisplayFunctions.py:1209: SettingWithCopyWarning: \n",
      "A value is trying to be set on a copy of a slice from a DataFrame.\n",
      "Try using .loc[row_indexer,col_indexer] = value instead\n",
      "\n",
      "See the caveats in the documentation: https://pandas.pydata.org/pandas-docs/stable/user_guide/indexing.html#returning-a-view-versus-a-copy\n",
      "  cell_df.loc[:, 'x'] = spk_x\n",
      "/home/halechr/repos/pyPhoPlaceCellAnalysis/src/pyphoplacecellanalysis/General/Mixins/CrossComputationComparisonHelpers.py:235: RuntimeWarning: invalid value encountered in divide\n",
      "  _long_to_short_balances = (rdf.num_short_only_neuron_participating.values - rdf.num_long_only_neuron_participating.values) / (rdf.num_short_only_neuron_participating.values + rdf.num_long_only_neuron_participating.values) ## Working but (0, 1, 1) would clip to 0.5 despite (1, 13, 0) going all the way down to -1.0\n",
      "/home/halechr/repos/pyPhoPlaceCellAnalysis/src/pyphoplacecellanalysis/General/Mixins/CrossComputationComparisonHelpers.py:265: RuntimeWarning: invalid value encountered in divide\n",
      "  _long_to_short_balances = (rdf.num_short_only_neuron_participating.values - rdf.num_long_only_neuron_participating.values) / (rdf.num_short_only_neuron_participating.values + rdf.num_long_only_neuron_participating.values) ## Working but (0, 1, 1) would clip to 0.5 despite (1, 13, 0) going all the way down to -1.0\n"
     ]
    },
    {
     "name": "stdout",
     "output_type": "stream",
     "text": [
      "DEPRICATION WARNING: workaround to allow subscripting ComputationResult objects. Will be depricated. key: computed_data\n",
      "WARNING: aclu 29 is not present in the `pf1D_all` ratemaps. Which contain aclus: [3, 4, 5, 7, 8, 9, 10, 11, 14, 15, 16, 17, 19, 22, 23, 24, 25, 26, 31, 32, 33, 34, 35, 36, 37, 38, 39, 41, 45, 46, 48, 49, 50, 51, 52, 53, 54, 55, 56, 57, 58, 59, 60, 61, 62, 63, 64, 66, 67, 68, 69, 71, 72, 73, 74, 75, 76, 78, 79, 82, 83, 84, 85, 86, 87, 88, 89, 90, 91, 92, 93, 95, 96, 97, 98, 99, 100, 101, 102, 107, 108, 109]\n",
      "WARNING: aclu 30 is not present in the `pf1D_all` ratemaps. Which contain aclus: [3, 4, 5, 7, 8, 9, 10, 11, 14, 15, 16, 17, 19, 22, 23, 24, 25, 26, 31, 32, 33, 34, 35, 36, 37, 38, 39, 41, 45, 46, 48, 49, 50, 51, 52, 53, 54, 55, 56, 57, 58, 59, 60, 61, 62, 63, 64, 66, 67, 68, 69, 71, 72, 73, 74, 75, 76, 78, 79, 82, 83, 84, 85, 86, 87, 88, 89, 90, 91, 92, 93, 95, 96, 97, 98, 99, 100, 101, 102, 107, 108, 109]\n",
      "WARNING: aclu 40 is not present in the `pf1D_all` ratemaps. Which contain aclus: [3, 4, 5, 7, 8, 9, 10, 11, 14, 15, 16, 17, 19, 22, 23, 24, 25, 26, 31, 32, 33, 34, 35, 36, 37, 38, 39, 41, 45, 46, 48, 49, 50, 51, 52, 53, 54, 55, 56, 57, 58, 59, 60, 61, 62, 63, 64, 66, 67, 68, 69, 71, 72, 73, 74, 75, 76, 78, 79, 82, 83, 84, 85, 86, 87, 88, 89, 90, 91, 92, 93, 95, 96, 97, 98, 99, 100, 101, 102, 107, 108, 109]\n",
      "\t saved /home/halechr/repos/Spike3D/EXTERNAL/Screenshots/ProgrammaticDisplayFunctionTesting/2023-10-06/kdiba/gor01/one/2006-6-08_14-26-15/BatchPhoJonathanReplayFRC_shared_3of9_(29,30,31,32,33,34,35,38,39,40).png\n",
      "include_includelist: ['maze1', 'maze2', 'maze']\n",
      "long_epoch_name: maze1, short_epoch_name: maze2, global_epoch_name: maze\n"
     ]
    },
    {
     "name": "stderr",
     "output_type": "stream",
     "text": [
      "/home/halechr/repos/pyPhoPlaceCellAnalysis/src/pyphoplacecellanalysis/General/Pipeline/Stages/DisplayFunctions/MultiContextComparingDisplayFunctions/LongShortTrackComparingDisplayFunctions.py:1209: SettingWithCopyWarning: \n",
      "A value is trying to be set on a copy of a slice from a DataFrame.\n",
      "Try using .loc[row_indexer,col_indexer] = value instead\n",
      "\n",
      "See the caveats in the documentation: https://pandas.pydata.org/pandas-docs/stable/user_guide/indexing.html#returning-a-view-versus-a-copy\n",
      "  cell_df.loc[:, 'x'] = spk_x\n",
      "/home/halechr/repos/pyPhoPlaceCellAnalysis/src/pyphoplacecellanalysis/General/Mixins/CrossComputationComparisonHelpers.py:235: RuntimeWarning: invalid value encountered in divide\n",
      "  _long_to_short_balances = (rdf.num_short_only_neuron_participating.values - rdf.num_long_only_neuron_participating.values) / (rdf.num_short_only_neuron_participating.values + rdf.num_long_only_neuron_participating.values) ## Working but (0, 1, 1) would clip to 0.5 despite (1, 13, 0) going all the way down to -1.0\n",
      "/home/halechr/repos/pyPhoPlaceCellAnalysis/src/pyphoplacecellanalysis/General/Mixins/CrossComputationComparisonHelpers.py:265: RuntimeWarning: invalid value encountered in divide\n",
      "  _long_to_short_balances = (rdf.num_short_only_neuron_participating.values - rdf.num_long_only_neuron_participating.values) / (rdf.num_short_only_neuron_participating.values + rdf.num_long_only_neuron_participating.values) ## Working but (0, 1, 1) would clip to 0.5 despite (1, 13, 0) going all the way down to -1.0\n"
     ]
    },
    {
     "name": "stdout",
     "output_type": "stream",
     "text": [
      "DEPRICATION WARNING: workaround to allow subscripting ComputationResult objects. Will be depricated. key: computed_data\n",
      "WARNING: aclu 42 is not present in the `pf1D_all` ratemaps. Which contain aclus: [3, 4, 5, 7, 8, 9, 10, 11, 14, 15, 16, 17, 19, 22, 23, 24, 25, 26, 31, 32, 33, 34, 35, 36, 37, 38, 39, 41, 45, 46, 48, 49, 50, 51, 52, 53, 54, 55, 56, 57, 58, 59, 60, 61, 62, 63, 64, 66, 67, 68, 69, 71, 72, 73, 74, 75, 76, 78, 79, 82, 83, 84, 85, 86, 87, 88, 89, 90, 91, 92, 93, 95, 96, 97, 98, 99, 100, 101, 102, 107, 108, 109]\n",
      "WARNING: aclu 43 is not present in the `pf1D_all` ratemaps. Which contain aclus: [3, 4, 5, 7, 8, 9, 10, 11, 14, 15, 16, 17, 19, 22, 23, 24, 25, 26, 31, 32, 33, 34, 35, 36, 37, 38, 39, 41, 45, 46, 48, 49, 50, 51, 52, 53, 54, 55, 56, 57, 58, 59, 60, 61, 62, 63, 64, 66, 67, 68, 69, 71, 72, 73, 74, 75, 76, 78, 79, 82, 83, 84, 85, 86, 87, 88, 89, 90, 91, 92, 93, 95, 96, 97, 98, 99, 100, 101, 102, 107, 108, 109]\n",
      "WARNING: aclu 44 is not present in the `pf1D_all` ratemaps. Which contain aclus: [3, 4, 5, 7, 8, 9, 10, 11, 14, 15, 16, 17, 19, 22, 23, 24, 25, 26, 31, 32, 33, 34, 35, 36, 37, 38, 39, 41, 45, 46, 48, 49, 50, 51, 52, 53, 54, 55, 56, 57, 58, 59, 60, 61, 62, 63, 64, 66, 67, 68, 69, 71, 72, 73, 74, 75, 76, 78, 79, 82, 83, 84, 85, 86, 87, 88, 89, 90, 91, 92, 93, 95, 96, 97, 98, 99, 100, 101, 102, 107, 108, 109]\n",
      "WARNING: aclu 47 is not present in the `pf1D_all` ratemaps. Which contain aclus: [3, 4, 5, 7, 8, 9, 10, 11, 14, 15, 16, 17, 19, 22, 23, 24, 25, 26, 31, 32, 33, 34, 35, 36, 37, 38, 39, 41, 45, 46, 48, 49, 50, 51, 52, 53, 54, 55, 56, 57, 58, 59, 60, 61, 62, 63, 64, 66, 67, 68, 69, 71, 72, 73, 74, 75, 76, 78, 79, 82, 83, 84, 85, 86, 87, 88, 89, 90, 91, 92, 93, 95, 96, 97, 98, 99, 100, 101, 102, 107, 108, 109]\n",
      "\t saved /home/halechr/repos/Spike3D/EXTERNAL/Screenshots/ProgrammaticDisplayFunctionTesting/2023-10-06/kdiba/gor01/one/2006-6-08_14-26-15/BatchPhoJonathanReplayFRC_shared_4of9_(41,42,43,44,45,46,47,48,49,50).png\n",
      "include_includelist: ['maze1', 'maze2', 'maze']\n",
      "long_epoch_name: maze1, short_epoch_name: maze2, global_epoch_name: maze\n"
     ]
    },
    {
     "name": "stderr",
     "output_type": "stream",
     "text": [
      "/home/halechr/repos/pyPhoPlaceCellAnalysis/src/pyphoplacecellanalysis/General/Pipeline/Stages/DisplayFunctions/MultiContextComparingDisplayFunctions/LongShortTrackComparingDisplayFunctions.py:1209: SettingWithCopyWarning: \n",
      "A value is trying to be set on a copy of a slice from a DataFrame.\n",
      "Try using .loc[row_indexer,col_indexer] = value instead\n",
      "\n",
      "See the caveats in the documentation: https://pandas.pydata.org/pandas-docs/stable/user_guide/indexing.html#returning-a-view-versus-a-copy\n",
      "  cell_df.loc[:, 'x'] = spk_x\n",
      "/home/halechr/repos/pyPhoPlaceCellAnalysis/src/pyphoplacecellanalysis/General/Mixins/CrossComputationComparisonHelpers.py:235: RuntimeWarning: invalid value encountered in divide\n",
      "  _long_to_short_balances = (rdf.num_short_only_neuron_participating.values - rdf.num_long_only_neuron_participating.values) / (rdf.num_short_only_neuron_participating.values + rdf.num_long_only_neuron_participating.values) ## Working but (0, 1, 1) would clip to 0.5 despite (1, 13, 0) going all the way down to -1.0\n",
      "/home/halechr/repos/pyPhoPlaceCellAnalysis/src/pyphoplacecellanalysis/General/Mixins/CrossComputationComparisonHelpers.py:265: RuntimeWarning: invalid value encountered in divide\n",
      "  _long_to_short_balances = (rdf.num_short_only_neuron_participating.values - rdf.num_long_only_neuron_participating.values) / (rdf.num_short_only_neuron_participating.values + rdf.num_long_only_neuron_participating.values) ## Working but (0, 1, 1) would clip to 0.5 despite (1, 13, 0) going all the way down to -1.0\n"
     ]
    },
    {
     "name": "stdout",
     "output_type": "stream",
     "text": [
      "DEPRICATION WARNING: workaround to allow subscripting ComputationResult objects. Will be depricated. key: computed_data\n",
      "\t saved /home/halechr/repos/Spike3D/EXTERNAL/Screenshots/ProgrammaticDisplayFunctionTesting/2023-10-06/kdiba/gor01/one/2006-6-08_14-26-15/BatchPhoJonathanReplayFRC_shared_5of9_(51,53,55,56,57,59,60,61,62,64).png\n",
      "include_includelist: ['maze1', 'maze2', 'maze']\n",
      "long_epoch_name: maze1, short_epoch_name: maze2, global_epoch_name: maze\n"
     ]
    },
    {
     "name": "stderr",
     "output_type": "stream",
     "text": [
      "/home/halechr/repos/pyPhoPlaceCellAnalysis/src/pyphoplacecellanalysis/General/Pipeline/Stages/DisplayFunctions/MultiContextComparingDisplayFunctions/LongShortTrackComparingDisplayFunctions.py:1209: SettingWithCopyWarning: \n",
      "A value is trying to be set on a copy of a slice from a DataFrame.\n",
      "Try using .loc[row_indexer,col_indexer] = value instead\n",
      "\n",
      "See the caveats in the documentation: https://pandas.pydata.org/pandas-docs/stable/user_guide/indexing.html#returning-a-view-versus-a-copy\n",
      "  cell_df.loc[:, 'x'] = spk_x\n",
      "/home/halechr/repos/pyPhoPlaceCellAnalysis/src/pyphoplacecellanalysis/General/Mixins/CrossComputationComparisonHelpers.py:235: RuntimeWarning: invalid value encountered in divide\n",
      "  _long_to_short_balances = (rdf.num_short_only_neuron_participating.values - rdf.num_long_only_neuron_participating.values) / (rdf.num_short_only_neuron_participating.values + rdf.num_long_only_neuron_participating.values) ## Working but (0, 1, 1) would clip to 0.5 despite (1, 13, 0) going all the way down to -1.0\n",
      "/home/halechr/repos/pyPhoPlaceCellAnalysis/src/pyphoplacecellanalysis/General/Mixins/CrossComputationComparisonHelpers.py:265: RuntimeWarning: invalid value encountered in divide\n",
      "  _long_to_short_balances = (rdf.num_short_only_neuron_participating.values - rdf.num_long_only_neuron_participating.values) / (rdf.num_short_only_neuron_participating.values + rdf.num_long_only_neuron_participating.values) ## Working but (0, 1, 1) would clip to 0.5 despite (1, 13, 0) going all the way down to -1.0\n"
     ]
    },
    {
     "name": "stdout",
     "output_type": "stream",
     "text": [
      "DEPRICATION WARNING: workaround to allow subscripting ComputationResult objects. Will be depricated. key: computed_data\n",
      "WARNING: aclu 65 is not present in the `pf1D_all` ratemaps. Which contain aclus: [3, 4, 5, 7, 8, 9, 10, 11, 14, 15, 16, 17, 19, 22, 23, 24, 25, 26, 31, 32, 33, 34, 35, 36, 37, 38, 39, 41, 45, 46, 48, 49, 50, 51, 52, 53, 54, 55, 56, 57, 58, 59, 60, 61, 62, 63, 64, 66, 67, 68, 69, 71, 72, 73, 74, 75, 76, 78, 79, 82, 83, 84, 85, 86, 87, 88, 89, 90, 91, 92, 93, 95, 96, 97, 98, 99, 100, 101, 102, 107, 108, 109]\n",
      "WARNING: aclu 70 is not present in the `pf1D_all` ratemaps. Which contain aclus: [3, 4, 5, 7, 8, 9, 10, 11, 14, 15, 16, 17, 19, 22, 23, 24, 25, 26, 31, 32, 33, 34, 35, 36, 37, 38, 39, 41, 45, 46, 48, 49, 50, 51, 52, 53, 54, 55, 56, 57, 58, 59, 60, 61, 62, 63, 64, 66, 67, 68, 69, 71, 72, 73, 74, 75, 76, 78, 79, 82, 83, 84, 85, 86, 87, 88, 89, 90, 91, 92, 93, 95, 96, 97, 98, 99, 100, 101, 102, 107, 108, 109]\n",
      "WARNING: aclu 77 is not present in the `pf1D_all` ratemaps. Which contain aclus: [3, 4, 5, 7, 8, 9, 10, 11, 14, 15, 16, 17, 19, 22, 23, 24, 25, 26, 31, 32, 33, 34, 35, 36, 37, 38, 39, 41, 45, 46, 48, 49, 50, 51, 52, 53, 54, 55, 56, 57, 58, 59, 60, 61, 62, 63, 64, 66, 67, 68, 69, 71, 72, 73, 74, 75, 76, 78, 79, 82, 83, 84, 85, 86, 87, 88, 89, 90, 91, 92, 93, 95, 96, 97, 98, 99, 100, 101, 102, 107, 108, 109]\n",
      "\t saved /home/halechr/repos/Spike3D/EXTERNAL/Screenshots/ProgrammaticDisplayFunctionTesting/2023-10-06/kdiba/gor01/one/2006-6-08_14-26-15/BatchPhoJonathanReplayFRC_shared_6of9_(65,66,69,70,71,72,75,76,77,78).png\n",
      "include_includelist: ['maze1', 'maze2', 'maze']\n",
      "long_epoch_name: maze1, short_epoch_name: maze2, global_epoch_name: maze\n"
     ]
    },
    {
     "name": "stderr",
     "output_type": "stream",
     "text": [
      "/home/halechr/repos/pyPhoPlaceCellAnalysis/src/pyphoplacecellanalysis/General/Pipeline/Stages/DisplayFunctions/MultiContextComparingDisplayFunctions/LongShortTrackComparingDisplayFunctions.py:1209: SettingWithCopyWarning: \n",
      "A value is trying to be set on a copy of a slice from a DataFrame.\n",
      "Try using .loc[row_indexer,col_indexer] = value instead\n",
      "\n",
      "See the caveats in the documentation: https://pandas.pydata.org/pandas-docs/stable/user_guide/indexing.html#returning-a-view-versus-a-copy\n",
      "  cell_df.loc[:, 'x'] = spk_x\n",
      "/home/halechr/repos/pyPhoPlaceCellAnalysis/src/pyphoplacecellanalysis/General/Mixins/CrossComputationComparisonHelpers.py:235: RuntimeWarning: invalid value encountered in divide\n",
      "  _long_to_short_balances = (rdf.num_short_only_neuron_participating.values - rdf.num_long_only_neuron_participating.values) / (rdf.num_short_only_neuron_participating.values + rdf.num_long_only_neuron_participating.values) ## Working but (0, 1, 1) would clip to 0.5 despite (1, 13, 0) going all the way down to -1.0\n",
      "/home/halechr/repos/pyPhoPlaceCellAnalysis/src/pyphoplacecellanalysis/General/Mixins/CrossComputationComparisonHelpers.py:265: RuntimeWarning: invalid value encountered in divide\n",
      "  _long_to_short_balances = (rdf.num_short_only_neuron_participating.values - rdf.num_long_only_neuron_participating.values) / (rdf.num_short_only_neuron_participating.values + rdf.num_long_only_neuron_participating.values) ## Working but (0, 1, 1) would clip to 0.5 despite (1, 13, 0) going all the way down to -1.0\n"
     ]
    },
    {
     "name": "stdout",
     "output_type": "stream",
     "text": [
      "DEPRICATION WARNING: workaround to allow subscripting ComputationResult objects. Will be depricated. key: computed_data\n",
      "WARNING: aclu 80 is not present in the `pf1D_all` ratemaps. Which contain aclus: [3, 4, 5, 7, 8, 9, 10, 11, 14, 15, 16, 17, 19, 22, 23, 24, 25, 26, 31, 32, 33, 34, 35, 36, 37, 38, 39, 41, 45, 46, 48, 49, 50, 51, 52, 53, 54, 55, 56, 57, 58, 59, 60, 61, 62, 63, 64, 66, 67, 68, 69, 71, 72, 73, 74, 75, 76, 78, 79, 82, 83, 84, 85, 86, 87, 88, 89, 90, 91, 92, 93, 95, 96, 97, 98, 99, 100, 101, 102, 107, 108, 109]\n",
      "\t saved /home/halechr/repos/Spike3D/EXTERNAL/Screenshots/ProgrammaticDisplayFunctionTesting/2023-10-06/kdiba/gor01/one/2006-6-08_14-26-15/BatchPhoJonathanReplayFRC_shared_7of9_(79,80,82,83,84,85,86,87,88,89).png\n",
      "include_includelist: ['maze1', 'maze2', 'maze']\n",
      "long_epoch_name: maze1, short_epoch_name: maze2, global_epoch_name: maze\n"
     ]
    },
    {
     "name": "stderr",
     "output_type": "stream",
     "text": [
      "/home/halechr/repos/pyPhoPlaceCellAnalysis/src/pyphoplacecellanalysis/General/Pipeline/Stages/DisplayFunctions/MultiContextComparingDisplayFunctions/LongShortTrackComparingDisplayFunctions.py:1209: SettingWithCopyWarning: \n",
      "A value is trying to be set on a copy of a slice from a DataFrame.\n",
      "Try using .loc[row_indexer,col_indexer] = value instead\n",
      "\n",
      "See the caveats in the documentation: https://pandas.pydata.org/pandas-docs/stable/user_guide/indexing.html#returning-a-view-versus-a-copy\n",
      "  cell_df.loc[:, 'x'] = spk_x\n",
      "/home/halechr/repos/pyPhoPlaceCellAnalysis/src/pyphoplacecellanalysis/General/Mixins/CrossComputationComparisonHelpers.py:235: RuntimeWarning: invalid value encountered in divide\n",
      "  _long_to_short_balances = (rdf.num_short_only_neuron_participating.values - rdf.num_long_only_neuron_participating.values) / (rdf.num_short_only_neuron_participating.values + rdf.num_long_only_neuron_participating.values) ## Working but (0, 1, 1) would clip to 0.5 despite (1, 13, 0) going all the way down to -1.0\n",
      "/home/halechr/repos/pyPhoPlaceCellAnalysis/src/pyphoplacecellanalysis/General/Mixins/CrossComputationComparisonHelpers.py:265: RuntimeWarning: invalid value encountered in divide\n",
      "  _long_to_short_balances = (rdf.num_short_only_neuron_participating.values - rdf.num_long_only_neuron_participating.values) / (rdf.num_short_only_neuron_participating.values + rdf.num_long_only_neuron_participating.values) ## Working but (0, 1, 1) would clip to 0.5 despite (1, 13, 0) going all the way down to -1.0\n"
     ]
    },
    {
     "name": "stdout",
     "output_type": "stream",
     "text": [
      "DEPRICATION WARNING: workaround to allow subscripting ComputationResult objects. Will be depricated. key: computed_data\n",
      "WARNING: aclu 94 is not present in the `pf1D_all` ratemaps. Which contain aclus: [3, 4, 5, 7, 8, 9, 10, 11, 14, 15, 16, 17, 19, 22, 23, 24, 25, 26, 31, 32, 33, 34, 35, 36, 37, 38, 39, 41, 45, 46, 48, 49, 50, 51, 52, 53, 54, 55, 56, 57, 58, 59, 60, 61, 62, 63, 64, 66, 67, 68, 69, 71, 72, 73, 74, 75, 76, 78, 79, 82, 83, 84, 85, 86, 87, 88, 89, 90, 91, 92, 93, 95, 96, 97, 98, 99, 100, 101, 102, 107, 108, 109]\n",
      "\t saved /home/halechr/repos/Spike3D/EXTERNAL/Screenshots/ProgrammaticDisplayFunctionTesting/2023-10-06/kdiba/gor01/one/2006-6-08_14-26-15/BatchPhoJonathanReplayFRC_shared_8of9_(90,91,92,93,94,95,96,98,99,100).png\n",
      "include_includelist: ['maze1', 'maze2', 'maze']\n",
      "long_epoch_name: maze1, short_epoch_name: maze2, global_epoch_name: maze\n"
     ]
    },
    {
     "name": "stderr",
     "output_type": "stream",
     "text": [
      "/home/halechr/repos/pyPhoPlaceCellAnalysis/src/pyphoplacecellanalysis/General/Pipeline/Stages/DisplayFunctions/MultiContextComparingDisplayFunctions/LongShortTrackComparingDisplayFunctions.py:1209: SettingWithCopyWarning: \n",
      "A value is trying to be set on a copy of a slice from a DataFrame.\n",
      "Try using .loc[row_indexer,col_indexer] = value instead\n",
      "\n",
      "See the caveats in the documentation: https://pandas.pydata.org/pandas-docs/stable/user_guide/indexing.html#returning-a-view-versus-a-copy\n",
      "  cell_df.loc[:, 'x'] = spk_x\n",
      "/home/halechr/repos/pyPhoPlaceCellAnalysis/src/pyphoplacecellanalysis/General/Mixins/CrossComputationComparisonHelpers.py:235: RuntimeWarning: invalid value encountered in divide\n",
      "  _long_to_short_balances = (rdf.num_short_only_neuron_participating.values - rdf.num_long_only_neuron_participating.values) / (rdf.num_short_only_neuron_participating.values + rdf.num_long_only_neuron_participating.values) ## Working but (0, 1, 1) would clip to 0.5 despite (1, 13, 0) going all the way down to -1.0\n",
      "/home/halechr/repos/pyPhoPlaceCellAnalysis/src/pyphoplacecellanalysis/General/Mixins/CrossComputationComparisonHelpers.py:265: RuntimeWarning: invalid value encountered in divide\n",
      "  _long_to_short_balances = (rdf.num_short_only_neuron_participating.values - rdf.num_long_only_neuron_participating.values) / (rdf.num_short_only_neuron_participating.values + rdf.num_long_only_neuron_participating.values) ## Working but (0, 1, 1) would clip to 0.5 despite (1, 13, 0) going all the way down to -1.0\n"
     ]
    },
    {
     "name": "stdout",
     "output_type": "stream",
     "text": [
      "DEPRICATION WARNING: workaround to allow subscripting ComputationResult objects. Will be depricated. key: computed_data\n",
      "WARNING: aclu 103 is not present in the `pf1D_all` ratemaps. Which contain aclus: [3, 4, 5, 7, 8, 9, 10, 11, 14, 15, 16, 17, 19, 22, 23, 24, 25, 26, 31, 32, 33, 34, 35, 36, 37, 38, 39, 41, 45, 46, 48, 49, 50, 51, 52, 53, 54, 55, 56, 57, 58, 59, 60, 61, 62, 63, 64, 66, 67, 68, 69, 71, 72, 73, 74, 75, 76, 78, 79, 82, 83, 84, 85, 86, 87, 88, 89, 90, 91, 92, 93, 95, 96, 97, 98, 99, 100, 101, 102, 107, 108, 109]\n",
      "WARNING: aclu 104 is not present in the `pf1D_all` ratemaps. Which contain aclus: [3, 4, 5, 7, 8, 9, 10, 11, 14, 15, 16, 17, 19, 22, 23, 24, 25, 26, 31, 32, 33, 34, 35, 36, 37, 38, 39, 41, 45, 46, 48, 49, 50, 51, 52, 53, 54, 55, 56, 57, 58, 59, 60, 61, 62, 63, 64, 66, 67, 68, 69, 71, 72, 73, 74, 75, 76, 78, 79, 82, 83, 84, 85, 86, 87, 88, 89, 90, 91, 92, 93, 95, 96, 97, 98, 99, 100, 101, 102, 107, 108, 109]\n",
      "WARNING: aclu 105 is not present in the `pf1D_all` ratemaps. Which contain aclus: [3, 4, 5, 7, 8, 9, 10, 11, 14, 15, 16, 17, 19, 22, 23, 24, 25, 26, 31, 32, 33, 34, 35, 36, 37, 38, 39, 41, 45, 46, 48, 49, 50, 51, 52, 53, 54, 55, 56, 57, 58, 59, 60, 61, 62, 63, 64, 66, 67, 68, 69, 71, 72, 73, 74, 75, 76, 78, 79, 82, 83, 84, 85, 86, 87, 88, 89, 90, 91, 92, 93, 95, 96, 97, 98, 99, 100, 101, 102, 107, 108, 109]\n",
      "WARNING: aclu 106 is not present in the `pf1D_all` ratemaps. Which contain aclus: [3, 4, 5, 7, 8, 9, 10, 11, 14, 15, 16, 17, 19, 22, 23, 24, 25, 26, 31, 32, 33, 34, 35, 36, 37, 38, 39, 41, 45, 46, 48, 49, 50, 51, 52, 53, 54, 55, 56, 57, 58, 59, 60, 61, 62, 63, 64, 66, 67, 68, 69, 71, 72, 73, 74, 75, 76, 78, 79, 82, 83, 84, 85, 86, 87, 88, 89, 90, 91, 92, 93, 95, 96, 97, 98, 99, 100, 101, 102, 107, 108, 109]\n"
     ]
    },
    {
     "name": "stderr",
     "output_type": "stream",
     "text": [
      "WARNING: when normalize_tuning_curve=True pad will be set to 1, the current value of pad=2 will be overriden.\n"
     ]
    },
    {
     "name": "stdout",
     "output_type": "stream",
     "text": [
      "\t saved /home/halechr/repos/Spike3D/EXTERNAL/Screenshots/ProgrammaticDisplayFunctionTesting/2023-10-06/kdiba/gor01/one/2006-6-08_14-26-15/BatchPhoJonathanReplayFRC_shared_9of9_(101,102,103,104,105,106,107,108).png\n"
     ]
    },
    {
     "name": "stderr",
     "output_type": "stream",
     "text": [
      "/home/halechr/repos/pyPhoPlaceCellAnalysis/src/pyphoplacecellanalysis/General/Pipeline/Stages/DisplayFunctions/Ratemaps.py:63: UserWarning: FigureCanvasAgg is non-interactive, and thus cannot be shown\n",
      "  active_figure.show()\n",
      "WARNING: when normalize_tuning_curve=True pad will be set to 1, the current value of pad=2 will be overriden.\n"
     ]
    },
    {
     "name": "stdout",
     "output_type": "stream",
     "text": [
      "\t saved /home/halechr/repos/Spike3D/EXTERNAL/Screenshots/ProgrammaticDisplayFunctionTesting/2023-10-06/kdiba/gor01/one/2006-6-08_14-26-15/maze1_1d_placefields.png\n"
     ]
    },
    {
     "name": "stderr",
     "output_type": "stream",
     "text": [
      "/home/halechr/repos/pyPhoPlaceCellAnalysis/src/pyphoplacecellanalysis/General/Pipeline/Stages/DisplayFunctions/Ratemaps.py:63: UserWarning: FigureCanvasAgg is non-interactive, and thus cannot be shown\n",
      "  active_figure.show()\n",
      "WARNING: when normalize_tuning_curve=True pad will be set to 1, the current value of pad=2 will be overriden.\n"
     ]
    },
    {
     "name": "stdout",
     "output_type": "stream",
     "text": [
      "\t saved /home/halechr/repos/Spike3D/EXTERNAL/Screenshots/ProgrammaticDisplayFunctionTesting/2023-10-06/kdiba/gor01/one/2006-6-08_14-26-15/maze2_1d_placefields.png\n"
     ]
    },
    {
     "name": "stderr",
     "output_type": "stream",
     "text": [
      "/home/halechr/repos/pyPhoPlaceCellAnalysis/src/pyphoplacecellanalysis/General/Pipeline/Stages/DisplayFunctions/Ratemaps.py:63: UserWarning: FigureCanvasAgg is non-interactive, and thus cannot be shown\n",
      "  active_figure.show()\n"
     ]
    },
    {
     "name": "stdout",
     "output_type": "stream",
     "text": [
      "\t saved /home/halechr/repos/Spike3D/EXTERNAL/Screenshots/ProgrammaticDisplayFunctionTesting/2023-10-06/kdiba/gor01/one/2006-6-08_14-26-15/maze_1d_placefields.png\n"
     ]
    },
    {
     "name": "stderr",
     "output_type": "stream",
     "text": [
      "/home/halechr/repos/pyPhoPlaceCellAnalysis/src/pyphoplacecellanalysis/General/Mixins/ExportHelpers.py:669: UserWarning: This figure includes Axes that are not compatible with tight_layout, so results might be incorrect.\n",
      "  a_fig.savefig(fig_png_out_path)\n"
     ]
    },
    {
     "name": "stdout",
     "output_type": "stream",
     "text": [
      "\t saved /home/halechr/repos/Spike3D/EXTERNAL/Screenshots/ProgrammaticDisplayFunctionTesting/2023-10-06/kdiba/gor01/one/2006-6-08_14-26-15/maze1__display_2d_placefield_result_plot_ratemaps_2D.png\n",
      "\t saved /home/halechr/repos/Spike3D/EXTERNAL/Screenshots/ProgrammaticDisplayFunctionTesting/2023-10-06/kdiba/gor01/one/2006-6-08_14-26-15/maze2__display_2d_placefield_result_plot_ratemaps_2D.png\n",
      "\t saved /home/halechr/repos/Spike3D/EXTERNAL/Screenshots/ProgrammaticDisplayFunctionTesting/2023-10-06/kdiba/gor01/one/2006-6-08_14-26-15/maze__display_2d_placefield_result_plot_ratemaps_2D.png\n",
      "\t saved /home/halechr/repos/Spike3D/EXTERNAL/Screenshots/ProgrammaticDisplayFunctionTesting/2023-10-06/kdiba/gor01/one/2006-6-08_14-26-15/maze1_plot_occupancy_OCCUPANCY.png\n",
      "\t saved /home/halechr/repos/Spike3D/EXTERNAL/Screenshots/ProgrammaticDisplayFunctionTesting/2023-10-06/kdiba/gor01/one/2006-6-08_14-26-15/maze2_plot_occupancy_OCCUPANCY.png\n",
      "\t saved /home/halechr/repos/Spike3D/EXTERNAL/Screenshots/ProgrammaticDisplayFunctionTesting/2023-10-06/kdiba/gor01/one/2006-6-08_14-26-15/maze_plot_occupancy_OCCUPANCY.png\n",
      "\t saved /home/halechr/repos/Spike3D/EXTERNAL/Screenshots/ProgrammaticDisplayFunctionTesting/2023-10-06/kdiba/gor01/one/2006-6-08_14-26-15/long_short_firing_rate_indicies_display_long_short_laps.png\n",
      "global_y_min_SHORT: 0.0, global_y_max_SHORT: 6.3016443273887575\n",
      "global_y_min_LONG: 0.0, global_y_max_LONG: 6.107512187678518\n",
      "global_y_min: 0.0, global_y_max: 6.3016443273887575\n",
      "batch_extended_programmatic_figures(...): _prepare_plot_expected_vs_observed failed with error: 'green' is not a valid color value.\n",
      " skipping.\n",
      "\t saved /home/halechr/repos/Spike3D/EXTERNAL/Screenshots/ProgrammaticDisplayFunctionTesting/2023-10-06/kdiba/gor01/one/2006-6-08_14-26-15/_display_grid_bin_bounds_validation.png\n",
      "batch_extended_programmatic_figures(...): _display_running_and_replay_speeds_over_time failed with error: 'green' is not a valid color value.\n",
      " skipping.\n",
      "batch_extended_programmatic_figures(...): _display_long_short_laps failed with error: plot_position_curves_figure() got an unexpected keyword argument 'active_config_name'\n",
      " skipping.\n",
      "\t saved /home/halechr/repos/Spike3D/EXTERNAL/Screenshots/ProgrammaticDisplayFunctionTesting/2023-10-06/kdiba/gor01/one/2006-6-08_14-26-15/maze1_plot_single_track_firing_rate_compare.png\n",
      "\t saved /home/halechr/repos/Spike3D/EXTERNAL/Screenshots/ProgrammaticDisplayFunctionTesting/2023-10-06/kdiba/gor01/one/2006-6-08_14-26-15/maze2_plot_single_track_firing_rate_compare.png\n",
      "WARNING: fignum will be ignored but it was specified as fignum=\"Short v Long pf1D Comparison\"!\n",
      "DEPRICATION WARNING: workaround to allow subscripting ComputationResult objects. Will be depricated. key: computed_data\n",
      "DEPRICATION WARNING: workaround to allow subscripting ComputationResult objects. Will be depricated. key: computed_data\n",
      "DEBUG: new_all_aclus_sort_indicies: [69 83 52 66  4 39 24 78 13 58 36 28 76 31 55 32 74 62 86 48 75 56 16 61\n",
      "  3 77 29 65 18 53 34 73 11 20 80 22  1 10 82 21 40 23 60 19 35  7 72 49\n",
      " 46 64 59 54 57 30 68 67  5  0 38 81 84 71 12 44 70 33 25 41 50 85 45 79\n",
      " 27 14 26  8 42  6 47 15 17 43  2 63 37 51  9]\n",
      "active_context: kdiba_gor01_one_2006-6-08_14-26-15\n",
      "\t saved /home/halechr/repos/Spike3D/EXTERNAL/Screenshots/ProgrammaticDisplayFunctionTesting/2023-10-06/kdiba/gor01/one/2006-6-08_14-26-15/display_short_long_pf1D_comparison_long.png\n",
      "\t saved /home/halechr/repos/Spike3D/EXTERNAL/Screenshots/ProgrammaticDisplayFunctionTesting/2023-10-06/kdiba/gor01/one/2006-6-08_14-26-15/display_short_long_pf1D_comparison_short.png\n"
     ]
    },
    {
     "name": "stderr",
     "output_type": "stream",
     "text": [
      "/home/halechr/repos/pyPhoPlaceCellAnalysis/src/pyphoplacecellanalysis/Pho2D/matplotlib/CustomMatplotlibWidget.py:168: UserWarning: constrained_layout not applied because axes sizes collapsed to zero.  Try making figure larger or axes decorations smaller.\n",
      "  self.ui.canvas.draw()\n"
     ]
    },
    {
     "name": "stdout",
     "output_type": "stream",
     "text": [
      "\t saved /home/halechr/repos/Spike3D/EXTERNAL/Screenshots/ProgrammaticDisplayFunctionTesting/2023-10-06/kdiba/gor01/one/2006-6-08_14-26-15/DecodedEpochSlices_replays_long_results_obj.png\n"
     ]
    },
    {
     "name": "stderr",
     "output_type": "stream",
     "text": [
      "/home/halechr/repos/pyPhoPlaceCellAnalysis/src/pyphoplacecellanalysis/Pho2D/matplotlib/CustomMatplotlibWidget.py:168: UserWarning: constrained_layout not applied because axes sizes collapsed to zero.  Try making figure larger or axes decorations smaller.\n",
      "  self.ui.canvas.draw()\n"
     ]
    },
    {
     "name": "stdout",
     "output_type": "stream",
     "text": [
      "\t saved /home/halechr/repos/Spike3D/EXTERNAL/Screenshots/ProgrammaticDisplayFunctionTesting/2023-10-06/kdiba/gor01/one/2006-6-08_14-26-15/DecodedEpochSlices_replays_short_results_obj.png\n",
      "DEPRICATION WARNING: workaround to allow subscripting ComputationResult objects. Will be depricated. key: computed_data\n",
      "DEPRICATION WARNING: workaround to allow subscripting ComputationResult objects. Will be depricated. key: computed_data\n",
      "DEPRICATION WARNING: workaround to allow subscripting ComputationResult objects. Will be depricated. key: computed_data\n",
      "batch_extended_programmatic_figures(...): export_active_relative_entropy_results_videos failed with error: 'extended_stats'\n",
      " skipping.\n",
      "DEPRICATION WARNING: workaround to allow subscripting ComputationResult objects. Will be depricated. key: computed_data\n",
      "DEPRICATION WARNING: workaround to allow subscripting ComputationResult objects. Will be depricated. key: computed_data\n",
      "DEPRICATION WARNING: workaround to allow subscripting ComputationResult objects. Will be depricated. key: computed_data\n",
      "WARN: 2023-09-28 16:15: - [ ] fix the combination properties. Would work if we directly used the computed _is_L_only and _is_S_only above\n",
      "include_includelist: ['maze1', 'maze2', 'maze']\n",
      "long_epoch_name: maze1, short_epoch_name: maze2, global_epoch_name: maze\n"
     ]
    },
    {
     "name": "stderr",
     "output_type": "stream",
     "text": [
      "/home/halechr/repos/pyPhoPlaceCellAnalysis/src/pyphoplacecellanalysis/General/Pipeline/Stages/DisplayFunctions/MultiContextComparingDisplayFunctions/LongShortTrackComparingDisplayFunctions.py:1209: SettingWithCopyWarning: \n",
      "A value is trying to be set on a copy of a slice from a DataFrame.\n",
      "Try using .loc[row_indexer,col_indexer] = value instead\n",
      "\n",
      "See the caveats in the documentation: https://pandas.pydata.org/pandas-docs/stable/user_guide/indexing.html#returning-a-view-versus-a-copy\n",
      "  cell_df.loc[:, 'x'] = spk_x\n",
      "/home/halechr/repos/pyPhoPlaceCellAnalysis/src/pyphoplacecellanalysis/General/Mixins/CrossComputationComparisonHelpers.py:235: RuntimeWarning: invalid value encountered in divide\n",
      "  _long_to_short_balances = (rdf.num_short_only_neuron_participating.values - rdf.num_long_only_neuron_participating.values) / (rdf.num_short_only_neuron_participating.values + rdf.num_long_only_neuron_participating.values) ## Working but (0, 1, 1) would clip to 0.5 despite (1, 13, 0) going all the way down to -1.0\n",
      "/home/halechr/repos/pyPhoPlaceCellAnalysis/src/pyphoplacecellanalysis/General/Mixins/CrossComputationComparisonHelpers.py:265: RuntimeWarning: invalid value encountered in divide\n",
      "  _long_to_short_balances = (rdf.num_short_only_neuron_participating.values - rdf.num_long_only_neuron_participating.values) / (rdf.num_short_only_neuron_participating.values + rdf.num_long_only_neuron_participating.values) ## Working but (0, 1, 1) would clip to 0.5 despite (1, 13, 0) going all the way down to -1.0\n"
     ]
    },
    {
     "name": "stdout",
     "output_type": "stream",
     "text": [
      "DEPRICATION WARNING: workaround to allow subscripting ComputationResult objects. Will be depricated. key: computed_data\n",
      "WARNING: aclu 2 is not present in the `pf1D_all` ratemaps. Which contain aclus: [3, 4, 5, 7, 8, 9, 10, 11, 14, 15, 16, 17, 19, 22, 23, 24, 25, 26, 31, 32, 33, 34, 35, 36, 37, 38, 39, 41, 45, 46, 48, 49, 50, 51, 52, 53, 54, 55, 56, 57, 58, 59, 60, 61, 62, 63, 64, 66, 67, 68, 69, 71, 72, 73, 74, 75, 76, 78, 79, 82, 83, 84, 85, 86, 87, 88, 89, 90, 91, 92, 93, 95, 96, 97, 98, 99, 100, 101, 102, 107, 108, 109]\n"
     ]
    },
    {
     "name": "stderr",
     "output_type": "stream",
     "text": [
      "/home/halechr/repos/pyPhoPlaceCellAnalysis/src/pyphoplacecellanalysis/General/Batch/NonInteractiveProcessing.py:679: UserWarning: constrained_layout not applied because axes sizes collapsed to zero.  Try making figure larger or axes decorations smaller.\n",
      "  a_fig.savefig(fig_png_out_path)\n"
     ]
    },
    {
     "name": "stdout",
     "output_type": "stream",
     "text": [
      "\t saved /home/halechr/repos/Spike3D/EXTERNAL/Screenshots/ProgrammaticDisplayFunctionTesting/2023-10-06/kdiba/gor01/one/2006-6-08_14-26-15/BatchPhoJonathanReplayFRC_long_only_(68,54,97,74,109,63,73,8,2,37,36,19).png\n",
      "include_includelist: ['maze1', 'maze2', 'maze']\n",
      "long_epoch_name: maze1, short_epoch_name: maze2, global_epoch_name: maze\n"
     ]
    },
    {
     "name": "stderr",
     "output_type": "stream",
     "text": [
      "/home/halechr/repos/pyPhoPlaceCellAnalysis/src/pyphoplacecellanalysis/General/Pipeline/Stages/DisplayFunctions/MultiContextComparingDisplayFunctions/LongShortTrackComparingDisplayFunctions.py:1209: SettingWithCopyWarning: \n",
      "A value is trying to be set on a copy of a slice from a DataFrame.\n",
      "Try using .loc[row_indexer,col_indexer] = value instead\n",
      "\n",
      "See the caveats in the documentation: https://pandas.pydata.org/pandas-docs/stable/user_guide/indexing.html#returning-a-view-versus-a-copy\n",
      "  cell_df.loc[:, 'x'] = spk_x\n",
      "/home/halechr/repos/pyPhoPlaceCellAnalysis/src/pyphoplacecellanalysis/General/Mixins/CrossComputationComparisonHelpers.py:235: RuntimeWarning: invalid value encountered in divide\n",
      "  _long_to_short_balances = (rdf.num_short_only_neuron_participating.values - rdf.num_long_only_neuron_participating.values) / (rdf.num_short_only_neuron_participating.values + rdf.num_long_only_neuron_participating.values) ## Working but (0, 1, 1) would clip to 0.5 despite (1, 13, 0) going all the way down to -1.0\n",
      "/home/halechr/repos/pyPhoPlaceCellAnalysis/src/pyphoplacecellanalysis/General/Mixins/CrossComputationComparisonHelpers.py:265: RuntimeWarning: invalid value encountered in divide\n",
      "  _long_to_short_balances = (rdf.num_short_only_neuron_participating.values - rdf.num_long_only_neuron_participating.values) / (rdf.num_short_only_neuron_participating.values + rdf.num_long_only_neuron_participating.values) ## Working but (0, 1, 1) would clip to 0.5 despite (1, 13, 0) going all the way down to -1.0\n"
     ]
    },
    {
     "name": "stdout",
     "output_type": "stream",
     "text": [
      "DEPRICATION WARNING: workaround to allow subscripting ComputationResult objects. Will be depricated. key: computed_data\n",
      "WARNING: aclu 13 is not present in the `pf1D_all` ratemaps. Which contain aclus: [3, 4, 5, 7, 8, 9, 10, 11, 14, 15, 16, 17, 19, 22, 23, 24, 25, 26, 31, 32, 33, 34, 35, 36, 37, 38, 39, 41, 45, 46, 48, 49, 50, 51, 52, 53, 54, 55, 56, 57, 58, 59, 60, 61, 62, 63, 64, 66, 67, 68, 69, 71, 72, 73, 74, 75, 76, 78, 79, 82, 83, 84, 85, 86, 87, 88, 89, 90, 91, 92, 93, 95, 96, 97, 98, 99, 100, 101, 102, 107, 108, 109]\n",
      "WARNING: aclu 21 is not present in the `pf1D_all` ratemaps. Which contain aclus: [3, 4, 5, 7, 8, 9, 10, 11, 14, 15, 16, 17, 19, 22, 23, 24, 25, 26, 31, 32, 33, 34, 35, 36, 37, 38, 39, 41, 45, 46, 48, 49, 50, 51, 52, 53, 54, 55, 56, 57, 58, 59, 60, 61, 62, 63, 64, 66, 67, 68, 69, 71, 72, 73, 74, 75, 76, 78, 79, 82, 83, 84, 85, 86, 87, 88, 89, 90, 91, 92, 93, 95, 96, 97, 98, 99, 100, 101, 102, 107, 108, 109]\n",
      "WARNING: aclu 81 is not present in the `pf1D_all` ratemaps. Which contain aclus: [3, 4, 5, 7, 8, 9, 10, 11, 14, 15, 16, 17, 19, 22, 23, 24, 25, 26, 31, 32, 33, 34, 35, 36, 37, 38, 39, 41, 45, 46, 48, 49, 50, 51, 52, 53, 54, 55, 56, 57, 58, 59, 60, 61, 62, 63, 64, 66, 67, 68, 69, 71, 72, 73, 74, 75, 76, 78, 79, 82, 83, 84, 85, 86, 87, 88, 89, 90, 91, 92, 93, 95, 96, 97, 98, 99, 100, 101, 102, 107, 108, 109]\n"
     ]
    },
    {
     "name": "stderr",
     "output_type": "stream",
     "text": [
      "/home/halechr/repos/pyPhoPlaceCellAnalysis/src/pyphoplacecellanalysis/General/Batch/NonInteractiveProcessing.py:679: UserWarning: constrained_layout not applied because axes sizes collapsed to zero.  Try making figure larger or axes decorations smaller.\n",
      "  a_fig.savefig(fig_png_out_path)\n"
     ]
    },
    {
     "name": "stdout",
     "output_type": "stream",
     "text": [
      "\t saved /home/halechr/repos/Spike3D/EXTERNAL/Screenshots/ProgrammaticDisplayFunctionTesting/2023-10-06/kdiba/gor01/one/2006-6-08_14-26-15/BatchPhoJonathanReplayFRC_short_only_(4,13,21,23,52,58,67,81).png\n",
      "include_includelist: ['maze1', 'maze2', 'maze']\n",
      "long_epoch_name: maze1, short_epoch_name: maze2, global_epoch_name: maze\n"
     ]
    },
    {
     "name": "stderr",
     "output_type": "stream",
     "text": [
      "/home/halechr/repos/pyPhoPlaceCellAnalysis/src/pyphoplacecellanalysis/General/Pipeline/Stages/DisplayFunctions/MultiContextComparingDisplayFunctions/LongShortTrackComparingDisplayFunctions.py:1209: SettingWithCopyWarning: \n",
      "A value is trying to be set on a copy of a slice from a DataFrame.\n",
      "Try using .loc[row_indexer,col_indexer] = value instead\n",
      "\n",
      "See the caveats in the documentation: https://pandas.pydata.org/pandas-docs/stable/user_guide/indexing.html#returning-a-view-versus-a-copy\n",
      "  cell_df.loc[:, 'x'] = spk_x\n",
      "/home/halechr/repos/pyPhoPlaceCellAnalysis/src/pyphoplacecellanalysis/General/Mixins/CrossComputationComparisonHelpers.py:235: RuntimeWarning: invalid value encountered in divide\n",
      "  _long_to_short_balances = (rdf.num_short_only_neuron_participating.values - rdf.num_long_only_neuron_participating.values) / (rdf.num_short_only_neuron_participating.values + rdf.num_long_only_neuron_participating.values) ## Working but (0, 1, 1) would clip to 0.5 despite (1, 13, 0) going all the way down to -1.0\n",
      "/home/halechr/repos/pyPhoPlaceCellAnalysis/src/pyphoplacecellanalysis/General/Mixins/CrossComputationComparisonHelpers.py:265: RuntimeWarning: invalid value encountered in divide\n",
      "  _long_to_short_balances = (rdf.num_short_only_neuron_participating.values - rdf.num_long_only_neuron_participating.values) / (rdf.num_short_only_neuron_participating.values + rdf.num_long_only_neuron_participating.values) ## Working but (0, 1, 1) would clip to 0.5 despite (1, 13, 0) going all the way down to -1.0\n"
     ]
    },
    {
     "name": "stdout",
     "output_type": "stream",
     "text": [
      "DEPRICATION WARNING: workaround to allow subscripting ComputationResult objects. Will be depricated. key: computed_data\n"
     ]
    },
    {
     "name": "stderr",
     "output_type": "stream",
     "text": [
      "/home/halechr/repos/pyPhoPlaceCellAnalysis/src/pyphoplacecellanalysis/General/Batch/NonInteractiveProcessing.py:679: UserWarning: constrained_layout not applied because axes sizes collapsed to zero.  Try making figure larger or axes decorations smaller.\n",
      "  a_fig.savefig(fig_png_out_path)\n"
     ]
    },
    {
     "name": "stdout",
     "output_type": "stream",
     "text": [
      "\t saved /home/halechr/repos/Spike3D/EXTERNAL/Screenshots/ProgrammaticDisplayFunctionTesting/2023-10-06/kdiba/gor01/one/2006-6-08_14-26-15/BatchPhoJonathanReplayFRC_shared_1of5_(87,102,7,84,34,17,95,51,38,92,45,71,46,79,93,78,5,22,72,96).png\n",
      "include_includelist: ['maze1', 'maze2', 'maze']\n",
      "long_epoch_name: maze1, short_epoch_name: maze2, global_epoch_name: maze\n"
     ]
    },
    {
     "name": "stderr",
     "output_type": "stream",
     "text": [
      "/home/halechr/repos/pyPhoPlaceCellAnalysis/src/pyphoplacecellanalysis/General/Pipeline/Stages/DisplayFunctions/MultiContextComparingDisplayFunctions/LongShortTrackComparingDisplayFunctions.py:1209: SettingWithCopyWarning: \n",
      "A value is trying to be set on a copy of a slice from a DataFrame.\n",
      "Try using .loc[row_indexer,col_indexer] = value instead\n",
      "\n",
      "See the caveats in the documentation: https://pandas.pydata.org/pandas-docs/stable/user_guide/indexing.html#returning-a-view-versus-a-copy\n",
      "  cell_df.loc[:, 'x'] = spk_x\n",
      "/home/halechr/repos/pyPhoPlaceCellAnalysis/src/pyphoplacecellanalysis/General/Mixins/CrossComputationComparisonHelpers.py:235: RuntimeWarning: invalid value encountered in divide\n",
      "  _long_to_short_balances = (rdf.num_short_only_neuron_participating.values - rdf.num_long_only_neuron_participating.values) / (rdf.num_short_only_neuron_participating.values + rdf.num_long_only_neuron_participating.values) ## Working but (0, 1, 1) would clip to 0.5 despite (1, 13, 0) going all the way down to -1.0\n",
      "/home/halechr/repos/pyPhoPlaceCellAnalysis/src/pyphoplacecellanalysis/General/Mixins/CrossComputationComparisonHelpers.py:265: RuntimeWarning: invalid value encountered in divide\n",
      "  _long_to_short_balances = (rdf.num_short_only_neuron_participating.values - rdf.num_long_only_neuron_participating.values) / (rdf.num_short_only_neuron_participating.values + rdf.num_long_only_neuron_participating.values) ## Working but (0, 1, 1) would clip to 0.5 despite (1, 13, 0) going all the way down to -1.0\n"
     ]
    },
    {
     "name": "stdout",
     "output_type": "stream",
     "text": [
      "DEPRICATION WARNING: workaround to allow subscripting ComputationResult objects. Will be depricated. key: computed_data\n"
     ]
    },
    {
     "name": "stderr",
     "output_type": "stream",
     "text": [
      "/home/halechr/repos/pyPhoPlaceCellAnalysis/src/pyphoplacecellanalysis/General/Batch/NonInteractiveProcessing.py:679: UserWarning: constrained_layout not applied because axes sizes collapsed to zero.  Try making figure larger or axes decorations smaller.\n",
      "  a_fig.savefig(fig_png_out_path)\n"
     ]
    },
    {
     "name": "stdout",
     "output_type": "stream",
     "text": [
      "\t saved /home/halechr/repos/Spike3D/EXTERNAL/Screenshots/ProgrammaticDisplayFunctionTesting/2023-10-06/kdiba/gor01/one/2006-6-08_14-26-15/BatchPhoJonathanReplayFRC_shared_2of5_(39,83,24,69,49,91,15,26,99,3,32,14,101,31,76,33,55,25,50,10).png\n",
      "include_includelist: ['maze1', 'maze2', 'maze']\n",
      "long_epoch_name: maze1, short_epoch_name: maze2, global_epoch_name: maze\n"
     ]
    },
    {
     "name": "stderr",
     "output_type": "stream",
     "text": [
      "/home/halechr/repos/pyPhoPlaceCellAnalysis/src/pyphoplacecellanalysis/General/Pipeline/Stages/DisplayFunctions/MultiContextComparingDisplayFunctions/LongShortTrackComparingDisplayFunctions.py:1209: SettingWithCopyWarning: \n",
      "A value is trying to be set on a copy of a slice from a DataFrame.\n",
      "Try using .loc[row_indexer,col_indexer] = value instead\n",
      "\n",
      "See the caveats in the documentation: https://pandas.pydata.org/pandas-docs/stable/user_guide/indexing.html#returning-a-view-versus-a-copy\n",
      "  cell_df.loc[:, 'x'] = spk_x\n",
      "/home/halechr/repos/pyPhoPlaceCellAnalysis/src/pyphoplacecellanalysis/General/Mixins/CrossComputationComparisonHelpers.py:235: RuntimeWarning: invalid value encountered in divide\n",
      "  _long_to_short_balances = (rdf.num_short_only_neuron_participating.values - rdf.num_long_only_neuron_participating.values) / (rdf.num_short_only_neuron_participating.values + rdf.num_long_only_neuron_participating.values) ## Working but (0, 1, 1) would clip to 0.5 despite (1, 13, 0) going all the way down to -1.0\n",
      "/home/halechr/repos/pyPhoPlaceCellAnalysis/src/pyphoplacecellanalysis/General/Mixins/CrossComputationComparisonHelpers.py:265: RuntimeWarning: invalid value encountered in divide\n",
      "  _long_to_short_balances = (rdf.num_short_only_neuron_participating.values - rdf.num_long_only_neuron_participating.values) / (rdf.num_short_only_neuron_participating.values + rdf.num_long_only_neuron_participating.values) ## Working but (0, 1, 1) would clip to 0.5 despite (1, 13, 0) going all the way down to -1.0\n"
     ]
    },
    {
     "name": "stdout",
     "output_type": "stream",
     "text": [
      "DEPRICATION WARNING: workaround to allow subscripting ComputationResult objects. Will be depricated. key: computed_data\n",
      "WARNING: aclu 70 is not present in the `pf1D_all` ratemaps. Which contain aclus: [3, 4, 5, 7, 8, 9, 10, 11, 14, 15, 16, 17, 19, 22, 23, 24, 25, 26, 31, 32, 33, 34, 35, 36, 37, 38, 39, 41, 45, 46, 48, 49, 50, 51, 52, 53, 54, 55, 56, 57, 58, 59, 60, 61, 62, 63, 64, 66, 67, 68, 69, 71, 72, 73, 74, 75, 76, 78, 79, 82, 83, 84, 85, 86, 87, 88, 89, 90, 91, 92, 93, 95, 96, 97, 98, 99, 100, 101, 102, 107, 108, 109]\n"
     ]
    },
    {
     "name": "stderr",
     "output_type": "stream",
     "text": [
      "/home/halechr/repos/pyPhoPlaceCellAnalysis/src/pyphoplacecellanalysis/General/Batch/NonInteractiveProcessing.py:679: UserWarning: constrained_layout not applied because axes sizes collapsed to zero.  Try making figure larger or axes decorations smaller.\n",
      "  a_fig.savefig(fig_png_out_path)\n"
     ]
    },
    {
     "name": "stdout",
     "output_type": "stream",
     "text": [
      "\t saved /home/halechr/repos/Spike3D/EXTERNAL/Screenshots/ProgrammaticDisplayFunctionTesting/2023-10-06/kdiba/gor01/one/2006-6-08_14-26-15/BatchPhoJonathanReplayFRC_shared_3of5_(90,64,61,70,75,82,86,41,85,53,107,100,59,88,89,48,16,108,56,66).png\n",
      "include_includelist: ['maze1', 'maze2', 'maze']\n",
      "long_epoch_name: maze1, short_epoch_name: maze2, global_epoch_name: maze\n"
     ]
    },
    {
     "name": "stderr",
     "output_type": "stream",
     "text": [
      "/home/halechr/repos/pyPhoPlaceCellAnalysis/src/pyphoplacecellanalysis/General/Pipeline/Stages/DisplayFunctions/MultiContextComparingDisplayFunctions/LongShortTrackComparingDisplayFunctions.py:1209: SettingWithCopyWarning: \n",
      "A value is trying to be set on a copy of a slice from a DataFrame.\n",
      "Try using .loc[row_indexer,col_indexer] = value instead\n",
      "\n",
      "See the caveats in the documentation: https://pandas.pydata.org/pandas-docs/stable/user_guide/indexing.html#returning-a-view-versus-a-copy\n",
      "  cell_df.loc[:, 'x'] = spk_x\n",
      "/home/halechr/repos/pyPhoPlaceCellAnalysis/src/pyphoplacecellanalysis/General/Mixins/CrossComputationComparisonHelpers.py:235: RuntimeWarning: invalid value encountered in divide\n",
      "  _long_to_short_balances = (rdf.num_short_only_neuron_participating.values - rdf.num_long_only_neuron_participating.values) / (rdf.num_short_only_neuron_participating.values + rdf.num_long_only_neuron_participating.values) ## Working but (0, 1, 1) would clip to 0.5 despite (1, 13, 0) going all the way down to -1.0\n",
      "/home/halechr/repos/pyPhoPlaceCellAnalysis/src/pyphoplacecellanalysis/General/Mixins/CrossComputationComparisonHelpers.py:265: RuntimeWarning: invalid value encountered in divide\n",
      "  _long_to_short_balances = (rdf.num_short_only_neuron_participating.values - rdf.num_long_only_neuron_participating.values) / (rdf.num_short_only_neuron_participating.values + rdf.num_long_only_neuron_participating.values) ## Working but (0, 1, 1) would clip to 0.5 despite (1, 13, 0) going all the way down to -1.0\n"
     ]
    },
    {
     "name": "stdout",
     "output_type": "stream",
     "text": [
      "DEPRICATION WARNING: workaround to allow subscripting ComputationResult objects. Will be depricated. key: computed_data\n",
      "WARNING: aclu 6 is not present in the `pf1D_all` ratemaps. Which contain aclus: [3, 4, 5, 7, 8, 9, 10, 11, 14, 15, 16, 17, 19, 22, 23, 24, 25, 26, 31, 32, 33, 34, 35, 36, 37, 38, 39, 41, 45, 46, 48, 49, 50, 51, 52, 53, 54, 55, 56, 57, 58, 59, 60, 61, 62, 63, 64, 66, 67, 68, 69, 71, 72, 73, 74, 75, 76, 78, 79, 82, 83, 84, 85, 86, 87, 88, 89, 90, 91, 92, 93, 95, 96, 97, 98, 99, 100, 101, 102, 107, 108, 109]\n",
      "WARNING: aclu 12 is not present in the `pf1D_all` ratemaps. Which contain aclus: [3, 4, 5, 7, 8, 9, 10, 11, 14, 15, 16, 17, 19, 22, 23, 24, 25, 26, 31, 32, 33, 34, 35, 36, 37, 38, 39, 41, 45, 46, 48, 49, 50, 51, 52, 53, 54, 55, 56, 57, 58, 59, 60, 61, 62, 63, 64, 66, 67, 68, 69, 71, 72, 73, 74, 75, 76, 78, 79, 82, 83, 84, 85, 86, 87, 88, 89, 90, 91, 92, 93, 95, 96, 97, 98, 99, 100, 101, 102, 107, 108, 109]\n",
      "WARNING: aclu 18 is not present in the `pf1D_all` ratemaps. Which contain aclus: [3, 4, 5, 7, 8, 9, 10, 11, 14, 15, 16, 17, 19, 22, 23, 24, 25, 26, 31, 32, 33, 34, 35, 36, 37, 38, 39, 41, 45, 46, 48, 49, 50, 51, 52, 53, 54, 55, 56, 57, 58, 59, 60, 61, 62, 63, 64, 66, 67, 68, 69, 71, 72, 73, 74, 75, 76, 78, 79, 82, 83, 84, 85, 86, 87, 88, 89, 90, 91, 92, 93, 95, 96, 97, 98, 99, 100, 101, 102, 107, 108, 109]\n",
      "WARNING: aclu 20 is not present in the `pf1D_all` ratemaps. Which contain aclus: [3, 4, 5, 7, 8, 9, 10, 11, 14, 15, 16, 17, 19, 22, 23, 24, 25, 26, 31, 32, 33, 34, 35, 36, 37, 38, 39, 41, 45, 46, 48, 49, 50, 51, 52, 53, 54, 55, 56, 57, 58, 59, 60, 61, 62, 63, 64, 66, 67, 68, 69, 71, 72, 73, 74, 75, 76, 78, 79, 82, 83, 84, 85, 86, 87, 88, 89, 90, 91, 92, 93, 95, 96, 97, 98, 99, 100, 101, 102, 107, 108, 109]\n",
      "WARNING: aclu 27 is not present in the `pf1D_all` ratemaps. Which contain aclus: [3, 4, 5, 7, 8, 9, 10, 11, 14, 15, 16, 17, 19, 22, 23, 24, 25, 26, 31, 32, 33, 34, 35, 36, 37, 38, 39, 41, 45, 46, 48, 49, 50, 51, 52, 53, 54, 55, 56, 57, 58, 59, 60, 61, 62, 63, 64, 66, 67, 68, 69, 71, 72, 73, 74, 75, 76, 78, 79, 82, 83, 84, 85, 86, 87, 88, 89, 90, 91, 92, 93, 95, 96, 97, 98, 99, 100, 101, 102, 107, 108, 109]\n",
      "WARNING: aclu 28 is not present in the `pf1D_all` ratemaps. Which contain aclus: [3, 4, 5, 7, 8, 9, 10, 11, 14, 15, 16, 17, 19, 22, 23, 24, 25, 26, 31, 32, 33, 34, 35, 36, 37, 38, 39, 41, 45, 46, 48, 49, 50, 51, 52, 53, 54, 55, 56, 57, 58, 59, 60, 61, 62, 63, 64, 66, 67, 68, 69, 71, 72, 73, 74, 75, 76, 78, 79, 82, 83, 84, 85, 86, 87, 88, 89, 90, 91, 92, 93, 95, 96, 97, 98, 99, 100, 101, 102, 107, 108, 109]\n",
      "WARNING: aclu 29 is not present in the `pf1D_all` ratemaps. Which contain aclus: [3, 4, 5, 7, 8, 9, 10, 11, 14, 15, 16, 17, 19, 22, 23, 24, 25, 26, 31, 32, 33, 34, 35, 36, 37, 38, 39, 41, 45, 46, 48, 49, 50, 51, 52, 53, 54, 55, 56, 57, 58, 59, 60, 61, 62, 63, 64, 66, 67, 68, 69, 71, 72, 73, 74, 75, 76, 78, 79, 82, 83, 84, 85, 86, 87, 88, 89, 90, 91, 92, 93, 95, 96, 97, 98, 99, 100, 101, 102, 107, 108, 109]\n",
      "WARNING: aclu 30 is not present in the `pf1D_all` ratemaps. Which contain aclus: [3, 4, 5, 7, 8, 9, 10, 11, 14, 15, 16, 17, 19, 22, 23, 24, 25, 26, 31, 32, 33, 34, 35, 36, 37, 38, 39, 41, 45, 46, 48, 49, 50, 51, 52, 53, 54, 55, 56, 57, 58, 59, 60, 61, 62, 63, 64, 66, 67, 68, 69, 71, 72, 73, 74, 75, 76, 78, 79, 82, 83, 84, 85, 86, 87, 88, 89, 90, 91, 92, 93, 95, 96, 97, 98, 99, 100, 101, 102, 107, 108, 109]\n",
      "WARNING: aclu 40 is not present in the `pf1D_all` ratemaps. Which contain aclus: [3, 4, 5, 7, 8, 9, 10, 11, 14, 15, 16, 17, 19, 22, 23, 24, 25, 26, 31, 32, 33, 34, 35, 36, 37, 38, 39, 41, 45, 46, 48, 49, 50, 51, 52, 53, 54, 55, 56, 57, 58, 59, 60, 61, 62, 63, 64, 66, 67, 68, 69, 71, 72, 73, 74, 75, 76, 78, 79, 82, 83, 84, 85, 86, 87, 88, 89, 90, 91, 92, 93, 95, 96, 97, 98, 99, 100, 101, 102, 107, 108, 109]\n",
      "WARNING: aclu 42 is not present in the `pf1D_all` ratemaps. Which contain aclus: [3, 4, 5, 7, 8, 9, 10, 11, 14, 15, 16, 17, 19, 22, 23, 24, 25, 26, 31, 32, 33, 34, 35, 36, 37, 38, 39, 41, 45, 46, 48, 49, 50, 51, 52, 53, 54, 55, 56, 57, 58, 59, 60, 61, 62, 63, 64, 66, 67, 68, 69, 71, 72, 73, 74, 75, 76, 78, 79, 82, 83, 84, 85, 86, 87, 88, 89, 90, 91, 92, 93, 95, 96, 97, 98, 99, 100, 101, 102, 107, 108, 109]\n",
      "WARNING: aclu 43 is not present in the `pf1D_all` ratemaps. Which contain aclus: [3, 4, 5, 7, 8, 9, 10, 11, 14, 15, 16, 17, 19, 22, 23, 24, 25, 26, 31, 32, 33, 34, 35, 36, 37, 38, 39, 41, 45, 46, 48, 49, 50, 51, 52, 53, 54, 55, 56, 57, 58, 59, 60, 61, 62, 63, 64, 66, 67, 68, 69, 71, 72, 73, 74, 75, 76, 78, 79, 82, 83, 84, 85, 86, 87, 88, 89, 90, 91, 92, 93, 95, 96, 97, 98, 99, 100, 101, 102, 107, 108, 109]\n",
      "WARNING: aclu 44 is not present in the `pf1D_all` ratemaps. Which contain aclus: [3, 4, 5, 7, 8, 9, 10, 11, 14, 15, 16, 17, 19, 22, 23, 24, 25, 26, 31, 32, 33, 34, 35, 36, 37, 38, 39, 41, 45, 46, 48, 49, 50, 51, 52, 53, 54, 55, 56, 57, 58, 59, 60, 61, 62, 63, 64, 66, 67, 68, 69, 71, 72, 73, 74, 75, 76, 78, 79, 82, 83, 84, 85, 86, 87, 88, 89, 90, 91, 92, 93, 95, 96, 97, 98, 99, 100, 101, 102, 107, 108, 109]\n",
      "WARNING: aclu 47 is not present in the `pf1D_all` ratemaps. Which contain aclus: [3, 4, 5, 7, 8, 9, 10, 11, 14, 15, 16, 17, 19, 22, 23, 24, 25, 26, 31, 32, 33, 34, 35, 36, 37, 38, 39, 41, 45, 46, 48, 49, 50, 51, 52, 53, 54, 55, 56, 57, 58, 59, 60, 61, 62, 63, 64, 66, 67, 68, 69, 71, 72, 73, 74, 75, 76, 78, 79, 82, 83, 84, 85, 86, 87, 88, 89, 90, 91, 92, 93, 95, 96, 97, 98, 99, 100, 101, 102, 107, 108, 109]\n"
     ]
    },
    {
     "name": "stderr",
     "output_type": "stream",
     "text": [
      "/home/halechr/repos/pyPhoPlaceCellAnalysis/src/pyphoplacecellanalysis/General/Batch/NonInteractiveProcessing.py:679: UserWarning: constrained_layout not applied because axes sizes collapsed to zero.  Try making figure larger or axes decorations smaller.\n",
      "  a_fig.savefig(fig_png_out_path)\n"
     ]
    },
    {
     "name": "stdout",
     "output_type": "stream",
     "text": [
      "\t saved /home/halechr/repos/Spike3D/EXTERNAL/Screenshots/ProgrammaticDisplayFunctionTesting/2023-10-06/kdiba/gor01/one/2006-6-08_14-26-15/BatchPhoJonathanReplayFRC_shared_4of5_(35,60,98,11,9,57,62,6,12,18,20,27,28,29,30,40,42,43,44,47).png\n",
      "include_includelist: ['maze1', 'maze2', 'maze']\n",
      "long_epoch_name: maze1, short_epoch_name: maze2, global_epoch_name: maze\n"
     ]
    },
    {
     "name": "stderr",
     "output_type": "stream",
     "text": [
      "/home/halechr/repos/pyPhoPlaceCellAnalysis/src/pyphoplacecellanalysis/General/Pipeline/Stages/DisplayFunctions/MultiContextComparingDisplayFunctions/LongShortTrackComparingDisplayFunctions.py:1209: SettingWithCopyWarning: \n",
      "A value is trying to be set on a copy of a slice from a DataFrame.\n",
      "Try using .loc[row_indexer,col_indexer] = value instead\n",
      "\n",
      "See the caveats in the documentation: https://pandas.pydata.org/pandas-docs/stable/user_guide/indexing.html#returning-a-view-versus-a-copy\n",
      "  cell_df.loc[:, 'x'] = spk_x\n",
      "/home/halechr/repos/NeuroPy/neuropy/utils/matplotlib_helpers.py:382: RuntimeWarning: More than 20 figures have been opened. Figures created through the pyplot interface (`matplotlib.pyplot.figure`) are retained until explicitly closed and may consume too much memory. (To control this warning, see the rcParam `figure.max_open_warning`). Consider using `matplotlib.pyplot.close()`.\n",
      "  fig = plt.figure(active_fig_id, **({'dpi': None, 'clear': True} | kwargs)) # , 'tight_layout': False - had to remove 'tight_layout': False because it can't coexist with 'constrained_layout'\n",
      "/home/halechr/repos/pyPhoPlaceCellAnalysis/src/pyphoplacecellanalysis/General/Mixins/CrossComputationComparisonHelpers.py:235: RuntimeWarning: invalid value encountered in divide\n",
      "  _long_to_short_balances = (rdf.num_short_only_neuron_participating.values - rdf.num_long_only_neuron_participating.values) / (rdf.num_short_only_neuron_participating.values + rdf.num_long_only_neuron_participating.values) ## Working but (0, 1, 1) would clip to 0.5 despite (1, 13, 0) going all the way down to -1.0\n",
      "/home/halechr/repos/pyPhoPlaceCellAnalysis/src/pyphoplacecellanalysis/General/Mixins/CrossComputationComparisonHelpers.py:265: RuntimeWarning: invalid value encountered in divide\n",
      "  _long_to_short_balances = (rdf.num_short_only_neuron_participating.values - rdf.num_long_only_neuron_participating.values) / (rdf.num_short_only_neuron_participating.values + rdf.num_long_only_neuron_participating.values) ## Working but (0, 1, 1) would clip to 0.5 despite (1, 13, 0) going all the way down to -1.0\n"
     ]
    },
    {
     "name": "stdout",
     "output_type": "stream",
     "text": [
      "DEPRICATION WARNING: workaround to allow subscripting ComputationResult objects. Will be depricated. key: computed_data\n",
      "WARNING: aclu 65 is not present in the `pf1D_all` ratemaps. Which contain aclus: [3, 4, 5, 7, 8, 9, 10, 11, 14, 15, 16, 17, 19, 22, 23, 24, 25, 26, 31, 32, 33, 34, 35, 36, 37, 38, 39, 41, 45, 46, 48, 49, 50, 51, 52, 53, 54, 55, 56, 57, 58, 59, 60, 61, 62, 63, 64, 66, 67, 68, 69, 71, 72, 73, 74, 75, 76, 78, 79, 82, 83, 84, 85, 86, 87, 88, 89, 90, 91, 92, 93, 95, 96, 97, 98, 99, 100, 101, 102, 107, 108, 109]\n",
      "WARNING: aclu 77 is not present in the `pf1D_all` ratemaps. Which contain aclus: [3, 4, 5, 7, 8, 9, 10, 11, 14, 15, 16, 17, 19, 22, 23, 24, 25, 26, 31, 32, 33, 34, 35, 36, 37, 38, 39, 41, 45, 46, 48, 49, 50, 51, 52, 53, 54, 55, 56, 57, 58, 59, 60, 61, 62, 63, 64, 66, 67, 68, 69, 71, 72, 73, 74, 75, 76, 78, 79, 82, 83, 84, 85, 86, 87, 88, 89, 90, 91, 92, 93, 95, 96, 97, 98, 99, 100, 101, 102, 107, 108, 109]\n",
      "WARNING: aclu 80 is not present in the `pf1D_all` ratemaps. Which contain aclus: [3, 4, 5, 7, 8, 9, 10, 11, 14, 15, 16, 17, 19, 22, 23, 24, 25, 26, 31, 32, 33, 34, 35, 36, 37, 38, 39, 41, 45, 46, 48, 49, 50, 51, 52, 53, 54, 55, 56, 57, 58, 59, 60, 61, 62, 63, 64, 66, 67, 68, 69, 71, 72, 73, 74, 75, 76, 78, 79, 82, 83, 84, 85, 86, 87, 88, 89, 90, 91, 92, 93, 95, 96, 97, 98, 99, 100, 101, 102, 107, 108, 109]\n",
      "WARNING: aclu 94 is not present in the `pf1D_all` ratemaps. Which contain aclus: [3, 4, 5, 7, 8, 9, 10, 11, 14, 15, 16, 17, 19, 22, 23, 24, 25, 26, 31, 32, 33, 34, 35, 36, 37, 38, 39, 41, 45, 46, 48, 49, 50, 51, 52, 53, 54, 55, 56, 57, 58, 59, 60, 61, 62, 63, 64, 66, 67, 68, 69, 71, 72, 73, 74, 75, 76, 78, 79, 82, 83, 84, 85, 86, 87, 88, 89, 90, 91, 92, 93, 95, 96, 97, 98, 99, 100, 101, 102, 107, 108, 109]\n",
      "WARNING: aclu 103 is not present in the `pf1D_all` ratemaps. Which contain aclus: [3, 4, 5, 7, 8, 9, 10, 11, 14, 15, 16, 17, 19, 22, 23, 24, 25, 26, 31, 32, 33, 34, 35, 36, 37, 38, 39, 41, 45, 46, 48, 49, 50, 51, 52, 53, 54, 55, 56, 57, 58, 59, 60, 61, 62, 63, 64, 66, 67, 68, 69, 71, 72, 73, 74, 75, 76, 78, 79, 82, 83, 84, 85, 86, 87, 88, 89, 90, 91, 92, 93, 95, 96, 97, 98, 99, 100, 101, 102, 107, 108, 109]\n",
      "WARNING: aclu 104 is not present in the `pf1D_all` ratemaps. Which contain aclus: [3, 4, 5, 7, 8, 9, 10, 11, 14, 15, 16, 17, 19, 22, 23, 24, 25, 26, 31, 32, 33, 34, 35, 36, 37, 38, 39, 41, 45, 46, 48, 49, 50, 51, 52, 53, 54, 55, 56, 57, 58, 59, 60, 61, 62, 63, 64, 66, 67, 68, 69, 71, 72, 73, 74, 75, 76, 78, 79, 82, 83, 84, 85, 86, 87, 88, 89, 90, 91, 92, 93, 95, 96, 97, 98, 99, 100, 101, 102, 107, 108, 109]\n",
      "WARNING: aclu 105 is not present in the `pf1D_all` ratemaps. Which contain aclus: [3, 4, 5, 7, 8, 9, 10, 11, 14, 15, 16, 17, 19, 22, 23, 24, 25, 26, 31, 32, 33, 34, 35, 36, 37, 38, 39, 41, 45, 46, 48, 49, 50, 51, 52, 53, 54, 55, 56, 57, 58, 59, 60, 61, 62, 63, 64, 66, 67, 68, 69, 71, 72, 73, 74, 75, 76, 78, 79, 82, 83, 84, 85, 86, 87, 88, 89, 90, 91, 92, 93, 95, 96, 97, 98, 99, 100, 101, 102, 107, 108, 109]\n",
      "WARNING: aclu 106 is not present in the `pf1D_all` ratemaps. Which contain aclus: [3, 4, 5, 7, 8, 9, 10, 11, 14, 15, 16, 17, 19, 22, 23, 24, 25, 26, 31, 32, 33, 34, 35, 36, 37, 38, 39, 41, 45, 46, 48, 49, 50, 51, 52, 53, 54, 55, 56, 57, 58, 59, 60, 61, 62, 63, 64, 66, 67, 68, 69, 71, 72, 73, 74, 75, 76, 78, 79, 82, 83, 84, 85, 86, 87, 88, 89, 90, 91, 92, 93, 95, 96, 97, 98, 99, 100, 101, 102, 107, 108, 109]\n"
     ]
    },
    {
     "name": "stderr",
     "output_type": "stream",
     "text": [
      "/home/halechr/repos/pyPhoPlaceCellAnalysis/src/pyphoplacecellanalysis/General/Batch/NonInteractiveProcessing.py:679: UserWarning: constrained_layout not applied because axes sizes collapsed to zero.  Try making figure larger or axes decorations smaller.\n",
      "  a_fig.savefig(fig_png_out_path)\n"
     ]
    },
    {
     "name": "stdout",
     "output_type": "stream",
     "text": [
      "\t saved /home/halechr/repos/Spike3D/EXTERNAL/Screenshots/ProgrammaticDisplayFunctionTesting/2023-10-06/kdiba/gor01/one/2006-6-08_14-26-15/BatchPhoJonathanReplayFRC_shared_5of5_(65,77,80,94,103,104,105,106).png\n",
      "Neptuner.stop() called!\n",
      "Shutting down background jobs, please wait a moment...\n",
      "Done!\n",
      "Waiting for the remaining 37 operations to synchronize with Neptune. Do not kill this process.\n",
      "All 37 operations synced, thanks for waiting!\n",
      "Explore the metadata in the Neptune app:\n",
      "https://app.neptune.ai/commander.pho/PhoDibaLongShortUpdated/e/LS2023-674/metadata\n",
      "Shutting down background jobs, please wait a moment...\n",
      "Done!\n",
      "All 0 operations synced, thanks for waiting!\n",
      "Explore the metadata in the Neptune app:\n",
      "https://app.neptune.ai/commander.pho/PhoDibaLongShortUpdated/metadata\n",
      "Neptuner stoppped.\n",
      "Neptuner.stop() called!\n",
      "Neptuner stoppped.\n",
      "DEPRICATION WARNING: workaround to allow subscripting ComputationResult objects. Will be depricated. key: computed_data\n",
      "DEPRICATION WARNING: workaround to allow subscripting ComputationResult objects. Will be depricated. key: computed_data\n",
      "DEPRICATION WARNING: workaround to allow subscripting ComputationResult objects. Will be depricated. key: computed_data\n",
      "DEPRICATION WARNING: workaround to allow subscripting ComputationResult objects. Will be depricated. key: computation_config\n",
      "DEPRICATION WARNING: workaround to allow subscripting ComputationResult objects. Will be depricated. key: computation_config\n",
      "DEPRICATION WARNING: workaround to allow subscripting ComputationResult objects. Will be depricated. key: computation_config\n",
      "WARN: 2023-09-28 16:15: - [ ] fix the combination properties. Would work if we directly used the computed _is_L_only and _is_S_only above\n"
     ]
    },
    {
     "name": "stderr",
     "output_type": "stream",
     "text": [
      "/home/halechr/repos/NeuroPy/neuropy/core/flattened_spiketrains.py:242: SettingWithCopyWarning: \n",
      "A value is trying to be set on a copy of a slice from a DataFrame.\n",
      "Try using .loc[row_indexer,col_indexer] = value instead\n",
      "\n",
      "See the caveats in the documentation: https://pandas.pydata.org/pandas-docs/stable/user_guide/indexing.html#returning-a-view-versus-a-copy\n",
      "  self._obj['fragile_linear_neuron_IDX'] = included_cell_INDEXES.copy()\n",
      "/home/halechr/repos/NeuroPy/neuropy/core/flattened_spiketrains.py:245: SettingWithCopyWarning: \n",
      "A value is trying to be set on a copy of a slice from a DataFrame.\n",
      "Try using .loc[row_indexer,col_indexer] = value instead\n",
      "\n",
      "See the caveats in the documentation: https://pandas.pydata.org/pandas-docs/stable/user_guide/indexing.html#returning-a-view-versus-a-copy\n",
      "  self._obj['neuron_IDX'] = self._obj['fragile_linear_neuron_IDX'].copy()\n",
      "/home/halechr/repos/NeuroPy/neuropy/utils/mixins/time_slicing.py:155: SettingWithCopyWarning: \n",
      "A value is trying to be set on a copy of a slice from a DataFrame.\n",
      "Try using .loc[row_indexer,col_indexer] = value instead\n",
      "\n",
      "See the caveats in the documentation: https://pandas.pydata.org/pandas-docs/stable/user_guide/indexing.html#returning-a-view-versus-a-copy\n",
      "  spk_df[epoch_id_key_name] = spike_epoch_identity_arr\n"
     ]
    },
    {
     "name": "stdout",
     "output_type": "stream",
     "text": [
      "DEPRICATION WARNING: workaround to allow subscripting ComputationResult objects. Will be depricated. key: computed_data\n",
      "DEPRICATION WARNING: workaround to allow subscripting ComputationResult objects. Will be depricated. key: computed_data\n",
      "DEPRICATION WARNING: workaround to allow subscripting ComputationResult objects. Will be depricated. key: computed_data\n",
      "DEPRICATION WARNING: workaround to allow subscripting ComputationResult objects. Will be depricated. key: computation_config\n",
      "DEPRICATION WARNING: workaround to allow subscripting ComputationResult objects. Will be depricated. key: computation_config\n",
      "DEPRICATION WARNING: workaround to allow subscripting ComputationResult objects. Will be depricated. key: computation_config\n",
      "WARNING: fignum will be ignored but it was specified as fignum=\"Short v Long pf1D Comparison\"!\n",
      "DEPRICATION WARNING: workaround to allow subscripting ComputationResult objects. Will be depricated. key: computed_data\n",
      "DEPRICATION WARNING: workaround to allow subscripting ComputationResult objects. Will be depricated. key: computed_data\n",
      "DEBUG: new_all_aclus_sort_indicies: [69 83 52 66  4 39 24 78 13 58 36 28 76 31 55 32 74 62 86 48 75 56 16 61\n",
      "  3 77 29 65 18 53 34 73 11 20 80 22  1 10 82 21 40 23 60 19 35  7 72 49\n",
      " 46 64 59 54 57 30 68 67  5  0 38 81 84 71 12 44 70 33 25 41 50 85 45 79\n",
      " 27 14 26  8 42  6 47 15 17 43  2 63 37 51  9]\n",
      "active_context: kdiba_gor01_one_2006-6-08_14-26-15\n",
      "\t saved /home/halechr/repos/Spike3D/EXTERNAL/Screenshots/ProgrammaticDisplayFunctionTesting/2023-10-06/kdiba/gor01/one/2006-6-08_14-26-15/display_short_long_pf1D_comparison_long.png\n",
      "\t saved /home/halechr/repos/Spike3D/EXTERNAL/Screenshots/ProgrammaticDisplayFunctionTesting/2023-10-06/kdiba/gor01/one/2006-6-08_14-26-15/display_short_long_pf1D_comparison_short.png\n",
      "WARN: 2023-09-28 16:15: - [ ] fix the combination properties. Would work if we directly used the computed _is_L_only and _is_S_only above\n"
     ]
    },
    {
     "name": "stderr",
     "output_type": "stream",
     "text": [
      "/home/halechr/repos/NeuroPy/neuropy/core/flattened_spiketrains.py:242: SettingWithCopyWarning: \n",
      "A value is trying to be set on a copy of a slice from a DataFrame.\n",
      "Try using .loc[row_indexer,col_indexer] = value instead\n",
      "\n",
      "See the caveats in the documentation: https://pandas.pydata.org/pandas-docs/stable/user_guide/indexing.html#returning-a-view-versus-a-copy\n",
      "  self._obj['fragile_linear_neuron_IDX'] = included_cell_INDEXES.copy()\n",
      "/home/halechr/repos/NeuroPy/neuropy/core/flattened_spiketrains.py:245: SettingWithCopyWarning: \n",
      "A value is trying to be set on a copy of a slice from a DataFrame.\n",
      "Try using .loc[row_indexer,col_indexer] = value instead\n",
      "\n",
      "See the caveats in the documentation: https://pandas.pydata.org/pandas-docs/stable/user_guide/indexing.html#returning-a-view-versus-a-copy\n",
      "  self._obj['neuron_IDX'] = self._obj['fragile_linear_neuron_IDX'].copy()\n",
      "/home/halechr/repos/NeuroPy/neuropy/utils/mixins/time_slicing.py:155: SettingWithCopyWarning: \n",
      "A value is trying to be set on a copy of a slice from a DataFrame.\n",
      "Try using .loc[row_indexer,col_indexer] = value instead\n",
      "\n",
      "See the caveats in the documentation: https://pandas.pydata.org/pandas-docs/stable/user_guide/indexing.html#returning-a-view-versus-a-copy\n",
      "  spk_df[epoch_id_key_name] = spike_epoch_identity_arr\n"
     ]
    },
    {
     "name": "stdout",
     "output_type": "stream",
     "text": [
      "merged_kwargs: {'name': 'spikeRasterOverviewWindowScatterPlotItem', 'pxMode': True, 'symbol': <PyQt5.QtGui.QPainterPath object at 0x14e585ffdf20>, 'size': 6, 'pen': {'color': 'white', 'width': 1}, 'hoverable': True}\n"
     ]
    },
    {
     "ename": "AttributeError",
     "evalue": "'NoneType' object has no attribute 'determinant'",
     "output_type": "error",
     "traceback": [
      "\u001b[0;31m---------------------------------------------------------------------------\u001b[0m",
      "\u001b[0;31mAttributeError\u001b[0m                            Traceback (most recent call last)",
      "File \u001b[0;32m~/repos/pyPhoPlaceCellAnalysis/src/pyphoplacecellanalysis/External/pyqtgraph/graphicsItems/GridItem.py:99\u001b[0m, in \u001b[0;36mGridItem.paint\u001b[0;34m(self, p, opt, widget)\u001b[0m\n\u001b[1;32m     92\u001b[0m \u001b[39mdef\u001b[39;00m \u001b[39mpaint\u001b[39m(\u001b[39mself\u001b[39m, p, opt, widget):\n\u001b[1;32m     93\u001b[0m     \u001b[39m#p.setPen(QtGui.QPen(QtGui.QColor(100, 100, 100)))\u001b[39;00m\n\u001b[1;32m     94\u001b[0m     \u001b[39m#p.drawRect(self.boundingRect())\u001b[39;00m\n\u001b[1;32m     95\u001b[0m     \u001b[39m#UIGraphicsItem.paint(self, p, opt, widget)\u001b[39;00m\n\u001b[1;32m     96\u001b[0m     \u001b[39m### draw picture\u001b[39;00m\n\u001b[1;32m     97\u001b[0m     \u001b[39mif\u001b[39;00m \u001b[39mself\u001b[39m\u001b[39m.\u001b[39mpicture \u001b[39mis\u001b[39;00m \u001b[39mNone\u001b[39;00m:\n\u001b[1;32m     98\u001b[0m         \u001b[39m#print \"no pic, draw..\"\u001b[39;00m\n\u001b[0;32m---> 99\u001b[0m         \u001b[39mself\u001b[39;49m\u001b[39m.\u001b[39;49mgeneratePicture()\n\u001b[1;32m    100\u001b[0m     p\u001b[39m.\u001b[39mdrawPicture(QtCore\u001b[39m.\u001b[39mQPointF(\u001b[39m0\u001b[39m, \u001b[39m0\u001b[39m), \u001b[39mself\u001b[39m\u001b[39m.\u001b[39mpicture)\n",
      "File \u001b[0;32m~/repos/pyPhoPlaceCellAnalysis/src/pyphoplacecellanalysis/External/pyqtgraph/graphicsItems/GridItem.py:191\u001b[0m, in \u001b[0;36mGridItem.generatePicture\u001b[0;34m(self)\u001b[0m\n\u001b[1;32m    189\u001b[0m                 texts\u001b[39m.\u001b[39mappend((QtCore\u001b[39m.\u001b[39mQPointF(x, y), \u001b[39m\"\u001b[39m\u001b[39m%g\u001b[39;00m\u001b[39m\"\u001b[39m\u001b[39m%\u001b[39mp1[ax]))\n\u001b[1;32m    190\u001b[0m tr \u001b[39m=\u001b[39m \u001b[39mself\u001b[39m\u001b[39m.\u001b[39mdeviceTransform()\n\u001b[0;32m--> 191\u001b[0m p\u001b[39m.\u001b[39msetWorldTransform(fn\u001b[39m.\u001b[39;49minvertQTransform(tr))\n\u001b[1;32m    193\u001b[0m \u001b[39mif\u001b[39;00m textPen \u001b[39mis\u001b[39;00m \u001b[39mnot\u001b[39;00m \u001b[39mNone\u001b[39;00m \u001b[39mand\u001b[39;00m \u001b[39mlen\u001b[39m(texts) \u001b[39m>\u001b[39m \u001b[39m0\u001b[39m:\n\u001b[1;32m    194\u001b[0m     \u001b[39m# if there is at least one text, then c is set\u001b[39;00m\n\u001b[1;32m    195\u001b[0m     textColor\u001b[39m.\u001b[39msetAlpha(c \u001b[39m*\u001b[39m \u001b[39m2\u001b[39m)\n",
      "File \u001b[0;32m~/repos/pyPhoPlaceCellAnalysis/src/pyphoplacecellanalysis/External/pyqtgraph/functions.py:3027\u001b[0m, in \u001b[0;36minvertQTransform\u001b[0;34m(tr)\u001b[0m\n\u001b[1;32m   3019\u001b[0m \u001b[39m\u001b[39m\u001b[39m\"\"\"Return a QTransform that is the inverse of *tr*.\u001b[39;00m\n\u001b[1;32m   3020\u001b[0m \u001b[39mA pseudo-inverse is returned if tr is not invertible.\u001b[39;00m\n\u001b[1;32m   3021\u001b[0m \u001b[39m\u001b[39;00m\n\u001b[0;32m   (...)\u001b[0m\n\u001b[1;32m   3024\u001b[0m \u001b[39mwhen determining whether a matrix is invertible)\u001b[39;00m\n\u001b[1;32m   3025\u001b[0m \u001b[39m\"\"\"\u001b[39;00m\n\u001b[1;32m   3026\u001b[0m \u001b[39mtry\u001b[39;00m:\n\u001b[0;32m-> 3027\u001b[0m     det \u001b[39m=\u001b[39m tr\u001b[39m.\u001b[39;49mdeterminant()\n\u001b[1;32m   3028\u001b[0m     detr \u001b[39m=\u001b[39m \u001b[39m1.0\u001b[39m \u001b[39m/\u001b[39m det    \u001b[39m# let singular matrices raise ZeroDivisionError\u001b[39;00m\n\u001b[1;32m   3029\u001b[0m     inv \u001b[39m=\u001b[39m tr\u001b[39m.\u001b[39madjoint()\n",
      "\u001b[0;31mAttributeError\u001b[0m: 'NoneType' object has no attribute 'determinant'"
     ]
    },
    {
     "ename": "AttributeError",
     "evalue": "'NoneType' object has no attribute 'determinant'",
     "output_type": "error",
     "traceback": [
      "\u001b[0;31m---------------------------------------------------------------------------\u001b[0m",
      "\u001b[0;31mAttributeError\u001b[0m                            Traceback (most recent call last)",
      "File \u001b[0;32m~/repos/pyPhoPlaceCellAnalysis/src/pyphoplacecellanalysis/External/pyqtgraph/graphicsItems/GridItem.py:99\u001b[0m, in \u001b[0;36mGridItem.paint\u001b[0;34m(self, p, opt, widget)\u001b[0m\n\u001b[1;32m     92\u001b[0m \u001b[39mdef\u001b[39;00m \u001b[39mpaint\u001b[39m(\u001b[39mself\u001b[39m, p, opt, widget):\n\u001b[1;32m     93\u001b[0m     \u001b[39m#p.setPen(QtGui.QPen(QtGui.QColor(100, 100, 100)))\u001b[39;00m\n\u001b[1;32m     94\u001b[0m     \u001b[39m#p.drawRect(self.boundingRect())\u001b[39;00m\n\u001b[1;32m     95\u001b[0m     \u001b[39m#UIGraphicsItem.paint(self, p, opt, widget)\u001b[39;00m\n\u001b[1;32m     96\u001b[0m     \u001b[39m### draw picture\u001b[39;00m\n\u001b[1;32m     97\u001b[0m     \u001b[39mif\u001b[39;00m \u001b[39mself\u001b[39m\u001b[39m.\u001b[39mpicture \u001b[39mis\u001b[39;00m \u001b[39mNone\u001b[39;00m:\n\u001b[1;32m     98\u001b[0m         \u001b[39m#print \"no pic, draw..\"\u001b[39;00m\n\u001b[0;32m---> 99\u001b[0m         \u001b[39mself\u001b[39;49m\u001b[39m.\u001b[39;49mgeneratePicture()\n\u001b[1;32m    100\u001b[0m     p\u001b[39m.\u001b[39mdrawPicture(QtCore\u001b[39m.\u001b[39mQPointF(\u001b[39m0\u001b[39m, \u001b[39m0\u001b[39m), \u001b[39mself\u001b[39m\u001b[39m.\u001b[39mpicture)\n",
      "File \u001b[0;32m~/repos/pyPhoPlaceCellAnalysis/src/pyphoplacecellanalysis/External/pyqtgraph/graphicsItems/GridItem.py:191\u001b[0m, in \u001b[0;36mGridItem.generatePicture\u001b[0;34m(self)\u001b[0m\n\u001b[1;32m    189\u001b[0m                 texts\u001b[39m.\u001b[39mappend((QtCore\u001b[39m.\u001b[39mQPointF(x, y), \u001b[39m\"\u001b[39m\u001b[39m%g\u001b[39;00m\u001b[39m\"\u001b[39m\u001b[39m%\u001b[39mp1[ax]))\n\u001b[1;32m    190\u001b[0m tr \u001b[39m=\u001b[39m \u001b[39mself\u001b[39m\u001b[39m.\u001b[39mdeviceTransform()\n\u001b[0;32m--> 191\u001b[0m p\u001b[39m.\u001b[39msetWorldTransform(fn\u001b[39m.\u001b[39;49minvertQTransform(tr))\n\u001b[1;32m    193\u001b[0m \u001b[39mif\u001b[39;00m textPen \u001b[39mis\u001b[39;00m \u001b[39mnot\u001b[39;00m \u001b[39mNone\u001b[39;00m \u001b[39mand\u001b[39;00m \u001b[39mlen\u001b[39m(texts) \u001b[39m>\u001b[39m \u001b[39m0\u001b[39m:\n\u001b[1;32m    194\u001b[0m     \u001b[39m# if there is at least one text, then c is set\u001b[39;00m\n\u001b[1;32m    195\u001b[0m     textColor\u001b[39m.\u001b[39msetAlpha(c \u001b[39m*\u001b[39m \u001b[39m2\u001b[39m)\n",
      "File \u001b[0;32m~/repos/pyPhoPlaceCellAnalysis/src/pyphoplacecellanalysis/External/pyqtgraph/functions.py:3027\u001b[0m, in \u001b[0;36minvertQTransform\u001b[0;34m(tr)\u001b[0m\n\u001b[1;32m   3019\u001b[0m \u001b[39m\u001b[39m\u001b[39m\"\"\"Return a QTransform that is the inverse of *tr*.\u001b[39;00m\n\u001b[1;32m   3020\u001b[0m \u001b[39mA pseudo-inverse is returned if tr is not invertible.\u001b[39;00m\n\u001b[1;32m   3021\u001b[0m \u001b[39m\u001b[39;00m\n\u001b[0;32m   (...)\u001b[0m\n\u001b[1;32m   3024\u001b[0m \u001b[39mwhen determining whether a matrix is invertible)\u001b[39;00m\n\u001b[1;32m   3025\u001b[0m \u001b[39m\"\"\"\u001b[39;00m\n\u001b[1;32m   3026\u001b[0m \u001b[39mtry\u001b[39;00m:\n\u001b[0;32m-> 3027\u001b[0m     det \u001b[39m=\u001b[39m tr\u001b[39m.\u001b[39;49mdeterminant()\n\u001b[1;32m   3028\u001b[0m     detr \u001b[39m=\u001b[39m \u001b[39m1.0\u001b[39m \u001b[39m/\u001b[39m det    \u001b[39m# let singular matrices raise ZeroDivisionError\u001b[39;00m\n\u001b[1;32m   3029\u001b[0m     inv \u001b[39m=\u001b[39m tr\u001b[39m.\u001b[39madjoint()\n",
      "\u001b[0;31mAttributeError\u001b[0m: 'NoneType' object has no attribute 'determinant'"
     ]
    },
    {
     "ename": "AttributeError",
     "evalue": "'NoneType' object has no attribute 'determinant'",
     "output_type": "error",
     "traceback": [
      "\u001b[0;31m---------------------------------------------------------------------------\u001b[0m",
      "\u001b[0;31mAttributeError\u001b[0m                            Traceback (most recent call last)",
      "File \u001b[0;32m~/repos/pyPhoPlaceCellAnalysis/src/pyphoplacecellanalysis/External/pyqtgraph/graphicsItems/GridItem.py:99\u001b[0m, in \u001b[0;36mGridItem.paint\u001b[0;34m(self, p, opt, widget)\u001b[0m\n\u001b[1;32m     92\u001b[0m \u001b[39mdef\u001b[39;00m \u001b[39mpaint\u001b[39m(\u001b[39mself\u001b[39m, p, opt, widget):\n\u001b[1;32m     93\u001b[0m     \u001b[39m#p.setPen(QtGui.QPen(QtGui.QColor(100, 100, 100)))\u001b[39;00m\n\u001b[1;32m     94\u001b[0m     \u001b[39m#p.drawRect(self.boundingRect())\u001b[39;00m\n\u001b[1;32m     95\u001b[0m     \u001b[39m#UIGraphicsItem.paint(self, p, opt, widget)\u001b[39;00m\n\u001b[1;32m     96\u001b[0m     \u001b[39m### draw picture\u001b[39;00m\n\u001b[1;32m     97\u001b[0m     \u001b[39mif\u001b[39;00m \u001b[39mself\u001b[39m\u001b[39m.\u001b[39mpicture \u001b[39mis\u001b[39;00m \u001b[39mNone\u001b[39;00m:\n\u001b[1;32m     98\u001b[0m         \u001b[39m#print \"no pic, draw..\"\u001b[39;00m\n\u001b[0;32m---> 99\u001b[0m         \u001b[39mself\u001b[39;49m\u001b[39m.\u001b[39;49mgeneratePicture()\n\u001b[1;32m    100\u001b[0m     p\u001b[39m.\u001b[39mdrawPicture(QtCore\u001b[39m.\u001b[39mQPointF(\u001b[39m0\u001b[39m, \u001b[39m0\u001b[39m), \u001b[39mself\u001b[39m\u001b[39m.\u001b[39mpicture)\n",
      "File \u001b[0;32m~/repos/pyPhoPlaceCellAnalysis/src/pyphoplacecellanalysis/External/pyqtgraph/graphicsItems/GridItem.py:191\u001b[0m, in \u001b[0;36mGridItem.generatePicture\u001b[0;34m(self)\u001b[0m\n\u001b[1;32m    189\u001b[0m                 texts\u001b[39m.\u001b[39mappend((QtCore\u001b[39m.\u001b[39mQPointF(x, y), \u001b[39m\"\u001b[39m\u001b[39m%g\u001b[39;00m\u001b[39m\"\u001b[39m\u001b[39m%\u001b[39mp1[ax]))\n\u001b[1;32m    190\u001b[0m tr \u001b[39m=\u001b[39m \u001b[39mself\u001b[39m\u001b[39m.\u001b[39mdeviceTransform()\n\u001b[0;32m--> 191\u001b[0m p\u001b[39m.\u001b[39msetWorldTransform(fn\u001b[39m.\u001b[39;49minvertQTransform(tr))\n\u001b[1;32m    193\u001b[0m \u001b[39mif\u001b[39;00m textPen \u001b[39mis\u001b[39;00m \u001b[39mnot\u001b[39;00m \u001b[39mNone\u001b[39;00m \u001b[39mand\u001b[39;00m \u001b[39mlen\u001b[39m(texts) \u001b[39m>\u001b[39m \u001b[39m0\u001b[39m:\n\u001b[1;32m    194\u001b[0m     \u001b[39m# if there is at least one text, then c is set\u001b[39;00m\n\u001b[1;32m    195\u001b[0m     textColor\u001b[39m.\u001b[39msetAlpha(c \u001b[39m*\u001b[39m \u001b[39m2\u001b[39m)\n",
      "File \u001b[0;32m~/repos/pyPhoPlaceCellAnalysis/src/pyphoplacecellanalysis/External/pyqtgraph/functions.py:3027\u001b[0m, in \u001b[0;36minvertQTransform\u001b[0;34m(tr)\u001b[0m\n\u001b[1;32m   3019\u001b[0m \u001b[39m\u001b[39m\u001b[39m\"\"\"Return a QTransform that is the inverse of *tr*.\u001b[39;00m\n\u001b[1;32m   3020\u001b[0m \u001b[39mA pseudo-inverse is returned if tr is not invertible.\u001b[39;00m\n\u001b[1;32m   3021\u001b[0m \u001b[39m\u001b[39;00m\n\u001b[0;32m   (...)\u001b[0m\n\u001b[1;32m   3024\u001b[0m \u001b[39mwhen determining whether a matrix is invertible)\u001b[39;00m\n\u001b[1;32m   3025\u001b[0m \u001b[39m\"\"\"\u001b[39;00m\n\u001b[1;32m   3026\u001b[0m \u001b[39mtry\u001b[39;00m:\n\u001b[0;32m-> 3027\u001b[0m     det \u001b[39m=\u001b[39m tr\u001b[39m.\u001b[39;49mdeterminant()\n\u001b[1;32m   3028\u001b[0m     detr \u001b[39m=\u001b[39m \u001b[39m1.0\u001b[39m \u001b[39m/\u001b[39m det    \u001b[39m# let singular matrices raise ZeroDivisionError\u001b[39;00m\n\u001b[1;32m   3029\u001b[0m     inv \u001b[39m=\u001b[39m tr\u001b[39m.\u001b[39madjoint()\n",
      "\u001b[0;31mAttributeError\u001b[0m: 'NoneType' object has no attribute 'determinant'"
     ]
    },
    {
     "ename": "AttributeError",
     "evalue": "'NoneType' object has no attribute 'determinant'",
     "output_type": "error",
     "traceback": [
      "\u001b[0;31m---------------------------------------------------------------------------\u001b[0m",
      "\u001b[0;31mAttributeError\u001b[0m                            Traceback (most recent call last)",
      "File \u001b[0;32m~/repos/pyPhoPlaceCellAnalysis/src/pyphoplacecellanalysis/External/pyqtgraph/graphicsItems/GridItem.py:99\u001b[0m, in \u001b[0;36mGridItem.paint\u001b[0;34m(self, p, opt, widget)\u001b[0m\n\u001b[1;32m     92\u001b[0m \u001b[39mdef\u001b[39;00m \u001b[39mpaint\u001b[39m(\u001b[39mself\u001b[39m, p, opt, widget):\n\u001b[1;32m     93\u001b[0m     \u001b[39m#p.setPen(QtGui.QPen(QtGui.QColor(100, 100, 100)))\u001b[39;00m\n\u001b[1;32m     94\u001b[0m     \u001b[39m#p.drawRect(self.boundingRect())\u001b[39;00m\n\u001b[1;32m     95\u001b[0m     \u001b[39m#UIGraphicsItem.paint(self, p, opt, widget)\u001b[39;00m\n\u001b[1;32m     96\u001b[0m     \u001b[39m### draw picture\u001b[39;00m\n\u001b[1;32m     97\u001b[0m     \u001b[39mif\u001b[39;00m \u001b[39mself\u001b[39m\u001b[39m.\u001b[39mpicture \u001b[39mis\u001b[39;00m \u001b[39mNone\u001b[39;00m:\n\u001b[1;32m     98\u001b[0m         \u001b[39m#print \"no pic, draw..\"\u001b[39;00m\n\u001b[0;32m---> 99\u001b[0m         \u001b[39mself\u001b[39;49m\u001b[39m.\u001b[39;49mgeneratePicture()\n\u001b[1;32m    100\u001b[0m     p\u001b[39m.\u001b[39mdrawPicture(QtCore\u001b[39m.\u001b[39mQPointF(\u001b[39m0\u001b[39m, \u001b[39m0\u001b[39m), \u001b[39mself\u001b[39m\u001b[39m.\u001b[39mpicture)\n",
      "File \u001b[0;32m~/repos/pyPhoPlaceCellAnalysis/src/pyphoplacecellanalysis/External/pyqtgraph/graphicsItems/GridItem.py:191\u001b[0m, in \u001b[0;36mGridItem.generatePicture\u001b[0;34m(self)\u001b[0m\n\u001b[1;32m    189\u001b[0m                 texts\u001b[39m.\u001b[39mappend((QtCore\u001b[39m.\u001b[39mQPointF(x, y), \u001b[39m\"\u001b[39m\u001b[39m%g\u001b[39;00m\u001b[39m\"\u001b[39m\u001b[39m%\u001b[39mp1[ax]))\n\u001b[1;32m    190\u001b[0m tr \u001b[39m=\u001b[39m \u001b[39mself\u001b[39m\u001b[39m.\u001b[39mdeviceTransform()\n\u001b[0;32m--> 191\u001b[0m p\u001b[39m.\u001b[39msetWorldTransform(fn\u001b[39m.\u001b[39;49minvertQTransform(tr))\n\u001b[1;32m    193\u001b[0m \u001b[39mif\u001b[39;00m textPen \u001b[39mis\u001b[39;00m \u001b[39mnot\u001b[39;00m \u001b[39mNone\u001b[39;00m \u001b[39mand\u001b[39;00m \u001b[39mlen\u001b[39m(texts) \u001b[39m>\u001b[39m \u001b[39m0\u001b[39m:\n\u001b[1;32m    194\u001b[0m     \u001b[39m# if there is at least one text, then c is set\u001b[39;00m\n\u001b[1;32m    195\u001b[0m     textColor\u001b[39m.\u001b[39msetAlpha(c \u001b[39m*\u001b[39m \u001b[39m2\u001b[39m)\n",
      "File \u001b[0;32m~/repos/pyPhoPlaceCellAnalysis/src/pyphoplacecellanalysis/External/pyqtgraph/functions.py:3027\u001b[0m, in \u001b[0;36minvertQTransform\u001b[0;34m(tr)\u001b[0m\n\u001b[1;32m   3019\u001b[0m \u001b[39m\u001b[39m\u001b[39m\"\"\"Return a QTransform that is the inverse of *tr*.\u001b[39;00m\n\u001b[1;32m   3020\u001b[0m \u001b[39mA pseudo-inverse is returned if tr is not invertible.\u001b[39;00m\n\u001b[1;32m   3021\u001b[0m \u001b[39m\u001b[39;00m\n\u001b[0;32m   (...)\u001b[0m\n\u001b[1;32m   3024\u001b[0m \u001b[39mwhen determining whether a matrix is invertible)\u001b[39;00m\n\u001b[1;32m   3025\u001b[0m \u001b[39m\"\"\"\u001b[39;00m\n\u001b[1;32m   3026\u001b[0m \u001b[39mtry\u001b[39;00m:\n\u001b[0;32m-> 3027\u001b[0m     det \u001b[39m=\u001b[39m tr\u001b[39m.\u001b[39;49mdeterminant()\n\u001b[1;32m   3028\u001b[0m     detr \u001b[39m=\u001b[39m \u001b[39m1.0\u001b[39m \u001b[39m/\u001b[39m det    \u001b[39m# let singular matrices raise ZeroDivisionError\u001b[39;00m\n\u001b[1;32m   3029\u001b[0m     inv \u001b[39m=\u001b[39m tr\u001b[39m.\u001b[39madjoint()\n",
      "\u001b[0;31mAttributeError\u001b[0m: 'NoneType' object has no attribute 'determinant'"
     ]
    },
    {
     "ename": "AttributeError",
     "evalue": "'NoneType' object has no attribute 'determinant'",
     "output_type": "error",
     "traceback": [
      "\u001b[0;31m---------------------------------------------------------------------------\u001b[0m",
      "\u001b[0;31mAttributeError\u001b[0m                            Traceback (most recent call last)",
      "File \u001b[0;32m~/repos/pyPhoPlaceCellAnalysis/src/pyphoplacecellanalysis/External/pyqtgraph/graphicsItems/GridItem.py:99\u001b[0m, in \u001b[0;36mGridItem.paint\u001b[0;34m(self, p, opt, widget)\u001b[0m\n\u001b[1;32m     92\u001b[0m \u001b[39mdef\u001b[39;00m \u001b[39mpaint\u001b[39m(\u001b[39mself\u001b[39m, p, opt, widget):\n\u001b[1;32m     93\u001b[0m     \u001b[39m#p.setPen(QtGui.QPen(QtGui.QColor(100, 100, 100)))\u001b[39;00m\n\u001b[1;32m     94\u001b[0m     \u001b[39m#p.drawRect(self.boundingRect())\u001b[39;00m\n\u001b[1;32m     95\u001b[0m     \u001b[39m#UIGraphicsItem.paint(self, p, opt, widget)\u001b[39;00m\n\u001b[1;32m     96\u001b[0m     \u001b[39m### draw picture\u001b[39;00m\n\u001b[1;32m     97\u001b[0m     \u001b[39mif\u001b[39;00m \u001b[39mself\u001b[39m\u001b[39m.\u001b[39mpicture \u001b[39mis\u001b[39;00m \u001b[39mNone\u001b[39;00m:\n\u001b[1;32m     98\u001b[0m         \u001b[39m#print \"no pic, draw..\"\u001b[39;00m\n\u001b[0;32m---> 99\u001b[0m         \u001b[39mself\u001b[39;49m\u001b[39m.\u001b[39;49mgeneratePicture()\n\u001b[1;32m    100\u001b[0m     p\u001b[39m.\u001b[39mdrawPicture(QtCore\u001b[39m.\u001b[39mQPointF(\u001b[39m0\u001b[39m, \u001b[39m0\u001b[39m), \u001b[39mself\u001b[39m\u001b[39m.\u001b[39mpicture)\n",
      "File \u001b[0;32m~/repos/pyPhoPlaceCellAnalysis/src/pyphoplacecellanalysis/External/pyqtgraph/graphicsItems/GridItem.py:191\u001b[0m, in \u001b[0;36mGridItem.generatePicture\u001b[0;34m(self)\u001b[0m\n\u001b[1;32m    189\u001b[0m                 texts\u001b[39m.\u001b[39mappend((QtCore\u001b[39m.\u001b[39mQPointF(x, y), \u001b[39m\"\u001b[39m\u001b[39m%g\u001b[39;00m\u001b[39m\"\u001b[39m\u001b[39m%\u001b[39mp1[ax]))\n\u001b[1;32m    190\u001b[0m tr \u001b[39m=\u001b[39m \u001b[39mself\u001b[39m\u001b[39m.\u001b[39mdeviceTransform()\n\u001b[0;32m--> 191\u001b[0m p\u001b[39m.\u001b[39msetWorldTransform(fn\u001b[39m.\u001b[39;49minvertQTransform(tr))\n\u001b[1;32m    193\u001b[0m \u001b[39mif\u001b[39;00m textPen \u001b[39mis\u001b[39;00m \u001b[39mnot\u001b[39;00m \u001b[39mNone\u001b[39;00m \u001b[39mand\u001b[39;00m \u001b[39mlen\u001b[39m(texts) \u001b[39m>\u001b[39m \u001b[39m0\u001b[39m:\n\u001b[1;32m    194\u001b[0m     \u001b[39m# if there is at least one text, then c is set\u001b[39;00m\n\u001b[1;32m    195\u001b[0m     textColor\u001b[39m.\u001b[39msetAlpha(c \u001b[39m*\u001b[39m \u001b[39m2\u001b[39m)\n",
      "File \u001b[0;32m~/repos/pyPhoPlaceCellAnalysis/src/pyphoplacecellanalysis/External/pyqtgraph/functions.py:3027\u001b[0m, in \u001b[0;36minvertQTransform\u001b[0;34m(tr)\u001b[0m\n\u001b[1;32m   3019\u001b[0m \u001b[39m\u001b[39m\u001b[39m\"\"\"Return a QTransform that is the inverse of *tr*.\u001b[39;00m\n\u001b[1;32m   3020\u001b[0m \u001b[39mA pseudo-inverse is returned if tr is not invertible.\u001b[39;00m\n\u001b[1;32m   3021\u001b[0m \u001b[39m\u001b[39;00m\n\u001b[0;32m   (...)\u001b[0m\n\u001b[1;32m   3024\u001b[0m \u001b[39mwhen determining whether a matrix is invertible)\u001b[39;00m\n\u001b[1;32m   3025\u001b[0m \u001b[39m\"\"\"\u001b[39;00m\n\u001b[1;32m   3026\u001b[0m \u001b[39mtry\u001b[39;00m:\n\u001b[0;32m-> 3027\u001b[0m     det \u001b[39m=\u001b[39m tr\u001b[39m.\u001b[39;49mdeterminant()\n\u001b[1;32m   3028\u001b[0m     detr \u001b[39m=\u001b[39m \u001b[39m1.0\u001b[39m \u001b[39m/\u001b[39m det    \u001b[39m# let singular matrices raise ZeroDivisionError\u001b[39;00m\n\u001b[1;32m   3029\u001b[0m     inv \u001b[39m=\u001b[39m tr\u001b[39m.\u001b[39madjoint()\n",
      "\u001b[0;31mAttributeError\u001b[0m: 'NoneType' object has no attribute 'determinant'"
     ]
    },
    {
     "ename": "AttributeError",
     "evalue": "'NoneType' object has no attribute 'determinant'",
     "output_type": "error",
     "traceback": [
      "\u001b[0;31m---------------------------------------------------------------------------\u001b[0m",
      "\u001b[0;31mAttributeError\u001b[0m                            Traceback (most recent call last)",
      "File \u001b[0;32m~/repos/pyPhoPlaceCellAnalysis/src/pyphoplacecellanalysis/External/pyqtgraph/graphicsItems/GridItem.py:99\u001b[0m, in \u001b[0;36mGridItem.paint\u001b[0;34m(self, p, opt, widget)\u001b[0m\n\u001b[1;32m     92\u001b[0m \u001b[39mdef\u001b[39;00m \u001b[39mpaint\u001b[39m(\u001b[39mself\u001b[39m, p, opt, widget):\n\u001b[1;32m     93\u001b[0m     \u001b[39m#p.setPen(QtGui.QPen(QtGui.QColor(100, 100, 100)))\u001b[39;00m\n\u001b[1;32m     94\u001b[0m     \u001b[39m#p.drawRect(self.boundingRect())\u001b[39;00m\n\u001b[1;32m     95\u001b[0m     \u001b[39m#UIGraphicsItem.paint(self, p, opt, widget)\u001b[39;00m\n\u001b[1;32m     96\u001b[0m     \u001b[39m### draw picture\u001b[39;00m\n\u001b[1;32m     97\u001b[0m     \u001b[39mif\u001b[39;00m \u001b[39mself\u001b[39m\u001b[39m.\u001b[39mpicture \u001b[39mis\u001b[39;00m \u001b[39mNone\u001b[39;00m:\n\u001b[1;32m     98\u001b[0m         \u001b[39m#print \"no pic, draw..\"\u001b[39;00m\n\u001b[0;32m---> 99\u001b[0m         \u001b[39mself\u001b[39;49m\u001b[39m.\u001b[39;49mgeneratePicture()\n\u001b[1;32m    100\u001b[0m     p\u001b[39m.\u001b[39mdrawPicture(QtCore\u001b[39m.\u001b[39mQPointF(\u001b[39m0\u001b[39m, \u001b[39m0\u001b[39m), \u001b[39mself\u001b[39m\u001b[39m.\u001b[39mpicture)\n",
      "File \u001b[0;32m~/repos/pyPhoPlaceCellAnalysis/src/pyphoplacecellanalysis/External/pyqtgraph/graphicsItems/GridItem.py:191\u001b[0m, in \u001b[0;36mGridItem.generatePicture\u001b[0;34m(self)\u001b[0m\n\u001b[1;32m    189\u001b[0m                 texts\u001b[39m.\u001b[39mappend((QtCore\u001b[39m.\u001b[39mQPointF(x, y), \u001b[39m\"\u001b[39m\u001b[39m%g\u001b[39;00m\u001b[39m\"\u001b[39m\u001b[39m%\u001b[39mp1[ax]))\n\u001b[1;32m    190\u001b[0m tr \u001b[39m=\u001b[39m \u001b[39mself\u001b[39m\u001b[39m.\u001b[39mdeviceTransform()\n\u001b[0;32m--> 191\u001b[0m p\u001b[39m.\u001b[39msetWorldTransform(fn\u001b[39m.\u001b[39;49minvertQTransform(tr))\n\u001b[1;32m    193\u001b[0m \u001b[39mif\u001b[39;00m textPen \u001b[39mis\u001b[39;00m \u001b[39mnot\u001b[39;00m \u001b[39mNone\u001b[39;00m \u001b[39mand\u001b[39;00m \u001b[39mlen\u001b[39m(texts) \u001b[39m>\u001b[39m \u001b[39m0\u001b[39m:\n\u001b[1;32m    194\u001b[0m     \u001b[39m# if there is at least one text, then c is set\u001b[39;00m\n\u001b[1;32m    195\u001b[0m     textColor\u001b[39m.\u001b[39msetAlpha(c \u001b[39m*\u001b[39m \u001b[39m2\u001b[39m)\n",
      "File \u001b[0;32m~/repos/pyPhoPlaceCellAnalysis/src/pyphoplacecellanalysis/External/pyqtgraph/functions.py:3027\u001b[0m, in \u001b[0;36minvertQTransform\u001b[0;34m(tr)\u001b[0m\n\u001b[1;32m   3019\u001b[0m \u001b[39m\u001b[39m\u001b[39m\"\"\"Return a QTransform that is the inverse of *tr*.\u001b[39;00m\n\u001b[1;32m   3020\u001b[0m \u001b[39mA pseudo-inverse is returned if tr is not invertible.\u001b[39;00m\n\u001b[1;32m   3021\u001b[0m \u001b[39m\u001b[39;00m\n\u001b[0;32m   (...)\u001b[0m\n\u001b[1;32m   3024\u001b[0m \u001b[39mwhen determining whether a matrix is invertible)\u001b[39;00m\n\u001b[1;32m   3025\u001b[0m \u001b[39m\"\"\"\u001b[39;00m\n\u001b[1;32m   3026\u001b[0m \u001b[39mtry\u001b[39;00m:\n\u001b[0;32m-> 3027\u001b[0m     det \u001b[39m=\u001b[39m tr\u001b[39m.\u001b[39;49mdeterminant()\n\u001b[1;32m   3028\u001b[0m     detr \u001b[39m=\u001b[39m \u001b[39m1.0\u001b[39m \u001b[39m/\u001b[39m det    \u001b[39m# let singular matrices raise ZeroDivisionError\u001b[39;00m\n\u001b[1;32m   3029\u001b[0m     inv \u001b[39m=\u001b[39m tr\u001b[39m.\u001b[39madjoint()\n",
      "\u001b[0;31mAttributeError\u001b[0m: 'NoneType' object has no attribute 'determinant'"
     ]
    },
    {
     "ename": "AttributeError",
     "evalue": "'NoneType' object has no attribute 'determinant'",
     "output_type": "error",
     "traceback": [
      "\u001b[0;31m---------------------------------------------------------------------------\u001b[0m",
      "\u001b[0;31mAttributeError\u001b[0m                            Traceback (most recent call last)",
      "File \u001b[0;32m~/repos/pyPhoPlaceCellAnalysis/src/pyphoplacecellanalysis/External/pyqtgraph/graphicsItems/GridItem.py:99\u001b[0m, in \u001b[0;36mGridItem.paint\u001b[0;34m(self, p, opt, widget)\u001b[0m\n\u001b[1;32m     92\u001b[0m \u001b[39mdef\u001b[39;00m \u001b[39mpaint\u001b[39m(\u001b[39mself\u001b[39m, p, opt, widget):\n\u001b[1;32m     93\u001b[0m     \u001b[39m#p.setPen(QtGui.QPen(QtGui.QColor(100, 100, 100)))\u001b[39;00m\n\u001b[1;32m     94\u001b[0m     \u001b[39m#p.drawRect(self.boundingRect())\u001b[39;00m\n\u001b[1;32m     95\u001b[0m     \u001b[39m#UIGraphicsItem.paint(self, p, opt, widget)\u001b[39;00m\n\u001b[1;32m     96\u001b[0m     \u001b[39m### draw picture\u001b[39;00m\n\u001b[1;32m     97\u001b[0m     \u001b[39mif\u001b[39;00m \u001b[39mself\u001b[39m\u001b[39m.\u001b[39mpicture \u001b[39mis\u001b[39;00m \u001b[39mNone\u001b[39;00m:\n\u001b[1;32m     98\u001b[0m         \u001b[39m#print \"no pic, draw..\"\u001b[39;00m\n\u001b[0;32m---> 99\u001b[0m         \u001b[39mself\u001b[39;49m\u001b[39m.\u001b[39;49mgeneratePicture()\n\u001b[1;32m    100\u001b[0m     p\u001b[39m.\u001b[39mdrawPicture(QtCore\u001b[39m.\u001b[39mQPointF(\u001b[39m0\u001b[39m, \u001b[39m0\u001b[39m), \u001b[39mself\u001b[39m\u001b[39m.\u001b[39mpicture)\n",
      "File \u001b[0;32m~/repos/pyPhoPlaceCellAnalysis/src/pyphoplacecellanalysis/External/pyqtgraph/graphicsItems/GridItem.py:191\u001b[0m, in \u001b[0;36mGridItem.generatePicture\u001b[0;34m(self)\u001b[0m\n\u001b[1;32m    189\u001b[0m                 texts\u001b[39m.\u001b[39mappend((QtCore\u001b[39m.\u001b[39mQPointF(x, y), \u001b[39m\"\u001b[39m\u001b[39m%g\u001b[39;00m\u001b[39m\"\u001b[39m\u001b[39m%\u001b[39mp1[ax]))\n\u001b[1;32m    190\u001b[0m tr \u001b[39m=\u001b[39m \u001b[39mself\u001b[39m\u001b[39m.\u001b[39mdeviceTransform()\n\u001b[0;32m--> 191\u001b[0m p\u001b[39m.\u001b[39msetWorldTransform(fn\u001b[39m.\u001b[39;49minvertQTransform(tr))\n\u001b[1;32m    193\u001b[0m \u001b[39mif\u001b[39;00m textPen \u001b[39mis\u001b[39;00m \u001b[39mnot\u001b[39;00m \u001b[39mNone\u001b[39;00m \u001b[39mand\u001b[39;00m \u001b[39mlen\u001b[39m(texts) \u001b[39m>\u001b[39m \u001b[39m0\u001b[39m:\n\u001b[1;32m    194\u001b[0m     \u001b[39m# if there is at least one text, then c is set\u001b[39;00m\n\u001b[1;32m    195\u001b[0m     textColor\u001b[39m.\u001b[39msetAlpha(c \u001b[39m*\u001b[39m \u001b[39m2\u001b[39m)\n",
      "File \u001b[0;32m~/repos/pyPhoPlaceCellAnalysis/src/pyphoplacecellanalysis/External/pyqtgraph/functions.py:3027\u001b[0m, in \u001b[0;36minvertQTransform\u001b[0;34m(tr)\u001b[0m\n\u001b[1;32m   3019\u001b[0m \u001b[39m\u001b[39m\u001b[39m\"\"\"Return a QTransform that is the inverse of *tr*.\u001b[39;00m\n\u001b[1;32m   3020\u001b[0m \u001b[39mA pseudo-inverse is returned if tr is not invertible.\u001b[39;00m\n\u001b[1;32m   3021\u001b[0m \u001b[39m\u001b[39;00m\n\u001b[0;32m   (...)\u001b[0m\n\u001b[1;32m   3024\u001b[0m \u001b[39mwhen determining whether a matrix is invertible)\u001b[39;00m\n\u001b[1;32m   3025\u001b[0m \u001b[39m\"\"\"\u001b[39;00m\n\u001b[1;32m   3026\u001b[0m \u001b[39mtry\u001b[39;00m:\n\u001b[0;32m-> 3027\u001b[0m     det \u001b[39m=\u001b[39m tr\u001b[39m.\u001b[39;49mdeterminant()\n\u001b[1;32m   3028\u001b[0m     detr \u001b[39m=\u001b[39m \u001b[39m1.0\u001b[39m \u001b[39m/\u001b[39m det    \u001b[39m# let singular matrices raise ZeroDivisionError\u001b[39;00m\n\u001b[1;32m   3029\u001b[0m     inv \u001b[39m=\u001b[39m tr\u001b[39m.\u001b[39madjoint()\n",
      "\u001b[0;31mAttributeError\u001b[0m: 'NoneType' object has no attribute 'determinant'"
     ]
    },
    {
     "ename": "AttributeError",
     "evalue": "'NoneType' object has no attribute 'determinant'",
     "output_type": "error",
     "traceback": [
      "\u001b[0;31m---------------------------------------------------------------------------\u001b[0m",
      "\u001b[0;31mAttributeError\u001b[0m                            Traceback (most recent call last)",
      "File \u001b[0;32m~/repos/pyPhoPlaceCellAnalysis/src/pyphoplacecellanalysis/External/pyqtgraph/graphicsItems/GridItem.py:99\u001b[0m, in \u001b[0;36mGridItem.paint\u001b[0;34m(self, p, opt, widget)\u001b[0m\n\u001b[1;32m     92\u001b[0m \u001b[39mdef\u001b[39;00m \u001b[39mpaint\u001b[39m(\u001b[39mself\u001b[39m, p, opt, widget):\n\u001b[1;32m     93\u001b[0m     \u001b[39m#p.setPen(QtGui.QPen(QtGui.QColor(100, 100, 100)))\u001b[39;00m\n\u001b[1;32m     94\u001b[0m     \u001b[39m#p.drawRect(self.boundingRect())\u001b[39;00m\n\u001b[1;32m     95\u001b[0m     \u001b[39m#UIGraphicsItem.paint(self, p, opt, widget)\u001b[39;00m\n\u001b[1;32m     96\u001b[0m     \u001b[39m### draw picture\u001b[39;00m\n\u001b[1;32m     97\u001b[0m     \u001b[39mif\u001b[39;00m \u001b[39mself\u001b[39m\u001b[39m.\u001b[39mpicture \u001b[39mis\u001b[39;00m \u001b[39mNone\u001b[39;00m:\n\u001b[1;32m     98\u001b[0m         \u001b[39m#print \"no pic, draw..\"\u001b[39;00m\n\u001b[0;32m---> 99\u001b[0m         \u001b[39mself\u001b[39;49m\u001b[39m.\u001b[39;49mgeneratePicture()\n\u001b[1;32m    100\u001b[0m     p\u001b[39m.\u001b[39mdrawPicture(QtCore\u001b[39m.\u001b[39mQPointF(\u001b[39m0\u001b[39m, \u001b[39m0\u001b[39m), \u001b[39mself\u001b[39m\u001b[39m.\u001b[39mpicture)\n",
      "File \u001b[0;32m~/repos/pyPhoPlaceCellAnalysis/src/pyphoplacecellanalysis/External/pyqtgraph/graphicsItems/GridItem.py:191\u001b[0m, in \u001b[0;36mGridItem.generatePicture\u001b[0;34m(self)\u001b[0m\n\u001b[1;32m    189\u001b[0m                 texts\u001b[39m.\u001b[39mappend((QtCore\u001b[39m.\u001b[39mQPointF(x, y), \u001b[39m\"\u001b[39m\u001b[39m%g\u001b[39;00m\u001b[39m\"\u001b[39m\u001b[39m%\u001b[39mp1[ax]))\n\u001b[1;32m    190\u001b[0m tr \u001b[39m=\u001b[39m \u001b[39mself\u001b[39m\u001b[39m.\u001b[39mdeviceTransform()\n\u001b[0;32m--> 191\u001b[0m p\u001b[39m.\u001b[39msetWorldTransform(fn\u001b[39m.\u001b[39;49minvertQTransform(tr))\n\u001b[1;32m    193\u001b[0m \u001b[39mif\u001b[39;00m textPen \u001b[39mis\u001b[39;00m \u001b[39mnot\u001b[39;00m \u001b[39mNone\u001b[39;00m \u001b[39mand\u001b[39;00m \u001b[39mlen\u001b[39m(texts) \u001b[39m>\u001b[39m \u001b[39m0\u001b[39m:\n\u001b[1;32m    194\u001b[0m     \u001b[39m# if there is at least one text, then c is set\u001b[39;00m\n\u001b[1;32m    195\u001b[0m     textColor\u001b[39m.\u001b[39msetAlpha(c \u001b[39m*\u001b[39m \u001b[39m2\u001b[39m)\n",
      "File \u001b[0;32m~/repos/pyPhoPlaceCellAnalysis/src/pyphoplacecellanalysis/External/pyqtgraph/functions.py:3027\u001b[0m, in \u001b[0;36minvertQTransform\u001b[0;34m(tr)\u001b[0m\n\u001b[1;32m   3019\u001b[0m \u001b[39m\u001b[39m\u001b[39m\"\"\"Return a QTransform that is the inverse of *tr*.\u001b[39;00m\n\u001b[1;32m   3020\u001b[0m \u001b[39mA pseudo-inverse is returned if tr is not invertible.\u001b[39;00m\n\u001b[1;32m   3021\u001b[0m \u001b[39m\u001b[39;00m\n\u001b[0;32m   (...)\u001b[0m\n\u001b[1;32m   3024\u001b[0m \u001b[39mwhen determining whether a matrix is invertible)\u001b[39;00m\n\u001b[1;32m   3025\u001b[0m \u001b[39m\"\"\"\u001b[39;00m\n\u001b[1;32m   3026\u001b[0m \u001b[39mtry\u001b[39;00m:\n\u001b[0;32m-> 3027\u001b[0m     det \u001b[39m=\u001b[39m tr\u001b[39m.\u001b[39;49mdeterminant()\n\u001b[1;32m   3028\u001b[0m     detr \u001b[39m=\u001b[39m \u001b[39m1.0\u001b[39m \u001b[39m/\u001b[39m det    \u001b[39m# let singular matrices raise ZeroDivisionError\u001b[39;00m\n\u001b[1;32m   3029\u001b[0m     inv \u001b[39m=\u001b[39m tr\u001b[39m.\u001b[39madjoint()\n",
      "\u001b[0;31mAttributeError\u001b[0m: 'NoneType' object has no attribute 'determinant'"
     ]
    },
    {
     "ename": "AttributeError",
     "evalue": "'NoneType' object has no attribute 'determinant'",
     "output_type": "error",
     "traceback": [
      "\u001b[0;31m---------------------------------------------------------------------------\u001b[0m",
      "\u001b[0;31mAttributeError\u001b[0m                            Traceback (most recent call last)",
      "File \u001b[0;32m~/repos/pyPhoPlaceCellAnalysis/src/pyphoplacecellanalysis/External/pyqtgraph/graphicsItems/GridItem.py:99\u001b[0m, in \u001b[0;36mGridItem.paint\u001b[0;34m(self, p, opt, widget)\u001b[0m\n\u001b[1;32m     92\u001b[0m \u001b[39mdef\u001b[39;00m \u001b[39mpaint\u001b[39m(\u001b[39mself\u001b[39m, p, opt, widget):\n\u001b[1;32m     93\u001b[0m     \u001b[39m#p.setPen(QtGui.QPen(QtGui.QColor(100, 100, 100)))\u001b[39;00m\n\u001b[1;32m     94\u001b[0m     \u001b[39m#p.drawRect(self.boundingRect())\u001b[39;00m\n\u001b[1;32m     95\u001b[0m     \u001b[39m#UIGraphicsItem.paint(self, p, opt, widget)\u001b[39;00m\n\u001b[1;32m     96\u001b[0m     \u001b[39m### draw picture\u001b[39;00m\n\u001b[1;32m     97\u001b[0m     \u001b[39mif\u001b[39;00m \u001b[39mself\u001b[39m\u001b[39m.\u001b[39mpicture \u001b[39mis\u001b[39;00m \u001b[39mNone\u001b[39;00m:\n\u001b[1;32m     98\u001b[0m         \u001b[39m#print \"no pic, draw..\"\u001b[39;00m\n\u001b[0;32m---> 99\u001b[0m         \u001b[39mself\u001b[39;49m\u001b[39m.\u001b[39;49mgeneratePicture()\n\u001b[1;32m    100\u001b[0m     p\u001b[39m.\u001b[39mdrawPicture(QtCore\u001b[39m.\u001b[39mQPointF(\u001b[39m0\u001b[39m, \u001b[39m0\u001b[39m), \u001b[39mself\u001b[39m\u001b[39m.\u001b[39mpicture)\n",
      "File \u001b[0;32m~/repos/pyPhoPlaceCellAnalysis/src/pyphoplacecellanalysis/External/pyqtgraph/graphicsItems/GridItem.py:191\u001b[0m, in \u001b[0;36mGridItem.generatePicture\u001b[0;34m(self)\u001b[0m\n\u001b[1;32m    189\u001b[0m                 texts\u001b[39m.\u001b[39mappend((QtCore\u001b[39m.\u001b[39mQPointF(x, y), \u001b[39m\"\u001b[39m\u001b[39m%g\u001b[39;00m\u001b[39m\"\u001b[39m\u001b[39m%\u001b[39mp1[ax]))\n\u001b[1;32m    190\u001b[0m tr \u001b[39m=\u001b[39m \u001b[39mself\u001b[39m\u001b[39m.\u001b[39mdeviceTransform()\n\u001b[0;32m--> 191\u001b[0m p\u001b[39m.\u001b[39msetWorldTransform(fn\u001b[39m.\u001b[39;49minvertQTransform(tr))\n\u001b[1;32m    193\u001b[0m \u001b[39mif\u001b[39;00m textPen \u001b[39mis\u001b[39;00m \u001b[39mnot\u001b[39;00m \u001b[39mNone\u001b[39;00m \u001b[39mand\u001b[39;00m \u001b[39mlen\u001b[39m(texts) \u001b[39m>\u001b[39m \u001b[39m0\u001b[39m:\n\u001b[1;32m    194\u001b[0m     \u001b[39m# if there is at least one text, then c is set\u001b[39;00m\n\u001b[1;32m    195\u001b[0m     textColor\u001b[39m.\u001b[39msetAlpha(c \u001b[39m*\u001b[39m \u001b[39m2\u001b[39m)\n",
      "File \u001b[0;32m~/repos/pyPhoPlaceCellAnalysis/src/pyphoplacecellanalysis/External/pyqtgraph/functions.py:3027\u001b[0m, in \u001b[0;36minvertQTransform\u001b[0;34m(tr)\u001b[0m\n\u001b[1;32m   3019\u001b[0m \u001b[39m\u001b[39m\u001b[39m\"\"\"Return a QTransform that is the inverse of *tr*.\u001b[39;00m\n\u001b[1;32m   3020\u001b[0m \u001b[39mA pseudo-inverse is returned if tr is not invertible.\u001b[39;00m\n\u001b[1;32m   3021\u001b[0m \u001b[39m\u001b[39;00m\n\u001b[0;32m   (...)\u001b[0m\n\u001b[1;32m   3024\u001b[0m \u001b[39mwhen determining whether a matrix is invertible)\u001b[39;00m\n\u001b[1;32m   3025\u001b[0m \u001b[39m\"\"\"\u001b[39;00m\n\u001b[1;32m   3026\u001b[0m \u001b[39mtry\u001b[39;00m:\n\u001b[0;32m-> 3027\u001b[0m     det \u001b[39m=\u001b[39m tr\u001b[39m.\u001b[39;49mdeterminant()\n\u001b[1;32m   3028\u001b[0m     detr \u001b[39m=\u001b[39m \u001b[39m1.0\u001b[39m \u001b[39m/\u001b[39m det    \u001b[39m# let singular matrices raise ZeroDivisionError\u001b[39;00m\n\u001b[1;32m   3029\u001b[0m     inv \u001b[39m=\u001b[39m tr\u001b[39m.\u001b[39madjoint()\n",
      "\u001b[0;31mAttributeError\u001b[0m: 'NoneType' object has no attribute 'determinant'"
     ]
    },
    {
     "ename": "AttributeError",
     "evalue": "'NoneType' object has no attribute 'determinant'",
     "output_type": "error",
     "traceback": [
      "\u001b[0;31m---------------------------------------------------------------------------\u001b[0m",
      "\u001b[0;31mAttributeError\u001b[0m                            Traceback (most recent call last)",
      "File \u001b[0;32m~/repos/pyPhoPlaceCellAnalysis/src/pyphoplacecellanalysis/External/pyqtgraph/graphicsItems/GridItem.py:99\u001b[0m, in \u001b[0;36mGridItem.paint\u001b[0;34m(self, p, opt, widget)\u001b[0m\n\u001b[1;32m     92\u001b[0m \u001b[39mdef\u001b[39;00m \u001b[39mpaint\u001b[39m(\u001b[39mself\u001b[39m, p, opt, widget):\n\u001b[1;32m     93\u001b[0m     \u001b[39m#p.setPen(QtGui.QPen(QtGui.QColor(100, 100, 100)))\u001b[39;00m\n\u001b[1;32m     94\u001b[0m     \u001b[39m#p.drawRect(self.boundingRect())\u001b[39;00m\n\u001b[1;32m     95\u001b[0m     \u001b[39m#UIGraphicsItem.paint(self, p, opt, widget)\u001b[39;00m\n\u001b[1;32m     96\u001b[0m     \u001b[39m### draw picture\u001b[39;00m\n\u001b[1;32m     97\u001b[0m     \u001b[39mif\u001b[39;00m \u001b[39mself\u001b[39m\u001b[39m.\u001b[39mpicture \u001b[39mis\u001b[39;00m \u001b[39mNone\u001b[39;00m:\n\u001b[1;32m     98\u001b[0m         \u001b[39m#print \"no pic, draw..\"\u001b[39;00m\n\u001b[0;32m---> 99\u001b[0m         \u001b[39mself\u001b[39;49m\u001b[39m.\u001b[39;49mgeneratePicture()\n\u001b[1;32m    100\u001b[0m     p\u001b[39m.\u001b[39mdrawPicture(QtCore\u001b[39m.\u001b[39mQPointF(\u001b[39m0\u001b[39m, \u001b[39m0\u001b[39m), \u001b[39mself\u001b[39m\u001b[39m.\u001b[39mpicture)\n",
      "File \u001b[0;32m~/repos/pyPhoPlaceCellAnalysis/src/pyphoplacecellanalysis/External/pyqtgraph/graphicsItems/GridItem.py:191\u001b[0m, in \u001b[0;36mGridItem.generatePicture\u001b[0;34m(self)\u001b[0m\n\u001b[1;32m    189\u001b[0m                 texts\u001b[39m.\u001b[39mappend((QtCore\u001b[39m.\u001b[39mQPointF(x, y), \u001b[39m\"\u001b[39m\u001b[39m%g\u001b[39;00m\u001b[39m\"\u001b[39m\u001b[39m%\u001b[39mp1[ax]))\n\u001b[1;32m    190\u001b[0m tr \u001b[39m=\u001b[39m \u001b[39mself\u001b[39m\u001b[39m.\u001b[39mdeviceTransform()\n\u001b[0;32m--> 191\u001b[0m p\u001b[39m.\u001b[39msetWorldTransform(fn\u001b[39m.\u001b[39;49minvertQTransform(tr))\n\u001b[1;32m    193\u001b[0m \u001b[39mif\u001b[39;00m textPen \u001b[39mis\u001b[39;00m \u001b[39mnot\u001b[39;00m \u001b[39mNone\u001b[39;00m \u001b[39mand\u001b[39;00m \u001b[39mlen\u001b[39m(texts) \u001b[39m>\u001b[39m \u001b[39m0\u001b[39m:\n\u001b[1;32m    194\u001b[0m     \u001b[39m# if there is at least one text, then c is set\u001b[39;00m\n\u001b[1;32m    195\u001b[0m     textColor\u001b[39m.\u001b[39msetAlpha(c \u001b[39m*\u001b[39m \u001b[39m2\u001b[39m)\n",
      "File \u001b[0;32m~/repos/pyPhoPlaceCellAnalysis/src/pyphoplacecellanalysis/External/pyqtgraph/functions.py:3027\u001b[0m, in \u001b[0;36minvertQTransform\u001b[0;34m(tr)\u001b[0m\n\u001b[1;32m   3019\u001b[0m \u001b[39m\u001b[39m\u001b[39m\"\"\"Return a QTransform that is the inverse of *tr*.\u001b[39;00m\n\u001b[1;32m   3020\u001b[0m \u001b[39mA pseudo-inverse is returned if tr is not invertible.\u001b[39;00m\n\u001b[1;32m   3021\u001b[0m \u001b[39m\u001b[39;00m\n\u001b[0;32m   (...)\u001b[0m\n\u001b[1;32m   3024\u001b[0m \u001b[39mwhen determining whether a matrix is invertible)\u001b[39;00m\n\u001b[1;32m   3025\u001b[0m \u001b[39m\"\"\"\u001b[39;00m\n\u001b[1;32m   3026\u001b[0m \u001b[39mtry\u001b[39;00m:\n\u001b[0;32m-> 3027\u001b[0m     det \u001b[39m=\u001b[39m tr\u001b[39m.\u001b[39;49mdeterminant()\n\u001b[1;32m   3028\u001b[0m     detr \u001b[39m=\u001b[39m \u001b[39m1.0\u001b[39m \u001b[39m/\u001b[39m det    \u001b[39m# let singular matrices raise ZeroDivisionError\u001b[39;00m\n\u001b[1;32m   3029\u001b[0m     inv \u001b[39m=\u001b[39m tr\u001b[39m.\u001b[39madjoint()\n",
      "\u001b[0;31mAttributeError\u001b[0m: 'NoneType' object has no attribute 'determinant'"
     ]
    },
    {
     "ename": "AttributeError",
     "evalue": "'NoneType' object has no attribute 'determinant'",
     "output_type": "error",
     "traceback": [
      "\u001b[0;31m---------------------------------------------------------------------------\u001b[0m",
      "\u001b[0;31mAttributeError\u001b[0m                            Traceback (most recent call last)",
      "File \u001b[0;32m~/repos/pyPhoPlaceCellAnalysis/src/pyphoplacecellanalysis/External/pyqtgraph/graphicsItems/GridItem.py:99\u001b[0m, in \u001b[0;36mGridItem.paint\u001b[0;34m(self, p, opt, widget)\u001b[0m\n\u001b[1;32m     92\u001b[0m \u001b[39mdef\u001b[39;00m \u001b[39mpaint\u001b[39m(\u001b[39mself\u001b[39m, p, opt, widget):\n\u001b[1;32m     93\u001b[0m     \u001b[39m#p.setPen(QtGui.QPen(QtGui.QColor(100, 100, 100)))\u001b[39;00m\n\u001b[1;32m     94\u001b[0m     \u001b[39m#p.drawRect(self.boundingRect())\u001b[39;00m\n\u001b[1;32m     95\u001b[0m     \u001b[39m#UIGraphicsItem.paint(self, p, opt, widget)\u001b[39;00m\n\u001b[1;32m     96\u001b[0m     \u001b[39m### draw picture\u001b[39;00m\n\u001b[1;32m     97\u001b[0m     \u001b[39mif\u001b[39;00m \u001b[39mself\u001b[39m\u001b[39m.\u001b[39mpicture \u001b[39mis\u001b[39;00m \u001b[39mNone\u001b[39;00m:\n\u001b[1;32m     98\u001b[0m         \u001b[39m#print \"no pic, draw..\"\u001b[39;00m\n\u001b[0;32m---> 99\u001b[0m         \u001b[39mself\u001b[39;49m\u001b[39m.\u001b[39;49mgeneratePicture()\n\u001b[1;32m    100\u001b[0m     p\u001b[39m.\u001b[39mdrawPicture(QtCore\u001b[39m.\u001b[39mQPointF(\u001b[39m0\u001b[39m, \u001b[39m0\u001b[39m), \u001b[39mself\u001b[39m\u001b[39m.\u001b[39mpicture)\n",
      "File \u001b[0;32m~/repos/pyPhoPlaceCellAnalysis/src/pyphoplacecellanalysis/External/pyqtgraph/graphicsItems/GridItem.py:191\u001b[0m, in \u001b[0;36mGridItem.generatePicture\u001b[0;34m(self)\u001b[0m\n\u001b[1;32m    189\u001b[0m                 texts\u001b[39m.\u001b[39mappend((QtCore\u001b[39m.\u001b[39mQPointF(x, y), \u001b[39m\"\u001b[39m\u001b[39m%g\u001b[39;00m\u001b[39m\"\u001b[39m\u001b[39m%\u001b[39mp1[ax]))\n\u001b[1;32m    190\u001b[0m tr \u001b[39m=\u001b[39m \u001b[39mself\u001b[39m\u001b[39m.\u001b[39mdeviceTransform()\n\u001b[0;32m--> 191\u001b[0m p\u001b[39m.\u001b[39msetWorldTransform(fn\u001b[39m.\u001b[39;49minvertQTransform(tr))\n\u001b[1;32m    193\u001b[0m \u001b[39mif\u001b[39;00m textPen \u001b[39mis\u001b[39;00m \u001b[39mnot\u001b[39;00m \u001b[39mNone\u001b[39;00m \u001b[39mand\u001b[39;00m \u001b[39mlen\u001b[39m(texts) \u001b[39m>\u001b[39m \u001b[39m0\u001b[39m:\n\u001b[1;32m    194\u001b[0m     \u001b[39m# if there is at least one text, then c is set\u001b[39;00m\n\u001b[1;32m    195\u001b[0m     textColor\u001b[39m.\u001b[39msetAlpha(c \u001b[39m*\u001b[39m \u001b[39m2\u001b[39m)\n",
      "File \u001b[0;32m~/repos/pyPhoPlaceCellAnalysis/src/pyphoplacecellanalysis/External/pyqtgraph/functions.py:3027\u001b[0m, in \u001b[0;36minvertQTransform\u001b[0;34m(tr)\u001b[0m\n\u001b[1;32m   3019\u001b[0m \u001b[39m\u001b[39m\u001b[39m\"\"\"Return a QTransform that is the inverse of *tr*.\u001b[39;00m\n\u001b[1;32m   3020\u001b[0m \u001b[39mA pseudo-inverse is returned if tr is not invertible.\u001b[39;00m\n\u001b[1;32m   3021\u001b[0m \u001b[39m\u001b[39;00m\n\u001b[0;32m   (...)\u001b[0m\n\u001b[1;32m   3024\u001b[0m \u001b[39mwhen determining whether a matrix is invertible)\u001b[39;00m\n\u001b[1;32m   3025\u001b[0m \u001b[39m\"\"\"\u001b[39;00m\n\u001b[1;32m   3026\u001b[0m \u001b[39mtry\u001b[39;00m:\n\u001b[0;32m-> 3027\u001b[0m     det \u001b[39m=\u001b[39m tr\u001b[39m.\u001b[39;49mdeterminant()\n\u001b[1;32m   3028\u001b[0m     detr \u001b[39m=\u001b[39m \u001b[39m1.0\u001b[39m \u001b[39m/\u001b[39m det    \u001b[39m# let singular matrices raise ZeroDivisionError\u001b[39;00m\n\u001b[1;32m   3029\u001b[0m     inv \u001b[39m=\u001b[39m tr\u001b[39m.\u001b[39madjoint()\n",
      "\u001b[0;31mAttributeError\u001b[0m: 'NoneType' object has no attribute 'determinant'"
     ]
    },
    {
     "ename": "AttributeError",
     "evalue": "'NoneType' object has no attribute 'determinant'",
     "output_type": "error",
     "traceback": [
      "\u001b[0;31m---------------------------------------------------------------------------\u001b[0m",
      "\u001b[0;31mAttributeError\u001b[0m                            Traceback (most recent call last)",
      "File \u001b[0;32m~/repos/pyPhoPlaceCellAnalysis/src/pyphoplacecellanalysis/External/pyqtgraph/graphicsItems/GridItem.py:99\u001b[0m, in \u001b[0;36mGridItem.paint\u001b[0;34m(self, p, opt, widget)\u001b[0m\n\u001b[1;32m     92\u001b[0m \u001b[39mdef\u001b[39;00m \u001b[39mpaint\u001b[39m(\u001b[39mself\u001b[39m, p, opt, widget):\n\u001b[1;32m     93\u001b[0m     \u001b[39m#p.setPen(QtGui.QPen(QtGui.QColor(100, 100, 100)))\u001b[39;00m\n\u001b[1;32m     94\u001b[0m     \u001b[39m#p.drawRect(self.boundingRect())\u001b[39;00m\n\u001b[1;32m     95\u001b[0m     \u001b[39m#UIGraphicsItem.paint(self, p, opt, widget)\u001b[39;00m\n\u001b[1;32m     96\u001b[0m     \u001b[39m### draw picture\u001b[39;00m\n\u001b[1;32m     97\u001b[0m     \u001b[39mif\u001b[39;00m \u001b[39mself\u001b[39m\u001b[39m.\u001b[39mpicture \u001b[39mis\u001b[39;00m \u001b[39mNone\u001b[39;00m:\n\u001b[1;32m     98\u001b[0m         \u001b[39m#print \"no pic, draw..\"\u001b[39;00m\n\u001b[0;32m---> 99\u001b[0m         \u001b[39mself\u001b[39;49m\u001b[39m.\u001b[39;49mgeneratePicture()\n\u001b[1;32m    100\u001b[0m     p\u001b[39m.\u001b[39mdrawPicture(QtCore\u001b[39m.\u001b[39mQPointF(\u001b[39m0\u001b[39m, \u001b[39m0\u001b[39m), \u001b[39mself\u001b[39m\u001b[39m.\u001b[39mpicture)\n",
      "File \u001b[0;32m~/repos/pyPhoPlaceCellAnalysis/src/pyphoplacecellanalysis/External/pyqtgraph/graphicsItems/GridItem.py:191\u001b[0m, in \u001b[0;36mGridItem.generatePicture\u001b[0;34m(self)\u001b[0m\n\u001b[1;32m    189\u001b[0m                 texts\u001b[39m.\u001b[39mappend((QtCore\u001b[39m.\u001b[39mQPointF(x, y), \u001b[39m\"\u001b[39m\u001b[39m%g\u001b[39;00m\u001b[39m\"\u001b[39m\u001b[39m%\u001b[39mp1[ax]))\n\u001b[1;32m    190\u001b[0m tr \u001b[39m=\u001b[39m \u001b[39mself\u001b[39m\u001b[39m.\u001b[39mdeviceTransform()\n\u001b[0;32m--> 191\u001b[0m p\u001b[39m.\u001b[39msetWorldTransform(fn\u001b[39m.\u001b[39;49minvertQTransform(tr))\n\u001b[1;32m    193\u001b[0m \u001b[39mif\u001b[39;00m textPen \u001b[39mis\u001b[39;00m \u001b[39mnot\u001b[39;00m \u001b[39mNone\u001b[39;00m \u001b[39mand\u001b[39;00m \u001b[39mlen\u001b[39m(texts) \u001b[39m>\u001b[39m \u001b[39m0\u001b[39m:\n\u001b[1;32m    194\u001b[0m     \u001b[39m# if there is at least one text, then c is set\u001b[39;00m\n\u001b[1;32m    195\u001b[0m     textColor\u001b[39m.\u001b[39msetAlpha(c \u001b[39m*\u001b[39m \u001b[39m2\u001b[39m)\n",
      "File \u001b[0;32m~/repos/pyPhoPlaceCellAnalysis/src/pyphoplacecellanalysis/External/pyqtgraph/functions.py:3027\u001b[0m, in \u001b[0;36minvertQTransform\u001b[0;34m(tr)\u001b[0m\n\u001b[1;32m   3019\u001b[0m \u001b[39m\u001b[39m\u001b[39m\"\"\"Return a QTransform that is the inverse of *tr*.\u001b[39;00m\n\u001b[1;32m   3020\u001b[0m \u001b[39mA pseudo-inverse is returned if tr is not invertible.\u001b[39;00m\n\u001b[1;32m   3021\u001b[0m \u001b[39m\u001b[39;00m\n\u001b[0;32m   (...)\u001b[0m\n\u001b[1;32m   3024\u001b[0m \u001b[39mwhen determining whether a matrix is invertible)\u001b[39;00m\n\u001b[1;32m   3025\u001b[0m \u001b[39m\"\"\"\u001b[39;00m\n\u001b[1;32m   3026\u001b[0m \u001b[39mtry\u001b[39;00m:\n\u001b[0;32m-> 3027\u001b[0m     det \u001b[39m=\u001b[39m tr\u001b[39m.\u001b[39;49mdeterminant()\n\u001b[1;32m   3028\u001b[0m     detr \u001b[39m=\u001b[39m \u001b[39m1.0\u001b[39m \u001b[39m/\u001b[39m det    \u001b[39m# let singular matrices raise ZeroDivisionError\u001b[39;00m\n\u001b[1;32m   3029\u001b[0m     inv \u001b[39m=\u001b[39m tr\u001b[39m.\u001b[39madjoint()\n",
      "\u001b[0;31mAttributeError\u001b[0m: 'NoneType' object has no attribute 'determinant'"
     ]
    },
    {
     "ename": "AttributeError",
     "evalue": "'NoneType' object has no attribute 'determinant'",
     "output_type": "error",
     "traceback": [
      "\u001b[0;31m---------------------------------------------------------------------------\u001b[0m",
      "\u001b[0;31mAttributeError\u001b[0m                            Traceback (most recent call last)",
      "File \u001b[0;32m~/repos/pyPhoPlaceCellAnalysis/src/pyphoplacecellanalysis/External/pyqtgraph/graphicsItems/GridItem.py:99\u001b[0m, in \u001b[0;36mGridItem.paint\u001b[0;34m(self, p, opt, widget)\u001b[0m\n\u001b[1;32m     92\u001b[0m \u001b[39mdef\u001b[39;00m \u001b[39mpaint\u001b[39m(\u001b[39mself\u001b[39m, p, opt, widget):\n\u001b[1;32m     93\u001b[0m     \u001b[39m#p.setPen(QtGui.QPen(QtGui.QColor(100, 100, 100)))\u001b[39;00m\n\u001b[1;32m     94\u001b[0m     \u001b[39m#p.drawRect(self.boundingRect())\u001b[39;00m\n\u001b[1;32m     95\u001b[0m     \u001b[39m#UIGraphicsItem.paint(self, p, opt, widget)\u001b[39;00m\n\u001b[1;32m     96\u001b[0m     \u001b[39m### draw picture\u001b[39;00m\n\u001b[1;32m     97\u001b[0m     \u001b[39mif\u001b[39;00m \u001b[39mself\u001b[39m\u001b[39m.\u001b[39mpicture \u001b[39mis\u001b[39;00m \u001b[39mNone\u001b[39;00m:\n\u001b[1;32m     98\u001b[0m         \u001b[39m#print \"no pic, draw..\"\u001b[39;00m\n\u001b[0;32m---> 99\u001b[0m         \u001b[39mself\u001b[39;49m\u001b[39m.\u001b[39;49mgeneratePicture()\n\u001b[1;32m    100\u001b[0m     p\u001b[39m.\u001b[39mdrawPicture(QtCore\u001b[39m.\u001b[39mQPointF(\u001b[39m0\u001b[39m, \u001b[39m0\u001b[39m), \u001b[39mself\u001b[39m\u001b[39m.\u001b[39mpicture)\n",
      "File \u001b[0;32m~/repos/pyPhoPlaceCellAnalysis/src/pyphoplacecellanalysis/External/pyqtgraph/graphicsItems/GridItem.py:191\u001b[0m, in \u001b[0;36mGridItem.generatePicture\u001b[0;34m(self)\u001b[0m\n\u001b[1;32m    189\u001b[0m                 texts\u001b[39m.\u001b[39mappend((QtCore\u001b[39m.\u001b[39mQPointF(x, y), \u001b[39m\"\u001b[39m\u001b[39m%g\u001b[39;00m\u001b[39m\"\u001b[39m\u001b[39m%\u001b[39mp1[ax]))\n\u001b[1;32m    190\u001b[0m tr \u001b[39m=\u001b[39m \u001b[39mself\u001b[39m\u001b[39m.\u001b[39mdeviceTransform()\n\u001b[0;32m--> 191\u001b[0m p\u001b[39m.\u001b[39msetWorldTransform(fn\u001b[39m.\u001b[39;49minvertQTransform(tr))\n\u001b[1;32m    193\u001b[0m \u001b[39mif\u001b[39;00m textPen \u001b[39mis\u001b[39;00m \u001b[39mnot\u001b[39;00m \u001b[39mNone\u001b[39;00m \u001b[39mand\u001b[39;00m \u001b[39mlen\u001b[39m(texts) \u001b[39m>\u001b[39m \u001b[39m0\u001b[39m:\n\u001b[1;32m    194\u001b[0m     \u001b[39m# if there is at least one text, then c is set\u001b[39;00m\n\u001b[1;32m    195\u001b[0m     textColor\u001b[39m.\u001b[39msetAlpha(c \u001b[39m*\u001b[39m \u001b[39m2\u001b[39m)\n",
      "File \u001b[0;32m~/repos/pyPhoPlaceCellAnalysis/src/pyphoplacecellanalysis/External/pyqtgraph/functions.py:3027\u001b[0m, in \u001b[0;36minvertQTransform\u001b[0;34m(tr)\u001b[0m\n\u001b[1;32m   3019\u001b[0m \u001b[39m\u001b[39m\u001b[39m\"\"\"Return a QTransform that is the inverse of *tr*.\u001b[39;00m\n\u001b[1;32m   3020\u001b[0m \u001b[39mA pseudo-inverse is returned if tr is not invertible.\u001b[39;00m\n\u001b[1;32m   3021\u001b[0m \u001b[39m\u001b[39;00m\n\u001b[0;32m   (...)\u001b[0m\n\u001b[1;32m   3024\u001b[0m \u001b[39mwhen determining whether a matrix is invertible)\u001b[39;00m\n\u001b[1;32m   3025\u001b[0m \u001b[39m\"\"\"\u001b[39;00m\n\u001b[1;32m   3026\u001b[0m \u001b[39mtry\u001b[39;00m:\n\u001b[0;32m-> 3027\u001b[0m     det \u001b[39m=\u001b[39m tr\u001b[39m.\u001b[39;49mdeterminant()\n\u001b[1;32m   3028\u001b[0m     detr \u001b[39m=\u001b[39m \u001b[39m1.0\u001b[39m \u001b[39m/\u001b[39m det    \u001b[39m# let singular matrices raise ZeroDivisionError\u001b[39;00m\n\u001b[1;32m   3029\u001b[0m     inv \u001b[39m=\u001b[39m tr\u001b[39m.\u001b[39madjoint()\n",
      "\u001b[0;31mAttributeError\u001b[0m: 'NoneType' object has no attribute 'determinant'"
     ]
    },
    {
     "ename": "AttributeError",
     "evalue": "'NoneType' object has no attribute 'determinant'",
     "output_type": "error",
     "traceback": [
      "\u001b[0;31m---------------------------------------------------------------------------\u001b[0m",
      "\u001b[0;31mAttributeError\u001b[0m                            Traceback (most recent call last)",
      "File \u001b[0;32m~/repos/pyPhoPlaceCellAnalysis/src/pyphoplacecellanalysis/External/pyqtgraph/graphicsItems/GridItem.py:99\u001b[0m, in \u001b[0;36mGridItem.paint\u001b[0;34m(self, p, opt, widget)\u001b[0m\n\u001b[1;32m     92\u001b[0m \u001b[39mdef\u001b[39;00m \u001b[39mpaint\u001b[39m(\u001b[39mself\u001b[39m, p, opt, widget):\n\u001b[1;32m     93\u001b[0m     \u001b[39m#p.setPen(QtGui.QPen(QtGui.QColor(100, 100, 100)))\u001b[39;00m\n\u001b[1;32m     94\u001b[0m     \u001b[39m#p.drawRect(self.boundingRect())\u001b[39;00m\n\u001b[1;32m     95\u001b[0m     \u001b[39m#UIGraphicsItem.paint(self, p, opt, widget)\u001b[39;00m\n\u001b[1;32m     96\u001b[0m     \u001b[39m### draw picture\u001b[39;00m\n\u001b[1;32m     97\u001b[0m     \u001b[39mif\u001b[39;00m \u001b[39mself\u001b[39m\u001b[39m.\u001b[39mpicture \u001b[39mis\u001b[39;00m \u001b[39mNone\u001b[39;00m:\n\u001b[1;32m     98\u001b[0m         \u001b[39m#print \"no pic, draw..\"\u001b[39;00m\n\u001b[0;32m---> 99\u001b[0m         \u001b[39mself\u001b[39;49m\u001b[39m.\u001b[39;49mgeneratePicture()\n\u001b[1;32m    100\u001b[0m     p\u001b[39m.\u001b[39mdrawPicture(QtCore\u001b[39m.\u001b[39mQPointF(\u001b[39m0\u001b[39m, \u001b[39m0\u001b[39m), \u001b[39mself\u001b[39m\u001b[39m.\u001b[39mpicture)\n",
      "File \u001b[0;32m~/repos/pyPhoPlaceCellAnalysis/src/pyphoplacecellanalysis/External/pyqtgraph/graphicsItems/GridItem.py:191\u001b[0m, in \u001b[0;36mGridItem.generatePicture\u001b[0;34m(self)\u001b[0m\n\u001b[1;32m    189\u001b[0m                 texts\u001b[39m.\u001b[39mappend((QtCore\u001b[39m.\u001b[39mQPointF(x, y), \u001b[39m\"\u001b[39m\u001b[39m%g\u001b[39;00m\u001b[39m\"\u001b[39m\u001b[39m%\u001b[39mp1[ax]))\n\u001b[1;32m    190\u001b[0m tr \u001b[39m=\u001b[39m \u001b[39mself\u001b[39m\u001b[39m.\u001b[39mdeviceTransform()\n\u001b[0;32m--> 191\u001b[0m p\u001b[39m.\u001b[39msetWorldTransform(fn\u001b[39m.\u001b[39;49minvertQTransform(tr))\n\u001b[1;32m    193\u001b[0m \u001b[39mif\u001b[39;00m textPen \u001b[39mis\u001b[39;00m \u001b[39mnot\u001b[39;00m \u001b[39mNone\u001b[39;00m \u001b[39mand\u001b[39;00m \u001b[39mlen\u001b[39m(texts) \u001b[39m>\u001b[39m \u001b[39m0\u001b[39m:\n\u001b[1;32m    194\u001b[0m     \u001b[39m# if there is at least one text, then c is set\u001b[39;00m\n\u001b[1;32m    195\u001b[0m     textColor\u001b[39m.\u001b[39msetAlpha(c \u001b[39m*\u001b[39m \u001b[39m2\u001b[39m)\n",
      "File \u001b[0;32m~/repos/pyPhoPlaceCellAnalysis/src/pyphoplacecellanalysis/External/pyqtgraph/functions.py:3027\u001b[0m, in \u001b[0;36minvertQTransform\u001b[0;34m(tr)\u001b[0m\n\u001b[1;32m   3019\u001b[0m \u001b[39m\u001b[39m\u001b[39m\"\"\"Return a QTransform that is the inverse of *tr*.\u001b[39;00m\n\u001b[1;32m   3020\u001b[0m \u001b[39mA pseudo-inverse is returned if tr is not invertible.\u001b[39;00m\n\u001b[1;32m   3021\u001b[0m \u001b[39m\u001b[39;00m\n\u001b[0;32m   (...)\u001b[0m\n\u001b[1;32m   3024\u001b[0m \u001b[39mwhen determining whether a matrix is invertible)\u001b[39;00m\n\u001b[1;32m   3025\u001b[0m \u001b[39m\"\"\"\u001b[39;00m\n\u001b[1;32m   3026\u001b[0m \u001b[39mtry\u001b[39;00m:\n\u001b[0;32m-> 3027\u001b[0m     det \u001b[39m=\u001b[39m tr\u001b[39m.\u001b[39;49mdeterminant()\n\u001b[1;32m   3028\u001b[0m     detr \u001b[39m=\u001b[39m \u001b[39m1.0\u001b[39m \u001b[39m/\u001b[39m det    \u001b[39m# let singular matrices raise ZeroDivisionError\u001b[39;00m\n\u001b[1;32m   3029\u001b[0m     inv \u001b[39m=\u001b[39m tr\u001b[39m.\u001b[39madjoint()\n",
      "\u001b[0;31mAttributeError\u001b[0m: 'NoneType' object has no attribute 'determinant'"
     ]
    },
    {
     "ename": "AttributeError",
     "evalue": "'NoneType' object has no attribute 'determinant'",
     "output_type": "error",
     "traceback": [
      "\u001b[0;31m---------------------------------------------------------------------------\u001b[0m",
      "\u001b[0;31mAttributeError\u001b[0m                            Traceback (most recent call last)",
      "File \u001b[0;32m~/repos/pyPhoPlaceCellAnalysis/src/pyphoplacecellanalysis/External/pyqtgraph/graphicsItems/GridItem.py:99\u001b[0m, in \u001b[0;36mGridItem.paint\u001b[0;34m(self, p, opt, widget)\u001b[0m\n\u001b[1;32m     92\u001b[0m \u001b[39mdef\u001b[39;00m \u001b[39mpaint\u001b[39m(\u001b[39mself\u001b[39m, p, opt, widget):\n\u001b[1;32m     93\u001b[0m     \u001b[39m#p.setPen(QtGui.QPen(QtGui.QColor(100, 100, 100)))\u001b[39;00m\n\u001b[1;32m     94\u001b[0m     \u001b[39m#p.drawRect(self.boundingRect())\u001b[39;00m\n\u001b[1;32m     95\u001b[0m     \u001b[39m#UIGraphicsItem.paint(self, p, opt, widget)\u001b[39;00m\n\u001b[1;32m     96\u001b[0m     \u001b[39m### draw picture\u001b[39;00m\n\u001b[1;32m     97\u001b[0m     \u001b[39mif\u001b[39;00m \u001b[39mself\u001b[39m\u001b[39m.\u001b[39mpicture \u001b[39mis\u001b[39;00m \u001b[39mNone\u001b[39;00m:\n\u001b[1;32m     98\u001b[0m         \u001b[39m#print \"no pic, draw..\"\u001b[39;00m\n\u001b[0;32m---> 99\u001b[0m         \u001b[39mself\u001b[39;49m\u001b[39m.\u001b[39;49mgeneratePicture()\n\u001b[1;32m    100\u001b[0m     p\u001b[39m.\u001b[39mdrawPicture(QtCore\u001b[39m.\u001b[39mQPointF(\u001b[39m0\u001b[39m, \u001b[39m0\u001b[39m), \u001b[39mself\u001b[39m\u001b[39m.\u001b[39mpicture)\n",
      "File \u001b[0;32m~/repos/pyPhoPlaceCellAnalysis/src/pyphoplacecellanalysis/External/pyqtgraph/graphicsItems/GridItem.py:191\u001b[0m, in \u001b[0;36mGridItem.generatePicture\u001b[0;34m(self)\u001b[0m\n\u001b[1;32m    189\u001b[0m                 texts\u001b[39m.\u001b[39mappend((QtCore\u001b[39m.\u001b[39mQPointF(x, y), \u001b[39m\"\u001b[39m\u001b[39m%g\u001b[39;00m\u001b[39m\"\u001b[39m\u001b[39m%\u001b[39mp1[ax]))\n\u001b[1;32m    190\u001b[0m tr \u001b[39m=\u001b[39m \u001b[39mself\u001b[39m\u001b[39m.\u001b[39mdeviceTransform()\n\u001b[0;32m--> 191\u001b[0m p\u001b[39m.\u001b[39msetWorldTransform(fn\u001b[39m.\u001b[39;49minvertQTransform(tr))\n\u001b[1;32m    193\u001b[0m \u001b[39mif\u001b[39;00m textPen \u001b[39mis\u001b[39;00m \u001b[39mnot\u001b[39;00m \u001b[39mNone\u001b[39;00m \u001b[39mand\u001b[39;00m \u001b[39mlen\u001b[39m(texts) \u001b[39m>\u001b[39m \u001b[39m0\u001b[39m:\n\u001b[1;32m    194\u001b[0m     \u001b[39m# if there is at least one text, then c is set\u001b[39;00m\n\u001b[1;32m    195\u001b[0m     textColor\u001b[39m.\u001b[39msetAlpha(c \u001b[39m*\u001b[39m \u001b[39m2\u001b[39m)\n",
      "File \u001b[0;32m~/repos/pyPhoPlaceCellAnalysis/src/pyphoplacecellanalysis/External/pyqtgraph/functions.py:3027\u001b[0m, in \u001b[0;36minvertQTransform\u001b[0;34m(tr)\u001b[0m\n\u001b[1;32m   3019\u001b[0m \u001b[39m\u001b[39m\u001b[39m\"\"\"Return a QTransform that is the inverse of *tr*.\u001b[39;00m\n\u001b[1;32m   3020\u001b[0m \u001b[39mA pseudo-inverse is returned if tr is not invertible.\u001b[39;00m\n\u001b[1;32m   3021\u001b[0m \u001b[39m\u001b[39;00m\n\u001b[0;32m   (...)\u001b[0m\n\u001b[1;32m   3024\u001b[0m \u001b[39mwhen determining whether a matrix is invertible)\u001b[39;00m\n\u001b[1;32m   3025\u001b[0m \u001b[39m\"\"\"\u001b[39;00m\n\u001b[1;32m   3026\u001b[0m \u001b[39mtry\u001b[39;00m:\n\u001b[0;32m-> 3027\u001b[0m     det \u001b[39m=\u001b[39m tr\u001b[39m.\u001b[39;49mdeterminant()\n\u001b[1;32m   3028\u001b[0m     detr \u001b[39m=\u001b[39m \u001b[39m1.0\u001b[39m \u001b[39m/\u001b[39m det    \u001b[39m# let singular matrices raise ZeroDivisionError\u001b[39;00m\n\u001b[1;32m   3029\u001b[0m     inv \u001b[39m=\u001b[39m tr\u001b[39m.\u001b[39madjoint()\n",
      "\u001b[0;31mAttributeError\u001b[0m: 'NoneType' object has no attribute 'determinant'"
     ]
    },
    {
     "ename": "AttributeError",
     "evalue": "'NoneType' object has no attribute 'determinant'",
     "output_type": "error",
     "traceback": [
      "\u001b[0;31m---------------------------------------------------------------------------\u001b[0m",
      "\u001b[0;31mAttributeError\u001b[0m                            Traceback (most recent call last)",
      "File \u001b[0;32m~/repos/pyPhoPlaceCellAnalysis/src/pyphoplacecellanalysis/External/pyqtgraph/graphicsItems/GridItem.py:99\u001b[0m, in \u001b[0;36mGridItem.paint\u001b[0;34m(self, p, opt, widget)\u001b[0m\n\u001b[1;32m     92\u001b[0m \u001b[39mdef\u001b[39;00m \u001b[39mpaint\u001b[39m(\u001b[39mself\u001b[39m, p, opt, widget):\n\u001b[1;32m     93\u001b[0m     \u001b[39m#p.setPen(QtGui.QPen(QtGui.QColor(100, 100, 100)))\u001b[39;00m\n\u001b[1;32m     94\u001b[0m     \u001b[39m#p.drawRect(self.boundingRect())\u001b[39;00m\n\u001b[1;32m     95\u001b[0m     \u001b[39m#UIGraphicsItem.paint(self, p, opt, widget)\u001b[39;00m\n\u001b[1;32m     96\u001b[0m     \u001b[39m### draw picture\u001b[39;00m\n\u001b[1;32m     97\u001b[0m     \u001b[39mif\u001b[39;00m \u001b[39mself\u001b[39m\u001b[39m.\u001b[39mpicture \u001b[39mis\u001b[39;00m \u001b[39mNone\u001b[39;00m:\n\u001b[1;32m     98\u001b[0m         \u001b[39m#print \"no pic, draw..\"\u001b[39;00m\n\u001b[0;32m---> 99\u001b[0m         \u001b[39mself\u001b[39;49m\u001b[39m.\u001b[39;49mgeneratePicture()\n\u001b[1;32m    100\u001b[0m     p\u001b[39m.\u001b[39mdrawPicture(QtCore\u001b[39m.\u001b[39mQPointF(\u001b[39m0\u001b[39m, \u001b[39m0\u001b[39m), \u001b[39mself\u001b[39m\u001b[39m.\u001b[39mpicture)\n",
      "File \u001b[0;32m~/repos/pyPhoPlaceCellAnalysis/src/pyphoplacecellanalysis/External/pyqtgraph/graphicsItems/GridItem.py:191\u001b[0m, in \u001b[0;36mGridItem.generatePicture\u001b[0;34m(self)\u001b[0m\n\u001b[1;32m    189\u001b[0m                 texts\u001b[39m.\u001b[39mappend((QtCore\u001b[39m.\u001b[39mQPointF(x, y), \u001b[39m\"\u001b[39m\u001b[39m%g\u001b[39;00m\u001b[39m\"\u001b[39m\u001b[39m%\u001b[39mp1[ax]))\n\u001b[1;32m    190\u001b[0m tr \u001b[39m=\u001b[39m \u001b[39mself\u001b[39m\u001b[39m.\u001b[39mdeviceTransform()\n\u001b[0;32m--> 191\u001b[0m p\u001b[39m.\u001b[39msetWorldTransform(fn\u001b[39m.\u001b[39;49minvertQTransform(tr))\n\u001b[1;32m    193\u001b[0m \u001b[39mif\u001b[39;00m textPen \u001b[39mis\u001b[39;00m \u001b[39mnot\u001b[39;00m \u001b[39mNone\u001b[39;00m \u001b[39mand\u001b[39;00m \u001b[39mlen\u001b[39m(texts) \u001b[39m>\u001b[39m \u001b[39m0\u001b[39m:\n\u001b[1;32m    194\u001b[0m     \u001b[39m# if there is at least one text, then c is set\u001b[39;00m\n\u001b[1;32m    195\u001b[0m     textColor\u001b[39m.\u001b[39msetAlpha(c \u001b[39m*\u001b[39m \u001b[39m2\u001b[39m)\n",
      "File \u001b[0;32m~/repos/pyPhoPlaceCellAnalysis/src/pyphoplacecellanalysis/External/pyqtgraph/functions.py:3027\u001b[0m, in \u001b[0;36minvertQTransform\u001b[0;34m(tr)\u001b[0m\n\u001b[1;32m   3019\u001b[0m \u001b[39m\u001b[39m\u001b[39m\"\"\"Return a QTransform that is the inverse of *tr*.\u001b[39;00m\n\u001b[1;32m   3020\u001b[0m \u001b[39mA pseudo-inverse is returned if tr is not invertible.\u001b[39;00m\n\u001b[1;32m   3021\u001b[0m \u001b[39m\u001b[39;00m\n\u001b[0;32m   (...)\u001b[0m\n\u001b[1;32m   3024\u001b[0m \u001b[39mwhen determining whether a matrix is invertible)\u001b[39;00m\n\u001b[1;32m   3025\u001b[0m \u001b[39m\"\"\"\u001b[39;00m\n\u001b[1;32m   3026\u001b[0m \u001b[39mtry\u001b[39;00m:\n\u001b[0;32m-> 3027\u001b[0m     det \u001b[39m=\u001b[39m tr\u001b[39m.\u001b[39;49mdeterminant()\n\u001b[1;32m   3028\u001b[0m     detr \u001b[39m=\u001b[39m \u001b[39m1.0\u001b[39m \u001b[39m/\u001b[39m det    \u001b[39m# let singular matrices raise ZeroDivisionError\u001b[39;00m\n\u001b[1;32m   3029\u001b[0m     inv \u001b[39m=\u001b[39m tr\u001b[39m.\u001b[39madjoint()\n",
      "\u001b[0;31mAttributeError\u001b[0m: 'NoneType' object has no attribute 'determinant'"
     ]
    },
    {
     "ename": "AttributeError",
     "evalue": "'NoneType' object has no attribute 'determinant'",
     "output_type": "error",
     "traceback": [
      "\u001b[0;31m---------------------------------------------------------------------------\u001b[0m",
      "\u001b[0;31mAttributeError\u001b[0m                            Traceback (most recent call last)",
      "File \u001b[0;32m~/repos/pyPhoPlaceCellAnalysis/src/pyphoplacecellanalysis/External/pyqtgraph/graphicsItems/GridItem.py:99\u001b[0m, in \u001b[0;36mGridItem.paint\u001b[0;34m(self, p, opt, widget)\u001b[0m\n\u001b[1;32m     92\u001b[0m \u001b[39mdef\u001b[39;00m \u001b[39mpaint\u001b[39m(\u001b[39mself\u001b[39m, p, opt, widget):\n\u001b[1;32m     93\u001b[0m     \u001b[39m#p.setPen(QtGui.QPen(QtGui.QColor(100, 100, 100)))\u001b[39;00m\n\u001b[1;32m     94\u001b[0m     \u001b[39m#p.drawRect(self.boundingRect())\u001b[39;00m\n\u001b[1;32m     95\u001b[0m     \u001b[39m#UIGraphicsItem.paint(self, p, opt, widget)\u001b[39;00m\n\u001b[1;32m     96\u001b[0m     \u001b[39m### draw picture\u001b[39;00m\n\u001b[1;32m     97\u001b[0m     \u001b[39mif\u001b[39;00m \u001b[39mself\u001b[39m\u001b[39m.\u001b[39mpicture \u001b[39mis\u001b[39;00m \u001b[39mNone\u001b[39;00m:\n\u001b[1;32m     98\u001b[0m         \u001b[39m#print \"no pic, draw..\"\u001b[39;00m\n\u001b[0;32m---> 99\u001b[0m         \u001b[39mself\u001b[39;49m\u001b[39m.\u001b[39;49mgeneratePicture()\n\u001b[1;32m    100\u001b[0m     p\u001b[39m.\u001b[39mdrawPicture(QtCore\u001b[39m.\u001b[39mQPointF(\u001b[39m0\u001b[39m, \u001b[39m0\u001b[39m), \u001b[39mself\u001b[39m\u001b[39m.\u001b[39mpicture)\n",
      "File \u001b[0;32m~/repos/pyPhoPlaceCellAnalysis/src/pyphoplacecellanalysis/External/pyqtgraph/graphicsItems/GridItem.py:191\u001b[0m, in \u001b[0;36mGridItem.generatePicture\u001b[0;34m(self)\u001b[0m\n\u001b[1;32m    189\u001b[0m                 texts\u001b[39m.\u001b[39mappend((QtCore\u001b[39m.\u001b[39mQPointF(x, y), \u001b[39m\"\u001b[39m\u001b[39m%g\u001b[39;00m\u001b[39m\"\u001b[39m\u001b[39m%\u001b[39mp1[ax]))\n\u001b[1;32m    190\u001b[0m tr \u001b[39m=\u001b[39m \u001b[39mself\u001b[39m\u001b[39m.\u001b[39mdeviceTransform()\n\u001b[0;32m--> 191\u001b[0m p\u001b[39m.\u001b[39msetWorldTransform(fn\u001b[39m.\u001b[39;49minvertQTransform(tr))\n\u001b[1;32m    193\u001b[0m \u001b[39mif\u001b[39;00m textPen \u001b[39mis\u001b[39;00m \u001b[39mnot\u001b[39;00m \u001b[39mNone\u001b[39;00m \u001b[39mand\u001b[39;00m \u001b[39mlen\u001b[39m(texts) \u001b[39m>\u001b[39m \u001b[39m0\u001b[39m:\n\u001b[1;32m    194\u001b[0m     \u001b[39m# if there is at least one text, then c is set\u001b[39;00m\n\u001b[1;32m    195\u001b[0m     textColor\u001b[39m.\u001b[39msetAlpha(c \u001b[39m*\u001b[39m \u001b[39m2\u001b[39m)\n",
      "File \u001b[0;32m~/repos/pyPhoPlaceCellAnalysis/src/pyphoplacecellanalysis/External/pyqtgraph/functions.py:3027\u001b[0m, in \u001b[0;36minvertQTransform\u001b[0;34m(tr)\u001b[0m\n\u001b[1;32m   3019\u001b[0m \u001b[39m\u001b[39m\u001b[39m\"\"\"Return a QTransform that is the inverse of *tr*.\u001b[39;00m\n\u001b[1;32m   3020\u001b[0m \u001b[39mA pseudo-inverse is returned if tr is not invertible.\u001b[39;00m\n\u001b[1;32m   3021\u001b[0m \u001b[39m\u001b[39;00m\n\u001b[0;32m   (...)\u001b[0m\n\u001b[1;32m   3024\u001b[0m \u001b[39mwhen determining whether a matrix is invertible)\u001b[39;00m\n\u001b[1;32m   3025\u001b[0m \u001b[39m\"\"\"\u001b[39;00m\n\u001b[1;32m   3026\u001b[0m \u001b[39mtry\u001b[39;00m:\n\u001b[0;32m-> 3027\u001b[0m     det \u001b[39m=\u001b[39m tr\u001b[39m.\u001b[39;49mdeterminant()\n\u001b[1;32m   3028\u001b[0m     detr \u001b[39m=\u001b[39m \u001b[39m1.0\u001b[39m \u001b[39m/\u001b[39m det    \u001b[39m# let singular matrices raise ZeroDivisionError\u001b[39;00m\n\u001b[1;32m   3029\u001b[0m     inv \u001b[39m=\u001b[39m tr\u001b[39m.\u001b[39madjoint()\n",
      "\u001b[0;31mAttributeError\u001b[0m: 'NoneType' object has no attribute 'determinant'"
     ]
    },
    {
     "ename": "AttributeError",
     "evalue": "'NoneType' object has no attribute 'determinant'",
     "output_type": "error",
     "traceback": [
      "\u001b[0;31m---------------------------------------------------------------------------\u001b[0m",
      "\u001b[0;31mAttributeError\u001b[0m                            Traceback (most recent call last)",
      "File \u001b[0;32m~/repos/pyPhoPlaceCellAnalysis/src/pyphoplacecellanalysis/External/pyqtgraph/graphicsItems/GridItem.py:99\u001b[0m, in \u001b[0;36mGridItem.paint\u001b[0;34m(self, p, opt, widget)\u001b[0m\n\u001b[1;32m     92\u001b[0m \u001b[39mdef\u001b[39;00m \u001b[39mpaint\u001b[39m(\u001b[39mself\u001b[39m, p, opt, widget):\n\u001b[1;32m     93\u001b[0m     \u001b[39m#p.setPen(QtGui.QPen(QtGui.QColor(100, 100, 100)))\u001b[39;00m\n\u001b[1;32m     94\u001b[0m     \u001b[39m#p.drawRect(self.boundingRect())\u001b[39;00m\n\u001b[1;32m     95\u001b[0m     \u001b[39m#UIGraphicsItem.paint(self, p, opt, widget)\u001b[39;00m\n\u001b[1;32m     96\u001b[0m     \u001b[39m### draw picture\u001b[39;00m\n\u001b[1;32m     97\u001b[0m     \u001b[39mif\u001b[39;00m \u001b[39mself\u001b[39m\u001b[39m.\u001b[39mpicture \u001b[39mis\u001b[39;00m \u001b[39mNone\u001b[39;00m:\n\u001b[1;32m     98\u001b[0m         \u001b[39m#print \"no pic, draw..\"\u001b[39;00m\n\u001b[0;32m---> 99\u001b[0m         \u001b[39mself\u001b[39;49m\u001b[39m.\u001b[39;49mgeneratePicture()\n\u001b[1;32m    100\u001b[0m     p\u001b[39m.\u001b[39mdrawPicture(QtCore\u001b[39m.\u001b[39mQPointF(\u001b[39m0\u001b[39m, \u001b[39m0\u001b[39m), \u001b[39mself\u001b[39m\u001b[39m.\u001b[39mpicture)\n",
      "File \u001b[0;32m~/repos/pyPhoPlaceCellAnalysis/src/pyphoplacecellanalysis/External/pyqtgraph/graphicsItems/GridItem.py:191\u001b[0m, in \u001b[0;36mGridItem.generatePicture\u001b[0;34m(self)\u001b[0m\n\u001b[1;32m    189\u001b[0m                 texts\u001b[39m.\u001b[39mappend((QtCore\u001b[39m.\u001b[39mQPointF(x, y), \u001b[39m\"\u001b[39m\u001b[39m%g\u001b[39;00m\u001b[39m\"\u001b[39m\u001b[39m%\u001b[39mp1[ax]))\n\u001b[1;32m    190\u001b[0m tr \u001b[39m=\u001b[39m \u001b[39mself\u001b[39m\u001b[39m.\u001b[39mdeviceTransform()\n\u001b[0;32m--> 191\u001b[0m p\u001b[39m.\u001b[39msetWorldTransform(fn\u001b[39m.\u001b[39;49minvertQTransform(tr))\n\u001b[1;32m    193\u001b[0m \u001b[39mif\u001b[39;00m textPen \u001b[39mis\u001b[39;00m \u001b[39mnot\u001b[39;00m \u001b[39mNone\u001b[39;00m \u001b[39mand\u001b[39;00m \u001b[39mlen\u001b[39m(texts) \u001b[39m>\u001b[39m \u001b[39m0\u001b[39m:\n\u001b[1;32m    194\u001b[0m     \u001b[39m# if there is at least one text, then c is set\u001b[39;00m\n\u001b[1;32m    195\u001b[0m     textColor\u001b[39m.\u001b[39msetAlpha(c \u001b[39m*\u001b[39m \u001b[39m2\u001b[39m)\n",
      "File \u001b[0;32m~/repos/pyPhoPlaceCellAnalysis/src/pyphoplacecellanalysis/External/pyqtgraph/functions.py:3027\u001b[0m, in \u001b[0;36minvertQTransform\u001b[0;34m(tr)\u001b[0m\n\u001b[1;32m   3019\u001b[0m \u001b[39m\u001b[39m\u001b[39m\"\"\"Return a QTransform that is the inverse of *tr*.\u001b[39;00m\n\u001b[1;32m   3020\u001b[0m \u001b[39mA pseudo-inverse is returned if tr is not invertible.\u001b[39;00m\n\u001b[1;32m   3021\u001b[0m \u001b[39m\u001b[39;00m\n\u001b[0;32m   (...)\u001b[0m\n\u001b[1;32m   3024\u001b[0m \u001b[39mwhen determining whether a matrix is invertible)\u001b[39;00m\n\u001b[1;32m   3025\u001b[0m \u001b[39m\"\"\"\u001b[39;00m\n\u001b[1;32m   3026\u001b[0m \u001b[39mtry\u001b[39;00m:\n\u001b[0;32m-> 3027\u001b[0m     det \u001b[39m=\u001b[39m tr\u001b[39m.\u001b[39;49mdeterminant()\n\u001b[1;32m   3028\u001b[0m     detr \u001b[39m=\u001b[39m \u001b[39m1.0\u001b[39m \u001b[39m/\u001b[39m det    \u001b[39m# let singular matrices raise ZeroDivisionError\u001b[39;00m\n\u001b[1;32m   3029\u001b[0m     inv \u001b[39m=\u001b[39m tr\u001b[39m.\u001b[39madjoint()\n",
      "\u001b[0;31mAttributeError\u001b[0m: 'NoneType' object has no attribute 'determinant'"
     ]
    },
    {
     "ename": "AttributeError",
     "evalue": "'NoneType' object has no attribute 'determinant'",
     "output_type": "error",
     "traceback": [
      "\u001b[0;31m---------------------------------------------------------------------------\u001b[0m",
      "\u001b[0;31mAttributeError\u001b[0m                            Traceback (most recent call last)",
      "File \u001b[0;32m~/repos/pyPhoPlaceCellAnalysis/src/pyphoplacecellanalysis/External/pyqtgraph/graphicsItems/GridItem.py:99\u001b[0m, in \u001b[0;36mGridItem.paint\u001b[0;34m(self, p, opt, widget)\u001b[0m\n\u001b[1;32m     92\u001b[0m \u001b[39mdef\u001b[39;00m \u001b[39mpaint\u001b[39m(\u001b[39mself\u001b[39m, p, opt, widget):\n\u001b[1;32m     93\u001b[0m     \u001b[39m#p.setPen(QtGui.QPen(QtGui.QColor(100, 100, 100)))\u001b[39;00m\n\u001b[1;32m     94\u001b[0m     \u001b[39m#p.drawRect(self.boundingRect())\u001b[39;00m\n\u001b[1;32m     95\u001b[0m     \u001b[39m#UIGraphicsItem.paint(self, p, opt, widget)\u001b[39;00m\n\u001b[1;32m     96\u001b[0m     \u001b[39m### draw picture\u001b[39;00m\n\u001b[1;32m     97\u001b[0m     \u001b[39mif\u001b[39;00m \u001b[39mself\u001b[39m\u001b[39m.\u001b[39mpicture \u001b[39mis\u001b[39;00m \u001b[39mNone\u001b[39;00m:\n\u001b[1;32m     98\u001b[0m         \u001b[39m#print \"no pic, draw..\"\u001b[39;00m\n\u001b[0;32m---> 99\u001b[0m         \u001b[39mself\u001b[39;49m\u001b[39m.\u001b[39;49mgeneratePicture()\n\u001b[1;32m    100\u001b[0m     p\u001b[39m.\u001b[39mdrawPicture(QtCore\u001b[39m.\u001b[39mQPointF(\u001b[39m0\u001b[39m, \u001b[39m0\u001b[39m), \u001b[39mself\u001b[39m\u001b[39m.\u001b[39mpicture)\n",
      "File \u001b[0;32m~/repos/pyPhoPlaceCellAnalysis/src/pyphoplacecellanalysis/External/pyqtgraph/graphicsItems/GridItem.py:191\u001b[0m, in \u001b[0;36mGridItem.generatePicture\u001b[0;34m(self)\u001b[0m\n\u001b[1;32m    189\u001b[0m                 texts\u001b[39m.\u001b[39mappend((QtCore\u001b[39m.\u001b[39mQPointF(x, y), \u001b[39m\"\u001b[39m\u001b[39m%g\u001b[39;00m\u001b[39m\"\u001b[39m\u001b[39m%\u001b[39mp1[ax]))\n\u001b[1;32m    190\u001b[0m tr \u001b[39m=\u001b[39m \u001b[39mself\u001b[39m\u001b[39m.\u001b[39mdeviceTransform()\n\u001b[0;32m--> 191\u001b[0m p\u001b[39m.\u001b[39msetWorldTransform(fn\u001b[39m.\u001b[39;49minvertQTransform(tr))\n\u001b[1;32m    193\u001b[0m \u001b[39mif\u001b[39;00m textPen \u001b[39mis\u001b[39;00m \u001b[39mnot\u001b[39;00m \u001b[39mNone\u001b[39;00m \u001b[39mand\u001b[39;00m \u001b[39mlen\u001b[39m(texts) \u001b[39m>\u001b[39m \u001b[39m0\u001b[39m:\n\u001b[1;32m    194\u001b[0m     \u001b[39m# if there is at least one text, then c is set\u001b[39;00m\n\u001b[1;32m    195\u001b[0m     textColor\u001b[39m.\u001b[39msetAlpha(c \u001b[39m*\u001b[39m \u001b[39m2\u001b[39m)\n",
      "File \u001b[0;32m~/repos/pyPhoPlaceCellAnalysis/src/pyphoplacecellanalysis/External/pyqtgraph/functions.py:3027\u001b[0m, in \u001b[0;36minvertQTransform\u001b[0;34m(tr)\u001b[0m\n\u001b[1;32m   3019\u001b[0m \u001b[39m\u001b[39m\u001b[39m\"\"\"Return a QTransform that is the inverse of *tr*.\u001b[39;00m\n\u001b[1;32m   3020\u001b[0m \u001b[39mA pseudo-inverse is returned if tr is not invertible.\u001b[39;00m\n\u001b[1;32m   3021\u001b[0m \u001b[39m\u001b[39;00m\n\u001b[0;32m   (...)\u001b[0m\n\u001b[1;32m   3024\u001b[0m \u001b[39mwhen determining whether a matrix is invertible)\u001b[39;00m\n\u001b[1;32m   3025\u001b[0m \u001b[39m\"\"\"\u001b[39;00m\n\u001b[1;32m   3026\u001b[0m \u001b[39mtry\u001b[39;00m:\n\u001b[0;32m-> 3027\u001b[0m     det \u001b[39m=\u001b[39m tr\u001b[39m.\u001b[39;49mdeterminant()\n\u001b[1;32m   3028\u001b[0m     detr \u001b[39m=\u001b[39m \u001b[39m1.0\u001b[39m \u001b[39m/\u001b[39m det    \u001b[39m# let singular matrices raise ZeroDivisionError\u001b[39;00m\n\u001b[1;32m   3029\u001b[0m     inv \u001b[39m=\u001b[39m tr\u001b[39m.\u001b[39madjoint()\n",
      "\u001b[0;31mAttributeError\u001b[0m: 'NoneType' object has no attribute 'determinant'"
     ]
    },
    {
     "ename": "AttributeError",
     "evalue": "'NoneType' object has no attribute 'determinant'",
     "output_type": "error",
     "traceback": [
      "\u001b[0;31m---------------------------------------------------------------------------\u001b[0m",
      "\u001b[0;31mAttributeError\u001b[0m                            Traceback (most recent call last)",
      "File \u001b[0;32m~/repos/pyPhoPlaceCellAnalysis/src/pyphoplacecellanalysis/External/pyqtgraph/graphicsItems/GridItem.py:99\u001b[0m, in \u001b[0;36mGridItem.paint\u001b[0;34m(self, p, opt, widget)\u001b[0m\n\u001b[1;32m     92\u001b[0m \u001b[39mdef\u001b[39;00m \u001b[39mpaint\u001b[39m(\u001b[39mself\u001b[39m, p, opt, widget):\n\u001b[1;32m     93\u001b[0m     \u001b[39m#p.setPen(QtGui.QPen(QtGui.QColor(100, 100, 100)))\u001b[39;00m\n\u001b[1;32m     94\u001b[0m     \u001b[39m#p.drawRect(self.boundingRect())\u001b[39;00m\n\u001b[1;32m     95\u001b[0m     \u001b[39m#UIGraphicsItem.paint(self, p, opt, widget)\u001b[39;00m\n\u001b[1;32m     96\u001b[0m     \u001b[39m### draw picture\u001b[39;00m\n\u001b[1;32m     97\u001b[0m     \u001b[39mif\u001b[39;00m \u001b[39mself\u001b[39m\u001b[39m.\u001b[39mpicture \u001b[39mis\u001b[39;00m \u001b[39mNone\u001b[39;00m:\n\u001b[1;32m     98\u001b[0m         \u001b[39m#print \"no pic, draw..\"\u001b[39;00m\n\u001b[0;32m---> 99\u001b[0m         \u001b[39mself\u001b[39;49m\u001b[39m.\u001b[39;49mgeneratePicture()\n\u001b[1;32m    100\u001b[0m     p\u001b[39m.\u001b[39mdrawPicture(QtCore\u001b[39m.\u001b[39mQPointF(\u001b[39m0\u001b[39m, \u001b[39m0\u001b[39m), \u001b[39mself\u001b[39m\u001b[39m.\u001b[39mpicture)\n",
      "File \u001b[0;32m~/repos/pyPhoPlaceCellAnalysis/src/pyphoplacecellanalysis/External/pyqtgraph/graphicsItems/GridItem.py:191\u001b[0m, in \u001b[0;36mGridItem.generatePicture\u001b[0;34m(self)\u001b[0m\n\u001b[1;32m    189\u001b[0m                 texts\u001b[39m.\u001b[39mappend((QtCore\u001b[39m.\u001b[39mQPointF(x, y), \u001b[39m\"\u001b[39m\u001b[39m%g\u001b[39;00m\u001b[39m\"\u001b[39m\u001b[39m%\u001b[39mp1[ax]))\n\u001b[1;32m    190\u001b[0m tr \u001b[39m=\u001b[39m \u001b[39mself\u001b[39m\u001b[39m.\u001b[39mdeviceTransform()\n\u001b[0;32m--> 191\u001b[0m p\u001b[39m.\u001b[39msetWorldTransform(fn\u001b[39m.\u001b[39;49minvertQTransform(tr))\n\u001b[1;32m    193\u001b[0m \u001b[39mif\u001b[39;00m textPen \u001b[39mis\u001b[39;00m \u001b[39mnot\u001b[39;00m \u001b[39mNone\u001b[39;00m \u001b[39mand\u001b[39;00m \u001b[39mlen\u001b[39m(texts) \u001b[39m>\u001b[39m \u001b[39m0\u001b[39m:\n\u001b[1;32m    194\u001b[0m     \u001b[39m# if there is at least one text, then c is set\u001b[39;00m\n\u001b[1;32m    195\u001b[0m     textColor\u001b[39m.\u001b[39msetAlpha(c \u001b[39m*\u001b[39m \u001b[39m2\u001b[39m)\n",
      "File \u001b[0;32m~/repos/pyPhoPlaceCellAnalysis/src/pyphoplacecellanalysis/External/pyqtgraph/functions.py:3027\u001b[0m, in \u001b[0;36minvertQTransform\u001b[0;34m(tr)\u001b[0m\n\u001b[1;32m   3019\u001b[0m \u001b[39m\u001b[39m\u001b[39m\"\"\"Return a QTransform that is the inverse of *tr*.\u001b[39;00m\n\u001b[1;32m   3020\u001b[0m \u001b[39mA pseudo-inverse is returned if tr is not invertible.\u001b[39;00m\n\u001b[1;32m   3021\u001b[0m \u001b[39m\u001b[39;00m\n\u001b[0;32m   (...)\u001b[0m\n\u001b[1;32m   3024\u001b[0m \u001b[39mwhen determining whether a matrix is invertible)\u001b[39;00m\n\u001b[1;32m   3025\u001b[0m \u001b[39m\"\"\"\u001b[39;00m\n\u001b[1;32m   3026\u001b[0m \u001b[39mtry\u001b[39;00m:\n\u001b[0;32m-> 3027\u001b[0m     det \u001b[39m=\u001b[39m tr\u001b[39m.\u001b[39;49mdeterminant()\n\u001b[1;32m   3028\u001b[0m     detr \u001b[39m=\u001b[39m \u001b[39m1.0\u001b[39m \u001b[39m/\u001b[39m det    \u001b[39m# let singular matrices raise ZeroDivisionError\u001b[39;00m\n\u001b[1;32m   3029\u001b[0m     inv \u001b[39m=\u001b[39m tr\u001b[39m.\u001b[39madjoint()\n",
      "\u001b[0;31mAttributeError\u001b[0m: 'NoneType' object has no attribute 'determinant'"
     ]
    },
    {
     "ename": "AttributeError",
     "evalue": "'NoneType' object has no attribute 'determinant'",
     "output_type": "error",
     "traceback": [
      "\u001b[0;31m---------------------------------------------------------------------------\u001b[0m",
      "\u001b[0;31mAttributeError\u001b[0m                            Traceback (most recent call last)",
      "File \u001b[0;32m~/repos/pyPhoPlaceCellAnalysis/src/pyphoplacecellanalysis/External/pyqtgraph/graphicsItems/GridItem.py:99\u001b[0m, in \u001b[0;36mGridItem.paint\u001b[0;34m(self, p, opt, widget)\u001b[0m\n\u001b[1;32m     92\u001b[0m \u001b[39mdef\u001b[39;00m \u001b[39mpaint\u001b[39m(\u001b[39mself\u001b[39m, p, opt, widget):\n\u001b[1;32m     93\u001b[0m     \u001b[39m#p.setPen(QtGui.QPen(QtGui.QColor(100, 100, 100)))\u001b[39;00m\n\u001b[1;32m     94\u001b[0m     \u001b[39m#p.drawRect(self.boundingRect())\u001b[39;00m\n\u001b[1;32m     95\u001b[0m     \u001b[39m#UIGraphicsItem.paint(self, p, opt, widget)\u001b[39;00m\n\u001b[1;32m     96\u001b[0m     \u001b[39m### draw picture\u001b[39;00m\n\u001b[1;32m     97\u001b[0m     \u001b[39mif\u001b[39;00m \u001b[39mself\u001b[39m\u001b[39m.\u001b[39mpicture \u001b[39mis\u001b[39;00m \u001b[39mNone\u001b[39;00m:\n\u001b[1;32m     98\u001b[0m         \u001b[39m#print \"no pic, draw..\"\u001b[39;00m\n\u001b[0;32m---> 99\u001b[0m         \u001b[39mself\u001b[39;49m\u001b[39m.\u001b[39;49mgeneratePicture()\n\u001b[1;32m    100\u001b[0m     p\u001b[39m.\u001b[39mdrawPicture(QtCore\u001b[39m.\u001b[39mQPointF(\u001b[39m0\u001b[39m, \u001b[39m0\u001b[39m), \u001b[39mself\u001b[39m\u001b[39m.\u001b[39mpicture)\n",
      "File \u001b[0;32m~/repos/pyPhoPlaceCellAnalysis/src/pyphoplacecellanalysis/External/pyqtgraph/graphicsItems/GridItem.py:191\u001b[0m, in \u001b[0;36mGridItem.generatePicture\u001b[0;34m(self)\u001b[0m\n\u001b[1;32m    189\u001b[0m                 texts\u001b[39m.\u001b[39mappend((QtCore\u001b[39m.\u001b[39mQPointF(x, y), \u001b[39m\"\u001b[39m\u001b[39m%g\u001b[39;00m\u001b[39m\"\u001b[39m\u001b[39m%\u001b[39mp1[ax]))\n\u001b[1;32m    190\u001b[0m tr \u001b[39m=\u001b[39m \u001b[39mself\u001b[39m\u001b[39m.\u001b[39mdeviceTransform()\n\u001b[0;32m--> 191\u001b[0m p\u001b[39m.\u001b[39msetWorldTransform(fn\u001b[39m.\u001b[39;49minvertQTransform(tr))\n\u001b[1;32m    193\u001b[0m \u001b[39mif\u001b[39;00m textPen \u001b[39mis\u001b[39;00m \u001b[39mnot\u001b[39;00m \u001b[39mNone\u001b[39;00m \u001b[39mand\u001b[39;00m \u001b[39mlen\u001b[39m(texts) \u001b[39m>\u001b[39m \u001b[39m0\u001b[39m:\n\u001b[1;32m    194\u001b[0m     \u001b[39m# if there is at least one text, then c is set\u001b[39;00m\n\u001b[1;32m    195\u001b[0m     textColor\u001b[39m.\u001b[39msetAlpha(c \u001b[39m*\u001b[39m \u001b[39m2\u001b[39m)\n",
      "File \u001b[0;32m~/repos/pyPhoPlaceCellAnalysis/src/pyphoplacecellanalysis/External/pyqtgraph/functions.py:3027\u001b[0m, in \u001b[0;36minvertQTransform\u001b[0;34m(tr)\u001b[0m\n\u001b[1;32m   3019\u001b[0m \u001b[39m\u001b[39m\u001b[39m\"\"\"Return a QTransform that is the inverse of *tr*.\u001b[39;00m\n\u001b[1;32m   3020\u001b[0m \u001b[39mA pseudo-inverse is returned if tr is not invertible.\u001b[39;00m\n\u001b[1;32m   3021\u001b[0m \u001b[39m\u001b[39;00m\n\u001b[0;32m   (...)\u001b[0m\n\u001b[1;32m   3024\u001b[0m \u001b[39mwhen determining whether a matrix is invertible)\u001b[39;00m\n\u001b[1;32m   3025\u001b[0m \u001b[39m\"\"\"\u001b[39;00m\n\u001b[1;32m   3026\u001b[0m \u001b[39mtry\u001b[39;00m:\n\u001b[0;32m-> 3027\u001b[0m     det \u001b[39m=\u001b[39m tr\u001b[39m.\u001b[39;49mdeterminant()\n\u001b[1;32m   3028\u001b[0m     detr \u001b[39m=\u001b[39m \u001b[39m1.0\u001b[39m \u001b[39m/\u001b[39m det    \u001b[39m# let singular matrices raise ZeroDivisionError\u001b[39;00m\n\u001b[1;32m   3029\u001b[0m     inv \u001b[39m=\u001b[39m tr\u001b[39m.\u001b[39madjoint()\n",
      "\u001b[0;31mAttributeError\u001b[0m: 'NoneType' object has no attribute 'determinant'"
     ]
    },
    {
     "ename": "AttributeError",
     "evalue": "'NoneType' object has no attribute 'determinant'",
     "output_type": "error",
     "traceback": [
      "\u001b[0;31m---------------------------------------------------------------------------\u001b[0m",
      "\u001b[0;31mAttributeError\u001b[0m                            Traceback (most recent call last)",
      "File \u001b[0;32m~/repos/pyPhoPlaceCellAnalysis/src/pyphoplacecellanalysis/External/pyqtgraph/graphicsItems/GridItem.py:99\u001b[0m, in \u001b[0;36mGridItem.paint\u001b[0;34m(self, p, opt, widget)\u001b[0m\n\u001b[1;32m     92\u001b[0m \u001b[39mdef\u001b[39;00m \u001b[39mpaint\u001b[39m(\u001b[39mself\u001b[39m, p, opt, widget):\n\u001b[1;32m     93\u001b[0m     \u001b[39m#p.setPen(QtGui.QPen(QtGui.QColor(100, 100, 100)))\u001b[39;00m\n\u001b[1;32m     94\u001b[0m     \u001b[39m#p.drawRect(self.boundingRect())\u001b[39;00m\n\u001b[1;32m     95\u001b[0m     \u001b[39m#UIGraphicsItem.paint(self, p, opt, widget)\u001b[39;00m\n\u001b[1;32m     96\u001b[0m     \u001b[39m### draw picture\u001b[39;00m\n\u001b[1;32m     97\u001b[0m     \u001b[39mif\u001b[39;00m \u001b[39mself\u001b[39m\u001b[39m.\u001b[39mpicture \u001b[39mis\u001b[39;00m \u001b[39mNone\u001b[39;00m:\n\u001b[1;32m     98\u001b[0m         \u001b[39m#print \"no pic, draw..\"\u001b[39;00m\n\u001b[0;32m---> 99\u001b[0m         \u001b[39mself\u001b[39;49m\u001b[39m.\u001b[39;49mgeneratePicture()\n\u001b[1;32m    100\u001b[0m     p\u001b[39m.\u001b[39mdrawPicture(QtCore\u001b[39m.\u001b[39mQPointF(\u001b[39m0\u001b[39m, \u001b[39m0\u001b[39m), \u001b[39mself\u001b[39m\u001b[39m.\u001b[39mpicture)\n",
      "File \u001b[0;32m~/repos/pyPhoPlaceCellAnalysis/src/pyphoplacecellanalysis/External/pyqtgraph/graphicsItems/GridItem.py:191\u001b[0m, in \u001b[0;36mGridItem.generatePicture\u001b[0;34m(self)\u001b[0m\n\u001b[1;32m    189\u001b[0m                 texts\u001b[39m.\u001b[39mappend((QtCore\u001b[39m.\u001b[39mQPointF(x, y), \u001b[39m\"\u001b[39m\u001b[39m%g\u001b[39;00m\u001b[39m\"\u001b[39m\u001b[39m%\u001b[39mp1[ax]))\n\u001b[1;32m    190\u001b[0m tr \u001b[39m=\u001b[39m \u001b[39mself\u001b[39m\u001b[39m.\u001b[39mdeviceTransform()\n\u001b[0;32m--> 191\u001b[0m p\u001b[39m.\u001b[39msetWorldTransform(fn\u001b[39m.\u001b[39;49minvertQTransform(tr))\n\u001b[1;32m    193\u001b[0m \u001b[39mif\u001b[39;00m textPen \u001b[39mis\u001b[39;00m \u001b[39mnot\u001b[39;00m \u001b[39mNone\u001b[39;00m \u001b[39mand\u001b[39;00m \u001b[39mlen\u001b[39m(texts) \u001b[39m>\u001b[39m \u001b[39m0\u001b[39m:\n\u001b[1;32m    194\u001b[0m     \u001b[39m# if there is at least one text, then c is set\u001b[39;00m\n\u001b[1;32m    195\u001b[0m     textColor\u001b[39m.\u001b[39msetAlpha(c \u001b[39m*\u001b[39m \u001b[39m2\u001b[39m)\n",
      "File \u001b[0;32m~/repos/pyPhoPlaceCellAnalysis/src/pyphoplacecellanalysis/External/pyqtgraph/functions.py:3027\u001b[0m, in \u001b[0;36minvertQTransform\u001b[0;34m(tr)\u001b[0m\n\u001b[1;32m   3019\u001b[0m \u001b[39m\u001b[39m\u001b[39m\"\"\"Return a QTransform that is the inverse of *tr*.\u001b[39;00m\n\u001b[1;32m   3020\u001b[0m \u001b[39mA pseudo-inverse is returned if tr is not invertible.\u001b[39;00m\n\u001b[1;32m   3021\u001b[0m \u001b[39m\u001b[39;00m\n\u001b[0;32m   (...)\u001b[0m\n\u001b[1;32m   3024\u001b[0m \u001b[39mwhen determining whether a matrix is invertible)\u001b[39;00m\n\u001b[1;32m   3025\u001b[0m \u001b[39m\"\"\"\u001b[39;00m\n\u001b[1;32m   3026\u001b[0m \u001b[39mtry\u001b[39;00m:\n\u001b[0;32m-> 3027\u001b[0m     det \u001b[39m=\u001b[39m tr\u001b[39m.\u001b[39;49mdeterminant()\n\u001b[1;32m   3028\u001b[0m     detr \u001b[39m=\u001b[39m \u001b[39m1.0\u001b[39m \u001b[39m/\u001b[39m det    \u001b[39m# let singular matrices raise ZeroDivisionError\u001b[39;00m\n\u001b[1;32m   3029\u001b[0m     inv \u001b[39m=\u001b[39m tr\u001b[39m.\u001b[39madjoint()\n",
      "\u001b[0;31mAttributeError\u001b[0m: 'NoneType' object has no attribute 'determinant'"
     ]
    },
    {
     "ename": "AttributeError",
     "evalue": "'NoneType' object has no attribute 'determinant'",
     "output_type": "error",
     "traceback": [
      "\u001b[0;31m---------------------------------------------------------------------------\u001b[0m",
      "\u001b[0;31mAttributeError\u001b[0m                            Traceback (most recent call last)",
      "File \u001b[0;32m~/repos/pyPhoPlaceCellAnalysis/src/pyphoplacecellanalysis/External/pyqtgraph/graphicsItems/GridItem.py:99\u001b[0m, in \u001b[0;36mGridItem.paint\u001b[0;34m(self, p, opt, widget)\u001b[0m\n\u001b[1;32m     92\u001b[0m \u001b[39mdef\u001b[39;00m \u001b[39mpaint\u001b[39m(\u001b[39mself\u001b[39m, p, opt, widget):\n\u001b[1;32m     93\u001b[0m     \u001b[39m#p.setPen(QtGui.QPen(QtGui.QColor(100, 100, 100)))\u001b[39;00m\n\u001b[1;32m     94\u001b[0m     \u001b[39m#p.drawRect(self.boundingRect())\u001b[39;00m\n\u001b[1;32m     95\u001b[0m     \u001b[39m#UIGraphicsItem.paint(self, p, opt, widget)\u001b[39;00m\n\u001b[1;32m     96\u001b[0m     \u001b[39m### draw picture\u001b[39;00m\n\u001b[1;32m     97\u001b[0m     \u001b[39mif\u001b[39;00m \u001b[39mself\u001b[39m\u001b[39m.\u001b[39mpicture \u001b[39mis\u001b[39;00m \u001b[39mNone\u001b[39;00m:\n\u001b[1;32m     98\u001b[0m         \u001b[39m#print \"no pic, draw..\"\u001b[39;00m\n\u001b[0;32m---> 99\u001b[0m         \u001b[39mself\u001b[39;49m\u001b[39m.\u001b[39;49mgeneratePicture()\n\u001b[1;32m    100\u001b[0m     p\u001b[39m.\u001b[39mdrawPicture(QtCore\u001b[39m.\u001b[39mQPointF(\u001b[39m0\u001b[39m, \u001b[39m0\u001b[39m), \u001b[39mself\u001b[39m\u001b[39m.\u001b[39mpicture)\n",
      "File \u001b[0;32m~/repos/pyPhoPlaceCellAnalysis/src/pyphoplacecellanalysis/External/pyqtgraph/graphicsItems/GridItem.py:191\u001b[0m, in \u001b[0;36mGridItem.generatePicture\u001b[0;34m(self)\u001b[0m\n\u001b[1;32m    189\u001b[0m                 texts\u001b[39m.\u001b[39mappend((QtCore\u001b[39m.\u001b[39mQPointF(x, y), \u001b[39m\"\u001b[39m\u001b[39m%g\u001b[39;00m\u001b[39m\"\u001b[39m\u001b[39m%\u001b[39mp1[ax]))\n\u001b[1;32m    190\u001b[0m tr \u001b[39m=\u001b[39m \u001b[39mself\u001b[39m\u001b[39m.\u001b[39mdeviceTransform()\n\u001b[0;32m--> 191\u001b[0m p\u001b[39m.\u001b[39msetWorldTransform(fn\u001b[39m.\u001b[39;49minvertQTransform(tr))\n\u001b[1;32m    193\u001b[0m \u001b[39mif\u001b[39;00m textPen \u001b[39mis\u001b[39;00m \u001b[39mnot\u001b[39;00m \u001b[39mNone\u001b[39;00m \u001b[39mand\u001b[39;00m \u001b[39mlen\u001b[39m(texts) \u001b[39m>\u001b[39m \u001b[39m0\u001b[39m:\n\u001b[1;32m    194\u001b[0m     \u001b[39m# if there is at least one text, then c is set\u001b[39;00m\n\u001b[1;32m    195\u001b[0m     textColor\u001b[39m.\u001b[39msetAlpha(c \u001b[39m*\u001b[39m \u001b[39m2\u001b[39m)\n",
      "File \u001b[0;32m~/repos/pyPhoPlaceCellAnalysis/src/pyphoplacecellanalysis/External/pyqtgraph/functions.py:3027\u001b[0m, in \u001b[0;36minvertQTransform\u001b[0;34m(tr)\u001b[0m\n\u001b[1;32m   3019\u001b[0m \u001b[39m\u001b[39m\u001b[39m\"\"\"Return a QTransform that is the inverse of *tr*.\u001b[39;00m\n\u001b[1;32m   3020\u001b[0m \u001b[39mA pseudo-inverse is returned if tr is not invertible.\u001b[39;00m\n\u001b[1;32m   3021\u001b[0m \u001b[39m\u001b[39;00m\n\u001b[0;32m   (...)\u001b[0m\n\u001b[1;32m   3024\u001b[0m \u001b[39mwhen determining whether a matrix is invertible)\u001b[39;00m\n\u001b[1;32m   3025\u001b[0m \u001b[39m\"\"\"\u001b[39;00m\n\u001b[1;32m   3026\u001b[0m \u001b[39mtry\u001b[39;00m:\n\u001b[0;32m-> 3027\u001b[0m     det \u001b[39m=\u001b[39m tr\u001b[39m.\u001b[39;49mdeterminant()\n\u001b[1;32m   3028\u001b[0m     detr \u001b[39m=\u001b[39m \u001b[39m1.0\u001b[39m \u001b[39m/\u001b[39m det    \u001b[39m# let singular matrices raise ZeroDivisionError\u001b[39;00m\n\u001b[1;32m   3029\u001b[0m     inv \u001b[39m=\u001b[39m tr\u001b[39m.\u001b[39madjoint()\n",
      "\u001b[0;31mAttributeError\u001b[0m: 'NoneType' object has no attribute 'determinant'"
     ]
    },
    {
     "ename": "AttributeError",
     "evalue": "'NoneType' object has no attribute 'determinant'",
     "output_type": "error",
     "traceback": [
      "\u001b[0;31m---------------------------------------------------------------------------\u001b[0m",
      "\u001b[0;31mAttributeError\u001b[0m                            Traceback (most recent call last)",
      "File \u001b[0;32m~/repos/pyPhoPlaceCellAnalysis/src/pyphoplacecellanalysis/External/pyqtgraph/graphicsItems/GridItem.py:99\u001b[0m, in \u001b[0;36mGridItem.paint\u001b[0;34m(self, p, opt, widget)\u001b[0m\n\u001b[1;32m     92\u001b[0m \u001b[39mdef\u001b[39;00m \u001b[39mpaint\u001b[39m(\u001b[39mself\u001b[39m, p, opt, widget):\n\u001b[1;32m     93\u001b[0m     \u001b[39m#p.setPen(QtGui.QPen(QtGui.QColor(100, 100, 100)))\u001b[39;00m\n\u001b[1;32m     94\u001b[0m     \u001b[39m#p.drawRect(self.boundingRect())\u001b[39;00m\n\u001b[1;32m     95\u001b[0m     \u001b[39m#UIGraphicsItem.paint(self, p, opt, widget)\u001b[39;00m\n\u001b[1;32m     96\u001b[0m     \u001b[39m### draw picture\u001b[39;00m\n\u001b[1;32m     97\u001b[0m     \u001b[39mif\u001b[39;00m \u001b[39mself\u001b[39m\u001b[39m.\u001b[39mpicture \u001b[39mis\u001b[39;00m \u001b[39mNone\u001b[39;00m:\n\u001b[1;32m     98\u001b[0m         \u001b[39m#print \"no pic, draw..\"\u001b[39;00m\n\u001b[0;32m---> 99\u001b[0m         \u001b[39mself\u001b[39;49m\u001b[39m.\u001b[39;49mgeneratePicture()\n\u001b[1;32m    100\u001b[0m     p\u001b[39m.\u001b[39mdrawPicture(QtCore\u001b[39m.\u001b[39mQPointF(\u001b[39m0\u001b[39m, \u001b[39m0\u001b[39m), \u001b[39mself\u001b[39m\u001b[39m.\u001b[39mpicture)\n",
      "File \u001b[0;32m~/repos/pyPhoPlaceCellAnalysis/src/pyphoplacecellanalysis/External/pyqtgraph/graphicsItems/GridItem.py:191\u001b[0m, in \u001b[0;36mGridItem.generatePicture\u001b[0;34m(self)\u001b[0m\n\u001b[1;32m    189\u001b[0m                 texts\u001b[39m.\u001b[39mappend((QtCore\u001b[39m.\u001b[39mQPointF(x, y), \u001b[39m\"\u001b[39m\u001b[39m%g\u001b[39;00m\u001b[39m\"\u001b[39m\u001b[39m%\u001b[39mp1[ax]))\n\u001b[1;32m    190\u001b[0m tr \u001b[39m=\u001b[39m \u001b[39mself\u001b[39m\u001b[39m.\u001b[39mdeviceTransform()\n\u001b[0;32m--> 191\u001b[0m p\u001b[39m.\u001b[39msetWorldTransform(fn\u001b[39m.\u001b[39;49minvertQTransform(tr))\n\u001b[1;32m    193\u001b[0m \u001b[39mif\u001b[39;00m textPen \u001b[39mis\u001b[39;00m \u001b[39mnot\u001b[39;00m \u001b[39mNone\u001b[39;00m \u001b[39mand\u001b[39;00m \u001b[39mlen\u001b[39m(texts) \u001b[39m>\u001b[39m \u001b[39m0\u001b[39m:\n\u001b[1;32m    194\u001b[0m     \u001b[39m# if there is at least one text, then c is set\u001b[39;00m\n\u001b[1;32m    195\u001b[0m     textColor\u001b[39m.\u001b[39msetAlpha(c \u001b[39m*\u001b[39m \u001b[39m2\u001b[39m)\n",
      "File \u001b[0;32m~/repos/pyPhoPlaceCellAnalysis/src/pyphoplacecellanalysis/External/pyqtgraph/functions.py:3027\u001b[0m, in \u001b[0;36minvertQTransform\u001b[0;34m(tr)\u001b[0m\n\u001b[1;32m   3019\u001b[0m \u001b[39m\u001b[39m\u001b[39m\"\"\"Return a QTransform that is the inverse of *tr*.\u001b[39;00m\n\u001b[1;32m   3020\u001b[0m \u001b[39mA pseudo-inverse is returned if tr is not invertible.\u001b[39;00m\n\u001b[1;32m   3021\u001b[0m \u001b[39m\u001b[39;00m\n\u001b[0;32m   (...)\u001b[0m\n\u001b[1;32m   3024\u001b[0m \u001b[39mwhen determining whether a matrix is invertible)\u001b[39;00m\n\u001b[1;32m   3025\u001b[0m \u001b[39m\"\"\"\u001b[39;00m\n\u001b[1;32m   3026\u001b[0m \u001b[39mtry\u001b[39;00m:\n\u001b[0;32m-> 3027\u001b[0m     det \u001b[39m=\u001b[39m tr\u001b[39m.\u001b[39;49mdeterminant()\n\u001b[1;32m   3028\u001b[0m     detr \u001b[39m=\u001b[39m \u001b[39m1.0\u001b[39m \u001b[39m/\u001b[39m det    \u001b[39m# let singular matrices raise ZeroDivisionError\u001b[39;00m\n\u001b[1;32m   3029\u001b[0m     inv \u001b[39m=\u001b[39m tr\u001b[39m.\u001b[39madjoint()\n",
      "\u001b[0;31mAttributeError\u001b[0m: 'NoneType' object has no attribute 'determinant'"
     ]
    },
    {
     "ename": "AttributeError",
     "evalue": "'NoneType' object has no attribute 'determinant'",
     "output_type": "error",
     "traceback": [
      "\u001b[0;31m---------------------------------------------------------------------------\u001b[0m",
      "\u001b[0;31mAttributeError\u001b[0m                            Traceback (most recent call last)",
      "File \u001b[0;32m~/repos/pyPhoPlaceCellAnalysis/src/pyphoplacecellanalysis/External/pyqtgraph/graphicsItems/GridItem.py:99\u001b[0m, in \u001b[0;36mGridItem.paint\u001b[0;34m(self, p, opt, widget)\u001b[0m\n\u001b[1;32m     92\u001b[0m \u001b[39mdef\u001b[39;00m \u001b[39mpaint\u001b[39m(\u001b[39mself\u001b[39m, p, opt, widget):\n\u001b[1;32m     93\u001b[0m     \u001b[39m#p.setPen(QtGui.QPen(QtGui.QColor(100, 100, 100)))\u001b[39;00m\n\u001b[1;32m     94\u001b[0m     \u001b[39m#p.drawRect(self.boundingRect())\u001b[39;00m\n\u001b[1;32m     95\u001b[0m     \u001b[39m#UIGraphicsItem.paint(self, p, opt, widget)\u001b[39;00m\n\u001b[1;32m     96\u001b[0m     \u001b[39m### draw picture\u001b[39;00m\n\u001b[1;32m     97\u001b[0m     \u001b[39mif\u001b[39;00m \u001b[39mself\u001b[39m\u001b[39m.\u001b[39mpicture \u001b[39mis\u001b[39;00m \u001b[39mNone\u001b[39;00m:\n\u001b[1;32m     98\u001b[0m         \u001b[39m#print \"no pic, draw..\"\u001b[39;00m\n\u001b[0;32m---> 99\u001b[0m         \u001b[39mself\u001b[39;49m\u001b[39m.\u001b[39;49mgeneratePicture()\n\u001b[1;32m    100\u001b[0m     p\u001b[39m.\u001b[39mdrawPicture(QtCore\u001b[39m.\u001b[39mQPointF(\u001b[39m0\u001b[39m, \u001b[39m0\u001b[39m), \u001b[39mself\u001b[39m\u001b[39m.\u001b[39mpicture)\n",
      "File \u001b[0;32m~/repos/pyPhoPlaceCellAnalysis/src/pyphoplacecellanalysis/External/pyqtgraph/graphicsItems/GridItem.py:191\u001b[0m, in \u001b[0;36mGridItem.generatePicture\u001b[0;34m(self)\u001b[0m\n\u001b[1;32m    189\u001b[0m                 texts\u001b[39m.\u001b[39mappend((QtCore\u001b[39m.\u001b[39mQPointF(x, y), \u001b[39m\"\u001b[39m\u001b[39m%g\u001b[39;00m\u001b[39m\"\u001b[39m\u001b[39m%\u001b[39mp1[ax]))\n\u001b[1;32m    190\u001b[0m tr \u001b[39m=\u001b[39m \u001b[39mself\u001b[39m\u001b[39m.\u001b[39mdeviceTransform()\n\u001b[0;32m--> 191\u001b[0m p\u001b[39m.\u001b[39msetWorldTransform(fn\u001b[39m.\u001b[39;49minvertQTransform(tr))\n\u001b[1;32m    193\u001b[0m \u001b[39mif\u001b[39;00m textPen \u001b[39mis\u001b[39;00m \u001b[39mnot\u001b[39;00m \u001b[39mNone\u001b[39;00m \u001b[39mand\u001b[39;00m \u001b[39mlen\u001b[39m(texts) \u001b[39m>\u001b[39m \u001b[39m0\u001b[39m:\n\u001b[1;32m    194\u001b[0m     \u001b[39m# if there is at least one text, then c is set\u001b[39;00m\n\u001b[1;32m    195\u001b[0m     textColor\u001b[39m.\u001b[39msetAlpha(c \u001b[39m*\u001b[39m \u001b[39m2\u001b[39m)\n",
      "File \u001b[0;32m~/repos/pyPhoPlaceCellAnalysis/src/pyphoplacecellanalysis/External/pyqtgraph/functions.py:3027\u001b[0m, in \u001b[0;36minvertQTransform\u001b[0;34m(tr)\u001b[0m\n\u001b[1;32m   3019\u001b[0m \u001b[39m\u001b[39m\u001b[39m\"\"\"Return a QTransform that is the inverse of *tr*.\u001b[39;00m\n\u001b[1;32m   3020\u001b[0m \u001b[39mA pseudo-inverse is returned if tr is not invertible.\u001b[39;00m\n\u001b[1;32m   3021\u001b[0m \u001b[39m\u001b[39;00m\n\u001b[0;32m   (...)\u001b[0m\n\u001b[1;32m   3024\u001b[0m \u001b[39mwhen determining whether a matrix is invertible)\u001b[39;00m\n\u001b[1;32m   3025\u001b[0m \u001b[39m\"\"\"\u001b[39;00m\n\u001b[1;32m   3026\u001b[0m \u001b[39mtry\u001b[39;00m:\n\u001b[0;32m-> 3027\u001b[0m     det \u001b[39m=\u001b[39m tr\u001b[39m.\u001b[39;49mdeterminant()\n\u001b[1;32m   3028\u001b[0m     detr \u001b[39m=\u001b[39m \u001b[39m1.0\u001b[39m \u001b[39m/\u001b[39m det    \u001b[39m# let singular matrices raise ZeroDivisionError\u001b[39;00m\n\u001b[1;32m   3029\u001b[0m     inv \u001b[39m=\u001b[39m tr\u001b[39m.\u001b[39madjoint()\n",
      "\u001b[0;31mAttributeError\u001b[0m: 'NoneType' object has no attribute 'determinant'"
     ]
    },
    {
     "ename": "AttributeError",
     "evalue": "'NoneType' object has no attribute 'determinant'",
     "output_type": "error",
     "traceback": [
      "\u001b[0;31m---------------------------------------------------------------------------\u001b[0m",
      "\u001b[0;31mAttributeError\u001b[0m                            Traceback (most recent call last)",
      "File \u001b[0;32m~/repos/pyPhoPlaceCellAnalysis/src/pyphoplacecellanalysis/External/pyqtgraph/graphicsItems/GridItem.py:99\u001b[0m, in \u001b[0;36mGridItem.paint\u001b[0;34m(self, p, opt, widget)\u001b[0m\n\u001b[1;32m     92\u001b[0m \u001b[39mdef\u001b[39;00m \u001b[39mpaint\u001b[39m(\u001b[39mself\u001b[39m, p, opt, widget):\n\u001b[1;32m     93\u001b[0m     \u001b[39m#p.setPen(QtGui.QPen(QtGui.QColor(100, 100, 100)))\u001b[39;00m\n\u001b[1;32m     94\u001b[0m     \u001b[39m#p.drawRect(self.boundingRect())\u001b[39;00m\n\u001b[1;32m     95\u001b[0m     \u001b[39m#UIGraphicsItem.paint(self, p, opt, widget)\u001b[39;00m\n\u001b[1;32m     96\u001b[0m     \u001b[39m### draw picture\u001b[39;00m\n\u001b[1;32m     97\u001b[0m     \u001b[39mif\u001b[39;00m \u001b[39mself\u001b[39m\u001b[39m.\u001b[39mpicture \u001b[39mis\u001b[39;00m \u001b[39mNone\u001b[39;00m:\n\u001b[1;32m     98\u001b[0m         \u001b[39m#print \"no pic, draw..\"\u001b[39;00m\n\u001b[0;32m---> 99\u001b[0m         \u001b[39mself\u001b[39;49m\u001b[39m.\u001b[39;49mgeneratePicture()\n\u001b[1;32m    100\u001b[0m     p\u001b[39m.\u001b[39mdrawPicture(QtCore\u001b[39m.\u001b[39mQPointF(\u001b[39m0\u001b[39m, \u001b[39m0\u001b[39m), \u001b[39mself\u001b[39m\u001b[39m.\u001b[39mpicture)\n",
      "File \u001b[0;32m~/repos/pyPhoPlaceCellAnalysis/src/pyphoplacecellanalysis/External/pyqtgraph/graphicsItems/GridItem.py:191\u001b[0m, in \u001b[0;36mGridItem.generatePicture\u001b[0;34m(self)\u001b[0m\n\u001b[1;32m    189\u001b[0m                 texts\u001b[39m.\u001b[39mappend((QtCore\u001b[39m.\u001b[39mQPointF(x, y), \u001b[39m\"\u001b[39m\u001b[39m%g\u001b[39;00m\u001b[39m\"\u001b[39m\u001b[39m%\u001b[39mp1[ax]))\n\u001b[1;32m    190\u001b[0m tr \u001b[39m=\u001b[39m \u001b[39mself\u001b[39m\u001b[39m.\u001b[39mdeviceTransform()\n\u001b[0;32m--> 191\u001b[0m p\u001b[39m.\u001b[39msetWorldTransform(fn\u001b[39m.\u001b[39;49minvertQTransform(tr))\n\u001b[1;32m    193\u001b[0m \u001b[39mif\u001b[39;00m textPen \u001b[39mis\u001b[39;00m \u001b[39mnot\u001b[39;00m \u001b[39mNone\u001b[39;00m \u001b[39mand\u001b[39;00m \u001b[39mlen\u001b[39m(texts) \u001b[39m>\u001b[39m \u001b[39m0\u001b[39m:\n\u001b[1;32m    194\u001b[0m     \u001b[39m# if there is at least one text, then c is set\u001b[39;00m\n\u001b[1;32m    195\u001b[0m     textColor\u001b[39m.\u001b[39msetAlpha(c \u001b[39m*\u001b[39m \u001b[39m2\u001b[39m)\n",
      "File \u001b[0;32m~/repos/pyPhoPlaceCellAnalysis/src/pyphoplacecellanalysis/External/pyqtgraph/functions.py:3027\u001b[0m, in \u001b[0;36minvertQTransform\u001b[0;34m(tr)\u001b[0m\n\u001b[1;32m   3019\u001b[0m \u001b[39m\u001b[39m\u001b[39m\"\"\"Return a QTransform that is the inverse of *tr*.\u001b[39;00m\n\u001b[1;32m   3020\u001b[0m \u001b[39mA pseudo-inverse is returned if tr is not invertible.\u001b[39;00m\n\u001b[1;32m   3021\u001b[0m \u001b[39m\u001b[39;00m\n\u001b[0;32m   (...)\u001b[0m\n\u001b[1;32m   3024\u001b[0m \u001b[39mwhen determining whether a matrix is invertible)\u001b[39;00m\n\u001b[1;32m   3025\u001b[0m \u001b[39m\"\"\"\u001b[39;00m\n\u001b[1;32m   3026\u001b[0m \u001b[39mtry\u001b[39;00m:\n\u001b[0;32m-> 3027\u001b[0m     det \u001b[39m=\u001b[39m tr\u001b[39m.\u001b[39;49mdeterminant()\n\u001b[1;32m   3028\u001b[0m     detr \u001b[39m=\u001b[39m \u001b[39m1.0\u001b[39m \u001b[39m/\u001b[39m det    \u001b[39m# let singular matrices raise ZeroDivisionError\u001b[39;00m\n\u001b[1;32m   3029\u001b[0m     inv \u001b[39m=\u001b[39m tr\u001b[39m.\u001b[39madjoint()\n",
      "\u001b[0;31mAttributeError\u001b[0m: 'NoneType' object has no attribute 'determinant'"
     ]
    },
    {
     "ename": "AttributeError",
     "evalue": "'NoneType' object has no attribute 'determinant'",
     "output_type": "error",
     "traceback": [
      "\u001b[0;31m---------------------------------------------------------------------------\u001b[0m",
      "\u001b[0;31mAttributeError\u001b[0m                            Traceback (most recent call last)",
      "File \u001b[0;32m~/repos/pyPhoPlaceCellAnalysis/src/pyphoplacecellanalysis/External/pyqtgraph/graphicsItems/GridItem.py:99\u001b[0m, in \u001b[0;36mGridItem.paint\u001b[0;34m(self, p, opt, widget)\u001b[0m\n\u001b[1;32m     92\u001b[0m \u001b[39mdef\u001b[39;00m \u001b[39mpaint\u001b[39m(\u001b[39mself\u001b[39m, p, opt, widget):\n\u001b[1;32m     93\u001b[0m     \u001b[39m#p.setPen(QtGui.QPen(QtGui.QColor(100, 100, 100)))\u001b[39;00m\n\u001b[1;32m     94\u001b[0m     \u001b[39m#p.drawRect(self.boundingRect())\u001b[39;00m\n\u001b[1;32m     95\u001b[0m     \u001b[39m#UIGraphicsItem.paint(self, p, opt, widget)\u001b[39;00m\n\u001b[1;32m     96\u001b[0m     \u001b[39m### draw picture\u001b[39;00m\n\u001b[1;32m     97\u001b[0m     \u001b[39mif\u001b[39;00m \u001b[39mself\u001b[39m\u001b[39m.\u001b[39mpicture \u001b[39mis\u001b[39;00m \u001b[39mNone\u001b[39;00m:\n\u001b[1;32m     98\u001b[0m         \u001b[39m#print \"no pic, draw..\"\u001b[39;00m\n\u001b[0;32m---> 99\u001b[0m         \u001b[39mself\u001b[39;49m\u001b[39m.\u001b[39;49mgeneratePicture()\n\u001b[1;32m    100\u001b[0m     p\u001b[39m.\u001b[39mdrawPicture(QtCore\u001b[39m.\u001b[39mQPointF(\u001b[39m0\u001b[39m, \u001b[39m0\u001b[39m), \u001b[39mself\u001b[39m\u001b[39m.\u001b[39mpicture)\n",
      "File \u001b[0;32m~/repos/pyPhoPlaceCellAnalysis/src/pyphoplacecellanalysis/External/pyqtgraph/graphicsItems/GridItem.py:191\u001b[0m, in \u001b[0;36mGridItem.generatePicture\u001b[0;34m(self)\u001b[0m\n\u001b[1;32m    189\u001b[0m                 texts\u001b[39m.\u001b[39mappend((QtCore\u001b[39m.\u001b[39mQPointF(x, y), \u001b[39m\"\u001b[39m\u001b[39m%g\u001b[39;00m\u001b[39m\"\u001b[39m\u001b[39m%\u001b[39mp1[ax]))\n\u001b[1;32m    190\u001b[0m tr \u001b[39m=\u001b[39m \u001b[39mself\u001b[39m\u001b[39m.\u001b[39mdeviceTransform()\n\u001b[0;32m--> 191\u001b[0m p\u001b[39m.\u001b[39msetWorldTransform(fn\u001b[39m.\u001b[39;49minvertQTransform(tr))\n\u001b[1;32m    193\u001b[0m \u001b[39mif\u001b[39;00m textPen \u001b[39mis\u001b[39;00m \u001b[39mnot\u001b[39;00m \u001b[39mNone\u001b[39;00m \u001b[39mand\u001b[39;00m \u001b[39mlen\u001b[39m(texts) \u001b[39m>\u001b[39m \u001b[39m0\u001b[39m:\n\u001b[1;32m    194\u001b[0m     \u001b[39m# if there is at least one text, then c is set\u001b[39;00m\n\u001b[1;32m    195\u001b[0m     textColor\u001b[39m.\u001b[39msetAlpha(c \u001b[39m*\u001b[39m \u001b[39m2\u001b[39m)\n",
      "File \u001b[0;32m~/repos/pyPhoPlaceCellAnalysis/src/pyphoplacecellanalysis/External/pyqtgraph/functions.py:3027\u001b[0m, in \u001b[0;36minvertQTransform\u001b[0;34m(tr)\u001b[0m\n\u001b[1;32m   3019\u001b[0m \u001b[39m\u001b[39m\u001b[39m\"\"\"Return a QTransform that is the inverse of *tr*.\u001b[39;00m\n\u001b[1;32m   3020\u001b[0m \u001b[39mA pseudo-inverse is returned if tr is not invertible.\u001b[39;00m\n\u001b[1;32m   3021\u001b[0m \u001b[39m\u001b[39;00m\n\u001b[0;32m   (...)\u001b[0m\n\u001b[1;32m   3024\u001b[0m \u001b[39mwhen determining whether a matrix is invertible)\u001b[39;00m\n\u001b[1;32m   3025\u001b[0m \u001b[39m\"\"\"\u001b[39;00m\n\u001b[1;32m   3026\u001b[0m \u001b[39mtry\u001b[39;00m:\n\u001b[0;32m-> 3027\u001b[0m     det \u001b[39m=\u001b[39m tr\u001b[39m.\u001b[39;49mdeterminant()\n\u001b[1;32m   3028\u001b[0m     detr \u001b[39m=\u001b[39m \u001b[39m1.0\u001b[39m \u001b[39m/\u001b[39m det    \u001b[39m# let singular matrices raise ZeroDivisionError\u001b[39;00m\n\u001b[1;32m   3029\u001b[0m     inv \u001b[39m=\u001b[39m tr\u001b[39m.\u001b[39madjoint()\n",
      "\u001b[0;31mAttributeError\u001b[0m: 'NoneType' object has no attribute 'determinant'"
     ]
    },
    {
     "ename": "AttributeError",
     "evalue": "'NoneType' object has no attribute 'determinant'",
     "output_type": "error",
     "traceback": [
      "\u001b[0;31m---------------------------------------------------------------------------\u001b[0m",
      "\u001b[0;31mAttributeError\u001b[0m                            Traceback (most recent call last)",
      "File \u001b[0;32m~/repos/pyPhoPlaceCellAnalysis/src/pyphoplacecellanalysis/External/pyqtgraph/graphicsItems/GridItem.py:99\u001b[0m, in \u001b[0;36mGridItem.paint\u001b[0;34m(self, p, opt, widget)\u001b[0m\n\u001b[1;32m     92\u001b[0m \u001b[39mdef\u001b[39;00m \u001b[39mpaint\u001b[39m(\u001b[39mself\u001b[39m, p, opt, widget):\n\u001b[1;32m     93\u001b[0m     \u001b[39m#p.setPen(QtGui.QPen(QtGui.QColor(100, 100, 100)))\u001b[39;00m\n\u001b[1;32m     94\u001b[0m     \u001b[39m#p.drawRect(self.boundingRect())\u001b[39;00m\n\u001b[1;32m     95\u001b[0m     \u001b[39m#UIGraphicsItem.paint(self, p, opt, widget)\u001b[39;00m\n\u001b[1;32m     96\u001b[0m     \u001b[39m### draw picture\u001b[39;00m\n\u001b[1;32m     97\u001b[0m     \u001b[39mif\u001b[39;00m \u001b[39mself\u001b[39m\u001b[39m.\u001b[39mpicture \u001b[39mis\u001b[39;00m \u001b[39mNone\u001b[39;00m:\n\u001b[1;32m     98\u001b[0m         \u001b[39m#print \"no pic, draw..\"\u001b[39;00m\n\u001b[0;32m---> 99\u001b[0m         \u001b[39mself\u001b[39;49m\u001b[39m.\u001b[39;49mgeneratePicture()\n\u001b[1;32m    100\u001b[0m     p\u001b[39m.\u001b[39mdrawPicture(QtCore\u001b[39m.\u001b[39mQPointF(\u001b[39m0\u001b[39m, \u001b[39m0\u001b[39m), \u001b[39mself\u001b[39m\u001b[39m.\u001b[39mpicture)\n",
      "File \u001b[0;32m~/repos/pyPhoPlaceCellAnalysis/src/pyphoplacecellanalysis/External/pyqtgraph/graphicsItems/GridItem.py:191\u001b[0m, in \u001b[0;36mGridItem.generatePicture\u001b[0;34m(self)\u001b[0m\n\u001b[1;32m    189\u001b[0m                 texts\u001b[39m.\u001b[39mappend((QtCore\u001b[39m.\u001b[39mQPointF(x, y), \u001b[39m\"\u001b[39m\u001b[39m%g\u001b[39;00m\u001b[39m\"\u001b[39m\u001b[39m%\u001b[39mp1[ax]))\n\u001b[1;32m    190\u001b[0m tr \u001b[39m=\u001b[39m \u001b[39mself\u001b[39m\u001b[39m.\u001b[39mdeviceTransform()\n\u001b[0;32m--> 191\u001b[0m p\u001b[39m.\u001b[39msetWorldTransform(fn\u001b[39m.\u001b[39;49minvertQTransform(tr))\n\u001b[1;32m    193\u001b[0m \u001b[39mif\u001b[39;00m textPen \u001b[39mis\u001b[39;00m \u001b[39mnot\u001b[39;00m \u001b[39mNone\u001b[39;00m \u001b[39mand\u001b[39;00m \u001b[39mlen\u001b[39m(texts) \u001b[39m>\u001b[39m \u001b[39m0\u001b[39m:\n\u001b[1;32m    194\u001b[0m     \u001b[39m# if there is at least one text, then c is set\u001b[39;00m\n\u001b[1;32m    195\u001b[0m     textColor\u001b[39m.\u001b[39msetAlpha(c \u001b[39m*\u001b[39m \u001b[39m2\u001b[39m)\n",
      "File \u001b[0;32m~/repos/pyPhoPlaceCellAnalysis/src/pyphoplacecellanalysis/External/pyqtgraph/functions.py:3027\u001b[0m, in \u001b[0;36minvertQTransform\u001b[0;34m(tr)\u001b[0m\n\u001b[1;32m   3019\u001b[0m \u001b[39m\u001b[39m\u001b[39m\"\"\"Return a QTransform that is the inverse of *tr*.\u001b[39;00m\n\u001b[1;32m   3020\u001b[0m \u001b[39mA pseudo-inverse is returned if tr is not invertible.\u001b[39;00m\n\u001b[1;32m   3021\u001b[0m \u001b[39m\u001b[39;00m\n\u001b[0;32m   (...)\u001b[0m\n\u001b[1;32m   3024\u001b[0m \u001b[39mwhen determining whether a matrix is invertible)\u001b[39;00m\n\u001b[1;32m   3025\u001b[0m \u001b[39m\"\"\"\u001b[39;00m\n\u001b[1;32m   3026\u001b[0m \u001b[39mtry\u001b[39;00m:\n\u001b[0;32m-> 3027\u001b[0m     det \u001b[39m=\u001b[39m tr\u001b[39m.\u001b[39;49mdeterminant()\n\u001b[1;32m   3028\u001b[0m     detr \u001b[39m=\u001b[39m \u001b[39m1.0\u001b[39m \u001b[39m/\u001b[39m det    \u001b[39m# let singular matrices raise ZeroDivisionError\u001b[39;00m\n\u001b[1;32m   3029\u001b[0m     inv \u001b[39m=\u001b[39m tr\u001b[39m.\u001b[39madjoint()\n",
      "\u001b[0;31mAttributeError\u001b[0m: 'NoneType' object has no attribute 'determinant'"
     ]
    },
    {
     "ename": "AttributeError",
     "evalue": "'NoneType' object has no attribute 'determinant'",
     "output_type": "error",
     "traceback": [
      "\u001b[0;31m---------------------------------------------------------------------------\u001b[0m",
      "\u001b[0;31mAttributeError\u001b[0m                            Traceback (most recent call last)",
      "File \u001b[0;32m~/repos/pyPhoPlaceCellAnalysis/src/pyphoplacecellanalysis/External/pyqtgraph/graphicsItems/GridItem.py:99\u001b[0m, in \u001b[0;36mGridItem.paint\u001b[0;34m(self, p, opt, widget)\u001b[0m\n\u001b[1;32m     92\u001b[0m \u001b[39mdef\u001b[39;00m \u001b[39mpaint\u001b[39m(\u001b[39mself\u001b[39m, p, opt, widget):\n\u001b[1;32m     93\u001b[0m     \u001b[39m#p.setPen(QtGui.QPen(QtGui.QColor(100, 100, 100)))\u001b[39;00m\n\u001b[1;32m     94\u001b[0m     \u001b[39m#p.drawRect(self.boundingRect())\u001b[39;00m\n\u001b[1;32m     95\u001b[0m     \u001b[39m#UIGraphicsItem.paint(self, p, opt, widget)\u001b[39;00m\n\u001b[1;32m     96\u001b[0m     \u001b[39m### draw picture\u001b[39;00m\n\u001b[1;32m     97\u001b[0m     \u001b[39mif\u001b[39;00m \u001b[39mself\u001b[39m\u001b[39m.\u001b[39mpicture \u001b[39mis\u001b[39;00m \u001b[39mNone\u001b[39;00m:\n\u001b[1;32m     98\u001b[0m         \u001b[39m#print \"no pic, draw..\"\u001b[39;00m\n\u001b[0;32m---> 99\u001b[0m         \u001b[39mself\u001b[39;49m\u001b[39m.\u001b[39;49mgeneratePicture()\n\u001b[1;32m    100\u001b[0m     p\u001b[39m.\u001b[39mdrawPicture(QtCore\u001b[39m.\u001b[39mQPointF(\u001b[39m0\u001b[39m, \u001b[39m0\u001b[39m), \u001b[39mself\u001b[39m\u001b[39m.\u001b[39mpicture)\n",
      "File \u001b[0;32m~/repos/pyPhoPlaceCellAnalysis/src/pyphoplacecellanalysis/External/pyqtgraph/graphicsItems/GridItem.py:191\u001b[0m, in \u001b[0;36mGridItem.generatePicture\u001b[0;34m(self)\u001b[0m\n\u001b[1;32m    189\u001b[0m                 texts\u001b[39m.\u001b[39mappend((QtCore\u001b[39m.\u001b[39mQPointF(x, y), \u001b[39m\"\u001b[39m\u001b[39m%g\u001b[39;00m\u001b[39m\"\u001b[39m\u001b[39m%\u001b[39mp1[ax]))\n\u001b[1;32m    190\u001b[0m tr \u001b[39m=\u001b[39m \u001b[39mself\u001b[39m\u001b[39m.\u001b[39mdeviceTransform()\n\u001b[0;32m--> 191\u001b[0m p\u001b[39m.\u001b[39msetWorldTransform(fn\u001b[39m.\u001b[39;49minvertQTransform(tr))\n\u001b[1;32m    193\u001b[0m \u001b[39mif\u001b[39;00m textPen \u001b[39mis\u001b[39;00m \u001b[39mnot\u001b[39;00m \u001b[39mNone\u001b[39;00m \u001b[39mand\u001b[39;00m \u001b[39mlen\u001b[39m(texts) \u001b[39m>\u001b[39m \u001b[39m0\u001b[39m:\n\u001b[1;32m    194\u001b[0m     \u001b[39m# if there is at least one text, then c is set\u001b[39;00m\n\u001b[1;32m    195\u001b[0m     textColor\u001b[39m.\u001b[39msetAlpha(c \u001b[39m*\u001b[39m \u001b[39m2\u001b[39m)\n",
      "File \u001b[0;32m~/repos/pyPhoPlaceCellAnalysis/src/pyphoplacecellanalysis/External/pyqtgraph/functions.py:3027\u001b[0m, in \u001b[0;36minvertQTransform\u001b[0;34m(tr)\u001b[0m\n\u001b[1;32m   3019\u001b[0m \u001b[39m\u001b[39m\u001b[39m\"\"\"Return a QTransform that is the inverse of *tr*.\u001b[39;00m\n\u001b[1;32m   3020\u001b[0m \u001b[39mA pseudo-inverse is returned if tr is not invertible.\u001b[39;00m\n\u001b[1;32m   3021\u001b[0m \u001b[39m\u001b[39;00m\n\u001b[0;32m   (...)\u001b[0m\n\u001b[1;32m   3024\u001b[0m \u001b[39mwhen determining whether a matrix is invertible)\u001b[39;00m\n\u001b[1;32m   3025\u001b[0m \u001b[39m\"\"\"\u001b[39;00m\n\u001b[1;32m   3026\u001b[0m \u001b[39mtry\u001b[39;00m:\n\u001b[0;32m-> 3027\u001b[0m     det \u001b[39m=\u001b[39m tr\u001b[39m.\u001b[39;49mdeterminant()\n\u001b[1;32m   3028\u001b[0m     detr \u001b[39m=\u001b[39m \u001b[39m1.0\u001b[39m \u001b[39m/\u001b[39m det    \u001b[39m# let singular matrices raise ZeroDivisionError\u001b[39;00m\n\u001b[1;32m   3029\u001b[0m     inv \u001b[39m=\u001b[39m tr\u001b[39m.\u001b[39madjoint()\n",
      "\u001b[0;31mAttributeError\u001b[0m: 'NoneType' object has no attribute 'determinant'"
     ]
    },
    {
     "ename": "AttributeError",
     "evalue": "'NoneType' object has no attribute 'determinant'",
     "output_type": "error",
     "traceback": [
      "\u001b[0;31m---------------------------------------------------------------------------\u001b[0m",
      "\u001b[0;31mAttributeError\u001b[0m                            Traceback (most recent call last)",
      "File \u001b[0;32m~/repos/pyPhoPlaceCellAnalysis/src/pyphoplacecellanalysis/External/pyqtgraph/graphicsItems/GridItem.py:99\u001b[0m, in \u001b[0;36mGridItem.paint\u001b[0;34m(self, p, opt, widget)\u001b[0m\n\u001b[1;32m     92\u001b[0m \u001b[39mdef\u001b[39;00m \u001b[39mpaint\u001b[39m(\u001b[39mself\u001b[39m, p, opt, widget):\n\u001b[1;32m     93\u001b[0m     \u001b[39m#p.setPen(QtGui.QPen(QtGui.QColor(100, 100, 100)))\u001b[39;00m\n\u001b[1;32m     94\u001b[0m     \u001b[39m#p.drawRect(self.boundingRect())\u001b[39;00m\n\u001b[1;32m     95\u001b[0m     \u001b[39m#UIGraphicsItem.paint(self, p, opt, widget)\u001b[39;00m\n\u001b[1;32m     96\u001b[0m     \u001b[39m### draw picture\u001b[39;00m\n\u001b[1;32m     97\u001b[0m     \u001b[39mif\u001b[39;00m \u001b[39mself\u001b[39m\u001b[39m.\u001b[39mpicture \u001b[39mis\u001b[39;00m \u001b[39mNone\u001b[39;00m:\n\u001b[1;32m     98\u001b[0m         \u001b[39m#print \"no pic, draw..\"\u001b[39;00m\n\u001b[0;32m---> 99\u001b[0m         \u001b[39mself\u001b[39;49m\u001b[39m.\u001b[39;49mgeneratePicture()\n\u001b[1;32m    100\u001b[0m     p\u001b[39m.\u001b[39mdrawPicture(QtCore\u001b[39m.\u001b[39mQPointF(\u001b[39m0\u001b[39m, \u001b[39m0\u001b[39m), \u001b[39mself\u001b[39m\u001b[39m.\u001b[39mpicture)\n",
      "File \u001b[0;32m~/repos/pyPhoPlaceCellAnalysis/src/pyphoplacecellanalysis/External/pyqtgraph/graphicsItems/GridItem.py:191\u001b[0m, in \u001b[0;36mGridItem.generatePicture\u001b[0;34m(self)\u001b[0m\n\u001b[1;32m    189\u001b[0m                 texts\u001b[39m.\u001b[39mappend((QtCore\u001b[39m.\u001b[39mQPointF(x, y), \u001b[39m\"\u001b[39m\u001b[39m%g\u001b[39;00m\u001b[39m\"\u001b[39m\u001b[39m%\u001b[39mp1[ax]))\n\u001b[1;32m    190\u001b[0m tr \u001b[39m=\u001b[39m \u001b[39mself\u001b[39m\u001b[39m.\u001b[39mdeviceTransform()\n\u001b[0;32m--> 191\u001b[0m p\u001b[39m.\u001b[39msetWorldTransform(fn\u001b[39m.\u001b[39;49minvertQTransform(tr))\n\u001b[1;32m    193\u001b[0m \u001b[39mif\u001b[39;00m textPen \u001b[39mis\u001b[39;00m \u001b[39mnot\u001b[39;00m \u001b[39mNone\u001b[39;00m \u001b[39mand\u001b[39;00m \u001b[39mlen\u001b[39m(texts) \u001b[39m>\u001b[39m \u001b[39m0\u001b[39m:\n\u001b[1;32m    194\u001b[0m     \u001b[39m# if there is at least one text, then c is set\u001b[39;00m\n\u001b[1;32m    195\u001b[0m     textColor\u001b[39m.\u001b[39msetAlpha(c \u001b[39m*\u001b[39m \u001b[39m2\u001b[39m)\n",
      "File \u001b[0;32m~/repos/pyPhoPlaceCellAnalysis/src/pyphoplacecellanalysis/External/pyqtgraph/functions.py:3027\u001b[0m, in \u001b[0;36minvertQTransform\u001b[0;34m(tr)\u001b[0m\n\u001b[1;32m   3019\u001b[0m \u001b[39m\u001b[39m\u001b[39m\"\"\"Return a QTransform that is the inverse of *tr*.\u001b[39;00m\n\u001b[1;32m   3020\u001b[0m \u001b[39mA pseudo-inverse is returned if tr is not invertible.\u001b[39;00m\n\u001b[1;32m   3021\u001b[0m \u001b[39m\u001b[39;00m\n\u001b[0;32m   (...)\u001b[0m\n\u001b[1;32m   3024\u001b[0m \u001b[39mwhen determining whether a matrix is invertible)\u001b[39;00m\n\u001b[1;32m   3025\u001b[0m \u001b[39m\"\"\"\u001b[39;00m\n\u001b[1;32m   3026\u001b[0m \u001b[39mtry\u001b[39;00m:\n\u001b[0;32m-> 3027\u001b[0m     det \u001b[39m=\u001b[39m tr\u001b[39m.\u001b[39;49mdeterminant()\n\u001b[1;32m   3028\u001b[0m     detr \u001b[39m=\u001b[39m \u001b[39m1.0\u001b[39m \u001b[39m/\u001b[39m det    \u001b[39m# let singular matrices raise ZeroDivisionError\u001b[39;00m\n\u001b[1;32m   3029\u001b[0m     inv \u001b[39m=\u001b[39m tr\u001b[39m.\u001b[39madjoint()\n",
      "\u001b[0;31mAttributeError\u001b[0m: 'NoneType' object has no attribute 'determinant'"
     ]
    },
    {
     "ename": "AttributeError",
     "evalue": "'NoneType' object has no attribute 'determinant'",
     "output_type": "error",
     "traceback": [
      "\u001b[0;31m---------------------------------------------------------------------------\u001b[0m",
      "\u001b[0;31mAttributeError\u001b[0m                            Traceback (most recent call last)",
      "File \u001b[0;32m~/repos/pyPhoPlaceCellAnalysis/src/pyphoplacecellanalysis/External/pyqtgraph/graphicsItems/GridItem.py:99\u001b[0m, in \u001b[0;36mGridItem.paint\u001b[0;34m(self, p, opt, widget)\u001b[0m\n\u001b[1;32m     92\u001b[0m \u001b[39mdef\u001b[39;00m \u001b[39mpaint\u001b[39m(\u001b[39mself\u001b[39m, p, opt, widget):\n\u001b[1;32m     93\u001b[0m     \u001b[39m#p.setPen(QtGui.QPen(QtGui.QColor(100, 100, 100)))\u001b[39;00m\n\u001b[1;32m     94\u001b[0m     \u001b[39m#p.drawRect(self.boundingRect())\u001b[39;00m\n\u001b[1;32m     95\u001b[0m     \u001b[39m#UIGraphicsItem.paint(self, p, opt, widget)\u001b[39;00m\n\u001b[1;32m     96\u001b[0m     \u001b[39m### draw picture\u001b[39;00m\n\u001b[1;32m     97\u001b[0m     \u001b[39mif\u001b[39;00m \u001b[39mself\u001b[39m\u001b[39m.\u001b[39mpicture \u001b[39mis\u001b[39;00m \u001b[39mNone\u001b[39;00m:\n\u001b[1;32m     98\u001b[0m         \u001b[39m#print \"no pic, draw..\"\u001b[39;00m\n\u001b[0;32m---> 99\u001b[0m         \u001b[39mself\u001b[39;49m\u001b[39m.\u001b[39;49mgeneratePicture()\n\u001b[1;32m    100\u001b[0m     p\u001b[39m.\u001b[39mdrawPicture(QtCore\u001b[39m.\u001b[39mQPointF(\u001b[39m0\u001b[39m, \u001b[39m0\u001b[39m), \u001b[39mself\u001b[39m\u001b[39m.\u001b[39mpicture)\n",
      "File \u001b[0;32m~/repos/pyPhoPlaceCellAnalysis/src/pyphoplacecellanalysis/External/pyqtgraph/graphicsItems/GridItem.py:191\u001b[0m, in \u001b[0;36mGridItem.generatePicture\u001b[0;34m(self)\u001b[0m\n\u001b[1;32m    189\u001b[0m                 texts\u001b[39m.\u001b[39mappend((QtCore\u001b[39m.\u001b[39mQPointF(x, y), \u001b[39m\"\u001b[39m\u001b[39m%g\u001b[39;00m\u001b[39m\"\u001b[39m\u001b[39m%\u001b[39mp1[ax]))\n\u001b[1;32m    190\u001b[0m tr \u001b[39m=\u001b[39m \u001b[39mself\u001b[39m\u001b[39m.\u001b[39mdeviceTransform()\n\u001b[0;32m--> 191\u001b[0m p\u001b[39m.\u001b[39msetWorldTransform(fn\u001b[39m.\u001b[39;49minvertQTransform(tr))\n\u001b[1;32m    193\u001b[0m \u001b[39mif\u001b[39;00m textPen \u001b[39mis\u001b[39;00m \u001b[39mnot\u001b[39;00m \u001b[39mNone\u001b[39;00m \u001b[39mand\u001b[39;00m \u001b[39mlen\u001b[39m(texts) \u001b[39m>\u001b[39m \u001b[39m0\u001b[39m:\n\u001b[1;32m    194\u001b[0m     \u001b[39m# if there is at least one text, then c is set\u001b[39;00m\n\u001b[1;32m    195\u001b[0m     textColor\u001b[39m.\u001b[39msetAlpha(c \u001b[39m*\u001b[39m \u001b[39m2\u001b[39m)\n",
      "File \u001b[0;32m~/repos/pyPhoPlaceCellAnalysis/src/pyphoplacecellanalysis/External/pyqtgraph/functions.py:3027\u001b[0m, in \u001b[0;36minvertQTransform\u001b[0;34m(tr)\u001b[0m\n\u001b[1;32m   3019\u001b[0m \u001b[39m\u001b[39m\u001b[39m\"\"\"Return a QTransform that is the inverse of *tr*.\u001b[39;00m\n\u001b[1;32m   3020\u001b[0m \u001b[39mA pseudo-inverse is returned if tr is not invertible.\u001b[39;00m\n\u001b[1;32m   3021\u001b[0m \u001b[39m\u001b[39;00m\n\u001b[0;32m   (...)\u001b[0m\n\u001b[1;32m   3024\u001b[0m \u001b[39mwhen determining whether a matrix is invertible)\u001b[39;00m\n\u001b[1;32m   3025\u001b[0m \u001b[39m\"\"\"\u001b[39;00m\n\u001b[1;32m   3026\u001b[0m \u001b[39mtry\u001b[39;00m:\n\u001b[0;32m-> 3027\u001b[0m     det \u001b[39m=\u001b[39m tr\u001b[39m.\u001b[39;49mdeterminant()\n\u001b[1;32m   3028\u001b[0m     detr \u001b[39m=\u001b[39m \u001b[39m1.0\u001b[39m \u001b[39m/\u001b[39m det    \u001b[39m# let singular matrices raise ZeroDivisionError\u001b[39;00m\n\u001b[1;32m   3029\u001b[0m     inv \u001b[39m=\u001b[39m tr\u001b[39m.\u001b[39madjoint()\n",
      "\u001b[0;31mAttributeError\u001b[0m: 'NoneType' object has no attribute 'determinant'"
     ]
    },
    {
     "ename": "AttributeError",
     "evalue": "'NoneType' object has no attribute 'determinant'",
     "output_type": "error",
     "traceback": [
      "\u001b[0;31m---------------------------------------------------------------------------\u001b[0m",
      "\u001b[0;31mAttributeError\u001b[0m                            Traceback (most recent call last)",
      "File \u001b[0;32m~/repos/pyPhoPlaceCellAnalysis/src/pyphoplacecellanalysis/External/pyqtgraph/graphicsItems/GridItem.py:99\u001b[0m, in \u001b[0;36mGridItem.paint\u001b[0;34m(self, p, opt, widget)\u001b[0m\n\u001b[1;32m     92\u001b[0m \u001b[39mdef\u001b[39;00m \u001b[39mpaint\u001b[39m(\u001b[39mself\u001b[39m, p, opt, widget):\n\u001b[1;32m     93\u001b[0m     \u001b[39m#p.setPen(QtGui.QPen(QtGui.QColor(100, 100, 100)))\u001b[39;00m\n\u001b[1;32m     94\u001b[0m     \u001b[39m#p.drawRect(self.boundingRect())\u001b[39;00m\n\u001b[1;32m     95\u001b[0m     \u001b[39m#UIGraphicsItem.paint(self, p, opt, widget)\u001b[39;00m\n\u001b[1;32m     96\u001b[0m     \u001b[39m### draw picture\u001b[39;00m\n\u001b[1;32m     97\u001b[0m     \u001b[39mif\u001b[39;00m \u001b[39mself\u001b[39m\u001b[39m.\u001b[39mpicture \u001b[39mis\u001b[39;00m \u001b[39mNone\u001b[39;00m:\n\u001b[1;32m     98\u001b[0m         \u001b[39m#print \"no pic, draw..\"\u001b[39;00m\n\u001b[0;32m---> 99\u001b[0m         \u001b[39mself\u001b[39;49m\u001b[39m.\u001b[39;49mgeneratePicture()\n\u001b[1;32m    100\u001b[0m     p\u001b[39m.\u001b[39mdrawPicture(QtCore\u001b[39m.\u001b[39mQPointF(\u001b[39m0\u001b[39m, \u001b[39m0\u001b[39m), \u001b[39mself\u001b[39m\u001b[39m.\u001b[39mpicture)\n",
      "File \u001b[0;32m~/repos/pyPhoPlaceCellAnalysis/src/pyphoplacecellanalysis/External/pyqtgraph/graphicsItems/GridItem.py:191\u001b[0m, in \u001b[0;36mGridItem.generatePicture\u001b[0;34m(self)\u001b[0m\n\u001b[1;32m    189\u001b[0m                 texts\u001b[39m.\u001b[39mappend((QtCore\u001b[39m.\u001b[39mQPointF(x, y), \u001b[39m\"\u001b[39m\u001b[39m%g\u001b[39;00m\u001b[39m\"\u001b[39m\u001b[39m%\u001b[39mp1[ax]))\n\u001b[1;32m    190\u001b[0m tr \u001b[39m=\u001b[39m \u001b[39mself\u001b[39m\u001b[39m.\u001b[39mdeviceTransform()\n\u001b[0;32m--> 191\u001b[0m p\u001b[39m.\u001b[39msetWorldTransform(fn\u001b[39m.\u001b[39;49minvertQTransform(tr))\n\u001b[1;32m    193\u001b[0m \u001b[39mif\u001b[39;00m textPen \u001b[39mis\u001b[39;00m \u001b[39mnot\u001b[39;00m \u001b[39mNone\u001b[39;00m \u001b[39mand\u001b[39;00m \u001b[39mlen\u001b[39m(texts) \u001b[39m>\u001b[39m \u001b[39m0\u001b[39m:\n\u001b[1;32m    194\u001b[0m     \u001b[39m# if there is at least one text, then c is set\u001b[39;00m\n\u001b[1;32m    195\u001b[0m     textColor\u001b[39m.\u001b[39msetAlpha(c \u001b[39m*\u001b[39m \u001b[39m2\u001b[39m)\n",
      "File \u001b[0;32m~/repos/pyPhoPlaceCellAnalysis/src/pyphoplacecellanalysis/External/pyqtgraph/functions.py:3027\u001b[0m, in \u001b[0;36minvertQTransform\u001b[0;34m(tr)\u001b[0m\n\u001b[1;32m   3019\u001b[0m \u001b[39m\u001b[39m\u001b[39m\"\"\"Return a QTransform that is the inverse of *tr*.\u001b[39;00m\n\u001b[1;32m   3020\u001b[0m \u001b[39mA pseudo-inverse is returned if tr is not invertible.\u001b[39;00m\n\u001b[1;32m   3021\u001b[0m \u001b[39m\u001b[39;00m\n\u001b[0;32m   (...)\u001b[0m\n\u001b[1;32m   3024\u001b[0m \u001b[39mwhen determining whether a matrix is invertible)\u001b[39;00m\n\u001b[1;32m   3025\u001b[0m \u001b[39m\"\"\"\u001b[39;00m\n\u001b[1;32m   3026\u001b[0m \u001b[39mtry\u001b[39;00m:\n\u001b[0;32m-> 3027\u001b[0m     det \u001b[39m=\u001b[39m tr\u001b[39m.\u001b[39;49mdeterminant()\n\u001b[1;32m   3028\u001b[0m     detr \u001b[39m=\u001b[39m \u001b[39m1.0\u001b[39m \u001b[39m/\u001b[39m det    \u001b[39m# let singular matrices raise ZeroDivisionError\u001b[39;00m\n\u001b[1;32m   3029\u001b[0m     inv \u001b[39m=\u001b[39m tr\u001b[39m.\u001b[39madjoint()\n",
      "\u001b[0;31mAttributeError\u001b[0m: 'NoneType' object has no attribute 'determinant'"
     ]
    },
    {
     "ename": "AttributeError",
     "evalue": "'NoneType' object has no attribute 'determinant'",
     "output_type": "error",
     "traceback": [
      "\u001b[0;31m---------------------------------------------------------------------------\u001b[0m",
      "\u001b[0;31mAttributeError\u001b[0m                            Traceback (most recent call last)",
      "File \u001b[0;32m~/repos/pyPhoPlaceCellAnalysis/src/pyphoplacecellanalysis/External/pyqtgraph/graphicsItems/GridItem.py:99\u001b[0m, in \u001b[0;36mGridItem.paint\u001b[0;34m(self, p, opt, widget)\u001b[0m\n\u001b[1;32m     92\u001b[0m \u001b[39mdef\u001b[39;00m \u001b[39mpaint\u001b[39m(\u001b[39mself\u001b[39m, p, opt, widget):\n\u001b[1;32m     93\u001b[0m     \u001b[39m#p.setPen(QtGui.QPen(QtGui.QColor(100, 100, 100)))\u001b[39;00m\n\u001b[1;32m     94\u001b[0m     \u001b[39m#p.drawRect(self.boundingRect())\u001b[39;00m\n\u001b[1;32m     95\u001b[0m     \u001b[39m#UIGraphicsItem.paint(self, p, opt, widget)\u001b[39;00m\n\u001b[1;32m     96\u001b[0m     \u001b[39m### draw picture\u001b[39;00m\n\u001b[1;32m     97\u001b[0m     \u001b[39mif\u001b[39;00m \u001b[39mself\u001b[39m\u001b[39m.\u001b[39mpicture \u001b[39mis\u001b[39;00m \u001b[39mNone\u001b[39;00m:\n\u001b[1;32m     98\u001b[0m         \u001b[39m#print \"no pic, draw..\"\u001b[39;00m\n\u001b[0;32m---> 99\u001b[0m         \u001b[39mself\u001b[39;49m\u001b[39m.\u001b[39;49mgeneratePicture()\n\u001b[1;32m    100\u001b[0m     p\u001b[39m.\u001b[39mdrawPicture(QtCore\u001b[39m.\u001b[39mQPointF(\u001b[39m0\u001b[39m, \u001b[39m0\u001b[39m), \u001b[39mself\u001b[39m\u001b[39m.\u001b[39mpicture)\n",
      "File \u001b[0;32m~/repos/pyPhoPlaceCellAnalysis/src/pyphoplacecellanalysis/External/pyqtgraph/graphicsItems/GridItem.py:191\u001b[0m, in \u001b[0;36mGridItem.generatePicture\u001b[0;34m(self)\u001b[0m\n\u001b[1;32m    189\u001b[0m                 texts\u001b[39m.\u001b[39mappend((QtCore\u001b[39m.\u001b[39mQPointF(x, y), \u001b[39m\"\u001b[39m\u001b[39m%g\u001b[39;00m\u001b[39m\"\u001b[39m\u001b[39m%\u001b[39mp1[ax]))\n\u001b[1;32m    190\u001b[0m tr \u001b[39m=\u001b[39m \u001b[39mself\u001b[39m\u001b[39m.\u001b[39mdeviceTransform()\n\u001b[0;32m--> 191\u001b[0m p\u001b[39m.\u001b[39msetWorldTransform(fn\u001b[39m.\u001b[39;49minvertQTransform(tr))\n\u001b[1;32m    193\u001b[0m \u001b[39mif\u001b[39;00m textPen \u001b[39mis\u001b[39;00m \u001b[39mnot\u001b[39;00m \u001b[39mNone\u001b[39;00m \u001b[39mand\u001b[39;00m \u001b[39mlen\u001b[39m(texts) \u001b[39m>\u001b[39m \u001b[39m0\u001b[39m:\n\u001b[1;32m    194\u001b[0m     \u001b[39m# if there is at least one text, then c is set\u001b[39;00m\n\u001b[1;32m    195\u001b[0m     textColor\u001b[39m.\u001b[39msetAlpha(c \u001b[39m*\u001b[39m \u001b[39m2\u001b[39m)\n",
      "File \u001b[0;32m~/repos/pyPhoPlaceCellAnalysis/src/pyphoplacecellanalysis/External/pyqtgraph/functions.py:3027\u001b[0m, in \u001b[0;36minvertQTransform\u001b[0;34m(tr)\u001b[0m\n\u001b[1;32m   3019\u001b[0m \u001b[39m\u001b[39m\u001b[39m\"\"\"Return a QTransform that is the inverse of *tr*.\u001b[39;00m\n\u001b[1;32m   3020\u001b[0m \u001b[39mA pseudo-inverse is returned if tr is not invertible.\u001b[39;00m\n\u001b[1;32m   3021\u001b[0m \u001b[39m\u001b[39;00m\n\u001b[0;32m   (...)\u001b[0m\n\u001b[1;32m   3024\u001b[0m \u001b[39mwhen determining whether a matrix is invertible)\u001b[39;00m\n\u001b[1;32m   3025\u001b[0m \u001b[39m\"\"\"\u001b[39;00m\n\u001b[1;32m   3026\u001b[0m \u001b[39mtry\u001b[39;00m:\n\u001b[0;32m-> 3027\u001b[0m     det \u001b[39m=\u001b[39m tr\u001b[39m.\u001b[39;49mdeterminant()\n\u001b[1;32m   3028\u001b[0m     detr \u001b[39m=\u001b[39m \u001b[39m1.0\u001b[39m \u001b[39m/\u001b[39m det    \u001b[39m# let singular matrices raise ZeroDivisionError\u001b[39;00m\n\u001b[1;32m   3029\u001b[0m     inv \u001b[39m=\u001b[39m tr\u001b[39m.\u001b[39madjoint()\n",
      "\u001b[0;31mAttributeError\u001b[0m: 'NoneType' object has no attribute 'determinant'"
     ]
    },
    {
     "ename": "AttributeError",
     "evalue": "'NoneType' object has no attribute 'determinant'",
     "output_type": "error",
     "traceback": [
      "\u001b[0;31m---------------------------------------------------------------------------\u001b[0m",
      "\u001b[0;31mAttributeError\u001b[0m                            Traceback (most recent call last)",
      "File \u001b[0;32m~/repos/pyPhoPlaceCellAnalysis/src/pyphoplacecellanalysis/External/pyqtgraph/graphicsItems/GridItem.py:99\u001b[0m, in \u001b[0;36mGridItem.paint\u001b[0;34m(self, p, opt, widget)\u001b[0m\n\u001b[1;32m     92\u001b[0m \u001b[39mdef\u001b[39;00m \u001b[39mpaint\u001b[39m(\u001b[39mself\u001b[39m, p, opt, widget):\n\u001b[1;32m     93\u001b[0m     \u001b[39m#p.setPen(QtGui.QPen(QtGui.QColor(100, 100, 100)))\u001b[39;00m\n\u001b[1;32m     94\u001b[0m     \u001b[39m#p.drawRect(self.boundingRect())\u001b[39;00m\n\u001b[1;32m     95\u001b[0m     \u001b[39m#UIGraphicsItem.paint(self, p, opt, widget)\u001b[39;00m\n\u001b[1;32m     96\u001b[0m     \u001b[39m### draw picture\u001b[39;00m\n\u001b[1;32m     97\u001b[0m     \u001b[39mif\u001b[39;00m \u001b[39mself\u001b[39m\u001b[39m.\u001b[39mpicture \u001b[39mis\u001b[39;00m \u001b[39mNone\u001b[39;00m:\n\u001b[1;32m     98\u001b[0m         \u001b[39m#print \"no pic, draw..\"\u001b[39;00m\n\u001b[0;32m---> 99\u001b[0m         \u001b[39mself\u001b[39;49m\u001b[39m.\u001b[39;49mgeneratePicture()\n\u001b[1;32m    100\u001b[0m     p\u001b[39m.\u001b[39mdrawPicture(QtCore\u001b[39m.\u001b[39mQPointF(\u001b[39m0\u001b[39m, \u001b[39m0\u001b[39m), \u001b[39mself\u001b[39m\u001b[39m.\u001b[39mpicture)\n",
      "File \u001b[0;32m~/repos/pyPhoPlaceCellAnalysis/src/pyphoplacecellanalysis/External/pyqtgraph/graphicsItems/GridItem.py:191\u001b[0m, in \u001b[0;36mGridItem.generatePicture\u001b[0;34m(self)\u001b[0m\n\u001b[1;32m    189\u001b[0m                 texts\u001b[39m.\u001b[39mappend((QtCore\u001b[39m.\u001b[39mQPointF(x, y), \u001b[39m\"\u001b[39m\u001b[39m%g\u001b[39;00m\u001b[39m\"\u001b[39m\u001b[39m%\u001b[39mp1[ax]))\n\u001b[1;32m    190\u001b[0m tr \u001b[39m=\u001b[39m \u001b[39mself\u001b[39m\u001b[39m.\u001b[39mdeviceTransform()\n\u001b[0;32m--> 191\u001b[0m p\u001b[39m.\u001b[39msetWorldTransform(fn\u001b[39m.\u001b[39;49minvertQTransform(tr))\n\u001b[1;32m    193\u001b[0m \u001b[39mif\u001b[39;00m textPen \u001b[39mis\u001b[39;00m \u001b[39mnot\u001b[39;00m \u001b[39mNone\u001b[39;00m \u001b[39mand\u001b[39;00m \u001b[39mlen\u001b[39m(texts) \u001b[39m>\u001b[39m \u001b[39m0\u001b[39m:\n\u001b[1;32m    194\u001b[0m     \u001b[39m# if there is at least one text, then c is set\u001b[39;00m\n\u001b[1;32m    195\u001b[0m     textColor\u001b[39m.\u001b[39msetAlpha(c \u001b[39m*\u001b[39m \u001b[39m2\u001b[39m)\n",
      "File \u001b[0;32m~/repos/pyPhoPlaceCellAnalysis/src/pyphoplacecellanalysis/External/pyqtgraph/functions.py:3027\u001b[0m, in \u001b[0;36minvertQTransform\u001b[0;34m(tr)\u001b[0m\n\u001b[1;32m   3019\u001b[0m \u001b[39m\u001b[39m\u001b[39m\"\"\"Return a QTransform that is the inverse of *tr*.\u001b[39;00m\n\u001b[1;32m   3020\u001b[0m \u001b[39mA pseudo-inverse is returned if tr is not invertible.\u001b[39;00m\n\u001b[1;32m   3021\u001b[0m \u001b[39m\u001b[39;00m\n\u001b[0;32m   (...)\u001b[0m\n\u001b[1;32m   3024\u001b[0m \u001b[39mwhen determining whether a matrix is invertible)\u001b[39;00m\n\u001b[1;32m   3025\u001b[0m \u001b[39m\"\"\"\u001b[39;00m\n\u001b[1;32m   3026\u001b[0m \u001b[39mtry\u001b[39;00m:\n\u001b[0;32m-> 3027\u001b[0m     det \u001b[39m=\u001b[39m tr\u001b[39m.\u001b[39;49mdeterminant()\n\u001b[1;32m   3028\u001b[0m     detr \u001b[39m=\u001b[39m \u001b[39m1.0\u001b[39m \u001b[39m/\u001b[39m det    \u001b[39m# let singular matrices raise ZeroDivisionError\u001b[39;00m\n\u001b[1;32m   3029\u001b[0m     inv \u001b[39m=\u001b[39m tr\u001b[39m.\u001b[39madjoint()\n",
      "\u001b[0;31mAttributeError\u001b[0m: 'NoneType' object has no attribute 'determinant'"
     ]
    },
    {
     "ename": "AttributeError",
     "evalue": "'NoneType' object has no attribute 'determinant'",
     "output_type": "error",
     "traceback": [
      "\u001b[0;31m---------------------------------------------------------------------------\u001b[0m",
      "\u001b[0;31mAttributeError\u001b[0m                            Traceback (most recent call last)",
      "File \u001b[0;32m~/repos/pyPhoPlaceCellAnalysis/src/pyphoplacecellanalysis/External/pyqtgraph/graphicsItems/GridItem.py:99\u001b[0m, in \u001b[0;36mGridItem.paint\u001b[0;34m(self, p, opt, widget)\u001b[0m\n\u001b[1;32m     92\u001b[0m \u001b[39mdef\u001b[39;00m \u001b[39mpaint\u001b[39m(\u001b[39mself\u001b[39m, p, opt, widget):\n\u001b[1;32m     93\u001b[0m     \u001b[39m#p.setPen(QtGui.QPen(QtGui.QColor(100, 100, 100)))\u001b[39;00m\n\u001b[1;32m     94\u001b[0m     \u001b[39m#p.drawRect(self.boundingRect())\u001b[39;00m\n\u001b[1;32m     95\u001b[0m     \u001b[39m#UIGraphicsItem.paint(self, p, opt, widget)\u001b[39;00m\n\u001b[1;32m     96\u001b[0m     \u001b[39m### draw picture\u001b[39;00m\n\u001b[1;32m     97\u001b[0m     \u001b[39mif\u001b[39;00m \u001b[39mself\u001b[39m\u001b[39m.\u001b[39mpicture \u001b[39mis\u001b[39;00m \u001b[39mNone\u001b[39;00m:\n\u001b[1;32m     98\u001b[0m         \u001b[39m#print \"no pic, draw..\"\u001b[39;00m\n\u001b[0;32m---> 99\u001b[0m         \u001b[39mself\u001b[39;49m\u001b[39m.\u001b[39;49mgeneratePicture()\n\u001b[1;32m    100\u001b[0m     p\u001b[39m.\u001b[39mdrawPicture(QtCore\u001b[39m.\u001b[39mQPointF(\u001b[39m0\u001b[39m, \u001b[39m0\u001b[39m), \u001b[39mself\u001b[39m\u001b[39m.\u001b[39mpicture)\n",
      "File \u001b[0;32m~/repos/pyPhoPlaceCellAnalysis/src/pyphoplacecellanalysis/External/pyqtgraph/graphicsItems/GridItem.py:191\u001b[0m, in \u001b[0;36mGridItem.generatePicture\u001b[0;34m(self)\u001b[0m\n\u001b[1;32m    189\u001b[0m                 texts\u001b[39m.\u001b[39mappend((QtCore\u001b[39m.\u001b[39mQPointF(x, y), \u001b[39m\"\u001b[39m\u001b[39m%g\u001b[39;00m\u001b[39m\"\u001b[39m\u001b[39m%\u001b[39mp1[ax]))\n\u001b[1;32m    190\u001b[0m tr \u001b[39m=\u001b[39m \u001b[39mself\u001b[39m\u001b[39m.\u001b[39mdeviceTransform()\n\u001b[0;32m--> 191\u001b[0m p\u001b[39m.\u001b[39msetWorldTransform(fn\u001b[39m.\u001b[39;49minvertQTransform(tr))\n\u001b[1;32m    193\u001b[0m \u001b[39mif\u001b[39;00m textPen \u001b[39mis\u001b[39;00m \u001b[39mnot\u001b[39;00m \u001b[39mNone\u001b[39;00m \u001b[39mand\u001b[39;00m \u001b[39mlen\u001b[39m(texts) \u001b[39m>\u001b[39m \u001b[39m0\u001b[39m:\n\u001b[1;32m    194\u001b[0m     \u001b[39m# if there is at least one text, then c is set\u001b[39;00m\n\u001b[1;32m    195\u001b[0m     textColor\u001b[39m.\u001b[39msetAlpha(c \u001b[39m*\u001b[39m \u001b[39m2\u001b[39m)\n",
      "File \u001b[0;32m~/repos/pyPhoPlaceCellAnalysis/src/pyphoplacecellanalysis/External/pyqtgraph/functions.py:3027\u001b[0m, in \u001b[0;36minvertQTransform\u001b[0;34m(tr)\u001b[0m\n\u001b[1;32m   3019\u001b[0m \u001b[39m\u001b[39m\u001b[39m\"\"\"Return a QTransform that is the inverse of *tr*.\u001b[39;00m\n\u001b[1;32m   3020\u001b[0m \u001b[39mA pseudo-inverse is returned if tr is not invertible.\u001b[39;00m\n\u001b[1;32m   3021\u001b[0m \u001b[39m\u001b[39;00m\n\u001b[0;32m   (...)\u001b[0m\n\u001b[1;32m   3024\u001b[0m \u001b[39mwhen determining whether a matrix is invertible)\u001b[39;00m\n\u001b[1;32m   3025\u001b[0m \u001b[39m\"\"\"\u001b[39;00m\n\u001b[1;32m   3026\u001b[0m \u001b[39mtry\u001b[39;00m:\n\u001b[0;32m-> 3027\u001b[0m     det \u001b[39m=\u001b[39m tr\u001b[39m.\u001b[39;49mdeterminant()\n\u001b[1;32m   3028\u001b[0m     detr \u001b[39m=\u001b[39m \u001b[39m1.0\u001b[39m \u001b[39m/\u001b[39m det    \u001b[39m# let singular matrices raise ZeroDivisionError\u001b[39;00m\n\u001b[1;32m   3029\u001b[0m     inv \u001b[39m=\u001b[39m tr\u001b[39m.\u001b[39madjoint()\n",
      "\u001b[0;31mAttributeError\u001b[0m: 'NoneType' object has no attribute 'determinant'"
     ]
    },
    {
     "ename": "AttributeError",
     "evalue": "'NoneType' object has no attribute 'determinant'",
     "output_type": "error",
     "traceback": [
      "\u001b[0;31m---------------------------------------------------------------------------\u001b[0m",
      "\u001b[0;31mAttributeError\u001b[0m                            Traceback (most recent call last)",
      "File \u001b[0;32m~/repos/pyPhoPlaceCellAnalysis/src/pyphoplacecellanalysis/External/pyqtgraph/graphicsItems/GridItem.py:99\u001b[0m, in \u001b[0;36mGridItem.paint\u001b[0;34m(self, p, opt, widget)\u001b[0m\n\u001b[1;32m     92\u001b[0m \u001b[39mdef\u001b[39;00m \u001b[39mpaint\u001b[39m(\u001b[39mself\u001b[39m, p, opt, widget):\n\u001b[1;32m     93\u001b[0m     \u001b[39m#p.setPen(QtGui.QPen(QtGui.QColor(100, 100, 100)))\u001b[39;00m\n\u001b[1;32m     94\u001b[0m     \u001b[39m#p.drawRect(self.boundingRect())\u001b[39;00m\n\u001b[1;32m     95\u001b[0m     \u001b[39m#UIGraphicsItem.paint(self, p, opt, widget)\u001b[39;00m\n\u001b[1;32m     96\u001b[0m     \u001b[39m### draw picture\u001b[39;00m\n\u001b[1;32m     97\u001b[0m     \u001b[39mif\u001b[39;00m \u001b[39mself\u001b[39m\u001b[39m.\u001b[39mpicture \u001b[39mis\u001b[39;00m \u001b[39mNone\u001b[39;00m:\n\u001b[1;32m     98\u001b[0m         \u001b[39m#print \"no pic, draw..\"\u001b[39;00m\n\u001b[0;32m---> 99\u001b[0m         \u001b[39mself\u001b[39;49m\u001b[39m.\u001b[39;49mgeneratePicture()\n\u001b[1;32m    100\u001b[0m     p\u001b[39m.\u001b[39mdrawPicture(QtCore\u001b[39m.\u001b[39mQPointF(\u001b[39m0\u001b[39m, \u001b[39m0\u001b[39m), \u001b[39mself\u001b[39m\u001b[39m.\u001b[39mpicture)\n",
      "File \u001b[0;32m~/repos/pyPhoPlaceCellAnalysis/src/pyphoplacecellanalysis/External/pyqtgraph/graphicsItems/GridItem.py:191\u001b[0m, in \u001b[0;36mGridItem.generatePicture\u001b[0;34m(self)\u001b[0m\n\u001b[1;32m    189\u001b[0m                 texts\u001b[39m.\u001b[39mappend((QtCore\u001b[39m.\u001b[39mQPointF(x, y), \u001b[39m\"\u001b[39m\u001b[39m%g\u001b[39;00m\u001b[39m\"\u001b[39m\u001b[39m%\u001b[39mp1[ax]))\n\u001b[1;32m    190\u001b[0m tr \u001b[39m=\u001b[39m \u001b[39mself\u001b[39m\u001b[39m.\u001b[39mdeviceTransform()\n\u001b[0;32m--> 191\u001b[0m p\u001b[39m.\u001b[39msetWorldTransform(fn\u001b[39m.\u001b[39;49minvertQTransform(tr))\n\u001b[1;32m    193\u001b[0m \u001b[39mif\u001b[39;00m textPen \u001b[39mis\u001b[39;00m \u001b[39mnot\u001b[39;00m \u001b[39mNone\u001b[39;00m \u001b[39mand\u001b[39;00m \u001b[39mlen\u001b[39m(texts) \u001b[39m>\u001b[39m \u001b[39m0\u001b[39m:\n\u001b[1;32m    194\u001b[0m     \u001b[39m# if there is at least one text, then c is set\u001b[39;00m\n\u001b[1;32m    195\u001b[0m     textColor\u001b[39m.\u001b[39msetAlpha(c \u001b[39m*\u001b[39m \u001b[39m2\u001b[39m)\n",
      "File \u001b[0;32m~/repos/pyPhoPlaceCellAnalysis/src/pyphoplacecellanalysis/External/pyqtgraph/functions.py:3027\u001b[0m, in \u001b[0;36minvertQTransform\u001b[0;34m(tr)\u001b[0m\n\u001b[1;32m   3019\u001b[0m \u001b[39m\u001b[39m\u001b[39m\"\"\"Return a QTransform that is the inverse of *tr*.\u001b[39;00m\n\u001b[1;32m   3020\u001b[0m \u001b[39mA pseudo-inverse is returned if tr is not invertible.\u001b[39;00m\n\u001b[1;32m   3021\u001b[0m \u001b[39m\u001b[39;00m\n\u001b[0;32m   (...)\u001b[0m\n\u001b[1;32m   3024\u001b[0m \u001b[39mwhen determining whether a matrix is invertible)\u001b[39;00m\n\u001b[1;32m   3025\u001b[0m \u001b[39m\"\"\"\u001b[39;00m\n\u001b[1;32m   3026\u001b[0m \u001b[39mtry\u001b[39;00m:\n\u001b[0;32m-> 3027\u001b[0m     det \u001b[39m=\u001b[39m tr\u001b[39m.\u001b[39;49mdeterminant()\n\u001b[1;32m   3028\u001b[0m     detr \u001b[39m=\u001b[39m \u001b[39m1.0\u001b[39m \u001b[39m/\u001b[39m det    \u001b[39m# let singular matrices raise ZeroDivisionError\u001b[39;00m\n\u001b[1;32m   3029\u001b[0m     inv \u001b[39m=\u001b[39m tr\u001b[39m.\u001b[39madjoint()\n",
      "\u001b[0;31mAttributeError\u001b[0m: 'NoneType' object has no attribute 'determinant'"
     ]
    },
    {
     "ename": "AttributeError",
     "evalue": "'NoneType' object has no attribute 'determinant'",
     "output_type": "error",
     "traceback": [
      "\u001b[0;31m---------------------------------------------------------------------------\u001b[0m",
      "\u001b[0;31mAttributeError\u001b[0m                            Traceback (most recent call last)",
      "File \u001b[0;32m~/repos/pyPhoPlaceCellAnalysis/src/pyphoplacecellanalysis/External/pyqtgraph/graphicsItems/GridItem.py:99\u001b[0m, in \u001b[0;36mGridItem.paint\u001b[0;34m(self, p, opt, widget)\u001b[0m\n\u001b[1;32m     92\u001b[0m \u001b[39mdef\u001b[39;00m \u001b[39mpaint\u001b[39m(\u001b[39mself\u001b[39m, p, opt, widget):\n\u001b[1;32m     93\u001b[0m     \u001b[39m#p.setPen(QtGui.QPen(QtGui.QColor(100, 100, 100)))\u001b[39;00m\n\u001b[1;32m     94\u001b[0m     \u001b[39m#p.drawRect(self.boundingRect())\u001b[39;00m\n\u001b[1;32m     95\u001b[0m     \u001b[39m#UIGraphicsItem.paint(self, p, opt, widget)\u001b[39;00m\n\u001b[1;32m     96\u001b[0m     \u001b[39m### draw picture\u001b[39;00m\n\u001b[1;32m     97\u001b[0m     \u001b[39mif\u001b[39;00m \u001b[39mself\u001b[39m\u001b[39m.\u001b[39mpicture \u001b[39mis\u001b[39;00m \u001b[39mNone\u001b[39;00m:\n\u001b[1;32m     98\u001b[0m         \u001b[39m#print \"no pic, draw..\"\u001b[39;00m\n\u001b[0;32m---> 99\u001b[0m         \u001b[39mself\u001b[39;49m\u001b[39m.\u001b[39;49mgeneratePicture()\n\u001b[1;32m    100\u001b[0m     p\u001b[39m.\u001b[39mdrawPicture(QtCore\u001b[39m.\u001b[39mQPointF(\u001b[39m0\u001b[39m, \u001b[39m0\u001b[39m), \u001b[39mself\u001b[39m\u001b[39m.\u001b[39mpicture)\n",
      "File \u001b[0;32m~/repos/pyPhoPlaceCellAnalysis/src/pyphoplacecellanalysis/External/pyqtgraph/graphicsItems/GridItem.py:191\u001b[0m, in \u001b[0;36mGridItem.generatePicture\u001b[0;34m(self)\u001b[0m\n\u001b[1;32m    189\u001b[0m                 texts\u001b[39m.\u001b[39mappend((QtCore\u001b[39m.\u001b[39mQPointF(x, y), \u001b[39m\"\u001b[39m\u001b[39m%g\u001b[39;00m\u001b[39m\"\u001b[39m\u001b[39m%\u001b[39mp1[ax]))\n\u001b[1;32m    190\u001b[0m tr \u001b[39m=\u001b[39m \u001b[39mself\u001b[39m\u001b[39m.\u001b[39mdeviceTransform()\n\u001b[0;32m--> 191\u001b[0m p\u001b[39m.\u001b[39msetWorldTransform(fn\u001b[39m.\u001b[39;49minvertQTransform(tr))\n\u001b[1;32m    193\u001b[0m \u001b[39mif\u001b[39;00m textPen \u001b[39mis\u001b[39;00m \u001b[39mnot\u001b[39;00m \u001b[39mNone\u001b[39;00m \u001b[39mand\u001b[39;00m \u001b[39mlen\u001b[39m(texts) \u001b[39m>\u001b[39m \u001b[39m0\u001b[39m:\n\u001b[1;32m    194\u001b[0m     \u001b[39m# if there is at least one text, then c is set\u001b[39;00m\n\u001b[1;32m    195\u001b[0m     textColor\u001b[39m.\u001b[39msetAlpha(c \u001b[39m*\u001b[39m \u001b[39m2\u001b[39m)\n",
      "File \u001b[0;32m~/repos/pyPhoPlaceCellAnalysis/src/pyphoplacecellanalysis/External/pyqtgraph/functions.py:3027\u001b[0m, in \u001b[0;36minvertQTransform\u001b[0;34m(tr)\u001b[0m\n\u001b[1;32m   3019\u001b[0m \u001b[39m\u001b[39m\u001b[39m\"\"\"Return a QTransform that is the inverse of *tr*.\u001b[39;00m\n\u001b[1;32m   3020\u001b[0m \u001b[39mA pseudo-inverse is returned if tr is not invertible.\u001b[39;00m\n\u001b[1;32m   3021\u001b[0m \u001b[39m\u001b[39;00m\n\u001b[0;32m   (...)\u001b[0m\n\u001b[1;32m   3024\u001b[0m \u001b[39mwhen determining whether a matrix is invertible)\u001b[39;00m\n\u001b[1;32m   3025\u001b[0m \u001b[39m\"\"\"\u001b[39;00m\n\u001b[1;32m   3026\u001b[0m \u001b[39mtry\u001b[39;00m:\n\u001b[0;32m-> 3027\u001b[0m     det \u001b[39m=\u001b[39m tr\u001b[39m.\u001b[39;49mdeterminant()\n\u001b[1;32m   3028\u001b[0m     detr \u001b[39m=\u001b[39m \u001b[39m1.0\u001b[39m \u001b[39m/\u001b[39m det    \u001b[39m# let singular matrices raise ZeroDivisionError\u001b[39;00m\n\u001b[1;32m   3029\u001b[0m     inv \u001b[39m=\u001b[39m tr\u001b[39m.\u001b[39madjoint()\n",
      "\u001b[0;31mAttributeError\u001b[0m: 'NoneType' object has no attribute 'determinant'"
     ]
    },
    {
     "ename": "AttributeError",
     "evalue": "'NoneType' object has no attribute 'determinant'",
     "output_type": "error",
     "traceback": [
      "\u001b[0;31m---------------------------------------------------------------------------\u001b[0m",
      "\u001b[0;31mAttributeError\u001b[0m                            Traceback (most recent call last)",
      "File \u001b[0;32m~/repos/pyPhoPlaceCellAnalysis/src/pyphoplacecellanalysis/External/pyqtgraph/graphicsItems/GridItem.py:99\u001b[0m, in \u001b[0;36mGridItem.paint\u001b[0;34m(self, p, opt, widget)\u001b[0m\n\u001b[1;32m     92\u001b[0m \u001b[39mdef\u001b[39;00m \u001b[39mpaint\u001b[39m(\u001b[39mself\u001b[39m, p, opt, widget):\n\u001b[1;32m     93\u001b[0m     \u001b[39m#p.setPen(QtGui.QPen(QtGui.QColor(100, 100, 100)))\u001b[39;00m\n\u001b[1;32m     94\u001b[0m     \u001b[39m#p.drawRect(self.boundingRect())\u001b[39;00m\n\u001b[1;32m     95\u001b[0m     \u001b[39m#UIGraphicsItem.paint(self, p, opt, widget)\u001b[39;00m\n\u001b[1;32m     96\u001b[0m     \u001b[39m### draw picture\u001b[39;00m\n\u001b[1;32m     97\u001b[0m     \u001b[39mif\u001b[39;00m \u001b[39mself\u001b[39m\u001b[39m.\u001b[39mpicture \u001b[39mis\u001b[39;00m \u001b[39mNone\u001b[39;00m:\n\u001b[1;32m     98\u001b[0m         \u001b[39m#print \"no pic, draw..\"\u001b[39;00m\n\u001b[0;32m---> 99\u001b[0m         \u001b[39mself\u001b[39;49m\u001b[39m.\u001b[39;49mgeneratePicture()\n\u001b[1;32m    100\u001b[0m     p\u001b[39m.\u001b[39mdrawPicture(QtCore\u001b[39m.\u001b[39mQPointF(\u001b[39m0\u001b[39m, \u001b[39m0\u001b[39m), \u001b[39mself\u001b[39m\u001b[39m.\u001b[39mpicture)\n",
      "File \u001b[0;32m~/repos/pyPhoPlaceCellAnalysis/src/pyphoplacecellanalysis/External/pyqtgraph/graphicsItems/GridItem.py:191\u001b[0m, in \u001b[0;36mGridItem.generatePicture\u001b[0;34m(self)\u001b[0m\n\u001b[1;32m    189\u001b[0m                 texts\u001b[39m.\u001b[39mappend((QtCore\u001b[39m.\u001b[39mQPointF(x, y), \u001b[39m\"\u001b[39m\u001b[39m%g\u001b[39;00m\u001b[39m\"\u001b[39m\u001b[39m%\u001b[39mp1[ax]))\n\u001b[1;32m    190\u001b[0m tr \u001b[39m=\u001b[39m \u001b[39mself\u001b[39m\u001b[39m.\u001b[39mdeviceTransform()\n\u001b[0;32m--> 191\u001b[0m p\u001b[39m.\u001b[39msetWorldTransform(fn\u001b[39m.\u001b[39;49minvertQTransform(tr))\n\u001b[1;32m    193\u001b[0m \u001b[39mif\u001b[39;00m textPen \u001b[39mis\u001b[39;00m \u001b[39mnot\u001b[39;00m \u001b[39mNone\u001b[39;00m \u001b[39mand\u001b[39;00m \u001b[39mlen\u001b[39m(texts) \u001b[39m>\u001b[39m \u001b[39m0\u001b[39m:\n\u001b[1;32m    194\u001b[0m     \u001b[39m# if there is at least one text, then c is set\u001b[39;00m\n\u001b[1;32m    195\u001b[0m     textColor\u001b[39m.\u001b[39msetAlpha(c \u001b[39m*\u001b[39m \u001b[39m2\u001b[39m)\n",
      "File \u001b[0;32m~/repos/pyPhoPlaceCellAnalysis/src/pyphoplacecellanalysis/External/pyqtgraph/functions.py:3027\u001b[0m, in \u001b[0;36minvertQTransform\u001b[0;34m(tr)\u001b[0m\n\u001b[1;32m   3019\u001b[0m \u001b[39m\u001b[39m\u001b[39m\"\"\"Return a QTransform that is the inverse of *tr*.\u001b[39;00m\n\u001b[1;32m   3020\u001b[0m \u001b[39mA pseudo-inverse is returned if tr is not invertible.\u001b[39;00m\n\u001b[1;32m   3021\u001b[0m \u001b[39m\u001b[39;00m\n\u001b[0;32m   (...)\u001b[0m\n\u001b[1;32m   3024\u001b[0m \u001b[39mwhen determining whether a matrix is invertible)\u001b[39;00m\n\u001b[1;32m   3025\u001b[0m \u001b[39m\"\"\"\u001b[39;00m\n\u001b[1;32m   3026\u001b[0m \u001b[39mtry\u001b[39;00m:\n\u001b[0;32m-> 3027\u001b[0m     det \u001b[39m=\u001b[39m tr\u001b[39m.\u001b[39;49mdeterminant()\n\u001b[1;32m   3028\u001b[0m     detr \u001b[39m=\u001b[39m \u001b[39m1.0\u001b[39m \u001b[39m/\u001b[39m det    \u001b[39m# let singular matrices raise ZeroDivisionError\u001b[39;00m\n\u001b[1;32m   3029\u001b[0m     inv \u001b[39m=\u001b[39m tr\u001b[39m.\u001b[39madjoint()\n",
      "\u001b[0;31mAttributeError\u001b[0m: 'NoneType' object has no attribute 'determinant'"
     ]
    },
    {
     "ename": "AttributeError",
     "evalue": "'NoneType' object has no attribute 'determinant'",
     "output_type": "error",
     "traceback": [
      "\u001b[0;31m---------------------------------------------------------------------------\u001b[0m",
      "\u001b[0;31mAttributeError\u001b[0m                            Traceback (most recent call last)",
      "File \u001b[0;32m~/repos/pyPhoPlaceCellAnalysis/src/pyphoplacecellanalysis/External/pyqtgraph/graphicsItems/GridItem.py:99\u001b[0m, in \u001b[0;36mGridItem.paint\u001b[0;34m(self, p, opt, widget)\u001b[0m\n\u001b[1;32m     92\u001b[0m \u001b[39mdef\u001b[39;00m \u001b[39mpaint\u001b[39m(\u001b[39mself\u001b[39m, p, opt, widget):\n\u001b[1;32m     93\u001b[0m     \u001b[39m#p.setPen(QtGui.QPen(QtGui.QColor(100, 100, 100)))\u001b[39;00m\n\u001b[1;32m     94\u001b[0m     \u001b[39m#p.drawRect(self.boundingRect())\u001b[39;00m\n\u001b[1;32m     95\u001b[0m     \u001b[39m#UIGraphicsItem.paint(self, p, opt, widget)\u001b[39;00m\n\u001b[1;32m     96\u001b[0m     \u001b[39m### draw picture\u001b[39;00m\n\u001b[1;32m     97\u001b[0m     \u001b[39mif\u001b[39;00m \u001b[39mself\u001b[39m\u001b[39m.\u001b[39mpicture \u001b[39mis\u001b[39;00m \u001b[39mNone\u001b[39;00m:\n\u001b[1;32m     98\u001b[0m         \u001b[39m#print \"no pic, draw..\"\u001b[39;00m\n\u001b[0;32m---> 99\u001b[0m         \u001b[39mself\u001b[39;49m\u001b[39m.\u001b[39;49mgeneratePicture()\n\u001b[1;32m    100\u001b[0m     p\u001b[39m.\u001b[39mdrawPicture(QtCore\u001b[39m.\u001b[39mQPointF(\u001b[39m0\u001b[39m, \u001b[39m0\u001b[39m), \u001b[39mself\u001b[39m\u001b[39m.\u001b[39mpicture)\n",
      "File \u001b[0;32m~/repos/pyPhoPlaceCellAnalysis/src/pyphoplacecellanalysis/External/pyqtgraph/graphicsItems/GridItem.py:191\u001b[0m, in \u001b[0;36mGridItem.generatePicture\u001b[0;34m(self)\u001b[0m\n\u001b[1;32m    189\u001b[0m                 texts\u001b[39m.\u001b[39mappend((QtCore\u001b[39m.\u001b[39mQPointF(x, y), \u001b[39m\"\u001b[39m\u001b[39m%g\u001b[39;00m\u001b[39m\"\u001b[39m\u001b[39m%\u001b[39mp1[ax]))\n\u001b[1;32m    190\u001b[0m tr \u001b[39m=\u001b[39m \u001b[39mself\u001b[39m\u001b[39m.\u001b[39mdeviceTransform()\n\u001b[0;32m--> 191\u001b[0m p\u001b[39m.\u001b[39msetWorldTransform(fn\u001b[39m.\u001b[39;49minvertQTransform(tr))\n\u001b[1;32m    193\u001b[0m \u001b[39mif\u001b[39;00m textPen \u001b[39mis\u001b[39;00m \u001b[39mnot\u001b[39;00m \u001b[39mNone\u001b[39;00m \u001b[39mand\u001b[39;00m \u001b[39mlen\u001b[39m(texts) \u001b[39m>\u001b[39m \u001b[39m0\u001b[39m:\n\u001b[1;32m    194\u001b[0m     \u001b[39m# if there is at least one text, then c is set\u001b[39;00m\n\u001b[1;32m    195\u001b[0m     textColor\u001b[39m.\u001b[39msetAlpha(c \u001b[39m*\u001b[39m \u001b[39m2\u001b[39m)\n",
      "File \u001b[0;32m~/repos/pyPhoPlaceCellAnalysis/src/pyphoplacecellanalysis/External/pyqtgraph/functions.py:3027\u001b[0m, in \u001b[0;36minvertQTransform\u001b[0;34m(tr)\u001b[0m\n\u001b[1;32m   3019\u001b[0m \u001b[39m\u001b[39m\u001b[39m\"\"\"Return a QTransform that is the inverse of *tr*.\u001b[39;00m\n\u001b[1;32m   3020\u001b[0m \u001b[39mA pseudo-inverse is returned if tr is not invertible.\u001b[39;00m\n\u001b[1;32m   3021\u001b[0m \u001b[39m\u001b[39;00m\n\u001b[0;32m   (...)\u001b[0m\n\u001b[1;32m   3024\u001b[0m \u001b[39mwhen determining whether a matrix is invertible)\u001b[39;00m\n\u001b[1;32m   3025\u001b[0m \u001b[39m\"\"\"\u001b[39;00m\n\u001b[1;32m   3026\u001b[0m \u001b[39mtry\u001b[39;00m:\n\u001b[0;32m-> 3027\u001b[0m     det \u001b[39m=\u001b[39m tr\u001b[39m.\u001b[39;49mdeterminant()\n\u001b[1;32m   3028\u001b[0m     detr \u001b[39m=\u001b[39m \u001b[39m1.0\u001b[39m \u001b[39m/\u001b[39m det    \u001b[39m# let singular matrices raise ZeroDivisionError\u001b[39;00m\n\u001b[1;32m   3029\u001b[0m     inv \u001b[39m=\u001b[39m tr\u001b[39m.\u001b[39madjoint()\n",
      "\u001b[0;31mAttributeError\u001b[0m: 'NoneType' object has no attribute 'determinant'"
     ]
    },
    {
     "ename": "AttributeError",
     "evalue": "'NoneType' object has no attribute 'determinant'",
     "output_type": "error",
     "traceback": [
      "\u001b[0;31m---------------------------------------------------------------------------\u001b[0m",
      "\u001b[0;31mAttributeError\u001b[0m                            Traceback (most recent call last)",
      "File \u001b[0;32m~/repos/pyPhoPlaceCellAnalysis/src/pyphoplacecellanalysis/External/pyqtgraph/graphicsItems/GridItem.py:99\u001b[0m, in \u001b[0;36mGridItem.paint\u001b[0;34m(self, p, opt, widget)\u001b[0m\n\u001b[1;32m     92\u001b[0m \u001b[39mdef\u001b[39;00m \u001b[39mpaint\u001b[39m(\u001b[39mself\u001b[39m, p, opt, widget):\n\u001b[1;32m     93\u001b[0m     \u001b[39m#p.setPen(QtGui.QPen(QtGui.QColor(100, 100, 100)))\u001b[39;00m\n\u001b[1;32m     94\u001b[0m     \u001b[39m#p.drawRect(self.boundingRect())\u001b[39;00m\n\u001b[1;32m     95\u001b[0m     \u001b[39m#UIGraphicsItem.paint(self, p, opt, widget)\u001b[39;00m\n\u001b[1;32m     96\u001b[0m     \u001b[39m### draw picture\u001b[39;00m\n\u001b[1;32m     97\u001b[0m     \u001b[39mif\u001b[39;00m \u001b[39mself\u001b[39m\u001b[39m.\u001b[39mpicture \u001b[39mis\u001b[39;00m \u001b[39mNone\u001b[39;00m:\n\u001b[1;32m     98\u001b[0m         \u001b[39m#print \"no pic, draw..\"\u001b[39;00m\n\u001b[0;32m---> 99\u001b[0m         \u001b[39mself\u001b[39;49m\u001b[39m.\u001b[39;49mgeneratePicture()\n\u001b[1;32m    100\u001b[0m     p\u001b[39m.\u001b[39mdrawPicture(QtCore\u001b[39m.\u001b[39mQPointF(\u001b[39m0\u001b[39m, \u001b[39m0\u001b[39m), \u001b[39mself\u001b[39m\u001b[39m.\u001b[39mpicture)\n",
      "File \u001b[0;32m~/repos/pyPhoPlaceCellAnalysis/src/pyphoplacecellanalysis/External/pyqtgraph/graphicsItems/GridItem.py:191\u001b[0m, in \u001b[0;36mGridItem.generatePicture\u001b[0;34m(self)\u001b[0m\n\u001b[1;32m    189\u001b[0m                 texts\u001b[39m.\u001b[39mappend((QtCore\u001b[39m.\u001b[39mQPointF(x, y), \u001b[39m\"\u001b[39m\u001b[39m%g\u001b[39;00m\u001b[39m\"\u001b[39m\u001b[39m%\u001b[39mp1[ax]))\n\u001b[1;32m    190\u001b[0m tr \u001b[39m=\u001b[39m \u001b[39mself\u001b[39m\u001b[39m.\u001b[39mdeviceTransform()\n\u001b[0;32m--> 191\u001b[0m p\u001b[39m.\u001b[39msetWorldTransform(fn\u001b[39m.\u001b[39;49minvertQTransform(tr))\n\u001b[1;32m    193\u001b[0m \u001b[39mif\u001b[39;00m textPen \u001b[39mis\u001b[39;00m \u001b[39mnot\u001b[39;00m \u001b[39mNone\u001b[39;00m \u001b[39mand\u001b[39;00m \u001b[39mlen\u001b[39m(texts) \u001b[39m>\u001b[39m \u001b[39m0\u001b[39m:\n\u001b[1;32m    194\u001b[0m     \u001b[39m# if there is at least one text, then c is set\u001b[39;00m\n\u001b[1;32m    195\u001b[0m     textColor\u001b[39m.\u001b[39msetAlpha(c \u001b[39m*\u001b[39m \u001b[39m2\u001b[39m)\n",
      "File \u001b[0;32m~/repos/pyPhoPlaceCellAnalysis/src/pyphoplacecellanalysis/External/pyqtgraph/functions.py:3027\u001b[0m, in \u001b[0;36minvertQTransform\u001b[0;34m(tr)\u001b[0m\n\u001b[1;32m   3019\u001b[0m \u001b[39m\u001b[39m\u001b[39m\"\"\"Return a QTransform that is the inverse of *tr*.\u001b[39;00m\n\u001b[1;32m   3020\u001b[0m \u001b[39mA pseudo-inverse is returned if tr is not invertible.\u001b[39;00m\n\u001b[1;32m   3021\u001b[0m \u001b[39m\u001b[39;00m\n\u001b[0;32m   (...)\u001b[0m\n\u001b[1;32m   3024\u001b[0m \u001b[39mwhen determining whether a matrix is invertible)\u001b[39;00m\n\u001b[1;32m   3025\u001b[0m \u001b[39m\"\"\"\u001b[39;00m\n\u001b[1;32m   3026\u001b[0m \u001b[39mtry\u001b[39;00m:\n\u001b[0;32m-> 3027\u001b[0m     det \u001b[39m=\u001b[39m tr\u001b[39m.\u001b[39;49mdeterminant()\n\u001b[1;32m   3028\u001b[0m     detr \u001b[39m=\u001b[39m \u001b[39m1.0\u001b[39m \u001b[39m/\u001b[39m det    \u001b[39m# let singular matrices raise ZeroDivisionError\u001b[39;00m\n\u001b[1;32m   3029\u001b[0m     inv \u001b[39m=\u001b[39m tr\u001b[39m.\u001b[39madjoint()\n",
      "\u001b[0;31mAttributeError\u001b[0m: 'NoneType' object has no attribute 'determinant'"
     ]
    },
    {
     "ename": "AttributeError",
     "evalue": "'NoneType' object has no attribute 'determinant'",
     "output_type": "error",
     "traceback": [
      "\u001b[0;31m---------------------------------------------------------------------------\u001b[0m",
      "\u001b[0;31mAttributeError\u001b[0m                            Traceback (most recent call last)",
      "File \u001b[0;32m~/repos/pyPhoPlaceCellAnalysis/src/pyphoplacecellanalysis/External/pyqtgraph/graphicsItems/GridItem.py:99\u001b[0m, in \u001b[0;36mGridItem.paint\u001b[0;34m(self, p, opt, widget)\u001b[0m\n\u001b[1;32m     92\u001b[0m \u001b[39mdef\u001b[39;00m \u001b[39mpaint\u001b[39m(\u001b[39mself\u001b[39m, p, opt, widget):\n\u001b[1;32m     93\u001b[0m     \u001b[39m#p.setPen(QtGui.QPen(QtGui.QColor(100, 100, 100)))\u001b[39;00m\n\u001b[1;32m     94\u001b[0m     \u001b[39m#p.drawRect(self.boundingRect())\u001b[39;00m\n\u001b[1;32m     95\u001b[0m     \u001b[39m#UIGraphicsItem.paint(self, p, opt, widget)\u001b[39;00m\n\u001b[1;32m     96\u001b[0m     \u001b[39m### draw picture\u001b[39;00m\n\u001b[1;32m     97\u001b[0m     \u001b[39mif\u001b[39;00m \u001b[39mself\u001b[39m\u001b[39m.\u001b[39mpicture \u001b[39mis\u001b[39;00m \u001b[39mNone\u001b[39;00m:\n\u001b[1;32m     98\u001b[0m         \u001b[39m#print \"no pic, draw..\"\u001b[39;00m\n\u001b[0;32m---> 99\u001b[0m         \u001b[39mself\u001b[39;49m\u001b[39m.\u001b[39;49mgeneratePicture()\n\u001b[1;32m    100\u001b[0m     p\u001b[39m.\u001b[39mdrawPicture(QtCore\u001b[39m.\u001b[39mQPointF(\u001b[39m0\u001b[39m, \u001b[39m0\u001b[39m), \u001b[39mself\u001b[39m\u001b[39m.\u001b[39mpicture)\n",
      "File \u001b[0;32m~/repos/pyPhoPlaceCellAnalysis/src/pyphoplacecellanalysis/External/pyqtgraph/graphicsItems/GridItem.py:191\u001b[0m, in \u001b[0;36mGridItem.generatePicture\u001b[0;34m(self)\u001b[0m\n\u001b[1;32m    189\u001b[0m                 texts\u001b[39m.\u001b[39mappend((QtCore\u001b[39m.\u001b[39mQPointF(x, y), \u001b[39m\"\u001b[39m\u001b[39m%g\u001b[39;00m\u001b[39m\"\u001b[39m\u001b[39m%\u001b[39mp1[ax]))\n\u001b[1;32m    190\u001b[0m tr \u001b[39m=\u001b[39m \u001b[39mself\u001b[39m\u001b[39m.\u001b[39mdeviceTransform()\n\u001b[0;32m--> 191\u001b[0m p\u001b[39m.\u001b[39msetWorldTransform(fn\u001b[39m.\u001b[39;49minvertQTransform(tr))\n\u001b[1;32m    193\u001b[0m \u001b[39mif\u001b[39;00m textPen \u001b[39mis\u001b[39;00m \u001b[39mnot\u001b[39;00m \u001b[39mNone\u001b[39;00m \u001b[39mand\u001b[39;00m \u001b[39mlen\u001b[39m(texts) \u001b[39m>\u001b[39m \u001b[39m0\u001b[39m:\n\u001b[1;32m    194\u001b[0m     \u001b[39m# if there is at least one text, then c is set\u001b[39;00m\n\u001b[1;32m    195\u001b[0m     textColor\u001b[39m.\u001b[39msetAlpha(c \u001b[39m*\u001b[39m \u001b[39m2\u001b[39m)\n",
      "File \u001b[0;32m~/repos/pyPhoPlaceCellAnalysis/src/pyphoplacecellanalysis/External/pyqtgraph/functions.py:3027\u001b[0m, in \u001b[0;36minvertQTransform\u001b[0;34m(tr)\u001b[0m\n\u001b[1;32m   3019\u001b[0m \u001b[39m\u001b[39m\u001b[39m\"\"\"Return a QTransform that is the inverse of *tr*.\u001b[39;00m\n\u001b[1;32m   3020\u001b[0m \u001b[39mA pseudo-inverse is returned if tr is not invertible.\u001b[39;00m\n\u001b[1;32m   3021\u001b[0m \u001b[39m\u001b[39;00m\n\u001b[0;32m   (...)\u001b[0m\n\u001b[1;32m   3024\u001b[0m \u001b[39mwhen determining whether a matrix is invertible)\u001b[39;00m\n\u001b[1;32m   3025\u001b[0m \u001b[39m\"\"\"\u001b[39;00m\n\u001b[1;32m   3026\u001b[0m \u001b[39mtry\u001b[39;00m:\n\u001b[0;32m-> 3027\u001b[0m     det \u001b[39m=\u001b[39m tr\u001b[39m.\u001b[39;49mdeterminant()\n\u001b[1;32m   3028\u001b[0m     detr \u001b[39m=\u001b[39m \u001b[39m1.0\u001b[39m \u001b[39m/\u001b[39m det    \u001b[39m# let singular matrices raise ZeroDivisionError\u001b[39;00m\n\u001b[1;32m   3029\u001b[0m     inv \u001b[39m=\u001b[39m tr\u001b[39m.\u001b[39madjoint()\n",
      "\u001b[0;31mAttributeError\u001b[0m: 'NoneType' object has no attribute 'determinant'"
     ]
    },
    {
     "ename": "AttributeError",
     "evalue": "'NoneType' object has no attribute 'determinant'",
     "output_type": "error",
     "traceback": [
      "\u001b[0;31m---------------------------------------------------------------------------\u001b[0m",
      "\u001b[0;31mAttributeError\u001b[0m                            Traceback (most recent call last)",
      "File \u001b[0;32m~/repos/pyPhoPlaceCellAnalysis/src/pyphoplacecellanalysis/External/pyqtgraph/graphicsItems/GridItem.py:99\u001b[0m, in \u001b[0;36mGridItem.paint\u001b[0;34m(self, p, opt, widget)\u001b[0m\n\u001b[1;32m     92\u001b[0m \u001b[39mdef\u001b[39;00m \u001b[39mpaint\u001b[39m(\u001b[39mself\u001b[39m, p, opt, widget):\n\u001b[1;32m     93\u001b[0m     \u001b[39m#p.setPen(QtGui.QPen(QtGui.QColor(100, 100, 100)))\u001b[39;00m\n\u001b[1;32m     94\u001b[0m     \u001b[39m#p.drawRect(self.boundingRect())\u001b[39;00m\n\u001b[1;32m     95\u001b[0m     \u001b[39m#UIGraphicsItem.paint(self, p, opt, widget)\u001b[39;00m\n\u001b[1;32m     96\u001b[0m     \u001b[39m### draw picture\u001b[39;00m\n\u001b[1;32m     97\u001b[0m     \u001b[39mif\u001b[39;00m \u001b[39mself\u001b[39m\u001b[39m.\u001b[39mpicture \u001b[39mis\u001b[39;00m \u001b[39mNone\u001b[39;00m:\n\u001b[1;32m     98\u001b[0m         \u001b[39m#print \"no pic, draw..\"\u001b[39;00m\n\u001b[0;32m---> 99\u001b[0m         \u001b[39mself\u001b[39;49m\u001b[39m.\u001b[39;49mgeneratePicture()\n\u001b[1;32m    100\u001b[0m     p\u001b[39m.\u001b[39mdrawPicture(QtCore\u001b[39m.\u001b[39mQPointF(\u001b[39m0\u001b[39m, \u001b[39m0\u001b[39m), \u001b[39mself\u001b[39m\u001b[39m.\u001b[39mpicture)\n",
      "File \u001b[0;32m~/repos/pyPhoPlaceCellAnalysis/src/pyphoplacecellanalysis/External/pyqtgraph/graphicsItems/GridItem.py:191\u001b[0m, in \u001b[0;36mGridItem.generatePicture\u001b[0;34m(self)\u001b[0m\n\u001b[1;32m    189\u001b[0m                 texts\u001b[39m.\u001b[39mappend((QtCore\u001b[39m.\u001b[39mQPointF(x, y), \u001b[39m\"\u001b[39m\u001b[39m%g\u001b[39;00m\u001b[39m\"\u001b[39m\u001b[39m%\u001b[39mp1[ax]))\n\u001b[1;32m    190\u001b[0m tr \u001b[39m=\u001b[39m \u001b[39mself\u001b[39m\u001b[39m.\u001b[39mdeviceTransform()\n\u001b[0;32m--> 191\u001b[0m p\u001b[39m.\u001b[39msetWorldTransform(fn\u001b[39m.\u001b[39;49minvertQTransform(tr))\n\u001b[1;32m    193\u001b[0m \u001b[39mif\u001b[39;00m textPen \u001b[39mis\u001b[39;00m \u001b[39mnot\u001b[39;00m \u001b[39mNone\u001b[39;00m \u001b[39mand\u001b[39;00m \u001b[39mlen\u001b[39m(texts) \u001b[39m>\u001b[39m \u001b[39m0\u001b[39m:\n\u001b[1;32m    194\u001b[0m     \u001b[39m# if there is at least one text, then c is set\u001b[39;00m\n\u001b[1;32m    195\u001b[0m     textColor\u001b[39m.\u001b[39msetAlpha(c \u001b[39m*\u001b[39m \u001b[39m2\u001b[39m)\n",
      "File \u001b[0;32m~/repos/pyPhoPlaceCellAnalysis/src/pyphoplacecellanalysis/External/pyqtgraph/functions.py:3027\u001b[0m, in \u001b[0;36minvertQTransform\u001b[0;34m(tr)\u001b[0m\n\u001b[1;32m   3019\u001b[0m \u001b[39m\u001b[39m\u001b[39m\"\"\"Return a QTransform that is the inverse of *tr*.\u001b[39;00m\n\u001b[1;32m   3020\u001b[0m \u001b[39mA pseudo-inverse is returned if tr is not invertible.\u001b[39;00m\n\u001b[1;32m   3021\u001b[0m \u001b[39m\u001b[39;00m\n\u001b[0;32m   (...)\u001b[0m\n\u001b[1;32m   3024\u001b[0m \u001b[39mwhen determining whether a matrix is invertible)\u001b[39;00m\n\u001b[1;32m   3025\u001b[0m \u001b[39m\"\"\"\u001b[39;00m\n\u001b[1;32m   3026\u001b[0m \u001b[39mtry\u001b[39;00m:\n\u001b[0;32m-> 3027\u001b[0m     det \u001b[39m=\u001b[39m tr\u001b[39m.\u001b[39;49mdeterminant()\n\u001b[1;32m   3028\u001b[0m     detr \u001b[39m=\u001b[39m \u001b[39m1.0\u001b[39m \u001b[39m/\u001b[39m det    \u001b[39m# let singular matrices raise ZeroDivisionError\u001b[39;00m\n\u001b[1;32m   3029\u001b[0m     inv \u001b[39m=\u001b[39m tr\u001b[39m.\u001b[39madjoint()\n",
      "\u001b[0;31mAttributeError\u001b[0m: 'NoneType' object has no attribute 'determinant'"
     ]
    },
    {
     "ename": "AttributeError",
     "evalue": "'NoneType' object has no attribute 'determinant'",
     "output_type": "error",
     "traceback": [
      "\u001b[0;31m---------------------------------------------------------------------------\u001b[0m",
      "\u001b[0;31mAttributeError\u001b[0m                            Traceback (most recent call last)",
      "File \u001b[0;32m~/repos/pyPhoPlaceCellAnalysis/src/pyphoplacecellanalysis/External/pyqtgraph/graphicsItems/GridItem.py:99\u001b[0m, in \u001b[0;36mGridItem.paint\u001b[0;34m(self, p, opt, widget)\u001b[0m\n\u001b[1;32m     92\u001b[0m \u001b[39mdef\u001b[39;00m \u001b[39mpaint\u001b[39m(\u001b[39mself\u001b[39m, p, opt, widget):\n\u001b[1;32m     93\u001b[0m     \u001b[39m#p.setPen(QtGui.QPen(QtGui.QColor(100, 100, 100)))\u001b[39;00m\n\u001b[1;32m     94\u001b[0m     \u001b[39m#p.drawRect(self.boundingRect())\u001b[39;00m\n\u001b[1;32m     95\u001b[0m     \u001b[39m#UIGraphicsItem.paint(self, p, opt, widget)\u001b[39;00m\n\u001b[1;32m     96\u001b[0m     \u001b[39m### draw picture\u001b[39;00m\n\u001b[1;32m     97\u001b[0m     \u001b[39mif\u001b[39;00m \u001b[39mself\u001b[39m\u001b[39m.\u001b[39mpicture \u001b[39mis\u001b[39;00m \u001b[39mNone\u001b[39;00m:\n\u001b[1;32m     98\u001b[0m         \u001b[39m#print \"no pic, draw..\"\u001b[39;00m\n\u001b[0;32m---> 99\u001b[0m         \u001b[39mself\u001b[39;49m\u001b[39m.\u001b[39;49mgeneratePicture()\n\u001b[1;32m    100\u001b[0m     p\u001b[39m.\u001b[39mdrawPicture(QtCore\u001b[39m.\u001b[39mQPointF(\u001b[39m0\u001b[39m, \u001b[39m0\u001b[39m), \u001b[39mself\u001b[39m\u001b[39m.\u001b[39mpicture)\n",
      "File \u001b[0;32m~/repos/pyPhoPlaceCellAnalysis/src/pyphoplacecellanalysis/External/pyqtgraph/graphicsItems/GridItem.py:191\u001b[0m, in \u001b[0;36mGridItem.generatePicture\u001b[0;34m(self)\u001b[0m\n\u001b[1;32m    189\u001b[0m                 texts\u001b[39m.\u001b[39mappend((QtCore\u001b[39m.\u001b[39mQPointF(x, y), \u001b[39m\"\u001b[39m\u001b[39m%g\u001b[39;00m\u001b[39m\"\u001b[39m\u001b[39m%\u001b[39mp1[ax]))\n\u001b[1;32m    190\u001b[0m tr \u001b[39m=\u001b[39m \u001b[39mself\u001b[39m\u001b[39m.\u001b[39mdeviceTransform()\n\u001b[0;32m--> 191\u001b[0m p\u001b[39m.\u001b[39msetWorldTransform(fn\u001b[39m.\u001b[39;49minvertQTransform(tr))\n\u001b[1;32m    193\u001b[0m \u001b[39mif\u001b[39;00m textPen \u001b[39mis\u001b[39;00m \u001b[39mnot\u001b[39;00m \u001b[39mNone\u001b[39;00m \u001b[39mand\u001b[39;00m \u001b[39mlen\u001b[39m(texts) \u001b[39m>\u001b[39m \u001b[39m0\u001b[39m:\n\u001b[1;32m    194\u001b[0m     \u001b[39m# if there is at least one text, then c is set\u001b[39;00m\n\u001b[1;32m    195\u001b[0m     textColor\u001b[39m.\u001b[39msetAlpha(c \u001b[39m*\u001b[39m \u001b[39m2\u001b[39m)\n",
      "File \u001b[0;32m~/repos/pyPhoPlaceCellAnalysis/src/pyphoplacecellanalysis/External/pyqtgraph/functions.py:3027\u001b[0m, in \u001b[0;36minvertQTransform\u001b[0;34m(tr)\u001b[0m\n\u001b[1;32m   3019\u001b[0m \u001b[39m\u001b[39m\u001b[39m\"\"\"Return a QTransform that is the inverse of *tr*.\u001b[39;00m\n\u001b[1;32m   3020\u001b[0m \u001b[39mA pseudo-inverse is returned if tr is not invertible.\u001b[39;00m\n\u001b[1;32m   3021\u001b[0m \u001b[39m\u001b[39;00m\n\u001b[0;32m   (...)\u001b[0m\n\u001b[1;32m   3024\u001b[0m \u001b[39mwhen determining whether a matrix is invertible)\u001b[39;00m\n\u001b[1;32m   3025\u001b[0m \u001b[39m\"\"\"\u001b[39;00m\n\u001b[1;32m   3026\u001b[0m \u001b[39mtry\u001b[39;00m:\n\u001b[0;32m-> 3027\u001b[0m     det \u001b[39m=\u001b[39m tr\u001b[39m.\u001b[39;49mdeterminant()\n\u001b[1;32m   3028\u001b[0m     detr \u001b[39m=\u001b[39m \u001b[39m1.0\u001b[39m \u001b[39m/\u001b[39m det    \u001b[39m# let singular matrices raise ZeroDivisionError\u001b[39;00m\n\u001b[1;32m   3029\u001b[0m     inv \u001b[39m=\u001b[39m tr\u001b[39m.\u001b[39madjoint()\n",
      "\u001b[0;31mAttributeError\u001b[0m: 'NoneType' object has no attribute 'determinant'"
     ]
    },
    {
     "ename": "AttributeError",
     "evalue": "'NoneType' object has no attribute 'determinant'",
     "output_type": "error",
     "traceback": [
      "\u001b[0;31m---------------------------------------------------------------------------\u001b[0m",
      "\u001b[0;31mAttributeError\u001b[0m                            Traceback (most recent call last)",
      "File \u001b[0;32m~/repos/pyPhoPlaceCellAnalysis/src/pyphoplacecellanalysis/External/pyqtgraph/graphicsItems/GridItem.py:99\u001b[0m, in \u001b[0;36mGridItem.paint\u001b[0;34m(self, p, opt, widget)\u001b[0m\n\u001b[1;32m     92\u001b[0m \u001b[39mdef\u001b[39;00m \u001b[39mpaint\u001b[39m(\u001b[39mself\u001b[39m, p, opt, widget):\n\u001b[1;32m     93\u001b[0m     \u001b[39m#p.setPen(QtGui.QPen(QtGui.QColor(100, 100, 100)))\u001b[39;00m\n\u001b[1;32m     94\u001b[0m     \u001b[39m#p.drawRect(self.boundingRect())\u001b[39;00m\n\u001b[1;32m     95\u001b[0m     \u001b[39m#UIGraphicsItem.paint(self, p, opt, widget)\u001b[39;00m\n\u001b[1;32m     96\u001b[0m     \u001b[39m### draw picture\u001b[39;00m\n\u001b[1;32m     97\u001b[0m     \u001b[39mif\u001b[39;00m \u001b[39mself\u001b[39m\u001b[39m.\u001b[39mpicture \u001b[39mis\u001b[39;00m \u001b[39mNone\u001b[39;00m:\n\u001b[1;32m     98\u001b[0m         \u001b[39m#print \"no pic, draw..\"\u001b[39;00m\n\u001b[0;32m---> 99\u001b[0m         \u001b[39mself\u001b[39;49m\u001b[39m.\u001b[39;49mgeneratePicture()\n\u001b[1;32m    100\u001b[0m     p\u001b[39m.\u001b[39mdrawPicture(QtCore\u001b[39m.\u001b[39mQPointF(\u001b[39m0\u001b[39m, \u001b[39m0\u001b[39m), \u001b[39mself\u001b[39m\u001b[39m.\u001b[39mpicture)\n",
      "File \u001b[0;32m~/repos/pyPhoPlaceCellAnalysis/src/pyphoplacecellanalysis/External/pyqtgraph/graphicsItems/GridItem.py:191\u001b[0m, in \u001b[0;36mGridItem.generatePicture\u001b[0;34m(self)\u001b[0m\n\u001b[1;32m    189\u001b[0m                 texts\u001b[39m.\u001b[39mappend((QtCore\u001b[39m.\u001b[39mQPointF(x, y), \u001b[39m\"\u001b[39m\u001b[39m%g\u001b[39;00m\u001b[39m\"\u001b[39m\u001b[39m%\u001b[39mp1[ax]))\n\u001b[1;32m    190\u001b[0m tr \u001b[39m=\u001b[39m \u001b[39mself\u001b[39m\u001b[39m.\u001b[39mdeviceTransform()\n\u001b[0;32m--> 191\u001b[0m p\u001b[39m.\u001b[39msetWorldTransform(fn\u001b[39m.\u001b[39;49minvertQTransform(tr))\n\u001b[1;32m    193\u001b[0m \u001b[39mif\u001b[39;00m textPen \u001b[39mis\u001b[39;00m \u001b[39mnot\u001b[39;00m \u001b[39mNone\u001b[39;00m \u001b[39mand\u001b[39;00m \u001b[39mlen\u001b[39m(texts) \u001b[39m>\u001b[39m \u001b[39m0\u001b[39m:\n\u001b[1;32m    194\u001b[0m     \u001b[39m# if there is at least one text, then c is set\u001b[39;00m\n\u001b[1;32m    195\u001b[0m     textColor\u001b[39m.\u001b[39msetAlpha(c \u001b[39m*\u001b[39m \u001b[39m2\u001b[39m)\n",
      "File \u001b[0;32m~/repos/pyPhoPlaceCellAnalysis/src/pyphoplacecellanalysis/External/pyqtgraph/functions.py:3027\u001b[0m, in \u001b[0;36minvertQTransform\u001b[0;34m(tr)\u001b[0m\n\u001b[1;32m   3019\u001b[0m \u001b[39m\u001b[39m\u001b[39m\"\"\"Return a QTransform that is the inverse of *tr*.\u001b[39;00m\n\u001b[1;32m   3020\u001b[0m \u001b[39mA pseudo-inverse is returned if tr is not invertible.\u001b[39;00m\n\u001b[1;32m   3021\u001b[0m \u001b[39m\u001b[39;00m\n\u001b[0;32m   (...)\u001b[0m\n\u001b[1;32m   3024\u001b[0m \u001b[39mwhen determining whether a matrix is invertible)\u001b[39;00m\n\u001b[1;32m   3025\u001b[0m \u001b[39m\"\"\"\u001b[39;00m\n\u001b[1;32m   3026\u001b[0m \u001b[39mtry\u001b[39;00m:\n\u001b[0;32m-> 3027\u001b[0m     det \u001b[39m=\u001b[39m tr\u001b[39m.\u001b[39;49mdeterminant()\n\u001b[1;32m   3028\u001b[0m     detr \u001b[39m=\u001b[39m \u001b[39m1.0\u001b[39m \u001b[39m/\u001b[39m det    \u001b[39m# let singular matrices raise ZeroDivisionError\u001b[39;00m\n\u001b[1;32m   3029\u001b[0m     inv \u001b[39m=\u001b[39m tr\u001b[39m.\u001b[39madjoint()\n",
      "\u001b[0;31mAttributeError\u001b[0m: 'NoneType' object has no attribute 'determinant'"
     ]
    },
    {
     "ename": "AttributeError",
     "evalue": "'NoneType' object has no attribute 'determinant'",
     "output_type": "error",
     "traceback": [
      "\u001b[0;31m---------------------------------------------------------------------------\u001b[0m",
      "\u001b[0;31mAttributeError\u001b[0m                            Traceback (most recent call last)",
      "File \u001b[0;32m~/repos/pyPhoPlaceCellAnalysis/src/pyphoplacecellanalysis/External/pyqtgraph/graphicsItems/GridItem.py:99\u001b[0m, in \u001b[0;36mGridItem.paint\u001b[0;34m(self, p, opt, widget)\u001b[0m\n\u001b[1;32m     92\u001b[0m \u001b[39mdef\u001b[39;00m \u001b[39mpaint\u001b[39m(\u001b[39mself\u001b[39m, p, opt, widget):\n\u001b[1;32m     93\u001b[0m     \u001b[39m#p.setPen(QtGui.QPen(QtGui.QColor(100, 100, 100)))\u001b[39;00m\n\u001b[1;32m     94\u001b[0m     \u001b[39m#p.drawRect(self.boundingRect())\u001b[39;00m\n\u001b[1;32m     95\u001b[0m     \u001b[39m#UIGraphicsItem.paint(self, p, opt, widget)\u001b[39;00m\n\u001b[1;32m     96\u001b[0m     \u001b[39m### draw picture\u001b[39;00m\n\u001b[1;32m     97\u001b[0m     \u001b[39mif\u001b[39;00m \u001b[39mself\u001b[39m\u001b[39m.\u001b[39mpicture \u001b[39mis\u001b[39;00m \u001b[39mNone\u001b[39;00m:\n\u001b[1;32m     98\u001b[0m         \u001b[39m#print \"no pic, draw..\"\u001b[39;00m\n\u001b[0;32m---> 99\u001b[0m         \u001b[39mself\u001b[39;49m\u001b[39m.\u001b[39;49mgeneratePicture()\n\u001b[1;32m    100\u001b[0m     p\u001b[39m.\u001b[39mdrawPicture(QtCore\u001b[39m.\u001b[39mQPointF(\u001b[39m0\u001b[39m, \u001b[39m0\u001b[39m), \u001b[39mself\u001b[39m\u001b[39m.\u001b[39mpicture)\n",
      "File \u001b[0;32m~/repos/pyPhoPlaceCellAnalysis/src/pyphoplacecellanalysis/External/pyqtgraph/graphicsItems/GridItem.py:191\u001b[0m, in \u001b[0;36mGridItem.generatePicture\u001b[0;34m(self)\u001b[0m\n\u001b[1;32m    189\u001b[0m                 texts\u001b[39m.\u001b[39mappend((QtCore\u001b[39m.\u001b[39mQPointF(x, y), \u001b[39m\"\u001b[39m\u001b[39m%g\u001b[39;00m\u001b[39m\"\u001b[39m\u001b[39m%\u001b[39mp1[ax]))\n\u001b[1;32m    190\u001b[0m tr \u001b[39m=\u001b[39m \u001b[39mself\u001b[39m\u001b[39m.\u001b[39mdeviceTransform()\n\u001b[0;32m--> 191\u001b[0m p\u001b[39m.\u001b[39msetWorldTransform(fn\u001b[39m.\u001b[39;49minvertQTransform(tr))\n\u001b[1;32m    193\u001b[0m \u001b[39mif\u001b[39;00m textPen \u001b[39mis\u001b[39;00m \u001b[39mnot\u001b[39;00m \u001b[39mNone\u001b[39;00m \u001b[39mand\u001b[39;00m \u001b[39mlen\u001b[39m(texts) \u001b[39m>\u001b[39m \u001b[39m0\u001b[39m:\n\u001b[1;32m    194\u001b[0m     \u001b[39m# if there is at least one text, then c is set\u001b[39;00m\n\u001b[1;32m    195\u001b[0m     textColor\u001b[39m.\u001b[39msetAlpha(c \u001b[39m*\u001b[39m \u001b[39m2\u001b[39m)\n",
      "File \u001b[0;32m~/repos/pyPhoPlaceCellAnalysis/src/pyphoplacecellanalysis/External/pyqtgraph/functions.py:3027\u001b[0m, in \u001b[0;36minvertQTransform\u001b[0;34m(tr)\u001b[0m\n\u001b[1;32m   3019\u001b[0m \u001b[39m\u001b[39m\u001b[39m\"\"\"Return a QTransform that is the inverse of *tr*.\u001b[39;00m\n\u001b[1;32m   3020\u001b[0m \u001b[39mA pseudo-inverse is returned if tr is not invertible.\u001b[39;00m\n\u001b[1;32m   3021\u001b[0m \u001b[39m\u001b[39;00m\n\u001b[0;32m   (...)\u001b[0m\n\u001b[1;32m   3024\u001b[0m \u001b[39mwhen determining whether a matrix is invertible)\u001b[39;00m\n\u001b[1;32m   3025\u001b[0m \u001b[39m\"\"\"\u001b[39;00m\n\u001b[1;32m   3026\u001b[0m \u001b[39mtry\u001b[39;00m:\n\u001b[0;32m-> 3027\u001b[0m     det \u001b[39m=\u001b[39m tr\u001b[39m.\u001b[39;49mdeterminant()\n\u001b[1;32m   3028\u001b[0m     detr \u001b[39m=\u001b[39m \u001b[39m1.0\u001b[39m \u001b[39m/\u001b[39m det    \u001b[39m# let singular matrices raise ZeroDivisionError\u001b[39;00m\n\u001b[1;32m   3029\u001b[0m     inv \u001b[39m=\u001b[39m tr\u001b[39m.\u001b[39madjoint()\n",
      "\u001b[0;31mAttributeError\u001b[0m: 'NoneType' object has no attribute 'determinant'"
     ]
    },
    {
     "ename": "AttributeError",
     "evalue": "'NoneType' object has no attribute 'determinant'",
     "output_type": "error",
     "traceback": [
      "\u001b[0;31m---------------------------------------------------------------------------\u001b[0m",
      "\u001b[0;31mAttributeError\u001b[0m                            Traceback (most recent call last)",
      "File \u001b[0;32m~/repos/pyPhoPlaceCellAnalysis/src/pyphoplacecellanalysis/External/pyqtgraph/graphicsItems/GridItem.py:99\u001b[0m, in \u001b[0;36mGridItem.paint\u001b[0;34m(self, p, opt, widget)\u001b[0m\n\u001b[1;32m     92\u001b[0m \u001b[39mdef\u001b[39;00m \u001b[39mpaint\u001b[39m(\u001b[39mself\u001b[39m, p, opt, widget):\n\u001b[1;32m     93\u001b[0m     \u001b[39m#p.setPen(QtGui.QPen(QtGui.QColor(100, 100, 100)))\u001b[39;00m\n\u001b[1;32m     94\u001b[0m     \u001b[39m#p.drawRect(self.boundingRect())\u001b[39;00m\n\u001b[1;32m     95\u001b[0m     \u001b[39m#UIGraphicsItem.paint(self, p, opt, widget)\u001b[39;00m\n\u001b[1;32m     96\u001b[0m     \u001b[39m### draw picture\u001b[39;00m\n\u001b[1;32m     97\u001b[0m     \u001b[39mif\u001b[39;00m \u001b[39mself\u001b[39m\u001b[39m.\u001b[39mpicture \u001b[39mis\u001b[39;00m \u001b[39mNone\u001b[39;00m:\n\u001b[1;32m     98\u001b[0m         \u001b[39m#print \"no pic, draw..\"\u001b[39;00m\n\u001b[0;32m---> 99\u001b[0m         \u001b[39mself\u001b[39;49m\u001b[39m.\u001b[39;49mgeneratePicture()\n\u001b[1;32m    100\u001b[0m     p\u001b[39m.\u001b[39mdrawPicture(QtCore\u001b[39m.\u001b[39mQPointF(\u001b[39m0\u001b[39m, \u001b[39m0\u001b[39m), \u001b[39mself\u001b[39m\u001b[39m.\u001b[39mpicture)\n",
      "File \u001b[0;32m~/repos/pyPhoPlaceCellAnalysis/src/pyphoplacecellanalysis/External/pyqtgraph/graphicsItems/GridItem.py:191\u001b[0m, in \u001b[0;36mGridItem.generatePicture\u001b[0;34m(self)\u001b[0m\n\u001b[1;32m    189\u001b[0m                 texts\u001b[39m.\u001b[39mappend((QtCore\u001b[39m.\u001b[39mQPointF(x, y), \u001b[39m\"\u001b[39m\u001b[39m%g\u001b[39;00m\u001b[39m\"\u001b[39m\u001b[39m%\u001b[39mp1[ax]))\n\u001b[1;32m    190\u001b[0m tr \u001b[39m=\u001b[39m \u001b[39mself\u001b[39m\u001b[39m.\u001b[39mdeviceTransform()\n\u001b[0;32m--> 191\u001b[0m p\u001b[39m.\u001b[39msetWorldTransform(fn\u001b[39m.\u001b[39;49minvertQTransform(tr))\n\u001b[1;32m    193\u001b[0m \u001b[39mif\u001b[39;00m textPen \u001b[39mis\u001b[39;00m \u001b[39mnot\u001b[39;00m \u001b[39mNone\u001b[39;00m \u001b[39mand\u001b[39;00m \u001b[39mlen\u001b[39m(texts) \u001b[39m>\u001b[39m \u001b[39m0\u001b[39m:\n\u001b[1;32m    194\u001b[0m     \u001b[39m# if there is at least one text, then c is set\u001b[39;00m\n\u001b[1;32m    195\u001b[0m     textColor\u001b[39m.\u001b[39msetAlpha(c \u001b[39m*\u001b[39m \u001b[39m2\u001b[39m)\n",
      "File \u001b[0;32m~/repos/pyPhoPlaceCellAnalysis/src/pyphoplacecellanalysis/External/pyqtgraph/functions.py:3027\u001b[0m, in \u001b[0;36minvertQTransform\u001b[0;34m(tr)\u001b[0m\n\u001b[1;32m   3019\u001b[0m \u001b[39m\u001b[39m\u001b[39m\"\"\"Return a QTransform that is the inverse of *tr*.\u001b[39;00m\n\u001b[1;32m   3020\u001b[0m \u001b[39mA pseudo-inverse is returned if tr is not invertible.\u001b[39;00m\n\u001b[1;32m   3021\u001b[0m \u001b[39m\u001b[39;00m\n\u001b[0;32m   (...)\u001b[0m\n\u001b[1;32m   3024\u001b[0m \u001b[39mwhen determining whether a matrix is invertible)\u001b[39;00m\n\u001b[1;32m   3025\u001b[0m \u001b[39m\"\"\"\u001b[39;00m\n\u001b[1;32m   3026\u001b[0m \u001b[39mtry\u001b[39;00m:\n\u001b[0;32m-> 3027\u001b[0m     det \u001b[39m=\u001b[39m tr\u001b[39m.\u001b[39;49mdeterminant()\n\u001b[1;32m   3028\u001b[0m     detr \u001b[39m=\u001b[39m \u001b[39m1.0\u001b[39m \u001b[39m/\u001b[39m det    \u001b[39m# let singular matrices raise ZeroDivisionError\u001b[39;00m\n\u001b[1;32m   3029\u001b[0m     inv \u001b[39m=\u001b[39m tr\u001b[39m.\u001b[39madjoint()\n",
      "\u001b[0;31mAttributeError\u001b[0m: 'NoneType' object has no attribute 'determinant'"
     ]
    },
    {
     "ename": "AttributeError",
     "evalue": "'NoneType' object has no attribute 'determinant'",
     "output_type": "error",
     "traceback": [
      "\u001b[0;31m---------------------------------------------------------------------------\u001b[0m",
      "\u001b[0;31mAttributeError\u001b[0m                            Traceback (most recent call last)",
      "File \u001b[0;32m~/repos/pyPhoPlaceCellAnalysis/src/pyphoplacecellanalysis/External/pyqtgraph/graphicsItems/GridItem.py:99\u001b[0m, in \u001b[0;36mGridItem.paint\u001b[0;34m(self, p, opt, widget)\u001b[0m\n\u001b[1;32m     92\u001b[0m \u001b[39mdef\u001b[39;00m \u001b[39mpaint\u001b[39m(\u001b[39mself\u001b[39m, p, opt, widget):\n\u001b[1;32m     93\u001b[0m     \u001b[39m#p.setPen(QtGui.QPen(QtGui.QColor(100, 100, 100)))\u001b[39;00m\n\u001b[1;32m     94\u001b[0m     \u001b[39m#p.drawRect(self.boundingRect())\u001b[39;00m\n\u001b[1;32m     95\u001b[0m     \u001b[39m#UIGraphicsItem.paint(self, p, opt, widget)\u001b[39;00m\n\u001b[1;32m     96\u001b[0m     \u001b[39m### draw picture\u001b[39;00m\n\u001b[1;32m     97\u001b[0m     \u001b[39mif\u001b[39;00m \u001b[39mself\u001b[39m\u001b[39m.\u001b[39mpicture \u001b[39mis\u001b[39;00m \u001b[39mNone\u001b[39;00m:\n\u001b[1;32m     98\u001b[0m         \u001b[39m#print \"no pic, draw..\"\u001b[39;00m\n\u001b[0;32m---> 99\u001b[0m         \u001b[39mself\u001b[39;49m\u001b[39m.\u001b[39;49mgeneratePicture()\n\u001b[1;32m    100\u001b[0m     p\u001b[39m.\u001b[39mdrawPicture(QtCore\u001b[39m.\u001b[39mQPointF(\u001b[39m0\u001b[39m, \u001b[39m0\u001b[39m), \u001b[39mself\u001b[39m\u001b[39m.\u001b[39mpicture)\n",
      "File \u001b[0;32m~/repos/pyPhoPlaceCellAnalysis/src/pyphoplacecellanalysis/External/pyqtgraph/graphicsItems/GridItem.py:191\u001b[0m, in \u001b[0;36mGridItem.generatePicture\u001b[0;34m(self)\u001b[0m\n\u001b[1;32m    189\u001b[0m                 texts\u001b[39m.\u001b[39mappend((QtCore\u001b[39m.\u001b[39mQPointF(x, y), \u001b[39m\"\u001b[39m\u001b[39m%g\u001b[39;00m\u001b[39m\"\u001b[39m\u001b[39m%\u001b[39mp1[ax]))\n\u001b[1;32m    190\u001b[0m tr \u001b[39m=\u001b[39m \u001b[39mself\u001b[39m\u001b[39m.\u001b[39mdeviceTransform()\n\u001b[0;32m--> 191\u001b[0m p\u001b[39m.\u001b[39msetWorldTransform(fn\u001b[39m.\u001b[39;49minvertQTransform(tr))\n\u001b[1;32m    193\u001b[0m \u001b[39mif\u001b[39;00m textPen \u001b[39mis\u001b[39;00m \u001b[39mnot\u001b[39;00m \u001b[39mNone\u001b[39;00m \u001b[39mand\u001b[39;00m \u001b[39mlen\u001b[39m(texts) \u001b[39m>\u001b[39m \u001b[39m0\u001b[39m:\n\u001b[1;32m    194\u001b[0m     \u001b[39m# if there is at least one text, then c is set\u001b[39;00m\n\u001b[1;32m    195\u001b[0m     textColor\u001b[39m.\u001b[39msetAlpha(c \u001b[39m*\u001b[39m \u001b[39m2\u001b[39m)\n",
      "File \u001b[0;32m~/repos/pyPhoPlaceCellAnalysis/src/pyphoplacecellanalysis/External/pyqtgraph/functions.py:3027\u001b[0m, in \u001b[0;36minvertQTransform\u001b[0;34m(tr)\u001b[0m\n\u001b[1;32m   3019\u001b[0m \u001b[39m\u001b[39m\u001b[39m\"\"\"Return a QTransform that is the inverse of *tr*.\u001b[39;00m\n\u001b[1;32m   3020\u001b[0m \u001b[39mA pseudo-inverse is returned if tr is not invertible.\u001b[39;00m\n\u001b[1;32m   3021\u001b[0m \u001b[39m\u001b[39;00m\n\u001b[0;32m   (...)\u001b[0m\n\u001b[1;32m   3024\u001b[0m \u001b[39mwhen determining whether a matrix is invertible)\u001b[39;00m\n\u001b[1;32m   3025\u001b[0m \u001b[39m\"\"\"\u001b[39;00m\n\u001b[1;32m   3026\u001b[0m \u001b[39mtry\u001b[39;00m:\n\u001b[0;32m-> 3027\u001b[0m     det \u001b[39m=\u001b[39m tr\u001b[39m.\u001b[39;49mdeterminant()\n\u001b[1;32m   3028\u001b[0m     detr \u001b[39m=\u001b[39m \u001b[39m1.0\u001b[39m \u001b[39m/\u001b[39m det    \u001b[39m# let singular matrices raise ZeroDivisionError\u001b[39;00m\n\u001b[1;32m   3029\u001b[0m     inv \u001b[39m=\u001b[39m tr\u001b[39m.\u001b[39madjoint()\n",
      "\u001b[0;31mAttributeError\u001b[0m: 'NoneType' object has no attribute 'determinant'"
     ]
    },
    {
     "ename": "AttributeError",
     "evalue": "'NoneType' object has no attribute 'determinant'",
     "output_type": "error",
     "traceback": [
      "\u001b[0;31m---------------------------------------------------------------------------\u001b[0m",
      "\u001b[0;31mAttributeError\u001b[0m                            Traceback (most recent call last)",
      "File \u001b[0;32m~/repos/pyPhoPlaceCellAnalysis/src/pyphoplacecellanalysis/External/pyqtgraph/graphicsItems/GridItem.py:99\u001b[0m, in \u001b[0;36mGridItem.paint\u001b[0;34m(self, p, opt, widget)\u001b[0m\n\u001b[1;32m     92\u001b[0m \u001b[39mdef\u001b[39;00m \u001b[39mpaint\u001b[39m(\u001b[39mself\u001b[39m, p, opt, widget):\n\u001b[1;32m     93\u001b[0m     \u001b[39m#p.setPen(QtGui.QPen(QtGui.QColor(100, 100, 100)))\u001b[39;00m\n\u001b[1;32m     94\u001b[0m     \u001b[39m#p.drawRect(self.boundingRect())\u001b[39;00m\n\u001b[1;32m     95\u001b[0m     \u001b[39m#UIGraphicsItem.paint(self, p, opt, widget)\u001b[39;00m\n\u001b[1;32m     96\u001b[0m     \u001b[39m### draw picture\u001b[39;00m\n\u001b[1;32m     97\u001b[0m     \u001b[39mif\u001b[39;00m \u001b[39mself\u001b[39m\u001b[39m.\u001b[39mpicture \u001b[39mis\u001b[39;00m \u001b[39mNone\u001b[39;00m:\n\u001b[1;32m     98\u001b[0m         \u001b[39m#print \"no pic, draw..\"\u001b[39;00m\n\u001b[0;32m---> 99\u001b[0m         \u001b[39mself\u001b[39;49m\u001b[39m.\u001b[39;49mgeneratePicture()\n\u001b[1;32m    100\u001b[0m     p\u001b[39m.\u001b[39mdrawPicture(QtCore\u001b[39m.\u001b[39mQPointF(\u001b[39m0\u001b[39m, \u001b[39m0\u001b[39m), \u001b[39mself\u001b[39m\u001b[39m.\u001b[39mpicture)\n",
      "File \u001b[0;32m~/repos/pyPhoPlaceCellAnalysis/src/pyphoplacecellanalysis/External/pyqtgraph/graphicsItems/GridItem.py:191\u001b[0m, in \u001b[0;36mGridItem.generatePicture\u001b[0;34m(self)\u001b[0m\n\u001b[1;32m    189\u001b[0m                 texts\u001b[39m.\u001b[39mappend((QtCore\u001b[39m.\u001b[39mQPointF(x, y), \u001b[39m\"\u001b[39m\u001b[39m%g\u001b[39;00m\u001b[39m\"\u001b[39m\u001b[39m%\u001b[39mp1[ax]))\n\u001b[1;32m    190\u001b[0m tr \u001b[39m=\u001b[39m \u001b[39mself\u001b[39m\u001b[39m.\u001b[39mdeviceTransform()\n\u001b[0;32m--> 191\u001b[0m p\u001b[39m.\u001b[39msetWorldTransform(fn\u001b[39m.\u001b[39;49minvertQTransform(tr))\n\u001b[1;32m    193\u001b[0m \u001b[39mif\u001b[39;00m textPen \u001b[39mis\u001b[39;00m \u001b[39mnot\u001b[39;00m \u001b[39mNone\u001b[39;00m \u001b[39mand\u001b[39;00m \u001b[39mlen\u001b[39m(texts) \u001b[39m>\u001b[39m \u001b[39m0\u001b[39m:\n\u001b[1;32m    194\u001b[0m     \u001b[39m# if there is at least one text, then c is set\u001b[39;00m\n\u001b[1;32m    195\u001b[0m     textColor\u001b[39m.\u001b[39msetAlpha(c \u001b[39m*\u001b[39m \u001b[39m2\u001b[39m)\n",
      "File \u001b[0;32m~/repos/pyPhoPlaceCellAnalysis/src/pyphoplacecellanalysis/External/pyqtgraph/functions.py:3027\u001b[0m, in \u001b[0;36minvertQTransform\u001b[0;34m(tr)\u001b[0m\n\u001b[1;32m   3019\u001b[0m \u001b[39m\u001b[39m\u001b[39m\"\"\"Return a QTransform that is the inverse of *tr*.\u001b[39;00m\n\u001b[1;32m   3020\u001b[0m \u001b[39mA pseudo-inverse is returned if tr is not invertible.\u001b[39;00m\n\u001b[1;32m   3021\u001b[0m \u001b[39m\u001b[39;00m\n\u001b[0;32m   (...)\u001b[0m\n\u001b[1;32m   3024\u001b[0m \u001b[39mwhen determining whether a matrix is invertible)\u001b[39;00m\n\u001b[1;32m   3025\u001b[0m \u001b[39m\"\"\"\u001b[39;00m\n\u001b[1;32m   3026\u001b[0m \u001b[39mtry\u001b[39;00m:\n\u001b[0;32m-> 3027\u001b[0m     det \u001b[39m=\u001b[39m tr\u001b[39m.\u001b[39;49mdeterminant()\n\u001b[1;32m   3028\u001b[0m     detr \u001b[39m=\u001b[39m \u001b[39m1.0\u001b[39m \u001b[39m/\u001b[39m det    \u001b[39m# let singular matrices raise ZeroDivisionError\u001b[39;00m\n\u001b[1;32m   3029\u001b[0m     inv \u001b[39m=\u001b[39m tr\u001b[39m.\u001b[39madjoint()\n",
      "\u001b[0;31mAttributeError\u001b[0m: 'NoneType' object has no attribute 'determinant'"
     ]
    },
    {
     "ename": "AttributeError",
     "evalue": "'NoneType' object has no attribute 'determinant'",
     "output_type": "error",
     "traceback": [
      "\u001b[0;31m---------------------------------------------------------------------------\u001b[0m",
      "\u001b[0;31mAttributeError\u001b[0m                            Traceback (most recent call last)",
      "File \u001b[0;32m~/repos/pyPhoPlaceCellAnalysis/src/pyphoplacecellanalysis/External/pyqtgraph/graphicsItems/GridItem.py:99\u001b[0m, in \u001b[0;36mGridItem.paint\u001b[0;34m(self, p, opt, widget)\u001b[0m\n\u001b[1;32m     92\u001b[0m \u001b[39mdef\u001b[39;00m \u001b[39mpaint\u001b[39m(\u001b[39mself\u001b[39m, p, opt, widget):\n\u001b[1;32m     93\u001b[0m     \u001b[39m#p.setPen(QtGui.QPen(QtGui.QColor(100, 100, 100)))\u001b[39;00m\n\u001b[1;32m     94\u001b[0m     \u001b[39m#p.drawRect(self.boundingRect())\u001b[39;00m\n\u001b[1;32m     95\u001b[0m     \u001b[39m#UIGraphicsItem.paint(self, p, opt, widget)\u001b[39;00m\n\u001b[1;32m     96\u001b[0m     \u001b[39m### draw picture\u001b[39;00m\n\u001b[1;32m     97\u001b[0m     \u001b[39mif\u001b[39;00m \u001b[39mself\u001b[39m\u001b[39m.\u001b[39mpicture \u001b[39mis\u001b[39;00m \u001b[39mNone\u001b[39;00m:\n\u001b[1;32m     98\u001b[0m         \u001b[39m#print \"no pic, draw..\"\u001b[39;00m\n\u001b[0;32m---> 99\u001b[0m         \u001b[39mself\u001b[39;49m\u001b[39m.\u001b[39;49mgeneratePicture()\n\u001b[1;32m    100\u001b[0m     p\u001b[39m.\u001b[39mdrawPicture(QtCore\u001b[39m.\u001b[39mQPointF(\u001b[39m0\u001b[39m, \u001b[39m0\u001b[39m), \u001b[39mself\u001b[39m\u001b[39m.\u001b[39mpicture)\n",
      "File \u001b[0;32m~/repos/pyPhoPlaceCellAnalysis/src/pyphoplacecellanalysis/External/pyqtgraph/graphicsItems/GridItem.py:191\u001b[0m, in \u001b[0;36mGridItem.generatePicture\u001b[0;34m(self)\u001b[0m\n\u001b[1;32m    189\u001b[0m                 texts\u001b[39m.\u001b[39mappend((QtCore\u001b[39m.\u001b[39mQPointF(x, y), \u001b[39m\"\u001b[39m\u001b[39m%g\u001b[39;00m\u001b[39m\"\u001b[39m\u001b[39m%\u001b[39mp1[ax]))\n\u001b[1;32m    190\u001b[0m tr \u001b[39m=\u001b[39m \u001b[39mself\u001b[39m\u001b[39m.\u001b[39mdeviceTransform()\n\u001b[0;32m--> 191\u001b[0m p\u001b[39m.\u001b[39msetWorldTransform(fn\u001b[39m.\u001b[39;49minvertQTransform(tr))\n\u001b[1;32m    193\u001b[0m \u001b[39mif\u001b[39;00m textPen \u001b[39mis\u001b[39;00m \u001b[39mnot\u001b[39;00m \u001b[39mNone\u001b[39;00m \u001b[39mand\u001b[39;00m \u001b[39mlen\u001b[39m(texts) \u001b[39m>\u001b[39m \u001b[39m0\u001b[39m:\n\u001b[1;32m    194\u001b[0m     \u001b[39m# if there is at least one text, then c is set\u001b[39;00m\n\u001b[1;32m    195\u001b[0m     textColor\u001b[39m.\u001b[39msetAlpha(c \u001b[39m*\u001b[39m \u001b[39m2\u001b[39m)\n",
      "File \u001b[0;32m~/repos/pyPhoPlaceCellAnalysis/src/pyphoplacecellanalysis/External/pyqtgraph/functions.py:3027\u001b[0m, in \u001b[0;36minvertQTransform\u001b[0;34m(tr)\u001b[0m\n\u001b[1;32m   3019\u001b[0m \u001b[39m\u001b[39m\u001b[39m\"\"\"Return a QTransform that is the inverse of *tr*.\u001b[39;00m\n\u001b[1;32m   3020\u001b[0m \u001b[39mA pseudo-inverse is returned if tr is not invertible.\u001b[39;00m\n\u001b[1;32m   3021\u001b[0m \u001b[39m\u001b[39;00m\n\u001b[0;32m   (...)\u001b[0m\n\u001b[1;32m   3024\u001b[0m \u001b[39mwhen determining whether a matrix is invertible)\u001b[39;00m\n\u001b[1;32m   3025\u001b[0m \u001b[39m\"\"\"\u001b[39;00m\n\u001b[1;32m   3026\u001b[0m \u001b[39mtry\u001b[39;00m:\n\u001b[0;32m-> 3027\u001b[0m     det \u001b[39m=\u001b[39m tr\u001b[39m.\u001b[39;49mdeterminant()\n\u001b[1;32m   3028\u001b[0m     detr \u001b[39m=\u001b[39m \u001b[39m1.0\u001b[39m \u001b[39m/\u001b[39m det    \u001b[39m# let singular matrices raise ZeroDivisionError\u001b[39;00m\n\u001b[1;32m   3029\u001b[0m     inv \u001b[39m=\u001b[39m tr\u001b[39m.\u001b[39madjoint()\n",
      "\u001b[0;31mAttributeError\u001b[0m: 'NoneType' object has no attribute 'determinant'"
     ]
    },
    {
     "ename": "AttributeError",
     "evalue": "'NoneType' object has no attribute 'determinant'",
     "output_type": "error",
     "traceback": [
      "\u001b[0;31m---------------------------------------------------------------------------\u001b[0m",
      "\u001b[0;31mAttributeError\u001b[0m                            Traceback (most recent call last)",
      "File \u001b[0;32m~/repos/pyPhoPlaceCellAnalysis/src/pyphoplacecellanalysis/External/pyqtgraph/graphicsItems/GridItem.py:99\u001b[0m, in \u001b[0;36mGridItem.paint\u001b[0;34m(self, p, opt, widget)\u001b[0m\n\u001b[1;32m     92\u001b[0m \u001b[39mdef\u001b[39;00m \u001b[39mpaint\u001b[39m(\u001b[39mself\u001b[39m, p, opt, widget):\n\u001b[1;32m     93\u001b[0m     \u001b[39m#p.setPen(QtGui.QPen(QtGui.QColor(100, 100, 100)))\u001b[39;00m\n\u001b[1;32m     94\u001b[0m     \u001b[39m#p.drawRect(self.boundingRect())\u001b[39;00m\n\u001b[1;32m     95\u001b[0m     \u001b[39m#UIGraphicsItem.paint(self, p, opt, widget)\u001b[39;00m\n\u001b[1;32m     96\u001b[0m     \u001b[39m### draw picture\u001b[39;00m\n\u001b[1;32m     97\u001b[0m     \u001b[39mif\u001b[39;00m \u001b[39mself\u001b[39m\u001b[39m.\u001b[39mpicture \u001b[39mis\u001b[39;00m \u001b[39mNone\u001b[39;00m:\n\u001b[1;32m     98\u001b[0m         \u001b[39m#print \"no pic, draw..\"\u001b[39;00m\n\u001b[0;32m---> 99\u001b[0m         \u001b[39mself\u001b[39;49m\u001b[39m.\u001b[39;49mgeneratePicture()\n\u001b[1;32m    100\u001b[0m     p\u001b[39m.\u001b[39mdrawPicture(QtCore\u001b[39m.\u001b[39mQPointF(\u001b[39m0\u001b[39m, \u001b[39m0\u001b[39m), \u001b[39mself\u001b[39m\u001b[39m.\u001b[39mpicture)\n",
      "File \u001b[0;32m~/repos/pyPhoPlaceCellAnalysis/src/pyphoplacecellanalysis/External/pyqtgraph/graphicsItems/GridItem.py:191\u001b[0m, in \u001b[0;36mGridItem.generatePicture\u001b[0;34m(self)\u001b[0m\n\u001b[1;32m    189\u001b[0m                 texts\u001b[39m.\u001b[39mappend((QtCore\u001b[39m.\u001b[39mQPointF(x, y), \u001b[39m\"\u001b[39m\u001b[39m%g\u001b[39;00m\u001b[39m\"\u001b[39m\u001b[39m%\u001b[39mp1[ax]))\n\u001b[1;32m    190\u001b[0m tr \u001b[39m=\u001b[39m \u001b[39mself\u001b[39m\u001b[39m.\u001b[39mdeviceTransform()\n\u001b[0;32m--> 191\u001b[0m p\u001b[39m.\u001b[39msetWorldTransform(fn\u001b[39m.\u001b[39;49minvertQTransform(tr))\n\u001b[1;32m    193\u001b[0m \u001b[39mif\u001b[39;00m textPen \u001b[39mis\u001b[39;00m \u001b[39mnot\u001b[39;00m \u001b[39mNone\u001b[39;00m \u001b[39mand\u001b[39;00m \u001b[39mlen\u001b[39m(texts) \u001b[39m>\u001b[39m \u001b[39m0\u001b[39m:\n\u001b[1;32m    194\u001b[0m     \u001b[39m# if there is at least one text, then c is set\u001b[39;00m\n\u001b[1;32m    195\u001b[0m     textColor\u001b[39m.\u001b[39msetAlpha(c \u001b[39m*\u001b[39m \u001b[39m2\u001b[39m)\n",
      "File \u001b[0;32m~/repos/pyPhoPlaceCellAnalysis/src/pyphoplacecellanalysis/External/pyqtgraph/functions.py:3027\u001b[0m, in \u001b[0;36minvertQTransform\u001b[0;34m(tr)\u001b[0m\n\u001b[1;32m   3019\u001b[0m \u001b[39m\u001b[39m\u001b[39m\"\"\"Return a QTransform that is the inverse of *tr*.\u001b[39;00m\n\u001b[1;32m   3020\u001b[0m \u001b[39mA pseudo-inverse is returned if tr is not invertible.\u001b[39;00m\n\u001b[1;32m   3021\u001b[0m \u001b[39m\u001b[39;00m\n\u001b[0;32m   (...)\u001b[0m\n\u001b[1;32m   3024\u001b[0m \u001b[39mwhen determining whether a matrix is invertible)\u001b[39;00m\n\u001b[1;32m   3025\u001b[0m \u001b[39m\"\"\"\u001b[39;00m\n\u001b[1;32m   3026\u001b[0m \u001b[39mtry\u001b[39;00m:\n\u001b[0;32m-> 3027\u001b[0m     det \u001b[39m=\u001b[39m tr\u001b[39m.\u001b[39;49mdeterminant()\n\u001b[1;32m   3028\u001b[0m     detr \u001b[39m=\u001b[39m \u001b[39m1.0\u001b[39m \u001b[39m/\u001b[39m det    \u001b[39m# let singular matrices raise ZeroDivisionError\u001b[39;00m\n\u001b[1;32m   3029\u001b[0m     inv \u001b[39m=\u001b[39m tr\u001b[39m.\u001b[39madjoint()\n",
      "\u001b[0;31mAttributeError\u001b[0m: 'NoneType' object has no attribute 'determinant'"
     ]
    },
    {
     "ename": "AttributeError",
     "evalue": "'NoneType' object has no attribute 'determinant'",
     "output_type": "error",
     "traceback": [
      "\u001b[0;31m---------------------------------------------------------------------------\u001b[0m",
      "\u001b[0;31mAttributeError\u001b[0m                            Traceback (most recent call last)",
      "File \u001b[0;32m~/repos/pyPhoPlaceCellAnalysis/src/pyphoplacecellanalysis/External/pyqtgraph/graphicsItems/GridItem.py:99\u001b[0m, in \u001b[0;36mGridItem.paint\u001b[0;34m(self, p, opt, widget)\u001b[0m\n\u001b[1;32m     92\u001b[0m \u001b[39mdef\u001b[39;00m \u001b[39mpaint\u001b[39m(\u001b[39mself\u001b[39m, p, opt, widget):\n\u001b[1;32m     93\u001b[0m     \u001b[39m#p.setPen(QtGui.QPen(QtGui.QColor(100, 100, 100)))\u001b[39;00m\n\u001b[1;32m     94\u001b[0m     \u001b[39m#p.drawRect(self.boundingRect())\u001b[39;00m\n\u001b[1;32m     95\u001b[0m     \u001b[39m#UIGraphicsItem.paint(self, p, opt, widget)\u001b[39;00m\n\u001b[1;32m     96\u001b[0m     \u001b[39m### draw picture\u001b[39;00m\n\u001b[1;32m     97\u001b[0m     \u001b[39mif\u001b[39;00m \u001b[39mself\u001b[39m\u001b[39m.\u001b[39mpicture \u001b[39mis\u001b[39;00m \u001b[39mNone\u001b[39;00m:\n\u001b[1;32m     98\u001b[0m         \u001b[39m#print \"no pic, draw..\"\u001b[39;00m\n\u001b[0;32m---> 99\u001b[0m         \u001b[39mself\u001b[39;49m\u001b[39m.\u001b[39;49mgeneratePicture()\n\u001b[1;32m    100\u001b[0m     p\u001b[39m.\u001b[39mdrawPicture(QtCore\u001b[39m.\u001b[39mQPointF(\u001b[39m0\u001b[39m, \u001b[39m0\u001b[39m), \u001b[39mself\u001b[39m\u001b[39m.\u001b[39mpicture)\n",
      "File \u001b[0;32m~/repos/pyPhoPlaceCellAnalysis/src/pyphoplacecellanalysis/External/pyqtgraph/graphicsItems/GridItem.py:191\u001b[0m, in \u001b[0;36mGridItem.generatePicture\u001b[0;34m(self)\u001b[0m\n\u001b[1;32m    189\u001b[0m                 texts\u001b[39m.\u001b[39mappend((QtCore\u001b[39m.\u001b[39mQPointF(x, y), \u001b[39m\"\u001b[39m\u001b[39m%g\u001b[39;00m\u001b[39m\"\u001b[39m\u001b[39m%\u001b[39mp1[ax]))\n\u001b[1;32m    190\u001b[0m tr \u001b[39m=\u001b[39m \u001b[39mself\u001b[39m\u001b[39m.\u001b[39mdeviceTransform()\n\u001b[0;32m--> 191\u001b[0m p\u001b[39m.\u001b[39msetWorldTransform(fn\u001b[39m.\u001b[39;49minvertQTransform(tr))\n\u001b[1;32m    193\u001b[0m \u001b[39mif\u001b[39;00m textPen \u001b[39mis\u001b[39;00m \u001b[39mnot\u001b[39;00m \u001b[39mNone\u001b[39;00m \u001b[39mand\u001b[39;00m \u001b[39mlen\u001b[39m(texts) \u001b[39m>\u001b[39m \u001b[39m0\u001b[39m:\n\u001b[1;32m    194\u001b[0m     \u001b[39m# if there is at least one text, then c is set\u001b[39;00m\n\u001b[1;32m    195\u001b[0m     textColor\u001b[39m.\u001b[39msetAlpha(c \u001b[39m*\u001b[39m \u001b[39m2\u001b[39m)\n",
      "File \u001b[0;32m~/repos/pyPhoPlaceCellAnalysis/src/pyphoplacecellanalysis/External/pyqtgraph/functions.py:3027\u001b[0m, in \u001b[0;36minvertQTransform\u001b[0;34m(tr)\u001b[0m\n\u001b[1;32m   3019\u001b[0m \u001b[39m\u001b[39m\u001b[39m\"\"\"Return a QTransform that is the inverse of *tr*.\u001b[39;00m\n\u001b[1;32m   3020\u001b[0m \u001b[39mA pseudo-inverse is returned if tr is not invertible.\u001b[39;00m\n\u001b[1;32m   3021\u001b[0m \u001b[39m\u001b[39;00m\n\u001b[0;32m   (...)\u001b[0m\n\u001b[1;32m   3024\u001b[0m \u001b[39mwhen determining whether a matrix is invertible)\u001b[39;00m\n\u001b[1;32m   3025\u001b[0m \u001b[39m\"\"\"\u001b[39;00m\n\u001b[1;32m   3026\u001b[0m \u001b[39mtry\u001b[39;00m:\n\u001b[0;32m-> 3027\u001b[0m     det \u001b[39m=\u001b[39m tr\u001b[39m.\u001b[39;49mdeterminant()\n\u001b[1;32m   3028\u001b[0m     detr \u001b[39m=\u001b[39m \u001b[39m1.0\u001b[39m \u001b[39m/\u001b[39m det    \u001b[39m# let singular matrices raise ZeroDivisionError\u001b[39;00m\n\u001b[1;32m   3029\u001b[0m     inv \u001b[39m=\u001b[39m tr\u001b[39m.\u001b[39madjoint()\n",
      "\u001b[0;31mAttributeError\u001b[0m: 'NoneType' object has no attribute 'determinant'"
     ]
    },
    {
     "ename": "AttributeError",
     "evalue": "'NoneType' object has no attribute 'determinant'",
     "output_type": "error",
     "traceback": [
      "\u001b[0;31m---------------------------------------------------------------------------\u001b[0m",
      "\u001b[0;31mAttributeError\u001b[0m                            Traceback (most recent call last)",
      "File \u001b[0;32m~/repos/pyPhoPlaceCellAnalysis/src/pyphoplacecellanalysis/External/pyqtgraph/graphicsItems/GridItem.py:99\u001b[0m, in \u001b[0;36mGridItem.paint\u001b[0;34m(self, p, opt, widget)\u001b[0m\n\u001b[1;32m     92\u001b[0m \u001b[39mdef\u001b[39;00m \u001b[39mpaint\u001b[39m(\u001b[39mself\u001b[39m, p, opt, widget):\n\u001b[1;32m     93\u001b[0m     \u001b[39m#p.setPen(QtGui.QPen(QtGui.QColor(100, 100, 100)))\u001b[39;00m\n\u001b[1;32m     94\u001b[0m     \u001b[39m#p.drawRect(self.boundingRect())\u001b[39;00m\n\u001b[1;32m     95\u001b[0m     \u001b[39m#UIGraphicsItem.paint(self, p, opt, widget)\u001b[39;00m\n\u001b[1;32m     96\u001b[0m     \u001b[39m### draw picture\u001b[39;00m\n\u001b[1;32m     97\u001b[0m     \u001b[39mif\u001b[39;00m \u001b[39mself\u001b[39m\u001b[39m.\u001b[39mpicture \u001b[39mis\u001b[39;00m \u001b[39mNone\u001b[39;00m:\n\u001b[1;32m     98\u001b[0m         \u001b[39m#print \"no pic, draw..\"\u001b[39;00m\n\u001b[0;32m---> 99\u001b[0m         \u001b[39mself\u001b[39;49m\u001b[39m.\u001b[39;49mgeneratePicture()\n\u001b[1;32m    100\u001b[0m     p\u001b[39m.\u001b[39mdrawPicture(QtCore\u001b[39m.\u001b[39mQPointF(\u001b[39m0\u001b[39m, \u001b[39m0\u001b[39m), \u001b[39mself\u001b[39m\u001b[39m.\u001b[39mpicture)\n",
      "File \u001b[0;32m~/repos/pyPhoPlaceCellAnalysis/src/pyphoplacecellanalysis/External/pyqtgraph/graphicsItems/GridItem.py:191\u001b[0m, in \u001b[0;36mGridItem.generatePicture\u001b[0;34m(self)\u001b[0m\n\u001b[1;32m    189\u001b[0m                 texts\u001b[39m.\u001b[39mappend((QtCore\u001b[39m.\u001b[39mQPointF(x, y), \u001b[39m\"\u001b[39m\u001b[39m%g\u001b[39;00m\u001b[39m\"\u001b[39m\u001b[39m%\u001b[39mp1[ax]))\n\u001b[1;32m    190\u001b[0m tr \u001b[39m=\u001b[39m \u001b[39mself\u001b[39m\u001b[39m.\u001b[39mdeviceTransform()\n\u001b[0;32m--> 191\u001b[0m p\u001b[39m.\u001b[39msetWorldTransform(fn\u001b[39m.\u001b[39;49minvertQTransform(tr))\n\u001b[1;32m    193\u001b[0m \u001b[39mif\u001b[39;00m textPen \u001b[39mis\u001b[39;00m \u001b[39mnot\u001b[39;00m \u001b[39mNone\u001b[39;00m \u001b[39mand\u001b[39;00m \u001b[39mlen\u001b[39m(texts) \u001b[39m>\u001b[39m \u001b[39m0\u001b[39m:\n\u001b[1;32m    194\u001b[0m     \u001b[39m# if there is at least one text, then c is set\u001b[39;00m\n\u001b[1;32m    195\u001b[0m     textColor\u001b[39m.\u001b[39msetAlpha(c \u001b[39m*\u001b[39m \u001b[39m2\u001b[39m)\n",
      "File \u001b[0;32m~/repos/pyPhoPlaceCellAnalysis/src/pyphoplacecellanalysis/External/pyqtgraph/functions.py:3027\u001b[0m, in \u001b[0;36minvertQTransform\u001b[0;34m(tr)\u001b[0m\n\u001b[1;32m   3019\u001b[0m \u001b[39m\u001b[39m\u001b[39m\"\"\"Return a QTransform that is the inverse of *tr*.\u001b[39;00m\n\u001b[1;32m   3020\u001b[0m \u001b[39mA pseudo-inverse is returned if tr is not invertible.\u001b[39;00m\n\u001b[1;32m   3021\u001b[0m \u001b[39m\u001b[39;00m\n\u001b[0;32m   (...)\u001b[0m\n\u001b[1;32m   3024\u001b[0m \u001b[39mwhen determining whether a matrix is invertible)\u001b[39;00m\n\u001b[1;32m   3025\u001b[0m \u001b[39m\"\"\"\u001b[39;00m\n\u001b[1;32m   3026\u001b[0m \u001b[39mtry\u001b[39;00m:\n\u001b[0;32m-> 3027\u001b[0m     det \u001b[39m=\u001b[39m tr\u001b[39m.\u001b[39;49mdeterminant()\n\u001b[1;32m   3028\u001b[0m     detr \u001b[39m=\u001b[39m \u001b[39m1.0\u001b[39m \u001b[39m/\u001b[39m det    \u001b[39m# let singular matrices raise ZeroDivisionError\u001b[39;00m\n\u001b[1;32m   3029\u001b[0m     inv \u001b[39m=\u001b[39m tr\u001b[39m.\u001b[39madjoint()\n",
      "\u001b[0;31mAttributeError\u001b[0m: 'NoneType' object has no attribute 'determinant'"
     ]
    },
    {
     "ename": "AttributeError",
     "evalue": "'NoneType' object has no attribute 'determinant'",
     "output_type": "error",
     "traceback": [
      "\u001b[0;31m---------------------------------------------------------------------------\u001b[0m",
      "\u001b[0;31mAttributeError\u001b[0m                            Traceback (most recent call last)",
      "File \u001b[0;32m~/repos/pyPhoPlaceCellAnalysis/src/pyphoplacecellanalysis/External/pyqtgraph/graphicsItems/GridItem.py:99\u001b[0m, in \u001b[0;36mGridItem.paint\u001b[0;34m(self, p, opt, widget)\u001b[0m\n\u001b[1;32m     92\u001b[0m \u001b[39mdef\u001b[39;00m \u001b[39mpaint\u001b[39m(\u001b[39mself\u001b[39m, p, opt, widget):\n\u001b[1;32m     93\u001b[0m     \u001b[39m#p.setPen(QtGui.QPen(QtGui.QColor(100, 100, 100)))\u001b[39;00m\n\u001b[1;32m     94\u001b[0m     \u001b[39m#p.drawRect(self.boundingRect())\u001b[39;00m\n\u001b[1;32m     95\u001b[0m     \u001b[39m#UIGraphicsItem.paint(self, p, opt, widget)\u001b[39;00m\n\u001b[1;32m     96\u001b[0m     \u001b[39m### draw picture\u001b[39;00m\n\u001b[1;32m     97\u001b[0m     \u001b[39mif\u001b[39;00m \u001b[39mself\u001b[39m\u001b[39m.\u001b[39mpicture \u001b[39mis\u001b[39;00m \u001b[39mNone\u001b[39;00m:\n\u001b[1;32m     98\u001b[0m         \u001b[39m#print \"no pic, draw..\"\u001b[39;00m\n\u001b[0;32m---> 99\u001b[0m         \u001b[39mself\u001b[39;49m\u001b[39m.\u001b[39;49mgeneratePicture()\n\u001b[1;32m    100\u001b[0m     p\u001b[39m.\u001b[39mdrawPicture(QtCore\u001b[39m.\u001b[39mQPointF(\u001b[39m0\u001b[39m, \u001b[39m0\u001b[39m), \u001b[39mself\u001b[39m\u001b[39m.\u001b[39mpicture)\n",
      "File \u001b[0;32m~/repos/pyPhoPlaceCellAnalysis/src/pyphoplacecellanalysis/External/pyqtgraph/graphicsItems/GridItem.py:191\u001b[0m, in \u001b[0;36mGridItem.generatePicture\u001b[0;34m(self)\u001b[0m\n\u001b[1;32m    189\u001b[0m                 texts\u001b[39m.\u001b[39mappend((QtCore\u001b[39m.\u001b[39mQPointF(x, y), \u001b[39m\"\u001b[39m\u001b[39m%g\u001b[39;00m\u001b[39m\"\u001b[39m\u001b[39m%\u001b[39mp1[ax]))\n\u001b[1;32m    190\u001b[0m tr \u001b[39m=\u001b[39m \u001b[39mself\u001b[39m\u001b[39m.\u001b[39mdeviceTransform()\n\u001b[0;32m--> 191\u001b[0m p\u001b[39m.\u001b[39msetWorldTransform(fn\u001b[39m.\u001b[39;49minvertQTransform(tr))\n\u001b[1;32m    193\u001b[0m \u001b[39mif\u001b[39;00m textPen \u001b[39mis\u001b[39;00m \u001b[39mnot\u001b[39;00m \u001b[39mNone\u001b[39;00m \u001b[39mand\u001b[39;00m \u001b[39mlen\u001b[39m(texts) \u001b[39m>\u001b[39m \u001b[39m0\u001b[39m:\n\u001b[1;32m    194\u001b[0m     \u001b[39m# if there is at least one text, then c is set\u001b[39;00m\n\u001b[1;32m    195\u001b[0m     textColor\u001b[39m.\u001b[39msetAlpha(c \u001b[39m*\u001b[39m \u001b[39m2\u001b[39m)\n",
      "File \u001b[0;32m~/repos/pyPhoPlaceCellAnalysis/src/pyphoplacecellanalysis/External/pyqtgraph/functions.py:3027\u001b[0m, in \u001b[0;36minvertQTransform\u001b[0;34m(tr)\u001b[0m\n\u001b[1;32m   3019\u001b[0m \u001b[39m\u001b[39m\u001b[39m\"\"\"Return a QTransform that is the inverse of *tr*.\u001b[39;00m\n\u001b[1;32m   3020\u001b[0m \u001b[39mA pseudo-inverse is returned if tr is not invertible.\u001b[39;00m\n\u001b[1;32m   3021\u001b[0m \u001b[39m\u001b[39;00m\n\u001b[0;32m   (...)\u001b[0m\n\u001b[1;32m   3024\u001b[0m \u001b[39mwhen determining whether a matrix is invertible)\u001b[39;00m\n\u001b[1;32m   3025\u001b[0m \u001b[39m\"\"\"\u001b[39;00m\n\u001b[1;32m   3026\u001b[0m \u001b[39mtry\u001b[39;00m:\n\u001b[0;32m-> 3027\u001b[0m     det \u001b[39m=\u001b[39m tr\u001b[39m.\u001b[39;49mdeterminant()\n\u001b[1;32m   3028\u001b[0m     detr \u001b[39m=\u001b[39m \u001b[39m1.0\u001b[39m \u001b[39m/\u001b[39m det    \u001b[39m# let singular matrices raise ZeroDivisionError\u001b[39;00m\n\u001b[1;32m   3029\u001b[0m     inv \u001b[39m=\u001b[39m tr\u001b[39m.\u001b[39madjoint()\n",
      "\u001b[0;31mAttributeError\u001b[0m: 'NoneType' object has no attribute 'determinant'"
     ]
    },
    {
     "ename": "AttributeError",
     "evalue": "'NoneType' object has no attribute 'determinant'",
     "output_type": "error",
     "traceback": [
      "\u001b[0;31m---------------------------------------------------------------------------\u001b[0m",
      "\u001b[0;31mAttributeError\u001b[0m                            Traceback (most recent call last)",
      "File \u001b[0;32m~/repos/pyPhoPlaceCellAnalysis/src/pyphoplacecellanalysis/External/pyqtgraph/graphicsItems/GridItem.py:99\u001b[0m, in \u001b[0;36mGridItem.paint\u001b[0;34m(self, p, opt, widget)\u001b[0m\n\u001b[1;32m     92\u001b[0m \u001b[39mdef\u001b[39;00m \u001b[39mpaint\u001b[39m(\u001b[39mself\u001b[39m, p, opt, widget):\n\u001b[1;32m     93\u001b[0m     \u001b[39m#p.setPen(QtGui.QPen(QtGui.QColor(100, 100, 100)))\u001b[39;00m\n\u001b[1;32m     94\u001b[0m     \u001b[39m#p.drawRect(self.boundingRect())\u001b[39;00m\n\u001b[1;32m     95\u001b[0m     \u001b[39m#UIGraphicsItem.paint(self, p, opt, widget)\u001b[39;00m\n\u001b[1;32m     96\u001b[0m     \u001b[39m### draw picture\u001b[39;00m\n\u001b[1;32m     97\u001b[0m     \u001b[39mif\u001b[39;00m \u001b[39mself\u001b[39m\u001b[39m.\u001b[39mpicture \u001b[39mis\u001b[39;00m \u001b[39mNone\u001b[39;00m:\n\u001b[1;32m     98\u001b[0m         \u001b[39m#print \"no pic, draw..\"\u001b[39;00m\n\u001b[0;32m---> 99\u001b[0m         \u001b[39mself\u001b[39;49m\u001b[39m.\u001b[39;49mgeneratePicture()\n\u001b[1;32m    100\u001b[0m     p\u001b[39m.\u001b[39mdrawPicture(QtCore\u001b[39m.\u001b[39mQPointF(\u001b[39m0\u001b[39m, \u001b[39m0\u001b[39m), \u001b[39mself\u001b[39m\u001b[39m.\u001b[39mpicture)\n",
      "File \u001b[0;32m~/repos/pyPhoPlaceCellAnalysis/src/pyphoplacecellanalysis/External/pyqtgraph/graphicsItems/GridItem.py:191\u001b[0m, in \u001b[0;36mGridItem.generatePicture\u001b[0;34m(self)\u001b[0m\n\u001b[1;32m    189\u001b[0m                 texts\u001b[39m.\u001b[39mappend((QtCore\u001b[39m.\u001b[39mQPointF(x, y), \u001b[39m\"\u001b[39m\u001b[39m%g\u001b[39;00m\u001b[39m\"\u001b[39m\u001b[39m%\u001b[39mp1[ax]))\n\u001b[1;32m    190\u001b[0m tr \u001b[39m=\u001b[39m \u001b[39mself\u001b[39m\u001b[39m.\u001b[39mdeviceTransform()\n\u001b[0;32m--> 191\u001b[0m p\u001b[39m.\u001b[39msetWorldTransform(fn\u001b[39m.\u001b[39;49minvertQTransform(tr))\n\u001b[1;32m    193\u001b[0m \u001b[39mif\u001b[39;00m textPen \u001b[39mis\u001b[39;00m \u001b[39mnot\u001b[39;00m \u001b[39mNone\u001b[39;00m \u001b[39mand\u001b[39;00m \u001b[39mlen\u001b[39m(texts) \u001b[39m>\u001b[39m \u001b[39m0\u001b[39m:\n\u001b[1;32m    194\u001b[0m     \u001b[39m# if there is at least one text, then c is set\u001b[39;00m\n\u001b[1;32m    195\u001b[0m     textColor\u001b[39m.\u001b[39msetAlpha(c \u001b[39m*\u001b[39m \u001b[39m2\u001b[39m)\n",
      "File \u001b[0;32m~/repos/pyPhoPlaceCellAnalysis/src/pyphoplacecellanalysis/External/pyqtgraph/functions.py:3027\u001b[0m, in \u001b[0;36minvertQTransform\u001b[0;34m(tr)\u001b[0m\n\u001b[1;32m   3019\u001b[0m \u001b[39m\u001b[39m\u001b[39m\"\"\"Return a QTransform that is the inverse of *tr*.\u001b[39;00m\n\u001b[1;32m   3020\u001b[0m \u001b[39mA pseudo-inverse is returned if tr is not invertible.\u001b[39;00m\n\u001b[1;32m   3021\u001b[0m \u001b[39m\u001b[39;00m\n\u001b[0;32m   (...)\u001b[0m\n\u001b[1;32m   3024\u001b[0m \u001b[39mwhen determining whether a matrix is invertible)\u001b[39;00m\n\u001b[1;32m   3025\u001b[0m \u001b[39m\"\"\"\u001b[39;00m\n\u001b[1;32m   3026\u001b[0m \u001b[39mtry\u001b[39;00m:\n\u001b[0;32m-> 3027\u001b[0m     det \u001b[39m=\u001b[39m tr\u001b[39m.\u001b[39;49mdeterminant()\n\u001b[1;32m   3028\u001b[0m     detr \u001b[39m=\u001b[39m \u001b[39m1.0\u001b[39m \u001b[39m/\u001b[39m det    \u001b[39m# let singular matrices raise ZeroDivisionError\u001b[39;00m\n\u001b[1;32m   3029\u001b[0m     inv \u001b[39m=\u001b[39m tr\u001b[39m.\u001b[39madjoint()\n",
      "\u001b[0;31mAttributeError\u001b[0m: 'NoneType' object has no attribute 'determinant'"
     ]
    },
    {
     "ename": "AttributeError",
     "evalue": "'NoneType' object has no attribute 'determinant'",
     "output_type": "error",
     "traceback": [
      "\u001b[0;31m---------------------------------------------------------------------------\u001b[0m",
      "\u001b[0;31mAttributeError\u001b[0m                            Traceback (most recent call last)",
      "File \u001b[0;32m~/repos/pyPhoPlaceCellAnalysis/src/pyphoplacecellanalysis/External/pyqtgraph/graphicsItems/GridItem.py:99\u001b[0m, in \u001b[0;36mGridItem.paint\u001b[0;34m(self, p, opt, widget)\u001b[0m\n\u001b[1;32m     92\u001b[0m \u001b[39mdef\u001b[39;00m \u001b[39mpaint\u001b[39m(\u001b[39mself\u001b[39m, p, opt, widget):\n\u001b[1;32m     93\u001b[0m     \u001b[39m#p.setPen(QtGui.QPen(QtGui.QColor(100, 100, 100)))\u001b[39;00m\n\u001b[1;32m     94\u001b[0m     \u001b[39m#p.drawRect(self.boundingRect())\u001b[39;00m\n\u001b[1;32m     95\u001b[0m     \u001b[39m#UIGraphicsItem.paint(self, p, opt, widget)\u001b[39;00m\n\u001b[1;32m     96\u001b[0m     \u001b[39m### draw picture\u001b[39;00m\n\u001b[1;32m     97\u001b[0m     \u001b[39mif\u001b[39;00m \u001b[39mself\u001b[39m\u001b[39m.\u001b[39mpicture \u001b[39mis\u001b[39;00m \u001b[39mNone\u001b[39;00m:\n\u001b[1;32m     98\u001b[0m         \u001b[39m#print \"no pic, draw..\"\u001b[39;00m\n\u001b[0;32m---> 99\u001b[0m         \u001b[39mself\u001b[39;49m\u001b[39m.\u001b[39;49mgeneratePicture()\n\u001b[1;32m    100\u001b[0m     p\u001b[39m.\u001b[39mdrawPicture(QtCore\u001b[39m.\u001b[39mQPointF(\u001b[39m0\u001b[39m, \u001b[39m0\u001b[39m), \u001b[39mself\u001b[39m\u001b[39m.\u001b[39mpicture)\n",
      "File \u001b[0;32m~/repos/pyPhoPlaceCellAnalysis/src/pyphoplacecellanalysis/External/pyqtgraph/graphicsItems/GridItem.py:191\u001b[0m, in \u001b[0;36mGridItem.generatePicture\u001b[0;34m(self)\u001b[0m\n\u001b[1;32m    189\u001b[0m                 texts\u001b[39m.\u001b[39mappend((QtCore\u001b[39m.\u001b[39mQPointF(x, y), \u001b[39m\"\u001b[39m\u001b[39m%g\u001b[39;00m\u001b[39m\"\u001b[39m\u001b[39m%\u001b[39mp1[ax]))\n\u001b[1;32m    190\u001b[0m tr \u001b[39m=\u001b[39m \u001b[39mself\u001b[39m\u001b[39m.\u001b[39mdeviceTransform()\n\u001b[0;32m--> 191\u001b[0m p\u001b[39m.\u001b[39msetWorldTransform(fn\u001b[39m.\u001b[39;49minvertQTransform(tr))\n\u001b[1;32m    193\u001b[0m \u001b[39mif\u001b[39;00m textPen \u001b[39mis\u001b[39;00m \u001b[39mnot\u001b[39;00m \u001b[39mNone\u001b[39;00m \u001b[39mand\u001b[39;00m \u001b[39mlen\u001b[39m(texts) \u001b[39m>\u001b[39m \u001b[39m0\u001b[39m:\n\u001b[1;32m    194\u001b[0m     \u001b[39m# if there is at least one text, then c is set\u001b[39;00m\n\u001b[1;32m    195\u001b[0m     textColor\u001b[39m.\u001b[39msetAlpha(c \u001b[39m*\u001b[39m \u001b[39m2\u001b[39m)\n",
      "File \u001b[0;32m~/repos/pyPhoPlaceCellAnalysis/src/pyphoplacecellanalysis/External/pyqtgraph/functions.py:3027\u001b[0m, in \u001b[0;36minvertQTransform\u001b[0;34m(tr)\u001b[0m\n\u001b[1;32m   3019\u001b[0m \u001b[39m\u001b[39m\u001b[39m\"\"\"Return a QTransform that is the inverse of *tr*.\u001b[39;00m\n\u001b[1;32m   3020\u001b[0m \u001b[39mA pseudo-inverse is returned if tr is not invertible.\u001b[39;00m\n\u001b[1;32m   3021\u001b[0m \u001b[39m\u001b[39;00m\n\u001b[0;32m   (...)\u001b[0m\n\u001b[1;32m   3024\u001b[0m \u001b[39mwhen determining whether a matrix is invertible)\u001b[39;00m\n\u001b[1;32m   3025\u001b[0m \u001b[39m\"\"\"\u001b[39;00m\n\u001b[1;32m   3026\u001b[0m \u001b[39mtry\u001b[39;00m:\n\u001b[0;32m-> 3027\u001b[0m     det \u001b[39m=\u001b[39m tr\u001b[39m.\u001b[39;49mdeterminant()\n\u001b[1;32m   3028\u001b[0m     detr \u001b[39m=\u001b[39m \u001b[39m1.0\u001b[39m \u001b[39m/\u001b[39m det    \u001b[39m# let singular matrices raise ZeroDivisionError\u001b[39;00m\n\u001b[1;32m   3029\u001b[0m     inv \u001b[39m=\u001b[39m tr\u001b[39m.\u001b[39madjoint()\n",
      "\u001b[0;31mAttributeError\u001b[0m: 'NoneType' object has no attribute 'determinant'"
     ]
    },
    {
     "ename": "AttributeError",
     "evalue": "'NoneType' object has no attribute 'determinant'",
     "output_type": "error",
     "traceback": [
      "\u001b[0;31m---------------------------------------------------------------------------\u001b[0m",
      "\u001b[0;31mAttributeError\u001b[0m                            Traceback (most recent call last)",
      "File \u001b[0;32m~/repos/pyPhoPlaceCellAnalysis/src/pyphoplacecellanalysis/External/pyqtgraph/graphicsItems/GridItem.py:99\u001b[0m, in \u001b[0;36mGridItem.paint\u001b[0;34m(self, p, opt, widget)\u001b[0m\n\u001b[1;32m     92\u001b[0m \u001b[39mdef\u001b[39;00m \u001b[39mpaint\u001b[39m(\u001b[39mself\u001b[39m, p, opt, widget):\n\u001b[1;32m     93\u001b[0m     \u001b[39m#p.setPen(QtGui.QPen(QtGui.QColor(100, 100, 100)))\u001b[39;00m\n\u001b[1;32m     94\u001b[0m     \u001b[39m#p.drawRect(self.boundingRect())\u001b[39;00m\n\u001b[1;32m     95\u001b[0m     \u001b[39m#UIGraphicsItem.paint(self, p, opt, widget)\u001b[39;00m\n\u001b[1;32m     96\u001b[0m     \u001b[39m### draw picture\u001b[39;00m\n\u001b[1;32m     97\u001b[0m     \u001b[39mif\u001b[39;00m \u001b[39mself\u001b[39m\u001b[39m.\u001b[39mpicture \u001b[39mis\u001b[39;00m \u001b[39mNone\u001b[39;00m:\n\u001b[1;32m     98\u001b[0m         \u001b[39m#print \"no pic, draw..\"\u001b[39;00m\n\u001b[0;32m---> 99\u001b[0m         \u001b[39mself\u001b[39;49m\u001b[39m.\u001b[39;49mgeneratePicture()\n\u001b[1;32m    100\u001b[0m     p\u001b[39m.\u001b[39mdrawPicture(QtCore\u001b[39m.\u001b[39mQPointF(\u001b[39m0\u001b[39m, \u001b[39m0\u001b[39m), \u001b[39mself\u001b[39m\u001b[39m.\u001b[39mpicture)\n",
      "File \u001b[0;32m~/repos/pyPhoPlaceCellAnalysis/src/pyphoplacecellanalysis/External/pyqtgraph/graphicsItems/GridItem.py:191\u001b[0m, in \u001b[0;36mGridItem.generatePicture\u001b[0;34m(self)\u001b[0m\n\u001b[1;32m    189\u001b[0m                 texts\u001b[39m.\u001b[39mappend((QtCore\u001b[39m.\u001b[39mQPointF(x, y), \u001b[39m\"\u001b[39m\u001b[39m%g\u001b[39;00m\u001b[39m\"\u001b[39m\u001b[39m%\u001b[39mp1[ax]))\n\u001b[1;32m    190\u001b[0m tr \u001b[39m=\u001b[39m \u001b[39mself\u001b[39m\u001b[39m.\u001b[39mdeviceTransform()\n\u001b[0;32m--> 191\u001b[0m p\u001b[39m.\u001b[39msetWorldTransform(fn\u001b[39m.\u001b[39;49minvertQTransform(tr))\n\u001b[1;32m    193\u001b[0m \u001b[39mif\u001b[39;00m textPen \u001b[39mis\u001b[39;00m \u001b[39mnot\u001b[39;00m \u001b[39mNone\u001b[39;00m \u001b[39mand\u001b[39;00m \u001b[39mlen\u001b[39m(texts) \u001b[39m>\u001b[39m \u001b[39m0\u001b[39m:\n\u001b[1;32m    194\u001b[0m     \u001b[39m# if there is at least one text, then c is set\u001b[39;00m\n\u001b[1;32m    195\u001b[0m     textColor\u001b[39m.\u001b[39msetAlpha(c \u001b[39m*\u001b[39m \u001b[39m2\u001b[39m)\n",
      "File \u001b[0;32m~/repos/pyPhoPlaceCellAnalysis/src/pyphoplacecellanalysis/External/pyqtgraph/functions.py:3027\u001b[0m, in \u001b[0;36minvertQTransform\u001b[0;34m(tr)\u001b[0m\n\u001b[1;32m   3019\u001b[0m \u001b[39m\u001b[39m\u001b[39m\"\"\"Return a QTransform that is the inverse of *tr*.\u001b[39;00m\n\u001b[1;32m   3020\u001b[0m \u001b[39mA pseudo-inverse is returned if tr is not invertible.\u001b[39;00m\n\u001b[1;32m   3021\u001b[0m \u001b[39m\u001b[39;00m\n\u001b[0;32m   (...)\u001b[0m\n\u001b[1;32m   3024\u001b[0m \u001b[39mwhen determining whether a matrix is invertible)\u001b[39;00m\n\u001b[1;32m   3025\u001b[0m \u001b[39m\"\"\"\u001b[39;00m\n\u001b[1;32m   3026\u001b[0m \u001b[39mtry\u001b[39;00m:\n\u001b[0;32m-> 3027\u001b[0m     det \u001b[39m=\u001b[39m tr\u001b[39m.\u001b[39;49mdeterminant()\n\u001b[1;32m   3028\u001b[0m     detr \u001b[39m=\u001b[39m \u001b[39m1.0\u001b[39m \u001b[39m/\u001b[39m det    \u001b[39m# let singular matrices raise ZeroDivisionError\u001b[39;00m\n\u001b[1;32m   3029\u001b[0m     inv \u001b[39m=\u001b[39m tr\u001b[39m.\u001b[39madjoint()\n",
      "\u001b[0;31mAttributeError\u001b[0m: 'NoneType' object has no attribute 'determinant'"
     ]
    },
    {
     "ename": "AttributeError",
     "evalue": "'NoneType' object has no attribute 'determinant'",
     "output_type": "error",
     "traceback": [
      "\u001b[0;31m---------------------------------------------------------------------------\u001b[0m",
      "\u001b[0;31mAttributeError\u001b[0m                            Traceback (most recent call last)",
      "File \u001b[0;32m~/repos/pyPhoPlaceCellAnalysis/src/pyphoplacecellanalysis/External/pyqtgraph/graphicsItems/GridItem.py:99\u001b[0m, in \u001b[0;36mGridItem.paint\u001b[0;34m(self, p, opt, widget)\u001b[0m\n\u001b[1;32m     92\u001b[0m \u001b[39mdef\u001b[39;00m \u001b[39mpaint\u001b[39m(\u001b[39mself\u001b[39m, p, opt, widget):\n\u001b[1;32m     93\u001b[0m     \u001b[39m#p.setPen(QtGui.QPen(QtGui.QColor(100, 100, 100)))\u001b[39;00m\n\u001b[1;32m     94\u001b[0m     \u001b[39m#p.drawRect(self.boundingRect())\u001b[39;00m\n\u001b[1;32m     95\u001b[0m     \u001b[39m#UIGraphicsItem.paint(self, p, opt, widget)\u001b[39;00m\n\u001b[1;32m     96\u001b[0m     \u001b[39m### draw picture\u001b[39;00m\n\u001b[1;32m     97\u001b[0m     \u001b[39mif\u001b[39;00m \u001b[39mself\u001b[39m\u001b[39m.\u001b[39mpicture \u001b[39mis\u001b[39;00m \u001b[39mNone\u001b[39;00m:\n\u001b[1;32m     98\u001b[0m         \u001b[39m#print \"no pic, draw..\"\u001b[39;00m\n\u001b[0;32m---> 99\u001b[0m         \u001b[39mself\u001b[39;49m\u001b[39m.\u001b[39;49mgeneratePicture()\n\u001b[1;32m    100\u001b[0m     p\u001b[39m.\u001b[39mdrawPicture(QtCore\u001b[39m.\u001b[39mQPointF(\u001b[39m0\u001b[39m, \u001b[39m0\u001b[39m), \u001b[39mself\u001b[39m\u001b[39m.\u001b[39mpicture)\n",
      "File \u001b[0;32m~/repos/pyPhoPlaceCellAnalysis/src/pyphoplacecellanalysis/External/pyqtgraph/graphicsItems/GridItem.py:191\u001b[0m, in \u001b[0;36mGridItem.generatePicture\u001b[0;34m(self)\u001b[0m\n\u001b[1;32m    189\u001b[0m                 texts\u001b[39m.\u001b[39mappend((QtCore\u001b[39m.\u001b[39mQPointF(x, y), \u001b[39m\"\u001b[39m\u001b[39m%g\u001b[39;00m\u001b[39m\"\u001b[39m\u001b[39m%\u001b[39mp1[ax]))\n\u001b[1;32m    190\u001b[0m tr \u001b[39m=\u001b[39m \u001b[39mself\u001b[39m\u001b[39m.\u001b[39mdeviceTransform()\n\u001b[0;32m--> 191\u001b[0m p\u001b[39m.\u001b[39msetWorldTransform(fn\u001b[39m.\u001b[39;49minvertQTransform(tr))\n\u001b[1;32m    193\u001b[0m \u001b[39mif\u001b[39;00m textPen \u001b[39mis\u001b[39;00m \u001b[39mnot\u001b[39;00m \u001b[39mNone\u001b[39;00m \u001b[39mand\u001b[39;00m \u001b[39mlen\u001b[39m(texts) \u001b[39m>\u001b[39m \u001b[39m0\u001b[39m:\n\u001b[1;32m    194\u001b[0m     \u001b[39m# if there is at least one text, then c is set\u001b[39;00m\n\u001b[1;32m    195\u001b[0m     textColor\u001b[39m.\u001b[39msetAlpha(c \u001b[39m*\u001b[39m \u001b[39m2\u001b[39m)\n",
      "File \u001b[0;32m~/repos/pyPhoPlaceCellAnalysis/src/pyphoplacecellanalysis/External/pyqtgraph/functions.py:3027\u001b[0m, in \u001b[0;36minvertQTransform\u001b[0;34m(tr)\u001b[0m\n\u001b[1;32m   3019\u001b[0m \u001b[39m\u001b[39m\u001b[39m\"\"\"Return a QTransform that is the inverse of *tr*.\u001b[39;00m\n\u001b[1;32m   3020\u001b[0m \u001b[39mA pseudo-inverse is returned if tr is not invertible.\u001b[39;00m\n\u001b[1;32m   3021\u001b[0m \u001b[39m\u001b[39;00m\n\u001b[0;32m   (...)\u001b[0m\n\u001b[1;32m   3024\u001b[0m \u001b[39mwhen determining whether a matrix is invertible)\u001b[39;00m\n\u001b[1;32m   3025\u001b[0m \u001b[39m\"\"\"\u001b[39;00m\n\u001b[1;32m   3026\u001b[0m \u001b[39mtry\u001b[39;00m:\n\u001b[0;32m-> 3027\u001b[0m     det \u001b[39m=\u001b[39m tr\u001b[39m.\u001b[39;49mdeterminant()\n\u001b[1;32m   3028\u001b[0m     detr \u001b[39m=\u001b[39m \u001b[39m1.0\u001b[39m \u001b[39m/\u001b[39m det    \u001b[39m# let singular matrices raise ZeroDivisionError\u001b[39;00m\n\u001b[1;32m   3029\u001b[0m     inv \u001b[39m=\u001b[39m tr\u001b[39m.\u001b[39madjoint()\n",
      "\u001b[0;31mAttributeError\u001b[0m: 'NoneType' object has no attribute 'determinant'"
     ]
    },
    {
     "ename": "AttributeError",
     "evalue": "'NoneType' object has no attribute 'determinant'",
     "output_type": "error",
     "traceback": [
      "\u001b[0;31m---------------------------------------------------------------------------\u001b[0m",
      "\u001b[0;31mAttributeError\u001b[0m                            Traceback (most recent call last)",
      "File \u001b[0;32m~/repos/pyPhoPlaceCellAnalysis/src/pyphoplacecellanalysis/External/pyqtgraph/graphicsItems/GridItem.py:99\u001b[0m, in \u001b[0;36mGridItem.paint\u001b[0;34m(self, p, opt, widget)\u001b[0m\n\u001b[1;32m     92\u001b[0m \u001b[39mdef\u001b[39;00m \u001b[39mpaint\u001b[39m(\u001b[39mself\u001b[39m, p, opt, widget):\n\u001b[1;32m     93\u001b[0m     \u001b[39m#p.setPen(QtGui.QPen(QtGui.QColor(100, 100, 100)))\u001b[39;00m\n\u001b[1;32m     94\u001b[0m     \u001b[39m#p.drawRect(self.boundingRect())\u001b[39;00m\n\u001b[1;32m     95\u001b[0m     \u001b[39m#UIGraphicsItem.paint(self, p, opt, widget)\u001b[39;00m\n\u001b[1;32m     96\u001b[0m     \u001b[39m### draw picture\u001b[39;00m\n\u001b[1;32m     97\u001b[0m     \u001b[39mif\u001b[39;00m \u001b[39mself\u001b[39m\u001b[39m.\u001b[39mpicture \u001b[39mis\u001b[39;00m \u001b[39mNone\u001b[39;00m:\n\u001b[1;32m     98\u001b[0m         \u001b[39m#print \"no pic, draw..\"\u001b[39;00m\n\u001b[0;32m---> 99\u001b[0m         \u001b[39mself\u001b[39;49m\u001b[39m.\u001b[39;49mgeneratePicture()\n\u001b[1;32m    100\u001b[0m     p\u001b[39m.\u001b[39mdrawPicture(QtCore\u001b[39m.\u001b[39mQPointF(\u001b[39m0\u001b[39m, \u001b[39m0\u001b[39m), \u001b[39mself\u001b[39m\u001b[39m.\u001b[39mpicture)\n",
      "File \u001b[0;32m~/repos/pyPhoPlaceCellAnalysis/src/pyphoplacecellanalysis/External/pyqtgraph/graphicsItems/GridItem.py:191\u001b[0m, in \u001b[0;36mGridItem.generatePicture\u001b[0;34m(self)\u001b[0m\n\u001b[1;32m    189\u001b[0m                 texts\u001b[39m.\u001b[39mappend((QtCore\u001b[39m.\u001b[39mQPointF(x, y), \u001b[39m\"\u001b[39m\u001b[39m%g\u001b[39;00m\u001b[39m\"\u001b[39m\u001b[39m%\u001b[39mp1[ax]))\n\u001b[1;32m    190\u001b[0m tr \u001b[39m=\u001b[39m \u001b[39mself\u001b[39m\u001b[39m.\u001b[39mdeviceTransform()\n\u001b[0;32m--> 191\u001b[0m p\u001b[39m.\u001b[39msetWorldTransform(fn\u001b[39m.\u001b[39;49minvertQTransform(tr))\n\u001b[1;32m    193\u001b[0m \u001b[39mif\u001b[39;00m textPen \u001b[39mis\u001b[39;00m \u001b[39mnot\u001b[39;00m \u001b[39mNone\u001b[39;00m \u001b[39mand\u001b[39;00m \u001b[39mlen\u001b[39m(texts) \u001b[39m>\u001b[39m \u001b[39m0\u001b[39m:\n\u001b[1;32m    194\u001b[0m     \u001b[39m# if there is at least one text, then c is set\u001b[39;00m\n\u001b[1;32m    195\u001b[0m     textColor\u001b[39m.\u001b[39msetAlpha(c \u001b[39m*\u001b[39m \u001b[39m2\u001b[39m)\n",
      "File \u001b[0;32m~/repos/pyPhoPlaceCellAnalysis/src/pyphoplacecellanalysis/External/pyqtgraph/functions.py:3027\u001b[0m, in \u001b[0;36minvertQTransform\u001b[0;34m(tr)\u001b[0m\n\u001b[1;32m   3019\u001b[0m \u001b[39m\u001b[39m\u001b[39m\"\"\"Return a QTransform that is the inverse of *tr*.\u001b[39;00m\n\u001b[1;32m   3020\u001b[0m \u001b[39mA pseudo-inverse is returned if tr is not invertible.\u001b[39;00m\n\u001b[1;32m   3021\u001b[0m \u001b[39m\u001b[39;00m\n\u001b[0;32m   (...)\u001b[0m\n\u001b[1;32m   3024\u001b[0m \u001b[39mwhen determining whether a matrix is invertible)\u001b[39;00m\n\u001b[1;32m   3025\u001b[0m \u001b[39m\"\"\"\u001b[39;00m\n\u001b[1;32m   3026\u001b[0m \u001b[39mtry\u001b[39;00m:\n\u001b[0;32m-> 3027\u001b[0m     det \u001b[39m=\u001b[39m tr\u001b[39m.\u001b[39;49mdeterminant()\n\u001b[1;32m   3028\u001b[0m     detr \u001b[39m=\u001b[39m \u001b[39m1.0\u001b[39m \u001b[39m/\u001b[39m det    \u001b[39m# let singular matrices raise ZeroDivisionError\u001b[39;00m\n\u001b[1;32m   3029\u001b[0m     inv \u001b[39m=\u001b[39m tr\u001b[39m.\u001b[39madjoint()\n",
      "\u001b[0;31mAttributeError\u001b[0m: 'NoneType' object has no attribute 'determinant'"
     ]
    },
    {
     "ename": "AttributeError",
     "evalue": "'NoneType' object has no attribute 'determinant'",
     "output_type": "error",
     "traceback": [
      "\u001b[0;31m---------------------------------------------------------------------------\u001b[0m",
      "\u001b[0;31mAttributeError\u001b[0m                            Traceback (most recent call last)",
      "File \u001b[0;32m~/repos/pyPhoPlaceCellAnalysis/src/pyphoplacecellanalysis/External/pyqtgraph/graphicsItems/GridItem.py:99\u001b[0m, in \u001b[0;36mGridItem.paint\u001b[0;34m(self, p, opt, widget)\u001b[0m\n\u001b[1;32m     92\u001b[0m \u001b[39mdef\u001b[39;00m \u001b[39mpaint\u001b[39m(\u001b[39mself\u001b[39m, p, opt, widget):\n\u001b[1;32m     93\u001b[0m     \u001b[39m#p.setPen(QtGui.QPen(QtGui.QColor(100, 100, 100)))\u001b[39;00m\n\u001b[1;32m     94\u001b[0m     \u001b[39m#p.drawRect(self.boundingRect())\u001b[39;00m\n\u001b[1;32m     95\u001b[0m     \u001b[39m#UIGraphicsItem.paint(self, p, opt, widget)\u001b[39;00m\n\u001b[1;32m     96\u001b[0m     \u001b[39m### draw picture\u001b[39;00m\n\u001b[1;32m     97\u001b[0m     \u001b[39mif\u001b[39;00m \u001b[39mself\u001b[39m\u001b[39m.\u001b[39mpicture \u001b[39mis\u001b[39;00m \u001b[39mNone\u001b[39;00m:\n\u001b[1;32m     98\u001b[0m         \u001b[39m#print \"no pic, draw..\"\u001b[39;00m\n\u001b[0;32m---> 99\u001b[0m         \u001b[39mself\u001b[39;49m\u001b[39m.\u001b[39;49mgeneratePicture()\n\u001b[1;32m    100\u001b[0m     p\u001b[39m.\u001b[39mdrawPicture(QtCore\u001b[39m.\u001b[39mQPointF(\u001b[39m0\u001b[39m, \u001b[39m0\u001b[39m), \u001b[39mself\u001b[39m\u001b[39m.\u001b[39mpicture)\n",
      "File \u001b[0;32m~/repos/pyPhoPlaceCellAnalysis/src/pyphoplacecellanalysis/External/pyqtgraph/graphicsItems/GridItem.py:191\u001b[0m, in \u001b[0;36mGridItem.generatePicture\u001b[0;34m(self)\u001b[0m\n\u001b[1;32m    189\u001b[0m                 texts\u001b[39m.\u001b[39mappend((QtCore\u001b[39m.\u001b[39mQPointF(x, y), \u001b[39m\"\u001b[39m\u001b[39m%g\u001b[39;00m\u001b[39m\"\u001b[39m\u001b[39m%\u001b[39mp1[ax]))\n\u001b[1;32m    190\u001b[0m tr \u001b[39m=\u001b[39m \u001b[39mself\u001b[39m\u001b[39m.\u001b[39mdeviceTransform()\n\u001b[0;32m--> 191\u001b[0m p\u001b[39m.\u001b[39msetWorldTransform(fn\u001b[39m.\u001b[39;49minvertQTransform(tr))\n\u001b[1;32m    193\u001b[0m \u001b[39mif\u001b[39;00m textPen \u001b[39mis\u001b[39;00m \u001b[39mnot\u001b[39;00m \u001b[39mNone\u001b[39;00m \u001b[39mand\u001b[39;00m \u001b[39mlen\u001b[39m(texts) \u001b[39m>\u001b[39m \u001b[39m0\u001b[39m:\n\u001b[1;32m    194\u001b[0m     \u001b[39m# if there is at least one text, then c is set\u001b[39;00m\n\u001b[1;32m    195\u001b[0m     textColor\u001b[39m.\u001b[39msetAlpha(c \u001b[39m*\u001b[39m \u001b[39m2\u001b[39m)\n",
      "File \u001b[0;32m~/repos/pyPhoPlaceCellAnalysis/src/pyphoplacecellanalysis/External/pyqtgraph/functions.py:3027\u001b[0m, in \u001b[0;36minvertQTransform\u001b[0;34m(tr)\u001b[0m\n\u001b[1;32m   3019\u001b[0m \u001b[39m\u001b[39m\u001b[39m\"\"\"Return a QTransform that is the inverse of *tr*.\u001b[39;00m\n\u001b[1;32m   3020\u001b[0m \u001b[39mA pseudo-inverse is returned if tr is not invertible.\u001b[39;00m\n\u001b[1;32m   3021\u001b[0m \u001b[39m\u001b[39;00m\n\u001b[0;32m   (...)\u001b[0m\n\u001b[1;32m   3024\u001b[0m \u001b[39mwhen determining whether a matrix is invertible)\u001b[39;00m\n\u001b[1;32m   3025\u001b[0m \u001b[39m\"\"\"\u001b[39;00m\n\u001b[1;32m   3026\u001b[0m \u001b[39mtry\u001b[39;00m:\n\u001b[0;32m-> 3027\u001b[0m     det \u001b[39m=\u001b[39m tr\u001b[39m.\u001b[39;49mdeterminant()\n\u001b[1;32m   3028\u001b[0m     detr \u001b[39m=\u001b[39m \u001b[39m1.0\u001b[39m \u001b[39m/\u001b[39m det    \u001b[39m# let singular matrices raise ZeroDivisionError\u001b[39;00m\n\u001b[1;32m   3029\u001b[0m     inv \u001b[39m=\u001b[39m tr\u001b[39m.\u001b[39madjoint()\n",
      "\u001b[0;31mAttributeError\u001b[0m: 'NoneType' object has no attribute 'determinant'"
     ]
    },
    {
     "ename": "AttributeError",
     "evalue": "'NoneType' object has no attribute 'determinant'",
     "output_type": "error",
     "traceback": [
      "\u001b[0;31m---------------------------------------------------------------------------\u001b[0m",
      "\u001b[0;31mAttributeError\u001b[0m                            Traceback (most recent call last)",
      "File \u001b[0;32m~/repos/pyPhoPlaceCellAnalysis/src/pyphoplacecellanalysis/External/pyqtgraph/graphicsItems/GridItem.py:99\u001b[0m, in \u001b[0;36mGridItem.paint\u001b[0;34m(self, p, opt, widget)\u001b[0m\n\u001b[1;32m     92\u001b[0m \u001b[39mdef\u001b[39;00m \u001b[39mpaint\u001b[39m(\u001b[39mself\u001b[39m, p, opt, widget):\n\u001b[1;32m     93\u001b[0m     \u001b[39m#p.setPen(QtGui.QPen(QtGui.QColor(100, 100, 100)))\u001b[39;00m\n\u001b[1;32m     94\u001b[0m     \u001b[39m#p.drawRect(self.boundingRect())\u001b[39;00m\n\u001b[1;32m     95\u001b[0m     \u001b[39m#UIGraphicsItem.paint(self, p, opt, widget)\u001b[39;00m\n\u001b[1;32m     96\u001b[0m     \u001b[39m### draw picture\u001b[39;00m\n\u001b[1;32m     97\u001b[0m     \u001b[39mif\u001b[39;00m \u001b[39mself\u001b[39m\u001b[39m.\u001b[39mpicture \u001b[39mis\u001b[39;00m \u001b[39mNone\u001b[39;00m:\n\u001b[1;32m     98\u001b[0m         \u001b[39m#print \"no pic, draw..\"\u001b[39;00m\n\u001b[0;32m---> 99\u001b[0m         \u001b[39mself\u001b[39;49m\u001b[39m.\u001b[39;49mgeneratePicture()\n\u001b[1;32m    100\u001b[0m     p\u001b[39m.\u001b[39mdrawPicture(QtCore\u001b[39m.\u001b[39mQPointF(\u001b[39m0\u001b[39m, \u001b[39m0\u001b[39m), \u001b[39mself\u001b[39m\u001b[39m.\u001b[39mpicture)\n",
      "File \u001b[0;32m~/repos/pyPhoPlaceCellAnalysis/src/pyphoplacecellanalysis/External/pyqtgraph/graphicsItems/GridItem.py:191\u001b[0m, in \u001b[0;36mGridItem.generatePicture\u001b[0;34m(self)\u001b[0m\n\u001b[1;32m    189\u001b[0m                 texts\u001b[39m.\u001b[39mappend((QtCore\u001b[39m.\u001b[39mQPointF(x, y), \u001b[39m\"\u001b[39m\u001b[39m%g\u001b[39;00m\u001b[39m\"\u001b[39m\u001b[39m%\u001b[39mp1[ax]))\n\u001b[1;32m    190\u001b[0m tr \u001b[39m=\u001b[39m \u001b[39mself\u001b[39m\u001b[39m.\u001b[39mdeviceTransform()\n\u001b[0;32m--> 191\u001b[0m p\u001b[39m.\u001b[39msetWorldTransform(fn\u001b[39m.\u001b[39;49minvertQTransform(tr))\n\u001b[1;32m    193\u001b[0m \u001b[39mif\u001b[39;00m textPen \u001b[39mis\u001b[39;00m \u001b[39mnot\u001b[39;00m \u001b[39mNone\u001b[39;00m \u001b[39mand\u001b[39;00m \u001b[39mlen\u001b[39m(texts) \u001b[39m>\u001b[39m \u001b[39m0\u001b[39m:\n\u001b[1;32m    194\u001b[0m     \u001b[39m# if there is at least one text, then c is set\u001b[39;00m\n\u001b[1;32m    195\u001b[0m     textColor\u001b[39m.\u001b[39msetAlpha(c \u001b[39m*\u001b[39m \u001b[39m2\u001b[39m)\n",
      "File \u001b[0;32m~/repos/pyPhoPlaceCellAnalysis/src/pyphoplacecellanalysis/External/pyqtgraph/functions.py:3027\u001b[0m, in \u001b[0;36minvertQTransform\u001b[0;34m(tr)\u001b[0m\n\u001b[1;32m   3019\u001b[0m \u001b[39m\u001b[39m\u001b[39m\"\"\"Return a QTransform that is the inverse of *tr*.\u001b[39;00m\n\u001b[1;32m   3020\u001b[0m \u001b[39mA pseudo-inverse is returned if tr is not invertible.\u001b[39;00m\n\u001b[1;32m   3021\u001b[0m \u001b[39m\u001b[39;00m\n\u001b[0;32m   (...)\u001b[0m\n\u001b[1;32m   3024\u001b[0m \u001b[39mwhen determining whether a matrix is invertible)\u001b[39;00m\n\u001b[1;32m   3025\u001b[0m \u001b[39m\"\"\"\u001b[39;00m\n\u001b[1;32m   3026\u001b[0m \u001b[39mtry\u001b[39;00m:\n\u001b[0;32m-> 3027\u001b[0m     det \u001b[39m=\u001b[39m tr\u001b[39m.\u001b[39;49mdeterminant()\n\u001b[1;32m   3028\u001b[0m     detr \u001b[39m=\u001b[39m \u001b[39m1.0\u001b[39m \u001b[39m/\u001b[39m det    \u001b[39m# let singular matrices raise ZeroDivisionError\u001b[39;00m\n\u001b[1;32m   3029\u001b[0m     inv \u001b[39m=\u001b[39m tr\u001b[39m.\u001b[39madjoint()\n",
      "\u001b[0;31mAttributeError\u001b[0m: 'NoneType' object has no attribute 'determinant'"
     ]
    },
    {
     "ename": "AttributeError",
     "evalue": "'NoneType' object has no attribute 'determinant'",
     "output_type": "error",
     "traceback": [
      "\u001b[0;31m---------------------------------------------------------------------------\u001b[0m",
      "\u001b[0;31mAttributeError\u001b[0m                            Traceback (most recent call last)",
      "File \u001b[0;32m~/repos/pyPhoPlaceCellAnalysis/src/pyphoplacecellanalysis/External/pyqtgraph/graphicsItems/GridItem.py:99\u001b[0m, in \u001b[0;36mGridItem.paint\u001b[0;34m(self, p, opt, widget)\u001b[0m\n\u001b[1;32m     92\u001b[0m \u001b[39mdef\u001b[39;00m \u001b[39mpaint\u001b[39m(\u001b[39mself\u001b[39m, p, opt, widget):\n\u001b[1;32m     93\u001b[0m     \u001b[39m#p.setPen(QtGui.QPen(QtGui.QColor(100, 100, 100)))\u001b[39;00m\n\u001b[1;32m     94\u001b[0m     \u001b[39m#p.drawRect(self.boundingRect())\u001b[39;00m\n\u001b[1;32m     95\u001b[0m     \u001b[39m#UIGraphicsItem.paint(self, p, opt, widget)\u001b[39;00m\n\u001b[1;32m     96\u001b[0m     \u001b[39m### draw picture\u001b[39;00m\n\u001b[1;32m     97\u001b[0m     \u001b[39mif\u001b[39;00m \u001b[39mself\u001b[39m\u001b[39m.\u001b[39mpicture \u001b[39mis\u001b[39;00m \u001b[39mNone\u001b[39;00m:\n\u001b[1;32m     98\u001b[0m         \u001b[39m#print \"no pic, draw..\"\u001b[39;00m\n\u001b[0;32m---> 99\u001b[0m         \u001b[39mself\u001b[39;49m\u001b[39m.\u001b[39;49mgeneratePicture()\n\u001b[1;32m    100\u001b[0m     p\u001b[39m.\u001b[39mdrawPicture(QtCore\u001b[39m.\u001b[39mQPointF(\u001b[39m0\u001b[39m, \u001b[39m0\u001b[39m), \u001b[39mself\u001b[39m\u001b[39m.\u001b[39mpicture)\n",
      "File \u001b[0;32m~/repos/pyPhoPlaceCellAnalysis/src/pyphoplacecellanalysis/External/pyqtgraph/graphicsItems/GridItem.py:191\u001b[0m, in \u001b[0;36mGridItem.generatePicture\u001b[0;34m(self)\u001b[0m\n\u001b[1;32m    189\u001b[0m                 texts\u001b[39m.\u001b[39mappend((QtCore\u001b[39m.\u001b[39mQPointF(x, y), \u001b[39m\"\u001b[39m\u001b[39m%g\u001b[39;00m\u001b[39m\"\u001b[39m\u001b[39m%\u001b[39mp1[ax]))\n\u001b[1;32m    190\u001b[0m tr \u001b[39m=\u001b[39m \u001b[39mself\u001b[39m\u001b[39m.\u001b[39mdeviceTransform()\n\u001b[0;32m--> 191\u001b[0m p\u001b[39m.\u001b[39msetWorldTransform(fn\u001b[39m.\u001b[39;49minvertQTransform(tr))\n\u001b[1;32m    193\u001b[0m \u001b[39mif\u001b[39;00m textPen \u001b[39mis\u001b[39;00m \u001b[39mnot\u001b[39;00m \u001b[39mNone\u001b[39;00m \u001b[39mand\u001b[39;00m \u001b[39mlen\u001b[39m(texts) \u001b[39m>\u001b[39m \u001b[39m0\u001b[39m:\n\u001b[1;32m    194\u001b[0m     \u001b[39m# if there is at least one text, then c is set\u001b[39;00m\n\u001b[1;32m    195\u001b[0m     textColor\u001b[39m.\u001b[39msetAlpha(c \u001b[39m*\u001b[39m \u001b[39m2\u001b[39m)\n",
      "File \u001b[0;32m~/repos/pyPhoPlaceCellAnalysis/src/pyphoplacecellanalysis/External/pyqtgraph/functions.py:3027\u001b[0m, in \u001b[0;36minvertQTransform\u001b[0;34m(tr)\u001b[0m\n\u001b[1;32m   3019\u001b[0m \u001b[39m\u001b[39m\u001b[39m\"\"\"Return a QTransform that is the inverse of *tr*.\u001b[39;00m\n\u001b[1;32m   3020\u001b[0m \u001b[39mA pseudo-inverse is returned if tr is not invertible.\u001b[39;00m\n\u001b[1;32m   3021\u001b[0m \u001b[39m\u001b[39;00m\n\u001b[0;32m   (...)\u001b[0m\n\u001b[1;32m   3024\u001b[0m \u001b[39mwhen determining whether a matrix is invertible)\u001b[39;00m\n\u001b[1;32m   3025\u001b[0m \u001b[39m\"\"\"\u001b[39;00m\n\u001b[1;32m   3026\u001b[0m \u001b[39mtry\u001b[39;00m:\n\u001b[0;32m-> 3027\u001b[0m     det \u001b[39m=\u001b[39m tr\u001b[39m.\u001b[39;49mdeterminant()\n\u001b[1;32m   3028\u001b[0m     detr \u001b[39m=\u001b[39m \u001b[39m1.0\u001b[39m \u001b[39m/\u001b[39m det    \u001b[39m# let singular matrices raise ZeroDivisionError\u001b[39;00m\n\u001b[1;32m   3029\u001b[0m     inv \u001b[39m=\u001b[39m tr\u001b[39m.\u001b[39madjoint()\n",
      "\u001b[0;31mAttributeError\u001b[0m: 'NoneType' object has no attribute 'determinant'"
     ]
    },
    {
     "ename": "AttributeError",
     "evalue": "'NoneType' object has no attribute 'determinant'",
     "output_type": "error",
     "traceback": [
      "\u001b[0;31m---------------------------------------------------------------------------\u001b[0m",
      "\u001b[0;31mAttributeError\u001b[0m                            Traceback (most recent call last)",
      "File \u001b[0;32m~/repos/pyPhoPlaceCellAnalysis/src/pyphoplacecellanalysis/External/pyqtgraph/graphicsItems/GridItem.py:99\u001b[0m, in \u001b[0;36mGridItem.paint\u001b[0;34m(self, p, opt, widget)\u001b[0m\n\u001b[1;32m     92\u001b[0m \u001b[39mdef\u001b[39;00m \u001b[39mpaint\u001b[39m(\u001b[39mself\u001b[39m, p, opt, widget):\n\u001b[1;32m     93\u001b[0m     \u001b[39m#p.setPen(QtGui.QPen(QtGui.QColor(100, 100, 100)))\u001b[39;00m\n\u001b[1;32m     94\u001b[0m     \u001b[39m#p.drawRect(self.boundingRect())\u001b[39;00m\n\u001b[1;32m     95\u001b[0m     \u001b[39m#UIGraphicsItem.paint(self, p, opt, widget)\u001b[39;00m\n\u001b[1;32m     96\u001b[0m     \u001b[39m### draw picture\u001b[39;00m\n\u001b[1;32m     97\u001b[0m     \u001b[39mif\u001b[39;00m \u001b[39mself\u001b[39m\u001b[39m.\u001b[39mpicture \u001b[39mis\u001b[39;00m \u001b[39mNone\u001b[39;00m:\n\u001b[1;32m     98\u001b[0m         \u001b[39m#print \"no pic, draw..\"\u001b[39;00m\n\u001b[0;32m---> 99\u001b[0m         \u001b[39mself\u001b[39;49m\u001b[39m.\u001b[39;49mgeneratePicture()\n\u001b[1;32m    100\u001b[0m     p\u001b[39m.\u001b[39mdrawPicture(QtCore\u001b[39m.\u001b[39mQPointF(\u001b[39m0\u001b[39m, \u001b[39m0\u001b[39m), \u001b[39mself\u001b[39m\u001b[39m.\u001b[39mpicture)\n",
      "File \u001b[0;32m~/repos/pyPhoPlaceCellAnalysis/src/pyphoplacecellanalysis/External/pyqtgraph/graphicsItems/GridItem.py:191\u001b[0m, in \u001b[0;36mGridItem.generatePicture\u001b[0;34m(self)\u001b[0m\n\u001b[1;32m    189\u001b[0m                 texts\u001b[39m.\u001b[39mappend((QtCore\u001b[39m.\u001b[39mQPointF(x, y), \u001b[39m\"\u001b[39m\u001b[39m%g\u001b[39;00m\u001b[39m\"\u001b[39m\u001b[39m%\u001b[39mp1[ax]))\n\u001b[1;32m    190\u001b[0m tr \u001b[39m=\u001b[39m \u001b[39mself\u001b[39m\u001b[39m.\u001b[39mdeviceTransform()\n\u001b[0;32m--> 191\u001b[0m p\u001b[39m.\u001b[39msetWorldTransform(fn\u001b[39m.\u001b[39;49minvertQTransform(tr))\n\u001b[1;32m    193\u001b[0m \u001b[39mif\u001b[39;00m textPen \u001b[39mis\u001b[39;00m \u001b[39mnot\u001b[39;00m \u001b[39mNone\u001b[39;00m \u001b[39mand\u001b[39;00m \u001b[39mlen\u001b[39m(texts) \u001b[39m>\u001b[39m \u001b[39m0\u001b[39m:\n\u001b[1;32m    194\u001b[0m     \u001b[39m# if there is at least one text, then c is set\u001b[39;00m\n\u001b[1;32m    195\u001b[0m     textColor\u001b[39m.\u001b[39msetAlpha(c \u001b[39m*\u001b[39m \u001b[39m2\u001b[39m)\n",
      "File \u001b[0;32m~/repos/pyPhoPlaceCellAnalysis/src/pyphoplacecellanalysis/External/pyqtgraph/functions.py:3027\u001b[0m, in \u001b[0;36minvertQTransform\u001b[0;34m(tr)\u001b[0m\n\u001b[1;32m   3019\u001b[0m \u001b[39m\u001b[39m\u001b[39m\"\"\"Return a QTransform that is the inverse of *tr*.\u001b[39;00m\n\u001b[1;32m   3020\u001b[0m \u001b[39mA pseudo-inverse is returned if tr is not invertible.\u001b[39;00m\n\u001b[1;32m   3021\u001b[0m \u001b[39m\u001b[39;00m\n\u001b[0;32m   (...)\u001b[0m\n\u001b[1;32m   3024\u001b[0m \u001b[39mwhen determining whether a matrix is invertible)\u001b[39;00m\n\u001b[1;32m   3025\u001b[0m \u001b[39m\"\"\"\u001b[39;00m\n\u001b[1;32m   3026\u001b[0m \u001b[39mtry\u001b[39;00m:\n\u001b[0;32m-> 3027\u001b[0m     det \u001b[39m=\u001b[39m tr\u001b[39m.\u001b[39;49mdeterminant()\n\u001b[1;32m   3028\u001b[0m     detr \u001b[39m=\u001b[39m \u001b[39m1.0\u001b[39m \u001b[39m/\u001b[39m det    \u001b[39m# let singular matrices raise ZeroDivisionError\u001b[39;00m\n\u001b[1;32m   3029\u001b[0m     inv \u001b[39m=\u001b[39m tr\u001b[39m.\u001b[39madjoint()\n",
      "\u001b[0;31mAttributeError\u001b[0m: 'NoneType' object has no attribute 'determinant'"
     ]
    },
    {
     "ename": "AttributeError",
     "evalue": "'NoneType' object has no attribute 'determinant'",
     "output_type": "error",
     "traceback": [
      "\u001b[0;31m---------------------------------------------------------------------------\u001b[0m",
      "\u001b[0;31mAttributeError\u001b[0m                            Traceback (most recent call last)",
      "File \u001b[0;32m~/repos/pyPhoPlaceCellAnalysis/src/pyphoplacecellanalysis/External/pyqtgraph/graphicsItems/GridItem.py:99\u001b[0m, in \u001b[0;36mGridItem.paint\u001b[0;34m(self, p, opt, widget)\u001b[0m\n\u001b[1;32m     92\u001b[0m \u001b[39mdef\u001b[39;00m \u001b[39mpaint\u001b[39m(\u001b[39mself\u001b[39m, p, opt, widget):\n\u001b[1;32m     93\u001b[0m     \u001b[39m#p.setPen(QtGui.QPen(QtGui.QColor(100, 100, 100)))\u001b[39;00m\n\u001b[1;32m     94\u001b[0m     \u001b[39m#p.drawRect(self.boundingRect())\u001b[39;00m\n\u001b[1;32m     95\u001b[0m     \u001b[39m#UIGraphicsItem.paint(self, p, opt, widget)\u001b[39;00m\n\u001b[1;32m     96\u001b[0m     \u001b[39m### draw picture\u001b[39;00m\n\u001b[1;32m     97\u001b[0m     \u001b[39mif\u001b[39;00m \u001b[39mself\u001b[39m\u001b[39m.\u001b[39mpicture \u001b[39mis\u001b[39;00m \u001b[39mNone\u001b[39;00m:\n\u001b[1;32m     98\u001b[0m         \u001b[39m#print \"no pic, draw..\"\u001b[39;00m\n\u001b[0;32m---> 99\u001b[0m         \u001b[39mself\u001b[39;49m\u001b[39m.\u001b[39;49mgeneratePicture()\n\u001b[1;32m    100\u001b[0m     p\u001b[39m.\u001b[39mdrawPicture(QtCore\u001b[39m.\u001b[39mQPointF(\u001b[39m0\u001b[39m, \u001b[39m0\u001b[39m), \u001b[39mself\u001b[39m\u001b[39m.\u001b[39mpicture)\n",
      "File \u001b[0;32m~/repos/pyPhoPlaceCellAnalysis/src/pyphoplacecellanalysis/External/pyqtgraph/graphicsItems/GridItem.py:191\u001b[0m, in \u001b[0;36mGridItem.generatePicture\u001b[0;34m(self)\u001b[0m\n\u001b[1;32m    189\u001b[0m                 texts\u001b[39m.\u001b[39mappend((QtCore\u001b[39m.\u001b[39mQPointF(x, y), \u001b[39m\"\u001b[39m\u001b[39m%g\u001b[39;00m\u001b[39m\"\u001b[39m\u001b[39m%\u001b[39mp1[ax]))\n\u001b[1;32m    190\u001b[0m tr \u001b[39m=\u001b[39m \u001b[39mself\u001b[39m\u001b[39m.\u001b[39mdeviceTransform()\n\u001b[0;32m--> 191\u001b[0m p\u001b[39m.\u001b[39msetWorldTransform(fn\u001b[39m.\u001b[39;49minvertQTransform(tr))\n\u001b[1;32m    193\u001b[0m \u001b[39mif\u001b[39;00m textPen \u001b[39mis\u001b[39;00m \u001b[39mnot\u001b[39;00m \u001b[39mNone\u001b[39;00m \u001b[39mand\u001b[39;00m \u001b[39mlen\u001b[39m(texts) \u001b[39m>\u001b[39m \u001b[39m0\u001b[39m:\n\u001b[1;32m    194\u001b[0m     \u001b[39m# if there is at least one text, then c is set\u001b[39;00m\n\u001b[1;32m    195\u001b[0m     textColor\u001b[39m.\u001b[39msetAlpha(c \u001b[39m*\u001b[39m \u001b[39m2\u001b[39m)\n",
      "File \u001b[0;32m~/repos/pyPhoPlaceCellAnalysis/src/pyphoplacecellanalysis/External/pyqtgraph/functions.py:3027\u001b[0m, in \u001b[0;36minvertQTransform\u001b[0;34m(tr)\u001b[0m\n\u001b[1;32m   3019\u001b[0m \u001b[39m\u001b[39m\u001b[39m\"\"\"Return a QTransform that is the inverse of *tr*.\u001b[39;00m\n\u001b[1;32m   3020\u001b[0m \u001b[39mA pseudo-inverse is returned if tr is not invertible.\u001b[39;00m\n\u001b[1;32m   3021\u001b[0m \u001b[39m\u001b[39;00m\n\u001b[0;32m   (...)\u001b[0m\n\u001b[1;32m   3024\u001b[0m \u001b[39mwhen determining whether a matrix is invertible)\u001b[39;00m\n\u001b[1;32m   3025\u001b[0m \u001b[39m\"\"\"\u001b[39;00m\n\u001b[1;32m   3026\u001b[0m \u001b[39mtry\u001b[39;00m:\n\u001b[0;32m-> 3027\u001b[0m     det \u001b[39m=\u001b[39m tr\u001b[39m.\u001b[39;49mdeterminant()\n\u001b[1;32m   3028\u001b[0m     detr \u001b[39m=\u001b[39m \u001b[39m1.0\u001b[39m \u001b[39m/\u001b[39m det    \u001b[39m# let singular matrices raise ZeroDivisionError\u001b[39;00m\n\u001b[1;32m   3029\u001b[0m     inv \u001b[39m=\u001b[39m tr\u001b[39m.\u001b[39madjoint()\n",
      "\u001b[0;31mAttributeError\u001b[0m: 'NoneType' object has no attribute 'determinant'"
     ]
    },
    {
     "ename": "AttributeError",
     "evalue": "'NoneType' object has no attribute 'determinant'",
     "output_type": "error",
     "traceback": [
      "\u001b[0;31m---------------------------------------------------------------------------\u001b[0m",
      "\u001b[0;31mAttributeError\u001b[0m                            Traceback (most recent call last)",
      "File \u001b[0;32m~/repos/pyPhoPlaceCellAnalysis/src/pyphoplacecellanalysis/External/pyqtgraph/graphicsItems/GridItem.py:99\u001b[0m, in \u001b[0;36mGridItem.paint\u001b[0;34m(self, p, opt, widget)\u001b[0m\n\u001b[1;32m     92\u001b[0m \u001b[39mdef\u001b[39;00m \u001b[39mpaint\u001b[39m(\u001b[39mself\u001b[39m, p, opt, widget):\n\u001b[1;32m     93\u001b[0m     \u001b[39m#p.setPen(QtGui.QPen(QtGui.QColor(100, 100, 100)))\u001b[39;00m\n\u001b[1;32m     94\u001b[0m     \u001b[39m#p.drawRect(self.boundingRect())\u001b[39;00m\n\u001b[1;32m     95\u001b[0m     \u001b[39m#UIGraphicsItem.paint(self, p, opt, widget)\u001b[39;00m\n\u001b[1;32m     96\u001b[0m     \u001b[39m### draw picture\u001b[39;00m\n\u001b[1;32m     97\u001b[0m     \u001b[39mif\u001b[39;00m \u001b[39mself\u001b[39m\u001b[39m.\u001b[39mpicture \u001b[39mis\u001b[39;00m \u001b[39mNone\u001b[39;00m:\n\u001b[1;32m     98\u001b[0m         \u001b[39m#print \"no pic, draw..\"\u001b[39;00m\n\u001b[0;32m---> 99\u001b[0m         \u001b[39mself\u001b[39;49m\u001b[39m.\u001b[39;49mgeneratePicture()\n\u001b[1;32m    100\u001b[0m     p\u001b[39m.\u001b[39mdrawPicture(QtCore\u001b[39m.\u001b[39mQPointF(\u001b[39m0\u001b[39m, \u001b[39m0\u001b[39m), \u001b[39mself\u001b[39m\u001b[39m.\u001b[39mpicture)\n",
      "File \u001b[0;32m~/repos/pyPhoPlaceCellAnalysis/src/pyphoplacecellanalysis/External/pyqtgraph/graphicsItems/GridItem.py:191\u001b[0m, in \u001b[0;36mGridItem.generatePicture\u001b[0;34m(self)\u001b[0m\n\u001b[1;32m    189\u001b[0m                 texts\u001b[39m.\u001b[39mappend((QtCore\u001b[39m.\u001b[39mQPointF(x, y), \u001b[39m\"\u001b[39m\u001b[39m%g\u001b[39;00m\u001b[39m\"\u001b[39m\u001b[39m%\u001b[39mp1[ax]))\n\u001b[1;32m    190\u001b[0m tr \u001b[39m=\u001b[39m \u001b[39mself\u001b[39m\u001b[39m.\u001b[39mdeviceTransform()\n\u001b[0;32m--> 191\u001b[0m p\u001b[39m.\u001b[39msetWorldTransform(fn\u001b[39m.\u001b[39;49minvertQTransform(tr))\n\u001b[1;32m    193\u001b[0m \u001b[39mif\u001b[39;00m textPen \u001b[39mis\u001b[39;00m \u001b[39mnot\u001b[39;00m \u001b[39mNone\u001b[39;00m \u001b[39mand\u001b[39;00m \u001b[39mlen\u001b[39m(texts) \u001b[39m>\u001b[39m \u001b[39m0\u001b[39m:\n\u001b[1;32m    194\u001b[0m     \u001b[39m# if there is at least one text, then c is set\u001b[39;00m\n\u001b[1;32m    195\u001b[0m     textColor\u001b[39m.\u001b[39msetAlpha(c \u001b[39m*\u001b[39m \u001b[39m2\u001b[39m)\n",
      "File \u001b[0;32m~/repos/pyPhoPlaceCellAnalysis/src/pyphoplacecellanalysis/External/pyqtgraph/functions.py:3027\u001b[0m, in \u001b[0;36minvertQTransform\u001b[0;34m(tr)\u001b[0m\n\u001b[1;32m   3019\u001b[0m \u001b[39m\u001b[39m\u001b[39m\"\"\"Return a QTransform that is the inverse of *tr*.\u001b[39;00m\n\u001b[1;32m   3020\u001b[0m \u001b[39mA pseudo-inverse is returned if tr is not invertible.\u001b[39;00m\n\u001b[1;32m   3021\u001b[0m \u001b[39m\u001b[39;00m\n\u001b[0;32m   (...)\u001b[0m\n\u001b[1;32m   3024\u001b[0m \u001b[39mwhen determining whether a matrix is invertible)\u001b[39;00m\n\u001b[1;32m   3025\u001b[0m \u001b[39m\"\"\"\u001b[39;00m\n\u001b[1;32m   3026\u001b[0m \u001b[39mtry\u001b[39;00m:\n\u001b[0;32m-> 3027\u001b[0m     det \u001b[39m=\u001b[39m tr\u001b[39m.\u001b[39;49mdeterminant()\n\u001b[1;32m   3028\u001b[0m     detr \u001b[39m=\u001b[39m \u001b[39m1.0\u001b[39m \u001b[39m/\u001b[39m det    \u001b[39m# let singular matrices raise ZeroDivisionError\u001b[39;00m\n\u001b[1;32m   3029\u001b[0m     inv \u001b[39m=\u001b[39m tr\u001b[39m.\u001b[39madjoint()\n",
      "\u001b[0;31mAttributeError\u001b[0m: 'NoneType' object has no attribute 'determinant'"
     ]
    },
    {
     "name": "stdout",
     "output_type": "stream",
     "text": [
      "exported plot to /home/halechr/repos/Spike3D/EXTERNAL/Screenshots/ProgrammaticDisplayFunctionTesting/2023-10-06/kdiba/gor01/one/2006-6-08_14-26-15/plot_multiple_raster_plot_1_long_example_replays_plot_multiple_raster_plot.png\n",
      "\t saved /home/halechr/repos/Spike3D/EXTERNAL/Screenshots/ProgrammaticDisplayFunctionTesting/2023-10-06/kdiba/gor01/one/2006-6-08_14-26-15/plot_multiple_raster_plot_1_long_example_replays_plot_multiple_raster_plot.png\n",
      "merged_kwargs: {'name': 'spikeRasterOverviewWindowScatterPlotItem', 'pxMode': True, 'symbol': <PyQt5.QtGui.QPainterPath object at 0x14e585ffdf20>, 'size': 6, 'pen': {'color': 'white', 'width': 1}, 'hoverable': True}\n",
      "exported plot to /home/halechr/repos/Spike3D/EXTERNAL/Screenshots/ProgrammaticDisplayFunctionTesting/2023-10-06/kdiba/gor01/one/2006-6-08_14-26-15/plot_multiple_raster_plot_1_short_example_replays_plot_multiple_raster_plot.png\n",
      "\t saved /home/halechr/repos/Spike3D/EXTERNAL/Screenshots/ProgrammaticDisplayFunctionTesting/2023-10-06/kdiba/gor01/one/2006-6-08_14-26-15/plot_multiple_raster_plot_1_short_example_replays_plot_multiple_raster_plot.png\n"
     ]
    },
    {
     "name": "stderr",
     "output_type": "stream",
     "text": [
      "/home/halechr/repos/pyPhoPlaceCellAnalysis/src/pyphoplacecellanalysis/Pho2D/matplotlib/CustomMatplotlibWidget.py:168: UserWarning: constrained_layout not applied because axes sizes collapsed to zero.  Try making figure larger or axes decorations smaller.\n",
      "  self.ui.canvas.draw()\n"
     ]
    },
    {
     "name": "stdout",
     "output_type": "stream",
     "text": [
      "\t saved /home/halechr/repos/Spike3D/EXTERNAL/Screenshots/ProgrammaticDisplayFunctionTesting/2023-10-06/kdiba/gor01/one/2006-6-08_14-26-15/DecodedEpochSlices_replays_long_results_obj.png\n"
     ]
    },
    {
     "name": "stderr",
     "output_type": "stream",
     "text": [
      "/home/halechr/repos/pyPhoPlaceCellAnalysis/src/pyphoplacecellanalysis/Pho2D/matplotlib/CustomMatplotlibWidget.py:168: UserWarning: constrained_layout not applied because axes sizes collapsed to zero.  Try making figure larger or axes decorations smaller.\n",
      "  self.ui.canvas.draw()\n"
     ]
    },
    {
     "name": "stdout",
     "output_type": "stream",
     "text": [
      "\t saved /home/halechr/repos/Spike3D/EXTERNAL/Screenshots/ProgrammaticDisplayFunctionTesting/2023-10-06/kdiba/gor01/one/2006-6-08_14-26-15/DecodedEpochSlices_replays_short_results_obj.png\n",
      "WARNING: 2023-09-28 - Note that the above ('refined' LxC and SxC) omit long_only and short_only place cells that don't meant the 'exclusive' criteria. That means these cells will be omitted entirely (and not even included in the shared)\n",
      "WARNING: long_only_aclus is empty, so not adding kwargs for these.\n",
      "WARNING: shared_aclus is empty, so not adding kwargs for these.\n",
      "include_includelist: ['maze1', 'maze2', 'maze']\n",
      "long_epoch_name: maze1, short_epoch_name: maze2, global_epoch_name: maze\n"
     ]
    },
    {
     "name": "stderr",
     "output_type": "stream",
     "text": [
      "/home/halechr/repos/pyPhoPlaceCellAnalysis/src/pyphoplacecellanalysis/General/Pipeline/Stages/DisplayFunctions/MultiContextComparingDisplayFunctions/LongShortTrackComparingDisplayFunctions.py:1209: SettingWithCopyWarning: \n",
      "A value is trying to be set on a copy of a slice from a DataFrame.\n",
      "Try using .loc[row_indexer,col_indexer] = value instead\n",
      "\n",
      "See the caveats in the documentation: https://pandas.pydata.org/pandas-docs/stable/user_guide/indexing.html#returning-a-view-versus-a-copy\n",
      "  cell_df.loc[:, 'x'] = spk_x\n"
     ]
    },
    {
     "name": "stdout",
     "output_type": "stream",
     "text": [
      "DEPRICATION WARNING: workaround to allow subscripting ComputationResult objects. Will be depricated. key: computed_data\n"
     ]
    },
    {
     "name": "stderr",
     "output_type": "stream",
     "text": [
      "/home/halechr/repos/pyPhoPlaceCellAnalysis/src/pyphoplacecellanalysis/General/Mixins/CrossComputationComparisonHelpers.py:235: RuntimeWarning: invalid value encountered in divide\n",
      "  _long_to_short_balances = (rdf.num_short_only_neuron_participating.values - rdf.num_long_only_neuron_participating.values) / (rdf.num_short_only_neuron_participating.values + rdf.num_long_only_neuron_participating.values) ## Working but (0, 1, 1) would clip to 0.5 despite (1, 13, 0) going all the way down to -1.0\n",
      "/home/halechr/repos/pyPhoPlaceCellAnalysis/src/pyphoplacecellanalysis/General/Mixins/CrossComputationComparisonHelpers.py:265: RuntimeWarning: invalid value encountered in divide\n",
      "  _long_to_short_balances = (rdf.num_short_only_neuron_participating.values - rdf.num_long_only_neuron_participating.values) / (rdf.num_short_only_neuron_participating.values + rdf.num_long_only_neuron_participating.values) ## Working but (0, 1, 1) would clip to 0.5 despite (1, 13, 0) going all the way down to -1.0\n"
     ]
    },
    {
     "name": "stdout",
     "output_type": "stream",
     "text": [
      "WARNING: aclu 13 is not present in the `pf1D_all` ratemaps. Which contain aclus: [3, 4, 5, 7, 8, 9, 10, 11, 14, 15, 16, 17, 19, 22, 23, 24, 25, 26, 31, 32, 33, 34, 35, 36, 37, 38, 39, 41, 45, 46, 48, 49, 50, 51, 52, 53, 54, 55, 56, 57, 58, 59, 60, 61, 62, 63, 64, 66, 67, 68, 69, 71, 72, 73, 74, 75, 76, 78, 79, 82, 83, 84, 85, 86, 87, 88, 89, 90, 91, 92, 93, 95, 96, 97, 98, 99, 100, 101, 102, 107, 108, 109]\n",
      "\t saved /home/halechr/repos/Spike3D/EXTERNAL/Screenshots/ProgrammaticDisplayFunctionTesting/2023-10-06/kdiba/gor01/one/2006-6-08_14-26-15/BatchPhoJonathanReplayFRC_short_only_(4,13).png\n",
      "An exception occurred: `sort_ind` should be the indicies to sort `included_unit_neuron_IDs`.\n",
      "An exception occurred: `sort_ind` should be the indicies to sort `included_unit_neuron_IDs`.\n",
      "An exception occurred: `sort_ind` should be the indicies to sort `included_unit_neuron_IDs`.\n",
      "main_complete_figure_generations failed with exception: !! `sort_ind` should be the indicies to sort `included_unit_neuron_IDs`. ::::: (<class 'AssertionError'>, AssertionError('`sort_ind` should be the indicies to sort `included_unit_neuron_IDs`.'), <traceback object at 0x14e3ad7f79c0>)\n",
      "DEPRICATION WARNING: workaround to allow subscripting ComputationResult objects. Will be depricated. key: computation_times\n",
      "DEPRICATION WARNING: workaround to allow subscripting ComputationResult objects. Will be depricated. key: computation_times\n",
      "DEPRICATION WARNING: workaround to allow subscripting ComputationResult objects. Will be depricated. key: computation_times\n",
      "\t time since last computation: 2:50:56.069074\n",
      "\t doing specific instantaneous firing rate computation for context: kdiba_gor01_one_2006-6-08_14-26-15...\n",
      "WARN: 2023-09-28 16:15: - [ ] fix the combination properties. Would work if we directly used the computed _is_L_only and _is_S_only above\n",
      "setting LxC_aclus/SxC_aclus from user annotation.\n",
      "\t\t Now have 1 entries in self.across_sessions_instantaneous_fr_dict!\n",
      "\t\t done (success).\n",
      "\t>> calling external computation function: a_test_completion_function\n",
      "<<<<<<<<<<<<<<<<<<<<<<<<<<<<<<<<<<<<<<<<<<<<<<<<<<<<<<<<<<<<<<<<<<<<<<<<<<<<<<<<\n",
      "a_test_completion_function(curr_session_context: kdiba_gor01_one_2006-6-08_14-26-15, curr_session_basedir: /nfs/turbo/umms-kdiba/Data/KDIBA/gor01/one/2006-6-08_14-26-15, ...,across_session_results_extended_dict: {})\n",
      "WARN: 2023-09-28 16:15: - [ ] fix the combination properties. Would work if we directly used the computed _is_L_only and _is_S_only above\n"
     ]
    },
    {
     "name": "stderr",
     "output_type": "stream",
     "text": [
      "/home/halechr/repos/NeuroPy/neuropy/core/flattened_spiketrains.py:242: SettingWithCopyWarning: \n",
      "A value is trying to be set on a copy of a slice from a DataFrame.\n",
      "Try using .loc[row_indexer,col_indexer] = value instead\n",
      "\n",
      "See the caveats in the documentation: https://pandas.pydata.org/pandas-docs/stable/user_guide/indexing.html#returning-a-view-versus-a-copy\n",
      "  self._obj['fragile_linear_neuron_IDX'] = included_cell_INDEXES.copy()\n",
      "/home/halechr/repos/NeuroPy/neuropy/core/flattened_spiketrains.py:245: SettingWithCopyWarning: \n",
      "A value is trying to be set on a copy of a slice from a DataFrame.\n",
      "Try using .loc[row_indexer,col_indexer] = value instead\n",
      "\n",
      "See the caveats in the documentation: https://pandas.pydata.org/pandas-docs/stable/user_guide/indexing.html#returning-a-view-versus-a-copy\n",
      "  self._obj['neuron_IDX'] = self._obj['fragile_linear_neuron_IDX'].copy()\n",
      "/home/halechr/repos/NeuroPy/neuropy/utils/mixins/time_slicing.py:155: SettingWithCopyWarning: \n",
      "A value is trying to be set on a copy of a slice from a DataFrame.\n",
      "Try using .loc[row_indexer,col_indexer] = value instead\n",
      "\n",
      "See the caveats in the documentation: https://pandas.pydata.org/pandas-docs/stable/user_guide/indexing.html#returning-a-view-versus-a-copy\n",
      "  spk_df[epoch_id_key_name] = spike_epoch_identity_arr\n"
     ]
    },
    {
     "name": "stdout",
     "output_type": "stream",
     "text": [
      "WARN: 2023-09-28 16:15: - [ ] fix the combination properties. Would work if we directly used the computed _is_L_only and _is_S_only above\n",
      "WARNING: long_only_aclus is empty, so not adding kwargs for these.\n",
      "WARNING: short_only_aclus is empty, so not adding kwargs for these.\n",
      "include_includelist: ['maze1', 'maze2', 'maze']\n",
      "long_epoch_name: maze1, short_epoch_name: maze2, global_epoch_name: maze\n"
     ]
    },
    {
     "name": "stderr",
     "output_type": "stream",
     "text": [
      "/home/halechr/repos/pyPhoPlaceCellAnalysis/src/pyphoplacecellanalysis/General/Pipeline/Stages/DisplayFunctions/MultiContextComparingDisplayFunctions/LongShortTrackComparingDisplayFunctions.py:1209: SettingWithCopyWarning: \n",
      "A value is trying to be set on a copy of a slice from a DataFrame.\n",
      "Try using .loc[row_indexer,col_indexer] = value instead\n",
      "\n",
      "See the caveats in the documentation: https://pandas.pydata.org/pandas-docs/stable/user_guide/indexing.html#returning-a-view-versus-a-copy\n",
      "  cell_df.loc[:, 'x'] = spk_x\n",
      "/home/halechr/repos/pyPhoPlaceCellAnalysis/src/pyphoplacecellanalysis/General/Mixins/CrossComputationComparisonHelpers.py:235: RuntimeWarning: invalid value encountered in divide\n",
      "  _long_to_short_balances = (rdf.num_short_only_neuron_participating.values - rdf.num_long_only_neuron_participating.values) / (rdf.num_short_only_neuron_participating.values + rdf.num_long_only_neuron_participating.values) ## Working but (0, 1, 1) would clip to 0.5 despite (1, 13, 0) going all the way down to -1.0\n",
      "/home/halechr/repos/pyPhoPlaceCellAnalysis/src/pyphoplacecellanalysis/General/Mixins/CrossComputationComparisonHelpers.py:265: RuntimeWarning: invalid value encountered in divide\n",
      "  _long_to_short_balances = (rdf.num_short_only_neuron_participating.values - rdf.num_long_only_neuron_participating.values) / (rdf.num_short_only_neuron_participating.values + rdf.num_long_only_neuron_participating.values) ## Working but (0, 1, 1) would clip to 0.5 despite (1, 13, 0) going all the way down to -1.0\n"
     ]
    },
    {
     "name": "stdout",
     "output_type": "stream",
     "text": [
      "DEPRICATION WARNING: workaround to allow subscripting ComputationResult objects. Will be depricated. key: computed_data\n",
      "\t saved /home/halechr/repos/Spike3D/EXTERNAL/Screenshots/ProgrammaticDisplayFunctionTesting/2023-10-06/kdiba/gor01/one/2006-6-08_14-26-15/BatchPhoJonathanReplayFRC_shared_1of6_(87,102,68,54,7,84,97,34,17,74,95,51,38,92,45,71,46,79,109,63).png\n",
      "include_includelist: ['maze1', 'maze2', 'maze']\n",
      "long_epoch_name: maze1, short_epoch_name: maze2, global_epoch_name: maze\n"
     ]
    },
    {
     "name": "stderr",
     "output_type": "stream",
     "text": [
      "/home/halechr/repos/pyPhoPlaceCellAnalysis/src/pyphoplacecellanalysis/General/Pipeline/Stages/DisplayFunctions/MultiContextComparingDisplayFunctions/LongShortTrackComparingDisplayFunctions.py:1209: SettingWithCopyWarning: \n",
      "A value is trying to be set on a copy of a slice from a DataFrame.\n",
      "Try using .loc[row_indexer,col_indexer] = value instead\n",
      "\n",
      "See the caveats in the documentation: https://pandas.pydata.org/pandas-docs/stable/user_guide/indexing.html#returning-a-view-versus-a-copy\n",
      "  cell_df.loc[:, 'x'] = spk_x\n",
      "/home/halechr/repos/pyPhoPlaceCellAnalysis/src/pyphoplacecellanalysis/General/Mixins/CrossComputationComparisonHelpers.py:235: RuntimeWarning: invalid value encountered in divide\n",
      "  _long_to_short_balances = (rdf.num_short_only_neuron_participating.values - rdf.num_long_only_neuron_participating.values) / (rdf.num_short_only_neuron_participating.values + rdf.num_long_only_neuron_participating.values) ## Working but (0, 1, 1) would clip to 0.5 despite (1, 13, 0) going all the way down to -1.0\n",
      "/home/halechr/repos/pyPhoPlaceCellAnalysis/src/pyphoplacecellanalysis/General/Mixins/CrossComputationComparisonHelpers.py:265: RuntimeWarning: invalid value encountered in divide\n",
      "  _long_to_short_balances = (rdf.num_short_only_neuron_participating.values - rdf.num_long_only_neuron_participating.values) / (rdf.num_short_only_neuron_participating.values + rdf.num_long_only_neuron_participating.values) ## Working but (0, 1, 1) would clip to 0.5 despite (1, 13, 0) going all the way down to -1.0\n"
     ]
    },
    {
     "name": "stdout",
     "output_type": "stream",
     "text": [
      "DEPRICATION WARNING: workaround to allow subscripting ComputationResult objects. Will be depricated. key: computed_data\n",
      "\t saved /home/halechr/repos/Spike3D/EXTERNAL/Screenshots/ProgrammaticDisplayFunctionTesting/2023-10-06/kdiba/gor01/one/2006-6-08_14-26-15/BatchPhoJonathanReplayFRC_shared_2of6_(93,78,5,22,72,96,39,83,24,69,49,91,15,26,99,3,32,14,101,31).png\n",
      "include_includelist: ['maze1', 'maze2', 'maze']\n",
      "long_epoch_name: maze1, short_epoch_name: maze2, global_epoch_name: maze\n"
     ]
    },
    {
     "name": "stderr",
     "output_type": "stream",
     "text": [
      "/home/halechr/repos/pyPhoPlaceCellAnalysis/src/pyphoplacecellanalysis/General/Pipeline/Stages/DisplayFunctions/MultiContextComparingDisplayFunctions/LongShortTrackComparingDisplayFunctions.py:1209: SettingWithCopyWarning: \n",
      "A value is trying to be set on a copy of a slice from a DataFrame.\n",
      "Try using .loc[row_indexer,col_indexer] = value instead\n",
      "\n",
      "See the caveats in the documentation: https://pandas.pydata.org/pandas-docs/stable/user_guide/indexing.html#returning-a-view-versus-a-copy\n",
      "  cell_df.loc[:, 'x'] = spk_x\n",
      "/home/halechr/repos/pyPhoPlaceCellAnalysis/src/pyphoplacecellanalysis/General/Mixins/CrossComputationComparisonHelpers.py:235: RuntimeWarning: invalid value encountered in divide\n",
      "  _long_to_short_balances = (rdf.num_short_only_neuron_participating.values - rdf.num_long_only_neuron_participating.values) / (rdf.num_short_only_neuron_participating.values + rdf.num_long_only_neuron_participating.values) ## Working but (0, 1, 1) would clip to 0.5 despite (1, 13, 0) going all the way down to -1.0\n",
      "/home/halechr/repos/pyPhoPlaceCellAnalysis/src/pyphoplacecellanalysis/General/Mixins/CrossComputationComparisonHelpers.py:265: RuntimeWarning: invalid value encountered in divide\n",
      "  _long_to_short_balances = (rdf.num_short_only_neuron_participating.values - rdf.num_long_only_neuron_participating.values) / (rdf.num_short_only_neuron_participating.values + rdf.num_long_only_neuron_participating.values) ## Working but (0, 1, 1) would clip to 0.5 despite (1, 13, 0) going all the way down to -1.0\n"
     ]
    },
    {
     "name": "stdout",
     "output_type": "stream",
     "text": [
      "DEPRICATION WARNING: workaround to allow subscripting ComputationResult objects. Will be depricated. key: computed_data\n",
      "WARNING: aclu 70 is not present in the `pf1D_all` ratemaps. Which contain aclus: [3, 4, 5, 7, 8, 9, 10, 11, 14, 15, 16, 17, 19, 22, 23, 24, 25, 26, 31, 32, 33, 34, 35, 36, 37, 38, 39, 41, 45, 46, 48, 49, 50, 51, 52, 53, 54, 55, 56, 57, 58, 59, 60, 61, 62, 63, 64, 66, 67, 68, 69, 71, 72, 73, 74, 75, 76, 78, 79, 82, 83, 84, 85, 86, 87, 88, 89, 90, 91, 92, 93, 95, 96, 97, 98, 99, 100, 101, 102, 107, 108, 109]\n",
      "WARNING: aclu 2 is not present in the `pf1D_all` ratemaps. Which contain aclus: [3, 4, 5, 7, 8, 9, 10, 11, 14, 15, 16, 17, 19, 22, 23, 24, 25, 26, 31, 32, 33, 34, 35, 36, 37, 38, 39, 41, 45, 46, 48, 49, 50, 51, 52, 53, 54, 55, 56, 57, 58, 59, 60, 61, 62, 63, 64, 66, 67, 68, 69, 71, 72, 73, 74, 75, 76, 78, 79, 82, 83, 84, 85, 86, 87, 88, 89, 90, 91, 92, 93, 95, 96, 97, 98, 99, 100, 101, 102, 107, 108, 109]\n",
      "\t saved /home/halechr/repos/Spike3D/EXTERNAL/Screenshots/ProgrammaticDisplayFunctionTesting/2023-10-06/kdiba/gor01/one/2006-6-08_14-26-15/BatchPhoJonathanReplayFRC_shared_3of6_(76,33,55,25,50,10,90,64,61,70,73,75,82,86,41,85,8,2,53,107).png\n",
      "include_includelist: ['maze1', 'maze2', 'maze']\n",
      "long_epoch_name: maze1, short_epoch_name: maze2, global_epoch_name: maze\n"
     ]
    },
    {
     "name": "stderr",
     "output_type": "stream",
     "text": [
      "/home/halechr/repos/pyPhoPlaceCellAnalysis/src/pyphoplacecellanalysis/General/Pipeline/Stages/DisplayFunctions/MultiContextComparingDisplayFunctions/LongShortTrackComparingDisplayFunctions.py:1209: SettingWithCopyWarning: \n",
      "A value is trying to be set on a copy of a slice from a DataFrame.\n",
      "Try using .loc[row_indexer,col_indexer] = value instead\n",
      "\n",
      "See the caveats in the documentation: https://pandas.pydata.org/pandas-docs/stable/user_guide/indexing.html#returning-a-view-versus-a-copy\n",
      "  cell_df.loc[:, 'x'] = spk_x\n",
      "/home/halechr/repos/pyPhoPlaceCellAnalysis/src/pyphoplacecellanalysis/General/Mixins/CrossComputationComparisonHelpers.py:235: RuntimeWarning: invalid value encountered in divide\n",
      "  _long_to_short_balances = (rdf.num_short_only_neuron_participating.values - rdf.num_long_only_neuron_participating.values) / (rdf.num_short_only_neuron_participating.values + rdf.num_long_only_neuron_participating.values) ## Working but (0, 1, 1) would clip to 0.5 despite (1, 13, 0) going all the way down to -1.0\n",
      "/home/halechr/repos/pyPhoPlaceCellAnalysis/src/pyphoplacecellanalysis/General/Mixins/CrossComputationComparisonHelpers.py:265: RuntimeWarning: invalid value encountered in divide\n",
      "  _long_to_short_balances = (rdf.num_short_only_neuron_participating.values - rdf.num_long_only_neuron_participating.values) / (rdf.num_short_only_neuron_participating.values + rdf.num_long_only_neuron_participating.values) ## Working but (0, 1, 1) would clip to 0.5 despite (1, 13, 0) going all the way down to -1.0\n"
     ]
    },
    {
     "name": "stdout",
     "output_type": "stream",
     "text": [
      "DEPRICATION WARNING: workaround to allow subscripting ComputationResult objects. Will be depricated. key: computed_data\n",
      "\t saved /home/halechr/repos/Spike3D/EXTERNAL/Screenshots/ProgrammaticDisplayFunctionTesting/2023-10-06/kdiba/gor01/one/2006-6-08_14-26-15/BatchPhoJonathanReplayFRC_shared_4of6_(100,59,88,89,48,16,108,56,66,35,60,98,37,36,19,11,9,57,62,4).png\n",
      "include_includelist: ['maze1', 'maze2', 'maze']\n",
      "long_epoch_name: maze1, short_epoch_name: maze2, global_epoch_name: maze\n"
     ]
    },
    {
     "name": "stderr",
     "output_type": "stream",
     "text": [
      "/home/halechr/repos/pyPhoPlaceCellAnalysis/src/pyphoplacecellanalysis/General/Pipeline/Stages/DisplayFunctions/MultiContextComparingDisplayFunctions/LongShortTrackComparingDisplayFunctions.py:1209: SettingWithCopyWarning: \n",
      "A value is trying to be set on a copy of a slice from a DataFrame.\n",
      "Try using .loc[row_indexer,col_indexer] = value instead\n",
      "\n",
      "See the caveats in the documentation: https://pandas.pydata.org/pandas-docs/stable/user_guide/indexing.html#returning-a-view-versus-a-copy\n",
      "  cell_df.loc[:, 'x'] = spk_x\n",
      "/home/halechr/repos/pyPhoPlaceCellAnalysis/src/pyphoplacecellanalysis/General/Mixins/CrossComputationComparisonHelpers.py:235: RuntimeWarning: invalid value encountered in divide\n",
      "  _long_to_short_balances = (rdf.num_short_only_neuron_participating.values - rdf.num_long_only_neuron_participating.values) / (rdf.num_short_only_neuron_participating.values + rdf.num_long_only_neuron_participating.values) ## Working but (0, 1, 1) would clip to 0.5 despite (1, 13, 0) going all the way down to -1.0\n",
      "/home/halechr/repos/pyPhoPlaceCellAnalysis/src/pyphoplacecellanalysis/General/Mixins/CrossComputationComparisonHelpers.py:265: RuntimeWarning: invalid value encountered in divide\n",
      "  _long_to_short_balances = (rdf.num_short_only_neuron_participating.values - rdf.num_long_only_neuron_participating.values) / (rdf.num_short_only_neuron_participating.values + rdf.num_long_only_neuron_participating.values) ## Working but (0, 1, 1) would clip to 0.5 despite (1, 13, 0) going all the way down to -1.0\n"
     ]
    },
    {
     "name": "stdout",
     "output_type": "stream",
     "text": [
      "DEPRICATION WARNING: workaround to allow subscripting ComputationResult objects. Will be depricated. key: computed_data\n",
      "WARNING: aclu 6 is not present in the `pf1D_all` ratemaps. Which contain aclus: [3, 4, 5, 7, 8, 9, 10, 11, 14, 15, 16, 17, 19, 22, 23, 24, 25, 26, 31, 32, 33, 34, 35, 36, 37, 38, 39, 41, 45, 46, 48, 49, 50, 51, 52, 53, 54, 55, 56, 57, 58, 59, 60, 61, 62, 63, 64, 66, 67, 68, 69, 71, 72, 73, 74, 75, 76, 78, 79, 82, 83, 84, 85, 86, 87, 88, 89, 90, 91, 92, 93, 95, 96, 97, 98, 99, 100, 101, 102, 107, 108, 109]\n",
      "WARNING: aclu 12 is not present in the `pf1D_all` ratemaps. Which contain aclus: [3, 4, 5, 7, 8, 9, 10, 11, 14, 15, 16, 17, 19, 22, 23, 24, 25, 26, 31, 32, 33, 34, 35, 36, 37, 38, 39, 41, 45, 46, 48, 49, 50, 51, 52, 53, 54, 55, 56, 57, 58, 59, 60, 61, 62, 63, 64, 66, 67, 68, 69, 71, 72, 73, 74, 75, 76, 78, 79, 82, 83, 84, 85, 86, 87, 88, 89, 90, 91, 92, 93, 95, 96, 97, 98, 99, 100, 101, 102, 107, 108, 109]\n",
      "WARNING: aclu 13 is not present in the `pf1D_all` ratemaps. Which contain aclus: [3, 4, 5, 7, 8, 9, 10, 11, 14, 15, 16, 17, 19, 22, 23, 24, 25, 26, 31, 32, 33, 34, 35, 36, 37, 38, 39, 41, 45, 46, 48, 49, 50, 51, 52, 53, 54, 55, 56, 57, 58, 59, 60, 61, 62, 63, 64, 66, 67, 68, 69, 71, 72, 73, 74, 75, 76, 78, 79, 82, 83, 84, 85, 86, 87, 88, 89, 90, 91, 92, 93, 95, 96, 97, 98, 99, 100, 101, 102, 107, 108, 109]\n",
      "WARNING: aclu 18 is not present in the `pf1D_all` ratemaps. Which contain aclus: [3, 4, 5, 7, 8, 9, 10, 11, 14, 15, 16, 17, 19, 22, 23, 24, 25, 26, 31, 32, 33, 34, 35, 36, 37, 38, 39, 41, 45, 46, 48, 49, 50, 51, 52, 53, 54, 55, 56, 57, 58, 59, 60, 61, 62, 63, 64, 66, 67, 68, 69, 71, 72, 73, 74, 75, 76, 78, 79, 82, 83, 84, 85, 86, 87, 88, 89, 90, 91, 92, 93, 95, 96, 97, 98, 99, 100, 101, 102, 107, 108, 109]\n",
      "WARNING: aclu 20 is not present in the `pf1D_all` ratemaps. Which contain aclus: [3, 4, 5, 7, 8, 9, 10, 11, 14, 15, 16, 17, 19, 22, 23, 24, 25, 26, 31, 32, 33, 34, 35, 36, 37, 38, 39, 41, 45, 46, 48, 49, 50, 51, 52, 53, 54, 55, 56, 57, 58, 59, 60, 61, 62, 63, 64, 66, 67, 68, 69, 71, 72, 73, 74, 75, 76, 78, 79, 82, 83, 84, 85, 86, 87, 88, 89, 90, 91, 92, 93, 95, 96, 97, 98, 99, 100, 101, 102, 107, 108, 109]\n",
      "WARNING: aclu 21 is not present in the `pf1D_all` ratemaps. Which contain aclus: [3, 4, 5, 7, 8, 9, 10, 11, 14, 15, 16, 17, 19, 22, 23, 24, 25, 26, 31, 32, 33, 34, 35, 36, 37, 38, 39, 41, 45, 46, 48, 49, 50, 51, 52, 53, 54, 55, 56, 57, 58, 59, 60, 61, 62, 63, 64, 66, 67, 68, 69, 71, 72, 73, 74, 75, 76, 78, 79, 82, 83, 84, 85, 86, 87, 88, 89, 90, 91, 92, 93, 95, 96, 97, 98, 99, 100, 101, 102, 107, 108, 109]\n",
      "WARNING: aclu 27 is not present in the `pf1D_all` ratemaps. Which contain aclus: [3, 4, 5, 7, 8, 9, 10, 11, 14, 15, 16, 17, 19, 22, 23, 24, 25, 26, 31, 32, 33, 34, 35, 36, 37, 38, 39, 41, 45, 46, 48, 49, 50, 51, 52, 53, 54, 55, 56, 57, 58, 59, 60, 61, 62, 63, 64, 66, 67, 68, 69, 71, 72, 73, 74, 75, 76, 78, 79, 82, 83, 84, 85, 86, 87, 88, 89, 90, 91, 92, 93, 95, 96, 97, 98, 99, 100, 101, 102, 107, 108, 109]\n",
      "WARNING: aclu 28 is not present in the `pf1D_all` ratemaps. Which contain aclus: [3, 4, 5, 7, 8, 9, 10, 11, 14, 15, 16, 17, 19, 22, 23, 24, 25, 26, 31, 32, 33, 34, 35, 36, 37, 38, 39, 41, 45, 46, 48, 49, 50, 51, 52, 53, 54, 55, 56, 57, 58, 59, 60, 61, 62, 63, 64, 66, 67, 68, 69, 71, 72, 73, 74, 75, 76, 78, 79, 82, 83, 84, 85, 86, 87, 88, 89, 90, 91, 92, 93, 95, 96, 97, 98, 99, 100, 101, 102, 107, 108, 109]\n",
      "WARNING: aclu 29 is not present in the `pf1D_all` ratemaps. Which contain aclus: [3, 4, 5, 7, 8, 9, 10, 11, 14, 15, 16, 17, 19, 22, 23, 24, 25, 26, 31, 32, 33, 34, 35, 36, 37, 38, 39, 41, 45, 46, 48, 49, 50, 51, 52, 53, 54, 55, 56, 57, 58, 59, 60, 61, 62, 63, 64, 66, 67, 68, 69, 71, 72, 73, 74, 75, 76, 78, 79, 82, 83, 84, 85, 86, 87, 88, 89, 90, 91, 92, 93, 95, 96, 97, 98, 99, 100, 101, 102, 107, 108, 109]\n",
      "WARNING: aclu 30 is not present in the `pf1D_all` ratemaps. Which contain aclus: [3, 4, 5, 7, 8, 9, 10, 11, 14, 15, 16, 17, 19, 22, 23, 24, 25, 26, 31, 32, 33, 34, 35, 36, 37, 38, 39, 41, 45, 46, 48, 49, 50, 51, 52, 53, 54, 55, 56, 57, 58, 59, 60, 61, 62, 63, 64, 66, 67, 68, 69, 71, 72, 73, 74, 75, 76, 78, 79, 82, 83, 84, 85, 86, 87, 88, 89, 90, 91, 92, 93, 95, 96, 97, 98, 99, 100, 101, 102, 107, 108, 109]\n",
      "WARNING: aclu 40 is not present in the `pf1D_all` ratemaps. Which contain aclus: [3, 4, 5, 7, 8, 9, 10, 11, 14, 15, 16, 17, 19, 22, 23, 24, 25, 26, 31, 32, 33, 34, 35, 36, 37, 38, 39, 41, 45, 46, 48, 49, 50, 51, 52, 53, 54, 55, 56, 57, 58, 59, 60, 61, 62, 63, 64, 66, 67, 68, 69, 71, 72, 73, 74, 75, 76, 78, 79, 82, 83, 84, 85, 86, 87, 88, 89, 90, 91, 92, 93, 95, 96, 97, 98, 99, 100, 101, 102, 107, 108, 109]\n",
      "WARNING: aclu 42 is not present in the `pf1D_all` ratemaps. Which contain aclus: [3, 4, 5, 7, 8, 9, 10, 11, 14, 15, 16, 17, 19, 22, 23, 24, 25, 26, 31, 32, 33, 34, 35, 36, 37, 38, 39, 41, 45, 46, 48, 49, 50, 51, 52, 53, 54, 55, 56, 57, 58, 59, 60, 61, 62, 63, 64, 66, 67, 68, 69, 71, 72, 73, 74, 75, 76, 78, 79, 82, 83, 84, 85, 86, 87, 88, 89, 90, 91, 92, 93, 95, 96, 97, 98, 99, 100, 101, 102, 107, 108, 109]\n",
      "WARNING: aclu 43 is not present in the `pf1D_all` ratemaps. Which contain aclus: [3, 4, 5, 7, 8, 9, 10, 11, 14, 15, 16, 17, 19, 22, 23, 24, 25, 26, 31, 32, 33, 34, 35, 36, 37, 38, 39, 41, 45, 46, 48, 49, 50, 51, 52, 53, 54, 55, 56, 57, 58, 59, 60, 61, 62, 63, 64, 66, 67, 68, 69, 71, 72, 73, 74, 75, 76, 78, 79, 82, 83, 84, 85, 86, 87, 88, 89, 90, 91, 92, 93, 95, 96, 97, 98, 99, 100, 101, 102, 107, 108, 109]\n",
      "WARNING: aclu 44 is not present in the `pf1D_all` ratemaps. Which contain aclus: [3, 4, 5, 7, 8, 9, 10, 11, 14, 15, 16, 17, 19, 22, 23, 24, 25, 26, 31, 32, 33, 34, 35, 36, 37, 38, 39, 41, 45, 46, 48, 49, 50, 51, 52, 53, 54, 55, 56, 57, 58, 59, 60, 61, 62, 63, 64, 66, 67, 68, 69, 71, 72, 73, 74, 75, 76, 78, 79, 82, 83, 84, 85, 86, 87, 88, 89, 90, 91, 92, 93, 95, 96, 97, 98, 99, 100, 101, 102, 107, 108, 109]\n",
      "WARNING: aclu 47 is not present in the `pf1D_all` ratemaps. Which contain aclus: [3, 4, 5, 7, 8, 9, 10, 11, 14, 15, 16, 17, 19, 22, 23, 24, 25, 26, 31, 32, 33, 34, 35, 36, 37, 38, 39, 41, 45, 46, 48, 49, 50, 51, 52, 53, 54, 55, 56, 57, 58, 59, 60, 61, 62, 63, 64, 66, 67, 68, 69, 71, 72, 73, 74, 75, 76, 78, 79, 82, 83, 84, 85, 86, 87, 88, 89, 90, 91, 92, 93, 95, 96, 97, 98, 99, 100, 101, 102, 107, 108, 109]\n",
      "WARNING: aclu 65 is not present in the `pf1D_all` ratemaps. Which contain aclus: [3, 4, 5, 7, 8, 9, 10, 11, 14, 15, 16, 17, 19, 22, 23, 24, 25, 26, 31, 32, 33, 34, 35, 36, 37, 38, 39, 41, 45, 46, 48, 49, 50, 51, 52, 53, 54, 55, 56, 57, 58, 59, 60, 61, 62, 63, 64, 66, 67, 68, 69, 71, 72, 73, 74, 75, 76, 78, 79, 82, 83, 84, 85, 86, 87, 88, 89, 90, 91, 92, 93, 95, 96, 97, 98, 99, 100, 101, 102, 107, 108, 109]\n",
      "\t saved /home/halechr/repos/Spike3D/EXTERNAL/Screenshots/ProgrammaticDisplayFunctionTesting/2023-10-06/kdiba/gor01/one/2006-6-08_14-26-15/BatchPhoJonathanReplayFRC_shared_5of6_(6,12,13,18,20,21,23,27,28,29,30,40,42,43,44,47,52,58,65,67).png\n",
      "include_includelist: ['maze1', 'maze2', 'maze']\n",
      "long_epoch_name: maze1, short_epoch_name: maze2, global_epoch_name: maze\n"
     ]
    },
    {
     "name": "stderr",
     "output_type": "stream",
     "text": [
      "/home/halechr/repos/pyPhoPlaceCellAnalysis/src/pyphoplacecellanalysis/General/Pipeline/Stages/DisplayFunctions/MultiContextComparingDisplayFunctions/LongShortTrackComparingDisplayFunctions.py:1209: SettingWithCopyWarning: \n",
      "A value is trying to be set on a copy of a slice from a DataFrame.\n",
      "Try using .loc[row_indexer,col_indexer] = value instead\n",
      "\n",
      "See the caveats in the documentation: https://pandas.pydata.org/pandas-docs/stable/user_guide/indexing.html#returning-a-view-versus-a-copy\n",
      "  cell_df.loc[:, 'x'] = spk_x\n",
      "/home/halechr/repos/pyPhoPlaceCellAnalysis/src/pyphoplacecellanalysis/General/Mixins/CrossComputationComparisonHelpers.py:235: RuntimeWarning: invalid value encountered in divide\n",
      "  _long_to_short_balances = (rdf.num_short_only_neuron_participating.values - rdf.num_long_only_neuron_participating.values) / (rdf.num_short_only_neuron_participating.values + rdf.num_long_only_neuron_participating.values) ## Working but (0, 1, 1) would clip to 0.5 despite (1, 13, 0) going all the way down to -1.0\n",
      "/home/halechr/repos/pyPhoPlaceCellAnalysis/src/pyphoplacecellanalysis/General/Mixins/CrossComputationComparisonHelpers.py:265: RuntimeWarning: invalid value encountered in divide\n",
      "  _long_to_short_balances = (rdf.num_short_only_neuron_participating.values - rdf.num_long_only_neuron_participating.values) / (rdf.num_short_only_neuron_participating.values + rdf.num_long_only_neuron_participating.values) ## Working but (0, 1, 1) would clip to 0.5 despite (1, 13, 0) going all the way down to -1.0\n"
     ]
    },
    {
     "name": "stdout",
     "output_type": "stream",
     "text": [
      "DEPRICATION WARNING: workaround to allow subscripting ComputationResult objects. Will be depricated. key: computed_data\n",
      "WARNING: aclu 77 is not present in the `pf1D_all` ratemaps. Which contain aclus: [3, 4, 5, 7, 8, 9, 10, 11, 14, 15, 16, 17, 19, 22, 23, 24, 25, 26, 31, 32, 33, 34, 35, 36, 37, 38, 39, 41, 45, 46, 48, 49, 50, 51, 52, 53, 54, 55, 56, 57, 58, 59, 60, 61, 62, 63, 64, 66, 67, 68, 69, 71, 72, 73, 74, 75, 76, 78, 79, 82, 83, 84, 85, 86, 87, 88, 89, 90, 91, 92, 93, 95, 96, 97, 98, 99, 100, 101, 102, 107, 108, 109]\n",
      "WARNING: aclu 80 is not present in the `pf1D_all` ratemaps. Which contain aclus: [3, 4, 5, 7, 8, 9, 10, 11, 14, 15, 16, 17, 19, 22, 23, 24, 25, 26, 31, 32, 33, 34, 35, 36, 37, 38, 39, 41, 45, 46, 48, 49, 50, 51, 52, 53, 54, 55, 56, 57, 58, 59, 60, 61, 62, 63, 64, 66, 67, 68, 69, 71, 72, 73, 74, 75, 76, 78, 79, 82, 83, 84, 85, 86, 87, 88, 89, 90, 91, 92, 93, 95, 96, 97, 98, 99, 100, 101, 102, 107, 108, 109]\n",
      "WARNING: aclu 81 is not present in the `pf1D_all` ratemaps. Which contain aclus: [3, 4, 5, 7, 8, 9, 10, 11, 14, 15, 16, 17, 19, 22, 23, 24, 25, 26, 31, 32, 33, 34, 35, 36, 37, 38, 39, 41, 45, 46, 48, 49, 50, 51, 52, 53, 54, 55, 56, 57, 58, 59, 60, 61, 62, 63, 64, 66, 67, 68, 69, 71, 72, 73, 74, 75, 76, 78, 79, 82, 83, 84, 85, 86, 87, 88, 89, 90, 91, 92, 93, 95, 96, 97, 98, 99, 100, 101, 102, 107, 108, 109]\n",
      "WARNING: aclu 94 is not present in the `pf1D_all` ratemaps. Which contain aclus: [3, 4, 5, 7, 8, 9, 10, 11, 14, 15, 16, 17, 19, 22, 23, 24, 25, 26, 31, 32, 33, 34, 35, 36, 37, 38, 39, 41, 45, 46, 48, 49, 50, 51, 52, 53, 54, 55, 56, 57, 58, 59, 60, 61, 62, 63, 64, 66, 67, 68, 69, 71, 72, 73, 74, 75, 76, 78, 79, 82, 83, 84, 85, 86, 87, 88, 89, 90, 91, 92, 93, 95, 96, 97, 98, 99, 100, 101, 102, 107, 108, 109]\n",
      "WARNING: aclu 103 is not present in the `pf1D_all` ratemaps. Which contain aclus: [3, 4, 5, 7, 8, 9, 10, 11, 14, 15, 16, 17, 19, 22, 23, 24, 25, 26, 31, 32, 33, 34, 35, 36, 37, 38, 39, 41, 45, 46, 48, 49, 50, 51, 52, 53, 54, 55, 56, 57, 58, 59, 60, 61, 62, 63, 64, 66, 67, 68, 69, 71, 72, 73, 74, 75, 76, 78, 79, 82, 83, 84, 85, 86, 87, 88, 89, 90, 91, 92, 93, 95, 96, 97, 98, 99, 100, 101, 102, 107, 108, 109]\n",
      "WARNING: aclu 104 is not present in the `pf1D_all` ratemaps. Which contain aclus: [3, 4, 5, 7, 8, 9, 10, 11, 14, 15, 16, 17, 19, 22, 23, 24, 25, 26, 31, 32, 33, 34, 35, 36, 37, 38, 39, 41, 45, 46, 48, 49, 50, 51, 52, 53, 54, 55, 56, 57, 58, 59, 60, 61, 62, 63, 64, 66, 67, 68, 69, 71, 72, 73, 74, 75, 76, 78, 79, 82, 83, 84, 85, 86, 87, 88, 89, 90, 91, 92, 93, 95, 96, 97, 98, 99, 100, 101, 102, 107, 108, 109]\n",
      "WARNING: aclu 105 is not present in the `pf1D_all` ratemaps. Which contain aclus: [3, 4, 5, 7, 8, 9, 10, 11, 14, 15, 16, 17, 19, 22, 23, 24, 25, 26, 31, 32, 33, 34, 35, 36, 37, 38, 39, 41, 45, 46, 48, 49, 50, 51, 52, 53, 54, 55, 56, 57, 58, 59, 60, 61, 62, 63, 64, 66, 67, 68, 69, 71, 72, 73, 74, 75, 76, 78, 79, 82, 83, 84, 85, 86, 87, 88, 89, 90, 91, 92, 93, 95, 96, 97, 98, 99, 100, 101, 102, 107, 108, 109]\n",
      "WARNING: aclu 106 is not present in the `pf1D_all` ratemaps. Which contain aclus: [3, 4, 5, 7, 8, 9, 10, 11, 14, 15, 16, 17, 19, 22, 23, 24, 25, 26, 31, 32, 33, 34, 35, 36, 37, 38, 39, 41, 45, 46, 48, 49, 50, 51, 52, 53, 54, 55, 56, 57, 58, 59, 60, 61, 62, 63, 64, 66, 67, 68, 69, 71, 72, 73, 74, 75, 76, 78, 79, 82, 83, 84, 85, 86, 87, 88, 89, 90, 91, 92, 93, 95, 96, 97, 98, 99, 100, 101, 102, 107, 108, 109]\n",
      "\t saved /home/halechr/repos/Spike3D/EXTERNAL/Screenshots/ProgrammaticDisplayFunctionTesting/2023-10-06/kdiba/gor01/one/2006-6-08_14-26-15/BatchPhoJonathanReplayFRC_shared_6of6_(77,80,81,94,103,104,105,106).png\n",
      ">>\t done with kdiba-gor01-one-2006-6-08_14-26-15\n",
      ">>>>>>>>>>>>>>>>>>>>>>>>>>>>>>>>>>>>>>>>>>>>>>>>>>>>>>>>>>>>>>>>>>>>>>>>>>>>>>>>\n",
      ">>>>>>>>>>>>>>>>>>>>>>>>>>>>>>>>>>>>>>>>>>>>>>>>>>>>>>>>>>>>>>>>>>>>>>>>>>>>>>>>\n",
      "\"========================== END BATCH ==========================\n",
      "\n",
      "\n",
      "build_batch_task_logger(module_name=\"gl0006.arc-ts.umich.edu.kdiba.gor01.one.2006-6-09_1-22-43\"):\n",
      "\t Batch Task logger com.PhoHale.PhoPy3DPositionAnalyis.Batch.runBatch.run_specific_batch.gl0006.arc-ts.umich.edu.kdiba.gor01.one.2006-6-09_1-22-43 has file logging enabled and will log to EXTERNAL/TESTING/Logging/debug_com.PhoHale.PhoPy3DPositionAnalyis.Batch.runBatch.run_specific_batch.gl0006.arc-ts.umich.edu.kdiba.gor01.one.2006-6-09_1-22-43.log\n",
      "========================== runBatch STARTING ==========================\n",
      "\tglobal_data_root_parent_path: /home/halechr/cloud/turbo/Data\n",
      "\tsession_context: kdiba_gor01_one_2006-6-09_1-22-43\n",
      "\tsession_basedir: /nfs/turbo/umms-kdiba/Data/KDIBA/gor01/one/2006-6-09_1-22-43\n",
      "__________________________________________________________________\n",
      "basedir: /nfs/turbo/umms-kdiba/Data/KDIBA/gor01/one/2006-6-09_1-22-43\n",
      "active_data_mode_name: kdiba\n",
      "Loading loaded session pickle file results : /nfs/turbo/umms-kdiba/Data/KDIBA/gor01/one/2006-6-09_1-22-43/loadedSessPickle.pkl... done.\n",
      "Loading pickled pipeline success: /nfs/turbo/umms-kdiba/Data/KDIBA/gor01/one/2006-6-09_1-22-43/loadedSessPickle.pkl.\n",
      "properties already present in pickled version. No need to save.\n",
      "pipeline load success!\n",
      "using provided computation_functions_name_includelist: ['pf_computation', 'pfdt_computation', 'firing_rate_trends', 'position_decoding']\n",
      "WARNING: skipping computation because overwrite_extant_results=False and active_computation_results[maze1] already exists and is non-None\n",
      "\t TODO: this will prevent recomputation even when the excludelist/includelist or computation function definitions change. Rework so that this is smarter.\n",
      "WARNING: skipping computation because overwrite_extant_results=False and active_computation_results[maze2] already exists and is non-None\n",
      "\t TODO: this will prevent recomputation even when the excludelist/includelist or computation function definitions change. Rework so that this is smarter.\n",
      "WARNING: skipping computation because overwrite_extant_results=False and active_computation_results[maze] already exists and is non-None\n",
      "\t TODO: this will prevent recomputation even when the excludelist/includelist or computation function definitions change. Rework so that this is smarter.\n",
      "WARNING: saving_mode is SKIP_SAVING so pipeline will not be saved despite calling .save_pipeline(...).\n",
      "saving_mode.shouldSave == False, so not saving at the end of batch_load_session\n",
      "on_complete_success_execution_session(curr_session_context: kdiba_gor01_one_2006-6-09_1-22-43, curr_session_basedir: /nfs/turbo/umms-kdiba/Data/KDIBA/gor01/one/2006-6-09_1-22-43, ...)\n",
      "DEPRICATION WARNING: workaround to allow subscripting ComputationResult objects. Will be depricated. key: computed_data\n",
      "DEPRICATION WARNING: workaround to allow subscripting ComputationResult objects. Will be depricated. key: computed_data\n",
      "DEPRICATION WARNING: workaround to allow subscripting ComputationResult objects. Will be depricated. key: computed_data\n",
      "DEPRICATION WARNING: workaround to allow subscripting ComputationResult objects. Will be depricated. key: computed_data\n",
      "DEPRICATION WARNING: workaround to allow subscripting ComputationResult objects. Will be depricated. key: computed_data\n",
      "DEPRICATION WARNING: workaround to allow subscripting ComputationResult objects. Will be depricated. key: computed_data\n",
      "were pipeline preprocessing parameters missing and updated?: False\n",
      "WARNING: saving_mode is SKIP_SAVING so pipeline will not be saved despite calling .save_pipeline(...).\n",
      "Loading loaded session pickle file results : /nfs/turbo/umms-kdiba/Data/KDIBA/gor01/one/2006-6-09_1-22-43/output/global_computation_results.pkl... done.\n",
      "have an existing `global_computation_results.computation_config`: DynamicContainer({'instantaneous_time_bin_size_seconds': 0.01})\n",
      "included includelist is specified: ['pf_computation', 'pfdt_computation', 'firing_rate_trends', 'position_decoding', 'long_short_decoding_analyses', 'jonathan_firing_rate_analysis', 'long_short_fr_indicies_analyses', 'short_long_pf_overlap_analyses', 'long_short_post_decoding', 'long_short_rate_remapping', 'long_short_inst_spike_rate_groups', 'long_short_endcap_analysis'], so only performing these extended computations.\n",
      "Running batch_extended_computations(...) with global_epoch_name: \"maze\"\n",
      "pf_computation, maze already computed.\n",
      "pfdt_computation, maze already computed.\n",
      "position_decoding, maze already computed.\n",
      "firing_rate_trends, maze already computed.\n",
      "long_short_decoding_analyses, maze already computed.\n",
      "short_long_pf_overlap_analyses, maze already computed.\n",
      "long_short_fr_indicies_analyses, maze already computed.\n",
      "jonathan_firing_rate_analysis, maze already computed.\n",
      "long_short_post_decoding, maze already computed.\n",
      "long_short_inst_spike_rate_groups, maze already computed.\n",
      "long_short_endcap_analysis, maze already computed.\n",
      "WARNING: after execution of all _comp_specifiers found the functions: {'long_short_rate_remapping': False} still remain! Are they correct and do they have proper validator decorators?\n",
      "done with all batch_extended_computations(...).\n",
      "no changes in global results.\n",
      "https://app.neptune.ai/commander.pho/PhoDibaLongShortUpdated/\n",
      "https://app.neptune.ai/commander.pho/PhoDibaLongShortUpdated/e/LS2023-675\n",
      "include_includelist: ['maze1', 'maze2', 'maze']\n",
      "long_epoch_name: maze1, short_epoch_name: maze2, global_epoch_name: maze\n"
     ]
    },
    {
     "name": "stderr",
     "output_type": "stream",
     "text": [
      "/home/halechr/repos/pyPhoPlaceCellAnalysis/src/pyphoplacecellanalysis/General/Pipeline/Stages/DisplayFunctions/MultiContextComparingDisplayFunctions/LongShortTrackComparingDisplayFunctions.py:1209: SettingWithCopyWarning: \n",
      "A value is trying to be set on a copy of a slice from a DataFrame.\n",
      "Try using .loc[row_indexer,col_indexer] = value instead\n",
      "\n",
      "See the caveats in the documentation: https://pandas.pydata.org/pandas-docs/stable/user_guide/indexing.html#returning-a-view-versus-a-copy\n",
      "  cell_df.loc[:, 'x'] = spk_x\n",
      "/home/halechr/repos/pyPhoPlaceCellAnalysis/src/pyphoplacecellanalysis/General/Mixins/CrossComputationComparisonHelpers.py:235: RuntimeWarning: invalid value encountered in divide\n",
      "  _long_to_short_balances = (rdf.num_short_only_neuron_participating.values - rdf.num_long_only_neuron_participating.values) / (rdf.num_short_only_neuron_participating.values + rdf.num_long_only_neuron_participating.values) ## Working but (0, 1, 1) would clip to 0.5 despite (1, 13, 0) going all the way down to -1.0\n",
      "/home/halechr/repos/pyPhoPlaceCellAnalysis/src/pyphoplacecellanalysis/General/Mixins/CrossComputationComparisonHelpers.py:265: RuntimeWarning: invalid value encountered in divide\n",
      "  _long_to_short_balances = (rdf.num_short_only_neuron_participating.values - rdf.num_long_only_neuron_participating.values) / (rdf.num_short_only_neuron_participating.values + rdf.num_long_only_neuron_participating.values) ## Working but (0, 1, 1) would clip to 0.5 despite (1, 13, 0) going all the way down to -1.0\n"
     ]
    },
    {
     "name": "stdout",
     "output_type": "stream",
     "text": [
      "DEPRICATION WARNING: workaround to allow subscripting ComputationResult objects. Will be depricated. key: computed_data\n",
      "WARNING: aclu 97 is not present in the `pf1D_all` ratemaps. Which contain aclus: [2, 3, 4, 5, 6, 8, 9, 10, 11, 12, 13, 14, 15, 16, 18, 19, 20, 23, 24, 25, 26, 27, 28, 29, 30, 31, 32, 33, 34, 35, 38, 39, 40, 43, 44, 47, 48, 51, 52, 53, 54, 55, 56, 57, 58, 59, 60, 61, 62, 63, 65, 66, 67, 68, 69, 70, 71, 72, 74, 75, 77, 78, 79, 80, 81, 82, 83, 84, 85, 86, 87, 89, 90, 91, 92, 93, 95, 98, 100, 101, 102, 103, 104]\n",
      "\t saved /home/halechr/repos/Spike3D/EXTERNAL/Screenshots/ProgrammaticDisplayFunctionTesting/2023-10-06/kdiba/gor01/one/2006-6-09_1-22-43/BatchPhoJonathanReplayFRC_long_only_(3,5,23,29,38,70,97,103).png\n",
      "include_includelist: ['maze1', 'maze2', 'maze']\n",
      "long_epoch_name: maze1, short_epoch_name: maze2, global_epoch_name: maze\n"
     ]
    },
    {
     "name": "stderr",
     "output_type": "stream",
     "text": [
      "/home/halechr/repos/pyPhoPlaceCellAnalysis/src/pyphoplacecellanalysis/General/Pipeline/Stages/DisplayFunctions/MultiContextComparingDisplayFunctions/LongShortTrackComparingDisplayFunctions.py:1209: SettingWithCopyWarning: \n",
      "A value is trying to be set on a copy of a slice from a DataFrame.\n",
      "Try using .loc[row_indexer,col_indexer] = value instead\n",
      "\n",
      "See the caveats in the documentation: https://pandas.pydata.org/pandas-docs/stable/user_guide/indexing.html#returning-a-view-versus-a-copy\n",
      "  cell_df.loc[:, 'x'] = spk_x\n",
      "/home/halechr/repos/pyPhoPlaceCellAnalysis/src/pyphoplacecellanalysis/General/Mixins/CrossComputationComparisonHelpers.py:235: RuntimeWarning: invalid value encountered in divide\n",
      "  _long_to_short_balances = (rdf.num_short_only_neuron_participating.values - rdf.num_long_only_neuron_participating.values) / (rdf.num_short_only_neuron_participating.values + rdf.num_long_only_neuron_participating.values) ## Working but (0, 1, 1) would clip to 0.5 despite (1, 13, 0) going all the way down to -1.0\n",
      "/home/halechr/repos/pyPhoPlaceCellAnalysis/src/pyphoplacecellanalysis/General/Mixins/CrossComputationComparisonHelpers.py:265: RuntimeWarning: invalid value encountered in divide\n",
      "  _long_to_short_balances = (rdf.num_short_only_neuron_participating.values - rdf.num_long_only_neuron_participating.values) / (rdf.num_short_only_neuron_participating.values + rdf.num_long_only_neuron_participating.values) ## Working but (0, 1, 1) would clip to 0.5 despite (1, 13, 0) going all the way down to -1.0\n"
     ]
    },
    {
     "name": "stdout",
     "output_type": "stream",
     "text": [
      "DEPRICATION WARNING: workaround to allow subscripting ComputationResult objects. Will be depricated. key: computed_data\n",
      "\t saved /home/halechr/repos/Spike3D/EXTERNAL/Screenshots/ProgrammaticDisplayFunctionTesting/2023-10-06/kdiba/gor01/one/2006-6-09_1-22-43/BatchPhoJonathanReplayFRC_short_only_(32,55,62,69,100).png\n",
      "include_includelist: ['maze1', 'maze2', 'maze']\n",
      "long_epoch_name: maze1, short_epoch_name: maze2, global_epoch_name: maze\n"
     ]
    },
    {
     "name": "stderr",
     "output_type": "stream",
     "text": [
      "/home/halechr/repos/pyPhoPlaceCellAnalysis/src/pyphoplacecellanalysis/General/Pipeline/Stages/DisplayFunctions/MultiContextComparingDisplayFunctions/LongShortTrackComparingDisplayFunctions.py:1209: SettingWithCopyWarning: \n",
      "A value is trying to be set on a copy of a slice from a DataFrame.\n",
      "Try using .loc[row_indexer,col_indexer] = value instead\n",
      "\n",
      "See the caveats in the documentation: https://pandas.pydata.org/pandas-docs/stable/user_guide/indexing.html#returning-a-view-versus-a-copy\n",
      "  cell_df.loc[:, 'x'] = spk_x\n",
      "/home/halechr/repos/pyPhoPlaceCellAnalysis/src/pyphoplacecellanalysis/General/Mixins/CrossComputationComparisonHelpers.py:235: RuntimeWarning: invalid value encountered in divide\n",
      "  _long_to_short_balances = (rdf.num_short_only_neuron_participating.values - rdf.num_long_only_neuron_participating.values) / (rdf.num_short_only_neuron_participating.values + rdf.num_long_only_neuron_participating.values) ## Working but (0, 1, 1) would clip to 0.5 despite (1, 13, 0) going all the way down to -1.0\n",
      "/home/halechr/repos/pyPhoPlaceCellAnalysis/src/pyphoplacecellanalysis/General/Mixins/CrossComputationComparisonHelpers.py:265: RuntimeWarning: invalid value encountered in divide\n",
      "  _long_to_short_balances = (rdf.num_short_only_neuron_participating.values - rdf.num_long_only_neuron_participating.values) / (rdf.num_short_only_neuron_participating.values + rdf.num_long_only_neuron_participating.values) ## Working but (0, 1, 1) would clip to 0.5 despite (1, 13, 0) going all the way down to -1.0\n"
     ]
    },
    {
     "name": "stdout",
     "output_type": "stream",
     "text": [
      "DEPRICATION WARNING: workaround to allow subscripting ComputationResult objects. Will be depricated. key: computed_data\n",
      "WARNING: aclu 7 is not present in the `pf1D_all` ratemaps. Which contain aclus: [2, 3, 4, 5, 6, 8, 9, 10, 11, 12, 13, 14, 15, 16, 18, 19, 20, 23, 24, 25, 26, 27, 28, 29, 30, 31, 32, 33, 34, 35, 38, 39, 40, 43, 44, 47, 48, 51, 52, 53, 54, 55, 56, 57, 58, 59, 60, 61, 62, 63, 65, 66, 67, 68, 69, 70, 71, 72, 74, 75, 77, 78, 79, 80, 81, 82, 83, 84, 85, 86, 87, 89, 90, 91, 92, 93, 95, 98, 100, 101, 102, 103, 104]\n",
      "\t saved /home/halechr/repos/Spike3D/EXTERNAL/Screenshots/ProgrammaticDisplayFunctionTesting/2023-10-06/kdiba/gor01/one/2006-6-09_1-22-43/BatchPhoJonathanReplayFRC_shared_1of9_(2,4,6,7,8,9,10,11,12,13).png\n",
      "include_includelist: ['maze1', 'maze2', 'maze']\n",
      "long_epoch_name: maze1, short_epoch_name: maze2, global_epoch_name: maze\n"
     ]
    },
    {
     "name": "stderr",
     "output_type": "stream",
     "text": [
      "/home/halechr/repos/pyPhoPlaceCellAnalysis/src/pyphoplacecellanalysis/General/Pipeline/Stages/DisplayFunctions/MultiContextComparingDisplayFunctions/LongShortTrackComparingDisplayFunctions.py:1209: SettingWithCopyWarning: \n",
      "A value is trying to be set on a copy of a slice from a DataFrame.\n",
      "Try using .loc[row_indexer,col_indexer] = value instead\n",
      "\n",
      "See the caveats in the documentation: https://pandas.pydata.org/pandas-docs/stable/user_guide/indexing.html#returning-a-view-versus-a-copy\n",
      "  cell_df.loc[:, 'x'] = spk_x\n",
      "/home/halechr/repos/pyPhoPlaceCellAnalysis/src/pyphoplacecellanalysis/General/Mixins/CrossComputationComparisonHelpers.py:235: RuntimeWarning: invalid value encountered in divide\n",
      "  _long_to_short_balances = (rdf.num_short_only_neuron_participating.values - rdf.num_long_only_neuron_participating.values) / (rdf.num_short_only_neuron_participating.values + rdf.num_long_only_neuron_participating.values) ## Working but (0, 1, 1) would clip to 0.5 despite (1, 13, 0) going all the way down to -1.0\n",
      "/home/halechr/repos/pyPhoPlaceCellAnalysis/src/pyphoplacecellanalysis/General/Mixins/CrossComputationComparisonHelpers.py:265: RuntimeWarning: invalid value encountered in divide\n",
      "  _long_to_short_balances = (rdf.num_short_only_neuron_participating.values - rdf.num_long_only_neuron_participating.values) / (rdf.num_short_only_neuron_participating.values + rdf.num_long_only_neuron_participating.values) ## Working but (0, 1, 1) would clip to 0.5 despite (1, 13, 0) going all the way down to -1.0\n"
     ]
    },
    {
     "name": "stdout",
     "output_type": "stream",
     "text": [
      "DEPRICATION WARNING: workaround to allow subscripting ComputationResult objects. Will be depricated. key: computed_data\n",
      "WARNING: aclu 17 is not present in the `pf1D_all` ratemaps. Which contain aclus: [2, 3, 4, 5, 6, 8, 9, 10, 11, 12, 13, 14, 15, 16, 18, 19, 20, 23, 24, 25, 26, 27, 28, 29, 30, 31, 32, 33, 34, 35, 38, 39, 40, 43, 44, 47, 48, 51, 52, 53, 54, 55, 56, 57, 58, 59, 60, 61, 62, 63, 65, 66, 67, 68, 69, 70, 71, 72, 74, 75, 77, 78, 79, 80, 81, 82, 83, 84, 85, 86, 87, 89, 90, 91, 92, 93, 95, 98, 100, 101, 102, 103, 104]\n",
      "WARNING: aclu 21 is not present in the `pf1D_all` ratemaps. Which contain aclus: [2, 3, 4, 5, 6, 8, 9, 10, 11, 12, 13, 14, 15, 16, 18, 19, 20, 23, 24, 25, 26, 27, 28, 29, 30, 31, 32, 33, 34, 35, 38, 39, 40, 43, 44, 47, 48, 51, 52, 53, 54, 55, 56, 57, 58, 59, 60, 61, 62, 63, 65, 66, 67, 68, 69, 70, 71, 72, 74, 75, 77, 78, 79, 80, 81, 82, 83, 84, 85, 86, 87, 89, 90, 91, 92, 93, 95, 98, 100, 101, 102, 103, 104]\n",
      "WARNING: aclu 22 is not present in the `pf1D_all` ratemaps. Which contain aclus: [2, 3, 4, 5, 6, 8, 9, 10, 11, 12, 13, 14, 15, 16, 18, 19, 20, 23, 24, 25, 26, 27, 28, 29, 30, 31, 32, 33, 34, 35, 38, 39, 40, 43, 44, 47, 48, 51, 52, 53, 54, 55, 56, 57, 58, 59, 60, 61, 62, 63, 65, 66, 67, 68, 69, 70, 71, 72, 74, 75, 77, 78, 79, 80, 81, 82, 83, 84, 85, 86, 87, 89, 90, 91, 92, 93, 95, 98, 100, 101, 102, 103, 104]\n",
      "\t saved /home/halechr/repos/Spike3D/EXTERNAL/Screenshots/ProgrammaticDisplayFunctionTesting/2023-10-06/kdiba/gor01/one/2006-6-09_1-22-43/BatchPhoJonathanReplayFRC_shared_2of9_(14,15,16,17,18,19,20,21,22,24).png\n",
      "include_includelist: ['maze1', 'maze2', 'maze']\n",
      "long_epoch_name: maze1, short_epoch_name: maze2, global_epoch_name: maze\n"
     ]
    },
    {
     "name": "stderr",
     "output_type": "stream",
     "text": [
      "/home/halechr/repos/pyPhoPlaceCellAnalysis/src/pyphoplacecellanalysis/General/Pipeline/Stages/DisplayFunctions/MultiContextComparingDisplayFunctions/LongShortTrackComparingDisplayFunctions.py:1209: SettingWithCopyWarning: \n",
      "A value is trying to be set on a copy of a slice from a DataFrame.\n",
      "Try using .loc[row_indexer,col_indexer] = value instead\n",
      "\n",
      "See the caveats in the documentation: https://pandas.pydata.org/pandas-docs/stable/user_guide/indexing.html#returning-a-view-versus-a-copy\n",
      "  cell_df.loc[:, 'x'] = spk_x\n",
      "/home/halechr/repos/pyPhoPlaceCellAnalysis/src/pyphoplacecellanalysis/General/Mixins/CrossComputationComparisonHelpers.py:235: RuntimeWarning: invalid value encountered in divide\n",
      "  _long_to_short_balances = (rdf.num_short_only_neuron_participating.values - rdf.num_long_only_neuron_participating.values) / (rdf.num_short_only_neuron_participating.values + rdf.num_long_only_neuron_participating.values) ## Working but (0, 1, 1) would clip to 0.5 despite (1, 13, 0) going all the way down to -1.0\n",
      "/home/halechr/repos/pyPhoPlaceCellAnalysis/src/pyphoplacecellanalysis/General/Mixins/CrossComputationComparisonHelpers.py:265: RuntimeWarning: invalid value encountered in divide\n",
      "  _long_to_short_balances = (rdf.num_short_only_neuron_participating.values - rdf.num_long_only_neuron_participating.values) / (rdf.num_short_only_neuron_participating.values + rdf.num_long_only_neuron_participating.values) ## Working but (0, 1, 1) would clip to 0.5 despite (1, 13, 0) going all the way down to -1.0\n"
     ]
    },
    {
     "name": "stdout",
     "output_type": "stream",
     "text": [
      "DEPRICATION WARNING: workaround to allow subscripting ComputationResult objects. Will be depricated. key: computed_data\n",
      "WARNING: aclu 36 is not present in the `pf1D_all` ratemaps. Which contain aclus: [2, 3, 4, 5, 6, 8, 9, 10, 11, 12, 13, 14, 15, 16, 18, 19, 20, 23, 24, 25, 26, 27, 28, 29, 30, 31, 32, 33, 34, 35, 38, 39, 40, 43, 44, 47, 48, 51, 52, 53, 54, 55, 56, 57, 58, 59, 60, 61, 62, 63, 65, 66, 67, 68, 69, 70, 71, 72, 74, 75, 77, 78, 79, 80, 81, 82, 83, 84, 85, 86, 87, 89, 90, 91, 92, 93, 95, 98, 100, 101, 102, 103, 104]\n",
      "\t saved /home/halechr/repos/Spike3D/EXTERNAL/Screenshots/ProgrammaticDisplayFunctionTesting/2023-10-06/kdiba/gor01/one/2006-6-09_1-22-43/BatchPhoJonathanReplayFRC_shared_3of9_(25,26,27,28,30,31,33,34,35,36).png\n",
      "include_includelist: ['maze1', 'maze2', 'maze']\n",
      "long_epoch_name: maze1, short_epoch_name: maze2, global_epoch_name: maze\n"
     ]
    },
    {
     "name": "stderr",
     "output_type": "stream",
     "text": [
      "/home/halechr/repos/pyPhoPlaceCellAnalysis/src/pyphoplacecellanalysis/General/Pipeline/Stages/DisplayFunctions/MultiContextComparingDisplayFunctions/LongShortTrackComparingDisplayFunctions.py:1209: SettingWithCopyWarning: \n",
      "A value is trying to be set on a copy of a slice from a DataFrame.\n",
      "Try using .loc[row_indexer,col_indexer] = value instead\n",
      "\n",
      "See the caveats in the documentation: https://pandas.pydata.org/pandas-docs/stable/user_guide/indexing.html#returning-a-view-versus-a-copy\n",
      "  cell_df.loc[:, 'x'] = spk_x\n",
      "/home/halechr/repos/pyPhoPlaceCellAnalysis/src/pyphoplacecellanalysis/General/Mixins/CrossComputationComparisonHelpers.py:235: RuntimeWarning: invalid value encountered in divide\n",
      "  _long_to_short_balances = (rdf.num_short_only_neuron_participating.values - rdf.num_long_only_neuron_participating.values) / (rdf.num_short_only_neuron_participating.values + rdf.num_long_only_neuron_participating.values) ## Working but (0, 1, 1) would clip to 0.5 despite (1, 13, 0) going all the way down to -1.0\n",
      "/home/halechr/repos/pyPhoPlaceCellAnalysis/src/pyphoplacecellanalysis/General/Mixins/CrossComputationComparisonHelpers.py:265: RuntimeWarning: invalid value encountered in divide\n",
      "  _long_to_short_balances = (rdf.num_short_only_neuron_participating.values - rdf.num_long_only_neuron_participating.values) / (rdf.num_short_only_neuron_participating.values + rdf.num_long_only_neuron_participating.values) ## Working but (0, 1, 1) would clip to 0.5 despite (1, 13, 0) going all the way down to -1.0\n"
     ]
    },
    {
     "name": "stdout",
     "output_type": "stream",
     "text": [
      "DEPRICATION WARNING: workaround to allow subscripting ComputationResult objects. Will be depricated. key: computed_data\n",
      "WARNING: aclu 37 is not present in the `pf1D_all` ratemaps. Which contain aclus: [2, 3, 4, 5, 6, 8, 9, 10, 11, 12, 13, 14, 15, 16, 18, 19, 20, 23, 24, 25, 26, 27, 28, 29, 30, 31, 32, 33, 34, 35, 38, 39, 40, 43, 44, 47, 48, 51, 52, 53, 54, 55, 56, 57, 58, 59, 60, 61, 62, 63, 65, 66, 67, 68, 69, 70, 71, 72, 74, 75, 77, 78, 79, 80, 81, 82, 83, 84, 85, 86, 87, 89, 90, 91, 92, 93, 95, 98, 100, 101, 102, 103, 104]\n",
      "WARNING: aclu 41 is not present in the `pf1D_all` ratemaps. Which contain aclus: [2, 3, 4, 5, 6, 8, 9, 10, 11, 12, 13, 14, 15, 16, 18, 19, 20, 23, 24, 25, 26, 27, 28, 29, 30, 31, 32, 33, 34, 35, 38, 39, 40, 43, 44, 47, 48, 51, 52, 53, 54, 55, 56, 57, 58, 59, 60, 61, 62, 63, 65, 66, 67, 68, 69, 70, 71, 72, 74, 75, 77, 78, 79, 80, 81, 82, 83, 84, 85, 86, 87, 89, 90, 91, 92, 93, 95, 98, 100, 101, 102, 103, 104]\n",
      "WARNING: aclu 42 is not present in the `pf1D_all` ratemaps. Which contain aclus: [2, 3, 4, 5, 6, 8, 9, 10, 11, 12, 13, 14, 15, 16, 18, 19, 20, 23, 24, 25, 26, 27, 28, 29, 30, 31, 32, 33, 34, 35, 38, 39, 40, 43, 44, 47, 48, 51, 52, 53, 54, 55, 56, 57, 58, 59, 60, 61, 62, 63, 65, 66, 67, 68, 69, 70, 71, 72, 74, 75, 77, 78, 79, 80, 81, 82, 83, 84, 85, 86, 87, 89, 90, 91, 92, 93, 95, 98, 100, 101, 102, 103, 104]\n",
      "WARNING: aclu 45 is not present in the `pf1D_all` ratemaps. Which contain aclus: [2, 3, 4, 5, 6, 8, 9, 10, 11, 12, 13, 14, 15, 16, 18, 19, 20, 23, 24, 25, 26, 27, 28, 29, 30, 31, 32, 33, 34, 35, 38, 39, 40, 43, 44, 47, 48, 51, 52, 53, 54, 55, 56, 57, 58, 59, 60, 61, 62, 63, 65, 66, 67, 68, 69, 70, 71, 72, 74, 75, 77, 78, 79, 80, 81, 82, 83, 84, 85, 86, 87, 89, 90, 91, 92, 93, 95, 98, 100, 101, 102, 103, 104]\n",
      "WARNING: aclu 46 is not present in the `pf1D_all` ratemaps. Which contain aclus: [2, 3, 4, 5, 6, 8, 9, 10, 11, 12, 13, 14, 15, 16, 18, 19, 20, 23, 24, 25, 26, 27, 28, 29, 30, 31, 32, 33, 34, 35, 38, 39, 40, 43, 44, 47, 48, 51, 52, 53, 54, 55, 56, 57, 58, 59, 60, 61, 62, 63, 65, 66, 67, 68, 69, 70, 71, 72, 74, 75, 77, 78, 79, 80, 81, 82, 83, 84, 85, 86, 87, 89, 90, 91, 92, 93, 95, 98, 100, 101, 102, 103, 104]\n",
      "\t saved /home/halechr/repos/Spike3D/EXTERNAL/Screenshots/ProgrammaticDisplayFunctionTesting/2023-10-06/kdiba/gor01/one/2006-6-09_1-22-43/BatchPhoJonathanReplayFRC_shared_4of9_(37,39,40,41,42,43,44,45,46,47).png\n",
      "include_includelist: ['maze1', 'maze2', 'maze']\n",
      "long_epoch_name: maze1, short_epoch_name: maze2, global_epoch_name: maze\n"
     ]
    },
    {
     "name": "stderr",
     "output_type": "stream",
     "text": [
      "/home/halechr/repos/pyPhoPlaceCellAnalysis/src/pyphoplacecellanalysis/General/Pipeline/Stages/DisplayFunctions/MultiContextComparingDisplayFunctions/LongShortTrackComparingDisplayFunctions.py:1209: SettingWithCopyWarning: \n",
      "A value is trying to be set on a copy of a slice from a DataFrame.\n",
      "Try using .loc[row_indexer,col_indexer] = value instead\n",
      "\n",
      "See the caveats in the documentation: https://pandas.pydata.org/pandas-docs/stable/user_guide/indexing.html#returning-a-view-versus-a-copy\n",
      "  cell_df.loc[:, 'x'] = spk_x\n",
      "/home/halechr/repos/pyPhoPlaceCellAnalysis/src/pyphoplacecellanalysis/General/Mixins/CrossComputationComparisonHelpers.py:235: RuntimeWarning: invalid value encountered in divide\n",
      "  _long_to_short_balances = (rdf.num_short_only_neuron_participating.values - rdf.num_long_only_neuron_participating.values) / (rdf.num_short_only_neuron_participating.values + rdf.num_long_only_neuron_participating.values) ## Working but (0, 1, 1) would clip to 0.5 despite (1, 13, 0) going all the way down to -1.0\n",
      "/home/halechr/repos/pyPhoPlaceCellAnalysis/src/pyphoplacecellanalysis/General/Mixins/CrossComputationComparisonHelpers.py:265: RuntimeWarning: invalid value encountered in divide\n",
      "  _long_to_short_balances = (rdf.num_short_only_neuron_participating.values - rdf.num_long_only_neuron_participating.values) / (rdf.num_short_only_neuron_participating.values + rdf.num_long_only_neuron_participating.values) ## Working but (0, 1, 1) would clip to 0.5 despite (1, 13, 0) going all the way down to -1.0\n"
     ]
    },
    {
     "name": "stdout",
     "output_type": "stream",
     "text": [
      "DEPRICATION WARNING: workaround to allow subscripting ComputationResult objects. Will be depricated. key: computed_data\n",
      "WARNING: aclu 49 is not present in the `pf1D_all` ratemaps. Which contain aclus: [2, 3, 4, 5, 6, 8, 9, 10, 11, 12, 13, 14, 15, 16, 18, 19, 20, 23, 24, 25, 26, 27, 28, 29, 30, 31, 32, 33, 34, 35, 38, 39, 40, 43, 44, 47, 48, 51, 52, 53, 54, 55, 56, 57, 58, 59, 60, 61, 62, 63, 65, 66, 67, 68, 69, 70, 71, 72, 74, 75, 77, 78, 79, 80, 81, 82, 83, 84, 85, 86, 87, 89, 90, 91, 92, 93, 95, 98, 100, 101, 102, 103, 104]\n",
      "WARNING: aclu 50 is not present in the `pf1D_all` ratemaps. Which contain aclus: [2, 3, 4, 5, 6, 8, 9, 10, 11, 12, 13, 14, 15, 16, 18, 19, 20, 23, 24, 25, 26, 27, 28, 29, 30, 31, 32, 33, 34, 35, 38, 39, 40, 43, 44, 47, 48, 51, 52, 53, 54, 55, 56, 57, 58, 59, 60, 61, 62, 63, 65, 66, 67, 68, 69, 70, 71, 72, 74, 75, 77, 78, 79, 80, 81, 82, 83, 84, 85, 86, 87, 89, 90, 91, 92, 93, 95, 98, 100, 101, 102, 103, 104]\n",
      "\t saved /home/halechr/repos/Spike3D/EXTERNAL/Screenshots/ProgrammaticDisplayFunctionTesting/2023-10-06/kdiba/gor01/one/2006-6-09_1-22-43/BatchPhoJonathanReplayFRC_shared_5of9_(48,49,50,51,52,53,54,56,57,58).png\n",
      "include_includelist: ['maze1', 'maze2', 'maze']\n",
      "long_epoch_name: maze1, short_epoch_name: maze2, global_epoch_name: maze\n"
     ]
    },
    {
     "name": "stderr",
     "output_type": "stream",
     "text": [
      "/home/halechr/repos/pyPhoPlaceCellAnalysis/src/pyphoplacecellanalysis/General/Pipeline/Stages/DisplayFunctions/MultiContextComparingDisplayFunctions/LongShortTrackComparingDisplayFunctions.py:1209: SettingWithCopyWarning: \n",
      "A value is trying to be set on a copy of a slice from a DataFrame.\n",
      "Try using .loc[row_indexer,col_indexer] = value instead\n",
      "\n",
      "See the caveats in the documentation: https://pandas.pydata.org/pandas-docs/stable/user_guide/indexing.html#returning-a-view-versus-a-copy\n",
      "  cell_df.loc[:, 'x'] = spk_x\n",
      "/home/halechr/repos/pyPhoPlaceCellAnalysis/src/pyphoplacecellanalysis/General/Mixins/CrossComputationComparisonHelpers.py:235: RuntimeWarning: invalid value encountered in divide\n",
      "  _long_to_short_balances = (rdf.num_short_only_neuron_participating.values - rdf.num_long_only_neuron_participating.values) / (rdf.num_short_only_neuron_participating.values + rdf.num_long_only_neuron_participating.values) ## Working but (0, 1, 1) would clip to 0.5 despite (1, 13, 0) going all the way down to -1.0\n",
      "/home/halechr/repos/pyPhoPlaceCellAnalysis/src/pyphoplacecellanalysis/General/Mixins/CrossComputationComparisonHelpers.py:265: RuntimeWarning: invalid value encountered in divide\n",
      "  _long_to_short_balances = (rdf.num_short_only_neuron_participating.values - rdf.num_long_only_neuron_participating.values) / (rdf.num_short_only_neuron_participating.values + rdf.num_long_only_neuron_participating.values) ## Working but (0, 1, 1) would clip to 0.5 despite (1, 13, 0) going all the way down to -1.0\n"
     ]
    },
    {
     "name": "stdout",
     "output_type": "stream",
     "text": [
      "DEPRICATION WARNING: workaround to allow subscripting ComputationResult objects. Will be depricated. key: computed_data\n",
      "WARNING: aclu 64 is not present in the `pf1D_all` ratemaps. Which contain aclus: [2, 3, 4, 5, 6, 8, 9, 10, 11, 12, 13, 14, 15, 16, 18, 19, 20, 23, 24, 25, 26, 27, 28, 29, 30, 31, 32, 33, 34, 35, 38, 39, 40, 43, 44, 47, 48, 51, 52, 53, 54, 55, 56, 57, 58, 59, 60, 61, 62, 63, 65, 66, 67, 68, 69, 70, 71, 72, 74, 75, 77, 78, 79, 80, 81, 82, 83, 84, 85, 86, 87, 89, 90, 91, 92, 93, 95, 98, 100, 101, 102, 103, 104]\n",
      "\t saved /home/halechr/repos/Spike3D/EXTERNAL/Screenshots/ProgrammaticDisplayFunctionTesting/2023-10-06/kdiba/gor01/one/2006-6-09_1-22-43/BatchPhoJonathanReplayFRC_shared_6of9_(59,60,61,63,64,65,66,67,68,71).png\n",
      "include_includelist: ['maze1', 'maze2', 'maze']\n",
      "long_epoch_name: maze1, short_epoch_name: maze2, global_epoch_name: maze\n"
     ]
    },
    {
     "name": "stderr",
     "output_type": "stream",
     "text": [
      "/home/halechr/repos/pyPhoPlaceCellAnalysis/src/pyphoplacecellanalysis/General/Pipeline/Stages/DisplayFunctions/MultiContextComparingDisplayFunctions/LongShortTrackComparingDisplayFunctions.py:1209: SettingWithCopyWarning: \n",
      "A value is trying to be set on a copy of a slice from a DataFrame.\n",
      "Try using .loc[row_indexer,col_indexer] = value instead\n",
      "\n",
      "See the caveats in the documentation: https://pandas.pydata.org/pandas-docs/stable/user_guide/indexing.html#returning-a-view-versus-a-copy\n",
      "  cell_df.loc[:, 'x'] = spk_x\n",
      "/home/halechr/repos/pyPhoPlaceCellAnalysis/src/pyphoplacecellanalysis/General/Mixins/CrossComputationComparisonHelpers.py:235: RuntimeWarning: invalid value encountered in divide\n",
      "  _long_to_short_balances = (rdf.num_short_only_neuron_participating.values - rdf.num_long_only_neuron_participating.values) / (rdf.num_short_only_neuron_participating.values + rdf.num_long_only_neuron_participating.values) ## Working but (0, 1, 1) would clip to 0.5 despite (1, 13, 0) going all the way down to -1.0\n",
      "/home/halechr/repos/pyPhoPlaceCellAnalysis/src/pyphoplacecellanalysis/General/Mixins/CrossComputationComparisonHelpers.py:265: RuntimeWarning: invalid value encountered in divide\n",
      "  _long_to_short_balances = (rdf.num_short_only_neuron_participating.values - rdf.num_long_only_neuron_participating.values) / (rdf.num_short_only_neuron_participating.values + rdf.num_long_only_neuron_participating.values) ## Working but (0, 1, 1) would clip to 0.5 despite (1, 13, 0) going all the way down to -1.0\n"
     ]
    },
    {
     "name": "stdout",
     "output_type": "stream",
     "text": [
      "DEPRICATION WARNING: workaround to allow subscripting ComputationResult objects. Will be depricated. key: computed_data\n",
      "WARNING: aclu 73 is not present in the `pf1D_all` ratemaps. Which contain aclus: [2, 3, 4, 5, 6, 8, 9, 10, 11, 12, 13, 14, 15, 16, 18, 19, 20, 23, 24, 25, 26, 27, 28, 29, 30, 31, 32, 33, 34, 35, 38, 39, 40, 43, 44, 47, 48, 51, 52, 53, 54, 55, 56, 57, 58, 59, 60, 61, 62, 63, 65, 66, 67, 68, 69, 70, 71, 72, 74, 75, 77, 78, 79, 80, 81, 82, 83, 84, 85, 86, 87, 89, 90, 91, 92, 93, 95, 98, 100, 101, 102, 103, 104]\n",
      "WARNING: aclu 76 is not present in the `pf1D_all` ratemaps. Which contain aclus: [2, 3, 4, 5, 6, 8, 9, 10, 11, 12, 13, 14, 15, 16, 18, 19, 20, 23, 24, 25, 26, 27, 28, 29, 30, 31, 32, 33, 34, 35, 38, 39, 40, 43, 44, 47, 48, 51, 52, 53, 54, 55, 56, 57, 58, 59, 60, 61, 62, 63, 65, 66, 67, 68, 69, 70, 71, 72, 74, 75, 77, 78, 79, 80, 81, 82, 83, 84, 85, 86, 87, 89, 90, 91, 92, 93, 95, 98, 100, 101, 102, 103, 104]\n",
      "\t saved /home/halechr/repos/Spike3D/EXTERNAL/Screenshots/ProgrammaticDisplayFunctionTesting/2023-10-06/kdiba/gor01/one/2006-6-09_1-22-43/BatchPhoJonathanReplayFRC_shared_7of9_(72,73,74,75,76,77,78,79,80,81).png\n",
      "include_includelist: ['maze1', 'maze2', 'maze']\n",
      "long_epoch_name: maze1, short_epoch_name: maze2, global_epoch_name: maze\n"
     ]
    },
    {
     "name": "stderr",
     "output_type": "stream",
     "text": [
      "/home/halechr/repos/pyPhoPlaceCellAnalysis/src/pyphoplacecellanalysis/General/Pipeline/Stages/DisplayFunctions/MultiContextComparingDisplayFunctions/LongShortTrackComparingDisplayFunctions.py:1209: SettingWithCopyWarning: \n",
      "A value is trying to be set on a copy of a slice from a DataFrame.\n",
      "Try using .loc[row_indexer,col_indexer] = value instead\n",
      "\n",
      "See the caveats in the documentation: https://pandas.pydata.org/pandas-docs/stable/user_guide/indexing.html#returning-a-view-versus-a-copy\n",
      "  cell_df.loc[:, 'x'] = spk_x\n",
      "/home/halechr/repos/pyPhoPlaceCellAnalysis/src/pyphoplacecellanalysis/General/Mixins/CrossComputationComparisonHelpers.py:235: RuntimeWarning: invalid value encountered in divide\n",
      "  _long_to_short_balances = (rdf.num_short_only_neuron_participating.values - rdf.num_long_only_neuron_participating.values) / (rdf.num_short_only_neuron_participating.values + rdf.num_long_only_neuron_participating.values) ## Working but (0, 1, 1) would clip to 0.5 despite (1, 13, 0) going all the way down to -1.0\n",
      "/home/halechr/repos/pyPhoPlaceCellAnalysis/src/pyphoplacecellanalysis/General/Mixins/CrossComputationComparisonHelpers.py:265: RuntimeWarning: invalid value encountered in divide\n",
      "  _long_to_short_balances = (rdf.num_short_only_neuron_participating.values - rdf.num_long_only_neuron_participating.values) / (rdf.num_short_only_neuron_participating.values + rdf.num_long_only_neuron_participating.values) ## Working but (0, 1, 1) would clip to 0.5 despite (1, 13, 0) going all the way down to -1.0\n"
     ]
    },
    {
     "name": "stdout",
     "output_type": "stream",
     "text": [
      "DEPRICATION WARNING: workaround to allow subscripting ComputationResult objects. Will be depricated. key: computed_data\n",
      "WARNING: aclu 88 is not present in the `pf1D_all` ratemaps. Which contain aclus: [2, 3, 4, 5, 6, 8, 9, 10, 11, 12, 13, 14, 15, 16, 18, 19, 20, 23, 24, 25, 26, 27, 28, 29, 30, 31, 32, 33, 34, 35, 38, 39, 40, 43, 44, 47, 48, 51, 52, 53, 54, 55, 56, 57, 58, 59, 60, 61, 62, 63, 65, 66, 67, 68, 69, 70, 71, 72, 74, 75, 77, 78, 79, 80, 81, 82, 83, 84, 85, 86, 87, 89, 90, 91, 92, 93, 95, 98, 100, 101, 102, 103, 104]\n",
      "\t saved /home/halechr/repos/Spike3D/EXTERNAL/Screenshots/ProgrammaticDisplayFunctionTesting/2023-10-06/kdiba/gor01/one/2006-6-09_1-22-43/BatchPhoJonathanReplayFRC_shared_8of9_(82,83,84,85,86,87,88,89,90,91).png\n",
      "include_includelist: ['maze1', 'maze2', 'maze']\n",
      "long_epoch_name: maze1, short_epoch_name: maze2, global_epoch_name: maze\n"
     ]
    },
    {
     "name": "stderr",
     "output_type": "stream",
     "text": [
      "/home/halechr/repos/pyPhoPlaceCellAnalysis/src/pyphoplacecellanalysis/General/Pipeline/Stages/DisplayFunctions/MultiContextComparingDisplayFunctions/LongShortTrackComparingDisplayFunctions.py:1209: SettingWithCopyWarning: \n",
      "A value is trying to be set on a copy of a slice from a DataFrame.\n",
      "Try using .loc[row_indexer,col_indexer] = value instead\n",
      "\n",
      "See the caveats in the documentation: https://pandas.pydata.org/pandas-docs/stable/user_guide/indexing.html#returning-a-view-versus-a-copy\n",
      "  cell_df.loc[:, 'x'] = spk_x\n",
      "/home/halechr/repos/pyPhoPlaceCellAnalysis/src/pyphoplacecellanalysis/General/Mixins/CrossComputationComparisonHelpers.py:235: RuntimeWarning: invalid value encountered in divide\n",
      "  _long_to_short_balances = (rdf.num_short_only_neuron_participating.values - rdf.num_long_only_neuron_participating.values) / (rdf.num_short_only_neuron_participating.values + rdf.num_long_only_neuron_participating.values) ## Working but (0, 1, 1) would clip to 0.5 despite (1, 13, 0) going all the way down to -1.0\n",
      "/home/halechr/repos/pyPhoPlaceCellAnalysis/src/pyphoplacecellanalysis/General/Mixins/CrossComputationComparisonHelpers.py:265: RuntimeWarning: invalid value encountered in divide\n",
      "  _long_to_short_balances = (rdf.num_short_only_neuron_participating.values - rdf.num_long_only_neuron_participating.values) / (rdf.num_short_only_neuron_participating.values + rdf.num_long_only_neuron_participating.values) ## Working but (0, 1, 1) would clip to 0.5 despite (1, 13, 0) going all the way down to -1.0\n"
     ]
    },
    {
     "name": "stdout",
     "output_type": "stream",
     "text": [
      "DEPRICATION WARNING: workaround to allow subscripting ComputationResult objects. Will be depricated. key: computed_data\n",
      "WARNING: aclu 94 is not present in the `pf1D_all` ratemaps. Which contain aclus: [2, 3, 4, 5, 6, 8, 9, 10, 11, 12, 13, 14, 15, 16, 18, 19, 20, 23, 24, 25, 26, 27, 28, 29, 30, 31, 32, 33, 34, 35, 38, 39, 40, 43, 44, 47, 48, 51, 52, 53, 54, 55, 56, 57, 58, 59, 60, 61, 62, 63, 65, 66, 67, 68, 69, 70, 71, 72, 74, 75, 77, 78, 79, 80, 81, 82, 83, 84, 85, 86, 87, 89, 90, 91, 92, 93, 95, 98, 100, 101, 102, 103, 104]\n",
      "WARNING: aclu 96 is not present in the `pf1D_all` ratemaps. Which contain aclus: [2, 3, 4, 5, 6, 8, 9, 10, 11, 12, 13, 14, 15, 16, 18, 19, 20, 23, 24, 25, 26, 27, 28, 29, 30, 31, 32, 33, 34, 35, 38, 39, 40, 43, 44, 47, 48, 51, 52, 53, 54, 55, 56, 57, 58, 59, 60, 61, 62, 63, 65, 66, 67, 68, 69, 70, 71, 72, 74, 75, 77, 78, 79, 80, 81, 82, 83, 84, 85, 86, 87, 89, 90, 91, 92, 93, 95, 98, 100, 101, 102, 103, 104]\n",
      "WARNING: aclu 99 is not present in the `pf1D_all` ratemaps. Which contain aclus: [2, 3, 4, 5, 6, 8, 9, 10, 11, 12, 13, 14, 15, 16, 18, 19, 20, 23, 24, 25, 26, 27, 28, 29, 30, 31, 32, 33, 34, 35, 38, 39, 40, 43, 44, 47, 48, 51, 52, 53, 54, 55, 56, 57, 58, 59, 60, 61, 62, 63, 65, 66, 67, 68, 69, 70, 71, 72, 74, 75, 77, 78, 79, 80, 81, 82, 83, 84, 85, 86, 87, 89, 90, 91, 92, 93, 95, 98, 100, 101, 102, 103, 104]\n"
     ]
    },
    {
     "name": "stderr",
     "output_type": "stream",
     "text": [
      "WARNING: when normalize_tuning_curve=True pad will be set to 1, the current value of pad=2 will be overriden.\n"
     ]
    },
    {
     "name": "stdout",
     "output_type": "stream",
     "text": [
      "\t saved /home/halechr/repos/Spike3D/EXTERNAL/Screenshots/ProgrammaticDisplayFunctionTesting/2023-10-06/kdiba/gor01/one/2006-6-09_1-22-43/BatchPhoJonathanReplayFRC_shared_9of9_(92,93,94,95,96,98,99,101,102,104).png\n"
     ]
    },
    {
     "name": "stderr",
     "output_type": "stream",
     "text": [
      "/home/halechr/repos/pyPhoPlaceCellAnalysis/src/pyphoplacecellanalysis/General/Pipeline/Stages/DisplayFunctions/Ratemaps.py:63: UserWarning: FigureCanvasAgg is non-interactive, and thus cannot be shown\n",
      "  active_figure.show()\n",
      "WARNING: when normalize_tuning_curve=True pad will be set to 1, the current value of pad=2 will be overriden.\n"
     ]
    },
    {
     "name": "stdout",
     "output_type": "stream",
     "text": [
      "\t saved /home/halechr/repos/Spike3D/EXTERNAL/Screenshots/ProgrammaticDisplayFunctionTesting/2023-10-06/kdiba/gor01/one/2006-6-09_1-22-43/maze1_1d_placefields.png\n"
     ]
    },
    {
     "name": "stderr",
     "output_type": "stream",
     "text": [
      "/home/halechr/repos/pyPhoPlaceCellAnalysis/src/pyphoplacecellanalysis/General/Pipeline/Stages/DisplayFunctions/Ratemaps.py:63: UserWarning: FigureCanvasAgg is non-interactive, and thus cannot be shown\n",
      "  active_figure.show()\n",
      "WARNING: when normalize_tuning_curve=True pad will be set to 1, the current value of pad=2 will be overriden.\n"
     ]
    },
    {
     "name": "stdout",
     "output_type": "stream",
     "text": [
      "\t saved /home/halechr/repos/Spike3D/EXTERNAL/Screenshots/ProgrammaticDisplayFunctionTesting/2023-10-06/kdiba/gor01/one/2006-6-09_1-22-43/maze2_1d_placefields.png\n"
     ]
    },
    {
     "name": "stderr",
     "output_type": "stream",
     "text": [
      "/home/halechr/repos/pyPhoPlaceCellAnalysis/src/pyphoplacecellanalysis/General/Pipeline/Stages/DisplayFunctions/Ratemaps.py:63: UserWarning: FigureCanvasAgg is non-interactive, and thus cannot be shown\n",
      "  active_figure.show()\n"
     ]
    },
    {
     "name": "stdout",
     "output_type": "stream",
     "text": [
      "\t saved /home/halechr/repos/Spike3D/EXTERNAL/Screenshots/ProgrammaticDisplayFunctionTesting/2023-10-06/kdiba/gor01/one/2006-6-09_1-22-43/maze_1d_placefields.png\n"
     ]
    },
    {
     "name": "stderr",
     "output_type": "stream",
     "text": [
      "/home/halechr/repos/pyPhoPlaceCellAnalysis/src/pyphoplacecellanalysis/General/Mixins/ExportHelpers.py:669: UserWarning: This figure includes Axes that are not compatible with tight_layout, so results might be incorrect.\n",
      "  a_fig.savefig(fig_png_out_path)\n"
     ]
    },
    {
     "name": "stdout",
     "output_type": "stream",
     "text": [
      "\t saved /home/halechr/repos/Spike3D/EXTERNAL/Screenshots/ProgrammaticDisplayFunctionTesting/2023-10-06/kdiba/gor01/one/2006-6-09_1-22-43/maze1__display_2d_placefield_result_plot_ratemaps_2D.png\n",
      "\t saved /home/halechr/repos/Spike3D/EXTERNAL/Screenshots/ProgrammaticDisplayFunctionTesting/2023-10-06/kdiba/gor01/one/2006-6-09_1-22-43/maze2__display_2d_placefield_result_plot_ratemaps_2D.png\n",
      "\t saved /home/halechr/repos/Spike3D/EXTERNAL/Screenshots/ProgrammaticDisplayFunctionTesting/2023-10-06/kdiba/gor01/one/2006-6-09_1-22-43/maze__display_2d_placefield_result_plot_ratemaps_2D.png\n",
      "\t saved /home/halechr/repos/Spike3D/EXTERNAL/Screenshots/ProgrammaticDisplayFunctionTesting/2023-10-06/kdiba/gor01/one/2006-6-09_1-22-43/maze1_plot_occupancy_OCCUPANCY.png\n",
      "\t saved /home/halechr/repos/Spike3D/EXTERNAL/Screenshots/ProgrammaticDisplayFunctionTesting/2023-10-06/kdiba/gor01/one/2006-6-09_1-22-43/maze2_plot_occupancy_OCCUPANCY.png\n",
      "\t saved /home/halechr/repos/Spike3D/EXTERNAL/Screenshots/ProgrammaticDisplayFunctionTesting/2023-10-06/kdiba/gor01/one/2006-6-09_1-22-43/maze_plot_occupancy_OCCUPANCY.png\n"
     ]
    },
    {
     "name": "stderr",
     "output_type": "stream",
     "text": [
      "/home/halechr/repos/pyPhoPlaceCellAnalysis/src/pyphoplacecellanalysis/General/Pipeline/Stages/DisplayFunctions/MultiContextComparingDisplayFunctions/LongShortTrackComparingDisplayFunctions.py:1869: RuntimeWarning: More than 20 figures have been opened. Figures created through the pyplot interface (`matplotlib.pyplot.figure`) are retained until explicitly closed and may consume too much memory. (To control this warning, see the rcParam `figure.max_open_warning`). Consider using `matplotlib.pyplot.close()`.\n",
      "  fig, ax = plt.subplots(figsize=(8.5, 7.25), num=f'long|short fr indicies_{active_context.get_description(separator=\"/\")}', clear=True)\n"
     ]
    },
    {
     "name": "stdout",
     "output_type": "stream",
     "text": [
      "\t saved /home/halechr/repos/Spike3D/EXTERNAL/Screenshots/ProgrammaticDisplayFunctionTesting/2023-10-06/kdiba/gor01/one/2006-6-09_1-22-43/long_short_firing_rate_indicies_display_long_short_laps.png\n",
      "global_y_min_SHORT: 0.0, global_y_max_SHORT: 5.997505402092126\n",
      "global_y_min_LONG: 0.0, global_y_max_LONG: 5.996936967643157\n",
      "global_y_min: 0.0, global_y_max: 5.997505402092126\n",
      "batch_extended_programmatic_figures(...): _prepare_plot_expected_vs_observed failed with error: 'green' is not a valid color value.\n",
      " skipping.\n",
      "\t saved /home/halechr/repos/Spike3D/EXTERNAL/Screenshots/ProgrammaticDisplayFunctionTesting/2023-10-06/kdiba/gor01/one/2006-6-09_1-22-43/_display_grid_bin_bounds_validation.png\n",
      "batch_extended_programmatic_figures(...): _display_running_and_replay_speeds_over_time failed with error: 'green' is not a valid color value.\n",
      " skipping.\n",
      "batch_extended_programmatic_figures(...): _display_long_short_laps failed with error: plot_position_curves_figure() got an unexpected keyword argument 'active_config_name'\n",
      " skipping.\n"
     ]
    },
    {
     "name": "stderr",
     "output_type": "stream",
     "text": [
      "/home/halechr/repos/pyPhoPlaceCellAnalysis/src/pyphoplacecellanalysis/General/Pipeline/Stages/DisplayFunctions/MultiContextComparingDisplayFunctions/LongShortTrackComparingDisplayFunctions.py:2556: UserWarning: FigureCanvasAgg is non-interactive, and thus cannot be shown\n",
      "  fig.show()\n",
      "/home/halechr/repos/pyPhoPlaceCellAnalysis/src/pyphoplacecellanalysis/General/Pipeline/Stages/DisplayFunctions/MultiContextComparingDisplayFunctions/LongShortTrackComparingDisplayFunctions.py:2556: UserWarning: FigureCanvasAgg is non-interactive, and thus cannot be shown\n",
      "  fig.show()\n"
     ]
    },
    {
     "name": "stdout",
     "output_type": "stream",
     "text": [
      "\t saved /home/halechr/repos/Spike3D/EXTERNAL/Screenshots/ProgrammaticDisplayFunctionTesting/2023-10-06/kdiba/gor01/one/2006-6-09_1-22-43/maze1_plot_single_track_firing_rate_compare.png\n",
      "\t saved /home/halechr/repos/Spike3D/EXTERNAL/Screenshots/ProgrammaticDisplayFunctionTesting/2023-10-06/kdiba/gor01/one/2006-6-09_1-22-43/maze2_plot_single_track_firing_rate_compare.png\n",
      "WARNING: fignum will be ignored but it was specified as fignum=\"Short v Long pf1D Comparison\"!\n",
      "DEPRICATION WARNING: workaround to allow subscripting ComputationResult objects. Will be depricated. key: computed_data\n",
      "DEPRICATION WARNING: workaround to allow subscripting ComputationResult objects. Will be depricated. key: computed_data\n",
      "DEBUG: new_all_aclus_sort_indicies: [19 55 35 27 56 70 12 33 37 42 71 15 28 67  7 34  0 50 32  4 40 82 77 62\n",
      "  9 30 24 64 57 78 74 36 29 18 75 31 11 25 63 16  6 51 65  8 58 21  2 17\n",
      " 69 44  3  5 23 72  1 49 73 61 83 10 59 66 39 76 43 46 38 22 68 80 81 52\n",
      " 45 53 13 47 20 60 14 54 48 41 79 26]\n",
      "active_context: kdiba_gor01_one_2006-6-09_1-22-43\n",
      "\t saved /home/halechr/repos/Spike3D/EXTERNAL/Screenshots/ProgrammaticDisplayFunctionTesting/2023-10-06/kdiba/gor01/one/2006-6-09_1-22-43/display_short_long_pf1D_comparison_long.png\n",
      "\t saved /home/halechr/repos/Spike3D/EXTERNAL/Screenshots/ProgrammaticDisplayFunctionTesting/2023-10-06/kdiba/gor01/one/2006-6-09_1-22-43/display_short_long_pf1D_comparison_short.png\n"
     ]
    },
    {
     "name": "stderr",
     "output_type": "stream",
     "text": [
      "/home/halechr/repos/pyPhoPlaceCellAnalysis/src/pyphoplacecellanalysis/Pho2D/matplotlib/CustomMatplotlibWidget.py:168: UserWarning: constrained_layout not applied because axes sizes collapsed to zero.  Try making figure larger or axes decorations smaller.\n",
      "  self.ui.canvas.draw()\n"
     ]
    },
    {
     "name": "stdout",
     "output_type": "stream",
     "text": [
      "\t saved /home/halechr/repos/Spike3D/EXTERNAL/Screenshots/ProgrammaticDisplayFunctionTesting/2023-10-06/kdiba/gor01/one/2006-6-09_1-22-43/DecodedEpochSlices_replays_long_results_obj.png\n"
     ]
    },
    {
     "name": "stderr",
     "output_type": "stream",
     "text": [
      "/home/halechr/repos/pyPhoPlaceCellAnalysis/src/pyphoplacecellanalysis/Pho2D/matplotlib/CustomMatplotlibWidget.py:168: UserWarning: constrained_layout not applied because axes sizes collapsed to zero.  Try making figure larger or axes decorations smaller.\n",
      "  self.ui.canvas.draw()\n"
     ]
    },
    {
     "name": "stdout",
     "output_type": "stream",
     "text": [
      "\t saved /home/halechr/repos/Spike3D/EXTERNAL/Screenshots/ProgrammaticDisplayFunctionTesting/2023-10-06/kdiba/gor01/one/2006-6-09_1-22-43/DecodedEpochSlices_replays_short_results_obj.png\n",
      "DEPRICATION WARNING: workaround to allow subscripting ComputationResult objects. Will be depricated. key: computed_data\n",
      "DEPRICATION WARNING: workaround to allow subscripting ComputationResult objects. Will be depricated. key: computed_data\n",
      "DEPRICATION WARNING: workaround to allow subscripting ComputationResult objects. Will be depricated. key: computed_data\n",
      "batch_extended_programmatic_figures(...): export_active_relative_entropy_results_videos failed with error: 'extended_stats'\n",
      " skipping.\n",
      "DEPRICATION WARNING: workaround to allow subscripting ComputationResult objects. Will be depricated. key: computed_data\n",
      "DEPRICATION WARNING: workaround to allow subscripting ComputationResult objects. Will be depricated. key: computed_data\n",
      "DEPRICATION WARNING: workaround to allow subscripting ComputationResult objects. Will be depricated. key: computed_data\n",
      "WARN: 2023-09-28 16:15: - [ ] fix the combination properties. Would work if we directly used the computed _is_L_only and _is_S_only above\n",
      "include_includelist: ['maze1', 'maze2', 'maze']\n",
      "long_epoch_name: maze1, short_epoch_name: maze2, global_epoch_name: maze\n"
     ]
    },
    {
     "name": "stderr",
     "output_type": "stream",
     "text": [
      "/home/halechr/repos/pyPhoPlaceCellAnalysis/src/pyphoplacecellanalysis/General/Pipeline/Stages/DisplayFunctions/MultiContextComparingDisplayFunctions/LongShortTrackComparingDisplayFunctions.py:1209: SettingWithCopyWarning: \n",
      "A value is trying to be set on a copy of a slice from a DataFrame.\n",
      "Try using .loc[row_indexer,col_indexer] = value instead\n",
      "\n",
      "See the caveats in the documentation: https://pandas.pydata.org/pandas-docs/stable/user_guide/indexing.html#returning-a-view-versus-a-copy\n",
      "  cell_df.loc[:, 'x'] = spk_x\n"
     ]
    },
    {
     "name": "stdout",
     "output_type": "stream",
     "text": [
      "DEPRICATION WARNING: workaround to allow subscripting ComputationResult objects. Will be depricated. key: computed_data\n"
     ]
    },
    {
     "name": "stderr",
     "output_type": "stream",
     "text": [
      "/home/halechr/repos/pyPhoPlaceCellAnalysis/src/pyphoplacecellanalysis/General/Mixins/CrossComputationComparisonHelpers.py:235: RuntimeWarning: invalid value encountered in divide\n",
      "  _long_to_short_balances = (rdf.num_short_only_neuron_participating.values - rdf.num_long_only_neuron_participating.values) / (rdf.num_short_only_neuron_participating.values + rdf.num_long_only_neuron_participating.values) ## Working but (0, 1, 1) would clip to 0.5 despite (1, 13, 0) going all the way down to -1.0\n",
      "/home/halechr/repos/pyPhoPlaceCellAnalysis/src/pyphoplacecellanalysis/General/Mixins/CrossComputationComparisonHelpers.py:265: RuntimeWarning: invalid value encountered in divide\n",
      "  _long_to_short_balances = (rdf.num_short_only_neuron_participating.values - rdf.num_long_only_neuron_participating.values) / (rdf.num_short_only_neuron_participating.values + rdf.num_long_only_neuron_participating.values) ## Working but (0, 1, 1) would clip to 0.5 despite (1, 13, 0) going all the way down to -1.0\n"
     ]
    },
    {
     "name": "stdout",
     "output_type": "stream",
     "text": [
      "WARNING: aclu 97 is not present in the `pf1D_all` ratemaps. Which contain aclus: [2, 3, 4, 5, 6, 8, 9, 10, 11, 12, 13, 14, 15, 16, 18, 19, 20, 23, 24, 25, 26, 27, 28, 29, 30, 31, 32, 33, 34, 35, 38, 39, 40, 43, 44, 47, 48, 51, 52, 53, 54, 55, 56, 57, 58, 59, 60, 61, 62, 63, 65, 66, 67, 68, 69, 70, 71, 72, 74, 75, 77, 78, 79, 80, 81, 82, 83, 84, 85, 86, 87, 89, 90, 91, 92, 93, 95, 98, 100, 101, 102, 103, 104]\n"
     ]
    },
    {
     "name": "stderr",
     "output_type": "stream",
     "text": [
      "/home/halechr/repos/pyPhoPlaceCellAnalysis/src/pyphoplacecellanalysis/General/Batch/NonInteractiveProcessing.py:679: UserWarning: constrained_layout not applied because axes sizes collapsed to zero.  Try making figure larger or axes decorations smaller.\n",
      "  a_fig.savefig(fig_png_out_path)\n"
     ]
    },
    {
     "name": "stdout",
     "output_type": "stream",
     "text": [
      "\t saved /home/halechr/repos/Spike3D/EXTERNAL/Screenshots/ProgrammaticDisplayFunctionTesting/2023-10-06/kdiba/gor01/one/2006-6-09_1-22-43/BatchPhoJonathanReplayFRC_long_only_(70,103,97,38,23,5,29,3).png\n",
      "include_includelist: ['maze1', 'maze2', 'maze']\n",
      "long_epoch_name: maze1, short_epoch_name: maze2, global_epoch_name: maze\n"
     ]
    },
    {
     "name": "stderr",
     "output_type": "stream",
     "text": [
      "/home/halechr/repos/pyPhoPlaceCellAnalysis/src/pyphoplacecellanalysis/General/Pipeline/Stages/DisplayFunctions/MultiContextComparingDisplayFunctions/LongShortTrackComparingDisplayFunctions.py:1209: SettingWithCopyWarning: \n",
      "A value is trying to be set on a copy of a slice from a DataFrame.\n",
      "Try using .loc[row_indexer,col_indexer] = value instead\n",
      "\n",
      "See the caveats in the documentation: https://pandas.pydata.org/pandas-docs/stable/user_guide/indexing.html#returning-a-view-versus-a-copy\n",
      "  cell_df.loc[:, 'x'] = spk_x\n",
      "/home/halechr/repos/pyPhoPlaceCellAnalysis/src/pyphoplacecellanalysis/General/Mixins/CrossComputationComparisonHelpers.py:235: RuntimeWarning: invalid value encountered in divide\n",
      "  _long_to_short_balances = (rdf.num_short_only_neuron_participating.values - rdf.num_long_only_neuron_participating.values) / (rdf.num_short_only_neuron_participating.values + rdf.num_long_only_neuron_participating.values) ## Working but (0, 1, 1) would clip to 0.5 despite (1, 13, 0) going all the way down to -1.0\n",
      "/home/halechr/repos/pyPhoPlaceCellAnalysis/src/pyphoplacecellanalysis/General/Mixins/CrossComputationComparisonHelpers.py:265: RuntimeWarning: invalid value encountered in divide\n",
      "  _long_to_short_balances = (rdf.num_short_only_neuron_participating.values - rdf.num_long_only_neuron_participating.values) / (rdf.num_short_only_neuron_participating.values + rdf.num_long_only_neuron_participating.values) ## Working but (0, 1, 1) would clip to 0.5 despite (1, 13, 0) going all the way down to -1.0\n"
     ]
    },
    {
     "name": "stdout",
     "output_type": "stream",
     "text": [
      "DEPRICATION WARNING: workaround to allow subscripting ComputationResult objects. Will be depricated. key: computed_data\n",
      "\t saved /home/halechr/repos/Spike3D/EXTERNAL/Screenshots/ProgrammaticDisplayFunctionTesting/2023-10-06/kdiba/gor01/one/2006-6-09_1-22-43/BatchPhoJonathanReplayFRC_short_only_(32,55,62,69,100).png\n",
      "include_includelist: ['maze1', 'maze2', 'maze']\n",
      "long_epoch_name: maze1, short_epoch_name: maze2, global_epoch_name: maze\n"
     ]
    },
    {
     "name": "stderr",
     "output_type": "stream",
     "text": [
      "/home/halechr/repos/pyPhoPlaceCellAnalysis/src/pyphoplacecellanalysis/General/Pipeline/Stages/DisplayFunctions/MultiContextComparingDisplayFunctions/LongShortTrackComparingDisplayFunctions.py:1209: SettingWithCopyWarning: \n",
      "A value is trying to be set on a copy of a slice from a DataFrame.\n",
      "Try using .loc[row_indexer,col_indexer] = value instead\n",
      "\n",
      "See the caveats in the documentation: https://pandas.pydata.org/pandas-docs/stable/user_guide/indexing.html#returning-a-view-versus-a-copy\n",
      "  cell_df.loc[:, 'x'] = spk_x\n"
     ]
    },
    {
     "name": "stdout",
     "output_type": "stream",
     "text": [
      "DEPRICATION WARNING: workaround to allow subscripting ComputationResult objects. Will be depricated. key: computed_data\n"
     ]
    },
    {
     "name": "stderr",
     "output_type": "stream",
     "text": [
      "/home/halechr/repos/pyPhoPlaceCellAnalysis/src/pyphoplacecellanalysis/General/Mixins/CrossComputationComparisonHelpers.py:235: RuntimeWarning: invalid value encountered in divide\n",
      "  _long_to_short_balances = (rdf.num_short_only_neuron_participating.values - rdf.num_long_only_neuron_participating.values) / (rdf.num_short_only_neuron_participating.values + rdf.num_long_only_neuron_participating.values) ## Working but (0, 1, 1) would clip to 0.5 despite (1, 13, 0) going all the way down to -1.0\n",
      "/home/halechr/repos/pyPhoPlaceCellAnalysis/src/pyphoplacecellanalysis/General/Mixins/CrossComputationComparisonHelpers.py:265: RuntimeWarning: invalid value encountered in divide\n",
      "  _long_to_short_balances = (rdf.num_short_only_neuron_participating.values - rdf.num_long_only_neuron_participating.values) / (rdf.num_short_only_neuron_participating.values + rdf.num_long_only_neuron_participating.values) ## Working but (0, 1, 1) would clip to 0.5 despite (1, 13, 0) going all the way down to -1.0\n",
      "/home/halechr/repos/pyPhoPlaceCellAnalysis/src/pyphoplacecellanalysis/General/Batch/NonInteractiveProcessing.py:679: UserWarning: constrained_layout not applied because axes sizes collapsed to zero.  Try making figure larger or axes decorations smaller.\n",
      "  a_fig.savefig(fig_png_out_path)\n"
     ]
    },
    {
     "name": "stdout",
     "output_type": "stream",
     "text": [
      "\t saved /home/halechr/repos/Spike3D/EXTERNAL/Screenshots/ProgrammaticDisplayFunctionTesting/2023-10-06/kdiba/gor01/one/2006-6-09_1-22-43/BatchPhoJonathanReplayFRC_shared_1of5_(25,47,33,71,87,43,15,51,34,40,2,56,65,84,89,44,54,10,6,19).png\n",
      "include_includelist: ['maze1', 'maze2', 'maze']\n",
      "long_epoch_name: maze1, short_epoch_name: maze2, global_epoch_name: maze\n"
     ]
    },
    {
     "name": "stderr",
     "output_type": "stream",
     "text": [
      "/home/halechr/repos/pyPhoPlaceCellAnalysis/src/pyphoplacecellanalysis/General/Pipeline/Stages/DisplayFunctions/MultiContextComparingDisplayFunctions/LongShortTrackComparingDisplayFunctions.py:1209: SettingWithCopyWarning: \n",
      "A value is trying to be set on a copy of a slice from a DataFrame.\n",
      "Try using .loc[row_indexer,col_indexer] = value instead\n",
      "\n",
      "See the caveats in the documentation: https://pandas.pydata.org/pandas-docs/stable/user_guide/indexing.html#returning-a-view-versus-a-copy\n",
      "  cell_df.loc[:, 'x'] = spk_x\n"
     ]
    },
    {
     "name": "stdout",
     "output_type": "stream",
     "text": [
      "DEPRICATION WARNING: workaround to allow subscripting ComputationResult objects. Will be depricated. key: computed_data\n"
     ]
    },
    {
     "name": "stderr",
     "output_type": "stream",
     "text": [
      "/home/halechr/repos/pyPhoPlaceCellAnalysis/src/pyphoplacecellanalysis/General/Mixins/CrossComputationComparisonHelpers.py:235: RuntimeWarning: invalid value encountered in divide\n",
      "  _long_to_short_balances = (rdf.num_short_only_neuron_participating.values - rdf.num_long_only_neuron_participating.values) / (rdf.num_short_only_neuron_participating.values + rdf.num_long_only_neuron_participating.values) ## Working but (0, 1, 1) would clip to 0.5 despite (1, 13, 0) going all the way down to -1.0\n",
      "/home/halechr/repos/pyPhoPlaceCellAnalysis/src/pyphoplacecellanalysis/General/Mixins/CrossComputationComparisonHelpers.py:265: RuntimeWarning: invalid value encountered in divide\n",
      "  _long_to_short_balances = (rdf.num_short_only_neuron_participating.values - rdf.num_long_only_neuron_participating.values) / (rdf.num_short_only_neuron_participating.values + rdf.num_long_only_neuron_participating.values) ## Working but (0, 1, 1) would clip to 0.5 despite (1, 13, 0) going all the way down to -1.0\n",
      "/home/halechr/repos/pyPhoPlaceCellAnalysis/src/pyphoplacecellanalysis/General/Batch/NonInteractiveProcessing.py:679: UserWarning: constrained_layout not applied because axes sizes collapsed to zero.  Try making figure larger or axes decorations smaller.\n",
      "  a_fig.savefig(fig_png_out_path)\n"
     ]
    },
    {
     "name": "stdout",
     "output_type": "stream",
     "text": [
      "\t saved /home/halechr/repos/Spike3D/EXTERNAL/Screenshots/ProgrammaticDisplayFunctionTesting/2023-10-06/kdiba/gor01/one/2006-6-09_1-22-43/BatchPhoJonathanReplayFRC_shared_2of5_(79,12,30,81,72,98,92,48,35,24,93,39,14,31,80,66,9,82,20,11).png\n",
      "include_includelist: ['maze1', 'maze2', 'maze']\n",
      "long_epoch_name: maze1, short_epoch_name: maze2, global_epoch_name: maze\n"
     ]
    },
    {
     "name": "stderr",
     "output_type": "stream",
     "text": [
      "/home/halechr/repos/pyPhoPlaceCellAnalysis/src/pyphoplacecellanalysis/General/Pipeline/Stages/DisplayFunctions/MultiContextComparingDisplayFunctions/LongShortTrackComparingDisplayFunctions.py:1209: SettingWithCopyWarning: \n",
      "A value is trying to be set on a copy of a slice from a DataFrame.\n",
      "Try using .loc[row_indexer,col_indexer] = value instead\n",
      "\n",
      "See the caveats in the documentation: https://pandas.pydata.org/pandas-docs/stable/user_guide/indexing.html#returning-a-view-versus-a-copy\n",
      "  cell_df.loc[:, 'x'] = spk_x\n"
     ]
    },
    {
     "name": "stdout",
     "output_type": "stream",
     "text": [
      "DEPRICATION WARNING: workaround to allow subscripting ComputationResult objects. Will be depricated. key: computed_data\n"
     ]
    },
    {
     "name": "stderr",
     "output_type": "stream",
     "text": [
      "/home/halechr/repos/pyPhoPlaceCellAnalysis/src/pyphoplacecellanalysis/General/Mixins/CrossComputationComparisonHelpers.py:235: RuntimeWarning: invalid value encountered in divide\n",
      "  _long_to_short_balances = (rdf.num_short_only_neuron_participating.values - rdf.num_long_only_neuron_participating.values) / (rdf.num_short_only_neuron_participating.values + rdf.num_long_only_neuron_participating.values) ## Working but (0, 1, 1) would clip to 0.5 despite (1, 13, 0) going all the way down to -1.0\n",
      "/home/halechr/repos/pyPhoPlaceCellAnalysis/src/pyphoplacecellanalysis/General/Mixins/CrossComputationComparisonHelpers.py:265: RuntimeWarning: invalid value encountered in divide\n",
      "  _long_to_short_balances = (rdf.num_short_only_neuron_participating.values - rdf.num_long_only_neuron_participating.values) / (rdf.num_short_only_neuron_participating.values + rdf.num_long_only_neuron_participating.values) ## Working but (0, 1, 1) would clip to 0.5 despite (1, 13, 0) going all the way down to -1.0\n",
      "/home/halechr/repos/pyPhoPlaceCellAnalysis/src/pyphoplacecellanalysis/General/Batch/NonInteractiveProcessing.py:679: UserWarning: constrained_layout not applied because axes sizes collapsed to zero.  Try making figure larger or axes decorations smaller.\n",
      "  a_fig.savefig(fig_png_out_path)\n"
     ]
    },
    {
     "name": "stdout",
     "output_type": "stream",
     "text": [
      "\t saved /home/halechr/repos/Spike3D/EXTERNAL/Screenshots/ProgrammaticDisplayFunctionTesting/2023-10-06/kdiba/gor01/one/2006-6-09_1-22-43/BatchPhoJonathanReplayFRC_shared_3of5_(74,27,4,58,86,8,90,63,91,78,104,13,75,83,53,95,57,60,52,28).png\n",
      "include_includelist: ['maze1', 'maze2', 'maze']\n",
      "long_epoch_name: maze1, short_epoch_name: maze2, global_epoch_name: maze\n"
     ]
    },
    {
     "name": "stderr",
     "output_type": "stream",
     "text": [
      "/home/halechr/repos/pyPhoPlaceCellAnalysis/src/pyphoplacecellanalysis/General/Pipeline/Stages/DisplayFunctions/MultiContextComparingDisplayFunctions/LongShortTrackComparingDisplayFunctions.py:1209: SettingWithCopyWarning: \n",
      "A value is trying to be set on a copy of a slice from a DataFrame.\n",
      "Try using .loc[row_indexer,col_indexer] = value instead\n",
      "\n",
      "See the caveats in the documentation: https://pandas.pydata.org/pandas-docs/stable/user_guide/indexing.html#returning-a-view-versus-a-copy\n",
      "  cell_df.loc[:, 'x'] = spk_x\n"
     ]
    },
    {
     "name": "stdout",
     "output_type": "stream",
     "text": [
      "DEPRICATION WARNING: workaround to allow subscripting ComputationResult objects. Will be depricated. key: computed_data\n"
     ]
    },
    {
     "name": "stderr",
     "output_type": "stream",
     "text": [
      "/home/halechr/repos/pyPhoPlaceCellAnalysis/src/pyphoplacecellanalysis/General/Mixins/CrossComputationComparisonHelpers.py:235: RuntimeWarning: invalid value encountered in divide\n",
      "  _long_to_short_balances = (rdf.num_short_only_neuron_participating.values - rdf.num_long_only_neuron_participating.values) / (rdf.num_short_only_neuron_participating.values + rdf.num_long_only_neuron_participating.values) ## Working but (0, 1, 1) would clip to 0.5 despite (1, 13, 0) going all the way down to -1.0\n",
      "/home/halechr/repos/pyPhoPlaceCellAnalysis/src/pyphoplacecellanalysis/General/Mixins/CrossComputationComparisonHelpers.py:265: RuntimeWarning: invalid value encountered in divide\n",
      "  _long_to_short_balances = (rdf.num_short_only_neuron_participating.values - rdf.num_long_only_neuron_participating.values) / (rdf.num_short_only_neuron_participating.values + rdf.num_long_only_neuron_participating.values) ## Working but (0, 1, 1) would clip to 0.5 despite (1, 13, 0) going all the way down to -1.0\n"
     ]
    },
    {
     "name": "stdout",
     "output_type": "stream",
     "text": [
      "WARNING: aclu 7 is not present in the `pf1D_all` ratemaps. Which contain aclus: [2, 3, 4, 5, 6, 8, 9, 10, 11, 12, 13, 14, 15, 16, 18, 19, 20, 23, 24, 25, 26, 27, 28, 29, 30, 31, 32, 33, 34, 35, 38, 39, 40, 43, 44, 47, 48, 51, 52, 53, 54, 55, 56, 57, 58, 59, 60, 61, 62, 63, 65, 66, 67, 68, 69, 70, 71, 72, 74, 75, 77, 78, 79, 80, 81, 82, 83, 84, 85, 86, 87, 89, 90, 91, 92, 93, 95, 98, 100, 101, 102, 103, 104]\n",
      "WARNING: aclu 17 is not present in the `pf1D_all` ratemaps. Which contain aclus: [2, 3, 4, 5, 6, 8, 9, 10, 11, 12, 13, 14, 15, 16, 18, 19, 20, 23, 24, 25, 26, 27, 28, 29, 30, 31, 32, 33, 34, 35, 38, 39, 40, 43, 44, 47, 48, 51, 52, 53, 54, 55, 56, 57, 58, 59, 60, 61, 62, 63, 65, 66, 67, 68, 69, 70, 71, 72, 74, 75, 77, 78, 79, 80, 81, 82, 83, 84, 85, 86, 87, 89, 90, 91, 92, 93, 95, 98, 100, 101, 102, 103, 104]\n",
      "WARNING: aclu 21 is not present in the `pf1D_all` ratemaps. Which contain aclus: [2, 3, 4, 5, 6, 8, 9, 10, 11, 12, 13, 14, 15, 16, 18, 19, 20, 23, 24, 25, 26, 27, 28, 29, 30, 31, 32, 33, 34, 35, 38, 39, 40, 43, 44, 47, 48, 51, 52, 53, 54, 55, 56, 57, 58, 59, 60, 61, 62, 63, 65, 66, 67, 68, 69, 70, 71, 72, 74, 75, 77, 78, 79, 80, 81, 82, 83, 84, 85, 86, 87, 89, 90, 91, 92, 93, 95, 98, 100, 101, 102, 103, 104]\n",
      "WARNING: aclu 22 is not present in the `pf1D_all` ratemaps. Which contain aclus: [2, 3, 4, 5, 6, 8, 9, 10, 11, 12, 13, 14, 15, 16, 18, 19, 20, 23, 24, 25, 26, 27, 28, 29, 30, 31, 32, 33, 34, 35, 38, 39, 40, 43, 44, 47, 48, 51, 52, 53, 54, 55, 56, 57, 58, 59, 60, 61, 62, 63, 65, 66, 67, 68, 69, 70, 71, 72, 74, 75, 77, 78, 79, 80, 81, 82, 83, 84, 85, 86, 87, 89, 90, 91, 92, 93, 95, 98, 100, 101, 102, 103, 104]\n",
      "WARNING: aclu 36 is not present in the `pf1D_all` ratemaps. Which contain aclus: [2, 3, 4, 5, 6, 8, 9, 10, 11, 12, 13, 14, 15, 16, 18, 19, 20, 23, 24, 25, 26, 27, 28, 29, 30, 31, 32, 33, 34, 35, 38, 39, 40, 43, 44, 47, 48, 51, 52, 53, 54, 55, 56, 57, 58, 59, 60, 61, 62, 63, 65, 66, 67, 68, 69, 70, 71, 72, 74, 75, 77, 78, 79, 80, 81, 82, 83, 84, 85, 86, 87, 89, 90, 91, 92, 93, 95, 98, 100, 101, 102, 103, 104]\n",
      "WARNING: aclu 37 is not present in the `pf1D_all` ratemaps. Which contain aclus: [2, 3, 4, 5, 6, 8, 9, 10, 11, 12, 13, 14, 15, 16, 18, 19, 20, 23, 24, 25, 26, 27, 28, 29, 30, 31, 32, 33, 34, 35, 38, 39, 40, 43, 44, 47, 48, 51, 52, 53, 54, 55, 56, 57, 58, 59, 60, 61, 62, 63, 65, 66, 67, 68, 69, 70, 71, 72, 74, 75, 77, 78, 79, 80, 81, 82, 83, 84, 85, 86, 87, 89, 90, 91, 92, 93, 95, 98, 100, 101, 102, 103, 104]\n",
      "WARNING: aclu 41 is not present in the `pf1D_all` ratemaps. Which contain aclus: [2, 3, 4, 5, 6, 8, 9, 10, 11, 12, 13, 14, 15, 16, 18, 19, 20, 23, 24, 25, 26, 27, 28, 29, 30, 31, 32, 33, 34, 35, 38, 39, 40, 43, 44, 47, 48, 51, 52, 53, 54, 55, 56, 57, 58, 59, 60, 61, 62, 63, 65, 66, 67, 68, 69, 70, 71, 72, 74, 75, 77, 78, 79, 80, 81, 82, 83, 84, 85, 86, 87, 89, 90, 91, 92, 93, 95, 98, 100, 101, 102, 103, 104]\n",
      "WARNING: aclu 42 is not present in the `pf1D_all` ratemaps. Which contain aclus: [2, 3, 4, 5, 6, 8, 9, 10, 11, 12, 13, 14, 15, 16, 18, 19, 20, 23, 24, 25, 26, 27, 28, 29, 30, 31, 32, 33, 34, 35, 38, 39, 40, 43, 44, 47, 48, 51, 52, 53, 54, 55, 56, 57, 58, 59, 60, 61, 62, 63, 65, 66, 67, 68, 69, 70, 71, 72, 74, 75, 77, 78, 79, 80, 81, 82, 83, 84, 85, 86, 87, 89, 90, 91, 92, 93, 95, 98, 100, 101, 102, 103, 104]\n",
      "WARNING: aclu 45 is not present in the `pf1D_all` ratemaps. Which contain aclus: [2, 3, 4, 5, 6, 8, 9, 10, 11, 12, 13, 14, 15, 16, 18, 19, 20, 23, 24, 25, 26, 27, 28, 29, 30, 31, 32, 33, 34, 35, 38, 39, 40, 43, 44, 47, 48, 51, 52, 53, 54, 55, 56, 57, 58, 59, 60, 61, 62, 63, 65, 66, 67, 68, 69, 70, 71, 72, 74, 75, 77, 78, 79, 80, 81, 82, 83, 84, 85, 86, 87, 89, 90, 91, 92, 93, 95, 98, 100, 101, 102, 103, 104]\n"
     ]
    },
    {
     "name": "stderr",
     "output_type": "stream",
     "text": [
      "/home/halechr/repos/pyPhoPlaceCellAnalysis/src/pyphoplacecellanalysis/General/Batch/NonInteractiveProcessing.py:679: UserWarning: constrained_layout not applied because axes sizes collapsed to zero.  Try making figure larger or axes decorations smaller.\n",
      "  a_fig.savefig(fig_png_out_path)\n"
     ]
    },
    {
     "name": "stdout",
     "output_type": "stream",
     "text": [
      "\t saved /home/halechr/repos/Spike3D/EXTERNAL/Screenshots/ProgrammaticDisplayFunctionTesting/2023-10-06/kdiba/gor01/one/2006-6-09_1-22-43/BatchPhoJonathanReplayFRC_shared_4of5_(85,101,102,59,68,67,16,77,18,26,61,7,17,21,22,36,37,41,42,45).png\n",
      "include_includelist: ['maze1', 'maze2', 'maze']\n",
      "long_epoch_name: maze1, short_epoch_name: maze2, global_epoch_name: maze\n"
     ]
    },
    {
     "name": "stderr",
     "output_type": "stream",
     "text": [
      "/home/halechr/repos/pyPhoPlaceCellAnalysis/src/pyphoplacecellanalysis/General/Pipeline/Stages/DisplayFunctions/MultiContextComparingDisplayFunctions/LongShortTrackComparingDisplayFunctions.py:1209: SettingWithCopyWarning: \n",
      "A value is trying to be set on a copy of a slice from a DataFrame.\n",
      "Try using .loc[row_indexer,col_indexer] = value instead\n",
      "\n",
      "See the caveats in the documentation: https://pandas.pydata.org/pandas-docs/stable/user_guide/indexing.html#returning-a-view-versus-a-copy\n",
      "  cell_df.loc[:, 'x'] = spk_x\n"
     ]
    },
    {
     "name": "stdout",
     "output_type": "stream",
     "text": [
      "DEPRICATION WARNING: workaround to allow subscripting ComputationResult objects. Will be depricated. key: computed_data\n"
     ]
    },
    {
     "name": "stderr",
     "output_type": "stream",
     "text": [
      "/home/halechr/repos/pyPhoPlaceCellAnalysis/src/pyphoplacecellanalysis/General/Mixins/CrossComputationComparisonHelpers.py:235: RuntimeWarning: invalid value encountered in divide\n",
      "  _long_to_short_balances = (rdf.num_short_only_neuron_participating.values - rdf.num_long_only_neuron_participating.values) / (rdf.num_short_only_neuron_participating.values + rdf.num_long_only_neuron_participating.values) ## Working but (0, 1, 1) would clip to 0.5 despite (1, 13, 0) going all the way down to -1.0\n",
      "/home/halechr/repos/pyPhoPlaceCellAnalysis/src/pyphoplacecellanalysis/General/Mixins/CrossComputationComparisonHelpers.py:265: RuntimeWarning: invalid value encountered in divide\n",
      "  _long_to_short_balances = (rdf.num_short_only_neuron_participating.values - rdf.num_long_only_neuron_participating.values) / (rdf.num_short_only_neuron_participating.values + rdf.num_long_only_neuron_participating.values) ## Working but (0, 1, 1) would clip to 0.5 despite (1, 13, 0) going all the way down to -1.0\n"
     ]
    },
    {
     "name": "stdout",
     "output_type": "stream",
     "text": [
      "WARNING: aclu 46 is not present in the `pf1D_all` ratemaps. Which contain aclus: [2, 3, 4, 5, 6, 8, 9, 10, 11, 12, 13, 14, 15, 16, 18, 19, 20, 23, 24, 25, 26, 27, 28, 29, 30, 31, 32, 33, 34, 35, 38, 39, 40, 43, 44, 47, 48, 51, 52, 53, 54, 55, 56, 57, 58, 59, 60, 61, 62, 63, 65, 66, 67, 68, 69, 70, 71, 72, 74, 75, 77, 78, 79, 80, 81, 82, 83, 84, 85, 86, 87, 89, 90, 91, 92, 93, 95, 98, 100, 101, 102, 103, 104]\n",
      "WARNING: aclu 49 is not present in the `pf1D_all` ratemaps. Which contain aclus: [2, 3, 4, 5, 6, 8, 9, 10, 11, 12, 13, 14, 15, 16, 18, 19, 20, 23, 24, 25, 26, 27, 28, 29, 30, 31, 32, 33, 34, 35, 38, 39, 40, 43, 44, 47, 48, 51, 52, 53, 54, 55, 56, 57, 58, 59, 60, 61, 62, 63, 65, 66, 67, 68, 69, 70, 71, 72, 74, 75, 77, 78, 79, 80, 81, 82, 83, 84, 85, 86, 87, 89, 90, 91, 92, 93, 95, 98, 100, 101, 102, 103, 104]\n",
      "WARNING: aclu 50 is not present in the `pf1D_all` ratemaps. Which contain aclus: [2, 3, 4, 5, 6, 8, 9, 10, 11, 12, 13, 14, 15, 16, 18, 19, 20, 23, 24, 25, 26, 27, 28, 29, 30, 31, 32, 33, 34, 35, 38, 39, 40, 43, 44, 47, 48, 51, 52, 53, 54, 55, 56, 57, 58, 59, 60, 61, 62, 63, 65, 66, 67, 68, 69, 70, 71, 72, 74, 75, 77, 78, 79, 80, 81, 82, 83, 84, 85, 86, 87, 89, 90, 91, 92, 93, 95, 98, 100, 101, 102, 103, 104]\n",
      "WARNING: aclu 64 is not present in the `pf1D_all` ratemaps. Which contain aclus: [2, 3, 4, 5, 6, 8, 9, 10, 11, 12, 13, 14, 15, 16, 18, 19, 20, 23, 24, 25, 26, 27, 28, 29, 30, 31, 32, 33, 34, 35, 38, 39, 40, 43, 44, 47, 48, 51, 52, 53, 54, 55, 56, 57, 58, 59, 60, 61, 62, 63, 65, 66, 67, 68, 69, 70, 71, 72, 74, 75, 77, 78, 79, 80, 81, 82, 83, 84, 85, 86, 87, 89, 90, 91, 92, 93, 95, 98, 100, 101, 102, 103, 104]\n",
      "WARNING: aclu 73 is not present in the `pf1D_all` ratemaps. Which contain aclus: [2, 3, 4, 5, 6, 8, 9, 10, 11, 12, 13, 14, 15, 16, 18, 19, 20, 23, 24, 25, 26, 27, 28, 29, 30, 31, 32, 33, 34, 35, 38, 39, 40, 43, 44, 47, 48, 51, 52, 53, 54, 55, 56, 57, 58, 59, 60, 61, 62, 63, 65, 66, 67, 68, 69, 70, 71, 72, 74, 75, 77, 78, 79, 80, 81, 82, 83, 84, 85, 86, 87, 89, 90, 91, 92, 93, 95, 98, 100, 101, 102, 103, 104]\n",
      "WARNING: aclu 76 is not present in the `pf1D_all` ratemaps. Which contain aclus: [2, 3, 4, 5, 6, 8, 9, 10, 11, 12, 13, 14, 15, 16, 18, 19, 20, 23, 24, 25, 26, 27, 28, 29, 30, 31, 32, 33, 34, 35, 38, 39, 40, 43, 44, 47, 48, 51, 52, 53, 54, 55, 56, 57, 58, 59, 60, 61, 62, 63, 65, 66, 67, 68, 69, 70, 71, 72, 74, 75, 77, 78, 79, 80, 81, 82, 83, 84, 85, 86, 87, 89, 90, 91, 92, 93, 95, 98, 100, 101, 102, 103, 104]\n",
      "WARNING: aclu 88 is not present in the `pf1D_all` ratemaps. Which contain aclus: [2, 3, 4, 5, 6, 8, 9, 10, 11, 12, 13, 14, 15, 16, 18, 19, 20, 23, 24, 25, 26, 27, 28, 29, 30, 31, 32, 33, 34, 35, 38, 39, 40, 43, 44, 47, 48, 51, 52, 53, 54, 55, 56, 57, 58, 59, 60, 61, 62, 63, 65, 66, 67, 68, 69, 70, 71, 72, 74, 75, 77, 78, 79, 80, 81, 82, 83, 84, 85, 86, 87, 89, 90, 91, 92, 93, 95, 98, 100, 101, 102, 103, 104]\n",
      "WARNING: aclu 94 is not present in the `pf1D_all` ratemaps. Which contain aclus: [2, 3, 4, 5, 6, 8, 9, 10, 11, 12, 13, 14, 15, 16, 18, 19, 20, 23, 24, 25, 26, 27, 28, 29, 30, 31, 32, 33, 34, 35, 38, 39, 40, 43, 44, 47, 48, 51, 52, 53, 54, 55, 56, 57, 58, 59, 60, 61, 62, 63, 65, 66, 67, 68, 69, 70, 71, 72, 74, 75, 77, 78, 79, 80, 81, 82, 83, 84, 85, 86, 87, 89, 90, 91, 92, 93, 95, 98, 100, 101, 102, 103, 104]\n",
      "WARNING: aclu 96 is not present in the `pf1D_all` ratemaps. Which contain aclus: [2, 3, 4, 5, 6, 8, 9, 10, 11, 12, 13, 14, 15, 16, 18, 19, 20, 23, 24, 25, 26, 27, 28, 29, 30, 31, 32, 33, 34, 35, 38, 39, 40, 43, 44, 47, 48, 51, 52, 53, 54, 55, 56, 57, 58, 59, 60, 61, 62, 63, 65, 66, 67, 68, 69, 70, 71, 72, 74, 75, 77, 78, 79, 80, 81, 82, 83, 84, 85, 86, 87, 89, 90, 91, 92, 93, 95, 98, 100, 101, 102, 103, 104]\n",
      "WARNING: aclu 99 is not present in the `pf1D_all` ratemaps. Which contain aclus: [2, 3, 4, 5, 6, 8, 9, 10, 11, 12, 13, 14, 15, 16, 18, 19, 20, 23, 24, 25, 26, 27, 28, 29, 30, 31, 32, 33, 34, 35, 38, 39, 40, 43, 44, 47, 48, 51, 52, 53, 54, 55, 56, 57, 58, 59, 60, 61, 62, 63, 65, 66, 67, 68, 69, 70, 71, 72, 74, 75, 77, 78, 79, 80, 81, 82, 83, 84, 85, 86, 87, 89, 90, 91, 92, 93, 95, 98, 100, 101, 102, 103, 104]\n"
     ]
    },
    {
     "name": "stderr",
     "output_type": "stream",
     "text": [
      "/home/halechr/repos/pyPhoPlaceCellAnalysis/src/pyphoplacecellanalysis/General/Batch/NonInteractiveProcessing.py:679: UserWarning: constrained_layout not applied because axes sizes collapsed to zero.  Try making figure larger or axes decorations smaller.\n",
      "  a_fig.savefig(fig_png_out_path)\n"
     ]
    },
    {
     "name": "stdout",
     "output_type": "stream",
     "text": [
      "\t saved /home/halechr/repos/Spike3D/EXTERNAL/Screenshots/ProgrammaticDisplayFunctionTesting/2023-10-06/kdiba/gor01/one/2006-6-09_1-22-43/BatchPhoJonathanReplayFRC_shared_5of5_(46,49,50,64,73,76,88,94,96,99).png\n",
      "Neptuner.stop() called!\n",
      "Shutting down background jobs, please wait a moment...\n",
      "Done!\n",
      "Waiting for the remaining 37 operations to synchronize with Neptune. Do not kill this process.\n",
      "All 37 operations synced, thanks for waiting!\n",
      "Explore the metadata in the Neptune app:\n",
      "https://app.neptune.ai/commander.pho/PhoDibaLongShortUpdated/e/LS2023-675/metadata\n",
      "Shutting down background jobs, please wait a moment...\n",
      "Done!\n",
      "All 0 operations synced, thanks for waiting!\n",
      "Explore the metadata in the Neptune app:\n",
      "https://app.neptune.ai/commander.pho/PhoDibaLongShortUpdated/metadata\n",
      "Neptuner stoppped.\n",
      "Neptuner.stop() called!\n",
      "Neptuner stoppped.\n",
      "DEPRICATION WARNING: workaround to allow subscripting ComputationResult objects. Will be depricated. key: computed_data\n",
      "DEPRICATION WARNING: workaround to allow subscripting ComputationResult objects. Will be depricated. key: computed_data\n",
      "DEPRICATION WARNING: workaround to allow subscripting ComputationResult objects. Will be depricated. key: computed_data\n",
      "DEPRICATION WARNING: workaround to allow subscripting ComputationResult objects. Will be depricated. key: computation_config\n",
      "DEPRICATION WARNING: workaround to allow subscripting ComputationResult objects. Will be depricated. key: computation_config\n",
      "DEPRICATION WARNING: workaround to allow subscripting ComputationResult objects. Will be depricated. key: computation_config\n",
      "WARN: 2023-09-28 16:15: - [ ] fix the combination properties. Would work if we directly used the computed _is_L_only and _is_S_only above\n"
     ]
    },
    {
     "name": "stderr",
     "output_type": "stream",
     "text": [
      "/home/halechr/repos/NeuroPy/neuropy/core/flattened_spiketrains.py:242: SettingWithCopyWarning: \n",
      "A value is trying to be set on a copy of a slice from a DataFrame.\n",
      "Try using .loc[row_indexer,col_indexer] = value instead\n",
      "\n",
      "See the caveats in the documentation: https://pandas.pydata.org/pandas-docs/stable/user_guide/indexing.html#returning-a-view-versus-a-copy\n",
      "  self._obj['fragile_linear_neuron_IDX'] = included_cell_INDEXES.copy()\n",
      "/home/halechr/repos/NeuroPy/neuropy/core/flattened_spiketrains.py:245: SettingWithCopyWarning: \n",
      "A value is trying to be set on a copy of a slice from a DataFrame.\n",
      "Try using .loc[row_indexer,col_indexer] = value instead\n",
      "\n",
      "See the caveats in the documentation: https://pandas.pydata.org/pandas-docs/stable/user_guide/indexing.html#returning-a-view-versus-a-copy\n",
      "  self._obj['neuron_IDX'] = self._obj['fragile_linear_neuron_IDX'].copy()\n",
      "/home/halechr/repos/NeuroPy/neuropy/utils/mixins/time_slicing.py:155: SettingWithCopyWarning: \n",
      "A value is trying to be set on a copy of a slice from a DataFrame.\n",
      "Try using .loc[row_indexer,col_indexer] = value instead\n",
      "\n",
      "See the caveats in the documentation: https://pandas.pydata.org/pandas-docs/stable/user_guide/indexing.html#returning-a-view-versus-a-copy\n",
      "  spk_df[epoch_id_key_name] = spike_epoch_identity_arr\n"
     ]
    },
    {
     "name": "stdout",
     "output_type": "stream",
     "text": [
      "DEPRICATION WARNING: workaround to allow subscripting ComputationResult objects. Will be depricated. key: computed_data\n",
      "DEPRICATION WARNING: workaround to allow subscripting ComputationResult objects. Will be depricated. key: computed_data\n",
      "DEPRICATION WARNING: workaround to allow subscripting ComputationResult objects. Will be depricated. key: computed_data\n",
      "DEPRICATION WARNING: workaround to allow subscripting ComputationResult objects. Will be depricated. key: computation_config\n",
      "DEPRICATION WARNING: workaround to allow subscripting ComputationResult objects. Will be depricated. key: computation_config\n",
      "DEPRICATION WARNING: workaround to allow subscripting ComputationResult objects. Will be depricated. key: computation_config\n",
      "WARNING: fignum will be ignored but it was specified as fignum=\"Short v Long pf1D Comparison\"!\n",
      "DEPRICATION WARNING: workaround to allow subscripting ComputationResult objects. Will be depricated. key: computed_data\n",
      "DEPRICATION WARNING: workaround to allow subscripting ComputationResult objects. Will be depricated. key: computed_data\n",
      "DEBUG: new_all_aclus_sort_indicies: [19 55 35 27 56 70 12 33 37 42 71 15 28 67  7 34  0 50 32  4 40 82 77 62\n",
      "  9 30 24 64 57 78 74 36 29 18 75 31 11 25 63 16  6 51 65  8 58 21  2 17\n",
      " 69 44  3  5 23 72  1 49 73 61 83 10 59 66 39 76 43 46 38 22 68 80 81 52\n",
      " 45 53 13 47 20 60 14 54 48 41 79 26]\n",
      "active_context: kdiba_gor01_one_2006-6-09_1-22-43\n",
      "\t saved /home/halechr/repos/Spike3D/EXTERNAL/Screenshots/ProgrammaticDisplayFunctionTesting/2023-10-06/kdiba/gor01/one/2006-6-09_1-22-43/display_short_long_pf1D_comparison_long.png\n",
      "\t saved /home/halechr/repos/Spike3D/EXTERNAL/Screenshots/ProgrammaticDisplayFunctionTesting/2023-10-06/kdiba/gor01/one/2006-6-09_1-22-43/display_short_long_pf1D_comparison_short.png\n",
      "WARN: 2023-09-28 16:15: - [ ] fix the combination properties. Would work if we directly used the computed _is_L_only and _is_S_only above\n"
     ]
    },
    {
     "name": "stderr",
     "output_type": "stream",
     "text": [
      "/home/halechr/repos/NeuroPy/neuropy/core/flattened_spiketrains.py:242: SettingWithCopyWarning: \n",
      "A value is trying to be set on a copy of a slice from a DataFrame.\n",
      "Try using .loc[row_indexer,col_indexer] = value instead\n",
      "\n",
      "See the caveats in the documentation: https://pandas.pydata.org/pandas-docs/stable/user_guide/indexing.html#returning-a-view-versus-a-copy\n",
      "  self._obj['fragile_linear_neuron_IDX'] = included_cell_INDEXES.copy()\n",
      "/home/halechr/repos/NeuroPy/neuropy/core/flattened_spiketrains.py:245: SettingWithCopyWarning: \n",
      "A value is trying to be set on a copy of a slice from a DataFrame.\n",
      "Try using .loc[row_indexer,col_indexer] = value instead\n",
      "\n",
      "See the caveats in the documentation: https://pandas.pydata.org/pandas-docs/stable/user_guide/indexing.html#returning-a-view-versus-a-copy\n",
      "  self._obj['neuron_IDX'] = self._obj['fragile_linear_neuron_IDX'].copy()\n",
      "/home/halechr/repos/NeuroPy/neuropy/utils/mixins/time_slicing.py:155: SettingWithCopyWarning: \n",
      "A value is trying to be set on a copy of a slice from a DataFrame.\n",
      "Try using .loc[row_indexer,col_indexer] = value instead\n",
      "\n",
      "See the caveats in the documentation: https://pandas.pydata.org/pandas-docs/stable/user_guide/indexing.html#returning-a-view-versus-a-copy\n",
      "  spk_df[epoch_id_key_name] = spike_epoch_identity_arr\n"
     ]
    },
    {
     "name": "stdout",
     "output_type": "stream",
     "text": [
      "merged_kwargs: {'name': 'spikeRasterOverviewWindowScatterPlotItem', 'pxMode': True, 'symbol': <PyQt5.QtGui.QPainterPath object at 0x14e46a1fb890>, 'size': 6, 'pen': {'color': 'white', 'width': 1}, 'hoverable': True}\n",
      "exported plot to /home/halechr/repos/Spike3D/EXTERNAL/Screenshots/ProgrammaticDisplayFunctionTesting/2023-10-06/kdiba/gor01/one/2006-6-09_1-22-43/plot_multiple_raster_plot_1_long_example_replays_plot_multiple_raster_plot.png\n",
      "\t saved /home/halechr/repos/Spike3D/EXTERNAL/Screenshots/ProgrammaticDisplayFunctionTesting/2023-10-06/kdiba/gor01/one/2006-6-09_1-22-43/plot_multiple_raster_plot_1_long_example_replays_plot_multiple_raster_plot.png\n",
      "merged_kwargs: {'name': 'spikeRasterOverviewWindowScatterPlotItem', 'pxMode': True, 'symbol': <PyQt5.QtGui.QPainterPath object at 0x14e46a1fb890>, 'size': 6, 'pen': {'color': 'white', 'width': 1}, 'hoverable': True}\n",
      "exported plot to /home/halechr/repos/Spike3D/EXTERNAL/Screenshots/ProgrammaticDisplayFunctionTesting/2023-10-06/kdiba/gor01/one/2006-6-09_1-22-43/plot_multiple_raster_plot_1_short_example_replays_plot_multiple_raster_plot.png\n",
      "\t saved /home/halechr/repos/Spike3D/EXTERNAL/Screenshots/ProgrammaticDisplayFunctionTesting/2023-10-06/kdiba/gor01/one/2006-6-09_1-22-43/plot_multiple_raster_plot_1_short_example_replays_plot_multiple_raster_plot.png\n"
     ]
    },
    {
     "name": "stderr",
     "output_type": "stream",
     "text": [
      "/home/halechr/repos/pyPhoPlaceCellAnalysis/src/pyphoplacecellanalysis/Pho2D/matplotlib/CustomMatplotlibWidget.py:168: UserWarning: constrained_layout not applied because axes sizes collapsed to zero.  Try making figure larger or axes decorations smaller.\n",
      "  self.ui.canvas.draw()\n"
     ]
    },
    {
     "name": "stdout",
     "output_type": "stream",
     "text": [
      "\t saved /home/halechr/repos/Spike3D/EXTERNAL/Screenshots/ProgrammaticDisplayFunctionTesting/2023-10-06/kdiba/gor01/one/2006-6-09_1-22-43/DecodedEpochSlices_replays_long_results_obj.png\n"
     ]
    },
    {
     "name": "stderr",
     "output_type": "stream",
     "text": [
      "/home/halechr/repos/pyPhoPlaceCellAnalysis/src/pyphoplacecellanalysis/Pho2D/matplotlib/CustomMatplotlibWidget.py:168: UserWarning: constrained_layout not applied because axes sizes collapsed to zero.  Try making figure larger or axes decorations smaller.\n",
      "  self.ui.canvas.draw()\n"
     ]
    },
    {
     "name": "stdout",
     "output_type": "stream",
     "text": [
      "\t saved /home/halechr/repos/Spike3D/EXTERNAL/Screenshots/ProgrammaticDisplayFunctionTesting/2023-10-06/kdiba/gor01/one/2006-6-09_1-22-43/DecodedEpochSlices_replays_short_results_obj.png\n",
      "WARNING: 2023-09-28 - Note that the above ('refined' LxC and SxC) omit long_only and short_only place cells that don't meant the 'exclusive' criteria. That means these cells will be omitted entirely (and not even included in the shared)\n",
      "WARNING: long_only_aclus is empty, so not adding kwargs for these.\n",
      "WARNING: shared_aclus is empty, so not adding kwargs for these.\n",
      "include_includelist: ['maze1', 'maze2', 'maze']\n",
      "long_epoch_name: maze1, short_epoch_name: maze2, global_epoch_name: maze\n"
     ]
    },
    {
     "name": "stderr",
     "output_type": "stream",
     "text": [
      "/home/halechr/repos/pyPhoPlaceCellAnalysis/src/pyphoplacecellanalysis/General/Pipeline/Stages/DisplayFunctions/MultiContextComparingDisplayFunctions/LongShortTrackComparingDisplayFunctions.py:1209: SettingWithCopyWarning: \n",
      "A value is trying to be set on a copy of a slice from a DataFrame.\n",
      "Try using .loc[row_indexer,col_indexer] = value instead\n",
      "\n",
      "See the caveats in the documentation: https://pandas.pydata.org/pandas-docs/stable/user_guide/indexing.html#returning-a-view-versus-a-copy\n",
      "  cell_df.loc[:, 'x'] = spk_x\n",
      "/home/halechr/repos/pyPhoPlaceCellAnalysis/src/pyphoplacecellanalysis/General/Mixins/CrossComputationComparisonHelpers.py:235: RuntimeWarning: invalid value encountered in divide\n",
      "  _long_to_short_balances = (rdf.num_short_only_neuron_participating.values - rdf.num_long_only_neuron_participating.values) / (rdf.num_short_only_neuron_participating.values + rdf.num_long_only_neuron_participating.values) ## Working but (0, 1, 1) would clip to 0.5 despite (1, 13, 0) going all the way down to -1.0\n",
      "/home/halechr/repos/pyPhoPlaceCellAnalysis/src/pyphoplacecellanalysis/General/Mixins/CrossComputationComparisonHelpers.py:265: RuntimeWarning: invalid value encountered in divide\n",
      "  _long_to_short_balances = (rdf.num_short_only_neuron_participating.values - rdf.num_long_only_neuron_participating.values) / (rdf.num_short_only_neuron_participating.values + rdf.num_long_only_neuron_participating.values) ## Working but (0, 1, 1) would clip to 0.5 despite (1, 13, 0) going all the way down to -1.0\n"
     ]
    },
    {
     "name": "stdout",
     "output_type": "stream",
     "text": [
      "DEPRICATION WARNING: workaround to allow subscripting ComputationResult objects. Will be depricated. key: computed_data\n",
      "\t saved /home/halechr/repos/Spike3D/EXTERNAL/Screenshots/ProgrammaticDisplayFunctionTesting/2023-10-06/kdiba/gor01/one/2006-6-09_1-22-43/BatchPhoJonathanReplayFRC_short_only_(55,69).png\n",
      "An exception occurred: `sort_ind` should be the indicies to sort `included_unit_neuron_IDs`.\n",
      "An exception occurred: `sort_ind` should be the indicies to sort `included_unit_neuron_IDs`.\n",
      "An exception occurred: `sort_ind` should be the indicies to sort `included_unit_neuron_IDs`.\n",
      "main_complete_figure_generations failed with exception: !! `sort_ind` should be the indicies to sort `included_unit_neuron_IDs`. ::::: (<class 'AssertionError'>, AssertionError('`sort_ind` should be the indicies to sort `included_unit_neuron_IDs`.'), <traceback object at 0x14e45e7ce080>)\n",
      "DEPRICATION WARNING: workaround to allow subscripting ComputationResult objects. Will be depricated. key: computation_times\n",
      "DEPRICATION WARNING: workaround to allow subscripting ComputationResult objects. Will be depricated. key: computation_times\n",
      "DEPRICATION WARNING: workaround to allow subscripting ComputationResult objects. Will be depricated. key: computation_times\n",
      "\t time since last computation: 3:19:54.073604\n",
      "\t doing specific instantaneous firing rate computation for context: kdiba_gor01_one_2006-6-09_1-22-43...\n",
      "WARN: 2023-09-28 16:15: - [ ] fix the combination properties. Would work if we directly used the computed _is_L_only and _is_S_only above\n",
      "setting LxC_aclus/SxC_aclus from user annotation.\n",
      "\t\t Now have 2 entries in self.across_sessions_instantaneous_fr_dict!\n",
      "\t\t done (success).\n",
      "\t>> calling external computation function: a_test_completion_function\n",
      "<<<<<<<<<<<<<<<<<<<<<<<<<<<<<<<<<<<<<<<<<<<<<<<<<<<<<<<<<<<<<<<<<<<<<<<<<<<<<<<<\n",
      "a_test_completion_function(curr_session_context: kdiba_gor01_one_2006-6-09_1-22-43, curr_session_basedir: /nfs/turbo/umms-kdiba/Data/KDIBA/gor01/one/2006-6-09_1-22-43, ...,across_session_results_extended_dict: {})\n",
      "WARN: 2023-09-28 16:15: - [ ] fix the combination properties. Would work if we directly used the computed _is_L_only and _is_S_only above\n"
     ]
    },
    {
     "name": "stderr",
     "output_type": "stream",
     "text": [
      "/home/halechr/repos/NeuroPy/neuropy/core/flattened_spiketrains.py:242: SettingWithCopyWarning: \n",
      "A value is trying to be set on a copy of a slice from a DataFrame.\n",
      "Try using .loc[row_indexer,col_indexer] = value instead\n",
      "\n",
      "See the caveats in the documentation: https://pandas.pydata.org/pandas-docs/stable/user_guide/indexing.html#returning-a-view-versus-a-copy\n",
      "  self._obj['fragile_linear_neuron_IDX'] = included_cell_INDEXES.copy()\n",
      "/home/halechr/repos/NeuroPy/neuropy/core/flattened_spiketrains.py:245: SettingWithCopyWarning: \n",
      "A value is trying to be set on a copy of a slice from a DataFrame.\n",
      "Try using .loc[row_indexer,col_indexer] = value instead\n",
      "\n",
      "See the caveats in the documentation: https://pandas.pydata.org/pandas-docs/stable/user_guide/indexing.html#returning-a-view-versus-a-copy\n",
      "  self._obj['neuron_IDX'] = self._obj['fragile_linear_neuron_IDX'].copy()\n",
      "/home/halechr/repos/NeuroPy/neuropy/utils/mixins/time_slicing.py:155: SettingWithCopyWarning: \n",
      "A value is trying to be set on a copy of a slice from a DataFrame.\n",
      "Try using .loc[row_indexer,col_indexer] = value instead\n",
      "\n",
      "See the caveats in the documentation: https://pandas.pydata.org/pandas-docs/stable/user_guide/indexing.html#returning-a-view-versus-a-copy\n",
      "  spk_df[epoch_id_key_name] = spike_epoch_identity_arr\n"
     ]
    },
    {
     "name": "stdout",
     "output_type": "stream",
     "text": [
      "WARN: 2023-09-28 16:15: - [ ] fix the combination properties. Would work if we directly used the computed _is_L_only and _is_S_only above\n",
      "WARNING: long_only_aclus is empty, so not adding kwargs for these.\n",
      "WARNING: short_only_aclus is empty, so not adding kwargs for these.\n",
      "include_includelist: ['maze1', 'maze2', 'maze']\n",
      "long_epoch_name: maze1, short_epoch_name: maze2, global_epoch_name: maze\n"
     ]
    },
    {
     "name": "stderr",
     "output_type": "stream",
     "text": [
      "/home/halechr/repos/pyPhoPlaceCellAnalysis/src/pyphoplacecellanalysis/General/Pipeline/Stages/DisplayFunctions/MultiContextComparingDisplayFunctions/LongShortTrackComparingDisplayFunctions.py:1209: SettingWithCopyWarning: \n",
      "A value is trying to be set on a copy of a slice from a DataFrame.\n",
      "Try using .loc[row_indexer,col_indexer] = value instead\n",
      "\n",
      "See the caveats in the documentation: https://pandas.pydata.org/pandas-docs/stable/user_guide/indexing.html#returning-a-view-versus-a-copy\n",
      "  cell_df.loc[:, 'x'] = spk_x\n"
     ]
    },
    {
     "name": "stdout",
     "output_type": "stream",
     "text": [
      "DEPRICATION WARNING: workaround to allow subscripting ComputationResult objects. Will be depricated. key: computed_data\n"
     ]
    },
    {
     "name": "stderr",
     "output_type": "stream",
     "text": [
      "/home/halechr/repos/pyPhoPlaceCellAnalysis/src/pyphoplacecellanalysis/General/Mixins/CrossComputationComparisonHelpers.py:235: RuntimeWarning: invalid value encountered in divide\n",
      "  _long_to_short_balances = (rdf.num_short_only_neuron_participating.values - rdf.num_long_only_neuron_participating.values) / (rdf.num_short_only_neuron_participating.values + rdf.num_long_only_neuron_participating.values) ## Working but (0, 1, 1) would clip to 0.5 despite (1, 13, 0) going all the way down to -1.0\n",
      "/home/halechr/repos/pyPhoPlaceCellAnalysis/src/pyphoplacecellanalysis/General/Mixins/CrossComputationComparisonHelpers.py:265: RuntimeWarning: invalid value encountered in divide\n",
      "  _long_to_short_balances = (rdf.num_short_only_neuron_participating.values - rdf.num_long_only_neuron_participating.values) / (rdf.num_short_only_neuron_participating.values + rdf.num_long_only_neuron_participating.values) ## Working but (0, 1, 1) would clip to 0.5 despite (1, 13, 0) going all the way down to -1.0\n",
      "/home/halechr/repos/pyPhoPlaceCellAnalysis/src/pyphoplacecellanalysis/General/Batch/NonInteractiveProcessing.py:679: UserWarning: constrained_layout not applied because axes sizes collapsed to zero.  Try making figure larger or axes decorations smaller.\n",
      "  a_fig.savefig(fig_png_out_path)\n"
     ]
    },
    {
     "name": "stdout",
     "output_type": "stream",
     "text": [
      "\t saved /home/halechr/repos/Spike3D/EXTERNAL/Screenshots/ProgrammaticDisplayFunctionTesting/2023-10-06/kdiba/gor01/one/2006-6-09_1-22-43/BatchPhoJonathanReplayFRC_shared_1of6_(25,70,47,33,71,87,43,15,51,34,40,2,56,65,84,89,44,103,54,10).png\n",
      "include_includelist: ['maze1', 'maze2', 'maze']\n",
      "long_epoch_name: maze1, short_epoch_name: maze2, global_epoch_name: maze\n"
     ]
    },
    {
     "name": "stderr",
     "output_type": "stream",
     "text": [
      "/home/halechr/repos/pyPhoPlaceCellAnalysis/src/pyphoplacecellanalysis/General/Pipeline/Stages/DisplayFunctions/MultiContextComparingDisplayFunctions/LongShortTrackComparingDisplayFunctions.py:1209: SettingWithCopyWarning: \n",
      "A value is trying to be set on a copy of a slice from a DataFrame.\n",
      "Try using .loc[row_indexer,col_indexer] = value instead\n",
      "\n",
      "See the caveats in the documentation: https://pandas.pydata.org/pandas-docs/stable/user_guide/indexing.html#returning-a-view-versus-a-copy\n",
      "  cell_df.loc[:, 'x'] = spk_x\n"
     ]
    },
    {
     "name": "stdout",
     "output_type": "stream",
     "text": [
      "DEPRICATION WARNING: workaround to allow subscripting ComputationResult objects. Will be depricated. key: computed_data\n"
     ]
    },
    {
     "name": "stderr",
     "output_type": "stream",
     "text": [
      "/home/halechr/repos/pyPhoPlaceCellAnalysis/src/pyphoplacecellanalysis/General/Mixins/CrossComputationComparisonHelpers.py:235: RuntimeWarning: invalid value encountered in divide\n",
      "  _long_to_short_balances = (rdf.num_short_only_neuron_participating.values - rdf.num_long_only_neuron_participating.values) / (rdf.num_short_only_neuron_participating.values + rdf.num_long_only_neuron_participating.values) ## Working but (0, 1, 1) would clip to 0.5 despite (1, 13, 0) going all the way down to -1.0\n",
      "/home/halechr/repos/pyPhoPlaceCellAnalysis/src/pyphoplacecellanalysis/General/Mixins/CrossComputationComparisonHelpers.py:265: RuntimeWarning: invalid value encountered in divide\n",
      "  _long_to_short_balances = (rdf.num_short_only_neuron_participating.values - rdf.num_long_only_neuron_participating.values) / (rdf.num_short_only_neuron_participating.values + rdf.num_long_only_neuron_participating.values) ## Working but (0, 1, 1) would clip to 0.5 despite (1, 13, 0) going all the way down to -1.0\n"
     ]
    },
    {
     "name": "stdout",
     "output_type": "stream",
     "text": [
      "WARNING: aclu 97 is not present in the `pf1D_all` ratemaps. Which contain aclus: [2, 3, 4, 5, 6, 8, 9, 10, 11, 12, 13, 14, 15, 16, 18, 19, 20, 23, 24, 25, 26, 27, 28, 29, 30, 31, 32, 33, 34, 35, 38, 39, 40, 43, 44, 47, 48, 51, 52, 53, 54, 55, 56, 57, 58, 59, 60, 61, 62, 63, 65, 66, 67, 68, 69, 70, 71, 72, 74, 75, 77, 78, 79, 80, 81, 82, 83, 84, 85, 86, 87, 89, 90, 91, 92, 93, 95, 98, 100, 101, 102, 103, 104]\n"
     ]
    },
    {
     "name": "stderr",
     "output_type": "stream",
     "text": [
      "/home/halechr/repos/pyPhoPlaceCellAnalysis/src/pyphoplacecellanalysis/General/Batch/NonInteractiveProcessing.py:679: UserWarning: constrained_layout not applied because axes sizes collapsed to zero.  Try making figure larger or axes decorations smaller.\n",
      "  a_fig.savefig(fig_png_out_path)\n"
     ]
    },
    {
     "name": "stdout",
     "output_type": "stream",
     "text": [
      "\t saved /home/halechr/repos/Spike3D/EXTERNAL/Screenshots/ProgrammaticDisplayFunctionTesting/2023-10-06/kdiba/gor01/one/2006-6-09_1-22-43/BatchPhoJonathanReplayFRC_shared_2of6_(6,19,97,79,12,38,30,81,72,98,92,48,35,24,93,39,14,31,80,66).png\n",
      "include_includelist: ['maze1', 'maze2', 'maze']\n",
      "long_epoch_name: maze1, short_epoch_name: maze2, global_epoch_name: maze\n"
     ]
    },
    {
     "name": "stderr",
     "output_type": "stream",
     "text": [
      "/home/halechr/repos/pyPhoPlaceCellAnalysis/src/pyphoplacecellanalysis/General/Pipeline/Stages/DisplayFunctions/MultiContextComparingDisplayFunctions/LongShortTrackComparingDisplayFunctions.py:1209: SettingWithCopyWarning: \n",
      "A value is trying to be set on a copy of a slice from a DataFrame.\n",
      "Try using .loc[row_indexer,col_indexer] = value instead\n",
      "\n",
      "See the caveats in the documentation: https://pandas.pydata.org/pandas-docs/stable/user_guide/indexing.html#returning-a-view-versus-a-copy\n",
      "  cell_df.loc[:, 'x'] = spk_x\n"
     ]
    },
    {
     "name": "stdout",
     "output_type": "stream",
     "text": [
      "DEPRICATION WARNING: workaround to allow subscripting ComputationResult objects. Will be depricated. key: computed_data\n"
     ]
    },
    {
     "name": "stderr",
     "output_type": "stream",
     "text": [
      "/home/halechr/repos/pyPhoPlaceCellAnalysis/src/pyphoplacecellanalysis/General/Mixins/CrossComputationComparisonHelpers.py:235: RuntimeWarning: invalid value encountered in divide\n",
      "  _long_to_short_balances = (rdf.num_short_only_neuron_participating.values - rdf.num_long_only_neuron_participating.values) / (rdf.num_short_only_neuron_participating.values + rdf.num_long_only_neuron_participating.values) ## Working but (0, 1, 1) would clip to 0.5 despite (1, 13, 0) going all the way down to -1.0\n",
      "/home/halechr/repos/pyPhoPlaceCellAnalysis/src/pyphoplacecellanalysis/General/Mixins/CrossComputationComparisonHelpers.py:265: RuntimeWarning: invalid value encountered in divide\n",
      "  _long_to_short_balances = (rdf.num_short_only_neuron_participating.values - rdf.num_long_only_neuron_participating.values) / (rdf.num_short_only_neuron_participating.values + rdf.num_long_only_neuron_participating.values) ## Working but (0, 1, 1) would clip to 0.5 despite (1, 13, 0) going all the way down to -1.0\n",
      "/home/halechr/repos/pyPhoPlaceCellAnalysis/src/pyphoplacecellanalysis/General/Batch/NonInteractiveProcessing.py:679: UserWarning: constrained_layout not applied because axes sizes collapsed to zero.  Try making figure larger or axes decorations smaller.\n",
      "  a_fig.savefig(fig_png_out_path)\n"
     ]
    },
    {
     "name": "stdout",
     "output_type": "stream",
     "text": [
      "\t saved /home/halechr/repos/Spike3D/EXTERNAL/Screenshots/ProgrammaticDisplayFunctionTesting/2023-10-06/kdiba/gor01/one/2006-6-09_1-22-43/BatchPhoJonathanReplayFRC_shared_3of6_(9,82,20,11,74,27,4,23,5,58,86,29,8,90,3,63,91,78,104,13).png\n",
      "include_includelist: ['maze1', 'maze2', 'maze']\n",
      "long_epoch_name: maze1, short_epoch_name: maze2, global_epoch_name: maze\n"
     ]
    },
    {
     "name": "stderr",
     "output_type": "stream",
     "text": [
      "/home/halechr/repos/pyPhoPlaceCellAnalysis/src/pyphoplacecellanalysis/General/Pipeline/Stages/DisplayFunctions/MultiContextComparingDisplayFunctions/LongShortTrackComparingDisplayFunctions.py:1209: SettingWithCopyWarning: \n",
      "A value is trying to be set on a copy of a slice from a DataFrame.\n",
      "Try using .loc[row_indexer,col_indexer] = value instead\n",
      "\n",
      "See the caveats in the documentation: https://pandas.pydata.org/pandas-docs/stable/user_guide/indexing.html#returning-a-view-versus-a-copy\n",
      "  cell_df.loc[:, 'x'] = spk_x\n"
     ]
    },
    {
     "name": "stdout",
     "output_type": "stream",
     "text": [
      "DEPRICATION WARNING: workaround to allow subscripting ComputationResult objects. Will be depricated. key: computed_data\n"
     ]
    },
    {
     "name": "stderr",
     "output_type": "stream",
     "text": [
      "/home/halechr/repos/pyPhoPlaceCellAnalysis/src/pyphoplacecellanalysis/General/Mixins/CrossComputationComparisonHelpers.py:235: RuntimeWarning: invalid value encountered in divide\n",
      "  _long_to_short_balances = (rdf.num_short_only_neuron_participating.values - rdf.num_long_only_neuron_participating.values) / (rdf.num_short_only_neuron_participating.values + rdf.num_long_only_neuron_participating.values) ## Working but (0, 1, 1) would clip to 0.5 despite (1, 13, 0) going all the way down to -1.0\n",
      "/home/halechr/repos/pyPhoPlaceCellAnalysis/src/pyphoplacecellanalysis/General/Mixins/CrossComputationComparisonHelpers.py:265: RuntimeWarning: invalid value encountered in divide\n",
      "  _long_to_short_balances = (rdf.num_short_only_neuron_participating.values - rdf.num_long_only_neuron_participating.values) / (rdf.num_short_only_neuron_participating.values + rdf.num_long_only_neuron_participating.values) ## Working but (0, 1, 1) would clip to 0.5 despite (1, 13, 0) going all the way down to -1.0\n"
     ]
    },
    {
     "name": "stdout",
     "output_type": "stream",
     "text": [
      "WARNING: aclu 7 is not present in the `pf1D_all` ratemaps. Which contain aclus: [2, 3, 4, 5, 6, 8, 9, 10, 11, 12, 13, 14, 15, 16, 18, 19, 20, 23, 24, 25, 26, 27, 28, 29, 30, 31, 32, 33, 34, 35, 38, 39, 40, 43, 44, 47, 48, 51, 52, 53, 54, 55, 56, 57, 58, 59, 60, 61, 62, 63, 65, 66, 67, 68, 69, 70, 71, 72, 74, 75, 77, 78, 79, 80, 81, 82, 83, 84, 85, 86, 87, 89, 90, 91, 92, 93, 95, 98, 100, 101, 102, 103, 104]\n"
     ]
    },
    {
     "name": "stderr",
     "output_type": "stream",
     "text": [
      "/home/halechr/repos/pyPhoPlaceCellAnalysis/src/pyphoplacecellanalysis/General/Batch/NonInteractiveProcessing.py:679: UserWarning: constrained_layout not applied because axes sizes collapsed to zero.  Try making figure larger or axes decorations smaller.\n",
      "  a_fig.savefig(fig_png_out_path)\n"
     ]
    },
    {
     "name": "stdout",
     "output_type": "stream",
     "text": [
      "\t saved /home/halechr/repos/Spike3D/EXTERNAL/Screenshots/ProgrammaticDisplayFunctionTesting/2023-10-06/kdiba/gor01/one/2006-6-09_1-22-43/BatchPhoJonathanReplayFRC_shared_4of6_(75,83,53,95,57,60,52,28,85,101,102,59,68,67,16,77,18,26,61,7).png\n",
      "include_includelist: ['maze1', 'maze2', 'maze']\n",
      "long_epoch_name: maze1, short_epoch_name: maze2, global_epoch_name: maze\n"
     ]
    },
    {
     "name": "stderr",
     "output_type": "stream",
     "text": [
      "/home/halechr/repos/pyPhoPlaceCellAnalysis/src/pyphoplacecellanalysis/General/Pipeline/Stages/DisplayFunctions/MultiContextComparingDisplayFunctions/LongShortTrackComparingDisplayFunctions.py:1209: SettingWithCopyWarning: \n",
      "A value is trying to be set on a copy of a slice from a DataFrame.\n",
      "Try using .loc[row_indexer,col_indexer] = value instead\n",
      "\n",
      "See the caveats in the documentation: https://pandas.pydata.org/pandas-docs/stable/user_guide/indexing.html#returning-a-view-versus-a-copy\n",
      "  cell_df.loc[:, 'x'] = spk_x\n"
     ]
    },
    {
     "name": "stdout",
     "output_type": "stream",
     "text": [
      "DEPRICATION WARNING: workaround to allow subscripting ComputationResult objects. Will be depricated. key: computed_data\n"
     ]
    },
    {
     "name": "stderr",
     "output_type": "stream",
     "text": [
      "/home/halechr/repos/pyPhoPlaceCellAnalysis/src/pyphoplacecellanalysis/General/Mixins/CrossComputationComparisonHelpers.py:235: RuntimeWarning: invalid value encountered in divide\n",
      "  _long_to_short_balances = (rdf.num_short_only_neuron_participating.values - rdf.num_long_only_neuron_participating.values) / (rdf.num_short_only_neuron_participating.values + rdf.num_long_only_neuron_participating.values) ## Working but (0, 1, 1) would clip to 0.5 despite (1, 13, 0) going all the way down to -1.0\n",
      "/home/halechr/repos/pyPhoPlaceCellAnalysis/src/pyphoplacecellanalysis/General/Mixins/CrossComputationComparisonHelpers.py:265: RuntimeWarning: invalid value encountered in divide\n",
      "  _long_to_short_balances = (rdf.num_short_only_neuron_participating.values - rdf.num_long_only_neuron_participating.values) / (rdf.num_short_only_neuron_participating.values + rdf.num_long_only_neuron_participating.values) ## Working but (0, 1, 1) would clip to 0.5 despite (1, 13, 0) going all the way down to -1.0\n"
     ]
    },
    {
     "name": "stdout",
     "output_type": "stream",
     "text": [
      "WARNING: aclu 17 is not present in the `pf1D_all` ratemaps. Which contain aclus: [2, 3, 4, 5, 6, 8, 9, 10, 11, 12, 13, 14, 15, 16, 18, 19, 20, 23, 24, 25, 26, 27, 28, 29, 30, 31, 32, 33, 34, 35, 38, 39, 40, 43, 44, 47, 48, 51, 52, 53, 54, 55, 56, 57, 58, 59, 60, 61, 62, 63, 65, 66, 67, 68, 69, 70, 71, 72, 74, 75, 77, 78, 79, 80, 81, 82, 83, 84, 85, 86, 87, 89, 90, 91, 92, 93, 95, 98, 100, 101, 102, 103, 104]\n",
      "WARNING: aclu 21 is not present in the `pf1D_all` ratemaps. Which contain aclus: [2, 3, 4, 5, 6, 8, 9, 10, 11, 12, 13, 14, 15, 16, 18, 19, 20, 23, 24, 25, 26, 27, 28, 29, 30, 31, 32, 33, 34, 35, 38, 39, 40, 43, 44, 47, 48, 51, 52, 53, 54, 55, 56, 57, 58, 59, 60, 61, 62, 63, 65, 66, 67, 68, 69, 70, 71, 72, 74, 75, 77, 78, 79, 80, 81, 82, 83, 84, 85, 86, 87, 89, 90, 91, 92, 93, 95, 98, 100, 101, 102, 103, 104]\n",
      "WARNING: aclu 22 is not present in the `pf1D_all` ratemaps. Which contain aclus: [2, 3, 4, 5, 6, 8, 9, 10, 11, 12, 13, 14, 15, 16, 18, 19, 20, 23, 24, 25, 26, 27, 28, 29, 30, 31, 32, 33, 34, 35, 38, 39, 40, 43, 44, 47, 48, 51, 52, 53, 54, 55, 56, 57, 58, 59, 60, 61, 62, 63, 65, 66, 67, 68, 69, 70, 71, 72, 74, 75, 77, 78, 79, 80, 81, 82, 83, 84, 85, 86, 87, 89, 90, 91, 92, 93, 95, 98, 100, 101, 102, 103, 104]\n",
      "WARNING: aclu 36 is not present in the `pf1D_all` ratemaps. Which contain aclus: [2, 3, 4, 5, 6, 8, 9, 10, 11, 12, 13, 14, 15, 16, 18, 19, 20, 23, 24, 25, 26, 27, 28, 29, 30, 31, 32, 33, 34, 35, 38, 39, 40, 43, 44, 47, 48, 51, 52, 53, 54, 55, 56, 57, 58, 59, 60, 61, 62, 63, 65, 66, 67, 68, 69, 70, 71, 72, 74, 75, 77, 78, 79, 80, 81, 82, 83, 84, 85, 86, 87, 89, 90, 91, 92, 93, 95, 98, 100, 101, 102, 103, 104]\n",
      "WARNING: aclu 37 is not present in the `pf1D_all` ratemaps. Which contain aclus: [2, 3, 4, 5, 6, 8, 9, 10, 11, 12, 13, 14, 15, 16, 18, 19, 20, 23, 24, 25, 26, 27, 28, 29, 30, 31, 32, 33, 34, 35, 38, 39, 40, 43, 44, 47, 48, 51, 52, 53, 54, 55, 56, 57, 58, 59, 60, 61, 62, 63, 65, 66, 67, 68, 69, 70, 71, 72, 74, 75, 77, 78, 79, 80, 81, 82, 83, 84, 85, 86, 87, 89, 90, 91, 92, 93, 95, 98, 100, 101, 102, 103, 104]\n",
      "WARNING: aclu 41 is not present in the `pf1D_all` ratemaps. Which contain aclus: [2, 3, 4, 5, 6, 8, 9, 10, 11, 12, 13, 14, 15, 16, 18, 19, 20, 23, 24, 25, 26, 27, 28, 29, 30, 31, 32, 33, 34, 35, 38, 39, 40, 43, 44, 47, 48, 51, 52, 53, 54, 55, 56, 57, 58, 59, 60, 61, 62, 63, 65, 66, 67, 68, 69, 70, 71, 72, 74, 75, 77, 78, 79, 80, 81, 82, 83, 84, 85, 86, 87, 89, 90, 91, 92, 93, 95, 98, 100, 101, 102, 103, 104]\n",
      "WARNING: aclu 42 is not present in the `pf1D_all` ratemaps. Which contain aclus: [2, 3, 4, 5, 6, 8, 9, 10, 11, 12, 13, 14, 15, 16, 18, 19, 20, 23, 24, 25, 26, 27, 28, 29, 30, 31, 32, 33, 34, 35, 38, 39, 40, 43, 44, 47, 48, 51, 52, 53, 54, 55, 56, 57, 58, 59, 60, 61, 62, 63, 65, 66, 67, 68, 69, 70, 71, 72, 74, 75, 77, 78, 79, 80, 81, 82, 83, 84, 85, 86, 87, 89, 90, 91, 92, 93, 95, 98, 100, 101, 102, 103, 104]\n",
      "WARNING: aclu 45 is not present in the `pf1D_all` ratemaps. Which contain aclus: [2, 3, 4, 5, 6, 8, 9, 10, 11, 12, 13, 14, 15, 16, 18, 19, 20, 23, 24, 25, 26, 27, 28, 29, 30, 31, 32, 33, 34, 35, 38, 39, 40, 43, 44, 47, 48, 51, 52, 53, 54, 55, 56, 57, 58, 59, 60, 61, 62, 63, 65, 66, 67, 68, 69, 70, 71, 72, 74, 75, 77, 78, 79, 80, 81, 82, 83, 84, 85, 86, 87, 89, 90, 91, 92, 93, 95, 98, 100, 101, 102, 103, 104]\n",
      "WARNING: aclu 46 is not present in the `pf1D_all` ratemaps. Which contain aclus: [2, 3, 4, 5, 6, 8, 9, 10, 11, 12, 13, 14, 15, 16, 18, 19, 20, 23, 24, 25, 26, 27, 28, 29, 30, 31, 32, 33, 34, 35, 38, 39, 40, 43, 44, 47, 48, 51, 52, 53, 54, 55, 56, 57, 58, 59, 60, 61, 62, 63, 65, 66, 67, 68, 69, 70, 71, 72, 74, 75, 77, 78, 79, 80, 81, 82, 83, 84, 85, 86, 87, 89, 90, 91, 92, 93, 95, 98, 100, 101, 102, 103, 104]\n",
      "WARNING: aclu 49 is not present in the `pf1D_all` ratemaps. Which contain aclus: [2, 3, 4, 5, 6, 8, 9, 10, 11, 12, 13, 14, 15, 16, 18, 19, 20, 23, 24, 25, 26, 27, 28, 29, 30, 31, 32, 33, 34, 35, 38, 39, 40, 43, 44, 47, 48, 51, 52, 53, 54, 55, 56, 57, 58, 59, 60, 61, 62, 63, 65, 66, 67, 68, 69, 70, 71, 72, 74, 75, 77, 78, 79, 80, 81, 82, 83, 84, 85, 86, 87, 89, 90, 91, 92, 93, 95, 98, 100, 101, 102, 103, 104]\n",
      "WARNING: aclu 50 is not present in the `pf1D_all` ratemaps. Which contain aclus: [2, 3, 4, 5, 6, 8, 9, 10, 11, 12, 13, 14, 15, 16, 18, 19, 20, 23, 24, 25, 26, 27, 28, 29, 30, 31, 32, 33, 34, 35, 38, 39, 40, 43, 44, 47, 48, 51, 52, 53, 54, 55, 56, 57, 58, 59, 60, 61, 62, 63, 65, 66, 67, 68, 69, 70, 71, 72, 74, 75, 77, 78, 79, 80, 81, 82, 83, 84, 85, 86, 87, 89, 90, 91, 92, 93, 95, 98, 100, 101, 102, 103, 104]\n",
      "WARNING: aclu 64 is not present in the `pf1D_all` ratemaps. Which contain aclus: [2, 3, 4, 5, 6, 8, 9, 10, 11, 12, 13, 14, 15, 16, 18, 19, 20, 23, 24, 25, 26, 27, 28, 29, 30, 31, 32, 33, 34, 35, 38, 39, 40, 43, 44, 47, 48, 51, 52, 53, 54, 55, 56, 57, 58, 59, 60, 61, 62, 63, 65, 66, 67, 68, 69, 70, 71, 72, 74, 75, 77, 78, 79, 80, 81, 82, 83, 84, 85, 86, 87, 89, 90, 91, 92, 93, 95, 98, 100, 101, 102, 103, 104]\n",
      "WARNING: aclu 73 is not present in the `pf1D_all` ratemaps. Which contain aclus: [2, 3, 4, 5, 6, 8, 9, 10, 11, 12, 13, 14, 15, 16, 18, 19, 20, 23, 24, 25, 26, 27, 28, 29, 30, 31, 32, 33, 34, 35, 38, 39, 40, 43, 44, 47, 48, 51, 52, 53, 54, 55, 56, 57, 58, 59, 60, 61, 62, 63, 65, 66, 67, 68, 69, 70, 71, 72, 74, 75, 77, 78, 79, 80, 81, 82, 83, 84, 85, 86, 87, 89, 90, 91, 92, 93, 95, 98, 100, 101, 102, 103, 104]\n",
      "WARNING: aclu 76 is not present in the `pf1D_all` ratemaps. Which contain aclus: [2, 3, 4, 5, 6, 8, 9, 10, 11, 12, 13, 14, 15, 16, 18, 19, 20, 23, 24, 25, 26, 27, 28, 29, 30, 31, 32, 33, 34, 35, 38, 39, 40, 43, 44, 47, 48, 51, 52, 53, 54, 55, 56, 57, 58, 59, 60, 61, 62, 63, 65, 66, 67, 68, 69, 70, 71, 72, 74, 75, 77, 78, 79, 80, 81, 82, 83, 84, 85, 86, 87, 89, 90, 91, 92, 93, 95, 98, 100, 101, 102, 103, 104]\n",
      "WARNING: aclu 88 is not present in the `pf1D_all` ratemaps. Which contain aclus: [2, 3, 4, 5, 6, 8, 9, 10, 11, 12, 13, 14, 15, 16, 18, 19, 20, 23, 24, 25, 26, 27, 28, 29, 30, 31, 32, 33, 34, 35, 38, 39, 40, 43, 44, 47, 48, 51, 52, 53, 54, 55, 56, 57, 58, 59, 60, 61, 62, 63, 65, 66, 67, 68, 69, 70, 71, 72, 74, 75, 77, 78, 79, 80, 81, 82, 83, 84, 85, 86, 87, 89, 90, 91, 92, 93, 95, 98, 100, 101, 102, 103, 104]\n",
      "WARNING: aclu 94 is not present in the `pf1D_all` ratemaps. Which contain aclus: [2, 3, 4, 5, 6, 8, 9, 10, 11, 12, 13, 14, 15, 16, 18, 19, 20, 23, 24, 25, 26, 27, 28, 29, 30, 31, 32, 33, 34, 35, 38, 39, 40, 43, 44, 47, 48, 51, 52, 53, 54, 55, 56, 57, 58, 59, 60, 61, 62, 63, 65, 66, 67, 68, 69, 70, 71, 72, 74, 75, 77, 78, 79, 80, 81, 82, 83, 84, 85, 86, 87, 89, 90, 91, 92, 93, 95, 98, 100, 101, 102, 103, 104]\n"
     ]
    },
    {
     "name": "stderr",
     "output_type": "stream",
     "text": [
      "/home/halechr/repos/pyPhoPlaceCellAnalysis/src/pyphoplacecellanalysis/General/Batch/NonInteractiveProcessing.py:679: UserWarning: constrained_layout not applied because axes sizes collapsed to zero.  Try making figure larger or axes decorations smaller.\n",
      "  a_fig.savefig(fig_png_out_path)\n"
     ]
    },
    {
     "name": "stdout",
     "output_type": "stream",
     "text": [
      "\t saved /home/halechr/repos/Spike3D/EXTERNAL/Screenshots/ProgrammaticDisplayFunctionTesting/2023-10-06/kdiba/gor01/one/2006-6-09_1-22-43/BatchPhoJonathanReplayFRC_shared_5of6_(17,21,22,32,36,37,41,42,45,46,49,50,55,62,64,69,73,76,88,94).png\n",
      "include_includelist: ['maze1', 'maze2', 'maze']\n",
      "long_epoch_name: maze1, short_epoch_name: maze2, global_epoch_name: maze\n"
     ]
    },
    {
     "name": "stderr",
     "output_type": "stream",
     "text": [
      "/home/halechr/repos/pyPhoPlaceCellAnalysis/src/pyphoplacecellanalysis/General/Pipeline/Stages/DisplayFunctions/MultiContextComparingDisplayFunctions/LongShortTrackComparingDisplayFunctions.py:1209: SettingWithCopyWarning: \n",
      "A value is trying to be set on a copy of a slice from a DataFrame.\n",
      "Try using .loc[row_indexer,col_indexer] = value instead\n",
      "\n",
      "See the caveats in the documentation: https://pandas.pydata.org/pandas-docs/stable/user_guide/indexing.html#returning-a-view-versus-a-copy\n",
      "  cell_df.loc[:, 'x'] = spk_x\n"
     ]
    },
    {
     "name": "stdout",
     "output_type": "stream",
     "text": [
      "DEPRICATION WARNING: workaround to allow subscripting ComputationResult objects. Will be depricated. key: computed_data\n"
     ]
    },
    {
     "name": "stderr",
     "output_type": "stream",
     "text": [
      "/home/halechr/repos/pyPhoPlaceCellAnalysis/src/pyphoplacecellanalysis/General/Mixins/CrossComputationComparisonHelpers.py:235: RuntimeWarning: invalid value encountered in divide\n",
      "  _long_to_short_balances = (rdf.num_short_only_neuron_participating.values - rdf.num_long_only_neuron_participating.values) / (rdf.num_short_only_neuron_participating.values + rdf.num_long_only_neuron_participating.values) ## Working but (0, 1, 1) would clip to 0.5 despite (1, 13, 0) going all the way down to -1.0\n",
      "/home/halechr/repos/pyPhoPlaceCellAnalysis/src/pyphoplacecellanalysis/General/Mixins/CrossComputationComparisonHelpers.py:265: RuntimeWarning: invalid value encountered in divide\n",
      "  _long_to_short_balances = (rdf.num_short_only_neuron_participating.values - rdf.num_long_only_neuron_participating.values) / (rdf.num_short_only_neuron_participating.values + rdf.num_long_only_neuron_participating.values) ## Working but (0, 1, 1) would clip to 0.5 despite (1, 13, 0) going all the way down to -1.0\n"
     ]
    },
    {
     "name": "stdout",
     "output_type": "stream",
     "text": [
      "WARNING: aclu 96 is not present in the `pf1D_all` ratemaps. Which contain aclus: [2, 3, 4, 5, 6, 8, 9, 10, 11, 12, 13, 14, 15, 16, 18, 19, 20, 23, 24, 25, 26, 27, 28, 29, 30, 31, 32, 33, 34, 35, 38, 39, 40, 43, 44, 47, 48, 51, 52, 53, 54, 55, 56, 57, 58, 59, 60, 61, 62, 63, 65, 66, 67, 68, 69, 70, 71, 72, 74, 75, 77, 78, 79, 80, 81, 82, 83, 84, 85, 86, 87, 89, 90, 91, 92, 93, 95, 98, 100, 101, 102, 103, 104]\n",
      "WARNING: aclu 99 is not present in the `pf1D_all` ratemaps. Which contain aclus: [2, 3, 4, 5, 6, 8, 9, 10, 11, 12, 13, 14, 15, 16, 18, 19, 20, 23, 24, 25, 26, 27, 28, 29, 30, 31, 32, 33, 34, 35, 38, 39, 40, 43, 44, 47, 48, 51, 52, 53, 54, 55, 56, 57, 58, 59, 60, 61, 62, 63, 65, 66, 67, 68, 69, 70, 71, 72, 74, 75, 77, 78, 79, 80, 81, 82, 83, 84, 85, 86, 87, 89, 90, 91, 92, 93, 95, 98, 100, 101, 102, 103, 104]\n",
      "\t saved /home/halechr/repos/Spike3D/EXTERNAL/Screenshots/ProgrammaticDisplayFunctionTesting/2023-10-06/kdiba/gor01/one/2006-6-09_1-22-43/BatchPhoJonathanReplayFRC_shared_6of6_(96,99,100).png\n",
      ">>\t done with kdiba-gor01-one-2006-6-09_1-22-43\n",
      ">>>>>>>>>>>>>>>>>>>>>>>>>>>>>>>>>>>>>>>>>>>>>>>>>>>>>>>>>>>>>>>>>>>>>>>>>>>>>>>>\n",
      ">>>>>>>>>>>>>>>>>>>>>>>>>>>>>>>>>>>>>>>>>>>>>>>>>>>>>>>>>>>>>>>>>>>>>>>>>>>>>>>>\n",
      "\"========================== END BATCH ==========================\n",
      "\n",
      "\n",
      "build_batch_task_logger(module_name=\"gl0006.arc-ts.umich.edu.kdiba.gor01.one.2006-6-12_15-55-31\"):\n",
      "\t Batch Task logger com.PhoHale.PhoPy3DPositionAnalyis.Batch.runBatch.run_specific_batch.gl0006.arc-ts.umich.edu.kdiba.gor01.one.2006-6-12_15-55-31 has file logging enabled and will log to EXTERNAL/TESTING/Logging/debug_com.PhoHale.PhoPy3DPositionAnalyis.Batch.runBatch.run_specific_batch.gl0006.arc-ts.umich.edu.kdiba.gor01.one.2006-6-12_15-55-31.log\n",
      "========================== runBatch STARTING ==========================\n",
      "\tglobal_data_root_parent_path: /home/halechr/cloud/turbo/Data\n",
      "\tsession_context: kdiba_gor01_one_2006-6-12_15-55-31\n",
      "\tsession_basedir: /nfs/turbo/umms-kdiba/Data/KDIBA/gor01/one/2006-6-12_15-55-31\n",
      "__________________________________________________________________\n",
      "basedir: /nfs/turbo/umms-kdiba/Data/KDIBA/gor01/one/2006-6-12_15-55-31\n",
      "active_data_mode_name: kdiba\n",
      "Loading loaded session pickle file results : /nfs/turbo/umms-kdiba/Data/KDIBA/gor01/one/2006-6-12_15-55-31/loadedSessPickle.pkl... done.\n",
      "Loading pickled pipeline success: /nfs/turbo/umms-kdiba/Data/KDIBA/gor01/one/2006-6-12_15-55-31/loadedSessPickle.pkl.\n",
      "properties already present in pickled version. No need to save.\n",
      "pipeline load success!\n",
      "using provided computation_functions_name_includelist: ['pf_computation', 'pfdt_computation', 'firing_rate_trends', 'position_decoding']\n",
      "WARNING: skipping computation because overwrite_extant_results=False and active_computation_results[maze1] already exists and is non-None\n",
      "\t TODO: this will prevent recomputation even when the excludelist/includelist or computation function definitions change. Rework so that this is smarter.\n",
      "WARNING: skipping computation because overwrite_extant_results=False and active_computation_results[maze2] already exists and is non-None\n",
      "\t TODO: this will prevent recomputation even when the excludelist/includelist or computation function definitions change. Rework so that this is smarter.\n",
      "WARNING: skipping computation because overwrite_extant_results=False and active_computation_results[maze] already exists and is non-None\n",
      "\t TODO: this will prevent recomputation even when the excludelist/includelist or computation function definitions change. Rework so that this is smarter.\n",
      "WARNING: saving_mode is SKIP_SAVING so pipeline will not be saved despite calling .save_pipeline(...).\n",
      "saving_mode.shouldSave == False, so not saving at the end of batch_load_session\n",
      "on_complete_success_execution_session(curr_session_context: kdiba_gor01_one_2006-6-12_15-55-31, curr_session_basedir: /nfs/turbo/umms-kdiba/Data/KDIBA/gor01/one/2006-6-12_15-55-31, ...)\n",
      "DEPRICATION WARNING: workaround to allow subscripting ComputationResult objects. Will be depricated. key: computed_data\n",
      "DEPRICATION WARNING: workaround to allow subscripting ComputationResult objects. Will be depricated. key: computed_data\n",
      "DEPRICATION WARNING: workaround to allow subscripting ComputationResult objects. Will be depricated. key: computed_data\n",
      "DEPRICATION WARNING: workaround to allow subscripting ComputationResult objects. Will be depricated. key: computed_data\n",
      "DEPRICATION WARNING: workaround to allow subscripting ComputationResult objects. Will be depricated. key: computed_data\n",
      "DEPRICATION WARNING: workaround to allow subscripting ComputationResult objects. Will be depricated. key: computed_data\n",
      "were pipeline preprocessing parameters missing and updated?: False\n",
      "WARNING: saving_mode is SKIP_SAVING so pipeline will not be saved despite calling .save_pipeline(...).\n",
      "Loading loaded session pickle file results : /nfs/turbo/umms-kdiba/Data/KDIBA/gor01/one/2006-6-12_15-55-31/output/global_computation_results.pkl... done.\n",
      "have an existing `global_computation_results.computation_config`: DynamicContainer({'instantaneous_time_bin_size_seconds': 0.01})\n",
      "included includelist is specified: ['pf_computation', 'pfdt_computation', 'firing_rate_trends', 'position_decoding', 'long_short_decoding_analyses', 'jonathan_firing_rate_analysis', 'long_short_fr_indicies_analyses', 'short_long_pf_overlap_analyses', 'long_short_post_decoding', 'long_short_rate_remapping', 'long_short_inst_spike_rate_groups', 'long_short_endcap_analysis'], so only performing these extended computations.\n",
      "Running batch_extended_computations(...) with global_epoch_name: \"maze\"\n",
      "pf_computation, maze already computed.\n",
      "pfdt_computation, maze already computed.\n",
      "position_decoding, maze already computed.\n",
      "firing_rate_trends, maze already computed.\n",
      "long_short_decoding_analyses, maze already computed.\n",
      "short_long_pf_overlap_analyses, maze already computed.\n",
      "long_short_fr_indicies_analyses, maze already computed.\n",
      "jonathan_firing_rate_analysis, maze already computed.\n",
      "long_short_post_decoding, maze already computed.\n",
      "long_short_inst_spike_rate_groups, maze already computed.\n",
      "long_short_endcap_analysis, maze already computed.\n",
      "WARNING: after execution of all _comp_specifiers found the functions: {'long_short_rate_remapping': False} still remain! Are they correct and do they have proper validator decorators?\n",
      "done with all batch_extended_computations(...).\n",
      "no changes in global results.\n",
      "https://app.neptune.ai/commander.pho/PhoDibaLongShortUpdated/\n",
      "https://app.neptune.ai/commander.pho/PhoDibaLongShortUpdated/e/LS2023-676\n",
      "include_includelist: ['maze1', 'maze2', 'maze']\n",
      "long_epoch_name: maze1, short_epoch_name: maze2, global_epoch_name: maze\n"
     ]
    },
    {
     "name": "stderr",
     "output_type": "stream",
     "text": [
      "/home/halechr/repos/pyPhoPlaceCellAnalysis/src/pyphoplacecellanalysis/General/Pipeline/Stages/DisplayFunctions/MultiContextComparingDisplayFunctions/LongShortTrackComparingDisplayFunctions.py:1209: SettingWithCopyWarning: \n",
      "A value is trying to be set on a copy of a slice from a DataFrame.\n",
      "Try using .loc[row_indexer,col_indexer] = value instead\n",
      "\n",
      "See the caveats in the documentation: https://pandas.pydata.org/pandas-docs/stable/user_guide/indexing.html#returning-a-view-versus-a-copy\n",
      "  cell_df.loc[:, 'x'] = spk_x\n",
      "/home/halechr/repos/pyPhoPlaceCellAnalysis/src/pyphoplacecellanalysis/General/Mixins/CrossComputationComparisonHelpers.py:235: RuntimeWarning: invalid value encountered in divide\n",
      "  _long_to_short_balances = (rdf.num_short_only_neuron_participating.values - rdf.num_long_only_neuron_participating.values) / (rdf.num_short_only_neuron_participating.values + rdf.num_long_only_neuron_participating.values) ## Working but (0, 1, 1) would clip to 0.5 despite (1, 13, 0) going all the way down to -1.0\n",
      "/home/halechr/repos/pyPhoPlaceCellAnalysis/src/pyphoplacecellanalysis/General/Mixins/CrossComputationComparisonHelpers.py:265: RuntimeWarning: invalid value encountered in divide\n",
      "  _long_to_short_balances = (rdf.num_short_only_neuron_participating.values - rdf.num_long_only_neuron_participating.values) / (rdf.num_short_only_neuron_participating.values + rdf.num_long_only_neuron_participating.values) ## Working but (0, 1, 1) would clip to 0.5 despite (1, 13, 0) going all the way down to -1.0\n"
     ]
    },
    {
     "name": "stdout",
     "output_type": "stream",
     "text": [
      "DEPRICATION WARNING: workaround to allow subscripting ComputationResult objects. Will be depricated. key: computed_data\n",
      "\t saved /home/halechr/repos/Spike3D/EXTERNAL/Screenshots/ProgrammaticDisplayFunctionTesting/2023-10-06/kdiba/gor01/one/2006-6-12_15-55-31/BatchPhoJonathanReplayFRC_long_only_(3,34).png\n",
      "include_includelist: ['maze1', 'maze2', 'maze']\n",
      "long_epoch_name: maze1, short_epoch_name: maze2, global_epoch_name: maze\n",
      "DEPRICATION WARNING: workaround to allow subscripting ComputationResult objects. Will be depricated. key: computed_data\n"
     ]
    },
    {
     "name": "stderr",
     "output_type": "stream",
     "text": [
      "/home/halechr/repos/pyPhoPlaceCellAnalysis/src/pyphoplacecellanalysis/General/Pipeline/Stages/DisplayFunctions/MultiContextComparingDisplayFunctions/LongShortTrackComparingDisplayFunctions.py:1209: SettingWithCopyWarning: \n",
      "A value is trying to be set on a copy of a slice from a DataFrame.\n",
      "Try using .loc[row_indexer,col_indexer] = value instead\n",
      "\n",
      "See the caveats in the documentation: https://pandas.pydata.org/pandas-docs/stable/user_guide/indexing.html#returning-a-view-versus-a-copy\n",
      "  cell_df.loc[:, 'x'] = spk_x\n",
      "/home/halechr/repos/pyPhoPlaceCellAnalysis/src/pyphoplacecellanalysis/General/Mixins/CrossComputationComparisonHelpers.py:235: RuntimeWarning: invalid value encountered in divide\n",
      "  _long_to_short_balances = (rdf.num_short_only_neuron_participating.values - rdf.num_long_only_neuron_participating.values) / (rdf.num_short_only_neuron_participating.values + rdf.num_long_only_neuron_participating.values) ## Working but (0, 1, 1) would clip to 0.5 despite (1, 13, 0) going all the way down to -1.0\n",
      "/home/halechr/repos/pyPhoPlaceCellAnalysis/src/pyphoplacecellanalysis/General/Mixins/CrossComputationComparisonHelpers.py:265: RuntimeWarning: invalid value encountered in divide\n",
      "  _long_to_short_balances = (rdf.num_short_only_neuron_participating.values - rdf.num_long_only_neuron_participating.values) / (rdf.num_short_only_neuron_participating.values + rdf.num_long_only_neuron_participating.values) ## Working but (0, 1, 1) would clip to 0.5 despite (1, 13, 0) going all the way down to -1.0\n"
     ]
    },
    {
     "name": "stdout",
     "output_type": "stream",
     "text": [
      "\t saved /home/halechr/repos/Spike3D/EXTERNAL/Screenshots/ProgrammaticDisplayFunctionTesting/2023-10-06/kdiba/gor01/one/2006-6-12_15-55-31/BatchPhoJonathanReplayFRC_short_only_(30,31,33).png\n",
      "include_includelist: ['maze1', 'maze2', 'maze']\n",
      "long_epoch_name: maze1, short_epoch_name: maze2, global_epoch_name: maze\n",
      "DEPRICATION WARNING: workaround to allow subscripting ComputationResult objects. Will be depricated. key: computed_data\n"
     ]
    },
    {
     "name": "stderr",
     "output_type": "stream",
     "text": [
      "/home/halechr/repos/pyPhoPlaceCellAnalysis/src/pyphoplacecellanalysis/General/Pipeline/Stages/DisplayFunctions/MultiContextComparingDisplayFunctions/LongShortTrackComparingDisplayFunctions.py:1209: SettingWithCopyWarning: \n",
      "A value is trying to be set on a copy of a slice from a DataFrame.\n",
      "Try using .loc[row_indexer,col_indexer] = value instead\n",
      "\n",
      "See the caveats in the documentation: https://pandas.pydata.org/pandas-docs/stable/user_guide/indexing.html#returning-a-view-versus-a-copy\n",
      "  cell_df.loc[:, 'x'] = spk_x\n",
      "/home/halechr/repos/pyPhoPlaceCellAnalysis/src/pyphoplacecellanalysis/General/Mixins/CrossComputationComparisonHelpers.py:235: RuntimeWarning: invalid value encountered in divide\n",
      "  _long_to_short_balances = (rdf.num_short_only_neuron_participating.values - rdf.num_long_only_neuron_participating.values) / (rdf.num_short_only_neuron_participating.values + rdf.num_long_only_neuron_participating.values) ## Working but (0, 1, 1) would clip to 0.5 despite (1, 13, 0) going all the way down to -1.0\n",
      "/home/halechr/repos/pyPhoPlaceCellAnalysis/src/pyphoplacecellanalysis/General/Mixins/CrossComputationComparisonHelpers.py:265: RuntimeWarning: invalid value encountered in divide\n",
      "  _long_to_short_balances = (rdf.num_short_only_neuron_participating.values - rdf.num_long_only_neuron_participating.values) / (rdf.num_short_only_neuron_participating.values + rdf.num_long_only_neuron_participating.values) ## Working but (0, 1, 1) would clip to 0.5 despite (1, 13, 0) going all the way down to -1.0\n"
     ]
    },
    {
     "name": "stdout",
     "output_type": "stream",
     "text": [
      "WARNING: aclu 6 is not present in the `pf1D_all` ratemaps. Which contain aclus: [2, 3, 4, 5, 7, 9, 10, 11, 12, 14, 15, 16, 17, 18, 19, 20, 21, 23, 24, 25, 26, 27, 29, 30, 31, 32, 33, 34, 35, 37, 39, 40, 41, 43, 44, 45, 46, 49, 50, 52, 53]\n",
      "WARNING: aclu 8 is not present in the `pf1D_all` ratemaps. Which contain aclus: [2, 3, 4, 5, 7, 9, 10, 11, 12, 14, 15, 16, 17, 18, 19, 20, 21, 23, 24, 25, 26, 27, 29, 30, 31, 32, 33, 34, 35, 37, 39, 40, 41, 43, 44, 45, 46, 49, 50, 52, 53]\n",
      "\t saved /home/halechr/repos/Spike3D/EXTERNAL/Screenshots/ProgrammaticDisplayFunctionTesting/2023-10-06/kdiba/gor01/one/2006-6-12_15-55-31/BatchPhoJonathanReplayFRC_shared_1of5_(2,4,5,6,7,8,9,10,11,12).png\n",
      "include_includelist: ['maze1', 'maze2', 'maze']\n",
      "long_epoch_name: maze1, short_epoch_name: maze2, global_epoch_name: maze\n",
      "DEPRICATION WARNING: workaround to allow subscripting ComputationResult objects. Will be depricated. key: computed_data\n",
      "WARNING: aclu 13 is not present in the `pf1D_all` ratemaps. Which contain aclus: [2, 3, 4, 5, 7, 9, 10, 11, 12, 14, 15, 16, 17, 18, 19, 20, 21, 23, 24, 25, 26, 27, 29, 30, 31, 32, 33, 34, 35, 37, 39, 40, 41, 43, 44, 45, 46, 49, 50, 52, 53]\n"
     ]
    },
    {
     "name": "stderr",
     "output_type": "stream",
     "text": [
      "/home/halechr/repos/pyPhoPlaceCellAnalysis/src/pyphoplacecellanalysis/General/Pipeline/Stages/DisplayFunctions/MultiContextComparingDisplayFunctions/LongShortTrackComparingDisplayFunctions.py:1209: SettingWithCopyWarning: \n",
      "A value is trying to be set on a copy of a slice from a DataFrame.\n",
      "Try using .loc[row_indexer,col_indexer] = value instead\n",
      "\n",
      "See the caveats in the documentation: https://pandas.pydata.org/pandas-docs/stable/user_guide/indexing.html#returning-a-view-versus-a-copy\n",
      "  cell_df.loc[:, 'x'] = spk_x\n",
      "/home/halechr/repos/pyPhoPlaceCellAnalysis/src/pyphoplacecellanalysis/General/Mixins/CrossComputationComparisonHelpers.py:235: RuntimeWarning: invalid value encountered in divide\n",
      "  _long_to_short_balances = (rdf.num_short_only_neuron_participating.values - rdf.num_long_only_neuron_participating.values) / (rdf.num_short_only_neuron_participating.values + rdf.num_long_only_neuron_participating.values) ## Working but (0, 1, 1) would clip to 0.5 despite (1, 13, 0) going all the way down to -1.0\n",
      "/home/halechr/repos/pyPhoPlaceCellAnalysis/src/pyphoplacecellanalysis/General/Mixins/CrossComputationComparisonHelpers.py:265: RuntimeWarning: invalid value encountered in divide\n",
      "  _long_to_short_balances = (rdf.num_short_only_neuron_participating.values - rdf.num_long_only_neuron_participating.values) / (rdf.num_short_only_neuron_participating.values + rdf.num_long_only_neuron_participating.values) ## Working but (0, 1, 1) would clip to 0.5 despite (1, 13, 0) going all the way down to -1.0\n"
     ]
    },
    {
     "name": "stdout",
     "output_type": "stream",
     "text": [
      "WARNING: aclu 22 is not present in the `pf1D_all` ratemaps. Which contain aclus: [2, 3, 4, 5, 7, 9, 10, 11, 12, 14, 15, 16, 17, 18, 19, 20, 21, 23, 24, 25, 26, 27, 29, 30, 31, 32, 33, 34, 35, 37, 39, 40, 41, 43, 44, 45, 46, 49, 50, 52, 53]\n",
      "\t saved /home/halechr/repos/Spike3D/EXTERNAL/Screenshots/ProgrammaticDisplayFunctionTesting/2023-10-06/kdiba/gor01/one/2006-6-12_15-55-31/BatchPhoJonathanReplayFRC_shared_2of5_(13,14,15,16,17,18,19,20,21,22).png\n",
      "include_includelist: ['maze1', 'maze2', 'maze']\n",
      "long_epoch_name: maze1, short_epoch_name: maze2, global_epoch_name: maze\n",
      "DEPRICATION WARNING: workaround to allow subscripting ComputationResult objects. Will be depricated. key: computed_data\n"
     ]
    },
    {
     "name": "stderr",
     "output_type": "stream",
     "text": [
      "/home/halechr/repos/pyPhoPlaceCellAnalysis/src/pyphoplacecellanalysis/General/Pipeline/Stages/DisplayFunctions/MultiContextComparingDisplayFunctions/LongShortTrackComparingDisplayFunctions.py:1209: SettingWithCopyWarning: \n",
      "A value is trying to be set on a copy of a slice from a DataFrame.\n",
      "Try using .loc[row_indexer,col_indexer] = value instead\n",
      "\n",
      "See the caveats in the documentation: https://pandas.pydata.org/pandas-docs/stable/user_guide/indexing.html#returning-a-view-versus-a-copy\n",
      "  cell_df.loc[:, 'x'] = spk_x\n",
      "/home/halechr/repos/pyPhoPlaceCellAnalysis/src/pyphoplacecellanalysis/General/Mixins/CrossComputationComparisonHelpers.py:235: RuntimeWarning: invalid value encountered in divide\n",
      "  _long_to_short_balances = (rdf.num_short_only_neuron_participating.values - rdf.num_long_only_neuron_participating.values) / (rdf.num_short_only_neuron_participating.values + rdf.num_long_only_neuron_participating.values) ## Working but (0, 1, 1) would clip to 0.5 despite (1, 13, 0) going all the way down to -1.0\n",
      "/home/halechr/repos/pyPhoPlaceCellAnalysis/src/pyphoplacecellanalysis/General/Mixins/CrossComputationComparisonHelpers.py:265: RuntimeWarning: invalid value encountered in divide\n",
      "  _long_to_short_balances = (rdf.num_short_only_neuron_participating.values - rdf.num_long_only_neuron_participating.values) / (rdf.num_short_only_neuron_participating.values + rdf.num_long_only_neuron_participating.values) ## Working but (0, 1, 1) would clip to 0.5 despite (1, 13, 0) going all the way down to -1.0\n"
     ]
    },
    {
     "name": "stdout",
     "output_type": "stream",
     "text": [
      "WARNING: aclu 28 is not present in the `pf1D_all` ratemaps. Which contain aclus: [2, 3, 4, 5, 7, 9, 10, 11, 12, 14, 15, 16, 17, 18, 19, 20, 21, 23, 24, 25, 26, 27, 29, 30, 31, 32, 33, 34, 35, 37, 39, 40, 41, 43, 44, 45, 46, 49, 50, 52, 53]\n",
      "WARNING: aclu 36 is not present in the `pf1D_all` ratemaps. Which contain aclus: [2, 3, 4, 5, 7, 9, 10, 11, 12, 14, 15, 16, 17, 18, 19, 20, 21, 23, 24, 25, 26, 27, 29, 30, 31, 32, 33, 34, 35, 37, 39, 40, 41, 43, 44, 45, 46, 49, 50, 52, 53]\n",
      "\t saved /home/halechr/repos/Spike3D/EXTERNAL/Screenshots/ProgrammaticDisplayFunctionTesting/2023-10-06/kdiba/gor01/one/2006-6-12_15-55-31/BatchPhoJonathanReplayFRC_shared_3of5_(23,24,25,26,27,28,29,32,35,36).png\n",
      "include_includelist: ['maze1', 'maze2', 'maze']\n",
      "long_epoch_name: maze1, short_epoch_name: maze2, global_epoch_name: maze\n",
      "DEPRICATION WARNING: workaround to allow subscripting ComputationResult objects. Will be depricated. key: computed_data\n"
     ]
    },
    {
     "name": "stderr",
     "output_type": "stream",
     "text": [
      "/home/halechr/repos/pyPhoPlaceCellAnalysis/src/pyphoplacecellanalysis/General/Pipeline/Stages/DisplayFunctions/MultiContextComparingDisplayFunctions/LongShortTrackComparingDisplayFunctions.py:1209: SettingWithCopyWarning: \n",
      "A value is trying to be set on a copy of a slice from a DataFrame.\n",
      "Try using .loc[row_indexer,col_indexer] = value instead\n",
      "\n",
      "See the caveats in the documentation: https://pandas.pydata.org/pandas-docs/stable/user_guide/indexing.html#returning-a-view-versus-a-copy\n",
      "  cell_df.loc[:, 'x'] = spk_x\n",
      "/home/halechr/repos/pyPhoPlaceCellAnalysis/src/pyphoplacecellanalysis/General/Mixins/CrossComputationComparisonHelpers.py:235: RuntimeWarning: invalid value encountered in divide\n",
      "  _long_to_short_balances = (rdf.num_short_only_neuron_participating.values - rdf.num_long_only_neuron_participating.values) / (rdf.num_short_only_neuron_participating.values + rdf.num_long_only_neuron_participating.values) ## Working but (0, 1, 1) would clip to 0.5 despite (1, 13, 0) going all the way down to -1.0\n",
      "/home/halechr/repos/pyPhoPlaceCellAnalysis/src/pyphoplacecellanalysis/General/Mixins/CrossComputationComparisonHelpers.py:265: RuntimeWarning: invalid value encountered in divide\n",
      "  _long_to_short_balances = (rdf.num_short_only_neuron_participating.values - rdf.num_long_only_neuron_participating.values) / (rdf.num_short_only_neuron_participating.values + rdf.num_long_only_neuron_participating.values) ## Working but (0, 1, 1) would clip to 0.5 despite (1, 13, 0) going all the way down to -1.0\n"
     ]
    },
    {
     "name": "stdout",
     "output_type": "stream",
     "text": [
      "WARNING: aclu 38 is not present in the `pf1D_all` ratemaps. Which contain aclus: [2, 3, 4, 5, 7, 9, 10, 11, 12, 14, 15, 16, 17, 18, 19, 20, 21, 23, 24, 25, 26, 27, 29, 30, 31, 32, 33, 34, 35, 37, 39, 40, 41, 43, 44, 45, 46, 49, 50, 52, 53]\n",
      "WARNING: aclu 42 is not present in the `pf1D_all` ratemaps. Which contain aclus: [2, 3, 4, 5, 7, 9, 10, 11, 12, 14, 15, 16, 17, 18, 19, 20, 21, 23, 24, 25, 26, 27, 29, 30, 31, 32, 33, 34, 35, 37, 39, 40, 41, 43, 44, 45, 46, 49, 50, 52, 53]\n",
      "\t saved /home/halechr/repos/Spike3D/EXTERNAL/Screenshots/ProgrammaticDisplayFunctionTesting/2023-10-06/kdiba/gor01/one/2006-6-12_15-55-31/BatchPhoJonathanReplayFRC_shared_4of5_(37,38,39,40,41,42,43,44,45,46).png\n",
      "include_includelist: ['maze1', 'maze2', 'maze']\n",
      "long_epoch_name: maze1, short_epoch_name: maze2, global_epoch_name: maze\n",
      "DEPRICATION WARNING: workaround to allow subscripting ComputationResult objects. Will be depricated. key: computed_data\n",
      "WARNING: aclu 47 is not present in the `pf1D_all` ratemaps. Which contain aclus: [2, 3, 4, 5, 7, 9, 10, 11, 12, 14, 15, 16, 17, 18, 19, 20, 21, 23, 24, 25, 26, 27, 29, 30, 31, 32, 33, 34, 35, 37, 39, 40, 41, 43, 44, 45, 46, 49, 50, 52, 53]\n"
     ]
    },
    {
     "name": "stderr",
     "output_type": "stream",
     "text": [
      "/home/halechr/repos/pyPhoPlaceCellAnalysis/src/pyphoplacecellanalysis/General/Pipeline/Stages/DisplayFunctions/MultiContextComparingDisplayFunctions/LongShortTrackComparingDisplayFunctions.py:1209: SettingWithCopyWarning: \n",
      "A value is trying to be set on a copy of a slice from a DataFrame.\n",
      "Try using .loc[row_indexer,col_indexer] = value instead\n",
      "\n",
      "See the caveats in the documentation: https://pandas.pydata.org/pandas-docs/stable/user_guide/indexing.html#returning-a-view-versus-a-copy\n",
      "  cell_df.loc[:, 'x'] = spk_x\n",
      "/home/halechr/repos/pyPhoPlaceCellAnalysis/src/pyphoplacecellanalysis/General/Mixins/CrossComputationComparisonHelpers.py:235: RuntimeWarning: invalid value encountered in divide\n",
      "  _long_to_short_balances = (rdf.num_short_only_neuron_participating.values - rdf.num_long_only_neuron_participating.values) / (rdf.num_short_only_neuron_participating.values + rdf.num_long_only_neuron_participating.values) ## Working but (0, 1, 1) would clip to 0.5 despite (1, 13, 0) going all the way down to -1.0\n",
      "/home/halechr/repos/pyPhoPlaceCellAnalysis/src/pyphoplacecellanalysis/General/Mixins/CrossComputationComparisonHelpers.py:265: RuntimeWarning: invalid value encountered in divide\n",
      "  _long_to_short_balances = (rdf.num_short_only_neuron_participating.values - rdf.num_long_only_neuron_participating.values) / (rdf.num_short_only_neuron_participating.values + rdf.num_long_only_neuron_participating.values) ## Working but (0, 1, 1) would clip to 0.5 despite (1, 13, 0) going all the way down to -1.0\n"
     ]
    },
    {
     "name": "stdout",
     "output_type": "stream",
     "text": [
      "WARNING: aclu 48 is not present in the `pf1D_all` ratemaps. Which contain aclus: [2, 3, 4, 5, 7, 9, 10, 11, 12, 14, 15, 16, 17, 18, 19, 20, 21, 23, 24, 25, 26, 27, 29, 30, 31, 32, 33, 34, 35, 37, 39, 40, 41, 43, 44, 45, 46, 49, 50, 52, 53]\n",
      "WARNING: aclu 51 is not present in the `pf1D_all` ratemaps. Which contain aclus: [2, 3, 4, 5, 7, 9, 10, 11, 12, 14, 15, 16, 17, 18, 19, 20, 21, 23, 24, 25, 26, 27, 29, 30, 31, 32, 33, 34, 35, 37, 39, 40, 41, 43, 44, 45, 46, 49, 50, 52, 53]\n"
     ]
    },
    {
     "name": "stderr",
     "output_type": "stream",
     "text": [
      "WARNING: when normalize_tuning_curve=True pad will be set to 1, the current value of pad=2 will be overriden.\n"
     ]
    },
    {
     "name": "stdout",
     "output_type": "stream",
     "text": [
      "\t saved /home/halechr/repos/Spike3D/EXTERNAL/Screenshots/ProgrammaticDisplayFunctionTesting/2023-10-06/kdiba/gor01/one/2006-6-12_15-55-31/BatchPhoJonathanReplayFRC_shared_5of5_(47,48,49,50,51,52,53).png\n"
     ]
    },
    {
     "name": "stderr",
     "output_type": "stream",
     "text": [
      "/home/halechr/repos/pyPhoPlaceCellAnalysis/src/pyphoplacecellanalysis/General/Pipeline/Stages/DisplayFunctions/Ratemaps.py:63: UserWarning: FigureCanvasAgg is non-interactive, and thus cannot be shown\n",
      "  active_figure.show()\n",
      "WARNING: when normalize_tuning_curve=True pad will be set to 1, the current value of pad=2 will be overriden.\n"
     ]
    },
    {
     "name": "stdout",
     "output_type": "stream",
     "text": [
      "\t saved /home/halechr/repos/Spike3D/EXTERNAL/Screenshots/ProgrammaticDisplayFunctionTesting/2023-10-06/kdiba/gor01/one/2006-6-12_15-55-31/maze1_1d_placefields.png\n"
     ]
    },
    {
     "name": "stderr",
     "output_type": "stream",
     "text": [
      "/home/halechr/repos/pyPhoPlaceCellAnalysis/src/pyphoplacecellanalysis/General/Pipeline/Stages/DisplayFunctions/Ratemaps.py:63: UserWarning: FigureCanvasAgg is non-interactive, and thus cannot be shown\n",
      "  active_figure.show()\n",
      "WARNING: when normalize_tuning_curve=True pad will be set to 1, the current value of pad=2 will be overriden.\n"
     ]
    },
    {
     "name": "stdout",
     "output_type": "stream",
     "text": [
      "\t saved /home/halechr/repos/Spike3D/EXTERNAL/Screenshots/ProgrammaticDisplayFunctionTesting/2023-10-06/kdiba/gor01/one/2006-6-12_15-55-31/maze2_1d_placefields.png\n"
     ]
    },
    {
     "name": "stderr",
     "output_type": "stream",
     "text": [
      "/home/halechr/repos/pyPhoPlaceCellAnalysis/src/pyphoplacecellanalysis/General/Pipeline/Stages/DisplayFunctions/Ratemaps.py:63: UserWarning: FigureCanvasAgg is non-interactive, and thus cannot be shown\n",
      "  active_figure.show()\n"
     ]
    },
    {
     "name": "stdout",
     "output_type": "stream",
     "text": [
      "\t saved /home/halechr/repos/Spike3D/EXTERNAL/Screenshots/ProgrammaticDisplayFunctionTesting/2023-10-06/kdiba/gor01/one/2006-6-12_15-55-31/maze_1d_placefields.png\n"
     ]
    },
    {
     "name": "stderr",
     "output_type": "stream",
     "text": [
      "/home/halechr/repos/pyPhoPlaceCellAnalysis/src/pyphoplacecellanalysis/General/Mixins/ExportHelpers.py:669: UserWarning: This figure includes Axes that are not compatible with tight_layout, so results might be incorrect.\n",
      "  a_fig.savefig(fig_png_out_path)\n"
     ]
    },
    {
     "name": "stdout",
     "output_type": "stream",
     "text": [
      "\t saved /home/halechr/repos/Spike3D/EXTERNAL/Screenshots/ProgrammaticDisplayFunctionTesting/2023-10-06/kdiba/gor01/one/2006-6-12_15-55-31/maze1__display_2d_placefield_result_plot_ratemaps_2D.png\n",
      "\t saved /home/halechr/repos/Spike3D/EXTERNAL/Screenshots/ProgrammaticDisplayFunctionTesting/2023-10-06/kdiba/gor01/one/2006-6-12_15-55-31/maze2__display_2d_placefield_result_plot_ratemaps_2D.png\n",
      "\t saved /home/halechr/repos/Spike3D/EXTERNAL/Screenshots/ProgrammaticDisplayFunctionTesting/2023-10-06/kdiba/gor01/one/2006-6-12_15-55-31/maze__display_2d_placefield_result_plot_ratemaps_2D.png\n",
      "\t saved /home/halechr/repos/Spike3D/EXTERNAL/Screenshots/ProgrammaticDisplayFunctionTesting/2023-10-06/kdiba/gor01/one/2006-6-12_15-55-31/maze1_plot_occupancy_OCCUPANCY.png\n",
      "\t saved /home/halechr/repos/Spike3D/EXTERNAL/Screenshots/ProgrammaticDisplayFunctionTesting/2023-10-06/kdiba/gor01/one/2006-6-12_15-55-31/maze2_plot_occupancy_OCCUPANCY.png\n",
      "\t saved /home/halechr/repos/Spike3D/EXTERNAL/Screenshots/ProgrammaticDisplayFunctionTesting/2023-10-06/kdiba/gor01/one/2006-6-12_15-55-31/maze_plot_occupancy_OCCUPANCY.png\n",
      "\t saved /home/halechr/repos/Spike3D/EXTERNAL/Screenshots/ProgrammaticDisplayFunctionTesting/2023-10-06/kdiba/gor01/one/2006-6-12_15-55-31/long_short_firing_rate_indicies_display_long_short_laps.png\n",
      "global_y_min_SHORT: 0.0, global_y_max_SHORT: 5.028359593251453\n",
      "global_y_min_LONG: 0.0, global_y_max_LONG: 5.357597904205264\n",
      "global_y_min: 0.0, global_y_max: 5.357597904205264\n",
      "batch_extended_programmatic_figures(...): _prepare_plot_expected_vs_observed failed with error: 'green' is not a valid color value.\n",
      " skipping.\n",
      "\t saved /home/halechr/repos/Spike3D/EXTERNAL/Screenshots/ProgrammaticDisplayFunctionTesting/2023-10-06/kdiba/gor01/one/2006-6-12_15-55-31/_display_grid_bin_bounds_validation.png\n",
      "batch_extended_programmatic_figures(...): _display_running_and_replay_speeds_over_time failed with error: 'green' is not a valid color value.\n",
      " skipping.\n",
      "batch_extended_programmatic_figures(...): _display_long_short_laps failed with error: plot_position_curves_figure() got an unexpected keyword argument 'active_config_name'\n",
      " skipping.\n"
     ]
    },
    {
     "name": "stderr",
     "output_type": "stream",
     "text": [
      "/home/halechr/repos/pyPhoPlaceCellAnalysis/src/pyphoplacecellanalysis/General/Pipeline/Stages/DisplayFunctions/MultiContextComparingDisplayFunctions/LongShortTrackComparingDisplayFunctions.py:2504: RuntimeWarning: More than 20 figures have been opened. Figures created through the pyplot interface (`matplotlib.pyplot.figure`) are retained until explicitly closed and may consume too much memory. (To control this warning, see the rcParam `figure.max_open_warning`). Consider using `matplotlib.pyplot.close()`.\n",
      "  fig, ax = plt.subplots(figsize=(8.5, 7.25), num=f'track_replay|track_laps frs_{active_context.get_description(separator=\"/\")}', clear=True)\n",
      "/home/halechr/repos/pyPhoPlaceCellAnalysis/src/pyphoplacecellanalysis/General/Pipeline/Stages/DisplayFunctions/MultiContextComparingDisplayFunctions/LongShortTrackComparingDisplayFunctions.py:2556: UserWarning: FigureCanvasAgg is non-interactive, and thus cannot be shown\n",
      "  fig.show()\n",
      "/home/halechr/repos/pyPhoPlaceCellAnalysis/src/pyphoplacecellanalysis/General/Pipeline/Stages/DisplayFunctions/MultiContextComparingDisplayFunctions/LongShortTrackComparingDisplayFunctions.py:2556: UserWarning: FigureCanvasAgg is non-interactive, and thus cannot be shown\n",
      "  fig.show()\n"
     ]
    },
    {
     "name": "stdout",
     "output_type": "stream",
     "text": [
      "\t saved /home/halechr/repos/Spike3D/EXTERNAL/Screenshots/ProgrammaticDisplayFunctionTesting/2023-10-06/kdiba/gor01/one/2006-6-12_15-55-31/maze1_plot_single_track_firing_rate_compare.png\n",
      "\t saved /home/halechr/repos/Spike3D/EXTERNAL/Screenshots/ProgrammaticDisplayFunctionTesting/2023-10-06/kdiba/gor01/one/2006-6-12_15-55-31/maze2_plot_single_track_firing_rate_compare.png\n",
      "WARNING: fignum will be ignored but it was specified as fignum=\"Short v Long pf1D Comparison\"!\n",
      "DEPRICATION WARNING: workaround to allow subscripting ComputationResult objects. Will be depricated. key: computed_data\n",
      "DEPRICATION WARNING: workaround to allow subscripting ComputationResult objects. Will be depricated. key: computed_data\n",
      "DEBUG: new_all_aclus_sort_indicies: [18  4 22  9 39 15  5 31 27  1  7 12 35 30 16  8 10  6 14 21 11  2 17 34\n",
      " 28 32  3  0 29 36 40 37 33 13 19 25 20 38 26 23 24]\n",
      "active_context: kdiba_gor01_one_2006-6-12_15-55-31\n",
      "\t saved /home/halechr/repos/Spike3D/EXTERNAL/Screenshots/ProgrammaticDisplayFunctionTesting/2023-10-06/kdiba/gor01/one/2006-6-12_15-55-31/display_short_long_pf1D_comparison_long.png\n",
      "\t saved /home/halechr/repos/Spike3D/EXTERNAL/Screenshots/ProgrammaticDisplayFunctionTesting/2023-10-06/kdiba/gor01/one/2006-6-12_15-55-31/display_short_long_pf1D_comparison_short.png\n"
     ]
    },
    {
     "name": "stderr",
     "output_type": "stream",
     "text": [
      "/home/halechr/repos/pyPhoPlaceCellAnalysis/src/pyphoplacecellanalysis/Pho2D/matplotlib/CustomMatplotlibWidget.py:168: UserWarning: constrained_layout not applied because axes sizes collapsed to zero.  Try making figure larger or axes decorations smaller.\n",
      "  self.ui.canvas.draw()\n"
     ]
    },
    {
     "name": "stdout",
     "output_type": "stream",
     "text": [
      "\t saved /home/halechr/repos/Spike3D/EXTERNAL/Screenshots/ProgrammaticDisplayFunctionTesting/2023-10-06/kdiba/gor01/one/2006-6-12_15-55-31/DecodedEpochSlices_replays_long_results_obj.png\n"
     ]
    },
    {
     "name": "stderr",
     "output_type": "stream",
     "text": [
      "/home/halechr/repos/pyPhoPlaceCellAnalysis/src/pyphoplacecellanalysis/Pho2D/matplotlib/CustomMatplotlibWidget.py:168: UserWarning: constrained_layout not applied because axes sizes collapsed to zero.  Try making figure larger or axes decorations smaller.\n",
      "  self.ui.canvas.draw()\n"
     ]
    },
    {
     "name": "stdout",
     "output_type": "stream",
     "text": [
      "\t saved /home/halechr/repos/Spike3D/EXTERNAL/Screenshots/ProgrammaticDisplayFunctionTesting/2023-10-06/kdiba/gor01/one/2006-6-12_15-55-31/DecodedEpochSlices_replays_short_results_obj.png\n",
      "DEPRICATION WARNING: workaround to allow subscripting ComputationResult objects. Will be depricated. key: computed_data\n",
      "DEPRICATION WARNING: workaround to allow subscripting ComputationResult objects. Will be depricated. key: computed_data\n",
      "DEPRICATION WARNING: workaround to allow subscripting ComputationResult objects. Will be depricated. key: computed_data\n",
      "batch_extended_programmatic_figures(...): export_active_relative_entropy_results_videos failed with error: 'extended_stats'\n",
      " skipping.\n",
      "DEPRICATION WARNING: workaround to allow subscripting ComputationResult objects. Will be depricated. key: computed_data\n",
      "DEPRICATION WARNING: workaround to allow subscripting ComputationResult objects. Will be depricated. key: computed_data\n",
      "DEPRICATION WARNING: workaround to allow subscripting ComputationResult objects. Will be depricated. key: computed_data\n",
      "WARN: 2023-09-28 16:15: - [ ] fix the combination properties. Would work if we directly used the computed _is_L_only and _is_S_only above\n",
      "include_includelist: ['maze1', 'maze2', 'maze']\n",
      "long_epoch_name: maze1, short_epoch_name: maze2, global_epoch_name: maze\n",
      "DEPRICATION WARNING: workaround to allow subscripting ComputationResult objects. Will be depricated. key: computed_data\n"
     ]
    },
    {
     "name": "stderr",
     "output_type": "stream",
     "text": [
      "/home/halechr/repos/pyPhoPlaceCellAnalysis/src/pyphoplacecellanalysis/General/Pipeline/Stages/DisplayFunctions/MultiContextComparingDisplayFunctions/LongShortTrackComparingDisplayFunctions.py:1209: SettingWithCopyWarning: \n",
      "A value is trying to be set on a copy of a slice from a DataFrame.\n",
      "Try using .loc[row_indexer,col_indexer] = value instead\n",
      "\n",
      "See the caveats in the documentation: https://pandas.pydata.org/pandas-docs/stable/user_guide/indexing.html#returning-a-view-versus-a-copy\n",
      "  cell_df.loc[:, 'x'] = spk_x\n",
      "/home/halechr/repos/pyPhoPlaceCellAnalysis/src/pyphoplacecellanalysis/General/Mixins/CrossComputationComparisonHelpers.py:235: RuntimeWarning: invalid value encountered in divide\n",
      "  _long_to_short_balances = (rdf.num_short_only_neuron_participating.values - rdf.num_long_only_neuron_participating.values) / (rdf.num_short_only_neuron_participating.values + rdf.num_long_only_neuron_participating.values) ## Working but (0, 1, 1) would clip to 0.5 despite (1, 13, 0) going all the way down to -1.0\n",
      "/home/halechr/repos/pyPhoPlaceCellAnalysis/src/pyphoplacecellanalysis/General/Mixins/CrossComputationComparisonHelpers.py:265: RuntimeWarning: invalid value encountered in divide\n",
      "  _long_to_short_balances = (rdf.num_short_only_neuron_participating.values - rdf.num_long_only_neuron_participating.values) / (rdf.num_short_only_neuron_participating.values + rdf.num_long_only_neuron_participating.values) ## Working but (0, 1, 1) would clip to 0.5 despite (1, 13, 0) going all the way down to -1.0\n"
     ]
    },
    {
     "name": "stdout",
     "output_type": "stream",
     "text": [
      "\t saved /home/halechr/repos/Spike3D/EXTERNAL/Screenshots/ProgrammaticDisplayFunctionTesting/2023-10-06/kdiba/gor01/one/2006-6-12_15-55-31/BatchPhoJonathanReplayFRC_long_only_(34,3).png\n",
      "include_includelist: ['maze1', 'maze2', 'maze']\n",
      "long_epoch_name: maze1, short_epoch_name: maze2, global_epoch_name: maze\n",
      "DEPRICATION WARNING: workaround to allow subscripting ComputationResult objects. Will be depricated. key: computed_data\n"
     ]
    },
    {
     "name": "stderr",
     "output_type": "stream",
     "text": [
      "/home/halechr/repos/pyPhoPlaceCellAnalysis/src/pyphoplacecellanalysis/General/Pipeline/Stages/DisplayFunctions/MultiContextComparingDisplayFunctions/LongShortTrackComparingDisplayFunctions.py:1209: SettingWithCopyWarning: \n",
      "A value is trying to be set on a copy of a slice from a DataFrame.\n",
      "Try using .loc[row_indexer,col_indexer] = value instead\n",
      "\n",
      "See the caveats in the documentation: https://pandas.pydata.org/pandas-docs/stable/user_guide/indexing.html#returning-a-view-versus-a-copy\n",
      "  cell_df.loc[:, 'x'] = spk_x\n",
      "/home/halechr/repos/pyPhoPlaceCellAnalysis/src/pyphoplacecellanalysis/General/Mixins/CrossComputationComparisonHelpers.py:235: RuntimeWarning: invalid value encountered in divide\n",
      "  _long_to_short_balances = (rdf.num_short_only_neuron_participating.values - rdf.num_long_only_neuron_participating.values) / (rdf.num_short_only_neuron_participating.values + rdf.num_long_only_neuron_participating.values) ## Working but (0, 1, 1) would clip to 0.5 despite (1, 13, 0) going all the way down to -1.0\n",
      "/home/halechr/repos/pyPhoPlaceCellAnalysis/src/pyphoplacecellanalysis/General/Mixins/CrossComputationComparisonHelpers.py:265: RuntimeWarning: invalid value encountered in divide\n",
      "  _long_to_short_balances = (rdf.num_short_only_neuron_participating.values - rdf.num_long_only_neuron_participating.values) / (rdf.num_short_only_neuron_participating.values + rdf.num_long_only_neuron_participating.values) ## Working but (0, 1, 1) would clip to 0.5 despite (1, 13, 0) going all the way down to -1.0\n"
     ]
    },
    {
     "name": "stdout",
     "output_type": "stream",
     "text": [
      "\t saved /home/halechr/repos/Spike3D/EXTERNAL/Screenshots/ProgrammaticDisplayFunctionTesting/2023-10-06/kdiba/gor01/one/2006-6-12_15-55-31/BatchPhoJonathanReplayFRC_short_only_(30,31,33).png\n",
      "include_includelist: ['maze1', 'maze2', 'maze']\n",
      "long_epoch_name: maze1, short_epoch_name: maze2, global_epoch_name: maze\n",
      "DEPRICATION WARNING: workaround to allow subscripting ComputationResult objects. Will be depricated. key: computed_data\n"
     ]
    },
    {
     "name": "stderr",
     "output_type": "stream",
     "text": [
      "/home/halechr/repos/pyPhoPlaceCellAnalysis/src/pyphoplacecellanalysis/General/Pipeline/Stages/DisplayFunctions/MultiContextComparingDisplayFunctions/LongShortTrackComparingDisplayFunctions.py:1209: SettingWithCopyWarning: \n",
      "A value is trying to be set on a copy of a slice from a DataFrame.\n",
      "Try using .loc[row_indexer,col_indexer] = value instead\n",
      "\n",
      "See the caveats in the documentation: https://pandas.pydata.org/pandas-docs/stable/user_guide/indexing.html#returning-a-view-versus-a-copy\n",
      "  cell_df.loc[:, 'x'] = spk_x\n",
      "/home/halechr/repos/pyPhoPlaceCellAnalysis/src/pyphoplacecellanalysis/General/Mixins/CrossComputationComparisonHelpers.py:235: RuntimeWarning: invalid value encountered in divide\n",
      "  _long_to_short_balances = (rdf.num_short_only_neuron_participating.values - rdf.num_long_only_neuron_participating.values) / (rdf.num_short_only_neuron_participating.values + rdf.num_long_only_neuron_participating.values) ## Working but (0, 1, 1) would clip to 0.5 despite (1, 13, 0) going all the way down to -1.0\n",
      "/home/halechr/repos/pyPhoPlaceCellAnalysis/src/pyphoplacecellanalysis/General/Mixins/CrossComputationComparisonHelpers.py:265: RuntimeWarning: invalid value encountered in divide\n",
      "  _long_to_short_balances = (rdf.num_short_only_neuron_participating.values - rdf.num_long_only_neuron_participating.values) / (rdf.num_short_only_neuron_participating.values + rdf.num_long_only_neuron_participating.values) ## Working but (0, 1, 1) would clip to 0.5 despite (1, 13, 0) going all the way down to -1.0\n",
      "/home/halechr/repos/pyPhoPlaceCellAnalysis/src/pyphoplacecellanalysis/General/Batch/NonInteractiveProcessing.py:679: UserWarning: constrained_layout not applied because axes sizes collapsed to zero.  Try making figure larger or axes decorations smaller.\n",
      "  a_fig.savefig(fig_png_out_path)\n"
     ]
    },
    {
     "name": "stdout",
     "output_type": "stream",
     "text": [
      "\t saved /home/halechr/repos/Spike3D/EXTERNAL/Screenshots/ProgrammaticDisplayFunctionTesting/2023-10-06/kdiba/gor01/one/2006-6-12_15-55-31/BatchPhoJonathanReplayFRC_shared_1of3_(24,7,29,14,9,52,20,40,11,17,45,39,21,12,15,10,19,27,16,4).png\n",
      "include_includelist: ['maze1', 'maze2', 'maze']\n",
      "long_epoch_name: maze1, short_epoch_name: maze2, global_epoch_name: maze\n",
      "DEPRICATION WARNING: workaround to allow subscripting ComputationResult objects. Will be depricated. key: computed_data\n"
     ]
    },
    {
     "name": "stderr",
     "output_type": "stream",
     "text": [
      "/home/halechr/repos/pyPhoPlaceCellAnalysis/src/pyphoplacecellanalysis/General/Pipeline/Stages/DisplayFunctions/MultiContextComparingDisplayFunctions/LongShortTrackComparingDisplayFunctions.py:1209: SettingWithCopyWarning: \n",
      "A value is trying to be set on a copy of a slice from a DataFrame.\n",
      "Try using .loc[row_indexer,col_indexer] = value instead\n",
      "\n",
      "See the caveats in the documentation: https://pandas.pydata.org/pandas-docs/stable/user_guide/indexing.html#returning-a-view-versus-a-copy\n",
      "  cell_df.loc[:, 'x'] = spk_x\n",
      "/home/halechr/repos/pyPhoPlaceCellAnalysis/src/pyphoplacecellanalysis/General/Mixins/CrossComputationComparisonHelpers.py:235: RuntimeWarning: invalid value encountered in divide\n",
      "  _long_to_short_balances = (rdf.num_short_only_neuron_participating.values - rdf.num_long_only_neuron_participating.values) / (rdf.num_short_only_neuron_participating.values + rdf.num_long_only_neuron_participating.values) ## Working but (0, 1, 1) would clip to 0.5 despite (1, 13, 0) going all the way down to -1.0\n",
      "/home/halechr/repos/pyPhoPlaceCellAnalysis/src/pyphoplacecellanalysis/General/Mixins/CrossComputationComparisonHelpers.py:265: RuntimeWarning: invalid value encountered in divide\n",
      "  _long_to_short_balances = (rdf.num_short_only_neuron_participating.values - rdf.num_long_only_neuron_participating.values) / (rdf.num_short_only_neuron_participating.values + rdf.num_long_only_neuron_participating.values) ## Working but (0, 1, 1) would clip to 0.5 despite (1, 13, 0) going all the way down to -1.0\n"
     ]
    },
    {
     "name": "stdout",
     "output_type": "stream",
     "text": [
      "WARNING: aclu 6 is not present in the `pf1D_all` ratemaps. Which contain aclus: [2, 3, 4, 5, 7, 9, 10, 11, 12, 14, 15, 16, 17, 18, 19, 20, 21, 23, 24, 25, 26, 27, 29, 30, 31, 32, 33, 34, 35, 37, 39, 40, 41, 43, 44, 45, 46, 49, 50, 52, 53]\n",
      "WARNING: aclu 8 is not present in the `pf1D_all` ratemaps. Which contain aclus: [2, 3, 4, 5, 7, 9, 10, 11, 12, 14, 15, 16, 17, 18, 19, 20, 21, 23, 24, 25, 26, 27, 29, 30, 31, 32, 33, 34, 35, 37, 39, 40, 41, 43, 44, 45, 46, 49, 50, 52, 53]\n",
      "WARNING: aclu 13 is not present in the `pf1D_all` ratemaps. Which contain aclus: [2, 3, 4, 5, 7, 9, 10, 11, 12, 14, 15, 16, 17, 18, 19, 20, 21, 23, 24, 25, 26, 27, 29, 30, 31, 32, 33, 34, 35, 37, 39, 40, 41, 43, 44, 45, 46, 49, 50, 52, 53]\n",
      "WARNING: aclu 22 is not present in the `pf1D_all` ratemaps. Which contain aclus: [2, 3, 4, 5, 7, 9, 10, 11, 12, 14, 15, 16, 17, 18, 19, 20, 21, 23, 24, 25, 26, 27, 29, 30, 31, 32, 33, 34, 35, 37, 39, 40, 41, 43, 44, 45, 46, 49, 50, 52, 53]\n"
     ]
    },
    {
     "name": "stderr",
     "output_type": "stream",
     "text": [
      "/home/halechr/repos/pyPhoPlaceCellAnalysis/src/pyphoplacecellanalysis/General/Batch/NonInteractiveProcessing.py:679: UserWarning: constrained_layout not applied because axes sizes collapsed to zero.  Try making figure larger or axes decorations smaller.\n",
      "  a_fig.savefig(fig_png_out_path)\n"
     ]
    },
    {
     "name": "stdout",
     "output_type": "stream",
     "text": [
      "\t saved /home/halechr/repos/Spike3D/EXTERNAL/Screenshots/ProgrammaticDisplayFunctionTesting/2023-10-06/kdiba/gor01/one/2006-6-12_15-55-31/BatchPhoJonathanReplayFRC_shared_2of3_(23,35,44,41,5,2,37,46,53,49,43,25,18,32,26,50,6,8,13,22).png\n",
      "include_includelist: ['maze1', 'maze2', 'maze']\n",
      "long_epoch_name: maze1, short_epoch_name: maze2, global_epoch_name: maze\n",
      "DEPRICATION WARNING: workaround to allow subscripting ComputationResult objects. Will be depricated. key: computed_data\n"
     ]
    },
    {
     "name": "stderr",
     "output_type": "stream",
     "text": [
      "/home/halechr/repos/pyPhoPlaceCellAnalysis/src/pyphoplacecellanalysis/General/Pipeline/Stages/DisplayFunctions/MultiContextComparingDisplayFunctions/LongShortTrackComparingDisplayFunctions.py:1209: SettingWithCopyWarning: \n",
      "A value is trying to be set on a copy of a slice from a DataFrame.\n",
      "Try using .loc[row_indexer,col_indexer] = value instead\n",
      "\n",
      "See the caveats in the documentation: https://pandas.pydata.org/pandas-docs/stable/user_guide/indexing.html#returning-a-view-versus-a-copy\n",
      "  cell_df.loc[:, 'x'] = spk_x\n",
      "/home/halechr/repos/pyPhoPlaceCellAnalysis/src/pyphoplacecellanalysis/General/Mixins/CrossComputationComparisonHelpers.py:235: RuntimeWarning: invalid value encountered in divide\n",
      "  _long_to_short_balances = (rdf.num_short_only_neuron_participating.values - rdf.num_long_only_neuron_participating.values) / (rdf.num_short_only_neuron_participating.values + rdf.num_long_only_neuron_participating.values) ## Working but (0, 1, 1) would clip to 0.5 despite (1, 13, 0) going all the way down to -1.0\n",
      "/home/halechr/repos/pyPhoPlaceCellAnalysis/src/pyphoplacecellanalysis/General/Mixins/CrossComputationComparisonHelpers.py:265: RuntimeWarning: invalid value encountered in divide\n",
      "  _long_to_short_balances = (rdf.num_short_only_neuron_participating.values - rdf.num_long_only_neuron_participating.values) / (rdf.num_short_only_neuron_participating.values + rdf.num_long_only_neuron_participating.values) ## Working but (0, 1, 1) would clip to 0.5 despite (1, 13, 0) going all the way down to -1.0\n"
     ]
    },
    {
     "name": "stdout",
     "output_type": "stream",
     "text": [
      "WARNING: aclu 28 is not present in the `pf1D_all` ratemaps. Which contain aclus: [2, 3, 4, 5, 7, 9, 10, 11, 12, 14, 15, 16, 17, 18, 19, 20, 21, 23, 24, 25, 26, 27, 29, 30, 31, 32, 33, 34, 35, 37, 39, 40, 41, 43, 44, 45, 46, 49, 50, 52, 53]\n",
      "WARNING: aclu 36 is not present in the `pf1D_all` ratemaps. Which contain aclus: [2, 3, 4, 5, 7, 9, 10, 11, 12, 14, 15, 16, 17, 18, 19, 20, 21, 23, 24, 25, 26, 27, 29, 30, 31, 32, 33, 34, 35, 37, 39, 40, 41, 43, 44, 45, 46, 49, 50, 52, 53]\n",
      "WARNING: aclu 38 is not present in the `pf1D_all` ratemaps. Which contain aclus: [2, 3, 4, 5, 7, 9, 10, 11, 12, 14, 15, 16, 17, 18, 19, 20, 21, 23, 24, 25, 26, 27, 29, 30, 31, 32, 33, 34, 35, 37, 39, 40, 41, 43, 44, 45, 46, 49, 50, 52, 53]\n",
      "WARNING: aclu 42 is not present in the `pf1D_all` ratemaps. Which contain aclus: [2, 3, 4, 5, 7, 9, 10, 11, 12, 14, 15, 16, 17, 18, 19, 20, 21, 23, 24, 25, 26, 27, 29, 30, 31, 32, 33, 34, 35, 37, 39, 40, 41, 43, 44, 45, 46, 49, 50, 52, 53]\n",
      "WARNING: aclu 47 is not present in the `pf1D_all` ratemaps. Which contain aclus: [2, 3, 4, 5, 7, 9, 10, 11, 12, 14, 15, 16, 17, 18, 19, 20, 21, 23, 24, 25, 26, 27, 29, 30, 31, 32, 33, 34, 35, 37, 39, 40, 41, 43, 44, 45, 46, 49, 50, 52, 53]\n",
      "WARNING: aclu 48 is not present in the `pf1D_all` ratemaps. Which contain aclus: [2, 3, 4, 5, 7, 9, 10, 11, 12, 14, 15, 16, 17, 18, 19, 20, 21, 23, 24, 25, 26, 27, 29, 30, 31, 32, 33, 34, 35, 37, 39, 40, 41, 43, 44, 45, 46, 49, 50, 52, 53]\n",
      "WARNING: aclu 51 is not present in the `pf1D_all` ratemaps. Which contain aclus: [2, 3, 4, 5, 7, 9, 10, 11, 12, 14, 15, 16, 17, 18, 19, 20, 21, 23, 24, 25, 26, 27, 29, 30, 31, 32, 33, 34, 35, 37, 39, 40, 41, 43, 44, 45, 46, 49, 50, 52, 53]\n",
      "\t saved /home/halechr/repos/Spike3D/EXTERNAL/Screenshots/ProgrammaticDisplayFunctionTesting/2023-10-06/kdiba/gor01/one/2006-6-12_15-55-31/BatchPhoJonathanReplayFRC_shared_3of3_(28,36,38,42,47,48,51).png\n",
      "Neptuner.stop() called!\n",
      "Shutting down background jobs, please wait a moment...\n",
      "Done!\n",
      "Waiting for the remaining 31 operations to synchronize with Neptune. Do not kill this process.\n",
      "All 31 operations synced, thanks for waiting!\n",
      "Explore the metadata in the Neptune app:\n",
      "https://app.neptune.ai/commander.pho/PhoDibaLongShortUpdated/e/LS2023-676/metadata\n",
      "Shutting down background jobs, please wait a moment...\n",
      "Done!\n",
      "All 0 operations synced, thanks for waiting!\n",
      "Explore the metadata in the Neptune app:\n",
      "https://app.neptune.ai/commander.pho/PhoDibaLongShortUpdated/metadata\n",
      "Neptuner stoppped.\n",
      "Neptuner.stop() called!\n",
      "Neptuner stoppped.\n",
      "DEPRICATION WARNING: workaround to allow subscripting ComputationResult objects. Will be depricated. key: computed_data\n",
      "DEPRICATION WARNING: workaround to allow subscripting ComputationResult objects. Will be depricated. key: computed_data\n",
      "DEPRICATION WARNING: workaround to allow subscripting ComputationResult objects. Will be depricated. key: computed_data\n",
      "DEPRICATION WARNING: workaround to allow subscripting ComputationResult objects. Will be depricated. key: computation_config\n",
      "DEPRICATION WARNING: workaround to allow subscripting ComputationResult objects. Will be depricated. key: computation_config\n",
      "DEPRICATION WARNING: workaround to allow subscripting ComputationResult objects. Will be depricated. key: computation_config\n",
      "WARN: 2023-09-28 16:15: - [ ] fix the combination properties. Would work if we directly used the computed _is_L_only and _is_S_only above\n",
      "DEPRICATION WARNING: workaround to allow subscripting ComputationResult objects. Will be depricated. key: computed_data\n",
      "DEPRICATION WARNING: workaround to allow subscripting ComputationResult objects. Will be depricated. key: computed_data\n",
      "DEPRICATION WARNING: workaround to allow subscripting ComputationResult objects. Will be depricated. key: computed_data\n",
      "DEPRICATION WARNING: workaround to allow subscripting ComputationResult objects. Will be depricated. key: computation_config\n",
      "DEPRICATION WARNING: workaround to allow subscripting ComputationResult objects. Will be depricated. key: computation_config\n",
      "DEPRICATION WARNING: workaround to allow subscripting ComputationResult objects. Will be depricated. key: computation_config\n",
      "WARNING: fignum will be ignored but it was specified as fignum=\"Short v Long pf1D Comparison\"!\n",
      "DEPRICATION WARNING: workaround to allow subscripting ComputationResult objects. Will be depricated. key: computed_data\n",
      "DEPRICATION WARNING: workaround to allow subscripting ComputationResult objects. Will be depricated. key: computed_data\n",
      "DEBUG: new_all_aclus_sort_indicies: [18  4 22  9 39 15  5 31 27  1  7 12 35 30 16  8 10  6 14 21 11  2 17 34\n",
      " 28 32  3  0 29 36 40 37 33 13 19 25 20 38 26 23 24]\n",
      "active_context: kdiba_gor01_one_2006-6-12_15-55-31\n",
      "\t saved /home/halechr/repos/Spike3D/EXTERNAL/Screenshots/ProgrammaticDisplayFunctionTesting/2023-10-06/kdiba/gor01/one/2006-6-12_15-55-31/display_short_long_pf1D_comparison_long.png\n",
      "\t saved /home/halechr/repos/Spike3D/EXTERNAL/Screenshots/ProgrammaticDisplayFunctionTesting/2023-10-06/kdiba/gor01/one/2006-6-12_15-55-31/display_short_long_pf1D_comparison_short.png\n",
      "WARN: 2023-09-28 16:15: - [ ] fix the combination properties. Would work if we directly used the computed _is_L_only and _is_S_only above\n",
      "merged_kwargs: {'name': 'spikeRasterOverviewWindowScatterPlotItem', 'pxMode': True, 'symbol': <PyQt5.QtGui.QPainterPath object at 0x14e13353ff20>, 'size': 6, 'pen': {'color': 'white', 'width': 1}, 'hoverable': True}\n",
      "exported plot to /home/halechr/repos/Spike3D/EXTERNAL/Screenshots/ProgrammaticDisplayFunctionTesting/2023-10-06/kdiba/gor01/one/2006-6-12_15-55-31/plot_multiple_raster_plot_1_long_example_replays_plot_multiple_raster_plot.png\n",
      "\t saved /home/halechr/repos/Spike3D/EXTERNAL/Screenshots/ProgrammaticDisplayFunctionTesting/2023-10-06/kdiba/gor01/one/2006-6-12_15-55-31/plot_multiple_raster_plot_1_long_example_replays_plot_multiple_raster_plot.png\n",
      "merged_kwargs: {'name': 'spikeRasterOverviewWindowScatterPlotItem', 'pxMode': True, 'symbol': <PyQt5.QtGui.QPainterPath object at 0x14e13353ff20>, 'size': 6, 'pen': {'color': 'white', 'width': 1}, 'hoverable': True}\n",
      "exported plot to /home/halechr/repos/Spike3D/EXTERNAL/Screenshots/ProgrammaticDisplayFunctionTesting/2023-10-06/kdiba/gor01/one/2006-6-12_15-55-31/plot_multiple_raster_plot_1_short_example_replays_plot_multiple_raster_plot.png\n",
      "\t saved /home/halechr/repos/Spike3D/EXTERNAL/Screenshots/ProgrammaticDisplayFunctionTesting/2023-10-06/kdiba/gor01/one/2006-6-12_15-55-31/plot_multiple_raster_plot_1_short_example_replays_plot_multiple_raster_plot.png\n"
     ]
    },
    {
     "name": "stderr",
     "output_type": "stream",
     "text": [
      "/home/halechr/repos/pyPhoPlaceCellAnalysis/src/pyphoplacecellanalysis/Pho2D/matplotlib/CustomMatplotlibWidget.py:168: UserWarning: constrained_layout not applied because axes sizes collapsed to zero.  Try making figure larger or axes decorations smaller.\n",
      "  self.ui.canvas.draw()\n"
     ]
    },
    {
     "name": "stdout",
     "output_type": "stream",
     "text": [
      "\t saved /home/halechr/repos/Spike3D/EXTERNAL/Screenshots/ProgrammaticDisplayFunctionTesting/2023-10-06/kdiba/gor01/one/2006-6-12_15-55-31/DecodedEpochSlices_replays_long_results_obj.png\n"
     ]
    },
    {
     "name": "stderr",
     "output_type": "stream",
     "text": [
      "/home/halechr/repos/pyPhoPlaceCellAnalysis/src/pyphoplacecellanalysis/Pho2D/matplotlib/CustomMatplotlibWidget.py:168: UserWarning: constrained_layout not applied because axes sizes collapsed to zero.  Try making figure larger or axes decorations smaller.\n",
      "  self.ui.canvas.draw()\n"
     ]
    },
    {
     "name": "stdout",
     "output_type": "stream",
     "text": [
      "\t saved /home/halechr/repos/Spike3D/EXTERNAL/Screenshots/ProgrammaticDisplayFunctionTesting/2023-10-06/kdiba/gor01/one/2006-6-12_15-55-31/DecodedEpochSlices_replays_short_results_obj.png\n",
      "WARNING: 2023-09-28 - Note that the above ('refined' LxC and SxC) omit long_only and short_only place cells that don't meant the 'exclusive' criteria. That means these cells will be omitted entirely (and not even included in the shared)\n",
      "WARNING: long_only_aclus is empty, so not adding kwargs for these.\n",
      "WARNING: shared_aclus is empty, so not adding kwargs for these.\n",
      "include_includelist: ['maze1', 'maze2', 'maze']\n",
      "long_epoch_name: maze1, short_epoch_name: maze2, global_epoch_name: maze\n",
      "DEPRICATION WARNING: workaround to allow subscripting ComputationResult objects. Will be depricated. key: computed_data\n"
     ]
    },
    {
     "name": "stderr",
     "output_type": "stream",
     "text": [
      "/home/halechr/repos/pyPhoPlaceCellAnalysis/src/pyphoplacecellanalysis/General/Pipeline/Stages/DisplayFunctions/MultiContextComparingDisplayFunctions/LongShortTrackComparingDisplayFunctions.py:1209: SettingWithCopyWarning: \n",
      "A value is trying to be set on a copy of a slice from a DataFrame.\n",
      "Try using .loc[row_indexer,col_indexer] = value instead\n",
      "\n",
      "See the caveats in the documentation: https://pandas.pydata.org/pandas-docs/stable/user_guide/indexing.html#returning-a-view-versus-a-copy\n",
      "  cell_df.loc[:, 'x'] = spk_x\n",
      "/home/halechr/repos/pyPhoPlaceCellAnalysis/src/pyphoplacecellanalysis/General/Mixins/CrossComputationComparisonHelpers.py:235: RuntimeWarning: invalid value encountered in divide\n",
      "  _long_to_short_balances = (rdf.num_short_only_neuron_participating.values - rdf.num_long_only_neuron_participating.values) / (rdf.num_short_only_neuron_participating.values + rdf.num_long_only_neuron_participating.values) ## Working but (0, 1, 1) would clip to 0.5 despite (1, 13, 0) going all the way down to -1.0\n",
      "/home/halechr/repos/pyPhoPlaceCellAnalysis/src/pyphoplacecellanalysis/General/Mixins/CrossComputationComparisonHelpers.py:265: RuntimeWarning: invalid value encountered in divide\n",
      "  _long_to_short_balances = (rdf.num_short_only_neuron_participating.values - rdf.num_long_only_neuron_participating.values) / (rdf.num_short_only_neuron_participating.values + rdf.num_long_only_neuron_participating.values) ## Working but (0, 1, 1) would clip to 0.5 despite (1, 13, 0) going all the way down to -1.0\n"
     ]
    },
    {
     "name": "stdout",
     "output_type": "stream",
     "text": [
      "\t saved /home/halechr/repos/Spike3D/EXTERNAL/Screenshots/ProgrammaticDisplayFunctionTesting/2023-10-06/kdiba/gor01/one/2006-6-12_15-55-31/BatchPhoJonathanReplayFRC_short_only_(30,33).png\n",
      "An exception occurred: `sort_ind` should be the indicies to sort `included_unit_neuron_IDs`.\n",
      "An exception occurred: `sort_ind` should be the indicies to sort `included_unit_neuron_IDs`.\n",
      "An exception occurred: `sort_ind` should be the indicies to sort `included_unit_neuron_IDs`.\n",
      "main_complete_figure_generations failed with exception: !! `sort_ind` should be the indicies to sort `included_unit_neuron_IDs`. ::::: (<class 'AssertionError'>, AssertionError('`sort_ind` should be the indicies to sort `included_unit_neuron_IDs`.'), <traceback object at 0x14e13389b2c0>)\n",
      "DEPRICATION WARNING: workaround to allow subscripting ComputationResult objects. Will be depricated. key: computation_times\n",
      "DEPRICATION WARNING: workaround to allow subscripting ComputationResult objects. Will be depricated. key: computation_times\n",
      "DEPRICATION WARNING: workaround to allow subscripting ComputationResult objects. Will be depricated. key: computation_times\n",
      "\t time since last computation: 3:29:54.703764\n",
      "\t doing specific instantaneous firing rate computation for context: kdiba_gor01_one_2006-6-12_15-55-31...\n",
      "WARN: 2023-09-28 16:15: - [ ] fix the combination properties. Would work if we directly used the computed _is_L_only and _is_S_only above\n",
      "setting LxC_aclus/SxC_aclus from user annotation.\n",
      "\t\t Now have 3 entries in self.across_sessions_instantaneous_fr_dict!\n",
      "\t\t done (success).\n",
      "\t>> calling external computation function: a_test_completion_function\n",
      "<<<<<<<<<<<<<<<<<<<<<<<<<<<<<<<<<<<<<<<<<<<<<<<<<<<<<<<<<<<<<<<<<<<<<<<<<<<<<<<<\n",
      "a_test_completion_function(curr_session_context: kdiba_gor01_one_2006-6-12_15-55-31, curr_session_basedir: /nfs/turbo/umms-kdiba/Data/KDIBA/gor01/one/2006-6-12_15-55-31, ...,across_session_results_extended_dict: {})\n",
      "WARN: 2023-09-28 16:15: - [ ] fix the combination properties. Would work if we directly used the computed _is_L_only and _is_S_only above\n",
      "WARN: 2023-09-28 16:15: - [ ] fix the combination properties. Would work if we directly used the computed _is_L_only and _is_S_only above\n",
      "WARNING: long_only_aclus is empty, so not adding kwargs for these.\n",
      "WARNING: short_only_aclus is empty, so not adding kwargs for these.\n",
      "include_includelist: ['maze1', 'maze2', 'maze']\n",
      "long_epoch_name: maze1, short_epoch_name: maze2, global_epoch_name: maze\n",
      "DEPRICATION WARNING: workaround to allow subscripting ComputationResult objects. Will be depricated. key: computed_data\n"
     ]
    },
    {
     "name": "stderr",
     "output_type": "stream",
     "text": [
      "/home/halechr/repos/pyPhoPlaceCellAnalysis/src/pyphoplacecellanalysis/General/Pipeline/Stages/DisplayFunctions/MultiContextComparingDisplayFunctions/LongShortTrackComparingDisplayFunctions.py:1209: SettingWithCopyWarning: \n",
      "A value is trying to be set on a copy of a slice from a DataFrame.\n",
      "Try using .loc[row_indexer,col_indexer] = value instead\n",
      "\n",
      "See the caveats in the documentation: https://pandas.pydata.org/pandas-docs/stable/user_guide/indexing.html#returning-a-view-versus-a-copy\n",
      "  cell_df.loc[:, 'x'] = spk_x\n",
      "/home/halechr/repos/pyPhoPlaceCellAnalysis/src/pyphoplacecellanalysis/General/Mixins/CrossComputationComparisonHelpers.py:235: RuntimeWarning: invalid value encountered in divide\n",
      "  _long_to_short_balances = (rdf.num_short_only_neuron_participating.values - rdf.num_long_only_neuron_participating.values) / (rdf.num_short_only_neuron_participating.values + rdf.num_long_only_neuron_participating.values) ## Working but (0, 1, 1) would clip to 0.5 despite (1, 13, 0) going all the way down to -1.0\n",
      "/home/halechr/repos/pyPhoPlaceCellAnalysis/src/pyphoplacecellanalysis/General/Mixins/CrossComputationComparisonHelpers.py:265: RuntimeWarning: invalid value encountered in divide\n",
      "  _long_to_short_balances = (rdf.num_short_only_neuron_participating.values - rdf.num_long_only_neuron_participating.values) / (rdf.num_short_only_neuron_participating.values + rdf.num_long_only_neuron_participating.values) ## Working but (0, 1, 1) would clip to 0.5 despite (1, 13, 0) going all the way down to -1.0\n",
      "/home/halechr/repos/pyPhoPlaceCellAnalysis/src/pyphoplacecellanalysis/General/Batch/NonInteractiveProcessing.py:679: UserWarning: constrained_layout not applied because axes sizes collapsed to zero.  Try making figure larger or axes decorations smaller.\n",
      "  a_fig.savefig(fig_png_out_path)\n"
     ]
    },
    {
     "name": "stdout",
     "output_type": "stream",
     "text": [
      "\t saved /home/halechr/repos/Spike3D/EXTERNAL/Screenshots/ProgrammaticDisplayFunctionTesting/2023-10-06/kdiba/gor01/one/2006-6-12_15-55-31/BatchPhoJonathanReplayFRC_shared_1of3_(24,7,29,14,9,52,20,40,34,3,11,17,45,39,21,12,15,10,19,27).png\n",
      "include_includelist: ['maze1', 'maze2', 'maze']\n",
      "long_epoch_name: maze1, short_epoch_name: maze2, global_epoch_name: maze\n",
      "DEPRICATION WARNING: workaround to allow subscripting ComputationResult objects. Will be depricated. key: computed_data\n"
     ]
    },
    {
     "name": "stderr",
     "output_type": "stream",
     "text": [
      "/home/halechr/repos/pyPhoPlaceCellAnalysis/src/pyphoplacecellanalysis/General/Pipeline/Stages/DisplayFunctions/MultiContextComparingDisplayFunctions/LongShortTrackComparingDisplayFunctions.py:1209: SettingWithCopyWarning: \n",
      "A value is trying to be set on a copy of a slice from a DataFrame.\n",
      "Try using .loc[row_indexer,col_indexer] = value instead\n",
      "\n",
      "See the caveats in the documentation: https://pandas.pydata.org/pandas-docs/stable/user_guide/indexing.html#returning-a-view-versus-a-copy\n",
      "  cell_df.loc[:, 'x'] = spk_x\n",
      "/home/halechr/repos/pyPhoPlaceCellAnalysis/src/pyphoplacecellanalysis/General/Mixins/CrossComputationComparisonHelpers.py:235: RuntimeWarning: invalid value encountered in divide\n",
      "  _long_to_short_balances = (rdf.num_short_only_neuron_participating.values - rdf.num_long_only_neuron_participating.values) / (rdf.num_short_only_neuron_participating.values + rdf.num_long_only_neuron_participating.values) ## Working but (0, 1, 1) would clip to 0.5 despite (1, 13, 0) going all the way down to -1.0\n",
      "/home/halechr/repos/pyPhoPlaceCellAnalysis/src/pyphoplacecellanalysis/General/Mixins/CrossComputationComparisonHelpers.py:265: RuntimeWarning: invalid value encountered in divide\n",
      "  _long_to_short_balances = (rdf.num_short_only_neuron_participating.values - rdf.num_long_only_neuron_participating.values) / (rdf.num_short_only_neuron_participating.values + rdf.num_long_only_neuron_participating.values) ## Working but (0, 1, 1) would clip to 0.5 despite (1, 13, 0) going all the way down to -1.0\n"
     ]
    },
    {
     "name": "stdout",
     "output_type": "stream",
     "text": [
      "WARNING: aclu 6 is not present in the `pf1D_all` ratemaps. Which contain aclus: [2, 3, 4, 5, 7, 9, 10, 11, 12, 14, 15, 16, 17, 18, 19, 20, 21, 23, 24, 25, 26, 27, 29, 30, 31, 32, 33, 34, 35, 37, 39, 40, 41, 43, 44, 45, 46, 49, 50, 52, 53]\n",
      "WARNING: aclu 8 is not present in the `pf1D_all` ratemaps. Which contain aclus: [2, 3, 4, 5, 7, 9, 10, 11, 12, 14, 15, 16, 17, 18, 19, 20, 21, 23, 24, 25, 26, 27, 29, 30, 31, 32, 33, 34, 35, 37, 39, 40, 41, 43, 44, 45, 46, 49, 50, 52, 53]\n"
     ]
    },
    {
     "name": "stderr",
     "output_type": "stream",
     "text": [
      "/home/halechr/repos/pyPhoPlaceCellAnalysis/src/pyphoplacecellanalysis/General/Batch/NonInteractiveProcessing.py:679: UserWarning: constrained_layout not applied because axes sizes collapsed to zero.  Try making figure larger or axes decorations smaller.\n",
      "  a_fig.savefig(fig_png_out_path)\n"
     ]
    },
    {
     "name": "stdout",
     "output_type": "stream",
     "text": [
      "\t saved /home/halechr/repos/Spike3D/EXTERNAL/Screenshots/ProgrammaticDisplayFunctionTesting/2023-10-06/kdiba/gor01/one/2006-6-12_15-55-31/BatchPhoJonathanReplayFRC_shared_2of3_(16,4,23,35,44,41,5,2,37,46,53,49,43,25,18,32,26,50,6,8).png\n",
      "include_includelist: ['maze1', 'maze2', 'maze']\n",
      "long_epoch_name: maze1, short_epoch_name: maze2, global_epoch_name: maze\n",
      "DEPRICATION WARNING: workaround to allow subscripting ComputationResult objects. Will be depricated. key: computed_data\n"
     ]
    },
    {
     "name": "stderr",
     "output_type": "stream",
     "text": [
      "/home/halechr/repos/pyPhoPlaceCellAnalysis/src/pyphoplacecellanalysis/General/Pipeline/Stages/DisplayFunctions/MultiContextComparingDisplayFunctions/LongShortTrackComparingDisplayFunctions.py:1209: SettingWithCopyWarning: \n",
      "A value is trying to be set on a copy of a slice from a DataFrame.\n",
      "Try using .loc[row_indexer,col_indexer] = value instead\n",
      "\n",
      "See the caveats in the documentation: https://pandas.pydata.org/pandas-docs/stable/user_guide/indexing.html#returning-a-view-versus-a-copy\n",
      "  cell_df.loc[:, 'x'] = spk_x\n",
      "/home/halechr/repos/pyPhoPlaceCellAnalysis/src/pyphoplacecellanalysis/General/Mixins/CrossComputationComparisonHelpers.py:235: RuntimeWarning: invalid value encountered in divide\n",
      "  _long_to_short_balances = (rdf.num_short_only_neuron_participating.values - rdf.num_long_only_neuron_participating.values) / (rdf.num_short_only_neuron_participating.values + rdf.num_long_only_neuron_participating.values) ## Working but (0, 1, 1) would clip to 0.5 despite (1, 13, 0) going all the way down to -1.0\n",
      "/home/halechr/repos/pyPhoPlaceCellAnalysis/src/pyphoplacecellanalysis/General/Mixins/CrossComputationComparisonHelpers.py:265: RuntimeWarning: invalid value encountered in divide\n",
      "  _long_to_short_balances = (rdf.num_short_only_neuron_participating.values - rdf.num_long_only_neuron_participating.values) / (rdf.num_short_only_neuron_participating.values + rdf.num_long_only_neuron_participating.values) ## Working but (0, 1, 1) would clip to 0.5 despite (1, 13, 0) going all the way down to -1.0\n"
     ]
    },
    {
     "name": "stdout",
     "output_type": "stream",
     "text": [
      "WARNING: aclu 13 is not present in the `pf1D_all` ratemaps. Which contain aclus: [2, 3, 4, 5, 7, 9, 10, 11, 12, 14, 15, 16, 17, 18, 19, 20, 21, 23, 24, 25, 26, 27, 29, 30, 31, 32, 33, 34, 35, 37, 39, 40, 41, 43, 44, 45, 46, 49, 50, 52, 53]\n",
      "WARNING: aclu 22 is not present in the `pf1D_all` ratemaps. Which contain aclus: [2, 3, 4, 5, 7, 9, 10, 11, 12, 14, 15, 16, 17, 18, 19, 20, 21, 23, 24, 25, 26, 27, 29, 30, 31, 32, 33, 34, 35, 37, 39, 40, 41, 43, 44, 45, 46, 49, 50, 52, 53]\n",
      "WARNING: aclu 28 is not present in the `pf1D_all` ratemaps. Which contain aclus: [2, 3, 4, 5, 7, 9, 10, 11, 12, 14, 15, 16, 17, 18, 19, 20, 21, 23, 24, 25, 26, 27, 29, 30, 31, 32, 33, 34, 35, 37, 39, 40, 41, 43, 44, 45, 46, 49, 50, 52, 53]\n",
      "WARNING: aclu 36 is not present in the `pf1D_all` ratemaps. Which contain aclus: [2, 3, 4, 5, 7, 9, 10, 11, 12, 14, 15, 16, 17, 18, 19, 20, 21, 23, 24, 25, 26, 27, 29, 30, 31, 32, 33, 34, 35, 37, 39, 40, 41, 43, 44, 45, 46, 49, 50, 52, 53]\n",
      "WARNING: aclu 38 is not present in the `pf1D_all` ratemaps. Which contain aclus: [2, 3, 4, 5, 7, 9, 10, 11, 12, 14, 15, 16, 17, 18, 19, 20, 21, 23, 24, 25, 26, 27, 29, 30, 31, 32, 33, 34, 35, 37, 39, 40, 41, 43, 44, 45, 46, 49, 50, 52, 53]\n",
      "WARNING: aclu 42 is not present in the `pf1D_all` ratemaps. Which contain aclus: [2, 3, 4, 5, 7, 9, 10, 11, 12, 14, 15, 16, 17, 18, 19, 20, 21, 23, 24, 25, 26, 27, 29, 30, 31, 32, 33, 34, 35, 37, 39, 40, 41, 43, 44, 45, 46, 49, 50, 52, 53]\n",
      "WARNING: aclu 47 is not present in the `pf1D_all` ratemaps. Which contain aclus: [2, 3, 4, 5, 7, 9, 10, 11, 12, 14, 15, 16, 17, 18, 19, 20, 21, 23, 24, 25, 26, 27, 29, 30, 31, 32, 33, 34, 35, 37, 39, 40, 41, 43, 44, 45, 46, 49, 50, 52, 53]\n",
      "WARNING: aclu 48 is not present in the `pf1D_all` ratemaps. Which contain aclus: [2, 3, 4, 5, 7, 9, 10, 11, 12, 14, 15, 16, 17, 18, 19, 20, 21, 23, 24, 25, 26, 27, 29, 30, 31, 32, 33, 34, 35, 37, 39, 40, 41, 43, 44, 45, 46, 49, 50, 52, 53]\n",
      "WARNING: aclu 51 is not present in the `pf1D_all` ratemaps. Which contain aclus: [2, 3, 4, 5, 7, 9, 10, 11, 12, 14, 15, 16, 17, 18, 19, 20, 21, 23, 24, 25, 26, 27, 29, 30, 31, 32, 33, 34, 35, 37, 39, 40, 41, 43, 44, 45, 46, 49, 50, 52, 53]\n",
      "\t saved /home/halechr/repos/Spike3D/EXTERNAL/Screenshots/ProgrammaticDisplayFunctionTesting/2023-10-06/kdiba/gor01/one/2006-6-12_15-55-31/BatchPhoJonathanReplayFRC_shared_3of3_(13,22,28,30,31,33,36,38,42,47,48,51).png\n",
      ">>\t done with kdiba-gor01-one-2006-6-12_15-55-31\n",
      ">>>>>>>>>>>>>>>>>>>>>>>>>>>>>>>>>>>>>>>>>>>>>>>>>>>>>>>>>>>>>>>>>>>>>>>>>>>>>>>>\n",
      ">>>>>>>>>>>>>>>>>>>>>>>>>>>>>>>>>>>>>>>>>>>>>>>>>>>>>>>>>>>>>>>>>>>>>>>>>>>>>>>>\n",
      "\"========================== END BATCH ==========================\n",
      "\n",
      "\n",
      "build_batch_task_logger(module_name=\"gl0006.arc-ts.umich.edu.kdiba.gor01.two.2006-6-07_16-40-19\"):\n",
      "\t Batch Task logger com.PhoHale.PhoPy3DPositionAnalyis.Batch.runBatch.run_specific_batch.gl0006.arc-ts.umich.edu.kdiba.gor01.two.2006-6-07_16-40-19 has file logging enabled and will log to EXTERNAL/TESTING/Logging/debug_com.PhoHale.PhoPy3DPositionAnalyis.Batch.runBatch.run_specific_batch.gl0006.arc-ts.umich.edu.kdiba.gor01.two.2006-6-07_16-40-19.log\n",
      "========================== runBatch STARTING ==========================\n",
      "\tglobal_data_root_parent_path: /home/halechr/cloud/turbo/Data\n",
      "\tsession_context: kdiba_gor01_two_2006-6-07_16-40-19\n",
      "\tsession_basedir: /nfs/turbo/umms-kdiba/Data/KDIBA/gor01/two/2006-6-07_16-40-19\n",
      "__________________________________________________________________\n",
      "basedir: /nfs/turbo/umms-kdiba/Data/KDIBA/gor01/two/2006-6-07_16-40-19\n",
      "active_data_mode_name: kdiba\n",
      "Loading loaded session pickle file results : /nfs/turbo/umms-kdiba/Data/KDIBA/gor01/two/2006-6-07_16-40-19/loadedSessPickle.pkl... done.\n",
      "Loading pickled pipeline success: /nfs/turbo/umms-kdiba/Data/KDIBA/gor01/two/2006-6-07_16-40-19/loadedSessPickle.pkl.\n",
      "properties already present in pickled version. No need to save.\n",
      "pipeline load success!\n",
      "using provided computation_functions_name_includelist: ['pf_computation', 'pfdt_computation', 'firing_rate_trends', 'position_decoding']\n",
      "WARNING: skipping computation because overwrite_extant_results=False and active_computation_results[maze1] already exists and is non-None\n",
      "\t TODO: this will prevent recomputation even when the excludelist/includelist or computation function definitions change. Rework so that this is smarter.\n",
      "WARNING: skipping computation because overwrite_extant_results=False and active_computation_results[maze2] already exists and is non-None\n",
      "\t TODO: this will prevent recomputation even when the excludelist/includelist or computation function definitions change. Rework so that this is smarter.\n",
      "WARNING: skipping computation because overwrite_extant_results=False and active_computation_results[maze] already exists and is non-None\n",
      "\t TODO: this will prevent recomputation even when the excludelist/includelist or computation function definitions change. Rework so that this is smarter.\n",
      "WARNING: saving_mode is SKIP_SAVING so pipeline will not be saved despite calling .save_pipeline(...).\n",
      "saving_mode.shouldSave == False, so not saving at the end of batch_load_session\n",
      "on_complete_success_execution_session(curr_session_context: kdiba_gor01_two_2006-6-07_16-40-19, curr_session_basedir: /nfs/turbo/umms-kdiba/Data/KDIBA/gor01/two/2006-6-07_16-40-19, ...)\n",
      "DEPRICATION WARNING: workaround to allow subscripting ComputationResult objects. Will be depricated. key: computed_data\n",
      "DEPRICATION WARNING: workaround to allow subscripting ComputationResult objects. Will be depricated. key: computed_data\n",
      "DEPRICATION WARNING: workaround to allow subscripting ComputationResult objects. Will be depricated. key: computed_data\n",
      "DEPRICATION WARNING: workaround to allow subscripting ComputationResult objects. Will be depricated. key: computed_data\n",
      "DEPRICATION WARNING: workaround to allow subscripting ComputationResult objects. Will be depricated. key: computed_data\n",
      "DEPRICATION WARNING: workaround to allow subscripting ComputationResult objects. Will be depricated. key: computed_data\n",
      "were pipeline preprocessing parameters missing and updated?: False\n",
      "WARNING: saving_mode is SKIP_SAVING so pipeline will not be saved despite calling .save_pipeline(...).\n",
      "Loading loaded session pickle file results : /nfs/turbo/umms-kdiba/Data/KDIBA/gor01/two/2006-6-07_16-40-19/output/global_computation_results.pkl... done.\n",
      "have an existing `global_computation_results.computation_config`: DynamicContainer({'instantaneous_time_bin_size_seconds': 0.01})\n",
      "included includelist is specified: ['pf_computation', 'pfdt_computation', 'firing_rate_trends', 'position_decoding', 'long_short_decoding_analyses', 'jonathan_firing_rate_analysis', 'long_short_fr_indicies_analyses', 'short_long_pf_overlap_analyses', 'long_short_post_decoding', 'long_short_rate_remapping', 'long_short_inst_spike_rate_groups', 'long_short_endcap_analysis'], so only performing these extended computations.\n",
      "Running batch_extended_computations(...) with global_epoch_name: \"maze\"\n",
      "pf_computation, maze already computed.\n",
      "pfdt_computation, maze already computed.\n",
      "position_decoding, maze already computed.\n",
      "firing_rate_trends, maze already computed.\n",
      "long_short_decoding_analyses, maze already computed.\n",
      "short_long_pf_overlap_analyses, maze already computed.\n",
      "long_short_fr_indicies_analyses, maze already computed.\n",
      "jonathan_firing_rate_analysis, maze already computed.\n",
      "long_short_post_decoding, maze already computed.\n",
      "long_short_inst_spike_rate_groups, maze already computed.\n",
      "long_short_endcap_analysis, maze already computed.\n",
      "WARNING: after execution of all _comp_specifiers found the functions: {'long_short_rate_remapping': False} still remain! Are they correct and do they have proper validator decorators?\n",
      "done with all batch_extended_computations(...).\n",
      "no changes in global results.\n",
      "https://app.neptune.ai/commander.pho/PhoDibaLongShortUpdated/\n",
      "https://app.neptune.ai/commander.pho/PhoDibaLongShortUpdated/e/LS2023-677\n",
      "include_includelist: ['maze1', 'maze2', 'maze']\n",
      "long_epoch_name: maze1, short_epoch_name: maze2, global_epoch_name: maze\n"
     ]
    },
    {
     "name": "stderr",
     "output_type": "stream",
     "text": [
      "/home/halechr/repos/pyPhoPlaceCellAnalysis/src/pyphoplacecellanalysis/General/Pipeline/Stages/DisplayFunctions/MultiContextComparingDisplayFunctions/LongShortTrackComparingDisplayFunctions.py:1209: SettingWithCopyWarning: \n",
      "A value is trying to be set on a copy of a slice from a DataFrame.\n",
      "Try using .loc[row_indexer,col_indexer] = value instead\n",
      "\n",
      "See the caveats in the documentation: https://pandas.pydata.org/pandas-docs/stable/user_guide/indexing.html#returning-a-view-versus-a-copy\n",
      "  cell_df.loc[:, 'x'] = spk_x\n",
      "/home/halechr/repos/pyPhoPlaceCellAnalysis/src/pyphoplacecellanalysis/General/Mixins/CrossComputationComparisonHelpers.py:235: RuntimeWarning: invalid value encountered in divide\n",
      "  _long_to_short_balances = (rdf.num_short_only_neuron_participating.values - rdf.num_long_only_neuron_participating.values) / (rdf.num_short_only_neuron_participating.values + rdf.num_long_only_neuron_participating.values) ## Working but (0, 1, 1) would clip to 0.5 despite (1, 13, 0) going all the way down to -1.0\n",
      "/home/halechr/repos/pyPhoPlaceCellAnalysis/src/pyphoplacecellanalysis/General/Mixins/CrossComputationComparisonHelpers.py:265: RuntimeWarning: invalid value encountered in divide\n",
      "  _long_to_short_balances = (rdf.num_short_only_neuron_participating.values - rdf.num_long_only_neuron_participating.values) / (rdf.num_short_only_neuron_participating.values + rdf.num_long_only_neuron_participating.values) ## Working but (0, 1, 1) would clip to 0.5 despite (1, 13, 0) going all the way down to -1.0\n"
     ]
    },
    {
     "name": "stdout",
     "output_type": "stream",
     "text": [
      "DEPRICATION WARNING: workaround to allow subscripting ComputationResult objects. Will be depricated. key: computed_data\n",
      "\t saved /home/halechr/repos/Spike3D/EXTERNAL/Screenshots/ProgrammaticDisplayFunctionTesting/2023-10-06/kdiba/gor01/two/2006-6-07_16-40-19/BatchPhoJonathanReplayFRC_long_only_(12,21,48).png\n",
      "include_includelist: ['maze1', 'maze2', 'maze']\n",
      "long_epoch_name: maze1, short_epoch_name: maze2, global_epoch_name: maze\n"
     ]
    },
    {
     "name": "stderr",
     "output_type": "stream",
     "text": [
      "/home/halechr/repos/pyPhoPlaceCellAnalysis/src/pyphoplacecellanalysis/General/Pipeline/Stages/DisplayFunctions/MultiContextComparingDisplayFunctions/LongShortTrackComparingDisplayFunctions.py:1209: SettingWithCopyWarning: \n",
      "A value is trying to be set on a copy of a slice from a DataFrame.\n",
      "Try using .loc[row_indexer,col_indexer] = value instead\n",
      "\n",
      "See the caveats in the documentation: https://pandas.pydata.org/pandas-docs/stable/user_guide/indexing.html#returning-a-view-versus-a-copy\n",
      "  cell_df.loc[:, 'x'] = spk_x\n",
      "/home/halechr/repos/pyPhoPlaceCellAnalysis/src/pyphoplacecellanalysis/General/Mixins/CrossComputationComparisonHelpers.py:235: RuntimeWarning: invalid value encountered in divide\n",
      "  _long_to_short_balances = (rdf.num_short_only_neuron_participating.values - rdf.num_long_only_neuron_participating.values) / (rdf.num_short_only_neuron_participating.values + rdf.num_long_only_neuron_participating.values) ## Working but (0, 1, 1) would clip to 0.5 despite (1, 13, 0) going all the way down to -1.0\n",
      "/home/halechr/repos/pyPhoPlaceCellAnalysis/src/pyphoplacecellanalysis/General/Mixins/CrossComputationComparisonHelpers.py:265: RuntimeWarning: invalid value encountered in divide\n",
      "  _long_to_short_balances = (rdf.num_short_only_neuron_participating.values - rdf.num_long_only_neuron_participating.values) / (rdf.num_short_only_neuron_participating.values + rdf.num_long_only_neuron_participating.values) ## Working but (0, 1, 1) would clip to 0.5 despite (1, 13, 0) going all the way down to -1.0\n"
     ]
    },
    {
     "name": "stdout",
     "output_type": "stream",
     "text": [
      "DEPRICATION WARNING: workaround to allow subscripting ComputationResult objects. Will be depricated. key: computed_data\n",
      "\t saved /home/halechr/repos/Spike3D/EXTERNAL/Screenshots/ProgrammaticDisplayFunctionTesting/2023-10-06/kdiba/gor01/two/2006-6-07_16-40-19/BatchPhoJonathanReplayFRC_short_only_(3,18,19,65).png\n",
      "include_includelist: ['maze1', 'maze2', 'maze']\n",
      "long_epoch_name: maze1, short_epoch_name: maze2, global_epoch_name: maze\n"
     ]
    },
    {
     "name": "stderr",
     "output_type": "stream",
     "text": [
      "/home/halechr/repos/pyPhoPlaceCellAnalysis/src/pyphoplacecellanalysis/General/Pipeline/Stages/DisplayFunctions/MultiContextComparingDisplayFunctions/LongShortTrackComparingDisplayFunctions.py:1209: SettingWithCopyWarning: \n",
      "A value is trying to be set on a copy of a slice from a DataFrame.\n",
      "Try using .loc[row_indexer,col_indexer] = value instead\n",
      "\n",
      "See the caveats in the documentation: https://pandas.pydata.org/pandas-docs/stable/user_guide/indexing.html#returning-a-view-versus-a-copy\n",
      "  cell_df.loc[:, 'x'] = spk_x\n",
      "/home/halechr/repos/pyPhoPlaceCellAnalysis/src/pyphoplacecellanalysis/General/Mixins/CrossComputationComparisonHelpers.py:235: RuntimeWarning: invalid value encountered in divide\n",
      "  _long_to_short_balances = (rdf.num_short_only_neuron_participating.values - rdf.num_long_only_neuron_participating.values) / (rdf.num_short_only_neuron_participating.values + rdf.num_long_only_neuron_participating.values) ## Working but (0, 1, 1) would clip to 0.5 despite (1, 13, 0) going all the way down to -1.0\n",
      "/home/halechr/repos/pyPhoPlaceCellAnalysis/src/pyphoplacecellanalysis/General/Mixins/CrossComputationComparisonHelpers.py:265: RuntimeWarning: invalid value encountered in divide\n",
      "  _long_to_short_balances = (rdf.num_short_only_neuron_participating.values - rdf.num_long_only_neuron_participating.values) / (rdf.num_short_only_neuron_participating.values + rdf.num_long_only_neuron_participating.values) ## Working but (0, 1, 1) would clip to 0.5 despite (1, 13, 0) going all the way down to -1.0\n"
     ]
    },
    {
     "name": "stdout",
     "output_type": "stream",
     "text": [
      "DEPRICATION WARNING: workaround to allow subscripting ComputationResult objects. Will be depricated. key: computed_data\n",
      "WARNING: aclu 2 is not present in the `pf1D_all` ratemaps. Which contain aclus: [3, 5, 6, 7, 8, 11, 12, 15, 16, 17, 18, 19, 20, 21, 23, 24, 25, 26, 27, 28, 31, 32, 33, 34, 35, 39, 40, 41, 43, 44, 45, 46, 48, 49, 50, 51, 52, 53, 54, 55, 56, 58, 60, 61, 62, 63, 64, 65]\n",
      "WARNING: aclu 4 is not present in the `pf1D_all` ratemaps. Which contain aclus: [3, 5, 6, 7, 8, 11, 12, 15, 16, 17, 18, 19, 20, 21, 23, 24, 25, 26, 27, 28, 31, 32, 33, 34, 35, 39, 40, 41, 43, 44, 45, 46, 48, 49, 50, 51, 52, 53, 54, 55, 56, 58, 60, 61, 62, 63, 64, 65]\n",
      "WARNING: aclu 9 is not present in the `pf1D_all` ratemaps. Which contain aclus: [3, 5, 6, 7, 8, 11, 12, 15, 16, 17, 18, 19, 20, 21, 23, 24, 25, 26, 27, 28, 31, 32, 33, 34, 35, 39, 40, 41, 43, 44, 45, 46, 48, 49, 50, 51, 52, 53, 54, 55, 56, 58, 60, 61, 62, 63, 64, 65]\n",
      "WARNING: aclu 10 is not present in the `pf1D_all` ratemaps. Which contain aclus: [3, 5, 6, 7, 8, 11, 12, 15, 16, 17, 18, 19, 20, 21, 23, 24, 25, 26, 27, 28, 31, 32, 33, 34, 35, 39, 40, 41, 43, 44, 45, 46, 48, 49, 50, 51, 52, 53, 54, 55, 56, 58, 60, 61, 62, 63, 64, 65]\n",
      "WARNING: aclu 13 is not present in the `pf1D_all` ratemaps. Which contain aclus: [3, 5, 6, 7, 8, 11, 12, 15, 16, 17, 18, 19, 20, 21, 23, 24, 25, 26, 27, 28, 31, 32, 33, 34, 35, 39, 40, 41, 43, 44, 45, 46, 48, 49, 50, 51, 52, 53, 54, 55, 56, 58, 60, 61, 62, 63, 64, 65]\n",
      "\t saved /home/halechr/repos/Spike3D/EXTERNAL/Screenshots/ProgrammaticDisplayFunctionTesting/2023-10-06/kdiba/gor01/two/2006-6-07_16-40-19/BatchPhoJonathanReplayFRC_shared_1of6_(2,4,5,6,7,8,9,10,11,13).png\n",
      "include_includelist: ['maze1', 'maze2', 'maze']\n",
      "long_epoch_name: maze1, short_epoch_name: maze2, global_epoch_name: maze\n"
     ]
    },
    {
     "name": "stderr",
     "output_type": "stream",
     "text": [
      "/home/halechr/repos/pyPhoPlaceCellAnalysis/src/pyphoplacecellanalysis/General/Pipeline/Stages/DisplayFunctions/MultiContextComparingDisplayFunctions/LongShortTrackComparingDisplayFunctions.py:1209: SettingWithCopyWarning: \n",
      "A value is trying to be set on a copy of a slice from a DataFrame.\n",
      "Try using .loc[row_indexer,col_indexer] = value instead\n",
      "\n",
      "See the caveats in the documentation: https://pandas.pydata.org/pandas-docs/stable/user_guide/indexing.html#returning-a-view-versus-a-copy\n",
      "  cell_df.loc[:, 'x'] = spk_x\n",
      "/home/halechr/repos/pyPhoPlaceCellAnalysis/src/pyphoplacecellanalysis/General/Mixins/CrossComputationComparisonHelpers.py:235: RuntimeWarning: invalid value encountered in divide\n",
      "  _long_to_short_balances = (rdf.num_short_only_neuron_participating.values - rdf.num_long_only_neuron_participating.values) / (rdf.num_short_only_neuron_participating.values + rdf.num_long_only_neuron_participating.values) ## Working but (0, 1, 1) would clip to 0.5 despite (1, 13, 0) going all the way down to -1.0\n",
      "/home/halechr/repos/pyPhoPlaceCellAnalysis/src/pyphoplacecellanalysis/General/Mixins/CrossComputationComparisonHelpers.py:265: RuntimeWarning: invalid value encountered in divide\n",
      "  _long_to_short_balances = (rdf.num_short_only_neuron_participating.values - rdf.num_long_only_neuron_participating.values) / (rdf.num_short_only_neuron_participating.values + rdf.num_long_only_neuron_participating.values) ## Working but (0, 1, 1) would clip to 0.5 despite (1, 13, 0) going all the way down to -1.0\n"
     ]
    },
    {
     "name": "stdout",
     "output_type": "stream",
     "text": [
      "DEPRICATION WARNING: workaround to allow subscripting ComputationResult objects. Will be depricated. key: computed_data\n",
      "WARNING: aclu 14 is not present in the `pf1D_all` ratemaps. Which contain aclus: [3, 5, 6, 7, 8, 11, 12, 15, 16, 17, 18, 19, 20, 21, 23, 24, 25, 26, 27, 28, 31, 32, 33, 34, 35, 39, 40, 41, 43, 44, 45, 46, 48, 49, 50, 51, 52, 53, 54, 55, 56, 58, 60, 61, 62, 63, 64, 65]\n",
      "WARNING: aclu 22 is not present in the `pf1D_all` ratemaps. Which contain aclus: [3, 5, 6, 7, 8, 11, 12, 15, 16, 17, 18, 19, 20, 21, 23, 24, 25, 26, 27, 28, 31, 32, 33, 34, 35, 39, 40, 41, 43, 44, 45, 46, 48, 49, 50, 51, 52, 53, 54, 55, 56, 58, 60, 61, 62, 63, 64, 65]\n",
      "\t saved /home/halechr/repos/Spike3D/EXTERNAL/Screenshots/ProgrammaticDisplayFunctionTesting/2023-10-06/kdiba/gor01/two/2006-6-07_16-40-19/BatchPhoJonathanReplayFRC_shared_2of6_(14,15,16,17,20,22,23,24,25,26).png\n",
      "include_includelist: ['maze1', 'maze2', 'maze']\n",
      "long_epoch_name: maze1, short_epoch_name: maze2, global_epoch_name: maze\n"
     ]
    },
    {
     "name": "stderr",
     "output_type": "stream",
     "text": [
      "/home/halechr/repos/pyPhoPlaceCellAnalysis/src/pyphoplacecellanalysis/General/Pipeline/Stages/DisplayFunctions/MultiContextComparingDisplayFunctions/LongShortTrackComparingDisplayFunctions.py:1209: SettingWithCopyWarning: \n",
      "A value is trying to be set on a copy of a slice from a DataFrame.\n",
      "Try using .loc[row_indexer,col_indexer] = value instead\n",
      "\n",
      "See the caveats in the documentation: https://pandas.pydata.org/pandas-docs/stable/user_guide/indexing.html#returning-a-view-versus-a-copy\n",
      "  cell_df.loc[:, 'x'] = spk_x\n",
      "/home/halechr/repos/pyPhoPlaceCellAnalysis/src/pyphoplacecellanalysis/General/Mixins/CrossComputationComparisonHelpers.py:235: RuntimeWarning: invalid value encountered in divide\n",
      "  _long_to_short_balances = (rdf.num_short_only_neuron_participating.values - rdf.num_long_only_neuron_participating.values) / (rdf.num_short_only_neuron_participating.values + rdf.num_long_only_neuron_participating.values) ## Working but (0, 1, 1) would clip to 0.5 despite (1, 13, 0) going all the way down to -1.0\n",
      "/home/halechr/repos/pyPhoPlaceCellAnalysis/src/pyphoplacecellanalysis/General/Mixins/CrossComputationComparisonHelpers.py:265: RuntimeWarning: invalid value encountered in divide\n",
      "  _long_to_short_balances = (rdf.num_short_only_neuron_participating.values - rdf.num_long_only_neuron_participating.values) / (rdf.num_short_only_neuron_participating.values + rdf.num_long_only_neuron_participating.values) ## Working but (0, 1, 1) would clip to 0.5 despite (1, 13, 0) going all the way down to -1.0\n"
     ]
    },
    {
     "name": "stdout",
     "output_type": "stream",
     "text": [
      "DEPRICATION WARNING: workaround to allow subscripting ComputationResult objects. Will be depricated. key: computed_data\n",
      "WARNING: aclu 29 is not present in the `pf1D_all` ratemaps. Which contain aclus: [3, 5, 6, 7, 8, 11, 12, 15, 16, 17, 18, 19, 20, 21, 23, 24, 25, 26, 27, 28, 31, 32, 33, 34, 35, 39, 40, 41, 43, 44, 45, 46, 48, 49, 50, 51, 52, 53, 54, 55, 56, 58, 60, 61, 62, 63, 64, 65]\n",
      "WARNING: aclu 30 is not present in the `pf1D_all` ratemaps. Which contain aclus: [3, 5, 6, 7, 8, 11, 12, 15, 16, 17, 18, 19, 20, 21, 23, 24, 25, 26, 27, 28, 31, 32, 33, 34, 35, 39, 40, 41, 43, 44, 45, 46, 48, 49, 50, 51, 52, 53, 54, 55, 56, 58, 60, 61, 62, 63, 64, 65]\n",
      "WARNING: aclu 36 is not present in the `pf1D_all` ratemaps. Which contain aclus: [3, 5, 6, 7, 8, 11, 12, 15, 16, 17, 18, 19, 20, 21, 23, 24, 25, 26, 27, 28, 31, 32, 33, 34, 35, 39, 40, 41, 43, 44, 45, 46, 48, 49, 50, 51, 52, 53, 54, 55, 56, 58, 60, 61, 62, 63, 64, 65]\n",
      "\t saved /home/halechr/repos/Spike3D/EXTERNAL/Screenshots/ProgrammaticDisplayFunctionTesting/2023-10-06/kdiba/gor01/two/2006-6-07_16-40-19/BatchPhoJonathanReplayFRC_shared_3of6_(27,28,29,30,31,32,33,34,35,36).png\n",
      "include_includelist: ['maze1', 'maze2', 'maze']\n",
      "long_epoch_name: maze1, short_epoch_name: maze2, global_epoch_name: maze\n"
     ]
    },
    {
     "name": "stderr",
     "output_type": "stream",
     "text": [
      "/home/halechr/repos/pyPhoPlaceCellAnalysis/src/pyphoplacecellanalysis/General/Pipeline/Stages/DisplayFunctions/MultiContextComparingDisplayFunctions/LongShortTrackComparingDisplayFunctions.py:1209: SettingWithCopyWarning: \n",
      "A value is trying to be set on a copy of a slice from a DataFrame.\n",
      "Try using .loc[row_indexer,col_indexer] = value instead\n",
      "\n",
      "See the caveats in the documentation: https://pandas.pydata.org/pandas-docs/stable/user_guide/indexing.html#returning-a-view-versus-a-copy\n",
      "  cell_df.loc[:, 'x'] = spk_x\n",
      "/home/halechr/repos/pyPhoPlaceCellAnalysis/src/pyphoplacecellanalysis/General/Mixins/CrossComputationComparisonHelpers.py:235: RuntimeWarning: invalid value encountered in divide\n",
      "  _long_to_short_balances = (rdf.num_short_only_neuron_participating.values - rdf.num_long_only_neuron_participating.values) / (rdf.num_short_only_neuron_participating.values + rdf.num_long_only_neuron_participating.values) ## Working but (0, 1, 1) would clip to 0.5 despite (1, 13, 0) going all the way down to -1.0\n",
      "/home/halechr/repos/pyPhoPlaceCellAnalysis/src/pyphoplacecellanalysis/General/Mixins/CrossComputationComparisonHelpers.py:265: RuntimeWarning: invalid value encountered in divide\n",
      "  _long_to_short_balances = (rdf.num_short_only_neuron_participating.values - rdf.num_long_only_neuron_participating.values) / (rdf.num_short_only_neuron_participating.values + rdf.num_long_only_neuron_participating.values) ## Working but (0, 1, 1) would clip to 0.5 despite (1, 13, 0) going all the way down to -1.0\n"
     ]
    },
    {
     "name": "stdout",
     "output_type": "stream",
     "text": [
      "DEPRICATION WARNING: workaround to allow subscripting ComputationResult objects. Will be depricated. key: computed_data\n",
      "WARNING: aclu 37 is not present in the `pf1D_all` ratemaps. Which contain aclus: [3, 5, 6, 7, 8, 11, 12, 15, 16, 17, 18, 19, 20, 21, 23, 24, 25, 26, 27, 28, 31, 32, 33, 34, 35, 39, 40, 41, 43, 44, 45, 46, 48, 49, 50, 51, 52, 53, 54, 55, 56, 58, 60, 61, 62, 63, 64, 65]\n",
      "WARNING: aclu 38 is not present in the `pf1D_all` ratemaps. Which contain aclus: [3, 5, 6, 7, 8, 11, 12, 15, 16, 17, 18, 19, 20, 21, 23, 24, 25, 26, 27, 28, 31, 32, 33, 34, 35, 39, 40, 41, 43, 44, 45, 46, 48, 49, 50, 51, 52, 53, 54, 55, 56, 58, 60, 61, 62, 63, 64, 65]\n",
      "WARNING: aclu 42 is not present in the `pf1D_all` ratemaps. Which contain aclus: [3, 5, 6, 7, 8, 11, 12, 15, 16, 17, 18, 19, 20, 21, 23, 24, 25, 26, 27, 28, 31, 32, 33, 34, 35, 39, 40, 41, 43, 44, 45, 46, 48, 49, 50, 51, 52, 53, 54, 55, 56, 58, 60, 61, 62, 63, 64, 65]\n",
      "\t saved /home/halechr/repos/Spike3D/EXTERNAL/Screenshots/ProgrammaticDisplayFunctionTesting/2023-10-06/kdiba/gor01/two/2006-6-07_16-40-19/BatchPhoJonathanReplayFRC_shared_4of6_(37,38,39,40,41,42,43,44,45,46).png\n",
      "include_includelist: ['maze1', 'maze2', 'maze']\n",
      "long_epoch_name: maze1, short_epoch_name: maze2, global_epoch_name: maze\n"
     ]
    },
    {
     "name": "stderr",
     "output_type": "stream",
     "text": [
      "/home/halechr/repos/pyPhoPlaceCellAnalysis/src/pyphoplacecellanalysis/General/Pipeline/Stages/DisplayFunctions/MultiContextComparingDisplayFunctions/LongShortTrackComparingDisplayFunctions.py:1209: SettingWithCopyWarning: \n",
      "A value is trying to be set on a copy of a slice from a DataFrame.\n",
      "Try using .loc[row_indexer,col_indexer] = value instead\n",
      "\n",
      "See the caveats in the documentation: https://pandas.pydata.org/pandas-docs/stable/user_guide/indexing.html#returning-a-view-versus-a-copy\n",
      "  cell_df.loc[:, 'x'] = spk_x\n",
      "/home/halechr/repos/pyPhoPlaceCellAnalysis/src/pyphoplacecellanalysis/General/Mixins/CrossComputationComparisonHelpers.py:235: RuntimeWarning: invalid value encountered in divide\n",
      "  _long_to_short_balances = (rdf.num_short_only_neuron_participating.values - rdf.num_long_only_neuron_participating.values) / (rdf.num_short_only_neuron_participating.values + rdf.num_long_only_neuron_participating.values) ## Working but (0, 1, 1) would clip to 0.5 despite (1, 13, 0) going all the way down to -1.0\n",
      "/home/halechr/repos/pyPhoPlaceCellAnalysis/src/pyphoplacecellanalysis/General/Mixins/CrossComputationComparisonHelpers.py:265: RuntimeWarning: invalid value encountered in divide\n",
      "  _long_to_short_balances = (rdf.num_short_only_neuron_participating.values - rdf.num_long_only_neuron_participating.values) / (rdf.num_short_only_neuron_participating.values + rdf.num_long_only_neuron_participating.values) ## Working but (0, 1, 1) would clip to 0.5 despite (1, 13, 0) going all the way down to -1.0\n"
     ]
    },
    {
     "name": "stdout",
     "output_type": "stream",
     "text": [
      "DEPRICATION WARNING: workaround to allow subscripting ComputationResult objects. Will be depricated. key: computed_data\n",
      "WARNING: aclu 47 is not present in the `pf1D_all` ratemaps. Which contain aclus: [3, 5, 6, 7, 8, 11, 12, 15, 16, 17, 18, 19, 20, 21, 23, 24, 25, 26, 27, 28, 31, 32, 33, 34, 35, 39, 40, 41, 43, 44, 45, 46, 48, 49, 50, 51, 52, 53, 54, 55, 56, 58, 60, 61, 62, 63, 64, 65]\n",
      "WARNING: aclu 57 is not present in the `pf1D_all` ratemaps. Which contain aclus: [3, 5, 6, 7, 8, 11, 12, 15, 16, 17, 18, 19, 20, 21, 23, 24, 25, 26, 27, 28, 31, 32, 33, 34, 35, 39, 40, 41, 43, 44, 45, 46, 48, 49, 50, 51, 52, 53, 54, 55, 56, 58, 60, 61, 62, 63, 64, 65]\n",
      "\t saved /home/halechr/repos/Spike3D/EXTERNAL/Screenshots/ProgrammaticDisplayFunctionTesting/2023-10-06/kdiba/gor01/two/2006-6-07_16-40-19/BatchPhoJonathanReplayFRC_shared_5of6_(47,49,50,51,52,53,54,55,56,57).png\n",
      "include_includelist: ['maze1', 'maze2', 'maze']\n",
      "long_epoch_name: maze1, short_epoch_name: maze2, global_epoch_name: maze\n"
     ]
    },
    {
     "name": "stderr",
     "output_type": "stream",
     "text": [
      "/home/halechr/repos/pyPhoPlaceCellAnalysis/src/pyphoplacecellanalysis/General/Pipeline/Stages/DisplayFunctions/MultiContextComparingDisplayFunctions/LongShortTrackComparingDisplayFunctions.py:1209: SettingWithCopyWarning: \n",
      "A value is trying to be set on a copy of a slice from a DataFrame.\n",
      "Try using .loc[row_indexer,col_indexer] = value instead\n",
      "\n",
      "See the caveats in the documentation: https://pandas.pydata.org/pandas-docs/stable/user_guide/indexing.html#returning-a-view-versus-a-copy\n",
      "  cell_df.loc[:, 'x'] = spk_x\n",
      "/home/halechr/repos/pyPhoPlaceCellAnalysis/src/pyphoplacecellanalysis/General/Mixins/CrossComputationComparisonHelpers.py:235: RuntimeWarning: invalid value encountered in divide\n",
      "  _long_to_short_balances = (rdf.num_short_only_neuron_participating.values - rdf.num_long_only_neuron_participating.values) / (rdf.num_short_only_neuron_participating.values + rdf.num_long_only_neuron_participating.values) ## Working but (0, 1, 1) would clip to 0.5 despite (1, 13, 0) going all the way down to -1.0\n",
      "/home/halechr/repos/pyPhoPlaceCellAnalysis/src/pyphoplacecellanalysis/General/Mixins/CrossComputationComparisonHelpers.py:265: RuntimeWarning: invalid value encountered in divide\n",
      "  _long_to_short_balances = (rdf.num_short_only_neuron_participating.values - rdf.num_long_only_neuron_participating.values) / (rdf.num_short_only_neuron_participating.values + rdf.num_long_only_neuron_participating.values) ## Working but (0, 1, 1) would clip to 0.5 despite (1, 13, 0) going all the way down to -1.0\n"
     ]
    },
    {
     "name": "stdout",
     "output_type": "stream",
     "text": [
      "DEPRICATION WARNING: workaround to allow subscripting ComputationResult objects. Will be depricated. key: computed_data\n",
      "WARNING: aclu 59 is not present in the `pf1D_all` ratemaps. Which contain aclus: [3, 5, 6, 7, 8, 11, 12, 15, 16, 17, 18, 19, 20, 21, 23, 24, 25, 26, 27, 28, 31, 32, 33, 34, 35, 39, 40, 41, 43, 44, 45, 46, 48, 49, 50, 51, 52, 53, 54, 55, 56, 58, 60, 61, 62, 63, 64, 65]\n"
     ]
    },
    {
     "name": "stderr",
     "output_type": "stream",
     "text": [
      "WARNING: when normalize_tuning_curve=True pad will be set to 1, the current value of pad=2 will be overriden.\n"
     ]
    },
    {
     "name": "stdout",
     "output_type": "stream",
     "text": [
      "\t saved /home/halechr/repos/Spike3D/EXTERNAL/Screenshots/ProgrammaticDisplayFunctionTesting/2023-10-06/kdiba/gor01/two/2006-6-07_16-40-19/BatchPhoJonathanReplayFRC_shared_6of6_(58,59,60,61,62,63,64).png\n"
     ]
    },
    {
     "name": "stderr",
     "output_type": "stream",
     "text": [
      "/home/halechr/repos/pyPhoPlaceCellAnalysis/src/pyphoplacecellanalysis/General/Pipeline/Stages/DisplayFunctions/Ratemaps.py:63: UserWarning: FigureCanvasAgg is non-interactive, and thus cannot be shown\n",
      "  active_figure.show()\n",
      "WARNING: when normalize_tuning_curve=True pad will be set to 1, the current value of pad=2 will be overriden.\n"
     ]
    },
    {
     "name": "stdout",
     "output_type": "stream",
     "text": [
      "\t saved /home/halechr/repos/Spike3D/EXTERNAL/Screenshots/ProgrammaticDisplayFunctionTesting/2023-10-06/kdiba/gor01/two/2006-6-07_16-40-19/maze1_1d_placefields.png\n"
     ]
    },
    {
     "name": "stderr",
     "output_type": "stream",
     "text": [
      "/home/halechr/repos/pyPhoPlaceCellAnalysis/src/pyphoplacecellanalysis/General/Pipeline/Stages/DisplayFunctions/Ratemaps.py:63: UserWarning: FigureCanvasAgg is non-interactive, and thus cannot be shown\n",
      "  active_figure.show()\n",
      "WARNING: when normalize_tuning_curve=True pad will be set to 1, the current value of pad=2 will be overriden.\n"
     ]
    },
    {
     "name": "stdout",
     "output_type": "stream",
     "text": [
      "\t saved /home/halechr/repos/Spike3D/EXTERNAL/Screenshots/ProgrammaticDisplayFunctionTesting/2023-10-06/kdiba/gor01/two/2006-6-07_16-40-19/maze2_1d_placefields.png\n"
     ]
    },
    {
     "name": "stderr",
     "output_type": "stream",
     "text": [
      "/home/halechr/repos/pyPhoPlaceCellAnalysis/src/pyphoplacecellanalysis/General/Pipeline/Stages/DisplayFunctions/Ratemaps.py:63: UserWarning: FigureCanvasAgg is non-interactive, and thus cannot be shown\n",
      "  active_figure.show()\n"
     ]
    },
    {
     "name": "stdout",
     "output_type": "stream",
     "text": [
      "\t saved /home/halechr/repos/Spike3D/EXTERNAL/Screenshots/ProgrammaticDisplayFunctionTesting/2023-10-06/kdiba/gor01/two/2006-6-07_16-40-19/maze_1d_placefields.png\n"
     ]
    },
    {
     "name": "stderr",
     "output_type": "stream",
     "text": [
      "/home/halechr/repos/pyPhoPlaceCellAnalysis/src/pyphoplacecellanalysis/General/Mixins/ExportHelpers.py:669: UserWarning: This figure includes Axes that are not compatible with tight_layout, so results might be incorrect.\n",
      "  a_fig.savefig(fig_png_out_path)\n"
     ]
    },
    {
     "name": "stdout",
     "output_type": "stream",
     "text": [
      "\t saved /home/halechr/repos/Spike3D/EXTERNAL/Screenshots/ProgrammaticDisplayFunctionTesting/2023-10-06/kdiba/gor01/two/2006-6-07_16-40-19/maze1__display_2d_placefield_result_plot_ratemaps_2D.png\n",
      "\t saved /home/halechr/repos/Spike3D/EXTERNAL/Screenshots/ProgrammaticDisplayFunctionTesting/2023-10-06/kdiba/gor01/two/2006-6-07_16-40-19/maze2__display_2d_placefield_result_plot_ratemaps_2D.png\n",
      "\t saved /home/halechr/repos/Spike3D/EXTERNAL/Screenshots/ProgrammaticDisplayFunctionTesting/2023-10-06/kdiba/gor01/two/2006-6-07_16-40-19/maze__display_2d_placefield_result_plot_ratemaps_2D.png\n",
      "\t saved /home/halechr/repos/Spike3D/EXTERNAL/Screenshots/ProgrammaticDisplayFunctionTesting/2023-10-06/kdiba/gor01/two/2006-6-07_16-40-19/maze1_plot_occupancy_OCCUPANCY.png\n",
      "\t saved /home/halechr/repos/Spike3D/EXTERNAL/Screenshots/ProgrammaticDisplayFunctionTesting/2023-10-06/kdiba/gor01/two/2006-6-07_16-40-19/maze2_plot_occupancy_OCCUPANCY.png\n",
      "\t saved /home/halechr/repos/Spike3D/EXTERNAL/Screenshots/ProgrammaticDisplayFunctionTesting/2023-10-06/kdiba/gor01/two/2006-6-07_16-40-19/maze_plot_occupancy_OCCUPANCY.png\n",
      "\t saved /home/halechr/repos/Spike3D/EXTERNAL/Screenshots/ProgrammaticDisplayFunctionTesting/2023-10-06/kdiba/gor01/two/2006-6-07_16-40-19/long_short_firing_rate_indicies_display_long_short_laps.png\n",
      "global_y_min_SHORT: 0.0, global_y_max_SHORT: 6.586943965345423\n",
      "global_y_min_LONG: 0.0, global_y_max_LONG: 6.395632616811743\n",
      "global_y_min: 0.0, global_y_max: 6.586943965345423\n",
      "batch_extended_programmatic_figures(...): _prepare_plot_expected_vs_observed failed with error: 'green' is not a valid color value.\n",
      " skipping.\n",
      "\t saved /home/halechr/repos/Spike3D/EXTERNAL/Screenshots/ProgrammaticDisplayFunctionTesting/2023-10-06/kdiba/gor01/two/2006-6-07_16-40-19/_display_grid_bin_bounds_validation.png\n",
      "batch_extended_programmatic_figures(...): _display_running_and_replay_speeds_over_time failed with error: 'green' is not a valid color value.\n",
      " skipping.\n",
      "batch_extended_programmatic_figures(...): _display_long_short_laps failed with error: plot_position_curves_figure() got an unexpected keyword argument 'active_config_name'\n",
      " skipping.\n"
     ]
    },
    {
     "name": "stderr",
     "output_type": "stream",
     "text": [
      "/home/halechr/repos/pyPhoPlaceCellAnalysis/src/pyphoplacecellanalysis/General/Pipeline/Stages/DisplayFunctions/MultiContextComparingDisplayFunctions/LongShortTrackComparingDisplayFunctions.py:643: RuntimeWarning: More than 20 figures have been opened. Figures created through the pyplot interface (`matplotlib.pyplot.figure`) are retained until explicitly closed and may consume too much memory. (To control this warning, see the rcParam `figure.max_open_warning`). Consider using `matplotlib.pyplot.close()`.\n",
      "  fig, (ax1, ax2) = plt.subplots(nrows=2, ncols=1, figsize=(12, 10), sharex=True)\n",
      "/home/halechr/repos/pyPhoPlaceCellAnalysis/src/pyphoplacecellanalysis/General/Pipeline/Stages/DisplayFunctions/MultiContextComparingDisplayFunctions/LongShortTrackComparingDisplayFunctions.py:2556: UserWarning: FigureCanvasAgg is non-interactive, and thus cannot be shown\n",
      "  fig.show()\n",
      "/home/halechr/repos/pyPhoPlaceCellAnalysis/src/pyphoplacecellanalysis/General/Pipeline/Stages/DisplayFunctions/MultiContextComparingDisplayFunctions/LongShortTrackComparingDisplayFunctions.py:2556: UserWarning: FigureCanvasAgg is non-interactive, and thus cannot be shown\n",
      "  fig.show()\n"
     ]
    },
    {
     "name": "stdout",
     "output_type": "stream",
     "text": [
      "\t saved /home/halechr/repos/Spike3D/EXTERNAL/Screenshots/ProgrammaticDisplayFunctionTesting/2023-10-06/kdiba/gor01/two/2006-6-07_16-40-19/maze1_plot_single_track_firing_rate_compare.png\n",
      "\t saved /home/halechr/repos/Spike3D/EXTERNAL/Screenshots/ProgrammaticDisplayFunctionTesting/2023-10-06/kdiba/gor01/two/2006-6-07_16-40-19/maze2_plot_single_track_firing_rate_compare.png\n",
      "WARNING: fignum will be ignored but it was specified as fignum=\"Short v Long pf1D Comparison\"!\n",
      "DEPRICATION WARNING: workaround to allow subscripting ComputationResult objects. Will be depricated. key: computed_data\n",
      "DEPRICATION WARNING: workaround to allow subscripting ComputationResult objects. Will be depricated. key: computed_data\n",
      "DEBUG: new_all_aclus_sort_indicies: [21  6 14 27 45  8 12 41  7 36 31 35 38 42 34 19 17 33 20  1 26 44 43  5\n",
      " 18 39 30  3 15 37  9  2 40 23 24 22  4 32 13 16 25 46 29 28  0 47 11 10]\n",
      "active_context: kdiba_gor01_two_2006-6-07_16-40-19\n",
      "\t saved /home/halechr/repos/Spike3D/EXTERNAL/Screenshots/ProgrammaticDisplayFunctionTesting/2023-10-06/kdiba/gor01/two/2006-6-07_16-40-19/display_short_long_pf1D_comparison_long.png\n",
      "\t saved /home/halechr/repos/Spike3D/EXTERNAL/Screenshots/ProgrammaticDisplayFunctionTesting/2023-10-06/kdiba/gor01/two/2006-6-07_16-40-19/display_short_long_pf1D_comparison_short.png\n"
     ]
    },
    {
     "name": "stderr",
     "output_type": "stream",
     "text": [
      "/home/halechr/repos/pyPhoPlaceCellAnalysis/src/pyphoplacecellanalysis/Pho2D/matplotlib/CustomMatplotlibWidget.py:168: UserWarning: constrained_layout not applied because axes sizes collapsed to zero.  Try making figure larger or axes decorations smaller.\n",
      "  self.ui.canvas.draw()\n"
     ]
    },
    {
     "name": "stdout",
     "output_type": "stream",
     "text": [
      "\t saved /home/halechr/repos/Spike3D/EXTERNAL/Screenshots/ProgrammaticDisplayFunctionTesting/2023-10-06/kdiba/gor01/two/2006-6-07_16-40-19/DecodedEpochSlices_replays_long_results_obj.png\n"
     ]
    },
    {
     "name": "stderr",
     "output_type": "stream",
     "text": [
      "/home/halechr/repos/pyPhoPlaceCellAnalysis/src/pyphoplacecellanalysis/Pho2D/matplotlib/CustomMatplotlibWidget.py:168: UserWarning: constrained_layout not applied because axes sizes collapsed to zero.  Try making figure larger or axes decorations smaller.\n",
      "  self.ui.canvas.draw()\n"
     ]
    },
    {
     "name": "stdout",
     "output_type": "stream",
     "text": [
      "\t saved /home/halechr/repos/Spike3D/EXTERNAL/Screenshots/ProgrammaticDisplayFunctionTesting/2023-10-06/kdiba/gor01/two/2006-6-07_16-40-19/DecodedEpochSlices_replays_short_results_obj.png\n",
      "DEPRICATION WARNING: workaround to allow subscripting ComputationResult objects. Will be depricated. key: computed_data\n",
      "DEPRICATION WARNING: workaround to allow subscripting ComputationResult objects. Will be depricated. key: computed_data\n",
      "DEPRICATION WARNING: workaround to allow subscripting ComputationResult objects. Will be depricated. key: computed_data\n",
      "batch_extended_programmatic_figures(...): export_active_relative_entropy_results_videos failed with error: 'extended_stats'\n",
      " skipping.\n",
      "DEPRICATION WARNING: workaround to allow subscripting ComputationResult objects. Will be depricated. key: computed_data\n",
      "DEPRICATION WARNING: workaround to allow subscripting ComputationResult objects. Will be depricated. key: computed_data\n",
      "DEPRICATION WARNING: workaround to allow subscripting ComputationResult objects. Will be depricated. key: computed_data\n",
      "WARN: 2023-09-28 16:15: - [ ] fix the combination properties. Would work if we directly used the computed _is_L_only and _is_S_only above\n",
      "include_includelist: ['maze1', 'maze2', 'maze']\n",
      "long_epoch_name: maze1, short_epoch_name: maze2, global_epoch_name: maze\n"
     ]
    },
    {
     "name": "stderr",
     "output_type": "stream",
     "text": [
      "/home/halechr/repos/pyPhoPlaceCellAnalysis/src/pyphoplacecellanalysis/General/Pipeline/Stages/DisplayFunctions/MultiContextComparingDisplayFunctions/LongShortTrackComparingDisplayFunctions.py:1209: SettingWithCopyWarning: \n",
      "A value is trying to be set on a copy of a slice from a DataFrame.\n",
      "Try using .loc[row_indexer,col_indexer] = value instead\n",
      "\n",
      "See the caveats in the documentation: https://pandas.pydata.org/pandas-docs/stable/user_guide/indexing.html#returning-a-view-versus-a-copy\n",
      "  cell_df.loc[:, 'x'] = spk_x\n",
      "/home/halechr/repos/pyPhoPlaceCellAnalysis/src/pyphoplacecellanalysis/General/Mixins/CrossComputationComparisonHelpers.py:235: RuntimeWarning: invalid value encountered in divide\n",
      "  _long_to_short_balances = (rdf.num_short_only_neuron_participating.values - rdf.num_long_only_neuron_participating.values) / (rdf.num_short_only_neuron_participating.values + rdf.num_long_only_neuron_participating.values) ## Working but (0, 1, 1) would clip to 0.5 despite (1, 13, 0) going all the way down to -1.0\n",
      "/home/halechr/repos/pyPhoPlaceCellAnalysis/src/pyphoplacecellanalysis/General/Mixins/CrossComputationComparisonHelpers.py:265: RuntimeWarning: invalid value encountered in divide\n",
      "  _long_to_short_balances = (rdf.num_short_only_neuron_participating.values - rdf.num_long_only_neuron_participating.values) / (rdf.num_short_only_neuron_participating.values + rdf.num_long_only_neuron_participating.values) ## Working but (0, 1, 1) would clip to 0.5 despite (1, 13, 0) going all the way down to -1.0\n"
     ]
    },
    {
     "name": "stdout",
     "output_type": "stream",
     "text": [
      "DEPRICATION WARNING: workaround to allow subscripting ComputationResult objects. Will be depricated. key: computed_data\n",
      "\t saved /home/halechr/repos/Spike3D/EXTERNAL/Screenshots/ProgrammaticDisplayFunctionTesting/2023-10-06/kdiba/gor01/two/2006-6-07_16-40-19/BatchPhoJonathanReplayFRC_long_only_(12,48,21).png\n",
      "include_includelist: ['maze1', 'maze2', 'maze']\n",
      "long_epoch_name: maze1, short_epoch_name: maze2, global_epoch_name: maze\n"
     ]
    },
    {
     "name": "stderr",
     "output_type": "stream",
     "text": [
      "/home/halechr/repos/pyPhoPlaceCellAnalysis/src/pyphoplacecellanalysis/General/Pipeline/Stages/DisplayFunctions/MultiContextComparingDisplayFunctions/LongShortTrackComparingDisplayFunctions.py:1209: SettingWithCopyWarning: \n",
      "A value is trying to be set on a copy of a slice from a DataFrame.\n",
      "Try using .loc[row_indexer,col_indexer] = value instead\n",
      "\n",
      "See the caveats in the documentation: https://pandas.pydata.org/pandas-docs/stable/user_guide/indexing.html#returning-a-view-versus-a-copy\n",
      "  cell_df.loc[:, 'x'] = spk_x\n",
      "/home/halechr/repos/pyPhoPlaceCellAnalysis/src/pyphoplacecellanalysis/General/Mixins/CrossComputationComparisonHelpers.py:235: RuntimeWarning: invalid value encountered in divide\n",
      "  _long_to_short_balances = (rdf.num_short_only_neuron_participating.values - rdf.num_long_only_neuron_participating.values) / (rdf.num_short_only_neuron_participating.values + rdf.num_long_only_neuron_participating.values) ## Working but (0, 1, 1) would clip to 0.5 despite (1, 13, 0) going all the way down to -1.0\n",
      "/home/halechr/repos/pyPhoPlaceCellAnalysis/src/pyphoplacecellanalysis/General/Mixins/CrossComputationComparisonHelpers.py:265: RuntimeWarning: invalid value encountered in divide\n",
      "  _long_to_short_balances = (rdf.num_short_only_neuron_participating.values - rdf.num_long_only_neuron_participating.values) / (rdf.num_short_only_neuron_participating.values + rdf.num_long_only_neuron_participating.values) ## Working but (0, 1, 1) would clip to 0.5 despite (1, 13, 0) going all the way down to -1.0\n"
     ]
    },
    {
     "name": "stdout",
     "output_type": "stream",
     "text": [
      "DEPRICATION WARNING: workaround to allow subscripting ComputationResult objects. Will be depricated. key: computed_data\n",
      "\t saved /home/halechr/repos/Spike3D/EXTERNAL/Screenshots/ProgrammaticDisplayFunctionTesting/2023-10-06/kdiba/gor01/two/2006-6-07_16-40-19/BatchPhoJonathanReplayFRC_short_only_(3,18,19,65).png\n",
      "include_includelist: ['maze1', 'maze2', 'maze']\n",
      "long_epoch_name: maze1, short_epoch_name: maze2, global_epoch_name: maze\n"
     ]
    },
    {
     "name": "stderr",
     "output_type": "stream",
     "text": [
      "/home/halechr/repos/pyPhoPlaceCellAnalysis/src/pyphoplacecellanalysis/General/Pipeline/Stages/DisplayFunctions/MultiContextComparingDisplayFunctions/LongShortTrackComparingDisplayFunctions.py:1209: SettingWithCopyWarning: \n",
      "A value is trying to be set on a copy of a slice from a DataFrame.\n",
      "Try using .loc[row_indexer,col_indexer] = value instead\n",
      "\n",
      "See the caveats in the documentation: https://pandas.pydata.org/pandas-docs/stable/user_guide/indexing.html#returning-a-view-versus-a-copy\n",
      "  cell_df.loc[:, 'x'] = spk_x\n"
     ]
    },
    {
     "name": "stdout",
     "output_type": "stream",
     "text": [
      "DEPRICATION WARNING: workaround to allow subscripting ComputationResult objects. Will be depricated. key: computed_data\n"
     ]
    },
    {
     "name": "stderr",
     "output_type": "stream",
     "text": [
      "/home/halechr/repos/pyPhoPlaceCellAnalysis/src/pyphoplacecellanalysis/General/Mixins/CrossComputationComparisonHelpers.py:235: RuntimeWarning: invalid value encountered in divide\n",
      "  _long_to_short_balances = (rdf.num_short_only_neuron_participating.values - rdf.num_long_only_neuron_participating.values) / (rdf.num_short_only_neuron_participating.values + rdf.num_long_only_neuron_participating.values) ## Working but (0, 1, 1) would clip to 0.5 despite (1, 13, 0) going all the way down to -1.0\n",
      "/home/halechr/repos/pyPhoPlaceCellAnalysis/src/pyphoplacecellanalysis/General/Mixins/CrossComputationComparisonHelpers.py:265: RuntimeWarning: invalid value encountered in divide\n",
      "  _long_to_short_balances = (rdf.num_short_only_neuron_participating.values - rdf.num_long_only_neuron_participating.values) / (rdf.num_short_only_neuron_participating.values + rdf.num_long_only_neuron_participating.values) ## Working but (0, 1, 1) would clip to 0.5 despite (1, 13, 0) going all the way down to -1.0\n",
      "/home/halechr/repos/pyPhoPlaceCellAnalysis/src/pyphoplacecellanalysis/General/Batch/NonInteractiveProcessing.py:679: UserWarning: constrained_layout not applied because axes sizes collapsed to zero.  Try making figure larger or axes decorations smaller.\n",
      "  a_fig.savefig(fig_png_out_path)\n"
     ]
    },
    {
     "name": "stdout",
     "output_type": "stream",
     "text": [
      "\t saved /home/halechr/repos/Spike3D/EXTERNAL/Screenshots/ProgrammaticDisplayFunctionTesting/2023-10-06/kdiba/gor01/two/2006-6-07_16-40-19/BatchPhoJonathanReplayFRC_shared_1of3_(32,23,41,16,63,20,58,15,52,51,46,54,60,50,49,31,28,26,5,40).png\n",
      "include_includelist: ['maze1', 'maze2', 'maze']\n",
      "long_epoch_name: maze1, short_epoch_name: maze2, global_epoch_name: maze\n"
     ]
    },
    {
     "name": "stderr",
     "output_type": "stream",
     "text": [
      "/home/halechr/repos/pyPhoPlaceCellAnalysis/src/pyphoplacecellanalysis/General/Pipeline/Stages/DisplayFunctions/MultiContextComparingDisplayFunctions/LongShortTrackComparingDisplayFunctions.py:1209: SettingWithCopyWarning: \n",
      "A value is trying to be set on a copy of a slice from a DataFrame.\n",
      "Try using .loc[row_indexer,col_indexer] = value instead\n",
      "\n",
      "See the caveats in the documentation: https://pandas.pydata.org/pandas-docs/stable/user_guide/indexing.html#returning-a-view-versus-a-copy\n",
      "  cell_df.loc[:, 'x'] = spk_x\n"
     ]
    },
    {
     "name": "stdout",
     "output_type": "stream",
     "text": [
      "DEPRICATION WARNING: workaround to allow subscripting ComputationResult objects. Will be depricated. key: computed_data\n"
     ]
    },
    {
     "name": "stderr",
     "output_type": "stream",
     "text": [
      "/home/halechr/repos/pyPhoPlaceCellAnalysis/src/pyphoplacecellanalysis/General/Mixins/CrossComputationComparisonHelpers.py:235: RuntimeWarning: invalid value encountered in divide\n",
      "  _long_to_short_balances = (rdf.num_short_only_neuron_participating.values - rdf.num_long_only_neuron_participating.values) / (rdf.num_short_only_neuron_participating.values + rdf.num_long_only_neuron_participating.values) ## Working but (0, 1, 1) would clip to 0.5 despite (1, 13, 0) going all the way down to -1.0\n",
      "/home/halechr/repos/pyPhoPlaceCellAnalysis/src/pyphoplacecellanalysis/General/Mixins/CrossComputationComparisonHelpers.py:265: RuntimeWarning: invalid value encountered in divide\n",
      "  _long_to_short_balances = (rdf.num_short_only_neuron_participating.values - rdf.num_long_only_neuron_participating.values) / (rdf.num_short_only_neuron_participating.values + rdf.num_long_only_neuron_participating.values) ## Working but (0, 1, 1) would clip to 0.5 despite (1, 13, 0) going all the way down to -1.0\n",
      "/home/halechr/repos/pyPhoPlaceCellAnalysis/src/pyphoplacecellanalysis/General/Batch/NonInteractiveProcessing.py:679: UserWarning: constrained_layout not applied because axes sizes collapsed to zero.  Try making figure larger or axes decorations smaller.\n",
      "  a_fig.savefig(fig_png_out_path)\n"
     ]
    },
    {
     "name": "stdout",
     "output_type": "stream",
     "text": [
      "\t saved /home/halechr/repos/Spike3D/EXTERNAL/Screenshots/ProgrammaticDisplayFunctionTesting/2023-10-06/kdiba/gor01/two/2006-6-07_16-40-19/BatchPhoJonathanReplayFRC_shared_2of3_(62,61,11,55,27,45,7,24,53,17,6,56,35,34,33,8,25,39,44,64).png\n",
      "include_includelist: ['maze1', 'maze2', 'maze']\n",
      "long_epoch_name: maze1, short_epoch_name: maze2, global_epoch_name: maze\n"
     ]
    },
    {
     "name": "stderr",
     "output_type": "stream",
     "text": [
      "/home/halechr/repos/pyPhoPlaceCellAnalysis/src/pyphoplacecellanalysis/General/Pipeline/Stages/DisplayFunctions/MultiContextComparingDisplayFunctions/LongShortTrackComparingDisplayFunctions.py:1209: SettingWithCopyWarning: \n",
      "A value is trying to be set on a copy of a slice from a DataFrame.\n",
      "Try using .loc[row_indexer,col_indexer] = value instead\n",
      "\n",
      "See the caveats in the documentation: https://pandas.pydata.org/pandas-docs/stable/user_guide/indexing.html#returning-a-view-versus-a-copy\n",
      "  cell_df.loc[:, 'x'] = spk_x\n"
     ]
    },
    {
     "name": "stdout",
     "output_type": "stream",
     "text": [
      "DEPRICATION WARNING: workaround to allow subscripting ComputationResult objects. Will be depricated. key: computed_data\n"
     ]
    },
    {
     "name": "stderr",
     "output_type": "stream",
     "text": [
      "/home/halechr/repos/pyPhoPlaceCellAnalysis/src/pyphoplacecellanalysis/General/Mixins/CrossComputationComparisonHelpers.py:235: RuntimeWarning: invalid value encountered in divide\n",
      "  _long_to_short_balances = (rdf.num_short_only_neuron_participating.values - rdf.num_long_only_neuron_participating.values) / (rdf.num_short_only_neuron_participating.values + rdf.num_long_only_neuron_participating.values) ## Working but (0, 1, 1) would clip to 0.5 despite (1, 13, 0) going all the way down to -1.0\n",
      "/home/halechr/repos/pyPhoPlaceCellAnalysis/src/pyphoplacecellanalysis/General/Mixins/CrossComputationComparisonHelpers.py:265: RuntimeWarning: invalid value encountered in divide\n",
      "  _long_to_short_balances = (rdf.num_short_only_neuron_participating.values - rdf.num_long_only_neuron_participating.values) / (rdf.num_short_only_neuron_participating.values + rdf.num_long_only_neuron_participating.values) ## Working but (0, 1, 1) would clip to 0.5 despite (1, 13, 0) going all the way down to -1.0\n"
     ]
    },
    {
     "name": "stdout",
     "output_type": "stream",
     "text": [
      "WARNING: aclu 2 is not present in the `pf1D_all` ratemaps. Which contain aclus: [3, 5, 6, 7, 8, 11, 12, 15, 16, 17, 18, 19, 20, 21, 23, 24, 25, 26, 27, 28, 31, 32, 33, 34, 35, 39, 40, 41, 43, 44, 45, 46, 48, 49, 50, 51, 52, 53, 54, 55, 56, 58, 60, 61, 62, 63, 64, 65]\n",
      "WARNING: aclu 4 is not present in the `pf1D_all` ratemaps. Which contain aclus: [3, 5, 6, 7, 8, 11, 12, 15, 16, 17, 18, 19, 20, 21, 23, 24, 25, 26, 27, 28, 31, 32, 33, 34, 35, 39, 40, 41, 43, 44, 45, 46, 48, 49, 50, 51, 52, 53, 54, 55, 56, 58, 60, 61, 62, 63, 64, 65]\n",
      "WARNING: aclu 9 is not present in the `pf1D_all` ratemaps. Which contain aclus: [3, 5, 6, 7, 8, 11, 12, 15, 16, 17, 18, 19, 20, 21, 23, 24, 25, 26, 27, 28, 31, 32, 33, 34, 35, 39, 40, 41, 43, 44, 45, 46, 48, 49, 50, 51, 52, 53, 54, 55, 56, 58, 60, 61, 62, 63, 64, 65]\n",
      "WARNING: aclu 10 is not present in the `pf1D_all` ratemaps. Which contain aclus: [3, 5, 6, 7, 8, 11, 12, 15, 16, 17, 18, 19, 20, 21, 23, 24, 25, 26, 27, 28, 31, 32, 33, 34, 35, 39, 40, 41, 43, 44, 45, 46, 48, 49, 50, 51, 52, 53, 54, 55, 56, 58, 60, 61, 62, 63, 64, 65]\n",
      "WARNING: aclu 13 is not present in the `pf1D_all` ratemaps. Which contain aclus: [3, 5, 6, 7, 8, 11, 12, 15, 16, 17, 18, 19, 20, 21, 23, 24, 25, 26, 27, 28, 31, 32, 33, 34, 35, 39, 40, 41, 43, 44, 45, 46, 48, 49, 50, 51, 52, 53, 54, 55, 56, 58, 60, 61, 62, 63, 64, 65]\n",
      "WARNING: aclu 14 is not present in the `pf1D_all` ratemaps. Which contain aclus: [3, 5, 6, 7, 8, 11, 12, 15, 16, 17, 18, 19, 20, 21, 23, 24, 25, 26, 27, 28, 31, 32, 33, 34, 35, 39, 40, 41, 43, 44, 45, 46, 48, 49, 50, 51, 52, 53, 54, 55, 56, 58, 60, 61, 62, 63, 64, 65]\n",
      "WARNING: aclu 22 is not present in the `pf1D_all` ratemaps. Which contain aclus: [3, 5, 6, 7, 8, 11, 12, 15, 16, 17, 18, 19, 20, 21, 23, 24, 25, 26, 27, 28, 31, 32, 33, 34, 35, 39, 40, 41, 43, 44, 45, 46, 48, 49, 50, 51, 52, 53, 54, 55, 56, 58, 60, 61, 62, 63, 64, 65]\n",
      "WARNING: aclu 29 is not present in the `pf1D_all` ratemaps. Which contain aclus: [3, 5, 6, 7, 8, 11, 12, 15, 16, 17, 18, 19, 20, 21, 23, 24, 25, 26, 27, 28, 31, 32, 33, 34, 35, 39, 40, 41, 43, 44, 45, 46, 48, 49, 50, 51, 52, 53, 54, 55, 56, 58, 60, 61, 62, 63, 64, 65]\n",
      "WARNING: aclu 30 is not present in the `pf1D_all` ratemaps. Which contain aclus: [3, 5, 6, 7, 8, 11, 12, 15, 16, 17, 18, 19, 20, 21, 23, 24, 25, 26, 27, 28, 31, 32, 33, 34, 35, 39, 40, 41, 43, 44, 45, 46, 48, 49, 50, 51, 52, 53, 54, 55, 56, 58, 60, 61, 62, 63, 64, 65]\n",
      "WARNING: aclu 36 is not present in the `pf1D_all` ratemaps. Which contain aclus: [3, 5, 6, 7, 8, 11, 12, 15, 16, 17, 18, 19, 20, 21, 23, 24, 25, 26, 27, 28, 31, 32, 33, 34, 35, 39, 40, 41, 43, 44, 45, 46, 48, 49, 50, 51, 52, 53, 54, 55, 56, 58, 60, 61, 62, 63, 64, 65]\n",
      "WARNING: aclu 37 is not present in the `pf1D_all` ratemaps. Which contain aclus: [3, 5, 6, 7, 8, 11, 12, 15, 16, 17, 18, 19, 20, 21, 23, 24, 25, 26, 27, 28, 31, 32, 33, 34, 35, 39, 40, 41, 43, 44, 45, 46, 48, 49, 50, 51, 52, 53, 54, 55, 56, 58, 60, 61, 62, 63, 64, 65]\n",
      "WARNING: aclu 38 is not present in the `pf1D_all` ratemaps. Which contain aclus: [3, 5, 6, 7, 8, 11, 12, 15, 16, 17, 18, 19, 20, 21, 23, 24, 25, 26, 27, 28, 31, 32, 33, 34, 35, 39, 40, 41, 43, 44, 45, 46, 48, 49, 50, 51, 52, 53, 54, 55, 56, 58, 60, 61, 62, 63, 64, 65]\n",
      "WARNING: aclu 42 is not present in the `pf1D_all` ratemaps. Which contain aclus: [3, 5, 6, 7, 8, 11, 12, 15, 16, 17, 18, 19, 20, 21, 23, 24, 25, 26, 27, 28, 31, 32, 33, 34, 35, 39, 40, 41, 43, 44, 45, 46, 48, 49, 50, 51, 52, 53, 54, 55, 56, 58, 60, 61, 62, 63, 64, 65]\n",
      "WARNING: aclu 47 is not present in the `pf1D_all` ratemaps. Which contain aclus: [3, 5, 6, 7, 8, 11, 12, 15, 16, 17, 18, 19, 20, 21, 23, 24, 25, 26, 27, 28, 31, 32, 33, 34, 35, 39, 40, 41, 43, 44, 45, 46, 48, 49, 50, 51, 52, 53, 54, 55, 56, 58, 60, 61, 62, 63, 64, 65]\n",
      "WARNING: aclu 57 is not present in the `pf1D_all` ratemaps. Which contain aclus: [3, 5, 6, 7, 8, 11, 12, 15, 16, 17, 18, 19, 20, 21, 23, 24, 25, 26, 27, 28, 31, 32, 33, 34, 35, 39, 40, 41, 43, 44, 45, 46, 48, 49, 50, 51, 52, 53, 54, 55, 56, 58, 60, 61, 62, 63, 64, 65]\n",
      "WARNING: aclu 59 is not present in the `pf1D_all` ratemaps. Which contain aclus: [3, 5, 6, 7, 8, 11, 12, 15, 16, 17, 18, 19, 20, 21, 23, 24, 25, 26, 27, 28, 31, 32, 33, 34, 35, 39, 40, 41, 43, 44, 45, 46, 48, 49, 50, 51, 52, 53, 54, 55, 56, 58, 60, 61, 62, 63, 64, 65]\n"
     ]
    },
    {
     "name": "stderr",
     "output_type": "stream",
     "text": [
      "/home/halechr/repos/pyPhoPlaceCellAnalysis/src/pyphoplacecellanalysis/General/Batch/NonInteractiveProcessing.py:679: UserWarning: constrained_layout not applied because axes sizes collapsed to zero.  Try making figure larger or axes decorations smaller.\n",
      "  a_fig.savefig(fig_png_out_path)\n"
     ]
    },
    {
     "name": "stdout",
     "output_type": "stream",
     "text": [
      "\t saved /home/halechr/repos/Spike3D/EXTERNAL/Screenshots/ProgrammaticDisplayFunctionTesting/2023-10-06/kdiba/gor01/two/2006-6-07_16-40-19/BatchPhoJonathanReplayFRC_shared_3of3_(43,2,4,9,10,13,14,22,29,30,36,37,38,42,47,57,59).png\n",
      "Neptuner.stop() called!\n",
      "Shutting down background jobs, please wait a moment...\n",
      "Done!\n",
      "Waiting for the remaining 32 operations to synchronize with Neptune. Do not kill this process.\n",
      "All 32 operations synced, thanks for waiting!\n",
      "Explore the metadata in the Neptune app:\n",
      "https://app.neptune.ai/commander.pho/PhoDibaLongShortUpdated/e/LS2023-677/metadata\n",
      "Shutting down background jobs, please wait a moment...\n",
      "Done!\n",
      "All 0 operations synced, thanks for waiting!\n",
      "Explore the metadata in the Neptune app:\n",
      "https://app.neptune.ai/commander.pho/PhoDibaLongShortUpdated/metadata\n",
      "Neptuner stoppped.\n",
      "Neptuner.stop() called!\n",
      "Neptuner stoppped.\n",
      "DEPRICATION WARNING: workaround to allow subscripting ComputationResult objects. Will be depricated. key: computed_data\n",
      "DEPRICATION WARNING: workaround to allow subscripting ComputationResult objects. Will be depricated. key: computed_data\n",
      "DEPRICATION WARNING: workaround to allow subscripting ComputationResult objects. Will be depricated. key: computed_data\n",
      "DEPRICATION WARNING: workaround to allow subscripting ComputationResult objects. Will be depricated. key: computation_config\n",
      "DEPRICATION WARNING: workaround to allow subscripting ComputationResult objects. Will be depricated. key: computation_config\n",
      "DEPRICATION WARNING: workaround to allow subscripting ComputationResult objects. Will be depricated. key: computation_config\n",
      "WARN: 2023-09-28 16:15: - [ ] fix the combination properties. Would work if we directly used the computed _is_L_only and _is_S_only above\n"
     ]
    },
    {
     "name": "stderr",
     "output_type": "stream",
     "text": [
      "/home/halechr/repos/NeuroPy/neuropy/core/flattened_spiketrains.py:242: SettingWithCopyWarning: \n",
      "A value is trying to be set on a copy of a slice from a DataFrame.\n",
      "Try using .loc[row_indexer,col_indexer] = value instead\n",
      "\n",
      "See the caveats in the documentation: https://pandas.pydata.org/pandas-docs/stable/user_guide/indexing.html#returning-a-view-versus-a-copy\n",
      "  self._obj['fragile_linear_neuron_IDX'] = included_cell_INDEXES.copy()\n",
      "/home/halechr/repos/NeuroPy/neuropy/core/flattened_spiketrains.py:245: SettingWithCopyWarning: \n",
      "A value is trying to be set on a copy of a slice from a DataFrame.\n",
      "Try using .loc[row_indexer,col_indexer] = value instead\n",
      "\n",
      "See the caveats in the documentation: https://pandas.pydata.org/pandas-docs/stable/user_guide/indexing.html#returning-a-view-versus-a-copy\n",
      "  self._obj['neuron_IDX'] = self._obj['fragile_linear_neuron_IDX'].copy()\n",
      "/home/halechr/repos/NeuroPy/neuropy/utils/mixins/time_slicing.py:155: SettingWithCopyWarning: \n",
      "A value is trying to be set on a copy of a slice from a DataFrame.\n",
      "Try using .loc[row_indexer,col_indexer] = value instead\n",
      "\n",
      "See the caveats in the documentation: https://pandas.pydata.org/pandas-docs/stable/user_guide/indexing.html#returning-a-view-versus-a-copy\n",
      "  spk_df[epoch_id_key_name] = spike_epoch_identity_arr\n"
     ]
    },
    {
     "name": "stdout",
     "output_type": "stream",
     "text": [
      "DEPRICATION WARNING: workaround to allow subscripting ComputationResult objects. Will be depricated. key: computed_data\n",
      "DEPRICATION WARNING: workaround to allow subscripting ComputationResult objects. Will be depricated. key: computed_data\n",
      "DEPRICATION WARNING: workaround to allow subscripting ComputationResult objects. Will be depricated. key: computed_data\n",
      "DEPRICATION WARNING: workaround to allow subscripting ComputationResult objects. Will be depricated. key: computation_config\n",
      "DEPRICATION WARNING: workaround to allow subscripting ComputationResult objects. Will be depricated. key: computation_config\n",
      "DEPRICATION WARNING: workaround to allow subscripting ComputationResult objects. Will be depricated. key: computation_config\n",
      "WARNING: fignum will be ignored but it was specified as fignum=\"Short v Long pf1D Comparison\"!\n",
      "DEPRICATION WARNING: workaround to allow subscripting ComputationResult objects. Will be depricated. key: computed_data\n",
      "DEPRICATION WARNING: workaround to allow subscripting ComputationResult objects. Will be depricated. key: computed_data\n",
      "DEBUG: new_all_aclus_sort_indicies: [21  6 14 27 45  8 12 41  7 36 31 35 38 42 34 19 17 33 20  1 26 44 43  5\n",
      " 18 39 30  3 15 37  9  2 40 23 24 22  4 32 13 16 25 46 29 28  0 47 11 10]\n",
      "active_context: kdiba_gor01_two_2006-6-07_16-40-19\n",
      "\t saved /home/halechr/repos/Spike3D/EXTERNAL/Screenshots/ProgrammaticDisplayFunctionTesting/2023-10-06/kdiba/gor01/two/2006-6-07_16-40-19/display_short_long_pf1D_comparison_long.png\n",
      "\t saved /home/halechr/repos/Spike3D/EXTERNAL/Screenshots/ProgrammaticDisplayFunctionTesting/2023-10-06/kdiba/gor01/two/2006-6-07_16-40-19/display_short_long_pf1D_comparison_short.png\n",
      "WARN: 2023-09-28 16:15: - [ ] fix the combination properties. Would work if we directly used the computed _is_L_only and _is_S_only above\n"
     ]
    },
    {
     "name": "stderr",
     "output_type": "stream",
     "text": [
      "/home/halechr/repos/NeuroPy/neuropy/core/flattened_spiketrains.py:242: SettingWithCopyWarning: \n",
      "A value is trying to be set on a copy of a slice from a DataFrame.\n",
      "Try using .loc[row_indexer,col_indexer] = value instead\n",
      "\n",
      "See the caveats in the documentation: https://pandas.pydata.org/pandas-docs/stable/user_guide/indexing.html#returning-a-view-versus-a-copy\n",
      "  self._obj['fragile_linear_neuron_IDX'] = included_cell_INDEXES.copy()\n",
      "/home/halechr/repos/NeuroPy/neuropy/core/flattened_spiketrains.py:245: SettingWithCopyWarning: \n",
      "A value is trying to be set on a copy of a slice from a DataFrame.\n",
      "Try using .loc[row_indexer,col_indexer] = value instead\n",
      "\n",
      "See the caveats in the documentation: https://pandas.pydata.org/pandas-docs/stable/user_guide/indexing.html#returning-a-view-versus-a-copy\n",
      "  self._obj['neuron_IDX'] = self._obj['fragile_linear_neuron_IDX'].copy()\n",
      "/home/halechr/repos/NeuroPy/neuropy/utils/mixins/time_slicing.py:155: SettingWithCopyWarning: \n",
      "A value is trying to be set on a copy of a slice from a DataFrame.\n",
      "Try using .loc[row_indexer,col_indexer] = value instead\n",
      "\n",
      "See the caveats in the documentation: https://pandas.pydata.org/pandas-docs/stable/user_guide/indexing.html#returning-a-view-versus-a-copy\n",
      "  spk_df[epoch_id_key_name] = spike_epoch_identity_arr\n"
     ]
    },
    {
     "name": "stdout",
     "output_type": "stream",
     "text": [
      "merged_kwargs: {'name': 'spikeRasterOverviewWindowScatterPlotItem', 'pxMode': True, 'symbol': <PyQt5.QtGui.QPainterPath object at 0x14e412a20b30>, 'size': 6, 'pen': {'color': 'white', 'width': 1}, 'hoverable': True}\n",
      "exported plot to /home/halechr/repos/Spike3D/EXTERNAL/Screenshots/ProgrammaticDisplayFunctionTesting/2023-10-06/kdiba/gor01/two/2006-6-07_16-40-19/plot_multiple_raster_plot_1_long_example_replays_plot_multiple_raster_plot.png\n",
      "\t saved /home/halechr/repos/Spike3D/EXTERNAL/Screenshots/ProgrammaticDisplayFunctionTesting/2023-10-06/kdiba/gor01/two/2006-6-07_16-40-19/plot_multiple_raster_plot_1_long_example_replays_plot_multiple_raster_plot.png\n",
      "merged_kwargs: {'name': 'spikeRasterOverviewWindowScatterPlotItem', 'pxMode': True, 'symbol': <PyQt5.QtGui.QPainterPath object at 0x14e412a20b30>, 'size': 6, 'pen': {'color': 'white', 'width': 1}, 'hoverable': True}\n",
      "exported plot to /home/halechr/repos/Spike3D/EXTERNAL/Screenshots/ProgrammaticDisplayFunctionTesting/2023-10-06/kdiba/gor01/two/2006-6-07_16-40-19/plot_multiple_raster_plot_1_short_example_replays_plot_multiple_raster_plot.png\n",
      "\t saved /home/halechr/repos/Spike3D/EXTERNAL/Screenshots/ProgrammaticDisplayFunctionTesting/2023-10-06/kdiba/gor01/two/2006-6-07_16-40-19/plot_multiple_raster_plot_1_short_example_replays_plot_multiple_raster_plot.png\n"
     ]
    }
   ],
   "source": [
    "# %pdb on\n",
    "\n",
    "multiprocessing_kwargs = dict(use_multiprocessing=False, num_processes=1)\n",
    "# multiprocessing_kwargs = dict(use_multiprocessing=True, num_processes=7)\n",
    "\n",
    "enable_full_pipeline_in_ram = False\n",
    "# enable_full_pipeline_in_ram = True\n",
    "    \n",
    "# Whether to output figures:\n",
    "# should_perform_figure_generation_to_file=False\n",
    "should_perform_figure_generation_to_file=True\n",
    "\n",
    "## Included Session Contexts:\n",
    "# included_session_contexts = batch_progress_df[np.logical_and(batch_progress_df['has_user_replay_annotations'], batch_progress_df['is_ready'])]['context'].to_numpy().tolist()\n",
    "\n",
    "# Only require sessions to have replay annotations:\n",
    "# included_session_contexts = batch_progress_df[batch_progress_df['has_user_replay_annotations']]['context'].to_numpy().tolist()\n",
    "\n",
    "# included_session_contexts = batch_progress_df['context'].to_numpy().tolist()[:4] # Only get the first 6\n",
    "# Limit the contexts to run to the last N:\n",
    "# included_session_contexts = included_session_contexts[3:5]\n",
    "\n",
    "# included_session_contexts = [included_session_contexts[3]]\n",
    "\n",
    "# ALL\n",
    "included_session_contexts = included_session_contexts\n",
    "\n",
    "# ## No filtering the sessions:\n",
    "# included_session_contexts = None\n",
    "\n",
    "if included_session_contexts is not None:\n",
    "    print(f'len(included_session_contexts): {len(included_session_contexts)}')\n",
    "else:\n",
    "    print(f'included_session_contexts is None so all session contexts will be included.')\n",
    "\n",
    "# included_session_contexts\n",
    "\n",
    "# # No recomputing at all:\n",
    "# result_handler = BatchSessionCompletionHandler(force_reload_all=False,\n",
    "#                                                 session_computations_options=BatchComputationProcessOptions(should_load=True, should_compute=False, should_save=SavingOptions.NEVER),\n",
    "#                                                 global_computations_options=BatchComputationProcessOptions(should_load=True, should_compute=False, should_save=SavingOptions.NEVER),\n",
    "#                                                 should_perform_figure_generation_to_file=should_perform_figure_generation_to_file, should_generate_all_plots=True, saving_mode=PipelineSavingScheme.SKIP_SAVING, force_global_recompute=False,\n",
    "#                                                 **multiprocessing_kwargs)\n",
    "\n",
    "# No Reloading\n",
    "result_handler = BatchSessionCompletionHandler(force_reload_all=False,\n",
    "                                                session_computations_options=BatchComputationProcessOptions(should_load=True, should_compute=True, should_save=SavingOptions.IF_CHANGED),\n",
    "                                                global_computations_options=BatchComputationProcessOptions(should_load=True, should_compute=True, should_save=SavingOptions.IF_CHANGED),\n",
    "                                                should_perform_figure_generation_to_file=should_perform_figure_generation_to_file, should_generate_all_plots=True, saving_mode=PipelineSavingScheme.SKIP_SAVING, force_global_recompute=False,\n",
    "                                                **multiprocessing_kwargs)\n",
    "\n",
    "\n",
    "# # # Forced Reloading:\n",
    "# result_handler = BatchSessionCompletionHandler(force_reload_all=True,\n",
    "#                                                 session_computations_options=BatchComputationProcessOptions(should_load=False, should_compute=True, should_save=SavingOptions.ALWAYS),\n",
    "#                                                 global_computations_options=BatchComputationProcessOptions(should_load=False, should_compute=True, should_save=SavingOptions.ALWAYS),\n",
    "#                                                 should_perform_figure_generation_to_file=should_perform_figure_generation_to_file, saving_mode=PipelineSavingScheme.OVERWRITE_IN_PLACE, force_global_recompute=True,\n",
    "#                                                 **multiprocessing_kwargs)\n",
    "\n",
    "\n",
    "active_post_run_callback_fn = result_handler.on_complete_success_execution_session\n",
    "# active_post_run_callback_fn = _temp_on_complete_success_execution_session\n",
    "\n",
    "\n",
    "# @result_handler.completion_decorator\n",
    "def a_test_completion_function(self, global_data_root_parent_path, curr_session_context, curr_session_basedir, curr_active_pipeline, across_session_results_extended_dict: dict) -> dict:\n",
    "    # print(f'>>>>>>>>>>>>>>>>>>>>>>>>>>>>>>>>>>>>>>>>>>>>>>>>>>>>>>>>>>>>>>>>>>>>>>>>>>>>>>>>')\n",
    "    print(f'<<<<<<<<<<<<<<<<<<<<<<<<<<<<<<<<<<<<<<<<<<<<<<<<<<<<<<<<<<<<<<<<<<<<<<<<<<<<<<<<')\n",
    "    print(f'a_test_completion_function(curr_session_context: {curr_session_context}, curr_session_basedir: {str(curr_session_basedir)}, ...,across_session_results_extended_dict: {across_session_results_extended_dict})')\n",
    "    long_epoch_name, short_epoch_name, global_epoch_name = curr_active_pipeline.find_LongShortGlobal_epoch_names()\n",
    "    # long_session, short_session, global_session = [curr_active_pipeline.filtered_sessions[an_epoch_name] for an_epoch_name in [long_epoch_name, short_epoch_name, global_epoch_name]]\n",
    "    # long_results, short_results, global_results = [curr_active_pipeline.computation_results[an_epoch_name]['computed_data'] for an_epoch_name in [long_epoch_name, short_epoch_name, global_epoch_name]]\n",
    "    # Get existing laps from session:\n",
    "    long_laps, short_laps, global_laps = [curr_active_pipeline.filtered_sessions[an_epoch_name].laps.as_epoch_obj() for an_epoch_name in [long_epoch_name, short_epoch_name, global_epoch_name]]\n",
    "    long_replays, short_replays, global_replays = [Epoch(curr_active_pipeline.filtered_sessions[an_epoch_name].replay.epochs.get_valid_df()) for an_epoch_name in [long_epoch_name, short_epoch_name, global_epoch_name]]\n",
    "    long_PBEs, short_PBEs, global_PBEs = [curr_active_pipeline.filtered_sessions[an_epoch_name].pbe for an_epoch_name in [long_epoch_name, short_epoch_name, global_epoch_name]]\n",
    "\n",
    "    output_file_prefix = curr_session_context.get_description(separator=\"-\", include_property_names=False)\n",
    "    # global_replays.filename = Path(f\"output/{output_file_prefix}_global_replays\").resolve()\n",
    "    # print(f'global_replays.filename: {global_replays.filename}')\n",
    "    # global_replays.to_neuroscope()\n",
    "\n",
    "    # global_PBEs.filename = Path(f\"output/{output_file_prefix}_global_PBEs\").resolve()\n",
    "    # print(f'global_PBEs.filename: {global_PBEs.filename}')\n",
    "    # global_PBEs.to_neuroscope('PBE')\n",
    "\n",
    "    # print(f'++++++++++++++++++++++++++++++++++++++++++++++++++++++++++++++++++++++++++++++++')\n",
    "    # print(f'{output_file_prefix}: global_PBEs.n_epochs: {global_PBEs.n_epochs}, global_replays.n_epochs: {global_replays.n_epochs}, global_replays.n_epochs/global_PBEs.n_epochs: {float(global_replays.n_epochs)/float(global_PBEs.n_epochs)}') \n",
    "    # print(f'++++++++++++++++++++++++++++++++++++++++++++++++++++++++++++++++++++++++++++++++')\n",
    "    \n",
    "    jonathan_firing_rate_analysis_result = curr_active_pipeline.global_computation_results.computed_data.jonathan_firing_rate_analysis\n",
    "    (epochs_df_L, epochs_df_S), (filter_epoch_spikes_df_L, filter_epoch_spikes_df_S), (good_example_epoch_indicies_L, good_example_epoch_indicies_S), (short_exclusive, long_exclusive, BOTH_subset, EITHER_subset, XOR_subset, NEITHER_subset), new_all_aclus_sort_indicies, assigning_epochs_obj = PAPER_FIGURE_figure_1_add_replay_epoch_rasters(curr_active_pipeline)\n",
    "    neuron_replay_stats_df, short_exclusive, long_exclusive, BOTH_subset, EITHER_subset, XOR_subset, NEITHER_subset = jonathan_firing_rate_analysis_result.get_cell_track_partitions(frs_index_inclusion_magnitude=0.05)\n",
    "\n",
    "\t# ## Output the BatchPhoJonathanFiguresHelper\n",
    "    fig_1c_figures_all_dict = BatchPhoJonathanFiguresHelper.run(curr_active_pipeline, neuron_replay_stats_df.copy(), included_unit_neuron_IDs=None,\n",
    "\tn_max_page_rows=20, write_vector_format=False, write_png=True,\n",
    "\tshow_only_refined_cells=False, disable_top_row=False, split_by_short_long_shared=False)\n",
    "\n",
    "\n",
    "    # # across_session_results_extended_dict['counts']\n",
    "    # joined_neruon_fri_df = build_merged_neuron_firing_rate_indicies(curr_active_pipeline, enable_display_intermediate_results=False)\n",
    "    # # AcrossSessionTables.write_table_to_files(joined_neruon_fri_df, global_data_root_parent_path=global_data_root_parent_path, output_basename=f'{BATCH_DATE_TO_USE}_{output_file_prefix}_joined_neruon_fri_df')\n",
    "    # AcrossSessionTables.write_table_to_files(joined_neruon_fri_df, global_data_root_parent_path=global_data_root_parent_path.joinpath(BATCH_DATE_TO_USE).resolve(), output_basename=f'{output_file_prefix}_joined_neruon_fri_df', include_csv=False, include_pkl=True)\n",
    "    print(f'>>\\t done with {output_file_prefix}')\n",
    "    print(f'>>>>>>>>>>>>>>>>>>>>>>>>>>>>>>>>>>>>>>>>>>>>>>>>>>>>>>>>>>>>>>>>>>>>>>>>>>>>>>>>')\n",
    "    print(f'>>>>>>>>>>>>>>>>>>>>>>>>>>>>>>>>>>>>>>>>>>>>>>>>>>>>>>>>>>>>>>>>>>>>>>>>>>>>>>>>')\n",
    "\n",
    "    return across_session_results_extended_dict\n",
    "\n",
    "\n",
    "result_handler.completion_functions.append(a_test_completion_function)\n",
    "\n",
    "## Specific Setup for 2023-09-28 Changes to LxC/SxC \"refinements\"\n",
    "result_handler.extended_computations_include_includelist = ['pf_computation', 'pfdt_computation', 'firing_rate_trends',\n",
    "                                                # 'pf_dt_sequential_surprise',\n",
    "                                                # 'ratemap_peaks_prominence2d',\n",
    "                                                'position_decoding', \n",
    "                                                #'position_decoding_two_step', \n",
    "                                                'long_short_decoding_analyses',\n",
    "                                                'jonathan_firing_rate_analysis', 'long_short_fr_indicies_analyses', 'short_long_pf_overlap_analyses', 'long_short_post_decoding', 'long_short_rate_remapping',\n",
    "                                                'long_short_inst_spike_rate_groups',\n",
    "                                                'long_short_endcap_analysis',\n",
    "                                                ]\n",
    "\n",
    "\n",
    "basic_local_computations = ['pf_computation', 'pfdt_computation', 'firing_rate_trends',\n",
    "#                                                 'pf_dt_sequential_surprise',\n",
    "                                                # 'ratemap_peaks_prominence2d',\n",
    "                                                'position_decoding', \n",
    "                                                #'position_decoding_two_step', \n",
    "                                                ]\n",
    " \n",
    "# result_handler.extended_computations_include_includelist = ['long_short_inst_spike_rate_groups']\n",
    "\n",
    "\n",
    "# result_handler.enable_hdf5_output = True # output the HDF5 when done.\n",
    "# result_handler.override_existing_frs_index_values = True\n",
    "# result_handler.frs_index_inclusion_magnitude = 0.1\n",
    "\n",
    "result_handler.enable_hdf5_output = False\n",
    "result_handler.override_existing_frs_index_values = False\n",
    "\n",
    "\n",
    "## Execute with the custom arguments.\n",
    "global_batch_run.execute_all(force_reload=result_handler.force_reload_all, saving_mode=result_handler.saving_mode, skip_extended_batch_computations=True, post_run_callback_fn=active_post_run_callback_fn,\n",
    "                             fail_on_exception=False, included_session_contexts=included_session_contexts,\n",
    "                                                                                        **{'computation_functions_name_includelist': basic_local_computations,\n",
    "                                                                                            'active_session_computation_configs': None,\n",
    "                                                                                            'allow_processing_previously_completed': True}, **multiprocessing_kwargs) # can override `active_session_computation_configs` if we want to set custom ones like only the laps.)\n",
    "\n",
    "# 4m 39.8s"
   ]
  },
  {
   "cell_type": "code",
   "execution_count": null,
   "id": "f130e5c9",
   "metadata": {},
   "outputs": [],
   "source": [
    "# Save to pickle:\n",
    "saveData(global_batch_result_file_path, global_batch_run) # Update the global batch run dictionary\n",
    "\n",
    "# Save to HDF5\n",
    "suffix = f'{BATCH_DATE_TO_USE}'\n",
    "## Build Pickle Path:\n",
    "file_path = global_data_root_parent_path.joinpath(f'global_batch_output_{suffix}.h5').resolve()\n",
    "global_batch_run.to_hdf(file_path,'/')"
   ]
  },
  {
   "cell_type": "code",
   "execution_count": null,
   "id": "0981cde1",
   "metadata": {
    "notebookRunGroups": {
     "groupValue": "21"
    },
    "tags": []
   },
   "outputs": [],
   "source": [
    "batch_progress_df = global_batch_run.to_dataframe(expand_context=True, good_only=False) # all\n",
    "good_only_batch_progress_df = global_batch_run.to_dataframe(expand_context=True, good_only=True)\n",
    "batch_progress_df.batch_results.build_all_columns()\n",
    "good_only_batch_progress_df.batch_results.build_all_columns()\n",
    "good_only_batch_progress_df"
   ]
  },
  {
   "cell_type": "markdown",
   "id": "690f140f",
   "metadata": {},
   "source": [
    "# Across Sessions After Batching Complete"
   ]
  },
  {
   "cell_type": "code",
   "execution_count": null,
   "id": "3dce885b-5b99-4a7a-9f72-2eed2e45ae18",
   "metadata": {
    "tags": []
   },
   "outputs": [],
   "source": [
    "a_batch_progress_df = included_session_batch_progress_df.copy()\n",
    "\n",
    "good_session_concrete_folders = [ConcreteSessionFolder(a_context, a_basedir) for a_context, a_basedir in zip(list(a_batch_progress_df.context.values), list(a_batch_progress_df.basedirs.values))]\n",
    "\n",
    "# good_only_batch_progress_df.batch_results\n",
    "# included_h5_paths = [get_file_str_if_file_exists(v.joinpath('output','pipeline_results.h5').resolve()) for v in list(good_only_batch_progress_df.basedirs.values)]\n",
    "# included_h5_paths = [a_dir.joinpath('output','pipeline_results.h5').resolve() for a_dir in included_session_batch_progress_df['basedirs']]\n",
    "included_h5_paths = [get_file_str_if_file_exists(v.pipeline_results_h5) for v in good_session_concrete_folders]"
   ]
  },
  {
   "cell_type": "code",
   "execution_count": null,
   "id": "f39738fa-f8f3-46d2-a937-0fb08c0ccb43",
   "metadata": {
    "tags": []
   },
   "outputs": [],
   "source": [
    "# target_dir = Path('output/across_session_results/2023-09-29').resolve()\n",
    "# target_dir = Path('/home/halechr/cloud/turbo/Pho/Output/across_session_results/2023-09-29').resolve()\n",
    "# target_dir = Path('/home/halechr/cloud/turbo/Pho/Output/across_session_results/2023-10-03').resolve()\n",
    "# copy_dict = ConcreteSessionFolder.build_backup_copydict(good_session_concrete_folders, target_dir=target_dir)\n",
    "# copy_dict = ConcreteSessionFolder.build_backup_copydict(good_session_concrete_folders, backup_mode=BackupMethods.RenameInSourceDirectory, rename_backup_suffix='2023-10-05', only_include_file_types=['local_pkl', 'global_pkl','h5'])\n",
    "# copy_dict = ConcreteSessionFolder.build_backup_copydict(good_session_concrete_folders, backup_mode=BackupMethods.RenameInSourceDirectory, rename_backup_suffix='2023-10-06', only_include_file_types=['local_pkl', 'global_pkl'])\n",
    "copy_dict = ConcreteSessionFolder.build_backup_copydict(good_session_concrete_folders, backup_mode=BackupMethods.RenameInSourceDirectory, rename_backup_suffix='2023-10-07', only_include_file_types=['local_pkl', 'global_pkl'])\n",
    "copy_dict"
   ]
  },
  {
   "cell_type": "code",
   "execution_count": null,
   "id": "135cb2d8-65b3-405b-a41b-22b2fa7cb28e",
   "metadata": {
    "scrolled": true,
    "tags": []
   },
   "outputs": [],
   "source": [
    "moved_files_dict_h5_files = copy_movedict(copy_dict)"
   ]
  },
  {
   "cell_type": "code",
   "execution_count": null,
   "id": "243e3954-15a4-449c-b927-56d5d79153c8",
   "metadata": {
    "tags": []
   },
   "outputs": [],
   "source": [
    "check_output_h5_files(included_h5_paths)"
   ]
  },
  {
   "cell_type": "markdown",
   "id": "1bdb0953",
   "metadata": {},
   "source": [
    "## Extract `across_sessions_instantaneous_fr_dict` from the computation outputs"
   ]
  },
  {
   "cell_type": "code",
   "execution_count": null,
   "id": "39691fe2",
   "metadata": {},
   "outputs": [],
   "source": [
    "# Get only the sessions with non-None results\n",
    "sessions_with_results = [a_ctxt for a_ctxt, a_result in global_batch_run.session_batch_outputs.items() if a_result is not None]\n",
    "\n",
    "# list(global_batch_run.session_batch_outputs.keys())\n",
    "\n",
    "# Somewhere in there there are `InstantaneousSpikeRateGroupsComputation` results to extract\n",
    "across_sessions_instantaneous_fr_dict = {} # InstantaneousSpikeRateGroupsComputation\n",
    "across_sessions_recomputed_instantaneous_fr_dict = {}\n",
    "\n",
    "# good_session_batch_outputs = global_batch_run.session_batch_outputs\n",
    "\n",
    "sessions_with_results = [a_ctxt for a_ctxt, a_result in global_batch_run.session_batch_outputs.items() if a_result is not None]\n",
    "good_session_batch_outputs = {a_ctxt:a_result for a_ctxt, a_result in global_batch_run.session_batch_outputs.items() if a_result is not None}\n",
    "\n",
    "for a_ctxt, a_result in good_session_batch_outputs.items():\n",
    "    if a_result is not None:\n",
    "        # a_good_result = a_result.__dict__.get('across_sessions_batch_results', {}).get('inst_fr_comps', None)\n",
    "        a_good_result = a_result.across_session_results.get('inst_fr_comps', None)\n",
    "        if a_good_result is not None:\n",
    "            across_sessions_instantaneous_fr_dict[a_ctxt] = a_good_result\n",
    "            # print(a_result['across_sessions_batch_results']['inst_fr_comps'])\n",
    "        a_good_recomp_result = a_result.across_session_results.get('recomputed_inst_fr_comps', None)\n",
    "        if a_good_recomp_result is not None:\n",
    "            across_sessions_recomputed_instantaneous_fr_dict[a_ctxt] = a_good_recomp_result\n",
    "            \n",
    "num_sessions = len(across_sessions_instantaneous_fr_dict)\n",
    "print(f'num_sessions: {num_sessions}')"
   ]
  },
  {
   "cell_type": "code",
   "execution_count": null,
   "id": "338126f9",
   "metadata": {},
   "outputs": [],
   "source": [
    "across_sessions_recomputed_instantaneous_fr_dict"
   ]
  },
  {
   "cell_type": "code",
   "execution_count": null,
   "id": "09136799",
   "metadata": {},
   "outputs": [],
   "source": [
    "# When done, `result_handler.across_sessions_instantaneous_fr_dict` is now equivalent to what it would have been before. It can be saved using the normal `.save_across_sessions_data(...)`\n",
    "\n",
    "## Save the instantaneous firing rate results dict: (# Dict[IdentifyingContext] = InstantaneousSpikeRateGroupsComputation)\n",
    "# AcrossSessionsResults.save_across_sessions_data(across_sessions_instantaneous_fr_dict=across_sessions_instantaneous_fr_dict, global_data_root_parent_path=global_data_root_parent_path,\n",
    "#                                                  inst_fr_output_filename=f'across_session_result_long_short_inst_firing_rate_{BATCH_DATE_TO_USE}.pkl')\n",
    "\n",
    "\n",
    "AcrossSessionsResults.save_across_sessions_data(across_sessions_instantaneous_fr_dict=across_sessions_recomputed_instantaneous_fr_dict, global_data_root_parent_path=global_data_root_parent_path,\n",
    "                                                 inst_fr_output_filename=f'across_session_result_long_short_recomputed_inst_firing_rate_{BATCH_DATE_TO_USE}.pkl')\n",
    "\n",
    "\n",
    "\n",
    "# ## Save pickle:\n",
    "# inst_fr_output_filename=f'across_session_result_long_short_inst_firing_rate_{BATCH_DATE_TO_USE}.pkl'\n",
    "# global_batch_result_inst_fr_file_path = Path(global_data_root_parent_path).joinpath(inst_fr_output_filename).resolve() # Use Default\n",
    "# print(f'global_batch_result_inst_fr_file_path: {global_batch_result_inst_fr_file_path}')\n",
    "# # Save the all sessions instantaneous firing rate dict to the path:\n",
    "# saveData(global_batch_result_inst_fr_file_path, across_sessions_instantaneous_fr_dict)"
   ]
  },
  {
   "cell_type": "code",
   "execution_count": null,
   "id": "c123baf6",
   "metadata": {},
   "outputs": [],
   "source": [
    "from pyphoplacecellanalysis.General.Batch.AcrossSessionResults import AcrossSessionTables\n",
    "\n",
    "# neuron_identities_table, long_short_fr_indicies_analysis_table, neuron_replay_stats_table = AcrossSessionTables.build_all_known_tables(included_session_contexts, included_h5_paths, should_restore_native_column_types=True, )\n",
    "\n",
    "neuron_identities_table, long_short_fr_indicies_analysis_table, neuron_replay_stats_table = AcrossSessionTables.build_and_save_all_combined_tables(included_session_contexts, included_h5_paths, override_output_parent_path=global_data_root_parent_path, output_path_suffix=f'{BATCH_DATE_TO_USE}')"
   ]
  },
  {
   "cell_type": "code",
   "execution_count": null,
   "id": "5a859bff-8cdb-4281-a64f-251d24db7cb9",
   "metadata": {
    "notebookRunGroups": {
     "groupValue": "2"
    },
    "tags": []
   },
   "outputs": [],
   "source": [
    "from pyphoplacecellanalysis.General.Batch.AcrossSessionResults import AcrossSessionTables\n",
    "\n",
    "neuron_identities_table, long_short_fr_indicies_analysis_table, neuron_replay_stats_table = AcrossSessionTables.build_all_known_tables(included_session_contexts, included_h5_paths, should_restore_native_column_types=True)\n",
    "# neuron_replay_stats_table['is_refined_LxC']"
   ]
  },
  {
   "cell_type": "code",
   "execution_count": null,
   "id": "b04b2430-c9ec-4adb-81a8-1ffbf8a0cb3c",
   "metadata": {
    "notebookRunGroups": {
     "groupValue": "2"
    },
    "tags": []
   },
   "outputs": [],
   "source": [
    "long_short_fr_indicies_analysis_table"
   ]
  },
  {
   "cell_type": "code",
   "execution_count": null,
   "id": "2043eb76",
   "metadata": {},
   "outputs": [],
   "source": [
    "neuron_replay_stats_table"
   ]
  },
  {
   "cell_type": "code",
   "execution_count": null,
   "id": "c95013ea",
   "metadata": {},
   "outputs": [],
   "source": [
    "neuron_identities_table"
   ]
  },
  {
   "cell_type": "code",
   "execution_count": null,
   "id": "5b8ced5f",
   "metadata": {},
   "outputs": [],
   "source": [
    "# np.sum(neuron_replay_stats_table['is_refined_LxC'])\n",
    "# np.isnan(neuron_replay_stats_table['is_refined_LxC'])"
   ]
  },
  {
   "cell_type": "code",
   "execution_count": null,
   "id": "f8615ac3",
   "metadata": {},
   "outputs": [],
   "source": [
    "# Options\n",
    "session_identifier_key: str = 'session_name'\n",
    "# session_identifier_key: str = 'session_datetime'\n",
    "\n",
    "## !IMPORTANT! Count of the fields of interest using .value_counts(...) and converting to an explicit pd.DataFrame:\n",
    "# _out_value_counts_df: pd.DataFrame = neuron_replay_stats_table.value_counts(subset=['format_name', 'animal', 'session_name', 'session_datetime','track_membership'], normalize=False, sort=False, ascending=True, dropna=True).reset_index()\n",
    "# _out_value_counts_df.columns = ['format_name', 'animal', 'session_name', 'session_datetime', 'track_membership', 'count']\n",
    "_out_value_counts_df: pd.DataFrame = neuron_replay_stats_table.value_counts(subset=['format_name', 'animal', 'session_name', 'session_datetime','track_membership','is_refined_LxC', 'is_refined_SxC'], normalize=False, sort=False, ascending=True, dropna=True).reset_index()\n",
    "_out_value_counts_df.columns = ['format_name', 'animal', 'session_name', 'session_datetime', 'track_membership', 'is_refined_LxC', 'is_refined_SxC', 'count']\n",
    "_out_value_counts_df"
   ]
  },
  {
   "cell_type": "code",
   "execution_count": null,
   "id": "6af57298",
   "metadata": {},
   "outputs": [],
   "source": [
    "## Find the time of the first session for each animal:\n",
    "first_session_time  = _out_value_counts_df.groupby(['animal']).agg(session_datetime_first=('session_datetime', 'first')).reset_index()\n",
    "\n",
    "## Subtract this initial time from all of the 'session_datetime' entries for each animal:\n",
    "# Merge the first session time back into the original DataFrame\n",
    "merged_df = pd.merge(_out_value_counts_df, first_session_time, on='animal')\n",
    "\n",
    "# Subtract this initial time from all of the 'session_datetime' entries for each animal\n",
    "merged_df['time_since_first_session'] = merged_df['session_datetime'] - merged_df['session_datetime_first']\n",
    "\n",
    "merged_df"
   ]
  },
  {
   "cell_type": "code",
   "execution_count": null,
   "id": "b25bb1f8",
   "metadata": {},
   "outputs": [],
   "source": [
    "import matplotlib.pyplot as plt\n",
    "\n",
    "point_size = 8\n",
    "df = _out_value_counts_df.copy()\n",
    "animals = df['animal'].unique()\n",
    "track_memberships = df['track_membership'].unique()\n",
    "\n",
    "fig, axes = plt.subplots(1, len(animals), figsize=(15, 5))\n",
    "\n",
    "for i, animal in enumerate(animals):\n",
    "\tax = axes[i]\n",
    "\tsubset_df = df[df['animal'] == animal]\n",
    "\t\n",
    "\tfor track_membership in track_memberships:\n",
    "\t\ttrack_subset_df = subset_df[subset_df['track_membership'] == track_membership]\n",
    "\t\tax.plot(track_subset_df['session_datetime'], track_subset_df['count'], label=f'Track: {track_membership}')\n",
    "\t\tax.scatter(track_subset_df['session_datetime'], track_subset_df['count'], s=point_size)\n",
    "\t\t\n",
    "\tax.set_title(f'Animal: {animal}')\n",
    "\tax.set_xlabel('Session Datetime')\n",
    "\tax.set_ylabel('Count')\n",
    "\tax.legend()\n",
    "\n",
    "plt.tight_layout()\n",
    "plt.show()"
   ]
  },
  {
   "cell_type": "code",
   "execution_count": null,
   "id": "94408ac4",
   "metadata": {},
   "outputs": [],
   "source": [
    "_out_value_counts_df"
   ]
  },
  {
   "cell_type": "code",
   "execution_count": null,
   "id": "784fcc04",
   "metadata": {},
   "outputs": [],
   "source": [
    "\n",
    "\n",
    "## See if the number of cells decreases over re-exposures to the track\n",
    "df = _out_value_counts_df[_out_value_counts_df['animal'] == 'gor01']\n",
    "# df = _out_value_counts_df[_out_value_counts_df['animal'] == 'pin01']\n",
    "# df = _out_value_counts_df[_out_value_counts_df['animal'] == 'vvp01']\n",
    "\n",
    "# Sort by column: 'session_datetime' (ascending)\n",
    "df = df.sort_values(['session_datetime'])\n",
    "\n",
    "'LEFT_ONLY'\n",
    "\n",
    "# df.to_clipboard(index=False)\n",
    "df"
   ]
  },
  {
   "cell_type": "code",
   "execution_count": null,
   "id": "d8a502f7",
   "metadata": {},
   "outputs": [],
   "source": [
    "## Get the number of cells in each session of the animal:\n",
    "num_LxCs = df[df['track_membership'] == 'LEFT_ONLY']['count'].to_numpy()\n",
    "num_Shared = df[df['track_membership'] == 'SHARED']['count'].to_numpy()\n",
    "num_SxCs = df[df['track_membership'] == 'RIGHT_ONLY']['count'].to_numpy()\n",
    "\n",
    "num_TotalCs = num_LxCs + num_Shared + num_SxCs\n",
    "num_TotalCs"
   ]
  },
  {
   "cell_type": "code",
   "execution_count": null,
   "id": "2feb3fa1",
   "metadata": {},
   "outputs": [],
   "source": [
    "# The only safe point to align each session to is the switchpoint (the delta):\n"
   ]
  },
  {
   "cell_type": "code",
   "execution_count": null,
   "id": "046bbce9",
   "metadata": {},
   "outputs": [],
   "source": [
    "# Each session can be expressed in terms of time from the start of the first session.\n"
   ]
  },
  {
   "cell_type": "code",
   "execution_count": null,
   "id": "a00d2419",
   "metadata": {},
   "outputs": [],
   "source": [
    "df.plot()\n"
   ]
  },
  {
   "cell_type": "code",
   "execution_count": null,
   "id": "56f99ff8",
   "metadata": {},
   "outputs": [],
   "source": [
    "\n",
    "from pyphoplacecellanalysis.General.Batch.AcrossSessionResults import AcrossSessionsVisualizations\n",
    "\n",
    "matplotlib_configuration_update(is_interactive=True, backend='Qt5Agg')\n",
    "graphics_output_dict = AcrossSessionsVisualizations.across_sessions_firing_rate_index_figure(long_short_fr_indicies_analysis_results=long_short_fr_indicies_analysis_table, num_sessions=num_sessions, save_figure=True)"
   ]
  },
  {
   "cell_type": "markdown",
   "id": "cadc1ac7-5771-4cd5-94c6-7a6244eb8217",
   "metadata": {
    "notebookRunGroups": {
     "groupValue": "2"
    },
    "tags": []
   },
   "source": [
    "## Extract output files from all completed sessions:"
   ]
  },
  {
   "cell_type": "code",
   "execution_count": null,
   "id": "47cb0cd9-3e60-4425-9351-dfc903f3f067",
   "metadata": {
    "notebookRunGroups": {
     "groupValue": "2"
    },
    "tags": []
   },
   "outputs": [],
   "source": [
    "from pyphocorehelpers.Filesystem.path_helpers import convert_filelist_to_new_parent\n",
    "\n",
    "def save_filelist_to_text_file(hdf5_output_paths, filelist_path: Path):\n",
    "    _out_string = '\\n'.join([str(a_file) for a_file in hdf5_output_paths])\n",
    "    print(f'{_out_string}')\n",
    "    print(f'saving out to \"{filelist_path}\"...')\n",
    "    with open(filelist_path, 'w') as f:\n",
    "        f.write(_out_string)\n",
    "    return _out_string, filelist_path\n",
    "\n",
    "# Save output filelist:\n",
    "\n",
    "# '/nfs/turbo/umms-kdiba/Data/KDIBA/gor01/one/2006-6-09_1-22-43/output/pipeline_results.h5'\n",
    "\n",
    "# kdiba_vvp01_two_2006-4-10_12-58-3\n",
    "# \toutputs_local ={'pkl': PosixPath('/nfs/turbo/umms-kdiba/Data/KDIBA/vvp01/two/2006-4-10_12-58-3/loadedSessPickle.pkl')}\n",
    "# \toutputs_global ={'pkl': PosixPath('/nfs/turbo/umms-kdiba/Data/KDIBA/vvp01/two/2006-4-10_12-58-3/output/global_computation_results.pkl'), 'hdf5': PosixPath('/nfs/turbo/umms-kdiba/Data/KDIBA/vvp01/two/2006-4-10_12-58-3/output/pipeline_results.h5')}\n",
    "session_identifiers, pkl_output_paths, hdf5_output_paths = global_batch_run.build_output_files_lists()\n",
    "\n",
    "h5_filelist_path = global_data_root_parent_path.joinpath(f'fileList_Greatlakes_HDF5_{BATCH_DATE_TO_USE}.txt').resolve()\n",
    "_out_string, src_filelist_HDF5_savepath = save_filelist_to_text_file(hdf5_output_paths, h5_filelist_path)\n",
    "\n",
    "pkls_filelist_path = global_data_root_parent_path.joinpath(f'fileList_Greatlakes_pkls_{BATCH_DATE_TO_USE}.txt').resolve()\n",
    "_out_string, src_filelist_pkls_savepath = save_filelist_to_text_file(pkl_output_paths, pkls_filelist_path)\n",
    "\n",
    "# source_parent_path = Path(r'/media/MAX/cloud/turbo/Data')\n",
    "source_parent_path = Path(r'/nfs/turbo/umms-kdiba/Data')\n",
    "dest_parent_path = Path(r'/~/W/Data/')\n",
    "# # Build the destination filelist from the source_filelist and the two paths:\n",
    "filelist_source = hdf5_output_paths\n",
    "filelist_dest_paths = convert_filelist_to_new_parent(filelist_source, original_parent_path=source_parent_path, dest_parent_path=dest_parent_path)\n",
    "filelist_dest_paths\n",
    "\n",
    "dest_Apogee_h5_filelist_path = global_data_root_parent_path.joinpath(f'dest_fileList_Apogee_{BATCH_DATE_TO_USE}.txt').resolve()\n",
    "_out_string, dest_filelist_savepath = save_filelist_to_text_file(filelist_dest_paths, dest_Apogee_h5_filelist_path)"
   ]
  },
  {
   "cell_type": "code",
   "execution_count": null,
   "id": "3a8e69a3",
   "metadata": {
    "notebookRunGroups": {
     "groupValue": "2"
    },
    "scrolled": true,
    "tags": []
   },
   "outputs": [],
   "source": [
    "from pyphoplacecellanalysis.General.Batch.runBatch import PipelineCompletionResult\n",
    "from neuropy.core.epoch import Epoch\n",
    "\n",
    "# Save to HDF5\n",
    "suffix = f'{BATCH_DATE_TO_USE}'\n",
    "## Build Pickle Path:\n",
    "file_path = global_data_root_parent_path.joinpath(f'global_batch_output_{suffix}.h5').resolve()\n",
    "file_path\n",
    "global_batch_run.to_hdf(file_path,'/')"
   ]
  },
  {
   "cell_type": "code",
   "execution_count": null,
   "id": "282ce774-98fb-4e69-a7e2-e94cbff1b0b5",
   "metadata": {
    "tags": []
   },
   "outputs": [],
   "source": [
    "# Get only the sessions with non-None results\n",
    "sessions_with_results = [a_ctxt for a_ctxt, a_result in global_batch_run.session_batch_outputs.items() if a_result is not None]\n",
    "\n",
    "# list(global_batch_run.session_batch_outputs.keys())\n",
    "\n",
    "# Somewhere in there there are `InstantaneousSpikeRateGroupsComputation` results to extract\n",
    "across_sessions_instantaneous_fr_dict = {} # InstantaneousSpikeRateGroupsComputation\n",
    "\n",
    "# good_session_batch_outputs = global_batch_run.session_batch_outputs\n",
    "\n",
    "sessions_with_results = [a_ctxt for a_ctxt, a_result in global_batch_run.session_batch_outputs.items() if a_result is not None]\n",
    "good_session_batch_outputs = {a_ctxt:a_result for a_ctxt, a_result in global_batch_run.session_batch_outputs.items() if a_result is not None}\n",
    "\n",
    "for a_ctxt, a_result in good_session_batch_outputs.items():\n",
    "    if a_result is not None:\n",
    "        # a_good_result = a_result.__dict__.get('across_sessions_batch_results', {}).get('inst_fr_comps', None)\n",
    "        a_good_result = a_result.across_session_results.get('inst_fr_comps', None)\n",
    "        if a_good_result is not None:\n",
    "            across_sessions_instantaneous_fr_dict[a_ctxt] = a_good_result\n",
    "            # print(a_result['across_sessions_batch_results']['inst_fr_comps'])\n",
    "            \n",
    "num_sessions = len(across_sessions_instantaneous_fr_dict)\n",
    "print(f'num_sessions: {num_sessions}')\n",
    "\n",
    "# When done, `result_handler.across_sessions_instantaneous_fr_dict` is now equivalent to what it would have been before. It can be saved using the normal `.save_across_sessions_data(...)`\n",
    "\n",
    "## Save the instantaneous firing rate results dict: (# Dict[IdentifyingContext] = InstantaneousSpikeRateGroupsComputation)\n",
    "AcrossSessionsResults.save_across_sessions_data(across_sessions_instantaneous_fr_dict=across_sessions_instantaneous_fr_dict, global_data_root_parent_path=global_data_root_parent_path, inst_fr_output_filename=f'across_session_result_long_short_inst_firing_rate_{BATCH_DATE_TO_USE}.pkl')\n",
    "\n",
    "# ## Save pickle:\n",
    "# inst_fr_output_filename=f'across_session_result_long_short_inst_firing_rate_{BATCH_DATE_TO_USE}.pkl'\n",
    "# global_batch_result_inst_fr_file_path = Path(global_data_root_parent_path).joinpath(inst_fr_output_filename).resolve() # Use Default\n",
    "# print(f'global_batch_result_inst_fr_file_path: {global_batch_result_inst_fr_file_path}')\n",
    "# # Save the all sessions instantaneous firing rate dict to the path:\n",
    "# saveData(global_batch_result_inst_fr_file_path, across_sessions_instantaneous_fr_dict)"
   ]
  },
  {
   "cell_type": "code",
   "execution_count": null,
   "id": "04591a82",
   "metadata": {},
   "outputs": [],
   "source": [
    "BATCH_DATE_TO_USE"
   ]
  },
  {
   "cell_type": "code",
   "execution_count": null,
   "id": "c60d19a7-5a89-43f1-aa33-3a7450d1f965",
   "metadata": {
    "tags": []
   },
   "outputs": [],
   "source": [
    "across_sessions_instantaneous_fr_dict"
   ]
  },
  {
   "cell_type": "code",
   "execution_count": null,
   "id": "e178426c-54df-47ac-8103-a66f114c77e5",
   "metadata": {
    "tags": []
   },
   "outputs": [],
   "source": [
    "[a_ctxt.get_initialization_code_string() for a_ctxt in sessions_with_results]"
   ]
  },
  {
   "cell_type": "markdown",
   "id": "28828512",
   "metadata": {},
   "source": [
    "# OLD"
   ]
  },
  {
   "cell_type": "markdown",
   "id": "be651cc7",
   "metadata": {
    "tags": []
   },
   "source": [
    "# 2023-10-04 - Load Saved across-sessions-data and testing Batch-computed inst_firing_rates:"
   ]
  },
  {
   "cell_type": "code",
   "execution_count": null,
   "id": "28ad5bf6",
   "metadata": {},
   "outputs": [],
   "source": [
    "# from neuropy.utils.matplotlib_helpers import matplotlib_configuration_update\n",
    "# from pyphoplacecellanalysis.General.Batch.PhoDiba2023Paper import PaperFigureTwo, InstantaneousSpikeRateGroupsComputation\n",
    "# from pyphoplacecellanalysis.General.Pipeline.Stages.ComputationFunctions.SpikeAnalysis import SpikeRateTrends\n",
    "# from pyphoplacecellanalysis.General.Batch.PhoDiba2023Paper import list_of_dicts_to_dict_of_lists\n",
    "from pyphoplacecellanalysis.General.Batch.AcrossSessionResults import AcrossSessionsResults, AcrossSessionsVisualizations\n"
   ]
  },
  {
   "cell_type": "code",
   "execution_count": null,
   "id": "34549c8f",
   "metadata": {},
   "outputs": [],
   "source": [
    "\n",
    "## Load the saved across-session results:\n",
    "# inst_fr_output_filename = 'long_short_inst_firing_rate_result_handlers_2023-07-12.pkl'\n",
    "# inst_fr_output_filename = 'across_session_result_long_short_inst_firing_rate.pkl'\n",
    "# inst_fr_output_filename='across_session_result_long_short_inst_firing_rate_2023-07-21.pkl'\n",
    "# inst_fr_output_filename=f'across_session_result_handler_{BATCH_DATE_TO_USE}.pkl'\n",
    "# inst_fr_output_filename='across_session_result_long_short_inst_firing_rate_2023-08-09_Test.pkl'\n",
    "# inst_fr_output_filename='across_session_result_long_short_inst_firing_rate_2023-10-04-GL.pkl'\n",
    "inst_fr_output_filename='across_session_result_long_short_recomputed_inst_firing_rate_2023-10-04-GL-Recomp.pkl'\n",
    "across_session_inst_fr_computation, across_sessions_instantaneous_fr_dict, across_sessions_instantaneous_frs_list = AcrossSessionsResults.load_across_sessions_data(global_data_root_parent_path=global_data_root_parent_path, inst_fr_output_filename=inst_fr_output_filename)\n",
    "# across_sessions_instantaneous_fr_dict = loadData(global_batch_result_inst_fr_file_path)\n",
    "num_sessions = len(across_sessions_instantaneous_fr_dict)\n",
    "print(f'num_sessions: {num_sessions}')"
   ]
  },
  {
   "cell_type": "code",
   "execution_count": null,
   "id": "0abea5de",
   "metadata": {},
   "outputs": [],
   "source": [
    "from pyphoplacecellanalysis.General.Batch.AcrossSessionResults import AcrossSessionTables\n",
    " \n",
    "## Load all across-session tables from the pickles:\n",
    "neuron_identities_table, long_short_fr_indicies_analysis_table, neuron_replay_stats_table = AcrossSessionTables.load_all_combined_tables(override_output_parent_path=global_data_root_parent_path, output_path_suffix=f'2023-10-04-GL-Recomp')\n",
    "num_sessions = len(neuron_replay_stats_table.session_uid.unique().to_numpy())\n",
    "print(f'num_sessions: {num_sessions}')"
   ]
  },
  {
   "cell_type": "code",
   "execution_count": null,
   "id": "cf2a4bbb",
   "metadata": {},
   "outputs": [],
   "source": [
    "long_short_fr_indicies_analysis_table"
   ]
  },
  {
   "cell_type": "code",
   "execution_count": null,
   "id": "db4ac006",
   "metadata": {},
   "outputs": [],
   "source": [
    "from neuropy.core.user_annotations import UserAnnotationsManager, SessionCellExclusivityRecord\n",
    "from neuropy.utils.result_context import IdentifyingContext\n",
    "\n",
    "\n",
    "\n",
    "# for a_ctx, a_val in annotation_man.get_hardcoded_specific_session_override_dict().items():\n",
    "# \tannotation_man.annotations[a_ctx] = a_val\n",
    "\n",
    "# for a_ctx, a_val in UserAnnotationsManager.get_user_annotations().items():\n",
    "# \tannotation_man.annotations[a_ctx] = a_val\n",
    "\n",
    "# for a_ctx, a_val in session_cell_exclusivity_annotations.items():\n",
    "# \t# Not ideal. Adds a key 'session_cell_exclusivity' to the extant session context instead of being indexable by an entirely new context\n",
    "# \tannotation_man.annotations[a_ctx] = annotation_man.annotations.get(a_ctx, {}) | dict(session_cell_exclusivity=a_val)\n",
    "# \t# annotation_man.annotations[a_ctx.overwriting_context(user_annotation='session_cell_exclusivity')] = a_val\n",
    "\n",
    "annotation_man = UserAnnotationsManager()\n",
    "\n",
    "LxC_uids = []\n",
    "SxC_uids = []\n",
    "\n",
    "\n",
    "for a_ctxt in included_session_contexts:\n",
    "\tsession_uid = a_ctxt.get_description(separator=\"|\", include_property_names=False)\n",
    "\tsession_uid\n",
    "\tsession_cell_exclusivity: SessionCellExclusivityRecord = annotation_man.annotations[a_ctxt].get('session_cell_exclusivity', None)\n",
    "\tLxC_uids.extend([f\"{session_uid}|{aclu}\" for aclu in session_cell_exclusivity.LxC])\n",
    "\tSxC_uids.extend([f\"{session_uid}|{aclu}\" for aclu in session_cell_exclusivity.SxC])\n",
    "\t\n",
    "# [a_ctxt.get_description(separator=\"|\", include_property_names=False) for a_ctxt in included_session_contexts]\n",
    "\n",
    "long_short_fr_indicies_analysis_table['XxC_status'] = 'Shared'\n",
    "long_short_fr_indicies_analysis_table.loc[np.isin(long_short_fr_indicies_analysis_table.neuron_uid, LxC_uids), 'XxC_status'] = 'LxC'\n",
    "long_short_fr_indicies_analysis_table.loc[np.isin(long_short_fr_indicies_analysis_table.neuron_uid, SxC_uids), 'XxC_status'] = 'SxC'\n",
    "\n",
    "long_short_fr_indicies_analysis_table"
   ]
  },
  {
   "cell_type": "code",
   "execution_count": null,
   "id": "c5cf8735",
   "metadata": {},
   "outputs": [],
   "source": [
    "# Filter rows based on column: 'x_frs_index'\n",
    "filtered_long_short_fr_indicies_analysis_table = long_short_fr_indicies_analysis_table[long_short_fr_indicies_analysis_table['x_frs_index'].abs() > 0.8]\n",
    "filtered_long_short_fr_indicies_analysis_table"
   ]
  },
  {
   "cell_type": "markdown",
   "id": "0e9987dc",
   "metadata": {},
   "source": [
    " #TODO 2023-10-05 11:40: - [ ] Extract the \"contrarian cells\", the ones that have a strong exclusivity on the laps but the opposite tendency on the replays\n"
   ]
  },
  {
   "cell_type": "code",
   "execution_count": null,
   "id": "ea02dec9",
   "metadata": {},
   "outputs": [],
   "source": []
  },
  {
   "cell_type": "markdown",
   "id": "f81081ea",
   "metadata": {},
   "source": []
  },
  {
   "cell_type": "code",
   "execution_count": null,
   "id": "ce13554d",
   "metadata": {},
   "outputs": [],
   "source": [
    "long_short_fr_indicies_analysis_table.to_csv('output/2023-10-06_long_short_fr_indicies_analysis_table.csv')"
   ]
  },
  {
   "cell_type": "markdown",
   "id": "a24ea5a5",
   "metadata": {},
   "source": [
    "## 2023-10-04 - Run `AcrossSessionsVisualizations` corresponding to the PhoDibaPaper2023 figures for all sessions\n"
   ]
  },
  {
   "cell_type": "code",
   "execution_count": null,
   "id": "7cc1152c",
   "metadata": {
    "tags": []
   },
   "outputs": [],
   "source": [
    "## Hacks the `PaperFigureTwo` and `InstantaneousSpikeRateGroupsComputation` \n",
    "global_multi_session_context, _out_aggregate_fig_2 = AcrossSessionsVisualizations.across_sessions_bar_graphs(across_session_inst_fr_computation, num_sessions, enable_tiny_point_labels=False, enable_hover_labels=False)\n"
   ]
  },
  {
   "cell_type": "code",
   "execution_count": null,
   "id": "c437e42f",
   "metadata": {},
   "outputs": [],
   "source": [
    "from pyphoplacecellanalysis.General.Batch.AcrossSessionResults import AcrossSessionsVisualizations\n",
    "\n",
    "matplotlib_configuration_update(is_interactive=True, backend='Qt5Agg')\n",
    "graphics_output_dict = AcrossSessionsVisualizations.across_sessions_firing_rate_index_figure(long_short_fr_indicies_analysis_results=long_short_fr_indicies_analysis_table, num_sessions=num_sessions, save_figure=True)\n"
   ]
  },
  {
   "cell_type": "code",
   "execution_count": null,
   "id": "ff34b020",
   "metadata": {},
   "outputs": [],
   "source": [
    "matplotlib_configuration_update(is_interactive=True, backend='Qt5Agg')\n",
    "graphics_output_dict = AcrossSessionsVisualizations.across_sessions_long_and_short_firing_rate_replays_v_laps_figure(neuron_replay_stats_table=neuron_replay_stats_table, num_sessions=num_sessions, save_figure=True)\n"
   ]
  },
  {
   "cell_type": "code",
   "execution_count": null,
   "id": "00dd481a",
   "metadata": {},
   "outputs": [],
   "source": [
    "ann_man = UserAnnotationsManager()\n",
    "included_annotations = {ctxt:ann_man.annotations[ctxt].get('session_cell_exclusivity', None) for ctxt in included_session_contexts}\n",
    "\n",
    "all_LxCs = []\n",
    "all_SxCs = []\n",
    "\n",
    "for ctxt, an_ann in included_annotations.items():\n",
    "\tsession_ctxt_key:str = ctxt.get_description(separator='|', subset_includelist=IdentifyingContext._get_session_context_keys())\n",
    "\tall_LxCs.extend([f\"{session_ctxt_key}|{aclu}\" for aclu in an_ann.LxC])\n",
    "\tall_SxCs.extend([f\"{session_ctxt_key}|{aclu}\" for aclu in an_ann.SxC])\n",
    "\t\n",
    "all_LxCs"
   ]
  },
  {
   "cell_type": "code",
   "execution_count": null,
   "id": "c1222a17",
   "metadata": {},
   "outputs": [],
   "source": [
    "all_SxCs"
   ]
  },
  {
   "cell_type": "code",
   "execution_count": null,
   "id": "f68415b0",
   "metadata": {},
   "outputs": [],
   "source": [
    "# np.sum(neuron_replay_stats_table['is_refined_LxC'].astype(bool))\n",
    "refined_only_neuron_replay_stats_table = deepcopy(neuron_replay_stats_table).dropna(subset=['is_refined_LxC','is_refined_SxC']) # 887 rows\n",
    "refined_only_neuron_replay_stats_table = refined_only_neuron_replay_stats_table.drop_duplicates(subset=['neuron_uid'], keep='last') # subset=['format_name', 'animal', 'exper_name', 'session_name', 'aclu'])\n",
    "refined_only_neuron_replay_stats_table"
   ]
  },
  {
   "cell_type": "code",
   "execution_count": null,
   "id": "80bee4e0",
   "metadata": {},
   "outputs": [],
   "source": [
    "# _out_aggregate_fig_2\n"
   ]
  },
  {
   "cell_type": "code",
   "execution_count": null,
   "id": "1381fcf5",
   "metadata": {
    "notebookRunGroups": {
     "groupValue": "1"
    }
   },
   "outputs": [],
   "source": [
    "across_session_inst_fr_computation.LxC_scatter_props\n",
    "across_session_inst_fr_computation.SxC_scatter_props"
   ]
  },
  {
   "cell_type": "code",
   "execution_count": null,
   "id": "80db1ccc",
   "metadata": {},
   "outputs": [],
   "source": [
    "from pyphoplacecellanalysis.General.Batch.AcrossSessionResults import AcrossSessionsResults, InstantaneousFiringRatesDataframeAccessor, InstantaneousSpikeRateGroupsComputation, trackMembershipTypesEnum, trackExclusiveToMembershipTypeDict, trackExclusiveToMembershipTypeReverseDict\n",
    "\n",
    "## Specify the output file:\n",
    "common_file_path = Path('output/test_across_session_scatter_plot_new.h5')\n",
    "print(f'common_file_path: {common_file_path}')\n",
    "InstantaneousFiringRatesDataframeAccessor.add_results_to_inst_fr_results_table(curr_active_pipeline, common_file_path, file_mode='a')"
   ]
  },
  {
   "cell_type": "code",
   "execution_count": null,
   "id": "8e45d728",
   "metadata": {},
   "outputs": [],
   "source": []
  },
  {
   "cell_type": "code",
   "execution_count": null,
   "id": "d446874f",
   "metadata": {},
   "outputs": [],
   "source": [
    "# Build the unique scatter plot dictionaries:\n",
    "across_session_contexts = list(across_sessions_instantaneous_fr_dict.keys())\n",
    "unique_animals = IdentifyingContext.find_unique_values(across_session_contexts)['animal'] # {'gor01', 'pin01', 'vvp01'}\n",
    "# Get number of animals to plot\n",
    "marker_list = [(5, i) for i in np.arange(len(unique_animals))] # [(5, 0), (5, 1), (5, 2)]\n",
    "scatter_props = [{'marker': mkr} for mkr in marker_list]  # Example, you should provide your own scatter properties\n",
    "scatter_props_dict = dict(zip(unique_animals, scatter_props))\n",
    "# {'pin01': {'marker': (5, 0)},\n",
    "#  'gor01': {'marker': (5, 1)},\n",
    "#  'vvp01': {'marker': (5, 2)}}\n",
    "scatter_props_dict\n",
    "\n",
    "# Pass a function that will return a set of kwargs for a given context\n",
    "def _return_scatter_props_fn(ctxt: IdentifyingContext):\n",
    "\t\"\"\" captures `scatter_props_dict` \"\"\"\n",
    "\tanimal_id = str(ctxt.animal)\n",
    "\treturn scatter_props_dict[animal_id]\n",
    "\t\n"
   ]
  },
  {
   "cell_type": "code",
   "execution_count": null,
   "id": "63258151",
   "metadata": {},
   "outputs": [],
   "source": [
    "## Aggregate across all of the sessions to build a new combined `InstantaneousSpikeRateGroupsComputation`, which can be used to plot the \"PaperFigureTwo\", bar plots for many sessions.\n",
    "global_multi_session_context = IdentifyingContext(format_name='kdiba', num_sessions=num_sessions) # some global context across all of the sessions, not sure what to put here.\n",
    "\n",
    "# To correctly aggregate results across sessions, it only makes sense to combine entries at the `.cell_agg_inst_fr_list` variable and lower (as the number of cells can be added across sessions, treated as unique for each session).\n",
    "\n",
    "## Display the aggregate across sessions:\n",
    "_out_fig_2 = PaperFigureTwo(instantaneous_time_bin_size_seconds=0.01) # WARNING: we didn't save this info\n",
    "_out_fig_2.computation_result = across_session_inst_fr_computation # the result loaded from the file\n",
    "_out_fig_2.active_identifying_session_ctx = across_session_inst_fr_computation.active_identifying_session_ctx\n",
    "# Set callback, the only self-specific property\n",
    "# _out_fig_2._pipeline_file_callback_fn = curr_active_pipeline.output_figure # lambda args, kwargs: self.write_to_file(args, kwargs, curr_active_pipeline)\n",
    "_out_fig_2.scatter_props_fn = _return_scatter_props_fn"
   ]
  },
  {
   "cell_type": "code",
   "execution_count": null,
   "id": "50e9d06b",
   "metadata": {},
   "outputs": [],
   "source": [
    "LxC_aclus = _out_fig_2.computation_result.LxC_aclus\n",
    "SxC_aclus = _out_fig_2.computation_result.SxC_aclus\n",
    "\n",
    "LxC_aclus"
   ]
  },
  {
   "cell_type": "code",
   "execution_count": null,
   "id": "96c498f8",
   "metadata": {},
   "outputs": [],
   "source": [
    "from pyphoplacecellanalysis.General.Mixins.ExportHelpers import FigureOutputManager, FigureOutputLocation, ContextToPathMode\n",
    "\n",
    "registered_output_files = {}\n",
    "\n",
    "def output_figure(final_context: IdentifyingContext, fig, write_vector_format:bool=False, write_png:bool=True, debug_print=True):\n",
    "    \"\"\" outputs the figure using the provided context. \"\"\"\n",
    "    from pyphoplacecellanalysis.General.Mixins.ExportHelpers import build_and_write_to_file\n",
    "    def register_output_file(output_path, output_metadata=None):\n",
    "        \"\"\" registers a new output file for the pipeline \"\"\"\n",
    "        print(f'register_output_file(output_path: {output_path}, ...)')\n",
    "        registered_output_files[output_path] = output_metadata or {}\n",
    "\n",
    "    fig_out_man = FigureOutputManager(figure_output_location=FigureOutputLocation.DAILY_PROGRAMMATIC_OUTPUT_FOLDER, context_to_path_mode=ContextToPathMode.HIERARCHY_UNIQUE)\n",
    "    active_out_figure_paths = build_and_write_to_file(fig, final_context, fig_out_man, write_vector_format=write_vector_format, write_png=write_png, register_output_file_fn=register_output_file)\n",
    "    return active_out_figure_paths, final_context\n",
    "\n",
    "\n",
    "# Set callback, the only self-specific property\n",
    "_out_fig_2._pipeline_file_callback_fn = output_figure"
   ]
  },
  {
   "cell_type": "code",
   "execution_count": null,
   "id": "1db0f1d5",
   "metadata": {},
   "outputs": [],
   "source": [
    "_out_fig_2.computation_result.Fig2_Laps_FR"
   ]
  },
  {
   "cell_type": "code",
   "execution_count": null,
   "id": "da17b920",
   "metadata": {},
   "outputs": [],
   "source": []
  },
  {
   "cell_type": "code",
   "execution_count": null,
   "id": "17ef9f3d",
   "metadata": {},
   "outputs": [],
   "source": [
    "_out_fig_2.computation_result.Fig2_Laps_FR"
   ]
  },
  {
   "cell_type": "code",
   "execution_count": null,
   "id": "a694ec1c",
   "metadata": {},
   "outputs": [],
   "source": [
    "# Showing\n",
    "restore_previous_matplotlib_settings_callback = matplotlib_configuration_update(is_interactive=True, backend='Qt5Agg')\n",
    "# Perform interactive Matplotlib operations with 'Qt5Agg' backend\n",
    "_fig_2_theta_out, _fig_2_replay_out = _out_fig_2.display(active_context=global_multi_session_context, title_modifier_fn=lambda original_title: f\"{original_title} ({num_sessions} sessions)\", save_figure=True)\n",
    "\t\n",
    "_out_fig_2.perform_save()"
   ]
  },
  {
   "cell_type": "markdown",
   "id": "32781c8b",
   "metadata": {
    "jp-MarkdownHeadingCollapsed": true,
    "tags": []
   },
   "source": [
    "### Single Session testing:\n"
   ]
  },
  {
   "cell_type": "code",
   "execution_count": null,
   "id": "9311a987",
   "metadata": {},
   "outputs": [],
   "source": [
    "_test_out = global_batch_run.execute_session(session_context=curr_sess_context, force_reload=True, skip_extended_batch_computations=True, computation_functions_name_includelist =['_perform_baseline_placefield_computation'], active_session_computation_configs=None) # can override `active_session_computation_configs` if we want to set custom ones like only the laps.)\n",
    "_test_out\n",
    "\n",
    "# global_batch_run.execute_session(session_context=curr_sess_context, force_reload=True, skip_extended_batch_computations=True, **{'computation_functions_name_includelist': ['_perform_baseline_placefield_computation'], 'active_session_computation_configs': None}) # can override `active_session_computation_configs` if we want to set custom ones like only the laps.)\n",
    "\n",
    "# 23.5s"
   ]
  },
  {
   "cell_type": "code",
   "execution_count": null,
   "id": "ddf2bb67",
   "metadata": {
    "tags": []
   },
   "outputs": [],
   "source": [
    "\n",
    "full_good_dirs = [k for k, v in global_batch_run.session_batch_errors.items() if v is None]\n",
    "bad_dirs = [k for k, v in global_batch_run.session_batch_errors.items() if v is not None]\n",
    "full_good_dirs\n",
    "bad_dirs"
   ]
  },
  {
   "cell_type": "code",
   "execution_count": null,
   "id": "9d5f73f9",
   "metadata": {
    "tags": []
   },
   "outputs": [],
   "source": [
    "global_batch_run.session_batch_status"
   ]
  },
  {
   "cell_type": "code",
   "execution_count": null,
   "id": "0dcad70a",
   "metadata": {},
   "outputs": [],
   "source": [
    "global_batch_run.session_batch_status\n",
    "global_batch_run.session_batch_errors"
   ]
  },
  {
   "cell_type": "markdown",
   "id": "15faf2bb",
   "metadata": {
    "jp-MarkdownHeadingCollapsed": true,
    "tags": []
   },
   "source": [
    "## Get good sessions for use in the specific session processing notebook:"
   ]
  },
  {
   "cell_type": "code",
   "execution_count": null,
   "id": "ed516134",
   "metadata": {
    "tags": []
   },
   "outputs": [],
   "source": [
    "batch_progress_df = global_batch_run.to_dataframe(expand_context=True, good_only=False) # all\n",
    "good_only_batch_progress_df = global_batch_run.to_dataframe(expand_context=True, good_only=True)\n",
    "good_only_batch_progress_df"
   ]
  },
  {
   "cell_type": "code",
   "execution_count": null,
   "id": "bdf02efc",
   "metadata": {
    "tags": []
   },
   "outputs": [],
   "source": [
    "## Get the list of sessions that are completely ready to process:\n",
    "full_good_ready_to_process_sessions = list(good_only_batch_progress_df['context'].to_numpy())\n",
    "full_good_ready_to_process_sessions\n",
    "# Get good sessions for use in the specific session processing notebook:"
   ]
  },
  {
   "cell_type": "code",
   "execution_count": null,
   "id": "8f1ad809",
   "metadata": {
    "tags": []
   },
   "outputs": [],
   "source": [
    "run[\"good_sessions_list\"].extend(full_good_ready_to_process_sessions)"
   ]
  },
  {
   "cell_type": "code",
   "execution_count": null,
   "id": "c636e3b9",
   "metadata": {
    "tags": []
   },
   "outputs": [],
   "source": [
    "run.stop()\n",
    "project.stop()"
   ]
  },
  {
   "cell_type": "code",
   "execution_count": null,
   "id": "8caf1322",
   "metadata": {
    "tags": []
   },
   "outputs": [],
   "source": [
    "\n",
    "print(\",\\n\".join([ctx.get_initialization_code_string() for ctx in full_good_ready_to_process_sessions])) # List definitions\n",
    "\n",
    "# [IdentifyingContext(format_name='kdiba',animal='gor01',exper_name='one',session_name='2006-6-08_14-26-15'),\n",
    "# IdentifyingContext(format_name='kdiba',animal='gor01',exper_name='one',session_name='2006-6-09_1-22-43'),\n",
    "# IdentifyingContext(format_name='kdiba',animal='gor01',exper_name='one',session_name='2006-6-12_15-55-31'),\n",
    "# IdentifyingContext(format_name='kdiba',animal='gor01',exper_name='one',session_name='2006-6-13_14-42-6'),\n",
    "# IdentifyingContext(format_name='kdiba',animal='gor01',exper_name='two',session_name='2006-6-07_16-40-19'),\n",
    "# IdentifyingContext(format_name='kdiba',animal='gor01',exper_name='two',session_name='2006-6-12_16-53-46'),\n",
    "# IdentifyingContext(format_name='kdiba',animal='vvp01',exper_name='one',session_name='2006-4-09_17-29-30')]"
   ]
  },
  {
   "cell_type": "code",
   "execution_count": null,
   "id": "ee5a4bfe",
   "metadata": {
    "tags": []
   },
   "outputs": [],
   "source": [
    "print(\"\\ncurr_context = \".join([ctx.get_initialization_code_string() for ctx in full_good_ready_to_process_sessions])) # Line definitions\n",
    "\n",
    "# curr_context = IdentifyingContext(format_name='kdiba',animal='gor01',exper_name='one',session_name='2006-6-08_14-26-15')\n",
    "# curr_context = IdentifyingContext(format_name='kdiba',animal='gor01',exper_name='one',session_name='2006-6-09_1-22-43')\n",
    "# curr_context = IdentifyingContext(format_name='kdiba',animal='gor01',exper_name='one',session_name='2006-6-12_15-55-31')\n",
    "# curr_context = IdentifyingContext(format_name='kdiba',animal='gor01',exper_name='one',session_name='2006-6-13_14-42-6')\n",
    "# curr_context = IdentifyingContext(format_name='kdiba',animal='gor01',exper_name='two',session_name='2006-6-07_16-40-19')\n",
    "# curr_context = IdentifyingContext(format_name='kdiba',animal='gor01',exper_name='two',session_name='2006-6-12_16-53-46')\n",
    "# curr_context = IdentifyingContext(format_name='kdiba',animal='vvp01',exper_name='one',session_name='2006-4-09_17-29-30')"
   ]
  },
  {
   "cell_type": "code",
   "execution_count": null,
   "id": "e5689d1d-6400-4f87-be0e-a184a1d5bee4",
   "metadata": {
    "tags": []
   },
   "outputs": [],
   "source": [
    "good_only_batch_progress_df"
   ]
  },
  {
   "cell_type": "code",
   "execution_count": null,
   "id": "7c82aedf-b024-4f07-b1a9-350730b4db8c",
   "metadata": {
    "tags": []
   },
   "outputs": [],
   "source": [
    "from datetime import datetime\n",
    "\n",
    "# datetime object containing current date and time\n",
    "save_time = datetime.now()\n",
    " \n",
    "print(\"save_time =\", save_time)\n",
    "\n",
    "# dd/mm/YY H:M:S\n",
    "dt_string = save_time.strftime(\"%Y-%m-%d_%I-%M%p\")\n",
    "print(\"date and time =\", dt_string)"
   ]
  },
  {
   "cell_type": "code",
   "execution_count": null,
   "id": "ac7bc6bd-5b34-41d0-b906-b0ad9927b08d",
   "metadata": {
    "tags": []
   },
   "outputs": [],
   "source": [
    "## Get output file paths:\n",
    "completed_pipeline_filename = 'loadedSessPickle.pkl'\n",
    "completed_global_computations_filename = 'outputs/global_computation_results.pkl'\n",
    "\n",
    "full_good_ready_to_process_session_paths = list(good_only_batch_progress_df['basedirs'].to_numpy())\n",
    "session_paths_output_folders = [sess_path.joinpath('outputs').resolve() for sess_path in full_good_ready_to_process_session_paths]\n",
    "\n",
    "completed_pipeline_file_paths = [sess_path.joinpath(completed_pipeline_filename).resolve() for sess_path in full_good_ready_to_process_session_paths]\n",
    "completed_global_computations_file_paths = [sess_path.joinpath(completed_global_computations_filename).resolve() for sess_path in full_good_ready_to_process_session_paths]\n",
    "completed_global_computations_file_paths"
   ]
  },
  {
   "cell_type": "code",
   "execution_count": null,
   "id": "8ab75122",
   "metadata": {},
   "outputs": [],
   "source": [
    "# Countable Additivity \n",
    "# Any countable collections of points is size 0\n",
    "\n"
   ]
  },
  {
   "cell_type": "code",
   "execution_count": null,
   "id": "2af06e5e",
   "metadata": {},
   "outputs": [],
   "source": []
  }
 ],
 "metadata": {
  "kernelspec": {
   "display_name": "Python 3 (ipykernel)",
   "language": "python",
   "name": "python3"
  },
  "language_info": {
   "codemirror_mode": {
    "name": "ipython",
    "version": 3
   },
   "file_extension": ".py",
   "mimetype": "text/x-python",
   "name": "python",
   "nbconvert_exporter": "python",
   "pygments_lexer": "ipython3",
   "version": "3.9.12"
  },
  "toc-showmarkdowntxt": false,
  "toc-showtags": false
 },
 "nbformat": 4,
 "nbformat_minor": 5
}
